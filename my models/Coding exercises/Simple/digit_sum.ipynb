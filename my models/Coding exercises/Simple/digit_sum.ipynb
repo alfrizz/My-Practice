{
 "cells": [
  {
   "cell_type": "code",
   "execution_count": 7,
   "id": "241233df-8288-4781-8d90-c4cd7546c788",
   "metadata": {},
   "outputs": [],
   "source": [
    "def digit_sum(number):\n",
    "    sum = 0\n",
    "    for digit in range(1, len(str(number))+1):\n",
    "        sum+=digit\n",
    "    return sum"
   ]
  },
  {
   "cell_type": "code",
   "execution_count": 9,
   "id": "7e77b2b4-da06-4298-98b5-b9437c7eaa52",
   "metadata": {},
   "outputs": [
    {
     "data": {
      "text/plain": [
       "21"
      ]
     },
     "execution_count": 9,
     "metadata": {},
     "output_type": "execute_result"
    }
   ],
   "source": [
    "digit_sum(123456)"
   ]
  },
  {
   "cell_type": "code",
   "execution_count": null,
   "id": "c5025e8a-6791-4146-9ea9-5363a31aee57",
   "metadata": {},
   "outputs": [],
   "source": []
  }
 ],
 "metadata": {
  "kernelspec": {
   "display_name": "Py309",
   "language": "python",
   "name": "py309"
  },
  "language_info": {
   "codemirror_mode": {
    "name": "ipython",
    "version": 3
   },
   "file_extension": ".py",
   "mimetype": "text/x-python",
   "name": "python",
   "nbconvert_exporter": "python",
   "pygments_lexer": "ipython3",
   "version": "3.9.16"
  }
 },
 "nbformat": 4,
 "nbformat_minor": 5
}
