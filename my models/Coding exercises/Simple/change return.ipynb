{
 "cells": [
  {
   "cell_type": "code",
   "execution_count": 13,
   "id": "3f89ed7b-565c-4993-a935-b03cd4fbd103",
   "metadata": {},
   "outputs": [
    {
     "name": "stdin",
     "output_type": "stream",
     "text": [
      "insert 192 in coins or banknotes: 40\n"
     ]
    },
    {
     "name": "stdout",
     "output_type": "stream",
     "text": [
      "!!! 40 invalid coin or banknote value !!!\n"
     ]
    },
    {
     "name": "stdin",
     "output_type": "stream",
     "text": [
      "insert 192 in coins or banknotes: 20\n",
      "insert 172 in coins or banknotes: 20\n",
      "insert 152 in coins or banknotes: 20\n",
      "insert 132 in coins or banknotes: 20\n",
      "insert 112 in coins or banknotes: 20\n",
      "insert 92 in coins or banknotes: 20\n",
      "insert 72 in coins or banknotes: 20\n",
      "insert 52 in coins or banknotes: 2\n",
      "insert 50 in coins or banknotes: 20\n",
      "insert 30 in coins or banknotes: 50\n"
     ]
    },
    {
     "name": "stdout",
     "output_type": "stream",
     "text": [
      "payment complete, your rest is 20, thank you!\n"
     ]
    }
   ],
   "source": [
    "import random\n",
    "\n",
    "#ramdomly pick the amount due\n",
    "    \n",
    "amount_due = random.randint(100,200)\n",
    "\n",
    "while amount_due > 0:\n",
    "    money_insert = int(input('insert ' +str(amount_due)+ ' in coins or banknotes:'))\n",
    "    \n",
    "    if money_insert not in [1,2,5,10,20,50]:\n",
    "        print('!!! ' +str(money_insert)+ ' invalid coin or banknote value !!!')\n",
    "    else:\n",
    "        amount_due = amount_due - money_insert\n",
    "    \n",
    "print('payment complete, your rest is ' +str(-amount_due)+ ', thank you!')"
   ]
  }
 ],
 "metadata": {
  "kernelspec": {
   "display_name": "Py309",
   "language": "python",
   "name": "py309"
  },
  "language_info": {
   "codemirror_mode": {
    "name": "ipython",
    "version": 3
   },
   "file_extension": ".py",
   "mimetype": "text/x-python",
   "name": "python",
   "nbconvert_exporter": "python",
   "pygments_lexer": "ipython3",
   "version": "3.9.16"
  }
 },
 "nbformat": 4,
 "nbformat_minor": 5
}
