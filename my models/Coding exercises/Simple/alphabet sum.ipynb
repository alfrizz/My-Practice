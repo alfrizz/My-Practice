{
 "cells": [
  {
   "cell_type": "markdown",
   "id": "a9f9edb8-13e8-46ef-bb40-94f8167ab443",
   "metadata": {},
   "source": [
    "Given a list of strings of letters from a to z, create a function, sum_alphabet, that returns a list of the alphabet sum of each word in the string.\n",
    "\n",
    "The alphabet sum is the sum of the ordinal position of each of the string’s letters in the standard English alphabet ordering. So, the letter a will have a value of 1, z will have a value of 26, and so on.\n",
    "\n",
    "As an example of the alphabet sum of a string, the string sport will have an alphabet sum of 19 + 16 + 15 + 18 + 20 = 88."
   ]
  },
  {
   "cell_type": "code",
   "execution_count": 16,
   "id": "9995e80c-8f6a-4332-82b3-b5611ee68ea2",
   "metadata": {},
   "outputs": [],
   "source": [
    "def alphasum(string):\n",
    "    sum_string = 0\n",
    "    init_ref = ord('a') - 1\n",
    "    for char in string:\n",
    "        sum_string += ord(str.lower(char)) - init_ref\n",
    "        # print(char, ord(str.lower(char)) - init_ref, sum_string)\n",
    "    return(sum_string)\n",
    "        \n",
    "    "
   ]
  },
  {
   "cell_type": "code",
   "execution_count": 17,
   "id": "04809d4c-0261-4dc2-b803-51a86d7ee81e",
   "metadata": {},
   "outputs": [
    {
     "data": {
      "text/plain": [
       "82"
      ]
     },
     "execution_count": 17,
     "metadata": {},
     "output_type": "execute_result"
    }
   ],
   "source": [
    "alphasum('alfonso')"
   ]
  },
  {
   "cell_type": "code",
   "execution_count": null,
   "id": "11428cd5-ebab-4046-b7ee-5c9c7ecaf469",
   "metadata": {},
   "outputs": [],
   "source": []
  },
  {
   "cell_type": "code",
   "execution_count": null,
   "id": "db641088-1852-45c8-8dd2-e0c614a65da4",
   "metadata": {},
   "outputs": [],
   "source": []
  },
  {
   "cell_type": "code",
   "execution_count": null,
   "id": "7488d699-f728-4fa0-81f6-4262362f8352",
   "metadata": {},
   "outputs": [],
   "source": []
  },
  {
   "cell_type": "code",
   "execution_count": null,
   "id": "c593ed0e-9dc9-4c7d-bcb4-a06e7ed8d125",
   "metadata": {},
   "outputs": [],
   "source": []
  },
  {
   "cell_type": "code",
   "execution_count": null,
   "id": "94d52458-1c40-4ef5-a55d-f8da96e84efb",
   "metadata": {},
   "outputs": [],
   "source": []
  },
  {
   "cell_type": "code",
   "execution_count": null,
   "id": "5c4e6f3e-94dc-4381-8f86-90558ec8719e",
   "metadata": {},
   "outputs": [],
   "source": []
  },
  {
   "cell_type": "code",
   "execution_count": null,
   "id": "7c887d9e-9cb3-4126-a38f-27a879bc5e05",
   "metadata": {},
   "outputs": [],
   "source": []
  },
  {
   "cell_type": "code",
   "execution_count": null,
   "id": "c6b19597-da6b-4e22-ac10-95236b17c4d5",
   "metadata": {},
   "outputs": [],
   "source": []
  },
  {
   "cell_type": "code",
   "execution_count": null,
   "id": "6a9e67ad-0db4-494a-ad2b-f02d608004f8",
   "metadata": {},
   "outputs": [],
   "source": []
  },
  {
   "cell_type": "code",
   "execution_count": null,
   "id": "49cb72ca-7097-42a2-8a6f-0423600d9ebf",
   "metadata": {},
   "outputs": [],
   "source": []
  },
  {
   "cell_type": "code",
   "execution_count": null,
   "id": "35311618-9147-437b-9d2a-2d1e79a91bd2",
   "metadata": {},
   "outputs": [],
   "source": []
  }
 ],
 "metadata": {
  "kernelspec": {
   "display_name": "Py310",
   "language": "python",
   "name": "py310"
  },
  "language_info": {
   "codemirror_mode": {
    "name": "ipython",
    "version": 3
   },
   "file_extension": ".py",
   "mimetype": "text/x-python",
   "name": "python",
   "nbconvert_exporter": "python",
   "pygments_lexer": "ipython3",
   "version": "3.10.11"
  }
 },
 "nbformat": 4,
 "nbformat_minor": 5
}
