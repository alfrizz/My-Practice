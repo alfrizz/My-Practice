{
 "cells": [
  {
   "cell_type": "code",
   "execution_count": 43,
   "id": "ba662235-0b88-4895-856f-c3ee315edd85",
   "metadata": {},
   "outputs": [],
   "source": [
    "def pal(full_string):\n",
    "    centre_char = len(full_string) // 2 \n",
    "    left_string = full_string[0:centre_char][::-1]\n",
    "    right_string = full_string[centre_char:len(full_string)] if len(full_string) % 2 == 0 else full_string[centre_char + 1:len(full_string)]\n",
    "    return left_string == right_string"
   ]
  },
  {
   "cell_type": "code",
   "execution_count": 42,
   "id": "11e2b671-a6be-4e50-a0c3-96c47fd1959a",
   "metadata": {},
   "outputs": [
    {
     "data": {
      "text/plain": [
       "True"
      ]
     },
     "execution_count": 42,
     "metadata": {},
     "output_type": "execute_result"
    }
   ],
   "source": [
    "pal('racecar')"
   ]
  },
  {
   "cell_type": "code",
   "execution_count": 71,
   "id": "4fda2b05-80cd-49a9-848f-39f708123ae9",
   "metadata": {},
   "outputs": [],
   "source": [
    "'''\n",
    "Given a string, write a function that finds the longest palindromic substring within the string. \n",
    "For example, given the string \"babad\", the function should return \"bab\" or \"aba\".\n",
    "'''\n",
    "import numpy as np\n",
    "def longest_pal(string_to_check):\n",
    "    max_pal_len = 0\n",
    "    for init_index in range(len(string_to_check)):\n",
    "        for end_index in range(init_index+1, len(string_to_check)):\n",
    "            # print(init_index,end_index,'**', string_to_check[init_index], string_to_check[end_index],'**', string_to_check[init_index:end_index+1])\n",
    "            substr_to_check = string_to_check[init_index:end_index+1]\n",
    "            if pal(substr_to_check) and len(substr_to_check) > max_pal_len:\n",
    "                max_pal_str = substr_to_check\n",
    "                max_pal_len = len(substr_to_check)\n",
    "    return max_pal_str, max_pal_len\n"
   ]
  },
  {
   "cell_type": "code",
   "execution_count": 72,
   "id": "c4b0a85d-20c4-407f-834b-39ed8a0787d2",
   "metadata": {},
   "outputs": [
    {
     "data": {
      "text/plain": [
       "('deleveled', 9)"
      ]
     },
     "execution_count": 72,
     "metadata": {},
     "output_type": "execute_result"
    }
   ],
   "source": [
    "longest_pal('deleveledevollevelledelved')"
   ]
  }
 ],
 "metadata": {
  "kernelspec": {
   "display_name": "Py309",
   "language": "python",
   "name": "py309"
  },
  "language_info": {
   "codemirror_mode": {
    "name": "ipython",
    "version": 3
   },
   "file_extension": ".py",
   "mimetype": "text/x-python",
   "name": "python",
   "nbconvert_exporter": "python",
   "pygments_lexer": "ipython3",
   "version": "3.9.16"
  }
 },
 "nbformat": 4,
 "nbformat_minor": 5
}
