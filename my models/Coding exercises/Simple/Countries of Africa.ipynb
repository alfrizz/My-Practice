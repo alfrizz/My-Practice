{
 "cells": [
  {
   "cell_type": "markdown",
   "id": "a1988c91-490c-48d4-9bdd-d96015529f49",
   "metadata": {},
   "source": [
    "Can you name all of the 54 countries of Africa?\n",
    "\n",
    "In this challenge we will write a Python script to create a quiz where we ask the user to guess as many African countries as possible. The player will score one point per correct country.\n",
    "\n",
    "Using a list in Python\n",
    "Our Python program will use a list to store all 54 countries."
   ]
  },
  {
   "cell_type": "code",
   "execution_count": 44,
   "id": "f265e364-83b3-4fa9-b3cd-bc0f147b7844",
   "metadata": {},
   "outputs": [
    {
     "name": "stdout",
     "output_type": "stream",
     "text": [
      "--------------------\n",
      "|                  |\n",
      "|     Countries    |\n",
      "|        of        |\n",
      "|      Africa      |\n",
      "|                  |\n",
      "--------------------\n",
      "\n"
     ]
    }
   ],
   "source": [
    "import re\n",
    "\n",
    "#Countries of Africa by 101Computing.net - https://www.101computing.net/countries-of-africa-python-quiz/\n",
    "\n",
    "countries = [\"Algeria\", \"Angola\", \"Benin\", \"Botswana\", \"Burkina Faso\", \"Burundi\", \"Cabo Verde\", \"Cameroon\", \"Central African Republic\", \"Chad\", \"Comoros\", \"Ivory Coast\", \"Djibouti\", \"Democratic Republic of the Congo\", \"Egypt\", \"Equatorial Guinea\", \"Eritrea\", \"Eswatini\", \"Ethiopia\", \"Gabon\", \"Gambia\", \"Ghana\", \"Guinea\", \"Guinea-Bissau\", \"Kenya\", \"Lesotho\", \"Liberia\", \"Libya\", \"Madagascar\", \"Malawi\", \"Mali\", \"Mauritania\", \"Mauritius\", \"Morocco\", \"Mozambique\", \"Namibia\", \"Niger\", \"Nigeria\", \"Republic of the Congo\", \"Rwanda\", \"Sao Tome & Principe\", \"Senegal\", \"Seychelles\", \"Sierra Leone\", \"Somalia\", \"South Africa\", \"South Sudan\", \"Sudan\", \"Tanzania\", \"Togo\", \"Tunisia\", \"Uganda\", \"Zambia\", \"Zimbabwe\"]\n",
    "\n",
    "print(\"--------------------\")\n",
    "print(\"|                  |\")\n",
    "print(\"|     Countries    |\")\n",
    "print(\"|        of        |\")\n",
    "print(\"|      Africa      |\")\n",
    "print(\"|                  |\")\n",
    "print(\"--------------------\")\n",
    "print(\"\")\n",
    "\n",
    "def quiz_african_countries():\n",
    "\n",
    "\n",
    "    guessed = 0\n",
    "    \n",
    "    user_input = input(\"name all african countries that you remember: \")\n",
    "    \n",
    "    # Replace punctuation marks (any characther that is not a word, space, or '&') with '*'\n",
    "    user_input_cleaned = re.sub(r'[^\\w\\s\\&]', '*', user_input)\n",
    "    \n",
    "    # Split the text into a list of words, by '*'\n",
    "    user_input_list = user_input_cleaned.split('*')\n",
    "    \n",
    "    for country_input in user_input_list:\n",
    "        if country_input in countries:\n",
    "            guessed+=1\n",
    "    \n",
    "    return guessed, len(countries)"
   ]
  },
  {
   "cell_type": "code",
   "execution_count": 47,
   "id": "0373c6ce-f6c1-4bde-bc43-9c41ab6971dc",
   "metadata": {},
   "outputs": [
    {
     "name": "stdin",
     "output_type": "stream",
     "text": [
      "name all african countries that you remember:  ad\", \"Comoros\", \"Ivory Coast\", \"Djibouti\", \"Democratic Republic of the Congo\", \"Egypt\", \"Equatorial Guinea\", \"Eritrea\", \"Eswatini\", \"Ethiopia\", \"Gabon\", \"Gambia\", \"Gh\n"
     ]
    },
    {
     "data": {
      "text/plain": [
       "(11, 54)"
      ]
     },
     "execution_count": 47,
     "metadata": {},
     "output_type": "execute_result"
    }
   ],
   "source": [
    "quiz_african_countries()"
   ]
  }
 ],
 "metadata": {
  "kernelspec": {
   "display_name": "Py309",
   "language": "python",
   "name": "py309"
  },
  "language_info": {
   "codemirror_mode": {
    "name": "ipython",
    "version": 3
   },
   "file_extension": ".py",
   "mimetype": "text/x-python",
   "name": "python",
   "nbconvert_exporter": "python",
   "pygments_lexer": "ipython3",
   "version": "3.9.16"
  }
 },
 "nbformat": 4,
 "nbformat_minor": 5
}
