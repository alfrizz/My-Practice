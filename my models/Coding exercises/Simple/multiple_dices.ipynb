{
 "cells": [
  {
   "cell_type": "code",
   "execution_count": 63,
   "id": "85eb7777-70ef-4670-9e4c-46b94364a65b",
   "metadata": {},
   "outputs": [],
   "source": [
    "import random\n",
    "import numpy as np\n",
    "\n",
    "def multi_dices(n_players, n_dices, n_faces, n_throws):\n",
    "    players={}\n",
    "    for i in range(n_players):\n",
    "        dices={}\n",
    "        player_sum = 0\n",
    "        for j in range(n_dices):\n",
    "            throws = []\n",
    "            for _ in range(n_throws):\n",
    "                throws.append(random.randint(1,n_faces))\n",
    "            dices[j] = throws\n",
    "            player_sum += sum(throws)\n",
    "        players[i] = dices\n",
    "        players[i][j+1] = player_sum\n",
    "    winner = np.argmax([players[i][n_dices] for i in range(n_players)])\n",
    "    return winner, players"
   ]
  },
  {
   "cell_type": "code",
   "execution_count": 64,
   "id": "8ee85d76-1ec1-4c67-8c8a-13530fd6996b",
   "metadata": {},
   "outputs": [
    {
     "data": {
      "text/plain": [
       "(3,\n",
       " {0: {0: [8, 8, 1, 2, 4, 5, 3, 7, 7],\n",
       "   1: [2, 6, 5, 8, 5, 5, 8, 7, 1],\n",
       "   2: [2, 6, 3, 4, 8, 3, 4, 8, 8],\n",
       "   3: [2, 3, 6, 2, 8, 6, 2, 6, 6],\n",
       "   4: [5, 3, 1, 3, 8, 3, 5, 7, 2],\n",
       "   5: [1, 5, 5, 1, 2, 5, 2, 8, 2],\n",
       "   6: [1, 5, 2, 6, 8, 1, 1, 7, 2],\n",
       "   7: 280},\n",
       "  1: {0: [5, 4, 4, 1, 6, 5, 7, 1, 2],\n",
       "   1: [7, 3, 4, 1, 6, 2, 1, 1, 6],\n",
       "   2: [8, 5, 3, 2, 3, 8, 1, 6, 3],\n",
       "   3: [5, 5, 7, 3, 6, 8, 2, 5, 5],\n",
       "   4: [1, 4, 7, 4, 3, 5, 3, 5, 3],\n",
       "   5: [2, 1, 7, 2, 8, 8, 1, 7, 8],\n",
       "   6: [4, 4, 3, 1, 7, 5, 6, 3, 1],\n",
       "   7: 264},\n",
       "  2: {0: [2, 3, 7, 1, 7, 5, 5, 2, 4],\n",
       "   1: [4, 1, 7, 2, 7, 7, 8, 2, 6],\n",
       "   2: [8, 2, 3, 3, 3, 1, 6, 1, 2],\n",
       "   3: [3, 7, 6, 5, 7, 2, 5, 8, 8],\n",
       "   4: [4, 1, 6, 7, 5, 4, 1, 3, 4],\n",
       "   5: [3, 3, 6, 3, 1, 1, 5, 1, 6],\n",
       "   6: [6, 5, 7, 3, 8, 4, 1, 4, 5],\n",
       "   7: 267},\n",
       "  3: {0: [5, 8, 3, 5, 8, 7, 5, 6, 7],\n",
       "   1: [5, 7, 4, 6, 8, 8, 1, 8, 6],\n",
       "   2: [8, 3, 3, 2, 2, 8, 5, 8, 6],\n",
       "   3: [3, 4, 7, 3, 8, 1, 1, 7, 6],\n",
       "   4: [3, 3, 6, 8, 2, 8, 5, 1, 8],\n",
       "   5: [1, 5, 4, 4, 6, 8, 5, 2, 6],\n",
       "   6: [5, 6, 2, 3, 6, 7, 1, 8, 4],\n",
       "   7: 319},\n",
       "  4: {0: [7, 5, 8, 8, 8, 5, 5, 3, 7],\n",
       "   1: [2, 5, 5, 2, 2, 5, 8, 7, 8],\n",
       "   2: [3, 7, 3, 6, 4, 8, 8, 2, 7],\n",
       "   3: [4, 6, 5, 4, 5, 6, 2, 7, 1],\n",
       "   4: [5, 4, 2, 5, 8, 1, 1, 4, 1],\n",
       "   5: [6, 2, 5, 1, 1, 4, 1, 6, 7],\n",
       "   6: [1, 2, 2, 3, 1, 8, 3, 6, 7],\n",
       "   7: 285}})"
      ]
     },
     "execution_count": 64,
     "metadata": {},
     "output_type": "execute_result"
    }
   ],
   "source": [
    "multi_dices(5,7,8,9)"
   ]
  }
 ],
 "metadata": {
  "kernelspec": {
   "display_name": "Py309",
   "language": "python",
   "name": "py309"
  },
  "language_info": {
   "codemirror_mode": {
    "name": "ipython",
    "version": 3
   },
   "file_extension": ".py",
   "mimetype": "text/x-python",
   "name": "python",
   "nbconvert_exporter": "python",
   "pygments_lexer": "ipython3",
   "version": "3.9.16"
  }
 },
 "nbformat": 4,
 "nbformat_minor": 5
}
