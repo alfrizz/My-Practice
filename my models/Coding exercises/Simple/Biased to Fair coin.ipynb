{
 "cells": [
  {
   "cell_type": "code",
   "execution_count": 1,
   "id": "a175fe13-bf05-4253-b747-8700d6654684",
   "metadata": {},
   "outputs": [],
   "source": [
    "# If you have a coin that is biased towards heads, you can still use it to generate fair outcomes by using a method known as the “von Neumann extractor” or “fair coin from a biased coin”. Here’s how it works:\n",
    "\n",
    "# Toss the coin twice.\n",
    "# If it comes up heads then tails (HT), count it as a “fair” heads.\n",
    "# If it comes up tails then heads (TH), count it as a “fair” tails.\n",
    "# If it comes up heads both times (HH) or tails both times (TT), ignore the result and toss the coin twice again.\n",
    "# This method works because, even if the coin is biased, the probability of getting HT (heads on the first toss and tails on the second) is the same as the probability of getting TH (tails on the first toss and heads on the second). So, you’re effectively creating a fair coin from a biased coin."
   ]
  },
  {
   "cell_type": "code",
   "execution_count": 2,
   "id": "d81e12bd-4ef0-4d4b-9d04-f220bdf25e5a",
   "metadata": {},
   "outputs": [
    {
     "data": {
      "text/plain": [
       "(0.6, 0.4)"
      ]
     },
     "execution_count": 2,
     "metadata": {},
     "output_type": "execute_result"
    }
   ],
   "source": [
    "import numpy as np\n",
    "import random\n",
    "\n",
    "# select randomly the probabilites of the two faces of the biased coin\n",
    "\n",
    "p_head = random.randint(0,100)/100\n",
    "p_tail = 1 - p_head\n",
    "\n",
    "p_head, p_tail"
   ]
  },
  {
   "cell_type": "code",
   "execution_count": 3,
   "id": "537945b4-bf8d-4209-afab-358c941da320",
   "metadata": {},
   "outputs": [
    {
     "data": {
      "text/plain": [
       "(0.24, 0.24)"
      ]
     },
     "execution_count": 3,
     "metadata": {},
     "output_type": "execute_result"
    }
   ],
   "source": [
    "p_head_head = p_head * p_head\n",
    "P_tail_tail = p_tail * p_tail\n",
    "p_tail_head = p_tail * p_head\n",
    "p_head_tail = p_head * p_tail\n",
    "\n",
    "p_tail_head, p_head_tail"
   ]
  },
  {
   "cell_type": "code",
   "execution_count": 4,
   "id": "f6c73095-874c-4e49-bb1a-32dd9baafda9",
   "metadata": {},
   "outputs": [],
   "source": [
    "faces = ['head', 'tail']\n",
    "probabilities = [p_head, p_tail]"
   ]
  },
  {
   "cell_type": "code",
   "execution_count": 5,
   "id": "3536bbcf-3fc9-4572-8207-74c8bdb9edd6",
   "metadata": {},
   "outputs": [
    {
     "data": {
      "text/plain": [
       "{('head', 'tail'): 24187,\n",
       " ('tail', 'tail'): 15916,\n",
       " ('tail', 'head'): 23942,\n",
       " ('head', 'head'): 35955}"
      ]
     },
     "execution_count": 5,
     "metadata": {},
     "output_type": "execute_result"
    }
   ],
   "source": [
    "combinations = {('head', 'tail'):0, ('tail', 'tail'):0, ('tail', 'head'):0, ('head', 'head'):0}\n",
    "\n",
    "for total_throws in range(100000):\n",
    "    first_throw = random.choices(faces, weights=probabilities, k=1)[0]\n",
    "    second_throw = random.choices(faces, weights=probabilities, k=1)[0]\n",
    "    combination = (first_throw, second_throw)\n",
    "    combinations[combination]+=1\n",
    "\n",
    "combinations"
   ]
  }
 ],
 "metadata": {
  "kernelspec": {
   "display_name": "Py309",
   "language": "python",
   "name": "py309"
  },
  "language_info": {
   "codemirror_mode": {
    "name": "ipython",
    "version": 3
   },
   "file_extension": ".py",
   "mimetype": "text/x-python",
   "name": "python",
   "nbconvert_exporter": "python",
   "pygments_lexer": "ipython3",
   "version": "3.9.19"
  }
 },
 "nbformat": 4,
 "nbformat_minor": 5
}
