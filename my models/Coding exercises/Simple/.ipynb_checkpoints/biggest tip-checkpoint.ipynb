{
 "cells": [
  {
   "cell_type": "code",
   "execution_count": null,
   "id": "51cd0c9e-46b2-415d-8b23-ecffab744c00",
   "metadata": {},
   "outputs": [],
   "source": [
    "# Given two nonempty lists of user_ids and tips, write a function most_tips to find the user that tipped the most."
   ]
  },
  {
   "cell_type": "code",
   "execution_count": 4,
   "id": "5dc1b542-6278-4521-83f7-9e05e4694030",
   "metadata": {},
   "outputs": [],
   "source": [
    "import numpy as np"
   ]
  },
  {
   "cell_type": "code",
   "execution_count": 8,
   "id": "b77eadd1-0bed-401f-aced-adfed4898a48",
   "metadata": {},
   "outputs": [],
   "source": [
    "def biggest_tip(user_ids, tips): # with 'argmax'\n",
    "    return user_ids[np.argmax(tips)]"
   ]
  },
  {
   "cell_type": "code",
   "execution_count": 16,
   "id": "08480bd9-cd06-46b5-8c73-481e4ca66814",
   "metadata": {},
   "outputs": [],
   "source": [
    "def biggest_tip(user_ids, tips): # without 'argmax'\n",
    "    max_tip = max(tips)\n",
    "    idx_max_tip = tips.index(max_tip)\n",
    "    return user_ids[idx_max_tip]"
   ]
  },
  {
   "cell_type": "code",
   "execution_count": 17,
   "id": "22ff232b-2304-421f-81ad-c23863994858",
   "metadata": {},
   "outputs": [
    {
     "data": {
      "text/plain": [
       "105"
      ]
     },
     "execution_count": 17,
     "metadata": {},
     "output_type": "execute_result"
    }
   ],
   "source": [
    "user_ids = [103, 105, 105, 107, 106, 103, 102, 108, 107, 103, 102]\n",
    "tips = [2, 5, 1, 0, 2, 1, 1, 0, 0, 2, 2]\n",
    "\n",
    "biggest_tip(user_ids, tips)"
   ]
  }
 ],
 "metadata": {
  "kernelspec": {
   "display_name": "Py310",
   "language": "python",
   "name": "py310"
  },
  "language_info": {
   "codemirror_mode": {
    "name": "ipython",
    "version": 3
   },
   "file_extension": ".py",
   "mimetype": "text/x-python",
   "name": "python",
   "nbconvert_exporter": "python",
   "pygments_lexer": "ipython3",
   "version": "3.10.11"
  }
 },
 "nbformat": 4,
 "nbformat_minor": 5
}
