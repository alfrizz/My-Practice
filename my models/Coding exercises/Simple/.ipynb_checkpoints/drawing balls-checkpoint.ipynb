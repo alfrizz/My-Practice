{
 "cells": [
  {
   "cell_type": "code",
   "execution_count": null,
   "id": "9f159729-9228-45fb-bbe9-fc330f15655b",
   "metadata": {},
   "outputs": [],
   "source": [
    "# Write a function to simulate drawing balls from a jar. The colors of the balls are stored in a list named jar, with corresponding counts of the balls stored in the same index in a list called n_balls."
   ]
  },
  {
   "cell_type": "code",
   "execution_count": 50,
   "id": "c8afd804-8e17-4450-8e35-ebe0267edf97",
   "metadata": {},
   "outputs": [],
   "source": [
    "import random\n",
    "\n",
    "jar = ['green', 'red', 'blue']\n",
    "n_balls = [1, 10, 2]\n",
    "# 1 green ball\n",
    "# 10 red balls\n",
    "# and 2 blue balls"
   ]
  },
  {
   "cell_type": "code",
   "execution_count": 114,
   "id": "5b89e97f-4fca-4731-93a8-8364d2701c2f",
   "metadata": {},
   "outputs": [
    {
     "name": "stdout",
     "output_type": "stream",
     "text": [
      "['green', 'red', 'red', 'red', 'red', 'red', 'red', 'red', 'red', 'red', 'red', 'blue', 'blue']\n"
     ]
    },
    {
     "data": {
      "text/plain": [
       "['red',\n",
       " 'red',\n",
       " 'red',\n",
       " 'red',\n",
       " 'red',\n",
       " 'red',\n",
       " 'blue',\n",
       " 'red',\n",
       " 'red',\n",
       " 'red',\n",
       " 'red',\n",
       " 'blue',\n",
       " 'green']"
      ]
     },
     "execution_count": 114,
     "metadata": {},
     "output_type": "execute_result"
    }
   ],
   "source": [
    "def draw_balls(jar, n_balls):\n",
    "    extr_jar = []\n",
    "    [extr_jar.extend([jar[i] for _ in range(n_balls[i])]) for i in range(len(jar))]\n",
    "    print(extr_jar)\n",
    "    random.shuffle(extr_jar)\n",
    "    return extr_jar\n",
    "\n",
    "draw_balls(jar, n_balls)"
   ]
  },
  {
   "cell_type": "code",
   "execution_count": null,
   "id": "2fed1b9f-4b92-4c43-b183-d0310cd50ad8",
   "metadata": {},
   "outputs": [],
   "source": []
  }
 ],
 "metadata": {
  "kernelspec": {
   "display_name": "Py310",
   "language": "python",
   "name": "py310"
  },
  "language_info": {
   "codemirror_mode": {
    "name": "ipython",
    "version": 3
   },
   "file_extension": ".py",
   "mimetype": "text/x-python",
   "name": "python",
   "nbconvert_exporter": "python",
   "pygments_lexer": "ipython3",
   "version": "3.10.11"
  }
 },
 "nbformat": 4,
 "nbformat_minor": 5
}
