{
 "cells": [
  {
   "cell_type": "code",
   "execution_count": 4,
   "id": "c0e185cf-8eb9-4388-85d6-59907cefcd60",
   "metadata": {},
   "outputs": [],
   "source": [
    "deck_of_cards = \\\n",
    "[('Heart', 0),\n",
    " ('Heart', 1),\n",
    " ('Heart', 2),\n",
    " ('Heart', 3),\n",
    " ('Heart', 4),\n",
    " ('Heart', 5),\n",
    " ('Heart', 6),\n",
    " ('Heart', 7),\n",
    " ('Heart', 8),\n",
    " ('Heart', 9),\n",
    " ('Heart', 10),\n",
    " ('Heart', 11),\n",
    " ('Heart', 12),\n",
    " ('Club', 0),\n",
    " ('Club', 1),\n",
    " ('Club', 2),\n",
    " ('Club', 3),\n",
    " ('Club', 4),\n",
    " ('Club', 5),\n",
    " ('Club', 6),\n",
    " ('Club', 7),\n",
    " ('Club', 8),\n",
    " ('Club', 9),\n",
    " ('Club', 10),\n",
    " ('Club', 11),\n",
    " ('Club', 12),\n",
    " ('Spade', 0),\n",
    " ('Spade', 1),\n",
    " ('Spade', 2),\n",
    " ('Spade', 3),\n",
    " ('Spade', 4),\n",
    " ('Spade', 5),\n",
    " ('Spade', 6),\n",
    " ('Spade', 7),\n",
    " ('Spade', 8),\n",
    " ('Spade', 9),\n",
    " ('Spade', 10),\n",
    " ('Spade', 11),\n",
    " ('Spade', 12),\n",
    " ('Diamond', 0),\n",
    " ('Diamond', 1),\n",
    " ('Diamond', 2),\n",
    " ('Diamond', 3),\n",
    " ('Diamond', 4),\n",
    " ('Diamond', 5),\n",
    " ('Diamond', 6),\n",
    " ('Diamond', 7),\n",
    " ('Diamond', 8),\n",
    " ('Diamond', 9),\n",
    " ('Diamond', 10),\n",
    " ('Diamond', 11),\n",
    " ('Diamond', 12)]"
   ]
  },
  {
   "cell_type": "code",
   "execution_count": 2,
   "id": "3f676869-cb40-4635-a21e-52eb56730478",
   "metadata": {},
   "outputs": [],
   "source": [
    "import numpy as np"
   ]
  },
  {
   "cell_type": "code",
   "execution_count": 59,
   "id": "18a81d41-1208-4882-b3e3-47f72d3884d4",
   "metadata": {},
   "outputs": [
    {
     "name": "stdout",
     "output_type": "stream",
     "text": [
      "0.4932\n"
     ]
    }
   ],
   "source": [
    "# probability of a pair\n",
    "\n",
    "n_sim = 10000\n",
    "n_cards = 5\n",
    "n_pairs = 0\n",
    "\n",
    "for _ in range(n_sim):\n",
    "    np.random.shuffle(deck_of_cards)\n",
    "    hand = deck_of_cards[0:n_cards]\n",
    "    hand_cardvalues_list = []\n",
    "    for card in range(n_cards):\n",
    "        if hand[card][1] in hand_cardvalues_list:\n",
    "            n_pairs +=1\n",
    "            break\n",
    "        else:\n",
    "            hand_cardvalues_list.append(hand[card][1])\n",
    "            \n",
    "print(n_pairs / n_sim)"
   ]
  },
  {
   "cell_type": "code",
   "execution_count": 32,
   "id": "6882e10c-571b-4821-81b5-a426c45de9a1",
   "metadata": {},
   "outputs": [
    {
     "name": "stdout",
     "output_type": "stream",
     "text": [
      "0.00181\n"
     ]
    }
   ],
   "source": [
    "# probability of full house\n",
    "\n",
    "n_sim = 100000\n",
    "n_cards = 5\n",
    "n_fh = 0\n",
    "\n",
    "for _ in range(n_sim):\n",
    "    np.random.shuffle(deck_of_cards)\n",
    "    hand = deck_of_cards[0:n_cards]\n",
    "    hand_cardvalues_list = [hand[i][1] for i in range(n_cards)]\n",
    "    if len(set(hand_cardvalues_list))==2:\n",
    "        n_fh+=1\n",
    "\n",
    "print(n_fh / n_sim)"
   ]
  },
  {
   "cell_type": "code",
   "execution_count": null,
   "id": "19571435-a59d-4877-91f5-60e6139cf5e9",
   "metadata": {},
   "outputs": [],
   "source": []
  },
  {
   "cell_type": "code",
   "execution_count": null,
   "id": "934b75a8-c907-41ad-b052-bbc3c6a72570",
   "metadata": {},
   "outputs": [],
   "source": []
  },
  {
   "cell_type": "code",
   "execution_count": null,
   "id": "dbee6dde-719e-4631-a505-6209f3fc4ff7",
   "metadata": {},
   "outputs": [],
   "source": []
  },
  {
   "cell_type": "code",
   "execution_count": null,
   "id": "0eec668f-867e-4ac6-8f5d-6457b9a9318b",
   "metadata": {},
   "outputs": [],
   "source": []
  }
 ],
 "metadata": {
  "kernelspec": {
   "display_name": "Py310",
   "language": "python",
   "name": "py310"
  },
  "language_info": {
   "codemirror_mode": {
    "name": "ipython",
    "version": 3
   },
   "file_extension": ".py",
   "mimetype": "text/x-python",
   "name": "python",
   "nbconvert_exporter": "python",
   "pygments_lexer": "ipython3",
   "version": "3.10.11"
  }
 },
 "nbformat": 4,
 "nbformat_minor": 5
}
