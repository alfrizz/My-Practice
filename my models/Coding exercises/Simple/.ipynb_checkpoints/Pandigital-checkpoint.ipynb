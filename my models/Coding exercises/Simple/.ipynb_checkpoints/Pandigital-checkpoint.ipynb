{
 "cells": [
  {
   "cell_type": "code",
   "execution_count": 28,
   "id": "f72f1c70-ea24-4edc-9949-2423ae4be57e",
   "metadata": {},
   "outputs": [],
   "source": [
    "\"\"\"\n",
    "A pandigital number contains all digits (0-9) at least once. \n",
    "Write a function that takes an integer, returning true if the integer is pandigital, and false otherwise.\n",
    "Sample input: 1234567890\n",
    "Output: True\n",
    "Sample input: 1123456890\n",
    "Output: False\n",
    "\"\"\"\n",
    "\n",
    "def pandig(int_inp):\n",
    "    int_inp_list = [int(i) for i in str(int_inp)]\n",
    "    is_pand = True\n",
    "    for i in list(range(10)):\n",
    "        if i not in int_inp_list:\n",
    "            is_pand = False\n",
    "            break\n",
    "    return is_pand\n",
    "    "
   ]
  },
  {
   "cell_type": "code",
   "execution_count": 39,
   "id": "aaf48835-6ac5-4b97-a6ab-b83a3cbbaf86",
   "metadata": {},
   "outputs": [
    {
     "data": {
      "text/plain": [
       "True"
      ]
     },
     "execution_count": 39,
     "metadata": {},
     "output_type": "execute_result"
    }
   ],
   "source": [
    "pandig(21340324629731856)"
   ]
  }
 ],
 "metadata": {
  "kernelspec": {
   "display_name": "Py310",
   "language": "python",
   "name": "py310"
  },
  "language_info": {
   "codemirror_mode": {
    "name": "ipython",
    "version": 3
   },
   "file_extension": ".py",
   "mimetype": "text/x-python",
   "name": "python",
   "nbconvert_exporter": "python",
   "pygments_lexer": "ipython3",
   "version": "3.10.11"
  }
 },
 "nbformat": 4,
 "nbformat_minor": 5
}
