{
 "cells": [
  {
   "cell_type": "code",
   "execution_count": null,
   "id": "e7a5707f-ff28-4b44-9879-c6b625bd2b36",
   "metadata": {},
   "outputs": [],
   "source": [
    "# You’re given a dataframe df_rain containing rainfall data. The dataframe has two columns: day of the week and rainfall in inches.\n",
    "\n",
    "# Write a function median_rainfall to find the median amount of rainfall for the days on which it rained.\n",
    "\n",
    "# Note: You may assume it rained on at least one of the days.\n"
   ]
  },
  {
   "cell_type": "code",
   "execution_count": 44,
   "id": "032f86ec-db20-4bc6-911c-357c5da3d32f",
   "metadata": {},
   "outputs": [
    {
     "data": {
      "text/html": [
       "<div>\n",
       "<style scoped>\n",
       "    .dataframe tbody tr th:only-of-type {\n",
       "        vertical-align: middle;\n",
       "    }\n",
       "\n",
       "    .dataframe tbody tr th {\n",
       "        vertical-align: top;\n",
       "    }\n",
       "\n",
       "    .dataframe thead th {\n",
       "        text-align: right;\n",
       "    }\n",
       "</style>\n",
       "<table border=\"1\" class=\"dataframe\">\n",
       "  <thead>\n",
       "    <tr style=\"text-align: right;\">\n",
       "      <th></th>\n",
       "      <th>Day</th>\n",
       "      <th>Inches</th>\n",
       "    </tr>\n",
       "  </thead>\n",
       "  <tbody>\n",
       "    <tr>\n",
       "      <th>0</th>\n",
       "      <td>Monday</td>\n",
       "      <td>2.0</td>\n",
       "    </tr>\n",
       "    <tr>\n",
       "      <th>1</th>\n",
       "      <td>Tuesday</td>\n",
       "      <td>1.2</td>\n",
       "    </tr>\n",
       "    <tr>\n",
       "      <th>2</th>\n",
       "      <td>Wednesday</td>\n",
       "      <td>0.9</td>\n",
       "    </tr>\n",
       "    <tr>\n",
       "      <th>3</th>\n",
       "      <td>Thursday</td>\n",
       "      <td>0.8</td>\n",
       "    </tr>\n",
       "    <tr>\n",
       "      <th>4</th>\n",
       "      <td>Friday</td>\n",
       "      <td>1.0</td>\n",
       "    </tr>\n",
       "    <tr>\n",
       "      <th>5</th>\n",
       "      <td>Saturday</td>\n",
       "      <td>0.0</td>\n",
       "    </tr>\n",
       "    <tr>\n",
       "      <th>6</th>\n",
       "      <td>Sunday</td>\n",
       "      <td>1.5</td>\n",
       "    </tr>\n",
       "  </tbody>\n",
       "</table>\n",
       "</div>"
      ],
      "text/plain": [
       "         Day  Inches\n",
       "0     Monday     2.0\n",
       "1    Tuesday     1.2\n",
       "2  Wednesday     0.9\n",
       "3   Thursday     0.8\n",
       "4     Friday     1.0\n",
       "5   Saturday     0.0\n",
       "6     Sunday     1.5"
      ]
     },
     "execution_count": 44,
     "metadata": {},
     "output_type": "execute_result"
    }
   ],
   "source": [
    "import pandas as pd\n",
    "import numpy as np\n",
    "\n",
    "rainfall = {\"Day\" : [\"Monday\", \"Tuesday\", \"Wednesday\", \"Thursday\", \"Friday\", \"Saturday\", \"Sunday\"], \"Inches\" : [2, 1.2, 0.9, 0.8, 1, 0, 1.5]}\n",
    "\n",
    "df_rain = pd.DataFrame(rainfall)\n",
    "df_rain"
   ]
  },
  {
   "cell_type": "code",
   "execution_count": 45,
   "id": "82db1299-4cab-4ca1-8b0f-e146859a498c",
   "metadata": {},
   "outputs": [
    {
     "data": {
      "text/plain": [
       "1.1"
      ]
     },
     "execution_count": 45,
     "metadata": {},
     "output_type": "execute_result"
    }
   ],
   "source": [
    "# using np.median\n",
    "\n",
    "def med_rain_np(df: pd.DataFrame):\n",
    "    return np.median([inch for inch in df.Inches if inch != 0])\n",
    "\n",
    "med_rain_np(df_rain)"
   ]
  },
  {
   "cell_type": "code",
   "execution_count": 46,
   "id": "006b0280-1d9c-4140-b1ca-f1992efd9953",
   "metadata": {},
   "outputs": [
    {
     "name": "stdout",
     "output_type": "stream",
     "text": [
      "[0.8, 0.9, 1.0, 1.2, 1.5, 2.0]\n"
     ]
    },
    {
     "data": {
      "text/plain": [
       "1.1"
      ]
     },
     "execution_count": 46,
     "metadata": {},
     "output_type": "execute_result"
    }
   ],
   "source": [
    "#  without np.median\n",
    "\n",
    "def med_rain(df: pd.DataFrame):\n",
    "    sorted_df = sorted([inch for inch in df.Inches if inch != 0])\n",
    "    print(sorted_df)\n",
    "    len_df = len(sorted_df)\n",
    "    mid = len_df // 2\n",
    "    if len_df % 2 == 1: # odd length\n",
    "        return sorted_df[mid]\n",
    "    else: # even length\n",
    "        return (sorted_df[mid] + sorted_df[mid-1]) / 2\n",
    "        \n",
    "\n",
    "med_rain(df_rain)"
   ]
  },
  {
   "cell_type": "code",
   "execution_count": null,
   "id": "b52dd1ce-2c33-475f-b293-14ac412bbe7a",
   "metadata": {},
   "outputs": [],
   "source": []
  },
  {
   "cell_type": "code",
   "execution_count": null,
   "id": "2f2761d3-5699-4341-b4fe-6f47d73603dc",
   "metadata": {},
   "outputs": [],
   "source": []
  }
 ],
 "metadata": {
  "kernelspec": {
   "display_name": "Py310",
   "language": "python",
   "name": "py310"
  },
  "language_info": {
   "codemirror_mode": {
    "name": "ipython",
    "version": 3
   },
   "file_extension": ".py",
   "mimetype": "text/x-python",
   "name": "python",
   "nbconvert_exporter": "python",
   "pygments_lexer": "ipython3",
   "version": "3.10.11"
  }
 },
 "nbformat": 4,
 "nbformat_minor": 5
}
