{
 "cells": [
  {
   "cell_type": "code",
   "execution_count": 1,
   "id": "6497fa9c-06dc-4acf-b3ad-bbb72e545d36",
   "metadata": {},
   "outputs": [],
   "source": [
    "#A class to implement a Stack that can hold up to 5 values\n",
    "class IceCream():\n",
    "    #Constructor...\n",
    "    def __init__(self):\n",
    "        self.__array = [None,None,None,None,None] #__Private Property\n",
    "        self.__pointer = 0  #__Private Property\n",
    "        self.__maxCapacity = len(self.__array) #__Private Property\n",
    "    #A method to push a new scoop/flavour to the ice cream\n",
    "    def push(self, flavour):\n",
    "        #Let's first check that we have not reached the maximum capacity (5 scoops max)\n",
    "        if self.__pointer < self.__maxCapacity:\n",
    "             self.__array[self.__pointer] = flavour\n",
    "             self.__pointer = self.__pointer + 1\n",
    "             print(flavour + \" added!\")\n",
    "        else:\n",
    "             print(\"Cannot add new favour! Ice cream is full!\")\n",
    "    #A method to pop the last scoop/flavour of the ice cream\n",
    "    def pop(self):\n",
    "        #Let's first check that the ice cream is not empty (has at least 1 scoop)\n",
    "        if self.__pointer > 0:\n",
    "             self.__pointer = self.__pointer - 1\n",
    "             flavour = self.__array[self.__pointer]\n",
    "             self.__array[self.__pointer] = \"\"\n",
    "             return flavour\n",
    "        else:\n",
    "             print(\"Ice cream is empty!\")\n",
    "             return False"
   ]
  },
  {
   "cell_type": "code",
   "execution_count": 2,
   "id": "a8741194-7d79-47e7-8922-3fb3d0ffa073",
   "metadata": {},
   "outputs": [
    {
     "name": "stdout",
     "output_type": "stream",
     "text": [
      "Strawberry added!\n",
      "Chocolate added!\n",
      "Pistachio added!\n",
      "This scoop of Pistachio was delicious!\n",
      "Blueberry added!\n"
     ]
    }
   ],
   "source": [
    "myIceCream = IceCream()\n",
    "myIceCream.push(\"Strawberry\")\n",
    "myIceCream.push(\"Chocolate\")\n",
    "myIceCream.push(\"Pistachio\")\n",
    "flavour = myIceCream.pop()\n",
    "print(\"This scoop of \" + flavour + \" was delicious!\")\n",
    "myIceCream.push(\"Blueberry\")"
   ]
  }
 ],
 "metadata": {
  "kernelspec": {
   "display_name": "Py309",
   "language": "python",
   "name": "py309"
  },
  "language_info": {
   "codemirror_mode": {
    "name": "ipython",
    "version": 3
   },
   "file_extension": ".py",
   "mimetype": "text/x-python",
   "name": "python",
   "nbconvert_exporter": "python",
   "pygments_lexer": "ipython3",
   "version": "3.9.16"
  }
 },
 "nbformat": 4,
 "nbformat_minor": 5
}
