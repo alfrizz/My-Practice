{
 "cells": [
  {
   "cell_type": "code",
   "execution_count": 72,
   "id": "1411709d-b454-4c96-874f-d790bfa74d2c",
   "metadata": {},
   "outputs": [],
   "source": [
    "#Denary to Binary Conversion Algorithm - www.101computing.net/denary-to-binary-conversion-algorithm\n",
    "\n",
    "import numpy as np\n",
    "\n",
    "def den_to_bin():\n",
    "\n",
    "    user_input = input(\"Enter a number\")\n",
    "\n",
    "    while user_input.isdigit() == False:\n",
    "        \n",
    "        print(\"Invalid input.\")\n",
    "        user_input = input(\"Enter a valid number\")\n",
    "    \n",
    "    else:\n",
    "\n",
    "        denary = int(user_input)\n",
    "        \n",
    "        binary = ''\n",
    "\n",
    "        range_max = np.floor(np.log2(denary))+1\n",
    "\n",
    "        powers_of_two = [2**i for i in range(int(range_max))][::-1]\n",
    "\n",
    "        for power in powers_of_two:\n",
    "            if denary - power >= 0:\n",
    "                binary += '1'\n",
    "                denary -= power\n",
    "            else:\n",
    "                binary += '0'\n",
    "            # print(denary,power) \n",
    "        \n",
    "    return binary\n",
    "\n",
    "   \n"
   ]
  },
  {
   "cell_type": "code",
   "execution_count": 75,
   "id": "7fa03032-5c4d-41a4-a57f-dd17b5101c93",
   "metadata": {},
   "outputs": [
    {
     "name": "stdin",
     "output_type": "stream",
     "text": [
      "Enter a number 4r34fqw\n"
     ]
    },
    {
     "name": "stdout",
     "output_type": "stream",
     "text": [
      "Invalid input.\n"
     ]
    },
    {
     "name": "stdin",
     "output_type": "stream",
     "text": [
      "Enter a valid number efa\n"
     ]
    },
    {
     "name": "stdout",
     "output_type": "stream",
     "text": [
      "Invalid input.\n"
     ]
    },
    {
     "name": "stdin",
     "output_type": "stream",
     "text": [
      "Enter a valid number 3425235235235\n"
     ]
    },
    {
     "data": {
      "text/plain": [
       "'110001110101111111111011011111000110100011'"
      ]
     },
     "execution_count": 75,
     "metadata": {},
     "output_type": "execute_result"
    }
   ],
   "source": [
    "den_to_bin()"
   ]
  },
  {
   "cell_type": "code",
   "execution_count": 196,
   "id": "9fa6ea85-013c-4204-a758-d8e719fdb3da",
   "metadata": {},
   "outputs": [],
   "source": [
    "def bin_to_den():\n",
    "\n",
    "    correct_input = False\n",
    "    \n",
    "    while correct_input == False:\n",
    "        user_input = input(\"Enter a binary number\")\n",
    "        correct_input = True\n",
    "        for digit in user_input:\n",
    "            if digit != '0' and digit != '1':\n",
    "                print('Wrong binary input!')\n",
    "                correct_input = False\n",
    "                break  \n",
    "            \n",
    "    else:\n",
    "\n",
    "        powers_of_two = [2**i for i in range(len(user_input))][::-1]\n",
    "        denary = np.sum([int(user_input[i])*powers_of_two[i] for i in range(len(user_input))])\n",
    "        \n",
    "        return denary\n",
    "    "
   ]
  },
  {
   "cell_type": "code",
   "execution_count": 197,
   "id": "f3a5d0b3-1bbe-4136-838a-2d9f06e4593c",
   "metadata": {},
   "outputs": [
    {
     "name": "stdin",
     "output_type": "stream",
     "text": [
      "Enter a binary number 463654\n"
     ]
    },
    {
     "name": "stdout",
     "output_type": "stream",
     "text": [
      "Wrong binary input!\n"
     ]
    },
    {
     "name": "stdin",
     "output_type": "stream",
     "text": [
      "Enter a binary number 101010111\n"
     ]
    },
    {
     "data": {
      "text/plain": [
       "343"
      ]
     },
     "execution_count": 197,
     "metadata": {},
     "output_type": "execute_result"
    }
   ],
   "source": [
    "bin_to_den()"
   ]
  }
 ],
 "metadata": {
  "kernelspec": {
   "display_name": "Py309",
   "language": "python",
   "name": "py309"
  },
  "language_info": {
   "codemirror_mode": {
    "name": "ipython",
    "version": 3
   },
   "file_extension": ".py",
   "mimetype": "text/x-python",
   "name": "python",
   "nbconvert_exporter": "python",
   "pygments_lexer": "ipython3",
   "version": "3.9.16"
  }
 },
 "nbformat": 4,
 "nbformat_minor": 5
}
