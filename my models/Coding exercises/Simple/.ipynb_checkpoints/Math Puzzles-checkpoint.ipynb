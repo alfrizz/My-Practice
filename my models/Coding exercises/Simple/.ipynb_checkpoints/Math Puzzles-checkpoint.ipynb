{
 "cells": [
  {
   "cell_type": "code",
   "execution_count": 75,
   "id": "0a6b898d-a589-4000-8f82-aed149feb8ee",
   "metadata": {},
   "outputs": [],
   "source": [
    "import time\n",
    "import numpy as np\n",
    "\n",
    "def is_prime(num1):\n",
    "    prime = True\n",
    "    for i in range(2,num1):\n",
    "        if num1%i == 0:\n",
    "            prime = False\n",
    "            break\n",
    "    return prime\n",
    "\n",
    "def squared_subtracted_31(num1,num2):\n",
    "    if (num1**2 - num2**2) == 31:\n",
    "        print(num1,num2,'squared_subtracted_31')\n",
    "    else:\n",
    "        return False\n",
    "    \n",
    "def squared_added_36(num1,num2):\n",
    "    if (num1**2 + num2**2) == 36:\n",
    "        print(num1,num2,'squared_add_to_36')\n",
    "    else:\n",
    "        return False\n",
    "    \n",
    "def squared_added_482(num1,num2):\n",
    "    if (num1**2 + num2**2) == 482:\n",
    "        print(num1,num2,'squared_add_to_482')\n",
    "    else:\n",
    "        return False\n",
    "    \n",
    "def squared_added_125(num1,num2,num3):\n",
    "    if (num1**2 + num2**2+ num3**2) == 125:\n",
    "        print(num1,num2,num3,'squared_add_to_125')\n",
    "    else:\n",
    "        return False\n",
    "    \n",
    "def added_16_multipl_55(num1,num2):\n",
    "    if num1 + num2 == 16 and num1 * num2 == 55:\n",
    "        print(num1,num2,'added_16_multipl_65')\n",
    "    else:\n",
    "        return False\n",
    "    \n",
    "def multipl_3071(num1,num2):\n",
    "    if num1 * num2 == 3071:\n",
    "        print(num1,num2,'multipl_3071')\n",
    "    else:\n",
    "        return False\n",
    "    \n",
    "def added_squarednumb(num1,num2):\n",
    "    if np.sqrt(num1+num2)%1 == 0:\n",
    "        return True\n",
    "    else:\n",
    "        return False\n"
   ]
  },
  {
   "cell_type": "code",
   "execution_count": 30,
   "id": "27031b21-b28d-4316-8b27-fe9fc882e3e7",
   "metadata": {},
   "outputs": [
    {
     "name": "stdout",
     "output_type": "stream",
     "text": [
      "16 15 squared_subtracted_31 31\n",
      "Solution found\n",
      "The algorithm took 0.001224500 seconds.\n"
     ]
    }
   ],
   "source": [
    "start_time = time.perf_counter()\n",
    "\n",
    "max = 99\n",
    "i,j = 0,0\n",
    "found = False\n",
    "\n",
    "while found == False and i < max:\n",
    "    for i in range(max):\n",
    "        for j in range(max):\n",
    "            if squared_subtracted_31(i,j)!=False:\n",
    "                found = True\n",
    "                break\n",
    "        if found == True:\n",
    "            print('Solution found')\n",
    "            break\n",
    "        if i == max-1:\n",
    "            i = max\n",
    "            print('No solution found')\n",
    "            break\n",
    "            \n",
    "            \n",
    "\n",
    "end_time = time.perf_counter()\n",
    "\n",
    "elapsed_time = end_time - start_time\n",
    "\n",
    "print(f\"The algorithm took {elapsed_time:.9f} seconds.\")"
   ]
  },
  {
   "cell_type": "code",
   "execution_count": 31,
   "id": "78c2fb15-6f1e-41cc-a89f-6b7e75591fab",
   "metadata": {},
   "outputs": [
    {
     "name": "stdout",
     "output_type": "stream",
     "text": [
      "6 0 squared_add_to_36 36\n",
      "Solution found\n",
      "The algorithm took 0.000225200 seconds.\n"
     ]
    }
   ],
   "source": [
    "start_time = time.perf_counter()\n",
    "\n",
    "max = 9\n",
    "i,j = 0,0\n",
    "found = False\n",
    "\n",
    "while found == False and i < max:\n",
    "    for j in range(max):\n",
    "        for i in range(max):\n",
    "            if squared_added_36(i,j)!=False:\n",
    "                found = True\n",
    "                break\n",
    "        if found == True:\n",
    "            print('Solution found')\n",
    "            break\n",
    "        if i == max-1:\n",
    "            print('No solution found')\n",
    "            break\n",
    "            \n",
    "            \n",
    "\n",
    "end_time = time.perf_counter()\n",
    "\n",
    "elapsed_time = end_time - start_time\n",
    "\n",
    "print(f\"The algorithm took {elapsed_time:.9f} seconds.\")"
   ]
  },
  {
   "cell_type": "code",
   "execution_count": 33,
   "id": "f84909ce-7495-478f-a685-08b5a20ee0f0",
   "metadata": {},
   "outputs": [
    {
     "name": "stdout",
     "output_type": "stream",
     "text": [
      "11 19 squared_add_to_482 482\n",
      "Solution found\n",
      "The algorithm took 0.001733900 seconds.\n"
     ]
    }
   ],
   "source": [
    "start_time = time.perf_counter()\n",
    "\n",
    "max = 99\n",
    "i,j = 0,0\n",
    "found = False\n",
    "\n",
    "while found == False and i < max:\n",
    "    for i in range(max):\n",
    "        for j in range(max):\n",
    "            if squared_added_482(i,j)!=False:\n",
    "                found = True\n",
    "                break\n",
    "        if found == True:\n",
    "            print('Solution found')\n",
    "            break\n",
    "        if i == max-1:\n",
    "            i = max\n",
    "            print('No solution found')\n",
    "            break\n",
    "            \n",
    "            \n",
    "\n",
    "end_time = time.perf_counter()\n",
    "\n",
    "elapsed_time = end_time - start_time\n",
    "\n",
    "print(f\"The algorithm took {elapsed_time:.9f} seconds.\")"
   ]
  },
  {
   "cell_type": "code",
   "execution_count": 36,
   "id": "b7b30d42-ad36-4806-90aa-60dfdd84c1f2",
   "metadata": {},
   "outputs": [
    {
     "name": "stdout",
     "output_type": "stream",
     "text": [
      "5 6 8 squared_add_to_125\n",
      "Solution found\n",
      "The algorithm took 0.000673900 seconds.\n"
     ]
    }
   ],
   "source": [
    "start_time = time.perf_counter()\n",
    "\n",
    "max = 9\n",
    "i,j,k = 0,0,0\n",
    "found = False\n",
    "\n",
    "while found == False and i < max:\n",
    "    for i in range(max):\n",
    "        for j in range(max):\n",
    "            for k in range(max):\n",
    "                if squared_added_125(i,j,k)!=False:\n",
    "                    found = True\n",
    "                    break\n",
    "            if found == True:\n",
    "                break\n",
    "            if i == max-1:\n",
    "                i = max\n",
    "                break\n",
    "        if found == True:\n",
    "            print('Solution found')\n",
    "            break\n",
    "        if i == max-1:\n",
    "            i = max\n",
    "            print('No solution found')\n",
    "            break\n",
    "            \n",
    "            \n",
    "\n",
    "end_time = time.perf_counter()\n",
    "\n",
    "elapsed_time = end_time - start_time\n",
    "\n",
    "print(f\"The algorithm took {elapsed_time:.9f} seconds.\")"
   ]
  },
  {
   "cell_type": "code",
   "execution_count": 44,
   "id": "bc800fd1-b8a6-4ec7-b2e9-ca1faf57d288",
   "metadata": {},
   "outputs": [
    {
     "name": "stdout",
     "output_type": "stream",
     "text": [
      "5 11 added_16_multipl_65\n",
      "Solution found\n",
      "The algorithm took 0.000308900 seconds.\n"
     ]
    }
   ],
   "source": [
    "start_time = time.perf_counter()\n",
    "\n",
    "max = 99\n",
    "i,j = 0,0\n",
    "found = False\n",
    "\n",
    "while found == False and i < max:\n",
    "    for i in range(max):\n",
    "        for j in range(max):\n",
    "            if added_16_multipl_55(i,j)!=False:\n",
    "                found = True\n",
    "                break\n",
    "        if found == True:\n",
    "            print('Solution found')\n",
    "            break\n",
    "        if i == max-1:\n",
    "            i = max\n",
    "            print('No solution found')\n",
    "            break\n",
    "            \n",
    "            \n",
    "\n",
    "end_time = time.perf_counter()\n",
    "\n",
    "elapsed_time = end_time - start_time\n",
    "\n",
    "print(f\"The algorithm took {elapsed_time:.9f} seconds.\")"
   ]
  },
  {
   "cell_type": "code",
   "execution_count": 65,
   "id": "12064064-1075-4e77-8870-95eb460ff9aa",
   "metadata": {},
   "outputs": [
    {
     "name": "stdout",
     "output_type": "stream",
     "text": [
      "37 83 multipl_3071\n",
      "Solution found\n",
      "The algorithm took 0.004653800 seconds.\n"
     ]
    }
   ],
   "source": [
    "start_time = time.perf_counter()\n",
    "\n",
    "max = 99\n",
    "i,j = 0,0\n",
    "found = False\n",
    "\n",
    "while found == False and i < max:\n",
    "    for i in range(max):\n",
    "        for j in range(max):\n",
    "            if is_prime(i) and is_prime(j) and multipl_3071(i,j)!=False:\n",
    "                found = True\n",
    "                break\n",
    "        if found == True:\n",
    "            print('Solution found')\n",
    "            break\n",
    "        if i == max-1:\n",
    "            i = max\n",
    "            print('No solution found')\n",
    "            break\n",
    "            \n",
    "            \n",
    "\n",
    "end_time = time.perf_counter()\n",
    "\n",
    "elapsed_time = end_time - start_time\n",
    "\n",
    "print(f\"The algorithm took {elapsed_time:.9f} seconds.\")"
   ]
  },
  {
   "cell_type": "code",
   "execution_count": 82,
   "id": "13ce1e0a-6519-4932-805a-80aca6d99a01",
   "metadata": {},
   "outputs": [
    {
     "name": "stdout",
     "output_type": "stream",
     "text": [
      "[(0, 0), (0, 1), (1, 0), (1, 3), (2, 2), (2, 7), (2, 23), (2, 47), (2, 79), (3, 1), (3, 13), (3, 61), (3, 97), (5, 11), (5, 31), (5, 59), (7, 2), (7, 29), (11, 5), (11, 53), (11, 89), (13, 3), (13, 23), (17, 19), (17, 47), (17, 83), (19, 17), (23, 2), (23, 13), (23, 41), (29, 7), (29, 71), (31, 5), (41, 23), (41, 59), (47, 2), (47, 17), (47, 53), (47, 97), (53, 11), (53, 47), (59, 5), (59, 41), (61, 3), (61, 83), (71, 29), (71, 73), (73, 71), (79, 2), (83, 17), (83, 61), (89, 11), (97, 3), (97, 47)]\n",
      "The algorithm took 0.013409100 seconds.\n"
     ]
    }
   ],
   "source": [
    "start_time = time.perf_counter()\n",
    "\n",
    "max = 99\n",
    "i,j = 0,0\n",
    "prime_squared_pairs = []\n",
    "\n",
    "for i in range(max):\n",
    "    for j in range(max):\n",
    "        if is_prime(i) and is_prime(j) and added_squarednumb(i,j)==True:\n",
    "            prime_squared_pairs.append((i,j))\n",
    "          \n",
    "\n",
    "end_time = time.perf_counter()\n",
    "\n",
    "elapsed_time = end_time - start_time\n",
    "\n",
    "print(prime_squared_pairs)\n",
    "print(f\"The algorithm took {elapsed_time:.9f} seconds.\")"
   ]
  },
  {
   "cell_type": "code",
   "execution_count": null,
   "id": "76b8cc35-bb37-46d0-8287-5227e1b9b0d4",
   "metadata": {},
   "outputs": [],
   "source": []
  },
  {
   "cell_type": "code",
   "execution_count": null,
   "id": "f4ed8c0d-1f2d-4551-9051-5f53c978180c",
   "metadata": {},
   "outputs": [],
   "source": []
  }
 ],
 "metadata": {
  "kernelspec": {
   "display_name": "Py309",
   "language": "python",
   "name": "py309"
  },
  "language_info": {
   "codemirror_mode": {
    "name": "ipython",
    "version": 3
   },
   "file_extension": ".py",
   "mimetype": "text/x-python",
   "name": "python",
   "nbconvert_exporter": "python",
   "pygments_lexer": "ipython3",
   "version": "3.9.16"
  }
 },
 "nbformat": 4,
 "nbformat_minor": 5
}
