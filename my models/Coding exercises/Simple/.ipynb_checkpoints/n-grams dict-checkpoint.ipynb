{
 "cells": [
  {
   "cell_type": "code",
   "execution_count": null,
   "id": "e043b833-99a8-4d20-b76a-17e4cfc1bf55",
   "metadata": {},
   "outputs": [],
   "source": [
    "# Write a function get_ngrams to take in a word (string) and return a dictionary of n-grams and their frequency in the given string."
   ]
  },
  {
   "cell_type": "code",
   "execution_count": null,
   "id": "1351e075-3c80-4636-99a4-4dbc9e18e1e6",
   "metadata": {},
   "outputs": [],
   "source": [
    "# Example 1:\n",
    "# Input string = 'banana' \n",
    "# n=2\n",
    "# output = {'ba':1, 'an':2, 'na':2} \n",
    "\n",
    "# Example 2:\n",
    "# Input string = 'banana' \n",
    "# n=3 \n",
    "# output = {'ban':1, 'ana':2, 'nan':1}"
   ]
  },
  {
   "cell_type": "code",
   "execution_count": 40,
   "id": "17a5a755-421e-4f15-aba9-954a9a90d886",
   "metadata": {},
   "outputs": [],
   "source": [
    "def n_grams_dict(string: str, n_grams: int) -> dict:\n",
    "    freq_dict = {}\n",
    "    for i in range(len(string)-(n_grams-1)):\n",
    "        n_gram = string[i:i+n_grams]\n",
    "        freq_dict[n_gram] = freq_dict.get(n_gram, 0) +1 # Retrieves the value for the n_gram if it exists; otherwise, it returns 0\n",
    "    return freq_dict"
   ]
  },
  {
   "cell_type": "code",
   "execution_count": 44,
   "id": "accf8ad5-6a0a-44fd-8b5b-f7ba90c1fe3b",
   "metadata": {},
   "outputs": [
    {
     "data": {
      "text/plain": [
       "{'bana': 1, 'anan': 2, 'nana': 1, 'nano': 1, 'anon': 1, 'nona': 1}"
      ]
     },
     "execution_count": 44,
     "metadata": {},
     "output_type": "execute_result"
    }
   ],
   "source": [
    "input_string = 'banananona'\n",
    "\n",
    "n_grams_dict(input_string, 4)"
   ]
  },
  {
   "cell_type": "code",
   "execution_count": null,
   "id": "8bc8348a-63e2-4a0a-925e-cf757fc77638",
   "metadata": {},
   "outputs": [],
   "source": []
  },
  {
   "cell_type": "code",
   "execution_count": null,
   "id": "d1bcf642-9fbf-4414-8b30-abcd5c8a7d78",
   "metadata": {},
   "outputs": [],
   "source": []
  },
  {
   "cell_type": "code",
   "execution_count": null,
   "id": "fa0d956e-6d09-4978-b0ed-c683f76d4bee",
   "metadata": {},
   "outputs": [],
   "source": []
  }
 ],
 "metadata": {
  "kernelspec": {
   "display_name": "Py310",
   "language": "python",
   "name": "py310"
  },
  "language_info": {
   "codemirror_mode": {
    "name": "ipython",
    "version": 3
   },
   "file_extension": ".py",
   "mimetype": "text/x-python",
   "name": "python",
   "nbconvert_exporter": "python",
   "pygments_lexer": "ipython3",
   "version": "3.10.11"
  }
 },
 "nbformat": 4,
 "nbformat_minor": 5
}
