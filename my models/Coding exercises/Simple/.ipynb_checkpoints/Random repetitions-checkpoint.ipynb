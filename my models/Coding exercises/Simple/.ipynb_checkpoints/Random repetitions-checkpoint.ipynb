{
 "cells": [
  {
   "cell_type": "code",
   "execution_count": 32,
   "id": "52205c68-cc9c-491c-95ab-da41ff73dc4e",
   "metadata": {},
   "outputs": [],
   "source": [
    "import random\n",
    "import numpy as np\n",
    "\n",
    "def random_throws(n_elem, n_throws, n_samples):\n",
    "    n_unused_list = []\n",
    "    is_collision_list = []\n",
    "    for i in range(n_samples):\n",
    "        throws = []\n",
    "        for throw in range(n_throws):\n",
    "            throws.append(random.randint(1, n_elem))\n",
    "        n_unused = n_elem - len(set(throws))\n",
    "        n_unused_list.append(n_unused)\n",
    "        if len(throws) == len(set(throws)): # no collision\n",
    "            is_collision_list.append(0)\n",
    "        else:\n",
    "            is_collision_list.append(1)\n",
    "        \n",
    "    return np.mean(n_unused_list), np.mean(is_collision_list)\n",
    "    \n",
    "    "
   ]
  },
  {
   "cell_type": "code",
   "execution_count": 68,
   "id": "f760848e-50e6-4088-8a1b-5d400062a522",
   "metadata": {},
   "outputs": [
    {
     "data": {
      "text/plain": [
       "(1.21358, 1.0)"
      ]
     },
     "execution_count": 68,
     "metadata": {},
     "output_type": "execute_result"
    }
   ],
   "source": [
    "random_throws(10,20,50000)"
   ]
  },
  {
   "cell_type": "code",
   "execution_count": 45,
   "id": "037540bf-e40e-4e89-bc88-b980be94335b",
   "metadata": {},
   "outputs": [],
   "source": [
    "def shared_birth(n_students, n_tries):\n",
    "    matched_list = []\n",
    "    for i in range(n_tries):\n",
    "        students_list = []\n",
    "        for student in range(n_students):\n",
    "            students_list.append(random.randint(1, 365))\n",
    "        matched_list.append(len(students_list) != len(set(students_list))) # 1 if match\n",
    "    return np.mean(matched_list)\n",
    "        \n",
    "        \n",
    "    \n",
    "    "
   ]
  },
  {
   "cell_type": "code",
   "execution_count": 63,
   "id": "6758b9f1-df62-4755-94f1-6735585d7916",
   "metadata": {},
   "outputs": [
    {
     "data": {
      "text/plain": [
       "0.9999"
      ]
     },
     "execution_count": 63,
     "metadata": {},
     "output_type": "execute_result"
    }
   ],
   "source": [
    "shared_birth(82,10000)"
   ]
  }
 ],
 "metadata": {
  "kernelspec": {
   "display_name": "Py309",
   "language": "python",
   "name": "py309"
  },
  "language_info": {
   "codemirror_mode": {
    "name": "ipython",
    "version": 3
   },
   "file_extension": ".py",
   "mimetype": "text/x-python",
   "name": "python",
   "nbconvert_exporter": "python",
   "pygments_lexer": "ipython3",
   "version": "3.9.19"
  }
 },
 "nbformat": 4,
 "nbformat_minor": 5
}
