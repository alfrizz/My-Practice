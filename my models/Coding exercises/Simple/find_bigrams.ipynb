{
 "cells": [
  {
   "cell_type": "code",
   "execution_count": null,
   "id": "ac93a23f-a272-4539-8910-a60baf38a420",
   "metadata": {},
   "outputs": [],
   "source": [
    "# Write a function called find_bigrams that takes a sentence or paragraph of strings and returns a list of all its bigrams in order."
   ]
  },
  {
   "cell_type": "code",
   "execution_count": 1,
   "id": "3b97c978-cf9d-42bb-b545-d0d27309ce1f",
   "metadata": {},
   "outputs": [],
   "source": [
    "sentence = \"\"\"\n",
    "Have free hours and love children? \n",
    "Drive kids to school, soccer practice \n",
    "and other activities.\n",
    "\"\"\""
   ]
  },
  {
   "cell_type": "code",
   "execution_count": 19,
   "id": "ea5e0ea0-b66e-4be1-a201-4f49b303baab",
   "metadata": {},
   "outputs": [
    {
     "data": {
      "text/plain": [
       "'\\nHave free hours and love children? \\nDrive kids to school, soccer practice \\nand other activities.\\n'"
      ]
     },
     "execution_count": 19,
     "metadata": {},
     "output_type": "execute_result"
    }
   ],
   "source": [
    "import string\n",
    "\n",
    "sentence"
   ]
  },
  {
   "cell_type": "code",
   "execution_count": 57,
   "id": "64c7d8ef-0dcb-45bf-b892-c2d33ab139cd",
   "metadata": {},
   "outputs": [],
   "source": [
    "def find_bigrams(sentence):\n",
    "    list_words = []\n",
    "    list_tuples = []\n",
    "    sent_no_punct = sentence.translate(str.maketrans('', '', string.punctuation))\n",
    "    for i, word in enumerate(sent_no_punct.split()):\n",
    "        list_words.append(word)\n",
    "        if i > 0:\n",
    "            list_tuples.append((list_words[i-1],word))\n",
    "    return list_tuples\n"
   ]
  },
  {
   "cell_type": "code",
   "execution_count": 58,
   "id": "eb56d20f-c2b4-4038-9f51-6fc5f944bf16",
   "metadata": {},
   "outputs": [
    {
     "data": {
      "text/plain": [
       "[('Have', 'free'),\n",
       " ('free', 'hours'),\n",
       " ('hours', 'and'),\n",
       " ('and', 'love'),\n",
       " ('love', 'children'),\n",
       " ('children', 'Drive'),\n",
       " ('Drive', 'kids'),\n",
       " ('kids', 'to'),\n",
       " ('to', 'school'),\n",
       " ('school', 'soccer'),\n",
       " ('soccer', 'practice'),\n",
       " ('practice', 'and'),\n",
       " ('and', 'other'),\n",
       " ('other', 'activities')]"
      ]
     },
     "execution_count": 58,
     "metadata": {},
     "output_type": "execute_result"
    }
   ],
   "source": [
    "find_bigrams(sentence)"
   ]
  },
  {
   "cell_type": "code",
   "execution_count": null,
   "id": "92d16de6-2efb-4f1b-a24a-51973c4008cf",
   "metadata": {},
   "outputs": [],
   "source": []
  },
  {
   "cell_type": "code",
   "execution_count": null,
   "id": "9119e4f4-e79a-4cc7-a35f-a70b51f07866",
   "metadata": {},
   "outputs": [],
   "source": []
  },
  {
   "cell_type": "code",
   "execution_count": null,
   "id": "3fd0e5b0-ca06-4ddd-83c7-3ca7365ac03f",
   "metadata": {},
   "outputs": [],
   "source": []
  }
 ],
 "metadata": {
  "kernelspec": {
   "display_name": "Py310",
   "language": "python",
   "name": "py310"
  },
  "language_info": {
   "codemirror_mode": {
    "name": "ipython",
    "version": 3
   },
   "file_extension": ".py",
   "mimetype": "text/x-python",
   "name": "python",
   "nbconvert_exporter": "python",
   "pygments_lexer": "ipython3",
   "version": "3.10.11"
  }
 },
 "nbformat": 4,
 "nbformat_minor": 5
}
