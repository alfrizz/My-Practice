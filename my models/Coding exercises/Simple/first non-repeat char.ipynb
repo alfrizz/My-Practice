{
 "cells": [
  {
   "cell_type": "code",
   "execution_count": null,
   "id": "77a36f4f-98ee-40a3-97f0-bce3872ff8e8",
   "metadata": {},
   "outputs": [],
   "source": [
    "# Given a string, find the first non-repeating character in it and return its index. If it doesn’t exist, return -1."
   ]
  },
  {
   "cell_type": "code",
   "execution_count": 23,
   "id": "4c74b533-4163-4e34-8ee8-85b27e0eb98f",
   "metadata": {},
   "outputs": [],
   "source": [
    "def fnrc(string):\n",
    "    for ind_char in range(len(string)):\n",
    "        if string[ind_char] in string[:ind_char] + string[ind_char+1:]:\n",
    "            return string[ind_char], ind_char       \n",
    "    return -1"
   ]
  },
  {
   "cell_type": "code",
   "execution_count": 27,
   "id": "64b3f881-76dc-4440-b791-307e9167c54b",
   "metadata": {},
   "outputs": [
    {
     "data": {
      "text/plain": [
       "('h', 5)"
      ]
     },
     "execution_count": 27,
     "metadata": {},
     "output_type": "execute_result"
    }
   ],
   "source": [
    "fnrc('asdfghjkhl')"
   ]
  },
  {
   "cell_type": "code",
   "execution_count": null,
   "id": "a23a9f6d-b619-4de9-9eb4-fff4fd5a9714",
   "metadata": {},
   "outputs": [],
   "source": []
  },
  {
   "cell_type": "code",
   "execution_count": null,
   "id": "63e174a0-bf6d-4df2-a0fe-ce2651c41dd4",
   "metadata": {},
   "outputs": [],
   "source": []
  },
  {
   "cell_type": "code",
   "execution_count": null,
   "id": "dd8594a2-4c59-494e-98a0-d88cdddb7165",
   "metadata": {},
   "outputs": [],
   "source": []
  },
  {
   "cell_type": "code",
   "execution_count": null,
   "id": "9381845f-1e18-465e-aaa2-ff9bd4f55174",
   "metadata": {},
   "outputs": [],
   "source": []
  },
  {
   "cell_type": "code",
   "execution_count": null,
   "id": "ebe91728-70db-4ce9-9c71-4e34189eb00a",
   "metadata": {},
   "outputs": [],
   "source": []
  },
  {
   "cell_type": "code",
   "execution_count": null,
   "id": "cf37b78a-4f4e-40b7-b3de-807f06cb1f44",
   "metadata": {},
   "outputs": [],
   "source": []
  },
  {
   "cell_type": "code",
   "execution_count": null,
   "id": "87a7fb63-0a6c-4b14-9dd6-ac2dc0a476c5",
   "metadata": {},
   "outputs": [],
   "source": []
  },
  {
   "cell_type": "code",
   "execution_count": null,
   "id": "c0c53ee3-6f36-4338-b857-3b78f738530f",
   "metadata": {},
   "outputs": [],
   "source": []
  },
  {
   "cell_type": "code",
   "execution_count": null,
   "id": "82aecc68-926e-49c6-a875-e5f972727c1b",
   "metadata": {},
   "outputs": [],
   "source": []
  },
  {
   "cell_type": "code",
   "execution_count": null,
   "id": "6a929d89-526b-4854-95b0-ac356d11e898",
   "metadata": {},
   "outputs": [],
   "source": []
  },
  {
   "cell_type": "code",
   "execution_count": null,
   "id": "7d8e5d68-e088-4d26-be4b-2aa852feda0d",
   "metadata": {},
   "outputs": [],
   "source": []
  },
  {
   "cell_type": "code",
   "execution_count": null,
   "id": "97d71bb3-43de-4bfc-b1cd-2c1204752576",
   "metadata": {},
   "outputs": [],
   "source": []
  },
  {
   "cell_type": "code",
   "execution_count": null,
   "id": "6d384e66-09f6-466d-b1cf-af299c4abd33",
   "metadata": {},
   "outputs": [],
   "source": []
  },
  {
   "cell_type": "code",
   "execution_count": null,
   "id": "eb6f65dc-89c3-4af7-ad3b-262a1384d5fa",
   "metadata": {},
   "outputs": [],
   "source": []
  },
  {
   "cell_type": "code",
   "execution_count": null,
   "id": "b62a0a7e-0aaf-425b-a2e0-957cdf7e8c86",
   "metadata": {},
   "outputs": [],
   "source": []
  }
 ],
 "metadata": {
  "kernelspec": {
   "display_name": "Py310",
   "language": "python",
   "name": "py310"
  },
  "language_info": {
   "codemirror_mode": {
    "name": "ipython",
    "version": 3
   },
   "file_extension": ".py",
   "mimetype": "text/x-python",
   "name": "python",
   "nbconvert_exporter": "python",
   "pygments_lexer": "ipython3",
   "version": "3.10.11"
  }
 },
 "nbformat": 4,
 "nbformat_minor": 5
}
