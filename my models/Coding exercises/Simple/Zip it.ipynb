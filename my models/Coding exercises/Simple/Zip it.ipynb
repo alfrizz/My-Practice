{
 "cells": [
  {
   "cell_type": "markdown",
   "id": "4deefdab-7a78-4125-8403-b1ec45b9ff8b",
   "metadata": {},
   "source": [
    "For this challenge, we are going to recreate an existing built-in python function called zip().\n",
    "\n",
    "The purpose of the zip() function in python is to merge two given lists into a single list of tuples. Each tuple will contain two values: one value from each list being merged.\n",
    "\n",
    "You can see how the zip() function works using the trinket embed below.\n",
    "\n",
    "Your task is to create a new function called zipLists() that will behave exactly the same way as the built-in zip() function, using your own algorithm. Your function will need to take two lists as parameters and return a “zipped list of tuples”. To start with, you may assume that both lists provided will be of the same length (contain the same numbers of values). You will then be able to adapt your code to consider the case where one list has less values than the other. In this case you will ignore surplus values."
   ]
  },
  {
   "cell_type": "code",
   "execution_count": 7,
   "id": "68f38310-fc1e-4c91-9ce8-28cbc2b03ecc",
   "metadata": {},
   "outputs": [
    {
     "name": "stdout",
     "output_type": "stream",
     "text": [
      "\"Zipping\" two lists into a list of tuples...\n",
      "\n",
      "List 1: \n",
      "['One', 'Two', 'Three', 'Four', 'Five']\n",
      "\n",
      "List 2: \n",
      "['Uno', 'Dos', 'Tres', 'Cuatro', 'Cinco']\n",
      "\n",
      "Resulting \"Zipped\" List:\n",
      "[('One', 'Uno'), ('Two', 'Dos'), ('Three', 'Tres'), ('Four', 'Cuatro'), ('Five', 'Cinco')]\n"
     ]
    }
   ],
   "source": [
    "#Zip it! Python Challenge - www.101computing.net/zip-it-python-challenge\n",
    "\n",
    "englishNumbers = [\"One\", \"Two\", \"Three\", \"Four\", \"Five\"]\n",
    "spanishNumbers = [\"Uno\", \"Dos\", \"Tres\", \"Cuatro\", \"Cinco\"]\n",
    "\n",
    "print('\"Zipping\" two lists into a list of tuples...')\n",
    "print(\"\\nList 1: \")\n",
    "print(englishNumbers)\n",
    "print(\"\\nList 2: \")\n",
    "print(spanishNumbers)\n",
    "\n",
    "#Using the built-in zip() function in Python\n",
    "numbers = list(zip(englishNumbers, spanishNumbers))\n",
    "\n",
    "print('\\nResulting \"Zipped\" List:')\n",
    "print(numbers)"
   ]
  },
  {
   "cell_type": "code",
   "execution_count": 4,
   "id": "3a043642-38fc-4beb-8531-ddacc0187960",
   "metadata": {},
   "outputs": [
    {
     "data": {
      "text/plain": [
       "[(1, 'a'), (2, 'b'), (3, 'c')]"
      ]
     },
     "execution_count": 4,
     "metadata": {},
     "output_type": "execute_result"
    }
   ],
   "source": [
    "list(zip([1,2,3,4],[\"a\",\"b\",\"c\"]))"
   ]
  },
  {
   "cell_type": "code",
   "execution_count": 28,
   "id": "21bc1db7-9013-432d-ad37-04c6df4754d6",
   "metadata": {},
   "outputs": [],
   "source": [
    "#Your task: Create a new function called zipLists() to implement you own version of the built-in zip() function.\n",
    "#Your zipLists() function will need to take two lists as parameters \n",
    "# and return a list of tuples where each tuple contains two values: one from each list.\n",
    "\n",
    "def ziplists(list1, list2):\n",
    "    min_len = min(len(list1),len(list2))\n",
    "    zipped_list = []\n",
    "    for i in range(min_len):\n",
    "        zipped_list.append((list1[i],list2[i]))\n",
    "    return zipped_list"
   ]
  },
  {
   "cell_type": "code",
   "execution_count": 29,
   "id": "daa464a3-15ae-4868-be7c-14750d669d5f",
   "metadata": {},
   "outputs": [
    {
     "data": {
      "text/plain": [
       "[(1, 'a'), (2, 'b'), (3, 'c')]"
      ]
     },
     "execution_count": 29,
     "metadata": {},
     "output_type": "execute_result"
    }
   ],
   "source": [
    "ziplists([1,2,3,4],[\"a\",\"b\",\"c\"])"
   ]
  },
  {
   "cell_type": "code",
   "execution_count": null,
   "id": "58844d78-8c19-4b44-9ead-d9c1f01992cf",
   "metadata": {},
   "outputs": [],
   "source": []
  },
  {
   "cell_type": "code",
   "execution_count": null,
   "id": "c237a9eb-fa54-44e7-8058-e5161d80a84d",
   "metadata": {},
   "outputs": [],
   "source": []
  },
  {
   "cell_type": "code",
   "execution_count": null,
   "id": "db8ddaf9-8579-453a-a7ed-f618b79388e2",
   "metadata": {},
   "outputs": [],
   "source": []
  },
  {
   "cell_type": "code",
   "execution_count": null,
   "id": "0e017b60-9aae-422e-847c-5365c00d7771",
   "metadata": {},
   "outputs": [],
   "source": []
  },
  {
   "cell_type": "code",
   "execution_count": null,
   "id": "890861df-9096-48b2-9335-5755731fb460",
   "metadata": {},
   "outputs": [],
   "source": []
  },
  {
   "cell_type": "code",
   "execution_count": null,
   "id": "b571415f-dc3b-4597-8d77-26a599b1c792",
   "metadata": {},
   "outputs": [],
   "source": []
  },
  {
   "cell_type": "code",
   "execution_count": null,
   "id": "8861d7e8-23e0-439b-a554-493cba0cbd14",
   "metadata": {},
   "outputs": [],
   "source": []
  }
 ],
 "metadata": {
  "kernelspec": {
   "display_name": "Py309",
   "language": "python",
   "name": "py309"
  },
  "language_info": {
   "codemirror_mode": {
    "name": "ipython",
    "version": 3
   },
   "file_extension": ".py",
   "mimetype": "text/x-python",
   "name": "python",
   "nbconvert_exporter": "python",
   "pygments_lexer": "ipython3",
   "version": "3.9.16"
  }
 },
 "nbformat": 4,
 "nbformat_minor": 5
}
