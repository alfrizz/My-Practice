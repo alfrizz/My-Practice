{
 "cells": [
  {
   "cell_type": "code",
   "execution_count": null,
   "id": "9256c17f-142b-425d-9799-eb53527e4a75",
   "metadata": {},
   "outputs": [],
   "source": [
    "'''\n",
    "======================================\n",
    "Compute Distance\n",
    "======================================\n",
    "\n",
    "The distance between two strings s and s’ is a similarity coefficient between the two of them. \n",
    "For this particular exercise, we consider a string to have a distance of 0 to another string \n",
    "if it’s equal to it and there is no upper bound on it’s distance. \n",
    "The distance is computed based on the best partial fit s’ has on s or vice-versa, \n",
    "adding 0 for characters in that can align and 1 for every character that does not align. \n",
    "For example, “saint” and “paint” have a distance of 1 as all their characters align but the first one. \n",
    "On the other hand, “ceilings” and “sling” have a distance of 4 as the “ling” sub-string can be aligned but the remaining characters cannot.\n",
    "\n",
    "Implement a function that given two strings, returns the distance between the two.\n",
    "\n",
    "Examples:\n",
    "1. computeDistance(“belt”, “bell”) -> 1\n",
    "2. computeDistance(“tree”, “three”) -> 2\n",
    "3. computeDistance(“prune”, “prawn”) -> 3\n",
    "\n",
    "'''"
   ]
  },
  {
   "cell_type": "code",
   "execution_count": 165,
   "id": "1456d8d6-c0d7-4159-9c29-b1e3894e30be",
   "metadata": {},
   "outputs": [],
   "source": [
    "def comp_dist(string1,string2):\n",
    "    largestring = string1 if len(string1) > len(string2) else string2\n",
    "    smallestring = string2 if largestring==string1 else string1\n",
    "    distance = len(largestring)\n",
    "    partial_fits = []\n",
    "    if string1==string2:\n",
    "        distance = 0\n",
    "    else:\n",
    "        init_str = 0\n",
    "        while init_str < len(smallestring):\n",
    "            if smallestring[init_str] in largestring:\n",
    "                partial_fit = 0\n",
    "                for end_str in range(init_str+1, len(smallestring)+1):\n",
    "                    if smallestring[init_str:end_str] in largestring:\n",
    "                        partial_fit+= 1\n",
    "                partial_fits.append(partial_fit)\n",
    "                init_str+= partial_fit-1\n",
    "            init_str+= 1\n",
    "        distance = len(largestring) - max(partial_fits)\n",
    "                    \n",
    "    return distance"
   ]
  },
  {
   "cell_type": "code",
   "execution_count": 166,
   "id": "8bfac02b-3ec1-4e27-9fe4-0423f29ab5c8",
   "metadata": {},
   "outputs": [
    {
     "data": {
      "text/plain": [
       "6"
      ]
     },
     "execution_count": 166,
     "metadata": {},
     "output_type": "execute_result"
    }
   ],
   "source": [
    "comp_dist('asdfghjkl', 'asfgjkl')\n",
    "# comp_dist('belt', 'bell') \n",
    "# comp_dist('tree', 'three') \n",
    "# comp_dist('prune', 'prawn') "
   ]
  }
 ],
 "metadata": {
  "kernelspec": {
   "display_name": "Py309",
   "language": "python",
   "name": "py309"
  },
  "language_info": {
   "codemirror_mode": {
    "name": "ipython",
    "version": 3
   },
   "file_extension": ".py",
   "mimetype": "text/x-python",
   "name": "python",
   "nbconvert_exporter": "python",
   "pygments_lexer": "ipython3",
   "version": "3.9.16"
  }
 },
 "nbformat": 4,
 "nbformat_minor": 5
}
