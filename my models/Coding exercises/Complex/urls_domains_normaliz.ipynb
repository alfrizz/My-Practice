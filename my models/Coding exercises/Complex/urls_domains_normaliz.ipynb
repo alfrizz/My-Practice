{
 "cells": [
  {
   "cell_type": "code",
   "execution_count": 5,
   "id": "d366b8bd-c6fe-4ba6-b38a-13665f84c4e0",
   "metadata": {},
   "outputs": [],
   "source": [
    "from urllib.parse import urlparse, urlunparse\n",
    "\n",
    "def normalize_url(url):\n",
    "    parsed_url = urlparse(url)\n",
    "    scheme = parsed_url.scheme.lower()\n",
    "    netloc = parsed_url.netloc.lower()\n",
    "    normalized_parsed_url = parsed_url._replace(scheme=scheme, netloc=netloc)\n",
    "    normalized_url = urlunparse(normalized_parsed_url)\n",
    "    return normalized_url\n",
    "\n",
    "\n",
    "\n",
    "urls_example = [\n",
    "    # Normalized URLs\n",
    "    \"https://www.example.it\",\n",
    "    \"https://www.example.it/alf\",\n",
    "    \"https://www.example.es/alf\",\n",
    "    \"https://www.example.es/riz\",\n",
    "    \"https://www.example.com/riz\",\n",
    "\n",
    "    # Not Normalized URLs\n",
    "    \"https://www.example.it\",\n",
    "    \"https://www.example.it/alf\",\n",
    "    \"https://www.example.es/alf\",\n",
    "    \"http://www.example.es/riz?id=123&ref=homepage\",\n",
    "    \"http://www.example.com/riz?q=product&sort=price\"\n",
    "]\n",
    "\n",
    "# normalize_url('http://www.example.com/search?q=product&sort=price')"
   ]
  },
  {
   "cell_type": "code",
   "execution_count": 6,
   "id": "82cc6907-a514-4c97-a16d-d42052b54bb0",
   "metadata": {},
   "outputs": [
    {
     "data": {
      "text/plain": [
       "(7,\n",
       " ['https://www.example.it',\n",
       "  'https://www.example.it/alf',\n",
       "  'https://www.example.es/alf',\n",
       "  'https://www.example.es/riz',\n",
       "  'https://www.example.com/riz',\n",
       "  'http://www.example.es/riz?id=123&ref=homepage',\n",
       "  'http://www.example.com/riz?q=product&sort=price'])"
      ]
     },
     "execution_count": 6,
     "metadata": {},
     "output_type": "execute_result"
    }
   ],
   "source": [
    "\"\"\"\n",
    "* This function counts how many unique normalized valid URLs were passed to the function\n",
    "*\n",
    "* Accepts a list of URLs\n",
    "*\n",
    "* Example:\n",
    "*\n",
    "* input: ['https://example.com']\n",
    "* output: 1\n",
    "*\n",
    "* Notes:\n",
    "*  - assume none of the URLs have authentication information (username, password).\n",
    "*\n",
    "* Normalized URL:\n",
    "*  - process in which a URL is modified and standardized: https://en.wikipedia.org/wiki/URL_normalization\n",
    "*\n",
    "#    For example.\n",
    "#    These 2 urls are the same:\n",
    "#    input: [\"https://example.com\", \"https://example.com/\"]\n",
    "#    output: 1\n",
    "#\n",
    "#    These 2 are not the same:\n",
    "#    input: [\"https://example.com\", \"http://example.com\"]\n",
    "#    output 2\n",
    "#\n",
    "#    These 2 are the same:\n",
    "#    input: [\"https://example.com?\", \"https://example.com\"]\n",
    "#    output: 1\n",
    "#\n",
    "#    These 2 are the same:\n",
    "#    input: [\"https://example.com?a=1&b=2\", \"https://example.com?b=2&a=1\"]\n",
    "#    output: 1\n",
    "\"\"\"\n",
    "\n",
    "def count_unique_urls(urls: list[str]) -> int:\n",
    "    unique_urls = []\n",
    "    while len(urls)>0:\n",
    "        duplic_indexes = [0]\n",
    "        for i in range(1,len(urls)):\n",
    "            # print(normalize_url(urls[0]))\n",
    "            if normalize_url(urls[0]) == normalize_url(urls[i]):\n",
    "                duplic_indexes.append(i)\n",
    "        unique_urls.append(normalize_url(urls[0]))\n",
    "        urls = [url for index, url in enumerate(urls) if index not in duplic_indexes] \n",
    "    return len(unique_urls), unique_urls\n",
    "\n",
    "\n",
    "count_unique_urls(urls_example)"
   ]
  },
  {
   "cell_type": "code",
   "execution_count": 39,
   "id": "d08c6ffe-0529-41db-9f2d-e2aeb52f3431",
   "metadata": {},
   "outputs": [
    {
     "data": {
      "text/plain": [
       "defaultdict(int,\n",
       "            {'www.example.it': 2, 'www.example.es': 3, 'www.example.com': 2})"
      ]
     },
     "execution_count": 39,
     "metadata": {},
     "output_type": "execute_result"
    }
   ],
   "source": [
    "\"\"\"\n",
    " * This function counts how many unique normalized valid URLs were passed to the function per top level domain\n",
    " *\n",
    " * A top level domain is a domain in the form of example.com. Assume all top level domains end in .com\n",
    " * subdomain.example.com is not a top level domain.\n",
    " *\n",
    " * Accepts a list of URLs\n",
    " *\n",
    " * Example:\n",
    " *\n",
    " * input: [\"https://example.com\"]\n",
    " * output: Hash[\"example.com\" => 1]\n",
    " *\n",
    " * input: [\"https://example.com\", \"https://subdomain.example.com\"]\n",
    " * output: Hash[\"example.com\" => 2]\n",
    " *\n",
    "\"\"\"\n",
    "\n",
    "from collections import defaultdict\n",
    "\n",
    "def count_unique_urls_per_top_level_domain(urls: list[str]) -> Dict[str, int]:\n",
    "    \n",
    "    unique_urls_dom = defaultdict(int)\n",
    "    _, unique_urls = count_unique_urls(urls)\n",
    "    \n",
    "    for url in unique_urls:\n",
    "        domain = urlparse(url).netloc\n",
    "        unique_urls_dom[domain] += 1\n",
    "    \n",
    "    return unique_urls_dom\n",
    "\n",
    "count_unique_urls_per_top_level_domain(urls_example)"
   ]
  }
 ],
 "metadata": {
  "kernelspec": {
   "display_name": "Py309",
   "language": "python",
   "name": "py309"
  },
  "language_info": {
   "codemirror_mode": {
    "name": "ipython",
    "version": 3
   },
   "file_extension": ".py",
   "mimetype": "text/x-python",
   "name": "python",
   "nbconvert_exporter": "python",
   "pygments_lexer": "ipython3",
   "version": "3.9.16"
  }
 },
 "nbformat": 4,
 "nbformat_minor": 5
}
