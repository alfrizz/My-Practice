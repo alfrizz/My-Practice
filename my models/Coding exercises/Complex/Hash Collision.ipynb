{
 "cells": [
  {
   "cell_type": "code",
   "execution_count": 30,
   "id": "64b1ff28-b5c4-4730-88bb-f36a40459164",
   "metadata": {},
   "outputs": [
    {
     "data": {
      "text/plain": [
       "(0.00036288, 0.99963712)"
      ]
     },
     "execution_count": 30,
     "metadata": {},
     "output_type": "execute_result"
    }
   ],
   "source": [
    "# Probability of a hash collision: A hash collision occurs when two different inputs produce the same hash output. If we have 10 objects and each one is assigned a hash between 1 and 10 (inclusive) with equal probability, then the probability of no collision for the first object is 10/10. For the second object, there’s a 1 in 10 chance it will collide with the first object’s hash, so the probability of no collision is 9/10. For the third object, 8/10, and so on. The probability of no collision when hashing 10 objects into 10 slots is therefore:\n",
    "# (10/10 * 9/10 * 8/10 * … * 1/10) =  (10!) / (10^10)\n",
    "\n",
    "import math\n",
    "\n",
    "p_no_collis = math.factorial(10) / (10**10)\n",
    "\n",
    "p_no_collis, 1-no_collis # and the probability of at least one collision is 1 - p_no_collis"
   ]
  },
  {
   "cell_type": "code",
   "execution_count": 93,
   "id": "c3704a8e-c0d8-4ec5-8364-81058bf9a088",
   "metadata": {},
   "outputs": [
    {
     "name": "stdout",
     "output_type": "stream",
     "text": [
      "The probability of no collisions [1, 1, 1, 1, 1, 1, 1, 1, 1, 1] is 0.00036288000000000005\n",
      "The probability of collisions is 0.99963712\n"
     ]
    }
   ],
   "source": [
    "from scipy.stats import multinomial\n",
    "import numpy as np\n",
    "\n",
    "# Define the number of slots\n",
    "n_slots = 10  # number of slots\n",
    "\n",
    "p = [1/n_slots]*n_slots  # equal probabilities for each outcome\n",
    "\n",
    "# Define the specific outcome you're interested in\n",
    "k = [1]*n_slots  # for each of the n trials, a different of the n elements is extracted\n",
    "\n",
    "# Calculate the probability of the outcome\n",
    "prob = multinomial.pmf(k, n_slots, p)\n",
    "\n",
    "print(f\"The probability of no collisions {k} is {prob}\")\n",
    "\n",
    "print(f\"The probability of collisions is {1-prob}\")"
   ]
  },
  {
   "cell_type": "code",
   "execution_count": 103,
   "id": "725b9042-c0bc-450a-b0eb-e809c42f5b93",
   "metadata": {},
   "outputs": [
    {
     "data": {
      "text/plain": [
       "array([[2, 1, 2, 4, 5, 3, 4, 2, 3, 4],\n",
       "       [3, 4, 1, 6, 1, 3, 4, 2, 2, 4],\n",
       "       [1, 4, 2, 4, 1, 2, 2, 3, 8, 3],\n",
       "       [4, 4, 0, 2, 5, 4, 1, 3, 3, 4],\n",
       "       [1, 4, 1, 3, 1, 5, 3, 4, 5, 3],\n",
       "       [1, 4, 2, 2, 5, 5, 3, 4, 3, 1],\n",
       "       [5, 2, 3, 3, 3, 0, 1, 6, 2, 5]])"
      ]
     },
     "execution_count": 103,
     "metadata": {},
     "output_type": "execute_result"
    }
   ],
   "source": [
    "n_objects = 30  # number of object\n",
    "\n",
    "# Generate all possible outcomes\n",
    "outcomes = multinomial.rvs(n_objects, p, size=1000000)\n",
    "\n",
    "outcomes[:7]"
   ]
  },
  {
   "cell_type": "code",
   "execution_count": 102,
   "id": "b5e3a664-0da0-440d-8f54-94eeb5751f5c",
   "metadata": {},
   "outputs": [
    {
     "name": "stdout",
     "output_type": "stream",
     "text": [
      "(0,)\n",
      "(1000000,)\n",
      "Probability of a hash collision: 1.0\n"
     ]
    }
   ],
   "source": [
    "# Probability of a hash collision\n",
    "\n",
    "collision = np.any(outcomes > 1, axis=1)\n",
    "print(collision[collision==False].shape)\n",
    "print(collision[collision==True].shape)\n",
    "\n",
    "prob_collision = np.mean(collision)\n",
    "print(f\"Probability of a hash collision: {prob_collision}\")\n"
   ]
  },
  {
   "cell_type": "code",
   "execution_count": 105,
   "id": "11ab47a2-8601-43cc-81de-71f6daa9afb8",
   "metadata": {},
   "outputs": [
    {
     "data": {
      "text/plain": [
       "(0.04239115827521624, 0.42391158275216234)"
      ]
     },
     "execution_count": 105,
     "metadata": {},
     "output_type": "execute_result"
    }
   ],
   "source": [
    "# Expected number of unused hashes: This is equivalent to the number of slots that have zero objects hashed to them. The probability that a given slot is unused after one object is hashed is 9/10. After two objects are hashed, the probability that a given slot is still unused is (9/10)^2, and so on. Therefore, the expected number of unused slots after 10 objects are hashed is 10 * (9/10)^10 ≈ 3.486.\n",
    "\n",
    "p_unused_slot = ((n_slots-1)/n_slots)**n_objects\n",
    "\n",
    "exp_numb_unused_slots = n_slots * p_unused_slot\n",
    "\n",
    "p_unused_slot, exp_numb_unused_slots"
   ]
  },
  {
   "cell_type": "code",
   "execution_count": 106,
   "id": "84db992c-d9e0-45ab-a71c-a8ba6074d811",
   "metadata": {},
   "outputs": [
    {
     "name": "stdout",
     "output_type": "stream",
     "text": [
      "[0 0 0 ... 0 1 1]\n",
      "Expected number of unused hashes: 0.42512\n"
     ]
    }
   ],
   "source": [
    "# Expected number of unused hashes\n",
    "\n",
    "unused_hashes = np.count_nonzero(outcomes == 0, axis=1) # it counts the number of slots with 0 elements for each rvs of the outcome sample\n",
    "print(unused_hashes)\n",
    "\n",
    "print(f\"Expected number of unused hashes: {np.mean(unused_hashes)}\")"
   ]
  },
  {
   "cell_type": "code",
   "execution_count": 107,
   "id": "10906a20-3b08-4da0-91dd-3e956b978f22",
   "metadata": {},
   "outputs": [
    {
     "data": {
      "text/plain": [
       "array([[2, 1, 2, 4, 5, 3, 4, 2, 3, 4],\n",
       "       [3, 4, 1, 6, 1, 3, 4, 2, 2, 4],\n",
       "       [1, 4, 2, 4, 1, 2, 2, 3, 8, 3]])"
      ]
     },
     "execution_count": 107,
     "metadata": {},
     "output_type": "execute_result"
    }
   ],
   "source": [
    "outcomes[:3]"
   ]
  },
  {
   "cell_type": "code",
   "execution_count": 108,
   "id": "e5b03712-1aeb-43bc-bd15-c07795b4cb69",
   "metadata": {},
   "outputs": [
    {
     "data": {
      "text/plain": [
       "20.42512"
      ]
     },
     "execution_count": 108,
     "metadata": {},
     "output_type": "execute_result"
    }
   ],
   "source": [
    "# Expected number of hash collisions\n",
    "\n",
    "np.mean([sum(slot[slot>1]) - len(slot[slot>1]) for slot in outcomes])"
   ]
  },
  {
   "cell_type": "code",
   "execution_count": 111,
   "id": "4e30570e-1a6a-48b4-99dd-52a09fba2e29",
   "metadata": {},
   "outputs": [
    {
     "name": "stdout",
     "output_type": "stream",
     "text": [
      "Expected number of hash collisions: 20.42512\n"
     ]
    }
   ],
   "source": [
    "# Calculate the number of collisions for each outcome\n",
    "collisions = np.sum(outcomes - 1, where=outcomes>1, axis=1)\n",
    "\n",
    "# Calculate the expected number of collisions\n",
    "expected_collisions = np.mean(collisions)\n",
    "\n",
    "print(f\"Expected number of hash collisions: {expected_collisions}\")\n"
   ]
  },
  {
   "cell_type": "code",
   "execution_count": null,
   "id": "1ab7c0de-cebe-4b3f-b35e-5c12a3cfd11f",
   "metadata": {},
   "outputs": [],
   "source": [
    "# Expected number of hash collisions ---------- to be calculated analitically ------------"
   ]
  },
  {
   "cell_type": "code",
   "execution_count": null,
   "id": "359c4475-1e53-484e-b82e-9aa029984384",
   "metadata": {},
   "outputs": [],
   "source": []
  },
  {
   "cell_type": "code",
   "execution_count": null,
   "id": "c7770dfc-2db9-423d-a1c6-066581749a24",
   "metadata": {},
   "outputs": [],
   "source": []
  },
  {
   "cell_type": "code",
   "execution_count": null,
   "id": "865bed6d-b7d5-4e45-91d4-a02418536cc3",
   "metadata": {},
   "outputs": [],
   "source": []
  },
  {
   "cell_type": "code",
   "execution_count": null,
   "id": "69220688-fb7f-45a1-aea4-b5a56867c418",
   "metadata": {},
   "outputs": [],
   "source": []
  },
  {
   "cell_type": "code",
   "execution_count": null,
   "id": "4ea04a95-8a30-4f77-808c-c07d0b4004e3",
   "metadata": {},
   "outputs": [],
   "source": []
  },
  {
   "cell_type": "code",
   "execution_count": null,
   "id": "4c03149f-9233-4a66-b4dd-37c3eb9339b3",
   "metadata": {},
   "outputs": [],
   "source": []
  },
  {
   "cell_type": "code",
   "execution_count": null,
   "id": "87055fde-c3c8-4c7e-9001-03691b1a7081",
   "metadata": {},
   "outputs": [],
   "source": []
  },
  {
   "cell_type": "code",
   "execution_count": null,
   "id": "168c87e7-cf37-46f6-bf26-c8e5d7714aea",
   "metadata": {},
   "outputs": [],
   "source": []
  },
  {
   "cell_type": "code",
   "execution_count": null,
   "id": "9bc0f6bc-2339-4d70-b61c-f3bfca62023c",
   "metadata": {},
   "outputs": [],
   "source": []
  },
  {
   "cell_type": "code",
   "execution_count": null,
   "id": "9b44e9cf-5ff3-4e25-bb8f-153dbc797ca0",
   "metadata": {},
   "outputs": [],
   "source": []
  },
  {
   "cell_type": "code",
   "execution_count": null,
   "id": "6312fc34-045b-472b-ad3b-b816496428ea",
   "metadata": {},
   "outputs": [],
   "source": []
  },
  {
   "cell_type": "code",
   "execution_count": null,
   "id": "afb3f6ae-684a-4675-9fad-cb3a620ffa98",
   "metadata": {},
   "outputs": [],
   "source": []
  },
  {
   "cell_type": "code",
   "execution_count": null,
   "id": "dcc8553e-7c60-4ed3-a2a2-f07e785557c0",
   "metadata": {},
   "outputs": [],
   "source": []
  }
 ],
 "metadata": {
  "kernelspec": {
   "display_name": "Py310",
   "language": "python",
   "name": "py310"
  },
  "language_info": {
   "codemirror_mode": {
    "name": "ipython",
    "version": 3
   },
   "file_extension": ".py",
   "mimetype": "text/x-python",
   "name": "python",
   "nbconvert_exporter": "python",
   "pygments_lexer": "ipython3",
   "version": "3.10.11"
  }
 },
 "nbformat": 4,
 "nbformat_minor": 5
}
