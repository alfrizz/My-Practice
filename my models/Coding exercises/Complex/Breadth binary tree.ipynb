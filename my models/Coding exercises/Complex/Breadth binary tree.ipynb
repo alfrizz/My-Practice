{
 "cells": [
  {
   "cell_type": "code",
   "execution_count": 2,
   "id": "a9dbc949-3c9c-43e1-baea-827d1abb116c",
   "metadata": {},
   "outputs": [
    {
     "name": "stdout",
     "output_type": "stream",
     "text": [
      "Looking in indexes: https://pypi.org/simple, https://pypi.ngc.nvidia.com\n",
      "Requirement already satisfied: tree in c:\\users\\alienware\\miniconda3\\envs\\py310\\lib\\site-packages (0.2.4)\n",
      "Requirement already satisfied: svgwrite in c:\\users\\alienware\\miniconda3\\envs\\py310\\lib\\site-packages (from tree) (1.4.3)\n",
      "Requirement already satisfied: setuptools in c:\\users\\alienware\\miniconda3\\envs\\py310\\lib\\site-packages (from tree) (66.0.0)\n",
      "Requirement already satisfied: click in c:\\users\\alienware\\miniconda3\\envs\\py310\\lib\\site-packages (from tree) (8.1.4)\n",
      "Requirement already satisfied: Pillow in c:\\users\\alienware\\miniconda3\\envs\\py310\\lib\\site-packages (from tree) (9.5.0)\n",
      "Requirement already satisfied: colorama in c:\\users\\alienware\\miniconda3\\envs\\py310\\lib\\site-packages (from click->tree) (0.4.6)\n",
      "        47\n",
      "        / \\\n",
      "       /   \\\n",
      "      /     \\\n",
      "     /       \\\n",
      "    /         \\\n",
      "   36         66\n",
      "  / \\         / \\\n",
      " /   \\       /   \\\n",
      "25   39     63   68\n",
      "     / \\     \\\n",
      "    /   \\    64\n",
      "   38   42\n"
     ]
    },
    {
     "name": "stderr",
     "output_type": "stream",
     "text": [
      "WARNING: Ignoring invalid distribution -orch (c:\\users\\alienware\\miniconda3\\envs\\py310\\lib\\site-packages)\n",
      "WARNING: Ignoring invalid distribution -orch (c:\\users\\alienware\\miniconda3\\envs\\py310\\lib\\site-packages)\n",
      "WARNING: Ignoring invalid distribution -orch (c:\\users\\alienware\\miniconda3\\envs\\py310\\lib\\site-packages)\n",
      "WARNING: Ignoring invalid distribution -orch (c:\\users\\alienware\\miniconda3\\envs\\py310\\lib\\site-packages)\n",
      "WARNING: Ignoring invalid distribution -orch (c:\\users\\alienware\\miniconda3\\envs\\py310\\lib\\site-packages)\n",
      "WARNING: Ignoring invalid distribution -orch (c:\\users\\alienware\\miniconda3\\envs\\py310\\lib\\site-packages)\n"
     ]
    }
   ],
   "source": [
    "#Breadth-First Traversal of a Binary Tree - www.101computing.net/breadth-first-traversal-of-a-binary-tree\n",
    "!pip install tree\n",
    "import tree\n",
    "from tree import drawTree #This library will only be used to draw the binary tree on the screen\n",
    "\n",
    "#A class to implement a Node / Tree\n",
    "class Node:\n",
    "    def __init__(self, value, left=None, right=None):\n",
    "        self.value = value\n",
    "        self.left = left\n",
    "        self.right = right\n",
    "\n",
    "    \n",
    "    \n",
    "#Let's initialise our binary tree:\n",
    "tree = Node(47) #The root node of our binary tree\n",
    "tree.left = Node(36)\n",
    "tree.right = Node(66)\n",
    "\n",
    "tree.left.left = Node(25)\n",
    "tree.left.right = Node(39)\n",
    "tree.left.right.left = Node(38)\n",
    "tree.left.right.right = Node(42)\n",
    "\n",
    "tree.right.left = Node(63)\n",
    "tree.right.left.right = Node(64)\n",
    "tree.right.right = Node(68)\n",
    "\n",
    "drawTree(tree)\n"
   ]
  },
  {
   "cell_type": "code",
   "execution_count": 10,
   "id": "be3ed1fb-b2f0-4f8b-9a24-f6dbfbea4ffb",
   "metadata": {},
   "outputs": [
    {
     "name": "stdout",
     "output_type": "stream",
     "text": [
      "1\n",
      "47\n"
     ]
    }
   ],
   "source": [
    "print(len([tree]))\n",
    "print(tree.value)"
   ]
  },
  {
   "cell_type": "code",
   "execution_count": 13,
   "id": "3d26269a-85ba-41c0-a765-b023d09f138e",
   "metadata": {},
   "outputs": [
    {
     "name": "stdout",
     "output_type": "stream",
     "text": [
      "\n",
      "---> Breadth First Traversal:\n",
      "[47, 36, 66, 25, 39, 63, 68, 38, 42, 64]\n"
     ]
    },
    {
     "name": "stdin",
     "output_type": "stream",
     "text": [
      "Type a value to search for... 55\n"
     ]
    },
    {
     "name": "stdout",
     "output_type": "stream",
     "text": [
      "Not found\n"
     ]
    }
   ],
   "source": [
    "\n",
    "#---> Implementation of the Breadth-First Traversal:\n",
    "\n",
    "#We first initialise a queue with a single node: the root of the tree\n",
    "print(\"\\n---> Breadth First Traversal:\")\n",
    "queue = [tree]\n",
    "values = []\n",
    "\n",
    "while len(queue)!=0:\n",
    "    #Dequeue the first node\n",
    "    currentNode = queue.pop(0)\n",
    "    #Read the node value:\n",
    "    values.append(currentNode.value)\n",
    "\n",
    "    #Enqueue child nodes (if any)\n",
    "    if currentNode.left!=None:\n",
    "        #Enqueue the left node at the end of the queue:\n",
    "        queue.append(currentNode.left)\n",
    "    if currentNode.right!=None:\n",
    "        #Enqueue the right node at the end of the queue:\n",
    "        queue.append(currentNode.right)\n",
    "    \n",
    "#The end, let's print the list of values resulting from the breadth first traversal of our tree:\n",
    "print(values)\n",
    "\n",
    "value = int(input(\"Type a value to search for...\"))\n",
    "\n",
    "#Binary Search...\n",
    "node = tree\n",
    "found=False\n",
    "while node!=None:\n",
    "    if value==node.value:\n",
    "        found=True\n",
    "        print(\"Yeah value found!\")\n",
    "        break\n",
    "    elif value<node.value:\n",
    "        node = node.left\n",
    "    elif value>node.value:\n",
    "        node = node.right\n",
    "  \n",
    "if found==False:\n",
    "    print(\"Not found\")\n"
   ]
  }
 ],
 "metadata": {
  "kernelspec": {
   "display_name": "Py310",
   "language": "python",
   "name": "py310"
  },
  "language_info": {
   "codemirror_mode": {
    "name": "ipython",
    "version": 3
   },
   "file_extension": ".py",
   "mimetype": "text/x-python",
   "name": "python",
   "nbconvert_exporter": "python",
   "pygments_lexer": "ipython3",
   "version": "3.10.11"
  }
 },
 "nbformat": 4,
 "nbformat_minor": 5
}
