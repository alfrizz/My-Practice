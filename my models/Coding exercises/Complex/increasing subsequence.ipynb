{
 "cells": [
  {
   "cell_type": "code",
   "execution_count": null,
   "id": "dd4814e3-7644-4dc4-9c2b-a1bcea0958ac",
   "metadata": {},
   "outputs": [],
   "source": [
    "'''\n",
    "You are given a list of integers. \n",
    "Your task is to write a function that finds the longest increasing subsequence (LIS) within the list. \n",
    "A subsequence is considered increasing if the elements are in ascending order, \n",
    "but they don't have to be contiguous. Your function should return the length of the LIS.\n",
    "For example, given the list [10, 22, 9, 33, 21, 50, 41, 60, 80], the longest increasing subsequence is [10, 22, 33, 50, 60, 80], \n",
    "and the function should return 6.\n",
    "Write a Python function named find_lis_length that takes in a list of integers \n",
    "and returns the length of the longest increasing subsequence. \n",
    "'''"
   ]
  },
  {
   "cell_type": "code",
   "execution_count": 209,
   "id": "684f424f-7942-427e-9958-f32b7ee6405a",
   "metadata": {},
   "outputs": [],
   "source": [
    "def find_lis_length_ko(input_list):\n",
    "    subsequences_lenghts = []\n",
    "    already_checked = set()\n",
    "    iterator = 0\n",
    "    while iterator < len(input_list):\n",
    "        if iterator in already_checked:\n",
    "            iterator+=1\n",
    "        else:\n",
    "            highest_value = input_list[iterator]\n",
    "            sequence_length = 1\n",
    "            for i in range(iterator+1, len(input_list)):\n",
    "                if input_list[i] > highest_value:\n",
    "                    highest_value = input_list[i]\n",
    "                    sequence_length +=1\n",
    "                    already_checked.add(i)\n",
    "            subsequences_lenghts.append((iterator, input_list[iterator],sequence_length))\n",
    "            iterator +=1\n",
    "    return subsequences_lenghts,already_checked, max([col[2] for col in subsequences_lenghts])\n"
   ]
  },
  {
   "cell_type": "code",
   "execution_count": 210,
   "id": "6f446df6-9478-41aa-a8d5-67a97e69d9d2",
   "metadata": {},
   "outputs": [
    {
     "data": {
      "text/plain": [
       "([(0, 10, 7),\n",
       "  (2, 9, 8),\n",
       "  (6, 21, 5),\n",
       "  (8, 41, 4),\n",
       "  (9, 1, 4),\n",
       "  (11, 2, 3),\n",
       "  (13, 3, 8),\n",
       "  (21, 98, 1),\n",
       "  (22, 97, 1)],\n",
       " {1, 3, 4, 5, 7, 10, 12, 14, 15, 16, 17, 18, 19, 20},\n",
       " 8)"
      ]
     },
     "execution_count": 210,
     "metadata": {},
     "output_type": "execute_result"
    }
   ],
   "source": [
    "find_lis_length_ko([10, 22, 9, 10, 11, 33, 21, 50, 41, 1, 60, 2, 80, 3, 4, 5, 6, 7, 8, 75, 99, 98, 97])"
   ]
  },
  {
   "cell_type": "code",
   "execution_count": 211,
   "id": "660ced92-0715-4c6a-a9ae-d27061cb9bae",
   "metadata": {},
   "outputs": [
    {
     "data": {
      "text/plain": [
       "([(0, 3, 3), (2, -1, 3), (5, 2, 2)], {1, 3, 4, 6}, 3)"
      ]
     },
     "execution_count": 211,
     "metadata": {},
     "output_type": "execute_result"
    }
   ],
   "source": [
    "find_lis_length_ko([3, 4, -1, 0, 6, 2, 3])"
   ]
  },
  {
   "cell_type": "code",
   "execution_count": 212,
   "id": "9516d924-b7d5-4d6c-9907-1c1dd8b765b9",
   "metadata": {},
   "outputs": [
    {
     "data": {
      "text/plain": [
       "([(0, -1, 7), (7, 6, 3), (8, 2, 3), (10, 3, 2), (12, 4, 2)],\n",
       " {1, 2, 3, 4, 5, 6, 9, 11, 13},\n",
       " 7)"
      ]
     },
     "execution_count": 212,
     "metadata": {},
     "output_type": "execute_result"
    }
   ],
   "source": [
    "find_lis_length_ko([-1, 0, 88, 92, 94, 96, 99, 6, 2, 7, 3, 9, 4, 5])"
   ]
  },
  {
   "cell_type": "code",
   "execution_count": 458,
   "id": "3e1e7fd6-a351-4919-b549-1efe5b165901",
   "metadata": {},
   "outputs": [],
   "source": [
    "def find_lis_length_ok(input_list):\n",
    "    sublists = [[input_list[0]]]\n",
    "    for iter_inpl in range(1, len(input_list)):\n",
    "        for iter_subl in range(len(sublists)):\n",
    "            if input_list[iter_inpl] > sublists[iter_subl][-1]:\n",
    "                sublists.append(sublists[iter_subl] + [input_list[iter_inpl]])\n",
    "            else:\n",
    "                if [input_list[iter_inpl]] not in sublists:\n",
    "                    sublists.append([input_list[iter_inpl]])\n",
    "    return len(sublists), max(sublists, key=len), len(max(sublists, key=len))\n",
    "    "
   ]
  },
  {
   "cell_type": "code",
   "execution_count": 459,
   "id": "2d8b69fa-b228-4b42-a30f-9bdebac66831",
   "metadata": {},
   "outputs": [
    {
     "data": {
      "text/plain": [
       "(169298, [1, 2, 3, 4, 5, 6, 7, 8, 9, 10, 453, 646, 832, 959, 999], 15)"
      ]
     },
     "execution_count": 459,
     "metadata": {},
     "output_type": "execute_result"
    }
   ],
   "source": [
    "find_lis_length_ok([1, 99, 2, 3, 4,87, 13, 5, 987, 6, 1,388, 241, 7, 8, 9, 10,7, 1, 7, 453, 646, 634, 63,\n",
    "                    2, 3, 4, 77, 8, 5, 832, 6, 7, 8, 9, 6, 1, 7, 8, 9, 10,7, 959, 1, 2, 3, 4, 10,999])"
   ]
  }
 ],
 "metadata": {
  "kernelspec": {
   "display_name": "Py309",
   "language": "python",
   "name": "py309"
  },
  "language_info": {
   "codemirror_mode": {
    "name": "ipython",
    "version": 3
   },
   "file_extension": ".py",
   "mimetype": "text/x-python",
   "name": "python",
   "nbconvert_exporter": "python",
   "pygments_lexer": "ipython3",
   "version": "3.9.16"
  }
 },
 "nbformat": 4,
 "nbformat_minor": 5
}
