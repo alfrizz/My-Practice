{
 "cells": [
  {
   "cell_type": "markdown",
   "id": "f62a49bd-02b5-453b-a4bb-93f2f3d1f878",
   "metadata": {},
   "source": [
    "Write a function to determine the mode of an array of integers.\n",
    "\n",
    "The list may have one mode, more than one mode, or no mode at all. If the list has multiple modes, return them in ascending order.\n",
    "\n",
    "Example 1:\n",
    "\n",
    "Input:\n",
    "\n",
    "nums = [1, 2, 2, 3, 4] Output:\n",
    "\n",
    "mode(nums) -> [2]\n",
    "\n",
    "Example 2:\n",
    "\n",
    "Input:\n",
    "\n",
    "nums = [1,1,2,2] Output:\n",
    "\n",
    "mode(nums) -> [1, 2]"
   ]
  },
  {
   "cell_type": "code",
   "execution_count": 1,
   "id": "4b0c853b-4492-4cac-be7e-09bd14a49b4e",
   "metadata": {},
   "outputs": [],
   "source": [
    "def find_mode(all_elem):\n",
    "    unique_elem = set(all_elem)\n",
    "    frequenc = {elem:0 for elem in unique_elem}\n",
    "    for elem in unique_elem:\n",
    "        for i in range(len(all_elem)):\n",
    "            if all_elem[i] == elem:\n",
    "                frequenc[elem] += 1\n",
    "    max_value = max(frequenc.values())\n",
    "    modes = [key for key, value in frequenc.items() if value == max_value and value > 1]\n",
    "    return modes"
   ]
  },
  {
   "cell_type": "code",
   "execution_count": 2,
   "id": "a38b3e6d-1a10-4e43-9f6b-d79be9593085",
   "metadata": {},
   "outputs": [
    {
     "data": {
      "text/plain": [
       "[3, 7]"
      ]
     },
     "execution_count": 2,
     "metadata": {},
     "output_type": "execute_result"
    }
   ],
   "source": [
    "list_int = [1,7,2,3,4,5,3,1,7,7,7,3,5,7,3,9,3]\n",
    "# list_int = [1,2,3,4,5]\n",
    "# list_int = [1,1,2,2] \n",
    "# list_int = [1, 2, 2, 3, 4]\n",
    "find_mode(list_int)"
   ]
  },
  {
   "cell_type": "code",
   "execution_count": 3,
   "id": "90bf6cc8-b248-41ad-a7f1-c32cd6eab56b",
   "metadata": {},
   "outputs": [],
   "source": [
    "# find mode generating a random list"
   ]
  },
  {
   "cell_type": "code",
   "execution_count": 4,
   "id": "19051c2f-55db-49ee-8a58-2079ad61f4e2",
   "metadata": {},
   "outputs": [],
   "source": [
    "import random\n",
    "\n",
    "def rand_list(len_list, max_numb):\n",
    "    rand_list = []\n",
    "    for i in range(len_list):\n",
    "        rand_list.append(random.randint(0,max_numb))\n",
    "    return rand_list"
   ]
  },
  {
   "cell_type": "code",
   "execution_count": 5,
   "id": "1f09ecea-9b3b-444f-aae9-129f58ee8b2e",
   "metadata": {},
   "outputs": [],
   "source": [
    "# random_list = rand_list(99,9)\n",
    "# print(random_list)\n"
   ]
  },
  {
   "cell_type": "code",
   "execution_count": 6,
   "id": "46aed24b-507b-4f26-bc0e-73af38eab5a4",
   "metadata": {},
   "outputs": [],
   "source": [
    "def cust_mode(len_list, max_numb):\n",
    "    random_list = rand_list(len_list, max_numb)\n",
    "    freq_dict = {k:0 for k in range(max_numb+1)}\n",
    "    for i in range(len(random_list)):\n",
    "        freq_dict[random_list[i]] += 1\n",
    "    dict_max = max(freq_dict.values())\n",
    "    dict_mode = [key for key, value in freq_dict.items() if value==dict_max]\n",
    "    return freq_dict, dict_max, dict_mode\n",
    "        \n",
    "        "
   ]
  },
  {
   "cell_type": "code",
   "execution_count": 7,
   "id": "9ad29798-803f-4e31-ad21-bfe2ed66876f",
   "metadata": {},
   "outputs": [
    {
     "data": {
      "text/plain": [
       "({0: 9957,\n",
       "  1: 10150,\n",
       "  2: 9967,\n",
       "  3: 10025,\n",
       "  4: 10128,\n",
       "  5: 10133,\n",
       "  6: 9913,\n",
       "  7: 9936,\n",
       "  8: 9847,\n",
       "  9: 9943},\n",
       " 10150,\n",
       " [1])"
      ]
     },
     "execution_count": 7,
     "metadata": {},
     "output_type": "execute_result"
    }
   ],
   "source": [
    "cust_mode(99999,9)"
   ]
  },
  {
   "cell_type": "code",
   "execution_count": null,
   "id": "ca0425bf-d7c1-4808-adf5-f8df3fd44fa0",
   "metadata": {},
   "outputs": [],
   "source": []
  }
 ],
 "metadata": {
  "kernelspec": {
   "display_name": "Py309",
   "language": "python",
   "name": "py309"
  },
  "language_info": {
   "codemirror_mode": {
    "name": "ipython",
    "version": 3
   },
   "file_extension": ".py",
   "mimetype": "text/x-python",
   "name": "python",
   "nbconvert_exporter": "python",
   "pygments_lexer": "ipython3",
   "version": "3.9.19"
  }
 },
 "nbformat": 4,
 "nbformat_minor": 5
}
