{
 "cells": [
  {
   "cell_type": "code",
   "execution_count": 112,
   "id": "d115b6ac-b4fa-41cd-bc0e-1ea242d2bb57",
   "metadata": {},
   "outputs": [
    {
     "data": {
      "text/plain": [
       "[0.13809, 0.13987, 0.13836, 0.13746, 0.13941, 0.13889, 0.13974]"
      ]
     },
     "execution_count": 112,
     "metadata": {},
     "output_type": "execute_result"
    }
   ],
   "source": [
    "#Simulate a 7 sides die with a 6 sides die, with two throws\n",
    "\n",
    "import random\n",
    "\n",
    "\n",
    "def seven_from_six(tot_throws):\n",
    "    \n",
    "    curr_throw = 0\n",
    "    six_die_comb = {(i//6 +1, i%6 +1):i%7 +1 for i in range(36)}\n",
    "    seven_die_comb = [0 for _ in range(7)]\n",
    "    \n",
    "    while curr_throw < tot_throws:\n",
    "        throws = (random.randint(1,6),random.randint(1,6))\n",
    "        if throws!=(6,6):\n",
    "            seven_die_comb[six_die_comb[throws]-1] +=1\n",
    "        curr_throw +=1\n",
    "    return [seven_die_comb[i]/tot_throws for i in range(len(seven_die_comb))]\n",
    "\n",
    "\n",
    "seven_from_six(100000)"
   ]
  },
  {
   "cell_type": "code",
   "execution_count": null,
   "id": "c084905e-5a5a-46aa-b4eb-674736b1def0",
   "metadata": {},
   "outputs": [],
   "source": []
  }
 ],
 "metadata": {
  "kernelspec": {
   "display_name": "Py309",
   "language": "python",
   "name": "py309"
  },
  "language_info": {
   "codemirror_mode": {
    "name": "ipython",
    "version": 3
   },
   "file_extension": ".py",
   "mimetype": "text/x-python",
   "name": "python",
   "nbconvert_exporter": "python",
   "pygments_lexer": "ipython3",
   "version": "3.9.19"
  }
 },
 "nbformat": 4,
 "nbformat_minor": 5
}
