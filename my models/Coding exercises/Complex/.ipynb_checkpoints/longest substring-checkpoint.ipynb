{
 "cells": [
  {
   "cell_type": "code",
   "execution_count": 85,
   "id": "105d9738-4376-48a9-9d5d-b826bdeb7877",
   "metadata": {},
   "outputs": [],
   "source": [
    "# def longest_substring(s):\n",
    "#     str_ind = 0\n",
    "#     sub_str = ''\n",
    "#     max_str = ''\n",
    "#     iter_char = 0\n",
    "#     while str_ind < len(s):\n",
    "#         if s[str_ind] not in sub_str:\n",
    "#             sub_str +=s[str_ind]\n",
    "#             # print('sub_str NOTIN',sub_str)\n",
    "#             str_ind += 1\n",
    "#         else:\n",
    "#             # print('sub_str IN',sub_str)\n",
    "#             # print('s[str_ind] IN', s[str_ind])\n",
    "#             str_ind = s[:iter_char - 1].rfind(s[str_ind]) + 1\n",
    "#             # print('max_str', max_str)\n",
    "#             sub_str = ''\n",
    "#             # print('str_ind IN', str_ind)\n",
    "#         if len(sub_str) > len(max_str):\n",
    "#             max_str = sub_str\n",
    "#         iter_char += 1\n",
    "#         # print('iter_char',iter_char)\n",
    "#     return max_str\n",
    "        \n",
    "    \n"
   ]
  },
  {
   "cell_type": "code",
   "execution_count": 91,
   "id": "e6cfd67b-3178-46e5-891a-97de777babe5",
   "metadata": {},
   "outputs": [],
   "source": [
    "\n",
    "def longest_substring(s):\n",
    "    # Initialize the starting index of the substring\n",
    "    str_ind = 0\n",
    "\n",
    "    # Initialize the current substring\n",
    "    sub_str = ''\n",
    "\n",
    "    # Initialize the longest substring found so far\n",
    "    max_str = ''\n",
    "\n",
    "    # Initialize the character iterator\n",
    "    iter_char = 0\n",
    "\n",
    "    # Iterate over the string\n",
    "    while str_ind < len(s):\n",
    "        # If the current character is not in the substring, add it\n",
    "        if s[str_ind] not in sub_str:\n",
    "            sub_str += s[str_ind]\n",
    "            str_ind += 1\n",
    "        else:\n",
    "            # If the current character is in the substring, find the last occurrence of the character\n",
    "            # and start the next substring from the character after it\n",
    "            str_ind = s[:iter_char - 1].rfind(s[str_ind]) + 1\n",
    "            # Reset the current substring\n",
    "            sub_str = ''\n",
    "        # If the current substring is longer than the longest found so far, update the longest substring\n",
    "        if len(sub_str) > len(max_str):\n",
    "            max_str = sub_str\n",
    "        # Move to the next character\n",
    "        iter_char += 1\n",
    "\n",
    "    # Return the longest substring found\n",
    "    return max_str\n"
   ]
  },
  {
   "cell_type": "code",
   "execution_count": 94,
   "id": "9aaec383-c845-42c0-84b1-7d8021f926df",
   "metadata": {},
   "outputs": [
    {
     "name": "stdout",
     "output_type": "stream",
     "text": [
      "All test cases pass\n"
     ]
    }
   ],
   "source": [
    "def test_longest_substring():\n",
    "    assert len(longest_substring('abcabcbb')) == len('abc'), \"Test Case 1 Failed\"\n",
    "    assert len(longest_substring('bbbbbb')) == len('b'), \"Test Case 2 Failed\"\n",
    "    assert len(longest_substring('pwwkew')) == len('wke'), \"Test Case 3 Failed\"\n",
    "    assert len(longest_substring('')) == len(''), \"Test Case 4 Failed\"\n",
    "    assert len(longest_substring('au')) == len('au'), \"Test Case 5 Failed\"\n",
    "    assert len(longest_substring('dvdf')) == len('vdf'), \"Test Case 6 Failed\"\n",
    "    assert len(longest_substring('anviaj')) == len('nviaj'), \"Test Case 7 Failed\"\n",
    "    assert len(longest_substring('ohvhjdml')) == len('vhjdml'), \"Test Case 8 Failed\"\n",
    "    assert len(longest_substring('asjrgapa')) == len('sjrgap'), \"Test Case 9 Failed\"\n",
    "    assert len(longest_substring('bbtablud')) == len('tablud'), \"Test Case 10 Failed\"\n",
    "    print(\"All test cases pass\")\n",
    "\n",
    "test_longest_substring()\n"
   ]
  }
 ],
 "metadata": {
  "kernelspec": {
   "display_name": "Py309",
   "language": "python",
   "name": "py309"
  },
  "language_info": {
   "codemirror_mode": {
    "name": "ipython",
    "version": 3
   },
   "file_extension": ".py",
   "mimetype": "text/x-python",
   "name": "python",
   "nbconvert_exporter": "python",
   "pygments_lexer": "ipython3",
   "version": "3.9.19"
  }
 },
 "nbformat": 4,
 "nbformat_minor": 5
}
