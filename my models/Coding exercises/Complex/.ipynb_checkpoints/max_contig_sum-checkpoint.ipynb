{
 "cells": [
  {
   "cell_type": "code",
   "execution_count": 37,
   "id": "bb0b54f4-13f4-40aa-bebe-1c5ae44afc61",
   "metadata": {},
   "outputs": [],
   "source": [
    "'''\n",
    "Given a list of integers, write a function that finds the maximum sum of any contiguous subarray within the list\n",
    "For example, given the list [1, -2, 3, 4, -1, 2, 1, -5, 4],\n",
    "the function should return 10, which corresponds to the subarray [3, 4, -1, 2, 1].\n",
    "'''\n",
    "\n",
    "import numpy as np\n",
    "\n",
    "def max_cont_sum (integers_list):\n",
    "    max_sum = float('-inf')\n",
    "    for init_list in range(len(integers_list)):\n",
    "        for end_list in range(init_list+1, len(integers_list)):\n",
    "            # print(init_list,end_list,'**', integers_list[init_list], integers_list[end_list],'**', np.sum(integers_list[init_list:end_list+1]))\n",
    "            if np.sum(integers_list[init_list:end_list+1]) > max_sum:\n",
    "                max_list = integers_list[init_list:end_list+1]\n",
    "                max_sum = np.sum(max_list)\n",
    "    return max_list, max_sum\n"
   ]
  },
  {
   "cell_type": "code",
   "execution_count": 38,
   "id": "57c94000-c248-4e66-bfc6-37a530b51357",
   "metadata": {},
   "outputs": [
    {
     "data": {
      "text/plain": [
       "([3, 4, -1, 2, 1], 9)"
      ]
     },
     "execution_count": 38,
     "metadata": {},
     "output_type": "execute_result"
    }
   ],
   "source": [
    "max_cont_sum([1, -2, 3, 4, -1, 2, 1, -5, 4])"
   ]
  }
 ],
 "metadata": {
  "kernelspec": {
   "display_name": "Py309",
   "language": "python",
   "name": "py309"
  },
  "language_info": {
   "codemirror_mode": {
    "name": "ipython",
    "version": 3
   },
   "file_extension": ".py",
   "mimetype": "text/x-python",
   "name": "python",
   "nbconvert_exporter": "python",
   "pygments_lexer": "ipython3",
   "version": "3.9.16"
  }
 },
 "nbformat": 4,
 "nbformat_minor": 5
}
