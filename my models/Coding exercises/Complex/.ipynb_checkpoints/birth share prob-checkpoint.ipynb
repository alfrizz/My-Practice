{
 "cells": [
  {
   "cell_type": "markdown",
   "id": "3175b2d9-91ed-43b3-9c9f-04efd11b2b8b",
   "metadata": {},
   "source": [
    "how many person maximum, to have more than 90% probability of not sharing birthday:\n",
    "\n",
    "365/365 (1 pers) * 364/365 (2 pers) * 363/365 (3 pers) * ..."
   ]
  },
  {
   "cell_type": "code",
   "execution_count": 17,
   "id": "a3522330-edbb-472b-8c34-403243200b3b",
   "metadata": {},
   "outputs": [],
   "source": [
    "def not_share_birth_pers(prob_not_shar_target):\n",
    "    prob_not_sharing = 1\n",
    "    persons = 1\n",
    "    while prob_not_sharing >= prob_not_shar_target:\n",
    "        if prob_not_sharing * (365 - persons)/365 >= prob_not_shar_target:\n",
    "            prob_not_sharing *= (365 - persons)/365\n",
    "            persons += 1\n",
    "        else:\n",
    "            break\n",
    "    return persons, prob_not_sharing"
   ]
  },
  {
   "cell_type": "code",
   "execution_count": 18,
   "id": "5873719a-bce4-41e6-a727-80f32865d978",
   "metadata": {},
   "outputs": [
    {
     "data": {
      "text/plain": [
       "(9, 0.9053761661108333)"
      ]
     },
     "execution_count": 18,
     "metadata": {},
     "output_type": "execute_result"
    }
   ],
   "source": [
    "not_share_birth_pers(0.9)"
   ]
  },
  {
   "cell_type": "markdown",
   "id": "710bfeb3-cdde-42c3-aac0-17ac77482ad9",
   "metadata": {},
   "source": [
    "what probability of same birthday, with a certain number of persons"
   ]
  },
  {
   "cell_type": "code",
   "execution_count": 47,
   "id": "a756edc9-2589-43b6-9cf4-93c713903b33",
   "metadata": {},
   "outputs": [],
   "source": [
    "import numpy as np\n",
    "\n",
    "def share_birth_prob(persons):\n",
    "    return 1 - np.product([(365-i)/365 for i in range(1, persons)])"
   ]
  },
  {
   "cell_type": "code",
   "execution_count": 61,
   "id": "cbe4ca45-842c-4e3d-8876-ae406c71d4cd",
   "metadata": {},
   "outputs": [
    {
     "data": {
      "text/plain": [
       "0.7063162427192688"
      ]
     },
     "execution_count": 61,
     "metadata": {},
     "output_type": "execute_result"
    }
   ],
   "source": [
    "share_birth_prob(30)"
   ]
  },
  {
   "cell_type": "code",
   "execution_count": 62,
   "id": "d9b89969-38be-4591-9ca8-ab6e8ca31653",
   "metadata": {},
   "outputs": [
    {
     "name": "stdout",
     "output_type": "stream",
     "text": [
      "0.5093\n"
     ]
    }
   ],
   "source": [
    "#The Birthday Paradox - www.101computing.net/the-birthday-paradox/\n",
    "import random\n",
    "import datetime\n",
    "\n",
    "#A function to generate a random date between two given dates\n",
    "def randomDate(startDate, endDate):\n",
    "    date = startDate.split(\"/\")\n",
    "    start = datetime.date(int(date[2]), int(date[1]), int(date[0]))\n",
    "    date = endDate.split(\"/\")\n",
    "    end = datetime.date(int(date[2]), int(date[1]), int(date[0]))\n",
    "    delta = end - start\n",
    "    randomDays = random.randint(0,delta.days)\n",
    "    return start + datetime.timedelta(days=randomDays)\n",
    "\n",
    "#List of 23 students in the class\n",
    "classList = [\"Opal\",\"Hugo\",\"Malek\",\"Terrence\",\"Jeremiah\",\"Abdel\",\"Sophie\",\"Ethan\",\"Noah\",\"Jing\",\"Ines\",\"Oceana\",\"Diego\",\"Zofia\",\"Layla\",\"Julian\",\"Andrei\",\"Ishan\",\"Chloe\",\"Mateo\",\"Omar\",\"Jouri\",\"Lily\"]\n",
    "\n",
    "\n",
    "tot_shared = 0\n",
    "n_test = 10000\n",
    "    \n",
    "for j in range(n_test):\n",
    "    birthdayList = []\n",
    "    for i in range(0,len(classList)):\n",
    "      birthDate = randomDate('1/1/2000', '31/12/2000')\n",
    "      birthDay = birthDate.strftime('%d %b')\n",
    "      birthdayList.append(birthDay)\n",
    "      # print(classList[i] + \" - Birthday: \" + birthDay)  \n",
    "    \n",
    "    tot_shared += len(birthdayList) != len(set(birthdayList))\n",
    "    \n",
    "probab = tot_shared/n_test\n",
    "print(probab)\n",
    "\n",
    "        \n",
    "        \n",
    "        "
   ]
  },
  {
   "cell_type": "code",
   "execution_count": null,
   "id": "afa11acc-c690-4da5-84fe-44a11e05277d",
   "metadata": {},
   "outputs": [],
   "source": []
  }
 ],
 "metadata": {
  "kernelspec": {
   "display_name": "Py309",
   "language": "python",
   "name": "py309"
  },
  "language_info": {
   "codemirror_mode": {
    "name": "ipython",
    "version": 3
   },
   "file_extension": ".py",
   "mimetype": "text/x-python",
   "name": "python",
   "nbconvert_exporter": "python",
   "pygments_lexer": "ipython3",
   "version": "3.9.19"
  }
 },
 "nbformat": 4,
 "nbformat_minor": 5
}
