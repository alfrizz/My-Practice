{
 "cells": [
  {
   "cell_type": "markdown",
   "id": "612544be-23b9-4533-b159-53ec8e681bb4",
   "metadata": {},
   "source": [
    ".\n",
    "=============================\n",
    "Boxes and dices\n",
    "=============================\n",
    "There are two boxes. Each box has a price and a capacity. Boxes are represented with an input string S in the format \"P1-C1,P2-C2\", where P1 and P2 are prices for the first and the second box and C1 and C2 are capacities for the first and the second box. Dices are represented with an input number N.\n",
    "\n",
    "Define a function buyBoxes(S, N) that finds the minimum amount of money you need to spend on boxes in order to store the given number of dices.\n",
    "\n",
    "Example:\n",
    "buyBoxes(“1-3,2-4”, 43) = 15\n",
    "\n",
    "Test cases:\n",
    "a) buyBoxes(“1-4,1-4”, 3) = 1    \n",
    "b) buyBoxes(“3-4,2-3”, 5) = 4    \n",
    "c) buyBoxes(\"2-3,1-1\", 44) = 30\n",
    "d) buyBoxes(\"1-1,2-3\", 44) = 30\n",
    "\n",
    "Test cases cheat sheet:\n",
    "a) total dices less than any box\n",
    "b) first one is more expensive\n",
    "c) both boxes need to be filled\n",
    "d) both boxes need to be filled, first one is more expensive"
   ]
  },
  {
   "cell_type": "code",
   "execution_count": 24,
   "id": "fe9b5db6-a5fb-4ab1-b692-e4201be7ed5d",
   "metadata": {},
   "outputs": [],
   "source": [
    "import re\n",
    "\n",
    "def buyBoxes(S, N):\n",
    "    P1_C1_P2_C2 = re.findall(r'\\d+', S)\n",
    "    P1 = int(P1_C1_P2_C2[0])\n",
    "    C1 = int(P1_C1_P2_C2[1])\n",
    "    P2 = int(P1_C1_P2_C2[2])\n",
    "    C2 = int(P1_C1_P2_C2[3])\n",
    "    cheaper_box_price = P1 if P1/C1 < P2/C2 else P2\n",
    "    cheaper_box_capac = C1 if P1/C1 < P2/C2 else C2\n",
    "    expens_box_price = P2 if P1/C1 < P2/C2 else P1\n",
    "    expens_box_capac = C2 if P1/C1 < P2/C2 else C1\n",
    "    div_cb = N // cheaper_box_capac\n",
    "    rest_cb = N % cheaper_box_capac\n",
    "    # then check if, for the remaining dices (rest_cb), it's more convenient to use another cheaper box or one (or more) of the expens boxes\n",
    "    div_eb = rest_cb // expens_box_capac # if it's convenient to use the expensive boxes, the number that we need is div_eb + 1\n",
    "    last_box_price = min(cheaper_box_price*1, expens_box_price*(div_eb+1))\n",
    "    return cheaper_box_price*div_cb + last_box_price"
   ]
  },
  {
   "cell_type": "code",
   "execution_count": 32,
   "id": "31838eb7-7610-456f-bd8d-3fc1d3b5f858",
   "metadata": {},
   "outputs": [
    {
     "data": {
      "text/plain": [
       "30"
      ]
     },
     "execution_count": 32,
     "metadata": {},
     "output_type": "execute_result"
    }
   ],
   "source": [
    "buyBoxes('1-1,2-3', 44)"
   ]
  }
 ],
 "metadata": {
  "kernelspec": {
   "display_name": "Py309",
   "language": "python",
   "name": "py309"
  },
  "language_info": {
   "codemirror_mode": {
    "name": "ipython",
    "version": 3
   },
   "file_extension": ".py",
   "mimetype": "text/x-python",
   "name": "python",
   "nbconvert_exporter": "python",
   "pygments_lexer": "ipython3",
   "version": "3.9.16"
  }
 },
 "nbformat": 4,
 "nbformat_minor": 5
}
