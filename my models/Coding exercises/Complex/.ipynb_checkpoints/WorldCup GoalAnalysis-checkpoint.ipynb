{
 "cells": [
  {
   "cell_type": "code",
   "execution_count": 121,
   "id": "13a67a2f-934c-4b97-9ecb-786756d9b80b",
   "metadata": {},
   "outputs": [
    {
     "data": {
      "text/plain": [
       "(169, 3)"
      ]
     },
     "execution_count": 121,
     "metadata": {},
     "output_type": "execute_result"
    }
   ],
   "source": [
    "#2018 Football World Cup Challenge -  www.101computing.net/2018-world-cup-goals-analysis/\n",
    "import time\n",
    "import pandas as pd\n",
    "\n",
    "def menu():\n",
    "    print(\"*********************************************\")\n",
    "    print(\"*                                           *\")\n",
    "    print(\"*      2018 World Cup: Goals Analysis       *\")\n",
    "    print(\"*                                           *\")\n",
    "    print(\"*********************************************\")\n",
    "    print(\"\")\n",
    "    print(\"> Select an option:\")\n",
    "    print(\"       > A: Total number of goals scored by a given country\")\n",
    "    print(\"       > B: Total number of goals scored by a given player\")\n",
    "    print(\"       > C: List the name of all the players who scored for a given country\")\n",
    "    print(\"       > D: Total number of goals by all countries\")\n",
    "    print(\"       > X: Exit\")\n",
    "    print(\"\")\n",
    "    \n",
    "df = pd.read_csv('WorldCup GoalAnalysis.txt', sep=';', header=None).iloc[:,:-1]\n",
    "column_names = ['Player', 'Country', 'Minute']\n",
    "df.columns = column_names\n",
    "\n",
    "df.head()"
   ]
  },
  {
   "cell_type": "code",
   "execution_count": 125,
   "id": "dcdad7cf-4bd2-437a-971d-a0431c91383b",
   "metadata": {},
   "outputs": [],
   "source": [
    "\n",
    "def goalsPerCountry():\n",
    "    print('Total number of goals scored by a given country')\n",
    "    country_selected = ''\n",
    "    while country_selected not in df.Country.unique():\n",
    "        country_selected = input(\"> Enter country partecipating to world cup:\").title()\n",
    "    goals = df.groupby('Country').size().loc[country_selected]\n",
    "    print(\"\\n> \" + country_selected + \" scored \" + str(goals) + \" goal(s) in the 2018 world cup.\")\n",
    "    \n",
    "def goalsPerPlayer():\n",
    "    print('Total number of goals scored by a given player')\n",
    "    player_selected = ''\n",
    "    while player_selected not in df.Player.unique():\n",
    "        player_selected = input(\"> Enter player partecipating to world cup:\").title()\n",
    "    goals = df.groupby('Player').size().loc[player_selected]\n",
    "    print(\"\\n> \" + player_selected + \" scored \" + str(goals) + \" goal(s) in the 2018 world cup.\")\n",
    "    \n",
    "def scorersPerCountry():\n",
    "    print('List the name of all the players who scored for a given country')\n",
    "    country_selected = ''\n",
    "    while country_selected not in df.Country.unique():\n",
    "        country_selected = input(\"> Enter country partecipating to world cup:\").title()\n",
    "    scorers = df[df.Country==country_selected].Player.unique()\n",
    "    print(\"\\n> \" + scorers + \" scored for \" + country_selected + \" in the 2018 world cup.\")\n",
    "    \n",
    "def totGoals():\n",
    "    print('total number of Goals:', df.shape[0])\n",
    "    \n"
   ]
  },
  {
   "cell_type": "code",
   "execution_count": 126,
   "id": "96390c03-8fcd-4400-81af-17b5bacc2281",
   "metadata": {},
   "outputs": [],
   "source": [
    "from IPython.display import clear_output\n",
    "\n",
    "def goals_analysis():\n",
    "\n",
    "    userChoice=\"\"\n",
    "    end = False\n",
    "    analysis_completed = False\n",
    "\n",
    "    while userChoice!=\"X\" and end!=True:\n",
    "        clear_output()\n",
    "        menu()\n",
    "        userChoice = input(\"> Select an option from the menu (A to G) or X to exit:\").upper()\n",
    "\n",
    "        if userChoice==\"A\":\n",
    "            goalsPerCountry()\n",
    "            analysis_completed=True\n",
    "\n",
    "        elif userChoice==\"B\":\n",
    "            goalsPerPlayer()\n",
    "            analysis_completed=True\n",
    "\n",
    "        elif userChoice==\"C\":\n",
    "            scorersPerCountry()\n",
    "            analysis_completed=True   \n",
    "            \n",
    "        elif userChoice==\"D\":\n",
    "            totGoals()\n",
    "            analysis_completed=True  \n",
    "\n",
    "        elif userChoice==\"X\":\n",
    "            clear_output(wait=True)\n",
    "            print ('Analysis Ended')\n",
    "            break    \n",
    "\n",
    "        if analysis_completed:\n",
    "            time.sleep(1)\n",
    "            another_analysis = ''\n",
    "            while another_analysis != 'Y' and another_analysis != 'N':\n",
    "                another_analysis = input('\\nWant to do another analysis? (Y/N)').upper()\n",
    "                if another_analysis == 'Y':\n",
    "                    clear_output(wait=True)\n",
    "                    break\n",
    "                else:\n",
    "                    clear_output(wait=True)\n",
    "                    end = True\n",
    "\n",
    "        if end==True:\n",
    "            print ('Analysis Ended')\n",
    "            break  \n",
    "\n",
    "\n",
    "            "
   ]
  },
  {
   "cell_type": "code",
   "execution_count": null,
   "id": "59d61ed8-7e65-4b08-86bc-50feecbea481",
   "metadata": {},
   "outputs": [
    {
     "name": "stdout",
     "output_type": "stream",
     "text": [
      "*********************************************\n",
      "*                                           *\n",
      "*      2018 World Cup: Goals Analysis       *\n",
      "*                                           *\n",
      "*********************************************\n",
      "\n",
      "> Select an option:\n",
      "       > A: Total number of goals scored by a given country\n",
      "       > B: Total number of goals scored by a given player\n",
      "       > C: List the name of all the players who scored for a given country\n",
      "       > D: Total number of goals by all countries\n",
      "       > E: Total number of goals scored during the first half (45 minutes)\n",
      "       > F: Total number of goals scored during the second half (45 minutes to 90 minutes)\n",
      "       > G: Total number of goals scored during extra time (after 90 minutes of play)\n",
      "       > X: Exit\n",
      "\n"
     ]
    },
    {
     "name": "stdin",
     "output_type": "stream",
     "text": [
      "> Select an option from the menu (A to G) or X to exit: D\n"
     ]
    },
    {
     "name": "stdout",
     "output_type": "stream",
     "text": [
      "total number of Goals: 169\n"
     ]
    }
   ],
   "source": [
    "goals_analysis()"
   ]
  },
  {
   "cell_type": "code",
   "execution_count": null,
   "id": "23dd66d9-0e82-41e5-bda5-fee57310b907",
   "metadata": {},
   "outputs": [],
   "source": []
  },
  {
   "cell_type": "code",
   "execution_count": null,
   "id": "84cf6cf1-b224-45c0-88f1-c207b1455da5",
   "metadata": {},
   "outputs": [],
   "source": []
  },
  {
   "cell_type": "code",
   "execution_count": null,
   "id": "e57941fb-09ce-48a9-9df1-99e9aa58f1b9",
   "metadata": {},
   "outputs": [],
   "source": []
  },
  {
   "cell_type": "code",
   "execution_count": null,
   "id": "2d5283df-4289-4143-a5d2-e38c11c98ed1",
   "metadata": {},
   "outputs": [],
   "source": []
  }
 ],
 "metadata": {
  "kernelspec": {
   "display_name": "Py309",
   "language": "python",
   "name": "py309"
  },
  "language_info": {
   "codemirror_mode": {
    "name": "ipython",
    "version": 3
   },
   "file_extension": ".py",
   "mimetype": "text/x-python",
   "name": "python",
   "nbconvert_exporter": "python",
   "pygments_lexer": "ipython3",
   "version": "3.9.16"
  }
 },
 "nbformat": 4,
 "nbformat_minor": 5
}
