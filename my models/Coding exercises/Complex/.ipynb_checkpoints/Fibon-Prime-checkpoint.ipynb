{
 "cells": [
  {
   "cell_type": "code",
   "execution_count": 1,
   "id": "d83ea847-21e6-4415-a743-848c660930ff",
   "metadata": {},
   "outputs": [
    {
     "data": {
      "text/plain": [
       "'\\nFind the sum of all prime numbers between 1 and 1000, \\nthen divide it by the product of the first 10 Fibonacci numbers\\n'"
      ]
     },
     "execution_count": 1,
     "metadata": {},
     "output_type": "execute_result"
    }
   ],
   "source": [
    "'''\n",
    "Find the sum of all prime numbers between 1 and 1000, \n",
    "then divide it by the product of the first 10 Fibonacci numbers\n",
    "'''"
   ]
  },
  {
   "cell_type": "code",
   "execution_count": 36,
   "id": "464d4cca-e9b6-45c6-a268-adf3d7b6e9a1",
   "metadata": {},
   "outputs": [],
   "source": [
    "def is_prime(number):\n",
    "    if number < 1:\n",
    "        return False\n",
    "    for i in range(2, number):\n",
    "        if number%i == 0:\n",
    "            return False\n",
    "            break\n",
    "    return True"
   ]
  },
  {
   "cell_type": "code",
   "execution_count": 39,
   "id": "aa5605ea-d169-41ac-bb83-8f5fa830a3e9",
   "metadata": {},
   "outputs": [
    {
     "data": {
      "text/plain": [
       "True"
      ]
     },
     "execution_count": 39,
     "metadata": {},
     "output_type": "execute_result"
    }
   ],
   "source": [
    "is_prime(1)"
   ]
  },
  {
   "cell_type": "code",
   "execution_count": 77,
   "id": "48a57693-1b17-41c7-a571-94e698816a1e",
   "metadata": {},
   "outputs": [],
   "source": [
    "def prime(how_many=float('inf'), up_to=float('inf')):\n",
    "    prime_list = [1]\n",
    "    num_to_check = 2\n",
    "    while len(prime_list) < how_many and num_to_check <= up_to:\n",
    "        if is_prime(num_to_check):\n",
    "            prime_list.append(num_to_check) \n",
    "        num_to_check+=1\n",
    "    return prime_list"
   ]
  },
  {
   "cell_type": "code",
   "execution_count": 78,
   "id": "b68a42e7-92d5-4870-bfc0-80c30c95c135",
   "metadata": {},
   "outputs": [
    {
     "data": {
      "text/plain": [
       "[1, 2, 3, 5, 7, 11, 13, 17, 19, 23, 29, 31, 37, 41, 43, 47]"
      ]
     },
     "execution_count": 78,
     "metadata": {},
     "output_type": "execute_result"
    }
   ],
   "source": [
    "prime(up_to = 50)"
   ]
  },
  {
   "cell_type": "code",
   "execution_count": 22,
   "id": "769cb4d7-1a09-4300-9c12-bc70954cf51c",
   "metadata": {},
   "outputs": [],
   "source": [
    "def fibon(how_many):\n",
    "    fib_list = [1,1]\n",
    "    i=2\n",
    "    while i < how_many:\n",
    "        next_fib = fib_list[i-1]+fib_list[i-2]\n",
    "        fib_list.append(next_fib)\n",
    "        i+=1\n",
    "    return fib_list[0:how_many]\n",
    "    "
   ]
  },
  {
   "cell_type": "code",
   "execution_count": 23,
   "id": "eb052005-3385-4323-ba4c-79448deaadfb",
   "metadata": {},
   "outputs": [
    {
     "data": {
      "text/plain": [
       "[1, 1, 2, 3, 5, 8, 13, 21, 34, 55, 89]"
      ]
     },
     "execution_count": 23,
     "metadata": {},
     "output_type": "execute_result"
    }
   ],
   "source": [
    "fibon(11)"
   ]
  },
  {
   "cell_type": "code",
   "execution_count": 79,
   "id": "9577d6da-06c2-4bf9-b74a-741105bd9224",
   "metadata": {},
   "outputs": [],
   "source": [
    "import numpy as np\n",
    "\n",
    "def prime_and_fib(ut_prime, hm_fibon):\n",
    "    return np.sum(prime(up_to = ut_prime)) / np.prod(fibon(hm_fibon))"
   ]
  },
  {
   "cell_type": "code",
   "execution_count": 80,
   "id": "9ae5f28c-04a1-4374-b570-f8670df35905",
   "metadata": {},
   "outputs": [
    {
     "data": {
      "text/plain": [
       "0.0006213394448688566"
      ]
     },
     "execution_count": 80,
     "metadata": {},
     "output_type": "execute_result"
    }
   ],
   "source": [
    "prime_and_fib(1000,10)"
   ]
  }
 ],
 "metadata": {
  "kernelspec": {
   "display_name": "Py309",
   "language": "python",
   "name": "py309"
  },
  "language_info": {
   "codemirror_mode": {
    "name": "ipython",
    "version": 3
   },
   "file_extension": ".py",
   "mimetype": "text/x-python",
   "name": "python",
   "nbconvert_exporter": "python",
   "pygments_lexer": "ipython3",
   "version": "3.9.16"
  }
 },
 "nbformat": 4,
 "nbformat_minor": 5
}
