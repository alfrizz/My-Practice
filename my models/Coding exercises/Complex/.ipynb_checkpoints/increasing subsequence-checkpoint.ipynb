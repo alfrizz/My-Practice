{
 "cells": [
  {
   "cell_type": "code",
   "execution_count": null,
   "id": "dd4814e3-7644-4dc4-9c2b-a1bcea0958ac",
   "metadata": {},
   "outputs": [],
   "source": [
    "'''\n",
    "You are given a list of integers. \n",
    "Your task is to write a function that finds the longest increasing subsequence (LIS) within the list. \n",
    "A subsequence is considered increasing if the elements are in ascending order, \n",
    "but they don't have to be contiguous. Your function should return the length of the LIS.\n",
    "For example, given the list [10, 22, 9, 33, 21, 50, 41, 60, 80], the longest increasing subsequence is [10, 22, 33, 50, 60, 80], \n",
    "and the function should return 6.\n",
    "Write a Python function named find_lis_length that takes in a list of integers \n",
    "and returns the length of the longest increasing subsequence. \n",
    "'''"
   ]
  },
  {
   "cell_type": "code",
   "execution_count": 155,
   "id": "684f424f-7942-427e-9958-f32b7ee6405a",
   "metadata": {},
   "outputs": [],
   "source": [
    "def find_lis_length(input_list):\n",
    "    subsequences_lenghts = []\n",
    "    iterator = 0\n",
    "    while iterator < len(input_list):\n",
    "        highest_value = input_list[iterator]\n",
    "        sequence_length = 1\n",
    "        for i in range(iterator+1, len(input_list)):\n",
    "            if input_list[i] > highest_value:\n",
    "                highest_value = input_list[i]\n",
    "                sequence_length +=1\n",
    "        subsequences_lenghts.append(sequence_length)\n",
    "        iterator +=1\n",
    "    return subsequences_lenghts, max(subsequences_lenghts)\n",
    "\n",
    "# can the code above, used to return the longest increasing subsequence (LIS) within the list, be optimized?"
   ]
  },
  {
   "cell_type": "code",
   "execution_count": 156,
   "id": "6f446df6-9478-41aa-a8d5-67a97e69d9d2",
   "metadata": {},
   "outputs": [
    {
     "data": {
      "text/plain": [
       "([7, 6, 6, 5, 5, 4, 4, 4, 3, 3, 2, 8, 7, 6, 5, 4, 3, 2, 1, 1, 1], 8)"
      ]
     },
     "execution_count": 156,
     "metadata": {},
     "output_type": "execute_result"
    }
   ],
   "source": [
    "find_lis_length([10, 22, 11, 33, 21, 50, 41, 1, 60, 2, 80, 3, 4, 5, 6, 7, 8, 75, 99, 98, 97])"
   ]
  }
 ],
 "metadata": {
  "kernelspec": {
   "display_name": "Py309",
   "language": "python",
   "name": "py309"
  },
  "language_info": {
   "codemirror_mode": {
    "name": "ipython",
    "version": 3
   },
   "file_extension": ".py",
   "mimetype": "text/x-python",
   "name": "python",
   "nbconvert_exporter": "python",
   "pygments_lexer": "ipython3",
   "version": "3.9.16"
  }
 },
 "nbformat": 4,
 "nbformat_minor": 5
}
