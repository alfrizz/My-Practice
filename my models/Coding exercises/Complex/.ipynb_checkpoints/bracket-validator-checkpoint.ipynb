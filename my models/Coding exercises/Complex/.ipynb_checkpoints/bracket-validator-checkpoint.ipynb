{
 "cells": [
  {
   "cell_type": "code",
   "execution_count": 2,
   "id": "1e3eaf4a-ed93-4798-99c9-0a750b97edb5",
   "metadata": {},
   "outputs": [],
   "source": [
    "class Stack():\n",
    "    #Constructor\n",
    "    def __init__(self,list=[]):\n",
    "        # __ means private (our __stack attribute is private)\n",
    "        self.__stack = []\n",
    "        for value in list:\n",
    "            self.__stack.append(value)\n",
    "        \n",
    "    def push(self,value):\n",
    "        self.__stack.append(value)\n",
    "      \n",
    "    def pop(self):\n",
    "        if len(self.__stack)>0:\n",
    "            return self.__stack.pop() #pop() Returns the value of the item that has been removed\n",
    "        else: #Stack is empty\n",
    "            return False\n",
    "        \n",
    "    def isEmpty(self):\n",
    "        if len(self.__stack)==0: \n",
    "            return True\n",
    "        else:\n",
    "            return False\n",
    "      "
   ]
  },
  {
   "cell_type": "code",
   "execution_count": 17,
   "id": "dff06aaf-ac99-4296-b160-f516516b8319",
   "metadata": {},
   "outputs": [],
   "source": [
    "#Bracket Validator - www.101computing.net/bracket-validator\n",
    "# from stack import Stack\n",
    "\n",
    "def checkExpression(expresssion):\n",
    "    openingBrackets = ['(','[',\"{\"]\n",
    "    closingBrackets = [')',']',\"}\"]\n",
    "    brackets = {\"(\":\")\",\"[\":\"]\",\"{\":\"}\"}\n",
    "    stack=Stack()\n",
    "    for character in expression:\n",
    "        if character in openingBrackets:\n",
    "            print('openedcharacter',character)\n",
    "            stack.push(character)\n",
    "        elif character in closingBrackets:\n",
    "            print('closedcharacter',character)\n",
    "            bracket = stack.pop()\n",
    "            print('bracket',bracket)\n",
    "            print('brackets[bracket]',brackets[bracket])\n",
    "            if brackets[bracket]!=character: #the type of closing bracket does not match the last opening bracket\n",
    "                return False\n",
    "      \n",
    "    if stack.isEmpty():\n",
    "        return True #Valid Expression\n",
    "    else:\n",
    "        return False #Invalid expression\n"
   ]
  },
  {
   "cell_type": "code",
   "execution_count": 19,
   "id": "6f79177d-d16f-46ef-85ad-f57fd26c00e2",
   "metadata": {},
   "outputs": [
    {
     "name": "stdin",
     "output_type": "stream",
     "text": [
      "Input an arithmetic expression: e.g. [(5+2)*3]:\n",
      " ([\n"
     ]
    },
    {
     "name": "stdout",
     "output_type": "stream",
     "text": [
      "openedcharacter (\n",
      "openedcharacter [\n",
      "Bracket check: Invalid expression.\n"
     ]
    }
   ],
   "source": [
    "#Main Program Starts Here\n",
    "expression = input(\"Input an arithmetic expression: e.g. [(5+2)*3]:\\n\")\n",
    "if checkExpression(expression):\n",
    "    print(\"Bracket check: Valid expression.\")\n",
    "else:  \n",
    "    print(\"Bracket check: Invalid expression.\")"
   ]
  }
 ],
 "metadata": {
  "kernelspec": {
   "display_name": "Py309",
   "language": "python",
   "name": "py309"
  },
  "language_info": {
   "codemirror_mode": {
    "name": "ipython",
    "version": 3
   },
   "file_extension": ".py",
   "mimetype": "text/x-python",
   "name": "python",
   "nbconvert_exporter": "python",
   "pygments_lexer": "ipython3",
   "version": "3.9.19"
  }
 },
 "nbformat": 4,
 "nbformat_minor": 5
}
