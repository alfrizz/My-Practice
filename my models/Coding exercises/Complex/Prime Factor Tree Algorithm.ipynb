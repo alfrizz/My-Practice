{
 "cells": [
  {
   "cell_type": "code",
   "execution_count": 2,
   "id": "c7bebed0-5c7a-43d3-ac39-650d57fb4f4d",
   "metadata": {},
   "outputs": [],
   "source": [
    "#A Function to find out whether a number is a prime number or not\n",
    "def isPrime(number):\n",
    "    if number<2:\n",
    "        return False\n",
    "    elif number==2:\n",
    "        return True\n",
    "    else:  \n",
    "        for i in range(2, number):\n",
    "            if number % i == 0:\n",
    "                return False\n",
    "        return True      "
   ]
  },
  {
   "cell_type": "code",
   "execution_count": 13,
   "id": "64f98c33-8305-4915-8cb8-4cf63262561e",
   "metadata": {},
   "outputs": [],
   "source": [
    "#Prime Factor Tree Algorithm - www.101computing.net/prime-factor-tree-algorithm/\n",
    "\n",
    "import os\n",
    "from tree import drawTree\n",
    "\n",
    "#A class to implement a Node / Tree\n",
    "class Node:\n",
    "    def __init__(self, value, left=None, right=None):\n",
    "        self.value = value\n",
    "        self.left = left\n",
    "        self.right = right\n",
    "  \n",
    "  #Draw the binary tree on screen\n",
    "    def draw(self):\n",
    "        drawTree(self)\n",
    "  \n",
    "  #Build the Prime Number Factor Tree recursively  \n",
    "    def buildPrimeFactorTree(self):\n",
    "        if isPrime(self.value): #Leaf node (prime number)\n",
    "            primeFactors.append(self.value)\n",
    "        else:\n",
    "            for i in range(2,self.value):\n",
    "                if self.value % i == 0:\n",
    "                    primeFactors.append(i) #Leaf Node (prime number)\n",
    "                    self.left = Node(i)\n",
    "                    self.right = Node(self.value//i) \n",
    "                    #A Recursive call to carry on building the factor tree\n",
    "                    self.right.buildPrimeFactorTree()\n",
    "                    break"
   ]
  },
  {
   "cell_type": "code",
   "execution_count": 19,
   "id": "32a714fa-4249-4e9f-9eda-08448cbc9533",
   "metadata": {},
   "outputs": [
    {
     "name": "stdin",
     "output_type": "stream",
     "text": [
      "Enter a positive integer value: e.g. 150 9191616161\n"
     ]
    },
    {
     "name": "stdout",
     "output_type": "stream",
     "text": [
      "9191616161\n",
      "    / \\\n",
      "   /   \\\n",
      "  /     \\\n",
      " 7  1313088023\n",
      "        / \\\n",
      "       /   \\\n",
      "      /     \\\n",
      "     13  101006771\n",
      "            / \\\n",
      "           /   \\\n",
      "          /     \\\n",
      "        7877   12823\n",
      "\n",
      "The prime factors of 9191616161 are:\n",
      "[7, 13, 7877, 12823]\n"
     ]
    }
   ],
   "source": [
    "# Main Program Starts Here....\n",
    "\n",
    "number = int(input(\"Enter a positive integer value: e.g. 150\"))\n",
    "primeFactors = []\n",
    "\n",
    "tree = Node(number)\n",
    "tree.buildPrimeFactorTree()\n",
    "tree.draw()\n",
    "\n",
    "print(\"\\nThe prime factors of \" + str(number) + \" are:\")\n",
    "print(primeFactors)"
   ]
  },
  {
   "cell_type": "code",
   "execution_count": null,
   "id": "455a2c2d-a699-443f-8908-c65975b29535",
   "metadata": {},
   "outputs": [],
   "source": []
  },
  {
   "cell_type": "code",
   "execution_count": null,
   "id": "70c03ac1-3666-4999-a3c0-4241610373f9",
   "metadata": {},
   "outputs": [],
   "source": []
  },
  {
   "cell_type": "code",
   "execution_count": null,
   "id": "6725f825-af0f-400e-a181-5b03e59a7989",
   "metadata": {},
   "outputs": [],
   "source": []
  },
  {
   "cell_type": "code",
   "execution_count": null,
   "id": "844116da-4bd1-4757-9873-6d83813752d0",
   "metadata": {},
   "outputs": [],
   "source": []
  }
 ],
 "metadata": {
  "kernelspec": {
   "display_name": "Py309",
   "language": "python",
   "name": "py309"
  },
  "language_info": {
   "codemirror_mode": {
    "name": "ipython",
    "version": 3
   },
   "file_extension": ".py",
   "mimetype": "text/x-python",
   "name": "python",
   "nbconvert_exporter": "python",
   "pygments_lexer": "ipython3",
   "version": "3.9.16"
  }
 },
 "nbformat": 4,
 "nbformat_minor": 5
}
