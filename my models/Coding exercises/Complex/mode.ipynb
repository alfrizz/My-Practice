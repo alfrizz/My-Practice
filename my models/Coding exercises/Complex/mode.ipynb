{
 "cells": [
  {
   "cell_type": "code",
   "execution_count": 21,
   "id": "19051c2f-55db-49ee-8a58-2079ad61f4e2",
   "metadata": {},
   "outputs": [],
   "source": [
    "import random\n",
    "\n",
    "def rand_list(len_list, max_numb):\n",
    "    rand_list = []\n",
    "    for i in range(len_list):\n",
    "        rand_list.append(random.randint(0,max_numb))\n",
    "    return rand_list"
   ]
  },
  {
   "cell_type": "code",
   "execution_count": 58,
   "id": "1f09ecea-9b3b-444f-aae9-129f58ee8b2e",
   "metadata": {},
   "outputs": [],
   "source": [
    "# random_list = rand_list(99,9)\n",
    "# print(random_list)\n"
   ]
  },
  {
   "cell_type": "code",
   "execution_count": 55,
   "id": "46aed24b-507b-4f26-bc0e-73af38eab5a4",
   "metadata": {},
   "outputs": [],
   "source": [
    "def cust_mode(len_list, max_numb):\n",
    "    random_list = rand_list(len_list, max_numb)\n",
    "    freq_dict = {k:0 for k in range(max_numb+1)}\n",
    "    for i in range(len(random_list)):\n",
    "        freq_dict[random_list[i]] += 1\n",
    "    dict_max = max(freq_dict.values())\n",
    "    dict_mode = [key for key, value in freq_dict.items() if value==dict_max]\n",
    "    return freq_dict, dict_max, dict_mode\n",
    "        \n",
    "        "
   ]
  },
  {
   "cell_type": "code",
   "execution_count": 65,
   "id": "9ad29798-803f-4e31-ad21-bfe2ed66876f",
   "metadata": {},
   "outputs": [
    {
     "data": {
      "text/plain": [
       "({0: 9854,\n",
       "  1: 10034,\n",
       "  2: 10009,\n",
       "  3: 10311,\n",
       "  4: 9711,\n",
       "  5: 9994,\n",
       "  6: 10035,\n",
       "  7: 10013,\n",
       "  8: 10141,\n",
       "  9: 9897},\n",
       " 10311,\n",
       " [3])"
      ]
     },
     "execution_count": 65,
     "metadata": {},
     "output_type": "execute_result"
    }
   ],
   "source": [
    "cust_mode(99999,9)"
   ]
  },
  {
   "cell_type": "code",
   "execution_count": null,
   "id": "ca0425bf-d7c1-4808-adf5-f8df3fd44fa0",
   "metadata": {},
   "outputs": [],
   "source": []
  }
 ],
 "metadata": {
  "kernelspec": {
   "display_name": "Py309",
   "language": "python",
   "name": "py309"
  },
  "language_info": {
   "codemirror_mode": {
    "name": "ipython",
    "version": 3
   },
   "file_extension": ".py",
   "mimetype": "text/x-python",
   "name": "python",
   "nbconvert_exporter": "python",
   "pygments_lexer": "ipython3",
   "version": "3.9.16"
  }
 },
 "nbformat": 4,
 "nbformat_minor": 5
}
