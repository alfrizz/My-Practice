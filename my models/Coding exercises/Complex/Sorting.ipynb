{
 "cells": [
  {
   "cell_type": "code",
   "execution_count": 3,
   "id": "d4c0b64f-4f90-4530-b5cc-db0e7ff1580d",
   "metadata": {},
   "outputs": [],
   "source": [
    "def insertionSort(list):\n",
    "  #Iterate through each value of the list\n",
    "    for i in range(1,len(list)):\n",
    "        pointer = i\n",
    "\n",
    "        #Slide value on the left to insert it in postion\n",
    "        while list[pointer]<list[pointer-1] and pointer>0:\n",
    "            #Swap values with the previous value...\n",
    "            tmp=list[pointer]\n",
    "            list[pointer]=list[pointer-1]\n",
    "            list[pointer-1] = tmp\n",
    "\n",
    "            pointer = pointer - 1\n",
    "\n",
    "        #Print list at the end of each iteration\n",
    "        print(list) "
   ]
  },
  {
   "cell_type": "code",
   "execution_count": 4,
   "id": "f0ccece6-9ff5-4acd-8f1b-9b5dc30d9c14",
   "metadata": {},
   "outputs": [
    {
     "name": "stdout",
     "output_type": "stream",
     "text": [
      "[1, 3, 2, 5, 4, 6, 9, 8, 7]\n",
      "[1, 2, 3, 5, 4, 6, 9, 8, 7]\n",
      "[1, 2, 3, 5, 4, 6, 9, 8, 7]\n",
      "[1, 2, 3, 4, 5, 6, 9, 8, 7]\n",
      "[1, 2, 3, 4, 5, 6, 9, 8, 7]\n",
      "[1, 2, 3, 4, 5, 6, 9, 8, 7]\n",
      "[1, 2, 3, 4, 5, 6, 8, 9, 7]\n",
      "[1, 2, 3, 4, 5, 6, 7, 8, 9]\n"
     ]
    }
   ],
   "source": [
    "insertionSort([1,3,2,5,4,6,9,8,7])"
   ]
  },
  {
   "cell_type": "code",
   "execution_count": 13,
   "id": "765a3706-6866-4fbe-9044-33d39c8205df",
   "metadata": {},
   "outputs": [],
   "source": [
    "def bubbleSort(list):\n",
    "    counter = len(list)-1\n",
    "    sorted=False\n",
    "\n",
    "    #The Bubble sort stops iterating if it did not perform any \"swap\" in the previous iteration.\n",
    "    while sorted==False:\n",
    "        sorted=True\n",
    "        for pointer in range(0,counter):\n",
    "            if list[pointer]>list[pointer+1]:\n",
    "                #Swap values with the next value...\n",
    "                tmp = list[pointer]\n",
    "                list[pointer] = list[pointer+1]\n",
    "                list[pointer+1] = tmp\n",
    "                sorted=False\n",
    "        #Print list at the end of each iteration\n",
    "        print(list)  \n",
    "        counter-=1"
   ]
  },
  {
   "cell_type": "code",
   "execution_count": 14,
   "id": "783e9a36-2907-46f5-89df-72fc3c14eada",
   "metadata": {},
   "outputs": [
    {
     "name": "stdout",
     "output_type": "stream",
     "text": [
      "[1, 3, 2, 5, 4, 11, 6, 9, 8, 3, 7, 18]\n",
      "[1, 2, 3, 4, 5, 6, 9, 8, 3, 7, 11, 18]\n",
      "[1, 2, 3, 4, 5, 6, 8, 3, 7, 9, 11, 18]\n",
      "[1, 2, 3, 4, 5, 6, 3, 7, 8, 9, 11, 18]\n",
      "[1, 2, 3, 4, 5, 3, 6, 7, 8, 9, 11, 18]\n",
      "[1, 2, 3, 4, 3, 5, 6, 7, 8, 9, 11, 18]\n",
      "[1, 2, 3, 3, 4, 5, 6, 7, 8, 9, 11, 18]\n",
      "[1, 2, 3, 3, 4, 5, 6, 7, 8, 9, 11, 18]\n"
     ]
    }
   ],
   "source": [
    "bubbleSort([1,3,18,2,5,4,11,6,9,8,3,7])"
   ]
  },
  {
   "cell_type": "code",
   "execution_count": 3,
   "id": "626eeb87-1b7d-4cec-8963-b40b9f809489",
   "metadata": {},
   "outputs": [
    {
     "data": {
      "text/plain": [
       "5"
      ]
     },
     "execution_count": 3,
     "metadata": {},
     "output_type": "execute_result"
    }
   ],
   "source": [
    "11//2"
   ]
  },
  {
   "cell_type": "code",
   "execution_count": 6,
   "id": "66085b87-c87c-4d03-ad09-44b1ea92e256",
   "metadata": {},
   "outputs": [],
   "source": [
    "#Merge Sort: A divide-and-conquer algorithm implemented using a recursive function!\n",
    "def mergeSort(list):\n",
    "    midPointer = len(list) // 2\n",
    "\n",
    "    leftList = list[0:midPointer]\n",
    "    rightList = list[midPointer:len(list)]\n",
    "  \n",
    "    print('l',leftList)\n",
    "    print('r',rightList)\n",
    "    \n",
    "    if len(leftList)>2: \n",
    "        leftList = mergeSort(leftList)\n",
    "    else:\n",
    "        if len(leftList)==2:\n",
    "            if leftList[0]>leftList[1]:\n",
    "                tmp = leftList[0]\n",
    "                leftList[0] = leftList[1]\n",
    "                leftList[1] = tmp\n",
    "       \n",
    "    if len(rightList)>2: \n",
    "        rightList = mergeSort(rightList)\n",
    "    else:\n",
    "        if len(rightList)==2:\n",
    "            if rightList[0]>rightList[1]:\n",
    "                tmp = rightList[0]\n",
    "                rightList[0] = rightList[1]\n",
    "                rightList[1] = tmp\n",
    "        \n",
    "    print('l_sort',leftList)\n",
    "    print('r_sort',rightList)\n",
    "    \n",
    "    #Merge left and right...'\n",
    "    leftPointer = 0\n",
    "    rightPointer = 0\n",
    "    sortedList=[]\n",
    "    while leftPointer<len(leftList) and rightPointer<len(rightList):\n",
    "        if leftList[leftPointer] < rightList[rightPointer]:\n",
    "            sortedList.append(leftList[leftPointer])\n",
    "            leftPointer += 1\n",
    "        else:   \n",
    "            sortedList.append(rightList[rightPointer])\n",
    "            rightPointer += 1\n",
    "  \n",
    "    while leftPointer<len(leftList):\n",
    "        sortedList.append(leftList[leftPointer])\n",
    "        leftPointer+=1\n",
    "    while rightPointer<len(rightList):\n",
    "        sortedList.append(rightList[rightPointer])\n",
    "        rightPointer+=1\n",
    "        \n",
    "    print('s',sortedList)    \n",
    "\n",
    "    return sortedList"
   ]
  },
  {
   "cell_type": "code",
   "execution_count": 7,
   "id": "c3906c04-d9b2-44cb-9997-843572d2a8ec",
   "metadata": {},
   "outputs": [
    {
     "name": "stdout",
     "output_type": "stream",
     "text": [
      "l [1, 3, 18, 2, 5, 4]\n",
      "r [11, 6, 9, 8, 3, 7]\n",
      "l [1, 3, 18]\n",
      "r [2, 5, 4]\n",
      "l [1]\n",
      "r [3, 18]\n",
      "l_sort [1]\n",
      "r_sort [3, 18]\n",
      "s [1, 3, 18]\n",
      "l [2]\n",
      "r [5, 4]\n",
      "l_sort [2]\n",
      "r_sort [4, 5]\n",
      "s [2, 4, 5]\n",
      "l_sort [1, 3, 18]\n",
      "r_sort [2, 4, 5]\n",
      "s [1, 2, 3, 4, 5, 18]\n",
      "l [11, 6, 9]\n",
      "r [8, 3, 7]\n",
      "l [11]\n",
      "r [6, 9]\n",
      "l_sort [11]\n",
      "r_sort [6, 9]\n",
      "s [6, 9, 11]\n",
      "l [8]\n",
      "r [3, 7]\n",
      "l_sort [8]\n",
      "r_sort [3, 7]\n",
      "s [3, 7, 8]\n",
      "l_sort [6, 9, 11]\n",
      "r_sort [3, 7, 8]\n",
      "s [3, 6, 7, 8, 9, 11]\n",
      "l_sort [1, 2, 3, 4, 5, 18]\n",
      "r_sort [3, 6, 7, 8, 9, 11]\n",
      "s [1, 2, 3, 3, 4, 5, 6, 7, 8, 9, 11, 18]\n"
     ]
    },
    {
     "data": {
      "text/plain": [
       "[1, 2, 3, 3, 4, 5, 6, 7, 8, 9, 11, 18]"
      ]
     },
     "execution_count": 7,
     "metadata": {},
     "output_type": "execute_result"
    }
   ],
   "source": [
    "mergeSort([1,3,18,2,5,4,11,6,9,8,3,7])"
   ]
  },
  {
   "cell_type": "code",
   "execution_count": 120,
   "id": "bac42c48-31a6-4e48-be92-3ee4ca70ef19",
   "metadata": {},
   "outputs": [
    {
     "data": {
      "text/plain": [
       "[1, 2, 3, 3, 4, 5, 6, 7, 8, 9, 11, 18]"
      ]
     },
     "execution_count": 120,
     "metadata": {},
     "output_type": "execute_result"
    }
   ],
   "source": [
    "import numpy as np\n",
    "\n",
    "def alfSort(num_list):\n",
    "    ord_list = []\n",
    "    pos = 0\n",
    "    list_len = len(num_list)\n",
    "    while len(ord_list)<list_len:\n",
    "        min_el = num_list.pop(np.argmin(num_list))\n",
    "        ord_list.insert(pos, min_el)\n",
    "        max_el = num_list.pop(np.argmax(num_list))\n",
    "        ord_list.insert(pos+1, max_el)\n",
    "        pos+=1\n",
    "    return ord_list\n",
    "    \n",
    "alfSort([1,3,18,2,5,4,11,6,9,8,3,7]) "
   ]
  },
  {
   "cell_type": "code",
   "execution_count": 130,
   "id": "ac1009aa-f145-4eb3-bd08-f9a37cba9f07",
   "metadata": {},
   "outputs": [],
   "source": [
    "import random\n",
    "randomlist = random.sample(range(1, 100001), 1000, )"
   ]
  },
  {
   "cell_type": "code",
   "execution_count": 132,
   "id": "1356ba77-42e0-4298-8190-488681a52fd1",
   "metadata": {},
   "outputs": [
    {
     "name": "stdout",
     "output_type": "stream",
     "text": [
      "9.649126200005412\n"
     ]
    }
   ],
   "source": [
    "import time\n",
    "\n",
    "def swap_elements(my_list, pos1, pos2):\n",
    "    my_list[pos1], my_list[pos2] = my_list[pos2], my_list[pos1]\n",
    "\n",
    "def alfQsort(num_list):\n",
    "\n",
    "    forw_curs = 0\n",
    "    while forw_curs < len(num_list)-1:\n",
    "        if num_list[forw_curs] > num_list[forw_curs+1]:\n",
    "            backw_curs = forw_curs\n",
    "            while num_list[backw_curs] > num_list[forw_curs+1]:\n",
    "                backw_curs-=1\n",
    "            swap_elements(num_list, backw_curs+1, forw_curs+1)\n",
    "            forw_curs-=1\n",
    "            # print('b', backw_curs, 'f', forw_curs)\n",
    "        forw_curs+=1\n",
    "        # print(num_list)\n",
    "        \n",
    "    return(num_list)\n",
    "\n",
    "def count_as(num_list):\n",
    "    start_time = time.perf_counter()\n",
    "    alfQsort(num_list) \n",
    "    end_time = time.perf_counter()\n",
    "    print(end_time - start_time)\n",
    "    \n",
    "count_as(randomlist)"
   ]
  },
  {
   "cell_type": "code",
   "execution_count": 13,
   "id": "50ac4d3f-cf9a-49c6-b862-779be31f84d0",
   "metadata": {},
   "outputs": [
    {
     "name": "stdout",
     "output_type": "stream",
     "text": [
      "p 3\n",
      "m [3, 3]\n",
      "l []\n",
      "r []\n",
      "------\n",
      "ql []\n",
      "qr []\n",
      "ql + middle + qr [3, 3]\n",
      "-----------------------------------\n",
      "p 4\n",
      "m [4]\n",
      "l [3, 3]\n",
      "r []\n",
      "------\n",
      "ql [3, 3]\n",
      "qr []\n",
      "ql + middle + qr [3, 3, 4]\n",
      "-----------------------------------\n",
      "p 2\n",
      "m [2]\n",
      "l [1]\n",
      "r [3, 4, 3]\n",
      "------\n",
      "ql [1]\n",
      "qr [3, 3, 4]\n",
      "ql + middle + qr [1, 2, 3, 3, 4]\n",
      "-----------------------------------\n",
      "p 5\n",
      "m [5]\n",
      "l [1, 3, 2, 4, 3]\n",
      "r []\n",
      "------\n",
      "ql [1, 2, 3, 3, 4]\n",
      "qr []\n",
      "ql + middle + qr [1, 2, 3, 3, 4, 5]\n",
      "-----------------------------------\n",
      "p 8\n",
      "m [8]\n",
      "l [7]\n",
      "r [9]\n",
      "------\n",
      "ql [7]\n",
      "qr [9]\n",
      "ql + middle + qr [7, 8, 9]\n",
      "-----------------------------------\n",
      "p 6\n",
      "m [6]\n",
      "l [1, 3, 2, 5, 4, 3]\n",
      "r [9, 8, 7]\n",
      "------\n",
      "ql [1, 2, 3, 3, 4, 5]\n",
      "qr [7, 8, 9]\n",
      "ql + middle + qr [1, 2, 3, 3, 4, 5, 6, 7, 8, 9]\n",
      "-----------------------------------\n",
      "p 11\n",
      "m [11]\n",
      "l [1, 3, 2, 5, 4, 6, 9, 8, 3, 7]\n",
      "r []\n",
      "------\n",
      "ql [1, 2, 3, 3, 4, 5, 6, 7, 8, 9]\n",
      "qr []\n",
      "ql + middle + qr [1, 2, 3, 3, 4, 5, 6, 7, 8, 9, 11]\n",
      "-----------------------------------\n",
      "p 15\n",
      "m [15]\n",
      "l [1, 3, 2, 5, 4, 11, 6, 9, 8, 3, 7]\n",
      "r [18]\n",
      "------\n",
      "ql [1, 2, 3, 3, 4, 5, 6, 7, 8, 9, 11]\n",
      "qr [18]\n",
      "ql + middle + qr [1, 2, 3, 3, 4, 5, 6, 7, 8, 9, 11, 15, 18]\n",
      "-----------------------------------\n"
     ]
    },
    {
     "data": {
      "text/plain": [
       "[1, 2, 3, 3, 4, 5, 6, 7, 8, 9, 11, 15, 18]"
      ]
     },
     "execution_count": 13,
     "metadata": {},
     "output_type": "execute_result"
    }
   ],
   "source": [
    "def quicksort(arr):\n",
    "    \n",
    "    if len(arr) <= 1:\n",
    "        return arr\n",
    "    pivot = arr[len(arr) // 2]\n",
    "    left = [x for x in arr if x < pivot]\n",
    "    middle = [x for x in arr if x == pivot]\n",
    "    right = [x for x in arr if x > pivot]\n",
    "\n",
    "    ql = quicksort(left)\n",
    "    qr = quicksort(right)\n",
    "    \n",
    "    print('p',pivot)\n",
    "    print('m',middle)\n",
    "    print('l',left)\n",
    "    print('r',right)\n",
    "    print('------')\n",
    "    print('ql',ql)\n",
    "    print('qr',qr)\n",
    "    print('ql + middle + qr',ql + middle + qr)\n",
    "    print('-----------------------------------')\n",
    "    \n",
    "    return ql + middle + qr\n",
    "\n",
    "# def count_qs(num_list):\n",
    "#     start_time = time.perf_counter()\n",
    "#     quicksort(num_list) \n",
    "#     end_time = time.perf_counter()\n",
    "#     print(end_time - start_time)\n",
    "    \n",
    "# count_qs(randomlist)\n",
    "\n",
    "\n",
    "quicksort([1,3,18,2,5,4,15,11,6,9,8,3,7])\n",
    "# quicksort([1,4,3,2,5])"
   ]
  }
 ],
 "metadata": {
  "kernelspec": {
   "display_name": "Py309",
   "language": "python",
   "name": "py309"
  },
  "language_info": {
   "codemirror_mode": {
    "name": "ipython",
    "version": 3
   },
   "file_extension": ".py",
   "mimetype": "text/x-python",
   "name": "python",
   "nbconvert_exporter": "python",
   "pygments_lexer": "ipython3",
   "version": "3.9.16"
  }
 },
 "nbformat": 4,
 "nbformat_minor": 5
}
