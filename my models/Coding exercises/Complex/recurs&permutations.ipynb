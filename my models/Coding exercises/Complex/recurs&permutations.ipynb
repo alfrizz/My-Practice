{
 "cells": [
  {
   "cell_type": "code",
   "execution_count": 41,
   "id": "5598ef1b-56cb-4c81-aede-ca12b2fbf9ba",
   "metadata": {},
   "outputs": [],
   "source": [
    "'''\n",
    "COUNT WAYS - RECURSIVE\n",
    "(only 1 or 2 steps at a time: in this case)\n",
    "'''\n",
    "\n",
    "#The climbing stairs puzzle - www.101computing.net/the-climbing-stairs-puzzle\n",
    "\n",
    "def climb_stairs_2_rec(n):\n",
    "    if n==1:\n",
    "        return 1\n",
    "    elif n==2:\n",
    "        return 2\n",
    "    else:\n",
    "        return climb_stairs_2_rec(n-1) + climb_stairs_2_rec(n-2) # because we identify that it follows the fibonacci series\n",
    "    "
   ]
  },
  {
   "cell_type": "code",
   "execution_count": 42,
   "id": "6e5fd909-a994-42e5-ab92-fc9e69f86704",
   "metadata": {},
   "outputs": [
    {
     "name": "stdout",
     "output_type": "stream",
     "text": [
      "There are 14930352 distinct ways to climb a staircase of 35 steps when climbing up one or two steps at a time.\n"
     ]
    }
   ],
   "source": [
    "steps = 35   \n",
    "ways = climb_stairs_2_rec(steps)    \n",
    "print(\"There are \" + str(ways) + \" distinct ways to climb a staircase of \" + str(steps) + \" steps when climbing up one or two steps at a time.\")\n"
   ]
  },
  {
   "cell_type": "code",
   "execution_count": 43,
   "id": "8a932a34-b484-4e3e-9203-5689c02c87f9",
   "metadata": {},
   "outputs": [],
   "source": [
    "'''\n",
    "COUNT WAYS - NOT RECURSIVE\n",
    "(only 1 or 2 steps at a time)\n",
    "'''\n",
    "\n",
    "def climb_stairs_2(n):\n",
    "    if n == 1:\n",
    "        return 1\n",
    "    if n == 2:\n",
    "        return 2\n",
    "\n",
    "    ways = [0] * (n + 1)\n",
    "    ways[1] = 1\n",
    "    ways[2] = 2\n",
    "\n",
    "    for i in range(3, n + 1):\n",
    "        ways[i] = ways[i - 1] + ways[i - 2] # same fibonacci series criteria, but without recursion\n",
    "\n",
    "    return ways[n]"
   ]
  },
  {
   "cell_type": "code",
   "execution_count": 44,
   "id": "a6a85732-8239-44d4-87ca-d9e88bb74b5b",
   "metadata": {},
   "outputs": [
    {
     "data": {
      "text/plain": [
       "560099116857419990464943760131738213410973574450557569045176277317822939235205889847949348806304754949278198262172298679574779297161320064939750877571313229378221575703940626150228439349326844513851927463723955237446597282275096520469634800231063864188155519959004568780983883593105357198392172284293269487320491833861266308399371327696698447899888400356574148775600076153447061861327527440584033178844105541588185668504556952741081485373244865058979409901355133413012818559073505121293839049046825377352178213218516964697425159896192972280120974245144761842723070903122738253183331897068595992547070141556418397382375060567242575538813068672080110283183002890240755687530942784964760570016956150052341059990556659328616029808803614308992648989681753767230588853838254552288069736573800942160210638813614154121306378682894407574069653207240176609682089123169509386337654417370839812009824633889721963803284321598773522232298860383031840634823339047077980418827154084382134816077040846187007029100525225050411009628112893973940306163099594091684782251212407706428901440658234672671847511284395140130231963528229763446863604309308741739055074187039321096756599929637964218643340665936564726624761980140760894254342275971799732086854574199502772675135827932516546254945641296103715739922978086817787826932423283473166088163144527187673348745574685611576129352756991242194682242235344654822077940834629486759964315191762582992241766782047513771480255336026822877570203431595955451355220286779101502725771727063258768674327436410642725592705632943547457439584403099387525913543920938096654576444065751992162827736240140321064859389065030629677606907206292761054008433597681578671142030125729147906481435883380202596703751455556329500441498768660641059849926080739181883790010598131050919274599700925111720354423730407105203242432257433867006577759151745760167318600853713004609154694001"
      ]
     },
     "execution_count": 44,
     "metadata": {},
     "output_type": "execute_result"
    }
   ],
   "source": [
    " climb_stairs_2(9000)"
   ]
  },
  {
   "cell_type": "code",
   "execution_count": 45,
   "id": "c5059798-15fd-4c03-8037-a4efc3a2583d",
   "metadata": {},
   "outputs": [],
   "source": [
    "'''\n",
    "COUNT WAYS - NOT RECURSIVE\n",
    "(only 1 or 2 or 3 steps at a time)\n",
    "'''\n",
    "\n",
    "def climb_stairs_3(n):\n",
    "    if n == 1:\n",
    "        return 1\n",
    "    if n == 2:\n",
    "        return 2\n",
    "    if n == 3:\n",
    "        return 4\n",
    "\n",
    "    ways = [0] * (n + 1)\n",
    "    ways[1] = 1\n",
    "    ways[2] = 2\n",
    "    ways[3] = 4\n",
    "\n",
    "    for i in range(4, n + 1):\n",
    "        ways[i] = ways[i - 1] + ways[i - 2] + ways[i - 3] # same fibonacci criteria\n",
    "\n",
    "    return ways[n]"
   ]
  },
  {
   "cell_type": "code",
   "execution_count": 55,
   "id": "c984c2b4-00e5-4726-84f8-6798661dc530",
   "metadata": {},
   "outputs": [
    {
     "data": {
      "text/plain": [
       "1049708879455121797201564025628818842826699087015073763962268495077158809642535025666538340532170818682826544212708759988470833549631587813891722132214983235139853374262727012170118595929713521410988918052064209001345824296465870464274360054952557988832460736180314750001393968534278935134364061420491547159997650860940487895201503803016299281950077626203679360079500312815674248527969461433247640986125468240501455646014486813117277899043376172161966402198421065908020217867458192414626650592491321415778945796307729221974047562694522874311289517845206008822644015808367894303100529227951001075993141506993350301354475343651019722128564248103022640817517281754500092468166422878083037564316421902298666189550212201648543764497990035709292537523567123821272915540676254369992624828150252950326401963175906937336872428774978832335940540673127804552449383064912778884124078085339488970052357952469665811967606392797519253723820921575885704773622272836256892939264892065464615295912805786447401306814366162709473999355543997530370110409863961345604646827372275481228350652327616432774881064377678370228697736841927646953196058865538685677024947440045659872315025630318948990874221430676245882472392462092369493882639401180954567717441632700154601833783224843807369048323468451063498734818412680133354594113187111138049212527016858189495153059152788598067033695906307982050668901145572996092005411590490911783648289750833532406632409730189610787858846237541803877148331349656464720679885824922572605001959322414490156976819785188913186474646461602787037720055092879942500632768227388959893060871635915883243607435852861699546436329153630255956439531676301220989121244560562689120987683425663712687603639244428898883795507803676986809337685518341715823911856820355827049312761115750928090485155106390482074089658251515449956610873612021177571598331019072648206607111147486382509411616790126077175538251733701810591415383504244534577444553317426007164232799822679891920835544174060812386794786036075831769755515637631688765209824950905288602477806638543110393709387872075315070597502553318361558991381202786168252510024139074706271467903839557603507849994374375471128581926818439971535701554370210760425913596015508721110632581259739392126826541694797501478370679556431003201876446167095027883184616219534875350879132001316355974007311377719451445478289568060940915863789110727485741056532230336338068490906495891092471116156400295648352256834105279078394616002117315837079289391872443871129612479016883592097359356987010573724532830217381551055256681979107000910976837064702010032661774760937283391236169122470978714637175101805883989359487255840824328"
      ]
     },
     "execution_count": 55,
     "metadata": {},
     "output_type": "execute_result"
    }
   ],
   "source": [
    " climb_stairs_3(9999)"
   ]
  },
  {
   "cell_type": "code",
   "execution_count": 107,
   "id": "d13f3226-3664-4d71-b1da-f2bd1c460f69",
   "metadata": {},
   "outputs": [],
   "source": [
    "'''\n",
    "COUNT WAYS - NOT RECURSIVE\n",
    "(m or less steps at a time)\n",
    "'''\n",
    "\n",
    "def climb_stairs_m(n, m):\n",
    "    ways = [0] * (n + 1)\n",
    "    ways[0] = 1\n",
    "\n",
    "    for i in range(1, n + 1):\n",
    "        for j in range(1, m + 1):\n",
    "            if i >= j:\n",
    "                ways[i] += ways[i - j]\n",
    "\n",
    "    return ways[0], ways[1:n + 1]"
   ]
  },
  {
   "cell_type": "code",
   "execution_count": 109,
   "id": "67e3b944-4533-45da-8a1d-4940361e1314",
   "metadata": {},
   "outputs": [
    {
     "data": {
      "text/plain": [
       "(1,\n",
       " [1, 2, 4, 8, 15, 29, 56, 108, 208, 401, 773, 1490, 2872, 5536, 10671, 20569])"
      ]
     },
     "execution_count": 109,
     "metadata": {},
     "output_type": "execute_result"
    }
   ],
   "source": [
    "climb_stairs_m(16,4)"
   ]
  },
  {
   "cell_type": "code",
   "execution_count": 5,
   "id": "5eab9b42-13d2-48c9-817d-c6946c16c684",
   "metadata": {},
   "outputs": [],
   "source": [
    "'''\n",
    "ALL PERMUTATIONS - RECURSIVE\n",
    "'''\n",
    "\n",
    "def permute_rec(list):\n",
    "    # Base case: if nums is empty, there's only one permutation: an empty list\n",
    "    if not list:\n",
    "        return [[]]\n",
    "\n",
    "    # Recursive case:\n",
    "    # Choose each number to be the first number in the permutation,\n",
    "    # and permute the remaining numbers\n",
    "    permutations = []\n",
    "    for i in range(len(list)):\n",
    "        rest = list[:i] + list[i+1:]\n",
    "        for rest_perm in permute_rec(rest):\n",
    "            permutations.append([list[i]] + rest_perm)            \n",
    "\n",
    "    return permutations"
   ]
  },
  {
   "cell_type": "code",
   "execution_count": 6,
   "id": "0e6ba46e-5ef6-44e3-bfa5-26adf3c26f8c",
   "metadata": {},
   "outputs": [
    {
     "data": {
      "text/plain": [
       "[['XXX', 'YYY', 'ZZZ'],\n",
       " ['XXX', 'ZZZ', 'YYY'],\n",
       " ['YYY', 'XXX', 'ZZZ'],\n",
       " ['YYY', 'ZZZ', 'XXX'],\n",
       " ['ZZZ', 'XXX', 'YYY'],\n",
       " ['ZZZ', 'YYY', 'XXX']]"
      ]
     },
     "execution_count": 6,
     "metadata": {},
     "output_type": "execute_result"
    }
   ],
   "source": [
    "permute_rec(['XXX','YYY','ZZZ'])"
   ]
  },
  {
   "cell_type": "code",
   "execution_count": 957,
   "id": "2aeca2ee-699b-4838-8ad3-8c40270194fb",
   "metadata": {},
   "outputs": [],
   "source": [
    "'''\n",
    "ALL PERMUTATIONS - NOT RECURSIVE\n",
    "'''\n",
    "\n",
    "import time\n",
    "\n",
    "\n",
    "def permute(nums):\n",
    "\n",
    "    start_time = time.time()\n",
    "    \n",
    "    # The result list\n",
    "    result = [[]]\n",
    "    \n",
    "    for num in nums:\n",
    "        new_permutations = []\n",
    "        for perm in result:\n",
    "            for i in range(len(perm)+1):\n",
    "                new_permutations.append(perm[:i] + [num] + perm[i:])\n",
    "                # handle duplication\n",
    "                # if i < len(perm) and perm[i] == num: \n",
    "                #     break                  \n",
    "        result = new_permutations\n",
    "        \n",
    "    end_time = time.time()\n",
    "\n",
    "    print(f\"Elapsed time: {end_time - start_time} seconds\")\n",
    "        \n",
    "    return len(result)\n",
    "\n"
   ]
  },
  {
   "cell_type": "code",
   "execution_count": 967,
   "id": "4a86ceec-56d5-4977-8dd0-2b1c1515cccd",
   "metadata": {},
   "outputs": [
    {
     "name": "stdout",
     "output_type": "stream",
     "text": [
      "Elapsed time: 15.398254156112671 seconds\n"
     ]
    },
    {
     "data": {
      "text/plain": [
       "3628800"
      ]
     },
     "execution_count": 967,
     "metadata": {},
     "output_type": "execute_result"
    }
   ],
   "source": [
    "permute(['A','B','C','D','E','F','G','H','I','L'])"
   ]
  },
  {
   "cell_type": "code",
   "execution_count": null,
   "id": "4c3cd5f3-6be4-4b9e-9a3d-47947d3df185",
   "metadata": {},
   "outputs": [],
   "source": [
    "# import copy\n",
    "\n",
    "# def permute_alf(list_to_perm):\n",
    "#     result = list_to_perm\n",
    "#     result_temp = copy.deepcopy(result)\n",
    "#     len_res = len(result)\n",
    "#     for i in range(len(list_to_perm)-1):\n",
    "#         # print('******************************************************************************************')\n",
    "#         for elem in list_to_perm:\n",
    "#             # print('*************************************')\n",
    "#             # print('elem:', elem)\n",
    "#             # print('result:', result)\n",
    "#             for rest in result:\n",
    "#                 # print('************')\n",
    "#                 if elem not in rest:\n",
    "#                     result_temp.append([elem,*rest])\n",
    "#                     # print('rest:',rest)\n",
    "#             # print('result_temp:',result_temp)\n",
    "#         result = result_temp\n",
    "#         result_temp = result_temp[len_res:]\n",
    "#         result = result[len_res:]\n",
    "#         len_res = len(result)\n",
    "        \n",
    "#     return len(result),result"
   ]
  },
  {
   "cell_type": "code",
   "execution_count": 960,
   "id": "74678196-7824-4cb6-8d5d-8ccd8651f538",
   "metadata": {},
   "outputs": [],
   "source": [
    "# as above without prints\n",
    "\n",
    "def permute_alf(list_to_perm):\n",
    "    \n",
    "    start_time = time.time()    \n",
    "    \n",
    "    result = list_to_perm\n",
    "    result_temp = copy.deepcopy(result)\n",
    "    len_res = len(result)\n",
    "    for i in range(len(list_to_perm)-1):\n",
    "        for elem in list_to_perm:\n",
    "            for rest in result:\n",
    "                if elem not in rest:\n",
    "                    result_temp.append([elem,*rest])\n",
    "        result = result_temp\n",
    "        result_temp = result_temp[len_res:]\n",
    "        result = result[len_res:]\n",
    "        len_res = len(result)\n",
    "        \n",
    "    end_time = time.time()\n",
    "\n",
    "    print(f\"Elapsed time: {end_time - start_time} seconds\")        \n",
    "\n",
    "    return len(result)"
   ]
  },
  {
   "cell_type": "code",
   "execution_count": 968,
   "id": "cea41e90-579e-43a8-aa9c-784a902b7e8a",
   "metadata": {},
   "outputs": [
    {
     "name": "stdout",
     "output_type": "stream",
     "text": [
      "Elapsed time: 13.056981801986694 seconds\n"
     ]
    },
    {
     "data": {
      "text/plain": [
       "3628800"
      ]
     },
     "execution_count": 968,
     "metadata": {},
     "output_type": "execute_result"
    }
   ],
   "source": [
    "permute_alf(['A','B','C','D','E','F','G','H','I','L'])"
   ]
  }
 ],
 "metadata": {
  "kernelspec": {
   "display_name": "Py309",
   "language": "python",
   "name": "py309"
  },
  "language_info": {
   "codemirror_mode": {
    "name": "ipython",
    "version": 3
   },
   "file_extension": ".py",
   "mimetype": "text/x-python",
   "name": "python",
   "nbconvert_exporter": "python",
   "pygments_lexer": "ipython3",
   "version": "3.9.19"
  }
 },
 "nbformat": 4,
 "nbformat_minor": 5
}
