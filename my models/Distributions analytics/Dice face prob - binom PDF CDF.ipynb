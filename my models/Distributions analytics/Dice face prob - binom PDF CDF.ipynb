{
 "cells": [
  {
   "cell_type": "code",
   "execution_count": 1,
   "id": "b297c2c9-58ab-4318-a3ac-145335688129",
   "metadata": {},
   "outputs": [],
   "source": [
    "from scipy.stats import binom\n",
    "\n",
    "import numpy as np\n",
    "import random\n",
    "\n",
    "n_simuls = 10000"
   ]
  },
  {
   "cell_type": "code",
   "execution_count": 2,
   "id": "dd792118-1d8c-48a8-92a1-de02a6aa3d85",
   "metadata": {},
   "outputs": [],
   "source": [
    "# analytical probability of scoring exactly 'n_scores' times any of the 'n_faces', with 'n_rolls' trials\n",
    "\n",
    "def prob_ex_face_anal(n_faces, n_scores, n_rolls):\n",
    "    # PDF of binomial distribution\n",
    "    prob = binom.pmf(n_scores, n_rolls, 1/n_faces) # k successes, n trials, p probability\n",
    "    if n_scores == 1: # also simple calculations\n",
    "        prob_simp = (1/n_faces)*(((n_faces-1)/n_faces)**(n_rolls-1))*n_rolls\n",
    "    else:\n",
    "        prob_simp = 'not calculated'\n",
    "    return prob, prob_simp"
   ]
  },
  {
   "cell_type": "code",
   "execution_count": 3,
   "id": "f3e80cbf-85e3-492e-93d3-1856a06383d4",
   "metadata": {},
   "outputs": [
    {
     "data": {
      "text/plain": [
       "(0.021403272641837837, 'not calculated')"
      ]
     },
     "execution_count": 3,
     "metadata": {},
     "output_type": "execute_result"
    }
   ],
   "source": [
    "prob_ex_face_anal(n_faces=6, n_scores=10, n_rolls=100)"
   ]
  },
  {
   "cell_type": "code",
   "execution_count": 4,
   "id": "b2a74d9c-125e-4ff6-ac47-011ea213c775",
   "metadata": {},
   "outputs": [],
   "source": [
    "# simulated probability of scoring exactly 'n_scores' times any of the 'n_faces', with 'n_rolls' trials\n",
    "\n",
    "def prob_ex_face_sim(n_faces, n_scores, n_rolls):\n",
    "    prob = 0\n",
    "    for _ in range(n_simuls):\n",
    "        scores = {i+1:0 for i in range(n_faces)} \n",
    "        for _ in range(n_rolls):\n",
    "            face = random.randint(1, n_faces)\n",
    "            scores[face] += 1\n",
    "        prob += len([_ for (key, value) in scores.items() if value == n_scores])\n",
    "    return prob / (n_faces * n_simuls)    "
   ]
  },
  {
   "cell_type": "code",
   "execution_count": 5,
   "id": "6403e42e-bffb-4c68-9a27-2f82c70b3cf4",
   "metadata": {},
   "outputs": [
    {
     "data": {
      "text/plain": [
       "0.02175"
      ]
     },
     "execution_count": 5,
     "metadata": {},
     "output_type": "execute_result"
    }
   ],
   "source": [
    "prob_ex_face_sim(n_faces=6, n_scores=10, n_rolls=100)"
   ]
  },
  {
   "cell_type": "code",
   "execution_count": 6,
   "id": "f19d6248-2a86-46b9-a3e7-700077f14aba",
   "metadata": {},
   "outputs": [],
   "source": [
    "# analytical probability of scoring at least 'n_min_scores' times any of the 'n_faces', with 'n_rolls' trials\n",
    "\n",
    "def prob_al_face_anal(n_faces, n_min_scores, n_rolls):\n",
    "    prob = 1 - binom.cdf(n_min_scores - 1, n_rolls, 1/n_faces) # k successes, n trials, p probability\n",
    "    # Subtracting 1 from n_min_scores, the binomial CDF function calculates the probability of having up to and including k-1 successes. Subtracting 1 from the CDF, we get the probability of having at least k successes.\n",
    "    if n_min_scores == 1: # also simple calculations\n",
    "        prob_not = ((n_faces-1)/n_faces)**n_rolls\n",
    "        prob_simp = 1 - prob_not\n",
    "    else: \n",
    "        prob_simp = 'not calculated'\n",
    "    return prob, prob_simp"
   ]
  },
  {
   "cell_type": "code",
   "execution_count": 7,
   "id": "cd0c089b-2b09-4851-beb3-c0d05650dae8",
   "metadata": {},
   "outputs": [
    {
     "data": {
      "text/plain": [
       "(0.33479535243904845, 'not calculated')"
      ]
     },
     "execution_count": 7,
     "metadata": {},
     "output_type": "execute_result"
    }
   ],
   "source": [
    "prob_al_face_anal(n_faces=6, n_min_scores=7, n_rolls=34)"
   ]
  },
  {
   "cell_type": "code",
   "execution_count": 8,
   "id": "0f8d187f-0f20-488c-9fbe-0231a16fa640",
   "metadata": {},
   "outputs": [],
   "source": [
    "\n",
    "# simulated probability of scoring at least 'n_min_scores' times any of the 'n_faces', with 'n_rolls' trials\n",
    "\n",
    "def prob_al_face_sim(n_faces, n_min_scores, n_rolls):\n",
    "    prob = 0\n",
    "    for _ in range(n_simuls):\n",
    "        scores = {i+1:0 for i in range(n_faces)} \n",
    "        for _ in range(n_rolls):\n",
    "            face = random.randint(1, n_faces)\n",
    "            scores[face] += 1\n",
    "        prob += len([_ for (key, value) in scores.items() if value >= n_min_scores])\n",
    "    return prob / (n_faces * n_simuls)"
   ]
  },
  {
   "cell_type": "code",
   "execution_count": 9,
   "id": "6ef8132d-a245-45b2-b6ea-0757a22c6f9c",
   "metadata": {},
   "outputs": [
    {
     "data": {
      "text/plain": [
       "0.33676666666666666"
      ]
     },
     "execution_count": 9,
     "metadata": {},
     "output_type": "execute_result"
    }
   ],
   "source": [
    "prob_al_face_sim(n_faces=6, n_min_scores=7, n_rolls=34)"
   ]
  },
  {
   "cell_type": "code",
   "execution_count": null,
   "id": "b93b54b5-f9ef-49fd-a1ac-12b4f1438390",
   "metadata": {},
   "outputs": [],
   "source": []
  }
 ],
 "metadata": {
  "kernelspec": {
   "display_name": "Py310",
   "language": "python",
   "name": "py310"
  },
  "language_info": {
   "codemirror_mode": {
    "name": "ipython",
    "version": 3
   },
   "file_extension": ".py",
   "mimetype": "text/x-python",
   "name": "python",
   "nbconvert_exporter": "python",
   "pygments_lexer": "ipython3",
   "version": "3.10.11"
  }
 },
 "nbformat": 4,
 "nbformat_minor": 5
}
