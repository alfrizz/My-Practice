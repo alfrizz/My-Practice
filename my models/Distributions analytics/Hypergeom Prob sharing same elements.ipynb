{
 "cells": [
  {
   "cell_type": "code",
   "execution_count": null,
   "id": "dcd75606-73e6-4d40-ad96-ea7f8c94390e",
   "metadata": {},
   "outputs": [],
   "source": [
    "# On a dating site, users can select 5 out of 24 adjectives to describe themselves. A match is declared between two users if they match on at least 4 adjectives. If Alice and Bob randomly pick adjectives, what is the probability that they form a match?"
   ]
  },
  {
   "cell_type": "code",
   "execution_count": 81,
   "id": "5ec706fd-2dc1-41e5-a4a1-7d55b596ba7b",
   "metadata": {},
   "outputs": [
    {
     "data": {
      "text/plain": [
       "([21, 20, 19, 1, 3], [14, 20, 6, 11, 23])"
      ]
     },
     "execution_count": 81,
     "metadata": {},
     "output_type": "execute_result"
    }
   ],
   "source": [
    "import random\n",
    "\n",
    "adj_list = [i+1 for i in range(24)]\n",
    "\n",
    "deck_lengths = 5\n",
    "\n",
    "deck_alice = random.sample(adj_list, deck_lengths)\n",
    "deck_bob = random.sample(adj_list, deck_lengths)\n",
    "\n",
    "deck_alice, deck_bob\n",
    "\n"
   ]
  },
  {
   "cell_type": "code",
   "execution_count": 93,
   "id": "3d7db06f-22f0-40aa-a1cf-5d4bc0aa2231",
   "metadata": {},
   "outputs": [],
   "source": [
    "def check_num_matches(deck1, deck2):\n",
    "    deck_lenth = len(deck1)\n",
    "    num_matches = 0\n",
    "    matched_numb = []\n",
    "    for i in range(deck_lenth):\n",
    "        if deck1[i] in deck2:\n",
    "            num_matches += 1\n",
    "            matched_numb.append(deck1[i])\n",
    "    return num_matches, matched_numb\n",
    "        \n",
    "    "
   ]
  },
  {
   "cell_type": "code",
   "execution_count": 94,
   "id": "191a84d0-3692-4f0d-b9d8-0cac20de4aa4",
   "metadata": {},
   "outputs": [
    {
     "data": {
      "text/plain": [
       "(1, [20])"
      ]
     },
     "execution_count": 94,
     "metadata": {},
     "output_type": "execute_result"
    }
   ],
   "source": [
    "check_num_matches(deck_alice, deck_bob)"
   ]
  },
  {
   "cell_type": "code",
   "execution_count": 105,
   "id": "8dfb35c3-587f-4b9b-92b6-3ecf3c13dad7",
   "metadata": {},
   "outputs": [],
   "source": [
    "num_samples = 1000000\n",
    "tot_matches = []\n",
    "for i in range(num_samples):\n",
    "    deck_alice = random.sample(adj_list, deck_lengths)\n",
    "    deck_bob = random.sample(adj_list, deck_lengths)\n",
    "    num_matches, matched_numb = check_num_matches(deck_alice, deck_bob)\n",
    "    tot_matches.append(num_matches)"
   ]
  },
  {
   "cell_type": "code",
   "execution_count": 106,
   "id": "ec10daa7-4bd7-48b2-a93b-4795c3c626b5",
   "metadata": {},
   "outputs": [
    {
     "data": {
      "text/plain": [
       "1.042604"
      ]
     },
     "execution_count": 106,
     "metadata": {},
     "output_type": "execute_result"
    }
   ],
   "source": [
    "import numpy as np\n",
    "np.mean(tot_matches)"
   ]
  },
  {
   "cell_type": "code",
   "execution_count": 108,
   "id": "abae33ae-4bbc-4aeb-a3a5-41845adafb6b",
   "metadata": {},
   "outputs": [
    {
     "data": {
      "text/plain": [
       "(array([2.72879e+05, 0.00000e+00, 4.56273e+05, 0.00000e+00, 2.28484e+05,\n",
       "        0.00000e+00, 4.01210e+04, 0.00000e+00, 2.21500e+03, 2.80000e+01]),\n",
       " array([0. , 0.5, 1. , 1.5, 2. , 2.5, 3. , 3.5, 4. , 4.5, 5. ]),\n",
       " <BarContainer object of 10 artists>)"
      ]
     },
     "execution_count": 108,
     "metadata": {},
     "output_type": "execute_result"
    },
    {
     "data": {
      "image/png": "[encoded data removed]",
      "text/plain": [
       "<Figure size 640x480 with 1 Axes>"
      ]
     },
     "metadata": {},
     "output_type": "display_data"
    }
   ],
   "source": [
    "import matplotlib.pyplot as plt\n",
    "plt.hist(tot_matches)"
   ]
  },
  {
   "cell_type": "code",
   "execution_count": 126,
   "id": "83c79540-6fd9-49fc-aceb-39c7a6ee7ec0",
   "metadata": {},
   "outputs": [
    {
     "data": {
      "text/plain": [
       "27.287899999999997"
      ]
     },
     "execution_count": 126,
     "metadata": {},
     "output_type": "execute_result"
    }
   ],
   "source": [
    "p0 = np.sum([tot_matches[i] == 0 for i in range(len(tot_matches))]) / len(tot_matches) * 100\n",
    "p0"
   ]
  },
  {
   "cell_type": "code",
   "execution_count": 127,
   "id": "83e596e3-ca36-4186-814a-dbb75ec24d1c",
   "metadata": {},
   "outputs": [
    {
     "data": {
      "text/plain": [
       "45.6273"
      ]
     },
     "execution_count": 127,
     "metadata": {},
     "output_type": "execute_result"
    }
   ],
   "source": [
    "p1 = np.sum([tot_matches[i] == 1 for i in range(len(tot_matches))]) / len(tot_matches) * 100\n",
    "p1"
   ]
  },
  {
   "cell_type": "code",
   "execution_count": 128,
   "id": "1d6ec747-4737-4615-a497-e48472b4338c",
   "metadata": {},
   "outputs": [
    {
     "data": {
      "text/plain": [
       "22.848399999999998"
      ]
     },
     "execution_count": 128,
     "metadata": {},
     "output_type": "execute_result"
    }
   ],
   "source": [
    "p2 = np.sum([tot_matches[i] == 2 for i in range(len(tot_matches))]) / len(tot_matches) * 100\n",
    "p2"
   ]
  },
  {
   "cell_type": "code",
   "execution_count": 129,
   "id": "8b285ce4-532f-4f84-865c-75d524fad132",
   "metadata": {},
   "outputs": [
    {
     "data": {
      "text/plain": [
       "4.012099999999999"
      ]
     },
     "execution_count": 129,
     "metadata": {},
     "output_type": "execute_result"
    }
   ],
   "source": [
    "p3 = np.sum([tot_matches[i] == 3 for i in range(len(tot_matches))]) / len(tot_matches) * 100\n",
    "p3"
   ]
  },
  {
   "cell_type": "code",
   "execution_count": 130,
   "id": "8154e337-ae2e-4e28-b9ba-f439cb9b5238",
   "metadata": {},
   "outputs": [
    {
     "data": {
      "text/plain": [
       "0.2215"
      ]
     },
     "execution_count": 130,
     "metadata": {},
     "output_type": "execute_result"
    }
   ],
   "source": [
    "p4 = np.sum([tot_matches[i] == 4 for i in range(len(tot_matches))]) / len(tot_matches) * 100\n",
    "p4"
   ]
  },
  {
   "cell_type": "code",
   "execution_count": 131,
   "id": "b9a740ae-5bef-460c-9195-9a3bf6205179",
   "metadata": {},
   "outputs": [
    {
     "data": {
      "text/plain": [
       "0.0028"
      ]
     },
     "execution_count": 131,
     "metadata": {},
     "output_type": "execute_result"
    }
   ],
   "source": [
    "p5 = np.sum([tot_matches[i] == 5 for i in range(len(tot_matches))]) / len(tot_matches) * 100\n",
    "p5"
   ]
  },
  {
   "cell_type": "code",
   "execution_count": 142,
   "id": "dca2d0d6-d32d-428f-bb5f-d0c77160a034",
   "metadata": {},
   "outputs": [
    {
     "data": {
      "text/plain": [
       "(2.3527197440240918e-05, 2.3527197440240918e-05)"
      ]
     },
     "execution_count": 142,
     "metadata": {},
     "output_type": "execute_result"
    }
   ],
   "source": [
    "# binomial coefficient\n",
    "from scipy.special import binom, comb\n",
    "import math\n",
    "\n",
    "_24over5_ = math.factorial(24)/(math.factorial(5)*math.factorial(24-5))\n",
    "\n",
    "1/_24over5_, 1/binom(24,5)"
   ]
  },
  {
   "cell_type": "code",
   "execution_count": 138,
   "id": "7932ad3d-487f-4fbd-a338-525c993a287e",
   "metadata": {},
   "outputs": [
    {
     "data": {
      "text/plain": [
       "100.0"
      ]
     },
     "execution_count": 138,
     "metadata": {},
     "output_type": "execute_result"
    }
   ],
   "source": [
    "p0+p1+p2+p3+p4+p5"
   ]
  },
  {
   "cell_type": "code",
   "execution_count": null,
   "id": "063d6baf-e61b-42ab-bd23-65870ecddc93",
   "metadata": {},
   "outputs": [],
   "source": [
    "# using the hypergeometric distribution\n",
    "\n",
    "P(X=k)= binom(K,k)*binom(N−K,n−k) / binom(N,n)\n",
    "\n",
    "# The population size (N) is 24 (the total number of objects).\n",
    "# The number of successes in the population (K) is 5 (the objects you picked in the first draw).\n",
    "# The number of trials (n) is 5 (the objects you pick in the second draw).\n",
    "# The number of successes (k) is 4 (the objects you want to match in the second draw)."
   ]
  },
  {
   "cell_type": "code",
   "execution_count": 161,
   "id": "d8a47699-6fa1-434e-ad0b-963f5b9e3843",
   "metadata": {},
   "outputs": [
    {
     "data": {
      "text/plain": [
       "0.002352719744024092"
      ]
     },
     "execution_count": 161,
     "metadata": {},
     "output_type": "execute_result"
    }
   ],
   "source": [
    "p_hg_5 = binom(5,5)*binom(24-5,5-5) / binom(24,5) * 100\n",
    "p_hg_5"
   ]
  },
  {
   "cell_type": "code",
   "execution_count": 162,
   "id": "ea48dbba-db6b-4f24-a3ca-9baf1fd0cd6b",
   "metadata": {},
   "outputs": [
    {
     "data": {
      "text/plain": [
       "0.22350837568228873"
      ]
     },
     "execution_count": 162,
     "metadata": {},
     "output_type": "execute_result"
    }
   ],
   "source": [
    "p_hg_4 = binom(5,4)*binom(24-5,5-4) / binom(24,5) * 100\n",
    "p_hg_4"
   ]
  },
  {
   "cell_type": "code",
   "execution_count": 163,
   "id": "f0455f17-42b0-491b-b406-1a12e5ad7c6b",
   "metadata": {},
   "outputs": [
    {
     "data": {
      "text/plain": [
       "4.023150762281197"
      ]
     },
     "execution_count": 163,
     "metadata": {},
     "output_type": "execute_result"
    }
   ],
   "source": [
    "p_hg_3 = binom(5,3)*binom(24-5,5-3) / binom(24,5) * 100\n",
    "p_hg_3"
   ]
  },
  {
   "cell_type": "code",
   "execution_count": 164,
   "id": "c6f818ce-0231-4d97-b261-0bad753c4240",
   "metadata": {},
   "outputs": [
    {
     "data": {
      "text/plain": [
       "22.79785431959345"
      ]
     },
     "execution_count": 164,
     "metadata": {},
     "output_type": "execute_result"
    }
   ],
   "source": [
    "p_hg_2 = binom(5,2)*binom(24-5,5-2) / binom(24,5) * 100\n",
    "p_hg_2"
   ]
  },
  {
   "cell_type": "code",
   "execution_count": 165,
   "id": "00093aa0-fd93-46d3-a13f-6f446a9f339b",
   "metadata": {},
   "outputs": [
    {
     "data": {
      "text/plain": [
       "45.5957086391869"
      ]
     },
     "execution_count": 165,
     "metadata": {},
     "output_type": "execute_result"
    }
   ],
   "source": [
    "p_hg_1 = binom(5,1)*binom(24-5,5-1) / binom(24,5) * 100\n",
    "p_hg_1"
   ]
  },
  {
   "cell_type": "code",
   "execution_count": 166,
   "id": "c15e30c6-d5db-409d-8b22-5747197a1bbf",
   "metadata": {},
   "outputs": [
    {
     "data": {
      "text/plain": [
       "27.35742518351214"
      ]
     },
     "execution_count": 166,
     "metadata": {},
     "output_type": "execute_result"
    }
   ],
   "source": [
    "p_hg_0 = binom(5,0)*binom(24-5,5-0) / binom(24,5) * 100\n",
    "p_hg_0"
   ]
  },
  {
   "cell_type": "code",
   "execution_count": 167,
   "id": "d2eb6258-7237-40df-aace-e465d4e202e7",
   "metadata": {},
   "outputs": [
    {
     "data": {
      "text/plain": [
       "100.0"
      ]
     },
     "execution_count": 167,
     "metadata": {},
     "output_type": "execute_result"
    }
   ],
   "source": [
    "p_hg_0+p_hg_1+p_hg_2+p_hg_3+p_hg_4+p_hg_5"
   ]
  }
 ],
 "metadata": {
  "kernelspec": {
   "display_name": "Py310",
   "language": "python",
   "name": "py310"
  },
  "language_info": {
   "codemirror_mode": {
    "name": "ipython",
    "version": 3
   },
   "file_extension": ".py",
   "mimetype": "text/x-python",
   "name": "python",
   "nbconvert_exporter": "python",
   "pygments_lexer": "ipython3",
   "version": "3.10.11"
  }
 },
 "nbformat": 4,
 "nbformat_minor": 5
}
