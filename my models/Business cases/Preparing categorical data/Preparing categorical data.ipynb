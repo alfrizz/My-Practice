{
 "cells": [
  {
   "cell_type": "markdown",
   "id": "a09e6d54-bf3f-4632-b299-bd49d5c80d5f",
   "metadata": {},
   "source": [
    "![Two data scientists working on a dashboard.](hr-image-small.png)\n",
    "\n",
    "A common problem when creating models to generate business value from data is that the datasets can be so large that it can take days for the model to generate predictions. Ensuring that your dataset is stored as efficiently as possible is crucial for allowing these models to run on a more reasonable timescale without having to reduce the size of the dataset.\n",
    "\n",
    "You've been hired by a major online data science training provider called *Training Data Ltd.* to clean up one of their largest customer datasets. This dataset will eventually be used to predict whether their students are looking for a new job or not, information that they will then use to direct them to prospective recruiters.\n",
    "\n",
    "You've been given access to `customer_train.csv`, which is a subset of their entire customer dataset, so you can create a proof-of-concept of a much more efficient storage solution. The dataset contains anonymized student information, and whether they were looking for a new job or not during training:\n",
    "\n",
    "| Column                   | Description                                                                      |\n",
    "|------------------------- |--------------------------------------------------------------------------------- |\n",
    "| `student_id`             | A unique ID for each student.                                                    |\n",
    "| `city`                   | A code for the city the student lives in.                                        |\n",
    "| `city_development_index` | A scaled development index for the city.                                         |\n",
    "| `gender`                 | The student's gender.                                                            |\n",
    "| `relevant_experience`    | An indicator of the student's work relevant experience.                          |\n",
    "| `enrolled_university`    | The type of university course enrolled in (if any).                              |\n",
    "| `education_level`        | The student's education level.                                                   |\n",
    "| `major_discipline`       | The educational discipline of the student.                                       |\n",
    "| `experience`             | The student's total work experience (in years).                                  |\n",
    "| `company_size`           | The number of employees at the student's current employer.                       |\n",
    "| `company_type`           | The type of company employing the student.                                       |\n",
    "| `last_new_job`           | The number of years between the student's current and previous jobs.             |\n",
    "| `training_hours`         | The number of hours of training completed.                                       |\n",
    "| `job_change`             | An indicator of whether the student is looking for a new job (`1`) or not (`0`). |"
   ]
  },
  {
   "cell_type": "code",
   "execution_count": 1,
   "id": "eda9c1b2-4e9a-41ac-8da6-d4c98775f986",
   "metadata": {
    "executionCancelledAt": null,
    "executionTime": 64,
    "lastExecutedAt": 1723052331167,
    "lastExecutedByKernel": "c43de3fb-9124-47cd-8f12-fad096d45c52",
    "lastScheduledRunId": null,
    "lastSuccessfullyExecutedCode": "# Import necessary libraries\nimport pandas as pd\n\n# Load the dataset\nds_jobs = pd.read_csv(\"customer_train.csv\")\n\n# View the dataset\nds_jobs.head()",
    "outputsMetadata": {
     "0": {
      "height": 209,
      "type": "dataFrame"
     }
    }
   },
   "outputs": [
    {
     "data": {
      "text/html": [
       "<div>\n",
       "<style scoped>\n",
       "    .dataframe tbody tr th:only-of-type {\n",
       "        vertical-align: middle;\n",
       "    }\n",
       "\n",
       "    .dataframe tbody tr th {\n",
       "        vertical-align: top;\n",
       "    }\n",
       "\n",
       "    .dataframe thead th {\n",
       "        text-align: right;\n",
       "    }\n",
       "</style>\n",
       "<table border=\"1\" class=\"dataframe\">\n",
       "  <thead>\n",
       "    <tr style=\"text-align: right;\">\n",
       "      <th></th>\n",
       "      <th>student_id</th>\n",
       "      <th>city</th>\n",
       "      <th>city_development_index</th>\n",
       "      <th>gender</th>\n",
       "      <th>relevant_experience</th>\n",
       "      <th>enrolled_university</th>\n",
       "      <th>education_level</th>\n",
       "      <th>major_discipline</th>\n",
       "      <th>experience</th>\n",
       "      <th>company_size</th>\n",
       "      <th>company_type</th>\n",
       "      <th>last_new_job</th>\n",
       "      <th>training_hours</th>\n",
       "      <th>job_change</th>\n",
       "    </tr>\n",
       "  </thead>\n",
       "  <tbody>\n",
       "    <tr>\n",
       "      <th>0</th>\n",
       "      <td>8949</td>\n",
       "      <td>city_103</td>\n",
       "      <td>0.920</td>\n",
       "      <td>Male</td>\n",
       "      <td>Has relevant experience</td>\n",
       "      <td>no_enrollment</td>\n",
       "      <td>Graduate</td>\n",
       "      <td>STEM</td>\n",
       "      <td>&gt;20</td>\n",
       "      <td>NaN</td>\n",
       "      <td>NaN</td>\n",
       "      <td>1</td>\n",
       "      <td>36</td>\n",
       "      <td>1.0</td>\n",
       "    </tr>\n",
       "    <tr>\n",
       "      <th>1</th>\n",
       "      <td>29725</td>\n",
       "      <td>city_40</td>\n",
       "      <td>0.776</td>\n",
       "      <td>Male</td>\n",
       "      <td>No relevant experience</td>\n",
       "      <td>no_enrollment</td>\n",
       "      <td>Graduate</td>\n",
       "      <td>STEM</td>\n",
       "      <td>15</td>\n",
       "      <td>50-99</td>\n",
       "      <td>Pvt Ltd</td>\n",
       "      <td>&gt;4</td>\n",
       "      <td>47</td>\n",
       "      <td>0.0</td>\n",
       "    </tr>\n",
       "    <tr>\n",
       "      <th>2</th>\n",
       "      <td>11561</td>\n",
       "      <td>city_21</td>\n",
       "      <td>0.624</td>\n",
       "      <td>NaN</td>\n",
       "      <td>No relevant experience</td>\n",
       "      <td>Full time course</td>\n",
       "      <td>Graduate</td>\n",
       "      <td>STEM</td>\n",
       "      <td>5</td>\n",
       "      <td>NaN</td>\n",
       "      <td>NaN</td>\n",
       "      <td>never</td>\n",
       "      <td>83</td>\n",
       "      <td>0.0</td>\n",
       "    </tr>\n",
       "    <tr>\n",
       "      <th>3</th>\n",
       "      <td>33241</td>\n",
       "      <td>city_115</td>\n",
       "      <td>0.789</td>\n",
       "      <td>NaN</td>\n",
       "      <td>No relevant experience</td>\n",
       "      <td>NaN</td>\n",
       "      <td>Graduate</td>\n",
       "      <td>Business Degree</td>\n",
       "      <td>&lt;1</td>\n",
       "      <td>NaN</td>\n",
       "      <td>Pvt Ltd</td>\n",
       "      <td>never</td>\n",
       "      <td>52</td>\n",
       "      <td>1.0</td>\n",
       "    </tr>\n",
       "    <tr>\n",
       "      <th>4</th>\n",
       "      <td>666</td>\n",
       "      <td>city_162</td>\n",
       "      <td>0.767</td>\n",
       "      <td>Male</td>\n",
       "      <td>Has relevant experience</td>\n",
       "      <td>no_enrollment</td>\n",
       "      <td>Masters</td>\n",
       "      <td>STEM</td>\n",
       "      <td>&gt;20</td>\n",
       "      <td>50-99</td>\n",
       "      <td>Funded Startup</td>\n",
       "      <td>4</td>\n",
       "      <td>8</td>\n",
       "      <td>0.0</td>\n",
       "    </tr>\n",
       "  </tbody>\n",
       "</table>\n",
       "</div>"
      ],
      "text/plain": [
       "   student_id      city  city_development_index gender  \\\n",
       "0        8949  city_103                   0.920   Male   \n",
       "1       29725   city_40                   0.776   Male   \n",
       "2       11561   city_21                   0.624    NaN   \n",
       "3       33241  city_115                   0.789    NaN   \n",
       "4         666  city_162                   0.767   Male   \n",
       "\n",
       "       relevant_experience enrolled_university education_level  \\\n",
       "0  Has relevant experience       no_enrollment        Graduate   \n",
       "1   No relevant experience       no_enrollment        Graduate   \n",
       "2   No relevant experience    Full time course        Graduate   \n",
       "3   No relevant experience                 NaN        Graduate   \n",
       "4  Has relevant experience       no_enrollment         Masters   \n",
       "\n",
       "  major_discipline experience company_size    company_type last_new_job  \\\n",
       "0             STEM        >20          NaN             NaN            1   \n",
       "1             STEM         15        50-99         Pvt Ltd           >4   \n",
       "2             STEM          5          NaN             NaN        never   \n",
       "3  Business Degree         <1          NaN         Pvt Ltd        never   \n",
       "4             STEM        >20        50-99  Funded Startup            4   \n",
       "\n",
       "   training_hours  job_change  \n",
       "0              36         1.0  \n",
       "1              47         0.0  \n",
       "2              83         0.0  \n",
       "3              52         1.0  \n",
       "4               8         0.0  "
      ]
     },
     "execution_count": 1,
     "metadata": {},
     "output_type": "execute_result"
    }
   ],
   "source": [
    "# Import necessary libraries\n",
    "import pandas as pd\n",
    "\n",
    "# Load the dataset\n",
    "ds_jobs = pd.read_csv(\"customer_train.csv\")\n",
    "\n",
    "# View the dataset\n",
    "ds_jobs.head()"
   ]
  },
  {
   "cell_type": "code",
   "execution_count": 2,
   "id": "13757e62-aca2-48f4-b569-a838af11bdd5",
   "metadata": {
    "executionCancelledAt": null,
    "executionTime": 46,
    "lastExecutedAt": 1723052331213,
    "lastExecutedByKernel": "c43de3fb-9124-47cd-8f12-fad096d45c52",
    "lastScheduledRunId": null,
    "lastSuccessfullyExecutedCode": "# Create a copy of ds_jobs for transforming\nds_jobs_transformed = ds_jobs.copy()\n\n# Start coding here. Use as many cells as you like!"
   },
   "outputs": [],
   "source": [
    "# Create a copy of ds_jobs for transforming\n",
    "ds_jobs_transformed = ds_jobs.copy()\n",
    "\n",
    "# Start coding here. Use as many cells as you like!"
   ]
  },
  {
   "cell_type": "code",
   "execution_count": 3,
   "id": "1335863a-1b91-40aa-b1c9-b8f5c7d337cb",
   "metadata": {
    "executionCancelledAt": null,
    "executionTime": 52,
    "lastExecutedAt": 1723052331266,
    "lastExecutedByKernel": "c43de3fb-9124-47cd-8f12-fad096d45c52",
    "lastScheduledRunId": null,
    "lastSuccessfullyExecutedCode": "ds_jobs.memory_usage()",
    "outputsMetadata": {
     "0": {
      "height": 318,
      "type": "dataFrame"
     }
    }
   },
   "outputs": [
    {
     "data": {
      "text/plain": [
       "Index                        128\n",
       "student_id                153264\n",
       "city                      153264\n",
       "city_development_index    153264\n",
       "gender                    153264\n",
       "relevant_experience       153264\n",
       "enrolled_university       153264\n",
       "education_level           153264\n",
       "major_discipline          153264\n",
       "experience                153264\n",
       "company_size              153264\n",
       "company_type              153264\n",
       "last_new_job              153264\n",
       "training_hours            153264\n",
       "job_change                153264\n",
       "dtype: int64"
      ]
     },
     "execution_count": 3,
     "metadata": {},
     "output_type": "execute_result"
    }
   ],
   "source": [
    "ds_jobs.memory_usage()"
   ]
  },
  {
   "cell_type": "code",
   "execution_count": 4,
   "id": "0f6d0a78-6d2f-4dfd-a375-ec93b98bec88",
   "metadata": {
    "executionCancelledAt": null,
    "executionTime": 69,
    "lastExecutedAt": 1723052331335,
    "lastExecutedByKernel": "c43de3fb-9124-47cd-8f12-fad096d45c52",
    "lastScheduledRunId": null,
    "lastSuccessfullyExecutedCode": "ds_jobs.info()",
    "outputsMetadata": {
     "0": {
      "height": 458,
      "type": "stream"
     }
    }
   },
   "outputs": [
    {
     "name": "stdout",
     "output_type": "stream",
     "text": [
      "<class 'pandas.core.frame.DataFrame'>\n",
      "RangeIndex: 19158 entries, 0 to 19157\n",
      "Data columns (total 14 columns):\n",
      " #   Column                  Non-Null Count  Dtype  \n",
      "---  ------                  --------------  -----  \n",
      " 0   student_id              19158 non-null  int64  \n",
      " 1   city                    19158 non-null  object \n",
      " 2   city_development_index  19158 non-null  float64\n",
      " 3   gender                  14650 non-null  object \n",
      " 4   relevant_experience     19158 non-null  object \n",
      " 5   enrolled_university     18772 non-null  object \n",
      " 6   education_level         18698 non-null  object \n",
      " 7   major_discipline        16345 non-null  object \n",
      " 8   experience              19093 non-null  object \n",
      " 9   company_size            13220 non-null  object \n",
      " 10  company_type            13018 non-null  object \n",
      " 11  last_new_job            18735 non-null  object \n",
      " 12  training_hours          19158 non-null  int64  \n",
      " 13  job_change              19158 non-null  float64\n",
      "dtypes: float64(2), int64(2), object(10)\n",
      "memory usage: 2.0+ MB\n"
     ]
    }
   ],
   "source": [
    "ds_jobs.info()"
   ]
  },
  {
   "cell_type": "code",
   "execution_count": 5,
   "id": "b5825be9-8517-4b77-b10f-31fbc868394b",
   "metadata": {
    "executionCancelledAt": null,
    "executionTime": 50,
    "lastExecutedAt": 1723052331386,
    "lastExecutedByKernel": "c43de3fb-9124-47cd-8f12-fad096d45c52",
    "lastScheduledRunId": null,
    "lastSuccessfullyExecutedCode": "# type check\n\nnew_types = ['bool','int32','float16','category']\n\nfor field in ds_jobs_transformed:\n    if ds_jobs_transformed[field].dtype not in new_types:\n        print(ds_jobs_transformed[field].value_counts())\n        print(field, 'Dtype =', ds_jobs[field].dtype)\n        print('-----------------------')",
    "outputsMetadata": {
     "0": {
      "height": 602,
      "type": "stream"
     }
    }
   },
   "outputs": [
    {
     "name": "stdout",
     "output_type": "stream",
     "text": [
      "8949     1\n",
      "10660    1\n",
      "30726    1\n",
      "18507    1\n",
      "31273    1\n",
      "        ..\n",
      "11547    1\n",
      "32067    1\n",
      "14356    1\n",
      "18051    1\n",
      "23834    1\n",
      "Name: student_id, Length: 19158, dtype: int64\n",
      "student_id Dtype = int64\n",
      "-----------------------\n",
      "city_103    4355\n",
      "city_21     2702\n",
      "city_16     1533\n",
      "city_114    1336\n",
      "city_160     845\n",
      "            ... \n",
      "city_129       3\n",
      "city_111       3\n",
      "city_121       3\n",
      "city_140       1\n",
      "city_171       1\n",
      "Name: city, Length: 123, dtype: int64\n",
      "city Dtype = object\n",
      "-----------------------\n",
      "0.920    5200\n",
      "0.624    2702\n",
      "0.910    1533\n",
      "0.926    1336\n",
      "0.698     683\n",
      "         ... \n",
      "0.649       4\n",
      "0.807       4\n",
      "0.781       3\n",
      "0.625       3\n",
      "0.664       1\n",
      "Name: city_development_index, Length: 93, dtype: int64\n",
      "city_development_index Dtype = float64\n",
      "-----------------------\n",
      "Male      13221\n",
      "Female     1238\n",
      "Other       191\n",
      "Name: gender, dtype: int64\n",
      "gender Dtype = object\n",
      "-----------------------\n",
      "Has relevant experience    13792\n",
      "No relevant experience      5366\n",
      "Name: relevant_experience, dtype: int64\n",
      "relevant_experience Dtype = object\n",
      "-----------------------\n",
      "no_enrollment       13817\n",
      "Full time course     3757\n",
      "Part time course     1198\n",
      "Name: enrolled_university, dtype: int64\n",
      "enrolled_university Dtype = object\n",
      "-----------------------\n",
      "Graduate          11598\n",
      "Masters            4361\n",
      "High School        2017\n",
      "Phd                 414\n",
      "Primary School      308\n",
      "Name: education_level, dtype: int64\n",
      "education_level Dtype = object\n",
      "-----------------------\n",
      "STEM               14492\n",
      "Humanities           669\n",
      "Other                381\n",
      "Business Degree      327\n",
      "Arts                 253\n",
      "No Major             223\n",
      "Name: major_discipline, dtype: int64\n",
      "major_discipline Dtype = object\n",
      "-----------------------\n",
      ">20    3286\n",
      "5      1430\n",
      "4      1403\n",
      "3      1354\n",
      "6      1216\n",
      "2      1127\n",
      "7      1028\n",
      "10      985\n",
      "9       980\n",
      "8       802\n",
      "15      686\n",
      "11      664\n",
      "14      586\n",
      "1       549\n",
      "<1      522\n",
      "16      508\n",
      "12      494\n",
      "13      399\n",
      "17      342\n",
      "19      304\n",
      "18      280\n",
      "20      148\n",
      "Name: experience, dtype: int64\n",
      "experience Dtype = object\n",
      "-----------------------\n",
      "50-99        3083\n",
      "100-499      2571\n",
      "10000+       2019\n",
      "10-49        1471\n",
      "1000-4999    1328\n",
      "<10          1308\n",
      "500-999       877\n",
      "5000-9999     563\n",
      "Name: company_size, dtype: int64\n",
      "company_size Dtype = object\n",
      "-----------------------\n",
      "Pvt Ltd                9817\n",
      "Funded Startup         1001\n",
      "Public Sector           955\n",
      "Early Stage Startup     603\n",
      "NGO                     521\n",
      "Other                   121\n",
      "Name: company_type, dtype: int64\n",
      "company_type Dtype = object\n",
      "-----------------------\n",
      "1        8040\n",
      ">4       3290\n",
      "2        2900\n",
      "never    2452\n",
      "4        1029\n",
      "3        1024\n",
      "Name: last_new_job, dtype: int64\n",
      "last_new_job Dtype = object\n",
      "-----------------------\n",
      "28     329\n",
      "12     292\n",
      "18     291\n",
      "22     282\n",
      "50     279\n",
      "      ... \n",
      "266      6\n",
      "234      5\n",
      "272      5\n",
      "286      5\n",
      "238      4\n",
      "Name: training_hours, Length: 241, dtype: int64\n",
      "training_hours Dtype = int64\n",
      "-----------------------\n",
      "0.0    14381\n",
      "1.0     4777\n",
      "Name: job_change, dtype: int64\n",
      "job_change Dtype = float64\n",
      "-----------------------\n"
     ]
    }
   ],
   "source": [
    "# type check\n",
    "\n",
    "new_types = ['bool','int32','float16','category']\n",
    "\n",
    "for field in ds_jobs_transformed:\n",
    "    if ds_jobs_transformed[field].dtype not in new_types:\n",
    "        print(ds_jobs_transformed[field].value_counts())\n",
    "        print(field, 'Dtype =', ds_jobs[field].dtype)\n",
    "        print('-----------------------')"
   ]
  },
  {
   "cell_type": "code",
   "execution_count": 6,
   "id": "9c6f9cdd-44ed-4a71-bb4f-03f2c3bd0e34",
   "metadata": {
    "executionCancelledAt": null,
    "executionTime": 58,
    "lastExecutedAt": 1723052331444,
    "lastExecutedByKernel": "c43de3fb-9124-47cd-8f12-fad096d45c52",
    "lastScheduledRunId": null,
    "lastSuccessfullyExecutedCode": "# decimal check\n\nfor field in ds_jobs:\n    if ds_jobs[field].dtype not in ['object']:\n        print(field,(ds_jobs[field] % 1 != 0).any())\n        if ((ds_jobs[field] % 1 != 0).any()):\n            print(ds_jobs[field])",
    "outputsMetadata": {
     "0": {
      "height": 353,
      "type": "stream"
     }
    }
   },
   "outputs": [
    {
     "name": "stdout",
     "output_type": "stream",
     "text": [
      "student_id False\n",
      "city_development_index True\n",
      "0        0.920\n",
      "1        0.776\n",
      "2        0.624\n",
      "3        0.789\n",
      "4        0.767\n",
      "         ...  \n",
      "19153    0.878\n",
      "19154    0.920\n",
      "19155    0.920\n",
      "19156    0.802\n",
      "19157    0.855\n",
      "Name: city_development_index, Length: 19158, dtype: float64\n",
      "training_hours False\n",
      "job_change False\n"
     ]
    }
   ],
   "source": [
    "# decimal check\n",
    "\n",
    "for field in ds_jobs:\n",
    "    if ds_jobs[field].dtype not in ['object']:\n",
    "        print(field,(ds_jobs[field] % 1 != 0).any())\n",
    "        if ((ds_jobs[field] % 1 != 0).any()):\n",
    "            print(ds_jobs[field])"
   ]
  },
  {
   "cell_type": "code",
   "execution_count": 7,
   "id": "d66ac207-d857-4ab8-baa6-40fb6b131228",
   "metadata": {
    "executionCancelledAt": null,
    "executionTime": 50,
    "lastExecutedAt": 1723052331494,
    "lastExecutedByKernel": "c43de3fb-9124-47cd-8f12-fad096d45c52",
    "lastScheduledRunId": null,
    "lastSuccessfullyExecutedCode": "# Create a mapping dictionary of columns containing two-factor categories to convert to Booleans\n\ntwo_factor_cats = {\n    'relevant_experience': {'No relevant experience': False, 'Has relevant experience': True},\n    'job_change': {0.0: False, 1.0: True}\n}\n\ntwo_factors_columns = ['job_change', 'relevant_experience']\n\nfor col in two_factors_columns:\n    ds_jobs_transformed[col] = ds_jobs_transformed[col].map(two_factor_cats[col])\n"
   },
   "outputs": [],
   "source": [
    "# Create a mapping dictionary of columns containing two-factor categories to convert to Booleans\n",
    "\n",
    "two_factor_cats = {\n",
    "    'relevant_experience': {'No relevant experience': False, 'Has relevant experience': True},\n",
    "    'job_change': {0.0: False, 1.0: True}\n",
    "}\n",
    "\n",
    "two_factors_columns = ['job_change', 'relevant_experience']\n",
    "\n",
    "for col in two_factors_columns:\n",
    "    ds_jobs_transformed[col] = ds_jobs_transformed[col].map(two_factor_cats[col])\n"
   ]
  },
  {
   "cell_type": "code",
   "execution_count": 8,
   "id": "3952cbb4-2c98-4e8b-92ce-974011855618",
   "metadata": {
    "executionCancelledAt": null,
    "executionTime": 52,
    "lastExecutedAt": 1723052331546,
    "lastExecutedByKernel": "c43de3fb-9124-47cd-8f12-fad096d45c52",
    "lastScheduledRunId": null,
    "lastSuccessfullyExecutedCode": "# Columns containing integers only must be stored as 32-bit integers (int32).\n\nbit_32_integers = ['student_id','training_hours']\n\nds_jobs_transformed[bit_32_integers] = ds_jobs_transformed[bit_32_integers].astype('int32')"
   },
   "outputs": [],
   "source": [
    "# Columns containing integers only must be stored as 32-bit integers (int32).\n",
    "\n",
    "bit_32_integers = ['student_id','training_hours']\n",
    "\n",
    "ds_jobs_transformed[bit_32_integers] = ds_jobs_transformed[bit_32_integers].astype('int32')"
   ]
  },
  {
   "cell_type": "code",
   "execution_count": 9,
   "id": "12b2e0a5-190d-4b9e-b9e6-668e0f528916",
   "metadata": {
    "executionCancelledAt": null,
    "executionTime": 52,
    "lastExecutedAt": 1723052331598,
    "lastExecutedByKernel": "c43de3fb-9124-47cd-8f12-fad096d45c52",
    "lastScheduledRunId": null,
    "lastSuccessfullyExecutedCode": "# Columns containing floats must be stored as 16-bit floats (float16).\n\nfloat_16_integers = ['city_development_index']\n\nds_jobs_transformed[float_16_integers] = ds_jobs_transformed[float_16_integers].astype('float16')"
   },
   "outputs": [],
   "source": [
    "# Columns containing floats must be stored as 16-bit floats (float16).\n",
    "\n",
    "float_16_integers = ['city_development_index']\n",
    "\n",
    "ds_jobs_transformed[float_16_integers] = ds_jobs_transformed[float_16_integers].astype('float16')"
   ]
  },
  {
   "cell_type": "code",
   "execution_count": 10,
   "id": "c9973df7-d142-4f81-82b3-eb9392ad59b5",
   "metadata": {
    "executionCancelledAt": null,
    "executionTime": 48,
    "lastExecutedAt": 1723052331646,
    "lastExecutedByKernel": "c43de3fb-9124-47cd-8f12-fad096d45c52",
    "lastScheduledRunId": null,
    "lastSuccessfullyExecutedCode": "# Columns containing nominal categorical (not ordinal) data must be stored as the category data type.\n\ncat_non_ordinal = ['company_type','major_discipline','gender','city']\n\nds_jobs_transformed[cat_non_ordinal] = ds_jobs_transformed[cat_non_ordinal].astype('category')"
   },
   "outputs": [],
   "source": [
    "# Columns containing nominal categorical (not ordinal) data must be stored as the category data type.\n",
    "\n",
    "cat_non_ordinal = ['company_type','major_discipline','gender','city']\n",
    "\n",
    "ds_jobs_transformed[cat_non_ordinal] = ds_jobs_transformed[cat_non_ordinal].astype('category')"
   ]
  },
  {
   "cell_type": "code",
   "execution_count": 11,
   "id": "43eb18ce-aaf3-49b3-a29c-f6354b824dd1",
   "metadata": {
    "executionCancelledAt": null,
    "executionTime": 56,
    "lastExecutedAt": 1723052331702,
    "lastExecutedByKernel": "c43de3fb-9124-47cd-8f12-fad096d45c52",
    "lastScheduledRunId": null,
    "lastSuccessfullyExecutedCode": "# Columns containing ordinal categorical data must be stored as ordered categories, and not mapped to numerical values, with an order that reflects the natural order of the column.\n\n# enrolled_university\nenrolled_university_order = ['no_enrollment', 'Part time course', 'Full time course']\n\nds_jobs_transformed['enrolled_university'] = pd.Categorical(ds_jobs_transformed['enrolled_university'], categories=enrolled_university_order, ordered=True)\n\n# education_level\neducation_level_order = ['Primary School', 'High School', 'Graduate', 'Masters', 'Phd']\n\nds_jobs_transformed['education_level'] = pd.Categorical(ds_jobs_transformed['education_level'], categories=education_level_order, ordered=True)\n\n# last_new_job\nlast_new_job_order = ['never', '1', '2', '3', '4', '>4']\n\nds_jobs_transformed['last_new_job'] = pd.Categorical(ds_jobs_transformed['last_new_job'], categories=last_new_job_order, ordered=True)\n\n# company_size\ncompany_size_order = ['<10', '10-49', '50-99', '100-499', '500-999', '1000-4999', '5000-9999', '10000']\n\nds_jobs_transformed['company_size'] = pd.Categorical(ds_jobs_transformed['company_size'], categories=company_size_order, ordered=True)\n"
   },
   "outputs": [],
   "source": [
    "# Columns containing ordinal categorical data must be stored as ordered categories, and not mapped to numerical values, with an order that reflects the natural order of the column.\n",
    "\n",
    "# enrolled_university\n",
    "enrolled_university_order = ['no_enrollment', 'Part time course', 'Full time course']\n",
    "\n",
    "ds_jobs_transformed['enrolled_university'] = pd.Categorical(ds_jobs_transformed['enrolled_university'], categories=enrolled_university_order, ordered=True)\n",
    "\n",
    "# education_level\n",
    "education_level_order = ['Primary School', 'High School', 'Graduate', 'Masters', 'Phd']\n",
    "\n",
    "ds_jobs_transformed['education_level'] = pd.Categorical(ds_jobs_transformed['education_level'], categories=education_level_order, ordered=True)\n",
    "\n",
    "# last_new_job\n",
    "last_new_job_order = ['never', '1', '2', '3', '4', '>4']\n",
    "\n",
    "ds_jobs_transformed['last_new_job'] = pd.Categorical(ds_jobs_transformed['last_new_job'], categories=last_new_job_order, ordered=True)\n",
    "\n",
    "# company_size\n",
    "company_size_order = ['<10', '10-49', '50-99', '100-499', '500-999', '1000-4999', '5000-9999', '10000']\n",
    "\n",
    "ds_jobs_transformed['company_size'] = pd.Categorical(ds_jobs_transformed['company_size'], categories=company_size_order, ordered=True)\n"
   ]
  },
  {
   "cell_type": "code",
   "execution_count": 12,
   "id": "1e2fdf50-b320-46a6-ab48-f56502790ef8",
   "metadata": {
    "executionCancelledAt": null,
    "executionTime": 52,
    "lastExecutedAt": 1723052331754,
    "lastExecutedByKernel": "c43de3fb-9124-47cd-8f12-fad096d45c52",
    "lastScheduledRunId": null,
    "lastSuccessfullyExecutedCode": "# field experience: creating bins and transform to categorical\n\n# Convert the 'experience' column to numeric, handling special cases\nds_jobs_transformed['experience'] = ds_jobs_transformed['experience'].replace({'<1': 0, '>20': 99})\n\nds_jobs_transformed['experience'] = \\\npd.to_numeric(ds_jobs_transformed['experience'], errors='coerce').fillna(99).astype(int)\n          \n# Define the bins\nbins = [-1, 1, 4, 9, 14, 19, 999]\nlabels = ['<1', '1-4', '5-9', '10-14', '15-19', '>19']\n\n# Create bins and convert to categorical\nds_jobs_transformed['experience'] = pd.cut(ds_jobs_transformed['experience'], bins=bins, labels=labels, right=False)\n",
    "outputsMetadata": {
     "0": {
      "height": 318,
      "type": "dataFrame"
     }
    }
   },
   "outputs": [],
   "source": [
    "# field experience: creating bins and transform to categorical\n",
    "\n",
    "# Convert the 'experience' column to numeric, handling special cases\n",
    "ds_jobs_transformed['experience'] = ds_jobs_transformed['experience'].replace({'<1': 0, '>20': 99})\n",
    "\n",
    "ds_jobs_transformed['experience'] = \\\n",
    "pd.to_numeric(ds_jobs_transformed['experience'], errors='coerce').fillna(99).astype(int)\n",
    "          \n",
    "# Define the bins\n",
    "bins = [-1, 1, 4, 9, 14, 19, 999]\n",
    "labels = ['<1', '1-4', '5-9', '10-14', '15-19', '>19']\n",
    "\n",
    "# Create bins and convert to categorical\n",
    "ds_jobs_transformed['experience'] = pd.cut(ds_jobs_transformed['experience'], bins=bins, labels=labels, right=False)\n"
   ]
  },
  {
   "cell_type": "code",
   "execution_count": 13,
   "id": "dfdef374-c331-4c70-94ed-e3c0b78d8448",
   "metadata": {
    "executionCancelledAt": null,
    "executionTime": 48,
    "lastExecutedAt": 1723052331802,
    "lastExecutedByKernel": "c43de3fb-9124-47cd-8f12-fad096d45c52",
    "lastScheduledRunId": null,
    "lastSuccessfullyExecutedCode": "ds_jobs_transformed.info()",
    "outputsMetadata": {
     "0": {
      "height": 458,
      "type": "stream"
     }
    }
   },
   "outputs": [
    {
     "name": "stdout",
     "output_type": "stream",
     "text": [
      "<class 'pandas.core.frame.DataFrame'>\n",
      "RangeIndex: 19158 entries, 0 to 19157\n",
      "Data columns (total 14 columns):\n",
      " #   Column                  Non-Null Count  Dtype   \n",
      "---  ------                  --------------  -----   \n",
      " 0   student_id              19158 non-null  int32   \n",
      " 1   city                    19158 non-null  category\n",
      " 2   city_development_index  19158 non-null  float16 \n",
      " 3   gender                  14650 non-null  category\n",
      " 4   relevant_experience     19158 non-null  bool    \n",
      " 5   enrolled_university     18772 non-null  category\n",
      " 6   education_level         18698 non-null  category\n",
      " 7   major_discipline        16345 non-null  category\n",
      " 8   experience              19158 non-null  category\n",
      " 9   company_size            11201 non-null  category\n",
      " 10  company_type            13018 non-null  category\n",
      " 11  last_new_job            18735 non-null  category\n",
      " 12  training_hours          19158 non-null  int32   \n",
      " 13  job_change              19158 non-null  bool    \n",
      "dtypes: bool(2), category(9), float16(1), int32(2)\n",
      "memory usage: 399.7 KB\n"
     ]
    }
   ],
   "source": [
    "ds_jobs_transformed.info()"
   ]
  },
  {
   "cell_type": "code",
   "execution_count": 14,
   "id": "bfa8cc9d-ac21-4509-a85e-8f8a74855ecd",
   "metadata": {
    "executionCancelledAt": null,
    "executionTime": 53,
    "lastExecutedAt": 1723052331855,
    "lastExecutedByKernel": "c43de3fb-9124-47cd-8f12-fad096d45c52",
    "lastScheduledRunId": null,
    "lastSuccessfullyExecutedCode": "ds_jobs_transformed.memory_usage()",
    "outputsMetadata": {
     "0": {
      "height": 318,
      "type": "dataFrame"
     }
    }
   },
   "outputs": [
    {
     "data": {
      "text/plain": [
       "Index                       128\n",
       "student_id                76632\n",
       "city                      24310\n",
       "city_development_index    38316\n",
       "gender                    19290\n",
       "relevant_experience       19158\n",
       "enrolled_university       19290\n",
       "education_level           19370\n",
       "major_discipline          19378\n",
       "experience                19378\n",
       "company_size              19522\n",
       "company_type              19378\n",
       "last_new_job              19378\n",
       "training_hours            76632\n",
       "job_change                19158\n",
       "dtype: int64"
      ]
     },
     "execution_count": 14,
     "metadata": {},
     "output_type": "execute_result"
    }
   ],
   "source": [
    "ds_jobs_transformed.memory_usage()"
   ]
  },
  {
   "cell_type": "code",
   "execution_count": 15,
   "id": "296de251-478c-43e4-bc46-891d2c665e6b",
   "metadata": {
    "executionCancelledAt": null,
    "executionTime": 47,
    "lastExecutedAt": 1723052331902,
    "lastExecutedByKernel": "c43de3fb-9124-47cd-8f12-fad096d45c52",
    "lastScheduledRunId": null,
    "lastSuccessfullyExecutedCode": "for field in ds_jobs_transformed:\n    if ds_jobs_transformed[field].dtype == 'category':\n        print(ds_jobs_transformed[field].value_counts().sort_index())\n        print('----------------------------------------')",
    "outputsMetadata": {
     "0": {
      "height": 602,
      "type": "stream"
     }
    }
   },
   "outputs": [
    {
     "name": "stdout",
     "output_type": "stream",
     "text": [
      "city_1       26\n",
      "city_10      86\n",
      "city_100    275\n",
      "city_101     75\n",
      "city_102    304\n",
      "           ... \n",
      "city_93      26\n",
      "city_94      26\n",
      "city_97     104\n",
      "city_98      79\n",
      "city_99      94\n",
      "Name: city, Length: 123, dtype: int64\n",
      "----------------------------------------\n",
      "Female     1238\n",
      "Male      13221\n",
      "Other       191\n",
      "Name: gender, dtype: int64\n",
      "----------------------------------------\n",
      "no_enrollment       13817\n",
      "Part time course     1198\n",
      "Full time course     3757\n",
      "Name: enrolled_university, dtype: int64\n",
      "----------------------------------------\n",
      "Primary School      308\n",
      "High School        2017\n",
      "Graduate          11598\n",
      "Masters            4361\n",
      "Phd                 414\n",
      "Name: education_level, dtype: int64\n",
      "----------------------------------------\n",
      "Arts                 253\n",
      "Business Degree      327\n",
      "Humanities           669\n",
      "No Major             223\n",
      "Other                381\n",
      "STEM               14492\n",
      "Name: major_discipline, dtype: int64\n",
      "----------------------------------------\n",
      "<1        522\n",
      "1-4      3030\n",
      "5-9      5879\n",
      "10-14    3522\n",
      "15-19    2402\n",
      ">19      3803\n",
      "Name: experience, dtype: int64\n",
      "----------------------------------------\n",
      "<10          1308\n",
      "10-49        1471\n",
      "50-99        3083\n",
      "100-499      2571\n",
      "500-999       877\n",
      "1000-4999    1328\n",
      "5000-9999     563\n",
      "10000           0\n",
      "Name: company_size, dtype: int64\n",
      "----------------------------------------\n",
      "Early Stage Startup     603\n",
      "Funded Startup         1001\n",
      "NGO                     521\n",
      "Other                   121\n",
      "Public Sector           955\n",
      "Pvt Ltd                9817\n",
      "Name: company_type, dtype: int64\n",
      "----------------------------------------\n",
      "never    2452\n",
      "1        8040\n",
      "2        2900\n",
      "3        1024\n",
      "4        1029\n",
      ">4       3290\n",
      "Name: last_new_job, dtype: int64\n",
      "----------------------------------------\n"
     ]
    }
   ],
   "source": [
    "for field in ds_jobs_transformed:\n",
    "    if ds_jobs_transformed[field].dtype == 'category':\n",
    "        print(ds_jobs_transformed[field].value_counts().sort_index())\n",
    "        print('----------------------------------------')"
   ]
  },
  {
   "cell_type": "code",
   "execution_count": 16,
   "id": "105e317d-5629-4c50-bea3-1f06e5158885",
   "metadata": {
    "executionCancelledAt": null,
    "executionTime": 49,
    "lastExecutedAt": 1723052331951,
    "lastExecutedByKernel": "c43de3fb-9124-47cd-8f12-fad096d45c52",
    "lastScheduledRunId": null,
    "lastSuccessfullyExecutedCode": "ds_jobs_transformed.head()",
    "outputsMetadata": {
     "0": {
      "height": 209,
      "type": "dataFrame"
     }
    }
   },
   "outputs": [
    {
     "data": {
      "text/html": [
       "<div>\n",
       "<style scoped>\n",
       "    .dataframe tbody tr th:only-of-type {\n",
       "        vertical-align: middle;\n",
       "    }\n",
       "\n",
       "    .dataframe tbody tr th {\n",
       "        vertical-align: top;\n",
       "    }\n",
       "\n",
       "    .dataframe thead th {\n",
       "        text-align: right;\n",
       "    }\n",
       "</style>\n",
       "<table border=\"1\" class=\"dataframe\">\n",
       "  <thead>\n",
       "    <tr style=\"text-align: right;\">\n",
       "      <th></th>\n",
       "      <th>student_id</th>\n",
       "      <th>city</th>\n",
       "      <th>city_development_index</th>\n",
       "      <th>gender</th>\n",
       "      <th>relevant_experience</th>\n",
       "      <th>enrolled_university</th>\n",
       "      <th>education_level</th>\n",
       "      <th>major_discipline</th>\n",
       "      <th>experience</th>\n",
       "      <th>company_size</th>\n",
       "      <th>company_type</th>\n",
       "      <th>last_new_job</th>\n",
       "      <th>training_hours</th>\n",
       "      <th>job_change</th>\n",
       "    </tr>\n",
       "  </thead>\n",
       "  <tbody>\n",
       "    <tr>\n",
       "      <th>0</th>\n",
       "      <td>8949</td>\n",
       "      <td>city_103</td>\n",
       "      <td>0.919922</td>\n",
       "      <td>Male</td>\n",
       "      <td>True</td>\n",
       "      <td>no_enrollment</td>\n",
       "      <td>Graduate</td>\n",
       "      <td>STEM</td>\n",
       "      <td>&gt;19</td>\n",
       "      <td>NaN</td>\n",
       "      <td>NaN</td>\n",
       "      <td>1</td>\n",
       "      <td>36</td>\n",
       "      <td>True</td>\n",
       "    </tr>\n",
       "    <tr>\n",
       "      <th>1</th>\n",
       "      <td>29725</td>\n",
       "      <td>city_40</td>\n",
       "      <td>0.775879</td>\n",
       "      <td>Male</td>\n",
       "      <td>False</td>\n",
       "      <td>no_enrollment</td>\n",
       "      <td>Graduate</td>\n",
       "      <td>STEM</td>\n",
       "      <td>15-19</td>\n",
       "      <td>50-99</td>\n",
       "      <td>Pvt Ltd</td>\n",
       "      <td>&gt;4</td>\n",
       "      <td>47</td>\n",
       "      <td>False</td>\n",
       "    </tr>\n",
       "    <tr>\n",
       "      <th>2</th>\n",
       "      <td>11561</td>\n",
       "      <td>city_21</td>\n",
       "      <td>0.624023</td>\n",
       "      <td>NaN</td>\n",
       "      <td>False</td>\n",
       "      <td>Full time course</td>\n",
       "      <td>Graduate</td>\n",
       "      <td>STEM</td>\n",
       "      <td>5-9</td>\n",
       "      <td>NaN</td>\n",
       "      <td>NaN</td>\n",
       "      <td>never</td>\n",
       "      <td>83</td>\n",
       "      <td>False</td>\n",
       "    </tr>\n",
       "    <tr>\n",
       "      <th>3</th>\n",
       "      <td>33241</td>\n",
       "      <td>city_115</td>\n",
       "      <td>0.789062</td>\n",
       "      <td>NaN</td>\n",
       "      <td>False</td>\n",
       "      <td>NaN</td>\n",
       "      <td>Graduate</td>\n",
       "      <td>Business Degree</td>\n",
       "      <td>&lt;1</td>\n",
       "      <td>NaN</td>\n",
       "      <td>Pvt Ltd</td>\n",
       "      <td>never</td>\n",
       "      <td>52</td>\n",
       "      <td>True</td>\n",
       "    </tr>\n",
       "    <tr>\n",
       "      <th>4</th>\n",
       "      <td>666</td>\n",
       "      <td>city_162</td>\n",
       "      <td>0.767090</td>\n",
       "      <td>Male</td>\n",
       "      <td>True</td>\n",
       "      <td>no_enrollment</td>\n",
       "      <td>Masters</td>\n",
       "      <td>STEM</td>\n",
       "      <td>&gt;19</td>\n",
       "      <td>50-99</td>\n",
       "      <td>Funded Startup</td>\n",
       "      <td>4</td>\n",
       "      <td>8</td>\n",
       "      <td>False</td>\n",
       "    </tr>\n",
       "  </tbody>\n",
       "</table>\n",
       "</div>"
      ],
      "text/plain": [
       "   student_id      city  city_development_index gender  relevant_experience  \\\n",
       "0        8949  city_103                0.919922   Male                 True   \n",
       "1       29725   city_40                0.775879   Male                False   \n",
       "2       11561   city_21                0.624023    NaN                False   \n",
       "3       33241  city_115                0.789062    NaN                False   \n",
       "4         666  city_162                0.767090   Male                 True   \n",
       "\n",
       "  enrolled_university education_level major_discipline experience  \\\n",
       "0       no_enrollment        Graduate             STEM        >19   \n",
       "1       no_enrollment        Graduate             STEM      15-19   \n",
       "2    Full time course        Graduate             STEM        5-9   \n",
       "3                 NaN        Graduate  Business Degree         <1   \n",
       "4       no_enrollment         Masters             STEM        >19   \n",
       "\n",
       "  company_size    company_type last_new_job  training_hours  job_change  \n",
       "0          NaN             NaN            1              36        True  \n",
       "1        50-99         Pvt Ltd           >4              47       False  \n",
       "2          NaN             NaN        never              83       False  \n",
       "3          NaN         Pvt Ltd        never              52        True  \n",
       "4        50-99  Funded Startup            4               8       False  "
      ]
     },
     "execution_count": 16,
     "metadata": {},
     "output_type": "execute_result"
    }
   ],
   "source": [
    "ds_jobs_transformed.head()"
   ]
  },
  {
   "cell_type": "code",
   "execution_count": 17,
   "id": "5e474ccb-e134-4b9a-b90c-559bd814194d",
   "metadata": {
    "executionCancelledAt": null,
    "executionTime": 51,
    "lastExecutedAt": 1723052332002,
    "lastExecutedByKernel": "c43de3fb-9124-47cd-8f12-fad096d45c52",
    "lastScheduledRunId": null,
    "lastSuccessfullyExecutedCode": "ds_jobs_transformed = ds_jobs_transformed[(ds_jobs_transformed['experience']>'5-9') & (ds_jobs_transformed['company_size']>'500-999')]",
    "outputsMetadata": {
     "0": {
      "height": 219,
      "type": "dataFrame"
     }
    }
   },
   "outputs": [],
   "source": [
    "ds_jobs_transformed = ds_jobs_transformed[(ds_jobs_transformed['experience']>'5-9') & (ds_jobs_transformed['company_size']>'500-999')]"
   ]
  },
  {
   "cell_type": "code",
   "execution_count": 18,
   "id": "cf69b4cc-1dc8-459f-87d2-dbe9a001567c",
   "metadata": {
    "executionCancelledAt": null,
    "executionTime": 52,
    "lastExecutedAt": 1723052332054,
    "lastExecutedByKernel": "c43de3fb-9124-47cd-8f12-fad096d45c52",
    "lastScheduledRunId": null,
    "lastSuccessfullyExecutedCode": "ds_jobs_transformed['experience'].value_counts()",
    "outputsMetadata": {
     "0": {
      "height": 219,
      "type": "dataFrame"
     }
    }
   },
   "outputs": [
    {
     "data": {
      "text/plain": [
       ">19      507\n",
       "10-14    388\n",
       "15-19    312\n",
       "<1         0\n",
       "1-4        0\n",
       "5-9        0\n",
       "Name: experience, dtype: int64"
      ]
     },
     "execution_count": 18,
     "metadata": {},
     "output_type": "execute_result"
    }
   ],
   "source": [
    "ds_jobs_transformed['experience'].value_counts()"
   ]
  },
  {
   "cell_type": "code",
   "execution_count": 19,
   "id": "6a88fc9d-7ac5-439c-8d29-0ebe262055bd",
   "metadata": {
    "executionCancelledAt": null,
    "executionTime": 52,
    "lastExecutedAt": 1723052332106,
    "lastExecutedByKernel": "c43de3fb-9124-47cd-8f12-fad096d45c52",
    "lastScheduledRunId": null,
    "lastSuccessfullyExecutedCode": "ds_jobs_transformed['company_size'].value_counts()",
    "outputsMetadata": {
     "0": {
      "height": 269,
      "type": "dataFrame"
     }
    }
   },
   "outputs": [
    {
     "data": {
      "text/plain": [
       "1000-4999    865\n",
       "5000-9999    342\n",
       "<10            0\n",
       "10-49          0\n",
       "50-99          0\n",
       "100-499        0\n",
       "500-999        0\n",
       "10000          0\n",
       "Name: company_size, dtype: int64"
      ]
     },
     "execution_count": 19,
     "metadata": {},
     "output_type": "execute_result"
    }
   ],
   "source": [
    "ds_jobs_transformed['company_size'].value_counts()"
   ]
  },
  {
   "cell_type": "code",
   "execution_count": 20,
   "id": "63231dfe-cf87-425f-a95a-550ebaab4741",
   "metadata": {
    "executionCancelledAt": null,
    "executionTime": 96,
    "lastExecutedAt": 1723052332202,
    "lastExecutedByKernel": "c43de3fb-9124-47cd-8f12-fad096d45c52",
    "lastScheduledRunId": null,
    "lastSuccessfullyExecutedCode": "# Import necessary libraries\nimport pandas as pd\n\n# Load the dataset and create a copy\nds_jobs = pd.read_csv(\"customer_train.csv\")\nds_jobs_transformed = ds_jobs.copy()\n\n# EDA to help identify ordinal, nominal, and two-factor categories\nfor col in ds_jobs.select_dtypes(\"object\").columns:\n    print(ds_jobs_transformed[col].value_counts(), '\\n')\n\n# Create a dictionary of columns containing ordered categorical data\nordered_cats = {\n    'enrolled_university': ['no_enrollment', 'Part time course', 'Full time course'],\n    'education_level': ['Primary School', 'High School', 'Graduate', 'Masters', 'Phd'],\n    'experience': ['<1'] + list(map(str, range(1, 21))) + ['>20'],\n    'company_size': ['<10', '10-49', '50-99', '100-499', '500-999', '1000-4999', '5000-9999', '10000+'],\n    'last_new_job': ['never', '1', '2', '3', '4', '>4']\n}\n\n# Create a mapping dictionary of columns containing two-factor categories to convert to Booleans\ntwo_factor_cats = {\n    'relevant_experience': {'No relevant experience': False, 'Has relevant experience': True},\n    'job_change': {0.0: False, 1.0: True}\n}\n\n# Loop through DataFrame columns to efficiently change data types\nfor col in ds_jobs_transformed:\n    \n    # Convert two-factor categories to bool\n    if col in ['relevant_experience', 'job_change']:\n        ds_jobs_transformed[col] = ds_jobs_transformed[col].map(two_factor_cats[col])\n    \n    # Convert integer columns to int32\n    elif col in ['student_id', 'training_hours']:\n        ds_jobs_transformed[col] = ds_jobs_transformed[col].astype('int32')\n    \n    # Convert float columns to float16\n    elif col == 'city_development_index':\n        ds_jobs_transformed[col] = ds_jobs_transformed[col].astype('float16')\n    \n    # Convert columns containing ordered categorical data to ordered categories using dict\n    elif col in ordered_cats.keys():\n        category = pd.CategoricalDtype(ordered_cats[col], ordered=True)\n        ds_jobs_transformed[col] = ds_jobs_transformed[col].astype(category)\n    \n    # Convert remaining columns to standard categories\n    else:\n        ds_jobs_transformed[col] = ds_jobs_transformed[col].astype('category')\n        \n# Filter students with 10 or more years experience at companies with at least 1000 employees\nds_jobs_transformed = ds_jobs_transformed[(ds_jobs_transformed['experience'] >= '10') & (ds_jobs_transformed['company_size'] >= '1000-4999')]",
    "outputsMetadata": {
     "0": {
      "height": 548,
      "type": "stream"
     }
    }
   },
   "outputs": [],
   "source": [
    "# ###########################\n",
    "# # Another Solution Below:\n",
    "# ###########################\n",
    "\n",
    "\n",
    "# # Import necessary libraries\n",
    "# import pandas as pd\n",
    "\n",
    "# # Load the dataset and create a copy\n",
    "# ds_jobs = pd.read_csv(\"customer_train.csv\")\n",
    "# ds_jobs_transformed = ds_jobs.copy()\n",
    "\n",
    "# # EDA to help identify ordinal, nominal, and two-factor categories\n",
    "# for col in ds_jobs.select_dtypes(\"object\").columns:\n",
    "#     print(ds_jobs_transformed[col].value_counts(), '\\n')\n",
    "\n",
    "# # Create a dictionary of columns containing ordered categorical data\n",
    "# ordered_cats = {\n",
    "#     'enrolled_university': ['no_enrollment', 'Part time course', 'Full time course'],\n",
    "#     'education_level': ['Primary School', 'High School', 'Graduate', 'Masters', 'Phd'],\n",
    "#     'experience': ['<1'] + list(map(str, range(1, 21))) + ['>20'],\n",
    "#     'company_size': ['<10', '10-49', '50-99', '100-499', '500-999', '1000-4999', '5000-9999', '10000+'],\n",
    "#     'last_new_job': ['never', '1', '2', '3', '4', '>4']\n",
    "# }\n",
    "\n",
    "# # Create a mapping dictionary of columns containing two-factor categories to convert to Booleans\n",
    "# two_factor_cats = {\n",
    "#     'relevant_experience': {'No relevant experience': False, 'Has relevant experience': True},\n",
    "#     'job_change': {0.0: False, 1.0: True}\n",
    "# }\n",
    "\n",
    "# # Loop through DataFrame columns to efficiently change data types\n",
    "# for col in ds_jobs_transformed:\n",
    "    \n",
    "#     # Convert two-factor categories to bool\n",
    "#     if col in ['relevant_experience', 'job_change']:\n",
    "#         ds_jobs_transformed[col] = ds_jobs_transformed[col].map(two_factor_cats[col])\n",
    "    \n",
    "#     # Convert integer columns to int32\n",
    "#     elif col in ['student_id', 'training_hours']:\n",
    "#         ds_jobs_transformed[col] = ds_jobs_transformed[col].astype('int32')\n",
    "    \n",
    "#     # Convert float columns to float16\n",
    "#     elif col == 'city_development_index':\n",
    "#         ds_jobs_transformed[col] = ds_jobs_transformed[col].astype('float16')\n",
    "    \n",
    "#     # Convert columns containing ordered categorical data to ordered categories using dict\n",
    "#     elif col in ordered_cats.keys():\n",
    "#         category = pd.CategoricalDtype(ordered_cats[col], ordered=True)\n",
    "#         ds_jobs_transformed[col] = ds_jobs_transformed[col].astype(category)\n",
    "    \n",
    "#     # Convert remaining columns to standard categories\n",
    "#     else:\n",
    "#         ds_jobs_transformed[col] = ds_jobs_transformed[col].astype('category')\n",
    "        \n",
    "# # Filter students with 10 or more years experience at companies with at least 1000 employees\n",
    "# ds_jobs_transformed = ds_jobs_transformed[(ds_jobs_transformed['experience'] >= '10') & (ds_jobs_transformed['company_size'] >= '1000-4999')]"
   ]
  }
 ],
 "metadata": {
  "editor": "DataLab",
  "kernelspec": {
   "display_name": "Python 3 (ipykernel)",
   "language": "python",
   "name": "python3"
  },
  "language_info": {
   "codemirror_mode": {
    "name": "ipython",
    "version": 3
   },
   "file_extension": ".py",
   "mimetype": "text/x-python",
   "name": "python",
   "nbconvert_exporter": "python",
   "pygments_lexer": "ipython3",
   "version": "3.10.7"
  }
 },
 "nbformat": 4,
 "nbformat_minor": 5
}
