{
 "cells": [
  {
   "cell_type": "markdown",
   "id": "6a8b0374-faaf-49e3-890e-9153ee280696",
   "metadata": {},
   "source": [
    "Category Embedding"
   ]
  },
  {
   "cell_type": "code",
   "execution_count": 1,
   "id": "15a61122-69af-4b04-a215-a5a27d28fee8",
   "metadata": {},
   "outputs": [
    {
     "data": {
      "text/plain": [
       "(1201, 10)"
      ]
     },
     "execution_count": 1,
     "metadata": {},
     "output_type": "execute_result"
    }
   ],
   "source": [
    "import pandas as pd\n",
    "df=pd.read_csv(r'C:\\Users\\Alienware\\Documents\\INGEGNERIA\\Data Science PC\\Python code\\House price pred\\houseprice.csv',\n",
    "               usecols=[\"SalePrice\", \"MSSubClass\", \"MSZoning\", \"LotFrontage\", \"LotArea\",\n",
    "                                         \"Street\", \"YearBuilt\", \"LotShape\", \"1stFlrSF\", \"2ndFlrSF\"]).dropna()\n",
    "df.shape"
   ]
  },
  {
   "cell_type": "code",
   "execution_count": 2,
   "id": "0a8da859-4293-47c8-9af5-cef1c16f3a6c",
   "metadata": {},
   "outputs": [
    {
     "data": {
      "text/html": [
       "<div>\n",
       "<style scoped>\n",
       "    .dataframe tbody tr th:only-of-type {\n",
       "        vertical-align: middle;\n",
       "    }\n",
       "\n",
       "    .dataframe tbody tr th {\n",
       "        vertical-align: top;\n",
       "    }\n",
       "\n",
       "    .dataframe thead th {\n",
       "        text-align: right;\n",
       "    }\n",
       "</style>\n",
       "<table border=\"1\" class=\"dataframe\">\n",
       "  <thead>\n",
       "    <tr style=\"text-align: right;\">\n",
       "      <th></th>\n",
       "      <th>MSSubClass</th>\n",
       "      <th>MSZoning</th>\n",
       "      <th>LotFrontage</th>\n",
       "      <th>LotArea</th>\n",
       "      <th>Street</th>\n",
       "      <th>LotShape</th>\n",
       "      <th>YearBuilt</th>\n",
       "      <th>1stFlrSF</th>\n",
       "      <th>2ndFlrSF</th>\n",
       "      <th>SalePrice</th>\n",
       "    </tr>\n",
       "  </thead>\n",
       "  <tbody>\n",
       "    <tr>\n",
       "      <th>0</th>\n",
       "      <td>60</td>\n",
       "      <td>RL</td>\n",
       "      <td>65.0</td>\n",
       "      <td>8450</td>\n",
       "      <td>Pave</td>\n",
       "      <td>Reg</td>\n",
       "      <td>2003</td>\n",
       "      <td>856</td>\n",
       "      <td>854</td>\n",
       "      <td>208500</td>\n",
       "    </tr>\n",
       "    <tr>\n",
       "      <th>1</th>\n",
       "      <td>20</td>\n",
       "      <td>RL</td>\n",
       "      <td>80.0</td>\n",
       "      <td>9600</td>\n",
       "      <td>Pave</td>\n",
       "      <td>Reg</td>\n",
       "      <td>1976</td>\n",
       "      <td>1262</td>\n",
       "      <td>0</td>\n",
       "      <td>181500</td>\n",
       "    </tr>\n",
       "    <tr>\n",
       "      <th>2</th>\n",
       "      <td>60</td>\n",
       "      <td>RL</td>\n",
       "      <td>68.0</td>\n",
       "      <td>11250</td>\n",
       "      <td>Pave</td>\n",
       "      <td>IR1</td>\n",
       "      <td>2001</td>\n",
       "      <td>920</td>\n",
       "      <td>866</td>\n",
       "      <td>223500</td>\n",
       "    </tr>\n",
       "    <tr>\n",
       "      <th>3</th>\n",
       "      <td>70</td>\n",
       "      <td>RL</td>\n",
       "      <td>60.0</td>\n",
       "      <td>9550</td>\n",
       "      <td>Pave</td>\n",
       "      <td>IR1</td>\n",
       "      <td>1915</td>\n",
       "      <td>961</td>\n",
       "      <td>756</td>\n",
       "      <td>140000</td>\n",
       "    </tr>\n",
       "    <tr>\n",
       "      <th>4</th>\n",
       "      <td>60</td>\n",
       "      <td>RL</td>\n",
       "      <td>84.0</td>\n",
       "      <td>14260</td>\n",
       "      <td>Pave</td>\n",
       "      <td>IR1</td>\n",
       "      <td>2000</td>\n",
       "      <td>1145</td>\n",
       "      <td>1053</td>\n",
       "      <td>250000</td>\n",
       "    </tr>\n",
       "  </tbody>\n",
       "</table>\n",
       "</div>"
      ],
      "text/plain": [
       "   MSSubClass MSZoning  LotFrontage  LotArea Street LotShape  YearBuilt  \\\n",
       "0          60       RL         65.0     8450   Pave      Reg       2003   \n",
       "1          20       RL         80.0     9600   Pave      Reg       1976   \n",
       "2          60       RL         68.0    11250   Pave      IR1       2001   \n",
       "3          70       RL         60.0     9550   Pave      IR1       1915   \n",
       "4          60       RL         84.0    14260   Pave      IR1       2000   \n",
       "\n",
       "   1stFlrSF  2ndFlrSF  SalePrice  \n",
       "0       856       854     208500  \n",
       "1      1262         0     181500  \n",
       "2       920       866     223500  \n",
       "3       961       756     140000  \n",
       "4      1145      1053     250000  "
      ]
     },
     "execution_count": 2,
     "metadata": {},
     "output_type": "execute_result"
    }
   ],
   "source": [
    "df.head()"
   ]
  },
  {
   "cell_type": "code",
   "execution_count": 3,
   "id": "6beddbaa-a243-4419-a233-d5c4effbbc23",
   "metadata": {},
   "outputs": [
    {
     "name": "stdout",
     "output_type": "stream",
     "text": [
      "<class 'pandas.core.frame.DataFrame'>\n",
      "Int64Index: 1201 entries, 0 to 1459\n",
      "Data columns (total 10 columns):\n",
      " #   Column       Non-Null Count  Dtype  \n",
      "---  ------       --------------  -----  \n",
      " 0   MSSubClass   1201 non-null   int64  \n",
      " 1   MSZoning     1201 non-null   object \n",
      " 2   LotFrontage  1201 non-null   float64\n",
      " 3   LotArea      1201 non-null   int64  \n",
      " 4   Street       1201 non-null   object \n",
      " 5   LotShape     1201 non-null   object \n",
      " 6   YearBuilt    1201 non-null   int64  \n",
      " 7   1stFlrSF     1201 non-null   int64  \n",
      " 8   2ndFlrSF     1201 non-null   int64  \n",
      " 9   SalePrice    1201 non-null   int64  \n",
      "dtypes: float64(1), int64(6), object(3)\n",
      "memory usage: 103.2+ KB\n"
     ]
    }
   ],
   "source": [
    "df.info()"
   ]
  },
  {
   "cell_type": "code",
   "execution_count": 4,
   "id": "288e37dd-5af5-4521-ad85-4e0e60dc2d7c",
   "metadata": {},
   "outputs": [
    {
     "name": "stdout",
     "output_type": "stream",
     "text": [
      "Column name MSSubClass and unique values are 15\n",
      "Column name MSZoning and unique values are 5\n",
      "Column name LotFrontage and unique values are 110\n",
      "Column name LotArea and unique values are 869\n",
      "Column name Street and unique values are 2\n",
      "Column name LotShape and unique values are 4\n",
      "Column name YearBuilt and unique values are 112\n",
      "Column name 1stFlrSF and unique values are 678\n",
      "Column name 2ndFlrSF and unique values are 368\n",
      "Column name SalePrice and unique values are 597\n"
     ]
    }
   ],
   "source": [
    "for i in df.columns:\n",
    "    print(\"Column name {} and unique values are {}\".format(i,len(df[i].unique())))"
   ]
  },
  {
   "cell_type": "code",
   "execution_count": 5,
   "id": "09cf8896-4a35-49d8-a715-fe996a9c4c1a",
   "metadata": {},
   "outputs": [
    {
     "data": {
      "text/plain": [
       "0     20\n",
       "1     47\n",
       "2     22\n",
       "3    108\n",
       "4     23\n",
       "Name: Total Years, dtype: int64"
      ]
     },
     "execution_count": 5,
     "metadata": {},
     "output_type": "execute_result"
    }
   ],
   "source": [
    "import datetime\n",
    "datetime.datetime.now().year\n",
    "df['Total Years']=datetime.datetime.now().year-df['YearBuilt']\n",
    "df.drop(\"YearBuilt\",axis=1,inplace=True)\n",
    "df['Total Years'].head()"
   ]
  },
  {
   "cell_type": "code",
   "execution_count": 6,
   "id": "643ec5cb-96cc-4009-9f9e-2da53e1e270f",
   "metadata": {},
   "outputs": [],
   "source": [
    "cat_features=[\"MSSubClass\", \"MSZoning\", \"Street\", \"LotShape\"]\n",
    "out_feature=\"SalePrice\""
   ]
  },
  {
   "cell_type": "code",
   "execution_count": 7,
   "id": "bca49ec3-92c8-436d-a161-ccdd65c0b8f5",
   "metadata": {},
   "outputs": [
    {
     "data": {
      "text/html": [
       "<div>\n",
       "<style scoped>\n",
       "    .dataframe tbody tr th:only-of-type {\n",
       "        vertical-align: middle;\n",
       "    }\n",
       "\n",
       "    .dataframe tbody tr th {\n",
       "        vertical-align: top;\n",
       "    }\n",
       "\n",
       "    .dataframe thead th {\n",
       "        text-align: right;\n",
       "    }\n",
       "</style>\n",
       "<table border=\"1\" class=\"dataframe\">\n",
       "  <thead>\n",
       "    <tr style=\"text-align: right;\">\n",
       "      <th></th>\n",
       "      <th>MSSubClass</th>\n",
       "      <th>MSZoning</th>\n",
       "      <th>LotFrontage</th>\n",
       "      <th>LotArea</th>\n",
       "      <th>Street</th>\n",
       "      <th>LotShape</th>\n",
       "      <th>1stFlrSF</th>\n",
       "      <th>2ndFlrSF</th>\n",
       "      <th>SalePrice</th>\n",
       "      <th>Total Years</th>\n",
       "    </tr>\n",
       "  </thead>\n",
       "  <tbody>\n",
       "    <tr>\n",
       "      <th>0</th>\n",
       "      <td>5</td>\n",
       "      <td>3</td>\n",
       "      <td>65.0</td>\n",
       "      <td>8450</td>\n",
       "      <td>1</td>\n",
       "      <td>3</td>\n",
       "      <td>856</td>\n",
       "      <td>854</td>\n",
       "      <td>208500</td>\n",
       "      <td>20</td>\n",
       "    </tr>\n",
       "    <tr>\n",
       "      <th>1</th>\n",
       "      <td>0</td>\n",
       "      <td>3</td>\n",
       "      <td>80.0</td>\n",
       "      <td>9600</td>\n",
       "      <td>1</td>\n",
       "      <td>3</td>\n",
       "      <td>1262</td>\n",
       "      <td>0</td>\n",
       "      <td>181500</td>\n",
       "      <td>47</td>\n",
       "    </tr>\n",
       "    <tr>\n",
       "      <th>2</th>\n",
       "      <td>5</td>\n",
       "      <td>3</td>\n",
       "      <td>68.0</td>\n",
       "      <td>11250</td>\n",
       "      <td>1</td>\n",
       "      <td>0</td>\n",
       "      <td>920</td>\n",
       "      <td>866</td>\n",
       "      <td>223500</td>\n",
       "      <td>22</td>\n",
       "    </tr>\n",
       "    <tr>\n",
       "      <th>3</th>\n",
       "      <td>6</td>\n",
       "      <td>3</td>\n",
       "      <td>60.0</td>\n",
       "      <td>9550</td>\n",
       "      <td>1</td>\n",
       "      <td>0</td>\n",
       "      <td>961</td>\n",
       "      <td>756</td>\n",
       "      <td>140000</td>\n",
       "      <td>108</td>\n",
       "    </tr>\n",
       "    <tr>\n",
       "      <th>4</th>\n",
       "      <td>5</td>\n",
       "      <td>3</td>\n",
       "      <td>84.0</td>\n",
       "      <td>14260</td>\n",
       "      <td>1</td>\n",
       "      <td>0</td>\n",
       "      <td>1145</td>\n",
       "      <td>1053</td>\n",
       "      <td>250000</td>\n",
       "      <td>23</td>\n",
       "    </tr>\n",
       "  </tbody>\n",
       "</table>\n",
       "</div>"
      ],
      "text/plain": [
       "   MSSubClass  MSZoning  LotFrontage  LotArea  Street  LotShape  1stFlrSF  \\\n",
       "0           5         3         65.0     8450       1         3       856   \n",
       "1           0         3         80.0     9600       1         3      1262   \n",
       "2           5         3         68.0    11250       1         0       920   \n",
       "3           6         3         60.0     9550       1         0       961   \n",
       "4           5         3         84.0    14260       1         0      1145   \n",
       "\n",
       "   2ndFlrSF  SalePrice  Total Years  \n",
       "0       854     208500           20  \n",
       "1         0     181500           47  \n",
       "2       866     223500           22  \n",
       "3       756     140000          108  \n",
       "4      1053     250000           23  "
      ]
     },
     "execution_count": 7,
     "metadata": {},
     "output_type": "execute_result"
    }
   ],
   "source": [
    "from sklearn.preprocessing import LabelEncoder\n",
    "lbl_encoders={}\n",
    "for feature in cat_features:\n",
    "    lbl_encoders[feature]=LabelEncoder()\n",
    "    df[feature]=lbl_encoders[feature].fit_transform(df[feature])\n",
    "df.head()"
   ]
  },
  {
   "cell_type": "code",
   "execution_count": 8,
   "id": "8818cded-8f01-4139-b4fa-14d138453cdd",
   "metadata": {},
   "outputs": [
    {
     "data": {
      "text/plain": [
       "array([[5, 3, 1, 3],\n",
       "       [0, 3, 1, 3],\n",
       "       [5, 3, 1, 0],\n",
       "       ...,\n",
       "       [6, 3, 1, 3],\n",
       "       [0, 3, 1, 3],\n",
       "       [0, 3, 1, 3]], dtype=int64)"
      ]
     },
     "execution_count": 8,
     "metadata": {},
     "output_type": "execute_result"
    }
   ],
   "source": [
    "### Stacking and Converting Into Tensors\n",
    "import numpy as np\n",
    "cat_features=np.stack([df['MSSubClass'],df['MSZoning'],df['Street'],df['LotShape']],1)\n",
    "cat_features"
   ]
  },
  {
   "cell_type": "code",
   "execution_count": 9,
   "id": "11ecfc47-4a5e-453a-b594-8d007e6f2e32",
   "metadata": {},
   "outputs": [
    {
     "data": {
      "text/plain": [
       "tensor([[5, 3, 1, 3],\n",
       "        [0, 3, 1, 3],\n",
       "        [5, 3, 1, 0],\n",
       "        ...,\n",
       "        [6, 3, 1, 3],\n",
       "        [0, 3, 1, 3],\n",
       "        [0, 3, 1, 3]])"
      ]
     },
     "execution_count": 9,
     "metadata": {},
     "output_type": "execute_result"
    }
   ],
   "source": [
    "### Convert numpy to Tensors\n",
    "import torch\n",
    "cat_features=torch.tensor(cat_features,dtype=torch.int64)\n",
    "cat_features"
   ]
  },
  {
   "cell_type": "code",
   "execution_count": 10,
   "id": "3d46a913-2525-40a9-a4ef-79f83e2562b3",
   "metadata": {},
   "outputs": [
    {
     "data": {
      "text/plain": [
       "['LotFrontage', 'LotArea', '1stFlrSF', '2ndFlrSF', 'Total Years']"
      ]
     },
     "execution_count": 10,
     "metadata": {},
     "output_type": "execute_result"
    }
   ],
   "source": [
    "#### create continuous variable\n",
    "cont_features=[]\n",
    "for i in df.columns:\n",
    "    if i in [\"MSSubClass\", \"MSZoning\", \"Street\", \"LotShape\",\"SalePrice\"]:\n",
    "        pass\n",
    "    else:\n",
    "        cont_features.append(i)\n",
    "cont_features"
   ]
  },
  {
   "cell_type": "code",
   "execution_count": 11,
   "id": "3e0c4075-8a2d-4cde-8c5a-13ab90b07c3b",
   "metadata": {},
   "outputs": [
    {
     "data": {
      "text/plain": [
       "tensor([[   65.,  8450.,   856.,   854.,    20.],\n",
       "        [   80.,  9600.,  1262.,     0.,    47.],\n",
       "        [   68., 11250.,   920.,   866.,    22.],\n",
       "        ...,\n",
       "        [   66.,  9042.,  1188.,  1152.,    82.],\n",
       "        [   68.,  9717.,  1078.,     0.,    73.],\n",
       "        [   75.,  9937.,  1256.,     0.,    58.]])"
      ]
     },
     "execution_count": 11,
     "metadata": {},
     "output_type": "execute_result"
    }
   ],
   "source": [
    "### Stacking continuous variable to a tensor\n",
    "cont_values=np.stack([df[i].values for i in cont_features],axis=1)\n",
    "cont_values=torch.tensor(cont_values,dtype=torch.float)\n",
    "cont_values"
   ]
  },
  {
   "cell_type": "code",
   "execution_count": 12,
   "id": "08fcbd99-7512-4f98-8601-ee686e770f18",
   "metadata": {},
   "outputs": [
    {
     "data": {
      "text/plain": [
       "tensor([[208500.],\n",
       "        [181500.],\n",
       "        [223500.],\n",
       "        ...,\n",
       "        [266500.],\n",
       "        [142125.],\n",
       "        [147500.]])"
      ]
     },
     "execution_count": 12,
     "metadata": {},
     "output_type": "execute_result"
    }
   ],
   "source": [
    "### Dependent Feature \n",
    "y=torch.tensor(df['SalePrice'].values,dtype=torch.float).reshape(-1,1) #reshaping because needing a two dimensional variable\n",
    "y"
   ]
  },
  {
   "cell_type": "code",
   "execution_count": 13,
   "id": "58f38354-698c-4b4d-b12d-b408dde6b05c",
   "metadata": {},
   "outputs": [
    {
     "data": {
      "text/plain": [
       "[15, 5, 2, 4]"
      ]
     },
     "execution_count": 13,
     "metadata": {},
     "output_type": "execute_result"
    }
   ],
   "source": [
    "#### Embedding Size For Categorical columns\n",
    "cat_dims=[len(df[col].unique()) for col in [\"MSSubClass\", \"MSZoning\", \"Street\", \"LotShape\"]]\n",
    "cat_dims # input dimensions for the embedding layers"
   ]
  },
  {
   "cell_type": "code",
   "execution_count": 14,
   "id": "15859dcd-49c9-488c-9f32-bde833053226",
   "metadata": {},
   "outputs": [
    {
     "data": {
      "text/plain": [
       "[(15, 8), (5, 3), (2, 1), (4, 2)]"
      ]
     },
     "execution_count": 14,
     "metadata": {},
     "output_type": "execute_result"
    }
   ],
   "source": [
    "embedding_dim= [(x, min(50, (x + 1) // 2)) for x in cat_dims] # rule of thumb to calculate output dimension for embedding layers\n",
    "embedding_dim "
   ]
  },
  {
   "cell_type": "code",
   "execution_count": 15,
   "id": "01f7525e-9acc-458d-aeee-4234edcac54b",
   "metadata": {},
   "outputs": [
    {
     "data": {
      "text/plain": [
       "ModuleList(\n",
       "  (0): Embedding(15, 8)\n",
       "  (1): Embedding(5, 3)\n",
       "  (2): Embedding(2, 1)\n",
       "  (3): Embedding(4, 2)\n",
       ")"
      ]
     },
     "execution_count": 15,
     "metadata": {},
     "output_type": "execute_result"
    }
   ],
   "source": [
    "import torch\n",
    "import torch.nn as nn\n",
    "import torch.nn.functional as F\n",
    "embed_representation=nn.ModuleList([nn.Embedding(inp,out) for inp,out in embedding_dim])\n",
    "embed_representation"
   ]
  },
  {
   "cell_type": "code",
   "execution_count": 16,
   "id": "5a621c95-d2b6-4114-87ed-7ba7aab16adc",
   "metadata": {},
   "outputs": [
    {
     "data": {
      "text/plain": [
       "tensor([[5, 3, 1, 3],\n",
       "        [0, 3, 1, 3],\n",
       "        [5, 3, 1, 0],\n",
       "        [6, 3, 1, 0]])"
      ]
     },
     "execution_count": 16,
     "metadata": {},
     "output_type": "execute_result"
    }
   ],
   "source": [
    "cat_featuresz=cat_features[:4]\n",
    "cat_featuresz"
   ]
  },
  {
   "cell_type": "code",
   "execution_count": 17,
   "id": "718e04d3-abef-450d-9ce7-8afa4df14e10",
   "metadata": {},
   "outputs": [
    {
     "data": {
      "text/plain": [
       "[tensor([[ 0.2267,  2.1640, -2.0608,  ...,  0.2775, -1.2261, -1.2427],\n",
       "         [ 0.6365, -1.3017,  0.0686,  ...,  0.6798,  1.1686,  0.9410],\n",
       "         [ 0.2267,  2.1640, -2.0608,  ...,  0.2775, -1.2261, -1.2427],\n",
       "         ...,\n",
       "         [-0.2908, -0.7661,  1.2330,  ..., -0.4948,  0.0761, -1.0239],\n",
       "         [ 0.6365, -1.3017,  0.0686,  ...,  0.6798,  1.1686,  0.9410],\n",
       "         [ 0.6365, -1.3017,  0.0686,  ...,  0.6798,  1.1686,  0.9410]],\n",
       "        grad_fn=<EmbeddingBackward>),\n",
       " tensor([[-0.5141, -0.3220,  0.2182],\n",
       "         [-0.5141, -0.3220,  0.2182],\n",
       "         [-0.5141, -0.3220,  0.2182],\n",
       "         ...,\n",
       "         [-0.5141, -0.3220,  0.2182],\n",
       "         [-0.5141, -0.3220,  0.2182],\n",
       "         [-0.5141, -0.3220,  0.2182]], grad_fn=<EmbeddingBackward>),\n",
       " tensor([[-0.8350],\n",
       "         [-0.8350],\n",
       "         [-0.8350],\n",
       "         ...,\n",
       "         [-0.8350],\n",
       "         [-0.8350],\n",
       "         [-0.8350]], grad_fn=<EmbeddingBackward>),\n",
       " tensor([[-1.0669, -0.3843],\n",
       "         [-1.0669, -0.3843],\n",
       "         [-1.5961,  0.3296],\n",
       "         ...,\n",
       "         [-1.0669, -0.3843],\n",
       "         [-1.0669, -0.3843],\n",
       "         [-1.0669, -0.3843]], grad_fn=<EmbeddingBackward>)]"
      ]
     },
     "execution_count": 17,
     "metadata": {},
     "output_type": "execute_result"
    }
   ],
   "source": [
    "pd.set_option('display.max_rows', 500)\n",
    "embedding_val=[]\n",
    "for i,e in enumerate(embed_representation):\n",
    "    embedding_val.append(e(cat_features[:,i])) #generates the value of every embedding layer for each categorical feature\n",
    "embedding_val"
   ]
  },
  {
   "cell_type": "code",
   "execution_count": 18,
   "id": "3c8a0891-2063-499d-9a79-347cd7c651ea",
   "metadata": {},
   "outputs": [
    {
     "data": {
      "text/plain": [
       "tensor([[ 0.2267,  2.1640, -2.0608,  ..., -0.8350, -1.0669, -0.3843],\n",
       "        [ 0.6365, -1.3017,  0.0686,  ..., -0.8350, -1.0669, -0.3843],\n",
       "        [ 0.2267,  2.1640, -2.0608,  ..., -0.8350, -1.5961,  0.3296],\n",
       "        ...,\n",
       "        [-0.2908, -0.7661,  1.2330,  ..., -0.8350, -1.0669, -0.3843],\n",
       "        [ 0.6365, -1.3017,  0.0686,  ..., -0.8350, -1.0669, -0.3843],\n",
       "        [ 0.6365, -1.3017,  0.0686,  ..., -0.8350, -1.0669, -0.3843]],\n",
       "       grad_fn=<CatBackward>)"
      ]
     },
     "execution_count": 18,
     "metadata": {},
     "output_type": "execute_result"
    }
   ],
   "source": [
    "z = torch.cat(embedding_val, 1) #concatenation to obtain the right format (from 4 tensors for 4 categorical features, to 1 tensor)\n",
    "z"
   ]
  },
  {
   "cell_type": "code",
   "execution_count": 19,
   "id": "fa8ef0d3-db3e-491d-97ee-3bdd8483e011",
   "metadata": {},
   "outputs": [
    {
     "data": {
      "text/plain": [
       "tensor([[ 0.3778,  3.6067, -0.0000,  ..., -1.3917, -1.7782, -0.6406],\n",
       "        [ 0.0000, -0.0000,  0.1143,  ..., -0.0000, -1.7782, -0.0000],\n",
       "        [ 0.3778,  0.0000, -0.0000,  ..., -1.3917, -2.6601,  0.5493],\n",
       "        ...,\n",
       "        [-0.4847, -1.2768,  0.0000,  ..., -1.3917, -0.0000, -0.6406],\n",
       "        [ 0.0000, -2.1695,  0.0000,  ..., -1.3917, -1.7782, -0.6406],\n",
       "        [ 1.0608, -2.1695,  0.1143,  ..., -1.3917, -1.7782, -0.0000]],\n",
       "       grad_fn=<MulBackward0>)"
      ]
     },
     "execution_count": 19,
     "metadata": {},
     "output_type": "execute_result"
    }
   ],
   "source": [
    "#### Implement dropupout\n",
    "droput=nn.Dropout(.4)\n",
    "final_embed=droput(z)\n",
    "final_embed"
   ]
  },
  {
   "cell_type": "code",
   "execution_count": 20,
   "id": "73aaf1c3-c07c-41df-b7bb-c4f7cef8761d",
   "metadata": {},
   "outputs": [],
   "source": [
    "##### Create a Feed Forward Neural Network\n",
    "import torch\n",
    "import torch.nn as nn\n",
    "import torch.nn.functional as F\n",
    "class FeedForwardNN(nn.Module):\n",
    "\n",
    "    def __init__(self, embedding_dim, n_cont, out_sz, layers, p=0.5): #out_sz: output (it's only one output: the house price)\n",
    "        super().__init__()\n",
    "        self.embeds = nn.ModuleList([nn.Embedding(inp,out) for inp,out in embedding_dim])\n",
    "        self.emb_drop = nn.Dropout(p) # p: dropout ratio\n",
    "        self.bn_cont = nn.BatchNorm1d(n_cont) # n_cont: number of continuous features inputs\n",
    "        \n",
    "        layerlist = []\n",
    "        n_emb = sum((out for inp,out in embedding_dim)) #n_emb: number of embedding layer output from categorical features\n",
    "        n_in = n_emb + n_cont #n_in: total number of inputs \n",
    "        \n",
    "        for i in layers:\n",
    "            layerlist.append(nn.Linear(n_in,i)) \n",
    "            layerlist.append(nn.ReLU(inplace=True))\n",
    "            layerlist.append(nn.BatchNorm1d(i))\n",
    "            layerlist.append(nn.Dropout(p))\n",
    "            n_in = i\n",
    "        layerlist.append(nn.Linear(layers[-1],out_sz))\n",
    "            \n",
    "        self.layers = nn.Sequential(*layerlist)\n",
    "    \n",
    "    def forward(self, x_cat, x_cont):\n",
    "        embeddings = []\n",
    "        for i,e in enumerate(self.embeds):\n",
    "            embeddings.append(e(x_cat[:,i]))\n",
    "        x = torch.cat(embeddings, 1)\n",
    "        x = self.emb_drop(x)\n",
    "        \n",
    "        x_cont = self.bn_cont(x_cont)\n",
    "        x = torch.cat([x, x_cont], 1) #concatenating conntinuous and categorical feature\n",
    "        x = self.layers(x)\n",
    "        return x"
   ]
  },
  {
   "cell_type": "code",
   "execution_count": 21,
   "id": "c60b85a7-e685-4392-8346-df733a095b03",
   "metadata": {},
   "outputs": [
    {
     "data": {
      "text/plain": [
       "FeedForwardNN(\n",
       "  (embeds): ModuleList(\n",
       "    (0): Embedding(15, 8)\n",
       "    (1): Embedding(5, 3)\n",
       "    (2): Embedding(2, 1)\n",
       "    (3): Embedding(4, 2)\n",
       "  )\n",
       "  (emb_drop): Dropout(p=0.4, inplace=False)\n",
       "  (bn_cont): BatchNorm1d(5, eps=1e-05, momentum=0.1, affine=True, track_running_stats=True)\n",
       "  (layers): Sequential(\n",
       "    (0): Linear(in_features=19, out_features=100, bias=True)\n",
       "    (1): ReLU(inplace=True)\n",
       "    (2): BatchNorm1d(100, eps=1e-05, momentum=0.1, affine=True, track_running_stats=True)\n",
       "    (3): Dropout(p=0.4, inplace=False)\n",
       "    (4): Linear(in_features=100, out_features=50, bias=True)\n",
       "    (5): ReLU(inplace=True)\n",
       "    (6): BatchNorm1d(50, eps=1e-05, momentum=0.1, affine=True, track_running_stats=True)\n",
       "    (7): Dropout(p=0.4, inplace=False)\n",
       "    (8): Linear(in_features=50, out_features=1, bias=True)\n",
       "  )\n",
       ")"
      ]
     },
     "execution_count": 21,
     "metadata": {},
     "output_type": "execute_result"
    }
   ],
   "source": [
    "torch.manual_seed(100)\n",
    "model=FeedForwardNN(embedding_dim,len(cont_features),1,[100,50],p=0.4)\n",
    "model"
   ]
  },
  {
   "cell_type": "code",
   "execution_count": 24,
   "id": "953ffd22-22e7-4e42-88e9-91165a42a965",
   "metadata": {},
   "outputs": [],
   "source": [
    "loss_function=nn.MSELoss()\n",
    "optimizer=torch.optim.Adam(model.parameters(),lr=0.01)"
   ]
  },
  {
   "cell_type": "code",
   "execution_count": 25,
   "id": "301ca830-a892-4691-a6e0-340d1a9a9d70",
   "metadata": {},
   "outputs": [],
   "source": [
    "#train test split\n",
    "batch_size=1200\n",
    "test_size=int(batch_size*0.15)\n",
    "train_categorical=cat_features[:batch_size-test_size]\n",
    "test_categorical=cat_features[batch_size-test_size:batch_size]\n",
    "train_cont=cont_values[:batch_size-test_size]\n",
    "test_cont=cont_values[batch_size-test_size:batch_size]\n",
    "y_train=y[:batch_size-test_size]\n",
    "y_test=y[batch_size-test_size:batch_size]"
   ]
  },
  {
   "cell_type": "code",
   "execution_count": 26,
   "id": "cb892b79-f6dd-409f-b473-a4f383908a58",
   "metadata": {},
   "outputs": [
    {
     "data": {
      "text/plain": [
       "(1020, 180, 1020, 180, 1020, 180)"
      ]
     },
     "execution_count": 26,
     "metadata": {},
     "output_type": "execute_result"
    }
   ],
   "source": [
    "len(train_categorical),len(test_categorical),len(train_cont),len(test_cont),len(y_train),len(y_test)"
   ]
  },
  {
   "cell_type": "code",
   "execution_count": 27,
   "id": "c6e9a3bf-691e-48fe-96f5-56333b9e2269",
   "metadata": {},
   "outputs": [
    {
     "name": "stdout",
     "output_type": "stream",
     "text": [
      "Epoch number: 1 and the loss : 200496.78125\n",
      "Epoch number: 11 and the loss : 200493.4375\n",
      "Epoch number: 21 and the loss : 200489.15625\n",
      "Epoch number: 31 and the loss : 200482.609375\n",
      "Epoch number: 41 and the loss : 200473.265625\n",
      "Epoch number: 51 and the loss : 200461.359375\n",
      "Epoch number: 61 and the loss : 200446.390625\n",
      "Epoch number: 71 and the loss : 200429.359375\n",
      "Epoch number: 81 and the loss : 200408.0\n",
      "Epoch number: 91 and the loss : 200383.421875\n",
      "Epoch number: 101 and the loss : 200355.3125\n",
      "Epoch number: 111 and the loss : 200322.125\n",
      "Epoch number: 121 and the loss : 200291.40625\n",
      "Epoch number: 131 and the loss : 200252.0\n",
      "Epoch number: 141 and the loss : 200206.59375\n",
      "Epoch number: 151 and the loss : 200162.265625\n",
      "Epoch number: 161 and the loss : 200112.25\n",
      "Epoch number: 171 and the loss : 200059.6875\n",
      "Epoch number: 181 and the loss : 200005.734375\n",
      "Epoch number: 191 and the loss : 199946.359375\n",
      "Epoch number: 201 and the loss : 199881.453125\n",
      "Epoch number: 211 and the loss : 199816.109375\n",
      "Epoch number: 221 and the loss : 199737.515625\n",
      "Epoch number: 231 and the loss : 199669.53125\n",
      "Epoch number: 241 and the loss : 199589.75\n",
      "Epoch number: 251 and the loss : 199506.0625\n",
      "Epoch number: 261 and the loss : 199411.125\n",
      "Epoch number: 271 and the loss : 199324.109375\n",
      "Epoch number: 281 and the loss : 199244.21875\n",
      "Epoch number: 291 and the loss : 199140.515625\n",
      "Epoch number: 301 and the loss : 199028.703125\n",
      "Epoch number: 311 and the loss : 198933.921875\n",
      "Epoch number: 321 and the loss : 198846.6875\n",
      "Epoch number: 331 and the loss : 198711.25\n",
      "Epoch number: 341 and the loss : 198605.765625\n",
      "Epoch number: 351 and the loss : 198496.921875\n",
      "Epoch number: 361 and the loss : 198388.359375\n",
      "Epoch number: 371 and the loss : 198249.1875\n",
      "Epoch number: 381 and the loss : 198106.75\n",
      "Epoch number: 391 and the loss : 198017.71875\n",
      "Epoch number: 401 and the loss : 197887.21875\n",
      "Epoch number: 411 and the loss : 197730.328125\n",
      "Epoch number: 421 and the loss : 197596.59375\n",
      "Epoch number: 431 and the loss : 197424.890625\n",
      "Epoch number: 441 and the loss : 197287.953125\n",
      "Epoch number: 451 and the loss : 197174.15625\n",
      "Epoch number: 461 and the loss : 196966.25\n",
      "Epoch number: 471 and the loss : 196885.46875\n",
      "Epoch number: 481 and the loss : 196709.359375\n",
      "Epoch number: 491 and the loss : 196512.125\n",
      "Epoch number: 501 and the loss : 196439.078125\n",
      "Epoch number: 511 and the loss : 196209.453125\n",
      "Epoch number: 521 and the loss : 196046.203125\n",
      "Epoch number: 531 and the loss : 195852.625\n",
      "Epoch number: 541 and the loss : 195667.671875\n",
      "Epoch number: 551 and the loss : 195463.375\n",
      "Epoch number: 561 and the loss : 195286.5625\n",
      "Epoch number: 571 and the loss : 195081.109375\n",
      "Epoch number: 581 and the loss : 194844.609375\n",
      "Epoch number: 591 and the loss : 194698.03125\n",
      "Epoch number: 601 and the loss : 194524.734375\n",
      "Epoch number: 611 and the loss : 194292.9375\n",
      "Epoch number: 621 and the loss : 194127.1875\n",
      "Epoch number: 631 and the loss : 193834.515625\n",
      "Epoch number: 641 and the loss : 193695.421875\n",
      "Epoch number: 651 and the loss : 193481.921875\n",
      "Epoch number: 661 and the loss : 193226.078125\n",
      "Epoch number: 671 and the loss : 193064.484375\n",
      "Epoch number: 681 and the loss : 192782.84375\n",
      "Epoch number: 691 and the loss : 192501.640625\n",
      "Epoch number: 701 and the loss : 192293.25\n",
      "Epoch number: 711 and the loss : 192231.40625\n",
      "Epoch number: 721 and the loss : 191976.8125\n",
      "Epoch number: 731 and the loss : 191634.4375\n",
      "Epoch number: 741 and the loss : 191437.625\n",
      "Epoch number: 751 and the loss : 191177.640625\n",
      "Epoch number: 761 and the loss : 190991.328125\n",
      "Epoch number: 771 and the loss : 190736.234375\n",
      "Epoch number: 781 and the loss : 190484.640625\n",
      "Epoch number: 791 and the loss : 190304.5625\n",
      "Epoch number: 801 and the loss : 189869.5625\n",
      "Epoch number: 811 and the loss : 189769.96875\n",
      "Epoch number: 821 and the loss : 189722.8125\n",
      "Epoch number: 831 and the loss : 189314.640625\n",
      "Epoch number: 841 and the loss : 188943.65625\n",
      "Epoch number: 851 and the loss : 188840.625\n",
      "Epoch number: 861 and the loss : 188391.171875\n",
      "Epoch number: 871 and the loss : 188180.765625\n",
      "Epoch number: 881 and the loss : 187897.921875\n",
      "Epoch number: 891 and the loss : 187491.625\n",
      "Epoch number: 901 and the loss : 187533.46875\n",
      "Epoch number: 911 and the loss : 187259.25\n",
      "Epoch number: 921 and the loss : 186809.40625\n",
      "Epoch number: 931 and the loss : 186386.578125\n",
      "Epoch number: 941 and the loss : 186153.9375\n",
      "Epoch number: 951 and the loss : 185968.40625\n",
      "Epoch number: 961 and the loss : 185552.375\n",
      "Epoch number: 971 and the loss : 185331.640625\n",
      "Epoch number: 981 and the loss : 185094.875\n",
      "Epoch number: 991 and the loss : 184815.0\n",
      "Epoch number: 1001 and the loss : 184328.09375\n",
      "Epoch number: 1011 and the loss : 184007.421875\n",
      "Epoch number: 1021 and the loss : 183811.140625\n",
      "Epoch number: 1031 and the loss : 183387.390625\n",
      "Epoch number: 1041 and the loss : 183243.609375\n",
      "Epoch number: 1051 and the loss : 182906.9375\n",
      "Epoch number: 1061 and the loss : 182551.328125\n",
      "Epoch number: 1071 and the loss : 182303.078125\n",
      "Epoch number: 1081 and the loss : 181908.609375\n",
      "Epoch number: 1091 and the loss : 181504.640625\n",
      "Epoch number: 1101 and the loss : 181320.09375\n",
      "Epoch number: 1111 and the loss : 180763.34375\n",
      "Epoch number: 1121 and the loss : 180498.734375\n",
      "Epoch number: 1131 and the loss : 180414.21875\n",
      "Epoch number: 1141 and the loss : 179944.765625\n",
      "Epoch number: 1151 and the loss : 179529.015625\n",
      "Epoch number: 1161 and the loss : 179378.265625\n",
      "Epoch number: 1171 and the loss : 178962.453125\n",
      "Epoch number: 1181 and the loss : 178563.828125\n",
      "Epoch number: 1191 and the loss : 178091.078125\n",
      "Epoch number: 1201 and the loss : 178099.609375\n",
      "Epoch number: 1211 and the loss : 177481.8125\n",
      "Epoch number: 1221 and the loss : 177507.75\n",
      "Epoch number: 1231 and the loss : 176570.875\n",
      "Epoch number: 1241 and the loss : 176362.171875\n",
      "Epoch number: 1251 and the loss : 175560.1875\n",
      "Epoch number: 1261 and the loss : 175600.59375\n",
      "Epoch number: 1271 and the loss : 175262.546875\n",
      "Epoch number: 1281 and the loss : 174948.296875\n",
      "Epoch number: 1291 and the loss : 174475.234375\n",
      "Epoch number: 1301 and the loss : 174248.25\n",
      "Epoch number: 1311 and the loss : 173712.4375\n",
      "Epoch number: 1321 and the loss : 173134.703125\n",
      "Epoch number: 1331 and the loss : 173427.109375\n",
      "Epoch number: 1341 and the loss : 172679.15625\n",
      "Epoch number: 1351 and the loss : 172271.578125\n",
      "Epoch number: 1361 and the loss : 172047.6875\n",
      "Epoch number: 1371 and the loss : 171853.96875\n",
      "Epoch number: 1381 and the loss : 171318.546875\n",
      "Epoch number: 1391 and the loss : 170408.921875\n",
      "Epoch number: 1401 and the loss : 170518.1875\n",
      "Epoch number: 1411 and the loss : 169658.34375\n",
      "Epoch number: 1421 and the loss : 169878.203125\n",
      "Epoch number: 1431 and the loss : 169476.796875\n",
      "Epoch number: 1441 and the loss : 168689.453125\n",
      "Epoch number: 1451 and the loss : 168630.96875\n",
      "Epoch number: 1461 and the loss : 167950.671875\n",
      "Epoch number: 1471 and the loss : 167599.0\n",
      "Epoch number: 1481 and the loss : 167355.34375\n",
      "Epoch number: 1491 and the loss : 166635.328125\n",
      "Epoch number: 1501 and the loss : 166341.75\n",
      "Epoch number: 1511 and the loss : 165569.328125\n",
      "Epoch number: 1521 and the loss : 165833.28125\n",
      "Epoch number: 1531 and the loss : 165327.34375\n",
      "Epoch number: 1541 and the loss : 164540.609375\n",
      "Epoch number: 1551 and the loss : 164520.59375\n",
      "Epoch number: 1561 and the loss : 163696.34375\n",
      "Epoch number: 1571 and the loss : 163461.203125\n",
      "Epoch number: 1581 and the loss : 163078.546875\n",
      "Epoch number: 1591 and the loss : 162945.9375\n",
      "Epoch number: 1601 and the loss : 162470.234375\n",
      "Epoch number: 1611 and the loss : 161679.03125\n",
      "Epoch number: 1621 and the loss : 160774.875\n",
      "Epoch number: 1631 and the loss : 160834.65625\n",
      "Epoch number: 1641 and the loss : 160880.265625\n",
      "Epoch number: 1651 and the loss : 160148.78125\n",
      "Epoch number: 1661 and the loss : 160142.421875\n",
      "Epoch number: 1671 and the loss : 159061.765625\n",
      "Epoch number: 1681 and the loss : 158372.453125\n",
      "Epoch number: 1691 and the loss : 158335.15625\n",
      "Epoch number: 1701 and the loss : 157598.828125\n",
      "Epoch number: 1711 and the loss : 157376.515625\n",
      "Epoch number: 1721 and the loss : 157186.3125\n",
      "Epoch number: 1731 and the loss : 156686.484375\n",
      "Epoch number: 1741 and the loss : 156278.75\n",
      "Epoch number: 1751 and the loss : 156204.453125\n",
      "Epoch number: 1761 and the loss : 154723.328125\n",
      "Epoch number: 1771 and the loss : 154387.4375\n",
      "Epoch number: 1781 and the loss : 154051.03125\n",
      "Epoch number: 1791 and the loss : 153738.546875\n",
      "Epoch number: 1801 and the loss : 153658.90625\n",
      "Epoch number: 1811 and the loss : 152867.875\n",
      "Epoch number: 1821 and the loss : 152266.3125\n",
      "Epoch number: 1831 and the loss : 152431.390625\n",
      "Epoch number: 1841 and the loss : 151551.671875\n",
      "Epoch number: 1851 and the loss : 150623.078125\n",
      "Epoch number: 1861 and the loss : 150794.171875\n",
      "Epoch number: 1871 and the loss : 150079.34375\n",
      "Epoch number: 1881 and the loss : 149298.640625\n",
      "Epoch number: 1891 and the loss : 149023.15625\n",
      "Epoch number: 1901 and the loss : 148660.46875\n",
      "Epoch number: 1911 and the loss : 149031.296875\n",
      "Epoch number: 1921 and the loss : 147770.6875\n",
      "Epoch number: 1931 and the loss : 147350.296875\n",
      "Epoch number: 1941 and the loss : 146769.890625\n",
      "Epoch number: 1951 and the loss : 146534.6875\n",
      "Epoch number: 1961 and the loss : 146049.875\n",
      "Epoch number: 1971 and the loss : 145588.328125\n",
      "Epoch number: 1981 and the loss : 145801.328125\n",
      "Epoch number: 1991 and the loss : 144885.109375\n",
      "Epoch number: 2001 and the loss : 144120.015625\n",
      "Epoch number: 2011 and the loss : 143096.90625\n",
      "Epoch number: 2021 and the loss : 142945.21875\n",
      "Epoch number: 2031 and the loss : 142515.75\n",
      "Epoch number: 2041 and the loss : 142008.0625\n",
      "Epoch number: 2051 and the loss : 141094.21875\n",
      "Epoch number: 2061 and the loss : 141008.875\n",
      "Epoch number: 2071 and the loss : 140972.5\n",
      "Epoch number: 2081 and the loss : 139720.265625\n",
      "Epoch number: 2091 and the loss : 139690.171875\n",
      "Epoch number: 2101 and the loss : 139440.578125\n",
      "Epoch number: 2111 and the loss : 138708.84375\n",
      "Epoch number: 2121 and the loss : 137875.0625\n",
      "Epoch number: 2131 and the loss : 137936.109375\n",
      "Epoch number: 2141 and the loss : 137304.421875\n",
      "Epoch number: 2151 and the loss : 136640.21875\n",
      "Epoch number: 2161 and the loss : 136453.03125\n",
      "Epoch number: 2171 and the loss : 136528.09375\n",
      "Epoch number: 2181 and the loss : 135877.25\n",
      "Epoch number: 2191 and the loss : 134907.203125\n",
      "Epoch number: 2201 and the loss : 134295.265625\n",
      "Epoch number: 2211 and the loss : 133855.703125\n",
      "Epoch number: 2221 and the loss : 132812.96875\n",
      "Epoch number: 2231 and the loss : 132674.9375\n",
      "Epoch number: 2241 and the loss : 131456.390625\n",
      "Epoch number: 2251 and the loss : 131702.90625\n",
      "Epoch number: 2261 and the loss : 130347.6171875\n",
      "Epoch number: 2271 and the loss : 130488.515625\n",
      "Epoch number: 2281 and the loss : 130308.4765625\n",
      "Epoch number: 2291 and the loss : 129444.0078125\n",
      "Epoch number: 2301 and the loss : 128942.328125\n",
      "Epoch number: 2311 and the loss : 129859.2734375\n",
      "Epoch number: 2321 and the loss : 128325.296875\n",
      "Epoch number: 2331 and the loss : 128689.1171875\n",
      "Epoch number: 2341 and the loss : 128379.6171875\n",
      "Epoch number: 2351 and the loss : 126373.0625\n",
      "Epoch number: 2361 and the loss : 126345.578125\n",
      "Epoch number: 2371 and the loss : 125805.15625\n",
      "Epoch number: 2381 and the loss : 124891.1484375\n",
      "Epoch number: 2391 and the loss : 124780.7421875\n",
      "Epoch number: 2401 and the loss : 124371.0078125\n",
      "Epoch number: 2411 and the loss : 123416.796875\n",
      "Epoch number: 2421 and the loss : 123282.75\n",
      "Epoch number: 2431 and the loss : 122439.9765625\n",
      "Epoch number: 2441 and the loss : 122985.265625\n",
      "Epoch number: 2451 and the loss : 121266.9375\n",
      "Epoch number: 2461 and the loss : 120334.2109375\n",
      "Epoch number: 2471 and the loss : 120829.3046875\n",
      "Epoch number: 2481 and the loss : 120523.4921875\n",
      "Epoch number: 2491 and the loss : 121534.0234375\n",
      "Epoch number: 2501 and the loss : 119608.9609375\n",
      "Epoch number: 2511 and the loss : 118736.4921875\n",
      "Epoch number: 2521 and the loss : 117755.96875\n",
      "Epoch number: 2531 and the loss : 118378.1015625\n",
      "Epoch number: 2541 and the loss : 117446.921875\n",
      "Epoch number: 2551 and the loss : 117066.0703125\n",
      "Epoch number: 2561 and the loss : 116532.5234375\n",
      "Epoch number: 2571 and the loss : 115722.578125\n",
      "Epoch number: 2581 and the loss : 116055.65625\n",
      "Epoch number: 2591 and the loss : 115627.6171875\n",
      "Epoch number: 2601 and the loss : 114427.0625\n",
      "Epoch number: 2611 and the loss : 114383.484375\n",
      "Epoch number: 2621 and the loss : 114581.2109375\n",
      "Epoch number: 2631 and the loss : 112604.6015625\n",
      "Epoch number: 2641 and the loss : 112150.8671875\n",
      "Epoch number: 2651 and the loss : 112326.953125\n",
      "Epoch number: 2661 and the loss : 111397.8828125\n",
      "Epoch number: 2671 and the loss : 110895.3359375\n",
      "Epoch number: 2681 and the loss : 110295.1953125\n",
      "Epoch number: 2691 and the loss : 111596.046875\n",
      "Epoch number: 2701 and the loss : 109815.1484375\n",
      "Epoch number: 2711 and the loss : 109307.3984375\n",
      "Epoch number: 2721 and the loss : 109021.3671875\n",
      "Epoch number: 2731 and the loss : 108512.3359375\n",
      "Epoch number: 2741 and the loss : 107427.46875\n",
      "Epoch number: 2751 and the loss : 106891.0859375\n",
      "Epoch number: 2761 and the loss : 106115.0\n",
      "Epoch number: 2771 and the loss : 106643.453125\n",
      "Epoch number: 2781 and the loss : 105480.9140625\n",
      "Epoch number: 2791 and the loss : 104628.4296875\n",
      "Epoch number: 2801 and the loss : 103533.5390625\n",
      "Epoch number: 2811 and the loss : 104156.265625\n",
      "Epoch number: 2821 and the loss : 102871.21875\n",
      "Epoch number: 2831 and the loss : 103180.125\n",
      "Epoch number: 2841 and the loss : 102588.828125\n",
      "Epoch number: 2851 and the loss : 101292.8125\n",
      "Epoch number: 2861 and the loss : 102197.28125\n",
      "Epoch number: 2871 and the loss : 100734.796875\n",
      "Epoch number: 2881 and the loss : 100810.2109375\n",
      "Epoch number: 2891 and the loss : 100589.8828125\n",
      "Epoch number: 2901 and the loss : 98855.5625\n",
      "Epoch number: 2911 and the loss : 98188.9140625\n",
      "Epoch number: 2921 and the loss : 98474.5546875\n",
      "Epoch number: 2931 and the loss : 98813.4921875\n",
      "Epoch number: 2941 and the loss : 97116.875\n",
      "Epoch number: 2951 and the loss : 97288.484375\n",
      "Epoch number: 2961 and the loss : 96551.6875\n",
      "Epoch number: 2971 and the loss : 95220.9609375\n",
      "Epoch number: 2981 and the loss : 95182.8828125\n",
      "Epoch number: 2991 and the loss : 94409.859375\n",
      "Epoch number: 3001 and the loss : 93950.6953125\n",
      "Epoch number: 3011 and the loss : 93941.40625\n",
      "Epoch number: 3021 and the loss : 93103.4453125\n",
      "Epoch number: 3031 and the loss : 92706.890625\n",
      "Epoch number: 3041 and the loss : 92652.46875\n",
      "Epoch number: 3051 and the loss : 91603.0\n",
      "Epoch number: 3061 and the loss : 93918.6484375\n",
      "Epoch number: 3071 and the loss : 91145.515625\n",
      "Epoch number: 3081 and the loss : 90787.03125\n",
      "Epoch number: 3091 and the loss : 89699.4375\n",
      "Epoch number: 3101 and the loss : 89453.953125\n",
      "Epoch number: 3111 and the loss : 89331.5859375\n",
      "Epoch number: 3121 and the loss : 89319.265625\n",
      "Epoch number: 3131 and the loss : 87878.03125\n",
      "Epoch number: 3141 and the loss : 87959.5390625\n",
      "Epoch number: 3151 and the loss : 87658.4296875\n",
      "Epoch number: 3161 and the loss : 86330.4296875\n",
      "Epoch number: 3171 and the loss : 86749.671875\n",
      "Epoch number: 3181 and the loss : 86090.65625\n",
      "Epoch number: 3191 and the loss : 86453.8515625\n",
      "Epoch number: 3201 and the loss : 84766.8671875\n",
      "Epoch number: 3211 and the loss : 84071.1328125\n",
      "Epoch number: 3221 and the loss : 82996.6015625\n",
      "Epoch number: 3231 and the loss : 84302.359375\n",
      "Epoch number: 3241 and the loss : 82246.65625\n",
      "Epoch number: 3251 and the loss : 81573.3203125\n",
      "Epoch number: 3261 and the loss : 81357.3515625\n",
      "Epoch number: 3271 and the loss : 82328.1640625\n",
      "Epoch number: 3281 and the loss : 80963.7578125\n",
      "Epoch number: 3291 and the loss : 82345.734375\n",
      "Epoch number: 3301 and the loss : 79905.0546875\n",
      "Epoch number: 3311 and the loss : 79256.1953125\n",
      "Epoch number: 3321 and the loss : 79398.0703125\n",
      "Epoch number: 3331 and the loss : 78756.4921875\n",
      "Epoch number: 3341 and the loss : 77607.0390625\n",
      "Epoch number: 3351 and the loss : 77111.2421875\n",
      "Epoch number: 3361 and the loss : 76890.8515625\n",
      "Epoch number: 3371 and the loss : 76255.34375\n",
      "Epoch number: 3381 and the loss : 78245.2578125\n",
      "Epoch number: 3391 and the loss : 74818.796875\n",
      "Epoch number: 3401 and the loss : 74497.71875\n",
      "Epoch number: 3411 and the loss : 74254.3203125\n",
      "Epoch number: 3421 and the loss : 73617.71875\n",
      "Epoch number: 3431 and the loss : 73675.1484375\n",
      "Epoch number: 3441 and the loss : 73397.5390625\n",
      "Epoch number: 3451 and the loss : 72873.1640625\n",
      "Epoch number: 3461 and the loss : 72461.953125\n",
      "Epoch number: 3471 and the loss : 71997.515625\n",
      "Epoch number: 3481 and the loss : 71399.796875\n",
      "Epoch number: 3491 and the loss : 70568.3046875\n",
      "Epoch number: 3501 and the loss : 69194.375\n",
      "Epoch number: 3511 and the loss : 69154.34375\n",
      "Epoch number: 3521 and the loss : 69112.1328125\n",
      "Epoch number: 3531 and the loss : 69326.828125\n",
      "Epoch number: 3541 and the loss : 68728.0546875\n",
      "Epoch number: 3551 and the loss : 68347.5078125\n",
      "Epoch number: 3561 and the loss : 66668.015625\n",
      "Epoch number: 3571 and the loss : 66345.140625\n",
      "Epoch number: 3581 and the loss : 66434.0546875\n",
      "Epoch number: 3591 and the loss : 66422.171875\n",
      "Epoch number: 3601 and the loss : 64388.51171875\n",
      "Epoch number: 3611 and the loss : 65483.359375\n",
      "Epoch number: 3621 and the loss : 65670.5859375\n",
      "Epoch number: 3631 and the loss : 63506.36328125\n",
      "Epoch number: 3641 and the loss : 65108.65234375\n",
      "Epoch number: 3651 and the loss : 62449.25\n",
      "Epoch number: 3661 and the loss : 64084.70703125\n",
      "Epoch number: 3671 and the loss : 61814.00390625\n",
      "Epoch number: 3681 and the loss : 61208.30859375\n",
      "Epoch number: 3691 and the loss : 61419.7265625\n",
      "Epoch number: 3701 and the loss : 60506.0703125\n",
      "Epoch number: 3711 and the loss : 62220.87890625\n",
      "Epoch number: 3721 and the loss : 59843.8046875\n",
      "Epoch number: 3731 and the loss : 57648.1796875\n",
      "Epoch number: 3741 and the loss : 58164.86328125\n",
      "Epoch number: 3751 and the loss : 59149.703125\n",
      "Epoch number: 3761 and the loss : 58893.94921875\n",
      "Epoch number: 3771 and the loss : 57437.24609375\n",
      "Epoch number: 3781 and the loss : 56032.82421875\n",
      "Epoch number: 3791 and the loss : 56461.43359375\n",
      "Epoch number: 3801 and the loss : 56537.50390625\n",
      "Epoch number: 3811 and the loss : 55829.31640625\n",
      "Epoch number: 3821 and the loss : 56663.34375\n",
      "Epoch number: 3831 and the loss : 54557.1953125\n",
      "Epoch number: 3841 and the loss : 53628.0390625\n",
      "Epoch number: 3851 and the loss : 54937.0234375\n",
      "Epoch number: 3861 and the loss : 55181.78125\n",
      "Epoch number: 3871 and the loss : 52298.1796875\n",
      "Epoch number: 3881 and the loss : 51694.97265625\n",
      "Epoch number: 3891 and the loss : 50492.2421875\n",
      "Epoch number: 3901 and the loss : 53818.1015625\n",
      "Epoch number: 3911 and the loss : 52556.52734375\n",
      "Epoch number: 3921 and the loss : 50838.4140625\n",
      "Epoch number: 3931 and the loss : 50305.33203125\n",
      "Epoch number: 3941 and the loss : 50801.03125\n",
      "Epoch number: 3951 and the loss : 49272.98046875\n",
      "Epoch number: 3961 and the loss : 50798.2265625\n",
      "Epoch number: 3971 and the loss : 49596.56640625\n",
      "Epoch number: 3981 and the loss : 49047.61328125\n",
      "Epoch number: 3991 and the loss : 50220.55859375\n",
      "Epoch number: 4001 and the loss : 51264.234375\n",
      "Epoch number: 4011 and the loss : 46728.01171875\n",
      "Epoch number: 4021 and the loss : 50277.76953125\n",
      "Epoch number: 4031 and the loss : 45470.44921875\n",
      "Epoch number: 4041 and the loss : 46361.625\n",
      "Epoch number: 4051 and the loss : 47736.390625\n",
      "Epoch number: 4061 and the loss : 44088.7421875\n",
      "Epoch number: 4071 and the loss : 46006.2578125\n",
      "Epoch number: 4081 and the loss : 44297.1875\n",
      "Epoch number: 4091 and the loss : 45870.09765625\n",
      "Epoch number: 4101 and the loss : 44744.53515625\n",
      "Epoch number: 4111 and the loss : 44352.59765625\n",
      "Epoch number: 4121 and the loss : 44234.65234375\n",
      "Epoch number: 4131 and the loss : 43745.13671875\n",
      "Epoch number: 4141 and the loss : 44135.7109375\n",
      "Epoch number: 4151 and the loss : 44445.265625\n",
      "Epoch number: 4161 and the loss : 42491.703125\n",
      "Epoch number: 4171 and the loss : 42069.66796875\n",
      "Epoch number: 4181 and the loss : 42310.87109375\n",
      "Epoch number: 4191 and the loss : 42902.015625\n",
      "Epoch number: 4201 and the loss : 41986.734375\n",
      "Epoch number: 4211 and the loss : 41175.46875\n",
      "Epoch number: 4221 and the loss : 40386.63671875\n",
      "Epoch number: 4231 and the loss : 40832.72265625\n",
      "Epoch number: 4241 and the loss : 40483.80078125\n",
      "Epoch number: 4251 and the loss : 40081.67578125\n",
      "Epoch number: 4261 and the loss : 41856.5078125\n",
      "Epoch number: 4271 and the loss : 41573.75\n",
      "Epoch number: 4281 and the loss : 42047.21875\n",
      "Epoch number: 4291 and the loss : 39798.54296875\n",
      "Epoch number: 4301 and the loss : 39964.7734375\n",
      "Epoch number: 4311 and the loss : 40404.390625\n",
      "Epoch number: 4321 and the loss : 40351.140625\n",
      "Epoch number: 4331 and the loss : 38585.00390625\n",
      "Epoch number: 4341 and the loss : 38586.6328125\n",
      "Epoch number: 4351 and the loss : 41906.07421875\n",
      "Epoch number: 4361 and the loss : 39475.76171875\n",
      "Epoch number: 4371 and the loss : 38897.91015625\n",
      "Epoch number: 4381 and the loss : 38793.71484375\n",
      "Epoch number: 4391 and the loss : 36693.25\n",
      "Epoch number: 4401 and the loss : 36954.4609375\n",
      "Epoch number: 4411 and the loss : 38047.12890625\n",
      "Epoch number: 4421 and the loss : 39010.265625\n",
      "Epoch number: 4431 and the loss : 38309.84765625\n",
      "Epoch number: 4441 and the loss : 39081.64453125\n",
      "Epoch number: 4451 and the loss : 38509.05859375\n",
      "Epoch number: 4461 and the loss : 38047.73828125\n",
      "Epoch number: 4471 and the loss : 38468.68359375\n",
      "Epoch number: 4481 and the loss : 36423.42578125\n",
      "Epoch number: 4491 and the loss : 36802.5703125\n",
      "Epoch number: 4501 and the loss : 37733.6484375\n",
      "Epoch number: 4511 and the loss : 38497.38671875\n",
      "Epoch number: 4521 and the loss : 36952.0703125\n",
      "Epoch number: 4531 and the loss : 37640.734375\n",
      "Epoch number: 4541 and the loss : 35480.8515625\n",
      "Epoch number: 4551 and the loss : 35323.32421875\n",
      "Epoch number: 4561 and the loss : 37380.40234375\n",
      "Epoch number: 4571 and the loss : 39220.125\n",
      "Epoch number: 4581 and the loss : 36411.44921875\n",
      "Epoch number: 4591 and the loss : 34920.421875\n",
      "Epoch number: 4601 and the loss : 37072.7734375\n",
      "Epoch number: 4611 and the loss : 35780.89453125\n",
      "Epoch number: 4621 and the loss : 35949.140625\n",
      "Epoch number: 4631 and the loss : 35745.5234375\n",
      "Epoch number: 4641 and the loss : 35376.44140625\n",
      "Epoch number: 4651 and the loss : 35493.91015625\n",
      "Epoch number: 4661 and the loss : 34847.94921875\n",
      "Epoch number: 4671 and the loss : 37840.8984375\n",
      "Epoch number: 4681 and the loss : 36321.6953125\n",
      "Epoch number: 4691 and the loss : 38281.734375\n",
      "Epoch number: 4701 and the loss : 35376.08984375\n",
      "Epoch number: 4711 and the loss : 34115.01953125\n",
      "Epoch number: 4721 and the loss : 35204.21484375\n",
      "Epoch number: 4731 and the loss : 34916.25\n",
      "Epoch number: 4741 and the loss : 35484.671875\n",
      "Epoch number: 4751 and the loss : 35334.3046875\n",
      "Epoch number: 4761 and the loss : 34921.40625\n",
      "Epoch number: 4771 and the loss : 35574.6484375\n",
      "Epoch number: 4781 and the loss : 34259.8125\n",
      "Epoch number: 4791 and the loss : 35601.35546875\n",
      "Epoch number: 4801 and the loss : 35372.328125\n",
      "Epoch number: 4811 and the loss : 35120.2421875\n",
      "Epoch number: 4821 and the loss : 35206.20703125\n",
      "Epoch number: 4831 and the loss : 35925.10546875\n",
      "Epoch number: 4841 and the loss : 36225.38671875\n",
      "Epoch number: 4851 and the loss : 37436.61328125\n",
      "Epoch number: 4861 and the loss : 35532.64453125\n",
      "Epoch number: 4871 and the loss : 35228.140625\n",
      "Epoch number: 4881 and the loss : 36314.03125\n",
      "Epoch number: 4891 and the loss : 35038.21484375\n",
      "Epoch number: 4901 and the loss : 35928.6015625\n",
      "Epoch number: 4911 and the loss : 35343.3828125\n",
      "Epoch number: 4921 and the loss : 34425.93359375\n",
      "Epoch number: 4931 and the loss : 37192.83984375\n",
      "Epoch number: 4941 and the loss : 35269.33203125\n",
      "Epoch number: 4951 and the loss : 33533.171875\n",
      "Epoch number: 4961 and the loss : 35719.02734375\n",
      "Epoch number: 4971 and the loss : 36503.8046875\n",
      "Epoch number: 4981 and the loss : 34639.3203125\n",
      "Epoch number: 4991 and the loss : 33965.3828125\n"
     ]
    }
   ],
   "source": [
    "epochs=5000\n",
    "final_losses=[]\n",
    "for i in range(epochs):\n",
    "    i=i+1\n",
    "    y_pred=model(train_categorical,train_cont)\n",
    "    loss=torch.sqrt(loss_function(y_pred,y_train)) ### RMSE\n",
    "    final_losses.append(loss)\n",
    "    if i%10==1:\n",
    "        print(\"Epoch number: {} and the loss : {}\".format(i,loss.item()))\n",
    "    optimizer.zero_grad()\n",
    "    loss.backward()\n",
    "    optimizer.step()"
   ]
  },
  {
   "cell_type": "code",
   "execution_count": 28,
   "id": "25f80b55-1e0d-407a-85fc-74d4cfe22b6a",
   "metadata": {},
   "outputs": [
    {
     "data": {
      "image/png": "[encoded data removed]",
      "text/plain": [
       "<Figure size 432x288 with 1 Axes>"
      ]
     },
     "metadata": {
      "needs_background": "light"
     },
     "output_type": "display_data"
    }
   ],
   "source": [
    "import matplotlib.pyplot as plt\n",
    "%matplotlib inline\n",
    "plt.plot(range(epochs), final_losses)\n",
    "plt.ylabel('RMSE Loss')\n",
    "plt.xlabel('epoch');"
   ]
  },
  {
   "cell_type": "code",
   "execution_count": 34,
   "id": "53ef3910-5b49-4d24-8466-df5a334460dc",
   "metadata": {},
   "outputs": [
    {
     "name": "stdout",
     "output_type": "stream",
     "text": [
      "RMSE: 44063.47265625\n"
     ]
    },
    {
     "data": {
      "text/plain": [
       "tensor([[138206.2656],\n",
       "        [185815.2969],\n",
       "        [183497.3594],\n",
       "        [219941.6719],\n",
       "        [166235.8438]])"
      ]
     },
     "execution_count": 34,
     "metadata": {},
     "output_type": "execute_result"
    }
   ],
   "source": [
    "#### Validate the Test Data\n",
    "y_pred=\"\"\n",
    "with torch.no_grad():\n",
    "    y_pred=model(test_categorical,test_cont)\n",
    "    loss=torch.sqrt(loss_function(y_pred,y_test))\n",
    "print('RMSE: {}'.format(loss))\n",
    "y_pred[:5]"
   ]
  },
  {
   "cell_type": "code",
   "execution_count": 35,
   "id": "2a374542-decd-48f6-9e8f-5ca9d0c98772",
   "metadata": {},
   "outputs": [
    {
     "data": {
      "text/html": [
       "<div>\n",
       "<style scoped>\n",
       "    .dataframe tbody tr th:only-of-type {\n",
       "        vertical-align: middle;\n",
       "    }\n",
       "\n",
       "    .dataframe tbody tr th {\n",
       "        vertical-align: top;\n",
       "    }\n",
       "\n",
       "    .dataframe thead th {\n",
       "        text-align: right;\n",
       "    }\n",
       "</style>\n",
       "<table border=\"1\" class=\"dataframe\">\n",
       "  <thead>\n",
       "    <tr style=\"text-align: right;\">\n",
       "      <th></th>\n",
       "      <th>Test</th>\n",
       "      <th>Prediction</th>\n",
       "      <th>Difference</th>\n",
       "    </tr>\n",
       "  </thead>\n",
       "  <tbody>\n",
       "    <tr>\n",
       "      <th>0</th>\n",
       "      <td>130000.0</td>\n",
       "      <td>138206.265625</td>\n",
       "      <td>-8206.265625</td>\n",
       "    </tr>\n",
       "    <tr>\n",
       "      <th>1</th>\n",
       "      <td>138887.0</td>\n",
       "      <td>185815.296875</td>\n",
       "      <td>-46928.296875</td>\n",
       "    </tr>\n",
       "    <tr>\n",
       "      <th>2</th>\n",
       "      <td>175500.0</td>\n",
       "      <td>183497.359375</td>\n",
       "      <td>-7997.359375</td>\n",
       "    </tr>\n",
       "    <tr>\n",
       "      <th>3</th>\n",
       "      <td>195000.0</td>\n",
       "      <td>219941.671875</td>\n",
       "      <td>-24941.671875</td>\n",
       "    </tr>\n",
       "    <tr>\n",
       "      <th>4</th>\n",
       "      <td>142500.0</td>\n",
       "      <td>166235.843750</td>\n",
       "      <td>-23735.843750</td>\n",
       "    </tr>\n",
       "  </tbody>\n",
       "</table>\n",
       "</div>"
      ],
      "text/plain": [
       "       Test     Prediction    Difference\n",
       "0  130000.0  138206.265625  -8206.265625\n",
       "1  138887.0  185815.296875 -46928.296875\n",
       "2  175500.0  183497.359375  -7997.359375\n",
       "3  195000.0  219941.671875 -24941.671875\n",
       "4  142500.0  166235.843750 -23735.843750"
      ]
     },
     "execution_count": 35,
     "metadata": {},
     "output_type": "execute_result"
    }
   ],
   "source": [
    "data_predicted=pd.DataFrame(y_pred.tolist(),columns=[\"Prediction\"])\n",
    "data_verify=pd.DataFrame(y_test.tolist(),columns=[\"Test\"])\n",
    "final_output=pd.concat([data_verify,data_predicted],axis=1)\n",
    "final_output['Difference']=final_output['Test']-final_output['Prediction']\n",
    "final_output.head()"
   ]
  },
  {
   "cell_type": "code",
   "execution_count": 37,
   "id": "e2512edd-66aa-49b9-a785-7c7b891a4cdb",
   "metadata": {},
   "outputs": [],
   "source": [
    "#### Saving The Model\n",
    "torch.save(model,'HousePrice.pt')\n",
    "#### Save the weiights\n",
    "torch.save(model.state_dict(),'HouseWeights.pt')\n"
   ]
  },
  {
   "cell_type": "code",
   "execution_count": 38,
   "id": "fd6f9ba9-8094-4b8a-b1f6-692099f4a853",
   "metadata": {},
   "outputs": [],
   "source": [
    "### Loading the saved Model\n",
    "embs_size=[(15, 8), (5, 3), (2, 1), (4, 2)]\n",
    "model1=FeedForwardNN(embs_size,5,1,[100,50],p=0.4)"
   ]
  },
  {
   "cell_type": "code",
   "execution_count": 39,
   "id": "e2ecb743-047d-48d4-99c9-f36675f78179",
   "metadata": {},
   "outputs": [
    {
     "data": {
      "text/plain": [
       "<All keys matched successfully>"
      ]
     },
     "execution_count": 39,
     "metadata": {},
     "output_type": "execute_result"
    }
   ],
   "source": [
    "model1.load_state_dict(torch.load('HouseWeights.pt'))"
   ]
  },
  {
   "cell_type": "code",
   "execution_count": 40,
   "id": "861af721-fefb-4731-a166-10078d93511c",
   "metadata": {},
   "outputs": [
    {
     "data": {
      "text/plain": [
       "FeedForwardNN(\n",
       "  (embeds): ModuleList(\n",
       "    (0): Embedding(15, 8)\n",
       "    (1): Embedding(5, 3)\n",
       "    (2): Embedding(2, 1)\n",
       "    (3): Embedding(4, 2)\n",
       "  )\n",
       "  (emb_drop): Dropout(p=0.4, inplace=False)\n",
       "  (bn_cont): BatchNorm1d(5, eps=1e-05, momentum=0.1, affine=True, track_running_stats=True)\n",
       "  (layers): Sequential(\n",
       "    (0): Linear(in_features=19, out_features=100, bias=True)\n",
       "    (1): ReLU(inplace=True)\n",
       "    (2): BatchNorm1d(100, eps=1e-05, momentum=0.1, affine=True, track_running_stats=True)\n",
       "    (3): Dropout(p=0.4, inplace=False)\n",
       "    (4): Linear(in_features=100, out_features=50, bias=True)\n",
       "    (5): ReLU(inplace=True)\n",
       "    (6): BatchNorm1d(50, eps=1e-05, momentum=0.1, affine=True, track_running_stats=True)\n",
       "    (7): Dropout(p=0.4, inplace=False)\n",
       "    (8): Linear(in_features=50, out_features=1, bias=True)\n",
       "  )\n",
       ")"
      ]
     },
     "execution_count": 40,
     "metadata": {},
     "output_type": "execute_result"
    }
   ],
   "source": [
    "model1.eval()"
   ]
  }
 ],
 "metadata": {
  "kernelspec": {
   "display_name": "Python 3 (ipykernel)",
   "language": "python",
   "name": "python3"
  },
  "language_info": {
   "codemirror_mode": {
    "name": "ipython",
    "version": 3
   },
   "file_extension": ".py",
   "mimetype": "text/x-python",
   "name": "python",
   "nbconvert_exporter": "python",
   "pygments_lexer": "ipython3",
   "version": "3.10.7"
  }
 },
 "nbformat": 4,
 "nbformat_minor": 5
}
