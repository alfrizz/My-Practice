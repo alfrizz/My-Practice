{
 "cells": [
  {
   "cell_type": "code",
   "execution_count": 1,
   "id": "c884598b-537e-4b05-86f5-c0652e0c806b",
   "metadata": {},
   "outputs": [
    {
     "name": "stdout",
     "output_type": "stream",
     "text": [
      "py310\n"
     ]
    }
   ],
   "source": [
    "# !python -m ipykernel install --user --name Py310 --display-name Py310\n",
    "import os\n",
    "import torch\n",
    "import torch.nn as nn\n",
    "import torch.nn.functional as F\n",
    "import pandas as pd\n",
    "import seaborn as sns\n",
    "import numpy as np\n",
    "print (os.environ['CONDA_DEFAULT_ENV'])"
   ]
  },
  {
   "cell_type": "code",
   "execution_count": 2,
   "id": "b3c24df6-ee04-40f0-bd85-c8871bf855e6",
   "metadata": {},
   "outputs": [
    {
     "name": "stdout",
     "output_type": "stream",
     "text": [
      "Python 3.10.11\n"
     ]
    }
   ],
   "source": [
    "! python --version"
   ]
  },
  {
   "cell_type": "code",
   "execution_count": 3,
   "id": "22b00c8f-db63-47e4-8ed7-8434fc50c538",
   "metadata": {},
   "outputs": [
    {
     "name": "stdout",
     "output_type": "stream",
     "text": [
      "nvcc: NVIDIA (R) Cuda compiler driver\n",
      "Copyright (c) 2005-2022 NVIDIA Corporation\n",
      "Built on Tue_May__3_19:00:59_Pacific_Daylight_Time_2022\n",
      "Cuda compilation tools, release 11.7, V11.7.64\n",
      "Build cuda_11.7.r11.7/compiler.31294372_0\n"
     ]
    }
   ],
   "source": [
    "! nvcc --version"
   ]
  },
  {
   "cell_type": "code",
   "execution_count": 4,
   "id": "9b90dafe-a3fb-444a-87e4-62e5bb6955c6",
   "metadata": {},
   "outputs": [
    {
     "name": "stdout",
     "output_type": "stream",
     "text": [
      "\n",
      "     active environment : py310\n",
      "    active env location : C:\\Users\\Alienware\\miniconda3\\envs\\py310\n",
      "            shell level : 2\n",
      "       user config file : C:\\Users\\Alienware\\.condarc\n",
      " populated config files : \n",
      "          conda version : 23.3.1\n",
      "    conda-build version : not installed\n",
      "         python version : 3.10.10.final.0\n",
      "       virtual packages : __archspec=1=x86_64\n",
      "                          __cuda=12.0=0\n",
      "                          __win=0=0\n",
      "       base environment : C:\\Users\\Alienware\\miniconda3  (writable)\n",
      "      conda av data dir : C:\\Users\\Alienware\\miniconda3\\etc\\conda\n",
      "  conda av metadata url : None\n",
      "           channel URLs : https://repo.anaconda.com/pkgs/main/win-64\n",
      "                          https://repo.anaconda.com/pkgs/main/noarch\n",
      "                          https://repo.anaconda.com/pkgs/r/win-64\n",
      "                          https://repo.anaconda.com/pkgs/r/noarch\n",
      "                          https://repo.anaconda.com/pkgs/msys2/win-64\n",
      "                          https://repo.anaconda.com/pkgs/msys2/noarch\n",
      "          package cache : C:\\Users\\Alienware\\miniconda3\\pkgs\n",
      "                          C:\\Users\\Alienware\\.conda\\pkgs\n",
      "                          C:\\Users\\Alienware\\AppData\\Local\\conda\\conda\\pkgs\n",
      "       envs directories : C:\\Users\\Alienware\\miniconda3\\envs\n",
      "                          C:\\Users\\Alienware\\.conda\\envs\n",
      "                          C:\\Users\\Alienware\\AppData\\Local\\conda\\conda\\envs\n",
      "               platform : win-64\n",
      "             user-agent : conda/23.3.1 requests/2.28.1 CPython/3.10.10 Windows/10 Windows/10.0.22621\n",
      "          administrator : False\n",
      "             netrc file : None\n",
      "           offline mode : False\n",
      "\n"
     ]
    }
   ],
   "source": [
    "!conda info"
   ]
  },
  {
   "cell_type": "code",
   "execution_count": null,
   "id": "8634b77e-3bc2-488d-9cfe-e78f15c1509a",
   "metadata": {},
   "outputs": [],
   "source": [
    "print(torch.__version__)"
   ]
  },
  {
   "cell_type": "code",
   "execution_count": null,
   "id": "6116bbc6-4de7-47e4-a428-11c224f3b9d0",
   "metadata": {},
   "outputs": [],
   "source": [
    "torch.cuda.is_available()"
   ]
  },
  {
   "cell_type": "code",
   "execution_count": null,
   "id": "d002461c-0b72-466e-bbbe-825085487097",
   "metadata": {},
   "outputs": [],
   "source": [
    "torch.cuda.current_device()"
   ]
  },
  {
   "cell_type": "code",
   "execution_count": null,
   "id": "cbf9d574-5715-4100-9222-865bec07acdf",
   "metadata": {},
   "outputs": [],
   "source": [
    "torch.cuda.get_device_name(0)"
   ]
  },
  {
   "cell_type": "code",
   "execution_count": null,
   "id": "f203ac54-a23b-44fa-8e40-f4a0ca1e47d4",
   "metadata": {},
   "outputs": [],
   "source": [
    "torch.cuda.memory_allocated()"
   ]
  },
  {
   "cell_type": "code",
   "execution_count": null,
   "id": "e624f462-cd0e-45ae-8a07-1390ff20d08b",
   "metadata": {},
   "outputs": [],
   "source": [
    "torch.cuda.memory_cached()"
   ]
  },
  {
   "cell_type": "code",
   "execution_count": null,
   "id": "485388d5-77c5-4565-bfbd-7200cd8117ed",
   "metadata": {},
   "outputs": [],
   "source": [
    "var1=torch.FloatTensor([1.0,2.0,3.0])\n",
    "var1"
   ]
  },
  {
   "cell_type": "code",
   "execution_count": null,
   "id": "9ae87023-4793-4f8b-9476-581f93ffb9cf",
   "metadata": {},
   "outputs": [],
   "source": [
    "var1.device"
   ]
  },
  {
   "cell_type": "code",
   "execution_count": null,
   "id": "1541cbf8-0d90-418c-b59a-b161169c08b6",
   "metadata": {},
   "outputs": [],
   "source": [
    "var2=torch.FloatTensor([1.0,2.0,3.0]).cuda()\n",
    "var2"
   ]
  },
  {
   "cell_type": "code",
   "execution_count": null,
   "id": "ebd1f7ab-b48e-48f5-93d1-f9e848d288ac",
   "metadata": {},
   "outputs": [],
   "source": [
    "var2.device"
   ]
  },
  {
   "cell_type": "code",
   "execution_count": null,
   "id": "f71763ce-b8f7-4579-a3f7-2cd755300de5",
   "metadata": {},
   "outputs": [],
   "source": [
    "\n",
    "df=pd.read_csv('diabetes.csv')\n",
    "df.head()"
   ]
  },
  {
   "cell_type": "code",
   "execution_count": null,
   "id": "4a6fe839-fb5d-4403-b83c-9ce24f271672",
   "metadata": {},
   "outputs": [],
   "source": [
    "df.isnull().sum()"
   ]
  },
  {
   "cell_type": "code",
   "execution_count": null,
   "id": "2c859649-b4f6-47db-9de3-4dec089ca068",
   "metadata": {},
   "outputs": [],
   "source": [
    "sns.pairplot(df,hue=\"Outcome\")"
   ]
  },
  {
   "cell_type": "code",
   "execution_count": null,
   "id": "49eff74d-e5c6-429d-a9c5-e1ff3c99f19b",
   "metadata": {},
   "outputs": [],
   "source": [
    "X=df.drop('Outcome',axis=1).values### independent features\n",
    "y=df['Outcome'].values###dependent features"
   ]
  },
  {
   "cell_type": "code",
   "execution_count": null,
   "id": "1538edef-3623-4569-8c1b-5daa1f0c57c5",
   "metadata": {},
   "outputs": [],
   "source": [
    "from sklearn.model_selection import train_test_split\n",
    "\n",
    "X_train,X_test,y_train,y_test=train_test_split(X,y,test_size=0.2,random_state=0)"
   ]
  },
  {
   "cell_type": "code",
   "execution_count": null,
   "id": "8258131d-ddc3-4082-83de-2eea1a8b25b2",
   "metadata": {},
   "outputs": [],
   "source": [
    "##### Creating Tensors\n",
    "X_train=torch.FloatTensor(X_train).cuda()\n",
    "X_test=torch.FloatTensor(X_test).cuda()\n",
    "y_train=torch.LongTensor(y_train).cuda()\n",
    "y_test=torch.LongTensor(y_test).cuda()"
   ]
  },
  {
   "cell_type": "code",
   "execution_count": null,
   "id": "e8ee82fb-6b66-41cd-b3cd-41ac7587c300",
   "metadata": {},
   "outputs": [],
   "source": [
    "X_train.device"
   ]
  },
  {
   "cell_type": "code",
   "execution_count": null,
   "id": "107499f5-1d31-45db-8950-c278a5c4eba0",
   "metadata": {},
   "outputs": [],
   "source": [
    "#### Creating Model with Pytorch\n",
    "\n",
    "class ANN_Model(nn.Module): # inheriting the 'nn' library, that is used to create the model\n",
    "    \n",
    "    def __init__(self,input_features=8,hidden1=20,hidden2=20,out_features=2):\n",
    "        super().__init__() # to inherit the parent class 'ANN_Model'\n",
    "        self.f_connected1=nn.Linear(input_features,hidden1) # Dense layer\n",
    "        self.f_connected2=nn.Linear(hidden1,hidden2) # Dense layer\n",
    "        self.out=nn.Linear(hidden2,out_features) # Dense layer\n",
    "        \n",
    "    def forward(self,ttt): # ttt: variable that tracks the gradient descent and the backpropagation\n",
    "        ttt=F.relu(self.f_connected1(ttt)) # F: 'nn.functional' contains the activation functions\n",
    "        ttt=F.relu(self.f_connected2(ttt))\n",
    "        ttt=self.out(ttt)\n",
    "        return ttt"
   ]
  },
  {
   "cell_type": "code",
   "execution_count": null,
   "id": "ebb5180e-f778-483a-a9c7-6130181d4ed7",
   "metadata": {},
   "outputs": [],
   "source": [
    "####instantiate my ANN_model\n",
    "torch.manual_seed(20)\n",
    "model=ANN_Model().cuda()"
   ]
  },
  {
   "cell_type": "code",
   "execution_count": null,
   "id": "da171c89-3ed8-4aa4-8e39-7d2ff7add04b",
   "metadata": {},
   "outputs": [],
   "source": [
    "model.parameters"
   ]
  },
  {
   "cell_type": "code",
   "execution_count": null,
   "id": "480349e8-031b-4e34-a7ce-1fc9ebedf7fe",
   "metadata": {},
   "outputs": [],
   "source": [
    "for i in model.parameters():\n",
    "    print(i.is_cuda)"
   ]
  },
  {
   "cell_type": "code",
   "execution_count": null,
   "id": "c5b25b73-31ff-494b-933c-094d34ad3e2d",
   "metadata": {},
   "outputs": [],
   "source": [
    "torch.cuda.memory_allocated()"
   ]
  },
  {
   "cell_type": "code",
   "execution_count": null,
   "id": "7b56d232-55d0-4919-ae3d-700fa4240950",
   "metadata": {},
   "outputs": [],
   "source": [
    "torch.cuda.memory_cached()"
   ]
  },
  {
   "cell_type": "code",
   "execution_count": null,
   "id": "d118850c-e42a-4141-a54a-74e32a87120b",
   "metadata": {},
   "outputs": [],
   "source": [
    "###Backward Propogation-- Define the loss_function,define the optimizer\n",
    "loss_function=nn.CrossEntropyLoss()\n",
    "optimizer=torch.optim.Adam(model.parameters(),lr=0.01)"
   ]
  },
  {
   "cell_type": "code",
   "execution_count": null,
   "id": "0740d27d-1ffd-4152-9ba7-d2e747f580e0",
   "metadata": {},
   "outputs": [],
   "source": [
    "epochs=10000\n",
    "final_losses=[]\n",
    "for i in range(epochs):\n",
    "    i=i+1\n",
    "    y_pred=model.forward(X_train)\n",
    "    loss=loss_function(y_pred,y_train)\n",
    "    final_losses.append(loss.cpu().detach().numpy()) #transform back tensory to numpy using cpu, in order to plot in next section\n",
    "    if i%500==1:\n",
    "        print(\"Epoch number: {} and the loss : {}\".format(i,loss.item()))\n",
    "    optimizer.zero_grad() # to clear the gradients of all optimized class (required for back propagation)\n",
    "    loss.backward() # backpropagation\n",
    "    optimizer.step() # optimization\n"
   ]
  },
  {
   "cell_type": "code",
   "execution_count": null,
   "id": "8ab9a6b4-63d8-4b60-9086-b71a1b24b46c",
   "metadata": {},
   "outputs": [],
   "source": [
    "### plot the loss function\n",
    "import matplotlib.pyplot as plt\n",
    "%matplotlib inline\n",
    "plt.plot(range(epochs),final_losses)\n",
    "plt.ylabel('Loss')\n",
    "plt.xlabel('Epoch')"
   ]
  },
  {
   "cell_type": "code",
   "execution_count": null,
   "id": "9dd60028-d72f-428b-a800-37e7f7ce36b4",
   "metadata": {},
   "outputs": [],
   "source": [
    "#### Prediction In X_test data\n",
    "predictions=[]\n",
    "with torch.no_grad(): # optional line, just used to eliminate the gradient in the results\n",
    "    for i,data in enumerate(X_test):\n",
    "        y_pred=model(data)\n",
    "        predictions.append(y_pred.argmax().item())\n",
    "        # print(y_pred.argmax().item())"
   ]
  },
  {
   "cell_type": "code",
   "execution_count": null,
   "id": "82533905-bf60-4d92-96eb-208ea02c9e93",
   "metadata": {},
   "outputs": [],
   "source": [
    "from sklearn.metrics import confusion_matrix\n",
    "cm=confusion_matrix(y_test.cpu(),predictions) #covert back to cpu, for confusion matrix\n",
    "cm"
   ]
  },
  {
   "cell_type": "code",
   "execution_count": null,
   "id": "23d6c85c-4759-47d2-ba04-a54eb3faecd9",
   "metadata": {},
   "outputs": [],
   "source": [
    "plt.figure(figsize=(10,6))\n",
    "sns.heatmap(cm,annot=True)\n",
    "plt.xlabel('Actual Values')\n",
    "plt.ylabel('Predicted Values')"
   ]
  },
  {
   "cell_type": "code",
   "execution_count": null,
   "id": "26f299e0-f7a5-4544-81b0-af4d19acd964",
   "metadata": {},
   "outputs": [],
   "source": [
    "from sklearn.metrics import accuracy_score\n",
    "score=accuracy_score(y_test.cpu(),predictions)\n",
    "score"
   ]
  },
  {
   "cell_type": "code",
   "execution_count": null,
   "id": "648f3ed6-b3a6-4659-a084-92b4e607b5be",
   "metadata": {},
   "outputs": [],
   "source": [
    "#### Save the model\n",
    "torch.save(model,'diabetes.pt')"
   ]
  },
  {
   "cell_type": "code",
   "execution_count": null,
   "id": "2132ea3f-8e54-4119-b099-5d11ab44772b",
   "metadata": {},
   "outputs": [],
   "source": [
    "#### Load the model\n",
    "model=torch.load('diabetes.pt')"
   ]
  },
  {
   "cell_type": "code",
   "execution_count": null,
   "id": "322f29a4-bc38-4c25-ae0f-088fa5164e4a",
   "metadata": {},
   "outputs": [],
   "source": [
    "model.eval()"
   ]
  }
 ],
 "metadata": {
  "kernelspec": {
   "display_name": "Py310",
   "language": "python",
   "name": "py310"
  },
  "language_info": {
   "codemirror_mode": {
    "name": "ipython",
    "version": 3
   },
   "file_extension": ".py",
   "mimetype": "text/x-python",
   "name": "python",
   "nbconvert_exporter": "python",
   "pygments_lexer": "ipython3",
   "version": "3.10.11"
  }
 },
 "nbformat": 4,
 "nbformat_minor": 5
}
