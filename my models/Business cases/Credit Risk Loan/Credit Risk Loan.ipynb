{
 "cells": [
  {
   "cell_type": "code",
   "execution_count": 2,
   "id": "ac2e10fe-4815-4cf9-8f5b-2a531b309836",
   "metadata": {},
   "outputs": [],
   "source": [
    "### Necessary imports\n",
    "import pandas as pd\n",
    "\n",
    "from sklearn.preprocessing import LabelEncoder\n",
    "from sklearn.model_selection import train_test_split\n",
    "\n",
    "from sklearn.linear_model import LogisticRegression\n",
    "from sklearn.tree import DecisionTreeClassifier\n",
    "from sklearn.ensemble import RandomForestClassifier\n",
    "\n",
    "from sklearn.metrics import fbeta_score\n",
    "\n",
    "import matplotlib.pyplot as plt\n",
    "\n",
    "from sklearn.model_selection import cross_val_score\n",
    "import shap\n",
    "\n",
    "import warnings\n",
    "warnings.filterwarnings(\"ignore\")\n",
    "\n",
    "from IPython.core.interactiveshell import InteractiveShell\n",
    "InteractiveShell.ast_node_interactivity = \"all\""
   ]
  },
  {
   "cell_type": "code",
   "execution_count": 3,
   "id": "51d48c8e-f6fc-48b6-9330-f3ee6f822829",
   "metadata": {},
   "outputs": [
    {
     "data": {
      "text/html": [
       "<div>\n",
       "<style scoped>\n",
       "    .dataframe tbody tr th:only-of-type {\n",
       "        vertical-align: middle;\n",
       "    }\n",
       "\n",
       "    .dataframe tbody tr th {\n",
       "        vertical-align: top;\n",
       "    }\n",
       "\n",
       "    .dataframe thead th {\n",
       "        text-align: right;\n",
       "    }\n",
       "</style>\n",
       "<table border=\"1\" class=\"dataframe\">\n",
       "  <thead>\n",
       "    <tr style=\"text-align: right;\">\n",
       "      <th></th>\n",
       "      <th>Credit History</th>\n",
       "      <th>Age</th>\n",
       "      <th>Gender</th>\n",
       "      <th>Job</th>\n",
       "      <th>Housing</th>\n",
       "      <th>Saving accounts</th>\n",
       "      <th>Credit amount</th>\n",
       "      <th>Duration</th>\n",
       "      <th>Purpose</th>\n",
       "      <th>Risk</th>\n",
       "    </tr>\n",
       "  </thead>\n",
       "  <tbody>\n",
       "    <tr>\n",
       "      <th>0</th>\n",
       "      <td>4</td>\n",
       "      <td>67</td>\n",
       "      <td>male</td>\n",
       "      <td>2</td>\n",
       "      <td>own</td>\n",
       "      <td>NaN</td>\n",
       "      <td>1169</td>\n",
       "      <td>6</td>\n",
       "      <td>radio/TV</td>\n",
       "      <td>good</td>\n",
       "    </tr>\n",
       "    <tr>\n",
       "      <th>1</th>\n",
       "      <td>2</td>\n",
       "      <td>22</td>\n",
       "      <td>female</td>\n",
       "      <td>2</td>\n",
       "      <td>own</td>\n",
       "      <td>little</td>\n",
       "      <td>5951</td>\n",
       "      <td>48</td>\n",
       "      <td>radio/TV</td>\n",
       "      <td>bad</td>\n",
       "    </tr>\n",
       "    <tr>\n",
       "      <th>2</th>\n",
       "      <td>4</td>\n",
       "      <td>49</td>\n",
       "      <td>male</td>\n",
       "      <td>1</td>\n",
       "      <td>own</td>\n",
       "      <td>little</td>\n",
       "      <td>2096</td>\n",
       "      <td>12</td>\n",
       "      <td>education</td>\n",
       "      <td>good</td>\n",
       "    </tr>\n",
       "    <tr>\n",
       "      <th>3</th>\n",
       "      <td>2</td>\n",
       "      <td>45</td>\n",
       "      <td>male</td>\n",
       "      <td>2</td>\n",
       "      <td>free</td>\n",
       "      <td>little</td>\n",
       "      <td>7882</td>\n",
       "      <td>42</td>\n",
       "      <td>furniture/equipment</td>\n",
       "      <td>good</td>\n",
       "    </tr>\n",
       "    <tr>\n",
       "      <th>4</th>\n",
       "      <td>3</td>\n",
       "      <td>53</td>\n",
       "      <td>male</td>\n",
       "      <td>2</td>\n",
       "      <td>free</td>\n",
       "      <td>little</td>\n",
       "      <td>4870</td>\n",
       "      <td>24</td>\n",
       "      <td>car</td>\n",
       "      <td>bad</td>\n",
       "    </tr>\n",
       "  </tbody>\n",
       "</table>\n",
       "</div>"
      ],
      "text/plain": [
       "   Credit History  Age  Gender  Job Housing Saving accounts  Credit amount   \n",
       "0               4   67    male    2     own             NaN           1169  \\\n",
       "1               2   22  female    2     own          little           5951   \n",
       "2               4   49    male    1     own          little           2096   \n",
       "3               2   45    male    2    free          little           7882   \n",
       "4               3   53    male    2    free          little           4870   \n",
       "\n",
       "   Duration              Purpose  Risk  \n",
       "0         6             radio/TV  good  \n",
       "1        48             radio/TV   bad  \n",
       "2        12            education  good  \n",
       "3        42  furniture/equipment  good  \n",
       "4        24                  car   bad  "
      ]
     },
     "execution_count": 3,
     "metadata": {},
     "output_type": "execute_result"
    }
   ],
   "source": [
    "# Data download, Split into train and test\n",
    "\n",
    "df_credit = pd.read_csv(\"german_credit.csv\")\n",
    "df_credit.head()"
   ]
  },
  {
   "cell_type": "code",
   "execution_count": 6,
   "id": "f7b7bbb0-72d8-4a4f-a9ff-ba08bc5939c9",
   "metadata": {},
   "outputs": [
    {
     "data": {
      "text/plain": [
       "Risk\n",
       "good    700\n",
       "bad     300\n",
       "Name: count, dtype: int64"
      ]
     },
     "execution_count": 6,
     "metadata": {},
     "output_type": "execute_result"
    }
   ],
   "source": [
    "df_credit.Risk.value_counts()"
   ]
  },
  {
   "cell_type": "code",
   "execution_count": 7,
   "id": "55791ebd-3d32-4d41-a952-3862fd5835e8",
   "metadata": {},
   "outputs": [
    {
     "name": "stdout",
     "output_type": "stream",
     "text": [
      "(900, 10) (100, 10)\n"
     ]
    }
   ],
   "source": [
    "y = df_credit['Risk']\n",
    "X = df_credit.drop(columns = ['Risk'])\n",
    "X_train, X_test, y_train, y_test = train_test_split(X,y, test_size = 0.1)\n",
    "\n",
    "df_train = pd.concat([X_train, y_train], axis = 1)\n",
    "df_test = pd.concat([X_test, y_test], axis = 1)\n",
    "\n",
    "print(df_train.shape, df_test.shape)"
   ]
  },
  {
   "cell_type": "code",
   "execution_count": null,
   "id": "5c6ea9a1-2636-482f-bc35-58ce7eac90c9",
   "metadata": {},
   "outputs": [],
   "source": [
    "# N.B.\n",
    "\n",
    "#  When the data is randomly split into training and test sets, the distributions of both sets should be similar. However, it’s essential to validate the test set’s distribution, as it reflects the real-world data you’ll encounter during predictions. Ensuring that the test set represents the same distribution as the actual scenarios you’ll face is crucial for reliable model evaluation."
   ]
  },
  {
   "cell_type": "code",
   "execution_count": 9,
   "id": "4a4d661d-28ea-4a24-8a52-baa684df5fa1",
   "metadata": {},
   "outputs": [
    {
     "data": {
      "text/plain": [
       "<Axes: >"
      ]
     },
     "execution_count": 9,
     "metadata": {},
     "output_type": "execute_result"
    },
    {
     "data": {
      "text/plain": [
       "<Axes: >"
      ]
     },
     "execution_count": 9,
     "metadata": {},
     "output_type": "execute_result"
    },
    {
     "data": {
      "text/plain": [
       "Text(0.5, 0, 'Credit History')"
      ]
     },
     "execution_count": 9,
     "metadata": {},
     "output_type": "execute_result"
    },
    {
     "data": {
      "text/plain": [
       "<matplotlib.legend.Legend at 0x21baca235b0>"
      ]
     },
     "execution_count": 9,
     "metadata": {},
     "output_type": "execute_result"
    },
    {
     "data": {
      "image/png": "[encoded data removed]",
      "text/plain": [
       "<Figure size 640x480 with 1 Axes>"
      ]
     },
     "metadata": {},
     "output_type": "display_data"
    }
   ],
   "source": [
    "# Train and Test Distribution comparison\n",
    "\n",
    "df_train['Credit History'].hist(alpha=0.5, label='Train', density=True)    \n",
    "df_test['Credit History'].hist(alpha=0.5, label='Test', density=True)\n",
    "plt.xlabel('Credit History')\n",
    "plt.legend()"
   ]
  },
  {
   "cell_type": "code",
   "execution_count": 10,
   "id": "f99deb3f-46d6-42c7-be6d-3b63b1f5031d",
   "metadata": {},
   "outputs": [
    {
     "data": {
      "text/plain": [
       "<Axes: >"
      ]
     },
     "execution_count": 10,
     "metadata": {},
     "output_type": "execute_result"
    },
    {
     "data": {
      "text/plain": [
       "<Axes: >"
      ]
     },
     "execution_count": 10,
     "metadata": {},
     "output_type": "execute_result"
    },
    {
     "data": {
      "text/plain": [
       "Text(0.5, 0, 'Age')"
      ]
     },
     "execution_count": 10,
     "metadata": {},
     "output_type": "execute_result"
    },
    {
     "data": {
      "text/plain": [
       "<matplotlib.legend.Legend at 0x21bac951040>"
      ]
     },
     "execution_count": 10,
     "metadata": {},
     "output_type": "execute_result"
    },
    {
     "data": {
      "image/png": "[encoded data removed]",
      "text/plain": [
       "<Figure size 640x480 with 1 Axes>"
      ]
     },
     "metadata": {},
     "output_type": "display_data"
    }
   ],
   "source": [
    "df_train.loc[:, 'Age'].hist(alpha=0.5, label='Train', density=True)    \n",
    "df_test.loc[:, 'Age'].hist(alpha=0.5, label='Test', density=True)  \n",
    "plt.xlabel('Age')\n",
    "plt.legend()"
   ]
  },
  {
   "cell_type": "code",
   "execution_count": 11,
   "id": "34cb4c52-9801-49df-aff8-130bfadf56b3",
   "metadata": {},
   "outputs": [
    {
     "data": {
      "text/plain": [
       "<Axes: >"
      ]
     },
     "execution_count": 11,
     "metadata": {},
     "output_type": "execute_result"
    },
    {
     "data": {
      "text/plain": [
       "<Axes: >"
      ]
     },
     "execution_count": 11,
     "metadata": {},
     "output_type": "execute_result"
    },
    {
     "data": {
      "text/plain": [
       "Text(0.5, 0, 'Job')"
      ]
     },
     "execution_count": 11,
     "metadata": {},
     "output_type": "execute_result"
    },
    {
     "data": {
      "text/plain": [
       "<matplotlib.legend.Legend at 0x21bacbf5190>"
      ]
     },
     "execution_count": 11,
     "metadata": {},
     "output_type": "execute_result"
    },
    {
     "data": {
      "image/png": "[encoded data removed]",
      "text/plain": [
       "<Figure size 640x480 with 1 Axes>"
      ]
     },
     "metadata": {},
     "output_type": "display_data"
    }
   ],
   "source": [
    "df_train.loc[:, 'Job'].hist(alpha=0.5, label='Train', density=True)    \n",
    "df_test.loc[:, 'Job'].hist(alpha=0.5, label='Test', density=True)\n",
    "plt.xlabel('Job')\n",
    "plt.legend()"
   ]
  },
  {
   "cell_type": "code",
   "execution_count": 12,
   "id": "40c81450-0657-4298-bdda-d913ece19813",
   "metadata": {},
   "outputs": [
    {
     "data": {
      "text/plain": [
       "<Axes: >"
      ]
     },
     "execution_count": 12,
     "metadata": {},
     "output_type": "execute_result"
    },
    {
     "data": {
      "text/plain": [
       "<Axes: >"
      ]
     },
     "execution_count": 12,
     "metadata": {},
     "output_type": "execute_result"
    },
    {
     "data": {
      "text/plain": [
       "Text(0.5, 0, 'Duration')"
      ]
     },
     "execution_count": 12,
     "metadata": {},
     "output_type": "execute_result"
    },
    {
     "data": {
      "text/plain": [
       "<matplotlib.legend.Legend at 0x21bacaab850>"
      ]
     },
     "execution_count": 12,
     "metadata": {},
     "output_type": "execute_result"
    },
    {
     "data": {
      "image/png": "[encoded data removed]",
      "text/plain": [
       "<Figure size 640x480 with 1 Axes>"
      ]
     },
     "metadata": {},
     "output_type": "display_data"
    }
   ],
   "source": [
    "df_train.loc[:, 'Duration'].hist(alpha=0.5, label='Train', density=True)    \n",
    "df_test.loc[:, 'Duration'].hist(alpha=0.5, label='Test', density=True)\n",
    "plt.xlabel('Duration')\n",
    "plt.legend()"
   ]
  },
  {
   "cell_type": "code",
   "execution_count": 13,
   "id": "a033c452-722d-42eb-bd94-c7100ae56594",
   "metadata": {},
   "outputs": [
    {
     "data": {
      "text/plain": [
       "<Axes: >"
      ]
     },
     "execution_count": 13,
     "metadata": {},
     "output_type": "execute_result"
    },
    {
     "data": {
      "text/plain": [
       "<Axes: >"
      ]
     },
     "execution_count": 13,
     "metadata": {},
     "output_type": "execute_result"
    },
    {
     "data": {
      "text/plain": [
       "Text(0.5, 0, 'Credit amount')"
      ]
     },
     "execution_count": 13,
     "metadata": {},
     "output_type": "execute_result"
    },
    {
     "data": {
      "text/plain": [
       "<matplotlib.legend.Legend at 0x21bacb9d520>"
      ]
     },
     "execution_count": 13,
     "metadata": {},
     "output_type": "execute_result"
    },
    {
     "data": {
      "image/png": "[encoded data removed]",
      "text/plain": [
       "<Figure size 640x480 with 1 Axes>"
      ]
     },
     "metadata": {},
     "output_type": "display_data"
    }
   ],
   "source": [
    "df_train.loc[:, 'Credit amount'].hist(alpha=0.5, label='Train', density=True)    \n",
    "df_test.loc[:, 'Credit amount'].hist(alpha=0.5, label='Test', density=True)\n",
    "plt.xlabel('Credit amount')\n",
    "plt.legend()"
   ]
  },
  {
   "cell_type": "code",
   "execution_count": 14,
   "id": "7661beef-e682-41d2-8169-dd899448c107",
   "metadata": {},
   "outputs": [
    {
     "data": {
      "text/plain": [
       "<Axes: >"
      ]
     },
     "execution_count": 14,
     "metadata": {},
     "output_type": "execute_result"
    },
    {
     "data": {
      "text/plain": [
       "<Axes: >"
      ]
     },
     "execution_count": 14,
     "metadata": {},
     "output_type": "execute_result"
    },
    {
     "data": {
      "text/plain": [
       "Text(0.5, 0, 'Saving accounts')"
      ]
     },
     "execution_count": 14,
     "metadata": {},
     "output_type": "execute_result"
    },
    {
     "data": {
      "text/plain": [
       "<matplotlib.legend.Legend at 0x21baccd4130>"
      ]
     },
     "execution_count": 14,
     "metadata": {},
     "output_type": "execute_result"
    },
    {
     "data": {
      "image/png": "[encoded data removed]",
      "text/plain": [
       "<Figure size 640x480 with 1 Axes>"
      ]
     },
     "metadata": {},
     "output_type": "display_data"
    }
   ],
   "source": [
    "df_train.loc[:, 'Saving accounts'].hist(alpha=0.5, label='Train', density=True)    \n",
    "df_test.loc[:, 'Saving accounts'].hist(alpha=0.5, label='Test', density=True)\n",
    "plt.xlabel('Saving accounts')\n",
    "plt.legend()"
   ]
  },
  {
   "cell_type": "code",
   "execution_count": 16,
   "id": "f5b45003-89e9-49c2-bd4c-eaa57cae33b3",
   "metadata": {},
   "outputs": [
    {
     "data": {
      "text/plain": [
       "KstestResult(statistic=0.08, pvalue=0.5899077794561494, statistic_location=35, statistic_sign=-1)"
      ]
     },
     "execution_count": 16,
     "metadata": {},
     "output_type": "execute_result"
    }
   ],
   "source": [
    "from scipy.stats import ks_2samp\n",
    "\n",
    "# if p values > 0.05, we can't reject the null hypotesis that the two distributions are the same, so we can consider them similar\n",
    "\n",
    "ks_2samp(df_train['Age'], df_test['Age'])"
   ]
  },
  {
   "cell_type": "code",
   "execution_count": 19,
   "id": "91ac87c9-f344-49ba-af4b-a7bd67d58912",
   "metadata": {},
   "outputs": [
    {
     "data": {
      "text/plain": [
       "KstestResult(statistic=0.11777777777777777, pvalue=0.154479439979657, statistic_location=18, statistic_sign=1)"
      ]
     },
     "execution_count": 19,
     "metadata": {},
     "output_type": "execute_result"
    }
   ],
   "source": [
    "ks_2samp(df_train['Duration'], df_test['Duration'])"
   ]
  },
  {
   "cell_type": "code",
   "execution_count": 20,
   "id": "224235cb-b585-41a0-9aa1-563f7970017d",
   "metadata": {},
   "outputs": [
    {
     "data": {
      "text/plain": [
       "Credit History       5\n",
       "Age                 53\n",
       "Gender               2\n",
       "Job                  4\n",
       "Housing              3\n",
       "Saving accounts      4\n",
       "Credit amount      838\n",
       "Duration            33\n",
       "Purpose              8\n",
       "Risk                 2\n",
       "dtype: int64"
      ]
     },
     "execution_count": 20,
     "metadata": {},
     "output_type": "execute_result"
    }
   ],
   "source": [
    "df_train.nunique()"
   ]
  },
  {
   "cell_type": "code",
   "execution_count": 21,
   "id": "189e647c-ee84-40d9-933b-cb057db35f85",
   "metadata": {},
   "outputs": [
    {
     "data": {
      "text/plain": [
       "Risk\n",
       "good    631\n",
       "bad     269\n",
       "Name: count, dtype: int64"
      ]
     },
     "execution_count": 21,
     "metadata": {},
     "output_type": "execute_result"
    }
   ],
   "source": [
    "df_train.Risk.value_counts() ### Good = 1 (credit worthy), Bad = 0 (not worthy)"
   ]
  },
  {
   "cell_type": "code",
   "execution_count": 22,
   "id": "45220051-ddb8-4bfc-af90-7741493e330c",
   "metadata": {},
   "outputs": [
    {
     "data": {
      "text/html": [
       "<div>\n",
       "<style scoped>\n",
       "    .dataframe tbody tr th:only-of-type {\n",
       "        vertical-align: middle;\n",
       "    }\n",
       "\n",
       "    .dataframe tbody tr th {\n",
       "        vertical-align: top;\n",
       "    }\n",
       "\n",
       "    .dataframe thead th {\n",
       "        text-align: right;\n",
       "    }\n",
       "</style>\n",
       "<table border=\"1\" class=\"dataframe\">\n",
       "  <thead>\n",
       "    <tr style=\"text-align: right;\">\n",
       "      <th></th>\n",
       "      <th>Credit History</th>\n",
       "      <th>Age</th>\n",
       "      <th>Job</th>\n",
       "      <th>Credit amount</th>\n",
       "      <th>Duration</th>\n",
       "    </tr>\n",
       "  </thead>\n",
       "  <tbody>\n",
       "    <tr>\n",
       "      <th>count</th>\n",
       "      <td>900.000000</td>\n",
       "      <td>900.000000</td>\n",
       "      <td>900.000000</td>\n",
       "      <td>900.000000</td>\n",
       "      <td>900.000000</td>\n",
       "    </tr>\n",
       "    <tr>\n",
       "      <th>mean</th>\n",
       "      <td>2.548889</td>\n",
       "      <td>35.645556</td>\n",
       "      <td>1.896667</td>\n",
       "      <td>3228.406667</td>\n",
       "      <td>20.658889</td>\n",
       "    </tr>\n",
       "    <tr>\n",
       "      <th>std</th>\n",
       "      <td>1.081161</td>\n",
       "      <td>11.366477</td>\n",
       "      <td>0.656439</td>\n",
       "      <td>2772.428613</td>\n",
       "      <td>12.044240</td>\n",
       "    </tr>\n",
       "    <tr>\n",
       "      <th>min</th>\n",
       "      <td>0.000000</td>\n",
       "      <td>19.000000</td>\n",
       "      <td>0.000000</td>\n",
       "      <td>250.000000</td>\n",
       "      <td>4.000000</td>\n",
       "    </tr>\n",
       "    <tr>\n",
       "      <th>25%</th>\n",
       "      <td>2.000000</td>\n",
       "      <td>27.000000</td>\n",
       "      <td>2.000000</td>\n",
       "      <td>1360.750000</td>\n",
       "      <td>12.000000</td>\n",
       "    </tr>\n",
       "    <tr>\n",
       "      <th>50%</th>\n",
       "      <td>2.000000</td>\n",
       "      <td>33.000000</td>\n",
       "      <td>2.000000</td>\n",
       "      <td>2309.000000</td>\n",
       "      <td>18.000000</td>\n",
       "    </tr>\n",
       "    <tr>\n",
       "      <th>75%</th>\n",
       "      <td>4.000000</td>\n",
       "      <td>42.000000</td>\n",
       "      <td>2.000000</td>\n",
       "      <td>3959.000000</td>\n",
       "      <td>24.000000</td>\n",
       "    </tr>\n",
       "    <tr>\n",
       "      <th>max</th>\n",
       "      <td>4.000000</td>\n",
       "      <td>75.000000</td>\n",
       "      <td>3.000000</td>\n",
       "      <td>18424.000000</td>\n",
       "      <td>72.000000</td>\n",
       "    </tr>\n",
       "  </tbody>\n",
       "</table>\n",
       "</div>"
      ],
      "text/plain": [
       "       Credit History         Age         Job  Credit amount    Duration\n",
       "count      900.000000  900.000000  900.000000     900.000000  900.000000\n",
       "mean         2.548889   35.645556    1.896667    3228.406667   20.658889\n",
       "std          1.081161   11.366477    0.656439    2772.428613   12.044240\n",
       "min          0.000000   19.000000    0.000000     250.000000    4.000000\n",
       "25%          2.000000   27.000000    2.000000    1360.750000   12.000000\n",
       "50%          2.000000   33.000000    2.000000    2309.000000   18.000000\n",
       "75%          4.000000   42.000000    2.000000    3959.000000   24.000000\n",
       "max          4.000000   75.000000    3.000000   18424.000000   72.000000"
      ]
     },
     "execution_count": 22,
     "metadata": {},
     "output_type": "execute_result"
    }
   ],
   "source": [
    "df_train_summ = df_train.describe()\n",
    "df_train_summ"
   ]
  },
  {
   "cell_type": "code",
   "execution_count": 23,
   "id": "ed8698b6-67d5-4688-8a30-2b2439f3d929",
   "metadata": {},
   "outputs": [
    {
     "data": {
      "text/html": [
       "<div>\n",
       "<style scoped>\n",
       "    .dataframe tbody tr th:only-of-type {\n",
       "        vertical-align: middle;\n",
       "    }\n",
       "\n",
       "    .dataframe tbody tr th {\n",
       "        vertical-align: top;\n",
       "    }\n",
       "\n",
       "    .dataframe thead th {\n",
       "        text-align: right;\n",
       "    }\n",
       "</style>\n",
       "<table border=\"1\" class=\"dataframe\">\n",
       "  <thead>\n",
       "    <tr style=\"text-align: right;\">\n",
       "      <th></th>\n",
       "      <th>Gender</th>\n",
       "      <th>Housing</th>\n",
       "      <th>Saving accounts</th>\n",
       "      <th>Purpose</th>\n",
       "      <th>Risk</th>\n",
       "    </tr>\n",
       "  </thead>\n",
       "  <tbody>\n",
       "    <tr>\n",
       "      <th>count</th>\n",
       "      <td>900</td>\n",
       "      <td>900</td>\n",
       "      <td>737</td>\n",
       "      <td>900</td>\n",
       "      <td>900</td>\n",
       "    </tr>\n",
       "    <tr>\n",
       "      <th>unique</th>\n",
       "      <td>2</td>\n",
       "      <td>3</td>\n",
       "      <td>4</td>\n",
       "      <td>8</td>\n",
       "      <td>2</td>\n",
       "    </tr>\n",
       "    <tr>\n",
       "      <th>top</th>\n",
       "      <td>male</td>\n",
       "      <td>own</td>\n",
       "      <td>little</td>\n",
       "      <td>car</td>\n",
       "      <td>good</td>\n",
       "    </tr>\n",
       "    <tr>\n",
       "      <th>freq</th>\n",
       "      <td>621</td>\n",
       "      <td>648</td>\n",
       "      <td>545</td>\n",
       "      <td>294</td>\n",
       "      <td>631</td>\n",
       "    </tr>\n",
       "  </tbody>\n",
       "</table>\n",
       "</div>"
      ],
      "text/plain": [
       "       Gender Housing Saving accounts Purpose  Risk\n",
       "count     900     900             737     900   900\n",
       "unique      2       3               4       8     2\n",
       "top      male     own          little     car  good\n",
       "freq      621     648             545     294   631"
      ]
     },
     "execution_count": 23,
     "metadata": {},
     "output_type": "execute_result"
    }
   ],
   "source": [
    "df_train.describe(include='object')"
   ]
  },
  {
   "cell_type": "code",
   "execution_count": 30,
   "id": "8a321bf1-a498-42db-960a-a71c84ae45af",
   "metadata": {},
   "outputs": [],
   "source": [
    "### the credit amount is highly skewed distribution, lets analyse the extreme values beyond 3 sigma (mean + 3*std)\n",
    "def extreme_count(sig_factor, feat):\n",
    "    sig_cutoff = df_train_summ[feat]['mean'] + sig_factor*df_train_summ[feat]['std'] \n",
    "    sig_count = len(df_train[df_train[feat] > sig_cutoff])\n",
    "    sig_len = len(df_train[feat])\n",
    "    print(\"instances of {} greater than {} sigma ({} cutoff) are {} over {}\".format(feat, sig_factor, sig_cutoff, sig_count, sig_len))\n",
    "    return\n"
   ]
  },
  {
   "cell_type": "code",
   "execution_count": 31,
   "id": "6d4aa0d0-b835-4197-90b6-966a4cc1c5f9",
   "metadata": {},
   "outputs": [
    {
     "data": {
      "text/plain": [
       "(array([403., 265.,  88.,  71.,  33.,  18.,  10.,   8.,   3.,   1.]),\n",
       " array([  250. ,  2067.4,  3884.8,  5702.2,  7519.6,  9337. , 11154.4,\n",
       "        12971.8, 14789.2, 16606.6, 18424. ]),\n",
       " <BarContainer object of 10 artists>)"
      ]
     },
     "execution_count": 31,
     "metadata": {},
     "output_type": "execute_result"
    },
    {
     "data": {
      "text/plain": [
       "Text(0.5, 1.0, 'Credit amount distribution')"
      ]
     },
     "execution_count": 31,
     "metadata": {},
     "output_type": "execute_result"
    },
    {
     "name": "stdout",
     "output_type": "stream",
     "text": [
      "instances of Credit amount greater than 3 sigma (11545.69250615486 cutoff) are 21 over 900\n"
     ]
    },
    {
     "data": {
      "image/png": "[encoded data removed]",
      "text/plain": [
       "<Figure size 640x480 with 1 Axes>"
      ]
     },
     "metadata": {},
     "output_type": "display_data"
    }
   ],
   "source": [
    "plt.hist(df_train['Credit amount'])\n",
    "plt.title('Credit amount distribution')\n",
    "extreme_count(3, feat = 'Credit amount')"
   ]
  },
  {
   "cell_type": "code",
   "execution_count": 32,
   "id": "f8d9b3f0-e070-4a05-a96c-d36e164875b1",
   "metadata": {},
   "outputs": [
    {
     "data": {
      "text/plain": [
       "(array([160., 240., 299.,  48.,  77.,  17.,  44.,   1.,  13.,   1.]),\n",
       " array([ 4. , 10.8, 17.6, 24.4, 31.2, 38. , 44.8, 51.6, 58.4, 65.2, 72. ]),\n",
       " <BarContainer object of 10 artists>)"
      ]
     },
     "execution_count": 32,
     "metadata": {},
     "output_type": "execute_result"
    },
    {
     "data": {
      "text/plain": [
       "Text(0.5, 1.0, 'Duration distribution')"
      ]
     },
     "execution_count": 32,
     "metadata": {},
     "output_type": "execute_result"
    },
    {
     "name": "stdout",
     "output_type": "stream",
     "text": [
      "instances of Duration greater than 3 sigma (56.79160849354806 cutoff) are 14 over 900\n"
     ]
    },
    {
     "data": {
      "image/png": "[encoded data removed]",
      "text/plain": [
       "<Figure size 640x480 with 1 Axes>"
      ]
     },
     "metadata": {},
     "output_type": "display_data"
    }
   ],
   "source": [
    "plt.hist(df_train['Duration'])\n",
    "plt.title('Duration distribution')\n",
    "extreme_count(3, feat = 'Duration')"
   ]
  },
  {
   "cell_type": "code",
   "execution_count": null,
   "id": "6bc809cf-3898-4f82-8339-34234a197598",
   "metadata": {},
   "outputs": [],
   "source": [
    "''' Even if there are certain instances where the above features are beyond 3sigma of their mean value, they dont appear to be \n",
    "outliers, as its legible to have certain certain loans with high credit value, or loan duration is longer, or older population \n",
    "is seeking loan. Hence, I am not eliminating these rows'''"
   ]
  },
  {
   "cell_type": "code",
   "execution_count": 33,
   "id": "a0b06c2a-034d-4eeb-a322-a0575887353d",
   "metadata": {},
   "outputs": [
    {
     "data": {
      "text/plain": [
       "Credit History       0\n",
       "Age                  0\n",
       "Gender               0\n",
       "Job                  0\n",
       "Housing              0\n",
       "Saving accounts    163\n",
       "Credit amount        0\n",
       "Duration             0\n",
       "Purpose              0\n",
       "Risk                 0\n",
       "dtype: int64"
      ]
     },
     "execution_count": 33,
     "metadata": {},
     "output_type": "execute_result"
    }
   ],
   "source": [
    "# Finding Missing values, checking if they are legitimate and applying apt transformation\n",
    "\n",
    "df_train.isnull().sum()"
   ]
  },
  {
   "cell_type": "code",
   "execution_count": 34,
   "id": "cbd5d094-c43a-4f8c-8f86-3161f0e61254",
   "metadata": {},
   "outputs": [
    {
     "data": {
      "text/plain": [
       "Saving accounts\n",
       "little        545\n",
       "moderate       91\n",
       "quite rich     58\n",
       "rich           43\n",
       "Name: count, dtype: int64"
      ]
     },
     "execution_count": 34,
     "metadata": {},
     "output_type": "execute_result"
    },
    {
     "data": {
      "text/plain": [
       "array(['little', nan, 'quite rich', 'rich', 'moderate'], dtype=object)"
      ]
     },
     "execution_count": 34,
     "metadata": {},
     "output_type": "execute_result"
    },
    {
     "data": {
      "text/plain": [
       "Saving accounts\n",
       "little        545\n",
       "no account    163\n",
       "moderate       91\n",
       "quite rich     58\n",
       "rich           43\n",
       "Name: count, dtype: int64"
      ]
     },
     "execution_count": 34,
     "metadata": {},
     "output_type": "execute_result"
    },
    {
     "data": {
      "text/plain": [
       "array(['little', 'no account', 'quite rich', 'rich', 'moderate'],\n",
       "      dtype=object)"
      ]
     },
     "execution_count": 34,
     "metadata": {},
     "output_type": "execute_result"
    },
    {
     "data": {
      "text/plain": [
       "Credit History     0\n",
       "Age                0\n",
       "Gender             0\n",
       "Job                0\n",
       "Housing            0\n",
       "Saving accounts    0\n",
       "Credit amount      0\n",
       "Duration           0\n",
       "Purpose            0\n",
       "Risk               0\n",
       "dtype: int64"
      ]
     },
     "execution_count": 34,
     "metadata": {},
     "output_type": "execute_result"
    }
   ],
   "source": [
    "### NaN is a valid field here implying no saving account\n",
    "\n",
    "df_train['Saving accounts'].value_counts()\n",
    "df_train['Saving accounts'].unique()\n",
    "\n",
    "### So, replacing NaN with 'no account'\n",
    "df_train.loc[df_train['Saving accounts'].isnull(), 'Saving accounts'] = 'no account'\n",
    "\n",
    "### Replaced in df\n",
    "df_train['Saving accounts'].value_counts()\n",
    "df_train['Saving accounts'].unique()\n",
    "\n",
    "### No NaNs anymore\n",
    "df_train.isnull().sum()"
   ]
  },
  {
   "cell_type": "code",
   "execution_count": 35,
   "id": "d5b56fb3-63ec-41bc-9ead-60dd9b38a916",
   "metadata": {},
   "outputs": [
    {
     "data": {
      "text/plain": [
       "Credit History      int64\n",
       "Age                 int64\n",
       "Gender             object\n",
       "Job                 int64\n",
       "Housing            object\n",
       "Saving accounts    object\n",
       "Credit amount       int64\n",
       "Duration            int64\n",
       "Purpose            object\n",
       "Risk               object\n",
       "dtype: object"
      ]
     },
     "execution_count": 35,
     "metadata": {},
     "output_type": "execute_result"
    }
   ],
   "source": [
    "# Checking data types and categorical states of features for encoding\n",
    "df_train.dtypes"
   ]
  },
  {
   "cell_type": "code",
   "execution_count": 36,
   "id": "840a25cd-f547-4df2-83ff-26e1ebe32685",
   "metadata": {},
   "outputs": [
    {
     "data": {
      "text/plain": [
       "Credit History       5\n",
       "Age                 53\n",
       "Gender               2\n",
       "Job                  4\n",
       "Housing              3\n",
       "Saving accounts      5\n",
       "Credit amount      838\n",
       "Duration            33\n",
       "Purpose              8\n",
       "Risk                 2\n",
       "dtype: int64"
      ]
     },
     "execution_count": 36,
     "metadata": {},
     "output_type": "execute_result"
    }
   ],
   "source": [
    "df_train.nunique()"
   ]
  },
  {
   "cell_type": "code",
   "execution_count": 38,
   "id": "ff10709c-0f17-44a6-9763-f71fa82149ab",
   "metadata": {},
   "outputs": [
    {
     "name": "stdout",
     "output_type": "stream",
     "text": [
      "<class 'pandas.core.frame.DataFrame'>\n",
      "RangeIndex: 1000 entries, 0 to 999\n",
      "Data columns (total 10 columns):\n",
      " #   Column           Non-Null Count  Dtype \n",
      "---  ------           --------------  ----- \n",
      " 0   Credit History   1000 non-null   int64 \n",
      " 1   Age              1000 non-null   int64 \n",
      " 2   Gender           1000 non-null   object\n",
      " 3   Job              1000 non-null   int64 \n",
      " 4   Housing          1000 non-null   object\n",
      " 5   Saving accounts  817 non-null    object\n",
      " 6   Credit amount    1000 non-null   int64 \n",
      " 7   Duration         1000 non-null   int64 \n",
      " 8   Purpose          1000 non-null   object\n",
      " 9   Risk             1000 non-null   object\n",
      "dtypes: int64(5), object(5)\n",
      "memory usage: 78.2+ KB\n"
     ]
    }
   ],
   "source": [
    "df_credit.info()"
   ]
  },
  {
   "cell_type": "code",
   "execution_count": 40,
   "id": "5aa713d5-a24a-4b57-b0a3-b794c351ecfe",
   "metadata": {},
   "outputs": [
    {
     "data": {
      "text/html": [
       "<div>\n",
       "<style scoped>\n",
       "    .dataframe tbody tr th:only-of-type {\n",
       "        vertical-align: middle;\n",
       "    }\n",
       "\n",
       "    .dataframe tbody tr th {\n",
       "        vertical-align: top;\n",
       "    }\n",
       "\n",
       "    .dataframe thead th {\n",
       "        text-align: right;\n",
       "    }\n",
       "</style>\n",
       "<table border=\"1\" class=\"dataframe\">\n",
       "  <thead>\n",
       "    <tr style=\"text-align: right;\">\n",
       "      <th></th>\n",
       "      <th>obj_type</th>\n",
       "    </tr>\n",
       "  </thead>\n",
       "  <tbody>\n",
       "    <tr>\n",
       "      <th>Credit History</th>\n",
       "      <td>False</td>\n",
       "    </tr>\n",
       "    <tr>\n",
       "      <th>Age</th>\n",
       "      <td>False</td>\n",
       "    </tr>\n",
       "    <tr>\n",
       "      <th>Gender</th>\n",
       "      <td>True</td>\n",
       "    </tr>\n",
       "    <tr>\n",
       "      <th>Job</th>\n",
       "      <td>False</td>\n",
       "    </tr>\n",
       "    <tr>\n",
       "      <th>Housing</th>\n",
       "      <td>True</td>\n",
       "    </tr>\n",
       "    <tr>\n",
       "      <th>Saving accounts</th>\n",
       "      <td>True</td>\n",
       "    </tr>\n",
       "    <tr>\n",
       "      <th>Credit amount</th>\n",
       "      <td>False</td>\n",
       "    </tr>\n",
       "    <tr>\n",
       "      <th>Duration</th>\n",
       "      <td>False</td>\n",
       "    </tr>\n",
       "    <tr>\n",
       "      <th>Purpose</th>\n",
       "      <td>True</td>\n",
       "    </tr>\n",
       "    <tr>\n",
       "      <th>Risk</th>\n",
       "      <td>True</td>\n",
       "    </tr>\n",
       "  </tbody>\n",
       "</table>\n",
       "</div>"
      ],
      "text/plain": [
       "                 obj_type\n",
       "Credit History      False\n",
       "Age                 False\n",
       "Gender               True\n",
       "Job                 False\n",
       "Housing              True\n",
       "Saving accounts      True\n",
       "Credit amount       False\n",
       "Duration            False\n",
       "Purpose              True\n",
       "Risk                 True"
      ]
     },
     "execution_count": 40,
     "metadata": {},
     "output_type": "execute_result"
    }
   ],
   "source": [
    "df_dtypes = pd.DataFrame((df_credit.dtypes == 'object'), columns = ['obj_type'])\n",
    "df_dtypes"
   ]
  },
  {
   "cell_type": "code",
   "execution_count": 41,
   "id": "53b29a0c-651d-4016-b2af-11998a68fc44",
   "metadata": {},
   "outputs": [
    {
     "name": "stdout",
     "output_type": "stream",
     "text": [
      "Features for label encoding: Index(['Gender', 'Housing', 'Saving accounts', 'Purpose', 'Risk'], dtype='object')\n"
     ]
    }
   ],
   "source": [
    "obj_list = df_dtypes[(df_dtypes.obj_type == True)].index\n",
    "\n",
    "print(\"Features for label encoding:\", obj_list)"
   ]
  },
  {
   "cell_type": "code",
   "execution_count": 42,
   "id": "307d1028-2f38-4439-aeaf-c0716bca16ea",
   "metadata": {},
   "outputs": [
    {
     "data": {
      "text/html": [
       "<div>\n",
       "<style scoped>\n",
       "    .dataframe tbody tr th:only-of-type {\n",
       "        vertical-align: middle;\n",
       "    }\n",
       "\n",
       "    .dataframe tbody tr th {\n",
       "        vertical-align: top;\n",
       "    }\n",
       "\n",
       "    .dataframe thead th {\n",
       "        text-align: right;\n",
       "    }\n",
       "</style>\n",
       "<table border=\"1\" class=\"dataframe\">\n",
       "  <thead>\n",
       "    <tr style=\"text-align: right;\">\n",
       "      <th></th>\n",
       "      <th>Credit History</th>\n",
       "      <th>Age</th>\n",
       "      <th>Gender</th>\n",
       "      <th>Job</th>\n",
       "      <th>Housing</th>\n",
       "      <th>Saving accounts</th>\n",
       "      <th>Credit amount</th>\n",
       "      <th>Duration</th>\n",
       "      <th>Purpose</th>\n",
       "      <th>Risk</th>\n",
       "    </tr>\n",
       "  </thead>\n",
       "  <tbody>\n",
       "    <tr>\n",
       "      <th>281</th>\n",
       "      <td>2</td>\n",
       "      <td>50</td>\n",
       "      <td>1</td>\n",
       "      <td>2</td>\n",
       "      <td>1</td>\n",
       "      <td>0</td>\n",
       "      <td>1574</td>\n",
       "      <td>12</td>\n",
       "      <td>4</td>\n",
       "      <td>1</td>\n",
       "    </tr>\n",
       "    <tr>\n",
       "      <th>72</th>\n",
       "      <td>4</td>\n",
       "      <td>51</td>\n",
       "      <td>1</td>\n",
       "      <td>3</td>\n",
       "      <td>0</td>\n",
       "      <td>0</td>\n",
       "      <td>1164</td>\n",
       "      <td>8</td>\n",
       "      <td>7</td>\n",
       "      <td>1</td>\n",
       "    </tr>\n",
       "    <tr>\n",
       "      <th>129</th>\n",
       "      <td>4</td>\n",
       "      <td>29</td>\n",
       "      <td>0</td>\n",
       "      <td>2</td>\n",
       "      <td>1</td>\n",
       "      <td>0</td>\n",
       "      <td>3499</td>\n",
       "      <td>12</td>\n",
       "      <td>1</td>\n",
       "      <td>0</td>\n",
       "    </tr>\n",
       "    <tr>\n",
       "      <th>39</th>\n",
       "      <td>2</td>\n",
       "      <td>24</td>\n",
       "      <td>1</td>\n",
       "      <td>2</td>\n",
       "      <td>1</td>\n",
       "      <td>0</td>\n",
       "      <td>458</td>\n",
       "      <td>9</td>\n",
       "      <td>5</td>\n",
       "      <td>1</td>\n",
       "    </tr>\n",
       "    <tr>\n",
       "      <th>597</th>\n",
       "      <td>0</td>\n",
       "      <td>36</td>\n",
       "      <td>1</td>\n",
       "      <td>1</td>\n",
       "      <td>1</td>\n",
       "      <td>0</td>\n",
       "      <td>4241</td>\n",
       "      <td>24</td>\n",
       "      <td>0</td>\n",
       "      <td>0</td>\n",
       "    </tr>\n",
       "    <tr>\n",
       "      <th>...</th>\n",
       "      <td>...</td>\n",
       "      <td>...</td>\n",
       "      <td>...</td>\n",
       "      <td>...</td>\n",
       "      <td>...</td>\n",
       "      <td>...</td>\n",
       "      <td>...</td>\n",
       "      <td>...</td>\n",
       "      <td>...</td>\n",
       "      <td>...</td>\n",
       "    </tr>\n",
       "    <tr>\n",
       "      <th>900</th>\n",
       "      <td>4</td>\n",
       "      <td>43</td>\n",
       "      <td>1</td>\n",
       "      <td>2</td>\n",
       "      <td>2</td>\n",
       "      <td>0</td>\n",
       "      <td>2625</td>\n",
       "      <td>16</td>\n",
       "      <td>1</td>\n",
       "      <td>0</td>\n",
       "    </tr>\n",
       "    <tr>\n",
       "      <th>511</th>\n",
       "      <td>2</td>\n",
       "      <td>32</td>\n",
       "      <td>1</td>\n",
       "      <td>3</td>\n",
       "      <td>0</td>\n",
       "      <td>0</td>\n",
       "      <td>4686</td>\n",
       "      <td>36</td>\n",
       "      <td>1</td>\n",
       "      <td>1</td>\n",
       "    </tr>\n",
       "    <tr>\n",
       "      <th>404</th>\n",
       "      <td>3</td>\n",
       "      <td>43</td>\n",
       "      <td>1</td>\n",
       "      <td>2</td>\n",
       "      <td>1</td>\n",
       "      <td>2</td>\n",
       "      <td>2899</td>\n",
       "      <td>18</td>\n",
       "      <td>1</td>\n",
       "      <td>1</td>\n",
       "    </tr>\n",
       "    <tr>\n",
       "      <th>567</th>\n",
       "      <td>4</td>\n",
       "      <td>34</td>\n",
       "      <td>1</td>\n",
       "      <td>2</td>\n",
       "      <td>1</td>\n",
       "      <td>4</td>\n",
       "      <td>2578</td>\n",
       "      <td>24</td>\n",
       "      <td>5</td>\n",
       "      <td>1</td>\n",
       "    </tr>\n",
       "    <tr>\n",
       "      <th>380</th>\n",
       "      <td>2</td>\n",
       "      <td>39</td>\n",
       "      <td>1</td>\n",
       "      <td>2</td>\n",
       "      <td>1</td>\n",
       "      <td>2</td>\n",
       "      <td>2212</td>\n",
       "      <td>20</td>\n",
       "      <td>4</td>\n",
       "      <td>1</td>\n",
       "    </tr>\n",
       "  </tbody>\n",
       "</table>\n",
       "<p>900 rows × 10 columns</p>\n",
       "</div>"
      ],
      "text/plain": [
       "     Credit History  Age  Gender  Job  Housing  Saving accounts   \n",
       "281               2   50       1    2        1                0  \\\n",
       "72                4   51       1    3        0                0   \n",
       "129               4   29       0    2        1                0   \n",
       "39                2   24       1    2        1                0   \n",
       "597               0   36       1    1        1                0   \n",
       "..              ...  ...     ...  ...      ...              ...   \n",
       "900               4   43       1    2        2                0   \n",
       "511               2   32       1    3        0                0   \n",
       "404               3   43       1    2        1                2   \n",
       "567               4   34       1    2        1                4   \n",
       "380               2   39       1    2        1                2   \n",
       "\n",
       "     Credit amount  Duration  Purpose  Risk  \n",
       "281           1574        12        4     1  \n",
       "72            1164         8        7     1  \n",
       "129           3499        12        1     0  \n",
       "39             458         9        5     1  \n",
       "597           4241        24        0     0  \n",
       "..             ...       ...      ...   ...  \n",
       "900           2625        16        1     0  \n",
       "511           4686        36        1     1  \n",
       "404           2899        18        1     1  \n",
       "567           2578        24        5     1  \n",
       "380           2212        20        4     1  \n",
       "\n",
       "[900 rows x 10 columns]"
      ]
     },
     "execution_count": 42,
     "metadata": {},
     "output_type": "execute_result"
    }
   ],
   "source": [
    "le_obj = LabelEncoder()\n",
    "for feat in obj_list:\n",
    "    df_train[feat] = le_obj.fit_transform(df_train[feat])\n",
    "df_train"
   ]
  },
  {
   "cell_type": "code",
   "execution_count": 43,
   "id": "7e83fab0-b833-48b4-b181-7cc1ed337848",
   "metadata": {},
   "outputs": [
    {
     "data": {
      "text/plain": [
       "Risk\n",
       "1    631\n",
       "0    269\n",
       "Name: count, dtype: int64"
      ]
     },
     "execution_count": 43,
     "metadata": {},
     "output_type": "execute_result"
    }
   ],
   "source": [
    "# Distribution of Risk variable\n",
    "\n",
    "df_train.Risk.value_counts()"
   ]
  },
  {
   "cell_type": "code",
   "execution_count": 46,
   "id": "df4c3be5-39ea-4e62-add1-68d79baeb4e7",
   "metadata": {},
   "outputs": [
    {
     "data": {
      "text/html": [
       "<div>\n",
       "<style scoped>\n",
       "    .dataframe tbody tr th:only-of-type {\n",
       "        vertical-align: middle;\n",
       "    }\n",
       "\n",
       "    .dataframe tbody tr th {\n",
       "        vertical-align: top;\n",
       "    }\n",
       "\n",
       "    .dataframe thead th {\n",
       "        text-align: right;\n",
       "    }\n",
       "</style>\n",
       "<table border=\"1\" class=\"dataframe\">\n",
       "  <thead>\n",
       "    <tr style=\"text-align: right;\">\n",
       "      <th></th>\n",
       "      <th>Credit History</th>\n",
       "      <th>Age</th>\n",
       "      <th>Gender</th>\n",
       "      <th>Job</th>\n",
       "      <th>Housing</th>\n",
       "      <th>Saving accounts</th>\n",
       "      <th>Credit amount</th>\n",
       "      <th>Duration</th>\n",
       "      <th>Purpose</th>\n",
       "      <th>Risk</th>\n",
       "    </tr>\n",
       "  </thead>\n",
       "  <tbody>\n",
       "    <tr>\n",
       "      <th>Credit History</th>\n",
       "      <td>1.000000</td>\n",
       "      <td>0.169364</td>\n",
       "      <td>0.071458</td>\n",
       "      <td>0.023583</td>\n",
       "      <td>-0.078224</td>\n",
       "      <td>0.030897</td>\n",
       "      <td>-0.048511</td>\n",
       "      <td>-0.063852</td>\n",
       "      <td>0.021101</td>\n",
       "      <td>0.230581</td>\n",
       "    </tr>\n",
       "    <tr>\n",
       "      <th>Age</th>\n",
       "      <td>0.169364</td>\n",
       "      <td>1.000000</td>\n",
       "      <td>0.140657</td>\n",
       "      <td>-0.002827</td>\n",
       "      <td>-0.306267</td>\n",
       "      <td>0.066855</td>\n",
       "      <td>0.018938</td>\n",
       "      <td>-0.039227</td>\n",
       "      <td>-0.068341</td>\n",
       "      <td>0.092014</td>\n",
       "    </tr>\n",
       "    <tr>\n",
       "      <th>Gender</th>\n",
       "      <td>0.071458</td>\n",
       "      <td>0.140657</td>\n",
       "      <td>1.000000</td>\n",
       "      <td>0.077521</td>\n",
       "      <td>-0.207780</td>\n",
       "      <td>0.020999</td>\n",
       "      <td>0.094415</td>\n",
       "      <td>0.088978</td>\n",
       "      <td>-0.071689</td>\n",
       "      <td>0.055683</td>\n",
       "    </tr>\n",
       "    <tr>\n",
       "      <th>Job</th>\n",
       "      <td>0.023583</td>\n",
       "      <td>-0.002827</td>\n",
       "      <td>0.077521</td>\n",
       "      <td>1.000000</td>\n",
       "      <td>-0.112274</td>\n",
       "      <td>-0.010061</td>\n",
       "      <td>0.298688</td>\n",
       "      <td>0.216703</td>\n",
       "      <td>-0.010865</td>\n",
       "      <td>-0.051042</td>\n",
       "    </tr>\n",
       "    <tr>\n",
       "      <th>Housing</th>\n",
       "      <td>-0.078224</td>\n",
       "      <td>-0.306267</td>\n",
       "      <td>-0.207780</td>\n",
       "      <td>-0.112274</td>\n",
       "      <td>1.000000</td>\n",
       "      <td>0.007262</td>\n",
       "      <td>-0.168318</td>\n",
       "      <td>-0.167141</td>\n",
       "      <td>0.034526</td>\n",
       "      <td>-0.023428</td>\n",
       "    </tr>\n",
       "    <tr>\n",
       "      <th>Saving accounts</th>\n",
       "      <td>0.030897</td>\n",
       "      <td>0.066855</td>\n",
       "      <td>0.020999</td>\n",
       "      <td>-0.010061</td>\n",
       "      <td>0.007262</td>\n",
       "      <td>1.000000</td>\n",
       "      <td>-0.003814</td>\n",
       "      <td>0.000863</td>\n",
       "      <td>-0.032987</td>\n",
       "      <td>0.169349</td>\n",
       "    </tr>\n",
       "    <tr>\n",
       "      <th>Credit amount</th>\n",
       "      <td>-0.048511</td>\n",
       "      <td>0.018938</td>\n",
       "      <td>0.094415</td>\n",
       "      <td>0.298688</td>\n",
       "      <td>-0.168318</td>\n",
       "      <td>-0.003814</td>\n",
       "      <td>1.000000</td>\n",
       "      <td>0.631147</td>\n",
       "      <td>-0.138155</td>\n",
       "      <td>-0.148980</td>\n",
       "    </tr>\n",
       "    <tr>\n",
       "      <th>Duration</th>\n",
       "      <td>-0.063852</td>\n",
       "      <td>-0.039227</td>\n",
       "      <td>0.088978</td>\n",
       "      <td>0.216703</td>\n",
       "      <td>-0.167141</td>\n",
       "      <td>0.000863</td>\n",
       "      <td>0.631147</td>\n",
       "      <td>1.000000</td>\n",
       "      <td>-0.065852</td>\n",
       "      <td>-0.208445</td>\n",
       "    </tr>\n",
       "    <tr>\n",
       "      <th>Purpose</th>\n",
       "      <td>0.021101</td>\n",
       "      <td>-0.068341</td>\n",
       "      <td>-0.071689</td>\n",
       "      <td>-0.010865</td>\n",
       "      <td>0.034526</td>\n",
       "      <td>-0.032987</td>\n",
       "      <td>-0.138155</td>\n",
       "      <td>-0.065852</td>\n",
       "      <td>1.000000</td>\n",
       "      <td>0.050905</td>\n",
       "    </tr>\n",
       "    <tr>\n",
       "      <th>Risk</th>\n",
       "      <td>0.230581</td>\n",
       "      <td>0.092014</td>\n",
       "      <td>0.055683</td>\n",
       "      <td>-0.051042</td>\n",
       "      <td>-0.023428</td>\n",
       "      <td>0.169349</td>\n",
       "      <td>-0.148980</td>\n",
       "      <td>-0.208445</td>\n",
       "      <td>0.050905</td>\n",
       "      <td>1.000000</td>\n",
       "    </tr>\n",
       "  </tbody>\n",
       "</table>\n",
       "</div>"
      ],
      "text/plain": [
       "                 Credit History       Age    Gender       Job   Housing   \n",
       "Credit History         1.000000  0.169364  0.071458  0.023583 -0.078224  \\\n",
       "Age                    0.169364  1.000000  0.140657 -0.002827 -0.306267   \n",
       "Gender                 0.071458  0.140657  1.000000  0.077521 -0.207780   \n",
       "Job                    0.023583 -0.002827  0.077521  1.000000 -0.112274   \n",
       "Housing               -0.078224 -0.306267 -0.207780 -0.112274  1.000000   \n",
       "Saving accounts        0.030897  0.066855  0.020999 -0.010061  0.007262   \n",
       "Credit amount         -0.048511  0.018938  0.094415  0.298688 -0.168318   \n",
       "Duration              -0.063852 -0.039227  0.088978  0.216703 -0.167141   \n",
       "Purpose                0.021101 -0.068341 -0.071689 -0.010865  0.034526   \n",
       "Risk                   0.230581  0.092014  0.055683 -0.051042 -0.023428   \n",
       "\n",
       "                 Saving accounts  Credit amount  Duration   Purpose      Risk  \n",
       "Credit History          0.030897      -0.048511 -0.063852  0.021101  0.230581  \n",
       "Age                     0.066855       0.018938 -0.039227 -0.068341  0.092014  \n",
       "Gender                  0.020999       0.094415  0.088978 -0.071689  0.055683  \n",
       "Job                    -0.010061       0.298688  0.216703 -0.010865 -0.051042  \n",
       "Housing                 0.007262      -0.168318 -0.167141  0.034526 -0.023428  \n",
       "Saving accounts         1.000000      -0.003814  0.000863 -0.032987  0.169349  \n",
       "Credit amount          -0.003814       1.000000  0.631147 -0.138155 -0.148980  \n",
       "Duration                0.000863       0.631147  1.000000 -0.065852 -0.208445  \n",
       "Purpose                -0.032987      -0.138155 -0.065852  1.000000  0.050905  \n",
       "Risk                    0.169349      -0.148980 -0.208445  0.050905  1.000000  "
      ]
     },
     "execution_count": 46,
     "metadata": {},
     "output_type": "execute_result"
    },
    {
     "data": {
      "text/plain": [
       "<Axes: >"
      ]
     },
     "execution_count": 46,
     "metadata": {},
     "output_type": "execute_result"
    },
    {
     "data": {
      "image/png": "[encoded data removed]",
      "text/plain": [
       "<Figure size 640x480 with 2 Axes>"
      ]
     },
     "metadata": {},
     "output_type": "display_data"
    }
   ],
   "source": [
    "import seaborn as sns\n",
    "\n",
    "df_train.corr()\n",
    "### Credit amount and Duration have high correlation relatively and can be considered in feature selection step to drop 'Duration'\n",
    "sns.heatmap(df_train.corr(), annot=True, cmap='coolwarm')"
   ]
  },
  {
   "cell_type": "code",
   "execution_count": 47,
   "id": "1345e98f-59b1-4d93-8713-90ea29639035",
   "metadata": {},
   "outputs": [
    {
     "data": {
      "text/plain": [
       "(array([[ 22.,   0.,  26.,   0.,   0., 150.,   0.,  27.,   0.,  44.],\n",
       "        [ 12.,   0.,  21.,   0.,   0., 325.,   0.,  52.,   0., 221.]]),\n",
       " array([0. , 0.4, 0.8, 1.2, 1.6, 2. , 2.4, 2.8, 3.2, 3.6, 4. ]),\n",
       " <a list of 2 BarContainer objects>)"
      ]
     },
     "execution_count": 47,
     "metadata": {},
     "output_type": "execute_result"
    },
    {
     "data": {
      "text/plain": [
       "<matplotlib.legend.Legend at 0x21badeb8790>"
      ]
     },
     "execution_count": 47,
     "metadata": {},
     "output_type": "execute_result"
    },
    {
     "data": {
      "image/png": "[encoded data removed]",
      "text/plain": [
       "<Figure size 640x480 with 1 Axes>"
      ]
     },
     "metadata": {},
     "output_type": "display_data"
    }
   ],
   "source": [
    "# Ques1 : More credit history is equivalent to credit worthiness\n",
    "\n",
    "plt.hist([df_train.loc[df_train['Risk'] == 0, 'Credit History'].values, \n",
    "          df_train.loc[df_train['Risk'] == 1, 'Credit History'].values], \n",
    "          alpha=0.5, label=['Bad Risk', 'Good Risk'])\n",
    "plt.legend(loc='upper right')"
   ]
  },
  {
   "cell_type": "code",
   "execution_count": 51,
   "id": "1322bc1d-8848-44bf-9fbf-7e162a83106f",
   "metadata": {},
   "outputs": [
    {
     "data": {
      "text/plain": [
       "(Credit History\n",
       " 2    150\n",
       " 4     44\n",
       " 3     27\n",
       " 1     26\n",
       " 0     22\n",
       " Name: count, dtype: int64,)"
      ]
     },
     "execution_count": 51,
     "metadata": {},
     "output_type": "execute_result"
    },
    {
     "data": {
      "text/plain": [
       "(Credit History\n",
       " 2    325\n",
       " 4    221\n",
       " 3     52\n",
       " 1     21\n",
       " 0     12\n",
       " Name: count, dtype: int64,)"
      ]
     },
     "execution_count": 51,
     "metadata": {},
     "output_type": "execute_result"
    },
    {
     "data": {
      "text/plain": [
       "Credit History\n",
       "2    475\n",
       "4    265\n",
       "3     79\n",
       "1     47\n",
       "0     34\n",
       "Name: count, dtype: int64"
      ]
     },
     "execution_count": 51,
     "metadata": {},
     "output_type": "execute_result"
    }
   ],
   "source": [
    "df_train[df_train['Risk'] == 0]['Credit History'].value_counts(), \n",
    "df_train[df_train['Risk'] == 1]['Credit History'].value_counts(),\n",
    "df_train['Credit History'].value_counts()"
   ]
  },
  {
   "cell_type": "code",
   "execution_count": 52,
   "id": "31a3e420-b731-4c2f-afe8-81b290fe3927",
   "metadata": {},
   "outputs": [
    {
     "data": {
      "text/plain": [
       "(Credit History\n",
       " 2    0.315789\n",
       " 4    0.166038\n",
       " 3    0.341772\n",
       " 1    0.553191\n",
       " 0    0.647059\n",
       " Name: count, dtype: float64,)"
      ]
     },
     "execution_count": 52,
     "metadata": {},
     "output_type": "execute_result"
    },
    {
     "data": {
      "text/plain": [
       "(Credit History\n",
       " 2    0.684211\n",
       " 4    0.833962\n",
       " 3    0.658228\n",
       " 1    0.446809\n",
       " 0    0.352941\n",
       " Name: count, dtype: float64,)"
      ]
     },
     "execution_count": 52,
     "metadata": {},
     "output_type": "execute_result"
    }
   ],
   "source": [
    "df_train[df_train['Risk'] == 0]['Credit History'].value_counts()/df_train['Credit History'].value_counts(),\n",
    "df_train[df_train['Risk'] == 1]['Credit History'].value_counts()/df_train['Credit History'].value_counts(),"
   ]
  },
  {
   "cell_type": "code",
   "execution_count": 54,
   "id": "56c9856f-541d-43b5-9051-7c3d16dfa029",
   "metadata": {},
   "outputs": [
    {
     "data": {
      "text/plain": [
       "(array([[ 50.,  81.,  44.,  32.,  25.,  13.,  13.,   6.,   4.,   1.],\n",
       "        [ 79., 157., 111., 112.,  57.,  53.,  25.,  16.,  15.,   6.]]),\n",
       " array([19. , 24.6, 30.2, 35.8, 41.4, 47. , 52.6, 58.2, 63.8, 69.4, 75. ]),\n",
       " <a list of 2 BarContainer objects>)"
      ]
     },
     "execution_count": 54,
     "metadata": {},
     "output_type": "execute_result"
    },
    {
     "data": {
      "text/plain": [
       "<matplotlib.legend.Legend at 0x21bae4caee0>"
      ]
     },
     "execution_count": 54,
     "metadata": {},
     "output_type": "execute_result"
    },
    {
     "data": {
      "image/png": "[encoded data removed]",
      "text/plain": [
       "<Figure size 640x480 with 1 Axes>"
      ]
     },
     "metadata": {},
     "output_type": "display_data"
    }
   ],
   "source": [
    "# Ques2 : Are young people more credit worthy? Yes\n",
    "\n",
    "plt.hist([df_train.loc[df_train['Risk'] == 0, 'Age'].values, df_train.loc[df_train['Risk'] == 1, 'Age'].values], alpha=0.5, label=['Bad Risk', 'Good Risk'])\n",
    "plt.legend(loc='upper right')"
   ]
  },
  {
   "cell_type": "code",
   "execution_count": 55,
   "id": "ec504d65-593d-4a3d-a83d-38bdb8fef390",
   "metadata": {},
   "outputs": [],
   "source": [
    "df_train.Age[df_train.Age <= 30] = 0\n",
    "df_train.Age[(df_train.Age > 30) & (df_train.Age < 45)] = 1\n",
    "df_train.Age[(df_train.Age >= 45)] = 2"
   ]
  },
  {
   "cell_type": "code",
   "execution_count": 56,
   "id": "64086c4f-2404-469f-a163-4e5e08c647df",
   "metadata": {},
   "outputs": [
    {
     "data": {
      "text/plain": [
       "Age\n",
       "0    131\n",
       "1     94\n",
       "2     44\n",
       "Name: count, dtype: int64"
      ]
     },
     "execution_count": 56,
     "metadata": {},
     "output_type": "execute_result"
    },
    {
     "data": {
      "text/plain": [
       "Age\n",
       "1    258\n",
       "0    236\n",
       "2    137\n",
       "Name: count, dtype: int64"
      ]
     },
     "execution_count": 56,
     "metadata": {},
     "output_type": "execute_result"
    }
   ],
   "source": [
    "df_train[df_train['Risk'] == 0]['Age'].value_counts()\n",
    "df_train[df_train['Risk'] == 1]['Age'].value_counts()"
   ]
  },
  {
   "cell_type": "code",
   "execution_count": 57,
   "id": "a157b794-c6a7-4f2a-a9c9-5358adaacca8",
   "metadata": {},
   "outputs": [
    {
     "data": {
      "text/plain": [
       "(array([[194.,   0.,  28.,   0.,   0.,  31.,   0.,  10.,   0.,   6.],\n",
       "        [351.,   0.,  63.,   0.,   0., 132.,   0.,  48.,   0.,  37.]]),\n",
       " array([0. , 0.4, 0.8, 1.2, 1.6, 2. , 2.4, 2.8, 3.2, 3.6, 4. ]),\n",
       " <a list of 2 BarContainer objects>)"
      ]
     },
     "execution_count": 57,
     "metadata": {},
     "output_type": "execute_result"
    },
    {
     "data": {
      "text/plain": [
       "<matplotlib.legend.Legend at 0x21bae4c3520>"
      ]
     },
     "execution_count": 57,
     "metadata": {},
     "output_type": "execute_result"
    },
    {
     "data": {
      "image/png": "[encoded data removed]",
      "text/plain": [
       "<Figure size 640x480 with 1 Axes>"
      ]
     },
     "metadata": {},
     "output_type": "display_data"
    }
   ],
   "source": [
    "# More saving accounts equivalent to more credit worthy? Inconclusive\n",
    "\n",
    "plt.hist([df_train.loc[df_train['Risk'] == 0, 'Saving accounts'].values, df_train.loc[df_train['Risk'] == 1, 'Saving accounts'].values], alpha=0.5, label=['Bad Risk', 'Good Risk'])\n",
    "plt.legend(loc='upper right')"
   ]
  },
  {
   "cell_type": "code",
   "execution_count": 58,
   "id": "10cb1338-2bad-4443-acb2-42a8db0891a7",
   "metadata": {},
   "outputs": [
    {
     "data": {
      "text/plain": [
       "Saving accounts\n",
       "0    545\n",
       "2    163\n",
       "1     91\n",
       "3     58\n",
       "4     43\n",
       "Name: count, dtype: int64"
      ]
     },
     "execution_count": 58,
     "metadata": {},
     "output_type": "execute_result"
    }
   ],
   "source": [
    "df_train['Saving accounts'].value_counts()"
   ]
  },
  {
   "cell_type": "code",
   "execution_count": 59,
   "id": "77327267-6b78-4898-ba40-6cbc3aba8dd5",
   "metadata": {},
   "outputs": [
    {
     "data": {
      "text/plain": [
       "Saving accounts\n",
       "0    194\n",
       "2     31\n",
       "1     28\n",
       "3     10\n",
       "4      6\n",
       "Name: count, dtype: int64"
      ]
     },
     "execution_count": 59,
     "metadata": {},
     "output_type": "execute_result"
    },
    {
     "data": {
      "text/plain": [
       "Saving accounts\n",
       "0    351\n",
       "2    132\n",
       "1     63\n",
       "3     48\n",
       "4     37\n",
       "Name: count, dtype: int64"
      ]
     },
     "execution_count": 59,
     "metadata": {},
     "output_type": "execute_result"
    }
   ],
   "source": [
    "df_train[df_train['Risk'] == 0]['Saving accounts'].value_counts()\n",
    "df_train[df_train['Risk'] == 1]['Saving accounts'].value_counts()"
   ]
  },
  {
   "cell_type": "code",
   "execution_count": 60,
   "id": "883de2f6-06fd-4748-8793-e62233e140e1",
   "metadata": {},
   "outputs": [],
   "source": [
    "y_train = df_train['Risk']\n",
    "X_train = df_train.drop(columns = ['Risk'])"
   ]
  },
  {
   "cell_type": "code",
   "execution_count": 62,
   "id": "75078bbd-3960-426c-9791-677f8df33c4a",
   "metadata": {},
   "outputs": [
    {
     "data": {
      "text/plain": [
       "Credit History      0\n",
       "Age                 0\n",
       "Gender              0\n",
       "Job                 0\n",
       "Housing             0\n",
       "Saving accounts    20\n",
       "Credit amount       0\n",
       "Duration            0\n",
       "Purpose             0\n",
       "Risk                0\n",
       "dtype: int64"
      ]
     },
     "execution_count": 62,
     "metadata": {},
     "output_type": "execute_result"
    },
    {
     "data": {
      "text/plain": [
       "Credit History     0\n",
       "Age                0\n",
       "Gender             0\n",
       "Job                0\n",
       "Housing            0\n",
       "Saving accounts    0\n",
       "Credit amount      0\n",
       "Duration           0\n",
       "Purpose            0\n",
       "Risk               0\n",
       "dtype: int64"
      ]
     },
     "execution_count": 62,
     "metadata": {},
     "output_type": "execute_result"
    }
   ],
   "source": [
    "df_test.isnull().sum()\n",
    "### So, replacing NaN with 'no account'\n",
    "df_test.loc[df_test['Saving accounts'].isnull(), 'Saving accounts'] = 'no account'\n",
    "df_test.isnull().sum()"
   ]
  },
  {
   "cell_type": "code",
   "execution_count": 63,
   "id": "ed36e25a-3a08-4250-b2fc-33c177ce3a04",
   "metadata": {},
   "outputs": [
    {
     "data": {
      "text/html": [
       "<div>\n",
       "<style scoped>\n",
       "    .dataframe tbody tr th:only-of-type {\n",
       "        vertical-align: middle;\n",
       "    }\n",
       "\n",
       "    .dataframe tbody tr th {\n",
       "        vertical-align: top;\n",
       "    }\n",
       "\n",
       "    .dataframe thead th {\n",
       "        text-align: right;\n",
       "    }\n",
       "</style>\n",
       "<table border=\"1\" class=\"dataframe\">\n",
       "  <thead>\n",
       "    <tr style=\"text-align: right;\">\n",
       "      <th></th>\n",
       "      <th>Credit History</th>\n",
       "      <th>Age</th>\n",
       "      <th>Gender</th>\n",
       "      <th>Job</th>\n",
       "      <th>Housing</th>\n",
       "      <th>Saving accounts</th>\n",
       "      <th>Credit amount</th>\n",
       "      <th>Duration</th>\n",
       "      <th>Purpose</th>\n",
       "      <th>Risk</th>\n",
       "    </tr>\n",
       "  </thead>\n",
       "  <tbody>\n",
       "    <tr>\n",
       "      <th>912</th>\n",
       "      <td>2</td>\n",
       "      <td>25</td>\n",
       "      <td>0</td>\n",
       "      <td>2</td>\n",
       "      <td>1</td>\n",
       "      <td>2</td>\n",
       "      <td>2991</td>\n",
       "      <td>30</td>\n",
       "      <td>5</td>\n",
       "      <td>1</td>\n",
       "    </tr>\n",
       "    <tr>\n",
       "      <th>892</th>\n",
       "      <td>4</td>\n",
       "      <td>38</td>\n",
       "      <td>1</td>\n",
       "      <td>1</td>\n",
       "      <td>1</td>\n",
       "      <td>0</td>\n",
       "      <td>2171</td>\n",
       "      <td>12</td>\n",
       "      <td>1</td>\n",
       "      <td>1</td>\n",
       "    </tr>\n",
       "    <tr>\n",
       "      <th>248</th>\n",
       "      <td>2</td>\n",
       "      <td>26</td>\n",
       "      <td>1</td>\n",
       "      <td>2</td>\n",
       "      <td>1</td>\n",
       "      <td>0</td>\n",
       "      <td>1925</td>\n",
       "      <td>24</td>\n",
       "      <td>4</td>\n",
       "      <td>1</td>\n",
       "    </tr>\n",
       "    <tr>\n",
       "      <th>469</th>\n",
       "      <td>3</td>\n",
       "      <td>35</td>\n",
       "      <td>1</td>\n",
       "      <td>1</td>\n",
       "      <td>1</td>\n",
       "      <td>0</td>\n",
       "      <td>4679</td>\n",
       "      <td>24</td>\n",
       "      <td>1</td>\n",
       "      <td>1</td>\n",
       "    </tr>\n",
       "    <tr>\n",
       "      <th>798</th>\n",
       "      <td>3</td>\n",
       "      <td>54</td>\n",
       "      <td>1</td>\n",
       "      <td>2</td>\n",
       "      <td>1</td>\n",
       "      <td>2</td>\n",
       "      <td>717</td>\n",
       "      <td>24</td>\n",
       "      <td>1</td>\n",
       "      <td>1</td>\n",
       "    </tr>\n",
       "    <tr>\n",
       "      <th>...</th>\n",
       "      <td>...</td>\n",
       "      <td>...</td>\n",
       "      <td>...</td>\n",
       "      <td>...</td>\n",
       "      <td>...</td>\n",
       "      <td>...</td>\n",
       "      <td>...</td>\n",
       "      <td>...</td>\n",
       "      <td>...</td>\n",
       "      <td>...</td>\n",
       "    </tr>\n",
       "    <tr>\n",
       "      <th>113</th>\n",
       "      <td>4</td>\n",
       "      <td>25</td>\n",
       "      <td>0</td>\n",
       "      <td>2</td>\n",
       "      <td>1</td>\n",
       "      <td>0</td>\n",
       "      <td>7855</td>\n",
       "      <td>36</td>\n",
       "      <td>1</td>\n",
       "      <td>0</td>\n",
       "    </tr>\n",
       "    <tr>\n",
       "      <th>618</th>\n",
       "      <td>2</td>\n",
       "      <td>21</td>\n",
       "      <td>0</td>\n",
       "      <td>2</td>\n",
       "      <td>2</td>\n",
       "      <td>1</td>\n",
       "      <td>3441</td>\n",
       "      <td>30</td>\n",
       "      <td>4</td>\n",
       "      <td>0</td>\n",
       "    </tr>\n",
       "    <tr>\n",
       "      <th>5</th>\n",
       "      <td>2</td>\n",
       "      <td>35</td>\n",
       "      <td>1</td>\n",
       "      <td>1</td>\n",
       "      <td>0</td>\n",
       "      <td>2</td>\n",
       "      <td>9055</td>\n",
       "      <td>36</td>\n",
       "      <td>3</td>\n",
       "      <td>1</td>\n",
       "    </tr>\n",
       "    <tr>\n",
       "      <th>446</th>\n",
       "      <td>2</td>\n",
       "      <td>34</td>\n",
       "      <td>0</td>\n",
       "      <td>2</td>\n",
       "      <td>1</td>\n",
       "      <td>0</td>\n",
       "      <td>1842</td>\n",
       "      <td>36</td>\n",
       "      <td>1</td>\n",
       "      <td>0</td>\n",
       "    </tr>\n",
       "    <tr>\n",
       "      <th>733</th>\n",
       "      <td>2</td>\n",
       "      <td>28</td>\n",
       "      <td>0</td>\n",
       "      <td>2</td>\n",
       "      <td>2</td>\n",
       "      <td>4</td>\n",
       "      <td>2603</td>\n",
       "      <td>24</td>\n",
       "      <td>1</td>\n",
       "      <td>1</td>\n",
       "    </tr>\n",
       "  </tbody>\n",
       "</table>\n",
       "<p>100 rows × 10 columns</p>\n",
       "</div>"
      ],
      "text/plain": [
       "     Credit History  Age  Gender  Job  Housing  Saving accounts   \n",
       "912               2   25       0    2        1                2  \\\n",
       "892               4   38       1    1        1                0   \n",
       "248               2   26       1    2        1                0   \n",
       "469               3   35       1    1        1                0   \n",
       "798               3   54       1    2        1                2   \n",
       "..              ...  ...     ...  ...      ...              ...   \n",
       "113               4   25       0    2        1                0   \n",
       "618               2   21       0    2        2                1   \n",
       "5                 2   35       1    1        0                2   \n",
       "446               2   34       0    2        1                0   \n",
       "733               2   28       0    2        2                4   \n",
       "\n",
       "     Credit amount  Duration  Purpose  Risk  \n",
       "912           2991        30        5     1  \n",
       "892           2171        12        1     1  \n",
       "248           1925        24        4     1  \n",
       "469           4679        24        1     1  \n",
       "798            717        24        1     1  \n",
       "..             ...       ...      ...   ...  \n",
       "113           7855        36        1     0  \n",
       "618           3441        30        4     0  \n",
       "5             9055        36        3     1  \n",
       "446           1842        36        1     0  \n",
       "733           2603        24        1     1  \n",
       "\n",
       "[100 rows x 10 columns]"
      ]
     },
     "execution_count": 63,
     "metadata": {},
     "output_type": "execute_result"
    }
   ],
   "source": [
    "le_obj = LabelEncoder()\n",
    "for feat in obj_list:\n",
    "    df_test[feat] = le_obj.fit_transform(df_test[feat])\n",
    "df_test"
   ]
  },
  {
   "cell_type": "code",
   "execution_count": 65,
   "id": "ca9f63bc-936e-414f-be7d-4b5f478db6a0",
   "metadata": {},
   "outputs": [
    {
     "data": {
      "text/plain": [
       "['Credit History',\n",
       " 'Age',\n",
       " 'Gender',\n",
       " 'Job',\n",
       " 'Housing',\n",
       " 'Saving accounts',\n",
       " 'Credit amount',\n",
       " 'Duration',\n",
       " 'Purpose',\n",
       " 'Risk']"
      ]
     },
     "execution_count": 65,
     "metadata": {},
     "output_type": "execute_result"
    },
    {
     "data": {
      "text/plain": [
       "['Credit History',\n",
       " 'Age',\n",
       " 'Gender',\n",
       " 'Job',\n",
       " 'Housing',\n",
       " 'Saving accounts',\n",
       " 'Credit amount',\n",
       " 'Duration',\n",
       " 'Purpose',\n",
       " 'Risk']"
      ]
     },
     "execution_count": 65,
     "metadata": {},
     "output_type": "execute_result"
    }
   ],
   "source": [
    "train_cols = df_train.columns.tolist()\n",
    "train_cols\n",
    "test_cols = df_test.columns.tolist()\n",
    "test_cols"
   ]
  },
  {
   "cell_type": "code",
   "execution_count": 66,
   "id": "c8c6949b-e6ee-4c69-8e56-6ba8c1116edb",
   "metadata": {},
   "outputs": [
    {
     "data": {
      "text/plain": [
       "[]"
      ]
     },
     "execution_count": 66,
     "metadata": {},
     "output_type": "execute_result"
    }
   ],
   "source": [
    "delta_cols = list(set(train_cols).difference(test_cols))\n",
    "delta_cols"
   ]
  },
  {
   "cell_type": "code",
   "execution_count": 70,
   "id": "3684978a-e610-46cd-a7d9-8d77857987a0",
   "metadata": {},
   "outputs": [],
   "source": [
    "y_test = df_test['Risk']\n",
    "X_test = df_test.drop(columns = ['Risk'])"
   ]
  },
  {
   "cell_type": "code",
   "execution_count": 71,
   "id": "8070102f-7cd9-4d00-a119-40e6f961ffa0",
   "metadata": {},
   "outputs": [],
   "source": [
    "import numpy as np\n",
    "from sklearn.metrics import fbeta_score, make_scorer\n",
    "\n",
    "ftwo_scorer = make_scorer(fbeta_score, beta=1/5)\n",
    "### To avoid to classify a customer as good when they are bad i.e. objective is to reduce FP, we want better precision \n",
    "### Hence, applying beta = 1/5 and selecting fbeta_score as evaluation metric\n",
    "fbeta_mu_score, fbeta_sigma_score = [], []\n",
    "model_list = [DecisionTreeClassifier(), RandomForestClassifier(), LogisticRegression()]\n",
    "for model in model_list:\n",
    "    obj = model\n",
    "    scores = cross_val_score(obj, X_train, y_train, cv=5, scoring = ftwo_scorer)\n",
    "    fbeta_mu_score.append(np.mean(scores))\n",
    "    fbeta_sigma_score.append(np.std(scores))"
   ]
  },
  {
   "cell_type": "code",
   "execution_count": 72,
   "id": "3914346f-ee65-424a-a25d-d8df47393e7f",
   "metadata": {},
   "outputs": [
    {
     "data": {
      "text/plain": [
       "[0.7367346116737055, 0.7619243350245732, 0.7480558867864884]"
      ]
     },
     "execution_count": 72,
     "metadata": {},
     "output_type": "execute_result"
    },
    {
     "data": {
      "text/plain": [
       "[0.023449872560600573, 0.01406546688517996, 0.015965589792591613]"
      ]
     },
     "execution_count": 72,
     "metadata": {},
     "output_type": "execute_result"
    }
   ],
   "source": [
    "fbeta_mu_score\n",
    "fbeta_sigma_score"
   ]
  },
  {
   "cell_type": "code",
   "execution_count": 73,
   "id": "a9082d1e-766e-47b3-b314-7d78a08d986c",
   "metadata": {},
   "outputs": [
    {
     "data": {
      "text/html": [
       "<style>#sk-container-id-1 {color: black;background-color: white;}#sk-container-id-1 pre{padding: 0;}#sk-container-id-1 div.sk-toggleable {background-color: white;}#sk-container-id-1 label.sk-toggleable__label {cursor: pointer;display: block;width: 100%;margin-bottom: 0;padding: 0.3em;box-sizing: border-box;text-align: center;}#sk-container-id-1 label.sk-toggleable__label-arrow:before {content: \"▸\";float: left;margin-right: 0.25em;color: #696969;}#sk-container-id-1 label.sk-toggleable__label-arrow:hover:before {color: black;}#sk-container-id-1 div.sk-estimator:hover label.sk-toggleable__label-arrow:before {color: black;}#sk-container-id-1 div.sk-toggleable__content {max-height: 0;max-width: 0;overflow: hidden;text-align: left;background-color: #f0f8ff;}#sk-container-id-1 div.sk-toggleable__content pre {margin: 0.2em;color: black;border-radius: 0.25em;background-color: #f0f8ff;}#sk-container-id-1 input.sk-toggleable__control:checked~div.sk-toggleable__content {max-height: 200px;max-width: 100%;overflow: auto;}#sk-container-id-1 input.sk-toggleable__control:checked~label.sk-toggleable__label-arrow:before {content: \"▾\";}#sk-container-id-1 div.sk-estimator input.sk-toggleable__control:checked~label.sk-toggleable__label {background-color: #d4ebff;}#sk-container-id-1 div.sk-label input.sk-toggleable__control:checked~label.sk-toggleable__label {background-color: #d4ebff;}#sk-container-id-1 input.sk-hidden--visually {border: 0;clip: rect(1px 1px 1px 1px);clip: rect(1px, 1px, 1px, 1px);height: 1px;margin: -1px;overflow: hidden;padding: 0;position: absolute;width: 1px;}#sk-container-id-1 div.sk-estimator {font-family: monospace;background-color: #f0f8ff;border: 1px dotted black;border-radius: 0.25em;box-sizing: border-box;margin-bottom: 0.5em;}#sk-container-id-1 div.sk-estimator:hover {background-color: #d4ebff;}#sk-container-id-1 div.sk-parallel-item::after {content: \"\";width: 100%;border-bottom: 1px solid gray;flex-grow: 1;}#sk-container-id-1 div.sk-label:hover label.sk-toggleable__label {background-color: #d4ebff;}#sk-container-id-1 div.sk-serial::before {content: \"\";position: absolute;border-left: 1px solid gray;box-sizing: border-box;top: 0;bottom: 0;left: 50%;z-index: 0;}#sk-container-id-1 div.sk-serial {display: flex;flex-direction: column;align-items: center;background-color: white;padding-right: 0.2em;padding-left: 0.2em;position: relative;}#sk-container-id-1 div.sk-item {position: relative;z-index: 1;}#sk-container-id-1 div.sk-parallel {display: flex;align-items: stretch;justify-content: center;background-color: white;position: relative;}#sk-container-id-1 div.sk-item::before, #sk-container-id-1 div.sk-parallel-item::before {content: \"\";position: absolute;border-left: 1px solid gray;box-sizing: border-box;top: 0;bottom: 0;left: 50%;z-index: -1;}#sk-container-id-1 div.sk-parallel-item {display: flex;flex-direction: column;z-index: 1;position: relative;background-color: white;}#sk-container-id-1 div.sk-parallel-item:first-child::after {align-self: flex-end;width: 50%;}#sk-container-id-1 div.sk-parallel-item:last-child::after {align-self: flex-start;width: 50%;}#sk-container-id-1 div.sk-parallel-item:only-child::after {width: 0;}#sk-container-id-1 div.sk-dashed-wrapped {border: 1px dashed gray;margin: 0 0.4em 0.5em 0.4em;box-sizing: border-box;padding-bottom: 0.4em;background-color: white;}#sk-container-id-1 div.sk-label label {font-family: monospace;font-weight: bold;display: inline-block;line-height: 1.2em;}#sk-container-id-1 div.sk-label-container {text-align: center;}#sk-container-id-1 div.sk-container {/* jupyter's `normalize.less` sets `[hidden] { display: none; }` but bootstrap.min.css set `[hidden] { display: none !important; }` so we also need the `!important` here to be able to override the default hidden behavior on the sphinx rendered scikit-learn.org. See: https://github.com/scikit-learn/scikit-learn/issues/21755 */display: inline-block !important;position: relative;}#sk-container-id-1 div.sk-text-repr-fallback {display: none;}</style><div id=\"sk-container-id-1\" class=\"sk-top-container\"><div class=\"sk-text-repr-fallback\"><pre>RandomForestClassifier()</pre><b>In a Jupyter environment, please rerun this cell to show the HTML representation or trust the notebook. <br />On GitHub, the HTML representation is unable to render, please try loading this page with nbviewer.org.</b></div><div class=\"sk-container\" hidden><div class=\"sk-item\"><div class=\"sk-estimator sk-toggleable\"><input class=\"sk-toggleable__control sk-hidden--visually\" id=\"sk-estimator-id-1\" type=\"checkbox\" checked><label for=\"sk-estimator-id-1\" class=\"sk-toggleable__label sk-toggleable__label-arrow\">RandomForestClassifier</label><div class=\"sk-toggleable__content\"><pre>RandomForestClassifier()</pre></div></div></div></div></div>"
      ],
      "text/plain": [
       "RandomForestClassifier()"
      ]
     },
     "execution_count": 73,
     "metadata": {},
     "output_type": "execute_result"
    }
   ],
   "source": [
    "model_index = fbeta_mu_score.index(max(fbeta_mu_score))\n",
    "selected_model = model_list[model_index]\n",
    "selected_model"
   ]
  },
  {
   "cell_type": "code",
   "execution_count": 74,
   "id": "742607d9-6da8-4a6a-90b9-6fe883cd2f83",
   "metadata": {},
   "outputs": [
    {
     "data": {
      "text/html": [
       "<style>#sk-container-id-2 {color: black;background-color: white;}#sk-container-id-2 pre{padding: 0;}#sk-container-id-2 div.sk-toggleable {background-color: white;}#sk-container-id-2 label.sk-toggleable__label {cursor: pointer;display: block;width: 100%;margin-bottom: 0;padding: 0.3em;box-sizing: border-box;text-align: center;}#sk-container-id-2 label.sk-toggleable__label-arrow:before {content: \"▸\";float: left;margin-right: 0.25em;color: #696969;}#sk-container-id-2 label.sk-toggleable__label-arrow:hover:before {color: black;}#sk-container-id-2 div.sk-estimator:hover label.sk-toggleable__label-arrow:before {color: black;}#sk-container-id-2 div.sk-toggleable__content {max-height: 0;max-width: 0;overflow: hidden;text-align: left;background-color: #f0f8ff;}#sk-container-id-2 div.sk-toggleable__content pre {margin: 0.2em;color: black;border-radius: 0.25em;background-color: #f0f8ff;}#sk-container-id-2 input.sk-toggleable__control:checked~div.sk-toggleable__content {max-height: 200px;max-width: 100%;overflow: auto;}#sk-container-id-2 input.sk-toggleable__control:checked~label.sk-toggleable__label-arrow:before {content: \"▾\";}#sk-container-id-2 div.sk-estimator input.sk-toggleable__control:checked~label.sk-toggleable__label {background-color: #d4ebff;}#sk-container-id-2 div.sk-label input.sk-toggleable__control:checked~label.sk-toggleable__label {background-color: #d4ebff;}#sk-container-id-2 input.sk-hidden--visually {border: 0;clip: rect(1px 1px 1px 1px);clip: rect(1px, 1px, 1px, 1px);height: 1px;margin: -1px;overflow: hidden;padding: 0;position: absolute;width: 1px;}#sk-container-id-2 div.sk-estimator {font-family: monospace;background-color: #f0f8ff;border: 1px dotted black;border-radius: 0.25em;box-sizing: border-box;margin-bottom: 0.5em;}#sk-container-id-2 div.sk-estimator:hover {background-color: #d4ebff;}#sk-container-id-2 div.sk-parallel-item::after {content: \"\";width: 100%;border-bottom: 1px solid gray;flex-grow: 1;}#sk-container-id-2 div.sk-label:hover label.sk-toggleable__label {background-color: #d4ebff;}#sk-container-id-2 div.sk-serial::before {content: \"\";position: absolute;border-left: 1px solid gray;box-sizing: border-box;top: 0;bottom: 0;left: 50%;z-index: 0;}#sk-container-id-2 div.sk-serial {display: flex;flex-direction: column;align-items: center;background-color: white;padding-right: 0.2em;padding-left: 0.2em;position: relative;}#sk-container-id-2 div.sk-item {position: relative;z-index: 1;}#sk-container-id-2 div.sk-parallel {display: flex;align-items: stretch;justify-content: center;background-color: white;position: relative;}#sk-container-id-2 div.sk-item::before, #sk-container-id-2 div.sk-parallel-item::before {content: \"\";position: absolute;border-left: 1px solid gray;box-sizing: border-box;top: 0;bottom: 0;left: 50%;z-index: -1;}#sk-container-id-2 div.sk-parallel-item {display: flex;flex-direction: column;z-index: 1;position: relative;background-color: white;}#sk-container-id-2 div.sk-parallel-item:first-child::after {align-self: flex-end;width: 50%;}#sk-container-id-2 div.sk-parallel-item:last-child::after {align-self: flex-start;width: 50%;}#sk-container-id-2 div.sk-parallel-item:only-child::after {width: 0;}#sk-container-id-2 div.sk-dashed-wrapped {border: 1px dashed gray;margin: 0 0.4em 0.5em 0.4em;box-sizing: border-box;padding-bottom: 0.4em;background-color: white;}#sk-container-id-2 div.sk-label label {font-family: monospace;font-weight: bold;display: inline-block;line-height: 1.2em;}#sk-container-id-2 div.sk-label-container {text-align: center;}#sk-container-id-2 div.sk-container {/* jupyter's `normalize.less` sets `[hidden] { display: none; }` but bootstrap.min.css set `[hidden] { display: none !important; }` so we also need the `!important` here to be able to override the default hidden behavior on the sphinx rendered scikit-learn.org. See: https://github.com/scikit-learn/scikit-learn/issues/21755 */display: inline-block !important;position: relative;}#sk-container-id-2 div.sk-text-repr-fallback {display: none;}</style><div id=\"sk-container-id-2\" class=\"sk-top-container\"><div class=\"sk-text-repr-fallback\"><pre>RandomForestClassifier(max_depth=3, min_samples_leaf=50)</pre><b>In a Jupyter environment, please rerun this cell to show the HTML representation or trust the notebook. <br />On GitHub, the HTML representation is unable to render, please try loading this page with nbviewer.org.</b></div><div class=\"sk-container\" hidden><div class=\"sk-item\"><div class=\"sk-estimator sk-toggleable\"><input class=\"sk-toggleable__control sk-hidden--visually\" id=\"sk-estimator-id-2\" type=\"checkbox\" checked><label for=\"sk-estimator-id-2\" class=\"sk-toggleable__label sk-toggleable__label-arrow\">RandomForestClassifier</label><div class=\"sk-toggleable__content\"><pre>RandomForestClassifier(max_depth=3, min_samples_leaf=50)</pre></div></div></div></div></div>"
      ],
      "text/plain": [
       "RandomForestClassifier(max_depth=3, min_samples_leaf=50)"
      ]
     },
     "execution_count": 74,
     "metadata": {},
     "output_type": "execute_result"
    },
    {
     "data": {
      "text/plain": [
       "0.719326383319968"
      ]
     },
     "execution_count": 74,
     "metadata": {},
     "output_type": "execute_result"
    }
   ],
   "source": [
    "selected_model = RandomForestClassifier(max_depth=3, min_samples_leaf=50)\n",
    "selected_model.fit(X_train, y_train)\n",
    "y_pred = selected_model.predict(X_test)\n",
    "fbeta_score(y_test, y_pred, beta=1/5)"
   ]
  },
  {
   "cell_type": "code",
   "execution_count": 75,
   "id": "3081b76d-3e30-47c5-89d3-48c1fb9a32d3",
   "metadata": {},
   "outputs": [
    {
     "data": {
      "text/html": [
       "<div>\n",
       "<style scoped>\n",
       "    .dataframe tbody tr th:only-of-type {\n",
       "        vertical-align: middle;\n",
       "    }\n",
       "\n",
       "    .dataframe tbody tr th {\n",
       "        vertical-align: top;\n",
       "    }\n",
       "\n",
       "    .dataframe thead th {\n",
       "        text-align: right;\n",
       "    }\n",
       "</style>\n",
       "<table border=\"1\" class=\"dataframe\">\n",
       "  <thead>\n",
       "    <tr style=\"text-align: right;\">\n",
       "      <th></th>\n",
       "      <th>cols</th>\n",
       "      <th>importance</th>\n",
       "    </tr>\n",
       "  </thead>\n",
       "  <tbody>\n",
       "    <tr>\n",
       "      <th>0</th>\n",
       "      <td>Credit History</td>\n",
       "      <td>0.233363</td>\n",
       "    </tr>\n",
       "    <tr>\n",
       "      <th>1</th>\n",
       "      <td>Age</td>\n",
       "      <td>0.042733</td>\n",
       "    </tr>\n",
       "    <tr>\n",
       "      <th>2</th>\n",
       "      <td>Gender</td>\n",
       "      <td>0.013579</td>\n",
       "    </tr>\n",
       "    <tr>\n",
       "      <th>3</th>\n",
       "      <td>Job</td>\n",
       "      <td>0.004213</td>\n",
       "    </tr>\n",
       "    <tr>\n",
       "      <th>4</th>\n",
       "      <td>Housing</td>\n",
       "      <td>0.036744</td>\n",
       "    </tr>\n",
       "    <tr>\n",
       "      <th>5</th>\n",
       "      <td>Saving accounts</td>\n",
       "      <td>0.155373</td>\n",
       "    </tr>\n",
       "    <tr>\n",
       "      <th>6</th>\n",
       "      <td>Credit amount</td>\n",
       "      <td>0.235205</td>\n",
       "    </tr>\n",
       "    <tr>\n",
       "      <th>7</th>\n",
       "      <td>Duration</td>\n",
       "      <td>0.256891</td>\n",
       "    </tr>\n",
       "    <tr>\n",
       "      <th>8</th>\n",
       "      <td>Purpose</td>\n",
       "      <td>0.021898</td>\n",
       "    </tr>\n",
       "  </tbody>\n",
       "</table>\n",
       "</div>"
      ],
      "text/plain": [
       "              cols  importance\n",
       "0   Credit History    0.233363\n",
       "1              Age    0.042733\n",
       "2           Gender    0.013579\n",
       "3              Job    0.004213\n",
       "4          Housing    0.036744\n",
       "5  Saving accounts    0.155373\n",
       "6    Credit amount    0.235205\n",
       "7         Duration    0.256891\n",
       "8          Purpose    0.021898"
      ]
     },
     "execution_count": 75,
     "metadata": {},
     "output_type": "execute_result"
    }
   ],
   "source": [
    "# porcatone feature importance\n",
    "\n",
    "df_feat = pd.DataFrame()\n",
    "df_feat['cols'] = X_train.columns\n",
    "if str(selected_model)[:3] == 'Log' :\n",
    "    df_feat['importance'] = np.abs(selected_model.coef_[0])\n",
    "else:\n",
    "    df_feat['importance'] = selected_model.feature_importances_\n",
    "    \n",
    "df_feat"
   ]
  },
  {
   "cell_type": "code",
   "execution_count": 76,
   "id": "ee2471a0-5868-457c-9925-b460a87f7d30",
   "metadata": {},
   "outputs": [
    {
     "name": "stdout",
     "output_type": "stream",
     "text": [
      "top 3 features: ['Duration', 'Credit amount', 'Credit History']\n",
      "Top 3 features' cumulative importance: 73.0\n"
     ]
    }
   ],
   "source": [
    "top_3 = list(df_feat.sort_values(by = 'importance', ascending = False).head(3)['cols'].values)\n",
    "print(\"top 3 features:\", top_3)\n",
    "print(\"Top 3 features' cumulative importance:\", np.round(100*df_feat.sort_values(by = 'importance', ascending = False).head(3)['importance'].sum()))\n"
   ]
  },
  {
   "cell_type": "code",
   "execution_count": 77,
   "id": "14ea3235-9d84-427a-ab2c-d1d9fbcc8e94",
   "metadata": {},
   "outputs": [
    {
     "data": {
      "text/html": [
       "<div>\n",
       "<style scoped>\n",
       "    .dataframe tbody tr th:only-of-type {\n",
       "        vertical-align: middle;\n",
       "    }\n",
       "\n",
       "    .dataframe tbody tr th {\n",
       "        vertical-align: top;\n",
       "    }\n",
       "\n",
       "    .dataframe thead th {\n",
       "        text-align: right;\n",
       "    }\n",
       "</style>\n",
       "<table border=\"1\" class=\"dataframe\">\n",
       "  <thead>\n",
       "    <tr style=\"text-align: right;\">\n",
       "      <th></th>\n",
       "      <th>Credit History</th>\n",
       "      <th>Age</th>\n",
       "      <th>Gender</th>\n",
       "      <th>Job</th>\n",
       "      <th>Housing</th>\n",
       "      <th>Saving accounts</th>\n",
       "      <th>Credit amount</th>\n",
       "      <th>Duration</th>\n",
       "      <th>Purpose</th>\n",
       "      <th>Risk</th>\n",
       "    </tr>\n",
       "  </thead>\n",
       "  <tbody>\n",
       "    <tr>\n",
       "      <th>912</th>\n",
       "      <td>2</td>\n",
       "      <td>25</td>\n",
       "      <td>0</td>\n",
       "      <td>2</td>\n",
       "      <td>1</td>\n",
       "      <td>2</td>\n",
       "      <td>2991</td>\n",
       "      <td>30</td>\n",
       "      <td>5</td>\n",
       "      <td>1</td>\n",
       "    </tr>\n",
       "    <tr>\n",
       "      <th>892</th>\n",
       "      <td>4</td>\n",
       "      <td>38</td>\n",
       "      <td>1</td>\n",
       "      <td>1</td>\n",
       "      <td>1</td>\n",
       "      <td>0</td>\n",
       "      <td>2171</td>\n",
       "      <td>12</td>\n",
       "      <td>1</td>\n",
       "      <td>1</td>\n",
       "    </tr>\n",
       "    <tr>\n",
       "      <th>248</th>\n",
       "      <td>2</td>\n",
       "      <td>26</td>\n",
       "      <td>1</td>\n",
       "      <td>2</td>\n",
       "      <td>1</td>\n",
       "      <td>0</td>\n",
       "      <td>1925</td>\n",
       "      <td>24</td>\n",
       "      <td>4</td>\n",
       "      <td>1</td>\n",
       "    </tr>\n",
       "    <tr>\n",
       "      <th>469</th>\n",
       "      <td>3</td>\n",
       "      <td>35</td>\n",
       "      <td>1</td>\n",
       "      <td>1</td>\n",
       "      <td>1</td>\n",
       "      <td>0</td>\n",
       "      <td>4679</td>\n",
       "      <td>24</td>\n",
       "      <td>1</td>\n",
       "      <td>1</td>\n",
       "    </tr>\n",
       "    <tr>\n",
       "      <th>798</th>\n",
       "      <td>3</td>\n",
       "      <td>54</td>\n",
       "      <td>1</td>\n",
       "      <td>2</td>\n",
       "      <td>1</td>\n",
       "      <td>2</td>\n",
       "      <td>717</td>\n",
       "      <td>24</td>\n",
       "      <td>1</td>\n",
       "      <td>1</td>\n",
       "    </tr>\n",
       "  </tbody>\n",
       "</table>\n",
       "</div>"
      ],
      "text/plain": [
       "     Credit History  Age  Gender  Job  Housing  Saving accounts   \n",
       "912               2   25       0    2        1                2  \\\n",
       "892               4   38       1    1        1                0   \n",
       "248               2   26       1    2        1                0   \n",
       "469               3   35       1    1        1                0   \n",
       "798               3   54       1    2        1                2   \n",
       "\n",
       "     Credit amount  Duration  Purpose  Risk  \n",
       "912           2991        30        5     1  \n",
       "892           2171        12        1     1  \n",
       "248           1925        24        4     1  \n",
       "469           4679        24        1     1  \n",
       "798            717        24        1     1  "
      ]
     },
     "execution_count": 77,
     "metadata": {},
     "output_type": "execute_result"
    }
   ],
   "source": [
    "df_test.head()"
   ]
  },
  {
   "cell_type": "code",
   "execution_count": 79,
   "id": "9c35bf72-8eea-4b19-97e0-8e3b626f7cc0",
   "metadata": {},
   "outputs": [
    {
     "data": {
      "text/plain": [
       "array([[   2,   28,    1,    2,    1,    0, 4169,   24,    4]],\n",
       "      dtype=int64)"
      ]
     },
     "execution_count": 79,
     "metadata": {},
     "output_type": "execute_result"
    }
   ],
   "source": [
    "# Interpretibility\n",
    "### Supply the index of specific test row\n",
    "\n",
    "row_idx = 47\n",
    "max_display  = 300\n",
    "\n",
    "data_for_prediction = X_test.iloc[row_idx]\n",
    "data_for_prediction = np.array(data_for_prediction).reshape(1,-1)\n",
    "\n",
    "data_for_prediction"
   ]
  },
  {
   "cell_type": "code",
   "execution_count": 80,
   "id": "47d4acca-1927-4af0-99d3-6543e3bf61b6",
   "metadata": {},
   "outputs": [
    {
     "data": {
      "text/plain": [
       "[array([[ 2.38715117e-02, -1.14645668e-02, -1.53633911e-03,\n",
       "          1.43342047e-05, -3.83595967e-03,  2.77773396e-02,\n",
       "          5.02466987e-02,  1.66681117e-02,  2.08517538e-03]]),\n",
       " array([[-2.38715117e-02,  1.14645668e-02,  1.53633911e-03,\n",
       "         -1.43342047e-05,  3.83595967e-03, -2.77773396e-02,\n",
       "         -5.02466987e-02, -1.66681117e-02, -2.08517538e-03]])]"
      ]
     },
     "execution_count": 80,
     "metadata": {},
     "output_type": "execute_result"
    }
   ],
   "source": [
    "# Calculate Shap values\n",
    "# calculating SHAP values for a specific row enhances model interpretability and provides context-specific insights.\n",
    "# For critical predictions (e.g., medical diagnoses, loan approvals), understanding feature effects at the instance level is crucial.\n",
    "# It allows domain experts to validate and refine model decisions.\n",
    "\n",
    "explainer = shap.TreeExplainer(selected_model)\n",
    "shap_values = explainer.shap_values(data_for_prediction)\n",
    "\n",
    "shap_values"
   ]
  },
  {
   "cell_type": "code",
   "execution_count": 81,
   "id": "ef92d06b-20e1-4114-9c84-68d9025367c6",
   "metadata": {},
   "outputs": [
    {
     "name": "stdout",
     "output_type": "stream",
     "text": [
      "prediction:  1 [[0.40347075 0.59652925]]\n"
     ]
    }
   ],
   "source": [
    "pred_probability = selected_model.predict_proba(data_for_prediction)\n",
    "prediction = np.argmax(pred_probability)\n",
    "print(\"prediction: \", prediction, pred_probability)"
   ]
  },
  {
   "cell_type": "code",
   "execution_count": 82,
   "id": "1a2ff8cc-9d8a-4cf0-9394-720411c55c23",
   "metadata": {},
   "outputs": [
    {
     "data": {
      "text/plain": [
       "array([[-2.38715117e-02,  1.14645668e-02,  1.53633911e-03,\n",
       "        -1.43342047e-05,  3.83595967e-03, -2.77773396e-02,\n",
       "        -5.02466987e-02, -1.66681117e-02, -2.08517538e-03]])"
      ]
     },
     "execution_count": 82,
     "metadata": {},
     "output_type": "execute_result"
    }
   ],
   "source": [
    "shap_value = shap_values[prediction]\n",
    "\n",
    "shap_value"
   ]
  },
  {
   "cell_type": "code",
   "execution_count": 88,
   "id": "62f1ef86-aea1-483b-9a9e-2f885609fcce",
   "metadata": {},
   "outputs": [
    {
     "data": {
      "text/plain": [
       "array([6, 5, 0, 7, 1, 4, 8, 2, 3], dtype=int64)"
      ]
     },
     "execution_count": 88,
     "metadata": {},
     "output_type": "execute_result"
    }
   ],
   "source": [
    "feature_order = np.argsort(np.sum(np.abs(shap_value), axis=0))\n",
    "feature_order = np.flip(feature_order[-min(max_display, len(feature_order)):], 0)\n",
    "\n",
    "feature_order"
   ]
  },
  {
   "cell_type": "code",
   "execution_count": 90,
   "id": "6363e999-d734-4483-a201-9c74e8c8affd",
   "metadata": {},
   "outputs": [
    {
     "data": {
      "text/plain": [
       "[-0.050246698746127326,\n",
       " -0.027777339555688698,\n",
       " -0.023871511673377983,\n",
       " -0.01666811170216927,\n",
       " 0.011464566849038581,\n",
       " 0.0038359596735079013,\n",
       " -0.0020851753763399803,\n",
       " 0.001536339113535067,\n",
       " -1.4334204665392342e-05]"
      ]
     },
     "execution_count": 90,
     "metadata": {},
     "output_type": "execute_result"
    },
    {
     "data": {
      "text/plain": [
       "['Credit amount',\n",
       " 'Saving accounts',\n",
       " 'Credit History',\n",
       " 'Duration',\n",
       " 'Age',\n",
       " 'Housing',\n",
       " 'Purpose',\n",
       " 'Gender',\n",
       " 'Job']"
      ]
     },
     "execution_count": 90,
     "metadata": {},
     "output_type": "execute_result"
    }
   ],
   "source": [
    "top_shape_vals = [shap_value[0][i] for i in feature_order]\n",
    "top_shape_vals\n",
    "top_feature_names = [train_cols[i] for i in feature_order]\n",
    "top_feature_names"
   ]
  },
  {
   "cell_type": "code",
   "execution_count": 91,
   "id": "0a645572-c77b-4572-af9b-7f98a466859f",
   "metadata": {},
   "outputs": [
    {
     "data": {
      "text/plain": [
       "<BarContainer object of 9 artists>"
      ]
     },
     "execution_count": 91,
     "metadata": {},
     "output_type": "execute_result"
    },
    {
     "data": {
      "text/plain": [
       "([<matplotlib.axis.YTick at 0x21bb154d280>,\n",
       "  <matplotlib.axis.YTick at 0x21bb1535be0>,\n",
       "  <matplotlib.axis.YTick at 0x21bb155cee0>,\n",
       "  <matplotlib.axis.YTick at 0x21bb15669d0>,\n",
       "  <matplotlib.axis.YTick at 0x21bb156e4c0>,\n",
       "  <matplotlib.axis.YTick at 0x21bb156ef70>,\n",
       "  <matplotlib.axis.YTick at 0x21bb1574a60>,\n",
       "  <matplotlib.axis.YTick at 0x21bb1566310>,\n",
       "  <matplotlib.axis.YTick at 0x21bb157b4c0>],\n",
       " [Text(0, 0, '0'),\n",
       "  Text(0, 1, '1'),\n",
       "  Text(0, 2, '2'),\n",
       "  Text(0, 3, '3'),\n",
       "  Text(0, 4, '4'),\n",
       "  Text(0, 5, '5'),\n",
       "  Text(0, 6, '6'),\n",
       "  Text(0, 7, '7'),\n",
       "  Text(0, 8, '8')])"
      ]
     },
     "execution_count": 91,
     "metadata": {},
     "output_type": "execute_result"
    },
    {
     "data": {
      "text/plain": [
       "[Text(0, 0, 'Job'),\n",
       " Text(0, 1, 'Gender'),\n",
       " Text(0, 2, 'Purpose'),\n",
       " Text(0, 3, 'Housing'),\n",
       " Text(0, 4, 'Age'),\n",
       " Text(0, 5, 'Duration'),\n",
       " Text(0, 6, 'Credit History'),\n",
       " Text(0, 7, 'Saving accounts'),\n",
       " Text(0, 8, 'Credit amount')]"
      ]
     },
     "execution_count": 91,
     "metadata": {},
     "output_type": "execute_result"
    },
    {
     "data": {
      "text/plain": [
       "Text(0.5, 1.0, 'Feature Importance')"
      ]
     },
     "execution_count": 91,
     "metadata": {},
     "output_type": "execute_result"
    },
    {
     "data": {
      "image/png": "[encoded data removed]",
      "text/plain": [
       "<Figure size 800x500 with 1 Axes>"
      ]
     },
     "metadata": {},
     "output_type": "display_data"
    }
   ],
   "source": [
    "fig = plt.figure(figsize=(8,5))\n",
    "y_pos = np.arange(len(top_feature_names))\n",
    "\n",
    "values = np.flip(top_shape_vals)\n",
    "features = np.flip(top_feature_names)\n",
    "\n",
    "plt.barh(y_pos, values, 0.7, align='center')\n",
    "plt.yticks(y_pos, fontsize=13)\n",
    "plt.gca().set_yticklabels(features)\n",
    "plt.title(\"Feature Importance\")"
   ]
  },
  {
   "cell_type": "code",
   "execution_count": null,
   "id": "1a47aace-3649-4848-b73a-b5c9993bebae",
   "metadata": {},
   "outputs": [],
   "source": []
  },
  {
   "cell_type": "code",
   "execution_count": null,
   "id": "30ccc56b-e867-4738-9bd0-a4db27d47180",
   "metadata": {},
   "outputs": [],
   "source": []
  },
  {
   "cell_type": "code",
   "execution_count": null,
   "id": "db4f9923-6041-4d91-bacc-1d8fae538356",
   "metadata": {},
   "outputs": [],
   "source": []
  },
  {
   "cell_type": "code",
   "execution_count": null,
   "id": "1f606dc9-be89-4ffe-982c-45deeec7d14b",
   "metadata": {},
   "outputs": [],
   "source": []
  },
  {
   "cell_type": "code",
   "execution_count": null,
   "id": "ec01a412-4651-4ab0-9433-76566ad8fc39",
   "metadata": {},
   "outputs": [],
   "source": []
  },
  {
   "cell_type": "code",
   "execution_count": null,
   "id": "f8b4174f-982c-4e38-8675-8c4d19388b1d",
   "metadata": {},
   "outputs": [],
   "source": []
  },
  {
   "cell_type": "code",
   "execution_count": null,
   "id": "9cb4c6fd-58e9-4b85-9341-d6010482252f",
   "metadata": {},
   "outputs": [],
   "source": []
  },
  {
   "cell_type": "code",
   "execution_count": null,
   "id": "8943ad7c-10d8-4f96-98c3-6e5ed68e7382",
   "metadata": {},
   "outputs": [],
   "source": []
  }
 ],
 "metadata": {
  "kernelspec": {
   "display_name": "Py309",
   "language": "python",
   "name": "py309"
  },
  "language_info": {
   "codemirror_mode": {
    "name": "ipython",
    "version": 3
   },
   "file_extension": ".py",
   "mimetype": "text/x-python",
   "name": "python",
   "nbconvert_exporter": "python",
   "pygments_lexer": "ipython3",
   "version": "3.9.19"
  }
 },
 "nbformat": 4,
 "nbformat_minor": 5
}
