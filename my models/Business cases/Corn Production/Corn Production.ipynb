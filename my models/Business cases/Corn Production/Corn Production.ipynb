{
 "cells": [
  {
   "cell_type": "markdown",
   "id": "75ceb3ff-befa-4156-962e-961003abab89",
   "metadata": {},
   "source": [
    "Modeling Corn Production\n",
    "\n",
    "Suppose that you manage a small corn farm and are interested in optimizing your costs. In this illustrative exercise, we will model the production of corn. We'll abstract away from details like units and focus on the process.\n",
    "\n",
    "For simplicity, let's assume that corn production depends on only two factors: rain, which you don't control, and cost, which you control. Rain is normally distributed with mean 50 and standard deviation 15. For now, let's fix cost at 5,000. Let's assume that corn produced in any season is a Poisson random variable and that the average corn production is governed by the equation:\n",
    "\n",
    "100 * cost^0.1 * rain^0.2\n",
    "    \n",
    "Let's model this production function and simulate one outcome."
   ]
  },
  {
   "cell_type": "code",
   "execution_count": 2,
   "id": "40d8504d-5107-4ab5-8115-d79a4841654b",
   "metadata": {},
   "outputs": [],
   "source": [
    "import numpy as np\n",
    "import matplotlib.pyplot as plt\n",
    "import seaborn as sns"
   ]
  },
  {
   "cell_type": "code",
   "execution_count": 287,
   "id": "e86aca86-d767-49a2-93be-9a7fa8165227",
   "metadata": {},
   "outputs": [],
   "source": [
    "# Initialize rain as a Normal random variable with mean 50 and standard deviation 15.\n",
    "\n",
    "cost = 5000\n",
    "rain = np.random.normal(loc=50, scale=15)\n"
   ]
  },
  {
   "cell_type": "code",
   "execution_count": 288,
   "id": "6b0f2835-ab79-4cec-bc5b-1f9109946c8b",
   "metadata": {},
   "outputs": [],
   "source": [
    "# Model corn production as a Poisson distribution, with the mean given by the formula above\n",
    "\n",
    "def corn_produced(rain, cost):\n",
    "    mean_corn =  100 * (cost**0.1) * (rain**0.2)\n",
    "    corn = np.random.poisson(lam = mean_corn)\n",
    "    return corn"
   ]
  },
  {
   "cell_type": "code",
   "execution_count": 289,
   "id": "a15576f1-15d3-42c7-8b94-6df603665900",
   "metadata": {},
   "outputs": [
    {
     "data": {
      "text/plain": [
       "495"
      ]
     },
     "execution_count": 289,
     "metadata": {},
     "output_type": "execute_result"
    }
   ],
   "source": [
    "corn_result = corn_produced(rain, cost)\n",
    "corn_result"
   ]
  },
  {
   "cell_type": "code",
   "execution_count": 290,
   "id": "81d8f2f5-3c83-48e2-ac63-4f55b8922871",
   "metadata": {},
   "outputs": [],
   "source": [
    "def corn_demanded(price):\n",
    "    mean_corn = 1000 - 8*price\n",
    "    corn = np.random.poisson(abs(mean_corn))\n",
    "    return corn"
   ]
  },
  {
   "cell_type": "code",
   "execution_count": 291,
   "id": "babf12a3-7608-43fb-a197-92ca8fe848a9",
   "metadata": {},
   "outputs": [
    {
     "data": {
      "text/plain": [
       "730"
      ]
     },
     "execution_count": 291,
     "metadata": {},
     "output_type": "execute_result"
    }
   ],
   "source": [
    "corn_demand = corn_demanded(40)\n",
    "corn_demand"
   ]
  },
  {
   "cell_type": "markdown",
   "id": "738f5176-10d5-4fbb-a8d8-c720dafd88d1",
   "metadata": {},
   "source": [
    "Modeling Profits\n",
    "\n",
    "In the previous exercise, you built a model of corn production. For a small farm, you typically have no control over the price or demand for corn. Suppose that price is normally distributed with mean 40 and standard deviation 10. You are given a function corn_demanded(), which takes the price and determines the demand for corn. This is reasonable because demand is usually determined by the market and is not in your control.\n",
    "\n",
    "In this exercise, you will work on a function to calculate the profit by pulling together all the other simulated variables. The only input to this function will be the fixed cost of production. Upon completion, you'll have a function that gives one simulated profit outcome for a given cost. This function can then be used for planning your costs."
   ]
  },
  {
   "cell_type": "code",
   "execution_count": 298,
   "id": "515006a1-669c-4008-9189-4ee8c618fc37",
   "metadata": {},
   "outputs": [],
   "source": [
    "# Function to calculate profits\n",
    "def profits(cost):\n",
    "    rain = np.random.normal(50, 15)\n",
    "    price = np.random.normal(40, 10)\n",
    "    supply = corn_produced(rain, cost) # supply calculated with the cost paid to produce the corn\n",
    "    demand = corn_demanded(price) # demand calculated with the current corn price\n",
    "    equil_short = supply <= demand\n",
    "    # Profit = quantity * price - cost. \n",
    "    # If more corn is produced than demanded (supply > demand), then quantity sold will be demand, else it will be supply.\n",
    "    if equil_short == True:\n",
    "        profit = supply*price - cost\n",
    "    else: \n",
    "        profit = demand*price - cost\n",
    "        \n",
    "    return profit, supply, demand"
   ]
  },
  {
   "cell_type": "code",
   "execution_count": 301,
   "id": "553dd04d-dec6-4d2d-be7b-6268942031de",
   "metadata": {},
   "outputs": [
    {
     "name": "stdout",
     "output_type": "stream",
     "text": [
      "supply: 539 demand: 634\n",
      "Simulated profit = 17956.552405492013\n"
     ]
    }
   ],
   "source": [
    "profit, supply, demand = profits(cost)\n",
    "\n",
    "print('supply:',supply,'demand:',demand)\n",
    "print(\"Simulated profit = {}\".format(profit))"
   ]
  },
  {
   "cell_type": "markdown",
   "id": "fd2e2aa9-e27d-4026-888a-12d3345a17c3",
   "metadata": {},
   "source": [
    "Optimizing Costs\n",
    "\n",
    "Now we will use the functions you've built to optimize our cost of production. We are interested in maximizing average profits. However, our profits depend on a number of factors, while we only control cost. Thus, we can simulate the uncertainty in the other factors and vary cost to see how our profits are impacted.\n",
    "\n",
    "Since you manage the small corn farm, you have the ability to choose your cost - from 100 to 7,000. You want to choose the cost that gives you the maximum average profit. In this exercise, we will simulate multiple outcomes for each cost level and calculate an average. We will then choose the cost that gives us the maximum mean profit. Upon completion, you will have a framework for selecting optimal inputs for business decisions."
   ]
  },
  {
   "cell_type": "code",
   "execution_count": 314,
   "id": "45a0bbb4-2aa8-4d20-9c96-8aca7a616d51",
   "metadata": {},
   "outputs": [
    {
     "name": "stderr",
     "output_type": "stream",
     "text": [
      "C:\\Users\\Alienware\\AppData\\Local\\Temp\\ipykernel_17520\\2872174744.py:5: ComplexWarning: Casting complex values to real discards the imaginary part\n",
      "  corn = np.random.poisson(lam = mean_corn)\n"
     ]
    },
    {
     "data": {
      "text/plain": [
       "{100: 4842.9053699170745,\n",
       " 200: 5215.927909443944,\n",
       " 300: 5336.422128657813,\n",
       " 400: 5453.093986241695,\n",
       " 500: 5597.869216040715,\n",
       " 600: 5590.221078684396,\n",
       " 700: 5669.964286128694,\n",
       " 800: 5804.764711881407,\n",
       " 900: 5785.153881414526,\n",
       " 1000: 5805.554176779837,\n",
       " 1100: 5818.537354213019,\n",
       " 1200: 5828.61432128402,\n",
       " 1300: 5813.882397872997,\n",
       " 1400: 5898.800312966638,\n",
       " 1500: 5865.366788986298,\n",
       " 1600: 5916.226203883093,\n",
       " 1700: 5983.037956940152,\n",
       " 1800: 5920.108499846628,\n",
       " 1900: 5862.004844939208,\n",
       " 2000: 5840.769517994809,\n",
       " 2100: 5918.58918541387,\n",
       " 2200: 5915.12092626162,\n",
       " 2300: 5852.35350747419,\n",
       " 2400: 5809.92146424652,\n",
       " 2500: 5774.287796627825,\n",
       " 2600: 5787.319385583934,\n",
       " 2700: 5843.168207273903,\n",
       " 2800: 5806.088973842993,\n",
       " 2900: 5790.119919875685,\n",
       " 3000: 5807.166499171225,\n",
       " 3100: 5776.907154019199,\n",
       " 3200: 5800.129476696529,\n",
       " 3300: 5766.27594097353,\n",
       " 3400: 5805.530528674481,\n",
       " 3500: 5784.893828246286,\n",
       " 3600: 5710.761881591379,\n",
       " 3700: 5647.37382944565,\n",
       " 3800: 5705.8091879341455,\n",
       " 3900: 5716.550306905693,\n",
       " 4000: 5621.769837037787,\n",
       " 4100: 5670.35367639015,\n",
       " 4200: 5558.699510648599,\n",
       " 4300: 5744.519839051135,\n",
       " 4400: 5606.7552414021675,\n",
       " 4500: 5540.260119237527,\n",
       " 4600: 5437.02611292755,\n",
       " 4700: 5598.837548656625,\n",
       " 4800: 5485.885732568811,\n",
       " 4900: 5525.904888489561,\n",
       " 5000: 5531.7257972230045,\n",
       " 5100: 5420.340024827653,\n",
       " 5200: 5478.35817562549,\n",
       " 5300: 5491.638911106601,\n",
       " 5400: 5436.794656078409,\n",
       " 5500: 5363.872405150726,\n",
       " 5600: 5350.05525011984,\n",
       " 5700: 5350.433593530197,\n",
       " 5800: 5274.924294473635,\n",
       " 5900: 5370.95194434625,\n",
       " 6000: 5228.353178170599,\n",
       " 6100: 5224.742980352083,\n",
       " 6200: 5186.971833149745,\n",
       " 6300: 5222.136183263443,\n",
       " 6400: 5204.1138295980545,\n",
       " 6500: 5250.801008246665,\n",
       " 6600: 5040.9628699523655,\n",
       " 6700: 5137.204993452551,\n",
       " 6800: 5092.116941711902,\n",
       " 6900: 5102.619761090698,\n",
       " 7000: 4954.833385574651}"
      ]
     },
     "execution_count": 314,
     "metadata": {},
     "output_type": "execute_result"
    }
   ],
   "source": [
    "# Initialize results and cost_levels variables\n",
    "sims, results = 1000, {}\n",
    "cost_levels = np.arange(100, 7100, 100)\n",
    "\n",
    "# For each cost level, simulate profits and store mean profit\n",
    "for cost in cost_levels:\n",
    "    tmp_profits = []\n",
    "    for i in range(sims):\n",
    "        tmp_profits.append(profits(cost))\n",
    "    results[cost] = np.mean(tmp_profits)\n",
    "\n",
    "results"
   ]
  },
  {
   "cell_type": "code",
   "execution_count": 315,
   "id": "423aca3d-f136-4e2f-8874-3cac27592190",
   "metadata": {},
   "outputs": [
    {
     "name": "stderr",
     "output_type": "stream",
     "text": [
      "C:\\Users\\Alienware\\miniconda3\\envs\\py310\\lib\\site-packages\\seaborn\\_oldcore.py:1119: FutureWarning: use_inf_as_na option is deprecated and will be removed in a future version. Convert inf values to NaN before operating instead.\n",
      "  with pd.option_context('mode.use_inf_as_na', True):\n",
      "C:\\Users\\Alienware\\miniconda3\\envs\\py310\\lib\\site-packages\\seaborn\\_oldcore.py:1119: FutureWarning: use_inf_as_na option is deprecated and will be removed in a future version. Convert inf values to NaN before operating instead.\n",
      "  with pd.option_context('mode.use_inf_as_na', True):\n"
     ]
    },
    {
     "data": {
      "text/plain": [
       "<Axes: >"
      ]
     },
     "execution_count": 315,
     "metadata": {},
     "output_type": "execute_result"
    },
    {
     "data": {
      "image/png": "[encoded data removed]",
      "text/plain": [
       "<Figure size 640x480 with 1 Axes>"
      ]
     },
     "metadata": {},
     "output_type": "display_data"
    }
   ],
   "source": [
    "sns.lineplot(x=results.keys(), y=results.values())"
   ]
  },
  {
   "cell_type": "code",
   "execution_count": 321,
   "id": "7e0a783d-cd89-41ca-b02f-827049a21280",
   "metadata": {},
   "outputs": [
    {
     "name": "stdout",
     "output_type": "stream",
     "text": [
      "Average profit is maximized when cost = 1700\n"
     ]
    }
   ],
   "source": [
    "# Get the cost that maximizes average profit\n",
    "cost_max = [x for x in results.keys() if results[x] == max(results.values())][0]\n",
    "print(\"Average profit is maximized when cost = {}\".format(cost_max))"
   ]
  },
  {
   "cell_type": "code",
   "execution_count": 310,
   "id": "abb354e2-4054-4b9a-958b-1f5142672ad6",
   "metadata": {},
   "outputs": [
    {
     "data": {
      "text/plain": [
       "dict_values([4912.988113398171, 5176.155729159644, 5374.608476987388, 5466.8843883653835, 5475.437677528277, 5615.827502771025, 5723.022912971913, 5833.546486669002, 5763.462172404686, 5730.039733616947, 5870.485218554273, 5871.27060255856, 5877.273489979759, 5936.3150765684995, 5911.147220546216, 5753.883306501591, 5917.597083774565, 5852.674080589783, 5764.642586369238, 5868.732701083309, 5967.328823443627, 5889.224602164793, 5958.7642388017375, 5885.386330947424, 5947.68458066403, 5816.6062957062895, 5849.062451877506, 5841.611088370571, 5912.438284406524, 5872.013989544963, 5848.441172462146, 5759.669480013032, 5755.557511260808, 5739.490376840338, 5705.145965445091, 5734.443344775519, 5817.742539915318, 5711.970986703808, 5717.103102105446, 5561.13193073057, 5671.07423313767, 5798.471391574338, 5606.310283286605, 5514.81896096576, 5516.549976656765, 5556.15569728963, 5573.811341998971, 5523.732314332771, 5491.348273948523, 5546.9652555953235])"
      ]
     },
     "execution_count": 310,
     "metadata": {},
     "output_type": "execute_result"
    }
   ],
   "source": [
    "results.values()"
   ]
  },
  {
   "cell_type": "code",
   "execution_count": null,
   "id": "86268d43-0049-4478-a744-cdaae2dd4694",
   "metadata": {},
   "outputs": [],
   "source": []
  },
  {
   "cell_type": "code",
   "execution_count": null,
   "id": "dffbc022-24d6-4b86-ba05-1c4c89fb05e2",
   "metadata": {},
   "outputs": [],
   "source": []
  },
  {
   "cell_type": "code",
   "execution_count": null,
   "id": "99aa8d78-e023-41e0-b5ca-0358c0c37dfa",
   "metadata": {},
   "outputs": [],
   "source": []
  },
  {
   "cell_type": "code",
   "execution_count": null,
   "id": "a5b2bed1-d1f4-4d89-9788-ec362d7a0cdb",
   "metadata": {},
   "outputs": [],
   "source": []
  },
  {
   "cell_type": "code",
   "execution_count": null,
   "id": "c825ba31-2a5c-4108-a3f4-094e5aa0ac47",
   "metadata": {},
   "outputs": [],
   "source": []
  },
  {
   "cell_type": "code",
   "execution_count": null,
   "id": "fd1967de-bc3b-4a24-a031-4a0d5046f873",
   "metadata": {},
   "outputs": [],
   "source": []
  }
 ],
 "metadata": {
  "kernelspec": {
   "display_name": "Py310",
   "language": "python",
   "name": "py310"
  },
  "language_info": {
   "codemirror_mode": {
    "name": "ipython",
    "version": 3
   },
   "file_extension": ".py",
   "mimetype": "text/x-python",
   "name": "python",
   "nbconvert_exporter": "python",
   "pygments_lexer": "ipython3",
   "version": "3.10.11"
  }
 },
 "nbformat": 4,
 "nbformat_minor": 5
}
