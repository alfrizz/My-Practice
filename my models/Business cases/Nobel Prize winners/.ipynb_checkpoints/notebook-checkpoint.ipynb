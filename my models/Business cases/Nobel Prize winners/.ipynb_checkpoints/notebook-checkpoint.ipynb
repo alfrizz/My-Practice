{
 "cells": [
  {
   "cell_type": "markdown",
   "id": "db5bd2ce-918a-4f7d-a927-a3ea74c4b456",
   "metadata": {},
   "source": [
    "The Nobel Prize has been among the most prestigious international awards since 1901. Each year, awards are bestowed in chemistry, literature, physics, physiology or medicine, economics, and peace. In addition to the honor, prestige, and substantial prize money, the recipient also gets a gold medal with an image of Alfred Nobel (1833 - 1896), who established the prize.\n",
    "\n",
    "![](Nobel_Prize.png)\n",
    "\n",
    "The Nobel Foundation has made a dataset available of all prize winners from the outset of the awards from 1901 to 2023. The dataset used in this project is from the Nobel Prize API and is available in the `nobel.csv` file in the `data` folder.\n",
    "\n",
    "In this project, you'll get a chance to explore and answer several questions related to this prizewinning data. And we encourage you then to explore further questions that you're interested in!"
   ]
  },
  {
   "cell_type": "code",
   "execution_count": 1,
   "id": "11fd5946-7bd1-495c-aa7f-ff6e7e4a350b",
   "metadata": {
    "executionCancelledAt": null,
    "executionTime": 10,
    "lastExecutedAt": 1720885864173,
    "lastExecutedByKernel": "df5fd0e4-b5a2-4c3e-9251-9474c26525ee",
    "lastScheduledRunId": null,
    "lastSuccessfullyExecutedCode": "# Loading in required libraries\nimport pandas as pd\nimport seaborn as sns\nimport numpy as np\n\n# Start coding here!"
   },
   "outputs": [],
   "source": [
    "# Loading in required libraries\n",
    "import pandas as pd\n",
    "import seaborn as sns\n",
    "import numpy as np\n",
    "\n",
    "# Start coding here!"
   ]
  },
  {
   "cell_type": "code",
   "execution_count": 2,
   "id": "9e47949b-07e1-4bf7-93aa-5bf3e67f0109",
   "metadata": {
    "executionCancelledAt": null,
    "executionTime": 50,
    "lastExecutedAt": 1720885864223,
    "lastExecutedByKernel": "df5fd0e4-b5a2-4c3e-9251-9474c26525ee",
    "lastScheduledRunId": null,
    "lastSuccessfullyExecutedCode": "import os\n\n# Get the current working directory\ncurrent_folder = os.getcwd()\ncurrent_folder"
   },
   "outputs": [
    {
     "data": {
      "text/plain": [
       "'G:\\\\My Drive\\\\Ingegneria\\\\Data Science GD\\\\Models\\\\Business cases\\\\Nobel Prize winners'"
      ]
     },
     "execution_count": 2,
     "metadata": {},
     "output_type": "execute_result"
    }
   ],
   "source": [
    "import os\n",
    "\n",
    "# Get the current working directory\n",
    "current_folder = os.getcwd()\n",
    "current_folder"
   ]
  },
  {
   "cell_type": "code",
   "execution_count": 3,
   "id": "f2d1948d-e304-4216-8252-e39498af8ee8",
   "metadata": {
    "executionCancelledAt": null,
    "executionTime": 48,
    "lastExecutedAt": 1720885864271,
    "lastExecutedByKernel": "df5fd0e4-b5a2-4c3e-9251-9474c26525ee",
    "lastScheduledRunId": null,
    "lastSuccessfullyExecutedCode": "# Get all files and directories in the current directory\ncontent = os.listdir(current_folder)\ncontent"
   },
   "outputs": [
    {
     "data": {
      "text/plain": [
       "['data', 'Nobel_Prize.png', 'notebook.ipynb', '.ipynb_checkpoints']"
      ]
     },
     "execution_count": 3,
     "metadata": {},
     "output_type": "execute_result"
    }
   ],
   "source": [
    "# Get all files and directories in the current directory\n",
    "content = os.listdir(current_folder)\n",
    "content"
   ]
  },
  {
   "cell_type": "code",
   "execution_count": 4,
   "id": "d0d341fc-2bbe-4618-a7cd-59ba4a010f63",
   "metadata": {
    "executionCancelledAt": null,
    "executionTime": 67,
    "lastExecutedAt": 1720885864338,
    "lastExecutedByKernel": "df5fd0e4-b5a2-4c3e-9251-9474c26525ee",
    "lastScheduledRunId": null,
    "lastSuccessfullyExecutedCode": "nobel_df = pd.read_csv(current_folder+'/data/nobel.csv')\nnobel_df",
    "outputsMetadata": {
     "0": {
      "height": 336,
      "type": "dataFrame"
     }
    }
   },
   "outputs": [
    {
     "data": {
      "text/html": [
       "<div>\n",
       "<style scoped>\n",
       "    .dataframe tbody tr th:only-of-type {\n",
       "        vertical-align: middle;\n",
       "    }\n",
       "\n",
       "    .dataframe tbody tr th {\n",
       "        vertical-align: top;\n",
       "    }\n",
       "\n",
       "    .dataframe thead th {\n",
       "        text-align: right;\n",
       "    }\n",
       "</style>\n",
       "<table border=\"1\" class=\"dataframe\">\n",
       "  <thead>\n",
       "    <tr style=\"text-align: right;\">\n",
       "      <th></th>\n",
       "      <th>year</th>\n",
       "      <th>category</th>\n",
       "      <th>prize</th>\n",
       "      <th>motivation</th>\n",
       "      <th>prize_share</th>\n",
       "      <th>laureate_id</th>\n",
       "      <th>laureate_type</th>\n",
       "      <th>full_name</th>\n",
       "      <th>birth_date</th>\n",
       "      <th>birth_city</th>\n",
       "      <th>birth_country</th>\n",
       "      <th>sex</th>\n",
       "      <th>organization_name</th>\n",
       "      <th>organization_city</th>\n",
       "      <th>organization_country</th>\n",
       "      <th>death_date</th>\n",
       "      <th>death_city</th>\n",
       "      <th>death_country</th>\n",
       "    </tr>\n",
       "  </thead>\n",
       "  <tbody>\n",
       "    <tr>\n",
       "      <th>0</th>\n",
       "      <td>1901</td>\n",
       "      <td>Chemistry</td>\n",
       "      <td>The Nobel Prize in Chemistry 1901</td>\n",
       "      <td>\"in recognition of the extraordinary services ...</td>\n",
       "      <td>1/1</td>\n",
       "      <td>160</td>\n",
       "      <td>Individual</td>\n",
       "      <td>Jacobus Henricus van 't Hoff</td>\n",
       "      <td>1852-08-30</td>\n",
       "      <td>Rotterdam</td>\n",
       "      <td>Netherlands</td>\n",
       "      <td>Male</td>\n",
       "      <td>Berlin University</td>\n",
       "      <td>Berlin</td>\n",
       "      <td>Germany</td>\n",
       "      <td>1911-03-01</td>\n",
       "      <td>Berlin</td>\n",
       "      <td>Germany</td>\n",
       "    </tr>\n",
       "    <tr>\n",
       "      <th>1</th>\n",
       "      <td>1901</td>\n",
       "      <td>Literature</td>\n",
       "      <td>The Nobel Prize in Literature 1901</td>\n",
       "      <td>\"in special recognition of his poetic composit...</td>\n",
       "      <td>1/1</td>\n",
       "      <td>569</td>\n",
       "      <td>Individual</td>\n",
       "      <td>Sully Prudhomme</td>\n",
       "      <td>1839-03-16</td>\n",
       "      <td>Paris</td>\n",
       "      <td>France</td>\n",
       "      <td>Male</td>\n",
       "      <td>NaN</td>\n",
       "      <td>NaN</td>\n",
       "      <td>NaN</td>\n",
       "      <td>1907-09-07</td>\n",
       "      <td>Châtenay</td>\n",
       "      <td>France</td>\n",
       "    </tr>\n",
       "    <tr>\n",
       "      <th>2</th>\n",
       "      <td>1901</td>\n",
       "      <td>Medicine</td>\n",
       "      <td>The Nobel Prize in Physiology or Medicine 1901</td>\n",
       "      <td>\"for his work on serum therapy, especially its...</td>\n",
       "      <td>1/1</td>\n",
       "      <td>293</td>\n",
       "      <td>Individual</td>\n",
       "      <td>Emil Adolf von Behring</td>\n",
       "      <td>1854-03-15</td>\n",
       "      <td>Hansdorf (Lawice)</td>\n",
       "      <td>Prussia (Poland)</td>\n",
       "      <td>Male</td>\n",
       "      <td>Marburg University</td>\n",
       "      <td>Marburg</td>\n",
       "      <td>Germany</td>\n",
       "      <td>1917-03-31</td>\n",
       "      <td>Marburg</td>\n",
       "      <td>Germany</td>\n",
       "    </tr>\n",
       "    <tr>\n",
       "      <th>3</th>\n",
       "      <td>1901</td>\n",
       "      <td>Peace</td>\n",
       "      <td>The Nobel Peace Prize 1901</td>\n",
       "      <td>NaN</td>\n",
       "      <td>1/2</td>\n",
       "      <td>462</td>\n",
       "      <td>Individual</td>\n",
       "      <td>Jean Henry Dunant</td>\n",
       "      <td>1828-05-08</td>\n",
       "      <td>Geneva</td>\n",
       "      <td>Switzerland</td>\n",
       "      <td>Male</td>\n",
       "      <td>NaN</td>\n",
       "      <td>NaN</td>\n",
       "      <td>NaN</td>\n",
       "      <td>1910-10-30</td>\n",
       "      <td>Heiden</td>\n",
       "      <td>Switzerland</td>\n",
       "    </tr>\n",
       "    <tr>\n",
       "      <th>4</th>\n",
       "      <td>1901</td>\n",
       "      <td>Peace</td>\n",
       "      <td>The Nobel Peace Prize 1901</td>\n",
       "      <td>NaN</td>\n",
       "      <td>1/2</td>\n",
       "      <td>463</td>\n",
       "      <td>Individual</td>\n",
       "      <td>Frédéric Passy</td>\n",
       "      <td>1822-05-20</td>\n",
       "      <td>Paris</td>\n",
       "      <td>France</td>\n",
       "      <td>Male</td>\n",
       "      <td>NaN</td>\n",
       "      <td>NaN</td>\n",
       "      <td>NaN</td>\n",
       "      <td>1912-06-12</td>\n",
       "      <td>Paris</td>\n",
       "      <td>France</td>\n",
       "    </tr>\n",
       "    <tr>\n",
       "      <th>...</th>\n",
       "      <td>...</td>\n",
       "      <td>...</td>\n",
       "      <td>...</td>\n",
       "      <td>...</td>\n",
       "      <td>...</td>\n",
       "      <td>...</td>\n",
       "      <td>...</td>\n",
       "      <td>...</td>\n",
       "      <td>...</td>\n",
       "      <td>...</td>\n",
       "      <td>...</td>\n",
       "      <td>...</td>\n",
       "      <td>...</td>\n",
       "      <td>...</td>\n",
       "      <td>...</td>\n",
       "      <td>...</td>\n",
       "      <td>...</td>\n",
       "      <td>...</td>\n",
       "    </tr>\n",
       "    <tr>\n",
       "      <th>995</th>\n",
       "      <td>2023</td>\n",
       "      <td>Chemistry</td>\n",
       "      <td>The Nobel Prize in Chemistry 2023</td>\n",
       "      <td>\"for the discovery and synthesis of quantum dots\"</td>\n",
       "      <td>1/3</td>\n",
       "      <td>1030</td>\n",
       "      <td>Individual</td>\n",
       "      <td>Louis Brus</td>\n",
       "      <td>1943-00-00</td>\n",
       "      <td>Cleveland, OH</td>\n",
       "      <td>United States of America</td>\n",
       "      <td>Male</td>\n",
       "      <td>Columbia University</td>\n",
       "      <td>New York, NY</td>\n",
       "      <td>United States of America</td>\n",
       "      <td>NaN</td>\n",
       "      <td>NaN</td>\n",
       "      <td>NaN</td>\n",
       "    </tr>\n",
       "    <tr>\n",
       "      <th>996</th>\n",
       "      <td>2023</td>\n",
       "      <td>Chemistry</td>\n",
       "      <td>The Nobel Prize in Chemistry 2023</td>\n",
       "      <td>\"for the discovery and synthesis of quantum dots\"</td>\n",
       "      <td>1/3</td>\n",
       "      <td>1031</td>\n",
       "      <td>Individual</td>\n",
       "      <td>Aleksey Yekimov</td>\n",
       "      <td>1945-00-00</td>\n",
       "      <td>NaN</td>\n",
       "      <td>USSR (now Russia)</td>\n",
       "      <td>Male</td>\n",
       "      <td>Nanocrystals Technology Inc.</td>\n",
       "      <td>New York, NY</td>\n",
       "      <td>United States of America</td>\n",
       "      <td>NaN</td>\n",
       "      <td>NaN</td>\n",
       "      <td>NaN</td>\n",
       "    </tr>\n",
       "    <tr>\n",
       "      <th>997</th>\n",
       "      <td>2023</td>\n",
       "      <td>Literature</td>\n",
       "      <td>The Nobel Prize in Literature 2023</td>\n",
       "      <td>\"for his innovative plays and prose which give...</td>\n",
       "      <td>1/1</td>\n",
       "      <td>1032</td>\n",
       "      <td>Individual</td>\n",
       "      <td>Jon Fosse</td>\n",
       "      <td>1959-09-29</td>\n",
       "      <td>Haugesund</td>\n",
       "      <td>Norway</td>\n",
       "      <td>Male</td>\n",
       "      <td>NaN</td>\n",
       "      <td>NaN</td>\n",
       "      <td>NaN</td>\n",
       "      <td>NaN</td>\n",
       "      <td>NaN</td>\n",
       "      <td>NaN</td>\n",
       "    </tr>\n",
       "    <tr>\n",
       "      <th>998</th>\n",
       "      <td>2023</td>\n",
       "      <td>Peace</td>\n",
       "      <td>The Nobel Peace Prize 2023</td>\n",
       "      <td>\"for her fight against the oppression of women...</td>\n",
       "      <td>1/1</td>\n",
       "      <td>1033</td>\n",
       "      <td>Individual</td>\n",
       "      <td>Narges Mohammadi</td>\n",
       "      <td>1972-04-21</td>\n",
       "      <td>Zanjan</td>\n",
       "      <td>Iran</td>\n",
       "      <td>Female</td>\n",
       "      <td>NaN</td>\n",
       "      <td>NaN</td>\n",
       "      <td>NaN</td>\n",
       "      <td>NaN</td>\n",
       "      <td>NaN</td>\n",
       "      <td>NaN</td>\n",
       "    </tr>\n",
       "    <tr>\n",
       "      <th>999</th>\n",
       "      <td>2023</td>\n",
       "      <td>Economics</td>\n",
       "      <td>The Sveriges Riksbank Prize in Economic Scienc...</td>\n",
       "      <td>\"for having advanced our understanding of wome...</td>\n",
       "      <td>1/1</td>\n",
       "      <td>1034</td>\n",
       "      <td>Individual</td>\n",
       "      <td>Claudia Goldin</td>\n",
       "      <td>1946-00-00</td>\n",
       "      <td>New York, NY</td>\n",
       "      <td>United States of America</td>\n",
       "      <td>Female</td>\n",
       "      <td>Harvard University</td>\n",
       "      <td>Cambridge, MA</td>\n",
       "      <td>United States of America</td>\n",
       "      <td>NaN</td>\n",
       "      <td>NaN</td>\n",
       "      <td>NaN</td>\n",
       "    </tr>\n",
       "  </tbody>\n",
       "</table>\n",
       "<p>1000 rows × 18 columns</p>\n",
       "</div>"
      ],
      "text/plain": [
       "     year    category                                              prize  \\\n",
       "0    1901   Chemistry                  The Nobel Prize in Chemistry 1901   \n",
       "1    1901  Literature                 The Nobel Prize in Literature 1901   \n",
       "2    1901    Medicine     The Nobel Prize in Physiology or Medicine 1901   \n",
       "3    1901       Peace                         The Nobel Peace Prize 1901   \n",
       "4    1901       Peace                         The Nobel Peace Prize 1901   \n",
       "..    ...         ...                                                ...   \n",
       "995  2023   Chemistry                  The Nobel Prize in Chemistry 2023   \n",
       "996  2023   Chemistry                  The Nobel Prize in Chemistry 2023   \n",
       "997  2023  Literature                 The Nobel Prize in Literature 2023   \n",
       "998  2023       Peace                         The Nobel Peace Prize 2023   \n",
       "999  2023   Economics  The Sveriges Riksbank Prize in Economic Scienc...   \n",
       "\n",
       "                                            motivation prize_share  \\\n",
       "0    \"in recognition of the extraordinary services ...         1/1   \n",
       "1    \"in special recognition of his poetic composit...         1/1   \n",
       "2    \"for his work on serum therapy, especially its...         1/1   \n",
       "3                                                  NaN         1/2   \n",
       "4                                                  NaN         1/2   \n",
       "..                                                 ...         ...   \n",
       "995  \"for the discovery and synthesis of quantum dots\"         1/3   \n",
       "996  \"for the discovery and synthesis of quantum dots\"         1/3   \n",
       "997  \"for his innovative plays and prose which give...         1/1   \n",
       "998  \"for her fight against the oppression of women...         1/1   \n",
       "999  \"for having advanced our understanding of wome...         1/1   \n",
       "\n",
       "     laureate_id laureate_type                     full_name  birth_date  \\\n",
       "0            160    Individual  Jacobus Henricus van 't Hoff  1852-08-30   \n",
       "1            569    Individual               Sully Prudhomme  1839-03-16   \n",
       "2            293    Individual        Emil Adolf von Behring  1854-03-15   \n",
       "3            462    Individual             Jean Henry Dunant  1828-05-08   \n",
       "4            463    Individual                Frédéric Passy  1822-05-20   \n",
       "..           ...           ...                           ...         ...   \n",
       "995         1030    Individual                    Louis Brus  1943-00-00   \n",
       "996         1031    Individual               Aleksey Yekimov  1945-00-00   \n",
       "997         1032    Individual                     Jon Fosse  1959-09-29   \n",
       "998         1033    Individual              Narges Mohammadi  1972-04-21   \n",
       "999         1034    Individual                Claudia Goldin  1946-00-00   \n",
       "\n",
       "            birth_city             birth_country     sex  \\\n",
       "0            Rotterdam               Netherlands    Male   \n",
       "1                Paris                    France    Male   \n",
       "2    Hansdorf (Lawice)          Prussia (Poland)    Male   \n",
       "3               Geneva               Switzerland    Male   \n",
       "4                Paris                    France    Male   \n",
       "..                 ...                       ...     ...   \n",
       "995      Cleveland, OH  United States of America    Male   \n",
       "996                NaN         USSR (now Russia)    Male   \n",
       "997          Haugesund                    Norway    Male   \n",
       "998             Zanjan                      Iran  Female   \n",
       "999       New York, NY  United States of America  Female   \n",
       "\n",
       "                organization_name organization_city      organization_country  \\\n",
       "0               Berlin University            Berlin                   Germany   \n",
       "1                             NaN               NaN                       NaN   \n",
       "2              Marburg University           Marburg                   Germany   \n",
       "3                             NaN               NaN                       NaN   \n",
       "4                             NaN               NaN                       NaN   \n",
       "..                            ...               ...                       ...   \n",
       "995           Columbia University      New York, NY  United States of America   \n",
       "996  Nanocrystals Technology Inc.      New York, NY  United States of America   \n",
       "997                           NaN               NaN                       NaN   \n",
       "998                           NaN               NaN                       NaN   \n",
       "999            Harvard University     Cambridge, MA  United States of America   \n",
       "\n",
       "     death_date death_city death_country  \n",
       "0    1911-03-01     Berlin       Germany  \n",
       "1    1907-09-07   Châtenay        France  \n",
       "2    1917-03-31    Marburg       Germany  \n",
       "3    1910-10-30     Heiden   Switzerland  \n",
       "4    1912-06-12      Paris        France  \n",
       "..          ...        ...           ...  \n",
       "995         NaN        NaN           NaN  \n",
       "996         NaN        NaN           NaN  \n",
       "997         NaN        NaN           NaN  \n",
       "998         NaN        NaN           NaN  \n",
       "999         NaN        NaN           NaN  \n",
       "\n",
       "[1000 rows x 18 columns]"
      ]
     },
     "execution_count": 4,
     "metadata": {},
     "output_type": "execute_result"
    }
   ],
   "source": [
    "nobel_df = pd.read_csv(current_folder+'/data/nobel.csv')\n",
    "nobel_df"
   ]
  },
  {
   "cell_type": "code",
   "execution_count": 5,
   "id": "8e9736af-d115-4c39-bad0-3645858f6c93",
   "metadata": {
    "executionCancelledAt": null,
    "executionTime": 51,
    "lastExecutedAt": 1720885864389,
    "lastExecutedByKernel": "df5fd0e4-b5a2-4c3e-9251-9474c26525ee",
    "lastScheduledRunId": null,
    "lastSuccessfullyExecutedCode": "top_gender = nobel_df.sex.value_counts().idxmax()\ntop_gender",
    "outputsMetadata": {
     "0": {
      "height": 120,
      "type": "dataFrame"
     }
    }
   },
   "outputs": [
    {
     "data": {
      "text/plain": [
       "'Male'"
      ]
     },
     "execution_count": 5,
     "metadata": {},
     "output_type": "execute_result"
    }
   ],
   "source": [
    "top_gender = nobel_df.sex.value_counts().idxmax()\n",
    "top_gender"
   ]
  },
  {
   "cell_type": "code",
   "execution_count": 6,
   "id": "5fd3609f-e84a-4e33-a5c0-2bf8d86a0358",
   "metadata": {
    "executionCancelledAt": null,
    "executionTime": 50,
    "lastExecutedAt": 1720885864439,
    "lastExecutedByKernel": "df5fd0e4-b5a2-4c3e-9251-9474c26525ee",
    "lastScheduledRunId": null,
    "lastSuccessfullyExecutedCode": "top_country = nobel_df.birth_country.value_counts().idxmax()\ntop_country",
    "outputsMetadata": {
     "0": {
      "height": 319,
      "type": "dataFrame"
     }
    }
   },
   "outputs": [
    {
     "data": {
      "text/plain": [
       "'United States of America'"
      ]
     },
     "execution_count": 6,
     "metadata": {},
     "output_type": "execute_result"
    }
   ],
   "source": [
    "top_country = nobel_df.birth_country.value_counts().idxmax()\n",
    "top_country"
   ]
  },
  {
   "cell_type": "code",
   "execution_count": 7,
   "id": "97555e68-fbf5-4fab-8d13-5ee2e5825771",
   "metadata": {
    "executionCancelledAt": null,
    "executionTime": 52,
    "lastExecutedAt": 1720885864491,
    "lastExecutedByKernel": "df5fd0e4-b5a2-4c3e-9251-9474c26525ee",
    "lastScheduledRunId": null,
    "lastSuccessfullyExecutedCode": "# max_decade = int(str(nobel_df.year.max())[:-1]+'9')\n# min_decade = int(str(nobel_df.year.min())[:-1]+'0')\n# min_decade, max_decade"
   },
   "outputs": [],
   "source": [
    "# max_decade = int(str(nobel_df.year.max())[:-1]+'9')\n",
    "# min_decade = int(str(nobel_df.year.min())[:-1]+'0')\n",
    "# min_decade, max_decade"
   ]
  },
  {
   "cell_type": "code",
   "execution_count": 8,
   "id": "d1f61fef-b90b-469c-9161-6bc73cb0e470",
   "metadata": {
    "executionCancelledAt": null,
    "executionTime": 99,
    "lastExecutedAt": 1720885864591,
    "lastExecutedByKernel": "df5fd0e4-b5a2-4c3e-9251-9474c26525ee",
    "lastScheduledRunId": null,
    "lastSuccessfullyExecutedCode": "nobel_df['decade'] = nobel_df.year // 10 * 10\nnobel_df",
    "outputsMetadata": {
     "0": {
      "height": 336,
      "type": "dataFrame"
     }
    }
   },
   "outputs": [
    {
     "data": {
      "text/html": [
       "<div>\n",
       "<style scoped>\n",
       "    .dataframe tbody tr th:only-of-type {\n",
       "        vertical-align: middle;\n",
       "    }\n",
       "\n",
       "    .dataframe tbody tr th {\n",
       "        vertical-align: top;\n",
       "    }\n",
       "\n",
       "    .dataframe thead th {\n",
       "        text-align: right;\n",
       "    }\n",
       "</style>\n",
       "<table border=\"1\" class=\"dataframe\">\n",
       "  <thead>\n",
       "    <tr style=\"text-align: right;\">\n",
       "      <th></th>\n",
       "      <th>year</th>\n",
       "      <th>category</th>\n",
       "      <th>prize</th>\n",
       "      <th>motivation</th>\n",
       "      <th>prize_share</th>\n",
       "      <th>laureate_id</th>\n",
       "      <th>laureate_type</th>\n",
       "      <th>full_name</th>\n",
       "      <th>birth_date</th>\n",
       "      <th>birth_city</th>\n",
       "      <th>birth_country</th>\n",
       "      <th>sex</th>\n",
       "      <th>organization_name</th>\n",
       "      <th>organization_city</th>\n",
       "      <th>organization_country</th>\n",
       "      <th>death_date</th>\n",
       "      <th>death_city</th>\n",
       "      <th>death_country</th>\n",
       "      <th>decade</th>\n",
       "    </tr>\n",
       "  </thead>\n",
       "  <tbody>\n",
       "    <tr>\n",
       "      <th>0</th>\n",
       "      <td>1901</td>\n",
       "      <td>Chemistry</td>\n",
       "      <td>The Nobel Prize in Chemistry 1901</td>\n",
       "      <td>\"in recognition of the extraordinary services ...</td>\n",
       "      <td>1/1</td>\n",
       "      <td>160</td>\n",
       "      <td>Individual</td>\n",
       "      <td>Jacobus Henricus van 't Hoff</td>\n",
       "      <td>1852-08-30</td>\n",
       "      <td>Rotterdam</td>\n",
       "      <td>Netherlands</td>\n",
       "      <td>Male</td>\n",
       "      <td>Berlin University</td>\n",
       "      <td>Berlin</td>\n",
       "      <td>Germany</td>\n",
       "      <td>1911-03-01</td>\n",
       "      <td>Berlin</td>\n",
       "      <td>Germany</td>\n",
       "      <td>1900</td>\n",
       "    </tr>\n",
       "    <tr>\n",
       "      <th>1</th>\n",
       "      <td>1901</td>\n",
       "      <td>Literature</td>\n",
       "      <td>The Nobel Prize in Literature 1901</td>\n",
       "      <td>\"in special recognition of his poetic composit...</td>\n",
       "      <td>1/1</td>\n",
       "      <td>569</td>\n",
       "      <td>Individual</td>\n",
       "      <td>Sully Prudhomme</td>\n",
       "      <td>1839-03-16</td>\n",
       "      <td>Paris</td>\n",
       "      <td>France</td>\n",
       "      <td>Male</td>\n",
       "      <td>NaN</td>\n",
       "      <td>NaN</td>\n",
       "      <td>NaN</td>\n",
       "      <td>1907-09-07</td>\n",
       "      <td>Châtenay</td>\n",
       "      <td>France</td>\n",
       "      <td>1900</td>\n",
       "    </tr>\n",
       "    <tr>\n",
       "      <th>2</th>\n",
       "      <td>1901</td>\n",
       "      <td>Medicine</td>\n",
       "      <td>The Nobel Prize in Physiology or Medicine 1901</td>\n",
       "      <td>\"for his work on serum therapy, especially its...</td>\n",
       "      <td>1/1</td>\n",
       "      <td>293</td>\n",
       "      <td>Individual</td>\n",
       "      <td>Emil Adolf von Behring</td>\n",
       "      <td>1854-03-15</td>\n",
       "      <td>Hansdorf (Lawice)</td>\n",
       "      <td>Prussia (Poland)</td>\n",
       "      <td>Male</td>\n",
       "      <td>Marburg University</td>\n",
       "      <td>Marburg</td>\n",
       "      <td>Germany</td>\n",
       "      <td>1917-03-31</td>\n",
       "      <td>Marburg</td>\n",
       "      <td>Germany</td>\n",
       "      <td>1900</td>\n",
       "    </tr>\n",
       "    <tr>\n",
       "      <th>3</th>\n",
       "      <td>1901</td>\n",
       "      <td>Peace</td>\n",
       "      <td>The Nobel Peace Prize 1901</td>\n",
       "      <td>NaN</td>\n",
       "      <td>1/2</td>\n",
       "      <td>462</td>\n",
       "      <td>Individual</td>\n",
       "      <td>Jean Henry Dunant</td>\n",
       "      <td>1828-05-08</td>\n",
       "      <td>Geneva</td>\n",
       "      <td>Switzerland</td>\n",
       "      <td>Male</td>\n",
       "      <td>NaN</td>\n",
       "      <td>NaN</td>\n",
       "      <td>NaN</td>\n",
       "      <td>1910-10-30</td>\n",
       "      <td>Heiden</td>\n",
       "      <td>Switzerland</td>\n",
       "      <td>1900</td>\n",
       "    </tr>\n",
       "    <tr>\n",
       "      <th>4</th>\n",
       "      <td>1901</td>\n",
       "      <td>Peace</td>\n",
       "      <td>The Nobel Peace Prize 1901</td>\n",
       "      <td>NaN</td>\n",
       "      <td>1/2</td>\n",
       "      <td>463</td>\n",
       "      <td>Individual</td>\n",
       "      <td>Frédéric Passy</td>\n",
       "      <td>1822-05-20</td>\n",
       "      <td>Paris</td>\n",
       "      <td>France</td>\n",
       "      <td>Male</td>\n",
       "      <td>NaN</td>\n",
       "      <td>NaN</td>\n",
       "      <td>NaN</td>\n",
       "      <td>1912-06-12</td>\n",
       "      <td>Paris</td>\n",
       "      <td>France</td>\n",
       "      <td>1900</td>\n",
       "    </tr>\n",
       "    <tr>\n",
       "      <th>...</th>\n",
       "      <td>...</td>\n",
       "      <td>...</td>\n",
       "      <td>...</td>\n",
       "      <td>...</td>\n",
       "      <td>...</td>\n",
       "      <td>...</td>\n",
       "      <td>...</td>\n",
       "      <td>...</td>\n",
       "      <td>...</td>\n",
       "      <td>...</td>\n",
       "      <td>...</td>\n",
       "      <td>...</td>\n",
       "      <td>...</td>\n",
       "      <td>...</td>\n",
       "      <td>...</td>\n",
       "      <td>...</td>\n",
       "      <td>...</td>\n",
       "      <td>...</td>\n",
       "      <td>...</td>\n",
       "    </tr>\n",
       "    <tr>\n",
       "      <th>995</th>\n",
       "      <td>2023</td>\n",
       "      <td>Chemistry</td>\n",
       "      <td>The Nobel Prize in Chemistry 2023</td>\n",
       "      <td>\"for the discovery and synthesis of quantum dots\"</td>\n",
       "      <td>1/3</td>\n",
       "      <td>1030</td>\n",
       "      <td>Individual</td>\n",
       "      <td>Louis Brus</td>\n",
       "      <td>1943-00-00</td>\n",
       "      <td>Cleveland, OH</td>\n",
       "      <td>United States of America</td>\n",
       "      <td>Male</td>\n",
       "      <td>Columbia University</td>\n",
       "      <td>New York, NY</td>\n",
       "      <td>United States of America</td>\n",
       "      <td>NaN</td>\n",
       "      <td>NaN</td>\n",
       "      <td>NaN</td>\n",
       "      <td>2020</td>\n",
       "    </tr>\n",
       "    <tr>\n",
       "      <th>996</th>\n",
       "      <td>2023</td>\n",
       "      <td>Chemistry</td>\n",
       "      <td>The Nobel Prize in Chemistry 2023</td>\n",
       "      <td>\"for the discovery and synthesis of quantum dots\"</td>\n",
       "      <td>1/3</td>\n",
       "      <td>1031</td>\n",
       "      <td>Individual</td>\n",
       "      <td>Aleksey Yekimov</td>\n",
       "      <td>1945-00-00</td>\n",
       "      <td>NaN</td>\n",
       "      <td>USSR (now Russia)</td>\n",
       "      <td>Male</td>\n",
       "      <td>Nanocrystals Technology Inc.</td>\n",
       "      <td>New York, NY</td>\n",
       "      <td>United States of America</td>\n",
       "      <td>NaN</td>\n",
       "      <td>NaN</td>\n",
       "      <td>NaN</td>\n",
       "      <td>2020</td>\n",
       "    </tr>\n",
       "    <tr>\n",
       "      <th>997</th>\n",
       "      <td>2023</td>\n",
       "      <td>Literature</td>\n",
       "      <td>The Nobel Prize in Literature 2023</td>\n",
       "      <td>\"for his innovative plays and prose which give...</td>\n",
       "      <td>1/1</td>\n",
       "      <td>1032</td>\n",
       "      <td>Individual</td>\n",
       "      <td>Jon Fosse</td>\n",
       "      <td>1959-09-29</td>\n",
       "      <td>Haugesund</td>\n",
       "      <td>Norway</td>\n",
       "      <td>Male</td>\n",
       "      <td>NaN</td>\n",
       "      <td>NaN</td>\n",
       "      <td>NaN</td>\n",
       "      <td>NaN</td>\n",
       "      <td>NaN</td>\n",
       "      <td>NaN</td>\n",
       "      <td>2020</td>\n",
       "    </tr>\n",
       "    <tr>\n",
       "      <th>998</th>\n",
       "      <td>2023</td>\n",
       "      <td>Peace</td>\n",
       "      <td>The Nobel Peace Prize 2023</td>\n",
       "      <td>\"for her fight against the oppression of women...</td>\n",
       "      <td>1/1</td>\n",
       "      <td>1033</td>\n",
       "      <td>Individual</td>\n",
       "      <td>Narges Mohammadi</td>\n",
       "      <td>1972-04-21</td>\n",
       "      <td>Zanjan</td>\n",
       "      <td>Iran</td>\n",
       "      <td>Female</td>\n",
       "      <td>NaN</td>\n",
       "      <td>NaN</td>\n",
       "      <td>NaN</td>\n",
       "      <td>NaN</td>\n",
       "      <td>NaN</td>\n",
       "      <td>NaN</td>\n",
       "      <td>2020</td>\n",
       "    </tr>\n",
       "    <tr>\n",
       "      <th>999</th>\n",
       "      <td>2023</td>\n",
       "      <td>Economics</td>\n",
       "      <td>The Sveriges Riksbank Prize in Economic Scienc...</td>\n",
       "      <td>\"for having advanced our understanding of wome...</td>\n",
       "      <td>1/1</td>\n",
       "      <td>1034</td>\n",
       "      <td>Individual</td>\n",
       "      <td>Claudia Goldin</td>\n",
       "      <td>1946-00-00</td>\n",
       "      <td>New York, NY</td>\n",
       "      <td>United States of America</td>\n",
       "      <td>Female</td>\n",
       "      <td>Harvard University</td>\n",
       "      <td>Cambridge, MA</td>\n",
       "      <td>United States of America</td>\n",
       "      <td>NaN</td>\n",
       "      <td>NaN</td>\n",
       "      <td>NaN</td>\n",
       "      <td>2020</td>\n",
       "    </tr>\n",
       "  </tbody>\n",
       "</table>\n",
       "<p>1000 rows × 19 columns</p>\n",
       "</div>"
      ],
      "text/plain": [
       "     year    category                                              prize  \\\n",
       "0    1901   Chemistry                  The Nobel Prize in Chemistry 1901   \n",
       "1    1901  Literature                 The Nobel Prize in Literature 1901   \n",
       "2    1901    Medicine     The Nobel Prize in Physiology or Medicine 1901   \n",
       "3    1901       Peace                         The Nobel Peace Prize 1901   \n",
       "4    1901       Peace                         The Nobel Peace Prize 1901   \n",
       "..    ...         ...                                                ...   \n",
       "995  2023   Chemistry                  The Nobel Prize in Chemistry 2023   \n",
       "996  2023   Chemistry                  The Nobel Prize in Chemistry 2023   \n",
       "997  2023  Literature                 The Nobel Prize in Literature 2023   \n",
       "998  2023       Peace                         The Nobel Peace Prize 2023   \n",
       "999  2023   Economics  The Sveriges Riksbank Prize in Economic Scienc...   \n",
       "\n",
       "                                            motivation prize_share  \\\n",
       "0    \"in recognition of the extraordinary services ...         1/1   \n",
       "1    \"in special recognition of his poetic composit...         1/1   \n",
       "2    \"for his work on serum therapy, especially its...         1/1   \n",
       "3                                                  NaN         1/2   \n",
       "4                                                  NaN         1/2   \n",
       "..                                                 ...         ...   \n",
       "995  \"for the discovery and synthesis of quantum dots\"         1/3   \n",
       "996  \"for the discovery and synthesis of quantum dots\"         1/3   \n",
       "997  \"for his innovative plays and prose which give...         1/1   \n",
       "998  \"for her fight against the oppression of women...         1/1   \n",
       "999  \"for having advanced our understanding of wome...         1/1   \n",
       "\n",
       "     laureate_id laureate_type                     full_name  birth_date  \\\n",
       "0            160    Individual  Jacobus Henricus van 't Hoff  1852-08-30   \n",
       "1            569    Individual               Sully Prudhomme  1839-03-16   \n",
       "2            293    Individual        Emil Adolf von Behring  1854-03-15   \n",
       "3            462    Individual             Jean Henry Dunant  1828-05-08   \n",
       "4            463    Individual                Frédéric Passy  1822-05-20   \n",
       "..           ...           ...                           ...         ...   \n",
       "995         1030    Individual                    Louis Brus  1943-00-00   \n",
       "996         1031    Individual               Aleksey Yekimov  1945-00-00   \n",
       "997         1032    Individual                     Jon Fosse  1959-09-29   \n",
       "998         1033    Individual              Narges Mohammadi  1972-04-21   \n",
       "999         1034    Individual                Claudia Goldin  1946-00-00   \n",
       "\n",
       "            birth_city             birth_country     sex  \\\n",
       "0            Rotterdam               Netherlands    Male   \n",
       "1                Paris                    France    Male   \n",
       "2    Hansdorf (Lawice)          Prussia (Poland)    Male   \n",
       "3               Geneva               Switzerland    Male   \n",
       "4                Paris                    France    Male   \n",
       "..                 ...                       ...     ...   \n",
       "995      Cleveland, OH  United States of America    Male   \n",
       "996                NaN         USSR (now Russia)    Male   \n",
       "997          Haugesund                    Norway    Male   \n",
       "998             Zanjan                      Iran  Female   \n",
       "999       New York, NY  United States of America  Female   \n",
       "\n",
       "                organization_name organization_city      organization_country  \\\n",
       "0               Berlin University            Berlin                   Germany   \n",
       "1                             NaN               NaN                       NaN   \n",
       "2              Marburg University           Marburg                   Germany   \n",
       "3                             NaN               NaN                       NaN   \n",
       "4                             NaN               NaN                       NaN   \n",
       "..                            ...               ...                       ...   \n",
       "995           Columbia University      New York, NY  United States of America   \n",
       "996  Nanocrystals Technology Inc.      New York, NY  United States of America   \n",
       "997                           NaN               NaN                       NaN   \n",
       "998                           NaN               NaN                       NaN   \n",
       "999            Harvard University     Cambridge, MA  United States of America   \n",
       "\n",
       "     death_date death_city death_country  decade  \n",
       "0    1911-03-01     Berlin       Germany    1900  \n",
       "1    1907-09-07   Châtenay        France    1900  \n",
       "2    1917-03-31    Marburg       Germany    1900  \n",
       "3    1910-10-30     Heiden   Switzerland    1900  \n",
       "4    1912-06-12      Paris        France    1900  \n",
       "..          ...        ...           ...     ...  \n",
       "995         NaN        NaN           NaN    2020  \n",
       "996         NaN        NaN           NaN    2020  \n",
       "997         NaN        NaN           NaN    2020  \n",
       "998         NaN        NaN           NaN    2020  \n",
       "999         NaN        NaN           NaN    2020  \n",
       "\n",
       "[1000 rows x 19 columns]"
      ]
     },
     "execution_count": 8,
     "metadata": {},
     "output_type": "execute_result"
    }
   ],
   "source": [
    "nobel_df['decade'] = nobel_df.year // 10 * 10\n",
    "nobel_df"
   ]
  },
  {
   "cell_type": "code",
   "execution_count": 9,
   "id": "2a7cf772-b33f-4f86-ad5a-1dc96458a974",
   "metadata": {
    "executionCancelledAt": null,
    "executionTime": 52,
    "lastExecutedAt": 1720885864643,
    "lastExecutedByKernel": "df5fd0e4-b5a2-4c3e-9251-9474c26525ee",
    "lastScheduledRunId": null,
    "lastSuccessfullyExecutedCode": "winnersXdecade = nobel_df.groupby('decade')['laureate_id'].count()\nwinnersXdecade",
    "outputsMetadata": {
     "0": {
      "height": 319,
      "type": "dataFrame"
     }
    }
   },
   "outputs": [
    {
     "data": {
      "text/plain": [
       "decade\n",
       "1900     57\n",
       "1910     40\n",
       "1920     54\n",
       "1930     56\n",
       "1940     43\n",
       "1950     72\n",
       "1960     79\n",
       "1970    104\n",
       "1980     97\n",
       "1990    104\n",
       "2000    123\n",
       "2010    121\n",
       "2020     50\n",
       "Name: laureate_id, dtype: int64"
      ]
     },
     "execution_count": 9,
     "metadata": {},
     "output_type": "execute_result"
    }
   ],
   "source": [
    "winnersXdecade = nobel_df.groupby('decade')['laureate_id'].count()\n",
    "winnersXdecade"
   ]
  },
  {
   "cell_type": "code",
   "execution_count": 10,
   "id": "4a734db8-c727-474d-85d8-bbdefa6c54db",
   "metadata": {
    "executionCancelledAt": null,
    "executionTime": 56,
    "lastExecutedAt": 1720885864699,
    "lastExecutedByKernel": "df5fd0e4-b5a2-4c3e-9251-9474c26525ee",
    "lastScheduledRunId": null,
    "lastSuccessfullyExecutedCode": "USwinnersXdecade = nobel_df[nobel_df.birth_country == 'United States of America'].groupby('decade')['laureate_id'].count()\nUSwinnersXdecade",
    "outputsMetadata": {
     "0": {
      "height": 319,
      "type": "dataFrame"
     }
    }
   },
   "outputs": [
    {
     "data": {
      "text/plain": [
       "decade\n",
       "1900     1\n",
       "1910     3\n",
       "1920     4\n",
       "1930    14\n",
       "1940    13\n",
       "1950    21\n",
       "1960    21\n",
       "1970    33\n",
       "1980    31\n",
       "1990    42\n",
       "2000    52\n",
       "2010    38\n",
       "2020    18\n",
       "Name: laureate_id, dtype: int64"
      ]
     },
     "execution_count": 10,
     "metadata": {},
     "output_type": "execute_result"
    }
   ],
   "source": [
    "USwinnersXdecade = nobel_df[nobel_df.birth_country == 'United States of America'].groupby('decade')['laureate_id'].count()\n",
    "USwinnersXdecade"
   ]
  },
  {
   "cell_type": "code",
   "execution_count": 11,
   "id": "6f50ff27-97c4-47dc-a9b2-fd347d4e1e5b",
   "metadata": {
    "executionCancelledAt": null,
    "executionTime": 54,
    "lastExecutedAt": 1720885864753,
    "lastExecutedByKernel": "df5fd0e4-b5a2-4c3e-9251-9474c26525ee",
    "lastScheduledRunId": null,
    "lastSuccessfullyExecutedCode": "print(max((USwinnersXdecade / winnersXdecade)))\n\nmax_decade_usa = (USwinnersXdecade / winnersXdecade).idxmax()\nmax_decade_usa",
    "outputsMetadata": {
     "0": {
      "height": 38,
      "type": "stream"
     }
    }
   },
   "outputs": [
    {
     "name": "stdout",
     "output_type": "stream",
     "text": [
      "0.42276422764227645\n"
     ]
    },
    {
     "data": {
      "text/plain": [
       "2000"
      ]
     },
     "execution_count": 11,
     "metadata": {},
     "output_type": "execute_result"
    }
   ],
   "source": [
    "print(max((USwinnersXdecade / winnersXdecade)))\n",
    "\n",
    "max_decade_usa = (USwinnersXdecade / winnersXdecade).idxmax()\n",
    "max_decade_usa"
   ]
  },
  {
   "cell_type": "code",
   "execution_count": 12,
   "id": "037abd4b-98f5-47dd-8223-0bc1227fc0f0",
   "metadata": {
    "executionCancelledAt": null,
    "executionTime": 50,
    "lastExecutedAt": 1720885864803,
    "lastExecutedByKernel": "df5fd0e4-b5a2-4c3e-9251-9474c26525ee",
    "lastScheduledRunId": null,
    "lastSuccessfullyExecutedCode": "female_count = nobel_df[nobel_df.sex == 'Female'].groupby(['category','decade'])['laureate_id'].count()\nfemale_count",
    "outputsMetadata": {
     "0": {
      "height": 319,
      "type": "dataFrame"
     }
    }
   },
   "outputs": [
    {
     "data": {
      "text/plain": [
       "category    decade\n",
       "Chemistry   1910      1\n",
       "            1930      1\n",
       "            1960      1\n",
       "            2000      1\n",
       "            2010      1\n",
       "            2020      3\n",
       "Economics   2000      1\n",
       "            2010      1\n",
       "            2020      1\n",
       "Literature  1900      1\n",
       "            1920      2\n",
       "            1930      1\n",
       "            1940      1\n",
       "            1960      1\n",
       "            1990      3\n",
       "            2000      3\n",
       "            2010      3\n",
       "            2020      2\n",
       "Medicine    1940      1\n",
       "            1970      1\n",
       "            1980      3\n",
       "            1990      1\n",
       "            2000      4\n",
       "            2010      2\n",
       "            2020      1\n",
       "Peace       1900      1\n",
       "            1930      1\n",
       "            1940      1\n",
       "            1970      3\n",
       "            1980      1\n",
       "            1990      3\n",
       "            2000      2\n",
       "            2010      5\n",
       "            2020      2\n",
       "Physics     1900      1\n",
       "            1960      1\n",
       "            2010      1\n",
       "            2020      2\n",
       "Name: laureate_id, dtype: int64"
      ]
     },
     "execution_count": 12,
     "metadata": {},
     "output_type": "execute_result"
    }
   ],
   "source": [
    "female_count = nobel_df[nobel_df.sex == 'Female'].groupby(['category','decade'])['laureate_id'].count()\n",
    "female_count"
   ]
  },
  {
   "cell_type": "code",
   "execution_count": 13,
   "id": "8f7a1f47-fe8b-4195-b08c-2f262654437e",
   "metadata": {
    "executionCancelledAt": null,
    "executionTime": 53,
    "lastExecutedAt": 1720885864856,
    "lastExecutedByKernel": "df5fd0e4-b5a2-4c3e-9251-9474c26525ee",
    "lastScheduledRunId": null,
    "lastSuccessfullyExecutedCode": "all_count = nobel_df.groupby(['category','decade'])['laureate_id'].count()\nall_count",
    "outputsMetadata": {
     "0": {
      "height": 319,
      "type": "dataFrame"
     }
    }
   },
   "outputs": [
    {
     "data": {
      "text/plain": [
       "category   decade\n",
       "Chemistry  1900       9\n",
       "           1910       8\n",
       "           1920      10\n",
       "           1930      13\n",
       "           1940       9\n",
       "                     ..\n",
       "Physics    1980      22\n",
       "           1990      22\n",
       "           2000      28\n",
       "           2010      26\n",
       "           2020      12\n",
       "Name: laureate_id, Length: 72, dtype: int64"
      ]
     },
     "execution_count": 13,
     "metadata": {},
     "output_type": "execute_result"
    }
   ],
   "source": [
    "all_count = nobel_df.groupby(['category','decade'])['laureate_id'].count()\n",
    "all_count"
   ]
  },
  {
   "cell_type": "code",
   "execution_count": 14,
   "id": "cb605f73-2eca-4ff6-8362-52ae6c3aaed8",
   "metadata": {
    "executionCancelledAt": null,
    "executionTime": 56,
    "lastExecutedAt": 1720885864912,
    "lastExecutedByKernel": "df5fd0e4-b5a2-4c3e-9251-9474c26525ee",
    "lastScheduledRunId": null,
    "lastSuccessfullyExecutedCode": "fem_prop_count = female_count / all_count\nfem_prop_count",
    "outputsMetadata": {
     "0": {
      "height": 319,
      "type": "dataFrame"
     }
    }
   },
   "outputs": [
    {
     "data": {
      "text/plain": [
       "category   decade\n",
       "Chemistry  1900           NaN\n",
       "           1910      0.125000\n",
       "           1920           NaN\n",
       "           1930      0.076923\n",
       "           1940           NaN\n",
       "                       ...   \n",
       "Physics    1980           NaN\n",
       "           1990           NaN\n",
       "           2000           NaN\n",
       "           2010      0.038462\n",
       "           2020      0.166667\n",
       "Name: laureate_id, Length: 72, dtype: float64"
      ]
     },
     "execution_count": 14,
     "metadata": {},
     "output_type": "execute_result"
    }
   ],
   "source": [
    "fem_prop_count = female_count / all_count\n",
    "fem_prop_count"
   ]
  },
  {
   "cell_type": "code",
   "execution_count": 15,
   "id": "aecb89e3-69b6-4de3-ba43-20096d97166d",
   "metadata": {
    "executionCancelledAt": null,
    "executionTime": 55,
    "lastExecutedAt": 1720885864967,
    "lastExecutedByKernel": "df5fd0e4-b5a2-4c3e-9251-9474c26525ee",
    "lastScheduledRunId": null,
    "lastSuccessfullyExecutedCode": "max_female_tuple = fem_prop_count.idxmax()\nmax_female_tuple"
   },
   "outputs": [
    {
     "data": {
      "text/plain": [
       "('Literature', 2020)"
      ]
     },
     "execution_count": 15,
     "metadata": {},
     "output_type": "execute_result"
    }
   ],
   "source": [
    "max_female_tuple = fem_prop_count.idxmax()\n",
    "max_female_tuple"
   ]
  },
  {
   "cell_type": "code",
   "execution_count": 16,
   "id": "cbaf4f44-d6dd-4c37-9883-55ad3c5ec47b",
   "metadata": {
    "executionCancelledAt": null,
    "executionTime": 52,
    "lastExecutedAt": 1720885865019,
    "lastExecutedByKernel": "df5fd0e4-b5a2-4c3e-9251-9474c26525ee",
    "lastScheduledRunId": null,
    "lastSuccessfullyExecutedCode": "max_female_dict = {max_female_tuple[1] : max_female_tuple[0]}\nmax_female_dict"
   },
   "outputs": [
    {
     "data": {
      "text/plain": [
       "{2020: 'Literature'}"
      ]
     },
     "execution_count": 16,
     "metadata": {},
     "output_type": "execute_result"
    }
   ],
   "source": [
    "max_female_dict = {max_female_tuple[1] : max_female_tuple[0]}\n",
    "max_female_dict"
   ]
  },
  {
   "cell_type": "code",
   "execution_count": 17,
   "id": "c61f2f13-6749-4ec0-9beb-b36ac9be027b",
   "metadata": {
    "executionCancelledAt": null,
    "executionTime": 56,
    "lastExecutedAt": 1720885865075,
    "lastExecutedByKernel": "df5fd0e4-b5a2-4c3e-9251-9474c26525ee",
    "lastScheduledRunId": null,
    "lastSuccessfullyExecutedCode": "nobel_df_w = nobel_df[nobel_df.sex == 'Female'][['year', 'category', 'full_name']].sort_values('year')\nnobel_df_w",
    "outputsMetadata": {
     "0": {
      "height": 319,
      "type": "dataFrame"
     }
    }
   },
   "outputs": [
    {
     "data": {
      "text/html": [
       "<div>\n",
       "<style scoped>\n",
       "    .dataframe tbody tr th:only-of-type {\n",
       "        vertical-align: middle;\n",
       "    }\n",
       "\n",
       "    .dataframe tbody tr th {\n",
       "        vertical-align: top;\n",
       "    }\n",
       "\n",
       "    .dataframe thead th {\n",
       "        text-align: right;\n",
       "    }\n",
       "</style>\n",
       "<table border=\"1\" class=\"dataframe\">\n",
       "  <thead>\n",
       "    <tr style=\"text-align: right;\">\n",
       "      <th></th>\n",
       "      <th>year</th>\n",
       "      <th>category</th>\n",
       "      <th>full_name</th>\n",
       "    </tr>\n",
       "  </thead>\n",
       "  <tbody>\n",
       "    <tr>\n",
       "      <th>19</th>\n",
       "      <td>1903</td>\n",
       "      <td>Physics</td>\n",
       "      <td>Marie Curie, née Sklodowska</td>\n",
       "    </tr>\n",
       "    <tr>\n",
       "      <th>29</th>\n",
       "      <td>1905</td>\n",
       "      <td>Peace</td>\n",
       "      <td>Baroness Bertha Sophie Felicita von Suttner, n...</td>\n",
       "    </tr>\n",
       "    <tr>\n",
       "      <th>51</th>\n",
       "      <td>1909</td>\n",
       "      <td>Literature</td>\n",
       "      <td>Selma Ottilia Lovisa Lagerlöf</td>\n",
       "    </tr>\n",
       "    <tr>\n",
       "      <th>62</th>\n",
       "      <td>1911</td>\n",
       "      <td>Chemistry</td>\n",
       "      <td>Marie Curie, née Sklodowska</td>\n",
       "    </tr>\n",
       "    <tr>\n",
       "      <th>128</th>\n",
       "      <td>1926</td>\n",
       "      <td>Literature</td>\n",
       "      <td>Grazia Deledda</td>\n",
       "    </tr>\n",
       "    <tr>\n",
       "      <th>...</th>\n",
       "      <td>...</td>\n",
       "      <td>...</td>\n",
       "      <td>...</td>\n",
       "    </tr>\n",
       "    <tr>\n",
       "      <th>982</th>\n",
       "      <td>2022</td>\n",
       "      <td>Literature</td>\n",
       "      <td>Annie Ernaux</td>\n",
       "    </tr>\n",
       "    <tr>\n",
       "      <th>993</th>\n",
       "      <td>2023</td>\n",
       "      <td>Physics</td>\n",
       "      <td>Anne L’Huillier</td>\n",
       "    </tr>\n",
       "    <tr>\n",
       "      <th>998</th>\n",
       "      <td>2023</td>\n",
       "      <td>Peace</td>\n",
       "      <td>Narges Mohammadi</td>\n",
       "    </tr>\n",
       "    <tr>\n",
       "      <th>989</th>\n",
       "      <td>2023</td>\n",
       "      <td>Medicine</td>\n",
       "      <td>Katalin Karikó</td>\n",
       "    </tr>\n",
       "    <tr>\n",
       "      <th>999</th>\n",
       "      <td>2023</td>\n",
       "      <td>Economics</td>\n",
       "      <td>Claudia Goldin</td>\n",
       "    </tr>\n",
       "  </tbody>\n",
       "</table>\n",
       "<p>65 rows × 3 columns</p>\n",
       "</div>"
      ],
      "text/plain": [
       "     year    category                                          full_name\n",
       "19   1903     Physics                        Marie Curie, née Sklodowska\n",
       "29   1905       Peace  Baroness Bertha Sophie Felicita von Suttner, n...\n",
       "51   1909  Literature                      Selma Ottilia Lovisa Lagerlöf\n",
       "62   1911   Chemistry                        Marie Curie, née Sklodowska\n",
       "128  1926  Literature                                     Grazia Deledda\n",
       "..    ...         ...                                                ...\n",
       "982  2022  Literature                                       Annie Ernaux\n",
       "993  2023     Physics                                    Anne L’Huillier\n",
       "998  2023       Peace                                   Narges Mohammadi\n",
       "989  2023    Medicine                                     Katalin Karikó\n",
       "999  2023   Economics                                     Claudia Goldin\n",
       "\n",
       "[65 rows x 3 columns]"
      ]
     },
     "execution_count": 17,
     "metadata": {},
     "output_type": "execute_result"
    }
   ],
   "source": [
    "nobel_df_w = nobel_df[nobel_df.sex == 'Female'][['year', 'category', 'full_name']].sort_values('year')\n",
    "nobel_df_w"
   ]
  },
  {
   "cell_type": "code",
   "execution_count": 18,
   "id": "6ed60395-266d-4474-bf08-21598610dd5f",
   "metadata": {
    "executionCancelledAt": null,
    "executionTime": 48,
    "lastExecutedAt": 1720885865123,
    "lastExecutedByKernel": "df5fd0e4-b5a2-4c3e-9251-9474c26525ee",
    "lastScheduledRunId": null,
    "lastSuccessfullyExecutedCode": "first_woman_name = nobel_df_w.full_name.iloc[0]\nfirst_woman_name"
   },
   "outputs": [
    {
     "data": {
      "text/plain": [
       "'Marie Curie, née Sklodowska'"
      ]
     },
     "execution_count": 18,
     "metadata": {},
     "output_type": "execute_result"
    }
   ],
   "source": [
    "first_woman_name = nobel_df_w.full_name.iloc[0]\n",
    "first_woman_name"
   ]
  },
  {
   "cell_type": "code",
   "execution_count": 19,
   "id": "83985cf8-cf7f-4d4c-886d-fb93cd62fff4",
   "metadata": {
    "executionCancelledAt": null,
    "executionTime": 53,
    "lastExecutedAt": 1720885865176,
    "lastExecutedByKernel": "df5fd0e4-b5a2-4c3e-9251-9474c26525ee",
    "lastScheduledRunId": null,
    "lastSuccessfullyExecutedCode": "first_woman_category = nobel_df_w.category.iloc[0]\nfirst_woman_category"
   },
   "outputs": [
    {
     "data": {
      "text/plain": [
       "'Physics'"
      ]
     },
     "execution_count": 19,
     "metadata": {},
     "output_type": "execute_result"
    }
   ],
   "source": [
    "first_woman_category = nobel_df_w.category.iloc[0]\n",
    "first_woman_category"
   ]
  },
  {
   "cell_type": "code",
   "execution_count": 20,
   "id": "1755a451-7cd5-40b5-9f61-95645604f429",
   "metadata": {
    "executionCancelledAt": null,
    "executionTime": 52,
    "lastExecutedAt": 1720885865228,
    "lastExecutedByKernel": "df5fd0e4-b5a2-4c3e-9251-9474c26525ee",
    "lastScheduledRunId": null,
    "lastSuccessfullyExecutedCode": "count_nobel_df = nobel_df.full_name.value_counts()[nobel_df.full_name.value_counts() > 1]\ncount_nobel_df",
    "outputsMetadata": {
     "0": {
      "height": 220,
      "type": "dataFrame"
     }
    }
   },
   "outputs": [
    {
     "data": {
      "text/plain": [
       "Comité international de la Croix Rouge (International Committee of the Red Cross)    3\n",
       "Linus Carl Pauling                                                                   2\n",
       "John Bardeen                                                                         2\n",
       "Frederick Sanger                                                                     2\n",
       "Marie Curie, née Sklodowska                                                          2\n",
       "Office of the United Nations High Commissioner for Refugees (UNHCR)                  2\n",
       "Name: full_name, dtype: int64"
      ]
     },
     "execution_count": 20,
     "metadata": {},
     "output_type": "execute_result"
    }
   ],
   "source": [
    "count_nobel_df = nobel_df.full_name.value_counts()[nobel_df.full_name.value_counts() > 1]\n",
    "count_nobel_df"
   ]
  },
  {
   "cell_type": "code",
   "execution_count": 21,
   "id": "d813792b-1889-4c81-a24c-e4f68403fde5",
   "metadata": {
    "executionCancelledAt": null,
    "executionTime": 52,
    "lastExecutedAt": 1720885865280,
    "lastExecutedByKernel": "df5fd0e4-b5a2-4c3e-9251-9474c26525ee",
    "lastScheduledRunId": null,
    "lastSuccessfullyExecutedCode": "repeat_list = list(count_nobel_df.index)\nrepeat_list"
   },
   "outputs": [
    {
     "data": {
      "text/plain": [
       "['Comité international de la Croix Rouge (International Committee of the Red Cross)',\n",
       " 'Linus Carl Pauling',\n",
       " 'John Bardeen',\n",
       " 'Frederick Sanger',\n",
       " 'Marie Curie, née Sklodowska',\n",
       " 'Office of the United Nations High Commissioner for Refugees (UNHCR)']"
      ]
     },
     "execution_count": 21,
     "metadata": {},
     "output_type": "execute_result"
    }
   ],
   "source": [
    "repeat_list = list(count_nobel_df.index)\n",
    "repeat_list"
   ]
  }
 ],
 "metadata": {
  "editor": "DataCamp Workspace",
  "kernelspec": {
   "display_name": "Python 3 (ipykernel)",
   "language": "python",
   "name": "python3"
  },
  "language_info": {
   "codemirror_mode": {
    "name": "ipython",
    "version": 3
   },
   "file_extension": ".py",
   "mimetype": "text/x-python",
   "name": "python",
   "nbconvert_exporter": "python",
   "pygments_lexer": "ipython3",
   "version": "3.10.7"
  }
 },
 "nbformat": 4,
 "nbformat_minor": 5
}
