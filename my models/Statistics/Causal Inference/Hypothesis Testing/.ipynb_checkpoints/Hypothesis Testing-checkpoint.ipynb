{
 "cells": [
  {
   "cell_type": "code",
   "execution_count": 34,
   "id": "1d5f4843-e29e-4b62-98d5-5c255faf6556",
   "metadata": {},
   "outputs": [
    {
     "ename": "TypeError",
     "evalue": "'numpy._DTypeMeta' object is not subscriptable",
     "output_type": "error",
     "traceback": [
      "\u001b[1;31m---------------------------------------------------------------------------\u001b[0m",
      "\u001b[1;31mTypeError\u001b[0m                                 Traceback (most recent call last)",
      "Cell \u001b[1;32mIn[34], line 7\u001b[0m\n\u001b[0;32m      5\u001b[0m \u001b[38;5;28;01mimport\u001b[39;00m \u001b[38;5;21;01mmatplotlib\u001b[39;00m\u001b[38;5;21;01m.\u001b[39;00m\u001b[38;5;21;01mpyplot\u001b[39;00m \u001b[38;5;28;01mas\u001b[39;00m \u001b[38;5;21;01mplt\u001b[39;00m\n\u001b[0;32m      6\u001b[0m \u001b[38;5;28;01mfrom\u001b[39;00m \u001b[38;5;21;01mscipy\u001b[39;00m\u001b[38;5;21;01m.\u001b[39;00m\u001b[38;5;21;01mstats\u001b[39;00m \u001b[38;5;28;01mimport\u001b[39;00m norm \n\u001b[1;32m----> 7\u001b[0m \u001b[38;5;28;01mimport\u001b[39;00m \u001b[38;5;21;01mpingouin\u001b[39;00m \u001b[38;5;28;01mas\u001b[39;00m \u001b[38;5;21;01mpg\u001b[39;00m\n",
      "File \u001b[1;32m~\\miniconda3\\envs\\py309\\lib\\site-packages\\pingouin\\__init__.py:7\u001b[0m\n\u001b[0;32m      5\u001b[0m \u001b[38;5;28;01mfrom\u001b[39;00m \u001b[38;5;21;01m.\u001b[39;00m\u001b[38;5;21;01mdistribution\u001b[39;00m \u001b[38;5;28;01mimport\u001b[39;00m \u001b[38;5;241m*\u001b[39m\n\u001b[0;32m      6\u001b[0m \u001b[38;5;28;01mfrom\u001b[39;00m \u001b[38;5;21;01m.\u001b[39;00m\u001b[38;5;21;01meffsize\u001b[39;00m \u001b[38;5;28;01mimport\u001b[39;00m \u001b[38;5;241m*\u001b[39m\n\u001b[1;32m----> 7\u001b[0m \u001b[38;5;28;01mfrom\u001b[39;00m \u001b[38;5;21;01m.\u001b[39;00m\u001b[38;5;21;01mequivalence\u001b[39;00m \u001b[38;5;28;01mimport\u001b[39;00m \u001b[38;5;241m*\u001b[39m\n\u001b[0;32m      8\u001b[0m \u001b[38;5;28;01mfrom\u001b[39;00m \u001b[38;5;21;01m.\u001b[39;00m\u001b[38;5;21;01mmulticomp\u001b[39;00m \u001b[38;5;28;01mimport\u001b[39;00m \u001b[38;5;241m*\u001b[39m\n\u001b[0;32m      9\u001b[0m \u001b[38;5;28;01mfrom\u001b[39;00m \u001b[38;5;21;01m.\u001b[39;00m\u001b[38;5;21;01mmultivariate\u001b[39;00m \u001b[38;5;28;01mimport\u001b[39;00m \u001b[38;5;241m*\u001b[39m\n",
      "File \u001b[1;32m~\\miniconda3\\envs\\py309\\lib\\site-packages\\pingouin\\equivalence.py:5\u001b[0m\n\u001b[0;32m      3\u001b[0m \u001b[38;5;28;01mimport\u001b[39;00m \u001b[38;5;21;01mnumpy\u001b[39;00m \u001b[38;5;28;01mas\u001b[39;00m \u001b[38;5;21;01mnp\u001b[39;00m\n\u001b[0;32m      4\u001b[0m \u001b[38;5;28;01mimport\u001b[39;00m \u001b[38;5;21;01mpandas\u001b[39;00m \u001b[38;5;28;01mas\u001b[39;00m \u001b[38;5;21;01mpd\u001b[39;00m\n\u001b[1;32m----> 5\u001b[0m \u001b[38;5;28;01mfrom\u001b[39;00m \u001b[38;5;21;01mpingouin\u001b[39;00m\u001b[38;5;21;01m.\u001b[39;00m\u001b[38;5;21;01mparametric\u001b[39;00m \u001b[38;5;28;01mimport\u001b[39;00m ttest\n\u001b[0;32m      6\u001b[0m \u001b[38;5;28;01mfrom\u001b[39;00m \u001b[38;5;21;01mpingouin\u001b[39;00m\u001b[38;5;21;01m.\u001b[39;00m\u001b[38;5;21;01mutils\u001b[39;00m \u001b[38;5;28;01mimport\u001b[39;00m _postprocess_dataframe\n\u001b[0;32m      9\u001b[0m __all__ \u001b[38;5;241m=\u001b[39m [\u001b[38;5;124m\"\u001b[39m\u001b[38;5;124mtost\u001b[39m\u001b[38;5;124m\"\u001b[39m]\n",
      "File \u001b[1;32m~\\miniconda3\\envs\\py309\\lib\\site-packages\\pingouin\\parametric.py:7\u001b[0m\n\u001b[0;32m      5\u001b[0m \u001b[38;5;28;01mimport\u001b[39;00m \u001b[38;5;21;01mpandas\u001b[39;00m \u001b[38;5;28;01mas\u001b[39;00m \u001b[38;5;21;01mpd\u001b[39;00m\n\u001b[0;32m      6\u001b[0m \u001b[38;5;28;01mfrom\u001b[39;00m \u001b[38;5;21;01mscipy\u001b[39;00m\u001b[38;5;21;01m.\u001b[39;00m\u001b[38;5;21;01mstats\u001b[39;00m \u001b[38;5;28;01mimport\u001b[39;00m f\n\u001b[1;32m----> 7\u001b[0m \u001b[38;5;28;01mimport\u001b[39;00m \u001b[38;5;21;01mpandas_flavor\u001b[39;00m \u001b[38;5;28;01mas\u001b[39;00m \u001b[38;5;21;01mpf\u001b[39;00m\n\u001b[0;32m      8\u001b[0m \u001b[38;5;28;01mfrom\u001b[39;00m \u001b[38;5;21;01mpingouin\u001b[39;00m \u001b[38;5;28;01mimport\u001b[39;00m (\n\u001b[0;32m      9\u001b[0m     _check_dataframe,\n\u001b[0;32m     10\u001b[0m     remove_na,\n\u001b[1;32m   (...)\u001b[0m\n\u001b[0;32m     15\u001b[0m     _postprocess_dataframe,\n\u001b[0;32m     16\u001b[0m )\n\u001b[0;32m     18\u001b[0m __all__ \u001b[38;5;241m=\u001b[39m [\u001b[38;5;124m\"\u001b[39m\u001b[38;5;124mttest\u001b[39m\u001b[38;5;124m\"\u001b[39m, \u001b[38;5;124m\"\u001b[39m\u001b[38;5;124mrm_anova\u001b[39m\u001b[38;5;124m\"\u001b[39m, \u001b[38;5;124m\"\u001b[39m\u001b[38;5;124manova\u001b[39m\u001b[38;5;124m\"\u001b[39m, \u001b[38;5;124m\"\u001b[39m\u001b[38;5;124mwelch_anova\u001b[39m\u001b[38;5;124m\"\u001b[39m, \u001b[38;5;124m\"\u001b[39m\u001b[38;5;124mmixed_anova\u001b[39m\u001b[38;5;124m\"\u001b[39m, \u001b[38;5;124m\"\u001b[39m\u001b[38;5;124mancova\u001b[39m\u001b[38;5;124m\"\u001b[39m]\n",
      "File \u001b[1;32m~\\miniconda3\\envs\\py309\\lib\\site-packages\\pandas_flavor\\__init__.py:8\u001b[0m\n\u001b[0;32m      1\u001b[0m \u001b[38;5;124;03m\"\"\"Top-level API for pandas-flavor.\"\"\"\u001b[39;00m\n\u001b[0;32m      2\u001b[0m \u001b[38;5;28;01mfrom\u001b[39;00m \u001b[38;5;21;01m.\u001b[39;00m\u001b[38;5;21;01mregister\u001b[39;00m \u001b[38;5;28;01mimport\u001b[39;00m (\n\u001b[0;32m      3\u001b[0m     register_dataframe_accessor,\n\u001b[0;32m      4\u001b[0m     register_dataframe_method,\n\u001b[0;32m      5\u001b[0m     register_series_accessor,\n\u001b[0;32m      6\u001b[0m     register_series_method,\n\u001b[0;32m      7\u001b[0m )\n\u001b[1;32m----> 8\u001b[0m \u001b[38;5;28;01mfrom\u001b[39;00m \u001b[38;5;21;01m.\u001b[39;00m\u001b[38;5;21;01mxarray\u001b[39;00m \u001b[38;5;28;01mimport\u001b[39;00m (\n\u001b[0;32m      9\u001b[0m     register_xarray_dataarray_method,\n\u001b[0;32m     10\u001b[0m     register_xarray_dataset_method,\n\u001b[0;32m     11\u001b[0m )\n\u001b[0;32m     13\u001b[0m __all__ \u001b[38;5;241m=\u001b[39m [\n\u001b[0;32m     14\u001b[0m     \u001b[38;5;124m\"\u001b[39m\u001b[38;5;124mregister_series_method\u001b[39m\u001b[38;5;124m\"\u001b[39m,\n\u001b[0;32m     15\u001b[0m     \u001b[38;5;124m\"\u001b[39m\u001b[38;5;124mregister_series_accessor\u001b[39m\u001b[38;5;124m\"\u001b[39m,\n\u001b[1;32m   (...)\u001b[0m\n\u001b[0;32m     19\u001b[0m     \u001b[38;5;124m\"\u001b[39m\u001b[38;5;124mregister_xarray_dataset_method\u001b[39m\u001b[38;5;124m\"\u001b[39m,\n\u001b[0;32m     20\u001b[0m ]\n",
      "File \u001b[1;32m~\\miniconda3\\envs\\py309\\lib\\site-packages\\pandas_flavor\\xarray.py:2\u001b[0m\n\u001b[0;32m      1\u001b[0m \u001b[38;5;124;03m\"\"\"XArray support for pandas_flavor.\"\"\"\u001b[39;00m\n\u001b[1;32m----> 2\u001b[0m \u001b[38;5;28;01mfrom\u001b[39;00m \u001b[38;5;21;01mxarray\u001b[39;00m \u001b[38;5;28;01mimport\u001b[39;00m register_dataarray_accessor, register_dataset_accessor\n\u001b[0;32m      3\u001b[0m \u001b[38;5;28;01mfrom\u001b[39;00m \u001b[38;5;21;01mfunctools\u001b[39;00m \u001b[38;5;28;01mimport\u001b[39;00m wraps\n\u001b[0;32m      6\u001b[0m \u001b[38;5;28;01mdef\u001b[39;00m \u001b[38;5;21mmake_accessor_wrapper\u001b[39m(method):\n",
      "File \u001b[1;32m~\\miniconda3\\envs\\py309\\lib\\site-packages\\xarray\\__init__.py:3\u001b[0m\n\u001b[0;32m      1\u001b[0m \u001b[38;5;28;01mfrom\u001b[39;00m \u001b[38;5;21;01mimportlib\u001b[39;00m\u001b[38;5;21;01m.\u001b[39;00m\u001b[38;5;21;01mmetadata\u001b[39;00m \u001b[38;5;28;01mimport\u001b[39;00m version \u001b[38;5;28;01mas\u001b[39;00m _version\n\u001b[1;32m----> 3\u001b[0m \u001b[38;5;28;01mfrom\u001b[39;00m \u001b[38;5;21;01mxarray\u001b[39;00m \u001b[38;5;28;01mimport\u001b[39;00m testing, tutorial\n\u001b[0;32m      4\u001b[0m \u001b[38;5;28;01mfrom\u001b[39;00m \u001b[38;5;21;01mxarray\u001b[39;00m\u001b[38;5;21;01m.\u001b[39;00m\u001b[38;5;21;01mbackends\u001b[39;00m\u001b[38;5;21;01m.\u001b[39;00m\u001b[38;5;21;01mapi\u001b[39;00m \u001b[38;5;28;01mimport\u001b[39;00m (\n\u001b[0;32m      5\u001b[0m     load_dataarray,\n\u001b[0;32m      6\u001b[0m     load_dataset,\n\u001b[1;32m   (...)\u001b[0m\n\u001b[0;32m     10\u001b[0m     save_mfdataset,\n\u001b[0;32m     11\u001b[0m )\n\u001b[0;32m     12\u001b[0m \u001b[38;5;28;01mfrom\u001b[39;00m \u001b[38;5;21;01mxarray\u001b[39;00m\u001b[38;5;21;01m.\u001b[39;00m\u001b[38;5;21;01mbackends\u001b[39;00m\u001b[38;5;21;01m.\u001b[39;00m\u001b[38;5;21;01mzarr\u001b[39;00m \u001b[38;5;28;01mimport\u001b[39;00m open_zarr\n",
      "File \u001b[1;32m~\\miniconda3\\envs\\py309\\lib\\site-packages\\xarray\\testing\\__init__.py:1\u001b[0m\n\u001b[1;32m----> 1\u001b[0m \u001b[38;5;28;01mfrom\u001b[39;00m \u001b[38;5;21;01mxarray\u001b[39;00m\u001b[38;5;21;01m.\u001b[39;00m\u001b[38;5;21;01mtesting\u001b[39;00m\u001b[38;5;21;01m.\u001b[39;00m\u001b[38;5;21;01massertions\u001b[39;00m \u001b[38;5;28;01mimport\u001b[39;00m (  \u001b[38;5;66;03m# noqa: F401\u001b[39;00m\n\u001b[0;32m      2\u001b[0m     _assert_dataarray_invariants,\n\u001b[0;32m      3\u001b[0m     _assert_dataset_invariants,\n\u001b[0;32m      4\u001b[0m     _assert_indexes_invariants_checks,\n\u001b[0;32m      5\u001b[0m     _assert_internal_invariants,\n\u001b[0;32m      6\u001b[0m     _assert_variable_invariants,\n\u001b[0;32m      7\u001b[0m     _data_allclose_or_equiv,\n\u001b[0;32m      8\u001b[0m     assert_allclose,\n\u001b[0;32m      9\u001b[0m     assert_chunks_equal,\n\u001b[0;32m     10\u001b[0m     assert_duckarray_allclose,\n\u001b[0;32m     11\u001b[0m     assert_duckarray_equal,\n\u001b[0;32m     12\u001b[0m     assert_equal,\n\u001b[0;32m     13\u001b[0m     assert_identical,\n\u001b[0;32m     14\u001b[0m )\n\u001b[0;32m     16\u001b[0m __all__ \u001b[38;5;241m=\u001b[39m [\n\u001b[0;32m     17\u001b[0m     \u001b[38;5;124m\"\u001b[39m\u001b[38;5;124massert_allclose\u001b[39m\u001b[38;5;124m\"\u001b[39m,\n\u001b[0;32m     18\u001b[0m     \u001b[38;5;124m\"\u001b[39m\u001b[38;5;124massert_chunks_equal\u001b[39m\u001b[38;5;124m\"\u001b[39m,\n\u001b[1;32m   (...)\u001b[0m\n\u001b[0;32m     22\u001b[0m     \u001b[38;5;124m\"\u001b[39m\u001b[38;5;124massert_identical\u001b[39m\u001b[38;5;124m\"\u001b[39m,\n\u001b[0;32m     23\u001b[0m ]\n",
      "File \u001b[1;32m~\\miniconda3\\envs\\py309\\lib\\site-packages\\xarray\\testing\\assertions.py:11\u001b[0m\n\u001b[0;32m      8\u001b[0m \u001b[38;5;28;01mimport\u001b[39;00m \u001b[38;5;21;01mpandas\u001b[39;00m \u001b[38;5;28;01mas\u001b[39;00m \u001b[38;5;21;01mpd\u001b[39;00m\n\u001b[0;32m     10\u001b[0m \u001b[38;5;28;01mfrom\u001b[39;00m \u001b[38;5;21;01mxarray\u001b[39;00m\u001b[38;5;21;01m.\u001b[39;00m\u001b[38;5;21;01mcore\u001b[39;00m \u001b[38;5;28;01mimport\u001b[39;00m duck_array_ops, formatting, utils\n\u001b[1;32m---> 11\u001b[0m \u001b[38;5;28;01mfrom\u001b[39;00m \u001b[38;5;21;01mxarray\u001b[39;00m\u001b[38;5;21;01m.\u001b[39;00m\u001b[38;5;21;01mcore\u001b[39;00m\u001b[38;5;21;01m.\u001b[39;00m\u001b[38;5;21;01mcoordinates\u001b[39;00m \u001b[38;5;28;01mimport\u001b[39;00m Coordinates\n\u001b[0;32m     12\u001b[0m \u001b[38;5;28;01mfrom\u001b[39;00m \u001b[38;5;21;01mxarray\u001b[39;00m\u001b[38;5;21;01m.\u001b[39;00m\u001b[38;5;21;01mcore\u001b[39;00m\u001b[38;5;21;01m.\u001b[39;00m\u001b[38;5;21;01mdataarray\u001b[39;00m \u001b[38;5;28;01mimport\u001b[39;00m DataArray\n\u001b[0;32m     13\u001b[0m \u001b[38;5;28;01mfrom\u001b[39;00m \u001b[38;5;21;01mxarray\u001b[39;00m\u001b[38;5;21;01m.\u001b[39;00m\u001b[38;5;21;01mcore\u001b[39;00m\u001b[38;5;21;01m.\u001b[39;00m\u001b[38;5;21;01mdataset\u001b[39;00m \u001b[38;5;28;01mimport\u001b[39;00m Dataset\n",
      "File \u001b[1;32m~\\miniconda3\\envs\\py309\\lib\\site-packages\\xarray\\core\\coordinates.py:16\u001b[0m\n\u001b[0;32m     13\u001b[0m \u001b[38;5;28;01mimport\u001b[39;00m \u001b[38;5;21;01mpandas\u001b[39;00m \u001b[38;5;28;01mas\u001b[39;00m \u001b[38;5;21;01mpd\u001b[39;00m\n\u001b[0;32m     15\u001b[0m \u001b[38;5;28;01mfrom\u001b[39;00m \u001b[38;5;21;01mxarray\u001b[39;00m\u001b[38;5;21;01m.\u001b[39;00m\u001b[38;5;21;01mcore\u001b[39;00m \u001b[38;5;28;01mimport\u001b[39;00m formatting\n\u001b[1;32m---> 16\u001b[0m \u001b[38;5;28;01mfrom\u001b[39;00m \u001b[38;5;21;01mxarray\u001b[39;00m\u001b[38;5;21;01m.\u001b[39;00m\u001b[38;5;21;01mcore\u001b[39;00m\u001b[38;5;21;01m.\u001b[39;00m\u001b[38;5;21;01malignment\u001b[39;00m \u001b[38;5;28;01mimport\u001b[39;00m Aligner\n\u001b[0;32m     17\u001b[0m \u001b[38;5;28;01mfrom\u001b[39;00m \u001b[38;5;21;01mxarray\u001b[39;00m\u001b[38;5;21;01m.\u001b[39;00m\u001b[38;5;21;01mcore\u001b[39;00m\u001b[38;5;21;01m.\u001b[39;00m\u001b[38;5;21;01mindexes\u001b[39;00m \u001b[38;5;28;01mimport\u001b[39;00m (\n\u001b[0;32m     18\u001b[0m     Index,\n\u001b[0;32m     19\u001b[0m     Indexes,\n\u001b[1;32m   (...)\u001b[0m\n\u001b[0;32m     23\u001b[0m     create_default_index_implicit,\n\u001b[0;32m     24\u001b[0m )\n\u001b[0;32m     25\u001b[0m \u001b[38;5;28;01mfrom\u001b[39;00m \u001b[38;5;21;01mxarray\u001b[39;00m\u001b[38;5;21;01m.\u001b[39;00m\u001b[38;5;21;01mcore\u001b[39;00m\u001b[38;5;21;01m.\u001b[39;00m\u001b[38;5;21;01mmerge\u001b[39;00m \u001b[38;5;28;01mimport\u001b[39;00m merge_coordinates_without_align, merge_coords\n",
      "File \u001b[1;32m~\\miniconda3\\envs\\py309\\lib\\site-packages\\xarray\\core\\alignment.py:24\u001b[0m\n\u001b[0;32m     22\u001b[0m \u001b[38;5;28;01mfrom\u001b[39;00m \u001b[38;5;21;01mxarray\u001b[39;00m\u001b[38;5;21;01m.\u001b[39;00m\u001b[38;5;21;01mcore\u001b[39;00m\u001b[38;5;21;01m.\u001b[39;00m\u001b[38;5;21;01mtypes\u001b[39;00m \u001b[38;5;28;01mimport\u001b[39;00m T_Alignable\n\u001b[0;32m     23\u001b[0m \u001b[38;5;28;01mfrom\u001b[39;00m \u001b[38;5;21;01mxarray\u001b[39;00m\u001b[38;5;21;01m.\u001b[39;00m\u001b[38;5;21;01mcore\u001b[39;00m\u001b[38;5;21;01m.\u001b[39;00m\u001b[38;5;21;01mutils\u001b[39;00m \u001b[38;5;28;01mimport\u001b[39;00m is_dict_like, is_full_slice\n\u001b[1;32m---> 24\u001b[0m \u001b[38;5;28;01mfrom\u001b[39;00m \u001b[38;5;21;01mxarray\u001b[39;00m\u001b[38;5;21;01m.\u001b[39;00m\u001b[38;5;21;01mcore\u001b[39;00m\u001b[38;5;21;01m.\u001b[39;00m\u001b[38;5;21;01mvariable\u001b[39;00m \u001b[38;5;28;01mimport\u001b[39;00m Variable, as_compatible_data, calculate_dimensions\n\u001b[0;32m     26\u001b[0m \u001b[38;5;28;01mif\u001b[39;00m TYPE_CHECKING:\n\u001b[0;32m     27\u001b[0m     \u001b[38;5;28;01mfrom\u001b[39;00m \u001b[38;5;21;01mxarray\u001b[39;00m\u001b[38;5;21;01m.\u001b[39;00m\u001b[38;5;21;01mcore\u001b[39;00m\u001b[38;5;21;01m.\u001b[39;00m\u001b[38;5;21;01mdataarray\u001b[39;00m \u001b[38;5;28;01mimport\u001b[39;00m DataArray\n",
      "File \u001b[1;32m~\\miniconda3\\envs\\py309\\lib\\site-packages\\xarray\\core\\variable.py:15\u001b[0m\n\u001b[0;32m     13\u001b[0m \u001b[38;5;28;01mimport\u001b[39;00m \u001b[38;5;21;01mnumpy\u001b[39;00m \u001b[38;5;28;01mas\u001b[39;00m \u001b[38;5;21;01mnp\u001b[39;00m\n\u001b[0;32m     14\u001b[0m \u001b[38;5;28;01mimport\u001b[39;00m \u001b[38;5;21;01mpandas\u001b[39;00m \u001b[38;5;28;01mas\u001b[39;00m \u001b[38;5;21;01mpd\u001b[39;00m\n\u001b[1;32m---> 15\u001b[0m \u001b[38;5;28;01mfrom\u001b[39;00m \u001b[38;5;21;01mnumpy\u001b[39;00m\u001b[38;5;21;01m.\u001b[39;00m\u001b[38;5;21;01mtyping\u001b[39;00m \u001b[38;5;28;01mimport\u001b[39;00m ArrayLike\n\u001b[0;32m     17\u001b[0m \u001b[38;5;28;01mimport\u001b[39;00m \u001b[38;5;21;01mxarray\u001b[39;00m \u001b[38;5;28;01mas\u001b[39;00m \u001b[38;5;21;01mxr\u001b[39;00m  \u001b[38;5;66;03m# only for Dataset and DataArray\u001b[39;00m\n\u001b[0;32m     18\u001b[0m \u001b[38;5;28;01mfrom\u001b[39;00m \u001b[38;5;21;01mxarray\u001b[39;00m\u001b[38;5;21;01m.\u001b[39;00m\u001b[38;5;21;01mcore\u001b[39;00m \u001b[38;5;28;01mimport\u001b[39;00m common, dtypes, duck_array_ops, indexing, nputils, ops, utils\n",
      "File \u001b[1;32m~\\miniconda3\\envs\\py309\\lib\\site-packages\\numpy\\typing\\__init__.py:329\u001b[0m\n\u001b[0;32m    313\u001b[0m \u001b[38;5;28;01mfrom\u001b[39;00m \u001b[38;5;21;01m.\u001b[39;00m\u001b[38;5;21;01m_scalars\u001b[39;00m \u001b[38;5;28;01mimport\u001b[39;00m (\n\u001b[0;32m    314\u001b[0m     _CharLike_co \u001b[38;5;28;01mas\u001b[39;00m _CharLike_co,\n\u001b[0;32m    315\u001b[0m     _BoolLike_co \u001b[38;5;28;01mas\u001b[39;00m _BoolLike_co,\n\u001b[1;32m   (...)\u001b[0m\n\u001b[0;32m    323\u001b[0m     _VoidLike_co \u001b[38;5;28;01mas\u001b[39;00m _VoidLike_co,\n\u001b[0;32m    324\u001b[0m )\n\u001b[0;32m    325\u001b[0m \u001b[38;5;28;01mfrom\u001b[39;00m \u001b[38;5;21;01m.\u001b[39;00m\u001b[38;5;21;01m_shape\u001b[39;00m \u001b[38;5;28;01mimport\u001b[39;00m (\n\u001b[0;32m    326\u001b[0m     _Shape \u001b[38;5;28;01mas\u001b[39;00m _Shape,\n\u001b[0;32m    327\u001b[0m     _ShapeLike \u001b[38;5;28;01mas\u001b[39;00m _ShapeLike,\n\u001b[0;32m    328\u001b[0m )\n\u001b[1;32m--> 329\u001b[0m \u001b[38;5;28;01mfrom\u001b[39;00m \u001b[38;5;21;01m.\u001b[39;00m\u001b[38;5;21;01m_dtype_like\u001b[39;00m \u001b[38;5;28;01mimport\u001b[39;00m (\n\u001b[0;32m    330\u001b[0m     DTypeLike \u001b[38;5;28;01mas\u001b[39;00m DTypeLike,\n\u001b[0;32m    331\u001b[0m     _SupportsDType \u001b[38;5;28;01mas\u001b[39;00m _SupportsDType,\n\u001b[0;32m    332\u001b[0m     _VoidDTypeLike \u001b[38;5;28;01mas\u001b[39;00m _VoidDTypeLike,\n\u001b[0;32m    333\u001b[0m     _DTypeLikeBool \u001b[38;5;28;01mas\u001b[39;00m _DTypeLikeBool,\n\u001b[0;32m    334\u001b[0m     _DTypeLikeUInt \u001b[38;5;28;01mas\u001b[39;00m _DTypeLikeUInt,\n\u001b[0;32m    335\u001b[0m     _DTypeLikeInt \u001b[38;5;28;01mas\u001b[39;00m _DTypeLikeInt,\n\u001b[0;32m    336\u001b[0m     _DTypeLikeFloat \u001b[38;5;28;01mas\u001b[39;00m _DTypeLikeFloat,\n\u001b[0;32m    337\u001b[0m     _DTypeLikeComplex \u001b[38;5;28;01mas\u001b[39;00m _DTypeLikeComplex,\n\u001b[0;32m    338\u001b[0m     _DTypeLikeTD64 \u001b[38;5;28;01mas\u001b[39;00m _DTypeLikeTD64,\n\u001b[0;32m    339\u001b[0m     _DTypeLikeDT64 \u001b[38;5;28;01mas\u001b[39;00m _DTypeLikeDT64,\n\u001b[0;32m    340\u001b[0m     _DTypeLikeObject \u001b[38;5;28;01mas\u001b[39;00m _DTypeLikeObject,\n\u001b[0;32m    341\u001b[0m     _DTypeLikeVoid \u001b[38;5;28;01mas\u001b[39;00m _DTypeLikeVoid,\n\u001b[0;32m    342\u001b[0m     _DTypeLikeStr \u001b[38;5;28;01mas\u001b[39;00m _DTypeLikeStr,\n\u001b[0;32m    343\u001b[0m     _DTypeLikeBytes \u001b[38;5;28;01mas\u001b[39;00m _DTypeLikeBytes,\n\u001b[0;32m    344\u001b[0m     _DTypeLikeComplex_co \u001b[38;5;28;01mas\u001b[39;00m _DTypeLikeComplex_co,\n\u001b[0;32m    345\u001b[0m )\n\u001b[0;32m    346\u001b[0m \u001b[38;5;28;01mfrom\u001b[39;00m \u001b[38;5;21;01m.\u001b[39;00m\u001b[38;5;21;01m_array_like\u001b[39;00m \u001b[38;5;28;01mimport\u001b[39;00m (\n\u001b[0;32m    347\u001b[0m     ArrayLike \u001b[38;5;28;01mas\u001b[39;00m ArrayLike,\n\u001b[0;32m    348\u001b[0m     _ArrayLike \u001b[38;5;28;01mas\u001b[39;00m _ArrayLike,\n\u001b[1;32m   (...)\u001b[0m\n\u001b[0;32m    363\u001b[0m     _ArrayLikeBytes_co \u001b[38;5;28;01mas\u001b[39;00m _ArrayLikeBytes_co,\n\u001b[0;32m    364\u001b[0m )\n\u001b[0;32m    365\u001b[0m \u001b[38;5;28;01mfrom\u001b[39;00m \u001b[38;5;21;01m.\u001b[39;00m\u001b[38;5;21;01m_generic_alias\u001b[39;00m \u001b[38;5;28;01mimport\u001b[39;00m (\n\u001b[0;32m    366\u001b[0m     NDArray \u001b[38;5;28;01mas\u001b[39;00m NDArray,\n\u001b[0;32m    367\u001b[0m     _DType \u001b[38;5;28;01mas\u001b[39;00m _DType,\n\u001b[0;32m    368\u001b[0m     _GenericAlias \u001b[38;5;28;01mas\u001b[39;00m _GenericAlias,\n\u001b[0;32m    369\u001b[0m )\n",
      "File \u001b[1;32m~\\miniconda3\\envs\\py309\\lib\\site-packages\\numpy\\typing\\_dtype_like.py:16\u001b[0m\n\u001b[0;32m     13\u001b[0m \u001b[38;5;28;01mimport\u001b[39;00m \u001b[38;5;21;01mnumpy\u001b[39;00m \u001b[38;5;28;01mas\u001b[39;00m \u001b[38;5;21;01mnp\u001b[39;00m\n\u001b[0;32m     15\u001b[0m \u001b[38;5;28;01mfrom\u001b[39;00m \u001b[38;5;21;01m.\u001b[39;00m\u001b[38;5;21;01m_shape\u001b[39;00m \u001b[38;5;28;01mimport\u001b[39;00m _ShapeLike\n\u001b[1;32m---> 16\u001b[0m \u001b[38;5;28;01mfrom\u001b[39;00m \u001b[38;5;21;01m.\u001b[39;00m\u001b[38;5;21;01m_generic_alias\u001b[39;00m \u001b[38;5;28;01mimport\u001b[39;00m _DType \u001b[38;5;28;01mas\u001b[39;00m DType\n\u001b[0;32m     18\u001b[0m \u001b[38;5;28;01mfrom\u001b[39;00m \u001b[38;5;21;01m.\u001b[39;00m\u001b[38;5;21;01m_char_codes\u001b[39;00m \u001b[38;5;28;01mimport\u001b[39;00m (\n\u001b[0;32m     19\u001b[0m     _BoolCodes,\n\u001b[0;32m     20\u001b[0m     _UInt8Codes,\n\u001b[1;32m   (...)\u001b[0m\n\u001b[0;32m     57\u001b[0m     _ObjectCodes,\n\u001b[0;32m     58\u001b[0m )\n\u001b[0;32m     60\u001b[0m _DTypeLikeNested \u001b[38;5;241m=\u001b[39m Any  \u001b[38;5;66;03m# TODO: wait for support for recursive types\u001b[39;00m\n",
      "File \u001b[1;32m~\\miniconda3\\envs\\py309\\lib\\site-packages\\numpy\\typing\\_generic_alias.py:211\u001b[0m\n\u001b[0;32m    208\u001b[0m ScalarType \u001b[38;5;241m=\u001b[39m TypeVar(\u001b[38;5;124m\"\u001b[39m\u001b[38;5;124mScalarType\u001b[39m\u001b[38;5;124m\"\u001b[39m, bound\u001b[38;5;241m=\u001b[39mnp\u001b[38;5;241m.\u001b[39mgeneric, covariant\u001b[38;5;241m=\u001b[39m\u001b[38;5;28;01mTrue\u001b[39;00m)\n\u001b[0;32m    210\u001b[0m \u001b[38;5;28;01mif\u001b[39;00m TYPE_CHECKING \u001b[38;5;129;01mor\u001b[39;00m sys\u001b[38;5;241m.\u001b[39mversion_info \u001b[38;5;241m>\u001b[39m\u001b[38;5;241m=\u001b[39m (\u001b[38;5;241m3\u001b[39m, \u001b[38;5;241m9\u001b[39m):\n\u001b[1;32m--> 211\u001b[0m     _DType \u001b[38;5;241m=\u001b[39m \u001b[43mnp\u001b[49m\u001b[38;5;241;43m.\u001b[39;49m\u001b[43mdtype\u001b[49m\u001b[43m[\u001b[49m\u001b[43mScalarType\u001b[49m\u001b[43m]\u001b[49m\n\u001b[0;32m    212\u001b[0m     NDArray \u001b[38;5;241m=\u001b[39m np\u001b[38;5;241m.\u001b[39mndarray[Any, np\u001b[38;5;241m.\u001b[39mdtype[ScalarType]]\n\u001b[0;32m    213\u001b[0m \u001b[38;5;28;01melse\u001b[39;00m:\n",
      "\u001b[1;31mTypeError\u001b[0m: 'numpy._DTypeMeta' object is not subscriptable"
     ]
    }
   ],
   "source": [
    "# !pip install pingouin\n",
    "import feather\n",
    "import numpy as np\n",
    "import pandas as pd\n",
    "import matplotlib.pyplot as plt\n",
    "from scipy.stats import norm \n",
    "import pingouin as pg\n"
   ]
  },
  {
   "cell_type": "code",
   "execution_count": 2,
   "id": "2ab1ec94-eecc-43bc-8c7a-0943a9bfeb00",
   "metadata": {},
   "outputs": [],
   "source": [
    "# Calculating the sample mean\n",
    "# The late_shipments dataset contains supply chain data on the delivery of medical supplies. Each row represents one delivery of a part. The late columns denotes whether or not the part was delivered late. A value of \"Yes\" means that the part was delivered late, and a value of \"No\" means the part was delivered on time.\n",
    "\n",
    "# You'll begin your analysis by calculating a point estimate (or sample statistic), namely the proportion of late shipments."
   ]
  },
  {
   "cell_type": "code",
   "execution_count": 3,
   "id": "783e5d97-0b60-4295-91b4-4bf917239274",
   "metadata": {},
   "outputs": [
    {
     "data": {
      "text/html": [
       "<div>\n",
       "<style scoped>\n",
       "    .dataframe tbody tr th:only-of-type {\n",
       "        vertical-align: middle;\n",
       "    }\n",
       "\n",
       "    .dataframe tbody tr th {\n",
       "        vertical-align: top;\n",
       "    }\n",
       "\n",
       "    .dataframe thead th {\n",
       "        text-align: right;\n",
       "    }\n",
       "</style>\n",
       "<table border=\"1\" class=\"dataframe\">\n",
       "  <thead>\n",
       "    <tr style=\"text-align: right;\">\n",
       "      <th></th>\n",
       "      <th>id</th>\n",
       "      <th>country</th>\n",
       "      <th>managed_by</th>\n",
       "      <th>fulfill_via</th>\n",
       "      <th>vendor_inco_term</th>\n",
       "      <th>shipment_mode</th>\n",
       "      <th>late_delivery</th>\n",
       "      <th>late</th>\n",
       "      <th>product_group</th>\n",
       "      <th>sub_classification</th>\n",
       "      <th>...</th>\n",
       "      <th>line_item_quantity</th>\n",
       "      <th>line_item_value</th>\n",
       "      <th>pack_price</th>\n",
       "      <th>unit_price</th>\n",
       "      <th>manufacturing_site</th>\n",
       "      <th>first_line_designation</th>\n",
       "      <th>weight_kilograms</th>\n",
       "      <th>freight_cost_usd</th>\n",
       "      <th>freight_cost_groups</th>\n",
       "      <th>line_item_insurance_usd</th>\n",
       "    </tr>\n",
       "  </thead>\n",
       "  <tbody>\n",
       "    <tr>\n",
       "      <th>0</th>\n",
       "      <td>36203.0</td>\n",
       "      <td>Nigeria</td>\n",
       "      <td>PMO - US</td>\n",
       "      <td>Direct Drop</td>\n",
       "      <td>EXW</td>\n",
       "      <td>Air</td>\n",
       "      <td>1.0</td>\n",
       "      <td>Yes</td>\n",
       "      <td>HRDT</td>\n",
       "      <td>HIV test</td>\n",
       "      <td>...</td>\n",
       "      <td>2996.0</td>\n",
       "      <td>266644.00</td>\n",
       "      <td>89.00</td>\n",
       "      <td>0.89</td>\n",
       "      <td>Alere Medical Co., Ltd.</td>\n",
       "      <td>Yes</td>\n",
       "      <td>1426.0</td>\n",
       "      <td>33279.83</td>\n",
       "      <td>expensive</td>\n",
       "      <td>373.83</td>\n",
       "    </tr>\n",
       "    <tr>\n",
       "      <th>1</th>\n",
       "      <td>30998.0</td>\n",
       "      <td>Botswana</td>\n",
       "      <td>PMO - US</td>\n",
       "      <td>Direct Drop</td>\n",
       "      <td>EXW</td>\n",
       "      <td>Air</td>\n",
       "      <td>0.0</td>\n",
       "      <td>No</td>\n",
       "      <td>HRDT</td>\n",
       "      <td>HIV test</td>\n",
       "      <td>...</td>\n",
       "      <td>25.0</td>\n",
       "      <td>800.00</td>\n",
       "      <td>32.00</td>\n",
       "      <td>1.60</td>\n",
       "      <td>Trinity Biotech, Plc</td>\n",
       "      <td>Yes</td>\n",
       "      <td>10.0</td>\n",
       "      <td>559.89</td>\n",
       "      <td>reasonable</td>\n",
       "      <td>1.72</td>\n",
       "    </tr>\n",
       "    <tr>\n",
       "      <th>2</th>\n",
       "      <td>69871.0</td>\n",
       "      <td>Vietnam</td>\n",
       "      <td>PMO - US</td>\n",
       "      <td>Direct Drop</td>\n",
       "      <td>EXW</td>\n",
       "      <td>Air</td>\n",
       "      <td>0.0</td>\n",
       "      <td>No</td>\n",
       "      <td>ARV</td>\n",
       "      <td>Adult</td>\n",
       "      <td>...</td>\n",
       "      <td>22925.0</td>\n",
       "      <td>110040.00</td>\n",
       "      <td>4.80</td>\n",
       "      <td>0.08</td>\n",
       "      <td>Hetero Unit III Hyderabad IN</td>\n",
       "      <td>Yes</td>\n",
       "      <td>3723.0</td>\n",
       "      <td>19056.13</td>\n",
       "      <td>expensive</td>\n",
       "      <td>181.57</td>\n",
       "    </tr>\n",
       "    <tr>\n",
       "      <th>3</th>\n",
       "      <td>17648.0</td>\n",
       "      <td>South Africa</td>\n",
       "      <td>PMO - US</td>\n",
       "      <td>Direct Drop</td>\n",
       "      <td>DDP</td>\n",
       "      <td>Ocean</td>\n",
       "      <td>0.0</td>\n",
       "      <td>No</td>\n",
       "      <td>ARV</td>\n",
       "      <td>Adult</td>\n",
       "      <td>...</td>\n",
       "      <td>152535.0</td>\n",
       "      <td>361507.95</td>\n",
       "      <td>2.37</td>\n",
       "      <td>0.04</td>\n",
       "      <td>Aurobindo Unit III, India</td>\n",
       "      <td>Yes</td>\n",
       "      <td>7698.0</td>\n",
       "      <td>11372.23</td>\n",
       "      <td>expensive</td>\n",
       "      <td>779.41</td>\n",
       "    </tr>\n",
       "    <tr>\n",
       "      <th>4</th>\n",
       "      <td>5647.0</td>\n",
       "      <td>Uganda</td>\n",
       "      <td>PMO - US</td>\n",
       "      <td>Direct Drop</td>\n",
       "      <td>EXW</td>\n",
       "      <td>Air</td>\n",
       "      <td>0.0</td>\n",
       "      <td>No</td>\n",
       "      <td>HRDT</td>\n",
       "      <td>HIV test - Ancillary</td>\n",
       "      <td>...</td>\n",
       "      <td>850.0</td>\n",
       "      <td>8.50</td>\n",
       "      <td>0.01</td>\n",
       "      <td>0.00</td>\n",
       "      <td>Inverness Japan</td>\n",
       "      <td>Yes</td>\n",
       "      <td>56.0</td>\n",
       "      <td>360.00</td>\n",
       "      <td>reasonable</td>\n",
       "      <td>0.01</td>\n",
       "    </tr>\n",
       "    <tr>\n",
       "      <th>...</th>\n",
       "      <td>...</td>\n",
       "      <td>...</td>\n",
       "      <td>...</td>\n",
       "      <td>...</td>\n",
       "      <td>...</td>\n",
       "      <td>...</td>\n",
       "      <td>...</td>\n",
       "      <td>...</td>\n",
       "      <td>...</td>\n",
       "      <td>...</td>\n",
       "      <td>...</td>\n",
       "      <td>...</td>\n",
       "      <td>...</td>\n",
       "      <td>...</td>\n",
       "      <td>...</td>\n",
       "      <td>...</td>\n",
       "      <td>...</td>\n",
       "      <td>...</td>\n",
       "      <td>...</td>\n",
       "      <td>...</td>\n",
       "      <td>...</td>\n",
       "    </tr>\n",
       "    <tr>\n",
       "      <th>995</th>\n",
       "      <td>13608.0</td>\n",
       "      <td>Uganda</td>\n",
       "      <td>PMO - US</td>\n",
       "      <td>Direct Drop</td>\n",
       "      <td>DDP</td>\n",
       "      <td>Air</td>\n",
       "      <td>0.0</td>\n",
       "      <td>No</td>\n",
       "      <td>ARV</td>\n",
       "      <td>Adult</td>\n",
       "      <td>...</td>\n",
       "      <td>121.0</td>\n",
       "      <td>9075.00</td>\n",
       "      <td>75.00</td>\n",
       "      <td>0.62</td>\n",
       "      <td>Janssen-Cilag, Latina, IT</td>\n",
       "      <td>Yes</td>\n",
       "      <td>43.0</td>\n",
       "      <td>199.00</td>\n",
       "      <td>reasonable</td>\n",
       "      <td>12.72</td>\n",
       "    </tr>\n",
       "    <tr>\n",
       "      <th>996</th>\n",
       "      <td>80394.0</td>\n",
       "      <td>Congo, DRC</td>\n",
       "      <td>PMO - US</td>\n",
       "      <td>Direct Drop</td>\n",
       "      <td>EXW</td>\n",
       "      <td>Air</td>\n",
       "      <td>0.0</td>\n",
       "      <td>No</td>\n",
       "      <td>HRDT</td>\n",
       "      <td>HIV test</td>\n",
       "      <td>...</td>\n",
       "      <td>292.0</td>\n",
       "      <td>9344.00</td>\n",
       "      <td>32.00</td>\n",
       "      <td>1.60</td>\n",
       "      <td>Trinity Biotech, Plc</td>\n",
       "      <td>Yes</td>\n",
       "      <td>99.0</td>\n",
       "      <td>2162.55</td>\n",
       "      <td>reasonable</td>\n",
       "      <td>13.10</td>\n",
       "    </tr>\n",
       "    <tr>\n",
       "      <th>997</th>\n",
       "      <td>61675.0</td>\n",
       "      <td>Zambia</td>\n",
       "      <td>PMO - US</td>\n",
       "      <td>Direct Drop</td>\n",
       "      <td>EXW</td>\n",
       "      <td>Air</td>\n",
       "      <td>1.0</td>\n",
       "      <td>Yes</td>\n",
       "      <td>HRDT</td>\n",
       "      <td>HIV test</td>\n",
       "      <td>...</td>\n",
       "      <td>2127.0</td>\n",
       "      <td>170160.00</td>\n",
       "      <td>80.00</td>\n",
       "      <td>0.80</td>\n",
       "      <td>Alere Medical Co., Ltd.</td>\n",
       "      <td>Yes</td>\n",
       "      <td>881.0</td>\n",
       "      <td>14019.38</td>\n",
       "      <td>expensive</td>\n",
       "      <td>210.49</td>\n",
       "    </tr>\n",
       "    <tr>\n",
       "      <th>998</th>\n",
       "      <td>39182.0</td>\n",
       "      <td>South Africa</td>\n",
       "      <td>PMO - US</td>\n",
       "      <td>Direct Drop</td>\n",
       "      <td>DDP</td>\n",
       "      <td>Ocean</td>\n",
       "      <td>0.0</td>\n",
       "      <td>No</td>\n",
       "      <td>ARV</td>\n",
       "      <td>Adult</td>\n",
       "      <td>...</td>\n",
       "      <td>191011.0</td>\n",
       "      <td>861459.61</td>\n",
       "      <td>4.51</td>\n",
       "      <td>0.15</td>\n",
       "      <td>Aurobindo Unit III, India</td>\n",
       "      <td>Yes</td>\n",
       "      <td>16234.0</td>\n",
       "      <td>14439.17</td>\n",
       "      <td>expensive</td>\n",
       "      <td>1421.41</td>\n",
       "    </tr>\n",
       "    <tr>\n",
       "      <th>999</th>\n",
       "      <td>5645.0</td>\n",
       "      <td>Botswana</td>\n",
       "      <td>PMO - US</td>\n",
       "      <td>Direct Drop</td>\n",
       "      <td>EXW</td>\n",
       "      <td>Air</td>\n",
       "      <td>0.0</td>\n",
       "      <td>No</td>\n",
       "      <td>HRDT</td>\n",
       "      <td>HIV test</td>\n",
       "      <td>...</td>\n",
       "      <td>200.0</td>\n",
       "      <td>14398.00</td>\n",
       "      <td>71.99</td>\n",
       "      <td>0.72</td>\n",
       "      <td>Inverness Japan</td>\n",
       "      <td>Yes</td>\n",
       "      <td>46.0</td>\n",
       "      <td>1028.18</td>\n",
       "      <td>reasonable</td>\n",
       "      <td>23.04</td>\n",
       "    </tr>\n",
       "  </tbody>\n",
       "</table>\n",
       "<p>1000 rows × 27 columns</p>\n",
       "</div>"
      ],
      "text/plain": [
       "          id       country managed_by  fulfill_via vendor_inco_term  \\\n",
       "0    36203.0       Nigeria   PMO - US  Direct Drop              EXW   \n",
       "1    30998.0      Botswana   PMO - US  Direct Drop              EXW   \n",
       "2    69871.0       Vietnam   PMO - US  Direct Drop              EXW   \n",
       "3    17648.0  South Africa   PMO - US  Direct Drop              DDP   \n",
       "4     5647.0        Uganda   PMO - US  Direct Drop              EXW   \n",
       "..       ...           ...        ...          ...              ...   \n",
       "995  13608.0        Uganda   PMO - US  Direct Drop              DDP   \n",
       "996  80394.0    Congo, DRC   PMO - US  Direct Drop              EXW   \n",
       "997  61675.0        Zambia   PMO - US  Direct Drop              EXW   \n",
       "998  39182.0  South Africa   PMO - US  Direct Drop              DDP   \n",
       "999   5645.0      Botswana   PMO - US  Direct Drop              EXW   \n",
       "\n",
       "    shipment_mode  late_delivery late product_group    sub_classification  \\\n",
       "0             Air            1.0  Yes          HRDT              HIV test   \n",
       "1             Air            0.0   No          HRDT              HIV test   \n",
       "2             Air            0.0   No           ARV                 Adult   \n",
       "3           Ocean            0.0   No           ARV                 Adult   \n",
       "4             Air            0.0   No          HRDT  HIV test - Ancillary   \n",
       "..            ...            ...  ...           ...                   ...   \n",
       "995           Air            0.0   No           ARV                 Adult   \n",
       "996           Air            0.0   No          HRDT              HIV test   \n",
       "997           Air            1.0  Yes          HRDT              HIV test   \n",
       "998         Ocean            0.0   No           ARV                 Adult   \n",
       "999           Air            0.0   No          HRDT              HIV test   \n",
       "\n",
       "     ... line_item_quantity line_item_value pack_price unit_price  \\\n",
       "0    ...             2996.0       266644.00      89.00       0.89   \n",
       "1    ...               25.0          800.00      32.00       1.60   \n",
       "2    ...            22925.0       110040.00       4.80       0.08   \n",
       "3    ...           152535.0       361507.95       2.37       0.04   \n",
       "4    ...              850.0            8.50       0.01       0.00   \n",
       "..   ...                ...             ...        ...        ...   \n",
       "995  ...              121.0         9075.00      75.00       0.62   \n",
       "996  ...              292.0         9344.00      32.00       1.60   \n",
       "997  ...             2127.0       170160.00      80.00       0.80   \n",
       "998  ...           191011.0       861459.61       4.51       0.15   \n",
       "999  ...              200.0        14398.00      71.99       0.72   \n",
       "\n",
       "               manufacturing_site first_line_designation  weight_kilograms  \\\n",
       "0         Alere Medical Co., Ltd.                    Yes            1426.0   \n",
       "1            Trinity Biotech, Plc                    Yes              10.0   \n",
       "2    Hetero Unit III Hyderabad IN                    Yes            3723.0   \n",
       "3       Aurobindo Unit III, India                    Yes            7698.0   \n",
       "4                 Inverness Japan                    Yes              56.0   \n",
       "..                            ...                    ...               ...   \n",
       "995     Janssen-Cilag, Latina, IT                    Yes              43.0   \n",
       "996          Trinity Biotech, Plc                    Yes              99.0   \n",
       "997       Alere Medical Co., Ltd.                    Yes             881.0   \n",
       "998     Aurobindo Unit III, India                    Yes           16234.0   \n",
       "999               Inverness Japan                    Yes              46.0   \n",
       "\n",
       "     freight_cost_usd  freight_cost_groups  line_item_insurance_usd  \n",
       "0            33279.83            expensive                   373.83  \n",
       "1              559.89           reasonable                     1.72  \n",
       "2            19056.13            expensive                   181.57  \n",
       "3            11372.23            expensive                   779.41  \n",
       "4              360.00           reasonable                     0.01  \n",
       "..                ...                  ...                      ...  \n",
       "995            199.00           reasonable                    12.72  \n",
       "996           2162.55           reasonable                    13.10  \n",
       "997          14019.38            expensive                   210.49  \n",
       "998          14439.17            expensive                  1421.41  \n",
       "999           1028.18           reasonable                    23.04  \n",
       "\n",
       "[1000 rows x 27 columns]"
      ]
     },
     "execution_count": 3,
     "metadata": {},
     "output_type": "execute_result"
    }
   ],
   "source": [
    "path = 'late_shipments.feather'\n",
    "\n",
    "late_shipments = feather.read_dataframe(path)\n",
    "\n",
    "late_shipments"
   ]
  },
  {
   "cell_type": "code",
   "execution_count": 4,
   "id": "c1d503a9-d4af-4fa1-b552-13fc3807c74a",
   "metadata": {},
   "outputs": [
    {
     "name": "stdout",
     "output_type": "stream",
     "text": [
      "0.061\n"
     ]
    }
   ],
   "source": [
    "# Calculate the proportion of late shipments\n",
    "late_prop_samp = (late_shipments.late == 'Yes').mean()\n",
    "\n",
    "# Print the results\n",
    "print(late_prop_samp)"
   ]
  },
  {
   "cell_type": "code",
   "execution_count": 5,
   "id": "3e91dbd4-1c74-4fc5-a668-4229e31db54c",
   "metadata": {},
   "outputs": [
    {
     "data": {
      "text/plain": [
       "[0.066, 0.059, 0.052, 0.072, 0.069, 0.066, 0.056, 0.052, 0.057, 0.062]"
      ]
     },
     "execution_count": 5,
     "metadata": {},
     "output_type": "execute_result"
    }
   ],
   "source": [
    "# create 5000 bootstrap distributions\n",
    "\n",
    "orig_late_delivery = late_shipments.late_delivery\n",
    "\n",
    "len_sample = len(orig_late_delivery)\n",
    "n_boostraps = 5000\n",
    "\n",
    "late_shipments_boot_distn = []\n",
    "\n",
    "for _ in range(n_boostraps):\n",
    "    bootstrap_sample = np.random.choice(orig_late_delivery, size=len_sample, replace=True)\n",
    "    bootstrap_mean = np.mean(bootstrap_sample)\n",
    "    late_shipments_boot_distn.append(bootstrap_mean)\n",
    "    \n",
    "late_shipments_boot_distn[:10]"
   ]
  },
  {
   "cell_type": "code",
   "execution_count": 6,
   "id": "ec059050-80a0-4186-9a6d-36f0c6b3683d",
   "metadata": {},
   "outputs": [
    {
     "data": {
      "text/plain": [
       "(array([  1.,   1.,   2.,   4.,  10.,  13.,  10.,  20.,  26.,   0.,  30.,\n",
       "         54.,  64.,  90., 101., 115., 131., 174., 177.,   0., 207., 233.,\n",
       "        224., 264., 240., 261., 256., 230., 261.,   0., 250., 244., 195.,\n",
       "        166., 175., 135., 116., 100.,  94.,   0.,  81.,  48.,  49.,  42.,\n",
       "         34.,  18.,  13.,  10.,  12.,   0.,   7.,   3.,   3.,   1.,   1.,\n",
       "          0.,   1.,   0.,   0.,   3.]),\n",
       " array([0.037 , 0.0379, 0.0388, 0.0397, 0.0406, 0.0415, 0.0424, 0.0433,\n",
       "        0.0442, 0.0451, 0.046 , 0.0469, 0.0478, 0.0487, 0.0496, 0.0505,\n",
       "        0.0514, 0.0523, 0.0532, 0.0541, 0.055 , 0.0559, 0.0568, 0.0577,\n",
       "        0.0586, 0.0595, 0.0604, 0.0613, 0.0622, 0.0631, 0.064 , 0.0649,\n",
       "        0.0658, 0.0667, 0.0676, 0.0685, 0.0694, 0.0703, 0.0712, 0.0721,\n",
       "        0.073 , 0.0739, 0.0748, 0.0757, 0.0766, 0.0775, 0.0784, 0.0793,\n",
       "        0.0802, 0.0811, 0.082 , 0.0829, 0.0838, 0.0847, 0.0856, 0.0865,\n",
       "        0.0874, 0.0883, 0.0892, 0.0901, 0.091 ]),\n",
       " <BarContainer object of 60 artists>)"
      ]
     },
     "execution_count": 6,
     "metadata": {},
     "output_type": "execute_result"
    },
    {
     "data": {
      "image/png": "[encoded data removed]",
      "text/plain": [
       "<Figure size 640x480 with 1 Axes>"
      ]
     },
     "metadata": {},
     "output_type": "display_data"
    }
   ],
   "source": [
    "plt.hist(late_shipments_boot_distn, bins=60)"
   ]
  },
  {
   "cell_type": "code",
   "execution_count": 7,
   "id": "d7ad948e-3656-482c-99a7-09639031025c",
   "metadata": {},
   "outputs": [],
   "source": [
    "# Calculating a z-score\n",
    "# Since variables have arbitrary ranges and units, we need to standardize them. For example, a hypothesis test that gave different answers if the variables were in Euros instead of US dollars would be of little value. Standardization avoids that.\n",
    "\n",
    "# One standardized value of interest in a hypothesis test is called a z-score. To calculate it, you need three numbers: the sample statistic (point estimate), the hypothesized statistic, and the standard error of the statistic (estimated from the bootstrap distribution)."
   ]
  },
  {
   "cell_type": "code",
   "execution_count": 8,
   "id": "e45e4e91-7d53-4209-9b36-64a0c93af1d1",
   "metadata": {},
   "outputs": [
    {
     "data": {
      "text/plain": [
       "0.007565664722715335"
      ]
     },
     "execution_count": 8,
     "metadata": {},
     "output_type": "execute_result"
    }
   ],
   "source": [
    "# Hypothesize that the proportion is 6%\n",
    "late_prop_hyp = 0.06\n",
    "\n",
    "# Calculate the standard error\n",
    "std_error = np.std(late_shipments_boot_distn, ddof=1) # being a standard deviation calculation over a sample, degrees of freedom=1 (we divide by n-1)\n",
    "\n",
    "std_error"
   ]
  },
  {
   "cell_type": "code",
   "execution_count": 9,
   "id": "bf16bc74-d699-4455-92ae-f6b616f6ef0a",
   "metadata": {},
   "outputs": [
    {
     "name": "stdout",
     "output_type": "stream",
     "text": [
      "0.13217609247176612\n"
     ]
    }
   ],
   "source": [
    "# Find z-score of late_prop_samp\n",
    "z_score = (late_prop_samp - late_prop_hyp) / std_error\n",
    "\n",
    "# Print z_score\n",
    "print(z_score)"
   ]
  },
  {
   "cell_type": "code",
   "execution_count": 10,
   "id": "9cc021d8-685a-4a5c-ab69-f033303df7d3",
   "metadata": {},
   "outputs": [],
   "source": [
    "# Calculating p-values\n",
    "# In order to determine whether to choose the null hypothesis or the alternative hypothesis, you need to calculate a p-value from the z-score.\n",
    "\n",
    "# You'll now return to the late shipments dataset and the proportion of late shipments.\n",
    "\n",
    "# The null hypothesis, \n",
    "# , is that the proportion of late shipments is six percent.\n",
    "\n",
    "# The alternative hypothesis, \n",
    "# , is that the proportion of late shipments is greater than six percent."
   ]
  },
  {
   "cell_type": "code",
   "execution_count": 11,
   "id": "4d636c5f-abad-434e-be3f-602b39bbb96d",
   "metadata": {},
   "outputs": [
    {
     "data": {
      "text/plain": [
       "0.44742250531801486"
      ]
     },
     "execution_count": 11,
     "metadata": {},
     "output_type": "execute_result"
    }
   ],
   "source": [
    "# Calculate the p-value\n",
    "\n",
    "p_value = 1 - norm.cdf(z_score) # 1 - CDF , because it's a right tailed test\n",
    "\n",
    "p_value"
   ]
  },
  {
   "cell_type": "code",
   "execution_count": 12,
   "id": "8a97b2bc-6b1b-407c-9ea2-2a1c605d8974",
   "metadata": {},
   "outputs": [],
   "source": [
    "# If you give a single estimate of a sample statistic, you are bound to be wrong by some amount. For example, the hypothesized proportion of late shipments was 6%. Even if evidence suggests the null hypothesis that the proportion of late shipments is equal to this, for any new sample of shipments, the proportion is likely to be a little different due to sampling variability. Consequently, it's a good idea to state a confidence interval. That is, you say, \"we are 95% 'confident' that the proportion of late shipments is between A and B\" (for some value of A and B)."
   ]
  },
  {
   "cell_type": "code",
   "execution_count": 13,
   "id": "58b117d5-e7d5-463f-9812-4223bd2b7019",
   "metadata": {},
   "outputs": [
    {
     "name": "stdout",
     "output_type": "stream",
     "text": [
      "(0.047, 0.076)\n"
     ]
    }
   ],
   "source": [
    "# Calculate 95% confidence interval using quantile method\n",
    "lower = np.quantile(late_shipments_boot_distn, 0.025)\n",
    "upper = np.quantile(late_shipments_boot_distn, 0.975)\n",
    "\n",
    "# Print the confidence interval\n",
    "# When you have a confidence interval width equal to one minus the significance level, if the hypothesized population parameter (0.6) is within the confidence interval, you should fail to reject the null hypothesis.\n",
    "\n",
    "print((lower, upper))"
   ]
  },
  {
   "cell_type": "code",
   "execution_count": 14,
   "id": "f0069624-c4f6-4186-8d3f-44d21f2159fc",
   "metadata": {},
   "outputs": [],
   "source": [
    "# Two sample mean test statistic\n",
    "\n",
    "# The hypothesis test for determining if there is a difference between the means of two populations uses a different type of test statistic to the z-scores you saw in Chapter 1. It's called \"t\", and it can be calculated from three values from each sample using this equation.\n",
    "\n",
    "# While trying to determine why some shipments are late, you may wonder if the weight of the shipments that were on time is less than the weight of the shipments that were late. The late_shipments dataset has been split into a \"yes\" group, where late == \"Yes\" and a \"no\" group where late == \"No\". The weight of the shipment is given in the weight_kilograms variable."
   ]
  },
  {
   "cell_type": "code",
   "execution_count": 15,
   "id": "ff39bd56-1cc2-4069-a4cd-cb20fd5dd22f",
   "metadata": {},
   "outputs": [
    {
     "data": {
      "text/plain": [
       "(2715.6721311475408, 1897.7912673056444)"
      ]
     },
     "execution_count": 15,
     "metadata": {},
     "output_type": "execute_result"
    }
   ],
   "source": [
    "# The sample means for the two groups are available as xbar_no and xbar_yes\n",
    "\n",
    "xbar_yes = late_shipments[late_shipments.late == 'Yes']['weight_kilograms'].mean()\n",
    "xbar_no = late_shipments[late_shipments.late == 'No']['weight_kilograms'].mean()\n",
    "\n",
    "xbar_yes, xbar_no"
   ]
  },
  {
   "cell_type": "code",
   "execution_count": 16,
   "id": "728eb6d3-23ad-49b6-9259-65fbe8647a2f",
   "metadata": {},
   "outputs": [
    {
     "data": {
      "text/plain": [
       "(2544.688210903328, 3154.0395070841696)"
      ]
     },
     "execution_count": 16,
     "metadata": {},
     "output_type": "execute_result"
    }
   ],
   "source": [
    "# The sample standard deviations are s_no and s_yes\n",
    "\n",
    "s_yes = late_shipments[late_shipments.late == 'Yes']['weight_kilograms'].std()\n",
    "s_no = late_shipments[late_shipments.late == 'No']['weight_kilograms'].std()\n",
    "\n",
    "s_yes, s_no"
   ]
  },
  {
   "cell_type": "code",
   "execution_count": 17,
   "id": "ee758cb1-2c0d-4bd3-b213-85a41a488d8b",
   "metadata": {},
   "outputs": [],
   "source": [
    "# The sample sizes are n_no and n_yes"
   ]
  },
  {
   "cell_type": "code",
   "execution_count": 18,
   "id": "55e30101-b437-41d0-b36c-0b61fa33225b",
   "metadata": {},
   "outputs": [
    {
     "data": {
      "text/plain": [
       "(61, 939)"
      ]
     },
     "execution_count": 18,
     "metadata": {},
     "output_type": "execute_result"
    }
   ],
   "source": [
    "n_yes = late_shipments[late_shipments.late == 'Yes'].shape[0]\n",
    "n_no = late_shipments[late_shipments.late == 'No'].shape[0]\n",
    "\n",
    "n_yes, n_no"
   ]
  },
  {
   "cell_type": "code",
   "execution_count": 19,
   "id": "6ae4427e-47a9-4a83-b993-e55a0d7128dd",
   "metadata": {},
   "outputs": [
    {
     "name": "stdout",
     "output_type": "stream",
     "text": [
      "2.3936661778766433\n"
     ]
    }
   ],
   "source": [
    "# Calculate the numerator of the test statistic\n",
    "numerator = xbar_yes - xbar_no\n",
    "\n",
    "# Calculate the denominator of the test statistic\n",
    "denominator = np.sqrt(s_no ** 2 / n_no + s_yes ** 2 / n_yes)\n",
    "\n",
    "# Calculate the test statistic\n",
    "t_stat = numerator/denominator\n",
    "\n",
    "# Print the test statistic\n",
    "print(t_stat)"
   ]
  },
  {
   "cell_type": "code",
   "execution_count": null,
   "id": "4346705f-3bea-469d-ab3a-a761117403dd",
   "metadata": {},
   "outputs": [],
   "source": [
    "# Previously, you calculated the test statistic for the two-sample problem of whether the mean weight of shipments is smaller for shipments that weren't late (late == \"No\") compared to shipments that were late (late == \"Yes\"). In order to make decisions about it, you need to transform the test statistic with a cumulative distribution function to get a p-value.\n",
    "\n",
    "# Recall the hypotheses:\n",
    "\n",
    "# H0: The mean weight of shipments that weren't late is the same as the mean weight of shipments that were late.\n",
    "\n",
    "# HA: The mean weight of shipments that weren't late is less than the mean weight of shipments that were late.\n",
    "\n",
    "# The test statistic, t_stat, is available, as are the samples sizes for each group, n_no and n_yes. Use a significance level of alpha = 0.05.\n"
   ]
  },
  {
   "cell_type": "code",
   "execution_count": 20,
   "id": "3246fa01-a5cd-4aac-a79b-205fe09480f9",
   "metadata": {},
   "outputs": [
    {
     "data": {
      "text/plain": [
       "998"
      ]
     },
     "execution_count": 20,
     "metadata": {},
     "output_type": "execute_result"
    }
   ],
   "source": [
    "# Calculate the degrees of freedom\n",
    "degrees_of_freedom = n_no + n_yes - 2\n",
    "\n",
    "degrees_of_freedom"
   ]
  },
  {
   "cell_type": "code",
   "execution_count": 23,
   "id": "7095be1b-d673-4d04-ae61-98621d3b7cf2",
   "metadata": {},
   "outputs": [
    {
     "name": "stdout",
     "output_type": "stream",
     "text": [
      "0.008432382146249523\n"
     ]
    }
   ],
   "source": [
    "from scipy.stats import t\n",
    "\n",
    "t_stat = - t_stat # just to try another value for the test statistic\n",
    "\n",
    "# Calculate the p-value from the test stat\n",
    "p_value = t.cdf(t_stat, df = degrees_of_freedom)\n",
    "\n",
    "# Print the p_value\n",
    "print(p_value)"
   ]
  },
  {
   "cell_type": "code",
   "execution_count": null,
   "id": "811eb2f5-f646-458c-98d1-ad8ad6a707f6",
   "metadata": {},
   "outputs": [],
   "source": [
    "# Visualizing the difference\n",
    "# Before you start running hypothesis tests, it's a great idea to perform some exploratory data analysis; that is, calculating summary statistics and visualizing distributions.\n",
    "\n",
    "# Here, you'll look at the proportion of county-level votes for the Democratic candidate in 2012 and 2016, sample_dem_data. Since the counties are the same in both years, these samples are paired. The columns containing the samples are dem_percent_12 and dem_percent_16.\n",
    "\n",
    "# dem_votes_potus_12_16 is available as sample_dem_data. pandas and matplotlib.pyplot are loaded with their usual aliases."
   ]
  },
  {
   "cell_type": "code",
   "execution_count": 24,
   "id": "9e0112aa-3a13-4190-91ff-3ce2a8f4cb37",
   "metadata": {},
   "outputs": [
    {
     "data": {
      "text/html": [
       "<div>\n",
       "<style scoped>\n",
       "    .dataframe tbody tr th:only-of-type {\n",
       "        vertical-align: middle;\n",
       "    }\n",
       "\n",
       "    .dataframe tbody tr th {\n",
       "        vertical-align: top;\n",
       "    }\n",
       "\n",
       "    .dataframe thead th {\n",
       "        text-align: right;\n",
       "    }\n",
       "</style>\n",
       "<table border=\"1\" class=\"dataframe\">\n",
       "  <thead>\n",
       "    <tr style=\"text-align: right;\">\n",
       "      <th></th>\n",
       "      <th>state</th>\n",
       "      <th>county</th>\n",
       "      <th>dem_percent_12</th>\n",
       "      <th>dem_percent_16</th>\n",
       "    </tr>\n",
       "  </thead>\n",
       "  <tbody>\n",
       "    <tr>\n",
       "      <th>0</th>\n",
       "      <td>Alabama</td>\n",
       "      <td>Bullock</td>\n",
       "      <td>76.305900</td>\n",
       "      <td>74.946921</td>\n",
       "    </tr>\n",
       "    <tr>\n",
       "      <th>1</th>\n",
       "      <td>Alabama</td>\n",
       "      <td>Chilton</td>\n",
       "      <td>19.453671</td>\n",
       "      <td>15.847352</td>\n",
       "    </tr>\n",
       "    <tr>\n",
       "      <th>2</th>\n",
       "      <td>Alabama</td>\n",
       "      <td>Clay</td>\n",
       "      <td>26.673672</td>\n",
       "      <td>18.674517</td>\n",
       "    </tr>\n",
       "    <tr>\n",
       "      <th>3</th>\n",
       "      <td>Alabama</td>\n",
       "      <td>Cullman</td>\n",
       "      <td>14.661752</td>\n",
       "      <td>10.028252</td>\n",
       "    </tr>\n",
       "    <tr>\n",
       "      <th>4</th>\n",
       "      <td>Alabama</td>\n",
       "      <td>Escambia</td>\n",
       "      <td>36.915731</td>\n",
       "      <td>31.020546</td>\n",
       "    </tr>\n",
       "    <tr>\n",
       "      <th>...</th>\n",
       "      <td>...</td>\n",
       "      <td>...</td>\n",
       "      <td>...</td>\n",
       "      <td>...</td>\n",
       "    </tr>\n",
       "    <tr>\n",
       "      <th>495</th>\n",
       "      <td>Wyoming</td>\n",
       "      <td>Uinta</td>\n",
       "      <td>19.065464</td>\n",
       "      <td>14.191263</td>\n",
       "    </tr>\n",
       "    <tr>\n",
       "      <th>496</th>\n",
       "      <td>Wyoming</td>\n",
       "      <td>Washakie</td>\n",
       "      <td>20.131846</td>\n",
       "      <td>13.948610</td>\n",
       "    </tr>\n",
       "    <tr>\n",
       "      <th>497</th>\n",
       "      <td>Alaska</td>\n",
       "      <td>District 3</td>\n",
       "      <td>33.514582</td>\n",
       "      <td>16.301064</td>\n",
       "    </tr>\n",
       "    <tr>\n",
       "      <th>498</th>\n",
       "      <td>Alaska</td>\n",
       "      <td>District 18</td>\n",
       "      <td>61.284271</td>\n",
       "      <td>52.810051</td>\n",
       "    </tr>\n",
       "    <tr>\n",
       "      <th>499</th>\n",
       "      <td>Alaska</td>\n",
       "      <td>District 24</td>\n",
       "      <td>42.913980</td>\n",
       "      <td>39.405286</td>\n",
       "    </tr>\n",
       "  </tbody>\n",
       "</table>\n",
       "<p>500 rows × 4 columns</p>\n",
       "</div>"
      ],
      "text/plain": [
       "       state       county  dem_percent_12  dem_percent_16\n",
       "0    Alabama      Bullock       76.305900       74.946921\n",
       "1    Alabama      Chilton       19.453671       15.847352\n",
       "2    Alabama         Clay       26.673672       18.674517\n",
       "3    Alabama      Cullman       14.661752       10.028252\n",
       "4    Alabama     Escambia       36.915731       31.020546\n",
       "..       ...          ...             ...             ...\n",
       "495  Wyoming        Uinta       19.065464       14.191263\n",
       "496  Wyoming     Washakie       20.131846       13.948610\n",
       "497   Alaska   District 3       33.514582       16.301064\n",
       "498   Alaska  District 18       61.284271       52.810051\n",
       "499   Alaska  District 24       42.913980       39.405286\n",
       "\n",
       "[500 rows x 4 columns]"
      ]
     },
     "execution_count": 24,
     "metadata": {},
     "output_type": "execute_result"
    }
   ],
   "source": [
    "path = 'dem_votes_potus_12_16.feather'\n",
    "\n",
    "sample_dem_data = feather.read_dataframe(path)\n",
    "\n",
    "sample_dem_data"
   ]
  },
  {
   "cell_type": "code",
   "execution_count": 25,
   "id": "75c1677f-c4b4-44c2-858e-cff355c07bad",
   "metadata": {},
   "outputs": [
    {
     "data": {
      "text/plain": [
       "0       1.358979\n",
       "1       3.606319\n",
       "2       7.999155\n",
       "3       4.633500\n",
       "4       5.895185\n",
       "         ...    \n",
       "495     4.874201\n",
       "496     6.183235\n",
       "497    17.213518\n",
       "498     8.474220\n",
       "499     3.508694\n",
       "Name: diff, Length: 500, dtype: float64"
      ]
     },
     "execution_count": 25,
     "metadata": {},
     "output_type": "execute_result"
    }
   ],
   "source": [
    "# Calculate the differences from 2012 to 2016\n",
    "sample_dem_data['diff'] = sample_dem_data['dem_percent_12'] - sample_dem_data['dem_percent_16']\n",
    "\n",
    "sample_dem_data['diff']"
   ]
  },
  {
   "cell_type": "code",
   "execution_count": 26,
   "id": "03d0f340-1570-4d85-9a82-9905d03ea5f7",
   "metadata": {},
   "outputs": [
    {
     "data": {
      "text/plain": [
       "6.829312660106834"
      ]
     },
     "execution_count": 26,
     "metadata": {},
     "output_type": "execute_result"
    }
   ],
   "source": [
    "# Find the mean of the diff column\n",
    "xbar_diff = sample_dem_data['diff'].mean()\n",
    "\n",
    "xbar_diff"
   ]
  },
  {
   "cell_type": "code",
   "execution_count": 27,
   "id": "5449db20-fce2-47de-b4e8-cd280d732a6b",
   "metadata": {},
   "outputs": [
    {
     "data": {
      "text/plain": [
       "5.040139140132317"
      ]
     },
     "execution_count": 27,
     "metadata": {},
     "output_type": "execute_result"
    }
   ],
   "source": [
    "# Find the standard deviation of the diff column\n",
    "s_diff = sample_dem_data['diff'].std()\n",
    "\n",
    "s_diff"
   ]
  },
  {
   "cell_type": "code",
   "execution_count": 28,
   "id": "d941a98b-92c3-4384-a3df-778b54e4083a",
   "metadata": {},
   "outputs": [
    {
     "data": {
      "image/png": "[encoded data removed]",
      "text/plain": [
       "<Figure size 640x480 with 1 Axes>"
      ]
     },
     "metadata": {},
     "output_type": "display_data"
    }
   ],
   "source": [
    "# Plot a histogram of diff with 20 bins\n",
    "sample_dem_data['diff'].hist(bins=20)\n",
    "plt.show()"
   ]
  },
  {
   "cell_type": "code",
   "execution_count": null,
   "id": "ba288240-9712-44ed-b96a-baac48638e87",
   "metadata": {},
   "outputs": [],
   "source": [
    "# Using ttest()\n",
    "# Manually calculating test statistics and transforming them with a CDF to get a p-value is a lot of effort to compare two sample means. The comparison of two sample means is called a t-test, and the pingouin Python package has a .ttest() method to accomplish it. This method provides some flexibility in how you perform the test.\n",
    "\n",
    "# As in the previous exercise, you'll explore the difference between the proportion of county-level votes for the Democratic candidate in 2012 and 2016 to identify if the difference is significant. The hypotheses are as follows:\n",
    "\n",
    "# : The proportion of democratic votes in 2012 and 2016 were the same. \n",
    "# : The proportion of democratic votes in 2012 and 2016 were different."
   ]
  },
  {
   "cell_type": "code",
   "execution_count": 29,
   "id": "d98349fd-d4d9-4614-b4e6-6489b0b9bf2b",
   "metadata": {},
   "outputs": [
    {
     "ename": "NameError",
     "evalue": "name 'pingouin' is not defined",
     "output_type": "error",
     "traceback": [
      "\u001b[1;31m---------------------------------------------------------------------------\u001b[0m",
      "\u001b[1;31mNameError\u001b[0m                                 Traceback (most recent call last)",
      "Cell \u001b[1;32mIn[29], line 2\u001b[0m\n\u001b[0;32m      1\u001b[0m \u001b[38;5;66;03m# Conduct a t-test on diff\u001b[39;00m\n\u001b[1;32m----> 2\u001b[0m test_results \u001b[38;5;241m=\u001b[39m \u001b[43mpingouin\u001b[49m\u001b[38;5;241m.\u001b[39mttest(x\u001b[38;5;241m=\u001b[39msample_dem_data[\u001b[38;5;124m'\u001b[39m\u001b[38;5;124mdiff\u001b[39m\u001b[38;5;124m'\u001b[39m], \n\u001b[0;32m      3\u001b[0m                               y\u001b[38;5;241m=\u001b[39m\u001b[38;5;241m0\u001b[39m, \n\u001b[0;32m      4\u001b[0m                               alternative\u001b[38;5;241m=\u001b[39m\u001b[38;5;124m\"\u001b[39m\u001b[38;5;124mtwo-sided\u001b[39m\u001b[38;5;124m\"\u001b[39m)\n\u001b[0;32m      8\u001b[0m \u001b[38;5;66;03m# Print the test results\u001b[39;00m\n\u001b[0;32m      9\u001b[0m \u001b[38;5;28mprint\u001b[39m(test_results)\n",
      "\u001b[1;31mNameError\u001b[0m: name 'pingouin' is not defined"
     ]
    }
   ],
   "source": [
    "# Conduct a t-test on diff\n",
    "test_results = pingouin.ttest(x=sample_dem_data['diff'], \n",
    "                              y=0, \n",
    "                              alternative=\"two-sided\")\n",
    "\n",
    "\n",
    "                              \n",
    "# Print the test results\n",
    "print(test_results)"
   ]
  },
  {
   "cell_type": "code",
   "execution_count": null,
   "id": "1056cbb8-3a0f-40e5-b76d-78c581209266",
   "metadata": {},
   "outputs": [],
   "source": []
  },
  {
   "cell_type": "code",
   "execution_count": null,
   "id": "70d68582-104b-40cf-9d36-d063e28796de",
   "metadata": {},
   "outputs": [],
   "source": []
  },
  {
   "cell_type": "code",
   "execution_count": null,
   "id": "59340f29-9dd4-48bf-bdba-93320d03e862",
   "metadata": {},
   "outputs": [],
   "source": []
  },
  {
   "cell_type": "code",
   "execution_count": null,
   "id": "3d52ec11-12b4-4fc0-bec3-df95dc5ab309",
   "metadata": {},
   "outputs": [],
   "source": []
  },
  {
   "cell_type": "code",
   "execution_count": null,
   "id": "3e1bb7d9-de4d-464f-9455-6e33d3b10c17",
   "metadata": {},
   "outputs": [],
   "source": []
  },
  {
   "cell_type": "code",
   "execution_count": null,
   "id": "ae3b0400-d1fa-423c-8814-0b452a7f4071",
   "metadata": {},
   "outputs": [],
   "source": []
  },
  {
   "cell_type": "code",
   "execution_count": null,
   "id": "1f26e320-b8f4-48a5-9dc4-16236cf3093d",
   "metadata": {},
   "outputs": [],
   "source": []
  },
  {
   "cell_type": "code",
   "execution_count": null,
   "id": "815a22ad-58a2-4896-a73d-d37e56aa91c6",
   "metadata": {},
   "outputs": [],
   "source": []
  },
  {
   "cell_type": "code",
   "execution_count": null,
   "id": "bdbcc75b-b1dd-41d1-b1a5-a1f014330499",
   "metadata": {},
   "outputs": [],
   "source": []
  },
  {
   "cell_type": "code",
   "execution_count": null,
   "id": "66528a4e-bac8-40ff-b7c2-1b58fbfed20c",
   "metadata": {},
   "outputs": [],
   "source": []
  },
  {
   "cell_type": "code",
   "execution_count": null,
   "id": "79656504-fa3c-46e2-9bd8-1558019fa5d8",
   "metadata": {},
   "outputs": [],
   "source": []
  },
  {
   "cell_type": "code",
   "execution_count": null,
   "id": "6c55c5b8-b3ac-4e03-8093-00d90770da17",
   "metadata": {},
   "outputs": [],
   "source": []
  },
  {
   "cell_type": "code",
   "execution_count": null,
   "id": "05cc6ebf-1188-4e9a-940e-08662dba471b",
   "metadata": {},
   "outputs": [],
   "source": []
  },
  {
   "cell_type": "code",
   "execution_count": null,
   "id": "2bc4d2e9-bf24-4c9f-8966-5d56cf428ab5",
   "metadata": {},
   "outputs": [],
   "source": []
  },
  {
   "cell_type": "code",
   "execution_count": null,
   "id": "6210a723-072d-4377-8fa3-e555dcf87c7f",
   "metadata": {},
   "outputs": [],
   "source": []
  },
  {
   "cell_type": "code",
   "execution_count": null,
   "id": "0df1cfc7-e02a-42cb-acfe-f1e2d1cbe2b7",
   "metadata": {},
   "outputs": [],
   "source": []
  },
  {
   "cell_type": "code",
   "execution_count": null,
   "id": "5082d2d5-18fd-4202-b2bc-7486c0cdce64",
   "metadata": {},
   "outputs": [],
   "source": []
  },
  {
   "cell_type": "code",
   "execution_count": null,
   "id": "4e61fb3d-c218-4dd9-bdea-191123c72082",
   "metadata": {},
   "outputs": [],
   "source": []
  },
  {
   "cell_type": "code",
   "execution_count": null,
   "id": "85fa856f-c668-48a9-81f2-367722ce8495",
   "metadata": {},
   "outputs": [],
   "source": []
  }
 ],
 "metadata": {
  "kernelspec": {
   "display_name": "Py309",
   "language": "python",
   "name": "py309"
  },
  "language_info": {
   "codemirror_mode": {
    "name": "ipython",
    "version": 3
   },
   "file_extension": ".py",
   "mimetype": "text/x-python",
   "name": "python",
   "nbconvert_exporter": "python",
   "pygments_lexer": "ipython3",
   "version": "3.9.19"
  }
 },
 "nbformat": 4,
 "nbformat_minor": 5
}
