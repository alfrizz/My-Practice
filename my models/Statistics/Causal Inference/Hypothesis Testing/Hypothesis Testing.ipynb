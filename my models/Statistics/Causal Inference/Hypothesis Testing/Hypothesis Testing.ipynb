{
 "cells": [
  {
   "cell_type": "code",
   "execution_count": 126,
   "id": "1d5f4843-e29e-4b62-98d5-5c255faf6556",
   "metadata": {},
   "outputs": [],
   "source": [
    "import feather\n",
    "import numpy as np\n",
    "import pandas as pd\n",
    "import matplotlib.pyplot as plt\n",
    "from scipy.stats import norm \n",
    "import pingouin \n",
    "import seaborn as sns\n",
    "from statsmodels.stats.proportion import proportions_ztest\n",
    "from scipy.stats import chisquare\n"
   ]
  },
  {
   "cell_type": "code",
   "execution_count": 2,
   "id": "2ab1ec94-eecc-43bc-8c7a-0943a9bfeb00",
   "metadata": {},
   "outputs": [],
   "source": [
    "# Calculating the sample mean\n",
    "# The late_shipments dataset contains supply chain data on the delivery of medical supplies. Each row represents one delivery of a part. The late columns denotes whether or not the part was delivered late. A value of \"Yes\" means that the part was delivered late, and a value of \"No\" means the part was delivered on time.\n",
    "\n",
    "# You'll begin your analysis by calculating a point estimate (or sample statistic), namely the proportion of late shipments."
   ]
  },
  {
   "cell_type": "code",
   "execution_count": 3,
   "id": "783e5d97-0b60-4295-91b4-4bf917239274",
   "metadata": {},
   "outputs": [
    {
     "data": {
      "text/html": [
       "<div>\n",
       "<style scoped>\n",
       "    .dataframe tbody tr th:only-of-type {\n",
       "        vertical-align: middle;\n",
       "    }\n",
       "\n",
       "    .dataframe tbody tr th {\n",
       "        vertical-align: top;\n",
       "    }\n",
       "\n",
       "    .dataframe thead th {\n",
       "        text-align: right;\n",
       "    }\n",
       "</style>\n",
       "<table border=\"1\" class=\"dataframe\">\n",
       "  <thead>\n",
       "    <tr style=\"text-align: right;\">\n",
       "      <th></th>\n",
       "      <th>id</th>\n",
       "      <th>country</th>\n",
       "      <th>managed_by</th>\n",
       "      <th>fulfill_via</th>\n",
       "      <th>vendor_inco_term</th>\n",
       "      <th>shipment_mode</th>\n",
       "      <th>late_delivery</th>\n",
       "      <th>late</th>\n",
       "      <th>product_group</th>\n",
       "      <th>sub_classification</th>\n",
       "      <th>...</th>\n",
       "      <th>line_item_quantity</th>\n",
       "      <th>line_item_value</th>\n",
       "      <th>pack_price</th>\n",
       "      <th>unit_price</th>\n",
       "      <th>manufacturing_site</th>\n",
       "      <th>first_line_designation</th>\n",
       "      <th>weight_kilograms</th>\n",
       "      <th>freight_cost_usd</th>\n",
       "      <th>freight_cost_groups</th>\n",
       "      <th>line_item_insurance_usd</th>\n",
       "    </tr>\n",
       "  </thead>\n",
       "  <tbody>\n",
       "    <tr>\n",
       "      <th>0</th>\n",
       "      <td>36203.0</td>\n",
       "      <td>Nigeria</td>\n",
       "      <td>PMO - US</td>\n",
       "      <td>Direct Drop</td>\n",
       "      <td>EXW</td>\n",
       "      <td>Air</td>\n",
       "      <td>1.0</td>\n",
       "      <td>Yes</td>\n",
       "      <td>HRDT</td>\n",
       "      <td>HIV test</td>\n",
       "      <td>...</td>\n",
       "      <td>2996.0</td>\n",
       "      <td>266644.00</td>\n",
       "      <td>89.00</td>\n",
       "      <td>0.89</td>\n",
       "      <td>Alere Medical Co., Ltd.</td>\n",
       "      <td>Yes</td>\n",
       "      <td>1426.0</td>\n",
       "      <td>33279.83</td>\n",
       "      <td>expensive</td>\n",
       "      <td>373.83</td>\n",
       "    </tr>\n",
       "    <tr>\n",
       "      <th>1</th>\n",
       "      <td>30998.0</td>\n",
       "      <td>Botswana</td>\n",
       "      <td>PMO - US</td>\n",
       "      <td>Direct Drop</td>\n",
       "      <td>EXW</td>\n",
       "      <td>Air</td>\n",
       "      <td>0.0</td>\n",
       "      <td>No</td>\n",
       "      <td>HRDT</td>\n",
       "      <td>HIV test</td>\n",
       "      <td>...</td>\n",
       "      <td>25.0</td>\n",
       "      <td>800.00</td>\n",
       "      <td>32.00</td>\n",
       "      <td>1.60</td>\n",
       "      <td>Trinity Biotech, Plc</td>\n",
       "      <td>Yes</td>\n",
       "      <td>10.0</td>\n",
       "      <td>559.89</td>\n",
       "      <td>reasonable</td>\n",
       "      <td>1.72</td>\n",
       "    </tr>\n",
       "    <tr>\n",
       "      <th>2</th>\n",
       "      <td>69871.0</td>\n",
       "      <td>Vietnam</td>\n",
       "      <td>PMO - US</td>\n",
       "      <td>Direct Drop</td>\n",
       "      <td>EXW</td>\n",
       "      <td>Air</td>\n",
       "      <td>0.0</td>\n",
       "      <td>No</td>\n",
       "      <td>ARV</td>\n",
       "      <td>Adult</td>\n",
       "      <td>...</td>\n",
       "      <td>22925.0</td>\n",
       "      <td>110040.00</td>\n",
       "      <td>4.80</td>\n",
       "      <td>0.08</td>\n",
       "      <td>Hetero Unit III Hyderabad IN</td>\n",
       "      <td>Yes</td>\n",
       "      <td>3723.0</td>\n",
       "      <td>19056.13</td>\n",
       "      <td>expensive</td>\n",
       "      <td>181.57</td>\n",
       "    </tr>\n",
       "    <tr>\n",
       "      <th>3</th>\n",
       "      <td>17648.0</td>\n",
       "      <td>South Africa</td>\n",
       "      <td>PMO - US</td>\n",
       "      <td>Direct Drop</td>\n",
       "      <td>DDP</td>\n",
       "      <td>Ocean</td>\n",
       "      <td>0.0</td>\n",
       "      <td>No</td>\n",
       "      <td>ARV</td>\n",
       "      <td>Adult</td>\n",
       "      <td>...</td>\n",
       "      <td>152535.0</td>\n",
       "      <td>361507.95</td>\n",
       "      <td>2.37</td>\n",
       "      <td>0.04</td>\n",
       "      <td>Aurobindo Unit III, India</td>\n",
       "      <td>Yes</td>\n",
       "      <td>7698.0</td>\n",
       "      <td>11372.23</td>\n",
       "      <td>expensive</td>\n",
       "      <td>779.41</td>\n",
       "    </tr>\n",
       "    <tr>\n",
       "      <th>4</th>\n",
       "      <td>5647.0</td>\n",
       "      <td>Uganda</td>\n",
       "      <td>PMO - US</td>\n",
       "      <td>Direct Drop</td>\n",
       "      <td>EXW</td>\n",
       "      <td>Air</td>\n",
       "      <td>0.0</td>\n",
       "      <td>No</td>\n",
       "      <td>HRDT</td>\n",
       "      <td>HIV test - Ancillary</td>\n",
       "      <td>...</td>\n",
       "      <td>850.0</td>\n",
       "      <td>8.50</td>\n",
       "      <td>0.01</td>\n",
       "      <td>0.00</td>\n",
       "      <td>Inverness Japan</td>\n",
       "      <td>Yes</td>\n",
       "      <td>56.0</td>\n",
       "      <td>360.00</td>\n",
       "      <td>reasonable</td>\n",
       "      <td>0.01</td>\n",
       "    </tr>\n",
       "    <tr>\n",
       "      <th>...</th>\n",
       "      <td>...</td>\n",
       "      <td>...</td>\n",
       "      <td>...</td>\n",
       "      <td>...</td>\n",
       "      <td>...</td>\n",
       "      <td>...</td>\n",
       "      <td>...</td>\n",
       "      <td>...</td>\n",
       "      <td>...</td>\n",
       "      <td>...</td>\n",
       "      <td>...</td>\n",
       "      <td>...</td>\n",
       "      <td>...</td>\n",
       "      <td>...</td>\n",
       "      <td>...</td>\n",
       "      <td>...</td>\n",
       "      <td>...</td>\n",
       "      <td>...</td>\n",
       "      <td>...</td>\n",
       "      <td>...</td>\n",
       "      <td>...</td>\n",
       "    </tr>\n",
       "    <tr>\n",
       "      <th>995</th>\n",
       "      <td>13608.0</td>\n",
       "      <td>Uganda</td>\n",
       "      <td>PMO - US</td>\n",
       "      <td>Direct Drop</td>\n",
       "      <td>DDP</td>\n",
       "      <td>Air</td>\n",
       "      <td>0.0</td>\n",
       "      <td>No</td>\n",
       "      <td>ARV</td>\n",
       "      <td>Adult</td>\n",
       "      <td>...</td>\n",
       "      <td>121.0</td>\n",
       "      <td>9075.00</td>\n",
       "      <td>75.00</td>\n",
       "      <td>0.62</td>\n",
       "      <td>Janssen-Cilag, Latina, IT</td>\n",
       "      <td>Yes</td>\n",
       "      <td>43.0</td>\n",
       "      <td>199.00</td>\n",
       "      <td>reasonable</td>\n",
       "      <td>12.72</td>\n",
       "    </tr>\n",
       "    <tr>\n",
       "      <th>996</th>\n",
       "      <td>80394.0</td>\n",
       "      <td>Congo, DRC</td>\n",
       "      <td>PMO - US</td>\n",
       "      <td>Direct Drop</td>\n",
       "      <td>EXW</td>\n",
       "      <td>Air</td>\n",
       "      <td>0.0</td>\n",
       "      <td>No</td>\n",
       "      <td>HRDT</td>\n",
       "      <td>HIV test</td>\n",
       "      <td>...</td>\n",
       "      <td>292.0</td>\n",
       "      <td>9344.00</td>\n",
       "      <td>32.00</td>\n",
       "      <td>1.60</td>\n",
       "      <td>Trinity Biotech, Plc</td>\n",
       "      <td>Yes</td>\n",
       "      <td>99.0</td>\n",
       "      <td>2162.55</td>\n",
       "      <td>reasonable</td>\n",
       "      <td>13.10</td>\n",
       "    </tr>\n",
       "    <tr>\n",
       "      <th>997</th>\n",
       "      <td>61675.0</td>\n",
       "      <td>Zambia</td>\n",
       "      <td>PMO - US</td>\n",
       "      <td>Direct Drop</td>\n",
       "      <td>EXW</td>\n",
       "      <td>Air</td>\n",
       "      <td>1.0</td>\n",
       "      <td>Yes</td>\n",
       "      <td>HRDT</td>\n",
       "      <td>HIV test</td>\n",
       "      <td>...</td>\n",
       "      <td>2127.0</td>\n",
       "      <td>170160.00</td>\n",
       "      <td>80.00</td>\n",
       "      <td>0.80</td>\n",
       "      <td>Alere Medical Co., Ltd.</td>\n",
       "      <td>Yes</td>\n",
       "      <td>881.0</td>\n",
       "      <td>14019.38</td>\n",
       "      <td>expensive</td>\n",
       "      <td>210.49</td>\n",
       "    </tr>\n",
       "    <tr>\n",
       "      <th>998</th>\n",
       "      <td>39182.0</td>\n",
       "      <td>South Africa</td>\n",
       "      <td>PMO - US</td>\n",
       "      <td>Direct Drop</td>\n",
       "      <td>DDP</td>\n",
       "      <td>Ocean</td>\n",
       "      <td>0.0</td>\n",
       "      <td>No</td>\n",
       "      <td>ARV</td>\n",
       "      <td>Adult</td>\n",
       "      <td>...</td>\n",
       "      <td>191011.0</td>\n",
       "      <td>861459.61</td>\n",
       "      <td>4.51</td>\n",
       "      <td>0.15</td>\n",
       "      <td>Aurobindo Unit III, India</td>\n",
       "      <td>Yes</td>\n",
       "      <td>16234.0</td>\n",
       "      <td>14439.17</td>\n",
       "      <td>expensive</td>\n",
       "      <td>1421.41</td>\n",
       "    </tr>\n",
       "    <tr>\n",
       "      <th>999</th>\n",
       "      <td>5645.0</td>\n",
       "      <td>Botswana</td>\n",
       "      <td>PMO - US</td>\n",
       "      <td>Direct Drop</td>\n",
       "      <td>EXW</td>\n",
       "      <td>Air</td>\n",
       "      <td>0.0</td>\n",
       "      <td>No</td>\n",
       "      <td>HRDT</td>\n",
       "      <td>HIV test</td>\n",
       "      <td>...</td>\n",
       "      <td>200.0</td>\n",
       "      <td>14398.00</td>\n",
       "      <td>71.99</td>\n",
       "      <td>0.72</td>\n",
       "      <td>Inverness Japan</td>\n",
       "      <td>Yes</td>\n",
       "      <td>46.0</td>\n",
       "      <td>1028.18</td>\n",
       "      <td>reasonable</td>\n",
       "      <td>23.04</td>\n",
       "    </tr>\n",
       "  </tbody>\n",
       "</table>\n",
       "<p>1000 rows × 27 columns</p>\n",
       "</div>"
      ],
      "text/plain": [
       "          id       country managed_by  fulfill_via vendor_inco_term  \\\n",
       "0    36203.0       Nigeria   PMO - US  Direct Drop              EXW   \n",
       "1    30998.0      Botswana   PMO - US  Direct Drop              EXW   \n",
       "2    69871.0       Vietnam   PMO - US  Direct Drop              EXW   \n",
       "3    17648.0  South Africa   PMO - US  Direct Drop              DDP   \n",
       "4     5647.0        Uganda   PMO - US  Direct Drop              EXW   \n",
       "..       ...           ...        ...          ...              ...   \n",
       "995  13608.0        Uganda   PMO - US  Direct Drop              DDP   \n",
       "996  80394.0    Congo, DRC   PMO - US  Direct Drop              EXW   \n",
       "997  61675.0        Zambia   PMO - US  Direct Drop              EXW   \n",
       "998  39182.0  South Africa   PMO - US  Direct Drop              DDP   \n",
       "999   5645.0      Botswana   PMO - US  Direct Drop              EXW   \n",
       "\n",
       "    shipment_mode  late_delivery late product_group    sub_classification  \\\n",
       "0             Air            1.0  Yes          HRDT              HIV test   \n",
       "1             Air            0.0   No          HRDT              HIV test   \n",
       "2             Air            0.0   No           ARV                 Adult   \n",
       "3           Ocean            0.0   No           ARV                 Adult   \n",
       "4             Air            0.0   No          HRDT  HIV test - Ancillary   \n",
       "..            ...            ...  ...           ...                   ...   \n",
       "995           Air            0.0   No           ARV                 Adult   \n",
       "996           Air            0.0   No          HRDT              HIV test   \n",
       "997           Air            1.0  Yes          HRDT              HIV test   \n",
       "998         Ocean            0.0   No           ARV                 Adult   \n",
       "999           Air            0.0   No          HRDT              HIV test   \n",
       "\n",
       "     ... line_item_quantity line_item_value pack_price unit_price  \\\n",
       "0    ...             2996.0       266644.00      89.00       0.89   \n",
       "1    ...               25.0          800.00      32.00       1.60   \n",
       "2    ...            22925.0       110040.00       4.80       0.08   \n",
       "3    ...           152535.0       361507.95       2.37       0.04   \n",
       "4    ...              850.0            8.50       0.01       0.00   \n",
       "..   ...                ...             ...        ...        ...   \n",
       "995  ...              121.0         9075.00      75.00       0.62   \n",
       "996  ...              292.0         9344.00      32.00       1.60   \n",
       "997  ...             2127.0       170160.00      80.00       0.80   \n",
       "998  ...           191011.0       861459.61       4.51       0.15   \n",
       "999  ...              200.0        14398.00      71.99       0.72   \n",
       "\n",
       "               manufacturing_site first_line_designation  weight_kilograms  \\\n",
       "0         Alere Medical Co., Ltd.                    Yes            1426.0   \n",
       "1            Trinity Biotech, Plc                    Yes              10.0   \n",
       "2    Hetero Unit III Hyderabad IN                    Yes            3723.0   \n",
       "3       Aurobindo Unit III, India                    Yes            7698.0   \n",
       "4                 Inverness Japan                    Yes              56.0   \n",
       "..                            ...                    ...               ...   \n",
       "995     Janssen-Cilag, Latina, IT                    Yes              43.0   \n",
       "996          Trinity Biotech, Plc                    Yes              99.0   \n",
       "997       Alere Medical Co., Ltd.                    Yes             881.0   \n",
       "998     Aurobindo Unit III, India                    Yes           16234.0   \n",
       "999               Inverness Japan                    Yes              46.0   \n",
       "\n",
       "     freight_cost_usd  freight_cost_groups  line_item_insurance_usd  \n",
       "0            33279.83            expensive                   373.83  \n",
       "1              559.89           reasonable                     1.72  \n",
       "2            19056.13            expensive                   181.57  \n",
       "3            11372.23            expensive                   779.41  \n",
       "4              360.00           reasonable                     0.01  \n",
       "..                ...                  ...                      ...  \n",
       "995            199.00           reasonable                    12.72  \n",
       "996           2162.55           reasonable                    13.10  \n",
       "997          14019.38            expensive                   210.49  \n",
       "998          14439.17            expensive                  1421.41  \n",
       "999           1028.18           reasonable                    23.04  \n",
       "\n",
       "[1000 rows x 27 columns]"
      ]
     },
     "execution_count": 3,
     "metadata": {},
     "output_type": "execute_result"
    }
   ],
   "source": [
    "path = 'late_shipments.feather'\n",
    "\n",
    "late_shipments = feather.read_dataframe(path)\n",
    "\n",
    "late_shipments"
   ]
  },
  {
   "cell_type": "code",
   "execution_count": 4,
   "id": "c1d503a9-d4af-4fa1-b552-13fc3807c74a",
   "metadata": {},
   "outputs": [
    {
     "name": "stdout",
     "output_type": "stream",
     "text": [
      "0.061\n"
     ]
    }
   ],
   "source": [
    "# Calculate the proportion of late shipments\n",
    "late_prop_samp = (late_shipments.late == 'Yes').mean()\n",
    "\n",
    "# Print the results\n",
    "print(late_prop_samp)"
   ]
  },
  {
   "cell_type": "code",
   "execution_count": 5,
   "id": "3e91dbd4-1c74-4fc5-a668-4229e31db54c",
   "metadata": {},
   "outputs": [
    {
     "data": {
      "text/plain": [
       "[0.056, 0.065, 0.051, 0.059, 0.055, 0.062, 0.066, 0.071, 0.065, 0.058]"
      ]
     },
     "execution_count": 5,
     "metadata": {},
     "output_type": "execute_result"
    }
   ],
   "source": [
    "# create 5000 bootstrap distributions\n",
    "\n",
    "orig_late_delivery = late_shipments.late_delivery\n",
    "\n",
    "len_sample = len(orig_late_delivery)\n",
    "n_boostraps = 5000\n",
    "\n",
    "late_shipments_boot_distn = []\n",
    "\n",
    "for _ in range(n_boostraps):\n",
    "    bootstrap_sample = np.random.choice(orig_late_delivery, size=len_sample, replace=True)\n",
    "    bootstrap_mean = np.mean(bootstrap_sample)\n",
    "    late_shipments_boot_distn.append(bootstrap_mean)\n",
    "    \n",
    "late_shipments_boot_distn[:10]"
   ]
  },
  {
   "cell_type": "code",
   "execution_count": 6,
   "id": "ec059050-80a0-4186-9a6d-36f0c6b3683d",
   "metadata": {},
   "outputs": [
    {
     "data": {
      "text/plain": [
       "(array([  2.,   5.,   6.,   6.,   6.,  22.,  23.,  30.,  42.,  52.,  62.,\n",
       "         78.,  89., 103., 127., 141., 176., 204., 244., 230., 241., 244.,\n",
       "        264., 262., 254., 274., 232., 210., 210.,   0., 202., 163., 144.,\n",
       "        126., 105.,  88.,  71.,  55.,  51.,  45.,  34.,  15.,  23.,   8.,\n",
       "          8.,   6.,   1.,   7.,   1.,   3.,   1.,   0.,   2.,   0.,   0.,\n",
       "          0.,   1.,   0.,   0.,   1.]),\n",
       " array([0.038     , 0.03896667, 0.03993333, 0.0409    , 0.04186667,\n",
       "        0.04283333, 0.0438    , 0.04476667, 0.04573333, 0.0467    ,\n",
       "        0.04766667, 0.04863333, 0.0496    , 0.05056667, 0.05153333,\n",
       "        0.0525    , 0.05346667, 0.05443333, 0.0554    , 0.05636667,\n",
       "        0.05733333, 0.0583    , 0.05926667, 0.06023333, 0.0612    ,\n",
       "        0.06216667, 0.06313333, 0.0641    , 0.06506667, 0.06603333,\n",
       "        0.067     , 0.06796667, 0.06893333, 0.0699    , 0.07086667,\n",
       "        0.07183333, 0.0728    , 0.07376667, 0.07473333, 0.0757    ,\n",
       "        0.07666667, 0.07763333, 0.0786    , 0.07956667, 0.08053333,\n",
       "        0.0815    , 0.08246667, 0.08343333, 0.0844    , 0.08536667,\n",
       "        0.08633333, 0.0873    , 0.08826667, 0.08923333, 0.0902    ,\n",
       "        0.09116667, 0.09213333, 0.0931    , 0.09406667, 0.09503333,\n",
       "        0.096     ]),\n",
       " <BarContainer object of 60 artists>)"
      ]
     },
     "execution_count": 6,
     "metadata": {},
     "output_type": "execute_result"
    },
    {
     "data": {
      "image/png": "[encoded data removed]",
      "text/plain": [
       "<Figure size 640x480 with 1 Axes>"
      ]
     },
     "metadata": {},
     "output_type": "display_data"
    }
   ],
   "source": [
    "plt.hist(late_shipments_boot_distn, bins=60)"
   ]
  },
  {
   "cell_type": "code",
   "execution_count": 7,
   "id": "d7ad948e-3656-482c-99a7-09639031025c",
   "metadata": {},
   "outputs": [],
   "source": [
    "# Calculating a z-score\n",
    "# Since variables have arbitrary ranges and units, we need to standardize them. For example, a hypothesis test that gave different answers if the variables were in Euros instead of US dollars would be of little value. Standardization avoids that.\n",
    "\n",
    "# One standardized value of interest in a hypothesis test is called a z-score. To calculate it, you need three numbers: the sample statistic (point estimate), the hypothesized statistic, and the standard error of the statistic (estimated from the bootstrap distribution)."
   ]
  },
  {
   "cell_type": "code",
   "execution_count": 8,
   "id": "e45e4e91-7d53-4209-9b36-64a0c93af1d1",
   "metadata": {},
   "outputs": [
    {
     "data": {
      "text/plain": [
       "0.00762837639247547"
      ]
     },
     "execution_count": 8,
     "metadata": {},
     "output_type": "execute_result"
    }
   ],
   "source": [
    "# Hypothesize that the proportion is 6%\n",
    "late_prop_hyp = 0.06\n",
    "\n",
    "# Calculate the standard error\n",
    "std_error = np.std(late_shipments_boot_distn, ddof=1) # being a standard deviation calculation over a sample, degrees of freedom=1 (we divide by n-1)\n",
    "\n",
    "std_error"
   ]
  },
  {
   "cell_type": "code",
   "execution_count": 9,
   "id": "bf16bc74-d699-4455-92ae-f6b616f6ef0a",
   "metadata": {},
   "outputs": [
    {
     "name": "stdout",
     "output_type": "stream",
     "text": [
      "0.13108949382549973\n"
     ]
    }
   ],
   "source": [
    "# Find z-score of late_prop_samp\n",
    "z_score = (late_prop_samp - late_prop_hyp) / std_error\n",
    "\n",
    "# Print z_score\n",
    "print(z_score)"
   ]
  },
  {
   "cell_type": "code",
   "execution_count": 10,
   "id": "9cc021d8-685a-4a5c-ab69-f033303df7d3",
   "metadata": {},
   "outputs": [],
   "source": [
    "# Calculating p-values\n",
    "# In order to determine whether to choose the null hypothesis or the alternative hypothesis, you need to calculate a p-value from the z-score.\n",
    "\n",
    "# You'll now return to the late shipments dataset and the proportion of late shipments.\n",
    "\n",
    "# The null hypothesis, \n",
    "# , is that the proportion of late shipments is six percent.\n",
    "\n",
    "# The alternative hypothesis, \n",
    "# , is that the proportion of late shipments is greater than six percent."
   ]
  },
  {
   "cell_type": "code",
   "execution_count": 11,
   "id": "4d636c5f-abad-434e-be3f-602b39bbb96d",
   "metadata": {},
   "outputs": [
    {
     "data": {
      "text/plain": [
       "0.4478522560771028"
      ]
     },
     "execution_count": 11,
     "metadata": {},
     "output_type": "execute_result"
    }
   ],
   "source": [
    "# Calculate the p-value\n",
    "\n",
    "p_value = 1 - norm.cdf(z_score) # 1 - CDF , because it's a right tailed test\n",
    "\n",
    "p_value"
   ]
  },
  {
   "cell_type": "code",
   "execution_count": 12,
   "id": "8a97b2bc-6b1b-407c-9ea2-2a1c605d8974",
   "metadata": {},
   "outputs": [],
   "source": [
    "# If you give a single estimate of a sample statistic, you are bound to be wrong by some amount. For example, the hypothesized proportion of late shipments was 6%. Even if evidence suggests the null hypothesis that the proportion of late shipments is equal to this, for any new sample of shipments, the proportion is likely to be a little different due to sampling variability. Consequently, it's a good idea to state a confidence interval. That is, you say, \"we are 95% 'confident' that the proportion of late shipments is between A and B\" (for some value of A and B)."
   ]
  },
  {
   "cell_type": "code",
   "execution_count": 13,
   "id": "58b117d5-e7d5-463f-9812-4223bd2b7019",
   "metadata": {},
   "outputs": [
    {
     "name": "stdout",
     "output_type": "stream",
     "text": [
      "(0.046, 0.076)\n"
     ]
    }
   ],
   "source": [
    "# Calculate 95% confidence interval using quantile method\n",
    "lower = np.quantile(late_shipments_boot_distn, 0.025)\n",
    "upper = np.quantile(late_shipments_boot_distn, 0.975)\n",
    "\n",
    "# Print the confidence interval\n",
    "# When you have a confidence interval width equal to one minus the significance level, if the hypothesized population parameter (0.6) is within the confidence interval, you should fail to reject the null hypothesis.\n",
    "\n",
    "print((lower, upper))"
   ]
  },
  {
   "cell_type": "code",
   "execution_count": 14,
   "id": "f0069624-c4f6-4186-8d3f-44d21f2159fc",
   "metadata": {},
   "outputs": [],
   "source": [
    "# Two sample mean test statistic\n",
    "\n",
    "# The hypothesis test for determining if there is a difference between the means of two populations uses a different type of test statistic to the z-scores you saw in Chapter 1. It's called \"t\", and it can be calculated from three values from each sample using this equation.\n",
    "\n",
    "# While trying to determine why some shipments are late, you may wonder if the weight of the shipments that were on time is less than the weight of the shipments that were late. The late_shipments dataset has been split into a \"yes\" group, where late == \"Yes\" and a \"no\" group where late == \"No\". The weight of the shipment is given in the weight_kilograms variable."
   ]
  },
  {
   "cell_type": "code",
   "execution_count": 15,
   "id": "ff39bd56-1cc2-4069-a4cd-cb20fd5dd22f",
   "metadata": {},
   "outputs": [
    {
     "data": {
      "text/plain": [
       "(2715.6721311475408, 1897.7912673056444)"
      ]
     },
     "execution_count": 15,
     "metadata": {},
     "output_type": "execute_result"
    }
   ],
   "source": [
    "# The sample means for the two groups are available as xbar_no and xbar_yes\n",
    "\n",
    "xbar_yes = late_shipments[late_shipments.late == 'Yes']['weight_kilograms'].mean()\n",
    "xbar_no = late_shipments[late_shipments.late == 'No']['weight_kilograms'].mean()\n",
    "\n",
    "xbar_yes, xbar_no"
   ]
  },
  {
   "cell_type": "code",
   "execution_count": 16,
   "id": "728eb6d3-23ad-49b6-9259-65fbe8647a2f",
   "metadata": {},
   "outputs": [
    {
     "data": {
      "text/plain": [
       "(2544.688210903328, 3154.0395070841696)"
      ]
     },
     "execution_count": 16,
     "metadata": {},
     "output_type": "execute_result"
    }
   ],
   "source": [
    "# The sample standard deviations are s_no and s_yes\n",
    "\n",
    "s_yes = late_shipments[late_shipments.late == 'Yes']['weight_kilograms'].std()\n",
    "s_no = late_shipments[late_shipments.late == 'No']['weight_kilograms'].std()\n",
    "\n",
    "s_yes, s_no"
   ]
  },
  {
   "cell_type": "code",
   "execution_count": 17,
   "id": "ee758cb1-2c0d-4bd3-b213-85a41a488d8b",
   "metadata": {},
   "outputs": [],
   "source": [
    "# The sample sizes are n_no and n_yes"
   ]
  },
  {
   "cell_type": "code",
   "execution_count": 18,
   "id": "55e30101-b437-41d0-b36c-0b61fa33225b",
   "metadata": {},
   "outputs": [
    {
     "data": {
      "text/plain": [
       "(61, 939)"
      ]
     },
     "execution_count": 18,
     "metadata": {},
     "output_type": "execute_result"
    }
   ],
   "source": [
    "n_yes = late_shipments[late_shipments.late == 'Yes'].shape[0]\n",
    "n_no = late_shipments[late_shipments.late == 'No'].shape[0]\n",
    "\n",
    "n_yes, n_no"
   ]
  },
  {
   "cell_type": "code",
   "execution_count": 19,
   "id": "6ae4427e-47a9-4a83-b993-e55a0d7128dd",
   "metadata": {},
   "outputs": [
    {
     "name": "stdout",
     "output_type": "stream",
     "text": [
      "2.3936661778766433\n"
     ]
    }
   ],
   "source": [
    "# Calculate the numerator of the test statistic\n",
    "numerator = xbar_yes - xbar_no\n",
    "\n",
    "# Calculate the denominator of the test statistic\n",
    "denominator = np.sqrt(s_no ** 2 / n_no + s_yes ** 2 / n_yes)\n",
    "\n",
    "# Calculate the test statistic\n",
    "t_stat = numerator/denominator\n",
    "\n",
    "# Print the test statistic\n",
    "print(t_stat)"
   ]
  },
  {
   "cell_type": "code",
   "execution_count": 20,
   "id": "4346705f-3bea-469d-ab3a-a761117403dd",
   "metadata": {},
   "outputs": [],
   "source": [
    "# Previously, you calculated the test statistic for the two-sample problem of whether the mean weight of shipments is smaller for shipments that weren't late (late == \"No\") compared to shipments that were late (late == \"Yes\"). In order to make decisions about it, you need to transform the test statistic with a cumulative distribution function to get a p-value.\n",
    "\n",
    "# Recall the hypotheses:\n",
    "\n",
    "# H0: The mean weight of shipments that weren't late is the same as the mean weight of shipments that were late.\n",
    "\n",
    "# HA: The mean weight of shipments that weren't late is less than the mean weight of shipments that were late.\n",
    "\n",
    "# The test statistic, t_stat, is available, as are the samples sizes for each group, n_no and n_yes. Use a significance level of alpha = 0.05.\n"
   ]
  },
  {
   "cell_type": "code",
   "execution_count": 21,
   "id": "3246fa01-a5cd-4aac-a79b-205fe09480f9",
   "metadata": {},
   "outputs": [
    {
     "data": {
      "text/plain": [
       "998"
      ]
     },
     "execution_count": 21,
     "metadata": {},
     "output_type": "execute_result"
    }
   ],
   "source": [
    "# Calculate the degrees of freedom\n",
    "degrees_of_freedom = n_no + n_yes - 2\n",
    "\n",
    "degrees_of_freedom"
   ]
  },
  {
   "cell_type": "code",
   "execution_count": 22,
   "id": "7095be1b-d673-4d04-ae61-98621d3b7cf2",
   "metadata": {},
   "outputs": [
    {
     "name": "stdout",
     "output_type": "stream",
     "text": [
      "0.008432382146249523\n"
     ]
    }
   ],
   "source": [
    "from scipy.stats import t\n",
    "\n",
    "t_stat = - t_stat # just to try another value for the test statistic\n",
    "\n",
    "# Calculate the p-value from the test stat\n",
    "p_value = t.cdf(t_stat, df = degrees_of_freedom)\n",
    "\n",
    "# Print the p_value\n",
    "print(p_value)"
   ]
  },
  {
   "cell_type": "code",
   "execution_count": 23,
   "id": "811eb2f5-f646-458c-98d1-ad8ad6a707f6",
   "metadata": {},
   "outputs": [],
   "source": [
    "# Visualizing the difference\n",
    "# Before you start running hypothesis tests, it's a great idea to perform some exploratory data analysis; that is, calculating summary statistics and visualizing distributions.\n",
    "\n",
    "# Here, you'll look at the proportion of county-level votes for the Democratic candidate in 2012 and 2016, sample_dem_data. Since the counties are the same in both years, these samples are paired. The columns containing the samples are dem_percent_12 and dem_percent_16.\n",
    "\n",
    "# dem_votes_potus_12_16 is available as sample_dem_data. pandas and matplotlib.pyplot are loaded with their usual aliases."
   ]
  },
  {
   "cell_type": "code",
   "execution_count": 24,
   "id": "9e0112aa-3a13-4190-91ff-3ce2a8f4cb37",
   "metadata": {},
   "outputs": [
    {
     "data": {
      "text/html": [
       "<div>\n",
       "<style scoped>\n",
       "    .dataframe tbody tr th:only-of-type {\n",
       "        vertical-align: middle;\n",
       "    }\n",
       "\n",
       "    .dataframe tbody tr th {\n",
       "        vertical-align: top;\n",
       "    }\n",
       "\n",
       "    .dataframe thead th {\n",
       "        text-align: right;\n",
       "    }\n",
       "</style>\n",
       "<table border=\"1\" class=\"dataframe\">\n",
       "  <thead>\n",
       "    <tr style=\"text-align: right;\">\n",
       "      <th></th>\n",
       "      <th>state</th>\n",
       "      <th>county</th>\n",
       "      <th>dem_percent_12</th>\n",
       "      <th>dem_percent_16</th>\n",
       "    </tr>\n",
       "  </thead>\n",
       "  <tbody>\n",
       "    <tr>\n",
       "      <th>0</th>\n",
       "      <td>Alabama</td>\n",
       "      <td>Bullock</td>\n",
       "      <td>76.305900</td>\n",
       "      <td>74.946921</td>\n",
       "    </tr>\n",
       "    <tr>\n",
       "      <th>1</th>\n",
       "      <td>Alabama</td>\n",
       "      <td>Chilton</td>\n",
       "      <td>19.453671</td>\n",
       "      <td>15.847352</td>\n",
       "    </tr>\n",
       "    <tr>\n",
       "      <th>2</th>\n",
       "      <td>Alabama</td>\n",
       "      <td>Clay</td>\n",
       "      <td>26.673672</td>\n",
       "      <td>18.674517</td>\n",
       "    </tr>\n",
       "    <tr>\n",
       "      <th>3</th>\n",
       "      <td>Alabama</td>\n",
       "      <td>Cullman</td>\n",
       "      <td>14.661752</td>\n",
       "      <td>10.028252</td>\n",
       "    </tr>\n",
       "    <tr>\n",
       "      <th>4</th>\n",
       "      <td>Alabama</td>\n",
       "      <td>Escambia</td>\n",
       "      <td>36.915731</td>\n",
       "      <td>31.020546</td>\n",
       "    </tr>\n",
       "    <tr>\n",
       "      <th>...</th>\n",
       "      <td>...</td>\n",
       "      <td>...</td>\n",
       "      <td>...</td>\n",
       "      <td>...</td>\n",
       "    </tr>\n",
       "    <tr>\n",
       "      <th>495</th>\n",
       "      <td>Wyoming</td>\n",
       "      <td>Uinta</td>\n",
       "      <td>19.065464</td>\n",
       "      <td>14.191263</td>\n",
       "    </tr>\n",
       "    <tr>\n",
       "      <th>496</th>\n",
       "      <td>Wyoming</td>\n",
       "      <td>Washakie</td>\n",
       "      <td>20.131846</td>\n",
       "      <td>13.948610</td>\n",
       "    </tr>\n",
       "    <tr>\n",
       "      <th>497</th>\n",
       "      <td>Alaska</td>\n",
       "      <td>District 3</td>\n",
       "      <td>33.514582</td>\n",
       "      <td>16.301064</td>\n",
       "    </tr>\n",
       "    <tr>\n",
       "      <th>498</th>\n",
       "      <td>Alaska</td>\n",
       "      <td>District 18</td>\n",
       "      <td>61.284271</td>\n",
       "      <td>52.810051</td>\n",
       "    </tr>\n",
       "    <tr>\n",
       "      <th>499</th>\n",
       "      <td>Alaska</td>\n",
       "      <td>District 24</td>\n",
       "      <td>42.913980</td>\n",
       "      <td>39.405286</td>\n",
       "    </tr>\n",
       "  </tbody>\n",
       "</table>\n",
       "<p>500 rows × 4 columns</p>\n",
       "</div>"
      ],
      "text/plain": [
       "       state       county  dem_percent_12  dem_percent_16\n",
       "0    Alabama      Bullock       76.305900       74.946921\n",
       "1    Alabama      Chilton       19.453671       15.847352\n",
       "2    Alabama         Clay       26.673672       18.674517\n",
       "3    Alabama      Cullman       14.661752       10.028252\n",
       "4    Alabama     Escambia       36.915731       31.020546\n",
       "..       ...          ...             ...             ...\n",
       "495  Wyoming        Uinta       19.065464       14.191263\n",
       "496  Wyoming     Washakie       20.131846       13.948610\n",
       "497   Alaska   District 3       33.514582       16.301064\n",
       "498   Alaska  District 18       61.284271       52.810051\n",
       "499   Alaska  District 24       42.913980       39.405286\n",
       "\n",
       "[500 rows x 4 columns]"
      ]
     },
     "execution_count": 24,
     "metadata": {},
     "output_type": "execute_result"
    }
   ],
   "source": [
    "path = 'dem_votes_potus_12_16.feather'\n",
    "\n",
    "sample_dem_data = feather.read_dataframe(path)\n",
    "\n",
    "sample_dem_data"
   ]
  },
  {
   "cell_type": "code",
   "execution_count": 25,
   "id": "75c1677f-c4b4-44c2-858e-cff355c07bad",
   "metadata": {},
   "outputs": [
    {
     "data": {
      "text/plain": [
       "0       1.358979\n",
       "1       3.606319\n",
       "2       7.999155\n",
       "3       4.633500\n",
       "4       5.895185\n",
       "         ...    \n",
       "495     4.874201\n",
       "496     6.183235\n",
       "497    17.213518\n",
       "498     8.474220\n",
       "499     3.508694\n",
       "Name: diff, Length: 500, dtype: float64"
      ]
     },
     "execution_count": 25,
     "metadata": {},
     "output_type": "execute_result"
    }
   ],
   "source": [
    "# Calculate the differences from 2012 to 2016\n",
    "sample_dem_data['diff'] = sample_dem_data['dem_percent_12'] - sample_dem_data['dem_percent_16']\n",
    "\n",
    "sample_dem_data['diff']"
   ]
  },
  {
   "cell_type": "code",
   "execution_count": 26,
   "id": "03d0f340-1570-4d85-9a82-9905d03ea5f7",
   "metadata": {},
   "outputs": [
    {
     "data": {
      "text/plain": [
       "6.829312660106834"
      ]
     },
     "execution_count": 26,
     "metadata": {},
     "output_type": "execute_result"
    }
   ],
   "source": [
    "# Find the mean of the diff column\n",
    "xbar_diff = sample_dem_data['diff'].mean()\n",
    "\n",
    "xbar_diff"
   ]
  },
  {
   "cell_type": "code",
   "execution_count": 27,
   "id": "5449db20-fce2-47de-b4e8-cd280d732a6b",
   "metadata": {},
   "outputs": [
    {
     "data": {
      "text/plain": [
       "5.040139140132317"
      ]
     },
     "execution_count": 27,
     "metadata": {},
     "output_type": "execute_result"
    }
   ],
   "source": [
    "# Find the standard deviation of the diff column\n",
    "s_diff = sample_dem_data['diff'].std()\n",
    "\n",
    "s_diff"
   ]
  },
  {
   "cell_type": "code",
   "execution_count": 28,
   "id": "d941a98b-92c3-4384-a3df-778b54e4083a",
   "metadata": {},
   "outputs": [
    {
     "data": {
      "image/png": "[encoded data removed]",
      "text/plain": [
       "<Figure size 640x480 with 1 Axes>"
      ]
     },
     "metadata": {},
     "output_type": "display_data"
    }
   ],
   "source": [
    "# Plot a histogram of diff with 20 bins\n",
    "sample_dem_data['diff'].hist(bins=20)\n",
    "plt.show()"
   ]
  },
  {
   "cell_type": "code",
   "execution_count": 29,
   "id": "ba288240-9712-44ed-b96a-baac48638e87",
   "metadata": {},
   "outputs": [],
   "source": [
    "# Using ttest()\n",
    "# Manually calculating test statistics and transforming them with a CDF to get a p-value is a lot of effort to compare two sample means. The comparison of two sample means is called a t-test, and the pingouin Python package has a .ttest() method to accomplish it. This method provides some flexibility in how you perform the test.\n",
    "\n",
    "# As in the previous exercise, you'll explore the difference between the proportion of county-level votes for the Democratic candidate in 2012 and 2016 to identify if the difference is significant. The hypotheses are as follows:\n",
    "\n",
    "# : The proportion of democratic votes in 2012 and 2016 were the same. \n",
    "# : The proportion of democratic votes in 2012 and 2016 were different."
   ]
  },
  {
   "cell_type": "code",
   "execution_count": 32,
   "id": "d98349fd-d4d9-4614-b4e6-6489b0b9bf2b",
   "metadata": {},
   "outputs": [
    {
     "name": "stdout",
     "output_type": "stream",
     "text": [
      "                T  dof alternative          p-val         CI95%   cohen-d  \\\n",
      "T-test  30.298384  499   two-sided  3.600634e-115  [6.39, 7.27]  1.354985   \n",
      "\n",
      "              BF10  power  \n",
      "T-test  2.246e+111    1.0  \n"
     ]
    }
   ],
   "source": [
    "# Conduct a t-test on diff\n",
    "test_results = pingouin.ttest(x=sample_dem_data['diff'], \n",
    "                              y=0, \n",
    "                              alternative=\"two-sided\")\n",
    "\n",
    "\n",
    "                              \n",
    "# Print the test results\n",
    "print(test_results)"
   ]
  },
  {
   "cell_type": "code",
   "execution_count": 33,
   "id": "1056cbb8-3a0f-40e5-b76d-78c581209266",
   "metadata": {},
   "outputs": [
    {
     "name": "stdout",
     "output_type": "stream",
     "text": [
      "                T  dof alternative          p-val         CI95%   cohen-d  \\\n",
      "T-test  30.298384  499   two-sided  3.600634e-115  [6.39, 7.27]  0.454202   \n",
      "\n",
      "              BF10  power  \n",
      "T-test  2.246e+111    1.0  \n"
     ]
    }
   ],
   "source": [
    "# Conduct a paired t-test on dem_percent_12 and dem_percent_16\n",
    "paired_test_results = pingouin.ttest(x=sample_dem_data['dem_percent_12'],\n",
    "                                     y=sample_dem_data['dem_percent_16'],\n",
    "                                     paired=True,\n",
    "                                     alternative=\"two-sided\")\n",
    "\n",
    "                              \n",
    "# Print the paired test results\n",
    "print(paired_test_results)"
   ]
  },
  {
   "cell_type": "code",
   "execution_count": 34,
   "id": "0072d950-9df0-4d83-b04e-7230988ad749",
   "metadata": {},
   "outputs": [
    {
     "name": "stdout",
     "output_type": "stream",
     "text": [
      "               T  dof alternative         p-val        CI95%   cohen-d  \\\n",
      "T-test  7.181565  998   two-sided  1.345737e-12  [4.96, 8.7]  0.454202   \n",
      "\n",
      "             BF10  power  \n",
      "T-test  4.308e+09    1.0  \n"
     ]
    }
   ],
   "source": [
    "# Conduct a un-paired t-test on dem_percent_12 and dem_percent_16\n",
    "unpaired_test_results = pingouin.ttest(x=sample_dem_data['dem_percent_12'],\n",
    "                                     y=sample_dem_data['dem_percent_16'],\n",
    "                                     paired=False,\n",
    "                                     alternative=\"two-sided\")\n",
    "\n",
    "                              \n",
    "# Print the paired test results\n",
    "print(unpaired_test_results)"
   ]
  },
  {
   "cell_type": "code",
   "execution_count": null,
   "id": "70d68582-104b-40cf-9d36-d063e28796de",
   "metadata": {},
   "outputs": [],
   "source": [
    "# Visualizing many categories\n",
    "# So far in this chapter, we've only considered the case of differences in a numeric variable between two categories. Of course, many datasets contain more categories. Before you get to conducting tests on many categories, it's often helpful to perform exploratory data analysis (EDA), calculating summary statistics for each group and visualizing the distributions of the numeric variable for each category using box plots.\n",
    "\n",
    "# Here, we'll return to the late shipments data, and how the price of each package (pack_price) varies between the three shipment modes (shipment_mode): \"Air\", \"Air Charter\", and \"Ocean\".\n"
   ]
  },
  {
   "cell_type": "code",
   "execution_count": 35,
   "id": "59340f29-9dd4-48bf-bdba-93320d03e862",
   "metadata": {},
   "outputs": [
    {
     "data": {
      "text/plain": [
       "shipment_mode\n",
       "Air            39.712395\n",
       "Air Charter     4.226667\n",
       "Ocean           6.432273\n",
       "Name: pack_price, dtype: float64"
      ]
     },
     "execution_count": 35,
     "metadata": {},
     "output_type": "execute_result"
    }
   ],
   "source": [
    "# Calculate the mean pack_price for each shipment_mode\n",
    "xbar_pack_by_mode = late_shipments.groupby(\"shipment_mode\")['pack_price'].mean()\n",
    "\n",
    "xbar_pack_by_mode"
   ]
  },
  {
   "cell_type": "code",
   "execution_count": 36,
   "id": "3d52ec11-12b4-4fc0-bec3-df95dc5ab309",
   "metadata": {},
   "outputs": [
    {
     "data": {
      "text/plain": [
       "shipment_mode\n",
       "Air            48.932861\n",
       "Air Charter     0.992969\n",
       "Ocean           5.303047\n",
       "Name: pack_price, dtype: float64"
      ]
     },
     "execution_count": 36,
     "metadata": {},
     "output_type": "execute_result"
    }
   ],
   "source": [
    "# Calculate the standard deviation of the pack_price for each shipment_mode\n",
    "s_pack_by_mode = late_shipments.groupby(\"shipment_mode\")['pack_price'].std()\n",
    "\n",
    "s_pack_by_mode"
   ]
  },
  {
   "cell_type": "code",
   "execution_count": 40,
   "id": "3e1bb7d9-de4d-464f-9455-6e33d3b10c17",
   "metadata": {},
   "outputs": [
    {
     "data": {
      "image/png": "[encoded data removed]",
      "text/plain": [
       "<Figure size 640x480 with 1 Axes>"
      ]
     },
     "metadata": {},
     "output_type": "display_data"
    }
   ],
   "source": [
    "# Boxplot of shipment_mode vs. pack_price\n",
    "sns.boxplot(x='pack_price', y=\"shipment_mode\", data=late_shipments)\n",
    "plt.show()"
   ]
  },
  {
   "cell_type": "code",
   "execution_count": null,
   "id": "ae3b0400-d1fa-423c-8814-0b452a7f4071",
   "metadata": {},
   "outputs": [],
   "source": [
    "# Conducting an ANOVA test\n",
    "\n",
    "# The box plots made it look like the distribution of pack price was different for each of the three shipment modes. However, it didn't tell us whether the mean pack price was different in each category. To determine that, we can use an ANOVA test. The null and alternative hypotheses can be written as follows.\n",
    "\n",
    "# H0: Pack prices for every category of shipment mode are the same.\n",
    "\n",
    "# Ha: Pack prices for some categories of shipment mode are different.\n",
    "\n",
    "# Use a significance level of 0.1."
   ]
  },
  {
   "cell_type": "code",
   "execution_count": 41,
   "id": "1f26e320-b8f4-48a5-9dc4-16236cf3093d",
   "metadata": {},
   "outputs": [
    {
     "name": "stdout",
     "output_type": "stream",
     "text": [
      "          Source  ddof1  ddof2        F         p-unc       np2\n",
      "0  shipment_mode      2    997  21.8646  5.089479e-10  0.042018\n"
     ]
    }
   ],
   "source": [
    "# Run an ANOVA for pack_price across shipment_mode\n",
    "anova_results = pingouin.anova(data=late_shipments,dv='pack_price', between='shipment_mode')\n",
    "\n",
    "# Print anova_results\n",
    "print(anova_results)"
   ]
  },
  {
   "cell_type": "code",
   "execution_count": null,
   "id": "815a22ad-58a2-4896-a73d-d37e56aa91c6",
   "metadata": {},
   "outputs": [],
   "source": [
    "# Pairwise t-tests\n",
    "\n",
    "# The ANOVA test didn't tell you which categories of shipment mode had significant differences in pack prices. To pinpoint which categories had differences, you could instead use pairwise t-tests."
   ]
  },
  {
   "cell_type": "code",
   "execution_count": 42,
   "id": "bdbcc75b-b1dd-41d1-b1a5-a1f014330499",
   "metadata": {},
   "outputs": [
    {
     "name": "stdout",
     "output_type": "stream",
     "text": [
      "        Contrast            A            B  Paired  Parametric          T  \\\n",
      "0  shipment_mode          Air  Air Charter   False        True  21.179625   \n",
      "1  shipment_mode          Air        Ocean   False        True  19.335760   \n",
      "2  shipment_mode  Air Charter        Ocean   False        True  -3.170654   \n",
      "\n",
      "          dof alternative         p-unc       BF10    hedges  \n",
      "0  600.685682   two-sided  8.748346e-75  5.809e+76  0.726592  \n",
      "1  986.979785   two-sided  6.934555e-71  1.129e+67  0.711119  \n",
      "2   35.615026   two-sided  3.123012e-03     15.277 -0.423775  \n"
     ]
    }
   ],
   "source": [
    "# Modify the pairwise t-tests to use Bonferroni p-value adjustment\n",
    "pairwise_results = pingouin.pairwise_tests(data=late_shipments, \n",
    "                                           dv=\"pack_price\",\n",
    "                                           between=\"shipment_mode\",\n",
    "                                           padjust=\"none\")\n",
    "\n",
    "# Print pairwise_results\n",
    "print(pairwise_results)"
   ]
  },
  {
   "cell_type": "code",
   "execution_count": 43,
   "id": "66528a4e-bac8-40ff-b7c2-1b58fbfed20c",
   "metadata": {},
   "outputs": [
    {
     "name": "stdout",
     "output_type": "stream",
     "text": [
      "        Contrast            A            B  Paired  Parametric          T  \\\n",
      "0  shipment_mode          Air  Air Charter   False        True  21.179625   \n",
      "1  shipment_mode          Air        Ocean   False        True  19.335760   \n",
      "2  shipment_mode  Air Charter        Ocean   False        True  -3.170654   \n",
      "\n",
      "          dof alternative         p-unc        p-corr p-adjust       BF10  \\\n",
      "0  600.685682   two-sided  8.748346e-75  2.624504e-74     bonf  5.809e+76   \n",
      "1  986.979785   two-sided  6.934555e-71  2.080367e-70     bonf  1.129e+67   \n",
      "2   35.615026   two-sided  3.123012e-03  9.369037e-03     bonf     15.277   \n",
      "\n",
      "     hedges  \n",
      "0  0.726592  \n",
      "1  0.711119  \n",
      "2 -0.423775  \n"
     ]
    }
   ],
   "source": [
    "# Modify the pairwise t-tests to use Bonferroni p-value adjustment\n",
    "pairwise_results = pingouin.pairwise_tests(data=late_shipments, \n",
    "                                           dv=\"pack_price\",\n",
    "                                           between=\"shipment_mode\",\n",
    "                                           padjust=\"bonf\")\n",
    "\n",
    "# Print pairwise_results\n",
    "print(pairwise_results)"
   ]
  },
  {
   "cell_type": "code",
   "execution_count": null,
   "id": "79656504-fa3c-46e2-9bd8-1558019fa5d8",
   "metadata": {},
   "outputs": [],
   "source": [
    "# Test for single proportions\n",
    "# In Chapter 1, you calculated a p-value for a test hypothesizing that the proportion of late shipments was greater than 6%. In that chapter, you used a bootstrap distribution to estimate the standard error of the statistic. An alternative is to use an equation for the standard error based on the sample proportion, hypothesized proportion, and sample size.\n"
   ]
  },
  {
   "cell_type": "code",
   "execution_count": 44,
   "id": "6c55c5b8-b3ac-4e03-8093-00d90770da17",
   "metadata": {},
   "outputs": [
    {
     "data": {
      "text/plain": [
       "0.061"
      ]
     },
     "execution_count": 44,
     "metadata": {},
     "output_type": "execute_result"
    }
   ],
   "source": [
    "# Hypothesize that the proportion of late shipments is 6%\n",
    "p_0 = 0.06\n",
    "\n",
    "# Calculate the sample proportion of late shipments\n",
    "p_hat = (late_shipments['late'] == \"Yes\").mean()\n",
    "\n",
    "p_hat"
   ]
  },
  {
   "cell_type": "code",
   "execution_count": 45,
   "id": "05cc6ebf-1188-4e9a-940e-08662dba471b",
   "metadata": {},
   "outputs": [
    {
     "data": {
      "text/plain": [
       "1000"
      ]
     },
     "execution_count": 45,
     "metadata": {},
     "output_type": "execute_result"
    }
   ],
   "source": [
    "# Calculate the sample size\n",
    "n = len(late_shipments)\n",
    "\n",
    "n"
   ]
  },
  {
   "cell_type": "code",
   "execution_count": 46,
   "id": "2bc4d2e9-bf24-4c9f-8966-5d56cf428ab5",
   "metadata": {},
   "outputs": [
    {
     "data": {
      "text/plain": [
       "0.13315591032282698"
      ]
     },
     "execution_count": 46,
     "metadata": {},
     "output_type": "execute_result"
    }
   ],
   "source": [
    "# Calculate the numerator and denominator of the test statistic\n",
    "numerator = p_hat - p_0\n",
    "denominator = np.sqrt(p_0 * (1 - p_0) / n)\n",
    "\n",
    "# Calculate the test statistic\n",
    "z_score = numerator / denominator\n",
    "\n",
    "z_score"
   ]
  },
  {
   "cell_type": "code",
   "execution_count": 47,
   "id": "6210a723-072d-4377-8fa3-e555dcf87c7f",
   "metadata": {},
   "outputs": [
    {
     "name": "stdout",
     "output_type": "stream",
     "text": [
      "0.44703503936503364\n"
     ]
    }
   ],
   "source": [
    "# Calculate the p-value from the z-score\n",
    "p_value = 1 - norm.cdf(z_score)\n",
    "\n",
    "# Print the p-value\n",
    "print(p_value)"
   ]
  },
  {
   "cell_type": "code",
   "execution_count": null,
   "id": "0df1cfc7-e02a-42cb-acfe-f1e2d1cbe2b7",
   "metadata": {},
   "outputs": [],
   "source": [
    "# Test of two proportions\n",
    "\n",
    "# You may wonder if the amount paid for freight affects whether or not the shipment was late. Recall that in the late_shipments dataset, whether or not the shipment was late is stored in the late column. Freight costs are stored in the freight_cost_group column, and the categories are \"expensive\" and \"reasonable\".\n",
    "\n",
    "# The hypotheses to test, with \"late\" corresponding to the proportion of late shipments for that group, are\n",
    "\n",
    "# H0: late_expensive - late_reasonable = 0\n",
    "\n",
    "# HA: late_expensive - late_reasonable > 0\n",
    "\n",
    "# p_hats contains the estimates of population proportions (sample proportions) for each freight_cost_group:\n",
    "\n",
    "# freight_cost_group  late\n",
    "# expensive           Yes     0.082569\n",
    "# reasonable          Yes     0.035165\n",
    "# Name: late, dtype: float64\n",
    "# ns contains the sample sizes for these groups:\n",
    "\n",
    "# freight_cost_group\n",
    "# expensive     545\n",
    "# reasonable    455\n",
    "# Name: late, dtype: int64"
   ]
  },
  {
   "cell_type": "code",
   "execution_count": 50,
   "id": "60a61cc8-ac88-42f7-9c0d-3a546fe8e4b5",
   "metadata": {},
   "outputs": [
    {
     "data": {
      "text/html": [
       "<div>\n",
       "<style scoped>\n",
       "    .dataframe tbody tr th:only-of-type {\n",
       "        vertical-align: middle;\n",
       "    }\n",
       "\n",
       "    .dataframe tbody tr th {\n",
       "        vertical-align: top;\n",
       "    }\n",
       "\n",
       "    .dataframe thead th {\n",
       "        text-align: right;\n",
       "    }\n",
       "</style>\n",
       "<table border=\"1\" class=\"dataframe\">\n",
       "  <thead>\n",
       "    <tr style=\"text-align: right;\">\n",
       "      <th></th>\n",
       "      <th>id</th>\n",
       "      <th>country</th>\n",
       "      <th>managed_by</th>\n",
       "      <th>fulfill_via</th>\n",
       "      <th>vendor_inco_term</th>\n",
       "      <th>shipment_mode</th>\n",
       "      <th>late_delivery</th>\n",
       "      <th>late</th>\n",
       "      <th>product_group</th>\n",
       "      <th>sub_classification</th>\n",
       "      <th>vendor</th>\n",
       "      <th>item_description</th>\n",
       "      <th>molecule_test_type</th>\n",
       "      <th>brand</th>\n",
       "      <th>dosage</th>\n",
       "      <th>dosage_form</th>\n",
       "      <th>unit_of_measure_per_pack</th>\n",
       "      <th>line_item_quantity</th>\n",
       "      <th>line_item_value</th>\n",
       "      <th>pack_price</th>\n",
       "      <th>unit_price</th>\n",
       "      <th>manufacturing_site</th>\n",
       "      <th>first_line_designation</th>\n",
       "      <th>weight_kilograms</th>\n",
       "      <th>freight_cost_usd</th>\n",
       "      <th>freight_cost_groups</th>\n",
       "      <th>line_item_insurance_usd</th>\n",
       "    </tr>\n",
       "  </thead>\n",
       "  <tbody>\n",
       "    <tr>\n",
       "      <th>0</th>\n",
       "      <td>36203.0</td>\n",
       "      <td>Nigeria</td>\n",
       "      <td>PMO - US</td>\n",
       "      <td>Direct Drop</td>\n",
       "      <td>EXW</td>\n",
       "      <td>Air</td>\n",
       "      <td>1.0</td>\n",
       "      <td>Yes</td>\n",
       "      <td>HRDT</td>\n",
       "      <td>HIV test</td>\n",
       "      <td>Orgenics, Ltd</td>\n",
       "      <td>HIV 1/2, Determine Complete HIV Kit, 100 Tests</td>\n",
       "      <td>HIV 1/2, Determine Complete HIV Kit</td>\n",
       "      <td>Determine</td>\n",
       "      <td>N/A</td>\n",
       "      <td>Test kit</td>\n",
       "      <td>100.0</td>\n",
       "      <td>2996.0</td>\n",
       "      <td>266644.00</td>\n",
       "      <td>89.00</td>\n",
       "      <td>0.89</td>\n",
       "      <td>Alere Medical Co., Ltd.</td>\n",
       "      <td>Yes</td>\n",
       "      <td>1426.0</td>\n",
       "      <td>33279.83</td>\n",
       "      <td>expensive</td>\n",
       "      <td>373.83</td>\n",
       "    </tr>\n",
       "    <tr>\n",
       "      <th>1</th>\n",
       "      <td>30998.0</td>\n",
       "      <td>Botswana</td>\n",
       "      <td>PMO - US</td>\n",
       "      <td>Direct Drop</td>\n",
       "      <td>EXW</td>\n",
       "      <td>Air</td>\n",
       "      <td>0.0</td>\n",
       "      <td>No</td>\n",
       "      <td>HRDT</td>\n",
       "      <td>HIV test</td>\n",
       "      <td>Trinity Biotech, Plc</td>\n",
       "      <td>HIV 1/2, Uni-Gold HIV Kit, 20 Tests</td>\n",
       "      <td>HIV 1/2, Uni-Gold HIV Kit</td>\n",
       "      <td>Uni-Gold</td>\n",
       "      <td>N/A</td>\n",
       "      <td>Test kit</td>\n",
       "      <td>20.0</td>\n",
       "      <td>25.0</td>\n",
       "      <td>800.00</td>\n",
       "      <td>32.00</td>\n",
       "      <td>1.60</td>\n",
       "      <td>Trinity Biotech, Plc</td>\n",
       "      <td>Yes</td>\n",
       "      <td>10.0</td>\n",
       "      <td>559.89</td>\n",
       "      <td>reasonable</td>\n",
       "      <td>1.72</td>\n",
       "    </tr>\n",
       "    <tr>\n",
       "      <th>2</th>\n",
       "      <td>69871.0</td>\n",
       "      <td>Vietnam</td>\n",
       "      <td>PMO - US</td>\n",
       "      <td>Direct Drop</td>\n",
       "      <td>EXW</td>\n",
       "      <td>Air</td>\n",
       "      <td>0.0</td>\n",
       "      <td>No</td>\n",
       "      <td>ARV</td>\n",
       "      <td>Adult</td>\n",
       "      <td>HETERO LABS LIMITED</td>\n",
       "      <td>Lamivudine/Nevirapine/Stavudine 150/200/30mg, ...</td>\n",
       "      <td>Lamivudine/Nevirapine/Stavudine</td>\n",
       "      <td>Generic</td>\n",
       "      <td>150/200/30mg</td>\n",
       "      <td>Tablet - FDC</td>\n",
       "      <td>60.0</td>\n",
       "      <td>22925.0</td>\n",
       "      <td>110040.00</td>\n",
       "      <td>4.80</td>\n",
       "      <td>0.08</td>\n",
       "      <td>Hetero Unit III Hyderabad IN</td>\n",
       "      <td>Yes</td>\n",
       "      <td>3723.0</td>\n",
       "      <td>19056.13</td>\n",
       "      <td>expensive</td>\n",
       "      <td>181.57</td>\n",
       "    </tr>\n",
       "    <tr>\n",
       "      <th>3</th>\n",
       "      <td>17648.0</td>\n",
       "      <td>South Africa</td>\n",
       "      <td>PMO - US</td>\n",
       "      <td>Direct Drop</td>\n",
       "      <td>DDP</td>\n",
       "      <td>Ocean</td>\n",
       "      <td>0.0</td>\n",
       "      <td>No</td>\n",
       "      <td>ARV</td>\n",
       "      <td>Adult</td>\n",
       "      <td>Aurobindo Pharma Limited</td>\n",
       "      <td>Lamivudine 150mg, tablets, 60 Tabs</td>\n",
       "      <td>Lamivudine</td>\n",
       "      <td>Generic</td>\n",
       "      <td>150mg</td>\n",
       "      <td>Tablet</td>\n",
       "      <td>60.0</td>\n",
       "      <td>152535.0</td>\n",
       "      <td>361507.95</td>\n",
       "      <td>2.37</td>\n",
       "      <td>0.04</td>\n",
       "      <td>Aurobindo Unit III, India</td>\n",
       "      <td>Yes</td>\n",
       "      <td>7698.0</td>\n",
       "      <td>11372.23</td>\n",
       "      <td>expensive</td>\n",
       "      <td>779.41</td>\n",
       "    </tr>\n",
       "    <tr>\n",
       "      <th>4</th>\n",
       "      <td>5647.0</td>\n",
       "      <td>Uganda</td>\n",
       "      <td>PMO - US</td>\n",
       "      <td>Direct Drop</td>\n",
       "      <td>EXW</td>\n",
       "      <td>Air</td>\n",
       "      <td>0.0</td>\n",
       "      <td>No</td>\n",
       "      <td>HRDT</td>\n",
       "      <td>HIV test - Ancillary</td>\n",
       "      <td>Orgenics, Ltd</td>\n",
       "      <td>HIV, Lancet, Safety, for HIV Test kits, 100 Pcs</td>\n",
       "      <td>HIV, Lancet, Safety, for HIV Test kits, 100 Pcs</td>\n",
       "      <td>Generic</td>\n",
       "      <td>N/A</td>\n",
       "      <td>Test kit - Ancillary</td>\n",
       "      <td>100.0</td>\n",
       "      <td>850.0</td>\n",
       "      <td>8.50</td>\n",
       "      <td>0.01</td>\n",
       "      <td>0.00</td>\n",
       "      <td>Inverness Japan</td>\n",
       "      <td>Yes</td>\n",
       "      <td>56.0</td>\n",
       "      <td>360.00</td>\n",
       "      <td>reasonable</td>\n",
       "      <td>0.01</td>\n",
       "    </tr>\n",
       "  </tbody>\n",
       "</table>\n",
       "</div>"
      ],
      "text/plain": [
       "        id       country managed_by  fulfill_via vendor_inco_term  \\\n",
       "0  36203.0       Nigeria   PMO - US  Direct Drop              EXW   \n",
       "1  30998.0      Botswana   PMO - US  Direct Drop              EXW   \n",
       "2  69871.0       Vietnam   PMO - US  Direct Drop              EXW   \n",
       "3  17648.0  South Africa   PMO - US  Direct Drop              DDP   \n",
       "4   5647.0        Uganda   PMO - US  Direct Drop              EXW   \n",
       "\n",
       "  shipment_mode  late_delivery late product_group    sub_classification  \\\n",
       "0           Air            1.0  Yes          HRDT              HIV test   \n",
       "1           Air            0.0   No          HRDT              HIV test   \n",
       "2           Air            0.0   No           ARV                 Adult   \n",
       "3         Ocean            0.0   No           ARV                 Adult   \n",
       "4           Air            0.0   No          HRDT  HIV test - Ancillary   \n",
       "\n",
       "                     vendor  \\\n",
       "0             Orgenics, Ltd   \n",
       "1      Trinity Biotech, Plc   \n",
       "2       HETERO LABS LIMITED   \n",
       "3  Aurobindo Pharma Limited   \n",
       "4             Orgenics, Ltd   \n",
       "\n",
       "                                    item_description  \\\n",
       "0     HIV 1/2, Determine Complete HIV Kit, 100 Tests   \n",
       "1                HIV 1/2, Uni-Gold HIV Kit, 20 Tests   \n",
       "2  Lamivudine/Nevirapine/Stavudine 150/200/30mg, ...   \n",
       "3                 Lamivudine 150mg, tablets, 60 Tabs   \n",
       "4    HIV, Lancet, Safety, for HIV Test kits, 100 Pcs   \n",
       "\n",
       "                                molecule_test_type      brand        dosage  \\\n",
       "0              HIV 1/2, Determine Complete HIV Kit  Determine           N/A   \n",
       "1                        HIV 1/2, Uni-Gold HIV Kit   Uni-Gold           N/A   \n",
       "2                  Lamivudine/Nevirapine/Stavudine    Generic  150/200/30mg   \n",
       "3                                       Lamivudine    Generic         150mg   \n",
       "4  HIV, Lancet, Safety, for HIV Test kits, 100 Pcs    Generic           N/A   \n",
       "\n",
       "            dosage_form  unit_of_measure_per_pack  line_item_quantity  \\\n",
       "0              Test kit                     100.0              2996.0   \n",
       "1              Test kit                      20.0                25.0   \n",
       "2          Tablet - FDC                      60.0             22925.0   \n",
       "3                Tablet                      60.0            152535.0   \n",
       "4  Test kit - Ancillary                     100.0               850.0   \n",
       "\n",
       "   line_item_value  pack_price  unit_price            manufacturing_site  \\\n",
       "0        266644.00       89.00        0.89       Alere Medical Co., Ltd.   \n",
       "1           800.00       32.00        1.60          Trinity Biotech, Plc   \n",
       "2        110040.00        4.80        0.08  Hetero Unit III Hyderabad IN   \n",
       "3        361507.95        2.37        0.04     Aurobindo Unit III, India   \n",
       "4             8.50        0.01        0.00               Inverness Japan   \n",
       "\n",
       "  first_line_designation  weight_kilograms  freight_cost_usd  \\\n",
       "0                    Yes            1426.0          33279.83   \n",
       "1                    Yes              10.0            559.89   \n",
       "2                    Yes            3723.0          19056.13   \n",
       "3                    Yes            7698.0          11372.23   \n",
       "4                    Yes              56.0            360.00   \n",
       "\n",
       "  freight_cost_groups  line_item_insurance_usd  \n",
       "0           expensive                   373.83  \n",
       "1          reasonable                     1.72  \n",
       "2           expensive                   181.57  \n",
       "3           expensive                   779.41  \n",
       "4          reasonable                     0.01  "
      ]
     },
     "execution_count": 50,
     "metadata": {},
     "output_type": "execute_result"
    }
   ],
   "source": [
    "pd.set_option('display.max_columns', None)\n",
    "\n",
    "late_shipments.head()"
   ]
  },
  {
   "cell_type": "code",
   "execution_count": 53,
   "id": "391723a1-055c-4328-8207-af556ee1fb60",
   "metadata": {},
   "outputs": [
    {
     "data": {
      "text/plain": [
       "freight_cost_groups\n",
       "expensive     531\n",
       "reasonable    455\n",
       "Name: late, dtype: int64"
      ]
     },
     "execution_count": 53,
     "metadata": {},
     "output_type": "execute_result"
    }
   ],
   "source": [
    "ns = late_shipments.groupby(\"freight_cost_groups\")['late'].count()\n",
    "\n",
    "ns"
   ]
  },
  {
   "cell_type": "code",
   "execution_count": 52,
   "id": "1d1e3869-299d-44dc-93eb-de8d42129f15",
   "metadata": {},
   "outputs": [
    {
     "data": {
      "text/plain": [
       "freight_cost_groups  late\n",
       "expensive            No      0.920904\n",
       "                     Yes     0.079096\n",
       "reasonable           No      0.964835\n",
       "                     Yes     0.035165\n",
       "Name: proportion, dtype: float64"
      ]
     },
     "execution_count": 52,
     "metadata": {},
     "output_type": "execute_result"
    }
   ],
   "source": [
    "p_hats = late_shipments.groupby(\"freight_cost_groups\")['late'].value_counts(normalize=True)\n",
    "\n",
    "p_hats"
   ]
  },
  {
   "cell_type": "code",
   "execution_count": 54,
   "id": "48fb127a-f6c1-4e73-98f1-22ea34e7561a",
   "metadata": {},
   "outputs": [
    {
     "data": {
      "text/plain": [
       "531"
      ]
     },
     "execution_count": 54,
     "metadata": {},
     "output_type": "execute_result"
    }
   ],
   "source": [
    "ns['expensive']"
   ]
  },
  {
   "cell_type": "code",
   "execution_count": 55,
   "id": "d9bbb653-b8cf-41cb-a3e5-e030aa4e1f2c",
   "metadata": {},
   "outputs": [
    {
     "data": {
      "text/plain": [
       "late\n",
       "No     0.920904\n",
       "Yes    0.079096\n",
       "Name: proportion, dtype: float64"
      ]
     },
     "execution_count": 55,
     "metadata": {},
     "output_type": "execute_result"
    }
   ],
   "source": [
    "p_hats['expensive']"
   ]
  },
  {
   "cell_type": "code",
   "execution_count": 56,
   "id": "05203e9e-03f6-4c9e-93c4-35fbab8bfab5",
   "metadata": {},
   "outputs": [
    {
     "data": {
      "text/plain": [
       "0.07909604519774012"
      ]
     },
     "execution_count": 56,
     "metadata": {},
     "output_type": "execute_result"
    }
   ],
   "source": [
    "p_hats['expensive','Yes']"
   ]
  },
  {
   "cell_type": "code",
   "execution_count": 57,
   "id": "5082d2d5-18fd-4202-b2bc-7486c0cdce64",
   "metadata": {},
   "outputs": [
    {
     "data": {
      "text/plain": [
       "0.058823529411764705"
      ]
     },
     "execution_count": 57,
     "metadata": {},
     "output_type": "execute_result"
    }
   ],
   "source": [
    "# Calculate the pooled estimate of the population proportion\n",
    "p_hat = (p_hats[\"reasonable\", 'Yes'] * ns[\"reasonable\"] + p_hats[\"expensive\", 'Yes'] * ns[\"expensive\"]) / (ns[\"reasonable\"] + ns[\"expensive\"])\n",
    "\n",
    "p_hat"
   ]
  },
  {
   "cell_type": "code",
   "execution_count": 58,
   "id": "29143b6f-72a9-41ec-8330-ed2009041d7c",
   "metadata": {},
   "outputs": [
    {
     "data": {
      "text/plain": [
       "0.015031300895066685"
      ]
     },
     "execution_count": 58,
     "metadata": {},
     "output_type": "execute_result"
    }
   ],
   "source": [
    "# Calculate p_hat one minus p_hat\n",
    "p_hat_times_not_p_hat = p_hat * (1 - p_hat)\n",
    "\n",
    "# Divide this by each of the sample sizes and then sum\n",
    "p_hat_times_not_p_hat_over_ns = p_hat_times_not_p_hat / ns[\"expensive\"] + p_hat_times_not_p_hat / ns[\"reasonable\"]\n",
    "\n",
    "# Calculate the standard error\n",
    "std_error = np.sqrt(p_hat_times_not_p_hat_over_ns)\n",
    "\n",
    "std_error"
   ]
  },
  {
   "cell_type": "code",
   "execution_count": 61,
   "id": "df326c94-6f07-47ec-8ff5-80c36acafa31",
   "metadata": {},
   "outputs": [
    {
     "data": {
      "text/plain": [
       "2.922648567784529"
      ]
     },
     "execution_count": 61,
     "metadata": {},
     "output_type": "execute_result"
    }
   ],
   "source": [
    "# Calculate the z-score\n",
    "z_score = (p_hats[\"expensive\", 'Yes'] - p_hats[\"reasonable\", 'Yes']) / std_error\n",
    "\n",
    "z_score"
   ]
  },
  {
   "cell_type": "code",
   "execution_count": 62,
   "id": "fed1556b-ee24-4669-8b7c-2265e098da61",
   "metadata": {},
   "outputs": [
    {
     "name": "stdout",
     "output_type": "stream",
     "text": [
      "0.0017353400023595311\n"
     ]
    }
   ],
   "source": [
    "# Calculate the p-value from the z-score\n",
    "p_value = 1 - norm.cdf(z_score)\n",
    "\n",
    "# Print p_value\n",
    "print(p_value)"
   ]
  },
  {
   "cell_type": "code",
   "execution_count": null,
   "id": "92eba0b6-5199-4e79-b2d2-e7ba61e2e1bf",
   "metadata": {},
   "outputs": [],
   "source": [
    "# proportions_ztest() for two samples\n",
    "# That took a lot of effort to calculate the p-value, so while it is useful to see how the calculations work, it isn't practical to do in real-world analyses. For daily usage, it's better to use the statsmodels package."
   ]
  },
  {
   "cell_type": "code",
   "execution_count": 64,
   "id": "78b2e4c3-93bf-4a9a-8a6b-e246780da6df",
   "metadata": {},
   "outputs": [
    {
     "data": {
      "text/plain": [
       "freight_cost_groups  late\n",
       "expensive            No      489\n",
       "                     Yes      42\n",
       "reasonable           No      439\n",
       "                     Yes      16\n",
       "Name: count, dtype: int64"
      ]
     },
     "execution_count": 64,
     "metadata": {},
     "output_type": "execute_result"
    }
   ],
   "source": [
    "# Count the late column values for each freight_cost_group\n",
    "late_by_freight_cost_group = late_shipments.groupby(\"freight_cost_groups\")['late'].value_counts()\n",
    "\n",
    "late_by_freight_cost_group"
   ]
  },
  {
   "cell_type": "code",
   "execution_count": 67,
   "id": "678dc2d4-21ce-4227-9fca-6469b75d76c7",
   "metadata": {},
   "outputs": [
    {
     "name": "stdout",
     "output_type": "stream",
     "text": [
      "2.922648567784529 0.001735340002359578\n"
     ]
    }
   ],
   "source": [
    "# Create an array of the \"Yes\" counts for each freight_cost_group\n",
    "success_counts = np.array([42, 16])\n",
    "\n",
    "# Create an array of the total number of rows in each freight_cost_group\n",
    "n = np.array([42 + 489, 16 + 439])\n",
    "\n",
    "# Run a z-test on the two proportions\n",
    "stat, p_value = proportions_ztest(count=success_counts, nobs=n,\n",
    "                                  alternative=\"larger\")\n",
    "\n",
    "# Print the results\n",
    "print(stat, p_value)"
   ]
  },
  {
   "cell_type": "code",
   "execution_count": null,
   "id": "9ef8f8c8-02e5-4f4c-af4b-87115ffd10d1",
   "metadata": {},
   "outputs": [],
   "source": [
    "# Performing a chi-square test\n",
    "\n",
    "# The chi-square independence test compares proportions of successes of one categorical variable across the categories of another categorical variable.\n",
    "\n",
    "# Trade deals often use a form of business shorthand in order to specify the exact details of their contract. These are International Chamber of Commerce (ICC) international commercial terms, or incoterms for short.\n",
    "\n",
    "# The late_shipments dataset includes a vendor_inco_term that describes the incoterms that applied to a given shipment. The choices are:\n",
    "\n",
    "# EXW: \"Ex works\". The buyer pays for transportation of the goods.\n",
    "# CIP: \"Carriage and insurance paid to\". The seller pays for freight and insurance until the goods board a ship.\n",
    "# DDP: \"Delivered duty paid\". The seller pays for transportation of the goods until they reach a destination port.\n",
    "# FCA: \"Free carrier\". The seller pays for transportation of the goods.\n",
    "# Perhaps the incoterms affect whether or not the freight costs are expensive. Test these hypotheses with a significance level of 0.01.\n",
    "\n",
    "# H0: vendor_inco_term and freight_cost_group are independent.\n",
    "\n",
    "# HA: vendor_inco_term and freight_cost_group are associated."
   ]
  },
  {
   "cell_type": "code",
   "execution_count": 79,
   "id": "5175ce1a-d098-467e-aa1b-6bc582da9425",
   "metadata": {},
   "outputs": [
    {
     "data": {
      "text/plain": [
       "vendor_inco_term  freight_cost_groups\n",
       "CIP               reasonable             0.680000\n",
       "                  expensive              0.320000\n",
       "DDP               expensive              0.550000\n",
       "                  reasonable             0.450000\n",
       "DDU               reasonable             1.000000\n",
       "EXW               expensive              0.583448\n",
       "                  reasonable             0.416552\n",
       "FCA               reasonable             0.663636\n",
       "                  expensive              0.336364\n",
       "Name: proportion, dtype: float64"
      ]
     },
     "execution_count": 79,
     "metadata": {},
     "output_type": "execute_result"
    }
   ],
   "source": [
    "# Proportion of freight_cost_group grouped by vendor_inco_term\n",
    "props_norm = late_shipments.groupby('vendor_inco_term')['freight_cost_groups'].value_counts(normalize=True)\n",
    "\n",
    "props_norm"
   ]
  },
  {
   "cell_type": "code",
   "execution_count": 80,
   "id": "240dae50-56a8-4530-aa68-264caa529291",
   "metadata": {},
   "outputs": [
    {
     "data": {
      "text/html": [
       "<div>\n",
       "<style scoped>\n",
       "    .dataframe tbody tr th:only-of-type {\n",
       "        vertical-align: middle;\n",
       "    }\n",
       "\n",
       "    .dataframe tbody tr th {\n",
       "        vertical-align: top;\n",
       "    }\n",
       "\n",
       "    .dataframe thead th {\n",
       "        text-align: right;\n",
       "    }\n",
       "</style>\n",
       "<table border=\"1\" class=\"dataframe\">\n",
       "  <thead>\n",
       "    <tr style=\"text-align: right;\">\n",
       "      <th>freight_cost_groups</th>\n",
       "      <th>expensive</th>\n",
       "      <th>reasonable</th>\n",
       "    </tr>\n",
       "    <tr>\n",
       "      <th>vendor_inco_term</th>\n",
       "      <th></th>\n",
       "      <th></th>\n",
       "    </tr>\n",
       "  </thead>\n",
       "  <tbody>\n",
       "    <tr>\n",
       "      <th>CIP</th>\n",
       "      <td>0.320000</td>\n",
       "      <td>0.680000</td>\n",
       "    </tr>\n",
       "    <tr>\n",
       "      <th>DDP</th>\n",
       "      <td>0.550000</td>\n",
       "      <td>0.450000</td>\n",
       "    </tr>\n",
       "    <tr>\n",
       "      <th>DDU</th>\n",
       "      <td>NaN</td>\n",
       "      <td>1.000000</td>\n",
       "    </tr>\n",
       "    <tr>\n",
       "      <th>EXW</th>\n",
       "      <td>0.583448</td>\n",
       "      <td>0.416552</td>\n",
       "    </tr>\n",
       "    <tr>\n",
       "      <th>FCA</th>\n",
       "      <td>0.336364</td>\n",
       "      <td>0.663636</td>\n",
       "    </tr>\n",
       "  </tbody>\n",
       "</table>\n",
       "</div>"
      ],
      "text/plain": [
       "freight_cost_groups  expensive  reasonable\n",
       "vendor_inco_term                          \n",
       "CIP                   0.320000    0.680000\n",
       "DDP                   0.550000    0.450000\n",
       "DDU                        NaN    1.000000\n",
       "EXW                   0.583448    0.416552\n",
       "FCA                   0.336364    0.663636"
      ]
     },
     "execution_count": 80,
     "metadata": {},
     "output_type": "execute_result"
    }
   ],
   "source": [
    "# Convert props to wide format\n",
    "wide_props_norm = props_norm.unstack()\n",
    "\n",
    "wide_props_norm"
   ]
  },
  {
   "cell_type": "code",
   "execution_count": 81,
   "id": "6cf20d84-d7b0-4da8-a4f9-a4381d917807",
   "metadata": {},
   "outputs": [
    {
     "data": {
      "image/png": "[encoded data removed]",
      "text/plain": [
       "<Figure size 640x480 with 1 Axes>"
      ]
     },
     "metadata": {},
     "output_type": "display_data"
    }
   ],
   "source": [
    "# Proportional stacked bar plot of freight_cost_group vs. vendor_inco_term\n",
    "wide_props_norm.plot(kind=\"bar\", stacked=True)\n",
    "plt.show()\n"
   ]
  },
  {
   "cell_type": "code",
   "execution_count": 82,
   "id": "a2b37bf2-a328-4730-8b80-4563c5a75aa4",
   "metadata": {},
   "outputs": [
    {
     "data": {
      "text/plain": [
       "vendor_inco_term  freight_cost_groups\n",
       "CIP               reasonable              34\n",
       "                  expensive               16\n",
       "DDP               expensive               55\n",
       "                  reasonable              45\n",
       "DDU               reasonable               1\n",
       "EXW               expensive              423\n",
       "                  reasonable             302\n",
       "FCA               reasonable              73\n",
       "                  expensive               37\n",
       "Name: count, dtype: int64"
      ]
     },
     "execution_count": 82,
     "metadata": {},
     "output_type": "execute_result"
    }
   ],
   "source": [
    "# Proportion of freight_cost_group grouped by vendor_inco_term, not normalized\n",
    "props = late_shipments.groupby('vendor_inco_term')['freight_cost_groups'].value_counts(normalize=False)\n",
    "\n",
    "props"
   ]
  },
  {
   "cell_type": "code",
   "execution_count": 83,
   "id": "f553bbdc-5ef0-425b-82ad-4eb4f6d419af",
   "metadata": {},
   "outputs": [
    {
     "data": {
      "text/html": [
       "<div>\n",
       "<style scoped>\n",
       "    .dataframe tbody tr th:only-of-type {\n",
       "        vertical-align: middle;\n",
       "    }\n",
       "\n",
       "    .dataframe tbody tr th {\n",
       "        vertical-align: top;\n",
       "    }\n",
       "\n",
       "    .dataframe thead th {\n",
       "        text-align: right;\n",
       "    }\n",
       "</style>\n",
       "<table border=\"1\" class=\"dataframe\">\n",
       "  <thead>\n",
       "    <tr style=\"text-align: right;\">\n",
       "      <th>freight_cost_groups</th>\n",
       "      <th>expensive</th>\n",
       "      <th>reasonable</th>\n",
       "    </tr>\n",
       "    <tr>\n",
       "      <th>vendor_inco_term</th>\n",
       "      <th></th>\n",
       "      <th></th>\n",
       "    </tr>\n",
       "  </thead>\n",
       "  <tbody>\n",
       "    <tr>\n",
       "      <th>CIP</th>\n",
       "      <td>16.0</td>\n",
       "      <td>34.0</td>\n",
       "    </tr>\n",
       "    <tr>\n",
       "      <th>DDP</th>\n",
       "      <td>55.0</td>\n",
       "      <td>45.0</td>\n",
       "    </tr>\n",
       "    <tr>\n",
       "      <th>DDU</th>\n",
       "      <td>NaN</td>\n",
       "      <td>1.0</td>\n",
       "    </tr>\n",
       "    <tr>\n",
       "      <th>EXW</th>\n",
       "      <td>423.0</td>\n",
       "      <td>302.0</td>\n",
       "    </tr>\n",
       "    <tr>\n",
       "      <th>FCA</th>\n",
       "      <td>37.0</td>\n",
       "      <td>73.0</td>\n",
       "    </tr>\n",
       "  </tbody>\n",
       "</table>\n",
       "</div>"
      ],
      "text/plain": [
       "freight_cost_groups  expensive  reasonable\n",
       "vendor_inco_term                          \n",
       "CIP                       16.0        34.0\n",
       "DDP                       55.0        45.0\n",
       "DDU                        NaN         1.0\n",
       "EXW                      423.0       302.0\n",
       "FCA                       37.0        73.0"
      ]
     },
     "execution_count": 83,
     "metadata": {},
     "output_type": "execute_result"
    }
   ],
   "source": [
    "# Convert props to wide format\n",
    "wide_props = props.unstack()\n",
    "\n",
    "wide_props"
   ]
  },
  {
   "cell_type": "code",
   "execution_count": 84,
   "id": "7f671879-1d06-47fd-8623-cff3de0739fa",
   "metadata": {},
   "outputs": [
    {
     "data": {
      "image/png": "[encoded data removed]",
      "text/plain": [
       "<Figure size 640x480 with 1 Axes>"
      ]
     },
     "metadata": {},
     "output_type": "display_data"
    }
   ],
   "source": [
    "# Proportional not normalized stacked bar plot of freight_cost_group vs. vendor_inco_term\n",
    "wide_props.plot(kind=\"bar\", stacked=True)\n",
    "plt.show()\n"
   ]
  },
  {
   "cell_type": "code",
   "execution_count": 73,
   "id": "c9b8a3f0-4531-48a3-ad91-18db30b6f3d7",
   "metadata": {},
   "outputs": [
    {
     "name": "stderr",
     "output_type": "stream",
     "text": [
      "C:\\Users\\Alienware\\miniconda3\\envs\\py309\\lib\\site-packages\\pingouin\\contingency.py:151: UserWarning: Low count on observed frequencies.\n",
      "  warnings.warn(f\"Low count on {name} frequencies.\")\n",
      "C:\\Users\\Alienware\\miniconda3\\envs\\py309\\lib\\site-packages\\pingouin\\contingency.py:151: UserWarning: Low count on expected frequencies.\n",
      "  warnings.warn(f\"Low count on {name} frequencies.\")\n",
      "C:\\Users\\Alienware\\miniconda3\\envs\\py309\\lib\\site-packages\\scipy\\stats\\stats.py:6716: RuntimeWarning: divide by zero encountered in power\n",
      "  terms = f_obs * ((f_obs / f_exp)**lambda_ - 1)\n",
      "C:\\Users\\Alienware\\miniconda3\\envs\\py309\\lib\\site-packages\\scipy\\stats\\stats.py:6716: RuntimeWarning: invalid value encountered in multiply\n",
      "  terms = f_obs * ((f_obs / f_exp)**lambda_ - 1)\n",
      "C:\\Users\\Alienware\\miniconda3\\envs\\py309\\lib\\site-packages\\scipy\\stats\\stats.py:6713: RuntimeWarning: divide by zero encountered in true_divide\n",
      "  terms = 2.0 * special.xlogy(f_exp, f_exp / f_obs)\n"
     ]
    }
   ],
   "source": [
    "# Determine if freight_cost_group and vendor_inco_term are independent\n",
    "expected, observed, stats = pingouin.chi2_independence(data=late_shipments, x=\"vendor_inco_term\", y=\"freight_cost_groups\")\n"
   ]
  },
  {
   "cell_type": "code",
   "execution_count": 76,
   "id": "751646b1-c6b9-422d-a802-f0fc8cf470c6",
   "metadata": {},
   "outputs": [
    {
     "data": {
      "image/png": "[encoded data removed]",
      "text/plain": [
       "<Figure size 640x480 with 1 Axes>"
      ]
     },
     "metadata": {},
     "output_type": "display_data"
    },
    {
     "data": {
      "text/html": [
       "<div>\n",
       "<style scoped>\n",
       "    .dataframe tbody tr th:only-of-type {\n",
       "        vertical-align: middle;\n",
       "    }\n",
       "\n",
       "    .dataframe tbody tr th {\n",
       "        vertical-align: top;\n",
       "    }\n",
       "\n",
       "    .dataframe thead th {\n",
       "        text-align: right;\n",
       "    }\n",
       "</style>\n",
       "<table border=\"1\" class=\"dataframe\">\n",
       "  <thead>\n",
       "    <tr style=\"text-align: right;\">\n",
       "      <th>freight_cost_groups</th>\n",
       "      <th>expensive</th>\n",
       "      <th>reasonable</th>\n",
       "    </tr>\n",
       "    <tr>\n",
       "      <th>vendor_inco_term</th>\n",
       "      <th></th>\n",
       "      <th></th>\n",
       "    </tr>\n",
       "  </thead>\n",
       "  <tbody>\n",
       "    <tr>\n",
       "      <th>CIP</th>\n",
       "      <td>16</td>\n",
       "      <td>34</td>\n",
       "    </tr>\n",
       "    <tr>\n",
       "      <th>DDP</th>\n",
       "      <td>55</td>\n",
       "      <td>45</td>\n",
       "    </tr>\n",
       "    <tr>\n",
       "      <th>DDU</th>\n",
       "      <td>0</td>\n",
       "      <td>1</td>\n",
       "    </tr>\n",
       "    <tr>\n",
       "      <th>EXW</th>\n",
       "      <td>423</td>\n",
       "      <td>302</td>\n",
       "    </tr>\n",
       "    <tr>\n",
       "      <th>FCA</th>\n",
       "      <td>37</td>\n",
       "      <td>73</td>\n",
       "    </tr>\n",
       "  </tbody>\n",
       "</table>\n",
       "</div>"
      ],
      "text/plain": [
       "freight_cost_groups  expensive  reasonable\n",
       "vendor_inco_term                          \n",
       "CIP                         16          34\n",
       "DDP                         55          45\n",
       "DDU                          0           1\n",
       "EXW                        423         302\n",
       "FCA                         37          73"
      ]
     },
     "execution_count": 76,
     "metadata": {},
     "output_type": "execute_result"
    }
   ],
   "source": [
    "observed.plot(kind=\"bar\", stacked=True) # same as proportional not normalized stack bar above\n",
    "plt.show()\n",
    "observed"
   ]
  },
  {
   "cell_type": "code",
   "execution_count": 75,
   "id": "542c66d4-1bf3-4564-8816-f0b113dd4bdc",
   "metadata": {},
   "outputs": [
    {
     "data": {
      "image/png": "[encoded data removed]",
      "text/plain": [
       "<Figure size 640x480 with 1 Axes>"
      ]
     },
     "metadata": {},
     "output_type": "display_data"
    },
    {
     "data": {
      "text/html": [
       "<div>\n",
       "<style scoped>\n",
       "    .dataframe tbody tr th:only-of-type {\n",
       "        vertical-align: middle;\n",
       "    }\n",
       "\n",
       "    .dataframe tbody tr th {\n",
       "        vertical-align: top;\n",
       "    }\n",
       "\n",
       "    .dataframe thead th {\n",
       "        text-align: right;\n",
       "    }\n",
       "</style>\n",
       "<table border=\"1\" class=\"dataframe\">\n",
       "  <thead>\n",
       "    <tr style=\"text-align: right;\">\n",
       "      <th>freight_cost_groups</th>\n",
       "      <th>expensive</th>\n",
       "      <th>reasonable</th>\n",
       "    </tr>\n",
       "    <tr>\n",
       "      <th>vendor_inco_term</th>\n",
       "      <th></th>\n",
       "      <th></th>\n",
       "    </tr>\n",
       "  </thead>\n",
       "  <tbody>\n",
       "    <tr>\n",
       "      <th>CIP</th>\n",
       "      <td>26.926978</td>\n",
       "      <td>23.073022</td>\n",
       "    </tr>\n",
       "    <tr>\n",
       "      <th>DDP</th>\n",
       "      <td>53.853955</td>\n",
       "      <td>46.146045</td>\n",
       "    </tr>\n",
       "    <tr>\n",
       "      <th>DDU</th>\n",
       "      <td>0.538540</td>\n",
       "      <td>0.461460</td>\n",
       "    </tr>\n",
       "    <tr>\n",
       "      <th>EXW</th>\n",
       "      <td>390.441176</td>\n",
       "      <td>334.558824</td>\n",
       "    </tr>\n",
       "    <tr>\n",
       "      <th>FCA</th>\n",
       "      <td>59.239351</td>\n",
       "      <td>50.760649</td>\n",
       "    </tr>\n",
       "  </tbody>\n",
       "</table>\n",
       "</div>"
      ],
      "text/plain": [
       "freight_cost_groups   expensive  reasonable\n",
       "vendor_inco_term                           \n",
       "CIP                   26.926978   23.073022\n",
       "DDP                   53.853955   46.146045\n",
       "DDU                    0.538540    0.461460\n",
       "EXW                  390.441176  334.558824\n",
       "FCA                   59.239351   50.760649"
      ]
     },
     "execution_count": 75,
     "metadata": {},
     "output_type": "execute_result"
    }
   ],
   "source": [
    "expected.plot(kind=\"bar\", stacked=True)\n",
    "plt.show()\n",
    "expected"
   ]
  },
  {
   "cell_type": "code",
   "execution_count": 77,
   "id": "be4f40e6-62ee-4e5b-8d46-175073c0c374",
   "metadata": {},
   "outputs": [
    {
     "data": {
      "text/html": [
       "<div>\n",
       "<style scoped>\n",
       "    .dataframe tbody tr th:only-of-type {\n",
       "        vertical-align: middle;\n",
       "    }\n",
       "\n",
       "    .dataframe tbody tr th {\n",
       "        vertical-align: top;\n",
       "    }\n",
       "\n",
       "    .dataframe thead th {\n",
       "        text-align: right;\n",
       "    }\n",
       "</style>\n",
       "<table border=\"1\" class=\"dataframe\">\n",
       "  <thead>\n",
       "    <tr style=\"text-align: right;\">\n",
       "      <th></th>\n",
       "      <th>test</th>\n",
       "      <th>lambda</th>\n",
       "      <th>chi2</th>\n",
       "      <th>dof</th>\n",
       "      <th>pval</th>\n",
       "      <th>cramer</th>\n",
       "      <th>power</th>\n",
       "    </tr>\n",
       "  </thead>\n",
       "  <tbody>\n",
       "    <tr>\n",
       "      <th>0</th>\n",
       "      <td>pearson</td>\n",
       "      <td>1.000000</td>\n",
       "      <td>34.805072</td>\n",
       "      <td>4.0</td>\n",
       "      <td>5.093922e-07</td>\n",
       "      <td>0.186561</td>\n",
       "      <td>0.999235</td>\n",
       "    </tr>\n",
       "    <tr>\n",
       "      <th>1</th>\n",
       "      <td>cressie-read</td>\n",
       "      <td>0.666667</td>\n",
       "      <td>34.845134</td>\n",
       "      <td>4.0</td>\n",
       "      <td>4.998337e-07</td>\n",
       "      <td>0.186669</td>\n",
       "      <td>0.999244</td>\n",
       "    </tr>\n",
       "    <tr>\n",
       "      <th>2</th>\n",
       "      <td>log-likelihood</td>\n",
       "      <td>0.000000</td>\n",
       "      <td>35.442911</td>\n",
       "      <td>4.0</td>\n",
       "      <td>3.767119e-07</td>\n",
       "      <td>0.188263</td>\n",
       "      <td>0.999361</td>\n",
       "    </tr>\n",
       "    <tr>\n",
       "      <th>3</th>\n",
       "      <td>freeman-tukey</td>\n",
       "      <td>-0.500000</td>\n",
       "      <td>NaN</td>\n",
       "      <td>4.0</td>\n",
       "      <td>NaN</td>\n",
       "      <td>NaN</td>\n",
       "      <td>NaN</td>\n",
       "    </tr>\n",
       "    <tr>\n",
       "      <th>4</th>\n",
       "      <td>mod-log-likelihood</td>\n",
       "      <td>-1.000000</td>\n",
       "      <td>inf</td>\n",
       "      <td>4.0</td>\n",
       "      <td>0.000000e+00</td>\n",
       "      <td>inf</td>\n",
       "      <td>1.000000</td>\n",
       "    </tr>\n",
       "    <tr>\n",
       "      <th>5</th>\n",
       "      <td>neyman</td>\n",
       "      <td>-2.000000</td>\n",
       "      <td>NaN</td>\n",
       "      <td>4.0</td>\n",
       "      <td>NaN</td>\n",
       "      <td>NaN</td>\n",
       "      <td>NaN</td>\n",
       "    </tr>\n",
       "  </tbody>\n",
       "</table>\n",
       "</div>"
      ],
      "text/plain": [
       "                 test    lambda       chi2  dof          pval    cramer  \\\n",
       "0             pearson  1.000000  34.805072  4.0  5.093922e-07  0.186561   \n",
       "1        cressie-read  0.666667  34.845134  4.0  4.998337e-07  0.186669   \n",
       "2      log-likelihood  0.000000  35.442911  4.0  3.767119e-07  0.188263   \n",
       "3       freeman-tukey -0.500000        NaN  4.0           NaN       NaN   \n",
       "4  mod-log-likelihood -1.000000        inf  4.0  0.000000e+00       inf   \n",
       "5              neyman -2.000000        NaN  4.0           NaN       NaN   \n",
       "\n",
       "      power  \n",
       "0  0.999235  \n",
       "1  0.999244  \n",
       "2  0.999361  \n",
       "3       NaN  \n",
       "4  1.000000  \n",
       "5       NaN  "
      ]
     },
     "execution_count": 77,
     "metadata": {},
     "output_type": "execute_result"
    }
   ],
   "source": [
    "stats"
   ]
  },
  {
   "cell_type": "code",
   "execution_count": 78,
   "id": "26018627-355f-4d97-a0d0-c78279c41e68",
   "metadata": {},
   "outputs": [
    {
     "name": "stdout",
     "output_type": "stream",
     "text": [
      "      test  lambda       chi2  dof          pval    cramer     power\n",
      "0  pearson     1.0  34.805072  4.0  5.093922e-07  0.186561  0.999235\n"
     ]
    }
   ],
   "source": [
    "# Print results\n",
    "print(stats[stats['test'] == 'pearson']) "
   ]
  },
  {
   "cell_type": "code",
   "execution_count": null,
   "id": "68a9b425-b2f7-4d8c-b46d-bffb2d518d8b",
   "metadata": {},
   "outputs": [],
   "source": [
    "# Visualizing goodness of fit\n",
    "# The chi-square goodness of fit test compares proportions of each level of a categorical variable to hypothesized values. Before running such a test, it can be helpful to visually compare the distribution in the sample to the hypothesized distribution.\n",
    "\n",
    "# Recall the vendor incoterms in the late_shipments dataset. You hypothesize that the four values occur with these frequencies in the population of shipments.\n",
    "\n",
    "# CIP: 0.05\n",
    "# DDP: 0.1\n",
    "# EXW: 0.75\n",
    "# FCA: 0.1"
   ]
  },
  {
   "cell_type": "code",
   "execution_count": 113,
   "id": "f618c9d6-16a8-43b8-a44e-8edeae40646e",
   "metadata": {},
   "outputs": [
    {
     "name": "stdout",
     "output_type": "stream",
     "text": [
      "  vendor_inco_term  prop\n",
      "0              EXW  0.75\n",
      "1              FCA  0.10\n",
      "2              DDP  0.10\n",
      "3              CIP  0.05\n"
     ]
    }
   ],
   "source": [
    "import pandas as pd\n",
    "\n",
    "# Define the data\n",
    "data = {\n",
    "    'vendor_inco_term': ['EXW', 'FCA','DDP','CIP'],\n",
    "    'prop': [0.75, 0.10, 0.10, 0.05]\n",
    "}\n",
    "\n",
    "# Create the DataFrame\n",
    "hypothesized = pd.DataFrame(data)\n",
    "\n",
    "print(hypothesized)\n"
   ]
  },
  {
   "cell_type": "code",
   "execution_count": 130,
   "id": "d0739101-3082-4c62-9960-992965b57780",
   "metadata": {},
   "outputs": [
    {
     "data": {
      "text/plain": [
       "999"
      ]
     },
     "execution_count": 130,
     "metadata": {},
     "output_type": "execute_result"
    }
   ],
   "source": [
    "# Find the number of rows in late_shipments\n",
    "n_total = len(late_shipments) - 1\n",
    "\n",
    "n_total"
   ]
  },
  {
   "cell_type": "code",
   "execution_count": 131,
   "id": "8ce1935e-78bd-4016-bcb4-22477187bc5f",
   "metadata": {},
   "outputs": [
    {
     "data": {
      "text/html": [
       "<div>\n",
       "<style scoped>\n",
       "    .dataframe tbody tr th:only-of-type {\n",
       "        vertical-align: middle;\n",
       "    }\n",
       "\n",
       "    .dataframe tbody tr th {\n",
       "        vertical-align: top;\n",
       "    }\n",
       "\n",
       "    .dataframe thead th {\n",
       "        text-align: right;\n",
       "    }\n",
       "</style>\n",
       "<table border=\"1\" class=\"dataframe\">\n",
       "  <thead>\n",
       "    <tr style=\"text-align: right;\">\n",
       "      <th></th>\n",
       "      <th>vendor_inco_term</th>\n",
       "      <th>prop</th>\n",
       "      <th>n</th>\n",
       "    </tr>\n",
       "  </thead>\n",
       "  <tbody>\n",
       "    <tr>\n",
       "      <th>0</th>\n",
       "      <td>EXW</td>\n",
       "      <td>0.75</td>\n",
       "      <td>749.25</td>\n",
       "    </tr>\n",
       "    <tr>\n",
       "      <th>1</th>\n",
       "      <td>FCA</td>\n",
       "      <td>0.10</td>\n",
       "      <td>99.90</td>\n",
       "    </tr>\n",
       "    <tr>\n",
       "      <th>2</th>\n",
       "      <td>DDP</td>\n",
       "      <td>0.10</td>\n",
       "      <td>99.90</td>\n",
       "    </tr>\n",
       "    <tr>\n",
       "      <th>3</th>\n",
       "      <td>CIP</td>\n",
       "      <td>0.05</td>\n",
       "      <td>49.95</td>\n",
       "    </tr>\n",
       "  </tbody>\n",
       "</table>\n",
       "</div>"
      ],
      "text/plain": [
       "  vendor_inco_term  prop       n\n",
       "0              EXW  0.75  749.25\n",
       "1              FCA  0.10   99.90\n",
       "2              DDP  0.10   99.90\n",
       "3              CIP  0.05   49.95"
      ]
     },
     "execution_count": 131,
     "metadata": {},
     "output_type": "execute_result"
    }
   ],
   "source": [
    "# Create n column that is prop column * n_total\n",
    "hypothesized[\"n\"] = hypothesized[\"prop\"] * n_total\n",
    "\n",
    "hypothesized"
   ]
  },
  {
   "cell_type": "code",
   "execution_count": 132,
   "id": "a96c168a-614f-46c1-b415-3c45abb3451a",
   "metadata": {},
   "outputs": [
    {
     "data": {
      "text/html": [
       "<div>\n",
       "<style scoped>\n",
       "    .dataframe tbody tr th:only-of-type {\n",
       "        vertical-align: middle;\n",
       "    }\n",
       "\n",
       "    .dataframe tbody tr th {\n",
       "        vertical-align: top;\n",
       "    }\n",
       "\n",
       "    .dataframe thead th {\n",
       "        text-align: right;\n",
       "    }\n",
       "</style>\n",
       "<table border=\"1\" class=\"dataframe\">\n",
       "  <thead>\n",
       "    <tr style=\"text-align: right;\">\n",
       "      <th></th>\n",
       "      <th>vendor_inco_term</th>\n",
       "      <th>count</th>\n",
       "    </tr>\n",
       "  </thead>\n",
       "  <tbody>\n",
       "    <tr>\n",
       "      <th>0</th>\n",
       "      <td>EXW</td>\n",
       "      <td>732</td>\n",
       "    </tr>\n",
       "    <tr>\n",
       "      <th>1</th>\n",
       "      <td>FCA</td>\n",
       "      <td>111</td>\n",
       "    </tr>\n",
       "    <tr>\n",
       "      <th>2</th>\n",
       "      <td>DDP</td>\n",
       "      <td>100</td>\n",
       "    </tr>\n",
       "    <tr>\n",
       "      <th>3</th>\n",
       "      <td>CIP</td>\n",
       "      <td>56</td>\n",
       "    </tr>\n",
       "  </tbody>\n",
       "</table>\n",
       "</div>"
      ],
      "text/plain": [
       "  vendor_inco_term  count\n",
       "0              EXW    732\n",
       "1              FCA    111\n",
       "2              DDP    100\n",
       "3              CIP     56"
      ]
     },
     "execution_count": 132,
     "metadata": {},
     "output_type": "execute_result"
    }
   ],
   "source": [
    "incoterm_counts = pd.DataFrame(late_shipments[late_shipments['vendor_inco_term']!='DDU']['vendor_inco_term'].value_counts())\n",
    "incoterm_counts = incoterm_counts.reset_index()\n",
    "incoterm_counts"
   ]
  },
  {
   "cell_type": "code",
   "execution_count": 133,
   "id": "4d4a1a89-b703-4d83-8027-d0d3586a7bae",
   "metadata": {},
   "outputs": [
    {
     "data": {
      "text/plain": [
       "<BarContainer object of 4 artists>"
      ]
     },
     "execution_count": 133,
     "metadata": {},
     "output_type": "execute_result"
    },
    {
     "data": {
      "image/png": "[encoded data removed]",
      "text/plain": [
       "<Figure size 640x480 with 1 Axes>"
      ]
     },
     "metadata": {},
     "output_type": "display_data"
    }
   ],
   "source": [
    "# Plot a red bar graph of n vs. vendor_inco_term for incoterm_counts\n",
    "plt.bar(incoterm_counts['vendor_inco_term'], incoterm_counts['count'], color=\"red\", label=\"Observed\")\n"
   ]
  },
  {
   "cell_type": "code",
   "execution_count": 134,
   "id": "a9599849-0d62-4626-b878-5c4f561d195f",
   "metadata": {},
   "outputs": [
    {
     "data": {
      "text/plain": [
       "<BarContainer object of 4 artists>"
      ]
     },
     "execution_count": 134,
     "metadata": {},
     "output_type": "execute_result"
    },
    {
     "data": {
      "image/png": "[encoded data removed]",
      "text/plain": [
       "<Figure size 640x480 with 1 Axes>"
      ]
     },
     "metadata": {},
     "output_type": "display_data"
    }
   ],
   "source": [
    "# Add a blue bar plot for the hypothesized counts\n",
    "plt.bar(hypothesized[\"vendor_inco_term\"], hypothesized[\"n\"], alpha=0.5, color=\"blue\", label=\"Hypothesized\")\n"
   ]
  },
  {
   "cell_type": "code",
   "execution_count": 135,
   "id": "516ad0b0-3624-4ccf-9c03-7b9ff5854237",
   "metadata": {},
   "outputs": [
    {
     "data": {
      "image/png": "[encoded data removed]",
      "text/plain": [
       "<Figure size 640x480 with 1 Axes>"
      ]
     },
     "metadata": {},
     "output_type": "display_data"
    }
   ],
   "source": [
    "plt.bar(incoterm_counts['vendor_inco_term'], incoterm_counts['count'], color=\"red\", label=\"Observed\")\n",
    "plt.bar(hypothesized[\"vendor_inco_term\"], hypothesized[\"n\"], alpha=0.5, color=\"blue\", label=\"Hypothesized\")\n",
    "plt.legend()\n",
    "plt.show()"
   ]
  },
  {
   "cell_type": "code",
   "execution_count": null,
   "id": "d53dd4e6-153f-4029-a745-b435fdb26509",
   "metadata": {},
   "outputs": [],
   "source": [
    "# Performing a goodness of fit test\n",
    "\n",
    "# The bar plot of vendor_inco_term suggests that the distribution across the four categories was quite close to the hypothesized distribution. You'll need to perform a chi-square goodness of fit test to see whether the differences are statistically significant.\n",
    "\n",
    "# Recall the hypotheses for this type of test:\n",
    "\n",
    "# H0: The sample matches with the hypothesized distribution.\n",
    "\n",
    "# HA: The sample does not match with the hypothesized distribution.\n",
    "\n",
    "# To decide which hypothesis to choose, we'll set a significance level of 0.1."
   ]
  },
  {
   "cell_type": "code",
   "execution_count": 136,
   "id": "2072b0eb-fedd-4427-a21f-02e403963f94",
   "metadata": {},
   "outputs": [
    {
     "data": {
      "text/plain": [
       "0    732\n",
       "1    111\n",
       "2    100\n",
       "3     56\n",
       "Name: count, dtype: int64"
      ]
     },
     "execution_count": 136,
     "metadata": {},
     "output_type": "execute_result"
    }
   ],
   "source": [
    "incoterm_counts['count']"
   ]
  },
  {
   "cell_type": "code",
   "execution_count": 137,
   "id": "af368450-7e6f-4593-8641-a65b7beecabb",
   "metadata": {},
   "outputs": [
    {
     "data": {
      "text/plain": [
       "0    749.25\n",
       "1     99.90\n",
       "2     99.90\n",
       "3     49.95\n",
       "Name: n, dtype: float64"
      ]
     },
     "execution_count": 137,
     "metadata": {},
     "output_type": "execute_result"
    }
   ],
   "source": [
    "hypothesized['n']"
   ]
  },
  {
   "cell_type": "code",
   "execution_count": 138,
   "id": "4e296ac2-8b7d-44fa-9178-8bca146364a8",
   "metadata": {},
   "outputs": [
    {
     "name": "stdout",
     "output_type": "stream",
     "text": [
      "Power_divergenceResult(statistic=2.3633633633633613, pvalue=0.5004909543758689)\n"
     ]
    }
   ],
   "source": [
    "# Perform a goodness of fit test on the incoterm counts n\n",
    "gof_test = chisquare(f_obs=incoterm_counts['count'], f_exp=hypothesized['n'])\n",
    "\n",
    "# Print gof_test results\n",
    "print(gof_test)"
   ]
  },
  {
   "cell_type": "code",
   "execution_count": null,
   "id": "85fa856f-c668-48a9-81f2-367722ce8495",
   "metadata": {},
   "outputs": [],
   "source": [
    "# Testing sample size\n",
    "\n",
    "# In order to conduct a hypothesis test and be sure that the result is fair, a sample must meet three requirements: it is a random sample of the population, the observations are independent, and there are enough observations. Of these, only the last condition is easily testable with code.\n",
    "\n",
    "# The minimum sample size depends on the type of hypothesis tests you want to perform. You'll now test some scenarios on the late_shipments dataset."
   ]
  },
  {
   "cell_type": "code",
   "execution_count": 143,
   "id": "a59658ba-c4aa-4b69-b43d-a9fc827ec385",
   "metadata": {},
   "outputs": [
    {
     "name": "stdout",
     "output_type": "stream",
     "text": [
      "freight_cost_groups\n",
      "expensive     531\n",
      "reasonable    455\n",
      "Name: count, dtype: int64\n",
      "True\n"
     ]
    }
   ],
   "source": [
    "# Count the freight_cost_group values (for two sample test)\n",
    "counts = late_shipments['freight_cost_groups'].value_counts()\n",
    "\n",
    "# Print the result\n",
    "print(counts)\n",
    "\n",
    "# Inspect whether the counts are big enough\n",
    "print((counts >= 30).all())"
   ]
  },
  {
   "cell_type": "code",
   "execution_count": 144,
   "id": "55a70639-273a-47eb-8e31-74aba8682ddb",
   "metadata": {},
   "outputs": [
    {
     "name": "stdout",
     "output_type": "stream",
     "text": [
      "late\n",
      "No     939\n",
      "Yes     61\n",
      "Name: count, dtype: int64\n",
      "True\n"
     ]
    }
   ],
   "source": [
    "# Count the late values (for one sample proportion test)\n",
    "counts = late_shipments['late'].value_counts()\n",
    "\n",
    "# Print the result\n",
    "print(counts)\n",
    "\n",
    "# Inspect whether the counts are big enough\n",
    "print((counts >= 10).all())"
   ]
  },
  {
   "cell_type": "code",
   "execution_count": 146,
   "id": "05d26a5c-2370-44d1-99df-88d59e24eb07",
   "metadata": {},
   "outputs": [
    {
     "name": "stdout",
     "output_type": "stream",
     "text": [
      "vendor_inco_term  freight_cost_groups\n",
      "CIP               reasonable              34\n",
      "                  expensive               16\n",
      "DDP               expensive               55\n",
      "                  reasonable              45\n",
      "DDU               reasonable               1\n",
      "EXW               expensive              423\n",
      "                  reasonable             302\n",
      "FCA               reasonable              73\n",
      "                  expensive               37\n",
      "Name: count, dtype: int64\n",
      "False\n"
     ]
    }
   ],
   "source": [
    "# Count the values of freight_cost_group grouped by vendor_inco_term (for chi-square test)\n",
    "counts = late_shipments.groupby('vendor_inco_term')['freight_cost_groups'].value_counts()\n",
    "\n",
    "# Print the result\n",
    "print(counts)\n",
    "\n",
    "# Inspect whether the counts are big enough\n",
    "print((counts >= 5).all())\n"
   ]
  },
  {
   "cell_type": "code",
   "execution_count": 147,
   "id": "48accbba-49cc-4d6c-8a5a-a591f4890191",
   "metadata": {},
   "outputs": [
    {
     "name": "stdout",
     "output_type": "stream",
     "text": [
      "shipment_mode\n",
      "Air            906\n",
      "Ocean           88\n",
      "Air Charter      6\n",
      "Name: count, dtype: int64\n",
      "False\n"
     ]
    }
   ],
   "source": [
    "# Count the shipment_mode values (for ANOVA test)\n",
    "counts = late_shipments['shipment_mode'].value_counts()\n",
    "\n",
    "# Print the result\n",
    "print(counts)\n",
    "\n",
    "# Inspect whether the counts are big enough\n",
    "print((counts >= 30).all())"
   ]
  },
  {
   "cell_type": "code",
   "execution_count": null,
   "id": "0f7639ce-b948-493b-9170-154055ae71f7",
   "metadata": {},
   "outputs": [],
   "source": [
    "# You'll explore the difference between the proportion of county-level votes for the Democratic candidate in 2012 and 2016 to identify if the difference is significant."
   ]
  },
  {
   "cell_type": "code",
   "execution_count": 149,
   "id": "89dc9f16-d88e-4b80-b005-5e17121a9ee3",
   "metadata": {},
   "outputs": [
    {
     "name": "stdout",
     "output_type": "stream",
     "text": [
      "                T  dof alternative          p-val         CI95%   cohen-d  \\\n",
      "T-test  30.298384  499   two-sided  3.600634e-115  [6.39, 7.27]  0.454202   \n",
      "\n",
      "              BF10  power  \n",
      "T-test  2.246e+111    1.0  \n"
     ]
    }
   ],
   "source": [
    "# Conduct a paired t-test on dem_percent_12 and dem_percent_16\n",
    "paired_test_results = pingouin.ttest(x=sample_dem_data['dem_percent_12'], \n",
    "                                     y=sample_dem_data['dem_percent_16'],\n",
    "                                     paired=True,\n",
    "                                     alternative=\"two-sided\")\n",
    "\n",
    "# Print paired t-test results\n",
    "print(paired_test_results)"
   ]
  },
  {
   "cell_type": "code",
   "execution_count": 150,
   "id": "2046e8e9-20b6-4f43-8283-48b516bcb7cc",
   "metadata": {},
   "outputs": [
    {
     "name": "stdout",
     "output_type": "stream",
     "text": [
      "           W-val alternative         p-val       RBC      CLES\n",
      "Wilcoxon  2401.0   two-sided  1.780396e-77  0.961661  0.644816\n"
     ]
    }
   ],
   "source": [
    "# Conduct a Wilcoxon test on dem_percent_12 and dem_percent_16\n",
    "wilcoxon_test_results = pingouin.wilcoxon(x=sample_dem_data['dem_percent_12'], \n",
    "                                          y=sample_dem_data['dem_percent_16'],\n",
    "                                          alternative=\"two-sided\")\n",
    "\n",
    "# Print Wilcoxon test results\n",
    " # Given the large sample size (500), you obtained similar results here between the parametric t-test and non-parametric Wilcoxon test with a very small p-value.\n",
    "print(wilcoxon_test_results)"
   ]
  },
  {
   "cell_type": "code",
   "execution_count": null,
   "id": "ab0ebbd3-41cb-419f-a05d-578406f32b8e",
   "metadata": {},
   "outputs": [],
   "source": [
    "# Wilcoxon-Mann-Whitney\n",
    "# Another class of non-parametric hypothesis tests are called rank sum tests. Ranks are the positions of numeric values from smallest to largest. Think of them as positions in running events: whoever has the fastest (smallest) time is rank 1, second fastest is rank 2, and so on.\n",
    "\n",
    "# By calculating on the ranks of data instead of the actual values, you can avoid making assumptions about the distribution of the test statistic. It's more robust in the same way that a median is more robust than a mean.\n",
    "\n",
    "# One common rank-based test is the Wilcoxon-Mann-Whitney test, which is like a non-parametric t-test."
   ]
  },
  {
   "cell_type": "code",
   "execution_count": 151,
   "id": "2d5fa771-c5b9-4f6d-afbd-ecc7c9992957",
   "metadata": {},
   "outputs": [
    {
     "data": {
      "text/html": [
       "<div>\n",
       "<style scoped>\n",
       "    .dataframe tbody tr th:only-of-type {\n",
       "        vertical-align: middle;\n",
       "    }\n",
       "\n",
       "    .dataframe tbody tr th {\n",
       "        vertical-align: top;\n",
       "    }\n",
       "\n",
       "    .dataframe thead th {\n",
       "        text-align: right;\n",
       "    }\n",
       "</style>\n",
       "<table border=\"1\" class=\"dataframe\">\n",
       "  <thead>\n",
       "    <tr style=\"text-align: right;\">\n",
       "      <th></th>\n",
       "      <th>weight_kilograms</th>\n",
       "      <th>late</th>\n",
       "    </tr>\n",
       "  </thead>\n",
       "  <tbody>\n",
       "    <tr>\n",
       "      <th>0</th>\n",
       "      <td>1426.0</td>\n",
       "      <td>Yes</td>\n",
       "    </tr>\n",
       "    <tr>\n",
       "      <th>1</th>\n",
       "      <td>10.0</td>\n",
       "      <td>No</td>\n",
       "    </tr>\n",
       "    <tr>\n",
       "      <th>2</th>\n",
       "      <td>3723.0</td>\n",
       "      <td>No</td>\n",
       "    </tr>\n",
       "    <tr>\n",
       "      <th>3</th>\n",
       "      <td>7698.0</td>\n",
       "      <td>No</td>\n",
       "    </tr>\n",
       "    <tr>\n",
       "      <th>4</th>\n",
       "      <td>56.0</td>\n",
       "      <td>No</td>\n",
       "    </tr>\n",
       "    <tr>\n",
       "      <th>...</th>\n",
       "      <td>...</td>\n",
       "      <td>...</td>\n",
       "    </tr>\n",
       "    <tr>\n",
       "      <th>995</th>\n",
       "      <td>43.0</td>\n",
       "      <td>No</td>\n",
       "    </tr>\n",
       "    <tr>\n",
       "      <th>996</th>\n",
       "      <td>99.0</td>\n",
       "      <td>No</td>\n",
       "    </tr>\n",
       "    <tr>\n",
       "      <th>997</th>\n",
       "      <td>881.0</td>\n",
       "      <td>Yes</td>\n",
       "    </tr>\n",
       "    <tr>\n",
       "      <th>998</th>\n",
       "      <td>16234.0</td>\n",
       "      <td>No</td>\n",
       "    </tr>\n",
       "    <tr>\n",
       "      <th>999</th>\n",
       "      <td>46.0</td>\n",
       "      <td>No</td>\n",
       "    </tr>\n",
       "  </tbody>\n",
       "</table>\n",
       "<p>1000 rows × 2 columns</p>\n",
       "</div>"
      ],
      "text/plain": [
       "     weight_kilograms late\n",
       "0              1426.0  Yes\n",
       "1                10.0   No\n",
       "2              3723.0   No\n",
       "3              7698.0   No\n",
       "4                56.0   No\n",
       "..                ...  ...\n",
       "995              43.0   No\n",
       "996              99.0   No\n",
       "997             881.0  Yes\n",
       "998           16234.0   No\n",
       "999              46.0   No\n",
       "\n",
       "[1000 rows x 2 columns]"
      ]
     },
     "execution_count": 151,
     "metadata": {},
     "output_type": "execute_result"
    }
   ],
   "source": [
    "# Select the weight_kilograms and late columns\n",
    "weight_vs_late = late_shipments[[\"weight_kilograms\", \"late\"]]\n",
    "\n",
    "weight_vs_late"
   ]
  },
  {
   "cell_type": "code",
   "execution_count": 152,
   "id": "cf247374-0648-49f2-9732-295bb9af4c56",
   "metadata": {},
   "outputs": [
    {
     "data": {
      "text/html": [
       "<div>\n",
       "<style scoped>\n",
       "    .dataframe tbody tr th:only-of-type {\n",
       "        vertical-align: middle;\n",
       "    }\n",
       "\n",
       "    .dataframe tbody tr th {\n",
       "        vertical-align: top;\n",
       "    }\n",
       "\n",
       "    .dataframe thead th {\n",
       "        text-align: right;\n",
       "    }\n",
       "</style>\n",
       "<table border=\"1\" class=\"dataframe\">\n",
       "  <thead>\n",
       "    <tr style=\"text-align: right;\">\n",
       "      <th>late</th>\n",
       "      <th>No</th>\n",
       "      <th>Yes</th>\n",
       "    </tr>\n",
       "  </thead>\n",
       "  <tbody>\n",
       "    <tr>\n",
       "      <th>0</th>\n",
       "      <td>NaN</td>\n",
       "      <td>1426.0</td>\n",
       "    </tr>\n",
       "    <tr>\n",
       "      <th>1</th>\n",
       "      <td>10.0</td>\n",
       "      <td>NaN</td>\n",
       "    </tr>\n",
       "    <tr>\n",
       "      <th>2</th>\n",
       "      <td>3723.0</td>\n",
       "      <td>NaN</td>\n",
       "    </tr>\n",
       "    <tr>\n",
       "      <th>3</th>\n",
       "      <td>7698.0</td>\n",
       "      <td>NaN</td>\n",
       "    </tr>\n",
       "    <tr>\n",
       "      <th>4</th>\n",
       "      <td>56.0</td>\n",
       "      <td>NaN</td>\n",
       "    </tr>\n",
       "    <tr>\n",
       "      <th>...</th>\n",
       "      <td>...</td>\n",
       "      <td>...</td>\n",
       "    </tr>\n",
       "    <tr>\n",
       "      <th>995</th>\n",
       "      <td>43.0</td>\n",
       "      <td>NaN</td>\n",
       "    </tr>\n",
       "    <tr>\n",
       "      <th>996</th>\n",
       "      <td>99.0</td>\n",
       "      <td>NaN</td>\n",
       "    </tr>\n",
       "    <tr>\n",
       "      <th>997</th>\n",
       "      <td>NaN</td>\n",
       "      <td>881.0</td>\n",
       "    </tr>\n",
       "    <tr>\n",
       "      <th>998</th>\n",
       "      <td>16234.0</td>\n",
       "      <td>NaN</td>\n",
       "    </tr>\n",
       "    <tr>\n",
       "      <th>999</th>\n",
       "      <td>46.0</td>\n",
       "      <td>NaN</td>\n",
       "    </tr>\n",
       "  </tbody>\n",
       "</table>\n",
       "<p>1000 rows × 2 columns</p>\n",
       "</div>"
      ],
      "text/plain": [
       "late       No     Yes\n",
       "0         NaN  1426.0\n",
       "1        10.0     NaN\n",
       "2      3723.0     NaN\n",
       "3      7698.0     NaN\n",
       "4        56.0     NaN\n",
       "..        ...     ...\n",
       "995      43.0     NaN\n",
       "996      99.0     NaN\n",
       "997       NaN   881.0\n",
       "998   16234.0     NaN\n",
       "999      46.0     NaN\n",
       "\n",
       "[1000 rows x 2 columns]"
      ]
     },
     "execution_count": 152,
     "metadata": {},
     "output_type": "execute_result"
    }
   ],
   "source": [
    "# Convert weight_vs_late into wide format\n",
    "weight_vs_late_wide = weight_vs_late.pivot(columns='late', \n",
    "                                           values='weight_kilograms')\n",
    "\n",
    "weight_vs_late_wide"
   ]
  },
  {
   "cell_type": "code",
   "execution_count": 153,
   "id": "01ec74cf-4338-45a5-a4ea-b65d92bca40e",
   "metadata": {},
   "outputs": [
    {
     "name": "stdout",
     "output_type": "stream",
     "text": [
      "       U-val alternative     p-val       RBC      CLES\n",
      "MWU  19134.0   two-sided  0.000014  0.331902  0.334049\n"
     ]
    }
   ],
   "source": [
    "# Run a two-sided Wilcoxon-Mann-Whitney test on weight_kilograms vs. late\n",
    "wmw_test = pingouin.mwu(x=weight_vs_late_wide['No'],\n",
    "                        y=weight_vs_late_wide['Yes'],\n",
    "                        alternative='two-sided')\n",
    "\n",
    "# Print the test results\n",
    "print(wmw_test)"
   ]
  },
  {
   "cell_type": "code",
   "execution_count": null,
   "id": "ad08a87a-814a-4a50-9c06-1cce49417c3a",
   "metadata": {},
   "outputs": [],
   "source": [
    "# Kruskal-Wallis\n",
    "# Recall that the Kruskal-Wallis test is a non-parametric version of an ANOVA test, comparing the means across multiple groups."
   ]
  },
  {
   "cell_type": "code",
   "execution_count": 154,
   "id": "1dfec4f1-58ad-4c20-9e46-4b22303618c0",
   "metadata": {},
   "outputs": [
    {
     "name": "stdout",
     "output_type": "stream",
     "text": [
      "                   Source  ddof1          H         p-unc\n",
      "Kruskal  vendor_inco_term      4  144.33604  3.327732e-30\n"
     ]
    }
   ],
   "source": [
    "# Run a Kruskal-Wallis test on weight_kilograms vs. shipment_mode\n",
    "kw_test = pingouin.kruskal(data = late_shipments, dv = 'weight_kilograms', between = 'vendor_inco_term')\n",
    "\n",
    "# Print the results\n",
    "print(kw_test)"
   ]
  },
  {
   "cell_type": "code",
   "execution_count": null,
   "id": "ed5d8a1e-6f7d-4bd7-9425-b24d5689c2a9",
   "metadata": {},
   "outputs": [],
   "source": []
  },
  {
   "cell_type": "code",
   "execution_count": null,
   "id": "202be28e-ea51-4094-95ea-1fbac67b37ad",
   "metadata": {},
   "outputs": [],
   "source": []
  }
 ],
 "metadata": {
  "kernelspec": {
   "display_name": "Py309",
   "language": "python",
   "name": "py309"
  },
  "language_info": {
   "codemirror_mode": {
    "name": "ipython",
    "version": 3
   },
   "file_extension": ".py",
   "mimetype": "text/x-python",
   "name": "python",
   "nbconvert_exporter": "python",
   "pygments_lexer": "ipython3",
   "version": "3.9.19"
  }
 },
 "nbformat": 4,
 "nbformat_minor": 5
}
