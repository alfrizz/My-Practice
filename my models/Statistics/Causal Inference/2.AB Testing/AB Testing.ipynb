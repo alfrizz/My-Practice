{
 "cells": [
  {
   "cell_type": "code",
   "execution_count": 1,
   "id": "5cf52088-b889-4221-9c6c-1cc5f69d3d7b",
   "metadata": {},
   "outputs": [],
   "source": [
    "# Randomization effects\n",
    "\n",
    "# Random assignment plays a critical role in A/B testing. Imagine you are a Data Scientist setting up an experiment to test the effects of different checkout page designs on business metrics.\n",
    "\n",
    "# You will explore sampling a percentage of users to simulate random enrollment of traffic into the experiment and check the distributions of certain attributes across randomly assigned users in each group. This allows you to verify the ability to generalize to the general traffic population, and isolate the impact of the one variable we are changing across groups: the check out page design."
   ]
  },
  {
   "cell_type": "code",
   "execution_count": 89,
   "id": "ed07cdb6-b8db-40a0-825b-dd380e43f523",
   "metadata": {},
   "outputs": [],
   "source": [
    "import pandas as pd\n",
    "import numpy as np\n",
    "import seaborn as sns\n",
    "import matplotlib.pyplot as plt\n",
    "from scipy.stats import binom, norm, chisquare\n",
    "from statsmodels.stats import power\n",
    "from statsmodels.stats.proportion import proportion_effectsize, proportions_ztest, proportion_confint\n",
    "# !pip install pingouin\n",
    "import pingouin as pg"
   ]
  },
  {
   "cell_type": "code",
   "execution_count": 3,
   "id": "06c70ff8-48ef-439f-aaad-1b2def2f9325",
   "metadata": {},
   "outputs": [
    {
     "data": {
      "text/html": [
       "<div>\n",
       "<style scoped>\n",
       "    .dataframe tbody tr th:only-of-type {\n",
       "        vertical-align: middle;\n",
       "    }\n",
       "\n",
       "    .dataframe tbody tr th {\n",
       "        vertical-align: top;\n",
       "    }\n",
       "\n",
       "    .dataframe thead th {\n",
       "        text-align: right;\n",
       "    }\n",
       "</style>\n",
       "<table border=\"1\" class=\"dataframe\">\n",
       "  <thead>\n",
       "    <tr style=\"text-align: right;\">\n",
       "      <th></th>\n",
       "      <th>Unnamed: 0</th>\n",
       "      <th>user_id</th>\n",
       "      <th>checkout_page</th>\n",
       "      <th>order_value</th>\n",
       "      <th>purchased</th>\n",
       "      <th>gender</th>\n",
       "      <th>browser</th>\n",
       "      <th>time_on_page</th>\n",
       "    </tr>\n",
       "  </thead>\n",
       "  <tbody>\n",
       "    <tr>\n",
       "      <th>0</th>\n",
       "      <td>0</td>\n",
       "      <td>877621</td>\n",
       "      <td>A</td>\n",
       "      <td>29.410131</td>\n",
       "      <td>1.0</td>\n",
       "      <td>F</td>\n",
       "      <td>chrome</td>\n",
       "      <td>66.168628</td>\n",
       "    </tr>\n",
       "    <tr>\n",
       "      <th>1</th>\n",
       "      <td>1</td>\n",
       "      <td>876599</td>\n",
       "      <td>A</td>\n",
       "      <td>NaN</td>\n",
       "      <td>0.0</td>\n",
       "      <td>M</td>\n",
       "      <td>firefox</td>\n",
       "      <td>49.801887</td>\n",
       "    </tr>\n",
       "    <tr>\n",
       "      <th>2</th>\n",
       "      <td>2</td>\n",
       "      <td>905407</td>\n",
       "      <td>A</td>\n",
       "      <td>27.446845</td>\n",
       "      <td>1.0</td>\n",
       "      <td>M</td>\n",
       "      <td>chrome</td>\n",
       "      <td>56.744856</td>\n",
       "    </tr>\n",
       "    <tr>\n",
       "      <th>3</th>\n",
       "      <td>3</td>\n",
       "      <td>883562</td>\n",
       "      <td>A</td>\n",
       "      <td>30.602233</td>\n",
       "      <td>1.0</td>\n",
       "      <td>M</td>\n",
       "      <td>safari</td>\n",
       "      <td>71.890718</td>\n",
       "    </tr>\n",
       "    <tr>\n",
       "      <th>4</th>\n",
       "      <td>4</td>\n",
       "      <td>840542</td>\n",
       "      <td>A</td>\n",
       "      <td>29.668895</td>\n",
       "      <td>1.0</td>\n",
       "      <td>F</td>\n",
       "      <td>safari</td>\n",
       "      <td>67.410696</td>\n",
       "    </tr>\n",
       "    <tr>\n",
       "      <th>...</th>\n",
       "      <td>...</td>\n",
       "      <td>...</td>\n",
       "      <td>...</td>\n",
       "      <td>...</td>\n",
       "      <td>...</td>\n",
       "      <td>...</td>\n",
       "      <td>...</td>\n",
       "      <td>...</td>\n",
       "    </tr>\n",
       "    <tr>\n",
       "      <th>8995</th>\n",
       "      <td>8995</td>\n",
       "      <td>903591</td>\n",
       "      <td>C</td>\n",
       "      <td>45.395883</td>\n",
       "      <td>1.0</td>\n",
       "      <td>M</td>\n",
       "      <td>safari</td>\n",
       "      <td>63.291767</td>\n",
       "    </tr>\n",
       "    <tr>\n",
       "      <th>8996</th>\n",
       "      <td>8996</td>\n",
       "      <td>883490</td>\n",
       "      <td>C</td>\n",
       "      <td>30.462670</td>\n",
       "      <td>1.0</td>\n",
       "      <td>F</td>\n",
       "      <td>safari</td>\n",
       "      <td>33.425340</td>\n",
       "    </tr>\n",
       "    <tr>\n",
       "      <th>8997</th>\n",
       "      <td>8997</td>\n",
       "      <td>914494</td>\n",
       "      <td>C</td>\n",
       "      <td>34.037979</td>\n",
       "      <td>1.0</td>\n",
       "      <td>M</td>\n",
       "      <td>chrome</td>\n",
       "      <td>40.575958</td>\n",
       "    </tr>\n",
       "    <tr>\n",
       "      <th>8998</th>\n",
       "      <td>8998</td>\n",
       "      <td>897280</td>\n",
       "      <td>C</td>\n",
       "      <td>28.937421</td>\n",
       "      <td>1.0</td>\n",
       "      <td>F</td>\n",
       "      <td>chrome</td>\n",
       "      <td>30.374843</td>\n",
       "    </tr>\n",
       "    <tr>\n",
       "      <th>8999</th>\n",
       "      <td>8999</td>\n",
       "      <td>846258</td>\n",
       "      <td>C</td>\n",
       "      <td>NaN</td>\n",
       "      <td>0.0</td>\n",
       "      <td>M</td>\n",
       "      <td>safari</td>\n",
       "      <td>41.694015</td>\n",
       "    </tr>\n",
       "  </tbody>\n",
       "</table>\n",
       "<p>9000 rows × 8 columns</p>\n",
       "</div>"
      ],
      "text/plain": [
       "      Unnamed: 0  user_id checkout_page  order_value  purchased gender  \\\n",
       "0              0   877621             A    29.410131        1.0      F   \n",
       "1              1   876599             A          NaN        0.0      M   \n",
       "2              2   905407             A    27.446845        1.0      M   \n",
       "3              3   883562             A    30.602233        1.0      M   \n",
       "4              4   840542             A    29.668895        1.0      F   \n",
       "...          ...      ...           ...          ...        ...    ...   \n",
       "8995        8995   903591             C    45.395883        1.0      M   \n",
       "8996        8996   883490             C    30.462670        1.0      F   \n",
       "8997        8997   914494             C    34.037979        1.0      M   \n",
       "8998        8998   897280             C    28.937421        1.0      F   \n",
       "8999        8999   846258             C          NaN        0.0      M   \n",
       "\n",
       "      browser  time_on_page  \n",
       "0      chrome     66.168628  \n",
       "1     firefox     49.801887  \n",
       "2      chrome     56.744856  \n",
       "3      safari     71.890718  \n",
       "4      safari     67.410696  \n",
       "...       ...           ...  \n",
       "8995   safari     63.291767  \n",
       "8996   safari     33.425340  \n",
       "8997   chrome     40.575958  \n",
       "8998   chrome     30.374843  \n",
       "8999   safari     41.694015  \n",
       "\n",
       "[9000 rows x 8 columns]"
      ]
     },
     "execution_count": 3,
     "metadata": {},
     "output_type": "execute_result"
    }
   ],
   "source": [
    "checkout = pd.read_csv('checkout.csv')\n",
    "checkout"
   ]
  },
  {
   "cell_type": "code",
   "execution_count": 4,
   "id": "65dfc406-92e9-48bb-b7b5-cdc7aef11cc9",
   "metadata": {},
   "outputs": [
    {
     "data": {
      "text/plain": [
       "browser\n",
       "safari     0.343333\n",
       "chrome     0.331444\n",
       "firefox    0.325222\n",
       "Name: proportion, dtype: float64"
      ]
     },
     "execution_count": 4,
     "metadata": {},
     "output_type": "execute_result"
    }
   ],
   "source": [
    "# Determine the normalized distribution of browser counts\n",
    "checkout['browser'].value_counts(normalize = True)"
   ]
  },
  {
   "cell_type": "code",
   "execution_count": 5,
   "id": "dfd3d20f-2116-4f6e-a4c8-5ca6fcfa3219",
   "metadata": {},
   "outputs": [
    {
     "data": {
      "text/html": [
       "<div>\n",
       "<style scoped>\n",
       "    .dataframe tbody tr th:only-of-type {\n",
       "        vertical-align: middle;\n",
       "    }\n",
       "\n",
       "    .dataframe tbody tr th {\n",
       "        vertical-align: top;\n",
       "    }\n",
       "\n",
       "    .dataframe thead th {\n",
       "        text-align: right;\n",
       "    }\n",
       "</style>\n",
       "<table border=\"1\" class=\"dataframe\">\n",
       "  <thead>\n",
       "    <tr style=\"text-align: right;\">\n",
       "      <th></th>\n",
       "      <th>Unnamed: 0</th>\n",
       "      <th>user_id</th>\n",
       "      <th>checkout_page</th>\n",
       "      <th>order_value</th>\n",
       "      <th>purchased</th>\n",
       "      <th>gender</th>\n",
       "      <th>browser</th>\n",
       "      <th>time_on_page</th>\n",
       "    </tr>\n",
       "  </thead>\n",
       "  <tbody>\n",
       "    <tr>\n",
       "      <th>7913</th>\n",
       "      <td>7913</td>\n",
       "      <td>855372</td>\n",
       "      <td>C</td>\n",
       "      <td>33.361225</td>\n",
       "      <td>1.0</td>\n",
       "      <td>F</td>\n",
       "      <td>safari</td>\n",
       "      <td>39.222451</td>\n",
       "    </tr>\n",
       "    <tr>\n",
       "      <th>4346</th>\n",
       "      <td>4346</td>\n",
       "      <td>890623</td>\n",
       "      <td>B</td>\n",
       "      <td>33.603184</td>\n",
       "      <td>1.0</td>\n",
       "      <td>M</td>\n",
       "      <td>safari</td>\n",
       "      <td>47.804245</td>\n",
       "    </tr>\n",
       "    <tr>\n",
       "      <th>492</th>\n",
       "      <td>492</td>\n",
       "      <td>895888</td>\n",
       "      <td>A</td>\n",
       "      <td>27.750711</td>\n",
       "      <td>1.0</td>\n",
       "      <td>F</td>\n",
       "      <td>chrome</td>\n",
       "      <td>58.203412</td>\n",
       "    </tr>\n",
       "    <tr>\n",
       "      <th>3164</th>\n",
       "      <td>3164</td>\n",
       "      <td>855895</td>\n",
       "      <td>B</td>\n",
       "      <td>20.809234</td>\n",
       "      <td>1.0</td>\n",
       "      <td>F</td>\n",
       "      <td>chrome</td>\n",
       "      <td>30.745645</td>\n",
       "    </tr>\n",
       "    <tr>\n",
       "      <th>7331</th>\n",
       "      <td>7331</td>\n",
       "      <td>879040</td>\n",
       "      <td>C</td>\n",
       "      <td>31.127705</td>\n",
       "      <td>1.0</td>\n",
       "      <td>M</td>\n",
       "      <td>safari</td>\n",
       "      <td>34.755410</td>\n",
       "    </tr>\n",
       "    <tr>\n",
       "      <th>...</th>\n",
       "      <td>...</td>\n",
       "      <td>...</td>\n",
       "      <td>...</td>\n",
       "      <td>...</td>\n",
       "      <td>...</td>\n",
       "      <td>...</td>\n",
       "      <td>...</td>\n",
       "      <td>...</td>\n",
       "    </tr>\n",
       "    <tr>\n",
       "      <th>4566</th>\n",
       "      <td>4566</td>\n",
       "      <td>899424</td>\n",
       "      <td>B</td>\n",
       "      <td>29.661650</td>\n",
       "      <td>1.0</td>\n",
       "      <td>F</td>\n",
       "      <td>chrome</td>\n",
       "      <td>42.548867</td>\n",
       "    </tr>\n",
       "    <tr>\n",
       "      <th>7143</th>\n",
       "      <td>7143</td>\n",
       "      <td>865840</td>\n",
       "      <td>C</td>\n",
       "      <td>29.144198</td>\n",
       "      <td>1.0</td>\n",
       "      <td>F</td>\n",
       "      <td>firefox</td>\n",
       "      <td>30.788395</td>\n",
       "    </tr>\n",
       "    <tr>\n",
       "      <th>7475</th>\n",
       "      <td>7475</td>\n",
       "      <td>883882</td>\n",
       "      <td>C</td>\n",
       "      <td>33.376349</td>\n",
       "      <td>1.0</td>\n",
       "      <td>F</td>\n",
       "      <td>chrome</td>\n",
       "      <td>39.252697</td>\n",
       "    </tr>\n",
       "    <tr>\n",
       "      <th>5388</th>\n",
       "      <td>5388</td>\n",
       "      <td>892177</td>\n",
       "      <td>B</td>\n",
       "      <td>28.078255</td>\n",
       "      <td>1.0</td>\n",
       "      <td>M</td>\n",
       "      <td>chrome</td>\n",
       "      <td>40.437673</td>\n",
       "    </tr>\n",
       "    <tr>\n",
       "      <th>2464</th>\n",
       "      <td>2464</td>\n",
       "      <td>847104</td>\n",
       "      <td>A</td>\n",
       "      <td>28.057194</td>\n",
       "      <td>1.0</td>\n",
       "      <td>M</td>\n",
       "      <td>chrome</td>\n",
       "      <td>59.674529</td>\n",
       "    </tr>\n",
       "  </tbody>\n",
       "</table>\n",
       "<p>2000 rows × 8 columns</p>\n",
       "</div>"
      ],
      "text/plain": [
       "      Unnamed: 0  user_id checkout_page  order_value  purchased gender  \\\n",
       "7913        7913   855372             C    33.361225        1.0      F   \n",
       "4346        4346   890623             B    33.603184        1.0      M   \n",
       "492          492   895888             A    27.750711        1.0      F   \n",
       "3164        3164   855895             B    20.809234        1.0      F   \n",
       "7331        7331   879040             C    31.127705        1.0      M   \n",
       "...          ...      ...           ...          ...        ...    ...   \n",
       "4566        4566   899424             B    29.661650        1.0      F   \n",
       "7143        7143   865840             C    29.144198        1.0      F   \n",
       "7475        7475   883882             C    33.376349        1.0      F   \n",
       "5388        5388   892177             B    28.078255        1.0      M   \n",
       "2464        2464   847104             A    28.057194        1.0      M   \n",
       "\n",
       "      browser  time_on_page  \n",
       "7913   safari     39.222451  \n",
       "4346   safari     47.804245  \n",
       "492    chrome     58.203412  \n",
       "3164   chrome     30.745645  \n",
       "7331   safari     34.755410  \n",
       "...       ...           ...  \n",
       "4566   chrome     42.548867  \n",
       "7143  firefox     30.788395  \n",
       "7475   chrome     39.252697  \n",
       "5388   chrome     40.437673  \n",
       "2464   chrome     59.674529  \n",
       "\n",
       "[2000 rows x 8 columns]"
      ]
     },
     "execution_count": 5,
     "metadata": {},
     "output_type": "execute_result"
    }
   ],
   "source": [
    "# Draw a random sample of rows\n",
    "sample_df = checkout.sample(n = 2000)\n",
    "\n",
    "sample_df"
   ]
  },
  {
   "cell_type": "code",
   "execution_count": 6,
   "id": "a7441915-aba1-4409-bc00-e491c91d6989",
   "metadata": {},
   "outputs": [
    {
     "data": {
      "text/plain": [
       "browser\n",
       "safari     0.3535\n",
       "firefox    0.3400\n",
       "chrome     0.3065\n",
       "Name: proportion, dtype: float64"
      ]
     },
     "execution_count": 6,
     "metadata": {},
     "output_type": "execute_result"
    }
   ],
   "source": [
    "# Check the counts distribution of sampled users' browsers\n",
    "sample_df['browser'].value_counts(normalize = True)\n"
   ]
  },
  {
   "cell_type": "code",
   "execution_count": 7,
   "id": "03e77c78-c2e6-4bf1-a3a6-cafa4b2d5135",
   "metadata": {},
   "outputs": [
    {
     "data": {
      "text/plain": [
       "checkout_page  browser\n",
       "A              chrome     0.341333\n",
       "               safari     0.332000\n",
       "               firefox    0.326667\n",
       "B              safari     0.352000\n",
       "               firefox    0.325000\n",
       "               chrome     0.323000\n",
       "C              safari     0.346000\n",
       "               chrome     0.330000\n",
       "               firefox    0.324000\n",
       "Name: proportion, dtype: float64"
      ]
     },
     "execution_count": 7,
     "metadata": {},
     "output_type": "execute_result"
    }
   ],
   "source": [
    "# Check the counts distribution of browsers across checkout pages\n",
    "checkout.groupby('checkout_page')['browser'].value_counts(normalize = True)"
   ]
  },
  {
   "cell_type": "code",
   "execution_count": 8,
   "id": "c037c755-a451-49aa-ae04-ba73754ad9d3",
   "metadata": {},
   "outputs": [],
   "source": [
    "# Correlation visualization\n",
    "\n",
    "# Though correlations do not imply causation, they quantify the strength and direction to which two variables are associated. This is especially useful in situations where A/B tests are not feasible due to lack of resources or limited data/user-base.\n",
    "\n",
    "# The admissions dataset is loaded for you and includes various information like GRE score, TOEFL score, SOP (Statement of Purpose), LOR (Letter of Recommendation), CGPA, and chance of admission. You will examine the relationship between some of these attributes and how the chances of admission changes with changes in these variables."
   ]
  },
  {
   "cell_type": "code",
   "execution_count": 9,
   "id": "1b42c294-0a9b-413e-bc21-851ac5fbf195",
   "metadata": {},
   "outputs": [
    {
     "data": {
      "text/html": [
       "<div>\n",
       "<style scoped>\n",
       "    .dataframe tbody tr th:only-of-type {\n",
       "        vertical-align: middle;\n",
       "    }\n",
       "\n",
       "    .dataframe tbody tr th {\n",
       "        vertical-align: top;\n",
       "    }\n",
       "\n",
       "    .dataframe thead th {\n",
       "        text-align: right;\n",
       "    }\n",
       "</style>\n",
       "<table border=\"1\" class=\"dataframe\">\n",
       "  <thead>\n",
       "    <tr style=\"text-align: right;\">\n",
       "      <th></th>\n",
       "      <th>Serial No.</th>\n",
       "      <th>GRE Score</th>\n",
       "      <th>TOEFL Score</th>\n",
       "      <th>University Rating</th>\n",
       "      <th>SOP</th>\n",
       "      <th>LOR</th>\n",
       "      <th>CGPA</th>\n",
       "      <th>Research</th>\n",
       "      <th>Chance of Admit</th>\n",
       "    </tr>\n",
       "  </thead>\n",
       "  <tbody>\n",
       "    <tr>\n",
       "      <th>0</th>\n",
       "      <td>1</td>\n",
       "      <td>337</td>\n",
       "      <td>118</td>\n",
       "      <td>4</td>\n",
       "      <td>4.5</td>\n",
       "      <td>4.5</td>\n",
       "      <td>9.65</td>\n",
       "      <td>1</td>\n",
       "      <td>0.92</td>\n",
       "    </tr>\n",
       "    <tr>\n",
       "      <th>1</th>\n",
       "      <td>2</td>\n",
       "      <td>324</td>\n",
       "      <td>107</td>\n",
       "      <td>4</td>\n",
       "      <td>4.0</td>\n",
       "      <td>4.5</td>\n",
       "      <td>8.87</td>\n",
       "      <td>1</td>\n",
       "      <td>0.76</td>\n",
       "    </tr>\n",
       "    <tr>\n",
       "      <th>2</th>\n",
       "      <td>3</td>\n",
       "      <td>316</td>\n",
       "      <td>104</td>\n",
       "      <td>3</td>\n",
       "      <td>3.0</td>\n",
       "      <td>3.5</td>\n",
       "      <td>8.00</td>\n",
       "      <td>1</td>\n",
       "      <td>0.72</td>\n",
       "    </tr>\n",
       "    <tr>\n",
       "      <th>3</th>\n",
       "      <td>4</td>\n",
       "      <td>322</td>\n",
       "      <td>110</td>\n",
       "      <td>3</td>\n",
       "      <td>3.5</td>\n",
       "      <td>2.5</td>\n",
       "      <td>8.67</td>\n",
       "      <td>1</td>\n",
       "      <td>0.80</td>\n",
       "    </tr>\n",
       "    <tr>\n",
       "      <th>4</th>\n",
       "      <td>5</td>\n",
       "      <td>314</td>\n",
       "      <td>103</td>\n",
       "      <td>2</td>\n",
       "      <td>2.0</td>\n",
       "      <td>3.0</td>\n",
       "      <td>8.21</td>\n",
       "      <td>0</td>\n",
       "      <td>0.65</td>\n",
       "    </tr>\n",
       "    <tr>\n",
       "      <th>...</th>\n",
       "      <td>...</td>\n",
       "      <td>...</td>\n",
       "      <td>...</td>\n",
       "      <td>...</td>\n",
       "      <td>...</td>\n",
       "      <td>...</td>\n",
       "      <td>...</td>\n",
       "      <td>...</td>\n",
       "      <td>...</td>\n",
       "    </tr>\n",
       "    <tr>\n",
       "      <th>395</th>\n",
       "      <td>396</td>\n",
       "      <td>324</td>\n",
       "      <td>110</td>\n",
       "      <td>3</td>\n",
       "      <td>3.5</td>\n",
       "      <td>3.5</td>\n",
       "      <td>9.04</td>\n",
       "      <td>1</td>\n",
       "      <td>0.82</td>\n",
       "    </tr>\n",
       "    <tr>\n",
       "      <th>396</th>\n",
       "      <td>397</td>\n",
       "      <td>325</td>\n",
       "      <td>107</td>\n",
       "      <td>3</td>\n",
       "      <td>3.0</td>\n",
       "      <td>3.5</td>\n",
       "      <td>9.11</td>\n",
       "      <td>1</td>\n",
       "      <td>0.84</td>\n",
       "    </tr>\n",
       "    <tr>\n",
       "      <th>397</th>\n",
       "      <td>398</td>\n",
       "      <td>330</td>\n",
       "      <td>116</td>\n",
       "      <td>4</td>\n",
       "      <td>5.0</td>\n",
       "      <td>4.5</td>\n",
       "      <td>9.45</td>\n",
       "      <td>1</td>\n",
       "      <td>0.91</td>\n",
       "    </tr>\n",
       "    <tr>\n",
       "      <th>398</th>\n",
       "      <td>399</td>\n",
       "      <td>312</td>\n",
       "      <td>103</td>\n",
       "      <td>3</td>\n",
       "      <td>3.5</td>\n",
       "      <td>4.0</td>\n",
       "      <td>8.78</td>\n",
       "      <td>0</td>\n",
       "      <td>0.67</td>\n",
       "    </tr>\n",
       "    <tr>\n",
       "      <th>399</th>\n",
       "      <td>400</td>\n",
       "      <td>333</td>\n",
       "      <td>117</td>\n",
       "      <td>4</td>\n",
       "      <td>5.0</td>\n",
       "      <td>4.0</td>\n",
       "      <td>9.66</td>\n",
       "      <td>1</td>\n",
       "      <td>0.95</td>\n",
       "    </tr>\n",
       "  </tbody>\n",
       "</table>\n",
       "<p>400 rows × 9 columns</p>\n",
       "</div>"
      ],
      "text/plain": [
       "     Serial No.  GRE Score  TOEFL Score  University Rating  SOP  LOR   CGPA  \\\n",
       "0             1        337          118                  4  4.5   4.5  9.65   \n",
       "1             2        324          107                  4  4.0   4.5  8.87   \n",
       "2             3        316          104                  3  3.0   3.5  8.00   \n",
       "3             4        322          110                  3  3.5   2.5  8.67   \n",
       "4             5        314          103                  2  2.0   3.0  8.21   \n",
       "..          ...        ...          ...                ...  ...   ...   ...   \n",
       "395         396        324          110                  3  3.5   3.5  9.04   \n",
       "396         397        325          107                  3  3.0   3.5  9.11   \n",
       "397         398        330          116                  4  5.0   4.5  9.45   \n",
       "398         399        312          103                  3  3.5   4.0  8.78   \n",
       "399         400        333          117                  4  5.0   4.0  9.66   \n",
       "\n",
       "     Research  Chance of Admit  \n",
       "0           1             0.92  \n",
       "1           1             0.76  \n",
       "2           1             0.72  \n",
       "3           1             0.80  \n",
       "4           0             0.65  \n",
       "..        ...              ...  \n",
       "395         1             0.82  \n",
       "396         1             0.84  \n",
       "397         1             0.91  \n",
       "398         0             0.67  \n",
       "399         1             0.95  \n",
       "\n",
       "[400 rows x 9 columns]"
      ]
     },
     "execution_count": 9,
     "metadata": {},
     "output_type": "execute_result"
    }
   ],
   "source": [
    "admissions = pd.read_csv('admissions.csv')\n",
    "admissions"
   ]
  },
  {
   "cell_type": "code",
   "execution_count": 10,
   "id": "4e9a57ed-ac85-43e3-89d3-7ae4e330fbc5",
   "metadata": {},
   "outputs": [
    {
     "name": "stderr",
     "output_type": "stream",
     "text": [
      "C:\\Users\\Alienware\\miniconda3\\envs\\py310\\lib\\site-packages\\seaborn\\_oldcore.py:1119: FutureWarning: use_inf_as_na option is deprecated and will be removed in a future version. Convert inf values to NaN before operating instead.\n",
      "  with pd.option_context('mode.use_inf_as_na', True):\n",
      "C:\\Users\\Alienware\\miniconda3\\envs\\py310\\lib\\site-packages\\seaborn\\_oldcore.py:1119: FutureWarning: use_inf_as_na option is deprecated and will be removed in a future version. Convert inf values to NaN before operating instead.\n",
      "  with pd.option_context('mode.use_inf_as_na', True):\n",
      "C:\\Users\\Alienware\\miniconda3\\envs\\py310\\lib\\site-packages\\seaborn\\_oldcore.py:1119: FutureWarning: use_inf_as_na option is deprecated and will be removed in a future version. Convert inf values to NaN before operating instead.\n",
      "  with pd.option_context('mode.use_inf_as_na', True):\n",
      "C:\\Users\\Alienware\\miniconda3\\envs\\py310\\lib\\site-packages\\seaborn\\_oldcore.py:1119: FutureWarning: use_inf_as_na option is deprecated and will be removed in a future version. Convert inf values to NaN before operating instead.\n",
      "  with pd.option_context('mode.use_inf_as_na', True):\n"
     ]
    },
    {
     "data": {
      "image/png": "[encoded data removed]",
      "text/plain": [
       "<Figure size 1000x1000 with 20 Axes>"
      ]
     },
     "metadata": {},
     "output_type": "display_data"
    }
   ],
   "source": [
    "# Visualize the variables in a pairplot\n",
    "sns.pairplot(admissions[['Serial No.', 'TOEFL Score', 'SOP', 'Chance of Admit']])\n",
    "plt.show()"
   ]
  },
  {
   "cell_type": "code",
   "execution_count": 11,
   "id": "ed9edf58-84b9-49bf-9ce2-32f135ab56bf",
   "metadata": {},
   "outputs": [
    {
     "name": "stdout",
     "output_type": "stream",
     "text": [
      "                 Serial No.  TOEFL Score       SOP  Chance of Admit\n",
      "Serial No.         1.000000    -0.147932 -0.166932         0.042336\n",
      "TOEFL Score       -0.147932     1.000000  0.657981         0.791594\n",
      "SOP               -0.166932     0.657981  1.000000         0.675732\n",
      "Chance of Admit    0.042336     0.791594  0.675732         1.000000\n"
     ]
    }
   ],
   "source": [
    "# Print Pearson's correlation coefficients\n",
    "print(admissions[['Serial No.', 'TOEFL Score', 'SOP','Chance of Admit']].corr())"
   ]
  },
  {
   "cell_type": "code",
   "execution_count": 12,
   "id": "e57ec717-52af-4a3a-9711-b8f30f569cdd",
   "metadata": {},
   "outputs": [
    {
     "data": {
      "image/png": "[encoded data removed]",
      "text/plain": [
       "<Figure size 640x480 with 2 Axes>"
      ]
     },
     "metadata": {},
     "output_type": "display_data"
    }
   ],
   "source": [
    "# Visualize the coefficients in a heatmap\n",
    "sns.heatmap(admissions[['Serial No.', 'TOEFL Score', 'SOP','Chance of Admit']].corr(), annot = True)\n",
    "plt.show()"
   ]
  },
  {
   "cell_type": "code",
   "execution_count": 13,
   "id": "cfeb62a1-6465-49e2-af00-c96b709de4bc",
   "metadata": {},
   "outputs": [],
   "source": [
    "# Means and proportions\n",
    "\n",
    "# Mean and proportion estimates usually serve as great primary metrics when aligned with the business goals.\n",
    "\n",
    "# The checkout DataFrame is loaded for you, where every row corresponds to a unique user visiting the respective checkout_page along with their actions and additional attributes. A '1' value in the purchased column corresponds to a user purchasing an item, and a '0' means they have abandoned the page without purchasing. You will examine the data and calculate both mean and proportions as an exploratory step towards evaluating which design performs best."
   ]
  },
  {
   "cell_type": "code",
   "execution_count": 14,
   "id": "c7155527-8fa7-49d3-8092-fd2d2d6a39ab",
   "metadata": {},
   "outputs": [
    {
     "data": {
      "text/plain": [
       "checkout_page\n",
       "A    24.956437\n",
       "B    29.876202\n",
       "C    34.917589\n",
       "Name: order_value, dtype: float64"
      ]
     },
     "execution_count": 14,
     "metadata": {},
     "output_type": "execute_result"
    }
   ],
   "source": [
    "# Calculate the mean order value for each group\n",
    "checkout.groupby('checkout_page')['order_value'].mean()"
   ]
  },
  {
   "cell_type": "code",
   "execution_count": 15,
   "id": "2dd0afc9-978e-4f0e-aeb2-6ef61e56df35",
   "metadata": {},
   "outputs": [
    {
     "data": {
      "text/plain": [
       "checkout_page\n",
       "A    0.820333\n",
       "B    0.847000\n",
       "C    0.867667\n",
       "Name: purchased, dtype: float64"
      ]
     },
     "execution_count": 15,
     "metadata": {},
     "output_type": "execute_result"
    }
   ],
   "source": [
    "# Calculate the proportion of users who purchased for each page\n",
    "checkout.groupby('checkout_page')['purchased'].mean()"
   ]
  },
  {
   "cell_type": "code",
   "execution_count": 16,
   "id": "45c2de2d-b0c9-482e-8cd0-ea7569becd17",
   "metadata": {},
   "outputs": [
    {
     "data": {
      "text/html": [
       "<div>\n",
       "<style scoped>\n",
       "    .dataframe tbody tr th:only-of-type {\n",
       "        vertical-align: middle;\n",
       "    }\n",
       "\n",
       "    .dataframe tbody tr th {\n",
       "        vertical-align: top;\n",
       "    }\n",
       "\n",
       "    .dataframe thead th {\n",
       "        text-align: right;\n",
       "    }\n",
       "</style>\n",
       "<table border=\"1\" class=\"dataframe\">\n",
       "  <thead>\n",
       "    <tr style=\"text-align: right;\">\n",
       "      <th></th>\n",
       "      <th>order_value</th>\n",
       "      <th>purchased</th>\n",
       "    </tr>\n",
       "    <tr>\n",
       "      <th>checkout_page</th>\n",
       "      <th></th>\n",
       "      <th></th>\n",
       "    </tr>\n",
       "  </thead>\n",
       "  <tbody>\n",
       "    <tr>\n",
       "      <th>A</th>\n",
       "      <td>24.956437</td>\n",
       "      <td>0.820333</td>\n",
       "    </tr>\n",
       "    <tr>\n",
       "      <th>B</th>\n",
       "      <td>29.876202</td>\n",
       "      <td>0.847000</td>\n",
       "    </tr>\n",
       "    <tr>\n",
       "      <th>C</th>\n",
       "      <td>34.917589</td>\n",
       "      <td>0.867667</td>\n",
       "    </tr>\n",
       "  </tbody>\n",
       "</table>\n",
       "</div>"
      ],
      "text/plain": [
       "               order_value  purchased\n",
       "checkout_page                        \n",
       "A                24.956437   0.820333\n",
       "B                29.876202   0.847000\n",
       "C                34.917589   0.867667"
      ]
     },
     "execution_count": 16,
     "metadata": {},
     "output_type": "execute_result"
    }
   ],
   "source": [
    "# Calculate the proportion of users who purchased and the mean order value\n",
    "checkout.groupby('checkout_page')[['order_value', 'purchased']].mean()"
   ]
  },
  {
   "cell_type": "code",
   "execution_count": 17,
   "id": "9c3f86e9-bcde-40aa-9abe-b0c105c4be06",
   "metadata": {},
   "outputs": [],
   "source": [
    "# Ad impressions metrics\n",
    "\n",
    "# An advertising company has developed a new ad to increase users' engagement with their questionnaire. The new ad was shown to a percentage of users in the exposed group and a dummy ad was shown to the control. Consider yourself the Data Analyst responsible for interpreting the results of the test. The first step you decide to take is to define and estimate useful metrics to begin evaluating the success of the marketing initiative."
   ]
  },
  {
   "cell_type": "code",
   "execution_count": 18,
   "id": "2741bf60-8259-4ea1-aa1f-360be5d5cd65",
   "metadata": {},
   "outputs": [
    {
     "data": {
      "text/html": [
       "<div>\n",
       "<style scoped>\n",
       "    .dataframe tbody tr th:only-of-type {\n",
       "        vertical-align: middle;\n",
       "    }\n",
       "\n",
       "    .dataframe tbody tr th {\n",
       "        vertical-align: top;\n",
       "    }\n",
       "\n",
       "    .dataframe thead th {\n",
       "        text-align: right;\n",
       "    }\n",
       "</style>\n",
       "<table border=\"1\" class=\"dataframe\">\n",
       "  <thead>\n",
       "    <tr style=\"text-align: right;\">\n",
       "      <th></th>\n",
       "      <th>auction_id</th>\n",
       "      <th>experiment</th>\n",
       "      <th>date</th>\n",
       "      <th>hour</th>\n",
       "      <th>device_make</th>\n",
       "      <th>platform_os</th>\n",
       "      <th>browser</th>\n",
       "      <th>yes</th>\n",
       "      <th>no</th>\n",
       "    </tr>\n",
       "  </thead>\n",
       "  <tbody>\n",
       "    <tr>\n",
       "      <th>0</th>\n",
       "      <td>0008ef63-77a7-448b-bd1e-075f42c55e39</td>\n",
       "      <td>exposed</td>\n",
       "      <td>2020-07-10</td>\n",
       "      <td>8</td>\n",
       "      <td>Generic Smartphone</td>\n",
       "      <td>6</td>\n",
       "      <td>Chrome Mobile</td>\n",
       "      <td>0</td>\n",
       "      <td>0</td>\n",
       "    </tr>\n",
       "    <tr>\n",
       "      <th>1</th>\n",
       "      <td>000eabc5-17ce-4137-8efe-44734d914446</td>\n",
       "      <td>exposed</td>\n",
       "      <td>2020-07-07</td>\n",
       "      <td>10</td>\n",
       "      <td>Generic Smartphone</td>\n",
       "      <td>6</td>\n",
       "      <td>Chrome Mobile</td>\n",
       "      <td>0</td>\n",
       "      <td>0</td>\n",
       "    </tr>\n",
       "    <tr>\n",
       "      <th>2</th>\n",
       "      <td>0016d14a-ae18-4a02-a204-6ba53b52f2ed</td>\n",
       "      <td>exposed</td>\n",
       "      <td>2020-07-05</td>\n",
       "      <td>2</td>\n",
       "      <td>E5823</td>\n",
       "      <td>6</td>\n",
       "      <td>Chrome Mobile WebView</td>\n",
       "      <td>0</td>\n",
       "      <td>1</td>\n",
       "    </tr>\n",
       "    <tr>\n",
       "      <th>3</th>\n",
       "      <td>00187412-2932-4542-a8ef-3633901c98d9</td>\n",
       "      <td>control</td>\n",
       "      <td>2020-07-03</td>\n",
       "      <td>15</td>\n",
       "      <td>Samsung SM-A705FN</td>\n",
       "      <td>6</td>\n",
       "      <td>Facebook</td>\n",
       "      <td>0</td>\n",
       "      <td>0</td>\n",
       "    </tr>\n",
       "    <tr>\n",
       "      <th>4</th>\n",
       "      <td>001a7785-d3fe-4e11-a344-c8735acacc2c</td>\n",
       "      <td>control</td>\n",
       "      <td>2020-07-03</td>\n",
       "      <td>15</td>\n",
       "      <td>Generic Smartphone</td>\n",
       "      <td>6</td>\n",
       "      <td>Chrome Mobile</td>\n",
       "      <td>0</td>\n",
       "      <td>0</td>\n",
       "    </tr>\n",
       "    <tr>\n",
       "      <th>...</th>\n",
       "      <td>...</td>\n",
       "      <td>...</td>\n",
       "      <td>...</td>\n",
       "      <td>...</td>\n",
       "      <td>...</td>\n",
       "      <td>...</td>\n",
       "      <td>...</td>\n",
       "      <td>...</td>\n",
       "      <td>...</td>\n",
       "    </tr>\n",
       "    <tr>\n",
       "      <th>8072</th>\n",
       "      <td>ffea24ec-cec1-43fb-b1d1-8f93828c2be2</td>\n",
       "      <td>exposed</td>\n",
       "      <td>2020-07-05</td>\n",
       "      <td>7</td>\n",
       "      <td>Generic Smartphone</td>\n",
       "      <td>6</td>\n",
       "      <td>Chrome Mobile</td>\n",
       "      <td>0</td>\n",
       "      <td>0</td>\n",
       "    </tr>\n",
       "    <tr>\n",
       "      <th>8073</th>\n",
       "      <td>ffea3210-2c3e-426f-a77d-0aa72e73b20f</td>\n",
       "      <td>control</td>\n",
       "      <td>2020-07-03</td>\n",
       "      <td>15</td>\n",
       "      <td>Generic Smartphone</td>\n",
       "      <td>6</td>\n",
       "      <td>Chrome Mobile</td>\n",
       "      <td>0</td>\n",
       "      <td>0</td>\n",
       "    </tr>\n",
       "    <tr>\n",
       "      <th>8074</th>\n",
       "      <td>ffeaa0f1-1d72-4ba9-afb4-314b3b00a7c7</td>\n",
       "      <td>control</td>\n",
       "      <td>2020-07-04</td>\n",
       "      <td>9</td>\n",
       "      <td>Generic Smartphone</td>\n",
       "      <td>6</td>\n",
       "      <td>Chrome Mobile</td>\n",
       "      <td>0</td>\n",
       "      <td>0</td>\n",
       "    </tr>\n",
       "    <tr>\n",
       "      <th>8075</th>\n",
       "      <td>ffeeed62-3f7c-4a6e-8ba7-95d303d40969</td>\n",
       "      <td>exposed</td>\n",
       "      <td>2020-07-05</td>\n",
       "      <td>15</td>\n",
       "      <td>Samsung SM-A515F</td>\n",
       "      <td>6</td>\n",
       "      <td>Samsung Internet</td>\n",
       "      <td>0</td>\n",
       "      <td>0</td>\n",
       "    </tr>\n",
       "    <tr>\n",
       "      <th>8076</th>\n",
       "      <td>fffbb9ff-568a-41a5-a0c3-6866592f80d8</td>\n",
       "      <td>control</td>\n",
       "      <td>2020-07-10</td>\n",
       "      <td>14</td>\n",
       "      <td>Samsung SM-G960F</td>\n",
       "      <td>6</td>\n",
       "      <td>Facebook</td>\n",
       "      <td>0</td>\n",
       "      <td>0</td>\n",
       "    </tr>\n",
       "  </tbody>\n",
       "</table>\n",
       "<p>8077 rows × 9 columns</p>\n",
       "</div>"
      ],
      "text/plain": [
       "                                auction_id experiment        date  hour  \\\n",
       "0     0008ef63-77a7-448b-bd1e-075f42c55e39    exposed  2020-07-10     8   \n",
       "1     000eabc5-17ce-4137-8efe-44734d914446    exposed  2020-07-07    10   \n",
       "2     0016d14a-ae18-4a02-a204-6ba53b52f2ed    exposed  2020-07-05     2   \n",
       "3     00187412-2932-4542-a8ef-3633901c98d9    control  2020-07-03    15   \n",
       "4     001a7785-d3fe-4e11-a344-c8735acacc2c    control  2020-07-03    15   \n",
       "...                                    ...        ...         ...   ...   \n",
       "8072  ffea24ec-cec1-43fb-b1d1-8f93828c2be2    exposed  2020-07-05     7   \n",
       "8073  ffea3210-2c3e-426f-a77d-0aa72e73b20f    control  2020-07-03    15   \n",
       "8074  ffeaa0f1-1d72-4ba9-afb4-314b3b00a7c7    control  2020-07-04     9   \n",
       "8075  ffeeed62-3f7c-4a6e-8ba7-95d303d40969    exposed  2020-07-05    15   \n",
       "8076  fffbb9ff-568a-41a5-a0c3-6866592f80d8    control  2020-07-10    14   \n",
       "\n",
       "             device_make  platform_os                browser  yes  no  \n",
       "0     Generic Smartphone            6          Chrome Mobile    0   0  \n",
       "1     Generic Smartphone            6          Chrome Mobile    0   0  \n",
       "2                  E5823            6  Chrome Mobile WebView    0   1  \n",
       "3      Samsung SM-A705FN            6               Facebook    0   0  \n",
       "4     Generic Smartphone            6          Chrome Mobile    0   0  \n",
       "...                  ...          ...                    ...  ...  ..  \n",
       "8072  Generic Smartphone            6          Chrome Mobile    0   0  \n",
       "8073  Generic Smartphone            6          Chrome Mobile    0   0  \n",
       "8074  Generic Smartphone            6          Chrome Mobile    0   0  \n",
       "8075    Samsung SM-A515F            6       Samsung Internet    0   0  \n",
       "8076    Samsung SM-G960F            6               Facebook    0   0  \n",
       "\n",
       "[8077 rows x 9 columns]"
      ]
     },
     "execution_count": 18,
     "metadata": {},
     "output_type": "execute_result"
    }
   ],
   "source": [
    "AdSmart = pd.read_csv('AdSmartABdata - AdSmartABdata.csv')\n",
    "AdSmart"
   ]
  },
  {
   "cell_type": "code",
   "execution_count": 19,
   "id": "4996bfd6-0f96-42df-a6a5-8247a44551d7",
   "metadata": {},
   "outputs": [
    {
     "data": {
      "text/html": [
       "<div>\n",
       "<style scoped>\n",
       "    .dataframe tbody tr th:only-of-type {\n",
       "        vertical-align: middle;\n",
       "    }\n",
       "\n",
       "    .dataframe tbody tr th {\n",
       "        vertical-align: top;\n",
       "    }\n",
       "\n",
       "    .dataframe thead th {\n",
       "        text-align: right;\n",
       "    }\n",
       "</style>\n",
       "<table border=\"1\" class=\"dataframe\">\n",
       "  <thead>\n",
       "    <tr style=\"text-align: right;\">\n",
       "      <th></th>\n",
       "      <th>auction_id</th>\n",
       "      <th>experiment</th>\n",
       "      <th>date</th>\n",
       "      <th>hour</th>\n",
       "      <th>device_make</th>\n",
       "      <th>platform_os</th>\n",
       "      <th>browser</th>\n",
       "      <th>yes</th>\n",
       "      <th>no</th>\n",
       "    </tr>\n",
       "  </thead>\n",
       "  <tbody>\n",
       "    <tr>\n",
       "      <th>20</th>\n",
       "      <td>00a1384a-5118-4d1b-925b-6cdada50318d</td>\n",
       "      <td>exposed</td>\n",
       "      <td>2020-07-06</td>\n",
       "      <td>8</td>\n",
       "      <td>Generic Smartphone</td>\n",
       "      <td>6</td>\n",
       "      <td>Chrome Mobile</td>\n",
       "      <td>0</td>\n",
       "      <td>1</td>\n",
       "    </tr>\n",
       "    <tr>\n",
       "      <th>23</th>\n",
       "      <td>00b6fadb-10bd-49e3-a778-290da82f7a8d</td>\n",
       "      <td>control</td>\n",
       "      <td>2020-07-08</td>\n",
       "      <td>4</td>\n",
       "      <td>Samsung SM-A202F</td>\n",
       "      <td>6</td>\n",
       "      <td>Facebook</td>\n",
       "      <td>1</td>\n",
       "      <td>0</td>\n",
       "    </tr>\n",
       "    <tr>\n",
       "      <th>39</th>\n",
       "      <td>013e45cf-e388-46a4-9c5b-a34303613940</td>\n",
       "      <td>exposed</td>\n",
       "      <td>2020-07-10</td>\n",
       "      <td>2</td>\n",
       "      <td>Generic Smartphone</td>\n",
       "      <td>6</td>\n",
       "      <td>Chrome Mobile</td>\n",
       "      <td>0</td>\n",
       "      <td>1</td>\n",
       "    </tr>\n",
       "    <tr>\n",
       "      <th>65</th>\n",
       "      <td>023ec7b5-cb8f-49a5-995f-e0d7c2f702e5</td>\n",
       "      <td>exposed</td>\n",
       "      <td>2020-07-09</td>\n",
       "      <td>13</td>\n",
       "      <td>Samsung SM-G935F</td>\n",
       "      <td>6</td>\n",
       "      <td>Facebook</td>\n",
       "      <td>1</td>\n",
       "      <td>0</td>\n",
       "    </tr>\n",
       "    <tr>\n",
       "      <th>80</th>\n",
       "      <td>02a9eba3-58b0-4759-b3ae-68a19cb2b59e</td>\n",
       "      <td>exposed</td>\n",
       "      <td>2020-07-09</td>\n",
       "      <td>20</td>\n",
       "      <td>Moto $2</td>\n",
       "      <td>6</td>\n",
       "      <td>Chrome Mobile WebView</td>\n",
       "      <td>0</td>\n",
       "      <td>1</td>\n",
       "    </tr>\n",
       "    <tr>\n",
       "      <th>...</th>\n",
       "      <td>...</td>\n",
       "      <td>...</td>\n",
       "      <td>...</td>\n",
       "      <td>...</td>\n",
       "      <td>...</td>\n",
       "      <td>...</td>\n",
       "      <td>...</td>\n",
       "      <td>...</td>\n",
       "      <td>...</td>\n",
       "    </tr>\n",
       "    <tr>\n",
       "      <th>8042</th>\n",
       "      <td>fee7da61-84fe-451b-95f4-ba2523fa987d</td>\n",
       "      <td>exposed</td>\n",
       "      <td>2020-07-09</td>\n",
       "      <td>14</td>\n",
       "      <td>Generic Smartphone</td>\n",
       "      <td>6</td>\n",
       "      <td>Chrome Mobile</td>\n",
       "      <td>1</td>\n",
       "      <td>0</td>\n",
       "    </tr>\n",
       "    <tr>\n",
       "      <th>8054</th>\n",
       "      <td>ff82e341-b72c-4531-b87e-1e11dc35d3fc</td>\n",
       "      <td>exposed</td>\n",
       "      <td>2020-07-10</td>\n",
       "      <td>8</td>\n",
       "      <td>Samsung SM-G973F</td>\n",
       "      <td>6</td>\n",
       "      <td>Samsung Internet</td>\n",
       "      <td>1</td>\n",
       "      <td>0</td>\n",
       "    </tr>\n",
       "    <tr>\n",
       "      <th>8058</th>\n",
       "      <td>ff95df43-63b4-48c8-8497-781ba7952eec</td>\n",
       "      <td>exposed</td>\n",
       "      <td>2020-07-09</td>\n",
       "      <td>18</td>\n",
       "      <td>Generic Smartphone</td>\n",
       "      <td>6</td>\n",
       "      <td>Chrome Mobile</td>\n",
       "      <td>0</td>\n",
       "      <td>1</td>\n",
       "    </tr>\n",
       "    <tr>\n",
       "      <th>8064</th>\n",
       "      <td>ffb79718-6f25-4896-b6b3-e58b80a6e147</td>\n",
       "      <td>control</td>\n",
       "      <td>2020-07-09</td>\n",
       "      <td>7</td>\n",
       "      <td>Generic Smartphone</td>\n",
       "      <td>6</td>\n",
       "      <td>Chrome Mobile</td>\n",
       "      <td>0</td>\n",
       "      <td>1</td>\n",
       "    </tr>\n",
       "    <tr>\n",
       "      <th>8069</th>\n",
       "      <td>ffca1153-c182-4f32-9e90-2a6008417497</td>\n",
       "      <td>control</td>\n",
       "      <td>2020-07-10</td>\n",
       "      <td>16</td>\n",
       "      <td>Generic Smartphone</td>\n",
       "      <td>6</td>\n",
       "      <td>Chrome Mobile</td>\n",
       "      <td>0</td>\n",
       "      <td>1</td>\n",
       "    </tr>\n",
       "  </tbody>\n",
       "</table>\n",
       "<p>642 rows × 9 columns</p>\n",
       "</div>"
      ],
      "text/plain": [
       "                                auction_id experiment        date  hour  \\\n",
       "20    00a1384a-5118-4d1b-925b-6cdada50318d    exposed  2020-07-06     8   \n",
       "23    00b6fadb-10bd-49e3-a778-290da82f7a8d    control  2020-07-08     4   \n",
       "39    013e45cf-e388-46a4-9c5b-a34303613940    exposed  2020-07-10     2   \n",
       "65    023ec7b5-cb8f-49a5-995f-e0d7c2f702e5    exposed  2020-07-09    13   \n",
       "80    02a9eba3-58b0-4759-b3ae-68a19cb2b59e    exposed  2020-07-09    20   \n",
       "...                                    ...        ...         ...   ...   \n",
       "8042  fee7da61-84fe-451b-95f4-ba2523fa987d    exposed  2020-07-09    14   \n",
       "8054  ff82e341-b72c-4531-b87e-1e11dc35d3fc    exposed  2020-07-10     8   \n",
       "8058  ff95df43-63b4-48c8-8497-781ba7952eec    exposed  2020-07-09    18   \n",
       "8064  ffb79718-6f25-4896-b6b3-e58b80a6e147    control  2020-07-09     7   \n",
       "8069  ffca1153-c182-4f32-9e90-2a6008417497    control  2020-07-10    16   \n",
       "\n",
       "             device_make  platform_os                browser  yes  no  \n",
       "20    Generic Smartphone            6          Chrome Mobile    0   1  \n",
       "23      Samsung SM-A202F            6               Facebook    1   0  \n",
       "39    Generic Smartphone            6          Chrome Mobile    0   1  \n",
       "65      Samsung SM-G935F            6               Facebook    1   0  \n",
       "80               Moto $2            6  Chrome Mobile WebView    0   1  \n",
       "...                  ...          ...                    ...  ...  ..  \n",
       "8042  Generic Smartphone            6          Chrome Mobile    1   0  \n",
       "8054    Samsung SM-G973F            6       Samsung Internet    1   0  \n",
       "8058  Generic Smartphone            6          Chrome Mobile    0   1  \n",
       "8064  Generic Smartphone            6          Chrome Mobile    0   1  \n",
       "8069  Generic Smartphone            6          Chrome Mobile    0   1  \n",
       "\n",
       "[642 rows x 9 columns]"
      ]
     },
     "execution_count": 19,
     "metadata": {},
     "output_type": "execute_result"
    }
   ],
   "source": [
    "# Filter on users who responded \n",
    "AdSmart_Responded = AdSmart[(AdSmart['yes'] == 1) | (AdSmart['no'] == 1)]\n",
    "AdSmart_Responded = AdSmart_Responded[(AdSmart_Responded['date'] > '2020-07-05')]\n",
    "AdSmart_Responded"
   ]
  },
  {
   "cell_type": "code",
   "execution_count": 20,
   "id": "5ecc8299-7235-450a-beb9-c08ddcba23bb",
   "metadata": {},
   "outputs": [
    {
     "data": {
      "text/plain": [
       "experiment\n",
       "control    113\n",
       "exposed    184\n",
       "Name: yes, dtype: int64"
      ]
     },
     "execution_count": 20,
     "metadata": {},
     "output_type": "execute_result"
    }
   ],
   "source": [
    "# Find the counts of yes after 2020-07-05 per experiment\n",
    "AdSmart_Responded.groupby('experiment')['yes'].sum()"
   ]
  },
  {
   "cell_type": "code",
   "execution_count": 21,
   "id": "ffdbb8d0-83b8-4e87-ad24-12b0fb80a3ca",
   "metadata": {},
   "outputs": [
    {
     "data": {
      "text/plain": [
       "experiment\n",
       "control    0.176012\n",
       "exposed    0.286604\n",
       "Name: yes, dtype: float64"
      ]
     },
     "execution_count": 21,
     "metadata": {},
     "output_type": "execute_result"
    }
   ],
   "source": [
    "# Proportion of users who responded 'yes' by experiment type\n",
    "AdSmart_Responded.groupby('experiment')['yes'].sum() / AdSmart_Responded.shape[0]"
   ]
  },
  {
   "cell_type": "code",
   "execution_count": 22,
   "id": "50804c62-f57b-4b54-a74f-21b4f9343944",
   "metadata": {},
   "outputs": [
    {
     "data": {
      "text/plain": [
       "experiment  platform_os\n",
       "control     5              0.003115\n",
       "            6              0.172897\n",
       "exposed     5              0.000000\n",
       "            6              0.286604\n",
       "Name: yes, dtype: float64"
      ]
     },
     "execution_count": 22,
     "metadata": {},
     "output_type": "execute_result"
    }
   ],
   "source": [
    "# Proportion of users who responded 'yes' by experiment type and platform OS\n",
    "AdSmart_Responded.groupby(['experiment','platform_os'])['yes'].sum() / AdSmart_Responded.shape[0]"
   ]
  },
  {
   "cell_type": "code",
   "execution_count": 23,
   "id": "72268b22-8141-4861-9389-7563ff3a73b6",
   "metadata": {},
   "outputs": [],
   "source": [
    "# Plotting distributions\n",
    "\n",
    "# Understanding how both discrete (e.g. binomial) and continuous (e.g. normal) probability distributions play a role in A/B testing enables us to gain additional visual insights into the nature of the data and deeper conceptual understanding of the theories that power the statistical frameworks of online experimentation.\n",
    "\n",
    "# Of great importance are two distributions: the binomial and the normal distributions. Follow the instructions to create plots and explore their parameters."
   ]
  },
  {
   "cell_type": "code",
   "execution_count": 24,
   "id": "bfc7aa6e-2201-4cee-a948-5e693788f4d2",
   "metadata": {},
   "outputs": [
    {
     "data": {
      "image/png": "[encoded data removed]",
      "text/plain": [
       "<Figure size 640x480 with 1 Axes>"
      ]
     },
     "metadata": {},
     "output_type": "display_data"
    }
   ],
   "source": [
    "# Plot a binomial distribution\n",
    "\n",
    "p = 0.6 # probability\n",
    "n = 3000 # trials\n",
    "\n",
    "x = np.arange(n*p - 100, n*p + 100) \n",
    "binom_a = binom.pmf(x, n, p)\n",
    "\n",
    "plt.bar(x, binom_a)\n",
    "plt.xlabel('Purchased')\n",
    "plt.ylabel('PMF')\n",
    "plt.show()"
   ]
  },
  {
   "cell_type": "code",
   "execution_count": 25,
   "id": "bfb03049-a234-4456-bde3-2b963c3f1df3",
   "metadata": {},
   "outputs": [
    {
     "name": "stderr",
     "output_type": "stream",
     "text": [
      "C:\\Users\\Alienware\\miniconda3\\envs\\py310\\lib\\site-packages\\seaborn\\_oldcore.py:1119: FutureWarning: use_inf_as_na option is deprecated and will be removed in a future version. Convert inf values to NaN before operating instead.\n",
      "  with pd.option_context('mode.use_inf_as_na', True):\n",
      "C:\\Users\\Alienware\\miniconda3\\envs\\py310\\lib\\site-packages\\seaborn\\_oldcore.py:1119: FutureWarning: use_inf_as_na option is deprecated and will be removed in a future version. Convert inf values to NaN before operating instead.\n",
      "  with pd.option_context('mode.use_inf_as_na', True):\n"
     ]
    },
    {
     "data": {
      "image/png": "[encoded data removed]",
      "text/plain": [
       "<Figure size 640x480 with 1 Axes>"
      ]
     },
     "metadata": {},
     "output_type": "display_data"
    }
   ],
   "source": [
    "# Plot a normal distribution\n",
    "\n",
    "mean = 0\n",
    "sd = 1\n",
    "\n",
    "x = np.linspace(-4, 4, 500)\n",
    "norm_a = norm.pdf(x, mean, sd)\n",
    "\n",
    "sns.lineplot(x=x, y=norm_a)\n",
    "plt.xlabel('x')\n",
    "plt.ylabel('PDF')\n",
    "plt.show()"
   ]
  },
  {
   "cell_type": "code",
   "execution_count": 26,
   "id": "1fa29b93-96d3-4ec7-978f-a57179270b0b",
   "metadata": {},
   "outputs": [],
   "source": [
    "# Central limit theorem for means\n",
    "\n",
    "# Regardless of the distribution of the data, the central limit theorem (CLT), among other benefits, allows us to assume normality of the sampling distributions of metrics that we often examine in A/B testing such as means, sums, proportions, standard deviations, and percentiles. Statistical significance tests that assume normality can therefore be easily applied to such scenarios in order to make solid conclusions about our experiments.\n",
    "\n",
    "# The goal of this exercise is to demonstrate how the CLT applies to various distributions and appreciate its power."
   ]
  },
  {
   "cell_type": "code",
   "execution_count": 27,
   "id": "84967129-096d-4856-adc2-4a34cb526aab",
   "metadata": {},
   "outputs": [
    {
     "data": {
      "text/html": [
       "<div>\n",
       "<style scoped>\n",
       "    .dataframe tbody tr th:only-of-type {\n",
       "        vertical-align: middle;\n",
       "    }\n",
       "\n",
       "    .dataframe tbody tr th {\n",
       "        vertical-align: top;\n",
       "    }\n",
       "\n",
       "    .dataframe thead th {\n",
       "        text-align: right;\n",
       "    }\n",
       "</style>\n",
       "<table border=\"1\" class=\"dataframe\">\n",
       "  <thead>\n",
       "    <tr style=\"text-align: right;\">\n",
       "      <th></th>\n",
       "      <th>Unnamed: 0</th>\n",
       "      <th>user_id</th>\n",
       "      <th>checkout_page</th>\n",
       "      <th>order_value</th>\n",
       "      <th>purchased</th>\n",
       "      <th>gender</th>\n",
       "      <th>browser</th>\n",
       "      <th>time_on_page</th>\n",
       "    </tr>\n",
       "  </thead>\n",
       "  <tbody>\n",
       "    <tr>\n",
       "      <th>0</th>\n",
       "      <td>0</td>\n",
       "      <td>877621</td>\n",
       "      <td>A</td>\n",
       "      <td>29.410131</td>\n",
       "      <td>1.0</td>\n",
       "      <td>F</td>\n",
       "      <td>chrome</td>\n",
       "      <td>66.168628</td>\n",
       "    </tr>\n",
       "    <tr>\n",
       "      <th>1</th>\n",
       "      <td>1</td>\n",
       "      <td>876599</td>\n",
       "      <td>A</td>\n",
       "      <td>NaN</td>\n",
       "      <td>0.0</td>\n",
       "      <td>M</td>\n",
       "      <td>firefox</td>\n",
       "      <td>49.801887</td>\n",
       "    </tr>\n",
       "    <tr>\n",
       "      <th>2</th>\n",
       "      <td>2</td>\n",
       "      <td>905407</td>\n",
       "      <td>A</td>\n",
       "      <td>27.446845</td>\n",
       "      <td>1.0</td>\n",
       "      <td>M</td>\n",
       "      <td>chrome</td>\n",
       "      <td>56.744856</td>\n",
       "    </tr>\n",
       "    <tr>\n",
       "      <th>3</th>\n",
       "      <td>3</td>\n",
       "      <td>883562</td>\n",
       "      <td>A</td>\n",
       "      <td>30.602233</td>\n",
       "      <td>1.0</td>\n",
       "      <td>M</td>\n",
       "      <td>safari</td>\n",
       "      <td>71.890718</td>\n",
       "    </tr>\n",
       "    <tr>\n",
       "      <th>4</th>\n",
       "      <td>4</td>\n",
       "      <td>840542</td>\n",
       "      <td>A</td>\n",
       "      <td>29.668895</td>\n",
       "      <td>1.0</td>\n",
       "      <td>F</td>\n",
       "      <td>safari</td>\n",
       "      <td>67.410696</td>\n",
       "    </tr>\n",
       "    <tr>\n",
       "      <th>...</th>\n",
       "      <td>...</td>\n",
       "      <td>...</td>\n",
       "      <td>...</td>\n",
       "      <td>...</td>\n",
       "      <td>...</td>\n",
       "      <td>...</td>\n",
       "      <td>...</td>\n",
       "      <td>...</td>\n",
       "    </tr>\n",
       "    <tr>\n",
       "      <th>8995</th>\n",
       "      <td>8995</td>\n",
       "      <td>903591</td>\n",
       "      <td>C</td>\n",
       "      <td>45.395883</td>\n",
       "      <td>1.0</td>\n",
       "      <td>M</td>\n",
       "      <td>safari</td>\n",
       "      <td>63.291767</td>\n",
       "    </tr>\n",
       "    <tr>\n",
       "      <th>8996</th>\n",
       "      <td>8996</td>\n",
       "      <td>883490</td>\n",
       "      <td>C</td>\n",
       "      <td>30.462670</td>\n",
       "      <td>1.0</td>\n",
       "      <td>F</td>\n",
       "      <td>safari</td>\n",
       "      <td>33.425340</td>\n",
       "    </tr>\n",
       "    <tr>\n",
       "      <th>8997</th>\n",
       "      <td>8997</td>\n",
       "      <td>914494</td>\n",
       "      <td>C</td>\n",
       "      <td>34.037979</td>\n",
       "      <td>1.0</td>\n",
       "      <td>M</td>\n",
       "      <td>chrome</td>\n",
       "      <td>40.575958</td>\n",
       "    </tr>\n",
       "    <tr>\n",
       "      <th>8998</th>\n",
       "      <td>8998</td>\n",
       "      <td>897280</td>\n",
       "      <td>C</td>\n",
       "      <td>28.937421</td>\n",
       "      <td>1.0</td>\n",
       "      <td>F</td>\n",
       "      <td>chrome</td>\n",
       "      <td>30.374843</td>\n",
       "    </tr>\n",
       "    <tr>\n",
       "      <th>8999</th>\n",
       "      <td>8999</td>\n",
       "      <td>846258</td>\n",
       "      <td>C</td>\n",
       "      <td>NaN</td>\n",
       "      <td>0.0</td>\n",
       "      <td>M</td>\n",
       "      <td>safari</td>\n",
       "      <td>41.694015</td>\n",
       "    </tr>\n",
       "  </tbody>\n",
       "</table>\n",
       "<p>9000 rows × 8 columns</p>\n",
       "</div>"
      ],
      "text/plain": [
       "      Unnamed: 0  user_id checkout_page  order_value  purchased gender  \\\n",
       "0              0   877621             A    29.410131        1.0      F   \n",
       "1              1   876599             A          NaN        0.0      M   \n",
       "2              2   905407             A    27.446845        1.0      M   \n",
       "3              3   883562             A    30.602233        1.0      M   \n",
       "4              4   840542             A    29.668895        1.0      F   \n",
       "...          ...      ...           ...          ...        ...    ...   \n",
       "8995        8995   903591             C    45.395883        1.0      M   \n",
       "8996        8996   883490             C    30.462670        1.0      F   \n",
       "8997        8997   914494             C    34.037979        1.0      M   \n",
       "8998        8998   897280             C    28.937421        1.0      F   \n",
       "8999        8999   846258             C          NaN        0.0      M   \n",
       "\n",
       "      browser  time_on_page  \n",
       "0      chrome     66.168628  \n",
       "1     firefox     49.801887  \n",
       "2      chrome     56.744856  \n",
       "3      safari     71.890718  \n",
       "4      safari     67.410696  \n",
       "...       ...           ...  \n",
       "8995   safari     63.291767  \n",
       "8996   safari     33.425340  \n",
       "8997   chrome     40.575958  \n",
       "8998   chrome     30.374843  \n",
       "8999   safari     41.694015  \n",
       "\n",
       "[9000 rows x 8 columns]"
      ]
     },
     "execution_count": 27,
     "metadata": {},
     "output_type": "execute_result"
    }
   ],
   "source": [
    "checkout"
   ]
  },
  {
   "cell_type": "code",
   "execution_count": 28,
   "id": "edf459fa-5bcf-48d9-822f-8635db9ae53d",
   "metadata": {},
   "outputs": [
    {
     "data": {
      "text/plain": [
       "0       29.410131\n",
       "1             NaN\n",
       "2       27.446845\n",
       "3       30.602233\n",
       "4       29.668895\n",
       "          ...    \n",
       "2995          NaN\n",
       "2996    22.731335\n",
       "2997    24.518989\n",
       "2998    21.968711\n",
       "2999          NaN\n",
       "Name: order_value, Length: 3000, dtype: float64"
      ]
     },
     "execution_count": 28,
     "metadata": {},
     "output_type": "execute_result"
    }
   ],
   "source": [
    "checkout[checkout.checkout_page=='A'].order_value"
   ]
  },
  {
   "cell_type": "code",
   "execution_count": 29,
   "id": "c30356a4-59e9-42b0-a462-74aaf516f408",
   "metadata": {},
   "outputs": [
    {
     "name": "stderr",
     "output_type": "stream",
     "text": [
      "C:\\Users\\Alienware\\miniconda3\\envs\\py310\\lib\\site-packages\\seaborn\\_oldcore.py:1119: FutureWarning: use_inf_as_na option is deprecated and will be removed in a future version. Convert inf values to NaN before operating instead.\n",
      "  with pd.option_context('mode.use_inf_as_na', True):\n"
     ]
    },
    {
     "data": {
      "text/plain": [
       "<seaborn.axisgrid.FacetGrid at 0x21864d04a00>"
      ]
     },
     "execution_count": 29,
     "metadata": {},
     "output_type": "execute_result"
    },
    {
     "data": {
      "image/png": "[encoded data removed]",
      "text/plain": [
       "<Figure size 500x500 with 1 Axes>"
      ]
     },
     "metadata": {},
     "output_type": "display_data"
    }
   ],
   "source": [
    "sns.displot(checkout[checkout.checkout_page=='A'].order_value, kde=True)"
   ]
  },
  {
   "cell_type": "code",
   "execution_count": 30,
   "id": "58bcea61-6e5d-4c21-8171-99a24abc161e",
   "metadata": {},
   "outputs": [],
   "source": [
    "np.random.seed(47)\n",
    "\n",
    "# Create an empty list, then a for loop for 1000 samples of size 5\n",
    "sampled_means = []\n",
    "for i in range(1000):\n",
    "    sample = checkout[checkout['checkout_page']=='A']['order_value'].sample(5, replace=True)"
   ]
  },
  {
   "cell_type": "code",
   "execution_count": 31,
   "id": "54c0629b-5acf-4423-a737-f31a2bc9ef94",
   "metadata": {},
   "outputs": [
    {
     "name": "stderr",
     "output_type": "stream",
     "text": [
      "C:\\Users\\Alienware\\miniconda3\\envs\\py310\\lib\\site-packages\\seaborn\\_oldcore.py:1119: FutureWarning: use_inf_as_na option is deprecated and will be removed in a future version. Convert inf values to NaN before operating instead.\n",
      "  with pd.option_context('mode.use_inf_as_na', True):\n"
     ]
    },
    {
     "data": {
      "image/png": "[encoded data removed]",
      "text/plain": [
       "<Figure size 500x500 with 1 Axes>"
      ]
     },
     "metadata": {},
     "output_type": "display_data"
    }
   ],
   "source": [
    "np.random.seed(47)\n",
    "\n",
    "# Create an empty list, then a for loop for 1000 samples of size 5\n",
    "sampled_means = []\n",
    "\n",
    "for i in range(1000):\n",
    "    sample = checkout[checkout['checkout_page']=='A']['order_value'].sample(5, replace=True)\n",
    "    # Get the sample mean and append to list\n",
    "    sample_mean = np.mean(sample)\n",
    "    sampled_means.append(sample_mean)\n",
    "    \n",
    "# Plot distribution\n",
    "# Note how even for a small sample size of five, the sampling distribution of the means still resembles a normal one since the underlying data is already normally distributed.\n",
    "sns.displot(sampled_means, kde=True)\n",
    "plt.show()"
   ]
  },
  {
   "cell_type": "code",
   "execution_count": 32,
   "id": "e2b40e95-f679-4d78-9aed-33c3131be1ba",
   "metadata": {},
   "outputs": [],
   "source": [
    "# Plotting power curves\n",
    "\n",
    "# Performing a power analysis prior to running an A/B test is one of the most important steps. It enables us to improve our chances of reaching conclusive results and better plan for resources and time allocated to each test. Moreover, plotting power curves makes it easier to visualize the impact of varying certain parameters on the required sample size to hit the desired levels of confidence. Although a larger sample size betters our chances of reaching a conclusive result, gathering additional units or spending more time is a waste of resources as the power curves saturate."
   ]
  },
  {
   "cell_type": "code",
   "execution_count": 33,
   "id": "2f709877-3364-494a-86f3-87ccdac3b1d2",
   "metadata": {},
   "outputs": [
    {
     "data": {
      "image/png": "[encoded data removed]",
      "text/plain": [
       "<Figure size 640x480 with 1 Axes>"
      ]
     },
     "metadata": {},
     "output_type": "display_data"
    }
   ],
   "source": [
    "from statsmodels.stats.power import TTestIndPower\n",
    "\n",
    "# Specify parameters for power analysis\n",
    "sample_sizes = np.array(range(10, 600))\n",
    "effect_sizes = np.array([0.1, 0.2, 0.3])\n",
    "\n",
    "# Plot power curves\n",
    "TTestIndPower().plot_power(nobs=sample_sizes, effect_size=effect_sizes)\n",
    "plt.show()"
   ]
  },
  {
   "cell_type": "code",
   "execution_count": 34,
   "id": "547762d2-ccc7-405f-9a2f-5c6c6d473a1b",
   "metadata": {},
   "outputs": [
    {
     "data": {
      "image/png": "[encoded data removed]",
      "text/plain": [
       "<Figure size 640x480 with 1 Axes>"
      ]
     },
     "metadata": {},
     "output_type": "display_data"
    }
   ],
   "source": [
    "from statsmodels.stats.power import TTestIndPower\n",
    "\n",
    "# Adjust the parameters for power analysis\n",
    "sample_sizes = np.array(range(10,2000))\n",
    "effect_sizes = np.array([0.1, 0.2, 0.3])\n",
    "\n",
    "# Plot power curves\n",
    "TTestIndPower().plot_power(nobs=sample_sizes, effect_size=effect_sizes)\n",
    "plt.show()"
   ]
  },
  {
   "cell_type": "code",
   "execution_count": 35,
   "id": "29635751-e8c2-4176-97b1-b6d3387f9cba",
   "metadata": {},
   "outputs": [],
   "source": [
    "# Sample size for means\n",
    "\n",
    "# When designing an A/B test, you as a Data Scientist are responsible for checking if a test is feasible in the first place. This entails answering several questions such as: do we have enough traffic? How do we quantify \"enough\"? What is the minimum difference we can detect given the sample size we have? How long does an experiment need to run? And more.\n",
    "\n",
    "# In this exercise, you will calculate the minimum sample size required to capture a statistically significant difference of a certain value between the baseline mean order_value for the control group, and a new design to be tested"
   ]
  },
  {
   "cell_type": "code",
   "execution_count": 36,
   "id": "f93aed5b-71d3-4b38-8ddc-11fa61bbfc60",
   "metadata": {},
   "outputs": [
    {
     "name": "stdout",
     "output_type": "stream",
     "text": [
      "29.876202331571395\n",
      "7.277644184694845\n"
     ]
    }
   ],
   "source": [
    "# Calculate and print the baseline mean and standard deviation\n",
    "mean_B = checkout[checkout['checkout_page']=='B']['order_value'].mean()\n",
    "print(mean_B)\n",
    "\n",
    "std_B = checkout[checkout['checkout_page']=='B']['order_value'].std()\n",
    "print(std_B)\n",
    "\n",
    "# Define mean_new and calculate the standardized effect size\n",
    "mean_new = 31\n"
   ]
  },
  {
   "cell_type": "code",
   "execution_count": 37,
   "id": "19eefaac-3779-479d-9736-3e57328e60a5",
   "metadata": {},
   "outputs": [
    {
     "name": "stdout",
     "output_type": "stream",
     "text": [
      "0.15441778134633083\n"
     ]
    }
   ],
   "source": [
    "std_effect_size=(mean_new-mean_B)/std_B\n",
    "print(std_effect_size)\n"
   ]
  },
  {
   "cell_type": "code",
   "execution_count": 38,
   "id": "bbcdde41-c93e-4901-b017-b2fe0d2cda52",
   "metadata": {},
   "outputs": [
    {
     "name": "stdout",
     "output_type": "stream",
     "text": [
      "659.2892380942867\n"
     ]
    }
   ],
   "source": [
    "# Calculate the required sample size\n",
    "sample_size = power.TTestIndPower().solve_power(effect_size=std_effect_size, power=0.8, alpha=0.05, nobs1=None)\n",
    "\n",
    "print(sample_size)"
   ]
  },
  {
   "cell_type": "code",
   "execution_count": 39,
   "id": "4907953d-81d8-4841-83fc-cf79ce73cf0e",
   "metadata": {},
   "outputs": [],
   "source": [
    "# Sample size for proportions\n",
    "\n",
    "# Real datasets can be messy. As an Analytics Engineer working with data in the real world, you will encounter situations where the variance in the data is too high to be able to capture a meaningful difference in the metrics. This problem is more likely to happen with continuous metrics such as the average order value in the previous exercise. There are several ways to tackle this, but one of the workarounds is finding a metric that has lower variance but still aligns with the business goals.\n",
    "\n",
    "# Here you will look at calculating the sample size for a binary metric; signup rate which represents whether a user signed up for the service or not, as opposed to the paid price which may vary more between users."
   ]
  },
  {
   "cell_type": "code",
   "execution_count": 40,
   "id": "8f43c680-de54-401b-a534-f291f65a861b",
   "metadata": {},
   "outputs": [
    {
     "name": "stdout",
     "output_type": "stream",
     "text": [
      "       Unnamed: 0  user_id landing_page  signup  time_on_page\n",
      "0               0   306815            B       0     28.566135\n",
      "1               1   436933            A       0     26.405884\n",
      "2               2   119056            B       0     22.497566\n",
      "3               3   153419            A       0     30.418353\n",
      "4               4   360887            B       0     31.392795\n",
      "...           ...      ...          ...     ...           ...\n",
      "10795       10795   586091            B       0     38.157340\n",
      "10796       10796   519591            B       1     33.790593\n",
      "10797       10797   534253            B       0     20.385600\n",
      "10798       10798    17109            B       0     27.650946\n",
      "10799       10799   496160            A       0     25.532436\n",
      "\n",
      "[10800 rows x 5 columns]\n"
     ]
    }
   ],
   "source": [
    "# CREATE DATAFRAME\n",
    "\n",
    "# Set the seed for reproducibility\n",
    "np.random.seed(0)\n",
    "\n",
    "# Number of rows in the DataFrame\n",
    "n = 10800\n",
    "\n",
    "# Create the 'Unnamed: 0' column\n",
    "unnamed_0 = np.arange(n)\n",
    "\n",
    "# Create the 'user_id' column\n",
    "user_id = np.random.randint(1104, 591183, size=n)\n",
    "\n",
    "# Create the 'landing_page' column\n",
    "landing_page = np.random.choice(['A', 'B', 'C', 'D'], size=n, p=[2700/n, 1-2700/n, 0, 0])\n",
    "\n",
    "# Create the 'signup' column\n",
    "signup = np.random.choice([0, 1], size=n, p=[1-0.054, 0.054])\n",
    "\n",
    "# Create the 'time_on_page' column\n",
    "time_on_page = np.random.normal(26.737, 6.892, size=n)\n",
    "time_on_page = np.clip(time_on_page, 1.565, 51.868)  # Ensure values are within the min and max\n",
    "\n",
    "# Create the DataFrame\n",
    "homepage = pd.DataFrame({\n",
    "    'Unnamed: 0': unnamed_0,\n",
    "    'user_id': user_id,\n",
    "    'landing_page': landing_page,\n",
    "    'signup': signup,\n",
    "    'time_on_page': time_on_page\n",
    "})\n",
    "\n",
    "# Display the DataFrame\n",
    "print(homepage)\n"
   ]
  },
  {
   "cell_type": "code",
   "execution_count": 41,
   "id": "840bff42-b385-4e7c-abfd-db7a946da7c0",
   "metadata": {},
   "outputs": [
    {
     "name": "stdout",
     "output_type": "stream",
     "text": [
      "Group A mean signup rate: 0.05878084179970972\n",
      "0.04575078128033033\n",
      "7500.6\n"
     ]
    }
   ],
   "source": [
    "# Calculate the baseline signup rate for group A\n",
    "p_A=homepage[homepage['landing_page']=='A']['signup'].mean()\n",
    "print('Group A mean signup rate:',p_A)\n",
    "\n",
    "# Define p_new and calculate standardized effect size\n",
    "p_new = 0.07\n",
    "\n",
    "effect_size_std = proportion_effectsize(p_new, p_A)\n",
    "print(effect_size_std)\n",
    "\n",
    "# Calculate the required sample size per group\n",
    "sample_size = power.TTestIndPower().solve_power(effect_size=effect_size_std, power=0.8, alpha=0.05, nobs1=None)\n",
    "\n",
    "print(round(sample_size, 1)) # sample size needed to test the 'effect_size_std'"
   ]
  },
  {
   "cell_type": "code",
   "execution_count": 42,
   "id": "1954115d-20d4-4c12-aae6-4cc3808bc756",
   "metadata": {},
   "outputs": [],
   "source": [
    "# Corrected p-values\n",
    "\n",
    "# Imagine you are a Data Scientist working for a subscription company. The web design team is working on finding the perfect CTA (call-to-action) button to urge page visitors to sign up for their service. They presented you with 4 different designs besides the current version.\n",
    "\n",
    "# After running an experiment comparing each variant to the control, you generated a list of p-values loaded in the pvals variable. Comparing them directly to the significance threshold would result in an inflated Type I error rate. To avoid this, you can use the smt.multipletests() function from Python's statsmodels library to correct the p-values and test for statistical significance with a FWER = 5%."
   ]
  },
  {
   "cell_type": "code",
   "execution_count": 43,
   "id": "43425a1f-debd-4554-b89a-6a4dee1c4e85",
   "metadata": {},
   "outputs": [
    {
     "name": "stdout",
     "output_type": "stream",
     "text": [
      "Significant Test: [False  True  True  True]\n",
      "Corrected P-values: [0.0504  0.002   0.00028 0.036  ]\n",
      "Bonferroni Corrected alpha: 0.0125\n"
     ]
    }
   ],
   "source": [
    "import statsmodels.stats.multitest as smt\n",
    "\n",
    "pvals = [0.0126, 0.0005, 0.00007, 0.009]\n",
    "\n",
    "# Perform a Bonferroni correction and print the output\n",
    "corrected = smt.multipletests(pvals, alpha = 0.05, method = 'bonferroni')\n",
    "\n",
    "print('Significant Test:', corrected[0])\n",
    "print('Corrected P-values:', corrected[1])\n",
    "print('Bonferroni Corrected alpha: {:.4f}'.format(corrected[3]))"
   ]
  },
  {
   "cell_type": "code",
   "execution_count": 44,
   "id": "28e0fd4f-0e96-4b86-a0e6-0285dd832da3",
   "metadata": {},
   "outputs": [
    {
     "name": "stdout",
     "output_type": "stream",
     "text": [
      "Significant Test: [ True  True  True  True]\n",
      "Corrected P-values: [0.04945542 0.0019985  0.00027997 0.03551691]\n",
      "Sidak Corrected alpha: 0.0125\n"
     ]
    }
   ],
   "source": [
    "import statsmodels.stats.multitest as smt\n",
    "\n",
    "pvals=[0.0126, 0.0005, 0.00007, 0.009]\n",
    "\n",
    "# Perform a Sidak correction and print the output\n",
    "corrected = smt.multipletests(pvals, alpha = 0.05, method = 'sidak')\n",
    "\n",
    "print('Significant Test:', corrected[0])\n",
    "print('Corrected P-values:', corrected[1])\n",
    "print('Sidak Corrected alpha: {:.4f}'.format(corrected[3]))"
   ]
  },
  {
   "cell_type": "code",
   "execution_count": 45,
   "id": "ee703a2f-22d1-465e-8ec4-c290c6ea9279",
   "metadata": {},
   "outputs": [],
   "source": [
    "# Proportions EDA\n",
    "\n",
    "# Exploratory data analysis (EDA) allows us to get an initial understanding of the data. Summary statistics explain the magnitude, direction, and spread of our average metrics, and visual distributions and trends provide deeper insights into understanding what to look for and uncovering interesting patterns that can be masked under the average summary statistics."
   ]
  },
  {
   "cell_type": "code",
   "execution_count": 46,
   "id": "02c7a662-1d4f-4992-bc97-746fd14be086",
   "metadata": {},
   "outputs": [
    {
     "data": {
      "text/html": [
       "<div>\n",
       "<style scoped>\n",
       "    .dataframe tbody tr th:only-of-type {\n",
       "        vertical-align: middle;\n",
       "    }\n",
       "\n",
       "    .dataframe tbody tr th {\n",
       "        vertical-align: top;\n",
       "    }\n",
       "\n",
       "    .dataframe thead th {\n",
       "        text-align: right;\n",
       "    }\n",
       "</style>\n",
       "<table border=\"1\" class=\"dataframe\">\n",
       "  <thead>\n",
       "    <tr style=\"text-align: right;\">\n",
       "      <th></th>\n",
       "      <th>Unnamed: 0</th>\n",
       "      <th>user_id</th>\n",
       "      <th>checkout_page</th>\n",
       "      <th>order_value</th>\n",
       "      <th>purchased</th>\n",
       "      <th>gender</th>\n",
       "      <th>browser</th>\n",
       "      <th>time_on_page</th>\n",
       "    </tr>\n",
       "  </thead>\n",
       "  <tbody>\n",
       "    <tr>\n",
       "      <th>0</th>\n",
       "      <td>0</td>\n",
       "      <td>877621</td>\n",
       "      <td>A</td>\n",
       "      <td>29.410131</td>\n",
       "      <td>1.0</td>\n",
       "      <td>F</td>\n",
       "      <td>chrome</td>\n",
       "      <td>66.168628</td>\n",
       "    </tr>\n",
       "    <tr>\n",
       "      <th>1</th>\n",
       "      <td>1</td>\n",
       "      <td>876599</td>\n",
       "      <td>A</td>\n",
       "      <td>NaN</td>\n",
       "      <td>0.0</td>\n",
       "      <td>M</td>\n",
       "      <td>firefox</td>\n",
       "      <td>49.801887</td>\n",
       "    </tr>\n",
       "    <tr>\n",
       "      <th>2</th>\n",
       "      <td>2</td>\n",
       "      <td>905407</td>\n",
       "      <td>A</td>\n",
       "      <td>27.446845</td>\n",
       "      <td>1.0</td>\n",
       "      <td>M</td>\n",
       "      <td>chrome</td>\n",
       "      <td>56.744856</td>\n",
       "    </tr>\n",
       "    <tr>\n",
       "      <th>3</th>\n",
       "      <td>3</td>\n",
       "      <td>883562</td>\n",
       "      <td>A</td>\n",
       "      <td>30.602233</td>\n",
       "      <td>1.0</td>\n",
       "      <td>M</td>\n",
       "      <td>safari</td>\n",
       "      <td>71.890718</td>\n",
       "    </tr>\n",
       "    <tr>\n",
       "      <th>4</th>\n",
       "      <td>4</td>\n",
       "      <td>840542</td>\n",
       "      <td>A</td>\n",
       "      <td>29.668895</td>\n",
       "      <td>1.0</td>\n",
       "      <td>F</td>\n",
       "      <td>safari</td>\n",
       "      <td>67.410696</td>\n",
       "    </tr>\n",
       "    <tr>\n",
       "      <th>...</th>\n",
       "      <td>...</td>\n",
       "      <td>...</td>\n",
       "      <td>...</td>\n",
       "      <td>...</td>\n",
       "      <td>...</td>\n",
       "      <td>...</td>\n",
       "      <td>...</td>\n",
       "      <td>...</td>\n",
       "    </tr>\n",
       "    <tr>\n",
       "      <th>8995</th>\n",
       "      <td>8995</td>\n",
       "      <td>903591</td>\n",
       "      <td>C</td>\n",
       "      <td>45.395883</td>\n",
       "      <td>1.0</td>\n",
       "      <td>M</td>\n",
       "      <td>safari</td>\n",
       "      <td>63.291767</td>\n",
       "    </tr>\n",
       "    <tr>\n",
       "      <th>8996</th>\n",
       "      <td>8996</td>\n",
       "      <td>883490</td>\n",
       "      <td>C</td>\n",
       "      <td>30.462670</td>\n",
       "      <td>1.0</td>\n",
       "      <td>F</td>\n",
       "      <td>safari</td>\n",
       "      <td>33.425340</td>\n",
       "    </tr>\n",
       "    <tr>\n",
       "      <th>8997</th>\n",
       "      <td>8997</td>\n",
       "      <td>914494</td>\n",
       "      <td>C</td>\n",
       "      <td>34.037979</td>\n",
       "      <td>1.0</td>\n",
       "      <td>M</td>\n",
       "      <td>chrome</td>\n",
       "      <td>40.575958</td>\n",
       "    </tr>\n",
       "    <tr>\n",
       "      <th>8998</th>\n",
       "      <td>8998</td>\n",
       "      <td>897280</td>\n",
       "      <td>C</td>\n",
       "      <td>28.937421</td>\n",
       "      <td>1.0</td>\n",
       "      <td>F</td>\n",
       "      <td>chrome</td>\n",
       "      <td>30.374843</td>\n",
       "    </tr>\n",
       "    <tr>\n",
       "      <th>8999</th>\n",
       "      <td>8999</td>\n",
       "      <td>846258</td>\n",
       "      <td>C</td>\n",
       "      <td>NaN</td>\n",
       "      <td>0.0</td>\n",
       "      <td>M</td>\n",
       "      <td>safari</td>\n",
       "      <td>41.694015</td>\n",
       "    </tr>\n",
       "  </tbody>\n",
       "</table>\n",
       "<p>9000 rows × 8 columns</p>\n",
       "</div>"
      ],
      "text/plain": [
       "      Unnamed: 0  user_id checkout_page  order_value  purchased gender  \\\n",
       "0              0   877621             A    29.410131        1.0      F   \n",
       "1              1   876599             A          NaN        0.0      M   \n",
       "2              2   905407             A    27.446845        1.0      M   \n",
       "3              3   883562             A    30.602233        1.0      M   \n",
       "4              4   840542             A    29.668895        1.0      F   \n",
       "...          ...      ...           ...          ...        ...    ...   \n",
       "8995        8995   903591             C    45.395883        1.0      M   \n",
       "8996        8996   883490             C    30.462670        1.0      F   \n",
       "8997        8997   914494             C    34.037979        1.0      M   \n",
       "8998        8998   897280             C    28.937421        1.0      F   \n",
       "8999        8999   846258             C          NaN        0.0      M   \n",
       "\n",
       "      browser  time_on_page  \n",
       "0      chrome     66.168628  \n",
       "1     firefox     49.801887  \n",
       "2      chrome     56.744856  \n",
       "3      safari     71.890718  \n",
       "4      safari     67.410696  \n",
       "...       ...           ...  \n",
       "8995   safari     63.291767  \n",
       "8996   safari     33.425340  \n",
       "8997   chrome     40.575958  \n",
       "8998   chrome     30.374843  \n",
       "8999   safari     41.694015  \n",
       "\n",
       "[9000 rows x 8 columns]"
      ]
     },
     "execution_count": 46,
     "metadata": {},
     "output_type": "execute_result"
    }
   ],
   "source": [
    "checkout"
   ]
  },
  {
   "cell_type": "code",
   "execution_count": 47,
   "id": "2df42280-1bf4-461e-9d9e-0837c2a9b7c8",
   "metadata": {},
   "outputs": [
    {
     "data": {
      "text/html": [
       "<div>\n",
       "<style scoped>\n",
       "    .dataframe tbody tr th:only-of-type {\n",
       "        vertical-align: middle;\n",
       "    }\n",
       "\n",
       "    .dataframe tbody tr th {\n",
       "        vertical-align: top;\n",
       "    }\n",
       "\n",
       "    .dataframe thead th {\n",
       "        text-align: right;\n",
       "    }\n",
       "</style>\n",
       "<table border=\"1\" class=\"dataframe\">\n",
       "  <thead>\n",
       "    <tr style=\"text-align: right;\">\n",
       "      <th></th>\n",
       "      <th>mean</th>\n",
       "      <th>std</th>\n",
       "      <th>count</th>\n",
       "    </tr>\n",
       "    <tr>\n",
       "      <th>checkout_page</th>\n",
       "      <th></th>\n",
       "      <th></th>\n",
       "      <th></th>\n",
       "    </tr>\n",
       "  </thead>\n",
       "  <tbody>\n",
       "    <tr>\n",
       "      <th>A</th>\n",
       "      <td>0.820333</td>\n",
       "      <td>0.383974</td>\n",
       "      <td>3000</td>\n",
       "    </tr>\n",
       "    <tr>\n",
       "      <th>B</th>\n",
       "      <td>0.847000</td>\n",
       "      <td>0.360048</td>\n",
       "      <td>3000</td>\n",
       "    </tr>\n",
       "    <tr>\n",
       "      <th>C</th>\n",
       "      <td>0.867667</td>\n",
       "      <td>0.338909</td>\n",
       "      <td>3000</td>\n",
       "    </tr>\n",
       "  </tbody>\n",
       "</table>\n",
       "</div>"
      ],
      "text/plain": [
       "                   mean       std  count\n",
       "checkout_page                           \n",
       "A              0.820333  0.383974   3000\n",
       "B              0.847000  0.360048   3000\n",
       "C              0.867667  0.338909   3000"
      ]
     },
     "execution_count": 47,
     "metadata": {},
     "output_type": "execute_result"
    }
   ],
   "source": [
    "# Calculate the mean, standard deviation and count\n",
    "checkout.groupby('checkout_page')['purchased'].agg({'mean','std','count'})\n"
   ]
  },
  {
   "cell_type": "code",
   "execution_count": 48,
   "id": "4389f80c-66e2-4436-b0b9-e7d369426404",
   "metadata": {},
   "outputs": [
    {
     "data": {
      "text/plain": [
       "Text(0, 0.5, 'Purchase Rate')"
      ]
     },
     "execution_count": 48,
     "metadata": {},
     "output_type": "execute_result"
    },
    {
     "data": {
      "image/png": "[encoded data removed]",
      "text/plain": [
       "<Figure size 640x480 with 1 Axes>"
      ]
     },
     "metadata": {},
     "output_type": "display_data"
    }
   ],
   "source": [
    "# Create a bar plot of average purchase rate per checkout page\n",
    "sns.barplot(x=checkout['checkout_page'], y=checkout['purchased'], estimator=np.mean)\n",
    "plt.ylim(0, 1)\n",
    "plt.title('Purchase Rate per Checkout Page Variant')\n",
    "plt.xlabel('Checkout Page Variant')\n",
    "plt.ylabel('Purchase Rate')\n"
   ]
  },
  {
   "cell_type": "code",
   "execution_count": 49,
   "id": "6da9ec6f-d200-4f73-bf7e-51335bdfac7d",
   "metadata": {},
   "outputs": [
    {
     "data": {
      "text/html": [
       "<div>\n",
       "<style scoped>\n",
       "    .dataframe tbody tr th:only-of-type {\n",
       "        vertical-align: middle;\n",
       "    }\n",
       "\n",
       "    .dataframe tbody tr th {\n",
       "        vertical-align: top;\n",
       "    }\n",
       "\n",
       "    .dataframe thead th {\n",
       "        text-align: right;\n",
       "    }\n",
       "</style>\n",
       "<table border=\"1\" class=\"dataframe\">\n",
       "  <thead>\n",
       "    <tr style=\"text-align: right;\">\n",
       "      <th></th>\n",
       "      <th>auction_id</th>\n",
       "      <th>experiment</th>\n",
       "      <th>date</th>\n",
       "      <th>hour</th>\n",
       "      <th>device_make</th>\n",
       "      <th>platform_os</th>\n",
       "      <th>browser</th>\n",
       "      <th>yes</th>\n",
       "      <th>no</th>\n",
       "    </tr>\n",
       "  </thead>\n",
       "  <tbody>\n",
       "    <tr>\n",
       "      <th>0</th>\n",
       "      <td>0008ef63-77a7-448b-bd1e-075f42c55e39</td>\n",
       "      <td>exposed</td>\n",
       "      <td>2020-07-10</td>\n",
       "      <td>8</td>\n",
       "      <td>Generic Smartphone</td>\n",
       "      <td>6</td>\n",
       "      <td>Chrome Mobile</td>\n",
       "      <td>0</td>\n",
       "      <td>0</td>\n",
       "    </tr>\n",
       "    <tr>\n",
       "      <th>1</th>\n",
       "      <td>000eabc5-17ce-4137-8efe-44734d914446</td>\n",
       "      <td>exposed</td>\n",
       "      <td>2020-07-07</td>\n",
       "      <td>10</td>\n",
       "      <td>Generic Smartphone</td>\n",
       "      <td>6</td>\n",
       "      <td>Chrome Mobile</td>\n",
       "      <td>0</td>\n",
       "      <td>0</td>\n",
       "    </tr>\n",
       "    <tr>\n",
       "      <th>2</th>\n",
       "      <td>0016d14a-ae18-4a02-a204-6ba53b52f2ed</td>\n",
       "      <td>exposed</td>\n",
       "      <td>2020-07-05</td>\n",
       "      <td>2</td>\n",
       "      <td>E5823</td>\n",
       "      <td>6</td>\n",
       "      <td>Chrome Mobile WebView</td>\n",
       "      <td>0</td>\n",
       "      <td>1</td>\n",
       "    </tr>\n",
       "    <tr>\n",
       "      <th>3</th>\n",
       "      <td>00187412-2932-4542-a8ef-3633901c98d9</td>\n",
       "      <td>control</td>\n",
       "      <td>2020-07-03</td>\n",
       "      <td>15</td>\n",
       "      <td>Samsung SM-A705FN</td>\n",
       "      <td>6</td>\n",
       "      <td>Facebook</td>\n",
       "      <td>0</td>\n",
       "      <td>0</td>\n",
       "    </tr>\n",
       "    <tr>\n",
       "      <th>4</th>\n",
       "      <td>001a7785-d3fe-4e11-a344-c8735acacc2c</td>\n",
       "      <td>control</td>\n",
       "      <td>2020-07-03</td>\n",
       "      <td>15</td>\n",
       "      <td>Generic Smartphone</td>\n",
       "      <td>6</td>\n",
       "      <td>Chrome Mobile</td>\n",
       "      <td>0</td>\n",
       "      <td>0</td>\n",
       "    </tr>\n",
       "    <tr>\n",
       "      <th>...</th>\n",
       "      <td>...</td>\n",
       "      <td>...</td>\n",
       "      <td>...</td>\n",
       "      <td>...</td>\n",
       "      <td>...</td>\n",
       "      <td>...</td>\n",
       "      <td>...</td>\n",
       "      <td>...</td>\n",
       "      <td>...</td>\n",
       "    </tr>\n",
       "    <tr>\n",
       "      <th>8072</th>\n",
       "      <td>ffea24ec-cec1-43fb-b1d1-8f93828c2be2</td>\n",
       "      <td>exposed</td>\n",
       "      <td>2020-07-05</td>\n",
       "      <td>7</td>\n",
       "      <td>Generic Smartphone</td>\n",
       "      <td>6</td>\n",
       "      <td>Chrome Mobile</td>\n",
       "      <td>0</td>\n",
       "      <td>0</td>\n",
       "    </tr>\n",
       "    <tr>\n",
       "      <th>8073</th>\n",
       "      <td>ffea3210-2c3e-426f-a77d-0aa72e73b20f</td>\n",
       "      <td>control</td>\n",
       "      <td>2020-07-03</td>\n",
       "      <td>15</td>\n",
       "      <td>Generic Smartphone</td>\n",
       "      <td>6</td>\n",
       "      <td>Chrome Mobile</td>\n",
       "      <td>0</td>\n",
       "      <td>0</td>\n",
       "    </tr>\n",
       "    <tr>\n",
       "      <th>8074</th>\n",
       "      <td>ffeaa0f1-1d72-4ba9-afb4-314b3b00a7c7</td>\n",
       "      <td>control</td>\n",
       "      <td>2020-07-04</td>\n",
       "      <td>9</td>\n",
       "      <td>Generic Smartphone</td>\n",
       "      <td>6</td>\n",
       "      <td>Chrome Mobile</td>\n",
       "      <td>0</td>\n",
       "      <td>0</td>\n",
       "    </tr>\n",
       "    <tr>\n",
       "      <th>8075</th>\n",
       "      <td>ffeeed62-3f7c-4a6e-8ba7-95d303d40969</td>\n",
       "      <td>exposed</td>\n",
       "      <td>2020-07-05</td>\n",
       "      <td>15</td>\n",
       "      <td>Samsung SM-A515F</td>\n",
       "      <td>6</td>\n",
       "      <td>Samsung Internet</td>\n",
       "      <td>0</td>\n",
       "      <td>0</td>\n",
       "    </tr>\n",
       "    <tr>\n",
       "      <th>8076</th>\n",
       "      <td>fffbb9ff-568a-41a5-a0c3-6866592f80d8</td>\n",
       "      <td>control</td>\n",
       "      <td>2020-07-10</td>\n",
       "      <td>14</td>\n",
       "      <td>Samsung SM-G960F</td>\n",
       "      <td>6</td>\n",
       "      <td>Facebook</td>\n",
       "      <td>0</td>\n",
       "      <td>0</td>\n",
       "    </tr>\n",
       "  </tbody>\n",
       "</table>\n",
       "<p>8077 rows × 9 columns</p>\n",
       "</div>"
      ],
      "text/plain": [
       "                                auction_id experiment        date  hour  \\\n",
       "0     0008ef63-77a7-448b-bd1e-075f42c55e39    exposed  2020-07-10     8   \n",
       "1     000eabc5-17ce-4137-8efe-44734d914446    exposed  2020-07-07    10   \n",
       "2     0016d14a-ae18-4a02-a204-6ba53b52f2ed    exposed  2020-07-05     2   \n",
       "3     00187412-2932-4542-a8ef-3633901c98d9    control  2020-07-03    15   \n",
       "4     001a7785-d3fe-4e11-a344-c8735acacc2c    control  2020-07-03    15   \n",
       "...                                    ...        ...         ...   ...   \n",
       "8072  ffea24ec-cec1-43fb-b1d1-8f93828c2be2    exposed  2020-07-05     7   \n",
       "8073  ffea3210-2c3e-426f-a77d-0aa72e73b20f    control  2020-07-03    15   \n",
       "8074  ffeaa0f1-1d72-4ba9-afb4-314b3b00a7c7    control  2020-07-04     9   \n",
       "8075  ffeeed62-3f7c-4a6e-8ba7-95d303d40969    exposed  2020-07-05    15   \n",
       "8076  fffbb9ff-568a-41a5-a0c3-6866592f80d8    control  2020-07-10    14   \n",
       "\n",
       "             device_make  platform_os                browser  yes  no  \n",
       "0     Generic Smartphone            6          Chrome Mobile    0   0  \n",
       "1     Generic Smartphone            6          Chrome Mobile    0   0  \n",
       "2                  E5823            6  Chrome Mobile WebView    0   1  \n",
       "3      Samsung SM-A705FN            6               Facebook    0   0  \n",
       "4     Generic Smartphone            6          Chrome Mobile    0   0  \n",
       "...                  ...          ...                    ...  ...  ..  \n",
       "8072  Generic Smartphone            6          Chrome Mobile    0   0  \n",
       "8073  Generic Smartphone            6          Chrome Mobile    0   0  \n",
       "8074  Generic Smartphone            6          Chrome Mobile    0   0  \n",
       "8075    Samsung SM-A515F            6       Samsung Internet    0   0  \n",
       "8076    Samsung SM-G960F            6               Facebook    0   0  \n",
       "\n",
       "[8077 rows x 9 columns]"
      ]
     },
     "execution_count": 49,
     "metadata": {},
     "output_type": "execute_result"
    }
   ],
   "source": [
    "AdSmart"
   ]
  },
  {
   "cell_type": "code",
   "execution_count": 50,
   "id": "42167ef0-4bbc-4344-8b0b-3a5ab9d57587",
   "metadata": {},
   "outputs": [
    {
     "name": "stderr",
     "output_type": "stream",
     "text": [
      "C:\\Users\\Alienware\\AppData\\Local\\Temp\\ipykernel_29324\\460997983.py:2: FutureWarning: \n",
      "\n",
      "The `ci` parameter is deprecated. Use `errorbar=('ci', False)` for the same effect.\n",
      "\n",
      "  sns.lineplot(data=AdSmart, x='date', y='no', hue='experiment', ci=False)\n",
      "C:\\Users\\Alienware\\miniconda3\\envs\\py310\\lib\\site-packages\\seaborn\\_oldcore.py:1119: FutureWarning: use_inf_as_na option is deprecated and will be removed in a future version. Convert inf values to NaN before operating instead.\n",
      "  with pd.option_context('mode.use_inf_as_na', True):\n",
      "C:\\Users\\Alienware\\miniconda3\\envs\\py310\\lib\\site-packages\\seaborn\\_oldcore.py:1119: FutureWarning: use_inf_as_na option is deprecated and will be removed in a future version. Convert inf values to NaN before operating instead.\n",
      "  with pd.option_context('mode.use_inf_as_na', True):\n",
      "C:\\Users\\Alienware\\miniconda3\\envs\\py310\\lib\\site-packages\\seaborn\\_oldcore.py:1075: FutureWarning: When grouping with a length-1 list-like, you will need to pass a length-1 tuple to get_group in a future version of pandas. Pass `(name,)` instead of `name` to silence this warning.\n",
      "  data_subset = grouped_data.get_group(pd_key)\n",
      "C:\\Users\\Alienware\\miniconda3\\envs\\py310\\lib\\site-packages\\seaborn\\_oldcore.py:1075: FutureWarning: When grouping with a length-1 list-like, you will need to pass a length-1 tuple to get_group in a future version of pandas. Pass `(name,)` instead of `name` to silence this warning.\n",
      "  data_subset = grouped_data.get_group(pd_key)\n"
     ]
    },
    {
     "data": {
      "image/png": "[encoded data removed]",
      "text/plain": [
       "<Figure size 640x480 with 1 Axes>"
      ]
     },
     "metadata": {},
     "output_type": "display_data"
    }
   ],
   "source": [
    "# Plot the proportion of 'no' responses over experiment duration\n",
    "sns.lineplot(data=AdSmart, x='date', y='no', hue='experiment', ci=False)\n",
    "plt.show()"
   ]
  },
  {
   "cell_type": "code",
   "execution_count": 51,
   "id": "15e7669a-377b-48b6-82d6-9bbfd700c4e4",
   "metadata": {},
   "outputs": [],
   "source": [
    "# A/B test data cleaning\n",
    "\n",
    "# A/B testing data cleaning is no different from the usual process taught in data cleaning and manipulation courses. However, understanding the context and data logging behavior of each A/B test on a case-by-case basis enables you to make decisions about how to handle messy data. Dropping or keeping duplicates or missing values are two cases where we need to be careful with our metric definitions and how consistent these are across variants."
   ]
  },
  {
   "cell_type": "code",
   "execution_count": 52,
   "id": "74e604ed-224a-4e1a-8493-e482171cc898",
   "metadata": {},
   "outputs": [
    {
     "name": "stdout",
     "output_type": "stream",
     "text": [
      "8077\n",
      "8077\n"
     ]
    }
   ],
   "source": [
    "# Check for duplicate rows due to logging issues \n",
    "\n",
    "print(len(AdSmart))\n",
    "print(len(AdSmart.drop_duplicates(keep='first')))\n"
   ]
  },
  {
   "cell_type": "code",
   "execution_count": 53,
   "id": "56ae3323-d78c-4cab-b253-edb04cdd9edd",
   "metadata": {},
   "outputs": [
    {
     "data": {
      "text/html": [
       "<div>\n",
       "<style scoped>\n",
       "    .dataframe tbody tr th:only-of-type {\n",
       "        vertical-align: middle;\n",
       "    }\n",
       "\n",
       "    .dataframe tbody tr th {\n",
       "        vertical-align: top;\n",
       "    }\n",
       "\n",
       "    .dataframe thead th {\n",
       "        text-align: right;\n",
       "    }\n",
       "</style>\n",
       "<table border=\"1\" class=\"dataframe\">\n",
       "  <thead>\n",
       "    <tr style=\"text-align: right;\">\n",
       "      <th></th>\n",
       "      <th>Unnamed: 0</th>\n",
       "      <th>user_id</th>\n",
       "      <th>landing_page</th>\n",
       "      <th>signup</th>\n",
       "      <th>time_on_page</th>\n",
       "    </tr>\n",
       "  </thead>\n",
       "  <tbody>\n",
       "    <tr>\n",
       "      <th>0</th>\n",
       "      <td>0</td>\n",
       "      <td>306815</td>\n",
       "      <td>B</td>\n",
       "      <td>0</td>\n",
       "      <td>28.566135</td>\n",
       "    </tr>\n",
       "    <tr>\n",
       "      <th>1</th>\n",
       "      <td>1</td>\n",
       "      <td>436933</td>\n",
       "      <td>A</td>\n",
       "      <td>0</td>\n",
       "      <td>26.405884</td>\n",
       "    </tr>\n",
       "    <tr>\n",
       "      <th>2</th>\n",
       "      <td>2</td>\n",
       "      <td>119056</td>\n",
       "      <td>B</td>\n",
       "      <td>0</td>\n",
       "      <td>22.497566</td>\n",
       "    </tr>\n",
       "    <tr>\n",
       "      <th>3</th>\n",
       "      <td>3</td>\n",
       "      <td>153419</td>\n",
       "      <td>A</td>\n",
       "      <td>0</td>\n",
       "      <td>30.418353</td>\n",
       "    </tr>\n",
       "    <tr>\n",
       "      <th>4</th>\n",
       "      <td>4</td>\n",
       "      <td>360887</td>\n",
       "      <td>B</td>\n",
       "      <td>0</td>\n",
       "      <td>31.392795</td>\n",
       "    </tr>\n",
       "    <tr>\n",
       "      <th>...</th>\n",
       "      <td>...</td>\n",
       "      <td>...</td>\n",
       "      <td>...</td>\n",
       "      <td>...</td>\n",
       "      <td>...</td>\n",
       "    </tr>\n",
       "    <tr>\n",
       "      <th>10795</th>\n",
       "      <td>10795</td>\n",
       "      <td>586091</td>\n",
       "      <td>B</td>\n",
       "      <td>0</td>\n",
       "      <td>38.157340</td>\n",
       "    </tr>\n",
       "    <tr>\n",
       "      <th>10796</th>\n",
       "      <td>10796</td>\n",
       "      <td>519591</td>\n",
       "      <td>B</td>\n",
       "      <td>1</td>\n",
       "      <td>33.790593</td>\n",
       "    </tr>\n",
       "    <tr>\n",
       "      <th>10797</th>\n",
       "      <td>10797</td>\n",
       "      <td>534253</td>\n",
       "      <td>B</td>\n",
       "      <td>0</td>\n",
       "      <td>20.385600</td>\n",
       "    </tr>\n",
       "    <tr>\n",
       "      <th>10798</th>\n",
       "      <td>10798</td>\n",
       "      <td>17109</td>\n",
       "      <td>B</td>\n",
       "      <td>0</td>\n",
       "      <td>27.650946</td>\n",
       "    </tr>\n",
       "    <tr>\n",
       "      <th>10799</th>\n",
       "      <td>10799</td>\n",
       "      <td>496160</td>\n",
       "      <td>A</td>\n",
       "      <td>0</td>\n",
       "      <td>25.532436</td>\n",
       "    </tr>\n",
       "  </tbody>\n",
       "</table>\n",
       "<p>10800 rows × 5 columns</p>\n",
       "</div>"
      ],
      "text/plain": [
       "       Unnamed: 0  user_id landing_page  signup  time_on_page\n",
       "0               0   306815            B       0     28.566135\n",
       "1               1   436933            A       0     26.405884\n",
       "2               2   119056            B       0     22.497566\n",
       "3               3   153419            A       0     30.418353\n",
       "4               4   360887            B       0     31.392795\n",
       "...           ...      ...          ...     ...           ...\n",
       "10795       10795   586091            B       0     38.157340\n",
       "10796       10796   519591            B       1     33.790593\n",
       "10797       10797   534253            B       0     20.385600\n",
       "10798       10798    17109            B       0     27.650946\n",
       "10799       10799   496160            A       0     25.532436\n",
       "\n",
       "[10800 rows x 5 columns]"
      ]
     },
     "execution_count": 53,
     "metadata": {},
     "output_type": "execute_result"
    }
   ],
   "source": [
    "homepage"
   ]
  },
  {
   "cell_type": "code",
   "execution_count": 54,
   "id": "dd304afe-dce0-4785-a7c3-e229d68be779",
   "metadata": {},
   "outputs": [
    {
     "name": "stdout",
     "output_type": "stream",
     "text": [
      "7999\n"
     ]
    }
   ],
   "source": [
    "# Calculate the unique users in group B \n",
    "print(homepage[homepage['landing_page'] == 'B']['user_id'].nunique())\n"
   ]
  },
  {
   "cell_type": "code",
   "execution_count": 55,
   "id": "c36e40f8-bc7d-4eea-b10c-df17e37e4567",
   "metadata": {},
   "outputs": [
    {
     "name": "stdout",
     "output_type": "stream",
     "text": [
      "425\n"
     ]
    }
   ],
   "source": [
    "# unique users who signed up at least one time\n",
    "print(homepage[homepage['landing_page'] == 'B'].groupby('user_id')['signup'].max().sum())\n"
   ]
  },
  {
   "cell_type": "code",
   "execution_count": 56,
   "id": "f178a5a7-5c2f-4214-8fec-edc2d17502f0",
   "metadata": {},
   "outputs": [
    {
     "name": "stdout",
     "output_type": "stream",
     "text": [
      "425\n"
     ]
    }
   ],
   "source": [
    "# all signups in the group B\n",
    "print(homepage[homepage['landing_page'] == 'B']['signup'].sum())"
   ]
  },
  {
   "cell_type": "code",
   "execution_count": 57,
   "id": "a4573c57-0d0a-4ea7-a533-bb774677aa63",
   "metadata": {},
   "outputs": [],
   "source": [
    "# SRM\n",
    "\n",
    "# When we design an experiment to allocate enrollment units (e.g. users) at a given percentage per variant, we expect some slight variations to happen due to logging issues, delays, minor instrumentation bugs, etc. When that deviation is larger than what is expected, however, this is usually an indication of a larger issue that could invalidate and bias our test results. The goal of this exercise is to examine the statistical techniques that enable you to catch cases where the allocation mismatch is too large to be blamed on chance alone.\n",
    "\n",
    "# As an analytics engineer, your role may require you to design and even automate frameworks for catching sample ratio mismatches in A/B tests."
   ]
  },
  {
   "cell_type": "code",
   "execution_count": 58,
   "id": "97af870d-e476-4d43-87da-67bf88b942fa",
   "metadata": {},
   "outputs": [
    {
     "name": "stdout",
     "output_type": "stream",
     "text": [
      "Control unique users: 2940\n",
      "Control unique users: 2938\n"
     ]
    }
   ],
   "source": [
    "# Assign the unqiue counts to each variant\n",
    "control_users = checkout[checkout['checkout_page'] == 'A']['user_id'].nunique()\n",
    "treatment_users = checkout[checkout['checkout_page'] == 'B']['user_id'].nunique()\n",
    "total_users = control_users + treatment_users\n",
    "print(\"Control unique users:\",control_users)\n",
    "print(\"Control unique users:\",treatment_users)\n"
   ]
  },
  {
   "cell_type": "code",
   "execution_count": 59,
   "id": "dbf06856-efae-4609-8d61-9bfa9af3963f",
   "metadata": {},
   "outputs": [
    {
     "name": "stdout",
     "output_type": "stream",
     "text": [
      "Percentage of users in the Control group: 50.017 %\n",
      "Percentage of users in the Exposed group: 49.983 %\n"
     ]
    }
   ],
   "source": [
    "# Calculate the percentages and create two lists\n",
    "control_perc = control_users / total_users\n",
    "treatment_perc = treatment_users / total_users\n",
    "print(\"Percentage of users in the Control group:\",100*round(control_perc,5),\"%\")\n",
    "print(\"Percentage of users in the Exposed group:\",100*round(treatment_perc,5),\"%\")\n"
   ]
  },
  {
   "cell_type": "code",
   "execution_count": 60,
   "id": "966bf3ae-7623-4454-92d6-eb707200af7a",
   "metadata": {},
   "outputs": [
    {
     "name": "stdout",
     "output_type": "stream",
     "text": [
      "Power_divergenceResult(statistic=0.0006805035726437564, pvalue=0.9791883740327534)\n",
      "SRM likely not present\n"
     ]
    }
   ],
   "source": [
    "observed = [ control_users, treatment_users ]\n",
    "expected = [ total_users/2, total_users/2 ]\n",
    "\n",
    "# Run chisquare test on observed and expected lists and print the results\n",
    "chi = chisquare(observed, f_exp=expected)\n",
    "\n",
    "print(chi)\n",
    "if chi[1] < 0.01:\n",
    "    print(\"SRM may be present\")\n",
    "else:\n",
    "    print(\"SRM likely not present\")"
   ]
  },
  {
   "cell_type": "code",
   "execution_count": 61,
   "id": "796e6074-3600-464a-8075-4a1f76681606",
   "metadata": {},
   "outputs": [],
   "source": [
    "# Distributions balance\n",
    "\n",
    "# Another way we can quickly check for randomization bias in our A/B tests is by looking at how balanced or imbalanced the distributions of metrics and attributes that shouldn't change between the different variants. Any major differences in the percentage of certain devices, browsers, or operating systems for examples, assuming our samples are large enough, could be symptoms of larger problems in our internal setup. Examine the AdSmart and checkout datasets that are loaded for you and check for internal validity using the attributes distributions. Which dataset seems to have a more valid internal setup?"
   ]
  },
  {
   "cell_type": "code",
   "execution_count": 62,
   "id": "42a02bb8-f26a-42f5-928d-903994e0e518",
   "metadata": {},
   "outputs": [
    {
     "data": {
      "text/plain": [
       "experiment  platform_os\n",
       "control     6              0.924343\n",
       "            5              0.075657\n",
       "exposed     6              0.969795\n",
       "            5              0.029955\n",
       "            7              0.000250\n",
       "Name: proportion, dtype: float64"
      ]
     },
     "execution_count": 62,
     "metadata": {},
     "output_type": "execute_result"
    }
   ],
   "source": [
    "AdSmart.groupby('experiment')['platform_os'].value_counts(normalize=True)"
   ]
  },
  {
   "cell_type": "code",
   "execution_count": 63,
   "id": "6a9046b1-a3c6-4f26-8e98-66e3264986cc",
   "metadata": {},
   "outputs": [
    {
     "data": {
      "text/plain": [
       "checkout_page  gender\n",
       "A              M         0.505000\n",
       "               F         0.495000\n",
       "B              F         0.507333\n",
       "               M         0.492667\n",
       "C              F         0.520333\n",
       "               M         0.479667\n",
       "Name: proportion, dtype: float64"
      ]
     },
     "execution_count": 63,
     "metadata": {},
     "output_type": "execute_result"
    }
   ],
   "source": [
    "# Check the distribution of gender by checkout_page\n",
    "checkout.groupby('checkout_page')['gender'].value_counts(normalize=True)"
   ]
  },
  {
   "cell_type": "code",
   "execution_count": 64,
   "id": "47dad2b0-a796-40ce-abf0-0737e33f214a",
   "metadata": {},
   "outputs": [],
   "source": [
    "# Novelty effects detection\n",
    "\n",
    "# Novelty effects happen more often than most Data Scientists and Engineers would expect. Running an A/B test on one new cool feature and calling the decision after seeing a big uptick in usage metrics over the first few days is one of the common mistakes that junior analysts fall into."
   ]
  },
  {
   "cell_type": "code",
   "execution_count": 65,
   "id": "9017dc36-b3e4-47fb-b6e5-6537341f7aee",
   "metadata": {},
   "outputs": [
    {
     "data": {
      "text/html": [
       "<div>\n",
       "<style scoped>\n",
       "    .dataframe tbody tr th:only-of-type {\n",
       "        vertical-align: middle;\n",
       "    }\n",
       "\n",
       "    .dataframe tbody tr th {\n",
       "        vertical-align: top;\n",
       "    }\n",
       "\n",
       "    .dataframe thead th {\n",
       "        text-align: right;\n",
       "    }\n",
       "</style>\n",
       "<table border=\"1\" class=\"dataframe\">\n",
       "  <thead>\n",
       "    <tr style=\"text-align: right;\">\n",
       "      <th></th>\n",
       "      <th>date</th>\n",
       "      <th>CTR_lift</th>\n",
       "      <th>ToP_lift</th>\n",
       "      <th>purchase_rate</th>\n",
       "      <th>CTR</th>\n",
       "    </tr>\n",
       "  </thead>\n",
       "  <tbody>\n",
       "    <tr>\n",
       "      <th>0</th>\n",
       "      <td>2023-01-01</td>\n",
       "      <td>0.060</td>\n",
       "      <td>15.0</td>\n",
       "      <td>0.030</td>\n",
       "      <td>0.052</td>\n",
       "    </tr>\n",
       "    <tr>\n",
       "      <th>1</th>\n",
       "      <td>2023-01-02</td>\n",
       "      <td>0.055</td>\n",
       "      <td>14.0</td>\n",
       "      <td>0.020</td>\n",
       "      <td>0.050</td>\n",
       "    </tr>\n",
       "    <tr>\n",
       "      <th>2</th>\n",
       "      <td>2023-01-03</td>\n",
       "      <td>0.050</td>\n",
       "      <td>11.0</td>\n",
       "      <td>0.022</td>\n",
       "      <td>0.052</td>\n",
       "    </tr>\n",
       "    <tr>\n",
       "      <th>3</th>\n",
       "      <td>2023-01-04</td>\n",
       "      <td>0.035</td>\n",
       "      <td>7.0</td>\n",
       "      <td>0.020</td>\n",
       "      <td>0.050</td>\n",
       "    </tr>\n",
       "    <tr>\n",
       "      <th>4</th>\n",
       "      <td>2023-01-05</td>\n",
       "      <td>0.040</td>\n",
       "      <td>8.0</td>\n",
       "      <td>0.020</td>\n",
       "      <td>0.050</td>\n",
       "    </tr>\n",
       "    <tr>\n",
       "      <th>5</th>\n",
       "      <td>2023-01-06</td>\n",
       "      <td>0.035</td>\n",
       "      <td>7.0</td>\n",
       "      <td>0.026</td>\n",
       "      <td>0.051</td>\n",
       "    </tr>\n",
       "    <tr>\n",
       "      <th>6</th>\n",
       "      <td>2023-01-07</td>\n",
       "      <td>0.037</td>\n",
       "      <td>9.0</td>\n",
       "      <td>0.031</td>\n",
       "      <td>0.053</td>\n",
       "    </tr>\n",
       "    <tr>\n",
       "      <th>7</th>\n",
       "      <td>2023-01-08</td>\n",
       "      <td>0.035</td>\n",
       "      <td>7.0</td>\n",
       "      <td>0.029</td>\n",
       "      <td>0.052</td>\n",
       "    </tr>\n",
       "    <tr>\n",
       "      <th>8</th>\n",
       "      <td>2023-01-09</td>\n",
       "      <td>0.034</td>\n",
       "      <td>8.5</td>\n",
       "      <td>0.020</td>\n",
       "      <td>0.050</td>\n",
       "    </tr>\n",
       "    <tr>\n",
       "      <th>9</th>\n",
       "      <td>2023-01-10</td>\n",
       "      <td>0.035</td>\n",
       "      <td>7.0</td>\n",
       "      <td>0.020</td>\n",
       "      <td>0.050</td>\n",
       "    </tr>\n",
       "    <tr>\n",
       "      <th>10</th>\n",
       "      <td>2023-01-11</td>\n",
       "      <td>0.036</td>\n",
       "      <td>7.8</td>\n",
       "      <td>0.023</td>\n",
       "      <td>0.051</td>\n",
       "    </tr>\n",
       "    <tr>\n",
       "      <th>11</th>\n",
       "      <td>2023-01-12</td>\n",
       "      <td>0.035</td>\n",
       "      <td>7.0</td>\n",
       "      <td>0.020</td>\n",
       "      <td>0.050</td>\n",
       "    </tr>\n",
       "    <tr>\n",
       "      <th>12</th>\n",
       "      <td>2023-01-13</td>\n",
       "      <td>0.035</td>\n",
       "      <td>7.0</td>\n",
       "      <td>0.030</td>\n",
       "      <td>0.052</td>\n",
       "    </tr>\n",
       "    <tr>\n",
       "      <th>13</th>\n",
       "      <td>2023-01-14</td>\n",
       "      <td>0.035</td>\n",
       "      <td>7.0</td>\n",
       "      <td>0.032</td>\n",
       "      <td>0.050</td>\n",
       "    </tr>\n",
       "  </tbody>\n",
       "</table>\n",
       "</div>"
      ],
      "text/plain": [
       "         date  CTR_lift  ToP_lift  purchase_rate    CTR\n",
       "0  2023-01-01     0.060      15.0          0.030  0.052\n",
       "1  2023-01-02     0.055      14.0          0.020  0.050\n",
       "2  2023-01-03     0.050      11.0          0.022  0.052\n",
       "3  2023-01-04     0.035       7.0          0.020  0.050\n",
       "4  2023-01-05     0.040       8.0          0.020  0.050\n",
       "5  2023-01-06     0.035       7.0          0.026  0.051\n",
       "6  2023-01-07     0.037       9.0          0.031  0.053\n",
       "7  2023-01-08     0.035       7.0          0.029  0.052\n",
       "8  2023-01-09     0.034       8.5          0.020  0.050\n",
       "9  2023-01-10     0.035       7.0          0.020  0.050\n",
       "10 2023-01-11     0.036       7.8          0.023  0.051\n",
       "11 2023-01-12     0.035       7.0          0.020  0.050\n",
       "12 2023-01-13     0.035       7.0          0.030  0.052\n",
       "13 2023-01-14     0.035       7.0          0.032  0.050"
      ]
     },
     "execution_count": 65,
     "metadata": {},
     "output_type": "execute_result"
    }
   ],
   "source": [
    "data = {\n",
    "    'date': pd.date_range(start='2023-01-01', periods=14),\n",
    "    'CTR_lift': [0.060, 0.055, 0.050, 0.035, 0.040, 0.035, 0.037, 0.035, 0.034, 0.035, 0.036, 0.035, 0.035, 0.035],\n",
    "    'ToP_lift': [15.0, 14.0, 11.0, 7.0, 8.0, 7.0, 9.0, 7.0, 8.5, 7.0, 7.8, 7.0, 7.0, 7.0],\n",
    "    'purchase_rate': [0.030, 0.020, 0.022, 0.020, 0.020, 0.026, 0.031, 0.029, 0.020, 0.020, 0.023, 0.020, 0.030, 0.032],\n",
    "    'CTR': [0.052, 0.050, 0.052, 0.050, 0.050, 0.051, 0.053, 0.052, 0.050, 0.050, 0.051, 0.050, 0.052, 0.050]\n",
    "}\n",
    "\n",
    "novelty = pd.DataFrame(data)\n",
    "\n",
    "novelty"
   ]
  },
  {
   "cell_type": "code",
   "execution_count": 66,
   "id": "f7973731-67fa-4e2f-b1d3-93c82947ddca",
   "metadata": {},
   "outputs": [
    {
     "data": {
      "image/png": "[encoded data removed]",
      "text/plain": [
       "<Figure size 640x480 with 1 Axes>"
      ]
     },
     "metadata": {},
     "output_type": "display_data"
    }
   ],
   "source": [
    "# Plot ToP_lift over the test dates\n",
    "novelty.plot('date', 'ToP_lift')\n",
    "# Add a vertical dashed line\n",
    "plt.axvline(x='2023-01-04',color='c',linestyle='dashed')\n",
    "plt.title('Lift in Time On Page Over Test Duration')\n",
    "plt.ylabel('Minutes')\n",
    "plt.ylim([0, 20])\n",
    "plt.show()"
   ]
  },
  {
   "cell_type": "code",
   "execution_count": 67,
   "id": "71cade12-1018-4e7d-9d95-d3f8c7d8f8d8",
   "metadata": {},
   "outputs": [
    {
     "data": {
      "text/html": [
       "<div>\n",
       "<style scoped>\n",
       "    .dataframe tbody tr th:only-of-type {\n",
       "        vertical-align: middle;\n",
       "    }\n",
       "\n",
       "    .dataframe tbody tr th {\n",
       "        vertical-align: top;\n",
       "    }\n",
       "\n",
       "    .dataframe thead th {\n",
       "        text-align: right;\n",
       "    }\n",
       "</style>\n",
       "<table border=\"1\" class=\"dataframe\">\n",
       "  <thead>\n",
       "    <tr style=\"text-align: right;\">\n",
       "      <th></th>\n",
       "      <th>Variant</th>\n",
       "      <th>Device</th>\n",
       "      <th>Browser</th>\n",
       "      <th>Conversion</th>\n",
       "    </tr>\n",
       "  </thead>\n",
       "  <tbody>\n",
       "    <tr>\n",
       "      <th>0</th>\n",
       "      <td>A</td>\n",
       "      <td>Phone</td>\n",
       "      <td>Chrome</td>\n",
       "      <td>1</td>\n",
       "    </tr>\n",
       "    <tr>\n",
       "      <th>1</th>\n",
       "      <td>A</td>\n",
       "      <td>Phone</td>\n",
       "      <td>Chrome</td>\n",
       "      <td>1</td>\n",
       "    </tr>\n",
       "    <tr>\n",
       "      <th>2</th>\n",
       "      <td>A</td>\n",
       "      <td>Phone</td>\n",
       "      <td>Chrome</td>\n",
       "      <td>1</td>\n",
       "    </tr>\n",
       "    <tr>\n",
       "      <th>3</th>\n",
       "      <td>A</td>\n",
       "      <td>Phone</td>\n",
       "      <td>Chrome</td>\n",
       "      <td>1</td>\n",
       "    </tr>\n",
       "    <tr>\n",
       "      <th>4</th>\n",
       "      <td>A</td>\n",
       "      <td>Phone</td>\n",
       "      <td>Chrome</td>\n",
       "      <td>1</td>\n",
       "    </tr>\n",
       "    <tr>\n",
       "      <th>...</th>\n",
       "      <td>...</td>\n",
       "      <td>...</td>\n",
       "      <td>...</td>\n",
       "      <td>...</td>\n",
       "    </tr>\n",
       "    <tr>\n",
       "      <th>95</th>\n",
       "      <td>B</td>\n",
       "      <td>Tablet</td>\n",
       "      <td>Safari</td>\n",
       "      <td>0</td>\n",
       "    </tr>\n",
       "    <tr>\n",
       "      <th>96</th>\n",
       "      <td>B</td>\n",
       "      <td>Tablet</td>\n",
       "      <td>Safari</td>\n",
       "      <td>0</td>\n",
       "    </tr>\n",
       "    <tr>\n",
       "      <th>97</th>\n",
       "      <td>B</td>\n",
       "      <td>Tablet</td>\n",
       "      <td>Safari</td>\n",
       "      <td>0</td>\n",
       "    </tr>\n",
       "    <tr>\n",
       "      <th>98</th>\n",
       "      <td>B</td>\n",
       "      <td>Tablet</td>\n",
       "      <td>Safari</td>\n",
       "      <td>0</td>\n",
       "    </tr>\n",
       "    <tr>\n",
       "      <th>99</th>\n",
       "      <td>B</td>\n",
       "      <td>Tablet</td>\n",
       "      <td>Safari</td>\n",
       "      <td>0</td>\n",
       "    </tr>\n",
       "  </tbody>\n",
       "</table>\n",
       "<p>100 rows × 4 columns</p>\n",
       "</div>"
      ],
      "text/plain": [
       "   Variant  Device Browser  Conversion\n",
       "0        A   Phone  Chrome           1\n",
       "1        A   Phone  Chrome           1\n",
       "2        A   Phone  Chrome           1\n",
       "3        A   Phone  Chrome           1\n",
       "4        A   Phone  Chrome           1\n",
       "..     ...     ...     ...         ...\n",
       "95       B  Tablet  Safari           0\n",
       "96       B  Tablet  Safari           0\n",
       "97       B  Tablet  Safari           0\n",
       "98       B  Tablet  Safari           0\n",
       "99       B  Tablet  Safari           0\n",
       "\n",
       "[100 rows x 4 columns]"
      ]
     },
     "execution_count": 67,
     "metadata": {},
     "output_type": "execute_result"
    }
   ],
   "source": [
    "import pandas as pd\n",
    "\n",
    "# Create the simp_balanced dataset\n",
    "data_balanced = {\n",
    "    'Variant': ['A']*50 + ['B']*50,\n",
    "    'Device': ['Phone']*25 + ['Tablet']*25 + ['Phone']*25 + ['Tablet']*25,\n",
    "    'Browser': ['Chrome']*25 + ['Safari']*25 + ['Chrome']*25 + ['Safari']*25,\n",
    "    'Conversion': [1]*35 + [0]*15 + [1]*26 + [0]*24\n",
    "}\n",
    "simp_balanced = pd.DataFrame(data_balanced)\n",
    "simp_balanced"
   ]
  },
  {
   "cell_type": "code",
   "execution_count": 68,
   "id": "4271db73-acb9-40e9-b411-8be3c92be471",
   "metadata": {},
   "outputs": [
    {
     "data": {
      "text/html": [
       "<div>\n",
       "<style scoped>\n",
       "    .dataframe tbody tr th:only-of-type {\n",
       "        vertical-align: middle;\n",
       "    }\n",
       "\n",
       "    .dataframe tbody tr th {\n",
       "        vertical-align: top;\n",
       "    }\n",
       "\n",
       "    .dataframe thead th {\n",
       "        text-align: right;\n",
       "    }\n",
       "</style>\n",
       "<table border=\"1\" class=\"dataframe\">\n",
       "  <thead>\n",
       "    <tr style=\"text-align: right;\">\n",
       "      <th></th>\n",
       "      <th>Variant</th>\n",
       "      <th>Device</th>\n",
       "      <th>Browser</th>\n",
       "      <th>Conversion</th>\n",
       "    </tr>\n",
       "  </thead>\n",
       "  <tbody>\n",
       "    <tr>\n",
       "      <th>0</th>\n",
       "      <td>A</td>\n",
       "      <td>Phone</td>\n",
       "      <td>Chrome</td>\n",
       "      <td>1</td>\n",
       "    </tr>\n",
       "    <tr>\n",
       "      <th>1</th>\n",
       "      <td>A</td>\n",
       "      <td>Phone</td>\n",
       "      <td>Chrome</td>\n",
       "      <td>1</td>\n",
       "    </tr>\n",
       "    <tr>\n",
       "      <th>2</th>\n",
       "      <td>A</td>\n",
       "      <td>Phone</td>\n",
       "      <td>Chrome</td>\n",
       "      <td>1</td>\n",
       "    </tr>\n",
       "    <tr>\n",
       "      <th>3</th>\n",
       "      <td>A</td>\n",
       "      <td>Phone</td>\n",
       "      <td>Chrome</td>\n",
       "      <td>1</td>\n",
       "    </tr>\n",
       "    <tr>\n",
       "      <th>4</th>\n",
       "      <td>A</td>\n",
       "      <td>Phone</td>\n",
       "      <td>Chrome</td>\n",
       "      <td>1</td>\n",
       "    </tr>\n",
       "    <tr>\n",
       "      <th>...</th>\n",
       "      <td>...</td>\n",
       "      <td>...</td>\n",
       "      <td>...</td>\n",
       "      <td>...</td>\n",
       "    </tr>\n",
       "    <tr>\n",
       "      <th>95</th>\n",
       "      <td>B</td>\n",
       "      <td>Tablet</td>\n",
       "      <td>Safari</td>\n",
       "      <td>0</td>\n",
       "    </tr>\n",
       "    <tr>\n",
       "      <th>96</th>\n",
       "      <td>B</td>\n",
       "      <td>Tablet</td>\n",
       "      <td>Safari</td>\n",
       "      <td>0</td>\n",
       "    </tr>\n",
       "    <tr>\n",
       "      <th>97</th>\n",
       "      <td>B</td>\n",
       "      <td>Tablet</td>\n",
       "      <td>Safari</td>\n",
       "      <td>0</td>\n",
       "    </tr>\n",
       "    <tr>\n",
       "      <th>98</th>\n",
       "      <td>B</td>\n",
       "      <td>Tablet</td>\n",
       "      <td>Safari</td>\n",
       "      <td>0</td>\n",
       "    </tr>\n",
       "    <tr>\n",
       "      <th>99</th>\n",
       "      <td>B</td>\n",
       "      <td>Tablet</td>\n",
       "      <td>Safari</td>\n",
       "      <td>0</td>\n",
       "    </tr>\n",
       "  </tbody>\n",
       "</table>\n",
       "<p>100 rows × 4 columns</p>\n",
       "</div>"
      ],
      "text/plain": [
       "   Variant  Device Browser  Conversion\n",
       "0        A   Phone  Chrome           1\n",
       "1        A   Phone  Chrome           1\n",
       "2        A   Phone  Chrome           1\n",
       "3        A   Phone  Chrome           1\n",
       "4        A   Phone  Chrome           1\n",
       "..     ...     ...     ...         ...\n",
       "95       B  Tablet  Safari           0\n",
       "96       B  Tablet  Safari           0\n",
       "97       B  Tablet  Safari           0\n",
       "98       B  Tablet  Safari           0\n",
       "99       B  Tablet  Safari           0\n",
       "\n",
       "[100 rows x 4 columns]"
      ]
     },
     "execution_count": 68,
     "metadata": {},
     "output_type": "execute_result"
    }
   ],
   "source": [
    "# Create the simp_imbalanced dataset\n",
    "data_imbalanced = {\n",
    "    'Variant': ['A']*50 + ['B']*50,\n",
    "    'Device': ['Phone']*38 + ['Tablet']*12 + ['Phone']*14 + ['Tablet']*36,\n",
    "    'Browser': ['Chrome']*38 + ['Safari']*12 + ['Chrome']*14 + ['Safari']*36,\n",
    "    'Conversion': [1]*40 + [0]*10 + [1]*32 + [0]*18\n",
    "}\n",
    "simp_imbalanced = pd.DataFrame(data_imbalanced)\n",
    "simp_imbalanced"
   ]
  },
  {
   "cell_type": "code",
   "execution_count": 69,
   "id": "323f67c3-6ff8-4966-ab27-56633ecc92c4",
   "metadata": {},
   "outputs": [
    {
     "name": "stdout",
     "output_type": "stream",
     "text": [
      "Variant\n",
      "A    0.80\n",
      "B    0.64\n",
      "Name: Conversion, dtype: float64\n",
      "Variant  Browser\n",
      "A        Chrome     1.000000\n",
      "         Safari     0.166667\n",
      "B        Chrome     1.000000\n",
      "         Safari     0.500000\n",
      "Name: Conversion, dtype: float64\n"
     ]
    }
   ],
   "source": [
    "# Calculate the conversion rate per variant and then browser\n",
    "imbalanced_variant_rate = simp_imbalanced.groupby('Variant')['Conversion'].mean()\n",
    "imbalanced_variant_browser_rate = simp_imbalanced.groupby(['Variant','Browser'])['Conversion'].mean()\n",
    "\n",
    "print(imbalanced_variant_rate)\n",
    "print(imbalanced_variant_browser_rate)"
   ]
  },
  {
   "cell_type": "code",
   "execution_count": 70,
   "id": "36bc4e05-6ae6-4866-bc26-f8dbe168ff4c",
   "metadata": {},
   "outputs": [
    {
     "name": "stdout",
     "output_type": "stream",
     "text": [
      "Variant  Browser\n",
      "A        Chrome     38\n",
      "         Safari     12\n",
      "B        Chrome     14\n",
      "         Safari     36\n",
      "Name: Browser, dtype: int64\n"
     ]
    }
   ],
   "source": [
    "# Examine the counts of browser types per variant\n",
    "imbalanced_variant_browser_count = simp_imbalanced.groupby(['Variant','Browser'])['Browser'].count()\n",
    "\n",
    "print(imbalanced_variant_browser_count)"
   ]
  },
  {
   "cell_type": "code",
   "execution_count": 71,
   "id": "59b1f615-ad86-4359-84b0-bccd09079248",
   "metadata": {},
   "outputs": [
    {
     "name": "stdout",
     "output_type": "stream",
     "text": [
      "Variant\n",
      "A    0.70\n",
      "B    0.52\n",
      "Name: Conversion, dtype: float64\n",
      "Variant  Browser\n",
      "A        Chrome     1.00\n",
      "         Safari     0.40\n",
      "B        Chrome     1.00\n",
      "         Safari     0.04\n",
      "Name: Conversion, dtype: float64\n",
      "Variant  Browser\n",
      "A        Chrome     25\n",
      "         Safari     25\n",
      "B        Chrome     25\n",
      "         Safari     25\n",
      "Name: Browser, dtype: int64\n"
     ]
    }
   ],
   "source": [
    "# Repeat the calcluation for the balanced dataset\n",
    "balanced_variant_rate = simp_balanced.groupby('Variant')['Conversion'].mean()\n",
    "balanced_variant_browser_rate = simp_balanced.groupby(['Variant','Browser'])['Conversion'].mean()\n",
    "balanced_variant_browser_count = simp_balanced.groupby(['Variant','Browser'])['Browser'].count()\n",
    "\n",
    "print(balanced_variant_rate)\n",
    "print(balanced_variant_browser_rate)\n",
    "print(balanced_variant_browser_count)"
   ]
  },
  {
   "cell_type": "code",
   "execution_count": 72,
   "id": "608f711e-f71a-4d22-bb7c-6c1280f1c6b1",
   "metadata": {},
   "outputs": [],
   "source": [
    "# Difference in proportions A/B test\n",
    "\n",
    "# You are data scientist running an A/B test to explore the differences in signup (conversion) rates between two landing page variants 'C' and 'D' loaded in the homepage dataset. You are tasked with guiding the team using your A/B test results to make a decision regarding which landing page variant would result in a higher signup rate if rolled out to the website traffic."
   ]
  },
  {
   "cell_type": "code",
   "execution_count": 73,
   "id": "6e8386b0-565f-4cc3-a67f-752c673dc171",
   "metadata": {},
   "outputs": [
    {
     "data": {
      "text/html": [
       "<div>\n",
       "<style scoped>\n",
       "    .dataframe tbody tr th:only-of-type {\n",
       "        vertical-align: middle;\n",
       "    }\n",
       "\n",
       "    .dataframe tbody tr th {\n",
       "        vertical-align: top;\n",
       "    }\n",
       "\n",
       "    .dataframe thead th {\n",
       "        text-align: right;\n",
       "    }\n",
       "</style>\n",
       "<table border=\"1\" class=\"dataframe\">\n",
       "  <thead>\n",
       "    <tr style=\"text-align: right;\">\n",
       "      <th></th>\n",
       "      <th>Unnamed: 0</th>\n",
       "      <th>user_id</th>\n",
       "      <th>landing_page</th>\n",
       "      <th>signup</th>\n",
       "      <th>time_on_page</th>\n",
       "    </tr>\n",
       "  </thead>\n",
       "  <tbody>\n",
       "    <tr>\n",
       "      <th>0</th>\n",
       "      <td>0</td>\n",
       "      <td>306815</td>\n",
       "      <td>B</td>\n",
       "      <td>0</td>\n",
       "      <td>28.566135</td>\n",
       "    </tr>\n",
       "    <tr>\n",
       "      <th>1</th>\n",
       "      <td>1</td>\n",
       "      <td>436933</td>\n",
       "      <td>A</td>\n",
       "      <td>0</td>\n",
       "      <td>26.405884</td>\n",
       "    </tr>\n",
       "    <tr>\n",
       "      <th>2</th>\n",
       "      <td>2</td>\n",
       "      <td>119056</td>\n",
       "      <td>B</td>\n",
       "      <td>0</td>\n",
       "      <td>22.497566</td>\n",
       "    </tr>\n",
       "    <tr>\n",
       "      <th>3</th>\n",
       "      <td>3</td>\n",
       "      <td>153419</td>\n",
       "      <td>A</td>\n",
       "      <td>0</td>\n",
       "      <td>30.418353</td>\n",
       "    </tr>\n",
       "    <tr>\n",
       "      <th>4</th>\n",
       "      <td>4</td>\n",
       "      <td>360887</td>\n",
       "      <td>B</td>\n",
       "      <td>0</td>\n",
       "      <td>31.392795</td>\n",
       "    </tr>\n",
       "    <tr>\n",
       "      <th>...</th>\n",
       "      <td>...</td>\n",
       "      <td>...</td>\n",
       "      <td>...</td>\n",
       "      <td>...</td>\n",
       "      <td>...</td>\n",
       "    </tr>\n",
       "    <tr>\n",
       "      <th>10795</th>\n",
       "      <td>10795</td>\n",
       "      <td>586091</td>\n",
       "      <td>B</td>\n",
       "      <td>0</td>\n",
       "      <td>38.157340</td>\n",
       "    </tr>\n",
       "    <tr>\n",
       "      <th>10796</th>\n",
       "      <td>10796</td>\n",
       "      <td>519591</td>\n",
       "      <td>B</td>\n",
       "      <td>1</td>\n",
       "      <td>33.790593</td>\n",
       "    </tr>\n",
       "    <tr>\n",
       "      <th>10797</th>\n",
       "      <td>10797</td>\n",
       "      <td>534253</td>\n",
       "      <td>B</td>\n",
       "      <td>0</td>\n",
       "      <td>20.385600</td>\n",
       "    </tr>\n",
       "    <tr>\n",
       "      <th>10798</th>\n",
       "      <td>10798</td>\n",
       "      <td>17109</td>\n",
       "      <td>B</td>\n",
       "      <td>0</td>\n",
       "      <td>27.650946</td>\n",
       "    </tr>\n",
       "    <tr>\n",
       "      <th>10799</th>\n",
       "      <td>10799</td>\n",
       "      <td>496160</td>\n",
       "      <td>A</td>\n",
       "      <td>0</td>\n",
       "      <td>25.532436</td>\n",
       "    </tr>\n",
       "  </tbody>\n",
       "</table>\n",
       "<p>10800 rows × 5 columns</p>\n",
       "</div>"
      ],
      "text/plain": [
       "       Unnamed: 0  user_id landing_page  signup  time_on_page\n",
       "0               0   306815            B       0     28.566135\n",
       "1               1   436933            A       0     26.405884\n",
       "2               2   119056            B       0     22.497566\n",
       "3               3   153419            A       0     30.418353\n",
       "4               4   360887            B       0     31.392795\n",
       "...           ...      ...          ...     ...           ...\n",
       "10795       10795   586091            B       0     38.157340\n",
       "10796       10796   519591            B       1     33.790593\n",
       "10797       10797   534253            B       0     20.385600\n",
       "10798       10798    17109            B       0     27.650946\n",
       "10799       10799   496160            A       0     25.532436\n",
       "\n",
       "[10800 rows x 5 columns]"
      ]
     },
     "execution_count": 73,
     "metadata": {},
     "output_type": "execute_result"
    }
   ],
   "source": [
    "homepage"
   ]
  },
  {
   "cell_type": "code",
   "execution_count": 74,
   "id": "006f007d-149c-4990-bfed-8890fc5e4da1",
   "metadata": {},
   "outputs": [
    {
     "name": "stdout",
     "output_type": "stream",
     "text": [
      "Group A users: 2749\n",
      "Group B users: 7999\n"
     ]
    }
   ],
   "source": [
    "\n",
    "# Calculate the number of users in groups C and D\n",
    "n_A = homepage[homepage['landing_page'] == 'A']['user_id'].nunique()\n",
    "n_B = homepage[homepage['landing_page'] == 'B']['user_id'].nunique()\n",
    "print('Group A users:',n_A)\n",
    "print('Group B users:',n_B)"
   ]
  },
  {
   "cell_type": "code",
   "execution_count": 75,
   "id": "4d36805b-4e99-42a5-b8da-d3401221ce04",
   "metadata": {},
   "outputs": [
    {
     "data": {
      "text/plain": [
       "Index([2350, 3695, 3054, 1107, 8340, 3916, 6592, 3599, 4086, 8601,\n",
       "       ...\n",
       "       3912, 2967, 7272, 6965, 7374, 6775, 5705,  401, 7892, 3605],\n",
       "      dtype='int64', length=2749)"
      ]
     },
     "execution_count": 75,
     "metadata": {},
     "output_type": "execute_result"
    }
   ],
   "source": [
    "indexes_to_change = homepage[homepage.landing_page=='B'].sample(2749).index\n",
    "indexes_to_change"
   ]
  },
  {
   "cell_type": "code",
   "execution_count": 76,
   "id": "c3d92acd-1c35-42a0-aa60-c0372398b8ae",
   "metadata": {},
   "outputs": [],
   "source": [
    "homepage.loc[indexes_to_change, 'landing_page'] = 'C'"
   ]
  },
  {
   "cell_type": "code",
   "execution_count": 77,
   "id": "af0782dd-e20b-4185-9f0d-30748439e17a",
   "metadata": {},
   "outputs": [
    {
     "data": {
      "text/plain": [
       "landing_page\n",
       "B    5295\n",
       "A    2756\n",
       "C    2749\n",
       "Name: count, dtype: int64"
      ]
     },
     "execution_count": 77,
     "metadata": {},
     "output_type": "execute_result"
    }
   ],
   "source": [
    "homepage.landing_page.value_counts()"
   ]
  },
  {
   "cell_type": "code",
   "execution_count": 79,
   "id": "54db3a9f-897f-4108-893b-6d614ccd07f6",
   "metadata": {},
   "outputs": [
    {
     "data": {
      "text/plain": [
       "([162, 154], [2749, 2743])"
      ]
     },
     "execution_count": 79,
     "metadata": {},
     "output_type": "execute_result"
    }
   ],
   "source": [
    "n_C = homepage[homepage['landing_page'] == 'C']['user_id'].nunique()\n",
    "\n",
    "# Compute unique signups in each group and assign to lists\n",
    "signup_A = homepage[homepage['landing_page'] == 'A'].groupby('user_id')['signup'].max().sum()\n",
    "signup_C = homepage[homepage['landing_page'] == 'C'].groupby('user_id')['signup'].max().sum()\n",
    "\n",
    "signups_abtest = [signup_A, signup_C]\n",
    "n_cdtest = [n_A, n_C]\n",
    "\n",
    "signups_abtest, n_cdtest"
   ]
  },
  {
   "cell_type": "code",
   "execution_count": 80,
   "id": "18554482-88d0-4bb6-be3e-954422c4eb5e",
   "metadata": {},
   "outputs": [
    {
     "name": "stdout",
     "output_type": "stream",
     "text": [
      "p-value: 0.6574\n",
      "Group C 95% CI : [0.0501, 0.0677]\n",
      "Group D 95% CI : [0.0475, 0.0648]\n"
     ]
    }
   ],
   "source": [
    "# Calculate the z_stat, p-value, and 95% confidence intervals\n",
    "z_stat, pvalue = proportions_ztest(signups_abtest, nobs=n_cdtest)\n",
    "(A_lo95, C_lo95), (A_up95, C_up95) = proportion_confint(signups_abtest, nobs=n_cdtest, alpha=0.05)\n",
    "\n",
    "print(f'p-value: {pvalue:.4f}')\n",
    "print(f'Group C 95% CI : [{A_lo95:.4f}, {A_up95:.4f}]')\n",
    "print(f'Group D 95% CI : [{C_lo95:.4f}, {C_up95:.4f}]')"
   ]
  },
  {
   "cell_type": "code",
   "execution_count": 81,
   "id": "fb543f15-b553-4e46-8735-998f04a3a4a5",
   "metadata": {},
   "outputs": [],
   "source": [
    "# Confidence intervals for proportions\n",
    "\n",
    "# Drawing random samples from a population produces slightly different confidence intervals.\n",
    "\n",
    "# The confidence level represents the percentage of the those intervals that capture the true population parameter. For example, we can expect that 90% of the confidence intervals produced at the 90% confidence level to contain the population parameter. "
   ]
  },
  {
   "cell_type": "code",
   "execution_count": 82,
   "id": "f441e8f7-5e16-4404-909b-6b9a026caa59",
   "metadata": {},
   "outputs": [
    {
     "name": "stdout",
     "output_type": "stream",
     "text": [
      "0.8203333333333334\n"
     ]
    }
   ],
   "source": [
    "# Calculate the average purchase rate for group A\n",
    "pop_mean = checkout[checkout['checkout_page'] == 'A']['purchased'].mean()\n",
    "print(pop_mean)\n"
   ]
  },
  {
   "cell_type": "code",
   "execution_count": 83,
   "id": "870ded5f-505d-4d29-b45a-28fa054ed9df",
   "metadata": {},
   "outputs": [
    {
     "name": "stdout",
     "output_type": "stream",
     "text": [
      "(0.7912669777384846, 0.9087330222615153) True\n",
      "(0.8146830076144598, 0.9253169923855402) True\n",
      "(0.7912669777384846, 0.9087330222615153) True\n",
      "(0.7682139027472309, 0.891786097252769) True\n",
      "(0.7118625465164149, 0.8481374534835852) True\n",
      "(0.8385342148455946, 0.9414657851544054) False\n",
      "(0.7568067872454262, 0.8831932127545737) True\n",
      "(0.7342058549219411, 0.865794145078059) True\n",
      "(0.6897510764476065, 0.8302489235523935) True\n",
      "(0.7912669777384846, 0.9087330222615153) True\n",
      "(0.7568067872454262, 0.8831932127545737) True\n",
      "(0.7230037568938057, 0.8569962431061944) True\n",
      "(0.7454722433688197, 0.8745277566311804) True\n",
      "(0.7682139027472309, 0.891786097252769) True\n",
      "(0.8146830076144598, 0.9253169923855402) True\n",
      "(0.7007792122465876, 0.8392207877534125) True\n",
      "(0.7682139027472309, 0.891786097252769) True\n",
      "(0.8029257122801267, 0.9170742877198733) True\n",
      "(0.7342058549219411, 0.865794145078059) True\n",
      "(0.7118625465164149, 0.8481374534835852) True\n"
     ]
    }
   ],
   "source": [
    "# Calculate 20 90% confidence intervals for 20 random samples of size 100 each\n",
    "for i in range(20):\n",
    "    contained = False\n",
    "    confidence_interval = proportion_confint(\n",
    "    \tcount=checkout[checkout['checkout_page'] == 'A'].sample(100)['purchased'].sum(), \n",
    "      \tnobs=100, \n",
    "      \talpha=(1 - 0.90))\n",
    "    if (pop_mean < confidence_interval[1]) & (pop_mean > confidence_interval[0]):\n",
    "        contained = True\n",
    "    print(confidence_interval, contained)\n",
    "    "
   ]
  },
  {
   "cell_type": "code",
   "execution_count": 84,
   "id": "209849a1-91b7-4b59-b913-f35682aa1235",
   "metadata": {},
   "outputs": [
    {
     "name": "stdout",
     "output_type": "stream",
     "text": [
      "(0.7089499833301763, 0.9110500166698238) True\n",
      "(0.7210398697297375, 0.9189601302702624) True\n",
      "(0.7089499833301763, 0.9110500166698238) True\n",
      "(0.7580244969228107, 0.9419755030771892) True\n",
      "(0.7455685379136142, 0.9344314620863857) True\n",
      "(0.822725120893533, 0.977274879106467) False\n",
      "(0.7962954552567282, 0.9637045447432718) True\n",
      "(0.770622063641917, 0.949377936358083) True\n",
      "(0.7089499833301763, 0.9110500166698238) True\n",
      "(0.6616007293363624, 0.8783992706636377) True\n",
      "(0.733243402788022, 0.9267565972119779) True\n",
      "(0.770622063641917, 0.949377936358083) True\n",
      "(0.7089499833301763, 0.9110500166698238) True\n",
      "(0.733243402788022, 0.9267565972119779) True\n",
      "(0.6732972232444141, 0.886702776755586) True\n",
      "(0.770622063641917, 0.949377936358083) True\n",
      "(0.7833739758747119, 0.9566260241252881) True\n",
      "(0.7580244969228107, 0.9419755030771892) True\n",
      "(0.7210398697297375, 0.9189601302702624) True\n",
      "(0.7089499833301763, 0.9110500166698238) True\n",
      "(0.6732972232444141, 0.886702776755586) True\n",
      "(0.6156436219504446, 0.8443563780495553) True\n",
      "(0.696966827858044, 0.9030331721419561) True\n",
      "(0.7833739758747119, 0.9566260241252881) True\n",
      "(0.6499906758485323, 0.8700093241514677) True\n",
      "(0.696966827858044, 0.9030331721419561) True\n",
      "(0.7089499833301763, 0.9110500166698238) True\n",
      "(0.7455685379136142, 0.9344314620863857) True\n",
      "(0.7455685379136142, 0.9344314620863857) True\n",
      "(0.6732972232444141, 0.886702776755586) True\n",
      "(0.6499906758485323, 0.8700093241514677) True\n",
      "(0.770622063641917, 0.949377936358083) True\n",
      "(0.7210398697297375, 0.9189601302702624) True\n",
      "(0.770622063641917, 0.949377936358083) True\n",
      "(0.7210398697297375, 0.9189601302702624) True\n",
      "(0.696966827858044, 0.9030331721419561) True\n",
      "(0.6850843507331047, 0.8949156492668954) True\n",
      "(0.6850843507331047, 0.8949156492668954) True\n",
      "(0.6732972232444141, 0.886702776755586) True\n",
      "(0.822725120893533, 0.977274879106467) False\n",
      "(0.696966827858044, 0.9030331721419561) True\n",
      "(0.7455685379136142, 0.9344314620863857) True\n",
      "(0.8094049395285309, 0.9705950604714692) True\n",
      "(0.7210398697297375, 0.9189601302702624) True\n",
      "(0.696966827858044, 0.9030331721419561) True\n",
      "(0.696966827858044, 0.9030331721419561) True\n",
      "(0.6384633193657137, 0.8615366806342863) True\n",
      "(0.696966827858044, 0.9030331721419561) True\n",
      "(0.6850843507331047, 0.8949156492668954) True\n",
      "(0.7455685379136142, 0.9344314620863857) True\n"
     ]
    }
   ],
   "source": [
    "# Calculate 20 99% confidence intervals for 20 random samples of size 100 each\n",
    "for i in range(50):\n",
    "    contained = False\n",
    "    confidence_interval = proportion_confint(\n",
    "    \tcount=checkout[checkout['checkout_page'] == 'A'].sample(100)['purchased'].sum(), \n",
    "      \tnobs=100, \n",
    "      \talpha=(1 - 0.99))\n",
    "    if (pop_mean < confidence_interval[1]) & (pop_mean > confidence_interval[0]):\n",
    "        contained = True\n",
    "    print(confidence_interval, contained)"
   ]
  },
  {
   "cell_type": "code",
   "execution_count": 85,
   "id": "c5012f99-d7eb-4396-b09e-bdfd11a2f175",
   "metadata": {},
   "outputs": [],
   "source": [
    "# T-test for difference in means\n",
    "\n",
    "# Imagine that you are a Data Scientist at an e-commerce company where you were tasked with running an experiment to help the payments team decide which checkout page design yields higher order value and fastest purchase decision time. Assuming you already estimated the required sample size per variant and successfully passed all the sanity checks, you will analyze the differences in average order_value and time_on_page metrics between the checkout_page variants, and make a decision on the best performing design."
   ]
  },
  {
   "cell_type": "code",
   "execution_count": 91,
   "id": "dafad97f-c564-4b3b-89d7-37a8dda67212",
   "metadata": {},
   "outputs": [
    {
     "name": "stdout",
     "output_type": "stream",
     "text": [
      "checkout_page\n",
      "A    24.956437\n",
      "B    29.876202\n",
      "C    34.917589\n",
      "Name: order_value, dtype: float64\n",
      "                T          dof alternative          p-val           CI95%  \\\n",
      "T-test -32.285094  3110.673039   two-sided  1.772895e-197  [-5.22, -4.62]   \n",
      "\n",
      "         cohen-d       BF10  power  \n",
      "T-test  0.901468  5.07e+203    1.0  \n"
     ]
    }
   ],
   "source": [
    "# Calculate the mean order values and run a t-test between variants A and B\n",
    "print(checkout.groupby('checkout_page')['order_value'].mean())\n",
    "\n",
    "ttest = pg.ttest(x=checkout[checkout['checkout_page']=='A']['order_value'], \n",
    "                       y=checkout[checkout['checkout_page']=='B']['order_value'],\n",
    "                       paired=False,\n",
    "                       alternative=\"two-sided\")\n",
    "print(ttest)"
   ]
  },
  {
   "cell_type": "code",
   "execution_count": 93,
   "id": "6ebc7467-3fb4-49fd-9661-415ea315bc90",
   "metadata": {},
   "outputs": [
    {
     "name": "stdout",
     "output_type": "stream",
     "text": [
      "checkout_page\n",
      "A    44.668527\n",
      "B    42.723772\n",
      "C    42.223772\n",
      "Name: time_on_page, dtype: float64\n",
      "               T   dof alternative         p-val        CI95%   cohen-d  \\\n",
      "T-test  7.026673  5998   two-sided  2.349604e-12  [1.4, 2.49]  0.181428   \n",
      "\n",
      "             BF10  power  \n",
      "T-test  1.305e+09    1.0  \n"
     ]
    }
   ],
   "source": [
    "# Calculate the mean time on page and run a t-test between variants A and B\n",
    "print(checkout.groupby('checkout_page')['time_on_page'].mean())\n",
    "\n",
    "ttest = pg.ttest(x=checkout[checkout['checkout_page']=='A']['time_on_page'], \n",
    "                       y=checkout[checkout['checkout_page']=='B']['time_on_page'],\n",
    "                       paired=False,\n",
    "                       alternative=\"two-sided\")\n",
    "print(ttest)"
   ]
  },
  {
   "cell_type": "code",
   "execution_count": 95,
   "id": "5f12242e-fdea-4c83-a9b9-87b21c8b3bab",
   "metadata": {},
   "outputs": [
    {
     "name": "stdout",
     "output_type": "stream",
     "text": [
      "               T   dof alternative         p-val        CI95%   cohen-d  \\\n",
      "T-test  8.833244  5998   two-sided  1.316118e-18  [1.9, 2.99]  0.228073   \n",
      "\n",
      "             BF10  power  \n",
      "T-test  1.811e+15    1.0  \n"
     ]
    }
   ],
   "source": [
    "# Run a t-test for time_on_page between variants A and C\n",
    "ttest = pg.ttest(x=checkout[checkout['checkout_page']=='A']['time_on_page'], \n",
    "                       y=checkout[checkout['checkout_page']=='C']['time_on_page'],\n",
    "                       paired=False,\n",
    "                       alternative=\"two-sided\")\n",
    "print(ttest)"
   ]
  },
  {
   "cell_type": "code",
   "execution_count": null,
   "id": "690248ca-f84a-4374-979a-308751fb94ca",
   "metadata": {},
   "outputs": [],
   "source": [
    "# All of the differences were statistically significant with page design C having the highest order_value and shortest time_on_page. But notice how we made multiple comparisons and analyzed multiple metrics using the same experiment data. \n",
    "\n",
    "# But we'd need to account for a correction, like Bonferroni, applied for multitest.\n",
    "\n",
    "# Pairwise t-tests\n",
    "\n",
    "# Manually running separate comparisons using individual t-tests can be a pain as the number of groups gets larger. Thankfully, the pingouin package's .pairwise_tests() method can make things easier."
   ]
  },
  {
   "cell_type": "code",
   "execution_count": 97,
   "id": "29bce9ee-1757-43d0-9e6d-9e96bba07a3d",
   "metadata": {},
   "outputs": [
    {
     "name": "stdout",
     "output_type": "stream",
     "text": [
      "       Contrast  A  B  Paired  Parametric         T          dof alternative  \\\n",
      "0  landing_page  A  B   False        True  1.478624  5720.308215   two-sided   \n",
      "1  landing_page  A  C   False        True  0.512281  5502.940893   two-sided   \n",
      "2  landing_page  B  C   False        True -0.900735  5730.550622   two-sided   \n",
      "\n",
      "      p-unc   BF10    hedges  \n",
      "0  0.139296  0.079  0.034423  \n",
      "1  0.608475  0.035  0.013807  \n",
      "2  0.367767   0.04 -0.020948  \n"
     ]
    }
   ],
   "source": [
    "# Perform a pairwise t-test on signup, grouped by landing-page\n",
    "pairwise = pg.pairwise_tests(data=homepage,\n",
    "                                   dv=\"time_on_page\",\n",
    "                                   between=\"landing_page\",\n",
    "                                   padjust=\"none\")\n",
    "\n",
    "print(pairwise)"
   ]
  },
  {
   "cell_type": "code",
   "execution_count": 99,
   "id": "442c3342-22d4-47bc-9e50-f8c14f891823",
   "metadata": {},
   "outputs": [
    {
     "name": "stdout",
     "output_type": "stream",
     "text": [
      "       Contrast  A  B  Paired  Parametric         T          dof alternative  \\\n",
      "0  landing_page  A  B   False        True  1.478624  5720.308215   two-sided   \n",
      "1  landing_page  A  C   False        True  0.512281  5502.940893   two-sided   \n",
      "2  landing_page  B  C   False        True -0.900735  5730.550622   two-sided   \n",
      "\n",
      "      p-unc    p-corr p-adjust   BF10    hedges  \n",
      "0  0.139296  0.417887     bonf  0.079  0.034423  \n",
      "1  0.608475  1.000000     bonf  0.035  0.013807  \n",
      "2  0.367767  1.000000     bonf   0.04 -0.020948  \n"
     ]
    }
   ],
   "source": [
    "# Modify the pairwise t-tests to use Bonferroni p-value adjustment\n",
    "bonferroni_pairwise = pg.pairwise_tests(data=homepage,\n",
    "                                   dv=\"time_on_page\",\n",
    "                                   between=\"landing_page\",\n",
    "                                   padjust=\"bonf\")\n",
    "\n",
    "print(bonferroni_pairwise)"
   ]
  },
  {
   "cell_type": "code",
   "execution_count": null,
   "id": "1936a39d-1789-439c-b03e-16f66a169229",
   "metadata": {},
   "outputs": [],
   "source": [
    "# Mann-Whitney U test\n",
    "\n",
    "# Let's assume that you are an Analytics Engineer at an early-stage start-up where the traffic size to your website is small. Since in many cases you will need to run the tests for a long duration to gather a sample size that is large enough to satisfy parametric tests' assumptions, you may need to lean on non-parametric tests to make faster decisions.\n",
    "\n",
    "# One of these tests is the Mann-Whitney U test, which is a statistical significance test used to determine if two independent samples were drawn from a population with the same distribution. You will leverage this test to analyze the difference in time_on_page between two groups of the checkout dataset."
   ]
  },
  {
   "cell_type": "code",
   "execution_count": 101,
   "id": "7dbef91b-7b9f-460e-b700-76414a928faa",
   "metadata": {},
   "outputs": [
    {
     "name": "stdout",
     "output_type": "stream",
     "text": [
      "                    mean  count\n",
      "checkout_page                  \n",
      "A              44.668527   3000\n",
      "B              42.723772   3000\n",
      "C              42.223772   3000\n",
      "     U-val alternative     p-val     RBC    CLES\n",
      "MWU  416.0   two-sided  0.045663 -0.3312  0.6656\n"
     ]
    }
   ],
   "source": [
    "# Calculate the mean and count of time on page by variant\n",
    "print(checkout.groupby('checkout_page')['time_on_page'].agg({'mean', 'count'}))\n",
    "\n",
    "np.random.seed(40)\n",
    "\n",
    "# Take a random sample of size 25 from each variant\n",
    "ToP_samp_B = checkout[checkout['checkout_page'] == 'B'].sample(25)['time_on_page']\n",
    "ToP_samp_C = checkout[checkout['checkout_page'] == 'C'].sample(25)['time_on_page']\n",
    "\n",
    "# Run a Mann-Whitney U test\n",
    "mwu_test = pg.mwu(x=ToP_samp_B,\n",
    "                        y=ToP_samp_C,\n",
    "                        alternative='two-sided')\n",
    "\n",
    "print(mwu_test)"
   ]
  },
  {
   "cell_type": "code",
   "execution_count": null,
   "id": "ea233262-c352-4ae3-b365-c11ae8f23b2c",
   "metadata": {},
   "outputs": [],
   "source": [
    "# Chi-square test for independence\n",
    "\n",
    "# When it comes to examining statistical dependence on categorical variables without relying on parametric assumptions, chi-square test for independence is a great fit. Examine the signup rate metric's dependence on the landing pages of the homepage dataset by looking at groups A and B only."
   ]
  },
  {
   "cell_type": "code",
   "execution_count": 104,
   "id": "1e2675a8-fc87-4246-8dab-621e24ef2168",
   "metadata": {},
   "outputs": [
    {
     "name": "stdout",
     "output_type": "stream",
     "text": [
      "2749 5276\n",
      "162 271\n",
      "Group A signup rate: 0.059\n",
      "Group B signup rate: 0.051\n"
     ]
    }
   ],
   "source": [
    "from scipy import stats\n",
    "\n",
    "# Calculate the number of users in groups A and B\n",
    "n_A = homepage[homepage['landing_page'] == 'A']['user_id'].nunique()\n",
    "n_B = homepage[homepage['landing_page'] == 'B']['user_id'].nunique()\n",
    "\n",
    "print(n_A, n_B)\n",
    "\n",
    "# Compute unique signups in each group\n",
    "signup_A = homepage[homepage['landing_page'] == 'A'].groupby('user_id')['signup'].max().sum()\n",
    "no_signup_A = n_A - signup_A\n",
    "signup_B = homepage[homepage['landing_page'] == 'B'].groupby('user_id')['signup'].max().sum()\n",
    "no_signup_B = n_B - signup_B\n",
    "\n",
    "print(signup_A, signup_B)\n",
    "\n",
    "print('Group A signup rate:',round(signup_A/n_A,3))\n",
    "print('Group B signup rate:',round(signup_B/n_B,3))"
   ]
  },
  {
   "cell_type": "code",
   "execution_count": 105,
   "id": "0c97a4dc-b80c-4234-9ab3-ab60e1aef09f",
   "metadata": {},
   "outputs": [
    {
     "data": {
      "text/plain": [
       "[[162, 2587], [271, 5005]]"
      ]
     },
     "execution_count": 105,
     "metadata": {},
     "output_type": "execute_result"
    }
   ],
   "source": [
    "# Create the signups table\n",
    "table = [[signup_A, no_signup_A], [signup_B, no_signup_B]]\n",
    "\n",
    "table"
   ]
  },
  {
   "cell_type": "code",
   "execution_count": 106,
   "id": "07848564-a31a-436e-9b18-c06571bce94b",
   "metadata": {},
   "outputs": [
    {
     "name": "stdout",
     "output_type": "stream",
     "text": [
      "p-value= 0.15455281820262243\n"
     ]
    }
   ],
   "source": [
    "# Calculate p-value\n",
    "print('p-value=',stats.chi2_contingency(table,correction=False)[1])"
   ]
  },
  {
   "cell_type": "code",
   "execution_count": null,
   "id": "145106dd-0056-4c3c-8901-2dd40264d428",
   "metadata": {},
   "outputs": [],
   "source": [
    "# Delta method\n",
    "\n",
    "# Delta method is one of the most practical A/B testing applications. As a Data Scientist you are going to encounter cases where the user assignment per variant is based on user_id to create a consistent experience, while the unit of analysis is something more granular such as a page view or a session.\n",
    "\n",
    "# In this exercise you will analyze the difference in total order_value per page_view ratio metric between variants A and C."
   ]
  },
  {
   "cell_type": "code",
   "execution_count": 110,
   "id": "14ef0f77-ee68-49be-8bb8-3da016fc2209",
   "metadata": {},
   "outputs": [
    {
     "data": {
      "text/html": [
       "<div>\n",
       "<style scoped>\n",
       "    .dataframe tbody tr th:only-of-type {\n",
       "        vertical-align: middle;\n",
       "    }\n",
       "\n",
       "    .dataframe tbody tr th {\n",
       "        vertical-align: top;\n",
       "    }\n",
       "\n",
       "    .dataframe thead th {\n",
       "        text-align: right;\n",
       "    }\n",
       "</style>\n",
       "<table border=\"1\" class=\"dataframe\">\n",
       "  <thead>\n",
       "    <tr style=\"text-align: right;\">\n",
       "      <th></th>\n",
       "      <th>order_value</th>\n",
       "      <th>page_view</th>\n",
       "    </tr>\n",
       "    <tr>\n",
       "      <th>user_id</th>\n",
       "      <th></th>\n",
       "      <th></th>\n",
       "    </tr>\n",
       "  </thead>\n",
       "  <tbody>\n",
       "    <tr>\n",
       "      <th>834537</th>\n",
       "      <td>24.024018</td>\n",
       "      <td>1</td>\n",
       "    </tr>\n",
       "    <tr>\n",
       "      <th>834553</th>\n",
       "      <td>23.054541</td>\n",
       "      <td>1</td>\n",
       "    </tr>\n",
       "    <tr>\n",
       "      <th>834580</th>\n",
       "      <td>0.000000</td>\n",
       "      <td>1</td>\n",
       "    </tr>\n",
       "    <tr>\n",
       "      <th>834581</th>\n",
       "      <td>24.810874</td>\n",
       "      <td>1</td>\n",
       "    </tr>\n",
       "    <tr>\n",
       "      <th>834604</th>\n",
       "      <td>22.988116</td>\n",
       "      <td>1</td>\n",
       "    </tr>\n",
       "    <tr>\n",
       "      <th>...</th>\n",
       "      <td>...</td>\n",
       "      <td>...</td>\n",
       "    </tr>\n",
       "    <tr>\n",
       "      <th>914443</th>\n",
       "      <td>0.000000</td>\n",
       "      <td>1</td>\n",
       "    </tr>\n",
       "    <tr>\n",
       "      <th>914458</th>\n",
       "      <td>24.111263</td>\n",
       "      <td>1</td>\n",
       "    </tr>\n",
       "    <tr>\n",
       "      <th>914523</th>\n",
       "      <td>25.701104</td>\n",
       "      <td>1</td>\n",
       "    </tr>\n",
       "    <tr>\n",
       "      <th>914566</th>\n",
       "      <td>23.050192</td>\n",
       "      <td>1</td>\n",
       "    </tr>\n",
       "    <tr>\n",
       "      <th>914573</th>\n",
       "      <td>21.496632</td>\n",
       "      <td>1</td>\n",
       "    </tr>\n",
       "  </tbody>\n",
       "</table>\n",
       "<p>2940 rows × 2 columns</p>\n",
       "</div>"
      ],
      "text/plain": [
       "         order_value  page_view\n",
       "user_id                        \n",
       "834537     24.024018          1\n",
       "834553     23.054541          1\n",
       "834580      0.000000          1\n",
       "834581     24.810874          1\n",
       "834604     22.988116          1\n",
       "...              ...        ...\n",
       "914443      0.000000          1\n",
       "914458     24.111263          1\n",
       "914523     25.701104          1\n",
       "914566     23.050192          1\n",
       "914573     21.496632          1\n",
       "\n",
       "[2940 rows x 2 columns]"
      ]
     },
     "execution_count": 110,
     "metadata": {},
     "output_type": "execute_result"
    }
   ],
   "source": [
    "# Create DataFrames for per user metrics for variants A and C\n",
    "A_per_user = pd.DataFrame({'order_value':checkout[checkout['checkout_page']=='A'].groupby('user_id')['order_value'].sum()\n",
    "                            ,'page_view':checkout[checkout['checkout_page']=='A'].groupby('user_id')['user_id'].count()})\n",
    "\n",
    "C_per_user = pd.DataFrame({'order_value':checkout[checkout['checkout_page']=='C'].groupby('user_id')['order_value'].sum()\n",
    "                           ,'page_view':checkout[checkout['checkout_page']=='C'].groupby('user_id')['user_id'].count()})\n",
    "\n",
    "# Assign the control and treatment ratio columns \n",
    "x_control = A_per_user['order_value']\n",
    "y_control = A_per_user['page_view']\n",
    "x_treatment = C_per_user['order_value']\n",
    "y_treatment = C_per_user['page_view']\n",
    "\n",
    "A_per_user"
   ]
  },
  {
   "cell_type": "code",
   "execution_count": 114,
   "id": "e5f6ef4d-7f70-4696-a5db-1a61b2f94310",
   "metadata": {},
   "outputs": [],
   "source": [
    "def var_delta(x,y): \n",
    "    x_bar = np.mean(x)\n",
    "    y_bar = np.mean(y)\n",
    "    x_var = np.var(x,ddof=1)\n",
    "    y_var = np.var(y,ddof=1)\n",
    "    cov_xy = np.cov(x,y,ddof=1)[0][1]    \n",
    "    var_ratio = (x_var/y_bar**2 + y_var*(x_bar**2/y_bar**4) - 2*cov_xy*(x_bar/y_bar**3))/len(x)\n",
    "    return var_ratio"
   ]
  },
  {
   "cell_type": "code",
   "execution_count": 112,
   "id": "56c83eaf-5255-4307-a47f-1662a29e3b83",
   "metadata": {},
   "outputs": [],
   "source": [
    "def ztest_delta(x_control,y_control,x_treatment,y_treatment, alpha = 0.05):\n",
    "    mean_control = x_control.sum()/y_control.sum()\n",
    "    mean_treatment = x_treatment.sum()/y_treatment.sum()\n",
    "    var_control = var_delta(x_control, y_control)\n",
    "    var_treatment = var_delta(x_treatment, y_treatment)\n",
    "    diff = mean_treatment - mean_control\n",
    "    var = var_control + var_treatment\n",
    "    # Calculate the two-tailed critical value\n",
    "    cv = stats.norm.ppf(1-alpha/2)\n",
    "    # Calculate the z_stat\n",
    "    z_stat = diff/np.sqrt(var)\n",
    "    # Calculate the p-value\n",
    "    p_val = stats.norm.sf(abs(z_stat)) * 2.0\n",
    "    # Calculate confidence intervals of the difference\n",
    "    stde = cv*np.sqrt(var)\n",
    "    lower = diff - stde \n",
    "    upper = diff + stde\n",
    "    result = {'mean_control':mean_control,\n",
    "              'mean_treatment':mean_treatment,\n",
    "              'difference':round(diff, 3),\n",
    "              'diff_CI':\"[\"+str(round(lower,3))+\", \"+str(round(upper,3))+\"]\",\n",
    "              'p-value':p_val}\n",
    "    return result"
   ]
  },
  {
   "cell_type": "code",
   "execution_count": 115,
   "id": "4ce2e1ac-f9fc-485e-8982-ff5ec0909887",
   "metadata": {},
   "outputs": [
    {
     "data": {
      "text/plain": [
       "{'mean_control': 20.472597188012,\n",
       " 'mean_treatment': 30.29682804716834,\n",
       " 'difference': 9.824,\n",
       " 'diff_CI': '[9.25, 10.398]',\n",
       " 'p-value': 1.5695484218904422e-246}"
      ]
     },
     "execution_count": 115,
     "metadata": {},
     "output_type": "execute_result"
    }
   ],
   "source": [
    "# Run a z-test for ratio metrics\n",
    "ztest_delta(x_control,y_control,x_treatment,y_treatment)"
   ]
  },
  {
   "cell_type": "code",
   "execution_count": 117,
   "id": "af150d9b-65d1-4d8f-92ca-d6959bd343a9",
   "metadata": {},
   "outputs": [],
   "source": [
    "# Day-of-the-week effect\n",
    "\n",
    "# Although A/B testing enables us to control for external variables such weather and holidays, some treatments may have stronger or weaker effects than others that need to be included to fully capture the user behavior around fluctuating periods. Depending on the tracked metric, you may need to consider running your A/B tests for full weekly increments. Some metrics exhibit seasonality and are affected by holidays, weekends, etc. while others don't fluctuate as much. It is up to you as the data scientist to advise the team on whether they can stop the test upon reaching the required sample size, or extend by a few days to cover seasonal effects such as day-of-the-week."
   ]
  },
  {
   "cell_type": "code",
   "execution_count": 118,
   "id": "dae1b36d-8832-4557-b499-2b3d22392cb3",
   "metadata": {},
   "outputs": [
    {
     "data": {
      "image/png": "[encoded data removed]",
      "text/plain": [
       "<Figure size 640x480 with 1 Axes>"
      ]
     },
     "metadata": {},
     "output_type": "display_data"
    }
   ],
   "source": [
    "# Adjust the line plot\n",
    "novelty.plot('date', 'purchase_rate')\n",
    "plt.title('Purchase Rate Over Test Duration')\n",
    "plt.ylabel('Purchase Rate [%]')\n",
    "plt.ylim([0, 0.04])\n",
    "plt.show()"
   ]
  },
  {
   "cell_type": "code",
   "execution_count": 119,
   "id": "6eb24c97-2f90-40b7-a5d9-957b96492c95",
   "metadata": {},
   "outputs": [
    {
     "data": {
      "image/png": "[encoded data removed]",
      "text/plain": [
       "<Figure size 640x480 with 1 Axes>"
      ]
     },
     "metadata": {},
     "output_type": "display_data"
    }
   ],
   "source": [
    "# Adjust the line plot\n",
    "novelty.plot('date', 'CTR')\n",
    "plt.title('Click-through Rate Over Test Duration')\n",
    "plt.ylabel('CTR [%]')\n",
    "plt.ylim([0.04, 0.06])\n",
    "plt.show()"
   ]
  },
  {
   "cell_type": "code",
   "execution_count": null,
   "id": "b22e6b98-0681-496f-bbad-e960573a1cda",
   "metadata": {},
   "outputs": [],
   "source": []
  },
  {
   "cell_type": "code",
   "execution_count": null,
   "id": "40a33160-d965-42d1-9955-5190610bf781",
   "metadata": {},
   "outputs": [],
   "source": []
  },
  {
   "cell_type": "code",
   "execution_count": null,
   "id": "cbec6aa2-7b5d-4ac3-a71d-31051d89e4b7",
   "metadata": {},
   "outputs": [],
   "source": []
  },
  {
   "cell_type": "code",
   "execution_count": null,
   "id": "a8806f84-5a5e-4945-9fd2-1a9a24d36eae",
   "metadata": {},
   "outputs": [],
   "source": []
  }
 ],
 "metadata": {
  "kernelspec": {
   "display_name": "Py310",
   "language": "python",
   "name": "py310"
  },
  "language_info": {
   "codemirror_mode": {
    "name": "ipython",
    "version": 3
   },
   "file_extension": ".py",
   "mimetype": "text/x-python",
   "name": "python",
   "nbconvert_exporter": "python",
   "pygments_lexer": "ipython3",
   "version": "3.10.11"
  }
 },
 "nbformat": 4,
 "nbformat_minor": 5
}
