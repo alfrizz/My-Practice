{
 "cells": [
  {
   "cell_type": "code",
   "execution_count": 51,
   "id": "14b6608a-d53c-4855-9db8-6e94530172ba",
   "metadata": {},
   "outputs": [],
   "source": [
    "import numpy as np\n",
    "\n",
    "class LogReg:\n",
    "    \n",
    "    def __init__(self, max_iter, lr):\n",
    "        self.max_iter = max_iter\n",
    "        self.lr = lr\n",
    "\n",
    "    def log_loss(self, y, y_hat ):\n",
    "        return -1 * np.sum(y*np.log(y_hat) + (1-y)*np.log(1-y_hat))\n",
    "    \n",
    "    def fit(self, X, y):\n",
    "        \n",
    "        # weights initialization to zero\n",
    "        weights = np.zeros(X.shape[1])   \n",
    "        # initial prediction\n",
    "        y_hat = self.predict(X, weights)\n",
    "        # calculate initial loss\n",
    "        loss = self.log_loss(y, y_hat)\n",
    "        \n",
    "        for n_iter in range(self.max_iter):\n",
    "            # compute gradient\n",
    "            grad = np.dot(y_hat - y, X) / y.size\n",
    "            # update weights\n",
    "            weights -= self.lr*grad\n",
    "            # updated prediction\n",
    "            y_hat = self.predict(X, weights)\n",
    "            # recalculate loss\n",
    "            new_loss = self.log_loss(y, y_hat)\n",
    "            # let's stop the iteration when the loss is not decreasing anymore\n",
    "            if new_loss >= loss:\n",
    "                break\n",
    "            loss = new_loss\n",
    "        \n",
    "        print('Total iterations:', n_iter)\n",
    "        return weights\n",
    "      \n",
    "    def predict(self, X, weights):\n",
    "        return 1 / (1 + np.exp(-1*np.dot(X,weights))) # no intercept\n",
    "    \n",
    "    \n"
   ]
  },
  {
   "cell_type": "code",
   "execution_count": 86,
   "id": "31960172-a94a-430d-85bc-6aa6c4729913",
   "metadata": {},
   "outputs": [
    {
     "data": {
      "text/plain": [
       "(array([[0.77081711, 0.64429894, 0.73739766, 0.31233008, 0.78280261],\n",
       "        [0.2167726 , 0.48540149, 0.88777749, 0.85691396, 0.13545748],\n",
       "        [0.96055355, 0.78478553, 0.94050704, 0.58574988, 0.40291579],\n",
       "        [0.6860052 , 0.97942366, 0.03834975, 0.59146108, 0.12303874],\n",
       "        [0.81442154, 0.63245048, 0.51630204, 0.76394455, 0.87606329],\n",
       "        [0.7041806 , 0.31909566, 0.22078266, 0.29572954, 0.50895379],\n",
       "        [0.67094416, 0.80593455, 0.01083827, 0.83883457, 0.89679606],\n",
       "        [0.82494695, 0.82902869, 0.09041241, 0.16039428, 0.9935474 ],\n",
       "        [0.07836403, 0.34519663, 0.66372568, 0.67729579, 0.36650153],\n",
       "        [0.06492352, 0.21331067, 0.1944571 , 0.08645139, 0.87355458],\n",
       "        [0.22031303, 0.58619149, 0.6466872 , 0.40586659, 0.77001939],\n",
       "        [0.25808603, 0.99300056, 0.12935684, 0.42446902, 0.27160837],\n",
       "        [0.61840835, 0.13464745, 0.31664458, 0.42390208, 0.83761497],\n",
       "        [0.7279519 , 0.03580219, 0.50667763, 0.12896173, 0.10574089],\n",
       "        [0.14337486, 0.80484982, 0.87853699, 0.03201281, 0.08137515],\n",
       "        [0.48649335, 0.13105792, 0.13242385, 0.86127067, 0.42780329],\n",
       "        [0.17669226, 0.55221102, 0.23085765, 0.63137763, 0.89189897],\n",
       "        [0.77639273, 0.2818471 , 0.36919053, 0.74167849, 0.15493658],\n",
       "        [0.37948481, 0.10025316, 0.89928512, 0.15293746, 0.94885614],\n",
       "        [0.11271309, 0.29211336, 0.75841906, 0.04739601, 0.36471342],\n",
       "        [0.87001078, 0.23200263, 0.65593686, 0.14229215, 0.56930247],\n",
       "        [0.44054621, 0.79340291, 0.01684686, 0.72710676, 0.77247548],\n",
       "        [0.26599939, 0.54570654, 0.53807612, 0.28126258, 0.15324619],\n",
       "        [0.20030725, 0.41859648, 0.77968741, 0.21788818, 0.82772326],\n",
       "        [0.49708728, 0.34853557, 0.60242372, 0.77183758, 0.53475458],\n",
       "        [0.09613482, 0.35251998, 0.64608151, 0.7411881 , 0.53064715],\n",
       "        [0.47481749, 0.13016897, 0.29730556, 0.23282347, 0.09597743],\n",
       "        [0.94074283, 0.75056914, 0.57280185, 0.13823138, 0.99726157],\n",
       "        [0.97951641, 0.69178652, 0.074443  , 0.45965394, 0.80603773],\n",
       "        [0.35668116, 0.20149131, 0.06036894, 0.67867736, 0.8867544 ]]),\n",
       " array([0, 1, 1, 0, 1, 1, 1, 0, 0, 0, 1, 0, 1, 1, 0, 1, 1, 1, 0, 0, 0, 0,\n",
       "        0, 1, 1, 0, 1, 0, 1, 1]))"
      ]
     },
     "execution_count": 86,
     "metadata": {},
     "output_type": "execute_result"
    }
   ],
   "source": [
    "n_samples = 30\n",
    "m_features = 5\n",
    "\n",
    "X = np.random.rand(n_samples, m_features)\n",
    "y = np.array([np.random.randint(0,2) for _ in range(n_samples)])\n",
    "\n",
    "X, y"
   ]
  },
  {
   "cell_type": "code",
   "execution_count": 87,
   "id": "8e50e51e-03f4-43aa-94ab-dcfc1e7b8ce1",
   "metadata": {},
   "outputs": [
    {
     "data": {
      "text/plain": [
       "<__main__.LogReg at 0x22532e25270>"
      ]
     },
     "execution_count": 87,
     "metadata": {},
     "output_type": "execute_result"
    }
   ],
   "source": [
    "my_logreg = LogReg(1000000, 0.01)\n",
    "my_logreg"
   ]
  },
  {
   "cell_type": "code",
   "execution_count": 88,
   "id": "c7018333-8f85-452f-9c09-dfdc8749d182",
   "metadata": {},
   "outputs": [
    {
     "name": "stdout",
     "output_type": "stream",
     "text": [
      "Total iterations: 270568\n"
     ]
    },
    {
     "data": {
      "text/plain": [
       "array([ 2.63369404, -5.13758289, -1.25690337,  4.71788337, -0.20274255])"
      ]
     },
     "execution_count": 88,
     "metadata": {},
     "output_type": "execute_result"
    }
   ],
   "source": [
    "calc_weights = my_logreg.fit(X,y)\n",
    "calc_weights"
   ]
  },
  {
   "cell_type": "code",
   "execution_count": 89,
   "id": "c416d91c-831f-4ae0-b882-30173b6486a1",
   "metadata": {},
   "outputs": [
    {
     "data": {
      "text/plain": [
       "array([0.29068678, 0.72643881, 0.49939711, 0.37569879, 0.84201725,\n",
       "       0.77377381, 0.80036679, 0.16179966, 0.67255607, 0.28119021,\n",
       "       0.18460142, 0.06679708, 0.91443615, 0.84335545, 0.00877462,\n",
       "       0.98808712, 0.53397205, 0.97341521, 0.47084338, 0.11841789,\n",
       "       0.69653592, 0.58339041, 0.18490436, 0.14894983, 0.90841046,\n",
       "       0.73483259, 0.78364932, 0.16131628, 0.71854259, 0.945343  ])"
      ]
     },
     "execution_count": 89,
     "metadata": {},
     "output_type": "execute_result"
    }
   ],
   "source": [
    "y_perc = my_logreg.predict(X, calc_weights)\n",
    "y_perc"
   ]
  },
  {
   "cell_type": "code",
   "execution_count": 90,
   "id": "00d0cac9-bee4-4928-9ed5-bcdcbce15df7",
   "metadata": {},
   "outputs": [
    {
     "data": {
      "text/plain": [
       "[0,\n",
       " 1,\n",
       " 0,\n",
       " 0,\n",
       " 1,\n",
       " 1,\n",
       " 1,\n",
       " 0,\n",
       " 1,\n",
       " 0,\n",
       " 0,\n",
       " 0,\n",
       " 1,\n",
       " 1,\n",
       " 0,\n",
       " 1,\n",
       " 1,\n",
       " 1,\n",
       " 0,\n",
       " 0,\n",
       " 1,\n",
       " 1,\n",
       " 0,\n",
       " 0,\n",
       " 1,\n",
       " 1,\n",
       " 1,\n",
       " 0,\n",
       " 1,\n",
       " 1]"
      ]
     },
     "execution_count": 90,
     "metadata": {},
     "output_type": "execute_result"
    }
   ],
   "source": [
    "y_pred = [1  if i > 0.5 else 0 for i in y_perc]\n",
    "y_pred"
   ]
  },
  {
   "cell_type": "code",
   "execution_count": 92,
   "id": "a474ca27-5606-4737-95e6-4cb4c85a3704",
   "metadata": {},
   "outputs": [
    {
     "data": {
      "text/plain": [
       "[1,\n",
       " 1,\n",
       " 0,\n",
       " 1,\n",
       " 1,\n",
       " 1,\n",
       " 1,\n",
       " 1,\n",
       " 0,\n",
       " 1,\n",
       " 0,\n",
       " 1,\n",
       " 1,\n",
       " 1,\n",
       " 1,\n",
       " 1,\n",
       " 1,\n",
       " 1,\n",
       " 1,\n",
       " 1,\n",
       " 0,\n",
       " 0,\n",
       " 1,\n",
       " 0,\n",
       " 1,\n",
       " 0,\n",
       " 1,\n",
       " 1,\n",
       " 1,\n",
       " 1]"
      ]
     },
     "execution_count": 92,
     "metadata": {},
     "output_type": "execute_result"
    }
   ],
   "source": [
    "guessed = [1 if y[i]==y_pred[i] else 0 for i in range(y.size)]\n",
    "guessed"
   ]
  },
  {
   "cell_type": "code",
   "execution_count": 93,
   "id": "1f6436b2-b88c-4b4a-8405-e74f070a1b79",
   "metadata": {},
   "outputs": [
    {
     "data": {
      "text/plain": [
       "0.7666666666666667"
      ]
     },
     "execution_count": 93,
     "metadata": {},
     "output_type": "execute_result"
    }
   ],
   "source": [
    "accuracy = np.sum(guessed) / y.size\n",
    "accuracy"
   ]
  }
 ],
 "metadata": {
  "kernelspec": {
   "display_name": "Py310",
   "language": "python",
   "name": "py310"
  },
  "language_info": {
   "codemirror_mode": {
    "name": "ipython",
    "version": 3
   },
   "file_extension": ".py",
   "mimetype": "text/x-python",
   "name": "python",
   "nbconvert_exporter": "python",
   "pygments_lexer": "ipython3",
   "version": "3.10.11"
  }
 },
 "nbformat": 4,
 "nbformat_minor": 5
}
