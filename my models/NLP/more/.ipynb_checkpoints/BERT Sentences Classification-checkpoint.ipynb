{
 "cells": [
  {
   "cell_type": "code",
   "execution_count": 1,
   "id": "fd50c291-20fd-4514-9748-47c6aa0e72d5",
   "metadata": {},
   "outputs": [
    {
     "data": {
      "text/plain": [
       "'NVIDIA GeForce RTX 2070 with Max-Q Design'"
      ]
     },
     "execution_count": 1,
     "metadata": {},
     "output_type": "execute_result"
    }
   ],
   "source": [
    "from torch import cuda\n",
    "cuda.get_device_name(0)"
   ]
  },
  {
   "cell_type": "code",
   "execution_count": 6,
   "id": "2009688c-e929-4a8b-abbd-a2fca9870316",
   "metadata": {},
   "outputs": [
    {
     "name": "stderr",
     "output_type": "stream",
     "text": [
      "fatal: destination path 'AugmentedSocialScientist' already exists and is not an empty directory.\n"
     ]
    },
    {
     "name": "stdout",
     "output_type": "stream",
     "text": [
      "Looking in indexes: https://pypi.org/simple, https://pypi.ngc.nvidia.com\n",
      "Processing g:\\my drive\\ingegneria\\data science gd\\models\\nlp\\augmentedsocialscientist\n",
      "  Preparing metadata (setup.py): started\n",
      "  Preparing metadata (setup.py): finished with status 'done'\n",
      "Requirement already satisfied: scikit-learn in c:\\users\\alienware\\miniconda3\\envs\\py310\\lib\\site-packages (from AugmentedSocialScientist==2.2.0) (1.2.2)\n",
      "Requirement already satisfied: tqdm in c:\\users\\alienware\\miniconda3\\envs\\py310\\lib\\site-packages (from AugmentedSocialScientist==2.2.0) (4.65.0)\n",
      "Requirement already satisfied: numpy in c:\\users\\alienware\\miniconda3\\envs\\py310\\lib\\site-packages (from AugmentedSocialScientist==2.2.0) (1.23.0)\n",
      "Requirement already satisfied: scipy in c:\\users\\alienware\\miniconda3\\envs\\py310\\lib\\site-packages (from AugmentedSocialScientist==2.2.0) (1.10.1)\n",
      "Requirement already satisfied: torch in c:\\users\\alienware\\miniconda3\\envs\\py310\\lib\\site-packages (from AugmentedSocialScientist==2.2.0) (2.0.1)\n",
      "Requirement already satisfied: transformers in c:\\users\\alienware\\miniconda3\\envs\\py310\\lib\\site-packages (from AugmentedSocialScientist==2.2.0) (4.29.2)\n",
      "Collecting sentencepiece\n",
      "  Downloading sentencepiece-0.1.99-cp310-cp310-win_amd64.whl (977 kB)\n",
      "     ---------------------------------------- 0.0/977.5 kB ? eta -:--:--\n",
      "     --------- ---------------------------- 235.5/977.5 kB 7.3 MB/s eta 0:00:01\n",
      "     -------------------------------- ----- 839.7/977.5 kB 8.8 MB/s eta 0:00:01\n",
      "     ------------------------------------- 977.5/977.5 kB 10.3 MB/s eta 0:00:00\n",
      "Requirement already satisfied: threadpoolctl>=2.0.0 in c:\\users\\alienware\\miniconda3\\envs\\py310\\lib\\site-packages (from scikit-learn->AugmentedSocialScientist==2.2.0) (3.1.0)\n",
      "Requirement already satisfied: joblib>=1.1.1 in c:\\users\\alienware\\miniconda3\\envs\\py310\\lib\\site-packages (from scikit-learn->AugmentedSocialScientist==2.2.0) (1.2.0)\n",
      "Requirement already satisfied: filelock in c:\\users\\alienware\\miniconda3\\envs\\py310\\lib\\site-packages (from torch->AugmentedSocialScientist==2.2.0) (3.12.0)\n",
      "Requirement already satisfied: typing-extensions in c:\\users\\alienware\\miniconda3\\envs\\py310\\lib\\site-packages (from torch->AugmentedSocialScientist==2.2.0) (4.8.0)\n",
      "Requirement already satisfied: sympy in c:\\users\\alienware\\miniconda3\\envs\\py310\\lib\\site-packages (from torch->AugmentedSocialScientist==2.2.0) (1.12)\n",
      "Requirement already satisfied: networkx in c:\\users\\alienware\\miniconda3\\envs\\py310\\lib\\site-packages (from torch->AugmentedSocialScientist==2.2.0) (3.1)\n",
      "Requirement already satisfied: jinja2 in c:\\users\\alienware\\miniconda3\\envs\\py310\\lib\\site-packages (from torch->AugmentedSocialScientist==2.2.0) (3.1.2)\n",
      "Requirement already satisfied: colorama in c:\\users\\alienware\\miniconda3\\envs\\py310\\lib\\site-packages (from tqdm->AugmentedSocialScientist==2.2.0) (0.4.6)\n",
      "Requirement already satisfied: huggingface-hub<1.0,>=0.14.1 in c:\\users\\alienware\\miniconda3\\envs\\py310\\lib\\site-packages (from transformers->AugmentedSocialScientist==2.2.0) (0.14.1)\n",
      "Requirement already satisfied: packaging>=20.0 in c:\\users\\alienware\\miniconda3\\envs\\py310\\lib\\site-packages (from transformers->AugmentedSocialScientist==2.2.0) (23.1)\n",
      "Requirement already satisfied: requests in c:\\users\\alienware\\appdata\\roaming\\python\\python310\\site-packages (from transformers->AugmentedSocialScientist==2.2.0) (2.30.0)\n",
      "Requirement already satisfied: tokenizers!=0.11.3,<0.14,>=0.11.1 in c:\\users\\alienware\\miniconda3\\envs\\py310\\lib\\site-packages (from transformers->AugmentedSocialScientist==2.2.0) (0.13.3)\n",
      "Requirement already satisfied: pyyaml>=5.1 in c:\\users\\alienware\\miniconda3\\envs\\py310\\lib\\site-packages (from transformers->AugmentedSocialScientist==2.2.0) (6.0)\n",
      "Requirement already satisfied: regex!=2019.12.17 in c:\\users\\alienware\\miniconda3\\envs\\py310\\lib\\site-packages (from transformers->AugmentedSocialScientist==2.2.0) (2023.5.5)\n",
      "Requirement already satisfied: fsspec in c:\\users\\alienware\\miniconda3\\envs\\py310\\lib\\site-packages (from huggingface-hub<1.0,>=0.14.1->transformers->AugmentedSocialScientist==2.2.0) (2023.5.0)\n",
      "Requirement already satisfied: MarkupSafe>=2.0 in c:\\users\\alienware\\miniconda3\\envs\\py310\\lib\\site-packages (from jinja2->torch->AugmentedSocialScientist==2.2.0) (2.1.2)\n",
      "Requirement already satisfied: urllib3<3,>=1.21.1 in c:\\users\\alienware\\miniconda3\\envs\\py310\\lib\\site-packages (from requests->transformers->AugmentedSocialScientist==2.2.0) (2.0.2)\n",
      "Requirement already satisfied: idna<4,>=2.5 in c:\\users\\alienware\\miniconda3\\envs\\py310\\lib\\site-packages (from requests->transformers->AugmentedSocialScientist==2.2.0) (3.4)\n",
      "Requirement already satisfied: charset-normalizer<4,>=2 in c:\\users\\alienware\\appdata\\roaming\\python\\python310\\site-packages (from requests->transformers->AugmentedSocialScientist==2.2.0) (3.1.0)\n",
      "Requirement already satisfied: certifi>=2017.4.17 in c:\\users\\alienware\\miniconda3\\envs\\py310\\lib\\site-packages (from requests->transformers->AugmentedSocialScientist==2.2.0) (2023.5.7)\n",
      "Requirement already satisfied: mpmath>=0.19 in c:\\users\\alienware\\miniconda3\\envs\\py310\\lib\\site-packages (from sympy->torch->AugmentedSocialScientist==2.2.0) (1.3.0)\n",
      "Building wheels for collected packages: AugmentedSocialScientist\n",
      "  Building wheel for AugmentedSocialScientist (setup.py): started\n",
      "  Building wheel for AugmentedSocialScientist (setup.py): finished with status 'done'\n",
      "  Created wheel for AugmentedSocialScientist: filename=AugmentedSocialScientist-2.2.0-py3-none-any.whl size=11585 sha256=343309ab09d3ec4c2984768d2d7ece50ec376ddb573cebb8ea1a2cc4805e95bb\n",
      "  Stored in directory: C:\\Users\\Alienware\\AppData\\Local\\Temp\\pip-ephem-wheel-cache-e1as53sd\\wheels\\ce\\ee\\06\\476166e67084c402516a385185badead4f5f85a5692991d1ad\n",
      "Successfully built AugmentedSocialScientist\n",
      "Installing collected packages: sentencepiece, AugmentedSocialScientist\n",
      "Successfully installed AugmentedSocialScientist-2.2.0 sentencepiece-0.1.99\n"
     ]
    }
   ],
   "source": [
    "!git clone https://github.com/rubingshen/AugmentedSocialScientist.git  \n",
    "!pip install ./AugmentedSocialScientist/"
   ]
  }
 ],
 "metadata": {
  "kernelspec": {
   "display_name": "Py310",
   "language": "python",
   "name": "py310"
  },
  "language_info": {
   "codemirror_mode": {
    "name": "ipython",
    "version": 3
   },
   "file_extension": ".py",
   "mimetype": "text/x-python",
   "name": "python",
   "nbconvert_exporter": "python",
   "pygments_lexer": "ipython3",
   "version": "3.10.11"
  }
 },
 "nbformat": 4,
 "nbformat_minor": 5
}
