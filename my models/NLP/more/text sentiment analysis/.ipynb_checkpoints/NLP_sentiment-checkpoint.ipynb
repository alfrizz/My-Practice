{
 "cells": [
  {
   "cell_type": "code",
   "execution_count": 19,
   "id": "eed7d786-0cbb-450f-8fb7-d114b1174a77",
   "metadata": {},
   "outputs": [],
   "source": [
    "import nltk\n",
    "from nltk.tokenize import word_tokenize\n",
    "from nltk.stem import WordNetLemmatizer\n",
    "import os\n",
    "import matplotlib.pyplot as plt\n",
    "import pandas as pd\n",
    "import numpy as np\n",
    "import random\n",
    "import pickle\n",
    "from collections import Counter\n",
    "from sklearn.model_selection import train_test_split\n",
    "import tensorflow as tf\n",
    "from tensorflow.keras.callbacks import EarlyStopping\n",
    "from tensorflow.keras.utils import to_categorical\n",
    "import gc\n"
   ]
  },
  {
   "cell_type": "code",
   "execution_count": 2,
   "id": "da620f91-26ce-4c3c-9917-c5167e409239",
   "metadata": {},
   "outputs": [],
   "source": [
    "def create_lexicon (directory=os.getcwd(), max_quant=0.998, min_quant=0.972, visualize=False):\n",
    "    \n",
    "    all_words = []\n",
    "    lemmatizer = WordNetLemmatizer()\n",
    "\n",
    "    for filename in os.listdir(directory):\n",
    "        if filename.endswith('.txt'):\n",
    "            with open(filename, 'r') as file:\n",
    "                for line in file:\n",
    "                    words_in_line = word_tokenize(line)\n",
    "                    all_words += words_in_line\n",
    "        \n",
    "    all_words_lem = [lemmatizer.lemmatize(word) for word in all_words]\n",
    "    all_words_cnt = Counter(all_words_lem)\n",
    "    \n",
    "    freq_list = [freq for _ , freq in all_words_cnt.items()]\n",
    "    max_freq = np.quantile(freq_list, max_quant)\n",
    "    min_freq = np.quantile(freq_list, min_quant)\n",
    "\n",
    "    all_words_filt = {word : freq for word, freq in all_words_cnt.items() if  min_freq < freq < max_freq}\n",
    "    freq_list_filt = [freq for _ , freq in all_words_filt.items()]\n",
    "    words_list_filt = [word for word , _ in all_words_filt.items()]\n",
    "    \n",
    "    if visualize:\n",
    "        print ('number of words in the filtered dictionary:', len(freq_list_filt))\n",
    "        print ('max repetitions considered:', max_freq)\n",
    "        print ('min repetitions considered:', min_freq)\n",
    "        plt.hist(freq_list_filt, bins = len(freq_list_filt))\n",
    "        plt.show()\n",
    "    \n",
    "    return words_list_filt"
   ]
  },
  {
   "cell_type": "code",
   "execution_count": 3,
   "id": "9d87d354-67ba-42b2-87c1-5427d6743ad2",
   "metadata": {},
   "outputs": [],
   "source": [
    "def create_dataframe (lexicon, sample, is_positive):\n",
    "    \n",
    "    lemmatizer = WordNetLemmatizer()\n",
    "    dataset = []\n",
    "    label = 1 if is_positive else 0\n",
    "    \n",
    "    with open(sample, 'r') as file:\n",
    "        for line in file:\n",
    "            line_tokenized = word_tokenize(line)\n",
    "            line_lemmatized = [lemmatizer.lemmatize(line_tokenized) for line_tokenized in line_tokenized]\n",
    "            feature = np.zeros(len(lexicon))\n",
    "            \n",
    "            for word in line_lemmatized:\n",
    "                if word in lexicon:\n",
    "                    feature[lexicon.index(word)] += 1\n",
    "                    \n",
    "            dataset.append([feature, label])\n",
    "        \n",
    "        dataframe = pd.DataFrame(dataset, columns=['text_encod', 'label']) # .reset_index(drop = True)\n",
    "\n",
    "    return dataframe"
   ]
  },
  {
   "cell_type": "code",
   "execution_count": 4,
   "id": "0a956577-49a0-4882-afb3-aa59381790c1",
   "metadata": {},
   "outputs": [],
   "source": [
    "def merge_n_split_df(pos_file, neg_file):\n",
    "    \n",
    "    lexicon = create_lexicon()\n",
    "\n",
    "    pos_df = create_dataframe(lexicon, pos_file, is_positive = True)\n",
    "    neg_df = create_dataframe(lexicon, neg_file, is_positive = False)\n",
    "\n",
    "    full_dataframe = pd.concat([pos_df, neg_df]) #, ignore_index = True\n",
    "    \n",
    "    train_x, test_x, train_y, test_y  = train_test_split(full_dataframe['text_encod'], full_dataframe['label'], \n",
    "                                                        test_size=0.1, shuffle=True)\n",
    "    \n",
    "\n",
    "    return train_x, test_x, train_y, test_y"
   ]
  },
  {
   "cell_type": "code",
   "execution_count": 5,
   "id": "748c4b08-851d-4625-a3ee-a4ff032892eb",
   "metadata": {},
   "outputs": [
    {
     "data": {
      "text/plain": [
       "(1695    [0.0, 0.0, 0.0, 0.0, 0.0, 0.0, 0.0, 0.0, 0.0, ...\n",
       " 2552    [0.0, 0.0, 0.0, 0.0, 0.0, 0.0, 0.0, 0.0, 0.0, ...\n",
       " 3738    [0.0, 0.0, 0.0, 0.0, 0.0, 0.0, 0.0, 0.0, 1.0, ...\n",
       " 4565    [0.0, 0.0, 0.0, 1.0, 0.0, 0.0, 0.0, 0.0, 0.0, ...\n",
       " 5045    [0.0, 0.0, 1.0, 0.0, 0.0, 0.0, 0.0, 0.0, 0.0, ...\n",
       "                               ...                        \n",
       " 5311    [0.0, 0.0, 0.0, 0.0, 0.0, 0.0, 0.0, 0.0, 0.0, ...\n",
       " 4374    [0.0, 0.0, 0.0, 1.0, 0.0, 0.0, 0.0, 0.0, 0.0, ...\n",
       " 3169    [0.0, 0.0, 0.0, 0.0, 0.0, 0.0, 0.0, 0.0, 0.0, ...\n",
       " 5131    [0.0, 0.0, 0.0, 0.0, 0.0, 0.0, 0.0, 0.0, 0.0, ...\n",
       " 4361    [0.0, 0.0, 0.0, 0.0, 0.0, 0.0, 0.0, 0.0, 0.0, ...\n",
       " Name: text_encod, Length: 9595, dtype: object,\n",
       " 459     [0.0, 0.0, 0.0, 0.0, 0.0, 0.0, 0.0, 0.0, 0.0, ...\n",
       " 4499    [0.0, 1.0, 0.0, 0.0, 0.0, 0.0, 0.0, 0.0, 0.0, ...\n",
       " 1230    [0.0, 0.0, 0.0, 1.0, 0.0, 0.0, 0.0, 0.0, 0.0, ...\n",
       " 676     [0.0, 0.0, 0.0, 0.0, 0.0, 0.0, 0.0, 0.0, 0.0, ...\n",
       " 871     [0.0, 0.0, 0.0, 0.0, 0.0, 0.0, 0.0, 0.0, 0.0, ...\n",
       "                               ...                        \n",
       " 3245    [0.0, 0.0, 0.0, 0.0, 0.0, 0.0, 0.0, 0.0, 0.0, ...\n",
       " 1270    [1.0, 0.0, 0.0, 0.0, 0.0, 1.0, 0.0, 0.0, 0.0, ...\n",
       " 1070    [0.0, 0.0, 0.0, 0.0, 1.0, 0.0, 0.0, 0.0, 0.0, ...\n",
       " 3241    [0.0, 0.0, 0.0, 0.0, 0.0, 0.0, 0.0, 0.0, 0.0, ...\n",
       " 1296    [0.0, 0.0, 0.0, 0.0, 0.0, 0.0, 0.0, 0.0, 0.0, ...\n",
       " Name: text_encod, Length: 1067, dtype: object,\n",
       " 1695    0\n",
       " 2552    0\n",
       " 3738    0\n",
       " 4565    1\n",
       " 5045    1\n",
       "        ..\n",
       " 5311    0\n",
       " 4374    0\n",
       " 3169    0\n",
       " 5131    0\n",
       " 4361    0\n",
       " Name: label, Length: 9595, dtype: int64,\n",
       " 459     1\n",
       " 4499    1\n",
       " 1230    1\n",
       " 676     0\n",
       " 871     0\n",
       "        ..\n",
       " 3245    1\n",
       " 1270    0\n",
       " 1070    0\n",
       " 3241    0\n",
       " 1296    0\n",
       " Name: label, Length: 1067, dtype: int64)"
      ]
     },
     "execution_count": 5,
     "metadata": {},
     "output_type": "execute_result"
    }
   ],
   "source": [
    "# if __name__ == '__main__':\n",
    "\n",
    "train_x, test_x, train_y, test_y = merge_n_split_df(pos_file = 'pos.txt', neg_file = 'neg.txt')\n",
    "merge_n_split_df(pos_file = 'pos.txt', neg_file = 'neg.txt')    \n",
    "\n",
    "    # with open('sentiment_set.pickle','wb') as file:\n",
    "        # pickle.dump([train_x,test_x,train_y,test_y],file)"
   ]
  },
  {
   "cell_type": "code",
   "execution_count": 12,
   "id": "d617852c-42a8-461c-bb52-e81f7a5123e5",
   "metadata": {},
   "outputs": [
    {
     "name": "stdout",
     "output_type": "stream",
     "text": [
      "(481,)\n",
      "Model: \"sequential_1\"\n",
      "_________________________________________________________________\n",
      " Layer (type)                Output Shape              Param #   \n",
      "=================================================================\n",
      " dense_4 (Dense)             (None, 2000)              964000    \n",
      "                                                                 \n",
      " dense_5 (Dense)             (None, 4000)              8004000   \n",
      "                                                                 \n",
      " dense_6 (Dense)             (None, 8000)              32008000  \n",
      "                                                                 \n",
      " dense_7 (Dense)             (None, 16000)             128016000 \n",
      "                                                                 \n",
      " dense_8 (Dense)             (None, 2)                 32002     \n",
      "                                                                 \n",
      "=================================================================\n",
      "Total params: 169,024,002\n",
      "Trainable params: 169,024,002\n",
      "Non-trainable params: 0\n",
      "_________________________________________________________________\n"
     ]
    }
   ],
   "source": [
    "model = tf.keras.models.Sequential()\n",
    "model.add(tf.keras.layers.Dense(units=2000, \n",
    "                                activation='relu', \n",
    "                                input_shape=(train_x.iloc[0].shape), # number of words in the lexicon (to reshape accordingly)\n",
    "                                kernel_initializer='glorot_uniform')) #uniform distribution weights initialization\n",
    "print(train_x[0].shape)\n",
    "model.add(tf.keras.layers.Dense(4000))\n",
    "# model.add(tf.keras.layers.Dropout(0.1))\n",
    "model.add(tf.keras.layers.Dense(8000))\n",
    "# model.add(tf.keras.layers.Dropout(0.1))\n",
    "model.add(tf.keras.layers.Dense(16000))\n",
    "model.add(tf.keras.layers.Dense(2, activation='softmax')) # 2 (pos or neg) output (to one-hot encode accordingly)\n",
    "model.summary()"
   ]
  },
  {
   "cell_type": "code",
   "execution_count": 13,
   "id": "d2f39192-8ede-4d69-9a76-360400f4b516",
   "metadata": {},
   "outputs": [
    {
     "name": "stdout",
     "output_type": "stream",
     "text": [
      "Epoch 1/50\n",
      "96/96 [==============================] - 5s 46ms/step - loss: 5.0243 - accuracy: 0.5265 - precision_1: 0.5266 - recall_1: 0.5264\n",
      "Epoch 2/50\n",
      "96/96 [==============================] - 5s 49ms/step - loss: 0.5731 - accuracy: 0.7013 - precision_1: 0.7013 - recall_1: 0.7013\n",
      "Epoch 3/50\n",
      "96/96 [==============================] - 5s 51ms/step - loss: 0.3738 - accuracy: 0.8286 - precision_1: 0.8286 - recall_1: 0.8286\n",
      "Epoch 4/50\n",
      "96/96 [==============================] - 5s 51ms/step - loss: 0.1943 - accuracy: 0.9187 - precision_1: 0.9187 - recall_1: 0.9187\n",
      "Epoch 5/50\n",
      "96/96 [==============================] - 5s 52ms/step - loss: 0.1345 - accuracy: 0.9450 - precision_1: 0.9450 - recall_1: 0.9450\n",
      "Epoch 6/50\n",
      "96/96 [==============================] - 5s 52ms/step - loss: 0.1061 - accuracy: 0.9537 - precision_1: 0.9537 - recall_1: 0.9537\n",
      "Epoch 7/50\n",
      "96/96 [==============================] - 5s 52ms/step - loss: 0.1006 - accuracy: 0.9571 - precision_1: 0.9571 - recall_1: 0.9571\n",
      "Epoch 8/50\n",
      "96/96 [==============================] - 5s 52ms/step - loss: 0.0898 - accuracy: 0.9588 - precision_1: 0.9588 - recall_1: 0.9588\n",
      "Epoch 9/50\n",
      "96/96 [==============================] - 5s 52ms/step - loss: 0.0852 - accuracy: 0.9611 - precision_1: 0.9611 - recall_1: 0.9611\n",
      "Epoch 10/50\n",
      "96/96 [==============================] - 5s 52ms/step - loss: 0.0791 - accuracy: 0.9603 - precision_1: 0.9603 - recall_1: 0.9603\n",
      "Epoch 11/50\n",
      "96/96 [==============================] - 5s 53ms/step - loss: 0.0808 - accuracy: 0.9581 - precision_1: 0.9581 - recall_1: 0.9581\n",
      "Epoch 12/50\n",
      "96/96 [==============================] - 5s 54ms/step - loss: 0.0781 - accuracy: 0.9603 - precision_1: 0.9603 - recall_1: 0.9603\n"
     ]
    }
   ],
   "source": [
    "model.compile(loss='categorical_crossentropy', \n",
    "              optimizer = tf.keras.optimizers.Adam(learning_rate = 0.001), \n",
    "              metrics=['accuracy', tf.keras.metrics.Precision(), tf.keras.metrics.Recall()])\n",
    "\n",
    "early_stopping_monitor = EarlyStopping(monitor='accuracy', patience=3)\n",
    "\n",
    "x_train_resh = np.vstack(train_x)\n",
    "y_train_resh = to_categorical(train_y, num_classes=2)\n",
    "\n",
    "history = model.fit(x_train_resh,\n",
    "                    y_train_resh,\n",
    "                    epochs=50,\n",
    "                    batch_size = 100,\n",
    "                    callbacks=[early_stopping_monitor])"
   ]
  },
  {
   "cell_type": "code",
   "execution_count": 14,
   "id": "b32dd306-39c0-43ad-b8a2-f149150599f4",
   "metadata": {},
   "outputs": [
    {
     "data": {
      "text/plain": [
       "0.5276476101218369"
      ]
     },
     "execution_count": 14,
     "metadata": {},
     "output_type": "execute_result"
    }
   ],
   "source": [
    "y_pred_perc = model(np.vstack(test_x))\n",
    "y_pred = tf.argmax(y_pred_perc, axis = 1)\n",
    "y_test = [1 if y == [0, 1] else 0 for y in test_y]\n",
    "test_acc = np.mean(y_pred==y_test)\n",
    "test_acc"
   ]
  },
  {
   "cell_type": "code",
   "execution_count": 9,
   "id": "763b8b85-3b32-407c-a313-35d0a4cc8f5c",
   "metadata": {},
   "outputs": [
    {
     "name": "stdout",
     "output_type": "stream",
     "text": [
      "(481,)\n",
      "Model: \"sequential\"\n",
      "_________________________________________________________________\n",
      " Layer (type)                Output Shape              Param #   \n",
      "=================================================================\n",
      " dense (Dense)               (None, 10000)             4820000   \n",
      "                                                                 \n",
      " dense_1 (Dense)             (None, 10000)             100010000 \n",
      "                                                                 \n",
      " dense_2 (Dense)             (None, 10000)             100010000 \n",
      "                                                                 \n",
      " dense_3 (Dense)             (None, 2)                 20002     \n",
      "                                                                 \n",
      "=================================================================\n",
      "Total params: 204,860,002\n",
      "Trainable params: 204,860,002\n",
      "Non-trainable params: 0\n",
      "_________________________________________________________________\n"
     ]
    }
   ],
   "source": [
    "model1 = tf.keras.models.Sequential()\n",
    "model1.add(tf.keras.layers.Dense(units=10000, \n",
    "                                activation='relu', \n",
    "                                input_shape=(train_x.iloc[0].shape), # number of words in the lexicon (to reshape accordingly)\n",
    "                                kernel_initializer='glorot_uniform')) #uniform distribution weights initialization\n",
    "print(train_x[0].shape)\n",
    "model1.add(tf.keras.layers.Dense(10000))\n",
    "model1.add(tf.keras.layers.Dense(10000))\n",
    "model1.add(tf.keras.layers.Dense(2, activation='softmax')) # 2 (pos or neg) output (to one-hot encode accordingly)\n",
    "model1.summary()"
   ]
  },
  {
   "cell_type": "code",
   "execution_count": 10,
   "id": "1b5356c3-ebf7-4557-9ae4-daf9e3d97fa8",
   "metadata": {},
   "outputs": [
    {
     "name": "stdout",
     "output_type": "stream",
     "text": [
      "Epoch 1/50\n",
      "10/10 [==============================] - 4s 263ms/step - loss: 11.3279 - accuracy: 0.5046 - precision: 0.5045 - recall: 0.5029\n",
      "Epoch 2/50\n",
      "10/10 [==============================] - 3s 265ms/step - loss: 0.9423 - accuracy: 0.5002 - precision: 0.5002 - recall: 0.5002\n",
      "Epoch 3/50\n",
      "10/10 [==============================] - 3s 263ms/step - loss: 0.7073 - accuracy: 0.5213 - precision: 0.5213 - recall: 0.5213\n",
      "Epoch 4/50\n",
      "10/10 [==============================] - 3s 265ms/step - loss: 0.7021 - accuracy: 0.5301 - precision: 0.5301 - recall: 0.5301\n",
      "Epoch 5/50\n",
      "10/10 [==============================] - 3s 267ms/step - loss: 0.6545 - accuracy: 0.5929 - precision: 0.5929 - recall: 0.5929\n",
      "Epoch 6/50\n",
      "10/10 [==============================] - 3s 268ms/step - loss: 0.6041 - accuracy: 0.7234 - precision: 0.7234 - recall: 0.7234\n",
      "Epoch 7/50\n",
      "10/10 [==============================] - 3s 269ms/step - loss: 0.5294 - accuracy: 0.7594 - precision: 0.7594 - recall: 0.7594\n",
      "Epoch 8/50\n",
      "10/10 [==============================] - 3s 270ms/step - loss: 0.4323 - accuracy: 0.8144 - precision: 0.8144 - recall: 0.8144\n",
      "Epoch 9/50\n",
      "10/10 [==============================] - 3s 270ms/step - loss: 0.3077 - accuracy: 0.8871 - precision: 0.8871 - recall: 0.8871\n",
      "Epoch 10/50\n",
      "10/10 [==============================] - 3s 271ms/step - loss: 0.1762 - accuracy: 0.9398 - precision: 0.9398 - recall: 0.9398\n",
      "Epoch 11/50\n",
      "10/10 [==============================] - 3s 272ms/step - loss: 0.1011 - accuracy: 0.9609 - precision: 0.9609 - recall: 0.9609\n",
      "Epoch 12/50\n",
      "10/10 [==============================] - 3s 273ms/step - loss: 0.0786 - accuracy: 0.9620 - precision: 0.9620 - recall: 0.9620\n",
      "Epoch 13/50\n",
      "10/10 [==============================] - 3s 273ms/step - loss: 0.0756 - accuracy: 0.9630 - precision: 0.9630 - recall: 0.9630\n",
      "Epoch 14/50\n",
      "10/10 [==============================] - 3s 276ms/step - loss: 0.0765 - accuracy: 0.9629 - precision: 0.9629 - recall: 0.9629\n",
      "Epoch 15/50\n",
      "10/10 [==============================] - 3s 283ms/step - loss: 0.0729 - accuracy: 0.9631 - precision: 0.9631 - recall: 0.9631\n",
      "Epoch 16/50\n",
      "10/10 [==============================] - 3s 285ms/step - loss: 0.0735 - accuracy: 0.9641 - precision: 0.9641 - recall: 0.9641\n",
      "Epoch 17/50\n",
      "10/10 [==============================] - 3s 286ms/step - loss: 0.0694 - accuracy: 0.9646 - precision: 0.9646 - recall: 0.9646\n",
      "Epoch 18/50\n",
      "10/10 [==============================] - 3s 288ms/step - loss: 0.0681 - accuracy: 0.9635 - precision: 0.9635 - recall: 0.9635\n",
      "Epoch 19/50\n",
      "10/10 [==============================] - 3s 288ms/step - loss: 0.0680 - accuracy: 0.9637 - precision: 0.9637 - recall: 0.9637\n",
      "Epoch 20/50\n",
      "10/10 [==============================] - 3s 288ms/step - loss: 0.0679 - accuracy: 0.9632 - precision: 0.9632 - recall: 0.9632\n"
     ]
    }
   ],
   "source": [
    "model1.compile(loss='categorical_crossentropy', \n",
    "              optimizer = tf.keras.optimizers.Adam(), \n",
    "              metrics=['accuracy', tf.keras.metrics.Precision(), tf.keras.metrics.Recall()])\n",
    "\n",
    "early_stopping_monitor = EarlyStopping(monitor='accuracy', patience=3)\n",
    "\n",
    "x_train_resh = np.vstack(train_x)\n",
    "y_train_resh = to_categorical(train_y, num_classes=2)\n",
    "\n",
    "history = model1.fit(x_train_resh,\n",
    "                    y_train_resh,\n",
    "                    epochs=50,\n",
    "                    batch_size = 1000,\n",
    "                    callbacks=[early_stopping_monitor])"
   ]
  },
  {
   "cell_type": "code",
   "execution_count": 11,
   "id": "34a9c0d0-2dcc-42f4-a2da-bc65be881638",
   "metadata": {},
   "outputs": [
    {
     "data": {
      "text/plain": [
       "0.5135895032802249"
      ]
     },
     "execution_count": 11,
     "metadata": {},
     "output_type": "execute_result"
    }
   ],
   "source": [
    "y_pred_perc1 = model1(np.vstack(test_x))\n",
    "y_pred1 = tf.argmax(y_pred_perc1, axis = 1)\n",
    "y_test1 = [1 if y == [0, 1] else 0 for y in test_y]\n",
    "test_acc1 = np.mean(y_pred1==y_test1)\n",
    "test_acc1"
   ]
  },
  {
   "cell_type": "code",
   "execution_count": 22,
   "id": "26c91b19-6d50-42bd-a4d7-e1839af52868",
   "metadata": {},
   "outputs": [
    {
     "name": "stdout",
     "output_type": "stream",
     "text": [
      "(481,)\n",
      "Model: \"sequential_6\"\n",
      "_________________________________________________________________\n",
      " Layer (type)                Output Shape              Param #   \n",
      "=================================================================\n",
      " dense_23 (Dense)            (None, 1000)              482000    \n",
      "                                                                 \n",
      " dense_24 (Dense)            (None, 1000)              1001000   \n",
      "                                                                 \n",
      " dense_25 (Dense)            (None, 1000)              1001000   \n",
      "                                                                 \n",
      " dense_26 (Dense)            (None, 1000)              1001000   \n",
      "                                                                 \n",
      " dense_27 (Dense)            (None, 1000)              1001000   \n",
      "                                                                 \n",
      " dense_28 (Dense)            (None, 2)                 2002      \n",
      "                                                                 \n",
      "=================================================================\n",
      "Total params: 4,488,002\n",
      "Trainable params: 4,488,002\n",
      "Non-trainable params: 0\n",
      "_________________________________________________________________\n"
     ]
    }
   ],
   "source": [
    "model2 = tf.keras.models.Sequential()\n",
    "model2.add(tf.keras.layers.Dense(units=1000, \n",
    "                                activation='relu', \n",
    "                                input_shape=(train_x.iloc[0].shape), # number of words in the lexicon (to reshape accordingly)\n",
    "                                kernel_initializer='glorot_uniform')) #uniform distribution weights initialization\n",
    "print(train_x[0].shape)\n",
    "model2.add(tf.keras.layers.Dense(1000))\n",
    "model2.add(tf.keras.layers.Dense(1000))\n",
    "model2.add(tf.keras.layers.Dense(1000))\n",
    "model2.add(tf.keras.layers.Dense(1000))\n",
    "model2.add(tf.keras.layers.Dense(2, activation='softmax')) # 2 (pos or neg) output (to one-hot encode accordingly)\n",
    "model2.summary()"
   ]
  },
  {
   "cell_type": "code",
   "execution_count": 23,
   "id": "abc38bb8-e675-416b-887c-1fbf29274892",
   "metadata": {},
   "outputs": [
    {
     "name": "stdout",
     "output_type": "stream",
     "text": [
      "Epoch 1/50\n",
      "300/300 [==============================] - 2s 6ms/step - loss: 0.6556 - accuracy: 0.6323 - precision_2: 0.6323 - recall_2: 0.6323\n",
      "Epoch 2/50\n",
      "300/300 [==============================] - 1s 5ms/step - loss: 0.5384 - accuracy: 0.7316 - precision_2: 0.7316 - recall_2: 0.7316\n",
      "Epoch 3/50\n",
      "300/300 [==============================] - 2s 5ms/step - loss: 0.4215 - accuracy: 0.7992 - precision_2: 0.7992 - recall_2: 0.7992\n",
      "Epoch 4/50\n",
      "300/300 [==============================] - 2s 5ms/step - loss: 0.2392 - accuracy: 0.8903 - precision_2: 0.8903 - recall_2: 0.8903\n",
      "Epoch 5/50\n",
      "300/300 [==============================] - 2s 5ms/step - loss: 0.1470 - accuracy: 0.9322 - precision_2: 0.9322 - recall_2: 0.9322\n",
      "Epoch 6/50\n",
      "300/300 [==============================] - 2s 5ms/step - loss: 0.1135 - accuracy: 0.9490 - precision_2: 0.9490 - recall_2: 0.9490\n",
      "Epoch 7/50\n",
      "300/300 [==============================] - 2s 5ms/step - loss: 0.0906 - accuracy: 0.9549 - precision_2: 0.9549 - recall_2: 0.9549\n",
      "Epoch 8/50\n",
      "300/300 [==============================] - 2s 5ms/step - loss: 0.0800 - accuracy: 0.9595 - precision_2: 0.9595 - recall_2: 0.9595\n",
      "Epoch 9/50\n",
      "300/300 [==============================] - 2s 5ms/step - loss: 0.0741 - accuracy: 0.9605 - precision_2: 0.9605 - recall_2: 0.9605\n",
      "Epoch 10/50\n",
      "300/300 [==============================] - 2s 5ms/step - loss: 0.0706 - accuracy: 0.9614 - precision_2: 0.9614 - recall_2: 0.9614\n",
      "Epoch 11/50\n",
      "300/300 [==============================] - 2s 5ms/step - loss: 0.0715 - accuracy: 0.9599 - precision_2: 0.9599 - recall_2: 0.9599\n",
      "Epoch 12/50\n",
      "300/300 [==============================] - 2s 6ms/step - loss: 0.0725 - accuracy: 0.9620 - precision_2: 0.9620 - recall_2: 0.9620\n",
      "Epoch 13/50\n",
      "300/300 [==============================] - 2s 5ms/step - loss: 0.0696 - accuracy: 0.9607 - precision_2: 0.9607 - recall_2: 0.9607\n",
      "Epoch 14/50\n",
      "300/300 [==============================] - 2s 5ms/step - loss: 0.0722 - accuracy: 0.9597 - precision_2: 0.9597 - recall_2: 0.9597\n",
      "Epoch 15/50\n",
      "300/300 [==============================] - 2s 6ms/step - loss: 0.0708 - accuracy: 0.9619 - precision_2: 0.9619 - recall_2: 0.9619\n"
     ]
    }
   ],
   "source": [
    "model2.compile(loss='categorical_crossentropy', \n",
    "              optimizer = tf.keras.optimizers.Adam(), \n",
    "              metrics=['accuracy', tf.keras.metrics.Precision(), tf.keras.metrics.Recall()])\n",
    "\n",
    "early_stopping_monitor = EarlyStopping(monitor='accuracy', patience=3)\n",
    "\n",
    "x_train_resh = np.vstack(train_x)\n",
    "y_train_resh = to_categorical(train_y, num_classes=2)\n",
    "\n",
    "history = model2.fit(x_train_resh,\n",
    "                    y_train_resh,\n",
    "                    epochs=50,\n",
    "                    # batch_size = 1000,\n",
    "                    callbacks=[early_stopping_monitor])"
   ]
  },
  {
   "cell_type": "code",
   "execution_count": 26,
   "id": "44e58c19-9cd4-487d-89bd-0ef82f61fd66",
   "metadata": {},
   "outputs": [
    {
     "data": {
      "text/plain": [
       "0.5567010309278351"
      ]
     },
     "execution_count": 26,
     "metadata": {},
     "output_type": "execute_result"
    }
   ],
   "source": [
    "y_pred_perc2 = model2(np.vstack(test_x))\n",
    "y_pred2 = tf.argmax(y_pred_perc2, axis = 1)\n",
    "y_test2 = [0 if y == [0, 1] else 1 for y in test_y]\n",
    "test_acc2 = np.mean(y_pred2==y_test2)\n",
    "test_acc2"
   ]
  },
  {
   "cell_type": "code",
   "execution_count": 20,
   "id": "e32985ac-7e66-4b87-b396-44d3c33c65c7",
   "metadata": {},
   "outputs": [
    {
     "data": {
      "text/plain": [
       "4924"
      ]
     },
     "execution_count": 20,
     "metadata": {},
     "output_type": "execute_result"
    }
   ],
   "source": [
    "gc.collect()"
   ]
  }
 ],
 "metadata": {
  "kernelspec": {
   "display_name": "Py309",
   "language": "python",
   "name": "py309"
  },
  "language_info": {
   "codemirror_mode": {
    "name": "ipython",
    "version": 3
   },
   "file_extension": ".py",
   "mimetype": "text/x-python",
   "name": "python",
   "nbconvert_exporter": "python",
   "pygments_lexer": "ipython3",
   "version": "3.9.16"
  }
 },
 "nbformat": 4,
 "nbformat_minor": 5
}
