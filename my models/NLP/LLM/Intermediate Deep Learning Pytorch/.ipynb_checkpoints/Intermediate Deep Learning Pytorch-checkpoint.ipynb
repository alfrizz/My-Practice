{
 "cells": [
  {
   "cell_type": "code",
   "execution_count": 3,
   "id": "5e732e63-c8d2-4005-9be3-4d43bb3387f3",
   "metadata": {},
   "outputs": [],
   "source": [
    "import pandas as pd\n",
    "from torch.utils.data import Dataset\n",
    "\n",
    "class WaterDataset(Dataset):\n",
    "    def __init__(self, csv_path):\n",
    "        super().__init__()\n",
    "        # Load data to pandas DataFrame\n",
    "        df = pd.read_csv(csv_path)\n",
    "        # Convert data to a NumPy array and assign to self.data\n",
    "        self.data = df.to_numpy()\n",
    "        \n",
    "    # Implement __len__ to return the number of data samples\n",
    "    def __len__(self):\n",
    "        return self.data.shape[0]\n",
    "    \n",
    "    def __getitem__(self, idx):\n",
    "        features = self.data[idx, :-1]\n",
    "        # Assign last data column to label\n",
    "        label = self.data[idx, -1]\n",
    "        return features, label"
   ]
  },
  {
   "cell_type": "code",
   "execution_count": 1,
   "id": "182c0a58-3c99-4e03-af21-c23da705c72c",
   "metadata": {},
   "outputs": [],
   "source": [
    "import pandas as pd\n",
    "from sklearn.model_selection import train_test_split\n",
    "\n",
    "# Load the dataset\n",
    "df = pd.read_csv('water_potability.csv')\n",
    "\n",
    "# Split the dataset into training set and test set\n",
    "train_df, test_df = train_test_split(df, test_size=0.2, random_state=42)\n",
    "\n",
    "# Save the training set and test set into csv files\n",
    "train_df.to_csv('water_train.csv', index=False)\n",
    "test_df.to_csv('water_test.csv', index=False)\n"
   ]
  },
  {
   "cell_type": "code",
   "execution_count": 22,
   "id": "e47e0b20-309f-4933-855b-5b27b887a050",
   "metadata": {},
   "outputs": [
    {
     "data": {
      "text/plain": [
       "<__main__.WaterDataset at 0x219d9c4b160>"
      ]
     },
     "execution_count": 22,
     "metadata": {},
     "output_type": "execute_result"
    }
   ],
   "source": [
    "# Create an instance of the WaterDataset\n",
    "dataset_train = WaterDataset('water_train.csv')\n",
    "\n",
    "dataset_test = WaterDataset('water_test.csv')\n",
    "\n",
    "dataset_train"
   ]
  },
  {
   "cell_type": "code",
   "execution_count": 23,
   "id": "6303fe33-2242-47df-927d-f067acf47c32",
   "metadata": {},
   "outputs": [
    {
     "data": {
      "text/plain": [
       "<torch.utils.data.dataloader.DataLoader at 0x219cecd9fc0>"
      ]
     },
     "execution_count": 23,
     "metadata": {},
     "output_type": "execute_result"
    }
   ],
   "source": [
    "from torch.utils.data import DataLoader\n",
    "\n",
    "# Create a DataLoader based on dataset_train\n",
    "dataloader_train = DataLoader(\n",
    "    dataset_train,\n",
    "    batch_size=2,\n",
    "    shuffle=True,\n",
    ")\n",
    "\n",
    "# Create a DataLoader based on dataset_test\n",
    "dataloader_test = DataLoader(\n",
    "    dataset_test,\n",
    "    batch_size=2,\n",
    "    shuffle=True,\n",
    ")\n",
    "\n",
    "dataloader_train"
   ]
  },
  {
   "cell_type": "code",
   "execution_count": 7,
   "id": "72b409be-ba98-4907-b00b-550cfc65e5bb",
   "metadata": {},
   "outputs": [
    {
     "name": "stdout",
     "output_type": "stream",
     "text": [
      "tensor([[0.5953, 0.3535, 0.3428, 0.5345, 0.6112, 0.3427, 0.6267, 0.3903, 0.5539],\n",
      "        [0.5438, 0.5667, 0.3753, 0.4769, 0.3975, 0.5334, 0.3725, 0.6626, 0.6974]],\n",
      "       dtype=torch.float64) tensor([0., 1.], dtype=torch.float64)\n"
     ]
    }
   ],
   "source": [
    "# Get a batch of features and labels\n",
    "features, labels = next(iter(dataloader_train))\n",
    "print(features, labels)"
   ]
  },
  {
   "cell_type": "code",
   "execution_count": 8,
   "id": "9e0eb7b8-0076-4aad-9995-746d8151a961",
   "metadata": {},
   "outputs": [],
   "source": [
    "# The benefit of defining a class like Net instead of using nn.Sequential is flexibility. With nn.Sequential, you can only define simple, feed-forward networks where the output from one layer is used as input to the next layer. However, with a custom class, you can define more complex architectures. For example, you can have layers where the output from one layer is used as input to multiple layers, or you can use the output of a layer as input to a previous layer (creating a loop, or recurrent connection).\n",
    "\n",
    "# In your Net class, you could easily add more complex behavior in the forward method, such as conditionally skipping layers, having multiple input or output layers, changing the order of layers dynamically, etc.\n",
    "\n",
    "import torch.nn as nn\n",
    "import torch.nn.functional as F\n",
    "\n",
    "class Net(nn.Module):\n",
    "    # As for super(Net, self).__init__(), it’s calling the initialization method of the parent class, which is nn.Module in this case. This is necessary because nn.Module does some behind-the-scenes work that’s necessary for your Net class to function properly with PyTorch, such as keeping track of its trainable parameters and enabling handy methods like to(device) for moving the model to a GPU or eval() for setting the model to evaluation mode. By calling super(Net, self).__init__(), you ensure that your subclass correctly inherits this functionality from nn.Module.\n",
    "    def __init__(self):\n",
    "        super(Net, self).__init__()\n",
    "        # Define the three linear layers\n",
    "        self.fc1 = nn.Linear(9,16)\n",
    "        self.fc2 = nn.Linear(16,8)\n",
    "        self.fc3 = nn.Linear(8,1)\n",
    "        \n",
    "    def forward(self, x):\n",
    "        # Pass x through linear layers adding activations\n",
    "        x = nn.functional.relu(self.fc1(x))\n",
    "        x = nn.functional.relu(self.fc2(x))\n",
    "        x = nn.functional.sigmoid(self.fc3(x))\n",
    "        return x"
   ]
  },
  {
   "cell_type": "code",
   "execution_count": 19,
   "id": "e98dbc4c-fae9-402b-9fc8-a909829303df",
   "metadata": {},
   "outputs": [
    {
     "data": {
      "text/plain": [
       "(torch.Size([2]), torch.Size([2, 1]))"
      ]
     },
     "execution_count": 19,
     "metadata": {},
     "output_type": "execute_result"
    }
   ],
   "source": [
    "labels.shape, labels.view(-1, 1).shape"
   ]
  },
  {
   "cell_type": "code",
   "execution_count": 20,
   "id": "5badbdcf-6012-453d-8c8e-89806f34e8d4",
   "metadata": {},
   "outputs": [],
   "source": [
    "# Loss Calculation: The BCELoss (Binary Cross Entropy Loss) function computes the loss between the model’s raw output probabilities (which can be any value between 0 and 1) and the true labels. It doesn’t require the outputs to be converted into discrete predictions (0 or 1) because it operates on the probability scale. It uses the actual probabilities output by the model to calculate how far off the model’s predictions are from the true labels.\n",
    "\n",
    "def train_model(optimizer, net, num_epochs):\n",
    "    criterion = nn.BCELoss()\n",
    "    for epoch in range(num_epochs):\n",
    "        running_loss = 0.\n",
    "        for features, labels in dataloader_train:\n",
    "            # Convert features to float32\n",
    "            features = features.float()\n",
    "            labels = labels.float()\n",
    "            optimizer.zero_grad()\n",
    "            outputs = net(features)\n",
    "            loss = criterion(outputs, labels.view(-1, 1)) # labels.view(-1, 1) reshapes the labels tensor to have as many rows as needed (to fit the total number of elements) and 1 column. This is often done to match the expected input/output shape of certain functions or methods. In this case, it’s used to ensure that the labels tensor has the same shape as the outputs tensor, as required by the BCELoss function.\n",
    "            loss.backward()\n",
    "            optimizer.step()\n",
    "            running_loss += loss.item()\n",
    "    train_loss = running_loss / len(dataloader_train)\n",
    "    print(f\"Training loss after {num_epochs} epochs: {train_loss}\")"
   ]
  },
  {
   "cell_type": "code",
   "execution_count": 21,
   "id": "5013cf8a-9a34-4b30-bcdc-46f44109535b",
   "metadata": {},
   "outputs": [
    {
     "name": "stdout",
     "output_type": "stream",
     "text": [
      "Training loss after 10 epochs: 0.6714375933900995\n"
     ]
    }
   ],
   "source": [
    "import torch.optim as optim\n",
    "\n",
    "net = Net()\n",
    "\n",
    "# Define the Adam optimizer\n",
    "optimizer = optim.Adam(net.parameters(), lr=0.001)\n",
    "\n",
    "train_model(\n",
    "    optimizer=optimizer,\n",
    "    net=net,\n",
    "    num_epochs=10,\n",
    ")"
   ]
  },
  {
   "cell_type": "code",
   "execution_count": 25,
   "id": "20d0f517-0be7-4898-a6e9-af2d0dca7f58",
   "metadata": {},
   "outputs": [
    {
     "name": "stdout",
     "output_type": "stream",
     "text": [
      "Test accuracy: 0.5732010006904602\n"
     ]
    }
   ],
   "source": [
    "# Accuracy Calculation: Accuracy, on the other hand, is a metric that measures the proportion of correct predictions (both true positives and true negatives) in total predictions made. To calculate accuracy, we need discrete predictions (0 or 1), not probabilities. That’s why the outputs are thresholded at 0.5 to convert them into binary predictions (preds = (outputs >= 0.5).float()). If the output probability is greater than or equal to 0.5, it’s considered a prediction of class 1, otherwise, it’s considered a prediction of class 0.\n",
    "\n",
    "import torch\n",
    "from torchmetrics import Accuracy\n",
    "\n",
    "# Set up binary accuracy metric\n",
    "acc = Accuracy(task='binary')\n",
    "\n",
    "net.eval()\n",
    "with torch.no_grad():\n",
    "    for features, labels in dataloader_test:\n",
    "        # Convert features to float32\n",
    "        features = features.float()\n",
    "        labels = labels.float()\n",
    "        # Get predicted probabilities for test data batch\n",
    "        outputs = net(features)\n",
    "        preds = (outputs >= 0.5).float()\n",
    "        acc(preds, labels.view(-1, 1))\n",
    "\n",
    "# Compute total test accuracy\n",
    "test_accuracy = acc.compute()\n",
    "print(f\"Test accuracy: {test_accuracy}\")"
   ]
  },
  {
   "cell_type": "code",
   "execution_count": 26,
   "id": "bb766c99-7ef0-44e4-8fea-c0e657855566",
   "metadata": {},
   "outputs": [],
   "source": [
    "class Net(nn.Module):\n",
    "    def __init__(self):\n",
    "        super(Net, self).__init__()\n",
    "        self.fc1 = nn.Linear(9, 16)\n",
    "        self.fc2 = nn.Linear(16, 8)\n",
    "        self.fc3 = nn.Linear(8, 1)\n",
    "        \n",
    "        # Apply He initialization\n",
    "        init.kaiming_uniform_(self.fc1.weight)\n",
    "        init.kaiming_uniform_(self.fc2.weight)\n",
    "        init.kaiming_uniform_(self.fc3.weight, nonlinearity=\"sigmoid\")\n",
    "\n",
    "    def forward(self, x):\n",
    "        # Update ReLU activation to ELU\n",
    "        x = nn.functional.elu(self.fc1(x))\n",
    "        x = nn.functional.elu(self.fc2(x))\n",
    "        x = nn.functional.sigmoid(self.fc3(x))\n",
    "        return x"
   ]
  },
  {
   "cell_type": "code",
   "execution_count": 27,
   "id": "b610e62f-327c-4a9e-b229-db4d163e35b7",
   "metadata": {},
   "outputs": [],
   "source": [
    "class Net(nn.Module):\n",
    "    def __init__(self):\n",
    "        super(Net, self).__init__()\n",
    "        self.fc1 = nn.Linear(9, 16)\n",
    "        self.fc2 = nn.Linear(16, 8)\n",
    "        self.fc3 = nn.Linear(8, 1)\n",
    "        # Add two batch normalization layers\n",
    "        self.bn1 = nn.BatchNorm1d(16)\n",
    "        self.bn2 = nn.BatchNorm1d(8)\n",
    "        \n",
    "        init.kaiming_uniform_(self.fc1.weight)\n",
    "        init.kaiming_uniform_(self.fc2.weight)\n",
    "        init.kaiming_uniform_(self.fc3.weight, nonlinearity=\"sigmoid\")\n",
    "    \n",
    "    def forward(self, x):\n",
    "        x = self.fc1(x)\n",
    "        x = self.bn1(x)\n",
    "        x = nn.functional.elu(x)\n",
    "\n",
    "        # Pass x through the second set of layers\n",
    "        x = self.fc2(x)\n",
    "        x = self.bn2(x)\n",
    "        x = nn.functional.elu(x)\n",
    "\n",
    "        x = nn.functional.sigmoid(self.fc3(x))\n",
    "        return x"
   ]
  },
  {
   "cell_type": "code",
   "execution_count": 28,
   "id": "3219ec6b-b1f0-4de2-864c-5c7ec3d28603",
   "metadata": {},
   "outputs": [
    {
     "name": "stdout",
     "output_type": "stream",
     "text": [
      "Training loss after 10 epochs: 0.6573662377930992\n"
     ]
    }
   ],
   "source": [
    "train_model(\n",
    "    optimizer=optimizer,\n",
    "    net=net,\n",
    "    num_epochs=10,\n",
    ")"
   ]
  },
  {
   "cell_type": "code",
   "execution_count": 29,
   "id": "592a3b85-7ca7-46dc-b5fb-193152cc844a",
   "metadata": {},
   "outputs": [
    {
     "name": "stdout",
     "output_type": "stream",
     "text": [
      "Test accuracy: 0.5893300175666809\n"
     ]
    }
   ],
   "source": [
    "net.eval()\n",
    "with torch.no_grad():\n",
    "    for features, labels in dataloader_test:\n",
    "        # Convert features to float32\n",
    "        features = features.float()\n",
    "        labels = labels.float()\n",
    "        # Get predicted probabilities for test data batch\n",
    "        outputs = net(features)\n",
    "        preds = (outputs >= 0.5).float()\n",
    "        acc(preds, labels.view(-1, 1))\n",
    "\n",
    "# Compute total test accuracy\n",
    "test_accuracy = acc.compute()\n",
    "print(f\"Test accuracy: {test_accuracy}\")"
   ]
  },
  {
   "cell_type": "code",
   "execution_count": 31,
   "id": "e66f8259-b4a6-4442-ba1b-b4dfdcba8010",
   "metadata": {},
   "outputs": [
    {
     "data": {
      "text/plain": [
       "Compose(\n",
       "    ToTensor()\n",
       "    Resize(size=(128, 128), interpolation=bilinear, max_size=None, antialias=warn)\n",
       ")"
      ]
     },
     "execution_count": 31,
     "metadata": {},
     "output_type": "execute_result"
    }
   ],
   "source": [
    "from torchvision.datasets import ImageFolder\n",
    "from torchvision import transforms\n",
    "\n",
    "# Compose transformations\n",
    "train_transforms = transforms.Compose([\n",
    "    transforms.ToTensor(),\n",
    "    transforms.Resize((128, 128)),\n",
    "])\n",
    "\n",
    "train_transforms"
   ]
  },
  {
   "cell_type": "code",
   "execution_count": 32,
   "id": "1b6b112d-b9bc-4800-a1be-a0b62fb7b754",
   "metadata": {},
   "outputs": [
    {
     "data": {
      "text/plain": [
       "Dataset ImageFolder\n",
       "    Number of datapoints: 474\n",
       "    Root location: clouds_train\n",
       "    StandardTransform\n",
       "Transform: Compose(\n",
       "               ToTensor()\n",
       "               Resize(size=(128, 128), interpolation=bilinear, max_size=None, antialias=warn)\n",
       "           )"
      ]
     },
     "execution_count": 32,
     "metadata": {},
     "output_type": "execute_result"
    }
   ],
   "source": [
    "# Create Dataset using ImageFolder\n",
    "dataset_train = ImageFolder(\n",
    "    \"clouds_train\",\n",
    "    transform=train_transforms,\n",
    ")\n",
    "\n",
    "dataset_train"
   ]
  },
  {
   "cell_type": "code",
   "execution_count": 34,
   "id": "da20da83-c5d1-494f-af57-051db7bef265",
   "metadata": {},
   "outputs": [
    {
     "data": {
      "text/plain": [
       "Compose(\n",
       "    RandomHorizontalFlip(p=0.5)\n",
       "    RandomRotation(degrees=[-45.0, 45.0], interpolation=nearest, expand=False, fill=0)\n",
       "    ToTensor()\n",
       "    Resize(size=(128, 128), interpolation=bilinear, max_size=None, antialias=warn)\n",
       ")"
      ]
     },
     "execution_count": 34,
     "metadata": {},
     "output_type": "execute_result"
    }
   ],
   "source": [
    "train_transforms = transforms.Compose([\n",
    "    # Add horizontal flip and rotation\n",
    "    transforms.RandomHorizontalFlip(),\n",
    "    transforms.RandomRotation(45),\n",
    "    transforms.ToTensor(),\n",
    "    transforms.Resize((128, 128)),\n",
    "])\n",
    "train_transforms"
   ]
  },
  {
   "cell_type": "code",
   "execution_count": 35,
   "id": "40c759d0-1d97-470b-b996-8a154d723fec",
   "metadata": {},
   "outputs": [
    {
     "data": {
      "text/plain": [
       "Dataset ImageFolder\n",
       "    Number of datapoints: 474\n",
       "    Root location: clouds_train\n",
       "    StandardTransform\n",
       "Transform: Compose(\n",
       "               RandomHorizontalFlip(p=0.5)\n",
       "               RandomRotation(degrees=[-45.0, 45.0], interpolation=nearest, expand=False, fill=0)\n",
       "               ToTensor()\n",
       "               Resize(size=(128, 128), interpolation=bilinear, max_size=None, antialias=warn)\n",
       "           )"
      ]
     },
     "execution_count": 35,
     "metadata": {},
     "output_type": "execute_result"
    }
   ],
   "source": [
    "dataset_train = ImageFolder(\n",
    "  \"clouds_train\",\n",
    "  transform=train_transforms,\n",
    ")\n",
    "\n",
    "dataset_train"
   ]
  },
  {
   "cell_type": "code",
   "execution_count": 36,
   "id": "6b838f97-110c-4b14-9bd2-eabcce523a44",
   "metadata": {},
   "outputs": [
    {
     "data": {
      "text/plain": [
       "<torch.utils.data.dataloader.DataLoader at 0x219e4d5ec80>"
      ]
     },
     "execution_count": 36,
     "metadata": {},
     "output_type": "execute_result"
    }
   ],
   "source": [
    "dataloader_train = DataLoader(\n",
    "  dataset_train, shuffle=True, batch_size=1\n",
    ")\n",
    "\n",
    "dataloader_train"
   ]
  },
  {
   "cell_type": "code",
   "execution_count": 38,
   "id": "7e3970c1-9b40-4153-a84b-0fee1931e874",
   "metadata": {},
   "outputs": [
    {
     "name": "stdout",
     "output_type": "stream",
     "text": [
      "torch.Size([1, 3, 128, 128])\n",
      "torch.Size([128, 128, 3])\n"
     ]
    }
   ],
   "source": [
    "image, label = next(iter(dataloader_train))\n",
    "# Reshape the image tensor\n",
    "print(image.shape)\n",
    "image = image.squeeze().permute(1, 2, 0)\n",
    "print(image.shape)\n"
   ]
  },
  {
   "cell_type": "code",
   "execution_count": 40,
   "id": "df380e2b-2ef2-438e-9a97-bcb0e4784dcf",
   "metadata": {},
   "outputs": [
    {
     "data": {
      "image/png": "[encoded data removed]",
      "text/plain": [
       "<Figure size 640x480 with 1 Axes>"
      ]
     },
     "metadata": {},
     "output_type": "display_data"
    }
   ],
   "source": [
    "import matplotlib.pyplot as plt\n",
    "\n",
    "# Display the image\n",
    "plt.imshow(image)\n",
    "plt.show()"
   ]
  },
  {
   "cell_type": "code",
   "execution_count": 41,
   "id": "9a461881-f185-49c9-9bdc-28f1fb003833",
   "metadata": {},
   "outputs": [],
   "source": [
    "class Net(nn.Module):\n",
    "    def __init__(self, num_classes):\n",
    "        super().__init__()\n",
    "        # Define feature extractor\n",
    "        self.feature_extractor = nn.Sequential(\n",
    "            nn.Conv2d(3, 32, kernel_size=3, padding=1),\n",
    "            nn.ELU(),\n",
    "            nn.MaxPool2d(kernel_size=2),\n",
    "            nn.Conv2d(32, 64, kernel_size=3, padding=1),\n",
    "            nn.ELU(),\n",
    "            nn.MaxPool2d(kernel_size=2),\n",
    "            nn.Flatten(),\n",
    "        )\n",
    "        # Define classifier\n",
    "        self.classifier = nn.Linear(64*16*16, num_classes)\n",
    "    \n",
    "    def forward(self, x):  \n",
    "        # Pass input through feature extractor and classifier\n",
    "        x = self.feature_extractor(x)\n",
    "        x = self.classifier(x)\n",
    "        return x"
   ]
  },
  {
   "cell_type": "code",
   "execution_count": 42,
   "id": "28873320-cc15-4ac5-b1b9-9c6841f1a467",
   "metadata": {},
   "outputs": [
    {
     "data": {
      "text/plain": [
       "Compose(\n",
       "    RandomHorizontalFlip(p=0.5)\n",
       "    RandomRotation(degrees=[-45.0, 45.0], interpolation=nearest, expand=False, fill=0)\n",
       "    RandomAutocontrast(p=0.5)\n",
       "    ToTensor()\n",
       "    Resize(size=(64, 64), interpolation=bilinear, max_size=None, antialias=warn)\n",
       ")"
      ]
     },
     "execution_count": 42,
     "metadata": {},
     "output_type": "execute_result"
    }
   ],
   "source": [
    "# Define transforms\n",
    "train_transforms = transforms.Compose([\n",
    "    transforms.RandomHorizontalFlip(),\n",
    "    transforms.RandomRotation(45),\n",
    "    transforms.RandomAutocontrast(),\n",
    "    transforms.ToTensor(),\n",
    "    transforms.Resize((64, 64))\n",
    "])\n",
    "\n",
    "train_transforms"
   ]
  },
  {
   "cell_type": "code",
   "execution_count": 43,
   "id": "b8fae61b-69e0-4915-83a7-82d3f6fd99f0",
   "metadata": {},
   "outputs": [
    {
     "data": {
      "text/plain": [
       "Dataset ImageFolder\n",
       "    Number of datapoints: 474\n",
       "    Root location: clouds_train\n",
       "    StandardTransform\n",
       "Transform: Compose(\n",
       "               RandomHorizontalFlip(p=0.5)\n",
       "               RandomRotation(degrees=[-45.0, 45.0], interpolation=nearest, expand=False, fill=0)\n",
       "               RandomAutocontrast(p=0.5)\n",
       "               ToTensor()\n",
       "               Resize(size=(64, 64), interpolation=bilinear, max_size=None, antialias=warn)\n",
       "           )"
      ]
     },
     "execution_count": 43,
     "metadata": {},
     "output_type": "execute_result"
    }
   ],
   "source": [
    "dataset_train = ImageFolder(\n",
    "  \"clouds_train\",\n",
    "  transform=train_transforms,\n",
    ")\n",
    "\n",
    "dataset_train"
   ]
  },
  {
   "cell_type": "code",
   "execution_count": 44,
   "id": "1d96d823-885c-4a47-b6f4-d27b0a1482f3",
   "metadata": {},
   "outputs": [
    {
     "data": {
      "text/plain": [
       "<torch.utils.data.dataloader.DataLoader at 0x219e5306cb0>"
      ]
     },
     "execution_count": 44,
     "metadata": {},
     "output_type": "execute_result"
    }
   ],
   "source": [
    "dataloader_train = DataLoader(\n",
    "  dataset_train, shuffle=True, batch_size=16\n",
    ")\n",
    "\n",
    "dataloader_train"
   ]
  },
  {
   "cell_type": "code",
   "execution_count": 53,
   "id": "e283cb7b-01fd-461d-949d-17025e6b2fa6",
   "metadata": {},
   "outputs": [
    {
     "name": "stdout",
     "output_type": "stream",
     "text": [
      "Running on device: cuda\n"
     ]
    }
   ],
   "source": [
    "device = torch.device('cuda' if torch.cuda.is_available() else 'cpu')\n",
    "print('Running on device:', device)"
   ]
  },
  {
   "cell_type": "code",
   "execution_count": 58,
   "id": "665a577b-c34d-4aa9-bade-7f0fe7cbb4ec",
   "metadata": {},
   "outputs": [
    {
     "data": {
      "text/plain": [
       "Net(\n",
       "  (feature_extractor): Sequential(\n",
       "    (0): Conv2d(3, 32, kernel_size=(3, 3), stride=(1, 1), padding=(1, 1))\n",
       "    (1): ELU(alpha=1.0)\n",
       "    (2): MaxPool2d(kernel_size=2, stride=2, padding=0, dilation=1, ceil_mode=False)\n",
       "    (3): Conv2d(32, 64, kernel_size=(3, 3), stride=(1, 1), padding=(1, 1))\n",
       "    (4): ELU(alpha=1.0)\n",
       "    (5): MaxPool2d(kernel_size=2, stride=2, padding=0, dilation=1, ceil_mode=False)\n",
       "    (6): Flatten(start_dim=1, end_dim=-1)\n",
       "  )\n",
       "  (classifier): Linear(in_features=16384, out_features=7, bias=True)\n",
       ")"
      ]
     },
     "execution_count": 58,
     "metadata": {},
     "output_type": "execute_result"
    }
   ],
   "source": [
    "# Define the model\n",
    "net = Net(num_classes=7)\n",
    "# Define the loss function\n",
    "criterion = nn.CrossEntropyLoss()\n",
    "# Define the optimizer\n",
    "optimizer = optim.Adam(net.parameters(), lr=0.001)\n",
    "\n",
    "net = net.to(device)\n",
    "net"
   ]
  },
  {
   "cell_type": "code",
   "execution_count": 51,
   "id": "c8db71dc-60b5-45f9-841e-926d6b99c4ec",
   "metadata": {},
   "outputs": [
    {
     "data": {
      "text/plain": [
       "(474, 30, 16, 480)"
      ]
     },
     "execution_count": 51,
     "metadata": {},
     "output_type": "execute_result"
    }
   ],
   "source": [
    "# The discrepancy between len(dataset_train) and len(dataloader_train)*dataloader_train.batch_size arises because the total number of samples (474) is not exactly divisible by the batch size (16). Therefore, the last batch contains fewer than 16 samples. This is why len(dataloader_train)*dataloader_train.batch_size (480) is slightly larger than len(dataset_train) (474). The difference (480 - 474 = 6) is the number of “empty” spots in the last batch.\n",
    "\n",
    "len(dataset_train), len(dataloader_train), dataloader_train.batch_size, len(dataloader_train)*dataloader_train.batch_size"
   ]
  },
  {
   "cell_type": "code",
   "execution_count": 60,
   "id": "36daae77-44b1-42ed-9a97-250100672611",
   "metadata": {},
   "outputs": [
    {
     "name": "stdout",
     "output_type": "stream",
     "text": [
      "Epoch 1, Loss: 1.9266\n",
      "Epoch 2, Loss: 1.5999\n",
      "Epoch 3, Loss: 1.3733\n"
     ]
    }
   ],
   "source": [
    "for epoch in range(3):\n",
    "    running_loss = 0.0\n",
    "    # Iterate over training batches\n",
    "    for images, labels in dataloader_train: # iterate over the number of batches\n",
    "        images = images.to(device)  # Move images to GPU\n",
    "        labels = labels.to(device)  # Move labels to GPU\n",
    "        optimizer.zero_grad()\n",
    "        outputs = net.forward(images) # or net(images)\n",
    "        loss = criterion(outputs, labels)\n",
    "        loss.backward()\n",
    "        optimizer.step()\n",
    "        running_loss += loss.item()\n",
    "    \n",
    "    epoch_loss = running_loss / len(dataloader_train) # divides the epoch loss by the number of batches (average loss per batch per epoch)\n",
    "    print(f\"Epoch {epoch+1}, Loss: {epoch_loss:.4f}\")\n",
    "    "
   ]
  },
  {
   "cell_type": "code",
   "execution_count": 59,
   "id": "96d9d8e5-56d5-49cd-bf76-a304a4891332",
   "metadata": {},
   "outputs": [
    {
     "name": "stdout",
     "output_type": "stream",
     "text": [
      "Model is on: cuda:0\n",
      "Data is on: cuda:0\n"
     ]
    }
   ],
   "source": [
    "# For your model\n",
    "print('Model is on:', next(net.parameters()).device)\n",
    "\n",
    "# For your data\n",
    "images, labels = images.to(device), labels.to(device)\n",
    "print('Data is on:', images.device)\n"
   ]
  },
  {
   "cell_type": "code",
   "execution_count": 74,
   "id": "6e402b6f-a778-4c27-a77f-a9a777f652bb",
   "metadata": {},
   "outputs": [
    {
     "data": {
      "text/plain": [
       "Compose(\n",
       "    Resize(size=(64, 64), interpolation=bilinear, max_size=None, antialias=warn)\n",
       "    ToTensor()\n",
       ")"
      ]
     },
     "execution_count": 74,
     "metadata": {},
     "output_type": "execute_result"
    }
   ],
   "source": [
    "test_transforms = transforms.Compose([\n",
    "    #\n",
    "    # NO DATA AUGMENTATION AT TEST TIME \n",
    "    transforms.Resize((64, 64)),\n",
    "    transforms.ToTensor()\n",
    "])\n",
    "\n",
    "test_transforms"
   ]
  },
  {
   "cell_type": "code",
   "execution_count": 75,
   "id": "2a7fce05-1da7-46ea-a8cd-29d4bd6a36ad",
   "metadata": {},
   "outputs": [
    {
     "data": {
      "text/plain": [
       "Dataset ImageFolder\n",
       "    Number of datapoints: 486\n",
       "    Root location: clouds_test\n",
       "    StandardTransform\n",
       "Transform: Compose(\n",
       "               Resize(size=(64, 64), interpolation=bilinear, max_size=None, antialias=warn)\n",
       "               ToTensor()\n",
       "           )"
      ]
     },
     "execution_count": 75,
     "metadata": {},
     "output_type": "execute_result"
    }
   ],
   "source": [
    "dataset_test = ImageFolder(\"clouds_test\",   transform=test_transforms,)\n",
    "dataset_test"
   ]
  },
  {
   "cell_type": "code",
   "execution_count": 76,
   "id": "fc86c91d-adac-47de-8c34-51591fe80d0c",
   "metadata": {},
   "outputs": [
    {
     "data": {
      "text/plain": [
       "<torch.utils.data.dataloader.DataLoader at 0x219f8613130>"
      ]
     },
     "execution_count": 76,
     "metadata": {},
     "output_type": "execute_result"
    }
   ],
   "source": [
    "dataloader_test = DataLoader(\n",
    "  dataset_test, shuffle=True, batch_size=16\n",
    ")\n",
    "\n",
    "dataloader_test"
   ]
  },
  {
   "cell_type": "code",
   "execution_count": 84,
   "id": "692b6c3a-e6f2-48d6-8c39-762ae8c80d5c",
   "metadata": {},
   "outputs": [
    {
     "data": {
      "text/plain": [
       "(MulticlassPrecision(), MulticlassRecall())"
      ]
     },
     "execution_count": 84,
     "metadata": {},
     "output_type": "execute_result"
    }
   ],
   "source": [
    "from torchmetrics import Precision, Recall\n",
    "\n",
    "# Define metrics\n",
    "metric_precision = Precision(task=\"multiclass\", num_classes=7, average='macro').to(device)\n",
    "metric_recall = Recall(task=\"multiclass\", num_classes=7, average='macro').to(device)\n",
    "\n",
    "metric_precision, metric_recall"
   ]
  },
  {
   "cell_type": "code",
   "execution_count": 81,
   "id": "95ca7522-9ecc-4b54-9525-a7748d590cdb",
   "metadata": {},
   "outputs": [
    {
     "name": "stdout",
     "output_type": "stream",
     "text": [
      "Precision: 0.44690603017807007\n",
      "Recall: 0.4322301745414734\n"
     ]
    }
   ],
   "source": [
    "net.eval()\n",
    "with torch.no_grad():\n",
    "    for images, labels in dataloader_test:\n",
    "        images = images.to(device)  # Move your inputs to the chosen device\n",
    "        labels = labels.to(device)  # Move your labels to the chosen device\n",
    "        outputs = net(images)\n",
    "        _, preds = torch.max(outputs, 1)\n",
    "        metric_precision(preds, labels)\n",
    "        metric_recall(preds, labels)\n",
    "\n",
    "precision = metric_precision.compute()\n",
    "recall = metric_recall.compute()\n",
    "print(f\"Precision: {precision}\")\n",
    "print(f\"Recall: {recall}\")"
   ]
  },
  {
   "cell_type": "code",
   "execution_count": 89,
   "id": "e2dabe28-bd5b-44d6-921e-6ccd37c2325d",
   "metadata": {},
   "outputs": [],
   "source": [
    "# Define metrics\n",
    "metric_precision = Precision(task=\"multiclass\", num_classes=7, average=None).to(device)"
   ]
  },
  {
   "cell_type": "code",
   "execution_count": 90,
   "id": "ac504b32-800b-40cc-a2c4-83f78bd529f0",
   "metadata": {},
   "outputs": [
    {
     "data": {
      "text/plain": [
       "tensor([0.2222, 0.7500, 0.8750, 0.5360, 0.4831, 0.2621, 0.0000],\n",
       "       device='cuda:0')"
      ]
     },
     "execution_count": 90,
     "metadata": {},
     "output_type": "execute_result"
    }
   ],
   "source": [
    "net.eval()\n",
    "with torch.no_grad():\n",
    "    for images, labels in dataloader_test:\n",
    "        images = images.to(device)  # Move your inputs to the chosen device\n",
    "        labels = labels.to(device)  # Move your labels to the chosen device\n",
    "        outputs = net(images)\n",
    "        _, preds = torch.max(outputs, 1)\n",
    "        metric_precision(preds, labels)\n",
    "        \n",
    "precision = metric_precision.compute()\n",
    "precision\n"
   ]
  },
  {
   "cell_type": "code",
   "execution_count": 92,
   "id": "2242477d-2bae-415c-9fd1-d79c85cacffb",
   "metadata": {},
   "outputs": [
    {
     "data": {
      "text/plain": [
       "(tensor(0.2222, device='cuda:0'), 0.2222222238779068)"
      ]
     },
     "execution_count": 92,
     "metadata": {},
     "output_type": "execute_result"
    }
   ],
   "source": [
    "precision[0], precision[0].item()"
   ]
  },
  {
   "cell_type": "code",
   "execution_count": 95,
   "id": "b8b5156e-fd32-4dc6-852a-d3786a0155c7",
   "metadata": {},
   "outputs": [
    {
     "data": {
      "text/plain": [
       "dict_items([('cirriform clouds', 0), ('clear sky', 1), ('cumulonimbus clouds', 2), ('cumulus clouds', 3), ('high cumuliform clouds', 4), ('stratiform clouds', 5), ('stratocumulus clouds', 6)])"
      ]
     },
     "execution_count": 95,
     "metadata": {},
     "output_type": "execute_result"
    }
   ],
   "source": [
    "dataset_test.class_to_idx.items()"
   ]
  },
  {
   "cell_type": "code",
   "execution_count": 96,
   "id": "90accb0f-c583-4b6b-9fa9-198c07288f29",
   "metadata": {},
   "outputs": [
    {
     "name": "stdout",
     "output_type": "stream",
     "text": [
      "{'cirriform clouds': 0.2222222238779068, 'clear sky': 0.75, 'cumulonimbus clouds': 0.875, 'cumulus clouds': 0.5360000133514404, 'high cumuliform clouds': 0.4830508530139923, 'stratiform clouds': 0.2620689570903778, 'stratocumulus clouds': 0.0}\n"
     ]
    }
   ],
   "source": [
    "# Get precision per class\n",
    "precision_per_class = {\n",
    "    k: precision[v].item()\n",
    "    for k, v \n",
    "    in dataset_test.class_to_idx.items()\n",
    "}\n",
    "\n",
    "print(precision_per_class)"
   ]
  },
  {
   "cell_type": "code",
   "execution_count": 98,
   "id": "ec087a48-9e9d-46a8-a3af-99de04318023",
   "metadata": {},
   "outputs": [],
   "source": [
    "# Sequential Data\n",
    "\n",
    "import numpy as np\n",
    "\n",
    "def create_sequences(df, seq_length):\n",
    "    xs, ys = [], []\n",
    "    # Iterate over data indices\n",
    "    for i in range(len(df) - seq_length):\n",
    "        # Define inputs\n",
    "        x = df.iloc[i:(i+seq_length), 1]\n",
    "        # Define target\n",
    "        y = df.iloc[i+seq_length, 1]\n",
    "        xs.append(x)\n",
    "        ys.append(y)\n",
    "    return np.array(xs), np.array(ys)"
   ]
  },
  {
   "cell_type": "code",
   "execution_count": 147,
   "id": "861afe7c-6405-49ba-9643-4c7f1811d017",
   "metadata": {},
   "outputs": [
    {
     "data": {
      "text/html": [
       "<div>\n",
       "<style scoped>\n",
       "    .dataframe tbody tr th:only-of-type {\n",
       "        vertical-align: middle;\n",
       "    }\n",
       "\n",
       "    .dataframe tbody tr th {\n",
       "        vertical-align: top;\n",
       "    }\n",
       "\n",
       "    .dataframe thead th {\n",
       "        text-align: right;\n",
       "    }\n",
       "</style>\n",
       "<table border=\"1\" class=\"dataframe\">\n",
       "  <thead>\n",
       "    <tr style=\"text-align: right;\">\n",
       "      <th></th>\n",
       "      <th>timestamp</th>\n",
       "      <th>consumption</th>\n",
       "    </tr>\n",
       "  </thead>\n",
       "  <tbody>\n",
       "    <tr>\n",
       "      <th>0</th>\n",
       "      <td>2011-01-01 00:15:00</td>\n",
       "      <td>-0.704319</td>\n",
       "    </tr>\n",
       "    <tr>\n",
       "      <th>1</th>\n",
       "      <td>2011-01-01 00:30:00</td>\n",
       "      <td>-0.704319</td>\n",
       "    </tr>\n",
       "    <tr>\n",
       "      <th>2</th>\n",
       "      <td>2011-01-01 00:45:00</td>\n",
       "      <td>-0.678983</td>\n",
       "    </tr>\n",
       "    <tr>\n",
       "      <th>3</th>\n",
       "      <td>2011-01-01 01:00:00</td>\n",
       "      <td>-0.653647</td>\n",
       "    </tr>\n",
       "    <tr>\n",
       "      <th>4</th>\n",
       "      <td>2011-01-01 01:15:00</td>\n",
       "      <td>-0.704319</td>\n",
       "    </tr>\n",
       "    <tr>\n",
       "      <th>...</th>\n",
       "      <td>...</td>\n",
       "      <td>...</td>\n",
       "    </tr>\n",
       "    <tr>\n",
       "      <th>105210</th>\n",
       "      <td>2013-12-31 22:45:00</td>\n",
       "      <td>-0.932595</td>\n",
       "    </tr>\n",
       "    <tr>\n",
       "      <th>105211</th>\n",
       "      <td>2013-12-31 23:00:00</td>\n",
       "      <td>-0.907259</td>\n",
       "    </tr>\n",
       "    <tr>\n",
       "      <th>105212</th>\n",
       "      <td>2013-12-31 23:15:00</td>\n",
       "      <td>-0.932595</td>\n",
       "    </tr>\n",
       "    <tr>\n",
       "      <th>105213</th>\n",
       "      <td>2013-12-31 23:30:00</td>\n",
       "      <td>-0.932595</td>\n",
       "    </tr>\n",
       "    <tr>\n",
       "      <th>105214</th>\n",
       "      <td>2013-12-31 23:45:00</td>\n",
       "      <td>-0.932595</td>\n",
       "    </tr>\n",
       "  </tbody>\n",
       "</table>\n",
       "<p>105215 rows × 2 columns</p>\n",
       "</div>"
      ],
      "text/plain": [
       "                  timestamp  consumption\n",
       "0       2011-01-01 00:15:00    -0.704319\n",
       "1       2011-01-01 00:30:00    -0.704319\n",
       "2       2011-01-01 00:45:00    -0.678983\n",
       "3       2011-01-01 01:00:00    -0.653647\n",
       "4       2011-01-01 01:15:00    -0.704319\n",
       "...                     ...          ...\n",
       "105210  2013-12-31 22:45:00    -0.932595\n",
       "105211  2013-12-31 23:00:00    -0.907259\n",
       "105212  2013-12-31 23:15:00    -0.932595\n",
       "105213  2013-12-31 23:30:00    -0.932595\n",
       "105214  2013-12-31 23:45:00    -0.932595\n",
       "\n",
       "[105215 rows x 2 columns]"
      ]
     },
     "execution_count": 147,
     "metadata": {},
     "output_type": "execute_result"
    }
   ],
   "source": [
    "train_data = pd.read_csv('G:/My Drive/Ingegneria/Data Science GD/Models/DL&LLM/Intermediate Deep Learning Pytorch/electricity_consump/electricity_train.csv')\n",
    "\n",
    "train_data\n"
   ]
  },
  {
   "cell_type": "code",
   "execution_count": 160,
   "id": "5ab7255e-f685-4c93-b559-2697bb8ea93f",
   "metadata": {},
   "outputs": [
    {
     "data": {
      "text/html": [
       "<div>\n",
       "<style scoped>\n",
       "    .dataframe tbody tr th:only-of-type {\n",
       "        vertical-align: middle;\n",
       "    }\n",
       "\n",
       "    .dataframe tbody tr th {\n",
       "        vertical-align: top;\n",
       "    }\n",
       "\n",
       "    .dataframe thead th {\n",
       "        text-align: right;\n",
       "    }\n",
       "</style>\n",
       "<table border=\"1\" class=\"dataframe\">\n",
       "  <thead>\n",
       "    <tr style=\"text-align: right;\">\n",
       "      <th></th>\n",
       "      <th>timestamp</th>\n",
       "      <th>consumption</th>\n",
       "    </tr>\n",
       "  </thead>\n",
       "  <tbody>\n",
       "    <tr>\n",
       "      <th>0</th>\n",
       "      <td>2014-01-01 00:00:00</td>\n",
       "      <td>-0.932595</td>\n",
       "    </tr>\n",
       "    <tr>\n",
       "      <th>1</th>\n",
       "      <td>2014-01-01 00:15:00</td>\n",
       "      <td>-0.957931</td>\n",
       "    </tr>\n",
       "    <tr>\n",
       "      <th>2</th>\n",
       "      <td>2014-01-01 00:30:00</td>\n",
       "      <td>-0.932595</td>\n",
       "    </tr>\n",
       "    <tr>\n",
       "      <th>3</th>\n",
       "      <td>2014-01-01 00:45:00</td>\n",
       "      <td>-0.907259</td>\n",
       "    </tr>\n",
       "    <tr>\n",
       "      <th>4</th>\n",
       "      <td>2014-01-01 01:00:00</td>\n",
       "      <td>-0.881923</td>\n",
       "    </tr>\n",
       "    <tr>\n",
       "      <th>...</th>\n",
       "      <td>...</td>\n",
       "      <td>...</td>\n",
       "    </tr>\n",
       "    <tr>\n",
       "      <th>35035</th>\n",
       "      <td>2014-12-31 22:45:00</td>\n",
       "      <td>-0.070415</td>\n",
       "    </tr>\n",
       "    <tr>\n",
       "      <th>35036</th>\n",
       "      <td>2014-12-31 23:00:00</td>\n",
       "      <td>-0.045079</td>\n",
       "    </tr>\n",
       "    <tr>\n",
       "      <th>35037</th>\n",
       "      <td>2014-12-31 23:15:00</td>\n",
       "      <td>-0.045079</td>\n",
       "    </tr>\n",
       "    <tr>\n",
       "      <th>35038</th>\n",
       "      <td>2014-12-31 23:30:00</td>\n",
       "      <td>-0.045079</td>\n",
       "    </tr>\n",
       "    <tr>\n",
       "      <th>35039</th>\n",
       "      <td>2014-12-31 23:45:00</td>\n",
       "      <td>-0.095751</td>\n",
       "    </tr>\n",
       "  </tbody>\n",
       "</table>\n",
       "<p>35040 rows × 2 columns</p>\n",
       "</div>"
      ],
      "text/plain": [
       "                 timestamp  consumption\n",
       "0      2014-01-01 00:00:00    -0.932595\n",
       "1      2014-01-01 00:15:00    -0.957931\n",
       "2      2014-01-01 00:30:00    -0.932595\n",
       "3      2014-01-01 00:45:00    -0.907259\n",
       "4      2014-01-01 01:00:00    -0.881923\n",
       "...                    ...          ...\n",
       "35035  2014-12-31 22:45:00    -0.070415\n",
       "35036  2014-12-31 23:00:00    -0.045079\n",
       "35037  2014-12-31 23:15:00    -0.045079\n",
       "35038  2014-12-31 23:30:00    -0.045079\n",
       "35039  2014-12-31 23:45:00    -0.095751\n",
       "\n",
       "[35040 rows x 2 columns]"
      ]
     },
     "execution_count": 160,
     "metadata": {},
     "output_type": "execute_result"
    }
   ],
   "source": [
    "test_data = pd.read_csv('G:/My Drive/Ingegneria/Data Science GD/Models/DL&LLM/Intermediate Deep Learning Pytorch/electricity_consump/electricity_test.csv')\n",
    "\n",
    "test_data"
   ]
  },
  {
   "cell_type": "code",
   "execution_count": 148,
   "id": "1dc25a33-6d07-40ca-9daf-01b218e3a08e",
   "metadata": {},
   "outputs": [
    {
     "name": "stdout",
     "output_type": "stream",
     "text": [
      "(105119, 96) (105119,)\n"
     ]
    }
   ],
   "source": [
    "import torch\n",
    "from torch.utils.data import TensorDataset\n",
    "\n",
    "# Use create_sequences to create train inputs and targets\n",
    "X_train, y_train = create_sequences(train_data, 24*4) # a record every 15 minutes\n",
    "print(X_train.shape, y_train.shape)\n",
    "\n"
   ]
  },
  {
   "cell_type": "code",
   "execution_count": 161,
   "id": "e862f630-4ff4-4a78-96aa-fade0a72d756",
   "metadata": {},
   "outputs": [
    {
     "name": "stdout",
     "output_type": "stream",
     "text": [
      "(34944, 96) (34944,)\n"
     ]
    }
   ],
   "source": [
    "# Use create_sequences to create test inputs and targets\n",
    "X_test, y_test = create_sequences(test_data, 24*4) # a record every 15 minutes\n",
    "print(X_test.shape, y_test.shape)"
   ]
  },
  {
   "cell_type": "code",
   "execution_count": 152,
   "id": "b71b364e-ad57-41a3-a34a-1e0220b9fc45",
   "metadata": {},
   "outputs": [
    {
     "name": "stdout",
     "output_type": "stream",
     "text": [
      "105119\n"
     ]
    },
    {
     "data": {
      "text/plain": [
       "(array([[-0.70431852, -0.70431852, -0.67898263, ..., -0.65364675,\n",
       "         -0.72990776, -0.70431852],\n",
       "        [-0.70431852, -0.67898263, -0.65364675, ..., -0.72990776,\n",
       "         -0.70431852, -0.70431852],\n",
       "        [-0.67898263, -0.65364675, -0.70431852, ..., -0.70431852,\n",
       "         -0.70431852, -0.70431852],\n",
       "        ...,\n",
       "        [ 0.79759271,  0.82292859,  0.84826447, ..., -0.93259484,\n",
       "         -0.93259484, -0.90725895],\n",
       "        [ 0.82292859,  0.84826447,  0.77200346, ..., -0.93259484,\n",
       "         -0.90725895, -0.93259484],\n",
       "        [ 0.84826447,  0.77200346,  0.72133169, ..., -0.90725895,\n",
       "         -0.93259484, -0.93259484]]),\n",
       " array([-0.70431852, -0.70431852, -0.65364675, ..., -0.93259484,\n",
       "        -0.93259484, -0.93259484]))"
      ]
     },
     "execution_count": 152,
     "metadata": {},
     "output_type": "execute_result"
    }
   ],
   "source": [
    "# Create TensorDataset train\n",
    "dataset_train = TensorDataset(\n",
    "    torch.from_numpy(X_train).float(),\n",
    "    torch.from_numpy(y_train).float(),\n",
    ")\n",
    "print(len(dataset_train))\n",
    "\n",
    "X_train, y_train"
   ]
  },
  {
   "cell_type": "code",
   "execution_count": 162,
   "id": "f322429c-b316-4639-bb2b-747cdbe8a5a7",
   "metadata": {},
   "outputs": [
    {
     "name": "stdout",
     "output_type": "stream",
     "text": [
      "34944\n"
     ]
    },
    {
     "data": {
      "text/plain": [
       "(array([[-0.93259484, -0.95793072, -0.93259484, ..., -0.93259484,\n",
       "         -0.93259484, -0.93259484],\n",
       "        [-0.95793072, -0.93259484, -0.90725895, ..., -0.93259484,\n",
       "         -0.93259484, -0.93259484],\n",
       "        [-0.93259484, -0.90725895, -0.88192307, ..., -0.93259484,\n",
       "         -0.93259484, -0.93259484],\n",
       "        ...,\n",
       "        [ 0.92452549,  0.95011473,  0.8991896 , ..., -0.07041469,\n",
       "         -0.07041469, -0.04507881],\n",
       "        [ 0.95011473,  0.8991896 ,  0.95011473, ..., -0.07041469,\n",
       "         -0.04507881, -0.04507881],\n",
       "        [ 0.8991896 ,  0.95011473,  0.97545061, ..., -0.04507881,\n",
       "         -0.04507881, -0.04507881]]),\n",
       " array([-0.93259484, -0.93259484, -0.93259484, ..., -0.04507881,\n",
       "        -0.04507881, -0.09575058]))"
      ]
     },
     "execution_count": 162,
     "metadata": {},
     "output_type": "execute_result"
    }
   ],
   "source": [
    "# Create TensorDataset test\n",
    "dataset_test = TensorDataset(\n",
    "    torch.from_numpy(X_test).float(),\n",
    "    torch.from_numpy(y_test).float(),\n",
    ")\n",
    "print(len(dataset_test))\n",
    "\n",
    "X_test, y_test"
   ]
  },
  {
   "cell_type": "code",
   "execution_count": 163,
   "id": "302b2809-51b9-422d-9dfa-d9eee27e1e69",
   "metadata": {},
   "outputs": [
    {
     "data": {
      "text/plain": [
       "<torch.utils.data.dataloader.DataLoader at 0x21ae7e96680>"
      ]
     },
     "execution_count": 163,
     "metadata": {},
     "output_type": "execute_result"
    }
   ],
   "source": [
    "# Create a DataLoader based on dataset_train\n",
    "dataloader_train = DataLoader(\n",
    "    dataset_train,\n",
    "    batch_size=16,\n",
    "    shuffle=False,\n",
    ")\n",
    "\n",
    "dataloader_train"
   ]
  },
  {
   "cell_type": "code",
   "execution_count": 164,
   "id": "2b673c63-3b66-430b-a7d7-a4d6f425881d",
   "metadata": {},
   "outputs": [
    {
     "data": {
      "text/plain": [
       "<torch.utils.data.dataloader.DataLoader at 0x21ae7e96aa0>"
      ]
     },
     "execution_count": 164,
     "metadata": {},
     "output_type": "execute_result"
    }
   ],
   "source": [
    "# Create a DataLoader based on dataset_test\n",
    "dataloader_test = DataLoader(\n",
    "    dataset_test,\n",
    "    batch_size=16,\n",
    "    shuffle=False,\n",
    ")\n",
    "\n",
    "dataloader_test"
   ]
  },
  {
   "cell_type": "code",
   "execution_count": 169,
   "id": "39632695-d2f9-410c-b78b-0f1487fda296",
   "metadata": {},
   "outputs": [
    {
     "name": "stdout",
     "output_type": "stream",
     "text": [
      "Sequences shape:  torch.Size([16, 96])\n",
      "Labels shape:  torch.Size([16])\n"
     ]
    }
   ],
   "source": [
    "for seqs1, labels1 in dataloader_test:\n",
    "    print(\"Sequences shape: \", seqs1.shape)\n",
    "    print(\"Labels shape: \", labels1.shape)\n",
    "    break  # remove this line if you want to print shapes for all batches"
   ]
  },
  {
   "cell_type": "code",
   "execution_count": 189,
   "id": "baabdcab-8662-44a9-ae82-994bd8b5f4ee",
   "metadata": {},
   "outputs": [
    {
     "name": "stdout",
     "output_type": "stream",
     "text": [
      "Sequences shape:  torch.Size([16, 96])\n",
      "Labels shape:  torch.Size([16])\n",
      "16 96\n"
     ]
    }
   ],
   "source": [
    "for seqs1, labels1 in dataloader_train:\n",
    "    print(\"Sequences shape: \", seqs1.shape)\n",
    "    print(\"Labels shape: \", labels1.shape)\n",
    "    print(seqs.size(0), seqs.size(1))\n",
    "    break  # remove this line if you want to print shapes for all batches"
   ]
  },
  {
   "cell_type": "code",
   "execution_count": 170,
   "id": "f1c9562d-5cb2-4b78-b48a-0926b229560f",
   "metadata": {},
   "outputs": [],
   "source": [
    "# This Net class is a simple implementation of a Recurrent Neural Network (RNN) using PyTorch. It’s designed to take a sequence of numbers as input and return a single output number. The RNN layer processes the sequence, and the final output of this sequence is then passed through a fully connected (Linear) layer to get the final output. The number of features in the hidden state of the RNN is 32, and there are 2 stacked RNNs (i.e., num_layers=2). The batch size is determined by the size of the input x. The initial hidden state is initialized with zeros. The output of the RNN layer is the sequence of hidden states at each time step. The last hidden state of this sequence (i.e., out[:, -1, :]) is passed through the fully connected layer to get the final output. This is a common pattern in sequence-to-one RNNs, where we only care about the output at the final time step. The fully connected layer transforms the RNN output to the desired output size (in this case, 1).\n",
    "\n",
    "\n",
    "# Importing the necessary libraries\n",
    "import torch\n",
    "import torch.nn as nn\n",
    "\n",
    "# Define the class 'Net' which inherits from 'nn.Module'\n",
    "class Net_RNN(nn.Module):\n",
    "    def __init__(self):\n",
    "        # Call the parent constructor. Necessary for PyTorch to detect this class as a custom module.\n",
    "        super().__init__()\n",
    "\n",
    "        # Define a Recurrent Neural Network (RNN) layer\n",
    "        # input_size=1: The number of expected features in the input x\n",
    "        # hidden_size=32: The number of features in the hidden state h\n",
    "        # num_layers=2: Number of recurrent layers (i.e., 2 stacked RNNs)\n",
    "        # batch_first=True: Whether the first dimension of input represents batch size\n",
    "        self.rnn = nn.RNN(\n",
    "            input_size=1, \n",
    "            hidden_size=32,\n",
    "            num_layers=2,\n",
    "            batch_first=True, # In PyTorch, the input to an RNN is a 3D tensor with dimensions defined as follows:\n",
    "                            # If batch_first=True, the dimensions are (batch_size, sequence_length, input_size).\n",
    "                            # If batch_first=False (which is the default), the dimensions are (sequence_length, batch_size, input_size).\n",
    "        )\n",
    "\n",
    "        # Define a fully connected layer (Linear layer)\n",
    "        # It will connect the RNN layer to the output layer\n",
    "        # 32: The size of each input sample (i.e., the hidden size of the RNN)\n",
    "        # 1: The size of each output sample\n",
    "        self.fc = nn.Linear(32, 1)\n",
    "\n",
    "    def forward(self, x):\n",
    "        # Forward propagation function\n",
    "\n",
    "        # Initialize the first hidden state with zeros\n",
    "        # 2: The number of layers in the RNN\n",
    "        # x.size(0): The batch size (i.e., the number of samples per batch)\n",
    "        # 32: The hidden size of the RNN\n",
    "        h0 = torch.zeros(2, x.size(0), 32) # x.size(0) returns the size of the first dimension of x, which is the batch size (i.e., the number of sequences in the batch). \n",
    "\n",
    "        # Pass the input 'x' and initial hidden states 'h0' through the RNN layer\n",
    "        # The RNN layer returns the output and the last hidden state\n",
    "        # We don't need the last hidden state, so we ignore it with '_'\n",
    "        out, _ = self.rnn(x, h0)\n",
    "\n",
    "        # Pass the output of the RNN layer through the fully connected (Linear) layer\n",
    "        # We only want the last time step, so we use 'out[:, -1, :]'\n",
    "        out = self.fc(out[:, -1, :])\n",
    "\n",
    "        # Return the final output\n",
    "        return out\n"
   ]
  },
  {
   "cell_type": "code",
   "execution_count": 155,
   "id": "535e71ca-02ef-45ae-a574-8f3e129895e8",
   "metadata": {},
   "outputs": [
    {
     "data": {
      "text/plain": [
       "Net(\n",
       "  (rnn): RNN(1, 32, num_layers=2, batch_first=True)\n",
       "  (fc): Linear(in_features=32, out_features=1, bias=True)\n",
       ")"
      ]
     },
     "execution_count": 155,
     "metadata": {},
     "output_type": "execute_result"
    }
   ],
   "source": [
    "# Create an instance of your class\n",
    "net = Net()\n",
    "\n",
    "net"
   ]
  },
  {
   "cell_type": "code",
   "execution_count": 156,
   "id": "7fc319d6-c690-4825-8168-5ed28338a721",
   "metadata": {},
   "outputs": [
    {
     "data": {
      "text/plain": [
       "tensor([[[ 0.1928],\n",
       "         [-1.4668],\n",
       "         [-1.1990],\n",
       "         [ 0.6008],\n",
       "         [-0.6138]],\n",
       "\n",
       "        [[ 0.3881],\n",
       "         [-1.2589],\n",
       "         [ 0.6245],\n",
       "         [ 0.1985],\n",
       "         [-0.8277]],\n",
       "\n",
       "        [[ 0.7365],\n",
       "         [-1.4171],\n",
       "         [ 0.5876],\n",
       "         [ 1.4022],\n",
       "         [ 0.0678]],\n",
       "\n",
       "        [[-0.8214],\n",
       "         [-1.7477],\n",
       "         [-2.4478],\n",
       "         [ 0.5039],\n",
       "         [-0.3374]],\n",
       "\n",
       "        [[ 1.9023],\n",
       "         [-1.2232],\n",
       "         [ 0.4893],\n",
       "         [-0.1693],\n",
       "         [ 1.3170]],\n",
       "\n",
       "        [[ 2.4140],\n",
       "         [ 0.2674],\n",
       "         [ 0.6329],\n",
       "         [-0.1553],\n",
       "         [ 0.2768]],\n",
       "\n",
       "        [[-1.9778],\n",
       "         [ 1.0543],\n",
       "         [ 0.1473],\n",
       "         [ 0.8292],\n",
       "         [-0.1953]],\n",
       "\n",
       "        [[ 0.6986],\n",
       "         [-0.6729],\n",
       "         [ 0.2230],\n",
       "         [ 0.1746],\n",
       "         [-2.9362]],\n",
       "\n",
       "        [[-0.0222],\n",
       "         [-0.4088],\n",
       "         [ 0.3743],\n",
       "         [-1.7257],\n",
       "         [-1.4994]],\n",
       "\n",
       "        [[-0.6671],\n",
       "         [-2.2159],\n",
       "         [-1.4172],\n",
       "         [ 1.4659],\n",
       "         [-0.6932]]])"
      ]
     },
     "execution_count": 156,
     "metadata": {},
     "output_type": "execute_result"
    }
   ],
   "source": [
    "# Create some random input data\n",
    "x = torch.randn(10, 5, 1)  # batch_size=10, sequence_length=5, input_size=1\n",
    "\n",
    "x"
   ]
  },
  {
   "cell_type": "code",
   "execution_count": 157,
   "id": "63310744-e036-450d-9af3-5e394908c008",
   "metadata": {},
   "outputs": [
    {
     "data": {
      "text/plain": [
       "tensor([[-0.0229],\n",
       "        [-0.0008],\n",
       "        [ 0.0175],\n",
       "        [-0.0199],\n",
       "        [ 0.1024],\n",
       "        [ 0.0410],\n",
       "        [-0.0155],\n",
       "        [-0.1123],\n",
       "        [-0.0012],\n",
       "        [-0.0395]], grad_fn=<AddmmBackward0>)"
      ]
     },
     "execution_count": 157,
     "metadata": {},
     "output_type": "execute_result"
    }
   ],
   "source": [
    "# Pass the input data through your network\n",
    "output = net(x)\n",
    "\n",
    "output"
   ]
  },
  {
   "cell_type": "code",
   "execution_count": 172,
   "id": "a5abe9cc-cf23-473d-a1a5-611a9454c9e0",
   "metadata": {},
   "outputs": [],
   "source": [
    "#GRU\n",
    "\n",
    "class Net_GRU(nn.Module):\n",
    "    def __init__(self):\n",
    "        super().__init__()\n",
    "        # Define RNN layer\n",
    "        self.gru = nn.GRU(\n",
    "            input_size=1,\n",
    "            hidden_size=32,\n",
    "            num_layers=2,\n",
    "            batch_first=True,\n",
    "        )\n",
    "        self.fc = nn.Linear(32, 1)\n",
    "\n",
    "    def forward(self, x):\n",
    "        h0 = torch.zeros(2, x.size(0), 32)\n",
    "        out, _ = self.gru(x, h0)  \n",
    "        out = self.fc(out[:, -1, :])\n",
    "        return out"
   ]
  },
  {
   "cell_type": "code",
   "execution_count": 175,
   "id": "1011445a-a29d-4569-92b4-eee88f3121d8",
   "metadata": {},
   "outputs": [],
   "source": [
    "#LSTM\n",
    "\n",
    "class Net_LSTM(nn.Module):\n",
    "    def __init__(self, input_size):\n",
    "        super().__init__()\n",
    "        # Define lstm layer\n",
    "        self.lstm = nn.LSTM(\n",
    "            input_size=input_size,\n",
    "            hidden_size=32,\n",
    "            num_layers=2,\n",
    "            batch_first=True,\n",
    "        )\n",
    "        self.fc = nn.Linear(32, 1)\n",
    "\n",
    "    def forward(self, x):\n",
    "        h0 = torch.zeros(2, x.size(0), 32)\n",
    "        # Initialize long-term memory\n",
    "        c0 = torch.zeros(2, x.size(0), 32)\n",
    "        # Pass all inputs to lstm layer\n",
    "        out, _ = self.lstm(x, (h0,c0))\n",
    "        out = self.fc(out[:, -1, :])\n",
    "        return out"
   ]
  },
  {
   "cell_type": "code",
   "execution_count": 202,
   "id": "313863f1-83af-42d9-af45-4127567e078b",
   "metadata": {},
   "outputs": [],
   "source": [
    "net_l = Net_LSTM(input_size=1)\n",
    "# Set up MSE loss\n",
    "criterion = nn.MSELoss()\n",
    "optimizer = optim.Adam(\n",
    "  net.parameters(), lr=0.0001\n",
    ")"
   ]
  },
  {
   "cell_type": "code",
   "execution_count": 203,
   "id": "d93f189a-7940-4191-afe6-9f515f82b6a2",
   "metadata": {},
   "outputs": [
    {
     "name": "stdout",
     "output_type": "stream",
     "text": [
      "Epoch 1, Loss: 0.6624174118041992\n",
      "Epoch 2, Loss: 0.6624174118041992\n",
      "Epoch 3, Loss: 0.6624174118041992\n"
     ]
    }
   ],
   "source": [
    "for epoch in range(3):\n",
    "    for seqs, labels in dataloader_train:\n",
    "        # Reshape model inputs\n",
    "        # seqs = seqs.view(16, 96, 1)\n",
    "        seqs = seqs.view(seqs.size(0), seqs.size(1), 1)\n",
    "        # Get model outputs\n",
    "        outputs = net_l(seqs)\n",
    "        # Compute loss\n",
    "        loss = criterion(outputs, labels)\n",
    "        optimizer.zero_grad()\n",
    "        loss.backward()\n",
    "        optimizer.step()\n",
    "    print(f\"Epoch {epoch+1}, Loss: {loss.item()}\")"
   ]
  },
  {
   "cell_type": "code",
   "execution_count": 191,
   "id": "698876d9-1d89-4c08-8c74-56a84a365e28",
   "metadata": {},
   "outputs": [],
   "source": [
    "# net_g = Net_GRU()\n",
    "# # Set up MSE loss\n",
    "# criterion = nn.MSELoss()\n",
    "# optimizer = optim.Adam(\n",
    "#   net.parameters(), lr=0.0001\n",
    "# )"
   ]
  },
  {
   "cell_type": "code",
   "execution_count": 193,
   "id": "4966dc2e-8a52-48ae-9d95-a3f567265823",
   "metadata": {},
   "outputs": [],
   "source": [
    "# for epoch in range(3):\n",
    "#     for seqs, labels in dataloader_train:\n",
    "#         # Reshape model inputs\n",
    "#         # seqs = seqs.view(16, 96, 1)\n",
    "#         seqs = seqs.view(seqs.size(0), seqs.size(1), 1)\n",
    "#         # Get model outputs\n",
    "#         outputs = net_g(seqs)\n",
    "#         # Compute loss\n",
    "#         loss = criterion(outputs, labels)\n",
    "#         optimizer.zero_grad()\n",
    "#         loss.backward()\n",
    "#         optimizer.step()\n",
    "#     print(f\"Epoch {epoch+1}, Loss: {loss.item()}\")"
   ]
  },
  {
   "cell_type": "code",
   "execution_count": 205,
   "id": "adeb0918-4652-47d5-8464-58b1659b1326",
   "metadata": {},
   "outputs": [
    {
     "data": {
      "text/plain": [
       "MeanSquaredError()"
      ]
     },
     "execution_count": 205,
     "metadata": {},
     "output_type": "execute_result"
    }
   ],
   "source": [
    "import torchmetrics\n",
    "\n",
    "# Define MSE metric\n",
    "mse = torchmetrics.MeanSquaredError()\n",
    "\n",
    "mse"
   ]
  },
  {
   "cell_type": "code",
   "execution_count": 207,
   "id": "1c693fc5-5e81-48ff-be4b-d6b17e936652",
   "metadata": {},
   "outputs": [
    {
     "name": "stdout",
     "output_type": "stream",
     "text": [
      "tensor([-0.0468, -0.0469, -0.0470, -0.0471, -0.0471, -0.0471, -0.0472, -0.0467,\n",
      "        -0.0465, -0.0468, -0.0478, -0.0487, -0.0491, -0.0492, -0.0491, -0.0490]) MeanSquaredError()\n"
     ]
    }
   ],
   "source": [
    "net.eval()\n",
    "with torch.no_grad():\n",
    "    for seqs, labels in dataloader_test:\n",
    "        # seqs = seqs.view(16, 96, 1)\n",
    "        seqs = seqs.view(seqs.size(0), seqs.size(1), 1)\n",
    "        # Pass seqs to net and squeeze the result\n",
    "        outputs = net_l(seqs).squeeze()\n",
    "        mse(outputs, labels)\n",
    "        \n",
    "print(outputs, mse)\n"
   ]
  },
  {
   "cell_type": "code",
   "execution_count": 208,
   "id": "e02ba696-9837-4a71-84fa-4ac31b6987fc",
   "metadata": {},
   "outputs": [
    {
     "name": "stdout",
     "output_type": "stream",
     "text": [
      "Test MSE: 0.6503976583480835\n"
     ]
    }
   ],
   "source": [
    "# Compute final metric value\n",
    "test_mse = mse.compute()\n",
    "print(f\"Test MSE: {test_mse}\")"
   ]
  },
  {
   "cell_type": "code",
   "execution_count": 263,
   "id": "31e3b0b0-96b0-41f5-8e35-2039e716c71f",
   "metadata": {},
   "outputs": [
    {
     "name": "stdout",
     "output_type": "stream",
     "text": [
      "Files already downloaded and verified\n"
     ]
    }
   ],
   "source": [
    "import torchvision.datasets as datasets\n",
    "\n",
    "my_path= os.getcwd()\n",
    "\n",
    "# Load the Omniglot dataset\n",
    "omniglot_dataset = datasets.Omniglot(\n",
    "    root=my_path, \n",
    "    download=True,\n",
    "    # the transform argument is used to ensure that the images from the Omniglot dataset are in the appropriate format and size for input into a PyTorch model.\n",
    "    transform=transforms.Compose([ \n",
    "        transforms.ToTensor(),\n",
    "        transforms.Resize((64, 64)),\n",
    "    ])\n",
    ")\n"
   ]
  },
  {
   "cell_type": "code",
   "execution_count": 264,
   "id": "79cab6ed-29b7-49e6-85af-4f0b9f361208",
   "metadata": {},
   "outputs": [
    {
     "data": {
      "text/plain": [
       "Dataset Omniglot\n",
       "    Number of datapoints: 19280\n",
       "    Root location: G:\\My Drive\\Ingegneria\\Data Science GD\\Models\\DL&LLM\\Intermediate Deep Learning Pytorch\\omniglot-py\n",
       "    StandardTransform\n",
       "Transform: Compose(\n",
       "               ToTensor()\n",
       "               Resize(size=(64, 64), interpolation=bilinear, max_size=None, antialias=warn)\n",
       "           )"
      ]
     },
     "execution_count": 264,
     "metadata": {},
     "output_type": "execute_result"
    }
   ],
   "source": [
    "omniglot_dataset"
   ]
  },
  {
   "cell_type": "code",
   "execution_count": 272,
   "id": "0bb10631-8837-4ec3-b86a-e5d10463cbc1",
   "metadata": {},
   "outputs": [],
   "source": [
    "import os\n",
    "import numpy as np\n",
    "from sklearn.preprocessing import LabelBinarizer\n",
    "from sklearn.model_selection import train_test_split\n",
    "\n",
    "# Define the path to your dataset\n",
    "dataset_path = 'G:\\\\My Drive\\\\Ingegneria\\\\Data Science GD\\\\Models\\\\DL&LLM\\\\Intermediate Deep Learning Pytorch\\\\omniglot-py\\\\images_background'\n",
    "\n",
    "# Initialize an empty list to store the tuples\n",
    "data = []\n",
    "\n",
    "# Initialize a LabelBinarizer for one-hot encoding of the alphabets\n",
    "lb = LabelBinarizer()\n",
    "\n",
    "# Get list of all alphabet directories and fit the LabelBinarizer\n",
    "all_alphabets = os.listdir(dataset_path)\n",
    "lb.fit(all_alphabets)\n",
    "\n",
    "# Initialize a dictionary to store unique labels for each character of every alphabet\n",
    "char_label_dict = {}\n",
    "label_counter = 0\n",
    "\n",
    "# Loop over the directories in the dataset path\n",
    "for alphabet_dir in all_alphabets:\n",
    "    alphabet_path = os.path.join(dataset_path, alphabet_dir)\n",
    "    \n",
    "    # Loop over the character directories in each alphabet directory\n",
    "    for character_dir in os.listdir(alphabet_path):\n",
    "        character_path = os.path.join(alphabet_path, character_dir)\n",
    "        \n",
    "        # Assign a unique label to each character of every alphabet\n",
    "        char_label_key = f\"{alphabet_dir}_{character_dir}\"\n",
    "        if char_label_key not in char_label_dict:\n",
    "            char_label_dict[char_label_key] = label_counter\n",
    "            label_counter += 1\n",
    "        \n",
    "        # Loop over the images in each character directory\n",
    "        for image_file in os.listdir(character_path):\n",
    "            image_path = os.path.join(character_path, image_file)\n",
    "            \n",
    "            # Create the alphabet vector\n",
    "            alphabet_vector = lb.transform([alphabet_dir])[0]\n",
    "            \n",
    "            # Get the target label\n",
    "            target_label = char_label_dict[char_label_key]\n",
    "            \n",
    "            # Append the tuple to the data list\n",
    "            data.append((image_path, alphabet_vector, target_label))\n",
    "\n"
   ]
  },
  {
   "cell_type": "code",
   "execution_count": 274,
   "id": "ce857707-fd53-45ca-8d83-56de551fb2ec",
   "metadata": {},
   "outputs": [
    {
     "name": "stdout",
     "output_type": "stream",
     "text": [
      "Train Data:\n",
      "('G:\\\\My Drive\\\\Ingegneria\\\\Data Science GD\\\\Models\\\\DL&LLM\\\\Intermediate Deep Learning Pytorch\\\\omniglot-py\\\\images_background\\\\Japanese_(katakana)\\\\character38\\\\0633_20.png', array([0, 0, 0, 0, 0, 0, 0, 0, 0, 0, 0, 0, 0, 0, 0, 0, 0, 0, 0, 1, 0, 0,\n",
      "       0, 0, 0, 0, 0, 0, 0, 0]), 623)\n",
      "('G:\\\\My Drive\\\\Ingegneria\\\\Data Science GD\\\\Models\\\\DL&LLM\\\\Intermediate Deep Learning Pytorch\\\\omniglot-py\\\\images_background\\\\Cyrillic\\\\character16\\\\0233_12.png', array([0, 0, 0, 0, 0, 0, 0, 0, 0, 0, 1, 0, 0, 0, 0, 0, 0, 0, 0, 0, 0, 0,\n",
      "       0, 0, 0, 0, 0, 0, 0, 0]), 315)\n",
      "('G:\\\\My Drive\\\\Ingegneria\\\\Data Science GD\\\\Models\\\\DL&LLM\\\\Intermediate Deep Learning Pytorch\\\\omniglot-py\\\\images_background\\\\Asomtavruli_(Georgian)\\\\character40\\\\0107_16.png', array([0, 0, 0, 0, 1, 0, 0, 0, 0, 0, 0, 0, 0, 0, 0, 0, 0, 0, 0, 0, 0, 0,\n",
      "       0, 0, 0, 0, 0, 0, 0, 0]), 155)\n",
      "('G:\\\\My Drive\\\\Ingegneria\\\\Data Science GD\\\\Models\\\\DL&LLM\\\\Intermediate Deep Learning Pytorch\\\\omniglot-py\\\\images_background\\\\Japanese_(hiragana)\\\\character52\\\\0539_16.png', array([0, 0, 0, 0, 0, 0, 0, 0, 0, 0, 0, 0, 0, 0, 0, 0, 0, 0, 1, 0, 0, 0,\n",
      "       0, 0, 0, 0, 0, 0, 0, 0]), 585)\n",
      "('G:\\\\My Drive\\\\Ingegneria\\\\Data Science GD\\\\Models\\\\DL&LLM\\\\Intermediate Deep Learning Pytorch\\\\omniglot-py\\\\images_background\\\\Futurama\\\\character20\\\\0344_06.png', array([0, 0, 0, 0, 0, 0, 0, 0, 0, 0, 0, 0, 1, 0, 0, 0, 0, 0, 0, 0, 0, 0,\n",
      "       0, 0, 0, 0, 0, 0, 0, 0]), 374)\n",
      "\n",
      "Test Data:\n",
      "('G:\\\\My Drive\\\\Ingegneria\\\\Data Science GD\\\\Models\\\\DL&LLM\\\\Intermediate Deep Learning Pytorch\\\\omniglot-py\\\\images_background\\\\Sanskrit\\\\character14\\\\0864_13.png', array([0, 0, 0, 0, 0, 0, 0, 0, 0, 0, 0, 0, 0, 0, 0, 0, 0, 0, 0, 0, 0, 0,\n",
      "       0, 0, 0, 0, 1, 0, 0, 0]), 840)\n",
      "('G:\\\\My Drive\\\\Ingegneria\\\\Data Science GD\\\\Models\\\\DL&LLM\\\\Intermediate Deep Learning Pytorch\\\\omniglot-py\\\\images_background\\\\Japanese_(hiragana)\\\\character25\\\\0512_07.png', array([0, 0, 0, 0, 0, 0, 0, 0, 0, 0, 0, 0, 0, 0, 0, 0, 0, 0, 1, 0, 0, 0,\n",
      "       0, 0, 0, 0, 0, 0, 0, 0]), 558)\n",
      "('G:\\\\My Drive\\\\Ingegneria\\\\Data Science GD\\\\Models\\\\DL&LLM\\\\Intermediate Deep Learning Pytorch\\\\omniglot-py\\\\images_background\\\\N_Ko\\\\character23\\\\0826_14.png', array([0, 0, 0, 0, 0, 0, 0, 0, 0, 0, 0, 0, 0, 0, 0, 0, 0, 0, 0, 0, 0, 0,\n",
      "       0, 0, 1, 0, 0, 0, 0, 0]), 802)\n",
      "('G:\\\\My Drive\\\\Ingegneria\\\\Data Science GD\\\\Models\\\\DL&LLM\\\\Intermediate Deep Learning Pytorch\\\\omniglot-py\\\\images_background\\\\Japanese_(hiragana)\\\\character11\\\\0498_18.png', array([0, 0, 0, 0, 0, 0, 0, 0, 0, 0, 0, 0, 0, 0, 0, 0, 0, 0, 1, 0, 0, 0,\n",
      "       0, 0, 0, 0, 0, 0, 0, 0]), 544)\n",
      "('G:\\\\My Drive\\\\Ingegneria\\\\Data Science GD\\\\Models\\\\DL&LLM\\\\Intermediate Deep Learning Pytorch\\\\omniglot-py\\\\images_background\\\\Grantha\\\\character22\\\\0372_04.png', array([0, 0, 0, 0, 0, 0, 0, 0, 0, 0, 0, 0, 0, 1, 0, 0, 0, 0, 0, 0, 0, 0,\n",
      "       0, 0, 0, 0, 0, 0, 0, 0]), 402)\n"
     ]
    }
   ],
   "source": [
    "# # Convert the data list to a numpy array\n",
    "# data = np.array(data)\n",
    "\n",
    "# Split the data into training and testing sets\n",
    "train_data, test_data = train_test_split(data, test_size=0.2, random_state=42)\n",
    "\n",
    "# Print the first few items in the train_data and test_data to check\n",
    "print('Train Data:')\n",
    "for item in train_data[:5]:\n",
    "    print(item)\n",
    "\n",
    "print('\\nTest Data:')\n",
    "for item in test_data[:5]:\n",
    "    print(item)\n"
   ]
  },
  {
   "cell_type": "code",
   "execution_count": 261,
   "id": "12cd77a3-3904-406c-9cb1-0c923c59a7e5",
   "metadata": {},
   "outputs": [],
   "source": [
    "from PIL import Image\n",
    "from torch.utils.data import DataLoader, Dataset\n",
    "from torchvision import transforms\n",
    "\n",
    "class OmniglotDataset(Dataset):\n",
    "    def __init__(self, transform, samples):\n",
    "\t\t# Assign transform and samples to class attributes\n",
    "        self.transform = transform\n",
    "        self.samples = samples\n",
    "                    \n",
    "    def __len__(self):\n",
    "\t\t# Return number of samples\n",
    "        return len(self.samples)\n",
    "\n",
    "    def __getitem__(self, idx):\n",
    "      \t# Unpack the sample at index idx\n",
    "        img_path, alphabet, label = self.samples[idx]\n",
    "        img = Image.open(img_path).convert('L') # convert to grayscale\n",
    "        # Transform the image \n",
    "        img_transformed = self.transform(img) # self.transform(img) is transforming the image img according to the transformations defined in self.transform when the OmniglotDataset object is created\n",
    "        return img_transformed, alphabet, label"
   ]
  },
  {
   "cell_type": "code",
   "execution_count": 277,
   "id": "4b436b60-13e1-4604-a399-92d8378eb8ee",
   "metadata": {},
   "outputs": [
    {
     "data": {
      "text/plain": [
       "<__main__.OmniglotDataset at 0x21af61e7e20>"
      ]
     },
     "execution_count": 277,
     "metadata": {},
     "output_type": "execute_result"
    }
   ],
   "source": [
    "# Create an instance of your custom dataset\n",
    "\n",
    "# You’ve already applied the transformations when you loaded the Omniglot dataset using the datasets.Omniglot function. However, the code you’ve shown in the second part is creating a custom dataset class, OmniglotDataset.\n",
    "# If you’re using the same data (i.e., omniglot_dataset) for both the datasets.Omniglot function and your custom OmniglotDataset class, and you’re applying the same transformations in both places, then you’re effectively transforming the data twice, which is not necessary.\n",
    "\n",
    "dataset_train = OmniglotDataset(transform=transforms.Compose([\n",
    "    transforms.ToTensor(),\n",
    "    transforms.Resize((64, 64)),\n",
    "]), samples=train_data)  \n",
    "\n",
    "dataset_train"
   ]
  },
  {
   "cell_type": "code",
   "execution_count": 278,
   "id": "9929347a-5e36-4b8e-ab0c-662327c5d0ec",
   "metadata": {},
   "outputs": [],
   "source": [
    "dataloader_train = DataLoader(\n",
    "    dataset_train, shuffle=True, batch_size=3,\n",
    ")"
   ]
  },
  {
   "cell_type": "code",
   "execution_count": 279,
   "id": "de46e470-43a5-4033-8e90-79bd7b330b04",
   "metadata": {},
   "outputs": [
    {
     "name": "stderr",
     "output_type": "stream",
     "text": [
      "C:\\Users\\Alienware\\AppData\\Roaming\\Python\\Python310\\site-packages\\torchvision\\transforms\\functional.py:1603: UserWarning: The default value of the antialias parameter of all the resizing transforms (Resize(), RandomResizedCrop(), etc.) will change from None to True in v0.17, in order to be consistent across the PIL and Tensor backends. To suppress this warning, directly pass antialias=True (recommended, future default), antialias=None (current default, which means False for Tensors and True for PIL), or antialias=False (only works on Tensors - PIL will still use antialiasing). This also applies if you are using the inference transforms from the models weights: update the call to weights.transforms(antialias=True).\n",
      "  warnings.warn(\n"
     ]
    },
    {
     "data": {
      "text/plain": [
       "[tensor([[[[1., 1., 1.,  ..., 1., 1., 1.],\n",
       "           [1., 1., 1.,  ..., 1., 1., 1.],\n",
       "           [1., 1., 1.,  ..., 1., 1., 1.],\n",
       "           ...,\n",
       "           [1., 1., 1.,  ..., 1., 1., 1.],\n",
       "           [1., 1., 1.,  ..., 1., 1., 1.],\n",
       "           [1., 1., 1.,  ..., 1., 1., 1.]]],\n",
       " \n",
       " \n",
       "         [[[1., 1., 1.,  ..., 1., 1., 1.],\n",
       "           [1., 1., 1.,  ..., 1., 1., 1.],\n",
       "           [1., 1., 1.,  ..., 1., 1., 1.],\n",
       "           ...,\n",
       "           [1., 1., 1.,  ..., 1., 1., 1.],\n",
       "           [1., 1., 1.,  ..., 1., 1., 1.],\n",
       "           [1., 1., 1.,  ..., 1., 1., 1.]]],\n",
       " \n",
       " \n",
       "         [[[1., 1., 1.,  ..., 1., 1., 1.],\n",
       "           [1., 1., 1.,  ..., 1., 1., 1.],\n",
       "           [1., 1., 1.,  ..., 1., 1., 1.],\n",
       "           ...,\n",
       "           [1., 1., 1.,  ..., 1., 1., 1.],\n",
       "           [1., 1., 1.,  ..., 1., 1., 1.],\n",
       "           [1., 1., 1.,  ..., 1., 1., 1.]]]]),\n",
       " tensor([[0, 0, 0, 0, 0, 0, 0, 0, 1, 0, 0, 0, 0, 0, 0, 0, 0, 0, 0, 0, 0, 0, 0, 0,\n",
       "          0, 0, 0, 0, 0, 0],\n",
       "         [0, 0, 0, 0, 0, 0, 0, 0, 0, 0, 0, 0, 0, 1, 0, 0, 0, 0, 0, 0, 0, 0, 0, 0,\n",
       "          0, 0, 0, 0, 0, 0],\n",
       "         [0, 0, 0, 0, 0, 0, 0, 0, 0, 0, 0, 0, 0, 0, 0, 0, 0, 0, 0, 0, 0, 0, 1, 0,\n",
       "          0, 0, 0, 0, 0, 0]], dtype=torch.int32),\n",
       " tensor([256, 411, 704])]"
      ]
     },
     "execution_count": 279,
     "metadata": {},
     "output_type": "execute_result"
    }
   ],
   "source": [
    "next(iter(dataloader_train))"
   ]
  },
  {
   "cell_type": "code",
   "execution_count": 280,
   "id": "e8072cef-5601-47e2-b06e-0b0e878946d1",
   "metadata": {},
   "outputs": [
    {
     "data": {
      "text/plain": [
       "torch.Size([3, 1, 64, 64])"
      ]
     },
     "execution_count": 280,
     "metadata": {},
     "output_type": "execute_result"
    }
   ],
   "source": [
    "next(iter(dataloader_train))[0].shape # image"
   ]
  },
  {
   "cell_type": "code",
   "execution_count": 281,
   "id": "e4a4fa4a-0135-4f24-97e2-e656e15e9366",
   "metadata": {},
   "outputs": [
    {
     "data": {
      "text/plain": [
       "torch.Size([3, 30])"
      ]
     },
     "execution_count": 281,
     "metadata": {},
     "output_type": "execute_result"
    }
   ],
   "source": [
    "next(iter(dataloader_train))[1].shape # alphabet"
   ]
  },
  {
   "cell_type": "code",
   "execution_count": 282,
   "id": "98dce247-a48b-4450-8758-53e830d86945",
   "metadata": {},
   "outputs": [
    {
     "data": {
      "text/plain": [
       "torch.Size([3])"
      ]
     },
     "execution_count": 282,
     "metadata": {},
     "output_type": "execute_result"
    }
   ],
   "source": [
    "next(iter(dataloader_train))[2].shape # label"
   ]
  },
  {
   "cell_type": "code",
   "execution_count": 303,
   "id": "5c97dd27-a5c8-4a2f-9e8b-54daf5c9b41e",
   "metadata": {},
   "outputs": [],
   "source": [
    "# Import necessary modules\n",
    "import torch\n",
    "import torch.nn as nn\n",
    "\n",
    "# Define the neural network model\n",
    "class Net_imal(nn.Module):\n",
    "    def __init__(self):\n",
    "        super(Net_imal, self).__init__()\n",
    "        \n",
    "        # Define the image processing sub-network\n",
    "        # This network will process the image input\n",
    "        self.image_layer = nn.Sequential(\n",
    "            # Convolutional layer with 1 input channel, 16 output channels, 3x3 kernel size, and 1 padding\n",
    "            nn.Conv2d(1, 16, kernel_size=3, padding=1),\n",
    "            # Max pooling layer with 2x2 window size\n",
    "            nn.MaxPool2d(kernel_size=2),\n",
    "            # ELU activation function\n",
    "            nn.ELU(),\n",
    "            # Flatten the tensor for the fully connected layer\n",
    "            nn.Flatten(),\n",
    "            # Fully connected layer with input size 16*32*32 and output size 128 ----  If the input to the convolutional layer is an image of size 64x64, after the convolutional layer (with padding=1 and kernel_size=3) and the max pooling layer (with kernel_size=2), the output would be of size 16x32x32\n",
    "            nn.Linear(16*32*32, 128)\n",
    "        )\n",
    "        \n",
    "        # Define the alphabet processing sub-network\n",
    "        # This network will process the alphabet input\n",
    "        self.alphabet_layer = nn.Sequential(\n",
    "            # Fully connected layer with input size 30 and output size 8\n",
    "            nn.Linear(30, 8),\n",
    "            # ELU activation function\n",
    "            nn.ELU(), \n",
    "        )\n",
    "        \n",
    "        # Define the classifier sub-network\n",
    "        # This network will classify the processed inputs\n",
    "        self.classifier = nn.Sequential(\n",
    "            # Fully connected layer with input size 128 + 8 and output size 964 (number of total characters in all alphabets)\n",
    "            nn.Linear(128 + 8, 964), \n",
    "        )\n",
    "        \n",
    "    def forward(self, x_image, x_alphabet):\n",
    "        # Pass the image input through the image processing sub-network\n",
    "        x_image = self.image_layer(x_image)\n",
    "        # Pass the alphabet input through the alphabet processing sub-network\n",
    "        x_alphabet = self.alphabet_layer(x_alphabet)\n",
    "        # Concatenate the processed image and alphabet inputs\n",
    "        x = torch.cat((x_image, x_alphabet), dim=1)\n",
    "        # Pass the concatenated inputs through the classifier sub-network\n",
    "        return self.classifier(x)\n"
   ]
  },
  {
   "cell_type": "code",
   "execution_count": 304,
   "id": "13849cdc-a9b6-4cf8-a193-763726cae41d",
   "metadata": {},
   "outputs": [
    {
     "data": {
      "text/plain": [
       "Net_imal(\n",
       "  (image_layer): Sequential(\n",
       "    (0): Conv2d(1, 16, kernel_size=(3, 3), stride=(1, 1), padding=(1, 1))\n",
       "    (1): MaxPool2d(kernel_size=2, stride=2, padding=0, dilation=1, ceil_mode=False)\n",
       "    (2): ELU(alpha=1.0)\n",
       "    (3): Flatten(start_dim=1, end_dim=-1)\n",
       "    (4): Linear(in_features=16384, out_features=128, bias=True)\n",
       "  )\n",
       "  (alphabet_layer): Sequential(\n",
       "    (0): Linear(in_features=30, out_features=8, bias=True)\n",
       "    (1): ELU(alpha=1.0)\n",
       "  )\n",
       "  (classifier): Sequential(\n",
       "    (0): Linear(in_features=136, out_features=964, bias=True)\n",
       "  )\n",
       ")"
      ]
     },
     "execution_count": 304,
     "metadata": {},
     "output_type": "execute_result"
    }
   ],
   "source": [
    "net_im_al = Net_imal()\n",
    "net_im_al"
   ]
  },
  {
   "cell_type": "code",
   "execution_count": 325,
   "id": "c75bdc8d-3030-44ef-afae-f90b19bce18c",
   "metadata": {},
   "outputs": [],
   "source": [
    "# remove all the .ipynb_checkpoints folders, that cause errors otherwise\n",
    "\n",
    "import os\n",
    "import shutil\n",
    "\n",
    "def remove_ipynb_checkpoints(directory):\n",
    "    for root, dirs, files in os.walk(directory):\n",
    "        if '.ipynb_checkpoints' in dirs:\n",
    "            shutil.rmtree(os.path.join(root, '.ipynb_checkpoints'))\n"
   ]
  },
  {
   "cell_type": "code",
   "execution_count": 326,
   "id": "785fdb43-1f8c-47a7-860c-d0ec3bd5676f",
   "metadata": {},
   "outputs": [],
   "source": [
    "# Call the function with the directory path\n",
    "remove_ipynb_checkpoints(my_path)"
   ]
  },
  {
   "cell_type": "code",
   "execution_count": null,
   "id": "8845336c-f1f0-4b5d-b568-25a55c460e9a",
   "metadata": {},
   "outputs": [],
   "source": [
    "outputs = []\n",
    "for img, alpha, labels in dataloader_train:\n",
    "    # Ensure the tensors are of the same type\n",
    "    img = img.type(torch.FloatTensor)\n",
    "    alpha = alpha.type(torch.FloatTensor)\n",
    "\n",
    "    output = net_im_al(img, alpha)\n",
    "    outputs.append(output)\n"
   ]
  },
  {
   "cell_type": "code",
   "execution_count": 324,
   "id": "67f38e4a-121b-4c26-89f0-6f07487a73fe",
   "metadata": {},
   "outputs": [
    {
     "data": {
      "text/plain": [
       "3297"
      ]
     },
     "execution_count": 324,
     "metadata": {},
     "output_type": "execute_result"
    }
   ],
   "source": [
    "outputs[:10]\n",
    "len(outputs)"
   ]
  },
  {
   "cell_type": "code",
   "execution_count": null,
   "id": "02ff39b3-c625-40e5-b561-6154872a1488",
   "metadata": {},
   "outputs": [],
   "source": []
  },
  {
   "cell_type": "code",
   "execution_count": null,
   "id": "09771f0d-a16b-426d-b4fb-e9eceb853a5c",
   "metadata": {},
   "outputs": [],
   "source": []
  }
 ],
 "metadata": {
  "kernelspec": {
   "display_name": "Py310",
   "language": "python",
   "name": "py310"
  },
  "language_info": {
   "codemirror_mode": {
    "name": "ipython",
    "version": 3
   },
   "file_extension": ".py",
   "mimetype": "text/x-python",
   "name": "python",
   "nbconvert_exporter": "python",
   "pygments_lexer": "ipython3",
   "version": "3.10.11"
  }
 },
 "nbformat": 4,
 "nbformat_minor": 5
}
