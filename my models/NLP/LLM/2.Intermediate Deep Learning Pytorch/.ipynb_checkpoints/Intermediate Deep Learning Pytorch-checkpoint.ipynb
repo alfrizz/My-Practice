{
 "cells": [
  {
   "cell_type": "code",
   "execution_count": 1,
   "id": "5e732e63-c8d2-4005-9be3-4d43bb3387f3",
   "metadata": {},
   "outputs": [],
   "source": [
    "import pandas as pd\n",
    "from torch.utils.data import Dataset\n",
    "\n",
    "class WaterDataset(Dataset):\n",
    "    def __init__(self, csv_path):\n",
    "        super().__init__()\n",
    "        # Load data to pandas DataFrame\n",
    "        df = pd.read_csv(csv_path)\n",
    "        # Convert data to a NumPy array and assign to self.data\n",
    "        self.data = df.to_numpy()\n",
    "        \n",
    "    # Implement __len__ to return the number of data samples\n",
    "    def __len__(self):\n",
    "        return self.data.shape[0]\n",
    "    \n",
    "    def __getitem__(self, idx):\n",
    "        features = self.data[idx, :-1]\n",
    "        # Assign last data column to label\n",
    "        label = self.data[idx, -1]\n",
    "        return features, label"
   ]
  },
  {
   "cell_type": "code",
   "execution_count": 2,
   "id": "182c0a58-3c99-4e03-af21-c23da705c72c",
   "metadata": {},
   "outputs": [
    {
     "data": {
      "text/html": [
       "<div>\n",
       "<style scoped>\n",
       "    .dataframe tbody tr th:only-of-type {\n",
       "        vertical-align: middle;\n",
       "    }\n",
       "\n",
       "    .dataframe tbody tr th {\n",
       "        vertical-align: top;\n",
       "    }\n",
       "\n",
       "    .dataframe thead th {\n",
       "        text-align: right;\n",
       "    }\n",
       "</style>\n",
       "<table border=\"1\" class=\"dataframe\">\n",
       "  <thead>\n",
       "    <tr style=\"text-align: right;\">\n",
       "      <th></th>\n",
       "      <th>ph</th>\n",
       "      <th>Hardness</th>\n",
       "      <th>Solids</th>\n",
       "      <th>Chloramines</th>\n",
       "      <th>Sulfate</th>\n",
       "      <th>Conductivity</th>\n",
       "      <th>Organic_carbon</th>\n",
       "      <th>Trihalomethanes</th>\n",
       "      <th>Turbidity</th>\n",
       "      <th>Potability</th>\n",
       "    </tr>\n",
       "  </thead>\n",
       "  <tbody>\n",
       "    <tr>\n",
       "      <th>0</th>\n",
       "      <td>0.587349</td>\n",
       "      <td>0.577747</td>\n",
       "      <td>0.386298</td>\n",
       "      <td>0.568199</td>\n",
       "      <td>0.647347</td>\n",
       "      <td>0.292985</td>\n",
       "      <td>0.654522</td>\n",
       "      <td>0.795029</td>\n",
       "      <td>0.630115</td>\n",
       "      <td>0</td>\n",
       "    </tr>\n",
       "    <tr>\n",
       "      <th>1</th>\n",
       "      <td>0.643654</td>\n",
       "      <td>0.441300</td>\n",
       "      <td>0.314381</td>\n",
       "      <td>0.439304</td>\n",
       "      <td>0.514545</td>\n",
       "      <td>0.356685</td>\n",
       "      <td>0.377248</td>\n",
       "      <td>0.202914</td>\n",
       "      <td>0.520358</td>\n",
       "      <td>0</td>\n",
       "    </tr>\n",
       "    <tr>\n",
       "      <th>2</th>\n",
       "      <td>0.388934</td>\n",
       "      <td>0.470876</td>\n",
       "      <td>0.506122</td>\n",
       "      <td>0.524364</td>\n",
       "      <td>0.561537</td>\n",
       "      <td>0.142913</td>\n",
       "      <td>0.249922</td>\n",
       "      <td>0.401487</td>\n",
       "      <td>0.219973</td>\n",
       "      <td>0</td>\n",
       "    </tr>\n",
       "    <tr>\n",
       "      <th>3</th>\n",
       "      <td>0.725820</td>\n",
       "      <td>0.715942</td>\n",
       "      <td>0.506141</td>\n",
       "      <td>0.521683</td>\n",
       "      <td>0.751819</td>\n",
       "      <td>0.148683</td>\n",
       "      <td>0.467200</td>\n",
       "      <td>0.658678</td>\n",
       "      <td>0.242428</td>\n",
       "      <td>0</td>\n",
       "    </tr>\n",
       "    <tr>\n",
       "      <th>4</th>\n",
       "      <td>0.610517</td>\n",
       "      <td>0.532588</td>\n",
       "      <td>0.237701</td>\n",
       "      <td>0.270288</td>\n",
       "      <td>0.495155</td>\n",
       "      <td>0.494792</td>\n",
       "      <td>0.409721</td>\n",
       "      <td>0.469762</td>\n",
       "      <td>0.585049</td>\n",
       "      <td>0</td>\n",
       "    </tr>\n",
       "    <tr>\n",
       "      <th>...</th>\n",
       "      <td>...</td>\n",
       "      <td>...</td>\n",
       "      <td>...</td>\n",
       "      <td>...</td>\n",
       "      <td>...</td>\n",
       "      <td>...</td>\n",
       "      <td>...</td>\n",
       "      <td>...</td>\n",
       "      <td>...</td>\n",
       "      <td>...</td>\n",
       "    </tr>\n",
       "    <tr>\n",
       "      <th>2006</th>\n",
       "      <td>0.636224</td>\n",
       "      <td>0.580511</td>\n",
       "      <td>0.277748</td>\n",
       "      <td>0.418063</td>\n",
       "      <td>0.522486</td>\n",
       "      <td>0.342184</td>\n",
       "      <td>0.310364</td>\n",
       "      <td>0.402799</td>\n",
       "      <td>0.627156</td>\n",
       "      <td>1</td>\n",
       "    </tr>\n",
       "    <tr>\n",
       "      <th>2007</th>\n",
       "      <td>0.470143</td>\n",
       "      <td>0.548826</td>\n",
       "      <td>0.301347</td>\n",
       "      <td>0.538273</td>\n",
       "      <td>0.498565</td>\n",
       "      <td>0.231359</td>\n",
       "      <td>0.565061</td>\n",
       "      <td>0.175889</td>\n",
       "      <td>0.395061</td>\n",
       "      <td>1</td>\n",
       "    </tr>\n",
       "    <tr>\n",
       "      <th>2008</th>\n",
       "      <td>0.817826</td>\n",
       "      <td>0.087434</td>\n",
       "      <td>0.656389</td>\n",
       "      <td>0.670774</td>\n",
       "      <td>0.369089</td>\n",
       "      <td>0.431872</td>\n",
       "      <td>0.563265</td>\n",
       "      <td>0.285745</td>\n",
       "      <td>0.578674</td>\n",
       "      <td>1</td>\n",
       "    </tr>\n",
       "    <tr>\n",
       "      <th>2009</th>\n",
       "      <td>0.424187</td>\n",
       "      <td>0.464092</td>\n",
       "      <td>0.459656</td>\n",
       "      <td>0.541633</td>\n",
       "      <td>0.615572</td>\n",
       "      <td>0.388360</td>\n",
       "      <td>0.397780</td>\n",
       "      <td>0.449156</td>\n",
       "      <td>0.440004</td>\n",
       "      <td>1</td>\n",
       "    </tr>\n",
       "    <tr>\n",
       "      <th>2010</th>\n",
       "      <td>0.322425</td>\n",
       "      <td>0.492891</td>\n",
       "      <td>0.841409</td>\n",
       "      <td>0.492136</td>\n",
       "      <td>0.656047</td>\n",
       "      <td>0.588709</td>\n",
       "      <td>0.471422</td>\n",
       "      <td>0.503458</td>\n",
       "      <td>0.591867</td>\n",
       "      <td>1</td>\n",
       "    </tr>\n",
       "  </tbody>\n",
       "</table>\n",
       "<p>2011 rows × 10 columns</p>\n",
       "</div>"
      ],
      "text/plain": [
       "            ph  Hardness    Solids  Chloramines   Sulfate  Conductivity  \\\n",
       "0     0.587349  0.577747  0.386298     0.568199  0.647347      0.292985   \n",
       "1     0.643654  0.441300  0.314381     0.439304  0.514545      0.356685   \n",
       "2     0.388934  0.470876  0.506122     0.524364  0.561537      0.142913   \n",
       "3     0.725820  0.715942  0.506141     0.521683  0.751819      0.148683   \n",
       "4     0.610517  0.532588  0.237701     0.270288  0.495155      0.494792   \n",
       "...        ...       ...       ...          ...       ...           ...   \n",
       "2006  0.636224  0.580511  0.277748     0.418063  0.522486      0.342184   \n",
       "2007  0.470143  0.548826  0.301347     0.538273  0.498565      0.231359   \n",
       "2008  0.817826  0.087434  0.656389     0.670774  0.369089      0.431872   \n",
       "2009  0.424187  0.464092  0.459656     0.541633  0.615572      0.388360   \n",
       "2010  0.322425  0.492891  0.841409     0.492136  0.656047      0.588709   \n",
       "\n",
       "      Organic_carbon  Trihalomethanes  Turbidity  Potability  \n",
       "0           0.654522         0.795029   0.630115           0  \n",
       "1           0.377248         0.202914   0.520358           0  \n",
       "2           0.249922         0.401487   0.219973           0  \n",
       "3           0.467200         0.658678   0.242428           0  \n",
       "4           0.409721         0.469762   0.585049           0  \n",
       "...              ...              ...        ...         ...  \n",
       "2006        0.310364         0.402799   0.627156           1  \n",
       "2007        0.565061         0.175889   0.395061           1  \n",
       "2008        0.563265         0.285745   0.578674           1  \n",
       "2009        0.397780         0.449156   0.440004           1  \n",
       "2010        0.471422         0.503458   0.591867           1  \n",
       "\n",
       "[2011 rows x 10 columns]"
      ]
     },
     "execution_count": 2,
     "metadata": {},
     "output_type": "execute_result"
    }
   ],
   "source": [
    "import pandas as pd\n",
    "from sklearn.model_selection import train_test_split\n",
    "\n",
    "# Load the dataset\n",
    "df = pd.read_csv(r'water_potability.csv')\n",
    "df\n"
   ]
  },
  {
   "cell_type": "code",
   "execution_count": 3,
   "id": "ffe7d459-f108-4fd8-ab14-7c008d5c8e7b",
   "metadata": {},
   "outputs": [],
   "source": [
    "# Split the dataset into training set and test set\n",
    "train_df, test_df = train_test_split(df, test_size=0.2, random_state=42)\n",
    "\n",
    "# Save the training set and test set into csv files\n",
    "train_df.to_csv('water_train.csv', index=False)\n",
    "test_df.to_csv('water_test.csv', index=False)"
   ]
  },
  {
   "cell_type": "code",
   "execution_count": 4,
   "id": "e47e0b20-309f-4933-855b-5b27b887a050",
   "metadata": {},
   "outputs": [
    {
     "data": {
      "text/plain": [
       "<__main__.WaterDataset at 0x2420b359060>"
      ]
     },
     "execution_count": 4,
     "metadata": {},
     "output_type": "execute_result"
    }
   ],
   "source": [
    "# Create an instance of the WaterDataset\n",
    "dataset_train = WaterDataset('water_train.csv')\n",
    "\n",
    "dataset_test = WaterDataset('water_test.csv')\n",
    "\n",
    "dataset_train"
   ]
  },
  {
   "cell_type": "code",
   "execution_count": 5,
   "id": "6303fe33-2242-47df-927d-f067acf47c32",
   "metadata": {},
   "outputs": [
    {
     "data": {
      "text/plain": [
       "<torch.utils.data.dataloader.DataLoader at 0x2420b359e70>"
      ]
     },
     "execution_count": 5,
     "metadata": {},
     "output_type": "execute_result"
    }
   ],
   "source": [
    "from torch.utils.data import DataLoader\n",
    "\n",
    "# Create a DataLoader based on dataset_train\n",
    "# Shuffling the training data is important because it helps to ensure that the model does not learn the order of the data, which can lead to overfitting. By shuffling, you provide the model with a more varied and representative sample of the data in each epoch.\n",
    "dataloader_train = DataLoader(\n",
    "    dataset_train,\n",
    "    batch_size=2,\n",
    "    shuffle=True,\n",
    ")\n",
    "\n",
    "# Create a DataLoader based on dataset_test\n",
    "# For the test data, shuffling is generally not necessary and can be avoided. The test set is used to evaluate the model’s performance, and shuffling does not provide any benefit in this context. It is often better to keep the test data in a fixed order to ensure consistent evaluation.\n",
    "dataloader_test = DataLoader(\n",
    "    dataset_test,\n",
    "    batch_size=2,\n",
    "    shuffle=False,\n",
    ")\n",
    "\n",
    "dataloader_train"
   ]
  },
  {
   "cell_type": "code",
   "execution_count": 6,
   "id": "72b409be-ba98-4907-b00b-550cfc65e5bb",
   "metadata": {},
   "outputs": [
    {
     "name": "stdout",
     "output_type": "stream",
     "text": [
      "tensor([[0.5218, 0.6625, 0.5739, 0.4648, 0.7334, 0.3813, 0.3243, 0.3111, 0.3391],\n",
      "        [0.5984, 0.2418, 0.3689, 0.5633, 0.6136, 0.2881, 0.3444, 0.4846, 0.2829]],\n",
      "       dtype=torch.float64) tensor([0., 1.], dtype=torch.float64)\n"
     ]
    }
   ],
   "source": [
    "# Get a batch of features and labels\n",
    "features, labels = next(iter(dataloader_train))\n",
    "print(features, labels)"
   ]
  },
  {
   "cell_type": "code",
   "execution_count": 7,
   "id": "9e0eb7b8-0076-4aad-9995-746d8151a961",
   "metadata": {},
   "outputs": [],
   "source": [
    "# The benefit of defining a class like Net instead of using nn.Sequential is flexibility. With nn.Sequential, you can only define simple, feed-forward networks where the output from one layer is used as input to the next layer. However, with a custom class, you can define more complex architectures. For example, you can have layers where the output from one layer is used as input to multiple layers, or you can use the output of a layer as input to a previous layer (creating a loop, or recurrent connection).\n",
    "\n",
    "# In your Net class, you could easily add more complex behavior in the forward method, such as conditionally skipping layers, having multiple input or output layers, changing the order of layers dynamically, etc.\n",
    "\n",
    "import torch.nn as nn\n",
    "import torch.nn.functional as F\n",
    "\n",
    "class Net(nn.Module):\n",
    "    # As for super(Net, self).__init__(), it’s calling the initialization method of the parent class, which is nn.Module in this case. This is necessary because nn.Module does some behind-the-scenes work that’s necessary for your Net class to function properly with PyTorch, such as keeping track of its trainable parameters and enabling handy methods like to(device) for moving the model to a GPU or eval() for setting the model to evaluation mode. By calling super(Net, self).__init__(), you ensure that your subclass correctly inherits this functionality from nn.Module.\n",
    "    def __init__(self):\n",
    "        super(Net, self).__init__()\n",
    "        # Define the three linear layers\n",
    "        self.fc1 = nn.Linear(9,16)\n",
    "        self.fc2 = nn.Linear(16,8)\n",
    "        self.fc3 = nn.Linear(8,1)\n",
    "        \n",
    "    def forward(self, x):\n",
    "        # Pass x through linear layers adding activations\n",
    "        x = nn.functional.relu(self.fc1(x))\n",
    "        x = nn.functional.relu(self.fc2(x))\n",
    "        x = nn.functional.sigmoid(self.fc3(x))\n",
    "        return x"
   ]
  },
  {
   "cell_type": "code",
   "execution_count": 8,
   "id": "b049f9ad-f9e7-4f78-bcf9-5688bc68bd7d",
   "metadata": {},
   "outputs": [
    {
     "data": {
      "text/plain": [
       "tensor([0., 1.], dtype=torch.float64)"
      ]
     },
     "execution_count": 8,
     "metadata": {},
     "output_type": "execute_result"
    }
   ],
   "source": [
    "labels"
   ]
  },
  {
   "cell_type": "code",
   "execution_count": 9,
   "id": "e98dbc4c-fae9-402b-9fc8-a909829303df",
   "metadata": {},
   "outputs": [
    {
     "data": {
      "text/plain": [
       "(torch.Size([2]), torch.Size([2, 1]))"
      ]
     },
     "execution_count": 9,
     "metadata": {},
     "output_type": "execute_result"
    }
   ],
   "source": [
    "labels.shape, labels.view(-1, 1).shape"
   ]
  },
  {
   "cell_type": "code",
   "execution_count": 10,
   "id": "5badbdcf-6012-453d-8c8e-89806f34e8d4",
   "metadata": {},
   "outputs": [],
   "source": [
    "# Loss Calculation: The BCELoss (Binary Cross Entropy Loss) function computes the loss between the model’s raw output probabilities (which can be any value between 0 and 1) and the true labels. It doesn’t require the outputs to be converted into discrete predictions (0 or 1) because it operates on the probability scale. It uses the actual probabilities output by the model to calculate how far off the model’s predictions are from the true labels.\n",
    "\n",
    "def train_model(optimizer, net, num_epochs):\n",
    "    criterion = nn.BCELoss()\n",
    "    for epoch in range(num_epochs):\n",
    "        running_loss = 0.\n",
    "        for features, labels in dataloader_train:\n",
    "            # Convert features to float32\n",
    "            features = features.float()\n",
    "            labels = labels.float()\n",
    "            optimizer.zero_grad()\n",
    "            outputs = net(features)\n",
    "            loss = criterion(outputs, labels.view(-1, 1)) # labels.view(-1, 1) reshapes the labels tensor to have as many rows as needed (to fit the total number of elements) and 1 column. This is often done to match the expected input/output shape of certain functions or methods. In this case, it’s used to ensure that the labels tensor has the same shape as the outputs tensor, as required by the BCELoss function.\n",
    "            loss.backward()\n",
    "            optimizer.step()\n",
    "            running_loss += loss.item()\n",
    "    train_loss = running_loss / len(dataloader_train)\n",
    "    print(f\"Training loss after {num_epochs} epochs: {train_loss}\")"
   ]
  },
  {
   "cell_type": "code",
   "execution_count": 11,
   "id": "5013cf8a-9a34-4b30-bcdc-46f44109535b",
   "metadata": {},
   "outputs": [
    {
     "name": "stdout",
     "output_type": "stream",
     "text": [
      "Training loss after 10 epochs: 0.6713392564758139\n"
     ]
    }
   ],
   "source": [
    "import torch.optim as optim\n",
    "\n",
    "net = Net()\n",
    "\n",
    "# Define the Adam optimizer\n",
    "optimizer = optim.Adam(net.parameters(), lr=0.001)\n",
    "\n",
    "train_model(\n",
    "    optimizer=optimizer,\n",
    "    net=net,\n",
    "    num_epochs=10,\n",
    ")"
   ]
  },
  {
   "cell_type": "code",
   "execution_count": 12,
   "id": "20d0f517-0be7-4898-a6e9-af2d0dca7f58",
   "metadata": {},
   "outputs": [
    {
     "name": "stderr",
     "output_type": "stream",
     "text": [
      "C:\\Users\\Alienware\\AppData\\Roaming\\Python\\Python310\\site-packages\\torchvision\\io\\image.py:13: UserWarning: Failed to load image Python extension: '[WinError 127] The specified procedure could not be found'If you don't plan on using image functionality from `torchvision.io`, you can ignore this warning. Otherwise, there might be something wrong with your environment. Did you have `libjpeg` or `libpng` installed before building `torchvision` from source?\n",
      "  warn(\n",
      "C:\\Users\\Alienware\\miniconda3\\envs\\py310\\lib\\site-packages\\tqdm\\auto.py:21: TqdmWarning: IProgress not found. Please update jupyter and ipywidgets. See https://ipywidgets.readthedocs.io/en/stable/user_install.html\n",
      "  from .autonotebook import tqdm as notebook_tqdm\n"
     ]
    },
    {
     "name": "stdout",
     "output_type": "stream",
     "text": [
      "Test accuracy: 0.5732010006904602\n"
     ]
    }
   ],
   "source": [
    "# Accuracy Calculation: Accuracy, on the other hand, is a metric that measures the proportion of correct predictions (both true positives and true negatives) in total predictions made. To calculate accuracy, we need discrete predictions (0 or 1), not probabilities. That’s why the outputs are thresholded at 0.5 to convert them into binary predictions (preds = (outputs >= 0.5).float()). If the output probability is greater than or equal to 0.5, it’s considered a prediction of class 1, otherwise, it’s considered a prediction of class 0.\n",
    "\n",
    "import torch\n",
    "from torchmetrics import Accuracy\n",
    "\n",
    "# Set up binary accuracy metric\n",
    "acc = Accuracy(task='binary')\n",
    "\n",
    "net.eval()\n",
    "with torch.no_grad():\n",
    "    for features, labels in dataloader_test:\n",
    "        # Convert features to float32\n",
    "        features = features.float()\n",
    "        labels = labels.float()\n",
    "        # Get predicted probabilities for test data batch\n",
    "        outputs = net(features)\n",
    "        preds = (outputs >= 0.5).float()\n",
    "        acc(preds, labels.view(-1, 1))\n",
    "\n",
    "# Compute total test accuracy\n",
    "test_accuracy = acc.compute()\n",
    "print(f\"Test accuracy: {test_accuracy}\")"
   ]
  },
  {
   "cell_type": "code",
   "execution_count": 13,
   "id": "bb766c99-7ef0-44e4-8fea-c0e657855566",
   "metadata": {},
   "outputs": [],
   "source": [
    "class Net(nn.Module):\n",
    "    def __init__(self):\n",
    "        super(Net, self).__init__()\n",
    "        self.fc1 = nn.Linear(9, 16)\n",
    "        self.fc2 = nn.Linear(16, 8)\n",
    "        self.fc3 = nn.Linear(8, 1)\n",
    "        \n",
    "        # Apply He initialization\n",
    "        init.kaiming_uniform_(self.fc1.weight)\n",
    "        init.kaiming_uniform_(self.fc2.weight)\n",
    "        init.kaiming_uniform_(self.fc3.weight, nonlinearity=\"sigmoid\")\n",
    "\n",
    "    def forward(self, x):\n",
    "        # Update ReLU activation to ELU\n",
    "        x = nn.functional.elu(self.fc1(x))\n",
    "        x = nn.functional.elu(self.fc2(x))\n",
    "        x = nn.functional.sigmoid(self.fc3(x))\n",
    "        return x"
   ]
  },
  {
   "cell_type": "code",
   "execution_count": 14,
   "id": "b610e62f-327c-4a9e-b229-db4d163e35b7",
   "metadata": {},
   "outputs": [],
   "source": [
    "class Net(nn.Module):\n",
    "    def __init__(self):\n",
    "        super(Net, self).__init__()\n",
    "        self.fc1 = nn.Linear(9, 16)\n",
    "        self.fc2 = nn.Linear(16, 8)\n",
    "        self.fc3 = nn.Linear(8, 1)\n",
    "        # Add two batch normalization layers\n",
    "        self.bn1 = nn.BatchNorm1d(16)\n",
    "        self.bn2 = nn.BatchNorm1d(8)\n",
    "        \n",
    "        init.kaiming_uniform_(self.fc1.weight)\n",
    "        init.kaiming_uniform_(self.fc2.weight)\n",
    "        init.kaiming_uniform_(self.fc3.weight, nonlinearity=\"sigmoid\")\n",
    "    \n",
    "    def forward(self, x):\n",
    "        x = self.fc1(x)\n",
    "        x = self.bn1(x)\n",
    "        x = nn.functional.elu(x)\n",
    "\n",
    "        # Pass x through the second set of layers\n",
    "        x = self.fc2(x)\n",
    "        x = self.bn2(x)\n",
    "        x = nn.functional.elu(x)\n",
    "\n",
    "        x = nn.functional.sigmoid(self.fc3(x))\n",
    "        return x"
   ]
  },
  {
   "cell_type": "code",
   "execution_count": 15,
   "id": "3219ec6b-b1f0-4de2-864c-5c7ec3d28603",
   "metadata": {},
   "outputs": [
    {
     "name": "stdout",
     "output_type": "stream",
     "text": [
      "Training loss after 10 epochs: 0.6646026831435327\n"
     ]
    }
   ],
   "source": [
    "train_model(\n",
    "    optimizer=optimizer,\n",
    "    net=net,\n",
    "    num_epochs=10,\n",
    ")"
   ]
  },
  {
   "cell_type": "code",
   "execution_count": 16,
   "id": "592a3b85-7ca7-46dc-b5fb-193152cc844a",
   "metadata": {},
   "outputs": [
    {
     "name": "stdout",
     "output_type": "stream",
     "text": [
      "Test accuracy: 0.5756824016571045\n"
     ]
    }
   ],
   "source": [
    "net.eval()\n",
    "with torch.no_grad():\n",
    "    for features, labels in dataloader_test:\n",
    "        # Convert features to float32\n",
    "        features = features.float()\n",
    "        labels = labels.float()\n",
    "        # Get predicted probabilities for test data batch\n",
    "        outputs = net(features)\n",
    "        preds = (outputs >= 0.5).float()\n",
    "        acc(preds, labels.view(-1, 1))\n",
    "\n",
    "# Compute total test accuracy\n",
    "test_accuracy = acc.compute()\n",
    "print(f\"Test accuracy: {test_accuracy}\")"
   ]
  },
  {
   "cell_type": "code",
   "execution_count": 17,
   "id": "e66f8259-b4a6-4442-ba1b-b4dfdcba8010",
   "metadata": {},
   "outputs": [
    {
     "data": {
      "text/plain": [
       "Compose(\n",
       "    ToTensor()\n",
       "    Resize(size=(128, 128), interpolation=bilinear, max_size=None, antialias=warn)\n",
       ")"
      ]
     },
     "execution_count": 17,
     "metadata": {},
     "output_type": "execute_result"
    }
   ],
   "source": [
    "from torchvision.datasets import ImageFolder\n",
    "from torchvision import transforms\n",
    "\n",
    "# Compose transformations\n",
    "train_transforms = transforms.Compose([\n",
    "    transforms.ToTensor(),\n",
    "    transforms.Resize((128, 128)),\n",
    "])\n",
    "\n",
    "train_transforms"
   ]
  },
  {
   "cell_type": "code",
   "execution_count": 18,
   "id": "1b6b112d-b9bc-4800-a1be-a0b62fb7b754",
   "metadata": {},
   "outputs": [
    {
     "data": {
      "text/plain": [
       "Dataset ImageFolder\n",
       "    Number of datapoints: 474\n",
       "    Root location: clouds_train\n",
       "    StandardTransform\n",
       "Transform: Compose(\n",
       "               ToTensor()\n",
       "               Resize(size=(128, 128), interpolation=bilinear, max_size=None, antialias=warn)\n",
       "           )"
      ]
     },
     "execution_count": 18,
     "metadata": {},
     "output_type": "execute_result"
    }
   ],
   "source": [
    "# Create Dataset using ImageFolder\n",
    "dataset_train = ImageFolder(\n",
    "    \"clouds_train\",\n",
    "    transform=train_transforms,\n",
    ")\n",
    "\n",
    "dataset_train"
   ]
  },
  {
   "cell_type": "code",
   "execution_count": 19,
   "id": "da20da83-c5d1-494f-af57-051db7bef265",
   "metadata": {},
   "outputs": [
    {
     "data": {
      "text/plain": [
       "Compose(\n",
       "    RandomHorizontalFlip(p=0.5)\n",
       "    RandomRotation(degrees=[-45.0, 45.0], interpolation=nearest, expand=False, fill=0)\n",
       "    ToTensor()\n",
       "    Resize(size=(128, 128), interpolation=bilinear, max_size=None, antialias=warn)\n",
       ")"
      ]
     },
     "execution_count": 19,
     "metadata": {},
     "output_type": "execute_result"
    }
   ],
   "source": [
    "train_transforms = transforms.Compose([\n",
    "    # Add horizontal flip and rotation\n",
    "    transforms.RandomHorizontalFlip(),\n",
    "    transforms.RandomRotation(45),\n",
    "    transforms.ToTensor(),\n",
    "    transforms.Resize((128, 128)),\n",
    "])\n",
    "train_transforms"
   ]
  },
  {
   "cell_type": "code",
   "execution_count": 20,
   "id": "40c759d0-1d97-470b-b996-8a154d723fec",
   "metadata": {},
   "outputs": [
    {
     "data": {
      "text/plain": [
       "Dataset ImageFolder\n",
       "    Number of datapoints: 474\n",
       "    Root location: clouds_train\n",
       "    StandardTransform\n",
       "Transform: Compose(\n",
       "               RandomHorizontalFlip(p=0.5)\n",
       "               RandomRotation(degrees=[-45.0, 45.0], interpolation=nearest, expand=False, fill=0)\n",
       "               ToTensor()\n",
       "               Resize(size=(128, 128), interpolation=bilinear, max_size=None, antialias=warn)\n",
       "           )"
      ]
     },
     "execution_count": 20,
     "metadata": {},
     "output_type": "execute_result"
    }
   ],
   "source": [
    "dataset_train = ImageFolder(\n",
    "  \"clouds_train\",\n",
    "  transform=train_transforms,\n",
    ")\n",
    "\n",
    "dataset_train"
   ]
  },
  {
   "cell_type": "code",
   "execution_count": 21,
   "id": "6b838f97-110c-4b14-9bd2-eabcce523a44",
   "metadata": {},
   "outputs": [
    {
     "data": {
      "text/plain": [
       "<torch.utils.data.dataloader.DataLoader at 0x24210ee3910>"
      ]
     },
     "execution_count": 21,
     "metadata": {},
     "output_type": "execute_result"
    }
   ],
   "source": [
    "dataloader_train = DataLoader(\n",
    "  dataset_train, shuffle=True, batch_size=1\n",
    ")\n",
    "\n",
    "dataloader_train"
   ]
  },
  {
   "cell_type": "code",
   "execution_count": 22,
   "id": "7e3970c1-9b40-4153-a84b-0fee1931e874",
   "metadata": {},
   "outputs": [
    {
     "name": "stdout",
     "output_type": "stream",
     "text": [
      "torch.Size([1, 3, 128, 128])\n",
      "torch.Size([128, 128, 3])\n"
     ]
    },
    {
     "name": "stderr",
     "output_type": "stream",
     "text": [
      "C:\\Users\\Alienware\\AppData\\Roaming\\Python\\Python310\\site-packages\\torchvision\\transforms\\functional.py:1603: UserWarning: The default value of the antialias parameter of all the resizing transforms (Resize(), RandomResizedCrop(), etc.) will change from None to True in v0.17, in order to be consistent across the PIL and Tensor backends. To suppress this warning, directly pass antialias=True (recommended, future default), antialias=None (current default, which means False for Tensors and True for PIL), or antialias=False (only works on Tensors - PIL will still use antialiasing). This also applies if you are using the inference transforms from the models weights: update the call to weights.transforms(antialias=True).\n",
      "  warnings.warn(\n"
     ]
    }
   ],
   "source": [
    "image, label = next(iter(dataloader_train))\n",
    "# Reshape the image tensor\n",
    "print(image.shape)\n",
    "image = image.squeeze().permute(1, 2, 0)\n",
    "print(image.shape)\n"
   ]
  },
  {
   "cell_type": "code",
   "execution_count": 23,
   "id": "df380e2b-2ef2-438e-9a97-bcb0e4784dcf",
   "metadata": {},
   "outputs": [
    {
     "data": {
      "image/png": "[encoded data removed]",
      "text/plain": [
       "<Figure size 640x480 with 1 Axes>"
      ]
     },
     "metadata": {},
     "output_type": "display_data"
    }
   ],
   "source": [
    "import matplotlib.pyplot as plt\n",
    "\n",
    "# Display the image\n",
    "plt.imshow(image)\n",
    "plt.show()"
   ]
  },
  {
   "cell_type": "code",
   "execution_count": 24,
   "id": "9a461881-f185-49c9-9bdc-28f1fb003833",
   "metadata": {},
   "outputs": [],
   "source": [
    "class Net(nn.Module):\n",
    "    def __init__(self, num_classes):\n",
    "        super().__init__()\n",
    "        # Define feature extractor\n",
    "        self.feature_extractor = nn.Sequential(\n",
    "            nn.Conv2d(3, 32, kernel_size=3, padding=1),\n",
    "            nn.ELU(),\n",
    "            nn.MaxPool2d(kernel_size=2),\n",
    "            nn.Conv2d(32, 64, kernel_size=3, padding=1),\n",
    "            nn.ELU(),\n",
    "            nn.MaxPool2d(kernel_size=2),\n",
    "            nn.Flatten(),\n",
    "        )\n",
    "        # Define classifier\n",
    "        self.classifier = nn.Linear(64*16*16, num_classes)\n",
    "    \n",
    "    def forward(self, x):  \n",
    "        # Pass input through feature extractor and classifier\n",
    "        x = self.feature_extractor(x)\n",
    "        x = self.classifier(x)\n",
    "        return x"
   ]
  },
  {
   "cell_type": "code",
   "execution_count": 25,
   "id": "28873320-cc15-4ac5-b1b9-9c6841f1a467",
   "metadata": {},
   "outputs": [
    {
     "data": {
      "text/plain": [
       "Compose(\n",
       "    RandomHorizontalFlip(p=0.5)\n",
       "    RandomRotation(degrees=[-45.0, 45.0], interpolation=nearest, expand=False, fill=0)\n",
       "    RandomAutocontrast(p=0.5)\n",
       "    ToTensor()\n",
       "    Resize(size=(64, 64), interpolation=bilinear, max_size=None, antialias=warn)\n",
       ")"
      ]
     },
     "execution_count": 25,
     "metadata": {},
     "output_type": "execute_result"
    }
   ],
   "source": [
    "# Define transforms\n",
    "train_transforms = transforms.Compose([\n",
    "    transforms.RandomHorizontalFlip(),\n",
    "    transforms.RandomRotation(45),\n",
    "    transforms.RandomAutocontrast(),\n",
    "    transforms.ToTensor(),\n",
    "    transforms.Resize((64, 64))\n",
    "])\n",
    "\n",
    "train_transforms"
   ]
  },
  {
   "cell_type": "code",
   "execution_count": 26,
   "id": "b8fae61b-69e0-4915-83a7-82d3f6fd99f0",
   "metadata": {},
   "outputs": [
    {
     "data": {
      "text/plain": [
       "Dataset ImageFolder\n",
       "    Number of datapoints: 474\n",
       "    Root location: clouds_train\n",
       "    StandardTransform\n",
       "Transform: Compose(\n",
       "               RandomHorizontalFlip(p=0.5)\n",
       "               RandomRotation(degrees=[-45.0, 45.0], interpolation=nearest, expand=False, fill=0)\n",
       "               RandomAutocontrast(p=0.5)\n",
       "               ToTensor()\n",
       "               Resize(size=(64, 64), interpolation=bilinear, max_size=None, antialias=warn)\n",
       "           )"
      ]
     },
     "execution_count": 26,
     "metadata": {},
     "output_type": "execute_result"
    }
   ],
   "source": [
    "dataset_train = ImageFolder(\n",
    "  \"clouds_train\",\n",
    "  transform=train_transforms,\n",
    ")\n",
    "\n",
    "dataset_train"
   ]
  },
  {
   "cell_type": "code",
   "execution_count": 27,
   "id": "1d96d823-885c-4a47-b6f4-d27b0a1482f3",
   "metadata": {},
   "outputs": [
    {
     "data": {
      "text/plain": [
       "<torch.utils.data.dataloader.DataLoader at 0x242110bff10>"
      ]
     },
     "execution_count": 27,
     "metadata": {},
     "output_type": "execute_result"
    }
   ],
   "source": [
    "dataloader_train = DataLoader(\n",
    "  dataset_train, shuffle=True, batch_size=16\n",
    ")\n",
    "\n",
    "dataloader_train"
   ]
  },
  {
   "cell_type": "code",
   "execution_count": 28,
   "id": "e283cb7b-01fd-461d-949d-17025e6b2fa6",
   "metadata": {},
   "outputs": [
    {
     "name": "stdout",
     "output_type": "stream",
     "text": [
      "Running on device: cpu\n"
     ]
    }
   ],
   "source": [
    "device = torch.device('cuda' if torch.cuda.is_available() else 'cpu')\n",
    "print('Running on device:', device)"
   ]
  },
  {
   "cell_type": "code",
   "execution_count": 29,
   "id": "665a577b-c34d-4aa9-bade-7f0fe7cbb4ec",
   "metadata": {},
   "outputs": [
    {
     "data": {
      "text/plain": [
       "Net(\n",
       "  (feature_extractor): Sequential(\n",
       "    (0): Conv2d(3, 32, kernel_size=(3, 3), stride=(1, 1), padding=(1, 1))\n",
       "    (1): ELU(alpha=1.0)\n",
       "    (2): MaxPool2d(kernel_size=2, stride=2, padding=0, dilation=1, ceil_mode=False)\n",
       "    (3): Conv2d(32, 64, kernel_size=(3, 3), stride=(1, 1), padding=(1, 1))\n",
       "    (4): ELU(alpha=1.0)\n",
       "    (5): MaxPool2d(kernel_size=2, stride=2, padding=0, dilation=1, ceil_mode=False)\n",
       "    (6): Flatten(start_dim=1, end_dim=-1)\n",
       "  )\n",
       "  (classifier): Linear(in_features=16384, out_features=7, bias=True)\n",
       ")"
      ]
     },
     "execution_count": 29,
     "metadata": {},
     "output_type": "execute_result"
    }
   ],
   "source": [
    "# Define the model\n",
    "net = Net(num_classes=7)\n",
    "# Define the loss function\n",
    "criterion = nn.CrossEntropyLoss()\n",
    "# Define the optimizer\n",
    "optimizer = optim.Adam(net.parameters(), lr=0.001)\n",
    "\n",
    "net = net.to(device)\n",
    "net"
   ]
  },
  {
   "cell_type": "code",
   "execution_count": 30,
   "id": "c8db71dc-60b5-45f9-841e-926d6b99c4ec",
   "metadata": {},
   "outputs": [
    {
     "data": {
      "text/plain": [
       "(474, 30, 16, 480)"
      ]
     },
     "execution_count": 30,
     "metadata": {},
     "output_type": "execute_result"
    }
   ],
   "source": [
    "# The discrepancy between len(dataset_train) and len(dataloader_train)*dataloader_train.batch_size arises because the total number of samples (474) is not exactly divisible by the batch size (16). Therefore, the last batch contains fewer than 16 samples. This is why len(dataloader_train)*dataloader_train.batch_size (480) is slightly larger than len(dataset_train) (474). The difference (480 - 474 = 6) is the number of “empty” spots in the last batch.\n",
    "\n",
    "len(dataset_train), len(dataloader_train), dataloader_train.batch_size, len(dataloader_train)*dataloader_train.batch_size"
   ]
  },
  {
   "cell_type": "code",
   "execution_count": 31,
   "id": "cb66fba3-ccf1-441d-98b9-a8af3a4e4269",
   "metadata": {},
   "outputs": [],
   "source": [
    "# last_batch = None\n",
    "# for batch in dataloader_train:\n",
    "#     last_batch = batch\n",
    "\n",
    "# # Visualize the last batch\n",
    "# print(\"Last batch:\")\n",
    "# print(last_batch)"
   ]
  },
  {
   "cell_type": "code",
   "execution_count": 32,
   "id": "36daae77-44b1-42ed-9a97-250100672611",
   "metadata": {},
   "outputs": [
    {
     "name": "stdout",
     "output_type": "stream",
     "text": [
      "Epoch 1, Loss: 1.9727\n",
      "Epoch 2, Loss: 1.5846\n",
      "Epoch 3, Loss: 1.3529\n"
     ]
    }
   ],
   "source": [
    "for epoch in range(3):\n",
    "    running_loss = 0.0\n",
    "    # Iterate over training batches\n",
    "    for images, labels in dataloader_train: # iterate over the number of batches\n",
    "        images = images.to(device)  # Move images to GPU\n",
    "        labels = labels.to(device)  # Move labels to GPU\n",
    "        optimizer.zero_grad()\n",
    "        outputs = net.forward(images) # or net(images)\n",
    "        loss = criterion(outputs, labels)\n",
    "        loss.backward()\n",
    "        optimizer.step()\n",
    "        running_loss += loss.item()\n",
    "    \n",
    "    epoch_loss = running_loss / len(dataloader_train) # divides the epoch loss by the number of batches (average loss per batch per epoch)\n",
    "    print(f\"Epoch {epoch+1}, Loss: {epoch_loss:.4f}\")"
   ]
  },
  {
   "cell_type": "code",
   "execution_count": 33,
   "id": "96d9d8e5-56d5-49cd-bf76-a304a4891332",
   "metadata": {},
   "outputs": [
    {
     "name": "stdout",
     "output_type": "stream",
     "text": [
      "Model is on: cpu\n",
      "Data is on: cpu\n"
     ]
    }
   ],
   "source": [
    "# For your model\n",
    "print('Model is on:', next(net.parameters()).device)\n",
    "\n",
    "# For your data\n",
    "images, labels = images.to(device), labels.to(device)\n",
    "print('Data is on:', images.device)\n"
   ]
  },
  {
   "cell_type": "code",
   "execution_count": 34,
   "id": "6e402b6f-a778-4c27-a77f-a9a777f652bb",
   "metadata": {},
   "outputs": [
    {
     "data": {
      "text/plain": [
       "Compose(\n",
       "    Resize(size=(64, 64), interpolation=bilinear, max_size=None, antialias=warn)\n",
       "    ToTensor()\n",
       ")"
      ]
     },
     "execution_count": 34,
     "metadata": {},
     "output_type": "execute_result"
    }
   ],
   "source": [
    "test_transforms = transforms.Compose([\n",
    "    #\n",
    "    # NO DATA AUGMENTATION AT TEST TIME \n",
    "    transforms.Resize((64, 64)),\n",
    "    transforms.ToTensor()\n",
    "])\n",
    "\n",
    "test_transforms"
   ]
  },
  {
   "cell_type": "code",
   "execution_count": 35,
   "id": "2a7fce05-1da7-46ea-a8cd-29d4bd6a36ad",
   "metadata": {},
   "outputs": [
    {
     "data": {
      "text/plain": [
       "Dataset ImageFolder\n",
       "    Number of datapoints: 486\n",
       "    Root location: clouds_test\n",
       "    StandardTransform\n",
       "Transform: Compose(\n",
       "               Resize(size=(64, 64), interpolation=bilinear, max_size=None, antialias=warn)\n",
       "               ToTensor()\n",
       "           )"
      ]
     },
     "execution_count": 35,
     "metadata": {},
     "output_type": "execute_result"
    }
   ],
   "source": [
    "dataset_test = ImageFolder(\"clouds_test\",   transform=test_transforms,)\n",
    "dataset_test"
   ]
  },
  {
   "cell_type": "code",
   "execution_count": 36,
   "id": "fc86c91d-adac-47de-8c34-51591fe80d0c",
   "metadata": {},
   "outputs": [
    {
     "data": {
      "text/plain": [
       "<torch.utils.data.dataloader.DataLoader at 0x2421103f2e0>"
      ]
     },
     "execution_count": 36,
     "metadata": {},
     "output_type": "execute_result"
    }
   ],
   "source": [
    "dataloader_test = DataLoader(\n",
    "  dataset_test, shuffle=False, batch_size=16\n",
    ")\n",
    "\n",
    "dataloader_test"
   ]
  },
  {
   "cell_type": "code",
   "execution_count": 37,
   "id": "692b6c3a-e6f2-48d6-8c39-762ae8c80d5c",
   "metadata": {},
   "outputs": [
    {
     "data": {
      "text/plain": [
       "(MulticlassPrecision(), MulticlassRecall())"
      ]
     },
     "execution_count": 37,
     "metadata": {},
     "output_type": "execute_result"
    }
   ],
   "source": [
    "from torchmetrics import Precision, Recall\n",
    "\n",
    "# Define metrics\n",
    "# Macro-Averaging: Computes the metric independently for each class and then takes the average\n",
    "metric_precision = Precision(task=\"multiclass\", num_classes=7, average='macro').to(device)\n",
    "metric_recall = Recall(task=\"multiclass\", num_classes=7, average='macro').to(device)\n",
    "\n",
    "metric_precision, metric_recall"
   ]
  },
  {
   "cell_type": "code",
   "execution_count": 38,
   "id": "95ca7522-9ecc-4b54-9525-a7748d590cdb",
   "metadata": {},
   "outputs": [
    {
     "name": "stdout",
     "output_type": "stream",
     "text": [
      "Precision: 0.4560917615890503\n",
      "Recall: 0.4724655747413635\n"
     ]
    }
   ],
   "source": [
    "net.eval()\n",
    "with torch.no_grad(): # doesn't compute gradients at all\n",
    "    for images, labels in dataloader_test:\n",
    "        images = images.to(device)  # Move your inputs to the chosen device\n",
    "        labels = labels.to(device)  # Move your labels to the chosen device\n",
    "        outputs = net(images)\n",
    "        _, preds = torch.max(outputs, 1)\n",
    "        metric_precision(preds, labels)\n",
    "        metric_recall(preds, labels)\n",
    "\n",
    "precision = metric_precision.compute()\n",
    "recall = metric_recall.compute()\n",
    "print(f\"Precision: {precision}\")\n",
    "print(f\"Recall: {recall}\")"
   ]
  },
  {
   "cell_type": "code",
   "execution_count": 39,
   "id": "9ebbd16b-10d3-456c-803b-0bb55b38caa4",
   "metadata": {},
   "outputs": [
    {
     "name": "stdout",
     "output_type": "stream",
     "text": [
      "tensor([[ 0.4161,  1.0124, -2.8504, -0.6890, -0.9558,  1.7521,  0.6637],\n",
      "        [ 0.3019,  0.3727, -2.4635,  0.0087, -0.4197,  0.7939,  0.6597],\n",
      "        [-0.1302, -0.0694, -1.8696,  0.1094, -0.3269,  1.3380,  0.5191],\n",
      "        [ 0.5027,  1.3931, -3.2849, -1.5226, -1.1727,  2.3170,  1.1403],\n",
      "        [ 0.2341,  0.0656, -1.1781,  0.3789, -0.4234,  0.6444,  0.0041],\n",
      "        [ 0.4972,  0.6649, -2.3763, -1.1618, -0.9696,  1.7976,  1.0623]])\n",
      "tensor([5, 5, 5, 5, 5, 5])\n",
      "tensor([6, 6, 6, 6, 6, 6])\n"
     ]
    }
   ],
   "source": [
    "# torch.max (above) Returns: Two tensors:\n",
    "# Values: The maximum values along the specified dimension (not used here, hence the _).\n",
    "# Indices: The indices of the maximum values, which correspond to the predicted class labels.\n",
    "# example with the last outputs and preds retrieved from the code above\n",
    "print(outputs)\n",
    "print(preds)\n",
    "print(labels)"
   ]
  },
  {
   "cell_type": "code",
   "execution_count": 40,
   "id": "e2dabe28-bd5b-44d6-921e-6ccd37c2325d",
   "metadata": {},
   "outputs": [],
   "source": [
    "# Define metrics\n",
    "# When you initialize the precision metric with average=None in torchmetrics, it calculates the precision per class.\n",
    "metric_precision = Precision(task=\"multiclass\", num_classes=7, average=None).to(device)"
   ]
  },
  {
   "cell_type": "code",
   "execution_count": 41,
   "id": "ac504b32-800b-40cc-a2c4-83f78bd529f0",
   "metadata": {},
   "outputs": [
    {
     "data": {
      "text/plain": [
       "tensor([0.1429, 0.3299, 0.5714, 0.5378, 0.8333, 0.2773, 0.5000])"
      ]
     },
     "execution_count": 41,
     "metadata": {},
     "output_type": "execute_result"
    }
   ],
   "source": [
    "net.eval()\n",
    "with torch.no_grad():\n",
    "    for images, labels in dataloader_test:\n",
    "        images = images.to(device)  # Move your inputs to the chosen device\n",
    "        labels = labels.to(device)  # Move your labels to the chosen device\n",
    "        outputs = net(images)\n",
    "        _, preds = torch.max(outputs, 1)\n",
    "        metric_precision(preds, labels)\n",
    "        \n",
    "precision = metric_precision.compute()\n",
    "precision # visualize the precision for all 7 classes\n"
   ]
  },
  {
   "cell_type": "code",
   "execution_count": 42,
   "id": "2242477d-2bae-415c-9fd1-d79c85cacffb",
   "metadata": {},
   "outputs": [
    {
     "data": {
      "text/plain": [
       "(tensor(0.1429), 0.1428571492433548)"
      ]
     },
     "execution_count": 42,
     "metadata": {},
     "output_type": "execute_result"
    }
   ],
   "source": [
    "precision[0], precision[0].item()"
   ]
  },
  {
   "cell_type": "code",
   "execution_count": 43,
   "id": "b8b5156e-fd32-4dc6-852a-d3786a0155c7",
   "metadata": {},
   "outputs": [
    {
     "data": {
      "text/plain": [
       "dict_items([('cirriform clouds', 0), ('clear sky', 1), ('cumulonimbus clouds', 2), ('cumulus clouds', 3), ('high cumuliform clouds', 4), ('stratiform clouds', 5), ('stratocumulus clouds', 6)])"
      ]
     },
     "execution_count": 43,
     "metadata": {},
     "output_type": "execute_result"
    }
   ],
   "source": [
    "dataset_test.class_to_idx.items() # used to access the mapping of class names to their corresponding indices in a dataset"
   ]
  },
  {
   "cell_type": "code",
   "execution_count": 44,
   "id": "90accb0f-c583-4b6b-9fa9-198c07288f29",
   "metadata": {},
   "outputs": [
    {
     "name": "stdout",
     "output_type": "stream",
     "text": [
      "{'cirriform clouds': 0.1428571492433548, 'clear sky': 0.3298968970775604, 'cumulonimbus clouds': 0.5714285969734192, 'cumulus clouds': 0.5378151535987854, 'high cumuliform clouds': 0.8333333134651184, 'stratiform clouds': 0.27731093764305115, 'stratocumulus clouds': 0.5}\n"
     ]
    }
   ],
   "source": [
    "# Get precision per class\n",
    "precision_per_class = {\n",
    "    k: precision[v].item()\n",
    "    for k, v \n",
    "    in dataset_test.class_to_idx.items()\n",
    "}\n",
    "\n",
    "print(precision_per_class)"
   ]
  },
  {
   "cell_type": "code",
   "execution_count": 45,
   "id": "ec087a48-9e9d-46a8-a3af-99de04318023",
   "metadata": {},
   "outputs": [],
   "source": [
    "# Sequential Data\n",
    "\n",
    "import numpy as np\n",
    "\n",
    "def create_sequences(df, seq_length):\n",
    "    xs, ys = [], []\n",
    "    # Iterate over data indices\n",
    "    for i in range(len(df) - seq_length):\n",
    "        # Define inputs\n",
    "        x = df.iloc[i:(i+seq_length), 1]\n",
    "        # Define target\n",
    "        y = df.iloc[i+seq_length, 1]\n",
    "        xs.append(x)\n",
    "        ys.append(y)\n",
    "    return np.array(xs), np.array(ys)"
   ]
  },
  {
   "cell_type": "code",
   "execution_count": 46,
   "id": "861afe7c-6405-49ba-9643-4c7f1811d017",
   "metadata": {},
   "outputs": [
    {
     "data": {
      "text/html": [
       "<div>\n",
       "<style scoped>\n",
       "    .dataframe tbody tr th:only-of-type {\n",
       "        vertical-align: middle;\n",
       "    }\n",
       "\n",
       "    .dataframe tbody tr th {\n",
       "        vertical-align: top;\n",
       "    }\n",
       "\n",
       "    .dataframe thead th {\n",
       "        text-align: right;\n",
       "    }\n",
       "</style>\n",
       "<table border=\"1\" class=\"dataframe\">\n",
       "  <thead>\n",
       "    <tr style=\"text-align: right;\">\n",
       "      <th></th>\n",
       "      <th>timestamp</th>\n",
       "      <th>consumption</th>\n",
       "    </tr>\n",
       "  </thead>\n",
       "  <tbody>\n",
       "    <tr>\n",
       "      <th>0</th>\n",
       "      <td>2011-01-01 00:15:00</td>\n",
       "      <td>-0.704319</td>\n",
       "    </tr>\n",
       "    <tr>\n",
       "      <th>1</th>\n",
       "      <td>2011-01-01 00:30:00</td>\n",
       "      <td>-0.704319</td>\n",
       "    </tr>\n",
       "    <tr>\n",
       "      <th>2</th>\n",
       "      <td>2011-01-01 00:45:00</td>\n",
       "      <td>-0.678983</td>\n",
       "    </tr>\n",
       "    <tr>\n",
       "      <th>3</th>\n",
       "      <td>2011-01-01 01:00:00</td>\n",
       "      <td>-0.653647</td>\n",
       "    </tr>\n",
       "    <tr>\n",
       "      <th>4</th>\n",
       "      <td>2011-01-01 01:15:00</td>\n",
       "      <td>-0.704319</td>\n",
       "    </tr>\n",
       "    <tr>\n",
       "      <th>...</th>\n",
       "      <td>...</td>\n",
       "      <td>...</td>\n",
       "    </tr>\n",
       "    <tr>\n",
       "      <th>105210</th>\n",
       "      <td>2013-12-31 22:45:00</td>\n",
       "      <td>-0.932595</td>\n",
       "    </tr>\n",
       "    <tr>\n",
       "      <th>105211</th>\n",
       "      <td>2013-12-31 23:00:00</td>\n",
       "      <td>-0.907259</td>\n",
       "    </tr>\n",
       "    <tr>\n",
       "      <th>105212</th>\n",
       "      <td>2013-12-31 23:15:00</td>\n",
       "      <td>-0.932595</td>\n",
       "    </tr>\n",
       "    <tr>\n",
       "      <th>105213</th>\n",
       "      <td>2013-12-31 23:30:00</td>\n",
       "      <td>-0.932595</td>\n",
       "    </tr>\n",
       "    <tr>\n",
       "      <th>105214</th>\n",
       "      <td>2013-12-31 23:45:00</td>\n",
       "      <td>-0.932595</td>\n",
       "    </tr>\n",
       "  </tbody>\n",
       "</table>\n",
       "<p>105215 rows × 2 columns</p>\n",
       "</div>"
      ],
      "text/plain": [
       "                  timestamp  consumption\n",
       "0       2011-01-01 00:15:00    -0.704319\n",
       "1       2011-01-01 00:30:00    -0.704319\n",
       "2       2011-01-01 00:45:00    -0.678983\n",
       "3       2011-01-01 01:00:00    -0.653647\n",
       "4       2011-01-01 01:15:00    -0.704319\n",
       "...                     ...          ...\n",
       "105210  2013-12-31 22:45:00    -0.932595\n",
       "105211  2013-12-31 23:00:00    -0.907259\n",
       "105212  2013-12-31 23:15:00    -0.932595\n",
       "105213  2013-12-31 23:30:00    -0.932595\n",
       "105214  2013-12-31 23:45:00    -0.932595\n",
       "\n",
       "[105215 rows x 2 columns]"
      ]
     },
     "execution_count": 46,
     "metadata": {},
     "output_type": "execute_result"
    }
   ],
   "source": [
    "train_data = pd.read_csv('electricity_consump/electricity_train.csv')\n",
    "\n",
    "train_data\n"
   ]
  },
  {
   "cell_type": "code",
   "execution_count": 47,
   "id": "5ab7255e-f685-4c93-b559-2697bb8ea93f",
   "metadata": {},
   "outputs": [
    {
     "data": {
      "text/html": [
       "<div>\n",
       "<style scoped>\n",
       "    .dataframe tbody tr th:only-of-type {\n",
       "        vertical-align: middle;\n",
       "    }\n",
       "\n",
       "    .dataframe tbody tr th {\n",
       "        vertical-align: top;\n",
       "    }\n",
       "\n",
       "    .dataframe thead th {\n",
       "        text-align: right;\n",
       "    }\n",
       "</style>\n",
       "<table border=\"1\" class=\"dataframe\">\n",
       "  <thead>\n",
       "    <tr style=\"text-align: right;\">\n",
       "      <th></th>\n",
       "      <th>timestamp</th>\n",
       "      <th>consumption</th>\n",
       "    </tr>\n",
       "  </thead>\n",
       "  <tbody>\n",
       "    <tr>\n",
       "      <th>0</th>\n",
       "      <td>2014-01-01 00:00:00</td>\n",
       "      <td>-0.932595</td>\n",
       "    </tr>\n",
       "    <tr>\n",
       "      <th>1</th>\n",
       "      <td>2014-01-01 00:15:00</td>\n",
       "      <td>-0.957931</td>\n",
       "    </tr>\n",
       "    <tr>\n",
       "      <th>2</th>\n",
       "      <td>2014-01-01 00:30:00</td>\n",
       "      <td>-0.932595</td>\n",
       "    </tr>\n",
       "    <tr>\n",
       "      <th>3</th>\n",
       "      <td>2014-01-01 00:45:00</td>\n",
       "      <td>-0.907259</td>\n",
       "    </tr>\n",
       "    <tr>\n",
       "      <th>4</th>\n",
       "      <td>2014-01-01 01:00:00</td>\n",
       "      <td>-0.881923</td>\n",
       "    </tr>\n",
       "    <tr>\n",
       "      <th>...</th>\n",
       "      <td>...</td>\n",
       "      <td>...</td>\n",
       "    </tr>\n",
       "    <tr>\n",
       "      <th>35035</th>\n",
       "      <td>2014-12-31 22:45:00</td>\n",
       "      <td>-0.070415</td>\n",
       "    </tr>\n",
       "    <tr>\n",
       "      <th>35036</th>\n",
       "      <td>2014-12-31 23:00:00</td>\n",
       "      <td>-0.045079</td>\n",
       "    </tr>\n",
       "    <tr>\n",
       "      <th>35037</th>\n",
       "      <td>2014-12-31 23:15:00</td>\n",
       "      <td>-0.045079</td>\n",
       "    </tr>\n",
       "    <tr>\n",
       "      <th>35038</th>\n",
       "      <td>2014-12-31 23:30:00</td>\n",
       "      <td>-0.045079</td>\n",
       "    </tr>\n",
       "    <tr>\n",
       "      <th>35039</th>\n",
       "      <td>2014-12-31 23:45:00</td>\n",
       "      <td>-0.095751</td>\n",
       "    </tr>\n",
       "  </tbody>\n",
       "</table>\n",
       "<p>35040 rows × 2 columns</p>\n",
       "</div>"
      ],
      "text/plain": [
       "                 timestamp  consumption\n",
       "0      2014-01-01 00:00:00    -0.932595\n",
       "1      2014-01-01 00:15:00    -0.957931\n",
       "2      2014-01-01 00:30:00    -0.932595\n",
       "3      2014-01-01 00:45:00    -0.907259\n",
       "4      2014-01-01 01:00:00    -0.881923\n",
       "...                    ...          ...\n",
       "35035  2014-12-31 22:45:00    -0.070415\n",
       "35036  2014-12-31 23:00:00    -0.045079\n",
       "35037  2014-12-31 23:15:00    -0.045079\n",
       "35038  2014-12-31 23:30:00    -0.045079\n",
       "35039  2014-12-31 23:45:00    -0.095751\n",
       "\n",
       "[35040 rows x 2 columns]"
      ]
     },
     "execution_count": 47,
     "metadata": {},
     "output_type": "execute_result"
    }
   ],
   "source": [
    "test_data = pd.read_csv('electricity_consump/electricity_test.csv')\n",
    "\n",
    "test_data"
   ]
  },
  {
   "cell_type": "code",
   "execution_count": 48,
   "id": "1dc25a33-6d07-40ca-9daf-01b218e3a08e",
   "metadata": {},
   "outputs": [
    {
     "name": "stdout",
     "output_type": "stream",
     "text": [
      "(105119, 96) (105119,)\n"
     ]
    }
   ],
   "source": [
    "import torch\n",
    "from torch.utils.data import TensorDataset\n",
    "\n",
    "# Use create_sequences to create train inputs and targets\n",
    "X_train, y_train = create_sequences(train_data, 24*4) # a record every 15 minutes\n",
    "print(X_train.shape, y_train.shape)\n",
    "\n"
   ]
  },
  {
   "cell_type": "code",
   "execution_count": 49,
   "id": "e862f630-4ff4-4a78-96aa-fade0a72d756",
   "metadata": {},
   "outputs": [
    {
     "name": "stdout",
     "output_type": "stream",
     "text": [
      "(34944, 96) (34944,)\n"
     ]
    }
   ],
   "source": [
    "# Use create_sequences to create test inputs and targets\n",
    "X_test, y_test = create_sequences(test_data, 24*4) # a record every 15 minutes\n",
    "print(X_test.shape, y_test.shape)"
   ]
  },
  {
   "cell_type": "code",
   "execution_count": 50,
   "id": "b71b364e-ad57-41a3-a34a-1e0220b9fc45",
   "metadata": {},
   "outputs": [
    {
     "name": "stdout",
     "output_type": "stream",
     "text": [
      "105119\n"
     ]
    },
    {
     "data": {
      "text/plain": [
       "(array([[-0.70431852, -0.70431852, -0.67898263, ..., -0.65364675,\n",
       "         -0.72990776, -0.70431852],\n",
       "        [-0.70431852, -0.67898263, -0.65364675, ..., -0.72990776,\n",
       "         -0.70431852, -0.70431852],\n",
       "        [-0.67898263, -0.65364675, -0.70431852, ..., -0.70431852,\n",
       "         -0.70431852, -0.70431852],\n",
       "        ...,\n",
       "        [ 0.79759271,  0.82292859,  0.84826447, ..., -0.93259484,\n",
       "         -0.93259484, -0.90725895],\n",
       "        [ 0.82292859,  0.84826447,  0.77200346, ..., -0.93259484,\n",
       "         -0.90725895, -0.93259484],\n",
       "        [ 0.84826447,  0.77200346,  0.72133169, ..., -0.90725895,\n",
       "         -0.93259484, -0.93259484]]),\n",
       " array([-0.70431852, -0.70431852, -0.65364675, ..., -0.93259484,\n",
       "        -0.93259484, -0.93259484]))"
      ]
     },
     "execution_count": 50,
     "metadata": {},
     "output_type": "execute_result"
    }
   ],
   "source": [
    "# Create TensorDataset train\n",
    "dataset_train = TensorDataset(\n",
    "    torch.from_numpy(X_train).float(),\n",
    "    torch.from_numpy(y_train).float(),\n",
    ")\n",
    "print(len(dataset_train))\n",
    "\n",
    "X_train, y_train"
   ]
  },
  {
   "cell_type": "code",
   "execution_count": 51,
   "id": "f322429c-b316-4639-bb2b-747cdbe8a5a7",
   "metadata": {},
   "outputs": [
    {
     "name": "stdout",
     "output_type": "stream",
     "text": [
      "34944\n"
     ]
    },
    {
     "data": {
      "text/plain": [
       "(array([[-0.93259484, -0.95793072, -0.93259484, ..., -0.93259484,\n",
       "         -0.93259484, -0.93259484],\n",
       "        [-0.95793072, -0.93259484, -0.90725895, ..., -0.93259484,\n",
       "         -0.93259484, -0.93259484],\n",
       "        [-0.93259484, -0.90725895, -0.88192307, ..., -0.93259484,\n",
       "         -0.93259484, -0.93259484],\n",
       "        ...,\n",
       "        [ 0.92452549,  0.95011473,  0.8991896 , ..., -0.07041469,\n",
       "         -0.07041469, -0.04507881],\n",
       "        [ 0.95011473,  0.8991896 ,  0.95011473, ..., -0.07041469,\n",
       "         -0.04507881, -0.04507881],\n",
       "        [ 0.8991896 ,  0.95011473,  0.97545061, ..., -0.04507881,\n",
       "         -0.04507881, -0.04507881]]),\n",
       " array([-0.93259484, -0.93259484, -0.93259484, ..., -0.04507881,\n",
       "        -0.04507881, -0.09575058]))"
      ]
     },
     "execution_count": 51,
     "metadata": {},
     "output_type": "execute_result"
    }
   ],
   "source": [
    "# Create TensorDataset test\n",
    "dataset_test = TensorDataset(\n",
    "    torch.from_numpy(X_test).float(),\n",
    "    torch.from_numpy(y_test).float(),\n",
    ")\n",
    "print(len(dataset_test))\n",
    "\n",
    "X_test, y_test"
   ]
  },
  {
   "cell_type": "code",
   "execution_count": 52,
   "id": "302b2809-51b9-422d-9dfa-d9eee27e1e69",
   "metadata": {},
   "outputs": [
    {
     "data": {
      "text/plain": [
       "<torch.utils.data.dataloader.DataLoader at 0x24217fc16c0>"
      ]
     },
     "execution_count": 52,
     "metadata": {},
     "output_type": "execute_result"
    }
   ],
   "source": [
    "# Create a DataLoader based on dataset_train\n",
    "dataloader_train = DataLoader(\n",
    "    dataset_train,\n",
    "    batch_size=16,\n",
    "    shuffle=True,\n",
    ")\n",
    "\n",
    "dataloader_train"
   ]
  },
  {
   "cell_type": "code",
   "execution_count": 53,
   "id": "2b673c63-3b66-430b-a7d7-a4d6f425881d",
   "metadata": {},
   "outputs": [
    {
     "data": {
      "text/plain": [
       "<torch.utils.data.dataloader.DataLoader at 0x24217fc0ca0>"
      ]
     },
     "execution_count": 53,
     "metadata": {},
     "output_type": "execute_result"
    }
   ],
   "source": [
    "# Create a DataLoader based on dataset_test\n",
    "dataloader_test = DataLoader(\n",
    "    dataset_test,\n",
    "    batch_size=16,\n",
    "    shuffle=False,\n",
    ")\n",
    "\n",
    "dataloader_test"
   ]
  },
  {
   "cell_type": "code",
   "execution_count": 54,
   "id": "39632695-d2f9-410c-b78b-0f1487fda296",
   "metadata": {},
   "outputs": [
    {
     "name": "stdout",
     "output_type": "stream",
     "text": [
      "Sequences shape:  torch.Size([16, 96])\n",
      "Labels shape:  torch.Size([16])\n"
     ]
    }
   ],
   "source": [
    "for seqs1, labels1 in dataloader_test:\n",
    "    print(\"Sequences shape: \", seqs1.shape)\n",
    "    print(\"Labels shape: \", labels1.shape)\n",
    "    break  # remove this line if you want to print shapes for all batches"
   ]
  },
  {
   "cell_type": "code",
   "execution_count": 55,
   "id": "baabdcab-8662-44a9-ae82-994bd8b5f4ee",
   "metadata": {},
   "outputs": [
    {
     "name": "stdout",
     "output_type": "stream",
     "text": [
      "Sequences shape:  torch.Size([16, 96])\n",
      "Labels shape:  torch.Size([16])\n",
      "16 96\n"
     ]
    }
   ],
   "source": [
    "for seqs1, labels1 in dataloader_train:\n",
    "    print(\"Sequences shape: \", seqs1.shape)\n",
    "    print(\"Labels shape: \", labels1.shape)\n",
    "    print(seqs1.size(0), seqs1.size(1))\n",
    "    break  # remove this line if you want to print shapes for all batches"
   ]
  },
  {
   "cell_type": "code",
   "execution_count": 56,
   "id": "f1c9562d-5cb2-4b78-b48a-0926b229560f",
   "metadata": {},
   "outputs": [],
   "source": [
    "# This Net class is a simple implementation of a Recurrent Neural Network (RNN) using PyTorch. It’s designed to take a sequence of numbers as input and return a single output number. The RNN layer processes the sequence, and the final output of this sequence is then passed through a fully connected (Linear) layer to get the final output. The number of features in the hidden state of the RNN is 32, and there are 2 stacked RNNs (i.e., num_layers=2). The batch size is determined by the size of the input x. The initial hidden state is initialized with zeros. The output of the RNN layer is the sequence of hidden states at each time step. The last hidden state of this sequence (i.e., out[:, -1, :]) is passed through the fully connected layer to get the final output. This is a common pattern in sequence-to-one RNNs, where we only care about the output at the final time step. The fully connected layer transforms the RNN output to the desired output size (in this case, 1).\n",
    "\n",
    "\n",
    "# Importing the necessary libraries\n",
    "import torch\n",
    "import torch.nn as nn\n",
    "\n",
    "# Define the class 'Net' which inherits from 'nn.Module'\n",
    "class Net_RNN(nn.Module):\n",
    "    def __init__(self):\n",
    "        # Call the parent constructor. Necessary for PyTorch to detect this class as a custom module.\n",
    "        super().__init__()\n",
    "\n",
    "        # Define a Recurrent Neural Network (RNN) layer\n",
    "        # input_size=1: The number of expected features in the input x\n",
    "        # hidden_size=32: The number of features in the hidden state h\n",
    "        # num_layers=2: Number of recurrent layers (i.e., 2 stacked RNNs)\n",
    "        # batch_first=True: Whether the first dimension of input represents batch size\n",
    "        self.rnn = nn.RNN(\n",
    "            input_size=1, \n",
    "            hidden_size=32,\n",
    "            num_layers=2,\n",
    "            batch_first=True, # In PyTorch, the input to an RNN is a 3D tensor with dimensions defined as follows:\n",
    "                            # If batch_first=True, the dimensions are (batch_size, sequence_length, input_size).\n",
    "                        # If batch_first=False (which is the default), the dimensions are (sequence_length, batch_size, input_size).\n",
    "        )\n",
    "\n",
    "        # Define a fully connected layer (Linear layer)\n",
    "        # It will connect the RNN layer to the output layer\n",
    "        # 32: The size of each input sample (i.e., the hidden size of the RNN)\n",
    "        # 1: The size of each output sample\n",
    "        self.fc = nn.Linear(32, 1)\n",
    "\n",
    "    def forward(self, x):\n",
    "        # Forward propagation function\n",
    "\n",
    "        # Initialize the first hidden state with zeros\n",
    "        # 2: The number of layers in the RNN\n",
    "        # x.size(0): The batch size (i.e., the number of samples per batch)\n",
    "        # 32: The hidden size of the RNN\n",
    "        h0 = torch.zeros(2, x.size(0), 32) # x.size(0) returns the size of the first dimension of x, which is the batch size (i.e., the number of sequences in the batch). \n",
    "\n",
    "        # Pass the input 'x' and initial hidden states 'h0' through the RNN layer\n",
    "        # The RNN layer returns the output and the last hidden state\n",
    "        # We don't need the last hidden state, so we ignore it with '_'\n",
    "        out, _ = self.rnn(x, h0)\n",
    "\n",
    "        # Pass the output of the RNN layer through the fully connected (Linear) layer\n",
    "        # We only want the last time step, so we use 'out[:, -1, :]'\n",
    "        out = self.fc(out[:, -1, :])\n",
    "\n",
    "        # Return the final output\n",
    "        return out\n"
   ]
  },
  {
   "cell_type": "code",
   "execution_count": 57,
   "id": "535e71ca-02ef-45ae-a574-8f3e129895e8",
   "metadata": {},
   "outputs": [
    {
     "data": {
      "text/plain": [
       "Net_RNN(\n",
       "  (rnn): RNN(1, 32, num_layers=2, batch_first=True)\n",
       "  (fc): Linear(in_features=32, out_features=1, bias=True)\n",
       ")"
      ]
     },
     "execution_count": 57,
     "metadata": {},
     "output_type": "execute_result"
    }
   ],
   "source": [
    "# Create an instance of your class\n",
    "net = Net_RNN()\n",
    "\n",
    "net"
   ]
  },
  {
   "cell_type": "code",
   "execution_count": 58,
   "id": "7fc319d6-c690-4825-8168-5ed28338a721",
   "metadata": {},
   "outputs": [
    {
     "data": {
      "text/plain": [
       "tensor([[[-0.4678],\n",
       "         [-0.9641],\n",
       "         [-0.5087],\n",
       "         [-1.1072],\n",
       "         [-0.2058]],\n",
       "\n",
       "        [[ 1.2287],\n",
       "         [ 0.6235],\n",
       "         [ 1.1977],\n",
       "         [-0.4022],\n",
       "         [ 1.0314]],\n",
       "\n",
       "        [[-0.2731],\n",
       "         [ 1.0176],\n",
       "         [-0.1079],\n",
       "         [-0.9429],\n",
       "         [-1.6757]],\n",
       "\n",
       "        [[-1.3871],\n",
       "         [-0.2041],\n",
       "         [ 0.3361],\n",
       "         [-1.7139],\n",
       "         [ 1.0958]],\n",
       "\n",
       "        [[ 0.6988],\n",
       "         [ 0.1840],\n",
       "         [-0.2139],\n",
       "         [-1.7711],\n",
       "         [-0.9848]],\n",
       "\n",
       "        [[-1.0870],\n",
       "         [-0.8225],\n",
       "         [ 1.7676],\n",
       "         [-0.9892],\n",
       "         [-1.6532]],\n",
       "\n",
       "        [[ 0.7608],\n",
       "         [ 0.2252],\n",
       "         [ 1.2579],\n",
       "         [ 2.1632],\n",
       "         [-0.7416]],\n",
       "\n",
       "        [[ 0.7417],\n",
       "         [-0.0930],\n",
       "         [ 0.7516],\n",
       "         [-1.3077],\n",
       "         [ 1.3170]],\n",
       "\n",
       "        [[-0.3934],\n",
       "         [ 0.9828],\n",
       "         [ 3.4031],\n",
       "         [-0.5741],\n",
       "         [-2.4618]],\n",
       "\n",
       "        [[-0.1632],\n",
       "         [-0.1909],\n",
       "         [ 1.2150],\n",
       "         [ 2.3923],\n",
       "         [-0.4713]]])"
      ]
     },
     "execution_count": 58,
     "metadata": {},
     "output_type": "execute_result"
    }
   ],
   "source": [
    "# Create some random input data\n",
    "x = torch.randn(10, 5, 1)  # batch_size=10, sequence_length=5, input_size=1\n",
    "\n",
    "x"
   ]
  },
  {
   "cell_type": "code",
   "execution_count": 59,
   "id": "63310744-e036-450d-9af3-5e394908c008",
   "metadata": {},
   "outputs": [
    {
     "data": {
      "text/plain": [
       "tensor([[-0.2247],\n",
       "        [-0.2545],\n",
       "        [-0.2386],\n",
       "        [-0.2062],\n",
       "        [-0.2311],\n",
       "        [-0.1954],\n",
       "        [-0.2852],\n",
       "        [-0.2320],\n",
       "        [-0.2049],\n",
       "        [-0.2750]], grad_fn=<AddmmBackward0>)"
      ]
     },
     "execution_count": 59,
     "metadata": {},
     "output_type": "execute_result"
    }
   ],
   "source": [
    "# Pass the input data through your network\n",
    "output = net(x)\n",
    "\n",
    "output"
   ]
  },
  {
   "cell_type": "code",
   "execution_count": 60,
   "id": "a5abe9cc-cf23-473d-a1a5-611a9454c9e0",
   "metadata": {},
   "outputs": [],
   "source": [
    "#GRU\n",
    "\n",
    "class Net_GRU(nn.Module):\n",
    "    def __init__(self):\n",
    "        super().__init__()\n",
    "        # Define RNN layer\n",
    "        self.gru = nn.GRU(\n",
    "            input_size=1,\n",
    "            hidden_size=32,\n",
    "            num_layers=2,\n",
    "            batch_first=True,\n",
    "        )\n",
    "        self.fc = nn.Linear(32, 1)\n",
    "\n",
    "    def forward(self, x):\n",
    "        h0 = torch.zeros(2, x.size(0), 32)\n",
    "        out, _ = self.gru(x, h0)  \n",
    "        out = self.fc(out[:, -1, :])\n",
    "        return out"
   ]
  },
  {
   "cell_type": "code",
   "execution_count": 61,
   "id": "1011445a-a29d-4569-92b4-eee88f3121d8",
   "metadata": {},
   "outputs": [],
   "source": [
    "#LSTM\n",
    "\n",
    "class Net_LSTM(nn.Module):\n",
    "    def __init__(self, input_size):\n",
    "        super().__init__()\n",
    "        # Define lstm layer\n",
    "        self.lstm = nn.LSTM(\n",
    "            input_size=input_size,\n",
    "            hidden_size=32,\n",
    "            num_layers=2,\n",
    "            batch_first=True,\n",
    "        )\n",
    "        self.fc = nn.Linear(32, 1)\n",
    "\n",
    "    def forward(self, x):\n",
    "        h0 = torch.zeros(2, x.size(0), 32)\n",
    "        # Initialize long-term memory\n",
    "        c0 = torch.zeros(2, x.size(0), 32)\n",
    "        # Pass all inputs to lstm layer\n",
    "        out, _ = self.lstm(x, (h0,c0))\n",
    "        out = self.fc(out[:, -1, :])\n",
    "        return out"
   ]
  },
  {
   "cell_type": "code",
   "execution_count": 62,
   "id": "313863f1-83af-42d9-af45-4127567e078b",
   "metadata": {},
   "outputs": [],
   "source": [
    "net_l = Net_LSTM(input_size=1)\n",
    "# Set up MSE loss\n",
    "criterion = nn.MSELoss()\n",
    "optimizer = optim.Adam(\n",
    "  net.parameters(), lr=0.0001\n",
    ")"
   ]
  },
  {
   "cell_type": "code",
   "execution_count": 63,
   "id": "d93f189a-7940-4191-afe6-9f515f82b6a2",
   "metadata": {},
   "outputs": [
    {
     "name": "stderr",
     "output_type": "stream",
     "text": [
      "C:\\Users\\Alienware\\miniconda3\\envs\\py310\\lib\\site-packages\\torch\\nn\\modules\\loss.py:535: UserWarning: Using a target size (torch.Size([16])) that is different to the input size (torch.Size([16, 1])). This will likely lead to incorrect results due to broadcasting. Please ensure they have the same size.\n",
      "  return F.mse_loss(input, target, reduction=self.reduction)\n"
     ]
    },
    {
     "name": "stdout",
     "output_type": "stream",
     "text": [
      "Epoch 1, Loss: 2.2591896057128906\n"
     ]
    },
    {
     "name": "stderr",
     "output_type": "stream",
     "text": [
      "C:\\Users\\Alienware\\miniconda3\\envs\\py310\\lib\\site-packages\\torch\\nn\\modules\\loss.py:535: UserWarning: Using a target size (torch.Size([15])) that is different to the input size (torch.Size([15, 1])). This will likely lead to incorrect results due to broadcasting. Please ensure they have the same size.\n",
      "  return F.mse_loss(input, target, reduction=self.reduction)\n"
     ]
    }
   ],
   "source": [
    "for epoch in range(1): # few epochs because slow\n",
    "    for seqs, labels in dataloader_train:\n",
    "        # Reshape model inputs\n",
    "        # seqs = seqs.view(16, 96, 1)\n",
    "        seqs = seqs.view(seqs.size(0), seqs.size(1), 1)\n",
    "        # Get model outputs\n",
    "        outputs = net_l(seqs)\n",
    "        # Compute loss\n",
    "        loss = criterion(outputs, labels)\n",
    "        optimizer.zero_grad()\n",
    "        loss.backward()\n",
    "        optimizer.step()\n",
    "    print(f\"Epoch {epoch+1}, Loss: {loss.item()}\")"
   ]
  },
  {
   "cell_type": "code",
   "execution_count": 64,
   "id": "698876d9-1d89-4c08-8c74-56a84a365e28",
   "metadata": {},
   "outputs": [],
   "source": [
    "# net_g = Net_GRU()\n",
    "# # Set up MSE loss\n",
    "# criterion = nn.MSELoss()\n",
    "# optimizer = optim.Adam(\n",
    "#   net.parameters(), lr=0.0001\n",
    "# )"
   ]
  },
  {
   "cell_type": "code",
   "execution_count": 65,
   "id": "4966dc2e-8a52-48ae-9d95-a3f567265823",
   "metadata": {},
   "outputs": [],
   "source": [
    "# for epoch in range(3):\n",
    "#     for seqs, labels in dataloader_train:\n",
    "#         # Reshape model inputs\n",
    "#         # seqs = seqs.view(16, 96, 1)\n",
    "#         seqs = seqs.view(seqs.size(0), seqs.size(1), 1)\n",
    "#         # Get model outputs\n",
    "#         outputs = net_g(seqs)\n",
    "#         # Compute loss\n",
    "#         loss = criterion(outputs, labels)\n",
    "#         optimizer.zero_grad()\n",
    "#         loss.backward()\n",
    "#         optimizer.step()\n",
    "#     print(f\"Epoch {epoch+1}, Loss: {loss.item()}\")"
   ]
  },
  {
   "cell_type": "code",
   "execution_count": 66,
   "id": "adeb0918-4652-47d5-8464-58b1659b1326",
   "metadata": {},
   "outputs": [
    {
     "data": {
      "text/plain": [
       "MeanSquaredError()"
      ]
     },
     "execution_count": 66,
     "metadata": {},
     "output_type": "execute_result"
    }
   ],
   "source": [
    "import torchmetrics\n",
    "\n",
    "# Define MSE metric\n",
    "mse = torchmetrics.MeanSquaredError()\n",
    "\n",
    "mse"
   ]
  },
  {
   "cell_type": "code",
   "execution_count": 67,
   "id": "1c693fc5-5e81-48ff-be4b-d6b17e936652",
   "metadata": {},
   "outputs": [
    {
     "name": "stdout",
     "output_type": "stream",
     "text": [
      "tensor([-0.0616, -0.0610, -0.0605, -0.0599, -0.0592, -0.0584, -0.0575, -0.0546,\n",
      "        -0.0513, -0.0485, -0.0486, -0.0496, -0.0506, -0.0516, -0.0524, -0.0529]) tensor(0.0827)\n"
     ]
    }
   ],
   "source": [
    "net.eval()\n",
    "with torch.no_grad():\n",
    "    for seqs, labels in dataloader_test:\n",
    "        # seqs = seqs.view(16, 96, 1)\n",
    "        seqs = seqs.view(seqs.size(0), seqs.size(1), 1)\n",
    "        # Pass seqs to net and squeeze the result\n",
    "        outputs = net_l(seqs).squeeze()\n",
    "        mse_calc = mse(outputs, labels)\n",
    "        \n",
    "print(outputs, mse_calc)\n"
   ]
  },
  {
   "cell_type": "code",
   "execution_count": 68,
   "id": "e02ba696-9837-4a71-84fa-4ac31b6987fc",
   "metadata": {},
   "outputs": [
    {
     "name": "stdout",
     "output_type": "stream",
     "text": [
      "Test MSE: 0.6752153038978577\n"
     ]
    }
   ],
   "source": [
    "# Compute final metric value\n",
    "test_mse = mse.compute()\n",
    "print(f\"Test MSE: {test_mse}\")"
   ]
  },
  {
   "cell_type": "code",
   "execution_count": 69,
   "id": "c22087fd-f587-4d8b-994e-fed49cc4af58",
   "metadata": {},
   "outputs": [],
   "source": [
    "# Model with 2 inputs"
   ]
  },
  {
   "cell_type": "code",
   "execution_count": 70,
   "id": "31e3b0b0-96b0-41f5-8e35-2039e716c71f",
   "metadata": {},
   "outputs": [
    {
     "name": "stdout",
     "output_type": "stream",
     "text": [
      "Files already downloaded and verified\n"
     ]
    }
   ],
   "source": [
    "import torchvision.datasets as datasets\n",
    "import os\n",
    "\n",
    "my_path= os.getcwd()\n",
    "\n",
    "# Load the Omniglot dataset\n",
    "omniglot_dataset = datasets.Omniglot(\n",
    "    root=my_path, \n",
    "    download=True,\n",
    "    # the transform argument is used to ensure that the images from the Omniglot dataset are in the appropriate format and size for input into a PyTorch model.\n",
    "    transform=transforms.Compose([ \n",
    "        transforms.ToTensor(),\n",
    "        transforms.Resize((64, 64)),\n",
    "    ])\n",
    ")\n"
   ]
  },
  {
   "cell_type": "code",
   "execution_count": 71,
   "id": "79cab6ed-29b7-49e6-85af-4f0b9f361208",
   "metadata": {},
   "outputs": [
    {
     "data": {
      "text/plain": [
       "Dataset Omniglot\n",
       "    Number of datapoints: 19280\n",
       "    Root location: G:\\My Drive\\Ingegneria\\Data Science GD\\My-Practice\\my models\\NLP\\LLM\\2.Intermediate Deep Learning Pytorch\\omniglot-py\n",
       "    StandardTransform\n",
       "Transform: Compose(\n",
       "               ToTensor()\n",
       "               Resize(size=(64, 64), interpolation=bilinear, max_size=None, antialias=warn)\n",
       "           )"
      ]
     },
     "execution_count": 71,
     "metadata": {},
     "output_type": "execute_result"
    }
   ],
   "source": [
    "omniglot_dataset"
   ]
  },
  {
   "cell_type": "code",
   "execution_count": 192,
   "id": "0bb10631-8837-4ec3-b86a-e5d10463cbc1",
   "metadata": {},
   "outputs": [
    {
     "data": {
      "text/plain": [
       "('omniglot-py\\\\images_background\\\\Mkhedruli_(Georgian)\\\\character12\\\\0740_01.png',\n",
       " array([0, 0, 0, 0, 0, 0, 0, 0, 0, 0, 0, 0, 0, 0, 0, 0, 0, 0, 0, 0, 0, 0,\n",
       "        0, 1, 0, 0, 0, 0, 0, 0]),\n",
       " 750)"
      ]
     },
     "execution_count": 192,
     "metadata": {},
     "output_type": "execute_result"
    }
   ],
   "source": [
    "import os\n",
    "import numpy as np\n",
    "from sklearn.preprocessing import LabelBinarizer\n",
    "from sklearn.model_selection import train_test_split\n",
    "\n",
    "# Define the path to your dataset\n",
    "dataset_path = r'omniglot-py\\images_background'\n",
    "\n",
    "# Initialize an empty list to store the tuples\n",
    "data = []\n",
    "\n",
    "# Initialize a LabelBinarizer for one-hot encoding of the alphabets\n",
    "lb = LabelBinarizer()\n",
    "\n",
    "# Get list of all items in the dataset path\n",
    "all_items = os.listdir(dataset_path)\n",
    "\n",
    "# Filter out only directories\n",
    "all_alphabets = [item for item in all_items if os.path.isdir(os.path.join(dataset_path, item))] # Check if it's a directory (to avoid desktop.ini files)\n",
    "\n",
    "lb.fit(all_alphabets)\n",
    "\n",
    "# Initialize a dictionary to store unique labels for each character of every alphabet\n",
    "char_label_dict = {}\n",
    "label_counter = 0\n",
    "\n",
    "# Loop over the directories in the dataset path\n",
    "for alphabet_dir in all_alphabets:  # alphabet folders (folders inside images_background)\n",
    "    if os.path.isdir(os.path.join(dataset_path, alphabet_dir)):  # Check if it's a directory (to avoid desktop.ini files)\n",
    "        alphabet_path = os.path.join(dataset_path, alphabet_dir)\n",
    "    \n",
    "    # Loop over the character directories in each alphabet directory\n",
    "    for character_dir in os.listdir(alphabet_path):\n",
    "        if os.path.isdir(os.path.join(alphabet_path, character_dir)):  # Check if it's a directory (to avoid desktop.ini files)\n",
    "            character_path = os.path.join(alphabet_path, character_dir)\n",
    "    \n",
    "        # Assign a unique label to each character of every alphabet\n",
    "        char_label_key = f\"{alphabet_dir}_{character_dir}\"\n",
    "        if char_label_key not in char_label_dict:\n",
    "            char_label_dict[char_label_key] = label_counter\n",
    "            label_counter += 1\n",
    "        \n",
    "        # Loop over the images in each character directory\n",
    "        for image_file in os.listdir(character_path):\n",
    "            if image_file.endswith('.ini'):\n",
    "                continue # skip desktop.ini files\n",
    "            image_path = os.path.join(character_path, image_file) # path of the image in the character folder in the alphabet folder in the image_background folder\n",
    "            \n",
    "            # Create the alphabet vector\n",
    "            alphabet_vector = lb.transform([alphabet_dir])[0] # OHE indicating the alphabet folder ordinal position in the images_backgroung folder\n",
    "            \n",
    "            # Get the target label\n",
    "            target_label = char_label_dict[char_label_key] # decimal number indicating the character folder ordinal position in the image_background folder (counting all the character folders in all alphabet folders)\n",
    "            \n",
    "            # Append the tuple to the data list\n",
    "            data.append((image_path, alphabet_vector, target_label))\n",
    "\n",
    "data[15000]"
   ]
  },
  {
   "cell_type": "code",
   "execution_count": 154,
   "id": "1cc5df98-af6a-43ed-a6c3-416933e354dd",
   "metadata": {},
   "outputs": [
    {
     "data": {
      "text/plain": [
       "['0964_01.png',\n",
       " '0964_02.png',\n",
       " '0964_03.png',\n",
       " '0964_04.png',\n",
       " '0964_05.png',\n",
       " '0964_06.png',\n",
       " '0964_07.png',\n",
       " '0964_08.png',\n",
       " '0964_09.png',\n",
       " '0964_10.png',\n",
       " '0964_11.png',\n",
       " '0964_12.png',\n",
       " '0964_13.png',\n",
       " '0964_14.png',\n",
       " '0964_15.png',\n",
       " '0964_16.png',\n",
       " '0964_17.png',\n",
       " '0964_18.png',\n",
       " '0964_19.png',\n",
       " '0964_20.png']"
      ]
     },
     "execution_count": 154,
     "metadata": {},
     "output_type": "execute_result"
    }
   ],
   "source": [
    "[image_file for image_file in os.listdir(character_path)]"
   ]
  },
  {
   "cell_type": "code",
   "execution_count": 155,
   "id": "8d7b1572-5385-478e-93be-2dbe5b5e0227",
   "metadata": {},
   "outputs": [
    {
     "data": {
      "text/plain": [
       "('omniglot-py\\\\images_background\\\\Anglo-Saxon_Futhorc\\\\character10\\\\0305_10.png',\n",
       " array([0, 1, 0, 0, 0, 0, 0, 0, 0, 0, 0, 0, 0, 0, 0, 0, 0, 0, 0, 0, 0, 0,\n",
       "        0, 0, 0, 0, 0, 0, 0, 0]),\n",
       " 29)"
      ]
     },
     "execution_count": 155,
     "metadata": {},
     "output_type": "execute_result"
    }
   ],
   "source": [
    "data[589]"
   ]
  },
  {
   "cell_type": "code",
   "execution_count": 156,
   "id": "12cd77a3-3904-406c-9cb1-0c923c59a7e5",
   "metadata": {},
   "outputs": [],
   "source": [
    "from PIL import Image\n",
    "from torch.utils.data import DataLoader, Dataset\n",
    "from torchvision import transforms\n",
    "\n",
    "class OmniglotDataset(Dataset):\n",
    "    def __init__(self, transform, samples):\n",
    "\t\t# Assign transform and samples to class attributes\n",
    "        self.transform = transform\n",
    "        self.samples = samples\n",
    "                    \n",
    "    def __len__(self):\n",
    "\t\t# Return number of samples\n",
    "        return len(self.samples)\n",
    "\n",
    "    def __getitem__(self, idx):\n",
    "      \t# Unpack the sample at index idx\n",
    "        img_path, alphabet, label = self.samples[idx]\n",
    "        img = Image.open(img_path).convert('L') # convert to grayscale\n",
    "        # Transform the image \n",
    "        img_transformed = self.transform(img) # self.transform(img) is transforming the image img according to the transformations defined in self.transform when the OmniglotDataset object is created\n",
    "        return img_transformed, alphabet, label\n"
   ]
  },
  {
   "cell_type": "code",
   "execution_count": 157,
   "id": "ce857707-fd53-45ca-8d83-56de551fb2ec",
   "metadata": {},
   "outputs": [
    {
     "name": "stdout",
     "output_type": "stream",
     "text": [
      "Train Data:\n",
      "('omniglot-py\\\\images_background\\\\Asomtavruli_(Georgian)\\\\character40\\\\0107_16.png', array([0, 0, 0, 0, 1, 0, 0, 0, 0, 0, 0, 0, 0, 0, 0, 0, 0, 0, 0, 0, 0, 0,\n",
      "       0, 0, 0, 0, 0, 0, 0, 0]), 155)\n",
      "('omniglot-py\\\\images_background\\\\Japanese_(hiragana)\\\\character52\\\\0539_17.png', array([0, 0, 0, 0, 0, 0, 0, 0, 0, 0, 0, 0, 0, 0, 0, 0, 0, 0, 1, 0, 0, 0,\n",
      "       0, 0, 0, 0, 0, 0, 0, 0]), 585)\n",
      "('omniglot-py\\\\images_background\\\\Bengali\\\\character28\\\\0159_09.png', array([0, 0, 0, 0, 0, 0, 1, 0, 0, 0, 0, 0, 0, 0, 0, 0, 0, 0, 0, 0, 0, 0,\n",
      "       0, 0, 0, 0, 0, 0, 0, 0]), 207)\n",
      "('omniglot-py\\\\images_background\\\\Asomtavruli_(Georgian)\\\\character29\\\\0096_15.png', array([0, 0, 0, 0, 1, 0, 0, 0, 0, 0, 0, 0, 0, 0, 0, 0, 0, 0, 0, 0, 0, 0,\n",
      "       0, 0, 0, 0, 0, 0, 0, 0]), 144)\n",
      "('omniglot-py\\\\images_background\\\\Asomtavruli_(Georgian)\\\\character33\\\\0100_14.png', array([0, 0, 0, 0, 1, 0, 0, 0, 0, 0, 0, 0, 0, 0, 0, 0, 0, 0, 0, 0, 0, 0,\n",
      "       0, 0, 0, 0, 0, 0, 0, 0]), 148)\n",
      "\n",
      "Test Data:\n",
      "('omniglot-py\\\\images_background\\\\Japanese_(hiragana)\\\\character16\\\\0503_05.png', array([0, 0, 0, 0, 0, 0, 0, 0, 0, 0, 0, 0, 0, 0, 0, 0, 0, 0, 1, 0, 0, 0,\n",
      "       0, 0, 0, 0, 0, 0, 0, 0]), 549)\n",
      "('omniglot-py\\\\images_background\\\\Japanese_(hiragana)\\\\character28\\\\0515_18.png', array([0, 0, 0, 0, 0, 0, 0, 0, 0, 0, 0, 0, 0, 0, 0, 0, 0, 0, 1, 0, 0, 0,\n",
      "       0, 0, 0, 0, 0, 0, 0, 0]), 561)\n",
      "('omniglot-py\\\\images_background\\\\Braille\\\\character03\\\\0194_09.png', array([0, 0, 0, 0, 0, 0, 0, 0, 1, 0, 0, 0, 0, 0, 0, 0, 0, 0, 0, 0, 0, 0,\n",
      "       0, 0, 0, 0, 0, 0, 0, 0]), 242)\n",
      "('omniglot-py\\\\images_background\\\\Japanese_(katakana)\\\\character01\\\\0596_01.png', array([0, 0, 0, 0, 0, 0, 0, 0, 0, 0, 0, 0, 0, 0, 0, 0, 0, 0, 0, 1, 0, 0,\n",
      "       0, 0, 0, 0, 0, 0, 0, 0]), 586)\n",
      "('omniglot-py\\\\images_background\\\\Balinese\\\\character06\\\\0113_03.png', array([0, 0, 0, 0, 0, 1, 0, 0, 0, 0, 0, 0, 0, 0, 0, 0, 0, 0, 0, 0, 0, 0,\n",
      "       0, 0, 0, 0, 0, 0, 0, 0]), 161)\n"
     ]
    }
   ],
   "source": [
    "# # Convert the data list to a numpy array\n",
    "# data = np.array(data)\n",
    "\n",
    "# Split the data into training and testing sets\n",
    "train_data, test_data = train_test_split(data, test_size=0.2, random_state=42)\n",
    "\n",
    "# Print the first few items in the train_data and test_data to check\n",
    "print('Train Data:')\n",
    "for item in train_data[:5]:\n",
    "    print(item)\n",
    "\n",
    "print('\\nTest Data:')\n",
    "for item in test_data[:5]:\n",
    "    print(item)\n"
   ]
  },
  {
   "cell_type": "code",
   "execution_count": 158,
   "id": "4b436b60-13e1-4604-a399-92d8378eb8ee",
   "metadata": {},
   "outputs": [
    {
     "data": {
      "text/plain": [
       "<__main__.OmniglotDataset at 0x2421c532f80>"
      ]
     },
     "execution_count": 158,
     "metadata": {},
     "output_type": "execute_result"
    }
   ],
   "source": [
    "# Create an instance of your custom dataset\n",
    "\n",
    "# You’ve already applied the transformations when you loaded the Omniglot dataset using the datasets.Omniglot function. However, the code you’ve shown in the second part is creating a custom dataset class, OmniglotDataset.\n",
    "# If you’re using the same data (i.e., omniglot_dataset) for both the datasets.Omniglot function and your custom OmniglotDataset class, and you’re applying the same transformations in both places, then you’re effectively transforming the data twice, which is not necessary.\n",
    "\n",
    "dataset_train = OmniglotDataset(transform=transforms.Compose([\n",
    "    transforms.ToTensor(),\n",
    "    transforms.Resize((64, 64)),\n",
    "]), samples=train_data)  \n",
    "\n",
    "dataset_train"
   ]
  },
  {
   "cell_type": "code",
   "execution_count": 159,
   "id": "9929347a-5e36-4b8e-ab0c-662327c5d0ec",
   "metadata": {},
   "outputs": [],
   "source": [
    "dataloader_train = DataLoader(\n",
    "    dataset_train, shuffle=True, batch_size=1,\n",
    ")"
   ]
  },
  {
   "cell_type": "code",
   "execution_count": 160,
   "id": "de46e470-43a5-4033-8e90-79bd7b330b04",
   "metadata": {},
   "outputs": [
    {
     "name": "stderr",
     "output_type": "stream",
     "text": [
      "C:\\Users\\Alienware\\AppData\\Roaming\\Python\\Python310\\site-packages\\torchvision\\transforms\\functional.py:1603: UserWarning: The default value of the antialias parameter of all the resizing transforms (Resize(), RandomResizedCrop(), etc.) will change from None to True in v0.17, in order to be consistent across the PIL and Tensor backends. To suppress this warning, directly pass antialias=True (recommended, future default), antialias=None (current default, which means False for Tensors and True for PIL), or antialias=False (only works on Tensors - PIL will still use antialiasing). This also applies if you are using the inference transforms from the models weights: update the call to weights.transforms(antialias=True).\n",
      "  warnings.warn(\n"
     ]
    },
    {
     "data": {
      "text/plain": [
       "[tensor([[[[1., 1., 1.,  ..., 1., 1., 1.],\n",
       "           [1., 1., 1.,  ..., 1., 1., 1.],\n",
       "           [1., 1., 1.,  ..., 1., 1., 1.],\n",
       "           ...,\n",
       "           [1., 1., 1.,  ..., 1., 1., 1.],\n",
       "           [1., 1., 1.,  ..., 1., 1., 1.],\n",
       "           [1., 1., 1.,  ..., 1., 1., 1.]]]]),\n",
       " tensor([[0, 0, 0, 0, 0, 0, 0, 0, 0, 0, 0, 0, 0, 0, 0, 0, 0, 0, 0, 0, 0, 1, 0, 0,\n",
       "          0, 0, 0, 0, 0, 0]], dtype=torch.int32),\n",
       " tensor([697])]"
      ]
     },
     "execution_count": 160,
     "metadata": {},
     "output_type": "execute_result"
    }
   ],
   "source": [
    "next(iter(dataloader_train))"
   ]
  },
  {
   "cell_type": "code",
   "execution_count": 161,
   "id": "e8072cef-5601-47e2-b06e-0b0e878946d1",
   "metadata": {},
   "outputs": [
    {
     "data": {
      "text/plain": [
       "torch.Size([1, 1, 64, 64])"
      ]
     },
     "execution_count": 161,
     "metadata": {},
     "output_type": "execute_result"
    }
   ],
   "source": [
    "next(iter(dataloader_train))[0].shape # image shape"
   ]
  },
  {
   "cell_type": "code",
   "execution_count": 162,
   "id": "e4a4fa4a-0135-4f24-97e2-e656e15e9366",
   "metadata": {},
   "outputs": [
    {
     "data": {
      "text/plain": [
       "torch.Size([1, 30])"
      ]
     },
     "execution_count": 162,
     "metadata": {},
     "output_type": "execute_result"
    }
   ],
   "source": [
    "next(iter(dataloader_train))[1].shape # total alphabets (30 alphabets folders)"
   ]
  },
  {
   "cell_type": "code",
   "execution_count": 163,
   "id": "98dce247-a48b-4450-8758-53e830d86945",
   "metadata": {},
   "outputs": [
    {
     "data": {
      "text/plain": [
       "torch.Size([1])"
      ]
     },
     "execution_count": 163,
     "metadata": {},
     "output_type": "execute_result"
    }
   ],
   "source": [
    "next(iter(dataloader_train))[2].shape # label"
   ]
  },
  {
   "cell_type": "code",
   "execution_count": 164,
   "id": "ea44e083-9916-4efb-9ceb-0b8241dd5cf2",
   "metadata": {},
   "outputs": [
    {
     "name": "stdout",
     "output_type": "stream",
     "text": [
      "789\n"
     ]
    }
   ],
   "source": [
    "last_index = len(dataset_train) - 1\n",
    "last_batch = dataset_train[last_index]\n",
    "\n",
    "# Wrap it in a batch format if needed\n",
    "last_batch = [last_batch]\n",
    "\n",
    "print(last_batch[0][2]) # 789 labels (should they be 964 ?)"
   ]
  },
  {
   "cell_type": "code",
   "execution_count": 165,
   "id": "5c97dd27-a5c8-4a2f-9e8b-54daf5c9b41e",
   "metadata": {},
   "outputs": [],
   "source": [
    "# Import necessary modules\n",
    "import torch\n",
    "import torch.nn as nn\n",
    "\n",
    "# Define the neural network model\n",
    "class Net_imal(nn.Module):\n",
    "    def __init__(self):\n",
    "        super(Net_imal, self).__init__()\n",
    "        \n",
    "        # Define the image processing sub-network\n",
    "        # This network will process the image input\n",
    "        self.image_layer = nn.Sequential(\n",
    "            # Convolutional layer with 1 input channel, 16 output channels (filters), 3x3 kernel size (filters size), and 1 padding\n",
    "            nn.Conv2d(1, 16, kernel_size=3, padding=1),\n",
    "            # Calculating the resulting feature map size (given a input image 64x64): O = [(I-K+2P)/S]+1 = 64-3+2*1+1 = 64\n",
    "            # Max pooling layer with 2x2 window size\n",
    "            nn.MaxPool2d(kernel_size=2), # Reduces the spatial dimension of the feature maps by half. From 64x64 to 32x32, preserving the depth of 16 channels.\n",
    "            # ELU activation function\n",
    "            nn.ELU(),\n",
    "            # Flatten the tensor for the fully connected layer\n",
    "            nn.Flatten(),\n",
    "            nn.Linear(16*32*32, 128) # 128 is a design choice\n",
    "        )\n",
    "        \n",
    "        # Define the alphabet processing sub-network\n",
    "        # This network will process the alphabet input\n",
    "        self.alphabet_layer = nn.Sequential(\n",
    "            # Fully connected layer with input size 30 and output size 8\n",
    "            nn.Linear(30, 8), # processing a secondary input (the 30 different alphabets), compressing it into a more compact representation (8 is a design choice)\n",
    "            # ELU activation function\n",
    "            nn.ELU(), \n",
    "        )\n",
    "        \n",
    "        # Define the classifier sub-network\n",
    "        # This network will classify the processed inputs\n",
    "        self.classifier = nn.Sequential(\n",
    "            # Fully connected layer with input size 128 + 8 and output size 964 (number of total characters in all alphabets)\n",
    "            nn.Linear(128 + 8, 964), # it's set up to combine and process the features from both your image and alphabet sub-networks. The 128 + 8 input size comes from concatenating the output of the image processing network (128 features) and the alphabet processing network (8 features).\n",
    "        )\n",
    "        \n",
    "    def forward(self, x_image, x_alphabet):\n",
    "        # Pass the image input through the image processing sub-network\n",
    "        x_image = self.image_layer(x_image)\n",
    "        # Pass the alphabet input through the alphabet processing sub-network\n",
    "        x_alphabet = self.alphabet_layer(x_alphabet)\n",
    "        # Concatenate the processed image and alphabet inputs\n",
    "        x = torch.cat((x_image, x_alphabet), dim=1)\n",
    "        # Pass the concatenated inputs through the classifier sub-network\n",
    "        return self.classifier(x)\n"
   ]
  },
  {
   "cell_type": "code",
   "execution_count": 166,
   "id": "13849cdc-a9b6-4cf8-a193-763726cae41d",
   "metadata": {},
   "outputs": [
    {
     "data": {
      "text/plain": [
       "Net_imal(\n",
       "  (image_layer): Sequential(\n",
       "    (0): Conv2d(1, 16, kernel_size=(3, 3), stride=(1, 1), padding=(1, 1))\n",
       "    (1): MaxPool2d(kernel_size=2, stride=2, padding=0, dilation=1, ceil_mode=False)\n",
       "    (2): ELU(alpha=1.0)\n",
       "    (3): Flatten(start_dim=1, end_dim=-1)\n",
       "    (4): Linear(in_features=16384, out_features=128, bias=True)\n",
       "  )\n",
       "  (alphabet_layer): Sequential(\n",
       "    (0): Linear(in_features=30, out_features=8, bias=True)\n",
       "    (1): ELU(alpha=1.0)\n",
       "  )\n",
       "  (classifier): Sequential(\n",
       "    (0): Linear(in_features=136, out_features=964, bias=True)\n",
       "  )\n",
       ")"
      ]
     },
     "execution_count": 166,
     "metadata": {},
     "output_type": "execute_result"
    }
   ],
   "source": [
    "net_im_al = Net_imal()\n",
    "net_im_al"
   ]
  },
  {
   "cell_type": "code",
   "execution_count": 167,
   "id": "c75bdc8d-3030-44ef-afae-f90b19bce18c",
   "metadata": {},
   "outputs": [],
   "source": [
    "# # remove all files which cause errors otherwise\n",
    "\n",
    "# import os\n",
    "# import shutil\n",
    "\n",
    "# def remove_ipynb_checkpoints(directory):\n",
    "#     for root, dirs, files in os.walk(directory):\n",
    "#         if '.ipynb_checkpoints' in dirs:\n",
    "#             shutil.rmtree(os.path.join(root, '.ipynb_checkpoints'))\n",
    "#         for file in files:\n",
    "#             if file == 'desktop.ini':\n",
    "#                 os.remove(os.path.join(root, file))\n",
    "\n",
    "# # Call the function with the directory path\n",
    "# remove_ipynb_checkpoints(my_path)\n",
    "# my_path"
   ]
  },
  {
   "cell_type": "code",
   "execution_count": 169,
   "id": "8845336c-f1f0-4b5d-b568-25a55c460e9a",
   "metadata": {},
   "outputs": [
    {
     "name": "stderr",
     "output_type": "stream",
     "text": [
      "Training Progress: 100%|█████████████████████████████████████████████████████████████████████████████████████████████████████████████| 15424/15424 [03:48<00:00, 67.38it/s]\n"
     ]
    }
   ],
   "source": [
    "from tqdm import tqdm\n",
    "\n",
    "outputs = []\n",
    "for img, alpha, labels in tqdm(dataloader_train, desc=\"Training Progress\"):\n",
    "    # Ensure the tensors are of the same type\n",
    "    img = img.type(torch.FloatTensor)\n",
    "    alpha = alpha.type(torch.FloatTensor)\n",
    "\n",
    "    output = net_im_al(img, alpha)\n",
    "    outputs.append(output)"
   ]
  },
  {
   "cell_type": "code",
   "execution_count": 178,
   "id": "67f38e4a-121b-4c26-89f0-6f07487a73fe",
   "metadata": {},
   "outputs": [
    {
     "name": "stdout",
     "output_type": "stream",
     "text": [
      "15424\n"
     ]
    },
    {
     "data": {
      "text/plain": [
       "tensor([ 0.0683, -0.0540, -0.0947,  0.1913, -0.1449, -0.0353,  0.1017,  0.2641,\n",
       "        -0.2614, -0.0255], grad_fn=<SliceBackward0>)"
      ]
     },
     "execution_count": 178,
     "metadata": {},
     "output_type": "execute_result"
    }
   ],
   "source": [
    "print(len(outputs))\n",
    "outputs[0][0][:10]\n",
    "\n",
    "# with a batch size of 1, each batch contains one image. So, 15,424 batches mean you have 15,424 individual pictures in your dataset. "
   ]
  },
  {
   "cell_type": "code",
   "execution_count": 193,
   "id": "a6f72e6d-706f-414a-8d95-330fd84a7fcc",
   "metadata": {},
   "outputs": [
    {
     "data": {
      "text/plain": [
       "('omniglot-py\\\\images_background\\\\Mkhedruli_(Georgian)\\\\character12\\\\0740_01.png',\n",
       " 23,\n",
       " 750)"
      ]
     },
     "execution_count": 193,
     "metadata": {},
     "output_type": "execute_result"
    }
   ],
   "source": [
    "# in the below alternative version, the alphabet_vector is a digital number between 0 and 29, and not a OHE vector anymore\n",
    "\n",
    "import os\n",
    "import numpy as np\n",
    "from sklearn.model_selection import train_test_split\n",
    "\n",
    "# Define the path to your dataset\n",
    "dataset_path = 'omniglot-py\\\\images_background'\n",
    "\n",
    "# Initialize an empty list to store the tuples\n",
    "data = []\n",
    "\n",
    "# Get list of all alphabet directories\n",
    "all_alphabets = os.listdir(dataset_path)\n",
    "\n",
    "# Initialize a dictionary to store unique labels for each character of every alphabet\n",
    "char_label_dict = {}\n",
    "label_counter = 0\n",
    "\n",
    "# Loop over the directories in the dataset path\n",
    "for alphabet_dir in all_alphabets:\n",
    "    alphabet_path = os.path.join(dataset_path, alphabet_dir)\n",
    "    \n",
    "    # Loop over the character directories in each alphabet directory\n",
    "    for character_dir in os.listdir(alphabet_path):\n",
    "        character_path = os.path.join(alphabet_path, character_dir)\n",
    "        \n",
    "        # Assign a unique label to each character of every alphabet\n",
    "        char_label_key = f\"{alphabet_dir}_{character_dir}\"\n",
    "        if char_label_key not in char_label_dict:\n",
    "            char_label_dict[char_label_key] = label_counter\n",
    "            label_counter += 1\n",
    "        \n",
    "        # Loop over the images in each character directory\n",
    "        for image_file in os.listdir(character_path):\n",
    "            image_path = os.path.join(character_path, image_file)\n",
    "            \n",
    "            # Create the alphabet vector\n",
    "            alphabet_vector = all_alphabets.index(alphabet_dir)\n",
    "            \n",
    "            # Get the target label\n",
    "            target_label = char_label_dict[char_label_key]\n",
    "            \n",
    "            # Append the tuple to the data list\n",
    "            data.append((image_path, alphabet_vector, target_label))\n",
    "\n",
    "data[15000]"
   ]
  },
  {
   "cell_type": "code",
   "execution_count": 194,
   "id": "0801ee38-c14b-4650-a19e-f03e0d17589f",
   "metadata": {},
   "outputs": [
    {
     "name": "stdout",
     "output_type": "stream",
     "text": [
      "Train Data:\n",
      "('omniglot-py\\\\images_background\\\\Asomtavruli_(Georgian)\\\\character40\\\\0107_16.png', 4, 155)\n",
      "('omniglot-py\\\\images_background\\\\Japanese_(hiragana)\\\\character52\\\\0539_17.png', 18, 585)\n",
      "('omniglot-py\\\\images_background\\\\Bengali\\\\character28\\\\0159_09.png', 6, 207)\n",
      "('omniglot-py\\\\images_background\\\\Asomtavruli_(Georgian)\\\\character29\\\\0096_15.png', 4, 144)\n",
      "('omniglot-py\\\\images_background\\\\Asomtavruli_(Georgian)\\\\character33\\\\0100_14.png', 4, 148)\n",
      "\n",
      "Test Data:\n",
      "('omniglot-py\\\\images_background\\\\Japanese_(hiragana)\\\\character16\\\\0503_05.png', 18, 549)\n",
      "('omniglot-py\\\\images_background\\\\Japanese_(hiragana)\\\\character28\\\\0515_18.png', 18, 561)\n",
      "('omniglot-py\\\\images_background\\\\Braille\\\\character03\\\\0194_09.png', 8, 242)\n",
      "('omniglot-py\\\\images_background\\\\Japanese_(katakana)\\\\character01\\\\0596_01.png', 19, 586)\n",
      "('omniglot-py\\\\images_background\\\\Balinese\\\\character06\\\\0113_03.png', 5, 161)\n"
     ]
    }
   ],
   "source": [
    "# # Convert the data list to a numpy array\n",
    "# data = np.array(data)\n",
    "\n",
    "# Split the data into training and testing sets\n",
    "train_data, test_data = train_test_split(data, test_size=0.2, random_state=42)\n",
    "\n",
    "# Print the first few items in the train_data and test_data to check\n",
    "print('Train Data:')\n",
    "for item in train_data[:5]:\n",
    "    print(item)\n",
    "\n",
    "print('\\nTest Data:')\n",
    "for item in test_data[:5]:\n",
    "    print(item)"
   ]
  },
  {
   "cell_type": "code",
   "execution_count": 195,
   "id": "80b3770e-1146-4768-80dc-3c12d71a2f3e",
   "metadata": {},
   "outputs": [
    {
     "data": {
      "text/plain": [
       "<__main__.OmniglotDataset at 0x2421c533f10>"
      ]
     },
     "execution_count": 195,
     "metadata": {},
     "output_type": "execute_result"
    }
   ],
   "source": [
    "# Create dataset_train\n",
    "dataset_train = OmniglotDataset(\n",
    "    transform=transforms.Compose([\n",
    "        transforms.ToTensor(),\n",
    "      \ttransforms.Resize((64, 64)),\n",
    "    ]),\n",
    "    samples=train_data,\n",
    ")\n",
    "\n",
    "dataset_train"
   ]
  },
  {
   "cell_type": "code",
   "execution_count": 196,
   "id": "396d7dbe-9e59-4947-ac8c-71db7c854d0b",
   "metadata": {},
   "outputs": [
    {
     "data": {
      "text/plain": [
       "<__main__.OmniglotDataset at 0x2421c533d90>"
      ]
     },
     "execution_count": 196,
     "metadata": {},
     "output_type": "execute_result"
    }
   ],
   "source": [
    "# Create dataset_test\n",
    "dataset_test = OmniglotDataset(\n",
    "    transform=transforms.Compose([\n",
    "        transforms.ToTensor(),\n",
    "      \ttransforms.Resize((64, 64)),\n",
    "    ]),\n",
    "    samples=test_data,\n",
    ")\n",
    "\n",
    "dataset_test"
   ]
  },
  {
   "cell_type": "code",
   "execution_count": 197,
   "id": "87e47ecf-7ca1-4503-aa58-419e01e09f2f",
   "metadata": {},
   "outputs": [
    {
     "data": {
      "text/plain": [
       "<torch.utils.data.dataloader.DataLoader at 0x2421c531810>"
      ]
     },
     "execution_count": 197,
     "metadata": {},
     "output_type": "execute_result"
    }
   ],
   "source": [
    "# Create dataloader_train\n",
    "dataloader_train = DataLoader(\n",
    "    dataset_train, shuffle=True, batch_size=32,\n",
    ")\n",
    "\n",
    "dataloader_train"
   ]
  },
  {
   "cell_type": "code",
   "execution_count": 198,
   "id": "76ee62fe-198e-4ff6-bc25-73f7fe5f78fa",
   "metadata": {},
   "outputs": [
    {
     "data": {
      "text/plain": [
       "<torch.utils.data.dataloader.DataLoader at 0x2421c532980>"
      ]
     },
     "execution_count": 198,
     "metadata": {},
     "output_type": "execute_result"
    }
   ],
   "source": [
    "# Create dataloader_test\n",
    "dataloader_test = DataLoader(\n",
    "    dataset_test, shuffle=False, batch_size=32,\n",
    ")\n",
    "\n",
    "dataloader_test"
   ]
  },
  {
   "cell_type": "code",
   "execution_count": 199,
   "id": "4d9df772-b532-42ee-b8ef-1e9eefbdee5e",
   "metadata": {},
   "outputs": [
    {
     "name": "stderr",
     "output_type": "stream",
     "text": [
      "C:\\Users\\Alienware\\AppData\\Roaming\\Python\\Python310\\site-packages\\torchvision\\transforms\\functional.py:1603: UserWarning: The default value of the antialias parameter of all the resizing transforms (Resize(), RandomResizedCrop(), etc.) will change from None to True in v0.17, in order to be consistent across the PIL and Tensor backends. To suppress this warning, directly pass antialias=True (recommended, future default), antialias=None (current default, which means False for Tensors and True for PIL), or antialias=False (only works on Tensors - PIL will still use antialiasing). This also applies if you are using the inference transforms from the models weights: update the call to weights.transforms(antialias=True).\n",
      "  warnings.warn(\n"
     ]
    },
    {
     "data": {
      "text/plain": [
       "torch.Size([32, 1, 64, 64])"
      ]
     },
     "execution_count": 199,
     "metadata": {},
     "output_type": "execute_result"
    }
   ],
   "source": [
    "next(iter(dataloader_train))[0].shape # image\n"
   ]
  },
  {
   "cell_type": "code",
   "execution_count": 200,
   "id": "e20836b3-5b3c-4ac1-a62d-069437943ac6",
   "metadata": {},
   "outputs": [
    {
     "data": {
      "text/plain": [
       "torch.Size([32])"
      ]
     },
     "execution_count": 200,
     "metadata": {},
     "output_type": "execute_result"
    }
   ],
   "source": [
    "next(iter(dataloader_train))[1].shape # alphabet (integer)\n"
   ]
  },
  {
   "cell_type": "code",
   "execution_count": 201,
   "id": "2941be8e-995a-4f24-9a48-170efca650b7",
   "metadata": {},
   "outputs": [
    {
     "data": {
      "text/plain": [
       "torch.Size([32])"
      ]
     },
     "execution_count": 201,
     "metadata": {},
     "output_type": "execute_result"
    }
   ],
   "source": [
    "next(iter(dataloader_train))[2].shape # label\n"
   ]
  },
  {
   "cell_type": "code",
   "execution_count": 204,
   "id": "ef2eda34-8464-4b51-8913-0dd3be47567b",
   "metadata": {},
   "outputs": [],
   "source": [
    "# this time the model will have two classification layers: two predictions in parallel\n",
    "\n",
    "class Net_2o(nn.Module):\n",
    "    def __init__(self):\n",
    "        super(Net_2o, self).__init__()\n",
    "        self.image_layer = nn.Sequential(\n",
    "            nn.Conv2d(1, 16, kernel_size=3, padding=1), # 1 input channel (B/W), 16 filters\n",
    "            nn.MaxPool2d(kernel_size=2),\n",
    "            nn.ELU(),\n",
    "            nn.Flatten(),\n",
    "            nn.Linear(16*32*32, 128)\n",
    "        )\n",
    "        # Define the two classifier layers\n",
    "        self.classifier_alpha = nn.Linear(128, 30)\n",
    "        self.classifier_char = nn.Linear(128, 964)\n",
    "        \n",
    "    def forward(self, x):\n",
    "        x_image = self.image_layer(x)\n",
    "        # Pass x_image through the classifiers and return both results\n",
    "        output_alpha = self.classifier_alpha(x_image)\n",
    "        output_char = self.classifier_char(x_image)\n",
    "        return output_alpha, output_char"
   ]
  },
  {
   "cell_type": "code",
   "execution_count": 205,
   "id": "73e2f657-7dfe-489d-9130-a585be84ad20",
   "metadata": {},
   "outputs": [],
   "source": [
    "char_weight = 0.9 # more importance to the loss of the characters classification\n",
    "\n",
    "net = Net_2o()\n",
    "criterion = nn.CrossEntropyLoss()\n",
    "optimizer = optim.SGD(net.parameters(), lr=0.05)\n",
    "\n",
    "for epoch in range(1):\n",
    "    for images, labels_alpha, labels_char in dataloader_train:\n",
    "        # Check if any element in images or labels is NaN or Inf\n",
    "        if torch.isnan(images).any() or torch.isinf(images).any():\n",
    "            print(\"NaN or Inf found in images\")\n",
    "        if torch.isnan(labels_alpha).any() or torch.isinf(labels_alpha).any():\n",
    "            print(\"NaN or Inf found in labels_alpha\")\n",
    "        if torch.isnan(labels_char).any() or torch.isinf(labels_char).any():\n",
    "            print(\"NaN or Inf found in labels_char\")\n",
    "\n",
    "        optimizer.zero_grad()\n",
    "        outputs_alpha, outputs_char = net(images)\n",
    "\n",
    "        # Check if any element in outputs is NaN or Inf\n",
    "        if torch.isnan(outputs_alpha).any() or torch.isinf(outputs_alpha).any():\n",
    "            print(\"NaN or Inf found in outputs_alpha\")\n",
    "        if torch.isnan(outputs_char).any() or torch.isinf(outputs_char).any():\n",
    "            print(\"NaN or Inf found in outputs_char\")\n",
    "\n",
    "        # Compute alphabet classification loss\n",
    "        loss_alpha = criterion(outputs_alpha, labels_alpha)\n",
    "        # Compute character classification loss\n",
    "        loss_char = criterion(outputs_char, labels_char)\n",
    "\n",
    "        # Check if any element in losses is NaN or Inf\n",
    "        if torch.isnan(loss_alpha).any() or torch.isinf(loss_alpha).any():\n",
    "            print(\"NaN or Inf found in loss_alpha\")\n",
    "        if torch.isnan(loss_char).any() or torch.isinf(loss_char).any():\n",
    "            print(\"NaN or Inf found in loss_char\")\n",
    "\n",
    "        # Compute total loss\n",
    "        loss = ((1 - char_weight) * loss_alpha) + (char_weight * loss_char)\n",
    "\n",
    "        # Check if any element in total loss is NaN or Inf\n",
    "        if torch.isnan(loss).any() or torch.isinf(loss).any():\n",
    "            print(\"NaN or Inf found in total loss\")\n",
    "\n",
    "        loss.backward()\n",
    "\n",
    "        # Clip gradients to prevent them from exploding\n",
    "        torch.nn.utils.clip_grad_norm_(net.parameters(), max_norm=1) # it scales the entire gradient vector if its norm exceeds 1\n",
    "\n",
    "        optimizer.step()\n"
   ]
  },
  {
   "cell_type": "code",
   "execution_count": 207,
   "id": "f0ab43ca-5318-4f0b-8415-20ccc143bc04",
   "metadata": {},
   "outputs": [
    {
     "data": {
      "text/plain": [
       "tensor([-0.2374, -0.3910,  0.4025,  0.2014, -0.0599,  0.0740,  0.2678, -0.0855,\n",
       "        -0.1538,  0.1782,  0.3466, -0.2357,  0.0164,  0.0225, -0.1080,  0.0814,\n",
       "         0.0436, -0.1996,  0.1307,  0.1691,  0.2995, -0.3139,  0.1264, -0.0241,\n",
       "         0.1262, -0.4272,  0.2418, -0.2202, -0.4613,  0.0017],\n",
       "       grad_fn=<SelectBackward0>)"
      ]
     },
     "execution_count": 207,
     "metadata": {},
     "output_type": "execute_result"
    }
   ],
   "source": [
    "outputs_alpha[0]"
   ]
  },
  {
   "cell_type": "code",
   "execution_count": 217,
   "id": "324f8dd9-f0bb-477d-a9cd-338ce4f7ed63",
   "metadata": {},
   "outputs": [
    {
     "data": {
      "text/plain": [
       "tensor(2)"
      ]
     },
     "execution_count": 217,
     "metadata": {},
     "output_type": "execute_result"
    }
   ],
   "source": [
    "_, pred_alpha = torch.max(outputs_alpha[0], 0)\n",
    "pred_alpha # position (2) of the max output value (0.4025)"
   ]
  },
  {
   "cell_type": "code",
   "execution_count": 209,
   "id": "2c8c487a-bd00-4192-9e39-87eb6faf7fa5",
   "metadata": {},
   "outputs": [
    {
     "data": {
      "text/plain": [
       "torch.Size([964])"
      ]
     },
     "execution_count": 209,
     "metadata": {},
     "output_type": "execute_result"
    }
   ],
   "source": [
    "outputs_char[0].shape"
   ]
  },
  {
   "cell_type": "code",
   "execution_count": 206,
   "id": "1313d4c3-c37c-4d50-8abf-6f28cf64b68e",
   "metadata": {
    "tags": []
   },
   "outputs": [
    {
     "data": {
      "text/plain": [
       "tensor(6.4986, grad_fn=<AddBackward0>)"
      ]
     },
     "execution_count": 206,
     "metadata": {},
     "output_type": "execute_result"
    }
   ],
   "source": [
    "loss # with char_weight = 0.9"
   ]
  },
  {
   "cell_type": "code",
   "execution_count": 218,
   "id": "f85af502-d369-45f3-b127-3afe45cfac75",
   "metadata": {},
   "outputs": [],
   "source": [
    "def evaluate_model(model):\n",
    "    # Define accuracy metrics\n",
    "    acc_alpha = Accuracy(task=\"multiclass\", num_classes=30)\n",
    "    acc_char = Accuracy(task=\"multiclass\", num_classes=964)\n",
    "\n",
    "    net.eval()\n",
    "    with torch.no_grad():\n",
    "        for i, (images, labels_alpha, labels_char) in enumerate(dataloader_test):\n",
    "            # Obtain model outputs\n",
    "            outputs_alpha, outputs_char = net(images)\n",
    "            _, pred_alpha = torch.max(outputs_alpha, 1)\n",
    "            _, pred_char = torch.max(outputs_char, 1)\n",
    "            # Update both accuracy metrics\n",
    "            acc_alpha(pred_alpha, labels_alpha)\n",
    "            acc_char(pred_char, labels_char)\n",
    "            \n",
    "            # Print the values for the first batch of data\n",
    "            if i == 0:\n",
    "                print('outputs_alpha', outputs_alpha.size())\n",
    "                print('pred_alpha', pred_alpha.size())\n",
    "                print('labels_alpha', labels_alpha.size())\n",
    "                print('outputs_char', outputs_char.size())\n",
    "                print('pred_char', pred_char.size())\n",
    "                print('labels_char', labels_char.size())\n",
    "                print('outputs_alpha',outputs_alpha)\n",
    "                print('pred_alpha',pred_alpha)\n",
    "                print('labels_alpha',labels_alpha)\n",
    "                print('outputs_char',outputs_char)\n",
    "                print('pred_char',pred_char)\n",
    "                print('labels_char',labels_char)\n",
    "\n",
    "    print(f\"Alphabet: {acc_alpha.compute()}\")\n",
    "    print(f\"Character: {acc_char.compute()}\")\n"
   ]
  },
  {
   "cell_type": "code",
   "execution_count": 219,
   "id": "8ffe32b7-6d71-4981-a8f5-c590c34a89d6",
   "metadata": {},
   "outputs": [
    {
     "name": "stdout",
     "output_type": "stream",
     "text": [
      "outputs_alpha torch.Size([32, 30])\n",
      "pred_alpha torch.Size([32])\n",
      "labels_alpha torch.Size([32])\n",
      "outputs_char torch.Size([32, 964])\n",
      "pred_char torch.Size([32])\n",
      "labels_char torch.Size([32])\n",
      "outputs_alpha tensor([[-2.6742e-01, -4.0554e-01,  2.8217e-01,  7.0159e-02,  1.2705e-02,\n",
      "          1.1929e-01,  3.0639e-01, -1.3936e-02, -1.9476e-01,  2.3590e-01,\n",
      "          1.9044e-01, -2.7688e-01, -5.8969e-02, -2.7900e-03, -8.7662e-02,\n",
      "          1.7465e-01,  1.4619e-02, -2.9748e-01,  8.1040e-02,  1.6176e-01,\n",
      "          1.7500e-01, -3.3546e-01,  8.5505e-02, -1.3382e-01,  4.8451e-03,\n",
      "         -4.7684e-01,  3.4961e-01, -1.3498e-01, -2.6196e-01, -5.4593e-02],\n",
      "        [-2.9536e-01, -3.5471e-01,  3.6160e-01,  1.2498e-01, -6.3908e-02,\n",
      "          2.4774e-02,  2.9557e-01, -6.9437e-02, -1.7657e-01,  2.0017e-01,\n",
      "          3.3303e-01, -1.3460e-01,  3.7772e-02,  7.4509e-03, -4.9389e-02,\n",
      "          1.5985e-01, -3.8358e-02, -2.5983e-01,  2.8756e-01,  1.1999e-01,\n",
      "          2.1008e-01, -3.3969e-01,  4.9472e-02, -9.4889e-02,  9.1332e-02,\n",
      "         -4.3800e-01,  2.4397e-01, -1.4206e-01, -2.7647e-01, -9.0306e-02],\n",
      "        [-3.0876e-01, -4.0713e-01,  3.4564e-01,  1.5616e-01, -1.3012e-01,\n",
      "          3.6754e-03,  2.6648e-01, -3.6767e-02, -8.5007e-02,  2.0358e-01,\n",
      "          3.2661e-01, -1.7129e-01, -1.8277e-02,  4.5729e-02, -7.0543e-02,\n",
      "          8.8056e-02,  5.2959e-03, -2.0277e-01,  1.4312e-01,  1.1487e-01,\n",
      "          2.5462e-01, -4.1005e-01,  1.4701e-01, -8.8282e-02,  1.7229e-01,\n",
      "         -5.1682e-01,  2.5377e-01, -7.6485e-02, -3.3088e-01, -7.1025e-02],\n",
      "        [-3.3539e-01, -3.5684e-01,  3.4696e-01,  1.0049e-01, -6.9325e-02,\n",
      "          4.7524e-02,  3.0310e-01, -1.8726e-02, -1.5360e-01,  2.1175e-01,\n",
      "          2.1555e-01, -2.0319e-01, -9.1822e-04,  1.2225e-03, -1.5259e-02,\n",
      "          6.7112e-02, -5.6600e-03, -1.9771e-01,  2.7440e-01,  1.3966e-01,\n",
      "          2.1022e-01, -3.3072e-01,  1.3245e-01, -6.1553e-02,  6.1667e-02,\n",
      "         -4.8076e-01,  2.8877e-01, -1.5351e-01, -3.5458e-01, -6.9254e-02],\n",
      "        [-2.1288e-01, -3.4259e-01,  2.0718e-01, -2.9649e-02, -2.7594e-02,\n",
      "          1.5759e-01,  2.4945e-01, -3.5374e-02, -1.0298e-01,  1.4952e-01,\n",
      "          2.8052e-01, -1.3004e-01, -5.7846e-02,  1.2571e-01, -3.7743e-02,\n",
      "         -2.3615e-02, -8.9552e-02, -1.8180e-01,  2.4683e-01,  6.3829e-02,\n",
      "          1.3065e-01, -3.6001e-01,  1.3560e-01, -1.0385e-01,  1.2147e-01,\n",
      "         -4.2131e-01,  1.9368e-01, -1.2347e-01, -2.4093e-01, -1.2061e-01],\n",
      "        [-2.2967e-01, -3.3980e-01,  2.2000e-01, -3.5373e-03,  1.1024e-02,\n",
      "          6.5689e-02,  2.1238e-01, -2.7186e-02, -1.6232e-01,  2.1090e-01,\n",
      "          3.3146e-01, -1.2115e-01, -5.4225e-02,  2.5053e-02, -9.0209e-02,\n",
      "          5.6214e-02,  9.2790e-03, -1.9724e-01,  2.7373e-01,  8.9297e-02,\n",
      "          2.1370e-01, -3.8111e-01,  1.6196e-01, -1.8176e-01,  8.3758e-02,\n",
      "         -3.9247e-01,  1.2718e-01, -7.2869e-02, -2.4416e-01, -1.8065e-01],\n",
      "        [-2.9171e-01, -2.7364e-01,  2.9633e-01,  7.8518e-02, -8.8915e-02,\n",
      "          1.3223e-02,  3.0432e-01, -5.4180e-02, -1.3454e-01,  1.7500e-01,\n",
      "          3.5783e-01, -1.5873e-01,  1.0441e-02,  4.4459e-03, -5.0197e-02,\n",
      "          5.2591e-02, -1.4047e-02, -1.0244e-01,  2.8827e-01,  1.1698e-01,\n",
      "          2.1919e-01, -2.4748e-01,  1.0627e-01, -5.4461e-02,  1.7902e-02,\n",
      "         -5.1521e-01,  2.1347e-01, -1.5058e-01, -2.5559e-01, -8.3287e-02],\n",
      "        [-2.6183e-01, -4.4588e-01,  3.2715e-01,  1.9587e-01, -1.4769e-01,\n",
      "          2.8395e-02,  2.4006e-01, -1.2689e-01, -1.6911e-01,  1.7828e-01,\n",
      "          3.6384e-01, -1.5507e-01,  4.1082e-03,  2.8621e-02, -4.1211e-02,\n",
      "          1.0653e-01,  1.5819e-03, -2.2715e-01,  1.9801e-01,  1.6003e-01,\n",
      "          1.9312e-01, -4.1129e-01,  1.6701e-01, -5.0544e-02,  1.5180e-01,\n",
      "         -4.9750e-01,  2.4949e-01, -1.0560e-01, -3.1576e-01, -4.0413e-02],\n",
      "        [-3.0857e-01, -3.2079e-01,  3.9110e-01,  1.5383e-01, -2.3563e-02,\n",
      "         -2.5327e-02,  3.0167e-01, -1.1423e-01, -1.3101e-01,  1.1480e-01,\n",
      "          2.2784e-01, -2.0691e-01,  6.6810e-02,  5.4577e-02, -2.5693e-03,\n",
      "          2.1846e-02, -7.6235e-03, -2.7002e-01,  2.3843e-01,  1.6634e-01,\n",
      "          2.3044e-01, -3.8595e-01,  1.2873e-01, -5.1813e-02,  1.7183e-01,\n",
      "         -4.2792e-01,  2.0606e-01, -1.9676e-01, -2.6464e-01,  9.7092e-02],\n",
      "        [-2.7885e-01, -4.1365e-01,  3.1239e-01,  1.5209e-01, -1.5245e-01,\n",
      "         -6.0169e-04,  2.6204e-01, -7.7784e-02, -4.5799e-02,  1.2503e-01,\n",
      "          3.1120e-01, -1.6434e-01,  1.2903e-02,  1.6559e-01,  1.2414e-02,\n",
      "          9.4348e-03, -1.6912e-02, -1.8348e-01,  1.6445e-01,  1.0566e-01,\n",
      "          1.9176e-01, -3.5717e-01,  1.0335e-01, -8.5797e-02,  1.8346e-01,\n",
      "         -5.4163e-01,  3.1421e-01, -1.2943e-01, -2.7178e-01,  1.0741e-02],\n",
      "        [-2.3585e-01, -4.6093e-01,  4.6498e-01,  3.1391e-02, -1.6004e-01,\n",
      "          9.0366e-02,  1.6114e-01, -9.8354e-02, -2.2762e-01,  1.8929e-01,\n",
      "          2.7409e-01, -2.0352e-01,  3.2387e-02,  7.3569e-02, -7.7018e-03,\n",
      "          1.5569e-02, -9.1699e-02, -2.2857e-01,  1.8539e-01,  6.3564e-02,\n",
      "          2.1438e-01, -4.0532e-01,  1.9116e-01,  1.0442e-02,  1.1235e-01,\n",
      "         -4.8778e-01,  2.1744e-01, -1.0120e-01, -3.2275e-01,  1.2166e-04],\n",
      "        [-3.2152e-01, -4.1609e-01,  4.6164e-01,  1.4518e-01, -1.3077e-01,\n",
      "          9.5020e-03,  1.9139e-01, -1.2834e-01, -2.3981e-01,  1.3581e-01,\n",
      "          2.7991e-01, -1.1195e-01,  5.2634e-02,  3.6997e-02, -5.4215e-02,\n",
      "          7.7906e-02, -2.5331e-02, -2.4637e-01,  2.1413e-01,  1.0694e-01,\n",
      "          2.3315e-01, -4.2200e-01,  1.3806e-01, -7.9039e-02,  1.1566e-01,\n",
      "         -4.5611e-01,  2.2439e-01, -1.5461e-01, -3.4323e-01,  2.2700e-02],\n",
      "        [-3.2215e-01, -4.3028e-01,  3.5593e-01, -3.6237e-04, -2.8428e-02,\n",
      "          6.7884e-02,  3.1292e-01, -1.3279e-01, -2.3157e-01,  1.4804e-01,\n",
      "          2.2654e-01, -2.0786e-01, -6.1487e-02,  8.6249e-02, -1.1259e-01,\n",
      "          1.1708e-01,  3.9935e-02, -2.7200e-01,  1.2939e-01,  1.5201e-01,\n",
      "          1.6552e-01, -3.1913e-01,  1.0973e-01, -7.1899e-02,  6.5169e-02,\n",
      "         -4.2318e-01,  2.8508e-01, -1.0210e-01, -3.6480e-01, -2.3778e-03],\n",
      "        [-2.9400e-01, -4.7104e-01,  3.1551e-01,  5.2770e-02,  1.6413e-03,\n",
      "          8.7295e-02,  2.1126e-01, -5.6202e-02, -1.5532e-01,  1.6192e-01,\n",
      "          2.6725e-01, -2.4777e-01, -5.7000e-02,  4.4466e-02, -7.0491e-02,\n",
      "          2.0756e-02,  5.1636e-02, -2.4480e-01,  1.3273e-01,  8.2716e-02,\n",
      "          2.2804e-01, -4.2081e-01,  2.0589e-01, -1.0586e-01,  1.5758e-01,\n",
      "         -4.3708e-01,  2.2937e-01, -1.0620e-01, -3.2495e-01, -9.5502e-02],\n",
      "        [-2.1842e-01, -3.8771e-01,  3.1588e-01,  1.4483e-01, -5.4944e-02,\n",
      "          1.4373e-01,  2.1743e-01, -9.2109e-02, -2.4245e-01,  9.7962e-02,\n",
      "          2.4879e-01, -1.5870e-01,  6.7836e-02,  6.1623e-02, -3.3676e-02,\n",
      "          7.2054e-02, -3.3184e-02, -2.2049e-01,  2.4378e-01,  1.2164e-01,\n",
      "          1.1790e-01, -4.1529e-01,  1.0630e-01, -8.2219e-02,  2.5047e-04,\n",
      "         -4.2963e-01,  1.6499e-01, -1.1368e-01, -2.2271e-01,  4.2196e-02],\n",
      "        [-2.3242e-01, -3.8152e-01,  3.0584e-01,  6.1650e-02, -1.0210e-01,\n",
      "         -1.1240e-02,  3.0346e-01, -1.4710e-01, -1.0308e-01,  1.9473e-01,\n",
      "          3.1352e-01, -1.8747e-01, -5.3840e-02,  1.1520e-01, -1.2604e-01,\n",
      "          2.0545e-02, -6.4607e-02, -1.5654e-01,  2.1177e-01,  9.4161e-02,\n",
      "          1.2845e-01, -3.7622e-01,  5.3347e-02, -1.3896e-01,  7.4223e-02,\n",
      "         -4.6742e-01,  2.5048e-01, -6.5079e-03, -2.0025e-01, -1.1632e-01],\n",
      "        [-2.0248e-01, -3.9778e-01,  2.3318e-01, -3.1584e-02,  3.8454e-03,\n",
      "          1.0765e-01,  2.6795e-01, -1.3907e-01, -1.4846e-01,  1.3808e-01,\n",
      "          3.7996e-01, -1.6063e-01, -4.4206e-02,  1.1222e-01, -6.3498e-02,\n",
      "          6.5888e-02, -1.1400e-01, -1.6693e-01,  2.5434e-01,  2.5275e-02,\n",
      "          1.5035e-01, -3.0563e-01,  1.7936e-01, -1.0323e-01,  6.8781e-02,\n",
      "         -3.9236e-01,  1.6104e-01, -8.2971e-02, -2.1843e-01, -1.4695e-01],\n",
      "        [-2.3960e-01, -4.1305e-01,  3.3131e-01,  1.4928e-01, -1.4665e-01,\n",
      "          8.8848e-02,  2.7388e-01, -8.5113e-02, -1.7947e-01,  1.9184e-01,\n",
      "          2.8874e-01, -1.9845e-01,  1.7124e-02, -2.4212e-02, -5.1386e-03,\n",
      "          1.8271e-01, -4.0858e-02, -2.3031e-01,  2.4800e-01,  1.7603e-01,\n",
      "          1.3766e-01, -4.0998e-01,  1.4544e-01, -1.0663e-01,  6.8744e-02,\n",
      "         -5.0629e-01,  2.3972e-01, -3.4027e-02, -2.8936e-01, -6.8454e-02],\n",
      "        [-3.2675e-01, -3.9528e-01,  3.6721e-01,  2.1066e-01, -7.1433e-02,\n",
      "         -2.0614e-02,  3.0092e-01, -8.7975e-02, -1.5805e-01,  2.1484e-01,\n",
      "          2.2340e-01, -1.6598e-01,  1.2610e-01,  1.9179e-02, -2.2151e-02,\n",
      "          1.3773e-01,  9.9836e-02, -2.3775e-01,  1.3274e-01,  2.0829e-01,\n",
      "          2.8009e-01, -4.3844e-01,  1.4993e-01, -4.6781e-02,  1.5795e-01,\n",
      "         -4.4732e-01,  2.2198e-01, -1.7760e-01, -3.3088e-01, -1.0018e-02],\n",
      "        [-1.9401e-01, -3.1891e-01,  2.2096e-01, -3.7652e-02,  8.8139e-03,\n",
      "          1.4628e-01,  2.6387e-01, -2.0067e-02, -1.6236e-01,  1.8531e-01,\n",
      "          3.9161e-01, -1.2409e-01, -7.9983e-02,  9.3361e-02, -1.3644e-01,\n",
      "          3.6859e-02, -7.4274e-02, -1.8120e-01,  2.3606e-01,  5.6426e-02,\n",
      "          2.3588e-01, -2.9243e-01,  1.7742e-01, -1.4585e-01,  1.2434e-01,\n",
      "         -3.4715e-01,  2.0819e-01, -1.0830e-01, -2.6891e-01, -1.5378e-01],\n",
      "        [-2.1251e-01, -4.5362e-01,  2.6630e-01, -3.4777e-02,  2.2335e-02,\n",
      "          2.0980e-01,  2.0508e-01, -4.8878e-02, -2.1328e-01,  1.3619e-01,\n",
      "          2.9931e-01, -1.6347e-01, -2.7330e-02,  4.0676e-02, -7.8953e-02,\n",
      "          4.3603e-02,  5.1592e-04, -1.8859e-01,  2.2335e-01,  8.5018e-02,\n",
      "          2.0622e-01, -3.4360e-01,  1.9635e-01, -8.8134e-02,  1.3420e-02,\n",
      "         -3.8652e-01,  1.7883e-01, -1.1683e-01, -2.3407e-01, -6.6145e-02],\n",
      "        [-2.5233e-01, -5.0662e-01,  2.7985e-01,  1.9039e-02, -1.0412e-01,\n",
      "          1.0858e-01,  1.8710e-01, -9.1421e-02, -2.3670e-01,  1.3235e-01,\n",
      "          3.7455e-01, -1.1793e-01, -3.5686e-02,  2.4547e-02, -5.8882e-02,\n",
      "          3.3645e-02,  3.3370e-02, -1.5826e-01,  2.4779e-01,  1.3329e-01,\n",
      "          2.3880e-01, -3.4583e-01,  1.7335e-01, -1.4910e-01,  6.2284e-02,\n",
      "         -3.6789e-01,  2.5226e-01, -1.3471e-01, -3.0805e-01, -4.2612e-02],\n",
      "        [-2.6154e-01, -4.5363e-01,  2.9326e-01,  4.3428e-02, -9.9054e-02,\n",
      "          5.0274e-02,  2.3562e-01, -9.5798e-02, -8.9766e-02,  1.0035e-01,\n",
      "          3.6939e-01, -1.2200e-01, -4.2607e-02,  1.4342e-01, -1.0374e-01,\n",
      "         -1.8276e-02, -3.9054e-02, -2.1584e-01,  2.3467e-01,  7.4844e-02,\n",
      "          1.6463e-01, -3.8145e-01,  9.1994e-02, -1.2526e-01,  1.2601e-01,\n",
      "         -4.7098e-01,  2.2903e-01, -9.2775e-02, -2.4258e-01, -1.1820e-01],\n",
      "        [-3.1393e-01, -3.8005e-01,  3.0979e-01,  9.5105e-02, -1.1228e-02,\n",
      "          4.1600e-02,  2.6423e-01, -1.4994e-02, -1.3105e-01,  2.0705e-01,\n",
      "          2.0656e-01, -2.2024e-01, -2.9323e-02,  9.1629e-04, -8.0063e-02,\n",
      "          3.2821e-02,  2.9135e-02, -2.2687e-01,  1.6978e-01,  1.2200e-01,\n",
      "          2.4503e-01, -3.9995e-01,  1.4559e-01, -6.3077e-02,  1.0173e-01,\n",
      "         -4.2117e-01,  1.6051e-01, -6.7369e-02, -2.4512e-01, -8.9839e-02],\n",
      "        [-2.9853e-01, -3.1505e-01,  3.6981e-01,  5.4507e-02,  3.2131e-02,\n",
      "          6.8270e-02,  2.5142e-01, -6.6143e-02, -1.6592e-01,  2.0615e-01,\n",
      "          2.8345e-01, -1.6423e-01,  2.7073e-02, -3.3320e-02, -6.8188e-02,\n",
      "          6.7557e-02, -1.9415e-02, -2.2182e-01,  2.5022e-01,  1.4265e-01,\n",
      "          1.9777e-01, -3.6296e-01,  1.8519e-01, -9.9912e-02,  9.9780e-02,\n",
      "         -4.1687e-01,  1.9429e-01, -1.6603e-01, -2.2636e-01, -7.6165e-02],\n",
      "        [-2.0808e-01, -4.8748e-01,  3.3633e-01,  7.1169e-02, -5.2918e-02,\n",
      "          1.5923e-01,  1.6599e-01, -8.2094e-02, -2.7701e-01,  1.9908e-01,\n",
      "          3.0265e-01, -2.4681e-01, -9.6441e-02,  5.2497e-02, -2.8650e-02,\n",
      "          7.3940e-02, -2.4823e-03, -2.4770e-01,  1.6685e-01,  1.1055e-01,\n",
      "          1.2443e-01, -4.2912e-01,  1.6984e-01, -9.6061e-02,  7.7192e-02,\n",
      "         -4.6565e-01,  2.8121e-01, -1.4243e-01, -3.2775e-01, -4.0104e-02],\n",
      "        [-2.4615e-01, -4.4508e-01,  2.6450e-01, -2.7428e-02,  3.9607e-02,\n",
      "          9.8956e-02,  2.5962e-01, -9.7973e-02, -2.9943e-01,  1.7508e-01,\n",
      "          2.7419e-01, -1.8204e-01, -5.9603e-02,  2.3015e-02, -8.9368e-02,\n",
      "          3.1320e-02, -1.8826e-02, -2.7307e-01,  2.6550e-01,  5.7369e-02,\n",
      "          2.6965e-01, -4.0344e-01,  1.5467e-01, -1.3744e-01,  4.3945e-02,\n",
      "         -4.3118e-01,  1.6890e-01, -1.5522e-01, -2.5617e-01, -8.8250e-02],\n",
      "        [-2.8290e-01, -3.6923e-01,  3.7970e-01,  7.8952e-02, -1.1517e-01,\n",
      "          1.6605e-02,  2.6714e-01, -1.0743e-01, -2.1798e-01,  2.4825e-01,\n",
      "          2.0734e-01, -2.1511e-01,  7.3966e-02, -3.3457e-02, -8.7253e-02,\n",
      "          1.4947e-01, -3.0920e-02, -2.0580e-01,  2.4452e-01,  1.4951e-01,\n",
      "          2.2710e-01, -3.9596e-01,  9.7225e-02, -1.7200e-02,  8.9534e-02,\n",
      "         -4.0639e-01,  2.0363e-01, -1.8104e-02, -3.3032e-01, -9.4315e-02],\n",
      "        [-3.3128e-01, -3.4632e-01,  2.4950e-01, -2.2012e-02, -2.0835e-02,\n",
      "          6.9804e-02,  3.4444e-01, -1.5089e-01, -2.3986e-01,  1.3630e-01,\n",
      "          2.5343e-01, -8.6069e-02, -6.3213e-03, -2.0229e-02, -1.5786e-02,\n",
      "          1.4355e-01,  1.4471e-02, -2.1892e-01,  2.6813e-01,  1.0345e-01,\n",
      "          1.8221e-01, -3.2034e-01,  1.8854e-02, -1.2728e-01,  1.0916e-02,\n",
      "         -2.8299e-01,  2.9446e-01, -1.6656e-01, -2.6090e-01, -1.2111e-01],\n",
      "        [-2.7141e-01, -3.4054e-01,  3.4748e-01,  6.2944e-02, -7.8515e-02,\n",
      "          1.0167e-01,  3.2451e-01, -1.1817e-01, -2.3840e-01,  1.6904e-01,\n",
      "          2.9407e-01, -1.4006e-01,  9.8586e-03, -8.1413e-03, -1.1207e-01,\n",
      "          4.9790e-02,  2.6598e-02, -1.9526e-01,  2.7389e-01,  1.1650e-01,\n",
      "          1.7850e-01, -3.0738e-01,  7.6290e-02, -1.2130e-01,  1.1138e-01,\n",
      "         -3.8804e-01,  2.3727e-01, -1.9246e-01, -3.0492e-01, -5.3538e-02],\n",
      "        [-2.5130e-01, -3.4316e-01,  3.3605e-01,  2.0846e-01, -1.6876e-01,\n",
      "          3.0069e-02,  2.6707e-01, -3.5518e-02, -8.3132e-02,  2.0679e-01,\n",
      "          2.9757e-01, -1.8228e-01,  8.2059e-02, -6.2392e-03, -5.8889e-02,\n",
      "          1.7897e-01,  7.3826e-03, -2.2269e-01,  1.7621e-01,  1.7406e-01,\n",
      "          2.3572e-01, -3.9731e-01,  1.3933e-01, -6.9467e-02,  8.2241e-02,\n",
      "         -5.2627e-01,  2.4325e-01, -9.0519e-02, -3.4143e-01, -2.7180e-02],\n",
      "        [-2.8972e-01, -4.6233e-01,  2.5770e-01,  1.7639e-01, -5.3174e-02,\n",
      "          3.3730e-02,  2.6773e-01, -1.0576e-01, -5.9294e-02,  1.4846e-01,\n",
      "          3.1521e-01, -2.8073e-01, -4.7577e-02,  1.1212e-01, -2.9228e-03,\n",
      "          3.4970e-02,  4.5154e-03, -2.4862e-01,  1.4977e-01,  8.9802e-02,\n",
      "          1.7854e-01, -4.0862e-01,  1.4545e-01, -5.8805e-02,  1.1969e-01,\n",
      "         -5.5094e-01,  2.4022e-01, -7.7052e-02, -2.4741e-01, -3.0209e-02]])\n",
      "pred_alpha tensor([26,  2,  2,  2, 10, 10, 10, 10,  2, 26,  2,  2,  2,  2,  2, 10, 10,  2,\n",
      "         2, 10, 10, 10, 10,  2,  2,  2, 10,  2,  6,  2,  2, 10])\n",
      "labels_alpha tensor([18, 18,  8, 19,  5, 15,  4,  9, 19,  0, 14, 15, 26, 20, 26, 12, 13, 18,\n",
      "         1, 28, 15,  5, 13,  4, 20,  6, 15,  0,  6, 18,  3,  7])\n",
      "outputs_char tensor([[-0.3954, -0.0772,  0.0933,  ..., -0.2210,  0.3494, -0.2956],\n",
      "        [-0.4331, -0.0319,  0.0084,  ..., -0.1097,  0.3317, -0.3750],\n",
      "        [-0.4524, -0.0089, -0.0644,  ..., -0.0901,  0.4404, -0.3287],\n",
      "        ...,\n",
      "        [-0.4515,  0.0159, -0.0746,  ..., -0.0793,  0.3616, -0.4236],\n",
      "        [-0.4109,  0.0029,  0.0402,  ..., -0.1223,  0.3733, -0.3467],\n",
      "        [-0.4590, -0.0522, -0.0213,  ..., -0.1594,  0.3774, -0.3278]])\n",
      "pred_char tensor([352, 425, 347, 425, 425, 425, 577, 425, 347, 347, 425, 347, 825, 347,\n",
      "        195, 425, 425, 425, 680, 425, 195, 425, 425, 347, 425, 425, 195, 425,\n",
      "        195, 195, 425, 347])\n",
      "labels_char tensor([549, 561, 242, 586, 161, 477, 127, 293, 622,  12, 440, 473, 854, 637,\n",
      "        849, 374, 386, 585,  48, 904, 476, 162, 414, 125, 659, 186, 475,   5,\n",
      "        198, 574, 115, 237])\n",
      "Alphabet: 0.0516078844666481\n",
      "Character: 0.0012966805370524526\n"
     ]
    }
   ],
   "source": [
    "evaluate_model(net)"
   ]
  },
  {
   "cell_type": "code",
   "execution_count": null,
   "id": "92daa857-512a-41e7-9a39-18dc52e41315",
   "metadata": {},
   "outputs": [],
   "source": [
    "# fix accuracy"
   ]
  },
  {
   "cell_type": "code",
   "execution_count": null,
   "id": "268f1093-6ebf-4e8e-8608-0a26b317408d",
   "metadata": {},
   "outputs": [],
   "source": []
  },
  {
   "cell_type": "code",
   "execution_count": null,
   "id": "0cbb7842-13c4-454c-9a96-00e73d83c7c3",
   "metadata": {},
   "outputs": [],
   "source": []
  },
  {
   "cell_type": "code",
   "execution_count": null,
   "id": "9ee1efb3-8337-4eff-8249-096e8cada50a",
   "metadata": {},
   "outputs": [],
   "source": []
  },
  {
   "cell_type": "code",
   "execution_count": null,
   "id": "2cd6abbb-0e9c-4dbe-abaf-f7d58e7a4d51",
   "metadata": {},
   "outputs": [],
   "source": []
  },
  {
   "cell_type": "code",
   "execution_count": null,
   "id": "5ebdb549-493a-4971-af3e-b68c5c21f572",
   "metadata": {},
   "outputs": [],
   "source": []
  },
  {
   "cell_type": "code",
   "execution_count": null,
   "id": "09771f0d-a16b-426d-b4fb-e9eceb853a5c",
   "metadata": {},
   "outputs": [],
   "source": []
  }
 ],
 "metadata": {
  "kernelspec": {
   "display_name": "Py310",
   "language": "python",
   "name": "py310"
  },
  "language_info": {
   "codemirror_mode": {
    "name": "ipython",
    "version": 3
   },
   "file_extension": ".py",
   "mimetype": "text/x-python",
   "name": "python",
   "nbconvert_exporter": "python",
   "pygments_lexer": "ipython3",
   "version": "3.10.11"
  }
 },
 "nbformat": 4,
 "nbformat_minor": 5
}
