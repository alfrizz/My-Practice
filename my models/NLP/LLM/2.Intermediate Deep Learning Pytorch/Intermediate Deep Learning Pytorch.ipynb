{
 "cells": [
  {
   "cell_type": "code",
   "execution_count": 30,
   "id": "5e732e63-c8d2-4005-9be3-4d43bb3387f3",
   "metadata": {},
   "outputs": [],
   "source": [
    "import pandas as pd\n",
    "from torch.utils.data import Dataset\n",
    "\n",
    "class WaterDataset(Dataset):\n",
    "    def __init__(self, csv_path):\n",
    "        super().__init__()\n",
    "        # Load data to pandas DataFrame\n",
    "        df = pd.read_csv(csv_path)\n",
    "        # Convert data to a NumPy array and assign to self.data\n",
    "        self.data = df.to_numpy()\n",
    "        \n",
    "    # Implement __len__ to return the number of data samples\n",
    "    def __len__(self):\n",
    "        return self.data.shape[0]\n",
    "    \n",
    "    def __getitem__(self, idx):\n",
    "        features = self.data[idx, :-1]\n",
    "        # Assign last data column to label\n",
    "        label = self.data[idx, -1]\n",
    "        return features, label"
   ]
  },
  {
   "cell_type": "code",
   "execution_count": 32,
   "id": "182c0a58-3c99-4e03-af21-c23da705c72c",
   "metadata": {},
   "outputs": [
    {
     "data": {
      "text/html": [
       "<div>\n",
       "<style scoped>\n",
       "    .dataframe tbody tr th:only-of-type {\n",
       "        vertical-align: middle;\n",
       "    }\n",
       "\n",
       "    .dataframe tbody tr th {\n",
       "        vertical-align: top;\n",
       "    }\n",
       "\n",
       "    .dataframe thead th {\n",
       "        text-align: right;\n",
       "    }\n",
       "</style>\n",
       "<table border=\"1\" class=\"dataframe\">\n",
       "  <thead>\n",
       "    <tr style=\"text-align: right;\">\n",
       "      <th></th>\n",
       "      <th>ph</th>\n",
       "      <th>Hardness</th>\n",
       "      <th>Solids</th>\n",
       "      <th>Chloramines</th>\n",
       "      <th>Sulfate</th>\n",
       "      <th>Conductivity</th>\n",
       "      <th>Organic_carbon</th>\n",
       "      <th>Trihalomethanes</th>\n",
       "      <th>Turbidity</th>\n",
       "      <th>Potability</th>\n",
       "    </tr>\n",
       "  </thead>\n",
       "  <tbody>\n",
       "    <tr>\n",
       "      <th>0</th>\n",
       "      <td>0.587349</td>\n",
       "      <td>0.577747</td>\n",
       "      <td>0.386298</td>\n",
       "      <td>0.568199</td>\n",
       "      <td>0.647347</td>\n",
       "      <td>0.292985</td>\n",
       "      <td>0.654522</td>\n",
       "      <td>0.795029</td>\n",
       "      <td>0.630115</td>\n",
       "      <td>0</td>\n",
       "    </tr>\n",
       "    <tr>\n",
       "      <th>1</th>\n",
       "      <td>0.643654</td>\n",
       "      <td>0.441300</td>\n",
       "      <td>0.314381</td>\n",
       "      <td>0.439304</td>\n",
       "      <td>0.514545</td>\n",
       "      <td>0.356685</td>\n",
       "      <td>0.377248</td>\n",
       "      <td>0.202914</td>\n",
       "      <td>0.520358</td>\n",
       "      <td>0</td>\n",
       "    </tr>\n",
       "    <tr>\n",
       "      <th>2</th>\n",
       "      <td>0.388934</td>\n",
       "      <td>0.470876</td>\n",
       "      <td>0.506122</td>\n",
       "      <td>0.524364</td>\n",
       "      <td>0.561537</td>\n",
       "      <td>0.142913</td>\n",
       "      <td>0.249922</td>\n",
       "      <td>0.401487</td>\n",
       "      <td>0.219973</td>\n",
       "      <td>0</td>\n",
       "    </tr>\n",
       "    <tr>\n",
       "      <th>3</th>\n",
       "      <td>0.725820</td>\n",
       "      <td>0.715942</td>\n",
       "      <td>0.506141</td>\n",
       "      <td>0.521683</td>\n",
       "      <td>0.751819</td>\n",
       "      <td>0.148683</td>\n",
       "      <td>0.467200</td>\n",
       "      <td>0.658678</td>\n",
       "      <td>0.242428</td>\n",
       "      <td>0</td>\n",
       "    </tr>\n",
       "    <tr>\n",
       "      <th>4</th>\n",
       "      <td>0.610517</td>\n",
       "      <td>0.532588</td>\n",
       "      <td>0.237701</td>\n",
       "      <td>0.270288</td>\n",
       "      <td>0.495155</td>\n",
       "      <td>0.494792</td>\n",
       "      <td>0.409721</td>\n",
       "      <td>0.469762</td>\n",
       "      <td>0.585049</td>\n",
       "      <td>0</td>\n",
       "    </tr>\n",
       "    <tr>\n",
       "      <th>...</th>\n",
       "      <td>...</td>\n",
       "      <td>...</td>\n",
       "      <td>...</td>\n",
       "      <td>...</td>\n",
       "      <td>...</td>\n",
       "      <td>...</td>\n",
       "      <td>...</td>\n",
       "      <td>...</td>\n",
       "      <td>...</td>\n",
       "      <td>...</td>\n",
       "    </tr>\n",
       "    <tr>\n",
       "      <th>2006</th>\n",
       "      <td>0.636224</td>\n",
       "      <td>0.580511</td>\n",
       "      <td>0.277748</td>\n",
       "      <td>0.418063</td>\n",
       "      <td>0.522486</td>\n",
       "      <td>0.342184</td>\n",
       "      <td>0.310364</td>\n",
       "      <td>0.402799</td>\n",
       "      <td>0.627156</td>\n",
       "      <td>1</td>\n",
       "    </tr>\n",
       "    <tr>\n",
       "      <th>2007</th>\n",
       "      <td>0.470143</td>\n",
       "      <td>0.548826</td>\n",
       "      <td>0.301347</td>\n",
       "      <td>0.538273</td>\n",
       "      <td>0.498565</td>\n",
       "      <td>0.231359</td>\n",
       "      <td>0.565061</td>\n",
       "      <td>0.175889</td>\n",
       "      <td>0.395061</td>\n",
       "      <td>1</td>\n",
       "    </tr>\n",
       "    <tr>\n",
       "      <th>2008</th>\n",
       "      <td>0.817826</td>\n",
       "      <td>0.087434</td>\n",
       "      <td>0.656389</td>\n",
       "      <td>0.670774</td>\n",
       "      <td>0.369089</td>\n",
       "      <td>0.431872</td>\n",
       "      <td>0.563265</td>\n",
       "      <td>0.285745</td>\n",
       "      <td>0.578674</td>\n",
       "      <td>1</td>\n",
       "    </tr>\n",
       "    <tr>\n",
       "      <th>2009</th>\n",
       "      <td>0.424187</td>\n",
       "      <td>0.464092</td>\n",
       "      <td>0.459656</td>\n",
       "      <td>0.541633</td>\n",
       "      <td>0.615572</td>\n",
       "      <td>0.388360</td>\n",
       "      <td>0.397780</td>\n",
       "      <td>0.449156</td>\n",
       "      <td>0.440004</td>\n",
       "      <td>1</td>\n",
       "    </tr>\n",
       "    <tr>\n",
       "      <th>2010</th>\n",
       "      <td>0.322425</td>\n",
       "      <td>0.492891</td>\n",
       "      <td>0.841409</td>\n",
       "      <td>0.492136</td>\n",
       "      <td>0.656047</td>\n",
       "      <td>0.588709</td>\n",
       "      <td>0.471422</td>\n",
       "      <td>0.503458</td>\n",
       "      <td>0.591867</td>\n",
       "      <td>1</td>\n",
       "    </tr>\n",
       "  </tbody>\n",
       "</table>\n",
       "<p>2011 rows × 10 columns</p>\n",
       "</div>"
      ],
      "text/plain": [
       "            ph  Hardness    Solids  Chloramines   Sulfate  Conductivity  \\\n",
       "0     0.587349  0.577747  0.386298     0.568199  0.647347      0.292985   \n",
       "1     0.643654  0.441300  0.314381     0.439304  0.514545      0.356685   \n",
       "2     0.388934  0.470876  0.506122     0.524364  0.561537      0.142913   \n",
       "3     0.725820  0.715942  0.506141     0.521683  0.751819      0.148683   \n",
       "4     0.610517  0.532588  0.237701     0.270288  0.495155      0.494792   \n",
       "...        ...       ...       ...          ...       ...           ...   \n",
       "2006  0.636224  0.580511  0.277748     0.418063  0.522486      0.342184   \n",
       "2007  0.470143  0.548826  0.301347     0.538273  0.498565      0.231359   \n",
       "2008  0.817826  0.087434  0.656389     0.670774  0.369089      0.431872   \n",
       "2009  0.424187  0.464092  0.459656     0.541633  0.615572      0.388360   \n",
       "2010  0.322425  0.492891  0.841409     0.492136  0.656047      0.588709   \n",
       "\n",
       "      Organic_carbon  Trihalomethanes  Turbidity  Potability  \n",
       "0           0.654522         0.795029   0.630115           0  \n",
       "1           0.377248         0.202914   0.520358           0  \n",
       "2           0.249922         0.401487   0.219973           0  \n",
       "3           0.467200         0.658678   0.242428           0  \n",
       "4           0.409721         0.469762   0.585049           0  \n",
       "...              ...              ...        ...         ...  \n",
       "2006        0.310364         0.402799   0.627156           1  \n",
       "2007        0.565061         0.175889   0.395061           1  \n",
       "2008        0.563265         0.285745   0.578674           1  \n",
       "2009        0.397780         0.449156   0.440004           1  \n",
       "2010        0.471422         0.503458   0.591867           1  \n",
       "\n",
       "[2011 rows x 10 columns]"
      ]
     },
     "execution_count": 32,
     "metadata": {},
     "output_type": "execute_result"
    }
   ],
   "source": [
    "import pandas as pd\n",
    "from sklearn.model_selection import train_test_split\n",
    "\n",
    "# Load the dataset\n",
    "df = pd.read_csv(r'water_potability.csv')\n",
    "df\n"
   ]
  },
  {
   "cell_type": "code",
   "execution_count": 33,
   "id": "ffe7d459-f108-4fd8-ab14-7c008d5c8e7b",
   "metadata": {},
   "outputs": [],
   "source": [
    "# Split the dataset into training set and test set\n",
    "train_df, test_df = train_test_split(df, test_size=0.2, random_state=42)\n",
    "\n",
    "# Save the training set and test set into csv files\n",
    "train_df.to_csv('water_train.csv', index=False)\n",
    "test_df.to_csv('water_test.csv', index=False)"
   ]
  },
  {
   "cell_type": "code",
   "execution_count": 34,
   "id": "e47e0b20-309f-4933-855b-5b27b887a050",
   "metadata": {},
   "outputs": [
    {
     "data": {
      "text/plain": [
       "<__main__.WaterDataset at 0x23bdf527250>"
      ]
     },
     "execution_count": 34,
     "metadata": {},
     "output_type": "execute_result"
    }
   ],
   "source": [
    "# Create an instance of the WaterDataset\n",
    "dataset_train = WaterDataset('water_train.csv')\n",
    "\n",
    "dataset_test = WaterDataset('water_test.csv')\n",
    "\n",
    "dataset_train"
   ]
  },
  {
   "cell_type": "code",
   "execution_count": 35,
   "id": "6303fe33-2242-47df-927d-f067acf47c32",
   "metadata": {},
   "outputs": [
    {
     "data": {
      "text/plain": [
       "<torch.utils.data.dataloader.DataLoader at 0x23bdf5259c0>"
      ]
     },
     "execution_count": 35,
     "metadata": {},
     "output_type": "execute_result"
    }
   ],
   "source": [
    "from torch.utils.data import DataLoader\n",
    "\n",
    "# Create a DataLoader based on dataset_train\n",
    "# Shuffling the training data is important because it helps to ensure that the model does not learn the order of the data, which can lead to overfitting. By shuffling, you provide the model with a more varied and representative sample of the data in each epoch.\n",
    "dataloader_train = DataLoader(\n",
    "    dataset_train,\n",
    "    batch_size=2,\n",
    "    shuffle=True,\n",
    ")\n",
    "\n",
    "# Create a DataLoader based on dataset_test\n",
    "# For the test data, shuffling is generally not necessary and can be avoided. The test set is used to evaluate the model’s performance, and shuffling does not provide any benefit in this context. It is often better to keep the test data in a fixed order to ensure consistent evaluation.\n",
    "dataloader_test = DataLoader(\n",
    "    dataset_test,\n",
    "    batch_size=2,\n",
    "    shuffle=False,\n",
    ")\n",
    "\n",
    "dataloader_train"
   ]
  },
  {
   "cell_type": "code",
   "execution_count": 42,
   "id": "72b409be-ba98-4907-b00b-550cfc65e5bb",
   "metadata": {},
   "outputs": [
    {
     "name": "stdout",
     "output_type": "stream",
     "text": [
      "tensor([[0.5098, 0.4535, 0.5840, 0.4938, 0.5493, 0.2605, 0.5226, 0.5222, 0.5562],\n",
      "        [0.5390, 0.5217, 0.2026, 0.4480, 0.6257, 0.3973, 0.6717, 0.3841, 0.3584]],\n",
      "       dtype=torch.float64) tensor([0., 0.], dtype=torch.float64)\n"
     ]
    }
   ],
   "source": [
    "# Get a batch of features and labels\n",
    "features, labels = next(iter(dataloader_train))\n",
    "print(features, labels)"
   ]
  },
  {
   "cell_type": "code",
   "execution_count": 43,
   "id": "9e0eb7b8-0076-4aad-9995-746d8151a961",
   "metadata": {},
   "outputs": [],
   "source": [
    "# The benefit of defining a class like Net instead of using nn.Sequential is flexibility. With nn.Sequential, you can only define simple, feed-forward networks where the output from one layer is used as input to the next layer. However, with a custom class, you can define more complex architectures. For example, you can have layers where the output from one layer is used as input to multiple layers, or you can use the output of a layer as input to a previous layer (creating a loop, or recurrent connection).\n",
    "\n",
    "# In your Net class, you could easily add more complex behavior in the forward method, such as conditionally skipping layers, having multiple input or output layers, changing the order of layers dynamically, etc.\n",
    "\n",
    "import torch.nn as nn\n",
    "import torch.nn.functional as F\n",
    "\n",
    "class Net(nn.Module):\n",
    "    # As for super(Net, self).__init__(), it’s calling the initialization method of the parent class, which is nn.Module in this case. This is necessary because nn.Module does some behind-the-scenes work that’s necessary for your Net class to function properly with PyTorch, such as keeping track of its trainable parameters and enabling handy methods like to(device) for moving the model to a GPU or eval() for setting the model to evaluation mode. By calling super(Net, self).__init__(), you ensure that your subclass correctly inherits this functionality from nn.Module.\n",
    "    def __init__(self):\n",
    "        super(Net, self).__init__()\n",
    "        # Define the three linear layers\n",
    "        self.fc1 = nn.Linear(9,16)\n",
    "        self.fc2 = nn.Linear(16,8)\n",
    "        self.fc3 = nn.Linear(8,1)\n",
    "        \n",
    "    def forward(self, x):\n",
    "        # Pass x through linear layers adding activations\n",
    "        x = nn.functional.relu(self.fc1(x))\n",
    "        x = nn.functional.relu(self.fc2(x))\n",
    "        x = nn.functional.sigmoid(self.fc3(x))\n",
    "        return x"
   ]
  },
  {
   "cell_type": "code",
   "execution_count": 45,
   "id": "b049f9ad-f9e7-4f78-bcf9-5688bc68bd7d",
   "metadata": {},
   "outputs": [
    {
     "data": {
      "text/plain": [
       "tensor([0., 0.], dtype=torch.float64)"
      ]
     },
     "execution_count": 45,
     "metadata": {},
     "output_type": "execute_result"
    }
   ],
   "source": [
    "labels"
   ]
  },
  {
   "cell_type": "code",
   "execution_count": 46,
   "id": "e98dbc4c-fae9-402b-9fc8-a909829303df",
   "metadata": {},
   "outputs": [
    {
     "data": {
      "text/plain": [
       "(torch.Size([2]), torch.Size([2, 1]))"
      ]
     },
     "execution_count": 46,
     "metadata": {},
     "output_type": "execute_result"
    }
   ],
   "source": [
    "labels.shape, labels.view(-1, 1).shape"
   ]
  },
  {
   "cell_type": "code",
   "execution_count": 48,
   "id": "5badbdcf-6012-453d-8c8e-89806f34e8d4",
   "metadata": {},
   "outputs": [],
   "source": [
    "# Loss Calculation: The BCELoss (Binary Cross Entropy Loss) function computes the loss between the model’s raw output probabilities (which can be any value between 0 and 1) and the true labels. It doesn’t require the outputs to be converted into discrete predictions (0 or 1) because it operates on the probability scale. It uses the actual probabilities output by the model to calculate how far off the model’s predictions are from the true labels.\n",
    "\n",
    "def train_model(optimizer, net, num_epochs):\n",
    "    criterion = nn.BCELoss()\n",
    "    for epoch in range(num_epochs):\n",
    "        running_loss = 0.\n",
    "        for features, labels in dataloader_train:\n",
    "            # Convert features to float32\n",
    "            features = features.float()\n",
    "            labels = labels.float()\n",
    "            optimizer.zero_grad()\n",
    "            outputs = net(features)\n",
    "            loss = criterion(outputs, labels.view(-1, 1)) # labels.view(-1, 1) reshapes the labels tensor to have as many rows as needed (to fit the total number of elements) and 1 column. This is often done to match the expected input/output shape of certain functions or methods. In this case, it’s used to ensure that the labels tensor has the same shape as the outputs tensor, as required by the BCELoss function.\n",
    "            loss.backward()\n",
    "            optimizer.step()\n",
    "            running_loss += loss.item()\n",
    "    train_loss = running_loss / len(dataloader_train)\n",
    "    print(f\"Training loss after {num_epochs} epochs: {train_loss}\")"
   ]
  },
  {
   "cell_type": "code",
   "execution_count": 49,
   "id": "5013cf8a-9a34-4b30-bcdc-46f44109535b",
   "metadata": {},
   "outputs": [
    {
     "name": "stdout",
     "output_type": "stream",
     "text": [
      "Training loss after 10 epochs: 0.6719349748385486\n"
     ]
    }
   ],
   "source": [
    "import torch.optim as optim\n",
    "\n",
    "net = Net()\n",
    "\n",
    "# Define the Adam optimizer\n",
    "optimizer = optim.Adam(net.parameters(), lr=0.001)\n",
    "\n",
    "train_model(\n",
    "    optimizer=optimizer,\n",
    "    net=net,\n",
    "    num_epochs=10,\n",
    ")"
   ]
  },
  {
   "cell_type": "code",
   "execution_count": 52,
   "id": "20d0f517-0be7-4898-a6e9-af2d0dca7f58",
   "metadata": {},
   "outputs": [
    {
     "name": "stdout",
     "output_type": "stream",
     "text": [
      "Test accuracy: 0.5732010006904602\n"
     ]
    }
   ],
   "source": [
    "# Accuracy Calculation: Accuracy, on the other hand, is a metric that measures the proportion of correct predictions (both true positives and true negatives) in total predictions made. To calculate accuracy, we need discrete predictions (0 or 1), not probabilities. That’s why the outputs are thresholded at 0.5 to convert them into binary predictions (preds = (outputs >= 0.5).float()). If the output probability is greater than or equal to 0.5, it’s considered a prediction of class 1, otherwise, it’s considered a prediction of class 0.\n",
    "\n",
    "import torch\n",
    "from torchmetrics import Accuracy\n",
    "\n",
    "# Set up binary accuracy metric\n",
    "acc = Accuracy(task='binary')\n",
    "\n",
    "net.eval()\n",
    "with torch.no_grad():\n",
    "    for features, labels in dataloader_test:\n",
    "        # Convert features to float32\n",
    "        features = features.float()\n",
    "        labels = labels.float()\n",
    "        # Get predicted probabilities for test data batch\n",
    "        outputs = net(features)\n",
    "        preds = (outputs >= 0.5).float()\n",
    "        acc(preds, labels.view(-1, 1))\n",
    "\n",
    "# Compute total test accuracy\n",
    "test_accuracy = acc.compute()\n",
    "print(f\"Test accuracy: {test_accuracy}\")"
   ]
  },
  {
   "cell_type": "code",
   "execution_count": 53,
   "id": "bb766c99-7ef0-44e4-8fea-c0e657855566",
   "metadata": {},
   "outputs": [],
   "source": [
    "class Net(nn.Module):\n",
    "    def __init__(self):\n",
    "        super(Net, self).__init__()\n",
    "        self.fc1 = nn.Linear(9, 16)\n",
    "        self.fc2 = nn.Linear(16, 8)\n",
    "        self.fc3 = nn.Linear(8, 1)\n",
    "        \n",
    "        # Apply He initialization\n",
    "        init.kaiming_uniform_(self.fc1.weight)\n",
    "        init.kaiming_uniform_(self.fc2.weight)\n",
    "        init.kaiming_uniform_(self.fc3.weight, nonlinearity=\"sigmoid\")\n",
    "\n",
    "    def forward(self, x):\n",
    "        # Update ReLU activation to ELU\n",
    "        x = nn.functional.elu(self.fc1(x))\n",
    "        x = nn.functional.elu(self.fc2(x))\n",
    "        x = nn.functional.sigmoid(self.fc3(x))\n",
    "        return x"
   ]
  },
  {
   "cell_type": "code",
   "execution_count": 54,
   "id": "b610e62f-327c-4a9e-b229-db4d163e35b7",
   "metadata": {},
   "outputs": [],
   "source": [
    "class Net(nn.Module):\n",
    "    def __init__(self):\n",
    "        super(Net, self).__init__()\n",
    "        self.fc1 = nn.Linear(9, 16)\n",
    "        self.fc2 = nn.Linear(16, 8)\n",
    "        self.fc3 = nn.Linear(8, 1)\n",
    "        # Add two batch normalization layers\n",
    "        self.bn1 = nn.BatchNorm1d(16)\n",
    "        self.bn2 = nn.BatchNorm1d(8)\n",
    "        \n",
    "        init.kaiming_uniform_(self.fc1.weight)\n",
    "        init.kaiming_uniform_(self.fc2.weight)\n",
    "        init.kaiming_uniform_(self.fc3.weight, nonlinearity=\"sigmoid\")\n",
    "    \n",
    "    def forward(self, x):\n",
    "        x = self.fc1(x)\n",
    "        x = self.bn1(x)\n",
    "        x = nn.functional.elu(x)\n",
    "\n",
    "        # Pass x through the second set of layers\n",
    "        x = self.fc2(x)\n",
    "        x = self.bn2(x)\n",
    "        x = nn.functional.elu(x)\n",
    "\n",
    "        x = nn.functional.sigmoid(self.fc3(x))\n",
    "        return x"
   ]
  },
  {
   "cell_type": "code",
   "execution_count": 55,
   "id": "3219ec6b-b1f0-4de2-864c-5c7ec3d28603",
   "metadata": {},
   "outputs": [
    {
     "name": "stdout",
     "output_type": "stream",
     "text": [
      "Training loss after 10 epochs: 0.6593251642377222\n"
     ]
    }
   ],
   "source": [
    "train_model(\n",
    "    optimizer=optimizer,\n",
    "    net=net,\n",
    "    num_epochs=10,\n",
    ")"
   ]
  },
  {
   "cell_type": "code",
   "execution_count": 56,
   "id": "592a3b85-7ca7-46dc-b5fb-193152cc844a",
   "metadata": {},
   "outputs": [
    {
     "name": "stdout",
     "output_type": "stream",
     "text": [
      "Test accuracy: 0.57444167137146\n"
     ]
    }
   ],
   "source": [
    "net.eval()\n",
    "with torch.no_grad():\n",
    "    for features, labels in dataloader_test:\n",
    "        # Convert features to float32\n",
    "        features = features.float()\n",
    "        labels = labels.float()\n",
    "        # Get predicted probabilities for test data batch\n",
    "        outputs = net(features)\n",
    "        preds = (outputs >= 0.5).float()\n",
    "        acc(preds, labels.view(-1, 1))\n",
    "\n",
    "# Compute total test accuracy\n",
    "test_accuracy = acc.compute()\n",
    "print(f\"Test accuracy: {test_accuracy}\")"
   ]
  },
  {
   "cell_type": "code",
   "execution_count": 57,
   "id": "e66f8259-b4a6-4442-ba1b-b4dfdcba8010",
   "metadata": {},
   "outputs": [
    {
     "data": {
      "text/plain": [
       "Compose(\n",
       "    ToTensor()\n",
       "    Resize(size=(128, 128), interpolation=bilinear, max_size=None, antialias=warn)\n",
       ")"
      ]
     },
     "execution_count": 57,
     "metadata": {},
     "output_type": "execute_result"
    }
   ],
   "source": [
    "from torchvision.datasets import ImageFolder\n",
    "from torchvision import transforms\n",
    "\n",
    "# Compose transformations\n",
    "train_transforms = transforms.Compose([\n",
    "    transforms.ToTensor(),\n",
    "    transforms.Resize((128, 128)),\n",
    "])\n",
    "\n",
    "train_transforms"
   ]
  },
  {
   "cell_type": "code",
   "execution_count": 58,
   "id": "1b6b112d-b9bc-4800-a1be-a0b62fb7b754",
   "metadata": {},
   "outputs": [
    {
     "data": {
      "text/plain": [
       "Dataset ImageFolder\n",
       "    Number of datapoints: 474\n",
       "    Root location: clouds_train\n",
       "    StandardTransform\n",
       "Transform: Compose(\n",
       "               ToTensor()\n",
       "               Resize(size=(128, 128), interpolation=bilinear, max_size=None, antialias=warn)\n",
       "           )"
      ]
     },
     "execution_count": 58,
     "metadata": {},
     "output_type": "execute_result"
    }
   ],
   "source": [
    "# Create Dataset using ImageFolder\n",
    "dataset_train = ImageFolder(\n",
    "    \"clouds_train\",\n",
    "    transform=train_transforms,\n",
    ")\n",
    "\n",
    "dataset_train"
   ]
  },
  {
   "cell_type": "code",
   "execution_count": 59,
   "id": "da20da83-c5d1-494f-af57-051db7bef265",
   "metadata": {},
   "outputs": [
    {
     "data": {
      "text/plain": [
       "Compose(\n",
       "    RandomHorizontalFlip(p=0.5)\n",
       "    RandomRotation(degrees=[-45.0, 45.0], interpolation=nearest, expand=False, fill=0)\n",
       "    ToTensor()\n",
       "    Resize(size=(128, 128), interpolation=bilinear, max_size=None, antialias=warn)\n",
       ")"
      ]
     },
     "execution_count": 59,
     "metadata": {},
     "output_type": "execute_result"
    }
   ],
   "source": [
    "train_transforms = transforms.Compose([\n",
    "    # Add horizontal flip and rotation\n",
    "    transforms.RandomHorizontalFlip(),\n",
    "    transforms.RandomRotation(45),\n",
    "    transforms.ToTensor(),\n",
    "    transforms.Resize((128, 128)),\n",
    "])\n",
    "train_transforms"
   ]
  },
  {
   "cell_type": "code",
   "execution_count": 60,
   "id": "40c759d0-1d97-470b-b996-8a154d723fec",
   "metadata": {},
   "outputs": [
    {
     "data": {
      "text/plain": [
       "Dataset ImageFolder\n",
       "    Number of datapoints: 474\n",
       "    Root location: clouds_train\n",
       "    StandardTransform\n",
       "Transform: Compose(\n",
       "               RandomHorizontalFlip(p=0.5)\n",
       "               RandomRotation(degrees=[-45.0, 45.0], interpolation=nearest, expand=False, fill=0)\n",
       "               ToTensor()\n",
       "               Resize(size=(128, 128), interpolation=bilinear, max_size=None, antialias=warn)\n",
       "           )"
      ]
     },
     "execution_count": 60,
     "metadata": {},
     "output_type": "execute_result"
    }
   ],
   "source": [
    "dataset_train = ImageFolder(\n",
    "  \"clouds_train\",\n",
    "  transform=train_transforms,\n",
    ")\n",
    "\n",
    "dataset_train"
   ]
  },
  {
   "cell_type": "code",
   "execution_count": 61,
   "id": "6b838f97-110c-4b14-9bd2-eabcce523a44",
   "metadata": {},
   "outputs": [
    {
     "data": {
      "text/plain": [
       "<torch.utils.data.dataloader.DataLoader at 0x23bda1364a0>"
      ]
     },
     "execution_count": 61,
     "metadata": {},
     "output_type": "execute_result"
    }
   ],
   "source": [
    "dataloader_train = DataLoader(\n",
    "  dataset_train, shuffle=True, batch_size=1\n",
    ")\n",
    "\n",
    "dataloader_train"
   ]
  },
  {
   "cell_type": "code",
   "execution_count": 66,
   "id": "7e3970c1-9b40-4153-a84b-0fee1931e874",
   "metadata": {},
   "outputs": [
    {
     "name": "stdout",
     "output_type": "stream",
     "text": [
      "torch.Size([1, 3, 128, 128])\n",
      "torch.Size([128, 128, 3])\n"
     ]
    }
   ],
   "source": [
    "image, label = next(iter(dataloader_train))\n",
    "# Reshape the image tensor\n",
    "print(image.shape)\n",
    "image = image.squeeze().permute(1, 2, 0)\n",
    "print(image.shape)\n"
   ]
  },
  {
   "cell_type": "code",
   "execution_count": 67,
   "id": "df380e2b-2ef2-438e-9a97-bcb0e4784dcf",
   "metadata": {},
   "outputs": [
    {
     "data": {
      "image/png": "[encoded data removed]",
      "text/plain": [
       "<Figure size 640x480 with 1 Axes>"
      ]
     },
     "metadata": {},
     "output_type": "display_data"
    }
   ],
   "source": [
    "import matplotlib.pyplot as plt\n",
    "\n",
    "# Display the image\n",
    "plt.imshow(image)\n",
    "plt.show()"
   ]
  },
  {
   "cell_type": "code",
   "execution_count": 68,
   "id": "9a461881-f185-49c9-9bdc-28f1fb003833",
   "metadata": {},
   "outputs": [],
   "source": [
    "class Net(nn.Module):\n",
    "    def __init__(self, num_classes):\n",
    "        super().__init__()\n",
    "        # Define feature extractor\n",
    "        self.feature_extractor = nn.Sequential(\n",
    "            nn.Conv2d(3, 32, kernel_size=3, padding=1),\n",
    "            nn.ELU(),\n",
    "            nn.MaxPool2d(kernel_size=2),\n",
    "            nn.Conv2d(32, 64, kernel_size=3, padding=1),\n",
    "            nn.ELU(),\n",
    "            nn.MaxPool2d(kernel_size=2),\n",
    "            nn.Flatten(),\n",
    "        )\n",
    "        # Define classifier\n",
    "        self.classifier = nn.Linear(64*16*16, num_classes)\n",
    "    \n",
    "    def forward(self, x):  \n",
    "        # Pass input through feature extractor and classifier\n",
    "        x = self.feature_extractor(x)\n",
    "        x = self.classifier(x)\n",
    "        return x"
   ]
  },
  {
   "cell_type": "code",
   "execution_count": 69,
   "id": "28873320-cc15-4ac5-b1b9-9c6841f1a467",
   "metadata": {},
   "outputs": [
    {
     "data": {
      "text/plain": [
       "Compose(\n",
       "    RandomHorizontalFlip(p=0.5)\n",
       "    RandomRotation(degrees=[-45.0, 45.0], interpolation=nearest, expand=False, fill=0)\n",
       "    RandomAutocontrast(p=0.5)\n",
       "    ToTensor()\n",
       "    Resize(size=(64, 64), interpolation=bilinear, max_size=None, antialias=warn)\n",
       ")"
      ]
     },
     "execution_count": 69,
     "metadata": {},
     "output_type": "execute_result"
    }
   ],
   "source": [
    "# Define transforms\n",
    "train_transforms = transforms.Compose([\n",
    "    transforms.RandomHorizontalFlip(),\n",
    "    transforms.RandomRotation(45),\n",
    "    transforms.RandomAutocontrast(),\n",
    "    transforms.ToTensor(),\n",
    "    transforms.Resize((64, 64))\n",
    "])\n",
    "\n",
    "train_transforms"
   ]
  },
  {
   "cell_type": "code",
   "execution_count": 70,
   "id": "b8fae61b-69e0-4915-83a7-82d3f6fd99f0",
   "metadata": {},
   "outputs": [
    {
     "data": {
      "text/plain": [
       "Dataset ImageFolder\n",
       "    Number of datapoints: 474\n",
       "    Root location: clouds_train\n",
       "    StandardTransform\n",
       "Transform: Compose(\n",
       "               RandomHorizontalFlip(p=0.5)\n",
       "               RandomRotation(degrees=[-45.0, 45.0], interpolation=nearest, expand=False, fill=0)\n",
       "               RandomAutocontrast(p=0.5)\n",
       "               ToTensor()\n",
       "               Resize(size=(64, 64), interpolation=bilinear, max_size=None, antialias=warn)\n",
       "           )"
      ]
     },
     "execution_count": 70,
     "metadata": {},
     "output_type": "execute_result"
    }
   ],
   "source": [
    "dataset_train = ImageFolder(\n",
    "  \"clouds_train\",\n",
    "  transform=train_transforms,\n",
    ")\n",
    "\n",
    "dataset_train"
   ]
  },
  {
   "cell_type": "code",
   "execution_count": 71,
   "id": "1d96d823-885c-4a47-b6f4-d27b0a1482f3",
   "metadata": {},
   "outputs": [
    {
     "data": {
      "text/plain": [
       "<torch.utils.data.dataloader.DataLoader at 0x23bda115930>"
      ]
     },
     "execution_count": 71,
     "metadata": {},
     "output_type": "execute_result"
    }
   ],
   "source": [
    "dataloader_train = DataLoader(\n",
    "  dataset_train, shuffle=True, batch_size=16\n",
    ")\n",
    "\n",
    "dataloader_train"
   ]
  },
  {
   "cell_type": "code",
   "execution_count": 72,
   "id": "e283cb7b-01fd-461d-949d-17025e6b2fa6",
   "metadata": {},
   "outputs": [
    {
     "name": "stdout",
     "output_type": "stream",
     "text": [
      "Running on device: cpu\n"
     ]
    }
   ],
   "source": [
    "device = torch.device('cuda' if torch.cuda.is_available() else 'cpu')\n",
    "print('Running on device:', device)"
   ]
  },
  {
   "cell_type": "code",
   "execution_count": 73,
   "id": "665a577b-c34d-4aa9-bade-7f0fe7cbb4ec",
   "metadata": {},
   "outputs": [
    {
     "data": {
      "text/plain": [
       "Net(\n",
       "  (feature_extractor): Sequential(\n",
       "    (0): Conv2d(3, 32, kernel_size=(3, 3), stride=(1, 1), padding=(1, 1))\n",
       "    (1): ELU(alpha=1.0)\n",
       "    (2): MaxPool2d(kernel_size=2, stride=2, padding=0, dilation=1, ceil_mode=False)\n",
       "    (3): Conv2d(32, 64, kernel_size=(3, 3), stride=(1, 1), padding=(1, 1))\n",
       "    (4): ELU(alpha=1.0)\n",
       "    (5): MaxPool2d(kernel_size=2, stride=2, padding=0, dilation=1, ceil_mode=False)\n",
       "    (6): Flatten(start_dim=1, end_dim=-1)\n",
       "  )\n",
       "  (classifier): Linear(in_features=16384, out_features=7, bias=True)\n",
       ")"
      ]
     },
     "execution_count": 73,
     "metadata": {},
     "output_type": "execute_result"
    }
   ],
   "source": [
    "# Define the model\n",
    "net = Net(num_classes=7)\n",
    "# Define the loss function\n",
    "criterion = nn.CrossEntropyLoss()\n",
    "# Define the optimizer\n",
    "optimizer = optim.Adam(net.parameters(), lr=0.001)\n",
    "\n",
    "net = net.to(device)\n",
    "net"
   ]
  },
  {
   "cell_type": "code",
   "execution_count": 76,
   "id": "c8db71dc-60b5-45f9-841e-926d6b99c4ec",
   "metadata": {},
   "outputs": [
    {
     "data": {
      "text/plain": [
       "(474, 30, 16, 480)"
      ]
     },
     "execution_count": 76,
     "metadata": {},
     "output_type": "execute_result"
    }
   ],
   "source": [
    "# The discrepancy between len(dataset_train) and len(dataloader_train)*dataloader_train.batch_size arises because the total number of samples (474) is not exactly divisible by the batch size (16). Therefore, the last batch contains fewer than 16 samples. This is why len(dataloader_train)*dataloader_train.batch_size (480) is slightly larger than len(dataset_train) (474). The difference (480 - 474 = 6) is the number of “empty” spots in the last batch.\n",
    "\n",
    "len(dataset_train), len(dataloader_train), dataloader_train.batch_size, len(dataloader_train)*dataloader_train.batch_size"
   ]
  },
  {
   "cell_type": "code",
   "execution_count": 75,
   "id": "cb66fba3-ccf1-441d-98b9-a8af3a4e4269",
   "metadata": {},
   "outputs": [],
   "source": [
    "# last_batch = None\n",
    "# for batch in dataloader_train:\n",
    "#     last_batch = batch\n",
    "\n",
    "# # Visualize the last batch\n",
    "# print(\"Last batch:\")\n",
    "# print(last_batch)"
   ]
  },
  {
   "cell_type": "code",
   "execution_count": 77,
   "id": "36daae77-44b1-42ed-9a97-250100672611",
   "metadata": {},
   "outputs": [
    {
     "name": "stdout",
     "output_type": "stream",
     "text": [
      "Epoch 1, Loss: 1.8312\n",
      "Epoch 2, Loss: 1.4578\n",
      "Epoch 3, Loss: 1.3232\n"
     ]
    }
   ],
   "source": [
    "for epoch in range(3):\n",
    "    running_loss = 0.0\n",
    "    # Iterate over training batches\n",
    "    for images, labels in dataloader_train: # iterate over the number of batches\n",
    "        images = images.to(device)  # Move images to GPU\n",
    "        labels = labels.to(device)  # Move labels to GPU\n",
    "        optimizer.zero_grad()\n",
    "        outputs = net.forward(images) # or net(images)\n",
    "        loss = criterion(outputs, labels)\n",
    "        loss.backward()\n",
    "        optimizer.step()\n",
    "        running_loss += loss.item()\n",
    "    \n",
    "    epoch_loss = running_loss / len(dataloader_train) # divides the epoch loss by the number of batches (average loss per batch per epoch)\n",
    "    print(f\"Epoch {epoch+1}, Loss: {epoch_loss:.4f}\")"
   ]
  },
  {
   "cell_type": "code",
   "execution_count": 78,
   "id": "96d9d8e5-56d5-49cd-bf76-a304a4891332",
   "metadata": {},
   "outputs": [
    {
     "name": "stdout",
     "output_type": "stream",
     "text": [
      "Model is on: cpu\n",
      "Data is on: cpu\n"
     ]
    }
   ],
   "source": [
    "# For your model\n",
    "print('Model is on:', next(net.parameters()).device)\n",
    "\n",
    "# For your data\n",
    "images, labels = images.to(device), labels.to(device)\n",
    "print('Data is on:', images.device)\n"
   ]
  },
  {
   "cell_type": "code",
   "execution_count": 79,
   "id": "6e402b6f-a778-4c27-a77f-a9a777f652bb",
   "metadata": {},
   "outputs": [
    {
     "data": {
      "text/plain": [
       "Compose(\n",
       "    Resize(size=(64, 64), interpolation=bilinear, max_size=None, antialias=warn)\n",
       "    ToTensor()\n",
       ")"
      ]
     },
     "execution_count": 79,
     "metadata": {},
     "output_type": "execute_result"
    }
   ],
   "source": [
    "test_transforms = transforms.Compose([\n",
    "    #\n",
    "    # NO DATA AUGMENTATION AT TEST TIME \n",
    "    transforms.Resize((64, 64)),\n",
    "    transforms.ToTensor()\n",
    "])\n",
    "\n",
    "test_transforms"
   ]
  },
  {
   "cell_type": "code",
   "execution_count": 80,
   "id": "2a7fce05-1da7-46ea-a8cd-29d4bd6a36ad",
   "metadata": {},
   "outputs": [
    {
     "data": {
      "text/plain": [
       "Dataset ImageFolder\n",
       "    Number of datapoints: 486\n",
       "    Root location: clouds_test\n",
       "    StandardTransform\n",
       "Transform: Compose(\n",
       "               Resize(size=(64, 64), interpolation=bilinear, max_size=None, antialias=warn)\n",
       "               ToTensor()\n",
       "           )"
      ]
     },
     "execution_count": 80,
     "metadata": {},
     "output_type": "execute_result"
    }
   ],
   "source": [
    "dataset_test = ImageFolder(\"clouds_test\",   transform=test_transforms,)\n",
    "dataset_test"
   ]
  },
  {
   "cell_type": "code",
   "execution_count": 81,
   "id": "fc86c91d-adac-47de-8c34-51591fe80d0c",
   "metadata": {},
   "outputs": [
    {
     "data": {
      "text/plain": [
       "<torch.utils.data.dataloader.DataLoader at 0x23bda1172e0>"
      ]
     },
     "execution_count": 81,
     "metadata": {},
     "output_type": "execute_result"
    }
   ],
   "source": [
    "dataloader_test = DataLoader(\n",
    "  dataset_test, shuffle=False, batch_size=16\n",
    ")\n",
    "\n",
    "dataloader_test"
   ]
  },
  {
   "cell_type": "code",
   "execution_count": 82,
   "id": "692b6c3a-e6f2-48d6-8c39-762ae8c80d5c",
   "metadata": {},
   "outputs": [
    {
     "data": {
      "text/plain": [
       "(MulticlassPrecision(), MulticlassRecall())"
      ]
     },
     "execution_count": 82,
     "metadata": {},
     "output_type": "execute_result"
    }
   ],
   "source": [
    "from torchmetrics import Precision, Recall\n",
    "\n",
    "# Define metrics\n",
    "# Macro-Averaging: Computes the metric independently for each class and then takes the average\n",
    "metric_precision = Precision(task=\"multiclass\", num_classes=7, average='macro').to(device)\n",
    "metric_recall = Recall(task=\"multiclass\", num_classes=7, average='macro').to(device)\n",
    "\n",
    "metric_precision, metric_recall"
   ]
  },
  {
   "cell_type": "code",
   "execution_count": 88,
   "id": "95ca7522-9ecc-4b54-9525-a7748d590cdb",
   "metadata": {},
   "outputs": [
    {
     "name": "stdout",
     "output_type": "stream",
     "text": [
      "Precision: 0.5519782900810242\n",
      "Recall: 0.6101225018501282\n"
     ]
    }
   ],
   "source": [
    "net.eval()\n",
    "with torch.no_grad(): # doesn't compute gradients at all\n",
    "    for images, labels in dataloader_test:\n",
    "        images = images.to(device)  # Move your inputs to the chosen device\n",
    "        labels = labels.to(device)  # Move your labels to the chosen device\n",
    "        outputs = net(images)\n",
    "        _, preds = torch.max(outputs, 1)\n",
    "        metric_precision(preds, labels)\n",
    "        metric_recall(preds, labels)\n",
    "\n",
    "precision = metric_precision.compute()\n",
    "recall = metric_recall.compute()\n",
    "print(f\"Precision: {precision}\")\n",
    "print(f\"Recall: {recall}\")"
   ]
  },
  {
   "cell_type": "code",
   "execution_count": 91,
   "id": "9ebbd16b-10d3-456c-803b-0bb55b38caa4",
   "metadata": {},
   "outputs": [
    {
     "name": "stdout",
     "output_type": "stream",
     "text": [
      "tensor([[-0.7051, -2.0169, -3.3364,  0.4006,  0.6421,  0.5967,  1.0991],\n",
      "        [-0.8751, -2.5912, -1.7577,  0.6899,  0.5138,  0.1761,  0.9242],\n",
      "        [-1.3479, -2.9352, -2.5830,  0.9649,  0.6310,  0.7327,  1.0581],\n",
      "        [-0.7791, -1.9929, -3.3755, -0.1955,  0.5306,  1.2414,  1.5676],\n",
      "        [-0.9777, -2.6790, -1.2758,  1.3021,  0.7525, -0.5227,  0.1873],\n",
      "        [-1.1739, -2.5428, -2.3195,  0.2962,  1.2064,  0.1311,  1.1149]])\n",
      "tensor([6, 6, 6, 6, 3, 4])\n",
      "tensor([6, 6, 6, 6, 6, 6])\n"
     ]
    }
   ],
   "source": [
    "# torch.max (above) Returns: Two tensors:\n",
    "# Values: The maximum values along the specified dimension (not used here, hence the _).\n",
    "# Indices: The indices of the maximum values, which correspond to the predicted class labels.\n",
    "# example with the last outputs and preds retrieved from the code above\n",
    "print(outputs)\n",
    "print(preds)\n",
    "print(labels)"
   ]
  },
  {
   "cell_type": "code",
   "execution_count": 92,
   "id": "e2dabe28-bd5b-44d6-921e-6ccd37c2325d",
   "metadata": {},
   "outputs": [],
   "source": [
    "# Define metrics\n",
    "# When you initialize the precision metric with average=None in torchmetrics, it calculates the precision per class.\n",
    "metric_precision = Precision(task=\"multiclass\", num_classes=7, average=None).to(device)"
   ]
  },
  {
   "cell_type": "code",
   "execution_count": 93,
   "id": "ac504b32-800b-40cc-a2c4-83f78bd529f0",
   "metadata": {},
   "outputs": [
    {
     "data": {
      "text/plain": [
       "tensor([0.0000, 0.8077, 0.6429, 0.4588, 0.4167, 0.8537, 0.6842])"
      ]
     },
     "execution_count": 93,
     "metadata": {},
     "output_type": "execute_result"
    }
   ],
   "source": [
    "net.eval()\n",
    "with torch.no_grad():\n",
    "    for images, labels in dataloader_test:\n",
    "        images = images.to(device)  # Move your inputs to the chosen device\n",
    "        labels = labels.to(device)  # Move your labels to the chosen device\n",
    "        outputs = net(images)\n",
    "        _, preds = torch.max(outputs, 1)\n",
    "        metric_precision(preds, labels)\n",
    "        \n",
    "precision = metric_precision.compute()\n",
    "precision # visualize the precision for all 7 classes\n"
   ]
  },
  {
   "cell_type": "code",
   "execution_count": 94,
   "id": "2242477d-2bae-415c-9fd1-d79c85cacffb",
   "metadata": {},
   "outputs": [
    {
     "data": {
      "text/plain": [
       "(tensor(0.), 0.0)"
      ]
     },
     "execution_count": 94,
     "metadata": {},
     "output_type": "execute_result"
    }
   ],
   "source": [
    "precision[0], precision[0].item()"
   ]
  },
  {
   "cell_type": "code",
   "execution_count": 95,
   "id": "b8b5156e-fd32-4dc6-852a-d3786a0155c7",
   "metadata": {},
   "outputs": [
    {
     "data": {
      "text/plain": [
       "dict_items([('cirriform clouds', 0), ('clear sky', 1), ('cumulonimbus clouds', 2), ('cumulus clouds', 3), ('high cumuliform clouds', 4), ('stratiform clouds', 5), ('stratocumulus clouds', 6)])"
      ]
     },
     "execution_count": 95,
     "metadata": {},
     "output_type": "execute_result"
    }
   ],
   "source": [
    "dataset_test.class_to_idx.items() # used to access the mapping of class names to their corresponding indices in a dataset"
   ]
  },
  {
   "cell_type": "code",
   "execution_count": 96,
   "id": "90accb0f-c583-4b6b-9fa9-198c07288f29",
   "metadata": {},
   "outputs": [
    {
     "name": "stdout",
     "output_type": "stream",
     "text": [
      "{'cirriform clouds': 0.0, 'clear sky': 0.807692289352417, 'cumulonimbus clouds': 0.6428571343421936, 'cumulus clouds': 0.45876288414001465, 'high cumuliform clouds': 0.4166666567325592, 'stratiform clouds': 0.8536585569381714, 'stratocumulus clouds': 0.6842105388641357}\n"
     ]
    }
   ],
   "source": [
    "# Get precision per class\n",
    "precision_per_class = {\n",
    "    k: precision[v].item()\n",
    "    for k, v \n",
    "    in dataset_test.class_to_idx.items()\n",
    "}\n",
    "\n",
    "print(precision_per_class)"
   ]
  },
  {
   "cell_type": "code",
   "execution_count": 97,
   "id": "ec087a48-9e9d-46a8-a3af-99de04318023",
   "metadata": {},
   "outputs": [],
   "source": [
    "# Sequential Data\n",
    "\n",
    "import numpy as np\n",
    "\n",
    "def create_sequences(df, seq_length):\n",
    "    xs, ys = [], []\n",
    "    # Iterate over data indices\n",
    "    for i in range(len(df) - seq_length):\n",
    "        # Define inputs\n",
    "        x = df.iloc[i:(i+seq_length), 1]\n",
    "        # Define target\n",
    "        y = df.iloc[i+seq_length, 1]\n",
    "        xs.append(x)\n",
    "        ys.append(y)\n",
    "    return np.array(xs), np.array(ys)"
   ]
  },
  {
   "cell_type": "code",
   "execution_count": 99,
   "id": "861afe7c-6405-49ba-9643-4c7f1811d017",
   "metadata": {},
   "outputs": [
    {
     "data": {
      "text/html": [
       "<div>\n",
       "<style scoped>\n",
       "    .dataframe tbody tr th:only-of-type {\n",
       "        vertical-align: middle;\n",
       "    }\n",
       "\n",
       "    .dataframe tbody tr th {\n",
       "        vertical-align: top;\n",
       "    }\n",
       "\n",
       "    .dataframe thead th {\n",
       "        text-align: right;\n",
       "    }\n",
       "</style>\n",
       "<table border=\"1\" class=\"dataframe\">\n",
       "  <thead>\n",
       "    <tr style=\"text-align: right;\">\n",
       "      <th></th>\n",
       "      <th>timestamp</th>\n",
       "      <th>consumption</th>\n",
       "    </tr>\n",
       "  </thead>\n",
       "  <tbody>\n",
       "    <tr>\n",
       "      <th>0</th>\n",
       "      <td>2011-01-01 00:15:00</td>\n",
       "      <td>-0.704319</td>\n",
       "    </tr>\n",
       "    <tr>\n",
       "      <th>1</th>\n",
       "      <td>2011-01-01 00:30:00</td>\n",
       "      <td>-0.704319</td>\n",
       "    </tr>\n",
       "    <tr>\n",
       "      <th>2</th>\n",
       "      <td>2011-01-01 00:45:00</td>\n",
       "      <td>-0.678983</td>\n",
       "    </tr>\n",
       "    <tr>\n",
       "      <th>3</th>\n",
       "      <td>2011-01-01 01:00:00</td>\n",
       "      <td>-0.653647</td>\n",
       "    </tr>\n",
       "    <tr>\n",
       "      <th>4</th>\n",
       "      <td>2011-01-01 01:15:00</td>\n",
       "      <td>-0.704319</td>\n",
       "    </tr>\n",
       "    <tr>\n",
       "      <th>...</th>\n",
       "      <td>...</td>\n",
       "      <td>...</td>\n",
       "    </tr>\n",
       "    <tr>\n",
       "      <th>105210</th>\n",
       "      <td>2013-12-31 22:45:00</td>\n",
       "      <td>-0.932595</td>\n",
       "    </tr>\n",
       "    <tr>\n",
       "      <th>105211</th>\n",
       "      <td>2013-12-31 23:00:00</td>\n",
       "      <td>-0.907259</td>\n",
       "    </tr>\n",
       "    <tr>\n",
       "      <th>105212</th>\n",
       "      <td>2013-12-31 23:15:00</td>\n",
       "      <td>-0.932595</td>\n",
       "    </tr>\n",
       "    <tr>\n",
       "      <th>105213</th>\n",
       "      <td>2013-12-31 23:30:00</td>\n",
       "      <td>-0.932595</td>\n",
       "    </tr>\n",
       "    <tr>\n",
       "      <th>105214</th>\n",
       "      <td>2013-12-31 23:45:00</td>\n",
       "      <td>-0.932595</td>\n",
       "    </tr>\n",
       "  </tbody>\n",
       "</table>\n",
       "<p>105215 rows × 2 columns</p>\n",
       "</div>"
      ],
      "text/plain": [
       "                  timestamp  consumption\n",
       "0       2011-01-01 00:15:00    -0.704319\n",
       "1       2011-01-01 00:30:00    -0.704319\n",
       "2       2011-01-01 00:45:00    -0.678983\n",
       "3       2011-01-01 01:00:00    -0.653647\n",
       "4       2011-01-01 01:15:00    -0.704319\n",
       "...                     ...          ...\n",
       "105210  2013-12-31 22:45:00    -0.932595\n",
       "105211  2013-12-31 23:00:00    -0.907259\n",
       "105212  2013-12-31 23:15:00    -0.932595\n",
       "105213  2013-12-31 23:30:00    -0.932595\n",
       "105214  2013-12-31 23:45:00    -0.932595\n",
       "\n",
       "[105215 rows x 2 columns]"
      ]
     },
     "execution_count": 99,
     "metadata": {},
     "output_type": "execute_result"
    }
   ],
   "source": [
    "train_data = pd.read_csv('electricity_consump/electricity_train.csv')\n",
    "\n",
    "train_data\n"
   ]
  },
  {
   "cell_type": "code",
   "execution_count": 100,
   "id": "5ab7255e-f685-4c93-b559-2697bb8ea93f",
   "metadata": {},
   "outputs": [
    {
     "data": {
      "text/html": [
       "<div>\n",
       "<style scoped>\n",
       "    .dataframe tbody tr th:only-of-type {\n",
       "        vertical-align: middle;\n",
       "    }\n",
       "\n",
       "    .dataframe tbody tr th {\n",
       "        vertical-align: top;\n",
       "    }\n",
       "\n",
       "    .dataframe thead th {\n",
       "        text-align: right;\n",
       "    }\n",
       "</style>\n",
       "<table border=\"1\" class=\"dataframe\">\n",
       "  <thead>\n",
       "    <tr style=\"text-align: right;\">\n",
       "      <th></th>\n",
       "      <th>timestamp</th>\n",
       "      <th>consumption</th>\n",
       "    </tr>\n",
       "  </thead>\n",
       "  <tbody>\n",
       "    <tr>\n",
       "      <th>0</th>\n",
       "      <td>2014-01-01 00:00:00</td>\n",
       "      <td>-0.932595</td>\n",
       "    </tr>\n",
       "    <tr>\n",
       "      <th>1</th>\n",
       "      <td>2014-01-01 00:15:00</td>\n",
       "      <td>-0.957931</td>\n",
       "    </tr>\n",
       "    <tr>\n",
       "      <th>2</th>\n",
       "      <td>2014-01-01 00:30:00</td>\n",
       "      <td>-0.932595</td>\n",
       "    </tr>\n",
       "    <tr>\n",
       "      <th>3</th>\n",
       "      <td>2014-01-01 00:45:00</td>\n",
       "      <td>-0.907259</td>\n",
       "    </tr>\n",
       "    <tr>\n",
       "      <th>4</th>\n",
       "      <td>2014-01-01 01:00:00</td>\n",
       "      <td>-0.881923</td>\n",
       "    </tr>\n",
       "    <tr>\n",
       "      <th>...</th>\n",
       "      <td>...</td>\n",
       "      <td>...</td>\n",
       "    </tr>\n",
       "    <tr>\n",
       "      <th>35035</th>\n",
       "      <td>2014-12-31 22:45:00</td>\n",
       "      <td>-0.070415</td>\n",
       "    </tr>\n",
       "    <tr>\n",
       "      <th>35036</th>\n",
       "      <td>2014-12-31 23:00:00</td>\n",
       "      <td>-0.045079</td>\n",
       "    </tr>\n",
       "    <tr>\n",
       "      <th>35037</th>\n",
       "      <td>2014-12-31 23:15:00</td>\n",
       "      <td>-0.045079</td>\n",
       "    </tr>\n",
       "    <tr>\n",
       "      <th>35038</th>\n",
       "      <td>2014-12-31 23:30:00</td>\n",
       "      <td>-0.045079</td>\n",
       "    </tr>\n",
       "    <tr>\n",
       "      <th>35039</th>\n",
       "      <td>2014-12-31 23:45:00</td>\n",
       "      <td>-0.095751</td>\n",
       "    </tr>\n",
       "  </tbody>\n",
       "</table>\n",
       "<p>35040 rows × 2 columns</p>\n",
       "</div>"
      ],
      "text/plain": [
       "                 timestamp  consumption\n",
       "0      2014-01-01 00:00:00    -0.932595\n",
       "1      2014-01-01 00:15:00    -0.957931\n",
       "2      2014-01-01 00:30:00    -0.932595\n",
       "3      2014-01-01 00:45:00    -0.907259\n",
       "4      2014-01-01 01:00:00    -0.881923\n",
       "...                    ...          ...\n",
       "35035  2014-12-31 22:45:00    -0.070415\n",
       "35036  2014-12-31 23:00:00    -0.045079\n",
       "35037  2014-12-31 23:15:00    -0.045079\n",
       "35038  2014-12-31 23:30:00    -0.045079\n",
       "35039  2014-12-31 23:45:00    -0.095751\n",
       "\n",
       "[35040 rows x 2 columns]"
      ]
     },
     "execution_count": 100,
     "metadata": {},
     "output_type": "execute_result"
    }
   ],
   "source": [
    "test_data = pd.read_csv('electricity_consump/electricity_test.csv')\n",
    "\n",
    "test_data"
   ]
  },
  {
   "cell_type": "code",
   "execution_count": 101,
   "id": "1dc25a33-6d07-40ca-9daf-01b218e3a08e",
   "metadata": {},
   "outputs": [
    {
     "name": "stdout",
     "output_type": "stream",
     "text": [
      "(105119, 96) (105119,)\n"
     ]
    }
   ],
   "source": [
    "import torch\n",
    "from torch.utils.data import TensorDataset\n",
    "\n",
    "# Use create_sequences to create train inputs and targets\n",
    "X_train, y_train = create_sequences(train_data, 24*4) # a record every 15 minutes\n",
    "print(X_train.shape, y_train.shape)\n",
    "\n"
   ]
  },
  {
   "cell_type": "code",
   "execution_count": 103,
   "id": "e862f630-4ff4-4a78-96aa-fade0a72d756",
   "metadata": {},
   "outputs": [
    {
     "name": "stdout",
     "output_type": "stream",
     "text": [
      "(34944, 96) (34944,)\n"
     ]
    }
   ],
   "source": [
    "# Use create_sequences to create test inputs and targets\n",
    "X_test, y_test = create_sequences(test_data, 24*4) # a record every 15 minutes\n",
    "print(X_test.shape, y_test.shape)"
   ]
  },
  {
   "cell_type": "code",
   "execution_count": 104,
   "id": "b71b364e-ad57-41a3-a34a-1e0220b9fc45",
   "metadata": {},
   "outputs": [
    {
     "name": "stdout",
     "output_type": "stream",
     "text": [
      "105119\n"
     ]
    },
    {
     "data": {
      "text/plain": [
       "(array([[-0.70431852, -0.70431852, -0.67898263, ..., -0.65364675,\n",
       "         -0.72990776, -0.70431852],\n",
       "        [-0.70431852, -0.67898263, -0.65364675, ..., -0.72990776,\n",
       "         -0.70431852, -0.70431852],\n",
       "        [-0.67898263, -0.65364675, -0.70431852, ..., -0.70431852,\n",
       "         -0.70431852, -0.70431852],\n",
       "        ...,\n",
       "        [ 0.79759271,  0.82292859,  0.84826447, ..., -0.93259484,\n",
       "         -0.93259484, -0.90725895],\n",
       "        [ 0.82292859,  0.84826447,  0.77200346, ..., -0.93259484,\n",
       "         -0.90725895, -0.93259484],\n",
       "        [ 0.84826447,  0.77200346,  0.72133169, ..., -0.90725895,\n",
       "         -0.93259484, -0.93259484]]),\n",
       " array([-0.70431852, -0.70431852, -0.65364675, ..., -0.93259484,\n",
       "        -0.93259484, -0.93259484]))"
      ]
     },
     "execution_count": 104,
     "metadata": {},
     "output_type": "execute_result"
    }
   ],
   "source": [
    "# Create TensorDataset train\n",
    "dataset_train = TensorDataset(\n",
    "    torch.from_numpy(X_train).float(),\n",
    "    torch.from_numpy(y_train).float(),\n",
    ")\n",
    "print(len(dataset_train))\n",
    "\n",
    "X_train, y_train"
   ]
  },
  {
   "cell_type": "code",
   "execution_count": 105,
   "id": "f322429c-b316-4639-bb2b-747cdbe8a5a7",
   "metadata": {},
   "outputs": [
    {
     "name": "stdout",
     "output_type": "stream",
     "text": [
      "34944\n"
     ]
    },
    {
     "data": {
      "text/plain": [
       "(array([[-0.93259484, -0.95793072, -0.93259484, ..., -0.93259484,\n",
       "         -0.93259484, -0.93259484],\n",
       "        [-0.95793072, -0.93259484, -0.90725895, ..., -0.93259484,\n",
       "         -0.93259484, -0.93259484],\n",
       "        [-0.93259484, -0.90725895, -0.88192307, ..., -0.93259484,\n",
       "         -0.93259484, -0.93259484],\n",
       "        ...,\n",
       "        [ 0.92452549,  0.95011473,  0.8991896 , ..., -0.07041469,\n",
       "         -0.07041469, -0.04507881],\n",
       "        [ 0.95011473,  0.8991896 ,  0.95011473, ..., -0.07041469,\n",
       "         -0.04507881, -0.04507881],\n",
       "        [ 0.8991896 ,  0.95011473,  0.97545061, ..., -0.04507881,\n",
       "         -0.04507881, -0.04507881]]),\n",
       " array([-0.93259484, -0.93259484, -0.93259484, ..., -0.04507881,\n",
       "        -0.04507881, -0.09575058]))"
      ]
     },
     "execution_count": 105,
     "metadata": {},
     "output_type": "execute_result"
    }
   ],
   "source": [
    "# Create TensorDataset test\n",
    "dataset_test = TensorDataset(\n",
    "    torch.from_numpy(X_test).float(),\n",
    "    torch.from_numpy(y_test).float(),\n",
    ")\n",
    "print(len(dataset_test))\n",
    "\n",
    "X_test, y_test"
   ]
  },
  {
   "cell_type": "code",
   "execution_count": 106,
   "id": "302b2809-51b9-422d-9dfa-d9eee27e1e69",
   "metadata": {},
   "outputs": [
    {
     "data": {
      "text/plain": [
       "<torch.utils.data.dataloader.DataLoader at 0x23bdf8fd150>"
      ]
     },
     "execution_count": 106,
     "metadata": {},
     "output_type": "execute_result"
    }
   ],
   "source": [
    "# Create a DataLoader based on dataset_train\n",
    "dataloader_train = DataLoader(\n",
    "    dataset_train,\n",
    "    batch_size=16,\n",
    "    shuffle=True,\n",
    ")\n",
    "\n",
    "dataloader_train"
   ]
  },
  {
   "cell_type": "code",
   "execution_count": 107,
   "id": "2b673c63-3b66-430b-a7d7-a4d6f425881d",
   "metadata": {},
   "outputs": [
    {
     "data": {
      "text/plain": [
       "<torch.utils.data.dataloader.DataLoader at 0x23bdf8fe8c0>"
      ]
     },
     "execution_count": 107,
     "metadata": {},
     "output_type": "execute_result"
    }
   ],
   "source": [
    "# Create a DataLoader based on dataset_test\n",
    "dataloader_test = DataLoader(\n",
    "    dataset_test,\n",
    "    batch_size=16,\n",
    "    shuffle=False,\n",
    ")\n",
    "\n",
    "dataloader_test"
   ]
  },
  {
   "cell_type": "code",
   "execution_count": 108,
   "id": "39632695-d2f9-410c-b78b-0f1487fda296",
   "metadata": {},
   "outputs": [
    {
     "name": "stdout",
     "output_type": "stream",
     "text": [
      "Sequences shape:  torch.Size([16, 96])\n",
      "Labels shape:  torch.Size([16])\n"
     ]
    }
   ],
   "source": [
    "for seqs1, labels1 in dataloader_test:\n",
    "    print(\"Sequences shape: \", seqs1.shape)\n",
    "    print(\"Labels shape: \", labels1.shape)\n",
    "    break  # remove this line if you want to print shapes for all batches"
   ]
  },
  {
   "cell_type": "code",
   "execution_count": 110,
   "id": "baabdcab-8662-44a9-ae82-994bd8b5f4ee",
   "metadata": {},
   "outputs": [
    {
     "name": "stdout",
     "output_type": "stream",
     "text": [
      "Sequences shape:  torch.Size([16, 96])\n",
      "Labels shape:  torch.Size([16])\n",
      "16 96\n"
     ]
    }
   ],
   "source": [
    "for seqs1, labels1 in dataloader_train:\n",
    "    print(\"Sequences shape: \", seqs1.shape)\n",
    "    print(\"Labels shape: \", labels1.shape)\n",
    "    print(seqs1.size(0), seqs1.size(1))\n",
    "    break  # remove this line if you want to print shapes for all batches"
   ]
  },
  {
   "cell_type": "code",
   "execution_count": 111,
   "id": "f1c9562d-5cb2-4b78-b48a-0926b229560f",
   "metadata": {},
   "outputs": [],
   "source": [
    "# This Net class is a simple implementation of a Recurrent Neural Network (RNN) using PyTorch. It’s designed to take a sequence of numbers as input and return a single output number. The RNN layer processes the sequence, and the final output of this sequence is then passed through a fully connected (Linear) layer to get the final output. The number of features in the hidden state of the RNN is 32, and there are 2 stacked RNNs (i.e., num_layers=2). The batch size is determined by the size of the input x. The initial hidden state is initialized with zeros. The output of the RNN layer is the sequence of hidden states at each time step. The last hidden state of this sequence (i.e., out[:, -1, :]) is passed through the fully connected layer to get the final output. This is a common pattern in sequence-to-one RNNs, where we only care about the output at the final time step. The fully connected layer transforms the RNN output to the desired output size (in this case, 1).\n",
    "\n",
    "\n",
    "# Importing the necessary libraries\n",
    "import torch\n",
    "import torch.nn as nn\n",
    "\n",
    "# Define the class 'Net' which inherits from 'nn.Module'\n",
    "class Net_RNN(nn.Module):\n",
    "    def __init__(self):\n",
    "        # Call the parent constructor. Necessary for PyTorch to detect this class as a custom module.\n",
    "        super().__init__()\n",
    "\n",
    "        # Define a Recurrent Neural Network (RNN) layer\n",
    "        # input_size=1: The number of expected features in the input x\n",
    "        # hidden_size=32: The number of features in the hidden state h\n",
    "        # num_layers=2: Number of recurrent layers (i.e., 2 stacked RNNs)\n",
    "        # batch_first=True: Whether the first dimension of input represents batch size\n",
    "        self.rnn = nn.RNN(\n",
    "            input_size=1, \n",
    "            hidden_size=32,\n",
    "            num_layers=2,\n",
    "            batch_first=True, # In PyTorch, the input to an RNN is a 3D tensor with dimensions defined as follows:\n",
    "                            # If batch_first=True, the dimensions are (batch_size, sequence_length, input_size).\n",
    "                        # If batch_first=False (which is the default), the dimensions are (sequence_length, batch_size, input_size).\n",
    "        )\n",
    "\n",
    "        # Define a fully connected layer (Linear layer)\n",
    "        # It will connect the RNN layer to the output layer\n",
    "        # 32: The size of each input sample (i.e., the hidden size of the RNN)\n",
    "        # 1: The size of each output sample\n",
    "        self.fc = nn.Linear(32, 1)\n",
    "\n",
    "    def forward(self, x):\n",
    "        # Forward propagation function\n",
    "\n",
    "        # Initialize the first hidden state with zeros\n",
    "        # 2: The number of layers in the RNN\n",
    "        # x.size(0): The batch size (i.e., the number of samples per batch)\n",
    "        # 32: The hidden size of the RNN\n",
    "        h0 = torch.zeros(2, x.size(0), 32) # x.size(0) returns the size of the first dimension of x, which is the batch size (i.e., the number of sequences in the batch). \n",
    "\n",
    "        # Pass the input 'x' and initial hidden states 'h0' through the RNN layer\n",
    "        # The RNN layer returns the output and the last hidden state\n",
    "        # We don't need the last hidden state, so we ignore it with '_'\n",
    "        out, _ = self.rnn(x, h0)\n",
    "\n",
    "        # Pass the output of the RNN layer through the fully connected (Linear) layer\n",
    "        # We only want the last time step, so we use 'out[:, -1, :]'\n",
    "        out = self.fc(out[:, -1, :])\n",
    "\n",
    "        # Return the final output\n",
    "        return out\n"
   ]
  },
  {
   "cell_type": "code",
   "execution_count": 113,
   "id": "535e71ca-02ef-45ae-a574-8f3e129895e8",
   "metadata": {},
   "outputs": [
    {
     "data": {
      "text/plain": [
       "Net_RNN(\n",
       "  (rnn): RNN(1, 32, num_layers=2, batch_first=True)\n",
       "  (fc): Linear(in_features=32, out_features=1, bias=True)\n",
       ")"
      ]
     },
     "execution_count": 113,
     "metadata": {},
     "output_type": "execute_result"
    }
   ],
   "source": [
    "# Create an instance of your class\n",
    "net = Net_RNN()\n",
    "\n",
    "net"
   ]
  },
  {
   "cell_type": "code",
   "execution_count": 114,
   "id": "7fc319d6-c690-4825-8168-5ed28338a721",
   "metadata": {},
   "outputs": [
    {
     "data": {
      "text/plain": [
       "tensor([[[ 1.6122],\n",
       "         [ 0.2647],\n",
       "         [-0.7936],\n",
       "         [-1.1446],\n",
       "         [ 1.2699]],\n",
       "\n",
       "        [[-0.4193],\n",
       "         [ 0.5442],\n",
       "         [-0.1711],\n",
       "         [ 0.3101],\n",
       "         [-0.1650]],\n",
       "\n",
       "        [[-0.4799],\n",
       "         [ 1.5505],\n",
       "         [-0.1157],\n",
       "         [ 1.3549],\n",
       "         [-0.7061]],\n",
       "\n",
       "        [[ 1.1274],\n",
       "         [ 0.1590],\n",
       "         [ 2.2384],\n",
       "         [-0.8105],\n",
       "         [ 0.5175]],\n",
       "\n",
       "        [[-0.5689],\n",
       "         [-0.9515],\n",
       "         [-1.4914],\n",
       "         [ 0.6833],\n",
       "         [-0.7102]],\n",
       "\n",
       "        [[ 0.5864],\n",
       "         [-0.3258],\n",
       "         [-1.1558],\n",
       "         [-0.7071],\n",
       "         [ 1.8347]],\n",
       "\n",
       "        [[ 1.3406],\n",
       "         [-0.9099],\n",
       "         [ 0.9877],\n",
       "         [ 0.6303],\n",
       "         [-0.5670]],\n",
       "\n",
       "        [[-0.0657],\n",
       "         [ 0.2941],\n",
       "         [-1.3596],\n",
       "         [ 1.0792],\n",
       "         [-0.5512]],\n",
       "\n",
       "        [[ 1.9293],\n",
       "         [-1.0001],\n",
       "         [-0.9097],\n",
       "         [ 0.0598],\n",
       "         [-0.4854]],\n",
       "\n",
       "        [[ 0.4494],\n",
       "         [-0.8370],\n",
       "         [-1.8607],\n",
       "         [ 0.3953],\n",
       "         [ 0.5739]]])"
      ]
     },
     "execution_count": 114,
     "metadata": {},
     "output_type": "execute_result"
    }
   ],
   "source": [
    "# Create some random input data\n",
    "x = torch.randn(10, 5, 1)  # batch_size=10, sequence_length=5, input_size=1\n",
    "\n",
    "x"
   ]
  },
  {
   "cell_type": "code",
   "execution_count": 115,
   "id": "63310744-e036-450d-9af3-5e394908c008",
   "metadata": {},
   "outputs": [
    {
     "data": {
      "text/plain": [
       "tensor([[ 0.0312],\n",
       "        [-0.0729],\n",
       "        [-0.1295],\n",
       "        [ 0.0092],\n",
       "        [-0.0777],\n",
       "        [ 0.0481],\n",
       "        [-0.0418],\n",
       "        [-0.0972],\n",
       "        [-0.0299],\n",
       "        [-0.0163]], grad_fn=<AddmmBackward0>)"
      ]
     },
     "execution_count": 115,
     "metadata": {},
     "output_type": "execute_result"
    }
   ],
   "source": [
    "# Pass the input data through your network\n",
    "output = net(x)\n",
    "\n",
    "output"
   ]
  },
  {
   "cell_type": "code",
   "execution_count": 116,
   "id": "a5abe9cc-cf23-473d-a1a5-611a9454c9e0",
   "metadata": {},
   "outputs": [],
   "source": [
    "#GRU\n",
    "\n",
    "class Net_GRU(nn.Module):\n",
    "    def __init__(self):\n",
    "        super().__init__()\n",
    "        # Define RNN layer\n",
    "        self.gru = nn.GRU(\n",
    "            input_size=1,\n",
    "            hidden_size=32,\n",
    "            num_layers=2,\n",
    "            batch_first=True,\n",
    "        )\n",
    "        self.fc = nn.Linear(32, 1)\n",
    "\n",
    "    def forward(self, x):\n",
    "        h0 = torch.zeros(2, x.size(0), 32)\n",
    "        out, _ = self.gru(x, h0)  \n",
    "        out = self.fc(out[:, -1, :])\n",
    "        return out"
   ]
  },
  {
   "cell_type": "code",
   "execution_count": 117,
   "id": "1011445a-a29d-4569-92b4-eee88f3121d8",
   "metadata": {},
   "outputs": [],
   "source": [
    "#LSTM\n",
    "\n",
    "class Net_LSTM(nn.Module):\n",
    "    def __init__(self, input_size):\n",
    "        super().__init__()\n",
    "        # Define lstm layer\n",
    "        self.lstm = nn.LSTM(\n",
    "            input_size=input_size,\n",
    "            hidden_size=32,\n",
    "            num_layers=2,\n",
    "            batch_first=True,\n",
    "        )\n",
    "        self.fc = nn.Linear(32, 1)\n",
    "\n",
    "    def forward(self, x):\n",
    "        h0 = torch.zeros(2, x.size(0), 32)\n",
    "        # Initialize long-term memory\n",
    "        c0 = torch.zeros(2, x.size(0), 32)\n",
    "        # Pass all inputs to lstm layer\n",
    "        out, _ = self.lstm(x, (h0,c0))\n",
    "        out = self.fc(out[:, -1, :])\n",
    "        return out"
   ]
  },
  {
   "cell_type": "code",
   "execution_count": 118,
   "id": "313863f1-83af-42d9-af45-4127567e078b",
   "metadata": {},
   "outputs": [],
   "source": [
    "net_l = Net_LSTM(input_size=1)\n",
    "# Set up MSE loss\n",
    "criterion = nn.MSELoss()\n",
    "optimizer = optim.Adam(\n",
    "  net.parameters(), lr=0.0001\n",
    ")"
   ]
  },
  {
   "cell_type": "code",
   "execution_count": 119,
   "id": "d93f189a-7940-4191-afe6-9f515f82b6a2",
   "metadata": {},
   "outputs": [
    {
     "name": "stderr",
     "output_type": "stream",
     "text": [
      "C:\\Users\\Alienware\\miniconda3\\envs\\py310\\lib\\site-packages\\torch\\nn\\modules\\loss.py:535: UserWarning: Using a target size (torch.Size([16])) that is different to the input size (torch.Size([16, 1])). This will likely lead to incorrect results due to broadcasting. Please ensure they have the same size.\n",
      "  return F.mse_loss(input, target, reduction=self.reduction)\n",
      "C:\\Users\\Alienware\\miniconda3\\envs\\py310\\lib\\site-packages\\torch\\nn\\modules\\loss.py:535: UserWarning: Using a target size (torch.Size([15])) that is different to the input size (torch.Size([15, 1])). This will likely lead to incorrect results due to broadcasting. Please ensure they have the same size.\n",
      "  return F.mse_loss(input, target, reduction=self.reduction)\n"
     ]
    },
    {
     "name": "stdout",
     "output_type": "stream",
     "text": [
      "Epoch 1, Loss: 1.1222668886184692\n",
      "Epoch 2, Loss: 1.3604766130447388\n",
      "Epoch 3, Loss: 1.1014196872711182\n"
     ]
    }
   ],
   "source": [
    "for epoch in range(3):\n",
    "    for seqs, labels in dataloader_train:\n",
    "        # Reshape model inputs\n",
    "        # seqs = seqs.view(16, 96, 1)\n",
    "        seqs = seqs.view(seqs.size(0), seqs.size(1), 1)\n",
    "        # Get model outputs\n",
    "        outputs = net_l(seqs)\n",
    "        # Compute loss\n",
    "        loss = criterion(outputs, labels)\n",
    "        optimizer.zero_grad()\n",
    "        loss.backward()\n",
    "        optimizer.step()\n",
    "    print(f\"Epoch {epoch+1}, Loss: {loss.item()}\")"
   ]
  },
  {
   "cell_type": "code",
   "execution_count": null,
   "id": "698876d9-1d89-4c08-8c74-56a84a365e28",
   "metadata": {},
   "outputs": [],
   "source": [
    "# net_g = Net_GRU()\n",
    "# # Set up MSE loss\n",
    "# criterion = nn.MSELoss()\n",
    "# optimizer = optim.Adam(\n",
    "#   net.parameters(), lr=0.0001\n",
    "# )"
   ]
  },
  {
   "cell_type": "code",
   "execution_count": null,
   "id": "4966dc2e-8a52-48ae-9d95-a3f567265823",
   "metadata": {},
   "outputs": [],
   "source": [
    "# for epoch in range(3):\n",
    "#     for seqs, labels in dataloader_train:\n",
    "#         # Reshape model inputs\n",
    "#         # seqs = seqs.view(16, 96, 1)\n",
    "#         seqs = seqs.view(seqs.size(0), seqs.size(1), 1)\n",
    "#         # Get model outputs\n",
    "#         outputs = net_g(seqs)\n",
    "#         # Compute loss\n",
    "#         loss = criterion(outputs, labels)\n",
    "#         optimizer.zero_grad()\n",
    "#         loss.backward()\n",
    "#         optimizer.step()\n",
    "#     print(f\"Epoch {epoch+1}, Loss: {loss.item()}\")"
   ]
  },
  {
   "cell_type": "code",
   "execution_count": 120,
   "id": "adeb0918-4652-47d5-8464-58b1659b1326",
   "metadata": {},
   "outputs": [
    {
     "data": {
      "text/plain": [
       "MeanSquaredError()"
      ]
     },
     "execution_count": 120,
     "metadata": {},
     "output_type": "execute_result"
    }
   ],
   "source": [
    "import torchmetrics\n",
    "\n",
    "# Define MSE metric\n",
    "mse = torchmetrics.MeanSquaredError()\n",
    "\n",
    "mse"
   ]
  },
  {
   "cell_type": "code",
   "execution_count": 122,
   "id": "1c693fc5-5e81-48ff-be4b-d6b17e936652",
   "metadata": {},
   "outputs": [
    {
     "name": "stdout",
     "output_type": "stream",
     "text": [
      "tensor([0.0591, 0.0597, 0.0602, 0.0609, 0.0617, 0.0625, 0.0634, 0.0665, 0.0697,\n",
      "        0.0723, 0.0721, 0.0710, 0.0699, 0.0689, 0.0681, 0.0676]) tensor(0.1074)\n"
     ]
    }
   ],
   "source": [
    "net.eval()\n",
    "with torch.no_grad():\n",
    "    for seqs, labels in dataloader_test:\n",
    "        # seqs = seqs.view(16, 96, 1)\n",
    "        seqs = seqs.view(seqs.size(0), seqs.size(1), 1)\n",
    "        # Pass seqs to net and squeeze the result\n",
    "        outputs = net_l(seqs).squeeze()\n",
    "        mse_calc = mse(outputs, labels)\n",
    "        \n",
    "print(outputs, mse_calc)\n"
   ]
  },
  {
   "cell_type": "code",
   "execution_count": 123,
   "id": "e02ba696-9837-4a71-84fa-4ac31b6987fc",
   "metadata": {},
   "outputs": [
    {
     "name": "stdout",
     "output_type": "stream",
     "text": [
      "Test MSE: 0.6713933944702148\n"
     ]
    }
   ],
   "source": [
    "# Compute final metric value\n",
    "test_mse = mse.compute()\n",
    "print(f\"Test MSE: {test_mse}\")"
   ]
  },
  {
   "cell_type": "code",
   "execution_count": null,
   "id": "c22087fd-f587-4d8b-994e-fed49cc4af58",
   "metadata": {},
   "outputs": [],
   "source": [
    "# Model with 2 inputs"
   ]
  },
  {
   "cell_type": "code",
   "execution_count": 125,
   "id": "31e3b0b0-96b0-41f5-8e35-2039e716c71f",
   "metadata": {},
   "outputs": [
    {
     "name": "stdout",
     "output_type": "stream",
     "text": [
      "Files already downloaded and verified\n"
     ]
    },
    {
     "ename": "FileNotFoundError",
     "evalue": "[WinError 3] The system cannot find the path specified: 'G:\\\\My Drive\\\\Ingegneria\\\\Data Science GD\\\\My-Practice\\\\my models\\\\NLP\\\\LLM\\\\2.Intermediate Deep Learning Pytorch\\\\omniglot-py\\\\images_background'",
     "output_type": "error",
     "traceback": [
      "\u001b[1;31m---------------------------------------------------------------------------\u001b[0m",
      "\u001b[1;31mFileNotFoundError\u001b[0m                         Traceback (most recent call last)",
      "Cell \u001b[1;32mIn[125], line 7\u001b[0m\n\u001b[0;32m      4\u001b[0m my_path\u001b[38;5;241m=\u001b[39m os\u001b[38;5;241m.\u001b[39mgetcwd()\n\u001b[0;32m      6\u001b[0m \u001b[38;5;66;03m# Load the Omniglot dataset\u001b[39;00m\n\u001b[1;32m----> 7\u001b[0m omniglot_dataset \u001b[38;5;241m=\u001b[39m \u001b[43mdatasets\u001b[49m\u001b[38;5;241;43m.\u001b[39;49m\u001b[43mOmniglot\u001b[49m\u001b[43m(\u001b[49m\n\u001b[0;32m      8\u001b[0m \u001b[43m    \u001b[49m\u001b[43mroot\u001b[49m\u001b[38;5;241;43m=\u001b[39;49m\u001b[43mmy_path\u001b[49m\u001b[43m,\u001b[49m\u001b[43m \u001b[49m\n\u001b[0;32m      9\u001b[0m \u001b[43m    \u001b[49m\u001b[43mdownload\u001b[49m\u001b[38;5;241;43m=\u001b[39;49m\u001b[38;5;28;43;01mTrue\u001b[39;49;00m\u001b[43m,\u001b[49m\n\u001b[0;32m     10\u001b[0m \u001b[43m    \u001b[49m\u001b[38;5;66;43;03m# the transform argument is used to ensure that the images from the Omniglot dataset are in the appropriate format and size for input into a PyTorch model.\u001b[39;49;00m\n\u001b[0;32m     11\u001b[0m \u001b[43m    \u001b[49m\u001b[43mtransform\u001b[49m\u001b[38;5;241;43m=\u001b[39;49m\u001b[43mtransforms\u001b[49m\u001b[38;5;241;43m.\u001b[39;49m\u001b[43mCompose\u001b[49m\u001b[43m(\u001b[49m\u001b[43m[\u001b[49m\u001b[43m \u001b[49m\n\u001b[0;32m     12\u001b[0m \u001b[43m        \u001b[49m\u001b[43mtransforms\u001b[49m\u001b[38;5;241;43m.\u001b[39;49m\u001b[43mToTensor\u001b[49m\u001b[43m(\u001b[49m\u001b[43m)\u001b[49m\u001b[43m,\u001b[49m\n\u001b[0;32m     13\u001b[0m \u001b[43m        \u001b[49m\u001b[43mtransforms\u001b[49m\u001b[38;5;241;43m.\u001b[39;49m\u001b[43mResize\u001b[49m\u001b[43m(\u001b[49m\u001b[43m(\u001b[49m\u001b[38;5;241;43m64\u001b[39;49m\u001b[43m,\u001b[49m\u001b[43m \u001b[49m\u001b[38;5;241;43m64\u001b[39;49m\u001b[43m)\u001b[49m\u001b[43m)\u001b[49m\u001b[43m,\u001b[49m\n\u001b[0;32m     14\u001b[0m \u001b[43m    \u001b[49m\u001b[43m]\u001b[49m\u001b[43m)\u001b[49m\n\u001b[0;32m     15\u001b[0m \u001b[43m)\u001b[49m\n",
      "File \u001b[1;32m~\\AppData\\Roaming\\Python\\Python310\\site-packages\\torchvision\\datasets\\omniglot.py:52\u001b[0m, in \u001b[0;36mOmniglot.__init__\u001b[1;34m(self, root, background, transform, target_transform, download)\u001b[0m\n\u001b[0;32m     49\u001b[0m     \u001b[38;5;28;01mraise\u001b[39;00m \u001b[38;5;167;01mRuntimeError\u001b[39;00m(\u001b[38;5;124m\"\u001b[39m\u001b[38;5;124mDataset not found or corrupted. You can use download=True to download it\u001b[39m\u001b[38;5;124m\"\u001b[39m)\n\u001b[0;32m     51\u001b[0m \u001b[38;5;28mself\u001b[39m\u001b[38;5;241m.\u001b[39mtarget_folder \u001b[38;5;241m=\u001b[39m join(\u001b[38;5;28mself\u001b[39m\u001b[38;5;241m.\u001b[39mroot, \u001b[38;5;28mself\u001b[39m\u001b[38;5;241m.\u001b[39m_get_target_folder())\n\u001b[1;32m---> 52\u001b[0m \u001b[38;5;28mself\u001b[39m\u001b[38;5;241m.\u001b[39m_alphabets \u001b[38;5;241m=\u001b[39m \u001b[43mlist_dir\u001b[49m\u001b[43m(\u001b[49m\u001b[38;5;28;43mself\u001b[39;49m\u001b[38;5;241;43m.\u001b[39;49m\u001b[43mtarget_folder\u001b[49m\u001b[43m)\u001b[49m\n\u001b[0;32m     53\u001b[0m \u001b[38;5;28mself\u001b[39m\u001b[38;5;241m.\u001b[39m_characters: List[\u001b[38;5;28mstr\u001b[39m] \u001b[38;5;241m=\u001b[39m \u001b[38;5;28msum\u001b[39m(\n\u001b[0;32m     54\u001b[0m     ([join(a, c) \u001b[38;5;28;01mfor\u001b[39;00m c \u001b[38;5;129;01min\u001b[39;00m list_dir(join(\u001b[38;5;28mself\u001b[39m\u001b[38;5;241m.\u001b[39mtarget_folder, a))] \u001b[38;5;28;01mfor\u001b[39;00m a \u001b[38;5;129;01min\u001b[39;00m \u001b[38;5;28mself\u001b[39m\u001b[38;5;241m.\u001b[39m_alphabets), []\n\u001b[0;32m     55\u001b[0m )\n\u001b[0;32m     56\u001b[0m \u001b[38;5;28mself\u001b[39m\u001b[38;5;241m.\u001b[39m_character_images \u001b[38;5;241m=\u001b[39m [\n\u001b[0;32m     57\u001b[0m     [(image, idx) \u001b[38;5;28;01mfor\u001b[39;00m image \u001b[38;5;129;01min\u001b[39;00m list_files(join(\u001b[38;5;28mself\u001b[39m\u001b[38;5;241m.\u001b[39mtarget_folder, character), \u001b[38;5;124m\"\u001b[39m\u001b[38;5;124m.png\u001b[39m\u001b[38;5;124m\"\u001b[39m)]\n\u001b[0;32m     58\u001b[0m     \u001b[38;5;28;01mfor\u001b[39;00m idx, character \u001b[38;5;129;01min\u001b[39;00m \u001b[38;5;28menumerate\u001b[39m(\u001b[38;5;28mself\u001b[39m\u001b[38;5;241m.\u001b[39m_characters)\n\u001b[0;32m     59\u001b[0m ]\n",
      "File \u001b[1;32m~\\AppData\\Roaming\\Python\\Python310\\site-packages\\torchvision\\datasets\\utils.py:167\u001b[0m, in \u001b[0;36mlist_dir\u001b[1;34m(root, prefix)\u001b[0m\n\u001b[0;32m    159\u001b[0m \u001b[38;5;250m\u001b[39m\u001b[38;5;124;03m\"\"\"List all directories at a given root\u001b[39;00m\n\u001b[0;32m    160\u001b[0m \n\u001b[0;32m    161\u001b[0m \u001b[38;5;124;03mArgs:\u001b[39;00m\n\u001b[1;32m   (...)\u001b[0m\n\u001b[0;32m    164\u001b[0m \u001b[38;5;124;03m        only returns the name of the directories found\u001b[39;00m\n\u001b[0;32m    165\u001b[0m \u001b[38;5;124;03m\"\"\"\u001b[39;00m\n\u001b[0;32m    166\u001b[0m root \u001b[38;5;241m=\u001b[39m os\u001b[38;5;241m.\u001b[39mpath\u001b[38;5;241m.\u001b[39mexpanduser(root)\n\u001b[1;32m--> 167\u001b[0m directories \u001b[38;5;241m=\u001b[39m [p \u001b[38;5;28;01mfor\u001b[39;00m p \u001b[38;5;129;01min\u001b[39;00m \u001b[43mos\u001b[49m\u001b[38;5;241;43m.\u001b[39;49m\u001b[43mlistdir\u001b[49m\u001b[43m(\u001b[49m\u001b[43mroot\u001b[49m\u001b[43m)\u001b[49m \u001b[38;5;28;01mif\u001b[39;00m os\u001b[38;5;241m.\u001b[39mpath\u001b[38;5;241m.\u001b[39misdir(os\u001b[38;5;241m.\u001b[39mpath\u001b[38;5;241m.\u001b[39mjoin(root, p))]\n\u001b[0;32m    168\u001b[0m \u001b[38;5;28;01mif\u001b[39;00m prefix \u001b[38;5;129;01mis\u001b[39;00m \u001b[38;5;28;01mTrue\u001b[39;00m:\n\u001b[0;32m    169\u001b[0m     directories \u001b[38;5;241m=\u001b[39m [os\u001b[38;5;241m.\u001b[39mpath\u001b[38;5;241m.\u001b[39mjoin(root, d) \u001b[38;5;28;01mfor\u001b[39;00m d \u001b[38;5;129;01min\u001b[39;00m directories]\n",
      "\u001b[1;31mFileNotFoundError\u001b[0m: [WinError 3] The system cannot find the path specified: 'G:\\\\My Drive\\\\Ingegneria\\\\Data Science GD\\\\My-Practice\\\\my models\\\\NLP\\\\LLM\\\\2.Intermediate Deep Learning Pytorch\\\\omniglot-py\\\\images_background'"
     ]
    }
   ],
   "source": [
    "import torchvision.datasets as datasets\n",
    "import os\n",
    "\n",
    "my_path= os.getcwd()\n",
    "\n",
    "# Load the Omniglot dataset\n",
    "omniglot_dataset = datasets.Omniglot(\n",
    "    root=my_path, \n",
    "    download=True,\n",
    "    # the transform argument is used to ensure that the images from the Omniglot dataset are in the appropriate format and size for input into a PyTorch model.\n",
    "    transform=transforms.Compose([ \n",
    "        transforms.ToTensor(),\n",
    "        transforms.Resize((64, 64)),\n",
    "    ])\n",
    ")\n"
   ]
  },
  {
   "cell_type": "code",
   "execution_count": null,
   "id": "79cab6ed-29b7-49e6-85af-4f0b9f361208",
   "metadata": {},
   "outputs": [],
   "source": [
    "omniglot_dataset"
   ]
  },
  {
   "cell_type": "code",
   "execution_count": null,
   "id": "0bb10631-8837-4ec3-b86a-e5d10463cbc1",
   "metadata": {},
   "outputs": [],
   "source": [
    "import os\n",
    "import numpy as np\n",
    "from sklearn.preprocessing import LabelBinarizer\n",
    "from sklearn.model_selection import train_test_split\n",
    "\n",
    "# Define the path to your dataset\n",
    "dataset_path = 'G:\\\\My Drive\\\\Ingegneria\\\\Data Science GD\\\\Models\\\\DL&LLM\\\\Intermediate Deep Learning Pytorch\\\\omniglot-py\\\\images_background'\n",
    "\n",
    "# Initialize an empty list to store the tuples\n",
    "data = []\n",
    "\n",
    "# Initialize a LabelBinarizer for one-hot encoding of the alphabets\n",
    "lb = LabelBinarizer()\n",
    "\n",
    "# Get list of all alphabet directories and fit the LabelBinarizer\n",
    "all_alphabets = os.listdir(dataset_path)\n",
    "lb.fit(all_alphabets)\n",
    "\n",
    "# Initialize a dictionary to store unique labels for each character of every alphabet\n",
    "char_label_dict = {}\n",
    "label_counter = 0\n",
    "\n",
    "# Loop over the directories in the dataset path\n",
    "for alphabet_dir in all_alphabets:\n",
    "    alphabet_path = os.path.join(dataset_path, alphabet_dir)\n",
    "    \n",
    "    # Loop over the character directories in each alphabet directory\n",
    "    for character_dir in os.listdir(alphabet_path):\n",
    "        character_path = os.path.join(alphabet_path, character_dir)\n",
    "        \n",
    "        # Assign a unique label to each character of every alphabet\n",
    "        char_label_key = f\"{alphabet_dir}_{character_dir}\"\n",
    "        if char_label_key not in char_label_dict:\n",
    "            char_label_dict[char_label_key] = label_counter\n",
    "            label_counter += 1\n",
    "        \n",
    "        # Loop over the images in each character directory\n",
    "        for image_file in os.listdir(character_path):\n",
    "            image_path = os.path.join(character_path, image_file)\n",
    "            \n",
    "            # Create the alphabet vector\n",
    "            alphabet_vector = lb.transform([alphabet_dir])[0]\n",
    "            \n",
    "            # Get the target label\n",
    "            target_label = char_label_dict[char_label_key]\n",
    "            \n",
    "            # Append the tuple to the data list\n",
    "            data.append((image_path, alphabet_vector, target_label))\n",
    "\n"
   ]
  },
  {
   "cell_type": "code",
   "execution_count": null,
   "id": "ce857707-fd53-45ca-8d83-56de551fb2ec",
   "metadata": {},
   "outputs": [],
   "source": [
    "# # Convert the data list to a numpy array\n",
    "# data = np.array(data)\n",
    "\n",
    "# Split the data into training and testing sets\n",
    "train_data, test_data = train_test_split(data, test_size=0.2, random_state=42)\n",
    "\n",
    "# Print the first few items in the train_data and test_data to check\n",
    "print('Train Data:')\n",
    "for item in train_data[:5]:\n",
    "    print(item)\n",
    "\n",
    "print('\\nTest Data:')\n",
    "for item in test_data[:5]:\n",
    "    print(item)\n"
   ]
  },
  {
   "cell_type": "code",
   "execution_count": null,
   "id": "12cd77a3-3904-406c-9cb1-0c923c59a7e5",
   "metadata": {},
   "outputs": [],
   "source": [
    "from PIL import Image\n",
    "from torch.utils.data import DataLoader, Dataset\n",
    "from torchvision import transforms\n",
    "\n",
    "class OmniglotDataset(Dataset):\n",
    "    def __init__(self, transform, samples):\n",
    "\t\t# Assign transform and samples to class attributes\n",
    "        self.transform = transform\n",
    "        self.samples = samples\n",
    "                    \n",
    "    def __len__(self):\n",
    "\t\t# Return number of samples\n",
    "        return len(self.samples)\n",
    "\n",
    "    def __getitem__(self, idx):\n",
    "      \t# Unpack the sample at index idx\n",
    "        img_path, alphabet, label = self.samples[idx]\n",
    "        img = Image.open(img_path).convert('L') # convert to grayscale\n",
    "        # Transform the image \n",
    "        img_transformed = self.transform(img) # self.transform(img) is transforming the image img according to the transformations defined in self.transform when the OmniglotDataset object is created\n",
    "        return img_transformed, alphabet, label"
   ]
  },
  {
   "cell_type": "code",
   "execution_count": null,
   "id": "4b436b60-13e1-4604-a399-92d8378eb8ee",
   "metadata": {},
   "outputs": [],
   "source": [
    "# Create an instance of your custom dataset\n",
    "\n",
    "# You’ve already applied the transformations when you loaded the Omniglot dataset using the datasets.Omniglot function. However, the code you’ve shown in the second part is creating a custom dataset class, OmniglotDataset.\n",
    "# If you’re using the same data (i.e., omniglot_dataset) for both the datasets.Omniglot function and your custom OmniglotDataset class, and you’re applying the same transformations in both places, then you’re effectively transforming the data twice, which is not necessary.\n",
    "\n",
    "dataset_train = OmniglotDataset(transform=transforms.Compose([\n",
    "    transforms.ToTensor(),\n",
    "    transforms.Resize((64, 64)),\n",
    "]), samples=train_data)  \n",
    "\n",
    "dataset_train"
   ]
  },
  {
   "cell_type": "code",
   "execution_count": null,
   "id": "9929347a-5e36-4b8e-ab0c-662327c5d0ec",
   "metadata": {},
   "outputs": [],
   "source": [
    "dataloader_train = DataLoader(\n",
    "    dataset_train, shuffle=True, batch_size=3,\n",
    ")"
   ]
  },
  {
   "cell_type": "code",
   "execution_count": null,
   "id": "de46e470-43a5-4033-8e90-79bd7b330b04",
   "metadata": {},
   "outputs": [],
   "source": [
    "next(iter(dataloader_train))"
   ]
  },
  {
   "cell_type": "code",
   "execution_count": null,
   "id": "e8072cef-5601-47e2-b06e-0b0e878946d1",
   "metadata": {},
   "outputs": [],
   "source": [
    "next(iter(dataloader_train))[0].shape # image"
   ]
  },
  {
   "cell_type": "code",
   "execution_count": null,
   "id": "e4a4fa4a-0135-4f24-97e2-e656e15e9366",
   "metadata": {},
   "outputs": [],
   "source": [
    "next(iter(dataloader_train))[1].shape # alphabet (OHE)"
   ]
  },
  {
   "cell_type": "code",
   "execution_count": null,
   "id": "98dce247-a48b-4450-8758-53e830d86945",
   "metadata": {},
   "outputs": [],
   "source": [
    "next(iter(dataloader_train))[2].shape # label"
   ]
  },
  {
   "cell_type": "code",
   "execution_count": null,
   "id": "5c97dd27-a5c8-4a2f-9e8b-54daf5c9b41e",
   "metadata": {},
   "outputs": [],
   "source": [
    "# Import necessary modules\n",
    "import torch\n",
    "import torch.nn as nn\n",
    "\n",
    "# Define the neural network model\n",
    "class Net_imal(nn.Module):\n",
    "    def __init__(self):\n",
    "        super(Net_imal, self).__init__()\n",
    "        \n",
    "        # Define the image processing sub-network\n",
    "        # This network will process the image input\n",
    "        self.image_layer = nn.Sequential(\n",
    "            # Convolutional layer with 1 input channel, 16 output channels, 3x3 kernel size, and 1 padding\n",
    "            nn.Conv2d(1, 16, kernel_size=3, padding=1),\n",
    "            # Max pooling layer with 2x2 window size\n",
    "            nn.MaxPool2d(kernel_size=2),\n",
    "            # ELU activation function\n",
    "            nn.ELU(),\n",
    "            # Flatten the tensor for the fully connected layer\n",
    "            nn.Flatten(),\n",
    "            # Fully connected layer with input size 16*32*32 and output size 128 ----  If the input to the convolutional layer is an image of size 64x64, after the convolutional layer (with padding=1 and kernel_size=3) and the max pooling layer (with kernel_size=2), the output would be of size 16x32x32\n",
    "            nn.Linear(16*32*32, 128)\n",
    "        )\n",
    "        \n",
    "        # Define the alphabet processing sub-network\n",
    "        # This network will process the alphabet input\n",
    "        self.alphabet_layer = nn.Sequential(\n",
    "            # Fully connected layer with input size 30 and output size 8\n",
    "            nn.Linear(30, 8),\n",
    "            # ELU activation function\n",
    "            nn.ELU(), \n",
    "        )\n",
    "        \n",
    "        # Define the classifier sub-network\n",
    "        # This network will classify the processed inputs\n",
    "        self.classifier = nn.Sequential(\n",
    "            # Fully connected layer with input size 128 + 8 and output size 964 (number of total characters in all alphabets)\n",
    "            nn.Linear(128 + 8, 964), \n",
    "        )\n",
    "        \n",
    "    def forward(self, x_image, x_alphabet):\n",
    "        # Pass the image input through the image processing sub-network\n",
    "        x_image = self.image_layer(x_image)\n",
    "        # Pass the alphabet input through the alphabet processing sub-network\n",
    "        x_alphabet = self.alphabet_layer(x_alphabet)\n",
    "        # Concatenate the processed image and alphabet inputs\n",
    "        x = torch.cat((x_image, x_alphabet), dim=1)\n",
    "        # Pass the concatenated inputs through the classifier sub-network\n",
    "        return self.classifier(x)\n"
   ]
  },
  {
   "cell_type": "code",
   "execution_count": null,
   "id": "13849cdc-a9b6-4cf8-a193-763726cae41d",
   "metadata": {},
   "outputs": [],
   "source": [
    "net_im_al = Net_imal()\n",
    "net_im_al"
   ]
  },
  {
   "cell_type": "code",
   "execution_count": null,
   "id": "c75bdc8d-3030-44ef-afae-f90b19bce18c",
   "metadata": {},
   "outputs": [],
   "source": [
    "# remove all the .ipynb_checkpoints folders, that cause errors otherwise\n",
    "\n",
    "import os\n",
    "import shutil\n",
    "\n",
    "def remove_ipynb_checkpoints(directory):\n",
    "    for root, dirs, files in os.walk(directory):\n",
    "        if '.ipynb_checkpoints' in dirs:\n",
    "            shutil.rmtree(os.path.join(root, '.ipynb_checkpoints'))\n"
   ]
  },
  {
   "cell_type": "code",
   "execution_count": null,
   "id": "785fdb43-1f8c-47a7-860c-d0ec3bd5676f",
   "metadata": {},
   "outputs": [],
   "source": [
    "# Call the function with the directory path\n",
    "remove_ipynb_checkpoints(my_path)"
   ]
  },
  {
   "cell_type": "code",
   "execution_count": null,
   "id": "8845336c-f1f0-4b5d-b568-25a55c460e9a",
   "metadata": {},
   "outputs": [],
   "source": [
    "outputs = []\n",
    "for img, alpha, labels in dataloader_train:\n",
    "    # Ensure the tensors are of the same type\n",
    "    img = img.type(torch.FloatTensor)\n",
    "    alpha = alpha.type(torch.FloatTensor)\n",
    "\n",
    "    output = net_im_al(img, alpha)\n",
    "    outputs.append(output)\n"
   ]
  },
  {
   "cell_type": "code",
   "execution_count": null,
   "id": "67f38e4a-121b-4c26-89f0-6f07487a73fe",
   "metadata": {},
   "outputs": [],
   "source": [
    "print(len(outputs))\n",
    "outputs[:10]"
   ]
  },
  {
   "cell_type": "code",
   "execution_count": null,
   "id": "02ff39b3-c625-40e5-b561-6154872a1488",
   "metadata": {},
   "outputs": [],
   "source": [
    "# model with two outputs (in the samples, the 30 alphabets are one output, and the 964 characters are another outputs, so the alphabets are not OHE anymore, but an integer between 0 and 29)"
   ]
  },
  {
   "cell_type": "code",
   "execution_count": null,
   "id": "a6f72e6d-706f-414a-8d95-330fd84a7fcc",
   "metadata": {},
   "outputs": [],
   "source": [
    "import os\n",
    "import numpy as np\n",
    "from sklearn.model_selection import train_test_split\n",
    "\n",
    "# Define the path to your dataset\n",
    "dataset_path = 'G:\\\\My Drive\\\\Ingegneria\\\\Data Science GD\\\\Models\\\\DL&LLM\\\\Intermediate Deep Learning Pytorch\\\\omniglot-py\\\\images_background'\n",
    "\n",
    "# Initialize an empty list to store the tuples\n",
    "data = []\n",
    "\n",
    "# Get list of all alphabet directories\n",
    "all_alphabets = os.listdir(dataset_path)\n",
    "\n",
    "# Initialize a dictionary to store unique labels for each character of every alphabet\n",
    "char_label_dict = {}\n",
    "label_counter = 0\n",
    "\n",
    "# Loop over the directories in the dataset path\n",
    "for alphabet_dir in all_alphabets:\n",
    "    alphabet_path = os.path.join(dataset_path, alphabet_dir)\n",
    "    \n",
    "    # Loop over the character directories in each alphabet directory\n",
    "    for character_dir in os.listdir(alphabet_path):\n",
    "        character_path = os.path.join(alphabet_path, character_dir)\n",
    "        \n",
    "        # Assign a unique label to each character of every alphabet\n",
    "        char_label_key = f\"{alphabet_dir}_{character_dir}\"\n",
    "        if char_label_key not in char_label_dict:\n",
    "            char_label_dict[char_label_key] = label_counter\n",
    "            label_counter += 1\n",
    "        \n",
    "        # Loop over the images in each character directory\n",
    "        for image_file in os.listdir(character_path):\n",
    "            image_path = os.path.join(character_path, image_file)\n",
    "            \n",
    "            # Create the alphabet vector\n",
    "            alphabet_vector = all_alphabets.index(alphabet_dir)\n",
    "            \n",
    "            # Get the target label\n",
    "            target_label = char_label_dict[char_label_key]\n",
    "            \n",
    "            # Append the tuple to the data list\n",
    "            data.append((image_path, alphabet_vector, target_label))\n"
   ]
  },
  {
   "cell_type": "code",
   "execution_count": null,
   "id": "0801ee38-c14b-4650-a19e-f03e0d17589f",
   "metadata": {},
   "outputs": [],
   "source": [
    "# # Convert the data list to a numpy array\n",
    "# data = np.array(data)\n",
    "\n",
    "# Split the data into training and testing sets\n",
    "train_data, test_data = train_test_split(data, test_size=0.2, random_state=42)\n",
    "\n",
    "# Print the first few items in the train_data and test_data to check\n",
    "print('Train Data:')\n",
    "for item in train_data[:5]:\n",
    "    print(item)\n",
    "\n",
    "print('\\nTest Data:')\n",
    "for item in test_data[:5]:\n",
    "    print(item)"
   ]
  },
  {
   "cell_type": "code",
   "execution_count": null,
   "id": "80b3770e-1146-4768-80dc-3c12d71a2f3e",
   "metadata": {},
   "outputs": [],
   "source": [
    "# Create dataset_train\n",
    "dataset_train = OmniglotDataset(\n",
    "    transform=transforms.Compose([\n",
    "        transforms.ToTensor(),\n",
    "      \ttransforms.Resize((64, 64)),\n",
    "    ]),\n",
    "    samples=train_data,\n",
    ")\n",
    "\n",
    "dataset_train"
   ]
  },
  {
   "cell_type": "code",
   "execution_count": null,
   "id": "396d7dbe-9e59-4947-ac8c-71db7c854d0b",
   "metadata": {},
   "outputs": [],
   "source": [
    "# Create dataset_test\n",
    "dataset_test = OmniglotDataset(\n",
    "    transform=transforms.Compose([\n",
    "        transforms.ToTensor(),\n",
    "      \ttransforms.Resize((64, 64)),\n",
    "    ]),\n",
    "    samples=test_data,\n",
    ")\n",
    "\n",
    "dataset_test"
   ]
  },
  {
   "cell_type": "code",
   "execution_count": null,
   "id": "87e47ecf-7ca1-4503-aa58-419e01e09f2f",
   "metadata": {},
   "outputs": [],
   "source": [
    "# Create dataloader_train\n",
    "dataloader_train = DataLoader(\n",
    "    dataset_train, shuffle=True, batch_size=32,\n",
    ")\n",
    "\n",
    "dataloader_train"
   ]
  },
  {
   "cell_type": "code",
   "execution_count": null,
   "id": "76ee62fe-198e-4ff6-bc25-73f7fe5f78fa",
   "metadata": {},
   "outputs": [],
   "source": [
    "# Create dataloader_test\n",
    "dataloader_test = DataLoader(\n",
    "    dataset_test, shuffle=True, batch_size=32,\n",
    ")\n",
    "\n",
    "dataloader_test"
   ]
  },
  {
   "cell_type": "code",
   "execution_count": null,
   "id": "4d9df772-b532-42ee-b8ef-1e9eefbdee5e",
   "metadata": {},
   "outputs": [],
   "source": [
    "next(iter(dataloader_train))[0].shape # image\n"
   ]
  },
  {
   "cell_type": "code",
   "execution_count": null,
   "id": "e20836b3-5b3c-4ac1-a62d-069437943ac6",
   "metadata": {},
   "outputs": [],
   "source": [
    "next(iter(dataloader_train))[1].shape # alphabet (integer)\n"
   ]
  },
  {
   "cell_type": "code",
   "execution_count": null,
   "id": "2941be8e-995a-4f24-9a48-170efca650b7",
   "metadata": {},
   "outputs": [],
   "source": [
    "next(iter(dataloader_train))[2].shape # label\n"
   ]
  },
  {
   "cell_type": "code",
   "execution_count": null,
   "id": "ef2eda34-8464-4b51-8913-0dd3be47567b",
   "metadata": {},
   "outputs": [],
   "source": [
    "class Net_2o(nn.Module):\n",
    "    def __init__(self):\n",
    "        super(Net_2o, self).__init__()\n",
    "        self.image_layer = nn.Sequential(\n",
    "            nn.Conv2d(1, 16, kernel_size=3, padding=1),\n",
    "            nn.MaxPool2d(kernel_size=2),\n",
    "            nn.ELU(),\n",
    "            nn.Flatten(),\n",
    "            nn.Linear(16*32*32, 128)\n",
    "        )\n",
    "        # Define the two classifier layers\n",
    "        self.classifier_alpha = nn.Linear(128, 30)\n",
    "        self.classifier_char = nn.Linear(128, 964)\n",
    "        \n",
    "    def forward(self, x):\n",
    "        x_image = self.image_layer(x)\n",
    "        # Pass x_image through the classifiers and return both results\n",
    "        output_alpha = self.classifier_alpha(x_image)\n",
    "        output_char = self.classifier_char(x_image)\n",
    "        return output_alpha, output_char"
   ]
  },
  {
   "cell_type": "code",
   "execution_count": null,
   "id": "73e2f657-7dfe-489d-9130-a585be84ad20",
   "metadata": {},
   "outputs": [],
   "source": [
    "char_weight = 0.9 # more importance to the loss of the characters classification\n",
    "\n",
    "net = Net_2o()\n",
    "criterion = nn.CrossEntropyLoss()\n",
    "optimizer = optim.SGD(net.parameters(), lr=0.05)\n",
    "\n",
    "for epoch in range(1):\n",
    "    for images, labels_alpha, labels_char in dataloader_train:\n",
    "        # Check if any element in images or labels is NaN or Inf\n",
    "        if torch.isnan(images).any() or torch.isinf(images).any():\n",
    "            print(\"NaN or Inf found in images\")\n",
    "        if torch.isnan(labels_alpha).any() or torch.isinf(labels_alpha).any():\n",
    "            print(\"NaN or Inf found in labels_alpha\")\n",
    "        if torch.isnan(labels_char).any() or torch.isinf(labels_char).any():\n",
    "            print(\"NaN or Inf found in labels_char\")\n",
    "\n",
    "        optimizer.zero_grad()\n",
    "        outputs_alpha, outputs_char = net(images)\n",
    "\n",
    "        # Check if any element in outputs is NaN or Inf\n",
    "        if torch.isnan(outputs_alpha).any() or torch.isinf(outputs_alpha).any():\n",
    "            print(\"NaN or Inf found in outputs_alpha\")\n",
    "        if torch.isnan(outputs_char).any() or torch.isinf(outputs_char).any():\n",
    "            print(\"NaN or Inf found in outputs_char\")\n",
    "\n",
    "        # Compute alphabet classification loss\n",
    "        loss_alpha = criterion(outputs_alpha, labels_alpha)\n",
    "        # Compute character classification loss\n",
    "        loss_char = criterion(outputs_char, labels_char)\n",
    "\n",
    "        # Check if any element in losses is NaN or Inf\n",
    "        if torch.isnan(loss_alpha).any() or torch.isinf(loss_alpha).any():\n",
    "            print(\"NaN or Inf found in loss_alpha\")\n",
    "        if torch.isnan(loss_char).any() or torch.isinf(loss_char).any():\n",
    "            print(\"NaN or Inf found in loss_char\")\n",
    "\n",
    "        # Compute total loss\n",
    "        loss = ((1 - char_weight) * loss_alpha) + (char_weight * loss_char)\n",
    "\n",
    "        # Check if any element in total loss is NaN or Inf\n",
    "        if torch.isnan(loss).any() or torch.isinf(loss).any():\n",
    "            print(\"NaN or Inf found in total loss\")\n",
    "\n",
    "        loss.backward()\n",
    "\n",
    "        # Clip gradients to prevent them from exploding\n",
    "        torch.nn.utils.clip_grad_norm_(net.parameters(), max_norm=1)\n",
    "\n",
    "        optimizer.step()\n"
   ]
  },
  {
   "cell_type": "code",
   "execution_count": null,
   "id": "1313d4c3-c37c-4d50-8abf-6f28cf64b68e",
   "metadata": {},
   "outputs": [],
   "source": [
    "loss # with char_weight = 0.9"
   ]
  },
  {
   "cell_type": "code",
   "execution_count": null,
   "id": "715a65da-2d0f-4a4f-83bf-77b9555f6902",
   "metadata": {},
   "outputs": [],
   "source": [
    "loss # with char_weight = 0.5"
   ]
  },
  {
   "cell_type": "code",
   "execution_count": null,
   "id": "f85af502-d369-45f3-b127-3afe45cfac75",
   "metadata": {},
   "outputs": [],
   "source": [
    "def evaluate_model(model):\n",
    "    # Define accuracy metrics\n",
    "    acc_alpha = Accuracy(task=\"multiclass\", num_classes=30)\n",
    "    acc_char = Accuracy(task=\"multiclass\", num_classes=964)\n",
    "\n",
    "    net.eval()\n",
    "    with torch.no_grad():\n",
    "        for i, (images, labels_alpha, labels_char) in enumerate(dataloader_test):\n",
    "            # Obtain model outputs\n",
    "            outputs_alpha, outputs_char = net(images)\n",
    "            _, pred_alpha = torch.max(outputs_alpha, 1)\n",
    "            _, pred_char = torch.max(outputs_char, 1)\n",
    "            # Update both accuracy metrics\n",
    "            acc_alpha(pred_alpha, labels_alpha)\n",
    "            acc_char(pred_char, labels_char)\n",
    "            \n",
    "            # Print the values for the first batch of data\n",
    "            if i == 0:\n",
    "                print('outputs_alpha', outputs_alpha.size())\n",
    "                print('pred_alpha', pred_alpha.size())\n",
    "                print('labels_alpha', labels_alpha.size())\n",
    "                print('outputs_char', outputs_char.size())\n",
    "                print('pred_char', pred_char.size())\n",
    "                print('labels_char', labels_char.size())\n",
    "                print('outputs_alpha',outputs_alpha)\n",
    "                print('pred_alpha',pred_alpha)\n",
    "                print('labels_alpha',labels_alpha)\n",
    "                print('outputs_char',outputs_char)\n",
    "                print('pred_char',pred_char)\n",
    "                print('labels_char',labels_char)\n",
    "\n",
    "    print(f\"Alphabet: {acc_alpha.compute()}\")\n",
    "    print(f\"Character: {acc_char.compute()}\")\n"
   ]
  },
  {
   "cell_type": "code",
   "execution_count": null,
   "id": "8ffe32b7-6d71-4981-a8f5-c590c34a89d6",
   "metadata": {},
   "outputs": [],
   "source": [
    "evaluate_model(net)"
   ]
  },
  {
   "cell_type": "code",
   "execution_count": null,
   "id": "92daa857-512a-41e7-9a39-18dc52e41315",
   "metadata": {},
   "outputs": [],
   "source": [
    "\n"
   ]
  },
  {
   "cell_type": "code",
   "execution_count": null,
   "id": "268f1093-6ebf-4e8e-8608-0a26b317408d",
   "metadata": {},
   "outputs": [],
   "source": []
  },
  {
   "cell_type": "code",
   "execution_count": null,
   "id": "0cbb7842-13c4-454c-9a96-00e73d83c7c3",
   "metadata": {},
   "outputs": [],
   "source": []
  },
  {
   "cell_type": "code",
   "execution_count": null,
   "id": "9ee1efb3-8337-4eff-8249-096e8cada50a",
   "metadata": {},
   "outputs": [],
   "source": []
  },
  {
   "cell_type": "code",
   "execution_count": null,
   "id": "2cd6abbb-0e9c-4dbe-abaf-f7d58e7a4d51",
   "metadata": {},
   "outputs": [],
   "source": []
  },
  {
   "cell_type": "code",
   "execution_count": null,
   "id": "5ebdb549-493a-4971-af3e-b68c5c21f572",
   "metadata": {},
   "outputs": [],
   "source": []
  },
  {
   "cell_type": "code",
   "execution_count": null,
   "id": "09771f0d-a16b-426d-b4fb-e9eceb853a5c",
   "metadata": {},
   "outputs": [],
   "source": []
  }
 ],
 "metadata": {
  "kernelspec": {
   "display_name": "Py310",
   "language": "python",
   "name": "py310"
  },
  "language_info": {
   "codemirror_mode": {
    "name": "ipython",
    "version": 3
   },
   "file_extension": ".py",
   "mimetype": "text/x-python",
   "name": "python",
   "nbconvert_exporter": "python",
   "pygments_lexer": "ipython3",
   "version": "3.10.11"
  }
 },
 "nbformat": 4,
 "nbformat_minor": 5
}
