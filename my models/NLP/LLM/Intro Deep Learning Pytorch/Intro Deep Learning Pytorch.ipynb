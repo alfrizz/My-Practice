{
 "cells": [
  {
   "cell_type": "code",
   "execution_count": 1,
   "id": "f7957c1f-6eba-4ae6-9709-ebc2ac37b9d6",
   "metadata": {},
   "outputs": [
    {
     "name": "stdout",
     "output_type": "stream",
     "text": [
      "cpu\n",
      "torch.int64\n"
     ]
    }
   ],
   "source": [
    "# Import PyTorch\n",
    "import torch\n",
    "\n",
    "list_a = [1, 2, 3, 4]\n",
    "\n",
    "# Create a tensor from list_a\n",
    "tensor_a = torch.tensor(list_a)\n",
    "\n",
    "# Display the tensor device\n",
    "print(tensor_a.device)\n",
    "\n",
    "# Display the tensor data type\n",
    "print(tensor_a.dtype)"
   ]
  },
  {
   "cell_type": "code",
   "execution_count": 2,
   "id": "76c65af8-dc18-48e0-862c-5adab34be5bb",
   "metadata": {},
   "outputs": [],
   "source": [
    "import numpy as np\n",
    "\n",
    "array_a = np.array([[1, 1, 1],\n",
    "                   [2, 3, 4],\n",
    "                   [4, 5, 6]])\n",
    "\n",
    "array_b = np.array([[7, 5, 4],\n",
    "                   [2, 2, 8],\n",
    "                   [6, 3, 8]])"
   ]
  },
  {
   "cell_type": "code",
   "execution_count": 3,
   "id": "a6bca6fc-e726-4d18-a3fe-c5eb2b83a567",
   "metadata": {},
   "outputs": [
    {
     "name": "stdout",
     "output_type": "stream",
     "text": [
      "tensor([[ 1,  1,  1],\n",
      "        [ 4,  7, 28],\n",
      "        [22, 17, 46]], dtype=torch.int32)\n"
     ]
    }
   ],
   "source": [
    "# Create two tensors from the arrays\n",
    "tensor_a = torch.from_numpy(array_a)\n",
    "tensor_b = torch.from_numpy(array_b)\n",
    "\n",
    "# Subtract tensor_b from tensor_a \n",
    "tensor_c = tensor_a - tensor_b\n",
    "\n",
    "# Multiply each element of tensor_a with each element of tensor_b\n",
    "tensor_d = tensor_a * tensor_b\n",
    "\n",
    "# Add tensor_c with tensor_d\n",
    "tensor_e = tensor_c + tensor_d\n",
    "print(tensor_e)"
   ]
  },
  {
   "cell_type": "code",
   "execution_count": 4,
   "id": "31fecde0-77c2-4baf-a7e4-150691b03bf1",
   "metadata": {},
   "outputs": [
    {
     "name": "stdout",
     "output_type": "stream",
     "text": [
      "tensor([[0.8095]], grad_fn=<AddmmBackward0>)\n"
     ]
    }
   ],
   "source": [
    "import torch\n",
    "import torch.nn as nn\n",
    "\n",
    "input_tensor = torch.Tensor([[2, 3, 6, 7, 9, 3, 2, 1]])\n",
    "\n",
    "# Implement a small neural network with exactly two linear layers\n",
    "model = nn.Sequential(nn.Linear(8,1),\n",
    "                      nn.Linear(1,1)\n",
    "                     )\n",
    "\n",
    "output = model(input_tensor)\n",
    "print(output)"
   ]
  },
  {
   "cell_type": "code",
   "execution_count": 5,
   "id": "f6c906ae-ad05-4f86-83f7-ab96a2c61822",
   "metadata": {},
   "outputs": [
    {
     "name": "stdout",
     "output_type": "stream",
     "text": [
      "tensor([[0.4256]])\n"
     ]
    }
   ],
   "source": [
    "input_tensor = torch.tensor([[-0.3]])\n",
    "\n",
    "# Create a sigmoid function and apply it on input_tensor\n",
    "sigmoid = nn.Sigmoid()\n",
    "probability = sigmoid(input_tensor)\n",
    "print(probability)"
   ]
  },
  {
   "cell_type": "code",
   "execution_count": 6,
   "id": "2132cdd4-ee06-4c34-9a81-2baef80fd784",
   "metadata": {},
   "outputs": [
    {
     "name": "stdout",
     "output_type": "stream",
     "text": [
      "tensor([[1.2828e-01, 1.1698e-04, 5.7492e-01, 3.4961e-02, 1.5669e-01, 1.0503e-01]])\n"
     ]
    }
   ],
   "source": [
    "input_tensor = torch.tensor([[1.0, -6.0, 2.5, -0.3, 1.2, 0.8]])\n",
    "\n",
    "# Create a softmax function and apply it on input_tensor\n",
    "softmax = nn.Softmax(dim=-1)\n",
    "probabilities = softmax(input_tensor)\n",
    "print(probabilities)"
   ]
  },
  {
   "cell_type": "code",
   "execution_count": 7,
   "id": "8d106fc0-3ea4-4c8b-82bf-b6647c35c41a",
   "metadata": {},
   "outputs": [
    {
     "name": "stdout",
     "output_type": "stream",
     "text": [
      "tensor([[0.8540]], grad_fn=<SigmoidBackward0>)\n"
     ]
    }
   ],
   "source": [
    "import torch\n",
    "import torch.nn as nn\n",
    "\n",
    "input_tensor = torch.Tensor([[3, 4, 6, 2, 3, 6, 8, 9]])\n",
    "\n",
    "# Implement a small neural network for binary classification\n",
    "model = nn.Sequential(\n",
    "  nn.Linear(8,1),\n",
    "  nn.Sigmoid()\n",
    ")\n",
    "\n",
    "output = model(input_tensor)\n",
    "print(output)"
   ]
  },
  {
   "cell_type": "code",
   "execution_count": 8,
   "id": "0652e6c1-5f29-47e7-9dd5-e02770b9265d",
   "metadata": {},
   "outputs": [
    {
     "name": "stdout",
     "output_type": "stream",
     "text": [
      "tensor([[0.6538, 0.0241, 0.0331, 0.2891]], grad_fn=<SoftmaxBackward0>)\n"
     ]
    }
   ],
   "source": [
    "import torch\n",
    "import torch.nn as nn\n",
    "\n",
    "input_tensor = torch.Tensor([[3, 4, 6, 7, 10, 12, 2, 3, 6, 8, 9]])\n",
    "\n",
    "# Update network below to perform a multi-class classification with four labels\n",
    "model = nn.Sequential(\n",
    "  nn.Linear(11, 20),\n",
    "  nn.Linear(20, 12),\n",
    "  nn.Linear(12, 6),\n",
    "  nn.Linear(6, 4), \n",
    "  nn.Softmax(dim = -1) #dim = number of columns of the last layer (4) = number of classes probabilies to output\n",
    ")\n",
    "\n",
    "output = model(input_tensor)\n",
    "print(output)"
   ]
  },
  {
   "cell_type": "code",
   "execution_count": 9,
   "id": "2947bd55-9956-43c2-b4fb-fbee82f82a4f",
   "metadata": {},
   "outputs": [
    {
     "data": {
      "text/plain": [
       "tensor([0, 1, 0])"
      ]
     },
     "execution_count": 9,
     "metadata": {},
     "output_type": "execute_result"
    }
   ],
   "source": [
    "import torch.nn.functional as F\n",
    "\n",
    "y = 1\n",
    "num_classes = 3\n",
    "\n",
    "# Create the one-hot encoded vector using NumPy\n",
    "one_hot_numpy = np.array([0,1,0])\n",
    "\n",
    "# Create the one-hot encoded vector using PyTorch\n",
    "one_hot_pytorch = F.one_hot(torch.tensor(y),num_classes)\n",
    "one_hot_pytorch"
   ]
  },
  {
   "cell_type": "code",
   "execution_count": 10,
   "id": "a3a18ced-1e1c-4596-acdb-a7711ec7045e",
   "metadata": {},
   "outputs": [
    {
     "name": "stdout",
     "output_type": "stream",
     "text": [
      "tensor([[ 0.1000,  6.0000, -2.0000,  3.2000]]) tensor([[ 0.1000,  6.0000, -2.0000,  3.2000]], dtype=torch.float64)\n",
      "tensor([[0, 0, 1, 0]]) tensor([[0., 0., 1., 0.]], dtype=torch.float64)\n",
      "tensor(8.0619, dtype=torch.float64)\n"
     ]
    }
   ],
   "source": [
    "import torch\n",
    "import torch.nn as nn\n",
    "import torch.nn.functional as F\n",
    "\n",
    "y = [2]\n",
    "scores = torch.tensor([[0.1, 6.0, -2.0, 3.2]])\n",
    "\n",
    "# Create a one-hot encoded vector of the label y\n",
    "one_hot_label = F.one_hot(torch.tensor(y), scores.shape[1])\n",
    "\n",
    "# Create the cross entropy loss function\n",
    "criterion = nn.CrossEntropyLoss()\n",
    "\n",
    "# Calculate the cross entropy loss\n",
    "loss = criterion(scores.double(), one_hot_label.double())\n",
    "print(scores, scores.double())\n",
    "print(one_hot_label, one_hot_label.double())\n",
    "print(loss)"
   ]
  },
  {
   "cell_type": "code",
   "execution_count": 11,
   "id": "d24c07c6-1c73-4df2-bf32-0b3051f0b03e",
   "metadata": {},
   "outputs": [],
   "source": [
    "# by setting requires_grad=True, you’re telling PyTorch to keep track of the gradient information for this tensor in the computational graph. This is essential for optimization tasks where gradients are needed for parameter updates.\n",
    "\n",
    "weight = torch.tensor([[-0.2866,  0.4008, -0.9533, -0.0564,  0.8450,  0.3200, -0.1661, -0.0171, -0.1324],\n",
    "                       [-1.2251,  0.6066, -1.5971, -1.1549, -0.7852,  0.9700,  0.5051,  0.5751, -0.0667]], requires_grad=True)\n",
    "\n",
    "bias = torch.tensor([-0.3122,  0.4547], requires_grad=True)\n",
    "\n",
    "preds = torch.tensor([[-0.3612, -1.0112]], requires_grad=True)\n",
    "\n",
    "target = torch.tensor([[1., 0.]], requires_grad=True)"
   ]
  },
  {
   "cell_type": "code",
   "execution_count": 12,
   "id": "9b63a31b-e4df-44cc-9b4f-a16e31445e2e",
   "metadata": {},
   "outputs": [
    {
     "name": "stdout",
     "output_type": "stream",
     "text": [
      "None\n",
      "None\n"
     ]
    }
   ],
   "source": [
    "criterion = nn.CrossEntropyLoss()\n",
    "\n",
    "# Calculate the loss\n",
    "loss = criterion(preds, target)\n",
    "\n",
    "# Compute the gradients of the loss\n",
    "loss.backward(retain_graph=True)\n",
    "\n",
    "# Display gradients of the weight and bias tensors in order\n",
    "print(weight.grad)\n",
    "print(bias.grad)\n",
    "\n",
    "# In your case, weight and bias are not used at all in the computation of preds and target, so their gradients are not computed."
   ]
  },
  {
   "cell_type": "code",
   "execution_count": 13,
   "id": "bebdadd5-52c6-4235-ac55-62246449a4ef",
   "metadata": {},
   "outputs": [
    {
     "name": "stdout",
     "output_type": "stream",
     "text": [
      "tensor([[-1.1971,  0.1983]], grad_fn=<AddBackward0>)\n",
      "tensor([[-0.8914, -0.5656, -0.2458,  1.2118,  0.3049,  0.5331, -0.2164,  0.4623,\n",
      "         -0.4388],\n",
      "        [ 0.8914,  0.5656,  0.2458, -1.2118, -0.3049, -0.5331,  0.2164, -0.4623,\n",
      "          0.4388]])\n",
      "tensor([-0.8014,  0.8014])\n"
     ]
    },
    {
     "data": {
      "text/plain": [
       "tensor(1.6167, grad_fn=<DivBackward1>)"
      ]
     },
     "execution_count": 13,
     "metadata": {},
     "output_type": "execute_result"
    }
   ],
   "source": [
    "# In a typical setup, you would have an input tensor x, and you would compute preds as a function of x, weight, and bias. Then, you would compute the loss as a function of preds and target. When you call loss.backward(), PyTorch would then compute the gradients for all tensors that have requires_grad=True and are involved in the computation of loss.\n",
    "\n",
    "# Assume x is your input data\n",
    "x = torch.randn((1, 9), requires_grad=True)\n",
    "\n",
    "# Compute preds using weight, bias, and x\n",
    "preds = torch.mm(x, weight.t()) + bias\n",
    "print(preds)\n",
    "\n",
    "# Calculate the loss\n",
    "loss = criterion(preds, target)\n",
    "\n",
    "# Compute the gradients of the loss\n",
    "loss.backward(retain_graph=True)\n",
    "\n",
    "# Display gradients of the weight and bias tensors in order\n",
    "print(weight.grad)\n",
    "print(bias.grad)\n",
    "\n",
    "loss"
   ]
  },
  {
   "cell_type": "code",
   "execution_count": 14,
   "id": "86d44b5c-1cd3-43f3-b742-f0ad1417ff41",
   "metadata": {},
   "outputs": [
    {
     "data": {
      "text/plain": [
       "(Parameter containing:\n",
       " tensor([[ 0.0073, -0.0384, -0.0511,  0.0602, -0.0353,  0.1290, -0.1991, -0.0714,\n",
       "          -0.1095,  0.1479, -0.0208, -0.1993, -0.1749, -0.0920,  0.2437,  0.1761],\n",
       "         [ 0.1979, -0.1064, -0.0467,  0.0945,  0.2426, -0.0357, -0.2103, -0.0995,\n",
       "           0.0263, -0.0337, -0.0393, -0.1632,  0.1992,  0.1114,  0.0418, -0.2088],\n",
       "         [-0.2094, -0.1228,  0.2176,  0.0137,  0.0591, -0.1304,  0.0013,  0.1968,\n",
       "          -0.1962,  0.0874, -0.2273, -0.1566,  0.1325, -0.1671, -0.1682, -0.0556],\n",
       "         [ 0.1930,  0.1697, -0.1509,  0.1054, -0.0963,  0.1747, -0.2045, -0.1913,\n",
       "           0.0612,  0.0379, -0.0314,  0.2488, -0.1538,  0.0589, -0.0182,  0.1241],\n",
       "         [ 0.1222,  0.0852,  0.1078, -0.0527, -0.0737, -0.1650, -0.0926, -0.0676,\n",
       "           0.2171,  0.0743,  0.1272, -0.1141,  0.0392, -0.0659, -0.0134, -0.0951],\n",
       "         [ 0.2061,  0.1828,  0.0783, -0.1408,  0.0840,  0.1594, -0.1797,  0.0102,\n",
       "           0.0976, -0.2448, -0.1773,  0.1721, -0.1461, -0.1642, -0.1589,  0.2246],\n",
       "         [-0.0545, -0.0796,  0.0094, -0.0663,  0.1118,  0.2261, -0.1441, -0.0488,\n",
       "           0.1062,  0.1835, -0.0693, -0.1830,  0.1910, -0.0400,  0.2086,  0.1586],\n",
       "         [-0.2404, -0.0382, -0.1667,  0.2033,  0.1325,  0.2155, -0.0720, -0.1287,\n",
       "           0.2145, -0.2041,  0.0112, -0.0332, -0.1347,  0.0064,  0.2030, -0.0298]],\n",
       "        requires_grad=True),\n",
       " Parameter containing:\n",
       " tensor([ 0.0921, -0.1195], requires_grad=True))"
      ]
     },
     "execution_count": 14,
     "metadata": {},
     "output_type": "execute_result"
    }
   ],
   "source": [
    "model = nn.Sequential(nn.Linear(16, 8),\n",
    "                      nn.Sigmoid(),\n",
    "                      nn.Linear(8, 2))\n",
    "\n",
    "# Access the weight of the first linear layer\n",
    "weight_0 = model[0].weight\n",
    "\n",
    "# Access the bias of the second linear layer\n",
    "bias_1 = model[2].bias\n",
    "\n",
    "weight_0, bias_1"
   ]
  },
  {
   "cell_type": "code",
   "execution_count": 15,
   "id": "12760943-09a7-4c33-8d0f-01d0bc0a5d99",
   "metadata": {},
   "outputs": [],
   "source": [
    "model = nn.Sequential(\n",
    "  nn.Linear(in_features=16, out_features=8, bias=True),\n",
    "  nn.Linear(in_features=8, out_features=4, bias=True),\n",
    "  nn.Linear(in_features=4, out_features=2, bias=True)\n",
    ")\n",
    "\n",
    "lr = 0.001"
   ]
  },
  {
   "cell_type": "code",
   "execution_count": 16,
   "id": "76b6e4f0-e7fb-4d01-ba54-579e29fd6acd",
   "metadata": {},
   "outputs": [
    {
     "data": {
      "text/plain": [
       "(tensor([[ 1.0892,  0.1766, -0.2482,  0.3880, -1.1886, -0.5971,  0.2545, -0.4066,\n",
       "           0.0260, -0.1568, -0.1238, -0.5466, -0.0319, -0.6419,  1.1982, -0.6694]]),\n",
       " tensor([1]))"
      ]
     },
     "execution_count": 16,
     "metadata": {},
     "output_type": "execute_result"
    }
   ],
   "source": [
    "# Assume we have some input data x, and corresponding target data y\n",
    "x = torch.randn(1, 16)  # Input data (batch size = 1, number of features = 16)\n",
    "y = torch.tensor([1])   # Target data (batch size = 1, number of classes = 2)\n",
    "\n",
    "x,y"
   ]
  },
  {
   "cell_type": "code",
   "execution_count": 17,
   "id": "a6530309-24c7-481d-be86-53e733cf2b05",
   "metadata": {},
   "outputs": [
    {
     "data": {
      "text/plain": [
       "tensor([[ 0.3291, -0.4872]], grad_fn=<AddmmBackward0>)"
      ]
     },
     "execution_count": 17,
     "metadata": {},
     "output_type": "execute_result"
    }
   ],
   "source": [
    "# Forward pass through the model\n",
    "output = model(x)\n",
    "output\n"
   ]
  },
  {
   "cell_type": "code",
   "execution_count": 18,
   "id": "951a5195-bb51-4691-bc7d-0f8961605fce",
   "metadata": {},
   "outputs": [
    {
     "data": {
      "text/plain": [
       "tensor(1.1824, grad_fn=<NllLossBackward0>)"
      ]
     },
     "execution_count": 18,
     "metadata": {},
     "output_type": "execute_result"
    }
   ],
   "source": [
    "# Define the loss function\n",
    "loss_function = nn.CrossEntropyLoss()\n",
    "\n",
    "# Calculate the loss\n",
    "loss = loss_function(output, y)\n",
    "loss\n"
   ]
  },
  {
   "cell_type": "code",
   "execution_count": 19,
   "id": "44268f8c-40b4-4747-84cd-fbfdeb519182",
   "metadata": {},
   "outputs": [],
   "source": [
    "# Define the learning rate\n",
    "lr = 0.001\n",
    "\n",
    "# Now perform a backward pass and update the weights\n",
    "loss.backward()"
   ]
  },
  {
   "cell_type": "code",
   "execution_count": 20,
   "id": "9acaf257-7ea1-435b-a0ae-5d0ddb41aa45",
   "metadata": {},
   "outputs": [
    {
     "data": {
      "text/plain": [
       "(Parameter containing:\n",
       " tensor([[-0.0717,  0.0509,  0.1893,  0.0219,  0.1592, -0.0188,  0.1918, -0.0388,\n",
       "          -0.1228, -0.2339,  0.0765, -0.0466,  0.1464, -0.1004,  0.2349,  0.0677],\n",
       "         [-0.2203,  0.0946,  0.1998,  0.0670,  0.1415, -0.0226,  0.0226, -0.0152,\n",
       "           0.1181,  0.1954, -0.2238, -0.1691, -0.2268,  0.1799, -0.1769, -0.1506],\n",
       "         [ 0.0441,  0.0798, -0.0110, -0.0103,  0.2231, -0.1987,  0.0642, -0.1450,\n",
       "           0.0424,  0.1472, -0.1651, -0.2152,  0.1633,  0.0149, -0.0009,  0.0086],\n",
       "         [ 0.1946, -0.0694,  0.0122,  0.0291, -0.1922,  0.2183,  0.0971, -0.1296,\n",
       "           0.0938, -0.1794,  0.0706, -0.2117, -0.0613, -0.0439, -0.0315,  0.0840],\n",
       "         [ 0.1510,  0.0443,  0.2113,  0.0456,  0.1811, -0.1664, -0.0184,  0.0016,\n",
       "          -0.2347,  0.1963, -0.0475, -0.1693,  0.0024, -0.0416,  0.0044, -0.0823],\n",
       "         [-0.0256, -0.0919, -0.2093,  0.0553,  0.1324,  0.0579, -0.0021,  0.1649,\n",
       "           0.0502, -0.1208,  0.0905, -0.1830,  0.0986, -0.1749, -0.1684,  0.0817],\n",
       "         [ 0.1640, -0.1586, -0.0104,  0.0036, -0.2498,  0.0632,  0.2061,  0.0360,\n",
       "           0.0221,  0.0429,  0.2473, -0.0596, -0.1299, -0.1276, -0.0572,  0.0513],\n",
       "         [ 0.1338,  0.1580, -0.2144, -0.1283,  0.0926, -0.1049, -0.0424, -0.1595,\n",
       "          -0.1421,  0.0573,  0.1745,  0.2412, -0.0579, -0.0197,  0.2210,  0.1105]],\n",
       "        requires_grad=True),\n",
       " Parameter containing:\n",
       " tensor([[ 0.3119,  0.1826,  0.1959,  0.1501, -0.0116, -0.2227, -0.2815, -0.2622],\n",
       "         [ 0.1492,  0.0668, -0.0491,  0.1297,  0.2441, -0.1032,  0.0528, -0.1891],\n",
       "         [ 0.2966,  0.0168, -0.2961,  0.3386, -0.0909,  0.3166,  0.1016,  0.0706],\n",
       "         [ 0.1759, -0.0173,  0.3089,  0.1654, -0.0799, -0.3105,  0.3472, -0.3112]],\n",
       "        requires_grad=True),\n",
       " Parameter containing:\n",
       " tensor([[ 0.3310, -0.2990, -0.2587,  0.1266],\n",
       "         [-0.0203,  0.2154,  0.3685, -0.4283]], requires_grad=True))"
      ]
     },
     "execution_count": 20,
     "metadata": {},
     "output_type": "execute_result"
    }
   ],
   "source": [
    "weight0 = model[0].weight\n",
    "weight1 = model[1].weight\n",
    "weight2 = model[2].weight\n",
    "\n",
    "weight0,weight1,weight2"
   ]
  },
  {
   "cell_type": "code",
   "execution_count": 21,
   "id": "f1f56ea9-b984-406e-8065-57bf7bc03e31",
   "metadata": {},
   "outputs": [
    {
     "data": {
      "text/plain": [
       "(tensor([[-4.1964e-02, -6.8032e-03,  9.5632e-03, -1.4948e-02,  4.5794e-02,\n",
       "           2.3005e-02, -9.8039e-03,  1.5665e-02, -1.0026e-03,  6.0408e-03,\n",
       "           4.7715e-03,  2.1059e-02,  1.2279e-03,  2.4732e-02, -4.6165e-02,\n",
       "           2.5792e-02],\n",
       "         [ 7.3225e-03,  1.1871e-03, -1.6687e-03,  2.6084e-03, -7.9907e-03,\n",
       "          -4.0143e-03,  1.7107e-03, -2.7335e-03,  1.7495e-04, -1.0541e-03,\n",
       "          -8.3259e-04, -3.6746e-03, -2.1426e-04, -4.3157e-03,  8.0555e-03,\n",
       "          -4.5005e-03],\n",
       "         [ 3.4078e-01,  5.5247e-02, -7.7661e-02,  1.2139e-01, -3.7188e-01,\n",
       "          -1.8682e-01,  7.9615e-02, -1.2722e-01,  8.1419e-03, -4.9056e-02,\n",
       "          -3.8748e-02, -1.7101e-01, -9.9716e-03, -2.0085e-01,  3.7489e-01,\n",
       "          -2.0945e-01],\n",
       "         [-1.0164e-01, -1.6477e-02,  2.3162e-02, -3.6204e-02,  1.1091e-01,\n",
       "           5.5717e-02, -2.3744e-02,  3.7941e-02, -2.4282e-03,  1.4630e-02,\n",
       "           1.1556e-02,  5.1003e-02,  2.9740e-03,  5.9901e-02, -1.1181e-01,\n",
       "           6.2465e-02],\n",
       "         [-8.8320e-02, -1.4318e-02,  2.0127e-02, -3.1461e-02,  9.6379e-02,\n",
       "           4.8417e-02, -2.0634e-02,  3.2970e-02, -2.1101e-03,  1.2714e-02,\n",
       "           1.0042e-02,  4.4321e-02,  2.5843e-03,  5.2053e-02, -9.7161e-02,\n",
       "           5.4282e-02],\n",
       "         [-2.9912e-01, -4.8493e-02,  6.8166e-02, -1.0655e-01,  3.2642e-01,\n",
       "           1.6398e-01, -6.9881e-02,  1.1166e-01, -7.1465e-03,  4.3058e-02,\n",
       "           3.4011e-02,  1.5011e-01,  8.7526e-03,  1.7629e-01, -3.2906e-01,\n",
       "           1.8384e-01],\n",
       "         [ 2.1981e-03,  3.5635e-04, -5.0092e-04,  7.8300e-04, -2.3987e-03,\n",
       "          -1.2050e-03,  5.1353e-04, -8.2056e-04,  5.2516e-05, -3.1642e-04,\n",
       "          -2.4993e-04, -1.1031e-03, -6.4319e-05, -1.2955e-03,  2.4181e-03,\n",
       "          -1.3510e-03],\n",
       "         [-1.6003e-01, -2.5944e-02,  3.6469e-02, -5.7005e-02,  1.7463e-01,\n",
       "           8.7730e-02, -3.7387e-02,  5.9740e-02, -3.8234e-03,  2.3036e-02,\n",
       "           1.8196e-02,  8.0308e-02,  4.6827e-03,  9.4317e-02, -1.7605e-01,\n",
       "           9.8356e-02]]),\n",
       " tensor([[-0.0049, -0.1478,  0.0221,  0.1574,  0.0628, -0.0213,  0.1249,  0.0618],\n",
       "         [ 0.0072,  0.2164, -0.0324, -0.2305, -0.0919,  0.0312, -0.1828, -0.0905],\n",
       "         [ 0.0088,  0.2638, -0.0395, -0.2810, -0.1121,  0.0380, -0.2229, -0.1103],\n",
       "         [-0.0078, -0.2334,  0.0349,  0.2486,  0.0992, -0.0336,  0.1972,  0.0976]]),\n",
       " tensor([[-0.0247, -0.0947, -0.0954, -0.0217],\n",
       "         [ 0.0247,  0.0947,  0.0954,  0.0217]]))"
      ]
     },
     "execution_count": 21,
     "metadata": {},
     "output_type": "execute_result"
    }
   ],
   "source": [
    "# Access the gradients of the weight of each linear layer\n",
    "grads0 = weight0.grad\n",
    "grads1 = weight1.grad\n",
    "grads2 = weight2.grad\n",
    "\n",
    "grads0,grads1,grads2"
   ]
  },
  {
   "cell_type": "code",
   "execution_count": 22,
   "id": "6e2cb45f-96c2-4fbe-b869-8adf4319f52c",
   "metadata": {},
   "outputs": [
    {
     "data": {
      "text/plain": [
       "(tensor([[-0.0716,  0.0509,  0.1892,  0.0219,  0.1592, -0.0188,  0.1918, -0.0389,\n",
       "          -0.1228, -0.2339,  0.0765, -0.0467,  0.1464, -0.1004,  0.2349,  0.0677],\n",
       "         [-0.2203,  0.0946,  0.1998,  0.0670,  0.1415, -0.0226,  0.0226, -0.0152,\n",
       "           0.1181,  0.1954, -0.2238, -0.1691, -0.2268,  0.1799, -0.1769, -0.1506],\n",
       "         [ 0.0437,  0.0797, -0.0110, -0.0104,  0.2235, -0.1985,  0.0641, -0.1449,\n",
       "           0.0424,  0.1473, -0.1651, -0.2151,  0.1634,  0.0151, -0.0013,  0.0088],\n",
       "         [ 0.1947, -0.0694,  0.0122,  0.0292, -0.1924,  0.2182,  0.0972, -0.1297,\n",
       "           0.0938, -0.1794,  0.0706, -0.2117, -0.0613, -0.0439, -0.0314,  0.0839],\n",
       "         [ 0.1511,  0.0443,  0.2113,  0.0456,  0.1810, -0.1665, -0.0184,  0.0016,\n",
       "          -0.2347,  0.1962, -0.0475, -0.1693,  0.0024, -0.0417,  0.0045, -0.0824],\n",
       "         [-0.0253, -0.0919, -0.2094,  0.0555,  0.1320,  0.0577, -0.0021,  0.1648,\n",
       "           0.0502, -0.1208,  0.0904, -0.1831,  0.0985, -0.1751, -0.1681,  0.0815],\n",
       "         [ 0.1640, -0.1586, -0.0104,  0.0036, -0.2498,  0.0632,  0.2061,  0.0360,\n",
       "           0.0221,  0.0429,  0.2473, -0.0596, -0.1299, -0.1276, -0.0572,  0.0513],\n",
       "         [ 0.1340,  0.1581, -0.2144, -0.1283,  0.0924, -0.1050, -0.0424, -0.1596,\n",
       "          -0.1421,  0.0572,  0.1745,  0.2411, -0.0579, -0.0198,  0.2212,  0.1104]],\n",
       "        grad_fn=<SubBackward0>),\n",
       " tensor([[ 0.3119,  0.1828,  0.1959,  0.1499, -0.0116, -0.2227, -0.2816, -0.2623],\n",
       "         [ 0.1492,  0.0665, -0.0490,  0.1299,  0.2441, -0.1033,  0.0529, -0.1890],\n",
       "         [ 0.2966,  0.0165, -0.2960,  0.3389, -0.0908,  0.3166,  0.1018,  0.0708],\n",
       "         [ 0.1759, -0.0171,  0.3089,  0.1651, -0.0800, -0.3105,  0.3470, -0.3113]],\n",
       "        grad_fn=<SubBackward0>),\n",
       " tensor([[ 0.3311, -0.2989, -0.2586,  0.1266],\n",
       "         [-0.0204,  0.2153,  0.3684, -0.4283]], grad_fn=<SubBackward0>))"
      ]
     },
     "execution_count": 22,
     "metadata": {},
     "output_type": "execute_result"
    }
   ],
   "source": [
    "# Update the weights using the learning rate and the gradients\n",
    "weight0 = weight0 - lr*grads0\n",
    "weight1 = weight1 - lr*grads1\n",
    "weight2 = weight2 - lr*grads2\n",
    "\n",
    "weight0,weight1,weight2"
   ]
  },
  {
   "cell_type": "code",
   "execution_count": 23,
   "id": "da68b0d1-21d3-41a8-bc47-04b50b5025d7",
   "metadata": {},
   "outputs": [
    {
     "name": "stdout",
     "output_type": "stream",
     "text": [
      "WEIGHT\n",
      "Parameter containing:\n",
      "tensor([[-0.0716,  0.0509,  0.1892,  0.0219,  0.1592, -0.0188,  0.1918, -0.0389,\n",
      "         -0.1228, -0.2339,  0.0765, -0.0467,  0.1464, -0.1004,  0.2349,  0.0677],\n",
      "        [-0.2203,  0.0946,  0.1998,  0.0670,  0.1415, -0.0226,  0.0226, -0.0152,\n",
      "          0.1181,  0.1954, -0.2238, -0.1691, -0.2268,  0.1799, -0.1769, -0.1506],\n",
      "        [ 0.0437,  0.0797, -0.0110, -0.0104,  0.2235, -0.1985,  0.0641, -0.1449,\n",
      "          0.0424,  0.1473, -0.1651, -0.2151,  0.1634,  0.0151, -0.0013,  0.0088],\n",
      "        [ 0.1947, -0.0694,  0.0122,  0.0292, -0.1924,  0.2182,  0.0972, -0.1297,\n",
      "          0.0938, -0.1794,  0.0706, -0.2117, -0.0613, -0.0439, -0.0314,  0.0839],\n",
      "        [ 0.1511,  0.0443,  0.2113,  0.0456,  0.1810, -0.1665, -0.0184,  0.0016,\n",
      "         -0.2347,  0.1962, -0.0475, -0.1693,  0.0024, -0.0417,  0.0045, -0.0824],\n",
      "        [-0.0253, -0.0919, -0.2094,  0.0555,  0.1320,  0.0577, -0.0021,  0.1648,\n",
      "          0.0502, -0.1208,  0.0904, -0.1831,  0.0985, -0.1751, -0.1681,  0.0815],\n",
      "        [ 0.1640, -0.1586, -0.0104,  0.0036, -0.2498,  0.0632,  0.2061,  0.0360,\n",
      "          0.0221,  0.0429,  0.2473, -0.0596, -0.1299, -0.1276, -0.0572,  0.0513],\n",
      "        [ 0.1340,  0.1581, -0.2144, -0.1283,  0.0924, -0.1050, -0.0424, -0.1596,\n",
      "         -0.1421,  0.0572,  0.1745,  0.2411, -0.0579, -0.0198,  0.2212,  0.1104]],\n",
      "       requires_grad=True)\n",
      "--------------------\n",
      "BIAS\n",
      "Parameter containing:\n",
      "tensor([-0.1446, -0.0901,  0.0063,  0.1888,  0.0928,  0.1814,  0.0819,  0.0307],\n",
      "       requires_grad=True)\n",
      "--------------------\n",
      "WEIGHT\n",
      "Parameter containing:\n",
      "tensor([[ 0.3119,  0.1828,  0.1959,  0.1499, -0.0116, -0.2227, -0.2816, -0.2623],\n",
      "        [ 0.1492,  0.0665, -0.0490,  0.1299,  0.2441, -0.1033,  0.0529, -0.1890],\n",
      "        [ 0.2966,  0.0165, -0.2960,  0.3389, -0.0908,  0.3166,  0.1018,  0.0708],\n",
      "        [ 0.1759, -0.0171,  0.3089,  0.1651, -0.0800, -0.3105,  0.3470, -0.3113]],\n",
      "       requires_grad=True)\n",
      "--------------------\n",
      "BIAS\n",
      "Parameter containing:\n",
      "tensor([ 0.1607, -0.2230, -0.3317, -0.2790], requires_grad=True)\n",
      "--------------------\n",
      "WEIGHT\n",
      "Parameter containing:\n",
      "tensor([[ 0.3311, -0.2989, -0.2586,  0.1266],\n",
      "        [-0.0204,  0.2153,  0.3684, -0.4283]], requires_grad=True)\n",
      "--------------------\n",
      "BIAS\n",
      "Parameter containing:\n",
      "tensor([ 0.2678, -0.4205], requires_grad=True)\n",
      "--------------------\n"
     ]
    }
   ],
   "source": [
    "\n",
    "# Update the weights\n",
    "with torch.no_grad():\n",
    "    for param in model.parameters():\n",
    "        param -= lr * param.grad\n",
    "        if len(param.shape) == 1:\n",
    "            print('BIAS')\n",
    "        else:\n",
    "            print('WEIGHT')\n",
    "        print(param)\n",
    "        print('--------------------')\n",
    "\n"
   ]
  },
  {
   "cell_type": "code",
   "execution_count": 24,
   "id": "feac2c91-57e3-42f8-86ee-0ba3d9376076",
   "metadata": {},
   "outputs": [],
   "source": [
    "# The model.zero_grad() line is used to reset the gradients of all the model parameters to zero.\n",
    "\n",
    "# In PyTorch, when you call .backward() on the loss tensor, it computes the derivative of the loss with respect to all the parameters in the loss function that have requires_grad=True. These gradients are accumulated into the .grad attribute of each parameter.\n",
    "\n",
    "# This means that for each mini-batch of inputs in your dataset, the gradients are accumulated (i.e., summed up) across all mini-batches. Therefore, you would want to zero out the gradients at the start of a new mini-batch, so that you can start fresh for each mini-batch.\n",
    "\n",
    "# If you don’t zero the gradients at each mini batch, the gradient would point in some other direction than the intended direction towards the minimum (or maximum, in case of maximization objectives). This is because PyTorch accumulates the gradients on subsequent backward passes, which is convenient while training RNNs. Hence, the default action is to accumulate (i.e., sum) the gradients on every loss.backward() call.\n",
    "\n",
    "model.zero_grad()"
   ]
  },
  {
   "cell_type": "code",
   "execution_count": 25,
   "id": "a92500d0-63e7-472f-bc48-e7086783227f",
   "metadata": {},
   "outputs": [
    {
     "data": {
      "text/plain": [
       "SGD (\n",
       "Parameter Group 0\n",
       "    dampening: 0\n",
       "    differentiable: False\n",
       "    foreach: None\n",
       "    lr: 0.001\n",
       "    maximize: False\n",
       "    momentum: 0\n",
       "    nesterov: False\n",
       "    weight_decay: 0\n",
       ")"
      ]
     },
     "execution_count": 25,
     "metadata": {},
     "output_type": "execute_result"
    }
   ],
   "source": [
    "import torch.optim as optim\n",
    "\n",
    "# Create the optimizer\n",
    "optimizer = optim.SGD(model.parameters(), lr=0.001)\n",
    "optimizer\n"
   ]
  },
  {
   "cell_type": "code",
   "execution_count": 26,
   "id": "a901f1e4-eca8-4ede-ba9b-a142719df91c",
   "metadata": {},
   "outputs": [
    {
     "data": {
      "text/plain": [
       "tensor(1.0484, grad_fn=<DivBackward1>)"
      ]
     },
     "execution_count": 26,
     "metadata": {},
     "output_type": "execute_result"
    }
   ],
   "source": [
    "criterion = nn.CrossEntropyLoss()\n",
    "\n",
    "pred = torch.tensor([[-0.0988,  0.5181]] , requires_grad=True)\n",
    "\n",
    "target = torch.tensor([[1., 0.]], requires_grad=True)\n",
    "\n",
    "loss = criterion(pred, target)\n",
    "\n",
    "loss"
   ]
  },
  {
   "cell_type": "code",
   "execution_count": 27,
   "id": "45b9902c-da40-489f-a39e-de87a302cabc",
   "metadata": {},
   "outputs": [],
   "source": [
    "loss.backward()"
   ]
  },
  {
   "cell_type": "code",
   "execution_count": 28,
   "id": "fa5f972a-f996-4980-a817-94a568d7db81",
   "metadata": {},
   "outputs": [
    {
     "data": {
      "text/plain": [
       "SGD (\n",
       "Parameter Group 0\n",
       "    dampening: 0\n",
       "    differentiable: False\n",
       "    foreach: None\n",
       "    lr: 0.001\n",
       "    maximize: False\n",
       "    momentum: 0\n",
       "    nesterov: False\n",
       "    weight_decay: 0\n",
       ")"
      ]
     },
     "execution_count": 28,
     "metadata": {},
     "output_type": "execute_result"
    }
   ],
   "source": [
    "# Update the model's parameters using the optimizer\n",
    "optimizer.step()\n",
    "optimizer"
   ]
  },
  {
   "cell_type": "code",
   "execution_count": 29,
   "id": "e4545a45-af7e-4001-9fe8-9a78fa03ca7d",
   "metadata": {},
   "outputs": [
    {
     "name": "stdout",
     "output_type": "stream",
     "text": [
      "81.0 tensor(81.)\n"
     ]
    }
   ],
   "source": [
    "y_hat = np.array(10)\n",
    "y = np.array(1)\n",
    "\n",
    "# Calculate the MSELoss using NumPy\n",
    "mse_numpy = np.mean((y_hat - y)**2)\n",
    "\n",
    "# Create the MSELoss function\n",
    "criterion = nn.MSELoss()\n",
    "\n",
    "# Calculate the MSELoss using the created loss function\n",
    "mse_pytorch = criterion(torch.tensor(y_hat).float(), torch.tensor(y).float())\n",
    "print(mse_numpy, mse_pytorch)"
   ]
  },
  {
   "cell_type": "code",
   "execution_count": 30,
   "id": "7af21663-a513-47a4-b70e-0f25680e0e76",
   "metadata": {},
   "outputs": [],
   "source": [
    "features = np.array([[1. , 0. , 0. , 2. ],\n",
    "                   [2. , 0. , 0. , 0. ],\n",
    "                   [2. , 0. , 0.5, 1. ],\n",
    "                   [2. , 0. , 0. , 1. ],\n",
    "                   [2. , 0. , 1. , 1. ],\n",
    "                   [1. , 0. , 1. , 2. ]])\n",
    "\n",
    "target = torch.tensor([[0.1562],\n",
    "                       [0.3750],\n",
    "                       [0.3422],\n",
    "                       [0.1234],  # Example value\n",
    "                       [0.5678],  # Example value\n",
    "                       [0.9101]])  # Example value"
   ]
  },
  {
   "cell_type": "code",
   "execution_count": 31,
   "id": "9e46b808-4daa-4d07-8015-ad6a0de6f3ee",
   "metadata": {},
   "outputs": [
    {
     "name": "stderr",
     "output_type": "stream",
     "text": [
      "C:\\Users\\Alienware\\AppData\\Local\\Temp\\ipykernel_40668\\3058105529.py:5: UserWarning: To copy construct from a tensor, it is recommended to use sourceTensor.clone().detach() or sourceTensor.clone().detach().requires_grad_(True), rather than torch.tensor(sourceTensor).\n",
      "  dataset = TensorDataset(torch.tensor(features).float(), torch.tensor(target).float())\n"
     ]
    },
    {
     "data": {
      "text/plain": [
       "<torch.utils.data.dataset.TensorDataset at 0x297578e93c0>"
      ]
     },
     "execution_count": 31,
     "metadata": {},
     "output_type": "execute_result"
    }
   ],
   "source": [
    "num_epochs = 10\n",
    "\n",
    "from torch.utils.data import TensorDataset\n",
    "\n",
    "dataset = TensorDataset(torch.tensor(features).float(), torch.tensor(target).float())\n",
    "dataset\n"
   ]
  },
  {
   "cell_type": "code",
   "execution_count": 32,
   "id": "e8c123cc-7226-4e41-857b-05156443efeb",
   "metadata": {},
   "outputs": [
    {
     "data": {
      "text/plain": [
       "<torch.utils.data.dataloader.DataLoader at 0x297578e8b80>"
      ]
     },
     "execution_count": 32,
     "metadata": {},
     "output_type": "execute_result"
    }
   ],
   "source": [
    "from torch.utils.data import DataLoader\n",
    "\n",
    "dataloader = DataLoader(dataset, batch_size=4, shuffle=True)\n",
    "dataloader"
   ]
  },
  {
   "cell_type": "code",
   "execution_count": 34,
   "id": "4d0346b6-9e5b-4dbf-8bc4-a21e4eade32c",
   "metadata": {},
   "outputs": [],
   "source": [
    "data = [torch.tensor([[2., 0., 1., 1.],\n",
    "         [2., 0., 1., 2.],\n",
    "         [2., 0., 0., 1.]]),\n",
    " torch.tensor([[0.1562],\n",
    "         [0.3750],\n",
    "         [0.3422]])]"
   ]
  },
  {
   "cell_type": "code",
   "execution_count": 35,
   "id": "b7dd0c65-fff2-4ef2-b00d-38cf361a627a",
   "metadata": {},
   "outputs": [],
   "source": [
    "model = nn.Sequential(\n",
    "  nn.Linear(in_features=4, out_features=2, bias=True),\n",
    "  nn.Sigmoid(),\n",
    "  nn.Linear(in_features=2, out_features=1, bias=True)\n",
    ")"
   ]
  },
  {
   "cell_type": "code",
   "execution_count": 36,
   "id": "50f912fc-9bc9-4bf5-9e32-ad7d090df48c",
   "metadata": {},
   "outputs": [],
   "source": [
    "# Loop over the number of epochs and the dataloader\n",
    "for i in range(num_epochs):\n",
    "    for data in dataloader:\n",
    "        # Set the gradients to zero\n",
    "        optimizer.zero_grad()\n",
    "        # Run a forward pass\n",
    "        feature, target = data\n",
    "        prediction = model(feature)    \n",
    "        # Calculate the loss\n",
    "        loss = criterion(prediction, target)    \n",
    "        # Compute the gradients\n",
    "        loss.backward()\n",
    "        # Update the model's parameters\n",
    "        optimizer.step()\n"
   ]
  },
  {
   "cell_type": "code",
   "execution_count": 37,
   "id": "f90f74a4-4c47-4376-a782-5166bff94320",
   "metadata": {},
   "outputs": [
    {
     "name": "stdout",
     "output_type": "stream",
     "text": [
      "Ground truth salary: 0.123. Predicted salary: 0.164.\n",
      "Ground truth salary: 0.910. Predicted salary: 0.131.\n",
      "Ground truth salary: 0.342. Predicted salary: 0.154.\n",
      "Ground truth salary: 0.375. Predicted salary: 0.150.\n",
      "Ground truth salary: 0.156. Predicted salary: 0.151.\n",
      "Ground truth salary: 0.568. Predicted salary: 0.144.\n"
     ]
    }
   ],
   "source": [
    "def show_results(model, dataloader):\n",
    "    model.eval() #  before you run inference on a model trained with dropout and/or batch normalization, you should call model.eval() to set these layers to evaluation mode. If you want to switch back to training mode later, you can use model.train().\n",
    "    for feature, target in dataloader:\n",
    "        preds = model(feature)\n",
    "        for p, t in zip(preds, target):\n",
    "            print(f'Ground truth salary: {t.item():.3f}. Predicted salary: {p.item():.3f}.')\n",
    "            \n",
    "show_results(model, dataloader)"
   ]
  },
  {
   "cell_type": "code",
   "execution_count": 38,
   "id": "6c92ce30-6f19-4c66-a6ad-3143076218f6",
   "metadata": {},
   "outputs": [
    {
     "name": "stdout",
     "output_type": "stream",
     "text": [
      "tensor(-1., requires_grad=True)\n",
      "tensor(0.)\n"
     ]
    }
   ],
   "source": [
    "# Notice that the input value was -1, and the ReLU function returned zero. Recall from the graph in the video that for negative values of x, the output of ReLU is always zero, and indeed the gradient is zero everywhere because there is no change in the function with respect to any negative value of x.\n",
    "\n",
    "# Create a ReLU function with PyTorch\n",
    "relu_pytorch = nn.ReLU()\n",
    "\n",
    "# Apply your ReLU function on x, and calculate gradients\n",
    "x = torch.tensor(-1.0, requires_grad=True)\n",
    "y = relu_pytorch(x)\n",
    "y.backward()\n",
    "\n",
    "# Print the gradient of the ReLU function for x\n",
    "gradient = x.grad\n",
    "print(x) \n",
    "print(gradient)"
   ]
  },
  {
   "cell_type": "code",
   "execution_count": 39,
   "id": "1d5621a1-466f-4578-af96-5e9eac135227",
   "metadata": {},
   "outputs": [
    {
     "name": "stdout",
     "output_type": "stream",
     "text": [
      "tensor(-2.)\n",
      "tensor(-0.1000)\n"
     ]
    }
   ],
   "source": [
    "# Create a leaky relu function in PyTorch\n",
    "leaky_relu_pytorch = nn.LeakyReLU(negative_slope=0.05)\n",
    "\n",
    "x = torch.tensor(-2.0)\n",
    "# Call the above function on the tensor x\n",
    "output = leaky_relu_pytorch(x)\n",
    "print(x) \n",
    "print(output)"
   ]
  },
  {
   "cell_type": "code",
   "execution_count": 40,
   "id": "51ea922b-75ac-4952-858c-f92603dfc969",
   "metadata": {},
   "outputs": [
    {
     "name": "stdout",
     "output_type": "stream",
     "text": [
      "Parameter containing:\n",
      "tensor([[ 0.1862,  0.0980, -0.1222,  0.1005,  0.1069, -0.2354, -0.1772, -0.1721,\n",
      "         -0.0939, -0.0653,  0.1532,  0.1419,  0.1502,  0.0098, -0.1772, -0.1423],\n",
      "        [ 0.1687, -0.1717, -0.2025, -0.0505, -0.0299,  0.0332, -0.2159, -0.1751,\n",
      "         -0.1178,  0.0551, -0.0579, -0.0094,  0.0810, -0.1966, -0.0330, -0.0307],\n",
      "        [-0.0525, -0.1033,  0.1734,  0.1692, -0.0948,  0.2383,  0.0143,  0.1720,\n",
      "          0.2289,  0.2408,  0.1240, -0.2185, -0.0529,  0.1023,  0.2017,  0.1537],\n",
      "        [-0.0897,  0.1599,  0.2161,  0.1353,  0.1505, -0.0355, -0.1075,  0.2073,\n",
      "         -0.2126,  0.1721, -0.1590, -0.1908,  0.1370,  0.0106,  0.2269,  0.1264]],\n",
      "       requires_grad=True)\n",
      "64\n",
      "Parameter containing:\n",
      "tensor([-0.1000,  0.1100,  0.2212,  0.0705], requires_grad=True)\n",
      "4\n",
      "Parameter containing:\n",
      "tensor([[ 0.3728,  0.3595,  0.0345,  0.1524],\n",
      "        [-0.1663,  0.0389, -0.1561, -0.4902]], requires_grad=True)\n",
      "8\n",
      "Parameter containing:\n",
      "tensor([-0.0411,  0.3119], requires_grad=True)\n",
      "2\n",
      "Parameter containing:\n",
      "tensor([[ 0.0982, -0.7031]], requires_grad=True)\n",
      "2\n",
      "Parameter containing:\n",
      "tensor([-0.0926], requires_grad=True)\n",
      "1\n"
     ]
    },
    {
     "data": {
      "text/plain": [
       "81"
      ]
     },
     "execution_count": 40,
     "metadata": {},
     "output_type": "execute_result"
    }
   ],
   "source": [
    "model = nn.Sequential(nn.Linear(16, 4),\n",
    "                      nn.Linear(4, 2),\n",
    "                      nn.Linear(2, 1))\n",
    "\n",
    "total = 0\n",
    "\n",
    "# Calculate the number of parameters in the model\n",
    "for par in model.parameters():\n",
    "    print(par)\n",
    "    print(par.numel())\n",
    "    total += par.numel()\n",
    "    \n",
    "total"
   ]
  },
  {
   "cell_type": "code",
   "execution_count": 41,
   "id": "f84f1ece-e895-4093-8d47-71f20011a0da",
   "metadata": {},
   "outputs": [],
   "source": [
    "def calculate_capacity(model):\n",
    "    total = 0\n",
    "    for p in model.parameters():\n",
    "        total += p.numel()\n",
    "    return total"
   ]
  },
  {
   "cell_type": "code",
   "execution_count": 42,
   "id": "76ec9be6-3a87-4ddd-9619-660db24f8dc2",
   "metadata": {},
   "outputs": [
    {
     "name": "stdout",
     "output_type": "stream",
     "text": [
      "118\n"
     ]
    }
   ],
   "source": [
    "n_features = 8\n",
    "n_classes = 2\n",
    "\n",
    "input_tensor = torch.Tensor([[3, 4, 6, 2, 3, 6, 8, 9]])\n",
    "\n",
    "# Create a neural network with less than 120 parameters\n",
    "model = nn.Sequential(nn.Linear(n_features, 8),\n",
    "                      nn.Linear(8, 4),\n",
    "                      nn.Linear(4, n_classes))\n",
    "output = model(input_tensor)\n",
    "\n",
    "print(calculate_capacity(model))"
   ]
  },
  {
   "cell_type": "code",
   "execution_count": 43,
   "id": "c7d04d47-687c-4a84-b9fb-7806879df693",
   "metadata": {},
   "outputs": [
    {
     "name": "stdout",
     "output_type": "stream",
     "text": [
      "326\n"
     ]
    }
   ],
   "source": [
    "n_features = 8\n",
    "n_classes = 2\n",
    "\n",
    "input_tensor = torch.Tensor([[3, 4, 6, 2, 3, 6, 8, 9]])\n",
    "\n",
    "# Create a neural network with more than 120 parameters\n",
    "model = nn.Sequential(nn.Linear(n_features, 16),\n",
    "                      nn.Linear(16, 8),\n",
    "                      nn.Linear(8, 4),\n",
    "                      nn.Linear(4, n_classes))\n",
    "\n",
    "output = model(input_tensor)\n",
    "\n",
    "print(calculate_capacity(model))"
   ]
  },
  {
   "cell_type": "code",
   "execution_count": 44,
   "id": "45f2a2bc-065d-4a84-9004-c74df6b8c268",
   "metadata": {},
   "outputs": [],
   "source": [
    "def function(x):\n",
    "    return x**4 + x**3 - 5*x**2 "
   ]
  },
  {
   "cell_type": "code",
   "execution_count": 45,
   "id": "716e7892-d4c7-40de-99bb-7ed216f7e727",
   "metadata": {},
   "outputs": [
    {
     "data": {
      "text/plain": [
       "(tensor(2., requires_grad=True), tensor(4., grad_fn=<SubBackward0>))"
      ]
     },
     "execution_count": 45,
     "metadata": {},
     "output_type": "execute_result"
    }
   ],
   "source": [
    "x = torch.tensor(2.0, requires_grad=True)\n",
    "y = function(x)\n",
    "\n",
    "x, y\n"
   ]
  },
  {
   "cell_type": "code",
   "execution_count": 46,
   "id": "e0bd0728-afc4-44dc-b782-e18950ed3bfb",
   "metadata": {},
   "outputs": [],
   "source": [
    "# This code defines a function optimize_and_plot that optimizes a function using gradient descent and plots the steps of the optimizer. The learning rate lr and momentum are parameters of the function. The function uses PyTorch for the optimization and matplotlib for the plotting. The function being optimized is defined elsewhere in the code. The plot shows the steps of the optimizer in red and the function being optimized in blue. Each step of the optimizer is labeled with its step number. The plot is displayed using plt.show().\n",
    "\n",
    "import matplotlib.pyplot as plt\n",
    "\n",
    "def optimize_and_plot(lr=0.01, momentum=0.0):\n",
    "    # Initialize the variable x and the buffer for momentum\n",
    "    x = torch.tensor(2.0, requires_grad=True)\n",
    "    buffer = torch.zeros_like(x.data)\n",
    "    values = []\n",
    "\n",
    "    # Perform optimization for 10 steps (run 10 steps of the SGD optimizer)\n",
    "    for i in range(10):\n",
    "        # Compute the function value at current x\n",
    "        y = function(x)\n",
    "        # Store the current x and y values\n",
    "        values.append((x.clone(), y.clone()))\n",
    "        # Compute the gradient of y with respect to x\n",
    "        y.backward()\n",
    "\n",
    "        # Update x using gradient descent with optional momentum\n",
    "        d_p = x.grad.data\n",
    "        if momentum != 0:\n",
    "            # Apply momentum to the gradient\n",
    "            buffer.mul_(momentum).add_(d_p)\n",
    "            d_p = buffer\n",
    "\n",
    "        # Update x using the computed gradient\n",
    "        x.data.add_(d_p, alpha=-lr)\n",
    "        # Reset the gradient of x to zero\n",
    "        x.grad.zero_()\n",
    "\n",
    "    # Generate a range of x values for plotting the function\n",
    "    x = np.arange(-3, 2, 0.001)\n",
    "    y = function(x)\n",
    "\n",
    "    # Plot the function and the steps taken by the optimizer\n",
    "    plt.figure(figsize=(10, 5))\n",
    "    plt.plot([v[0].detach().numpy() for v in values], [v[1].detach().numpy() for v in values], 'r-X', linewidth=2, markersize=7)\n",
    "    for i in range(10):\n",
    "        # Annotate the optimizer steps on the plot\n",
    "        plt.text(values[i][0]+0.1, values[i][1], f'step {i}', fontdict={'color': 'r'})\n",
    "    # Plot the function\n",
    "    plt.plot(x, y, linewidth=2)\n",
    "    plt.grid()\n",
    "    plt.tick_params(axis='both', which='major', labelsize=12)\n",
    "    plt.legend(['Optimizer steps', 'Square function'])\n",
    "    plt.show()\n",
    "\n"
   ]
  },
  {
   "cell_type": "code",
   "execution_count": 47,
   "id": "4cb71457-674e-421e-a5b5-001ce7314e0a",
   "metadata": {},
   "outputs": [
    {
     "data": {
      "image/png": "[encoded data removed]",
      "text/plain": [
       "<Figure size 1000x500 with 1 Axes>"
      ]
     },
     "metadata": {},
     "output_type": "display_data"
    }
   ],
   "source": [
    "# Try a first learning rate value\n",
    "lr0 = 0.001\n",
    "optimize_and_plot(lr=lr0)"
   ]
  },
  {
   "cell_type": "code",
   "execution_count": 48,
   "id": "4cd32146-5972-4314-93c6-68b4e7478e15",
   "metadata": {},
   "outputs": [
    {
     "data": {
      "image/png": "[encoded data removed]",
      "text/plain": [
       "<Figure size 1000x500 with 1 Axes>"
      ]
     },
     "metadata": {},
     "output_type": "display_data"
    }
   ],
   "source": [
    "# Try a second learning rate value\n",
    "lr1 = 0.01\n",
    "optimize_and_plot(lr=lr1)"
   ]
  },
  {
   "cell_type": "code",
   "execution_count": 49,
   "id": "6fecf1cf-5162-4f9a-aa16-1f10dd90d824",
   "metadata": {},
   "outputs": [
    {
     "data": {
      "image/png": "[encoded data removed]",
      "text/plain": [
       "<Figure size 1000x500 with 1 Axes>"
      ]
     },
     "metadata": {},
     "output_type": "display_data"
    }
   ],
   "source": [
    "# Try a better learning rate value\n",
    "lr2 = 0.094\n",
    "optimize_and_plot(lr=lr2)"
   ]
  },
  {
   "cell_type": "code",
   "execution_count": 50,
   "id": "1dc567f0-bc47-4812-812f-54ec366b1165",
   "metadata": {},
   "outputs": [
    {
     "data": {
      "image/png": "[encoded data removed]",
      "text/plain": [
       "<Figure size 1000x500 with 1 Axes>"
      ]
     },
     "metadata": {},
     "output_type": "display_data"
    }
   ],
   "source": [
    "# Try a too high learning rate value\n",
    "lr2 = 0.15\n",
    "optimize_and_plot(lr=lr2)"
   ]
  },
  {
   "cell_type": "code",
   "execution_count": 51,
   "id": "61a0284c-e9e0-4e6a-9b43-f9842e09e5d2",
   "metadata": {},
   "outputs": [],
   "source": [
    "# same function, with 20 steps\n",
    "\n",
    "def optimize_and_plot(lr=0.01, momentum=0.0):\n",
    "    # Initialize the variable x and the buffer for momentum\n",
    "    x = torch.tensor(2.0, requires_grad=True)\n",
    "    buffer = torch.zeros_like(x.data)\n",
    "    values = []\n",
    "\n",
    "    # Perform optimization for 20 steps (run 20 steps of the SGD optimizer)\n",
    "    for i in range(20):\n",
    "        # Compute the function value at current x\n",
    "        y = function(x)\n",
    "        # Store the current x and y values\n",
    "        values.append((x.clone(), y.clone()))\n",
    "        # Compute the gradient of y with respect to x\n",
    "        y.backward()\n",
    "\n",
    "        # Update x using gradient descent with optional momentum\n",
    "        d_p = x.grad.data\n",
    "        if momentum != 0:\n",
    "            # Apply momentum to the gradient\n",
    "            buffer.mul_(momentum).add_(d_p)\n",
    "            d_p = buffer\n",
    "\n",
    "        # Update x using the computed gradient\n",
    "        x.data.add_(d_p, alpha=-lr)\n",
    "        # Reset the gradient of x to zero\n",
    "        x.grad.zero_()\n",
    "\n",
    "    # Generate a range of x values for plotting the function\n",
    "    x = np.arange(-3, 2, 0.001)\n",
    "    y = function(x)\n",
    "\n",
    "    # Plot the function and the steps taken by the optimizer\n",
    "    plt.figure(figsize=(10, 5))\n",
    "    plt.plot([v[0].detach().numpy() for v in values], [v[1].detach().numpy() for v in values], 'r-X', linewidth=2, markersize=7)\n",
    "    for i in range(10):\n",
    "        # Annotate the optimizer steps on the plot\n",
    "        plt.text(values[i][0]+0.1, values[i][1], f'step {i}', fontdict={'color': 'r'})\n",
    "    # Plot the function\n",
    "    plt.plot(x, y, linewidth=2)\n",
    "    plt.grid()\n",
    "    plt.tick_params(axis='both', which='major', labelsize=12)\n",
    "    plt.legend(['Optimizer steps', 'Square function'])\n",
    "    plt.show()"
   ]
  },
  {
   "cell_type": "code",
   "execution_count": 52,
   "id": "f083ff2e-bac1-447d-b3d4-dbfb0710bd67",
   "metadata": {},
   "outputs": [
    {
     "data": {
      "image/png": "[encoded data removed]",
      "text/plain": [
       "<Figure size 1000x500 with 1 Axes>"
      ]
     },
     "metadata": {},
     "output_type": "display_data"
    }
   ],
   "source": [
    "# Try a first value for momentum,to get stuck in the first minimum\n",
    "\n",
    "mom0 = 0.8\n",
    "optimize_and_plot(momentum=mom0)"
   ]
  },
  {
   "cell_type": "code",
   "execution_count": 53,
   "id": "4502fd59-d978-4981-b53c-01838235378a",
   "metadata": {},
   "outputs": [
    {
     "data": {
      "image/png": "[encoded data removed]",
      "text/plain": [
       "<Figure size 1000x500 with 1 Axes>"
      ]
     },
     "metadata": {},
     "output_type": "display_data"
    }
   ],
   "source": [
    "# Try a second value for momentum to reach the global minimum\n",
    "\n",
    "mom1 = 0.95\n",
    "optimize_and_plot(momentum=mom1)"
   ]
  },
  {
   "cell_type": "code",
   "execution_count": 54,
   "id": "aa0f5f15-44bd-4b61-8212-8631cbe3e0d5",
   "metadata": {},
   "outputs": [],
   "source": [
    "model = nn.Sequential(\n",
    "  nn.Linear(in_features=8, out_features=16, bias=True),\n",
    "  nn.Linear(in_features=16, out_features=32, bias=True),\n",
    "  nn.Linear(in_features=32, out_features=10, bias=True)\n",
    ")"
   ]
  },
  {
   "cell_type": "code",
   "execution_count": 55,
   "id": "43873787-83e7-4f51-bc5a-b67c93ad9069",
   "metadata": {},
   "outputs": [
    {
     "name": "stdout",
     "output_type": "stream",
     "text": [
      "0.weight\n",
      "0.bias\n",
      "1.weight\n",
      "1.bias\n",
      "2.weight\n",
      "2.bias\n"
     ]
    }
   ],
   "source": [
    "for name, param in model.named_parameters(): \n",
    "    print (name)"
   ]
  },
  {
   "cell_type": "code",
   "execution_count": 56,
   "id": "36cb4b46-d049-40cb-aa2a-cd61672ffc5c",
   "metadata": {},
   "outputs": [],
   "source": [
    "for name, param in model.named_parameters():    \n",
    "  \n",
    "    # Check if the parameters belong to the first layer\n",
    "    if name == '0.weight' or name == '0.bias':\n",
    "      \n",
    "        # Freeze the parameters\n",
    "        param.requires_grad = False\n",
    "  \n",
    "    # Check if the parameters belong to the second layer\n",
    "    if name == '1.weight' or name == '1.bias':\n",
    "      \n",
    "        # Freeze the parameters\n",
    "        param.requires_grad = False"
   ]
  },
  {
   "cell_type": "code",
   "execution_count": 57,
   "id": "646446a9-404b-4390-9963-f896b4efc18d",
   "metadata": {},
   "outputs": [],
   "source": [
    "layer0 = nn.Linear(16, 32)\n",
    "layer1 = nn.Linear(32, 64)\n",
    "\n",
    "# Use uniform initialization for layer0 and layer1 weights\n",
    "nn.init.uniform_(layer0.weight)\n",
    "nn.init.uniform_(layer1.weight)\n",
    "\n",
    "model = nn.Sequential(layer0, layer1)"
   ]
  },
  {
   "cell_type": "code",
   "execution_count": 58,
   "id": "efca92eb-fee3-4ca2-81a6-6d03f62e1e2c",
   "metadata": {},
   "outputs": [
    {
     "data": {
      "text/plain": [
       "Sequential(\n",
       "  (0): Linear(in_features=16, out_features=32, bias=True)\n",
       "  (1): Linear(in_features=32, out_features=64, bias=True)\n",
       ")"
      ]
     },
     "execution_count": 58,
     "metadata": {},
     "output_type": "execute_result"
    }
   ],
   "source": [
    "model"
   ]
  },
  {
   "cell_type": "code",
   "execution_count": 60,
   "id": "01b98d8b-2f7a-447e-914e-20112cc4e3bb",
   "metadata": {},
   "outputs": [
    {
     "data": {
      "text/plain": [
       "(array([[0.84044211, 0.98659999, 0.36493243, 0.3169825 , 0.00103056,\n",
       "         0.34746424, 0.76725682, 0.57168988],\n",
       "        [0.21237698, 0.59316773, 0.23018199, 0.04527563, 0.13080954,\n",
       "         0.83661342, 0.97483601, 0.82371644],\n",
       "        [0.85874923, 0.56403648, 0.36519763, 0.41277168, 0.54021546,\n",
       "         0.46547677, 0.07414107, 0.9452997 ],\n",
       "        [0.29848858, 0.52866562, 0.1781847 , 0.24164923, 0.73678763,\n",
       "         0.90890402, 0.84499624, 0.94475697],\n",
       "        [0.24900616, 0.53958003, 0.5450705 , 0.89739705, 0.521692  ,\n",
       "         0.85712327, 0.57920427, 0.12957686],\n",
       "        [0.59740423, 0.73328129, 0.62374138, 0.34597175, 0.72840719,\n",
       "         0.63640507, 0.82011177, 0.83411749],\n",
       "        [0.65388177, 0.2584718 , 0.39359064, 0.62866011, 0.34602697,\n",
       "         0.86484621, 0.62188889, 0.77376825],\n",
       "        [0.9759209 , 0.0391994 , 0.55884182, 0.0364766 , 0.66386417,\n",
       "         0.34162891, 0.62674034, 0.46556027],\n",
       "        [0.4584185 , 0.02642937, 0.38812504, 0.7959127 , 0.31102678,\n",
       "         0.96551675, 0.26430043, 0.48109823],\n",
       "        [0.30578629, 0.00991132, 0.83001723, 0.05349773, 0.88164895,\n",
       "         0.36036145, 0.39362379, 0.30024048],\n",
       "        [0.74845352, 0.57961854, 0.49304691, 0.87809647, 0.95982765,\n",
       "         0.14242859, 0.18147088, 0.26624258],\n",
       "        [0.42437811, 0.83693371, 0.37945389, 0.41563589, 0.00655108,\n",
       "         0.23806719, 0.46832515, 0.25152121]]),\n",
       " array([[0.1513292 ],\n",
       "        [0.03727293],\n",
       "        [0.12380012],\n",
       "        [0.76304493],\n",
       "        [0.90655898],\n",
       "        [0.0034364 ],\n",
       "        [0.85629994],\n",
       "        [0.66894722],\n",
       "        [0.29913048],\n",
       "        [0.52839071],\n",
       "        [0.25168789],\n",
       "        [0.24230403]]))"
      ]
     },
     "execution_count": 60,
     "metadata": {},
     "output_type": "execute_result"
    }
   ],
   "source": [
    "import numpy as np\n",
    "import torch\n",
    "from torch.utils.data import TensorDataset\n",
    "\n",
    "np_features = np.array(np.random.rand(12, 8))\n",
    "np_target = np.array(np.random.rand(12, 1))\n",
    "\n",
    "np_features, np_target"
   ]
  },
  {
   "cell_type": "code",
   "execution_count": 61,
   "id": "bfe43ae3-7342-47cd-972d-ad1bd70f23b4",
   "metadata": {},
   "outputs": [
    {
     "data": {
      "text/plain": [
       "(tensor([[0.8404, 0.9866, 0.3649, 0.3170, 0.0010, 0.3475, 0.7673, 0.5717],\n",
       "         [0.2124, 0.5932, 0.2302, 0.0453, 0.1308, 0.8366, 0.9748, 0.8237],\n",
       "         [0.8587, 0.5640, 0.3652, 0.4128, 0.5402, 0.4655, 0.0741, 0.9453],\n",
       "         [0.2985, 0.5287, 0.1782, 0.2416, 0.7368, 0.9089, 0.8450, 0.9448],\n",
       "         [0.2490, 0.5396, 0.5451, 0.8974, 0.5217, 0.8571, 0.5792, 0.1296],\n",
       "         [0.5974, 0.7333, 0.6237, 0.3460, 0.7284, 0.6364, 0.8201, 0.8341],\n",
       "         [0.6539, 0.2585, 0.3936, 0.6287, 0.3460, 0.8648, 0.6219, 0.7738],\n",
       "         [0.9759, 0.0392, 0.5588, 0.0365, 0.6639, 0.3416, 0.6267, 0.4656],\n",
       "         [0.4584, 0.0264, 0.3881, 0.7959, 0.3110, 0.9655, 0.2643, 0.4811],\n",
       "         [0.3058, 0.0099, 0.8300, 0.0535, 0.8816, 0.3604, 0.3936, 0.3002],\n",
       "         [0.7485, 0.5796, 0.4930, 0.8781, 0.9598, 0.1424, 0.1815, 0.2662],\n",
       "         [0.4244, 0.8369, 0.3795, 0.4156, 0.0066, 0.2381, 0.4683, 0.2515]],\n",
       "        dtype=torch.float64),\n",
       " tensor([[0.1513],\n",
       "         [0.0373],\n",
       "         [0.1238],\n",
       "         [0.7630],\n",
       "         [0.9066],\n",
       "         [0.0034],\n",
       "         [0.8563],\n",
       "         [0.6689],\n",
       "         [0.2991],\n",
       "         [0.5284],\n",
       "         [0.2517],\n",
       "         [0.2423]], dtype=torch.float64))"
      ]
     },
     "execution_count": 61,
     "metadata": {},
     "output_type": "execute_result"
    }
   ],
   "source": [
    "# Convert arrays to PyTorch tensors\n",
    "torch_features = torch.tensor(np_features)\n",
    "torch_target = torch.tensor(np_target)\n",
    "\n",
    "torch_features, torch_target"
   ]
  },
  {
   "cell_type": "code",
   "execution_count": 65,
   "id": "fca15357-79b4-45cb-9f4c-8af3d0985184",
   "metadata": {},
   "outputs": [
    {
     "name": "stdout",
     "output_type": "stream",
     "text": [
      "(tensor([[0.8404, 0.9866, 0.3649, 0.3170, 0.0010, 0.3475, 0.7673, 0.5717],\n",
      "        [0.2124, 0.5932, 0.2302, 0.0453, 0.1308, 0.8366, 0.9748, 0.8237],\n",
      "        [0.8587, 0.5640, 0.3652, 0.4128, 0.5402, 0.4655, 0.0741, 0.9453],\n",
      "        [0.2985, 0.5287, 0.1782, 0.2416, 0.7368, 0.9089, 0.8450, 0.9448],\n",
      "        [0.2490, 0.5396, 0.5451, 0.8974, 0.5217, 0.8571, 0.5792, 0.1296],\n",
      "        [0.5974, 0.7333, 0.6237, 0.3460, 0.7284, 0.6364, 0.8201, 0.8341],\n",
      "        [0.6539, 0.2585, 0.3936, 0.6287, 0.3460, 0.8648, 0.6219, 0.7738],\n",
      "        [0.9759, 0.0392, 0.5588, 0.0365, 0.6639, 0.3416, 0.6267, 0.4656],\n",
      "        [0.4584, 0.0264, 0.3881, 0.7959, 0.3110, 0.9655, 0.2643, 0.4811],\n",
      "        [0.3058, 0.0099, 0.8300, 0.0535, 0.8816, 0.3604, 0.3936, 0.3002],\n",
      "        [0.7485, 0.5796, 0.4930, 0.8781, 0.9598, 0.1424, 0.1815, 0.2662],\n",
      "        [0.4244, 0.8369, 0.3795, 0.4156, 0.0066, 0.2381, 0.4683, 0.2515]],\n",
      "       dtype=torch.float64), tensor([[0.1513],\n",
      "        [0.0373],\n",
      "        [0.1238],\n",
      "        [0.7630],\n",
      "        [0.9066],\n",
      "        [0.0034],\n",
      "        [0.8563],\n",
      "        [0.6689],\n",
      "        [0.2991],\n",
      "        [0.5284],\n",
      "        [0.2517],\n",
      "        [0.2423]], dtype=torch.float64))\n"
     ]
    }
   ],
   "source": [
    "# Create a TensorDataset from two tensors\n",
    "dataset = TensorDataset(torch_features,torch_target)\n",
    "\n",
    "print(dataset[:])"
   ]
  },
  {
   "cell_type": "code",
   "execution_count": 69,
   "id": "75087598-fb46-4dd7-a881-61e98a067a31",
   "metadata": {},
   "outputs": [
    {
     "data": {
      "text/html": [
       "<div>\n",
       "<style scoped>\n",
       "    .dataframe tbody tr th:only-of-type {\n",
       "        vertical-align: middle;\n",
       "    }\n",
       "\n",
       "    .dataframe tbody tr th {\n",
       "        vertical-align: top;\n",
       "    }\n",
       "\n",
       "    .dataframe thead th {\n",
       "        text-align: right;\n",
       "    }\n",
       "</style>\n",
       "<table border=\"1\" class=\"dataframe\">\n",
       "  <thead>\n",
       "    <tr style=\"text-align: right;\">\n",
       "      <th></th>\n",
       "      <th>ph</th>\n",
       "      <th>Hardness</th>\n",
       "      <th>Solids</th>\n",
       "      <th>Chloramines</th>\n",
       "      <th>Sulfate</th>\n",
       "      <th>Conductivity</th>\n",
       "      <th>Organic_carbon</th>\n",
       "      <th>Trihalomethanes</th>\n",
       "      <th>Turbidity</th>\n",
       "      <th>Potability</th>\n",
       "    </tr>\n",
       "  </thead>\n",
       "  <tbody>\n",
       "    <tr>\n",
       "      <th>0</th>\n",
       "      <td>0.587349</td>\n",
       "      <td>0.577747</td>\n",
       "      <td>0.386298</td>\n",
       "      <td>0.568199</td>\n",
       "      <td>0.647347</td>\n",
       "      <td>0.292985</td>\n",
       "      <td>0.654522</td>\n",
       "      <td>0.795029</td>\n",
       "      <td>0.630115</td>\n",
       "      <td>0</td>\n",
       "    </tr>\n",
       "    <tr>\n",
       "      <th>1</th>\n",
       "      <td>0.643654</td>\n",
       "      <td>0.441300</td>\n",
       "      <td>0.314381</td>\n",
       "      <td>0.439304</td>\n",
       "      <td>0.514545</td>\n",
       "      <td>0.356685</td>\n",
       "      <td>0.377248</td>\n",
       "      <td>0.202914</td>\n",
       "      <td>0.520358</td>\n",
       "      <td>0</td>\n",
       "    </tr>\n",
       "    <tr>\n",
       "      <th>2</th>\n",
       "      <td>0.388934</td>\n",
       "      <td>0.470876</td>\n",
       "      <td>0.506122</td>\n",
       "      <td>0.524364</td>\n",
       "      <td>0.561537</td>\n",
       "      <td>0.142913</td>\n",
       "      <td>0.249922</td>\n",
       "      <td>0.401487</td>\n",
       "      <td>0.219973</td>\n",
       "      <td>0</td>\n",
       "    </tr>\n",
       "    <tr>\n",
       "      <th>3</th>\n",
       "      <td>0.725820</td>\n",
       "      <td>0.715942</td>\n",
       "      <td>0.506141</td>\n",
       "      <td>0.521683</td>\n",
       "      <td>0.751819</td>\n",
       "      <td>0.148683</td>\n",
       "      <td>0.467200</td>\n",
       "      <td>0.658678</td>\n",
       "      <td>0.242428</td>\n",
       "      <td>0</td>\n",
       "    </tr>\n",
       "    <tr>\n",
       "      <th>4</th>\n",
       "      <td>0.610517</td>\n",
       "      <td>0.532588</td>\n",
       "      <td>0.237701</td>\n",
       "      <td>0.270288</td>\n",
       "      <td>0.495155</td>\n",
       "      <td>0.494792</td>\n",
       "      <td>0.409721</td>\n",
       "      <td>0.469762</td>\n",
       "      <td>0.585049</td>\n",
       "      <td>0</td>\n",
       "    </tr>\n",
       "    <tr>\n",
       "      <th>...</th>\n",
       "      <td>...</td>\n",
       "      <td>...</td>\n",
       "      <td>...</td>\n",
       "      <td>...</td>\n",
       "      <td>...</td>\n",
       "      <td>...</td>\n",
       "      <td>...</td>\n",
       "      <td>...</td>\n",
       "      <td>...</td>\n",
       "      <td>...</td>\n",
       "    </tr>\n",
       "    <tr>\n",
       "      <th>2006</th>\n",
       "      <td>0.636224</td>\n",
       "      <td>0.580511</td>\n",
       "      <td>0.277748</td>\n",
       "      <td>0.418063</td>\n",
       "      <td>0.522486</td>\n",
       "      <td>0.342184</td>\n",
       "      <td>0.310364</td>\n",
       "      <td>0.402799</td>\n",
       "      <td>0.627156</td>\n",
       "      <td>1</td>\n",
       "    </tr>\n",
       "    <tr>\n",
       "      <th>2007</th>\n",
       "      <td>0.470143</td>\n",
       "      <td>0.548826</td>\n",
       "      <td>0.301347</td>\n",
       "      <td>0.538273</td>\n",
       "      <td>0.498565</td>\n",
       "      <td>0.231359</td>\n",
       "      <td>0.565061</td>\n",
       "      <td>0.175889</td>\n",
       "      <td>0.395061</td>\n",
       "      <td>1</td>\n",
       "    </tr>\n",
       "    <tr>\n",
       "      <th>2008</th>\n",
       "      <td>0.817826</td>\n",
       "      <td>0.087434</td>\n",
       "      <td>0.656389</td>\n",
       "      <td>0.670774</td>\n",
       "      <td>0.369089</td>\n",
       "      <td>0.431872</td>\n",
       "      <td>0.563265</td>\n",
       "      <td>0.285745</td>\n",
       "      <td>0.578674</td>\n",
       "      <td>1</td>\n",
       "    </tr>\n",
       "    <tr>\n",
       "      <th>2009</th>\n",
       "      <td>0.424187</td>\n",
       "      <td>0.464092</td>\n",
       "      <td>0.459656</td>\n",
       "      <td>0.541633</td>\n",
       "      <td>0.615572</td>\n",
       "      <td>0.388360</td>\n",
       "      <td>0.397780</td>\n",
       "      <td>0.449156</td>\n",
       "      <td>0.440004</td>\n",
       "      <td>1</td>\n",
       "    </tr>\n",
       "    <tr>\n",
       "      <th>2010</th>\n",
       "      <td>0.322425</td>\n",
       "      <td>0.492891</td>\n",
       "      <td>0.841409</td>\n",
       "      <td>0.492136</td>\n",
       "      <td>0.656047</td>\n",
       "      <td>0.588709</td>\n",
       "      <td>0.471422</td>\n",
       "      <td>0.503458</td>\n",
       "      <td>0.591867</td>\n",
       "      <td>1</td>\n",
       "    </tr>\n",
       "  </tbody>\n",
       "</table>\n",
       "<p>2011 rows × 10 columns</p>\n",
       "</div>"
      ],
      "text/plain": [
       "            ph  Hardness    Solids  Chloramines   Sulfate  Conductivity  \\\n",
       "0     0.587349  0.577747  0.386298     0.568199  0.647347      0.292985   \n",
       "1     0.643654  0.441300  0.314381     0.439304  0.514545      0.356685   \n",
       "2     0.388934  0.470876  0.506122     0.524364  0.561537      0.142913   \n",
       "3     0.725820  0.715942  0.506141     0.521683  0.751819      0.148683   \n",
       "4     0.610517  0.532588  0.237701     0.270288  0.495155      0.494792   \n",
       "...        ...       ...       ...          ...       ...           ...   \n",
       "2006  0.636224  0.580511  0.277748     0.418063  0.522486      0.342184   \n",
       "2007  0.470143  0.548826  0.301347     0.538273  0.498565      0.231359   \n",
       "2008  0.817826  0.087434  0.656389     0.670774  0.369089      0.431872   \n",
       "2009  0.424187  0.464092  0.459656     0.541633  0.615572      0.388360   \n",
       "2010  0.322425  0.492891  0.841409     0.492136  0.656047      0.588709   \n",
       "\n",
       "      Organic_carbon  Trihalomethanes  Turbidity  Potability  \n",
       "0           0.654522         0.795029   0.630115           0  \n",
       "1           0.377248         0.202914   0.520358           0  \n",
       "2           0.249922         0.401487   0.219973           0  \n",
       "3           0.467200         0.658678   0.242428           0  \n",
       "4           0.409721         0.469762   0.585049           0  \n",
       "...              ...              ...        ...         ...  \n",
       "2006        0.310364         0.402799   0.627156           1  \n",
       "2007        0.565061         0.175889   0.395061           1  \n",
       "2008        0.563265         0.285745   0.578674           1  \n",
       "2009        0.397780         0.449156   0.440004           1  \n",
       "2010        0.471422         0.503458   0.591867           1  \n",
       "\n",
       "[2011 rows x 10 columns]"
      ]
     },
     "execution_count": 69,
     "metadata": {},
     "output_type": "execute_result"
    }
   ],
   "source": [
    "import pandas as pd\n",
    "dataframe = pd.read_csv('water_potability.csv')\n",
    "dataframe"
   ]
  },
  {
   "cell_type": "code",
   "execution_count": 86,
   "id": "89dd12ae-7d77-4f75-b233-66f91d4687ae",
   "metadata": {},
   "outputs": [
    {
     "data": {
      "text/plain": [
       "(tensor([[0.5598, 0.6921, 0.2074, 0.8440],\n",
       "         [0.3939, 0.5938, 0.4615, 0.5360],\n",
       "         [0.5566, 0.4862, 0.2491, 0.6540]]),\n",
       " tensor([0., 1., 1.]))"
      ]
     },
     "execution_count": 86,
     "metadata": {},
     "output_type": "execute_result"
    }
   ],
   "source": [
    "# Load the different columns into two PyTorch tensors\n",
    "features = torch.tensor(dataframe[['ph', 'Sulfate', 'Conductivity', 'Organic_carbon']].to_numpy()).float()\n",
    "target = torch.tensor(dataframe['Potability'].to_numpy()).float()\n",
    "\n",
    "# Create a dataset from the two generated tensors\n",
    "dataset = TensorDataset(features, target)\n",
    "\n",
    "# Create a dataloader using the above dataset\n",
    "dataloader = DataLoader(dataset, shuffle=True, batch_size=3)\n",
    "x, y = next(iter(dataloader)) # just getting a tuple of selected batch_size at a time\n",
    "x, y"
   ]
  },
  {
   "cell_type": "code",
   "execution_count": 88,
   "id": "6ab9e836-92cd-465d-ba17-4c00d5483b58",
   "metadata": {},
   "outputs": [
    {
     "name": "stdout",
     "output_type": "stream",
     "text": [
      "Batch 1:\n",
      "X: tensor([[0.4550, 0.4812, 0.5093, 0.4017],\n",
      "        [0.3686, 0.7380, 0.4789, 0.4971],\n",
      "        [0.6303, 0.5733, 0.4070, 0.6676]])\n",
      "Y: tensor([0., 1., 1.])\n",
      "---\n",
      "Batch 2:\n",
      "X: tensor([[0.3893, 0.6080, 0.4800, 0.4687],\n",
      "        [0.4772, 0.8263, 0.3110, 0.6703],\n",
      "        [0.4395, 0.7234, 0.4621, 0.4739]])\n",
      "Y: tensor([0., 1., 1.])\n",
      "---\n",
      "Batch 3:\n",
      "X: tensor([[0.4397, 0.4409, 0.4899, 0.6380],\n",
      "        [0.3632, 0.8093, 0.4327, 0.4928],\n",
      "        [0.4438, 0.6647, 0.4239, 0.3703]])\n",
      "Y: tensor([0., 0., 0.])\n",
      "---\n",
      "Batch 4:\n",
      "X: tensor([[0.5426, 0.5504, 0.4411, 0.4365],\n",
      "        [0.5044, 0.4491, 0.2065, 0.4972],\n",
      "        [0.6729, 0.7379, 0.3767, 0.4111]])\n",
      "Y: tensor([0., 1., 1.])\n",
      "---\n",
      "Batch 5:\n",
      "X: tensor([[0.5469, 0.4833, 0.2638, 0.6914],\n",
      "        [0.1276, 0.6108, 0.2528, 0.3748],\n",
      "        [0.5172, 0.5125, 0.6450, 0.5773]])\n",
      "Y: tensor([1., 0., 0.])\n",
      "---\n",
      "Batch 6:\n",
      "X: tensor([[0.5244, 0.5912, 0.6728, 0.6394],\n",
      "        [0.5237, 0.5870, 0.4556, 0.3024],\n",
      "        [0.3480, 0.5754, 0.2533, 0.5642]])\n",
      "Y: tensor([1., 0., 0.])\n",
      "---\n",
      "Batch 7:\n",
      "X: tensor([[0.4561, 0.6363, 0.4914, 0.3571],\n",
      "        [0.5256, 0.6749, 0.2851, 0.1586],\n",
      "        [0.4126, 0.6658, 0.8949, 0.4409]])\n",
      "Y: tensor([1., 1., 1.])\n",
      "---\n"
     ]
    }
   ],
   "source": [
    "for i, (x, y) in enumerate(dataloader):\n",
    "    if i < 7:\n",
    "        print(f\"Batch {i+1}:\")\n",
    "        print(\"X:\", x)\n",
    "        print(\"Y:\", y)\n",
    "        print(\"---\")"
   ]
  },
  {
   "cell_type": "code",
   "execution_count": 89,
   "id": "29401885-3155-4cb8-8d0e-d969dd7a060f",
   "metadata": {},
   "outputs": [
    {
     "name": "stdout",
     "output_type": "stream",
     "text": [
      "tensor([[-0.0623],\n",
      "        [-0.0857],\n",
      "        [-0.1985],\n",
      "        ...,\n",
      "        [-0.0273],\n",
      "        [-0.0797],\n",
      "        [ 0.0006]], grad_fn=<AddmmBackward0>)\n"
     ]
    }
   ],
   "source": [
    "# Create a model using the nn.Sequential API\n",
    "model = nn.Sequential(nn.Linear(4,2),\n",
    "                      nn.Linear(2,1))\n",
    "output = model(features)\n",
    "print(output)"
   ]
  },
  {
   "cell_type": "code",
   "execution_count": 99,
   "id": "2fdc5ce8-b1b3-49ef-b2fb-558478d574de",
   "metadata": {},
   "outputs": [],
   "source": [
    "validationloader = DataLoader(dataset, shuffle=True, batch_size=200) # dataset should be divided in training and validation"
   ]
  },
  {
   "cell_type": "code",
   "execution_count": 100,
   "id": "25d0c16b-ef42-4fb3-b8ee-61d688eefbe1",
   "metadata": {},
   "outputs": [
    {
     "name": "stdout",
     "output_type": "stream",
     "text": [
      "loss tensor(0.4448)\n",
      "validation_loss 0.4447864294052124\n",
      "loss tensor(0.4254)\n",
      "validation_loss 0.870173454284668\n",
      "loss tensor(0.4929)\n",
      "validation_loss 1.3630425930023193\n",
      "loss tensor(0.4168)\n",
      "validation_loss 1.7798361480236053\n",
      "loss tensor(0.4745)\n",
      "validation_loss 2.254362940788269\n",
      "loss tensor(0.4311)\n",
      "validation_loss 2.6854140162467957\n",
      "loss tensor(0.4859)\n",
      "validation_loss 3.1713145077228546\n",
      "loss tensor(0.4469)\n",
      "validation_loss 3.6181977093219757\n",
      "loss tensor(0.4562)\n",
      "validation_loss 4.074368983507156\n",
      "loss tensor(0.4663)\n",
      "validation_loss 4.540716826915741\n",
      "loss tensor(0.6012)\n",
      "validation_loss 5.141877293586731\n"
     ]
    },
    {
     "name": "stderr",
     "output_type": "stream",
     "text": [
      "C:\\Users\\Alienware\\miniconda3\\envs\\py310\\lib\\site-packages\\torch\\nn\\modules\\loss.py:536: UserWarning: Using a target size (torch.Size([200])) that is different to the input size (torch.Size([200, 1])). This will likely lead to incorrect results due to broadcasting. Please ensure they have the same size.\n",
      "  return F.mse_loss(input, target, reduction=self.reduction)\n",
      "C:\\Users\\Alienware\\miniconda3\\envs\\py310\\lib\\site-packages\\torch\\nn\\modules\\loss.py:536: UserWarning: Using a target size (torch.Size([11])) that is different to the input size (torch.Size([11, 1])). This will likely lead to incorrect results due to broadcasting. Please ensure they have the same size.\n",
      "  return F.mse_loss(input, target, reduction=self.reduction)\n"
     ]
    }
   ],
   "source": [
    "# Set the model to evaluation mode\n",
    "model.eval()\n",
    "validation_loss = 0.0\n",
    "\n",
    "with torch.no_grad():\n",
    "  \n",
    "    for data in validationloader:\n",
    "    \n",
    "        outputs = model(data[0])\n",
    "        loss = criterion(outputs, data[1])\n",
    "        print('loss',loss)\n",
    "\n",
    "        # Sum the current loss to the validation_loss variable\n",
    "        validation_loss += loss.item()\n",
    "        print('validation_loss', validation_loss)\n"
   ]
  },
  {
   "cell_type": "code",
   "execution_count": 101,
   "id": "3fcbd839-34b4-4d63-b4cb-4f745407df3b",
   "metadata": {},
   "outputs": [
    {
     "name": "stdout",
     "output_type": "stream",
     "text": [
      "0.46744339032606647\n"
     ]
    },
    {
     "data": {
      "text/plain": [
       "Sequential(\n",
       "  (0): Linear(in_features=4, out_features=2, bias=True)\n",
       "  (1): Linear(in_features=2, out_features=1, bias=True)\n",
       ")"
      ]
     },
     "execution_count": 101,
     "metadata": {},
     "output_type": "execute_result"
    }
   ],
   "source": [
    "# Calculate the mean loss value\n",
    "validation_loss_epoch = validation_loss/len(validationloader)\n",
    "print(validation_loss_epoch)\n",
    "\n",
    "# Set the model back to training mode\n",
    "model.train()"
   ]
  },
  {
   "cell_type": "code",
   "execution_count": 118,
   "id": "f7a66825-5058-4876-b7c9-fddf39aa8e09",
   "metadata": {},
   "outputs": [
    {
     "name": "stdout",
     "output_type": "stream",
     "text": [
      "picture shape: (355, 32, 32, 3) \n",
      "\n",
      "Item 0: [[[[0.38053016 0.35004572 0.38045538]\n",
      "   [0.49561382 0.45045635 0.47310239]\n",
      "   [0.5744727  0.51869527 0.53720113]\n",
      "   ...\n",
      "   [0.34580102 0.29482917 0.30817478]\n",
      "   [0.28303221 0.24503852 0.26706514]\n",
      "   [0.15621841 0.14549615 0.18887831]]\n",
      "\n",
      "  [[0.44942444 0.40002741 0.41653014]\n",
      "   [0.56823385 0.50350932 0.51621795]\n",
      "   [0.61456819 0.54212599 0.55860702]\n",
      "   ...\n",
      "   [0.40559703 0.35699659 0.36157709]\n",
      "   [0.39955874 0.35576992 0.36392419]\n",
      "   [0.22050038 0.19371628 0.2253609 ]]\n",
      "\n",
      "  [[0.59694617 0.52626227 0.53245013]\n",
      "   [0.62542287 0.5513043  0.5661661 ]\n",
      "   [0.62773799 0.55528255 0.57796426]\n",
      "   ...\n",
      "   [0.43312883 0.38273693 0.38574492]\n",
      "   [0.44604589 0.40381404 0.40859798]\n",
      "   [0.32149855 0.28387212 0.29545527]]\n",
      "\n",
      "  ...\n",
      "\n",
      "  [[0.51461386 0.46347499 0.45039961]\n",
      "   [0.49280163 0.44433538 0.42488051]\n",
      "   [0.33246312 0.29534419 0.29490718]\n",
      "   ...\n",
      "   [0.09499688 0.10771229 0.17235971]\n",
      "   [0.17196673 0.17564455 0.23054096]\n",
      "   [0.4063567  0.36350965 0.35570631]]\n",
      "\n",
      "  [[0.55496161 0.49469325 0.48359171]\n",
      "   [0.54389378 0.4842707  0.4639853 ]\n",
      "   [0.46868891 0.40938    0.39281277]\n",
      "   ...\n",
      "   [0.04487414 0.06040202 0.12488677]\n",
      "   [0.06820151 0.08171619 0.1466867 ]\n",
      "   [0.10242083 0.11323387 0.17786427]]\n",
      "\n",
      "  [[0.52917802 0.46531469 0.46048517]\n",
      "   [0.51579902 0.45446749 0.43881026]\n",
      "   [0.46593831 0.40541798 0.38983242]\n",
      "   ...\n",
      "   [0.03475207 0.05034619 0.11151596]\n",
      "   [0.04142761 0.05735427 0.11892009]\n",
      "   [0.05416931 0.06922745 0.13317869]]]\n",
      "\n",
      "\n",
      " [[[0.02961101 0.03669857 0.03601812]\n",
      "   [0.03738837 0.03973504 0.03439426]\n",
      "   [0.05302555 0.04874867 0.04643046]\n",
      "   ...\n",
      "   [0.39129168 0.3488658  0.29704544]\n",
      "   [0.39476423 0.35174968 0.29771708]\n",
      "   [0.39278588 0.35357557 0.30594901]]\n",
      "\n",
      "  [[0.03463653 0.04041096 0.04037499]\n",
      "   [0.03454232 0.039954   0.03845631]\n",
      "   [0.04252591 0.04267892 0.03847355]\n",
      "   ...\n",
      "   [0.38482365 0.34185549 0.28746543]\n",
      "   [0.38436398 0.34319024 0.29405173]\n",
      "   [0.37715893 0.34216769 0.29717416]]\n",
      "\n",
      "  [[0.03172345 0.03937263 0.03938058]\n",
      "   [0.02925047 0.03554628 0.03697507]\n",
      "   [0.03372705 0.03814145 0.03721272]\n",
      "   ...\n",
      "   [0.37047827 0.33130611 0.27950048]\n",
      "   [0.37082623 0.33229502 0.28656472]\n",
      "   [0.36329531 0.33008992 0.29204261]]\n",
      "\n",
      "  ...\n",
      "\n",
      "  [[0.86189571 0.90846603 0.93238644]\n",
      "   [0.85745273 0.90240757 0.92703298]\n",
      "   [0.85282938 0.8972492  0.92408522]\n",
      "   ...\n",
      "   [0.61537365 0.63154388 0.65973912]\n",
      "   [0.61653847 0.62449789 0.65284   ]\n",
      "   [0.50606191 0.51639512 0.54395853]]\n",
      "\n",
      "  [[0.79411012 0.84837345 0.87809972]\n",
      "   [0.77291017 0.83253576 0.86051095]\n",
      "   [0.76397485 0.8276025  0.8539051 ]\n",
      "   ...\n",
      "   [0.65769912 0.67481733 0.70424736]\n",
      "   [0.67000832 0.68389254 0.71361497]\n",
      "   [0.58687257 0.60599313 0.63915132]]\n",
      "\n",
      "  [[0.80734131 0.86803077 0.89397692]\n",
      "   [0.79233044 0.85755448 0.88663423]\n",
      "   [0.79625986 0.86180063 0.89130733]\n",
      "   ...\n",
      "   [0.72733366 0.73905715 0.76470859]\n",
      "   [0.73948615 0.7475787  0.77307222]\n",
      "   [0.65181565 0.66610702 0.69550301]]]\n",
      "\n",
      "\n",
      " [[[0.19903756 0.15050398 0.08101131]\n",
      "   [0.3720293  0.28470186 0.19280789]\n",
      "   [0.5478849  0.43282308 0.31941652]\n",
      "   ...\n",
      "   [0.61490403 0.50178604 0.3611179 ]\n",
      "   [0.32947019 0.26353947 0.16200371]\n",
      "   [0.26366125 0.21747648 0.1336921 ]]\n",
      "\n",
      "  [[0.21701779 0.16432867 0.09262666]\n",
      "   [0.39822073 0.30787435 0.21286155]\n",
      "   [0.59445617 0.46860984 0.35872262]\n",
      "   ...\n",
      "   [0.83977121 0.706385   0.5412121 ]\n",
      "   [0.56284581 0.45983592 0.32729056]\n",
      "   [0.23718454 0.1846413  0.09878849]]\n",
      "\n",
      "  [[0.22684653 0.17117372 0.09525009]\n",
      "   [0.41281134 0.32278666 0.22036732]\n",
      "   [0.5793281  0.4553544  0.34977506]\n",
      "   ...\n",
      "   [0.84883105 0.71830474 0.55559436]\n",
      "   [0.76926556 0.64580085 0.49390595]\n",
      "   [0.29624773 0.23136157 0.1341953 ]]\n",
      "\n",
      "  ...\n",
      "\n",
      "  [[0.33809533 0.3390254  0.41843424]\n",
      "   [0.33417162 0.34030252 0.45561168]\n",
      "   [0.28329637 0.29772994 0.44444456]\n",
      "   ...\n",
      "   [0.56374811 0.44154563 0.32799325]\n",
      "   [0.37703193 0.30000488 0.21981335]\n",
      "   [0.2310167  0.21802335 0.25983299]]\n",
      "\n",
      "  [[0.3439559  0.35176625 0.47018298]\n",
      "   [0.38368257 0.39456731 0.52578085]\n",
      "   [0.30799688 0.32171997 0.47564753]\n",
      "   ...\n",
      "   [0.55063726 0.43227678 0.32047779]\n",
      "   [0.28587398 0.22663087 0.1644927 ]\n",
      "   [0.25275389 0.24471804 0.31613437]]\n",
      "\n",
      "  [[0.35899856 0.37270243 0.51942085]\n",
      "   [0.37159654 0.38564336 0.5467618 ]\n",
      "   [0.35162036 0.36796731 0.53363866]\n",
      "   ...\n",
      "   [0.52377758 0.41852155 0.31322119]\n",
      "   [0.24479471 0.20526291 0.17256758]\n",
      "   [0.30304076 0.30945174 0.44053475]]]\n",
      "\n",
      "\n",
      " ...\n",
      "\n",
      "\n",
      " [[[0.44143836 0.34030383 0.28550467]\n",
      "   [0.4361966  0.34776711 0.29513275]\n",
      "   [0.11000363 0.10378341 0.09558224]\n",
      "   ...\n",
      "   [0.11148522 0.1217358  0.12852016]\n",
      "   [0.11368423 0.12558332 0.13049608]\n",
      "   [0.13282062 0.14410546 0.15194401]]\n",
      "\n",
      "  [[0.39705326 0.31693192 0.27060819]\n",
      "   [0.17569336 0.15350903 0.14418743]\n",
      "   [0.06581831 0.07209755 0.07211414]\n",
      "   ...\n",
      "   [0.10926541 0.12243188 0.12710585]\n",
      "   [0.12787764 0.14192806 0.14585261]\n",
      "   [0.11513676 0.12877012 0.13634974]]\n",
      "\n",
      "  [[0.30901406 0.26461709 0.23319395]\n",
      "   [0.06785007 0.08009209 0.08203196]\n",
      "   [0.08866489 0.08074652 0.07869462]\n",
      "   ...\n",
      "   [0.10279623 0.1154815  0.11973727]\n",
      "   [0.12975895 0.1427306  0.14611924]\n",
      "   [0.12143342 0.1332312  0.13786404]]\n",
      "\n",
      "  ...\n",
      "\n",
      "  [[0.66458506 0.50830652 0.45536348]\n",
      "   [0.68276266 0.5396744  0.48453285]\n",
      "   [0.65554422 0.5374521  0.48785885]\n",
      "   ...\n",
      "   [0.12423009 0.1320057  0.1365505 ]\n",
      "   [0.41079372 0.41937299 0.41663222]\n",
      "   [0.42457562 0.43279491 0.43145379]]\n",
      "\n",
      "  [[0.62373675 0.45384626 0.40314621]\n",
      "   [0.60669572 0.44442188 0.39006576]\n",
      "   [0.62393415 0.48506716 0.43092034]\n",
      "   ...\n",
      "   [0.03777999 0.04715961 0.05414489]\n",
      "   [0.26990383 0.28283331 0.28526253]\n",
      "   [0.4190779  0.43126417 0.42785989]]\n",
      "\n",
      "  [[0.59535126 0.4227506  0.37318041]\n",
      "   [0.55781265 0.39583737 0.34200618]\n",
      "   [0.58896412 0.45338915 0.41368445]\n",
      "   ...\n",
      "   [0.03076868 0.03667097 0.04648436]\n",
      "   [0.10579465 0.11581047 0.12547869]\n",
      "   [0.42542734 0.43831169 0.43038192]]]\n",
      "\n",
      "\n",
      " [[[0.13834625 0.12952721 0.14359074]\n",
      "   [0.09454771 0.07372329 0.0955367 ]\n",
      "   [0.16518132 0.1106205  0.11727736]\n",
      "   ...\n",
      "   [0.44632305 0.34458886 0.30818505]\n",
      "   [0.27550504 0.21504959 0.21844193]\n",
      "   [0.12815288 0.09740557 0.12070954]]\n",
      "\n",
      "  [[0.09445868 0.07312175 0.1043937 ]\n",
      "   [0.15002729 0.1107459  0.12416763]\n",
      "   [0.35355979 0.27256407 0.26048598]\n",
      "   ...\n",
      "   [0.42612511 0.31713109 0.27584976]\n",
      "   [0.22804424 0.1559801  0.14783738]\n",
      "   [0.09878516 0.06811116 0.08108881]]\n",
      "\n",
      "  [[0.13876698 0.1022346  0.13604951]\n",
      "   [0.2586817  0.19838745 0.2120625 ]\n",
      "   [0.50330632 0.40499362 0.38055171]\n",
      "   ...\n",
      "   [0.4737505  0.36275788 0.31366613]\n",
      "   [0.25847795 0.17978934 0.16379029]\n",
      "   [0.09657376 0.06418239 0.07124552]]\n",
      "\n",
      "  ...\n",
      "\n",
      "  [[0.61346693 0.60795488 0.60323952]\n",
      "   [0.57897118 0.59243804 0.61347265]\n",
      "   [0.28226111 0.26250248 0.27886805]\n",
      "   ...\n",
      "   [0.37115985 0.36742031 0.39295246]\n",
      "   [0.35551112 0.31824866 0.34307867]\n",
      "   [0.37533048 0.32690591 0.344104  ]]\n",
      "\n",
      "  [[0.57723919 0.57172547 0.5652064 ]\n",
      "   [0.57793633 0.59203279 0.6110431 ]\n",
      "   [0.4155574  0.41000238 0.42281669]\n",
      "   ...\n",
      "   [0.41988722 0.41966153 0.45252164]\n",
      "   [0.43816137 0.39710471 0.43075976]\n",
      "   [0.59531226 0.54903191 0.58664396]]\n",
      "\n",
      "  [[0.57638739 0.553787   0.55877902]\n",
      "   [0.56474226 0.55585542 0.56639099]\n",
      "   [0.4708975  0.46642084 0.46805382]\n",
      "   ...\n",
      "   [0.5200705  0.52445947 0.5294219 ]\n",
      "   [0.39310581 0.38072379 0.38521764]\n",
      "   [0.47951718 0.4386599  0.43313132]]]\n",
      "\n",
      "\n",
      " [[[0.10219077 0.07436781 0.05040369]\n",
      "   [0.10659198 0.07820702 0.0590368 ]\n",
      "   [0.09282353 0.06326935 0.04528085]\n",
      "   ...\n",
      "   [0.54793227 0.44005005 0.36313747]\n",
      "   [0.54426201 0.45688539 0.36368868]\n",
      "   [0.61297566 0.52689097 0.42989441]]\n",
      "\n",
      "  [[0.09292399 0.06635117 0.03334834]\n",
      "   [0.09912972 0.07171542 0.04138654]\n",
      "   [0.10201933 0.07494051 0.04472105]\n",
      "   ...\n",
      "   [0.53314525 0.41689497 0.31419167]\n",
      "   [0.61377661 0.53569698 0.44072578]\n",
      "   [0.80383127 0.7672455  0.69480861]]\n",
      "\n",
      "  [[0.10449474 0.07579738 0.04293087]\n",
      "   [0.10709222 0.08083203 0.04618284]\n",
      "   [0.11794002 0.09112999 0.0576936 ]\n",
      "   ...\n",
      "   [0.67840504 0.60518285 0.5381673 ]\n",
      "   [0.86465079 0.82458755 0.77469873]\n",
      "   [0.93080938 0.91255307 0.87025154]]\n",
      "\n",
      "  ...\n",
      "\n",
      "  [[0.89553684 0.81879566 0.80345449]\n",
      "   [0.89400669 0.81823011 0.80145745]\n",
      "   [0.88054993 0.8043122  0.78698076]\n",
      "   ...\n",
      "   [0.7688179  0.79539567 0.7141015 ]\n",
      "   [0.77385818 0.79515084 0.7172328 ]\n",
      "   [0.77846709 0.79816546 0.72088873]]\n",
      "\n",
      "  [[0.87999019 0.79849198 0.77022437]\n",
      "   [0.87164106 0.78583375 0.75728285]\n",
      "   [0.86904986 0.77533334 0.75047445]\n",
      "   ...\n",
      "   [0.77647537 0.81549799 0.73400809]\n",
      "   [0.78353586 0.82182886 0.73797273]\n",
      "   [0.79631353 0.82671324 0.7363838 ]]\n",
      "\n",
      "  [[0.84959287 0.75282162 0.71558299]\n",
      "   [0.8466399  0.74077823 0.70353097]\n",
      "   [0.84008855 0.7249987  0.69109652]\n",
      "   ...\n",
      "   [0.76427852 0.81889335 0.75715831]\n",
      "   [0.77502332 0.8228931  0.75887504]\n",
      "   [0.78799407 0.82799105 0.75730586]]]]\n",
      "picture shape: (355,) \n",
      "\n",
      "Item 1: [0 0 0 0 0 0 0 0 0 0 0 0 0 0 0 0 0 0 0 0 0 0 0 0 0 0 0 0 0 0 0 0 0 0 0 0 0\n",
      " 0 0 0 0 0 0 0 0 0 0 0 0 0 0 0 0 0 0 0 0 0 0 0 0 0 0 0 0 0 0 0 0 0 0 0 0 0\n",
      " 0 0 0 0 0 0 0 0 0 0 0 0 0 0 0 0 0 0 0 0 0 0 0 0 0 0 0 0 0 0 0 0 0 0 0 0 0\n",
      " 0 0 0 0 0 0 0 0 0 0 0 0 0 0 0 0 0 0 0 0 0 0 0 0 0 0 0 0 0 0 0 0 0 0 0 0 0\n",
      " 0 0 1 1 1 1 1 1 1 1 1 1 1 1 1 1 1 1 1 1 1 1 1 1 1 1 1 1 1 1 1 1 1 1 1 1 1\n",
      " 1 1 1 1 1 1 1 1 1 1 1 1 1 1 1 1 1 1 1 1 1 1 1 1 1 1 1 1 1 1 1 1 1 1 1 1 1\n",
      " 1 1 1 1 1 1 1 1 1 1 1 1 1 1 1 1 1 1 1 1 1 1 1 1 1 1 1 1 1 1 1 1 1 1 1 1 1\n",
      " 1 1 1 1 1 1 1 1 1 1 1 1 1 1 1 1 1 1 1 1 1 1 1 1 1 1 1 1 1 1 1 1 1 1 1 1 1\n",
      " 1 1 1 1 2 2 2 2 2 2 2 2 2 2 2 2 2 2 2 2 2 2 2 2 2 2 2 2 2 2 2 2 2 2 2 2 2\n",
      " 2 2 2 2 2 2 2 2 2 2 2 2 2 2 2 2 2 2 2 2 2 2]\n"
     ]
    }
   ],
   "source": [
    "import pickle\n",
    "\n",
    "# Load your dataset\n",
    "with open('masks_dataset.pickle', 'rb') as f:\n",
    "    masks_dataset = pickle.load(f)\n",
    "\n",
    "# Print the first few items\n",
    "for i, item in enumerate(masks_dataset):\n",
    "    print('picture shape:', item.shape,'\\n')\n",
    "    print(f\"Item {i}: {item}\")\n",
    "    if i > 1:  # Adjust this value to print more or fewer items\n",
    "        break\n"
   ]
  },
  {
   "cell_type": "code",
   "execution_count": 136,
   "id": "7eec2788-e500-4e44-a8f7-4dc2884c513e",
   "metadata": {},
   "outputs": [
    {
     "data": {
      "text/plain": [
       "<torch.utils.data.dataloader.DataLoader at 0x29766a73f40>"
      ]
     },
     "execution_count": 136,
     "metadata": {},
     "output_type": "execute_result"
    }
   ],
   "source": [
    "\n",
    "# Load your dataset\n",
    "with open('masks_dataset.pickle', 'rb') as f:\n",
    "    masks_dataset = pickle.load(f)\n",
    "\n",
    "# Convert your dataset to tensors\n",
    "masks_dataset = [torch.tensor(item) for item in masks_dataset]\n",
    "\n",
    "# Create a TensorDataset\n",
    "tensor_dataset = TensorDataset(*masks_dataset) # creates a dataset where the first dimension is treated as the batch dimension.\n",
    "\n",
    "# Create a DataLoader\n",
    "dataloader = DataLoader(tensor_dataset, batch_size=32, shuffle=True)\n",
    "dataloader"
   ]
  },
  {
   "cell_type": "code",
   "execution_count": 132,
   "id": "a7d8c027-9355-4128-81b2-adf4f09ccac9",
   "metadata": {},
   "outputs": [
    {
     "data": {
      "text/plain": [
       "Sequential(\n",
       "  (0): Normalize(mean=[0.51378129, 0.44999619, 0.42258797], std=[0.25081163, 0.24213039, 0.24616128])\n",
       "  (1): Flatten(start_dim=1, end_dim=-1)\n",
       "  (2): Linear(in_features=3072, out_features=3, bias=True)\n",
       ")"
      ]
     },
     "execution_count": 132,
     "metadata": {},
     "output_type": "execute_result"
    }
   ],
   "source": [
    "import torch.nn as nn\n",
    "import torchvision.transforms as transforms\n",
    "\n",
    "model = nn.Sequential(\n",
    "  transforms.Normalize(mean=[0.51378129, 0.44999619, 0.42258797], std=[0.25081163, 0.24213039, 0.24616128]),\n",
    "  nn.Flatten(start_dim=1, end_dim=-1),\n",
    "  nn.Linear(in_features=3072, out_features=3, bias=True)\n",
    ")\n",
    "\n",
    "model"
   ]
  },
  {
   "cell_type": "code",
   "execution_count": 137,
   "id": "0a9ed920-b329-4704-9151-0abb5868ee59",
   "metadata": {},
   "outputs": [],
   "source": [
    "import torchmetrics\n",
    "\n",
    "# model = model.to('cpu')\n",
    "# features = features.to('cpu')\n",
    "\n",
    "# model = model.float()\n",
    "# features = features.float()\n",
    "\n",
    "# Create accuracy metric using torch metrics\n",
    "metric = torchmetrics.Accuracy(task=\"multiclass\", num_classes=3)\n",
    "    \n"
   ]
  },
  {
   "cell_type": "code",
   "execution_count": 139,
   "id": "38f943db-d258-456d-8213-026e544b0b30",
   "metadata": {},
   "outputs": [],
   "source": [
    "# for data in dataloader:\n",
    "#     features, labels = data\n",
    "#     outputs = model(features)\n",
    "    \n",
    "#     Calculate accuracy over the batch\n",
    "#     acc = metric(outputs.softmax(dim=-1), labels.argmax(dim=-1))"
   ]
  },
  {
   "cell_type": "code",
   "execution_count": null,
   "id": "dfe6e51a-cf87-4328-98b4-b79a54ad363e",
   "metadata": {},
   "outputs": [],
   "source": [
    "# # Calculate accuracy over the whole epoch\n",
    "# acc = metric.compute()\n",
    "\n",
    "# # Reset the metric for the next epoch \n",
    "# metric.reset()\n",
    "# plot_errors(model, dataloader)"
   ]
  },
  {
   "cell_type": "code",
   "execution_count": 142,
   "id": "85b174a8-9935-4789-be0e-6df7b5b6e183",
   "metadata": {},
   "outputs": [],
   "source": [
    "input_tensor = torch.tensor([[0.1819, 0.1650, 0.1538, 0.0634, 0.0690, 0.0860]])"
   ]
  },
  {
   "cell_type": "code",
   "execution_count": 144,
   "id": "c4e9d0da-29b0-473f-a569-144e7be4a60f",
   "metadata": {},
   "outputs": [
    {
     "data": {
      "text/plain": [
       "tensor([[0., 0.]], grad_fn=<MulBackward0>)"
      ]
     },
     "execution_count": 144,
     "metadata": {},
     "output_type": "execute_result"
    }
   ],
   "source": [
    "# Using the same model, set the dropout probability to 0.8\n",
    "model = nn.Sequential(nn.Linear(6, 2),\n",
    "                      nn.ReLU(),\n",
    "                      nn.Dropout(p=0.8))\n",
    "model(input_tensor)"
   ]
  },
  {
   "cell_type": "code",
   "execution_count": 171,
   "id": "dd939277-f09e-494c-8c8f-a775a5f619cd",
   "metadata": {},
   "outputs": [
    {
     "name": "stdout",
     "output_type": "stream",
     "text": [
      "[(0.0006821283752034674, 0.8811799992832565), (0.00010059413812617302, 0.9304949888773549), (0.00034833749352415735, 0.9641515031843811), (0.00047167538774700693, 0.9626679223605457), (0.0038619956183354467, 0.9729735143357431), (0.0022703729880082825, 0.9268020391095831), (0.0010216995361721345, 0.925025824070393), (0.0041992337819377655, 0.8561367305492125), (0.00012802440656765697, 0.9877954501604131), (0.007732177428273981, 0.9708576363572892)]\n"
     ]
    }
   ],
   "source": [
    "values = []\n",
    "for idx in range(10):\n",
    "    # Randomly sample a learning rate factor between 2 and 4\n",
    "    factor = np.random.uniform(2,4)\n",
    "    lr = 10 ** -factor\n",
    "    \n",
    "    # Randomly select a momentum between 0.85 and 0.99\n",
    "    momentum = np.random.uniform(0.85,0.99)\n",
    "    \n",
    "    values.append((lr, momentum))\n",
    "    \n",
    "print(values)"
   ]
  },
  {
   "cell_type": "code",
   "execution_count": null,
   "id": "e38d1181-5491-461c-be23-416a8e8694c6",
   "metadata": {},
   "outputs": [],
   "source": []
  },
  {
   "cell_type": "code",
   "execution_count": null,
   "id": "cfd93a9e-6f05-4954-be69-61d60e0ef8e9",
   "metadata": {},
   "outputs": [],
   "source": []
  },
  {
   "cell_type": "code",
   "execution_count": null,
   "id": "895f4cfd-c504-4ae1-8dca-1d4e816fc72d",
   "metadata": {},
   "outputs": [],
   "source": []
  },
  {
   "cell_type": "code",
   "execution_count": null,
   "id": "2fed2d9b-4f91-4ec3-b72c-c0cfd7fb7785",
   "metadata": {},
   "outputs": [],
   "source": []
  },
  {
   "cell_type": "code",
   "execution_count": null,
   "id": "749e3a28-4fa8-44ce-8d16-02a0d681b54f",
   "metadata": {},
   "outputs": [],
   "source": []
  },
  {
   "cell_type": "code",
   "execution_count": null,
   "id": "590219d4-234a-47e5-92ca-408a2fbc8166",
   "metadata": {},
   "outputs": [],
   "source": []
  },
  {
   "cell_type": "code",
   "execution_count": null,
   "id": "a4fe90f6-7268-48fa-9300-65df869314e3",
   "metadata": {},
   "outputs": [],
   "source": []
  },
  {
   "cell_type": "code",
   "execution_count": null,
   "id": "3008843e-4986-4b5d-86fc-b969e16d6279",
   "metadata": {},
   "outputs": [],
   "source": []
  },
  {
   "cell_type": "code",
   "execution_count": null,
   "id": "ba99c5d1-29c5-4b74-ba65-0ee9eb44cd4e",
   "metadata": {},
   "outputs": [],
   "source": []
  },
  {
   "cell_type": "code",
   "execution_count": null,
   "id": "c42ff59c-76cd-4b94-b003-f1188e4af67e",
   "metadata": {},
   "outputs": [],
   "source": []
  },
  {
   "cell_type": "code",
   "execution_count": null,
   "id": "c95f1e9d-ba6a-43c9-ab24-940b2b17b6fc",
   "metadata": {},
   "outputs": [],
   "source": []
  },
  {
   "cell_type": "code",
   "execution_count": null,
   "id": "245b8507-37fe-4254-9b34-9f2f82d5a99d",
   "metadata": {},
   "outputs": [],
   "source": []
  },
  {
   "cell_type": "code",
   "execution_count": null,
   "id": "1a97cd97-d9b9-4c19-b283-ddb87dc5da3e",
   "metadata": {},
   "outputs": [],
   "source": []
  },
  {
   "cell_type": "code",
   "execution_count": null,
   "id": "b9f48ef8-6213-4df7-99f0-45b0f06e2496",
   "metadata": {},
   "outputs": [],
   "source": []
  },
  {
   "cell_type": "code",
   "execution_count": null,
   "id": "07334108-5050-4e9e-95a2-e2dafc47746f",
   "metadata": {},
   "outputs": [],
   "source": []
  },
  {
   "cell_type": "code",
   "execution_count": null,
   "id": "f69790bc-c4f7-466d-bb80-e3f8fb28ff27",
   "metadata": {},
   "outputs": [],
   "source": []
  },
  {
   "cell_type": "code",
   "execution_count": null,
   "id": "abdb4ca1-2b87-4537-95f1-6e09f721e85e",
   "metadata": {},
   "outputs": [],
   "source": []
  },
  {
   "cell_type": "code",
   "execution_count": null,
   "id": "35d2553d-c7b0-4c61-924e-131749e5e49e",
   "metadata": {},
   "outputs": [],
   "source": []
  },
  {
   "cell_type": "code",
   "execution_count": null,
   "id": "d9987134-5715-4ad2-a2ba-00a0240d4a3a",
   "metadata": {},
   "outputs": [],
   "source": []
  },
  {
   "cell_type": "code",
   "execution_count": null,
   "id": "4e9cd339-c0cb-48c8-97cf-929674902a7c",
   "metadata": {},
   "outputs": [],
   "source": []
  }
 ],
 "metadata": {
  "kernelspec": {
   "display_name": "Py310",
   "language": "python",
   "name": "py310"
  },
  "language_info": {
   "codemirror_mode": {
    "name": "ipython",
    "version": 3
   },
   "file_extension": ".py",
   "mimetype": "text/x-python",
   "name": "python",
   "nbconvert_exporter": "python",
   "pygments_lexer": "ipython3",
   "version": "3.10.11"
  }
 },
 "nbformat": 4,
 "nbformat_minor": 5
}
