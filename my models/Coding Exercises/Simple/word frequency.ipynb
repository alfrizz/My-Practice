{
 "cells": [
  {
   "cell_type": "markdown",
   "id": "1f9efe10-e0bd-44a2-bb82-ef14899a1683",
   "metadata": {},
   "source": [
    "You’re hired by a literary newspaper for an unusual project. They want you to use your data science skills to parse the most frequent words used in poems.\n",
    "\n",
    "Poems are given as a list of strings called sentences. Return a dictionary of the frequency that words are used in the poem.\n",
    "\n",
    "Your keys should be a number representing the number of times the word is used in the poem, with its value being a list of words with that frequency.\n",
    "\n",
    "Make sure to process all words as entirely lowercase. Additionally, do not worry about parsing punctuation marks."
   ]
  },
  {
   "cell_type": "code",
   "execution_count": 3,
   "id": "31ce7bcb-36ef-4643-bdc2-96243ac4cfaa",
   "metadata": {},
   "outputs": [],
   "source": [
    "sentences = [\n",
    "  \"I love roses\",\n",
    "  \"Roses are the best\",\n",
    "  \"Roses are red violets are blue\"\n",
    "]"
   ]
  },
  {
   "cell_type": "code",
   "execution_count": 41,
   "id": "f3d117ec-2a43-4d47-be8b-2fd4a9718258",
   "metadata": {},
   "outputs": [],
   "source": [
    "def word_frequency(sentences):\n",
    "    word_freq = {}\n",
    "    for sentence in sentences:\n",
    "        for word in sentence.lower().split():\n",
    "            if word not in word_freq:\n",
    "                word_freq[word] = 1\n",
    "            else:\n",
    "                word_freq[word] += 1\n",
    "    freq_word = {}\n",
    "    for key, value in dic.items():\n",
    "        if value not in freq_word: # key becomes value and viceversa\n",
    "            freq_word[value] = [key]\n",
    "        else:\n",
    "            freq_word[value].append(key)\n",
    "    return freq_word\n",
    "        "
   ]
  },
  {
   "cell_type": "code",
   "execution_count": 42,
   "id": "d23cf200-8e56-4f8c-b064-2e0030352942",
   "metadata": {},
   "outputs": [
    {
     "data": {
      "text/plain": [
       "{1: ['i', 'love', 'the', 'best', 'red', 'violets', 'blue'],\n",
       " 3: ['roses', 'are']}"
      ]
     },
     "execution_count": 42,
     "metadata": {},
     "output_type": "execute_result"
    }
   ],
   "source": [
    "dic = word_frequency(sentences)\n",
    "dic"
   ]
  },
  {
   "cell_type": "code",
   "execution_count": null,
   "id": "6d345513-805f-4197-95c1-954874b8fb9f",
   "metadata": {},
   "outputs": [],
   "source": []
  },
  {
   "cell_type": "code",
   "execution_count": null,
   "id": "b361038c-99cc-4cc8-a6f1-70f8fa384655",
   "metadata": {},
   "outputs": [],
   "source": []
  },
  {
   "cell_type": "code",
   "execution_count": null,
   "id": "d0a88c74-5458-434e-8c87-d7ca8cf05425",
   "metadata": {},
   "outputs": [],
   "source": []
  },
  {
   "cell_type": "code",
   "execution_count": null,
   "id": "d2a28905-3c36-48bc-ac94-e79de3215c56",
   "metadata": {},
   "outputs": [],
   "source": []
  },
  {
   "cell_type": "code",
   "execution_count": null,
   "id": "b0a8adb6-0f20-4696-964f-b7f07af5ac28",
   "metadata": {},
   "outputs": [],
   "source": []
  },
  {
   "cell_type": "code",
   "execution_count": null,
   "id": "3a6d6452-3e82-4e3b-aa0d-49ed6c3f587b",
   "metadata": {},
   "outputs": [],
   "source": []
  }
 ],
 "metadata": {
  "kernelspec": {
   "display_name": "Py310",
   "language": "python",
   "name": "py310"
  },
  "language_info": {
   "codemirror_mode": {
    "name": "ipython",
    "version": 3
   },
   "file_extension": ".py",
   "mimetype": "text/x-python",
   "name": "python",
   "nbconvert_exporter": "python",
   "pygments_lexer": "ipython3",
   "version": "3.10.11"
  }
 },
 "nbformat": 4,
 "nbformat_minor": 5
}
