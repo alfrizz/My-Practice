{
 "cells": [
  {
   "cell_type": "markdown",
   "id": "eeba27ee-5ffa-48f5-8209-dffbcda706a5",
   "metadata": {},
   "source": [
    "Bootstrapping Confidence Intervals\n",
    "\n",
    "You are given an array of numerical values, bootstrap samples, and size for a confidence interval.\n",
    "\n",
    "Write a function that performs bootstrap sampling on the given array and calculates the confidence interval based on the given size.\n",
    "\n",
    "Note: The function should return a tuple containing the minimum and maximum values of the confidence interval rounded to the tenths place.\n",
    "\n",
    "Example\n",
    "\n",
    "Input:\n",
    "\n",
    "values = [1, 2, 3, 4, 5]\n",
    "\n",
    "Output\n",
    "\n",
    "bootstrap_conf_interval(values, 1000, 0.95) -> (1.2, 4.8)\n",
    "\n",
    "In this case, the function returns a tuple indicating that we are 95% confident that the population parameter lies between 1.2 and 4.8 based on our bootstrap samples.\n",
    "\n",
    "Note: Results may vary due to the randomness of bootstrap sampling."
   ]
  },
  {
   "cell_type": "code",
   "execution_count": 6,
   "id": "40cd01cd-bfd0-462c-8a90-10e485960ba6",
   "metadata": {},
   "outputs": [],
   "source": [
    "import random\n",
    "import numpy as np"
   ]
  },
  {
   "cell_type": "code",
   "execution_count": 30,
   "id": "c10242f8-0164-4aa9-83ec-f82b71addc4c",
   "metadata": {},
   "outputs": [],
   "source": [
    "def bootstrap_conf_interval(data, num_samples, conf_interval):\n",
    "    lower_quantile = (1 - conf_interval) / 2\n",
    "    upper_quantile = 1 - lower_quantile\n",
    "    bootstrap_samples = []\n",
    "    for _ in range(num_samples):\n",
    "        bootstrap_sample = []\n",
    "        for _ in range(len(data)):\n",
    "            bootstrap_sample.append(random.choice(data))\n",
    "        bootstrap_samples.append(bootstrap_sample)\n",
    "    bootstrap_means = np.mean(bootstrap_samples, axis=1)\n",
    "    return np.quantile(bootstrap_means, [lower_quantile, upper_quantile])\n",
    "        "
   ]
  },
  {
   "cell_type": "code",
   "execution_count": 31,
   "id": "767b7623-4cf5-4227-92a7-858d8f5fe732",
   "metadata": {},
   "outputs": [
    {
     "data": {
      "text/plain": [
       "array([1.8, 4.2])"
      ]
     },
     "execution_count": 31,
     "metadata": {},
     "output_type": "execute_result"
    }
   ],
   "source": [
    "values = [1, 2, 3, 4, 5]\n",
    "\n",
    "bootstrap_conf_interval(values, 1000, 0.95)"
   ]
  },
  {
   "cell_type": "code",
   "execution_count": 32,
   "id": "c42dcd66-4b1a-49b8-b879-fd3493ff5da0",
   "metadata": {},
   "outputs": [],
   "source": [
    "def bootstrap_conf_interval(data, num_samples, conf_interval):\n",
    "    lower_quantile = (1 - conf_interval) / 2\n",
    "    upper_quantile = 1 - lower_quantile\n",
    "    bootstrap_samples = []\n",
    "    bootstrap_samples = np.random.choice(data, (num_samples, len(data)), replace=True)\n",
    "    bootstrap_means = np.mean(bootstrap_samples, axis=1)\n",
    "    return np.quantile(bootstrap_means, [lower_quantile, upper_quantile])"
   ]
  },
  {
   "cell_type": "code",
   "execution_count": 33,
   "id": "a034ea00-30b5-4dcd-b00a-1a39dace7dc2",
   "metadata": {},
   "outputs": [
    {
     "data": {
      "text/plain": [
       "array([1.8, 4.2])"
      ]
     },
     "execution_count": 33,
     "metadata": {},
     "output_type": "execute_result"
    }
   ],
   "source": [
    "values = [1, 2, 3, 4, 5]\n",
    "\n",
    "bootstrap_conf_interval(values, 1000, 0.95)"
   ]
  },
  {
   "cell_type": "code",
   "execution_count": null,
   "id": "891a9886-13de-49d0-8e25-e553d0d3fc5b",
   "metadata": {},
   "outputs": [],
   "source": []
  },
  {
   "cell_type": "code",
   "execution_count": null,
   "id": "8550470f-6ebb-4e06-bb7d-cb070531772d",
   "metadata": {},
   "outputs": [],
   "source": []
  },
  {
   "cell_type": "code",
   "execution_count": null,
   "id": "9824e04a-70f8-4029-9350-2cd548ede32c",
   "metadata": {},
   "outputs": [],
   "source": []
  },
  {
   "cell_type": "code",
   "execution_count": null,
   "id": "cb70f6a5-d344-46ec-b9f3-00c22adc540c",
   "metadata": {},
   "outputs": [],
   "source": []
  },
  {
   "cell_type": "code",
   "execution_count": null,
   "id": "777ac083-1d2f-4f57-ab55-7c6634986c50",
   "metadata": {},
   "outputs": [],
   "source": []
  },
  {
   "cell_type": "code",
   "execution_count": null,
   "id": "8bce4ffb-5ab9-4e71-bc9c-de1e4045d059",
   "metadata": {},
   "outputs": [],
   "source": []
  }
 ],
 "metadata": {
  "kernelspec": {
   "display_name": "Python 3 (ipykernel)",
   "language": "python",
   "name": "python3"
  },
  "language_info": {
   "codemirror_mode": {
    "name": "ipython",
    "version": 3
   },
   "file_extension": ".py",
   "mimetype": "text/x-python",
   "name": "python",
   "nbconvert_exporter": "python",
   "pygments_lexer": "ipython3",
   "version": "3.10.10"
  }
 },
 "nbformat": 4,
 "nbformat_minor": 5
}
