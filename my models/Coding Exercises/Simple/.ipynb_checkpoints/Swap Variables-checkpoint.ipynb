{
 "cells": [
  {
   "cell_type": "markdown",
   "id": "09b80d51-c8b1-4aad-bbd1-054844dffd76",
   "metadata": {},
   "source": [
    "Swap Variables\n",
    "\n",
    "You are given a dictionary with two keys a and b that hold integers as their values.\n",
    "\n",
    "Without declaring any other variable, swap the value of a with the value of b and vice versa.\n",
    "\n",
    "Note: Return the dictionary after editing it.\n",
    "\n",
    "Example:\n",
    "\n",
    "Input:\n",
    "\n",
    "numbers = {\n",
    "  'a':3,\n",
    "  'b':4\n",
    "}\n",
    "\n",
    "Output:\n",
    "\n",
    "def swap_values(numbers) -> {'a':4,'b':3}"
   ]
  },
  {
   "cell_type": "code",
   "execution_count": 6,
   "id": "c38ef493-5c43-4bda-8ddb-770911349b52",
   "metadata": {},
   "outputs": [],
   "source": [
    "numbers = {\n",
    "  'a':3,\n",
    "  'b':4\n",
    "}"
   ]
  },
  {
   "cell_type": "code",
   "execution_count": 45,
   "id": "39cdbc77-67f1-4bec-92de-702bacd13de6",
   "metadata": {},
   "outputs": [],
   "source": [
    "def swap_values(numbers):\n",
    "    list_keys = list(numbers.keys())\n",
    "    list_values = list(numbers.values())[::-1]\n",
    "    dict_swap = dict(zip(list_keys, list_values))\n",
    "    return dict_swap"
   ]
  },
  {
   "cell_type": "code",
   "execution_count": 46,
   "id": "e9b751df-0e41-41e6-8c8e-453c0d3e3b2d",
   "metadata": {},
   "outputs": [
    {
     "data": {
      "text/plain": [
       "{'a': 4, 'b': 3}"
      ]
     },
     "execution_count": 46,
     "metadata": {},
     "output_type": "execute_result"
    }
   ],
   "source": [
    "swap_values(numbers)"
   ]
  },
  {
   "cell_type": "code",
   "execution_count": 48,
   "id": "f06d4a80-1600-4999-9234-f15143129c06",
   "metadata": {},
   "outputs": [],
   "source": [
    "def swap_values(numbers):\n",
    "    numbers['a'], numbers['b'] = numbers['b'], numbers['a']\n",
    "    return numbers"
   ]
  },
  {
   "cell_type": "code",
   "execution_count": 49,
   "id": "3e3a1e73-238c-4938-be2e-a7255f70f39f",
   "metadata": {},
   "outputs": [
    {
     "data": {
      "text/plain": [
       "{'a': 4, 'b': 3}"
      ]
     },
     "execution_count": 49,
     "metadata": {},
     "output_type": "execute_result"
    }
   ],
   "source": [
    "swap_values(numbers)"
   ]
  },
  {
   "cell_type": "code",
   "execution_count": null,
   "id": "9a765970-ff1e-44d0-b36b-45a7f312a41f",
   "metadata": {},
   "outputs": [],
   "source": []
  },
  {
   "cell_type": "code",
   "execution_count": null,
   "id": "91d5e51f-33d7-44b6-8a6d-bc9439fdf147",
   "metadata": {},
   "outputs": [],
   "source": []
  }
 ],
 "metadata": {
  "kernelspec": {
   "display_name": "Python 3 (ipykernel)",
   "language": "python",
   "name": "python3"
  },
  "language_info": {
   "codemirror_mode": {
    "name": "ipython",
    "version": 3
   },
   "file_extension": ".py",
   "mimetype": "text/x-python",
   "name": "python",
   "nbconvert_exporter": "python",
   "pygments_lexer": "ipython3",
   "version": "3.10.10"
  }
 },
 "nbformat": 4,
 "nbformat_minor": 5
}
