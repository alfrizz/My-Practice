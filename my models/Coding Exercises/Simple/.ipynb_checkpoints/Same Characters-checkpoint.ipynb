{
 "cells": [
  {
   "cell_type": "markdown",
   "id": "d65f64e0-d428-41c8-96d8-6cd8d4684760",
   "metadata": {},
   "source": [
    "Given a list of strings, write a Python program to check whether each string has all the same characters or not.\n",
    "\n",
    "What is the complexity of this program?"
   ]
  },
  {
   "cell_type": "code",
   "execution_count": 28,
   "id": "9e735ca1-1553-4cec-9237-f4d4994ac01f",
   "metadata": {},
   "outputs": [],
   "source": [
    "list_strings = [\"aaaaaaaaaaaaaaaaaa\",\"bbbbbbbbbbbbhbbbbbbbbb\",\"bbbbbbbb\",\"zzzzzz\"]"
   ]
  },
  {
   "cell_type": "code",
   "execution_count": 27,
   "id": "ee7939ac-8a9a-4ba0-b610-f9630dace16c",
   "metadata": {},
   "outputs": [],
   "source": [
    "def same_characters(list_strings):\n",
    "    for string in list_strings:\n",
    "        for i in range(1, len(string)):\n",
    "            print(string[i], string[0])\n",
    "            if string[i] != string[0]:\n",
    "                return False\n",
    "    return True"
   ]
  },
  {
   "cell_type": "code",
   "execution_count": 29,
   "id": "0588bd36-fa8b-4822-9294-9db92c623267",
   "metadata": {},
   "outputs": [
    {
     "name": "stdout",
     "output_type": "stream",
     "text": [
      "a a\n",
      "a a\n",
      "a a\n",
      "a a\n",
      "a a\n",
      "a a\n",
      "a a\n",
      "a a\n",
      "a a\n",
      "a a\n",
      "a a\n",
      "a a\n",
      "a a\n",
      "a a\n",
      "a a\n",
      "a a\n",
      "a a\n",
      "b b\n",
      "b b\n",
      "b b\n",
      "b b\n",
      "b b\n",
      "b b\n",
      "b b\n",
      "b b\n",
      "b b\n",
      "b b\n",
      "b b\n",
      "h b\n"
     ]
    },
    {
     "data": {
      "text/plain": [
       "False"
      ]
     },
     "execution_count": 29,
     "metadata": {},
     "output_type": "execute_result"
    }
   ],
   "source": [
    "same_characters(list_strings)"
   ]
  },
  {
   "cell_type": "code",
   "execution_count": null,
   "id": "aeaf8c7b-6aa0-4ff5-9267-1f5d3e21b4a2",
   "metadata": {},
   "outputs": [],
   "source": []
  },
  {
   "cell_type": "code",
   "execution_count": null,
   "id": "ee129730-c84a-4d0f-aa98-4cda801326ed",
   "metadata": {},
   "outputs": [],
   "source": []
  },
  {
   "cell_type": "code",
   "execution_count": null,
   "id": "55dd57ca-1064-4d50-9662-26156a68eb61",
   "metadata": {},
   "outputs": [],
   "source": []
  }
 ],
 "metadata": {
  "kernelspec": {
   "display_name": "Py310",
   "language": "python",
   "name": "py310"
  },
  "language_info": {
   "codemirror_mode": {
    "name": "ipython",
    "version": 3
   },
   "file_extension": ".py",
   "mimetype": "text/x-python",
   "name": "python",
   "nbconvert_exporter": "python",
   "pygments_lexer": "ipython3",
   "version": "3.10.11"
  }
 },
 "nbformat": 4,
 "nbformat_minor": 5
}
