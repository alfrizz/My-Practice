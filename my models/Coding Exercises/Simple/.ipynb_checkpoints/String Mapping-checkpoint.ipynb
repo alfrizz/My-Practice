{
 "cells": [
  {
   "cell_type": "markdown",
   "id": "dcd1ffe0-ddcc-41c8-b99f-4bb86221cfa2",
   "metadata": {},
   "source": [
    "String Mapping\n",
    "\n",
    "Given two strings, string1 and string2, write a function str_map to determine if there exists a one-to-one correspondence (bijection) between the characters of string1 and string2.\n",
    "\n",
    "For the two strings, our correspondence must be between characters in the same position/index."
   ]
  },
  {
   "cell_type": "code",
   "execution_count": 48,
   "id": "6cd8e8e4-20fd-42cf-8b1b-6771bbbaaca2",
   "metadata": {},
   "outputs": [],
   "source": [
    "def string_map(string1, string2):\n",
    "    for iter in range(2):\n",
    "        if iter == 1:\n",
    "            temp = string1\n",
    "            string1 = string2\n",
    "            string2 = temp\n",
    "        len_str = len(string1)\n",
    "        if len_str != len(string2):\n",
    "            return False\n",
    "        dict_str = {} \n",
    "        for i in range(len_str):\n",
    "            if string1[i] not in dict_str:\n",
    "                dict_str[string1[i]] = string2[i]\n",
    "            else:\n",
    "                if dict_str[string1[i]] != string2[i]:\n",
    "                    return dict_str, False\n",
    "    return True"
   ]
  },
  {
   "cell_type": "code",
   "execution_count": 36,
   "id": "0df84abe-856f-4a4a-9ccd-783eb774328e",
   "metadata": {},
   "outputs": [
    {
     "data": {
      "text/plain": [
       "({'a': 'q', 's': 'w', 'd': 'e'}, True)"
      ]
     },
     "execution_count": 36,
     "metadata": {},
     "output_type": "execute_result"
    }
   ],
   "source": [
    "# Example 1:\n",
    "\n",
    "# Input:\n",
    "\n",
    "string1 = 'qwe'\n",
    "string2 = 'asd'\n",
    "\n",
    "string_map(string1, string2) # == True\n",
    "\n",
    "# q = a, w = s, and e = d\n"
   ]
  },
  {
   "cell_type": "code",
   "execution_count": 41,
   "id": "852e82fd-24e4-4318-9d7b-9224f0abf7fe",
   "metadata": {},
   "outputs": [
    {
     "data": {
      "text/plain": [
       "({'f': 'd', 'a': 'o', 't': 'n'}, False)"
      ]
     },
     "execution_count": 41,
     "metadata": {},
     "output_type": "execute_result"
    }
   ],
   "source": [
    "# Example 2:\n",
    "\n",
    "# Input:\n",
    "\n",
    "string1 = 'donut'\n",
    "string2 = 'fatty'\n",
    "\n",
    "string_map(string1, string2) # == False\n",
    "# cannot map two distinct characters to two equal characters\n"
   ]
  },
  {
   "cell_type": "code",
   "execution_count": 44,
   "id": "99fbc1f5-f458-48d1-b73a-2719c2791105",
   "metadata": {},
   "outputs": [
    {
     "data": {
      "text/plain": [
       "({'e': 'e', 'n': 'n', 'm': 'm', 'y': 'y'}, True)"
      ]
     },
     "execution_count": 44,
     "metadata": {},
     "output_type": "execute_result"
    }
   ],
   "source": [
    "# Example 3:\n",
    "\n",
    "# Input:\n",
    "\n",
    "string1 = 'enemy'\n",
    "string2 = 'enemy'\n",
    "\n",
    "string_map(string1, string2) # == True\n",
    "# there exists a one-to-one correspondence between equivalent strings\n"
   ]
  },
  {
   "cell_type": "code",
   "execution_count": 47,
   "id": "ff34e1af-8dfb-4728-9f41-cb1155f37462",
   "metadata": {},
   "outputs": [
    {
     "data": {
      "text/plain": [
       "({'e': 'y', 'n': 'm'}, False)"
      ]
     },
     "execution_count": 47,
     "metadata": {},
     "output_type": "execute_result"
    }
   ],
   "source": [
    "# Example 4:\n",
    "\n",
    "# Input:\n",
    "\n",
    "string1 = 'enemy'\n",
    "string2 = 'ymene'\n",
    "\n",
    "string_map(string1, string2) # == False\n",
    "# since our correspondence must be between characters of the same index, this case returns 'False' as we must map e = y AND e = e"
   ]
  },
  {
   "cell_type": "code",
   "execution_count": null,
   "id": "05412c5a-cf25-41e6-a01a-24613c62fd4d",
   "metadata": {},
   "outputs": [],
   "source": []
  },
  {
   "cell_type": "code",
   "execution_count": null,
   "id": "2dc384f7-9c5a-48dc-ab4a-e6cd23a2a48e",
   "metadata": {},
   "outputs": [],
   "source": []
  },
  {
   "cell_type": "code",
   "execution_count": null,
   "id": "61c9da04-d434-4127-b917-c9e0dac5f1ab",
   "metadata": {},
   "outputs": [],
   "source": []
  },
  {
   "cell_type": "code",
   "execution_count": null,
   "id": "754b288b-2196-42a0-8177-0612743f1f7f",
   "metadata": {},
   "outputs": [],
   "source": []
  }
 ],
 "metadata": {
  "kernelspec": {
   "display_name": "Python 3 (ipykernel)",
   "language": "python",
   "name": "python3"
  },
  "language_info": {
   "codemirror_mode": {
    "name": "ipython",
    "version": 3
   },
   "file_extension": ".py",
   "mimetype": "text/x-python",
   "name": "python",
   "nbconvert_exporter": "python",
   "pygments_lexer": "ipython3",
   "version": "3.10.10"
  }
 },
 "nbformat": 4,
 "nbformat_minor": 5
}
