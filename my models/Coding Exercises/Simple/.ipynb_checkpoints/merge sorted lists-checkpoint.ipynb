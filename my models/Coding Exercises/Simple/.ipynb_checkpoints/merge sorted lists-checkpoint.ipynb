{
 "cells": [
  {
   "cell_type": "markdown",
   "id": "96f996a3-4e52-4b40-81ae-7ace7d25757c",
   "metadata": {},
   "source": [
    "Merge Sorted Lists\n",
    "\n",
    "Given two sorted lists, write a function to merge them into one sorted list.\n",
    "\n",
    "Bonus: What’s the time complexity?\n",
    "\n",
    "Example:\n",
    "\n",
    "Input:\n",
    "\n",
    "list1 = [1,2,5]\n",
    "\n",
    "list2 = [2,4,6]\n",
    "\n",
    "Output:\n",
    "\n",
    "def merge_list(list1,list2) -> [1,2,2,4,5,6]"
   ]
  },
  {
   "cell_type": "code",
   "execution_count": 22,
   "id": "91ad8bb7-96d8-43f5-8541-ff62274ca04c",
   "metadata": {},
   "outputs": [],
   "source": [
    "def merge_list(list1, list2):\n",
    "    \n",
    "    merged_list = []\n",
    "    \n",
    "    if list1[-1] < list2[-1]: \n",
    "        first_list = list1\n",
    "        second_list = list2\n",
    "    else:\n",
    "        first_list = list2\n",
    "        second_list = list1\n",
    "        \n",
    "    iter1 = 0\n",
    "    iter2 = 0\n",
    "        \n",
    "    while iter1 < len(first_list):\n",
    "        if first_list[iter1] < second_list[iter2]:\n",
    "            merged_list.append(first_list[iter1])\n",
    "            iter1 += 1\n",
    "        else:\n",
    "            merged_list.append(second_list[iter2])\n",
    "            iter2 += 1\n",
    "            \n",
    "    merged_list.extend(second_list[iter2:])\n",
    "    \n",
    "    return merged_list\n",
    "        \n",
    "                \n",
    "    "
   ]
  },
  {
   "cell_type": "code",
   "execution_count": 27,
   "id": "7ebea50a-2ac9-4646-a616-4400c6dd2de6",
   "metadata": {},
   "outputs": [],
   "source": [
    "list1 = [1,2,5,10]\n",
    "\n",
    "list2 = [2,4,5,6,7,9]"
   ]
  },
  {
   "cell_type": "code",
   "execution_count": 28,
   "id": "7dd8335c-5a51-4906-ad13-7dc2f0b48c6d",
   "metadata": {},
   "outputs": [
    {
     "data": {
      "text/plain": [
       "[1, 2, 2, 4, 5, 5, 6, 7, 9, 10]"
      ]
     },
     "execution_count": 28,
     "metadata": {},
     "output_type": "execute_result"
    }
   ],
   "source": [
    "merge_list(list1, list2)"
   ]
  },
  {
   "cell_type": "markdown",
   "id": "efeb6d0f-dc8d-4838-a553-c9c71d9469e5",
   "metadata": {},
   "source": [
    "Time Complexity Analysis\n",
    "\n",
    "Initialization:\n",
    "\n",
    "Setting up iterators and the merged list takes constant time: O(1).\n",
    "\n",
    "Merging Process:\n",
    "\n",
    "The while loop runs until the smaller list is exhausted. In each iteration, one element from either list is appended to the merged list. The maximum number of iterations is equal to the total number of elements in both lists (n + m).\n",
    "\n",
    "Appending Remaining Elements:\n",
    "\n",
    "After the while loop, the remaining elements from the non-exhausted list are appended. The maximum number of elements to append is n or m, whichever list still has elements left.\n",
    "\n",
    "Overall, this gives us a time complexity of O(n + m), which is efficient for this merging operation."
   ]
  },
  {
   "cell_type": "code",
   "execution_count": null,
   "id": "a0a33ab8-ab4e-4115-bba9-65c61889a2b7",
   "metadata": {},
   "outputs": [],
   "source": []
  },
  {
   "cell_type": "code",
   "execution_count": null,
   "id": "dce4727a-5467-47be-9134-ac8f340c6fe4",
   "metadata": {},
   "outputs": [],
   "source": []
  },
  {
   "cell_type": "code",
   "execution_count": null,
   "id": "b1d18192-8b3f-4930-8aa2-1257c855e644",
   "metadata": {},
   "outputs": [],
   "source": []
  },
  {
   "cell_type": "code",
   "execution_count": null,
   "id": "8f5f1dba-366c-4cd4-a20c-cfec2738ada8",
   "metadata": {},
   "outputs": [],
   "source": []
  }
 ],
 "metadata": {
  "kernelspec": {
   "display_name": "Py310",
   "language": "python",
   "name": "py310"
  },
  "language_info": {
   "codemirror_mode": {
    "name": "ipython",
    "version": 3
   },
   "file_extension": ".py",
   "mimetype": "text/x-python",
   "name": "python",
   "nbconvert_exporter": "python",
   "pygments_lexer": "ipython3",
   "version": "3.10.11"
  }
 },
 "nbformat": 4,
 "nbformat_minor": 5
}
