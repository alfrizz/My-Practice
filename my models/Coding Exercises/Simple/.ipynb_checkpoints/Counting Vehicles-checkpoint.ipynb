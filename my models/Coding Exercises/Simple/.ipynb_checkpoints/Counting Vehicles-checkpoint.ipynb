{
 "cells": [
  {
   "cell_type": "markdown",
   "id": "11a7182b-e581-4afc-be08-80d1733bc9b3",
   "metadata": {},
   "source": [
    "Counting Vehicles\n",
    "\n",
    "Let’s say there are many vehicles on a long road. At each mile along the road, a checkpoint indicates the length traveled across the road.\n",
    "\n",
    "You are given a list called vehicles which indicates the number of vehicles between each checkpoint. For example, the list [7,4,3] would mean that there are seven vehicles before the first checkpoint, four vehicles between the first and second checkpoints, and three vehicles between the second and third checkpoints.\n",
    "\n",
    "Write a function range_vehicles that will give the number of vehicles between the start and end checkpoints.\n",
    "\n",
    "Note: start may be 0\n",
    "\n",
    "Example:\n",
    "\n",
    "Input:\n",
    "\n",
    "vehicles = [5, 6, 4, 2, 1]\n",
    "\n",
    "start = 1\n",
    "\n",
    "end = 3\n",
    "\n",
    "Output:\n",
    "\n",
    "range_vehicles(vehicles,start,end) -> 10"
   ]
  },
  {
   "cell_type": "code",
   "execution_count": 4,
   "id": "6ecd4ebb-d4fd-48c8-9c60-8497980c044d",
   "metadata": {},
   "outputs": [],
   "source": [
    "def range_vehicles(vehicles, start, end):\n",
    "    return sum(vehicles[start:end])"
   ]
  },
  {
   "cell_type": "code",
   "execution_count": 5,
   "id": "f3fbb52c-f9b4-4602-a27b-a1a1937e3874",
   "metadata": {},
   "outputs": [],
   "source": [
    "vehicles = [5, 6, 4, 2, 1]\n",
    "\n",
    "start = 1\n",
    "\n",
    "end = 3"
   ]
  },
  {
   "cell_type": "code",
   "execution_count": 6,
   "id": "dab308cd-ef26-4ca5-a9d0-85218b71691c",
   "metadata": {},
   "outputs": [
    {
     "data": {
      "text/plain": [
       "10"
      ]
     },
     "execution_count": 6,
     "metadata": {},
     "output_type": "execute_result"
    }
   ],
   "source": [
    "range_vehicles(vehicles,start,end)"
   ]
  },
  {
   "cell_type": "code",
   "execution_count": null,
   "id": "872cf395-3c88-4487-916d-b20e405a034d",
   "metadata": {},
   "outputs": [],
   "source": []
  },
  {
   "cell_type": "code",
   "execution_count": null,
   "id": "c08ccc97-de3e-453c-9f85-e16e053470c2",
   "metadata": {},
   "outputs": [],
   "source": []
  },
  {
   "cell_type": "code",
   "execution_count": null,
   "id": "9d4203bb-3c05-40e4-9a9c-bd741d0df3ad",
   "metadata": {},
   "outputs": [],
   "source": []
  }
 ],
 "metadata": {
  "kernelspec": {
   "display_name": "Python 3 (ipykernel)",
   "language": "python",
   "name": "python3"
  },
  "language_info": {
   "codemirror_mode": {
    "name": "ipython",
    "version": 3
   },
   "file_extension": ".py",
   "mimetype": "text/x-python",
   "name": "python",
   "nbconvert_exporter": "python",
   "pygments_lexer": "ipython3",
   "version": "3.10.10"
  }
 },
 "nbformat": 4,
 "nbformat_minor": 5
}
