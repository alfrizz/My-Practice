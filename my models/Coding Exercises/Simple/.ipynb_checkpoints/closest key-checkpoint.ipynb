{
 "cells": [
  {
   "cell_type": "markdown",
   "id": "fb1a94c7-7e1d-46ac-a033-486de07d38a0",
   "metadata": {},
   "source": [
    "Given a dictionary with keys of letters and values of a list of letters, write a function closest_key to find the key with the input value closest to the beginning of the list.\n",
    "\n",
    "Example:\n",
    "\n",
    "Input:\n",
    "\n",
    "dictionary = {\n",
    "    'a' : ['b','c','e'],\n",
    "    'm' : ['c','e'],\n",
    "}\n",
    "\n",
    "input = 'c'\n",
    "\n",
    "Output:\n",
    "\n",
    "closest_key(dictionary, input) -> 'm'\n",
    "\n",
    "(c is at distance 1 from a and 0 from m)\n"
   ]
  },
  {
   "cell_type": "code",
   "execution_count": 81,
   "id": "30a92756-336c-40ee-a2aa-a6f4c37568dc",
   "metadata": {},
   "outputs": [],
   "source": [
    "def closest_key(dictionary, input_val):\n",
    "    ix = 0\n",
    "    max_iter = max([len(val) for _ , val in dictionary.items()])\n",
    "    while ix < max_iter:\n",
    "        for key in dictionary:\n",
    "            if ix < len(dictionary[key]):\n",
    "                print(ix, dictionary[key][ix])\n",
    "                if input_val == dictionary[key][ix]:\n",
    "                    return key, dictionary[key]\n",
    "            else:\n",
    "                pass \n",
    "        ix += 1\n"
   ]
  },
  {
   "cell_type": "code",
   "execution_count": 84,
   "id": "ea949e2c-49c2-481e-a4c9-f59e6b6d1489",
   "metadata": {},
   "outputs": [
    {
     "name": "stdout",
     "output_type": "stream",
     "text": [
      "0 v\n",
      "0 o\n",
      "1 b\n",
      "1 a\n",
      "2 c\n"
     ]
    },
    {
     "data": {
      "text/plain": [
       "('a', ['v', 'b', 'c', 'e', 'g'])"
      ]
     },
     "execution_count": 84,
     "metadata": {},
     "output_type": "execute_result"
    }
   ],
   "source": [
    "dictionary = { 'a' : ['b','c','e'], 'm' : ['c','e'], }\n",
    "dictionary = { 'a' : ['b','c','e','g'], 'm' : ['c','e'], }\n",
    "dictionary = { 'a' : ['b','c','e','g'], 'm' : ['a','c','e'], }\n",
    "dictionary = { 'a' : ['v','b','c','e','g'], 'm' : ['a','c','e'], }\n",
    "dictionary = { 'a' : ['v','b','c','e','g'], 'm' : ['o','a','c','e'], }\n",
    "\n",
    "input_val = 'c'\n",
    "\n",
    "closest_key(dictionary, input_val)"
   ]
  },
  {
   "cell_type": "code",
   "execution_count": null,
   "id": "9b61b115-5997-44fe-be46-a291df4dbfaa",
   "metadata": {},
   "outputs": [],
   "source": []
  },
  {
   "cell_type": "code",
   "execution_count": null,
   "id": "7705dfd5-cc20-49ab-9f22-556b64286df5",
   "metadata": {},
   "outputs": [],
   "source": []
  },
  {
   "cell_type": "code",
   "execution_count": null,
   "id": "77e50080-74b9-42d3-8d1a-d214e3552c74",
   "metadata": {},
   "outputs": [],
   "source": []
  },
  {
   "cell_type": "code",
   "execution_count": null,
   "id": "ee09fe63-dacb-43eb-a0a4-3596548c164c",
   "metadata": {},
   "outputs": [],
   "source": []
  }
 ],
 "metadata": {
  "kernelspec": {
   "display_name": "Py310",
   "language": "python",
   "name": "py310"
  },
  "language_info": {
   "codemirror_mode": {
    "name": "ipython",
    "version": 3
   },
   "file_extension": ".py",
   "mimetype": "text/x-python",
   "name": "python",
   "nbconvert_exporter": "python",
   "pygments_lexer": "ipython3",
   "version": "3.10.11"
  }
 },
 "nbformat": 4,
 "nbformat_minor": 5
}
