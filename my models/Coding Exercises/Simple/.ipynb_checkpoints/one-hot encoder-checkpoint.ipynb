{
 "cells": [
  {
   "cell_type": "markdown",
   "id": "ecab2a7b-1dff-4ec4-9169-60f49478f885",
   "metadata": {},
   "source": [
    "Given a list, write a function encode which one-hot encodes the items in the list. When one-hot encoding, the most significant bit (index zero) should be represented by the first unique element in the list."
   ]
  },
  {
   "cell_type": "markdown",
   "id": "91d11f8b-3782-4d77-8644-f476bbde1787",
   "metadata": {},
   "source": [
    "---\n",
    "Example 1\n",
    "---\n",
    "\n",
    "Input:\n",
    "\n",
    "elements = [1, 3, 4, 3, 2, 1]\n",
    "\n",
    "Output:\n",
    "\n",
    "def encode(elements) -> [[1, 0, 0, 0], [0, 1, 0, 0],\n",
    " [0, 0, 1, 0], [0, 1, 0, 0], [0, 0, 0, 1], [1, 0, 0, 0]]\n",
    " \n",
    " ---\n",
    " Example 2\n",
    " ---\n",
    "\n",
    "Input:\n",
    "\n",
    "elements = ['hi', 'hello', 'amazing', 'amazing']\n",
    "\n",
    "Output:\n",
    "\n",
    "def encode(elements) -> [[1, 0, 0], [0, 1, 0], [0, 0, 1], [0, 0, 1]]"
   ]
  },
  {
   "cell_type": "code",
   "execution_count": 51,
   "id": "5ce61f4b-330f-4588-9097-d77b729c1cb3",
   "metadata": {},
   "outputs": [],
   "source": [
    "def encode(elements):\n",
    "    \n",
    "    len_dict = len(set(elements))\n",
    "    enc_dict = {}\n",
    "    encoding = [[0]*i + [1] + [0]*(len_dict-i-1) for i in range(len_dict)]\n",
    "    ix_enc = 0\n",
    "    \n",
    "    for ix_elem in range(len(elements)):\n",
    "        if elements[ix_elem] not in enc_dict.keys():\n",
    "            enc_dict[elements[ix_elem]] = encoding[ix_enc]\n",
    "            ix_enc += 1\n",
    "            \n",
    "    enconded = [enc_dict[elem] for elem in elements]\n",
    "    \n",
    "    return enconded"
   ]
  },
  {
   "cell_type": "code",
   "execution_count": 53,
   "id": "1945cefe-513a-4038-80ea-f2cd65e02a44",
   "metadata": {},
   "outputs": [
    {
     "data": {
      "text/plain": [
       "[[1, 0, 0, 0],\n",
       " [0, 1, 0, 0],\n",
       " [0, 0, 1, 0],\n",
       " [0, 1, 0, 0],\n",
       " [0, 0, 0, 1],\n",
       " [1, 0, 0, 0]]"
      ]
     },
     "execution_count": 53,
     "metadata": {},
     "output_type": "execute_result"
    }
   ],
   "source": [
    "elements_nums = [1, 3, 4, 3, 2, 1]\n",
    "elements_words = ['hi', 'hello', 'amazing', 'amazing']\n",
    "\n",
    "encode(elements_nums)"
   ]
  },
  {
   "cell_type": "code",
   "execution_count": null,
   "id": "688ba85c-023e-4b17-aef1-b6df4f9e5cae",
   "metadata": {},
   "outputs": [],
   "source": []
  },
  {
   "cell_type": "code",
   "execution_count": null,
   "id": "ca725bdc-d4e4-4f24-86fc-570bebc53fdf",
   "metadata": {},
   "outputs": [],
   "source": []
  },
  {
   "cell_type": "code",
   "execution_count": null,
   "id": "755c2893-5a45-4b69-99fa-87dde041dc76",
   "metadata": {},
   "outputs": [],
   "source": []
  },
  {
   "cell_type": "code",
   "execution_count": null,
   "id": "2c05fe68-ac42-40c1-b7b4-13d105a3da49",
   "metadata": {},
   "outputs": [],
   "source": []
  },
  {
   "cell_type": "code",
   "execution_count": null,
   "id": "d0984fba-d5fa-44b3-91c0-a059971fd2c7",
   "metadata": {},
   "outputs": [],
   "source": []
  }
 ],
 "metadata": {
  "kernelspec": {
   "display_name": "Py310",
   "language": "python",
   "name": "py310"
  },
  "language_info": {
   "codemirror_mode": {
    "name": "ipython",
    "version": 3
   },
   "file_extension": ".py",
   "mimetype": "text/x-python",
   "name": "python",
   "nbconvert_exporter": "python",
   "pygments_lexer": "ipython3",
   "version": "3.10.11"
  }
 },
 "nbformat": 4,
 "nbformat_minor": 5
}
