{
 "cells": [
  {
   "cell_type": "markdown",
   "id": "21cdbf6f-1453-4183-92f2-1488e740dc09",
   "metadata": {},
   "source": [
    "Given two dates, write a program to find the number of business days that exist between the date range.\n",
    "\n",
    "Example:\n",
    "\n",
    "Input:\n",
    "\n",
    "date1 = 2021-01-31\n",
    "\n",
    "date2 = 2021-02-18\n",
    "\n",
    "Output:\n",
    "\n",
    "def delta_buss_days(date1,date2) -> 14"
   ]
  },
  {
   "cell_type": "code",
   "execution_count": 16,
   "id": "83af6ae8-0d3d-4084-9225-54ff339c3123",
   "metadata": {},
   "outputs": [],
   "source": [
    "from datetime import datetime"
   ]
  },
  {
   "cell_type": "code",
   "execution_count": 56,
   "id": "361401ae-bae3-4852-a64e-52cec2ff70bd",
   "metadata": {},
   "outputs": [],
   "source": [
    "def delta_buss_days(date1,date2):\n",
    "    start_date = datetime.strptime(date1, '%d-%m-%Y')\n",
    "    end_date = datetime.strptime(date2, '%d-%m-%Y')\n",
    "    # print(start_date.weekday())\n",
    "    # print(end_date.weekday())\n",
    "    days_range = (end_date - start_date).days + 1\n",
    "    # print(days_range)\n",
    "    n_whole_weeks = days_range // 7\n",
    "    # print(n_whole_weeks)\n",
    "    n_remaining_days = days_range % 7\n",
    "    # print(n_remaining_days)\n",
    "    num_buss_day = n_whole_weeks * 5\n",
    "    # print(num_buss_day)\n",
    "    extra_day = start_date.weekday()\n",
    "    for _ in range(n_remaining_days): \n",
    "        if (extra_day % 7 != 5) and (extra_day % 7 != 6): # saturday=5, sunday=6\n",
    "            num_buss_day += 1\n",
    "        extra_day += 1\n",
    "    # print(num_buss_day)\n",
    "    return num_buss_day"
   ]
  },
  {
   "cell_type": "code",
   "execution_count": 64,
   "id": "61eae8c7-d3b8-459d-bd43-11ce01c3522e",
   "metadata": {},
   "outputs": [
    {
     "data": {
      "text/plain": [
       "16"
      ]
     },
     "execution_count": 64,
     "metadata": {},
     "output_type": "execute_result"
    }
   ],
   "source": [
    "num_business_days = delta_buss_days('13-12-2024', '05-01-2025')\n",
    "\n",
    "num_business_days"
   ]
  },
  {
   "cell_type": "code",
   "execution_count": null,
   "id": "16857ea4-de1d-4f5f-b2c2-f985fe4d1ee8",
   "metadata": {},
   "outputs": [],
   "source": []
  },
  {
   "cell_type": "code",
   "execution_count": null,
   "id": "f89265fe-5abf-42f3-8998-7cc422ad2327",
   "metadata": {},
   "outputs": [],
   "source": []
  },
  {
   "cell_type": "code",
   "execution_count": null,
   "id": "746fb710-9495-45d6-a245-d5b831255871",
   "metadata": {},
   "outputs": [],
   "source": []
  },
  {
   "cell_type": "code",
   "execution_count": null,
   "id": "ab37b734-b730-4885-a57d-200e2efcc7cc",
   "metadata": {},
   "outputs": [],
   "source": []
  },
  {
   "cell_type": "code",
   "execution_count": null,
   "id": "283a8cc4-223e-4fde-8ad4-ffd90cfb3a91",
   "metadata": {},
   "outputs": [],
   "source": []
  }
 ],
 "metadata": {
  "kernelspec": {
   "display_name": "Python 3 (ipykernel)",
   "language": "python",
   "name": "python3"
  },
  "language_info": {
   "codemirror_mode": {
    "name": "ipython",
    "version": 3
   },
   "file_extension": ".py",
   "mimetype": "text/x-python",
   "name": "python",
   "nbconvert_exporter": "python",
   "pygments_lexer": "ipython3",
   "version": "3.10.10"
  }
 },
 "nbformat": 4,
 "nbformat_minor": 5
}
