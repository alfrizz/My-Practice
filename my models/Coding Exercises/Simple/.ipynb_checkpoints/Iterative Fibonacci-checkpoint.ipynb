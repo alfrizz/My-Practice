{
 "cells": [
  {
   "cell_type": "markdown",
   "id": "a964b422-c130-4e2e-8b25-fa5fe378a400",
   "metadata": {},
   "source": [
    "Impossibly Iterative Fibonacci\n",
    "\n",
    "Write a function fib which takes an integer n and returns the nth fibonacci number. For this question, fib MUST be recursively defined.\n",
    "\n",
    "Note: for and while keywords are disabled for this question, as well as functools. Any workarounds around this restriction is prohibited.\n",
    "\n",
    "Example:\n",
    "\n",
    "Input:\n",
    "\n",
    "n = 4\n",
    "                                \n",
    "Output:\n",
    "\n",
    "def fib(n) -> 3\n",
    "                                \n",
    "the sequence is [1, 1, 2, 3, 5, 8...]"
   ]
  },
  {
   "cell_type": "code",
   "execution_count": 1,
   "id": "d35dc1b7-12a0-4735-8e87-93e2b2297970",
   "metadata": {},
   "outputs": [],
   "source": [
    "def fib(n):\n",
    "    if n <= 0:\n",
    "        return 0\n",
    "    if n == 1:\n",
    "        return 1\n",
    "    else:\n",
    "        return fib(n-1) + fib(n-2)"
   ]
  },
  {
   "cell_type": "code",
   "execution_count": 2,
   "id": "cc4de68a-545f-4d1a-9d77-7af6c0b90af4",
   "metadata": {},
   "outputs": [
    {
     "data": {
      "text/plain": [
       "(1, 1, 2, 3, 5, 8, 13, 21, 34, 55, 89, 144, 233, 377, 610)"
      ]
     },
     "execution_count": 2,
     "metadata": {},
     "output_type": "execute_result"
    }
   ],
   "source": [
    "fib(1),fib(2),fib(3),fib(4),fib(5),fib(6),fib(7),fib(8),fib(9),fib(10),fib(11),fib(12),fib(13),fib(14),fib(15)"
   ]
  },
  {
   "cell_type": "code",
   "execution_count": null,
   "id": "d3bd0bba-f287-4915-b011-763ff6dd5264",
   "metadata": {},
   "outputs": [],
   "source": []
  },
  {
   "cell_type": "code",
   "execution_count": null,
   "id": "731efa7f-8cab-44d6-b887-5674c73c36d1",
   "metadata": {},
   "outputs": [],
   "source": []
  },
  {
   "cell_type": "code",
   "execution_count": null,
   "id": "d67e1e7a-4796-40a0-93a8-8b7e063fe935",
   "metadata": {},
   "outputs": [],
   "source": []
  },
  {
   "cell_type": "code",
   "execution_count": null,
   "id": "b8c0314a-4ba4-4cbd-8692-dac0d4eda1cf",
   "metadata": {},
   "outputs": [],
   "source": []
  }
 ],
 "metadata": {
  "kernelspec": {
   "display_name": "Python 3 (ipykernel)",
   "language": "python",
   "name": "python3"
  },
  "language_info": {
   "codemirror_mode": {
    "name": "ipython",
    "version": 3
   },
   "file_extension": ".py",
   "mimetype": "text/x-python",
   "name": "python",
   "nbconvert_exporter": "python",
   "pygments_lexer": "ipython3",
   "version": "3.10.10"
  }
 },
 "nbformat": 4,
 "nbformat_minor": 5
}
