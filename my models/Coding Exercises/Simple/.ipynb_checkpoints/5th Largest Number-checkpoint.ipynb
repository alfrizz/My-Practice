{
 "cells": [
  {
   "cell_type": "markdown",
   "id": "2f6317cd-8f98-48d2-9f78-1d682382d0f3",
   "metadata": {},
   "source": [
    "5th Largest Number\n",
    "\n",
    "You’re given numlists, a list where each element is a list of at least five numbers.\n",
    "\n",
    "Write a function list_fifths that returns a list of the fifth-largest number from each element in numlists. Return the list in ascending order.\n",
    "\n",
    "Example:\n",
    "\n",
    "Input:\n",
    "\n",
    "numlists = [ [1,2,3,4,5], [3,1,2,5,4], [1,2,3,4,5,6,7], [99, 320, 400, 100.25, 55.2, 0.1] ]\n",
    "\n",
    "Output:\n",
    "\n",
    "def list_fifths(numlists) -> [1, 1, 3, 55.2]"
   ]
  },
  {
   "cell_type": "code",
   "execution_count": 10,
   "id": "60e7b016-7a34-45bd-95b6-e0047ec4ffc2",
   "metadata": {},
   "outputs": [],
   "source": [
    "def list_fifths(numlists):\n",
    "    lis_fif = []\n",
    "    for lis in numlists:\n",
    "        lis_fif.append(sorted(lis)[-5])\n",
    "    return sorted(lis_fif)"
   ]
  },
  {
   "cell_type": "code",
   "execution_count": 11,
   "id": "1aaa876e-2413-4c46-9245-293673cc784c",
   "metadata": {},
   "outputs": [
    {
     "data": {
      "text/plain": [
       "[1, 1, 3, 55.2]"
      ]
     },
     "execution_count": 11,
     "metadata": {},
     "output_type": "execute_result"
    }
   ],
   "source": [
    "numlists = [ [1,2,3,4,5], [3,1,2,5,4], [1,2,3,4,5,6,7], [99, 320, 400, 100.25, 55.2, 0.1] ]\n",
    "\n",
    "list_fifths(numlists)"
   ]
  },
  {
   "cell_type": "code",
   "execution_count": null,
   "id": "570aa67c-4b21-4d5e-8db4-638be24e15b8",
   "metadata": {},
   "outputs": [],
   "source": []
  },
  {
   "cell_type": "code",
   "execution_count": null,
   "id": "c108c747-a51b-415c-9d8d-58d35826633e",
   "metadata": {},
   "outputs": [],
   "source": []
  },
  {
   "cell_type": "code",
   "execution_count": null,
   "id": "a77ed76e-56a7-4ddb-b139-4118b0e33715",
   "metadata": {},
   "outputs": [],
   "source": []
  },
  {
   "cell_type": "code",
   "execution_count": null,
   "id": "e2848d07-5fc7-446f-ae51-d42f5b2b6543",
   "metadata": {},
   "outputs": [],
   "source": []
  },
  {
   "cell_type": "code",
   "execution_count": null,
   "id": "98c917e1-87ca-4197-a54c-eca2add5773d",
   "metadata": {},
   "outputs": [],
   "source": []
  },
  {
   "cell_type": "code",
   "execution_count": null,
   "id": "4415f23f-cabf-4d9e-b22c-d41c98e85c4f",
   "metadata": {},
   "outputs": [],
   "source": []
  }
 ],
 "metadata": {
  "kernelspec": {
   "display_name": "Python 3 (ipykernel)",
   "language": "python",
   "name": "python3"
  },
  "language_info": {
   "codemirror_mode": {
    "name": "ipython",
    "version": 3
   },
   "file_extension": ".py",
   "mimetype": "text/x-python",
   "name": "python",
   "nbconvert_exporter": "python",
   "pygments_lexer": "ipython3",
   "version": "3.10.10"
  }
 },
 "nbformat": 4,
 "nbformat_minor": 5
}
