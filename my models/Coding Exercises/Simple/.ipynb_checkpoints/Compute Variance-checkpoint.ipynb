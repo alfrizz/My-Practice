{
 "cells": [
  {
   "cell_type": "markdown",
   "id": "459d21c9-2d20-4565-b7db-e048e2062311",
   "metadata": {},
   "source": [
    "Write a function that outputs the (sample) variance given a list of integers.\n",
    "\n",
    "Note: round the result to 2 decimal places.\n",
    "\n",
    "Example:\n",
    "\n",
    "Input:\n",
    "\n",
    "test_list = [6, 7, 3, 9, 10, 15]\n",
    "\n",
    "Output:\n",
    "\n",
    "get_variance(test_list) -> 13.89"
   ]
  },
  {
   "cell_type": "code",
   "execution_count": 11,
   "id": "1ac79b36-85f5-468a-91b7-cfdd2bf93d42",
   "metadata": {},
   "outputs": [],
   "source": [
    "import numpy as np\n",
    "\n",
    "def get_variance(test_list):\n",
    "    mean_list = np.mean(test_list) \n",
    "    ssd_list = 0 # sum of the squared differences\n",
    "    for elem in test_list:\n",
    "        ssd_list += (elem - mean_list)**2\n",
    "    return ssd_list / (len(test_list) - 1)"
   ]
  },
  {
   "cell_type": "code",
   "execution_count": 12,
   "id": "c20a5705-8a82-4a4e-8e3e-e3dcb9c823ef",
   "metadata": {},
   "outputs": [
    {
     "data": {
      "text/plain": [
       "16.666666666666668"
      ]
     },
     "execution_count": 12,
     "metadata": {},
     "output_type": "execute_result"
    }
   ],
   "source": [
    "test_list = [6, 7, 3, 9, 10, 15]\n",
    "\n",
    "get_variance(test_list)"
   ]
  },
  {
   "cell_type": "code",
   "execution_count": 8,
   "id": "d4cf369d-0761-467a-8b19-8e62f8d63ecc",
   "metadata": {},
   "outputs": [
    {
     "data": {
      "text/plain": [
       "13.888888888888891"
      ]
     },
     "execution_count": 8,
     "metadata": {},
     "output_type": "execute_result"
    }
   ],
   "source": [
    "np.var(test_list)"
   ]
  },
  {
   "cell_type": "code",
   "execution_count": 13,
   "id": "6b1c49cb-9a2c-4634-9951-b40544ac8376",
   "metadata": {},
   "outputs": [
    {
     "data": {
      "text/plain": [
       "16.666666666666668"
      ]
     },
     "execution_count": 13,
     "metadata": {},
     "output_type": "execute_result"
    }
   ],
   "source": [
    "np.var(test_list, ddof=1)"
   ]
  },
  {
   "cell_type": "code",
   "execution_count": null,
   "id": "7f429222-35b8-40c7-ad02-29258b8d57cd",
   "metadata": {},
   "outputs": [],
   "source": []
  },
  {
   "cell_type": "code",
   "execution_count": null,
   "id": "a2cde984-32d7-447a-8192-4c62248f75b7",
   "metadata": {},
   "outputs": [],
   "source": []
  }
 ],
 "metadata": {
  "kernelspec": {
   "display_name": "Py310",
   "language": "python",
   "name": "py310"
  },
  "language_info": {
   "codemirror_mode": {
    "name": "ipython",
    "version": 3
   },
   "file_extension": ".py",
   "mimetype": "text/x-python",
   "name": "python",
   "nbconvert_exporter": "python",
   "pygments_lexer": "ipython3",
   "version": "3.10.11"
  }
 },
 "nbformat": 4,
 "nbformat_minor": 5
}
