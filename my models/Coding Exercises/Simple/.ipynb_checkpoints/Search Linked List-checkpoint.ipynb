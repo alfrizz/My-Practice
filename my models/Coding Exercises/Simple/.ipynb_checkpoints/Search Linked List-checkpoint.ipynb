{
 "cells": [
  {
   "cell_type": "markdown",
   "id": "0acf7503-9da9-42cd-92ab-2eb4f2b55054",
   "metadata": {},
   "source": [
    "Search Linked List\n",
    "\n",
    "Write a function, search_list, that returns a boolean indicating if the target value is in the linked_list or not.\n",
    "\n",
    "You receive the head of the linked list, which is a dictionary with the following keys: - value: contains the value of the node. - next: contains the next node in the list, or None.\n",
    "\n",
    "If the linked list is empty, you’ll receive None since there is no head node for an empty list.\n",
    "\n",
    "Example:\n",
    "\n",
    "Input:\n",
    "\n",
    "target = 2\n",
    "\n",
    "linked_list = 3 -> 2 -> 5 -> 6 -> 8 -> None\n",
    "\n",
    "linked_list = {\"value\":3,\"next\":{\"value\":2,\"next\":{\"value\":5,\"next\":{\"value\":6,\"next\":{\"value\":8,\"next\":None}}}}}\n",
    "\n",
    "Output:\n",
    "\n",
    "search_list(target, linked_list) -> True"
   ]
  },
  {
   "cell_type": "code",
   "execution_count": 1,
   "id": "42dc583f-a9b5-4371-b78a-9615f4fefe61",
   "metadata": {},
   "outputs": [],
   "source": [
    "def search_list(target, linked_list):\n",
    "    current_dict = linked_list\n",
    "    current_keys = list(linked_list.keys())\n",
    "    while current_dict[current_keys[0]] != None:\n",
    "        # print(current_dict[current_keys[0]])\n",
    "        if current_dict[current_keys[0]] == target:\n",
    "            return True\n",
    "        else:\n",
    "            current_dict = current_dict[current_keys[1]]\n",
    "            # print(current_dict)\n",
    "            if current_dict == None:\n",
    "                return False\n",
    "            else:            \n",
    "                current_keys = list(current_dict.keys())"
   ]
  },
  {
   "cell_type": "code",
   "execution_count": 2,
   "id": "a7875eaa-6d8c-40cf-8cc1-89415b838e46",
   "metadata": {},
   "outputs": [
    {
     "data": {
      "text/plain": [
       "True"
      ]
     },
     "execution_count": 2,
     "metadata": {},
     "output_type": "execute_result"
    }
   ],
   "source": [
    "linked_list = {\"value\":3,\"next\":{\"value\":2,\"next\":{\"value\":5,\"next\":{\"value\":6,\"next\":{\"value\":8,\"next\":None}}}}}\n",
    "target = 6\n",
    "\n",
    "search_list(target, linked_list)"
   ]
  },
  {
   "cell_type": "code",
   "execution_count": 3,
   "id": "b2f3ecad-c167-47a4-baff-c288dc211859",
   "metadata": {},
   "outputs": [],
   "source": [
    "def search_list(target, linked_list):\n",
    "    # Start with the head of the linked list\n",
    "    current_node = linked_list\n",
    "    \n",
    "    # Traverse the linked list\n",
    "    while current_node is not None:\n",
    "        # Check if the current node's value matches the target\n",
    "        if current_node['value'] == target:\n",
    "            return True\n",
    "        # Move to the next node\n",
    "        current_node = current_node['next']\n",
    "    \n",
    "    # If we reach the end of the list without finding the target, return False\n",
    "    return False\n"
   ]
  },
  {
   "cell_type": "code",
   "execution_count": 4,
   "id": "a21bdef6-8d7a-4360-bd58-6758a392f1ab",
   "metadata": {},
   "outputs": [
    {
     "name": "stdout",
     "output_type": "stream",
     "text": [
      "True\n"
     ]
    }
   ],
   "source": [
    "# Example usage:\n",
    "target = 2\n",
    "linked_list = {\"value\": 3, \"next\": {\"value\": 2, \"next\": {\"value\": 5, \"next\": {\"value\": 6, \"next\": {\"value\": 8, \"next\": None}}}}}\n",
    "\n",
    "print(search_list(target, linked_list))  # Output: True"
   ]
  },
  {
   "cell_type": "code",
   "execution_count": null,
   "id": "10ab5c96-b023-4105-a545-134a2594ab95",
   "metadata": {},
   "outputs": [],
   "source": []
  }
 ],
 "metadata": {
  "kernelspec": {
   "display_name": "Python 3 (ipykernel)",
   "language": "python",
   "name": "python3"
  },
  "language_info": {
   "codemirror_mode": {
    "name": "ipython",
    "version": 3
   },
   "file_extension": ".py",
   "mimetype": "text/x-python",
   "name": "python",
   "nbconvert_exporter": "python",
   "pygments_lexer": "ipython3",
   "version": "3.10.10"
  }
 },
 "nbformat": 4,
 "nbformat_minor": 5
}
