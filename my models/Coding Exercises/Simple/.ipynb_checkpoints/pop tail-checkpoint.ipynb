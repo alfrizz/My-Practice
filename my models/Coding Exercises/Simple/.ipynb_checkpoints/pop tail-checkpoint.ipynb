{
 "cells": [
  {
   "cell_type": "code",
   "execution_count": null,
   "id": "4de13ec0-1bb3-46d2-88b9-533f6ebbb179",
   "metadata": {},
   "outputs": [],
   "source": [
    "\n",
    "# def pop_tail(head: ListNode, tail: ListNode):\n",
    "#     if not head or not tail:\n",
    "#         return None\n",
    "    \n",
    "#     if head == tail:  # If there's only one node\n",
    "#         return None\n",
    "\n",
    "#     new_tail = tail.prev\n",
    "#     new_tail.next = None\n",
    "\n",
    "#     return [head, new_tail]\n",
    "\n",
    "# # Example usage:\n",
    "# head = ListNode(3)\n",
    "# second = ListNode(2)\n",
    "# third = ListNode(4)\n",
    "# fourth = ListNode(5)\n",
    "# tail = ListNode(7)\n",
    "\n",
    "# head.next = second\n",
    "# second.prev = head\n",
    "# second.next = third\n",
    "# third.prev = second\n",
    "# third.next = fourth\n",
    "# fourth.prev = third\n",
    "# fourth.next = tail\n",
    "# tail.prev = fourth\n",
    "\n",
    "# result = pop_tail(head, tail)\n",
    "# print(\"Updated head:\", result[0].value)\n",
    "# print(\"Updated tail:\", result[1].value)\n"
   ]
  },
  {
   "cell_type": "markdown",
   "id": "db4f66ee-5948-45e3-82cc-6576fcae35a4",
   "metadata": {},
   "source": [
    "You are given two ListNodes of a doubly linked list. Write a function pop_tail which removes the tail of the linked list in O(1) time. \n",
    "\n",
    "Return the head and tail of the linked list as a list. If the linked list is empty after removal, return None."
   ]
  },
  {
   "cell_type": "code",
   "execution_count": 22,
   "id": "bf741c49-2b64-41fe-ab44-ff90ce140f08",
   "metadata": {},
   "outputs": [],
   "source": [
    "class ListNode:\n",
    "    \n",
    "    def __init__(self, value, prev_node=None, next_node=None):\n",
    "        self.value = value\n",
    "        self.prev = prev_node\n",
    "        self.next = next_node"
   ]
  },
  {
   "cell_type": "code",
   "execution_count": 23,
   "id": "91c1484a-c607-4794-8273-fbd1aefd3550",
   "metadata": {},
   "outputs": [],
   "source": [
    "head = ListNode(3)\n",
    "second = ListNode(5, prev_node = head)\n",
    "head.next_node = second\n",
    "third = ListNode(8, prev_node = second)\n",
    "second.next_node = third\n",
    "in_between = ListNode(7, prev_node = second, next_node = third)\n",
    "second.next_node = in_between\n",
    "third.prev_nod = in_between\n",
    "tail = ListNode(9, prev_node = third)"
   ]
  },
  {
   "cell_type": "code",
   "execution_count": 24,
   "id": "2c7322de-73cb-4e3f-92c1-e88913288924",
   "metadata": {},
   "outputs": [
    {
     "data": {
      "text/plain": [
       "<__main__.ListNode at 0x1ae3e4dcd90>"
      ]
     },
     "execution_count": 24,
     "metadata": {},
     "output_type": "execute_result"
    }
   ],
   "source": [
    "head"
   ]
  },
  {
   "cell_type": "code",
   "execution_count": 30,
   "id": "a6621a15-1177-4ef0-b978-1872988d41e4",
   "metadata": {},
   "outputs": [
    {
     "data": {
      "text/plain": [
       "<__main__.ListNode at 0x1ae3e4dcc70>"
      ]
     },
     "execution_count": 30,
     "metadata": {},
     "output_type": "execute_result"
    }
   ],
   "source": [
    "third"
   ]
  },
  {
   "cell_type": "code",
   "execution_count": 25,
   "id": "dfbdf830-8ffb-4fc4-98fb-6d8206182cf2",
   "metadata": {},
   "outputs": [
    {
     "data": {
      "text/plain": [
       "<__main__.ListNode at 0x1ae3e4dd690>"
      ]
     },
     "execution_count": 25,
     "metadata": {},
     "output_type": "execute_result"
    }
   ],
   "source": [
    "tail"
   ]
  },
  {
   "cell_type": "code",
   "execution_count": 27,
   "id": "49439f18-9142-4609-ab4b-0137d26c5c73",
   "metadata": {},
   "outputs": [],
   "source": [
    "def pop_tail(head: ListNode, tail: ListNode):\n",
    "    if (head == tail) or (not head) or (not tail):\n",
    "        return None\n",
    "    tail = tail.prev\n",
    "    tail.next = None\n",
    "    return [head, tail]"
   ]
  },
  {
   "cell_type": "code",
   "execution_count": 31,
   "id": "4dba5597-4dd6-4d5d-b97d-3f5795f88f6e",
   "metadata": {},
   "outputs": [
    {
     "data": {
      "text/plain": [
       "[<__main__.ListNode at 0x1ae3e4dcd90>, <__main__.ListNode at 0x1ae3e4dcc70>]"
      ]
     },
     "execution_count": 31,
     "metadata": {},
     "output_type": "execute_result"
    }
   ],
   "source": [
    "pop_tail(head, tail) # the tail is now the third"
   ]
  },
  {
   "cell_type": "code",
   "execution_count": null,
   "id": "69f4f62a-59e7-44a5-99f7-22dd69c21a9d",
   "metadata": {},
   "outputs": [],
   "source": []
  },
  {
   "cell_type": "code",
   "execution_count": null,
   "id": "8b7b67f3-5cf7-45af-9d3e-26788abe1eab",
   "metadata": {},
   "outputs": [],
   "source": []
  },
  {
   "cell_type": "code",
   "execution_count": null,
   "id": "72b8fe60-fd49-4607-bfd3-20a24c86cb02",
   "metadata": {},
   "outputs": [],
   "source": []
  },
  {
   "cell_type": "code",
   "execution_count": null,
   "id": "414e5116-3bcc-4c90-83e5-c55d497fec7f",
   "metadata": {},
   "outputs": [],
   "source": []
  },
  {
   "cell_type": "code",
   "execution_count": null,
   "id": "e882d7ba-0f47-429e-92c2-fcb6377e0099",
   "metadata": {},
   "outputs": [],
   "source": []
  },
  {
   "cell_type": "code",
   "execution_count": null,
   "id": "3da751ae-3758-46c2-af76-0b555840f470",
   "metadata": {},
   "outputs": [],
   "source": []
  },
  {
   "cell_type": "code",
   "execution_count": null,
   "id": "958d8ced-1f53-4ab3-8184-00e394bdc32e",
   "metadata": {},
   "outputs": [],
   "source": []
  },
  {
   "cell_type": "code",
   "execution_count": null,
   "id": "07414084-e885-443e-80ef-b28dfbebba0f",
   "metadata": {},
   "outputs": [],
   "source": []
  },
  {
   "cell_type": "code",
   "execution_count": null,
   "id": "b5fef87d-5af0-4a7d-a8f3-ed8ced355889",
   "metadata": {},
   "outputs": [],
   "source": []
  },
  {
   "cell_type": "code",
   "execution_count": null,
   "id": "8c9944e8-d05a-439a-a313-7cd2e3fe9103",
   "metadata": {},
   "outputs": [],
   "source": []
  },
  {
   "cell_type": "code",
   "execution_count": null,
   "id": "1a40e64e-c3f9-4aa3-9788-e8ab67b3ce3d",
   "metadata": {},
   "outputs": [],
   "source": []
  },
  {
   "cell_type": "code",
   "execution_count": null,
   "id": "f7b27cc3-9a4c-4d97-8143-37e89d09aba8",
   "metadata": {},
   "outputs": [],
   "source": []
  }
 ],
 "metadata": {
  "kernelspec": {
   "display_name": "Python 3 (ipykernel)",
   "language": "python",
   "name": "python3"
  },
  "language_info": {
   "codemirror_mode": {
    "name": "ipython",
    "version": 3
   },
   "file_extension": ".py",
   "mimetype": "text/x-python",
   "name": "python",
   "nbconvert_exporter": "python",
   "pygments_lexer": "ipython3",
   "version": "3.10.10"
  }
 },
 "nbformat": 4,
 "nbformat_minor": 5
}
