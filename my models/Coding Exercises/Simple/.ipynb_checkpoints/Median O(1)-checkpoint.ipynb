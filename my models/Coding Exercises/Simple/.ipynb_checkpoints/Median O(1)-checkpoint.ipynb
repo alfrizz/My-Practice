{
 "cells": [
  {
   "cell_type": "markdown",
   "id": "01103252-0a38-4175-bdf5-4aba110c17dd",
   "metadata": {},
   "source": [
    "Median O(1)\n",
    "\n",
    "You’re given a list of sorted integers in which more than 50% of the list is comprised of the same repeating integer.\n",
    "\n",
    "Write a function to return the median value of the list in O(1) computational time and space.\n",
    "\n",
    "Note: the lists are all non-empty\n",
    "\n",
    "Example:\n",
    "\n",
    "Input:\n",
    "\n",
    "li = [1,2,2]\n",
    "\n",
    "Output:\n",
    "\n",
    "median(li) -> 2"
   ]
  },
  {
   "cell_type": "code",
   "execution_count": 15,
   "id": "62ae93ba-e7d2-4a32-b88c-57b077684501",
   "metadata": {},
   "outputs": [],
   "source": [
    "import numpy as np"
   ]
  },
  {
   "cell_type": "code",
   "execution_count": 28,
   "id": "ff5cbb24-24d5-480b-9cea-bb6788bbe9b1",
   "metadata": {},
   "outputs": [
    {
     "data": {
      "text/plain": [
       "(3, 1.6666666666666667, 2.0)"
      ]
     },
     "execution_count": 28,
     "metadata": {},
     "output_type": "execute_result"
    }
   ],
   "source": [
    "li = [1,2,2]\n",
    "len(li), np.mean(li), np.median(li)"
   ]
  },
  {
   "cell_type": "code",
   "execution_count": 24,
   "id": "2f0cca17-85ca-411d-b854-23335a4246cd",
   "metadata": {},
   "outputs": [
    {
     "data": {
      "text/plain": [
       "(13, 19.923076923076923, 33.0)"
      ]
     },
     "execution_count": 24,
     "metadata": {},
     "output_type": "execute_result"
    }
   ],
   "source": [
    "li = [1,3,4,5,6,9,33,33,33,33,33,33,33]\n",
    "\n",
    "len(li), np.mean(li), np.median(li)"
   ]
  },
  {
   "cell_type": "code",
   "execution_count": 26,
   "id": "b559d541-1a07-449c-b5e3-5912bc19b15d",
   "metadata": {},
   "outputs": [
    {
     "data": {
      "text/plain": [
       "(15, 15.933333333333334, 1.0)"
      ]
     },
     "execution_count": 26,
     "metadata": {},
     "output_type": "execute_result"
    }
   ],
   "source": [
    "li = [1,1,1,1,1,1,1,1,33,33,33,33,33,33,33]\n",
    "\n",
    "len(li), np.mean(li), np.median(li)"
   ]
  },
  {
   "cell_type": "markdown",
   "id": "068e3a44-e41b-4730-96cc-4cc1c1ef48b6",
   "metadata": {},
   "source": [
    "If more than 50% of the list is comprised of the same repeating integer, than the median is this same integer, because the central number of the list will be this integer. Besides, under these conditions, the length of the list must be a odd number."
   ]
  },
  {
   "cell_type": "code",
   "execution_count": 23,
   "id": "a83f3d01-5f54-48d0-89fd-f791382b6872",
   "metadata": {},
   "outputs": [],
   "source": [
    "def medianO1(li):\n",
    "    return li[len(li)//2]\n",
    "\n",
    "# This approach ensures O(1) computational time and space because it directly accesses the middle element \n",
    "# without iterating through the list or using additional memory."
   ]
  },
  {
   "cell_type": "code",
   "execution_count": 29,
   "id": "38cdcaf0-9ba9-4e9d-81ed-59833c94967e",
   "metadata": {},
   "outputs": [
    {
     "data": {
      "text/plain": [
       "2"
      ]
     },
     "execution_count": 29,
     "metadata": {},
     "output_type": "execute_result"
    }
   ],
   "source": [
    "medianO1(li)"
   ]
  }
 ],
 "metadata": {
  "kernelspec": {
   "display_name": "Python 3 (ipykernel)",
   "language": "python",
   "name": "python3"
  },
  "language_info": {
   "codemirror_mode": {
    "name": "ipython",
    "version": 3
   },
   "file_extension": ".py",
   "mimetype": "text/x-python",
   "name": "python",
   "nbconvert_exporter": "python",
   "pygments_lexer": "ipython3",
   "version": "3.10.10"
  }
 },
 "nbformat": 4,
 "nbformat_minor": 5
}
