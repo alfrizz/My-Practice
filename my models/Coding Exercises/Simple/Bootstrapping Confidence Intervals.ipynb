{
 "cells": [
  {
   "cell_type": "markdown",
   "id": "eeba27ee-5ffa-48f5-8209-dffbcda706a5",
   "metadata": {},
   "source": [
    "Bootstrapping Confidence Intervals\n",
    "\n",
    "You are given an array of numerical values, bootstrap samples, and size for a confidence interval.\n",
    "\n",
    "Write a function that performs bootstrap sampling on the given array and calculates the confidence interval based on the given size.\n",
    "\n",
    "Note: The function should return a tuple containing the minimum and maximum values of the confidence interval rounded to the tenths place.\n",
    "\n",
    "Example\n",
    "\n",
    "Input:\n",
    "\n",
    "values = [1, 2, 3, 4, 5]\n",
    "\n",
    "Output\n",
    "\n",
    "bootstrap_conf_interval(values, 1000, 0.95) -> (1.2, 4.8)\n",
    "\n",
    "In this case, the function returns a tuple indicating that we are 95% confident that the population parameter lies between 1.2 and 4.8 based on our bootstrap samples.\n",
    "\n",
    "Note: Results may vary due to the randomness of bootstrap sampling."
   ]
  },
  {
   "cell_type": "code",
   "execution_count": 6,
   "id": "40cd01cd-bfd0-462c-8a90-10e485960ba6",
   "metadata": {},
   "outputs": [],
   "source": [
    "import random\n",
    "import numpy as np"
   ]
  },
  {
   "cell_type": "code",
   "execution_count": 30,
   "id": "c10242f8-0164-4aa9-83ec-f82b71addc4c",
   "metadata": {},
   "outputs": [],
   "source": [
    "def bootstrap_conf_interval(data, num_samples, conf_interval):\n",
    "    lower_quantile = (1 - conf_interval) / 2\n",
    "    upper_quantile = 1 - lower_quantile\n",
    "    bootstrap_samples = []\n",
    "    for _ in range(num_samples):\n",
    "        bootstrap_sample = []\n",
    "        for _ in range(len(data)):\n",
    "            bootstrap_sample.append(random.choice(data))\n",
    "        bootstrap_samples.append(bootstrap_sample)\n",
    "    bootstrap_means = np.mean(bootstrap_samples, axis=1)\n",
    "    return np.quantile(bootstrap_means, [lower_quantile, upper_quantile])\n",
    "        "
   ]
  },
  {
   "cell_type": "code",
   "execution_count": 31,
   "id": "767b7623-4cf5-4227-92a7-858d8f5fe732",
   "metadata": {},
   "outputs": [
    {
     "data": {
      "text/plain": [
       "array([1.8, 4.2])"
      ]
     },
     "execution_count": 31,
     "metadata": {},
     "output_type": "execute_result"
    }
   ],
   "source": [
    "values = [1, 2, 3, 4, 5]\n",
    "\n",
    "bootstrap_conf_interval(values, 1000, 0.95)"
   ]
  },
  {
   "cell_type": "code",
   "execution_count": 32,
   "id": "c42dcd66-4b1a-49b8-b879-fd3493ff5da0",
   "metadata": {},
   "outputs": [],
   "source": [
    "def bootstrap_conf_interval(data, num_samples, conf_interval):\n",
    "    lower_quantile = (1 - conf_interval) / 2\n",
    "    upper_quantile = 1 - lower_quantile\n",
    "    bootstrap_samples = []\n",
    "    bootstrap_samples = np.random.choice(data, (num_samples, len(data)), replace=True)\n",
    "    bootstrap_means = np.mean(bootstrap_samples, axis=1)\n",
    "    return np.quantile(bootstrap_means, [lower_quantile, upper_quantile])"
   ]
  },
  {
   "cell_type": "code",
   "execution_count": 33,
   "id": "a034ea00-30b5-4dcd-b00a-1a39dace7dc2",
   "metadata": {},
   "outputs": [
    {
     "data": {
      "text/plain": [
       "array([1.8, 4.2])"
      ]
     },
     "execution_count": 33,
     "metadata": {},
     "output_type": "execute_result"
    }
   ],
   "source": [
    "values = [1, 2, 3, 4, 5]\n",
    "\n",
    "bootstrap_conf_interval(values, 1000, 0.95)"
   ]
  },
  {
   "cell_type": "code",
   "execution_count": null,
   "id": "891a9886-13de-49d0-8e25-e553d0d3fc5b",
   "metadata": {},
   "outputs": [],
   "source": []
  },
  {
   "cell_type": "code",
   "execution_count": null,
   "id": "0832ff37-cce1-460f-9614-6ad6e0bfa497",
   "metadata": {},
   "outputs": [],
   "source": []
  },
  {
   "cell_type": "code",
   "execution_count": null,
   "id": "c7b890d8-1453-400c-9d37-2d2e74284e56",
   "metadata": {},
   "outputs": [],
   "source": []
  },
  {
   "cell_type": "code",
   "execution_count": null,
   "id": "72cd0a8e-43ee-4ec8-a5ae-a485d27534c6",
   "metadata": {},
   "outputs": [],
   "source": []
  },
  {
   "cell_type": "code",
   "execution_count": null,
   "id": "68e17703-8e83-4dfb-b7ae-026b8212b8f6",
   "metadata": {},
   "outputs": [],
   "source": []
  },
  {
   "cell_type": "code",
   "execution_count": null,
   "id": "3646268f-398e-4f69-a7ce-01d90eabd7a7",
   "metadata": {},
   "outputs": [],
   "source": []
  }
 ],
 "metadata": {
  "kernelspec": {
   "display_name": "Python 3 (ipykernel)",
   "language": "python",
   "name": "python3"
  },
  "language_info": {
   "codemirror_mode": {
    "name": "ipython",
    "version": 3
   },
   "file_extension": ".py",
   "mimetype": "text/x-python",
   "name": "python",
   "nbconvert_exporter": "python",
   "pygments_lexer": "ipython3",
   "version": "3.10.10"
  }
 },
 "nbformat": 4,
 "nbformat_minor": 5
}
