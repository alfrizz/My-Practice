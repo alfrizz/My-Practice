{
 "cells": [
  {
   "cell_type": "markdown",
   "id": "0163b3b6-f86e-4a1c-b72b-65b754c71b75",
   "metadata": {},
   "source": [
    "Minimum Change\n",
    "\n",
    "Write a function find_change to find the minimum number of coins that make up the given amount of change cents. Assume we only have coins of value 1, 5, 10, and 25 cents.\n",
    "\n",
    "Example:\n",
    "\n",
    "Input:\n",
    "\n",
    "cents = 73\n",
    "\n",
    "Output:\n",
    "\n",
    "def find_change(cents) -> 7\n",
    "\n",
    "#(25 + 25 + 10 + 10 + 1 + 1 + 1)"
   ]
  },
  {
   "cell_type": "code",
   "execution_count": 44,
   "id": "e834aa19-9d4b-46a4-bb86-1957c026f5d2",
   "metadata": {},
   "outputs": [],
   "source": [
    "import numpy as np"
   ]
  },
  {
   "cell_type": "code",
   "execution_count": 13,
   "id": "9d1a6a06-3501-403c-bcb2-4fa18cd34e1a",
   "metadata": {},
   "outputs": [],
   "source": [
    "def find_change(cents):\n",
    "    dict_change = {}\n",
    "    dict_change[25] = cents//25\n",
    "    dict_change[10] = cents%25//10\n",
    "    dict_change[5] = cents%25%10//5\n",
    "    dict_change[1] = cents%25%10%5//1\n",
    "    return dict_change"
   ]
  },
  {
   "cell_type": "code",
   "execution_count": 14,
   "id": "7abab3ab-1a24-4d60-9317-4ca787b5a01f",
   "metadata": {},
   "outputs": [
    {
     "data": {
      "text/plain": [
       "{25: 2, 10: 2, 5: 0, 1: 3}"
      ]
     },
     "execution_count": 14,
     "metadata": {},
     "output_type": "execute_result"
    }
   ],
   "source": [
    "find_change(73)"
   ]
  },
  {
   "cell_type": "code",
   "execution_count": 73,
   "id": "197a9c8f-d1a4-4e40-890d-251b63dd1883",
   "metadata": {},
   "outputs": [],
   "source": [
    "def find_change(cents, coins):\n",
    "    dict_change = {}\n",
    "    print(coins)\n",
    "    coins = sorted(coins)[::-1]\n",
    "    print(coins)\n",
    "    for coin in coins:\n",
    "        dict_change[coin] = cents//coin\n",
    "        cents = cents%coin\n",
    "    return dict_change"
   ]
  },
  {
   "cell_type": "code",
   "execution_count": 74,
   "id": "30b36a68-e6b0-4301-829c-da91f93d4e12",
   "metadata": {},
   "outputs": [
    {
     "name": "stdout",
     "output_type": "stream",
     "text": [
      "[25, 5, 1, 10]\n",
      "[25, 10, 5, 1]\n"
     ]
    },
    {
     "data": {
      "text/plain": [
       "{25: 2, 10: 2, 5: 0, 1: 3}"
      ]
     },
     "execution_count": 74,
     "metadata": {},
     "output_type": "execute_result"
    }
   ],
   "source": [
    "find_change(73, [25,5,1,10])"
   ]
  },
  {
   "cell_type": "code",
   "execution_count": null,
   "id": "d3054c97-a5b7-473e-a04d-e242de0333e4",
   "metadata": {},
   "outputs": [],
   "source": [
    "60t = x\n",
    "\n",
    "80(t-1) = 80t - 80 = x\n",
    "\n",
    "80t -80 = 60t\n",
    "20t = 80\n",
    "t = 4\n",
    "\n",
    "\n"
   ]
  },
  {
   "cell_type": "code",
   "execution_count": null,
   "id": "63980e1b-d3b9-4d66-8478-6aeb10e6e8b9",
   "metadata": {},
   "outputs": [],
   "source": []
  },
  {
   "cell_type": "code",
   "execution_count": null,
   "id": "8ace9594-cc13-48ee-8acd-6b17acede119",
   "metadata": {},
   "outputs": [],
   "source": []
  },
  {
   "cell_type": "code",
   "execution_count": null,
   "id": "5247d031-32c5-47b7-8273-ce6f10a0603a",
   "metadata": {},
   "outputs": [],
   "source": []
  },
  {
   "cell_type": "code",
   "execution_count": null,
   "id": "6dfaae9c-5dd8-4081-bd0c-7f141e7b7a0d",
   "metadata": {},
   "outputs": [],
   "source": []
  },
  {
   "cell_type": "code",
   "execution_count": null,
   "id": "5b0c0c3c-dd6a-4422-ad99-64e38c1c0d84",
   "metadata": {},
   "outputs": [],
   "source": []
  }
 ],
 "metadata": {
  "kernelspec": {
   "display_name": "Python 3 (ipykernel)",
   "language": "python",
   "name": "python3"
  },
  "language_info": {
   "codemirror_mode": {
    "name": "ipython",
    "version": 3
   },
   "file_extension": ".py",
   "mimetype": "text/x-python",
   "name": "python",
   "nbconvert_exporter": "python",
   "pygments_lexer": "ipython3",
   "version": "3.10.10"
  }
 },
 "nbformat": 4,
 "nbformat_minor": 5
}
