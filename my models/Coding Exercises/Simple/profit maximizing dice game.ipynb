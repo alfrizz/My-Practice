{
 "cells": [
  {
   "cell_type": "markdown",
   "id": "7702193d-9a70-480f-98bb-3e9939691a8e",
   "metadata": {},
   "source": [
    "Profit-Maximizing Dice Game\n",
    "\n",
    "You’re playing casino dice game. You roll a die once. If you reroll, you earn the amount equal to the number on your second roll otherwise, you earn the amount equal to the number on your first roll.\n",
    "\n",
    "Assuming you adopt a profit-maximizing strategy, what would be the expected amount of money you would win?"
   ]
  },
  {
   "cell_type": "code",
   "execution_count": 4,
   "id": "f2d020e3-35cb-4471-81a4-0a7f9485b52c",
   "metadata": {},
   "outputs": [
    {
     "data": {
      "text/plain": [
       "3.5"
      ]
     },
     "execution_count": 4,
     "metadata": {},
     "output_type": "execute_result"
    }
   ],
   "source": [
    "n_sides = 6\n",
    "\n",
    "# expected value of the first roll\n",
    "first_ev = sum([i+1 for i in range(n_sides)])/n_sides\n",
    "first_ev"
   ]
  },
  {
   "cell_type": "code",
   "execution_count": 15,
   "id": "f1f672ad-956e-47e0-82d6-1dc63b66dcd0",
   "metadata": {},
   "outputs": [
    {
     "data": {
      "text/plain": [
       "5.0"
      ]
     },
     "execution_count": 15,
     "metadata": {},
     "output_type": "execute_result"
    }
   ],
   "source": [
    "# so I re-roll if the current roll is < 3.5 (that's 4)\n",
    "\n",
    "# case 1-2-3: we discard it, and recalculate the expected value for the next roll (3.5) --- it happens in 50% of the cases\n",
    "# case 4-5-6: we keep it, providing a expected value of (4+5+6)/3 = 5 /// it happens also in 50% of the cases\n",
    "\n",
    "second_ev = sum([i+1 if i+1>first_ev else 0 for i in range(n_sides)])/(n_sides/2)\n",
    "second_ev"
   ]
  },
  {
   "cell_type": "code",
   "execution_count": 17,
   "id": "b07b867e-b6d0-47e7-8e59-03f68e6f6f59",
   "metadata": {},
   "outputs": [
    {
     "data": {
      "text/plain": [
       "4.25"
      ]
     },
     "execution_count": 17,
     "metadata": {},
     "output_type": "execute_result"
    }
   ],
   "source": [
    "tot_ev = first_ev*0.5 + second_ev*0.5\n",
    "tot_ev"
   ]
  },
  {
   "cell_type": "code",
   "execution_count": null,
   "id": "89abc276-6b2b-4d7c-81ae-9b55a69e7c90",
   "metadata": {},
   "outputs": [],
   "source": []
  },
  {
   "cell_type": "code",
   "execution_count": null,
   "id": "3c8861e0-b35a-41d4-af45-f448ee7eff23",
   "metadata": {},
   "outputs": [],
   "source": []
  },
  {
   "cell_type": "code",
   "execution_count": null,
   "id": "a18fe0ae-e2ac-4e99-b82c-f626ec6ae582",
   "metadata": {},
   "outputs": [],
   "source": []
  },
  {
   "cell_type": "code",
   "execution_count": null,
   "id": "3ce41a5a-f95a-4e10-b34a-4e1411d9fdf1",
   "metadata": {},
   "outputs": [],
   "source": []
  }
 ],
 "metadata": {
  "kernelspec": {
   "display_name": "Py310",
   "language": "python",
   "name": "py310"
  },
  "language_info": {
   "codemirror_mode": {
    "name": "ipython",
    "version": 3
   },
   "file_extension": ".py",
   "mimetype": "text/x-python",
   "name": "python",
   "nbconvert_exporter": "python",
   "pygments_lexer": "ipython3",
   "version": "3.10.11"
  }
 },
 "nbformat": 4,
 "nbformat_minor": 5
}
