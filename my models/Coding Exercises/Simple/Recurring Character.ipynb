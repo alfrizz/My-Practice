{
 "cells": [
  {
   "cell_type": "markdown",
   "id": "757993fb-c95d-402b-945f-ee1314e6d4dd",
   "metadata": {},
   "source": [
    "Recurring Character\n",
    "\n",
    "Given a string, write a function recurring_char to find its first recurring character. Return None if there is no recurring character.\n",
    "\n",
    "Treat upper and lower case letters as distinct characters.\n",
    "\n",
    "You may assume the input string includes no spaces.\n",
    "\n",
    "Example 1:\n",
    "\n",
    "Input:\n",
    "\n",
    "input = \"interviewquery\"\n",
    "    \n",
    "Output:\n",
    "\n",
    "output = \"i\"\n",
    "    \n",
    "Example 2:\n",
    "\n",
    "Input:\n",
    "\n",
    "input = \"interv\"\n",
    "    \n",
    "Output:\n",
    "\n",
    "output = None"
   ]
  },
  {
   "cell_type": "code",
   "execution_count": 22,
   "id": "3a124c6b-36ed-41b7-8a55-3b8514bf404c",
   "metadata": {},
   "outputs": [],
   "source": [
    "def recurring_char(input):\n",
    "    for i, char in enumerate(input):\n",
    "        print(i,char)\n",
    "        if char in input[i+1:]:\n",
    "            return char\n",
    "    return None"
   ]
  },
  {
   "cell_type": "code",
   "execution_count": 23,
   "id": "a65633bf-3181-4ed7-9073-96d16d27724e",
   "metadata": {},
   "outputs": [
    {
     "name": "stdout",
     "output_type": "stream",
     "text": [
      "0 i\n"
     ]
    },
    {
     "data": {
      "text/plain": [
       "'i'"
      ]
     },
     "execution_count": 23,
     "metadata": {},
     "output_type": "execute_result"
    }
   ],
   "source": [
    "input = \"interviewquery\"\n",
    "recurring_char(input)"
   ]
  },
  {
   "cell_type": "code",
   "execution_count": 24,
   "id": "85baa983-609e-4772-a52d-af74caa380a0",
   "metadata": {},
   "outputs": [
    {
     "name": "stdout",
     "output_type": "stream",
     "text": [
      "0 i\n",
      "1 n\n",
      "2 t\n",
      "3 e\n",
      "4 r\n",
      "5 v\n"
     ]
    }
   ],
   "source": [
    "input = \"interv\"\n",
    "recurring_char(input)"
   ]
  },
  {
   "cell_type": "code",
   "execution_count": 28,
   "id": "cc0cf295-a4d7-4816-abc3-e660ee4f0b6a",
   "metadata": {},
   "outputs": [
    {
     "name": "stdout",
     "output_type": "stream",
     "text": [
      "0 a\n",
      "1 b\n",
      "2 c\n",
      "3 d\n",
      "4 e\n",
      "5 A\n",
      "6 B\n",
      "7 C\n",
      "8 D\n",
      "9 E\n",
      "10 f\n",
      "11 g\n",
      "12 h\n",
      "13 i\n"
     ]
    },
    {
     "data": {
      "text/plain": [
       "'i'"
      ]
     },
     "execution_count": 28,
     "metadata": {},
     "output_type": "execute_result"
    }
   ],
   "source": [
    "input = \"abcdeABCDEfghili\"\n",
    "recurring_char(input)"
   ]
  },
  {
   "cell_type": "code",
   "execution_count": null,
   "id": "05cc976a-a38f-4126-b373-550cb2301248",
   "metadata": {},
   "outputs": [],
   "source": []
  }
 ],
 "metadata": {
  "kernelspec": {
   "display_name": "Python 3 (ipykernel)",
   "language": "python",
   "name": "python3"
  },
  "language_info": {
   "codemirror_mode": {
    "name": "ipython",
    "version": 3
   },
   "file_extension": ".py",
   "mimetype": "text/x-python",
   "name": "python",
   "nbconvert_exporter": "python",
   "pygments_lexer": "ipython3",
   "version": "3.10.10"
  }
 },
 "nbformat": 4,
 "nbformat_minor": 5
}
