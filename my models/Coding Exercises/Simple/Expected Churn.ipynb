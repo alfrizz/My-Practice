{
 "cells": [
  {
   "cell_type": "markdown",
   "id": "310306ed-0a42-4d02-a1a8-f1363268d647",
   "metadata": {},
   "source": [
    "Expected Churn\n",
    "\n",
    "Let’s say you’re trying to calculate churn for a subscription product.\n",
    "\n",
    "You noticed that of all customers that bought subscriptions in January 2020, about 10% of them canceled their membership before their next cycle on February 1st.  \n",
    "\n",
    "If you assume that your new customer acquisition is uniform throughout each month and that customer churn goes down by 20% month over month, what’s the expected churn rate in March for all customers that bought the product since January 1st?"
   ]
  },
  {
   "cell_type": "code",
   "execution_count": 18,
   "id": "b858626f-4652-4f3d-9c15-0957dd206e83",
   "metadata": {},
   "outputs": [],
   "source": [
    "def expected_churn(initial_churn_rate, monthly_churn_decrease, initial_customers, monthly_customers_acquired):\n",
    "\n",
    "    churn_rates = [initial_churn_rate]\n",
    "    customers_numbers = [initial_customers]\n",
    "    \n",
    "    for _ in range(11):\n",
    "\n",
    "        customers_number = customers_numbers[-1] - customers_numbers[-1]*churn_rates[-1] + monthly_customers_acquired\n",
    "        customers_numbers.append(int(customers_number))\n",
    "        \n",
    "        churn_rate = churn_rates[-1] - churn_rates[-1]*monthly_churn_decrease\n",
    "        churn_rates.append(round(churn_rate,3))\n",
    "        \n",
    "    return [(cn,cr) for cn,cr in zip(customers_numbers, churn_rates)]\n",
    "    "
   ]
  },
  {
   "cell_type": "code",
   "execution_count": 19,
   "id": "feec3831-f96c-4ba9-818b-7d3ab2ad2719",
   "metadata": {},
   "outputs": [
    {
     "data": {
      "text/plain": [
       "[(1000, 0.1),\n",
       " (950, 0.08),\n",
       " (924, 0.064),\n",
       " (914, 0.051),\n",
       " (917, 0.041),\n",
       " (929, 0.033),\n",
       " (948, 0.026),\n",
       " (973, 0.021),\n",
       " (1002, 0.017),\n",
       " (1034, 0.014),\n",
       " (1069, 0.011),\n",
       " (1107, 0.009)]"
      ]
     },
     "execution_count": 19,
     "metadata": {},
     "output_type": "execute_result"
    }
   ],
   "source": [
    "expected_churn(0.1, 0.2, 1000, 50)"
   ]
  },
  {
   "cell_type": "code",
   "execution_count": null,
   "id": "0c54a3ac-9566-4295-9bb0-aa4ffdf4ef2a",
   "metadata": {},
   "outputs": [],
   "source": []
  },
  {
   "cell_type": "code",
   "execution_count": null,
   "id": "56e23221-d2ef-4ffe-9aa8-c49bd521f13a",
   "metadata": {},
   "outputs": [],
   "source": []
  },
  {
   "cell_type": "code",
   "execution_count": null,
   "id": "4025ffca-1cf9-4141-a622-60212f603f13",
   "metadata": {},
   "outputs": [],
   "source": []
  },
  {
   "cell_type": "code",
   "execution_count": null,
   "id": "70b3e305-5eca-4148-b073-9d1ec0d1ffc0",
   "metadata": {},
   "outputs": [],
   "source": []
  }
 ],
 "metadata": {
  "kernelspec": {
   "display_name": "Python 3 (ipykernel)",
   "language": "python",
   "name": "python3"
  },
  "language_info": {
   "codemirror_mode": {
    "name": "ipython",
    "version": 3
   },
   "file_extension": ".py",
   "mimetype": "text/x-python",
   "name": "python",
   "nbconvert_exporter": "python",
   "pygments_lexer": "ipython3",
   "version": "3.10.10"
  }
 },
 "nbformat": 4,
 "nbformat_minor": 5
}
