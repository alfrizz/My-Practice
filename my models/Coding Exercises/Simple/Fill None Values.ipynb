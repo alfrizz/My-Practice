{
 "cells": [
  {
   "cell_type": "markdown",
   "id": "5b484e30-8e26-41c1-b96d-c3cba7484be5",
   "metadata": {},
   "source": [
    "Given a sorted list of positive integers with some entries being None, write a function to return a new list where all None values are replaced with the most recent non-None value in the list.\n",
    "\n",
    "Note: If the first entry in the list is None, assume the previous entry was 0.\n",
    "\n",
    "Example:\n",
    "\n",
    "Input:\n",
    "\n",
    "input_list = [1,2,None,None,4,5,None]\n",
    "\n",
    "Output:\n",
    "\n",
    "def fill_none(input_list) -> [1,2,2,2,4,5,5]"
   ]
  },
  {
   "cell_type": "code",
   "execution_count": 17,
   "id": "810a004a-8149-4d91-b5dc-0dcf168b0e87",
   "metadata": {},
   "outputs": [],
   "source": [
    "def fill_none(input_list):\n",
    "    last_int = 0\n",
    "    for i, elem in enumerate(input_list):\n",
    "        if elem is None:\n",
    "            input_list[i] = last_int\n",
    "        else:\n",
    "            last_int = elem\n",
    "    return input_list"
   ]
  },
  {
   "cell_type": "code",
   "execution_count": 18,
   "id": "d0ae8208-06fd-4419-95b2-3d4ef454e456",
   "metadata": {},
   "outputs": [],
   "source": [
    "input_list = [1,2,None,None,4,5,None]"
   ]
  },
  {
   "cell_type": "code",
   "execution_count": 19,
   "id": "a48e0b4d-dc1f-4050-85eb-046f95e0aed4",
   "metadata": {},
   "outputs": [
    {
     "data": {
      "text/plain": [
       "[1, 2, 2, 2, 4, 5, 5]"
      ]
     },
     "execution_count": 19,
     "metadata": {},
     "output_type": "execute_result"
    }
   ],
   "source": [
    "fill_none(input_list)"
   ]
  },
  {
   "cell_type": "code",
   "execution_count": null,
   "id": "fe1adee2-9cb6-4778-a425-f3a4650abdd6",
   "metadata": {},
   "outputs": [],
   "source": []
  },
  {
   "cell_type": "code",
   "execution_count": null,
   "id": "1c112874-a823-4306-ad80-4e6fade931f7",
   "metadata": {},
   "outputs": [],
   "source": []
  },
  {
   "cell_type": "code",
   "execution_count": null,
   "id": "820b6432-0f54-4671-8824-c88fe01b5a11",
   "metadata": {},
   "outputs": [],
   "source": []
  }
 ],
 "metadata": {
  "kernelspec": {
   "display_name": "Py310",
   "language": "python",
   "name": "py310"
  },
  "language_info": {
   "codemirror_mode": {
    "name": "ipython",
    "version": 3
   },
   "file_extension": ".py",
   "mimetype": "text/x-python",
   "name": "python",
   "nbconvert_exporter": "python",
   "pygments_lexer": "ipython3",
   "version": "3.10.11"
  }
 },
 "nbformat": 4,
 "nbformat_minor": 5
}
