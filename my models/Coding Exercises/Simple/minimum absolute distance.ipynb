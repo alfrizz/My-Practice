{
 "cells": [
  {
   "cell_type": "markdown",
   "id": "18945d04-7bfa-4937-8a77-684d617a97e1",
   "metadata": {},
   "source": [
    "Given an array of integers, write a function min_distance to calculate the minimum absolute distance between two elements then return all pairs having that absolute difference.\n",
    "\n",
    "Note: Make sure to return the pairs in ascending order.\n",
    "\n",
    "Example:\n",
    "\n",
    "Input:\n",
    "\n",
    "v = [3, 12, 126, 44, 52, 57, 144, 61, 68, 72, 122]\n",
    "\n",
    "Output:\n",
    "\n",
    "def min_distance(V) ->\n",
    "\n",
    "min = 4\n",
    "\n",
    "[[57, 61], [68, 72], [122, 126]]"
   ]
  },
  {
   "cell_type": "code",
   "execution_count": 10,
   "id": "43333055-879d-4080-9535-7fe34afcc4ef",
   "metadata": {},
   "outputs": [],
   "source": [
    "def min_distance(V):\n",
    "    sorted_V = sorted(V)\n",
    "    dist = [sorted_V[i] - sorted_V[i-1] for i in range(1, len(V))]\n",
    "    min_dist = min(dist)\n",
    "    return min_dist, [(sorted_V[i], sorted_V[i+1]) for i in range(len(dist)) if dist[i] == min_dist]"
   ]
  },
  {
   "cell_type": "code",
   "execution_count": 12,
   "id": "27c6a71c-ab21-43ac-9ee4-276291e04503",
   "metadata": {},
   "outputs": [
    {
     "data": {
      "text/plain": [
       "(1, [(125, 126)])"
      ]
     },
     "execution_count": 12,
     "metadata": {},
     "output_type": "execute_result"
    }
   ],
   "source": [
    "V = [3, 12, 126, 44, 52, 57, 144, 61, 68, 72, 122]\n",
    "V = [3, 12, 126, 44, 52, 57, 144, 61, 68, 72, 122, 125]\n",
    "\n",
    "min_distance(V)"
   ]
  },
  {
   "cell_type": "code",
   "execution_count": null,
   "id": "8db3ea65-c6cf-40e1-be7e-93e90d7ded27",
   "metadata": {},
   "outputs": [],
   "source": []
  },
  {
   "cell_type": "code",
   "execution_count": null,
   "id": "8737ebb9-ac9d-434f-9593-ab118488cf3a",
   "metadata": {},
   "outputs": [],
   "source": []
  },
  {
   "cell_type": "code",
   "execution_count": null,
   "id": "c97a3b75-8375-464d-a395-202b7352edc2",
   "metadata": {},
   "outputs": [],
   "source": []
  },
  {
   "cell_type": "code",
   "execution_count": null,
   "id": "e5a63165-f063-4db4-915f-c9b616528399",
   "metadata": {},
   "outputs": [],
   "source": []
  }
 ],
 "metadata": {
  "kernelspec": {
   "display_name": "Py310",
   "language": "python",
   "name": "py310"
  },
  "language_info": {
   "codemirror_mode": {
    "name": "ipython",
    "version": 3
   },
   "file_extension": ".py",
   "mimetype": "text/x-python",
   "name": "python",
   "nbconvert_exporter": "python",
   "pygments_lexer": "ipython3",
   "version": "3.10.11"
  }
 },
 "nbformat": 4,
 "nbformat_minor": 5
}
