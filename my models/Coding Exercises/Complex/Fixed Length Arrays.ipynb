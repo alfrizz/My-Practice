{
 "cells": [
  {
   "cell_type": "markdown",
   "id": "83266f48-13df-4699-bd6a-376d2a820a9a",
   "metadata": {},
   "source": [
    "Create an Array class simulating the functionality of fixed-size arrays.The Array class should have the following methods:\n",
    "\n",
    "__len__(): Returns the length of the array. For example, if the array is [1, 2, None, None, None, None, None], __len__() will return 2.\n",
    "\n",
    "__getitem__(index): Returns the element at the specified index. Raises an IndexError when the index is out of range.\n",
    "\n",
    "emplace_back(element): Places an element at the back of the array. Raises an ArrayFull exception when the array is full \n",
    "\n",
    "emplace_front(element): Places an element at the front of the array. Raises an ArrayFull exception when the array is full \n",
    "\n",
    "emplace(element, index): Places an element at the specified index. Raises an ArrayFull exception when the array is full \n",
    "\n",
    "pop_back() -> element - removes the last element of the array. Returns the removed element. If the array is empty, return None.\n",
    "\n",
    "pop_front() -> element - removes the first element of the array. Returns the removed element. If the array is empty, return None.\n",
    "\n",
    "pop(index) -> element - removes the element at the specified index and returns it. When the index is not in range, raise an IndexError.\n",
    "\n",
    "__contains__(element) -> bool - checks if the element exists inside the array. Returns True if it exists and False if it does not.\n",
    "\n",
    "search(element) -> index - searches for the specified element and returns the index of the first instance if it exists inside the array. Returns -1 if the element does not exist inside the array. Example: Array([1, 2, 3]).search(2) -> 1.\n",
    "\n",
    "abolish(element) -> count - removes all instances of an element and returns the count of all removed instances.\n",
    "\n",
    "__eq__(other) -> bool - checks the equality of the array with another array called other. Raises a TypeError if other is not an instance of this custom Array class."
   ]
  },
  {
   "cell_type": "code",
   "execution_count": 1,
   "id": "628a62a4-3783-4482-b549-100d059cdc0d",
   "metadata": {},
   "outputs": [],
   "source": [
    "class Array:\n",
    "\n",
    "    def __init__(self, length=7):\n",
    "        self._count = 0\n",
    "        self._array = [None]*length\n",
    "        self._MAX_CAPACITY = len(self._array)\n",
    "        \n",
    "    def __len__(self):\n",
    "        return self._count\n",
    "    \n",
    "    def __getitem__(self, index):\n",
    "        return self._array[index]\n",
    "    \n",
    "    def emplace_back(self, element):\n",
    "        if self._count < self._MAX_CAPACITY:\n",
    "            none_index = self._array.index(None)\n",
    "            self._array.pop(none_index)\n",
    "            self._array = self._array + [element]\n",
    "            self._count += 1\n",
    "        else:\n",
    "            raise Exception('Array is full')\n",
    "            \n",
    "    def emplace_front(self, element):\n",
    "        if self._count < self._MAX_CAPACITY:\n",
    "            none_index = self._array.index(None)\n",
    "            self._array.pop(none_index)\n",
    "            self._array = [element] + self._array \n",
    "            self._count += 1\n",
    "        else:\n",
    "            raise Exception('Array is full')\n",
    "            \n",
    "    def emplace(self, element, index):\n",
    "        if self._count < self._MAX_CAPACITY:\n",
    "            if self._array[index] == None:\n",
    "                self._array[index] = element\n",
    "                self._count += 1\n",
    "            else:\n",
    "                self._array[index] = element\n",
    "        else:\n",
    "            raise Exception('Array is full')\n",
    "            \n",
    "    def pop_back(self):\n",
    "        to_return = self._array[-1]\n",
    "        self._array.pop(-1)\n",
    "        self._count -= 1\n",
    "        return to_return\n",
    "    \n",
    "    def pop_front(self):\n",
    "        to_return = self._array[0]\n",
    "        self._array.pop(0)\n",
    "        self._count -= 1\n",
    "        return to_return\n",
    "    \n",
    "    def pop(self, index):\n",
    "        if self._array[index] != None:\n",
    "            to_return = self._array[index]\n",
    "            self._array.pop(index)\n",
    "            self._count -= 1\n",
    "            return to_return\n",
    "        else:\n",
    "            raise Exception('Position is empty')\n",
    "            \n",
    "    def __contains__(self, element):\n",
    "        if element in self._array:\n",
    "            return True\n",
    "        else:\n",
    "            return False\n",
    "            \n",
    "    def search(self, element):\n",
    "        if self.__contains__(element):\n",
    "            return self._array.index(element)\n",
    "        else:\n",
    "            return -1\n",
    "        \n",
    "    def abolish(self, element):\n",
    "        found_instances = 0\n",
    "        while True:\n",
    "            index = self.search(element)\n",
    "            if index == -1:\n",
    "                break\n",
    "            self.pop(index)\n",
    "            found_instances += 1\n",
    "            self._count -= 1\n",
    "        return found_instances\n",
    "    \n",
    "    def __eq__(self, other):\n",
    "        if isinstance(other, Array):\n",
    "            return True\n",
    "        else:\n",
    "            raise TypeError('The object is not an instance of the Class Array')\n",
    "        \n",
    "        \n",
    "    "
   ]
  },
  {
   "cell_type": "code",
   "execution_count": 2,
   "id": "eb85dcb1-e281-4ee7-bbbb-9a37734f0464",
   "metadata": {},
   "outputs": [],
   "source": [
    "array_alf = Array(10)"
   ]
  },
  {
   "cell_type": "code",
   "execution_count": 3,
   "id": "7ee3162e-d322-45e2-9419-cd880f4b92ea",
   "metadata": {},
   "outputs": [
    {
     "data": {
      "text/plain": [
       "[None, None, None, None, None, None, None, None, None, 'X']"
      ]
     },
     "execution_count": 3,
     "metadata": {},
     "output_type": "execute_result"
    }
   ],
   "source": [
    "array_alf.emplace_back('X')\n",
    "array_alf._array"
   ]
  },
  {
   "cell_type": "code",
   "execution_count": 4,
   "id": "4ecd7ad9-62e1-43d4-ba9c-1d01ff4109ae",
   "metadata": {},
   "outputs": [
    {
     "data": {
      "text/plain": [
       "[None, None, None, None, None, None, None, None, 'X', 'X']"
      ]
     },
     "execution_count": 4,
     "metadata": {},
     "output_type": "execute_result"
    }
   ],
   "source": [
    "array_alf.emplace_back('X')\n",
    "array_alf._array"
   ]
  },
  {
   "cell_type": "code",
   "execution_count": 5,
   "id": "9a907d4e-d5bd-40e4-9ca5-59ba30107a33",
   "metadata": {},
   "outputs": [
    {
     "data": {
      "text/plain": [
       "[None, None, None, None, None, None, None, 'X', 'X', 'X']"
      ]
     },
     "execution_count": 5,
     "metadata": {},
     "output_type": "execute_result"
    }
   ],
   "source": [
    "array_alf.emplace_back('X')\n",
    "array_alf._array"
   ]
  },
  {
   "cell_type": "code",
   "execution_count": 6,
   "id": "3c13253e-f3ab-45ef-b877-6fcdfbc8c682",
   "metadata": {},
   "outputs": [
    {
     "data": {
      "text/plain": [
       "[None, None, None, None, None, None, 'X', 'X', 'X', 'X']"
      ]
     },
     "execution_count": 6,
     "metadata": {},
     "output_type": "execute_result"
    }
   ],
   "source": [
    "array_alf.emplace_back('X')\n",
    "array_alf._array"
   ]
  },
  {
   "cell_type": "code",
   "execution_count": 7,
   "id": "800e12af-b277-4152-aa49-d5be560014f0",
   "metadata": {},
   "outputs": [
    {
     "data": {
      "text/plain": [
       "['Y', None, None, None, None, None, 'X', 'X', 'X', 'X']"
      ]
     },
     "execution_count": 7,
     "metadata": {},
     "output_type": "execute_result"
    }
   ],
   "source": [
    "array_alf.emplace_front('Y')\n",
    "array_alf._array"
   ]
  },
  {
   "cell_type": "code",
   "execution_count": 8,
   "id": "e15854c3-b573-42b9-83ae-e684ae1d2b2d",
   "metadata": {},
   "outputs": [
    {
     "data": {
      "text/plain": [
       "['Y', 'Y', None, None, None, None, 'X', 'X', 'X', 'X']"
      ]
     },
     "execution_count": 8,
     "metadata": {},
     "output_type": "execute_result"
    }
   ],
   "source": [
    "array_alf.emplace_front('Y')\n",
    "array_alf._array"
   ]
  },
  {
   "cell_type": "code",
   "execution_count": 9,
   "id": "418a6cf8-adc6-45dc-9f4d-fcccec220751",
   "metadata": {},
   "outputs": [
    {
     "data": {
      "text/plain": [
       "['Y', 'Y', None, 'Z', None, None, 'X', 'X', 'X', 'X']"
      ]
     },
     "execution_count": 9,
     "metadata": {},
     "output_type": "execute_result"
    }
   ],
   "source": [
    "array_alf.emplace('Z', 3)\n",
    "array_alf._array"
   ]
  },
  {
   "cell_type": "code",
   "execution_count": 10,
   "id": "99c00dec-e43e-4ea6-9c94-afbe32eb3a14",
   "metadata": {},
   "outputs": [
    {
     "data": {
      "text/plain": [
       "['Y', 'Y', None, 'Z', 'Z', None, 'X', 'X', 'X', 'X']"
      ]
     },
     "execution_count": 10,
     "metadata": {},
     "output_type": "execute_result"
    }
   ],
   "source": [
    "array_alf.emplace('Z', 4)\n",
    "array_alf._array"
   ]
  },
  {
   "cell_type": "code",
   "execution_count": 11,
   "id": "91ef9335-0913-4435-bd54-383f185d04ce",
   "metadata": {},
   "outputs": [
    {
     "data": {
      "text/plain": [
       "8"
      ]
     },
     "execution_count": 11,
     "metadata": {},
     "output_type": "execute_result"
    }
   ],
   "source": [
    "array_alf.__len__()"
   ]
  },
  {
   "cell_type": "code",
   "execution_count": 12,
   "id": "9244d8c0-29f6-41ff-8542-fa0fcb7fcf97",
   "metadata": {},
   "outputs": [],
   "source": [
    "array_alf.__getitem__(2)"
   ]
  },
  {
   "cell_type": "code",
   "execution_count": 13,
   "id": "5c839c70-30ea-4493-9566-c4514e17cc0d",
   "metadata": {},
   "outputs": [
    {
     "data": {
      "text/plain": [
       "'X'"
      ]
     },
     "execution_count": 13,
     "metadata": {},
     "output_type": "execute_result"
    }
   ],
   "source": [
    "array_alf.pop_back()"
   ]
  },
  {
   "cell_type": "code",
   "execution_count": 14,
   "id": "56991fc9-19a2-4375-b160-1ecd2e57b555",
   "metadata": {},
   "outputs": [
    {
     "data": {
      "text/plain": [
       "['Y', 'Y', None, 'Z', 'Z', None, 'X', 'X', 'X']"
      ]
     },
     "execution_count": 14,
     "metadata": {},
     "output_type": "execute_result"
    }
   ],
   "source": [
    "array_alf._array"
   ]
  },
  {
   "cell_type": "code",
   "execution_count": 15,
   "id": "1b1e76a2-5e62-46b3-a792-904f91537141",
   "metadata": {},
   "outputs": [
    {
     "data": {
      "text/plain": [
       "'Y'"
      ]
     },
     "execution_count": 15,
     "metadata": {},
     "output_type": "execute_result"
    }
   ],
   "source": [
    "array_alf.pop_front()"
   ]
  },
  {
   "cell_type": "code",
   "execution_count": 16,
   "id": "627cbcb8-1aae-4c1b-b17f-361c65dc2c35",
   "metadata": {},
   "outputs": [
    {
     "data": {
      "text/plain": [
       "['Y', None, 'Z', 'Z', None, 'X', 'X', 'X']"
      ]
     },
     "execution_count": 16,
     "metadata": {},
     "output_type": "execute_result"
    }
   ],
   "source": [
    "array_alf._array"
   ]
  },
  {
   "cell_type": "code",
   "execution_count": 17,
   "id": "3c98d97e-9559-44f1-a241-1d85649cfe35",
   "metadata": {},
   "outputs": [
    {
     "data": {
      "text/plain": [
       "'Z'"
      ]
     },
     "execution_count": 17,
     "metadata": {},
     "output_type": "execute_result"
    }
   ],
   "source": [
    "array_alf.pop(2)"
   ]
  },
  {
   "cell_type": "code",
   "execution_count": 18,
   "id": "eb678228-ef0e-4861-99a4-6b44921965af",
   "metadata": {},
   "outputs": [
    {
     "data": {
      "text/plain": [
       "['Y', None, 'Z', None, 'X', 'X', 'X']"
      ]
     },
     "execution_count": 18,
     "metadata": {},
     "output_type": "execute_result"
    }
   ],
   "source": [
    "array_alf._array"
   ]
  },
  {
   "cell_type": "code",
   "execution_count": 19,
   "id": "99ea1f56-1061-4055-89a9-4b236f591ddb",
   "metadata": {},
   "outputs": [
    {
     "data": {
      "text/plain": [
       "False"
      ]
     },
     "execution_count": 19,
     "metadata": {},
     "output_type": "execute_result"
    }
   ],
   "source": [
    "array_alf.__contains__('G')"
   ]
  },
  {
   "cell_type": "code",
   "execution_count": 20,
   "id": "7088b557-e1df-40e6-83b0-20642259adfd",
   "metadata": {},
   "outputs": [
    {
     "data": {
      "text/plain": [
       "-1"
      ]
     },
     "execution_count": 20,
     "metadata": {},
     "output_type": "execute_result"
    }
   ],
   "source": [
    "array_alf.search('G')"
   ]
  },
  {
   "cell_type": "code",
   "execution_count": 21,
   "id": "7826a6c8-b947-46fe-ae8f-5ea6da745f0e",
   "metadata": {},
   "outputs": [
    {
     "data": {
      "text/plain": [
       "True"
      ]
     },
     "execution_count": 21,
     "metadata": {},
     "output_type": "execute_result"
    }
   ],
   "source": [
    "array_alf.__contains__('X')"
   ]
  },
  {
   "cell_type": "code",
   "execution_count": 22,
   "id": "8435d40a-2a15-49a2-9460-bf9665a243af",
   "metadata": {},
   "outputs": [
    {
     "data": {
      "text/plain": [
       "4"
      ]
     },
     "execution_count": 22,
     "metadata": {},
     "output_type": "execute_result"
    }
   ],
   "source": [
    "array_alf.search('X')"
   ]
  },
  {
   "cell_type": "code",
   "execution_count": 23,
   "id": "26f5774c-ec06-44f6-bf87-1048696f28e0",
   "metadata": {},
   "outputs": [
    {
     "data": {
      "text/plain": [
       "3"
      ]
     },
     "execution_count": 23,
     "metadata": {},
     "output_type": "execute_result"
    }
   ],
   "source": [
    "array_alf.abolish('X')"
   ]
  },
  {
   "cell_type": "code",
   "execution_count": 24,
   "id": "4f58f267-3431-4c18-93b2-1b943e900de2",
   "metadata": {},
   "outputs": [
    {
     "data": {
      "text/plain": [
       "['Y', None, 'Z', None]"
      ]
     },
     "execution_count": 24,
     "metadata": {},
     "output_type": "execute_result"
    }
   ],
   "source": [
    "array_alf._array"
   ]
  },
  {
   "cell_type": "code",
   "execution_count": 25,
   "id": "64c23365-730b-4567-846b-0794d41328b4",
   "metadata": {},
   "outputs": [],
   "source": [
    "array_alf_bis = Array(3)"
   ]
  },
  {
   "cell_type": "code",
   "execution_count": 26,
   "id": "f12ee845-1090-41bb-9a63-6869234125bf",
   "metadata": {},
   "outputs": [
    {
     "data": {
      "text/plain": [
       "True"
      ]
     },
     "execution_count": 26,
     "metadata": {},
     "output_type": "execute_result"
    }
   ],
   "source": [
    "array_alf.__eq__(array_alf_bis)"
   ]
  },
  {
   "cell_type": "code",
   "execution_count": 27,
   "id": "fb4ab533-6e85-4b0b-ab33-f4da6908bab0",
   "metadata": {},
   "outputs": [],
   "source": [
    "list_alf = ['X','Y','Z']"
   ]
  },
  {
   "cell_type": "code",
   "execution_count": 28,
   "id": "cfac1f2f-eac6-4742-bfb4-0c3741c3b6da",
   "metadata": {},
   "outputs": [
    {
     "ename": "TypeError",
     "evalue": "The object is not an instance of the Class Array",
     "output_type": "error",
     "traceback": [
      "\u001b[1;31m---------------------------------------------------------------------------\u001b[0m",
      "\u001b[1;31mTypeError\u001b[0m                                 Traceback (most recent call last)",
      "Cell \u001b[1;32mIn[28], line 1\u001b[0m\n\u001b[1;32m----> 1\u001b[0m \u001b[43marray_alf\u001b[49m\u001b[38;5;241;43m.\u001b[39;49m\u001b[38;5;21;43m__eq__\u001b[39;49m\u001b[43m(\u001b[49m\u001b[43mlist_alf\u001b[49m\u001b[43m)\u001b[49m\n",
      "Cell \u001b[1;32mIn[1], line 90\u001b[0m, in \u001b[0;36mArray.__eq__\u001b[1;34m(self, other)\u001b[0m\n\u001b[0;32m     88\u001b[0m     \u001b[38;5;28;01mreturn\u001b[39;00m \u001b[38;5;28;01mTrue\u001b[39;00m\n\u001b[0;32m     89\u001b[0m \u001b[38;5;28;01melse\u001b[39;00m:\n\u001b[1;32m---> 90\u001b[0m     \u001b[38;5;28;01mraise\u001b[39;00m \u001b[38;5;167;01mTypeError\u001b[39;00m(\u001b[38;5;124m'\u001b[39m\u001b[38;5;124mThe object is not an instance of the Class Array\u001b[39m\u001b[38;5;124m'\u001b[39m)\n",
      "\u001b[1;31mTypeError\u001b[0m: The object is not an instance of the Class Array"
     ]
    }
   ],
   "source": [
    "array_alf.__eq__(list_alf)"
   ]
  },
  {
   "cell_type": "code",
   "execution_count": null,
   "id": "55c75fc8-6bd2-4c45-b07b-46dba0c80184",
   "metadata": {},
   "outputs": [],
   "source": []
  }
 ],
 "metadata": {
  "kernelspec": {
   "display_name": "Python 3 (ipykernel)",
   "language": "python",
   "name": "python3"
  },
  "language_info": {
   "codemirror_mode": {
    "name": "ipython",
    "version": 3
   },
   "file_extension": ".py",
   "mimetype": "text/x-python",
   "name": "python",
   "nbconvert_exporter": "python",
   "pygments_lexer": "ipython3",
   "version": "3.10.10"
  }
 },
 "nbformat": 4,
 "nbformat_minor": 5
}
