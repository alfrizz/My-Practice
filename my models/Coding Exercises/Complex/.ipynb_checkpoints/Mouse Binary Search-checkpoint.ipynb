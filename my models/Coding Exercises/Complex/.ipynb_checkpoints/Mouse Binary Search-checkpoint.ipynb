{
 "cells": [
  {
   "cell_type": "markdown",
   "id": "e4271e4f-504e-4ca6-b2e2-1c5332df70aa",
   "metadata": {},
   "source": [
    "We have a 4x4 grid, and we know there’s a mouse trapped in one of the cells. We want to figure out which cell it’s in, but we can only ask queries of a specific form. Given a subset of the cells, we can “scan” our grid to know whether there’s a mouse within that subset or not, but not where it is exactly.\n",
    "\n",
    "How would we figure out where the mouse is using the fewest number of scans?\n",
    "\n",
    "Binary search: Repeatedly dividing the grid in half and scanning each half until the mouse is found."
   ]
  },
  {
   "cell_type": "code",
   "execution_count": 277,
   "id": "431df467-9939-4438-93ef-6df0b7b07dc0",
   "metadata": {},
   "outputs": [],
   "source": [
    "import random\n",
    "import numpy as np\n",
    "import pandas as pd"
   ]
  },
  {
   "cell_type": "code",
   "execution_count": 269,
   "id": "5cd16180-6b8a-4693-b169-0e6c49531037",
   "metadata": {},
   "outputs": [],
   "source": [
    "class Grid:\n",
    "    \n",
    "    def __init__(self, size = 4):\n",
    "        self.n_rows = size\n",
    "        self.n_cols = size\n",
    "        self.mouse = (random.randint(1, self.n_rows -1), random.randint(1, self.n_cols -1))\n",
    "        self.table = np.array([1 if row == self.mouse[0] and col == self.mouse[1] else 0 \\\n",
    "                               for row in range(self.n_rows) for col in range(self.n_cols) ]).reshape(self.n_rows,self.n_cols)\n",
    "        print(self.table)\n",
    "        \n",
    "\n",
    "    def half_selection(self):\n",
    "            \n",
    "            iterations = 0\n",
    "            X_pos_bin = '' # binary string to retrieve the original X position of the mouse\n",
    "            Y_pos_bin = '' # binary string to retrieve the original Y position of the mouse\n",
    "            \n",
    "            while self.table.shape[1] > 1: # until we searches along all the X axis\n",
    "                \n",
    "                table_R = np.array([self.table[row][col] for row in range(self.n_rows) for col in range(self.n_cols) \\\n",
    "                                   if col >= self.n_cols // 2]).reshape(self.n_rows, self.n_cols // 2) # half table right\n",
    "                \n",
    "                if np.sum(table_R) == 1:\n",
    "                    self.table = table_R\n",
    "                    X_pos_bin += '1'\n",
    "                else:\n",
    "                    self.table = np.array([self.table[row][col] for row in range(self.n_rows) for col in range(self.n_cols) \\\n",
    "                                   if col < self.n_cols // 2]).reshape(self.n_rows, self.n_cols // 2) # half table left\n",
    "                    X_pos_bin += '0'\n",
    "                    \n",
    "                self.n_cols = self.n_cols // 2\n",
    "                iterations += 1\n",
    "                \n",
    "                ######################################################\n",
    "                print('iteration:', iterations)\n",
    "                print(self.table) \n",
    "                print('table shape:', self.table.shape)\n",
    "                print('\\n')\n",
    "                ######################################################\n",
    "                \n",
    "            while self.table.shape[0] > 1: # until we searches along all the Y axis\n",
    "                \n",
    "                table_U = np.array([self.table[row][col] for row in range(self.n_rows) for col in range(self.n_cols) \\\n",
    "                                   if row < self.n_rows // 2]).reshape(self.n_rows // 2, self.n_cols) # half table up\n",
    "                \n",
    "                if np.sum(table_U) == 1:\n",
    "                    self.table = table_U\n",
    "                    Y_pos_bin += '0'\n",
    "                else:\n",
    "                    self.table = np.array([self.table[row][col] for row in range(self.n_rows) for col in range(self.n_cols) \\\n",
    "                                   if row >= self.n_rows // 2]).reshape(self.n_rows // 2, self.n_cols) # half table down\n",
    "                    Y_pos_bin += '1'\n",
    "                \n",
    "                self.n_rows = self.n_rows // 2\n",
    "                iterations += 1\n",
    "\n",
    "                ######################################################\n",
    "                print('iteration:', iterations)\n",
    "                print(self.table) \n",
    "                print('table shape:', self.table.shape)\n",
    "                print('\\n')\n",
    "                ######################################################\n",
    "            \n",
    "            X_pos = int(X_pos_bin, 2)\n",
    "            Y_pos = int(Y_pos_bin,2)\n",
    "        \n",
    "            return [X_pos, Y_pos], iterations"
   ]
  },
  {
   "cell_type": "code",
   "execution_count": 279,
   "id": "c4c31468-0272-4f55-8d87-64d2355eb94d",
   "metadata": {},
   "outputs": [
    {
     "name": "stdout",
     "output_type": "stream",
     "text": [
      "[[0 0 0 0 0 0 0 0 0 0 0 0 0 0 0 0]\n",
      " [0 0 0 0 0 0 0 0 0 0 0 0 0 0 0 0]\n",
      " [0 0 0 0 0 0 0 0 0 0 0 0 0 0 0 0]\n",
      " [0 0 0 0 0 0 0 0 0 0 0 0 0 0 0 0]\n",
      " [0 0 0 0 0 0 0 0 0 0 0 0 0 0 0 0]\n",
      " [0 0 0 0 0 0 0 0 0 0 0 0 0 0 0 0]\n",
      " [0 0 0 0 0 0 0 0 0 0 0 0 0 0 0 0]\n",
      " [0 0 0 0 0 0 0 0 0 0 0 0 0 0 0 0]\n",
      " [0 0 0 0 0 0 0 0 0 0 0 0 0 0 0 0]\n",
      " [0 0 0 0 0 0 0 0 0 0 0 0 0 0 0 0]\n",
      " [0 0 0 0 0 0 0 0 0 0 0 1 0 0 0 0]\n",
      " [0 0 0 0 0 0 0 0 0 0 0 0 0 0 0 0]\n",
      " [0 0 0 0 0 0 0 0 0 0 0 0 0 0 0 0]\n",
      " [0 0 0 0 0 0 0 0 0 0 0 0 0 0 0 0]\n",
      " [0 0 0 0 0 0 0 0 0 0 0 0 0 0 0 0]\n",
      " [0 0 0 0 0 0 0 0 0 0 0 0 0 0 0 0]]\n"
     ]
    }
   ],
   "source": [
    "pd.set_option('display.max_columns', None)\n",
    "pd.set_option('display.max_rows', None)\n",
    "\n",
    "my_grid = Grid(16)"
   ]
  },
  {
   "cell_type": "code",
   "execution_count": 280,
   "id": "b8bff8e9-cd20-4011-957a-432f1fa61f17",
   "metadata": {},
   "outputs": [
    {
     "name": "stdout",
     "output_type": "stream",
     "text": [
      "iteration: 1\n",
      "[[0 0 0 0 0 0 0 0]\n",
      " [0 0 0 0 0 0 0 0]\n",
      " [0 0 0 0 0 0 0 0]\n",
      " [0 0 0 0 0 0 0 0]\n",
      " [0 0 0 0 0 0 0 0]\n",
      " [0 0 0 0 0 0 0 0]\n",
      " [0 0 0 0 0 0 0 0]\n",
      " [0 0 0 0 0 0 0 0]\n",
      " [0 0 0 0 0 0 0 0]\n",
      " [0 0 0 0 0 0 0 0]\n",
      " [0 0 0 1 0 0 0 0]\n",
      " [0 0 0 0 0 0 0 0]\n",
      " [0 0 0 0 0 0 0 0]\n",
      " [0 0 0 0 0 0 0 0]\n",
      " [0 0 0 0 0 0 0 0]\n",
      " [0 0 0 0 0 0 0 0]]\n",
      "table shape: (16, 8)\n",
      "\n",
      "\n",
      "iteration: 2\n",
      "[[0 0 0 0]\n",
      " [0 0 0 0]\n",
      " [0 0 0 0]\n",
      " [0 0 0 0]\n",
      " [0 0 0 0]\n",
      " [0 0 0 0]\n",
      " [0 0 0 0]\n",
      " [0 0 0 0]\n",
      " [0 0 0 0]\n",
      " [0 0 0 0]\n",
      " [0 0 0 1]\n",
      " [0 0 0 0]\n",
      " [0 0 0 0]\n",
      " [0 0 0 0]\n",
      " [0 0 0 0]\n",
      " [0 0 0 0]]\n",
      "table shape: (16, 4)\n",
      "\n",
      "\n",
      "iteration: 3\n",
      "[[0 0]\n",
      " [0 0]\n",
      " [0 0]\n",
      " [0 0]\n",
      " [0 0]\n",
      " [0 0]\n",
      " [0 0]\n",
      " [0 0]\n",
      " [0 0]\n",
      " [0 0]\n",
      " [0 1]\n",
      " [0 0]\n",
      " [0 0]\n",
      " [0 0]\n",
      " [0 0]\n",
      " [0 0]]\n",
      "table shape: (16, 2)\n",
      "\n",
      "\n",
      "iteration: 4\n",
      "[[0]\n",
      " [0]\n",
      " [0]\n",
      " [0]\n",
      " [0]\n",
      " [0]\n",
      " [0]\n",
      " [0]\n",
      " [0]\n",
      " [0]\n",
      " [1]\n",
      " [0]\n",
      " [0]\n",
      " [0]\n",
      " [0]\n",
      " [0]]\n",
      "table shape: (16, 1)\n",
      "\n",
      "\n",
      "iteration: 5\n",
      "[[0]\n",
      " [0]\n",
      " [1]\n",
      " [0]\n",
      " [0]\n",
      " [0]\n",
      " [0]\n",
      " [0]]\n",
      "table shape: (8, 1)\n",
      "\n",
      "\n",
      "iteration: 6\n",
      "[[0]\n",
      " [0]\n",
      " [1]\n",
      " [0]]\n",
      "table shape: (4, 1)\n",
      "\n",
      "\n",
      "iteration: 7\n",
      "[[1]\n",
      " [0]]\n",
      "table shape: (2, 1)\n",
      "\n",
      "\n",
      "iteration: 8\n",
      "[[1]]\n",
      "table shape: (1, 1)\n",
      "\n",
      "\n"
     ]
    },
    {
     "data": {
      "text/plain": [
       "([11, 10], 8)"
      ]
     },
     "execution_count": 280,
     "metadata": {},
     "output_type": "execute_result"
    }
   ],
   "source": [
    "my_grid.half_selection()"
   ]
  },
  {
   "cell_type": "code",
   "execution_count": null,
   "id": "07544f89-48a8-4060-8115-fc520f8ad6c2",
   "metadata": {},
   "outputs": [],
   "source": []
  },
  {
   "cell_type": "code",
   "execution_count": null,
   "id": "e3e318df-094c-4afe-ab22-55fa67df3f6a",
   "metadata": {},
   "outputs": [],
   "source": []
  },
  {
   "cell_type": "code",
   "execution_count": null,
   "id": "75e77b7e-d7c7-4787-8e79-26a8e7401d96",
   "metadata": {},
   "outputs": [],
   "source": []
  },
  {
   "cell_type": "code",
   "execution_count": null,
   "id": "c0987b07-54ac-4517-b679-ca6f37a55311",
   "metadata": {},
   "outputs": [],
   "source": []
  },
  {
   "cell_type": "code",
   "execution_count": null,
   "id": "a181fe23-eee4-4d09-8e2e-ae3fc4633b73",
   "metadata": {},
   "outputs": [],
   "source": []
  },
  {
   "cell_type": "code",
   "execution_count": null,
   "id": "7abb32a1-04a8-4886-a9df-028cdf8793d3",
   "metadata": {},
   "outputs": [],
   "source": []
  },
  {
   "cell_type": "code",
   "execution_count": null,
   "id": "6f65aa65-a723-4b3b-b2ac-0b727df53531",
   "metadata": {},
   "outputs": [],
   "source": []
  },
  {
   "cell_type": "code",
   "execution_count": null,
   "id": "3ba192f5-f153-481b-92c1-1c72f1c517a4",
   "metadata": {},
   "outputs": [],
   "source": []
  },
  {
   "cell_type": "code",
   "execution_count": null,
   "id": "b71d673d-a1b3-4928-9368-9b4ffb3de79e",
   "metadata": {},
   "outputs": [],
   "source": []
  },
  {
   "cell_type": "code",
   "execution_count": null,
   "id": "1d17de00-a5e4-4735-bbdd-aec4e73697f7",
   "metadata": {},
   "outputs": [],
   "source": []
  },
  {
   "cell_type": "code",
   "execution_count": null,
   "id": "e0deb746-2756-4320-bfd1-4c63780465fe",
   "metadata": {},
   "outputs": [],
   "source": []
  },
  {
   "cell_type": "code",
   "execution_count": null,
   "id": "0a0b5996-22f8-412d-bd0d-e0cedb5e2b89",
   "metadata": {},
   "outputs": [],
   "source": []
  },
  {
   "cell_type": "code",
   "execution_count": null,
   "id": "e480c024-5305-484d-8959-beca049f42de",
   "metadata": {},
   "outputs": [],
   "source": []
  },
  {
   "cell_type": "code",
   "execution_count": null,
   "id": "facc0a95-2f33-48ec-8062-60c2ad04907e",
   "metadata": {},
   "outputs": [],
   "source": []
  },
  {
   "cell_type": "code",
   "execution_count": null,
   "id": "f2bd2854-ca2e-4e24-9ea3-ca625000a4ab",
   "metadata": {},
   "outputs": [],
   "source": []
  },
  {
   "cell_type": "code",
   "execution_count": null,
   "id": "0f27ec39-3be3-404b-b5f1-3cfb52405f41",
   "metadata": {},
   "outputs": [],
   "source": []
  },
  {
   "cell_type": "code",
   "execution_count": null,
   "id": "d8b05029-7fee-4614-bd6d-b2b47aa7d29b",
   "metadata": {},
   "outputs": [],
   "source": []
  },
  {
   "cell_type": "code",
   "execution_count": null,
   "id": "59db8477-23cd-4dba-94f0-e9c11f1c7a00",
   "metadata": {},
   "outputs": [],
   "source": []
  },
  {
   "cell_type": "code",
   "execution_count": null,
   "id": "164b0f85-b1e2-41d1-9a56-75057440b9e8",
   "metadata": {},
   "outputs": [],
   "source": []
  },
  {
   "cell_type": "code",
   "execution_count": null,
   "id": "a2573e96-46a6-4868-91aa-887053dd51a2",
   "metadata": {},
   "outputs": [],
   "source": []
  },
  {
   "cell_type": "code",
   "execution_count": null,
   "id": "af83ed91-7986-4342-861c-1ebad0740678",
   "metadata": {},
   "outputs": [],
   "source": []
  },
  {
   "cell_type": "code",
   "execution_count": null,
   "id": "5f9e7130-9628-4aee-8e1a-bb7bd62dbe92",
   "metadata": {},
   "outputs": [],
   "source": []
  },
  {
   "cell_type": "code",
   "execution_count": null,
   "id": "7ddd21d1-45e0-4e4b-bbd7-eef2bbb504ee",
   "metadata": {},
   "outputs": [],
   "source": []
  },
  {
   "cell_type": "code",
   "execution_count": null,
   "id": "24d69f83-b7d3-44d5-bb72-ebf7933c78e7",
   "metadata": {},
   "outputs": [],
   "source": []
  },
  {
   "cell_type": "code",
   "execution_count": null,
   "id": "39ca5e52-98b0-46c6-aec6-8c70ec72c45e",
   "metadata": {},
   "outputs": [],
   "source": []
  },
  {
   "cell_type": "code",
   "execution_count": null,
   "id": "b6769def-1b90-4314-988d-4cc4f6f6fc2b",
   "metadata": {},
   "outputs": [],
   "source": []
  },
  {
   "cell_type": "code",
   "execution_count": null,
   "id": "e724ed2c-ebee-425f-ac1c-8c798f38de48",
   "metadata": {},
   "outputs": [],
   "source": []
  }
 ],
 "metadata": {
  "kernelspec": {
   "display_name": "Py310",
   "language": "python",
   "name": "py310"
  },
  "language_info": {
   "codemirror_mode": {
    "name": "ipython",
    "version": 3
   },
   "file_extension": ".py",
   "mimetype": "text/x-python",
   "name": "python",
   "nbconvert_exporter": "python",
   "pygments_lexer": "ipython3",
   "version": "3.10.11"
  }
 },
 "nbformat": 4,
 "nbformat_minor": 5
}
