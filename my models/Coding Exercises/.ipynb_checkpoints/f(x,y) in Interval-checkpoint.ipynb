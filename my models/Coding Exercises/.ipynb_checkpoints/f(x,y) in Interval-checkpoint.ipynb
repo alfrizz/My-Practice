{
 "cells": [
  {
   "cell_type": "markdown",
   "id": "5f4f385a-990d-4066-ad58-85a1717a1d43",
   "metadata": {},
   "source": [
    "f(x,y) in Interval\n",
    "\n",
    "Let f(x,y)=5x⋅3y\n",
    "\n",
    "Given an interval [L,R] and some integer N.\n",
    "Write a function, get_possible_values, that returns all positive integer pairs \n",
    "(x,y) such that \n",
    "\n",
    "f(x,y)∈[L,R] and \n",
    "x,y<N.\n",
    "\n",
    "Example:\n",
    "\n",
    "Input:\n",
    "\n",
    "L = 0\n",
    "R = 1\n",
    "N = 50\n",
    "\n",
    "Output:\n",
    "\n",
    "get_possible_values(L, R, N) -> [[0,0]]\n",
    "\n",
    "Since \n",
    "f(0,0)=1∈[0,1]"
   ]
  },
  {
   "cell_type": "code",
   "execution_count": 5,
   "id": "491c5a87-a98c-4dcd-83a2-0d2e92e6f7a8",
   "metadata": {},
   "outputs": [],
   "source": [
    "def get_possible_values(L, R, N):\n",
    "    possible_values = []\n",
    "    for x in range(N):\n",
    "        for y in range(N):\n",
    "            if 5**x*3**y <= R and 5**x*3**y >= L:\n",
    "                possible_values.append((x,y))\n",
    "    return possible_values\n",
    "                \n",
    "        "
   ]
  },
  {
   "cell_type": "code",
   "execution_count": 6,
   "id": "023a6217-09e4-4a24-ac3d-b18c14e04b45",
   "metadata": {},
   "outputs": [
    {
     "data": {
      "text/plain": [
       "[(0, 1), (0, 2), (1, 0)]"
      ]
     },
     "execution_count": 6,
     "metadata": {},
     "output_type": "execute_result"
    }
   ],
   "source": [
    "get_possible_values(2,10,100)"
   ]
  },
  {
   "cell_type": "code",
   "execution_count": null,
   "id": "071dc461-4518-491d-bd85-d40902e14e2a",
   "metadata": {},
   "outputs": [],
   "source": []
  },
  {
   "cell_type": "code",
   "execution_count": null,
   "id": "d72bc797-8c46-4eb6-9053-c5544d109801",
   "metadata": {},
   "outputs": [],
   "source": []
  },
  {
   "cell_type": "code",
   "execution_count": null,
   "id": "a1cd7e9c-aa73-45cc-932c-2e8e567f9602",
   "metadata": {},
   "outputs": [],
   "source": []
  },
  {
   "cell_type": "code",
   "execution_count": null,
   "id": "aab7f30f-f2e5-49b4-82e8-988b5364a091",
   "metadata": {},
   "outputs": [],
   "source": []
  }
 ],
 "metadata": {
  "kernelspec": {
   "display_name": "Python 3 (ipykernel)",
   "language": "python",
   "name": "python3"
  },
  "language_info": {
   "codemirror_mode": {
    "name": "ipython",
    "version": 3
   },
   "file_extension": ".py",
   "mimetype": "text/x-python",
   "name": "python",
   "nbconvert_exporter": "python",
   "pygments_lexer": "ipython3",
   "version": "3.10.10"
  }
 },
 "nbformat": 4,
 "nbformat_minor": 5
}
