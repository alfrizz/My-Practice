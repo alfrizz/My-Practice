{
 "cells": [
  {
   "cell_type": "code",
   "execution_count": 1,
   "id": "049ba1d6-51d7-4d17-88b8-a94df908364b",
   "metadata": {},
   "outputs": [],
   "source": [
    "import asyncio\n",
    "import websockets\n",
    "import json\n",
    "import os\n",
    "\n",
    "KEY = os.getenv('ALPACA_KEY_live')\n",
    "SECRET = os.getenv('ALPACA_SECRET_live')"
   ]
  },
  {
   "cell_type": "code",
   "execution_count": 2,
   "id": "4c7dfc68-ac26-43a9-91e0-dd8cd665ddee",
   "metadata": {},
   "outputs": [
    {
     "ename": "RuntimeError",
     "evalue": "This event loop is already running",
     "output_type": "error",
     "traceback": [
      "\u001b[1;31m---------------------------------------------------------------------------\u001b[0m",
      "\u001b[1;31mRuntimeError\u001b[0m                              Traceback (most recent call last)",
      "Cell \u001b[1;32mIn[2], line 52\u001b[0m\n\u001b[0;32m     48\u001b[0m             \u001b[38;5;28;01mexcept\u001b[39;00m \u001b[38;5;167;01mException\u001b[39;00m \u001b[38;5;28;01mas\u001b[39;00m e:\n\u001b[0;32m     49\u001b[0m                 \u001b[38;5;28mprint\u001b[39m(\u001b[38;5;124m\"\u001b[39m\u001b[38;5;124mError:\u001b[39m\u001b[38;5;124m\"\u001b[39m, e)\n\u001b[1;32m---> 52\u001b[0m \u001b[43masyncio\u001b[49m\u001b[38;5;241;43m.\u001b[39;49m\u001b[43mget_event_loop\u001b[49m\u001b[43m(\u001b[49m\u001b[43m)\u001b[49m\u001b[38;5;241;43m.\u001b[39;49m\u001b[43mrun_until_complete\u001b[49m\u001b[43m(\u001b[49m\u001b[43malpaca_crypto_stream\u001b[49m\u001b[43m(\u001b[49m\u001b[43m)\u001b[49m\u001b[43m)\u001b[49m\n",
      "File \u001b[1;32m~\\miniconda3\\lib\\asyncio\\base_events.py:625\u001b[0m, in \u001b[0;36mBaseEventLoop.run_until_complete\u001b[1;34m(self, future)\u001b[0m\n\u001b[0;32m    614\u001b[0m \u001b[38;5;250m\u001b[39m\u001b[38;5;124;03m\"\"\"Run until the Future is done.\u001b[39;00m\n\u001b[0;32m    615\u001b[0m \n\u001b[0;32m    616\u001b[0m \u001b[38;5;124;03mIf the argument is a coroutine, it is wrapped in a Task.\u001b[39;00m\n\u001b[1;32m   (...)\u001b[0m\n\u001b[0;32m    622\u001b[0m \u001b[38;5;124;03mReturn the Future's result, or raise its exception.\u001b[39;00m\n\u001b[0;32m    623\u001b[0m \u001b[38;5;124;03m\"\"\"\u001b[39;00m\n\u001b[0;32m    624\u001b[0m \u001b[38;5;28mself\u001b[39m\u001b[38;5;241m.\u001b[39m_check_closed()\n\u001b[1;32m--> 625\u001b[0m \u001b[38;5;28;43mself\u001b[39;49m\u001b[38;5;241;43m.\u001b[39;49m\u001b[43m_check_running\u001b[49m\u001b[43m(\u001b[49m\u001b[43m)\u001b[49m\n\u001b[0;32m    627\u001b[0m new_task \u001b[38;5;241m=\u001b[39m \u001b[38;5;129;01mnot\u001b[39;00m futures\u001b[38;5;241m.\u001b[39misfuture(future)\n\u001b[0;32m    628\u001b[0m future \u001b[38;5;241m=\u001b[39m tasks\u001b[38;5;241m.\u001b[39mensure_future(future, loop\u001b[38;5;241m=\u001b[39m\u001b[38;5;28mself\u001b[39m)\n",
      "File \u001b[1;32m~\\miniconda3\\lib\\asyncio\\base_events.py:584\u001b[0m, in \u001b[0;36mBaseEventLoop._check_running\u001b[1;34m(self)\u001b[0m\n\u001b[0;32m    582\u001b[0m \u001b[38;5;28;01mdef\u001b[39;00m \u001b[38;5;21m_check_running\u001b[39m(\u001b[38;5;28mself\u001b[39m):\n\u001b[0;32m    583\u001b[0m     \u001b[38;5;28;01mif\u001b[39;00m \u001b[38;5;28mself\u001b[39m\u001b[38;5;241m.\u001b[39mis_running():\n\u001b[1;32m--> 584\u001b[0m         \u001b[38;5;28;01mraise\u001b[39;00m \u001b[38;5;167;01mRuntimeError\u001b[39;00m(\u001b[38;5;124m'\u001b[39m\u001b[38;5;124mThis event loop is already running\u001b[39m\u001b[38;5;124m'\u001b[39m)\n\u001b[0;32m    585\u001b[0m     \u001b[38;5;28;01mif\u001b[39;00m events\u001b[38;5;241m.\u001b[39m_get_running_loop() \u001b[38;5;129;01mis\u001b[39;00m \u001b[38;5;129;01mnot\u001b[39;00m \u001b[38;5;28;01mNone\u001b[39;00m:\n\u001b[0;32m    586\u001b[0m         \u001b[38;5;28;01mraise\u001b[39;00m \u001b[38;5;167;01mRuntimeError\u001b[39;00m(\n\u001b[0;32m    587\u001b[0m             \u001b[38;5;124m'\u001b[39m\u001b[38;5;124mCannot run the event loop while another loop is running\u001b[39m\u001b[38;5;124m'\u001b[39m)\n",
      "\u001b[1;31mRuntimeError\u001b[0m: This event loop is already running"
     ]
    }
   ],
   "source": [
    "async def alpaca_crypto_stream():\n",
    "    # Use the live URL. To use the sandbox in testing, switch to:\n",
    "    # \"wss://stream.data.sandbox.alpaca.markets/v1beta3/crypto/us\"\n",
    "    url = \"wss://stream.data.alpaca.markets/v1beta3/crypto/us\"\n",
    "    \n",
    "    # Connect to the endpoint.\n",
    "    async with websockets.connect(url) as ws:\n",
    "        # The server will first send a connection success message.\n",
    "        response = await ws.recv()\n",
    "        print(\"Connected:\", response)\n",
    "        \n",
    "        # --- Step 1: Authenticate ---\n",
    "        auth_msg = {\n",
    "            \"action\": \"auth\",\n",
    "            \"key\": KEY,       \n",
    "            \"secret\": SECRET \n",
    "        }\n",
    "        await ws.send(json.dumps(auth_msg))\n",
    "        auth_response = await ws.recv()\n",
    "        print(\"Auth Response:\", auth_response)\n",
    "        \n",
    "        # --- Step 2: Subscribe ---\n",
    "        # For example, to subscribe to trades for BTC/USD.\n",
    "        sub_msg = {\n",
    "            \"action\": \"subscribe\",\n",
    "            \"trades\": [\"BTC/USD\"]\n",
    "            # If you want quotes or bars, use \"quotes\": [\"BTC/USD\"], \"bars\": [\"BTC/USD\"], etc.\n",
    "        }\n",
    "        await ws.send(json.dumps(sub_msg))\n",
    "        sub_response = await ws.recv()\n",
    "        print(\"Subscription Response:\", sub_response)\n",
    "        \n",
    "        # --- Step 3: Receive Data ---\n",
    "        print(\"Starting to receive streaming data...\")\n",
    "        while True:\n",
    "            try:\n",
    "                # Await one or more messages.\n",
    "                message = await ws.recv()\n",
    "                \n",
    "                # The stream may send multiple data points in one message.\n",
    "                # You can attempt to parse and process them as needed.\n",
    "                data = json.loads(message)\n",
    "                print(\"Received Data:\")\n",
    "                print(json.dumps(data, indent=2))\n",
    "            except websockets.ConnectionClosed:\n",
    "                print(\"Connection closed\")\n",
    "                break\n",
    "            except Exception as e:\n",
    "                print(\"Error:\", e)\n",
    "\n",
    "\n",
    "asyncio.get_event_loop().run_until_complete(alpaca_crypto_stream())\n"
   ]
  },
  {
   "cell_type": "code",
   "execution_count": null,
   "id": "1bc9eb77-edeb-45b1-804c-13d58d4bb064",
   "metadata": {},
   "outputs": [],
   "source": []
  },
  {
   "cell_type": "code",
   "execution_count": null,
   "id": "6ebc823c-c7ad-4692-9201-ea32fc5c8caf",
   "metadata": {},
   "outputs": [],
   "source": []
  },
  {
   "cell_type": "code",
   "execution_count": null,
   "id": "18c51eee-1edc-4488-9f6f-a91fdb9c5541",
   "metadata": {},
   "outputs": [],
   "source": []
  },
  {
   "cell_type": "code",
   "execution_count": null,
   "id": "e2f80ea9-dadd-47ca-b5ec-8f6a0f64bfd8",
   "metadata": {},
   "outputs": [],
   "source": []
  },
  {
   "cell_type": "code",
   "execution_count": null,
   "id": "e17ee8ff-ea59-417b-982b-66ad1972b3db",
   "metadata": {},
   "outputs": [],
   "source": []
  },
  {
   "cell_type": "code",
   "execution_count": null,
   "id": "a195fff0-93c2-4fd0-84dc-eb6ce60cfbab",
   "metadata": {},
   "outputs": [],
   "source": []
  }
 ],
 "metadata": {
  "kernelspec": {
   "display_name": "Python 3 (ipykernel)",
   "language": "python",
   "name": "python3"
  },
  "language_info": {
   "codemirror_mode": {
    "name": "ipython",
    "version": 3
   },
   "file_extension": ".py",
   "mimetype": "text/x-python",
   "name": "python",
   "nbconvert_exporter": "python",
   "pygments_lexer": "ipython3",
   "version": "3.10.10"
  }
 },
 "nbformat": 4,
 "nbformat_minor": 5
}
