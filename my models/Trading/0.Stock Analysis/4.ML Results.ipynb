{
 "cells": [
  {
   "cell_type": "code",
   "execution_count": 1,
   "id": "db53f869-3ce8-4b85-9c38-ba83b86b51b9",
   "metadata": {},
   "outputs": [
    {
     "name": "stderr",
     "output_type": "stream",
     "text": [
      "2025-06-17 16:22:56.710390: E external/local_xla/xla/stream_executor/cuda/cuda_fft.cc:467] Unable to register cuFFT factory: Attempting to register factory for plugin cuFFT when one has already been registered\n",
      "WARNING: All log messages before absl::InitializeLog() is called are written to STDERR\n",
      "E0000 00:00:1750170176.756489   56864 cuda_dnn.cc:8579] Unable to register cuDNN factory: Attempting to register factory for plugin cuDNN when one has already been registered\n",
      "E0000 00:00:1750170176.771933   56864 cuda_blas.cc:1407] Unable to register cuBLAS factory: Attempting to register factory for plugin cuBLAS when one has already been registered\n",
      "W0000 00:00:1750170176.798734   56864 computation_placer.cc:177] computation placer already registered. Please check linkage and avoid linking the same target more than once.\n",
      "W0000 00:00:1750170176.798786   56864 computation_placer.cc:177] computation placer already registered. Please check linkage and avoid linking the same target more than once.\n",
      "W0000 00:00:1750170176.798789   56864 computation_placer.cc:177] computation placer already registered. Please check linkage and avoid linking the same target more than once.\n",
      "W0000 00:00:1750170176.798791   56864 computation_placer.cc:177] computation placer already registered. Please check linkage and avoid linking the same target more than once.\n"
     ]
    }
   ],
   "source": [
    "from pathlib import Path\n",
    "import tensorflow as tf, pickle\n",
    "from datetime import datetime\n",
    "from tqdm.notebook import tqdm\n",
    "import matplotlib.pyplot as plt    "
   ]
  },
  {
   "cell_type": "code",
   "execution_count": 2,
   "id": "3daba10b-3212-4a06-b607-748995bdc51b",
   "metadata": {},
   "outputs": [
    {
     "ename": "ValueError",
     "evalue": "File not found: filepath=dfs training/model_AAPL_2025-06-17.keras. Please ensure the file is an accessible `.keras` zip file.",
     "output_type": "error",
     "traceback": [
      "\u001b[0;31m---------------------------------------------------------------------------\u001b[0m",
      "\u001b[0;31mValueError\u001b[0m                                Traceback (most recent call last)",
      "Cell \u001b[0;32mIn[2], line 5\u001b[0m\n\u001b[1;32m      3\u001b[0m ticker     \u001b[38;5;241m=\u001b[39m \u001b[38;5;124m\"\u001b[39m\u001b[38;5;124mAAPL\u001b[39m\u001b[38;5;124m\"\u001b[39m\n\u001b[1;32m      4\u001b[0m model_path \u001b[38;5;241m=\u001b[39m save_dir \u001b[38;5;241m/\u001b[39m \u001b[38;5;124mf\u001b[39m\u001b[38;5;124m\"\u001b[39m\u001b[38;5;124mmodel_\u001b[39m\u001b[38;5;132;01m{\u001b[39;00mticker\u001b[38;5;132;01m}\u001b[39;00m\u001b[38;5;124m_2025-06-17.keras\u001b[39m\u001b[38;5;124m\"\u001b[39m   \u001b[38;5;66;03m# adjust date\u001b[39;00m\n\u001b[0;32m----> 5\u001b[0m model      \u001b[38;5;241m=\u001b[39m \u001b[43mtf\u001b[49m\u001b[38;5;241;43m.\u001b[39;49m\u001b[43mkeras\u001b[49m\u001b[38;5;241;43m.\u001b[39;49m\u001b[43mmodels\u001b[49m\u001b[38;5;241;43m.\u001b[39;49m\u001b[43mload_model\u001b[49m\u001b[43m(\u001b[49m\u001b[43mmodel_path\u001b[49m\u001b[43m)\u001b[49m\n\u001b[1;32m      7\u001b[0m \u001b[38;5;66;03m# (optional) re-load weights-only checkpoint in case you updated it\u001b[39;00m\n\u001b[1;32m      8\u001b[0m ckpt_path  \u001b[38;5;241m=\u001b[39m save_dir \u001b[38;5;241m/\u001b[39m \u001b[38;5;124mf\u001b[39m\u001b[38;5;124m\"\u001b[39m\u001b[38;5;124mbest_\u001b[39m\u001b[38;5;132;01m{\u001b[39;00mticker\u001b[38;5;132;01m}\u001b[39;00m\u001b[38;5;124m.weights.h5\u001b[39m\u001b[38;5;124m\"\u001b[39m\n",
      "File \u001b[0;32m~/miniconda3/lib/python3.10/site-packages/keras/src/saving/saving_api.py:200\u001b[0m, in \u001b[0;36mload_model\u001b[0;34m(filepath, custom_objects, compile, safe_mode)\u001b[0m\n\u001b[1;32m    196\u001b[0m     \u001b[38;5;28;01mreturn\u001b[39;00m legacy_h5_format\u001b[38;5;241m.\u001b[39mload_model_from_hdf5(\n\u001b[1;32m    197\u001b[0m         filepath, custom_objects\u001b[38;5;241m=\u001b[39mcustom_objects, \u001b[38;5;28mcompile\u001b[39m\u001b[38;5;241m=\u001b[39m\u001b[38;5;28mcompile\u001b[39m\n\u001b[1;32m    198\u001b[0m     )\n\u001b[1;32m    199\u001b[0m \u001b[38;5;28;01melif\u001b[39;00m \u001b[38;5;28mstr\u001b[39m(filepath)\u001b[38;5;241m.\u001b[39mendswith(\u001b[38;5;124m\"\u001b[39m\u001b[38;5;124m.keras\u001b[39m\u001b[38;5;124m\"\u001b[39m):\n\u001b[0;32m--> 200\u001b[0m     \u001b[38;5;28;01mraise\u001b[39;00m \u001b[38;5;167;01mValueError\u001b[39;00m(\n\u001b[1;32m    201\u001b[0m         \u001b[38;5;124mf\u001b[39m\u001b[38;5;124m\"\u001b[39m\u001b[38;5;124mFile not found: filepath=\u001b[39m\u001b[38;5;132;01m{\u001b[39;00mfilepath\u001b[38;5;132;01m}\u001b[39;00m\u001b[38;5;124m. \u001b[39m\u001b[38;5;124m\"\u001b[39m\n\u001b[1;32m    202\u001b[0m         \u001b[38;5;124m\"\u001b[39m\u001b[38;5;124mPlease ensure the file is an accessible `.keras` \u001b[39m\u001b[38;5;124m\"\u001b[39m\n\u001b[1;32m    203\u001b[0m         \u001b[38;5;124m\"\u001b[39m\u001b[38;5;124mzip file.\u001b[39m\u001b[38;5;124m\"\u001b[39m\n\u001b[1;32m    204\u001b[0m     )\n\u001b[1;32m    205\u001b[0m \u001b[38;5;28;01melse\u001b[39;00m:\n\u001b[1;32m    206\u001b[0m     \u001b[38;5;28;01mraise\u001b[39;00m \u001b[38;5;167;01mValueError\u001b[39;00m(\n\u001b[1;32m    207\u001b[0m         \u001b[38;5;124mf\u001b[39m\u001b[38;5;124m\"\u001b[39m\u001b[38;5;124mFile format not supported: filepath=\u001b[39m\u001b[38;5;132;01m{\u001b[39;00mfilepath\u001b[38;5;132;01m}\u001b[39;00m\u001b[38;5;124m. \u001b[39m\u001b[38;5;124m\"\u001b[39m\n\u001b[1;32m    208\u001b[0m         \u001b[38;5;124m\"\u001b[39m\u001b[38;5;124mKeras 3 only supports V3 `.keras` files and \u001b[39m\u001b[38;5;124m\"\u001b[39m\n\u001b[0;32m   (...)\u001b[0m\n\u001b[1;32m    217\u001b[0m         \u001b[38;5;124m\"\u001b[39m\u001b[38;5;124mmight have a different name).\u001b[39m\u001b[38;5;124m\"\u001b[39m\n\u001b[1;32m    218\u001b[0m     )\n",
      "\u001b[0;31mValueError\u001b[0m: File not found: filepath=dfs training/model_AAPL_2025-06-17.keras. Please ensure the file is an accessible `.keras` zip file."
     ]
    }
   ],
   "source": [
    "\n",
    "# ── 1 · load model (architecture + weights already inside) ────────────\n",
    "save_dir   = Path(\"dfs training\")\n",
    "ticker     = \"AAPL\"\n",
    "model_path = save_dir / f\"model_{ticker}_2025-06-17.keras\"   # adjust date\n",
    "model      = tf.keras.models.load_model(model_path)\n",
    "\n",
    "# (optional) re-load weights-only checkpoint in case you updated it\n",
    "ckpt_path  = save_dir / f\"best_{ticker}.weights.h5\"\n",
    "model.load_weights(ckpt_path)      # harmless if identical\n",
    "\n",
    "# ── 2 · load tf.data test set exactly as it was saved ─────────────────\n",
    "spec      = pickle.loads((save_dir / f\"ds_test_{ticker}.pkl\").read_bytes())\n",
    "ds_test   = tf.data.Dataset.load(str(save_dir / \"ds_test_data\"),\n",
    "                                 element_spec=spec,\n",
    "                                 compression=\"GZIP\")\n",
    "\n"
   ]
  },
  {
   "cell_type": "code",
   "execution_count": null,
   "id": "19efc06b-5cdc-4e5e-b838-b091e3b08b05",
   "metadata": {},
   "outputs": [],
   "source": [
    "# ── 3 · evaluate RMSE day-by-day (stateful) ───────────────────────────\n",
    "lstm_layers = [l for l in model.layers if hasattr(l, \"reset_states\")]\n",
    "test_metric = tf.keras.metrics.RootMeanSquaredError()\n",
    "\n",
    "N_test = sum(1 for _ in ds_test)     # concrete length for tqdm\n",
    "ds_test = ds_test.cache()\n",
    "\n",
    "for X_day, y_day, _ in tqdm(ds_test, total=N_test, unit=\"day\", desc=\"Testing\"):\n",
    "    for l in lstm_layers: l.reset_states()          # flush hidden state\n",
    "    y_pred = model(X_day, training=False)\n",
    "    test_metric.update_state(y_day, y_pred)\n",
    "\n",
    "print(f\"\\nFINAL OOS TEST RMSE = {test_metric.result().numpy():.5f}\")\n",
    "\n"
   ]
  },
  {
   "cell_type": "code",
   "execution_count": null,
   "id": "8803a49c-f461-485f-9e42-b7f39e707eb0",
   "metadata": {},
   "outputs": [],
   "source": [
    "# ── 4 · quick visual sanity check on first N_PLOTS sessions ───────────\n",
    "N_PLOTS, plotted = 10, 0\n",
    "for X_day, y_day, _ in ds_test:\n",
    "    for l in lstm_layers: l.reset_states()\n",
    "    y_hat = model(X_day, training=False).numpy().squeeze()\n",
    "    y_true = y_day.numpy().squeeze()\n",
    "\n",
    "    plt.figure(figsize=(10, 3))\n",
    "    plt.plot(y_true, label=\"y\",   color=\"black\", linewidth=1)\n",
    "    plt.plot(y_hat,  label=\"pred\",color=\"firebrick\", alpha=0.8)\n",
    "    plt.title(f\"Test session #{plotted+1} • length = {len(y_true)} bars\")\n",
    "    plt.legend(); plt.grid(True); plt.show()\n",
    "\n",
    "    plotted += 1\n",
    "    if plotted >= N_PLOTS: break"
   ]
  },
  {
   "cell_type": "code",
   "execution_count": null,
   "id": "6aaf0756-e656-4622-87da-6882ab15617d",
   "metadata": {},
   "outputs": [],
   "source": [
    "# ###############################################################################\n",
    "# # 6. FINAL  EVALUATION  ON  THE  UNTOUCHED  TEST  SPLIT                       \n",
    "# ###############################################################################\n",
    "\n",
    "# # 1) Reload champion weights\n",
    "# model.load_weights(ckpt_path)\n",
    "\n",
    "# # 2) Grab all stateful layers once\n",
    "# lstm_layers = [l for l in model.layers if hasattr(l, \"reset_states\")]\n",
    "\n",
    "# # 3) Metric accumulator\n",
    "# test_metric = tf.keras.metrics.RootMeanSquaredError()\n",
    "\n",
    "# # 4) Concrete length → makes tqdm show “n / total” instead of “?/”\n",
    "# N_test = sum(1 for _ in ds_test)      # cheap count\n",
    "# ds_test = ds_test.cache()             # allows second pass if needed\n",
    "\n",
    "# # 5) Iterate with progress bar\n",
    "# for X_day, y_day, new_day in tqdm(ds_test,\n",
    "#                                   total=N_test,\n",
    "#                                   unit=\"day\",\n",
    "#                                   desc=\"Testing\"):\n",
    "#     # flush hidden state at calendar boundary\n",
    "#     for l in lstm_layers: l.reset_states()\n",
    "\n",
    "#     # forward pass (no gradients) + metric update\n",
    "#     y_pred = model(X_day, training=False)\n",
    "#     test_metric.update_state(y_day, y_pred)\n",
    "\n",
    "# # 6) Final report\n",
    "# print(f\"\\nFINAL OUT-OF-SAMPLE TEST RMSE = {test_metric.result().numpy():.5f}\")\n"
   ]
  },
  {
   "cell_type": "code",
   "execution_count": null,
   "id": "935f71d2-db60-4780-804f-7878b4010c8e",
   "metadata": {},
   "outputs": [],
   "source": [
    "# ###############################################################################\n",
    "# # Visual sanity-check:  y_true  vs.  y_pred  for several test days\n",
    "# ###############################################################################\n",
    "\n",
    "# # 1)  ── reload champion weights ──────────────────────────────────────\n",
    "# model.load_weights(ckpt_path)\n",
    "\n",
    "# # 2)  ── pick how many sessions you want to plot ──────────────────────\n",
    "# N_PLOTS = 10                              \n",
    "# plot_count = 0\n",
    "\n",
    "# # 3)  ── loop over test dataset (one element = one day) ───────────────\n",
    "# for X_day, y_day, new_day in ds_test:\n",
    "#     # (a) reset state at calendar boundary (always True in this dataset)\n",
    "#     for l in model.layers:\n",
    "#         if hasattr(l, \"reset_states\"):\n",
    "#             l.reset_states()\n",
    "\n",
    "#     # (b) forward pass → prediction\n",
    "#     y_pred = model(X_day, training=False)          # shape (1 , T , 1)\n",
    "#     y_pred = y_pred.numpy().squeeze()              # (T,)\n",
    "#     y_true = y_day.numpy().squeeze()               # (T,)\n",
    "\n",
    "#     # (c) quick line plot\n",
    "#     plt.figure(figsize=(10, 3))\n",
    "#     plt.plot(y_true, label=\"label  (y)\",  color=\"black\",  linewidth=1.0)\n",
    "#     plt.plot(y_pred, label=\"prediction\",  color=\"firebrick\", alpha=0.8)\n",
    "#     plt.title(f\"Test session #{plot_count+1}  •  length = {len(y_true)} bars\")\n",
    "#     plt.legend()\n",
    "#     plt.grid(True)\n",
    "#     plt.show()\n",
    "\n",
    "#     plot_count += 1\n",
    "#     if plot_count >= N_PLOTS:\n",
    "#         break\n"
   ]
  },
  {
   "cell_type": "code",
   "execution_count": null,
   "id": "846b96af-9a1f-40d1-afb2-139bfa21ca0d",
   "metadata": {},
   "outputs": [],
   "source": []
  },
  {
   "cell_type": "code",
   "execution_count": null,
   "id": "47fb2954-2c9e-42aa-94fa-684db326e709",
   "metadata": {},
   "outputs": [],
   "source": []
  },
  {
   "cell_type": "code",
   "execution_count": null,
   "id": "6de2fa29-c6d0-4d45-bd7f-5cac78e09ed4",
   "metadata": {},
   "outputs": [],
   "source": []
  },
  {
   "cell_type": "code",
   "execution_count": null,
   "id": "42401853-48bf-4438-b103-e10cdb70ee8b",
   "metadata": {},
   "outputs": [],
   "source": []
  },
  {
   "cell_type": "code",
   "execution_count": null,
   "id": "2c547231-0cc9-454f-aeef-cb9a0a055f7e",
   "metadata": {},
   "outputs": [],
   "source": []
  },
  {
   "cell_type": "code",
   "execution_count": null,
   "id": "6820d7ef-1660-4250-b27a-8cee1ae78a05",
   "metadata": {},
   "outputs": [],
   "source": []
  }
 ],
 "metadata": {
  "kernelspec": {
   "display_name": "Python 3 (ipykernel)",
   "language": "python",
   "name": "python3"
  },
  "language_info": {
   "codemirror_mode": {
    "name": "ipython",
    "version": 3
   },
   "file_extension": ".py",
   "mimetype": "text/x-python",
   "name": "python",
   "nbconvert_exporter": "python",
   "pygments_lexer": "ipython3",
   "version": "3.10.18"
  }
 },
 "nbformat": 4,
 "nbformat_minor": 5
}
