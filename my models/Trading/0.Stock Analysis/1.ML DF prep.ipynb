{
 "cells": [
  {
   "cell_type": "code",
   "execution_count": 1,
   "id": "35445790-eaab-428e-9fb9-1d07594ee3b6",
   "metadata": {},
   "outputs": [],
   "source": [
    "import math\n",
    "import pandas as pd\n",
    "from pandas import Timestamp\n",
    "import numpy as np\n",
    "import glob\n",
    "import os\n",
    "import datetime\n",
    "\n",
    "import matplotlib.pyplot as plt\n",
    "import plotly.graph_objects as go\n",
    "from IPython.display import display, HTML\n",
    "\n",
    "from typing import List, Sequence, Tuple\n",
    "from sklearn.preprocessing import StandardScaler\n",
    "\n",
    "import stockanalibs\n",
    "\n",
    "pd.set_option('display.max_columns', None)\n"
   ]
  },
  {
   "cell_type": "code",
   "execution_count": 2,
   "id": "ce1e645c-545a-429a-b66a-e1e1bd129f9b",
   "metadata": {},
   "outputs": [],
   "source": [
    "ticker = \"AAPL\"\n",
    "folder = \"Intraday stocks\" \n",
    "\n",
    "day_to_check = '2025-04-03' # '2025-04-02' or \"None\" if all dates to be analyzed"
   ]
  },
  {
   "cell_type": "code",
   "execution_count": 3,
   "id": "126b826b-72fe-4766-88ea-910e010d6fa8",
   "metadata": {},
   "outputs": [
    {
     "data": {
      "text/html": [
       "<div>\n",
       "<style scoped>\n",
       "    .dataframe tbody tr th:only-of-type {\n",
       "        vertical-align: middle;\n",
       "    }\n",
       "\n",
       "    .dataframe tbody tr th {\n",
       "        vertical-align: top;\n",
       "    }\n",
       "\n",
       "    .dataframe thead th {\n",
       "        text-align: right;\n",
       "    }\n",
       "</style>\n",
       "<table border=\"1\" class=\"dataframe\">\n",
       "  <thead>\n",
       "    <tr style=\"text-align: right;\">\n",
       "      <th></th>\n",
       "      <th>open</th>\n",
       "      <th>high</th>\n",
       "      <th>low</th>\n",
       "      <th>close</th>\n",
       "      <th>volume</th>\n",
       "      <th>ask</th>\n",
       "      <th>bid</th>\n",
       "    </tr>\n",
       "    <tr>\n",
       "      <th>datetime</th>\n",
       "      <th></th>\n",
       "      <th></th>\n",
       "      <th></th>\n",
       "      <th></th>\n",
       "      <th></th>\n",
       "      <th></th>\n",
       "      <th></th>\n",
       "    </tr>\n",
       "  </thead>\n",
       "  <tbody>\n",
       "    <tr>\n",
       "      <th>2025-01-02 09:00:00</th>\n",
       "      <td>251.9000</td>\n",
       "      <td>251.90</td>\n",
       "      <td>250.6000</td>\n",
       "      <td>251.3600</td>\n",
       "      <td>834</td>\n",
       "      <td>251.4354</td>\n",
       "      <td>251.2846</td>\n",
       "    </tr>\n",
       "    <tr>\n",
       "      <th>2025-01-02 09:01:00</th>\n",
       "      <td>251.3700</td>\n",
       "      <td>251.54</td>\n",
       "      <td>251.2600</td>\n",
       "      <td>251.3200</td>\n",
       "      <td>1175</td>\n",
       "      <td>251.3954</td>\n",
       "      <td>251.2446</td>\n",
       "    </tr>\n",
       "    <tr>\n",
       "      <th>2025-01-02 09:02:00</th>\n",
       "      <td>251.3700</td>\n",
       "      <td>251.43</td>\n",
       "      <td>251.2100</td>\n",
       "      <td>251.2100</td>\n",
       "      <td>847</td>\n",
       "      <td>251.2854</td>\n",
       "      <td>251.1346</td>\n",
       "    </tr>\n",
       "    <tr>\n",
       "      <th>2025-01-02 09:03:00</th>\n",
       "      <td>251.3000</td>\n",
       "      <td>251.30</td>\n",
       "      <td>250.9800</td>\n",
       "      <td>250.9800</td>\n",
       "      <td>1692</td>\n",
       "      <td>251.0553</td>\n",
       "      <td>250.9047</td>\n",
       "    </tr>\n",
       "    <tr>\n",
       "      <th>2025-01-02 09:04:00</th>\n",
       "      <td>250.9600</td>\n",
       "      <td>251.15</td>\n",
       "      <td>250.9400</td>\n",
       "      <td>251.0300</td>\n",
       "      <td>633</td>\n",
       "      <td>251.1053</td>\n",
       "      <td>250.9547</td>\n",
       "    </tr>\n",
       "    <tr>\n",
       "      <th>...</th>\n",
       "      <td>...</td>\n",
       "      <td>...</td>\n",
       "      <td>...</td>\n",
       "      <td>...</td>\n",
       "      <td>...</td>\n",
       "      <td>...</td>\n",
       "      <td>...</td>\n",
       "    </tr>\n",
       "    <tr>\n",
       "      <th>2025-06-03 23:55:00</th>\n",
       "      <td>203.0000</td>\n",
       "      <td>203.00</td>\n",
       "      <td>202.8635</td>\n",
       "      <td>202.9900</td>\n",
       "      <td>755</td>\n",
       "      <td>203.0509</td>\n",
       "      <td>202.9291</td>\n",
       "    </tr>\n",
       "    <tr>\n",
       "      <th>2025-06-03 23:56:00</th>\n",
       "      <td>202.9725</td>\n",
       "      <td>202.99</td>\n",
       "      <td>202.9201</td>\n",
       "      <td>202.9201</td>\n",
       "      <td>531</td>\n",
       "      <td>202.9810</td>\n",
       "      <td>202.8592</td>\n",
       "    </tr>\n",
       "    <tr>\n",
       "      <th>2025-06-03 23:57:00</th>\n",
       "      <td>202.9700</td>\n",
       "      <td>202.97</td>\n",
       "      <td>202.9300</td>\n",
       "      <td>202.9699</td>\n",
       "      <td>222</td>\n",
       "      <td>203.0308</td>\n",
       "      <td>202.9090</td>\n",
       "    </tr>\n",
       "    <tr>\n",
       "      <th>2025-06-03 23:58:00</th>\n",
       "      <td>202.9200</td>\n",
       "      <td>202.96</td>\n",
       "      <td>202.9200</td>\n",
       "      <td>202.9600</td>\n",
       "      <td>865</td>\n",
       "      <td>203.0209</td>\n",
       "      <td>202.8991</td>\n",
       "    </tr>\n",
       "    <tr>\n",
       "      <th>2025-06-03 23:59:00</th>\n",
       "      <td>202.9600</td>\n",
       "      <td>203.05</td>\n",
       "      <td>202.9000</td>\n",
       "      <td>203.0000</td>\n",
       "      <td>300</td>\n",
       "      <td>203.0609</td>\n",
       "      <td>202.9391</td>\n",
       "    </tr>\n",
       "  </tbody>\n",
       "</table>\n",
       "<p>99597 rows × 7 columns</p>\n",
       "</div>"
      ],
      "text/plain": [
       "                         open    high       low     close  volume       ask  \\\n",
       "datetime                                                                      \n",
       "2025-01-02 09:00:00  251.9000  251.90  250.6000  251.3600     834  251.4354   \n",
       "2025-01-02 09:01:00  251.3700  251.54  251.2600  251.3200    1175  251.3954   \n",
       "2025-01-02 09:02:00  251.3700  251.43  251.2100  251.2100     847  251.2854   \n",
       "2025-01-02 09:03:00  251.3000  251.30  250.9800  250.9800    1692  251.0553   \n",
       "2025-01-02 09:04:00  250.9600  251.15  250.9400  251.0300     633  251.1053   \n",
       "...                       ...     ...       ...       ...     ...       ...   \n",
       "2025-06-03 23:55:00  203.0000  203.00  202.8635  202.9900     755  203.0509   \n",
       "2025-06-03 23:56:00  202.9725  202.99  202.9201  202.9201     531  202.9810   \n",
       "2025-06-03 23:57:00  202.9700  202.97  202.9300  202.9699     222  203.0308   \n",
       "2025-06-03 23:58:00  202.9200  202.96  202.9200  202.9600     865  203.0209   \n",
       "2025-06-03 23:59:00  202.9600  203.05  202.9000  203.0000     300  203.0609   \n",
       "\n",
       "                          bid  \n",
       "datetime                       \n",
       "2025-01-02 09:00:00  251.2846  \n",
       "2025-01-02 09:01:00  251.2446  \n",
       "2025-01-02 09:02:00  251.1346  \n",
       "2025-01-02 09:03:00  250.9047  \n",
       "2025-01-02 09:04:00  250.9547  \n",
       "...                       ...  \n",
       "2025-06-03 23:55:00  202.9291  \n",
       "2025-06-03 23:56:00  202.8592  \n",
       "2025-06-03 23:57:00  202.9090  \n",
       "2025-06-03 23:58:00  202.8991  \n",
       "2025-06-03 23:59:00  202.9391  \n",
       "\n",
       "[99597 rows x 7 columns]"
      ]
     },
     "execution_count": 3,
     "metadata": {},
     "output_type": "execute_result"
    }
   ],
   "source": [
    "pattern = os.path.join(folder, f\"{ticker}_*.csv\")\n",
    "files = glob.glob(pattern)\n",
    "\n",
    "if not files:\n",
    "    raise FileNotFoundError(f\"No files found for ticker {ticker} in {folder}\")\n",
    "\n",
    "# If there are multiple files, you might sort them or choose the first one.\n",
    "files.sort()  # sorts alphabetically\n",
    "file_to_read = files[0]\n",
    "\n",
    "df = pd.read_csv(file_to_read, index_col=0, parse_dates=[\"datetime\"])\n",
    "df = df[['open', 'high', 'low', 'close', 'volume']]\n",
    "\n",
    "ask_bid_spread = 0.03 # percent\n",
    "spread_fraction = ask_bid_spread / 100.0\n",
    "# Create 'ask' as close price plus the spread fraction and 'bid' as close price minus the spread fraction.\n",
    "df['ask'] = round(df['close'] * (1 + spread_fraction),4)\n",
    "df['bid'] = round(df['close'] * (1 - spread_fraction),4)\n",
    "\n",
    "df"
   ]
  },
  {
   "cell_type": "code",
   "execution_count": 4,
   "id": "b77d3a1b-556f-4f2c-81d6-97a1061836ee",
   "metadata": {
    "scrolled": true
   },
   "outputs": [],
   "source": [
    "display(HTML(\"\"\"\n",
    "<style>\n",
    ".output_scroll {\n",
    "    overflow-y: visible !important;\n",
    "    max-height: none !important;\n",
    "}\n",
    "</style>\n",
    "\"\"\"))\n"
   ]
  },
  {
   "cell_type": "code",
   "execution_count": 5,
   "id": "c00444ff-b20d-4549-9f32-ee47cb4a5469",
   "metadata": {},
   "outputs": [],
   "source": [
    "def plot_trades(df, trades, buy_threshold, performance_stats, trade_color=\"green\"):\n",
    "    \"\"\"\n",
    "    Plots the overall close-price series plus trade intervals and two continuous signals,\n",
    "    with the signals shown on a secondary y-axis.\n",
    "\n",
    "    • The base trace (grey) plots the close-price series on the primary y-axis.\n",
    "    • Trade traces (green by default) indicate the intervals for each trade from the original trade list.\n",
    "    • A dotted blue line shows the raw normalized \"signal\" on a secondary y-axis.\n",
    "    • A dashed red line shows the smooth normalized signal on the secondary y-axis.\n",
    "    • A horizontal dotted line is drawn at the buy_threshold.\n",
    "    • Additionally, areas between each buy and sell event determined by the new \n",
    "      \"trade_action\" field (buy=+1, sell=-1) are highlighted (in orange).\n",
    "    • An update menu is added with two buttons:\n",
    "         - \"Hide Trades\": Hides only the trade-specific traces.\n",
    "         - \"Show Trades\": Makes all traces visible.\n",
    "\n",
    "    Parameters:\n",
    "      df : pd.DataFrame\n",
    "          DataFrame with a datetime index and at least the columns \"close\", \"signal_norm\",\n",
    "          \"signal_smooth_norm\", and \"trade_action\".\n",
    "      trades : list\n",
    "          A list of tuples, each in the form:\n",
    "            ((buy_date, sell_date), (buy_price, sell_price), profit_pc).\n",
    "      buy_threshold : float\n",
    "          The threshold used for candidate buy detection (shown as a horizontal dotted line on the \n",
    "          secondary y-axis).\n",
    "      performance_stats : dict, optional\n",
    "          Dictionary containing performance metrics. If provided and if it contains keys\n",
    "          \"Trade Gains ($)\" and \"Trade Gains (%)\" (each a list), they will be added to the\n",
    "          trade annotations. \n",
    "      trade_color : str, optional\n",
    "          The color to use for the original trade traces.\n",
    "    \"\"\"\n",
    "    fig = go.Figure()\n",
    "    \n",
    "    # Trace 0: Base close-price trace.\n",
    "    fig.add_trace(go.Scatter(\n",
    "        x=df.index,\n",
    "        y=df['close'],\n",
    "        mode='lines',\n",
    "        line=dict(color='grey', width=1),\n",
    "        name='Close Price',\n",
    "        hoverinfo='x+y',\n",
    "        hovertemplate=\"Date: %{x}<br>Close: %{y:.2f}<extra></extra>\",\n",
    "    ))\n",
    "    \n",
    "    # Trade traces: one per original trade.\n",
    "    for i, trade in enumerate(trades):\n",
    "        # Unpack the trade tuple: ((buy_date, sell_date), (buy_price, sell_price), profit_pc)\n",
    "        (buy_date, sell_date), (_, _), trade_return = trade\n",
    "        trade_df = df.loc[buy_date:sell_date]\n",
    "        fig.add_trace(go.Scatter(\n",
    "            x=trade_df.index,\n",
    "            y=trade_df['close'],\n",
    "            mode='lines+markers',\n",
    "            line=dict(color=trade_color, width=3),\n",
    "            marker=dict(size=4, color=trade_color),\n",
    "            name=f\"Trade {i+1}\",\n",
    "            hoveron='points',\n",
    "            hovertemplate=f\"Trade {i+1}: Return: {trade_return:.2f}%<extra></extra>\",\n",
    "            visible=True\n",
    "        ))\n",
    "        \n",
    "    # --------------------------------------------------------------------\n",
    "    # New Trade Action Highlights: using the 'trade_action' field.\n",
    "    # Extract rows where trade_action is not zero.\n",
    "    trade_events = df[df[\"trade_action\"] != 0][\"trade_action\"]\n",
    "    pairs = []\n",
    "    prev_buy = None\n",
    "    for timestamp, action in trade_events.items():\n",
    "        if action == 1:   # Buy signal\n",
    "            prev_buy = timestamp\n",
    "        elif action == -1 and prev_buy is not None:\n",
    "            pairs.append((prev_buy, timestamp))\n",
    "            prev_buy = None\n",
    "    # For each buy-sell pair, add a vertical shaded region with annotation.\n",
    "    for j, (buy_ts, sell_ts) in enumerate(pairs):\n",
    "        if (performance_stats is not None and \n",
    "            \"Trade Gains ($)\" in performance_stats and \n",
    "            \"Trade Gains (%)\" in performance_stats and \n",
    "            len(performance_stats[\"Trade Gains ($)\"]) > j and \n",
    "            len(performance_stats[\"Trade Gains (%)\"]) > j):\n",
    "            ann_text = (f\"TA Trade {j+1}<br>$: {performance_stats['Trade Gains ($)'][j]}<br>\"\n",
    "                        f\"%: {performance_stats['Trade Gains (%)'][j]}\")\n",
    "        else:\n",
    "            ann_text = f\"TA Trade {j+1}\"\n",
    "            \n",
    "        fig.add_vrect(\n",
    "            x0=buy_ts, x1=sell_ts,\n",
    "            fillcolor=\"orange\", opacity=0.25,\n",
    "            line_width=0,\n",
    "            annotation_text=ann_text,\n",
    "            annotation_position=\"top left\",\n",
    "            annotation_font_color=\"orange\"\n",
    "        )\n",
    "    # --------------------------------------------------------------------\n",
    "    \n",
    "    # Raw Signal trace: Plot the normalized \"signal\" on a secondary y-axis.\n",
    "    fig.add_trace(go.Scatter(\n",
    "        x=df.index,\n",
    "        y=df['signal_norm'],\n",
    "        mode='lines',\n",
    "        line=dict(color='blue', width=2, dash='dot'),\n",
    "        name='Signal (Normalized)',\n",
    "        hovertemplate=\"Date: %{x}<br>Signal: %{y:.2f}<extra></extra>\",\n",
    "        visible=True,\n",
    "        yaxis=\"y2\"\n",
    "    ))\n",
    "    \n",
    "    # Smooth Signal trace: Plot the smooth normalized signal on a secondary y-axis.\n",
    "    fig.add_trace(go.Scatter(\n",
    "        x=df.index,\n",
    "        y=df['signal_smooth_norm'],\n",
    "        mode='lines',\n",
    "        line=dict(color='red', width=2, dash='dash'),\n",
    "        name='Smooth Signal (Normalized)',\n",
    "        hovertemplate=\"Date: %{x}<br>Smooth Signal: %{y:.2f}<extra></extra>\",\n",
    "        visible=True,\n",
    "        yaxis=\"y2\"\n",
    "    ))\n",
    "    \n",
    "    # Add a horizontal dotted line for the buy_threshold (on secondary y-axis).\n",
    "    fig.add_hline(y=buy_threshold, line=dict(color=\"purple\", dash=\"dot\"),\n",
    "                  annotation_text=\"Buy Threshold\", annotation_position=\"top left\", yref=\"y2\")\n",
    "    \n",
    "    # Total traces: 1 Base + n_trades (original trades) + 2 (for the signal traces).\n",
    "    n_trades = len(trades)\n",
    "    total_traces = 1 + n_trades + 2\n",
    "    vis_show = [True] * total_traces  \n",
    "    vis_hide = [True] + [\"legendonly\"] * n_trades + [True, True]\n",
    "    \n",
    "    fig.update_layout(\n",
    "        updatemenus=[\n",
    "            {\n",
    "                \"type\": \"buttons\",\n",
    "                \"direction\": \"left\",\n",
    "                \"buttons\": [\n",
    "                    {\n",
    "                        \"label\": \"Hide Trades\",\n",
    "                        \"method\": \"update\",\n",
    "                        \"args\": [{\"visible\": vis_hide}],\n",
    "                    },\n",
    "                    {\n",
    "                        \"label\": \"Show Trades\",\n",
    "                        \"method\": \"update\",\n",
    "                        \"args\": [{\"visible\": vis_show}],\n",
    "                    },\n",
    "                ],\n",
    "                \"pad\": {\"r\": 10, \"t\": 10},\n",
    "                \"showactive\": True,\n",
    "                \"x\": 0.9,\n",
    "                \"xanchor\": \"left\",\n",
    "                \"y\": 1.1,\n",
    "                \"yanchor\": \"top\",\n",
    "            }\n",
    "        ],\n",
    "        hovermode=\"x unified\",\n",
    "        template=\"plotly_white\",\n",
    "        title=\"Close Price, Trade Intervals, and Signals\",\n",
    "        xaxis_title=\"Datetime\",\n",
    "        yaxis_title=\"Close Price\",\n",
    "        height=700,\n",
    "        yaxis2=dict(\n",
    "            title=\"Signal (Normalized)\",\n",
    "            overlaying=\"y\",\n",
    "            side=\"right\",\n",
    "            showgrid=False,\n",
    "        )\n",
    "    )\n",
    "    \n",
    "    fig.show()\n"
   ]
  },
  {
   "cell_type": "code",
   "execution_count": 6,
   "id": "8c12f6e5-f25a-4bd0-a251-4068e0ab15c8",
   "metadata": {},
   "outputs": [],
   "source": [
    "def saveDF_checkDAY(df, ticker, min_prof_thr, max_down_prop, smooth_win_sig, pre_entry_decay, buy_threshold, trailing_stop_thresh, \n",
    "                    keep_cols = [\"open\", \"high\", \"low\", \"close\", \"volume\", \"bid\", \"ask\", \n",
    "                                 \"trade_action\", \"StrategyEarning\", \"EarningDiff\", \"signal_smooth_norm\"], \n",
    "                    day_to_check=None):\n",
    "    \n",
    "    df = stockanalibs.smooth_prepost_trading_data(df=df, \n",
    "                                                 regular_start=stockanalibs.regular_start, \n",
    "                                                 regular_end=stockanalibs.regular_end)\n",
    "\n",
    "    results_by_day = stockanalibs.identify_trades_daily(df=df,\n",
    "                                                       min_prof_thr=min_prof_thr, \n",
    "                                                       max_down_prop=max_down_prop,\n",
    "                                                       regular_start_shifted=stockanalibs.regular_start_shifted,\n",
    "                                                       regular_end=stockanalibs.regular_end,\n",
    "                                                       day_to_check=day_to_check)\n",
    "\n",
    "    results_by_day = stockanalibs.add_trade_signal_to_results(results_by_day=results_by_day, \n",
    "                                                            min_prof_thr=min_prof_thr, \n",
    "                                                            regular_start=stockanalibs.regular_start,\n",
    "                                                            smooth_win_sig=smooth_win_sig, \n",
    "                                                            pre_entry_decay=pre_entry_decay,\n",
    "                                                            buy_threshold=buy_threshold, \n",
    "                                                            trailing_stop_thresh=trailing_stop_thresh)\n",
    "\n",
    "    results_all = stockanalibs.simulate_trading(results_by_day=results_by_day, \n",
    "                                               regular_start=stockanalibs.regular_start, \n",
    "                                               regular_end=stockanalibs.regular_end,\n",
    "                                               ticker=ticker)\n",
    "\n",
    "    if day_to_check is not None: # visualize results for the day selected\n",
    "\n",
    "        results_to_check = results_all.get(pd.to_datetime(day_to_check))\n",
    "        \n",
    "        df_to_check = results_to_check[0]\n",
    "            \n",
    "        trade_to_check = results_to_check[1]\n",
    "        \n",
    "        performance_to_check = results_to_check[2]\n",
    "        \n",
    "        plot_trades(df=df_to_check, \n",
    "                    trades=trade_to_check,\n",
    "                    buy_threshold=buy_threshold,\n",
    "                    performance_stats=performance_to_check)\n",
    "    \n",
    "        print(performance_to_check)\n",
    "\n",
    "        return df_to_check\n",
    "\n",
    "    else: # returns the concatenation of the list of all daily dataframes\n",
    "        \n",
    "        dfs = [result[0] for result in results_all.values()] \n",
    "        \n",
    "        merged = (pd.concat(dfs)[keep_cols].sort_index())\n",
    "\n",
    "        merged.to_csv(f\"dfs training/merged_{ticker}.csv\", index=True)\n",
    "\n",
    "        return merged"
   ]
  },
  {
   "cell_type": "code",
   "execution_count": 7,
   "id": "c3ddbfd5-05e6-43c7-be86-86656d007668",
   "metadata": {},
   "outputs": [],
   "source": [
    "min_prof_thr, max_down_prop, smooth_win_sig, pre_entry_decay, buy_threshold, trailing_stop_thresh = stockanalibs.signal_parameters(ticker)"
   ]
  },
  {
   "cell_type": "code",
   "execution_count": 8,
   "id": "74fbc73f-77dc-41ee-bd75-f05a069d7892",
   "metadata": {},
   "outputs": [
    {
     "data": {
      "application/vnd.plotly.v1+json": {
       "config": {
        "plotlyServerURL": "https://plot.ly"
       },
       "data": [
        {
         "hoverinfo": "x+y",
         "hovertemplate": "Date: %{x}<br>Close: %{y:.2f}<extra></extra>",
         "line": {
          "color": "grey",
          "width": 1
         },
         "mode": "lines",
         "name": "Close Price",
         "type": "scatter",
         "x": [
          "2025-04-03T13:30:00.000000000",
          "2025-04-03T13:31:00.000000000",
          "2025-04-03T13:32:00.000000000",
          "2025-04-03T13:33:00.000000000",
          "2025-04-03T13:34:00.000000000",
          "2025-04-03T13:35:00.000000000",
          "2025-04-03T13:36:00.000000000",
          "2025-04-03T13:37:00.000000000",
          "2025-04-03T13:38:00.000000000",
          "2025-04-03T13:39:00.000000000",
          "2025-04-03T13:40:00.000000000",
          "2025-04-03T13:41:00.000000000",
          "2025-04-03T13:42:00.000000000",
          "2025-04-03T13:43:00.000000000",
          "2025-04-03T13:44:00.000000000",
          "2025-04-03T13:45:00.000000000",
          "2025-04-03T13:46:00.000000000",
          "2025-04-03T13:47:00.000000000",
          "2025-04-03T13:48:00.000000000",
          "2025-04-03T13:49:00.000000000",
          "2025-04-03T13:50:00.000000000",
          "2025-04-03T13:51:00.000000000",
          "2025-04-03T13:52:00.000000000",
          "2025-04-03T13:53:00.000000000",
          "2025-04-03T13:54:00.000000000",
          "2025-04-03T13:55:00.000000000",
          "2025-04-03T13:56:00.000000000",
          "2025-04-03T13:57:00.000000000",
          "2025-04-03T13:58:00.000000000",
          "2025-04-03T13:59:00.000000000",
          "2025-04-03T14:00:00.000000000",
          "2025-04-03T14:01:00.000000000",
          "2025-04-03T14:02:00.000000000",
          "2025-04-03T14:03:00.000000000",
          "2025-04-03T14:04:00.000000000",
          "2025-04-03T14:05:00.000000000",
          "2025-04-03T14:06:00.000000000",
          "2025-04-03T14:07:00.000000000",
          "2025-04-03T14:08:00.000000000",
          "2025-04-03T14:09:00.000000000",
          "2025-04-03T14:10:00.000000000",
          "2025-04-03T14:11:00.000000000",
          "2025-04-03T14:12:00.000000000",
          "2025-04-03T14:13:00.000000000",
          "2025-04-03T14:14:00.000000000",
          "2025-04-03T14:15:00.000000000",
          "2025-04-03T14:16:00.000000000",
          "2025-04-03T14:17:00.000000000",
          "2025-04-03T14:18:00.000000000",
          "2025-04-03T14:19:00.000000000",
          "2025-04-03T14:20:00.000000000",
          "2025-04-03T14:21:00.000000000",
          "2025-04-03T14:22:00.000000000",
          "2025-04-03T14:23:00.000000000",
          "2025-04-03T14:24:00.000000000",
          "2025-04-03T14:25:00.000000000",
          "2025-04-03T14:26:00.000000000",
          "2025-04-03T14:27:00.000000000",
          "2025-04-03T14:28:00.000000000",
          "2025-04-03T14:29:00.000000000",
          "2025-04-03T14:30:00.000000000",
          "2025-04-03T14:31:00.000000000",
          "2025-04-03T14:32:00.000000000",
          "2025-04-03T14:33:00.000000000",
          "2025-04-03T14:34:00.000000000",
          "2025-04-03T14:35:00.000000000",
          "2025-04-03T14:36:00.000000000",
          "2025-04-03T14:37:00.000000000",
          "2025-04-03T14:38:00.000000000",
          "2025-04-03T14:39:00.000000000",
          "2025-04-03T14:40:00.000000000",
          "2025-04-03T14:41:00.000000000",
          "2025-04-03T14:42:00.000000000",
          "2025-04-03T14:43:00.000000000",
          "2025-04-03T14:44:00.000000000",
          "2025-04-03T14:45:00.000000000",
          "2025-04-03T14:46:00.000000000",
          "2025-04-03T14:47:00.000000000",
          "2025-04-03T14:48:00.000000000",
          "2025-04-03T14:49:00.000000000",
          "2025-04-03T14:50:00.000000000",
          "2025-04-03T14:51:00.000000000",
          "2025-04-03T14:52:00.000000000",
          "2025-04-03T14:53:00.000000000",
          "2025-04-03T14:54:00.000000000",
          "2025-04-03T14:55:00.000000000",
          "2025-04-03T14:56:00.000000000",
          "2025-04-03T14:57:00.000000000",
          "2025-04-03T14:58:00.000000000",
          "2025-04-03T14:59:00.000000000",
          "2025-04-03T15:00:00.000000000",
          "2025-04-03T15:01:00.000000000",
          "2025-04-03T15:02:00.000000000",
          "2025-04-03T15:03:00.000000000",
          "2025-04-03T15:04:00.000000000",
          "2025-04-03T15:05:00.000000000",
          "2025-04-03T15:06:00.000000000",
          "2025-04-03T15:07:00.000000000",
          "2025-04-03T15:08:00.000000000",
          "2025-04-03T15:09:00.000000000",
          "2025-04-03T15:10:00.000000000",
          "2025-04-03T15:11:00.000000000",
          "2025-04-03T15:12:00.000000000",
          "2025-04-03T15:13:00.000000000",
          "2025-04-03T15:14:00.000000000",
          "2025-04-03T15:15:00.000000000",
          "2025-04-03T15:16:00.000000000",
          "2025-04-03T15:17:00.000000000",
          "2025-04-03T15:18:00.000000000",
          "2025-04-03T15:19:00.000000000",
          "2025-04-03T15:20:00.000000000",
          "2025-04-03T15:21:00.000000000",
          "2025-04-03T15:22:00.000000000",
          "2025-04-03T15:23:00.000000000",
          "2025-04-03T15:24:00.000000000",
          "2025-04-03T15:25:00.000000000",
          "2025-04-03T15:26:00.000000000",
          "2025-04-03T15:27:00.000000000",
          "2025-04-03T15:28:00.000000000",
          "2025-04-03T15:29:00.000000000",
          "2025-04-03T15:30:00.000000000",
          "2025-04-03T15:31:00.000000000",
          "2025-04-03T15:32:00.000000000",
          "2025-04-03T15:33:00.000000000",
          "2025-04-03T15:34:00.000000000",
          "2025-04-03T15:35:00.000000000",
          "2025-04-03T15:36:00.000000000",
          "2025-04-03T15:37:00.000000000",
          "2025-04-03T15:38:00.000000000",
          "2025-04-03T15:39:00.000000000",
          "2025-04-03T15:40:00.000000000",
          "2025-04-03T15:41:00.000000000",
          "2025-04-03T15:42:00.000000000",
          "2025-04-03T15:43:00.000000000",
          "2025-04-03T15:44:00.000000000",
          "2025-04-03T15:45:00.000000000",
          "2025-04-03T15:46:00.000000000",
          "2025-04-03T15:47:00.000000000",
          "2025-04-03T15:48:00.000000000",
          "2025-04-03T15:49:00.000000000",
          "2025-04-03T15:50:00.000000000",
          "2025-04-03T15:51:00.000000000",
          "2025-04-03T15:52:00.000000000",
          "2025-04-03T15:53:00.000000000",
          "2025-04-03T15:54:00.000000000",
          "2025-04-03T15:55:00.000000000",
          "2025-04-03T15:56:00.000000000",
          "2025-04-03T15:57:00.000000000",
          "2025-04-03T15:58:00.000000000",
          "2025-04-03T15:59:00.000000000",
          "2025-04-03T16:00:00.000000000",
          "2025-04-03T16:01:00.000000000",
          "2025-04-03T16:02:00.000000000",
          "2025-04-03T16:03:00.000000000",
          "2025-04-03T16:04:00.000000000",
          "2025-04-03T16:05:00.000000000",
          "2025-04-03T16:06:00.000000000",
          "2025-04-03T16:07:00.000000000",
          "2025-04-03T16:08:00.000000000",
          "2025-04-03T16:09:00.000000000",
          "2025-04-03T16:10:00.000000000",
          "2025-04-03T16:11:00.000000000",
          "2025-04-03T16:12:00.000000000",
          "2025-04-03T16:13:00.000000000",
          "2025-04-03T16:14:00.000000000",
          "2025-04-03T16:15:00.000000000",
          "2025-04-03T16:16:00.000000000",
          "2025-04-03T16:17:00.000000000",
          "2025-04-03T16:18:00.000000000",
          "2025-04-03T16:19:00.000000000",
          "2025-04-03T16:20:00.000000000",
          "2025-04-03T16:21:00.000000000",
          "2025-04-03T16:22:00.000000000",
          "2025-04-03T16:23:00.000000000",
          "2025-04-03T16:24:00.000000000",
          "2025-04-03T16:25:00.000000000",
          "2025-04-03T16:26:00.000000000",
          "2025-04-03T16:27:00.000000000",
          "2025-04-03T16:28:00.000000000",
          "2025-04-03T16:29:00.000000000",
          "2025-04-03T16:30:00.000000000",
          "2025-04-03T16:31:00.000000000",
          "2025-04-03T16:32:00.000000000",
          "2025-04-03T16:33:00.000000000",
          "2025-04-03T16:34:00.000000000",
          "2025-04-03T16:35:00.000000000",
          "2025-04-03T16:36:00.000000000",
          "2025-04-03T16:37:00.000000000",
          "2025-04-03T16:38:00.000000000",
          "2025-04-03T16:39:00.000000000",
          "2025-04-03T16:40:00.000000000",
          "2025-04-03T16:41:00.000000000",
          "2025-04-03T16:42:00.000000000",
          "2025-04-03T16:43:00.000000000",
          "2025-04-03T16:44:00.000000000",
          "2025-04-03T16:45:00.000000000",
          "2025-04-03T16:46:00.000000000",
          "2025-04-03T16:47:00.000000000",
          "2025-04-03T16:48:00.000000000",
          "2025-04-03T16:49:00.000000000",
          "2025-04-03T16:50:00.000000000",
          "2025-04-03T16:51:00.000000000",
          "2025-04-03T16:52:00.000000000",
          "2025-04-03T16:53:00.000000000",
          "2025-04-03T16:54:00.000000000",
          "2025-04-03T16:55:00.000000000",
          "2025-04-03T16:56:00.000000000",
          "2025-04-03T16:57:00.000000000",
          "2025-04-03T16:58:00.000000000",
          "2025-04-03T16:59:00.000000000",
          "2025-04-03T17:00:00.000000000",
          "2025-04-03T17:01:00.000000000",
          "2025-04-03T17:02:00.000000000",
          "2025-04-03T17:03:00.000000000",
          "2025-04-03T17:04:00.000000000",
          "2025-04-03T17:05:00.000000000",
          "2025-04-03T17:06:00.000000000",
          "2025-04-03T17:07:00.000000000",
          "2025-04-03T17:08:00.000000000",
          "2025-04-03T17:09:00.000000000",
          "2025-04-03T17:10:00.000000000",
          "2025-04-03T17:11:00.000000000",
          "2025-04-03T17:12:00.000000000",
          "2025-04-03T17:13:00.000000000",
          "2025-04-03T17:14:00.000000000",
          "2025-04-03T17:15:00.000000000",
          "2025-04-03T17:16:00.000000000",
          "2025-04-03T17:17:00.000000000",
          "2025-04-03T17:18:00.000000000",
          "2025-04-03T17:19:00.000000000",
          "2025-04-03T17:20:00.000000000",
          "2025-04-03T17:21:00.000000000",
          "2025-04-03T17:22:00.000000000",
          "2025-04-03T17:23:00.000000000",
          "2025-04-03T17:24:00.000000000",
          "2025-04-03T17:25:00.000000000",
          "2025-04-03T17:26:00.000000000",
          "2025-04-03T17:27:00.000000000",
          "2025-04-03T17:28:00.000000000",
          "2025-04-03T17:29:00.000000000",
          "2025-04-03T17:30:00.000000000",
          "2025-04-03T17:31:00.000000000",
          "2025-04-03T17:32:00.000000000",
          "2025-04-03T17:33:00.000000000",
          "2025-04-03T17:34:00.000000000",
          "2025-04-03T17:35:00.000000000",
          "2025-04-03T17:36:00.000000000",
          "2025-04-03T17:37:00.000000000",
          "2025-04-03T17:38:00.000000000",
          "2025-04-03T17:39:00.000000000",
          "2025-04-03T17:40:00.000000000",
          "2025-04-03T17:41:00.000000000",
          "2025-04-03T17:42:00.000000000",
          "2025-04-03T17:43:00.000000000",
          "2025-04-03T17:44:00.000000000",
          "2025-04-03T17:45:00.000000000",
          "2025-04-03T17:46:00.000000000",
          "2025-04-03T17:47:00.000000000",
          "2025-04-03T17:48:00.000000000",
          "2025-04-03T17:49:00.000000000",
          "2025-04-03T17:50:00.000000000",
          "2025-04-03T17:51:00.000000000",
          "2025-04-03T17:52:00.000000000",
          "2025-04-03T17:53:00.000000000",
          "2025-04-03T17:54:00.000000000",
          "2025-04-03T17:55:00.000000000",
          "2025-04-03T17:56:00.000000000",
          "2025-04-03T17:57:00.000000000",
          "2025-04-03T17:58:00.000000000",
          "2025-04-03T17:59:00.000000000",
          "2025-04-03T18:00:00.000000000",
          "2025-04-03T18:01:00.000000000",
          "2025-04-03T18:02:00.000000000",
          "2025-04-03T18:03:00.000000000",
          "2025-04-03T18:04:00.000000000",
          "2025-04-03T18:05:00.000000000",
          "2025-04-03T18:06:00.000000000",
          "2025-04-03T18:07:00.000000000",
          "2025-04-03T18:08:00.000000000",
          "2025-04-03T18:09:00.000000000",
          "2025-04-03T18:10:00.000000000",
          "2025-04-03T18:11:00.000000000",
          "2025-04-03T18:12:00.000000000",
          "2025-04-03T18:13:00.000000000",
          "2025-04-03T18:14:00.000000000",
          "2025-04-03T18:15:00.000000000",
          "2025-04-03T18:16:00.000000000",
          "2025-04-03T18:17:00.000000000",
          "2025-04-03T18:18:00.000000000",
          "2025-04-03T18:19:00.000000000",
          "2025-04-03T18:20:00.000000000",
          "2025-04-03T18:21:00.000000000",
          "2025-04-03T18:22:00.000000000",
          "2025-04-03T18:23:00.000000000",
          "2025-04-03T18:24:00.000000000",
          "2025-04-03T18:25:00.000000000",
          "2025-04-03T18:26:00.000000000",
          "2025-04-03T18:27:00.000000000",
          "2025-04-03T18:28:00.000000000",
          "2025-04-03T18:29:00.000000000",
          "2025-04-03T18:30:00.000000000",
          "2025-04-03T18:31:00.000000000",
          "2025-04-03T18:32:00.000000000",
          "2025-04-03T18:33:00.000000000",
          "2025-04-03T18:34:00.000000000",
          "2025-04-03T18:35:00.000000000",
          "2025-04-03T18:36:00.000000000",
          "2025-04-03T18:37:00.000000000",
          "2025-04-03T18:38:00.000000000",
          "2025-04-03T18:39:00.000000000",
          "2025-04-03T18:40:00.000000000",
          "2025-04-03T18:41:00.000000000",
          "2025-04-03T18:42:00.000000000",
          "2025-04-03T18:43:00.000000000",
          "2025-04-03T18:44:00.000000000",
          "2025-04-03T18:45:00.000000000",
          "2025-04-03T18:46:00.000000000",
          "2025-04-03T18:47:00.000000000",
          "2025-04-03T18:48:00.000000000",
          "2025-04-03T18:49:00.000000000",
          "2025-04-03T18:50:00.000000000",
          "2025-04-03T18:51:00.000000000",
          "2025-04-03T18:52:00.000000000",
          "2025-04-03T18:53:00.000000000",
          "2025-04-03T18:54:00.000000000",
          "2025-04-03T18:55:00.000000000",
          "2025-04-03T18:56:00.000000000",
          "2025-04-03T18:57:00.000000000",
          "2025-04-03T18:58:00.000000000",
          "2025-04-03T18:59:00.000000000",
          "2025-04-03T19:00:00.000000000",
          "2025-04-03T19:01:00.000000000",
          "2025-04-03T19:02:00.000000000",
          "2025-04-03T19:03:00.000000000",
          "2025-04-03T19:04:00.000000000",
          "2025-04-03T19:05:00.000000000",
          "2025-04-03T19:06:00.000000000",
          "2025-04-03T19:07:00.000000000",
          "2025-04-03T19:08:00.000000000",
          "2025-04-03T19:09:00.000000000",
          "2025-04-03T19:10:00.000000000",
          "2025-04-03T19:11:00.000000000",
          "2025-04-03T19:12:00.000000000",
          "2025-04-03T19:13:00.000000000",
          "2025-04-03T19:14:00.000000000",
          "2025-04-03T19:15:00.000000000",
          "2025-04-03T19:16:00.000000000",
          "2025-04-03T19:17:00.000000000",
          "2025-04-03T19:18:00.000000000",
          "2025-04-03T19:19:00.000000000",
          "2025-04-03T19:20:00.000000000",
          "2025-04-03T19:21:00.000000000",
          "2025-04-03T19:22:00.000000000",
          "2025-04-03T19:23:00.000000000",
          "2025-04-03T19:24:00.000000000",
          "2025-04-03T19:25:00.000000000",
          "2025-04-03T19:26:00.000000000",
          "2025-04-03T19:27:00.000000000",
          "2025-04-03T19:28:00.000000000",
          "2025-04-03T19:29:00.000000000",
          "2025-04-03T19:30:00.000000000",
          "2025-04-03T19:31:00.000000000",
          "2025-04-03T19:32:00.000000000",
          "2025-04-03T19:33:00.000000000",
          "2025-04-03T19:34:00.000000000",
          "2025-04-03T19:35:00.000000000",
          "2025-04-03T19:36:00.000000000",
          "2025-04-03T19:37:00.000000000",
          "2025-04-03T19:38:00.000000000",
          "2025-04-03T19:39:00.000000000",
          "2025-04-03T19:40:00.000000000",
          "2025-04-03T19:41:00.000000000",
          "2025-04-03T19:42:00.000000000",
          "2025-04-03T19:43:00.000000000",
          "2025-04-03T19:44:00.000000000",
          "2025-04-03T19:45:00.000000000",
          "2025-04-03T19:46:00.000000000",
          "2025-04-03T19:47:00.000000000",
          "2025-04-03T19:48:00.000000000",
          "2025-04-03T19:49:00.000000000",
          "2025-04-03T19:50:00.000000000",
          "2025-04-03T19:51:00.000000000",
          "2025-04-03T19:52:00.000000000",
          "2025-04-03T19:53:00.000000000",
          "2025-04-03T19:54:00.000000000",
          "2025-04-03T19:55:00.000000000",
          "2025-04-03T19:56:00.000000000",
          "2025-04-03T19:57:00.000000000",
          "2025-04-03T19:58:00.000000000",
          "2025-04-03T19:59:00.000000000",
          "2025-04-03T20:00:00.000000000",
          "2025-04-03T20:01:00.000000000",
          "2025-04-03T20:02:00.000000000",
          "2025-04-03T20:03:00.000000000",
          "2025-04-03T20:04:00.000000000",
          "2025-04-03T20:05:00.000000000",
          "2025-04-03T20:06:00.000000000",
          "2025-04-03T20:07:00.000000000",
          "2025-04-03T20:08:00.000000000",
          "2025-04-03T20:09:00.000000000",
          "2025-04-03T20:10:00.000000000",
          "2025-04-03T20:11:00.000000000",
          "2025-04-03T20:12:00.000000000",
          "2025-04-03T20:13:00.000000000",
          "2025-04-03T20:14:00.000000000",
          "2025-04-03T20:15:00.000000000",
          "2025-04-03T20:16:00.000000000",
          "2025-04-03T20:17:00.000000000",
          "2025-04-03T20:18:00.000000000",
          "2025-04-03T20:19:00.000000000",
          "2025-04-03T20:20:00.000000000",
          "2025-04-03T20:21:00.000000000",
          "2025-04-03T20:22:00.000000000",
          "2025-04-03T20:23:00.000000000",
          "2025-04-03T20:24:00.000000000",
          "2025-04-03T20:25:00.000000000",
          "2025-04-03T20:26:00.000000000",
          "2025-04-03T20:27:00.000000000",
          "2025-04-03T20:28:00.000000000",
          "2025-04-03T20:29:00.000000000",
          "2025-04-03T20:30:00.000000000",
          "2025-04-03T20:31:00.000000000",
          "2025-04-03T20:32:00.000000000",
          "2025-04-03T20:33:00.000000000",
          "2025-04-03T20:34:00.000000000",
          "2025-04-03T20:35:00.000000000",
          "2025-04-03T20:36:00.000000000",
          "2025-04-03T20:37:00.000000000",
          "2025-04-03T20:38:00.000000000",
          "2025-04-03T20:39:00.000000000",
          "2025-04-03T20:40:00.000000000",
          "2025-04-03T20:41:00.000000000",
          "2025-04-03T20:42:00.000000000",
          "2025-04-03T20:43:00.000000000",
          "2025-04-03T20:44:00.000000000",
          "2025-04-03T20:45:00.000000000",
          "2025-04-03T20:46:00.000000000",
          "2025-04-03T20:47:00.000000000",
          "2025-04-03T20:48:00.000000000",
          "2025-04-03T20:49:00.000000000",
          "2025-04-03T20:50:00.000000000",
          "2025-04-03T20:51:00.000000000",
          "2025-04-03T20:52:00.000000000",
          "2025-04-03T20:53:00.000000000",
          "2025-04-03T20:54:00.000000000",
          "2025-04-03T20:55:00.000000000",
          "2025-04-03T20:56:00.000000000",
          "2025-04-03T20:57:00.000000000",
          "2025-04-03T20:58:00.000000000",
          "2025-04-03T20:59:00.000000000",
          "2025-04-03T21:00:00.000000000"
         ],
         "y": {
          "bdata": "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",
          "dtype": "f8"
         }
        },
        {
         "hoveron": "points",
         "hovertemplate": "Trade 1: Return: 0.60%<extra></extra>",
         "line": {
          "color": "green",
          "width": 3
         },
         "marker": {
          "color": "green",
          "size": 4
         },
         "mode": "lines+markers",
         "name": "Trade 1",
         "type": "scatter",
         "visible": true,
         "x": [
          "2025-04-03T14:29:00.000000000",
          "2025-04-03T14:30:00.000000000"
         ],
         "y": {
          "bdata": "DAIrhxa3aUB7FK5H4d5pQA==",
          "dtype": "f8"
         }
        },
        {
         "hoveron": "points",
         "hovertemplate": "Trade 2: Return: 0.89%<extra></extra>",
         "line": {
          "color": "green",
          "width": 3
         },
         "marker": {
          "color": "green",
          "size": 4
         },
         "mode": "lines+markers",
         "name": "Trade 2",
         "type": "scatter",
         "visible": true,
         "x": [
          "2025-04-03T14:31:00.000000000",
          "2025-04-03T14:32:00.000000000",
          "2025-04-03T14:33:00.000000000",
          "2025-04-03T14:34:00.000000000"
         ],
         "y": {
          "bdata": "MzMzMzOjaUCkcD0K17dpQFyPwvUozGlAPQrXo3DdaUA=",
          "dtype": "f8"
         }
        },
        {
         "hoveron": "points",
         "hovertemplate": "Trade 3: Return: 0.38%<extra></extra>",
         "line": {
          "color": "green",
          "width": 3
         },
         "marker": {
          "color": "green",
          "size": 4
         },
         "mode": "lines+markers",
         "name": "Trade 3",
         "type": "scatter",
         "visible": true,
         "x": [
          "2025-04-03T14:35:00.000000000",
          "2025-04-03T14:36:00.000000000"
         ],
         "y": {
          "bdata": "zczMzMysaUD2KFyPwsVpQA==",
          "dtype": "f8"
         }
        },
        {
         "hoveron": "points",
         "hovertemplate": "Trade 4: Return: 0.59%<extra></extra>",
         "line": {
          "color": "green",
          "width": 3
         },
         "marker": {
          "color": "green",
          "size": 4
         },
         "mode": "lines+markers",
         "name": "Trade 4",
         "type": "scatter",
         "visible": true,
         "x": [
          "2025-04-03T14:43:00.000000000",
          "2025-04-03T14:44:00.000000000",
          "2025-04-03T14:45:00.000000000",
          "2025-04-03T14:46:00.000000000"
         ],
         "y": {
          "bdata": "9ihcj8JVaUDNzMzMzFxpQKRwPQrXZ2lAuB6F61F8aUA=",
          "dtype": "f8"
         }
        },
        {
         "hoveron": "points",
         "hovertemplate": "Trade 5: Return: 0.85%<extra></extra>",
         "line": {
          "color": "green",
          "width": 3
         },
         "marker": {
          "color": "green",
          "size": 4
         },
         "mode": "lines+markers",
         "name": "Trade 5",
         "type": "scatter",
         "visible": true,
         "x": [
          "2025-04-03T14:48:00.000000000",
          "2025-04-03T14:49:00.000000000",
          "2025-04-03T14:50:00.000000000",
          "2025-04-03T14:51:00.000000000",
          "2025-04-03T14:52:00.000000000"
         ],
         "y": {
          "bdata": "UrgehetlaUDsUbgehWtpQBSuR+F6jGlAKVyPwvWIaUDhehSuR51pQA==",
          "dtype": "f8"
         }
        },
        {
         "hoveron": "points",
         "hovertemplate": "Trade 6: Return: 0.52%<extra></extra>",
         "line": {
          "color": "green",
          "width": 3
         },
         "marker": {
          "color": "green",
          "size": 4
         },
         "mode": "lines+markers",
         "name": "Trade 6",
         "type": "scatter",
         "visible": true,
         "x": [
          "2025-04-03T14:57:00.000000000",
          "2025-04-03T14:58:00.000000000",
          "2025-04-03T14:59:00.000000000"
         ],
         "y": {
          "bdata": "9ihcj8JpaUBSuB6F64FpQME5I0p7i2lA",
          "dtype": "f8"
         }
        },
        {
         "hoveron": "points",
         "hovertemplate": "Trade 7: Return: 1.39%<extra></extra>",
         "line": {
          "color": "green",
          "width": 3
         },
         "marker": {
          "color": "green",
          "size": 4
         },
         "mode": "lines+markers",
         "name": "Trade 7",
         "type": "scatter",
         "visible": true,
         "x": [
          "2025-04-03T15:09:00.000000000",
          "2025-04-03T15:10:00.000000000",
          "2025-04-03T15:11:00.000000000",
          "2025-04-03T15:12:00.000000000",
          "2025-04-03T15:13:00.000000000",
          "2025-04-03T15:14:00.000000000",
          "2025-04-03T15:15:00.000000000",
          "2025-04-03T15:16:00.000000000",
          "2025-04-03T15:17:00.000000000",
          "2025-04-03T15:18:00.000000000",
          "2025-04-03T15:19:00.000000000",
          "2025-04-03T15:20:00.000000000",
          "2025-04-03T15:21:00.000000000",
          "2025-04-03T15:22:00.000000000",
          "2025-04-03T15:23:00.000000000",
          "2025-04-03T15:24:00.000000000",
          "2025-04-03T15:25:00.000000000",
          "2025-04-03T15:26:00.000000000",
          "2025-04-03T15:27:00.000000000",
          "2025-04-03T15:28:00.000000000",
          "2025-04-03T15:29:00.000000000",
          "2025-04-03T15:30:00.000000000",
          "2025-04-03T15:31:00.000000000",
          "2025-04-03T15:32:00.000000000"
         ],
         "y": {
          "bdata": "exSuR+FuaUCamZmZmXFpQOF6FK5HeWlAexSuR+F6aUCrPldbsXlpQFK4HoXrgWlAexSuR+GOaUAfhetRuJZpQOF6FK5HmWlAzczMzMyUaUDNzMzMzIxpQHsUrkfhlmlAZmZmZmaOaUBxPQrXo5RpQI/C9Shcl2lAcT0K16OYaUCF61G4HrlpQOxRuB6Fs2lArkfhehTCaUAAAAAAALhpQLgehetRtGlAexSuR+HGaUBcj8L1KMRpQOF6FK5HyWlA",
          "dtype": "f8"
         }
        },
        {
         "hoveron": "points",
         "hovertemplate": "Trade 8: Return: 0.24%<extra></extra>",
         "line": {
          "color": "green",
          "width": 3
         },
         "marker": {
          "color": "green",
          "size": 4
         },
         "mode": "lines+markers",
         "name": "Trade 8",
         "type": "scatter",
         "visible": true,
         "x": [
          "2025-04-03T15:35:00.000000000",
          "2025-04-03T15:36:00.000000000",
          "2025-04-03T15:37:00.000000000"
         ],
         "y": {
          "bdata": "7FG4HoWzaUCF61G4HrlpQNejcD0Kw2lA",
          "dtype": "f8"
         }
        },
        {
         "hoveron": "points",
         "hovertemplate": "Trade 9: Return: 0.54%<extra></extra>",
         "line": {
          "color": "green",
          "width": 3
         },
         "marker": {
          "color": "green",
          "size": 4
         },
         "mode": "lines+markers",
         "name": "Trade 9",
         "type": "scatter",
         "visible": true,
         "x": [
          "2025-04-03T15:51:00.000000000",
          "2025-04-03T15:52:00.000000000",
          "2025-04-03T15:53:00.000000000",
          "2025-04-03T15:54:00.000000000",
          "2025-04-03T15:55:00.000000000",
          "2025-04-03T15:56:00.000000000",
          "2025-04-03T15:57:00.000000000",
          "2025-04-03T15:58:00.000000000"
         ],
         "y": {
          "bdata": "j8L1KFxvaUAfhetRuIJpQB+F61G4fmlASOF6FK5/aUCTGARWDodpQPYoXI/CjWlApHA9CteLaUDD9Shcj5JpQA==",
          "dtype": "f8"
         }
        },
        {
         "hoveron": "points",
         "hovertemplate": "Trade 10: Return: 0.57%<extra></extra>",
         "line": {
          "color": "green",
          "width": 3
         },
         "marker": {
          "color": "green",
          "size": 4
         },
         "mode": "lines+markers",
         "name": "Trade 10",
         "type": "scatter",
         "visible": true,
         "x": [
          "2025-04-03T16:06:00.000000000",
          "2025-04-03T16:07:00.000000000",
          "2025-04-03T16:08:00.000000000",
          "2025-04-03T16:09:00.000000000",
          "2025-04-03T16:10:00.000000000",
          "2025-04-03T16:11:00.000000000",
          "2025-04-03T16:12:00.000000000",
          "2025-04-03T16:13:00.000000000",
          "2025-04-03T16:14:00.000000000",
          "2025-04-03T16:15:00.000000000",
          "2025-04-03T16:16:00.000000000",
          "2025-04-03T16:17:00.000000000",
          "2025-04-03T16:18:00.000000000"
         ],
         "y": {
          "bdata": "cT0K16N0aUCkcD0K13dpQGZmZmZmfmlAMzMzMzN/aUAK16NwPYJpQDMzMzMzi2lAhetRuB6FaUApXI/C9YhpQArXo3A9hmlAbVZ9rraOaUA9CtejcJVpQKRwPQrXk2lAmpmZmZmZaUA=",
          "dtype": "f8"
         }
        },
        {
         "hoveron": "points",
         "hovertemplate": "Trade 11: Return: 1.50%<extra></extra>",
         "line": {
          "color": "green",
          "width": 3
         },
         "marker": {
          "color": "green",
          "size": 4
         },
         "mode": "lines+markers",
         "name": "Trade 11",
         "type": "scatter",
         "visible": true,
         "x": [
          "2025-04-03T16:31:00.000000000",
          "2025-04-03T16:32:00.000000000",
          "2025-04-03T16:33:00.000000000",
          "2025-04-03T16:34:00.000000000",
          "2025-04-03T16:35:00.000000000",
          "2025-04-03T16:36:00.000000000",
          "2025-04-03T16:37:00.000000000",
          "2025-04-03T16:38:00.000000000",
          "2025-04-03T16:39:00.000000000",
          "2025-04-03T16:40:00.000000000",
          "2025-04-03T16:41:00.000000000",
          "2025-04-03T16:42:00.000000000",
          "2025-04-03T16:43:00.000000000",
          "2025-04-03T16:44:00.000000000",
          "2025-04-03T16:45:00.000000000",
          "2025-04-03T16:46:00.000000000",
          "2025-04-03T16:47:00.000000000",
          "2025-04-03T16:48:00.000000000",
          "2025-04-03T16:49:00.000000000",
          "2025-04-03T16:50:00.000000000",
          "2025-04-03T16:51:00.000000000",
          "2025-04-03T16:52:00.000000000",
          "2025-04-03T16:53:00.000000000",
          "2025-04-03T16:54:00.000000000",
          "2025-04-03T16:55:00.000000000",
          "2025-04-03T16:56:00.000000000",
          "2025-04-03T16:57:00.000000000",
          "2025-04-03T16:58:00.000000000",
          "2025-04-03T16:59:00.000000000",
          "2025-04-03T17:00:00.000000000",
          "2025-04-03T17:01:00.000000000",
          "2025-04-03T17:02:00.000000000",
          "2025-04-03T17:03:00.000000000",
          "2025-04-03T17:04:00.000000000",
          "2025-04-03T17:05:00.000000000",
          "2025-04-03T17:06:00.000000000",
          "2025-04-03T17:07:00.000000000",
          "2025-04-03T17:08:00.000000000",
          "2025-04-03T17:09:00.000000000",
          "2025-04-03T17:10:00.000000000",
          "2025-04-03T17:11:00.000000000",
          "2025-04-03T17:12:00.000000000",
          "2025-04-03T17:13:00.000000000",
          "2025-04-03T17:14:00.000000000"
         ],
         "y": {
          "bdata": "Urgehet5aUAAAAAAAIxpQLgehetRlGlAXI/C9SicaUCrPldbsZdpQHE9CtejmGlA2PD0SlmeaUDXo3A9CqtpQArXo3A9qmlAw/UoXI+uaUAK16NwPbJpQDMzMzMzu2lAKVyPwvXAaUB7FK5H4cZpQPYoXI/CtWlApHA9Cte3aUCBJsKGp7FpQJqZmZmZuWlAH4XrUbi2aUBcj8L1KKxpQGZmZmZmpmlADk+vlGWmaUDoaiv2l6lpQEjhehSut2lAgEi/fR20aUAUrkfherxpQAAAAAAAuGlAWRe30QC4aUDXo3A9CrNpQFK4HoXruWlA9ihcj8K9aUCuR+F6FL5pQHE9CtejuGlAImx4eqWyaUDhehSuR7lpQFyPwvUotGlAhetRuB69aUAUrkfhesRpQGZmZmZmwmlAcT0K16PIaUBSuB6F681pQArXo3A90mlAZmZmZmbaaUDsUbgehdtpQA==",
          "dtype": "f8"
         }
        },
        {
         "hoveron": "points",
         "hovertemplate": "Trade 12: Return: 0.31%<extra></extra>",
         "line": {
          "color": "green",
          "width": 3
         },
         "marker": {
          "color": "green",
          "size": 4
         },
         "mode": "lines+markers",
         "name": "Trade 12",
         "type": "scatter",
         "visible": true,
         "x": [
          "2025-04-03T17:57:00.000000000",
          "2025-04-03T17:58:00.000000000",
          "2025-04-03T17:59:00.000000000",
          "2025-04-03T18:00:00.000000000",
          "2025-04-03T18:01:00.000000000",
          "2025-04-03T18:02:00.000000000",
          "2025-04-03T18:03:00.000000000",
          "2025-04-03T18:04:00.000000000",
          "2025-04-03T18:05:00.000000000",
          "2025-04-03T18:06:00.000000000",
          "2025-04-03T18:07:00.000000000"
         ],
         "y": {
          "bdata": "TtGRXP6VaUAAAAAAAJhpQFK4HoXrmWlAmpmZmZmhaUAAAAAAAKBpQFtCPujZqGlAFK5H4XqkaUAfhetRuKZpQB+F61G4omlAw/UoXI+maUAK16NwPappQA==",
          "dtype": "f8"
         }
        },
        {
         "hoveron": "points",
         "hovertemplate": "Trade 13: Return: 0.20%<extra></extra>",
         "line": {
          "color": "green",
          "width": 3
         },
         "marker": {
          "color": "green",
          "size": 4
         },
         "mode": "lines+markers",
         "name": "Trade 13",
         "type": "scatter",
         "visible": true,
         "x": [
          "2025-04-03T18:10:00.000000000",
          "2025-04-03T18:11:00.000000000",
          "2025-04-03T18:12:00.000000000",
          "2025-04-03T18:13:00.000000000"
         ],
         "y": {
          "bdata": "KVyPwvWYaUDNzMzMzKRpQIXrUbgeoWlA/Bhz1xKmaUA=",
          "dtype": "f8"
         }
        },
        {
         "hoveron": "points",
         "hovertemplate": "Trade 14: Return: 0.32%<extra></extra>",
         "line": {
          "color": "green",
          "width": 3
         },
         "marker": {
          "color": "green",
          "size": 4
         },
         "mode": "lines+markers",
         "name": "Trade 14",
         "type": "scatter",
         "visible": true,
         "x": [
          "2025-04-03T18:33:00.000000000",
          "2025-04-03T18:34:00.000000000",
          "2025-04-03T18:35:00.000000000",
          "2025-04-03T18:36:00.000000000",
          "2025-04-03T18:37:00.000000000",
          "2025-04-03T18:38:00.000000000",
          "2025-04-03T18:39:00.000000000",
          "2025-04-03T18:40:00.000000000",
          "2025-04-03T18:41:00.000000000",
          "2025-04-03T18:42:00.000000000",
          "2025-04-03T18:43:00.000000000",
          "2025-04-03T18:44:00.000000000",
          "2025-04-03T18:45:00.000000000"
         ],
         "y": {
          "bdata": "MzMzMzN7aUAi/fZ14IJpQFK4HoXriWlAXkvIBz2DaUDD9Shcj4ZpQK5H4XoUjmlAexSuR+GKaUDXo3A9CotpQFyPwvUojGlAH4XrUbiGaUB7FK5H4YppQHsUrkfhjmlAAAAAAACQaUA=",
          "dtype": "f8"
         }
        },
        {
         "hoveron": "points",
         "hovertemplate": "Trade 15: Return: 0.26%<extra></extra>",
         "line": {
          "color": "green",
          "width": 3
         },
         "marker": {
          "color": "green",
          "size": 4
         },
         "mode": "lines+markers",
         "name": "Trade 15",
         "type": "scatter",
         "visible": true,
         "x": [
          "2025-04-03T19:18:00.000000000",
          "2025-04-03T19:19:00.000000000",
          "2025-04-03T19:20:00.000000000",
          "2025-04-03T19:21:00.000000000",
          "2025-04-03T19:22:00.000000000"
         ],
         "y": {
          "bdata": "4XoUrkdZaUApXI/C9WBpQHE9CtejYGlA16NwPQpnaUAK16NwPWppQA==",
          "dtype": "f8"
         }
        },
        {
         "hoveron": "points",
         "hovertemplate": "Trade 16: Return: 0.23%<extra></extra>",
         "line": {
          "color": "green",
          "width": 3
         },
         "marker": {
          "color": "green",
          "size": 4
         },
         "mode": "lines+markers",
         "name": "Trade 16",
         "type": "scatter",
         "visible": true,
         "x": [
          "2025-04-03T19:28:00.000000000",
          "2025-04-03T19:29:00.000000000",
          "2025-04-03T19:30:00.000000000",
          "2025-04-03T19:31:00.000000000",
          "2025-04-03T19:32:00.000000000",
          "2025-04-03T19:33:00.000000000"
         ],
         "y": {
          "bdata": "mpmZmZlZaUAAAAAAAGBpQD0K16NwYWlA9ihcj8JdaUDhehSuR2FpQH/7OnDOaGlA",
          "dtype": "f8"
         }
        },
        {
         "hoveron": "points",
         "hovertemplate": "Trade 17: Return: 0.33%<extra></extra>",
         "line": {
          "color": "green",
          "width": 3
         },
         "marker": {
          "color": "green",
          "size": 4
         },
         "mode": "lines+markers",
         "name": "Trade 17",
         "type": "scatter",
         "visible": true,
         "x": [
          "2025-04-03T19:37:00.000000000",
          "2025-04-03T19:38:00.000000000",
          "2025-04-03T19:39:00.000000000",
          "2025-04-03T19:40:00.000000000",
          "2025-04-03T19:41:00.000000000",
          "2025-04-03T19:42:00.000000000",
          "2025-04-03T19:43:00.000000000",
          "2025-04-03T19:44:00.000000000",
          "2025-04-03T19:45:00.000000000",
          "2025-04-03T19:46:00.000000000",
          "2025-04-03T19:47:00.000000000",
          "2025-04-03T19:48:00.000000000",
          "2025-04-03T19:49:00.000000000"
         ],
         "y": {
          "bdata": "7FG4HoVTaUAfhetRuFZpQPYoXI/CXWlApHA9CtdbaUAfhetRuGZpQDMzMzMzY2lAcT0K16NgaUAzMzMzM2NpQPYoXI/CXWlAexSuR+FeaUAUrkfhemhpQEjhehSuZ2lAqoJRSZ1oaUA=",
          "dtype": "f8"
         }
        },
        {
         "hoveron": "points",
         "hovertemplate": "Trade 18: Return: 1.17%<extra></extra>",
         "line": {
          "color": "green",
          "width": 3
         },
         "marker": {
          "color": "green",
          "size": 4
         },
         "mode": "lines+markers",
         "name": "Trade 18",
         "type": "scatter",
         "visible": true,
         "x": [
          "2025-04-03T20:49:00.000000000",
          "2025-04-03T20:50:00.000000000",
          "2025-04-03T20:51:00.000000000",
          "2025-04-03T20:52:00.000000000",
          "2025-04-03T20:53:00.000000000",
          "2025-04-03T20:54:00.000000000",
          "2025-04-03T20:55:00.000000000"
         ],
         "y": {
          "bdata": "UrgehespaUBmZmZmZj5pQIxK6gQ0S2lAH4XrUbhKaUCamZmZmU1pQFyPwvUoXGlA4XoUrkd1aUA=",
          "dtype": "f8"
         }
        },
        {
         "hovertemplate": "Date: %{x}<br>Signal: %{y:.2f}<extra></extra>",
         "line": {
          "color": "blue",
          "dash": "dot",
          "width": 2
         },
         "mode": "lines",
         "name": "Signal (Normalized)",
         "type": "scatter",
         "visible": true,
         "x": [
          "2025-04-03T13:30:00.000000000",
          "2025-04-03T13:31:00.000000000",
          "2025-04-03T13:32:00.000000000",
          "2025-04-03T13:33:00.000000000",
          "2025-04-03T13:34:00.000000000",
          "2025-04-03T13:35:00.000000000",
          "2025-04-03T13:36:00.000000000",
          "2025-04-03T13:37:00.000000000",
          "2025-04-03T13:38:00.000000000",
          "2025-04-03T13:39:00.000000000",
          "2025-04-03T13:40:00.000000000",
          "2025-04-03T13:41:00.000000000",
          "2025-04-03T13:42:00.000000000",
          "2025-04-03T13:43:00.000000000",
          "2025-04-03T13:44:00.000000000",
          "2025-04-03T13:45:00.000000000",
          "2025-04-03T13:46:00.000000000",
          "2025-04-03T13:47:00.000000000",
          "2025-04-03T13:48:00.000000000",
          "2025-04-03T13:49:00.000000000",
          "2025-04-03T13:50:00.000000000",
          "2025-04-03T13:51:00.000000000",
          "2025-04-03T13:52:00.000000000",
          "2025-04-03T13:53:00.000000000",
          "2025-04-03T13:54:00.000000000",
          "2025-04-03T13:55:00.000000000",
          "2025-04-03T13:56:00.000000000",
          "2025-04-03T13:57:00.000000000",
          "2025-04-03T13:58:00.000000000",
          "2025-04-03T13:59:00.000000000",
          "2025-04-03T14:00:00.000000000",
          "2025-04-03T14:01:00.000000000",
          "2025-04-03T14:02:00.000000000",
          "2025-04-03T14:03:00.000000000",
          "2025-04-03T14:04:00.000000000",
          "2025-04-03T14:05:00.000000000",
          "2025-04-03T14:06:00.000000000",
          "2025-04-03T14:07:00.000000000",
          "2025-04-03T14:08:00.000000000",
          "2025-04-03T14:09:00.000000000",
          "2025-04-03T14:10:00.000000000",
          "2025-04-03T14:11:00.000000000",
          "2025-04-03T14:12:00.000000000",
          "2025-04-03T14:13:00.000000000",
          "2025-04-03T14:14:00.000000000",
          "2025-04-03T14:15:00.000000000",
          "2025-04-03T14:16:00.000000000",
          "2025-04-03T14:17:00.000000000",
          "2025-04-03T14:18:00.000000000",
          "2025-04-03T14:19:00.000000000",
          "2025-04-03T14:20:00.000000000",
          "2025-04-03T14:21:00.000000000",
          "2025-04-03T14:22:00.000000000",
          "2025-04-03T14:23:00.000000000",
          "2025-04-03T14:24:00.000000000",
          "2025-04-03T14:25:00.000000000",
          "2025-04-03T14:26:00.000000000",
          "2025-04-03T14:27:00.000000000",
          "2025-04-03T14:28:00.000000000",
          "2025-04-03T14:29:00.000000000",
          "2025-04-03T14:30:00.000000000",
          "2025-04-03T14:31:00.000000000",
          "2025-04-03T14:32:00.000000000",
          "2025-04-03T14:33:00.000000000",
          "2025-04-03T14:34:00.000000000",
          "2025-04-03T14:35:00.000000000",
          "2025-04-03T14:36:00.000000000",
          "2025-04-03T14:37:00.000000000",
          "2025-04-03T14:38:00.000000000",
          "2025-04-03T14:39:00.000000000",
          "2025-04-03T14:40:00.000000000",
          "2025-04-03T14:41:00.000000000",
          "2025-04-03T14:42:00.000000000",
          "2025-04-03T14:43:00.000000000",
          "2025-04-03T14:44:00.000000000",
          "2025-04-03T14:45:00.000000000",
          "2025-04-03T14:46:00.000000000",
          "2025-04-03T14:47:00.000000000",
          "2025-04-03T14:48:00.000000000",
          "2025-04-03T14:49:00.000000000",
          "2025-04-03T14:50:00.000000000",
          "2025-04-03T14:51:00.000000000",
          "2025-04-03T14:52:00.000000000",
          "2025-04-03T14:53:00.000000000",
          "2025-04-03T14:54:00.000000000",
          "2025-04-03T14:55:00.000000000",
          "2025-04-03T14:56:00.000000000",
          "2025-04-03T14:57:00.000000000",
          "2025-04-03T14:58:00.000000000",
          "2025-04-03T14:59:00.000000000",
          "2025-04-03T15:00:00.000000000",
          "2025-04-03T15:01:00.000000000",
          "2025-04-03T15:02:00.000000000",
          "2025-04-03T15:03:00.000000000",
          "2025-04-03T15:04:00.000000000",
          "2025-04-03T15:05:00.000000000",
          "2025-04-03T15:06:00.000000000",
          "2025-04-03T15:07:00.000000000",
          "2025-04-03T15:08:00.000000000",
          "2025-04-03T15:09:00.000000000",
          "2025-04-03T15:10:00.000000000",
          "2025-04-03T15:11:00.000000000",
          "2025-04-03T15:12:00.000000000",
          "2025-04-03T15:13:00.000000000",
          "2025-04-03T15:14:00.000000000",
          "2025-04-03T15:15:00.000000000",
          "2025-04-03T15:16:00.000000000",
          "2025-04-03T15:17:00.000000000",
          "2025-04-03T15:18:00.000000000",
          "2025-04-03T15:19:00.000000000",
          "2025-04-03T15:20:00.000000000",
          "2025-04-03T15:21:00.000000000",
          "2025-04-03T15:22:00.000000000",
          "2025-04-03T15:23:00.000000000",
          "2025-04-03T15:24:00.000000000",
          "2025-04-03T15:25:00.000000000",
          "2025-04-03T15:26:00.000000000",
          "2025-04-03T15:27:00.000000000",
          "2025-04-03T15:28:00.000000000",
          "2025-04-03T15:29:00.000000000",
          "2025-04-03T15:30:00.000000000",
          "2025-04-03T15:31:00.000000000",
          "2025-04-03T15:32:00.000000000",
          "2025-04-03T15:33:00.000000000",
          "2025-04-03T15:34:00.000000000",
          "2025-04-03T15:35:00.000000000",
          "2025-04-03T15:36:00.000000000",
          "2025-04-03T15:37:00.000000000",
          "2025-04-03T15:38:00.000000000",
          "2025-04-03T15:39:00.000000000",
          "2025-04-03T15:40:00.000000000",
          "2025-04-03T15:41:00.000000000",
          "2025-04-03T15:42:00.000000000",
          "2025-04-03T15:43:00.000000000",
          "2025-04-03T15:44:00.000000000",
          "2025-04-03T15:45:00.000000000",
          "2025-04-03T15:46:00.000000000",
          "2025-04-03T15:47:00.000000000",
          "2025-04-03T15:48:00.000000000",
          "2025-04-03T15:49:00.000000000",
          "2025-04-03T15:50:00.000000000",
          "2025-04-03T15:51:00.000000000",
          "2025-04-03T15:52:00.000000000",
          "2025-04-03T15:53:00.000000000",
          "2025-04-03T15:54:00.000000000",
          "2025-04-03T15:55:00.000000000",
          "2025-04-03T15:56:00.000000000",
          "2025-04-03T15:57:00.000000000",
          "2025-04-03T15:58:00.000000000",
          "2025-04-03T15:59:00.000000000",
          "2025-04-03T16:00:00.000000000",
          "2025-04-03T16:01:00.000000000",
          "2025-04-03T16:02:00.000000000",
          "2025-04-03T16:03:00.000000000",
          "2025-04-03T16:04:00.000000000",
          "2025-04-03T16:05:00.000000000",
          "2025-04-03T16:06:00.000000000",
          "2025-04-03T16:07:00.000000000",
          "2025-04-03T16:08:00.000000000",
          "2025-04-03T16:09:00.000000000",
          "2025-04-03T16:10:00.000000000",
          "2025-04-03T16:11:00.000000000",
          "2025-04-03T16:12:00.000000000",
          "2025-04-03T16:13:00.000000000",
          "2025-04-03T16:14:00.000000000",
          "2025-04-03T16:15:00.000000000",
          "2025-04-03T16:16:00.000000000",
          "2025-04-03T16:17:00.000000000",
          "2025-04-03T16:18:00.000000000",
          "2025-04-03T16:19:00.000000000",
          "2025-04-03T16:20:00.000000000",
          "2025-04-03T16:21:00.000000000",
          "2025-04-03T16:22:00.000000000",
          "2025-04-03T16:23:00.000000000",
          "2025-04-03T16:24:00.000000000",
          "2025-04-03T16:25:00.000000000",
          "2025-04-03T16:26:00.000000000",
          "2025-04-03T16:27:00.000000000",
          "2025-04-03T16:28:00.000000000",
          "2025-04-03T16:29:00.000000000",
          "2025-04-03T16:30:00.000000000",
          "2025-04-03T16:31:00.000000000",
          "2025-04-03T16:32:00.000000000",
          "2025-04-03T16:33:00.000000000",
          "2025-04-03T16:34:00.000000000",
          "2025-04-03T16:35:00.000000000",
          "2025-04-03T16:36:00.000000000",
          "2025-04-03T16:37:00.000000000",
          "2025-04-03T16:38:00.000000000",
          "2025-04-03T16:39:00.000000000",
          "2025-04-03T16:40:00.000000000",
          "2025-04-03T16:41:00.000000000",
          "2025-04-03T16:42:00.000000000",
          "2025-04-03T16:43:00.000000000",
          "2025-04-03T16:44:00.000000000",
          "2025-04-03T16:45:00.000000000",
          "2025-04-03T16:46:00.000000000",
          "2025-04-03T16:47:00.000000000",
          "2025-04-03T16:48:00.000000000",
          "2025-04-03T16:49:00.000000000",
          "2025-04-03T16:50:00.000000000",
          "2025-04-03T16:51:00.000000000",
          "2025-04-03T16:52:00.000000000",
          "2025-04-03T16:53:00.000000000",
          "2025-04-03T16:54:00.000000000",
          "2025-04-03T16:55:00.000000000",
          "2025-04-03T16:56:00.000000000",
          "2025-04-03T16:57:00.000000000",
          "2025-04-03T16:58:00.000000000",
          "2025-04-03T16:59:00.000000000",
          "2025-04-03T17:00:00.000000000",
          "2025-04-03T17:01:00.000000000",
          "2025-04-03T17:02:00.000000000",
          "2025-04-03T17:03:00.000000000",
          "2025-04-03T17:04:00.000000000",
          "2025-04-03T17:05:00.000000000",
          "2025-04-03T17:06:00.000000000",
          "2025-04-03T17:07:00.000000000",
          "2025-04-03T17:08:00.000000000",
          "2025-04-03T17:09:00.000000000",
          "2025-04-03T17:10:00.000000000",
          "2025-04-03T17:11:00.000000000",
          "2025-04-03T17:12:00.000000000",
          "2025-04-03T17:13:00.000000000",
          "2025-04-03T17:14:00.000000000",
          "2025-04-03T17:15:00.000000000",
          "2025-04-03T17:16:00.000000000",
          "2025-04-03T17:17:00.000000000",
          "2025-04-03T17:18:00.000000000",
          "2025-04-03T17:19:00.000000000",
          "2025-04-03T17:20:00.000000000",
          "2025-04-03T17:21:00.000000000",
          "2025-04-03T17:22:00.000000000",
          "2025-04-03T17:23:00.000000000",
          "2025-04-03T17:24:00.000000000",
          "2025-04-03T17:25:00.000000000",
          "2025-04-03T17:26:00.000000000",
          "2025-04-03T17:27:00.000000000",
          "2025-04-03T17:28:00.000000000",
          "2025-04-03T17:29:00.000000000",
          "2025-04-03T17:30:00.000000000",
          "2025-04-03T17:31:00.000000000",
          "2025-04-03T17:32:00.000000000",
          "2025-04-03T17:33:00.000000000",
          "2025-04-03T17:34:00.000000000",
          "2025-04-03T17:35:00.000000000",
          "2025-04-03T17:36:00.000000000",
          "2025-04-03T17:37:00.000000000",
          "2025-04-03T17:38:00.000000000",
          "2025-04-03T17:39:00.000000000",
          "2025-04-03T17:40:00.000000000",
          "2025-04-03T17:41:00.000000000",
          "2025-04-03T17:42:00.000000000",
          "2025-04-03T17:43:00.000000000",
          "2025-04-03T17:44:00.000000000",
          "2025-04-03T17:45:00.000000000",
          "2025-04-03T17:46:00.000000000",
          "2025-04-03T17:47:00.000000000",
          "2025-04-03T17:48:00.000000000",
          "2025-04-03T17:49:00.000000000",
          "2025-04-03T17:50:00.000000000",
          "2025-04-03T17:51:00.000000000",
          "2025-04-03T17:52:00.000000000",
          "2025-04-03T17:53:00.000000000",
          "2025-04-03T17:54:00.000000000",
          "2025-04-03T17:55:00.000000000",
          "2025-04-03T17:56:00.000000000",
          "2025-04-03T17:57:00.000000000",
          "2025-04-03T17:58:00.000000000",
          "2025-04-03T17:59:00.000000000",
          "2025-04-03T18:00:00.000000000",
          "2025-04-03T18:01:00.000000000",
          "2025-04-03T18:02:00.000000000",
          "2025-04-03T18:03:00.000000000",
          "2025-04-03T18:04:00.000000000",
          "2025-04-03T18:05:00.000000000",
          "2025-04-03T18:06:00.000000000",
          "2025-04-03T18:07:00.000000000",
          "2025-04-03T18:08:00.000000000",
          "2025-04-03T18:09:00.000000000",
          "2025-04-03T18:10:00.000000000",
          "2025-04-03T18:11:00.000000000",
          "2025-04-03T18:12:00.000000000",
          "2025-04-03T18:13:00.000000000",
          "2025-04-03T18:14:00.000000000",
          "2025-04-03T18:15:00.000000000",
          "2025-04-03T18:16:00.000000000",
          "2025-04-03T18:17:00.000000000",
          "2025-04-03T18:18:00.000000000",
          "2025-04-03T18:19:00.000000000",
          "2025-04-03T18:20:00.000000000",
          "2025-04-03T18:21:00.000000000",
          "2025-04-03T18:22:00.000000000",
          "2025-04-03T18:23:00.000000000",
          "2025-04-03T18:24:00.000000000",
          "2025-04-03T18:25:00.000000000",
          "2025-04-03T18:26:00.000000000",
          "2025-04-03T18:27:00.000000000",
          "2025-04-03T18:28:00.000000000",
          "2025-04-03T18:29:00.000000000",
          "2025-04-03T18:30:00.000000000",
          "2025-04-03T18:31:00.000000000",
          "2025-04-03T18:32:00.000000000",
          "2025-04-03T18:33:00.000000000",
          "2025-04-03T18:34:00.000000000",
          "2025-04-03T18:35:00.000000000",
          "2025-04-03T18:36:00.000000000",
          "2025-04-03T18:37:00.000000000",
          "2025-04-03T18:38:00.000000000",
          "2025-04-03T18:39:00.000000000",
          "2025-04-03T18:40:00.000000000",
          "2025-04-03T18:41:00.000000000",
          "2025-04-03T18:42:00.000000000",
          "2025-04-03T18:43:00.000000000",
          "2025-04-03T18:44:00.000000000",
          "2025-04-03T18:45:00.000000000",
          "2025-04-03T18:46:00.000000000",
          "2025-04-03T18:47:00.000000000",
          "2025-04-03T18:48:00.000000000",
          "2025-04-03T18:49:00.000000000",
          "2025-04-03T18:50:00.000000000",
          "2025-04-03T18:51:00.000000000",
          "2025-04-03T18:52:00.000000000",
          "2025-04-03T18:53:00.000000000",
          "2025-04-03T18:54:00.000000000",
          "2025-04-03T18:55:00.000000000",
          "2025-04-03T18:56:00.000000000",
          "2025-04-03T18:57:00.000000000",
          "2025-04-03T18:58:00.000000000",
          "2025-04-03T18:59:00.000000000",
          "2025-04-03T19:00:00.000000000",
          "2025-04-03T19:01:00.000000000",
          "2025-04-03T19:02:00.000000000",
          "2025-04-03T19:03:00.000000000",
          "2025-04-03T19:04:00.000000000",
          "2025-04-03T19:05:00.000000000",
          "2025-04-03T19:06:00.000000000",
          "2025-04-03T19:07:00.000000000",
          "2025-04-03T19:08:00.000000000",
          "2025-04-03T19:09:00.000000000",
          "2025-04-03T19:10:00.000000000",
          "2025-04-03T19:11:00.000000000",
          "2025-04-03T19:12:00.000000000",
          "2025-04-03T19:13:00.000000000",
          "2025-04-03T19:14:00.000000000",
          "2025-04-03T19:15:00.000000000",
          "2025-04-03T19:16:00.000000000",
          "2025-04-03T19:17:00.000000000",
          "2025-04-03T19:18:00.000000000",
          "2025-04-03T19:19:00.000000000",
          "2025-04-03T19:20:00.000000000",
          "2025-04-03T19:21:00.000000000",
          "2025-04-03T19:22:00.000000000",
          "2025-04-03T19:23:00.000000000",
          "2025-04-03T19:24:00.000000000",
          "2025-04-03T19:25:00.000000000",
          "2025-04-03T19:26:00.000000000",
          "2025-04-03T19:27:00.000000000",
          "2025-04-03T19:28:00.000000000",
          "2025-04-03T19:29:00.000000000",
          "2025-04-03T19:30:00.000000000",
          "2025-04-03T19:31:00.000000000",
          "2025-04-03T19:32:00.000000000",
          "2025-04-03T19:33:00.000000000",
          "2025-04-03T19:34:00.000000000",
          "2025-04-03T19:35:00.000000000",
          "2025-04-03T19:36:00.000000000",
          "2025-04-03T19:37:00.000000000",
          "2025-04-03T19:38:00.000000000",
          "2025-04-03T19:39:00.000000000",
          "2025-04-03T19:40:00.000000000",
          "2025-04-03T19:41:00.000000000",
          "2025-04-03T19:42:00.000000000",
          "2025-04-03T19:43:00.000000000",
          "2025-04-03T19:44:00.000000000",
          "2025-04-03T19:45:00.000000000",
          "2025-04-03T19:46:00.000000000",
          "2025-04-03T19:47:00.000000000",
          "2025-04-03T19:48:00.000000000",
          "2025-04-03T19:49:00.000000000",
          "2025-04-03T19:50:00.000000000",
          "2025-04-03T19:51:00.000000000",
          "2025-04-03T19:52:00.000000000",
          "2025-04-03T19:53:00.000000000",
          "2025-04-03T19:54:00.000000000",
          "2025-04-03T19:55:00.000000000",
          "2025-04-03T19:56:00.000000000",
          "2025-04-03T19:57:00.000000000",
          "2025-04-03T19:58:00.000000000",
          "2025-04-03T19:59:00.000000000",
          "2025-04-03T20:00:00.000000000",
          "2025-04-03T20:01:00.000000000",
          "2025-04-03T20:02:00.000000000",
          "2025-04-03T20:03:00.000000000",
          "2025-04-03T20:04:00.000000000",
          "2025-04-03T20:05:00.000000000",
          "2025-04-03T20:06:00.000000000",
          "2025-04-03T20:07:00.000000000",
          "2025-04-03T20:08:00.000000000",
          "2025-04-03T20:09:00.000000000",
          "2025-04-03T20:10:00.000000000",
          "2025-04-03T20:11:00.000000000",
          "2025-04-03T20:12:00.000000000",
          "2025-04-03T20:13:00.000000000",
          "2025-04-03T20:14:00.000000000",
          "2025-04-03T20:15:00.000000000",
          "2025-04-03T20:16:00.000000000",
          "2025-04-03T20:17:00.000000000",
          "2025-04-03T20:18:00.000000000",
          "2025-04-03T20:19:00.000000000",
          "2025-04-03T20:20:00.000000000",
          "2025-04-03T20:21:00.000000000",
          "2025-04-03T20:22:00.000000000",
          "2025-04-03T20:23:00.000000000",
          "2025-04-03T20:24:00.000000000",
          "2025-04-03T20:25:00.000000000",
          "2025-04-03T20:26:00.000000000",
          "2025-04-03T20:27:00.000000000",
          "2025-04-03T20:28:00.000000000",
          "2025-04-03T20:29:00.000000000",
          "2025-04-03T20:30:00.000000000",
          "2025-04-03T20:31:00.000000000",
          "2025-04-03T20:32:00.000000000",
          "2025-04-03T20:33:00.000000000",
          "2025-04-03T20:34:00.000000000",
          "2025-04-03T20:35:00.000000000",
          "2025-04-03T20:36:00.000000000",
          "2025-04-03T20:37:00.000000000",
          "2025-04-03T20:38:00.000000000",
          "2025-04-03T20:39:00.000000000",
          "2025-04-03T20:40:00.000000000",
          "2025-04-03T20:41:00.000000000",
          "2025-04-03T20:42:00.000000000",
          "2025-04-03T20:43:00.000000000",
          "2025-04-03T20:44:00.000000000",
          "2025-04-03T20:45:00.000000000",
          "2025-04-03T20:46:00.000000000",
          "2025-04-03T20:47:00.000000000",
          "2025-04-03T20:48:00.000000000",
          "2025-04-03T20:49:00.000000000",
          "2025-04-03T20:50:00.000000000",
          "2025-04-03T20:51:00.000000000",
          "2025-04-03T20:52:00.000000000",
          "2025-04-03T20:53:00.000000000",
          "2025-04-03T20:54:00.000000000",
          "2025-04-03T20:55:00.000000000",
          "2025-04-03T20:56:00.000000000",
          "2025-04-03T20:57:00.000000000",
          "2025-04-03T20:58:00.000000000",
          "2025-04-03T20:59:00.000000000",
          "2025-04-03T21:00:00.000000000"
         ],
         "y": {
          "bdata": "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",
          "dtype": "f8"
         },
         "yaxis": "y2"
        },
        {
         "hovertemplate": "Date: %{x}<br>Smooth Signal: %{y:.2f}<extra></extra>",
         "line": {
          "color": "red",
          "dash": "dash",
          "width": 2
         },
         "mode": "lines",
         "name": "Smooth Signal (Normalized)",
         "type": "scatter",
         "visible": true,
         "x": [
          "2025-04-03T13:30:00.000000000",
          "2025-04-03T13:31:00.000000000",
          "2025-04-03T13:32:00.000000000",
          "2025-04-03T13:33:00.000000000",
          "2025-04-03T13:34:00.000000000",
          "2025-04-03T13:35:00.000000000",
          "2025-04-03T13:36:00.000000000",
          "2025-04-03T13:37:00.000000000",
          "2025-04-03T13:38:00.000000000",
          "2025-04-03T13:39:00.000000000",
          "2025-04-03T13:40:00.000000000",
          "2025-04-03T13:41:00.000000000",
          "2025-04-03T13:42:00.000000000",
          "2025-04-03T13:43:00.000000000",
          "2025-04-03T13:44:00.000000000",
          "2025-04-03T13:45:00.000000000",
          "2025-04-03T13:46:00.000000000",
          "2025-04-03T13:47:00.000000000",
          "2025-04-03T13:48:00.000000000",
          "2025-04-03T13:49:00.000000000",
          "2025-04-03T13:50:00.000000000",
          "2025-04-03T13:51:00.000000000",
          "2025-04-03T13:52:00.000000000",
          "2025-04-03T13:53:00.000000000",
          "2025-04-03T13:54:00.000000000",
          "2025-04-03T13:55:00.000000000",
          "2025-04-03T13:56:00.000000000",
          "2025-04-03T13:57:00.000000000",
          "2025-04-03T13:58:00.000000000",
          "2025-04-03T13:59:00.000000000",
          "2025-04-03T14:00:00.000000000",
          "2025-04-03T14:01:00.000000000",
          "2025-04-03T14:02:00.000000000",
          "2025-04-03T14:03:00.000000000",
          "2025-04-03T14:04:00.000000000",
          "2025-04-03T14:05:00.000000000",
          "2025-04-03T14:06:00.000000000",
          "2025-04-03T14:07:00.000000000",
          "2025-04-03T14:08:00.000000000",
          "2025-04-03T14:09:00.000000000",
          "2025-04-03T14:10:00.000000000",
          "2025-04-03T14:11:00.000000000",
          "2025-04-03T14:12:00.000000000",
          "2025-04-03T14:13:00.000000000",
          "2025-04-03T14:14:00.000000000",
          "2025-04-03T14:15:00.000000000",
          "2025-04-03T14:16:00.000000000",
          "2025-04-03T14:17:00.000000000",
          "2025-04-03T14:18:00.000000000",
          "2025-04-03T14:19:00.000000000",
          "2025-04-03T14:20:00.000000000",
          "2025-04-03T14:21:00.000000000",
          "2025-04-03T14:22:00.000000000",
          "2025-04-03T14:23:00.000000000",
          "2025-04-03T14:24:00.000000000",
          "2025-04-03T14:25:00.000000000",
          "2025-04-03T14:26:00.000000000",
          "2025-04-03T14:27:00.000000000",
          "2025-04-03T14:28:00.000000000",
          "2025-04-03T14:29:00.000000000",
          "2025-04-03T14:30:00.000000000",
          "2025-04-03T14:31:00.000000000",
          "2025-04-03T14:32:00.000000000",
          "2025-04-03T14:33:00.000000000",
          "2025-04-03T14:34:00.000000000",
          "2025-04-03T14:35:00.000000000",
          "2025-04-03T14:36:00.000000000",
          "2025-04-03T14:37:00.000000000",
          "2025-04-03T14:38:00.000000000",
          "2025-04-03T14:39:00.000000000",
          "2025-04-03T14:40:00.000000000",
          "2025-04-03T14:41:00.000000000",
          "2025-04-03T14:42:00.000000000",
          "2025-04-03T14:43:00.000000000",
          "2025-04-03T14:44:00.000000000",
          "2025-04-03T14:45:00.000000000",
          "2025-04-03T14:46:00.000000000",
          "2025-04-03T14:47:00.000000000",
          "2025-04-03T14:48:00.000000000",
          "2025-04-03T14:49:00.000000000",
          "2025-04-03T14:50:00.000000000",
          "2025-04-03T14:51:00.000000000",
          "2025-04-03T14:52:00.000000000",
          "2025-04-03T14:53:00.000000000",
          "2025-04-03T14:54:00.000000000",
          "2025-04-03T14:55:00.000000000",
          "2025-04-03T14:56:00.000000000",
          "2025-04-03T14:57:00.000000000",
          "2025-04-03T14:58:00.000000000",
          "2025-04-03T14:59:00.000000000",
          "2025-04-03T15:00:00.000000000",
          "2025-04-03T15:01:00.000000000",
          "2025-04-03T15:02:00.000000000",
          "2025-04-03T15:03:00.000000000",
          "2025-04-03T15:04:00.000000000",
          "2025-04-03T15:05:00.000000000",
          "2025-04-03T15:06:00.000000000",
          "2025-04-03T15:07:00.000000000",
          "2025-04-03T15:08:00.000000000",
          "2025-04-03T15:09:00.000000000",
          "2025-04-03T15:10:00.000000000",
          "2025-04-03T15:11:00.000000000",
          "2025-04-03T15:12:00.000000000",
          "2025-04-03T15:13:00.000000000",
          "2025-04-03T15:14:00.000000000",
          "2025-04-03T15:15:00.000000000",
          "2025-04-03T15:16:00.000000000",
          "2025-04-03T15:17:00.000000000",
          "2025-04-03T15:18:00.000000000",
          "2025-04-03T15:19:00.000000000",
          "2025-04-03T15:20:00.000000000",
          "2025-04-03T15:21:00.000000000",
          "2025-04-03T15:22:00.000000000",
          "2025-04-03T15:23:00.000000000",
          "2025-04-03T15:24:00.000000000",
          "2025-04-03T15:25:00.000000000",
          "2025-04-03T15:26:00.000000000",
          "2025-04-03T15:27:00.000000000",
          "2025-04-03T15:28:00.000000000",
          "2025-04-03T15:29:00.000000000",
          "2025-04-03T15:30:00.000000000",
          "2025-04-03T15:31:00.000000000",
          "2025-04-03T15:32:00.000000000",
          "2025-04-03T15:33:00.000000000",
          "2025-04-03T15:34:00.000000000",
          "2025-04-03T15:35:00.000000000",
          "2025-04-03T15:36:00.000000000",
          "2025-04-03T15:37:00.000000000",
          "2025-04-03T15:38:00.000000000",
          "2025-04-03T15:39:00.000000000",
          "2025-04-03T15:40:00.000000000",
          "2025-04-03T15:41:00.000000000",
          "2025-04-03T15:42:00.000000000",
          "2025-04-03T15:43:00.000000000",
          "2025-04-03T15:44:00.000000000",
          "2025-04-03T15:45:00.000000000",
          "2025-04-03T15:46:00.000000000",
          "2025-04-03T15:47:00.000000000",
          "2025-04-03T15:48:00.000000000",
          "2025-04-03T15:49:00.000000000",
          "2025-04-03T15:50:00.000000000",
          "2025-04-03T15:51:00.000000000",
          "2025-04-03T15:52:00.000000000",
          "2025-04-03T15:53:00.000000000",
          "2025-04-03T15:54:00.000000000",
          "2025-04-03T15:55:00.000000000",
          "2025-04-03T15:56:00.000000000",
          "2025-04-03T15:57:00.000000000",
          "2025-04-03T15:58:00.000000000",
          "2025-04-03T15:59:00.000000000",
          "2025-04-03T16:00:00.000000000",
          "2025-04-03T16:01:00.000000000",
          "2025-04-03T16:02:00.000000000",
          "2025-04-03T16:03:00.000000000",
          "2025-04-03T16:04:00.000000000",
          "2025-04-03T16:05:00.000000000",
          "2025-04-03T16:06:00.000000000",
          "2025-04-03T16:07:00.000000000",
          "2025-04-03T16:08:00.000000000",
          "2025-04-03T16:09:00.000000000",
          "2025-04-03T16:10:00.000000000",
          "2025-04-03T16:11:00.000000000",
          "2025-04-03T16:12:00.000000000",
          "2025-04-03T16:13:00.000000000",
          "2025-04-03T16:14:00.000000000",
          "2025-04-03T16:15:00.000000000",
          "2025-04-03T16:16:00.000000000",
          "2025-04-03T16:17:00.000000000",
          "2025-04-03T16:18:00.000000000",
          "2025-04-03T16:19:00.000000000",
          "2025-04-03T16:20:00.000000000",
          "2025-04-03T16:21:00.000000000",
          "2025-04-03T16:22:00.000000000",
          "2025-04-03T16:23:00.000000000",
          "2025-04-03T16:24:00.000000000",
          "2025-04-03T16:25:00.000000000",
          "2025-04-03T16:26:00.000000000",
          "2025-04-03T16:27:00.000000000",
          "2025-04-03T16:28:00.000000000",
          "2025-04-03T16:29:00.000000000",
          "2025-04-03T16:30:00.000000000",
          "2025-04-03T16:31:00.000000000",
          "2025-04-03T16:32:00.000000000",
          "2025-04-03T16:33:00.000000000",
          "2025-04-03T16:34:00.000000000",
          "2025-04-03T16:35:00.000000000",
          "2025-04-03T16:36:00.000000000",
          "2025-04-03T16:37:00.000000000",
          "2025-04-03T16:38:00.000000000",
          "2025-04-03T16:39:00.000000000",
          "2025-04-03T16:40:00.000000000",
          "2025-04-03T16:41:00.000000000",
          "2025-04-03T16:42:00.000000000",
          "2025-04-03T16:43:00.000000000",
          "2025-04-03T16:44:00.000000000",
          "2025-04-03T16:45:00.000000000",
          "2025-04-03T16:46:00.000000000",
          "2025-04-03T16:47:00.000000000",
          "2025-04-03T16:48:00.000000000",
          "2025-04-03T16:49:00.000000000",
          "2025-04-03T16:50:00.000000000",
          "2025-04-03T16:51:00.000000000",
          "2025-04-03T16:52:00.000000000",
          "2025-04-03T16:53:00.000000000",
          "2025-04-03T16:54:00.000000000",
          "2025-04-03T16:55:00.000000000",
          "2025-04-03T16:56:00.000000000",
          "2025-04-03T16:57:00.000000000",
          "2025-04-03T16:58:00.000000000",
          "2025-04-03T16:59:00.000000000",
          "2025-04-03T17:00:00.000000000",
          "2025-04-03T17:01:00.000000000",
          "2025-04-03T17:02:00.000000000",
          "2025-04-03T17:03:00.000000000",
          "2025-04-03T17:04:00.000000000",
          "2025-04-03T17:05:00.000000000",
          "2025-04-03T17:06:00.000000000",
          "2025-04-03T17:07:00.000000000",
          "2025-04-03T17:08:00.000000000",
          "2025-04-03T17:09:00.000000000",
          "2025-04-03T17:10:00.000000000",
          "2025-04-03T17:11:00.000000000",
          "2025-04-03T17:12:00.000000000",
          "2025-04-03T17:13:00.000000000",
          "2025-04-03T17:14:00.000000000",
          "2025-04-03T17:15:00.000000000",
          "2025-04-03T17:16:00.000000000",
          "2025-04-03T17:17:00.000000000",
          "2025-04-03T17:18:00.000000000",
          "2025-04-03T17:19:00.000000000",
          "2025-04-03T17:20:00.000000000",
          "2025-04-03T17:21:00.000000000",
          "2025-04-03T17:22:00.000000000",
          "2025-04-03T17:23:00.000000000",
          "2025-04-03T17:24:00.000000000",
          "2025-04-03T17:25:00.000000000",
          "2025-04-03T17:26:00.000000000",
          "2025-04-03T17:27:00.000000000",
          "2025-04-03T17:28:00.000000000",
          "2025-04-03T17:29:00.000000000",
          "2025-04-03T17:30:00.000000000",
          "2025-04-03T17:31:00.000000000",
          "2025-04-03T17:32:00.000000000",
          "2025-04-03T17:33:00.000000000",
          "2025-04-03T17:34:00.000000000",
          "2025-04-03T17:35:00.000000000",
          "2025-04-03T17:36:00.000000000",
          "2025-04-03T17:37:00.000000000",
          "2025-04-03T17:38:00.000000000",
          "2025-04-03T17:39:00.000000000",
          "2025-04-03T17:40:00.000000000",
          "2025-04-03T17:41:00.000000000",
          "2025-04-03T17:42:00.000000000",
          "2025-04-03T17:43:00.000000000",
          "2025-04-03T17:44:00.000000000",
          "2025-04-03T17:45:00.000000000",
          "2025-04-03T17:46:00.000000000",
          "2025-04-03T17:47:00.000000000",
          "2025-04-03T17:48:00.000000000",
          "2025-04-03T17:49:00.000000000",
          "2025-04-03T17:50:00.000000000",
          "2025-04-03T17:51:00.000000000",
          "2025-04-03T17:52:00.000000000",
          "2025-04-03T17:53:00.000000000",
          "2025-04-03T17:54:00.000000000",
          "2025-04-03T17:55:00.000000000",
          "2025-04-03T17:56:00.000000000",
          "2025-04-03T17:57:00.000000000",
          "2025-04-03T17:58:00.000000000",
          "2025-04-03T17:59:00.000000000",
          "2025-04-03T18:00:00.000000000",
          "2025-04-03T18:01:00.000000000",
          "2025-04-03T18:02:00.000000000",
          "2025-04-03T18:03:00.000000000",
          "2025-04-03T18:04:00.000000000",
          "2025-04-03T18:05:00.000000000",
          "2025-04-03T18:06:00.000000000",
          "2025-04-03T18:07:00.000000000",
          "2025-04-03T18:08:00.000000000",
          "2025-04-03T18:09:00.000000000",
          "2025-04-03T18:10:00.000000000",
          "2025-04-03T18:11:00.000000000",
          "2025-04-03T18:12:00.000000000",
          "2025-04-03T18:13:00.000000000",
          "2025-04-03T18:14:00.000000000",
          "2025-04-03T18:15:00.000000000",
          "2025-04-03T18:16:00.000000000",
          "2025-04-03T18:17:00.000000000",
          "2025-04-03T18:18:00.000000000",
          "2025-04-03T18:19:00.000000000",
          "2025-04-03T18:20:00.000000000",
          "2025-04-03T18:21:00.000000000",
          "2025-04-03T18:22:00.000000000",
          "2025-04-03T18:23:00.000000000",
          "2025-04-03T18:24:00.000000000",
          "2025-04-03T18:25:00.000000000",
          "2025-04-03T18:26:00.000000000",
          "2025-04-03T18:27:00.000000000",
          "2025-04-03T18:28:00.000000000",
          "2025-04-03T18:29:00.000000000",
          "2025-04-03T18:30:00.000000000",
          "2025-04-03T18:31:00.000000000",
          "2025-04-03T18:32:00.000000000",
          "2025-04-03T18:33:00.000000000",
          "2025-04-03T18:34:00.000000000",
          "2025-04-03T18:35:00.000000000",
          "2025-04-03T18:36:00.000000000",
          "2025-04-03T18:37:00.000000000",
          "2025-04-03T18:38:00.000000000",
          "2025-04-03T18:39:00.000000000",
          "2025-04-03T18:40:00.000000000",
          "2025-04-03T18:41:00.000000000",
          "2025-04-03T18:42:00.000000000",
          "2025-04-03T18:43:00.000000000",
          "2025-04-03T18:44:00.000000000",
          "2025-04-03T18:45:00.000000000",
          "2025-04-03T18:46:00.000000000",
          "2025-04-03T18:47:00.000000000",
          "2025-04-03T18:48:00.000000000",
          "2025-04-03T18:49:00.000000000",
          "2025-04-03T18:50:00.000000000",
          "2025-04-03T18:51:00.000000000",
          "2025-04-03T18:52:00.000000000",
          "2025-04-03T18:53:00.000000000",
          "2025-04-03T18:54:00.000000000",
          "2025-04-03T18:55:00.000000000",
          "2025-04-03T18:56:00.000000000",
          "2025-04-03T18:57:00.000000000",
          "2025-04-03T18:58:00.000000000",
          "2025-04-03T18:59:00.000000000",
          "2025-04-03T19:00:00.000000000",
          "2025-04-03T19:01:00.000000000",
          "2025-04-03T19:02:00.000000000",
          "2025-04-03T19:03:00.000000000",
          "2025-04-03T19:04:00.000000000",
          "2025-04-03T19:05:00.000000000",
          "2025-04-03T19:06:00.000000000",
          "2025-04-03T19:07:00.000000000",
          "2025-04-03T19:08:00.000000000",
          "2025-04-03T19:09:00.000000000",
          "2025-04-03T19:10:00.000000000",
          "2025-04-03T19:11:00.000000000",
          "2025-04-03T19:12:00.000000000",
          "2025-04-03T19:13:00.000000000",
          "2025-04-03T19:14:00.000000000",
          "2025-04-03T19:15:00.000000000",
          "2025-04-03T19:16:00.000000000",
          "2025-04-03T19:17:00.000000000",
          "2025-04-03T19:18:00.000000000",
          "2025-04-03T19:19:00.000000000",
          "2025-04-03T19:20:00.000000000",
          "2025-04-03T19:21:00.000000000",
          "2025-04-03T19:22:00.000000000",
          "2025-04-03T19:23:00.000000000",
          "2025-04-03T19:24:00.000000000",
          "2025-04-03T19:25:00.000000000",
          "2025-04-03T19:26:00.000000000",
          "2025-04-03T19:27:00.000000000",
          "2025-04-03T19:28:00.000000000",
          "2025-04-03T19:29:00.000000000",
          "2025-04-03T19:30:00.000000000",
          "2025-04-03T19:31:00.000000000",
          "2025-04-03T19:32:00.000000000",
          "2025-04-03T19:33:00.000000000",
          "2025-04-03T19:34:00.000000000",
          "2025-04-03T19:35:00.000000000",
          "2025-04-03T19:36:00.000000000",
          "2025-04-03T19:37:00.000000000",
          "2025-04-03T19:38:00.000000000",
          "2025-04-03T19:39:00.000000000",
          "2025-04-03T19:40:00.000000000",
          "2025-04-03T19:41:00.000000000",
          "2025-04-03T19:42:00.000000000",
          "2025-04-03T19:43:00.000000000",
          "2025-04-03T19:44:00.000000000",
          "2025-04-03T19:45:00.000000000",
          "2025-04-03T19:46:00.000000000",
          "2025-04-03T19:47:00.000000000",
          "2025-04-03T19:48:00.000000000",
          "2025-04-03T19:49:00.000000000",
          "2025-04-03T19:50:00.000000000",
          "2025-04-03T19:51:00.000000000",
          "2025-04-03T19:52:00.000000000",
          "2025-04-03T19:53:00.000000000",
          "2025-04-03T19:54:00.000000000",
          "2025-04-03T19:55:00.000000000",
          "2025-04-03T19:56:00.000000000",
          "2025-04-03T19:57:00.000000000",
          "2025-04-03T19:58:00.000000000",
          "2025-04-03T19:59:00.000000000",
          "2025-04-03T20:00:00.000000000",
          "2025-04-03T20:01:00.000000000",
          "2025-04-03T20:02:00.000000000",
          "2025-04-03T20:03:00.000000000",
          "2025-04-03T20:04:00.000000000",
          "2025-04-03T20:05:00.000000000",
          "2025-04-03T20:06:00.000000000",
          "2025-04-03T20:07:00.000000000",
          "2025-04-03T20:08:00.000000000",
          "2025-04-03T20:09:00.000000000",
          "2025-04-03T20:10:00.000000000",
          "2025-04-03T20:11:00.000000000",
          "2025-04-03T20:12:00.000000000",
          "2025-04-03T20:13:00.000000000",
          "2025-04-03T20:14:00.000000000",
          "2025-04-03T20:15:00.000000000",
          "2025-04-03T20:16:00.000000000",
          "2025-04-03T20:17:00.000000000",
          "2025-04-03T20:18:00.000000000",
          "2025-04-03T20:19:00.000000000",
          "2025-04-03T20:20:00.000000000",
          "2025-04-03T20:21:00.000000000",
          "2025-04-03T20:22:00.000000000",
          "2025-04-03T20:23:00.000000000",
          "2025-04-03T20:24:00.000000000",
          "2025-04-03T20:25:00.000000000",
          "2025-04-03T20:26:00.000000000",
          "2025-04-03T20:27:00.000000000",
          "2025-04-03T20:28:00.000000000",
          "2025-04-03T20:29:00.000000000",
          "2025-04-03T20:30:00.000000000",
          "2025-04-03T20:31:00.000000000",
          "2025-04-03T20:32:00.000000000",
          "2025-04-03T20:33:00.000000000",
          "2025-04-03T20:34:00.000000000",
          "2025-04-03T20:35:00.000000000",
          "2025-04-03T20:36:00.000000000",
          "2025-04-03T20:37:00.000000000",
          "2025-04-03T20:38:00.000000000",
          "2025-04-03T20:39:00.000000000",
          "2025-04-03T20:40:00.000000000",
          "2025-04-03T20:41:00.000000000",
          "2025-04-03T20:42:00.000000000",
          "2025-04-03T20:43:00.000000000",
          "2025-04-03T20:44:00.000000000",
          "2025-04-03T20:45:00.000000000",
          "2025-04-03T20:46:00.000000000",
          "2025-04-03T20:47:00.000000000",
          "2025-04-03T20:48:00.000000000",
          "2025-04-03T20:49:00.000000000",
          "2025-04-03T20:50:00.000000000",
          "2025-04-03T20:51:00.000000000",
          "2025-04-03T20:52:00.000000000",
          "2025-04-03T20:53:00.000000000",
          "2025-04-03T20:54:00.000000000",
          "2025-04-03T20:55:00.000000000",
          "2025-04-03T20:56:00.000000000",
          "2025-04-03T20:57:00.000000000",
          "2025-04-03T20:58:00.000000000",
          "2025-04-03T20:59:00.000000000",
          "2025-04-03T21:00:00.000000000"
         ],
         "y": {
          "bdata": "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",
          "dtype": "f8"
         },
         "yaxis": "y2"
        }
       ],
       "layout": {
        "annotations": [
         {
          "font": {
           "color": "orange"
          },
          "showarrow": false,
          "text": "TA Trade 1<br>$: -0.909<br>%: -0.439",
          "x": "2025-04-03T14:30:00",
          "xanchor": "left",
          "xref": "x",
          "y": 1,
          "yanchor": "top",
          "yref": "y domain"
         },
         {
          "font": {
           "color": "orange"
          },
          "showarrow": false,
          "text": "TA Trade 2<br>$: 1.673<br>%: 0.825",
          "x": "2025-04-03T14:43:00",
          "xanchor": "left",
          "xref": "x",
          "y": 1,
          "yanchor": "top",
          "yref": "y domain"
         },
         {
          "font": {
           "color": "orange"
          },
          "showarrow": false,
          "text": "TA Trade 3<br>$: 0.463<br>%: 0.228",
          "x": "2025-04-03T14:57:00",
          "xanchor": "left",
          "xref": "x",
          "y": 1,
          "yanchor": "top",
          "yref": "y domain"
         },
         {
          "font": {
           "color": "orange"
          },
          "showarrow": false,
          "text": "TA Trade 4<br>$: 1.987<br>%: 0.975",
          "x": "2025-04-03T15:08:00",
          "xanchor": "left",
          "xref": "x",
          "y": 1,
          "yanchor": "top",
          "yref": "y domain"
         },
         {
          "font": {
           "color": "orange"
          },
          "showarrow": false,
          "text": "TA Trade 5<br>$: 0.418<br>%: 0.205",
          "x": "2025-04-03T15:51:00",
          "xanchor": "left",
          "xref": "x",
          "y": 1,
          "yanchor": "top",
          "yref": "y domain"
         },
         {
          "font": {
           "color": "orange"
          },
          "showarrow": false,
          "text": "TA Trade 6<br>$: 0.533<br>%: 0.261",
          "x": "2025-04-03T16:06:00",
          "xanchor": "left",
          "xref": "x",
          "y": 1,
          "yanchor": "top",
          "yref": "y domain"
         },
         {
          "font": {
           "color": "orange"
          },
          "showarrow": false,
          "text": "TA Trade 7<br>$: 2.267<br>%: 1.111",
          "x": "2025-04-03T16:30:00",
          "xanchor": "left",
          "xref": "x",
          "y": 1,
          "yanchor": "top",
          "yref": "y domain"
         },
         {
          "font": {
           "color": "orange"
          },
          "showarrow": false,
          "text": "TA Trade 8<br>$: -0.093<br>%: -0.045",
          "x": "2025-04-03T17:58:00",
          "xanchor": "left",
          "xref": "x",
          "y": 1,
          "yanchor": "top",
          "yref": "y domain"
         },
         {
          "font": {
           "color": "orange"
          },
          "showarrow": false,
          "text": "TA Trade 9<br>$: -0.002<br>%: -0.001",
          "x": "2025-04-03T19:38:00",
          "xanchor": "left",
          "xref": "x",
          "y": 1,
          "yanchor": "top",
          "yref": "y domain"
         },
         {
          "font": {
           "color": "orange"
          },
          "showarrow": false,
          "text": "TA Trade 10<br>$: 1.529<br>%: 0.759",
          "x": "2025-04-03T20:48:00",
          "xanchor": "left",
          "xref": "x",
          "y": 1,
          "yanchor": "top",
          "yref": "y domain"
         },
         {
          "showarrow": false,
          "text": "Buy Threshold",
          "x": 0,
          "xanchor": "left",
          "xref": "x domain",
          "y": 0.1,
          "yanchor": "bottom",
          "yref": "y2"
         }
        ],
        "height": 700,
        "hovermode": "x unified",
        "shapes": [
         {
          "fillcolor": "orange",
          "line": {
           "width": 0
          },
          "opacity": 0.25,
          "type": "rect",
          "x0": "2025-04-03T14:30:00",
          "x1": "2025-04-03T14:36:00",
          "xref": "x",
          "y0": 0,
          "y1": 1,
          "yref": "y domain"
         },
         {
          "fillcolor": "orange",
          "line": {
           "width": 0
          },
          "opacity": 0.25,
          "type": "rect",
          "x0": "2025-04-03T14:43:00",
          "x1": "2025-04-03T14:53:00",
          "xref": "x",
          "y0": 0,
          "y1": 1,
          "yref": "y domain"
         },
         {
          "fillcolor": "orange",
          "line": {
           "width": 0
          },
          "opacity": 0.25,
          "type": "rect",
          "x0": "2025-04-03T14:57:00",
          "x1": "2025-04-03T15:02:00",
          "xref": "x",
          "y0": 0,
          "y1": 1,
          "yref": "y domain"
         },
         {
          "fillcolor": "orange",
          "line": {
           "width": 0
          },
          "opacity": 0.25,
          "type": "rect",
          "x0": "2025-04-03T15:08:00",
          "x1": "2025-04-03T15:33:00",
          "xref": "x",
          "y0": 0,
          "y1": 1,
          "yref": "y domain"
         },
         {
          "fillcolor": "orange",
          "line": {
           "width": 0
          },
          "opacity": 0.25,
          "type": "rect",
          "x0": "2025-04-03T15:51:00",
          "x1": "2025-04-03T16:03:00",
          "xref": "x",
          "y0": 0,
          "y1": 1,
          "yref": "y domain"
         },
         {
          "fillcolor": "orange",
          "line": {
           "width": 0
          },
          "opacity": 0.25,
          "type": "rect",
          "x0": "2025-04-03T16:06:00",
          "x1": "2025-04-03T16:22:00",
          "xref": "x",
          "y0": 0,
          "y1": 1,
          "yref": "y domain"
         },
         {
          "fillcolor": "orange",
          "line": {
           "width": 0
          },
          "opacity": 0.25,
          "type": "rect",
          "x0": "2025-04-03T16:30:00",
          "x1": "2025-04-03T17:16:00",
          "xref": "x",
          "y0": 0,
          "y1": 1,
          "yref": "y domain"
         },
         {
          "fillcolor": "orange",
          "line": {
           "width": 0
          },
          "opacity": 0.25,
          "type": "rect",
          "x0": "2025-04-03T17:58:00",
          "x1": "2025-04-03T18:10:00",
          "xref": "x",
          "y0": 0,
          "y1": 1,
          "yref": "y domain"
         },
         {
          "fillcolor": "orange",
          "line": {
           "width": 0
          },
          "opacity": 0.25,
          "type": "rect",
          "x0": "2025-04-03T19:38:00",
          "x1": "2025-04-03T19:56:00",
          "xref": "x",
          "y0": 0,
          "y1": 1,
          "yref": "y domain"
         },
         {
          "fillcolor": "orange",
          "line": {
           "width": 0
          },
          "opacity": 0.25,
          "type": "rect",
          "x0": "2025-04-03T20:48:00",
          "x1": "2025-04-03T20:59:00",
          "xref": "x",
          "y0": 0,
          "y1": 1,
          "yref": "y domain"
         },
         {
          "line": {
           "color": "purple",
           "dash": "dot"
          },
          "type": "line",
          "x0": 0,
          "x1": 1,
          "xref": "x domain",
          "y0": 0.1,
          "y1": 0.1,
          "yref": "y2"
         }
        ],
        "template": {
         "data": {
          "bar": [
           {
            "error_x": {
             "color": "#2a3f5f"
            },
            "error_y": {
             "color": "#2a3f5f"
            },
            "marker": {
             "line": {
              "color": "white",
              "width": 0.5
             },
             "pattern": {
              "fillmode": "overlay",
              "size": 10,
              "solidity": 0.2
             }
            },
            "type": "bar"
           }
          ],
          "barpolar": [
           {
            "marker": {
             "line": {
              "color": "white",
              "width": 0.5
             },
             "pattern": {
              "fillmode": "overlay",
              "size": 10,
              "solidity": 0.2
             }
            },
            "type": "barpolar"
           }
          ],
          "carpet": [
           {
            "aaxis": {
             "endlinecolor": "#2a3f5f",
             "gridcolor": "#C8D4E3",
             "linecolor": "#C8D4E3",
             "minorgridcolor": "#C8D4E3",
             "startlinecolor": "#2a3f5f"
            },
            "baxis": {
             "endlinecolor": "#2a3f5f",
             "gridcolor": "#C8D4E3",
             "linecolor": "#C8D4E3",
             "minorgridcolor": "#C8D4E3",
             "startlinecolor": "#2a3f5f"
            },
            "type": "carpet"
           }
          ],
          "choropleth": [
           {
            "colorbar": {
             "outlinewidth": 0,
             "ticks": ""
            },
            "type": "choropleth"
           }
          ],
          "contour": [
           {
            "colorbar": {
             "outlinewidth": 0,
             "ticks": ""
            },
            "colorscale": [
             [
              0,
              "#0d0887"
             ],
             [
              0.1111111111111111,
              "#46039f"
             ],
             [
              0.2222222222222222,
              "#7201a8"
             ],
             [
              0.3333333333333333,
              "#9c179e"
             ],
             [
              0.4444444444444444,
              "#bd3786"
             ],
             [
              0.5555555555555556,
              "#d8576b"
             ],
             [
              0.6666666666666666,
              "#ed7953"
             ],
             [
              0.7777777777777778,
              "#fb9f3a"
             ],
             [
              0.8888888888888888,
              "#fdca26"
             ],
             [
              1,
              "#f0f921"
             ]
            ],
            "type": "contour"
           }
          ],
          "contourcarpet": [
           {
            "colorbar": {
             "outlinewidth": 0,
             "ticks": ""
            },
            "type": "contourcarpet"
           }
          ],
          "heatmap": [
           {
            "colorbar": {
             "outlinewidth": 0,
             "ticks": ""
            },
            "colorscale": [
             [
              0,
              "#0d0887"
             ],
             [
              0.1111111111111111,
              "#46039f"
             ],
             [
              0.2222222222222222,
              "#7201a8"
             ],
             [
              0.3333333333333333,
              "#9c179e"
             ],
             [
              0.4444444444444444,
              "#bd3786"
             ],
             [
              0.5555555555555556,
              "#d8576b"
             ],
             [
              0.6666666666666666,
              "#ed7953"
             ],
             [
              0.7777777777777778,
              "#fb9f3a"
             ],
             [
              0.8888888888888888,
              "#fdca26"
             ],
             [
              1,
              "#f0f921"
             ]
            ],
            "type": "heatmap"
           }
          ],
          "histogram": [
           {
            "marker": {
             "pattern": {
              "fillmode": "overlay",
              "size": 10,
              "solidity": 0.2
             }
            },
            "type": "histogram"
           }
          ],
          "histogram2d": [
           {
            "colorbar": {
             "outlinewidth": 0,
             "ticks": ""
            },
            "colorscale": [
             [
              0,
              "#0d0887"
             ],
             [
              0.1111111111111111,
              "#46039f"
             ],
             [
              0.2222222222222222,
              "#7201a8"
             ],
             [
              0.3333333333333333,
              "#9c179e"
             ],
             [
              0.4444444444444444,
              "#bd3786"
             ],
             [
              0.5555555555555556,
              "#d8576b"
             ],
             [
              0.6666666666666666,
              "#ed7953"
             ],
             [
              0.7777777777777778,
              "#fb9f3a"
             ],
             [
              0.8888888888888888,
              "#fdca26"
             ],
             [
              1,
              "#f0f921"
             ]
            ],
            "type": "histogram2d"
           }
          ],
          "histogram2dcontour": [
           {
            "colorbar": {
             "outlinewidth": 0,
             "ticks": ""
            },
            "colorscale": [
             [
              0,
              "#0d0887"
             ],
             [
              0.1111111111111111,
              "#46039f"
             ],
             [
              0.2222222222222222,
              "#7201a8"
             ],
             [
              0.3333333333333333,
              "#9c179e"
             ],
             [
              0.4444444444444444,
              "#bd3786"
             ],
             [
              0.5555555555555556,
              "#d8576b"
             ],
             [
              0.6666666666666666,
              "#ed7953"
             ],
             [
              0.7777777777777778,
              "#fb9f3a"
             ],
             [
              0.8888888888888888,
              "#fdca26"
             ],
             [
              1,
              "#f0f921"
             ]
            ],
            "type": "histogram2dcontour"
           }
          ],
          "mesh3d": [
           {
            "colorbar": {
             "outlinewidth": 0,
             "ticks": ""
            },
            "type": "mesh3d"
           }
          ],
          "parcoords": [
           {
            "line": {
             "colorbar": {
              "outlinewidth": 0,
              "ticks": ""
             }
            },
            "type": "parcoords"
           }
          ],
          "pie": [
           {
            "automargin": true,
            "type": "pie"
           }
          ],
          "scatter": [
           {
            "fillpattern": {
             "fillmode": "overlay",
             "size": 10,
             "solidity": 0.2
            },
            "type": "scatter"
           }
          ],
          "scatter3d": [
           {
            "line": {
             "colorbar": {
              "outlinewidth": 0,
              "ticks": ""
             }
            },
            "marker": {
             "colorbar": {
              "outlinewidth": 0,
              "ticks": ""
             }
            },
            "type": "scatter3d"
           }
          ],
          "scattercarpet": [
           {
            "marker": {
             "colorbar": {
              "outlinewidth": 0,
              "ticks": ""
             }
            },
            "type": "scattercarpet"
           }
          ],
          "scattergeo": [
           {
            "marker": {
             "colorbar": {
              "outlinewidth": 0,
              "ticks": ""
             }
            },
            "type": "scattergeo"
           }
          ],
          "scattergl": [
           {
            "marker": {
             "colorbar": {
              "outlinewidth": 0,
              "ticks": ""
             }
            },
            "type": "scattergl"
           }
          ],
          "scattermap": [
           {
            "marker": {
             "colorbar": {
              "outlinewidth": 0,
              "ticks": ""
             }
            },
            "type": "scattermap"
           }
          ],
          "scattermapbox": [
           {
            "marker": {
             "colorbar": {
              "outlinewidth": 0,
              "ticks": ""
             }
            },
            "type": "scattermapbox"
           }
          ],
          "scatterpolar": [
           {
            "marker": {
             "colorbar": {
              "outlinewidth": 0,
              "ticks": ""
             }
            },
            "type": "scatterpolar"
           }
          ],
          "scatterpolargl": [
           {
            "marker": {
             "colorbar": {
              "outlinewidth": 0,
              "ticks": ""
             }
            },
            "type": "scatterpolargl"
           }
          ],
          "scatterternary": [
           {
            "marker": {
             "colorbar": {
              "outlinewidth": 0,
              "ticks": ""
             }
            },
            "type": "scatterternary"
           }
          ],
          "surface": [
           {
            "colorbar": {
             "outlinewidth": 0,
             "ticks": ""
            },
            "colorscale": [
             [
              0,
              "#0d0887"
             ],
             [
              0.1111111111111111,
              "#46039f"
             ],
             [
              0.2222222222222222,
              "#7201a8"
             ],
             [
              0.3333333333333333,
              "#9c179e"
             ],
             [
              0.4444444444444444,
              "#bd3786"
             ],
             [
              0.5555555555555556,
              "#d8576b"
             ],
             [
              0.6666666666666666,
              "#ed7953"
             ],
             [
              0.7777777777777778,
              "#fb9f3a"
             ],
             [
              0.8888888888888888,
              "#fdca26"
             ],
             [
              1,
              "#f0f921"
             ]
            ],
            "type": "surface"
           }
          ],
          "table": [
           {
            "cells": {
             "fill": {
              "color": "#EBF0F8"
             },
             "line": {
              "color": "white"
             }
            },
            "header": {
             "fill": {
              "color": "#C8D4E3"
             },
             "line": {
              "color": "white"
             }
            },
            "type": "table"
           }
          ]
         },
         "layout": {
          "annotationdefaults": {
           "arrowcolor": "#2a3f5f",
           "arrowhead": 0,
           "arrowwidth": 1
          },
          "autotypenumbers": "strict",
          "coloraxis": {
           "colorbar": {
            "outlinewidth": 0,
            "ticks": ""
           }
          },
          "colorscale": {
           "diverging": [
            [
             0,
             "#8e0152"
            ],
            [
             0.1,
             "#c51b7d"
            ],
            [
             0.2,
             "#de77ae"
            ],
            [
             0.3,
             "#f1b6da"
            ],
            [
             0.4,
             "#fde0ef"
            ],
            [
             0.5,
             "#f7f7f7"
            ],
            [
             0.6,
             "#e6f5d0"
            ],
            [
             0.7,
             "#b8e186"
            ],
            [
             0.8,
             "#7fbc41"
            ],
            [
             0.9,
             "#4d9221"
            ],
            [
             1,
             "#276419"
            ]
           ],
           "sequential": [
            [
             0,
             "#0d0887"
            ],
            [
             0.1111111111111111,
             "#46039f"
            ],
            [
             0.2222222222222222,
             "#7201a8"
            ],
            [
             0.3333333333333333,
             "#9c179e"
            ],
            [
             0.4444444444444444,
             "#bd3786"
            ],
            [
             0.5555555555555556,
             "#d8576b"
            ],
            [
             0.6666666666666666,
             "#ed7953"
            ],
            [
             0.7777777777777778,
             "#fb9f3a"
            ],
            [
             0.8888888888888888,
             "#fdca26"
            ],
            [
             1,
             "#f0f921"
            ]
           ],
           "sequentialminus": [
            [
             0,
             "#0d0887"
            ],
            [
             0.1111111111111111,
             "#46039f"
            ],
            [
             0.2222222222222222,
             "#7201a8"
            ],
            [
             0.3333333333333333,
             "#9c179e"
            ],
            [
             0.4444444444444444,
             "#bd3786"
            ],
            [
             0.5555555555555556,
             "#d8576b"
            ],
            [
             0.6666666666666666,
             "#ed7953"
            ],
            [
             0.7777777777777778,
             "#fb9f3a"
            ],
            [
             0.8888888888888888,
             "#fdca26"
            ],
            [
             1,
             "#f0f921"
            ]
           ]
          },
          "colorway": [
           "#636efa",
           "#EF553B",
           "#00cc96",
           "#ab63fa",
           "#FFA15A",
           "#19d3f3",
           "#FF6692",
           "#B6E880",
           "#FF97FF",
           "#FECB52"
          ],
          "font": {
           "color": "#2a3f5f"
          },
          "geo": {
           "bgcolor": "white",
           "lakecolor": "white",
           "landcolor": "white",
           "showlakes": true,
           "showland": true,
           "subunitcolor": "#C8D4E3"
          },
          "hoverlabel": {
           "align": "left"
          },
          "hovermode": "closest",
          "mapbox": {
           "style": "light"
          },
          "paper_bgcolor": "white",
          "plot_bgcolor": "white",
          "polar": {
           "angularaxis": {
            "gridcolor": "#EBF0F8",
            "linecolor": "#EBF0F8",
            "ticks": ""
           },
           "bgcolor": "white",
           "radialaxis": {
            "gridcolor": "#EBF0F8",
            "linecolor": "#EBF0F8",
            "ticks": ""
           }
          },
          "scene": {
           "xaxis": {
            "backgroundcolor": "white",
            "gridcolor": "#DFE8F3",
            "gridwidth": 2,
            "linecolor": "#EBF0F8",
            "showbackground": true,
            "ticks": "",
            "zerolinecolor": "#EBF0F8"
           },
           "yaxis": {
            "backgroundcolor": "white",
            "gridcolor": "#DFE8F3",
            "gridwidth": 2,
            "linecolor": "#EBF0F8",
            "showbackground": true,
            "ticks": "",
            "zerolinecolor": "#EBF0F8"
           },
           "zaxis": {
            "backgroundcolor": "white",
            "gridcolor": "#DFE8F3",
            "gridwidth": 2,
            "linecolor": "#EBF0F8",
            "showbackground": true,
            "ticks": "",
            "zerolinecolor": "#EBF0F8"
           }
          },
          "shapedefaults": {
           "line": {
            "color": "#2a3f5f"
           }
          },
          "ternary": {
           "aaxis": {
            "gridcolor": "#DFE8F3",
            "linecolor": "#A2B1C6",
            "ticks": ""
           },
           "baxis": {
            "gridcolor": "#DFE8F3",
            "linecolor": "#A2B1C6",
            "ticks": ""
           },
           "bgcolor": "white",
           "caxis": {
            "gridcolor": "#DFE8F3",
            "linecolor": "#A2B1C6",
            "ticks": ""
           }
          },
          "title": {
           "x": 0.05
          },
          "xaxis": {
           "automargin": true,
           "gridcolor": "#EBF0F8",
           "linecolor": "#EBF0F8",
           "ticks": "",
           "title": {
            "standoff": 15
           },
           "zerolinecolor": "#EBF0F8",
           "zerolinewidth": 2
          },
          "yaxis": {
           "automargin": true,
           "gridcolor": "#EBF0F8",
           "linecolor": "#EBF0F8",
           "ticks": "",
           "title": {
            "standoff": 15
           },
           "zerolinecolor": "#EBF0F8",
           "zerolinewidth": 2
          }
         }
        },
        "title": {
         "text": "Close Price, Trade Intervals, and Signals"
        },
        "updatemenus": [
         {
          "buttons": [
           {
            "args": [
             {
              "visible": [
               true,
               "legendonly",
               "legendonly",
               "legendonly",
               "legendonly",
               "legendonly",
               "legendonly",
               "legendonly",
               "legendonly",
               "legendonly",
               "legendonly",
               "legendonly",
               "legendonly",
               "legendonly",
               "legendonly",
               "legendonly",
               "legendonly",
               "legendonly",
               "legendonly",
               true,
               true
              ]
             }
            ],
            "label": "Hide Trades",
            "method": "update"
           },
           {
            "args": [
             {
              "visible": [
               true,
               true,
               true,
               true,
               true,
               true,
               true,
               true,
               true,
               true,
               true,
               true,
               true,
               true,
               true,
               true,
               true,
               true,
               true,
               true,
               true
              ]
             }
            ],
            "label": "Show Trades",
            "method": "update"
           }
          ],
          "direction": "left",
          "pad": {
           "r": 10,
           "t": 10
          },
          "showactive": true,
          "type": "buttons",
          "x": 0.9,
          "xanchor": "left",
          "y": 1.1,
          "yanchor": "top"
         }
        ],
        "xaxis": {
         "title": {
          "text": "Datetime"
         }
        },
        "yaxis": {
         "title": {
          "text": "Close Price"
         }
        },
        "yaxis2": {
         "overlaying": "y",
         "showgrid": false,
         "side": "right",
         "title": {
          "text": "Signal (Normalized)"
         }
        }
       }
      }
     },
     "metadata": {},
     "output_type": "display_data"
    },
    {
     "name": "stdout",
     "output_type": "stream",
     "text": [
      "{'Final Net Value ($)': 7.866, 'Buy & Hold Gain ($)': -4.028, 'Strategy Profit Difference ($)': 11.894, 'Final Net Return (%)': 3.8, 'Buy & Hold Return (%)': -1.946, 'Strategy Improvement (%)': 5.745, 'Trade Gains ($)': [-0.909, 1.673, 0.463, 1.987, 0.418, 0.533, 2.267, -0.093, -0.002, 1.529], 'Trade Gains (%)': [-0.439, 0.825, 0.228, 0.975, 0.205, 0.261, 1.111, -0.045, -0.001, 0.759]}\n"
     ]
    },
    {
     "data": {
      "text/html": [
       "<div>\n",
       "<style scoped>\n",
       "    .dataframe tbody tr th:only-of-type {\n",
       "        vertical-align: middle;\n",
       "    }\n",
       "\n",
       "    .dataframe tbody tr th {\n",
       "        vertical-align: top;\n",
       "    }\n",
       "\n",
       "    .dataframe thead th {\n",
       "        text-align: right;\n",
       "    }\n",
       "</style>\n",
       "<table border=\"1\" class=\"dataframe\">\n",
       "  <thead>\n",
       "    <tr style=\"text-align: right;\">\n",
       "      <th></th>\n",
       "      <th>open</th>\n",
       "      <th>high</th>\n",
       "      <th>low</th>\n",
       "      <th>close</th>\n",
       "      <th>volume</th>\n",
       "      <th>ask</th>\n",
       "      <th>bid</th>\n",
       "      <th>open_orig</th>\n",
       "      <th>high_orig</th>\n",
       "      <th>low_orig</th>\n",
       "      <th>close_orig</th>\n",
       "      <th>volume_orig</th>\n",
       "      <th>ask_orig</th>\n",
       "      <th>bid_orig</th>\n",
       "      <th>signal</th>\n",
       "      <th>signal_smooth</th>\n",
       "      <th>signal_norm</th>\n",
       "      <th>signal_smooth_norm</th>\n",
       "      <th>trade_action</th>\n",
       "      <th>Position</th>\n",
       "      <th>Cash</th>\n",
       "      <th>NetValue</th>\n",
       "      <th>Action</th>\n",
       "      <th>TradedAmount</th>\n",
       "      <th>StrategyEarning</th>\n",
       "      <th>BuyHoldEarning</th>\n",
       "      <th>EarningDiff</th>\n",
       "    </tr>\n",
       "  </thead>\n",
       "  <tbody>\n",
       "    <tr>\n",
       "      <th>2025-04-03 13:30:00</th>\n",
       "      <td>207.1494</td>\n",
       "      <td>207.2647</td>\n",
       "      <td>207.0100</td>\n",
       "      <td>207.1241</td>\n",
       "      <td>13676.0</td>\n",
       "      <td>207.1862</td>\n",
       "      <td>207.0619</td>\n",
       "      <td>206.7500</td>\n",
       "      <td>207.000</td>\n",
       "      <td>206.5300</td>\n",
       "      <td>206.9000</td>\n",
       "      <td>8684</td>\n",
       "      <td>206.9621</td>\n",
       "      <td>206.8379</td>\n",
       "      <td>0.0</td>\n",
       "      <td>0.00000</td>\n",
       "      <td>0.0</td>\n",
       "      <td>0.000000</td>\n",
       "      <td>0</td>\n",
       "      <td>0</td>\n",
       "      <td>0.000</td>\n",
       "      <td>0.000</td>\n",
       "      <td>No trade</td>\n",
       "      <td>0</td>\n",
       "      <td>0.000</td>\n",
       "      <td>0.000</td>\n",
       "      <td>0.000</td>\n",
       "    </tr>\n",
       "    <tr>\n",
       "      <th>2025-04-03 13:31:00</th>\n",
       "      <td>207.1230</td>\n",
       "      <td>207.2347</td>\n",
       "      <td>206.9859</td>\n",
       "      <td>207.1023</td>\n",
       "      <td>12580.0</td>\n",
       "      <td>207.1645</td>\n",
       "      <td>207.0402</td>\n",
       "      <td>206.9600</td>\n",
       "      <td>207.040</td>\n",
       "      <td>206.8500</td>\n",
       "      <td>206.9700</td>\n",
       "      <td>3823</td>\n",
       "      <td>207.0321</td>\n",
       "      <td>206.9079</td>\n",
       "      <td>0.0</td>\n",
       "      <td>0.00000</td>\n",
       "      <td>0.0</td>\n",
       "      <td>0.000000</td>\n",
       "      <td>0</td>\n",
       "      <td>0</td>\n",
       "      <td>0.000</td>\n",
       "      <td>0.000</td>\n",
       "      <td>No trade</td>\n",
       "      <td>0</td>\n",
       "      <td>0.000</td>\n",
       "      <td>0.000</td>\n",
       "      <td>0.000</td>\n",
       "    </tr>\n",
       "    <tr>\n",
       "      <th>2025-04-03 13:32:00</th>\n",
       "      <td>207.1017</td>\n",
       "      <td>207.2059</td>\n",
       "      <td>206.9418</td>\n",
       "      <td>207.0635</td>\n",
       "      <td>13159.0</td>\n",
       "      <td>207.1256</td>\n",
       "      <td>207.0014</td>\n",
       "      <td>206.9683</td>\n",
       "      <td>206.990</td>\n",
       "      <td>206.5000</td>\n",
       "      <td>206.5900</td>\n",
       "      <td>24072</td>\n",
       "      <td>206.6520</td>\n",
       "      <td>206.5280</td>\n",
       "      <td>0.0</td>\n",
       "      <td>0.00000</td>\n",
       "      <td>0.0</td>\n",
       "      <td>0.000000</td>\n",
       "      <td>0</td>\n",
       "      <td>0</td>\n",
       "      <td>0.000</td>\n",
       "      <td>0.000</td>\n",
       "      <td>No trade</td>\n",
       "      <td>0</td>\n",
       "      <td>0.000</td>\n",
       "      <td>0.000</td>\n",
       "      <td>0.000</td>\n",
       "    </tr>\n",
       "    <tr>\n",
       "      <th>2025-04-03 13:33:00</th>\n",
       "      <td>207.0587</td>\n",
       "      <td>207.1659</td>\n",
       "      <td>206.8941</td>\n",
       "      <td>207.0135</td>\n",
       "      <td>13732.0</td>\n",
       "      <td>207.0756</td>\n",
       "      <td>206.9514</td>\n",
       "      <td>206.5300</td>\n",
       "      <td>206.650</td>\n",
       "      <td>206.4000</td>\n",
       "      <td>206.4000</td>\n",
       "      <td>21568</td>\n",
       "      <td>206.4619</td>\n",
       "      <td>206.3381</td>\n",
       "      <td>0.0</td>\n",
       "      <td>0.00000</td>\n",
       "      <td>0.0</td>\n",
       "      <td>0.000000</td>\n",
       "      <td>0</td>\n",
       "      <td>0</td>\n",
       "      <td>0.000</td>\n",
       "      <td>0.000</td>\n",
       "      <td>No trade</td>\n",
       "      <td>0</td>\n",
       "      <td>0.000</td>\n",
       "      <td>0.000</td>\n",
       "      <td>0.000</td>\n",
       "    </tr>\n",
       "    <tr>\n",
       "      <th>2025-04-03 13:34:00</th>\n",
       "      <td>207.0128</td>\n",
       "      <td>207.1212</td>\n",
       "      <td>206.8483</td>\n",
       "      <td>206.9723</td>\n",
       "      <td>13307.0</td>\n",
       "      <td>207.0344</td>\n",
       "      <td>206.9102</td>\n",
       "      <td>206.4700</td>\n",
       "      <td>206.500</td>\n",
       "      <td>206.2000</td>\n",
       "      <td>206.4599</td>\n",
       "      <td>19380</td>\n",
       "      <td>206.5218</td>\n",
       "      <td>206.3980</td>\n",
       "      <td>0.0</td>\n",
       "      <td>0.00000</td>\n",
       "      <td>0.0</td>\n",
       "      <td>0.000000</td>\n",
       "      <td>0</td>\n",
       "      <td>0</td>\n",
       "      <td>0.000</td>\n",
       "      <td>0.000</td>\n",
       "      <td>No trade</td>\n",
       "      <td>0</td>\n",
       "      <td>0.000</td>\n",
       "      <td>0.000</td>\n",
       "      <td>0.000</td>\n",
       "    </tr>\n",
       "    <tr>\n",
       "      <th>...</th>\n",
       "      <td>...</td>\n",
       "      <td>...</td>\n",
       "      <td>...</td>\n",
       "      <td>...</td>\n",
       "      <td>...</td>\n",
       "      <td>...</td>\n",
       "      <td>...</td>\n",
       "      <td>...</td>\n",
       "      <td>...</td>\n",
       "      <td>...</td>\n",
       "      <td>...</td>\n",
       "      <td>...</td>\n",
       "      <td>...</td>\n",
       "      <td>...</td>\n",
       "      <td>...</td>\n",
       "      <td>...</td>\n",
       "      <td>...</td>\n",
       "      <td>...</td>\n",
       "      <td>...</td>\n",
       "      <td>...</td>\n",
       "      <td>...</td>\n",
       "      <td>...</td>\n",
       "      <td>...</td>\n",
       "      <td>...</td>\n",
       "      <td>...</td>\n",
       "      <td>...</td>\n",
       "      <td>...</td>\n",
       "    </tr>\n",
       "    <tr>\n",
       "      <th>2025-04-03 20:56:00</th>\n",
       "      <td>203.6650</td>\n",
       "      <td>203.8600</td>\n",
       "      <td>203.2600</td>\n",
       "      <td>203.3800</td>\n",
       "      <td>766015.0</td>\n",
       "      <td>203.4410</td>\n",
       "      <td>203.3190</td>\n",
       "      <td>203.6650</td>\n",
       "      <td>203.860</td>\n",
       "      <td>203.2600</td>\n",
       "      <td>203.3800</td>\n",
       "      <td>766015</td>\n",
       "      <td>203.4410</td>\n",
       "      <td>203.3190</td>\n",
       "      <td>0.0</td>\n",
       "      <td>0.40625</td>\n",
       "      <td>0.0</td>\n",
       "      <td>0.167267</td>\n",
       "      <td>0</td>\n",
       "      <td>1</td>\n",
       "      <td>-195.134</td>\n",
       "      <td>8.185</td>\n",
       "      <td>Hold</td>\n",
       "      <td>0</td>\n",
       "      <td>8.185</td>\n",
       "      <td>-3.708</td>\n",
       "      <td>11.893</td>\n",
       "    </tr>\n",
       "    <tr>\n",
       "      <th>2025-04-03 20:57:00</th>\n",
       "      <td>203.3900</td>\n",
       "      <td>203.5350</td>\n",
       "      <td>203.3239</td>\n",
       "      <td>203.3300</td>\n",
       "      <td>701062.0</td>\n",
       "      <td>203.3910</td>\n",
       "      <td>203.2690</td>\n",
       "      <td>203.3900</td>\n",
       "      <td>203.535</td>\n",
       "      <td>203.3239</td>\n",
       "      <td>203.3300</td>\n",
       "      <td>701062</td>\n",
       "      <td>203.3910</td>\n",
       "      <td>203.2690</td>\n",
       "      <td>0.0</td>\n",
       "      <td>0.14625</td>\n",
       "      <td>0.0</td>\n",
       "      <td>0.060216</td>\n",
       "      <td>0</td>\n",
       "      <td>1</td>\n",
       "      <td>-195.134</td>\n",
       "      <td>8.135</td>\n",
       "      <td>Hold</td>\n",
       "      <td>0</td>\n",
       "      <td>8.135</td>\n",
       "      <td>-3.758</td>\n",
       "      <td>11.893</td>\n",
       "    </tr>\n",
       "    <tr>\n",
       "      <th>2025-04-03 20:58:00</th>\n",
       "      <td>203.3300</td>\n",
       "      <td>203.5900</td>\n",
       "      <td>203.3300</td>\n",
       "      <td>203.5100</td>\n",
       "      <td>777503.0</td>\n",
       "      <td>203.5711</td>\n",
       "      <td>203.4489</td>\n",
       "      <td>203.3300</td>\n",
       "      <td>203.590</td>\n",
       "      <td>203.3300</td>\n",
       "      <td>203.5100</td>\n",
       "      <td>777503</td>\n",
       "      <td>203.5711</td>\n",
       "      <td>203.4489</td>\n",
       "      <td>0.0</td>\n",
       "      <td>0.00000</td>\n",
       "      <td>0.0</td>\n",
       "      <td>0.000000</td>\n",
       "      <td>0</td>\n",
       "      <td>1</td>\n",
       "      <td>-195.134</td>\n",
       "      <td>8.315</td>\n",
       "      <td>Hold</td>\n",
       "      <td>0</td>\n",
       "      <td>8.315</td>\n",
       "      <td>-3.578</td>\n",
       "      <td>11.893</td>\n",
       "    </tr>\n",
       "    <tr>\n",
       "      <th>2025-04-03 20:59:00</th>\n",
       "      <td>203.5050</td>\n",
       "      <td>203.5100</td>\n",
       "      <td>202.7000</td>\n",
       "      <td>203.0600</td>\n",
       "      <td>1980376.0</td>\n",
       "      <td>203.1209</td>\n",
       "      <td>202.9991</td>\n",
       "      <td>203.5050</td>\n",
       "      <td>203.510</td>\n",
       "      <td>202.7000</td>\n",
       "      <td>203.0600</td>\n",
       "      <td>1980376</td>\n",
       "      <td>203.1209</td>\n",
       "      <td>202.9991</td>\n",
       "      <td>0.0</td>\n",
       "      <td>0.00000</td>\n",
       "      <td>0.0</td>\n",
       "      <td>0.000000</td>\n",
       "      <td>-1</td>\n",
       "      <td>0</td>\n",
       "      <td>7.866</td>\n",
       "      <td>7.866</td>\n",
       "      <td>Sell</td>\n",
       "      <td>-1</td>\n",
       "      <td>7.866</td>\n",
       "      <td>-4.028</td>\n",
       "      <td>11.894</td>\n",
       "    </tr>\n",
       "    <tr>\n",
       "      <th>2025-04-03 21:00:00</th>\n",
       "      <td>203.0300</td>\n",
       "      <td>203.6000</td>\n",
       "      <td>202.7300</td>\n",
       "      <td>203.3600</td>\n",
       "      <td>24779023.0</td>\n",
       "      <td>203.4210</td>\n",
       "      <td>203.2990</td>\n",
       "      <td>203.0300</td>\n",
       "      <td>203.600</td>\n",
       "      <td>202.7300</td>\n",
       "      <td>203.3600</td>\n",
       "      <td>24779023</td>\n",
       "      <td>203.4210</td>\n",
       "      <td>203.2990</td>\n",
       "      <td>0.0</td>\n",
       "      <td>0.00000</td>\n",
       "      <td>0.0</td>\n",
       "      <td>0.000000</td>\n",
       "      <td>0</td>\n",
       "      <td>0</td>\n",
       "      <td>7.866</td>\n",
       "      <td>7.866</td>\n",
       "      <td>No trade</td>\n",
       "      <td>0</td>\n",
       "      <td>7.866</td>\n",
       "      <td>-3.728</td>\n",
       "      <td>11.594</td>\n",
       "    </tr>\n",
       "  </tbody>\n",
       "</table>\n",
       "<p>451 rows × 27 columns</p>\n",
       "</div>"
      ],
      "text/plain": [
       "                         open      high       low     close      volume  \\\n",
       "2025-04-03 13:30:00  207.1494  207.2647  207.0100  207.1241     13676.0   \n",
       "2025-04-03 13:31:00  207.1230  207.2347  206.9859  207.1023     12580.0   \n",
       "2025-04-03 13:32:00  207.1017  207.2059  206.9418  207.0635     13159.0   \n",
       "2025-04-03 13:33:00  207.0587  207.1659  206.8941  207.0135     13732.0   \n",
       "2025-04-03 13:34:00  207.0128  207.1212  206.8483  206.9723     13307.0   \n",
       "...                       ...       ...       ...       ...         ...   \n",
       "2025-04-03 20:56:00  203.6650  203.8600  203.2600  203.3800    766015.0   \n",
       "2025-04-03 20:57:00  203.3900  203.5350  203.3239  203.3300    701062.0   \n",
       "2025-04-03 20:58:00  203.3300  203.5900  203.3300  203.5100    777503.0   \n",
       "2025-04-03 20:59:00  203.5050  203.5100  202.7000  203.0600   1980376.0   \n",
       "2025-04-03 21:00:00  203.0300  203.6000  202.7300  203.3600  24779023.0   \n",
       "\n",
       "                          ask       bid  open_orig  high_orig  low_orig  \\\n",
       "2025-04-03 13:30:00  207.1862  207.0619   206.7500    207.000  206.5300   \n",
       "2025-04-03 13:31:00  207.1645  207.0402   206.9600    207.040  206.8500   \n",
       "2025-04-03 13:32:00  207.1256  207.0014   206.9683    206.990  206.5000   \n",
       "2025-04-03 13:33:00  207.0756  206.9514   206.5300    206.650  206.4000   \n",
       "2025-04-03 13:34:00  207.0344  206.9102   206.4700    206.500  206.2000   \n",
       "...                       ...       ...        ...        ...       ...   \n",
       "2025-04-03 20:56:00  203.4410  203.3190   203.6650    203.860  203.2600   \n",
       "2025-04-03 20:57:00  203.3910  203.2690   203.3900    203.535  203.3239   \n",
       "2025-04-03 20:58:00  203.5711  203.4489   203.3300    203.590  203.3300   \n",
       "2025-04-03 20:59:00  203.1209  202.9991   203.5050    203.510  202.7000   \n",
       "2025-04-03 21:00:00  203.4210  203.2990   203.0300    203.600  202.7300   \n",
       "\n",
       "                     close_orig  volume_orig  ask_orig  bid_orig  signal  \\\n",
       "2025-04-03 13:30:00    206.9000         8684  206.9621  206.8379     0.0   \n",
       "2025-04-03 13:31:00    206.9700         3823  207.0321  206.9079     0.0   \n",
       "2025-04-03 13:32:00    206.5900        24072  206.6520  206.5280     0.0   \n",
       "2025-04-03 13:33:00    206.4000        21568  206.4619  206.3381     0.0   \n",
       "2025-04-03 13:34:00    206.4599        19380  206.5218  206.3980     0.0   \n",
       "...                         ...          ...       ...       ...     ...   \n",
       "2025-04-03 20:56:00    203.3800       766015  203.4410  203.3190     0.0   \n",
       "2025-04-03 20:57:00    203.3300       701062  203.3910  203.2690     0.0   \n",
       "2025-04-03 20:58:00    203.5100       777503  203.5711  203.4489     0.0   \n",
       "2025-04-03 20:59:00    203.0600      1980376  203.1209  202.9991     0.0   \n",
       "2025-04-03 21:00:00    203.3600     24779023  203.4210  203.2990     0.0   \n",
       "\n",
       "                     signal_smooth  signal_norm  signal_smooth_norm  \\\n",
       "2025-04-03 13:30:00        0.00000          0.0            0.000000   \n",
       "2025-04-03 13:31:00        0.00000          0.0            0.000000   \n",
       "2025-04-03 13:32:00        0.00000          0.0            0.000000   \n",
       "2025-04-03 13:33:00        0.00000          0.0            0.000000   \n",
       "2025-04-03 13:34:00        0.00000          0.0            0.000000   \n",
       "...                            ...          ...                 ...   \n",
       "2025-04-03 20:56:00        0.40625          0.0            0.167267   \n",
       "2025-04-03 20:57:00        0.14625          0.0            0.060216   \n",
       "2025-04-03 20:58:00        0.00000          0.0            0.000000   \n",
       "2025-04-03 20:59:00        0.00000          0.0            0.000000   \n",
       "2025-04-03 21:00:00        0.00000          0.0            0.000000   \n",
       "\n",
       "                     trade_action  Position     Cash  NetValue    Action  \\\n",
       "2025-04-03 13:30:00             0         0    0.000     0.000  No trade   \n",
       "2025-04-03 13:31:00             0         0    0.000     0.000  No trade   \n",
       "2025-04-03 13:32:00             0         0    0.000     0.000  No trade   \n",
       "2025-04-03 13:33:00             0         0    0.000     0.000  No trade   \n",
       "2025-04-03 13:34:00             0         0    0.000     0.000  No trade   \n",
       "...                           ...       ...      ...       ...       ...   \n",
       "2025-04-03 20:56:00             0         1 -195.134     8.185      Hold   \n",
       "2025-04-03 20:57:00             0         1 -195.134     8.135      Hold   \n",
       "2025-04-03 20:58:00             0         1 -195.134     8.315      Hold   \n",
       "2025-04-03 20:59:00            -1         0    7.866     7.866      Sell   \n",
       "2025-04-03 21:00:00             0         0    7.866     7.866  No trade   \n",
       "\n",
       "                     TradedAmount  StrategyEarning  BuyHoldEarning  \\\n",
       "2025-04-03 13:30:00             0            0.000           0.000   \n",
       "2025-04-03 13:31:00             0            0.000           0.000   \n",
       "2025-04-03 13:32:00             0            0.000           0.000   \n",
       "2025-04-03 13:33:00             0            0.000           0.000   \n",
       "2025-04-03 13:34:00             0            0.000           0.000   \n",
       "...                           ...              ...             ...   \n",
       "2025-04-03 20:56:00             0            8.185          -3.708   \n",
       "2025-04-03 20:57:00             0            8.135          -3.758   \n",
       "2025-04-03 20:58:00             0            8.315          -3.578   \n",
       "2025-04-03 20:59:00            -1            7.866          -4.028   \n",
       "2025-04-03 21:00:00             0            7.866          -3.728   \n",
       "\n",
       "                     EarningDiff  \n",
       "2025-04-03 13:30:00        0.000  \n",
       "2025-04-03 13:31:00        0.000  \n",
       "2025-04-03 13:32:00        0.000  \n",
       "2025-04-03 13:33:00        0.000  \n",
       "2025-04-03 13:34:00        0.000  \n",
       "...                          ...  \n",
       "2025-04-03 20:56:00       11.893  \n",
       "2025-04-03 20:57:00       11.893  \n",
       "2025-04-03 20:58:00       11.893  \n",
       "2025-04-03 20:59:00       11.894  \n",
       "2025-04-03 21:00:00       11.594  \n",
       "\n",
       "[451 rows x 27 columns]"
      ]
     },
     "execution_count": 8,
     "metadata": {},
     "output_type": "execute_result"
    }
   ],
   "source": [
    "df_fin = saveDF_checkDAY(\n",
    "                        df=df,\n",
    "                        ticker=ticker,\n",
    "                        min_prof_thr=min_prof_thr, \n",
    "                        max_down_prop=max_down_prop, \n",
    "                        smooth_win_sig=smooth_win_sig, \n",
    "                        pre_entry_decay=pre_entry_decay, \n",
    "                        buy_threshold=buy_threshold, \n",
    "                        trailing_stop_thresh=trailing_stop_thresh,\n",
    "                        day_to_check=day_to_check\n",
    "                        )\n",
    "\n",
    "df_fin"
   ]
  },
  {
   "cell_type": "code",
   "execution_count": null,
   "id": "b08989ce-0b0d-472e-8886-f495924fdc2a",
   "metadata": {},
   "outputs": [],
   "source": []
  },
  {
   "cell_type": "code",
   "execution_count": null,
   "id": "69d7b5c3-1d38-4044-b3ad-3c01bfd46c54",
   "metadata": {},
   "outputs": [],
   "source": []
  },
  {
   "cell_type": "code",
   "execution_count": null,
   "id": "3bd2fbe9-2089-4b44-b1dd-c0a1c651c41e",
   "metadata": {},
   "outputs": [],
   "source": []
  },
  {
   "cell_type": "code",
   "execution_count": null,
   "id": "b135e2db-88bd-41b4-b313-53969c1e8dcf",
   "metadata": {},
   "outputs": [],
   "source": []
  },
  {
   "cell_type": "code",
   "execution_count": null,
   "id": "05989e1a-6afb-47f9-9f9e-2d60e9ebc92e",
   "metadata": {},
   "outputs": [],
   "source": []
  },
  {
   "cell_type": "code",
   "execution_count": null,
   "id": "11a6cc7b-4728-4e81-8e81-bbc7fc61e787",
   "metadata": {},
   "outputs": [],
   "source": []
  }
 ],
 "metadata": {
  "kernelspec": {
   "display_name": "Python 3 (ipykernel)",
   "language": "python",
   "name": "python3"
  },
  "language_info": {
   "codemirror_mode": {
    "name": "ipython",
    "version": 3
   },
   "file_extension": ".py",
   "mimetype": "text/x-python",
   "name": "python",
   "nbconvert_exporter": "python",
   "pygments_lexer": "ipython3",
   "version": "3.10.18"
  }
 },
 "nbformat": 4,
 "nbformat_minor": 5
}
