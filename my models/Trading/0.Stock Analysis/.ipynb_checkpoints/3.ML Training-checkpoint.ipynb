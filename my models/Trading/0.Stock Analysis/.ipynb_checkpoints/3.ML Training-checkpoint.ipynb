{
 "cells": [
  {
   "cell_type": "code",
   "execution_count": 1,
   "id": "73f06a4f-691a-4a84-a305-e7212eb879bf",
   "metadata": {},
   "outputs": [],
   "source": [
    "# %matplotlib widget\n",
    "%matplotlib inline"
   ]
  },
  {
   "cell_type": "code",
   "execution_count": 2,
   "id": "4c868158-e6bb-4d56-bbdd-8e8103f0b9e4",
   "metadata": {},
   "outputs": [
    {
     "name": "stderr",
     "output_type": "stream",
     "text": [
      "/usr/local/lib/python3.12/dist-packages/tqdm/auto.py:21: TqdmWarning: IProgress not found. Please update jupyter and ipywidgets. See https://ipywidgets.readthedocs.io/en/stable/user_install.html\n",
      "  from .autonotebook import tqdm as notebook_tqdm\n"
     ]
    }
   ],
   "source": [
    "import importlib\n",
    "from libs import models, plots, params\n",
    "importlib.reload(models)\n",
    "importlib.reload(plots)\n",
    "importlib.reload(params)\n",
    "\n",
    "import pandas as pd\n",
    "import numpy  as np\n",
    "import math\n",
    "\n",
    "import datetime as dt\n",
    "from datetime import datetime\n",
    "\n",
    "import copy\n",
    "from typing import Sequence, List, Tuple, Optional, Union\n",
    "\n",
    "from tqdm.auto import tqdm\n",
    "from sklearn.preprocessing import StandardScaler\n",
    "\n",
    "import torch\n",
    "import torch.nn as nn\n",
    "import torch.nn.functional as Funct\n",
    "from torch.optim import AdamW\n",
    "from torch.optim.lr_scheduler import CosineAnnealingWarmRestarts, ReduceLROnPlateau\n",
    "from torch.utils.data import Dataset, DataLoader\n",
    "from torch.amp import GradScaler, autocast"
   ]
  },
  {
   "cell_type": "code",
   "execution_count": 3,
   "id": "b08b80ec",
   "metadata": {},
   "outputs": [
    {
     "data": {
      "text/html": [
       "<div>\n",
       "<style scoped>\n",
       "    .dataframe tbody tr th:only-of-type {\n",
       "        vertical-align: middle;\n",
       "    }\n",
       "\n",
       "    .dataframe tbody tr th {\n",
       "        vertical-align: top;\n",
       "    }\n",
       "\n",
       "    .dataframe thead th {\n",
       "        text-align: right;\n",
       "    }\n",
       "</style>\n",
       "<table border=\"1\" class=\"dataframe\">\n",
       "  <thead>\n",
       "    <tr style=\"text-align: right;\">\n",
       "      <th></th>\n",
       "      <th>open</th>\n",
       "      <th>high</th>\n",
       "      <th>low</th>\n",
       "      <th>close</th>\n",
       "      <th>volume</th>\n",
       "      <th>bid</th>\n",
       "      <th>ask</th>\n",
       "      <th>StrategyEarning</th>\n",
       "      <th>EarningDiff</th>\n",
       "      <th>signal_scaled</th>\n",
       "      <th>signal_smooth</th>\n",
       "      <th>signal_action</th>\n",
       "    </tr>\n",
       "  </thead>\n",
       "  <tbody>\n",
       "    <tr>\n",
       "      <th>2014-04-03 10:30:00</th>\n",
       "      <td>28.650</td>\n",
       "      <td>28.6500</td>\n",
       "      <td>28.650</td>\n",
       "      <td>28.6500</td>\n",
       "      <td>2000.0</td>\n",
       "      <td>28.641405</td>\n",
       "      <td>28.658595</td>\n",
       "      <td>0.0</td>\n",
       "      <td>0.000</td>\n",
       "      <td>0.398980</td>\n",
       "      <td>0.401385</td>\n",
       "      <td>0</td>\n",
       "    </tr>\n",
       "    <tr>\n",
       "      <th>2014-04-03 10:31:00</th>\n",
       "      <td>28.650</td>\n",
       "      <td>28.6500</td>\n",
       "      <td>28.650</td>\n",
       "      <td>28.6500</td>\n",
       "      <td>2000.0</td>\n",
       "      <td>28.641405</td>\n",
       "      <td>28.658595</td>\n",
       "      <td>0.0</td>\n",
       "      <td>0.000</td>\n",
       "      <td>0.400179</td>\n",
       "      <td>0.401989</td>\n",
       "      <td>0</td>\n",
       "    </tr>\n",
       "    <tr>\n",
       "      <th>2014-04-03 10:32:00</th>\n",
       "      <td>28.650</td>\n",
       "      <td>28.6500</td>\n",
       "      <td>28.650</td>\n",
       "      <td>28.6500</td>\n",
       "      <td>2000.0</td>\n",
       "      <td>28.641405</td>\n",
       "      <td>28.658595</td>\n",
       "      <td>0.0</td>\n",
       "      <td>0.000</td>\n",
       "      <td>0.401381</td>\n",
       "      <td>0.402595</td>\n",
       "      <td>0</td>\n",
       "    </tr>\n",
       "    <tr>\n",
       "      <th>2014-04-03 10:33:00</th>\n",
       "      <td>28.650</td>\n",
       "      <td>28.6500</td>\n",
       "      <td>28.650</td>\n",
       "      <td>28.6500</td>\n",
       "      <td>2000.0</td>\n",
       "      <td>28.641405</td>\n",
       "      <td>28.658595</td>\n",
       "      <td>0.0</td>\n",
       "      <td>0.000</td>\n",
       "      <td>0.402587</td>\n",
       "      <td>0.403201</td>\n",
       "      <td>0</td>\n",
       "    </tr>\n",
       "    <tr>\n",
       "      <th>2014-04-03 10:34:00</th>\n",
       "      <td>28.650</td>\n",
       "      <td>28.6500</td>\n",
       "      <td>28.650</td>\n",
       "      <td>28.6500</td>\n",
       "      <td>2000.0</td>\n",
       "      <td>28.641405</td>\n",
       "      <td>28.658595</td>\n",
       "      <td>0.0</td>\n",
       "      <td>0.000</td>\n",
       "      <td>0.403797</td>\n",
       "      <td>0.403809</td>\n",
       "      <td>0</td>\n",
       "    </tr>\n",
       "    <tr>\n",
       "      <th>...</th>\n",
       "      <td>...</td>\n",
       "      <td>...</td>\n",
       "      <td>...</td>\n",
       "      <td>...</td>\n",
       "      <td>...</td>\n",
       "      <td>...</td>\n",
       "      <td>...</td>\n",
       "      <td>...</td>\n",
       "      <td>...</td>\n",
       "      <td>...</td>\n",
       "      <td>...</td>\n",
       "      <td>...</td>\n",
       "    </tr>\n",
       "    <tr>\n",
       "      <th>2025-06-18 20:56:00</th>\n",
       "      <td>173.375</td>\n",
       "      <td>173.6771</td>\n",
       "      <td>173.215</td>\n",
       "      <td>173.5650</td>\n",
       "      <td>621199.0</td>\n",
       "      <td>173.512900</td>\n",
       "      <td>173.617100</td>\n",
       "      <td>-1.4</td>\n",
       "      <td>1.310</td>\n",
       "      <td>0.000000</td>\n",
       "      <td>0.000000</td>\n",
       "      <td>0</td>\n",
       "    </tr>\n",
       "    <tr>\n",
       "      <th>2025-06-18 20:57:00</th>\n",
       "      <td>173.565</td>\n",
       "      <td>173.5900</td>\n",
       "      <td>173.240</td>\n",
       "      <td>173.3800</td>\n",
       "      <td>624198.0</td>\n",
       "      <td>173.328000</td>\n",
       "      <td>173.432000</td>\n",
       "      <td>-1.4</td>\n",
       "      <td>1.495</td>\n",
       "      <td>0.000000</td>\n",
       "      <td>0.000000</td>\n",
       "      <td>0</td>\n",
       "    </tr>\n",
       "    <tr>\n",
       "      <th>2025-06-18 20:58:00</th>\n",
       "      <td>173.390</td>\n",
       "      <td>173.4100</td>\n",
       "      <td>173.200</td>\n",
       "      <td>173.3100</td>\n",
       "      <td>454542.0</td>\n",
       "      <td>173.258000</td>\n",
       "      <td>173.362000</td>\n",
       "      <td>-1.4</td>\n",
       "      <td>1.565</td>\n",
       "      <td>0.000000</td>\n",
       "      <td>0.000000</td>\n",
       "      <td>0</td>\n",
       "    </tr>\n",
       "    <tr>\n",
       "      <th>2025-06-18 20:59:00</th>\n",
       "      <td>173.315</td>\n",
       "      <td>173.4000</td>\n",
       "      <td>173.230</td>\n",
       "      <td>173.2800</td>\n",
       "      <td>1094746.0</td>\n",
       "      <td>173.228000</td>\n",
       "      <td>173.332000</td>\n",
       "      <td>-1.4</td>\n",
       "      <td>1.595</td>\n",
       "      <td>0.000000</td>\n",
       "      <td>0.000000</td>\n",
       "      <td>0</td>\n",
       "    </tr>\n",
       "    <tr>\n",
       "      <th>2025-06-18 21:00:00</th>\n",
       "      <td>173.300</td>\n",
       "      <td>174.0500</td>\n",
       "      <td>173.170</td>\n",
       "      <td>173.6097</td>\n",
       "      <td>7649838.0</td>\n",
       "      <td>173.557600</td>\n",
       "      <td>173.661800</td>\n",
       "      <td>-1.4</td>\n",
       "      <td>1.265</td>\n",
       "      <td>0.000000</td>\n",
       "      <td>0.000000</td>\n",
       "      <td>0</td>\n",
       "    </tr>\n",
       "  </tbody>\n",
       "</table>\n",
       "<p>1776896 rows × 12 columns</p>\n",
       "</div>"
      ],
      "text/plain": [
       "                        open      high      low     close     volume  \\\n",
       "2014-04-03 10:30:00   28.650   28.6500   28.650   28.6500     2000.0   \n",
       "2014-04-03 10:31:00   28.650   28.6500   28.650   28.6500     2000.0   \n",
       "2014-04-03 10:32:00   28.650   28.6500   28.650   28.6500     2000.0   \n",
       "2014-04-03 10:33:00   28.650   28.6500   28.650   28.6500     2000.0   \n",
       "2014-04-03 10:34:00   28.650   28.6500   28.650   28.6500     2000.0   \n",
       "...                      ...       ...      ...       ...        ...   \n",
       "2025-06-18 20:56:00  173.375  173.6771  173.215  173.5650   621199.0   \n",
       "2025-06-18 20:57:00  173.565  173.5900  173.240  173.3800   624198.0   \n",
       "2025-06-18 20:58:00  173.390  173.4100  173.200  173.3100   454542.0   \n",
       "2025-06-18 20:59:00  173.315  173.4000  173.230  173.2800  1094746.0   \n",
       "2025-06-18 21:00:00  173.300  174.0500  173.170  173.6097  7649838.0   \n",
       "\n",
       "                            bid         ask  StrategyEarning  EarningDiff  \\\n",
       "2014-04-03 10:30:00   28.641405   28.658595              0.0        0.000   \n",
       "2014-04-03 10:31:00   28.641405   28.658595              0.0        0.000   \n",
       "2014-04-03 10:32:00   28.641405   28.658595              0.0        0.000   \n",
       "2014-04-03 10:33:00   28.641405   28.658595              0.0        0.000   \n",
       "2014-04-03 10:34:00   28.641405   28.658595              0.0        0.000   \n",
       "...                         ...         ...              ...          ...   \n",
       "2025-06-18 20:56:00  173.512900  173.617100             -1.4        1.310   \n",
       "2025-06-18 20:57:00  173.328000  173.432000             -1.4        1.495   \n",
       "2025-06-18 20:58:00  173.258000  173.362000             -1.4        1.565   \n",
       "2025-06-18 20:59:00  173.228000  173.332000             -1.4        1.595   \n",
       "2025-06-18 21:00:00  173.557600  173.661800             -1.4        1.265   \n",
       "\n",
       "                     signal_scaled  signal_smooth  signal_action  \n",
       "2014-04-03 10:30:00       0.398980       0.401385              0  \n",
       "2014-04-03 10:31:00       0.400179       0.401989              0  \n",
       "2014-04-03 10:32:00       0.401381       0.402595              0  \n",
       "2014-04-03 10:33:00       0.402587       0.403201              0  \n",
       "2014-04-03 10:34:00       0.403797       0.403809              0  \n",
       "...                            ...            ...            ...  \n",
       "2025-06-18 20:56:00       0.000000       0.000000              0  \n",
       "2025-06-18 20:57:00       0.000000       0.000000              0  \n",
       "2025-06-18 20:58:00       0.000000       0.000000              0  \n",
       "2025-06-18 20:59:00       0.000000       0.000000              0  \n",
       "2025-06-18 21:00:00       0.000000       0.000000              0  \n",
       "\n",
       "[1776896 rows x 12 columns]"
      ]
     },
     "execution_count": 3,
     "metadata": {},
     "output_type": "execute_result"
    }
   ],
   "source": [
    "ticker = params.ticker\n",
    "\n",
    "df = pd.read_csv(f\"dfs training/{ticker}_final.csv\", index_col=0, parse_dates=True)\n",
    "df"
   ]
  },
  {
   "cell_type": "code",
   "execution_count": 4,
   "id": "d0fb5b72",
   "metadata": {},
   "outputs": [
    {
     "name": "stdout",
     "output_type": "stream",
     "text": [
      "Using device: cuda\n"
     ]
    }
   ],
   "source": [
    "###############################################################################\n",
    "# 0 ·  DATA & PATHS                                                           #\n",
    "###############################################################################\n",
    "label_col      = params.label_col\n",
    "feature_cols   = params.feature_cols\n",
    "\n",
    "LOOK_BACK      = params.look_back                                \n",
    "N_FEATS        = len(feature_cols) \n",
    "\n",
    "date = datetime.now().strftime(\"%Y-%m-%d %H:%M\")\n",
    "\n",
    "regular_start      = params.regular_start_pred\n",
    "\n",
    "# dataset split proportions\n",
    "TRAIN_PROP, VAL_PROP = params.train_prop, params.val_prop\n",
    "\n",
    "# USE GPU if available, otherwise fallback to CPU\n",
    "device = params.device\n",
    "print(\"Using device:\", device)"
   ]
  },
  {
   "cell_type": "code",
   "execution_count": 5,
   "id": "7b98406a",
   "metadata": {},
   "outputs": [],
   "source": [
    "###############################################################################\n",
    "# 1 · MODEL HYPER-PARAMETERS (attention-augmented tuned defaults)\n",
    "###############################################################################\n",
    "\n",
    "# ── Architecture Parameters ───────────────────────────────────────────────\n",
    "SHORT_UNITS         = 64           # hidden size of each daily LSTM layer\n",
    "LONG_UNITS          = 128          # hidden size of the weekly LSTM\n",
    "DROPOUT_SHORT       = 0.3          # dropout after residual+attention block\n",
    "DROPOUT_LONG        = 0.4          # dropout after weekly LSTM outputs\n",
    "ATT_HEADS           = 4            # number of self-attention heads\n",
    "ATT_DROPOUT         = 0.2          # dropout rate inside attention\n",
    "WEIGHT_DECAY        = 5e-4         # L2 weight decay on all model weights\n",
    "\n",
    "# ── Training Control Parameters ────────────────────────────────────────────\n",
    "TRAIN_BATCH         = 32           # days per training bundle\n",
    "VAL_BATCH           = 1            # days per validation batch\n",
    "MAX_EPOCHS          = 140          # upper limit on training epochs\n",
    "EARLY_STOP_PATIENCE = 16           # stop if no val-improve for this many epochs\n",
    "NUM_WORKERS         = 4            # DataLoader worker count\n",
    "\n",
    "# ── Optimizer Settings ─────────────────────────────────────────────────────\n",
    "INITIAL_LR          = 1e-4         # AdamW initial learning rate\n",
    "CLIPNORM            = 0.5          # max-norm gradient clipping\n",
    "\n",
    "# ── ReduceLROnPlateau Scheduler ───────────────────────────────────────────\n",
    "PLATEAU_FACTOR      = 0.3          # multiply LR by this factor on plateau\n",
    "PLATEAU_PATIENCE    = 5            # epochs with no val-improve before LR cut\n",
    "MIN_LR              = 1e-6         # lower bound on LR after reductions\n",
    "\n",
    "# ── CosineAnnealingWarmRestarts Scheduler ─────────────────────────────────\n",
    "T_0                 = 5           # epochs before first cosine restart\n",
    "T_MULT              = 1            # cycle length multiplier after each restart\n",
    "ETA_MIN             = MIN_LR       # floor LR in each cosine cycle\n"
   ]
  },
  {
   "cell_type": "code",
   "execution_count": 6,
   "id": "2723445e-c4ea-4974-8b81-50b353918934",
   "metadata": {},
   "outputs": [],
   "source": [
    "def build_lstm_tensors(\n",
    "    df: pd.DataFrame,\n",
    "    *,\n",
    "    look_back: int,                # number of past minutes used to form each sample\n",
    "    feature_cols: Sequence[str],   # names of DataFrame columns fed into the LSTM\n",
    "    label_col: str,                # name of the column to predict (next‐step target)\n",
    "    regular_start: dt.time,        # only keep windows whose end‐time ≥ this “regular” market open\n",
    "    device: Optional[torch.device] = None\n",
    ") -> Tuple[torch.Tensor, torch.Tensor, torch.Tensor, torch.Tensor, torch.Tensor]:\n",
    "    \"\"\"\n",
    "    Convert a minute‐bar DataFrame into ready‐to‐train PyTorch tensors for a stateful LSTM.\n",
    "    \n",
    "    Steps & outputs:\n",
    "    \n",
    "      0) Pick your target device (GPU if available, else CPU).\n",
    "      1) Slice the DataFrame into calendar‐day chunks (so we standardize & state‐reset per day).\n",
    "      2) For each day:\n",
    "         a) Sort by timestamp.\n",
    "         b) Extract raw price series (close, bid, ask) as CPU tensors.\n",
    "         c) Standardize your chosen feature columns with a fresh StandardScaler.\n",
    "         d) Build sliding windows of length `look_back` via `Tensor.unfold`.\n",
    "         e) Align next‐minute labels (`label_col`) and raw‐price points by dropping the first `look_back` rows.\n",
    "         f) Mask out any windows whose *end* timestamp is before `regular_start`.\n",
    "      3) Concatenate all days’ windows, labels, and raw‐price arrays along the sample dimension.\n",
    "      4) Move everything onto the target device exactly once.\n",
    "\n",
    "    Returns:\n",
    "      X         – float32 Tensor of shape (N, look_back, F), the standardized input windows\n",
    "      y         – float32 Tensor of shape (N,       ), the aligned single‐step targets\n",
    "      raw_close – float32 Tensor of shape (N,       ), the raw close price at prediction time\n",
    "      raw_bid   – float32 Tensor of shape (N,       ), the raw bid   price at prediction time\n",
    "      raw_ask   – float32 Tensor of shape (N,       ), the raw ask   price at prediction time\n",
    "\n",
    "    Where:\n",
    "      N = total number of windows across all days that passed the RTH filter,\n",
    "      F = number of feature columns,\n",
    "      look_back = number of minutes in each input window.\n",
    "    \"\"\"\n",
    "\n",
    "    # Prepare per-day lists (CPU‐resident) to collect windows & labels\n",
    "    X_days, y_days = [], []\n",
    "    c_days, b_days, a_days = [], [], []  # raw close/bid/ask\n",
    "\n",
    "    # 1) Loop over each calendar day chunk\n",
    "    #    df.index.normalize() groups by midnight‐normalized date\n",
    "    for _, day_df in df.groupby(df.index.normalize(), sort=False):\n",
    "        # Ensure chronological order\n",
    "        day_df = day_df.sort_index()\n",
    "\n",
    "        # 1a) Raw price series as 1D CPU Tensors (length T = # minutes in the day)\n",
    "        close_t = torch.from_numpy(\n",
    "            day_df[\"close\"].to_numpy(dtype=np.float32)\n",
    "        )  # shape: (T,)\n",
    "        bid_t = torch.from_numpy(\n",
    "            day_df[\"bid\"].to_numpy(dtype=np.float32)\n",
    "        )\n",
    "        ask_t = torch.from_numpy(\n",
    "            day_df[\"ask\"].to_numpy(dtype=np.float32)\n",
    "        )\n",
    "\n",
    "        # 1b) Standardize features *per day* on CPU\n",
    "        #     - fit_transform ensures zero‐mean, unit‐variance per-day\n",
    "        feats_np = StandardScaler().fit_transform(\n",
    "            day_df[feature_cols].to_numpy()\n",
    "        )           # shape: (T, F)\n",
    "        feats_t = torch.from_numpy(feats_np.astype(np.float32))\n",
    "\n",
    "        # 1c) Raw labels (next‐step targets) as CPU Tensor\n",
    "        labels_t = torch.from_numpy(\n",
    "            day_df[label_col].to_numpy(dtype=np.float32)\n",
    "        )  # shape: (T,)\n",
    "\n",
    "        # 2) Build sliding windows (unfold on the time axis)\n",
    "        #    Tensor.unfold(dim=0, size=look_back, step=1) \n",
    "        #    produces shape (T - look_back + 1, look_back, F)\n",
    "        windows = feats_t.unfold(0, look_back, 1)\n",
    "\n",
    "        # 3) Align targets one step *after* each window:\n",
    "        #    - Drop the final window so that `targets = labels_t[look_back:]` aligns 1:1\n",
    "        windows = windows[:-1]               # new shape: (T - look_back, look_back, F)\n",
    "        targets = labels_t[look_back:]       # shape: (T - look_back,)\n",
    "        c_pts = close_t[look_back:]          # raw close aligned\n",
    "        b_pts = bid_t[look_back:]            # raw bid aligned\n",
    "        a_pts = ask_t[look_back:]            # raw ask aligned\n",
    "\n",
    "        # 4) RTH filtering: only keep windows whose *end* timestamp is ≥ regular_start\n",
    "        #    day_df.index.time[look_back:] is a numpy array of length (T - look_back)\n",
    "        end_times = day_df.index.time[look_back:]\n",
    "        mask = (end_times >= regular_start)     # boolean mask, shape=(T - look_back,)\n",
    "        if not np.any(mask):\n",
    "            # no windows qualify for this day → skip\n",
    "            continue\n",
    "\n",
    "        # Convert numpy bool mask into a torch.BoolTensor\n",
    "        mask_t = torch.from_numpy(mask)\n",
    "\n",
    "        # 5) Apply mask to CPU tensors (window‐batch dim is dimension 0)\n",
    "        windows = windows[mask_t]            # (n_i, look_back, F)\n",
    "        targets = targets[mask_t]            # (n_i,)\n",
    "        c_pts = c_pts[mask_t]                # (n_i,)\n",
    "        b_pts = b_pts[mask_t]                # (n_i,)\n",
    "        a_pts = a_pts[mask_t]                # (n_i,)\n",
    "\n",
    "        # 6) Collect this day’s filtered windows & labels\n",
    "        X_days.append(windows)\n",
    "        y_days.append(targets)\n",
    "        c_days.append(c_pts)\n",
    "        b_days.append(b_pts)\n",
    "        a_days.append(a_pts)\n",
    "\n",
    "    # If after filtering no windows remain, alert the user\n",
    "    if not X_days:\n",
    "        raise ValueError(\n",
    "            \"No windows passed RTH filter; check your regular_start or input DataFrame.\"\n",
    "        )\n",
    "\n",
    "    # 7) Concatenate all days along the sample dimension (dim=0) on CPU\n",
    "    X_cpu = torch.cat(X_days, dim=0)   # final shape: (N, look_back, F)\n",
    "    y_cpu = torch.cat(y_days, dim=0)   # final shape: (N,)\n",
    "    c_cpu = torch.cat(c_days, dim=0)   # final shape: (N,)\n",
    "    b_cpu = torch.cat(b_days, dim=0)   # final shape: (N,)\n",
    "    a_cpu = torch.cat(a_days, dim=0)   # final shape: (N,)\n",
    "\n",
    "    # 8) One‐shot transfer to the chosen device for fastest GPU memory copy\n",
    "    #    non_blocking=True overlaps host→device copies with compute when possible.\n",
    "    X         = X_cpu.to(device, non_blocking=True)\n",
    "    y         = y_cpu.to(device, non_blocking=True)\n",
    "    raw_close = c_cpu.to(device, non_blocking=True)\n",
    "    raw_bid   = b_cpu.to(device, non_blocking=True)\n",
    "    raw_ask   = a_cpu.to(device, non_blocking=True)\n",
    "\n",
    "    return X, y, raw_close, raw_bid, raw_ask\n"
   ]
  },
  {
   "cell_type": "code",
   "execution_count": 7,
   "id": "b805fa9c",
   "metadata": {},
   "outputs": [
    {
     "name": "stdout",
     "output_type": "stream",
     "text": [
      "torch.Size([1438976, 5, 120])\n",
      "torch.Size([1438976])\n",
      "Shapes:\n",
      "  X         = torch.Size([1438976, 5, 120]) (samples, look_back, features)\n",
      "  y         = torch.Size([1438976]) (samples,)\n",
      "  raw_close = torch.Size([1438976])\n",
      "  raw_bid   = torch.Size([1438976])\n",
      "  raw_ask   = torch.Size([1438976])\n",
      "\n",
      "First 5 window‐end timestamps:\n",
      "  2014-04-03 12:30:00\n",
      "  2014-04-03 12:31:00\n",
      "  2014-04-03 12:32:00\n",
      "  2014-04-03 12:33:00\n",
      "  2014-04-03 12:34:00\n",
      "\n",
      "First window covers 120 bars from\n",
      "  2014-04-03 10:30:00  →  2014-04-03 12:29:00\n",
      "and predicts the bar at 2014-04-03 12:30:00\n",
      "\n",
      "Those bars (timestamps):\n",
      "DatetimeIndex(['2014-04-03 10:30:00', '2014-04-03 10:31:00',\n",
      "               '2014-04-03 10:32:00', '2014-04-03 10:33:00',\n",
      "               '2014-04-03 10:34:00', '2014-04-03 10:35:00',\n",
      "               '2014-04-03 10:36:00', '2014-04-03 10:37:00',\n",
      "               '2014-04-03 10:38:00', '2014-04-03 10:39:00',\n",
      "               ...\n",
      "               '2014-04-03 12:20:00', '2014-04-03 12:21:00',\n",
      "               '2014-04-03 12:22:00', '2014-04-03 12:23:00',\n",
      "               '2014-04-03 12:24:00', '2014-04-03 12:25:00',\n",
      "               '2014-04-03 12:26:00', '2014-04-03 12:27:00',\n",
      "               '2014-04-03 12:28:00', '2014-04-03 12:29:00'],\n",
      "              dtype='datetime64[ns]', length=120, freq='min')\n",
      "First 5 values y: [0.67467767 0.68011326 0.6847451  0.68856835 0.6915781 ]\n",
      "First 5 signal_smooth values, on regular trade time:\n"
     ]
    },
    {
     "data": {
      "text/plain": [
       "2014-04-03 12:30:00    0.674678\n",
       "2014-04-03 12:31:00    0.680113\n",
       "2014-04-03 12:32:00    0.684745\n",
       "2014-04-03 12:33:00    0.688568\n",
       "2014-04-03 12:34:00    0.691578\n",
       "Name: signal_smooth, dtype: float64"
      ]
     },
     "execution_count": 7,
     "metadata": {},
     "output_type": "execute_result"
    }
   ],
   "source": [
    "X, y, raw_close, raw_bid, raw_ask = build_lstm_tensors(\n",
    "    df=df,\n",
    "    look_back=LOOK_BACK,\n",
    "    feature_cols=feature_cols,\n",
    "    label_col=label_col,\n",
    "    regular_start=regular_start\n",
    ")\n",
    "\n",
    "# 1)\n",
    "print(X.shape) # we use 'm' features and 'n' previous look back values to predict each 1 label\n",
    "print(y.shape) \n",
    "\n",
    "\n",
    "# 2) quick shapes\n",
    "print(\"Shapes:\")\n",
    "print(\"  X         =\", X.shape,    \"(samples, look_back, features)\")\n",
    "print(\"  y         =\", y.shape,    \"(samples,)\")\n",
    "print(\"  raw_close =\", raw_close.shape)\n",
    "print(\"  raw_bid   =\", raw_bid.shape)\n",
    "print(\"  raw_ask   =\", raw_ask.shape)\n",
    "\n",
    "# 3) rebuild the list of label‐timestamps (window‐ends)\n",
    "ends = []\n",
    "for day, day_df in df.groupby(df.index.normalize(), sort=False):\n",
    "    day_df = day_df.sort_index()\n",
    "    # candidate ends at positions look_back .. end\n",
    "    idxs = day_df.index[LOOK_BACK:]\n",
    "    # only keep those at/after regular_start\n",
    "    mask = [t >= regular_start for t in idxs.time]\n",
    "    ends.extend(idxs[mask])\n",
    "\n",
    "# 4) show first few ends\n",
    "print(\"\\nFirst 5 window‐end timestamps:\")\n",
    "for ts in ends[:5]:\n",
    "    print(\" \", ts)\n",
    "\n",
    "# 5) show exactly which minutes X[0] contains\n",
    "first_end   = ends[0]\n",
    "first_start = first_end - pd.Timedelta(minutes=LOOK_BACK)\n",
    "print(f\"\\nFirst window covers {LOOK_BACK} bars from\")\n",
    "print(f\"  {first_start}  →  {first_end - pd.Timedelta(minutes=1)}\")\n",
    "print(f\"and predicts the bar at {first_end}\")\n",
    "\n",
    "print(\"\\nThose bars (timestamps):\")\n",
    "print(pd.date_range(first_start, first_end - pd.Timedelta(minutes=1), freq=\"1min\"))\n",
    "# -------------------------------------------------------------------\n",
    "\n",
    "y_np         = y.cpu().numpy()\n",
    "print(\"First 5 values y:\",         y_np[:5])\n",
    "print(\"First 5 signal_smooth values, on regular trade time:\")\n",
    "df.signal_smooth.iloc[LOOK_BACK:LOOK_BACK+5]"
   ]
  },
  {
   "cell_type": "code",
   "execution_count": 8,
   "id": "bdd4885c-a0ed-4798-aefb-a8ef7a66b390",
   "metadata": {},
   "outputs": [],
   "source": [
    "def chronological_split(\n",
    "    X: torch.Tensor, \n",
    "    y: torch.Tensor,\n",
    "    raw_close: torch.Tensor,\n",
    "    raw_bid:   torch.Tensor,\n",
    "    raw_ask:   torch.Tensor,\n",
    "    df:        pd.DataFrame,\n",
    "    *,\n",
    "    look_back:      int,          # how many minutes each input window spans\n",
    "    regular_start:  dt.time,      # earliest timestamp at which we make predictions each day\n",
    "    train_prop:     float,        # fraction of calendar days for training\n",
    "    val_prop:       float,        # fraction of calendar days for validation\n",
    "    train_batch:    int,          # round-up granularity for training days\n",
    "    device:         Optional[torch.device] = None\n",
    ") -> Tuple[\n",
    "    Tuple[torch.Tensor, torch.Tensor],                                   # (X_tr, y_tr)\n",
    "    Tuple[torch.Tensor, torch.Tensor],                                   # (X_val, y_val)\n",
    "    Tuple[torch.Tensor, torch.Tensor, torch.Tensor, torch.Tensor, torch.Tensor],  # (X_te, y_te, close_te, bid_te, ask_te)\n",
    "    List[int],                                                           # samples_per_day\n",
    "    torch.Tensor, torch.Tensor, torch.Tensor                              # day_id_tr, day_id_val, day_id_te\n",
    "]:\n",
    "    \"\"\"\n",
    "    Splits a monolithic sliding‐window dataset into chronological train/val/test\n",
    "    groups by calendar day.  Ensures that *no day’s* windows end up in more than\n",
    "    one split.  Returns the per‐split tensors plus metadata, and also writes\n",
    "    out the full-minute test‐period DataFrame to CSV.\n",
    "\n",
    "    Args:\n",
    "      X           Tensor of all windows, shape (N, look_back, F)\n",
    "      y           Tensor of all labels,  shape (N,)\n",
    "      raw_close   Raw close‐price at prediction times, shape (N,)\n",
    "      raw_bid     Raw bid‐price at prediction times,   shape (N,)\n",
    "      raw_ask     Raw ask‐price at prediction times,   shape (N,)\n",
    "      df          Original minute‐bar DataFrame (DatetimeIndex)\n",
    "\n",
    "    Returns:\n",
    "      - (X_tr, y_tr)\n",
    "      - (X_val, y_val)\n",
    "      - (X_te, y_te, close_te, bid_te, ask_te)\n",
    "      - samples_per_day  (list of # windows contributed by each day)\n",
    "      - day_id_tr, day_id_val, day_id_te  (per-window day‐index tags)\n",
    "    \"\"\"\n",
    "\n",
    "    # 0) Default device: if none provided, use X’s device\n",
    "    device = device or X.device\n",
    "\n",
    "    # 1) Count valid windows per calendar day\n",
    "    samples_per_day: List[int] = []\n",
    "    # also record the ordered list of calendar‐day dates\n",
    "    all_days: List[pd.Timestamp] = []\n",
    "\n",
    "    for day, day_df in df.groupby(df.index.normalize(), sort=False):\n",
    "        all_days.append(day)\n",
    "        day_df = day_df.sort_index()\n",
    "        # candidate window‐ends at positions look_back .. end\n",
    "        end_times = day_df.index.time[look_back:]\n",
    "        # mask True for windows whose end‐time ≥ market-open\n",
    "        mask_rth = np.array([t >= regular_start for t in end_times], dtype=bool)\n",
    "        samples_per_day.append(int(mask_rth.sum()))\n",
    "\n",
    "    # 2) Sanity: total windows must match X.shape[0]\n",
    "    total = sum(samples_per_day)\n",
    "    if total != X.size(0):\n",
    "        raise ValueError(f\"Window count mismatch: {total} vs {X.size(0)}\")\n",
    "\n",
    "    # 3) Build a day‐ID tensor tagging each window by its day index [0..D-1]\n",
    "    D = len(samples_per_day)\n",
    "    day_counts = torch.tensor(samples_per_day, dtype=torch.long, device=device)\n",
    "    day_id_vec = torch.repeat_interleave(\n",
    "        torch.arange(D, device=device, dtype=torch.long),\n",
    "        day_counts\n",
    "    )  # shape = (N,)\n",
    "\n",
    "    # 4) Compute train/val/test cutoffs in day‐space\n",
    "    train_days_orig = int(D * train_prop)\n",
    "    batches_needed  = (train_days_orig + train_batch - 1) // train_batch\n",
    "    train_days      = min(D, batches_needed * train_batch)\n",
    "    cut_train       = train_days - 1\n",
    "    cut_val         = int(D * (train_prop + val_prop))\n",
    "\n",
    "    # 5) Make boolean masks over the N windows\n",
    "    mask_tr  = day_id_vec <= cut_train\n",
    "    mask_val = (day_id_vec > cut_train) & (day_id_vec <= cut_val)\n",
    "    mask_te  = day_id_vec > cut_val\n",
    "\n",
    "    # 6) Slice out train/val/test tensors\n",
    "    X_tr, y_tr   = X[mask_tr],       y[mask_tr]\n",
    "    X_val, y_val = X[mask_val],      y[mask_val]\n",
    "    X_te,  y_te  = X[mask_te],       y[mask_te]\n",
    "    close_te     = raw_close[mask_te]\n",
    "    bid_te       = raw_bid[mask_te]\n",
    "    ask_te       = raw_ask[mask_te]\n",
    "\n",
    "    # 7) Also slice out the per-window day IDs\n",
    "    day_id_tr  = day_id_vec[mask_tr]\n",
    "    day_id_val = day_id_vec[mask_val]\n",
    "    day_id_te  = day_id_vec[mask_te]\n",
    "\n",
    "    # ────────────────────────────────────────────────────────────────────\n",
    "    # SIDE‐EFFECT: write out just the regular‐session bars for test days\n",
    "    test_days = [all_days[i] for i in range(D) if i > cut_val]\n",
    "    df_test=df.loc[df.index.normalize().isin(test_days)]\n",
    "    # Save to disk for downstream use\n",
    "    df_test.to_csv(f\"dfs training/{ticker}_test_DF.csv\", index=True)\n",
    "\n",
    "    # 8) Return splits + metadata\n",
    "    return (\n",
    "        (X_tr, y_tr),\n",
    "        (X_val, y_val),\n",
    "        (X_te, y_te, close_te, bid_te, ask_te),\n",
    "        samples_per_day,\n",
    "        day_id_tr, day_id_val, day_id_te\n",
    "    )\n"
   ]
  },
  {
   "cell_type": "code",
   "execution_count": 9,
   "id": "7b4f1ac4",
   "metadata": {},
   "outputs": [
    {
     "name": "stdout",
     "output_type": "stream",
     "text": [
      "Shapes:\n",
      "  X_tr        = torch.Size([1013824, 5, 120])\n",
      "  y_tr        = torch.Size([1013824])\n",
      "  raw_close_te= torch.Size([215642])\n",
      "  raw_bid_te  = torch.Size([215642])\n",
      "  raw_ask_te  = torch.Size([215642])\n",
      "\n",
      "Days: train=1984, val=410, test=422\n",
      "Windows: train=1013824, val=209510, test=215642\n",
      "\n",
      "First 5 window‐end times: [Timestamp('2014-04-03 12:30:00'), Timestamp('2014-04-03 12:31:00'), Timestamp('2014-04-03 12:32:00'), Timestamp('2014-04-03 12:33:00'), Timestamp('2014-04-03 12:34:00')]\n",
      "\n",
      "X_tr[0] covers bars from 2014-04-03 10:30:00 to 2014-04-03 12:29:00\n",
      "Those timestamps:\n",
      "DatetimeIndex(['2014-04-03 10:30:00', '2014-04-03 10:31:00',\n",
      "               '2014-04-03 10:32:00', '2014-04-03 10:33:00',\n",
      "               '2014-04-03 10:34:00', '2014-04-03 10:35:00',\n",
      "               '2014-04-03 10:36:00', '2014-04-03 10:37:00',\n",
      "               '2014-04-03 10:38:00', '2014-04-03 10:39:00',\n",
      "               ...\n",
      "               '2014-04-03 12:20:00', '2014-04-03 12:21:00',\n",
      "               '2014-04-03 12:22:00', '2014-04-03 12:23:00',\n",
      "               '2014-04-03 12:24:00', '2014-04-03 12:25:00',\n",
      "               '2014-04-03 12:26:00', '2014-04-03 12:27:00',\n",
      "               '2014-04-03 12:28:00', '2014-04-03 12:29:00'],\n",
      "              dtype='datetime64[ns]', length=120, freq='min')\n",
      "y_tr[0] (and raw_close_te[0]) is the bar at 2014-04-03 12:30:00\n"
     ]
    }
   ],
   "source": [
    "# Split into train/val/test by calendar day\n",
    "(X_tr, y_tr), \\\n",
    "(X_val, y_val), \\\n",
    "(X_te, y_te, raw_close_te, raw_bid_te, raw_ask_te), \\\n",
    "samples_per_day, day_id_tr, day_id_val, day_id_te = chronological_split(\n",
    "    X, y, raw_close, raw_bid, raw_ask, df,\n",
    "    look_back   = LOOK_BACK,\n",
    "    regular_start   = regular_start,\n",
    "    train_prop  = TRAIN_PROP,\n",
    "    val_prop    = VAL_PROP,\n",
    "    train_batch = TRAIN_BATCH\n",
    ")\n",
    "\n",
    "# 1) Print shapes of all tensors\n",
    "print(\"Shapes:\")\n",
    "print(\"  X_tr        =\", X_tr.shape)\n",
    "print(\"  y_tr        =\", y_tr.shape)\n",
    "print(\"  raw_close_te=\", raw_close_te.shape)\n",
    "print(\"  raw_bid_te  =\", raw_bid_te.shape)\n",
    "print(\"  raw_ask_te  =\", raw_ask_te.shape)\n",
    "\n",
    "# 2) Print number of days in each split\n",
    "n_tr_days = torch.unique(day_id_tr).numel()\n",
    "n_val_days= torch.unique(day_id_val).numel()\n",
    "n_te_days = torch.unique(day_id_te).numel()\n",
    "print(f\"\\nDays: train={n_tr_days}, val={n_val_days}, test={n_te_days}\")\n",
    "\n",
    "# 3) Print number of windows in each split\n",
    "print(f\"Windows: train={X_tr.shape[0]}, val={X_val.shape[0]}, test={X_te.shape[0]}\")\n",
    "\n",
    "# 4) List the first few window‐end timestamps\n",
    "ends = []\n",
    "for day, day_df in df.groupby(df.index.normalize(), sort=False):\n",
    "    ts = day_df.index[LOOK_BACK:]\n",
    "    ends.extend(ts[ts.time >= regular_start])\n",
    "first_ends = ends[:5]\n",
    "print(\"\\nFirst 5 window‐end times:\", first_ends)\n",
    "\n",
    "# 5) Show exactly which minutes X_tr[0] covers, and where y_tr[0] sits\n",
    "first_end   = first_ends[0]\n",
    "first_start = first_end - pd.Timedelta(minutes=LOOK_BACK)\n",
    "# input bars = [first_start … first_end − 1min]\n",
    "print(f\"\\nX_tr[0] covers bars from {first_start} to {first_end - pd.Timedelta(minutes=1)}\")\n",
    "print(\"Those timestamps:\")\n",
    "print(pd.date_range(first_start, first_end - pd.Timedelta(minutes=1), freq=\"1min\"))\n",
    "print(f\"y_tr[0] (and raw_close_te[0]) is the bar at {first_end}\")\n",
    "\n"
   ]
  },
  {
   "cell_type": "code",
   "execution_count": 10,
   "id": "1ad9b6c4-3d79-45c0-b2c0-c4f46f1ad866",
   "metadata": {},
   "outputs": [],
   "source": [
    "\n",
    "# -----------------------------------------------------------------------------\n",
    "#  Build DataLoaders over calendar‐days\n",
    "# -----------------------------------------------------------------------------\n",
    "train_loader, val_loader, test_loader = models.split_to_day_datasets(\n",
    "    # Training split arrays (from chronological_split)\n",
    "    X_tr, y_tr, day_id_tr,\n",
    "    # Validation split arrays\n",
    "    X_val, y_val, day_id_val,\n",
    "    # Test split arrays + raw prices for post‐tracking\n",
    "    X_te, y_te, day_id_te, raw_close_te, raw_bid_te, raw_ask_te,\n",
    "    # Original minute‐bar DataFrame for weekday mapping\n",
    "    df=df,\n",
    "    train_batch=TRAIN_BATCH\n",
    ")\n"
   ]
  },
  {
   "cell_type": "code",
   "execution_count": 11,
   "id": "f1ed9892-6d63-44d6-8d1e-619cb2485841",
   "metadata": {},
   "outputs": [],
   "source": [
    "\n",
    "def make_optimizer_and_scheduler(\n",
    "    model: nn.Module,\n",
    "    initial_lr: float,\n",
    "    weight_decay: float = 1e-3,\n",
    "    lr_reduce_factor: float = 0.5,\n",
    "    lr_patience: int = 3,\n",
    "    lr_min: float = 1e-6,\n",
    "    clipnorm: float = 0.5,\n",
    "):\n",
    "    \"\"\"\n",
    "    Build optimizer, LR scheduler, AMP scaler, and clipping threshold.\n",
    "\n",
    "    • optimizer: AdamW with L2 weight_decay on all non‐bias weights.\n",
    "    • plateau_sched: ReduceLROnPlateau – watches val‐RMSE, cuts LR when plateau.\n",
    "      - mode='min'       → lower-is-better metric (we minimize RMSE).\n",
    "      - factor=0.5       → multiply LR by 0.5 on plateau.\n",
    "      - patience=3       → wait 3 epochs with no improvement before cutting.\n",
    "      - min_lr=1e-6      → never drop below this learning rate.\n",
    "      - verbose=True     → print a message whenever LR is reduced.\n",
    "    • scaler: GradScaler for mixed‐precision (automatically handles device).\n",
    "    • clipnorm: float threshold for gradient clipping in train_step.\n",
    "\n",
    "    Returns:\n",
    "      optimizer, plateau_sched, scaler, clipnorm\n",
    "    \"\"\"\n",
    "    # 1) AdamW: adaptive moment optimizer with decoupled weight decay\n",
    "    optimizer = AdamW(\n",
    "        model.parameters(),\n",
    "        lr=initial_lr,\n",
    "        weight_decay=weight_decay\n",
    "    )\n",
    "\n",
    "    # 2) ReduceLROnPlateau: only reduces LR when val metric plateaus\n",
    "    plateau_sched = ReduceLROnPlateau(\n",
    "        optimizer,\n",
    "        mode='min',\n",
    "        factor=lr_reduce_factor,\n",
    "        patience=lr_patience,\n",
    "        min_lr=lr_min,\n",
    "        verbose=True\n",
    "    )\n",
    "\n",
    "    cosine_sched  = CosineAnnealingWarmRestarts(\n",
    "        optimizer, \n",
    "        T_0=T_0, \n",
    "        T_mult=T_MULT, \n",
    "        eta_min=ETA_MIN\n",
    "    )\n",
    "\n",
    "    # 3) GradScaler: handles loss scaling for mixed precision\n",
    "    scaler = GradScaler()\n",
    "\n",
    "    # Return all four objects; clipnorm passed through to train_step\n",
    "    return optimizer, plateau_sched, cosine_sched, scaler, clipnorm\n",
    "\n",
    "\n",
    "\n",
    "def train_step(\n",
    "    model:     nn.Module,\n",
    "    x_day:     torch.Tensor,            # shape (W, look_back, F), already on device\n",
    "    y_day:     torch.Tensor,            # shape (W,),            already on device\n",
    "    optimizer: torch.optim.Optimizer,\n",
    "    scaler:    GradScaler,\n",
    "    clipnorm:  float,\n",
    ") -> float:\n",
    "    \"\"\"\n",
    "    Perform one mixed‐precision training update for a single “day” of data.\n",
    "\n",
    "    Steps:\n",
    "      1. Zero gradients (`optimizer.zero_grad(set_to_none=True)`).\n",
    "      2. Forward in fp16 context:\n",
    "         - autocast on x_day.device\n",
    "         - model(x_day) → out shape (W, seq_len, 1)\n",
    "         - extract last step: out[:, -1, 0] → (W,)\n",
    "         - compute MSE loss against y_day\n",
    "      3. Backward:\n",
    "         - scaler.scale(loss).backward()\n",
    "         - scaler.unscale_(optimizer) to prepare for clipping\n",
    "         - clip gradients to `clipnorm`\n",
    "         - scaler.step(optimizer) + scaler.update()\n",
    "      4. Return float(loss)\n",
    "\n",
    "    Returns:\n",
    "      The scalar loss value (Python float) for logging.\n",
    "    \"\"\"\n",
    "    # 1) Reset gradients\n",
    "    optimizer.zero_grad(set_to_none=True)\n",
    "    model.train()\n",
    "\n",
    "    # 2) Mixed‐precision forward\n",
    "    device = x_day.device\n",
    "    with autocast(device_type=device.type):\n",
    "        out = model(x_day)            # → (W, seq_len, 1)\n",
    "        last = out[:, -1, 0]          # → (W,)\n",
    "        loss = Funct.mse_loss(last, y_day, reduction='mean')\n",
    "\n",
    "    # 3) Backward with gradient scaling and clipping\n",
    "    scaler.scale(loss).backward()\n",
    "    scaler.unscale_(optimizer)        # bring gradients back to fp32 for clipping\n",
    "    torch.nn.utils.clip_grad_norm_(model.parameters(), clipnorm)\n",
    "    scaler.step(optimizer)\n",
    "    scaler.update()\n",
    "\n",
    "    return loss.item()\n",
    "\n",
    "\n",
    "def get_current_lr(optimizer: torch.optim.Optimizer) -> float:\n",
    "    \"\"\"\n",
    "    Retrieve the current learning rate from the first parameter group.\n",
    "    \"\"\"\n",
    "    return float(optimizer.param_groups[0]['lr'])\n"
   ]
  },
  {
   "cell_type": "code",
   "execution_count": 12,
   "id": "30eb786b-f535-4b29-ae1b-e575bfe6d7c8",
   "metadata": {},
   "outputs": [],
   "source": [
    "\n",
    "def custom_stateful_training_loop(\n",
    "    model:         torch.nn.Module,\n",
    "    optimizer:     torch.optim.Optimizer,\n",
    "    cosine_sched:  torch.optim.lr_scheduler.CosineAnnealingWarmRestarts,\n",
    "    plateau_sched: torch.optim.lr_scheduler.ReduceLROnPlateau,\n",
    "    scaler:        torch.cuda.amp.GradScaler,\n",
    "    train_loader:  torch.utils.data.DataLoader,\n",
    "    val_loader:    torch.utils.data.DataLoader,\n",
    "    *,\n",
    "    max_epochs:          int,\n",
    "    early_stop_patience: int,\n",
    "    baseline_val_rmse:   float,\n",
    "    clipnorm:            float,\n",
    "    device:              torch.device\n",
    ") -> float:\n",
    "    \"\"\"\n",
    "    Training loop with:\n",
    "      - mixed precision\n",
    "      - per-day / per-week LSTM resets\n",
    "      - CosineAnnealingWarmRestarts (per-batch)\n",
    "      - ReduceLROnPlateau (per-epoch, on val RMSE)\n",
    "      - live RMSE plotting & early stop\n",
    "    \"\"\"\n",
    "    model.to(device)\n",
    "    torch.backends.cudnn.benchmark = True\n",
    "\n",
    "    # Track the best validation RMSE and store its weights\n",
    "    best_val_rmse = float('inf')\n",
    "    best_state    = None\n",
    "    patience_ctr  = 0\n",
    "\n",
    "    save_path = params.save_path\n",
    "    save_path.mkdir(parents=True, exist_ok=True)\n",
    "    live_plot = plots.LiveRMSEPlot()\n",
    "\n",
    "    for epoch in range(1, max_epochs + 1):\n",
    "        # ─── TRAIN ───────────────────────────────────────────\n",
    "        model.train()\n",
    "        model.h_short = model.h_long = None\n",
    "        train_losses = []\n",
    "\n",
    "        # enumerate so we can step cosine_sched per-batch\n",
    "        pbar = tqdm(\n",
    "            enumerate(train_loader, start=0),\n",
    "            total = len(train_loader),\n",
    "            desc  = f\"Epoch {epoch}\",\n",
    "            unit  = \"bundle\"\n",
    "        )\n",
    "\n",
    "        for batch_idx, (xb_days, yb_days, wd_days) in pbar:\n",
    "            xb_days = xb_days.to(device, non_blocking=True)\n",
    "            yb_days = yb_days.to(device, non_blocking=True)\n",
    "            wd_days = wd_days.to(device)\n",
    "\n",
    "            prev_wd = None\n",
    "            # loop over each day in this bundle\n",
    "            for di in range(xb_days.size(0)):\n",
    "                wd = int(wd_days[di].item())\n",
    "\n",
    "                model.reset_short()\n",
    "                if prev_wd is not None and wd < prev_wd:\n",
    "                    model.reset_long()\n",
    "                prev_wd = wd\n",
    "\n",
    "                loss_val = train_step(\n",
    "                    model,\n",
    "                    xb_days[di],   # (W, look_back, F)\n",
    "                    yb_days[di],   # (W,)\n",
    "                    optimizer,\n",
    "                    scaler,\n",
    "                    clipnorm\n",
    "                )\n",
    "                train_losses.append(loss_val)\n",
    "\n",
    "            # step the cosine‐warm‐restart scheduler\n",
    "            frac_epoch = epoch - 1 + batch_idx / len(train_loader)\n",
    "            cosine_sched.step(frac_epoch)\n",
    "\n",
    "            # update progress bar\n",
    "            rmse = math.sqrt(sum(train_losses) / len(train_losses))\n",
    "            lr   = optimizer.param_groups[0]['lr']\n",
    "            pbar.set_postfix(train_rmse=rmse, lr=lr, refresh=False)\n",
    "\n",
    "        pbar.close()\n",
    "\n",
    "        # ─── VALIDATE ─────────────────────────────────────────\n",
    "        model.eval()\n",
    "        model.h_short = model.h_long = None\n",
    "        val_losses = []\n",
    "        prev_wd    = None\n",
    "\n",
    "        with torch.no_grad():\n",
    "            for xb_day, yb_day, wd in val_loader:\n",
    "                wd = int(wd.item())\n",
    "                x  = xb_day[0].to(device, non_blocking=True)  # (W, look_back, F)\n",
    "                y  = yb_day.view(-1).to(device, non_blocking=True)  # (W,)\n",
    "\n",
    "                model.reset_short()\n",
    "                if prev_wd is not None and wd < prev_wd:\n",
    "                    model.reset_long()\n",
    "                prev_wd = wd\n",
    "\n",
    "                out  = model(x)               # (W, look_back, 1)\n",
    "                last = out[:, -1, 0]          # (W,)\n",
    "                val_losses.append(Funct.mse_loss(last, y, reduction='mean').item())\n",
    "\n",
    "        val_rmse = math.sqrt(sum(val_losses) / len(val_losses))\n",
    "\n",
    "        # ─── LOG & PLOT ───────────────────────────────────────\n",
    "        live_plot.update(rmse, val_rmse)\n",
    "        print(f\"Epoch {epoch:03d} • train={rmse:.4f} • val={val_rmse:.4f} • lr={optimizer.param_groups[0]['lr']:.2e}\")\n",
    "\n",
    "        # ─── PLATEAU STEP ─────────────────────────────────────\n",
    "        pre_lr = optimizer.param_groups[0]['lr']\n",
    "        plateau_sched.step(val_rmse)\n",
    "        post_lr = optimizer.param_groups[0]['lr']\n",
    "        if post_lr < pre_lr:\n",
    "            print(f\"Plateau reduced LR: {pre_lr:.1e} → {post_lr:.1e} at epoch {epoch}\")\n",
    "\n",
    "        # ─── EARLY STOPPING & BEST‐STATE SNAPSHOT ─────────────\n",
    "        if val_rmse < best_val_rmse:\n",
    "            best_val_rmse = val_rmse\n",
    "            patience_ctr  = 0\n",
    "            # save the weights from this best epoch\n",
    "            best_state = copy.deepcopy(model.state_dict())\n",
    "        else:\n",
    "            patience_ctr += 1\n",
    "            if patience_ctr >= early_stop_patience:\n",
    "                print(\"Early stopping triggered.\")\n",
    "                break\n",
    "\n",
    "    # ─── SAVE THE SINGLE BEST MODEL ────────────────────────\n",
    "    ckpt_file = save_path / f\"{ticker}_{best_val_rmse:.4f}.pth\"\n",
    "    if best_state is not None:\n",
    "        # load best epoch's weights back into model\n",
    "        model.load_state_dict(best_state)\n",
    "    torch.save(model, ckpt_file)\n",
    "    print(f\"Saved best model (val RMSE={best_val_rmse:.4f}) to {ckpt_file}\")\n",
    "\n",
    "    return best_val_rmse\n"
   ]
  },
  {
   "cell_type": "code",
   "execution_count": 13,
   "id": "7bf94780-a876-4bf4-ad27-6abc2da1fc0a",
   "metadata": {},
   "outputs": [
    {
     "name": "stderr",
     "output_type": "stream",
     "text": [
      "/usr/local/lib/python3.12/dist-packages/torch/optim/lr_scheduler.py:62: UserWarning: The verbose parameter is deprecated. Please use get_last_lr() to access the learning rate.\n",
      "  warnings.warn(\n"
     ]
    },
    {
     "name": "stdout",
     "output_type": "stream",
     "text": [
      "Training sees 1984 calendar days per epoch\n",
      "\n",
      "Baseline (zero‐forecast) RMSE on validation = 0.426896\n"
     ]
    },
    {
     "data": {
      "image/png": "[encoded data removed]",
      "text/plain": [
       "<Figure size 660x440 with 1 Axes>"
      ]
     },
     "metadata": {},
     "output_type": "display_data"
    },
    {
     "name": "stderr",
     "output_type": "stream",
     "text": [
      "Epoch 1: 100%|██████████| 62/62 [00:31<00:00,  1.99bundle/s, lr=9.08e-5, train_rmse=0.247]\n"
     ]
    },
    {
     "name": "stdout",
     "output_type": "stream",
     "text": [
      "Epoch 001 • train=0.2466 • val=0.2371 • lr=9.08e-05\n"
     ]
    },
    {
     "name": "stderr",
     "output_type": "stream",
     "text": [
      "Epoch 2: 100%|██████████| 62/62 [00:28<00:00,  2.20bundle/s, lr=6.63e-5, train_rmse=0.219]\n"
     ]
    },
    {
     "name": "stdout",
     "output_type": "stream",
     "text": [
      "Epoch 002 • train=0.2189 • val=0.2215 • lr=6.63e-05\n"
     ]
    },
    {
     "name": "stderr",
     "output_type": "stream",
     "text": [
      "Epoch 3: 100%|██████████| 62/62 [00:29<00:00,  2.12bundle/s, lr=3.57e-5, train_rmse=0.21] \n"
     ]
    },
    {
     "name": "stdout",
     "output_type": "stream",
     "text": [
      "Epoch 003 • train=0.2100 • val=0.2172 • lr=3.57e-05\n"
     ]
    },
    {
     "name": "stderr",
     "output_type": "stream",
     "text": [
      "Epoch 4: 100%|██████████| 62/62 [00:29<00:00,  2.07bundle/s, lr=1.08e-5, train_rmse=0.205]\n"
     ]
    },
    {
     "name": "stdout",
     "output_type": "stream",
     "text": [
      "Epoch 004 • train=0.2054 • val=0.2169 • lr=1.08e-05\n"
     ]
    },
    {
     "name": "stderr",
     "output_type": "stream",
     "text": [
      "Epoch 5: 100%|██████████| 62/62 [00:29<00:00,  2.09bundle/s, lr=1e-6, train_rmse=0.204]   \n"
     ]
    },
    {
     "name": "stdout",
     "output_type": "stream",
     "text": [
      "Epoch 005 • train=0.2043 • val=0.2210 • lr=1.00e-06\n"
     ]
    },
    {
     "name": "stderr",
     "output_type": "stream",
     "text": [
      "Epoch 6: 100%|██████████| 62/62 [00:29<00:00,  2.10bundle/s, lr=9.08e-5, train_rmse=0.207]\n"
     ]
    },
    {
     "name": "stdout",
     "output_type": "stream",
     "text": [
      "Epoch 006 • train=0.2071 • val=0.2182 • lr=9.08e-05\n"
     ]
    },
    {
     "name": "stderr",
     "output_type": "stream",
     "text": [
      "Epoch 7: 100%|██████████| 62/62 [00:29<00:00,  2.10bundle/s, lr=6.63e-5, train_rmse=0.204]\n"
     ]
    },
    {
     "name": "stdout",
     "output_type": "stream",
     "text": [
      "Epoch 007 • train=0.2044 • val=0.2143 • lr=6.63e-05\n"
     ]
    },
    {
     "name": "stderr",
     "output_type": "stream",
     "text": [
      "Epoch 8: 100%|██████████| 62/62 [00:29<00:00,  2.09bundle/s, lr=3.57e-5, train_rmse=0.202]\n"
     ]
    },
    {
     "name": "stdout",
     "output_type": "stream",
     "text": [
      "Epoch 008 • train=0.2020 • val=0.2172 • lr=3.57e-05\n"
     ]
    },
    {
     "name": "stderr",
     "output_type": "stream",
     "text": [
      "Epoch 9: 100%|██████████| 62/62 [00:29<00:00,  2.09bundle/s, lr=1.08e-5, train_rmse=0.2]  \n"
     ]
    },
    {
     "name": "stdout",
     "output_type": "stream",
     "text": [
      "Epoch 009 • train=0.2001 • val=0.2150 • lr=1.08e-05\n"
     ]
    },
    {
     "name": "stderr",
     "output_type": "stream",
     "text": [
      "Epoch 10: 100%|██████████| 62/62 [00:29<00:00,  2.10bundle/s, lr=1e-6, train_rmse=0.2]     \n"
     ]
    },
    {
     "name": "stdout",
     "output_type": "stream",
     "text": [
      "Epoch 010 • train=0.1995 • val=0.2194 • lr=1.00e-06\n"
     ]
    },
    {
     "name": "stderr",
     "output_type": "stream",
     "text": [
      "Epoch 11: 100%|██████████| 62/62 [00:29<00:00,  2.10bundle/s, lr=9.08e-5, train_rmse=0.202]\n"
     ]
    },
    {
     "name": "stdout",
     "output_type": "stream",
     "text": [
      "Epoch 011 • train=0.2024 • val=0.2134 • lr=9.08e-05\n"
     ]
    },
    {
     "name": "stderr",
     "output_type": "stream",
     "text": [
      "Epoch 12: 100%|██████████| 62/62 [00:29<00:00,  2.09bundle/s, lr=6.63e-5, train_rmse=0.201]\n"
     ]
    },
    {
     "name": "stdout",
     "output_type": "stream",
     "text": [
      "Epoch 012 • train=0.2008 • val=0.2146 • lr=6.63e-05\n"
     ]
    },
    {
     "name": "stderr",
     "output_type": "stream",
     "text": [
      "Epoch 13: 100%|██████████| 62/62 [00:29<00:00,  2.11bundle/s, lr=3.57e-5, train_rmse=0.199]\n"
     ]
    },
    {
     "name": "stdout",
     "output_type": "stream",
     "text": [
      "Epoch 013 • train=0.1994 • val=0.2150 • lr=3.57e-05\n"
     ]
    },
    {
     "name": "stderr",
     "output_type": "stream",
     "text": [
      "Epoch 14: 100%|██████████| 62/62 [00:29<00:00,  2.10bundle/s, lr=1.08e-5, train_rmse=0.198]\n"
     ]
    },
    {
     "name": "stdout",
     "output_type": "stream",
     "text": [
      "Epoch 014 • train=0.1979 • val=0.2127 • lr=1.08e-05\n"
     ]
    },
    {
     "name": "stderr",
     "output_type": "stream",
     "text": [
      "Epoch 15: 100%|██████████| 62/62 [00:29<00:00,  2.10bundle/s, lr=1e-6, train_rmse=0.197]   \n"
     ]
    },
    {
     "name": "stdout",
     "output_type": "stream",
     "text": [
      "Epoch 015 • train=0.1972 • val=0.2167 • lr=1.00e-06\n"
     ]
    },
    {
     "name": "stderr",
     "output_type": "stream",
     "text": [
      "Epoch 16: 100%|██████████| 62/62 [00:29<00:00,  2.09bundle/s, lr=9.08e-5, train_rmse=0.2]  \n"
     ]
    },
    {
     "name": "stdout",
     "output_type": "stream",
     "text": [
      "Epoch 016 • train=0.2000 • val=0.2113 • lr=9.08e-05\n"
     ]
    },
    {
     "name": "stderr",
     "output_type": "stream",
     "text": [
      "Epoch 17: 100%|██████████| 62/62 [00:29<00:00,  2.10bundle/s, lr=6.63e-5, train_rmse=0.199]\n"
     ]
    },
    {
     "name": "stdout",
     "output_type": "stream",
     "text": [
      "Epoch 017 • train=0.1994 • val=0.2117 • lr=6.63e-05\n"
     ]
    },
    {
     "name": "stderr",
     "output_type": "stream",
     "text": [
      "Epoch 18: 100%|██████████| 62/62 [00:29<00:00,  2.10bundle/s, lr=3.57e-5, train_rmse=0.198]\n"
     ]
    },
    {
     "name": "stdout",
     "output_type": "stream",
     "text": [
      "Epoch 018 • train=0.1977 • val=0.2116 • lr=3.57e-05\n"
     ]
    },
    {
     "name": "stderr",
     "output_type": "stream",
     "text": [
      "Epoch 19: 100%|██████████| 62/62 [00:30<00:00,  2.06bundle/s, lr=1.08e-5, train_rmse=0.196]\n"
     ]
    },
    {
     "name": "stdout",
     "output_type": "stream",
     "text": [
      "Epoch 019 • train=0.1963 • val=0.2097 • lr=1.08e-05\n"
     ]
    },
    {
     "name": "stderr",
     "output_type": "stream",
     "text": [
      "Epoch 20: 100%|██████████| 62/62 [00:29<00:00,  2.09bundle/s, lr=1e-6, train_rmse=0.196]   \n"
     ]
    },
    {
     "name": "stdout",
     "output_type": "stream",
     "text": [
      "Epoch 020 • train=0.1956 • val=0.2142 • lr=1.00e-06\n"
     ]
    },
    {
     "name": "stderr",
     "output_type": "stream",
     "text": [
      "Epoch 21: 100%|██████████| 62/62 [00:29<00:00,  2.10bundle/s, lr=9.08e-5, train_rmse=0.198]\n"
     ]
    },
    {
     "name": "stdout",
     "output_type": "stream",
     "text": [
      "Epoch 021 • train=0.1983 • val=0.2104 • lr=9.08e-05\n"
     ]
    },
    {
     "name": "stderr",
     "output_type": "stream",
     "text": [
      "Epoch 22: 100%|██████████| 62/62 [00:29<00:00,  2.09bundle/s, lr=6.63e-5, train_rmse=0.198]\n"
     ]
    },
    {
     "name": "stdout",
     "output_type": "stream",
     "text": [
      "Epoch 022 • train=0.1975 • val=0.2097 • lr=6.63e-05\n"
     ]
    },
    {
     "name": "stderr",
     "output_type": "stream",
     "text": [
      "Epoch 23: 100%|██████████| 62/62 [00:29<00:00,  2.09bundle/s, lr=3.57e-5, train_rmse=0.196]\n"
     ]
    },
    {
     "name": "stdout",
     "output_type": "stream",
     "text": [
      "Epoch 023 • train=0.1960 • val=0.2089 • lr=3.57e-05\n"
     ]
    },
    {
     "name": "stderr",
     "output_type": "stream",
     "text": [
      "Epoch 24: 100%|██████████| 62/62 [00:29<00:00,  2.10bundle/s, lr=1.08e-5, train_rmse=0.195]\n"
     ]
    },
    {
     "name": "stdout",
     "output_type": "stream",
     "text": [
      "Epoch 024 • train=0.1947 • val=0.2073 • lr=1.08e-05\n"
     ]
    },
    {
     "name": "stderr",
     "output_type": "stream",
     "text": [
      "Epoch 25: 100%|██████████| 62/62 [00:29<00:00,  2.10bundle/s, lr=1e-6, train_rmse=0.194]   \n"
     ]
    },
    {
     "name": "stdout",
     "output_type": "stream",
     "text": [
      "Epoch 025 • train=0.1939 • val=0.2114 • lr=1.00e-06\n"
     ]
    },
    {
     "name": "stderr",
     "output_type": "stream",
     "text": [
      "Epoch 26: 100%|██████████| 62/62 [00:28<00:00,  2.16bundle/s, lr=9.08e-5, train_rmse=0.197]\n"
     ]
    },
    {
     "name": "stdout",
     "output_type": "stream",
     "text": [
      "Epoch 026 • train=0.1970 • val=0.2078 • lr=9.08e-05\n"
     ]
    },
    {
     "name": "stderr",
     "output_type": "stream",
     "text": [
      "Epoch 27: 100%|██████████| 62/62 [00:29<00:00,  2.09bundle/s, lr=6.63e-5, train_rmse=0.196]\n"
     ]
    },
    {
     "name": "stdout",
     "output_type": "stream",
     "text": [
      "Epoch 027 • train=0.1960 • val=0.2086 • lr=6.63e-05\n"
     ]
    },
    {
     "name": "stderr",
     "output_type": "stream",
     "text": [
      "Epoch 28: 100%|██████████| 62/62 [00:29<00:00,  2.10bundle/s, lr=3.57e-5, train_rmse=0.195]\n"
     ]
    },
    {
     "name": "stdout",
     "output_type": "stream",
     "text": [
      "Epoch 028 • train=0.1946 • val=0.2073 • lr=3.57e-05\n"
     ]
    },
    {
     "name": "stderr",
     "output_type": "stream",
     "text": [
      "Epoch 29: 100%|██████████| 62/62 [00:29<00:00,  2.10bundle/s, lr=1.08e-5, train_rmse=0.193]\n"
     ]
    },
    {
     "name": "stdout",
     "output_type": "stream",
     "text": [
      "Epoch 029 • train=0.1933 • val=0.2049 • lr=1.08e-05\n"
     ]
    },
    {
     "name": "stderr",
     "output_type": "stream",
     "text": [
      "Epoch 30: 100%|██████████| 62/62 [00:29<00:00,  2.10bundle/s, lr=1e-6, train_rmse=0.192]   \n"
     ]
    },
    {
     "name": "stdout",
     "output_type": "stream",
     "text": [
      "Epoch 030 • train=0.1924 • val=0.2091 • lr=1.00e-06\n"
     ]
    },
    {
     "name": "stderr",
     "output_type": "stream",
     "text": [
      "Epoch 31: 100%|██████████| 62/62 [00:29<00:00,  2.10bundle/s, lr=9.08e-5, train_rmse=0.195]\n"
     ]
    },
    {
     "name": "stdout",
     "output_type": "stream",
     "text": [
      "Epoch 031 • train=0.1954 • val=0.2080 • lr=9.08e-05\n"
     ]
    },
    {
     "name": "stderr",
     "output_type": "stream",
     "text": [
      "Epoch 32: 100%|██████████| 62/62 [00:29<00:00,  2.10bundle/s, lr=6.63e-5, train_rmse=0.195]\n"
     ]
    },
    {
     "name": "stdout",
     "output_type": "stream",
     "text": [
      "Epoch 032 • train=0.1947 • val=0.2070 • lr=6.63e-05\n"
     ]
    },
    {
     "name": "stderr",
     "output_type": "stream",
     "text": [
      "Epoch 33: 100%|██████████| 62/62 [00:29<00:00,  2.08bundle/s, lr=3.57e-5, train_rmse=0.193]\n"
     ]
    },
    {
     "name": "stdout",
     "output_type": "stream",
     "text": [
      "Epoch 033 • train=0.1932 • val=0.2066 • lr=3.57e-05\n"
     ]
    },
    {
     "name": "stderr",
     "output_type": "stream",
     "text": [
      "Epoch 34: 100%|██████████| 62/62 [00:29<00:00,  2.09bundle/s, lr=1.08e-5, train_rmse=0.192]\n"
     ]
    },
    {
     "name": "stdout",
     "output_type": "stream",
     "text": [
      "Epoch 034 • train=0.1919 • val=0.2045 • lr=1.08e-05\n"
     ]
    },
    {
     "name": "stderr",
     "output_type": "stream",
     "text": [
      "Epoch 35: 100%|██████████| 62/62 [00:29<00:00,  2.11bundle/s, lr=1e-6, train_rmse=0.191]   \n"
     ]
    },
    {
     "name": "stdout",
     "output_type": "stream",
     "text": [
      "Epoch 035 • train=0.1911 • val=0.2081 • lr=1.00e-06\n"
     ]
    },
    {
     "name": "stderr",
     "output_type": "stream",
     "text": [
      "Epoch 36: 100%|██████████| 62/62 [00:29<00:00,  2.07bundle/s, lr=9.08e-5, train_rmse=0.194]\n"
     ]
    },
    {
     "name": "stdout",
     "output_type": "stream",
     "text": [
      "Epoch 036 • train=0.1940 • val=0.2069 • lr=9.08e-05\n"
     ]
    },
    {
     "name": "stderr",
     "output_type": "stream",
     "text": [
      "Epoch 37: 100%|██████████| 62/62 [00:29<00:00,  2.09bundle/s, lr=6.63e-5, train_rmse=0.193]\n"
     ]
    },
    {
     "name": "stdout",
     "output_type": "stream",
     "text": [
      "Epoch 037 • train=0.1932 • val=0.2054 • lr=6.63e-05\n"
     ]
    },
    {
     "name": "stderr",
     "output_type": "stream",
     "text": [
      "Epoch 38: 100%|██████████| 62/62 [00:29<00:00,  2.10bundle/s, lr=3.57e-5, train_rmse=0.192]\n"
     ]
    },
    {
     "name": "stdout",
     "output_type": "stream",
     "text": [
      "Epoch 038 • train=0.1919 • val=0.2055 • lr=3.57e-05\n"
     ]
    },
    {
     "name": "stderr",
     "output_type": "stream",
     "text": [
      "Epoch 39: 100%|██████████| 62/62 [00:29<00:00,  2.10bundle/s, lr=1.08e-5, train_rmse=0.191]\n"
     ]
    },
    {
     "name": "stdout",
     "output_type": "stream",
     "text": [
      "Epoch 039 • train=0.1908 • val=0.2034 • lr=1.08e-05\n"
     ]
    },
    {
     "name": "stderr",
     "output_type": "stream",
     "text": [
      "Epoch 40: 100%|██████████| 62/62 [00:29<00:00,  2.10bundle/s, lr=1e-6, train_rmse=0.19]    \n"
     ]
    },
    {
     "name": "stdout",
     "output_type": "stream",
     "text": [
      "Epoch 040 • train=0.1899 • val=0.2069 • lr=1.00e-06\n"
     ]
    },
    {
     "name": "stderr",
     "output_type": "stream",
     "text": [
      "Epoch 41: 100%|██████████| 62/62 [00:29<00:00,  2.10bundle/s, lr=9.08e-5, train_rmse=0.193]\n"
     ]
    },
    {
     "name": "stdout",
     "output_type": "stream",
     "text": [
      "Epoch 041 • train=0.1928 • val=0.2060 • lr=9.08e-05\n"
     ]
    },
    {
     "name": "stderr",
     "output_type": "stream",
     "text": [
      "Epoch 42: 100%|██████████| 62/62 [00:29<00:00,  2.08bundle/s, lr=6.63e-5, train_rmse=0.192]\n"
     ]
    },
    {
     "name": "stdout",
     "output_type": "stream",
     "text": [
      "Epoch 042 • train=0.1922 • val=0.2057 • lr=6.63e-05\n"
     ]
    },
    {
     "name": "stderr",
     "output_type": "stream",
     "text": [
      "Epoch 43: 100%|██████████| 62/62 [00:29<00:00,  2.08bundle/s, lr=3.57e-5, train_rmse=0.191]\n"
     ]
    },
    {
     "name": "stdout",
     "output_type": "stream",
     "text": [
      "Epoch 043 • train=0.1909 • val=0.2056 • lr=3.57e-05\n"
     ]
    },
    {
     "name": "stderr",
     "output_type": "stream",
     "text": [
      "Epoch 44: 100%|██████████| 62/62 [00:30<00:00,  2.06bundle/s, lr=1.08e-5, train_rmse=0.19] \n"
     ]
    },
    {
     "name": "stdout",
     "output_type": "stream",
     "text": [
      "Epoch 044 • train=0.1898 • val=0.2037 • lr=1.08e-05\n"
     ]
    },
    {
     "name": "stderr",
     "output_type": "stream",
     "text": [
      "Epoch 45: 100%|██████████| 62/62 [00:29<00:00,  2.07bundle/s, lr=1e-6, train_rmse=0.189]   \n"
     ]
    },
    {
     "name": "stdout",
     "output_type": "stream",
     "text": [
      "Epoch 045 • train=0.1889 • val=0.2070 • lr=1.00e-06\n"
     ]
    },
    {
     "name": "stderr",
     "output_type": "stream",
     "text": [
      "Epoch 46: 100%|██████████| 62/62 [00:29<00:00,  2.10bundle/s, lr=9.08e-5, train_rmse=0.192]\n"
     ]
    },
    {
     "name": "stdout",
     "output_type": "stream",
     "text": [
      "Epoch 046 • train=0.1918 • val=0.2061 • lr=9.08e-05\n"
     ]
    },
    {
     "name": "stderr",
     "output_type": "stream",
     "text": [
      "Epoch 47: 100%|██████████| 62/62 [00:29<00:00,  2.11bundle/s, lr=6.63e-5, train_rmse=0.191]\n"
     ]
    },
    {
     "name": "stdout",
     "output_type": "stream",
     "text": [
      "Epoch 047 • train=0.1913 • val=0.2054 • lr=6.63e-05\n"
     ]
    },
    {
     "name": "stderr",
     "output_type": "stream",
     "text": [
      "Epoch 48: 100%|██████████| 62/62 [00:29<00:00,  2.10bundle/s, lr=3.57e-5, train_rmse=0.19] \n"
     ]
    },
    {
     "name": "stdout",
     "output_type": "stream",
     "text": [
      "Epoch 048 • train=0.1898 • val=0.2052 • lr=3.57e-05\n"
     ]
    },
    {
     "name": "stderr",
     "output_type": "stream",
     "text": [
      "Epoch 49: 100%|██████████| 62/62 [00:28<00:00,  2.19bundle/s, lr=1.08e-5, train_rmse=0.189]\n"
     ]
    },
    {
     "name": "stdout",
     "output_type": "stream",
     "text": [
      "Epoch 049 • train=0.1887 • val=0.2032 • lr=1.08e-05\n"
     ]
    },
    {
     "name": "stderr",
     "output_type": "stream",
     "text": [
      "Epoch 50: 100%|██████████| 62/62 [00:29<00:00,  2.12bundle/s, lr=1e-6, train_rmse=0.188]   \n"
     ]
    },
    {
     "name": "stdout",
     "output_type": "stream",
     "text": [
      "Epoch 050 • train=0.1879 • val=0.2062 • lr=1.00e-06\n"
     ]
    },
    {
     "name": "stderr",
     "output_type": "stream",
     "text": [
      "Epoch 51: 100%|██████████| 62/62 [00:29<00:00,  2.10bundle/s, lr=9.08e-5, train_rmse=0.191]\n"
     ]
    },
    {
     "name": "stdout",
     "output_type": "stream",
     "text": [
      "Epoch 051 • train=0.1908 • val=0.2070 • lr=9.08e-05\n"
     ]
    },
    {
     "name": "stderr",
     "output_type": "stream",
     "text": [
      "Epoch 52: 100%|██████████| 62/62 [00:29<00:00,  2.09bundle/s, lr=6.63e-5, train_rmse=0.19] \n"
     ]
    },
    {
     "name": "stdout",
     "output_type": "stream",
     "text": [
      "Epoch 052 • train=0.1902 • val=0.2067 • lr=6.63e-05\n"
     ]
    },
    {
     "name": "stderr",
     "output_type": "stream",
     "text": [
      "Epoch 53: 100%|██████████| 62/62 [00:29<00:00,  2.09bundle/s, lr=3.57e-5, train_rmse=0.189]\n"
     ]
    },
    {
     "name": "stdout",
     "output_type": "stream",
     "text": [
      "Epoch 053 • train=0.1888 • val=0.2048 • lr=3.57e-05\n"
     ]
    },
    {
     "name": "stderr",
     "output_type": "stream",
     "text": [
      "Epoch 54: 100%|██████████| 62/62 [00:30<00:00,  2.03bundle/s, lr=1.08e-5, train_rmse=0.188]\n"
     ]
    },
    {
     "name": "stdout",
     "output_type": "stream",
     "text": [
      "Epoch 054 • train=0.1876 • val=0.2032 • lr=1.08e-05\n"
     ]
    },
    {
     "name": "stderr",
     "output_type": "stream",
     "text": [
      "Epoch 55: 100%|██████████| 62/62 [00:29<00:00,  2.07bundle/s, lr=1e-6, train_rmse=0.187]   \n"
     ]
    },
    {
     "name": "stdout",
     "output_type": "stream",
     "text": [
      "Epoch 055 • train=0.1869 • val=0.2055 • lr=1.00e-06\n"
     ]
    },
    {
     "name": "stderr",
     "output_type": "stream",
     "text": [
      "Epoch 56: 100%|██████████| 62/62 [00:29<00:00,  2.11bundle/s, lr=9.08e-5, train_rmse=0.19] \n"
     ]
    },
    {
     "name": "stdout",
     "output_type": "stream",
     "text": [
      "Epoch 056 • train=0.1900 • val=0.2069 • lr=9.08e-05\n"
     ]
    },
    {
     "name": "stderr",
     "output_type": "stream",
     "text": [
      "Epoch 57: 100%|██████████| 62/62 [00:29<00:00,  2.10bundle/s, lr=6.63e-5, train_rmse=0.189]\n"
     ]
    },
    {
     "name": "stdout",
     "output_type": "stream",
     "text": [
      "Epoch 057 • train=0.1893 • val=0.2054 • lr=6.63e-05\n"
     ]
    },
    {
     "name": "stderr",
     "output_type": "stream",
     "text": [
      "Epoch 58: 100%|██████████| 62/62 [00:29<00:00,  2.11bundle/s, lr=3.57e-5, train_rmse=0.188]\n"
     ]
    },
    {
     "name": "stdout",
     "output_type": "stream",
     "text": [
      "Epoch 058 • train=0.1879 • val=0.2048 • lr=3.57e-05\n"
     ]
    },
    {
     "name": "stderr",
     "output_type": "stream",
     "text": [
      "Epoch 59: 100%|██████████| 62/62 [00:29<00:00,  2.11bundle/s, lr=1.08e-5, train_rmse=0.187]\n"
     ]
    },
    {
     "name": "stdout",
     "output_type": "stream",
     "text": [
      "Epoch 059 • train=0.1867 • val=0.2030 • lr=1.08e-05\n"
     ]
    },
    {
     "name": "stderr",
     "output_type": "stream",
     "text": [
      "Epoch 60: 100%|██████████| 62/62 [00:29<00:00,  2.11bundle/s, lr=1e-6, train_rmse=0.186]   \n"
     ]
    },
    {
     "name": "stdout",
     "output_type": "stream",
     "text": [
      "Epoch 060 • train=0.1860 • val=0.2047 • lr=1.00e-06\n"
     ]
    },
    {
     "name": "stderr",
     "output_type": "stream",
     "text": [
      "Epoch 61: 100%|██████████| 62/62 [00:29<00:00,  2.07bundle/s, lr=9.08e-5, train_rmse=0.189]\n"
     ]
    },
    {
     "name": "stdout",
     "output_type": "stream",
     "text": [
      "Epoch 061 • train=0.1890 • val=0.2080 • lr=9.08e-05\n"
     ]
    },
    {
     "name": "stderr",
     "output_type": "stream",
     "text": [
      "Epoch 62: 100%|██████████| 62/62 [00:30<00:00,  2.02bundle/s, lr=6.63e-5, train_rmse=0.189]\n"
     ]
    },
    {
     "name": "stdout",
     "output_type": "stream",
     "text": [
      "Epoch 062 • train=0.1887 • val=0.2059 • lr=6.63e-05\n"
     ]
    },
    {
     "name": "stderr",
     "output_type": "stream",
     "text": [
      "Epoch 63: 100%|██████████| 62/62 [00:30<00:00,  2.06bundle/s, lr=3.57e-5, train_rmse=0.187]\n"
     ]
    },
    {
     "name": "stdout",
     "output_type": "stream",
     "text": [
      "Epoch 063 • train=0.1870 • val=0.2051 • lr=3.57e-05\n"
     ]
    },
    {
     "name": "stderr",
     "output_type": "stream",
     "text": [
      "Epoch 64: 100%|██████████| 62/62 [00:29<00:00,  2.07bundle/s, lr=1.08e-5, train_rmse=0.186]\n"
     ]
    },
    {
     "name": "stdout",
     "output_type": "stream",
     "text": [
      "Epoch 064 • train=0.1858 • val=0.2030 • lr=1.08e-05\n"
     ]
    },
    {
     "name": "stderr",
     "output_type": "stream",
     "text": [
      "Epoch 65: 100%|██████████| 62/62 [00:29<00:00,  2.09bundle/s, lr=1e-6, train_rmse=0.185]   \n"
     ]
    },
    {
     "name": "stdout",
     "output_type": "stream",
     "text": [
      "Epoch 065 • train=0.1851 • val=0.2047 • lr=1.00e-06\n"
     ]
    },
    {
     "name": "stderr",
     "output_type": "stream",
     "text": [
      "Epoch 66: 100%|██████████| 62/62 [00:30<00:00,  2.06bundle/s, lr=9.08e-5, train_rmse=0.188]\n"
     ]
    },
    {
     "name": "stdout",
     "output_type": "stream",
     "text": [
      "Epoch 066 • train=0.1883 • val=0.2078 • lr=9.08e-05\n"
     ]
    },
    {
     "name": "stderr",
     "output_type": "stream",
     "text": [
      "Epoch 67: 100%|██████████| 62/62 [00:29<00:00,  2.07bundle/s, lr=6.63e-5, train_rmse=0.188]\n"
     ]
    },
    {
     "name": "stdout",
     "output_type": "stream",
     "text": [
      "Epoch 067 • train=0.1876 • val=0.2050 • lr=6.63e-05\n"
     ]
    },
    {
     "name": "stderr",
     "output_type": "stream",
     "text": [
      "Epoch 68: 100%|██████████| 62/62 [00:30<00:00,  2.07bundle/s, lr=3.57e-5, train_rmse=0.186]\n"
     ]
    },
    {
     "name": "stdout",
     "output_type": "stream",
     "text": [
      "Epoch 068 • train=0.1862 • val=0.2054 • lr=3.57e-05\n"
     ]
    },
    {
     "name": "stderr",
     "output_type": "stream",
     "text": [
      "Epoch 69: 100%|██████████| 62/62 [00:29<00:00,  2.12bundle/s, lr=1.08e-5, train_rmse=0.185]\n"
     ]
    },
    {
     "name": "stdout",
     "output_type": "stream",
     "text": [
      "Epoch 069 • train=0.1849 • val=0.2027 • lr=1.08e-05\n"
     ]
    },
    {
     "name": "stderr",
     "output_type": "stream",
     "text": [
      "Epoch 70: 100%|██████████| 62/62 [00:30<00:00,  2.06bundle/s, lr=1e-6, train_rmse=0.184]   \n"
     ]
    },
    {
     "name": "stdout",
     "output_type": "stream",
     "text": [
      "Epoch 070 • train=0.1842 • val=0.2044 • lr=1.00e-06\n"
     ]
    },
    {
     "name": "stderr",
     "output_type": "stream",
     "text": [
      "Epoch 71: 100%|██████████| 62/62 [00:29<00:00,  2.07bundle/s, lr=9.08e-5, train_rmse=0.187]\n"
     ]
    },
    {
     "name": "stdout",
     "output_type": "stream",
     "text": [
      "Epoch 071 • train=0.1873 • val=0.2044 • lr=9.08e-05\n"
     ]
    },
    {
     "name": "stderr",
     "output_type": "stream",
     "text": [
      "Epoch 72: 100%|██████████| 62/62 [00:29<00:00,  2.07bundle/s, lr=6.63e-5, train_rmse=0.187]\n"
     ]
    },
    {
     "name": "stdout",
     "output_type": "stream",
     "text": [
      "Epoch 072 • train=0.1867 • val=0.2064 • lr=6.63e-05\n"
     ]
    },
    {
     "name": "stderr",
     "output_type": "stream",
     "text": [
      "Epoch 73: 100%|██████████| 62/62 [00:29<00:00,  2.08bundle/s, lr=3.57e-5, train_rmse=0.185]\n"
     ]
    },
    {
     "name": "stdout",
     "output_type": "stream",
     "text": [
      "Epoch 073 • train=0.1852 • val=0.2053 • lr=3.57e-05\n"
     ]
    },
    {
     "name": "stderr",
     "output_type": "stream",
     "text": [
      "Epoch 74: 100%|██████████| 62/62 [00:29<00:00,  2.07bundle/s, lr=1.08e-5, train_rmse=0.184]\n"
     ]
    },
    {
     "name": "stdout",
     "output_type": "stream",
     "text": [
      "Epoch 074 • train=0.1840 • val=0.2024 • lr=1.08e-05\n"
     ]
    },
    {
     "name": "stderr",
     "output_type": "stream",
     "text": [
      "Epoch 75: 100%|██████████| 62/62 [00:29<00:00,  2.07bundle/s, lr=1e-6, train_rmse=0.183]   \n"
     ]
    },
    {
     "name": "stdout",
     "output_type": "stream",
     "text": [
      "Epoch 075 • train=0.1834 • val=0.2042 • lr=1.00e-06\n"
     ]
    },
    {
     "name": "stderr",
     "output_type": "stream",
     "text": [
      "Epoch 76: 100%|██████████| 62/62 [00:29<00:00,  2.08bundle/s, lr=9.08e-5, train_rmse=0.186]\n"
     ]
    },
    {
     "name": "stdout",
     "output_type": "stream",
     "text": [
      "Epoch 076 • train=0.1863 • val=0.2054 • lr=9.08e-05\n"
     ]
    },
    {
     "name": "stderr",
     "output_type": "stream",
     "text": [
      "Epoch 77: 100%|██████████| 62/62 [00:29<00:00,  2.08bundle/s, lr=6.63e-5, train_rmse=0.186]\n"
     ]
    },
    {
     "name": "stdout",
     "output_type": "stream",
     "text": [
      "Epoch 077 • train=0.1857 • val=0.2052 • lr=6.63e-05\n"
     ]
    },
    {
     "name": "stderr",
     "output_type": "stream",
     "text": [
      "Epoch 78: 100%|██████████| 62/62 [00:29<00:00,  2.08bundle/s, lr=3.57e-5, train_rmse=0.184]\n"
     ]
    },
    {
     "name": "stdout",
     "output_type": "stream",
     "text": [
      "Epoch 078 • train=0.1845 • val=0.2050 • lr=3.57e-05\n"
     ]
    },
    {
     "name": "stderr",
     "output_type": "stream",
     "text": [
      "Epoch 79: 100%|██████████| 62/62 [00:29<00:00,  2.07bundle/s, lr=1.08e-5, train_rmse=0.183]\n"
     ]
    },
    {
     "name": "stdout",
     "output_type": "stream",
     "text": [
      "Epoch 079 • train=0.1833 • val=0.2023 • lr=1.08e-05\n"
     ]
    },
    {
     "name": "stderr",
     "output_type": "stream",
     "text": [
      "Epoch 80: 100%|██████████| 62/62 [00:29<00:00,  2.08bundle/s, lr=1e-6, train_rmse=0.183]   \n"
     ]
    },
    {
     "name": "stdout",
     "output_type": "stream",
     "text": [
      "Epoch 080 • train=0.1826 • val=0.2040 • lr=1.00e-06\n"
     ]
    },
    {
     "name": "stderr",
     "output_type": "stream",
     "text": [
      "Epoch 81: 100%|██████████| 62/62 [00:29<00:00,  2.08bundle/s, lr=9.08e-5, train_rmse=0.186]\n"
     ]
    },
    {
     "name": "stdout",
     "output_type": "stream",
     "text": [
      "Epoch 081 • train=0.1857 • val=0.2012 • lr=9.08e-05\n"
     ]
    },
    {
     "name": "stderr",
     "output_type": "stream",
     "text": [
      "Epoch 82: 100%|██████████| 62/62 [00:29<00:00,  2.08bundle/s, lr=6.63e-5, train_rmse=0.185]\n"
     ]
    },
    {
     "name": "stdout",
     "output_type": "stream",
     "text": [
      "Epoch 082 • train=0.1849 • val=0.2035 • lr=6.63e-05\n"
     ]
    },
    {
     "name": "stderr",
     "output_type": "stream",
     "text": [
      "Epoch 83: 100%|██████████| 62/62 [00:29<00:00,  2.08bundle/s, lr=3.57e-5, train_rmse=0.184]\n"
     ]
    },
    {
     "name": "stdout",
     "output_type": "stream",
     "text": [
      "Epoch 083 • train=0.1836 • val=0.2039 • lr=3.57e-05\n"
     ]
    },
    {
     "name": "stderr",
     "output_type": "stream",
     "text": [
      "Epoch 84: 100%|██████████| 62/62 [00:29<00:00,  2.08bundle/s, lr=1.08e-5, train_rmse=0.183]\n"
     ]
    },
    {
     "name": "stdout",
     "output_type": "stream",
     "text": [
      "Epoch 084 • train=0.1825 • val=0.2025 • lr=1.08e-05\n"
     ]
    },
    {
     "name": "stderr",
     "output_type": "stream",
     "text": [
      "Epoch 85: 100%|██████████| 62/62 [00:29<00:00,  2.07bundle/s, lr=1e-6, train_rmse=0.182]   \n"
     ]
    },
    {
     "name": "stdout",
     "output_type": "stream",
     "text": [
      "Epoch 085 • train=0.1818 • val=0.2042 • lr=1.00e-06\n"
     ]
    },
    {
     "name": "stderr",
     "output_type": "stream",
     "text": [
      "Epoch 86: 100%|██████████| 62/62 [00:29<00:00,  2.08bundle/s, lr=9.08e-5, train_rmse=0.185]\n"
     ]
    },
    {
     "name": "stdout",
     "output_type": "stream",
     "text": [
      "Epoch 086 • train=0.1849 • val=0.2021 • lr=9.08e-05\n"
     ]
    },
    {
     "name": "stderr",
     "output_type": "stream",
     "text": [
      "Epoch 87: 100%|██████████| 62/62 [00:29<00:00,  2.08bundle/s, lr=6.63e-5, train_rmse=0.184]\n"
     ]
    },
    {
     "name": "stdout",
     "output_type": "stream",
     "text": [
      "Epoch 087 • train=0.1842 • val=0.2042 • lr=6.63e-05\n",
      "Plateau reduced LR: 6.6e-05 → 2.0e-05 at epoch 87\n"
     ]
    },
    {
     "name": "stderr",
     "output_type": "stream",
     "text": [
      "Epoch 88: 100%|██████████| 62/62 [00:28<00:00,  2.15bundle/s, lr=3.57e-5, train_rmse=0.183]\n"
     ]
    },
    {
     "name": "stdout",
     "output_type": "stream",
     "text": [
      "Epoch 088 • train=0.1827 • val=0.2048 • lr=3.57e-05\n"
     ]
    },
    {
     "name": "stderr",
     "output_type": "stream",
     "text": [
      "Epoch 89: 100%|██████████| 62/62 [00:29<00:00,  2.08bundle/s, lr=1.08e-5, train_rmse=0.182]\n"
     ]
    },
    {
     "name": "stdout",
     "output_type": "stream",
     "text": [
      "Epoch 089 • train=0.1817 • val=0.2030 • lr=1.08e-05\n"
     ]
    },
    {
     "name": "stderr",
     "output_type": "stream",
     "text": [
      "Epoch 90: 100%|██████████| 62/62 [00:29<00:00,  2.08bundle/s, lr=1e-6, train_rmse=0.181]   \n"
     ]
    },
    {
     "name": "stdout",
     "output_type": "stream",
     "text": [
      "Epoch 090 • train=0.1810 • val=0.2044 • lr=1.00e-06\n"
     ]
    },
    {
     "name": "stderr",
     "output_type": "stream",
     "text": [
      "Epoch 91: 100%|██████████| 62/62 [00:29<00:00,  2.07bundle/s, lr=9.08e-5, train_rmse=0.184]\n"
     ]
    },
    {
     "name": "stdout",
     "output_type": "stream",
     "text": [
      "Epoch 091 • train=0.1840 • val=0.2020 • lr=9.08e-05\n"
     ]
    },
    {
     "name": "stderr",
     "output_type": "stream",
     "text": [
      "Epoch 92: 100%|██████████| 62/62 [00:29<00:00,  2.08bundle/s, lr=6.63e-5, train_rmse=0.183]\n"
     ]
    },
    {
     "name": "stdout",
     "output_type": "stream",
     "text": [
      "Epoch 092 • train=0.1834 • val=0.2039 • lr=6.63e-05\n"
     ]
    },
    {
     "name": "stderr",
     "output_type": "stream",
     "text": [
      "Epoch 93: 100%|██████████| 62/62 [00:29<00:00,  2.08bundle/s, lr=3.57e-5, train_rmse=0.182]\n"
     ]
    },
    {
     "name": "stdout",
     "output_type": "stream",
     "text": [
      "Epoch 093 • train=0.1821 • val=0.2050 • lr=3.57e-05\n",
      "Plateau reduced LR: 3.6e-05 → 1.1e-05 at epoch 93\n"
     ]
    },
    {
     "name": "stderr",
     "output_type": "stream",
     "text": [
      "Epoch 94: 100%|██████████| 62/62 [00:29<00:00,  2.08bundle/s, lr=1.08e-5, train_rmse=0.181]\n"
     ]
    },
    {
     "name": "stdout",
     "output_type": "stream",
     "text": [
      "Epoch 094 • train=0.1808 • val=0.2029 • lr=1.08e-05\n"
     ]
    },
    {
     "name": "stderr",
     "output_type": "stream",
     "text": [
      "Epoch 95: 100%|██████████| 62/62 [00:29<00:00,  2.07bundle/s, lr=1e-6, train_rmse=0.18]    \n"
     ]
    },
    {
     "name": "stdout",
     "output_type": "stream",
     "text": [
      "Epoch 095 • train=0.1803 • val=0.2044 • lr=1.00e-06\n"
     ]
    },
    {
     "name": "stderr",
     "output_type": "stream",
     "text": [
      "Epoch 96: 100%|██████████| 62/62 [00:29<00:00,  2.08bundle/s, lr=9.08e-5, train_rmse=0.183]\n"
     ]
    },
    {
     "name": "stdout",
     "output_type": "stream",
     "text": [
      "Epoch 096 • train=0.1833 • val=0.2035 • lr=9.08e-05\n"
     ]
    },
    {
     "name": "stderr",
     "output_type": "stream",
     "text": [
      "Epoch 97: 100%|██████████| 62/62 [00:29<00:00,  2.07bundle/s, lr=6.63e-5, train_rmse=0.183]\n"
     ]
    },
    {
     "name": "stdout",
     "output_type": "stream",
     "text": [
      "Epoch 097 • train=0.1826 • val=0.2045 • lr=6.63e-05\n",
      "Early stopping triggered.\n",
      "Saved best model (val RMSE=0.2012) to dfs training/GOOGL_0.2012.pth\n",
      "\n",
      "Champion validation RMSE = 0.201227\n",
      "Improvement over zero‐baseline =  52.9%\n"
     ]
    },
    {
     "data": {
      "image/png": "[encoded data removed]",
      "text/plain": [
       "<Figure size 660x440 with 1 Axes>"
      ]
     },
     "metadata": {},
     "output_type": "display_data"
    }
   ],
   "source": [
    "\n",
    "# -----------------------------------------------------------------------------\n",
    "# Instantiate the stateful DualMemoryLSTM & move to device\n",
    "# -----------------------------------------------------------------------------\n",
    "model = models.DualMemoryLSTM(\n",
    "    n_feats        = N_FEATS,        # number of input features per minute\n",
    "    short_units    = SHORT_UNITS,    # hidden size of daily LSTM\n",
    "    long_units     = LONG_UNITS,     # hidden size of weekly LSTM\n",
    "    dropout_short  = DROPOUT_SHORT,  # dropout after daily LSTM\n",
    "    dropout_long   = DROPOUT_LONG,    # dropout after weekly LSTM\n",
    "    att_heads      = ATT_HEADS,\n",
    "    att_drop       = ATT_DROPOUT\n",
    ")\n",
    "model.to(device)   # place model parameters on GPU or CPU as specified\n",
    "\n",
    "\n",
    "# -----------------------------------------------------------------------------\n",
    "# Compute plateau_sched timing parameters\n",
    "# -----------------------------------------------------------------------------\n",
    "# Total training samples = total windows in X_tr (one window per row)\n",
    "n_train_samples = X_tr.shape[0]\n",
    "\n",
    "# How many optimizer steps (day‐bundles) constitute one epoch?\n",
    "steps_per_epoch = len(train_loader)\n",
    "\n",
    "\n",
    "# -----------------------------------------------------------------------------\n",
    "# Build optimizer, LR scheduler, AMP scaler, and gradient‐clip norm\n",
    "# -----------------------------------------------------------------------------\n",
    "optimizer, plateau_sched, cosine_sched, scaler, clipnorm = make_optimizer_and_scheduler(\n",
    "    model,\n",
    "    initial_lr         = INITIAL_LR,         # starting learning rate, e.g. 3e-4\n",
    "    weight_decay       = WEIGHT_DECAY,       # L2 penalty on all weights\n",
    "    lr_reduce_factor   = PLATEAU_FACTOR,     # multiply LR by IT on plateau\n",
    "    lr_patience        = PLATEAU_PATIENCE,   # epochs with no val‐improve before reduce\n",
    "    lr_min             = MIN_LR,             # lower bound on LR\n",
    "    clipnorm           = CLIPNORM            # max gradient‐norm before clipping\n",
    ")\n",
    "\n",
    "\n",
    "# -----------------------------------------------------------------------------\n",
    "# Count how many calendar days we see each epoch\n",
    "# -----------------------------------------------------------------------------\n",
    "n_train_days = len(train_loader.dataset)  # dataset length = # unique days\n",
    "print(f\"Training sees {n_train_days} calendar days per epoch\\n\")\n",
    "\n",
    "\n",
    "# -----------------------------------------------------------------------------\n",
    "# Compute baseline RMSE on validation (zero forecast)\n",
    "# -----------------------------------------------------------------------------\n",
    "baseline_val_rmse = models.naive_rmse(val_loader)\n",
    "print(f\"Baseline (zero‐forecast) RMSE on validation = {baseline_val_rmse:.6f}\")\n",
    "\n",
    "\n",
    "# -----------------------------------------------------------------------------\n",
    "# Run the custom stateful training loop\n",
    "# -----------------------------------------------------------------------------\n",
    "best_val_rmse = custom_stateful_training_loop(\n",
    "    model               = model,\n",
    "    optimizer           = optimizer,\n",
    "    cosine_sched        = cosine_sched,\n",
    "    plateau_sched       = plateau_sched,\n",
    "    scaler              = scaler,\n",
    "    train_loader        = train_loader,\n",
    "    val_loader          = val_loader,\n",
    "    max_epochs          = MAX_EPOCHS,\n",
    "    early_stop_patience = EARLY_STOP_PATIENCE,\n",
    "    baseline_val_rmse   = baseline_val_rmse,\n",
    "    clipnorm            = clipnorm,\n",
    "    device              = device      # torch.device('cuda') or 'cpu'\n",
    ")\n",
    "\n",
    "\n",
    "# -----------------------------------------------------------------------------\n",
    "# Final reporting: best RMSE and relative improvement\n",
    "# -----------------------------------------------------------------------------\n",
    "print(f\"\\nChampion validation RMSE = {best_val_rmse:.6f}\")\n",
    "\n",
    "improvement = 100.0 * (1.0 - best_val_rmse / baseline_val_rmse)\n",
    "print(f\"Improvement over zero‐baseline = {improvement:5.1f}%\")\n"
   ]
  },
  {
   "cell_type": "code",
   "execution_count": null,
   "id": "ec11a096-4db7-493b-a3bb-4ae171c7df6c",
   "metadata": {},
   "outputs": [],
   "source": []
  },
  {
   "cell_type": "code",
   "execution_count": null,
   "id": "e09e0cda",
   "metadata": {},
   "outputs": [],
   "source": []
  },
  {
   "cell_type": "code",
   "execution_count": null,
   "id": "4c8660dd-d2db-434a-aa59-17814d343fbe",
   "metadata": {},
   "outputs": [],
   "source": []
  }
 ],
 "metadata": {
  "kernelspec": {
   "display_name": "Python 3 (ipykernel)",
   "language": "python",
   "name": "python3"
  },
  "language_info": {
   "codemirror_mode": {
    "name": "ipython",
    "version": 3
   },
   "file_extension": ".py",
   "mimetype": "text/x-python",
   "name": "python",
   "nbconvert_exporter": "python",
   "pygments_lexer": "ipython3",
   "version": "3.12.3"
  }
 },
 "nbformat": 4,
 "nbformat_minor": 5
}
