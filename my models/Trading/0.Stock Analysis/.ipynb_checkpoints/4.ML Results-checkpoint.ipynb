{
 "cells": [
  {
   "cell_type": "code",
   "execution_count": 17,
   "id": "db53f869-3ce8-4b85-9c38-ba83b86b51b9",
   "metadata": {},
   "outputs": [],
   "source": [
    "import importlib\n",
    "from libs import models, plots, trades, params\n",
    "importlib.reload(models)\n",
    "importlib.reload(plots)\n",
    "importlib.reload(params)\n",
    "importlib.reload(trades)\n",
    "\n",
    "import pandas as pd\n",
    "import numpy as np\n",
    "import math\n",
    "\n",
    "from pathlib import Path\n",
    "import pickle\n",
    "import datetime as dt\n",
    "from datetime import datetime\n",
    "\n",
    "from tqdm import tqdm\n",
    "import matplotlib.pyplot as plt   \n",
    "import numpy as np\n",
    "\n",
    "import torch\n",
    "import torch.nn.functional as Funct\n",
    "from torch.utils.data import Dataset, DataLoader\n",
    "torch.serialization.add_safe_globals([models.DayDataset])\n"
   ]
  },
  {
   "cell_type": "code",
   "execution_count": 2,
   "id": "1c9b44fb-0cf5-4b31-8cdf-39d8d587234e",
   "metadata": {},
   "outputs": [
    {
     "data": {
      "text/plain": [
       "PosixPath('dfs training/GOOGL_0.2619.pth')"
      ]
     },
     "execution_count": 2,
     "metadata": {},
     "output_type": "execute_result"
    }
   ],
   "source": [
    "device               = params.device\n",
    "ticker               = params.ticker\n",
    "base_path            = params.save_path\n",
    "look_back            = params.look_back\n",
    "label_col            = params.label_col\n",
    "feature_cols         = params.feature_cols\n",
    "pred_threshold       = params.pred_threshold_man\n",
    "regular_start        = params.regular_start\n",
    "trailing_stop_thresh = params.trailing_stop_thresh_man\n",
    "\n",
    "# model path\n",
    "val_rmse_str = \"0.2619\"   # same rmse in the filename\n",
    "model_path = base_path / f\"{ticker}_{val_rmse_str}.pth\"\n",
    "model_path"
   ]
  },
  {
   "cell_type": "code",
   "execution_count": 3,
   "id": "3daba10b-3212-4a06-b607-748995bdc51b",
   "metadata": {},
   "outputs": [
    {
     "data": {
      "text/plain": [
       "DualMemoryLSTM(\n",
       "  (short_lstm): LSTM(5, 128, batch_first=True)\n",
       "  (attn): MultiheadAttention(\n",
       "    (out_proj): NonDynamicallyQuantizableLinear(in_features=128, out_features=128, bias=True)\n",
       "  )\n",
       "  (do_short): Dropout(p=0.3, inplace=False)\n",
       "  (ln_short): LayerNorm((128,), eps=1e-05, elementwise_affine=True)\n",
       "  (long_lstm): LSTM(128, 256, batch_first=True)\n",
       "  (do_long): Dropout(p=0.4, inplace=False)\n",
       "  (ln_long): LayerNorm((256,), eps=1e-05, elementwise_affine=True)\n",
       "  (pred): Linear(in_features=256, out_features=1, bias=True)\n",
       ")"
      ]
     },
     "execution_count": 3,
     "metadata": {},
     "output_type": "execute_result"
    }
   ],
   "source": [
    "# Load the entire model object (architecture + weights)\n",
    "model_best = torch.load(model_path, map_location=device, weights_only=False)\n",
    "model_best.to(device).eval()\n",
    "model_best"
   ]
  },
  {
   "cell_type": "code",
   "execution_count": 4,
   "id": "5bf25736-b8c8-4228-9127-5e598d9f923d",
   "metadata": {},
   "outputs": [
    {
     "data": {
      "text/plain": [
       "(<torch.utils.data.dataloader.DataLoader at 0x7f21dce2bb90>,\n",
       " <torch.utils.data.dataloader.DataLoader at 0x7f1e692aef00>)"
      ]
     },
     "execution_count": 4,
     "metadata": {},
     "output_type": "execute_result"
    }
   ],
   "source": [
    "dataset_test_path = base_path / f\"{ticker}_test_ds.pt\"\n",
    "dataset_test = torch.load(dataset_test_path)\n",
    "\n",
    "dataloader_test = DataLoader(\n",
    "    dataset_test,\n",
    "    batch_size=1,\n",
    "    shuffle=False,\n",
    "    num_workers=0,\n",
    "    pin_memory=False\n",
    ")\n",
    "\n",
    "dataset_val_path = base_path / f\"{ticker}_val_ds.pt\"\n",
    "dataset_val = torch.load(dataset_val_path)\n",
    "\n",
    "dataloader_val = DataLoader(\n",
    "    dataset_val,\n",
    "    batch_size=1,\n",
    "    shuffle=False,\n",
    "    num_workers=0,\n",
    "    pin_memory=False\n",
    ")\n",
    "\n",
    "dataloader_test, dataloader_val"
   ]
  },
  {
   "cell_type": "code",
   "execution_count": 5,
   "id": "9cc3bb61-a03f-466d-9fde-ed65753fc6b2",
   "metadata": {},
   "outputs": [
    {
     "name": "stdout",
     "output_type": "stream",
     "text": [
      "Val zero‐forecast baseline RMSE  = 0.48778\n",
      "Test zero‐forecast baseline RMSE = 0.37577\n"
     ]
    }
   ],
   "source": [
    "# zero‐forecast baseline on val vs test\n",
    "# √( mean( (yᵢ – 0)² ) )\n",
    "\n",
    "val_baseline  = models.naive_rmse(dataloader_val)\n",
    "test_baseline = models.naive_rmse(dataloader_test)\n",
    "\n",
    "print(f\"Val zero‐forecast baseline RMSE  = {val_baseline:.5f}\")\n",
    "print(f\"Test zero‐forecast baseline RMSE = {test_baseline:.5f}\")"
   ]
  },
  {
   "cell_type": "code",
   "execution_count": 6,
   "id": "ce154412-6773-4774-bc9f-7bc5f74f981d",
   "metadata": {},
   "outputs": [
    {
     "name": "stdout",
     "output_type": "stream",
     "text": [
      "std val: 0.32359964\n",
      "std test: 0.25987574\n"
     ]
    },
    {
     "data": {
      "image/png": "[encoded data removed]",
      "text/plain": [
       "<Figure size 640x480 with 1 Axes>"
      ]
     },
     "metadata": {},
     "output_type": "display_data"
    }
   ],
   "source": [
    "# to confirm the baseline proportions, calculate the STD\n",
    "# σ = √( mean( (yᵢ – ȳ)² ) )\n",
    "\n",
    "y_vals = np.concatenate([batch[1].view(-1).numpy()\n",
    "                         for batch in dataloader_val])\n",
    "y_tes  = np.concatenate([batch[1].view(-1).numpy()\n",
    "                         for batch in dataloader_test])\n",
    "print(\"std val:\", np.std(y_vals))\n",
    "print(\"std test:\", np.std(y_tes))\n",
    "\n",
    "plt.hist(y_vals, bins=100, alpha=0.5, label=\"val\")\n",
    "plt.hist(y_tes,  bins=100, alpha=0.5, label=\"test\")\n",
    "plt.legend(); plt.show()"
   ]
  },
  {
   "cell_type": "code",
   "execution_count": 7,
   "id": "2f065e61-6fe3-4508-9bc6-d2e9bca30686",
   "metadata": {},
   "outputs": [],
   "source": [
    "\n",
    "# def rmse_over_windows(model, loader, device, split_name=\"Test\"):\n",
    "#     \"\"\"\n",
    "#     Compute model RMSE over all sliding windows:\n",
    "#       - reset LSTM states per day/week\n",
    "#       - sum squared errors, divide by total windows, sqrt\n",
    "#       - show progress with tqdm, print final summary\n",
    "#     \"\"\"\n",
    "#     model.to(device).eval()\n",
    "#     model.h_short = model.h_long = None\n",
    "\n",
    "#     prev_wd        = None\n",
    "#     total_sq_error = 0.0\n",
    "#     total_windows  = 0\n",
    "\n",
    "#     with torch.no_grad():\n",
    "#         for batch in tqdm(loader, desc=f\"{split_name} RMSE\", unit=\"day\"):\n",
    "#             # unpack: xb_day, yb_day, [raw_*...], wd\n",
    "#             xb_day, yb_day, *_, wd = batch\n",
    "#             wd = int(wd.item())\n",
    "\n",
    "#             # reset states\n",
    "#             model.reset_short()\n",
    "#             if prev_wd is not None and wd < prev_wd:\n",
    "#                 model.reset_long()\n",
    "#             prev_wd = wd\n",
    "\n",
    "#             # get inputs and targets\n",
    "#             x    = xb_day[0].to(device)        # (W, look_back, F)\n",
    "#             y    = yb_day.view(-1).to(device)  # (W,)\n",
    "#             pred = model(x)[:, -1, 0]          # (W,)\n",
    "\n",
    "#             # accumulate\n",
    "#             total_sq_error += (pred - y).pow(2).sum().item()\n",
    "#             total_windows  += y.size(0)\n",
    "\n",
    "#     rmse = math.sqrt(total_sq_error / total_windows)\n",
    "#     print(f\"\\n{split_name} RMSE over {total_windows} windows = {rmse:.5f}\")\n",
    "#     return rmse\n",
    "\n",
    "# # Usage:\n",
    "# val_rmse  = rmse_over_windows(model_best, dataloader_val,   device, split_name=\"Validation\")\n",
    "# test_rmse = rmse_over_windows(model_best, dataloader_test,  device, split_name=\"Test\")"
   ]
  },
  {
   "cell_type": "code",
   "execution_count": 8,
   "id": "2e3fd008-4a5d-44fd-9bb4-c4e70e4c8ea0",
   "metadata": {},
   "outputs": [],
   "source": [
    "\n",
    "def evaluate_model(\n",
    "    model: torch.nn.Module,\n",
    "    loader: torch.utils.data.DataLoader,\n",
    "    device: torch.device,\n",
    "    split_name: str = \"Test\",\n",
    "    compute_rmse: bool = True,\n",
    "    collect_preds: bool = False\n",
    "):\n",
    "    \"\"\"\n",
    "    Run your LSTM over every day in `loader`, with the same reset logic\n",
    "    you use in rmse_over_windows and collect_predictions, but controlled by flags:\n",
    "      - compute_rmse: if True, accumulates MSE and returns RMSE\n",
    "      - collect_preds: if True, gathers every window's prediction into a flat array\n",
    "\n",
    "    Returns:\n",
    "      (rmse, preds) where:\n",
    "        • rmse is a float if compute_rmse else None\n",
    "        • preds is a 1D np.ndarray if collect_preds else None\n",
    "\n",
    "    You can call:\n",
    "      rmse, _     = evaluate_model(model, loader, device, split_name, True, False)\n",
    "      _, preds    = evaluate_model(model, loader, device, split_name, False, True)\n",
    "      rmse, preds = evaluate_model(model, loader, device, split_name, True, True)\n",
    "    \"\"\"\n",
    "    # Move model & reset its internal state\n",
    "    model.to(device).eval()\n",
    "    model.h_short = model.h_long = None\n",
    "\n",
    "    prev_wd        = None\n",
    "    total_sq_error = 0.0     # for RMSE\n",
    "    total_windows  = 0       # counter for windows\n",
    "    all_preds      = []      # list to store per-day preds\n",
    "\n",
    "    # Iterate exactly as in two original functions\n",
    "    with torch.no_grad():\n",
    "        for batch in tqdm(loader, desc=f\"{split_name}\", unit=\"day\"):\n",
    "            # Unpack: xb_day, yb_day, optional raw_*, wd\n",
    "            xb_day, yb_day, *_, wd = batch\n",
    "            wd_val = int(wd.item())\n",
    "\n",
    "            # reset per-day LSTM\n",
    "            model.reset_short()\n",
    "            # reset per-week LSTM on weekday wrap\n",
    "            if prev_wd is not None and wd_val < prev_wd:\n",
    "                model.reset_long()\n",
    "            prev_wd = wd_val\n",
    "\n",
    "            # pull input windows and true targets\n",
    "            x    = xb_day[0].to(device)        # shape: (W, look_back, F)\n",
    "            y    = yb_day.view(-1).to(device)  # shape: (W,)\n",
    "\n",
    "            # forward pass → get last-step prediction\n",
    "            out  = model(x)                    # (W, look_back, 1)\n",
    "            pred = out[:, -1, 0]               # (W,)\n",
    "\n",
    "            # accumulate RMSE stats if requested\n",
    "            if compute_rmse:\n",
    "                total_sq_error += (pred - y).pow(2).sum().item()\n",
    "                total_windows  += y.numel()\n",
    "\n",
    "            # collect raw preds if requested\n",
    "            if collect_preds:\n",
    "                all_preds.append(pred.cpu().numpy())\n",
    "\n",
    "    # compute final RMSE\n",
    "    rmse = None\n",
    "    if compute_rmse:\n",
    "        rmse = math.sqrt(total_sq_error / total_windows)\n",
    "        print(f\"\\n{split_name} RMSE over {total_windows} windows = {rmse:.5f}\")\n",
    "\n",
    "    # flatten collected predictions\n",
    "    preds = None\n",
    "    if collect_preds:\n",
    "        preds = np.concatenate(all_preds, axis=0)\n",
    "\n",
    "    return rmse, preds\n"
   ]
  },
  {
   "cell_type": "code",
   "execution_count": 9,
   "id": "d557c7f6-8653-4b5c-afc2-e16ba8daf319",
   "metadata": {},
   "outputs": [
    {
     "name": "stderr",
     "output_type": "stream",
     "text": [
      "Validation: 100%|██████████| 410/410 [00:03<00:00, 129.77day/s]\n"
     ]
    },
    {
     "name": "stdout",
     "output_type": "stream",
     "text": [
      "\n",
      "Validation RMSE over 160310 windows = 0.26191\n"
     ]
    },
    {
     "name": "stderr",
     "output_type": "stream",
     "text": [
      "Test: 100%|██████████| 422/422 [00:04<00:00, 85.83day/s] "
     ]
    },
    {
     "name": "stdout",
     "output_type": "stream",
     "text": [
      "\n",
      "Test RMSE over 165002 windows = 0.23055\n"
     ]
    },
    {
     "name": "stderr",
     "output_type": "stream",
     "text": [
      "\n"
     ]
    }
   ],
   "source": [
    "val_rmse, _     = evaluate_model(model_best, dataloader_val, device, split_name=\"Validation\")\n",
    "test_rmse, _     = evaluate_model(model_best, dataloader_test, device, split_name=\"Test\")\n"
   ]
  },
  {
   "cell_type": "code",
   "execution_count": 10,
   "id": "9e0903b0-1be7-4884-8bbe-38759eaf1708",
   "metadata": {},
   "outputs": [],
   "source": [
    "# def add_pred_actions(\n",
    "#     preds: np.ndarray,\n",
    "#     csv_dir: str = \"./dfs training\"\n",
    "# ):\n",
    "#     \"\"\"\n",
    "#     Attach two columns:\n",
    "#       - pred_signal : the raw float prediction\n",
    "#       - pred_action : discrete {+1,0,−1} by threshold\n",
    "#     \"\"\"\n",
    "#     path_csv = f\"{csv_dir}/{ticker}_test_DF.csv\"\n",
    "\n",
    "#     # read full test DataFrame (timestamps + all columns)\n",
    "#     df = pd.read_csv(path_csv, index_col=0, parse_dates=True)\n",
    "#     df.sort_index(inplace=True)\n",
    "\n",
    "#     # sanity check: preds must align one‐to‐one with df rows\n",
    "#     if len(df) != len(preds):\n",
    "#         raise ValueError(\n",
    "#             f\"Row count mismatch: DF has {len(df)} rows, \"\n",
    "#             f\"preds has {len(preds)} entries.\"\n",
    "#         )\n",
    "\n",
    "#     # attach continuous signal\n",
    "#     df[\"pred_signal\"] = preds\n",
    "\n",
    "#     # ── FILTER ──\n",
    "#     # keep only rows at or after the regular market open\n",
    "#     df = df[df.index.time >= regular_start]\n",
    "\n",
    "#     # now call your trading‐logic on that filtered frame\n",
    "#     df = trades.generate_trade_actions(\n",
    "#         df                   = df,               # filtered rows only\n",
    "#         col_signal           = \"pred_signal\",\n",
    "#         col_action           = \"pred_action\",\n",
    "#         buy_threshold        = pred_threshold,\n",
    "#         trailing_stop_thresh = trailing_stop_thresh,\n",
    "#         regular_start        = regular_start\n",
    "#     )\n",
    "\n",
    "#     # save final CSV (overwriting the filtered view)\n",
    "#     df.to_csv(path_csv, index=True)\n",
    "#     print(f\"Saved predictions & actions to {path_csv}\")\n",
    "#     return df\n"
   ]
  },
  {
   "cell_type": "code",
   "execution_count": 11,
   "id": "ccd55a5b-1b14-4e11-be59-3f8d1a5ccfd0",
   "metadata": {},
   "outputs": [],
   "source": [
    "def add_pred_actions(\n",
    "    preds: np.ndarray,\n",
    "    csv_dir: str = \"./dfs training\"\n",
    ") -> pd.DataFrame:\n",
    "    \"\"\"\n",
    "    Attach two columns:\n",
    "      - pred_signal : the raw float prediction\n",
    "      - pred_action : discrete {+1,0,−1} by threshold\n",
    "\n",
    "    We first filter out the rows for which your model actually made predictions:\n",
    "      • drop the first `LOOK_BACK` minutes of each day (no sliding‐window ends there)\n",
    "      • drop any minute before `regular_start` each day\n",
    "    Then we align preds → rows 1:1, attach the signal, and call generate_trade_actions.\n",
    "    \"\"\"\n",
    "    path_csv = f\"{csv_dir}/{ticker}_test_DF.csv\"\n",
    "\n",
    "    # 1) Load the full-minute DataFrame and sort by time\n",
    "    df_full = pd.read_csv(path_csv, index_col=0, parse_dates=True)\n",
    "    df_full.sort_index(inplace=True)\n",
    "\n",
    "    # 2) Build a filtered DataFrame containing only the rows your model saw\n",
    "    filtered_days = []\n",
    "    for date, day_df in df_full.groupby(df_full.index.normalize(), sort=False):\n",
    "        day_df = day_df.sort_index()\n",
    "\n",
    "        # a) drop the first LOOK_BACK rows (no window ends there)\n",
    "        day_df = day_df.iloc[look_back:]\n",
    "\n",
    "        # b) keep only minutes at or after regular_start\n",
    "        day_df = day_df.loc[day_df.index.time >= regular_start]\n",
    "\n",
    "        filtered_days.append(day_df)\n",
    "\n",
    "    df = pd.concat(filtered_days, axis=0)\n",
    "\n",
    "    # 3) Sanity check: now length must match preds\n",
    "    if len(df) != len(preds):\n",
    "        raise ValueError(\n",
    "            f\"Row count mismatch: filtered DF has {len(df)} rows, \"\n",
    "            f\"but preds has {len(preds)} entries.\"\n",
    "        )\n",
    "\n",
    "    # 4) Attach the continuous model output\n",
    "    df[\"pred_signal\"] = preds\n",
    "\n",
    "    # 5) Generate discrete trade actions on that filtered DF\n",
    "    df = trades.generate_trade_actions(\n",
    "        df                   = df,                # filtered only\n",
    "        col_signal           = \"pred_signal\",\n",
    "        col_action           = \"pred_action\",\n",
    "        buy_threshold        = pred_threshold,\n",
    "        trailing_stop_thresh = trailing_stop_thresh,\n",
    "        regular_start        = regular_start\n",
    "    )\n",
    "\n",
    "    # 6) Persist results (overwrites the filtered CSV)\n",
    "    df.to_csv(path_csv, index=True)\n",
    "    print(f\"Saved filtered predictions & actions to {path_csv}\")\n",
    "\n",
    "    return df\n"
   ]
  },
  {
   "cell_type": "code",
   "execution_count": 12,
   "id": "cc219b44-696e-41dc-97ae-d5c5a5403d69",
   "metadata": {},
   "outputs": [
    {
     "name": "stderr",
     "output_type": "stream",
     "text": [
      "Test: 100%|██████████| 422/422 [00:02<00:00, 159.79day/s]\n"
     ]
    },
    {
     "name": "stdout",
     "output_type": "stream",
     "text": [
      "Saved filtered predictions & actions to ./dfs training/GOOGL_test_DF.csv\n"
     ]
    },
    {
     "data": {
      "text/html": [
       "<div>\n",
       "<style scoped>\n",
       "    .dataframe tbody tr th:only-of-type {\n",
       "        vertical-align: middle;\n",
       "    }\n",
       "\n",
       "    .dataframe tbody tr th {\n",
       "        vertical-align: top;\n",
       "    }\n",
       "\n",
       "    .dataframe thead th {\n",
       "        text-align: right;\n",
       "    }\n",
       "</style>\n",
       "<table border=\"1\" class=\"dataframe\">\n",
       "  <thead>\n",
       "    <tr style=\"text-align: right;\">\n",
       "      <th></th>\n",
       "      <th>open</th>\n",
       "      <th>high</th>\n",
       "      <th>low</th>\n",
       "      <th>close</th>\n",
       "      <th>volume</th>\n",
       "      <th>bid</th>\n",
       "      <th>ask</th>\n",
       "      <th>trade_action</th>\n",
       "      <th>StrategyEarning</th>\n",
       "      <th>EarningDiff</th>\n",
       "      <th>signal_smooth</th>\n",
       "      <th>pred_signal</th>\n",
       "      <th>pred_action</th>\n",
       "    </tr>\n",
       "  </thead>\n",
       "  <tbody>\n",
       "    <tr>\n",
       "      <th>2023-10-12 14:30:00</th>\n",
       "      <td>141.050</td>\n",
       "      <td>141.2200</td>\n",
       "      <td>140.4432</td>\n",
       "      <td>140.4434</td>\n",
       "      <td>532078.0</td>\n",
       "      <td>140.4013</td>\n",
       "      <td>140.4855</td>\n",
       "      <td>1</td>\n",
       "      <td>-0.084</td>\n",
       "      <td>0.000</td>\n",
       "      <td>0.686669</td>\n",
       "      <td>0.106947</td>\n",
       "      <td>0</td>\n",
       "    </tr>\n",
       "    <tr>\n",
       "      <th>2023-10-12 14:31:00</th>\n",
       "      <td>140.435</td>\n",
       "      <td>140.7200</td>\n",
       "      <td>140.2900</td>\n",
       "      <td>140.3350</td>\n",
       "      <td>115423.0</td>\n",
       "      <td>140.2929</td>\n",
       "      <td>140.3771</td>\n",
       "      <td>0</td>\n",
       "      <td>-0.193</td>\n",
       "      <td>0.000</td>\n",
       "      <td>0.700390</td>\n",
       "      <td>0.165582</td>\n",
       "      <td>0</td>\n",
       "    </tr>\n",
       "    <tr>\n",
       "      <th>2023-10-12 14:32:00</th>\n",
       "      <td>140.310</td>\n",
       "      <td>140.6100</td>\n",
       "      <td>140.2300</td>\n",
       "      <td>140.4200</td>\n",
       "      <td>111591.0</td>\n",
       "      <td>140.3779</td>\n",
       "      <td>140.4621</td>\n",
       "      <td>0</td>\n",
       "      <td>-0.108</td>\n",
       "      <td>0.000</td>\n",
       "      <td>0.706180</td>\n",
       "      <td>0.168880</td>\n",
       "      <td>0</td>\n",
       "    </tr>\n",
       "    <tr>\n",
       "      <th>2023-10-12 14:33:00</th>\n",
       "      <td>140.430</td>\n",
       "      <td>140.4700</td>\n",
       "      <td>140.0800</td>\n",
       "      <td>140.0900</td>\n",
       "      <td>96714.0</td>\n",
       "      <td>140.0480</td>\n",
       "      <td>140.1320</td>\n",
       "      <td>0</td>\n",
       "      <td>-0.438</td>\n",
       "      <td>0.000</td>\n",
       "      <td>0.707526</td>\n",
       "      <td>0.156575</td>\n",
       "      <td>0</td>\n",
       "    </tr>\n",
       "    <tr>\n",
       "      <th>2023-10-12 14:34:00</th>\n",
       "      <td>140.100</td>\n",
       "      <td>140.4400</td>\n",
       "      <td>140.0600</td>\n",
       "      <td>140.3000</td>\n",
       "      <td>102922.0</td>\n",
       "      <td>140.2579</td>\n",
       "      <td>140.3421</td>\n",
       "      <td>0</td>\n",
       "      <td>-0.228</td>\n",
       "      <td>0.000</td>\n",
       "      <td>0.703992</td>\n",
       "      <td>0.150678</td>\n",
       "      <td>0</td>\n",
       "    </tr>\n",
       "    <tr>\n",
       "      <th>...</th>\n",
       "      <td>...</td>\n",
       "      <td>...</td>\n",
       "      <td>...</td>\n",
       "      <td>...</td>\n",
       "      <td>...</td>\n",
       "      <td>...</td>\n",
       "      <td>...</td>\n",
       "      <td>...</td>\n",
       "      <td>...</td>\n",
       "      <td>...</td>\n",
       "      <td>...</td>\n",
       "      <td>...</td>\n",
       "      <td>...</td>\n",
       "    </tr>\n",
       "    <tr>\n",
       "      <th>2025-06-18 20:56:00</th>\n",
       "      <td>173.375</td>\n",
       "      <td>173.6771</td>\n",
       "      <td>173.2150</td>\n",
       "      <td>173.5650</td>\n",
       "      <td>621199.0</td>\n",
       "      <td>173.5129</td>\n",
       "      <td>173.6171</td>\n",
       "      <td>0</td>\n",
       "      <td>-0.931</td>\n",
       "      <td>1.779</td>\n",
       "      <td>0.000000</td>\n",
       "      <td>0.218538</td>\n",
       "      <td>0</td>\n",
       "    </tr>\n",
       "    <tr>\n",
       "      <th>2025-06-18 20:57:00</th>\n",
       "      <td>173.565</td>\n",
       "      <td>173.5900</td>\n",
       "      <td>173.2400</td>\n",
       "      <td>173.3800</td>\n",
       "      <td>624198.0</td>\n",
       "      <td>173.3280</td>\n",
       "      <td>173.4320</td>\n",
       "      <td>0</td>\n",
       "      <td>-0.931</td>\n",
       "      <td>1.964</td>\n",
       "      <td>0.000000</td>\n",
       "      <td>0.199252</td>\n",
       "      <td>0</td>\n",
       "    </tr>\n",
       "    <tr>\n",
       "      <th>2025-06-18 20:58:00</th>\n",
       "      <td>173.390</td>\n",
       "      <td>173.4100</td>\n",
       "      <td>173.2000</td>\n",
       "      <td>173.3100</td>\n",
       "      <td>454542.0</td>\n",
       "      <td>173.2580</td>\n",
       "      <td>173.3620</td>\n",
       "      <td>0</td>\n",
       "      <td>-0.931</td>\n",
       "      <td>2.034</td>\n",
       "      <td>0.000000</td>\n",
       "      <td>0.197956</td>\n",
       "      <td>0</td>\n",
       "    </tr>\n",
       "    <tr>\n",
       "      <th>2025-06-18 20:59:00</th>\n",
       "      <td>173.315</td>\n",
       "      <td>173.4000</td>\n",
       "      <td>173.2300</td>\n",
       "      <td>173.2800</td>\n",
       "      <td>1094746.0</td>\n",
       "      <td>173.2280</td>\n",
       "      <td>173.3320</td>\n",
       "      <td>0</td>\n",
       "      <td>-0.931</td>\n",
       "      <td>2.064</td>\n",
       "      <td>0.000000</td>\n",
       "      <td>0.197040</td>\n",
       "      <td>0</td>\n",
       "    </tr>\n",
       "    <tr>\n",
       "      <th>2025-06-18 21:00:00</th>\n",
       "      <td>173.300</td>\n",
       "      <td>174.0500</td>\n",
       "      <td>173.1700</td>\n",
       "      <td>173.6097</td>\n",
       "      <td>7649838.0</td>\n",
       "      <td>173.5576</td>\n",
       "      <td>173.6618</td>\n",
       "      <td>0</td>\n",
       "      <td>-0.931</td>\n",
       "      <td>1.734</td>\n",
       "      <td>0.000000</td>\n",
       "      <td>0.143300</td>\n",
       "      <td>0</td>\n",
       "    </tr>\n",
       "  </tbody>\n",
       "</table>\n",
       "<p>165002 rows × 13 columns</p>\n",
       "</div>"
      ],
      "text/plain": [
       "                        open      high       low     close     volume  \\\n",
       "2023-10-12 14:30:00  141.050  141.2200  140.4432  140.4434   532078.0   \n",
       "2023-10-12 14:31:00  140.435  140.7200  140.2900  140.3350   115423.0   \n",
       "2023-10-12 14:32:00  140.310  140.6100  140.2300  140.4200   111591.0   \n",
       "2023-10-12 14:33:00  140.430  140.4700  140.0800  140.0900    96714.0   \n",
       "2023-10-12 14:34:00  140.100  140.4400  140.0600  140.3000   102922.0   \n",
       "...                      ...       ...       ...       ...        ...   \n",
       "2025-06-18 20:56:00  173.375  173.6771  173.2150  173.5650   621199.0   \n",
       "2025-06-18 20:57:00  173.565  173.5900  173.2400  173.3800   624198.0   \n",
       "2025-06-18 20:58:00  173.390  173.4100  173.2000  173.3100   454542.0   \n",
       "2025-06-18 20:59:00  173.315  173.4000  173.2300  173.2800  1094746.0   \n",
       "2025-06-18 21:00:00  173.300  174.0500  173.1700  173.6097  7649838.0   \n",
       "\n",
       "                          bid       ask  trade_action  StrategyEarning  \\\n",
       "2023-10-12 14:30:00  140.4013  140.4855             1           -0.084   \n",
       "2023-10-12 14:31:00  140.2929  140.3771             0           -0.193   \n",
       "2023-10-12 14:32:00  140.3779  140.4621             0           -0.108   \n",
       "2023-10-12 14:33:00  140.0480  140.1320             0           -0.438   \n",
       "2023-10-12 14:34:00  140.2579  140.3421             0           -0.228   \n",
       "...                       ...       ...           ...              ...   \n",
       "2025-06-18 20:56:00  173.5129  173.6171             0           -0.931   \n",
       "2025-06-18 20:57:00  173.3280  173.4320             0           -0.931   \n",
       "2025-06-18 20:58:00  173.2580  173.3620             0           -0.931   \n",
       "2025-06-18 20:59:00  173.2280  173.3320             0           -0.931   \n",
       "2025-06-18 21:00:00  173.5576  173.6618             0           -0.931   \n",
       "\n",
       "                     EarningDiff  signal_smooth  pred_signal  pred_action  \n",
       "2023-10-12 14:30:00        0.000       0.686669     0.106947            0  \n",
       "2023-10-12 14:31:00        0.000       0.700390     0.165582            0  \n",
       "2023-10-12 14:32:00        0.000       0.706180     0.168880            0  \n",
       "2023-10-12 14:33:00        0.000       0.707526     0.156575            0  \n",
       "2023-10-12 14:34:00        0.000       0.703992     0.150678            0  \n",
       "...                          ...            ...          ...          ...  \n",
       "2025-06-18 20:56:00        1.779       0.000000     0.218538            0  \n",
       "2025-06-18 20:57:00        1.964       0.000000     0.199252            0  \n",
       "2025-06-18 20:58:00        2.034       0.000000     0.197956            0  \n",
       "2025-06-18 20:59:00        2.064       0.000000     0.197040            0  \n",
       "2025-06-18 21:00:00        1.734       0.000000     0.143300            0  \n",
       "\n",
       "[165002 rows x 13 columns]"
      ]
     },
     "execution_count": 12,
     "metadata": {},
     "output_type": "execute_result"
    }
   ],
   "source": [
    "_, preds = evaluate_model(model_best, dataloader_test, device,\n",
    "                          split_name=\"Test\",\n",
    "                          compute_rmse=False, collect_preds=True)\n",
    "\n",
    "df_with_preds = add_pred_actions(preds)\n",
    "df_with_preds"
   ]
  },
  {
   "cell_type": "code",
   "execution_count": 13,
   "id": "4b0b957c-f93a-41b6-bce1-08806c2b0906",
   "metadata": {},
   "outputs": [],
   "source": [
    "\n",
    "# Run the simulator on your DataFrame of predictions/actions\n",
    "sim_results = trades.simulate_trading(\n",
    "    results_by_day_sign = df_with_preds,         # full DF with pred_action\n",
    "    col_action          = \"pred_action\",         # name of the discrete action column\n",
    "    regular_start       = params.regular_start,  # e.g. time(9,30)\n",
    "    regular_end         = params.regular_end,    # e.g. time(16,0)\n",
    "    ticker              = params.ticker\n",
    ")\n",
    "\n",
    "# sim_results is a dict: { date → (df_sim, trades_list, perf_stats) }\n"
   ]
  },
  {
   "cell_type": "code",
   "execution_count": 20,
   "id": "ba0cfdbb-71e4-4c87-bfa5-e6058c06c3b1",
   "metadata": {},
   "outputs": [
    {
     "data": {
      "application/vnd.plotly.v1+json": {
       "config": {
        "plotlyServerURL": "https://plot.ly"
       },
       "data": [
        {
         "hoverinfo": "x+y",
         "hovertemplate": "Date: %{x}<br>Close: %{y:.2f}<extra></extra>",
         "line": {
          "color": "grey",
          "width": 1
         },
         "mode": "lines",
         "name": "Close Price",
         "type": "scatter",
         "x": [
          "2025-06-10T14:30:00.000000000",
          "2025-06-10T14:31:00.000000000",
          "2025-06-10T14:32:00.000000000",
          "2025-06-10T14:33:00.000000000",
          "2025-06-10T14:34:00.000000000",
          "2025-06-10T14:35:00.000000000",
          "2025-06-10T14:36:00.000000000",
          "2025-06-10T14:37:00.000000000",
          "2025-06-10T14:38:00.000000000",
          "2025-06-10T14:39:00.000000000",
          "2025-06-10T14:40:00.000000000",
          "2025-06-10T14:41:00.000000000",
          "2025-06-10T14:42:00.000000000",
          "2025-06-10T14:43:00.000000000",
          "2025-06-10T14:44:00.000000000",
          "2025-06-10T14:45:00.000000000",
          "2025-06-10T14:46:00.000000000",
          "2025-06-10T14:47:00.000000000",
          "2025-06-10T14:48:00.000000000",
          "2025-06-10T14:49:00.000000000",
          "2025-06-10T14:50:00.000000000",
          "2025-06-10T14:51:00.000000000",
          "2025-06-10T14:52:00.000000000",
          "2025-06-10T14:53:00.000000000",
          "2025-06-10T14:54:00.000000000",
          "2025-06-10T14:55:00.000000000",
          "2025-06-10T14:56:00.000000000",
          "2025-06-10T14:57:00.000000000",
          "2025-06-10T14:58:00.000000000",
          "2025-06-10T14:59:00.000000000",
          "2025-06-10T15:00:00.000000000",
          "2025-06-10T15:01:00.000000000",
          "2025-06-10T15:02:00.000000000",
          "2025-06-10T15:03:00.000000000",
          "2025-06-10T15:04:00.000000000",
          "2025-06-10T15:05:00.000000000",
          "2025-06-10T15:06:00.000000000",
          "2025-06-10T15:07:00.000000000",
          "2025-06-10T15:08:00.000000000",
          "2025-06-10T15:09:00.000000000",
          "2025-06-10T15:10:00.000000000",
          "2025-06-10T15:11:00.000000000",
          "2025-06-10T15:12:00.000000000",
          "2025-06-10T15:13:00.000000000",
          "2025-06-10T15:14:00.000000000",
          "2025-06-10T15:15:00.000000000",
          "2025-06-10T15:16:00.000000000",
          "2025-06-10T15:17:00.000000000",
          "2025-06-10T15:18:00.000000000",
          "2025-06-10T15:19:00.000000000",
          "2025-06-10T15:20:00.000000000",
          "2025-06-10T15:21:00.000000000",
          "2025-06-10T15:22:00.000000000",
          "2025-06-10T15:23:00.000000000",
          "2025-06-10T15:24:00.000000000",
          "2025-06-10T15:25:00.000000000",
          "2025-06-10T15:26:00.000000000",
          "2025-06-10T15:27:00.000000000",
          "2025-06-10T15:28:00.000000000",
          "2025-06-10T15:29:00.000000000",
          "2025-06-10T15:30:00.000000000",
          "2025-06-10T15:31:00.000000000",
          "2025-06-10T15:32:00.000000000",
          "2025-06-10T15:33:00.000000000",
          "2025-06-10T15:34:00.000000000",
          "2025-06-10T15:35:00.000000000",
          "2025-06-10T15:36:00.000000000",
          "2025-06-10T15:37:00.000000000",
          "2025-06-10T15:38:00.000000000",
          "2025-06-10T15:39:00.000000000",
          "2025-06-10T15:40:00.000000000",
          "2025-06-10T15:41:00.000000000",
          "2025-06-10T15:42:00.000000000",
          "2025-06-10T15:43:00.000000000",
          "2025-06-10T15:44:00.000000000",
          "2025-06-10T15:45:00.000000000",
          "2025-06-10T15:46:00.000000000",
          "2025-06-10T15:47:00.000000000",
          "2025-06-10T15:48:00.000000000",
          "2025-06-10T15:49:00.000000000",
          "2025-06-10T15:50:00.000000000",
          "2025-06-10T15:51:00.000000000",
          "2025-06-10T15:52:00.000000000",
          "2025-06-10T15:53:00.000000000",
          "2025-06-10T15:54:00.000000000",
          "2025-06-10T15:55:00.000000000",
          "2025-06-10T15:56:00.000000000",
          "2025-06-10T15:57:00.000000000",
          "2025-06-10T15:58:00.000000000",
          "2025-06-10T15:59:00.000000000",
          "2025-06-10T16:00:00.000000000",
          "2025-06-10T16:01:00.000000000",
          "2025-06-10T16:02:00.000000000",
          "2025-06-10T16:03:00.000000000",
          "2025-06-10T16:04:00.000000000",
          "2025-06-10T16:05:00.000000000",
          "2025-06-10T16:06:00.000000000",
          "2025-06-10T16:07:00.000000000",
          "2025-06-10T16:08:00.000000000",
          "2025-06-10T16:09:00.000000000",
          "2025-06-10T16:10:00.000000000",
          "2025-06-10T16:11:00.000000000",
          "2025-06-10T16:12:00.000000000",
          "2025-06-10T16:13:00.000000000",
          "2025-06-10T16:14:00.000000000",
          "2025-06-10T16:15:00.000000000",
          "2025-06-10T16:16:00.000000000",
          "2025-06-10T16:17:00.000000000",
          "2025-06-10T16:18:00.000000000",
          "2025-06-10T16:19:00.000000000",
          "2025-06-10T16:20:00.000000000",
          "2025-06-10T16:21:00.000000000",
          "2025-06-10T16:22:00.000000000",
          "2025-06-10T16:23:00.000000000",
          "2025-06-10T16:24:00.000000000",
          "2025-06-10T16:25:00.000000000",
          "2025-06-10T16:26:00.000000000",
          "2025-06-10T16:27:00.000000000",
          "2025-06-10T16:28:00.000000000",
          "2025-06-10T16:29:00.000000000",
          "2025-06-10T16:30:00.000000000",
          "2025-06-10T16:31:00.000000000",
          "2025-06-10T16:32:00.000000000",
          "2025-06-10T16:33:00.000000000",
          "2025-06-10T16:34:00.000000000",
          "2025-06-10T16:35:00.000000000",
          "2025-06-10T16:36:00.000000000",
          "2025-06-10T16:37:00.000000000",
          "2025-06-10T16:38:00.000000000",
          "2025-06-10T16:39:00.000000000",
          "2025-06-10T16:40:00.000000000",
          "2025-06-10T16:41:00.000000000",
          "2025-06-10T16:42:00.000000000",
          "2025-06-10T16:43:00.000000000",
          "2025-06-10T16:44:00.000000000",
          "2025-06-10T16:45:00.000000000",
          "2025-06-10T16:46:00.000000000",
          "2025-06-10T16:47:00.000000000",
          "2025-06-10T16:48:00.000000000",
          "2025-06-10T16:49:00.000000000",
          "2025-06-10T16:50:00.000000000",
          "2025-06-10T16:51:00.000000000",
          "2025-06-10T16:52:00.000000000",
          "2025-06-10T16:53:00.000000000",
          "2025-06-10T16:54:00.000000000",
          "2025-06-10T16:55:00.000000000",
          "2025-06-10T16:56:00.000000000",
          "2025-06-10T16:57:00.000000000",
          "2025-06-10T16:58:00.000000000",
          "2025-06-10T16:59:00.000000000",
          "2025-06-10T17:00:00.000000000",
          "2025-06-10T17:01:00.000000000",
          "2025-06-10T17:02:00.000000000",
          "2025-06-10T17:03:00.000000000",
          "2025-06-10T17:04:00.000000000",
          "2025-06-10T17:05:00.000000000",
          "2025-06-10T17:06:00.000000000",
          "2025-06-10T17:07:00.000000000",
          "2025-06-10T17:08:00.000000000",
          "2025-06-10T17:09:00.000000000",
          "2025-06-10T17:10:00.000000000",
          "2025-06-10T17:11:00.000000000",
          "2025-06-10T17:12:00.000000000",
          "2025-06-10T17:13:00.000000000",
          "2025-06-10T17:14:00.000000000",
          "2025-06-10T17:15:00.000000000",
          "2025-06-10T17:16:00.000000000",
          "2025-06-10T17:17:00.000000000",
          "2025-06-10T17:18:00.000000000",
          "2025-06-10T17:19:00.000000000",
          "2025-06-10T17:20:00.000000000",
          "2025-06-10T17:21:00.000000000",
          "2025-06-10T17:22:00.000000000",
          "2025-06-10T17:23:00.000000000",
          "2025-06-10T17:24:00.000000000",
          "2025-06-10T17:25:00.000000000",
          "2025-06-10T17:26:00.000000000",
          "2025-06-10T17:27:00.000000000",
          "2025-06-10T17:28:00.000000000",
          "2025-06-10T17:29:00.000000000",
          "2025-06-10T17:30:00.000000000",
          "2025-06-10T17:31:00.000000000",
          "2025-06-10T17:32:00.000000000",
          "2025-06-10T17:33:00.000000000",
          "2025-06-10T17:34:00.000000000",
          "2025-06-10T17:35:00.000000000",
          "2025-06-10T17:36:00.000000000",
          "2025-06-10T17:37:00.000000000",
          "2025-06-10T17:38:00.000000000",
          "2025-06-10T17:39:00.000000000",
          "2025-06-10T17:40:00.000000000",
          "2025-06-10T17:41:00.000000000",
          "2025-06-10T17:42:00.000000000",
          "2025-06-10T17:43:00.000000000",
          "2025-06-10T17:44:00.000000000",
          "2025-06-10T17:45:00.000000000",
          "2025-06-10T17:46:00.000000000",
          "2025-06-10T17:47:00.000000000",
          "2025-06-10T17:48:00.000000000",
          "2025-06-10T17:49:00.000000000",
          "2025-06-10T17:50:00.000000000",
          "2025-06-10T17:51:00.000000000",
          "2025-06-10T17:52:00.000000000",
          "2025-06-10T17:53:00.000000000",
          "2025-06-10T17:54:00.000000000",
          "2025-06-10T17:55:00.000000000",
          "2025-06-10T17:56:00.000000000",
          "2025-06-10T17:57:00.000000000",
          "2025-06-10T17:58:00.000000000",
          "2025-06-10T17:59:00.000000000",
          "2025-06-10T18:00:00.000000000",
          "2025-06-10T18:01:00.000000000",
          "2025-06-10T18:02:00.000000000",
          "2025-06-10T18:03:00.000000000",
          "2025-06-10T18:04:00.000000000",
          "2025-06-10T18:05:00.000000000",
          "2025-06-10T18:06:00.000000000",
          "2025-06-10T18:07:00.000000000",
          "2025-06-10T18:08:00.000000000",
          "2025-06-10T18:09:00.000000000",
          "2025-06-10T18:10:00.000000000",
          "2025-06-10T18:11:00.000000000",
          "2025-06-10T18:12:00.000000000",
          "2025-06-10T18:13:00.000000000",
          "2025-06-10T18:14:00.000000000",
          "2025-06-10T18:15:00.000000000",
          "2025-06-10T18:16:00.000000000",
          "2025-06-10T18:17:00.000000000",
          "2025-06-10T18:18:00.000000000",
          "2025-06-10T18:19:00.000000000",
          "2025-06-10T18:20:00.000000000",
          "2025-06-10T18:21:00.000000000",
          "2025-06-10T18:22:00.000000000",
          "2025-06-10T18:23:00.000000000",
          "2025-06-10T18:24:00.000000000",
          "2025-06-10T18:25:00.000000000",
          "2025-06-10T18:26:00.000000000",
          "2025-06-10T18:27:00.000000000",
          "2025-06-10T18:28:00.000000000",
          "2025-06-10T18:29:00.000000000",
          "2025-06-10T18:30:00.000000000",
          "2025-06-10T18:31:00.000000000",
          "2025-06-10T18:32:00.000000000",
          "2025-06-10T18:33:00.000000000",
          "2025-06-10T18:34:00.000000000",
          "2025-06-10T18:35:00.000000000",
          "2025-06-10T18:36:00.000000000",
          "2025-06-10T18:37:00.000000000",
          "2025-06-10T18:38:00.000000000",
          "2025-06-10T18:39:00.000000000",
          "2025-06-10T18:40:00.000000000",
          "2025-06-10T18:41:00.000000000",
          "2025-06-10T18:42:00.000000000",
          "2025-06-10T18:43:00.000000000",
          "2025-06-10T18:44:00.000000000",
          "2025-06-10T18:45:00.000000000",
          "2025-06-10T18:46:00.000000000",
          "2025-06-10T18:47:00.000000000",
          "2025-06-10T18:48:00.000000000",
          "2025-06-10T18:49:00.000000000",
          "2025-06-10T18:50:00.000000000",
          "2025-06-10T18:51:00.000000000",
          "2025-06-10T18:52:00.000000000",
          "2025-06-10T18:53:00.000000000",
          "2025-06-10T18:54:00.000000000",
          "2025-06-10T18:55:00.000000000",
          "2025-06-10T18:56:00.000000000",
          "2025-06-10T18:57:00.000000000",
          "2025-06-10T18:58:00.000000000",
          "2025-06-10T18:59:00.000000000",
          "2025-06-10T19:00:00.000000000",
          "2025-06-10T19:01:00.000000000",
          "2025-06-10T19:02:00.000000000",
          "2025-06-10T19:03:00.000000000",
          "2025-06-10T19:04:00.000000000",
          "2025-06-10T19:05:00.000000000",
          "2025-06-10T19:06:00.000000000",
          "2025-06-10T19:07:00.000000000",
          "2025-06-10T19:08:00.000000000",
          "2025-06-10T19:09:00.000000000",
          "2025-06-10T19:10:00.000000000",
          "2025-06-10T19:11:00.000000000",
          "2025-06-10T19:12:00.000000000",
          "2025-06-10T19:13:00.000000000",
          "2025-06-10T19:14:00.000000000",
          "2025-06-10T19:15:00.000000000",
          "2025-06-10T19:16:00.000000000",
          "2025-06-10T19:17:00.000000000",
          "2025-06-10T19:18:00.000000000",
          "2025-06-10T19:19:00.000000000",
          "2025-06-10T19:20:00.000000000",
          "2025-06-10T19:21:00.000000000",
          "2025-06-10T19:22:00.000000000",
          "2025-06-10T19:23:00.000000000",
          "2025-06-10T19:24:00.000000000",
          "2025-06-10T19:25:00.000000000",
          "2025-06-10T19:26:00.000000000",
          "2025-06-10T19:27:00.000000000",
          "2025-06-10T19:28:00.000000000",
          "2025-06-10T19:29:00.000000000",
          "2025-06-10T19:30:00.000000000",
          "2025-06-10T19:31:00.000000000",
          "2025-06-10T19:32:00.000000000",
          "2025-06-10T19:33:00.000000000",
          "2025-06-10T19:34:00.000000000",
          "2025-06-10T19:35:00.000000000",
          "2025-06-10T19:36:00.000000000",
          "2025-06-10T19:37:00.000000000",
          "2025-06-10T19:38:00.000000000",
          "2025-06-10T19:39:00.000000000",
          "2025-06-10T19:40:00.000000000",
          "2025-06-10T19:41:00.000000000",
          "2025-06-10T19:42:00.000000000",
          "2025-06-10T19:43:00.000000000",
          "2025-06-10T19:44:00.000000000",
          "2025-06-10T19:45:00.000000000",
          "2025-06-10T19:46:00.000000000",
          "2025-06-10T19:47:00.000000000",
          "2025-06-10T19:48:00.000000000",
          "2025-06-10T19:49:00.000000000",
          "2025-06-10T19:50:00.000000000",
          "2025-06-10T19:51:00.000000000",
          "2025-06-10T19:52:00.000000000",
          "2025-06-10T19:53:00.000000000",
          "2025-06-10T19:54:00.000000000",
          "2025-06-10T19:55:00.000000000",
          "2025-06-10T19:56:00.000000000",
          "2025-06-10T19:57:00.000000000",
          "2025-06-10T19:58:00.000000000",
          "2025-06-10T19:59:00.000000000",
          "2025-06-10T20:00:00.000000000",
          "2025-06-10T20:01:00.000000000",
          "2025-06-10T20:02:00.000000000",
          "2025-06-10T20:03:00.000000000",
          "2025-06-10T20:04:00.000000000",
          "2025-06-10T20:05:00.000000000",
          "2025-06-10T20:06:00.000000000",
          "2025-06-10T20:07:00.000000000",
          "2025-06-10T20:08:00.000000000",
          "2025-06-10T20:09:00.000000000",
          "2025-06-10T20:10:00.000000000",
          "2025-06-10T20:11:00.000000000",
          "2025-06-10T20:12:00.000000000",
          "2025-06-10T20:13:00.000000000",
          "2025-06-10T20:14:00.000000000",
          "2025-06-10T20:15:00.000000000",
          "2025-06-10T20:16:00.000000000",
          "2025-06-10T20:17:00.000000000",
          "2025-06-10T20:18:00.000000000",
          "2025-06-10T20:19:00.000000000",
          "2025-06-10T20:20:00.000000000",
          "2025-06-10T20:21:00.000000000",
          "2025-06-10T20:22:00.000000000",
          "2025-06-10T20:23:00.000000000",
          "2025-06-10T20:24:00.000000000",
          "2025-06-10T20:25:00.000000000",
          "2025-06-10T20:26:00.000000000",
          "2025-06-10T20:27:00.000000000",
          "2025-06-10T20:28:00.000000000",
          "2025-06-10T20:29:00.000000000",
          "2025-06-10T20:30:00.000000000",
          "2025-06-10T20:31:00.000000000",
          "2025-06-10T20:32:00.000000000",
          "2025-06-10T20:33:00.000000000",
          "2025-06-10T20:34:00.000000000",
          "2025-06-10T20:35:00.000000000",
          "2025-06-10T20:36:00.000000000",
          "2025-06-10T20:37:00.000000000",
          "2025-06-10T20:38:00.000000000",
          "2025-06-10T20:39:00.000000000",
          "2025-06-10T20:40:00.000000000",
          "2025-06-10T20:41:00.000000000",
          "2025-06-10T20:42:00.000000000",
          "2025-06-10T20:43:00.000000000",
          "2025-06-10T20:44:00.000000000",
          "2025-06-10T20:45:00.000000000",
          "2025-06-10T20:46:00.000000000",
          "2025-06-10T20:47:00.000000000",
          "2025-06-10T20:48:00.000000000",
          "2025-06-10T20:49:00.000000000",
          "2025-06-10T20:50:00.000000000",
          "2025-06-10T20:51:00.000000000",
          "2025-06-10T20:52:00.000000000",
          "2025-06-10T20:53:00.000000000",
          "2025-06-10T20:54:00.000000000",
          "2025-06-10T20:55:00.000000000",
          "2025-06-10T20:56:00.000000000",
          "2025-06-10T20:57:00.000000000",
          "2025-06-10T20:58:00.000000000",
          "2025-06-10T20:59:00.000000000",
          "2025-06-10T21:00:00.000000000"
         ],
         "y": {
          "bdata": "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",
          "dtype": "f8"
         }
        },
        {
         "hovertemplate": "Date: %{x}<br>Signal: %{y:.2f}<extra></extra>",
         "line": {
          "color": "blue",
          "dash": "dot",
          "width": 2
         },
         "mode": "lines",
         "name": "pred_signal",
         "type": "scatter",
         "visible": true,
         "x": [
          "2025-06-10T14:30:00.000000000",
          "2025-06-10T14:31:00.000000000",
          "2025-06-10T14:32:00.000000000",
          "2025-06-10T14:33:00.000000000",
          "2025-06-10T14:34:00.000000000",
          "2025-06-10T14:35:00.000000000",
          "2025-06-10T14:36:00.000000000",
          "2025-06-10T14:37:00.000000000",
          "2025-06-10T14:38:00.000000000",
          "2025-06-10T14:39:00.000000000",
          "2025-06-10T14:40:00.000000000",
          "2025-06-10T14:41:00.000000000",
          "2025-06-10T14:42:00.000000000",
          "2025-06-10T14:43:00.000000000",
          "2025-06-10T14:44:00.000000000",
          "2025-06-10T14:45:00.000000000",
          "2025-06-10T14:46:00.000000000",
          "2025-06-10T14:47:00.000000000",
          "2025-06-10T14:48:00.000000000",
          "2025-06-10T14:49:00.000000000",
          "2025-06-10T14:50:00.000000000",
          "2025-06-10T14:51:00.000000000",
          "2025-06-10T14:52:00.000000000",
          "2025-06-10T14:53:00.000000000",
          "2025-06-10T14:54:00.000000000",
          "2025-06-10T14:55:00.000000000",
          "2025-06-10T14:56:00.000000000",
          "2025-06-10T14:57:00.000000000",
          "2025-06-10T14:58:00.000000000",
          "2025-06-10T14:59:00.000000000",
          "2025-06-10T15:00:00.000000000",
          "2025-06-10T15:01:00.000000000",
          "2025-06-10T15:02:00.000000000",
          "2025-06-10T15:03:00.000000000",
          "2025-06-10T15:04:00.000000000",
          "2025-06-10T15:05:00.000000000",
          "2025-06-10T15:06:00.000000000",
          "2025-06-10T15:07:00.000000000",
          "2025-06-10T15:08:00.000000000",
          "2025-06-10T15:09:00.000000000",
          "2025-06-10T15:10:00.000000000",
          "2025-06-10T15:11:00.000000000",
          "2025-06-10T15:12:00.000000000",
          "2025-06-10T15:13:00.000000000",
          "2025-06-10T15:14:00.000000000",
          "2025-06-10T15:15:00.000000000",
          "2025-06-10T15:16:00.000000000",
          "2025-06-10T15:17:00.000000000",
          "2025-06-10T15:18:00.000000000",
          "2025-06-10T15:19:00.000000000",
          "2025-06-10T15:20:00.000000000",
          "2025-06-10T15:21:00.000000000",
          "2025-06-10T15:22:00.000000000",
          "2025-06-10T15:23:00.000000000",
          "2025-06-10T15:24:00.000000000",
          "2025-06-10T15:25:00.000000000",
          "2025-06-10T15:26:00.000000000",
          "2025-06-10T15:27:00.000000000",
          "2025-06-10T15:28:00.000000000",
          "2025-06-10T15:29:00.000000000",
          "2025-06-10T15:30:00.000000000",
          "2025-06-10T15:31:00.000000000",
          "2025-06-10T15:32:00.000000000",
          "2025-06-10T15:33:00.000000000",
          "2025-06-10T15:34:00.000000000",
          "2025-06-10T15:35:00.000000000",
          "2025-06-10T15:36:00.000000000",
          "2025-06-10T15:37:00.000000000",
          "2025-06-10T15:38:00.000000000",
          "2025-06-10T15:39:00.000000000",
          "2025-06-10T15:40:00.000000000",
          "2025-06-10T15:41:00.000000000",
          "2025-06-10T15:42:00.000000000",
          "2025-06-10T15:43:00.000000000",
          "2025-06-10T15:44:00.000000000",
          "2025-06-10T15:45:00.000000000",
          "2025-06-10T15:46:00.000000000",
          "2025-06-10T15:47:00.000000000",
          "2025-06-10T15:48:00.000000000",
          "2025-06-10T15:49:00.000000000",
          "2025-06-10T15:50:00.000000000",
          "2025-06-10T15:51:00.000000000",
          "2025-06-10T15:52:00.000000000",
          "2025-06-10T15:53:00.000000000",
          "2025-06-10T15:54:00.000000000",
          "2025-06-10T15:55:00.000000000",
          "2025-06-10T15:56:00.000000000",
          "2025-06-10T15:57:00.000000000",
          "2025-06-10T15:58:00.000000000",
          "2025-06-10T15:59:00.000000000",
          "2025-06-10T16:00:00.000000000",
          "2025-06-10T16:01:00.000000000",
          "2025-06-10T16:02:00.000000000",
          "2025-06-10T16:03:00.000000000",
          "2025-06-10T16:04:00.000000000",
          "2025-06-10T16:05:00.000000000",
          "2025-06-10T16:06:00.000000000",
          "2025-06-10T16:07:00.000000000",
          "2025-06-10T16:08:00.000000000",
          "2025-06-10T16:09:00.000000000",
          "2025-06-10T16:10:00.000000000",
          "2025-06-10T16:11:00.000000000",
          "2025-06-10T16:12:00.000000000",
          "2025-06-10T16:13:00.000000000",
          "2025-06-10T16:14:00.000000000",
          "2025-06-10T16:15:00.000000000",
          "2025-06-10T16:16:00.000000000",
          "2025-06-10T16:17:00.000000000",
          "2025-06-10T16:18:00.000000000",
          "2025-06-10T16:19:00.000000000",
          "2025-06-10T16:20:00.000000000",
          "2025-06-10T16:21:00.000000000",
          "2025-06-10T16:22:00.000000000",
          "2025-06-10T16:23:00.000000000",
          "2025-06-10T16:24:00.000000000",
          "2025-06-10T16:25:00.000000000",
          "2025-06-10T16:26:00.000000000",
          "2025-06-10T16:27:00.000000000",
          "2025-06-10T16:28:00.000000000",
          "2025-06-10T16:29:00.000000000",
          "2025-06-10T16:30:00.000000000",
          "2025-06-10T16:31:00.000000000",
          "2025-06-10T16:32:00.000000000",
          "2025-06-10T16:33:00.000000000",
          "2025-06-10T16:34:00.000000000",
          "2025-06-10T16:35:00.000000000",
          "2025-06-10T16:36:00.000000000",
          "2025-06-10T16:37:00.000000000",
          "2025-06-10T16:38:00.000000000",
          "2025-06-10T16:39:00.000000000",
          "2025-06-10T16:40:00.000000000",
          "2025-06-10T16:41:00.000000000",
          "2025-06-10T16:42:00.000000000",
          "2025-06-10T16:43:00.000000000",
          "2025-06-10T16:44:00.000000000",
          "2025-06-10T16:45:00.000000000",
          "2025-06-10T16:46:00.000000000",
          "2025-06-10T16:47:00.000000000",
          "2025-06-10T16:48:00.000000000",
          "2025-06-10T16:49:00.000000000",
          "2025-06-10T16:50:00.000000000",
          "2025-06-10T16:51:00.000000000",
          "2025-06-10T16:52:00.000000000",
          "2025-06-10T16:53:00.000000000",
          "2025-06-10T16:54:00.000000000",
          "2025-06-10T16:55:00.000000000",
          "2025-06-10T16:56:00.000000000",
          "2025-06-10T16:57:00.000000000",
          "2025-06-10T16:58:00.000000000",
          "2025-06-10T16:59:00.000000000",
          "2025-06-10T17:00:00.000000000",
          "2025-06-10T17:01:00.000000000",
          "2025-06-10T17:02:00.000000000",
          "2025-06-10T17:03:00.000000000",
          "2025-06-10T17:04:00.000000000",
          "2025-06-10T17:05:00.000000000",
          "2025-06-10T17:06:00.000000000",
          "2025-06-10T17:07:00.000000000",
          "2025-06-10T17:08:00.000000000",
          "2025-06-10T17:09:00.000000000",
          "2025-06-10T17:10:00.000000000",
          "2025-06-10T17:11:00.000000000",
          "2025-06-10T17:12:00.000000000",
          "2025-06-10T17:13:00.000000000",
          "2025-06-10T17:14:00.000000000",
          "2025-06-10T17:15:00.000000000",
          "2025-06-10T17:16:00.000000000",
          "2025-06-10T17:17:00.000000000",
          "2025-06-10T17:18:00.000000000",
          "2025-06-10T17:19:00.000000000",
          "2025-06-10T17:20:00.000000000",
          "2025-06-10T17:21:00.000000000",
          "2025-06-10T17:22:00.000000000",
          "2025-06-10T17:23:00.000000000",
          "2025-06-10T17:24:00.000000000",
          "2025-06-10T17:25:00.000000000",
          "2025-06-10T17:26:00.000000000",
          "2025-06-10T17:27:00.000000000",
          "2025-06-10T17:28:00.000000000",
          "2025-06-10T17:29:00.000000000",
          "2025-06-10T17:30:00.000000000",
          "2025-06-10T17:31:00.000000000",
          "2025-06-10T17:32:00.000000000",
          "2025-06-10T17:33:00.000000000",
          "2025-06-10T17:34:00.000000000",
          "2025-06-10T17:35:00.000000000",
          "2025-06-10T17:36:00.000000000",
          "2025-06-10T17:37:00.000000000",
          "2025-06-10T17:38:00.000000000",
          "2025-06-10T17:39:00.000000000",
          "2025-06-10T17:40:00.000000000",
          "2025-06-10T17:41:00.000000000",
          "2025-06-10T17:42:00.000000000",
          "2025-06-10T17:43:00.000000000",
          "2025-06-10T17:44:00.000000000",
          "2025-06-10T17:45:00.000000000",
          "2025-06-10T17:46:00.000000000",
          "2025-06-10T17:47:00.000000000",
          "2025-06-10T17:48:00.000000000",
          "2025-06-10T17:49:00.000000000",
          "2025-06-10T17:50:00.000000000",
          "2025-06-10T17:51:00.000000000",
          "2025-06-10T17:52:00.000000000",
          "2025-06-10T17:53:00.000000000",
          "2025-06-10T17:54:00.000000000",
          "2025-06-10T17:55:00.000000000",
          "2025-06-10T17:56:00.000000000",
          "2025-06-10T17:57:00.000000000",
          "2025-06-10T17:58:00.000000000",
          "2025-06-10T17:59:00.000000000",
          "2025-06-10T18:00:00.000000000",
          "2025-06-10T18:01:00.000000000",
          "2025-06-10T18:02:00.000000000",
          "2025-06-10T18:03:00.000000000",
          "2025-06-10T18:04:00.000000000",
          "2025-06-10T18:05:00.000000000",
          "2025-06-10T18:06:00.000000000",
          "2025-06-10T18:07:00.000000000",
          "2025-06-10T18:08:00.000000000",
          "2025-06-10T18:09:00.000000000",
          "2025-06-10T18:10:00.000000000",
          "2025-06-10T18:11:00.000000000",
          "2025-06-10T18:12:00.000000000",
          "2025-06-10T18:13:00.000000000",
          "2025-06-10T18:14:00.000000000",
          "2025-06-10T18:15:00.000000000",
          "2025-06-10T18:16:00.000000000",
          "2025-06-10T18:17:00.000000000",
          "2025-06-10T18:18:00.000000000",
          "2025-06-10T18:19:00.000000000",
          "2025-06-10T18:20:00.000000000",
          "2025-06-10T18:21:00.000000000",
          "2025-06-10T18:22:00.000000000",
          "2025-06-10T18:23:00.000000000",
          "2025-06-10T18:24:00.000000000",
          "2025-06-10T18:25:00.000000000",
          "2025-06-10T18:26:00.000000000",
          "2025-06-10T18:27:00.000000000",
          "2025-06-10T18:28:00.000000000",
          "2025-06-10T18:29:00.000000000",
          "2025-06-10T18:30:00.000000000",
          "2025-06-10T18:31:00.000000000",
          "2025-06-10T18:32:00.000000000",
          "2025-06-10T18:33:00.000000000",
          "2025-06-10T18:34:00.000000000",
          "2025-06-10T18:35:00.000000000",
          "2025-06-10T18:36:00.000000000",
          "2025-06-10T18:37:00.000000000",
          "2025-06-10T18:38:00.000000000",
          "2025-06-10T18:39:00.000000000",
          "2025-06-10T18:40:00.000000000",
          "2025-06-10T18:41:00.000000000",
          "2025-06-10T18:42:00.000000000",
          "2025-06-10T18:43:00.000000000",
          "2025-06-10T18:44:00.000000000",
          "2025-06-10T18:45:00.000000000",
          "2025-06-10T18:46:00.000000000",
          "2025-06-10T18:47:00.000000000",
          "2025-06-10T18:48:00.000000000",
          "2025-06-10T18:49:00.000000000",
          "2025-06-10T18:50:00.000000000",
          "2025-06-10T18:51:00.000000000",
          "2025-06-10T18:52:00.000000000",
          "2025-06-10T18:53:00.000000000",
          "2025-06-10T18:54:00.000000000",
          "2025-06-10T18:55:00.000000000",
          "2025-06-10T18:56:00.000000000",
          "2025-06-10T18:57:00.000000000",
          "2025-06-10T18:58:00.000000000",
          "2025-06-10T18:59:00.000000000",
          "2025-06-10T19:00:00.000000000",
          "2025-06-10T19:01:00.000000000",
          "2025-06-10T19:02:00.000000000",
          "2025-06-10T19:03:00.000000000",
          "2025-06-10T19:04:00.000000000",
          "2025-06-10T19:05:00.000000000",
          "2025-06-10T19:06:00.000000000",
          "2025-06-10T19:07:00.000000000",
          "2025-06-10T19:08:00.000000000",
          "2025-06-10T19:09:00.000000000",
          "2025-06-10T19:10:00.000000000",
          "2025-06-10T19:11:00.000000000",
          "2025-06-10T19:12:00.000000000",
          "2025-06-10T19:13:00.000000000",
          "2025-06-10T19:14:00.000000000",
          "2025-06-10T19:15:00.000000000",
          "2025-06-10T19:16:00.000000000",
          "2025-06-10T19:17:00.000000000",
          "2025-06-10T19:18:00.000000000",
          "2025-06-10T19:19:00.000000000",
          "2025-06-10T19:20:00.000000000",
          "2025-06-10T19:21:00.000000000",
          "2025-06-10T19:22:00.000000000",
          "2025-06-10T19:23:00.000000000",
          "2025-06-10T19:24:00.000000000",
          "2025-06-10T19:25:00.000000000",
          "2025-06-10T19:26:00.000000000",
          "2025-06-10T19:27:00.000000000",
          "2025-06-10T19:28:00.000000000",
          "2025-06-10T19:29:00.000000000",
          "2025-06-10T19:30:00.000000000",
          "2025-06-10T19:31:00.000000000",
          "2025-06-10T19:32:00.000000000",
          "2025-06-10T19:33:00.000000000",
          "2025-06-10T19:34:00.000000000",
          "2025-06-10T19:35:00.000000000",
          "2025-06-10T19:36:00.000000000",
          "2025-06-10T19:37:00.000000000",
          "2025-06-10T19:38:00.000000000",
          "2025-06-10T19:39:00.000000000",
          "2025-06-10T19:40:00.000000000",
          "2025-06-10T19:41:00.000000000",
          "2025-06-10T19:42:00.000000000",
          "2025-06-10T19:43:00.000000000",
          "2025-06-10T19:44:00.000000000",
          "2025-06-10T19:45:00.000000000",
          "2025-06-10T19:46:00.000000000",
          "2025-06-10T19:47:00.000000000",
          "2025-06-10T19:48:00.000000000",
          "2025-06-10T19:49:00.000000000",
          "2025-06-10T19:50:00.000000000",
          "2025-06-10T19:51:00.000000000",
          "2025-06-10T19:52:00.000000000",
          "2025-06-10T19:53:00.000000000",
          "2025-06-10T19:54:00.000000000",
          "2025-06-10T19:55:00.000000000",
          "2025-06-10T19:56:00.000000000",
          "2025-06-10T19:57:00.000000000",
          "2025-06-10T19:58:00.000000000",
          "2025-06-10T19:59:00.000000000",
          "2025-06-10T20:00:00.000000000",
          "2025-06-10T20:01:00.000000000",
          "2025-06-10T20:02:00.000000000",
          "2025-06-10T20:03:00.000000000",
          "2025-06-10T20:04:00.000000000",
          "2025-06-10T20:05:00.000000000",
          "2025-06-10T20:06:00.000000000",
          "2025-06-10T20:07:00.000000000",
          "2025-06-10T20:08:00.000000000",
          "2025-06-10T20:09:00.000000000",
          "2025-06-10T20:10:00.000000000",
          "2025-06-10T20:11:00.000000000",
          "2025-06-10T20:12:00.000000000",
          "2025-06-10T20:13:00.000000000",
          "2025-06-10T20:14:00.000000000",
          "2025-06-10T20:15:00.000000000",
          "2025-06-10T20:16:00.000000000",
          "2025-06-10T20:17:00.000000000",
          "2025-06-10T20:18:00.000000000",
          "2025-06-10T20:19:00.000000000",
          "2025-06-10T20:20:00.000000000",
          "2025-06-10T20:21:00.000000000",
          "2025-06-10T20:22:00.000000000",
          "2025-06-10T20:23:00.000000000",
          "2025-06-10T20:24:00.000000000",
          "2025-06-10T20:25:00.000000000",
          "2025-06-10T20:26:00.000000000",
          "2025-06-10T20:27:00.000000000",
          "2025-06-10T20:28:00.000000000",
          "2025-06-10T20:29:00.000000000",
          "2025-06-10T20:30:00.000000000",
          "2025-06-10T20:31:00.000000000",
          "2025-06-10T20:32:00.000000000",
          "2025-06-10T20:33:00.000000000",
          "2025-06-10T20:34:00.000000000",
          "2025-06-10T20:35:00.000000000",
          "2025-06-10T20:36:00.000000000",
          "2025-06-10T20:37:00.000000000",
          "2025-06-10T20:38:00.000000000",
          "2025-06-10T20:39:00.000000000",
          "2025-06-10T20:40:00.000000000",
          "2025-06-10T20:41:00.000000000",
          "2025-06-10T20:42:00.000000000",
          "2025-06-10T20:43:00.000000000",
          "2025-06-10T20:44:00.000000000",
          "2025-06-10T20:45:00.000000000",
          "2025-06-10T20:46:00.000000000",
          "2025-06-10T20:47:00.000000000",
          "2025-06-10T20:48:00.000000000",
          "2025-06-10T20:49:00.000000000",
          "2025-06-10T20:50:00.000000000",
          "2025-06-10T20:51:00.000000000",
          "2025-06-10T20:52:00.000000000",
          "2025-06-10T20:53:00.000000000",
          "2025-06-10T20:54:00.000000000",
          "2025-06-10T20:55:00.000000000",
          "2025-06-10T20:56:00.000000000",
          "2025-06-10T20:57:00.000000000",
          "2025-06-10T20:58:00.000000000",
          "2025-06-10T20:59:00.000000000",
          "2025-06-10T21:00:00.000000000"
         ],
         "y": {
          "bdata": "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",
          "dtype": "f4"
         },
         "yaxis": "y2"
        },
        {
         "hovertemplate": "Date: %{x}<br>Smooth Signal: %{y:.2f}<extra></extra>",
         "line": {
          "color": "red",
          "dash": "dash",
          "width": 2
         },
         "mode": "lines",
         "name": "signal_smooth",
         "type": "scatter",
         "visible": true,
         "x": [
          "2025-06-10T14:30:00.000000000",
          "2025-06-10T14:31:00.000000000",
          "2025-06-10T14:32:00.000000000",
          "2025-06-10T14:33:00.000000000",
          "2025-06-10T14:34:00.000000000",
          "2025-06-10T14:35:00.000000000",
          "2025-06-10T14:36:00.000000000",
          "2025-06-10T14:37:00.000000000",
          "2025-06-10T14:38:00.000000000",
          "2025-06-10T14:39:00.000000000",
          "2025-06-10T14:40:00.000000000",
          "2025-06-10T14:41:00.000000000",
          "2025-06-10T14:42:00.000000000",
          "2025-06-10T14:43:00.000000000",
          "2025-06-10T14:44:00.000000000",
          "2025-06-10T14:45:00.000000000",
          "2025-06-10T14:46:00.000000000",
          "2025-06-10T14:47:00.000000000",
          "2025-06-10T14:48:00.000000000",
          "2025-06-10T14:49:00.000000000",
          "2025-06-10T14:50:00.000000000",
          "2025-06-10T14:51:00.000000000",
          "2025-06-10T14:52:00.000000000",
          "2025-06-10T14:53:00.000000000",
          "2025-06-10T14:54:00.000000000",
          "2025-06-10T14:55:00.000000000",
          "2025-06-10T14:56:00.000000000",
          "2025-06-10T14:57:00.000000000",
          "2025-06-10T14:58:00.000000000",
          "2025-06-10T14:59:00.000000000",
          "2025-06-10T15:00:00.000000000",
          "2025-06-10T15:01:00.000000000",
          "2025-06-10T15:02:00.000000000",
          "2025-06-10T15:03:00.000000000",
          "2025-06-10T15:04:00.000000000",
          "2025-06-10T15:05:00.000000000",
          "2025-06-10T15:06:00.000000000",
          "2025-06-10T15:07:00.000000000",
          "2025-06-10T15:08:00.000000000",
          "2025-06-10T15:09:00.000000000",
          "2025-06-10T15:10:00.000000000",
          "2025-06-10T15:11:00.000000000",
          "2025-06-10T15:12:00.000000000",
          "2025-06-10T15:13:00.000000000",
          "2025-06-10T15:14:00.000000000",
          "2025-06-10T15:15:00.000000000",
          "2025-06-10T15:16:00.000000000",
          "2025-06-10T15:17:00.000000000",
          "2025-06-10T15:18:00.000000000",
          "2025-06-10T15:19:00.000000000",
          "2025-06-10T15:20:00.000000000",
          "2025-06-10T15:21:00.000000000",
          "2025-06-10T15:22:00.000000000",
          "2025-06-10T15:23:00.000000000",
          "2025-06-10T15:24:00.000000000",
          "2025-06-10T15:25:00.000000000",
          "2025-06-10T15:26:00.000000000",
          "2025-06-10T15:27:00.000000000",
          "2025-06-10T15:28:00.000000000",
          "2025-06-10T15:29:00.000000000",
          "2025-06-10T15:30:00.000000000",
          "2025-06-10T15:31:00.000000000",
          "2025-06-10T15:32:00.000000000",
          "2025-06-10T15:33:00.000000000",
          "2025-06-10T15:34:00.000000000",
          "2025-06-10T15:35:00.000000000",
          "2025-06-10T15:36:00.000000000",
          "2025-06-10T15:37:00.000000000",
          "2025-06-10T15:38:00.000000000",
          "2025-06-10T15:39:00.000000000",
          "2025-06-10T15:40:00.000000000",
          "2025-06-10T15:41:00.000000000",
          "2025-06-10T15:42:00.000000000",
          "2025-06-10T15:43:00.000000000",
          "2025-06-10T15:44:00.000000000",
          "2025-06-10T15:45:00.000000000",
          "2025-06-10T15:46:00.000000000",
          "2025-06-10T15:47:00.000000000",
          "2025-06-10T15:48:00.000000000",
          "2025-06-10T15:49:00.000000000",
          "2025-06-10T15:50:00.000000000",
          "2025-06-10T15:51:00.000000000",
          "2025-06-10T15:52:00.000000000",
          "2025-06-10T15:53:00.000000000",
          "2025-06-10T15:54:00.000000000",
          "2025-06-10T15:55:00.000000000",
          "2025-06-10T15:56:00.000000000",
          "2025-06-10T15:57:00.000000000",
          "2025-06-10T15:58:00.000000000",
          "2025-06-10T15:59:00.000000000",
          "2025-06-10T16:00:00.000000000",
          "2025-06-10T16:01:00.000000000",
          "2025-06-10T16:02:00.000000000",
          "2025-06-10T16:03:00.000000000",
          "2025-06-10T16:04:00.000000000",
          "2025-06-10T16:05:00.000000000",
          "2025-06-10T16:06:00.000000000",
          "2025-06-10T16:07:00.000000000",
          "2025-06-10T16:08:00.000000000",
          "2025-06-10T16:09:00.000000000",
          "2025-06-10T16:10:00.000000000",
          "2025-06-10T16:11:00.000000000",
          "2025-06-10T16:12:00.000000000",
          "2025-06-10T16:13:00.000000000",
          "2025-06-10T16:14:00.000000000",
          "2025-06-10T16:15:00.000000000",
          "2025-06-10T16:16:00.000000000",
          "2025-06-10T16:17:00.000000000",
          "2025-06-10T16:18:00.000000000",
          "2025-06-10T16:19:00.000000000",
          "2025-06-10T16:20:00.000000000",
          "2025-06-10T16:21:00.000000000",
          "2025-06-10T16:22:00.000000000",
          "2025-06-10T16:23:00.000000000",
          "2025-06-10T16:24:00.000000000",
          "2025-06-10T16:25:00.000000000",
          "2025-06-10T16:26:00.000000000",
          "2025-06-10T16:27:00.000000000",
          "2025-06-10T16:28:00.000000000",
          "2025-06-10T16:29:00.000000000",
          "2025-06-10T16:30:00.000000000",
          "2025-06-10T16:31:00.000000000",
          "2025-06-10T16:32:00.000000000",
          "2025-06-10T16:33:00.000000000",
          "2025-06-10T16:34:00.000000000",
          "2025-06-10T16:35:00.000000000",
          "2025-06-10T16:36:00.000000000",
          "2025-06-10T16:37:00.000000000",
          "2025-06-10T16:38:00.000000000",
          "2025-06-10T16:39:00.000000000",
          "2025-06-10T16:40:00.000000000",
          "2025-06-10T16:41:00.000000000",
          "2025-06-10T16:42:00.000000000",
          "2025-06-10T16:43:00.000000000",
          "2025-06-10T16:44:00.000000000",
          "2025-06-10T16:45:00.000000000",
          "2025-06-10T16:46:00.000000000",
          "2025-06-10T16:47:00.000000000",
          "2025-06-10T16:48:00.000000000",
          "2025-06-10T16:49:00.000000000",
          "2025-06-10T16:50:00.000000000",
          "2025-06-10T16:51:00.000000000",
          "2025-06-10T16:52:00.000000000",
          "2025-06-10T16:53:00.000000000",
          "2025-06-10T16:54:00.000000000",
          "2025-06-10T16:55:00.000000000",
          "2025-06-10T16:56:00.000000000",
          "2025-06-10T16:57:00.000000000",
          "2025-06-10T16:58:00.000000000",
          "2025-06-10T16:59:00.000000000",
          "2025-06-10T17:00:00.000000000",
          "2025-06-10T17:01:00.000000000",
          "2025-06-10T17:02:00.000000000",
          "2025-06-10T17:03:00.000000000",
          "2025-06-10T17:04:00.000000000",
          "2025-06-10T17:05:00.000000000",
          "2025-06-10T17:06:00.000000000",
          "2025-06-10T17:07:00.000000000",
          "2025-06-10T17:08:00.000000000",
          "2025-06-10T17:09:00.000000000",
          "2025-06-10T17:10:00.000000000",
          "2025-06-10T17:11:00.000000000",
          "2025-06-10T17:12:00.000000000",
          "2025-06-10T17:13:00.000000000",
          "2025-06-10T17:14:00.000000000",
          "2025-06-10T17:15:00.000000000",
          "2025-06-10T17:16:00.000000000",
          "2025-06-10T17:17:00.000000000",
          "2025-06-10T17:18:00.000000000",
          "2025-06-10T17:19:00.000000000",
          "2025-06-10T17:20:00.000000000",
          "2025-06-10T17:21:00.000000000",
          "2025-06-10T17:22:00.000000000",
          "2025-06-10T17:23:00.000000000",
          "2025-06-10T17:24:00.000000000",
          "2025-06-10T17:25:00.000000000",
          "2025-06-10T17:26:00.000000000",
          "2025-06-10T17:27:00.000000000",
          "2025-06-10T17:28:00.000000000",
          "2025-06-10T17:29:00.000000000",
          "2025-06-10T17:30:00.000000000",
          "2025-06-10T17:31:00.000000000",
          "2025-06-10T17:32:00.000000000",
          "2025-06-10T17:33:00.000000000",
          "2025-06-10T17:34:00.000000000",
          "2025-06-10T17:35:00.000000000",
          "2025-06-10T17:36:00.000000000",
          "2025-06-10T17:37:00.000000000",
          "2025-06-10T17:38:00.000000000",
          "2025-06-10T17:39:00.000000000",
          "2025-06-10T17:40:00.000000000",
          "2025-06-10T17:41:00.000000000",
          "2025-06-10T17:42:00.000000000",
          "2025-06-10T17:43:00.000000000",
          "2025-06-10T17:44:00.000000000",
          "2025-06-10T17:45:00.000000000",
          "2025-06-10T17:46:00.000000000",
          "2025-06-10T17:47:00.000000000",
          "2025-06-10T17:48:00.000000000",
          "2025-06-10T17:49:00.000000000",
          "2025-06-10T17:50:00.000000000",
          "2025-06-10T17:51:00.000000000",
          "2025-06-10T17:52:00.000000000",
          "2025-06-10T17:53:00.000000000",
          "2025-06-10T17:54:00.000000000",
          "2025-06-10T17:55:00.000000000",
          "2025-06-10T17:56:00.000000000",
          "2025-06-10T17:57:00.000000000",
          "2025-06-10T17:58:00.000000000",
          "2025-06-10T17:59:00.000000000",
          "2025-06-10T18:00:00.000000000",
          "2025-06-10T18:01:00.000000000",
          "2025-06-10T18:02:00.000000000",
          "2025-06-10T18:03:00.000000000",
          "2025-06-10T18:04:00.000000000",
          "2025-06-10T18:05:00.000000000",
          "2025-06-10T18:06:00.000000000",
          "2025-06-10T18:07:00.000000000",
          "2025-06-10T18:08:00.000000000",
          "2025-06-10T18:09:00.000000000",
          "2025-06-10T18:10:00.000000000",
          "2025-06-10T18:11:00.000000000",
          "2025-06-10T18:12:00.000000000",
          "2025-06-10T18:13:00.000000000",
          "2025-06-10T18:14:00.000000000",
          "2025-06-10T18:15:00.000000000",
          "2025-06-10T18:16:00.000000000",
          "2025-06-10T18:17:00.000000000",
          "2025-06-10T18:18:00.000000000",
          "2025-06-10T18:19:00.000000000",
          "2025-06-10T18:20:00.000000000",
          "2025-06-10T18:21:00.000000000",
          "2025-06-10T18:22:00.000000000",
          "2025-06-10T18:23:00.000000000",
          "2025-06-10T18:24:00.000000000",
          "2025-06-10T18:25:00.000000000",
          "2025-06-10T18:26:00.000000000",
          "2025-06-10T18:27:00.000000000",
          "2025-06-10T18:28:00.000000000",
          "2025-06-10T18:29:00.000000000",
          "2025-06-10T18:30:00.000000000",
          "2025-06-10T18:31:00.000000000",
          "2025-06-10T18:32:00.000000000",
          "2025-06-10T18:33:00.000000000",
          "2025-06-10T18:34:00.000000000",
          "2025-06-10T18:35:00.000000000",
          "2025-06-10T18:36:00.000000000",
          "2025-06-10T18:37:00.000000000",
          "2025-06-10T18:38:00.000000000",
          "2025-06-10T18:39:00.000000000",
          "2025-06-10T18:40:00.000000000",
          "2025-06-10T18:41:00.000000000",
          "2025-06-10T18:42:00.000000000",
          "2025-06-10T18:43:00.000000000",
          "2025-06-10T18:44:00.000000000",
          "2025-06-10T18:45:00.000000000",
          "2025-06-10T18:46:00.000000000",
          "2025-06-10T18:47:00.000000000",
          "2025-06-10T18:48:00.000000000",
          "2025-06-10T18:49:00.000000000",
          "2025-06-10T18:50:00.000000000",
          "2025-06-10T18:51:00.000000000",
          "2025-06-10T18:52:00.000000000",
          "2025-06-10T18:53:00.000000000",
          "2025-06-10T18:54:00.000000000",
          "2025-06-10T18:55:00.000000000",
          "2025-06-10T18:56:00.000000000",
          "2025-06-10T18:57:00.000000000",
          "2025-06-10T18:58:00.000000000",
          "2025-06-10T18:59:00.000000000",
          "2025-06-10T19:00:00.000000000",
          "2025-06-10T19:01:00.000000000",
          "2025-06-10T19:02:00.000000000",
          "2025-06-10T19:03:00.000000000",
          "2025-06-10T19:04:00.000000000",
          "2025-06-10T19:05:00.000000000",
          "2025-06-10T19:06:00.000000000",
          "2025-06-10T19:07:00.000000000",
          "2025-06-10T19:08:00.000000000",
          "2025-06-10T19:09:00.000000000",
          "2025-06-10T19:10:00.000000000",
          "2025-06-10T19:11:00.000000000",
          "2025-06-10T19:12:00.000000000",
          "2025-06-10T19:13:00.000000000",
          "2025-06-10T19:14:00.000000000",
          "2025-06-10T19:15:00.000000000",
          "2025-06-10T19:16:00.000000000",
          "2025-06-10T19:17:00.000000000",
          "2025-06-10T19:18:00.000000000",
          "2025-06-10T19:19:00.000000000",
          "2025-06-10T19:20:00.000000000",
          "2025-06-10T19:21:00.000000000",
          "2025-06-10T19:22:00.000000000",
          "2025-06-10T19:23:00.000000000",
          "2025-06-10T19:24:00.000000000",
          "2025-06-10T19:25:00.000000000",
          "2025-06-10T19:26:00.000000000",
          "2025-06-10T19:27:00.000000000",
          "2025-06-10T19:28:00.000000000",
          "2025-06-10T19:29:00.000000000",
          "2025-06-10T19:30:00.000000000",
          "2025-06-10T19:31:00.000000000",
          "2025-06-10T19:32:00.000000000",
          "2025-06-10T19:33:00.000000000",
          "2025-06-10T19:34:00.000000000",
          "2025-06-10T19:35:00.000000000",
          "2025-06-10T19:36:00.000000000",
          "2025-06-10T19:37:00.000000000",
          "2025-06-10T19:38:00.000000000",
          "2025-06-10T19:39:00.000000000",
          "2025-06-10T19:40:00.000000000",
          "2025-06-10T19:41:00.000000000",
          "2025-06-10T19:42:00.000000000",
          "2025-06-10T19:43:00.000000000",
          "2025-06-10T19:44:00.000000000",
          "2025-06-10T19:45:00.000000000",
          "2025-06-10T19:46:00.000000000",
          "2025-06-10T19:47:00.000000000",
          "2025-06-10T19:48:00.000000000",
          "2025-06-10T19:49:00.000000000",
          "2025-06-10T19:50:00.000000000",
          "2025-06-10T19:51:00.000000000",
          "2025-06-10T19:52:00.000000000",
          "2025-06-10T19:53:00.000000000",
          "2025-06-10T19:54:00.000000000",
          "2025-06-10T19:55:00.000000000",
          "2025-06-10T19:56:00.000000000",
          "2025-06-10T19:57:00.000000000",
          "2025-06-10T19:58:00.000000000",
          "2025-06-10T19:59:00.000000000",
          "2025-06-10T20:00:00.000000000",
          "2025-06-10T20:01:00.000000000",
          "2025-06-10T20:02:00.000000000",
          "2025-06-10T20:03:00.000000000",
          "2025-06-10T20:04:00.000000000",
          "2025-06-10T20:05:00.000000000",
          "2025-06-10T20:06:00.000000000",
          "2025-06-10T20:07:00.000000000",
          "2025-06-10T20:08:00.000000000",
          "2025-06-10T20:09:00.000000000",
          "2025-06-10T20:10:00.000000000",
          "2025-06-10T20:11:00.000000000",
          "2025-06-10T20:12:00.000000000",
          "2025-06-10T20:13:00.000000000",
          "2025-06-10T20:14:00.000000000",
          "2025-06-10T20:15:00.000000000",
          "2025-06-10T20:16:00.000000000",
          "2025-06-10T20:17:00.000000000",
          "2025-06-10T20:18:00.000000000",
          "2025-06-10T20:19:00.000000000",
          "2025-06-10T20:20:00.000000000",
          "2025-06-10T20:21:00.000000000",
          "2025-06-10T20:22:00.000000000",
          "2025-06-10T20:23:00.000000000",
          "2025-06-10T20:24:00.000000000",
          "2025-06-10T20:25:00.000000000",
          "2025-06-10T20:26:00.000000000",
          "2025-06-10T20:27:00.000000000",
          "2025-06-10T20:28:00.000000000",
          "2025-06-10T20:29:00.000000000",
          "2025-06-10T20:30:00.000000000",
          "2025-06-10T20:31:00.000000000",
          "2025-06-10T20:32:00.000000000",
          "2025-06-10T20:33:00.000000000",
          "2025-06-10T20:34:00.000000000",
          "2025-06-10T20:35:00.000000000",
          "2025-06-10T20:36:00.000000000",
          "2025-06-10T20:37:00.000000000",
          "2025-06-10T20:38:00.000000000",
          "2025-06-10T20:39:00.000000000",
          "2025-06-10T20:40:00.000000000",
          "2025-06-10T20:41:00.000000000",
          "2025-06-10T20:42:00.000000000",
          "2025-06-10T20:43:00.000000000",
          "2025-06-10T20:44:00.000000000",
          "2025-06-10T20:45:00.000000000",
          "2025-06-10T20:46:00.000000000",
          "2025-06-10T20:47:00.000000000",
          "2025-06-10T20:48:00.000000000",
          "2025-06-10T20:49:00.000000000",
          "2025-06-10T20:50:00.000000000",
          "2025-06-10T20:51:00.000000000",
          "2025-06-10T20:52:00.000000000",
          "2025-06-10T20:53:00.000000000",
          "2025-06-10T20:54:00.000000000",
          "2025-06-10T20:55:00.000000000",
          "2025-06-10T20:56:00.000000000",
          "2025-06-10T20:57:00.000000000",
          "2025-06-10T20:58:00.000000000",
          "2025-06-10T20:59:00.000000000",
          "2025-06-10T21:00:00.000000000"
         ],
         "y": {
          "bdata": "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",
          "dtype": "f8"
         },
         "yaxis": "y2"
        }
       ],
       "layout": {
        "annotations": [
         {
          "font": {
           "color": "orange"
          },
          "showarrow": false,
          "text": "TA Trade 1<br>$: 2.91<br>%: 1.646",
          "x": "2025-06-10T14:30:00",
          "xanchor": "left",
          "xref": "x",
          "y": 1,
          "yanchor": "top",
          "yref": "y domain"
         },
         {
          "font": {
           "color": "orange"
          },
          "showarrow": false,
          "text": "TA Trade 2<br>$: 0.753<br>%: 0.424",
          "x": "2025-06-10T20:25:00",
          "xanchor": "left",
          "xref": "x",
          "y": 1,
          "yanchor": "top",
          "yref": "y domain"
         },
         {
          "showarrow": false,
          "text": "Buy Threshold",
          "x": 0,
          "xanchor": "left",
          "xref": "x domain",
          "y": 0.3,
          "yanchor": "bottom",
          "yref": "y2"
         }
        ],
        "height": 700,
        "hovermode": "x unified",
        "shapes": [
         {
          "fillcolor": "orange",
          "line": {
           "width": 0
          },
          "opacity": 0.25,
          "type": "rect",
          "x0": "2025-06-10T14:30:00",
          "x1": "2025-06-10T15:17:00",
          "xref": "x",
          "y0": 0,
          "y1": 1,
          "yref": "y domain"
         },
         {
          "fillcolor": "orange",
          "line": {
           "width": 0
          },
          "opacity": 0.25,
          "type": "rect",
          "x0": "2025-06-10T20:25:00",
          "x1": "2025-06-10T20:53:00",
          "xref": "x",
          "y0": 0,
          "y1": 1,
          "yref": "y domain"
         },
         {
          "line": {
           "color": "purple",
           "dash": "dot"
          },
          "type": "line",
          "x0": 0,
          "x1": 1,
          "xref": "x domain",
          "y0": 0.3,
          "y1": 0.3,
          "yref": "y2"
         }
        ],
        "template": {
         "data": {
          "bar": [
           {
            "error_x": {
             "color": "#2a3f5f"
            },
            "error_y": {
             "color": "#2a3f5f"
            },
            "marker": {
             "line": {
              "color": "white",
              "width": 0.5
             },
             "pattern": {
              "fillmode": "overlay",
              "size": 10,
              "solidity": 0.2
             }
            },
            "type": "bar"
           }
          ],
          "barpolar": [
           {
            "marker": {
             "line": {
              "color": "white",
              "width": 0.5
             },
             "pattern": {
              "fillmode": "overlay",
              "size": 10,
              "solidity": 0.2
             }
            },
            "type": "barpolar"
           }
          ],
          "carpet": [
           {
            "aaxis": {
             "endlinecolor": "#2a3f5f",
             "gridcolor": "#C8D4E3",
             "linecolor": "#C8D4E3",
             "minorgridcolor": "#C8D4E3",
             "startlinecolor": "#2a3f5f"
            },
            "baxis": {
             "endlinecolor": "#2a3f5f",
             "gridcolor": "#C8D4E3",
             "linecolor": "#C8D4E3",
             "minorgridcolor": "#C8D4E3",
             "startlinecolor": "#2a3f5f"
            },
            "type": "carpet"
           }
          ],
          "choropleth": [
           {
            "colorbar": {
             "outlinewidth": 0,
             "ticks": ""
            },
            "type": "choropleth"
           }
          ],
          "contour": [
           {
            "colorbar": {
             "outlinewidth": 0,
             "ticks": ""
            },
            "colorscale": [
             [
              0,
              "#0d0887"
             ],
             [
              0.1111111111111111,
              "#46039f"
             ],
             [
              0.2222222222222222,
              "#7201a8"
             ],
             [
              0.3333333333333333,
              "#9c179e"
             ],
             [
              0.4444444444444444,
              "#bd3786"
             ],
             [
              0.5555555555555556,
              "#d8576b"
             ],
             [
              0.6666666666666666,
              "#ed7953"
             ],
             [
              0.7777777777777778,
              "#fb9f3a"
             ],
             [
              0.8888888888888888,
              "#fdca26"
             ],
             [
              1,
              "#f0f921"
             ]
            ],
            "type": "contour"
           }
          ],
          "contourcarpet": [
           {
            "colorbar": {
             "outlinewidth": 0,
             "ticks": ""
            },
            "type": "contourcarpet"
           }
          ],
          "heatmap": [
           {
            "colorbar": {
             "outlinewidth": 0,
             "ticks": ""
            },
            "colorscale": [
             [
              0,
              "#0d0887"
             ],
             [
              0.1111111111111111,
              "#46039f"
             ],
             [
              0.2222222222222222,
              "#7201a8"
             ],
             [
              0.3333333333333333,
              "#9c179e"
             ],
             [
              0.4444444444444444,
              "#bd3786"
             ],
             [
              0.5555555555555556,
              "#d8576b"
             ],
             [
              0.6666666666666666,
              "#ed7953"
             ],
             [
              0.7777777777777778,
              "#fb9f3a"
             ],
             [
              0.8888888888888888,
              "#fdca26"
             ],
             [
              1,
              "#f0f921"
             ]
            ],
            "type": "heatmap"
           }
          ],
          "histogram": [
           {
            "marker": {
             "pattern": {
              "fillmode": "overlay",
              "size": 10,
              "solidity": 0.2
             }
            },
            "type": "histogram"
           }
          ],
          "histogram2d": [
           {
            "colorbar": {
             "outlinewidth": 0,
             "ticks": ""
            },
            "colorscale": [
             [
              0,
              "#0d0887"
             ],
             [
              0.1111111111111111,
              "#46039f"
             ],
             [
              0.2222222222222222,
              "#7201a8"
             ],
             [
              0.3333333333333333,
              "#9c179e"
             ],
             [
              0.4444444444444444,
              "#bd3786"
             ],
             [
              0.5555555555555556,
              "#d8576b"
             ],
             [
              0.6666666666666666,
              "#ed7953"
             ],
             [
              0.7777777777777778,
              "#fb9f3a"
             ],
             [
              0.8888888888888888,
              "#fdca26"
             ],
             [
              1,
              "#f0f921"
             ]
            ],
            "type": "histogram2d"
           }
          ],
          "histogram2dcontour": [
           {
            "colorbar": {
             "outlinewidth": 0,
             "ticks": ""
            },
            "colorscale": [
             [
              0,
              "#0d0887"
             ],
             [
              0.1111111111111111,
              "#46039f"
             ],
             [
              0.2222222222222222,
              "#7201a8"
             ],
             [
              0.3333333333333333,
              "#9c179e"
             ],
             [
              0.4444444444444444,
              "#bd3786"
             ],
             [
              0.5555555555555556,
              "#d8576b"
             ],
             [
              0.6666666666666666,
              "#ed7953"
             ],
             [
              0.7777777777777778,
              "#fb9f3a"
             ],
             [
              0.8888888888888888,
              "#fdca26"
             ],
             [
              1,
              "#f0f921"
             ]
            ],
            "type": "histogram2dcontour"
           }
          ],
          "mesh3d": [
           {
            "colorbar": {
             "outlinewidth": 0,
             "ticks": ""
            },
            "type": "mesh3d"
           }
          ],
          "parcoords": [
           {
            "line": {
             "colorbar": {
              "outlinewidth": 0,
              "ticks": ""
             }
            },
            "type": "parcoords"
           }
          ],
          "pie": [
           {
            "automargin": true,
            "type": "pie"
           }
          ],
          "scatter": [
           {
            "fillpattern": {
             "fillmode": "overlay",
             "size": 10,
             "solidity": 0.2
            },
            "type": "scatter"
           }
          ],
          "scatter3d": [
           {
            "line": {
             "colorbar": {
              "outlinewidth": 0,
              "ticks": ""
             }
            },
            "marker": {
             "colorbar": {
              "outlinewidth": 0,
              "ticks": ""
             }
            },
            "type": "scatter3d"
           }
          ],
          "scattercarpet": [
           {
            "marker": {
             "colorbar": {
              "outlinewidth": 0,
              "ticks": ""
             }
            },
            "type": "scattercarpet"
           }
          ],
          "scattergeo": [
           {
            "marker": {
             "colorbar": {
              "outlinewidth": 0,
              "ticks": ""
             }
            },
            "type": "scattergeo"
           }
          ],
          "scattergl": [
           {
            "marker": {
             "colorbar": {
              "outlinewidth": 0,
              "ticks": ""
             }
            },
            "type": "scattergl"
           }
          ],
          "scattermap": [
           {
            "marker": {
             "colorbar": {
              "outlinewidth": 0,
              "ticks": ""
             }
            },
            "type": "scattermap"
           }
          ],
          "scattermapbox": [
           {
            "marker": {
             "colorbar": {
              "outlinewidth": 0,
              "ticks": ""
             }
            },
            "type": "scattermapbox"
           }
          ],
          "scatterpolar": [
           {
            "marker": {
             "colorbar": {
              "outlinewidth": 0,
              "ticks": ""
             }
            },
            "type": "scatterpolar"
           }
          ],
          "scatterpolargl": [
           {
            "marker": {
             "colorbar": {
              "outlinewidth": 0,
              "ticks": ""
             }
            },
            "type": "scatterpolargl"
           }
          ],
          "scatterternary": [
           {
            "marker": {
             "colorbar": {
              "outlinewidth": 0,
              "ticks": ""
             }
            },
            "type": "scatterternary"
           }
          ],
          "surface": [
           {
            "colorbar": {
             "outlinewidth": 0,
             "ticks": ""
            },
            "colorscale": [
             [
              0,
              "#0d0887"
             ],
             [
              0.1111111111111111,
              "#46039f"
             ],
             [
              0.2222222222222222,
              "#7201a8"
             ],
             [
              0.3333333333333333,
              "#9c179e"
             ],
             [
              0.4444444444444444,
              "#bd3786"
             ],
             [
              0.5555555555555556,
              "#d8576b"
             ],
             [
              0.6666666666666666,
              "#ed7953"
             ],
             [
              0.7777777777777778,
              "#fb9f3a"
             ],
             [
              0.8888888888888888,
              "#fdca26"
             ],
             [
              1,
              "#f0f921"
             ]
            ],
            "type": "surface"
           }
          ],
          "table": [
           {
            "cells": {
             "fill": {
              "color": "#EBF0F8"
             },
             "line": {
              "color": "white"
             }
            },
            "header": {
             "fill": {
              "color": "#C8D4E3"
             },
             "line": {
              "color": "white"
             }
            },
            "type": "table"
           }
          ]
         },
         "layout": {
          "annotationdefaults": {
           "arrowcolor": "#2a3f5f",
           "arrowhead": 0,
           "arrowwidth": 1
          },
          "autotypenumbers": "strict",
          "coloraxis": {
           "colorbar": {
            "outlinewidth": 0,
            "ticks": ""
           }
          },
          "colorscale": {
           "diverging": [
            [
             0,
             "#8e0152"
            ],
            [
             0.1,
             "#c51b7d"
            ],
            [
             0.2,
             "#de77ae"
            ],
            [
             0.3,
             "#f1b6da"
            ],
            [
             0.4,
             "#fde0ef"
            ],
            [
             0.5,
             "#f7f7f7"
            ],
            [
             0.6,
             "#e6f5d0"
            ],
            [
             0.7,
             "#b8e186"
            ],
            [
             0.8,
             "#7fbc41"
            ],
            [
             0.9,
             "#4d9221"
            ],
            [
             1,
             "#276419"
            ]
           ],
           "sequential": [
            [
             0,
             "#0d0887"
            ],
            [
             0.1111111111111111,
             "#46039f"
            ],
            [
             0.2222222222222222,
             "#7201a8"
            ],
            [
             0.3333333333333333,
             "#9c179e"
            ],
            [
             0.4444444444444444,
             "#bd3786"
            ],
            [
             0.5555555555555556,
             "#d8576b"
            ],
            [
             0.6666666666666666,
             "#ed7953"
            ],
            [
             0.7777777777777778,
             "#fb9f3a"
            ],
            [
             0.8888888888888888,
             "#fdca26"
            ],
            [
             1,
             "#f0f921"
            ]
           ],
           "sequentialminus": [
            [
             0,
             "#0d0887"
            ],
            [
             0.1111111111111111,
             "#46039f"
            ],
            [
             0.2222222222222222,
             "#7201a8"
            ],
            [
             0.3333333333333333,
             "#9c179e"
            ],
            [
             0.4444444444444444,
             "#bd3786"
            ],
            [
             0.5555555555555556,
             "#d8576b"
            ],
            [
             0.6666666666666666,
             "#ed7953"
            ],
            [
             0.7777777777777778,
             "#fb9f3a"
            ],
            [
             0.8888888888888888,
             "#fdca26"
            ],
            [
             1,
             "#f0f921"
            ]
           ]
          },
          "colorway": [
           "#636efa",
           "#EF553B",
           "#00cc96",
           "#ab63fa",
           "#FFA15A",
           "#19d3f3",
           "#FF6692",
           "#B6E880",
           "#FF97FF",
           "#FECB52"
          ],
          "font": {
           "color": "#2a3f5f"
          },
          "geo": {
           "bgcolor": "white",
           "lakecolor": "white",
           "landcolor": "white",
           "showlakes": true,
           "showland": true,
           "subunitcolor": "#C8D4E3"
          },
          "hoverlabel": {
           "align": "left"
          },
          "hovermode": "closest",
          "mapbox": {
           "style": "light"
          },
          "paper_bgcolor": "white",
          "plot_bgcolor": "white",
          "polar": {
           "angularaxis": {
            "gridcolor": "#EBF0F8",
            "linecolor": "#EBF0F8",
            "ticks": ""
           },
           "bgcolor": "white",
           "radialaxis": {
            "gridcolor": "#EBF0F8",
            "linecolor": "#EBF0F8",
            "ticks": ""
           }
          },
          "scene": {
           "xaxis": {
            "backgroundcolor": "white",
            "gridcolor": "#DFE8F3",
            "gridwidth": 2,
            "linecolor": "#EBF0F8",
            "showbackground": true,
            "ticks": "",
            "zerolinecolor": "#EBF0F8"
           },
           "yaxis": {
            "backgroundcolor": "white",
            "gridcolor": "#DFE8F3",
            "gridwidth": 2,
            "linecolor": "#EBF0F8",
            "showbackground": true,
            "ticks": "",
            "zerolinecolor": "#EBF0F8"
           },
           "zaxis": {
            "backgroundcolor": "white",
            "gridcolor": "#DFE8F3",
            "gridwidth": 2,
            "linecolor": "#EBF0F8",
            "showbackground": true,
            "ticks": "",
            "zerolinecolor": "#EBF0F8"
           }
          },
          "shapedefaults": {
           "line": {
            "color": "#2a3f5f"
           }
          },
          "ternary": {
           "aaxis": {
            "gridcolor": "#DFE8F3",
            "linecolor": "#A2B1C6",
            "ticks": ""
           },
           "baxis": {
            "gridcolor": "#DFE8F3",
            "linecolor": "#A2B1C6",
            "ticks": ""
           },
           "bgcolor": "white",
           "caxis": {
            "gridcolor": "#DFE8F3",
            "linecolor": "#A2B1C6",
            "ticks": ""
           }
          },
          "title": {
           "x": 0.05
          },
          "xaxis": {
           "automargin": true,
           "gridcolor": "#EBF0F8",
           "linecolor": "#EBF0F8",
           "ticks": "",
           "title": {
            "standoff": 15
           },
           "zerolinecolor": "#EBF0F8",
           "zerolinewidth": 2
          },
          "yaxis": {
           "automargin": true,
           "gridcolor": "#EBF0F8",
           "linecolor": "#EBF0F8",
           "ticks": "",
           "title": {
            "standoff": 15
           },
           "zerolinecolor": "#EBF0F8",
           "zerolinewidth": 2
          }
         }
        },
        "title": {
         "text": "Close Price, Trade Intervals, and Signals"
        },
        "updatemenus": [
         {
          "buttons": [
           {
            "args": [
             {
              "visible": [
               true,
               true,
               true
              ]
             }
            ],
            "label": "Hide Trades",
            "method": "update"
           },
           {
            "args": [
             {
              "visible": [
               true,
               true,
               true
              ]
             }
            ],
            "label": "Show Trades",
            "method": "update"
           }
          ],
          "direction": "left",
          "pad": {
           "r": 10,
           "t": 10
          },
          "showactive": true,
          "type": "buttons",
          "x": 0.9,
          "xanchor": "left",
          "y": 1.1,
          "yanchor": "top"
         }
        ],
        "xaxis": {
         "title": {
          "text": "Datetime"
         }
        },
        "yaxis": {
         "title": {
          "text": "Close Price"
         }
        },
        "yaxis2": {
         "overlaying": "y",
         "showgrid": false,
         "side": "right",
         "title": {
          "text": "Signal (Normalized)"
         }
        }
       }
      },
      "image/png": "[encoded data removed]"
     },
     "metadata": {},
     "output_type": "display_data"
    },
    {
     "data": {
      "application/vnd.plotly.v1+json": {
       "config": {
        "plotlyServerURL": "https://plot.ly"
       },
       "data": [
        {
         "hoverinfo": "x+y",
         "hovertemplate": "Date: %{x}<br>Close: %{y:.2f}<extra></extra>",
         "line": {
          "color": "grey",
          "width": 1
         },
         "mode": "lines",
         "name": "Close Price",
         "type": "scatter",
         "x": [
          "2025-06-11T14:30:00.000000000",
          "2025-06-11T14:31:00.000000000",
          "2025-06-11T14:32:00.000000000",
          "2025-06-11T14:33:00.000000000",
          "2025-06-11T14:34:00.000000000",
          "2025-06-11T14:35:00.000000000",
          "2025-06-11T14:36:00.000000000",
          "2025-06-11T14:37:00.000000000",
          "2025-06-11T14:38:00.000000000",
          "2025-06-11T14:39:00.000000000",
          "2025-06-11T14:40:00.000000000",
          "2025-06-11T14:41:00.000000000",
          "2025-06-11T14:42:00.000000000",
          "2025-06-11T14:43:00.000000000",
          "2025-06-11T14:44:00.000000000",
          "2025-06-11T14:45:00.000000000",
          "2025-06-11T14:46:00.000000000",
          "2025-06-11T14:47:00.000000000",
          "2025-06-11T14:48:00.000000000",
          "2025-06-11T14:49:00.000000000",
          "2025-06-11T14:50:00.000000000",
          "2025-06-11T14:51:00.000000000",
          "2025-06-11T14:52:00.000000000",
          "2025-06-11T14:53:00.000000000",
          "2025-06-11T14:54:00.000000000",
          "2025-06-11T14:55:00.000000000",
          "2025-06-11T14:56:00.000000000",
          "2025-06-11T14:57:00.000000000",
          "2025-06-11T14:58:00.000000000",
          "2025-06-11T14:59:00.000000000",
          "2025-06-11T15:00:00.000000000",
          "2025-06-11T15:01:00.000000000",
          "2025-06-11T15:02:00.000000000",
          "2025-06-11T15:03:00.000000000",
          "2025-06-11T15:04:00.000000000",
          "2025-06-11T15:05:00.000000000",
          "2025-06-11T15:06:00.000000000",
          "2025-06-11T15:07:00.000000000",
          "2025-06-11T15:08:00.000000000",
          "2025-06-11T15:09:00.000000000",
          "2025-06-11T15:10:00.000000000",
          "2025-06-11T15:11:00.000000000",
          "2025-06-11T15:12:00.000000000",
          "2025-06-11T15:13:00.000000000",
          "2025-06-11T15:14:00.000000000",
          "2025-06-11T15:15:00.000000000",
          "2025-06-11T15:16:00.000000000",
          "2025-06-11T15:17:00.000000000",
          "2025-06-11T15:18:00.000000000",
          "2025-06-11T15:19:00.000000000",
          "2025-06-11T15:20:00.000000000",
          "2025-06-11T15:21:00.000000000",
          "2025-06-11T15:22:00.000000000",
          "2025-06-11T15:23:00.000000000",
          "2025-06-11T15:24:00.000000000",
          "2025-06-11T15:25:00.000000000",
          "2025-06-11T15:26:00.000000000",
          "2025-06-11T15:27:00.000000000",
          "2025-06-11T15:28:00.000000000",
          "2025-06-11T15:29:00.000000000",
          "2025-06-11T15:30:00.000000000",
          "2025-06-11T15:31:00.000000000",
          "2025-06-11T15:32:00.000000000",
          "2025-06-11T15:33:00.000000000",
          "2025-06-11T15:34:00.000000000",
          "2025-06-11T15:35:00.000000000",
          "2025-06-11T15:36:00.000000000",
          "2025-06-11T15:37:00.000000000",
          "2025-06-11T15:38:00.000000000",
          "2025-06-11T15:39:00.000000000",
          "2025-06-11T15:40:00.000000000",
          "2025-06-11T15:41:00.000000000",
          "2025-06-11T15:42:00.000000000",
          "2025-06-11T15:43:00.000000000",
          "2025-06-11T15:44:00.000000000",
          "2025-06-11T15:45:00.000000000",
          "2025-06-11T15:46:00.000000000",
          "2025-06-11T15:47:00.000000000",
          "2025-06-11T15:48:00.000000000",
          "2025-06-11T15:49:00.000000000",
          "2025-06-11T15:50:00.000000000",
          "2025-06-11T15:51:00.000000000",
          "2025-06-11T15:52:00.000000000",
          "2025-06-11T15:53:00.000000000",
          "2025-06-11T15:54:00.000000000",
          "2025-06-11T15:55:00.000000000",
          "2025-06-11T15:56:00.000000000",
          "2025-06-11T15:57:00.000000000",
          "2025-06-11T15:58:00.000000000",
          "2025-06-11T15:59:00.000000000",
          "2025-06-11T16:00:00.000000000",
          "2025-06-11T16:01:00.000000000",
          "2025-06-11T16:02:00.000000000",
          "2025-06-11T16:03:00.000000000",
          "2025-06-11T16:04:00.000000000",
          "2025-06-11T16:05:00.000000000",
          "2025-06-11T16:06:00.000000000",
          "2025-06-11T16:07:00.000000000",
          "2025-06-11T16:08:00.000000000",
          "2025-06-11T16:09:00.000000000",
          "2025-06-11T16:10:00.000000000",
          "2025-06-11T16:11:00.000000000",
          "2025-06-11T16:12:00.000000000",
          "2025-06-11T16:13:00.000000000",
          "2025-06-11T16:14:00.000000000",
          "2025-06-11T16:15:00.000000000",
          "2025-06-11T16:16:00.000000000",
          "2025-06-11T16:17:00.000000000",
          "2025-06-11T16:18:00.000000000",
          "2025-06-11T16:19:00.000000000",
          "2025-06-11T16:20:00.000000000",
          "2025-06-11T16:21:00.000000000",
          "2025-06-11T16:22:00.000000000",
          "2025-06-11T16:23:00.000000000",
          "2025-06-11T16:24:00.000000000",
          "2025-06-11T16:25:00.000000000",
          "2025-06-11T16:26:00.000000000",
          "2025-06-11T16:27:00.000000000",
          "2025-06-11T16:28:00.000000000",
          "2025-06-11T16:29:00.000000000",
          "2025-06-11T16:30:00.000000000",
          "2025-06-11T16:31:00.000000000",
          "2025-06-11T16:32:00.000000000",
          "2025-06-11T16:33:00.000000000",
          "2025-06-11T16:34:00.000000000",
          "2025-06-11T16:35:00.000000000",
          "2025-06-11T16:36:00.000000000",
          "2025-06-11T16:37:00.000000000",
          "2025-06-11T16:38:00.000000000",
          "2025-06-11T16:39:00.000000000",
          "2025-06-11T16:40:00.000000000",
          "2025-06-11T16:41:00.000000000",
          "2025-06-11T16:42:00.000000000",
          "2025-06-11T16:43:00.000000000",
          "2025-06-11T16:44:00.000000000",
          "2025-06-11T16:45:00.000000000",
          "2025-06-11T16:46:00.000000000",
          "2025-06-11T16:47:00.000000000",
          "2025-06-11T16:48:00.000000000",
          "2025-06-11T16:49:00.000000000",
          "2025-06-11T16:50:00.000000000",
          "2025-06-11T16:51:00.000000000",
          "2025-06-11T16:52:00.000000000",
          "2025-06-11T16:53:00.000000000",
          "2025-06-11T16:54:00.000000000",
          "2025-06-11T16:55:00.000000000",
          "2025-06-11T16:56:00.000000000",
          "2025-06-11T16:57:00.000000000",
          "2025-06-11T16:58:00.000000000",
          "2025-06-11T16:59:00.000000000",
          "2025-06-11T17:00:00.000000000",
          "2025-06-11T17:01:00.000000000",
          "2025-06-11T17:02:00.000000000",
          "2025-06-11T17:03:00.000000000",
          "2025-06-11T17:04:00.000000000",
          "2025-06-11T17:05:00.000000000",
          "2025-06-11T17:06:00.000000000",
          "2025-06-11T17:07:00.000000000",
          "2025-06-11T17:08:00.000000000",
          "2025-06-11T17:09:00.000000000",
          "2025-06-11T17:10:00.000000000",
          "2025-06-11T17:11:00.000000000",
          "2025-06-11T17:12:00.000000000",
          "2025-06-11T17:13:00.000000000",
          "2025-06-11T17:14:00.000000000",
          "2025-06-11T17:15:00.000000000",
          "2025-06-11T17:16:00.000000000",
          "2025-06-11T17:17:00.000000000",
          "2025-06-11T17:18:00.000000000",
          "2025-06-11T17:19:00.000000000",
          "2025-06-11T17:20:00.000000000",
          "2025-06-11T17:21:00.000000000",
          "2025-06-11T17:22:00.000000000",
          "2025-06-11T17:23:00.000000000",
          "2025-06-11T17:24:00.000000000",
          "2025-06-11T17:25:00.000000000",
          "2025-06-11T17:26:00.000000000",
          "2025-06-11T17:27:00.000000000",
          "2025-06-11T17:28:00.000000000",
          "2025-06-11T17:29:00.000000000",
          "2025-06-11T17:30:00.000000000",
          "2025-06-11T17:31:00.000000000",
          "2025-06-11T17:32:00.000000000",
          "2025-06-11T17:33:00.000000000",
          "2025-06-11T17:34:00.000000000",
          "2025-06-11T17:35:00.000000000",
          "2025-06-11T17:36:00.000000000",
          "2025-06-11T17:37:00.000000000",
          "2025-06-11T17:38:00.000000000",
          "2025-06-11T17:39:00.000000000",
          "2025-06-11T17:40:00.000000000",
          "2025-06-11T17:41:00.000000000",
          "2025-06-11T17:42:00.000000000",
          "2025-06-11T17:43:00.000000000",
          "2025-06-11T17:44:00.000000000",
          "2025-06-11T17:45:00.000000000",
          "2025-06-11T17:46:00.000000000",
          "2025-06-11T17:47:00.000000000",
          "2025-06-11T17:48:00.000000000",
          "2025-06-11T17:49:00.000000000",
          "2025-06-11T17:50:00.000000000",
          "2025-06-11T17:51:00.000000000",
          "2025-06-11T17:52:00.000000000",
          "2025-06-11T17:53:00.000000000",
          "2025-06-11T17:54:00.000000000",
          "2025-06-11T17:55:00.000000000",
          "2025-06-11T17:56:00.000000000",
          "2025-06-11T17:57:00.000000000",
          "2025-06-11T17:58:00.000000000",
          "2025-06-11T17:59:00.000000000",
          "2025-06-11T18:00:00.000000000",
          "2025-06-11T18:01:00.000000000",
          "2025-06-11T18:02:00.000000000",
          "2025-06-11T18:03:00.000000000",
          "2025-06-11T18:04:00.000000000",
          "2025-06-11T18:05:00.000000000",
          "2025-06-11T18:06:00.000000000",
          "2025-06-11T18:07:00.000000000",
          "2025-06-11T18:08:00.000000000",
          "2025-06-11T18:09:00.000000000",
          "2025-06-11T18:10:00.000000000",
          "2025-06-11T18:11:00.000000000",
          "2025-06-11T18:12:00.000000000",
          "2025-06-11T18:13:00.000000000",
          "2025-06-11T18:14:00.000000000",
          "2025-06-11T18:15:00.000000000",
          "2025-06-11T18:16:00.000000000",
          "2025-06-11T18:17:00.000000000",
          "2025-06-11T18:18:00.000000000",
          "2025-06-11T18:19:00.000000000",
          "2025-06-11T18:20:00.000000000",
          "2025-06-11T18:21:00.000000000",
          "2025-06-11T18:22:00.000000000",
          "2025-06-11T18:23:00.000000000",
          "2025-06-11T18:24:00.000000000",
          "2025-06-11T18:25:00.000000000",
          "2025-06-11T18:26:00.000000000",
          "2025-06-11T18:27:00.000000000",
          "2025-06-11T18:28:00.000000000",
          "2025-06-11T18:29:00.000000000",
          "2025-06-11T18:30:00.000000000",
          "2025-06-11T18:31:00.000000000",
          "2025-06-11T18:32:00.000000000",
          "2025-06-11T18:33:00.000000000",
          "2025-06-11T18:34:00.000000000",
          "2025-06-11T18:35:00.000000000",
          "2025-06-11T18:36:00.000000000",
          "2025-06-11T18:37:00.000000000",
          "2025-06-11T18:38:00.000000000",
          "2025-06-11T18:39:00.000000000",
          "2025-06-11T18:40:00.000000000",
          "2025-06-11T18:41:00.000000000",
          "2025-06-11T18:42:00.000000000",
          "2025-06-11T18:43:00.000000000",
          "2025-06-11T18:44:00.000000000",
          "2025-06-11T18:45:00.000000000",
          "2025-06-11T18:46:00.000000000",
          "2025-06-11T18:47:00.000000000",
          "2025-06-11T18:48:00.000000000",
          "2025-06-11T18:49:00.000000000",
          "2025-06-11T18:50:00.000000000",
          "2025-06-11T18:51:00.000000000",
          "2025-06-11T18:52:00.000000000",
          "2025-06-11T18:53:00.000000000",
          "2025-06-11T18:54:00.000000000",
          "2025-06-11T18:55:00.000000000",
          "2025-06-11T18:56:00.000000000",
          "2025-06-11T18:57:00.000000000",
          "2025-06-11T18:58:00.000000000",
          "2025-06-11T18:59:00.000000000",
          "2025-06-11T19:00:00.000000000",
          "2025-06-11T19:01:00.000000000",
          "2025-06-11T19:02:00.000000000",
          "2025-06-11T19:03:00.000000000",
          "2025-06-11T19:04:00.000000000",
          "2025-06-11T19:05:00.000000000",
          "2025-06-11T19:06:00.000000000",
          "2025-06-11T19:07:00.000000000",
          "2025-06-11T19:08:00.000000000",
          "2025-06-11T19:09:00.000000000",
          "2025-06-11T19:10:00.000000000",
          "2025-06-11T19:11:00.000000000",
          "2025-06-11T19:12:00.000000000",
          "2025-06-11T19:13:00.000000000",
          "2025-06-11T19:14:00.000000000",
          "2025-06-11T19:15:00.000000000",
          "2025-06-11T19:16:00.000000000",
          "2025-06-11T19:17:00.000000000",
          "2025-06-11T19:18:00.000000000",
          "2025-06-11T19:19:00.000000000",
          "2025-06-11T19:20:00.000000000",
          "2025-06-11T19:21:00.000000000",
          "2025-06-11T19:22:00.000000000",
          "2025-06-11T19:23:00.000000000",
          "2025-06-11T19:24:00.000000000",
          "2025-06-11T19:25:00.000000000",
          "2025-06-11T19:26:00.000000000",
          "2025-06-11T19:27:00.000000000",
          "2025-06-11T19:28:00.000000000",
          "2025-06-11T19:29:00.000000000",
          "2025-06-11T19:30:00.000000000",
          "2025-06-11T19:31:00.000000000",
          "2025-06-11T19:32:00.000000000",
          "2025-06-11T19:33:00.000000000",
          "2025-06-11T19:34:00.000000000",
          "2025-06-11T19:35:00.000000000",
          "2025-06-11T19:36:00.000000000",
          "2025-06-11T19:37:00.000000000",
          "2025-06-11T19:38:00.000000000",
          "2025-06-11T19:39:00.000000000",
          "2025-06-11T19:40:00.000000000",
          "2025-06-11T19:41:00.000000000",
          "2025-06-11T19:42:00.000000000",
          "2025-06-11T19:43:00.000000000",
          "2025-06-11T19:44:00.000000000",
          "2025-06-11T19:45:00.000000000",
          "2025-06-11T19:46:00.000000000",
          "2025-06-11T19:47:00.000000000",
          "2025-06-11T19:48:00.000000000",
          "2025-06-11T19:49:00.000000000",
          "2025-06-11T19:50:00.000000000",
          "2025-06-11T19:51:00.000000000",
          "2025-06-11T19:52:00.000000000",
          "2025-06-11T19:53:00.000000000",
          "2025-06-11T19:54:00.000000000",
          "2025-06-11T19:55:00.000000000",
          "2025-06-11T19:56:00.000000000",
          "2025-06-11T19:57:00.000000000",
          "2025-06-11T19:58:00.000000000",
          "2025-06-11T19:59:00.000000000",
          "2025-06-11T20:00:00.000000000",
          "2025-06-11T20:01:00.000000000",
          "2025-06-11T20:02:00.000000000",
          "2025-06-11T20:03:00.000000000",
          "2025-06-11T20:04:00.000000000",
          "2025-06-11T20:05:00.000000000",
          "2025-06-11T20:06:00.000000000",
          "2025-06-11T20:07:00.000000000",
          "2025-06-11T20:08:00.000000000",
          "2025-06-11T20:09:00.000000000",
          "2025-06-11T20:10:00.000000000",
          "2025-06-11T20:11:00.000000000",
          "2025-06-11T20:12:00.000000000",
          "2025-06-11T20:13:00.000000000",
          "2025-06-11T20:14:00.000000000",
          "2025-06-11T20:15:00.000000000",
          "2025-06-11T20:16:00.000000000",
          "2025-06-11T20:17:00.000000000",
          "2025-06-11T20:18:00.000000000",
          "2025-06-11T20:19:00.000000000",
          "2025-06-11T20:20:00.000000000",
          "2025-06-11T20:21:00.000000000",
          "2025-06-11T20:22:00.000000000",
          "2025-06-11T20:23:00.000000000",
          "2025-06-11T20:24:00.000000000",
          "2025-06-11T20:25:00.000000000",
          "2025-06-11T20:26:00.000000000",
          "2025-06-11T20:27:00.000000000",
          "2025-06-11T20:28:00.000000000",
          "2025-06-11T20:29:00.000000000",
          "2025-06-11T20:30:00.000000000",
          "2025-06-11T20:31:00.000000000",
          "2025-06-11T20:32:00.000000000",
          "2025-06-11T20:33:00.000000000",
          "2025-06-11T20:34:00.000000000",
          "2025-06-11T20:35:00.000000000",
          "2025-06-11T20:36:00.000000000",
          "2025-06-11T20:37:00.000000000",
          "2025-06-11T20:38:00.000000000",
          "2025-06-11T20:39:00.000000000",
          "2025-06-11T20:40:00.000000000",
          "2025-06-11T20:41:00.000000000",
          "2025-06-11T20:42:00.000000000",
          "2025-06-11T20:43:00.000000000",
          "2025-06-11T20:44:00.000000000",
          "2025-06-11T20:45:00.000000000",
          "2025-06-11T20:46:00.000000000",
          "2025-06-11T20:47:00.000000000",
          "2025-06-11T20:48:00.000000000",
          "2025-06-11T20:49:00.000000000",
          "2025-06-11T20:50:00.000000000",
          "2025-06-11T20:51:00.000000000",
          "2025-06-11T20:52:00.000000000",
          "2025-06-11T20:53:00.000000000",
          "2025-06-11T20:54:00.000000000",
          "2025-06-11T20:55:00.000000000",
          "2025-06-11T20:56:00.000000000",
          "2025-06-11T20:57:00.000000000",
          "2025-06-11T20:58:00.000000000",
          "2025-06-11T20:59:00.000000000",
          "2025-06-11T21:00:00.000000000"
         ],
         "y": {
          "bdata": "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",
          "dtype": "f8"
         }
        },
        {
         "hovertemplate": "Date: %{x}<br>Signal: %{y:.2f}<extra></extra>",
         "line": {
          "color": "blue",
          "dash": "dot",
          "width": 2
         },
         "mode": "lines",
         "name": "pred_signal",
         "type": "scatter",
         "visible": true,
         "x": [
          "2025-06-11T14:30:00.000000000",
          "2025-06-11T14:31:00.000000000",
          "2025-06-11T14:32:00.000000000",
          "2025-06-11T14:33:00.000000000",
          "2025-06-11T14:34:00.000000000",
          "2025-06-11T14:35:00.000000000",
          "2025-06-11T14:36:00.000000000",
          "2025-06-11T14:37:00.000000000",
          "2025-06-11T14:38:00.000000000",
          "2025-06-11T14:39:00.000000000",
          "2025-06-11T14:40:00.000000000",
          "2025-06-11T14:41:00.000000000",
          "2025-06-11T14:42:00.000000000",
          "2025-06-11T14:43:00.000000000",
          "2025-06-11T14:44:00.000000000",
          "2025-06-11T14:45:00.000000000",
          "2025-06-11T14:46:00.000000000",
          "2025-06-11T14:47:00.000000000",
          "2025-06-11T14:48:00.000000000",
          "2025-06-11T14:49:00.000000000",
          "2025-06-11T14:50:00.000000000",
          "2025-06-11T14:51:00.000000000",
          "2025-06-11T14:52:00.000000000",
          "2025-06-11T14:53:00.000000000",
          "2025-06-11T14:54:00.000000000",
          "2025-06-11T14:55:00.000000000",
          "2025-06-11T14:56:00.000000000",
          "2025-06-11T14:57:00.000000000",
          "2025-06-11T14:58:00.000000000",
          "2025-06-11T14:59:00.000000000",
          "2025-06-11T15:00:00.000000000",
          "2025-06-11T15:01:00.000000000",
          "2025-06-11T15:02:00.000000000",
          "2025-06-11T15:03:00.000000000",
          "2025-06-11T15:04:00.000000000",
          "2025-06-11T15:05:00.000000000",
          "2025-06-11T15:06:00.000000000",
          "2025-06-11T15:07:00.000000000",
          "2025-06-11T15:08:00.000000000",
          "2025-06-11T15:09:00.000000000",
          "2025-06-11T15:10:00.000000000",
          "2025-06-11T15:11:00.000000000",
          "2025-06-11T15:12:00.000000000",
          "2025-06-11T15:13:00.000000000",
          "2025-06-11T15:14:00.000000000",
          "2025-06-11T15:15:00.000000000",
          "2025-06-11T15:16:00.000000000",
          "2025-06-11T15:17:00.000000000",
          "2025-06-11T15:18:00.000000000",
          "2025-06-11T15:19:00.000000000",
          "2025-06-11T15:20:00.000000000",
          "2025-06-11T15:21:00.000000000",
          "2025-06-11T15:22:00.000000000",
          "2025-06-11T15:23:00.000000000",
          "2025-06-11T15:24:00.000000000",
          "2025-06-11T15:25:00.000000000",
          "2025-06-11T15:26:00.000000000",
          "2025-06-11T15:27:00.000000000",
          "2025-06-11T15:28:00.000000000",
          "2025-06-11T15:29:00.000000000",
          "2025-06-11T15:30:00.000000000",
          "2025-06-11T15:31:00.000000000",
          "2025-06-11T15:32:00.000000000",
          "2025-06-11T15:33:00.000000000",
          "2025-06-11T15:34:00.000000000",
          "2025-06-11T15:35:00.000000000",
          "2025-06-11T15:36:00.000000000",
          "2025-06-11T15:37:00.000000000",
          "2025-06-11T15:38:00.000000000",
          "2025-06-11T15:39:00.000000000",
          "2025-06-11T15:40:00.000000000",
          "2025-06-11T15:41:00.000000000",
          "2025-06-11T15:42:00.000000000",
          "2025-06-11T15:43:00.000000000",
          "2025-06-11T15:44:00.000000000",
          "2025-06-11T15:45:00.000000000",
          "2025-06-11T15:46:00.000000000",
          "2025-06-11T15:47:00.000000000",
          "2025-06-11T15:48:00.000000000",
          "2025-06-11T15:49:00.000000000",
          "2025-06-11T15:50:00.000000000",
          "2025-06-11T15:51:00.000000000",
          "2025-06-11T15:52:00.000000000",
          "2025-06-11T15:53:00.000000000",
          "2025-06-11T15:54:00.000000000",
          "2025-06-11T15:55:00.000000000",
          "2025-06-11T15:56:00.000000000",
          "2025-06-11T15:57:00.000000000",
          "2025-06-11T15:58:00.000000000",
          "2025-06-11T15:59:00.000000000",
          "2025-06-11T16:00:00.000000000",
          "2025-06-11T16:01:00.000000000",
          "2025-06-11T16:02:00.000000000",
          "2025-06-11T16:03:00.000000000",
          "2025-06-11T16:04:00.000000000",
          "2025-06-11T16:05:00.000000000",
          "2025-06-11T16:06:00.000000000",
          "2025-06-11T16:07:00.000000000",
          "2025-06-11T16:08:00.000000000",
          "2025-06-11T16:09:00.000000000",
          "2025-06-11T16:10:00.000000000",
          "2025-06-11T16:11:00.000000000",
          "2025-06-11T16:12:00.000000000",
          "2025-06-11T16:13:00.000000000",
          "2025-06-11T16:14:00.000000000",
          "2025-06-11T16:15:00.000000000",
          "2025-06-11T16:16:00.000000000",
          "2025-06-11T16:17:00.000000000",
          "2025-06-11T16:18:00.000000000",
          "2025-06-11T16:19:00.000000000",
          "2025-06-11T16:20:00.000000000",
          "2025-06-11T16:21:00.000000000",
          "2025-06-11T16:22:00.000000000",
          "2025-06-11T16:23:00.000000000",
          "2025-06-11T16:24:00.000000000",
          "2025-06-11T16:25:00.000000000",
          "2025-06-11T16:26:00.000000000",
          "2025-06-11T16:27:00.000000000",
          "2025-06-11T16:28:00.000000000",
          "2025-06-11T16:29:00.000000000",
          "2025-06-11T16:30:00.000000000",
          "2025-06-11T16:31:00.000000000",
          "2025-06-11T16:32:00.000000000",
          "2025-06-11T16:33:00.000000000",
          "2025-06-11T16:34:00.000000000",
          "2025-06-11T16:35:00.000000000",
          "2025-06-11T16:36:00.000000000",
          "2025-06-11T16:37:00.000000000",
          "2025-06-11T16:38:00.000000000",
          "2025-06-11T16:39:00.000000000",
          "2025-06-11T16:40:00.000000000",
          "2025-06-11T16:41:00.000000000",
          "2025-06-11T16:42:00.000000000",
          "2025-06-11T16:43:00.000000000",
          "2025-06-11T16:44:00.000000000",
          "2025-06-11T16:45:00.000000000",
          "2025-06-11T16:46:00.000000000",
          "2025-06-11T16:47:00.000000000",
          "2025-06-11T16:48:00.000000000",
          "2025-06-11T16:49:00.000000000",
          "2025-06-11T16:50:00.000000000",
          "2025-06-11T16:51:00.000000000",
          "2025-06-11T16:52:00.000000000",
          "2025-06-11T16:53:00.000000000",
          "2025-06-11T16:54:00.000000000",
          "2025-06-11T16:55:00.000000000",
          "2025-06-11T16:56:00.000000000",
          "2025-06-11T16:57:00.000000000",
          "2025-06-11T16:58:00.000000000",
          "2025-06-11T16:59:00.000000000",
          "2025-06-11T17:00:00.000000000",
          "2025-06-11T17:01:00.000000000",
          "2025-06-11T17:02:00.000000000",
          "2025-06-11T17:03:00.000000000",
          "2025-06-11T17:04:00.000000000",
          "2025-06-11T17:05:00.000000000",
          "2025-06-11T17:06:00.000000000",
          "2025-06-11T17:07:00.000000000",
          "2025-06-11T17:08:00.000000000",
          "2025-06-11T17:09:00.000000000",
          "2025-06-11T17:10:00.000000000",
          "2025-06-11T17:11:00.000000000",
          "2025-06-11T17:12:00.000000000",
          "2025-06-11T17:13:00.000000000",
          "2025-06-11T17:14:00.000000000",
          "2025-06-11T17:15:00.000000000",
          "2025-06-11T17:16:00.000000000",
          "2025-06-11T17:17:00.000000000",
          "2025-06-11T17:18:00.000000000",
          "2025-06-11T17:19:00.000000000",
          "2025-06-11T17:20:00.000000000",
          "2025-06-11T17:21:00.000000000",
          "2025-06-11T17:22:00.000000000",
          "2025-06-11T17:23:00.000000000",
          "2025-06-11T17:24:00.000000000",
          "2025-06-11T17:25:00.000000000",
          "2025-06-11T17:26:00.000000000",
          "2025-06-11T17:27:00.000000000",
          "2025-06-11T17:28:00.000000000",
          "2025-06-11T17:29:00.000000000",
          "2025-06-11T17:30:00.000000000",
          "2025-06-11T17:31:00.000000000",
          "2025-06-11T17:32:00.000000000",
          "2025-06-11T17:33:00.000000000",
          "2025-06-11T17:34:00.000000000",
          "2025-06-11T17:35:00.000000000",
          "2025-06-11T17:36:00.000000000",
          "2025-06-11T17:37:00.000000000",
          "2025-06-11T17:38:00.000000000",
          "2025-06-11T17:39:00.000000000",
          "2025-06-11T17:40:00.000000000",
          "2025-06-11T17:41:00.000000000",
          "2025-06-11T17:42:00.000000000",
          "2025-06-11T17:43:00.000000000",
          "2025-06-11T17:44:00.000000000",
          "2025-06-11T17:45:00.000000000",
          "2025-06-11T17:46:00.000000000",
          "2025-06-11T17:47:00.000000000",
          "2025-06-11T17:48:00.000000000",
          "2025-06-11T17:49:00.000000000",
          "2025-06-11T17:50:00.000000000",
          "2025-06-11T17:51:00.000000000",
          "2025-06-11T17:52:00.000000000",
          "2025-06-11T17:53:00.000000000",
          "2025-06-11T17:54:00.000000000",
          "2025-06-11T17:55:00.000000000",
          "2025-06-11T17:56:00.000000000",
          "2025-06-11T17:57:00.000000000",
          "2025-06-11T17:58:00.000000000",
          "2025-06-11T17:59:00.000000000",
          "2025-06-11T18:00:00.000000000",
          "2025-06-11T18:01:00.000000000",
          "2025-06-11T18:02:00.000000000",
          "2025-06-11T18:03:00.000000000",
          "2025-06-11T18:04:00.000000000",
          "2025-06-11T18:05:00.000000000",
          "2025-06-11T18:06:00.000000000",
          "2025-06-11T18:07:00.000000000",
          "2025-06-11T18:08:00.000000000",
          "2025-06-11T18:09:00.000000000",
          "2025-06-11T18:10:00.000000000",
          "2025-06-11T18:11:00.000000000",
          "2025-06-11T18:12:00.000000000",
          "2025-06-11T18:13:00.000000000",
          "2025-06-11T18:14:00.000000000",
          "2025-06-11T18:15:00.000000000",
          "2025-06-11T18:16:00.000000000",
          "2025-06-11T18:17:00.000000000",
          "2025-06-11T18:18:00.000000000",
          "2025-06-11T18:19:00.000000000",
          "2025-06-11T18:20:00.000000000",
          "2025-06-11T18:21:00.000000000",
          "2025-06-11T18:22:00.000000000",
          "2025-06-11T18:23:00.000000000",
          "2025-06-11T18:24:00.000000000",
          "2025-06-11T18:25:00.000000000",
          "2025-06-11T18:26:00.000000000",
          "2025-06-11T18:27:00.000000000",
          "2025-06-11T18:28:00.000000000",
          "2025-06-11T18:29:00.000000000",
          "2025-06-11T18:30:00.000000000",
          "2025-06-11T18:31:00.000000000",
          "2025-06-11T18:32:00.000000000",
          "2025-06-11T18:33:00.000000000",
          "2025-06-11T18:34:00.000000000",
          "2025-06-11T18:35:00.000000000",
          "2025-06-11T18:36:00.000000000",
          "2025-06-11T18:37:00.000000000",
          "2025-06-11T18:38:00.000000000",
          "2025-06-11T18:39:00.000000000",
          "2025-06-11T18:40:00.000000000",
          "2025-06-11T18:41:00.000000000",
          "2025-06-11T18:42:00.000000000",
          "2025-06-11T18:43:00.000000000",
          "2025-06-11T18:44:00.000000000",
          "2025-06-11T18:45:00.000000000",
          "2025-06-11T18:46:00.000000000",
          "2025-06-11T18:47:00.000000000",
          "2025-06-11T18:48:00.000000000",
          "2025-06-11T18:49:00.000000000",
          "2025-06-11T18:50:00.000000000",
          "2025-06-11T18:51:00.000000000",
          "2025-06-11T18:52:00.000000000",
          "2025-06-11T18:53:00.000000000",
          "2025-06-11T18:54:00.000000000",
          "2025-06-11T18:55:00.000000000",
          "2025-06-11T18:56:00.000000000",
          "2025-06-11T18:57:00.000000000",
          "2025-06-11T18:58:00.000000000",
          "2025-06-11T18:59:00.000000000",
          "2025-06-11T19:00:00.000000000",
          "2025-06-11T19:01:00.000000000",
          "2025-06-11T19:02:00.000000000",
          "2025-06-11T19:03:00.000000000",
          "2025-06-11T19:04:00.000000000",
          "2025-06-11T19:05:00.000000000",
          "2025-06-11T19:06:00.000000000",
          "2025-06-11T19:07:00.000000000",
          "2025-06-11T19:08:00.000000000",
          "2025-06-11T19:09:00.000000000",
          "2025-06-11T19:10:00.000000000",
          "2025-06-11T19:11:00.000000000",
          "2025-06-11T19:12:00.000000000",
          "2025-06-11T19:13:00.000000000",
          "2025-06-11T19:14:00.000000000",
          "2025-06-11T19:15:00.000000000",
          "2025-06-11T19:16:00.000000000",
          "2025-06-11T19:17:00.000000000",
          "2025-06-11T19:18:00.000000000",
          "2025-06-11T19:19:00.000000000",
          "2025-06-11T19:20:00.000000000",
          "2025-06-11T19:21:00.000000000",
          "2025-06-11T19:22:00.000000000",
          "2025-06-11T19:23:00.000000000",
          "2025-06-11T19:24:00.000000000",
          "2025-06-11T19:25:00.000000000",
          "2025-06-11T19:26:00.000000000",
          "2025-06-11T19:27:00.000000000",
          "2025-06-11T19:28:00.000000000",
          "2025-06-11T19:29:00.000000000",
          "2025-06-11T19:30:00.000000000",
          "2025-06-11T19:31:00.000000000",
          "2025-06-11T19:32:00.000000000",
          "2025-06-11T19:33:00.000000000",
          "2025-06-11T19:34:00.000000000",
          "2025-06-11T19:35:00.000000000",
          "2025-06-11T19:36:00.000000000",
          "2025-06-11T19:37:00.000000000",
          "2025-06-11T19:38:00.000000000",
          "2025-06-11T19:39:00.000000000",
          "2025-06-11T19:40:00.000000000",
          "2025-06-11T19:41:00.000000000",
          "2025-06-11T19:42:00.000000000",
          "2025-06-11T19:43:00.000000000",
          "2025-06-11T19:44:00.000000000",
          "2025-06-11T19:45:00.000000000",
          "2025-06-11T19:46:00.000000000",
          "2025-06-11T19:47:00.000000000",
          "2025-06-11T19:48:00.000000000",
          "2025-06-11T19:49:00.000000000",
          "2025-06-11T19:50:00.000000000",
          "2025-06-11T19:51:00.000000000",
          "2025-06-11T19:52:00.000000000",
          "2025-06-11T19:53:00.000000000",
          "2025-06-11T19:54:00.000000000",
          "2025-06-11T19:55:00.000000000",
          "2025-06-11T19:56:00.000000000",
          "2025-06-11T19:57:00.000000000",
          "2025-06-11T19:58:00.000000000",
          "2025-06-11T19:59:00.000000000",
          "2025-06-11T20:00:00.000000000",
          "2025-06-11T20:01:00.000000000",
          "2025-06-11T20:02:00.000000000",
          "2025-06-11T20:03:00.000000000",
          "2025-06-11T20:04:00.000000000",
          "2025-06-11T20:05:00.000000000",
          "2025-06-11T20:06:00.000000000",
          "2025-06-11T20:07:00.000000000",
          "2025-06-11T20:08:00.000000000",
          "2025-06-11T20:09:00.000000000",
          "2025-06-11T20:10:00.000000000",
          "2025-06-11T20:11:00.000000000",
          "2025-06-11T20:12:00.000000000",
          "2025-06-11T20:13:00.000000000",
          "2025-06-11T20:14:00.000000000",
          "2025-06-11T20:15:00.000000000",
          "2025-06-11T20:16:00.000000000",
          "2025-06-11T20:17:00.000000000",
          "2025-06-11T20:18:00.000000000",
          "2025-06-11T20:19:00.000000000",
          "2025-06-11T20:20:00.000000000",
          "2025-06-11T20:21:00.000000000",
          "2025-06-11T20:22:00.000000000",
          "2025-06-11T20:23:00.000000000",
          "2025-06-11T20:24:00.000000000",
          "2025-06-11T20:25:00.000000000",
          "2025-06-11T20:26:00.000000000",
          "2025-06-11T20:27:00.000000000",
          "2025-06-11T20:28:00.000000000",
          "2025-06-11T20:29:00.000000000",
          "2025-06-11T20:30:00.000000000",
          "2025-06-11T20:31:00.000000000",
          "2025-06-11T20:32:00.000000000",
          "2025-06-11T20:33:00.000000000",
          "2025-06-11T20:34:00.000000000",
          "2025-06-11T20:35:00.000000000",
          "2025-06-11T20:36:00.000000000",
          "2025-06-11T20:37:00.000000000",
          "2025-06-11T20:38:00.000000000",
          "2025-06-11T20:39:00.000000000",
          "2025-06-11T20:40:00.000000000",
          "2025-06-11T20:41:00.000000000",
          "2025-06-11T20:42:00.000000000",
          "2025-06-11T20:43:00.000000000",
          "2025-06-11T20:44:00.000000000",
          "2025-06-11T20:45:00.000000000",
          "2025-06-11T20:46:00.000000000",
          "2025-06-11T20:47:00.000000000",
          "2025-06-11T20:48:00.000000000",
          "2025-06-11T20:49:00.000000000",
          "2025-06-11T20:50:00.000000000",
          "2025-06-11T20:51:00.000000000",
          "2025-06-11T20:52:00.000000000",
          "2025-06-11T20:53:00.000000000",
          "2025-06-11T20:54:00.000000000",
          "2025-06-11T20:55:00.000000000",
          "2025-06-11T20:56:00.000000000",
          "2025-06-11T20:57:00.000000000",
          "2025-06-11T20:58:00.000000000",
          "2025-06-11T20:59:00.000000000",
          "2025-06-11T21:00:00.000000000"
         ],
         "y": {
          "bdata": "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",
          "dtype": "f4"
         },
         "yaxis": "y2"
        },
        {
         "hovertemplate": "Date: %{x}<br>Smooth Signal: %{y:.2f}<extra></extra>",
         "line": {
          "color": "red",
          "dash": "dash",
          "width": 2
         },
         "mode": "lines",
         "name": "signal_smooth",
         "type": "scatter",
         "visible": true,
         "x": [
          "2025-06-11T14:30:00.000000000",
          "2025-06-11T14:31:00.000000000",
          "2025-06-11T14:32:00.000000000",
          "2025-06-11T14:33:00.000000000",
          "2025-06-11T14:34:00.000000000",
          "2025-06-11T14:35:00.000000000",
          "2025-06-11T14:36:00.000000000",
          "2025-06-11T14:37:00.000000000",
          "2025-06-11T14:38:00.000000000",
          "2025-06-11T14:39:00.000000000",
          "2025-06-11T14:40:00.000000000",
          "2025-06-11T14:41:00.000000000",
          "2025-06-11T14:42:00.000000000",
          "2025-06-11T14:43:00.000000000",
          "2025-06-11T14:44:00.000000000",
          "2025-06-11T14:45:00.000000000",
          "2025-06-11T14:46:00.000000000",
          "2025-06-11T14:47:00.000000000",
          "2025-06-11T14:48:00.000000000",
          "2025-06-11T14:49:00.000000000",
          "2025-06-11T14:50:00.000000000",
          "2025-06-11T14:51:00.000000000",
          "2025-06-11T14:52:00.000000000",
          "2025-06-11T14:53:00.000000000",
          "2025-06-11T14:54:00.000000000",
          "2025-06-11T14:55:00.000000000",
          "2025-06-11T14:56:00.000000000",
          "2025-06-11T14:57:00.000000000",
          "2025-06-11T14:58:00.000000000",
          "2025-06-11T14:59:00.000000000",
          "2025-06-11T15:00:00.000000000",
          "2025-06-11T15:01:00.000000000",
          "2025-06-11T15:02:00.000000000",
          "2025-06-11T15:03:00.000000000",
          "2025-06-11T15:04:00.000000000",
          "2025-06-11T15:05:00.000000000",
          "2025-06-11T15:06:00.000000000",
          "2025-06-11T15:07:00.000000000",
          "2025-06-11T15:08:00.000000000",
          "2025-06-11T15:09:00.000000000",
          "2025-06-11T15:10:00.000000000",
          "2025-06-11T15:11:00.000000000",
          "2025-06-11T15:12:00.000000000",
          "2025-06-11T15:13:00.000000000",
          "2025-06-11T15:14:00.000000000",
          "2025-06-11T15:15:00.000000000",
          "2025-06-11T15:16:00.000000000",
          "2025-06-11T15:17:00.000000000",
          "2025-06-11T15:18:00.000000000",
          "2025-06-11T15:19:00.000000000",
          "2025-06-11T15:20:00.000000000",
          "2025-06-11T15:21:00.000000000",
          "2025-06-11T15:22:00.000000000",
          "2025-06-11T15:23:00.000000000",
          "2025-06-11T15:24:00.000000000",
          "2025-06-11T15:25:00.000000000",
          "2025-06-11T15:26:00.000000000",
          "2025-06-11T15:27:00.000000000",
          "2025-06-11T15:28:00.000000000",
          "2025-06-11T15:29:00.000000000",
          "2025-06-11T15:30:00.000000000",
          "2025-06-11T15:31:00.000000000",
          "2025-06-11T15:32:00.000000000",
          "2025-06-11T15:33:00.000000000",
          "2025-06-11T15:34:00.000000000",
          "2025-06-11T15:35:00.000000000",
          "2025-06-11T15:36:00.000000000",
          "2025-06-11T15:37:00.000000000",
          "2025-06-11T15:38:00.000000000",
          "2025-06-11T15:39:00.000000000",
          "2025-06-11T15:40:00.000000000",
          "2025-06-11T15:41:00.000000000",
          "2025-06-11T15:42:00.000000000",
          "2025-06-11T15:43:00.000000000",
          "2025-06-11T15:44:00.000000000",
          "2025-06-11T15:45:00.000000000",
          "2025-06-11T15:46:00.000000000",
          "2025-06-11T15:47:00.000000000",
          "2025-06-11T15:48:00.000000000",
          "2025-06-11T15:49:00.000000000",
          "2025-06-11T15:50:00.000000000",
          "2025-06-11T15:51:00.000000000",
          "2025-06-11T15:52:00.000000000",
          "2025-06-11T15:53:00.000000000",
          "2025-06-11T15:54:00.000000000",
          "2025-06-11T15:55:00.000000000",
          "2025-06-11T15:56:00.000000000",
          "2025-06-11T15:57:00.000000000",
          "2025-06-11T15:58:00.000000000",
          "2025-06-11T15:59:00.000000000",
          "2025-06-11T16:00:00.000000000",
          "2025-06-11T16:01:00.000000000",
          "2025-06-11T16:02:00.000000000",
          "2025-06-11T16:03:00.000000000",
          "2025-06-11T16:04:00.000000000",
          "2025-06-11T16:05:00.000000000",
          "2025-06-11T16:06:00.000000000",
          "2025-06-11T16:07:00.000000000",
          "2025-06-11T16:08:00.000000000",
          "2025-06-11T16:09:00.000000000",
          "2025-06-11T16:10:00.000000000",
          "2025-06-11T16:11:00.000000000",
          "2025-06-11T16:12:00.000000000",
          "2025-06-11T16:13:00.000000000",
          "2025-06-11T16:14:00.000000000",
          "2025-06-11T16:15:00.000000000",
          "2025-06-11T16:16:00.000000000",
          "2025-06-11T16:17:00.000000000",
          "2025-06-11T16:18:00.000000000",
          "2025-06-11T16:19:00.000000000",
          "2025-06-11T16:20:00.000000000",
          "2025-06-11T16:21:00.000000000",
          "2025-06-11T16:22:00.000000000",
          "2025-06-11T16:23:00.000000000",
          "2025-06-11T16:24:00.000000000",
          "2025-06-11T16:25:00.000000000",
          "2025-06-11T16:26:00.000000000",
          "2025-06-11T16:27:00.000000000",
          "2025-06-11T16:28:00.000000000",
          "2025-06-11T16:29:00.000000000",
          "2025-06-11T16:30:00.000000000",
          "2025-06-11T16:31:00.000000000",
          "2025-06-11T16:32:00.000000000",
          "2025-06-11T16:33:00.000000000",
          "2025-06-11T16:34:00.000000000",
          "2025-06-11T16:35:00.000000000",
          "2025-06-11T16:36:00.000000000",
          "2025-06-11T16:37:00.000000000",
          "2025-06-11T16:38:00.000000000",
          "2025-06-11T16:39:00.000000000",
          "2025-06-11T16:40:00.000000000",
          "2025-06-11T16:41:00.000000000",
          "2025-06-11T16:42:00.000000000",
          "2025-06-11T16:43:00.000000000",
          "2025-06-11T16:44:00.000000000",
          "2025-06-11T16:45:00.000000000",
          "2025-06-11T16:46:00.000000000",
          "2025-06-11T16:47:00.000000000",
          "2025-06-11T16:48:00.000000000",
          "2025-06-11T16:49:00.000000000",
          "2025-06-11T16:50:00.000000000",
          "2025-06-11T16:51:00.000000000",
          "2025-06-11T16:52:00.000000000",
          "2025-06-11T16:53:00.000000000",
          "2025-06-11T16:54:00.000000000",
          "2025-06-11T16:55:00.000000000",
          "2025-06-11T16:56:00.000000000",
          "2025-06-11T16:57:00.000000000",
          "2025-06-11T16:58:00.000000000",
          "2025-06-11T16:59:00.000000000",
          "2025-06-11T17:00:00.000000000",
          "2025-06-11T17:01:00.000000000",
          "2025-06-11T17:02:00.000000000",
          "2025-06-11T17:03:00.000000000",
          "2025-06-11T17:04:00.000000000",
          "2025-06-11T17:05:00.000000000",
          "2025-06-11T17:06:00.000000000",
          "2025-06-11T17:07:00.000000000",
          "2025-06-11T17:08:00.000000000",
          "2025-06-11T17:09:00.000000000",
          "2025-06-11T17:10:00.000000000",
          "2025-06-11T17:11:00.000000000",
          "2025-06-11T17:12:00.000000000",
          "2025-06-11T17:13:00.000000000",
          "2025-06-11T17:14:00.000000000",
          "2025-06-11T17:15:00.000000000",
          "2025-06-11T17:16:00.000000000",
          "2025-06-11T17:17:00.000000000",
          "2025-06-11T17:18:00.000000000",
          "2025-06-11T17:19:00.000000000",
          "2025-06-11T17:20:00.000000000",
          "2025-06-11T17:21:00.000000000",
          "2025-06-11T17:22:00.000000000",
          "2025-06-11T17:23:00.000000000",
          "2025-06-11T17:24:00.000000000",
          "2025-06-11T17:25:00.000000000",
          "2025-06-11T17:26:00.000000000",
          "2025-06-11T17:27:00.000000000",
          "2025-06-11T17:28:00.000000000",
          "2025-06-11T17:29:00.000000000",
          "2025-06-11T17:30:00.000000000",
          "2025-06-11T17:31:00.000000000",
          "2025-06-11T17:32:00.000000000",
          "2025-06-11T17:33:00.000000000",
          "2025-06-11T17:34:00.000000000",
          "2025-06-11T17:35:00.000000000",
          "2025-06-11T17:36:00.000000000",
          "2025-06-11T17:37:00.000000000",
          "2025-06-11T17:38:00.000000000",
          "2025-06-11T17:39:00.000000000",
          "2025-06-11T17:40:00.000000000",
          "2025-06-11T17:41:00.000000000",
          "2025-06-11T17:42:00.000000000",
          "2025-06-11T17:43:00.000000000",
          "2025-06-11T17:44:00.000000000",
          "2025-06-11T17:45:00.000000000",
          "2025-06-11T17:46:00.000000000",
          "2025-06-11T17:47:00.000000000",
          "2025-06-11T17:48:00.000000000",
          "2025-06-11T17:49:00.000000000",
          "2025-06-11T17:50:00.000000000",
          "2025-06-11T17:51:00.000000000",
          "2025-06-11T17:52:00.000000000",
          "2025-06-11T17:53:00.000000000",
          "2025-06-11T17:54:00.000000000",
          "2025-06-11T17:55:00.000000000",
          "2025-06-11T17:56:00.000000000",
          "2025-06-11T17:57:00.000000000",
          "2025-06-11T17:58:00.000000000",
          "2025-06-11T17:59:00.000000000",
          "2025-06-11T18:00:00.000000000",
          "2025-06-11T18:01:00.000000000",
          "2025-06-11T18:02:00.000000000",
          "2025-06-11T18:03:00.000000000",
          "2025-06-11T18:04:00.000000000",
          "2025-06-11T18:05:00.000000000",
          "2025-06-11T18:06:00.000000000",
          "2025-06-11T18:07:00.000000000",
          "2025-06-11T18:08:00.000000000",
          "2025-06-11T18:09:00.000000000",
          "2025-06-11T18:10:00.000000000",
          "2025-06-11T18:11:00.000000000",
          "2025-06-11T18:12:00.000000000",
          "2025-06-11T18:13:00.000000000",
          "2025-06-11T18:14:00.000000000",
          "2025-06-11T18:15:00.000000000",
          "2025-06-11T18:16:00.000000000",
          "2025-06-11T18:17:00.000000000",
          "2025-06-11T18:18:00.000000000",
          "2025-06-11T18:19:00.000000000",
          "2025-06-11T18:20:00.000000000",
          "2025-06-11T18:21:00.000000000",
          "2025-06-11T18:22:00.000000000",
          "2025-06-11T18:23:00.000000000",
          "2025-06-11T18:24:00.000000000",
          "2025-06-11T18:25:00.000000000",
          "2025-06-11T18:26:00.000000000",
          "2025-06-11T18:27:00.000000000",
          "2025-06-11T18:28:00.000000000",
          "2025-06-11T18:29:00.000000000",
          "2025-06-11T18:30:00.000000000",
          "2025-06-11T18:31:00.000000000",
          "2025-06-11T18:32:00.000000000",
          "2025-06-11T18:33:00.000000000",
          "2025-06-11T18:34:00.000000000",
          "2025-06-11T18:35:00.000000000",
          "2025-06-11T18:36:00.000000000",
          "2025-06-11T18:37:00.000000000",
          "2025-06-11T18:38:00.000000000",
          "2025-06-11T18:39:00.000000000",
          "2025-06-11T18:40:00.000000000",
          "2025-06-11T18:41:00.000000000",
          "2025-06-11T18:42:00.000000000",
          "2025-06-11T18:43:00.000000000",
          "2025-06-11T18:44:00.000000000",
          "2025-06-11T18:45:00.000000000",
          "2025-06-11T18:46:00.000000000",
          "2025-06-11T18:47:00.000000000",
          "2025-06-11T18:48:00.000000000",
          "2025-06-11T18:49:00.000000000",
          "2025-06-11T18:50:00.000000000",
          "2025-06-11T18:51:00.000000000",
          "2025-06-11T18:52:00.000000000",
          "2025-06-11T18:53:00.000000000",
          "2025-06-11T18:54:00.000000000",
          "2025-06-11T18:55:00.000000000",
          "2025-06-11T18:56:00.000000000",
          "2025-06-11T18:57:00.000000000",
          "2025-06-11T18:58:00.000000000",
          "2025-06-11T18:59:00.000000000",
          "2025-06-11T19:00:00.000000000",
          "2025-06-11T19:01:00.000000000",
          "2025-06-11T19:02:00.000000000",
          "2025-06-11T19:03:00.000000000",
          "2025-06-11T19:04:00.000000000",
          "2025-06-11T19:05:00.000000000",
          "2025-06-11T19:06:00.000000000",
          "2025-06-11T19:07:00.000000000",
          "2025-06-11T19:08:00.000000000",
          "2025-06-11T19:09:00.000000000",
          "2025-06-11T19:10:00.000000000",
          "2025-06-11T19:11:00.000000000",
          "2025-06-11T19:12:00.000000000",
          "2025-06-11T19:13:00.000000000",
          "2025-06-11T19:14:00.000000000",
          "2025-06-11T19:15:00.000000000",
          "2025-06-11T19:16:00.000000000",
          "2025-06-11T19:17:00.000000000",
          "2025-06-11T19:18:00.000000000",
          "2025-06-11T19:19:00.000000000",
          "2025-06-11T19:20:00.000000000",
          "2025-06-11T19:21:00.000000000",
          "2025-06-11T19:22:00.000000000",
          "2025-06-11T19:23:00.000000000",
          "2025-06-11T19:24:00.000000000",
          "2025-06-11T19:25:00.000000000",
          "2025-06-11T19:26:00.000000000",
          "2025-06-11T19:27:00.000000000",
          "2025-06-11T19:28:00.000000000",
          "2025-06-11T19:29:00.000000000",
          "2025-06-11T19:30:00.000000000",
          "2025-06-11T19:31:00.000000000",
          "2025-06-11T19:32:00.000000000",
          "2025-06-11T19:33:00.000000000",
          "2025-06-11T19:34:00.000000000",
          "2025-06-11T19:35:00.000000000",
          "2025-06-11T19:36:00.000000000",
          "2025-06-11T19:37:00.000000000",
          "2025-06-11T19:38:00.000000000",
          "2025-06-11T19:39:00.000000000",
          "2025-06-11T19:40:00.000000000",
          "2025-06-11T19:41:00.000000000",
          "2025-06-11T19:42:00.000000000",
          "2025-06-11T19:43:00.000000000",
          "2025-06-11T19:44:00.000000000",
          "2025-06-11T19:45:00.000000000",
          "2025-06-11T19:46:00.000000000",
          "2025-06-11T19:47:00.000000000",
          "2025-06-11T19:48:00.000000000",
          "2025-06-11T19:49:00.000000000",
          "2025-06-11T19:50:00.000000000",
          "2025-06-11T19:51:00.000000000",
          "2025-06-11T19:52:00.000000000",
          "2025-06-11T19:53:00.000000000",
          "2025-06-11T19:54:00.000000000",
          "2025-06-11T19:55:00.000000000",
          "2025-06-11T19:56:00.000000000",
          "2025-06-11T19:57:00.000000000",
          "2025-06-11T19:58:00.000000000",
          "2025-06-11T19:59:00.000000000",
          "2025-06-11T20:00:00.000000000",
          "2025-06-11T20:01:00.000000000",
          "2025-06-11T20:02:00.000000000",
          "2025-06-11T20:03:00.000000000",
          "2025-06-11T20:04:00.000000000",
          "2025-06-11T20:05:00.000000000",
          "2025-06-11T20:06:00.000000000",
          "2025-06-11T20:07:00.000000000",
          "2025-06-11T20:08:00.000000000",
          "2025-06-11T20:09:00.000000000",
          "2025-06-11T20:10:00.000000000",
          "2025-06-11T20:11:00.000000000",
          "2025-06-11T20:12:00.000000000",
          "2025-06-11T20:13:00.000000000",
          "2025-06-11T20:14:00.000000000",
          "2025-06-11T20:15:00.000000000",
          "2025-06-11T20:16:00.000000000",
          "2025-06-11T20:17:00.000000000",
          "2025-06-11T20:18:00.000000000",
          "2025-06-11T20:19:00.000000000",
          "2025-06-11T20:20:00.000000000",
          "2025-06-11T20:21:00.000000000",
          "2025-06-11T20:22:00.000000000",
          "2025-06-11T20:23:00.000000000",
          "2025-06-11T20:24:00.000000000",
          "2025-06-11T20:25:00.000000000",
          "2025-06-11T20:26:00.000000000",
          "2025-06-11T20:27:00.000000000",
          "2025-06-11T20:28:00.000000000",
          "2025-06-11T20:29:00.000000000",
          "2025-06-11T20:30:00.000000000",
          "2025-06-11T20:31:00.000000000",
          "2025-06-11T20:32:00.000000000",
          "2025-06-11T20:33:00.000000000",
          "2025-06-11T20:34:00.000000000",
          "2025-06-11T20:35:00.000000000",
          "2025-06-11T20:36:00.000000000",
          "2025-06-11T20:37:00.000000000",
          "2025-06-11T20:38:00.000000000",
          "2025-06-11T20:39:00.000000000",
          "2025-06-11T20:40:00.000000000",
          "2025-06-11T20:41:00.000000000",
          "2025-06-11T20:42:00.000000000",
          "2025-06-11T20:43:00.000000000",
          "2025-06-11T20:44:00.000000000",
          "2025-06-11T20:45:00.000000000",
          "2025-06-11T20:46:00.000000000",
          "2025-06-11T20:47:00.000000000",
          "2025-06-11T20:48:00.000000000",
          "2025-06-11T20:49:00.000000000",
          "2025-06-11T20:50:00.000000000",
          "2025-06-11T20:51:00.000000000",
          "2025-06-11T20:52:00.000000000",
          "2025-06-11T20:53:00.000000000",
          "2025-06-11T20:54:00.000000000",
          "2025-06-11T20:55:00.000000000",
          "2025-06-11T20:56:00.000000000",
          "2025-06-11T20:57:00.000000000",
          "2025-06-11T20:58:00.000000000",
          "2025-06-11T20:59:00.000000000",
          "2025-06-11T21:00:00.000000000"
         ],
         "y": {
          "bdata": "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",
          "dtype": "f8"
         },
         "yaxis": "y2"
        }
       ],
       "layout": {
        "annotations": [
         {
          "font": {
           "color": "orange"
          },
          "showarrow": false,
          "text": "TA Trade 1<br>$: 0.013<br>%: 0.008",
          "x": "2025-06-11T18:40:00",
          "xanchor": "left",
          "xref": "x",
          "y": 1,
          "yanchor": "top",
          "yref": "y domain"
         },
         {
          "font": {
           "color": "orange"
          },
          "showarrow": false,
          "text": "TA Trade 2<br>$: -0.176<br>%: -0.099",
          "x": "2025-06-11T20:00:00",
          "xanchor": "left",
          "xref": "x",
          "y": 1,
          "yanchor": "top",
          "yref": "y domain"
         },
         {
          "showarrow": false,
          "text": "Buy Threshold",
          "x": 0,
          "xanchor": "left",
          "xref": "x domain",
          "y": 0.3,
          "yanchor": "bottom",
          "yref": "y2"
         }
        ],
        "height": 700,
        "hovermode": "x unified",
        "shapes": [
         {
          "fillcolor": "orange",
          "line": {
           "width": 0
          },
          "opacity": 0.25,
          "type": "rect",
          "x0": "2025-06-11T18:40:00",
          "x1": "2025-06-11T19:55:00",
          "xref": "x",
          "y0": 0,
          "y1": 1,
          "yref": "y domain"
         },
         {
          "fillcolor": "orange",
          "line": {
           "width": 0
          },
          "opacity": 0.25,
          "type": "rect",
          "x0": "2025-06-11T20:00:00",
          "x1": "2025-06-11T20:51:00",
          "xref": "x",
          "y0": 0,
          "y1": 1,
          "yref": "y domain"
         },
         {
          "line": {
           "color": "purple",
           "dash": "dot"
          },
          "type": "line",
          "x0": 0,
          "x1": 1,
          "xref": "x domain",
          "y0": 0.3,
          "y1": 0.3,
          "yref": "y2"
         }
        ],
        "template": {
         "data": {
          "bar": [
           {
            "error_x": {
             "color": "#2a3f5f"
            },
            "error_y": {
             "color": "#2a3f5f"
            },
            "marker": {
             "line": {
              "color": "white",
              "width": 0.5
             },
             "pattern": {
              "fillmode": "overlay",
              "size": 10,
              "solidity": 0.2
             }
            },
            "type": "bar"
           }
          ],
          "barpolar": [
           {
            "marker": {
             "line": {
              "color": "white",
              "width": 0.5
             },
             "pattern": {
              "fillmode": "overlay",
              "size": 10,
              "solidity": 0.2
             }
            },
            "type": "barpolar"
           }
          ],
          "carpet": [
           {
            "aaxis": {
             "endlinecolor": "#2a3f5f",
             "gridcolor": "#C8D4E3",
             "linecolor": "#C8D4E3",
             "minorgridcolor": "#C8D4E3",
             "startlinecolor": "#2a3f5f"
            },
            "baxis": {
             "endlinecolor": "#2a3f5f",
             "gridcolor": "#C8D4E3",
             "linecolor": "#C8D4E3",
             "minorgridcolor": "#C8D4E3",
             "startlinecolor": "#2a3f5f"
            },
            "type": "carpet"
           }
          ],
          "choropleth": [
           {
            "colorbar": {
             "outlinewidth": 0,
             "ticks": ""
            },
            "type": "choropleth"
           }
          ],
          "contour": [
           {
            "colorbar": {
             "outlinewidth": 0,
             "ticks": ""
            },
            "colorscale": [
             [
              0,
              "#0d0887"
             ],
             [
              0.1111111111111111,
              "#46039f"
             ],
             [
              0.2222222222222222,
              "#7201a8"
             ],
             [
              0.3333333333333333,
              "#9c179e"
             ],
             [
              0.4444444444444444,
              "#bd3786"
             ],
             [
              0.5555555555555556,
              "#d8576b"
             ],
             [
              0.6666666666666666,
              "#ed7953"
             ],
             [
              0.7777777777777778,
              "#fb9f3a"
             ],
             [
              0.8888888888888888,
              "#fdca26"
             ],
             [
              1,
              "#f0f921"
             ]
            ],
            "type": "contour"
           }
          ],
          "contourcarpet": [
           {
            "colorbar": {
             "outlinewidth": 0,
             "ticks": ""
            },
            "type": "contourcarpet"
           }
          ],
          "heatmap": [
           {
            "colorbar": {
             "outlinewidth": 0,
             "ticks": ""
            },
            "colorscale": [
             [
              0,
              "#0d0887"
             ],
             [
              0.1111111111111111,
              "#46039f"
             ],
             [
              0.2222222222222222,
              "#7201a8"
             ],
             [
              0.3333333333333333,
              "#9c179e"
             ],
             [
              0.4444444444444444,
              "#bd3786"
             ],
             [
              0.5555555555555556,
              "#d8576b"
             ],
             [
              0.6666666666666666,
              "#ed7953"
             ],
             [
              0.7777777777777778,
              "#fb9f3a"
             ],
             [
              0.8888888888888888,
              "#fdca26"
             ],
             [
              1,
              "#f0f921"
             ]
            ],
            "type": "heatmap"
           }
          ],
          "histogram": [
           {
            "marker": {
             "pattern": {
              "fillmode": "overlay",
              "size": 10,
              "solidity": 0.2
             }
            },
            "type": "histogram"
           }
          ],
          "histogram2d": [
           {
            "colorbar": {
             "outlinewidth": 0,
             "ticks": ""
            },
            "colorscale": [
             [
              0,
              "#0d0887"
             ],
             [
              0.1111111111111111,
              "#46039f"
             ],
             [
              0.2222222222222222,
              "#7201a8"
             ],
             [
              0.3333333333333333,
              "#9c179e"
             ],
             [
              0.4444444444444444,
              "#bd3786"
             ],
             [
              0.5555555555555556,
              "#d8576b"
             ],
             [
              0.6666666666666666,
              "#ed7953"
             ],
             [
              0.7777777777777778,
              "#fb9f3a"
             ],
             [
              0.8888888888888888,
              "#fdca26"
             ],
             [
              1,
              "#f0f921"
             ]
            ],
            "type": "histogram2d"
           }
          ],
          "histogram2dcontour": [
           {
            "colorbar": {
             "outlinewidth": 0,
             "ticks": ""
            },
            "colorscale": [
             [
              0,
              "#0d0887"
             ],
             [
              0.1111111111111111,
              "#46039f"
             ],
             [
              0.2222222222222222,
              "#7201a8"
             ],
             [
              0.3333333333333333,
              "#9c179e"
             ],
             [
              0.4444444444444444,
              "#bd3786"
             ],
             [
              0.5555555555555556,
              "#d8576b"
             ],
             [
              0.6666666666666666,
              "#ed7953"
             ],
             [
              0.7777777777777778,
              "#fb9f3a"
             ],
             [
              0.8888888888888888,
              "#fdca26"
             ],
             [
              1,
              "#f0f921"
             ]
            ],
            "type": "histogram2dcontour"
           }
          ],
          "mesh3d": [
           {
            "colorbar": {
             "outlinewidth": 0,
             "ticks": ""
            },
            "type": "mesh3d"
           }
          ],
          "parcoords": [
           {
            "line": {
             "colorbar": {
              "outlinewidth": 0,
              "ticks": ""
             }
            },
            "type": "parcoords"
           }
          ],
          "pie": [
           {
            "automargin": true,
            "type": "pie"
           }
          ],
          "scatter": [
           {
            "fillpattern": {
             "fillmode": "overlay",
             "size": 10,
             "solidity": 0.2
            },
            "type": "scatter"
           }
          ],
          "scatter3d": [
           {
            "line": {
             "colorbar": {
              "outlinewidth": 0,
              "ticks": ""
             }
            },
            "marker": {
             "colorbar": {
              "outlinewidth": 0,
              "ticks": ""
             }
            },
            "type": "scatter3d"
           }
          ],
          "scattercarpet": [
           {
            "marker": {
             "colorbar": {
              "outlinewidth": 0,
              "ticks": ""
             }
            },
            "type": "scattercarpet"
           }
          ],
          "scattergeo": [
           {
            "marker": {
             "colorbar": {
              "outlinewidth": 0,
              "ticks": ""
             }
            },
            "type": "scattergeo"
           }
          ],
          "scattergl": [
           {
            "marker": {
             "colorbar": {
              "outlinewidth": 0,
              "ticks": ""
             }
            },
            "type": "scattergl"
           }
          ],
          "scattermap": [
           {
            "marker": {
             "colorbar": {
              "outlinewidth": 0,
              "ticks": ""
             }
            },
            "type": "scattermap"
           }
          ],
          "scattermapbox": [
           {
            "marker": {
             "colorbar": {
              "outlinewidth": 0,
              "ticks": ""
             }
            },
            "type": "scattermapbox"
           }
          ],
          "scatterpolar": [
           {
            "marker": {
             "colorbar": {
              "outlinewidth": 0,
              "ticks": ""
             }
            },
            "type": "scatterpolar"
           }
          ],
          "scatterpolargl": [
           {
            "marker": {
             "colorbar": {
              "outlinewidth": 0,
              "ticks": ""
             }
            },
            "type": "scatterpolargl"
           }
          ],
          "scatterternary": [
           {
            "marker": {
             "colorbar": {
              "outlinewidth": 0,
              "ticks": ""
             }
            },
            "type": "scatterternary"
           }
          ],
          "surface": [
           {
            "colorbar": {
             "outlinewidth": 0,
             "ticks": ""
            },
            "colorscale": [
             [
              0,
              "#0d0887"
             ],
             [
              0.1111111111111111,
              "#46039f"
             ],
             [
              0.2222222222222222,
              "#7201a8"
             ],
             [
              0.3333333333333333,
              "#9c179e"
             ],
             [
              0.4444444444444444,
              "#bd3786"
             ],
             [
              0.5555555555555556,
              "#d8576b"
             ],
             [
              0.6666666666666666,
              "#ed7953"
             ],
             [
              0.7777777777777778,
              "#fb9f3a"
             ],
             [
              0.8888888888888888,
              "#fdca26"
             ],
             [
              1,
              "#f0f921"
             ]
            ],
            "type": "surface"
           }
          ],
          "table": [
           {
            "cells": {
             "fill": {
              "color": "#EBF0F8"
             },
             "line": {
              "color": "white"
             }
            },
            "header": {
             "fill": {
              "color": "#C8D4E3"
             },
             "line": {
              "color": "white"
             }
            },
            "type": "table"
           }
          ]
         },
         "layout": {
          "annotationdefaults": {
           "arrowcolor": "#2a3f5f",
           "arrowhead": 0,
           "arrowwidth": 1
          },
          "autotypenumbers": "strict",
          "coloraxis": {
           "colorbar": {
            "outlinewidth": 0,
            "ticks": ""
           }
          },
          "colorscale": {
           "diverging": [
            [
             0,
             "#8e0152"
            ],
            [
             0.1,
             "#c51b7d"
            ],
            [
             0.2,
             "#de77ae"
            ],
            [
             0.3,
             "#f1b6da"
            ],
            [
             0.4,
             "#fde0ef"
            ],
            [
             0.5,
             "#f7f7f7"
            ],
            [
             0.6,
             "#e6f5d0"
            ],
            [
             0.7,
             "#b8e186"
            ],
            [
             0.8,
             "#7fbc41"
            ],
            [
             0.9,
             "#4d9221"
            ],
            [
             1,
             "#276419"
            ]
           ],
           "sequential": [
            [
             0,
             "#0d0887"
            ],
            [
             0.1111111111111111,
             "#46039f"
            ],
            [
             0.2222222222222222,
             "#7201a8"
            ],
            [
             0.3333333333333333,
             "#9c179e"
            ],
            [
             0.4444444444444444,
             "#bd3786"
            ],
            [
             0.5555555555555556,
             "#d8576b"
            ],
            [
             0.6666666666666666,
             "#ed7953"
            ],
            [
             0.7777777777777778,
             "#fb9f3a"
            ],
            [
             0.8888888888888888,
             "#fdca26"
            ],
            [
             1,
             "#f0f921"
            ]
           ],
           "sequentialminus": [
            [
             0,
             "#0d0887"
            ],
            [
             0.1111111111111111,
             "#46039f"
            ],
            [
             0.2222222222222222,
             "#7201a8"
            ],
            [
             0.3333333333333333,
             "#9c179e"
            ],
            [
             0.4444444444444444,
             "#bd3786"
            ],
            [
             0.5555555555555556,
             "#d8576b"
            ],
            [
             0.6666666666666666,
             "#ed7953"
            ],
            [
             0.7777777777777778,
             "#fb9f3a"
            ],
            [
             0.8888888888888888,
             "#fdca26"
            ],
            [
             1,
             "#f0f921"
            ]
           ]
          },
          "colorway": [
           "#636efa",
           "#EF553B",
           "#00cc96",
           "#ab63fa",
           "#FFA15A",
           "#19d3f3",
           "#FF6692",
           "#B6E880",
           "#FF97FF",
           "#FECB52"
          ],
          "font": {
           "color": "#2a3f5f"
          },
          "geo": {
           "bgcolor": "white",
           "lakecolor": "white",
           "landcolor": "white",
           "showlakes": true,
           "showland": true,
           "subunitcolor": "#C8D4E3"
          },
          "hoverlabel": {
           "align": "left"
          },
          "hovermode": "closest",
          "mapbox": {
           "style": "light"
          },
          "paper_bgcolor": "white",
          "plot_bgcolor": "white",
          "polar": {
           "angularaxis": {
            "gridcolor": "#EBF0F8",
            "linecolor": "#EBF0F8",
            "ticks": ""
           },
           "bgcolor": "white",
           "radialaxis": {
            "gridcolor": "#EBF0F8",
            "linecolor": "#EBF0F8",
            "ticks": ""
           }
          },
          "scene": {
           "xaxis": {
            "backgroundcolor": "white",
            "gridcolor": "#DFE8F3",
            "gridwidth": 2,
            "linecolor": "#EBF0F8",
            "showbackground": true,
            "ticks": "",
            "zerolinecolor": "#EBF0F8"
           },
           "yaxis": {
            "backgroundcolor": "white",
            "gridcolor": "#DFE8F3",
            "gridwidth": 2,
            "linecolor": "#EBF0F8",
            "showbackground": true,
            "ticks": "",
            "zerolinecolor": "#EBF0F8"
           },
           "zaxis": {
            "backgroundcolor": "white",
            "gridcolor": "#DFE8F3",
            "gridwidth": 2,
            "linecolor": "#EBF0F8",
            "showbackground": true,
            "ticks": "",
            "zerolinecolor": "#EBF0F8"
           }
          },
          "shapedefaults": {
           "line": {
            "color": "#2a3f5f"
           }
          },
          "ternary": {
           "aaxis": {
            "gridcolor": "#DFE8F3",
            "linecolor": "#A2B1C6",
            "ticks": ""
           },
           "baxis": {
            "gridcolor": "#DFE8F3",
            "linecolor": "#A2B1C6",
            "ticks": ""
           },
           "bgcolor": "white",
           "caxis": {
            "gridcolor": "#DFE8F3",
            "linecolor": "#A2B1C6",
            "ticks": ""
           }
          },
          "title": {
           "x": 0.05
          },
          "xaxis": {
           "automargin": true,
           "gridcolor": "#EBF0F8",
           "linecolor": "#EBF0F8",
           "ticks": "",
           "title": {
            "standoff": 15
           },
           "zerolinecolor": "#EBF0F8",
           "zerolinewidth": 2
          },
          "yaxis": {
           "automargin": true,
           "gridcolor": "#EBF0F8",
           "linecolor": "#EBF0F8",
           "ticks": "",
           "title": {
            "standoff": 15
           },
           "zerolinecolor": "#EBF0F8",
           "zerolinewidth": 2
          }
         }
        },
        "title": {
         "text": "Close Price, Trade Intervals, and Signals"
        },
        "updatemenus": [
         {
          "buttons": [
           {
            "args": [
             {
              "visible": [
               true,
               true,
               true
              ]
             }
            ],
            "label": "Hide Trades",
            "method": "update"
           },
           {
            "args": [
             {
              "visible": [
               true,
               true,
               true
              ]
             }
            ],
            "label": "Show Trades",
            "method": "update"
           }
          ],
          "direction": "left",
          "pad": {
           "r": 10,
           "t": 10
          },
          "showactive": true,
          "type": "buttons",
          "x": 0.9,
          "xanchor": "left",
          "y": 1.1,
          "yanchor": "top"
         }
        ],
        "xaxis": {
         "title": {
          "text": "Datetime"
         }
        },
        "yaxis": {
         "title": {
          "text": "Close Price"
         }
        },
        "yaxis2": {
         "overlaying": "y",
         "showgrid": false,
         "side": "right",
         "title": {
          "text": "Signal (Normalized)"
         }
        }
       }
      },
      "image/png": "[encoded data removed]"
     },
     "metadata": {},
     "output_type": "display_data"
    },
    {
     "name": "stdout",
     "output_type": "stream",
     "text": [
      "  → no simulation data for 2025-06-14, skipping.\n"
     ]
    },
    {
     "data": {
      "text/plain": [
       "{'Final Net Value ($)': -0.163,\n",
       " 'Buy & Hold Gain ($)': -2.417,\n",
       " 'Strategy Profit Difference ($)': 2.254,\n",
       " 'Final Net Return (%)': -0.091,\n",
       " 'Buy & Hold Return (%)': -1.345,\n",
       " 'Strategy Improvement (%)': 1.254,\n",
       " 'Trade Gains ($)': [0.013, -0.176],\n",
       " 'Trade Gains (%)': [0.008, -0.099]}"
      ]
     },
     "execution_count": 20,
     "metadata": {},
     "output_type": "execute_result"
    }
   ],
   "source": [
    "# Choose which days to plot (as pandas Timestamps or ISO strings)\n",
    "#    For example, let the user pick:\n",
    "days_to_plot = [\n",
    "    pd.to_datetime(\"2025-06-10\"),\n",
    "    pd.to_datetime(\"2025-06-11\"),\n",
    "    pd.to_datetime(\"2025-06-14\"),\n",
    "]\n",
    "\n",
    "# Loop and plot\n",
    "for day in days_to_plot:\n",
    "    if day not in sim_results:\n",
    "        print(f\"  → no simulation data for {day.date()}, skipping.\")\n",
    "        continue\n",
    "\n",
    "    df_sim, trades_list, perf_stats = sim_results[day]\n",
    "\n",
    "    # call plot_trades from your trading library\n",
    "    plots.plot_trades(\n",
    "        df                = df_sim,\n",
    "        col_signal1       = \"pred_signal\",\n",
    "        col_signal2       = \"signal_smooth\",\n",
    "        col_action        = \"pred_action\",          # the same discrete signal column\n",
    "        trades            = trades_list,            # original trade tuple list\n",
    "        buy_threshold     = params.pred_threshold_man,  # for the horizontal line\n",
    "        performance_stats = perf_stats\n",
    "    )\n",
    "\n",
    "perf_stats"
   ]
  },
  {
   "cell_type": "code",
   "execution_count": null,
   "id": "08efbd70-ae18-4653-a023-aa7f2cc81b82",
   "metadata": {},
   "outputs": [],
   "source": []
  },
  {
   "cell_type": "code",
   "execution_count": null,
   "id": "08c001ed-12ec-4ab7-b2c2-5becb4b20c61",
   "metadata": {},
   "outputs": [],
   "source": []
  },
  {
   "cell_type": "code",
   "execution_count": null,
   "id": "991190c5-0fc8-4fb4-8d34-fda8cd89bdc1",
   "metadata": {},
   "outputs": [],
   "source": []
  },
  {
   "cell_type": "code",
   "execution_count": null,
   "id": "5ae299c4-6524-43fe-a448-90f3c8356421",
   "metadata": {},
   "outputs": [],
   "source": []
  },
  {
   "cell_type": "code",
   "execution_count": null,
   "id": "7e3d6b0e-c420-4302-a881-5d27d6d63f86",
   "metadata": {},
   "outputs": [],
   "source": []
  },
  {
   "cell_type": "code",
   "execution_count": null,
   "id": "1fa2db1a-6a68-4b7e-9aa8-d41a097eb2f9",
   "metadata": {},
   "outputs": [],
   "source": []
  }
 ],
 "metadata": {
  "kernelspec": {
   "display_name": "Python 3 (ipykernel)",
   "language": "python",
   "name": "python3"
  },
  "language_info": {
   "codemirror_mode": {
    "name": "ipython",
    "version": 3
   },
   "file_extension": ".py",
   "mimetype": "text/x-python",
   "name": "python",
   "nbconvert_exporter": "python",
   "pygments_lexer": "ipython3",
   "version": "3.12.3"
  }
 },
 "nbformat": 4,
 "nbformat_minor": 5
}
