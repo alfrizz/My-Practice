{
 "cells": [
  {
   "cell_type": "code",
   "execution_count": 1,
   "id": "8d702d5b-d0fb-48ab-9a48-134bb847bab5",
   "metadata": {},
   "outputs": [],
   "source": [
    "# 1) Wipe out all Python variables\n",
    "%reset -f\n",
    "# 2) Force Python’s garbage collector to run\n",
    "import gc\n",
    "gc.collect()\n",
    "\n",
    "import importlib\n",
    "from libs import trades, plots, params, models\n",
    "importlib.reload(trades)\n",
    "importlib.reload(plots)\n",
    "importlib.reload(params)\n",
    "importlib.reload(models)\n",
    "\n",
    "import os\n",
    "import json\n",
    "import numpy as np\n",
    "import pandas as pd\n",
    "import datetime as dt\n",
    "from pathlib import Path\n",
    "import matplotlib.pyplot as plt\n",
    "\n",
    "import torch\n",
    "from torch import nn\n",
    "from torch.utils.data import DataLoader, TensorDataset\n",
    "from torch.optim import AdamW\n",
    "from torch.optim.lr_scheduler import ReduceLROnPlateau, CosineAnnealingWarmRestarts\n",
    "from torch.cuda.amp import GradScaler, autocast\n",
    "\n",
    "import optuna\n",
    "from optuna.pruners import MedianPruner\n",
    "from optuna.exceptions import TrialPruned\n",
    "from optuna.importance import get_param_importances\n",
    "\n",
    "from tqdm.auto import tqdm\n"
   ]
  },
  {
   "cell_type": "code",
   "execution_count": 2,
   "id": "a9498b30-9abb-4123-87f1-0ed191478e49",
   "metadata": {},
   "outputs": [
    {
     "name": "stdout",
     "output_type": "stream",
     "text": [
      "Using device: cuda\n"
     ]
    }
   ],
   "source": [
    "ticker         = params.ticker\n",
    "features_cols  = params.features_cols\n",
    "label_col      = params.label_col\n",
    "look_back      = params.look_back \n",
    "\n",
    "save_path = Path(params.save_path)\n",
    "in_path   = save_path / f\"{ticker}_ready.csv\"\n",
    "out_path  = save_path / f\"{ticker}_final.csv\"\n",
    "\n",
    "# USE GPU if available, otherwise fallback to CPU\n",
    "device = params.device\n",
    "print(\"Using device:\", device)"
   ]
  },
  {
   "cell_type": "code",
   "execution_count": 3,
   "id": "2497bbf7-991e-484d-b0dc-f352f0190b40",
   "metadata": {},
   "outputs": [
    {
     "name": "stdout",
     "output_type": "stream",
     "text": [
      "→ Running feature_engineering on GOOGL_ready.csv\n",
      "→ Saving enriched data to GOOGL_final.csv\n"
     ]
    },
    {
     "data": {
      "text/html": [
       "<div>\n",
       "<style scoped>\n",
       "    .dataframe tbody tr th:only-of-type {\n",
       "        vertical-align: middle;\n",
       "    }\n",
       "\n",
       "    .dataframe tbody tr th {\n",
       "        vertical-align: top;\n",
       "    }\n",
       "\n",
       "    .dataframe thead th {\n",
       "        text-align: right;\n",
       "    }\n",
       "</style>\n",
       "<table border=\"1\" class=\"dataframe\">\n",
       "  <thead>\n",
       "    <tr style=\"text-align: right;\">\n",
       "      <th></th>\n",
       "      <th>open</th>\n",
       "      <th>high</th>\n",
       "      <th>low</th>\n",
       "      <th>close</th>\n",
       "      <th>volume</th>\n",
       "      <th>r_1</th>\n",
       "      <th>r_5</th>\n",
       "      <th>r_15</th>\n",
       "      <th>vol_15</th>\n",
       "      <th>volume_spike</th>\n",
       "      <th>vwap_dev</th>\n",
       "      <th>rsi_14</th>\n",
       "      <th>bid</th>\n",
       "      <th>ask</th>\n",
       "      <th>signal_smooth</th>\n",
       "    </tr>\n",
       "  </thead>\n",
       "  <tbody>\n",
       "    <tr>\n",
       "      <th>2014-04-03 12:06:00</th>\n",
       "      <td>28.644845</td>\n",
       "      <td>28.644845</td>\n",
       "      <td>28.644845</td>\n",
       "      <td>28.644845</td>\n",
       "      <td>4580.0</td>\n",
       "      <td>-0.000180</td>\n",
       "      <td>-0.000180</td>\n",
       "      <td>-0.000180</td>\n",
       "      <td>0.000046</td>\n",
       "      <td>0.568641</td>\n",
       "      <td>-0.000177</td>\n",
       "      <td>0.000000</td>\n",
       "      <td>28.636251</td>\n",
       "      <td>28.653438</td>\n",
       "      <td>0.162925</td>\n",
       "    </tr>\n",
       "    <tr>\n",
       "      <th>2014-04-03 12:07:00</th>\n",
       "      <td>28.639690</td>\n",
       "      <td>28.639690</td>\n",
       "      <td>28.639690</td>\n",
       "      <td>28.639690</td>\n",
       "      <td>4540.0</td>\n",
       "      <td>-0.000180</td>\n",
       "      <td>-0.000360</td>\n",
       "      <td>-0.000360</td>\n",
       "      <td>0.000063</td>\n",
       "      <td>0.570338</td>\n",
       "      <td>-0.000352</td>\n",
       "      <td>0.000000</td>\n",
       "      <td>28.631098</td>\n",
       "      <td>28.648282</td>\n",
       "      <td>0.164530</td>\n",
       "    </tr>\n",
       "    <tr>\n",
       "      <th>2014-04-03 12:08:00</th>\n",
       "      <td>28.634534</td>\n",
       "      <td>28.634534</td>\n",
       "      <td>28.634534</td>\n",
       "      <td>28.634534</td>\n",
       "      <td>4500.0</td>\n",
       "      <td>-0.000180</td>\n",
       "      <td>-0.000540</td>\n",
       "      <td>-0.000540</td>\n",
       "      <td>0.000075</td>\n",
       "      <td>0.574408</td>\n",
       "      <td>-0.000524</td>\n",
       "      <td>0.000000</td>\n",
       "      <td>28.625944</td>\n",
       "      <td>28.643125</td>\n",
       "      <td>0.166141</td>\n",
       "    </tr>\n",
       "    <tr>\n",
       "      <th>2014-04-03 12:09:00</th>\n",
       "      <td>28.629379</td>\n",
       "      <td>28.629379</td>\n",
       "      <td>28.629379</td>\n",
       "      <td>28.629379</td>\n",
       "      <td>4460.0</td>\n",
       "      <td>-0.000180</td>\n",
       "      <td>-0.000720</td>\n",
       "      <td>-0.000720</td>\n",
       "      <td>0.000082</td>\n",
       "      <td>0.581017</td>\n",
       "      <td>-0.000694</td>\n",
       "      <td>0.000000</td>\n",
       "      <td>28.620791</td>\n",
       "      <td>28.637968</td>\n",
       "      <td>0.167757</td>\n",
       "    </tr>\n",
       "    <tr>\n",
       "      <th>2014-04-03 12:10:00</th>\n",
       "      <td>28.624224</td>\n",
       "      <td>28.624224</td>\n",
       "      <td>28.624224</td>\n",
       "      <td>28.624224</td>\n",
       "      <td>4420.0</td>\n",
       "      <td>-0.000180</td>\n",
       "      <td>-0.000900</td>\n",
       "      <td>-0.000900</td>\n",
       "      <td>0.000088</td>\n",
       "      <td>0.590413</td>\n",
       "      <td>-0.000862</td>\n",
       "      <td>0.000000</td>\n",
       "      <td>28.615637</td>\n",
       "      <td>28.632811</td>\n",
       "      <td>0.169381</td>\n",
       "    </tr>\n",
       "    <tr>\n",
       "      <th>...</th>\n",
       "      <td>...</td>\n",
       "      <td>...</td>\n",
       "      <td>...</td>\n",
       "      <td>...</td>\n",
       "      <td>...</td>\n",
       "      <td>...</td>\n",
       "      <td>...</td>\n",
       "      <td>...</td>\n",
       "      <td>...</td>\n",
       "      <td>...</td>\n",
       "      <td>...</td>\n",
       "      <td>...</td>\n",
       "      <td>...</td>\n",
       "      <td>...</td>\n",
       "      <td>...</td>\n",
       "    </tr>\n",
       "    <tr>\n",
       "      <th>2025-06-17 20:56:00</th>\n",
       "      <td>176.090000</td>\n",
       "      <td>176.160000</td>\n",
       "      <td>176.010000</td>\n",
       "      <td>176.050000</td>\n",
       "      <td>126589.0</td>\n",
       "      <td>-0.000284</td>\n",
       "      <td>-0.000681</td>\n",
       "      <td>-0.001297</td>\n",
       "      <td>0.000443</td>\n",
       "      <td>1.610125</td>\n",
       "      <td>1.217786</td>\n",
       "      <td>39.325843</td>\n",
       "      <td>175.997200</td>\n",
       "      <td>176.102800</td>\n",
       "      <td>0.000000</td>\n",
       "    </tr>\n",
       "    <tr>\n",
       "      <th>2025-06-17 20:57:00</th>\n",
       "      <td>176.050000</td>\n",
       "      <td>176.080000</td>\n",
       "      <td>175.890000</td>\n",
       "      <td>175.930000</td>\n",
       "      <td>125176.0</td>\n",
       "      <td>-0.000682</td>\n",
       "      <td>-0.000398</td>\n",
       "      <td>-0.001761</td>\n",
       "      <td>0.000469</td>\n",
       "      <td>1.478464</td>\n",
       "      <td>1.216271</td>\n",
       "      <td>34.328358</td>\n",
       "      <td>175.877200</td>\n",
       "      <td>175.982800</td>\n",
       "      <td>0.000000</td>\n",
       "    </tr>\n",
       "    <tr>\n",
       "      <th>2025-06-17 20:58:00</th>\n",
       "      <td>175.930000</td>\n",
       "      <td>175.975000</td>\n",
       "      <td>175.860000</td>\n",
       "      <td>175.890000</td>\n",
       "      <td>200235.0</td>\n",
       "      <td>-0.000227</td>\n",
       "      <td>-0.001023</td>\n",
       "      <td>-0.002016</td>\n",
       "      <td>0.000468</td>\n",
       "      <td>2.096227</td>\n",
       "      <td>1.215761</td>\n",
       "      <td>29.648241</td>\n",
       "      <td>175.837200</td>\n",
       "      <td>175.942800</td>\n",
       "      <td>0.000000</td>\n",
       "    </tr>\n",
       "    <tr>\n",
       "      <th>2025-06-17 20:59:00</th>\n",
       "      <td>175.900000</td>\n",
       "      <td>175.970000</td>\n",
       "      <td>175.800000</td>\n",
       "      <td>175.930000</td>\n",
       "      <td>393414.0</td>\n",
       "      <td>0.000227</td>\n",
       "      <td>-0.001136</td>\n",
       "      <td>-0.002073</td>\n",
       "      <td>0.000464</td>\n",
       "      <td>3.295458</td>\n",
       "      <td>1.216254</td>\n",
       "      <td>25.925926</td>\n",
       "      <td>175.877200</td>\n",
       "      <td>175.982800</td>\n",
       "      <td>0.000000</td>\n",
       "    </tr>\n",
       "    <tr>\n",
       "      <th>2025-06-17 21:00:00</th>\n",
       "      <td>175.930000</td>\n",
       "      <td>176.040000</td>\n",
       "      <td>175.800000</td>\n",
       "      <td>175.950000</td>\n",
       "      <td>5670184.0</td>\n",
       "      <td>0.000114</td>\n",
       "      <td>-0.000852</td>\n",
       "      <td>-0.002469</td>\n",
       "      <td>0.000435</td>\n",
       "      <td>11.461178</td>\n",
       "      <td>1.216344</td>\n",
       "      <td>27.748691</td>\n",
       "      <td>175.897200</td>\n",
       "      <td>176.002800</td>\n",
       "      <td>0.000000</td>\n",
       "    </tr>\n",
       "  </tbody>\n",
       "</table>\n",
       "<p>1473635 rows × 15 columns</p>\n",
       "</div>"
      ],
      "text/plain": [
       "                           open        high         low       close  \\\n",
       "2014-04-03 12:06:00   28.644845   28.644845   28.644845   28.644845   \n",
       "2014-04-03 12:07:00   28.639690   28.639690   28.639690   28.639690   \n",
       "2014-04-03 12:08:00   28.634534   28.634534   28.634534   28.634534   \n",
       "2014-04-03 12:09:00   28.629379   28.629379   28.629379   28.629379   \n",
       "2014-04-03 12:10:00   28.624224   28.624224   28.624224   28.624224   \n",
       "...                         ...         ...         ...         ...   \n",
       "2025-06-17 20:56:00  176.090000  176.160000  176.010000  176.050000   \n",
       "2025-06-17 20:57:00  176.050000  176.080000  175.890000  175.930000   \n",
       "2025-06-17 20:58:00  175.930000  175.975000  175.860000  175.890000   \n",
       "2025-06-17 20:59:00  175.900000  175.970000  175.800000  175.930000   \n",
       "2025-06-17 21:00:00  175.930000  176.040000  175.800000  175.950000   \n",
       "\n",
       "                        volume       r_1       r_5      r_15    vol_15  \\\n",
       "2014-04-03 12:06:00     4580.0 -0.000180 -0.000180 -0.000180  0.000046   \n",
       "2014-04-03 12:07:00     4540.0 -0.000180 -0.000360 -0.000360  0.000063   \n",
       "2014-04-03 12:08:00     4500.0 -0.000180 -0.000540 -0.000540  0.000075   \n",
       "2014-04-03 12:09:00     4460.0 -0.000180 -0.000720 -0.000720  0.000082   \n",
       "2014-04-03 12:10:00     4420.0 -0.000180 -0.000900 -0.000900  0.000088   \n",
       "...                        ...       ...       ...       ...       ...   \n",
       "2025-06-17 20:56:00   126589.0 -0.000284 -0.000681 -0.001297  0.000443   \n",
       "2025-06-17 20:57:00   125176.0 -0.000682 -0.000398 -0.001761  0.000469   \n",
       "2025-06-17 20:58:00   200235.0 -0.000227 -0.001023 -0.002016  0.000468   \n",
       "2025-06-17 20:59:00   393414.0  0.000227 -0.001136 -0.002073  0.000464   \n",
       "2025-06-17 21:00:00  5670184.0  0.000114 -0.000852 -0.002469  0.000435   \n",
       "\n",
       "                     volume_spike  vwap_dev     rsi_14         bid  \\\n",
       "2014-04-03 12:06:00      0.568641 -0.000177   0.000000   28.636251   \n",
       "2014-04-03 12:07:00      0.570338 -0.000352   0.000000   28.631098   \n",
       "2014-04-03 12:08:00      0.574408 -0.000524   0.000000   28.625944   \n",
       "2014-04-03 12:09:00      0.581017 -0.000694   0.000000   28.620791   \n",
       "2014-04-03 12:10:00      0.590413 -0.000862   0.000000   28.615637   \n",
       "...                           ...       ...        ...         ...   \n",
       "2025-06-17 20:56:00      1.610125  1.217786  39.325843  175.997200   \n",
       "2025-06-17 20:57:00      1.478464  1.216271  34.328358  175.877200   \n",
       "2025-06-17 20:58:00      2.096227  1.215761  29.648241  175.837200   \n",
       "2025-06-17 20:59:00      3.295458  1.216254  25.925926  175.877200   \n",
       "2025-06-17 21:00:00     11.461178  1.216344  27.748691  175.897200   \n",
       "\n",
       "                            ask  signal_smooth  \n",
       "2014-04-03 12:06:00   28.653438       0.162925  \n",
       "2014-04-03 12:07:00   28.648282       0.164530  \n",
       "2014-04-03 12:08:00   28.643125       0.166141  \n",
       "2014-04-03 12:09:00   28.637968       0.167757  \n",
       "2014-04-03 12:10:00   28.632811       0.169381  \n",
       "...                         ...            ...  \n",
       "2025-06-17 20:56:00  176.102800       0.000000  \n",
       "2025-06-17 20:57:00  175.982800       0.000000  \n",
       "2025-06-17 20:58:00  175.942800       0.000000  \n",
       "2025-06-17 20:59:00  175.982800       0.000000  \n",
       "2025-06-17 21:00:00  176.002800       0.000000  \n",
       "\n",
       "[1473635 rows x 15 columns]"
      ]
     },
     "execution_count": 3,
     "metadata": {},
     "output_type": "execute_result"
    }
   ],
   "source": [
    "# create the _final.csv from the _ready.csv (if the _ready has been modified today or if the _final hasn´t been created yet)\n",
    "\n",
    "def was_modified_today(path: Path) -> bool:\n",
    "    \"\"\"\n",
    "    Return True if path exists AND its modification date is exactly today.\n",
    "    \"\"\"\n",
    "    if not path.exists():\n",
    "        return False\n",
    "\n",
    "    # get the file's last‐modified timestamp, convert to a date\n",
    "    mtime     = path.stat().st_mtime\n",
    "    file_date = dt.datetime.fromtimestamp(mtime).date()\n",
    "\n",
    "    # compare to today's date\n",
    "    return file_date == dt.date.today()\n",
    "\n",
    "\n",
    "def feature_engineering(df: pd.DataFrame) -> pd.DataFrame:\n",
    "    \"\"\"\n",
    "    Build your features and return a cleaned DataFrame.\n",
    "    \"\"\"\n",
    "    # 1) intraday log‐returns\n",
    "    for lag in (1, 5, 15):\n",
    "        df[f\"r_{lag}\"] = np.log(df[\"close\"] / df[\"close\"].shift(lag))\n",
    "\n",
    "    # 2) volatility & volume spikes\n",
    "    df[\"vol_15\"]       = df[\"r_1\"].rolling(15).std()\n",
    "    df[\"volume_spike\"] = df[\"volume\"] / df[\"volume\"].rolling(15).mean()\n",
    "\n",
    "    # 3) VWAP deviation\n",
    "    typ_price     = (df[\"high\"] + df[\"low\"] + df[\"close\"]) / 3\n",
    "    vwap          = (typ_price * df[\"volume\"]).cumsum() \\\n",
    "                    / df[\"volume\"].cumsum()\n",
    "    df[\"vwap_dev\"] = (df[\"close\"] - vwap) / vwap\n",
    "\n",
    "    # 4) 14‐period RSI\n",
    "    delta     = df[\"close\"].diff()\n",
    "    gain      = delta.clip(lower=0)\n",
    "    loss      = -delta.clip(upper=0)\n",
    "    avg_gain  = gain.rolling(14).mean()\n",
    "    avg_loss  = loss.rolling(14).mean()\n",
    "    rs        = avg_gain / avg_loss\n",
    "    df[\"rsi_14\"] = 100 - (100 / (1 + rs))\n",
    "\n",
    "    # 5) filter down to your features + bid/ask + label\n",
    "    df = df[features_cols + [\"bid\", \"ask\", label_col]].dropna()\n",
    "    return df\n",
    "\n",
    "\n",
    "# ─── Decide whether to rebuild or just load ────────────────────────────────\n",
    "# Rebuild if:\n",
    "#   - final CSV isn't there, OR\n",
    "#   - the \"ready\" CSV was modified today\n",
    "if (not out_path.exists()) or was_modified_today(in_path):\n",
    "    print(f\"→ Running feature_engineering on {in_path.name}\")\n",
    "    raw = pd.read_csv(in_path, index_col=0, parse_dates=True)\n",
    "    df  = feature_engineering(raw)\n",
    "    print(f\"→ Saving enriched data to {out_path.name}\")\n",
    "    df.to_csv(out_path)\n",
    "else:\n",
    "    print(f\"→ {out_path.name} is up‐to‐date; loading\")\n",
    "    df = pd.read_csv(out_path, index_col=0, parse_dates=True)\n",
    "\n",
    "df  # now ready for downstream use\n"
   ]
  },
  {
   "cell_type": "code",
   "execution_count": 4,
   "id": "e5463b8a-3346-40be-8079-9892d8c97b75",
   "metadata": {},
   "outputs": [
    {
     "name": "stdout",
     "output_type": "stream",
     "text": [
      "Shapes:\n",
      "  X         = torch.Size([1174595, 120, 12]) (samples, features, look_back)\n",
      "  y         = torch.Size([1174595]) (samples,)\n",
      "  raw_close = torch.Size([1174595])\n",
      "  raw_bid   = torch.Size([1174595])\n",
      "  raw_ask   = torch.Size([1174595])\n"
     ]
    }
   ],
   "source": [
    "# ──────────────────────────────────────────────────────────────────────────────\n",
    "# Build LSTM input tensors (disk-backed memmaps)\n",
    "#    Returns five tensors on `device`:\n",
    "#      X        : (N, look_back, F)\n",
    "#      y        : (N,)\n",
    "#      raw_close: (N,)\n",
    "#      raw_bid  : (N,)\n",
    "#      raw_ask  : (N,)\n",
    "# ──────────────────────────────────────────────────────────────────────────────\n",
    "X, y, raw_close, raw_bid, raw_ask = models.build_lstm_tensors(\n",
    "    df             = df,\n",
    "    look_back      = look_back,\n",
    "    features_cols  = features_cols,\n",
    "    label_col      = label_col,\n",
    "    regular_start  = params.regular_start_pred\n",
    ")\n",
    "\n",
    "print(\"Shapes:\")\n",
    "print(\"  X         =\", X.shape,    \"(samples, features, look_back)\")\n",
    "print(\"  y         =\", y.shape,    \"(samples,)\")\n",
    "print(\"  raw_close =\", raw_close.shape)\n",
    "print(\"  raw_bid   =\", raw_bid.shape)\n",
    "print(\"  raw_ask   =\", raw_ask.shape)"
   ]
  },
  {
   "cell_type": "code",
   "execution_count": 5,
   "id": "df3c973a-29f1-4c75-abc6-ebc8c2d27f92",
   "metadata": {},
   "outputs": [
    {
     "name": "stdout",
     "output_type": "stream",
     "text": [
      "Shapes:\n",
      "  X_tr        = torch.Size([800997, 120, 12])\n",
      "  y_tr        = torch.Size([800997])\n",
      "  raw_close_te= torch.Size([190594])\n",
      "  raw_bid_te  = torch.Size([190594])\n",
      "  raw_ask_te  = torch.Size([190594])\n"
     ]
    }
   ],
   "source": [
    "# ──────────────────────────────────────────────────────────────────────────────\n",
    "#    (We use the helper `chronological_split` that returns)\n",
    "#      (X_tr, y_tr),\n",
    "#      (X_val, y_val),\n",
    "#      (X_te, y_te, raw_close_te, raw_bid_te, raw_ask_te)\n",
    "# ──────────────────────────────────────────────────────────────────────────────\n",
    "(X_tr, y_tr), \\\n",
    "(X_val, y_val), \\\n",
    "(X_te, y_te, raw_close_te, raw_bid_te, raw_ask_te), \\\n",
    "samples_per_day, day_id_tr, day_id_val, day_id_te = models.chronological_split(\n",
    "    X, y, raw_close, raw_bid, raw_ask, df,\n",
    "    look_back       = look_back,\n",
    "    regular_start   = params.regular_start_pred,\n",
    "    train_prop      = params.train_prop,\n",
    "    val_prop        = params.val_prop,\n",
    "    train_batch     = params.hparams['TRAIN_BATCH']\n",
    ")\n",
    "\n",
    "print(\"Shapes:\")\n",
    "print(\"  X_tr        =\", X_tr.shape)\n",
    "print(\"  y_tr        =\", y_tr.shape)\n",
    "print(\"  raw_close_te=\", raw_close_te.shape)\n",
    "print(\"  raw_bid_te  =\", raw_bid_te.shape)\n",
    "print(\"  raw_ask_te  =\", raw_ask_te.shape)\n"
   ]
  },
  {
   "cell_type": "code",
   "execution_count": 6,
   "id": "6824f1a4-92dd-4952-80c6-db456d7907ef",
   "metadata": {},
   "outputs": [
    {
     "name": "stdout",
     "output_type": "stream",
     "text": [
      "▶️ Entered split_to_day_datasets\n",
      "1) building weekday arrays\n",
      "   Weekdays counts → tr=800997, val=183004, te=190594\n",
      "2) moving all splits to CPU\n",
      "   CPU casts done\n",
      "3) zero-bas­ing day_id for val & test\n",
      "   val_day_id ∈ [0..358], total days=359\n",
      "   te_day_id  ∈ [0..372], total days=373\n",
      "4) instantiating DayWindowDatasets\n",
      "   ds_tr days: 1760\n",
      "   ds_val days: 359\n",
      "   ds_te days: 373\n",
      "5) building DataLoaders\n",
      "   train_loader ready\n",
      "   val_loader ready\n",
      "   test_loader ready\n",
      "\n",
      "Baseline (zero‐forecast) RMSE on validation = 0.378654\n"
     ]
    }
   ],
   "source": [
    "# -----------------------------------------------------------------------------\n",
    "#  Build DataLoaders over calendar‐days\n",
    "# -----------------------------------------------------------------------------\n",
    "train_loader, val_loader, test_loader = models.split_to_day_datasets(\n",
    "    # Training split arrays (from chronological_split)\n",
    "    X_tr, y_tr, day_id_tr,\n",
    "    # Validation split arrays\n",
    "    X_val, y_val, day_id_val,\n",
    "    # Test split arrays + raw prices for post‐tracking\n",
    "    X_te, y_te, day_id_te, raw_close_te, raw_bid_te, raw_ask_te,\n",
    "    # Original minute‐bar DataFrame for weekday mapping\n",
    "    df=df,\n",
    "    train_batch=params.hparams['TRAIN_BATCH'],\n",
    "    train_workers=params.hparams['NUM_WORKERS']\n",
    ")\n",
    "\n",
    "baseline_val_rmse = models.naive_rmse(val_loader)\n",
    "print(f\"\\nBaseline (zero‐forecast) RMSE on validation = {baseline_val_rmse:.6f}\")"
   ]
  },
  {
   "cell_type": "code",
   "execution_count": 7,
   "id": "fdb4612b-f5bb-4e4a-8784-6d5689de67c2",
   "metadata": {},
   "outputs": [],
   "source": [
    "# ──────────────────────────────────────────────────────────────────────────────\n",
    "# Optuna objective definition\n",
    "# ──────────────────────────────────────────────────────────────────────────────\n",
    "def objective_train(trial):\n",
    "    # Sample only the knobs you care about\n",
    "    hp = {\n",
    "        # Architecture\n",
    "        \"DROPOUT_SHORT\"        : trial.suggest_float(\"DROPOUT_SHORT\",     0.1, 0.5),\n",
    "        \"DROPOUT_LONG\"         : trial.suggest_float(\"DROPOUT_LONG\",      0.1, 0.5),\n",
    "        \"ATT_HEADS\"            : trial.suggest_categorical(\"ATT_HEADS\",  [2, 4, 8]),\n",
    "        \"ATT_DROPOUT\"          : trial.suggest_float(\"ATT_DROPOUT\",       0.1, 0.5),\n",
    "\n",
    "        # Optimizer & scheduler\n",
    "        \"INITIAL_LR\"           : trial.suggest_float(\"INITIAL_LR\",       1e-4, 1e-2),\n",
    "        \"ETA_MIN\"              : trial.suggest_float(\"ETA_MIN\",          1e-6, 1e-3),\n",
    "        \"WEIGHT_DECAY\"         : trial.suggest_float(\"WEIGHT_DECAY\",     1e-6, 1e-2),\n",
    "        \"CLIPNORM\"             : trial.suggest_float(\"CLIPNORM\",         0.0, 1.0),\n",
    "        \"LR_EPOCHS_WARMUP\"     : trial.suggest_int  (\"LR_EPOCHS_WARMUP\", 0, 12),\n",
    "    }\n",
    "\n",
    "    print(f\"\\n▶ Trial {trial.number} starting with:\\n{hp}\\n\")\n",
    "\n",
    "    # Build model\n",
    "    model = models.DualMemoryLSTM(\n",
    "        n_feats       = len(features_cols),\n",
    "        short_units   = params.hparams[\"SHORT_UNITS\"],\n",
    "        long_units    = params.hparams[\"LONG_UNITS\"],\n",
    "        dropout_short = hp[\"DROPOUT_SHORT\"],\n",
    "        dropout_long  = hp[\"DROPOUT_LONG\"],\n",
    "        att_heads     = hp[\"ATT_HEADS\"],\n",
    "        att_drop      = hp[\"ATT_DROPOUT\"],\n",
    "    ).to(device)\n",
    "\n",
    "    # Build optimizer + schedulers + scaler\n",
    "    optimizer, plateau_sched, _ , scaler, clipnorm = \\\n",
    "        models.make_optimizer_and_scheduler(\n",
    "            model            = model,\n",
    "            initial_lr       = hp[\"INITIAL_LR\"],\n",
    "            weight_decay     = hp[\"WEIGHT_DECAY\"],\n",
    "            clipnorm         = hp[\"CLIPNORM\"]\n",
    "        )\n",
    "\n",
    "    cosine_sched = CosineAnnealingWarmRestarts(\n",
    "        optimizer, \n",
    "        T_0=params.hparams['T_0'], \n",
    "        T_mult=params.hparams['T_MULT'], \n",
    "        eta_min=hp['ETA_MIN']\n",
    "    )\n",
    "\n",
    "    # Run training & return best validation RMSE\n",
    "    best_rmse = models.custom_stateful_training_loop(\n",
    "        model               = model,\n",
    "        optimizer           = optimizer,\n",
    "        cosine_sched        = cosine_sched,\n",
    "        plateau_sched       = plateau_sched,\n",
    "        scaler              = scaler,\n",
    "        train_loader        = train_loader,\n",
    "        val_loader          = val_loader,\n",
    "        max_epochs          = params.hparams[\"MAX_EPOCHS\"],\n",
    "        early_stop_patience = params.hparams[\"EARLY_STOP_PATIENCE\"],\n",
    "        baseline_val_rmse   = baseline_val_rmse,\n",
    "        clipnorm            = clipnorm,\n",
    "        device              = device,\n",
    "    )\n",
    "    return best_rmse\n",
    "\n"
   ]
  },
  {
   "cell_type": "code",
   "execution_count": 8,
   "id": "1ce185de-1d62-49f9-9a96-00385e813521",
   "metadata": {},
   "outputs": [
    {
     "data": {
      "image/png": "[encoded data removed]",
      "text/plain": [
       "<Figure size 700x300 with 1 Axes>"
      ]
     },
     "metadata": {},
     "output_type": "display_data"
    }
   ],
   "source": [
    "# ----------------------------------------------------------\n",
    "# create ONE figure\n",
    "# ----------------------------------------------------------\n",
    "# build blank figure & line\n",
    "fig, ax = plt.subplots(figsize=(7,3))\n",
    "line, = ax.plot([], [], \"bo-\")\n",
    "ax.set(xlabel=\"Trial #\", ylabel=\"Objective\",\n",
    "       title=\"Optuna optimization progress\")\n",
    "ax.grid(True)\n",
    "\n",
    "# display once and grab the handle\n",
    "handle = display(fig, display_id=True)\n",
    "plt.close(fig)\n",
    "\n",
    "# ask plots.py for a callback bound to these objects\n",
    "live_cb = plots.make_live_plot_callback(fig, ax, line, handle)"
   ]
  },
  {
   "cell_type": "code",
   "execution_count": null,
   "id": "7658050b-a604-4331-ac64-72b2c7fd3689",
   "metadata": {},
   "outputs": [
    {
     "name": "stderr",
     "output_type": "stream",
     "text": [
      "[I 2025-07-22 16:59:05,726] A new study created in memory with name: no-name-43872059-ddb4-444b-9e75-8e89d56f85d7\n"
     ]
    },
    {
     "name": "stdout",
     "output_type": "stream",
     "text": [
      "\n",
      "▶ Trial 0 starting with:\n",
      "{'DROPOUT_SHORT': 0.30599372269260977, 'DROPOUT_LONG': 0.20829525563428708, 'ATT_HEADS': 2, 'ATT_DROPOUT': 0.4036265035838157, 'INITIAL_LR': 0.0035164348164117734, 'ETA_MIN': 0.0009973296741573369, 'WEIGHT_DECAY': 0.009418287866225665, 'CLIPNORM': 0.4596280170803253, 'LR_EPOCHS_WARMUP': 6}\n",
      "\n"
     ]
    },
    {
     "data": {
      "image/png": "[encoded data removed]",
      "text/plain": [
       "<Figure size 660x440 with 1 Axes>"
      ]
     },
     "metadata": {},
     "output_type": "display_data"
    },
    {
     "data": {
      "application/vnd.jupyter.widget-view+json": {
       "model_id": "011b07063ada4477924499550aaa697c",
       "version_major": 2,
       "version_minor": 0
      },
      "text/plain": [
       "Epoch 1:   0%|          | 0/55 [00:00<?, ?bundle/s]"
      ]
     },
     "metadata": {},
     "output_type": "display_data"
    },
    {
     "name": "stdout",
     "output_type": "stream",
     "text": [
      "Epoch 001 • train=0.3471 • val=0.4065 • lr=3.51e-03\n"
     ]
    },
    {
     "data": {
      "application/vnd.jupyter.widget-view+json": {
       "model_id": "f28cac01988342efac193e834512be0e",
       "version_major": 2,
       "version_minor": 0
      },
      "text/plain": [
       "Epoch 2:   0%|          | 0/55 [00:00<?, ?bundle/s]"
      ]
     },
     "metadata": {},
     "output_type": "display_data"
    },
    {
     "name": "stdout",
     "output_type": "stream",
     "text": [
      "Epoch 002 • train=0.2241 • val=0.2592 • lr=3.51e-03\n"
     ]
    },
    {
     "data": {
      "application/vnd.jupyter.widget-view+json": {
       "model_id": "bd0f5dc184934e50a7f5c5e6df6406a7",
       "version_major": 2,
       "version_minor": 0
      },
      "text/plain": [
       "Epoch 3:   0%|          | 0/55 [00:00<?, ?bundle/s]"
      ]
     },
     "metadata": {},
     "output_type": "display_data"
    },
    {
     "name": "stdout",
     "output_type": "stream",
     "text": [
      "Epoch 003 • train=0.1941 • val=0.2626 • lr=3.50e-03\n"
     ]
    },
    {
     "data": {
      "application/vnd.jupyter.widget-view+json": {
       "model_id": "636aecaf0d604b5495216fd5e2119c1b",
       "version_major": 2,
       "version_minor": 0
      },
      "text/plain": [
       "Epoch 4:   0%|          | 0/55 [00:00<?, ?bundle/s]"
      ]
     },
     "metadata": {},
     "output_type": "display_data"
    },
    {
     "name": "stdout",
     "output_type": "stream",
     "text": [
      "Epoch 004 • train=0.1821 • val=0.3284 • lr=3.49e-03\n"
     ]
    },
    {
     "data": {
      "application/vnd.jupyter.widget-view+json": {
       "model_id": "920aa5aa39994d96b790acc21bfc6804",
       "version_major": 2,
       "version_minor": 0
      },
      "text/plain": [
       "Epoch 5:   0%|          | 0/55 [00:00<?, ?bundle/s]"
      ]
     },
     "metadata": {},
     "output_type": "display_data"
    },
    {
     "name": "stdout",
     "output_type": "stream",
     "text": [
      "Epoch 005 • train=0.2085 • val=0.2567 • lr=3.47e-03\n"
     ]
    },
    {
     "data": {
      "application/vnd.jupyter.widget-view+json": {
       "model_id": "e3a08889e4ab4fe487ca562c75a4648c",
       "version_major": 2,
       "version_minor": 0
      },
      "text/plain": [
       "Epoch 6:   0%|          | 0/55 [00:00<?, ?bundle/s]"
      ]
     },
     "metadata": {},
     "output_type": "display_data"
    },
    {
     "name": "stdout",
     "output_type": "stream",
     "text": [
      "Epoch 006 • train=0.1867 • val=0.2685 • lr=3.46e-03\n"
     ]
    },
    {
     "data": {
      "application/vnd.jupyter.widget-view+json": {
       "model_id": "603c70a10a504687864a0d9ab6d6229c",
       "version_major": 2,
       "version_minor": 0
      },
      "text/plain": [
       "Epoch 7:   0%|          | 0/55 [00:00<?, ?bundle/s]"
      ]
     },
     "metadata": {},
     "output_type": "display_data"
    },
    {
     "name": "stdout",
     "output_type": "stream",
     "text": [
      "Epoch 007 • train=0.1956 • val=0.3066 • lr=3.43e-03\n"
     ]
    },
    {
     "data": {
      "application/vnd.jupyter.widget-view+json": {
       "model_id": "db43f0aec33f462584315d431d8a54a5",
       "version_major": 2,
       "version_minor": 0
      },
      "text/plain": [
       "Epoch 8:   0%|          | 0/55 [00:00<?, ?bundle/s]"
      ]
     },
     "metadata": {},
     "output_type": "display_data"
    },
    {
     "name": "stdout",
     "output_type": "stream",
     "text": [
      "Epoch 008 • train=0.2002 • val=0.2634 • lr=3.41e-03\n"
     ]
    },
    {
     "data": {
      "application/vnd.jupyter.widget-view+json": {
       "model_id": "db4f91ee4fdf4ef6998e2f849c3ba929",
       "version_major": 2,
       "version_minor": 0
      },
      "text/plain": [
       "Epoch 9:   0%|          | 0/55 [00:00<?, ?bundle/s]"
      ]
     },
     "metadata": {},
     "output_type": "display_data"
    },
    {
     "name": "stdout",
     "output_type": "stream",
     "text": [
      "Epoch 009 • train=0.1980 • val=0.2642 • lr=3.38e-03\n"
     ]
    },
    {
     "data": {
      "application/vnd.jupyter.widget-view+json": {
       "model_id": "a27e4f03e3c14aa49ca6775845a91815",
       "version_major": 2,
       "version_minor": 0
      },
      "text/plain": [
       "Epoch 10:   0%|          | 0/55 [00:00<?, ?bundle/s]"
      ]
     },
     "metadata": {},
     "output_type": "display_data"
    },
    {
     "name": "stdout",
     "output_type": "stream",
     "text": [
      "Epoch 010 • train=0.1889 • val=0.2610 • lr=3.35e-03\n"
     ]
    },
    {
     "data": {
      "application/vnd.jupyter.widget-view+json": {
       "model_id": "62a485a2886b437f8a32891ecc2bd4c4",
       "version_major": 2,
       "version_minor": 0
      },
      "text/plain": [
       "Epoch 11:   0%|          | 0/55 [00:00<?, ?bundle/s]"
      ]
     },
     "metadata": {},
     "output_type": "display_data"
    },
    {
     "name": "stdout",
     "output_type": "stream",
     "text": [
      "Epoch 011 • train=0.1942 • val=0.2687 • lr=3.31e-03\n"
     ]
    },
    {
     "data": {
      "application/vnd.jupyter.widget-view+json": {
       "model_id": "42882972bacb4a4f8d44b5b2dce18cfa",
       "version_major": 2,
       "version_minor": 0
      },
      "text/plain": [
       "Epoch 12:   0%|          | 0/55 [00:00<?, ?bundle/s]"
      ]
     },
     "metadata": {},
     "output_type": "display_data"
    },
    {
     "name": "stdout",
     "output_type": "stream",
     "text": [
      "Epoch 012 • train=0.2295 • val=0.2677 • lr=3.28e-03\n"
     ]
    },
    {
     "data": {
      "application/vnd.jupyter.widget-view+json": {
       "model_id": "3b290d3938234b80929131c7ab1d5199",
       "version_major": 2,
       "version_minor": 0
      },
      "text/plain": [
       "Epoch 13:   0%|          | 0/55 [00:00<?, ?bundle/s]"
      ]
     },
     "metadata": {},
     "output_type": "display_data"
    },
    {
     "name": "stdout",
     "output_type": "stream",
     "text": [
      "Epoch 013 • train=0.2105 • val=0.2814 • lr=3.24e-03\n"
     ]
    },
    {
     "data": {
      "application/vnd.jupyter.widget-view+json": {
       "model_id": "4a6ac42c48da4e3b9e013cd78456601a",
       "version_major": 2,
       "version_minor": 0
      },
      "text/plain": [
       "Epoch 14:   0%|          | 0/55 [00:00<?, ?bundle/s]"
      ]
     },
     "metadata": {},
     "output_type": "display_data"
    },
    {
     "name": "stdout",
     "output_type": "stream",
     "text": [
      "Epoch 014 • train=0.2490 • val=0.2809 • lr=3.19e-03\n"
     ]
    },
    {
     "data": {
      "application/vnd.jupyter.widget-view+json": {
       "model_id": "fd7f115e68de4511ab6c69a452c22f60",
       "version_major": 2,
       "version_minor": 0
      },
      "text/plain": [
       "Epoch 15:   0%|          | 0/55 [00:00<?, ?bundle/s]"
      ]
     },
     "metadata": {},
     "output_type": "display_data"
    },
    {
     "name": "stdout",
     "output_type": "stream",
     "text": [
      "Epoch 015 • train=0.2472 • val=0.2589 • lr=3.15e-03\n"
     ]
    },
    {
     "data": {
      "application/vnd.jupyter.widget-view+json": {
       "model_id": "bd8eadc4bfff4a62b58193fc1c8ce7ea",
       "version_major": 2,
       "version_minor": 0
      },
      "text/plain": [
       "Epoch 16:   0%|          | 0/55 [00:00<?, ?bundle/s]"
      ]
     },
     "metadata": {},
     "output_type": "display_data"
    },
    {
     "name": "stdout",
     "output_type": "stream",
     "text": [
      "Epoch 016 • train=0.2205 • val=0.2678 • lr=3.10e-03\n"
     ]
    },
    {
     "data": {
      "application/vnd.jupyter.widget-view+json": {
       "model_id": "99445f058b04484eabc4e4ae75bf5e9c",
       "version_major": 2,
       "version_minor": 0
      },
      "text/plain": [
       "Epoch 17:   0%|          | 0/55 [00:00<?, ?bundle/s]"
      ]
     },
     "metadata": {},
     "output_type": "display_data"
    },
    {
     "name": "stderr",
     "output_type": "stream",
     "text": [
      "[I 2025-07-22 17:05:28,122] Trial 0 finished with value: 0.2566744741644738 and parameters: {'DROPOUT_SHORT': 0.30599372269260977, 'DROPOUT_LONG': 0.20829525563428708, 'ATT_HEADS': 2, 'ATT_DROPOUT': 0.4036265035838157, 'INITIAL_LR': 0.0035164348164117734, 'ETA_MIN': 0.0009973296741573369, 'WEIGHT_DECAY': 0.009418287866225665, 'CLIPNORM': 0.4596280170803253, 'LR_EPOCHS_WARMUP': 6}. Best is trial 0 with value: 0.2566744741644738.\n"
     ]
    },
    {
     "name": "stdout",
     "output_type": "stream",
     "text": [
      "Epoch 017 • train=0.1853 • val=0.2737 • lr=3.05e-03\n",
      "Early stopping at epoch 17\n",
      "Saved full model + hparams to dfs training/GOOGL_0.2567.pth\n",
      "\n",
      "▶ Trial 1 starting with:\n",
      "{'DROPOUT_SHORT': 0.16701561042071966, 'DROPOUT_LONG': 0.3267730186872636, 'ATT_HEADS': 4, 'ATT_DROPOUT': 0.4642075041269115, 'INITIAL_LR': 0.003063640676287226, 'ETA_MIN': 0.00018201910185896005, 'WEIGHT_DECAY': 0.0016028014646322292, 'CLIPNORM': 0.08644484686907172, 'LR_EPOCHS_WARMUP': 9}\n",
      "\n"
     ]
    },
    {
     "data": {
      "image/png": "[encoded data removed]",
      "text/plain": [
       "<Figure size 660x440 with 1 Axes>"
      ]
     },
     "metadata": {},
     "output_type": "display_data"
    },
    {
     "data": {
      "application/vnd.jupyter.widget-view+json": {
       "model_id": "24604832e226490882cb39cf07b79edd",
       "version_major": 2,
       "version_minor": 0
      },
      "text/plain": [
       "Epoch 1:   0%|          | 0/55 [00:00<?, ?bundle/s]"
      ]
     },
     "metadata": {},
     "output_type": "display_data"
    },
    {
     "name": "stdout",
     "output_type": "stream",
     "text": [
      "Epoch 001 • train=0.2945 • val=0.2913 • lr=3.06e-03\n"
     ]
    },
    {
     "data": {
      "application/vnd.jupyter.widget-view+json": {
       "model_id": "ef86652d9bb7487d8bf8aa51106e929f",
       "version_major": 2,
       "version_minor": 0
      },
      "text/plain": [
       "Epoch 2:   0%|          | 0/55 [00:00<?, ?bundle/s]"
      ]
     },
     "metadata": {},
     "output_type": "display_data"
    },
    {
     "name": "stdout",
     "output_type": "stream",
     "text": [
      "Epoch 002 • train=0.1985 • val=0.2964 • lr=3.06e-03\n"
     ]
    },
    {
     "data": {
      "application/vnd.jupyter.widget-view+json": {
       "model_id": "5a16c7d995c9491c866eb8168c66dce4",
       "version_major": 2,
       "version_minor": 0
      },
      "text/plain": [
       "Epoch 3:   0%|          | 0/55 [00:00<?, ?bundle/s]"
      ]
     },
     "metadata": {},
     "output_type": "display_data"
    },
    {
     "name": "stdout",
     "output_type": "stream",
     "text": [
      "Epoch 003 • train=0.2160 • val=0.2403 • lr=3.05e-03\n"
     ]
    },
    {
     "data": {
      "application/vnd.jupyter.widget-view+json": {
       "model_id": "6582648cbee340b6b8ba54d4ca4a06e5",
       "version_major": 2,
       "version_minor": 0
      },
      "text/plain": [
       "Epoch 4:   0%|          | 0/55 [00:00<?, ?bundle/s]"
      ]
     },
     "metadata": {},
     "output_type": "display_data"
    },
    {
     "name": "stdout",
     "output_type": "stream",
     "text": [
      "Epoch 004 • train=0.1722 • val=0.2735 • lr=3.03e-03\n"
     ]
    },
    {
     "data": {
      "application/vnd.jupyter.widget-view+json": {
       "model_id": "d1e80687e7534c6ca2626cf9a7f6b3b0",
       "version_major": 2,
       "version_minor": 0
      },
      "text/plain": [
       "Epoch 5:   0%|          | 0/55 [00:00<?, ?bundle/s]"
      ]
     },
     "metadata": {},
     "output_type": "display_data"
    },
    {
     "name": "stdout",
     "output_type": "stream",
     "text": [
      "Epoch 005 • train=0.1885 • val=0.2781 • lr=3.01e-03\n"
     ]
    },
    {
     "data": {
      "application/vnd.jupyter.widget-view+json": {
       "model_id": "5df170dd68ff427182cdcf9dddb1161d",
       "version_major": 2,
       "version_minor": 0
      },
      "text/plain": [
       "Epoch 6:   0%|          | 0/55 [00:00<?, ?bundle/s]"
      ]
     },
     "metadata": {},
     "output_type": "display_data"
    },
    {
     "name": "stdout",
     "output_type": "stream",
     "text": [
      "Epoch 006 • train=0.2032 • val=0.2947 • lr=2.99e-03\n"
     ]
    },
    {
     "data": {
      "application/vnd.jupyter.widget-view+json": {
       "model_id": "d868991491384a90ba753cca8d2d2f02",
       "version_major": 2,
       "version_minor": 0
      },
      "text/plain": [
       "Epoch 7:   0%|          | 0/55 [00:00<?, ?bundle/s]"
      ]
     },
     "metadata": {},
     "output_type": "display_data"
    },
    {
     "name": "stdout",
     "output_type": "stream",
     "text": [
      "Epoch 007 • train=0.2148 • val=0.2775 • lr=2.97e-03\n"
     ]
    },
    {
     "data": {
      "application/vnd.jupyter.widget-view+json": {
       "model_id": "652d8b254b9e42e78928482aa2eb1e43",
       "version_major": 2,
       "version_minor": 0
      },
      "text/plain": [
       "Epoch 8:   0%|          | 0/55 [00:00<?, ?bundle/s]"
      ]
     },
     "metadata": {},
     "output_type": "display_data"
    },
    {
     "name": "stdout",
     "output_type": "stream",
     "text": [
      "Epoch 008 • train=0.2031 • val=0.3082 • lr=2.94e-03\n"
     ]
    },
    {
     "data": {
      "application/vnd.jupyter.widget-view+json": {
       "model_id": "3d58860a6ee3433b980168bac9e0d5b4",
       "version_major": 2,
       "version_minor": 0
      },
      "text/plain": [
       "Epoch 9:   0%|          | 0/55 [00:00<?, ?bundle/s]"
      ]
     },
     "metadata": {},
     "output_type": "display_data"
    },
    {
     "name": "stdout",
     "output_type": "stream",
     "text": [
      "Epoch 009 • train=0.2393 • val=0.2598 • lr=2.91e-03\n"
     ]
    },
    {
     "data": {
      "application/vnd.jupyter.widget-view+json": {
       "model_id": "d3581695178e4bf7ada91a7f72e8222b",
       "version_major": 2,
       "version_minor": 0
      },
      "text/plain": [
       "Epoch 10:   0%|          | 0/55 [00:00<?, ?bundle/s]"
      ]
     },
     "metadata": {},
     "output_type": "display_data"
    },
    {
     "name": "stdout",
     "output_type": "stream",
     "text": [
      "Epoch 010 • train=0.2061 • val=0.2587 • lr=2.87e-03\n"
     ]
    },
    {
     "data": {
      "application/vnd.jupyter.widget-view+json": {
       "model_id": "54acc9b0d5ca4e11819a3751f74e40bb",
       "version_major": 2,
       "version_minor": 0
      },
      "text/plain": [
       "Epoch 11:   0%|          | 0/55 [00:00<?, ?bundle/s]"
      ]
     },
     "metadata": {},
     "output_type": "display_data"
    },
    {
     "name": "stdout",
     "output_type": "stream",
     "text": [
      "Epoch 011 • train=0.2128 • val=0.2581 • lr=2.83e-03\n"
     ]
    },
    {
     "data": {
      "application/vnd.jupyter.widget-view+json": {
       "model_id": "cf4c4cc456904b028fee14fae84e708b",
       "version_major": 2,
       "version_minor": 0
      },
      "text/plain": [
       "Epoch 12:   0%|          | 0/55 [00:00<?, ?bundle/s]"
      ]
     },
     "metadata": {},
     "output_type": "display_data"
    },
    {
     "name": "stdout",
     "output_type": "stream",
     "text": [
      "Epoch 012 • train=0.2223 • val=0.2808 • lr=2.79e-03\n"
     ]
    },
    {
     "data": {
      "application/vnd.jupyter.widget-view+json": {
       "model_id": "14cceb8fcd554853b93ebe74d07f99fe",
       "version_major": 2,
       "version_minor": 0
      },
      "text/plain": [
       "Epoch 13:   0%|          | 0/55 [00:00<?, ?bundle/s]"
      ]
     },
     "metadata": {},
     "output_type": "display_data"
    },
    {
     "name": "stdout",
     "output_type": "stream",
     "text": [
      "Epoch 013 • train=0.2339 • val=0.2642 • lr=2.74e-03\n"
     ]
    },
    {
     "data": {
      "application/vnd.jupyter.widget-view+json": {
       "model_id": "22573ac74b844c0db12e232786cb1276",
       "version_major": 2,
       "version_minor": 0
      },
      "text/plain": [
       "Epoch 14:   0%|          | 0/55 [00:00<?, ?bundle/s]"
      ]
     },
     "metadata": {},
     "output_type": "display_data"
    },
    {
     "name": "stdout",
     "output_type": "stream",
     "text": [
      "Epoch 014 • train=0.1953 • val=0.2748 • lr=2.69e-03\n"
     ]
    },
    {
     "data": {
      "application/vnd.jupyter.widget-view+json": {
       "model_id": "43a1a470ced241b898d78b751369ffa1",
       "version_major": 2,
       "version_minor": 0
      },
      "text/plain": [
       "Epoch 15:   0%|          | 0/55 [00:00<?, ?bundle/s]"
      ]
     },
     "metadata": {},
     "output_type": "display_data"
    },
    {
     "name": "stderr",
     "output_type": "stream",
     "text": [
      "[I 2025-07-22 17:11:46,322] Trial 1 finished with value: 0.24030596188900213 and parameters: {'DROPOUT_SHORT': 0.16701561042071966, 'DROPOUT_LONG': 0.3267730186872636, 'ATT_HEADS': 4, 'ATT_DROPOUT': 0.4642075041269115, 'INITIAL_LR': 0.003063640676287226, 'ETA_MIN': 0.00018201910185896005, 'WEIGHT_DECAY': 0.0016028014646322292, 'CLIPNORM': 0.08644484686907172, 'LR_EPOCHS_WARMUP': 9}. Best is trial 1 with value: 0.24030596188900213.\n"
     ]
    },
    {
     "name": "stdout",
     "output_type": "stream",
     "text": [
      "Epoch 015 • train=0.1842 • val=0.2564 • lr=2.64e-03\n",
      "Early stopping at epoch 15\n",
      "Saved full model + hparams to dfs training/GOOGL_0.2403.pth\n",
      "\n",
      "▶ Trial 2 starting with:\n",
      "{'DROPOUT_SHORT': 0.24869404155099592, 'DROPOUT_LONG': 0.1939275334982345, 'ATT_HEADS': 2, 'ATT_DROPOUT': 0.20234430364713898, 'INITIAL_LR': 0.007320999826952079, 'ETA_MIN': 4.8727759583036866e-05, 'WEIGHT_DECAY': 0.00040236456431827706, 'CLIPNORM': 0.9510842985382627, 'LR_EPOCHS_WARMUP': 10}\n",
      "\n"
     ]
    },
    {
     "data": {
      "image/png": "[encoded data removed]",
      "text/plain": [
       "<Figure size 660x440 with 1 Axes>"
      ]
     },
     "metadata": {},
     "output_type": "display_data"
    },
    {
     "data": {
      "application/vnd.jupyter.widget-view+json": {
       "model_id": "8b538a4f70ef4bc886a4143ef84fc624",
       "version_major": 2,
       "version_minor": 0
      },
      "text/plain": [
       "Epoch 1:   0%|          | 0/55 [00:00<?, ?bundle/s]"
      ]
     },
     "metadata": {},
     "output_type": "display_data"
    },
    {
     "name": "stdout",
     "output_type": "stream",
     "text": [
      "Epoch 001 • train=0.3801 • val=0.2789 • lr=7.32e-03\n"
     ]
    },
    {
     "data": {
      "application/vnd.jupyter.widget-view+json": {
       "model_id": "83618e7b306041148396bee0e2180225",
       "version_major": 2,
       "version_minor": 0
      },
      "text/plain": [
       "Epoch 2:   0%|          | 0/55 [00:00<?, ?bundle/s]"
      ]
     },
     "metadata": {},
     "output_type": "display_data"
    },
    {
     "name": "stdout",
     "output_type": "stream",
     "text": [
      "Epoch 002 • train=0.1888 • val=0.2409 • lr=7.30e-03\n"
     ]
    },
    {
     "data": {
      "application/vnd.jupyter.widget-view+json": {
       "model_id": "495a7bf4ec0e48eeb16add61c18d040e",
       "version_major": 2,
       "version_minor": 0
      },
      "text/plain": [
       "Epoch 3:   0%|          | 0/55 [00:00<?, ?bundle/s]"
      ]
     },
     "metadata": {},
     "output_type": "display_data"
    },
    {
     "name": "stdout",
     "output_type": "stream",
     "text": [
      "Epoch 003 • train=0.1821 • val=0.3384 • lr=7.28e-03\n"
     ]
    },
    {
     "data": {
      "application/vnd.jupyter.widget-view+json": {
       "model_id": "0ccc08dce3db4abbba3911caca1e2155",
       "version_major": 2,
       "version_minor": 0
      },
      "text/plain": [
       "Epoch 4:   0%|          | 0/55 [00:00<?, ?bundle/s]"
      ]
     },
     "metadata": {},
     "output_type": "display_data"
    },
    {
     "name": "stdout",
     "output_type": "stream",
     "text": [
      "Epoch 004 • train=0.1993 • val=0.2565 • lr=7.24e-03\n"
     ]
    },
    {
     "data": {
      "application/vnd.jupyter.widget-view+json": {
       "model_id": "d863bee0915b41f7afe366ebf146ee73",
       "version_major": 2,
       "version_minor": 0
      },
      "text/plain": [
       "Epoch 5:   0%|          | 0/55 [00:00<?, ?bundle/s]"
      ]
     },
     "metadata": {},
     "output_type": "display_data"
    },
    {
     "name": "stdout",
     "output_type": "stream",
     "text": [
      "Epoch 005 • train=0.1908 • val=0.2834 • lr=7.20e-03\n"
     ]
    },
    {
     "data": {
      "application/vnd.jupyter.widget-view+json": {
       "model_id": "579c68a9b17743a6aef99d02d14a2740",
       "version_major": 2,
       "version_minor": 0
      },
      "text/plain": [
       "Epoch 6:   0%|          | 0/55 [00:00<?, ?bundle/s]"
      ]
     },
     "metadata": {},
     "output_type": "display_data"
    },
    {
     "name": "stdout",
     "output_type": "stream",
     "text": [
      "Epoch 006 • train=0.2027 • val=0.2645 • lr=7.14e-03\n"
     ]
    },
    {
     "data": {
      "application/vnd.jupyter.widget-view+json": {
       "model_id": "bd1fa19d1c784c4aa86db74eb1245a77",
       "version_major": 2,
       "version_minor": 0
      },
      "text/plain": [
       "Epoch 7:   0%|          | 0/55 [00:00<?, ?bundle/s]"
      ]
     },
     "metadata": {},
     "output_type": "display_data"
    },
    {
     "name": "stdout",
     "output_type": "stream",
     "text": [
      "Epoch 007 • train=0.2073 • val=0.2557 • lr=7.08e-03\n"
     ]
    },
    {
     "data": {
      "application/vnd.jupyter.widget-view+json": {
       "model_id": "31bfc67982dc47fb9c0e2df060491fbc",
       "version_major": 2,
       "version_minor": 0
      },
      "text/plain": [
       "Epoch 8:   0%|          | 0/55 [00:00<?, ?bundle/s]"
      ]
     },
     "metadata": {},
     "output_type": "display_data"
    },
    {
     "name": "stdout",
     "output_type": "stream",
     "text": [
      "Epoch 008 • train=0.1864 • val=0.2815 • lr=7.01e-03\n"
     ]
    },
    {
     "data": {
      "application/vnd.jupyter.widget-view+json": {
       "model_id": "00b7c83640604bfda57006973b8ebb3a",
       "version_major": 2,
       "version_minor": 0
      },
      "text/plain": [
       "Epoch 9:   0%|          | 0/55 [00:00<?, ?bundle/s]"
      ]
     },
     "metadata": {},
     "output_type": "display_data"
    },
    {
     "name": "stdout",
     "output_type": "stream",
     "text": [
      "Epoch 009 • train=0.2193 • val=0.2707 • lr=6.93e-03\n"
     ]
    },
    {
     "data": {
      "application/vnd.jupyter.widget-view+json": {
       "model_id": "73c08bdd316e41e1a71011bd1097c3e5",
       "version_major": 2,
       "version_minor": 0
      },
      "text/plain": [
       "Epoch 10:   0%|          | 0/55 [00:00<?, ?bundle/s]"
      ]
     },
     "metadata": {},
     "output_type": "display_data"
    },
    {
     "name": "stdout",
     "output_type": "stream",
     "text": [
      "Epoch 010 • train=0.2050 • val=0.2920 • lr=6.84e-03\n"
     ]
    },
    {
     "data": {
      "application/vnd.jupyter.widget-view+json": {
       "model_id": "2a5bd44a980144268e8f746a84a26519",
       "version_major": 2,
       "version_minor": 0
      },
      "text/plain": [
       "Epoch 11:   0%|          | 0/55 [00:00<?, ?bundle/s]"
      ]
     },
     "metadata": {},
     "output_type": "display_data"
    },
    {
     "name": "stdout",
     "output_type": "stream",
     "text": [
      "Epoch 011 • train=0.2234 • val=0.2901 • lr=6.74e-03\n"
     ]
    },
    {
     "data": {
      "application/vnd.jupyter.widget-view+json": {
       "model_id": "bfaeda16372840ef8523817a338b69b4",
       "version_major": 2,
       "version_minor": 0
      },
      "text/plain": [
       "Epoch 12:   0%|          | 0/55 [00:00<?, ?bundle/s]"
      ]
     },
     "metadata": {},
     "output_type": "display_data"
    },
    {
     "name": "stdout",
     "output_type": "stream",
     "text": [
      "Epoch 012 • train=0.2382 • val=0.2934 • lr=6.63e-03\n"
     ]
    },
    {
     "data": {
      "application/vnd.jupyter.widget-view+json": {
       "model_id": "7822160a5eb64f73b940189d263cfca4",
       "version_major": 2,
       "version_minor": 0
      },
      "text/plain": [
       "Epoch 13:   0%|          | 0/55 [00:00<?, ?bundle/s]"
      ]
     },
     "metadata": {},
     "output_type": "display_data"
    },
    {
     "name": "stdout",
     "output_type": "stream",
     "text": [
      "Epoch 013 • train=0.2326 • val=0.2578 • lr=6.51e-03\n"
     ]
    },
    {
     "data": {
      "application/vnd.jupyter.widget-view+json": {
       "model_id": "b25f37815bc24ce7b7ddd5e30445ba6f",
       "version_major": 2,
       "version_minor": 0
      },
      "text/plain": [
       "Epoch 14:   0%|          | 0/55 [00:00<?, ?bundle/s]"
      ]
     },
     "metadata": {},
     "output_type": "display_data"
    },
    {
     "name": "stderr",
     "output_type": "stream",
     "text": [
      "[I 2025-07-22 17:17:02,021] Trial 2 finished with value: 0.24085303885200135 and parameters: {'DROPOUT_SHORT': 0.24869404155099592, 'DROPOUT_LONG': 0.1939275334982345, 'ATT_HEADS': 2, 'ATT_DROPOUT': 0.20234430364713898, 'INITIAL_LR': 0.007320999826952079, 'ETA_MIN': 4.8727759583036866e-05, 'WEIGHT_DECAY': 0.00040236456431827706, 'CLIPNORM': 0.9510842985382627, 'LR_EPOCHS_WARMUP': 10}. Best is trial 1 with value: 0.24030596188900213.\n"
     ]
    },
    {
     "name": "stdout",
     "output_type": "stream",
     "text": [
      "Epoch 014 • train=0.1933 • val=0.2727 • lr=6.39e-03\n",
      "Early stopping at epoch 14\n",
      "Saved full model + hparams to dfs training/GOOGL_0.2409.pth\n",
      "\n",
      "▶ Trial 3 starting with:\n",
      "{'DROPOUT_SHORT': 0.27990047893026754, 'DROPOUT_LONG': 0.3877852621379393, 'ATT_HEADS': 2, 'ATT_DROPOUT': 0.2477616496657638, 'INITIAL_LR': 0.00921690669812697, 'ETA_MIN': 0.0003520614754014031, 'WEIGHT_DECAY': 0.0023064536577554313, 'CLIPNORM': 0.25456308970619446, 'LR_EPOCHS_WARMUP': 5}\n",
      "\n"
     ]
    },
    {
     "data": {
      "image/png": "[encoded data removed]",
      "text/plain": [
       "<Figure size 660x440 with 1 Axes>"
      ]
     },
     "metadata": {},
     "output_type": "display_data"
    },
    {
     "data": {
      "application/vnd.jupyter.widget-view+json": {
       "model_id": "7996191f871e42d78e3e4fc034790cca",
       "version_major": 2,
       "version_minor": 0
      },
      "text/plain": [
       "Epoch 1:   0%|          | 0/55 [00:00<?, ?bundle/s]"
      ]
     },
     "metadata": {},
     "output_type": "display_data"
    },
    {
     "name": "stdout",
     "output_type": "stream",
     "text": [
      "Epoch 001 • train=0.4360 • val=0.4064 • lr=9.21e-03\n"
     ]
    },
    {
     "data": {
      "application/vnd.jupyter.widget-view+json": {
       "model_id": "1a987ac066cc4adca35a9589fa386b35",
       "version_major": 2,
       "version_minor": 0
      },
      "text/plain": [
       "Epoch 2:   0%|          | 0/55 [00:00<?, ?bundle/s]"
      ]
     },
     "metadata": {},
     "output_type": "display_data"
    },
    {
     "name": "stdout",
     "output_type": "stream",
     "text": [
      "Epoch 002 • train=0.2346 • val=0.2541 • lr=9.19e-03\n"
     ]
    },
    {
     "data": {
      "application/vnd.jupyter.widget-view+json": {
       "model_id": "90cc801004e04e1dbf06d9a802596f61",
       "version_major": 2,
       "version_minor": 0
      },
      "text/plain": [
       "Epoch 3:   0%|          | 0/55 [00:00<?, ?bundle/s]"
      ]
     },
     "metadata": {},
     "output_type": "display_data"
    },
    {
     "name": "stdout",
     "output_type": "stream",
     "text": [
      "Epoch 003 • train=0.1742 • val=0.3376 • lr=9.16e-03\n"
     ]
    },
    {
     "data": {
      "application/vnd.jupyter.widget-view+json": {
       "model_id": "17360df9e0d34479b79f52b38333abab",
       "version_major": 2,
       "version_minor": 0
      },
      "text/plain": [
       "Epoch 4:   0%|          | 0/55 [00:00<?, ?bundle/s]"
      ]
     },
     "metadata": {},
     "output_type": "display_data"
    },
    {
     "name": "stdout",
     "output_type": "stream",
     "text": [
      "Epoch 004 • train=0.1999 • val=0.3730 • lr=9.12e-03\n"
     ]
    },
    {
     "data": {
      "application/vnd.jupyter.widget-view+json": {
       "model_id": "42fc97c425cc494a8858221eed12c615",
       "version_major": 2,
       "version_minor": 0
      },
      "text/plain": [
       "Epoch 5:   0%|          | 0/55 [00:00<?, ?bundle/s]"
      ]
     },
     "metadata": {},
     "output_type": "display_data"
    },
    {
     "name": "stdout",
     "output_type": "stream",
     "text": [
      "Epoch 005 • train=0.2242 • val=0.2726 • lr=9.07e-03\n"
     ]
    },
    {
     "data": {
      "application/vnd.jupyter.widget-view+json": {
       "model_id": "8f895634b4124a7e90dacaa30dcc2c18",
       "version_major": 2,
       "version_minor": 0
      },
      "text/plain": [
       "Epoch 6:   0%|          | 0/55 [00:00<?, ?bundle/s]"
      ]
     },
     "metadata": {},
     "output_type": "display_data"
    },
    {
     "name": "stdout",
     "output_type": "stream",
     "text": [
      "Epoch 006 • train=0.2201 • val=0.2737 • lr=9.00e-03\n"
     ]
    },
    {
     "data": {
      "application/vnd.jupyter.widget-view+json": {
       "model_id": "9bb3637794b14e6d86eb4553c08cb058",
       "version_major": 2,
       "version_minor": 0
      },
      "text/plain": [
       "Epoch 7:   0%|          | 0/55 [00:00<?, ?bundle/s]"
      ]
     },
     "metadata": {},
     "output_type": "display_data"
    },
    {
     "name": "stdout",
     "output_type": "stream",
     "text": [
      "Epoch 007 • train=0.2226 • val=0.2523 • lr=8.92e-03\n"
     ]
    },
    {
     "data": {
      "application/vnd.jupyter.widget-view+json": {
       "model_id": "8720cd199cb04b70a7283f98516ec659",
       "version_major": 2,
       "version_minor": 0
      },
      "text/plain": [
       "Epoch 8:   0%|          | 0/55 [00:00<?, ?bundle/s]"
      ]
     },
     "metadata": {},
     "output_type": "display_data"
    },
    {
     "name": "stdout",
     "output_type": "stream",
     "text": [
      "Epoch 008 • train=0.1908 • val=0.3236 • lr=8.84e-03\n"
     ]
    },
    {
     "data": {
      "application/vnd.jupyter.widget-view+json": {
       "model_id": "b59edbd79fde46a7b0448e6e68e0d802",
       "version_major": 2,
       "version_minor": 0
      },
      "text/plain": [
       "Epoch 9:   0%|          | 0/55 [00:00<?, ?bundle/s]"
      ]
     },
     "metadata": {},
     "output_type": "display_data"
    },
    {
     "name": "stdout",
     "output_type": "stream",
     "text": [
      "Epoch 009 • train=0.2155 • val=0.2977 • lr=8.74e-03\n"
     ]
    },
    {
     "data": {
      "application/vnd.jupyter.widget-view+json": {
       "model_id": "72e57bb427be48628edca1d3fc1a2a55",
       "version_major": 2,
       "version_minor": 0
      },
      "text/plain": [
       "Epoch 10:   0%|          | 0/55 [00:00<?, ?bundle/s]"
      ]
     },
     "metadata": {},
     "output_type": "display_data"
    },
    {
     "name": "stdout",
     "output_type": "stream",
     "text": [
      "Epoch 010 • train=0.2020 • val=0.3135 • lr=8.63e-03\n"
     ]
    },
    {
     "data": {
      "application/vnd.jupyter.widget-view+json": {
       "model_id": "5e8db9fc042d49fda02ec8552bd81a72",
       "version_major": 2,
       "version_minor": 0
      },
      "text/plain": [
       "Epoch 11:   0%|          | 0/55 [00:00<?, ?bundle/s]"
      ]
     },
     "metadata": {},
     "output_type": "display_data"
    },
    {
     "name": "stdout",
     "output_type": "stream",
     "text": [
      "Epoch 011 • train=0.2189 • val=0.2788 • lr=8.50e-03\n"
     ]
    },
    {
     "data": {
      "application/vnd.jupyter.widget-view+json": {
       "model_id": "f46f228ea2ce4557a421f119e56296a0",
       "version_major": 2,
       "version_minor": 0
      },
      "text/plain": [
       "Epoch 12:   0%|          | 0/55 [00:00<?, ?bundle/s]"
      ]
     },
     "metadata": {},
     "output_type": "display_data"
    },
    {
     "name": "stdout",
     "output_type": "stream",
     "text": [
      "Epoch 012 • train=0.2014 • val=0.3111 • lr=8.37e-03\n"
     ]
    },
    {
     "data": {
      "application/vnd.jupyter.widget-view+json": {
       "model_id": "3d7f7268fd7242618b45dd0e6bfb7c3a",
       "version_major": 2,
       "version_minor": 0
      },
      "text/plain": [
       "Epoch 13:   0%|          | 0/55 [00:00<?, ?bundle/s]"
      ]
     },
     "metadata": {},
     "output_type": "display_data"
    },
    {
     "name": "stdout",
     "output_type": "stream",
     "text": [
      "Epoch 013 • train=0.2071 • val=0.2627 • lr=8.23e-03\n"
     ]
    },
    {
     "data": {
      "application/vnd.jupyter.widget-view+json": {
       "model_id": "a3d183af9d4a43328b15c5f480a31a91",
       "version_major": 2,
       "version_minor": 0
      },
      "text/plain": [
       "Epoch 14:   0%|          | 0/55 [00:00<?, ?bundle/s]"
      ]
     },
     "metadata": {},
     "output_type": "display_data"
    },
    {
     "name": "stdout",
     "output_type": "stream",
     "text": [
      "Epoch 014 • train=0.1943 • val=0.2808 • lr=8.08e-03\n"
     ]
    },
    {
     "data": {
      "application/vnd.jupyter.widget-view+json": {
       "model_id": "74fa64c8c7ff42b1b502df66e5b96d69",
       "version_major": 2,
       "version_minor": 0
      },
      "text/plain": [
       "Epoch 15:   0%|          | 0/55 [00:00<?, ?bundle/s]"
      ]
     },
     "metadata": {},
     "output_type": "display_data"
    },
    {
     "name": "stdout",
     "output_type": "stream",
     "text": [
      "Epoch 015 • train=0.2110 • val=0.2648 • lr=7.92e-03\n"
     ]
    },
    {
     "data": {
      "application/vnd.jupyter.widget-view+json": {
       "model_id": "414c65e9b37c4f21a7a56d2846b26419",
       "version_major": 2,
       "version_minor": 0
      },
      "text/plain": [
       "Epoch 16:   0%|          | 0/55 [00:00<?, ?bundle/s]"
      ]
     },
     "metadata": {},
     "output_type": "display_data"
    },
    {
     "name": "stdout",
     "output_type": "stream",
     "text": [
      "Epoch 016 • train=0.1849 • val=0.2931 • lr=7.75e-03\n"
     ]
    },
    {
     "data": {
      "application/vnd.jupyter.widget-view+json": {
       "model_id": "30a234bb55eb46639f84edea961562d7",
       "version_major": 2,
       "version_minor": 0
      },
      "text/plain": [
       "Epoch 17:   0%|          | 0/55 [00:00<?, ?bundle/s]"
      ]
     },
     "metadata": {},
     "output_type": "display_data"
    },
    {
     "name": "stdout",
     "output_type": "stream",
     "text": [
      "Epoch 017 • train=0.2209 • val=0.2861 • lr=7.58e-03\n"
     ]
    },
    {
     "data": {
      "application/vnd.jupyter.widget-view+json": {
       "model_id": "3e9aaac646c14df1ae67a7317461d740",
       "version_major": 2,
       "version_minor": 0
      },
      "text/plain": [
       "Epoch 18:   0%|          | 0/55 [00:00<?, ?bundle/s]"
      ]
     },
     "metadata": {},
     "output_type": "display_data"
    },
    {
     "name": "stdout",
     "output_type": "stream",
     "text": [
      "Epoch 018 • train=0.2076 • val=0.3091 • lr=7.39e-03\n"
     ]
    },
    {
     "data": {
      "application/vnd.jupyter.widget-view+json": {
       "model_id": "7ce6264cfe324aac819e5064c368f8ea",
       "version_major": 2,
       "version_minor": 0
      },
      "text/plain": [
       "Epoch 19:   0%|          | 0/55 [00:00<?, ?bundle/s]"
      ]
     },
     "metadata": {},
     "output_type": "display_data"
    },
    {
     "name": "stderr",
     "output_type": "stream",
     "text": [
      "[I 2025-07-22 17:24:11,064] Trial 3 finished with value: 0.2522931787931867 and parameters: {'DROPOUT_SHORT': 0.27990047893026754, 'DROPOUT_LONG': 0.3877852621379393, 'ATT_HEADS': 2, 'ATT_DROPOUT': 0.2477616496657638, 'INITIAL_LR': 0.00921690669812697, 'ETA_MIN': 0.0003520614754014031, 'WEIGHT_DECAY': 0.0023064536577554313, 'CLIPNORM': 0.25456308970619446, 'LR_EPOCHS_WARMUP': 5}. Best is trial 1 with value: 0.24030596188900213.\n"
     ]
    },
    {
     "name": "stdout",
     "output_type": "stream",
     "text": [
      "Epoch 019 • train=0.2196 • val=0.2672 • lr=7.20e-03\n",
      "Early stopping at epoch 19\n",
      "Saved full model + hparams to dfs training/GOOGL_0.2523.pth\n",
      "\n",
      "▶ Trial 4 starting with:\n",
      "{'DROPOUT_SHORT': 0.23071942275805726, 'DROPOUT_LONG': 0.39541958034481206, 'ATT_HEADS': 8, 'ATT_DROPOUT': 0.1944277661322775, 'INITIAL_LR': 0.003679819195646182, 'ETA_MIN': 0.00041481468215198627, 'WEIGHT_DECAY': 0.00816566421353576, 'CLIPNORM': 0.49385646969046804, 'LR_EPOCHS_WARMUP': 7}\n",
      "\n"
     ]
    },
    {
     "data": {
      "image/png": "[encoded data removed]",
      "text/plain": [
       "<Figure size 660x440 with 1 Axes>"
      ]
     },
     "metadata": {},
     "output_type": "display_data"
    },
    {
     "data": {
      "application/vnd.jupyter.widget-view+json": {
       "model_id": "1a8177dc36f84a96979d0b2e5f6d887a",
       "version_major": 2,
       "version_minor": 0
      },
      "text/plain": [
       "Epoch 1:   0%|          | 0/55 [00:00<?, ?bundle/s]"
      ]
     },
     "metadata": {},
     "output_type": "display_data"
    },
    {
     "name": "stdout",
     "output_type": "stream",
     "text": [
      "Epoch 001 • train=0.3446 • val=0.3888 • lr=3.68e-03\n"
     ]
    },
    {
     "data": {
      "application/vnd.jupyter.widget-view+json": {
       "model_id": "2b0be928eeef48fc91ec8d746f763ecc",
       "version_major": 2,
       "version_minor": 0
      },
      "text/plain": [
       "Epoch 2:   0%|          | 0/55 [00:00<?, ?bundle/s]"
      ]
     },
     "metadata": {},
     "output_type": "display_data"
    },
    {
     "name": "stdout",
     "output_type": "stream",
     "text": [
      "Epoch 002 • train=0.1984 • val=0.2541 • lr=3.67e-03\n"
     ]
    },
    {
     "data": {
      "application/vnd.jupyter.widget-view+json": {
       "model_id": "79281796330f4af682cb78fb9d58191e",
       "version_major": 2,
       "version_minor": 0
      },
      "text/plain": [
       "Epoch 3:   0%|          | 0/55 [00:00<?, ?bundle/s]"
      ]
     },
     "metadata": {},
     "output_type": "display_data"
    },
    {
     "name": "stdout",
     "output_type": "stream",
     "text": [
      "Epoch 003 • train=0.1720 • val=0.3151 • lr=3.66e-03\n"
     ]
    },
    {
     "data": {
      "application/vnd.jupyter.widget-view+json": {
       "model_id": "0052b043eba24de398b9c48b50685ed2",
       "version_major": 2,
       "version_minor": 0
      },
      "text/plain": [
       "Epoch 4:   0%|          | 0/55 [00:00<?, ?bundle/s]"
      ]
     },
     "metadata": {},
     "output_type": "display_data"
    },
    {
     "name": "stdout",
     "output_type": "stream",
     "text": [
      "Epoch 004 • train=0.2297 • val=0.2435 • lr=3.64e-03\n"
     ]
    },
    {
     "data": {
      "application/vnd.jupyter.widget-view+json": {
       "model_id": "92faaeaf274e4847b7f6c967184e57f6",
       "version_major": 2,
       "version_minor": 0
      },
      "text/plain": [
       "Epoch 5:   0%|          | 0/55 [00:00<?, ?bundle/s]"
      ]
     },
     "metadata": {},
     "output_type": "display_data"
    },
    {
     "name": "stdout",
     "output_type": "stream",
     "text": [
      "Epoch 005 • train=0.1896 • val=0.2891 • lr=3.62e-03\n"
     ]
    },
    {
     "data": {
      "application/vnd.jupyter.widget-view+json": {
       "model_id": "92a5471eecc7474e83f7c215406bf9ce",
       "version_major": 2,
       "version_minor": 0
      },
      "text/plain": [
       "Epoch 6:   0%|          | 0/55 [00:00<?, ?bundle/s]"
      ]
     },
     "metadata": {},
     "output_type": "display_data"
    },
    {
     "name": "stdout",
     "output_type": "stream",
     "text": [
      "Epoch 006 • train=0.2036 • val=0.2981 • lr=3.60e-03\n"
     ]
    },
    {
     "data": {
      "application/vnd.jupyter.widget-view+json": {
       "model_id": "416b909297c24ef8a37598c92aceb856",
       "version_major": 2,
       "version_minor": 0
      },
      "text/plain": [
       "Epoch 7:   0%|          | 0/55 [00:00<?, ?bundle/s]"
      ]
     },
     "metadata": {},
     "output_type": "display_data"
    },
    {
     "name": "stdout",
     "output_type": "stream",
     "text": [
      "Epoch 007 • train=0.2025 • val=0.2625 • lr=3.57e-03\n"
     ]
    },
    {
     "data": {
      "application/vnd.jupyter.widget-view+json": {
       "model_id": "ffe72b4efa2d49969f8f99c6b9a568d7",
       "version_major": 2,
       "version_minor": 0
      },
      "text/plain": [
       "Epoch 8:   0%|          | 0/55 [00:00<?, ?bundle/s]"
      ]
     },
     "metadata": {},
     "output_type": "display_data"
    },
    {
     "name": "stdout",
     "output_type": "stream",
     "text": [
      "Epoch 008 • train=0.1815 • val=0.3015 • lr=3.54e-03\n"
     ]
    },
    {
     "data": {
      "application/vnd.jupyter.widget-view+json": {
       "model_id": "2aec75a94b264155b90904775bf41923",
       "version_major": 2,
       "version_minor": 0
      },
      "text/plain": [
       "Epoch 9:   0%|          | 0/55 [00:00<?, ?bundle/s]"
      ]
     },
     "metadata": {},
     "output_type": "display_data"
    },
    {
     "name": "stdout",
     "output_type": "stream",
     "text": [
      "Epoch 009 • train=0.2052 • val=0.2843 • lr=3.50e-03\n"
     ]
    },
    {
     "data": {
      "application/vnd.jupyter.widget-view+json": {
       "model_id": "48f096d168d74c7eacc1320bd9c87520",
       "version_major": 2,
       "version_minor": 0
      },
      "text/plain": [
       "Epoch 10:   0%|          | 0/55 [00:00<?, ?bundle/s]"
      ]
     },
     "metadata": {},
     "output_type": "display_data"
    },
    {
     "name": "stdout",
     "output_type": "stream",
     "text": [
      "Epoch 010 • train=0.1972 • val=0.2518 • lr=3.46e-03\n"
     ]
    },
    {
     "data": {
      "application/vnd.jupyter.widget-view+json": {
       "model_id": "ff1e647e49094ce7943033f36cba5518",
       "version_major": 2,
       "version_minor": 0
      },
      "text/plain": [
       "Epoch 11:   0%|          | 0/55 [00:00<?, ?bundle/s]"
      ]
     },
     "metadata": {},
     "output_type": "display_data"
    },
    {
     "name": "stdout",
     "output_type": "stream",
     "text": [
      "Epoch 011 • train=0.1714 • val=0.2723 • lr=3.42e-03\n"
     ]
    },
    {
     "data": {
      "application/vnd.jupyter.widget-view+json": {
       "model_id": "547e6dbcbe864191b781141d69f5afe4",
       "version_major": 2,
       "version_minor": 0
      },
      "text/plain": [
       "Epoch 12:   0%|          | 0/55 [00:00<?, ?bundle/s]"
      ]
     },
     "metadata": {},
     "output_type": "display_data"
    },
    {
     "name": "stdout",
     "output_type": "stream",
     "text": [
      "Epoch 012 • train=0.1894 • val=0.2447 • lr=3.37e-03\n"
     ]
    },
    {
     "data": {
      "application/vnd.jupyter.widget-view+json": {
       "model_id": "e26ec42e24ab4d28af2db65c4cd6f348",
       "version_major": 2,
       "version_minor": 0
      },
      "text/plain": [
       "Epoch 13:   0%|          | 0/55 [00:00<?, ?bundle/s]"
      ]
     },
     "metadata": {},
     "output_type": "display_data"
    },
    {
     "name": "stdout",
     "output_type": "stream",
     "text": [
      "Epoch 013 • train=0.1687 • val=0.3307 • lr=3.32e-03\n"
     ]
    },
    {
     "data": {
      "application/vnd.jupyter.widget-view+json": {
       "model_id": "ea4ea831be484cea81d4bffa1eb1f90a",
       "version_major": 2,
       "version_minor": 0
      },
      "text/plain": [
       "Epoch 14:   0%|          | 0/55 [00:00<?, ?bundle/s]"
      ]
     },
     "metadata": {},
     "output_type": "display_data"
    },
    {
     "name": "stdout",
     "output_type": "stream",
     "text": [
      "Epoch 014 • train=0.1978 • val=0.2910 • lr=3.26e-03\n"
     ]
    },
    {
     "data": {
      "application/vnd.jupyter.widget-view+json": {
       "model_id": "40173474f2c44e3ab70ca78200b6c155",
       "version_major": 2,
       "version_minor": 0
      },
      "text/plain": [
       "Epoch 15:   0%|          | 0/55 [00:00<?, ?bundle/s]"
      ]
     },
     "metadata": {},
     "output_type": "display_data"
    },
    {
     "name": "stdout",
     "output_type": "stream",
     "text": [
      "Epoch 015 • train=0.2134 • val=0.2553 • lr=3.20e-03\n"
     ]
    },
    {
     "data": {
      "application/vnd.jupyter.widget-view+json": {
       "model_id": "272bde5644254424b624a846b9f75445",
       "version_major": 2,
       "version_minor": 0
      },
      "text/plain": [
       "Epoch 16:   0%|          | 0/55 [00:00<?, ?bundle/s]"
      ]
     },
     "metadata": {},
     "output_type": "display_data"
    },
    {
     "name": "stderr",
     "output_type": "stream",
     "text": [
      "[I 2025-07-22 17:33:10,649] Trial 4 finished with value: 0.2435260251878601 and parameters: {'DROPOUT_SHORT': 0.23071942275805726, 'DROPOUT_LONG': 0.39541958034481206, 'ATT_HEADS': 8, 'ATT_DROPOUT': 0.1944277661322775, 'INITIAL_LR': 0.003679819195646182, 'ETA_MIN': 0.00041481468215198627, 'WEIGHT_DECAY': 0.00816566421353576, 'CLIPNORM': 0.49385646969046804, 'LR_EPOCHS_WARMUP': 7}. Best is trial 1 with value: 0.24030596188900213.\n"
     ]
    },
    {
     "name": "stdout",
     "output_type": "stream",
     "text": [
      "Epoch 016 • train=0.1882 • val=0.2647 • lr=3.14e-03\n",
      "Early stopping at epoch 16\n",
      "Saved full model + hparams to dfs training/GOOGL_0.2435.pth\n",
      "\n",
      "▶ Trial 5 starting with:\n",
      "{'DROPOUT_SHORT': 0.2752240058793497, 'DROPOUT_LONG': 0.38848790237588926, 'ATT_HEADS': 4, 'ATT_DROPOUT': 0.3143312064339846, 'INITIAL_LR': 0.008505864578960411, 'ETA_MIN': 0.0004899043565346714, 'WEIGHT_DECAY': 0.0084822268310861, 'CLIPNORM': 0.28193792388654604, 'LR_EPOCHS_WARMUP': 8}\n",
      "\n"
     ]
    },
    {
     "data": {
      "image/png": "[encoded data removed]",
      "text/plain": [
       "<Figure size 660x440 with 1 Axes>"
      ]
     },
     "metadata": {},
     "output_type": "display_data"
    },
    {
     "data": {
      "application/vnd.jupyter.widget-view+json": {
       "model_id": "096f0b98a81545a2849b3653589e28fe",
       "version_major": 2,
       "version_minor": 0
      },
      "text/plain": [
       "Epoch 1:   0%|          | 0/55 [00:00<?, ?bundle/s]"
      ]
     },
     "metadata": {},
     "output_type": "display_data"
    },
    {
     "name": "stdout",
     "output_type": "stream",
     "text": [
      "Epoch 001 • train=0.5058 • val=0.3404 • lr=8.50e-03\n"
     ]
    },
    {
     "data": {
      "application/vnd.jupyter.widget-view+json": {
       "model_id": "4a0ec4d014e241969fc911f7b8c7c72e",
       "version_major": 2,
       "version_minor": 0
      },
      "text/plain": [
       "Epoch 2:   0%|          | 0/55 [00:00<?, ?bundle/s]"
      ]
     },
     "metadata": {},
     "output_type": "display_data"
    },
    {
     "name": "stdout",
     "output_type": "stream",
     "text": [
      "Epoch 002 • train=0.1849 • val=0.3459 • lr=8.48e-03\n"
     ]
    },
    {
     "data": {
      "application/vnd.jupyter.widget-view+json": {
       "model_id": "d74e788bd73b494d9c61ee265d16f330",
       "version_major": 2,
       "version_minor": 0
      },
      "text/plain": [
       "Epoch 3:   0%|          | 0/55 [00:00<?, ?bundle/s]"
      ]
     },
     "metadata": {},
     "output_type": "display_data"
    },
    {
     "name": "stdout",
     "output_type": "stream",
     "text": [
      "Epoch 003 • train=0.1947 • val=0.2782 • lr=8.46e-03\n"
     ]
    },
    {
     "data": {
      "application/vnd.jupyter.widget-view+json": {
       "model_id": "7f528c3811524bdaa672679a70960830",
       "version_major": 2,
       "version_minor": 0
      },
      "text/plain": [
       "Epoch 4:   0%|          | 0/55 [00:00<?, ?bundle/s]"
      ]
     },
     "metadata": {},
     "output_type": "display_data"
    },
    {
     "name": "stdout",
     "output_type": "stream",
     "text": [
      "Epoch 004 • train=0.2027 • val=0.3026 • lr=8.42e-03\n"
     ]
    },
    {
     "data": {
      "application/vnd.jupyter.widget-view+json": {
       "model_id": "8837c7b8ff0945719b42d9fed7b26d64",
       "version_major": 2,
       "version_minor": 0
      },
      "text/plain": [
       "Epoch 5:   0%|          | 0/55 [00:00<?, ?bundle/s]"
      ]
     },
     "metadata": {},
     "output_type": "display_data"
    },
    {
     "name": "stdout",
     "output_type": "stream",
     "text": [
      "Epoch 005 • train=0.2109 • val=0.2614 • lr=8.37e-03\n"
     ]
    },
    {
     "data": {
      "application/vnd.jupyter.widget-view+json": {
       "model_id": "69345c5a794e417c84bd0f520628effd",
       "version_major": 2,
       "version_minor": 0
      },
      "text/plain": [
       "Epoch 6:   0%|          | 0/55 [00:00<?, ?bundle/s]"
      ]
     },
     "metadata": {},
     "output_type": "display_data"
    },
    {
     "name": "stdout",
     "output_type": "stream",
     "text": [
      "Epoch 006 • train=0.1856 • val=0.2754 • lr=8.31e-03\n"
     ]
    },
    {
     "data": {
      "application/vnd.jupyter.widget-view+json": {
       "model_id": "1f7b02326f7b42289199c59299544593",
       "version_major": 2,
       "version_minor": 0
      },
      "text/plain": [
       "Epoch 7:   0%|          | 0/55 [00:00<?, ?bundle/s]"
      ]
     },
     "metadata": {},
     "output_type": "display_data"
    }
   ],
   "source": [
    "# ──────────────────────────────────────────────────────────────────────────────\n",
    "#  Create Optuna study and run optimization\n",
    "# ──────────────────────────────────────────────────────────────────────────────\n",
    "study = optuna.create_study(\n",
    "    direction=\"minimize\",\n",
    "    pruner   = MedianPruner(n_startup_trials=6, n_warmup_steps=12),\n",
    ")\n",
    "study.optimize(\n",
    "    objective_train,\n",
    "    n_trials = 120,\n",
    "    n_jobs   = 1,\n",
    "    callbacks=[live_cb],\n",
    ")\n",
    "\n",
    "# ──────────────────────────────────────────────────────────────────────────────\n",
    "#  Print out the best hyperparameters & result\n",
    "# ──────────────────────────────────────────────────────────────────────────────\n",
    "print(\"Best hyperparameters:\", study.best_params)\n",
    "print(\"Best validation RMSE:\", study.best_value)\n",
    "\n",
    "# ──────────────────────────────────────────────────────────────────────────────\n",
    "#  Compute and print parameter importances\n",
    "# ──────────────────────────────────────────────────────────────────────────────\n",
    "imps = get_param_importances(study)\n",
    "print(\"\\nHyperparameter importances (higher ⇒ more impact on RMSE):\")\n",
    "for name, score in sorted(imps.items(), key=lambda x: x[1], reverse=True):\n",
    "    print(f\"  {name:20s} : {score:.3f}\")\n",
    "\n",
    "# ──────────────────────────────────────────────────────────────────────────────\n",
    "#  Dump study results to JSON\n",
    "# ──────────────────────────────────────────────────────────────────────────────\n",
    "start_date  = df.index.min().strftime(\"%Y%m%d\")\n",
    "end_date    = df.index.max().strftime(\"%Y%m%d\")\n",
    "file_name   = f\"{ticker}_{start_date}-{end_date}_optuna_hyperpars.json\"\n",
    "file_path   = os.path.join(results_folder, file_name)\n",
    "\n",
    "with open(file_path, \"w\") as f:\n",
    "    json.dump(\n",
    "        {\n",
    "            \"best_params\": study.best_params,\n",
    "            \"best_value\" : study.best_value,\n",
    "            \"importances\": imps,\n",
    "            \"trials\": [\n",
    "                {\"number\": t.number, \"value\": t.value, \"params\": t.params, \n",
    "                 \"state\": t.state.name}\n",
    "                for t in study.trials\n",
    "            ],\n",
    "        },\n",
    "        f,\n",
    "        indent=4,\n",
    "    )\n",
    "\n",
    "print(f\"\\nOptuna results (and importances) saved to: {file_path}\")\n"
   ]
  },
  {
   "cell_type": "code",
   "execution_count": null,
   "id": "6865782e-fc07-4354-a5b9-2cdeed1ebad9",
   "metadata": {},
   "outputs": [],
   "source": []
  },
  {
   "cell_type": "code",
   "execution_count": null,
   "id": "cbaa9fb2-411b-4d9f-9a33-e6f6c59de7dd",
   "metadata": {},
   "outputs": [],
   "source": []
  }
 ],
 "metadata": {
  "kernelspec": {
   "display_name": "Python 3 (ipykernel)",
   "language": "python",
   "name": "python3"
  },
  "language_info": {
   "codemirror_mode": {
    "name": "ipython",
    "version": 3
   },
   "file_extension": ".py",
   "mimetype": "text/x-python",
   "name": "python",
   "nbconvert_exporter": "python",
   "pygments_lexer": "ipython3",
   "version": "3.12.3"
  }
 },
 "nbformat": 4,
 "nbformat_minor": 5
}
