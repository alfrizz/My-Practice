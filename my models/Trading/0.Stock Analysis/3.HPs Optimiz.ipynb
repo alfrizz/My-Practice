{
 "cells": [
  {
   "cell_type": "code",
   "execution_count": 1,
   "id": "8d702d5b-d0fb-48ab-9a48-134bb847bab5",
   "metadata": {},
   "outputs": [
    {
     "name": "stderr",
     "output_type": "stream",
     "text": [
      "/usr/local/lib/python3.12/dist-packages/tqdm/auto.py:21: TqdmWarning: IProgress not found. Please update jupyter and ipywidgets. See https://ipywidgets.readthedocs.io/en/stable/user_install.html\n",
      "  from .autonotebook import tqdm as notebook_tqdm\n"
     ]
    }
   ],
   "source": [
    "# 1) Wipe out all Python variables\n",
    "%reset -f\n",
    "# 2) Force Python’s garbage collector to run\n",
    "import gc\n",
    "gc.collect()\n",
    "\n",
    "import importlib\n",
    "from libs import trades, plots, params, models\n",
    "importlib.reload(trades)\n",
    "importlib.reload(plots)\n",
    "importlib.reload(params)\n",
    "importlib.reload(models)\n",
    "\n",
    "import os\n",
    "import numpy as np\n",
    "import pandas as pd\n",
    "import datetime as dt\n",
    "from pathlib import Path\n",
    "import matplotlib.pyplot as plt\n",
    "\n",
    "import torch\n",
    "from torch import nn\n",
    "from torch.utils.data import DataLoader, TensorDataset\n",
    "from torch.optim import AdamW\n",
    "from torch.optim.lr_scheduler import ReduceLROnPlateau, CosineAnnealingWarmRestarts\n",
    "from torch.cuda.amp import GradScaler, autocast\n",
    "\n",
    "import optuna\n",
    "from optuna.pruners import MedianPruner\n",
    "from optuna.exceptions import TrialPruned\n",
    "\n"
   ]
  },
  {
   "cell_type": "code",
   "execution_count": 2,
   "id": "a9498b30-9abb-4123-87f1-0ed191478e49",
   "metadata": {},
   "outputs": [
    {
     "name": "stdout",
     "output_type": "stream",
     "text": [
      "Using device: cuda\n"
     ]
    }
   ],
   "source": [
    "ticker         = params.ticker\n",
    "features_cols  = params.features_cols\n",
    "label_col      = params.label_col\n",
    "look_back      = params.look_back \n",
    "\n",
    "save_path = Path(params.save_path)\n",
    "in_path   = save_path / f\"{ticker}_ready.csv\"\n",
    "out_path  = save_path / f\"{ticker}_final.csv\"\n",
    "\n",
    "# USE GPU if available, otherwise fallback to CPU\n",
    "device = params.device\n",
    "print(\"Using device:\", device)"
   ]
  },
  {
   "cell_type": "code",
   "execution_count": 3,
   "id": "2497bbf7-991e-484d-b0dc-f352f0190b40",
   "metadata": {},
   "outputs": [
    {
     "name": "stdout",
     "output_type": "stream",
     "text": [
      "→ Running feature_engineering on GOOGL_ready.csv\n",
      "→ Saving enriched data to GOOGL_final.csv\n"
     ]
    },
    {
     "data": {
      "text/html": [
       "<div>\n",
       "<style scoped>\n",
       "    .dataframe tbody tr th:only-of-type {\n",
       "        vertical-align: middle;\n",
       "    }\n",
       "\n",
       "    .dataframe tbody tr th {\n",
       "        vertical-align: top;\n",
       "    }\n",
       "\n",
       "    .dataframe thead th {\n",
       "        text-align: right;\n",
       "    }\n",
       "</style>\n",
       "<table border=\"1\" class=\"dataframe\">\n",
       "  <thead>\n",
       "    <tr style=\"text-align: right;\">\n",
       "      <th></th>\n",
       "      <th>open</th>\n",
       "      <th>high</th>\n",
       "      <th>low</th>\n",
       "      <th>close</th>\n",
       "      <th>volume</th>\n",
       "      <th>r_1</th>\n",
       "      <th>r_5</th>\n",
       "      <th>r_15</th>\n",
       "      <th>vol_15</th>\n",
       "      <th>volume_spike</th>\n",
       "      <th>vwap_dev</th>\n",
       "      <th>rsi_14</th>\n",
       "      <th>bid</th>\n",
       "      <th>ask</th>\n",
       "      <th>signal_smooth</th>\n",
       "    </tr>\n",
       "  </thead>\n",
       "  <tbody>\n",
       "    <tr>\n",
       "      <th>2014-04-03 12:06:00</th>\n",
       "      <td>28.644845</td>\n",
       "      <td>28.644845</td>\n",
       "      <td>28.644845</td>\n",
       "      <td>28.644845</td>\n",
       "      <td>4580.0</td>\n",
       "      <td>-0.000180</td>\n",
       "      <td>-0.000180</td>\n",
       "      <td>-0.000180</td>\n",
       "      <td>0.000046</td>\n",
       "      <td>0.568641</td>\n",
       "      <td>-0.000177</td>\n",
       "      <td>0.000000</td>\n",
       "      <td>28.636251</td>\n",
       "      <td>28.653438</td>\n",
       "      <td>0.162925</td>\n",
       "    </tr>\n",
       "    <tr>\n",
       "      <th>2014-04-03 12:07:00</th>\n",
       "      <td>28.639690</td>\n",
       "      <td>28.639690</td>\n",
       "      <td>28.639690</td>\n",
       "      <td>28.639690</td>\n",
       "      <td>4540.0</td>\n",
       "      <td>-0.000180</td>\n",
       "      <td>-0.000360</td>\n",
       "      <td>-0.000360</td>\n",
       "      <td>0.000063</td>\n",
       "      <td>0.570338</td>\n",
       "      <td>-0.000352</td>\n",
       "      <td>0.000000</td>\n",
       "      <td>28.631098</td>\n",
       "      <td>28.648282</td>\n",
       "      <td>0.164530</td>\n",
       "    </tr>\n",
       "    <tr>\n",
       "      <th>2014-04-03 12:08:00</th>\n",
       "      <td>28.634534</td>\n",
       "      <td>28.634534</td>\n",
       "      <td>28.634534</td>\n",
       "      <td>28.634534</td>\n",
       "      <td>4500.0</td>\n",
       "      <td>-0.000180</td>\n",
       "      <td>-0.000540</td>\n",
       "      <td>-0.000540</td>\n",
       "      <td>0.000075</td>\n",
       "      <td>0.574408</td>\n",
       "      <td>-0.000524</td>\n",
       "      <td>0.000000</td>\n",
       "      <td>28.625944</td>\n",
       "      <td>28.643125</td>\n",
       "      <td>0.166141</td>\n",
       "    </tr>\n",
       "    <tr>\n",
       "      <th>2014-04-03 12:09:00</th>\n",
       "      <td>28.629379</td>\n",
       "      <td>28.629379</td>\n",
       "      <td>28.629379</td>\n",
       "      <td>28.629379</td>\n",
       "      <td>4460.0</td>\n",
       "      <td>-0.000180</td>\n",
       "      <td>-0.000720</td>\n",
       "      <td>-0.000720</td>\n",
       "      <td>0.000082</td>\n",
       "      <td>0.581017</td>\n",
       "      <td>-0.000694</td>\n",
       "      <td>0.000000</td>\n",
       "      <td>28.620791</td>\n",
       "      <td>28.637968</td>\n",
       "      <td>0.167757</td>\n",
       "    </tr>\n",
       "    <tr>\n",
       "      <th>2014-04-03 12:10:00</th>\n",
       "      <td>28.624224</td>\n",
       "      <td>28.624224</td>\n",
       "      <td>28.624224</td>\n",
       "      <td>28.624224</td>\n",
       "      <td>4420.0</td>\n",
       "      <td>-0.000180</td>\n",
       "      <td>-0.000900</td>\n",
       "      <td>-0.000900</td>\n",
       "      <td>0.000088</td>\n",
       "      <td>0.590413</td>\n",
       "      <td>-0.000862</td>\n",
       "      <td>0.000000</td>\n",
       "      <td>28.615637</td>\n",
       "      <td>28.632811</td>\n",
       "      <td>0.169381</td>\n",
       "    </tr>\n",
       "    <tr>\n",
       "      <th>...</th>\n",
       "      <td>...</td>\n",
       "      <td>...</td>\n",
       "      <td>...</td>\n",
       "      <td>...</td>\n",
       "      <td>...</td>\n",
       "      <td>...</td>\n",
       "      <td>...</td>\n",
       "      <td>...</td>\n",
       "      <td>...</td>\n",
       "      <td>...</td>\n",
       "      <td>...</td>\n",
       "      <td>...</td>\n",
       "      <td>...</td>\n",
       "      <td>...</td>\n",
       "      <td>...</td>\n",
       "    </tr>\n",
       "    <tr>\n",
       "      <th>2025-06-17 20:56:00</th>\n",
       "      <td>176.090000</td>\n",
       "      <td>176.160000</td>\n",
       "      <td>176.010000</td>\n",
       "      <td>176.050000</td>\n",
       "      <td>126589.0</td>\n",
       "      <td>-0.000284</td>\n",
       "      <td>-0.000681</td>\n",
       "      <td>-0.001297</td>\n",
       "      <td>0.000443</td>\n",
       "      <td>1.610125</td>\n",
       "      <td>1.217786</td>\n",
       "      <td>39.325843</td>\n",
       "      <td>175.997200</td>\n",
       "      <td>176.102800</td>\n",
       "      <td>0.000000</td>\n",
       "    </tr>\n",
       "    <tr>\n",
       "      <th>2025-06-17 20:57:00</th>\n",
       "      <td>176.050000</td>\n",
       "      <td>176.080000</td>\n",
       "      <td>175.890000</td>\n",
       "      <td>175.930000</td>\n",
       "      <td>125176.0</td>\n",
       "      <td>-0.000682</td>\n",
       "      <td>-0.000398</td>\n",
       "      <td>-0.001761</td>\n",
       "      <td>0.000469</td>\n",
       "      <td>1.478464</td>\n",
       "      <td>1.216271</td>\n",
       "      <td>34.328358</td>\n",
       "      <td>175.877200</td>\n",
       "      <td>175.982800</td>\n",
       "      <td>0.000000</td>\n",
       "    </tr>\n",
       "    <tr>\n",
       "      <th>2025-06-17 20:58:00</th>\n",
       "      <td>175.930000</td>\n",
       "      <td>175.975000</td>\n",
       "      <td>175.860000</td>\n",
       "      <td>175.890000</td>\n",
       "      <td>200235.0</td>\n",
       "      <td>-0.000227</td>\n",
       "      <td>-0.001023</td>\n",
       "      <td>-0.002016</td>\n",
       "      <td>0.000468</td>\n",
       "      <td>2.096227</td>\n",
       "      <td>1.215761</td>\n",
       "      <td>29.648241</td>\n",
       "      <td>175.837200</td>\n",
       "      <td>175.942800</td>\n",
       "      <td>0.000000</td>\n",
       "    </tr>\n",
       "    <tr>\n",
       "      <th>2025-06-17 20:59:00</th>\n",
       "      <td>175.900000</td>\n",
       "      <td>175.970000</td>\n",
       "      <td>175.800000</td>\n",
       "      <td>175.930000</td>\n",
       "      <td>393414.0</td>\n",
       "      <td>0.000227</td>\n",
       "      <td>-0.001136</td>\n",
       "      <td>-0.002073</td>\n",
       "      <td>0.000464</td>\n",
       "      <td>3.295458</td>\n",
       "      <td>1.216254</td>\n",
       "      <td>25.925926</td>\n",
       "      <td>175.877200</td>\n",
       "      <td>175.982800</td>\n",
       "      <td>0.000000</td>\n",
       "    </tr>\n",
       "    <tr>\n",
       "      <th>2025-06-17 21:00:00</th>\n",
       "      <td>175.930000</td>\n",
       "      <td>176.040000</td>\n",
       "      <td>175.800000</td>\n",
       "      <td>175.950000</td>\n",
       "      <td>5670184.0</td>\n",
       "      <td>0.000114</td>\n",
       "      <td>-0.000852</td>\n",
       "      <td>-0.002469</td>\n",
       "      <td>0.000435</td>\n",
       "      <td>11.461178</td>\n",
       "      <td>1.216344</td>\n",
       "      <td>27.748691</td>\n",
       "      <td>175.897200</td>\n",
       "      <td>176.002800</td>\n",
       "      <td>0.000000</td>\n",
       "    </tr>\n",
       "  </tbody>\n",
       "</table>\n",
       "<p>1473635 rows × 15 columns</p>\n",
       "</div>"
      ],
      "text/plain": [
       "                           open        high         low       close  \\\n",
       "2014-04-03 12:06:00   28.644845   28.644845   28.644845   28.644845   \n",
       "2014-04-03 12:07:00   28.639690   28.639690   28.639690   28.639690   \n",
       "2014-04-03 12:08:00   28.634534   28.634534   28.634534   28.634534   \n",
       "2014-04-03 12:09:00   28.629379   28.629379   28.629379   28.629379   \n",
       "2014-04-03 12:10:00   28.624224   28.624224   28.624224   28.624224   \n",
       "...                         ...         ...         ...         ...   \n",
       "2025-06-17 20:56:00  176.090000  176.160000  176.010000  176.050000   \n",
       "2025-06-17 20:57:00  176.050000  176.080000  175.890000  175.930000   \n",
       "2025-06-17 20:58:00  175.930000  175.975000  175.860000  175.890000   \n",
       "2025-06-17 20:59:00  175.900000  175.970000  175.800000  175.930000   \n",
       "2025-06-17 21:00:00  175.930000  176.040000  175.800000  175.950000   \n",
       "\n",
       "                        volume       r_1       r_5      r_15    vol_15  \\\n",
       "2014-04-03 12:06:00     4580.0 -0.000180 -0.000180 -0.000180  0.000046   \n",
       "2014-04-03 12:07:00     4540.0 -0.000180 -0.000360 -0.000360  0.000063   \n",
       "2014-04-03 12:08:00     4500.0 -0.000180 -0.000540 -0.000540  0.000075   \n",
       "2014-04-03 12:09:00     4460.0 -0.000180 -0.000720 -0.000720  0.000082   \n",
       "2014-04-03 12:10:00     4420.0 -0.000180 -0.000900 -0.000900  0.000088   \n",
       "...                        ...       ...       ...       ...       ...   \n",
       "2025-06-17 20:56:00   126589.0 -0.000284 -0.000681 -0.001297  0.000443   \n",
       "2025-06-17 20:57:00   125176.0 -0.000682 -0.000398 -0.001761  0.000469   \n",
       "2025-06-17 20:58:00   200235.0 -0.000227 -0.001023 -0.002016  0.000468   \n",
       "2025-06-17 20:59:00   393414.0  0.000227 -0.001136 -0.002073  0.000464   \n",
       "2025-06-17 21:00:00  5670184.0  0.000114 -0.000852 -0.002469  0.000435   \n",
       "\n",
       "                     volume_spike  vwap_dev     rsi_14         bid  \\\n",
       "2014-04-03 12:06:00      0.568641 -0.000177   0.000000   28.636251   \n",
       "2014-04-03 12:07:00      0.570338 -0.000352   0.000000   28.631098   \n",
       "2014-04-03 12:08:00      0.574408 -0.000524   0.000000   28.625944   \n",
       "2014-04-03 12:09:00      0.581017 -0.000694   0.000000   28.620791   \n",
       "2014-04-03 12:10:00      0.590413 -0.000862   0.000000   28.615637   \n",
       "...                           ...       ...        ...         ...   \n",
       "2025-06-17 20:56:00      1.610125  1.217786  39.325843  175.997200   \n",
       "2025-06-17 20:57:00      1.478464  1.216271  34.328358  175.877200   \n",
       "2025-06-17 20:58:00      2.096227  1.215761  29.648241  175.837200   \n",
       "2025-06-17 20:59:00      3.295458  1.216254  25.925926  175.877200   \n",
       "2025-06-17 21:00:00     11.461178  1.216344  27.748691  175.897200   \n",
       "\n",
       "                            ask  signal_smooth  \n",
       "2014-04-03 12:06:00   28.653438       0.162925  \n",
       "2014-04-03 12:07:00   28.648282       0.164530  \n",
       "2014-04-03 12:08:00   28.643125       0.166141  \n",
       "2014-04-03 12:09:00   28.637968       0.167757  \n",
       "2014-04-03 12:10:00   28.632811       0.169381  \n",
       "...                         ...            ...  \n",
       "2025-06-17 20:56:00  176.102800       0.000000  \n",
       "2025-06-17 20:57:00  175.982800       0.000000  \n",
       "2025-06-17 20:58:00  175.942800       0.000000  \n",
       "2025-06-17 20:59:00  175.982800       0.000000  \n",
       "2025-06-17 21:00:00  176.002800       0.000000  \n",
       "\n",
       "[1473635 rows x 15 columns]"
      ]
     },
     "execution_count": 3,
     "metadata": {},
     "output_type": "execute_result"
    }
   ],
   "source": [
    "# create the _final.csv from the _ready.csv (if the _ready has been modified today or if the _final hasn´t been created yet)\n",
    "\n",
    "def was_modified_today(path: Path) -> bool:\n",
    "    \"\"\"\n",
    "    Return True if path exists AND its modification date is exactly today.\n",
    "    \"\"\"\n",
    "    if not path.exists():\n",
    "        return False\n",
    "\n",
    "    # get the file's last‐modified timestamp, convert to a date\n",
    "    mtime     = path.stat().st_mtime\n",
    "    file_date = dt.datetime.fromtimestamp(mtime).date()\n",
    "\n",
    "    # compare to today's date\n",
    "    return file_date == dt.date.today()\n",
    "\n",
    "\n",
    "def feature_engineering(df: pd.DataFrame) -> pd.DataFrame:\n",
    "    \"\"\"\n",
    "    Build your features and return a cleaned DataFrame.\n",
    "    \"\"\"\n",
    "    # 1) intraday log‐returns\n",
    "    for lag in (1, 5, 15):\n",
    "        df[f\"r_{lag}\"] = np.log(df[\"close\"] / df[\"close\"].shift(lag))\n",
    "\n",
    "    # 2) volatility & volume spikes\n",
    "    df[\"vol_15\"]       = df[\"r_1\"].rolling(15).std()\n",
    "    df[\"volume_spike\"] = df[\"volume\"] / df[\"volume\"].rolling(15).mean()\n",
    "\n",
    "    # 3) VWAP deviation\n",
    "    typ_price     = (df[\"high\"] + df[\"low\"] + df[\"close\"]) / 3\n",
    "    vwap          = (typ_price * df[\"volume\"]).cumsum() \\\n",
    "                    / df[\"volume\"].cumsum()\n",
    "    df[\"vwap_dev\"] = (df[\"close\"] - vwap) / vwap\n",
    "\n",
    "    # 4) 14‐period RSI\n",
    "    delta     = df[\"close\"].diff()\n",
    "    gain      = delta.clip(lower=0)\n",
    "    loss      = -delta.clip(upper=0)\n",
    "    avg_gain  = gain.rolling(14).mean()\n",
    "    avg_loss  = loss.rolling(14).mean()\n",
    "    rs        = avg_gain / avg_loss\n",
    "    df[\"rsi_14\"] = 100 - (100 / (1 + rs))\n",
    "\n",
    "    # 5) filter down to your features + bid/ask + label\n",
    "    df = df[features_cols + [\"bid\", \"ask\", label_col]].dropna()\n",
    "    return df\n",
    "\n",
    "\n",
    "# ─── Decide whether to rebuild or just load ────────────────────────────────\n",
    "# Rebuild if:\n",
    "#   - final CSV isn't there, OR\n",
    "#   - the \"ready\" CSV was modified today\n",
    "if (not out_path.exists()) or was_modified_today(in_path):\n",
    "    print(f\"→ Running feature_engineering on {in_path.name}\")\n",
    "    raw = pd.read_csv(in_path, index_col=0, parse_dates=True)\n",
    "    df  = feature_engineering(raw)\n",
    "    print(f\"→ Saving enriched data to {out_path.name}\")\n",
    "    df.to_csv(out_path)\n",
    "else:\n",
    "    print(f\"→ {out_path.name} is up‐to‐date; loading\")\n",
    "    df = pd.read_csv(out_path, index_col=0, parse_dates=True)\n",
    "\n",
    "df  # now ready for downstream use\n"
   ]
  },
  {
   "cell_type": "code",
   "execution_count": 4,
   "id": "e5463b8a-3346-40be-8079-9892d8c97b75",
   "metadata": {},
   "outputs": [
    {
     "name": "stdout",
     "output_type": "stream",
     "text": [
      "Shapes:\n",
      "  X         = torch.Size([1174595, 120, 12]) (samples, features, look_back)\n",
      "  y         = torch.Size([1174595]) (samples,)\n",
      "  raw_close = torch.Size([1174595])\n",
      "  raw_bid   = torch.Size([1174595])\n",
      "  raw_ask   = torch.Size([1174595])\n"
     ]
    }
   ],
   "source": [
    "# ──────────────────────────────────────────────────────────────────────────────\n",
    "# Build LSTM input tensors (disk-backed memmaps)\n",
    "#    Returns five tensors on `device`:\n",
    "#      X        : (N, look_back, F)\n",
    "#      y        : (N,)\n",
    "#      raw_close: (N,)\n",
    "#      raw_bid  : (N,)\n",
    "#      raw_ask  : (N,)\n",
    "# ──────────────────────────────────────────────────────────────────────────────\n",
    "X, y, raw_close, raw_bid, raw_ask = models.build_lstm_tensors(\n",
    "    df             = df,\n",
    "    look_back      = look_back,\n",
    "    features_cols  = features_cols,\n",
    "    label_col      = label_col,\n",
    "    regular_start  = params.regular_start_pred\n",
    ")\n",
    "\n",
    "print(\"Shapes:\")\n",
    "print(\"  X         =\", X.shape,    \"(samples, features, look_back)\")\n",
    "print(\"  y         =\", y.shape,    \"(samples,)\")\n",
    "print(\"  raw_close =\", raw_close.shape)\n",
    "print(\"  raw_bid   =\", raw_bid.shape)\n",
    "print(\"  raw_ask   =\", raw_ask.shape)"
   ]
  },
  {
   "cell_type": "code",
   "execution_count": 5,
   "id": "df3c973a-29f1-4c75-abc6-ebc8c2d27f92",
   "metadata": {},
   "outputs": [
    {
     "name": "stdout",
     "output_type": "stream",
     "text": [
      "Shapes:\n",
      "  X_tr        = torch.Size([793001, 120, 12])\n",
      "  y_tr        = torch.Size([793001])\n",
      "  raw_close_te= torch.Size([190594])\n",
      "  raw_bid_te  = torch.Size([190594])\n",
      "  raw_ask_te  = torch.Size([190594])\n"
     ]
    }
   ],
   "source": [
    "# ──────────────────────────────────────────────────────────────────────────────\n",
    "#    (We use the helper `chronological_split` that returns)\n",
    "#      (X_tr, y_tr),\n",
    "#      (X_val, y_val),\n",
    "#      (X_te, y_te, raw_close_te, raw_bid_te, raw_ask_te)\n",
    "# ──────────────────────────────────────────────────────────────────────────────\n",
    "(X_tr, y_tr), \\\n",
    "(X_val, y_val), \\\n",
    "(X_te, y_te, raw_close_te, raw_bid_te, raw_ask_te), \\\n",
    "samples_per_day, day_id_tr, day_id_val, day_id_te = models.chronological_split(\n",
    "    X, y, raw_close, raw_bid, raw_ask, df,\n",
    "    look_back       = look_back,\n",
    "    regular_start   = params.regular_start_pred,\n",
    "    train_prop      = params.train_prop,\n",
    "    val_prop        = params.val_prop,\n",
    "    train_batch     = params.hparams['TRAIN_BATCH']\n",
    ")\n",
    "\n",
    "print(\"Shapes:\")\n",
    "print(\"  X_tr        =\", X_tr.shape)\n",
    "print(\"  y_tr        =\", y_tr.shape)\n",
    "print(\"  raw_close_te=\", raw_close_te.shape)\n",
    "print(\"  raw_bid_te  =\", raw_bid_te.shape)\n",
    "print(\"  raw_ask_te  =\", raw_ask_te.shape)\n"
   ]
  },
  {
   "cell_type": "code",
   "execution_count": 14,
   "id": "6824f1a4-92dd-4952-80c6-db456d7907ef",
   "metadata": {},
   "outputs": [
    {
     "name": "stdout",
     "output_type": "stream",
     "text": [
      "▶️ Entered split_to_day_datasets\n",
      "1) building weekday arrays\n",
      "   Weekdays counts → tr=793001, val=191000, te=190594\n",
      "2) moving all splits to CPU\n",
      "   CPU casts done\n",
      "3) zero-bas­ing day_id for val & test\n",
      "   val_day_id ∈ [0..374], total days=375\n",
      "   te_day_id  ∈ [0..372], total days=373\n",
      "4) instantiating DayWindowDatasets\n",
      "   ds_tr days: 1744\n",
      "   ds_val days: 375\n",
      "   ds_te days: 373\n",
      "5) building DataLoaders\n",
      "   train_loader ready\n",
      "   val_loader ready\n",
      "   test_loader ready\n",
      "\n",
      "Baseline (zero‐forecast) RMSE on validation = 0.383251\n"
     ]
    }
   ],
   "source": [
    "# -----------------------------------------------------------------------------\n",
    "#  Build DataLoaders over calendar‐days\n",
    "# -----------------------------------------------------------------------------\n",
    "train_loader, val_loader, test_loader = models.split_to_day_datasets(\n",
    "    # Training split arrays (from chronological_split)\n",
    "    X_tr, y_tr, day_id_tr,\n",
    "    # Validation split arrays\n",
    "    X_val, y_val, day_id_val,\n",
    "    # Test split arrays + raw prices for post‐tracking\n",
    "    X_te, y_te, day_id_te, raw_close_te, raw_bid_te, raw_ask_te,\n",
    "    # Original minute‐bar DataFrame for weekday mapping\n",
    "    df=df,\n",
    "    train_batch=params.hparams['TRAIN_BATCH'],\n",
    "    train_workers=params.hparams['NUM_WORKERS']\n",
    ")\n",
    "\n",
    "baseline_val_rmse = models.naive_rmse(val_loader)\n",
    "print(f\"\\nBaseline (zero‐forecast) RMSE on validation = {baseline_val_rmse:.6f}\")"
   ]
  },
  {
   "cell_type": "code",
   "execution_count": 15,
   "id": "fdb4612b-f5bb-4e4a-8784-6d5689de67c2",
   "metadata": {},
   "outputs": [],
   "source": [
    "# ──────────────────────────────────────────────────────────────────────────────\n",
    "# Optuna objective definition\n",
    "# ──────────────────────────────────────────────────────────────────────────────\n",
    "def objective_train(trial):\n",
    "    # Sample only the knobs you care about\n",
    "    hp = {\n",
    "        # Architecture\n",
    "        \"SHORT_UNITS\"          : trial.suggest_int  (\"SHORT_UNITS\",    16, 128),\n",
    "        \"LONG_UNITS\"           : trial.suggest_int  (\"LONG_UNITS\",     32, 256),\n",
    "        \"DROPOUT_SHORT\"        : trial.suggest_float(\"DROPOUT_SHORT\",  0.0, 0.5),\n",
    "        \"DROPOUT_LONG\"         : trial.suggest_float(\"DROPOUT_LONG\",   0.0, 0.5),\n",
    "        \"ATT_HEADS\"            : trial.suggest_int  (\"ATT_HEADS\",      1,   8),\n",
    "        \"ATT_DROPOUT\"          : trial.suggest_float(\"ATT_DROPOUT\",    0.0, 0.5),\n",
    "\n",
    "        # Optimizer & scheduler\n",
    "        \"INITIAL_LR\"           : trial.suggest_loguniform(\"INITIAL_LR\",     1e-5, 1e-2),\n",
    "        \"WEIGHT_DECAY\"         : trial.suggest_loguniform(\"WEIGHT_DECAY\",   1e-6, 1e-2),\n",
    "        \"CLIPNORM\"             : trial.suggest_float(\"CLIPNORM\",       0.0, 1.0),\n",
    "        \"LR_EPOCHS_WARMUP\"     : trial.suggest_int  (\"LR_EPOCHS_WARMUP\", 1,   10),\n",
    "        \"EARLY_STOP_PATIENCE\"  : trial.suggest_int  (\"EARLY_STOP_PATIENCE\", 2, 20),\n",
    "    }\n",
    "\n",
    "    # immediately prune if embed_dim % heads != 0\n",
    "    if hp[\"SHORT_UNITS\"] % hp[\"ATT_HEADS\"] != 0:\n",
    "        # this trial is nonsense—stop right away\n",
    "        raise TrialPruned()\n",
    "\n",
    "    # Build model\n",
    "    model = models.DualMemoryLSTM(\n",
    "        n_feats       = len(features_cols),\n",
    "        short_units   = hp[\"SHORT_UNITS\"],\n",
    "        long_units    = hp[\"LONG_UNITS\"],\n",
    "        dropout_short = hp[\"DROPOUT_SHORT\"],\n",
    "        dropout_long  = hp[\"DROPOUT_LONG\"],\n",
    "        att_heads     = hp[\"ATT_HEADS\"],\n",
    "        att_drop      = hp[\"ATT_DROPOUT\"],\n",
    "    ).to(device)\n",
    "\n",
    "    # Build optimizer + schedulers + scaler\n",
    "    optimizer, plateau_sched, cosine_sched, scaler, clipnorm = \\\n",
    "        models.make_optimizer_and_scheduler(\n",
    "            model            = model,\n",
    "            initial_lr       = hp[\"INITIAL_LR\"],\n",
    "            weight_decay     = hp[\"WEIGHT_DECAY\"],\n",
    "            clipnorm         = hp[\"CLIPNORM\"]\n",
    "        )\n",
    "\n",
    "    # Run training & return best validation RMSE\n",
    "    best_rmse = models.custom_stateful_training_loop(\n",
    "        model               = model,\n",
    "        optimizer           = optimizer,\n",
    "        cosine_sched        = cosine_sched,\n",
    "        plateau_sched       = plateau_sched,\n",
    "        scaler              = scaler,\n",
    "        train_loader        = train_loader,\n",
    "        val_loader          = val_loader,\n",
    "        max_epochs          = params.hparams[\"MAX_EPOCHS\"],\n",
    "        early_stop_patience = hp[\"EARLY_STOP_PATIENCE\"],\n",
    "        baseline_val_rmse   = baseline_val_rmse,\n",
    "        clipnorm            = clipnorm,\n",
    "        device              = device,\n",
    "    )\n",
    "    return best_rmse\n",
    "\n"
   ]
  },
  {
   "cell_type": "code",
   "execution_count": 16,
   "id": "1ce185de-1d62-49f9-9a96-00385e813521",
   "metadata": {},
   "outputs": [
    {
     "data": {
      "image/png": "[encoded data removed]",
      "text/plain": [
       "<Figure size 700x300 with 1 Axes>"
      ]
     },
     "metadata": {},
     "output_type": "display_data"
    }
   ],
   "source": [
    "# ----------------------------------------------------------\n",
    "# create ONE figure\n",
    "# ----------------------------------------------------------\n",
    "fig, ax = plt.subplots(figsize=(7, 3))\n",
    "line,   = ax.plot([], [], \"bo-\")\n",
    "ax.set(xlabel=\"Trial #\", ylabel=\"Objective\",\n",
    "       title=\"Optuna optimisation progress\", xlim=(0, 1), ylim=(0, 1))\n",
    "ax.grid(True)\n",
    "\n",
    "handle = display(fig, display_id=True)   # show once and keep handle\n",
    "plt.close(fig)                           # <── prevents the duplicate static copy\n"
   ]
  },
  {
   "cell_type": "code",
   "execution_count": 17,
   "id": "7658050b-a604-4331-ac64-72b2c7fd3689",
   "metadata": {},
   "outputs": [
    {
     "name": "stderr",
     "output_type": "stream",
     "text": [
      "[I 2025-07-21 17:38:58,589] A new study created in memory with name: no-name-4c650dcb-5746-4895-b417-a8b7527ab5e1\n",
      "/tmp/ipykernel_7114/3761965960.py:16: FutureWarning: suggest_loguniform has been deprecated in v3.0.0. This feature will be removed in v6.0.0. See https://github.com/optuna/optuna/releases/tag/v3.0.0. Use suggest_float(..., log=True) instead.\n",
      "  \"INITIAL_LR\"           : trial.suggest_loguniform(\"INITIAL_LR\",     1e-5, 1e-2),\n",
      "/tmp/ipykernel_7114/3761965960.py:17: FutureWarning: suggest_loguniform has been deprecated in v3.0.0. This feature will be removed in v6.0.0. See https://github.com/optuna/optuna/releases/tag/v3.0.0. Use suggest_float(..., log=True) instead.\n",
      "  \"WEIGHT_DECAY\"         : trial.suggest_loguniform(\"WEIGHT_DECAY\",   1e-6, 1e-2),\n",
      "[I 2025-07-21 17:38:58,591] Trial 0 pruned. \n",
      "/usr/local/lib/python3.12/dist-packages/torch/optim/lr_scheduler.py:62: UserWarning: The verbose parameter is deprecated. Please use get_last_lr() to access the learning rate.\n",
      "  warnings.warn(\n"
     ]
    },
    {
     "data": {
      "image/png": "[encoded data removed]",
      "text/plain": [
       "<Figure size 660x440 with 1 Axes>"
      ]
     },
     "metadata": {},
     "output_type": "display_data"
    },
    {
     "name": "stderr",
     "output_type": "stream",
     "text": [
      "Epoch 1:   2%|▏         | 2/109 [00:02<00:47,  2.26bundle/s, lr=4.78e-5, train_rmse=0.639]"
     ]
    },
    {
     "name": "stdout",
     "output_type": "stream",
     "text": [
      "  [Cosine restart] LR 4.78e-05 → 4.78e-05 at epoch 1, batch 1\n"
     ]
    },
    {
     "name": "stderr",
     "output_type": "stream",
     "text": [
      "Epoch 1:   3%|▎         | 3/109 [00:03<00:45,  2.35bundle/s, lr=4.78e-5, train_rmse=0.626]"
     ]
    },
    {
     "name": "stdout",
     "output_type": "stream",
     "text": [
      "  [Cosine restart] LR 4.78e-05 → 4.78e-05 at epoch 1, batch 2\n"
     ]
    },
    {
     "name": "stderr",
     "output_type": "stream",
     "text": [
      "Epoch 1:   4%|▎         | 4/109 [00:03<00:42,  2.47bundle/s, lr=4.78e-5, train_rmse=0.617]"
     ]
    },
    {
     "name": "stdout",
     "output_type": "stream",
     "text": [
      "  [Cosine restart] LR 4.78e-05 → 4.78e-05 at epoch 1, batch 3\n"
     ]
    },
    {
     "name": "stderr",
     "output_type": "stream",
     "text": [
      "Epoch 1:   5%|▍         | 5/109 [00:03<00:40,  2.55bundle/s, lr=4.78e-5, train_rmse=0.605]"
     ]
    },
    {
     "name": "stdout",
     "output_type": "stream",
     "text": [
      "  [Cosine restart] LR 4.78e-05 → 4.78e-05 at epoch 1, batch 4\n"
     ]
    },
    {
     "name": "stderr",
     "output_type": "stream",
     "text": [
      "Epoch 1:   6%|▌         | 6/109 [00:04<00:40,  2.57bundle/s, lr=4.78e-5, train_rmse=0.593]"
     ]
    },
    {
     "name": "stdout",
     "output_type": "stream",
     "text": [
      "  [Cosine restart] LR 4.78e-05 → 4.78e-05 at epoch 1, batch 5\n"
     ]
    },
    {
     "name": "stderr",
     "output_type": "stream",
     "text": [
      "Epoch 1:   6%|▋         | 7/109 [00:04<00:39,  2.55bundle/s, lr=4.78e-5, train_rmse=0.582]"
     ]
    },
    {
     "name": "stdout",
     "output_type": "stream",
     "text": [
      "  [Cosine restart] LR 4.78e-05 → 4.78e-05 at epoch 1, batch 6\n"
     ]
    },
    {
     "name": "stderr",
     "output_type": "stream",
     "text": [
      "Epoch 1:   7%|▋         | 8/109 [00:05<00:39,  2.58bundle/s, lr=4.78e-5, train_rmse=0.57] "
     ]
    },
    {
     "name": "stdout",
     "output_type": "stream",
     "text": [
      "  [Cosine restart] LR 4.78e-05 → 4.78e-05 at epoch 1, batch 7\n"
     ]
    },
    {
     "name": "stderr",
     "output_type": "stream",
     "text": [
      "Epoch 1:   8%|▊         | 9/109 [00:05<00:38,  2.59bundle/s, lr=4.78e-5, train_rmse=0.56]"
     ]
    },
    {
     "name": "stdout",
     "output_type": "stream",
     "text": [
      "  [Cosine restart] LR 4.78e-05 → 4.78e-05 at epoch 1, batch 8\n"
     ]
    },
    {
     "name": "stderr",
     "output_type": "stream",
     "text": [
      "Epoch 1:   9%|▉         | 10/109 [00:05<00:38,  2.60bundle/s, lr=4.78e-5, train_rmse=0.551]"
     ]
    },
    {
     "name": "stdout",
     "output_type": "stream",
     "text": [
      "  [Cosine restart] LR 4.78e-05 → 4.78e-05 at epoch 1, batch 9\n"
     ]
    },
    {
     "name": "stderr",
     "output_type": "stream",
     "text": [
      "Epoch 1:  10%|█         | 11/109 [00:06<00:37,  2.61bundle/s, lr=4.78e-5, train_rmse=0.543]"
     ]
    },
    {
     "name": "stdout",
     "output_type": "stream",
     "text": [
      "  [Cosine restart] LR 4.78e-05 → 4.78e-05 at epoch 1, batch 10\n"
     ]
    },
    {
     "name": "stderr",
     "output_type": "stream",
     "text": [
      "Epoch 1:  11%|█         | 12/109 [00:06<00:36,  2.63bundle/s, lr=4.78e-5, train_rmse=0.536]"
     ]
    },
    {
     "name": "stdout",
     "output_type": "stream",
     "text": [
      "  [Cosine restart] LR 4.78e-05 → 4.78e-05 at epoch 1, batch 11\n"
     ]
    },
    {
     "name": "stderr",
     "output_type": "stream",
     "text": [
      "Epoch 1:  12%|█▏        | 13/109 [00:06<00:35,  2.68bundle/s, lr=4.78e-5, train_rmse=0.529]"
     ]
    },
    {
     "name": "stdout",
     "output_type": "stream",
     "text": [
      "  [Cosine restart] LR 4.78e-05 → 4.78e-05 at epoch 1, batch 12\n"
     ]
    },
    {
     "name": "stderr",
     "output_type": "stream",
     "text": [
      "Epoch 1:  13%|█▎        | 14/109 [00:07<00:36,  2.58bundle/s, lr=4.78e-5, train_rmse=0.523]"
     ]
    },
    {
     "name": "stdout",
     "output_type": "stream",
     "text": [
      "  [Cosine restart] LR 4.78e-05 → 4.78e-05 at epoch 1, batch 13\n"
     ]
    },
    {
     "name": "stderr",
     "output_type": "stream",
     "text": [
      "Epoch 1:  14%|█▍        | 15/109 [00:07<00:37,  2.52bundle/s, lr=4.78e-5, train_rmse=0.517]"
     ]
    },
    {
     "name": "stdout",
     "output_type": "stream",
     "text": [
      "  [Cosine restart] LR 4.78e-05 → 4.78e-05 at epoch 1, batch 14\n"
     ]
    },
    {
     "name": "stderr",
     "output_type": "stream",
     "text": [
      "Epoch 1:  15%|█▍        | 16/109 [00:08<00:36,  2.53bundle/s, lr=4.78e-5, train_rmse=0.511]"
     ]
    },
    {
     "name": "stdout",
     "output_type": "stream",
     "text": [
      "  [Cosine restart] LR 4.78e-05 → 4.78e-05 at epoch 1, batch 15\n"
     ]
    },
    {
     "name": "stderr",
     "output_type": "stream",
     "text": [
      "Epoch 1:  16%|█▌        | 17/109 [00:08<00:35,  2.58bundle/s, lr=4.78e-5, train_rmse=0.507]"
     ]
    },
    {
     "name": "stdout",
     "output_type": "stream",
     "text": [
      "  [Cosine restart] LR 4.78e-05 → 4.78e-05 at epoch 1, batch 16\n"
     ]
    },
    {
     "name": "stderr",
     "output_type": "stream",
     "text": [
      "Epoch 1:  17%|█▋        | 18/109 [00:08<00:35,  2.59bundle/s, lr=4.78e-5, train_rmse=0.503]"
     ]
    },
    {
     "name": "stdout",
     "output_type": "stream",
     "text": [
      "  [Cosine restart] LR 4.78e-05 → 4.78e-05 at epoch 1, batch 17\n"
     ]
    },
    {
     "name": "stderr",
     "output_type": "stream",
     "text": [
      "Epoch 1:  17%|█▋        | 19/109 [00:09<00:34,  2.60bundle/s, lr=4.78e-5, train_rmse=0.5]  "
     ]
    },
    {
     "name": "stdout",
     "output_type": "stream",
     "text": [
      "  [Cosine restart] LR 4.78e-05 → 4.78e-05 at epoch 1, batch 18\n"
     ]
    },
    {
     "name": "stderr",
     "output_type": "stream",
     "text": [
      "Epoch 1:  18%|█▊        | 20/109 [00:09<00:34,  2.61bundle/s, lr=4.78e-5, train_rmse=0.496]"
     ]
    },
    {
     "name": "stdout",
     "output_type": "stream",
     "text": [
      "  [Cosine restart] LR 4.78e-05 → 4.78e-05 at epoch 1, batch 19\n"
     ]
    },
    {
     "name": "stderr",
     "output_type": "stream",
     "text": [
      "Epoch 1:  19%|█▉        | 21/109 [00:10<00:33,  2.62bundle/s, lr=4.78e-5, train_rmse=0.492]"
     ]
    },
    {
     "name": "stdout",
     "output_type": "stream",
     "text": [
      "  [Cosine restart] LR 4.78e-05 → 4.78e-05 at epoch 1, batch 20\n"
     ]
    },
    {
     "name": "stderr",
     "output_type": "stream",
     "text": [
      "Epoch 1:  20%|██        | 22/109 [00:10<00:33,  2.63bundle/s, lr=4.78e-5, train_rmse=0.488]"
     ]
    },
    {
     "name": "stdout",
     "output_type": "stream",
     "text": [
      "  [Cosine restart] LR 4.78e-05 → 4.78e-05 at epoch 1, batch 21\n"
     ]
    },
    {
     "name": "stderr",
     "output_type": "stream",
     "text": [
      "Epoch 1:  21%|██        | 23/109 [00:10<00:32,  2.67bundle/s, lr=4.78e-5, train_rmse=0.485]"
     ]
    },
    {
     "name": "stdout",
     "output_type": "stream",
     "text": [
      "  [Cosine restart] LR 4.78e-05 → 4.78e-05 at epoch 1, batch 22\n"
     ]
    },
    {
     "name": "stderr",
     "output_type": "stream",
     "text": [
      "Epoch 1:  22%|██▏       | 24/109 [00:11<00:32,  2.65bundle/s, lr=4.78e-5, train_rmse=0.482]"
     ]
    },
    {
     "name": "stdout",
     "output_type": "stream",
     "text": [
      "  [Cosine restart] LR 4.78e-05 → 4.78e-05 at epoch 1, batch 23\n"
     ]
    },
    {
     "name": "stderr",
     "output_type": "stream",
     "text": [
      "Epoch 1:  23%|██▎       | 25/109 [00:11<00:31,  2.65bundle/s, lr=4.78e-5, train_rmse=0.48] "
     ]
    },
    {
     "name": "stdout",
     "output_type": "stream",
     "text": [
      "  [Cosine restart] LR 4.78e-05 → 4.78e-05 at epoch 1, batch 24\n"
     ]
    },
    {
     "name": "stderr",
     "output_type": "stream",
     "text": [
      "Epoch 1:  24%|██▍       | 26/109 [00:12<00:32,  2.57bundle/s, lr=4.78e-5, train_rmse=0.477]"
     ]
    },
    {
     "name": "stdout",
     "output_type": "stream",
     "text": [
      "  [Cosine restart] LR 4.78e-05 → 4.78e-05 at epoch 1, batch 25\n"
     ]
    },
    {
     "name": "stderr",
     "output_type": "stream",
     "text": [
      "Epoch 1:  25%|██▍       | 27/109 [00:12<00:32,  2.56bundle/s, lr=4.78e-5, train_rmse=0.475]"
     ]
    },
    {
     "name": "stdout",
     "output_type": "stream",
     "text": [
      "  [Cosine restart] LR 4.78e-05 → 4.78e-05 at epoch 1, batch 26\n"
     ]
    },
    {
     "name": "stderr",
     "output_type": "stream",
     "text": [
      "Epoch 1:  26%|██▌       | 28/109 [00:12<00:31,  2.56bundle/s, lr=4.78e-5, train_rmse=0.472]"
     ]
    },
    {
     "name": "stdout",
     "output_type": "stream",
     "text": [
      "  [Cosine restart] LR 4.78e-05 → 4.78e-05 at epoch 1, batch 27\n"
     ]
    },
    {
     "name": "stderr",
     "output_type": "stream",
     "text": [
      "Epoch 1:  27%|██▋       | 29/109 [00:13<00:31,  2.57bundle/s, lr=4.78e-5, train_rmse=0.469]"
     ]
    },
    {
     "name": "stdout",
     "output_type": "stream",
     "text": [
      "  [Cosine restart] LR 4.78e-05 → 4.78e-05 at epoch 1, batch 28\n"
     ]
    },
    {
     "name": "stderr",
     "output_type": "stream",
     "text": [
      "Epoch 1:  28%|██▊       | 30/109 [00:13<00:30,  2.58bundle/s, lr=4.78e-5, train_rmse=0.466]"
     ]
    },
    {
     "name": "stdout",
     "output_type": "stream",
     "text": [
      "  [Cosine restart] LR 4.78e-05 → 4.78e-05 at epoch 1, batch 29\n"
     ]
    },
    {
     "name": "stderr",
     "output_type": "stream",
     "text": [
      "Epoch 1:  28%|██▊       | 31/109 [00:13<00:29,  2.62bundle/s, lr=4.78e-5, train_rmse=0.464]"
     ]
    },
    {
     "name": "stdout",
     "output_type": "stream",
     "text": [
      "  [Cosine restart] LR 4.78e-05 → 4.78e-05 at epoch 1, batch 30\n"
     ]
    },
    {
     "name": "stderr",
     "output_type": "stream",
     "text": [
      "Epoch 1:  29%|██▉       | 32/109 [00:14<00:29,  2.60bundle/s, lr=4.78e-5, train_rmse=0.462]"
     ]
    },
    {
     "name": "stdout",
     "output_type": "stream",
     "text": [
      "  [Cosine restart] LR 4.78e-05 → 4.78e-05 at epoch 1, batch 31\n"
     ]
    },
    {
     "name": "stderr",
     "output_type": "stream",
     "text": [
      "Epoch 1:  30%|███       | 33/109 [00:14<00:29,  2.55bundle/s, lr=4.78e-5, train_rmse=0.459]"
     ]
    },
    {
     "name": "stdout",
     "output_type": "stream",
     "text": [
      "  [Cosine restart] LR 4.78e-05 → 4.78e-05 at epoch 1, batch 32\n"
     ]
    },
    {
     "name": "stderr",
     "output_type": "stream",
     "text": [
      "Epoch 1:  31%|███       | 34/109 [00:15<00:29,  2.54bundle/s, lr=4.78e-5, train_rmse=0.457]"
     ]
    },
    {
     "name": "stdout",
     "output_type": "stream",
     "text": [
      "  [Cosine restart] LR 4.78e-05 → 4.78e-05 at epoch 1, batch 33\n"
     ]
    },
    {
     "name": "stderr",
     "output_type": "stream",
     "text": [
      "Epoch 1:  32%|███▏      | 35/109 [00:15<00:29,  2.54bundle/s, lr=4.78e-5, train_rmse=0.455]"
     ]
    },
    {
     "name": "stdout",
     "output_type": "stream",
     "text": [
      "  [Cosine restart] LR 4.78e-05 → 4.78e-05 at epoch 1, batch 34\n"
     ]
    },
    {
     "name": "stderr",
     "output_type": "stream",
     "text": [
      "Epoch 1:  33%|███▎      | 36/109 [00:15<00:29,  2.50bundle/s, lr=4.78e-5, train_rmse=0.453]"
     ]
    },
    {
     "name": "stdout",
     "output_type": "stream",
     "text": [
      "  [Cosine restart] LR 4.78e-05 → 4.78e-05 at epoch 1, batch 35\n"
     ]
    },
    {
     "name": "stderr",
     "output_type": "stream",
     "text": [
      "Epoch 1:  34%|███▍      | 37/109 [00:16<00:29,  2.47bundle/s, lr=4.78e-5, train_rmse=0.451]"
     ]
    },
    {
     "name": "stdout",
     "output_type": "stream",
     "text": [
      "  [Cosine restart] LR 4.78e-05 → 4.78e-05 at epoch 1, batch 36\n"
     ]
    },
    {
     "name": "stderr",
     "output_type": "stream",
     "text": [
      "Epoch 1:  35%|███▍      | 38/109 [00:16<00:28,  2.47bundle/s, lr=4.78e-5, train_rmse=0.448]"
     ]
    },
    {
     "name": "stdout",
     "output_type": "stream",
     "text": [
      "  [Cosine restart] LR 4.78e-05 → 4.78e-05 at epoch 1, batch 37\n"
     ]
    },
    {
     "name": "stderr",
     "output_type": "stream",
     "text": [
      "Epoch 1:  36%|███▌      | 39/109 [00:17<00:28,  2.43bundle/s, lr=4.78e-5, train_rmse=0.446]"
     ]
    },
    {
     "name": "stdout",
     "output_type": "stream",
     "text": [
      "  [Cosine restart] LR 4.78e-05 → 4.78e-05 at epoch 1, batch 38\n"
     ]
    },
    {
     "name": "stderr",
     "output_type": "stream",
     "text": [
      "Epoch 1:  37%|███▋      | 40/109 [00:17<00:28,  2.46bundle/s, lr=4.78e-5, train_rmse=0.445]"
     ]
    },
    {
     "name": "stdout",
     "output_type": "stream",
     "text": [
      "  [Cosine restart] LR 4.78e-05 → 4.78e-05 at epoch 1, batch 39\n"
     ]
    },
    {
     "name": "stderr",
     "output_type": "stream",
     "text": [
      "Epoch 1:  38%|███▊      | 41/109 [00:17<00:27,  2.46bundle/s, lr=4.78e-5, train_rmse=0.443]"
     ]
    },
    {
     "name": "stdout",
     "output_type": "stream",
     "text": [
      "  [Cosine restart] LR 4.78e-05 → 4.78e-05 at epoch 1, batch 40\n"
     ]
    },
    {
     "name": "stderr",
     "output_type": "stream",
     "text": [
      "Epoch 1:  39%|███▊      | 42/109 [00:18<00:27,  2.45bundle/s, lr=4.78e-5, train_rmse=0.441]"
     ]
    },
    {
     "name": "stdout",
     "output_type": "stream",
     "text": [
      "  [Cosine restart] LR 4.78e-05 → 4.78e-05 at epoch 1, batch 41\n"
     ]
    },
    {
     "name": "stderr",
     "output_type": "stream",
     "text": [
      "Epoch 1:  39%|███▉      | 43/109 [00:18<00:26,  2.48bundle/s, lr=4.78e-5, train_rmse=0.439]"
     ]
    },
    {
     "name": "stdout",
     "output_type": "stream",
     "text": [
      "  [Cosine restart] LR 4.78e-05 → 4.78e-05 at epoch 1, batch 42\n"
     ]
    },
    {
     "name": "stderr",
     "output_type": "stream",
     "text": [
      "Epoch 1:  40%|████      | 44/109 [00:19<00:26,  2.50bundle/s, lr=4.78e-5, train_rmse=0.437]"
     ]
    },
    {
     "name": "stdout",
     "output_type": "stream",
     "text": [
      "  [Cosine restart] LR 4.78e-05 → 4.78e-05 at epoch 1, batch 43\n"
     ]
    },
    {
     "name": "stderr",
     "output_type": "stream",
     "text": [
      "Epoch 1:  41%|████▏     | 45/109 [00:19<00:25,  2.51bundle/s, lr=4.78e-5, train_rmse=0.436]"
     ]
    },
    {
     "name": "stdout",
     "output_type": "stream",
     "text": [
      "  [Cosine restart] LR 4.78e-05 → 4.78e-05 at epoch 1, batch 44\n"
     ]
    },
    {
     "name": "stderr",
     "output_type": "stream",
     "text": [
      "Epoch 1:  42%|████▏     | 46/109 [00:19<00:24,  2.54bundle/s, lr=4.78e-5, train_rmse=0.434]"
     ]
    },
    {
     "name": "stdout",
     "output_type": "stream",
     "text": [
      "  [Cosine restart] LR 4.78e-05 → 4.78e-05 at epoch 1, batch 45\n"
     ]
    },
    {
     "name": "stderr",
     "output_type": "stream",
     "text": [
      "Epoch 1:  43%|████▎     | 47/109 [00:20<00:25,  2.42bundle/s, lr=4.78e-5, train_rmse=0.432]"
     ]
    },
    {
     "name": "stdout",
     "output_type": "stream",
     "text": [
      "  [Cosine restart] LR 4.78e-05 → 4.78e-05 at epoch 1, batch 46\n"
     ]
    },
    {
     "name": "stderr",
     "output_type": "stream",
     "text": [
      "Epoch 1:  44%|████▍     | 48/109 [00:20<00:25,  2.41bundle/s, lr=4.78e-5, train_rmse=0.431]"
     ]
    },
    {
     "name": "stdout",
     "output_type": "stream",
     "text": [
      "  [Cosine restart] LR 4.78e-05 → 4.78e-05 at epoch 1, batch 47\n"
     ]
    },
    {
     "name": "stderr",
     "output_type": "stream",
     "text": [
      "Epoch 1:  45%|████▍     | 49/109 [00:21<00:24,  2.41bundle/s, lr=4.78e-5, train_rmse=0.43] "
     ]
    },
    {
     "name": "stdout",
     "output_type": "stream",
     "text": [
      "  [Cosine restart] LR 4.78e-05 → 4.78e-05 at epoch 1, batch 48\n"
     ]
    },
    {
     "name": "stderr",
     "output_type": "stream",
     "text": [
      "Epoch 1:  46%|████▌     | 50/109 [00:21<00:26,  2.25bundle/s, lr=4.78e-5, train_rmse=0.428]"
     ]
    },
    {
     "name": "stdout",
     "output_type": "stream",
     "text": [
      "  [Cosine restart] LR 4.78e-05 → 4.78e-05 at epoch 1, batch 49\n"
     ]
    },
    {
     "name": "stderr",
     "output_type": "stream",
     "text": [
      "Epoch 1:  47%|████▋     | 51/109 [00:22<00:25,  2.28bundle/s, lr=4.78e-5, train_rmse=0.427]"
     ]
    },
    {
     "name": "stdout",
     "output_type": "stream",
     "text": [
      "  [Cosine restart] LR 4.78e-05 → 4.78e-05 at epoch 1, batch 50\n"
     ]
    },
    {
     "name": "stderr",
     "output_type": "stream",
     "text": [
      "Epoch 1:  48%|████▊     | 52/109 [00:22<00:24,  2.34bundle/s, lr=4.78e-5, train_rmse=0.425]"
     ]
    },
    {
     "name": "stdout",
     "output_type": "stream",
     "text": [
      "  [Cosine restart] LR 4.78e-05 → 4.78e-05 at epoch 1, batch 51\n"
     ]
    },
    {
     "name": "stderr",
     "output_type": "stream",
     "text": [
      "Epoch 1:  49%|████▊     | 53/109 [00:22<00:23,  2.40bundle/s, lr=4.78e-5, train_rmse=0.424]"
     ]
    },
    {
     "name": "stdout",
     "output_type": "stream",
     "text": [
      "  [Cosine restart] LR 4.78e-05 → 4.78e-05 at epoch 1, batch 52\n"
     ]
    },
    {
     "name": "stderr",
     "output_type": "stream",
     "text": [
      "Epoch 1:  50%|████▉     | 54/109 [00:23<00:22,  2.39bundle/s, lr=4.78e-5, train_rmse=0.423]"
     ]
    },
    {
     "name": "stdout",
     "output_type": "stream",
     "text": [
      "  [Cosine restart] LR 4.78e-05 → 4.78e-05 at epoch 1, batch 53\n"
     ]
    },
    {
     "name": "stderr",
     "output_type": "stream",
     "text": [
      "Epoch 1:  50%|█████     | 55/109 [00:23<00:22,  2.44bundle/s, lr=4.78e-5, train_rmse=0.421]"
     ]
    },
    {
     "name": "stdout",
     "output_type": "stream",
     "text": [
      "  [Cosine restart] LR 4.78e-05 → 4.78e-05 at epoch 1, batch 54\n"
     ]
    },
    {
     "name": "stderr",
     "output_type": "stream",
     "text": [
      "Epoch 1:  51%|█████▏    | 56/109 [00:24<00:21,  2.47bundle/s, lr=4.78e-5, train_rmse=0.42] "
     ]
    },
    {
     "name": "stdout",
     "output_type": "stream",
     "text": [
      "  [Cosine restart] LR 4.78e-05 → 4.78e-05 at epoch 1, batch 55\n",
      "  [Cosine restart] LR 4.78e-05 → 4.78e-05 at epoch 1, batch 56\n"
     ]
    },
    {
     "name": "stderr",
     "output_type": "stream",
     "text": [
      "Epoch 1:  53%|█████▎    | 58/109 [00:24<00:13,  3.88bundle/s, lr=4.78e-5, train_rmse=0.417]"
     ]
    },
    {
     "name": "stdout",
     "output_type": "stream",
     "text": [
      "  [Cosine restart] LR 4.78e-05 → 4.78e-05 at epoch 1, batch 57\n"
     ]
    },
    {
     "name": "stderr",
     "output_type": "stream",
     "text": [
      "Epoch 1:  54%|█████▍    | 59/109 [00:24<00:14,  3.44bundle/s, lr=4.78e-5, train_rmse=0.416]"
     ]
    },
    {
     "name": "stdout",
     "output_type": "stream",
     "text": [
      "  [Cosine restart] LR 4.78e-05 → 4.78e-05 at epoch 1, batch 58\n"
     ]
    },
    {
     "name": "stderr",
     "output_type": "stream",
     "text": [
      "Epoch 1:  55%|█████▌    | 60/109 [00:25<00:15,  3.16bundle/s, lr=4.78e-5, train_rmse=0.415]"
     ]
    },
    {
     "name": "stdout",
     "output_type": "stream",
     "text": [
      "  [Cosine restart] LR 4.78e-05 → 4.78e-05 at epoch 1, batch 59\n"
     ]
    },
    {
     "name": "stderr",
     "output_type": "stream",
     "text": [
      "Epoch 1:  56%|█████▌    | 61/109 [00:25<00:16,  2.98bundle/s, lr=4.78e-5, train_rmse=0.414]"
     ]
    },
    {
     "name": "stdout",
     "output_type": "stream",
     "text": [
      "  [Cosine restart] LR 4.78e-05 → 4.78e-05 at epoch 1, batch 60\n"
     ]
    },
    {
     "name": "stderr",
     "output_type": "stream",
     "text": [
      "Epoch 1:  57%|█████▋    | 62/109 [00:25<00:16,  2.86bundle/s, lr=4.78e-5, train_rmse=0.413]"
     ]
    },
    {
     "name": "stdout",
     "output_type": "stream",
     "text": [
      "  [Cosine restart] LR 4.78e-05 → 4.78e-05 at epoch 1, batch 61\n"
     ]
    },
    {
     "name": "stderr",
     "output_type": "stream",
     "text": [
      "Epoch 1:  58%|█████▊    | 63/109 [00:26<00:16,  2.79bundle/s, lr=4.78e-5, train_rmse=0.412]"
     ]
    },
    {
     "name": "stdout",
     "output_type": "stream",
     "text": [
      "  [Cosine restart] LR 4.78e-05 → 4.78e-05 at epoch 1, batch 62\n"
     ]
    },
    {
     "name": "stderr",
     "output_type": "stream",
     "text": [
      "Epoch 1:  59%|█████▊    | 64/109 [00:26<00:16,  2.68bundle/s, lr=4.78e-5, train_rmse=0.411]"
     ]
    },
    {
     "name": "stdout",
     "output_type": "stream",
     "text": [
      "  [Cosine restart] LR 4.78e-05 → 4.78e-05 at epoch 1, batch 63\n"
     ]
    },
    {
     "name": "stderr",
     "output_type": "stream",
     "text": [
      "Epoch 1:  60%|█████▉    | 65/109 [00:27<00:16,  2.63bundle/s, lr=4.78e-5, train_rmse=0.409]"
     ]
    },
    {
     "name": "stdout",
     "output_type": "stream",
     "text": [
      "  [Cosine restart] LR 4.78e-05 → 4.78e-05 at epoch 1, batch 64\n"
     ]
    },
    {
     "name": "stderr",
     "output_type": "stream",
     "text": [
      "Epoch 1:  61%|██████    | 66/109 [00:27<00:16,  2.60bundle/s, lr=4.78e-5, train_rmse=0.408]"
     ]
    },
    {
     "name": "stdout",
     "output_type": "stream",
     "text": [
      "  [Cosine restart] LR 4.78e-05 → 4.78e-05 at epoch 1, batch 65\n"
     ]
    },
    {
     "name": "stderr",
     "output_type": "stream",
     "text": [
      "Epoch 1:  61%|██████▏   | 67/109 [00:27<00:16,  2.56bundle/s, lr=4.78e-5, train_rmse=0.407]"
     ]
    },
    {
     "name": "stdout",
     "output_type": "stream",
     "text": [
      "  [Cosine restart] LR 4.78e-05 → 4.78e-05 at epoch 1, batch 66\n"
     ]
    },
    {
     "name": "stderr",
     "output_type": "stream",
     "text": [
      "Epoch 1:  62%|██████▏   | 68/109 [00:28<00:16,  2.53bundle/s, lr=4.78e-5, train_rmse=0.405]"
     ]
    },
    {
     "name": "stdout",
     "output_type": "stream",
     "text": [
      "  [Cosine restart] LR 4.78e-05 → 4.78e-05 at epoch 1, batch 67\n"
     ]
    },
    {
     "name": "stderr",
     "output_type": "stream",
     "text": [
      "Epoch 1:  63%|██████▎   | 69/109 [00:28<00:16,  2.50bundle/s, lr=4.78e-5, train_rmse=0.404]"
     ]
    },
    {
     "name": "stdout",
     "output_type": "stream",
     "text": [
      "  [Cosine restart] LR 4.78e-05 → 4.78e-05 at epoch 1, batch 68\n"
     ]
    },
    {
     "name": "stderr",
     "output_type": "stream",
     "text": [
      "Epoch 1:  64%|██████▍   | 70/109 [00:29<00:16,  2.43bundle/s, lr=4.78e-5, train_rmse=0.403]"
     ]
    },
    {
     "name": "stdout",
     "output_type": "stream",
     "text": [
      "  [Cosine restart] LR 4.78e-05 → 4.78e-05 at epoch 1, batch 69\n"
     ]
    },
    {
     "name": "stderr",
     "output_type": "stream",
     "text": [
      "Epoch 1:  65%|██████▌   | 71/109 [00:29<00:16,  2.31bundle/s, lr=4.78e-5, train_rmse=0.401]"
     ]
    },
    {
     "name": "stdout",
     "output_type": "stream",
     "text": [
      "  [Cosine restart] LR 4.78e-05 → 4.78e-05 at epoch 1, batch 70\n"
     ]
    },
    {
     "name": "stderr",
     "output_type": "stream",
     "text": [
      "Epoch 1:  66%|██████▌   | 72/109 [00:30<00:15,  2.34bundle/s, lr=4.78e-5, train_rmse=0.4]  "
     ]
    },
    {
     "name": "stdout",
     "output_type": "stream",
     "text": [
      "  [Cosine restart] LR 4.78e-05 → 4.78e-05 at epoch 1, batch 71\n"
     ]
    },
    {
     "name": "stderr",
     "output_type": "stream",
     "text": [
      "Epoch 1:  67%|██████▋   | 73/109 [00:30<00:15,  2.39bundle/s, lr=4.78e-5, train_rmse=0.399]"
     ]
    },
    {
     "name": "stdout",
     "output_type": "stream",
     "text": [
      "  [Cosine restart] LR 4.78e-05 → 4.78e-05 at epoch 1, batch 72\n"
     ]
    },
    {
     "name": "stderr",
     "output_type": "stream",
     "text": [
      "Epoch 1:  68%|██████▊   | 74/109 [00:30<00:14,  2.48bundle/s, lr=4.78e-5, train_rmse=0.397]"
     ]
    },
    {
     "name": "stdout",
     "output_type": "stream",
     "text": [
      "  [Cosine restart] LR 4.78e-05 → 4.78e-05 at epoch 1, batch 73\n"
     ]
    },
    {
     "name": "stderr",
     "output_type": "stream",
     "text": [
      "Epoch 1:  69%|██████▉   | 75/109 [00:31<00:13,  2.54bundle/s, lr=4.78e-5, train_rmse=0.396]"
     ]
    },
    {
     "name": "stdout",
     "output_type": "stream",
     "text": [
      "  [Cosine restart] LR 4.78e-05 → 4.78e-05 at epoch 1, batch 74\n"
     ]
    },
    {
     "name": "stderr",
     "output_type": "stream",
     "text": [
      "Epoch 1:  70%|██████▉   | 76/109 [00:31<00:12,  2.55bundle/s, lr=4.78e-5, train_rmse=0.395]"
     ]
    },
    {
     "name": "stdout",
     "output_type": "stream",
     "text": [
      "  [Cosine restart] LR 4.78e-05 → 4.78e-05 at epoch 1, batch 75\n"
     ]
    },
    {
     "name": "stderr",
     "output_type": "stream",
     "text": [
      "Epoch 1:  71%|███████   | 77/109 [00:31<00:12,  2.56bundle/s, lr=4.78e-5, train_rmse=0.396]"
     ]
    },
    {
     "name": "stdout",
     "output_type": "stream",
     "text": [
      "  [Cosine restart] LR 4.78e-05 → 4.78e-05 at epoch 1, batch 76\n"
     ]
    },
    {
     "name": "stderr",
     "output_type": "stream",
     "text": [
      "Epoch 1:  72%|███████▏  | 78/109 [00:32<00:12,  2.54bundle/s, lr=4.78e-5, train_rmse=0.397]"
     ]
    },
    {
     "name": "stdout",
     "output_type": "stream",
     "text": [
      "  [Cosine restart] LR 4.78e-05 → 4.78e-05 at epoch 1, batch 77\n"
     ]
    },
    {
     "name": "stderr",
     "output_type": "stream",
     "text": [
      "Epoch 1:  72%|███████▏  | 79/109 [00:32<00:11,  2.54bundle/s, lr=4.78e-5, train_rmse=0.396]"
     ]
    },
    {
     "name": "stdout",
     "output_type": "stream",
     "text": [
      "  [Cosine restart] LR 4.78e-05 → 4.78e-05 at epoch 1, batch 78\n"
     ]
    },
    {
     "name": "stderr",
     "output_type": "stream",
     "text": [
      "Epoch 1:  73%|███████▎  | 80/109 [00:33<00:11,  2.54bundle/s, lr=4.78e-5, train_rmse=0.395]"
     ]
    },
    {
     "name": "stdout",
     "output_type": "stream",
     "text": [
      "  [Cosine restart] LR 4.78e-05 → 4.78e-05 at epoch 1, batch 79\n"
     ]
    },
    {
     "name": "stderr",
     "output_type": "stream",
     "text": [
      "Epoch 1:  74%|███████▍  | 81/109 [00:33<00:11,  2.54bundle/s, lr=4.78e-5, train_rmse=0.394]"
     ]
    },
    {
     "name": "stdout",
     "output_type": "stream",
     "text": [
      "  [Cosine restart] LR 4.78e-05 → 4.78e-05 at epoch 1, batch 80\n"
     ]
    },
    {
     "name": "stderr",
     "output_type": "stream",
     "text": [
      "Epoch 1:  75%|███████▌  | 82/109 [00:33<00:10,  2.58bundle/s, lr=4.78e-5, train_rmse=0.393]"
     ]
    },
    {
     "name": "stdout",
     "output_type": "stream",
     "text": [
      "  [Cosine restart] LR 4.78e-05 → 4.78e-05 at epoch 1, batch 81\n"
     ]
    },
    {
     "name": "stderr",
     "output_type": "stream",
     "text": [
      "Epoch 1:  76%|███████▌  | 83/109 [00:34<00:09,  2.63bundle/s, lr=4.78e-5, train_rmse=0.392]"
     ]
    },
    {
     "name": "stdout",
     "output_type": "stream",
     "text": [
      "  [Cosine restart] LR 4.78e-05 → 4.78e-05 at epoch 1, batch 82\n"
     ]
    },
    {
     "name": "stderr",
     "output_type": "stream",
     "text": [
      "Epoch 1:  77%|███████▋  | 84/109 [00:34<00:09,  2.65bundle/s, lr=4.78e-5, train_rmse=0.391]"
     ]
    },
    {
     "name": "stdout",
     "output_type": "stream",
     "text": [
      "  [Cosine restart] LR 4.78e-05 → 4.78e-05 at epoch 1, batch 83\n"
     ]
    },
    {
     "name": "stderr",
     "output_type": "stream",
     "text": [
      "Epoch 1:  78%|███████▊  | 85/109 [00:35<00:09,  2.62bundle/s, lr=4.78e-5, train_rmse=0.39] "
     ]
    },
    {
     "name": "stdout",
     "output_type": "stream",
     "text": [
      "  [Cosine restart] LR 4.78e-05 → 4.78e-05 at epoch 1, batch 84\n"
     ]
    },
    {
     "name": "stderr",
     "output_type": "stream",
     "text": [
      "Epoch 1:  79%|███████▉  | 86/109 [00:35<00:08,  2.58bundle/s, lr=4.78e-5, train_rmse=0.389]"
     ]
    },
    {
     "name": "stdout",
     "output_type": "stream",
     "text": [
      "  [Cosine restart] LR 4.78e-05 → 4.78e-05 at epoch 1, batch 85\n"
     ]
    },
    {
     "name": "stderr",
     "output_type": "stream",
     "text": [
      "Epoch 1:  80%|███████▉  | 87/109 [00:35<00:08,  2.58bundle/s, lr=4.78e-5, train_rmse=0.389]"
     ]
    },
    {
     "name": "stdout",
     "output_type": "stream",
     "text": [
      "  [Cosine restart] LR 4.78e-05 → 4.78e-05 at epoch 1, batch 86\n"
     ]
    },
    {
     "name": "stderr",
     "output_type": "stream",
     "text": [
      "Epoch 1:  81%|████████  | 88/109 [00:36<00:08,  2.58bundle/s, lr=4.78e-5, train_rmse=0.388]"
     ]
    },
    {
     "name": "stdout",
     "output_type": "stream",
     "text": [
      "  [Cosine restart] LR 4.78e-05 → 4.78e-05 at epoch 1, batch 87\n"
     ]
    },
    {
     "name": "stderr",
     "output_type": "stream",
     "text": [
      "Epoch 1:  82%|████████▏ | 89/109 [00:36<00:07,  2.60bundle/s, lr=4.78e-5, train_rmse=0.387]"
     ]
    },
    {
     "name": "stdout",
     "output_type": "stream",
     "text": [
      "  [Cosine restart] LR 4.78e-05 → 4.78e-05 at epoch 1, batch 88\n"
     ]
    },
    {
     "name": "stderr",
     "output_type": "stream",
     "text": [
      "Epoch 1:  83%|████████▎ | 90/109 [00:36<00:07,  2.58bundle/s, lr=4.78e-5, train_rmse=0.387]"
     ]
    },
    {
     "name": "stdout",
     "output_type": "stream",
     "text": [
      "  [Cosine restart] LR 4.78e-05 → 4.78e-05 at epoch 1, batch 89\n"
     ]
    },
    {
     "name": "stderr",
     "output_type": "stream",
     "text": [
      "Epoch 1:  83%|████████▎ | 91/109 [00:37<00:07,  2.57bundle/s, lr=4.78e-5, train_rmse=0.386]"
     ]
    },
    {
     "name": "stdout",
     "output_type": "stream",
     "text": [
      "  [Cosine restart] LR 4.78e-05 → 4.78e-05 at epoch 1, batch 90\n"
     ]
    },
    {
     "name": "stderr",
     "output_type": "stream",
     "text": [
      "Epoch 1:  84%|████████▍ | 92/109 [00:37<00:06,  2.57bundle/s, lr=4.78e-5, train_rmse=0.386]"
     ]
    },
    {
     "name": "stdout",
     "output_type": "stream",
     "text": [
      "  [Cosine restart] LR 4.78e-05 → 4.78e-05 at epoch 1, batch 91\n"
     ]
    },
    {
     "name": "stderr",
     "output_type": "stream",
     "text": [
      "Epoch 1:  85%|████████▌ | 93/109 [00:38<00:06,  2.56bundle/s, lr=4.78e-5, train_rmse=0.385]"
     ]
    },
    {
     "name": "stdout",
     "output_type": "stream",
     "text": [
      "  [Cosine restart] LR 4.78e-05 → 4.78e-05 at epoch 1, batch 92\n"
     ]
    },
    {
     "name": "stderr",
     "output_type": "stream",
     "text": [
      "Epoch 1:  86%|████████▌ | 94/109 [00:38<00:05,  2.53bundle/s, lr=4.78e-5, train_rmse=0.384]"
     ]
    },
    {
     "name": "stdout",
     "output_type": "stream",
     "text": [
      "  [Cosine restart] LR 4.78e-05 → 4.78e-05 at epoch 1, batch 93\n"
     ]
    },
    {
     "name": "stderr",
     "output_type": "stream",
     "text": [
      "Epoch 1:  87%|████████▋ | 95/109 [00:38<00:05,  2.51bundle/s, lr=4.78e-5, train_rmse=0.384]"
     ]
    },
    {
     "name": "stdout",
     "output_type": "stream",
     "text": [
      "  [Cosine restart] LR 4.78e-05 → 4.78e-05 at epoch 1, batch 94\n"
     ]
    },
    {
     "name": "stderr",
     "output_type": "stream",
     "text": [
      "Epoch 1:  88%|████████▊ | 96/109 [00:39<00:05,  2.50bundle/s, lr=4.78e-5, train_rmse=0.383]"
     ]
    },
    {
     "name": "stdout",
     "output_type": "stream",
     "text": [
      "  [Cosine restart] LR 4.78e-05 → 4.78e-05 at epoch 1, batch 95\n"
     ]
    },
    {
     "name": "stderr",
     "output_type": "stream",
     "text": [
      "Epoch 1:  89%|████████▉ | 97/109 [00:39<00:04,  2.52bundle/s, lr=4.78e-5, train_rmse=0.382]"
     ]
    },
    {
     "name": "stdout",
     "output_type": "stream",
     "text": [
      "  [Cosine restart] LR 4.78e-05 → 4.78e-05 at epoch 1, batch 96\n"
     ]
    },
    {
     "name": "stderr",
     "output_type": "stream",
     "text": [
      "Epoch 1:  90%|████████▉ | 98/109 [00:40<00:04,  2.56bundle/s, lr=4.78e-5, train_rmse=0.381]"
     ]
    },
    {
     "name": "stdout",
     "output_type": "stream",
     "text": [
      "  [Cosine restart] LR 4.78e-05 → 4.78e-05 at epoch 1, batch 97\n"
     ]
    },
    {
     "name": "stderr",
     "output_type": "stream",
     "text": [
      "Epoch 1:  91%|█████████ | 99/109 [00:40<00:03,  2.56bundle/s, lr=4.78e-5, train_rmse=0.381]"
     ]
    },
    {
     "name": "stdout",
     "output_type": "stream",
     "text": [
      "  [Cosine restart] LR 4.78e-05 → 4.78e-05 at epoch 1, batch 98\n"
     ]
    },
    {
     "name": "stderr",
     "output_type": "stream",
     "text": [
      "Epoch 1:  92%|█████████▏| 100/109 [00:40<00:03,  2.56bundle/s, lr=4.78e-5, train_rmse=0.38]"
     ]
    },
    {
     "name": "stdout",
     "output_type": "stream",
     "text": [
      "  [Cosine restart] LR 4.78e-05 → 4.78e-05 at epoch 1, batch 99\n"
     ]
    },
    {
     "name": "stderr",
     "output_type": "stream",
     "text": [
      "Epoch 1:  93%|█████████▎| 101/109 [00:41<00:03,  2.56bundle/s, lr=4.78e-5, train_rmse=0.38]"
     ]
    },
    {
     "name": "stdout",
     "output_type": "stream",
     "text": [
      "  [Cosine restart] LR 4.78e-05 → 4.78e-05 at epoch 1, batch 100\n"
     ]
    },
    {
     "name": "stderr",
     "output_type": "stream",
     "text": [
      "Epoch 1:  94%|█████████▎| 102/109 [00:41<00:02,  2.56bundle/s, lr=4.78e-5, train_rmse=0.379]"
     ]
    },
    {
     "name": "stdout",
     "output_type": "stream",
     "text": [
      "  [Cosine restart] LR 4.78e-05 → 4.78e-05 at epoch 1, batch 101\n"
     ]
    },
    {
     "name": "stderr",
     "output_type": "stream",
     "text": [
      "Epoch 1:  94%|█████████▍| 103/109 [00:42<00:02,  2.59bundle/s, lr=4.78e-5, train_rmse=0.379]"
     ]
    },
    {
     "name": "stdout",
     "output_type": "stream",
     "text": [
      "  [Cosine restart] LR 4.78e-05 → 4.78e-05 at epoch 1, batch 102\n"
     ]
    },
    {
     "name": "stderr",
     "output_type": "stream",
     "text": [
      "Epoch 1:  95%|█████████▌| 104/109 [00:42<00:01,  2.63bundle/s, lr=4.78e-5, train_rmse=0.379]"
     ]
    },
    {
     "name": "stdout",
     "output_type": "stream",
     "text": [
      "  [Cosine restart] LR 4.78e-05 → 4.78e-05 at epoch 1, batch 103\n"
     ]
    },
    {
     "name": "stderr",
     "output_type": "stream",
     "text": [
      "Epoch 1:  96%|█████████▋| 105/109 [00:42<00:01,  2.58bundle/s, lr=4.78e-5, train_rmse=0.379]"
     ]
    },
    {
     "name": "stdout",
     "output_type": "stream",
     "text": [
      "  [Cosine restart] LR 4.78e-05 → 4.78e-05 at epoch 1, batch 104\n"
     ]
    },
    {
     "name": "stderr",
     "output_type": "stream",
     "text": [
      "Epoch 1:  97%|█████████▋| 106/109 [00:43<00:01,  2.57bundle/s, lr=4.78e-5, train_rmse=0.379]"
     ]
    },
    {
     "name": "stdout",
     "output_type": "stream",
     "text": [
      "  [Cosine restart] LR 4.78e-05 → 4.78e-05 at epoch 1, batch 105\n"
     ]
    },
    {
     "name": "stderr",
     "output_type": "stream",
     "text": [
      "Epoch 1:  98%|█████████▊| 107/109 [00:43<00:00,  2.57bundle/s, lr=4.78e-5, train_rmse=0.379]"
     ]
    },
    {
     "name": "stdout",
     "output_type": "stream",
     "text": [
      "  [Cosine restart] LR 4.78e-05 → 4.78e-05 at epoch 1, batch 106\n"
     ]
    },
    {
     "name": "stderr",
     "output_type": "stream",
     "text": [
      "Epoch 1:  99%|█████████▉| 108/109 [00:44<00:00,  2.57bundle/s, lr=4.78e-5, train_rmse=0.379]"
     ]
    },
    {
     "name": "stdout",
     "output_type": "stream",
     "text": [
      "  [Cosine restart] LR 4.78e-05 → 4.78e-05 at epoch 1, batch 107\n"
     ]
    },
    {
     "name": "stderr",
     "output_type": "stream",
     "text": [
      "Epoch 1: 100%|██████████| 109/109 [00:44<00:00,  2.45bundle/s, lr=4.78e-5, train_rmse=0.379]"
     ]
    },
    {
     "name": "stdout",
     "output_type": "stream",
     "text": [
      "  [Cosine restart] LR 4.78e-05 → 4.78e-05 at epoch 1, batch 108\n"
     ]
    },
    {
     "name": "stderr",
     "output_type": "stream",
     "text": [
      "\n"
     ]
    },
    {
     "name": "stdout",
     "output_type": "stream",
     "text": [
      "Epoch 001 • train=0.3786 • val=0.2805 • lr=4.78e-05\n"
     ]
    },
    {
     "name": "stderr",
     "output_type": "stream",
     "text": [
      "Epoch 2:   1%|          | 1/109 [00:00<00:23,  4.59bundle/s, lr=4.78e-5, train_rmse=0.367]"
     ]
    },
    {
     "name": "stdout",
     "output_type": "stream",
     "text": [
      "  [Cosine restart] LR 4.78e-05 → 4.78e-05 at epoch 2, batch 0\n"
     ]
    },
    {
     "name": "stderr",
     "output_type": "stream",
     "text": [
      "Epoch 2:   2%|▏         | 2/109 [00:01<00:33,  3.15bundle/s, lr=4.78e-5, train_rmse=0.371]"
     ]
    },
    {
     "name": "stdout",
     "output_type": "stream",
     "text": [
      "  [Cosine restart] LR 4.78e-05 → 4.78e-05 at epoch 2, batch 1\n"
     ]
    },
    {
     "name": "stderr",
     "output_type": "stream",
     "text": [
      "Epoch 2:   3%|▎         | 3/109 [00:01<00:36,  2.88bundle/s, lr=4.78e-5, train_rmse=0.375]"
     ]
    },
    {
     "name": "stdout",
     "output_type": "stream",
     "text": [
      "  [Cosine restart] LR 4.78e-05 → 4.78e-05 at epoch 2, batch 2\n"
     ]
    },
    {
     "name": "stderr",
     "output_type": "stream",
     "text": [
      "Epoch 2:   4%|▎         | 4/109 [00:01<00:37,  2.77bundle/s, lr=4.78e-5, train_rmse=0.377]"
     ]
    },
    {
     "name": "stdout",
     "output_type": "stream",
     "text": [
      "  [Cosine restart] LR 4.78e-05 → 4.78e-05 at epoch 2, batch 3\n"
     ]
    },
    {
     "name": "stderr",
     "output_type": "stream",
     "text": [
      "Epoch 2:   5%|▍         | 5/109 [00:02<00:38,  2.68bundle/s, lr=4.78e-5, train_rmse=0.376]"
     ]
    },
    {
     "name": "stdout",
     "output_type": "stream",
     "text": [
      "  [Cosine restart] LR 4.78e-05 → 4.78e-05 at epoch 2, batch 4\n"
     ]
    },
    {
     "name": "stderr",
     "output_type": "stream",
     "text": [
      "Epoch 2:   6%|▌         | 6/109 [00:02<00:39,  2.64bundle/s, lr=4.78e-5, train_rmse=0.375]"
     ]
    },
    {
     "name": "stdout",
     "output_type": "stream",
     "text": [
      "  [Cosine restart] LR 4.78e-05 → 4.78e-05 at epoch 2, batch 5\n"
     ]
    },
    {
     "name": "stderr",
     "output_type": "stream",
     "text": [
      "Epoch 2:   6%|▋         | 7/109 [00:02<00:38,  2.64bundle/s, lr=4.78e-5, train_rmse=0.373]"
     ]
    },
    {
     "name": "stdout",
     "output_type": "stream",
     "text": [
      "  [Cosine restart] LR 4.78e-05 → 4.78e-05 at epoch 2, batch 6\n"
     ]
    },
    {
     "name": "stderr",
     "output_type": "stream",
     "text": [
      "Epoch 2:   7%|▋         | 8/109 [00:03<00:38,  2.64bundle/s, lr=4.78e-5, train_rmse=0.37] "
     ]
    },
    {
     "name": "stdout",
     "output_type": "stream",
     "text": [
      "  [Cosine restart] LR 4.78e-05 → 4.78e-05 at epoch 2, batch 7\n"
     ]
    },
    {
     "name": "stderr",
     "output_type": "stream",
     "text": [
      "Epoch 2:   8%|▊         | 9/109 [00:03<00:37,  2.67bundle/s, lr=4.78e-5, train_rmse=0.365]"
     ]
    },
    {
     "name": "stdout",
     "output_type": "stream",
     "text": [
      "  [Cosine restart] LR 4.78e-05 → 4.78e-05 at epoch 2, batch 8\n"
     ]
    },
    {
     "name": "stderr",
     "output_type": "stream",
     "text": [
      "Epoch 2:   9%|▉         | 10/109 [00:04<00:36,  2.68bundle/s, lr=4.78e-5, train_rmse=0.361]"
     ]
    },
    {
     "name": "stdout",
     "output_type": "stream",
     "text": [
      "  [Cosine restart] LR 4.78e-05 → 4.78e-05 at epoch 2, batch 9\n"
     ]
    },
    {
     "name": "stderr",
     "output_type": "stream",
     "text": [
      "Epoch 2:  10%|█         | 11/109 [00:04<00:36,  2.67bundle/s, lr=4.78e-5, train_rmse=0.357]"
     ]
    },
    {
     "name": "stdout",
     "output_type": "stream",
     "text": [
      "  [Cosine restart] LR 4.78e-05 → 4.78e-05 at epoch 2, batch 10\n"
     ]
    },
    {
     "name": "stderr",
     "output_type": "stream",
     "text": [
      "Epoch 2:  11%|█         | 12/109 [00:04<00:36,  2.65bundle/s, lr=4.78e-5, train_rmse=0.352]"
     ]
    },
    {
     "name": "stdout",
     "output_type": "stream",
     "text": [
      "  [Cosine restart] LR 4.78e-05 → 4.78e-05 at epoch 2, batch 11\n"
     ]
    },
    {
     "name": "stderr",
     "output_type": "stream",
     "text": [
      "Epoch 2:  12%|█▏        | 13/109 [00:05<00:36,  2.65bundle/s, lr=4.78e-5, train_rmse=0.346]"
     ]
    },
    {
     "name": "stdout",
     "output_type": "stream",
     "text": [
      "  [Cosine restart] LR 4.78e-05 → 4.78e-05 at epoch 2, batch 12\n"
     ]
    },
    {
     "name": "stderr",
     "output_type": "stream",
     "text": [
      "Epoch 2:  13%|█▎        | 14/109 [00:05<00:36,  2.64bundle/s, lr=4.78e-5, train_rmse=0.341]"
     ]
    },
    {
     "name": "stdout",
     "output_type": "stream",
     "text": [
      "  [Cosine restart] LR 4.78e-05 → 4.78e-05 at epoch 2, batch 13\n"
     ]
    },
    {
     "name": "stderr",
     "output_type": "stream",
     "text": [
      "Epoch 2:  14%|█▍        | 15/109 [00:05<00:35,  2.68bundle/s, lr=4.78e-5, train_rmse=0.335]"
     ]
    },
    {
     "name": "stdout",
     "output_type": "stream",
     "text": [
      "  [Cosine restart] LR 4.78e-05 → 4.78e-05 at epoch 2, batch 14\n"
     ]
    },
    {
     "name": "stderr",
     "output_type": "stream",
     "text": [
      "Epoch 2:  15%|█▍        | 16/109 [00:06<00:35,  2.65bundle/s, lr=4.78e-5, train_rmse=0.329]"
     ]
    },
    {
     "name": "stdout",
     "output_type": "stream",
     "text": [
      "  [Cosine restart] LR 4.78e-05 → 4.78e-05 at epoch 2, batch 15\n"
     ]
    },
    {
     "name": "stderr",
     "output_type": "stream",
     "text": [
      "Epoch 2:  16%|█▌        | 17/109 [00:06<00:34,  2.63bundle/s, lr=4.78e-5, train_rmse=0.324]"
     ]
    },
    {
     "name": "stdout",
     "output_type": "stream",
     "text": [
      "  [Cosine restart] LR 4.78e-05 → 4.78e-05 at epoch 2, batch 16\n"
     ]
    },
    {
     "name": "stderr",
     "output_type": "stream",
     "text": [
      "Epoch 2:  17%|█▋        | 18/109 [00:07<00:34,  2.61bundle/s, lr=4.78e-5, train_rmse=0.32] "
     ]
    },
    {
     "name": "stdout",
     "output_type": "stream",
     "text": [
      "  [Cosine restart] LR 4.78e-05 → 4.78e-05 at epoch 2, batch 17\n"
     ]
    },
    {
     "name": "stderr",
     "output_type": "stream",
     "text": [
      "Epoch 2:  17%|█▋        | 19/109 [00:07<00:34,  2.61bundle/s, lr=4.78e-5, train_rmse=0.316]"
     ]
    },
    {
     "name": "stdout",
     "output_type": "stream",
     "text": [
      "  [Cosine restart] LR 4.78e-05 → 4.78e-05 at epoch 2, batch 18\n",
      "  [Cosine restart] LR 4.78e-05 → 4.78e-05 at epoch 2, batch 19\n"
     ]
    },
    {
     "name": "stderr",
     "output_type": "stream",
     "text": [
      "Epoch 2:  19%|█▉        | 21/109 [00:07<00:22,  3.95bundle/s, lr=4.78e-5, train_rmse=0.308]"
     ]
    },
    {
     "name": "stdout",
     "output_type": "stream",
     "text": [
      "  [Cosine restart] LR 4.78e-05 → 4.78e-05 at epoch 2, batch 20\n"
     ]
    },
    {
     "name": "stderr",
     "output_type": "stream",
     "text": [
      "Epoch 2:  20%|██        | 22/109 [00:08<00:25,  3.35bundle/s, lr=4.78e-5, train_rmse=0.305]"
     ]
    },
    {
     "name": "stdout",
     "output_type": "stream",
     "text": [
      "  [Cosine restart] LR 4.78e-05 → 4.78e-05 at epoch 2, batch 21\n"
     ]
    },
    {
     "name": "stderr",
     "output_type": "stream",
     "text": [
      "Epoch 2:  21%|██        | 23/109 [00:08<00:28,  3.01bundle/s, lr=4.78e-5, train_rmse=0.302]"
     ]
    },
    {
     "name": "stdout",
     "output_type": "stream",
     "text": [
      "  [Cosine restart] LR 4.78e-05 → 4.78e-05 at epoch 2, batch 22\n"
     ]
    },
    {
     "name": "stderr",
     "output_type": "stream",
     "text": [
      "Epoch 2:  22%|██▏       | 24/109 [00:08<00:29,  2.86bundle/s, lr=4.78e-5, train_rmse=0.3]  "
     ]
    },
    {
     "name": "stdout",
     "output_type": "stream",
     "text": [
      "  [Cosine restart] LR 4.78e-05 → 4.78e-05 at epoch 2, batch 23\n"
     ]
    },
    {
     "name": "stderr",
     "output_type": "stream",
     "text": [
      "Epoch 2:  23%|██▎       | 25/109 [00:09<00:32,  2.57bundle/s, lr=4.78e-5, train_rmse=0.299]"
     ]
    },
    {
     "name": "stdout",
     "output_type": "stream",
     "text": [
      "  [Cosine restart] LR 4.78e-05 → 4.78e-05 at epoch 2, batch 24\n"
     ]
    },
    {
     "name": "stderr",
     "output_type": "stream",
     "text": [
      "Epoch 2:  24%|██▍       | 26/109 [00:09<00:32,  2.53bundle/s, lr=4.78e-5, train_rmse=0.296]"
     ]
    },
    {
     "name": "stdout",
     "output_type": "stream",
     "text": [
      "  [Cosine restart] LR 4.78e-05 → 4.78e-05 at epoch 2, batch 25\n"
     ]
    },
    {
     "name": "stderr",
     "output_type": "stream",
     "text": [
      "Epoch 2:  25%|██▍       | 27/109 [00:10<00:32,  2.50bundle/s, lr=4.78e-5, train_rmse=0.293]"
     ]
    },
    {
     "name": "stdout",
     "output_type": "stream",
     "text": [
      "  [Cosine restart] LR 4.78e-05 → 4.78e-05 at epoch 2, batch 26\n"
     ]
    },
    {
     "name": "stderr",
     "output_type": "stream",
     "text": [
      "Epoch 2:  26%|██▌       | 28/109 [00:10<00:32,  2.53bundle/s, lr=4.78e-5, train_rmse=0.291]"
     ]
    },
    {
     "name": "stdout",
     "output_type": "stream",
     "text": [
      "  [Cosine restart] LR 4.78e-05 → 4.78e-05 at epoch 2, batch 27\n"
     ]
    },
    {
     "name": "stderr",
     "output_type": "stream",
     "text": [
      "Epoch 2:  27%|██▋       | 29/109 [00:11<00:31,  2.56bundle/s, lr=4.78e-5, train_rmse=0.288]"
     ]
    },
    {
     "name": "stdout",
     "output_type": "stream",
     "text": [
      "  [Cosine restart] LR 4.78e-05 → 4.78e-05 at epoch 2, batch 28\n"
     ]
    },
    {
     "name": "stderr",
     "output_type": "stream",
     "text": [
      "Epoch 2:  28%|██▊       | 30/109 [00:11<00:30,  2.56bundle/s, lr=4.78e-5, train_rmse=0.286]"
     ]
    },
    {
     "name": "stdout",
     "output_type": "stream",
     "text": [
      "  [Cosine restart] LR 4.78e-05 → 4.78e-05 at epoch 2, batch 29\n"
     ]
    },
    {
     "name": "stderr",
     "output_type": "stream",
     "text": [
      "Epoch 2:  28%|██▊       | 31/109 [00:11<00:30,  2.53bundle/s, lr=4.78e-5, train_rmse=0.284]"
     ]
    },
    {
     "name": "stdout",
     "output_type": "stream",
     "text": [
      "  [Cosine restart] LR 4.78e-05 → 4.78e-05 at epoch 2, batch 30\n"
     ]
    },
    {
     "name": "stderr",
     "output_type": "stream",
     "text": [
      "Epoch 2:  29%|██▉       | 32/109 [00:12<00:30,  2.50bundle/s, lr=4.78e-5, train_rmse=0.282]"
     ]
    },
    {
     "name": "stdout",
     "output_type": "stream",
     "text": [
      "  [Cosine restart] LR 4.78e-05 → 4.78e-05 at epoch 2, batch 31\n"
     ]
    },
    {
     "name": "stderr",
     "output_type": "stream",
     "text": [
      "Epoch 2:  30%|███       | 33/109 [00:12<00:30,  2.50bundle/s, lr=4.78e-5, train_rmse=0.28] "
     ]
    },
    {
     "name": "stdout",
     "output_type": "stream",
     "text": [
      "  [Cosine restart] LR 4.78e-05 → 4.78e-05 at epoch 2, batch 32\n"
     ]
    },
    {
     "name": "stderr",
     "output_type": "stream",
     "text": [
      "Epoch 2:  31%|███       | 34/109 [00:13<00:30,  2.50bundle/s, lr=4.78e-5, train_rmse=0.278]"
     ]
    },
    {
     "name": "stdout",
     "output_type": "stream",
     "text": [
      "  [Cosine restart] LR 4.78e-05 → 4.78e-05 at epoch 2, batch 33\n"
     ]
    },
    {
     "name": "stderr",
     "output_type": "stream",
     "text": [
      "Epoch 2:  32%|███▏      | 35/109 [00:13<00:29,  2.51bundle/s, lr=4.78e-5, train_rmse=0.276]"
     ]
    },
    {
     "name": "stdout",
     "output_type": "stream",
     "text": [
      "  [Cosine restart] LR 4.78e-05 → 4.78e-05 at epoch 2, batch 34\n"
     ]
    },
    {
     "name": "stderr",
     "output_type": "stream",
     "text": [
      "Epoch 2:  33%|███▎      | 36/109 [00:13<00:29,  2.51bundle/s, lr=4.78e-5, train_rmse=0.274]"
     ]
    },
    {
     "name": "stdout",
     "output_type": "stream",
     "text": [
      "  [Cosine restart] LR 4.78e-05 → 4.78e-05 at epoch 2, batch 35\n"
     ]
    },
    {
     "name": "stderr",
     "output_type": "stream",
     "text": [
      "Epoch 2:  34%|███▍      | 37/109 [00:14<00:28,  2.53bundle/s, lr=4.78e-5, train_rmse=0.272]"
     ]
    },
    {
     "name": "stdout",
     "output_type": "stream",
     "text": [
      "  [Cosine restart] LR 4.78e-05 → 4.78e-05 at epoch 2, batch 36\n"
     ]
    },
    {
     "name": "stderr",
     "output_type": "stream",
     "text": [
      "Epoch 2:  35%|███▍      | 38/109 [00:14<00:28,  2.48bundle/s, lr=4.78e-5, train_rmse=0.27] "
     ]
    },
    {
     "name": "stdout",
     "output_type": "stream",
     "text": [
      "  [Cosine restart] LR 4.78e-05 → 4.78e-05 at epoch 2, batch 37\n"
     ]
    },
    {
     "name": "stderr",
     "output_type": "stream",
     "text": [
      "Epoch 2:  36%|███▌      | 39/109 [00:15<00:28,  2.43bundle/s, lr=4.78e-5, train_rmse=0.268]"
     ]
    },
    {
     "name": "stdout",
     "output_type": "stream",
     "text": [
      "  [Cosine restart] LR 4.78e-05 → 4.78e-05 at epoch 2, batch 38\n"
     ]
    },
    {
     "name": "stderr",
     "output_type": "stream",
     "text": [
      "Epoch 2:  37%|███▋      | 40/109 [00:15<00:28,  2.46bundle/s, lr=4.78e-5, train_rmse=0.267]"
     ]
    },
    {
     "name": "stdout",
     "output_type": "stream",
     "text": [
      "  [Cosine restart] LR 4.78e-05 → 4.78e-05 at epoch 2, batch 39\n"
     ]
    },
    {
     "name": "stderr",
     "output_type": "stream",
     "text": [
      "Epoch 2:  38%|███▊      | 41/109 [00:15<00:27,  2.47bundle/s, lr=4.78e-5, train_rmse=0.265]"
     ]
    },
    {
     "name": "stdout",
     "output_type": "stream",
     "text": [
      "  [Cosine restart] LR 4.78e-05 → 4.78e-05 at epoch 2, batch 40\n"
     ]
    },
    {
     "name": "stderr",
     "output_type": "stream",
     "text": [
      "Epoch 2:  39%|███▊      | 42/109 [00:16<00:28,  2.38bundle/s, lr=4.78e-5, train_rmse=0.264]"
     ]
    },
    {
     "name": "stdout",
     "output_type": "stream",
     "text": [
      "  [Cosine restart] LR 4.78e-05 → 4.78e-05 at epoch 2, batch 41\n"
     ]
    },
    {
     "name": "stderr",
     "output_type": "stream",
     "text": [
      "Epoch 2:  39%|███▉      | 43/109 [00:16<00:27,  2.40bundle/s, lr=4.78e-5, train_rmse=0.262]"
     ]
    },
    {
     "name": "stdout",
     "output_type": "stream",
     "text": [
      "  [Cosine restart] LR 4.78e-05 → 4.78e-05 at epoch 2, batch 42\n"
     ]
    },
    {
     "name": "stderr",
     "output_type": "stream",
     "text": [
      "Epoch 2:  40%|████      | 44/109 [00:17<00:27,  2.39bundle/s, lr=4.78e-5, train_rmse=0.261]"
     ]
    },
    {
     "name": "stdout",
     "output_type": "stream",
     "text": [
      "  [Cosine restart] LR 4.78e-05 → 4.78e-05 at epoch 2, batch 43\n"
     ]
    },
    {
     "name": "stderr",
     "output_type": "stream",
     "text": [
      "Epoch 2:  41%|████▏     | 45/109 [00:17<00:26,  2.41bundle/s, lr=4.78e-5, train_rmse=0.259]"
     ]
    },
    {
     "name": "stdout",
     "output_type": "stream",
     "text": [
      "  [Cosine restart] LR 4.78e-05 → 4.78e-05 at epoch 2, batch 44\n"
     ]
    },
    {
     "name": "stderr",
     "output_type": "stream",
     "text": [
      "Epoch 2:  42%|████▏     | 46/109 [00:17<00:25,  2.47bundle/s, lr=4.78e-5, train_rmse=0.258]"
     ]
    },
    {
     "name": "stdout",
     "output_type": "stream",
     "text": [
      "  [Cosine restart] LR 4.78e-05 → 4.78e-05 at epoch 2, batch 45\n"
     ]
    },
    {
     "name": "stderr",
     "output_type": "stream",
     "text": [
      "Epoch 2:  43%|████▎     | 47/109 [00:18<00:24,  2.50bundle/s, lr=4.78e-5, train_rmse=0.257]"
     ]
    },
    {
     "name": "stdout",
     "output_type": "stream",
     "text": [
      "  [Cosine restart] LR 4.78e-05 → 4.78e-05 at epoch 2, batch 46\n"
     ]
    },
    {
     "name": "stderr",
     "output_type": "stream",
     "text": [
      "Epoch 2:  44%|████▍     | 48/109 [00:18<00:24,  2.45bundle/s, lr=4.78e-5, train_rmse=0.256]"
     ]
    },
    {
     "name": "stdout",
     "output_type": "stream",
     "text": [
      "  [Cosine restart] LR 4.78e-05 → 4.78e-05 at epoch 2, batch 47\n"
     ]
    },
    {
     "name": "stderr",
     "output_type": "stream",
     "text": [
      "Epoch 2:  45%|████▍     | 49/109 [00:19<00:24,  2.42bundle/s, lr=4.78e-5, train_rmse=0.255]"
     ]
    },
    {
     "name": "stdout",
     "output_type": "stream",
     "text": [
      "  [Cosine restart] LR 4.78e-05 → 4.78e-05 at epoch 2, batch 48\n"
     ]
    },
    {
     "name": "stderr",
     "output_type": "stream",
     "text": [
      "Epoch 2:  46%|████▌     | 50/109 [00:19<00:24,  2.39bundle/s, lr=4.78e-5, train_rmse=0.255]"
     ]
    },
    {
     "name": "stdout",
     "output_type": "stream",
     "text": [
      "  [Cosine restart] LR 4.78e-05 → 4.78e-05 at epoch 2, batch 49\n"
     ]
    },
    {
     "name": "stderr",
     "output_type": "stream",
     "text": [
      "Epoch 2:  47%|████▋     | 51/109 [00:20<00:24,  2.40bundle/s, lr=4.78e-5, train_rmse=0.254]"
     ]
    },
    {
     "name": "stdout",
     "output_type": "stream",
     "text": [
      "  [Cosine restart] LR 4.78e-05 → 4.78e-05 at epoch 2, batch 50\n"
     ]
    },
    {
     "name": "stderr",
     "output_type": "stream",
     "text": [
      "Epoch 2:  48%|████▊     | 52/109 [00:20<00:23,  2.44bundle/s, lr=4.78e-5, train_rmse=0.253]"
     ]
    },
    {
     "name": "stdout",
     "output_type": "stream",
     "text": [
      "  [Cosine restart] LR 4.78e-05 → 4.78e-05 at epoch 2, batch 51\n"
     ]
    },
    {
     "name": "stderr",
     "output_type": "stream",
     "text": [
      "Epoch 2:  49%|████▊     | 53/109 [00:20<00:22,  2.50bundle/s, lr=4.78e-5, train_rmse=0.252]"
     ]
    },
    {
     "name": "stdout",
     "output_type": "stream",
     "text": [
      "  [Cosine restart] LR 4.78e-05 → 4.78e-05 at epoch 2, batch 52\n"
     ]
    },
    {
     "name": "stderr",
     "output_type": "stream",
     "text": [
      "Epoch 2:  50%|████▉     | 54/109 [00:21<00:21,  2.52bundle/s, lr=4.78e-5, train_rmse=0.251]"
     ]
    },
    {
     "name": "stdout",
     "output_type": "stream",
     "text": [
      "  [Cosine restart] LR 4.78e-05 → 4.78e-05 at epoch 2, batch 53\n"
     ]
    },
    {
     "name": "stderr",
     "output_type": "stream",
     "text": [
      "Epoch 2:  50%|█████     | 55/109 [00:21<00:21,  2.53bundle/s, lr=4.78e-5, train_rmse=0.25] "
     ]
    },
    {
     "name": "stdout",
     "output_type": "stream",
     "text": [
      "  [Cosine restart] LR 4.78e-05 → 4.78e-05 at epoch 2, batch 54\n"
     ]
    },
    {
     "name": "stderr",
     "output_type": "stream",
     "text": [
      "Epoch 2:  51%|█████▏    | 56/109 [00:21<00:20,  2.53bundle/s, lr=4.78e-5, train_rmse=0.249]"
     ]
    },
    {
     "name": "stdout",
     "output_type": "stream",
     "text": [
      "  [Cosine restart] LR 4.78e-05 → 4.78e-05 at epoch 2, batch 55\n"
     ]
    },
    {
     "name": "stderr",
     "output_type": "stream",
     "text": [
      "Epoch 2:  52%|█████▏    | 57/109 [00:22<00:20,  2.53bundle/s, lr=4.78e-5, train_rmse=0.248]"
     ]
    },
    {
     "name": "stdout",
     "output_type": "stream",
     "text": [
      "  [Cosine restart] LR 4.78e-05 → 4.78e-05 at epoch 2, batch 56\n"
     ]
    },
    {
     "name": "stderr",
     "output_type": "stream",
     "text": [
      "Epoch 2:  53%|█████▎    | 58/109 [00:22<00:20,  2.54bundle/s, lr=4.78e-5, train_rmse=0.247]"
     ]
    },
    {
     "name": "stdout",
     "output_type": "stream",
     "text": [
      "  [Cosine restart] LR 4.78e-05 → 4.78e-05 at epoch 2, batch 57\n"
     ]
    },
    {
     "name": "stderr",
     "output_type": "stream",
     "text": [
      "Epoch 2:  54%|█████▍    | 59/109 [00:23<00:19,  2.54bundle/s, lr=4.78e-5, train_rmse=0.248]"
     ]
    },
    {
     "name": "stdout",
     "output_type": "stream",
     "text": [
      "  [Cosine restart] LR 4.78e-05 → 4.78e-05 at epoch 2, batch 58\n"
     ]
    },
    {
     "name": "stderr",
     "output_type": "stream",
     "text": [
      "Epoch 2:  55%|█████▌    | 60/109 [00:23<00:19,  2.52bundle/s, lr=4.78e-5, train_rmse=0.247]"
     ]
    },
    {
     "name": "stdout",
     "output_type": "stream",
     "text": [
      "  [Cosine restart] LR 4.78e-05 → 4.78e-05 at epoch 2, batch 59\n"
     ]
    },
    {
     "name": "stderr",
     "output_type": "stream",
     "text": [
      "Epoch 2:  56%|█████▌    | 61/109 [00:23<00:19,  2.49bundle/s, lr=4.78e-5, train_rmse=0.247]"
     ]
    },
    {
     "name": "stdout",
     "output_type": "stream",
     "text": [
      "  [Cosine restart] LR 4.78e-05 → 4.78e-05 at epoch 2, batch 60\n"
     ]
    },
    {
     "name": "stderr",
     "output_type": "stream",
     "text": [
      "Epoch 2:  57%|█████▋    | 62/109 [00:24<00:19,  2.37bundle/s, lr=4.78e-5, train_rmse=0.246]"
     ]
    },
    {
     "name": "stdout",
     "output_type": "stream",
     "text": [
      "  [Cosine restart] LR 4.78e-05 → 4.78e-05 at epoch 2, batch 61\n"
     ]
    },
    {
     "name": "stderr",
     "output_type": "stream",
     "text": [
      "Epoch 2:  58%|█████▊    | 63/109 [00:24<00:18,  2.44bundle/s, lr=4.78e-5, train_rmse=0.246]"
     ]
    },
    {
     "name": "stdout",
     "output_type": "stream",
     "text": [
      "  [Cosine restart] LR 4.78e-05 → 4.78e-05 at epoch 2, batch 62\n"
     ]
    },
    {
     "name": "stderr",
     "output_type": "stream",
     "text": [
      "Epoch 2:  59%|█████▊    | 64/109 [00:25<00:18,  2.40bundle/s, lr=4.78e-5, train_rmse=0.245]"
     ]
    },
    {
     "name": "stdout",
     "output_type": "stream",
     "text": [
      "  [Cosine restart] LR 4.78e-05 → 4.78e-05 at epoch 2, batch 63\n"
     ]
    },
    {
     "name": "stderr",
     "output_type": "stream",
     "text": [
      "Epoch 2:  60%|█████▉    | 65/109 [00:25<00:18,  2.44bundle/s, lr=4.78e-5, train_rmse=0.244]"
     ]
    },
    {
     "name": "stdout",
     "output_type": "stream",
     "text": [
      "  [Cosine restart] LR 4.78e-05 → 4.78e-05 at epoch 2, batch 64\n"
     ]
    },
    {
     "name": "stderr",
     "output_type": "stream",
     "text": [
      "Epoch 2:  61%|██████    | 66/109 [00:26<00:17,  2.48bundle/s, lr=4.78e-5, train_rmse=0.243]"
     ]
    },
    {
     "name": "stdout",
     "output_type": "stream",
     "text": [
      "  [Cosine restart] LR 4.78e-05 → 4.78e-05 at epoch 2, batch 65\n"
     ]
    },
    {
     "name": "stderr",
     "output_type": "stream",
     "text": [
      "Epoch 2:  61%|██████▏   | 67/109 [00:26<00:16,  2.51bundle/s, lr=4.78e-5, train_rmse=0.242]"
     ]
    },
    {
     "name": "stdout",
     "output_type": "stream",
     "text": [
      "  [Cosine restart] LR 4.78e-05 → 4.78e-05 at epoch 2, batch 66\n"
     ]
    },
    {
     "name": "stderr",
     "output_type": "stream",
     "text": [
      "Epoch 2:  62%|██████▏   | 68/109 [00:26<00:16,  2.53bundle/s, lr=4.78e-5, train_rmse=0.241]"
     ]
    },
    {
     "name": "stdout",
     "output_type": "stream",
     "text": [
      "  [Cosine restart] LR 4.78e-05 → 4.78e-05 at epoch 2, batch 67\n"
     ]
    },
    {
     "name": "stderr",
     "output_type": "stream",
     "text": [
      "Epoch 2:  63%|██████▎   | 69/109 [00:27<00:15,  2.55bundle/s, lr=4.78e-5, train_rmse=0.24] "
     ]
    },
    {
     "name": "stdout",
     "output_type": "stream",
     "text": [
      "  [Cosine restart] LR 4.78e-05 → 4.78e-05 at epoch 2, batch 68\n"
     ]
    },
    {
     "name": "stderr",
     "output_type": "stream",
     "text": [
      "Epoch 2:  64%|██████▍   | 70/109 [00:27<00:15,  2.59bundle/s, lr=4.78e-5, train_rmse=0.239]"
     ]
    },
    {
     "name": "stdout",
     "output_type": "stream",
     "text": [
      "  [Cosine restart] LR 4.78e-05 → 4.78e-05 at epoch 2, batch 69\n"
     ]
    },
    {
     "name": "stderr",
     "output_type": "stream",
     "text": [
      "Epoch 2:  65%|██████▌   | 71/109 [00:27<00:14,  2.61bundle/s, lr=4.78e-5, train_rmse=0.238]"
     ]
    },
    {
     "name": "stdout",
     "output_type": "stream",
     "text": [
      "  [Cosine restart] LR 4.78e-05 → 4.78e-05 at epoch 2, batch 70\n"
     ]
    },
    {
     "name": "stderr",
     "output_type": "stream",
     "text": [
      "Epoch 2:  66%|██████▌   | 72/109 [00:28<00:14,  2.51bundle/s, lr=4.78e-5, train_rmse=0.238]"
     ]
    },
    {
     "name": "stdout",
     "output_type": "stream",
     "text": [
      "  [Cosine restart] LR 4.78e-05 → 4.78e-05 at epoch 2, batch 71\n"
     ]
    },
    {
     "name": "stderr",
     "output_type": "stream",
     "text": [
      "Epoch 2:  67%|██████▋   | 73/109 [00:28<00:14,  2.55bundle/s, lr=4.78e-5, train_rmse=0.237]"
     ]
    },
    {
     "name": "stdout",
     "output_type": "stream",
     "text": [
      "  [Cosine restart] LR 4.78e-05 → 4.78e-05 at epoch 2, batch 72\n"
     ]
    },
    {
     "name": "stderr",
     "output_type": "stream",
     "text": [
      "Epoch 2:  68%|██████▊   | 74/109 [00:29<00:13,  2.57bundle/s, lr=4.78e-5, train_rmse=0.236]"
     ]
    },
    {
     "name": "stdout",
     "output_type": "stream",
     "text": [
      "  [Cosine restart] LR 4.78e-05 → 4.78e-05 at epoch 2, batch 73\n"
     ]
    },
    {
     "name": "stderr",
     "output_type": "stream",
     "text": [
      "Epoch 2:  69%|██████▉   | 75/109 [00:29<00:13,  2.59bundle/s, lr=4.78e-5, train_rmse=0.235]"
     ]
    },
    {
     "name": "stdout",
     "output_type": "stream",
     "text": [
      "  [Cosine restart] LR 4.78e-05 → 4.78e-05 at epoch 2, batch 74\n"
     ]
    },
    {
     "name": "stderr",
     "output_type": "stream",
     "text": [
      "Epoch 2:  70%|██████▉   | 76/109 [00:29<00:12,  2.58bundle/s, lr=4.78e-5, train_rmse=0.235]"
     ]
    },
    {
     "name": "stdout",
     "output_type": "stream",
     "text": [
      "  [Cosine restart] LR 4.78e-05 → 4.78e-05 at epoch 2, batch 75\n"
     ]
    },
    {
     "name": "stderr",
     "output_type": "stream",
     "text": [
      "Epoch 2:  71%|███████   | 77/109 [00:30<00:12,  2.59bundle/s, lr=4.78e-5, train_rmse=0.238]"
     ]
    },
    {
     "name": "stdout",
     "output_type": "stream",
     "text": [
      "  [Cosine restart] LR 4.78e-05 → 4.78e-05 at epoch 2, batch 76\n"
     ]
    },
    {
     "name": "stderr",
     "output_type": "stream",
     "text": [
      "Epoch 2:  72%|███████▏  | 78/109 [00:30<00:11,  2.60bundle/s, lr=4.78e-5, train_rmse=0.241]"
     ]
    },
    {
     "name": "stdout",
     "output_type": "stream",
     "text": [
      "  [Cosine restart] LR 4.78e-05 → 4.78e-05 at epoch 2, batch 77\n"
     ]
    },
    {
     "name": "stderr",
     "output_type": "stream",
     "text": [
      "Epoch 2:  72%|███████▏  | 79/109 [00:31<00:12,  2.46bundle/s, lr=4.78e-5, train_rmse=0.241]"
     ]
    },
    {
     "name": "stdout",
     "output_type": "stream",
     "text": [
      "  [Cosine restart] LR 4.78e-05 → 4.78e-05 at epoch 2, batch 78\n"
     ]
    },
    {
     "name": "stderr",
     "output_type": "stream",
     "text": [
      "Epoch 2:  73%|███████▎  | 80/109 [00:31<00:11,  2.47bundle/s, lr=4.78e-5, train_rmse=0.241]"
     ]
    },
    {
     "name": "stdout",
     "output_type": "stream",
     "text": [
      "  [Cosine restart] LR 4.78e-05 → 4.78e-05 at epoch 2, batch 79\n"
     ]
    },
    {
     "name": "stderr",
     "output_type": "stream",
     "text": [
      "Epoch 2:  74%|███████▍  | 81/109 [00:31<00:11,  2.48bundle/s, lr=4.78e-5, train_rmse=0.24] "
     ]
    },
    {
     "name": "stdout",
     "output_type": "stream",
     "text": [
      "  [Cosine restart] LR 4.78e-05 → 4.78e-05 at epoch 2, batch 80\n"
     ]
    },
    {
     "name": "stderr",
     "output_type": "stream",
     "text": [
      "Epoch 2:  75%|███████▌  | 82/109 [00:32<00:11,  2.37bundle/s, lr=4.78e-5, train_rmse=0.24]"
     ]
    },
    {
     "name": "stdout",
     "output_type": "stream",
     "text": [
      "  [Cosine restart] LR 4.78e-05 → 4.78e-05 at epoch 2, batch 81\n"
     ]
    },
    {
     "name": "stderr",
     "output_type": "stream",
     "text": [
      "Epoch 2:  76%|███████▌  | 83/109 [00:32<00:10,  2.37bundle/s, lr=4.78e-5, train_rmse=0.239]"
     ]
    },
    {
     "name": "stdout",
     "output_type": "stream",
     "text": [
      "  [Cosine restart] LR 4.78e-05 → 4.78e-05 at epoch 2, batch 82\n"
     ]
    },
    {
     "name": "stderr",
     "output_type": "stream",
     "text": [
      "Epoch 2:  77%|███████▋  | 84/109 [00:33<00:10,  2.32bundle/s, lr=4.78e-5, train_rmse=0.239]"
     ]
    },
    {
     "name": "stdout",
     "output_type": "stream",
     "text": [
      "  [Cosine restart] LR 4.78e-05 → 4.78e-05 at epoch 2, batch 83\n"
     ]
    },
    {
     "name": "stderr",
     "output_type": "stream",
     "text": [
      "Epoch 2:  78%|███████▊  | 85/109 [00:33<00:10,  2.37bundle/s, lr=4.78e-5, train_rmse=0.239]"
     ]
    },
    {
     "name": "stdout",
     "output_type": "stream",
     "text": [
      "  [Cosine restart] LR 4.78e-05 → 4.78e-05 at epoch 2, batch 84\n"
     ]
    },
    {
     "name": "stderr",
     "output_type": "stream",
     "text": [
      "Epoch 2:  79%|███████▉  | 86/109 [00:34<00:09,  2.38bundle/s, lr=4.78e-5, train_rmse=0.239]"
     ]
    },
    {
     "name": "stdout",
     "output_type": "stream",
     "text": [
      "  [Cosine restart] LR 4.78e-05 → 4.78e-05 at epoch 2, batch 85\n"
     ]
    },
    {
     "name": "stderr",
     "output_type": "stream",
     "text": [
      "Epoch 2:  80%|███████▉  | 87/109 [00:34<00:09,  2.37bundle/s, lr=4.78e-5, train_rmse=0.239]"
     ]
    },
    {
     "name": "stdout",
     "output_type": "stream",
     "text": [
      "  [Cosine restart] LR 4.78e-05 → 4.78e-05 at epoch 2, batch 86\n"
     ]
    },
    {
     "name": "stderr",
     "output_type": "stream",
     "text": [
      "Epoch 2:  81%|████████  | 88/109 [00:34<00:09,  2.28bundle/s, lr=4.78e-5, train_rmse=0.239]"
     ]
    },
    {
     "name": "stdout",
     "output_type": "stream",
     "text": [
      "  [Cosine restart] LR 4.78e-05 → 4.78e-05 at epoch 2, batch 87\n"
     ]
    },
    {
     "name": "stderr",
     "output_type": "stream",
     "text": [
      "Epoch 2:  82%|████████▏ | 89/109 [00:35<00:09,  2.22bundle/s, lr=4.78e-5, train_rmse=0.239]"
     ]
    },
    {
     "name": "stdout",
     "output_type": "stream",
     "text": [
      "  [Cosine restart] LR 4.78e-05 → 4.78e-05 at epoch 2, batch 88\n"
     ]
    },
    {
     "name": "stderr",
     "output_type": "stream",
     "text": [
      "Epoch 2:  83%|████████▎ | 90/109 [00:35<00:08,  2.20bundle/s, lr=4.78e-5, train_rmse=0.239]"
     ]
    },
    {
     "name": "stdout",
     "output_type": "stream",
     "text": [
      "  [Cosine restart] LR 4.78e-05 → 4.78e-05 at epoch 2, batch 89\n"
     ]
    },
    {
     "name": "stderr",
     "output_type": "stream",
     "text": [
      "Epoch 2:  83%|████████▎ | 91/109 [00:36<00:08,  2.19bundle/s, lr=4.78e-5, train_rmse=0.239]"
     ]
    },
    {
     "name": "stdout",
     "output_type": "stream",
     "text": [
      "  [Cosine restart] LR 4.78e-05 → 4.78e-05 at epoch 2, batch 90\n"
     ]
    },
    {
     "name": "stderr",
     "output_type": "stream",
     "text": [
      "Epoch 2:  84%|████████▍ | 92/109 [00:36<00:07,  2.20bundle/s, lr=4.78e-5, train_rmse=0.24] "
     ]
    },
    {
     "name": "stdout",
     "output_type": "stream",
     "text": [
      "  [Cosine restart] LR 4.78e-05 → 4.78e-05 at epoch 2, batch 91\n"
     ]
    },
    {
     "name": "stderr",
     "output_type": "stream",
     "text": [
      "Epoch 2:  85%|████████▌ | 93/109 [00:37<00:07,  2.22bundle/s, lr=4.78e-5, train_rmse=0.24]"
     ]
    },
    {
     "name": "stdout",
     "output_type": "stream",
     "text": [
      "  [Cosine restart] LR 4.78e-05 → 4.78e-05 at epoch 2, batch 92\n"
     ]
    },
    {
     "name": "stderr",
     "output_type": "stream",
     "text": [
      "Epoch 2:  86%|████████▌ | 94/109 [00:37<00:06,  2.27bundle/s, lr=4.78e-5, train_rmse=0.24]"
     ]
    },
    {
     "name": "stdout",
     "output_type": "stream",
     "text": [
      "  [Cosine restart] LR 4.78e-05 → 4.78e-05 at epoch 2, batch 93\n"
     ]
    },
    {
     "name": "stderr",
     "output_type": "stream",
     "text": [
      "Epoch 2:  87%|████████▋ | 95/109 [00:38<00:06,  2.31bundle/s, lr=4.78e-5, train_rmse=0.24]"
     ]
    },
    {
     "name": "stdout",
     "output_type": "stream",
     "text": [
      "  [Cosine restart] LR 4.78e-05 → 4.78e-05 at epoch 2, batch 94\n"
     ]
    },
    {
     "name": "stderr",
     "output_type": "stream",
     "text": [
      "Epoch 2:  88%|████████▊ | 96/109 [00:38<00:05,  2.35bundle/s, lr=4.78e-5, train_rmse=0.239]"
     ]
    },
    {
     "name": "stdout",
     "output_type": "stream",
     "text": [
      "  [Cosine restart] LR 4.78e-05 → 4.78e-05 at epoch 2, batch 95\n"
     ]
    },
    {
     "name": "stderr",
     "output_type": "stream",
     "text": [
      "Epoch 2:  89%|████████▉ | 97/109 [00:38<00:05,  2.38bundle/s, lr=4.78e-5, train_rmse=0.239]"
     ]
    },
    {
     "name": "stdout",
     "output_type": "stream",
     "text": [
      "  [Cosine restart] LR 4.78e-05 → 4.78e-05 at epoch 2, batch 96\n",
      "  [Cosine restart] LR 4.78e-05 → 4.78e-05 at epoch 2, batch 97\n"
     ]
    },
    {
     "name": "stderr",
     "output_type": "stream",
     "text": [
      "Epoch 2:  91%|█████████ | 99/109 [00:39<00:03,  3.22bundle/s, lr=4.78e-5, train_rmse=0.239]"
     ]
    },
    {
     "name": "stdout",
     "output_type": "stream",
     "text": [
      "  [Cosine restart] LR 4.78e-05 → 4.78e-05 at epoch 2, batch 98\n"
     ]
    },
    {
     "name": "stderr",
     "output_type": "stream",
     "text": [
      "Epoch 2:  92%|█████████▏| 100/109 [00:39<00:03,  2.89bundle/s, lr=4.78e-5, train_rmse=0.239]"
     ]
    },
    {
     "name": "stdout",
     "output_type": "stream",
     "text": [
      "  [Cosine restart] LR 4.78e-05 → 4.78e-05 at epoch 2, batch 99\n"
     ]
    },
    {
     "name": "stderr",
     "output_type": "stream",
     "text": [
      "Epoch 2:  93%|█████████▎| 101/109 [00:40<00:02,  2.69bundle/s, lr=4.78e-5, train_rmse=0.239]"
     ]
    },
    {
     "name": "stdout",
     "output_type": "stream",
     "text": [
      "  [Cosine restart] LR 4.78e-05 → 4.78e-05 at epoch 2, batch 100\n"
     ]
    },
    {
     "name": "stderr",
     "output_type": "stream",
     "text": [
      "Epoch 2:  94%|█████████▎| 102/109 [00:40<00:02,  2.54bundle/s, lr=4.78e-5, train_rmse=0.24] "
     ]
    },
    {
     "name": "stdout",
     "output_type": "stream",
     "text": [
      "  [Cosine restart] LR 4.78e-05 → 4.78e-05 at epoch 2, batch 101\n"
     ]
    },
    {
     "name": "stderr",
     "output_type": "stream",
     "text": [
      "Epoch 2:  94%|█████████▍| 103/109 [00:41<00:02,  2.43bundle/s, lr=4.78e-5, train_rmse=0.24]"
     ]
    },
    {
     "name": "stdout",
     "output_type": "stream",
     "text": [
      "  [Cosine restart] LR 4.78e-05 → 4.78e-05 at epoch 2, batch 102\n"
     ]
    },
    {
     "name": "stderr",
     "output_type": "stream",
     "text": [
      "Epoch 2:  95%|█████████▌| 104/109 [00:41<00:02,  2.39bundle/s, lr=4.78e-5, train_rmse=0.241]"
     ]
    },
    {
     "name": "stdout",
     "output_type": "stream",
     "text": [
      "  [Cosine restart] LR 4.78e-05 → 4.78e-05 at epoch 2, batch 103\n"
     ]
    },
    {
     "name": "stderr",
     "output_type": "stream",
     "text": [
      "Epoch 2:  96%|█████████▋| 105/109 [00:41<00:01,  2.38bundle/s, lr=4.78e-5, train_rmse=0.243]"
     ]
    },
    {
     "name": "stdout",
     "output_type": "stream",
     "text": [
      "  [Cosine restart] LR 4.78e-05 → 4.78e-05 at epoch 2, batch 104\n"
     ]
    },
    {
     "name": "stderr",
     "output_type": "stream",
     "text": [
      "Epoch 2:  97%|█████████▋| 106/109 [00:42<00:01,  2.32bundle/s, lr=4.78e-5, train_rmse=0.244]"
     ]
    },
    {
     "name": "stdout",
     "output_type": "stream",
     "text": [
      "  [Cosine restart] LR 4.78e-05 → 4.78e-05 at epoch 2, batch 105\n"
     ]
    },
    {
     "name": "stderr",
     "output_type": "stream",
     "text": [
      "Epoch 2:  98%|█████████▊| 107/109 [00:42<00:00,  2.25bundle/s, lr=4.78e-5, train_rmse=0.244]"
     ]
    },
    {
     "name": "stdout",
     "output_type": "stream",
     "text": [
      "  [Cosine restart] LR 4.78e-05 → 4.78e-05 at epoch 2, batch 106\n"
     ]
    },
    {
     "name": "stderr",
     "output_type": "stream",
     "text": [
      "Epoch 2:  99%|█████████▉| 108/109 [00:43<00:00,  2.29bundle/s, lr=4.78e-5, train_rmse=0.246]"
     ]
    },
    {
     "name": "stdout",
     "output_type": "stream",
     "text": [
      "  [Cosine restart] LR 4.78e-05 → 4.78e-05 at epoch 2, batch 107\n"
     ]
    },
    {
     "name": "stderr",
     "output_type": "stream",
     "text": [
      "Epoch 2: 100%|██████████| 109/109 [00:43<00:00,  2.49bundle/s, lr=4.78e-5, train_rmse=0.246]"
     ]
    },
    {
     "name": "stdout",
     "output_type": "stream",
     "text": [
      "  [Cosine restart] LR 4.78e-05 → 4.78e-05 at epoch 2, batch 108\n"
     ]
    },
    {
     "name": "stderr",
     "output_type": "stream",
     "text": [
      "\n"
     ]
    },
    {
     "name": "stdout",
     "output_type": "stream",
     "text": [
      "Epoch 002 • train=0.2464 • val=0.2599 • lr=4.78e-05\n"
     ]
    },
    {
     "name": "stderr",
     "output_type": "stream",
     "text": [
      "Epoch 3:   0%|          | 0/109 [00:00<?, ?bundle/s, lr=4.78e-5, train_rmse=0.279]"
     ]
    },
    {
     "name": "stdout",
     "output_type": "stream",
     "text": [
      "  [Cosine restart] LR 4.78e-05 → 4.78e-05 at epoch 3, batch 0\n"
     ]
    },
    {
     "name": "stderr",
     "output_type": "stream",
     "text": [
      "Epoch 3:   2%|▏         | 2/109 [00:01<00:39,  2.69bundle/s, lr=4.78e-5, train_rmse=0.284]"
     ]
    },
    {
     "name": "stdout",
     "output_type": "stream",
     "text": [
      "  [Cosine restart] LR 4.78e-05 → 4.78e-05 at epoch 3, batch 1\n"
     ]
    },
    {
     "name": "stderr",
     "output_type": "stream",
     "text": [
      "Epoch 3:   3%|▎         | 3/109 [00:01<00:42,  2.48bundle/s, lr=4.78e-5, train_rmse=0.289]"
     ]
    },
    {
     "name": "stdout",
     "output_type": "stream",
     "text": [
      "  [Cosine restart] LR 4.78e-05 → 4.78e-05 at epoch 3, batch 2\n"
     ]
    },
    {
     "name": "stderr",
     "output_type": "stream",
     "text": [
      "Epoch 3:   4%|▎         | 4/109 [00:02<00:43,  2.41bundle/s, lr=4.78e-5, train_rmse=0.29] "
     ]
    },
    {
     "name": "stdout",
     "output_type": "stream",
     "text": [
      "  [Cosine restart] LR 4.78e-05 → 4.78e-05 at epoch 3, batch 3\n"
     ]
    },
    {
     "name": "stderr",
     "output_type": "stream",
     "text": [
      "Epoch 3:   5%|▍         | 5/109 [00:02<00:43,  2.41bundle/s, lr=4.78e-5, train_rmse=0.29]"
     ]
    },
    {
     "name": "stdout",
     "output_type": "stream",
     "text": [
      "  [Cosine restart] LR 4.78e-05 → 4.78e-05 at epoch 3, batch 4\n"
     ]
    },
    {
     "name": "stderr",
     "output_type": "stream",
     "text": [
      "Epoch 3:   6%|▌         | 6/109 [00:02<00:42,  2.43bundle/s, lr=4.78e-5, train_rmse=0.29]"
     ]
    },
    {
     "name": "stdout",
     "output_type": "stream",
     "text": [
      "  [Cosine restart] LR 4.78e-05 → 4.78e-05 at epoch 3, batch 5\n"
     ]
    },
    {
     "name": "stderr",
     "output_type": "stream",
     "text": [
      "Epoch 3:   6%|▋         | 7/109 [00:03<00:41,  2.46bundle/s, lr=4.78e-5, train_rmse=0.289]"
     ]
    },
    {
     "name": "stdout",
     "output_type": "stream",
     "text": [
      "  [Cosine restart] LR 4.78e-05 → 4.78e-05 at epoch 3, batch 6\n"
     ]
    },
    {
     "name": "stderr",
     "output_type": "stream",
     "text": [
      "Epoch 3:   7%|▋         | 8/109 [00:03<00:44,  2.28bundle/s, lr=4.78e-5, train_rmse=0.288]"
     ]
    },
    {
     "name": "stdout",
     "output_type": "stream",
     "text": [
      "  [Cosine restart] LR 4.78e-05 → 4.78e-05 at epoch 3, batch 7\n"
     ]
    },
    {
     "name": "stderr",
     "output_type": "stream",
     "text": [
      "Epoch 3:   8%|▊         | 9/109 [00:04<00:43,  2.30bundle/s, lr=4.78e-5, train_rmse=0.285]"
     ]
    },
    {
     "name": "stdout",
     "output_type": "stream",
     "text": [
      "  [Cosine restart] LR 4.78e-05 → 4.78e-05 at epoch 3, batch 8\n"
     ]
    },
    {
     "name": "stderr",
     "output_type": "stream",
     "text": [
      "Epoch 3:   9%|▉         | 10/109 [00:04<00:42,  2.30bundle/s, lr=4.78e-5, train_rmse=0.283]"
     ]
    },
    {
     "name": "stdout",
     "output_type": "stream",
     "text": [
      "  [Cosine restart] LR 4.78e-05 → 4.78e-05 at epoch 3, batch 9\n"
     ]
    },
    {
     "name": "stderr",
     "output_type": "stream",
     "text": [
      "Epoch 3:  10%|█         | 11/109 [00:05<00:42,  2.33bundle/s, lr=4.78e-5, train_rmse=0.281]"
     ]
    },
    {
     "name": "stdout",
     "output_type": "stream",
     "text": [
      "  [Cosine restart] LR 4.78e-05 → 4.78e-05 at epoch 3, batch 10\n"
     ]
    },
    {
     "name": "stderr",
     "output_type": "stream",
     "text": [
      "Epoch 3:  11%|█         | 12/109 [00:05<00:41,  2.36bundle/s, lr=4.78e-5, train_rmse=0.277]"
     ]
    },
    {
     "name": "stdout",
     "output_type": "stream",
     "text": [
      "  [Cosine restart] LR 4.78e-05 → 4.78e-05 at epoch 3, batch 11\n"
     ]
    },
    {
     "name": "stderr",
     "output_type": "stream",
     "text": [
      "Epoch 3:  12%|█▏        | 13/109 [00:05<00:41,  2.34bundle/s, lr=4.78e-5, train_rmse=0.272]"
     ]
    },
    {
     "name": "stdout",
     "output_type": "stream",
     "text": [
      "  [Cosine restart] LR 4.78e-05 → 4.78e-05 at epoch 3, batch 12\n"
     ]
    },
    {
     "name": "stderr",
     "output_type": "stream",
     "text": [
      "Epoch 3:  13%|█▎        | 14/109 [00:06<00:40,  2.34bundle/s, lr=4.78e-5, train_rmse=0.269]"
     ]
    },
    {
     "name": "stdout",
     "output_type": "stream",
     "text": [
      "  [Cosine restart] LR 4.78e-05 → 4.78e-05 at epoch 3, batch 13\n"
     ]
    },
    {
     "name": "stderr",
     "output_type": "stream",
     "text": [
      "Epoch 3:  14%|█▍        | 15/109 [00:06<00:40,  2.35bundle/s, lr=4.78e-5, train_rmse=0.265]"
     ]
    },
    {
     "name": "stdout",
     "output_type": "stream",
     "text": [
      "  [Cosine restart] LR 4.78e-05 → 4.78e-05 at epoch 3, batch 14\n"
     ]
    },
    {
     "name": "stderr",
     "output_type": "stream",
     "text": [
      "Epoch 3:  15%|█▍        | 16/109 [00:07<00:39,  2.33bundle/s, lr=4.78e-5, train_rmse=0.26] "
     ]
    },
    {
     "name": "stdout",
     "output_type": "stream",
     "text": [
      "  [Cosine restart] LR 4.78e-05 → 4.78e-05 at epoch 3, batch 15\n"
     ]
    },
    {
     "name": "stderr",
     "output_type": "stream",
     "text": [
      "Epoch 3:  16%|█▌        | 17/109 [00:07<00:38,  2.38bundle/s, lr=4.78e-5, train_rmse=0.256]"
     ]
    },
    {
     "name": "stdout",
     "output_type": "stream",
     "text": [
      "  [Cosine restart] LR 4.78e-05 → 4.78e-05 at epoch 3, batch 16\n"
     ]
    },
    {
     "name": "stderr",
     "output_type": "stream",
     "text": [
      "Epoch 3:  17%|█▋        | 18/109 [00:07<00:37,  2.43bundle/s, lr=4.78e-5, train_rmse=0.252]"
     ]
    },
    {
     "name": "stdout",
     "output_type": "stream",
     "text": [
      "  [Cosine restart] LR 4.78e-05 → 4.78e-05 at epoch 3, batch 17\n"
     ]
    },
    {
     "name": "stderr",
     "output_type": "stream",
     "text": [
      "Epoch 3:  17%|█▋        | 19/109 [00:08<00:35,  2.51bundle/s, lr=4.78e-5, train_rmse=0.248]"
     ]
    },
    {
     "name": "stdout",
     "output_type": "stream",
     "text": [
      "  [Cosine restart] LR 4.78e-05 → 4.78e-05 at epoch 3, batch 18\n"
     ]
    },
    {
     "name": "stderr",
     "output_type": "stream",
     "text": [
      "Epoch 3:  18%|█▊        | 20/109 [00:08<00:34,  2.56bundle/s, lr=4.78e-5, train_rmse=0.244]"
     ]
    },
    {
     "name": "stdout",
     "output_type": "stream",
     "text": [
      "  [Cosine restart] LR 4.78e-05 → 4.78e-05 at epoch 3, batch 19\n"
     ]
    },
    {
     "name": "stderr",
     "output_type": "stream",
     "text": [
      "Epoch 3:  19%|█▉        | 21/109 [00:09<00:34,  2.57bundle/s, lr=4.78e-5, train_rmse=0.24] "
     ]
    },
    {
     "name": "stdout",
     "output_type": "stream",
     "text": [
      "  [Cosine restart] LR 4.78e-05 → 4.78e-05 at epoch 3, batch 20\n"
     ]
    },
    {
     "name": "stderr",
     "output_type": "stream",
     "text": [
      "Epoch 3:  20%|██        | 22/109 [00:09<00:34,  2.53bundle/s, lr=4.78e-5, train_rmse=0.236]"
     ]
    },
    {
     "name": "stdout",
     "output_type": "stream",
     "text": [
      "  [Cosine restart] LR 4.78e-05 → 4.78e-05 at epoch 3, batch 21\n"
     ]
    },
    {
     "name": "stderr",
     "output_type": "stream",
     "text": [
      "Epoch 3:  21%|██        | 23/109 [00:09<00:34,  2.47bundle/s, lr=4.78e-5, train_rmse=0.233]"
     ]
    },
    {
     "name": "stdout",
     "output_type": "stream",
     "text": [
      "  [Cosine restart] LR 4.78e-05 → 4.78e-05 at epoch 3, batch 22\n"
     ]
    },
    {
     "name": "stderr",
     "output_type": "stream",
     "text": [
      "Epoch 3:  22%|██▏       | 24/109 [00:10<00:35,  2.40bundle/s, lr=4.78e-5, train_rmse=0.23] "
     ]
    },
    {
     "name": "stdout",
     "output_type": "stream",
     "text": [
      "  [Cosine restart] LR 4.78e-05 → 4.78e-05 at epoch 3, batch 23\n"
     ]
    },
    {
     "name": "stderr",
     "output_type": "stream",
     "text": [
      "Epoch 3:  23%|██▎       | 25/109 [00:10<00:34,  2.41bundle/s, lr=4.78e-5, train_rmse=0.229]"
     ]
    },
    {
     "name": "stdout",
     "output_type": "stream",
     "text": [
      "  [Cosine restart] LR 4.78e-05 → 4.78e-05 at epoch 3, batch 24\n"
     ]
    },
    {
     "name": "stderr",
     "output_type": "stream",
     "text": [
      "Epoch 3:  24%|██▍       | 26/109 [00:11<00:33,  2.46bundle/s, lr=4.78e-5, train_rmse=0.226]"
     ]
    },
    {
     "name": "stdout",
     "output_type": "stream",
     "text": [
      "  [Cosine restart] LR 4.78e-05 → 4.78e-05 at epoch 3, batch 25\n"
     ]
    },
    {
     "name": "stderr",
     "output_type": "stream",
     "text": [
      "Epoch 3:  25%|██▍       | 27/109 [00:11<00:32,  2.51bundle/s, lr=4.78e-5, train_rmse=0.224]"
     ]
    },
    {
     "name": "stdout",
     "output_type": "stream",
     "text": [
      "  [Cosine restart] LR 4.78e-05 → 4.78e-05 at epoch 3, batch 26\n"
     ]
    },
    {
     "name": "stderr",
     "output_type": "stream",
     "text": [
      "Epoch 3:  26%|██▌       | 28/109 [00:11<00:31,  2.54bundle/s, lr=4.78e-5, train_rmse=0.221]"
     ]
    },
    {
     "name": "stdout",
     "output_type": "stream",
     "text": [
      "  [Cosine restart] LR 4.78e-05 → 4.78e-05 at epoch 3, batch 27\n"
     ]
    },
    {
     "name": "stderr",
     "output_type": "stream",
     "text": [
      "Epoch 3:  27%|██▋       | 29/109 [00:12<00:31,  2.55bundle/s, lr=4.78e-5, train_rmse=0.219]"
     ]
    },
    {
     "name": "stdout",
     "output_type": "stream",
     "text": [
      "  [Cosine restart] LR 4.78e-05 → 4.78e-05 at epoch 3, batch 28\n"
     ]
    },
    {
     "name": "stderr",
     "output_type": "stream",
     "text": [
      "Epoch 3:  28%|██▊       | 30/109 [00:12<00:30,  2.56bundle/s, lr=4.78e-5, train_rmse=0.216]"
     ]
    },
    {
     "name": "stdout",
     "output_type": "stream",
     "text": [
      "  [Cosine restart] LR 4.78e-05 → 4.78e-05 at epoch 3, batch 29\n"
     ]
    },
    {
     "name": "stderr",
     "output_type": "stream",
     "text": [
      "Epoch 3:  28%|██▊       | 31/109 [00:13<00:30,  2.56bundle/s, lr=4.78e-5, train_rmse=0.214]"
     ]
    },
    {
     "name": "stdout",
     "output_type": "stream",
     "text": [
      "  [Cosine restart] LR 4.78e-05 → 4.78e-05 at epoch 3, batch 30\n"
     ]
    },
    {
     "name": "stderr",
     "output_type": "stream",
     "text": [
      "Epoch 3:  29%|██▉       | 32/109 [00:13<00:29,  2.59bundle/s, lr=4.78e-5, train_rmse=0.212]"
     ]
    },
    {
     "name": "stdout",
     "output_type": "stream",
     "text": [
      "  [Cosine restart] LR 4.78e-05 → 4.78e-05 at epoch 3, batch 31\n"
     ]
    },
    {
     "name": "stderr",
     "output_type": "stream",
     "text": [
      "Epoch 3:  30%|███       | 33/109 [00:13<00:29,  2.61bundle/s, lr=4.78e-5, train_rmse=0.21] "
     ]
    },
    {
     "name": "stdout",
     "output_type": "stream",
     "text": [
      "  [Cosine restart] LR 4.78e-05 → 4.78e-05 at epoch 3, batch 32\n"
     ]
    },
    {
     "name": "stderr",
     "output_type": "stream",
     "text": [
      "Epoch 3:  31%|███       | 34/109 [00:14<00:28,  2.63bundle/s, lr=4.78e-5, train_rmse=0.208]"
     ]
    },
    {
     "name": "stdout",
     "output_type": "stream",
     "text": [
      "  [Cosine restart] LR 4.78e-05 → 4.78e-05 at epoch 3, batch 33\n"
     ]
    },
    {
     "name": "stderr",
     "output_type": "stream",
     "text": [
      "Epoch 3:  32%|███▏      | 35/109 [00:14<00:28,  2.63bundle/s, lr=4.78e-5, train_rmse=0.206]"
     ]
    },
    {
     "name": "stdout",
     "output_type": "stream",
     "text": [
      "  [Cosine restart] LR 4.78e-05 → 4.78e-05 at epoch 3, batch 34\n"
     ]
    },
    {
     "name": "stderr",
     "output_type": "stream",
     "text": [
      "Epoch 3:  33%|███▎      | 36/109 [00:14<00:28,  2.60bundle/s, lr=4.78e-5, train_rmse=0.204]"
     ]
    },
    {
     "name": "stdout",
     "output_type": "stream",
     "text": [
      "  [Cosine restart] LR 4.78e-05 → 4.78e-05 at epoch 3, batch 35\n"
     ]
    },
    {
     "name": "stderr",
     "output_type": "stream",
     "text": [
      "Epoch 3:  34%|███▍      | 37/109 [00:15<00:28,  2.56bundle/s, lr=4.78e-5, train_rmse=0.202]"
     ]
    },
    {
     "name": "stdout",
     "output_type": "stream",
     "text": [
      "  [Cosine restart] LR 4.78e-05 → 4.78e-05 at epoch 3, batch 36\n"
     ]
    },
    {
     "name": "stderr",
     "output_type": "stream",
     "text": [
      "Epoch 3:  35%|███▍      | 38/109 [00:15<00:28,  2.51bundle/s, lr=4.78e-5, train_rmse=0.201]"
     ]
    },
    {
     "name": "stdout",
     "output_type": "stream",
     "text": [
      "  [Cosine restart] LR 4.78e-05 → 4.78e-05 at epoch 3, batch 37\n"
     ]
    },
    {
     "name": "stderr",
     "output_type": "stream",
     "text": [
      "Epoch 3:  36%|███▌      | 39/109 [00:16<00:28,  2.48bundle/s, lr=4.78e-5, train_rmse=0.199]"
     ]
    },
    {
     "name": "stdout",
     "output_type": "stream",
     "text": [
      "  [Cosine restart] LR 4.78e-05 → 4.78e-05 at epoch 3, batch 38\n"
     ]
    },
    {
     "name": "stderr",
     "output_type": "stream",
     "text": [
      "Epoch 3:  37%|███▋      | 40/109 [00:16<00:27,  2.51bundle/s, lr=4.78e-5, train_rmse=0.198]"
     ]
    },
    {
     "name": "stdout",
     "output_type": "stream",
     "text": [
      "  [Cosine restart] LR 4.78e-05 → 4.78e-05 at epoch 3, batch 39\n"
     ]
    },
    {
     "name": "stderr",
     "output_type": "stream",
     "text": [
      "Epoch 3:  38%|███▊      | 41/109 [00:16<00:26,  2.54bundle/s, lr=4.78e-5, train_rmse=0.196]"
     ]
    },
    {
     "name": "stdout",
     "output_type": "stream",
     "text": [
      "  [Cosine restart] LR 4.78e-05 → 4.78e-05 at epoch 3, batch 40\n"
     ]
    },
    {
     "name": "stderr",
     "output_type": "stream",
     "text": [
      "Epoch 3:  39%|███▊      | 42/109 [00:17<00:26,  2.51bundle/s, lr=4.78e-5, train_rmse=0.195]"
     ]
    },
    {
     "name": "stdout",
     "output_type": "stream",
     "text": [
      "  [Cosine restart] LR 4.78e-05 → 4.78e-05 at epoch 3, batch 41\n"
     ]
    },
    {
     "name": "stderr",
     "output_type": "stream",
     "text": [
      "Epoch 3:  39%|███▉      | 43/109 [00:17<00:26,  2.48bundle/s, lr=4.78e-5, train_rmse=0.193]"
     ]
    },
    {
     "name": "stdout",
     "output_type": "stream",
     "text": [
      "  [Cosine restart] LR 4.78e-05 → 4.78e-05 at epoch 3, batch 42\n"
     ]
    },
    {
     "name": "stderr",
     "output_type": "stream",
     "text": [
      "Epoch 3:  40%|████      | 44/109 [00:18<00:28,  2.31bundle/s, lr=4.78e-5, train_rmse=0.192]"
     ]
    },
    {
     "name": "stdout",
     "output_type": "stream",
     "text": [
      "  [Cosine restart] LR 4.78e-05 → 4.78e-05 at epoch 3, batch 43\n"
     ]
    },
    {
     "name": "stderr",
     "output_type": "stream",
     "text": [
      "Epoch 3:  41%|████▏     | 45/109 [00:18<00:27,  2.32bundle/s, lr=4.78e-5, train_rmse=0.191]"
     ]
    },
    {
     "name": "stdout",
     "output_type": "stream",
     "text": [
      "  [Cosine restart] LR 4.78e-05 → 4.78e-05 at epoch 3, batch 44\n"
     ]
    },
    {
     "name": "stderr",
     "output_type": "stream",
     "text": [
      "Epoch 3:  42%|████▏     | 46/109 [00:19<00:27,  2.32bundle/s, lr=4.78e-5, train_rmse=0.19] "
     ]
    },
    {
     "name": "stdout",
     "output_type": "stream",
     "text": [
      "  [Cosine restart] LR 4.78e-05 → 4.78e-05 at epoch 3, batch 45\n"
     ]
    },
    {
     "name": "stderr",
     "output_type": "stream",
     "text": [
      "Epoch 3:  43%|████▎     | 47/109 [00:19<00:25,  2.40bundle/s, lr=4.78e-5, train_rmse=0.188]"
     ]
    },
    {
     "name": "stdout",
     "output_type": "stream",
     "text": [
      "  [Cosine restart] LR 4.78e-05 → 4.78e-05 at epoch 3, batch 46\n"
     ]
    },
    {
     "name": "stderr",
     "output_type": "stream",
     "text": [
      "Epoch 3:  44%|████▍     | 48/109 [00:19<00:25,  2.39bundle/s, lr=4.78e-5, train_rmse=0.188]"
     ]
    },
    {
     "name": "stdout",
     "output_type": "stream",
     "text": [
      "  [Cosine restart] LR 4.78e-05 → 4.78e-05 at epoch 3, batch 47\n"
     ]
    },
    {
     "name": "stderr",
     "output_type": "stream",
     "text": [
      "Epoch 3:  45%|████▍     | 49/109 [00:20<00:24,  2.42bundle/s, lr=4.78e-5, train_rmse=0.188]"
     ]
    },
    {
     "name": "stdout",
     "output_type": "stream",
     "text": [
      "  [Cosine restart] LR 4.78e-05 → 4.78e-05 at epoch 3, batch 48\n"
     ]
    },
    {
     "name": "stderr",
     "output_type": "stream",
     "text": [
      "Epoch 3:  46%|████▌     | 50/109 [00:20<00:24,  2.37bundle/s, lr=4.78e-5, train_rmse=0.188]"
     ]
    },
    {
     "name": "stdout",
     "output_type": "stream",
     "text": [
      "  [Cosine restart] LR 4.78e-05 → 4.78e-05 at epoch 3, batch 49\n"
     ]
    },
    {
     "name": "stderr",
     "output_type": "stream",
     "text": [
      "Epoch 3:  47%|████▋     | 51/109 [00:21<00:25,  2.28bundle/s, lr=4.78e-5, train_rmse=0.188]"
     ]
    },
    {
     "name": "stdout",
     "output_type": "stream",
     "text": [
      "  [Cosine restart] LR 4.78e-05 → 4.78e-05 at epoch 3, batch 50\n"
     ]
    },
    {
     "name": "stderr",
     "output_type": "stream",
     "text": [
      "Epoch 3:  48%|████▊     | 52/109 [00:21<00:26,  2.19bundle/s, lr=4.78e-5, train_rmse=0.187]"
     ]
    },
    {
     "name": "stdout",
     "output_type": "stream",
     "text": [
      "  [Cosine restart] LR 4.78e-05 → 4.78e-05 at epoch 3, batch 51\n"
     ]
    },
    {
     "name": "stderr",
     "output_type": "stream",
     "text": [
      "Epoch 3:  49%|████▊     | 53/109 [00:22<00:25,  2.18bundle/s, lr=4.78e-5, train_rmse=0.187]"
     ]
    },
    {
     "name": "stdout",
     "output_type": "stream",
     "text": [
      "  [Cosine restart] LR 4.78e-05 → 4.78e-05 at epoch 3, batch 52\n"
     ]
    },
    {
     "name": "stderr",
     "output_type": "stream",
     "text": [
      "Epoch 3:  50%|████▉     | 54/109 [00:22<00:25,  2.16bundle/s, lr=4.78e-5, train_rmse=0.186]"
     ]
    },
    {
     "name": "stdout",
     "output_type": "stream",
     "text": [
      "  [Cosine restart] LR 4.78e-05 → 4.78e-05 at epoch 3, batch 53\n"
     ]
    },
    {
     "name": "stderr",
     "output_type": "stream",
     "text": [
      "Epoch 3:  50%|█████     | 55/109 [00:23<00:25,  2.14bundle/s, lr=4.78e-5, train_rmse=0.185]"
     ]
    },
    {
     "name": "stdout",
     "output_type": "stream",
     "text": [
      "  [Cosine restart] LR 4.78e-05 → 4.78e-05 at epoch 3, batch 54\n"
     ]
    },
    {
     "name": "stderr",
     "output_type": "stream",
     "text": [
      "Epoch 3:  51%|█████▏    | 56/109 [00:23<00:23,  2.22bundle/s, lr=4.78e-5, train_rmse=0.184]"
     ]
    },
    {
     "name": "stdout",
     "output_type": "stream",
     "text": [
      "  [Cosine restart] LR 4.78e-05 → 4.78e-05 at epoch 3, batch 55\n",
      "  [Cosine restart] LR 4.78e-05 → 4.78e-05 at epoch 3, batch 56\n"
     ]
    },
    {
     "name": "stderr",
     "output_type": "stream",
     "text": [
      "Epoch 3:  53%|█████▎    | 58/109 [00:23<00:14,  3.51bundle/s, lr=4.78e-5, train_rmse=0.183]"
     ]
    },
    {
     "name": "stdout",
     "output_type": "stream",
     "text": [
      "  [Cosine restart] LR 4.78e-05 → 4.78e-05 at epoch 3, batch 57\n"
     ]
    },
    {
     "name": "stderr",
     "output_type": "stream",
     "text": [
      "Epoch 3:  54%|█████▍    | 59/109 [00:24<00:16,  3.04bundle/s, lr=4.78e-5, train_rmse=0.184]"
     ]
    },
    {
     "name": "stdout",
     "output_type": "stream",
     "text": [
      "  [Cosine restart] LR 4.78e-05 → 4.78e-05 at epoch 3, batch 58\n"
     ]
    },
    {
     "name": "stderr",
     "output_type": "stream",
     "text": [
      "Epoch 3:  55%|█████▌    | 60/109 [00:24<00:17,  2.77bundle/s, lr=4.78e-5, train_rmse=0.184]"
     ]
    },
    {
     "name": "stdout",
     "output_type": "stream",
     "text": [
      "  [Cosine restart] LR 4.78e-05 → 4.78e-05 at epoch 3, batch 59\n"
     ]
    },
    {
     "name": "stderr",
     "output_type": "stream",
     "text": [
      "Epoch 3:  56%|█████▌    | 61/109 [00:25<00:18,  2.55bundle/s, lr=4.78e-5, train_rmse=0.184]"
     ]
    },
    {
     "name": "stdout",
     "output_type": "stream",
     "text": [
      "  [Cosine restart] LR 4.78e-05 → 4.78e-05 at epoch 3, batch 60\n"
     ]
    },
    {
     "name": "stderr",
     "output_type": "stream",
     "text": [
      "Epoch 3:  57%|█████▋    | 62/109 [00:25<00:18,  2.54bundle/s, lr=4.78e-5, train_rmse=0.184]"
     ]
    },
    {
     "name": "stdout",
     "output_type": "stream",
     "text": [
      "  [Cosine restart] LR 4.78e-05 → 4.78e-05 at epoch 3, batch 61\n"
     ]
    },
    {
     "name": "stderr",
     "output_type": "stream",
     "text": [
      "Epoch 3:  58%|█████▊    | 63/109 [00:25<00:17,  2.57bundle/s, lr=4.78e-5, train_rmse=0.183]"
     ]
    },
    {
     "name": "stdout",
     "output_type": "stream",
     "text": [
      "  [Cosine restart] LR 4.78e-05 → 4.78e-05 at epoch 3, batch 62\n"
     ]
    },
    {
     "name": "stderr",
     "output_type": "stream",
     "text": [
      "Epoch 3:  59%|█████▊    | 64/109 [00:26<00:17,  2.59bundle/s, lr=4.78e-5, train_rmse=0.183]"
     ]
    },
    {
     "name": "stdout",
     "output_type": "stream",
     "text": [
      "  [Cosine restart] LR 4.78e-05 → 4.78e-05 at epoch 3, batch 63\n"
     ]
    },
    {
     "name": "stderr",
     "output_type": "stream",
     "text": [
      "Epoch 3:  60%|█████▉    | 65/109 [00:26<00:16,  2.60bundle/s, lr=4.78e-5, train_rmse=0.182]"
     ]
    },
    {
     "name": "stdout",
     "output_type": "stream",
     "text": [
      "  [Cosine restart] LR 4.78e-05 → 4.78e-05 at epoch 3, batch 64\n"
     ]
    },
    {
     "name": "stderr",
     "output_type": "stream",
     "text": [
      "Epoch 3:  61%|██████    | 66/109 [00:27<00:16,  2.62bundle/s, lr=4.78e-5, train_rmse=0.182]"
     ]
    },
    {
     "name": "stdout",
     "output_type": "stream",
     "text": [
      "  [Cosine restart] LR 4.78e-05 → 4.78e-05 at epoch 3, batch 65\n"
     ]
    },
    {
     "name": "stderr",
     "output_type": "stream",
     "text": [
      "Epoch 3:  61%|██████▏   | 67/109 [00:27<00:15,  2.63bundle/s, lr=4.78e-5, train_rmse=0.181]"
     ]
    },
    {
     "name": "stdout",
     "output_type": "stream",
     "text": [
      "  [Cosine restart] LR 4.78e-05 → 4.78e-05 at epoch 3, batch 66\n"
     ]
    },
    {
     "name": "stderr",
     "output_type": "stream",
     "text": [
      "Epoch 3:  62%|██████▏   | 68/109 [00:27<00:15,  2.68bundle/s, lr=4.78e-5, train_rmse=0.181]"
     ]
    },
    {
     "name": "stdout",
     "output_type": "stream",
     "text": [
      "  [Cosine restart] LR 4.78e-05 → 4.78e-05 at epoch 3, batch 67\n"
     ]
    },
    {
     "name": "stderr",
     "output_type": "stream",
     "text": [
      "Epoch 3:  63%|██████▎   | 69/109 [00:28<00:14,  2.70bundle/s, lr=4.78e-5, train_rmse=0.18] "
     ]
    },
    {
     "name": "stdout",
     "output_type": "stream",
     "text": [
      "  [Cosine restart] LR 4.78e-05 → 4.78e-05 at epoch 3, batch 68\n"
     ]
    },
    {
     "name": "stderr",
     "output_type": "stream",
     "text": [
      "Epoch 3:  64%|██████▍   | 70/109 [00:28<00:14,  2.69bundle/s, lr=4.78e-5, train_rmse=0.179]"
     ]
    },
    {
     "name": "stdout",
     "output_type": "stream",
     "text": [
      "  [Cosine restart] LR 4.78e-05 → 4.78e-05 at epoch 3, batch 69\n"
     ]
    },
    {
     "name": "stderr",
     "output_type": "stream",
     "text": [
      "Epoch 3:  65%|██████▌   | 71/109 [00:28<00:14,  2.65bundle/s, lr=4.78e-5, train_rmse=0.179]"
     ]
    },
    {
     "name": "stdout",
     "output_type": "stream",
     "text": [
      "  [Cosine restart] LR 4.78e-05 → 4.78e-05 at epoch 3, batch 70\n"
     ]
    },
    {
     "name": "stderr",
     "output_type": "stream",
     "text": [
      "Epoch 3:  66%|██████▌   | 72/109 [00:29<00:14,  2.63bundle/s, lr=4.78e-5, train_rmse=0.178]"
     ]
    },
    {
     "name": "stdout",
     "output_type": "stream",
     "text": [
      "  [Cosine restart] LR 4.78e-05 → 4.78e-05 at epoch 3, batch 71\n"
     ]
    },
    {
     "name": "stderr",
     "output_type": "stream",
     "text": [
      "Epoch 3:  67%|██████▋   | 73/109 [00:29<00:13,  2.64bundle/s, lr=4.78e-5, train_rmse=0.177]"
     ]
    },
    {
     "name": "stdout",
     "output_type": "stream",
     "text": [
      "  [Cosine restart] LR 4.78e-05 → 4.78e-05 at epoch 3, batch 72\n"
     ]
    },
    {
     "name": "stderr",
     "output_type": "stream",
     "text": [
      "Epoch 3:  68%|██████▊   | 74/109 [00:30<00:13,  2.63bundle/s, lr=4.78e-5, train_rmse=0.177]"
     ]
    },
    {
     "name": "stdout",
     "output_type": "stream",
     "text": [
      "  [Cosine restart] LR 4.78e-05 → 4.78e-05 at epoch 3, batch 73\n"
     ]
    },
    {
     "name": "stderr",
     "output_type": "stream",
     "text": [
      "Epoch 3:  69%|██████▉   | 75/109 [00:30<00:13,  2.53bundle/s, lr=4.78e-5, train_rmse=0.176]"
     ]
    },
    {
     "name": "stdout",
     "output_type": "stream",
     "text": [
      "  [Cosine restart] LR 4.78e-05 → 4.78e-05 at epoch 3, batch 74\n"
     ]
    },
    {
     "name": "stderr",
     "output_type": "stream",
     "text": [
      "Epoch 3:  70%|██████▉   | 76/109 [00:30<00:12,  2.54bundle/s, lr=4.78e-5, train_rmse=0.176]"
     ]
    },
    {
     "name": "stdout",
     "output_type": "stream",
     "text": [
      "  [Cosine restart] LR 4.78e-05 → 4.78e-05 at epoch 3, batch 75\n"
     ]
    },
    {
     "name": "stderr",
     "output_type": "stream",
     "text": [
      "Epoch 3:  71%|███████   | 77/109 [00:31<00:12,  2.58bundle/s, lr=4.78e-5, train_rmse=0.181]"
     ]
    },
    {
     "name": "stdout",
     "output_type": "stream",
     "text": [
      "  [Cosine restart] LR 4.78e-05 → 4.78e-05 at epoch 3, batch 76\n"
     ]
    },
    {
     "name": "stderr",
     "output_type": "stream",
     "text": [
      "Epoch 3:  72%|███████▏  | 78/109 [00:31<00:11,  2.62bundle/s, lr=4.78e-5, train_rmse=0.186]"
     ]
    },
    {
     "name": "stdout",
     "output_type": "stream",
     "text": [
      "  [Cosine restart] LR 4.78e-05 → 4.78e-05 at epoch 3, batch 77\n"
     ]
    },
    {
     "name": "stderr",
     "output_type": "stream",
     "text": [
      "Epoch 3:  72%|███████▏  | 79/109 [00:32<00:11,  2.65bundle/s, lr=4.78e-5, train_rmse=0.187]"
     ]
    },
    {
     "name": "stdout",
     "output_type": "stream",
     "text": [
      "  [Cosine restart] LR 4.78e-05 → 4.78e-05 at epoch 3, batch 78\n"
     ]
    },
    {
     "name": "stderr",
     "output_type": "stream",
     "text": [
      "Epoch 3:  73%|███████▎  | 80/109 [00:32<00:10,  2.64bundle/s, lr=4.78e-5, train_rmse=0.187]"
     ]
    },
    {
     "name": "stdout",
     "output_type": "stream",
     "text": [
      "  [Cosine restart] LR 4.78e-05 → 4.78e-05 at epoch 3, batch 79\n"
     ]
    },
    {
     "name": "stderr",
     "output_type": "stream",
     "text": [
      "Epoch 3:  74%|███████▍  | 81/109 [00:32<00:10,  2.64bundle/s, lr=4.78e-5, train_rmse=0.187]"
     ]
    },
    {
     "name": "stdout",
     "output_type": "stream",
     "text": [
      "  [Cosine restart] LR 4.78e-05 → 4.78e-05 at epoch 3, batch 80\n"
     ]
    },
    {
     "name": "stderr",
     "output_type": "stream",
     "text": [
      "Epoch 3:  75%|███████▌  | 82/109 [00:33<00:10,  2.63bundle/s, lr=4.78e-5, train_rmse=0.188]"
     ]
    },
    {
     "name": "stdout",
     "output_type": "stream",
     "text": [
      "  [Cosine restart] LR 4.78e-05 → 4.78e-05 at epoch 3, batch 81\n"
     ]
    },
    {
     "name": "stderr",
     "output_type": "stream",
     "text": [
      "Epoch 3:  76%|███████▌  | 83/109 [00:33<00:09,  2.65bundle/s, lr=4.78e-5, train_rmse=0.188]"
     ]
    },
    {
     "name": "stdout",
     "output_type": "stream",
     "text": [
      "  [Cosine restart] LR 4.78e-05 → 4.78e-05 at epoch 3, batch 82\n"
     ]
    },
    {
     "name": "stderr",
     "output_type": "stream",
     "text": [
      "Epoch 3:  77%|███████▋  | 84/109 [00:33<00:09,  2.68bundle/s, lr=4.78e-5, train_rmse=0.188]"
     ]
    },
    {
     "name": "stdout",
     "output_type": "stream",
     "text": [
      "  [Cosine restart] LR 4.78e-05 → 4.78e-05 at epoch 3, batch 83\n"
     ]
    },
    {
     "name": "stderr",
     "output_type": "stream",
     "text": [
      "Epoch 3:  78%|███████▊  | 85/109 [00:34<00:08,  2.70bundle/s, lr=4.78e-5, train_rmse=0.189]"
     ]
    },
    {
     "name": "stdout",
     "output_type": "stream",
     "text": [
      "  [Cosine restart] LR 4.78e-05 → 4.78e-05 at epoch 3, batch 84\n"
     ]
    },
    {
     "name": "stderr",
     "output_type": "stream",
     "text": [
      "Epoch 3:  79%|███████▉  | 86/109 [00:34<00:08,  2.69bundle/s, lr=4.78e-5, train_rmse=0.189]"
     ]
    },
    {
     "name": "stdout",
     "output_type": "stream",
     "text": [
      "  [Cosine restart] LR 4.78e-05 → 4.78e-05 at epoch 3, batch 85\n"
     ]
    },
    {
     "name": "stderr",
     "output_type": "stream",
     "text": [
      "Epoch 3:  80%|███████▉  | 87/109 [00:35<00:08,  2.66bundle/s, lr=4.78e-5, train_rmse=0.19] "
     ]
    },
    {
     "name": "stdout",
     "output_type": "stream",
     "text": [
      "  [Cosine restart] LR 4.78e-05 → 4.78e-05 at epoch 3, batch 86\n"
     ]
    },
    {
     "name": "stderr",
     "output_type": "stream",
     "text": [
      "Epoch 3:  81%|████████  | 88/109 [00:35<00:07,  2.64bundle/s, lr=4.78e-5, train_rmse=0.19]"
     ]
    },
    {
     "name": "stdout",
     "output_type": "stream",
     "text": [
      "  [Cosine restart] LR 4.78e-05 → 4.78e-05 at epoch 3, batch 87\n"
     ]
    },
    {
     "name": "stderr",
     "output_type": "stream",
     "text": [
      "Epoch 3:  82%|████████▏ | 89/109 [00:35<00:07,  2.63bundle/s, lr=4.78e-5, train_rmse=0.19]"
     ]
    },
    {
     "name": "stdout",
     "output_type": "stream",
     "text": [
      "  [Cosine restart] LR 4.78e-05 → 4.78e-05 at epoch 3, batch 88\n"
     ]
    },
    {
     "name": "stderr",
     "output_type": "stream",
     "text": [
      "Epoch 3:  83%|████████▎ | 90/109 [00:36<00:07,  2.63bundle/s, lr=4.78e-5, train_rmse=0.191]"
     ]
    },
    {
     "name": "stdout",
     "output_type": "stream",
     "text": [
      "  [Cosine restart] LR 4.78e-05 → 4.78e-05 at epoch 3, batch 89\n"
     ]
    },
    {
     "name": "stderr",
     "output_type": "stream",
     "text": [
      "Epoch 3:  83%|████████▎ | 91/109 [00:36<00:06,  2.67bundle/s, lr=4.78e-5, train_rmse=0.192]"
     ]
    },
    {
     "name": "stdout",
     "output_type": "stream",
     "text": [
      "  [Cosine restart] LR 4.78e-05 → 4.78e-05 at epoch 3, batch 90\n"
     ]
    },
    {
     "name": "stderr",
     "output_type": "stream",
     "text": [
      "Epoch 3:  84%|████████▍ | 92/109 [00:36<00:06,  2.69bundle/s, lr=4.78e-5, train_rmse=0.193]"
     ]
    },
    {
     "name": "stdout",
     "output_type": "stream",
     "text": [
      "  [Cosine restart] LR 4.78e-05 → 4.78e-05 at epoch 3, batch 91\n"
     ]
    },
    {
     "name": "stderr",
     "output_type": "stream",
     "text": [
      "Epoch 3:  85%|████████▌ | 93/109 [00:37<00:05,  2.68bundle/s, lr=4.78e-5, train_rmse=0.194]"
     ]
    },
    {
     "name": "stdout",
     "output_type": "stream",
     "text": [
      "  [Cosine restart] LR 4.78e-05 → 4.78e-05 at epoch 3, batch 92\n"
     ]
    },
    {
     "name": "stderr",
     "output_type": "stream",
     "text": [
      "Epoch 3:  86%|████████▌ | 94/109 [00:37<00:05,  2.66bundle/s, lr=4.78e-5, train_rmse=0.194]"
     ]
    },
    {
     "name": "stdout",
     "output_type": "stream",
     "text": [
      "  [Cosine restart] LR 4.78e-05 → 4.78e-05 at epoch 3, batch 93\n"
     ]
    },
    {
     "name": "stderr",
     "output_type": "stream",
     "text": [
      "Epoch 3:  87%|████████▋ | 95/109 [00:38<00:05,  2.65bundle/s, lr=4.78e-5, train_rmse=0.194]"
     ]
    },
    {
     "name": "stdout",
     "output_type": "stream",
     "text": [
      "  [Cosine restart] LR 4.78e-05 → 4.78e-05 at epoch 3, batch 94\n"
     ]
    },
    {
     "name": "stderr",
     "output_type": "stream",
     "text": [
      "Epoch 3:  88%|████████▊ | 96/109 [00:38<00:04,  2.65bundle/s, lr=4.78e-5, train_rmse=0.194]"
     ]
    },
    {
     "name": "stdout",
     "output_type": "stream",
     "text": [
      "  [Cosine restart] LR 4.78e-05 → 4.78e-05 at epoch 3, batch 95\n"
     ]
    },
    {
     "name": "stderr",
     "output_type": "stream",
     "text": [
      "Epoch 3:  89%|████████▉ | 97/109 [00:38<00:04,  2.68bundle/s, lr=4.78e-5, train_rmse=0.194]"
     ]
    },
    {
     "name": "stdout",
     "output_type": "stream",
     "text": [
      "  [Cosine restart] LR 4.78e-05 → 4.78e-05 at epoch 3, batch 96\n"
     ]
    },
    {
     "name": "stderr",
     "output_type": "stream",
     "text": [
      "Epoch 3:  90%|████████▉ | 98/109 [00:39<00:04,  2.69bundle/s, lr=4.78e-5, train_rmse=0.194]"
     ]
    },
    {
     "name": "stdout",
     "output_type": "stream",
     "text": [
      "  [Cosine restart] LR 4.78e-05 → 4.78e-05 at epoch 3, batch 97\n"
     ]
    },
    {
     "name": "stderr",
     "output_type": "stream",
     "text": [
      "Epoch 3:  91%|█████████ | 99/109 [00:39<00:03,  2.67bundle/s, lr=4.78e-5, train_rmse=0.195]"
     ]
    },
    {
     "name": "stdout",
     "output_type": "stream",
     "text": [
      "  [Cosine restart] LR 4.78e-05 → 4.78e-05 at epoch 3, batch 98\n"
     ]
    },
    {
     "name": "stderr",
     "output_type": "stream",
     "text": [
      "Epoch 3:  92%|█████████▏| 100/109 [00:39<00:03,  2.64bundle/s, lr=4.78e-5, train_rmse=0.195]"
     ]
    },
    {
     "name": "stdout",
     "output_type": "stream",
     "text": [
      "  [Cosine restart] LR 4.78e-05 → 4.78e-05 at epoch 3, batch 99\n"
     ]
    },
    {
     "name": "stderr",
     "output_type": "stream",
     "text": [
      "Epoch 3:  93%|█████████▎| 101/109 [00:40<00:03,  2.55bundle/s, lr=4.78e-5, train_rmse=0.196]"
     ]
    },
    {
     "name": "stdout",
     "output_type": "stream",
     "text": [
      "  [Cosine restart] LR 4.78e-05 → 4.78e-05 at epoch 3, batch 100\n"
     ]
    },
    {
     "name": "stderr",
     "output_type": "stream",
     "text": [
      "Epoch 3:  94%|█████████▎| 102/109 [00:40<00:02,  2.50bundle/s, lr=4.78e-5, train_rmse=0.196]"
     ]
    },
    {
     "name": "stdout",
     "output_type": "stream",
     "text": [
      "  [Cosine restart] LR 4.78e-05 → 4.78e-05 at epoch 3, batch 101\n"
     ]
    },
    {
     "name": "stderr",
     "output_type": "stream",
     "text": [
      "Epoch 3:  94%|█████████▍| 103/109 [00:41<00:02,  2.47bundle/s, lr=4.78e-5, train_rmse=0.197]"
     ]
    },
    {
     "name": "stdout",
     "output_type": "stream",
     "text": [
      "  [Cosine restart] LR 4.78e-05 → 4.78e-05 at epoch 3, batch 102\n"
     ]
    },
    {
     "name": "stderr",
     "output_type": "stream",
     "text": [
      "Epoch 3:  95%|█████████▌| 104/109 [00:41<00:02,  2.43bundle/s, lr=4.78e-5, train_rmse=0.199]"
     ]
    },
    {
     "name": "stdout",
     "output_type": "stream",
     "text": [
      "  [Cosine restart] LR 4.78e-05 → 4.78e-05 at epoch 3, batch 103\n"
     ]
    },
    {
     "name": "stderr",
     "output_type": "stream",
     "text": [
      "Epoch 3:  96%|█████████▋| 105/109 [00:42<00:01,  2.43bundle/s, lr=4.78e-5, train_rmse=0.201]"
     ]
    },
    {
     "name": "stdout",
     "output_type": "stream",
     "text": [
      "  [Cosine restart] LR 4.78e-05 → 4.78e-05 at epoch 3, batch 104\n"
     ]
    },
    {
     "name": "stderr",
     "output_type": "stream",
     "text": [
      "Epoch 3:  97%|█████████▋| 106/109 [00:42<00:01,  2.46bundle/s, lr=4.78e-5, train_rmse=0.203]"
     ]
    },
    {
     "name": "stdout",
     "output_type": "stream",
     "text": [
      "  [Cosine restart] LR 4.78e-05 → 4.78e-05 at epoch 3, batch 105\n"
     ]
    },
    {
     "name": "stderr",
     "output_type": "stream",
     "text": [
      "Epoch 3:  98%|█████████▊| 107/109 [00:42<00:00,  2.48bundle/s, lr=4.78e-5, train_rmse=0.203]"
     ]
    },
    {
     "name": "stdout",
     "output_type": "stream",
     "text": [
      "  [Cosine restart] LR 4.78e-05 → 4.78e-05 at epoch 3, batch 106\n"
     ]
    },
    {
     "name": "stderr",
     "output_type": "stream",
     "text": [
      "Epoch 3:  99%|█████████▉| 108/109 [00:43<00:00,  2.46bundle/s, lr=4.78e-5, train_rmse=0.205]"
     ]
    },
    {
     "name": "stdout",
     "output_type": "stream",
     "text": [
      "  [Cosine restart] LR 4.78e-05 → 4.78e-05 at epoch 3, batch 107\n"
     ]
    },
    {
     "name": "stderr",
     "output_type": "stream",
     "text": [
      "Epoch 3: 100%|██████████| 109/109 [00:43<00:00,  2.49bundle/s, lr=4.78e-5, train_rmse=0.206]"
     ]
    },
    {
     "name": "stdout",
     "output_type": "stream",
     "text": [
      "  [Cosine restart] LR 4.78e-05 → 4.78e-05 at epoch 3, batch 108\n"
     ]
    },
    {
     "name": "stderr",
     "output_type": "stream",
     "text": [
      "\n"
     ]
    },
    {
     "name": "stdout",
     "output_type": "stream",
     "text": [
      "Epoch 003 • train=0.2057 • val=0.2597 • lr=4.78e-05\n"
     ]
    },
    {
     "name": "stderr",
     "output_type": "stream",
     "text": [
      "Epoch 4:   0%|          | 0/109 [00:00<?, ?bundle/s, lr=4.78e-5, train_rmse=0.281]"
     ]
    },
    {
     "name": "stdout",
     "output_type": "stream",
     "text": [
      "  [Cosine restart] LR 4.78e-05 → 4.78e-05 at epoch 4, batch 0\n"
     ]
    },
    {
     "name": "stderr",
     "output_type": "stream",
     "text": [
      "Epoch 4:   2%|▏         | 2/109 [00:01<00:34,  3.13bundle/s, lr=4.78e-5, train_rmse=0.286]"
     ]
    },
    {
     "name": "stdout",
     "output_type": "stream",
     "text": [
      "  [Cosine restart] LR 4.78e-05 → 4.78e-05 at epoch 4, batch 1\n"
     ]
    },
    {
     "name": "stderr",
     "output_type": "stream",
     "text": [
      "Epoch 4:   3%|▎         | 3/109 [00:01<00:36,  2.89bundle/s, lr=4.78e-5, train_rmse=0.29] "
     ]
    },
    {
     "name": "stdout",
     "output_type": "stream",
     "text": [
      "  [Cosine restart] LR 4.78e-05 → 4.78e-05 at epoch 4, batch 2\n"
     ]
    },
    {
     "name": "stderr",
     "output_type": "stream",
     "text": [
      "Epoch 4:   4%|▎         | 4/109 [00:01<00:37,  2.79bundle/s, lr=4.78e-5, train_rmse=0.291]"
     ]
    },
    {
     "name": "stdout",
     "output_type": "stream",
     "text": [
      "  [Cosine restart] LR 4.78e-05 → 4.78e-05 at epoch 4, batch 3\n"
     ]
    },
    {
     "name": "stderr",
     "output_type": "stream",
     "text": [
      "Epoch 4:   5%|▍         | 5/109 [00:02<00:37,  2.74bundle/s, lr=4.78e-5, train_rmse=0.291]"
     ]
    },
    {
     "name": "stdout",
     "output_type": "stream",
     "text": [
      "  [Cosine restart] LR 4.78e-05 → 4.78e-05 at epoch 4, batch 4\n"
     ]
    },
    {
     "name": "stderr",
     "output_type": "stream",
     "text": [
      "Epoch 4:   6%|▌         | 6/109 [00:02<00:38,  2.67bundle/s, lr=4.78e-5, train_rmse=0.292]"
     ]
    },
    {
     "name": "stdout",
     "output_type": "stream",
     "text": [
      "  [Cosine restart] LR 4.78e-05 → 4.78e-05 at epoch 4, batch 5\n"
     ]
    },
    {
     "name": "stderr",
     "output_type": "stream",
     "text": [
      "Epoch 4:   6%|▋         | 7/109 [00:02<00:39,  2.61bundle/s, lr=4.78e-5, train_rmse=0.29] "
     ]
    },
    {
     "name": "stdout",
     "output_type": "stream",
     "text": [
      "  [Cosine restart] LR 4.78e-05 → 4.78e-05 at epoch 4, batch 6\n"
     ]
    },
    {
     "name": "stderr",
     "output_type": "stream",
     "text": [
      "Epoch 4:   7%|▋         | 8/109 [00:03<00:39,  2.59bundle/s, lr=4.78e-5, train_rmse=0.29]"
     ]
    },
    {
     "name": "stdout",
     "output_type": "stream",
     "text": [
      "  [Cosine restart] LR 4.78e-05 → 4.78e-05 at epoch 4, batch 7\n"
     ]
    },
    {
     "name": "stderr",
     "output_type": "stream",
     "text": [
      "Epoch 4:   8%|▊         | 9/109 [00:03<00:39,  2.52bundle/s, lr=4.78e-5, train_rmse=0.288]"
     ]
    },
    {
     "name": "stdout",
     "output_type": "stream",
     "text": [
      "  [Cosine restart] LR 4.78e-05 → 4.78e-05 at epoch 4, batch 8\n"
     ]
    },
    {
     "name": "stderr",
     "output_type": "stream",
     "text": [
      "Epoch 4:   9%|▉         | 10/109 [00:04<00:39,  2.52bundle/s, lr=4.78e-5, train_rmse=0.286]"
     ]
    },
    {
     "name": "stdout",
     "output_type": "stream",
     "text": [
      "  [Cosine restart] LR 4.78e-05 → 4.78e-05 at epoch 4, batch 9\n"
     ]
    },
    {
     "name": "stderr",
     "output_type": "stream",
     "text": [
      "Epoch 4:  10%|█         | 11/109 [00:04<00:38,  2.54bundle/s, lr=4.78e-5, train_rmse=0.284]"
     ]
    },
    {
     "name": "stdout",
     "output_type": "stream",
     "text": [
      "  [Cosine restart] LR 4.78e-05 → 4.78e-05 at epoch 4, batch 10\n"
     ]
    },
    {
     "name": "stderr",
     "output_type": "stream",
     "text": [
      "Epoch 4:  11%|█         | 12/109 [00:04<00:38,  2.55bundle/s, lr=4.78e-5, train_rmse=0.281]"
     ]
    },
    {
     "name": "stdout",
     "output_type": "stream",
     "text": [
      "  [Cosine restart] LR 4.78e-05 → 4.78e-05 at epoch 4, batch 11\n"
     ]
    },
    {
     "name": "stderr",
     "output_type": "stream",
     "text": [
      "Epoch 4:  12%|█▏        | 13/109 [00:05<00:39,  2.41bundle/s, lr=4.78e-5, train_rmse=0.277]"
     ]
    },
    {
     "name": "stdout",
     "output_type": "stream",
     "text": [
      "  [Cosine restart] LR 4.78e-05 → 4.78e-05 at epoch 4, batch 12\n"
     ]
    },
    {
     "name": "stderr",
     "output_type": "stream",
     "text": [
      "Epoch 4:  13%|█▎        | 14/109 [00:05<00:39,  2.38bundle/s, lr=4.78e-5, train_rmse=0.274]"
     ]
    },
    {
     "name": "stdout",
     "output_type": "stream",
     "text": [
      "  [Cosine restart] LR 4.78e-05 → 4.78e-05 at epoch 4, batch 13\n"
     ]
    },
    {
     "name": "stderr",
     "output_type": "stream",
     "text": [
      "Epoch 4:  14%|█▍        | 15/109 [00:06<00:39,  2.41bundle/s, lr=4.78e-5, train_rmse=0.271]"
     ]
    },
    {
     "name": "stdout",
     "output_type": "stream",
     "text": [
      "  [Cosine restart] LR 4.78e-05 → 4.78e-05 at epoch 4, batch 14\n"
     ]
    },
    {
     "name": "stderr",
     "output_type": "stream",
     "text": [
      "Epoch 4:  15%|█▍        | 16/109 [00:06<00:39,  2.36bundle/s, lr=4.78e-5, train_rmse=0.267]"
     ]
    },
    {
     "name": "stdout",
     "output_type": "stream",
     "text": [
      "  [Cosine restart] LR 4.78e-05 → 4.78e-05 at epoch 4, batch 15\n"
     ]
    },
    {
     "name": "stderr",
     "output_type": "stream",
     "text": [
      "Epoch 4:  16%|█▌        | 17/109 [00:07<00:39,  2.33bundle/s, lr=4.78e-5, train_rmse=0.262]"
     ]
    },
    {
     "name": "stdout",
     "output_type": "stream",
     "text": [
      "  [Cosine restart] LR 4.78e-05 → 4.78e-05 at epoch 4, batch 16\n"
     ]
    },
    {
     "name": "stderr",
     "output_type": "stream",
     "text": [
      "Epoch 4:  17%|█▋        | 18/109 [00:07<00:39,  2.29bundle/s, lr=4.78e-5, train_rmse=0.258]"
     ]
    },
    {
     "name": "stdout",
     "output_type": "stream",
     "text": [
      "  [Cosine restart] LR 4.78e-05 → 4.78e-05 at epoch 4, batch 17\n"
     ]
    },
    {
     "name": "stderr",
     "output_type": "stream",
     "text": [
      "Epoch 4:  17%|█▋        | 19/109 [00:07<00:39,  2.31bundle/s, lr=4.78e-5, train_rmse=0.255]"
     ]
    },
    {
     "name": "stdout",
     "output_type": "stream",
     "text": [
      "  [Cosine restart] LR 4.78e-05 → 4.78e-05 at epoch 4, batch 18\n"
     ]
    },
    {
     "name": "stderr",
     "output_type": "stream",
     "text": [
      "Epoch 4:  18%|█▊        | 20/109 [00:08<00:38,  2.30bundle/s, lr=4.78e-5, train_rmse=0.251]"
     ]
    },
    {
     "name": "stdout",
     "output_type": "stream",
     "text": [
      "  [Cosine restart] LR 4.78e-05 → 4.78e-05 at epoch 4, batch 19\n",
      "  [Cosine restart] LR 4.78e-05 → 4.78e-05 at epoch 4, batch 20\n"
     ]
    },
    {
     "name": "stderr",
     "output_type": "stream",
     "text": [
      "Epoch 4:  20%|██        | 22/109 [00:08<00:25,  3.44bundle/s, lr=4.78e-5, train_rmse=0.243]"
     ]
    },
    {
     "name": "stdout",
     "output_type": "stream",
     "text": [
      "  [Cosine restart] LR 4.78e-05 → 4.78e-05 at epoch 4, batch 21\n"
     ]
    },
    {
     "name": "stderr",
     "output_type": "stream",
     "text": [
      "Epoch 4:  21%|██        | 23/109 [00:09<00:26,  3.21bundle/s, lr=4.78e-5, train_rmse=0.239]"
     ]
    },
    {
     "name": "stdout",
     "output_type": "stream",
     "text": [
      "  [Cosine restart] LR 4.78e-05 → 4.78e-05 at epoch 4, batch 22\n"
     ]
    },
    {
     "name": "stderr",
     "output_type": "stream",
     "text": [
      "Epoch 4:  22%|██▏       | 24/109 [00:09<00:28,  2.96bundle/s, lr=4.78e-5, train_rmse=0.236]"
     ]
    },
    {
     "name": "stdout",
     "output_type": "stream",
     "text": [
      "  [Cosine restart] LR 4.78e-05 → 4.78e-05 at epoch 4, batch 23\n"
     ]
    },
    {
     "name": "stderr",
     "output_type": "stream",
     "text": [
      "Epoch 4:  23%|██▎       | 25/109 [00:09<00:29,  2.85bundle/s, lr=4.78e-5, train_rmse=0.233]"
     ]
    },
    {
     "name": "stdout",
     "output_type": "stream",
     "text": [
      "  [Cosine restart] LR 4.78e-05 → 4.78e-05 at epoch 4, batch 24\n"
     ]
    },
    {
     "name": "stderr",
     "output_type": "stream",
     "text": [
      "Epoch 4:  24%|██▍       | 26/109 [00:10<00:30,  2.71bundle/s, lr=4.78e-5, train_rmse=0.229]"
     ]
    },
    {
     "name": "stdout",
     "output_type": "stream",
     "text": [
      "  [Cosine restart] LR 4.78e-05 → 4.78e-05 at epoch 4, batch 25\n"
     ]
    },
    {
     "name": "stderr",
     "output_type": "stream",
     "text": [
      "Epoch 4:  25%|██▍       | 27/109 [00:10<00:31,  2.60bundle/s, lr=4.78e-5, train_rmse=0.226]"
     ]
    },
    {
     "name": "stdout",
     "output_type": "stream",
     "text": [
      "  [Cosine restart] LR 4.78e-05 → 4.78e-05 at epoch 4, batch 26\n"
     ]
    },
    {
     "name": "stderr",
     "output_type": "stream",
     "text": [
      "Epoch 4:  26%|██▌       | 28/109 [00:11<00:31,  2.59bundle/s, lr=4.78e-5, train_rmse=0.223]"
     ]
    },
    {
     "name": "stdout",
     "output_type": "stream",
     "text": [
      "  [Cosine restart] LR 4.78e-05 → 4.78e-05 at epoch 4, batch 27\n"
     ]
    },
    {
     "name": "stderr",
     "output_type": "stream",
     "text": [
      "Epoch 4:  27%|██▋       | 29/109 [00:11<00:31,  2.58bundle/s, lr=4.78e-5, train_rmse=0.22] "
     ]
    },
    {
     "name": "stdout",
     "output_type": "stream",
     "text": [
      "  [Cosine restart] LR 4.78e-05 → 4.78e-05 at epoch 4, batch 28\n"
     ]
    },
    {
     "name": "stderr",
     "output_type": "stream",
     "text": [
      "Epoch 4:  28%|██▊       | 30/109 [00:11<00:30,  2.58bundle/s, lr=4.78e-5, train_rmse=0.217]"
     ]
    },
    {
     "name": "stdout",
     "output_type": "stream",
     "text": [
      "  [Cosine restart] LR 4.78e-05 → 4.78e-05 at epoch 4, batch 29\n"
     ]
    },
    {
     "name": "stderr",
     "output_type": "stream",
     "text": [
      "Epoch 4:  28%|██▊       | 31/109 [00:12<00:30,  2.60bundle/s, lr=4.78e-5, train_rmse=0.214]"
     ]
    },
    {
     "name": "stdout",
     "output_type": "stream",
     "text": [
      "  [Cosine restart] LR 4.78e-05 → 4.78e-05 at epoch 4, batch 30\n"
     ]
    },
    {
     "name": "stderr",
     "output_type": "stream",
     "text": [
      "Epoch 4:  29%|██▉       | 32/109 [00:12<00:29,  2.59bundle/s, lr=4.78e-5, train_rmse=0.212]"
     ]
    },
    {
     "name": "stdout",
     "output_type": "stream",
     "text": [
      "  [Cosine restart] LR 4.78e-05 → 4.78e-05 at epoch 4, batch 31\n"
     ]
    },
    {
     "name": "stderr",
     "output_type": "stream",
     "text": [
      "Epoch 4:  30%|███       | 33/109 [00:12<00:29,  2.60bundle/s, lr=4.78e-5, train_rmse=0.209]"
     ]
    },
    {
     "name": "stdout",
     "output_type": "stream",
     "text": [
      "  [Cosine restart] LR 4.78e-05 → 4.78e-05 at epoch 4, batch 32\n"
     ]
    },
    {
     "name": "stderr",
     "output_type": "stream",
     "text": [
      "Epoch 4:  31%|███       | 34/109 [00:13<00:29,  2.58bundle/s, lr=4.78e-5, train_rmse=0.207]"
     ]
    },
    {
     "name": "stdout",
     "output_type": "stream",
     "text": [
      "  [Cosine restart] LR 4.78e-05 → 4.78e-05 at epoch 4, batch 33\n"
     ]
    },
    {
     "name": "stderr",
     "output_type": "stream",
     "text": [
      "Epoch 4:  32%|███▏      | 35/109 [00:13<00:28,  2.60bundle/s, lr=4.78e-5, train_rmse=0.205]"
     ]
    },
    {
     "name": "stdout",
     "output_type": "stream",
     "text": [
      "  [Cosine restart] LR 4.78e-05 → 4.78e-05 at epoch 4, batch 34\n"
     ]
    },
    {
     "name": "stderr",
     "output_type": "stream",
     "text": [
      "Epoch 4:  33%|███▎      | 36/109 [00:14<00:27,  2.61bundle/s, lr=4.78e-5, train_rmse=0.203]"
     ]
    },
    {
     "name": "stdout",
     "output_type": "stream",
     "text": [
      "  [Cosine restart] LR 4.78e-05 → 4.78e-05 at epoch 4, batch 35\n"
     ]
    },
    {
     "name": "stderr",
     "output_type": "stream",
     "text": [
      "Epoch 4:  34%|███▍      | 37/109 [00:14<00:27,  2.66bundle/s, lr=4.78e-5, train_rmse=0.201]"
     ]
    },
    {
     "name": "stdout",
     "output_type": "stream",
     "text": [
      "  [Cosine restart] LR 4.78e-05 → 4.78e-05 at epoch 4, batch 36\n"
     ]
    },
    {
     "name": "stderr",
     "output_type": "stream",
     "text": [
      "Epoch 4:  35%|███▍      | 38/109 [00:14<00:26,  2.68bundle/s, lr=4.78e-5, train_rmse=0.198]"
     ]
    },
    {
     "name": "stdout",
     "output_type": "stream",
     "text": [
      "  [Cosine restart] LR 4.78e-05 → 4.78e-05 at epoch 4, batch 37\n"
     ]
    },
    {
     "name": "stderr",
     "output_type": "stream",
     "text": [
      "Epoch 4:  36%|███▌      | 39/109 [00:15<00:26,  2.65bundle/s, lr=4.78e-5, train_rmse=0.196]"
     ]
    },
    {
     "name": "stdout",
     "output_type": "stream",
     "text": [
      "  [Cosine restart] LR 4.78e-05 → 4.78e-05 at epoch 4, batch 38\n"
     ]
    },
    {
     "name": "stderr",
     "output_type": "stream",
     "text": [
      "Epoch 4:  37%|███▋      | 40/109 [00:15<00:26,  2.63bundle/s, lr=4.78e-5, train_rmse=0.195]"
     ]
    },
    {
     "name": "stdout",
     "output_type": "stream",
     "text": [
      "  [Cosine restart] LR 4.78e-05 → 4.78e-05 at epoch 4, batch 39\n"
     ]
    },
    {
     "name": "stderr",
     "output_type": "stream",
     "text": [
      "Epoch 4:  38%|███▊      | 41/109 [00:16<00:26,  2.61bundle/s, lr=4.78e-5, train_rmse=0.193]"
     ]
    },
    {
     "name": "stdout",
     "output_type": "stream",
     "text": [
      "  [Cosine restart] LR 4.78e-05 → 4.78e-05 at epoch 4, batch 40\n"
     ]
    },
    {
     "name": "stderr",
     "output_type": "stream",
     "text": [
      "Epoch 4:  39%|███▊      | 42/109 [00:16<00:25,  2.60bundle/s, lr=4.78e-5, train_rmse=0.191]"
     ]
    },
    {
     "name": "stdout",
     "output_type": "stream",
     "text": [
      "  [Cosine restart] LR 4.78e-05 → 4.78e-05 at epoch 4, batch 41\n"
     ]
    },
    {
     "name": "stderr",
     "output_type": "stream",
     "text": [
      "Epoch 4:  39%|███▉      | 43/109 [00:16<00:25,  2.58bundle/s, lr=4.78e-5, train_rmse=0.189]"
     ]
    },
    {
     "name": "stdout",
     "output_type": "stream",
     "text": [
      "  [Cosine restart] LR 4.78e-05 → 4.78e-05 at epoch 4, batch 42\n"
     ]
    },
    {
     "name": "stderr",
     "output_type": "stream",
     "text": [
      "Epoch 4:  40%|████      | 44/109 [00:17<00:25,  2.57bundle/s, lr=4.78e-5, train_rmse=0.188]"
     ]
    },
    {
     "name": "stdout",
     "output_type": "stream",
     "text": [
      "  [Cosine restart] LR 4.78e-05 → 4.78e-05 at epoch 4, batch 43\n"
     ]
    },
    {
     "name": "stderr",
     "output_type": "stream",
     "text": [
      "Epoch 4:  41%|████▏     | 45/109 [00:17<00:24,  2.60bundle/s, lr=4.78e-5, train_rmse=0.187]"
     ]
    },
    {
     "name": "stdout",
     "output_type": "stream",
     "text": [
      "  [Cosine restart] LR 4.78e-05 → 4.78e-05 at epoch 4, batch 44\n"
     ]
    },
    {
     "name": "stderr",
     "output_type": "stream",
     "text": [
      "Epoch 4:  42%|████▏     | 46/109 [00:17<00:24,  2.58bundle/s, lr=4.78e-5, train_rmse=0.185]"
     ]
    },
    {
     "name": "stdout",
     "output_type": "stream",
     "text": [
      "  [Cosine restart] LR 4.78e-05 → 4.78e-05 at epoch 4, batch 45\n"
     ]
    },
    {
     "name": "stderr",
     "output_type": "stream",
     "text": [
      "Epoch 4:  43%|████▎     | 47/109 [00:18<00:23,  2.60bundle/s, lr=4.78e-5, train_rmse=0.184]"
     ]
    },
    {
     "name": "stdout",
     "output_type": "stream",
     "text": [
      "  [Cosine restart] LR 4.78e-05 → 4.78e-05 at epoch 4, batch 46\n"
     ]
    },
    {
     "name": "stderr",
     "output_type": "stream",
     "text": [
      "Epoch 4:  44%|████▍     | 48/109 [00:18<00:23,  2.61bundle/s, lr=4.78e-5, train_rmse=0.183]"
     ]
    },
    {
     "name": "stdout",
     "output_type": "stream",
     "text": [
      "  [Cosine restart] LR 4.78e-05 → 4.78e-05 at epoch 4, batch 47\n"
     ]
    },
    {
     "name": "stderr",
     "output_type": "stream",
     "text": [
      "Epoch 4:  45%|████▍     | 49/109 [00:19<00:23,  2.58bundle/s, lr=4.78e-5, train_rmse=0.183]"
     ]
    },
    {
     "name": "stdout",
     "output_type": "stream",
     "text": [
      "  [Cosine restart] LR 4.78e-05 → 4.78e-05 at epoch 4, batch 48\n"
     ]
    },
    {
     "name": "stderr",
     "output_type": "stream",
     "text": [
      "Epoch 4:  46%|████▌     | 50/109 [00:19<00:22,  2.59bundle/s, lr=4.78e-5, train_rmse=0.182]"
     ]
    },
    {
     "name": "stdout",
     "output_type": "stream",
     "text": [
      "  [Cosine restart] LR 4.78e-05 → 4.78e-05 at epoch 4, batch 49\n"
     ]
    },
    {
     "name": "stderr",
     "output_type": "stream",
     "text": [
      "Epoch 4:  47%|████▋     | 51/109 [00:19<00:22,  2.59bundle/s, lr=4.78e-5, train_rmse=0.182]"
     ]
    },
    {
     "name": "stdout",
     "output_type": "stream",
     "text": [
      "  [Cosine restart] LR 4.78e-05 → 4.78e-05 at epoch 4, batch 50\n"
     ]
    },
    {
     "name": "stderr",
     "output_type": "stream",
     "text": [
      "Epoch 4:  48%|████▊     | 52/109 [00:20<00:22,  2.56bundle/s, lr=4.78e-5, train_rmse=0.181]"
     ]
    },
    {
     "name": "stdout",
     "output_type": "stream",
     "text": [
      "  [Cosine restart] LR 4.78e-05 → 4.78e-05 at epoch 4, batch 51\n"
     ]
    },
    {
     "name": "stderr",
     "output_type": "stream",
     "text": [
      "Epoch 4:  49%|████▊     | 53/109 [00:20<00:22,  2.54bundle/s, lr=4.78e-5, train_rmse=0.18] "
     ]
    },
    {
     "name": "stdout",
     "output_type": "stream",
     "text": [
      "  [Cosine restart] LR 4.78e-05 → 4.78e-05 at epoch 4, batch 52\n"
     ]
    },
    {
     "name": "stderr",
     "output_type": "stream",
     "text": [
      "Epoch 4:  50%|████▉     | 54/109 [00:21<00:21,  2.52bundle/s, lr=4.78e-5, train_rmse=0.18]"
     ]
    },
    {
     "name": "stdout",
     "output_type": "stream",
     "text": [
      "  [Cosine restart] LR 4.78e-05 → 4.78e-05 at epoch 4, batch 53\n"
     ]
    },
    {
     "name": "stderr",
     "output_type": "stream",
     "text": [
      "Epoch 4:  50%|█████     | 55/109 [00:21<00:21,  2.52bundle/s, lr=4.78e-5, train_rmse=0.179]"
     ]
    },
    {
     "name": "stdout",
     "output_type": "stream",
     "text": [
      "  [Cosine restart] LR 4.78e-05 → 4.78e-05 at epoch 4, batch 54\n"
     ]
    },
    {
     "name": "stderr",
     "output_type": "stream",
     "text": [
      "Epoch 4:  51%|█████▏    | 56/109 [00:21<00:21,  2.51bundle/s, lr=4.78e-5, train_rmse=0.178]"
     ]
    },
    {
     "name": "stdout",
     "output_type": "stream",
     "text": [
      "  [Cosine restart] LR 4.78e-05 → 4.78e-05 at epoch 4, batch 55\n"
     ]
    },
    {
     "name": "stderr",
     "output_type": "stream",
     "text": [
      "Epoch 4:  52%|█████▏    | 57/109 [00:22<00:20,  2.48bundle/s, lr=4.78e-5, train_rmse=0.177]"
     ]
    },
    {
     "name": "stdout",
     "output_type": "stream",
     "text": [
      "  [Cosine restart] LR 4.78e-05 → 4.78e-05 at epoch 4, batch 56\n"
     ]
    },
    {
     "name": "stderr",
     "output_type": "stream",
     "text": [
      "Epoch 4:  53%|█████▎    | 58/109 [00:22<00:20,  2.44bundle/s, lr=4.78e-5, train_rmse=0.176]"
     ]
    },
    {
     "name": "stdout",
     "output_type": "stream",
     "text": [
      "  [Cosine restart] LR 4.78e-05 → 4.78e-05 at epoch 4, batch 57\n"
     ]
    },
    {
     "name": "stderr",
     "output_type": "stream",
     "text": [
      "Epoch 4:  54%|█████▍    | 59/109 [00:23<00:20,  2.44bundle/s, lr=4.78e-5, train_rmse=0.177]"
     ]
    },
    {
     "name": "stdout",
     "output_type": "stream",
     "text": [
      "  [Cosine restart] LR 4.78e-05 → 4.78e-05 at epoch 4, batch 58\n"
     ]
    },
    {
     "name": "stderr",
     "output_type": "stream",
     "text": [
      "Epoch 4:  55%|█████▌    | 60/109 [00:23<00:20,  2.33bundle/s, lr=4.78e-5, train_rmse=0.177]"
     ]
    },
    {
     "name": "stdout",
     "output_type": "stream",
     "text": [
      "  [Cosine restart] LR 4.78e-05 → 4.78e-05 at epoch 4, batch 59\n"
     ]
    },
    {
     "name": "stderr",
     "output_type": "stream",
     "text": [
      "Epoch 4:  56%|█████▌    | 61/109 [00:24<00:19,  2.40bundle/s, lr=4.78e-5, train_rmse=0.177]"
     ]
    },
    {
     "name": "stdout",
     "output_type": "stream",
     "text": [
      "  [Cosine restart] LR 4.78e-05 → 4.78e-05 at epoch 4, batch 60\n"
     ]
    },
    {
     "name": "stderr",
     "output_type": "stream",
     "text": [
      "Epoch 4:  57%|█████▋    | 62/109 [00:24<00:19,  2.45bundle/s, lr=4.78e-5, train_rmse=0.177]"
     ]
    },
    {
     "name": "stdout",
     "output_type": "stream",
     "text": [
      "  [Cosine restart] LR 4.78e-05 → 4.78e-05 at epoch 4, batch 61\n"
     ]
    },
    {
     "name": "stderr",
     "output_type": "stream",
     "text": [
      "Epoch 4:  58%|█████▊    | 63/109 [00:24<00:18,  2.46bundle/s, lr=4.78e-5, train_rmse=0.176]"
     ]
    },
    {
     "name": "stdout",
     "output_type": "stream",
     "text": [
      "  [Cosine restart] LR 4.78e-05 → 4.78e-05 at epoch 4, batch 62\n"
     ]
    },
    {
     "name": "stderr",
     "output_type": "stream",
     "text": [
      "Epoch 4:  59%|█████▊    | 64/109 [00:25<00:18,  2.46bundle/s, lr=4.78e-5, train_rmse=0.175]"
     ]
    },
    {
     "name": "stdout",
     "output_type": "stream",
     "text": [
      "  [Cosine restart] LR 4.78e-05 → 4.78e-05 at epoch 4, batch 63\n"
     ]
    },
    {
     "name": "stderr",
     "output_type": "stream",
     "text": [
      "Epoch 4:  60%|█████▉    | 65/109 [00:25<00:17,  2.47bundle/s, lr=4.78e-5, train_rmse=0.175]"
     ]
    },
    {
     "name": "stdout",
     "output_type": "stream",
     "text": [
      "  [Cosine restart] LR 4.78e-05 → 4.78e-05 at epoch 4, batch 64\n"
     ]
    },
    {
     "name": "stderr",
     "output_type": "stream",
     "text": [
      "Epoch 4:  61%|██████    | 66/109 [00:26<00:17,  2.50bundle/s, lr=4.78e-5, train_rmse=0.174]"
     ]
    },
    {
     "name": "stdout",
     "output_type": "stream",
     "text": [
      "  [Cosine restart] LR 4.78e-05 → 4.78e-05 at epoch 4, batch 65\n"
     ]
    },
    {
     "name": "stderr",
     "output_type": "stream",
     "text": [
      "Epoch 4:  61%|██████▏   | 67/109 [00:26<00:16,  2.53bundle/s, lr=4.78e-5, train_rmse=0.173]"
     ]
    },
    {
     "name": "stdout",
     "output_type": "stream",
     "text": [
      "  [Cosine restart] LR 4.78e-05 → 4.78e-05 at epoch 4, batch 66\n"
     ]
    },
    {
     "name": "stderr",
     "output_type": "stream",
     "text": [
      "Epoch 4:  62%|██████▏   | 68/109 [00:26<00:15,  2.56bundle/s, lr=4.78e-5, train_rmse=0.173]"
     ]
    },
    {
     "name": "stdout",
     "output_type": "stream",
     "text": [
      "  [Cosine restart] LR 4.78e-05 → 4.78e-05 at epoch 4, batch 67\n"
     ]
    },
    {
     "name": "stderr",
     "output_type": "stream",
     "text": [
      "Epoch 4:  63%|██████▎   | 69/109 [00:27<00:15,  2.60bundle/s, lr=4.78e-5, train_rmse=0.172]"
     ]
    },
    {
     "name": "stdout",
     "output_type": "stream",
     "text": [
      "  [Cosine restart] LR 4.78e-05 → 4.78e-05 at epoch 4, batch 68\n"
     ]
    },
    {
     "name": "stderr",
     "output_type": "stream",
     "text": [
      "Epoch 4:  64%|██████▍   | 70/109 [00:27<00:15,  2.55bundle/s, lr=4.78e-5, train_rmse=0.171]"
     ]
    },
    {
     "name": "stdout",
     "output_type": "stream",
     "text": [
      "  [Cosine restart] LR 4.78e-05 → 4.78e-05 at epoch 4, batch 69\n"
     ]
    },
    {
     "name": "stderr",
     "output_type": "stream",
     "text": [
      "Epoch 4:  65%|██████▌   | 71/109 [00:27<00:15,  2.51bundle/s, lr=4.78e-5, train_rmse=0.171]"
     ]
    },
    {
     "name": "stdout",
     "output_type": "stream",
     "text": [
      "  [Cosine restart] LR 4.78e-05 → 4.78e-05 at epoch 4, batch 70\n"
     ]
    },
    {
     "name": "stderr",
     "output_type": "stream",
     "text": [
      "Epoch 4:  66%|██████▌   | 72/109 [00:28<00:14,  2.48bundle/s, lr=4.78e-5, train_rmse=0.17] "
     ]
    },
    {
     "name": "stdout",
     "output_type": "stream",
     "text": [
      "  [Cosine restart] LR 4.78e-05 → 4.78e-05 at epoch 4, batch 71\n"
     ]
    },
    {
     "name": "stderr",
     "output_type": "stream",
     "text": [
      "Epoch 4:  67%|██████▋   | 73/109 [00:28<00:14,  2.52bundle/s, lr=4.78e-5, train_rmse=0.169]"
     ]
    },
    {
     "name": "stdout",
     "output_type": "stream",
     "text": [
      "  [Cosine restart] LR 4.78e-05 → 4.78e-05 at epoch 4, batch 72\n"
     ]
    },
    {
     "name": "stderr",
     "output_type": "stream",
     "text": [
      "Epoch 4:  68%|██████▊   | 74/109 [00:29<00:13,  2.55bundle/s, lr=4.78e-5, train_rmse=0.168]"
     ]
    },
    {
     "name": "stdout",
     "output_type": "stream",
     "text": [
      "  [Cosine restart] LR 4.78e-05 → 4.78e-05 at epoch 4, batch 73\n"
     ]
    },
    {
     "name": "stderr",
     "output_type": "stream",
     "text": [
      "Epoch 4:  69%|██████▉   | 75/109 [00:29<00:13,  2.56bundle/s, lr=4.78e-5, train_rmse=0.168]"
     ]
    },
    {
     "name": "stdout",
     "output_type": "stream",
     "text": [
      "  [Cosine restart] LR 4.78e-05 → 4.78e-05 at epoch 4, batch 74\n"
     ]
    },
    {
     "name": "stderr",
     "output_type": "stream",
     "text": [
      "Epoch 4:  70%|██████▉   | 76/109 [00:29<00:12,  2.58bundle/s, lr=4.78e-5, train_rmse=0.168]"
     ]
    },
    {
     "name": "stdout",
     "output_type": "stream",
     "text": [
      "  [Cosine restart] LR 4.78e-05 → 4.78e-05 at epoch 4, batch 75\n"
     ]
    },
    {
     "name": "stderr",
     "output_type": "stream",
     "text": [
      "Epoch 4:  71%|███████   | 77/109 [00:30<00:12,  2.59bundle/s, lr=4.78e-5, train_rmse=0.173]"
     ]
    },
    {
     "name": "stdout",
     "output_type": "stream",
     "text": [
      "  [Cosine restart] LR 4.78e-05 → 4.78e-05 at epoch 4, batch 76\n"
     ]
    },
    {
     "name": "stderr",
     "output_type": "stream",
     "text": [
      "Epoch 4:  72%|███████▏  | 78/109 [00:30<00:11,  2.61bundle/s, lr=4.78e-5, train_rmse=0.177]"
     ]
    },
    {
     "name": "stdout",
     "output_type": "stream",
     "text": [
      "  [Cosine restart] LR 4.78e-05 → 4.78e-05 at epoch 4, batch 77\n"
     ]
    },
    {
     "name": "stderr",
     "output_type": "stream",
     "text": [
      "Epoch 4:  72%|███████▏  | 79/109 [00:31<00:11,  2.65bundle/s, lr=4.78e-5, train_rmse=0.178]"
     ]
    },
    {
     "name": "stdout",
     "output_type": "stream",
     "text": [
      "  [Cosine restart] LR 4.78e-05 → 4.78e-05 at epoch 4, batch 78\n"
     ]
    },
    {
     "name": "stderr",
     "output_type": "stream",
     "text": [
      "Epoch 4:  73%|███████▎  | 80/109 [00:31<00:11,  2.64bundle/s, lr=4.78e-5, train_rmse=0.178]"
     ]
    },
    {
     "name": "stdout",
     "output_type": "stream",
     "text": [
      "  [Cosine restart] LR 4.78e-05 → 4.78e-05 at epoch 4, batch 79\n"
     ]
    },
    {
     "name": "stderr",
     "output_type": "stream",
     "text": [
      "Epoch 4:  74%|███████▍  | 81/109 [00:31<00:10,  2.64bundle/s, lr=4.78e-5, train_rmse=0.178]"
     ]
    },
    {
     "name": "stdout",
     "output_type": "stream",
     "text": [
      "  [Cosine restart] LR 4.78e-05 → 4.78e-05 at epoch 4, batch 80\n"
     ]
    },
    {
     "name": "stderr",
     "output_type": "stream",
     "text": [
      "Epoch 4:  75%|███████▌  | 82/109 [00:32<00:10,  2.63bundle/s, lr=4.78e-5, train_rmse=0.178]"
     ]
    },
    {
     "name": "stdout",
     "output_type": "stream",
     "text": [
      "  [Cosine restart] LR 4.78e-05 → 4.78e-05 at epoch 4, batch 81\n"
     ]
    },
    {
     "name": "stderr",
     "output_type": "stream",
     "text": [
      "Epoch 4:  76%|███████▌  | 83/109 [00:32<00:10,  2.58bundle/s, lr=4.78e-5, train_rmse=0.179]"
     ]
    },
    {
     "name": "stdout",
     "output_type": "stream",
     "text": [
      "  [Cosine restart] LR 4.78e-05 → 4.78e-05 at epoch 4, batch 82\n"
     ]
    },
    {
     "name": "stderr",
     "output_type": "stream",
     "text": [
      "Epoch 4:  77%|███████▋  | 84/109 [00:32<00:09,  2.61bundle/s, lr=4.78e-5, train_rmse=0.179]"
     ]
    },
    {
     "name": "stdout",
     "output_type": "stream",
     "text": [
      "  [Cosine restart] LR 4.78e-05 → 4.78e-05 at epoch 4, batch 83\n"
     ]
    },
    {
     "name": "stderr",
     "output_type": "stream",
     "text": [
      "Epoch 4:  78%|███████▊  | 85/109 [00:33<00:09,  2.62bundle/s, lr=4.78e-5, train_rmse=0.179]"
     ]
    },
    {
     "name": "stdout",
     "output_type": "stream",
     "text": [
      "  [Cosine restart] LR 4.78e-05 → 4.78e-05 at epoch 4, batch 84\n"
     ]
    },
    {
     "name": "stderr",
     "output_type": "stream",
     "text": [
      "Epoch 4:  79%|███████▉  | 86/109 [00:33<00:08,  2.65bundle/s, lr=4.78e-5, train_rmse=0.18] "
     ]
    },
    {
     "name": "stdout",
     "output_type": "stream",
     "text": [
      "  [Cosine restart] LR 4.78e-05 → 4.78e-05 at epoch 4, batch 85\n"
     ]
    },
    {
     "name": "stderr",
     "output_type": "stream",
     "text": [
      "Epoch 4:  80%|███████▉  | 87/109 [00:34<00:08,  2.61bundle/s, lr=4.78e-5, train_rmse=0.18]"
     ]
    },
    {
     "name": "stdout",
     "output_type": "stream",
     "text": [
      "  [Cosine restart] LR 4.78e-05 → 4.78e-05 at epoch 4, batch 86\n"
     ]
    },
    {
     "name": "stderr",
     "output_type": "stream",
     "text": [
      "Epoch 4:  81%|████████  | 88/109 [00:34<00:08,  2.58bundle/s, lr=4.78e-5, train_rmse=0.181]"
     ]
    },
    {
     "name": "stdout",
     "output_type": "stream",
     "text": [
      "  [Cosine restart] LR 4.78e-05 → 4.78e-05 at epoch 4, batch 87\n"
     ]
    },
    {
     "name": "stderr",
     "output_type": "stream",
     "text": [
      "Epoch 4:  82%|████████▏ | 89/109 [00:34<00:08,  2.49bundle/s, lr=4.78e-5, train_rmse=0.181]"
     ]
    },
    {
     "name": "stdout",
     "output_type": "stream",
     "text": [
      "  [Cosine restart] LR 4.78e-05 → 4.78e-05 at epoch 4, batch 88\n"
     ]
    },
    {
     "name": "stderr",
     "output_type": "stream",
     "text": [
      "Epoch 4:  83%|████████▎ | 90/109 [00:35<00:07,  2.52bundle/s, lr=4.78e-5, train_rmse=0.182]"
     ]
    },
    {
     "name": "stdout",
     "output_type": "stream",
     "text": [
      "  [Cosine restart] LR 4.78e-05 → 4.78e-05 at epoch 4, batch 89\n"
     ]
    },
    {
     "name": "stderr",
     "output_type": "stream",
     "text": [
      "Epoch 4:  83%|████████▎ | 91/109 [00:35<00:07,  2.55bundle/s, lr=4.78e-5, train_rmse=0.183]"
     ]
    },
    {
     "name": "stdout",
     "output_type": "stream",
     "text": [
      "  [Cosine restart] LR 4.78e-05 → 4.78e-05 at epoch 4, batch 90\n"
     ]
    },
    {
     "name": "stderr",
     "output_type": "stream",
     "text": [
      "Epoch 4:  84%|████████▍ | 92/109 [00:36<00:06,  2.51bundle/s, lr=4.78e-5, train_rmse=0.184]"
     ]
    },
    {
     "name": "stdout",
     "output_type": "stream",
     "text": [
      "  [Cosine restart] LR 4.78e-05 → 4.78e-05 at epoch 4, batch 91\n"
     ]
    },
    {
     "name": "stderr",
     "output_type": "stream",
     "text": [
      "Epoch 4:  85%|████████▌ | 93/109 [00:36<00:06,  2.43bundle/s, lr=4.78e-5, train_rmse=0.185]"
     ]
    },
    {
     "name": "stdout",
     "output_type": "stream",
     "text": [
      "  [Cosine restart] LR 4.78e-05 → 4.78e-05 at epoch 4, batch 92\n"
     ]
    },
    {
     "name": "stderr",
     "output_type": "stream",
     "text": [
      "Epoch 4:  86%|████████▌ | 94/109 [00:36<00:06,  2.45bundle/s, lr=4.78e-5, train_rmse=0.185]"
     ]
    },
    {
     "name": "stdout",
     "output_type": "stream",
     "text": [
      "  [Cosine restart] LR 4.78e-05 → 4.78e-05 at epoch 4, batch 93\n"
     ]
    },
    {
     "name": "stderr",
     "output_type": "stream",
     "text": [
      "Epoch 4:  87%|████████▋ | 95/109 [00:37<00:05,  2.50bundle/s, lr=4.78e-5, train_rmse=0.185]"
     ]
    },
    {
     "name": "stdout",
     "output_type": "stream",
     "text": [
      "  [Cosine restart] LR 4.78e-05 → 4.78e-05 at epoch 4, batch 94\n"
     ]
    },
    {
     "name": "stderr",
     "output_type": "stream",
     "text": [
      "Epoch 4:  88%|████████▊ | 96/109 [00:37<00:05,  2.54bundle/s, lr=4.78e-5, train_rmse=0.185]"
     ]
    },
    {
     "name": "stdout",
     "output_type": "stream",
     "text": [
      "  [Cosine restart] LR 4.78e-05 → 4.78e-05 at epoch 4, batch 95\n"
     ]
    },
    {
     "name": "stderr",
     "output_type": "stream",
     "text": [
      "Epoch 4:  89%|████████▉ | 97/109 [00:38<00:04,  2.58bundle/s, lr=4.78e-5, train_rmse=0.185]"
     ]
    },
    {
     "name": "stdout",
     "output_type": "stream",
     "text": [
      "  [Cosine restart] LR 4.78e-05 → 4.78e-05 at epoch 4, batch 96\n"
     ]
    },
    {
     "name": "stderr",
     "output_type": "stream",
     "text": [
      "Epoch 4:  90%|████████▉ | 98/109 [00:38<00:04,  2.60bundle/s, lr=4.78e-5, train_rmse=0.185]"
     ]
    },
    {
     "name": "stdout",
     "output_type": "stream",
     "text": [
      "  [Cosine restart] LR 4.78e-05 → 4.78e-05 at epoch 4, batch 97\n"
     ]
    },
    {
     "name": "stderr",
     "output_type": "stream",
     "text": [
      "Epoch 4:  91%|█████████ | 99/109 [00:38<00:03,  2.63bundle/s, lr=4.78e-5, train_rmse=0.186]"
     ]
    },
    {
     "name": "stdout",
     "output_type": "stream",
     "text": [
      "  [Cosine restart] LR 4.78e-05 → 4.78e-05 at epoch 4, batch 98\n"
     ]
    },
    {
     "name": "stderr",
     "output_type": "stream",
     "text": [
      "Epoch 4:  92%|█████████▏| 100/109 [00:39<00:03,  2.65bundle/s, lr=4.78e-5, train_rmse=0.186]"
     ]
    },
    {
     "name": "stdout",
     "output_type": "stream",
     "text": [
      "  [Cosine restart] LR 4.78e-05 → 4.78e-05 at epoch 4, batch 99\n"
     ]
    },
    {
     "name": "stderr",
     "output_type": "stream",
     "text": [
      "Epoch 4:  93%|█████████▎| 101/109 [00:39<00:03,  2.61bundle/s, lr=4.78e-5, train_rmse=0.187]"
     ]
    },
    {
     "name": "stdout",
     "output_type": "stream",
     "text": [
      "  [Cosine restart] LR 4.78e-05 → 4.78e-05 at epoch 4, batch 100\n"
     ]
    },
    {
     "name": "stderr",
     "output_type": "stream",
     "text": [
      "Epoch 4:  94%|█████████▎| 102/109 [00:39<00:02,  2.60bundle/s, lr=4.78e-5, train_rmse=0.187]"
     ]
    },
    {
     "name": "stdout",
     "output_type": "stream",
     "text": [
      "  [Cosine restart] LR 4.78e-05 → 4.78e-05 at epoch 4, batch 101\n",
      "  [Cosine restart] LR 4.78e-05 → 4.78e-05 at epoch 4, batch 102\n"
     ]
    },
    {
     "name": "stderr",
     "output_type": "stream",
     "text": [
      "Epoch 4:  95%|█████████▌| 104/109 [00:40<00:01,  3.92bundle/s, lr=4.78e-5, train_rmse=0.19] "
     ]
    },
    {
     "name": "stdout",
     "output_type": "stream",
     "text": [
      "  [Cosine restart] LR 4.78e-05 → 4.78e-05 at epoch 4, batch 103\n"
     ]
    },
    {
     "name": "stderr",
     "output_type": "stream",
     "text": [
      "Epoch 4:  96%|█████████▋| 105/109 [00:40<00:01,  3.48bundle/s, lr=4.78e-5, train_rmse=0.192]"
     ]
    },
    {
     "name": "stdout",
     "output_type": "stream",
     "text": [
      "  [Cosine restart] LR 4.78e-05 → 4.78e-05 at epoch 4, batch 104\n"
     ]
    },
    {
     "name": "stderr",
     "output_type": "stream",
     "text": [
      "Epoch 4:  97%|█████████▋| 106/109 [00:40<00:00,  3.22bundle/s, lr=4.78e-5, train_rmse=0.194]"
     ]
    },
    {
     "name": "stdout",
     "output_type": "stream",
     "text": [
      "  [Cosine restart] LR 4.78e-05 → 4.78e-05 at epoch 4, batch 105\n"
     ]
    },
    {
     "name": "stderr",
     "output_type": "stream",
     "text": [
      "Epoch 4:  98%|█████████▊| 107/109 [00:41<00:00,  3.04bundle/s, lr=4.78e-5, train_rmse=0.194]"
     ]
    },
    {
     "name": "stdout",
     "output_type": "stream",
     "text": [
      "  [Cosine restart] LR 4.78e-05 → 4.78e-05 at epoch 4, batch 106\n"
     ]
    },
    {
     "name": "stderr",
     "output_type": "stream",
     "text": [
      "Epoch 4:  99%|█████████▉| 108/109 [00:41<00:00,  2.92bundle/s, lr=4.78e-5, train_rmse=0.196]"
     ]
    },
    {
     "name": "stdout",
     "output_type": "stream",
     "text": [
      "  [Cosine restart] LR 4.78e-05 → 4.78e-05 at epoch 4, batch 107\n"
     ]
    },
    {
     "name": "stderr",
     "output_type": "stream",
     "text": [
      "Epoch 4: 100%|██████████| 109/109 [00:42<00:00,  2.59bundle/s, lr=4.78e-5, train_rmse=0.197]"
     ]
    },
    {
     "name": "stdout",
     "output_type": "stream",
     "text": [
      "  [Cosine restart] LR 4.78e-05 → 4.78e-05 at epoch 4, batch 108\n"
     ]
    },
    {
     "name": "stderr",
     "output_type": "stream",
     "text": [
      "\n"
     ]
    },
    {
     "name": "stdout",
     "output_type": "stream",
     "text": [
      "Epoch 004 • train=0.1971 • val=0.2617 • lr=4.78e-05\n"
     ]
    },
    {
     "name": "stderr",
     "output_type": "stream",
     "text": [
      "Epoch 5:   0%|          | 0/109 [00:00<?, ?bundle/s, lr=4.78e-5, train_rmse=0.284]"
     ]
    },
    {
     "name": "stdout",
     "output_type": "stream",
     "text": [
      "  [Cosine restart] LR 4.78e-05 → 4.78e-05 at epoch 5, batch 0\n"
     ]
    },
    {
     "name": "stderr",
     "output_type": "stream",
     "text": [
      "Epoch 5:   2%|▏         | 2/109 [00:00<00:33,  3.22bundle/s, lr=4.78e-5, train_rmse=0.291]"
     ]
    },
    {
     "name": "stdout",
     "output_type": "stream",
     "text": [
      "  [Cosine restart] LR 4.78e-05 → 4.78e-05 at epoch 5, batch 1\n"
     ]
    },
    {
     "name": "stderr",
     "output_type": "stream",
     "text": [
      "Epoch 5:   3%|▎         | 3/109 [00:01<00:35,  3.00bundle/s, lr=4.78e-5, train_rmse=0.296]"
     ]
    },
    {
     "name": "stdout",
     "output_type": "stream",
     "text": [
      "  [Cosine restart] LR 4.78e-05 → 4.78e-05 at epoch 5, batch 2\n"
     ]
    },
    {
     "name": "stderr",
     "output_type": "stream",
     "text": [
      "Epoch 5:   4%|▎         | 4/109 [00:01<00:36,  2.91bundle/s, lr=4.78e-5, train_rmse=0.298]"
     ]
    },
    {
     "name": "stdout",
     "output_type": "stream",
     "text": [
      "  [Cosine restart] LR 4.78e-05 → 4.78e-05 at epoch 5, batch 3\n"
     ]
    },
    {
     "name": "stderr",
     "output_type": "stream",
     "text": [
      "Epoch 5:   5%|▍         | 5/109 [00:02<00:37,  2.80bundle/s, lr=4.78e-5, train_rmse=0.299]"
     ]
    },
    {
     "name": "stdout",
     "output_type": "stream",
     "text": [
      "  [Cosine restart] LR 4.78e-05 → 4.78e-05 at epoch 5, batch 4\n"
     ]
    },
    {
     "name": "stderr",
     "output_type": "stream",
     "text": [
      "Epoch 5:   6%|▌         | 6/109 [00:02<00:37,  2.74bundle/s, lr=4.78e-5, train_rmse=0.301]"
     ]
    },
    {
     "name": "stdout",
     "output_type": "stream",
     "text": [
      "  [Cosine restart] LR 4.78e-05 → 4.78e-05 at epoch 5, batch 5\n"
     ]
    },
    {
     "name": "stderr",
     "output_type": "stream",
     "text": [
      "Epoch 5:   6%|▋         | 7/109 [00:02<00:37,  2.70bundle/s, lr=4.78e-5, train_rmse=0.3]  "
     ]
    },
    {
     "name": "stdout",
     "output_type": "stream",
     "text": [
      "  [Cosine restart] LR 4.78e-05 → 4.78e-05 at epoch 5, batch 6\n"
     ]
    },
    {
     "name": "stderr",
     "output_type": "stream",
     "text": [
      "Epoch 5:   7%|▋         | 8/109 [00:03<00:37,  2.68bundle/s, lr=4.78e-5, train_rmse=0.301]"
     ]
    },
    {
     "name": "stdout",
     "output_type": "stream",
     "text": [
      "  [Cosine restart] LR 4.78e-05 → 4.78e-05 at epoch 5, batch 7\n"
     ]
    },
    {
     "name": "stderr",
     "output_type": "stream",
     "text": [
      "Epoch 5:   8%|▊         | 9/109 [00:03<00:37,  2.70bundle/s, lr=4.78e-5, train_rmse=0.3]  "
     ]
    },
    {
     "name": "stdout",
     "output_type": "stream",
     "text": [
      "  [Cosine restart] LR 4.78e-05 → 4.78e-05 at epoch 5, batch 8\n"
     ]
    },
    {
     "name": "stderr",
     "output_type": "stream",
     "text": [
      "Epoch 5:   9%|▉         | 10/109 [00:03<00:36,  2.71bundle/s, lr=4.78e-5, train_rmse=0.299]"
     ]
    },
    {
     "name": "stdout",
     "output_type": "stream",
     "text": [
      "  [Cosine restart] LR 4.78e-05 → 4.78e-05 at epoch 5, batch 9\n"
     ]
    },
    {
     "name": "stderr",
     "output_type": "stream",
     "text": [
      "Epoch 5:  10%|█         | 11/109 [00:04<00:36,  2.68bundle/s, lr=4.78e-5, train_rmse=0.298]"
     ]
    },
    {
     "name": "stdout",
     "output_type": "stream",
     "text": [
      "  [Cosine restart] LR 4.78e-05 → 4.78e-05 at epoch 5, batch 10\n"
     ]
    },
    {
     "name": "stderr",
     "output_type": "stream",
     "text": [
      "Epoch 5:  11%|█         | 12/109 [00:04<00:36,  2.66bundle/s, lr=4.78e-5, train_rmse=0.295]"
     ]
    },
    {
     "name": "stdout",
     "output_type": "stream",
     "text": [
      "  [Cosine restart] LR 4.78e-05 → 4.78e-05 at epoch 5, batch 11\n"
     ]
    },
    {
     "name": "stderr",
     "output_type": "stream",
     "text": [
      "Epoch 5:  12%|█▏        | 13/109 [00:05<00:36,  2.65bundle/s, lr=4.78e-5, train_rmse=0.293]"
     ]
    },
    {
     "name": "stdout",
     "output_type": "stream",
     "text": [
      "  [Cosine restart] LR 4.78e-05 → 4.78e-05 at epoch 5, batch 12\n"
     ]
    },
    {
     "name": "stderr",
     "output_type": "stream",
     "text": [
      "Epoch 5:  13%|█▎        | 14/109 [00:05<00:36,  2.61bundle/s, lr=4.78e-5, train_rmse=0.291]"
     ]
    },
    {
     "name": "stdout",
     "output_type": "stream",
     "text": [
      "  [Cosine restart] LR 4.78e-05 → 4.78e-05 at epoch 5, batch 13\n"
     ]
    },
    {
     "name": "stderr",
     "output_type": "stream",
     "text": [
      "Epoch 5:  14%|█▍        | 15/109 [00:05<00:35,  2.62bundle/s, lr=4.78e-5, train_rmse=0.288]"
     ]
    },
    {
     "name": "stdout",
     "output_type": "stream",
     "text": [
      "  [Cosine restart] LR 4.78e-05 → 4.78e-05 at epoch 5, batch 14\n"
     ]
    },
    {
     "name": "stderr",
     "output_type": "stream",
     "text": [
      "Epoch 5:  15%|█▍        | 16/109 [00:06<00:35,  2.65bundle/s, lr=4.78e-5, train_rmse=0.285]"
     ]
    },
    {
     "name": "stdout",
     "output_type": "stream",
     "text": [
      "  [Cosine restart] LR 4.78e-05 → 4.78e-05 at epoch 5, batch 15\n"
     ]
    },
    {
     "name": "stderr",
     "output_type": "stream",
     "text": [
      "Epoch 5:  16%|█▌        | 17/109 [00:06<00:34,  2.68bundle/s, lr=4.78e-5, train_rmse=0.281]"
     ]
    },
    {
     "name": "stdout",
     "output_type": "stream",
     "text": [
      "  [Cosine restart] LR 4.78e-05 → 4.78e-05 at epoch 5, batch 16\n"
     ]
    },
    {
     "name": "stderr",
     "output_type": "stream",
     "text": [
      "Epoch 5:  17%|█▋        | 18/109 [00:06<00:34,  2.65bundle/s, lr=4.78e-5, train_rmse=0.278]"
     ]
    },
    {
     "name": "stdout",
     "output_type": "stream",
     "text": [
      "  [Cosine restart] LR 4.78e-05 → 4.78e-05 at epoch 5, batch 17\n"
     ]
    },
    {
     "name": "stderr",
     "output_type": "stream",
     "text": [
      "Epoch 5:  17%|█▋        | 19/109 [00:07<00:34,  2.63bundle/s, lr=4.78e-5, train_rmse=0.274]"
     ]
    },
    {
     "name": "stdout",
     "output_type": "stream",
     "text": [
      "  [Cosine restart] LR 4.78e-05 → 4.78e-05 at epoch 5, batch 18\n"
     ]
    },
    {
     "name": "stderr",
     "output_type": "stream",
     "text": [
      "Epoch 5:  18%|█▊        | 20/109 [00:07<00:33,  2.62bundle/s, lr=4.78e-5, train_rmse=0.27] "
     ]
    },
    {
     "name": "stdout",
     "output_type": "stream",
     "text": [
      "  [Cosine restart] LR 4.78e-05 → 4.78e-05 at epoch 5, batch 19\n"
     ]
    },
    {
     "name": "stderr",
     "output_type": "stream",
     "text": [
      "Epoch 5:  19%|█▉        | 21/109 [00:08<00:33,  2.60bundle/s, lr=4.78e-5, train_rmse=0.267]"
     ]
    },
    {
     "name": "stdout",
     "output_type": "stream",
     "text": [
      "  [Cosine restart] LR 4.78e-05 → 4.78e-05 at epoch 5, batch 20\n"
     ]
    },
    {
     "name": "stderr",
     "output_type": "stream",
     "text": [
      "Epoch 5:  20%|██        | 22/109 [00:08<00:33,  2.60bundle/s, lr=4.78e-5, train_rmse=0.263]"
     ]
    },
    {
     "name": "stdout",
     "output_type": "stream",
     "text": [
      "  [Cosine restart] LR 4.78e-05 → 4.78e-05 at epoch 5, batch 21\n"
     ]
    },
    {
     "name": "stderr",
     "output_type": "stream",
     "text": [
      "Epoch 5:  21%|██        | 23/109 [00:08<00:32,  2.63bundle/s, lr=4.78e-5, train_rmse=0.26] "
     ]
    },
    {
     "name": "stdout",
     "output_type": "stream",
     "text": [
      "  [Cosine restart] LR 4.78e-05 → 4.78e-05 at epoch 5, batch 22\n"
     ]
    },
    {
     "name": "stderr",
     "output_type": "stream",
     "text": [
      "Epoch 5:  22%|██▏       | 24/109 [00:09<00:32,  2.65bundle/s, lr=4.78e-5, train_rmse=0.256]"
     ]
    },
    {
     "name": "stdout",
     "output_type": "stream",
     "text": [
      "  [Cosine restart] LR 4.78e-05 → 4.78e-05 at epoch 5, batch 23\n"
     ]
    },
    {
     "name": "stderr",
     "output_type": "stream",
     "text": [
      "Epoch 5:  23%|██▎       | 25/109 [00:09<00:31,  2.63bundle/s, lr=4.78e-5, train_rmse=0.252]"
     ]
    },
    {
     "name": "stdout",
     "output_type": "stream",
     "text": [
      "  [Cosine restart] LR 4.78e-05 → 4.78e-05 at epoch 5, batch 24\n"
     ]
    },
    {
     "name": "stderr",
     "output_type": "stream",
     "text": [
      "Epoch 5:  24%|██▍       | 26/109 [00:10<00:31,  2.63bundle/s, lr=4.78e-5, train_rmse=0.249]"
     ]
    },
    {
     "name": "stdout",
     "output_type": "stream",
     "text": [
      "  [Cosine restart] LR 4.78e-05 → 4.78e-05 at epoch 5, batch 25\n"
     ]
    },
    {
     "name": "stderr",
     "output_type": "stream",
     "text": [
      "Epoch 5:  25%|██▍       | 27/109 [00:10<00:31,  2.61bundle/s, lr=4.78e-5, train_rmse=0.245]"
     ]
    },
    {
     "name": "stdout",
     "output_type": "stream",
     "text": [
      "  [Cosine restart] LR 4.78e-05 → 4.78e-05 at epoch 5, batch 26\n"
     ]
    },
    {
     "name": "stderr",
     "output_type": "stream",
     "text": [
      "Epoch 5:  26%|██▌       | 28/109 [00:10<00:31,  2.61bundle/s, lr=4.78e-5, train_rmse=0.242]"
     ]
    },
    {
     "name": "stdout",
     "output_type": "stream",
     "text": [
      "  [Cosine restart] LR 4.78e-05 → 4.78e-05 at epoch 5, batch 27\n"
     ]
    },
    {
     "name": "stderr",
     "output_type": "stream",
     "text": [
      "Epoch 5:  27%|██▋       | 29/109 [00:11<00:30,  2.62bundle/s, lr=4.78e-5, train_rmse=0.238]"
     ]
    },
    {
     "name": "stdout",
     "output_type": "stream",
     "text": [
      "  [Cosine restart] LR 4.78e-05 → 4.78e-05 at epoch 5, batch 28\n"
     ]
    },
    {
     "name": "stderr",
     "output_type": "stream",
     "text": [
      "Epoch 5:  28%|██▊       | 30/109 [00:11<00:29,  2.65bundle/s, lr=4.78e-5, train_rmse=0.235]"
     ]
    },
    {
     "name": "stdout",
     "output_type": "stream",
     "text": [
      "  [Cosine restart] LR 4.78e-05 → 4.78e-05 at epoch 5, batch 29\n"
     ]
    },
    {
     "name": "stderr",
     "output_type": "stream",
     "text": [
      "Epoch 5:  28%|██▊       | 31/109 [00:11<00:29,  2.66bundle/s, lr=4.78e-5, train_rmse=0.232]"
     ]
    },
    {
     "name": "stdout",
     "output_type": "stream",
     "text": [
      "  [Cosine restart] LR 4.78e-05 → 4.78e-05 at epoch 5, batch 30\n"
     ]
    },
    {
     "name": "stderr",
     "output_type": "stream",
     "text": [
      "Epoch 5:  29%|██▉       | 32/109 [00:12<00:29,  2.60bundle/s, lr=4.78e-5, train_rmse=0.229]"
     ]
    },
    {
     "name": "stdout",
     "output_type": "stream",
     "text": [
      "  [Cosine restart] LR 4.78e-05 → 4.78e-05 at epoch 5, batch 31\n"
     ]
    },
    {
     "name": "stderr",
     "output_type": "stream",
     "text": [
      "Epoch 5:  30%|███       | 33/109 [00:12<00:29,  2.55bundle/s, lr=4.78e-5, train_rmse=0.226]"
     ]
    },
    {
     "name": "stdout",
     "output_type": "stream",
     "text": [
      "  [Cosine restart] LR 4.78e-05 → 4.78e-05 at epoch 5, batch 32\n"
     ]
    },
    {
     "name": "stderr",
     "output_type": "stream",
     "text": [
      "Epoch 5:  31%|███       | 34/109 [00:13<00:30,  2.49bundle/s, lr=4.78e-5, train_rmse=0.223]"
     ]
    },
    {
     "name": "stdout",
     "output_type": "stream",
     "text": [
      "  [Cosine restart] LR 4.78e-05 → 4.78e-05 at epoch 5, batch 33\n"
     ]
    },
    {
     "name": "stderr",
     "output_type": "stream",
     "text": [
      "Epoch 5:  32%|███▏      | 35/109 [00:13<00:30,  2.46bundle/s, lr=4.78e-5, train_rmse=0.221]"
     ]
    },
    {
     "name": "stdout",
     "output_type": "stream",
     "text": [
      "  [Cosine restart] LR 4.78e-05 → 4.78e-05 at epoch 5, batch 34\n"
     ]
    },
    {
     "name": "stderr",
     "output_type": "stream",
     "text": [
      "Epoch 5:  33%|███▎      | 36/109 [00:13<00:29,  2.49bundle/s, lr=4.78e-5, train_rmse=0.218]"
     ]
    },
    {
     "name": "stdout",
     "output_type": "stream",
     "text": [
      "  [Cosine restart] LR 4.78e-05 → 4.78e-05 at epoch 5, batch 35\n"
     ]
    },
    {
     "name": "stderr",
     "output_type": "stream",
     "text": [
      "Epoch 5:  34%|███▍      | 37/109 [00:14<00:28,  2.50bundle/s, lr=4.78e-5, train_rmse=0.215]"
     ]
    },
    {
     "name": "stdout",
     "output_type": "stream",
     "text": [
      "  [Cosine restart] LR 4.78e-05 → 4.78e-05 at epoch 5, batch 36\n"
     ]
    },
    {
     "name": "stderr",
     "output_type": "stream",
     "text": [
      "Epoch 5:  35%|███▍      | 38/109 [00:14<00:28,  2.54bundle/s, lr=4.78e-5, train_rmse=0.213]"
     ]
    },
    {
     "name": "stdout",
     "output_type": "stream",
     "text": [
      "  [Cosine restart] LR 4.78e-05 → 4.78e-05 at epoch 5, batch 37\n"
     ]
    },
    {
     "name": "stderr",
     "output_type": "stream",
     "text": [
      "Epoch 5:  36%|███▌      | 39/109 [00:15<00:27,  2.56bundle/s, lr=4.78e-5, train_rmse=0.211]"
     ]
    },
    {
     "name": "stdout",
     "output_type": "stream",
     "text": [
      "  [Cosine restart] LR 4.78e-05 → 4.78e-05 at epoch 5, batch 38\n"
     ]
    },
    {
     "name": "stderr",
     "output_type": "stream",
     "text": [
      "Epoch 5:  37%|███▋      | 40/109 [00:15<00:26,  2.58bundle/s, lr=4.78e-5, train_rmse=0.209]"
     ]
    },
    {
     "name": "stdout",
     "output_type": "stream",
     "text": [
      "  [Cosine restart] LR 4.78e-05 → 4.78e-05 at epoch 5, batch 39\n"
     ]
    },
    {
     "name": "stderr",
     "output_type": "stream",
     "text": [
      "Epoch 5:  38%|███▊      | 41/109 [00:15<00:26,  2.61bundle/s, lr=4.78e-5, train_rmse=0.207]"
     ]
    },
    {
     "name": "stdout",
     "output_type": "stream",
     "text": [
      "  [Cosine restart] LR 4.78e-05 → 4.78e-05 at epoch 5, batch 40\n"
     ]
    },
    {
     "name": "stderr",
     "output_type": "stream",
     "text": [
      "Epoch 5:  39%|███▊      | 42/109 [00:16<00:25,  2.64bundle/s, lr=4.78e-5, train_rmse=0.205]"
     ]
    },
    {
     "name": "stdout",
     "output_type": "stream",
     "text": [
      "  [Cosine restart] LR 4.78e-05 → 4.78e-05 at epoch 5, batch 41\n"
     ]
    },
    {
     "name": "stderr",
     "output_type": "stream",
     "text": [
      "Epoch 5:  39%|███▉      | 43/109 [00:16<00:24,  2.67bundle/s, lr=4.78e-5, train_rmse=0.203]"
     ]
    },
    {
     "name": "stdout",
     "output_type": "stream",
     "text": [
      "  [Cosine restart] LR 4.78e-05 → 4.78e-05 at epoch 5, batch 42\n"
     ]
    },
    {
     "name": "stderr",
     "output_type": "stream",
     "text": [
      "Epoch 5:  40%|████      | 44/109 [00:16<00:24,  2.64bundle/s, lr=4.78e-5, train_rmse=0.201]"
     ]
    },
    {
     "name": "stdout",
     "output_type": "stream",
     "text": [
      "  [Cosine restart] LR 4.78e-05 → 4.78e-05 at epoch 5, batch 43\n"
     ]
    },
    {
     "name": "stderr",
     "output_type": "stream",
     "text": [
      "Epoch 5:  41%|████▏     | 45/109 [00:17<00:24,  2.57bundle/s, lr=4.78e-5, train_rmse=0.199]"
     ]
    },
    {
     "name": "stdout",
     "output_type": "stream",
     "text": [
      "  [Cosine restart] LR 4.78e-05 → 4.78e-05 at epoch 5, batch 44\n"
     ]
    },
    {
     "name": "stderr",
     "output_type": "stream",
     "text": [
      "Epoch 5:  42%|████▏     | 46/109 [00:17<00:25,  2.52bundle/s, lr=4.78e-5, train_rmse=0.198]"
     ]
    },
    {
     "name": "stdout",
     "output_type": "stream",
     "text": [
      "  [Cosine restart] LR 4.78e-05 → 4.78e-05 at epoch 5, batch 45\n"
     ]
    },
    {
     "name": "stderr",
     "output_type": "stream",
     "text": [
      "Epoch 5:  43%|████▎     | 47/109 [00:18<00:24,  2.49bundle/s, lr=4.78e-5, train_rmse=0.196]"
     ]
    },
    {
     "name": "stdout",
     "output_type": "stream",
     "text": [
      "  [Cosine restart] LR 4.78e-05 → 4.78e-05 at epoch 5, batch 46\n"
     ]
    },
    {
     "name": "stderr",
     "output_type": "stream",
     "text": [
      "Epoch 5:  44%|████▍     | 48/109 [00:18<00:25,  2.39bundle/s, lr=4.78e-5, train_rmse=0.195]"
     ]
    },
    {
     "name": "stdout",
     "output_type": "stream",
     "text": [
      "  [Cosine restart] LR 4.78e-05 → 4.78e-05 at epoch 5, batch 47\n"
     ]
    },
    {
     "name": "stderr",
     "output_type": "stream",
     "text": [
      "Epoch 5:  45%|████▍     | 49/109 [00:19<00:24,  2.45bundle/s, lr=4.78e-5, train_rmse=0.195]"
     ]
    },
    {
     "name": "stdout",
     "output_type": "stream",
     "text": [
      "  [Cosine restart] LR 4.78e-05 → 4.78e-05 at epoch 5, batch 48\n"
     ]
    },
    {
     "name": "stderr",
     "output_type": "stream",
     "text": [
      "Epoch 5:  46%|████▌     | 50/109 [00:19<00:24,  2.39bundle/s, lr=4.78e-5, train_rmse=0.194]"
     ]
    },
    {
     "name": "stdout",
     "output_type": "stream",
     "text": [
      "  [Cosine restart] LR 4.78e-05 → 4.78e-05 at epoch 5, batch 49\n"
     ]
    },
    {
     "name": "stderr",
     "output_type": "stream",
     "text": [
      "Epoch 5:  47%|████▋     | 51/109 [00:19<00:23,  2.42bundle/s, lr=4.78e-5, train_rmse=0.193]"
     ]
    },
    {
     "name": "stdout",
     "output_type": "stream",
     "text": [
      "  [Cosine restart] LR 4.78e-05 → 4.78e-05 at epoch 5, batch 50\n"
     ]
    },
    {
     "name": "stderr",
     "output_type": "stream",
     "text": [
      "Epoch 5:  48%|████▊     | 52/109 [00:20<00:23,  2.44bundle/s, lr=4.78e-5, train_rmse=0.192]"
     ]
    },
    {
     "name": "stdout",
     "output_type": "stream",
     "text": [
      "  [Cosine restart] LR 4.78e-05 → 4.78e-05 at epoch 5, batch 51\n"
     ]
    },
    {
     "name": "stderr",
     "output_type": "stream",
     "text": [
      "Epoch 5:  49%|████▊     | 53/109 [00:20<00:22,  2.45bundle/s, lr=4.78e-5, train_rmse=0.191]"
     ]
    },
    {
     "name": "stdout",
     "output_type": "stream",
     "text": [
      "  [Cosine restart] LR 4.78e-05 → 4.78e-05 at epoch 5, batch 52\n"
     ]
    },
    {
     "name": "stderr",
     "output_type": "stream",
     "text": [
      "Epoch 5:  50%|████▉     | 54/109 [00:21<00:22,  2.48bundle/s, lr=4.78e-5, train_rmse=0.189]"
     ]
    },
    {
     "name": "stdout",
     "output_type": "stream",
     "text": [
      "  [Cosine restart] LR 4.78e-05 → 4.78e-05 at epoch 5, batch 53\n"
     ]
    },
    {
     "name": "stderr",
     "output_type": "stream",
     "text": [
      "Epoch 5:  50%|█████     | 55/109 [00:21<00:21,  2.48bundle/s, lr=4.78e-5, train_rmse=0.188]"
     ]
    },
    {
     "name": "stdout",
     "output_type": "stream",
     "text": [
      "  [Cosine restart] LR 4.78e-05 → 4.78e-05 at epoch 5, batch 54\n"
     ]
    },
    {
     "name": "stderr",
     "output_type": "stream",
     "text": [
      "Epoch 5:  51%|█████▏    | 56/109 [00:21<00:21,  2.47bundle/s, lr=4.78e-5, train_rmse=0.187]"
     ]
    },
    {
     "name": "stdout",
     "output_type": "stream",
     "text": [
      "  [Cosine restart] LR 4.78e-05 → 4.78e-05 at epoch 5, batch 55\n"
     ]
    },
    {
     "name": "stderr",
     "output_type": "stream",
     "text": [
      "Epoch 5:  52%|█████▏    | 57/109 [00:22<00:22,  2.34bundle/s, lr=4.78e-5, train_rmse=0.186]"
     ]
    },
    {
     "name": "stdout",
     "output_type": "stream",
     "text": [
      "  [Cosine restart] LR 4.78e-05 → 4.78e-05 at epoch 5, batch 56\n"
     ]
    },
    {
     "name": "stderr",
     "output_type": "stream",
     "text": [
      "Epoch 5:  53%|█████▎    | 58/109 [00:22<00:21,  2.32bundle/s, lr=4.78e-5, train_rmse=0.185]"
     ]
    },
    {
     "name": "stdout",
     "output_type": "stream",
     "text": [
      "  [Cosine restart] LR 4.78e-05 → 4.78e-05 at epoch 5, batch 57\n"
     ]
    },
    {
     "name": "stderr",
     "output_type": "stream",
     "text": [
      "Epoch 5:  54%|█████▍    | 59/109 [00:23<00:22,  2.25bundle/s, lr=4.78e-5, train_rmse=0.186]"
     ]
    },
    {
     "name": "stdout",
     "output_type": "stream",
     "text": [
      "  [Cosine restart] LR 4.78e-05 → 4.78e-05 at epoch 5, batch 58\n"
     ]
    },
    {
     "name": "stderr",
     "output_type": "stream",
     "text": [
      "Epoch 5:  55%|█████▌    | 60/109 [00:23<00:21,  2.33bundle/s, lr=4.78e-5, train_rmse=0.185]"
     ]
    },
    {
     "name": "stdout",
     "output_type": "stream",
     "text": [
      "  [Cosine restart] LR 4.78e-05 → 4.78e-05 at epoch 5, batch 59\n"
     ]
    },
    {
     "name": "stderr",
     "output_type": "stream",
     "text": [
      "Epoch 5:  56%|█████▌    | 61/109 [00:24<00:20,  2.39bundle/s, lr=4.78e-5, train_rmse=0.185]"
     ]
    },
    {
     "name": "stdout",
     "output_type": "stream",
     "text": [
      "  [Cosine restart] LR 4.78e-05 → 4.78e-05 at epoch 5, batch 60\n"
     ]
    },
    {
     "name": "stderr",
     "output_type": "stream",
     "text": [
      "Epoch 5:  57%|█████▋    | 62/109 [00:24<00:19,  2.46bundle/s, lr=4.78e-5, train_rmse=0.185]"
     ]
    },
    {
     "name": "stdout",
     "output_type": "stream",
     "text": [
      "  [Cosine restart] LR 4.78e-05 → 4.78e-05 at epoch 5, batch 61\n"
     ]
    },
    {
     "name": "stderr",
     "output_type": "stream",
     "text": [
      "Epoch 5:  58%|█████▊    | 63/109 [00:24<00:18,  2.51bundle/s, lr=4.78e-5, train_rmse=0.184]"
     ]
    },
    {
     "name": "stdout",
     "output_type": "stream",
     "text": [
      "  [Cosine restart] LR 4.78e-05 → 4.78e-05 at epoch 5, batch 62\n"
     ]
    },
    {
     "name": "stderr",
     "output_type": "stream",
     "text": [
      "Epoch 5:  59%|█████▊    | 64/109 [00:25<00:17,  2.56bundle/s, lr=4.78e-5, train_rmse=0.183]"
     ]
    },
    {
     "name": "stdout",
     "output_type": "stream",
     "text": [
      "  [Cosine restart] LR 4.78e-05 → 4.78e-05 at epoch 5, batch 63\n"
     ]
    },
    {
     "name": "stderr",
     "output_type": "stream",
     "text": [
      "Epoch 5:  60%|█████▉    | 65/109 [00:25<00:16,  2.60bundle/s, lr=4.78e-5, train_rmse=0.182]"
     ]
    },
    {
     "name": "stdout",
     "output_type": "stream",
     "text": [
      "  [Cosine restart] LR 4.78e-05 → 4.78e-05 at epoch 5, batch 64\n"
     ]
    },
    {
     "name": "stderr",
     "output_type": "stream",
     "text": [
      "Epoch 5:  61%|██████    | 66/109 [00:26<00:17,  2.39bundle/s, lr=4.78e-5, train_rmse=0.181]"
     ]
    },
    {
     "name": "stdout",
     "output_type": "stream",
     "text": [
      "  [Cosine restart] LR 4.78e-05 → 4.78e-05 at epoch 5, batch 65\n"
     ]
    },
    {
     "name": "stderr",
     "output_type": "stream",
     "text": [
      "Epoch 5:  61%|██████▏   | 67/109 [00:26<00:17,  2.36bundle/s, lr=4.78e-5, train_rmse=0.181]"
     ]
    },
    {
     "name": "stdout",
     "output_type": "stream",
     "text": [
      "  [Cosine restart] LR 4.78e-05 → 4.78e-05 at epoch 5, batch 66\n"
     ]
    },
    {
     "name": "stderr",
     "output_type": "stream",
     "text": [
      "Epoch 5:  62%|██████▏   | 68/109 [00:27<00:17,  2.30bundle/s, lr=4.78e-5, train_rmse=0.18] "
     ]
    },
    {
     "name": "stdout",
     "output_type": "stream",
     "text": [
      "  [Cosine restart] LR 4.78e-05 → 4.78e-05 at epoch 5, batch 67\n",
      "  [Cosine restart] LR 4.78e-05 → 4.78e-05 at epoch 5, batch 68\n"
     ]
    },
    {
     "name": "stderr",
     "output_type": "stream",
     "text": [
      "Epoch 5:  64%|██████▍   | 70/109 [00:27<00:11,  3.37bundle/s, lr=4.78e-5, train_rmse=0.178]"
     ]
    },
    {
     "name": "stdout",
     "output_type": "stream",
     "text": [
      "  [Cosine restart] LR 4.78e-05 → 4.78e-05 at epoch 5, batch 69\n"
     ]
    },
    {
     "name": "stderr",
     "output_type": "stream",
     "text": [
      "Epoch 5:  65%|██████▌   | 71/109 [00:27<00:12,  3.06bundle/s, lr=4.78e-5, train_rmse=0.177]"
     ]
    },
    {
     "name": "stdout",
     "output_type": "stream",
     "text": [
      "  [Cosine restart] LR 4.78e-05 → 4.78e-05 at epoch 5, batch 70\n"
     ]
    },
    {
     "name": "stderr",
     "output_type": "stream",
     "text": [
      "Epoch 5:  66%|██████▌   | 72/109 [00:28<00:13,  2.80bundle/s, lr=4.78e-5, train_rmse=0.176]"
     ]
    },
    {
     "name": "stdout",
     "output_type": "stream",
     "text": [
      "  [Cosine restart] LR 4.78e-05 → 4.78e-05 at epoch 5, batch 71\n"
     ]
    },
    {
     "name": "stderr",
     "output_type": "stream",
     "text": [
      "Epoch 5:  67%|██████▋   | 73/109 [00:28<00:13,  2.61bundle/s, lr=4.78e-5, train_rmse=0.176]"
     ]
    },
    {
     "name": "stdout",
     "output_type": "stream",
     "text": [
      "  [Cosine restart] LR 4.78e-05 → 4.78e-05 at epoch 5, batch 72\n"
     ]
    },
    {
     "name": "stderr",
     "output_type": "stream",
     "text": [
      "Epoch 5:  68%|██████▊   | 74/109 [00:29<00:13,  2.51bundle/s, lr=4.78e-5, train_rmse=0.175]"
     ]
    },
    {
     "name": "stdout",
     "output_type": "stream",
     "text": [
      "  [Cosine restart] LR 4.78e-05 → 4.78e-05 at epoch 5, batch 73\n"
     ]
    },
    {
     "name": "stderr",
     "output_type": "stream",
     "text": [
      "Epoch 5:  69%|██████▉   | 75/109 [00:29<00:13,  2.45bundle/s, lr=4.78e-5, train_rmse=0.174]"
     ]
    },
    {
     "name": "stdout",
     "output_type": "stream",
     "text": [
      "  [Cosine restart] LR 4.78e-05 → 4.78e-05 at epoch 5, batch 74\n"
     ]
    },
    {
     "name": "stderr",
     "output_type": "stream",
     "text": [
      "Epoch 5:  70%|██████▉   | 76/109 [00:29<00:13,  2.46bundle/s, lr=4.78e-5, train_rmse=0.174]"
     ]
    },
    {
     "name": "stdout",
     "output_type": "stream",
     "text": [
      "  [Cosine restart] LR 4.78e-05 → 4.78e-05 at epoch 5, batch 75\n"
     ]
    },
    {
     "name": "stderr",
     "output_type": "stream",
     "text": [
      "Epoch 5:  71%|███████   | 77/109 [00:30<00:12,  2.48bundle/s, lr=4.78e-5, train_rmse=0.178]"
     ]
    },
    {
     "name": "stdout",
     "output_type": "stream",
     "text": [
      "  [Cosine restart] LR 4.78e-05 → 4.78e-05 at epoch 5, batch 76\n"
     ]
    },
    {
     "name": "stderr",
     "output_type": "stream",
     "text": [
      "Epoch 5:  72%|███████▏  | 78/109 [00:30<00:12,  2.51bundle/s, lr=4.78e-5, train_rmse=0.183]"
     ]
    },
    {
     "name": "stdout",
     "output_type": "stream",
     "text": [
      "  [Cosine restart] LR 4.78e-05 → 4.78e-05 at epoch 5, batch 77\n"
     ]
    },
    {
     "name": "stderr",
     "output_type": "stream",
     "text": [
      "Epoch 5:  72%|███████▏  | 79/109 [00:31<00:12,  2.50bundle/s, lr=4.78e-5, train_rmse=0.184]"
     ]
    },
    {
     "name": "stdout",
     "output_type": "stream",
     "text": [
      "  [Cosine restart] LR 4.78e-05 → 4.78e-05 at epoch 5, batch 78\n"
     ]
    },
    {
     "name": "stderr",
     "output_type": "stream",
     "text": [
      "Epoch 5:  73%|███████▎  | 80/109 [00:31<00:11,  2.49bundle/s, lr=4.78e-5, train_rmse=0.184]"
     ]
    },
    {
     "name": "stdout",
     "output_type": "stream",
     "text": [
      "  [Cosine restart] LR 4.78e-05 → 4.78e-05 at epoch 5, batch 79\n"
     ]
    },
    {
     "name": "stderr",
     "output_type": "stream",
     "text": [
      "Epoch 5:  74%|███████▍  | 81/109 [00:31<00:11,  2.50bundle/s, lr=4.78e-5, train_rmse=0.184]"
     ]
    },
    {
     "name": "stdout",
     "output_type": "stream",
     "text": [
      "  [Cosine restart] LR 4.78e-05 → 4.78e-05 at epoch 5, batch 80\n"
     ]
    },
    {
     "name": "stderr",
     "output_type": "stream",
     "text": [
      "Epoch 5:  75%|███████▌  | 82/109 [00:32<00:10,  2.50bundle/s, lr=4.78e-5, train_rmse=0.184]"
     ]
    },
    {
     "name": "stdout",
     "output_type": "stream",
     "text": [
      "  [Cosine restart] LR 4.78e-05 → 4.78e-05 at epoch 5, batch 81\n"
     ]
    },
    {
     "name": "stderr",
     "output_type": "stream",
     "text": [
      "Epoch 5:  76%|███████▌  | 83/109 [00:32<00:10,  2.53bundle/s, lr=4.78e-5, train_rmse=0.184]"
     ]
    },
    {
     "name": "stdout",
     "output_type": "stream",
     "text": [
      "  [Cosine restart] LR 4.78e-05 → 4.78e-05 at epoch 5, batch 82\n"
     ]
    },
    {
     "name": "stderr",
     "output_type": "stream",
     "text": [
      "Epoch 5:  77%|███████▋  | 84/109 [00:33<00:09,  2.55bundle/s, lr=4.78e-5, train_rmse=0.184]"
     ]
    },
    {
     "name": "stdout",
     "output_type": "stream",
     "text": [
      "  [Cosine restart] LR 4.78e-05 → 4.78e-05 at epoch 5, batch 83\n"
     ]
    },
    {
     "name": "stderr",
     "output_type": "stream",
     "text": [
      "Epoch 5:  78%|███████▊  | 85/109 [00:33<00:09,  2.60bundle/s, lr=4.78e-5, train_rmse=0.184]"
     ]
    },
    {
     "name": "stdout",
     "output_type": "stream",
     "text": [
      "  [Cosine restart] LR 4.78e-05 → 4.78e-05 at epoch 5, batch 84\n"
     ]
    },
    {
     "name": "stderr",
     "output_type": "stream",
     "text": [
      "Epoch 5:  79%|███████▉  | 86/109 [00:33<00:08,  2.63bundle/s, lr=4.78e-5, train_rmse=0.185]"
     ]
    },
    {
     "name": "stdout",
     "output_type": "stream",
     "text": [
      "  [Cosine restart] LR 4.78e-05 → 4.78e-05 at epoch 5, batch 85\n"
     ]
    },
    {
     "name": "stderr",
     "output_type": "stream",
     "text": [
      "Epoch 5:  80%|███████▉  | 87/109 [00:34<00:09,  2.44bundle/s, lr=4.78e-5, train_rmse=0.185]"
     ]
    },
    {
     "name": "stdout",
     "output_type": "stream",
     "text": [
      "  [Cosine restart] LR 4.78e-05 → 4.78e-05 at epoch 5, batch 86\n"
     ]
    },
    {
     "name": "stderr",
     "output_type": "stream",
     "text": [
      "Epoch 5:  81%|████████  | 88/109 [00:34<00:08,  2.50bundle/s, lr=4.78e-5, train_rmse=0.186]"
     ]
    },
    {
     "name": "stdout",
     "output_type": "stream",
     "text": [
      "  [Cosine restart] LR 4.78e-05 → 4.78e-05 at epoch 5, batch 87\n"
     ]
    },
    {
     "name": "stderr",
     "output_type": "stream",
     "text": [
      "Epoch 5:  82%|████████▏ | 89/109 [00:35<00:08,  2.48bundle/s, lr=4.78e-5, train_rmse=0.185]"
     ]
    },
    {
     "name": "stdout",
     "output_type": "stream",
     "text": [
      "  [Cosine restart] LR 4.78e-05 → 4.78e-05 at epoch 5, batch 88\n"
     ]
    },
    {
     "name": "stderr",
     "output_type": "stream",
     "text": [
      "Epoch 5:  83%|████████▎ | 90/109 [00:35<00:07,  2.45bundle/s, lr=4.78e-5, train_rmse=0.186]"
     ]
    },
    {
     "name": "stdout",
     "output_type": "stream",
     "text": [
      "  [Cosine restart] LR 4.78e-05 → 4.78e-05 at epoch 5, batch 89\n"
     ]
    },
    {
     "name": "stderr",
     "output_type": "stream",
     "text": [
      "Epoch 5:  83%|████████▎ | 91/109 [00:35<00:07,  2.45bundle/s, lr=4.78e-5, train_rmse=0.187]"
     ]
    },
    {
     "name": "stdout",
     "output_type": "stream",
     "text": [
      "  [Cosine restart] LR 4.78e-05 → 4.78e-05 at epoch 5, batch 90\n"
     ]
    },
    {
     "name": "stderr",
     "output_type": "stream",
     "text": [
      "Epoch 5:  84%|████████▍ | 92/109 [00:36<00:06,  2.47bundle/s, lr=4.78e-5, train_rmse=0.189]"
     ]
    },
    {
     "name": "stdout",
     "output_type": "stream",
     "text": [
      "  [Cosine restart] LR 4.78e-05 → 4.78e-05 at epoch 5, batch 91\n"
     ]
    },
    {
     "name": "stderr",
     "output_type": "stream",
     "text": [
      "Epoch 5:  85%|████████▌ | 93/109 [00:36<00:06,  2.49bundle/s, lr=4.78e-5, train_rmse=0.189]"
     ]
    },
    {
     "name": "stdout",
     "output_type": "stream",
     "text": [
      "  [Cosine restart] LR 4.78e-05 → 4.78e-05 at epoch 5, batch 92\n"
     ]
    },
    {
     "name": "stderr",
     "output_type": "stream",
     "text": [
      "Epoch 5:  86%|████████▌ | 94/109 [00:37<00:06,  2.47bundle/s, lr=4.78e-5, train_rmse=0.19] "
     ]
    },
    {
     "name": "stdout",
     "output_type": "stream",
     "text": [
      "  [Cosine restart] LR 4.78e-05 → 4.78e-05 at epoch 5, batch 93\n"
     ]
    },
    {
     "name": "stderr",
     "output_type": "stream",
     "text": [
      "Epoch 5:  87%|████████▋ | 95/109 [00:37<00:05,  2.46bundle/s, lr=4.78e-5, train_rmse=0.19]"
     ]
    },
    {
     "name": "stdout",
     "output_type": "stream",
     "text": [
      "  [Cosine restart] LR 4.78e-05 → 4.78e-05 at epoch 5, batch 94\n"
     ]
    },
    {
     "name": "stderr",
     "output_type": "stream",
     "text": [
      "Exception ignored in: <bound method IPythonKernel._clean_thread_parent_frames of <ipykernel.ipkernel.IPythonKernel object at 0x75804b211550>>\n",
      "Traceback (most recent call last):\n",
      "  File \"/usr/local/lib/python3.12/dist-packages/ipykernel/ipkernel.py\", line 775, in _clean_thread_parent_frames\n",
      "    def _clean_thread_parent_frames(\n",
      "\n",
      "KeyboardInterrupt: \n",
      "Epoch 5:  88%|████████▊ | 96/109 [00:37<00:05,  2.49bundle/s, lr=4.78e-5, train_rmse=0.19]"
     ]
    },
    {
     "name": "stdout",
     "output_type": "stream",
     "text": [
      "  [Cosine restart] LR 4.78e-05 → 4.78e-05 at epoch 5, batch 95\n"
     ]
    },
    {
     "name": "stderr",
     "output_type": "stream",
     "text": [
      "Epoch 5:  89%|████████▉ | 97/109 [00:38<00:04,  2.46bundle/s, lr=4.78e-5, train_rmse=0.189]"
     ]
    },
    {
     "name": "stdout",
     "output_type": "stream",
     "text": [
      "  [Cosine restart] LR 4.78e-05 → 4.78e-05 at epoch 5, batch 96\n"
     ]
    },
    {
     "name": "stderr",
     "output_type": "stream",
     "text": [
      "Epoch 5:  90%|████████▉ | 98/109 [00:38<00:04,  2.40bundle/s, lr=4.78e-5, train_rmse=0.19] "
     ]
    },
    {
     "name": "stdout",
     "output_type": "stream",
     "text": [
      "  [Cosine restart] LR 4.78e-05 → 4.78e-05 at epoch 5, batch 97\n"
     ]
    },
    {
     "name": "stderr",
     "output_type": "stream",
     "text": [
      "Epoch 5:  90%|████████▉ | 98/109 [00:43<00:04,  2.24bundle/s, lr=4.78e-5, train_rmse=0.19]\n",
      "[W 2025-07-21 17:42:49,594] Trial 1 failed with parameters: {'SHORT_UNITS': 68, 'LONG_UNITS': 208, 'DROPOUT_SHORT': 0.4498403183751879, 'DROPOUT_LONG': 0.46837399908376137, 'ATT_HEADS': 1, 'ATT_DROPOUT': 0.1232157583113821, 'INITIAL_LR': 4.782493459482901e-05, 'WEIGHT_DECAY': 0.00015631558026084732, 'CLIPNORM': 0.8311068786612489, 'LR_EPOCHS_WARMUP': 8, 'EARLY_STOP_PATIENCE': 17} because of the following error: RuntimeError('DataLoader worker (pid(s) 7243) exited unexpectedly').\n",
      "Traceback (most recent call last):\n",
      "  File \"/usr/local/lib/python3.12/dist-packages/torch/utils/data/dataloader.py\", line 1256, in _try_get_data\n",
      "    data = self._data_queue.get(timeout=timeout)\n",
      "           ^^^^^^^^^^^^^^^^^^^^^^^^^^^^^^^^^^^^^\n",
      "  File \"/usr/lib/python3.12/queue.py\", line 179, in get\n",
      "    raise Empty\n",
      "_queue.Empty\n",
      "\n",
      "The above exception was the direct cause of the following exception:\n",
      "\n",
      "Traceback (most recent call last):\n",
      "  File \"/usr/local/lib/python3.12/dist-packages/optuna/study/_optimize.py\", line 201, in _run_trial\n",
      "    value_or_values = func(trial)\n",
      "                      ^^^^^^^^^^^\n",
      "  File \"/tmp/ipykernel_7114/3761965960.py\", line 49, in objective_train\n",
      "    best_rmse = models.custom_stateful_training_loop(\n",
      "                ^^^^^^^^^^^^^^^^^^^^^^^^^^^^^^^^^^^^^\n",
      "  File \"/workspace/my models/Trading/0.Stock Analysis/libs/models.py\", line 839, in custom_stateful_training_loop\n",
      "    for batch_idx, (xb_days, yb_days, wd_days) in pbar:\n",
      "  File \"/usr/local/lib/python3.12/dist-packages/tqdm/std.py\", line 1181, in __iter__\n",
      "    for obj in iterable:\n",
      "  File \"/usr/local/lib/python3.12/dist-packages/torch/utils/data/dataloader.py\", line 708, in __next__\n",
      "    data = self._next_data()\n",
      "           ^^^^^^^^^^^^^^^^^\n",
      "  File \"/usr/local/lib/python3.12/dist-packages/torch/utils/data/dataloader.py\", line 1463, in _next_data\n",
      "    idx, data = self._get_data()\n",
      "                ^^^^^^^^^^^^^^^^\n",
      "  File \"/usr/local/lib/python3.12/dist-packages/torch/utils/data/dataloader.py\", line 1415, in _get_data\n",
      "    success, data = self._try_get_data()\n",
      "                    ^^^^^^^^^^^^^^^^^^^^\n",
      "  File \"/usr/local/lib/python3.12/dist-packages/torch/utils/data/dataloader.py\", line 1269, in _try_get_data\n",
      "    raise RuntimeError(\n",
      "RuntimeError: DataLoader worker (pid(s) 7243) exited unexpectedly\n",
      "[W 2025-07-21 17:42:49,631] Trial 1 failed with value None.\n"
     ]
    },
    {
     "ename": "RuntimeError",
     "evalue": "DataLoader worker (pid(s) 7243) exited unexpectedly",
     "output_type": "error",
     "traceback": [
      "\u001b[0;31m---------------------------------------------------------------------------\u001b[0m",
      "\u001b[0;31mEmpty\u001b[0m                                     Traceback (most recent call last)",
      "File \u001b[0;32m/usr/local/lib/python3.12/dist-packages/torch/utils/data/dataloader.py:1256\u001b[0m, in \u001b[0;36m_MultiProcessingDataLoaderIter._try_get_data\u001b[0;34m(self, timeout)\u001b[0m\n\u001b[1;32m   1255\u001b[0m \u001b[38;5;28;01mtry\u001b[39;00m:\n\u001b[0;32m-> 1256\u001b[0m     data \u001b[38;5;241m=\u001b[39m \u001b[38;5;28;43mself\u001b[39;49m\u001b[38;5;241;43m.\u001b[39;49m\u001b[43m_data_queue\u001b[49m\u001b[38;5;241;43m.\u001b[39;49m\u001b[43mget\u001b[49m\u001b[43m(\u001b[49m\u001b[43mtimeout\u001b[49m\u001b[38;5;241;43m=\u001b[39;49m\u001b[43mtimeout\u001b[49m\u001b[43m)\u001b[49m\n\u001b[1;32m   1257\u001b[0m     \u001b[38;5;28;01mreturn\u001b[39;00m (\u001b[38;5;28;01mTrue\u001b[39;00m, data)\n",
      "File \u001b[0;32m/usr/lib/python3.12/queue.py:179\u001b[0m, in \u001b[0;36mQueue.get\u001b[0;34m(self, block, timeout)\u001b[0m\n\u001b[1;32m    178\u001b[0m \u001b[38;5;28;01mif\u001b[39;00m remaining \u001b[38;5;241m<\u001b[39m\u001b[38;5;241m=\u001b[39m \u001b[38;5;241m0.0\u001b[39m:\n\u001b[0;32m--> 179\u001b[0m     \u001b[38;5;28;01mraise\u001b[39;00m Empty\n\u001b[1;32m    180\u001b[0m \u001b[38;5;28mself\u001b[39m\u001b[38;5;241m.\u001b[39mnot_empty\u001b[38;5;241m.\u001b[39mwait(remaining)\n",
      "\u001b[0;31mEmpty\u001b[0m: ",
      "\nThe above exception was the direct cause of the following exception:\n",
      "\u001b[0;31mRuntimeError\u001b[0m                              Traceback (most recent call last)",
      "Cell \u001b[0;32mIn[17], line 9\u001b[0m\n\u001b[1;32m      1\u001b[0m \u001b[38;5;66;03m# ──────────────────────────────────────────────────────────────────────────────\u001b[39;00m\n\u001b[1;32m      2\u001b[0m \u001b[38;5;66;03m#  Create Optuna study and run optimization\u001b[39;00m\n\u001b[1;32m      3\u001b[0m \u001b[38;5;66;03m# ──────────────────────────────────────────────────────────────────────────────\u001b[39;00m\n\u001b[1;32m      4\u001b[0m study \u001b[38;5;241m=\u001b[39m optuna\u001b[38;5;241m.\u001b[39mcreate_study(\n\u001b[1;32m      5\u001b[0m     direction\u001b[38;5;241m=\u001b[39m\u001b[38;5;124m\"\u001b[39m\u001b[38;5;124mminimize\u001b[39m\u001b[38;5;124m\"\u001b[39m,\n\u001b[1;32m      6\u001b[0m     pruner   \u001b[38;5;241m=\u001b[39m MedianPruner(n_startup_trials\u001b[38;5;241m=\u001b[39m\u001b[38;5;241m5\u001b[39m, n_warmup_steps\u001b[38;5;241m=\u001b[39m\u001b[38;5;241m2\u001b[39m),\n\u001b[1;32m      7\u001b[0m )\n\u001b[0;32m----> 9\u001b[0m \u001b[43mstudy\u001b[49m\u001b[38;5;241;43m.\u001b[39;49m\u001b[43moptimize\u001b[49m\u001b[43m(\u001b[49m\n\u001b[1;32m     10\u001b[0m \u001b[43m    \u001b[49m\u001b[43mobjective_train\u001b[49m\u001b[43m,\u001b[49m\n\u001b[1;32m     11\u001b[0m \u001b[43m    \u001b[49m\u001b[43mn_trials\u001b[49m\u001b[43m \u001b[49m\u001b[38;5;241;43m=\u001b[39;49m\u001b[43m \u001b[49m\u001b[38;5;241;43m50\u001b[39;49m\u001b[43m,\u001b[49m\n\u001b[1;32m     12\u001b[0m \u001b[43m    \u001b[49m\u001b[43mn_jobs\u001b[49m\u001b[43m   \u001b[49m\u001b[38;5;241;43m=\u001b[39;49m\u001b[43m \u001b[49m\u001b[38;5;241;43m1\u001b[39;49m\u001b[43m,\u001b[49m\u001b[43m               \u001b[49m\u001b[38;5;66;43;03m# to run trials concurrently\u001b[39;49;00m\n\u001b[1;32m     13\u001b[0m \u001b[43m    \u001b[49m\u001b[43mcallbacks\u001b[49m\u001b[43m \u001b[49m\u001b[38;5;241;43m=\u001b[39;49m\u001b[43m[\u001b[49m\u001b[43mplots\u001b[49m\u001b[38;5;241;43m.\u001b[39;49m\u001b[43mlive_plot_callback\u001b[49m\u001b[43m]\u001b[49m\n\u001b[1;32m     14\u001b[0m \u001b[43m)\u001b[49m\n\u001b[1;32m     16\u001b[0m \u001b[38;5;66;03m# ──────────────────────────────────────────────────────────────────────────────\u001b[39;00m\n\u001b[1;32m     17\u001b[0m \u001b[38;5;66;03m# Print out the best hyperparameters & result\u001b[39;00m\n\u001b[1;32m     18\u001b[0m \u001b[38;5;66;03m# ──────────────────────────────────────────────────────────────────────────────\u001b[39;00m\n\u001b[1;32m     19\u001b[0m \u001b[38;5;28mprint\u001b[39m(\u001b[38;5;124m\"\u001b[39m\u001b[38;5;124mBest hyperparameters:\u001b[39m\u001b[38;5;124m\"\u001b[39m, study\u001b[38;5;241m.\u001b[39mbest_params)\n",
      "File \u001b[0;32m/usr/local/lib/python3.12/dist-packages/optuna/study/study.py:489\u001b[0m, in \u001b[0;36mStudy.optimize\u001b[0;34m(self, func, n_trials, timeout, n_jobs, catch, callbacks, gc_after_trial, show_progress_bar)\u001b[0m\n\u001b[1;32m    387\u001b[0m \u001b[38;5;28;01mdef\u001b[39;00m\u001b[38;5;250m \u001b[39m\u001b[38;5;21moptimize\u001b[39m(\n\u001b[1;32m    388\u001b[0m     \u001b[38;5;28mself\u001b[39m,\n\u001b[1;32m    389\u001b[0m     func: ObjectiveFuncType,\n\u001b[0;32m   (...)\u001b[0m\n\u001b[1;32m    396\u001b[0m     show_progress_bar: \u001b[38;5;28mbool\u001b[39m \u001b[38;5;241m=\u001b[39m \u001b[38;5;28;01mFalse\u001b[39;00m,\n\u001b[1;32m    397\u001b[0m ) \u001b[38;5;241m-\u001b[39m\u001b[38;5;241m>\u001b[39m \u001b[38;5;28;01mNone\u001b[39;00m:\n\u001b[1;32m    398\u001b[0m \u001b[38;5;250m    \u001b[39m\u001b[38;5;124;03m\"\"\"Optimize an objective function.\u001b[39;00m\n\u001b[1;32m    399\u001b[0m \n\u001b[1;32m    400\u001b[0m \u001b[38;5;124;03m    Optimization is done by choosing a suitable set of hyperparameter values from a given\u001b[39;00m\n\u001b[0;32m   (...)\u001b[0m\n\u001b[1;32m    487\u001b[0m \u001b[38;5;124;03m            If nested invocation of this method occurs.\u001b[39;00m\n\u001b[1;32m    488\u001b[0m \u001b[38;5;124;03m    \"\"\"\u001b[39;00m\n\u001b[0;32m--> 489\u001b[0m     \u001b[43m_optimize\u001b[49m\u001b[43m(\u001b[49m\n\u001b[1;32m    490\u001b[0m \u001b[43m        \u001b[49m\u001b[43mstudy\u001b[49m\u001b[38;5;241;43m=\u001b[39;49m\u001b[38;5;28;43mself\u001b[39;49m\u001b[43m,\u001b[49m\n\u001b[1;32m    491\u001b[0m \u001b[43m        \u001b[49m\u001b[43mfunc\u001b[49m\u001b[38;5;241;43m=\u001b[39;49m\u001b[43mfunc\u001b[49m\u001b[43m,\u001b[49m\n\u001b[1;32m    492\u001b[0m \u001b[43m        \u001b[49m\u001b[43mn_trials\u001b[49m\u001b[38;5;241;43m=\u001b[39;49m\u001b[43mn_trials\u001b[49m\u001b[43m,\u001b[49m\n\u001b[1;32m    493\u001b[0m \u001b[43m        \u001b[49m\u001b[43mtimeout\u001b[49m\u001b[38;5;241;43m=\u001b[39;49m\u001b[43mtimeout\u001b[49m\u001b[43m,\u001b[49m\n\u001b[1;32m    494\u001b[0m \u001b[43m        \u001b[49m\u001b[43mn_jobs\u001b[49m\u001b[38;5;241;43m=\u001b[39;49m\u001b[43mn_jobs\u001b[49m\u001b[43m,\u001b[49m\n\u001b[1;32m    495\u001b[0m \u001b[43m        \u001b[49m\u001b[43mcatch\u001b[49m\u001b[38;5;241;43m=\u001b[39;49m\u001b[38;5;28;43mtuple\u001b[39;49m\u001b[43m(\u001b[49m\u001b[43mcatch\u001b[49m\u001b[43m)\u001b[49m\u001b[43m \u001b[49m\u001b[38;5;28;43;01mif\u001b[39;49;00m\u001b[43m \u001b[49m\u001b[38;5;28;43misinstance\u001b[39;49m\u001b[43m(\u001b[49m\u001b[43mcatch\u001b[49m\u001b[43m,\u001b[49m\u001b[43m \u001b[49m\u001b[43mIterable\u001b[49m\u001b[43m)\u001b[49m\u001b[43m \u001b[49m\u001b[38;5;28;43;01melse\u001b[39;49;00m\u001b[43m \u001b[49m\u001b[43m(\u001b[49m\u001b[43mcatch\u001b[49m\u001b[43m,\u001b[49m\u001b[43m)\u001b[49m\u001b[43m,\u001b[49m\n\u001b[1;32m    496\u001b[0m \u001b[43m        \u001b[49m\u001b[43mcallbacks\u001b[49m\u001b[38;5;241;43m=\u001b[39;49m\u001b[43mcallbacks\u001b[49m\u001b[43m,\u001b[49m\n\u001b[1;32m    497\u001b[0m \u001b[43m        \u001b[49m\u001b[43mgc_after_trial\u001b[49m\u001b[38;5;241;43m=\u001b[39;49m\u001b[43mgc_after_trial\u001b[49m\u001b[43m,\u001b[49m\n\u001b[1;32m    498\u001b[0m \u001b[43m        \u001b[49m\u001b[43mshow_progress_bar\u001b[49m\u001b[38;5;241;43m=\u001b[39;49m\u001b[43mshow_progress_bar\u001b[49m\u001b[43m,\u001b[49m\n\u001b[1;32m    499\u001b[0m \u001b[43m    \u001b[49m\u001b[43m)\u001b[49m\n",
      "File \u001b[0;32m/usr/local/lib/python3.12/dist-packages/optuna/study/_optimize.py:64\u001b[0m, in \u001b[0;36m_optimize\u001b[0;34m(study, func, n_trials, timeout, n_jobs, catch, callbacks, gc_after_trial, show_progress_bar)\u001b[0m\n\u001b[1;32m     62\u001b[0m \u001b[38;5;28;01mtry\u001b[39;00m:\n\u001b[1;32m     63\u001b[0m     \u001b[38;5;28;01mif\u001b[39;00m n_jobs \u001b[38;5;241m==\u001b[39m \u001b[38;5;241m1\u001b[39m:\n\u001b[0;32m---> 64\u001b[0m         \u001b[43m_optimize_sequential\u001b[49m\u001b[43m(\u001b[49m\n\u001b[1;32m     65\u001b[0m \u001b[43m            \u001b[49m\u001b[43mstudy\u001b[49m\u001b[43m,\u001b[49m\n\u001b[1;32m     66\u001b[0m \u001b[43m            \u001b[49m\u001b[43mfunc\u001b[49m\u001b[43m,\u001b[49m\n\u001b[1;32m     67\u001b[0m \u001b[43m            \u001b[49m\u001b[43mn_trials\u001b[49m\u001b[43m,\u001b[49m\n\u001b[1;32m     68\u001b[0m \u001b[43m            \u001b[49m\u001b[43mtimeout\u001b[49m\u001b[43m,\u001b[49m\n\u001b[1;32m     69\u001b[0m \u001b[43m            \u001b[49m\u001b[43mcatch\u001b[49m\u001b[43m,\u001b[49m\n\u001b[1;32m     70\u001b[0m \u001b[43m            \u001b[49m\u001b[43mcallbacks\u001b[49m\u001b[43m,\u001b[49m\n\u001b[1;32m     71\u001b[0m \u001b[43m            \u001b[49m\u001b[43mgc_after_trial\u001b[49m\u001b[43m,\u001b[49m\n\u001b[1;32m     72\u001b[0m \u001b[43m            \u001b[49m\u001b[43mreseed_sampler_rng\u001b[49m\u001b[38;5;241;43m=\u001b[39;49m\u001b[38;5;28;43;01mFalse\u001b[39;49;00m\u001b[43m,\u001b[49m\n\u001b[1;32m     73\u001b[0m \u001b[43m            \u001b[49m\u001b[43mtime_start\u001b[49m\u001b[38;5;241;43m=\u001b[39;49m\u001b[38;5;28;43;01mNone\u001b[39;49;00m\u001b[43m,\u001b[49m\n\u001b[1;32m     74\u001b[0m \u001b[43m            \u001b[49m\u001b[43mprogress_bar\u001b[49m\u001b[38;5;241;43m=\u001b[39;49m\u001b[43mprogress_bar\u001b[49m\u001b[43m,\u001b[49m\n\u001b[1;32m     75\u001b[0m \u001b[43m        \u001b[49m\u001b[43m)\u001b[49m\n\u001b[1;32m     76\u001b[0m     \u001b[38;5;28;01melse\u001b[39;00m:\n\u001b[1;32m     77\u001b[0m         \u001b[38;5;28;01mif\u001b[39;00m n_jobs \u001b[38;5;241m==\u001b[39m \u001b[38;5;241m-\u001b[39m\u001b[38;5;241m1\u001b[39m:\n",
      "File \u001b[0;32m/usr/local/lib/python3.12/dist-packages/optuna/study/_optimize.py:161\u001b[0m, in \u001b[0;36m_optimize_sequential\u001b[0;34m(study, func, n_trials, timeout, catch, callbacks, gc_after_trial, reseed_sampler_rng, time_start, progress_bar)\u001b[0m\n\u001b[1;32m    158\u001b[0m         \u001b[38;5;28;01mbreak\u001b[39;00m\n\u001b[1;32m    160\u001b[0m \u001b[38;5;28;01mtry\u001b[39;00m:\n\u001b[0;32m--> 161\u001b[0m     frozen_trial \u001b[38;5;241m=\u001b[39m \u001b[43m_run_trial\u001b[49m\u001b[43m(\u001b[49m\u001b[43mstudy\u001b[49m\u001b[43m,\u001b[49m\u001b[43m \u001b[49m\u001b[43mfunc\u001b[49m\u001b[43m,\u001b[49m\u001b[43m \u001b[49m\u001b[43mcatch\u001b[49m\u001b[43m)\u001b[49m\n\u001b[1;32m    162\u001b[0m \u001b[38;5;28;01mfinally\u001b[39;00m:\n\u001b[1;32m    163\u001b[0m     \u001b[38;5;66;03m# The following line mitigates memory problems that can be occurred in some\u001b[39;00m\n\u001b[1;32m    164\u001b[0m     \u001b[38;5;66;03m# environments (e.g., services that use computing containers such as GitHub Actions).\u001b[39;00m\n\u001b[1;32m    165\u001b[0m     \u001b[38;5;66;03m# Please refer to the following PR for further details:\u001b[39;00m\n\u001b[1;32m    166\u001b[0m     \u001b[38;5;66;03m# https://github.com/optuna/optuna/pull/325.\u001b[39;00m\n\u001b[1;32m    167\u001b[0m     \u001b[38;5;28;01mif\u001b[39;00m gc_after_trial:\n",
      "File \u001b[0;32m/usr/local/lib/python3.12/dist-packages/optuna/study/_optimize.py:253\u001b[0m, in \u001b[0;36m_run_trial\u001b[0;34m(study, func, catch)\u001b[0m\n\u001b[1;32m    246\u001b[0m         \u001b[38;5;28;01massert\u001b[39;00m \u001b[38;5;28;01mFalse\u001b[39;00m, \u001b[38;5;124m\"\u001b[39m\u001b[38;5;124mShould not reach.\u001b[39m\u001b[38;5;124m\"\u001b[39m\n\u001b[1;32m    248\u001b[0m \u001b[38;5;28;01mif\u001b[39;00m (\n\u001b[1;32m    249\u001b[0m     frozen_trial\u001b[38;5;241m.\u001b[39mstate \u001b[38;5;241m==\u001b[39m TrialState\u001b[38;5;241m.\u001b[39mFAIL\n\u001b[1;32m    250\u001b[0m     \u001b[38;5;129;01mand\u001b[39;00m func_err \u001b[38;5;129;01mis\u001b[39;00m \u001b[38;5;129;01mnot\u001b[39;00m \u001b[38;5;28;01mNone\u001b[39;00m\n\u001b[1;32m    251\u001b[0m     \u001b[38;5;129;01mand\u001b[39;00m \u001b[38;5;129;01mnot\u001b[39;00m \u001b[38;5;28misinstance\u001b[39m(func_err, catch)\n\u001b[1;32m    252\u001b[0m ):\n\u001b[0;32m--> 253\u001b[0m     \u001b[38;5;28;01mraise\u001b[39;00m func_err\n\u001b[1;32m    254\u001b[0m \u001b[38;5;28;01mreturn\u001b[39;00m frozen_trial\n",
      "File \u001b[0;32m/usr/local/lib/python3.12/dist-packages/optuna/study/_optimize.py:201\u001b[0m, in \u001b[0;36m_run_trial\u001b[0;34m(study, func, catch)\u001b[0m\n\u001b[1;32m    199\u001b[0m \u001b[38;5;28;01mwith\u001b[39;00m get_heartbeat_thread(trial\u001b[38;5;241m.\u001b[39m_trial_id, study\u001b[38;5;241m.\u001b[39m_storage):\n\u001b[1;32m    200\u001b[0m     \u001b[38;5;28;01mtry\u001b[39;00m:\n\u001b[0;32m--> 201\u001b[0m         value_or_values \u001b[38;5;241m=\u001b[39m \u001b[43mfunc\u001b[49m\u001b[43m(\u001b[49m\u001b[43mtrial\u001b[49m\u001b[43m)\u001b[49m\n\u001b[1;32m    202\u001b[0m     \u001b[38;5;28;01mexcept\u001b[39;00m exceptions\u001b[38;5;241m.\u001b[39mTrialPruned \u001b[38;5;28;01mas\u001b[39;00m e:\n\u001b[1;32m    203\u001b[0m         \u001b[38;5;66;03m# TODO(mamu): Handle multi-objective cases.\u001b[39;00m\n\u001b[1;32m    204\u001b[0m         state \u001b[38;5;241m=\u001b[39m TrialState\u001b[38;5;241m.\u001b[39mPRUNED\n",
      "Cell \u001b[0;32mIn[15], line 49\u001b[0m, in \u001b[0;36mobjective_train\u001b[0;34m(trial)\u001b[0m\n\u001b[1;32m     40\u001b[0m optimizer, plateau_sched, cosine_sched, scaler, clipnorm \u001b[38;5;241m=\u001b[39m \\\n\u001b[1;32m     41\u001b[0m     models\u001b[38;5;241m.\u001b[39mmake_optimizer_and_scheduler(\n\u001b[1;32m     42\u001b[0m         model            \u001b[38;5;241m=\u001b[39m model,\n\u001b[0;32m   (...)\u001b[0m\n\u001b[1;32m     45\u001b[0m         clipnorm         \u001b[38;5;241m=\u001b[39m hp[\u001b[38;5;124m\"\u001b[39m\u001b[38;5;124mCLIPNORM\u001b[39m\u001b[38;5;124m\"\u001b[39m]\n\u001b[1;32m     46\u001b[0m     )\n\u001b[1;32m     48\u001b[0m \u001b[38;5;66;03m# Run training & return best validation RMSE\u001b[39;00m\n\u001b[0;32m---> 49\u001b[0m best_rmse \u001b[38;5;241m=\u001b[39m \u001b[43mmodels\u001b[49m\u001b[38;5;241;43m.\u001b[39;49m\u001b[43mcustom_stateful_training_loop\u001b[49m\u001b[43m(\u001b[49m\n\u001b[1;32m     50\u001b[0m \u001b[43m    \u001b[49m\u001b[43mmodel\u001b[49m\u001b[43m               \u001b[49m\u001b[38;5;241;43m=\u001b[39;49m\u001b[43m \u001b[49m\u001b[43mmodel\u001b[49m\u001b[43m,\u001b[49m\n\u001b[1;32m     51\u001b[0m \u001b[43m    \u001b[49m\u001b[43moptimizer\u001b[49m\u001b[43m           \u001b[49m\u001b[38;5;241;43m=\u001b[39;49m\u001b[43m \u001b[49m\u001b[43moptimizer\u001b[49m\u001b[43m,\u001b[49m\n\u001b[1;32m     52\u001b[0m \u001b[43m    \u001b[49m\u001b[43mcosine_sched\u001b[49m\u001b[43m        \u001b[49m\u001b[38;5;241;43m=\u001b[39;49m\u001b[43m \u001b[49m\u001b[43mcosine_sched\u001b[49m\u001b[43m,\u001b[49m\n\u001b[1;32m     53\u001b[0m \u001b[43m    \u001b[49m\u001b[43mplateau_sched\u001b[49m\u001b[43m       \u001b[49m\u001b[38;5;241;43m=\u001b[39;49m\u001b[43m \u001b[49m\u001b[43mplateau_sched\u001b[49m\u001b[43m,\u001b[49m\n\u001b[1;32m     54\u001b[0m \u001b[43m    \u001b[49m\u001b[43mscaler\u001b[49m\u001b[43m              \u001b[49m\u001b[38;5;241;43m=\u001b[39;49m\u001b[43m \u001b[49m\u001b[43mscaler\u001b[49m\u001b[43m,\u001b[49m\n\u001b[1;32m     55\u001b[0m \u001b[43m    \u001b[49m\u001b[43mtrain_loader\u001b[49m\u001b[43m        \u001b[49m\u001b[38;5;241;43m=\u001b[39;49m\u001b[43m \u001b[49m\u001b[43mtrain_loader\u001b[49m\u001b[43m,\u001b[49m\n\u001b[1;32m     56\u001b[0m \u001b[43m    \u001b[49m\u001b[43mval_loader\u001b[49m\u001b[43m          \u001b[49m\u001b[38;5;241;43m=\u001b[39;49m\u001b[43m \u001b[49m\u001b[43mval_loader\u001b[49m\u001b[43m,\u001b[49m\n\u001b[1;32m     57\u001b[0m \u001b[43m    \u001b[49m\u001b[43mmax_epochs\u001b[49m\u001b[43m          \u001b[49m\u001b[38;5;241;43m=\u001b[39;49m\u001b[43m \u001b[49m\u001b[43mparams\u001b[49m\u001b[38;5;241;43m.\u001b[39;49m\u001b[43mhparams\u001b[49m\u001b[43m[\u001b[49m\u001b[38;5;124;43m\"\u001b[39;49m\u001b[38;5;124;43mMAX_EPOCHS\u001b[39;49m\u001b[38;5;124;43m\"\u001b[39;49m\u001b[43m]\u001b[49m\u001b[43m,\u001b[49m\n\u001b[1;32m     58\u001b[0m \u001b[43m    \u001b[49m\u001b[43mearly_stop_patience\u001b[49m\u001b[43m \u001b[49m\u001b[38;5;241;43m=\u001b[39;49m\u001b[43m \u001b[49m\u001b[43mhp\u001b[49m\u001b[43m[\u001b[49m\u001b[38;5;124;43m\"\u001b[39;49m\u001b[38;5;124;43mEARLY_STOP_PATIENCE\u001b[39;49m\u001b[38;5;124;43m\"\u001b[39;49m\u001b[43m]\u001b[49m\u001b[43m,\u001b[49m\n\u001b[1;32m     59\u001b[0m \u001b[43m    \u001b[49m\u001b[43mbaseline_val_rmse\u001b[49m\u001b[43m   \u001b[49m\u001b[38;5;241;43m=\u001b[39;49m\u001b[43m \u001b[49m\u001b[43mbaseline_val_rmse\u001b[49m\u001b[43m,\u001b[49m\n\u001b[1;32m     60\u001b[0m \u001b[43m    \u001b[49m\u001b[43mclipnorm\u001b[49m\u001b[43m            \u001b[49m\u001b[38;5;241;43m=\u001b[39;49m\u001b[43m \u001b[49m\u001b[43mclipnorm\u001b[49m\u001b[43m,\u001b[49m\n\u001b[1;32m     61\u001b[0m \u001b[43m    \u001b[49m\u001b[43mdevice\u001b[49m\u001b[43m              \u001b[49m\u001b[38;5;241;43m=\u001b[39;49m\u001b[43m \u001b[49m\u001b[43mdevice\u001b[49m\u001b[43m,\u001b[49m\n\u001b[1;32m     62\u001b[0m \u001b[43m\u001b[49m\u001b[43m)\u001b[49m\n\u001b[1;32m     63\u001b[0m \u001b[38;5;28;01mreturn\u001b[39;00m best_rmse\n",
      "File \u001b[0;32m/workspace/my models/Trading/0.Stock Analysis/libs/models.py:839\u001b[0m, in \u001b[0;36mcustom_stateful_training_loop\u001b[0;34m(model, optimizer, cosine_sched, plateau_sched, scaler, train_loader, val_loader, max_epochs, early_stop_patience, baseline_val_rmse, clipnorm, device)\u001b[0m\n\u001b[1;32m    834\u001b[0m train_losses \u001b[38;5;241m=\u001b[39m []\n\u001b[1;32m    835\u001b[0m pbar \u001b[38;5;241m=\u001b[39m tqdm(\u001b[38;5;28menumerate\u001b[39m(train_loader),\n\u001b[1;32m    836\u001b[0m             total\u001b[38;5;241m=\u001b[39m\u001b[38;5;28mlen\u001b[39m(train_loader),\n\u001b[1;32m    837\u001b[0m             desc\u001b[38;5;241m=\u001b[39m\u001b[38;5;124mf\u001b[39m\u001b[38;5;124m\"\u001b[39m\u001b[38;5;124mEpoch \u001b[39m\u001b[38;5;132;01m{\u001b[39;00mepoch\u001b[38;5;132;01m}\u001b[39;00m\u001b[38;5;124m\"\u001b[39m,\n\u001b[1;32m    838\u001b[0m             unit\u001b[38;5;241m=\u001b[39m\u001b[38;5;124m\"\u001b[39m\u001b[38;5;124mbundle\u001b[39m\u001b[38;5;124m\"\u001b[39m)\n\u001b[0;32m--> 839\u001b[0m \u001b[43m\u001b[49m\u001b[38;5;28;43;01mfor\u001b[39;49;00m\u001b[43m \u001b[49m\u001b[43mbatch_idx\u001b[49m\u001b[43m,\u001b[49m\u001b[43m \u001b[49m\u001b[43m(\u001b[49m\u001b[43mxb_days\u001b[49m\u001b[43m,\u001b[49m\u001b[43m \u001b[49m\u001b[43myb_days\u001b[49m\u001b[43m,\u001b[49m\u001b[43m \u001b[49m\u001b[43mwd_days\u001b[49m\u001b[43m)\u001b[49m\u001b[43m \u001b[49m\u001b[38;5;129;43;01min\u001b[39;49;00m\u001b[43m \u001b[49m\u001b[43mpbar\u001b[49m\u001b[43m:\u001b[49m\n\u001b[1;32m    840\u001b[0m \u001b[43m    \u001b[49m\u001b[43mxb_days\u001b[49m\u001b[43m,\u001b[49m\u001b[43m \u001b[49m\u001b[43myb_days\u001b[49m\u001b[43m \u001b[49m\u001b[38;5;241;43m=\u001b[39;49m\u001b[43m \u001b[49m\u001b[43mxb_days\u001b[49m\u001b[38;5;241;43m.\u001b[39;49m\u001b[43mto\u001b[49m\u001b[43m(\u001b[49m\u001b[43mdevice\u001b[49m\u001b[43m)\u001b[49m\u001b[43m,\u001b[49m\u001b[43m \u001b[49m\u001b[43myb_days\u001b[49m\u001b[38;5;241;43m.\u001b[39;49m\u001b[43mto\u001b[49m\u001b[43m(\u001b[49m\u001b[43mdevice\u001b[49m\u001b[43m)\u001b[49m\n\u001b[1;32m    841\u001b[0m \u001b[43m    \u001b[49m\u001b[43mwd_days\u001b[49m\u001b[43m          \u001b[49m\u001b[38;5;241;43m=\u001b[39;49m\u001b[43m \u001b[49m\u001b[43mwd_days\u001b[49m\u001b[38;5;241;43m.\u001b[39;49m\u001b[43mto\u001b[49m\u001b[43m(\u001b[49m\u001b[43mdevice\u001b[49m\u001b[43m)\u001b[49m\n",
      "File \u001b[0;32m/usr/local/lib/python3.12/dist-packages/tqdm/std.py:1181\u001b[0m, in \u001b[0;36mtqdm.__iter__\u001b[0;34m(self)\u001b[0m\n\u001b[1;32m   1178\u001b[0m time \u001b[38;5;241m=\u001b[39m \u001b[38;5;28mself\u001b[39m\u001b[38;5;241m.\u001b[39m_time\n\u001b[1;32m   1180\u001b[0m \u001b[38;5;28;01mtry\u001b[39;00m:\n\u001b[0;32m-> 1181\u001b[0m \u001b[43m    \u001b[49m\u001b[38;5;28;43;01mfor\u001b[39;49;00m\u001b[43m \u001b[49m\u001b[43mobj\u001b[49m\u001b[43m \u001b[49m\u001b[38;5;129;43;01min\u001b[39;49;00m\u001b[43m \u001b[49m\u001b[43miterable\u001b[49m\u001b[43m:\u001b[49m\n\u001b[1;32m   1182\u001b[0m \u001b[43m        \u001b[49m\u001b[38;5;28;43;01myield\u001b[39;49;00m\u001b[43m \u001b[49m\u001b[43mobj\u001b[49m\n\u001b[1;32m   1183\u001b[0m \u001b[43m        \u001b[49m\u001b[38;5;66;43;03m# Update and possibly print the progressbar.\u001b[39;49;00m\n\u001b[1;32m   1184\u001b[0m \u001b[43m        \u001b[49m\u001b[38;5;66;43;03m# Note: does not call self.update(1) for speed optimisation.\u001b[39;49;00m\n",
      "File \u001b[0;32m/usr/local/lib/python3.12/dist-packages/torch/utils/data/dataloader.py:708\u001b[0m, in \u001b[0;36m_BaseDataLoaderIter.__next__\u001b[0;34m(self)\u001b[0m\n\u001b[1;32m    705\u001b[0m \u001b[38;5;28;01mif\u001b[39;00m \u001b[38;5;28mself\u001b[39m\u001b[38;5;241m.\u001b[39m_sampler_iter \u001b[38;5;129;01mis\u001b[39;00m \u001b[38;5;28;01mNone\u001b[39;00m:\n\u001b[1;32m    706\u001b[0m     \u001b[38;5;66;03m# TODO(https://github.com/pytorch/pytorch/issues/76750)\u001b[39;00m\n\u001b[1;32m    707\u001b[0m     \u001b[38;5;28mself\u001b[39m\u001b[38;5;241m.\u001b[39m_reset()  \u001b[38;5;66;03m# type: ignore[call-arg]\u001b[39;00m\n\u001b[0;32m--> 708\u001b[0m data \u001b[38;5;241m=\u001b[39m \u001b[38;5;28;43mself\u001b[39;49m\u001b[38;5;241;43m.\u001b[39;49m\u001b[43m_next_data\u001b[49m\u001b[43m(\u001b[49m\u001b[43m)\u001b[49m\n\u001b[1;32m    709\u001b[0m \u001b[38;5;28mself\u001b[39m\u001b[38;5;241m.\u001b[39m_num_yielded \u001b[38;5;241m+\u001b[39m\u001b[38;5;241m=\u001b[39m \u001b[38;5;241m1\u001b[39m\n\u001b[1;32m    710\u001b[0m \u001b[38;5;28;01mif\u001b[39;00m (\n\u001b[1;32m    711\u001b[0m     \u001b[38;5;28mself\u001b[39m\u001b[38;5;241m.\u001b[39m_dataset_kind \u001b[38;5;241m==\u001b[39m _DatasetKind\u001b[38;5;241m.\u001b[39mIterable\n\u001b[1;32m    712\u001b[0m     \u001b[38;5;129;01mand\u001b[39;00m \u001b[38;5;28mself\u001b[39m\u001b[38;5;241m.\u001b[39m_IterableDataset_len_called \u001b[38;5;129;01mis\u001b[39;00m \u001b[38;5;129;01mnot\u001b[39;00m \u001b[38;5;28;01mNone\u001b[39;00m\n\u001b[1;32m    713\u001b[0m     \u001b[38;5;129;01mand\u001b[39;00m \u001b[38;5;28mself\u001b[39m\u001b[38;5;241m.\u001b[39m_num_yielded \u001b[38;5;241m>\u001b[39m \u001b[38;5;28mself\u001b[39m\u001b[38;5;241m.\u001b[39m_IterableDataset_len_called\n\u001b[1;32m    714\u001b[0m ):\n",
      "File \u001b[0;32m/usr/local/lib/python3.12/dist-packages/torch/utils/data/dataloader.py:1463\u001b[0m, in \u001b[0;36m_MultiProcessingDataLoaderIter._next_data\u001b[0;34m(self)\u001b[0m\n\u001b[1;32m   1460\u001b[0m     \u001b[38;5;28;01mreturn\u001b[39;00m \u001b[38;5;28mself\u001b[39m\u001b[38;5;241m.\u001b[39m_process_data(data, worker_id)\n\u001b[1;32m   1462\u001b[0m \u001b[38;5;28;01massert\u001b[39;00m \u001b[38;5;129;01mnot\u001b[39;00m \u001b[38;5;28mself\u001b[39m\u001b[38;5;241m.\u001b[39m_shutdown \u001b[38;5;129;01mand\u001b[39;00m \u001b[38;5;28mself\u001b[39m\u001b[38;5;241m.\u001b[39m_tasks_outstanding \u001b[38;5;241m>\u001b[39m \u001b[38;5;241m0\u001b[39m\n\u001b[0;32m-> 1463\u001b[0m idx, data \u001b[38;5;241m=\u001b[39m \u001b[38;5;28;43mself\u001b[39;49m\u001b[38;5;241;43m.\u001b[39;49m\u001b[43m_get_data\u001b[49m\u001b[43m(\u001b[49m\u001b[43m)\u001b[49m\n\u001b[1;32m   1464\u001b[0m \u001b[38;5;28mself\u001b[39m\u001b[38;5;241m.\u001b[39m_tasks_outstanding \u001b[38;5;241m-\u001b[39m\u001b[38;5;241m=\u001b[39m \u001b[38;5;241m1\u001b[39m\n\u001b[1;32m   1465\u001b[0m \u001b[38;5;28;01mif\u001b[39;00m \u001b[38;5;28mself\u001b[39m\u001b[38;5;241m.\u001b[39m_dataset_kind \u001b[38;5;241m==\u001b[39m _DatasetKind\u001b[38;5;241m.\u001b[39mIterable:\n\u001b[1;32m   1466\u001b[0m     \u001b[38;5;66;03m# Check for _IterableDatasetStopIteration\u001b[39;00m\n",
      "File \u001b[0;32m/usr/local/lib/python3.12/dist-packages/torch/utils/data/dataloader.py:1415\u001b[0m, in \u001b[0;36m_MultiProcessingDataLoaderIter._get_data\u001b[0;34m(self)\u001b[0m\n\u001b[1;32m   1413\u001b[0m \u001b[38;5;28;01melif\u001b[39;00m \u001b[38;5;28mself\u001b[39m\u001b[38;5;241m.\u001b[39m_pin_memory:\n\u001b[1;32m   1414\u001b[0m     \u001b[38;5;28;01mwhile\u001b[39;00m \u001b[38;5;28mself\u001b[39m\u001b[38;5;241m.\u001b[39m_pin_memory_thread\u001b[38;5;241m.\u001b[39mis_alive():\n\u001b[0;32m-> 1415\u001b[0m         success, data \u001b[38;5;241m=\u001b[39m \u001b[38;5;28;43mself\u001b[39;49m\u001b[38;5;241;43m.\u001b[39;49m\u001b[43m_try_get_data\u001b[49m\u001b[43m(\u001b[49m\u001b[43m)\u001b[49m\n\u001b[1;32m   1416\u001b[0m         \u001b[38;5;28;01mif\u001b[39;00m success:\n\u001b[1;32m   1417\u001b[0m             \u001b[38;5;28;01mreturn\u001b[39;00m data\n",
      "File \u001b[0;32m/usr/local/lib/python3.12/dist-packages/torch/utils/data/dataloader.py:1269\u001b[0m, in \u001b[0;36m_MultiProcessingDataLoaderIter._try_get_data\u001b[0;34m(self, timeout)\u001b[0m\n\u001b[1;32m   1267\u001b[0m \u001b[38;5;28;01mif\u001b[39;00m \u001b[38;5;28mlen\u001b[39m(failed_workers) \u001b[38;5;241m>\u001b[39m \u001b[38;5;241m0\u001b[39m:\n\u001b[1;32m   1268\u001b[0m     pids_str \u001b[38;5;241m=\u001b[39m \u001b[38;5;124m\"\u001b[39m\u001b[38;5;124m, \u001b[39m\u001b[38;5;124m\"\u001b[39m\u001b[38;5;241m.\u001b[39mjoin(\u001b[38;5;28mstr\u001b[39m(w\u001b[38;5;241m.\u001b[39mpid) \u001b[38;5;28;01mfor\u001b[39;00m w \u001b[38;5;129;01min\u001b[39;00m failed_workers)\n\u001b[0;32m-> 1269\u001b[0m     \u001b[38;5;28;01mraise\u001b[39;00m \u001b[38;5;167;01mRuntimeError\u001b[39;00m(\n\u001b[1;32m   1270\u001b[0m         \u001b[38;5;124mf\u001b[39m\u001b[38;5;124m\"\u001b[39m\u001b[38;5;124mDataLoader worker (pid(s) \u001b[39m\u001b[38;5;132;01m{\u001b[39;00mpids_str\u001b[38;5;132;01m}\u001b[39;00m\u001b[38;5;124m) exited unexpectedly\u001b[39m\u001b[38;5;124m\"\u001b[39m\n\u001b[1;32m   1271\u001b[0m     ) \u001b[38;5;28;01mfrom\u001b[39;00m\u001b[38;5;250m \u001b[39m\u001b[38;5;21;01me\u001b[39;00m\n\u001b[1;32m   1272\u001b[0m \u001b[38;5;28;01mif\u001b[39;00m \u001b[38;5;28misinstance\u001b[39m(e, queue\u001b[38;5;241m.\u001b[39mEmpty):\n\u001b[1;32m   1273\u001b[0m     \u001b[38;5;28;01mreturn\u001b[39;00m (\u001b[38;5;28;01mFalse\u001b[39;00m, \u001b[38;5;28;01mNone\u001b[39;00m)\n",
      "\u001b[0;31mRuntimeError\u001b[0m: DataLoader worker (pid(s) 7243) exited unexpectedly"
     ]
    },
    {
     "data": {
      "image/png": "[encoded data removed]",
      "text/plain": [
       "<Figure size 660x440 with 1 Axes>"
      ]
     },
     "metadata": {},
     "output_type": "display_data"
    }
   ],
   "source": [
    "\n",
    "# ──────────────────────────────────────────────────────────────────────────────\n",
    "#  Create Optuna study and run optimization\n",
    "# ──────────────────────────────────────────────────────────────────────────────\n",
    "study = optuna.create_study(\n",
    "    direction=\"minimize\",\n",
    "    pruner   = MedianPruner(n_startup_trials=5, n_warmup_steps=2),\n",
    ")\n",
    "\n",
    "study.optimize(\n",
    "    objective_train,\n",
    "    n_trials = 50,\n",
    "    n_jobs   = 1,               # to run trials concurrently\n",
    "    callbacks =[plots.live_plot_callback]\n",
    ")\n",
    "\n",
    "# ──────────────────────────────────────────────────────────────────────────────\n",
    "# Print out the best hyperparameters & result\n",
    "# ──────────────────────────────────────────────────────────────────────────────\n",
    "print(\"Best hyperparameters:\", study.best_params)\n",
    "print(\"Best validation RMSE:\", study.best_value)\n",
    "\n",
    "# ------------------------------------------------------------------\n",
    "# Build a dynamic file-name:  <results_folder>/<TICKER>_<YYYYMMDD>-<YYYYMMDD>_optuna.json\n",
    "# ------------------------------------------------------------------\n",
    "\n",
    "start_date  = df.index.min().strftime(\"%Y%m%d\")  # ❹ first date in the DataFrame\n",
    "end_date    = df.index.max().strftime(\"%Y%m%d\")  # ❺ last  date in the DataFrame\n",
    "\n",
    "file_name = f\"{ticker}_{start_date}-{end_date}_optuna_hyperpars.json\"\n",
    "file_path = os.path.join(results_folder, file_name)\n",
    "\n",
    "# ------------------------------------------------------------------\n",
    "# Dump study results\n",
    "# ------------------------------------------------------------------\n",
    "with open(file_path, \"w\") as f:\n",
    "    json.dump(\n",
    "        {\n",
    "            \"best_params\": study.best_params,\n",
    "            \"best_value\" : study.best_value,\n",
    "            \"trials\": [\n",
    "                {\n",
    "                    \"number\" : t.number,\n",
    "                    \"value\"  : t.value,\n",
    "                    \"params\" : t.params,\n",
    "                    \"state\"  : t.state.name\n",
    "                }\n",
    "                for t in study.trials\n",
    "            ],\n",
    "        },\n",
    "        f,\n",
    "        indent=4,\n",
    "    )\n",
    "\n",
    "print(f\"Optuna results saved to: {file_path}\")"
   ]
  },
  {
   "cell_type": "code",
   "execution_count": null,
   "id": "6865782e-fc07-4354-a5b9-2cdeed1ebad9",
   "metadata": {},
   "outputs": [],
   "source": []
  },
  {
   "cell_type": "code",
   "execution_count": null,
   "id": "cbaa9fb2-411b-4d9f-9a33-e6f6c59de7dd",
   "metadata": {},
   "outputs": [],
   "source": []
  }
 ],
 "metadata": {
  "kernelspec": {
   "display_name": "Python 3 (ipykernel)",
   "language": "python",
   "name": "python3"
  },
  "language_info": {
   "codemirror_mode": {
    "name": "ipython",
    "version": 3
   },
   "file_extension": ".py",
   "mimetype": "text/x-python",
   "name": "python",
   "nbconvert_exporter": "python",
   "pygments_lexer": "ipython3",
   "version": "3.12.3"
  }
 },
 "nbformat": 4,
 "nbformat_minor": 5
}
