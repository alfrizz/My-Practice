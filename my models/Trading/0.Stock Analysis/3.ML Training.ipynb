{
 "cells": [
  {
   "cell_type": "code",
   "execution_count": 1,
   "id": "2da10cdb-d49c-4a4e-bd4a-d92b7be0fb9a",
   "metadata": {},
   "outputs": [],
   "source": [
    "# %matplotlib widget\n",
    "%matplotlib inline"
   ]
  },
  {
   "cell_type": "code",
   "execution_count": 2,
   "id": "2ae5f174-4751-495a-a9a9-0ccc3e5d35b5",
   "metadata": {},
   "outputs": [
    {
     "name": "stderr",
     "output_type": "stream",
     "text": [
      "2025-06-18 20:45:47.846284: E external/local_xla/xla/stream_executor/cuda/cuda_fft.cc:467] Unable to register cuFFT factory: Attempting to register factory for plugin cuFFT when one has already been registered\n",
      "WARNING: All log messages before absl::InitializeLog() is called are written to STDERR\n",
      "E0000 00:00:1750272348.013612    1802 cuda_dnn.cc:8579] Unable to register cuDNN factory: Attempting to register factory for plugin cuDNN when one has already been registered\n",
      "E0000 00:00:1750272348.070446    1802 cuda_blas.cc:1407] Unable to register cuBLAS factory: Attempting to register factory for plugin cuBLAS when one has already been registered\n",
      "W0000 00:00:1750272348.470549    1802 computation_placer.cc:177] computation placer already registered. Please check linkage and avoid linking the same target more than once.\n",
      "W0000 00:00:1750272348.470637    1802 computation_placer.cc:177] computation placer already registered. Please check linkage and avoid linking the same target more than once.\n",
      "W0000 00:00:1750272348.470640    1802 computation_placer.cc:177] computation placer already registered. Please check linkage and avoid linking the same target more than once.\n",
      "W0000 00:00:1750272348.470643    1802 computation_placer.cc:177] computation placer already registered. Please check linkage and avoid linking the same target more than once.\n"
     ]
    }
   ],
   "source": [
    "import datetime as dt\n",
    "from pathlib import Path\n",
    "from typing import Sequence, Tuple, List\n",
    "\n",
    "import os\n",
    "os.environ[\"TF_CPP_MIN_LOG_LEVEL\"] = \"2\"   # 0 = all, 1 = INFO, 2 = WARNING, 3 = ERROR\n",
    "import logging\n",
    "logging.getLogger(\"tensorflow\").setLevel(logging.ERROR)\n",
    "\n",
    "import pickle\n",
    "import contextlib\n",
    "\n",
    "import platform \n",
    "import sys\n",
    "import math\n",
    "\n",
    "import numpy as np\n",
    "from numpy.lib.stride_tricks import sliding_window_view\n",
    "import pandas as pd\n",
    "from sklearn.preprocessing import StandardScaler\n",
    "\n",
    "import tensorflow as tf\n",
    "from tensorflow.keras import layers, models, optimizers, metrics, mixed_precision\n",
    "from tensorflow.keras.mixed_precision import LossScaleOptimizer\n",
    "from tensorflow.keras.optimizers.schedules import CosineDecayRestarts, LearningRateSchedule\n",
    "import torch\n",
    "\n",
    "import matplotlib\n",
    "import matplotlib.pyplot as plt         # ← for progress curves\n",
    "from IPython.display import display, update_display, clear_output\n",
    "\n",
    "from tqdm.auto import tqdm          # progress bars that work in Jupyter\n",
    "from __future__ import annotations     # allows union types on Py <3.10\n"
   ]
  },
  {
   "cell_type": "code",
   "execution_count": 3,
   "id": "571a7bd8-d68f-4f78-a4c2-f24be134d54c",
   "metadata": {},
   "outputs": [
    {
     "name": "stdout",
     "output_type": "stream",
     "text": [
      "Python : 3.10.18 \n",
      "\n",
      "TF GPUs : [PhysicalDevice(name='/physical_device:GPU:0', device_type='GPU')]\n",
      "Torch   : 2.2.2+cu121 CUDA-OK: True\n"
     ]
    }
   ],
   "source": [
    "# os.environ[\"CUDA_VISIBLE_DEVICES\"] = \"\" # to deactivate gpu\n",
    "# tf.config.set_visible_devices([], 'GPU') # to deactivate gpu\n",
    "\n",
    "print(\"Python :\", platform.python_version(), \"\\n\")\n",
    "print(\"TF GPUs :\", tf.config.list_physical_devices('GPU'))\n",
    "print(\"Torch   :\", torch.__version__, \"CUDA-OK:\", torch.cuda.is_available())\n"
   ]
  },
  {
   "cell_type": "code",
   "execution_count": 4,
   "id": "58faa285-737c-4b04-9b21-93672ec40d17",
   "metadata": {},
   "outputs": [
    {
     "data": {
      "text/html": [
       "<div>\n",
       "<style scoped>\n",
       "    .dataframe tbody tr th:only-of-type {\n",
       "        vertical-align: middle;\n",
       "    }\n",
       "\n",
       "    .dataframe tbody tr th {\n",
       "        vertical-align: top;\n",
       "    }\n",
       "\n",
       "    .dataframe thead th {\n",
       "        text-align: right;\n",
       "    }\n",
       "</style>\n",
       "<table border=\"1\" class=\"dataframe\">\n",
       "  <thead>\n",
       "    <tr style=\"text-align: right;\">\n",
       "      <th></th>\n",
       "      <th>open</th>\n",
       "      <th>high</th>\n",
       "      <th>low</th>\n",
       "      <th>close</th>\n",
       "      <th>volume</th>\n",
       "      <th>bid</th>\n",
       "      <th>ask</th>\n",
       "      <th>trade_action</th>\n",
       "      <th>StrategyEarning</th>\n",
       "      <th>EarningDiff</th>\n",
       "      <th>signal_smooth_norm</th>\n",
       "    </tr>\n",
       "  </thead>\n",
       "  <tbody>\n",
       "    <tr>\n",
       "      <th>2025-01-02 13:30:00</th>\n",
       "      <td>250.5906</td>\n",
       "      <td>250.6435</td>\n",
       "      <td>250.5244</td>\n",
       "      <td>250.5753</td>\n",
       "      <td>2259.0</td>\n",
       "      <td>250.5001</td>\n",
       "      <td>250.6505</td>\n",
       "      <td>0</td>\n",
       "      <td>0.00</td>\n",
       "      <td>0.000</td>\n",
       "      <td>0.0</td>\n",
       "    </tr>\n",
       "    <tr>\n",
       "      <th>2025-01-02 13:31:00</th>\n",
       "      <td>250.5806</td>\n",
       "      <td>250.6317</td>\n",
       "      <td>250.5121</td>\n",
       "      <td>250.5606</td>\n",
       "      <td>2351.0</td>\n",
       "      <td>250.4854</td>\n",
       "      <td>250.6358</td>\n",
       "      <td>0</td>\n",
       "      <td>0.00</td>\n",
       "      <td>0.000</td>\n",
       "      <td>0.0</td>\n",
       "    </tr>\n",
       "    <tr>\n",
       "      <th>2025-01-02 13:32:00</th>\n",
       "      <td>250.5712</td>\n",
       "      <td>250.6200</td>\n",
       "      <td>250.4938</td>\n",
       "      <td>250.5453</td>\n",
       "      <td>2455.0</td>\n",
       "      <td>250.4701</td>\n",
       "      <td>250.6205</td>\n",
       "      <td>0</td>\n",
       "      <td>0.00</td>\n",
       "      <td>0.000</td>\n",
       "      <td>0.0</td>\n",
       "    </tr>\n",
       "    <tr>\n",
       "      <th>2025-01-02 13:33:00</th>\n",
       "      <td>250.5580</td>\n",
       "      <td>250.6094</td>\n",
       "      <td>250.4762</td>\n",
       "      <td>250.5347</td>\n",
       "      <td>2474.0</td>\n",
       "      <td>250.4595</td>\n",
       "      <td>250.6099</td>\n",
       "      <td>0</td>\n",
       "      <td>0.00</td>\n",
       "      <td>0.000</td>\n",
       "      <td>0.0</td>\n",
       "    </tr>\n",
       "    <tr>\n",
       "      <th>2025-01-02 13:34:00</th>\n",
       "      <td>250.5491</td>\n",
       "      <td>250.5994</td>\n",
       "      <td>250.4600</td>\n",
       "      <td>250.5168</td>\n",
       "      <td>2792.0</td>\n",
       "      <td>250.4416</td>\n",
       "      <td>250.5919</td>\n",
       "      <td>0</td>\n",
       "      <td>0.00</td>\n",
       "      <td>0.000</td>\n",
       "      <td>0.0</td>\n",
       "    </tr>\n",
       "    <tr>\n",
       "      <th>...</th>\n",
       "      <td>...</td>\n",
       "      <td>...</td>\n",
       "      <td>...</td>\n",
       "      <td>...</td>\n",
       "      <td>...</td>\n",
       "      <td>...</td>\n",
       "      <td>...</td>\n",
       "      <td>...</td>\n",
       "      <td>...</td>\n",
       "      <td>...</td>\n",
       "      <td>...</td>\n",
       "    </tr>\n",
       "    <tr>\n",
       "      <th>2025-06-03 20:56:00</th>\n",
       "      <td>203.2500</td>\n",
       "      <td>203.3500</td>\n",
       "      <td>203.2450</td>\n",
       "      <td>203.3200</td>\n",
       "      <td>189023.0</td>\n",
       "      <td>203.2590</td>\n",
       "      <td>203.3810</td>\n",
       "      <td>0</td>\n",
       "      <td>1.99</td>\n",
       "      <td>0.942</td>\n",
       "      <td>0.0</td>\n",
       "    </tr>\n",
       "    <tr>\n",
       "      <th>2025-06-03 20:57:00</th>\n",
       "      <td>203.3200</td>\n",
       "      <td>203.4200</td>\n",
       "      <td>203.3050</td>\n",
       "      <td>203.3800</td>\n",
       "      <td>222383.0</td>\n",
       "      <td>203.3190</td>\n",
       "      <td>203.4410</td>\n",
       "      <td>0</td>\n",
       "      <td>1.99</td>\n",
       "      <td>0.882</td>\n",
       "      <td>0.0</td>\n",
       "    </tr>\n",
       "    <tr>\n",
       "      <th>2025-06-03 20:58:00</th>\n",
       "      <td>203.3800</td>\n",
       "      <td>203.4300</td>\n",
       "      <td>203.3322</td>\n",
       "      <td>203.3750</td>\n",
       "      <td>279702.0</td>\n",
       "      <td>203.3140</td>\n",
       "      <td>203.4360</td>\n",
       "      <td>0</td>\n",
       "      <td>1.99</td>\n",
       "      <td>0.887</td>\n",
       "      <td>0.0</td>\n",
       "    </tr>\n",
       "    <tr>\n",
       "      <th>2025-06-03 20:59:00</th>\n",
       "      <td>203.3700</td>\n",
       "      <td>203.4100</td>\n",
       "      <td>203.2500</td>\n",
       "      <td>203.3400</td>\n",
       "      <td>724307.0</td>\n",
       "      <td>203.2790</td>\n",
       "      <td>203.4010</td>\n",
       "      <td>0</td>\n",
       "      <td>1.99</td>\n",
       "      <td>0.922</td>\n",
       "      <td>0.0</td>\n",
       "    </tr>\n",
       "    <tr>\n",
       "      <th>2025-06-03 21:00:00</th>\n",
       "      <td>203.3288</td>\n",
       "      <td>203.3400</td>\n",
       "      <td>202.8400</td>\n",
       "      <td>203.1993</td>\n",
       "      <td>11076221.0</td>\n",
       "      <td>203.1383</td>\n",
       "      <td>203.2603</td>\n",
       "      <td>0</td>\n",
       "      <td>1.99</td>\n",
       "      <td>1.062</td>\n",
       "      <td>0.0</td>\n",
       "    </tr>\n",
       "  </tbody>\n",
       "</table>\n",
       "<p>46904 rows × 11 columns</p>\n",
       "</div>"
      ],
      "text/plain": [
       "                         open      high       low     close      volume  \\\n",
       "2025-01-02 13:30:00  250.5906  250.6435  250.5244  250.5753      2259.0   \n",
       "2025-01-02 13:31:00  250.5806  250.6317  250.5121  250.5606      2351.0   \n",
       "2025-01-02 13:32:00  250.5712  250.6200  250.4938  250.5453      2455.0   \n",
       "2025-01-02 13:33:00  250.5580  250.6094  250.4762  250.5347      2474.0   \n",
       "2025-01-02 13:34:00  250.5491  250.5994  250.4600  250.5168      2792.0   \n",
       "...                       ...       ...       ...       ...         ...   \n",
       "2025-06-03 20:56:00  203.2500  203.3500  203.2450  203.3200    189023.0   \n",
       "2025-06-03 20:57:00  203.3200  203.4200  203.3050  203.3800    222383.0   \n",
       "2025-06-03 20:58:00  203.3800  203.4300  203.3322  203.3750    279702.0   \n",
       "2025-06-03 20:59:00  203.3700  203.4100  203.2500  203.3400    724307.0   \n",
       "2025-06-03 21:00:00  203.3288  203.3400  202.8400  203.1993  11076221.0   \n",
       "\n",
       "                          bid       ask  trade_action  StrategyEarning  \\\n",
       "2025-01-02 13:30:00  250.5001  250.6505             0             0.00   \n",
       "2025-01-02 13:31:00  250.4854  250.6358             0             0.00   \n",
       "2025-01-02 13:32:00  250.4701  250.6205             0             0.00   \n",
       "2025-01-02 13:33:00  250.4595  250.6099             0             0.00   \n",
       "2025-01-02 13:34:00  250.4416  250.5919             0             0.00   \n",
       "...                       ...       ...           ...              ...   \n",
       "2025-06-03 20:56:00  203.2590  203.3810             0             1.99   \n",
       "2025-06-03 20:57:00  203.3190  203.4410             0             1.99   \n",
       "2025-06-03 20:58:00  203.3140  203.4360             0             1.99   \n",
       "2025-06-03 20:59:00  203.2790  203.4010             0             1.99   \n",
       "2025-06-03 21:00:00  203.1383  203.2603             0             1.99   \n",
       "\n",
       "                     EarningDiff  signal_smooth_norm  \n",
       "2025-01-02 13:30:00        0.000                 0.0  \n",
       "2025-01-02 13:31:00        0.000                 0.0  \n",
       "2025-01-02 13:32:00        0.000                 0.0  \n",
       "2025-01-02 13:33:00        0.000                 0.0  \n",
       "2025-01-02 13:34:00        0.000                 0.0  \n",
       "...                          ...                 ...  \n",
       "2025-06-03 20:56:00        0.942                 0.0  \n",
       "2025-06-03 20:57:00        0.882                 0.0  \n",
       "2025-06-03 20:58:00        0.887                 0.0  \n",
       "2025-06-03 20:59:00        0.922                 0.0  \n",
       "2025-06-03 21:00:00        1.062                 0.0  \n",
       "\n",
       "[46904 rows x 11 columns]"
      ]
     },
     "execution_count": 4,
     "metadata": {},
     "output_type": "execute_result"
    }
   ],
   "source": [
    "ticker = 'AAPL'\n",
    "\n",
    "df = pd.read_csv(f\"dfs training/merged_{ticker}.csv\", index_col=0, parse_dates=True)\n",
    "df"
   ]
  },
  {
   "cell_type": "code",
   "execution_count": 5,
   "id": "c36dea1e-63f9-4443-998e-08d8f50a5aba",
   "metadata": {},
   "outputs": [],
   "source": [
    "###############################################################################\n",
    "# 0 ·  DATA & PATHS                                                           #\n",
    "###############################################################################\n",
    "label_col      = \"signal_smooth_norm\"\n",
    "\n",
    "feature_cols   = [\"open\", \"high\", \"low\", \"close\", \"volume\"]\n",
    "LOOK_BACK      = 60                                # minutes of history\n",
    "N_FEATS        = len(feature_cols) * LOOK_BACK     # final feature length\n",
    "\n",
    "import datetime as dt\n",
    "rth_start      = dt.time(14, 30)                   # US cash-open in CET/CEST\n",
    "\n",
    "from pathlib import Path\n",
    "save_dir       = Path(\"dfs training\")\n",
    "ckpt_path      = save_dir / f\"best_{ticker}.weights.h5\"   # auto-per‐ticker\n",
    "\n",
    "# dataset split proportions\n",
    "TRAIN_PROP, VAL_PROP = 0.70, 0.15                 # → 0.15 test remainder\n",
    "\n",
    "\n",
    "###############################################################################\n",
    "# 1 ·  MODEL HYPER-PARAMETERS (tuned defaults)                                 #\n",
    "###############################################################################\n",
    "# ── architecture ───────────────────────────────────────────────────────\n",
    "SHORT_UNITS        = 32      # double → better GPU fill, little over-fit risk\n",
    "LONG_UNITS         = 96\n",
    "DROPOUT_SHORT      = 0.20    # applied AFTER the LSTM layer\n",
    "DROPOUT_LONG       = 0.15\n",
    "REC_DROP_SHORT     = 0.0     # MUST be 0.0 for fused kernel\n",
    "REC_DROP_LONG      = 0.0\n",
    "\n",
    "# ── optimiser : cosine-decay-restarts ──────────────────────────────────\n",
    "INITIAL_LR         = 4e-4    # slightly cooler for bigger network\n",
    "FIRST_DECAY_EPOCHS = 3       # first valley arrives early\n",
    "T_MUL              = 2.0\n",
    "M_MUL              = 1.0\n",
    "ALPHA              = 0.05\n",
    "LOSS_FN            = \"mse\"\n",
    "CLIPNORM           = 1.0\n",
    "\n",
    "# ── training control ───────────────────────────────────────────────────\n",
    "TRAIN_BATCH        = 16      # GPU now uses more threads; fits on 8-12 GB\n",
    "VAL_BATCH          = 1\n",
    "MAX_EPOCHS         = 900\n",
    "EARLY_STOP_PATIENCE= 30\n",
    "USE_FP16           = True\n",
    "\n",
    "\n"
   ]
  },
  {
   "cell_type": "code",
   "execution_count": 6,
   "id": "fb51c52b-e3a2-4e8b-b575-58ce0294835e",
   "metadata": {},
   "outputs": [],
   "source": [
    "###############################################################################\n",
    "# build_lstm_tensors                                                          #\n",
    "# --------------------------------------------------------------------------- #\n",
    "# Converts **one big minute-bar DataFrame (many days)** into two leakage-free #\n",
    "# NumPy arrays ready for the stateful LSTM:                                   #\n",
    "#                                                                             #\n",
    "#   X  – design matrix; every row is a 60-min (or `look_back`) window         #\n",
    "#        flattened to 1-D:  (look_back × n_features,)                         #\n",
    "#   y  – the single-step-ahead target corresponding to the *last* row         #\n",
    "#        in that window.                                                      #\n",
    "#                                                                             #\n",
    "# RULES ENFORCED                                                              #\n",
    "# • Windows never cross midnight → yesterday’s RTH info can’t leak into the   #\n",
    "#   first prediction of the new day.                                          #\n",
    "# • The very first RTH window of the day uses ONLY pre-trade minutes.         #\n",
    "# • Features are **standardised per day** (mean-0 / std-1) so levels &        #\n",
    "#   volumes that drift day-to-day don’t leak statistics across sessions.      #\n",
    "# • Output dtype = float32 (GPU-friendly & half the RAM of float64).          #\n",
    "# • Entire routine is vectorised with `np.lib.stride_tricks.sliding_window_view`\n",
    "#   ⇒ no Python loop over 391 minutes → 40× faster than naive for-loops.      #\n",
    "###############################################################################\n",
    "\n",
    "def build_lstm_tensors(\n",
    "    df: pd.DataFrame,\n",
    "    *,\n",
    "    look_back: int,\n",
    "    feature_cols: Sequence[str],\n",
    "    label_col: str,\n",
    "    rth_start: dt.time,                # e.g. 14:30 CET for US equities\n",
    "    flatten: bool = True               # keep 2-D (N, L·F) by default\n",
    ") -> Tuple[np.ndarray, np.ndarray]:\n",
    "    \"\"\"\n",
    "    Parameters\n",
    "    ----------\n",
    "    df : pd.DataFrame\n",
    "        One-minute OHLCV bars **for many calendar days**.  DatetimeIndex\n",
    "        must be tz-aware & strictly increasing (no duplicates).\n",
    "    look_back : int\n",
    "        Size of the sliding window in minutes (e.g. 60).\n",
    "    feature_cols : list[str]\n",
    "        Names of numeric feature columns to feed the network.\n",
    "    label_col : str\n",
    "        Name of the 1-step-ahead target column (already computed).\n",
    "    rth_start : datetime.time\n",
    "        Clock time that marks the first minute of **regular trading hours**.\n",
    "        Every minute whose index.time ≥ rth_start is considered “tradable”.\n",
    "    flatten : bool\n",
    "        • True  →  X rows are 1-D vectors  (L·F,)  → matches our current\n",
    "                   `make_day_dataset` reshape → lighter I/O.\n",
    "        • False →  X rows keep shape  (L, F)     → nicer for exploratory\n",
    "                   notebook charting, but slower to feed into tf.data.\n",
    "\n",
    "    Returns\n",
    "    -------\n",
    "    X : np.ndarray (N, L·F)  *or* (N, L, F)\n",
    "        Design matrix.  N = (#days × intraday minutes) − look_back.\n",
    "    y : np.ndarray (N,)\n",
    "        Targets aligned 1:1 with X rows.\n",
    "    \"\"\"\n",
    "\n",
    "    X_rows, y_rows = [], []                    # collectors\n",
    "\n",
    "    # 1. process *one calendar day* at a time (prevents inter-day leakage)\n",
    "    for date, day_df in df.groupby(df.index.normalize()):\n",
    "\n",
    "        day_df = day_df.sort_index()\n",
    "\n",
    "        # 1-A. per-day standard-scaling of *features*\n",
    "        day_df[feature_cols] = StandardScaler().fit_transform(\n",
    "                                   day_df[feature_cols])\n",
    "\n",
    "        feats_np  = day_df[feature_cols].to_numpy(dtype=np.float32)   # (T, F)\n",
    "        label_np  = day_df[label_col]     .to_numpy(dtype=np.float32) # (T,)\n",
    "\n",
    "        # Boolean mask of rows that belong to regular trading hours\n",
    "        rth_mask = day_df.index.time >= rth_start\n",
    "        if not rth_mask.any():                      # holiday / half-day\n",
    "            continue\n",
    "\n",
    "        T, F = feats_np.shape                      # minute-rows in this day\n",
    "\n",
    "        # 2. build all candidate windows (vectorised)\n",
    "        #\n",
    "        # sliding_window_view gives (T-L+1, L, F)\n",
    "        win_3d = sliding_window_view(\n",
    "                     feats_np,\n",
    "                     (look_back, F),\n",
    "                     axis=(0, 1))[:, 0, :, :]      # squeeze spurious dim\n",
    "\n",
    "        # ── ALIGNMENT FIX ──────────────────────────────────────────────\n",
    "        # win_3d has length  T-look_back+1\n",
    "        # labels available for prediction run from index look_back .. T-1\n",
    "        # → exactly  T-look_back  entries\n",
    "        win_3d   = win_3d[:-1]                    # drop the *last* window\n",
    "        y_aligned = label_np[look_back:]          # (T-L,)\n",
    "\n",
    "        # also trim the RTH mask so it matches the new length\n",
    "        rth_mask_shifted = rth_mask[look_back:]   # (T-L,)\n",
    "\n",
    "        # keep only windows whose **target** timestamp is inside RTH\n",
    "        win_3d   = win_3d[  rth_mask_shifted]\n",
    "        y_aligned = y_aligned[rth_mask_shifted]\n",
    "\n",
    "        # final representation\n",
    "        if flatten:\n",
    "            X_rows.append(win_3d.reshape(win_3d.shape[0], -1))  # (N_d, L·F)\n",
    "        else:\n",
    "            X_rows.append(win_3d)                               # (N_d, L, F)\n",
    "\n",
    "        y_rows.append(y_aligned)\n",
    "\n",
    "    # 3. concatenate across all calendar days\n",
    "    if not X_rows:\n",
    "        raise ValueError(\"No RTH rows found – check rth_start or data gaps.\")\n",
    "\n",
    "    X = np.concatenate(X_rows).astype(np.float32)\n",
    "    y = np.concatenate(y_rows).astype(np.float32)\n",
    "\n",
    "    return X, y\n"
   ]
  },
  {
   "cell_type": "code",
   "execution_count": 7,
   "id": "0136670c-663c-4bf0-85da-7a4187e44eae",
   "metadata": {},
   "outputs": [
    {
     "name": "stdout",
     "output_type": "stream",
     "text": [
      "(40664, 300)\n",
      "(40664,)\n"
     ]
    }
   ],
   "source": [
    "X, y = build_lstm_tensors(df=df,\n",
    "                         look_back=LOOK_BACK,         \n",
    "                         feature_cols=feature_cols,\n",
    "                         label_col=label_col,\n",
    "                         rth_start=rth_start)\n",
    "\n",
    "print(X.shape) # we use 'm' features and 'n' previous look back values to predict each 1 label\n",
    "print(y.shape) # 'n' lookback values * 'n_days_df' (all pretrade values) are deducted from the original df shape"
   ]
  },
  {
   "cell_type": "code",
   "execution_count": 8,
   "id": "bec3a511-a74d-4d60-8cf2-a0a5d37fd43a",
   "metadata": {},
   "outputs": [],
   "source": [
    "###############################################################################\n",
    "# chronological_split  – v2 (vectorised, exhaustively commented)              #\n",
    "# --------------------------------------------------------------------------- #\n",
    "# Converts the *sample–level* tensors (X, y) produced by `build_lstm_tensors` #\n",
    "# into three chronological blocks: train / validation / test.                 #\n",
    "#                                                                             #\n",
    "# HOW IT WORKS                                                                #\n",
    "# 1.  Computes, for every calendar day, **how many windows survived** the     #\n",
    "#     `build_lstm_tensors()` rules.  We do this WITHOUT iterating minute-by-  #\n",
    "#     minute:                                                                 #\n",
    "#           usable_windows = max(0, #RTH_rows  –  look_back)                  #\n",
    "#     because build_lstm_tensors dropped the first `look_back` labels in each #\n",
    "#     day and then kept only those whose TARGET timestamp ∈ RTH.              #\n",
    "#                                                                             #\n",
    "# 2.  Builds a `day_id` vector so each row in X knows from which date it came.#\n",
    "#     This lets downstream tf.data pipelines re-assemble full days.           #\n",
    "#                                                                             #\n",
    "# 3.  Slices X & y purely by **day boundaries** (not sample indices) so all   #\n",
    "#     windows that belong to the same calendar day end up in the same split.  #\n",
    "#                                                                             #\n",
    "# 4.  Returns:                                                                #\n",
    "#     • the three splits (X_tr, y_tr) / (X_val, y_val) / (X_te, y_te)         #\n",
    "#     • `samples_per_day`  – diagnostic array, can drive batch padding sizes  #\n",
    "#     • `day_id_*` vectors  – handy for make_day_dataset()                    #\n",
    "###############################################################################\n",
    "\n",
    "def chronological_split(\n",
    "    X: np.ndarray,\n",
    "    y: np.ndarray,\n",
    "    df: pd.DataFrame,           # same DataFrame used to build X, y\n",
    "    *,\n",
    "    look_back: int,\n",
    "    rth_start: dt.time,\n",
    "    train_prop: float,\n",
    "    val_prop: float,\n",
    ") -> Tuple[\n",
    "        Tuple[np.ndarray, np.ndarray],    # train tensors\n",
    "        Tuple[np.ndarray, np.ndarray],    # val   tensors\n",
    "        Tuple[np.ndarray, np.ndarray],    # test  tensors\n",
    "        List[int],                        # samples_per_day\n",
    "        np.ndarray, np.ndarray, np.ndarray  # day_id train / val / test\n",
    "    ]:\n",
    "    \"\"\"\n",
    "    Splits `X, y` into chronological train/val/test by **whole days**.\n",
    "\n",
    "    Returns\n",
    "    -------\n",
    "    (X_train, y_train), (X_val, y_val), (X_test, y_test)\n",
    "    samples_per_day : list[int]\n",
    "        Number of usable windows contributed by each day.\n",
    "    day_id_tr / day_id_val / day_id_te : np.ndarray\n",
    "        For every sample in each split, which day (0-based) it came from.\n",
    "        These are needed by make_day_dataset() to pad & batch whole days.\n",
    "    \"\"\"\n",
    "\n",
    "    # ──────────────────────────────────────────────────────────────────\n",
    "    # 1. Re-count usable windows per calendar day  (vectorised, exact) #\n",
    "    # ──────────────────────────────────────────────────────────────────\n",
    "    samples_per_day: List[int] = []\n",
    "\n",
    "    for _, day_df in df.groupby(df.index.normalize(), sort=False):\n",
    "        T = len(day_df)                              # minute rows today\n",
    "        idx = np.arange(T)                           # 0 … T-1\n",
    "\n",
    "        mask_window_ready = idx >= look_back         # enough history\n",
    "        mask_rth_target  = day_df.index.time >= rth_start\n",
    "        usable_today     = int(np.count_nonzero(mask_window_ready & mask_rth_target))\n",
    "\n",
    "        samples_per_day.append(usable_today)\n",
    "\n",
    "    # Safety: summed count must equal len(X)\n",
    "    if sum(samples_per_day) != len(X):\n",
    "        raise ValueError(\n",
    "            \"Length mismatch between counted windows and X. \"\n",
    "            \"Ensure look_back & rth_start match build_lstm_tensors().\"\n",
    "        )\n",
    "\n",
    "    # ──────────────────────────────────────────────────────────────────\n",
    "    # 2. Build the day_id vector (one int tag per sample)              #\n",
    "    # ──────────────────────────────────────────────────────────────────\n",
    "    day_id = np.repeat(np.arange(len(samples_per_day)), samples_per_day)\n",
    "\n",
    "    # ──────────────────────────────────────────────────────────────────\n",
    "    # 3. Determine split cut-points in **day space**                   #\n",
    "    # ──────────────────────────────────────────────────────────────────\n",
    "    last_day = len(samples_per_day) - 1\n",
    "    cut_train = int(last_day * train_prop)\n",
    "    cut_val   = int(last_day * (train_prop + val_prop))\n",
    "\n",
    "    mask_tr =  day_id <= cut_train\n",
    "    mask_va = (day_id >  cut_train) & (day_id <= cut_val)\n",
    "    mask_te =  day_id >  cut_val\n",
    "\n",
    "    # ──────────────────────────────────────────────────────────────────\n",
    "    # 4. Slice tensors                                                 #\n",
    "    # ──────────────────────────────────────────────────────────────────\n",
    "    X_tr, y_tr = X[mask_tr], y[mask_tr]\n",
    "    X_va, y_va = X[mask_va], y[mask_va]\n",
    "    X_te, y_te = X[mask_te], y[mask_te]\n",
    "\n",
    "    # ──────────────────────────────────────────────────────────────────\n",
    "    # 5. Return everything                                             #\n",
    "    # ──────────────────────────────────────────────────────────────────\n",
    "    return (X_tr, y_tr), (X_va, y_va), (X_te, y_te), \\\n",
    "           samples_per_day, \\\n",
    "           day_id[mask_tr], day_id[mask_va], day_id[mask_te]\n"
   ]
  },
  {
   "cell_type": "code",
   "execution_count": 9,
   "id": "8342cc3b-5a9a-4a4e-a23c-24bdbc2543b7",
   "metadata": {},
   "outputs": [
    {
     "name": "stdout",
     "output_type": "stream",
     "text": [
      "Training days kept : 64  (multiple of 16)\n",
      "Validation days    : 15\n",
      "Test days          : 16\n"
     ]
    }
   ],
   "source": [
    "# call the splitter  ─────────────────────────────────────────────\n",
    "(X_tr, y_tr), (X_val, y_val), (X_te, y_te), samples_per_day, \\\n",
    "day_id_tr, day_id_val, day_id_te = chronological_split(\n",
    "        X, y, df,\n",
    "        look_back=LOOK_BACK,\n",
    "        rth_start=rth_start,\n",
    "        train_prop=TRAIN_PROP,\n",
    "        val_prop=VAL_PROP\n",
    ")\n",
    "\n",
    "# ─── NEW: force train days to k·32 so no remainder is ever dropped ───────\n",
    "unique_days_tr = np.unique(day_id_tr)\n",
    "n_train_days   = len(unique_days_tr)\n",
    "keep_days      = (n_train_days // TRAIN_BATCH) * TRAIN_BATCH     # largest multiple\n",
    "days_to_keep   = set(unique_days_tr[:keep_days])                 # earliest days\n",
    "train_keep_mask = np.isin(day_id_tr, list(days_to_keep))\n",
    "\n",
    "# slice again, but only on train tensors\n",
    "X_tr  = X_tr[train_keep_mask]\n",
    "y_tr  = y_tr[train_keep_mask]\n",
    "day_id_tr = day_id_tr[train_keep_mask]\n",
    "\n",
    "print(f\"Training days kept : {keep_days}  (multiple of {TRAIN_BATCH})\")\n",
    "print(f\"Validation days    : {len(np.unique(day_id_val))}\")\n",
    "print(f\"Test days          : {len(np.unique(day_id_te))}\")\n"
   ]
  },
  {
   "cell_type": "code",
   "execution_count": 10,
   "id": "5c61e236-6dd0-4161-b5cf-e0670d90974e",
   "metadata": {},
   "outputs": [],
   "source": [
    "###############################################################################\n",
    "# make_day_dataset  (weekday-safe, glare-free)                            #\n",
    "# --------------------------------------------------------------------------- #\n",
    "# PURPOSE                                                                     #\n",
    "# Take minute-level samples X, y (already leakage-free) and yield **exactly   #\n",
    "# ONE `tf.data` element per calendar day**.                                   #\n",
    "# Each element carries:                                                       #\n",
    "#      x_day   (1 , T , n_feats)  – the whole RTH session                     #\n",
    "#      y_day   (1 , T)            – its labels                                #\n",
    "#      weekday scalar int32       – 0=Mon … 6=Sun (from the REAL calendar)    #\n",
    "# The weekday is later used by the training loop to decide when to reset the  #\n",
    "# “long” LSTM state (only on week-end).                                       #\n",
    "#                                                                             #\n",
    "# DESIGN NOTES                                                                #\n",
    "# •  The function stays NumPy-vectorised; only ~1 000 generator yields per    #\n",
    "#    epoch, so Python overhead is negligible.                                 #\n",
    "# •  No dependency on the original DataFrame – we pass `weekday_vec` that     #\n",
    "#    came straight from the DatetimeIndex.                                    #\n",
    "###############################################################################\n",
    "\n",
    "def make_day_dataset(\n",
    "    X           : np.ndarray,          # (N , …)\n",
    "    y           : np.ndarray,          # (N ,)\n",
    "    day_id      : np.ndarray,          # (N ,)  strictly ascending\n",
    "    weekday_vec : np.ndarray,          # (N ,)  real weekday of every row\n",
    ") -> tf.data.Dataset:\n",
    "    \"\"\"\n",
    "    Returns\n",
    "    -------\n",
    "    tf.data.Dataset\n",
    "        element = (x_day, y_day, weekday)\n",
    "        x_day : (1 , T , n_feats)  float32\n",
    "        y_day : (1 , T)            float32\n",
    "        weekday : () int32\n",
    "    \"\"\"\n",
    "\n",
    "    # ── 1. Chronological safety – keep everything sorted the same way ─────\n",
    "    idx = np.argsort(day_id, kind=\"stable\")\n",
    "    X, y, day_id, weekday_vec = [a[idx] for a in (X, y, day_id, weekday_vec)]\n",
    "\n",
    "    # ── 2. Build slices for each distinct day_id (vectorised) ─────────────\n",
    "    change      = np.where(np.diff(day_id) != 0)[0] + 1      # breakpoints\n",
    "    day_slices  = np.split(np.arange(len(day_id)), change)   # list[np.ndarray]\n",
    "\n",
    "    # ── 3. Python generator : ONE yield == one calendar day ───────────────\n",
    "    def gen():\n",
    "        for sl in day_slices:\n",
    "            x_block = X[sl]                        # (T , …)\n",
    "            y_block = y[sl]                        # (T ,)\n",
    "            weekday = int(weekday_vec[sl[0]])      # real weekday, 0–6\n",
    "\n",
    "            # add batch dimension expected by stateful LSTM\n",
    "            yield (\n",
    "                np.expand_dims(x_block, 0).astype(np.float32),  # (1 , T , …)\n",
    "                np.expand_dims(y_block, 0).astype(np.float32),  # (1 , T)\n",
    "                np.int32(weekday),\n",
    "            )\n",
    "\n",
    "    # ── 4. Static signature (time axis None → variable length) ────────────\n",
    "    feat_shape = X.shape[1:]                                   # supports (L·F) or (L, F)\n",
    "    output_signature = (\n",
    "        tf.TensorSpec((1, None, *feat_shape), tf.float32),      # x_day\n",
    "        tf.TensorSpec((1, None),              tf.float32),      # y_day\n",
    "        tf.TensorSpec((),                    tf.int32),         # weekday\n",
    "    )\n",
    "\n",
    "    return (\n",
    "        tf.data.Dataset.from_generator(gen, output_signature=output_signature)\n",
    "          .prefetch(tf.data.AUTOTUNE)        # overlaps CPU ↔ GPU copies\n",
    "    )\n"
   ]
  },
  {
   "cell_type": "code",
   "execution_count": 11,
   "id": "1a7be751-08ca-4729-ae75-6b06745cf260",
   "metadata": {},
   "outputs": [],
   "source": [
    "###############################################################################\n",
    "# split_to_day_datasets  –  zero-copy, minimal arguments                     #\n",
    "###############################################################################\n",
    "# One call returns three ready-to-feed pipelines:\n",
    "#   ds_train_batched   → (TRAIN_BATCH , T_max , n_feats) per step\n",
    "#   ds_val_unbatched   → (1  , T ,    n_feats) per step\n",
    "#   ds_test_unbatched  → idem  (optional)\n",
    "###############################################################################\n",
    "\n",
    "def split_to_day_datasets(\n",
    "        X_tr,  y_tr,  day_id_tr,\n",
    "        X_val, y_val, day_id_val,\n",
    "        X_te,  y_te,  day_id_te,\n",
    "        *,\n",
    "        df,                 # full DataFrame (for weekday lookup)\n",
    "        train_batch: int\n",
    ") -> Tuple[tf.data.Dataset, tf.data.Dataset, tf.data.Dataset]:\n",
    "    \"\"\"\n",
    "    Parameters\n",
    "    ----------\n",
    "    X_tr , y_tr , day_id_tr  : np.ndarray  – chronological, no gaps\n",
    "    X_val, y_val, day_id_val : np.ndarray\n",
    "    X_te , y_te , day_id_te  : np.ndarray\n",
    "    df                       : original DataFrame used to build X/y\n",
    "    train_batch              : how many days per “fat” training batch\n",
    "\n",
    "    Returns\n",
    "    -------\n",
    "    ds_train_batched , ds_val_unbatched , ds_test_unbatched\n",
    "    \"\"\"\n",
    "\n",
    "    # ── 1. Build one weekday vector covering ALL samples ──────────────────\n",
    "    weekday_all = df.index.dayofweek.to_numpy(dtype=np.int8)   # (N,)\n",
    "\n",
    "    # Because X_tr, X_val, X_te are sequential slices, we can split by length\n",
    "    n_tr  = len(X_tr)\n",
    "    n_val = len(X_val)\n",
    "    n_te  = len(X_te)\n",
    "\n",
    "    weekday_vec_tr  = weekday_all[:n_tr]\n",
    "    weekday_vec_val = weekday_all[n_tr : n_tr + n_val]\n",
    "    weekday_vec_te  = weekday_all[n_tr + n_val : n_tr + n_val + n_te]\n",
    "\n",
    "    # ── 2. Convert each split to “one day → one element” datasets ─────────\n",
    "    ds_tr   = make_day_dataset(X_tr,  y_tr,  day_id_tr,  weekday_vec_tr)\n",
    "    ds_val  = make_day_dataset(X_val, y_val, day_id_val, weekday_vec_val)\n",
    "    ds_test = make_day_dataset(X_te,  y_te,  day_id_te,  weekday_vec_te)\n",
    "\n",
    "    # ── 3. TRAIN pipeline – strip batch-1 dim, pad to fixed length ───────\n",
    "    def _strip(x_day, y_day, wd):\n",
    "        return tf.squeeze(x_day, 0), tf.squeeze(y_day, 0), wd   # (T , …)\n",
    "\n",
    "    ds_train_batched = (\n",
    "        ds_tr\n",
    "          .map(_strip, num_parallel_calls=tf.data.AUTOTUNE)\n",
    "          .padded_batch(train_batch, drop_remainder=True)\n",
    "          .prefetch(tf.data.AUTOTUNE)\n",
    "    )\n",
    "\n",
    "    # ── 4. Return ready-to-feed pipelines ────────────────────────────────\n",
    "    return ds_train_batched, ds_val, ds_test\n"
   ]
  },
  {
   "cell_type": "code",
   "execution_count": 12,
   "id": "bf385a70-6c36-423a-9398-2d4e0d40849f",
   "metadata": {},
   "outputs": [
    {
     "name": "stderr",
     "output_type": "stream",
     "text": [
      "I0000 00:00:1750272357.539869    1802 gpu_device.cc:2019] Created device /job:localhost/replica:0/task:0/device:GPU:0 with 6096 MB memory:  -> device: 0, name: NVIDIA GeForce RTX 2070 with Max-Q Design, pci bus id: 0000:01:00.0, compute capability: 7.5\n"
     ]
    }
   ],
   "source": [
    "ds_train_batched, ds_val_unbatched, ds_test_unbatched = split_to_day_datasets(\n",
    "        X_tr, y_tr, day_id_tr,\n",
    "        X_val, y_val, day_id_val,\n",
    "        X_te, y_te, day_id_te,\n",
    "        df=df,\n",
    "        train_batch=TRAIN_BATCH)"
   ]
  },
  {
   "cell_type": "code",
   "execution_count": 13,
   "id": "c042e82e-3475-4107-bec3-7c11c873e5d6",
   "metadata": {},
   "outputs": [
    {
     "data": {
      "text/plain": [
       "'\\n                       (inference / trading time)\\n\\n┌──────────────────────────────────────────────────────────────────────────┐\\n│ ❶  NETWORK  WEIGHTS  θ  – learned across all history, fixed at runtime   │\\n└──────────────────────────────────────────────────────────────────────────┘\\n        │\\n        ▼\\n┌──────────────────────────────────────────────────────────────────────────┐\\n│ ❷  CELL STATE  cₜ  – slow integrator covering the *whole* current day    │\\n│    • retains early-morning context                                       │\\n│    • reset_states()  at every midnight → zero on next session            │\\n└──────────────────────────────────────────────────────────────────────────┘\\n        │\\n        ▼\\n┌──────────────────────────────────────────────────────────────────────────┐\\n│ ❸  HIDDEN STATE  hₜ  – fast dynamics (a few bars)                        │\\n│    • captures spikes / micro-structure                                   │\\n│    • reset together with cₜ midnight                                     │\\n└──────────────────────────────────────────────────────────────────────────┘\\n        │\\n        ▼\\n┌──────────────────────────────────────────────────────────────────────────┐\\n│ ❹  INPUT WINDOW  xₜ  – last 60 minutes of raw features                   │\\n│    • first RTH prediction uses 60 *pre-trade* minutes only               │\\n│    • later predictions mix pre-trade + today’s RTH, never yesterday RTH  │\\n└──────────────────────────────────────────────────────────────────────────┘\\n        │\\n        ▼\\n                        Predicted signal ŷₜ\\n\\n\\nDay i                               Day i+1\\n|────────────┬──────────────┬───…──┬────────┐\\n08:00        09:30        16:00   08:00    09:30\\npre-trade       RTH                pre-trade  RTH\\ncₜ,hₜ: 0 → accumulate → reset_states() → 0 → accumulate\\n\\n\\n'"
      ]
     },
     "execution_count": 13,
     "metadata": {},
     "output_type": "execute_result"
    }
   ],
   "source": [
    "'''\n",
    "                       (inference / trading time)\n",
    "\n",
    "┌──────────────────────────────────────────────────────────────────────────┐\n",
    "│ ❶  NETWORK  WEIGHTS  θ  – learned across all history, fixed at runtime   │\n",
    "└──────────────────────────────────────────────────────────────────────────┘\n",
    "        │\n",
    "        ▼\n",
    "┌──────────────────────────────────────────────────────────────────────────┐\n",
    "│ ❷  CELL STATE  cₜ  – slow integrator covering the *whole* current day    │\n",
    "│    • retains early-morning context                                       │\n",
    "│    • reset_states()  at every midnight → zero on next session            │\n",
    "└──────────────────────────────────────────────────────────────────────────┘\n",
    "        │\n",
    "        ▼\n",
    "┌──────────────────────────────────────────────────────────────────────────┐\n",
    "│ ❸  HIDDEN STATE  hₜ  – fast dynamics (a few bars)                        │\n",
    "│    • captures spikes / micro-structure                                   │\n",
    "│    • reset together with cₜ midnight                                     │\n",
    "└──────────────────────────────────────────────────────────────────────────┘\n",
    "        │\n",
    "        ▼\n",
    "┌──────────────────────────────────────────────────────────────────────────┐\n",
    "│ ❹  INPUT WINDOW  xₜ  – last 60 minutes of raw features                   │\n",
    "│    • first RTH prediction uses 60 *pre-trade* minutes only               │\n",
    "│    • later predictions mix pre-trade + today’s RTH, never yesterday RTH  │\n",
    "└──────────────────────────────────────────────────────────────────────────┘\n",
    "        │\n",
    "        ▼\n",
    "                        Predicted signal ŷₜ\n",
    "\n",
    "\n",
    "Day i                               Day i+1\n",
    "|────────────┬──────────────┬───…──┬────────┐\n",
    "08:00        09:30        16:00   08:00    09:30\n",
    "pre-trade       RTH                pre-trade  RTH\n",
    "cₜ,hₜ: 0 → accumulate → reset_states() → 0 → accumulate\n",
    "\n",
    "\n",
    "'''"
   ]
  },
  {
   "cell_type": "code",
   "execution_count": 14,
   "id": "fe6c6f36-49ec-4ed7-9703-4b86914c7d2b",
   "metadata": {},
   "outputs": [],
   "source": [
    "###############################################################################\n",
    "# build_stateful_lstm_dual                                                    #\n",
    "# --------------------------------------------------------------------------- #\n",
    "# Creates a two-tier stateful network:                                        #\n",
    "#   • Layer 0  “short_lstm”  (SHORT_UNITS units)  → quick dynamics, daily reset        #\n",
    "#   • Layer 1  “long_lstm”   (LONG_UNITS units)  → slow drift, weekly reset           #\n",
    "#                                                                             #\n",
    "# You decide what “week” means by calling reset_states() on long_lstm         #\n",
    "# whenever your outer loop hits Saturday close or Sunday 00:00.               #\n",
    "###############################################################################\n",
    "\n",
    "\n",
    "def build_stateful_lstm_dual(\n",
    "        *,\n",
    "        n_feats: int,\n",
    "        batch_size: int,\n",
    "\n",
    "        # architecture\n",
    "        short_units: int,\n",
    "        long_units:  int,\n",
    "        dropout_short:    float,\n",
    "        dropout_long:     float,\n",
    "        rec_drop_short:   float,\n",
    "        rec_drop_long:    float,\n",
    "\n",
    "        # optimiser schedule\n",
    "        initial_lr:       float,\n",
    "        first_decay_steps:int,     # *absolute* #gradient steps\n",
    "        t_mul:   float,\n",
    "        m_mul:   float,\n",
    "        alpha:   float,\n",
    "\n",
    "        # misc\n",
    "        loss:            str,\n",
    "        clipnorm:        float,\n",
    "        use_mixed_fp16:  bool\n",
    ") -> tf.keras.Model:\n",
    "    \"\"\"\n",
    "    Returns a compiled two-tier LSTM (daily + weekly memory).\n",
    "    Pass *absolute* `first_decay_steps` (in gradient updates, not epochs).\n",
    "    \"\"\"\n",
    "\n",
    "    # ── 1 · optional mixed-precision context ────────────────────────────\n",
    "    prev_policy = mixed_precision.global_policy().name\n",
    "    if use_mixed_fp16 and prev_policy != \"mixed_float16\":\n",
    "        mixed_precision.set_global_policy(\"mixed_float16\")\n",
    "\n",
    "    # ── 2 · network definition ─────────────────────────────────────────\n",
    "    inp = layers.Input(batch_shape=(batch_size, None, n_feats), name=\"inp\")\n",
    "\n",
    "    x = layers.LSTM(short_units,\n",
    "                    stateful=True,\n",
    "                    return_sequences=True,\n",
    "                    dropout=0, #dropout_short,\n",
    "                    recurrent_dropout=0, #rec_drop_short,\n",
    "                    kernel_initializer=\"orthogonal\",\n",
    "                    name=\"short_lstm\")(inp)\n",
    "    x = layers.Dropout(dropout_short)(x)\n",
    "    x = layers.LayerNormalization(name=\"ln_short\")(x)\n",
    "\n",
    "    x = layers.LSTM(long_units,\n",
    "                    stateful=True,\n",
    "                    return_sequences=True,\n",
    "                    dropout=0, #dropout_long,\n",
    "                    recurrent_dropout=0, #rec_drop_long,\n",
    "                    kernel_initializer=\"orthogonal\",\n",
    "                    name=\"long_lstm\")(x)\n",
    "    x = layers.Dropout(dropout_long)(x)\n",
    "    x = layers.LayerNormalization(name=\"ln_long\")(x)\n",
    "\n",
    "    out = layers.TimeDistributed(layers.Dense(1), name=\"pred\")(x)\n",
    "    model = models.Model(inp, out, name=\"dual_mem_lstm\")\n",
    "\n",
    "    # ── 3 · optimiser & schedule ───────────────────────────────────────\n",
    "    lr_sched = tf.keras.optimizers.schedules.CosineDecayRestarts(\n",
    "        initial_learning_rate = initial_lr,\n",
    "        first_decay_steps     = first_decay_steps,\n",
    "        t_mul                 = t_mul,\n",
    "        m_mul                 = m_mul,\n",
    "        alpha                 = alpha\n",
    "    )\n",
    "    opt = optimizers.Adam(learning_rate=lr_sched, clipnorm=clipnorm)\n",
    "    model.compile(optimizer=opt,\n",
    "                  loss      = loss,\n",
    "                  metrics   =[metrics.RootMeanSquaredError(name=\"rmse\")])\n",
    "\n",
    "    # ── 4 · restore dtype policy outside mixed-FP16 scope ──────────────\n",
    "    if mixed_precision.global_policy().name != prev_policy:\n",
    "        mixed_precision.set_global_policy(prev_policy)\n",
    "\n",
    "    return model\n"
   ]
  },
  {
   "cell_type": "code",
   "execution_count": 15,
   "id": "8f775d99-7204-4ba7-bbaf-28bcabf11a68",
   "metadata": {},
   "outputs": [],
   "source": [
    "###############################################################################\n",
    "# BUILD THE TWO STATEFUL COPIES                                          #\n",
    "###############################################################################\n",
    "# fast FP16 train graph\n",
    "model_train = build_stateful_lstm_dual(\n",
    "    n_feats           = N_FEATS,\n",
    "    batch_size        = TRAIN_BATCH,\n",
    "    short_units       = SHORT_UNITS,\n",
    "    long_units        = LONG_UNITS,\n",
    "    dropout_short     = DROPOUT_SHORT,\n",
    "    dropout_long      = DROPOUT_LONG,\n",
    "    rec_drop_short    = REC_DROP_SHORT,\n",
    "    rec_drop_long     = REC_DROP_LONG,\n",
    "    initial_lr        = INITIAL_LR,\n",
    "    first_decay_steps = FIRST_DECAY_EPOCHS,\n",
    "    t_mul             = T_MUL,\n",
    "    m_mul             = M_MUL,\n",
    "    alpha             = ALPHA,\n",
    "    loss              = LOSS_FN,\n",
    "    clipnorm          = CLIPNORM,\n",
    "    use_mixed_fp16    = USE_FP16)\n",
    "\n",
    "#  plain FP32 validation / inference graph\n",
    "model_val = build_stateful_lstm_dual(\n",
    "    n_feats           = N_FEATS,\n",
    "    batch_size        = VAL_BATCH,      # always 1 for day-by-day eval\n",
    "    short_units       = SHORT_UNITS,\n",
    "    long_units        = LONG_UNITS,\n",
    "    dropout_short     = DROPOUT_SHORT,\n",
    "    dropout_long      = DROPOUT_LONG,\n",
    "    rec_drop_short    = REC_DROP_SHORT,\n",
    "    rec_drop_long     = REC_DROP_LONG,\n",
    "    initial_lr        = INITIAL_LR,     # same schedule object → harmless\n",
    "    first_decay_steps = FIRST_DECAY_EPOCHS,\n",
    "    t_mul             = T_MUL,\n",
    "    m_mul             = M_MUL,\n",
    "    alpha             = ALPHA,\n",
    "    loss              = LOSS_FN,\n",
    "    clipnorm          = CLIPNORM,\n",
    "    use_mixed_fp16    = False)          # pure FP32 for numerical fidelity\n"
   ]
  },
  {
   "cell_type": "code",
   "execution_count": 16,
   "id": "809c6a21-d4d1-4849-8a40-ed1f4a2fb47f",
   "metadata": {},
   "outputs": [],
   "source": [
    "###############################################################################\n",
    "# LiveRMSEPlot  ▸  INLINE- & WIDGET-SAFE, SINGLE FIGURE                       #\n",
    "###############################################################################\n",
    "\n",
    "class LiveRMSEPlot:\n",
    "    \"\"\"\n",
    "    Blue  = train RMSE   (line + latest-dot)\n",
    "    Orange= val   RMSE   (line + latest-dot)\n",
    "    Works with `%matplotlib inline`, `%matplotlib widget`, `%matplotlib notebook`\n",
    "    without spawning a new image every epoch.\n",
    "    \"\"\"\n",
    "\n",
    "    def __init__(self):\n",
    "        self.backend = matplotlib.get_backend().lower()\n",
    "        self._build_figure()\n",
    "        # display once and keep display_id so we can overwrite instead of spawn\n",
    "        self.disp_id = display(self.fig, display_id=True)\n",
    "\n",
    "        self.e, self.tr, self.va = [], [], []      # epoch → metric history\n",
    "\n",
    "    # ------------------------------------------------------------------ #\n",
    "    def _build_figure(self):\n",
    "        self.fig, self.ax = plt.subplots(figsize=(6, 4), dpi=110)\n",
    "        self.ax.set(xlabel=\"epoch\", ylabel=\"RMSE\", title=\"Training progress\")\n",
    "        self.ax.grid(True)\n",
    "\n",
    "        (self.tr_line,) = self.ax.plot([], [], c=\"#1f77b4\", lw=1.5)\n",
    "        (self.va_line,) = self.ax.plot([], [], c=\"#ff7f0e\", lw=1.5)\n",
    "        self.tr_dot = self.ax.scatter([], [], c=\"#1f77b4\", s=30)\n",
    "        self.va_dot = self.ax.scatter([], [], c=\"#ff7f0e\", s=30)\n",
    "        self.ax.legend([\"train\", \"val\"])\n",
    "\n",
    "    # ------------------------------------------------------------------ #\n",
    "    def update(self, train_rmse: float, val_rmse: float):\n",
    "        # 1. append data\n",
    "        self.e.append(len(self.e) + 1)\n",
    "        self.tr.append(train_rmse)\n",
    "        self.va.append(val_rmse)\n",
    "\n",
    "        # 2. update lines\n",
    "        self.tr_line.set_data(self.e, self.tr)\n",
    "        finite = np.isfinite(self.va)\n",
    "        self.va_line.set_data(np.asarray(self.e)[finite],\n",
    "                              np.asarray(self.va)[finite])\n",
    "\n",
    "        # 3. update latest dots\n",
    "        self.tr_dot.set_offsets([[self.e[-1], self.tr[-1]]])\n",
    "        if np.isfinite(self.va[-1]):\n",
    "            self.va_dot.set_offsets([[self.e[-1], self.va[-1]]])\n",
    "        else:\n",
    "            self.va_dot.set_offsets([])            # hide dot if NaN\n",
    "\n",
    "        # 4. rescale axes\n",
    "        self.ax.relim();  self.ax.autoscale_view()\n",
    "\n",
    "        # 5. redraw WITHOUT spawning new figure\n",
    "        if \"widget\" in self.backend or \"ipympl\" in self.backend:\n",
    "            self.fig.canvas.draw_idle()\n",
    "        else:                                       # inline / notebook png\n",
    "            self.fig.canvas.draw()\n",
    "            self.disp_id.update(self.fig)           # overwrite same output\n"
   ]
  },
  {
   "cell_type": "code",
   "execution_count": 17,
   "id": "a851b9b0-4986-4952-b62f-4b0760ae2d29",
   "metadata": {},
   "outputs": [],
   "source": [
    "###############################################################################\n",
    "# custom_stateful_training_loop                                               #\n",
    "# --------------------------------------------------------------------------- #\n",
    "#  WHAT THIS ROUTINE DOES END-TO-END                                         #\n",
    "#  • Trains a **dual-memory, stateful** LSTM that ingests entire trading     #\n",
    "#    days (or fat-batches of 32 days) in one go.                             #\n",
    "#  • Two stacked layers:                                                     #\n",
    "#        short_lstm – intraday memory  → reset at the **start of every day** #\n",
    "#        long_lstm  – multi-day memory → reset only once per **week-end**    #\n",
    "#  • Works with three tf.data streams:                                       #\n",
    "#        – TRAIN  : (32 , T_max , F)  padded batches,     FP16, CuDNN        #\n",
    "#        – VAL/TE : (1  , T      , F)  unbatched per day, FP32               #\n",
    "#  • Displays one persistent tqdm bar that counts *calendar days* so users   #\n",
    "#    see meaningful progress.                                                #\n",
    "#  • LiveRMSEPlot() drops a train / val RMSE dot after every epoch.          #\n",
    "#  • **Early stopping** on stagnant val-RMSE; the learning-rate is governed  #\n",
    "#    entirely by the **Cosine-Decay-Restarts** schedule baked into the model #\n",
    "#                                                                             #\n",
    "#  SPEED / STABILITY DECISIONS                                               #\n",
    "#  ────────────────────────────────────────────────────────────────────────── #\n",
    "#  • Uses CuDNN-fused LSTM kernels (fastest path)  ➜  therefore the loop is  #\n",
    "#    compiled in graph mode **without** `jit_compile=True` (XLA + CuDNN      #\n",
    "#    RNNs remains unsupported).                                              #\n",
    "#  • Mixed precision ON: float16 activations + float32 weights deliver about #\n",
    "#    2× lower GPU memory use and ~1.5× speed-up during back-prop.            #\n",
    "#  • Gradient clipping (`clipnorm = 1.0`) avoids FP16 blow-ups.              #\n",
    "###############################################################################\n",
    "\n",
    "\n",
    "# ─────────────────────────────────────────────────────────────────────────────\n",
    "#  low-level helper  (unchanged)\n",
    "# ─────────────────────────────────────────────────────────────────────────────\n",
    "@tf.function\n",
    "def _train_step(xb, yb, model, loss_fn, opt):\n",
    "    with tf.GradientTape() as tape:\n",
    "        y_pred = tf.cast(model(xb, training=True), tf.float32)\n",
    "        loss   = loss_fn(yb, y_pred)\n",
    "    grads = tape.gradient(loss, model.trainable_weights)\n",
    "    opt.apply_gradients(zip(grads, model.trainable_weights))\n",
    "    return tf.sqrt(loss)           # RMSE\n",
    "\n",
    "\n",
    "def current_lr_from(opt: tf.keras.optimizers.Optimizer) -> float:\n",
    "    \"\"\"\n",
    "    Return the *scalar* learning-rate, regardless of whether `opt` is\n",
    "    • a normal optimizer,\n",
    "    • wrapped by LossScaleOptimizer (mixed-precision),\n",
    "    • driven by a LearningRateSchedule.\n",
    "    \"\"\"\n",
    "    # 1 ─ unwrap if mixed-precision\n",
    "    if isinstance(opt, LossScaleOptimizer):\n",
    "        opt = opt.inner_optimizer       # (older TF: opt._optimizer)\n",
    "\n",
    "    # 2 ─ constant vs. schedule\n",
    "    lr = opt.learning_rate\n",
    "    if isinstance(lr, LearningRateSchedule):\n",
    "        return float(lr(opt.iterations))\n",
    "    else:                               # tf.Variable or Python float\n",
    "        return float(tf.keras.backend.get_value(lr))\n",
    "\n",
    "\n",
    "def custom_stateful_training_loop(\n",
    "    model_train,\n",
    "    model_val,\n",
    "    ds_train_batched,                    # (32 day , T_max , F)\n",
    "    ds_val,                              # (1  day , T     , F)\n",
    "    *,\n",
    "    n_train_days: int,                   # concrete # calendar days / epoch\n",
    "    max_epochs: int,\n",
    "    early_stop_patience: int,\n",
    "    baseline_val_rmse: float,   \n",
    "    ckpt_path) -> float:\n",
    "\n",
    "    \"\"\"\n",
    "    Fast GPU-optimal loop:\n",
    "      • CuDNN fused LSTM kernels (mixed-precision, no XLA)\n",
    "      • One fat-batch = 32 calendar days\n",
    "      • Outer tqdm bar counts days; no inner bars, no fancy prints\n",
    "    Returns the best validation RMSE.\n",
    "    \"\"\"\n",
    "\n",
    "    # ------------------------------------------------------------------ #\n",
    "    loss_fn   = tf.keras.losses.MeanSquaredError()\n",
    "    opt       = model_train.optimizer\n",
    "    opt.clipnorm = 1.0                                   # FP16 stability\n",
    "    live_plot = LiveRMSEPlot()                           # tiny matplotlib helper\n",
    "\n",
    "    # quick handles to stateful layers for manual resets\n",
    "    short_tr  = [l for l in model_train.layers if l.name == \"short_lstm\"]\n",
    "    long_tr   = [l for l in model_train.layers if l.name == \"long_lstm\"]\n",
    "    short_val = [l for l in model_val.layers   if l.name == \"short_lstm\"]\n",
    "    long_val  = [l for l in model_val.layers   if l.name == \"long_lstm\"]\n",
    "\n",
    "    best_val_rmse, patience_ctr = math.inf, 0\n",
    "    \n",
    "    # ============================================================================\n",
    "    # E P O C H   L O O P\n",
    "    # ─────────────────────────────────────────────────────────────────────────────\n",
    "    # • Outer loop = epoch\n",
    "    # • One epoch = all training days once + full validation pass\n",
    "    # • A tqdm bar counts calendar-days during TRAIN; we keep the bar visible\n",
    "    #   until the epoch summary is printed, then we close it (leave=False)\n",
    "    # ============================================================================\n",
    "    \n",
    "    for epoch in range(1, max_epochs + 1):\n",
    "    \n",
    "        # ─────────────────────────────────────────────────────────────────────\n",
    "        # 0 ▸ PROGRESS-BAR  – one tick == one calendar day\n",
    "        #   leave=False  ➜  the bar line is cleared when .close() is called\n",
    "        #   We create it *before* TRAIN starts and close it *after* we print\n",
    "        #   the epoch-level metrics, so the user always sees 100 % + numbers.\n",
    "        # ─────────────────────────────────────────────────────────────────────\n",
    "        pbar = tqdm(total=n_train_days,\n",
    "                    desc=f\"Epoch {epoch:03d}\",\n",
    "                    unit=\"day\",\n",
    "                    dynamic_ncols=True,\n",
    "                    ncols=80,\n",
    "                    leave=False)\n",
    "    \n",
    "        # ─────────────────────────────────────────────────────────────────────\n",
    "        # 1 ▸ TRAIN PHASE\n",
    "        #   • Iterate over fat batches (TRAIN_BATCH calendar days each)\n",
    "        #   • Manual state resets (daily + weekend)\n",
    "        #   • Single CuDNN kernel per batch for max throughput\n",
    "        #   • Progress-bar advances +TRAIN_BATCH ticks at once\n",
    "        # ─────────────────────────────────────────────────────────────────────\n",
    "        batch_rmses, prev_wd_train = [], None\n",
    "    \n",
    "        for xb, yb, wd_batch in ds_train_batched:                # xb.shape[0] == TRAIN_BATCH\n",
    "            # 1.1  DAILY reset  – short-term tier\n",
    "            for lyr in short_tr:\n",
    "                lyr.reset_states()\n",
    "    \n",
    "            # 1.2  WEEKEND reset – long-term tier (detect Fri→Mon wrap-around)\n",
    "            first_wd = int(wd_batch[0])\n",
    "            if prev_wd_train is not None and first_wd < prev_wd_train:\n",
    "                for lyr in long_tr:\n",
    "                    lyr.reset_states()\n",
    "            prev_wd_train = int(wd_batch[-1])\n",
    "    \n",
    "            # 1.3  FORWARD + BACKWARD  (CuDNN fused kernel, FP16 inside)\n",
    "            rmse = _train_step(xb, yb, model_train, loss_fn, opt)\n",
    "            batch_rmses.append(float(rmse))\n",
    "    \n",
    "            # 1.4  PROGRESS-BAR  – jump +TRAIN_BATCH calendar-day ticks\n",
    "            pbar.update(int(xb.shape[0]))                        # +TRAIN_BATCH\n",
    "    \n",
    "        epoch_train = float(np.mean(batch_rmses))                # TRAIN metric\n",
    "    \n",
    "        # ─────────────────────────────────────────────────────────────────────\n",
    "        # 2 ▸ VALIDATION  – pure FP32 forward pass, batch_size = 1 (one day)\n",
    "        #   • Copy weights from train-graph to val-graph\n",
    "        #   • Same state-reset logic as train-graph\n",
    "        # ─────────────────────────────────────────────────────────────────────\n",
    "        model_val.set_weights(model_train.get_weights())         # sync FP32 twin\n",
    "        val_rmses, prev_wd_val = [], None\n",
    "    \n",
    "        for x_day, y_day, wd in ds_val:\n",
    "            wd = int(wd)\n",
    "    \n",
    "            # 2.1  DAILY reset  – short-term tier\n",
    "            for lyr in short_val:\n",
    "                lyr.reset_states()\n",
    "    \n",
    "            # 2.2  WEEKEND reset – long-term tier\n",
    "            if prev_wd_val is not None and wd < prev_wd_val:\n",
    "                for lyr in long_val:\n",
    "                    lyr.reset_states()\n",
    "            prev_wd_val = wd\n",
    "    \n",
    "            # 2.3  FORWARD-ONLY\n",
    "            y_pred = model_val(x_day, training=False)\n",
    "            y_pred = tf.cast(tf.squeeze(y_pred, (0, 2)), tf.float32)\n",
    "            y_true = tf.cast(tf.reshape(y_day, [-1]),  tf.float32)\n",
    "            val_rmses.append(float(tf.sqrt(tf.reduce_mean(tf.square(y_true - y_pred)))))\n",
    "    \n",
    "        epoch_val = float(np.mean(val_rmses))                    # VAL metric\n",
    "        impr_pct  = 100.0 * (1.0 - epoch_val / baseline_val_rmse)\n",
    "\n",
    "        current_lr   = current_lr = current_lr_from(opt)\n",
    "        grad_norm    = np.mean(batch_rmses) / current_lr      # crude proxy; optional\n",
    "    \n",
    "        # ─────────────────────────────────────────────────────────────────────\n",
    "        # 3 ▸ LOGGING  – print after validation while bar is still visible\n",
    "        # ─────────────────────────────────────────────────────────────────────\n",
    "\n",
    "        print(f\"Epoch {epoch:03d} • \"\n",
    "              f\"train={epoch_train:.6f} • val={epoch_val:.6f} \"\n",
    "              f\"• impr={impr_pct:5.1f}% • lr={current_lr:.2e} • g≈{grad_norm:.2f}\")\n",
    "\n",
    "        \n",
    "        live_plot.update(epoch_train, epoch_val)\n",
    "    \n",
    "        # ─────────────────────────────────────────────────────────────────────\n",
    "        # 4 ▸ CLOSE BAR  – now that epoch summary is printed, clear the line\n",
    "        # ─────────────────────────────────────────────────────────────────────\n",
    "        pbar.close()\n",
    "    \n",
    "        # ─────────────────────────────────────────────────────────────────────\n",
    "        # 5 ▸ EARLY-STOP LOGIC\n",
    "        # ─────────────────────────────────────────────────────────────────────\n",
    "        if epoch_val < best_val_rmse:\n",
    "            best_val_rmse, patience_ctr = epoch_val, 0\n",
    "            model_train.save_weights(ckpt_path)                 # keep champion\n",
    "        else:\n",
    "            patience_ctr += 1\n",
    "            if patience_ctr >= early_stop_patience:\n",
    "                print(\"Early stopping triggered.\")\n",
    "                break\n",
    "    # ================ END EPOCH LOOP =============================================\n",
    "    \n",
    "    # restore champion weights before returning\n",
    "    model_train.load_weights(ckpt_path)\n",
    "    return best_val_rmse\n"
   ]
  },
  {
   "cell_type": "code",
   "execution_count": 18,
   "id": "16280865-a8d7-430c-adf0-004e12bc29c0",
   "metadata": {},
   "outputs": [
    {
     "name": "stdout",
     "output_type": "stream",
     "text": [
      "Baseline (predict-zero) RMSE on validation = 0.295175\n",
      "Training sees 64 calendar days per epoch\n",
      "\n"
     ]
    },
    {
     "data": {
      "image/png": "[encoded data removed]",
      "text/plain": [
       "<Figure size 660x440 with 1 Axes>"
      ]
     },
     "metadata": {},
     "output_type": "display_data"
    },
    {
     "data": {
      "application/vnd.jupyter.widget-view+json": {
       "model_id": "1516a54f77304aa49ae583dead6965b5",
       "version_major": 2,
       "version_minor": 0
      },
      "text/plain": [
       "Epoch 001:   0%|                                                                                | 0/64 [00:00<…"
      ]
     },
     "metadata": {},
     "output_type": "display_data"
    },
    {
     "name": "stderr",
     "output_type": "stream",
     "text": [
      "I0000 00:00:1750272378.169320    1867 cuda_dnn.cc:529] Loaded cuDNN version 91002\n"
     ]
    },
    {
     "name": "stdout",
     "output_type": "stream",
     "text": [
      "Epoch 001 • train=0.904621 • val=0.620128 • impr=-110.1% • lr=3.75e-04 • g≈2415.25\n"
     ]
    },
    {
     "data": {
      "application/vnd.jupyter.widget-view+json": {
       "model_id": "1ecdd10a394c46b4bc9d37ff4c506c9a",
       "version_major": 2,
       "version_minor": 0
      },
      "text/plain": [
       "Epoch 002:   0%|                                                                                | 0/64 [00:00<…"
      ]
     },
     "metadata": {},
     "output_type": "display_data"
    },
    {
     "name": "stdout",
     "output_type": "stream",
     "text": [
      "Epoch 002 • train=0.745115 • val=0.472771 • impr=-60.2% • lr=4.55e-05 • g≈16392.31\n"
     ]
    },
    {
     "data": {
      "application/vnd.jupyter.widget-view+json": {
       "model_id": "6c835d5709d9459b9224642b1979185f",
       "version_major": 2,
       "version_minor": 0
      },
      "text/plain": [
       "Epoch 003:   0%|                                                                                | 0/64 [00:00<…"
      ]
     },
     "metadata": {},
     "output_type": "display_data"
    },
    {
     "name": "stdout",
     "output_type": "stream",
     "text": [
      "Epoch 003 • train=0.694181 • val=0.383274 • impr=-29.8% • lr=3.44e-04 • g≈2015.92\n"
     ]
    },
    {
     "data": {
      "application/vnd.jupyter.widget-view+json": {
       "model_id": "8ea429f5731b456781037a33eb03b3b1",
       "version_major": 2,
       "version_minor": 0
      },
      "text/plain": [
       "Epoch 004:   0%|                                                                                | 0/64 [00:00<…"
      ]
     },
     "metadata": {},
     "output_type": "display_data"
    },
    {
     "name": "stdout",
     "output_type": "stream",
     "text": [
      "Epoch 004 • train=0.657475 • val=0.375625 • impr=-27.3% • lr=1.61e-04 • g≈4088.16\n"
     ]
    },
    {
     "data": {
      "application/vnd.jupyter.widget-view+json": {
       "model_id": "d1c3bcb6b0ee42ee9da2cd6f240ad570",
       "version_major": 2,
       "version_minor": 0
      },
      "text/plain": [
       "Epoch 005:   0%|                                                                                | 0/64 [00:00<…"
      ]
     },
     "metadata": {},
     "output_type": "display_data"
    },
    {
     "name": "stdout",
     "output_type": "stream",
     "text": [
      "Epoch 005 • train=0.641068 • val=0.363847 • impr=-23.3% • lr=2.65e-05 • g≈24214.91\n"
     ]
    },
    {
     "data": {
      "application/vnd.jupyter.widget-view+json": {
       "model_id": "aab4dfc152bf46349aaf70567c867731",
       "version_major": 2,
       "version_minor": 0
      },
      "text/plain": [
       "Epoch 006:   0%|                                                                                | 0/64 [00:00<…"
      ]
     },
     "metadata": {},
     "output_type": "display_data"
    },
    {
     "name": "stdout",
     "output_type": "stream",
     "text": [
      "Epoch 006 • train=0.642842 • val=0.351610 • impr=-19.1% • lr=3.86e-04 • g≈1667.39\n"
     ]
    },
    {
     "data": {
      "application/vnd.jupyter.widget-view+json": {
       "model_id": "6039310302c540c7a8203f1215a3b83e",
       "version_major": 2,
       "version_minor": 0
      },
      "text/plain": [
       "Epoch 007:   0%|                                                                                | 0/64 [00:00<…"
      ]
     },
     "metadata": {},
     "output_type": "display_data"
    },
    {
     "name": "stdout",
     "output_type": "stream",
     "text": [
      "Epoch 007 • train=0.621054 • val=0.316741 • impr= -7.3% • lr=3.26e-04 • g≈1907.04\n"
     ]
    },
    {
     "data": {
      "application/vnd.jupyter.widget-view+json": {
       "model_id": "36dfbede25b74317a7b415ef47a21301",
       "version_major": 2,
       "version_minor": 0
      },
      "text/plain": [
       "Epoch 008:   0%|                                                                                | 0/64 [00:00<…"
      ]
     },
     "metadata": {},
     "output_type": "display_data"
    },
    {
     "name": "stdout",
     "output_type": "stream",
     "text": [
      "Epoch 008 • train=0.609838 • val=0.300447 • impr= -1.8% • lr=2.35e-04 • g≈2597.27\n"
     ]
    },
    {
     "data": {
      "application/vnd.jupyter.widget-view+json": {
       "model_id": "1a168c670a654e5a827c98acc7e5ea20",
       "version_major": 2,
       "version_minor": 0
      },
      "text/plain": [
       "Epoch 009:   0%|                                                                                | 0/64 [00:00<…"
      ]
     },
     "metadata": {},
     "output_type": "display_data"
    },
    {
     "name": "stdout",
     "output_type": "stream",
     "text": [
      "Epoch 009 • train=0.592739 • val=0.294262 • impr=  0.3% • lr=1.37e-04 • g≈4317.42\n"
     ]
    },
    {
     "data": {
      "application/vnd.jupyter.widget-view+json": {
       "model_id": "c8944f2922934b22b1bc89b2f4fa7dbc",
       "version_major": 2,
       "version_minor": 0
      },
      "text/plain": [
       "Epoch 010:   0%|                                                                                | 0/64 [00:00<…"
      ]
     },
     "metadata": {},
     "output_type": "display_data"
    },
    {
     "name": "stdout",
     "output_type": "stream",
     "text": [
      "Epoch 010 • train=0.587396 • val=0.293891 • impr=  0.4% • lr=5.93e-05 • g≈9911.70\n"
     ]
    },
    {
     "data": {
      "application/vnd.jupyter.widget-view+json": {
       "model_id": "93c7a36af8a740c59826515b49033fc1",
       "version_major": 2,
       "version_minor": 0
      },
      "text/plain": [
       "Epoch 011:   0%|                                                                                | 0/64 [00:00<…"
      ]
     },
     "metadata": {},
     "output_type": "display_data"
    },
    {
     "name": "stdout",
     "output_type": "stream",
     "text": [
      "Epoch 011 • train=0.583268 • val=0.293186 • impr=  0.7% • lr=2.16e-05 • g≈26971.32\n"
     ]
    },
    {
     "data": {
      "application/vnd.jupyter.widget-view+json": {
       "model_id": "75e3924d541f42028ca4a7d9959b0f3b",
       "version_major": 2,
       "version_minor": 0
      },
      "text/plain": [
       "Epoch 012:   0%|                                                                                | 0/64 [00:00<…"
      ]
     },
     "metadata": {},
     "output_type": "display_data"
    },
    {
     "name": "stdout",
     "output_type": "stream",
     "text": [
      "Epoch 012 • train=0.591076 • val=0.295159 • impr=  0.0% • lr=3.96e-04 • g≈1491.30\n"
     ]
    },
    {
     "data": {
      "application/vnd.jupyter.widget-view+json": {
       "model_id": "b518be3b16c749e8b34940606714f6bf",
       "version_major": 2,
       "version_minor": 0
      },
      "text/plain": [
       "Epoch 013:   0%|                                                                                | 0/64 [00:00<…"
      ]
     },
     "metadata": {},
     "output_type": "display_data"
    },
    {
     "name": "stdout",
     "output_type": "stream",
     "text": [
      "Epoch 013 • train=0.577861 • val=0.278045 • impr=  5.8% • lr=3.80e-04 • g≈1519.07\n"
     ]
    },
    {
     "data": {
      "application/vnd.jupyter.widget-view+json": {
       "model_id": "fc76be2fd75c4df590d13523d3bb2caa",
       "version_major": 2,
       "version_minor": 0
      },
      "text/plain": [
       "Epoch 014:   0%|                                                                                | 0/64 [00:00<…"
      ]
     },
     "metadata": {},
     "output_type": "display_data"
    },
    {
     "name": "stdout",
     "output_type": "stream",
     "text": [
      "Epoch 014 • train=0.563573 • val=0.271445 • impr=  8.0% • lr=3.53e-04 • g≈1597.21\n"
     ]
    },
    {
     "data": {
      "application/vnd.jupyter.widget-view+json": {
       "model_id": "4d72120cdcd843d4867f1f295c363b26",
       "version_major": 2,
       "version_minor": 0
      },
      "text/plain": [
       "Epoch 015:   0%|                                                                                | 0/64 [00:00<…"
      ]
     },
     "metadata": {},
     "output_type": "display_data"
    },
    {
     "name": "stdout",
     "output_type": "stream",
     "text": [
      "Epoch 015 • train=0.553544 • val=0.271987 • impr=  7.9% • lr=3.16e-04 • g≈1754.17\n"
     ]
    },
    {
     "data": {
      "application/vnd.jupyter.widget-view+json": {
       "model_id": "8db7bf62a0d9459889d84ea0fbf5362e",
       "version_major": 2,
       "version_minor": 0
      },
      "text/plain": [
       "Epoch 016:   0%|                                                                                | 0/64 [00:00<…"
      ]
     },
     "metadata": {},
     "output_type": "display_data"
    },
    {
     "name": "stdout",
     "output_type": "stream",
     "text": [
      "Epoch 016 • train=0.550518 • val=0.264402 • impr= 10.4% • lr=2.71e-04 • g≈2030.88\n"
     ]
    },
    {
     "data": {
      "application/vnd.jupyter.widget-view+json": {
       "model_id": "c9e5c467be22461c96672824fca8b532",
       "version_major": 2,
       "version_minor": 0
      },
      "text/plain": [
       "Epoch 017:   0%|                                                                                | 0/64 [00:00<…"
      ]
     },
     "metadata": {},
     "output_type": "display_data"
    },
    {
     "name": "stdout",
     "output_type": "stream",
     "text": [
      "Epoch 017 • train=0.542267 • val=0.262081 • impr= 11.2% • lr=2.22e-04 • g≈2437.96\n"
     ]
    },
    {
     "data": {
      "application/vnd.jupyter.widget-view+json": {
       "model_id": "7539fabca62e427d8861ec8bf460dec8",
       "version_major": 2,
       "version_minor": 0
      },
      "text/plain": [
       "Epoch 018:   0%|                                                                                | 0/64 [00:00<…"
      ]
     },
     "metadata": {},
     "output_type": "display_data"
    },
    {
     "name": "stdout",
     "output_type": "stream",
     "text": [
      "Epoch 018 • train=0.533518 • val=0.262617 • impr= 11.0% • lr=1.73e-04 • g≈3085.12\n"
     ]
    },
    {
     "data": {
      "application/vnd.jupyter.widget-view+json": {
       "model_id": "7848b28e4288484ab6748763af32d060",
       "version_major": 2,
       "version_minor": 0
      },
      "text/plain": [
       "Epoch 019:   0%|                                                                                | 0/64 [00:00<…"
      ]
     },
     "metadata": {},
     "output_type": "display_data"
    },
    {
     "name": "stdout",
     "output_type": "stream",
     "text": [
      "Epoch 019 • train=0.530869 • val=0.259941 • impr= 11.9% • lr=1.26e-04 • g≈4214.41\n"
     ]
    },
    {
     "data": {
      "application/vnd.jupyter.widget-view+json": {
       "model_id": "2af7c5ed7e7b4f95bbca993656547aa6",
       "version_major": 2,
       "version_minor": 0
      },
      "text/plain": [
       "Epoch 020:   0%|                                                                                | 0/64 [00:00<…"
      ]
     },
     "metadata": {},
     "output_type": "display_data"
    },
    {
     "name": "stdout",
     "output_type": "stream",
     "text": [
      "Epoch 020 • train=0.529806 • val=0.257722 • impr= 12.7% • lr=8.47e-05 • g≈6253.30\n"
     ]
    },
    {
     "data": {
      "application/vnd.jupyter.widget-view+json": {
       "model_id": "e48995db5c4a43188d2d022794a65706",
       "version_major": 2,
       "version_minor": 0
      },
      "text/plain": [
       "Epoch 021:   0%|                                                                                | 0/64 [00:00<…"
      ]
     },
     "metadata": {},
     "output_type": "display_data"
    },
    {
     "name": "stdout",
     "output_type": "stream",
     "text": [
      "Epoch 021 • train=0.523234 • val=0.256642 • impr= 13.1% • lr=5.20e-05 • g≈10058.18\n"
     ]
    },
    {
     "data": {
      "application/vnd.jupyter.widget-view+json": {
       "model_id": "84e0940c3dc246c283caf612463c60d9",
       "version_major": 2,
       "version_minor": 0
      },
      "text/plain": [
       "Epoch 022:   0%|                                                                                | 0/64 [00:00<…"
      ]
     },
     "metadata": {},
     "output_type": "display_data"
    },
    {
     "name": "stdout",
     "output_type": "stream",
     "text": [
      "Epoch 022 • train=0.529430 • val=0.256335 • impr= 13.2% • lr=3.01e-05 • g≈17598.82\n"
     ]
    },
    {
     "data": {
      "application/vnd.jupyter.widget-view+json": {
       "model_id": "66b9fa9230394b4088da3a710b1d9069",
       "version_major": 2,
       "version_minor": 0
      },
      "text/plain": [
       "Epoch 023:   0%|                                                                                | 0/64 [00:00<…"
      ]
     },
     "metadata": {},
     "output_type": "display_data"
    },
    {
     "name": "stdout",
     "output_type": "stream",
     "text": [
      "Epoch 023 • train=0.524029 • val=0.256426 • impr= 13.1% • lr=2.04e-05 • g≈25679.15\n"
     ]
    },
    {
     "data": {
      "application/vnd.jupyter.widget-view+json": {
       "model_id": "569c44c476df4886bcbe11000626b439",
       "version_major": 2,
       "version_minor": 0
      },
      "text/plain": [
       "Epoch 024:   0%|                                                                                | 0/64 [00:00<…"
      ]
     },
     "metadata": {},
     "output_type": "display_data"
    },
    {
     "name": "stdout",
     "output_type": "stream",
     "text": [
      "Epoch 024 • train=0.521378 • val=0.260485 • impr= 11.8% • lr=3.99e-04 • g≈1306.43\n"
     ]
    },
    {
     "data": {
      "application/vnd.jupyter.widget-view+json": {
       "model_id": "f5801c4540cb44be95a76de9b1ea0b6a",
       "version_major": 2,
       "version_minor": 0
      },
      "text/plain": [
       "Epoch 025:   0%|                                                                                | 0/64 [00:00<…"
      ]
     },
     "metadata": {},
     "output_type": "display_data"
    },
    {
     "name": "stdout",
     "output_type": "stream",
     "text": [
      "Epoch 025 • train=0.511708 • val=0.250055 • impr= 15.3% • lr=3.95e-04 • g≈1295.34\n"
     ]
    },
    {
     "data": {
      "application/vnd.jupyter.widget-view+json": {
       "model_id": "d6459d39cf974b2799bc6736b7a2557b",
       "version_major": 2,
       "version_minor": 0
      },
      "text/plain": [
       "Epoch 026:   0%|                                                                                | 0/64 [00:00<…"
      ]
     },
     "metadata": {},
     "output_type": "display_data"
    },
    {
     "name": "stdout",
     "output_type": "stream",
     "text": [
      "Epoch 026 • train=0.507094 • val=0.247725 • impr= 16.1% • lr=3.88e-04 • g≈1307.54\n"
     ]
    },
    {
     "data": {
      "application/vnd.jupyter.widget-view+json": {
       "model_id": "41e73f46a71d408f874fc735a5160e20",
       "version_major": 2,
       "version_minor": 0
      },
      "text/plain": [
       "Epoch 027:   0%|                                                                                | 0/64 [00:00<…"
      ]
     },
     "metadata": {},
     "output_type": "display_data"
    },
    {
     "name": "stdout",
     "output_type": "stream",
     "text": [
      "Epoch 027 • train=0.499105 • val=0.246035 • impr= 16.6% • lr=3.78e-04 • g≈1321.90\n"
     ]
    },
    {
     "data": {
      "application/vnd.jupyter.widget-view+json": {
       "model_id": "284a2ff6d67c4c8290d93f7992ca584e",
       "version_major": 2,
       "version_minor": 0
      },
      "text/plain": [
       "Epoch 028:   0%|                                                                                | 0/64 [00:00<…"
      ]
     },
     "metadata": {},
     "output_type": "display_data"
    },
    {
     "name": "stdout",
     "output_type": "stream",
     "text": [
      "Epoch 028 • train=0.488001 • val=0.246191 • impr= 16.6% • lr=3.64e-04 • g≈1339.04\n"
     ]
    },
    {
     "data": {
      "application/vnd.jupyter.widget-view+json": {
       "model_id": "63e89731331a4a06abe6162bc1d316d8",
       "version_major": 2,
       "version_minor": 0
      },
      "text/plain": [
       "Epoch 029:   0%|                                                                                | 0/64 [00:00<…"
      ]
     },
     "metadata": {},
     "output_type": "display_data"
    },
    {
     "name": "stdout",
     "output_type": "stream",
     "text": [
      "Epoch 029 • train=0.483268 • val=0.243355 • impr= 17.6% • lr=3.49e-04 • g≈1386.02\n"
     ]
    },
    {
     "data": {
      "application/vnd.jupyter.widget-view+json": {
       "model_id": "3e4dc963251a4880b172cf6abf35d3cb",
       "version_major": 2,
       "version_minor": 0
      },
      "text/plain": [
       "Epoch 030:   0%|                                                                                | 0/64 [00:00<…"
      ]
     },
     "metadata": {},
     "output_type": "display_data"
    },
    {
     "name": "stdout",
     "output_type": "stream",
     "text": [
      "Epoch 030 • train=0.476617 • val=0.240056 • impr= 18.7% • lr=3.31e-04 • g≈1441.96\n"
     ]
    },
    {
     "data": {
      "application/vnd.jupyter.widget-view+json": {
       "model_id": "57222b154e454fb6b28f8d9c13e4e3b8",
       "version_major": 2,
       "version_minor": 0
      },
      "text/plain": [
       "Epoch 031:   0%|                                                                                | 0/64 [00:00<…"
      ]
     },
     "metadata": {},
     "output_type": "display_data"
    },
    {
     "name": "stdout",
     "output_type": "stream",
     "text": [
      "Epoch 031 • train=0.473593 • val=0.240609 • impr= 18.5% • lr=3.10e-04 • g≈1526.08\n"
     ]
    },
    {
     "data": {
      "application/vnd.jupyter.widget-view+json": {
       "model_id": "0ef68cd031c6402c94d9a2fe4eadf397",
       "version_major": 2,
       "version_minor": 0
      },
      "text/plain": [
       "Epoch 032:   0%|                                                                                | 0/64 [00:00<…"
      ]
     },
     "metadata": {},
     "output_type": "display_data"
    },
    {
     "name": "stdout",
     "output_type": "stream",
     "text": [
      "Epoch 032 • train=0.467218 • val=0.239204 • impr= 19.0% • lr=2.88e-04 • g≈1619.96\n"
     ]
    },
    {
     "data": {
      "application/vnd.jupyter.widget-view+json": {
       "model_id": "15e2700a91084cac9d142bff77ecc7ae",
       "version_major": 2,
       "version_minor": 0
      },
      "text/plain": [
       "Epoch 033:   0%|                                                                                | 0/64 [00:00<…"
      ]
     },
     "metadata": {},
     "output_type": "display_data"
    },
    {
     "name": "stdout",
     "output_type": "stream",
     "text": [
      "Epoch 033 • train=0.458023 • val=0.237262 • impr= 19.6% • lr=2.65e-04 • g≈1727.38\n"
     ]
    },
    {
     "data": {
      "application/vnd.jupyter.widget-view+json": {
       "model_id": "f06abe8e32a54892be5105ce4f8d1f4a",
       "version_major": 2,
       "version_minor": 0
      },
      "text/plain": [
       "Epoch 034:   0%|                                                                                | 0/64 [00:00<…"
      ]
     },
     "metadata": {},
     "output_type": "display_data"
    },
    {
     "name": "stdout",
     "output_type": "stream",
     "text": [
      "Epoch 034 • train=0.457630 • val=0.237196 • impr= 19.6% • lr=2.41e-04 • g≈1899.27\n"
     ]
    },
    {
     "data": {
      "application/vnd.jupyter.widget-view+json": {
       "model_id": "c829954f002a4f77afbe53bb71de3bd0",
       "version_major": 2,
       "version_minor": 0
      },
      "text/plain": [
       "Epoch 035:   0%|                                                                                | 0/64 [00:00<…"
      ]
     },
     "metadata": {},
     "output_type": "display_data"
    },
    {
     "name": "stdout",
     "output_type": "stream",
     "text": [
      "Epoch 035 • train=0.450317 • val=0.237644 • impr= 19.5% • lr=2.16e-04 • g≈2082.71\n"
     ]
    },
    {
     "data": {
      "application/vnd.jupyter.widget-view+json": {
       "model_id": "7bcf2ad4d78f4b6f9c2aec27fb6914bd",
       "version_major": 2,
       "version_minor": 0
      },
      "text/plain": [
       "Epoch 036:   0%|                                                                                | 0/64 [00:00<…"
      ]
     },
     "metadata": {},
     "output_type": "display_data"
    },
    {
     "name": "stdout",
     "output_type": "stream",
     "text": [
      "Epoch 036 • train=0.450498 • val=0.236102 • impr= 20.0% • lr=1.91e-04 • g≈2353.99\n"
     ]
    },
    {
     "data": {
      "application/vnd.jupyter.widget-view+json": {
       "model_id": "442c00a63a0a47ffa5fafc2c47514acf",
       "version_major": 2,
       "version_minor": 0
      },
      "text/plain": [
       "Epoch 037:   0%|                                                                                | 0/64 [00:00<…"
      ]
     },
     "metadata": {},
     "output_type": "display_data"
    },
    {
     "name": "stdout",
     "output_type": "stream",
     "text": [
      "Epoch 037 • train=0.448909 • val=0.235650 • impr= 20.2% • lr=1.67e-04 • g≈2690.41\n"
     ]
    },
    {
     "data": {
      "application/vnd.jupyter.widget-view+json": {
       "model_id": "3dba3576e6a24943bad55b09296f52a4",
       "version_major": 2,
       "version_minor": 0
      },
      "text/plain": [
       "Epoch 038:   0%|                                                                                | 0/64 [00:00<…"
      ]
     },
     "metadata": {},
     "output_type": "display_data"
    },
    {
     "name": "stdout",
     "output_type": "stream",
     "text": [
      "Epoch 038 • train=0.442074 • val=0.235196 • impr= 20.3% • lr=1.43e-04 • g≈3089.86\n"
     ]
    },
    {
     "data": {
      "application/vnd.jupyter.widget-view+json": {
       "model_id": "c0f457863ce44b6e8f9aa2ae3183b97c",
       "version_major": 2,
       "version_minor": 0
      },
      "text/plain": [
       "Epoch 039:   0%|                                                                                | 0/64 [00:00<…"
      ]
     },
     "metadata": {},
     "output_type": "display_data"
    },
    {
     "name": "stdout",
     "output_type": "stream",
     "text": [
      "Epoch 039 • train=0.439156 • val=0.234065 • impr= 20.7% • lr=1.20e-04 • g≈3646.43\n"
     ]
    },
    {
     "data": {
      "application/vnd.jupyter.widget-view+json": {
       "model_id": "13a9a469b0114a379590aa700dcab923",
       "version_major": 2,
       "version_minor": 0
      },
      "text/plain": [
       "Epoch 040:   0%|                                                                                | 0/64 [00:00<…"
      ]
     },
     "metadata": {},
     "output_type": "display_data"
    },
    {
     "name": "stdout",
     "output_type": "stream",
     "text": [
      "Epoch 040 • train=0.440490 • val=0.233943 • impr= 20.7% • lr=9.93e-05 • g≈4434.64\n"
     ]
    },
    {
     "data": {
      "application/vnd.jupyter.widget-view+json": {
       "model_id": "4c235bd716ad42e8bde37ce662b28810",
       "version_major": 2,
       "version_minor": 0
      },
      "text/plain": [
       "Epoch 041:   0%|                                                                                | 0/64 [00:00<…"
      ]
     },
     "metadata": {},
     "output_type": "display_data"
    },
    {
     "name": "stdout",
     "output_type": "stream",
     "text": [
      "Epoch 041 • train=0.441003 • val=0.234309 • impr= 20.6% • lr=8.01e-05 • g≈5504.46\n"
     ]
    },
    {
     "data": {
      "application/vnd.jupyter.widget-view+json": {
       "model_id": "7b284b3f7e1942268da1afca470912f3",
       "version_major": 2,
       "version_minor": 0
      },
      "text/plain": [
       "Epoch 042:   0%|                                                                                | 0/64 [00:00<…"
      ]
     },
     "metadata": {},
     "output_type": "display_data"
    },
    {
     "name": "stdout",
     "output_type": "stream",
     "text": [
      "Epoch 042 • train=0.434404 • val=0.234074 • impr= 20.7% • lr=6.31e-05 • g≈6881.32\n"
     ]
    },
    {
     "data": {
      "application/vnd.jupyter.widget-view+json": {
       "model_id": "69e3f2714cb44682baddb477559883f9",
       "version_major": 2,
       "version_minor": 0
      },
      "text/plain": [
       "Epoch 043:   0%|                                                                                | 0/64 [00:00<…"
      ]
     },
     "metadata": {},
     "output_type": "display_data"
    },
    {
     "name": "stdout",
     "output_type": "stream",
     "text": [
      "Epoch 043 • train=0.431974 • val=0.233672 • impr= 20.8% • lr=4.87e-05 • g≈8878.92\n"
     ]
    },
    {
     "data": {
      "application/vnd.jupyter.widget-view+json": {
       "model_id": "86ba5ada4da947e4a5c483176a8600ac",
       "version_major": 2,
       "version_minor": 0
      },
      "text/plain": [
       "Epoch 044:   0%|                                                                                | 0/64 [00:00<…"
      ]
     },
     "metadata": {},
     "output_type": "display_data"
    },
    {
     "name": "stdout",
     "output_type": "stream",
     "text": [
      "Epoch 044 • train=0.435078 • val=0.233489 • impr= 20.9% • lr=3.69e-05 • g≈11779.30\n"
     ]
    },
    {
     "data": {
      "application/vnd.jupyter.widget-view+json": {
       "model_id": "fe0f7a19035a427193a392710b40685f",
       "version_major": 2,
       "version_minor": 0
      },
      "text/plain": [
       "Epoch 045:   0%|                                                                                | 0/64 [00:00<…"
      ]
     },
     "metadata": {},
     "output_type": "display_data"
    },
    {
     "name": "stdout",
     "output_type": "stream",
     "text": [
      "Epoch 045 • train=0.434197 • val=0.233084 • impr= 21.0% • lr=2.82e-05 • g≈15407.27\n"
     ]
    },
    {
     "data": {
      "application/vnd.jupyter.widget-view+json": {
       "model_id": "691eb384b46d411ca116df49336a8af2",
       "version_major": 2,
       "version_minor": 0
      },
      "text/plain": [
       "Epoch 046:   0%|                                                                                | 0/64 [00:00<…"
      ]
     },
     "metadata": {},
     "output_type": "display_data"
    },
    {
     "name": "stdout",
     "output_type": "stream",
     "text": [
      "Epoch 046 • train=0.434491 • val=0.233185 • impr= 21.0% • lr=2.25e-05 • g≈19278.33\n"
     ]
    },
    {
     "data": {
      "application/vnd.jupyter.widget-view+json": {
       "model_id": "70d5097df5664976b63d2eb2723b7267",
       "version_major": 2,
       "version_minor": 0
      },
      "text/plain": [
       "Epoch 047:   0%|                                                                                | 0/64 [00:00<…"
      ]
     },
     "metadata": {},
     "output_type": "display_data"
    },
    {
     "name": "stdout",
     "output_type": "stream",
     "text": [
      "Epoch 047 • train=0.433195 • val=0.233418 • impr= 20.9% • lr=2.01e-05 • g≈21550.12\n"
     ]
    },
    {
     "data": {
      "application/vnd.jupyter.widget-view+json": {
       "model_id": "17e760ee6dac4acaaecaf82bd6012da7",
       "version_major": 2,
       "version_minor": 0
      },
      "text/plain": [
       "Epoch 048:   0%|                                                                                | 0/64 [00:00<…"
      ]
     },
     "metadata": {},
     "output_type": "display_data"
    },
    {
     "name": "stdout",
     "output_type": "stream",
     "text": [
      "Epoch 048 • train=0.437672 • val=0.235594 • impr= 20.2% • lr=4.00e-04 • g≈1094.81\n"
     ]
    },
    {
     "data": {
      "application/vnd.jupyter.widget-view+json": {
       "model_id": "0ed11a2b2fa04649baa8fb976eaab9b7",
       "version_major": 2,
       "version_minor": 0
      },
      "text/plain": [
       "Epoch 049:   0%|                                                                                | 0/64 [00:00<…"
      ]
     },
     "metadata": {},
     "output_type": "display_data"
    },
    {
     "name": "stdout",
     "output_type": "stream",
     "text": [
      "Epoch 049 • train=0.429042 • val=0.230172 • impr= 22.0% • lr=3.99e-04 • g≈1075.95\n"
     ]
    },
    {
     "data": {
      "application/vnd.jupyter.widget-view+json": {
       "model_id": "d57131369463466790dc6886906efad8",
       "version_major": 2,
       "version_minor": 0
      },
      "text/plain": [
       "Epoch 050:   0%|                                                                                | 0/64 [00:00<…"
      ]
     },
     "metadata": {},
     "output_type": "display_data"
    },
    {
     "name": "stdout",
     "output_type": "stream",
     "text": [
      "Epoch 050 • train=0.420841 • val=0.235133 • impr= 20.3% • lr=3.97e-04 • g≈1060.24\n"
     ]
    },
    {
     "data": {
      "application/vnd.jupyter.widget-view+json": {
       "model_id": "a60274397a5c40f3bc906ec066447555",
       "version_major": 2,
       "version_minor": 0
      },
      "text/plain": [
       "Epoch 051:   0%|                                                                                | 0/64 [00:00<…"
      ]
     },
     "metadata": {},
     "output_type": "display_data"
    },
    {
     "name": "stdout",
     "output_type": "stream",
     "text": [
      "Epoch 051 • train=0.412992 • val=0.229009 • impr= 22.4% • lr=3.94e-04 • g≈1047.39\n"
     ]
    },
    {
     "data": {
      "application/vnd.jupyter.widget-view+json": {
       "model_id": "a4a158efacf64d3fb83dd66d634aee62",
       "version_major": 2,
       "version_minor": 0
      },
      "text/plain": [
       "Epoch 052:   0%|                                                                                | 0/64 [00:00<…"
      ]
     },
     "metadata": {},
     "output_type": "display_data"
    },
    {
     "name": "stdout",
     "output_type": "stream",
     "text": [
      "Epoch 052 • train=0.405980 • val=0.230610 • impr= 21.9% • lr=3.91e-04 • g≈1038.60\n"
     ]
    },
    {
     "data": {
      "application/vnd.jupyter.widget-view+json": {
       "model_id": "0ca49fe03aeb430aaf72871f7fa9a31e",
       "version_major": 2,
       "version_minor": 0
      },
      "text/plain": [
       "Epoch 053:   0%|                                                                                | 0/64 [00:00<…"
      ]
     },
     "metadata": {},
     "output_type": "display_data"
    },
    {
     "name": "stdout",
     "output_type": "stream",
     "text": [
      "Epoch 053 • train=0.401657 • val=0.227850 • impr= 22.8% • lr=3.87e-04 • g≈1038.67\n"
     ]
    },
    {
     "data": {
      "application/vnd.jupyter.widget-view+json": {
       "model_id": "96d4bcab8bff465e9fe14c17f881c732",
       "version_major": 2,
       "version_minor": 0
      },
      "text/plain": [
       "Epoch 054:   0%|                                                                                | 0/64 [00:00<…"
      ]
     },
     "metadata": {},
     "output_type": "display_data"
    },
    {
     "name": "stdout",
     "output_type": "stream",
     "text": [
      "Epoch 054 • train=0.404409 • val=0.229771 • impr= 22.2% • lr=3.82e-04 • g≈1059.33\n"
     ]
    },
    {
     "data": {
      "application/vnd.jupyter.widget-view+json": {
       "model_id": "ec08c6c96c0043808c39a26088175dbb",
       "version_major": 2,
       "version_minor": 0
      },
      "text/plain": [
       "Epoch 055:   0%|                                                                                | 0/64 [00:00<…"
      ]
     },
     "metadata": {},
     "output_type": "display_data"
    },
    {
     "name": "stdout",
     "output_type": "stream",
     "text": [
      "Epoch 055 • train=0.392298 • val=0.228620 • impr= 22.5% • lr=3.76e-04 • g≈1043.13\n"
     ]
    },
    {
     "data": {
      "application/vnd.jupyter.widget-view+json": {
       "model_id": "862dcca2a4c24d438bff4907006382f4",
       "version_major": 2,
       "version_minor": 0
      },
      "text/plain": [
       "Epoch 056:   0%|                                                                                | 0/64 [00:00<…"
      ]
     },
     "metadata": {},
     "output_type": "display_data"
    },
    {
     "name": "stdout",
     "output_type": "stream",
     "text": [
      "Epoch 056 • train=0.390450 • val=0.225978 • impr= 23.4% • lr=3.70e-04 • g≈1056.17\n"
     ]
    },
    {
     "data": {
      "application/vnd.jupyter.widget-view+json": {
       "model_id": "a15588e4241b4494afaf82d869e0797f",
       "version_major": 2,
       "version_minor": 0
      },
      "text/plain": [
       "Epoch 057:   0%|                                                                                | 0/64 [00:00<…"
      ]
     },
     "metadata": {},
     "output_type": "display_data"
    },
    {
     "name": "stdout",
     "output_type": "stream",
     "text": [
      "Epoch 057 • train=0.384102 • val=0.228757 • impr= 22.5% • lr=3.63e-04 • g≈1059.27\n"
     ]
    },
    {
     "data": {
      "application/vnd.jupyter.widget-view+json": {
       "model_id": "51f7851298144ef6baa38e8ed8e367b8",
       "version_major": 2,
       "version_minor": 0
      },
      "text/plain": [
       "Epoch 058:   0%|                                                                                | 0/64 [00:00<…"
      ]
     },
     "metadata": {},
     "output_type": "display_data"
    },
    {
     "name": "stdout",
     "output_type": "stream",
     "text": [
      "Epoch 058 • train=0.382681 • val=0.226379 • impr= 23.3% • lr=3.55e-04 • g≈1078.34\n"
     ]
    },
    {
     "data": {
      "application/vnd.jupyter.widget-view+json": {
       "model_id": "cfc44e054696480487c3a30ad021de95",
       "version_major": 2,
       "version_minor": 0
      },
      "text/plain": [
       "Epoch 059:   0%|                                                                                | 0/64 [00:00<…"
      ]
     },
     "metadata": {},
     "output_type": "display_data"
    },
    {
     "name": "stdout",
     "output_type": "stream",
     "text": [
      "Epoch 059 • train=0.377201 • val=0.227484 • impr= 22.9% • lr=3.47e-04 • g≈1088.51\n"
     ]
    },
    {
     "data": {
      "application/vnd.jupyter.widget-view+json": {
       "model_id": "a22c57b0c72b45e2a0de3068a227c6d2",
       "version_major": 2,
       "version_minor": 0
      },
      "text/plain": [
       "Epoch 060:   0%|                                                                                | 0/64 [00:00<…"
      ]
     },
     "metadata": {},
     "output_type": "display_data"
    },
    {
     "name": "stdout",
     "output_type": "stream",
     "text": [
      "Epoch 060 • train=0.373656 • val=0.225104 • impr= 23.7% • lr=3.38e-04 • g≈1106.81\n"
     ]
    },
    {
     "data": {
      "application/vnd.jupyter.widget-view+json": {
       "model_id": "491f4799465b460095505979f4f4c529",
       "version_major": 2,
       "version_minor": 0
      },
      "text/plain": [
       "Epoch 061:   0%|                                                                                | 0/64 [00:00<…"
      ]
     },
     "metadata": {},
     "output_type": "display_data"
    },
    {
     "name": "stdout",
     "output_type": "stream",
     "text": [
      "Epoch 061 • train=0.369697 • val=0.227365 • impr= 23.0% • lr=3.28e-04 • g≈1126.73\n"
     ]
    },
    {
     "data": {
      "application/vnd.jupyter.widget-view+json": {
       "model_id": "c15765ecf4af40fabdc2afe239502317",
       "version_major": 2,
       "version_minor": 0
      },
      "text/plain": [
       "Epoch 062:   0%|                                                                                | 0/64 [00:00<…"
      ]
     },
     "metadata": {},
     "output_type": "display_data"
    },
    {
     "name": "stdout",
     "output_type": "stream",
     "text": [
      "Epoch 062 • train=0.364810 • val=0.225923 • impr= 23.5% • lr=3.18e-04 • g≈1146.74\n"
     ]
    },
    {
     "data": {
      "application/vnd.jupyter.widget-view+json": {
       "model_id": "68b212cee06547f7a075029e17276884",
       "version_major": 2,
       "version_minor": 0
      },
      "text/plain": [
       "Epoch 063:   0%|                                                                                | 0/64 [00:00<…"
      ]
     },
     "metadata": {},
     "output_type": "display_data"
    },
    {
     "name": "stdout",
     "output_type": "stream",
     "text": [
      "Epoch 063 • train=0.363562 • val=0.227068 • impr= 23.1% • lr=3.08e-04 • g≈1181.62\n"
     ]
    },
    {
     "data": {
      "application/vnd.jupyter.widget-view+json": {
       "model_id": "d5e8351404454323a649845cf1446ebb",
       "version_major": 2,
       "version_minor": 0
      },
      "text/plain": [
       "Epoch 064:   0%|                                                                                | 0/64 [00:00<…"
      ]
     },
     "metadata": {},
     "output_type": "display_data"
    },
    {
     "name": "stdout",
     "output_type": "stream",
     "text": [
      "Epoch 064 • train=0.361569 • val=0.226735 • impr= 23.2% • lr=2.97e-04 • g≈1218.17\n"
     ]
    },
    {
     "data": {
      "application/vnd.jupyter.widget-view+json": {
       "model_id": "bd8a86668a8849a79aa88ae5bbca9272",
       "version_major": 2,
       "version_minor": 0
      },
      "text/plain": [
       "Epoch 065:   0%|                                                                                | 0/64 [00:00<…"
      ]
     },
     "metadata": {},
     "output_type": "display_data"
    },
    {
     "name": "stdout",
     "output_type": "stream",
     "text": [
      "Epoch 065 • train=0.355212 • val=0.225750 • impr= 23.5% • lr=2.86e-04 • g≈1243.86\n"
     ]
    },
    {
     "data": {
      "application/vnd.jupyter.widget-view+json": {
       "model_id": "b46d5437e0d6444c9afbadbce92569cd",
       "version_major": 2,
       "version_minor": 0
      },
      "text/plain": [
       "Epoch 066:   0%|                                                                                | 0/64 [00:00<…"
      ]
     },
     "metadata": {},
     "output_type": "display_data"
    },
    {
     "name": "stdout",
     "output_type": "stream",
     "text": [
      "Epoch 066 • train=0.355082 • val=0.224175 • impr= 24.1% • lr=2.74e-04 • g≈1295.88\n"
     ]
    },
    {
     "data": {
      "application/vnd.jupyter.widget-view+json": {
       "model_id": "6f8a01c6903248148396edb123d40ca4",
       "version_major": 2,
       "version_minor": 0
      },
      "text/plain": [
       "Epoch 067:   0%|                                                                                | 0/64 [00:00<…"
      ]
     },
     "metadata": {},
     "output_type": "display_data"
    },
    {
     "name": "stdout",
     "output_type": "stream",
     "text": [
      "Epoch 067 • train=0.352801 • val=0.222739 • impr= 24.5% • lr=2.62e-04 • g≈1345.69\n"
     ]
    },
    {
     "data": {
      "application/vnd.jupyter.widget-view+json": {
       "model_id": "cfd6e88bde6740fc81ff6d8731b9a153",
       "version_major": 2,
       "version_minor": 0
      },
      "text/plain": [
       "Epoch 068:   0%|                                                                                | 0/64 [00:00<…"
      ]
     },
     "metadata": {},
     "output_type": "display_data"
    },
    {
     "name": "stdout",
     "output_type": "stream",
     "text": [
      "Epoch 068 • train=0.348858 • val=0.223944 • impr= 24.1% • lr=2.50e-04 • g≈1394.81\n"
     ]
    },
    {
     "data": {
      "application/vnd.jupyter.widget-view+json": {
       "model_id": "9de553a0b4eb47e3b9b09778511f4555",
       "version_major": 2,
       "version_minor": 0
      },
      "text/plain": [
       "Epoch 069:   0%|                                                                                | 0/64 [00:00<…"
      ]
     },
     "metadata": {},
     "output_type": "display_data"
    },
    {
     "name": "stdout",
     "output_type": "stream",
     "text": [
      "Epoch 069 • train=0.348300 • val=0.224450 • impr= 24.0% • lr=2.38e-04 • g≈1464.19\n"
     ]
    },
    {
     "data": {
      "application/vnd.jupyter.widget-view+json": {
       "model_id": "540f8b7eaa2c494893700cf2677fc47b",
       "version_major": 2,
       "version_minor": 0
      },
      "text/plain": [
       "Epoch 070:   0%|                                                                                | 0/64 [00:00<…"
      ]
     },
     "metadata": {},
     "output_type": "display_data"
    },
    {
     "name": "stdout",
     "output_type": "stream",
     "text": [
      "Epoch 070 • train=0.347355 • val=0.222430 • impr= 24.6% • lr=2.26e-04 • g≈1540.19\n"
     ]
    },
    {
     "data": {
      "application/vnd.jupyter.widget-view+json": {
       "model_id": "bb1331d141884153a9f6400bd9a9a7b5",
       "version_major": 2,
       "version_minor": 0
      },
      "text/plain": [
       "Epoch 071:   0%|                                                                                | 0/64 [00:00<…"
      ]
     },
     "metadata": {},
     "output_type": "display_data"
    },
    {
     "name": "stdout",
     "output_type": "stream",
     "text": [
      "Epoch 071 • train=0.341990 • val=0.223668 • impr= 24.2% • lr=2.13e-04 • g≈1604.77\n"
     ]
    },
    {
     "data": {
      "application/vnd.jupyter.widget-view+json": {
       "model_id": "ac7a80a767074b8590b2a3d85b1c63b0",
       "version_major": 2,
       "version_minor": 0
      },
      "text/plain": [
       "Epoch 072:   0%|                                                                                | 0/64 [00:00<…"
      ]
     },
     "metadata": {},
     "output_type": "display_data"
    },
    {
     "name": "stdout",
     "output_type": "stream",
     "text": [
      "Epoch 072 • train=0.343042 • val=0.225316 • impr= 23.7% • lr=2.01e-04 • g≈1709.42\n"
     ]
    },
    {
     "data": {
      "application/vnd.jupyter.widget-view+json": {
       "model_id": "eb5160fb0a3448629db3f08af3dea2b3",
       "version_major": 2,
       "version_minor": 0
      },
      "text/plain": [
       "Epoch 073:   0%|                                                                                | 0/64 [00:00<…"
      ]
     },
     "metadata": {},
     "output_type": "display_data"
    },
    {
     "name": "stdout",
     "output_type": "stream",
     "text": [
      "Epoch 073 • train=0.342152 • val=0.222540 • impr= 24.6% • lr=1.88e-04 • g≈1817.20\n"
     ]
    },
    {
     "data": {
      "application/vnd.jupyter.widget-view+json": {
       "model_id": "b56c35f6ccca4f1c9cbaf94d1f5c35d0",
       "version_major": 2,
       "version_minor": 0
      },
      "text/plain": [
       "Epoch 074:   0%|                                                                                | 0/64 [00:00<…"
      ]
     },
     "metadata": {},
     "output_type": "display_data"
    },
    {
     "name": "stdout",
     "output_type": "stream",
     "text": [
      "Epoch 074 • train=0.337344 • val=0.222313 • impr= 24.7% • lr=1.76e-04 • g≈1916.87\n"
     ]
    },
    {
     "data": {
      "application/vnd.jupyter.widget-view+json": {
       "model_id": "59a2e599f7694ebd8622c20fce792c36",
       "version_major": 2,
       "version_minor": 0
      },
      "text/plain": [
       "Epoch 075:   0%|                                                                                | 0/64 [00:00<…"
      ]
     },
     "metadata": {},
     "output_type": "display_data"
    },
    {
     "name": "stdout",
     "output_type": "stream",
     "text": [
      "Epoch 075 • train=0.339659 • val=0.224168 • impr= 24.1% • lr=1.64e-04 • g≈2073.19\n"
     ]
    },
    {
     "data": {
      "application/vnd.jupyter.widget-view+json": {
       "model_id": "1cb9ac1e0d5c45bc89e2bdf5824d408e",
       "version_major": 2,
       "version_minor": 0
      },
      "text/plain": [
       "Epoch 076:   0%|                                                                                | 0/64 [00:00<…"
      ]
     },
     "metadata": {},
     "output_type": "display_data"
    },
    {
     "name": "stdout",
     "output_type": "stream",
     "text": [
      "Epoch 076 • train=0.335599 • val=0.222447 • impr= 24.6% • lr=1.52e-04 • g≈2209.66\n"
     ]
    },
    {
     "data": {
      "application/vnd.jupyter.widget-view+json": {
       "model_id": "de4e9dbc13e54421aec96bb2763b2b10",
       "version_major": 2,
       "version_minor": 0
      },
      "text/plain": [
       "Epoch 077:   0%|                                                                                | 0/64 [00:00<…"
      ]
     },
     "metadata": {},
     "output_type": "display_data"
    },
    {
     "name": "stdout",
     "output_type": "stream",
     "text": [
      "Epoch 077 • train=0.335719 • val=0.221623 • impr= 24.9% • lr=1.40e-04 • g≈2395.05\n"
     ]
    },
    {
     "data": {
      "application/vnd.jupyter.widget-view+json": {
       "model_id": "a5b6381838c64b04b269850bbf634373",
       "version_major": 2,
       "version_minor": 0
      },
      "text/plain": [
       "Epoch 078:   0%|                                                                                | 0/64 [00:00<…"
      ]
     },
     "metadata": {},
     "output_type": "display_data"
    },
    {
     "name": "stdout",
     "output_type": "stream",
     "text": [
      "Epoch 078 • train=0.334609 • val=0.222640 • impr= 24.6% • lr=1.29e-04 • g≈2598.61\n"
     ]
    },
    {
     "data": {
      "application/vnd.jupyter.widget-view+json": {
       "model_id": "53227881a3eb4d36986d401e9ce0992e",
       "version_major": 2,
       "version_minor": 0
      },
      "text/plain": [
       "Epoch 079:   0%|                                                                                | 0/64 [00:00<…"
      ]
     },
     "metadata": {},
     "output_type": "display_data"
    },
    {
     "name": "stdout",
     "output_type": "stream",
     "text": [
      "Epoch 079 • train=0.329949 • val=0.223057 • impr= 24.4% • lr=1.18e-04 • g≈2803.19\n"
     ]
    },
    {
     "data": {
      "application/vnd.jupyter.widget-view+json": {
       "model_id": "f0211b5fafa44c89a849886cd7968cc8",
       "version_major": 2,
       "version_minor": 0
      },
      "text/plain": [
       "Epoch 080:   0%|                                                                                | 0/64 [00:00<…"
      ]
     },
     "metadata": {},
     "output_type": "display_data"
    },
    {
     "name": "stdout",
     "output_type": "stream",
     "text": [
      "Epoch 080 • train=0.333845 • val=0.222881 • impr= 24.5% • lr=1.07e-04 • g≈3118.87\n"
     ]
    },
    {
     "data": {
      "application/vnd.jupyter.widget-view+json": {
       "model_id": "724506ff32aa4530a70ceb211db62912",
       "version_major": 2,
       "version_minor": 0
      },
      "text/plain": [
       "Epoch 081:   0%|                                                                                | 0/64 [00:00<…"
      ]
     },
     "metadata": {},
     "output_type": "display_data"
    },
    {
     "name": "stdout",
     "output_type": "stream",
     "text": [
      "Epoch 081 • train=0.329796 • val=0.222740 • impr= 24.5% • lr=9.68e-05 • g≈3406.38\n"
     ]
    },
    {
     "data": {
      "application/vnd.jupyter.widget-view+json": {
       "model_id": "83e5bac74eee40d89d70bafeed060638",
       "version_major": 2,
       "version_minor": 0
      },
      "text/plain": [
       "Epoch 082:   0%|                                                                                | 0/64 [00:00<…"
      ]
     },
     "metadata": {},
     "output_type": "display_data"
    },
    {
     "name": "stdout",
     "output_type": "stream",
     "text": [
      "Epoch 082 • train=0.329877 • val=0.222045 • impr= 24.8% • lr=8.71e-05 • g≈3788.28\n"
     ]
    },
    {
     "data": {
      "application/vnd.jupyter.widget-view+json": {
       "model_id": "5276e8a3aeb54bf480cb662d08c4cf11",
       "version_major": 2,
       "version_minor": 0
      },
      "text/plain": [
       "Epoch 083:   0%|                                                                                | 0/64 [00:00<…"
      ]
     },
     "metadata": {},
     "output_type": "display_data"
    },
    {
     "name": "stdout",
     "output_type": "stream",
     "text": [
      "Epoch 083 • train=0.327968 • val=0.221662 • impr= 24.9% • lr=7.79e-05 • g≈4211.96\n"
     ]
    },
    {
     "data": {
      "application/vnd.jupyter.widget-view+json": {
       "model_id": "8c0f875f4fb94de39cf6c58bd58312ee",
       "version_major": 2,
       "version_minor": 0
      },
      "text/plain": [
       "Epoch 084:   0%|                                                                                | 0/64 [00:00<…"
      ]
     },
     "metadata": {},
     "output_type": "display_data"
    },
    {
     "name": "stdout",
     "output_type": "stream",
     "text": [
      "Epoch 084 • train=0.331629 • val=0.222375 • impr= 24.7% • lr=6.92e-05 • g≈4790.99\n"
     ]
    },
    {
     "data": {
      "application/vnd.jupyter.widget-view+json": {
       "model_id": "aa6a2d5cdbcd4a20901178a73def6271",
       "version_major": 2,
       "version_minor": 0
      },
      "text/plain": [
       "Epoch 085:   0%|                                                                                | 0/64 [00:00<…"
      ]
     },
     "metadata": {},
     "output_type": "display_data"
    },
    {
     "name": "stdout",
     "output_type": "stream",
     "text": [
      "Epoch 085 • train=0.328430 • val=0.223420 • impr= 24.3% • lr=6.12e-05 • g≈5368.65\n"
     ]
    },
    {
     "data": {
      "application/vnd.jupyter.widget-view+json": {
       "model_id": "670b720e0cc84f478e6952a2c5a614ae",
       "version_major": 2,
       "version_minor": 0
      },
      "text/plain": [
       "Epoch 086:   0%|                                                                                | 0/64 [00:00<…"
      ]
     },
     "metadata": {},
     "output_type": "display_data"
    },
    {
     "name": "stdout",
     "output_type": "stream",
     "text": [
      "Epoch 086 • train=0.330340 • val=0.223375 • impr= 24.3% • lr=5.38e-05 • g≈6143.68\n"
     ]
    },
    {
     "data": {
      "application/vnd.jupyter.widget-view+json": {
       "model_id": "e6268b37ada34a369549d4b0c5e9fea8",
       "version_major": 2,
       "version_minor": 0
      },
      "text/plain": [
       "Epoch 087:   0%|                                                                                | 0/64 [00:00<…"
      ]
     },
     "metadata": {},
     "output_type": "display_data"
    },
    {
     "name": "stdout",
     "output_type": "stream",
     "text": [
      "Epoch 087 • train=0.329548 • val=0.222793 • impr= 24.5% • lr=4.70e-05 • g≈7006.95\n"
     ]
    },
    {
     "data": {
      "application/vnd.jupyter.widget-view+json": {
       "model_id": "e10b63f59bbf416fb167f1cdce81de9c",
       "version_major": 2,
       "version_minor": 0
      },
      "text/plain": [
       "Epoch 088:   0%|                                                                                | 0/64 [00:00<…"
      ]
     },
     "metadata": {},
     "output_type": "display_data"
    },
    {
     "name": "stdout",
     "output_type": "stream",
     "text": [
      "Epoch 088 • train=0.327018 • val=0.222308 • impr= 24.7% • lr=4.10e-05 • g≈7977.63\n"
     ]
    },
    {
     "data": {
      "application/vnd.jupyter.widget-view+json": {
       "model_id": "238c3a361a1042718098b79258277234",
       "version_major": 2,
       "version_minor": 0
      },
      "text/plain": [
       "Epoch 089:   0%|                                                                                | 0/64 [00:00<…"
      ]
     },
     "metadata": {},
     "output_type": "display_data"
    },
    {
     "name": "stdout",
     "output_type": "stream",
     "text": [
      "Epoch 089 • train=0.324151 • val=0.221816 • impr= 24.9% • lr=3.57e-05 • g≈9085.97\n"
     ]
    },
    {
     "data": {
      "application/vnd.jupyter.widget-view+json": {
       "model_id": "b523919719234b50b706094227acac9d",
       "version_major": 2,
       "version_minor": 0
      },
      "text/plain": [
       "Epoch 090:   0%|                                                                                | 0/64 [00:00<…"
      ]
     },
     "metadata": {},
     "output_type": "display_data"
    },
    {
     "name": "stdout",
     "output_type": "stream",
     "text": [
      "Epoch 090 • train=0.325410 • val=0.221621 • impr= 24.9% • lr=3.11e-05 • g≈10461.12\n"
     ]
    },
    {
     "data": {
      "application/vnd.jupyter.widget-view+json": {
       "model_id": "91537b78411340ea8bb41ba0f8a8f98c",
       "version_major": 2,
       "version_minor": 0
      },
      "text/plain": [
       "Epoch 091:   0%|                                                                                | 0/64 [00:00<…"
      ]
     },
     "metadata": {},
     "output_type": "display_data"
    },
    {
     "name": "stdout",
     "output_type": "stream",
     "text": [
      "Epoch 091 • train=0.328830 • val=0.222119 • impr= 24.7% • lr=2.73e-05 • g≈12043.62\n"
     ]
    },
    {
     "data": {
      "application/vnd.jupyter.widget-view+json": {
       "model_id": "9f9239a6ecb64dbc92b3261794120793",
       "version_major": 2,
       "version_minor": 0
      },
      "text/plain": [
       "Epoch 092:   0%|                                                                                | 0/64 [00:00<…"
      ]
     },
     "metadata": {},
     "output_type": "display_data"
    },
    {
     "name": "stdout",
     "output_type": "stream",
     "text": [
      "Epoch 092 • train=0.324619 • val=0.222779 • impr= 24.5% • lr=2.43e-05 • g≈13368.60\n"
     ]
    },
    {
     "data": {
      "application/vnd.jupyter.widget-view+json": {
       "model_id": "8cf7bbc51f7e4f8c98fc51ebe4bde42e",
       "version_major": 2,
       "version_minor": 0
      },
      "text/plain": [
       "Epoch 093:   0%|                                                                                | 0/64 [00:00<…"
      ]
     },
     "metadata": {},
     "output_type": "display_data"
    },
    {
     "name": "stdout",
     "output_type": "stream",
     "text": [
      "Epoch 093 • train=0.325668 • val=0.223124 • impr= 24.4% • lr=2.21e-05 • g≈14765.20\n"
     ]
    },
    {
     "data": {
      "application/vnd.jupyter.widget-view+json": {
       "model_id": "850c41e7d6c540e0a993bcc7ed9300af",
       "version_major": 2,
       "version_minor": 0
      },
      "text/plain": [
       "Epoch 094:   0%|                                                                                | 0/64 [00:00<…"
      ]
     },
     "metadata": {},
     "output_type": "display_data"
    },
    {
     "name": "stdout",
     "output_type": "stream",
     "text": [
      "Epoch 094 • train=0.326093 • val=0.223026 • impr= 24.4% • lr=2.06e-05 • g≈15802.52\n"
     ]
    },
    {
     "data": {
      "application/vnd.jupyter.widget-view+json": {
       "model_id": "0dbc0b5f6e0e45d6a7e2bc1f5fdaab75",
       "version_major": 2,
       "version_minor": 0
      },
      "text/plain": [
       "Epoch 095:   0%|                                                                                | 0/64 [00:00<…"
      ]
     },
     "metadata": {},
     "output_type": "display_data"
    },
    {
     "name": "stdout",
     "output_type": "stream",
     "text": [
      "Epoch 095 • train=0.324916 • val=0.222723 • impr= 24.5% • lr=2.00e-05 • g≈16225.15\n"
     ]
    },
    {
     "data": {
      "application/vnd.jupyter.widget-view+json": {
       "model_id": "5f8f33d4511741e8993059d828fe0d5f",
       "version_major": 2,
       "version_minor": 0
      },
      "text/plain": [
       "Epoch 096:   0%|                                                                                | 0/64 [00:00<…"
      ]
     },
     "metadata": {},
     "output_type": "display_data"
    },
    {
     "name": "stdout",
     "output_type": "stream",
     "text": [
      "Epoch 096 • train=0.324656 • val=0.222274 • impr= 24.7% • lr=4.00e-04 • g≈811.76\n"
     ]
    },
    {
     "data": {
      "application/vnd.jupyter.widget-view+json": {
       "model_id": "611c2e1b9e9e437ca40dc6dd8f966be8",
       "version_major": 2,
       "version_minor": 0
      },
      "text/plain": [
       "Epoch 097:   0%|                                                                                | 0/64 [00:00<…"
      ]
     },
     "metadata": {},
     "output_type": "display_data"
    },
    {
     "name": "stdout",
     "output_type": "stream",
     "text": [
      "Epoch 097 • train=0.325336 • val=0.222405 • impr= 24.7% • lr=4.00e-04 • g≈813.97\n"
     ]
    },
    {
     "data": {
      "application/vnd.jupyter.widget-view+json": {
       "model_id": "5ecd8272ec13466db8bdbebb63704bfb",
       "version_major": 2,
       "version_minor": 0
      },
      "text/plain": [
       "Epoch 098:   0%|                                                                                | 0/64 [00:00<…"
      ]
     },
     "metadata": {},
     "output_type": "display_data"
    },
    {
     "name": "stdout",
     "output_type": "stream",
     "text": [
      "Epoch 098 • train=0.321824 • val=0.225132 • impr= 23.7% • lr=3.99e-04 • g≈806.11\n"
     ]
    },
    {
     "data": {
      "application/vnd.jupyter.widget-view+json": {
       "model_id": "64814ffc1c704b489e659fe1e1352b5d",
       "version_major": 2,
       "version_minor": 0
      },
      "text/plain": [
       "Epoch 099:   0%|                                                                                | 0/64 [00:00<…"
      ]
     },
     "metadata": {},
     "output_type": "display_data"
    },
    {
     "name": "stdout",
     "output_type": "stream",
     "text": [
      "Epoch 099 • train=0.319201 • val=0.222794 • impr= 24.5% • lr=3.99e-04 • g≈800.86\n"
     ]
    },
    {
     "data": {
      "application/vnd.jupyter.widget-view+json": {
       "model_id": "088b069970144cbaa8f375ca0347aba7",
       "version_major": 2,
       "version_minor": 0
      },
      "text/plain": [
       "Epoch 100:   0%|                                                                                | 0/64 [00:00<…"
      ]
     },
     "metadata": {},
     "output_type": "display_data"
    },
    {
     "name": "stdout",
     "output_type": "stream",
     "text": [
      "Epoch 100 • train=0.319343 • val=0.222571 • impr= 24.6% • lr=3.98e-04 • g≈802.96\n"
     ]
    },
    {
     "data": {
      "application/vnd.jupyter.widget-view+json": {
       "model_id": "cbde24d0261748a397198045a6c756e1",
       "version_major": 2,
       "version_minor": 0
      },
      "text/plain": [
       "Epoch 101:   0%|                                                                                | 0/64 [00:00<…"
      ]
     },
     "metadata": {},
     "output_type": "display_data"
    },
    {
     "name": "stdout",
     "output_type": "stream",
     "text": [
      "Epoch 101 • train=0.311910 • val=0.221309 • impr= 25.0% • lr=3.97e-04 • g≈786.37\n"
     ]
    },
    {
     "data": {
      "application/vnd.jupyter.widget-view+json": {
       "model_id": "7fec6f5408aa48d590c133f1c504a543",
       "version_major": 2,
       "version_minor": 0
      },
      "text/plain": [
       "Epoch 102:   0%|                                                                                | 0/64 [00:00<…"
      ]
     },
     "metadata": {},
     "output_type": "display_data"
    },
    {
     "name": "stdout",
     "output_type": "stream",
     "text": [
      "Epoch 102 • train=0.310578 • val=0.223751 • impr= 24.2% • lr=3.95e-04 • g≈785.51\n"
     ]
    },
    {
     "data": {
      "application/vnd.jupyter.widget-view+json": {
       "model_id": "ec806e7e65574b1a99b23bbdaf917f76",
       "version_major": 2,
       "version_minor": 0
      },
      "text/plain": [
       "Epoch 103:   0%|                                                                                | 0/64 [00:00<…"
      ]
     },
     "metadata": {},
     "output_type": "display_data"
    },
    {
     "name": "stdout",
     "output_type": "stream",
     "text": [
      "Epoch 103 • train=0.309478 • val=0.221039 • impr= 25.1% • lr=3.94e-04 • g≈785.63\n"
     ]
    },
    {
     "data": {
      "application/vnd.jupyter.widget-view+json": {
       "model_id": "d61a24fb90e5446ab8b7939b7827a7de",
       "version_major": 2,
       "version_minor": 0
      },
      "text/plain": [
       "Epoch 104:   0%|                                                                                | 0/64 [00:00<…"
      ]
     },
     "metadata": {},
     "output_type": "display_data"
    },
    {
     "name": "stdout",
     "output_type": "stream",
     "text": [
      "Epoch 104 • train=0.305786 • val=0.223147 • impr= 24.4% • lr=3.92e-04 • g≈779.54\n"
     ]
    },
    {
     "data": {
      "application/vnd.jupyter.widget-view+json": {
       "model_id": "70dd6342787d4cb9b9de0d528d39206a",
       "version_major": 2,
       "version_minor": 0
      },
      "text/plain": [
       "Epoch 105:   0%|                                                                                | 0/64 [00:00<…"
      ]
     },
     "metadata": {},
     "output_type": "display_data"
    },
    {
     "name": "stdout",
     "output_type": "stream",
     "text": [
      "Epoch 105 • train=0.302949 • val=0.220845 • impr= 25.2% • lr=3.90e-04 • g≈775.98\n"
     ]
    },
    {
     "data": {
      "application/vnd.jupyter.widget-view+json": {
       "model_id": "a54ea4fbdd804382a54621ad508f87e0",
       "version_major": 2,
       "version_minor": 0
      },
      "text/plain": [
       "Epoch 106:   0%|                                                                                | 0/64 [00:00<…"
      ]
     },
     "metadata": {},
     "output_type": "display_data"
    },
    {
     "name": "stdout",
     "output_type": "stream",
     "text": [
      "Epoch 106 • train=0.300817 • val=0.223821 • impr= 24.2% • lr=3.88e-04 • g≈774.58\n"
     ]
    },
    {
     "data": {
      "application/vnd.jupyter.widget-view+json": {
       "model_id": "3bf8a9e3038240b5be54fc85c545eef3",
       "version_major": 2,
       "version_minor": 0
      },
      "text/plain": [
       "Epoch 107:   0%|                                                                                | 0/64 [00:00<…"
      ]
     },
     "metadata": {},
     "output_type": "display_data"
    },
    {
     "name": "stdout",
     "output_type": "stream",
     "text": [
      "Epoch 107 • train=0.299529 • val=0.219472 • impr= 25.6% • lr=3.86e-04 • g≈775.73\n"
     ]
    },
    {
     "data": {
      "application/vnd.jupyter.widget-view+json": {
       "model_id": "c31df47fc6c0428282d0848e8fd20ec6",
       "version_major": 2,
       "version_minor": 0
      },
      "text/plain": [
       "Epoch 108:   0%|                                                                                | 0/64 [00:00<…"
      ]
     },
     "metadata": {},
     "output_type": "display_data"
    },
    {
     "name": "stdout",
     "output_type": "stream",
     "text": [
      "Epoch 108 • train=0.297305 • val=0.226695 • impr= 23.2% • lr=3.84e-04 • g≈774.84\n"
     ]
    },
    {
     "data": {
      "application/vnd.jupyter.widget-view+json": {
       "model_id": "42a5085029124eeca6f93f1895619877",
       "version_major": 2,
       "version_minor": 0
      },
      "text/plain": [
       "Epoch 109:   0%|                                                                                | 0/64 [00:00<…"
      ]
     },
     "metadata": {},
     "output_type": "display_data"
    },
    {
     "name": "stdout",
     "output_type": "stream",
     "text": [
      "Epoch 109 • train=0.295464 • val=0.218541 • impr= 26.0% • lr=3.81e-04 • g≈775.32\n"
     ]
    },
    {
     "data": {
      "application/vnd.jupyter.widget-view+json": {
       "model_id": "29a9559e853d4693a2efd5d45759a2b8",
       "version_major": 2,
       "version_minor": 0
      },
      "text/plain": [
       "Epoch 110:   0%|                                                                                | 0/64 [00:00<…"
      ]
     },
     "metadata": {},
     "output_type": "display_data"
    },
    {
     "name": "stdout",
     "output_type": "stream",
     "text": [
      "Epoch 110 • train=0.293054 • val=0.222610 • impr= 24.6% • lr=3.78e-04 • g≈774.68\n"
     ]
    },
    {
     "data": {
      "application/vnd.jupyter.widget-view+json": {
       "model_id": "83a32b9a006c4e6daff9ffbe89491aea",
       "version_major": 2,
       "version_minor": 0
      },
      "text/plain": [
       "Epoch 111:   0%|                                                                                | 0/64 [00:00<…"
      ]
     },
     "metadata": {},
     "output_type": "display_data"
    },
    {
     "name": "stdout",
     "output_type": "stream",
     "text": [
      "Epoch 111 • train=0.290680 • val=0.220331 • impr= 25.4% • lr=3.75e-04 • g≈774.49\n"
     ]
    },
    {
     "data": {
      "application/vnd.jupyter.widget-view+json": {
       "model_id": "f6f2ced5f475440db8c51747b4a68531",
       "version_major": 2,
       "version_minor": 0
      },
      "text/plain": [
       "Epoch 112:   0%|                                                                                | 0/64 [00:00<…"
      ]
     },
     "metadata": {},
     "output_type": "display_data"
    },
    {
     "name": "stdout",
     "output_type": "stream",
     "text": [
      "Epoch 112 • train=0.290617 • val=0.220548 • impr= 25.3% • lr=3.72e-04 • g≈780.88\n"
     ]
    },
    {
     "data": {
      "application/vnd.jupyter.widget-view+json": {
       "model_id": "659bcc4e68094f2ab12b94c6740a69d4",
       "version_major": 2,
       "version_minor": 0
      },
      "text/plain": [
       "Epoch 113:   0%|                                                                                | 0/64 [00:00<…"
      ]
     },
     "metadata": {},
     "output_type": "display_data"
    },
    {
     "name": "stdout",
     "output_type": "stream",
     "text": [
      "Epoch 113 • train=0.290459 • val=0.221125 • impr= 25.1% • lr=3.69e-04 • g≈787.50\n"
     ]
    },
    {
     "data": {
      "application/vnd.jupyter.widget-view+json": {
       "model_id": "69d8e61cbb574f2d978cca963c474bb2",
       "version_major": 2,
       "version_minor": 0
      },
      "text/plain": [
       "Epoch 114:   0%|                                                                                | 0/64 [00:00<…"
      ]
     },
     "metadata": {},
     "output_type": "display_data"
    },
    {
     "name": "stdout",
     "output_type": "stream",
     "text": [
      "Epoch 114 • train=0.289847 • val=0.220780 • impr= 25.2% • lr=3.65e-04 • g≈793.36\n"
     ]
    },
    {
     "data": {
      "application/vnd.jupyter.widget-view+json": {
       "model_id": "312345c569ba47d4bcc82e28ebed04de",
       "version_major": 2,
       "version_minor": 0
      },
      "text/plain": [
       "Epoch 115:   0%|                                                                                | 0/64 [00:00<…"
      ]
     },
     "metadata": {},
     "output_type": "display_data"
    },
    {
     "name": "stdout",
     "output_type": "stream",
     "text": [
      "Epoch 115 • train=0.285646 • val=0.220316 • impr= 25.4% • lr=3.62e-04 • g≈789.78\n"
     ]
    },
    {
     "data": {
      "application/vnd.jupyter.widget-view+json": {
       "model_id": "5efc20ef936949ad9fd140793f71c323",
       "version_major": 2,
       "version_minor": 0
      },
      "text/plain": [
       "Epoch 116:   0%|                                                                                | 0/64 [00:00<…"
      ]
     },
     "metadata": {},
     "output_type": "display_data"
    },
    {
     "name": "stdout",
     "output_type": "stream",
     "text": [
      "Epoch 116 • train=0.283759 • val=0.221708 • impr= 24.9% • lr=3.58e-04 • g≈792.95\n"
     ]
    },
    {
     "data": {
      "application/vnd.jupyter.widget-view+json": {
       "model_id": "68d343435be34c98b5e11c1fd30dcacf",
       "version_major": 2,
       "version_minor": 0
      },
      "text/plain": [
       "Epoch 117:   0%|                                                                                | 0/64 [00:00<…"
      ]
     },
     "metadata": {},
     "output_type": "display_data"
    },
    {
     "name": "stdout",
     "output_type": "stream",
     "text": [
      "Epoch 117 • train=0.285053 • val=0.220211 • impr= 25.4% • lr=3.54e-04 • g≈805.53\n"
     ]
    },
    {
     "data": {
      "application/vnd.jupyter.widget-view+json": {
       "model_id": "fbf32baec5fa45b9a3f87fded7ab3b0d",
       "version_major": 2,
       "version_minor": 0
      },
      "text/plain": [
       "Epoch 118:   0%|                                                                                | 0/64 [00:00<…"
      ]
     },
     "metadata": {},
     "output_type": "display_data"
    },
    {
     "name": "stdout",
     "output_type": "stream",
     "text": [
      "Epoch 118 • train=0.280289 • val=0.219360 • impr= 25.7% • lr=3.50e-04 • g≈801.44\n"
     ]
    },
    {
     "data": {
      "application/vnd.jupyter.widget-view+json": {
       "model_id": "fd70cd8e01584c418996284babd3e37e",
       "version_major": 2,
       "version_minor": 0
      },
      "text/plain": [
       "Epoch 119:   0%|                                                                                | 0/64 [00:00<…"
      ]
     },
     "metadata": {},
     "output_type": "display_data"
    },
    {
     "name": "stdout",
     "output_type": "stream",
     "text": [
      "Epoch 119 • train=0.280657 • val=0.222266 • impr= 24.7% • lr=3.45e-04 • g≈812.45\n"
     ]
    },
    {
     "data": {
      "application/vnd.jupyter.widget-view+json": {
       "model_id": "5bf5bcb9f38d49839b35d68d710b8ae9",
       "version_major": 2,
       "version_minor": 0
      },
      "text/plain": [
       "Epoch 120:   0%|                                                                                | 0/64 [00:00<…"
      ]
     },
     "metadata": {},
     "output_type": "display_data"
    },
    {
     "name": "stdout",
     "output_type": "stream",
     "text": [
      "Epoch 120 • train=0.279042 • val=0.218795 • impr= 25.9% • lr=3.41e-04 • g≈818.27\n"
     ]
    },
    {
     "data": {
      "application/vnd.jupyter.widget-view+json": {
       "model_id": "ecdfb76ba601454e94495bbe305ce77b",
       "version_major": 2,
       "version_minor": 0
      },
      "text/plain": [
       "Epoch 121:   0%|                                                                                | 0/64 [00:00<…"
      ]
     },
     "metadata": {},
     "output_type": "display_data"
    },
    {
     "name": "stdout",
     "output_type": "stream",
     "text": [
      "Epoch 121 • train=0.277843 • val=0.221584 • impr= 24.9% • lr=3.36e-04 • g≈825.83\n"
     ]
    },
    {
     "data": {
      "application/vnd.jupyter.widget-view+json": {
       "model_id": "28f8ad5a03f14bd0a7f56ab1f229504c",
       "version_major": 2,
       "version_minor": 0
      },
      "text/plain": [
       "Epoch 122:   0%|                                                                                | 0/64 [00:00<…"
      ]
     },
     "metadata": {},
     "output_type": "display_data"
    },
    {
     "name": "stdout",
     "output_type": "stream",
     "text": [
      "Epoch 122 • train=0.278986 • val=0.219501 • impr= 25.6% • lr=3.32e-04 • g≈841.00\n"
     ]
    },
    {
     "data": {
      "application/vnd.jupyter.widget-view+json": {
       "model_id": "d262d738cdb74fe9bfbdea908ecc94c9",
       "version_major": 2,
       "version_minor": 0
      },
      "text/plain": [
       "Epoch 123:   0%|                                                                                | 0/64 [00:00<…"
      ]
     },
     "metadata": {},
     "output_type": "display_data"
    },
    {
     "name": "stdout",
     "output_type": "stream",
     "text": [
      "Epoch 123 • train=0.275677 • val=0.221359 • impr= 25.0% • lr=3.27e-04 • g≈843.32\n"
     ]
    },
    {
     "data": {
      "application/vnd.jupyter.widget-view+json": {
       "model_id": "2442ca375fac49a9af8d496e664dd9fd",
       "version_major": 2,
       "version_minor": 0
      },
      "text/plain": [
       "Epoch 124:   0%|                                                                                | 0/64 [00:00<…"
      ]
     },
     "metadata": {},
     "output_type": "display_data"
    },
    {
     "name": "stdout",
     "output_type": "stream",
     "text": [
      "Epoch 124 • train=0.275503 • val=0.220352 • impr= 25.3% • lr=3.22e-04 • g≈855.78\n"
     ]
    },
    {
     "data": {
      "application/vnd.jupyter.widget-view+json": {
       "model_id": "b89ef8b9566949179e642df34bd2d23c",
       "version_major": 2,
       "version_minor": 0
      },
      "text/plain": [
       "Epoch 125:   0%|                                                                                | 0/64 [00:00<…"
      ]
     },
     "metadata": {},
     "output_type": "display_data"
    },
    {
     "name": "stdout",
     "output_type": "stream",
     "text": [
      "Epoch 125 • train=0.274324 • val=0.219995 • impr= 25.5% • lr=3.17e-04 • g≈865.79\n"
     ]
    },
    {
     "data": {
      "application/vnd.jupyter.widget-view+json": {
       "model_id": "688d161859ef485ba17dd6253a1063c3",
       "version_major": 2,
       "version_minor": 0
      },
      "text/plain": [
       "Epoch 126:   0%|                                                                                | 0/64 [00:00<…"
      ]
     },
     "metadata": {},
     "output_type": "display_data"
    },
    {
     "name": "stdout",
     "output_type": "stream",
     "text": [
      "Epoch 126 • train=0.273330 • val=0.221803 • impr= 24.9% • lr=3.12e-04 • g≈877.04\n"
     ]
    },
    {
     "data": {
      "application/vnd.jupyter.widget-view+json": {
       "model_id": "f4d8fe08a3c14a2b88d1fdae0b28ffc2",
       "version_major": 2,
       "version_minor": 0
      },
      "text/plain": [
       "Epoch 127:   0%|                                                                                | 0/64 [00:00<…"
      ]
     },
     "metadata": {},
     "output_type": "display_data"
    },
    {
     "name": "stdout",
     "output_type": "stream",
     "text": [
      "Epoch 127 • train=0.271575 • val=0.218991 • impr= 25.8% • lr=3.06e-04 • g≈886.51\n"
     ]
    },
    {
     "data": {
      "application/vnd.jupyter.widget-view+json": {
       "model_id": "0d7f89ba4e5a41c3a2ee644ddb7792e7",
       "version_major": 2,
       "version_minor": 0
      },
      "text/plain": [
       "Epoch 128:   0%|                                                                                | 0/64 [00:00<…"
      ]
     },
     "metadata": {},
     "output_type": "display_data"
    },
    {
     "name": "stdout",
     "output_type": "stream",
     "text": [
      "Epoch 128 • train=0.268249 • val=0.220721 • impr= 25.2% • lr=3.01e-04 • g≈891.39\n"
     ]
    },
    {
     "data": {
      "application/vnd.jupyter.widget-view+json": {
       "model_id": "26d6573691b94c22b65de74f15ca67a4",
       "version_major": 2,
       "version_minor": 0
      },
      "text/plain": [
       "Epoch 129:   0%|                                                                                | 0/64 [00:00<…"
      ]
     },
     "metadata": {},
     "output_type": "display_data"
    },
    {
     "name": "stdout",
     "output_type": "stream",
     "text": [
      "Epoch 129 • train=0.269589 • val=0.219330 • impr= 25.7% • lr=2.95e-04 • g≈912.54\n"
     ]
    },
    {
     "data": {
      "application/vnd.jupyter.widget-view+json": {
       "model_id": "d977c1f827a845a1997f025f50698dd2",
       "version_major": 2,
       "version_minor": 0
      },
      "text/plain": [
       "Epoch 130:   0%|                                                                                | 0/64 [00:00<…"
      ]
     },
     "metadata": {},
     "output_type": "display_data"
    },
    {
     "name": "stdout",
     "output_type": "stream",
     "text": [
      "Epoch 130 • train=0.268380 • val=0.219580 • impr= 25.6% • lr=2.90e-04 • g≈926.00\n"
     ]
    },
    {
     "data": {
      "application/vnd.jupyter.widget-view+json": {
       "model_id": "9e7bf844915444919a495387c9f1b276",
       "version_major": 2,
       "version_minor": 0
      },
      "text/plain": [
       "Epoch 131:   0%|                                                                                | 0/64 [00:00<…"
      ]
     },
     "metadata": {},
     "output_type": "display_data"
    },
    {
     "name": "stdout",
     "output_type": "stream",
     "text": [
      "Epoch 131 • train=0.268620 • val=0.219561 • impr= 25.6% • lr=2.84e-04 • g≈945.37\n"
     ]
    },
    {
     "data": {
      "application/vnd.jupyter.widget-view+json": {
       "model_id": "bb934caf3b6444a6809398cc46b1f778",
       "version_major": 2,
       "version_minor": 0
      },
      "text/plain": [
       "Epoch 132:   0%|                                                                                | 0/64 [00:00<…"
      ]
     },
     "metadata": {},
     "output_type": "display_data"
    },
    {
     "name": "stdout",
     "output_type": "stream",
     "text": [
      "Epoch 132 • train=0.266529 • val=0.218656 • impr= 25.9% • lr=2.78e-04 • g≈957.43\n"
     ]
    },
    {
     "data": {
      "application/vnd.jupyter.widget-view+json": {
       "model_id": "2a2a3b1f13b54ab4831f7a791a2e3f86",
       "version_major": 2,
       "version_minor": 0
      },
      "text/plain": [
       "Epoch 133:   0%|                                                                                | 0/64 [00:00<…"
      ]
     },
     "metadata": {},
     "output_type": "display_data"
    },
    {
     "name": "stdout",
     "output_type": "stream",
     "text": [
      "Epoch 133 • train=0.266613 • val=0.220748 • impr= 25.2% • lr=2.73e-04 • g≈978.24\n"
     ]
    },
    {
     "data": {
      "application/vnd.jupyter.widget-view+json": {
       "model_id": "b5d525319bce46f59b28dd6c838bf0dd",
       "version_major": 2,
       "version_minor": 0
      },
      "text/plain": [
       "Epoch 134:   0%|                                                                                | 0/64 [00:00<…"
      ]
     },
     "metadata": {},
     "output_type": "display_data"
    },
    {
     "name": "stdout",
     "output_type": "stream",
     "text": [
      "Epoch 134 • train=0.266345 • val=0.217581 • impr= 26.3% • lr=2.67e-04 • g≈998.89\n"
     ]
    },
    {
     "data": {
      "application/vnd.jupyter.widget-view+json": {
       "model_id": "7bf1705ef5f84bfa8238ccd32288603b",
       "version_major": 2,
       "version_minor": 0
      },
      "text/plain": [
       "Epoch 135:   0%|                                                                                | 0/64 [00:00<…"
      ]
     },
     "metadata": {},
     "output_type": "display_data"
    },
    {
     "name": "stdout",
     "output_type": "stream",
     "text": [
      "Epoch 135 • train=0.265573 • val=0.219233 • impr= 25.7% • lr=2.61e-04 • g≈1018.79\n"
     ]
    },
    {
     "data": {
      "application/vnd.jupyter.widget-view+json": {
       "model_id": "33bd2912a84c46e68d866cc8b82b38e7",
       "version_major": 2,
       "version_minor": 0
      },
      "text/plain": [
       "Epoch 136:   0%|                                                                                | 0/64 [00:00<…"
      ]
     },
     "metadata": {},
     "output_type": "display_data"
    },
    {
     "name": "stdout",
     "output_type": "stream",
     "text": [
      "Epoch 136 • train=0.263529 • val=0.218815 • impr= 25.9% • lr=2.55e-04 • g≈1034.84\n"
     ]
    },
    {
     "data": {
      "application/vnd.jupyter.widget-view+json": {
       "model_id": "7cd433bc141a40f487ef0232c7dc8870",
       "version_major": 2,
       "version_minor": 0
      },
      "text/plain": [
       "Epoch 137:   0%|                                                                                | 0/64 [00:00<…"
      ]
     },
     "metadata": {},
     "output_type": "display_data"
    },
    {
     "name": "stdout",
     "output_type": "stream",
     "text": [
      "Epoch 137 • train=0.263879 • val=0.218306 • impr= 26.0% • lr=2.49e-04 • g≈1061.50\n"
     ]
    },
    {
     "data": {
      "application/vnd.jupyter.widget-view+json": {
       "model_id": "d32193fe867347c9abfa8ad8458a95ad",
       "version_major": 2,
       "version_minor": 0
      },
      "text/plain": [
       "Epoch 138:   0%|                                                                                | 0/64 [00:00<…"
      ]
     },
     "metadata": {},
     "output_type": "display_data"
    },
    {
     "name": "stdout",
     "output_type": "stream",
     "text": [
      "Epoch 138 • train=0.262843 • val=0.220013 • impr= 25.5% • lr=2.42e-04 • g≈1083.97\n"
     ]
    },
    {
     "data": {
      "application/vnd.jupyter.widget-view+json": {
       "model_id": "12dc84e62fab403cb0e3a4c81c5c1ae3",
       "version_major": 2,
       "version_minor": 0
      },
      "text/plain": [
       "Epoch 139:   0%|                                                                                | 0/64 [00:00<…"
      ]
     },
     "metadata": {},
     "output_type": "display_data"
    },
    {
     "name": "stdout",
     "output_type": "stream",
     "text": [
      "Epoch 139 • train=0.263513 • val=0.217375 • impr= 26.4% • lr=2.36e-04 • g≈1114.97\n"
     ]
    },
    {
     "data": {
      "application/vnd.jupyter.widget-view+json": {
       "model_id": "120fdfd923154f15a26cbef3e3c7871b",
       "version_major": 2,
       "version_minor": 0
      },
      "text/plain": [
       "Epoch 140:   0%|                                                                                | 0/64 [00:00<…"
      ]
     },
     "metadata": {},
     "output_type": "display_data"
    },
    {
     "name": "stdout",
     "output_type": "stream",
     "text": [
      "Epoch 140 • train=0.261280 • val=0.219607 • impr= 25.6% • lr=2.30e-04 • g≈1135.16\n"
     ]
    },
    {
     "data": {
      "application/vnd.jupyter.widget-view+json": {
       "model_id": "02d6720f5106447a9bc5d07f50c87998",
       "version_major": 2,
       "version_minor": 0
      },
      "text/plain": [
       "Epoch 141:   0%|                                                                                | 0/64 [00:00<…"
      ]
     },
     "metadata": {},
     "output_type": "display_data"
    },
    {
     "name": "stdout",
     "output_type": "stream",
     "text": [
      "Epoch 141 • train=0.261492 • val=0.217812 • impr= 26.2% • lr=2.24e-04 • g≈1167.50\n"
     ]
    },
    {
     "data": {
      "application/vnd.jupyter.widget-view+json": {
       "model_id": "6e1094bc64b44bff9caa284796ddc4ae",
       "version_major": 2,
       "version_minor": 0
      },
      "text/plain": [
       "Epoch 142:   0%|                                                                                | 0/64 [00:00<…"
      ]
     },
     "metadata": {},
     "output_type": "display_data"
    },
    {
     "name": "stdout",
     "output_type": "stream",
     "text": [
      "Epoch 142 • train=0.260209 • val=0.217881 • impr= 26.2% • lr=2.18e-04 • g≈1194.88\n"
     ]
    },
    {
     "data": {
      "application/vnd.jupyter.widget-view+json": {
       "model_id": "29727384c6c64139b8cd8f35d176b36b",
       "version_major": 2,
       "version_minor": 0
      },
      "text/plain": [
       "Epoch 143:   0%|                                                                                | 0/64 [00:00<…"
      ]
     },
     "metadata": {},
     "output_type": "display_data"
    },
    {
     "name": "stdout",
     "output_type": "stream",
     "text": [
      "Epoch 143 • train=0.259799 • val=0.219295 • impr= 25.7% • lr=2.12e-04 • g≈1228.05\n"
     ]
    },
    {
     "data": {
      "application/vnd.jupyter.widget-view+json": {
       "model_id": "55a6bc563f6f4635ac2394071a17b63f",
       "version_major": 2,
       "version_minor": 0
      },
      "text/plain": [
       "Epoch 144:   0%|                                                                                | 0/64 [00:00<…"
      ]
     },
     "metadata": {},
     "output_type": "display_data"
    },
    {
     "name": "stdout",
     "output_type": "stream",
     "text": [
      "Epoch 144 • train=0.260028 • val=0.217233 • impr= 26.4% • lr=2.05e-04 • g≈1266.35\n"
     ]
    },
    {
     "data": {
      "application/vnd.jupyter.widget-view+json": {
       "model_id": "decd258d8e9f48aeb62797def3eba773",
       "version_major": 2,
       "version_minor": 0
      },
      "text/plain": [
       "Epoch 145:   0%|                                                                                | 0/64 [00:00<…"
      ]
     },
     "metadata": {},
     "output_type": "display_data"
    },
    {
     "name": "stdout",
     "output_type": "stream",
     "text": [
      "Epoch 145 • train=0.260120 • val=0.218087 • impr= 26.1% • lr=1.99e-04 • g≈1306.31\n"
     ]
    },
    {
     "data": {
      "application/vnd.jupyter.widget-view+json": {
       "model_id": "99efd41d54824585858ca2eb3d137ed9",
       "version_major": 2,
       "version_minor": 0
      },
      "text/plain": [
       "Epoch 146:   0%|                                                                                | 0/64 [00:00<…"
      ]
     },
     "metadata": {},
     "output_type": "display_data"
    },
    {
     "name": "stdout",
     "output_type": "stream",
     "text": [
      "Epoch 146 • train=0.259018 • val=0.219203 • impr= 25.7% • lr=1.93e-04 • g≈1342.59\n"
     ]
    },
    {
     "data": {
      "application/vnd.jupyter.widget-view+json": {
       "model_id": "1d94aff6ecb647b799a1be579fa8d3b4",
       "version_major": 2,
       "version_minor": 0
      },
      "text/plain": [
       "Epoch 147:   0%|                                                                                | 0/64 [00:00<…"
      ]
     },
     "metadata": {},
     "output_type": "display_data"
    },
    {
     "name": "stdout",
     "output_type": "stream",
     "text": [
      "Epoch 147 • train=0.258453 • val=0.217188 • impr= 26.4% • lr=1.87e-04 • g≈1384.01\n"
     ]
    },
    {
     "data": {
      "application/vnd.jupyter.widget-view+json": {
       "model_id": "1ce31f6c1c444914a085836a078cfb05",
       "version_major": 2,
       "version_minor": 0
      },
      "text/plain": [
       "Epoch 148:   0%|                                                                                | 0/64 [00:00<…"
      ]
     },
     "metadata": {},
     "output_type": "display_data"
    },
    {
     "name": "stdout",
     "output_type": "stream",
     "text": [
      "Epoch 148 • train=0.258577 • val=0.218357 • impr= 26.0% • lr=1.81e-04 • g≈1431.89\n"
     ]
    },
    {
     "data": {
      "application/vnd.jupyter.widget-view+json": {
       "model_id": "d42127f523ee4040b0a25274d3b2fee2",
       "version_major": 2,
       "version_minor": 0
      },
      "text/plain": [
       "Epoch 149:   0%|                                                                                | 0/64 [00:00<…"
      ]
     },
     "metadata": {},
     "output_type": "display_data"
    },
    {
     "name": "stdout",
     "output_type": "stream",
     "text": [
      "Epoch 149 • train=0.256486 • val=0.217956 • impr= 26.2% • lr=1.74e-04 • g≈1470.18\n"
     ]
    },
    {
     "data": {
      "application/vnd.jupyter.widget-view+json": {
       "model_id": "83968f3a3cb24719a71a7f8fdab54f64",
       "version_major": 2,
       "version_minor": 0
      },
      "text/plain": [
       "Epoch 150:   0%|                                                                                | 0/64 [00:00<…"
      ]
     },
     "metadata": {},
     "output_type": "display_data"
    },
    {
     "name": "stdout",
     "output_type": "stream",
     "text": [
      "Epoch 150 • train=0.256233 • val=0.217185 • impr= 26.4% • lr=1.68e-04 • g≈1521.84\n"
     ]
    },
    {
     "data": {
      "application/vnd.jupyter.widget-view+json": {
       "model_id": "73d0a9532ccc4f9eb042ced4d98c1cb4",
       "version_major": 2,
       "version_minor": 0
      },
      "text/plain": [
       "Epoch 151:   0%|                                                                                | 0/64 [00:00<…"
      ]
     },
     "metadata": {},
     "output_type": "display_data"
    },
    {
     "name": "stdout",
     "output_type": "stream",
     "text": [
      "Epoch 151 • train=0.256055 • val=0.217760 • impr= 26.2% • lr=1.62e-04 • g≈1577.39\n"
     ]
    },
    {
     "data": {
      "application/vnd.jupyter.widget-view+json": {
       "model_id": "053d62ca81b04f5ba6f2644429686070",
       "version_major": 2,
       "version_minor": 0
      },
      "text/plain": [
       "Epoch 152:   0%|                                                                                | 0/64 [00:00<…"
      ]
     },
     "metadata": {},
     "output_type": "display_data"
    },
    {
     "name": "stdout",
     "output_type": "stream",
     "text": [
      "Epoch 152 • train=0.256801 • val=0.218892 • impr= 25.8% • lr=1.56e-04 • g≈1642.63\n"
     ]
    },
    {
     "data": {
      "application/vnd.jupyter.widget-view+json": {
       "model_id": "9eff28fca51d4d94b7db9ac77e2300a3",
       "version_major": 2,
       "version_minor": 0
      },
      "text/plain": [
       "Epoch 153:   0%|                                                                                | 0/64 [00:00<…"
      ]
     },
     "metadata": {},
     "output_type": "display_data"
    },
    {
     "name": "stdout",
     "output_type": "stream",
     "text": [
      "Epoch 153 • train=0.255958 • val=0.217571 • impr= 26.3% • lr=1.50e-04 • g≈1701.84\n"
     ]
    },
    {
     "data": {
      "application/vnd.jupyter.widget-view+json": {
       "model_id": "302d57bcbf5042e1b81ea1e037ba8081",
       "version_major": 2,
       "version_minor": 0
      },
      "text/plain": [
       "Epoch 154:   0%|                                                                                | 0/64 [00:00<…"
      ]
     },
     "metadata": {},
     "output_type": "display_data"
    },
    {
     "name": "stdout",
     "output_type": "stream",
     "text": [
      "Epoch 154 • train=0.254656 • val=0.217630 • impr= 26.3% • lr=1.45e-04 • g≈1761.97\n"
     ]
    },
    {
     "data": {
      "application/vnd.jupyter.widget-view+json": {
       "model_id": "54ed1b87537846178acfc8de95e45c59",
       "version_major": 2,
       "version_minor": 0
      },
      "text/plain": [
       "Epoch 155:   0%|                                                                                | 0/64 [00:00<…"
      ]
     },
     "metadata": {},
     "output_type": "display_data"
    },
    {
     "name": "stdout",
     "output_type": "stream",
     "text": [
      "Epoch 155 • train=0.254161 • val=0.218315 • impr= 26.0% • lr=1.39e-04 • g≈1832.07\n"
     ]
    },
    {
     "data": {
      "application/vnd.jupyter.widget-view+json": {
       "model_id": "6e96bc3207f847e99cc3eaeebb765b99",
       "version_major": 2,
       "version_minor": 0
      },
      "text/plain": [
       "Epoch 156:   0%|                                                                                | 0/64 [00:00<…"
      ]
     },
     "metadata": {},
     "output_type": "display_data"
    },
    {
     "name": "stdout",
     "output_type": "stream",
     "text": [
      "Epoch 156 • train=0.254227 • val=0.217742 • impr= 26.2% • lr=1.33e-04 • g≈1911.42\n"
     ]
    },
    {
     "data": {
      "application/vnd.jupyter.widget-view+json": {
       "model_id": "be43a92c2e404bae9532f50885c34328",
       "version_major": 2,
       "version_minor": 0
      },
      "text/plain": [
       "Epoch 157:   0%|                                                                                | 0/64 [00:00<…"
      ]
     },
     "metadata": {},
     "output_type": "display_data"
    },
    {
     "name": "stdout",
     "output_type": "stream",
     "text": [
      "Epoch 157 • train=0.255811 • val=0.217542 • impr= 26.3% • lr=1.27e-04 • g≈2008.53\n"
     ]
    },
    {
     "data": {
      "application/vnd.jupyter.widget-view+json": {
       "model_id": "bb4cf7c112014d74acba61377197a561",
       "version_major": 2,
       "version_minor": 0
      },
      "text/plain": [
       "Epoch 158:   0%|                                                                                | 0/64 [00:00<…"
      ]
     },
     "metadata": {},
     "output_type": "display_data"
    },
    {
     "name": "stdout",
     "output_type": "stream",
     "text": [
      "Epoch 158 • train=0.253766 • val=0.217395 • impr= 26.4% • lr=1.22e-04 • g≈2083.32\n"
     ]
    },
    {
     "data": {
      "application/vnd.jupyter.widget-view+json": {
       "model_id": "26f3457322d243c2b0cd9aa796986cb1",
       "version_major": 2,
       "version_minor": 0
      },
      "text/plain": [
       "Epoch 159:   0%|                                                                                | 0/64 [00:00<…"
      ]
     },
     "metadata": {},
     "output_type": "display_data"
    },
    {
     "name": "stdout",
     "output_type": "stream",
     "text": [
      "Epoch 159 • train=0.255114 • val=0.217899 • impr= 26.2% • lr=1.16e-04 • g≈2192.66\n"
     ]
    },
    {
     "data": {
      "application/vnd.jupyter.widget-view+json": {
       "model_id": "bda617e95aea4830bea484e2bcdc8045",
       "version_major": 2,
       "version_minor": 0
      },
      "text/plain": [
       "Epoch 160:   0%|                                                                                | 0/64 [00:00<…"
      ]
     },
     "metadata": {},
     "output_type": "display_data"
    },
    {
     "name": "stdout",
     "output_type": "stream",
     "text": [
      "Epoch 160 • train=0.253357 • val=0.217194 • impr= 26.4% • lr=1.11e-04 • g≈2282.69\n"
     ]
    },
    {
     "data": {
      "application/vnd.jupyter.widget-view+json": {
       "model_id": "9053fbbc1ff14324a97d7f763a5f2fc7",
       "version_major": 2,
       "version_minor": 0
      },
      "text/plain": [
       "Epoch 161:   0%|                                                                                | 0/64 [00:00<…"
      ]
     },
     "metadata": {},
     "output_type": "display_data"
    },
    {
     "name": "stdout",
     "output_type": "stream",
     "text": [
      "Epoch 161 • train=0.253461 • val=0.217461 • impr= 26.3% • lr=1.06e-04 • g≈2397.08\n"
     ]
    },
    {
     "data": {
      "application/vnd.jupyter.widget-view+json": {
       "model_id": "66e49c931a794267ab90967098d1e901",
       "version_major": 2,
       "version_minor": 0
      },
      "text/plain": [
       "Epoch 162:   0%|                                                                                | 0/64 [00:00<…"
      ]
     },
     "metadata": {},
     "output_type": "display_data"
    },
    {
     "name": "stdout",
     "output_type": "stream",
     "text": [
      "Epoch 162 • train=0.254068 • val=0.217066 • impr= 26.5% • lr=1.01e-04 • g≈2525.62\n"
     ]
    },
    {
     "data": {
      "application/vnd.jupyter.widget-view+json": {
       "model_id": "e2b6c3bca44549a1b1ac753299a36a5a",
       "version_major": 2,
       "version_minor": 0
      },
      "text/plain": [
       "Epoch 163:   0%|                                                                                | 0/64 [00:00<…"
      ]
     },
     "metadata": {},
     "output_type": "display_data"
    },
    {
     "name": "stdout",
     "output_type": "stream",
     "text": [
      "Epoch 163 • train=0.253730 • val=0.216845 • impr= 26.5% • lr=9.56e-05 • g≈2654.85\n"
     ]
    },
    {
     "data": {
      "application/vnd.jupyter.widget-view+json": {
       "model_id": "24c130a944ed4816b6afb840747223b9",
       "version_major": 2,
       "version_minor": 0
      },
      "text/plain": [
       "Epoch 164:   0%|                                                                                | 0/64 [00:00<…"
      ]
     },
     "metadata": {},
     "output_type": "display_data"
    },
    {
     "name": "stdout",
     "output_type": "stream",
     "text": [
      "Epoch 164 • train=0.254381 • val=0.217418 • impr= 26.3% • lr=9.07e-05 • g≈2805.54\n"
     ]
    },
    {
     "data": {
      "application/vnd.jupyter.widget-view+json": {
       "model_id": "87f795b671c94d7296aa6afc0ef156db",
       "version_major": 2,
       "version_minor": 0
      },
      "text/plain": [
       "Epoch 165:   0%|                                                                                | 0/64 [00:00<…"
      ]
     },
     "metadata": {},
     "output_type": "display_data"
    },
    {
     "name": "stdout",
     "output_type": "stream",
     "text": [
      "Epoch 165 • train=0.251511 • val=0.217796 • impr= 26.2% • lr=8.59e-05 • g≈2928.05\n"
     ]
    },
    {
     "data": {
      "application/vnd.jupyter.widget-view+json": {
       "model_id": "b686e8d9982d4801a1aaea3d882cf4d9",
       "version_major": 2,
       "version_minor": 0
      },
      "text/plain": [
       "Epoch 166:   0%|                                                                                | 0/64 [00:00<…"
      ]
     },
     "metadata": {},
     "output_type": "display_data"
    },
    {
     "name": "stdout",
     "output_type": "stream",
     "text": [
      "Epoch 166 • train=0.249636 • val=0.217500 • impr= 26.3% • lr=8.13e-05 • g≈3072.21\n"
     ]
    },
    {
     "data": {
      "application/vnd.jupyter.widget-view+json": {
       "model_id": "de19abc82bfc451bbfc6cb3075f8b791",
       "version_major": 2,
       "version_minor": 0
      },
      "text/plain": [
       "Epoch 167:   0%|                                                                                | 0/64 [00:00<…"
      ]
     },
     "metadata": {},
     "output_type": "display_data"
    },
    {
     "name": "stdout",
     "output_type": "stream",
     "text": [
      "Epoch 167 • train=0.252798 • val=0.217007 • impr= 26.5% • lr=7.68e-05 • g≈3293.65\n"
     ]
    },
    {
     "data": {
      "application/vnd.jupyter.widget-view+json": {
       "model_id": "7e459453539b43daa91f56d9dda6df6c",
       "version_major": 2,
       "version_minor": 0
      },
      "text/plain": [
       "Epoch 168:   0%|                                                                                | 0/64 [00:00<…"
      ]
     },
     "metadata": {},
     "output_type": "display_data"
    },
    {
     "name": "stdout",
     "output_type": "stream",
     "text": [
      "Epoch 168 • train=0.249954 • val=0.216606 • impr= 26.6% • lr=7.24e-05 • g≈3452.74\n"
     ]
    },
    {
     "data": {
      "application/vnd.jupyter.widget-view+json": {
       "model_id": "fff1d85421fd4b0f839d242c604cd0fe",
       "version_major": 2,
       "version_minor": 0
      },
      "text/plain": [
       "Epoch 169:   0%|                                                                                | 0/64 [00:00<…"
      ]
     },
     "metadata": {},
     "output_type": "display_data"
    },
    {
     "name": "stdout",
     "output_type": "stream",
     "text": [
      "Epoch 169 • train=0.251779 • val=0.216745 • impr= 26.6% • lr=6.82e-05 • g≈3692.85\n"
     ]
    },
    {
     "data": {
      "application/vnd.jupyter.widget-view+json": {
       "model_id": "4350273bb67d4488b6d46df9c31ea457",
       "version_major": 2,
       "version_minor": 0
      },
      "text/plain": [
       "Epoch 170:   0%|                                                                                | 0/64 [00:00<…"
      ]
     },
     "metadata": {},
     "output_type": "display_data"
    },
    {
     "name": "stdout",
     "output_type": "stream",
     "text": [
      "Epoch 170 • train=0.250356 • val=0.217664 • impr= 26.3% • lr=6.41e-05 • g≈3904.55\n"
     ]
    },
    {
     "data": {
      "application/vnd.jupyter.widget-view+json": {
       "model_id": "76a70cf002b34442a3d97ec8659854a0",
       "version_major": 2,
       "version_minor": 0
      },
      "text/plain": [
       "Epoch 171:   0%|                                                                                | 0/64 [00:00<…"
      ]
     },
     "metadata": {},
     "output_type": "display_data"
    },
    {
     "name": "stdout",
     "output_type": "stream",
     "text": [
      "Epoch 171 • train=0.252228 • val=0.217489 • impr= 26.3% • lr=6.02e-05 • g≈4188.84\n"
     ]
    },
    {
     "data": {
      "application/vnd.jupyter.widget-view+json": {
       "model_id": "87d5b138aab248b6a235945bb7aa884d",
       "version_major": 2,
       "version_minor": 0
      },
      "text/plain": [
       "Epoch 172:   0%|                                                                                | 0/64 [00:00<…"
      ]
     },
     "metadata": {},
     "output_type": "display_data"
    },
    {
     "name": "stdout",
     "output_type": "stream",
     "text": [
      "Epoch 172 • train=0.250083 • val=0.216941 • impr= 26.5% • lr=5.65e-05 • g≈4428.62\n"
     ]
    },
    {
     "data": {
      "application/vnd.jupyter.widget-view+json": {
       "model_id": "b4ec8426eb654e75ad864d6d2d3ed681",
       "version_major": 2,
       "version_minor": 0
      },
      "text/plain": [
       "Epoch 173:   0%|                                                                                | 0/64 [00:00<…"
      ]
     },
     "metadata": {},
     "output_type": "display_data"
    },
    {
     "name": "stdout",
     "output_type": "stream",
     "text": [
      "Epoch 173 • train=0.251314 • val=0.217147 • impr= 26.4% • lr=5.29e-05 • g≈4751.67\n"
     ]
    },
    {
     "data": {
      "application/vnd.jupyter.widget-view+json": {
       "model_id": "1df2345b1dd2454fb1681455ca203aa5",
       "version_major": 2,
       "version_minor": 0
      },
      "text/plain": [
       "Epoch 174:   0%|                                                                                | 0/64 [00:00<…"
      ]
     },
     "metadata": {},
     "output_type": "display_data"
    },
    {
     "name": "stdout",
     "output_type": "stream",
     "text": [
      "Epoch 174 • train=0.251010 • val=0.217052 • impr= 26.5% • lr=4.95e-05 • g≈5073.19\n"
     ]
    },
    {
     "data": {
      "application/vnd.jupyter.widget-view+json": {
       "model_id": "b440a30ebde2414dae163fb9c1398021",
       "version_major": 2,
       "version_minor": 0
      },
      "text/plain": [
       "Epoch 175:   0%|                                                                                | 0/64 [00:00<…"
      ]
     },
     "metadata": {},
     "output_type": "display_data"
    },
    {
     "name": "stdout",
     "output_type": "stream",
     "text": [
      "Epoch 175 • train=0.251219 • val=0.217103 • impr= 26.4% • lr=4.62e-05 • g≈5433.19\n"
     ]
    },
    {
     "data": {
      "application/vnd.jupyter.widget-view+json": {
       "model_id": "6fb3dd24750b4ce89aa567a9dc1a8f1f",
       "version_major": 2,
       "version_minor": 0
      },
      "text/plain": [
       "Epoch 176:   0%|                                                                                | 0/64 [00:00<…"
      ]
     },
     "metadata": {},
     "output_type": "display_data"
    },
    {
     "name": "stdout",
     "output_type": "stream",
     "text": [
      "Epoch 176 • train=0.249492 • val=0.216918 • impr= 26.5% • lr=4.32e-05 • g≈5778.84\n"
     ]
    },
    {
     "data": {
      "application/vnd.jupyter.widget-view+json": {
       "model_id": "b8ae8b6c13234ff88dfec4a774f5ed49",
       "version_major": 2,
       "version_minor": 0
      },
      "text/plain": [
       "Epoch 177:   0%|                                                                                | 0/64 [00:00<…"
      ]
     },
     "metadata": {},
     "output_type": "display_data"
    },
    {
     "name": "stdout",
     "output_type": "stream",
     "text": [
      "Epoch 177 • train=0.252271 • val=0.216557 • impr= 26.6% • lr=4.03e-05 • g≈6261.78\n"
     ]
    },
    {
     "data": {
      "application/vnd.jupyter.widget-view+json": {
       "model_id": "23a04665f08246a6aa584ba3eefc8fcb",
       "version_major": 2,
       "version_minor": 0
      },
      "text/plain": [
       "Epoch 178:   0%|                                                                                | 0/64 [00:00<…"
      ]
     },
     "metadata": {},
     "output_type": "display_data"
    },
    {
     "name": "stdout",
     "output_type": "stream",
     "text": [
      "Epoch 178 • train=0.249235 • val=0.216557 • impr= 26.6% • lr=3.76e-05 • g≈6631.54\n"
     ]
    },
    {
     "data": {
      "application/vnd.jupyter.widget-view+json": {
       "model_id": "17955345291746d4acb7705f64ec0797",
       "version_major": 2,
       "version_minor": 0
      },
      "text/plain": [
       "Epoch 179:   0%|                                                                                | 0/64 [00:00<…"
      ]
     },
     "metadata": {},
     "output_type": "display_data"
    },
    {
     "name": "stdout",
     "output_type": "stream",
     "text": [
      "Epoch 179 • train=0.250898 • val=0.217068 • impr= 26.5% • lr=3.51e-05 • g≈7155.51\n"
     ]
    },
    {
     "data": {
      "application/vnd.jupyter.widget-view+json": {
       "model_id": "4ad6d279d3834e2ea0c89bb44f6648b1",
       "version_major": 2,
       "version_minor": 0
      },
      "text/plain": [
       "Epoch 180:   0%|                                                                                | 0/64 [00:00<…"
      ]
     },
     "metadata": {},
     "output_type": "display_data"
    },
    {
     "name": "stdout",
     "output_type": "stream",
     "text": [
      "Epoch 180 • train=0.250065 • val=0.217399 • impr= 26.3% • lr=3.27e-05 • g≈7639.91\n"
     ]
    },
    {
     "data": {
      "application/vnd.jupyter.widget-view+json": {
       "model_id": "982254caf6fe46068391dcb0f91b67c1",
       "version_major": 2,
       "version_minor": 0
      },
      "text/plain": [
       "Epoch 181:   0%|                                                                                | 0/64 [00:00<…"
      ]
     },
     "metadata": {},
     "output_type": "display_data"
    },
    {
     "name": "stdout",
     "output_type": "stream",
     "text": [
      "Epoch 181 • train=0.251447 • val=0.217630 • impr= 26.3% • lr=3.06e-05 • g≈8220.19\n"
     ]
    },
    {
     "data": {
      "application/vnd.jupyter.widget-view+json": {
       "model_id": "cecaca000af14ca2bccad6760c1d33e7",
       "version_major": 2,
       "version_minor": 0
      },
      "text/plain": [
       "Epoch 182:   0%|                                                                                | 0/64 [00:00<…"
      ]
     },
     "metadata": {},
     "output_type": "display_data"
    },
    {
     "name": "stdout",
     "output_type": "stream",
     "text": [
      "Epoch 182 • train=0.250524 • val=0.217427 • impr= 26.3% • lr=2.86e-05 • g≈8747.76\n"
     ]
    },
    {
     "data": {
      "application/vnd.jupyter.widget-view+json": {
       "model_id": "59512c0e7bad412c9b3927ad96cf3f7f",
       "version_major": 2,
       "version_minor": 0
      },
      "text/plain": [
       "Epoch 183:   0%|                                                                                | 0/64 [00:00<…"
      ]
     },
     "metadata": {},
     "output_type": "display_data"
    },
    {
     "name": "stdout",
     "output_type": "stream",
     "text": [
      "Epoch 183 • train=0.249367 • val=0.217032 • impr= 26.5% • lr=2.69e-05 • g≈9276.15\n"
     ]
    },
    {
     "data": {
      "application/vnd.jupyter.widget-view+json": {
       "model_id": "3b09356fd7fa4b28ae237cde32f91119",
       "version_major": 2,
       "version_minor": 0
      },
      "text/plain": [
       "Epoch 184:   0%|                                                                                | 0/64 [00:00<…"
      ]
     },
     "metadata": {},
     "output_type": "display_data"
    },
    {
     "name": "stdout",
     "output_type": "stream",
     "text": [
      "Epoch 184 • train=0.251004 • val=0.216708 • impr= 26.6% • lr=2.53e-05 • g≈9912.28\n"
     ]
    },
    {
     "data": {
      "application/vnd.jupyter.widget-view+json": {
       "model_id": "a59db9fcb4fb4c99bf2e804a2825a47e",
       "version_major": 2,
       "version_minor": 0
      },
      "text/plain": [
       "Epoch 185:   0%|                                                                                | 0/64 [00:00<…"
      ]
     },
     "metadata": {},
     "output_type": "display_data"
    },
    {
     "name": "stdout",
     "output_type": "stream",
     "text": [
      "Epoch 185 • train=0.249443 • val=0.216481 • impr= 26.7% • lr=2.40e-05 • g≈10410.67\n"
     ]
    },
    {
     "data": {
      "application/vnd.jupyter.widget-view+json": {
       "model_id": "aef006e87dc342e09888e91776e1b790",
       "version_major": 2,
       "version_minor": 0
      },
      "text/plain": [
       "Epoch 186:   0%|                                                                                | 0/64 [00:00<…"
      ]
     },
     "metadata": {},
     "output_type": "display_data"
    },
    {
     "name": "stdout",
     "output_type": "stream",
     "text": [
      "Epoch 186 • train=0.250103 • val=0.216621 • impr= 26.6% • lr=2.28e-05 • g≈10970.76\n"
     ]
    },
    {
     "data": {
      "application/vnd.jupyter.widget-view+json": {
       "model_id": "d66d13fbd2b641baa5826e596c02c640",
       "version_major": 2,
       "version_minor": 0
      },
      "text/plain": [
       "Epoch 187:   0%|                                                                                | 0/64 [00:00<…"
      ]
     },
     "metadata": {},
     "output_type": "display_data"
    },
    {
     "name": "stdout",
     "output_type": "stream",
     "text": [
      "Epoch 187 • train=0.250165 • val=0.216965 • impr= 26.5% • lr=2.18e-05 • g≈11457.24\n"
     ]
    },
    {
     "data": {
      "application/vnd.jupyter.widget-view+json": {
       "model_id": "ec407daaf15a45ed9dac69b70bddf759",
       "version_major": 2,
       "version_minor": 0
      },
      "text/plain": [
       "Epoch 188:   0%|                                                                                | 0/64 [00:00<…"
      ]
     },
     "metadata": {},
     "output_type": "display_data"
    },
    {
     "name": "stdout",
     "output_type": "stream",
     "text": [
      "Epoch 188 • train=0.249949 • val=0.217347 • impr= 26.4% • lr=2.11e-05 • g≈11860.79\n"
     ]
    },
    {
     "data": {
      "application/vnd.jupyter.widget-view+json": {
       "model_id": "0a8290b18228437f9926a2e0526536d1",
       "version_major": 2,
       "version_minor": 0
      },
      "text/plain": [
       "Epoch 189:   0%|                                                                                | 0/64 [00:00<…"
      ]
     },
     "metadata": {},
     "output_type": "display_data"
    },
    {
     "name": "stdout",
     "output_type": "stream",
     "text": [
      "Epoch 189 • train=0.248549 • val=0.217513 • impr= 26.3% • lr=2.05e-05 • g≈12115.58\n"
     ]
    },
    {
     "data": {
      "application/vnd.jupyter.widget-view+json": {
       "model_id": "f2f2cc6b7ba44b0daf349a544456f981",
       "version_major": 2,
       "version_minor": 0
      },
      "text/plain": [
       "Epoch 190:   0%|                                                                                | 0/64 [00:00<…"
      ]
     },
     "metadata": {},
     "output_type": "display_data"
    },
    {
     "name": "stdout",
     "output_type": "stream",
     "text": [
      "Epoch 190 • train=0.248289 • val=0.217319 • impr= 26.4% • lr=2.02e-05 • g≈12316.58\n"
     ]
    },
    {
     "data": {
      "application/vnd.jupyter.widget-view+json": {
       "model_id": "f6b9ee3337f447bb85ed3e23a34a18f0",
       "version_major": 2,
       "version_minor": 0
      },
      "text/plain": [
       "Epoch 191:   0%|                                                                                | 0/64 [00:00<…"
      ]
     },
     "metadata": {},
     "output_type": "display_data"
    },
    {
     "name": "stdout",
     "output_type": "stream",
     "text": [
      "Epoch 191 • train=0.250151 • val=0.217071 • impr= 26.5% • lr=2.00e-05 • g≈12503.60\n"
     ]
    },
    {
     "data": {
      "application/vnd.jupyter.widget-view+json": {
       "model_id": "437156124eaf41939c623fe718e0b38e",
       "version_major": 2,
       "version_minor": 0
      },
      "text/plain": [
       "Epoch 192:   0%|                                                                                | 0/64 [00:00<…"
      ]
     },
     "metadata": {},
     "output_type": "display_data"
    },
    {
     "name": "stdout",
     "output_type": "stream",
     "text": [
      "Epoch 192 • train=0.250209 • val=0.217198 • impr= 26.4% • lr=4.00e-04 • g≈625.54\n"
     ]
    },
    {
     "data": {
      "application/vnd.jupyter.widget-view+json": {
       "model_id": "598d454ed1804e889595802c63079f82",
       "version_major": 2,
       "version_minor": 0
      },
      "text/plain": [
       "Epoch 193:   0%|                                                                                | 0/64 [00:00<…"
      ]
     },
     "metadata": {},
     "output_type": "display_data"
    },
    {
     "name": "stdout",
     "output_type": "stream",
     "text": [
      "Epoch 193 • train=0.250051 • val=0.217476 • impr= 26.3% • lr=4.00e-04 • g≈625.25\n"
     ]
    },
    {
     "data": {
      "application/vnd.jupyter.widget-view+json": {
       "model_id": "2c8c62c895d744819d7a3750c21c2604",
       "version_major": 2,
       "version_minor": 0
      },
      "text/plain": [
       "Epoch 194:   0%|                                                                                | 0/64 [00:00<…"
      ]
     },
     "metadata": {},
     "output_type": "display_data"
    },
    {
     "name": "stdout",
     "output_type": "stream",
     "text": [
      "Epoch 194 • train=0.250497 • val=0.217349 • impr= 26.4% • lr=4.00e-04 • g≈626.54\n"
     ]
    },
    {
     "data": {
      "application/vnd.jupyter.widget-view+json": {
       "model_id": "2115f93569784d27b35997d7d75d5838",
       "version_major": 2,
       "version_minor": 0
      },
      "text/plain": [
       "Epoch 195:   0%|                                                                                | 0/64 [00:00<…"
      ]
     },
     "metadata": {},
     "output_type": "display_data"
    },
    {
     "name": "stdout",
     "output_type": "stream",
     "text": [
      "Epoch 195 • train=0.249189 • val=0.217100 • impr= 26.5% • lr=4.00e-04 • g≈623.53\n"
     ]
    },
    {
     "data": {
      "application/vnd.jupyter.widget-view+json": {
       "model_id": "bac7d1c314a84be8bceeba562517ac4b",
       "version_major": 2,
       "version_minor": 0
      },
      "text/plain": [
       "Epoch 196:   0%|                                                                                | 0/64 [00:00<…"
      ]
     },
     "metadata": {},
     "output_type": "display_data"
    },
    {
     "name": "stdout",
     "output_type": "stream",
     "text": [
      "Epoch 196 • train=0.248117 • val=0.217536 • impr= 26.3% • lr=3.99e-04 • g≈621.18\n"
     ]
    },
    {
     "data": {
      "application/vnd.jupyter.widget-view+json": {
       "model_id": "99631f9f394d4738bc823dce9ec6060a",
       "version_major": 2,
       "version_minor": 0
      },
      "text/plain": [
       "Epoch 197:   0%|                                                                                | 0/64 [00:00<…"
      ]
     },
     "metadata": {},
     "output_type": "display_data"
    },
    {
     "name": "stdout",
     "output_type": "stream",
     "text": [
      "Epoch 197 • train=0.248815 • val=0.216084 • impr= 26.8% • lr=3.99e-04 • g≈623.35\n"
     ]
    },
    {
     "data": {
      "application/vnd.jupyter.widget-view+json": {
       "model_id": "171ec8bb4042431481ac74733548e593",
       "version_major": 2,
       "version_minor": 0
      },
      "text/plain": [
       "Epoch 198:   0%|                                                                                | 0/64 [00:00<…"
      ]
     },
     "metadata": {},
     "output_type": "display_data"
    },
    {
     "name": "stdout",
     "output_type": "stream",
     "text": [
      "Epoch 198 • train=0.246476 • val=0.216751 • impr= 26.6% • lr=3.99e-04 • g≈617.98\n"
     ]
    },
    {
     "data": {
      "application/vnd.jupyter.widget-view+json": {
       "model_id": "23e779efec1640d49660bac3cff323d9",
       "version_major": 2,
       "version_minor": 0
      },
      "text/plain": [
       "Epoch 199:   0%|                                                                                | 0/64 [00:00<…"
      ]
     },
     "metadata": {},
     "output_type": "display_data"
    },
    {
     "name": "stdout",
     "output_type": "stream",
     "text": [
      "Epoch 199 • train=0.244874 • val=0.217395 • impr= 26.4% • lr=3.98e-04 • g≈614.53\n"
     ]
    },
    {
     "data": {
      "application/vnd.jupyter.widget-view+json": {
       "model_id": "6feb3b0992da4d6c9d7169dceb9ffa6d",
       "version_major": 2,
       "version_minor": 0
      },
      "text/plain": [
       "Epoch 200:   0%|                                                                                | 0/64 [00:00<…"
      ]
     },
     "metadata": {},
     "output_type": "display_data"
    },
    {
     "name": "stdout",
     "output_type": "stream",
     "text": [
      "Epoch 200 • train=0.245480 • val=0.216201 • impr= 26.8% • lr=3.98e-04 • g≈616.70\n"
     ]
    },
    {
     "data": {
      "application/vnd.jupyter.widget-view+json": {
       "model_id": "a0e5f710fc714604a9639b83494cbb05",
       "version_major": 2,
       "version_minor": 0
      },
      "text/plain": [
       "Epoch 201:   0%|                                                                                | 0/64 [00:00<…"
      ]
     },
     "metadata": {},
     "output_type": "display_data"
    },
    {
     "name": "stdout",
     "output_type": "stream",
     "text": [
      "Epoch 201 • train=0.243716 • val=0.217664 • impr= 26.3% • lr=3.98e-04 • g≈612.99\n"
     ]
    },
    {
     "data": {
      "application/vnd.jupyter.widget-view+json": {
       "model_id": "85f7aeaff0964f1691745ac49a9aec82",
       "version_major": 2,
       "version_minor": 0
      },
      "text/plain": [
       "Epoch 202:   0%|                                                                                | 0/64 [00:00<…"
      ]
     },
     "metadata": {},
     "output_type": "display_data"
    },
    {
     "name": "stdout",
     "output_type": "stream",
     "text": [
      "Epoch 202 • train=0.243583 • val=0.216520 • impr= 26.6% • lr=3.97e-04 • g≈613.45\n"
     ]
    },
    {
     "data": {
      "application/vnd.jupyter.widget-view+json": {
       "model_id": "5b5ac0a6fd6d461faa903867acf993c4",
       "version_major": 2,
       "version_minor": 0
      },
      "text/plain": [
       "Epoch 203:   0%|                                                                                | 0/64 [00:00<…"
      ]
     },
     "metadata": {},
     "output_type": "display_data"
    },
    {
     "name": "stdout",
     "output_type": "stream",
     "text": [
      "Epoch 203 • train=0.242234 • val=0.215648 • impr= 26.9% • lr=3.96e-04 • g≈610.93\n"
     ]
    },
    {
     "data": {
      "application/vnd.jupyter.widget-view+json": {
       "model_id": "23b6203d9f8f4ace81c7eb7c367bf881",
       "version_major": 2,
       "version_minor": 0
      },
      "text/plain": [
       "Epoch 204:   0%|                                                                                | 0/64 [00:00<…"
      ]
     },
     "metadata": {},
     "output_type": "display_data"
    },
    {
     "name": "stdout",
     "output_type": "stream",
     "text": [
      "Epoch 204 • train=0.241480 • val=0.215983 • impr= 26.8% • lr=3.96e-04 • g≈609.98\n"
     ]
    },
    {
     "data": {
      "application/vnd.jupyter.widget-view+json": {
       "model_id": "4df9869839444f9395f4a8dba5677341",
       "version_major": 2,
       "version_minor": 0
      },
      "text/plain": [
       "Epoch 205:   0%|                                                                                | 0/64 [00:00<…"
      ]
     },
     "metadata": {},
     "output_type": "display_data"
    },
    {
     "name": "stdout",
     "output_type": "stream",
     "text": [
      "Epoch 205 • train=0.241774 • val=0.216025 • impr= 26.8% • lr=3.95e-04 • g≈611.76\n"
     ]
    },
    {
     "data": {
      "application/vnd.jupyter.widget-view+json": {
       "model_id": "c7fc687e1f4b4304abd2671a064a22d2",
       "version_major": 2,
       "version_minor": 0
      },
      "text/plain": [
       "Epoch 206:   0%|                                                                                | 0/64 [00:00<…"
      ]
     },
     "metadata": {},
     "output_type": "display_data"
    },
    {
     "name": "stdout",
     "output_type": "stream",
     "text": [
      "Epoch 206 • train=0.238705 • val=0.215159 • impr= 27.1% • lr=3.94e-04 • g≈605.09\n"
     ]
    },
    {
     "data": {
      "application/vnd.jupyter.widget-view+json": {
       "model_id": "5945f9368fad4c4f8e237c55fabaf750",
       "version_major": 2,
       "version_minor": 0
      },
      "text/plain": [
       "Epoch 207:   0%|                                                                                | 0/64 [00:00<…"
      ]
     },
     "metadata": {},
     "output_type": "display_data"
    },
    {
     "name": "stdout",
     "output_type": "stream",
     "text": [
      "Epoch 207 • train=0.241466 • val=0.216787 • impr= 26.6% • lr=3.94e-04 • g≈613.28\n"
     ]
    },
    {
     "data": {
      "application/vnd.jupyter.widget-view+json": {
       "model_id": "9ddb098ec8ae49d19d24fe5ccfd925bc",
       "version_major": 2,
       "version_minor": 0
      },
      "text/plain": [
       "Epoch 208:   0%|                                                                                | 0/64 [00:00<…"
      ]
     },
     "metadata": {},
     "output_type": "display_data"
    },
    {
     "name": "stdout",
     "output_type": "stream",
     "text": [
      "Epoch 208 • train=0.239864 • val=0.214507 • impr= 27.3% • lr=3.93e-04 • g≈610.48\n"
     ]
    },
    {
     "data": {
      "application/vnd.jupyter.widget-view+json": {
       "model_id": "5113e286d0d1474faf20a5943e5b2c81",
       "version_major": 2,
       "version_minor": 0
      },
      "text/plain": [
       "Epoch 209:   0%|                                                                                | 0/64 [00:00<…"
      ]
     },
     "metadata": {},
     "output_type": "display_data"
    },
    {
     "name": "stdout",
     "output_type": "stream",
     "text": [
      "Epoch 209 • train=0.239899 • val=0.217325 • impr= 26.4% • lr=3.92e-04 • g≈611.92\n"
     ]
    },
    {
     "data": {
      "application/vnd.jupyter.widget-view+json": {
       "model_id": "4ddc7afc43dd408abdea2544330a439c",
       "version_major": 2,
       "version_minor": 0
      },
      "text/plain": [
       "Epoch 210:   0%|                                                                                | 0/64 [00:00<…"
      ]
     },
     "metadata": {},
     "output_type": "display_data"
    },
    {
     "name": "stdout",
     "output_type": "stream",
     "text": [
      "Epoch 210 • train=0.238873 • val=0.214882 • impr= 27.2% • lr=3.91e-04 • g≈610.73\n"
     ]
    },
    {
     "data": {
      "application/vnd.jupyter.widget-view+json": {
       "model_id": "1c139e7f897e431cba34ddc561abcd2a",
       "version_major": 2,
       "version_minor": 0
      },
      "text/plain": [
       "Epoch 211:   0%|                                                                                | 0/64 [00:00<…"
      ]
     },
     "metadata": {},
     "output_type": "display_data"
    },
    {
     "name": "stdout",
     "output_type": "stream",
     "text": [
      "Epoch 211 • train=0.237117 • val=0.216518 • impr= 26.6% • lr=3.90e-04 • g≈607.73\n"
     ]
    },
    {
     "data": {
      "application/vnd.jupyter.widget-view+json": {
       "model_id": "d49ac27d4c6e49ac85d5d0cfb57cef38",
       "version_major": 2,
       "version_minor": 0
      },
      "text/plain": [
       "Epoch 212:   0%|                                                                                | 0/64 [00:00<…"
      ]
     },
     "metadata": {},
     "output_type": "display_data"
    },
    {
     "name": "stdout",
     "output_type": "stream",
     "text": [
      "Epoch 212 • train=0.236818 • val=0.216377 • impr= 26.7% • lr=3.89e-04 • g≈608.55\n"
     ]
    },
    {
     "data": {
      "application/vnd.jupyter.widget-view+json": {
       "model_id": "3bd1e510a3af43b087503f5202c8c6aa",
       "version_major": 2,
       "version_minor": 0
      },
      "text/plain": [
       "Epoch 213:   0%|                                                                                | 0/64 [00:00<…"
      ]
     },
     "metadata": {},
     "output_type": "display_data"
    },
    {
     "name": "stdout",
     "output_type": "stream",
     "text": [
      "Epoch 213 • train=0.238783 • val=0.214541 • impr= 27.3% • lr=3.88e-04 • g≈615.27\n"
     ]
    },
    {
     "data": {
      "application/vnd.jupyter.widget-view+json": {
       "model_id": "14926326d5ae4c9bb1af58d9bacf8c6e",
       "version_major": 2,
       "version_minor": 0
      },
      "text/plain": [
       "Epoch 214:   0%|                                                                                | 0/64 [00:00<…"
      ]
     },
     "metadata": {},
     "output_type": "display_data"
    },
    {
     "name": "stdout",
     "output_type": "stream",
     "text": [
      "Epoch 214 • train=0.236197 • val=0.214905 • impr= 27.2% • lr=3.87e-04 • g≈610.35\n"
     ]
    },
    {
     "data": {
      "application/vnd.jupyter.widget-view+json": {
       "model_id": "4a114851dd0c4785875c9d9e1f4672da",
       "version_major": 2,
       "version_minor": 0
      },
      "text/plain": [
       "Epoch 215:   0%|                                                                                | 0/64 [00:00<…"
      ]
     },
     "metadata": {},
     "output_type": "display_data"
    },
    {
     "name": "stdout",
     "output_type": "stream",
     "text": [
      "Epoch 215 • train=0.236309 • val=0.214691 • impr= 27.3% • lr=3.86e-04 • g≈612.46\n"
     ]
    },
    {
     "data": {
      "application/vnd.jupyter.widget-view+json": {
       "model_id": "4bfa7a620b034918aca4bf919b5349c7",
       "version_major": 2,
       "version_minor": 0
      },
      "text/plain": [
       "Epoch 216:   0%|                                                                                | 0/64 [00:00<…"
      ]
     },
     "metadata": {},
     "output_type": "display_data"
    },
    {
     "name": "stdout",
     "output_type": "stream",
     "text": [
      "Epoch 216 • train=0.234770 • val=0.215255 • impr= 27.1% • lr=3.85e-04 • g≈610.38\n"
     ]
    },
    {
     "data": {
      "application/vnd.jupyter.widget-view+json": {
       "model_id": "e03f1281af3546ac931abcb01830f623",
       "version_major": 2,
       "version_minor": 0
      },
      "text/plain": [
       "Epoch 217:   0%|                                                                                | 0/64 [00:00<…"
      ]
     },
     "metadata": {},
     "output_type": "display_data"
    },
    {
     "name": "stdout",
     "output_type": "stream",
     "text": [
      "Epoch 217 • train=0.234643 • val=0.213345 • impr= 27.7% • lr=3.83e-04 • g≈612.03\n"
     ]
    },
    {
     "data": {
      "application/vnd.jupyter.widget-view+json": {
       "model_id": "c969b51da45c4a04b14a1aae045eef5e",
       "version_major": 2,
       "version_minor": 0
      },
      "text/plain": [
       "Epoch 218:   0%|                                                                                | 0/64 [00:00<…"
      ]
     },
     "metadata": {},
     "output_type": "display_data"
    },
    {
     "name": "stdout",
     "output_type": "stream",
     "text": [
      "Epoch 218 • train=0.233851 • val=0.215619 • impr= 27.0% • lr=3.82e-04 • g≈612.03\n"
     ]
    },
    {
     "data": {
      "application/vnd.jupyter.widget-view+json": {
       "model_id": "e10680d5020c43538f657be0f00aa04e",
       "version_major": 2,
       "version_minor": 0
      },
      "text/plain": [
       "Epoch 219:   0%|                                                                                | 0/64 [00:00<…"
      ]
     },
     "metadata": {},
     "output_type": "display_data"
    },
    {
     "name": "stdout",
     "output_type": "stream",
     "text": [
      "Epoch 219 • train=0.233492 • val=0.213799 • impr= 27.6% • lr=3.81e-04 • g≈613.25\n"
     ]
    },
    {
     "data": {
      "application/vnd.jupyter.widget-view+json": {
       "model_id": "a9fdf037b0414f969ddcc6ccfa0de173",
       "version_major": 2,
       "version_minor": 0
      },
      "text/plain": [
       "Epoch 220:   0%|                                                                                | 0/64 [00:00<…"
      ]
     },
     "metadata": {},
     "output_type": "display_data"
    },
    {
     "name": "stdout",
     "output_type": "stream",
     "text": [
      "Epoch 220 • train=0.233348 • val=0.215547 • impr= 27.0% • lr=3.79e-04 • g≈615.11\n"
     ]
    },
    {
     "data": {
      "application/vnd.jupyter.widget-view+json": {
       "model_id": "c53cc44e33d64d81a209f58b186ac161",
       "version_major": 2,
       "version_minor": 0
      },
      "text/plain": [
       "Epoch 221:   0%|                                                                                | 0/64 [00:00<…"
      ]
     },
     "metadata": {},
     "output_type": "display_data"
    },
    {
     "name": "stdout",
     "output_type": "stream",
     "text": [
      "Epoch 221 • train=0.233173 • val=0.214626 • impr= 27.3% • lr=3.78e-04 • g≈616.98\n"
     ]
    },
    {
     "data": {
      "application/vnd.jupyter.widget-view+json": {
       "model_id": "d44e3bc4bfd54604a1559add33bec964",
       "version_major": 2,
       "version_minor": 0
      },
      "text/plain": [
       "Epoch 222:   0%|                                                                                | 0/64 [00:00<…"
      ]
     },
     "metadata": {},
     "output_type": "display_data"
    },
    {
     "name": "stdout",
     "output_type": "stream",
     "text": [
      "Epoch 222 • train=0.232673 • val=0.214024 • impr= 27.5% • lr=3.76e-04 • g≈618.06\n"
     ]
    },
    {
     "data": {
      "application/vnd.jupyter.widget-view+json": {
       "model_id": "231bdd3be795428c8299dd07cbf7105d",
       "version_major": 2,
       "version_minor": 0
      },
      "text/plain": [
       "Epoch 223:   0%|                                                                                | 0/64 [00:00<…"
      ]
     },
     "metadata": {},
     "output_type": "display_data"
    },
    {
     "name": "stdout",
     "output_type": "stream",
     "text": [
      "Epoch 223 • train=0.231100 • val=0.214263 • impr= 27.4% • lr=3.75e-04 • g≈616.38\n"
     ]
    },
    {
     "data": {
      "application/vnd.jupyter.widget-view+json": {
       "model_id": "a600322c987e4d6dbdc0c207d8f0fa8d",
       "version_major": 2,
       "version_minor": 0
      },
      "text/plain": [
       "Epoch 224:   0%|                                                                                | 0/64 [00:00<…"
      ]
     },
     "metadata": {},
     "output_type": "display_data"
    },
    {
     "name": "stdout",
     "output_type": "stream",
     "text": [
      "Epoch 224 • train=0.231034 • val=0.214616 • impr= 27.3% • lr=3.73e-04 • g≈618.79\n"
     ]
    },
    {
     "data": {
      "application/vnd.jupyter.widget-view+json": {
       "model_id": "696d8a2bad4c4a419f0eb80475cc8bab",
       "version_major": 2,
       "version_minor": 0
      },
      "text/plain": [
       "Epoch 225:   0%|                                                                                | 0/64 [00:00<…"
      ]
     },
     "metadata": {},
     "output_type": "display_data"
    },
    {
     "name": "stdout",
     "output_type": "stream",
     "text": [
      "Epoch 225 • train=0.231313 • val=0.213614 • impr= 27.6% • lr=3.72e-04 • g≈622.22\n"
     ]
    },
    {
     "data": {
      "application/vnd.jupyter.widget-view+json": {
       "model_id": "94be1906dba74e0aa511795d4f61d1b3",
       "version_major": 2,
       "version_minor": 0
      },
      "text/plain": [
       "Epoch 226:   0%|                                                                                | 0/64 [00:00<…"
      ]
     },
     "metadata": {},
     "output_type": "display_data"
    },
    {
     "name": "stdout",
     "output_type": "stream",
     "text": [
      "Epoch 226 • train=0.231165 • val=0.213612 • impr= 27.6% • lr=3.70e-04 • g≈624.59\n"
     ]
    },
    {
     "data": {
      "application/vnd.jupyter.widget-view+json": {
       "model_id": "1067c3d49e934391aa36f3b731071fe0",
       "version_major": 2,
       "version_minor": 0
      },
      "text/plain": [
       "Epoch 227:   0%|                                                                                | 0/64 [00:00<…"
      ]
     },
     "metadata": {},
     "output_type": "display_data"
    },
    {
     "name": "stdout",
     "output_type": "stream",
     "text": [
      "Epoch 227 • train=0.230216 • val=0.213624 • impr= 27.6% • lr=3.68e-04 • g≈624.89\n"
     ]
    },
    {
     "data": {
      "application/vnd.jupyter.widget-view+json": {
       "model_id": "7fb4239b3c204016a8659e61634d27f3",
       "version_major": 2,
       "version_minor": 0
      },
      "text/plain": [
       "Epoch 228:   0%|                                                                                | 0/64 [00:00<…"
      ]
     },
     "metadata": {},
     "output_type": "display_data"
    },
    {
     "name": "stdout",
     "output_type": "stream",
     "text": [
      "Epoch 228 • train=0.230743 • val=0.213566 • impr= 27.6% • lr=3.67e-04 • g≈629.29\n"
     ]
    },
    {
     "data": {
      "application/vnd.jupyter.widget-view+json": {
       "model_id": "cf827ec626644d5a848e87bdf9d52edf",
       "version_major": 2,
       "version_minor": 0
      },
      "text/plain": [
       "Epoch 229:   0%|                                                                                | 0/64 [00:00<…"
      ]
     },
     "metadata": {},
     "output_type": "display_data"
    },
    {
     "name": "stdout",
     "output_type": "stream",
     "text": [
      "Epoch 229 • train=0.228636 • val=0.213981 • impr= 27.5% • lr=3.65e-04 • g≈626.59\n"
     ]
    },
    {
     "data": {
      "application/vnd.jupyter.widget-view+json": {
       "model_id": "29d7200932174f1c9fc3a8d8c0f2cce1",
       "version_major": 2,
       "version_minor": 0
      },
      "text/plain": [
       "Epoch 230:   0%|                                                                                | 0/64 [00:00<…"
      ]
     },
     "metadata": {},
     "output_type": "display_data"
    },
    {
     "name": "stdout",
     "output_type": "stream",
     "text": [
      "Epoch 230 • train=0.230395 • val=0.213200 • impr= 27.8% • lr=3.63e-04 • g≈634.57\n"
     ]
    },
    {
     "data": {
      "application/vnd.jupyter.widget-view+json": {
       "model_id": "9d99a66215894980841dd46326212f84",
       "version_major": 2,
       "version_minor": 0
      },
      "text/plain": [
       "Epoch 231:   0%|                                                                                | 0/64 [00:00<…"
      ]
     },
     "metadata": {},
     "output_type": "display_data"
    },
    {
     "name": "stdout",
     "output_type": "stream",
     "text": [
      "Epoch 231 • train=0.230430 • val=0.213133 • impr= 27.8% • lr=3.61e-04 • g≈637.94\n"
     ]
    },
    {
     "data": {
      "application/vnd.jupyter.widget-view+json": {
       "model_id": "041562de73ca4669b336b99f901681d0",
       "version_major": 2,
       "version_minor": 0
      },
      "text/plain": [
       "Epoch 232:   0%|                                                                                | 0/64 [00:00<…"
      ]
     },
     "metadata": {},
     "output_type": "display_data"
    },
    {
     "name": "stdout",
     "output_type": "stream",
     "text": [
      "Epoch 232 • train=0.229183 • val=0.213256 • impr= 27.8% • lr=3.59e-04 • g≈637.85\n"
     ]
    },
    {
     "data": {
      "application/vnd.jupyter.widget-view+json": {
       "model_id": "ef2bd1e1cfbd40ce8529aa73b0ae199c",
       "version_major": 2,
       "version_minor": 0
      },
      "text/plain": [
       "Epoch 233:   0%|                                                                                | 0/64 [00:00<…"
      ]
     },
     "metadata": {},
     "output_type": "display_data"
    },
    {
     "name": "stdout",
     "output_type": "stream",
     "text": [
      "Epoch 233 • train=0.229100 • val=0.213001 • impr= 27.8% • lr=3.57e-04 • g≈641.08\n"
     ]
    },
    {
     "data": {
      "application/vnd.jupyter.widget-view+json": {
       "model_id": "209909489b4642c7b4235dc15e138148",
       "version_major": 2,
       "version_minor": 0
      },
      "text/plain": [
       "Epoch 234:   0%|                                                                                | 0/64 [00:00<…"
      ]
     },
     "metadata": {},
     "output_type": "display_data"
    },
    {
     "name": "stdout",
     "output_type": "stream",
     "text": [
      "Epoch 234 • train=0.226424 • val=0.212733 • impr= 27.9% • lr=3.55e-04 • g≈637.13\n"
     ]
    },
    {
     "data": {
      "application/vnd.jupyter.widget-view+json": {
       "model_id": "4276753db11c4669b85175d2e17c007b",
       "version_major": 2,
       "version_minor": 0
      },
      "text/plain": [
       "Epoch 235:   0%|                                                                                | 0/64 [00:00<…"
      ]
     },
     "metadata": {},
     "output_type": "display_data"
    },
    {
     "name": "stdout",
     "output_type": "stream",
     "text": [
      "Epoch 235 • train=0.227068 • val=0.212768 • impr= 27.9% • lr=3.53e-04 • g≈642.60\n"
     ]
    },
    {
     "data": {
      "application/vnd.jupyter.widget-view+json": {
       "model_id": "f0a4114b7d3944ec9c1da2e69473b09e",
       "version_major": 2,
       "version_minor": 0
      },
      "text/plain": [
       "Epoch 236:   0%|                                                                                | 0/64 [00:00<…"
      ]
     },
     "metadata": {},
     "output_type": "display_data"
    },
    {
     "name": "stdout",
     "output_type": "stream",
     "text": [
      "Epoch 236 • train=0.227487 • val=0.213754 • impr= 27.6% • lr=3.51e-04 • g≈647.55\n"
     ]
    },
    {
     "data": {
      "application/vnd.jupyter.widget-view+json": {
       "model_id": "08ccbb4d37e143558cc7dea15923b472",
       "version_major": 2,
       "version_minor": 0
      },
      "text/plain": [
       "Epoch 237:   0%|                                                                                | 0/64 [00:00<…"
      ]
     },
     "metadata": {},
     "output_type": "display_data"
    },
    {
     "name": "stdout",
     "output_type": "stream",
     "text": [
      "Epoch 237 • train=0.226068 • val=0.212402 • impr= 28.0% • lr=3.49e-04 • g≈647.38\n"
     ]
    },
    {
     "data": {
      "application/vnd.jupyter.widget-view+json": {
       "model_id": "4f03e46a35684d6e89bf06b6d8d6944c",
       "version_major": 2,
       "version_minor": 0
      },
      "text/plain": [
       "Epoch 238:   0%|                                                                                | 0/64 [00:00<…"
      ]
     },
     "metadata": {},
     "output_type": "display_data"
    },
    {
     "name": "stdout",
     "output_type": "stream",
     "text": [
      "Epoch 238 • train=0.224607 • val=0.213087 • impr= 27.8% • lr=3.47e-04 • g≈647.15\n"
     ]
    },
    {
     "data": {
      "application/vnd.jupyter.widget-view+json": {
       "model_id": "be6e41bddf084937ae6768fa639660ca",
       "version_major": 2,
       "version_minor": 0
      },
      "text/plain": [
       "Epoch 239:   0%|                                                                                | 0/64 [00:00<…"
      ]
     },
     "metadata": {},
     "output_type": "display_data"
    },
    {
     "name": "stdout",
     "output_type": "stream",
     "text": [
      "Epoch 239 • train=0.225944 • val=0.212878 • impr= 27.9% • lr=3.45e-04 • g≈655.10\n"
     ]
    },
    {
     "data": {
      "application/vnd.jupyter.widget-view+json": {
       "model_id": "6c4b5bb459f34c2890886f173b080577",
       "version_major": 2,
       "version_minor": 0
      },
      "text/plain": [
       "Epoch 240:   0%|                                                                                | 0/64 [00:00<…"
      ]
     },
     "metadata": {},
     "output_type": "display_data"
    },
    {
     "name": "stdout",
     "output_type": "stream",
     "text": [
      "Epoch 240 • train=0.225299 • val=0.211827 • impr= 28.2% • lr=3.43e-04 • g≈657.44\n"
     ]
    },
    {
     "data": {
      "application/vnd.jupyter.widget-view+json": {
       "model_id": "9358ede627da4a969fc315fe9c6ae09e",
       "version_major": 2,
       "version_minor": 0
      },
      "text/plain": [
       "Epoch 241:   0%|                                                                                | 0/64 [00:00<…"
      ]
     },
     "metadata": {},
     "output_type": "display_data"
    },
    {
     "name": "stdout",
     "output_type": "stream",
     "text": [
      "Epoch 241 • train=0.225492 • val=0.214027 • impr= 27.5% • lr=3.40e-04 • g≈662.34\n"
     ]
    },
    {
     "data": {
      "application/vnd.jupyter.widget-view+json": {
       "model_id": "270a46927e24421ea0d90baf334fdca4",
       "version_major": 2,
       "version_minor": 0
      },
      "text/plain": [
       "Epoch 242:   0%|                                                                                | 0/64 [00:00<…"
      ]
     },
     "metadata": {},
     "output_type": "display_data"
    },
    {
     "name": "stdout",
     "output_type": "stream",
     "text": [
      "Epoch 242 • train=0.225450 • val=0.211104 • impr= 28.5% • lr=3.38e-04 • g≈666.68\n"
     ]
    },
    {
     "data": {
      "application/vnd.jupyter.widget-view+json": {
       "model_id": "576da8e2f55845f9a31767d250f41a68",
       "version_major": 2,
       "version_minor": 0
      },
      "text/plain": [
       "Epoch 243:   0%|                                                                                | 0/64 [00:00<…"
      ]
     },
     "metadata": {},
     "output_type": "display_data"
    },
    {
     "name": "stdout",
     "output_type": "stream",
     "text": [
      "Epoch 243 • train=0.224398 • val=0.213694 • impr= 27.6% • lr=3.36e-04 • g≈668.13\n"
     ]
    },
    {
     "data": {
      "application/vnd.jupyter.widget-view+json": {
       "model_id": "d6fd353b44744e04a485446788f2af13",
       "version_major": 2,
       "version_minor": 0
      },
      "text/plain": [
       "Epoch 244:   0%|                                                                                | 0/64 [00:00<…"
      ]
     },
     "metadata": {},
     "output_type": "display_data"
    },
    {
     "name": "stdout",
     "output_type": "stream",
     "text": [
      "Epoch 244 • train=0.223390 • val=0.211530 • impr= 28.3% • lr=3.34e-04 • g≈669.81\n"
     ]
    },
    {
     "data": {
      "application/vnd.jupyter.widget-view+json": {
       "model_id": "faa0ceff193a4191916b8c4793038715",
       "version_major": 2,
       "version_minor": 0
      },
      "text/plain": [
       "Epoch 245:   0%|                                                                                | 0/64 [00:00<…"
      ]
     },
     "metadata": {},
     "output_type": "display_data"
    },
    {
     "name": "stdout",
     "output_type": "stream",
     "text": [
      "Epoch 245 • train=0.225547 • val=0.212507 • impr= 28.0% • lr=3.31e-04 • g≈681.14\n"
     ]
    },
    {
     "data": {
      "application/vnd.jupyter.widget-view+json": {
       "model_id": "fab0d25c96834ff0a0ce4148f15d1e3c",
       "version_major": 2,
       "version_minor": 0
      },
      "text/plain": [
       "Epoch 246:   0%|                                                                                | 0/64 [00:00<…"
      ]
     },
     "metadata": {},
     "output_type": "display_data"
    },
    {
     "name": "stdout",
     "output_type": "stream",
     "text": [
      "Epoch 246 • train=0.224301 • val=0.213994 • impr= 27.5% • lr=3.29e-04 • g≈682.34\n"
     ]
    },
    {
     "data": {
      "application/vnd.jupyter.widget-view+json": {
       "model_id": "9b04d9bf68a94e41bbc9d92549d9d09d",
       "version_major": 2,
       "version_minor": 0
      },
      "text/plain": [
       "Epoch 247:   0%|                                                                                | 0/64 [00:00<…"
      ]
     },
     "metadata": {},
     "output_type": "display_data"
    },
    {
     "name": "stdout",
     "output_type": "stream",
     "text": [
      "Epoch 247 • train=0.224094 • val=0.210898 • impr= 28.6% • lr=3.26e-04 • g≈686.81\n"
     ]
    },
    {
     "data": {
      "application/vnd.jupyter.widget-view+json": {
       "model_id": "e9b8c2446aa14387b5d7838e484ee31a",
       "version_major": 2,
       "version_minor": 0
      },
      "text/plain": [
       "Epoch 248:   0%|                                                                                | 0/64 [00:00<…"
      ]
     },
     "metadata": {},
     "output_type": "display_data"
    },
    {
     "name": "stdout",
     "output_type": "stream",
     "text": [
      "Epoch 248 • train=0.223207 • val=0.213219 • impr= 27.8% • lr=3.24e-04 • g≈689.32\n"
     ]
    },
    {
     "data": {
      "application/vnd.jupyter.widget-view+json": {
       "model_id": "85549baaf485490b9c0aa17517785a58",
       "version_major": 2,
       "version_minor": 0
      },
      "text/plain": [
       "Epoch 249:   0%|                                                                                | 0/64 [00:00<…"
      ]
     },
     "metadata": {},
     "output_type": "display_data"
    },
    {
     "name": "stdout",
     "output_type": "stream",
     "text": [
      "Epoch 249 • train=0.224754 • val=0.210941 • impr= 28.5% • lr=3.21e-04 • g≈699.51\n"
     ]
    },
    {
     "data": {
      "application/vnd.jupyter.widget-view+json": {
       "model_id": "bd36048cb67a46df988f4a7467304c28",
       "version_major": 2,
       "version_minor": 0
      },
      "text/plain": [
       "Epoch 250:   0%|                                                                                | 0/64 [00:00<…"
      ]
     },
     "metadata": {},
     "output_type": "display_data"
    },
    {
     "name": "stdout",
     "output_type": "stream",
     "text": [
      "Epoch 250 • train=0.224086 • val=0.212889 • impr= 27.9% • lr=3.19e-04 • g≈702.98\n"
     ]
    },
    {
     "data": {
      "application/vnd.jupyter.widget-view+json": {
       "model_id": "625bcdab8c9c47379f4d8fc9b642a58a",
       "version_major": 2,
       "version_minor": 0
      },
      "text/plain": [
       "Epoch 251:   0%|                                                                                | 0/64 [00:00<…"
      ]
     },
     "metadata": {},
     "output_type": "display_data"
    },
    {
     "name": "stdout",
     "output_type": "stream",
     "text": [
      "Epoch 251 • train=0.222709 • val=0.210971 • impr= 28.5% • lr=3.16e-04 • g≈704.32\n"
     ]
    },
    {
     "data": {
      "application/vnd.jupyter.widget-view+json": {
       "model_id": "ae70bfdb55a54b6eac0b02552607572a",
       "version_major": 2,
       "version_minor": 0
      },
      "text/plain": [
       "Epoch 252:   0%|                                                                                | 0/64 [00:00<…"
      ]
     },
     "metadata": {},
     "output_type": "display_data"
    },
    {
     "name": "stdout",
     "output_type": "stream",
     "text": [
      "Epoch 252 • train=0.221061 • val=0.212247 • impr= 28.1% • lr=3.14e-04 • g≈704.89\n"
     ]
    },
    {
     "data": {
      "application/vnd.jupyter.widget-view+json": {
       "model_id": "2a8a172a20744042b551343f19047fb9",
       "version_major": 2,
       "version_minor": 0
      },
      "text/plain": [
       "Epoch 253:   0%|                                                                                | 0/64 [00:00<…"
      ]
     },
     "metadata": {},
     "output_type": "display_data"
    },
    {
     "name": "stdout",
     "output_type": "stream",
     "text": [
      "Epoch 253 • train=0.222788 • val=0.212218 • impr= 28.1% • lr=3.11e-04 • g≈716.38\n"
     ]
    },
    {
     "data": {
      "application/vnd.jupyter.widget-view+json": {
       "model_id": "3a774f05b5d3483a9b5997986593e506",
       "version_major": 2,
       "version_minor": 0
      },
      "text/plain": [
       "Epoch 254:   0%|                                                                                | 0/64 [00:00<…"
      ]
     },
     "metadata": {},
     "output_type": "display_data"
    },
    {
     "name": "stdout",
     "output_type": "stream",
     "text": [
      "Epoch 254 • train=0.222620 • val=0.211608 • impr= 28.3% • lr=3.08e-04 • g≈721.98\n"
     ]
    },
    {
     "data": {
      "application/vnd.jupyter.widget-view+json": {
       "model_id": "cc6cc0f04b6647acb3c03bb27304df5e",
       "version_major": 2,
       "version_minor": 0
      },
      "text/plain": [
       "Epoch 255:   0%|                                                                                | 0/64 [00:00<…"
      ]
     },
     "metadata": {},
     "output_type": "display_data"
    },
    {
     "name": "stdout",
     "output_type": "stream",
     "text": [
      "Epoch 255 • train=0.221555 • val=0.211294 • impr= 28.4% • lr=3.06e-04 • g≈724.81\n"
     ]
    },
    {
     "data": {
      "application/vnd.jupyter.widget-view+json": {
       "model_id": "25dc75b830b24d91b41f23cddd1ba5ff",
       "version_major": 2,
       "version_minor": 0
      },
      "text/plain": [
       "Epoch 256:   0%|                                                                                | 0/64 [00:00<…"
      ]
     },
     "metadata": {},
     "output_type": "display_data"
    },
    {
     "name": "stdout",
     "output_type": "stream",
     "text": [
      "Epoch 256 • train=0.220799 • val=0.211205 • impr= 28.4% • lr=3.03e-04 • g≈728.77\n"
     ]
    },
    {
     "data": {
      "application/vnd.jupyter.widget-view+json": {
       "model_id": "c29b5567088c4059bcb261ef1a86ee84",
       "version_major": 2,
       "version_minor": 0
      },
      "text/plain": [
       "Epoch 257:   0%|                                                                                | 0/64 [00:00<…"
      ]
     },
     "metadata": {},
     "output_type": "display_data"
    },
    {
     "name": "stdout",
     "output_type": "stream",
     "text": [
      "Epoch 257 • train=0.222777 • val=0.212649 • impr= 28.0% • lr=3.00e-04 • g≈741.97\n"
     ]
    },
    {
     "data": {
      "application/vnd.jupyter.widget-view+json": {
       "model_id": "8ed7a212cf6548319938de8605b1208d",
       "version_major": 2,
       "version_minor": 0
      },
      "text/plain": [
       "Epoch 258:   0%|                                                                                | 0/64 [00:00<…"
      ]
     },
     "metadata": {},
     "output_type": "display_data"
    },
    {
     "name": "stdout",
     "output_type": "stream",
     "text": [
      "Epoch 258 • train=0.220723 • val=0.211628 • impr= 28.3% • lr=2.98e-04 • g≈741.92\n"
     ]
    },
    {
     "data": {
      "application/vnd.jupyter.widget-view+json": {
       "model_id": "a553897091ae4e4ab2d2626e1e85031c",
       "version_major": 2,
       "version_minor": 0
      },
      "text/plain": [
       "Epoch 259:   0%|                                                                                | 0/64 [00:00<…"
      ]
     },
     "metadata": {},
     "output_type": "display_data"
    },
    {
     "name": "stdout",
     "output_type": "stream",
     "text": [
      "Epoch 259 • train=0.220985 • val=0.210995 • impr= 28.5% • lr=2.95e-04 • g≈749.78\n"
     ]
    },
    {
     "data": {
      "application/vnd.jupyter.widget-view+json": {
       "model_id": "85f231e77aac4e98aac35e6bd6519be0",
       "version_major": 2,
       "version_minor": 0
      },
      "text/plain": [
       "Epoch 260:   0%|                                                                                | 0/64 [00:00<…"
      ]
     },
     "metadata": {},
     "output_type": "display_data"
    },
    {
     "name": "stdout",
     "output_type": "stream",
     "text": [
      "Epoch 260 • train=0.220624 • val=0.211505 • impr= 28.3% • lr=2.92e-04 • g≈755.72\n"
     ]
    },
    {
     "data": {
      "application/vnd.jupyter.widget-view+json": {
       "model_id": "7260dc2cf4bd463a95783d86ba7f8a1b",
       "version_major": 2,
       "version_minor": 0
      },
      "text/plain": [
       "Epoch 261:   0%|                                                                                | 0/64 [00:00<…"
      ]
     },
     "metadata": {},
     "output_type": "display_data"
    },
    {
     "name": "stdout",
     "output_type": "stream",
     "text": [
      "Epoch 261 • train=0.220088 • val=0.211125 • impr= 28.5% • lr=2.89e-04 • g≈761.23\n"
     ]
    },
    {
     "data": {
      "application/vnd.jupyter.widget-view+json": {
       "model_id": "034d8d3f6b2345bdb6572921501f8d12",
       "version_major": 2,
       "version_minor": 0
      },
      "text/plain": [
       "Epoch 262:   0%|                                                                                | 0/64 [00:00<…"
      ]
     },
     "metadata": {},
     "output_type": "display_data"
    },
    {
     "name": "stdout",
     "output_type": "stream",
     "text": [
      "Epoch 262 • train=0.219428 • val=0.211172 • impr= 28.5% • lr=2.86e-04 • g≈766.47\n"
     ]
    },
    {
     "data": {
      "application/vnd.jupyter.widget-view+json": {
       "model_id": "cf621ea16ea2458eab60384e035e86e8",
       "version_major": 2,
       "version_minor": 0
      },
      "text/plain": [
       "Epoch 263:   0%|                                                                                | 0/64 [00:00<…"
      ]
     },
     "metadata": {},
     "output_type": "display_data"
    },
    {
     "name": "stdout",
     "output_type": "stream",
     "text": [
      "Epoch 263 • train=0.220580 • val=0.211301 • impr= 28.4% • lr=2.83e-04 • g≈778.26\n"
     ]
    },
    {
     "data": {
      "application/vnd.jupyter.widget-view+json": {
       "model_id": "07862371bf964c49810e622b1323d90f",
       "version_major": 2,
       "version_minor": 0
      },
      "text/plain": [
       "Epoch 264:   0%|                                                                                | 0/64 [00:00<…"
      ]
     },
     "metadata": {},
     "output_type": "display_data"
    },
    {
     "name": "stdout",
     "output_type": "stream",
     "text": [
      "Epoch 264 • train=0.220089 • val=0.212086 • impr= 28.1% • lr=2.81e-04 • g≈784.49\n"
     ]
    },
    {
     "data": {
      "application/vnd.jupyter.widget-view+json": {
       "model_id": "3051015510ec4577aaf36fff39f1c196",
       "version_major": 2,
       "version_minor": 0
      },
      "text/plain": [
       "Epoch 265:   0%|                                                                                | 0/64 [00:00<…"
      ]
     },
     "metadata": {},
     "output_type": "display_data"
    },
    {
     "name": "stdout",
     "output_type": "stream",
     "text": [
      "Epoch 265 • train=0.219973 • val=0.210218 • impr= 28.8% • lr=2.78e-04 • g≈792.26\n"
     ]
    },
    {
     "data": {
      "application/vnd.jupyter.widget-view+json": {
       "model_id": "3d87b546f41f43ea8986c3754aea078e",
       "version_major": 2,
       "version_minor": 0
      },
      "text/plain": [
       "Epoch 266:   0%|                                                                                | 0/64 [00:00<…"
      ]
     },
     "metadata": {},
     "output_type": "display_data"
    },
    {
     "name": "stdout",
     "output_type": "stream",
     "text": [
      "Epoch 266 • train=0.218278 • val=0.211298 • impr= 28.4% • lr=2.75e-04 • g≈794.49\n"
     ]
    },
    {
     "data": {
      "application/vnd.jupyter.widget-view+json": {
       "model_id": "b5f36aed740d4ce1a1ff3ac8030f9ff5",
       "version_major": 2,
       "version_minor": 0
      },
      "text/plain": [
       "Epoch 267:   0%|                                                                                | 0/64 [00:00<…"
      ]
     },
     "metadata": {},
     "output_type": "display_data"
    },
    {
     "name": "stdout",
     "output_type": "stream",
     "text": [
      "Epoch 267 • train=0.220854 • val=0.210700 • impr= 28.6% • lr=2.72e-04 • g≈812.53\n"
     ]
    },
    {
     "data": {
      "application/vnd.jupyter.widget-view+json": {
       "model_id": "8fe24f0b328a42feaa1dc9e5290c16b5",
       "version_major": 2,
       "version_minor": 0
      },
      "text/plain": [
       "Epoch 268:   0%|                                                                                | 0/64 [00:00<…"
      ]
     },
     "metadata": {},
     "output_type": "display_data"
    },
    {
     "name": "stdout",
     "output_type": "stream",
     "text": [
      "Epoch 268 • train=0.220217 • val=0.212047 • impr= 28.2% • lr=2.69e-04 • g≈819.07\n"
     ]
    },
    {
     "data": {
      "application/vnd.jupyter.widget-view+json": {
       "model_id": "56c733ce228146de93f6eb85f26c8a5e",
       "version_major": 2,
       "version_minor": 0
      },
      "text/plain": [
       "Epoch 269:   0%|                                                                                | 0/64 [00:00<…"
      ]
     },
     "metadata": {},
     "output_type": "display_data"
    },
    {
     "name": "stdout",
     "output_type": "stream",
     "text": [
      "Epoch 269 • train=0.218836 • val=0.210482 • impr= 28.7% • lr=2.66e-04 • g≈823.01\n"
     ]
    },
    {
     "data": {
      "application/vnd.jupyter.widget-view+json": {
       "model_id": "4d21a726315b4438bdf22ffb4a01a114",
       "version_major": 2,
       "version_minor": 0
      },
      "text/plain": [
       "Epoch 270:   0%|                                                                                | 0/64 [00:00<…"
      ]
     },
     "metadata": {},
     "output_type": "display_data"
    },
    {
     "name": "stdout",
     "output_type": "stream",
     "text": [
      "Epoch 270 • train=0.219541 • val=0.212593 • impr= 28.0% • lr=2.63e-04 • g≈835.01\n"
     ]
    },
    {
     "data": {
      "application/vnd.jupyter.widget-view+json": {
       "model_id": "96395357d5854638a09760da8583b545",
       "version_major": 2,
       "version_minor": 0
      },
      "text/plain": [
       "Epoch 271:   0%|                                                                                | 0/64 [00:00<…"
      ]
     },
     "metadata": {},
     "output_type": "display_data"
    },
    {
     "name": "stdout",
     "output_type": "stream",
     "text": [
      "Epoch 271 • train=0.220060 • val=0.209784 • impr= 28.9% • lr=2.60e-04 • g≈846.63\n"
     ]
    },
    {
     "data": {
      "application/vnd.jupyter.widget-view+json": {
       "model_id": "ddbce85f81b94eb1b7ea91a51eb5f90b",
       "version_major": 2,
       "version_minor": 0
      },
      "text/plain": [
       "Epoch 272:   0%|                                                                                | 0/64 [00:00<…"
      ]
     },
     "metadata": {},
     "output_type": "display_data"
    },
    {
     "name": "stdout",
     "output_type": "stream",
     "text": [
      "Epoch 272 • train=0.219107 • val=0.211143 • impr= 28.5% • lr=2.57e-04 • g≈852.82\n"
     ]
    },
    {
     "data": {
      "application/vnd.jupyter.widget-view+json": {
       "model_id": "f07f73ed2d504fb49dff021f35c2b1f2",
       "version_major": 2,
       "version_minor": 0
      },
      "text/plain": [
       "Epoch 273:   0%|                                                                                | 0/64 [00:00<…"
      ]
     },
     "metadata": {},
     "output_type": "display_data"
    },
    {
     "name": "stdout",
     "output_type": "stream",
     "text": [
      "Epoch 273 • train=0.217962 • val=0.210804 • impr= 28.6% • lr=2.54e-04 • g≈858.45\n"
     ]
    },
    {
     "data": {
      "application/vnd.jupyter.widget-view+json": {
       "model_id": "2b130221251644218e4e8ee5049f7de6",
       "version_major": 2,
       "version_minor": 0
      },
      "text/plain": [
       "Epoch 274:   0%|                                                                                | 0/64 [00:00<…"
      ]
     },
     "metadata": {},
     "output_type": "display_data"
    },
    {
     "name": "stdout",
     "output_type": "stream",
     "text": [
      "Epoch 274 • train=0.217753 • val=0.211464 • impr= 28.4% • lr=2.51e-04 • g≈867.99\n"
     ]
    },
    {
     "data": {
      "application/vnd.jupyter.widget-view+json": {
       "model_id": "821cde44f41a4ae496e62e83409bb8b1",
       "version_major": 2,
       "version_minor": 0
      },
      "text/plain": [
       "Epoch 275:   0%|                                                                                | 0/64 [00:00<…"
      ]
     },
     "metadata": {},
     "output_type": "display_data"
    },
    {
     "name": "stdout",
     "output_type": "stream",
     "text": [
      "Epoch 275 • train=0.218601 • val=0.210781 • impr= 28.6% • lr=2.48e-04 • g≈882.06\n"
     ]
    },
    {
     "data": {
      "application/vnd.jupyter.widget-view+json": {
       "model_id": "1be0289702a045f6b12538ecbb8bf427",
       "version_major": 2,
       "version_minor": 0
      },
      "text/plain": [
       "Epoch 276:   0%|                                                                                | 0/64 [00:00<…"
      ]
     },
     "metadata": {},
     "output_type": "display_data"
    },
    {
     "name": "stdout",
     "output_type": "stream",
     "text": [
      "Epoch 276 • train=0.217700 • val=0.210684 • impr= 28.6% • lr=2.45e-04 • g≈889.38\n"
     ]
    },
    {
     "data": {
      "application/vnd.jupyter.widget-view+json": {
       "model_id": "23c6f6994d7443eb9c893cc3ad4c5f18",
       "version_major": 2,
       "version_minor": 0
      },
      "text/plain": [
       "Epoch 277:   0%|                                                                                | 0/64 [00:00<…"
      ]
     },
     "metadata": {},
     "output_type": "display_data"
    },
    {
     "name": "stdout",
     "output_type": "stream",
     "text": [
      "Epoch 277 • train=0.217277 • val=0.210845 • impr= 28.6% • lr=2.42e-04 • g≈898.89\n"
     ]
    },
    {
     "data": {
      "application/vnd.jupyter.widget-view+json": {
       "model_id": "2538af2307f649a089f5c7bd19300e5e",
       "version_major": 2,
       "version_minor": 0
      },
      "text/plain": [
       "Epoch 278:   0%|                                                                                | 0/64 [00:00<…"
      ]
     },
     "metadata": {},
     "output_type": "display_data"
    },
    {
     "name": "stdout",
     "output_type": "stream",
     "text": [
      "Epoch 278 • train=0.216904 • val=0.210012 • impr= 28.9% • lr=2.39e-04 • g≈908.89\n"
     ]
    },
    {
     "data": {
      "application/vnd.jupyter.widget-view+json": {
       "model_id": "19111149225346c7b23139bbb4cc68ea",
       "version_major": 2,
       "version_minor": 0
      },
      "text/plain": [
       "Epoch 279:   0%|                                                                                | 0/64 [00:00<…"
      ]
     },
     "metadata": {},
     "output_type": "display_data"
    },
    {
     "name": "stdout",
     "output_type": "stream",
     "text": [
      "Epoch 279 • train=0.216933 • val=0.209961 • impr= 28.9% • lr=2.36e-04 • g≈920.88\n"
     ]
    },
    {
     "data": {
      "application/vnd.jupyter.widget-view+json": {
       "model_id": "f466b7c552a24c109f8a8f120c3cc118",
       "version_major": 2,
       "version_minor": 0
      },
      "text/plain": [
       "Epoch 280:   0%|                                                                                | 0/64 [00:00<…"
      ]
     },
     "metadata": {},
     "output_type": "display_data"
    },
    {
     "name": "stdout",
     "output_type": "stream",
     "text": [
      "Epoch 280 • train=0.218271 • val=0.209666 • impr= 29.0% • lr=2.32e-04 • g≈938.85\n"
     ]
    },
    {
     "data": {
      "application/vnd.jupyter.widget-view+json": {
       "model_id": "6bb2c8df2e254e4b8e01eb771b079fad",
       "version_major": 2,
       "version_minor": 0
      },
      "text/plain": [
       "Epoch 281:   0%|                                                                                | 0/64 [00:00<…"
      ]
     },
     "metadata": {},
     "output_type": "display_data"
    },
    {
     "name": "stdout",
     "output_type": "stream",
     "text": [
      "Epoch 281 • train=0.216195 • val=0.210164 • impr= 28.8% • lr=2.29e-04 • g≈942.45\n"
     ]
    },
    {
     "data": {
      "application/vnd.jupyter.widget-view+json": {
       "model_id": "e516c9d8efd0473ea58c511d7f610529",
       "version_major": 2,
       "version_minor": 0
      },
      "text/plain": [
       "Epoch 282:   0%|                                                                                | 0/64 [00:00<…"
      ]
     },
     "metadata": {},
     "output_type": "display_data"
    },
    {
     "name": "stdout",
     "output_type": "stream",
     "text": [
      "Epoch 282 • train=0.217971 • val=0.210173 • impr= 28.8% • lr=2.26e-04 • g≈963.19\n"
     ]
    },
    {
     "data": {
      "application/vnd.jupyter.widget-view+json": {
       "model_id": "ed4ea6af9e104caf90b85786b1d4d3cd",
       "version_major": 2,
       "version_minor": 0
      },
      "text/plain": [
       "Epoch 283:   0%|                                                                                | 0/64 [00:00<…"
      ]
     },
     "metadata": {},
     "output_type": "display_data"
    },
    {
     "name": "stdout",
     "output_type": "stream",
     "text": [
      "Epoch 283 • train=0.216567 • val=0.210384 • impr= 28.7% • lr=2.23e-04 • g≈970.27\n"
     ]
    },
    {
     "data": {
      "application/vnd.jupyter.widget-view+json": {
       "model_id": "59679d6889494c8189ce7d8e03aed8d3",
       "version_major": 2,
       "version_minor": 0
      },
      "text/plain": [
       "Epoch 284:   0%|                                                                                | 0/64 [00:00<…"
      ]
     },
     "metadata": {},
     "output_type": "display_data"
    },
    {
     "name": "stdout",
     "output_type": "stream",
     "text": [
      "Epoch 284 • train=0.217972 • val=0.210002 • impr= 28.9% • lr=2.20e-04 • g≈990.34\n"
     ]
    },
    {
     "data": {
      "application/vnd.jupyter.widget-view+json": {
       "model_id": "b762e31b15d444faa7d8131c9d7ee77d",
       "version_major": 2,
       "version_minor": 0
      },
      "text/plain": [
       "Epoch 285:   0%|                                                                                | 0/64 [00:00<…"
      ]
     },
     "metadata": {},
     "output_type": "display_data"
    },
    {
     "name": "stdout",
     "output_type": "stream",
     "text": [
      "Epoch 285 • train=0.215395 • val=0.209198 • impr= 29.1% • lr=2.17e-04 • g≈992.63\n"
     ]
    },
    {
     "data": {
      "application/vnd.jupyter.widget-view+json": {
       "model_id": "088decfc462b4519a96db73729f053f4",
       "version_major": 2,
       "version_minor": 0
      },
      "text/plain": [
       "Epoch 286:   0%|                                                                                | 0/64 [00:00<…"
      ]
     },
     "metadata": {},
     "output_type": "display_data"
    },
    {
     "name": "stdout",
     "output_type": "stream",
     "text": [
      "Epoch 286 • train=0.216306 • val=0.210288 • impr= 28.8% • lr=2.14e-04 • g≈1011.31\n"
     ]
    },
    {
     "data": {
      "application/vnd.jupyter.widget-view+json": {
       "model_id": "7c2ad4ac47754d3686eebb2be7e61aae",
       "version_major": 2,
       "version_minor": 0
      },
      "text/plain": [
       "Epoch 287:   0%|                                                                                | 0/64 [00:00<…"
      ]
     },
     "metadata": {},
     "output_type": "display_data"
    },
    {
     "name": "stdout",
     "output_type": "stream",
     "text": [
      "Epoch 287 • train=0.216512 • val=0.209640 • impr= 29.0% • lr=2.11e-04 • g≈1027.21\n"
     ]
    },
    {
     "data": {
      "application/vnd.jupyter.widget-view+json": {
       "model_id": "ce926feb740443579ae23f6753256bc0",
       "version_major": 2,
       "version_minor": 0
      },
      "text/plain": [
       "Epoch 288:   0%|                                                                                | 0/64 [00:00<…"
      ]
     },
     "metadata": {},
     "output_type": "display_data"
    },
    {
     "name": "stdout",
     "output_type": "stream",
     "text": [
      "Epoch 288 • train=0.216760 • val=0.209999 • impr= 28.9% • lr=2.08e-04 • g≈1043.78\n"
     ]
    },
    {
     "data": {
      "application/vnd.jupyter.widget-view+json": {
       "model_id": "89d6ac7a1b424cb28543648b7b6fa1c6",
       "version_major": 2,
       "version_minor": 0
      },
      "text/plain": [
       "Epoch 289:   0%|                                                                                | 0/64 [00:00<…"
      ]
     },
     "metadata": {},
     "output_type": "display_data"
    },
    {
     "name": "stdout",
     "output_type": "stream",
     "text": [
      "Epoch 289 • train=0.216052 • val=0.209803 • impr= 28.9% • lr=2.05e-04 • g≈1056.18\n"
     ]
    },
    {
     "data": {
      "application/vnd.jupyter.widget-view+json": {
       "model_id": "4e9c5ab14fd4449197952e6989f0b363",
       "version_major": 2,
       "version_minor": 0
      },
      "text/plain": [
       "Epoch 290:   0%|                                                                                | 0/64 [00:00<…"
      ]
     },
     "metadata": {},
     "output_type": "display_data"
    },
    {
     "name": "stdout",
     "output_type": "stream",
     "text": [
      "Epoch 290 • train=0.215819 • val=0.209363 • impr= 29.1% • lr=2.01e-04 • g≈1071.31\n"
     ]
    },
    {
     "data": {
      "application/vnd.jupyter.widget-view+json": {
       "model_id": "2dda30ac978d4fb4924dfcde4377701d",
       "version_major": 2,
       "version_minor": 0
      },
      "text/plain": [
       "Epoch 291:   0%|                                                                                | 0/64 [00:00<…"
      ]
     },
     "metadata": {},
     "output_type": "display_data"
    },
    {
     "name": "stdout",
     "output_type": "stream",
     "text": [
      "Epoch 291 • train=0.215019 • val=0.210135 • impr= 28.8% • lr=1.98e-04 • g≈1084.04\n"
     ]
    },
    {
     "data": {
      "application/vnd.jupyter.widget-view+json": {
       "model_id": "a2583d9adf9b478db85248059088436b",
       "version_major": 2,
       "version_minor": 0
      },
      "text/plain": [
       "Epoch 292:   0%|                                                                                | 0/64 [00:00<…"
      ]
     },
     "metadata": {},
     "output_type": "display_data"
    },
    {
     "name": "stdout",
     "output_type": "stream",
     "text": [
      "Epoch 292 • train=0.215364 • val=0.209588 • impr= 29.0% • lr=1.95e-04 • g≈1103.03\n"
     ]
    },
    {
     "data": {
      "application/vnd.jupyter.widget-view+json": {
       "model_id": "b0f4c997fdb34e068a0a25a73aa5eaa7",
       "version_major": 2,
       "version_minor": 0
      },
      "text/plain": [
       "Epoch 293:   0%|                                                                                | 0/64 [00:00<…"
      ]
     },
     "metadata": {},
     "output_type": "display_data"
    },
    {
     "name": "stdout",
     "output_type": "stream",
     "text": [
      "Epoch 293 • train=0.215698 • val=0.210406 • impr= 28.7% • lr=1.92e-04 • g≈1122.55\n"
     ]
    },
    {
     "data": {
      "application/vnd.jupyter.widget-view+json": {
       "model_id": "a69c054481fb4f439de89aefe1058104",
       "version_major": 2,
       "version_minor": 0
      },
      "text/plain": [
       "Epoch 294:   0%|                                                                                | 0/64 [00:00<…"
      ]
     },
     "metadata": {},
     "output_type": "display_data"
    },
    {
     "name": "stdout",
     "output_type": "stream",
     "text": [
      "Epoch 294 • train=0.215984 • val=0.209742 • impr= 28.9% • lr=1.89e-04 • g≈1142.42\n"
     ]
    },
    {
     "data": {
      "application/vnd.jupyter.widget-view+json": {
       "model_id": "d034afcafb0248ffa5cfb5dc0e73ba99",
       "version_major": 2,
       "version_minor": 0
      },
      "text/plain": [
       "Epoch 295:   0%|                                                                                | 0/64 [00:00<…"
      ]
     },
     "metadata": {},
     "output_type": "display_data"
    },
    {
     "name": "stdout",
     "output_type": "stream",
     "text": [
      "Epoch 295 • train=0.214746 • val=0.210302 • impr= 28.8% • lr=1.86e-04 • g≈1154.73\n"
     ]
    },
    {
     "data": {
      "application/vnd.jupyter.widget-view+json": {
       "model_id": "59e0e3d8dc0f48a5aade8221491fae22",
       "version_major": 2,
       "version_minor": 0
      },
      "text/plain": [
       "Epoch 296:   0%|                                                                                | 0/64 [00:00<…"
      ]
     },
     "metadata": {},
     "output_type": "display_data"
    },
    {
     "name": "stdout",
     "output_type": "stream",
     "text": [
      "Epoch 296 • train=0.214723 • val=0.209871 • impr= 28.9% • lr=1.83e-04 • g≈1174.06\n"
     ]
    },
    {
     "data": {
      "application/vnd.jupyter.widget-view+json": {
       "model_id": "facefd66f3844c7e8eeeb5842d0d54e3",
       "version_major": 2,
       "version_minor": 0
      },
      "text/plain": [
       "Epoch 297:   0%|                                                                                | 0/64 [00:00<…"
      ]
     },
     "metadata": {},
     "output_type": "display_data"
    },
    {
     "name": "stdout",
     "output_type": "stream",
     "text": [
      "Epoch 297 • train=0.215154 • val=0.209716 • impr= 29.0% • lr=1.80e-04 • g≈1196.52\n"
     ]
    },
    {
     "data": {
      "application/vnd.jupyter.widget-view+json": {
       "model_id": "d21bdfa75c674dcfbbf396bf4d5519ce",
       "version_major": 2,
       "version_minor": 0
      },
      "text/plain": [
       "Epoch 298:   0%|                                                                                | 0/64 [00:00<…"
      ]
     },
     "metadata": {},
     "output_type": "display_data"
    },
    {
     "name": "stdout",
     "output_type": "stream",
     "text": [
      "Epoch 298 • train=0.215883 • val=0.209786 • impr= 28.9% • lr=1.77e-04 • g≈1221.39\n"
     ]
    },
    {
     "data": {
      "application/vnd.jupyter.widget-view+json": {
       "model_id": "0f7cfcddc1d740ecbc219ebffeb6df09",
       "version_major": 2,
       "version_minor": 0
      },
      "text/plain": [
       "Epoch 299:   0%|                                                                                | 0/64 [00:00<…"
      ]
     },
     "metadata": {},
     "output_type": "display_data"
    },
    {
     "name": "stdout",
     "output_type": "stream",
     "text": [
      "Epoch 299 • train=0.215516 • val=0.209486 • impr= 29.0% • lr=1.74e-04 • g≈1240.77\n"
     ]
    },
    {
     "data": {
      "application/vnd.jupyter.widget-view+json": {
       "model_id": "b8eb5f3edc5a42929370ed971c9a13e8",
       "version_major": 2,
       "version_minor": 0
      },
      "text/plain": [
       "Epoch 300:   0%|                                                                                | 0/64 [00:00<…"
      ]
     },
     "metadata": {},
     "output_type": "display_data"
    },
    {
     "name": "stdout",
     "output_type": "stream",
     "text": [
      "Epoch 300 • train=0.214436 • val=0.209799 • impr= 28.9% • lr=1.71e-04 • g≈1256.59\n"
     ]
    },
    {
     "data": {
      "application/vnd.jupyter.widget-view+json": {
       "model_id": "33a8a6e0797048e992645063b62d6345",
       "version_major": 2,
       "version_minor": 0
      },
      "text/plain": [
       "Epoch 301:   0%|                                                                                | 0/64 [00:00<…"
      ]
     },
     "metadata": {},
     "output_type": "display_data"
    },
    {
     "name": "stdout",
     "output_type": "stream",
     "text": [
      "Epoch 301 • train=0.214690 • val=0.209471 • impr= 29.0% • lr=1.68e-04 • g≈1280.87\n"
     ]
    },
    {
     "data": {
      "application/vnd.jupyter.widget-view+json": {
       "model_id": "062879eeab754f8c884e271092b9e732",
       "version_major": 2,
       "version_minor": 0
      },
      "text/plain": [
       "Epoch 302:   0%|                                                                                | 0/64 [00:00<…"
      ]
     },
     "metadata": {},
     "output_type": "display_data"
    },
    {
     "name": "stdout",
     "output_type": "stream",
     "text": [
      "Epoch 302 • train=0.215105 • val=0.209661 • impr= 29.0% • lr=1.65e-04 • g≈1306.93\n"
     ]
    },
    {
     "data": {
      "application/vnd.jupyter.widget-view+json": {
       "model_id": "f1a37466ca6c461a8adbc0b9886788f7",
       "version_major": 2,
       "version_minor": 0
      },
      "text/plain": [
       "Epoch 303:   0%|                                                                                | 0/64 [00:00<…"
      ]
     },
     "metadata": {},
     "output_type": "display_data"
    },
    {
     "name": "stdout",
     "output_type": "stream",
     "text": [
      "Epoch 303 • train=0.213656 • val=0.209587 • impr= 29.0% • lr=1.62e-04 • g≈1322.33\n"
     ]
    },
    {
     "data": {
      "application/vnd.jupyter.widget-view+json": {
       "model_id": "a09a6646f4054fa7bd8012ed0ec42cdc",
       "version_major": 2,
       "version_minor": 0
      },
      "text/plain": [
       "Epoch 304:   0%|                                                                                | 0/64 [00:00<…"
      ]
     },
     "metadata": {},
     "output_type": "display_data"
    },
    {
     "name": "stdout",
     "output_type": "stream",
     "text": [
      "Epoch 304 • train=0.214264 • val=0.209316 • impr= 29.1% • lr=1.59e-04 • g≈1351.17\n"
     ]
    },
    {
     "data": {
      "application/vnd.jupyter.widget-view+json": {
       "model_id": "337c2c8c7def4830ad5523f242abe2fe",
       "version_major": 2,
       "version_minor": 0
      },
      "text/plain": [
       "Epoch 305:   0%|                                                                                | 0/64 [00:00<…"
      ]
     },
     "metadata": {},
     "output_type": "display_data"
    },
    {
     "name": "stdout",
     "output_type": "stream",
     "text": [
      "Epoch 305 • train=0.213530 • val=0.210116 • impr= 28.8% • lr=1.56e-04 • g≈1372.39\n"
     ]
    },
    {
     "data": {
      "application/vnd.jupyter.widget-view+json": {
       "model_id": "2c41884319144176b572309952ba8181",
       "version_major": 2,
       "version_minor": 0
      },
      "text/plain": [
       "Epoch 306:   0%|                                                                                | 0/64 [00:00<…"
      ]
     },
     "metadata": {},
     "output_type": "display_data"
    },
    {
     "name": "stdout",
     "output_type": "stream",
     "text": [
      "Epoch 306 • train=0.214443 • val=0.209015 • impr= 29.2% • lr=1.53e-04 • g≈1405.09\n"
     ]
    },
    {
     "data": {
      "application/vnd.jupyter.widget-view+json": {
       "model_id": "a4e1022e0a0e4298b342dcfeddc19d10",
       "version_major": 2,
       "version_minor": 0
      },
      "text/plain": [
       "Epoch 307:   0%|                                                                                | 0/64 [00:00<…"
      ]
     },
     "metadata": {},
     "output_type": "display_data"
    },
    {
     "name": "stdout",
     "output_type": "stream",
     "text": [
      "Epoch 307 • train=0.214020 • val=0.209689 • impr= 29.0% • lr=1.50e-04 • g≈1430.01\n"
     ]
    },
    {
     "data": {
      "application/vnd.jupyter.widget-view+json": {
       "model_id": "a3cfe25f27e140c4a9e608a5987228fb",
       "version_major": 2,
       "version_minor": 0
      },
      "text/plain": [
       "Epoch 308:   0%|                                                                                | 0/64 [00:00<…"
      ]
     },
     "metadata": {},
     "output_type": "display_data"
    },
    {
     "name": "stdout",
     "output_type": "stream",
     "text": [
      "Epoch 308 • train=0.214071 • val=0.209554 • impr= 29.0% • lr=1.47e-04 • g≈1459.01\n"
     ]
    },
    {
     "data": {
      "application/vnd.jupyter.widget-view+json": {
       "model_id": "20661ccd48374f93af81754b35e5b564",
       "version_major": 2,
       "version_minor": 0
      },
      "text/plain": [
       "Epoch 309:   0%|                                                                                | 0/64 [00:00<…"
      ]
     },
     "metadata": {},
     "output_type": "display_data"
    },
    {
     "name": "stdout",
     "output_type": "stream",
     "text": [
      "Epoch 309 • train=0.213936 • val=0.209319 • impr= 29.1% • lr=1.44e-04 • g≈1487.73\n"
     ]
    },
    {
     "data": {
      "application/vnd.jupyter.widget-view+json": {
       "model_id": "b9067adb20f840898282e5375aa12efb",
       "version_major": 2,
       "version_minor": 0
      },
      "text/plain": [
       "Epoch 310:   0%|                                                                                | 0/64 [00:00<…"
      ]
     },
     "metadata": {},
     "output_type": "display_data"
    },
    {
     "name": "stdout",
     "output_type": "stream",
     "text": [
      "Epoch 310 • train=0.212647 • val=0.209248 • impr= 29.1% • lr=1.41e-04 • g≈1509.25\n"
     ]
    },
    {
     "data": {
      "application/vnd.jupyter.widget-view+json": {
       "model_id": "2c4ade6a9bb14b4db7c7eecef5abdd34",
       "version_major": 2,
       "version_minor": 0
      },
      "text/plain": [
       "Epoch 311:   0%|                                                                                | 0/64 [00:00<…"
      ]
     },
     "metadata": {},
     "output_type": "display_data"
    },
    {
     "name": "stdout",
     "output_type": "stream",
     "text": [
      "Epoch 311 • train=0.213511 • val=0.209142 • impr= 29.1% • lr=1.38e-04 • g≈1547.08\n"
     ]
    },
    {
     "data": {
      "application/vnd.jupyter.widget-view+json": {
       "model_id": "97f0cc56079e4577ac0186dbcb6e94e5",
       "version_major": 2,
       "version_minor": 0
      },
      "text/plain": [
       "Epoch 312:   0%|                                                                                | 0/64 [00:00<…"
      ]
     },
     "metadata": {},
     "output_type": "display_data"
    },
    {
     "name": "stdout",
     "output_type": "stream",
     "text": [
      "Epoch 312 • train=0.213104 • val=0.209812 • impr= 28.9% • lr=1.35e-04 • g≈1576.89\n"
     ]
    },
    {
     "data": {
      "application/vnd.jupyter.widget-view+json": {
       "model_id": "49758c45de704b97a092a46b5db8a2b4",
       "version_major": 2,
       "version_minor": 0
      },
      "text/plain": [
       "Epoch 313:   0%|                                                                                | 0/64 [00:00<…"
      ]
     },
     "metadata": {},
     "output_type": "display_data"
    },
    {
     "name": "stdout",
     "output_type": "stream",
     "text": [
      "Epoch 313 • train=0.214161 • val=0.209638 • impr= 29.0% • lr=1.32e-04 • g≈1618.83\n"
     ]
    },
    {
     "data": {
      "application/vnd.jupyter.widget-view+json": {
       "model_id": "425a76394acb472e90b964bdbc5ce09f",
       "version_major": 2,
       "version_minor": 0
      },
      "text/plain": [
       "Epoch 314:   0%|                                                                                | 0/64 [00:00<…"
      ]
     },
     "metadata": {},
     "output_type": "display_data"
    },
    {
     "name": "stdout",
     "output_type": "stream",
     "text": [
      "Epoch 314 • train=0.212666 • val=0.209485 • impr= 29.0% • lr=1.29e-04 • g≈1642.62\n"
     ]
    },
    {
     "data": {
      "application/vnd.jupyter.widget-view+json": {
       "model_id": "fe296cfb26584f7cbf7f7053e05ded90",
       "version_major": 2,
       "version_minor": 0
      },
      "text/plain": [
       "Epoch 315:   0%|                                                                                | 0/64 [00:00<…"
      ]
     },
     "metadata": {},
     "output_type": "display_data"
    },
    {
     "name": "stdout",
     "output_type": "stream",
     "text": [
      "Epoch 315 • train=0.213018 • val=0.209681 • impr= 29.0% • lr=1.27e-04 • g≈1681.77\n"
     ]
    },
    {
     "data": {
      "application/vnd.jupyter.widget-view+json": {
       "model_id": "811e94aae9b547b9956ea809600c30d8",
       "version_major": 2,
       "version_minor": 0
      },
      "text/plain": [
       "Epoch 316:   0%|                                                                                | 0/64 [00:00<…"
      ]
     },
     "metadata": {},
     "output_type": "display_data"
    },
    {
     "name": "stdout",
     "output_type": "stream",
     "text": [
      "Epoch 316 • train=0.213701 • val=0.209727 • impr= 28.9% • lr=1.24e-04 • g≈1725.06\n"
     ]
    },
    {
     "data": {
      "application/vnd.jupyter.widget-view+json": {
       "model_id": "9c84ffc8658a4bf4b8e9e2fb3a0ca1af",
       "version_major": 2,
       "version_minor": 0
      },
      "text/plain": [
       "Epoch 317:   0%|                                                                                | 0/64 [00:00<…"
      ]
     },
     "metadata": {},
     "output_type": "display_data"
    },
    {
     "name": "stdout",
     "output_type": "stream",
     "text": [
      "Epoch 317 • train=0.212926 • val=0.209142 • impr= 29.1% • lr=1.21e-04 • g≈1757.96\n"
     ]
    },
    {
     "data": {
      "application/vnd.jupyter.widget-view+json": {
       "model_id": "41a501a6a6c645d6a30de28976d73860",
       "version_major": 2,
       "version_minor": 0
      },
      "text/plain": [
       "Epoch 318:   0%|                                                                                | 0/64 [00:00<…"
      ]
     },
     "metadata": {},
     "output_type": "display_data"
    },
    {
     "name": "stdout",
     "output_type": "stream",
     "text": [
      "Epoch 318 • train=0.214380 • val=0.210036 • impr= 28.8% • lr=1.18e-04 • g≈1810.87\n"
     ]
    },
    {
     "data": {
      "application/vnd.jupyter.widget-view+json": {
       "model_id": "a286cb1e875a4df88323b1d56f8975bc",
       "version_major": 2,
       "version_minor": 0
      },
      "text/plain": [
       "Epoch 319:   0%|                                                                                | 0/64 [00:00<…"
      ]
     },
     "metadata": {},
     "output_type": "display_data"
    },
    {
     "name": "stdout",
     "output_type": "stream",
     "text": [
      "Epoch 319 • train=0.212563 • val=0.209275 • impr= 29.1% • lr=1.16e-04 • g≈1837.60\n"
     ]
    },
    {
     "data": {
      "application/vnd.jupyter.widget-view+json": {
       "model_id": "085112fde73844aeb2198ee84ebd3c80",
       "version_major": 2,
       "version_minor": 0
      },
      "text/plain": [
       "Epoch 320:   0%|                                                                                | 0/64 [00:00<…"
      ]
     },
     "metadata": {},
     "output_type": "display_data"
    },
    {
     "name": "stdout",
     "output_type": "stream",
     "text": [
      "Epoch 320 • train=0.213135 • val=0.209499 • impr= 29.0% • lr=1.13e-04 • g≈1886.35\n"
     ]
    },
    {
     "data": {
      "application/vnd.jupyter.widget-view+json": {
       "model_id": "213e3d912a7e44e199403025bcc6d68b",
       "version_major": 2,
       "version_minor": 0
      },
      "text/plain": [
       "Epoch 321:   0%|                                                                                | 0/64 [00:00<…"
      ]
     },
     "metadata": {},
     "output_type": "display_data"
    },
    {
     "name": "stdout",
     "output_type": "stream",
     "text": [
      "Epoch 321 • train=0.213429 • val=0.209513 • impr= 29.0% • lr=1.10e-04 • g≈1934.50\n"
     ]
    },
    {
     "data": {
      "application/vnd.jupyter.widget-view+json": {
       "model_id": "205844a2f85b47eaa8b79a99cbe3dc8f",
       "version_major": 2,
       "version_minor": 0
      },
      "text/plain": [
       "Epoch 322:   0%|                                                                                | 0/64 [00:00<…"
      ]
     },
     "metadata": {},
     "output_type": "display_data"
    },
    {
     "name": "stdout",
     "output_type": "stream",
     "text": [
      "Epoch 322 • train=0.212200 • val=0.208322 • impr= 29.4% • lr=1.08e-04 • g≈1970.39\n"
     ]
    },
    {
     "data": {
      "application/vnd.jupyter.widget-view+json": {
       "model_id": "c06a8e3a40244d27993d8f26743ec62c",
       "version_major": 2,
       "version_minor": 0
      },
      "text/plain": [
       "Epoch 323:   0%|                                                                                | 0/64 [00:00<…"
      ]
     },
     "metadata": {},
     "output_type": "display_data"
    },
    {
     "name": "stdout",
     "output_type": "stream",
     "text": [
      "Epoch 323 • train=0.213179 • val=0.210428 • impr= 28.7% • lr=1.05e-04 • g≈2028.56\n"
     ]
    },
    {
     "data": {
      "application/vnd.jupyter.widget-view+json": {
       "model_id": "9a8dadc3dace4f8888362d23a1151472",
       "version_major": 2,
       "version_minor": 0
      },
      "text/plain": [
       "Epoch 324:   0%|                                                                                | 0/64 [00:00<…"
      ]
     },
     "metadata": {},
     "output_type": "display_data"
    },
    {
     "name": "stdout",
     "output_type": "stream",
     "text": [
      "Epoch 324 • train=0.212736 • val=0.209167 • impr= 29.1% • lr=1.03e-04 • g≈2075.25\n"
     ]
    },
    {
     "data": {
      "application/vnd.jupyter.widget-view+json": {
       "model_id": "dbee1d80e65d4ff0ba0dacce7d94c2d0",
       "version_major": 2,
       "version_minor": 0
      },
      "text/plain": [
       "Epoch 325:   0%|                                                                                | 0/64 [00:00<…"
      ]
     },
     "metadata": {},
     "output_type": "display_data"
    },
    {
     "name": "stdout",
     "output_type": "stream",
     "text": [
      "Epoch 325 • train=0.211561 • val=0.208561 • impr= 29.3% • lr=1.00e-04 • g≈2116.41\n"
     ]
    },
    {
     "data": {
      "application/vnd.jupyter.widget-view+json": {
       "model_id": "de60ba4f63b748d8841843a24fe883ac",
       "version_major": 2,
       "version_minor": 0
      },
      "text/plain": [
       "Epoch 326:   0%|                                                                                | 0/64 [00:00<…"
      ]
     },
     "metadata": {},
     "output_type": "display_data"
    },
    {
     "name": "stdout",
     "output_type": "stream",
     "text": [
      "Epoch 326 • train=0.211759 • val=0.209627 • impr= 29.0% • lr=9.74e-05 • g≈2173.17\n"
     ]
    },
    {
     "data": {
      "application/vnd.jupyter.widget-view+json": {
       "model_id": "e7bcdc734db84a5784892eed25a4e8bb",
       "version_major": 2,
       "version_minor": 0
      },
      "text/plain": [
       "Epoch 327:   0%|                                                                                | 0/64 [00:00<…"
      ]
     },
     "metadata": {},
     "output_type": "display_data"
    },
    {
     "name": "stdout",
     "output_type": "stream",
     "text": [
      "Epoch 327 • train=0.212898 • val=0.208801 • impr= 29.3% • lr=9.50e-05 • g≈2242.15\n"
     ]
    },
    {
     "data": {
      "application/vnd.jupyter.widget-view+json": {
       "model_id": "0e7e283d532346e893efbfd765c432cb",
       "version_major": 2,
       "version_minor": 0
      },
      "text/plain": [
       "Epoch 328:   0%|                                                                                | 0/64 [00:00<…"
      ]
     },
     "metadata": {},
     "output_type": "display_data"
    },
    {
     "name": "stdout",
     "output_type": "stream",
     "text": [
      "Epoch 328 • train=0.213017 • val=0.209499 • impr= 29.0% • lr=9.25e-05 • g≈2303.03\n"
     ]
    },
    {
     "data": {
      "application/vnd.jupyter.widget-view+json": {
       "model_id": "aafdc666e9cc4f76960f7bafd2aeaf84",
       "version_major": 2,
       "version_minor": 0
      },
      "text/plain": [
       "Epoch 329:   0%|                                                                                | 0/64 [00:00<…"
      ]
     },
     "metadata": {},
     "output_type": "display_data"
    },
    {
     "name": "stdout",
     "output_type": "stream",
     "text": [
      "Epoch 329 • train=0.212397 • val=0.209621 • impr= 29.0% • lr=9.01e-05 • g≈2358.21\n"
     ]
    },
    {
     "data": {
      "application/vnd.jupyter.widget-view+json": {
       "model_id": "dd076cd80bc84e618374f551a1d5fb2e",
       "version_major": 2,
       "version_minor": 0
      },
      "text/plain": [
       "Epoch 330:   0%|                                                                                | 0/64 [00:00<…"
      ]
     },
     "metadata": {},
     "output_type": "display_data"
    },
    {
     "name": "stdout",
     "output_type": "stream",
     "text": [
      "Epoch 330 • train=0.212448 • val=0.209007 • impr= 29.2% • lr=8.77e-05 • g≈2423.21\n"
     ]
    },
    {
     "data": {
      "application/vnd.jupyter.widget-view+json": {
       "model_id": "8392a688f52d468ca366d10c46fe00e6",
       "version_major": 2,
       "version_minor": 0
      },
      "text/plain": [
       "Epoch 331:   0%|                                                                                | 0/64 [00:00<…"
      ]
     },
     "metadata": {},
     "output_type": "display_data"
    },
    {
     "name": "stdout",
     "output_type": "stream",
     "text": [
      "Epoch 331 • train=0.212258 • val=0.209095 • impr= 29.2% • lr=8.53e-05 • g≈2488.09\n"
     ]
    },
    {
     "data": {
      "application/vnd.jupyter.widget-view+json": {
       "model_id": "60df18aacf794a4b8c15e5ea9978f688",
       "version_major": 2,
       "version_minor": 0
      },
      "text/plain": [
       "Epoch 332:   0%|                                                                                | 0/64 [00:00<…"
      ]
     },
     "metadata": {},
     "output_type": "display_data"
    },
    {
     "name": "stdout",
     "output_type": "stream",
     "text": [
      "Epoch 332 • train=0.210799 • val=0.208950 • impr= 29.2% • lr=8.30e-05 • g≈2540.33\n"
     ]
    },
    {
     "data": {
      "application/vnd.jupyter.widget-view+json": {
       "model_id": "72429e88b8624c9c9b7438aaff184464",
       "version_major": 2,
       "version_minor": 0
      },
      "text/plain": [
       "Epoch 333:   0%|                                                                                | 0/64 [00:00<…"
      ]
     },
     "metadata": {},
     "output_type": "display_data"
    },
    {
     "name": "stdout",
     "output_type": "stream",
     "text": [
      "Epoch 333 • train=0.211150 • val=0.208950 • impr= 29.2% • lr=8.07e-05 • g≈2616.94\n"
     ]
    },
    {
     "data": {
      "application/vnd.jupyter.widget-view+json": {
       "model_id": "873d2e3751d84d3888c2e8b615581357",
       "version_major": 2,
       "version_minor": 0
      },
      "text/plain": [
       "Epoch 334:   0%|                                                                                | 0/64 [00:00<…"
      ]
     },
     "metadata": {},
     "output_type": "display_data"
    },
    {
     "name": "stdout",
     "output_type": "stream",
     "text": [
      "Epoch 334 • train=0.211524 • val=0.208788 • impr= 29.3% • lr=7.84e-05 • g≈2697.14\n"
     ]
    },
    {
     "data": {
      "application/vnd.jupyter.widget-view+json": {
       "model_id": "7061ca774c184349ae894da2edd71693",
       "version_major": 2,
       "version_minor": 0
      },
      "text/plain": [
       "Epoch 335:   0%|                                                                                | 0/64 [00:00<…"
      ]
     },
     "metadata": {},
     "output_type": "display_data"
    },
    {
     "name": "stdout",
     "output_type": "stream",
     "text": [
      "Epoch 335 • train=0.211429 • val=0.209167 • impr= 29.1% • lr=7.62e-05 • g≈2774.65\n"
     ]
    },
    {
     "data": {
      "application/vnd.jupyter.widget-view+json": {
       "model_id": "0beef1fd70d24865a2aeb639370bf0b5",
       "version_major": 2,
       "version_minor": 0
      },
      "text/plain": [
       "Epoch 336:   0%|                                                                                | 0/64 [00:00<…"
      ]
     },
     "metadata": {},
     "output_type": "display_data"
    },
    {
     "name": "stdout",
     "output_type": "stream",
     "text": [
      "Epoch 336 • train=0.211051 • val=0.209065 • impr= 29.2% • lr=7.40e-05 • g≈2851.60\n"
     ]
    },
    {
     "data": {
      "application/vnd.jupyter.widget-view+json": {
       "model_id": "391f5f34218841118d9616414e24e297",
       "version_major": 2,
       "version_minor": 0
      },
      "text/plain": [
       "Epoch 337:   0%|                                                                                | 0/64 [00:00<…"
      ]
     },
     "metadata": {},
     "output_type": "display_data"
    },
    {
     "name": "stdout",
     "output_type": "stream",
     "text": [
      "Epoch 337 • train=0.211981 • val=0.209094 • impr= 29.2% • lr=7.19e-05 • g≈2949.99\n"
     ]
    },
    {
     "data": {
      "application/vnd.jupyter.widget-view+json": {
       "model_id": "64dc471c78484127a0552f2572137dcc",
       "version_major": 2,
       "version_minor": 0
      },
      "text/plain": [
       "Epoch 338:   0%|                                                                                | 0/64 [00:00<…"
      ]
     },
     "metadata": {},
     "output_type": "display_data"
    },
    {
     "name": "stdout",
     "output_type": "stream",
     "text": [
      "Epoch 338 • train=0.213006 • val=0.209261 • impr= 29.1% • lr=6.97e-05 • g≈3054.19\n"
     ]
    },
    {
     "data": {
      "application/vnd.jupyter.widget-view+json": {
       "model_id": "f7596b2ee1be483a8a3c6dabf5ff5b73",
       "version_major": 2,
       "version_minor": 0
      },
      "text/plain": [
       "Epoch 339:   0%|                                                                                | 0/64 [00:00<…"
      ]
     },
     "metadata": {},
     "output_type": "display_data"
    },
    {
     "name": "stdout",
     "output_type": "stream",
     "text": [
      "Epoch 339 • train=0.212705 • val=0.208764 • impr= 29.3% • lr=6.77e-05 • g≈3143.55\n"
     ]
    },
    {
     "data": {
      "application/vnd.jupyter.widget-view+json": {
       "model_id": "0eef09043f244be1acf9017c41161768",
       "version_major": 2,
       "version_minor": 0
      },
      "text/plain": [
       "Epoch 340:   0%|                                                                                | 0/64 [00:00<…"
      ]
     },
     "metadata": {},
     "output_type": "display_data"
    },
    {
     "name": "stdout",
     "output_type": "stream",
     "text": [
      "Epoch 340 • train=0.212756 • val=0.208401 • impr= 29.4% • lr=6.56e-05 • g≈3242.05\n"
     ]
    },
    {
     "data": {
      "application/vnd.jupyter.widget-view+json": {
       "model_id": "d596b1dea40849a4b2e5e39de7b484fe",
       "version_major": 2,
       "version_minor": 0
      },
      "text/plain": [
       "Epoch 341:   0%|                                                                                | 0/64 [00:00<…"
      ]
     },
     "metadata": {},
     "output_type": "display_data"
    },
    {
     "name": "stdout",
     "output_type": "stream",
     "text": [
      "Epoch 341 • train=0.212562 • val=0.209131 • impr= 29.2% • lr=6.36e-05 • g≈3341.00\n"
     ]
    },
    {
     "data": {
      "application/vnd.jupyter.widget-view+json": {
       "model_id": "6b130e9de9814a78885144ef13b43318",
       "version_major": 2,
       "version_minor": 0
      },
      "text/plain": [
       "Epoch 342:   0%|                                                                                | 0/64 [00:00<…"
      ]
     },
     "metadata": {},
     "output_type": "display_data"
    },
    {
     "name": "stdout",
     "output_type": "stream",
     "text": [
      "Epoch 342 • train=0.212000 • val=0.209612 • impr= 29.0% • lr=6.17e-05 • g≈3438.21\n"
     ]
    },
    {
     "data": {
      "application/vnd.jupyter.widget-view+json": {
       "model_id": "14ecca4c81684e919291831fc4165cb3",
       "version_major": 2,
       "version_minor": 0
      },
      "text/plain": [
       "Epoch 343:   0%|                                                                                | 0/64 [00:00<…"
      ]
     },
     "metadata": {},
     "output_type": "display_data"
    },
    {
     "name": "stdout",
     "output_type": "stream",
     "text": [
      "Epoch 343 • train=0.211914 • val=0.208487 • impr= 29.4% • lr=5.97e-05 • g≈3547.44\n"
     ]
    },
    {
     "data": {
      "application/vnd.jupyter.widget-view+json": {
       "model_id": "52667f485238468da81673db3502d5ba",
       "version_major": 2,
       "version_minor": 0
      },
      "text/plain": [
       "Epoch 344:   0%|                                                                                | 0/64 [00:00<…"
      ]
     },
     "metadata": {},
     "output_type": "display_data"
    },
    {
     "name": "stdout",
     "output_type": "stream",
     "text": [
      "Epoch 344 • train=0.211062 • val=0.208593 • impr= 29.3% • lr=5.79e-05 • g≈3648.12\n"
     ]
    },
    {
     "data": {
      "application/vnd.jupyter.widget-view+json": {
       "model_id": "0b2bf3ee799c4c6e8fd2c70eec6839fe",
       "version_major": 2,
       "version_minor": 0
      },
      "text/plain": [
       "Epoch 345:   0%|                                                                                | 0/64 [00:00<…"
      ]
     },
     "metadata": {},
     "output_type": "display_data"
    },
    {
     "name": "stdout",
     "output_type": "stream",
     "text": [
      "Epoch 345 • train=0.211144 • val=0.209342 • impr= 29.1% • lr=5.60e-05 • g≈3769.54\n"
     ]
    },
    {
     "data": {
      "application/vnd.jupyter.widget-view+json": {
       "model_id": "c8a954be65164a4cb92da39adaf423a2",
       "version_major": 2,
       "version_minor": 0
      },
      "text/plain": [
       "Epoch 346:   0%|                                                                                | 0/64 [00:00<…"
      ]
     },
     "metadata": {},
     "output_type": "display_data"
    },
    {
     "name": "stdout",
     "output_type": "stream",
     "text": [
      "Epoch 346 • train=0.211831 • val=0.209066 • impr= 29.2% • lr=5.42e-05 • g≈3907.41\n"
     ]
    },
    {
     "data": {
      "application/vnd.jupyter.widget-view+json": {
       "model_id": "f4a95ec1c5674afcb8c4a874bc4b7fcd",
       "version_major": 2,
       "version_minor": 0
      },
      "text/plain": [
       "Epoch 347:   0%|                                                                                | 0/64 [00:00<…"
      ]
     },
     "metadata": {},
     "output_type": "display_data"
    },
    {
     "name": "stdout",
     "output_type": "stream",
     "text": [
      "Epoch 347 • train=0.211636 • val=0.208708 • impr= 29.3% • lr=5.25e-05 • g≈4034.70\n"
     ]
    },
    {
     "data": {
      "application/vnd.jupyter.widget-view+json": {
       "model_id": "bad2630b271b45cc818af86d4301ee83",
       "version_major": 2,
       "version_minor": 0
      },
      "text/plain": [
       "Epoch 348:   0%|                                                                                | 0/64 [00:00<…"
      ]
     },
     "metadata": {},
     "output_type": "display_data"
    },
    {
     "name": "stdout",
     "output_type": "stream",
     "text": [
      "Epoch 348 • train=0.212704 • val=0.208808 • impr= 29.3% • lr=5.07e-05 • g≈4192.27\n"
     ]
    },
    {
     "data": {
      "application/vnd.jupyter.widget-view+json": {
       "model_id": "ccf69e82ddc64daabb40f3f333dd27df",
       "version_major": 2,
       "version_minor": 0
      },
      "text/plain": [
       "Epoch 349:   0%|                                                                                | 0/64 [00:00<…"
      ]
     },
     "metadata": {},
     "output_type": "display_data"
    },
    {
     "name": "stdout",
     "output_type": "stream",
     "text": [
      "Epoch 349 • train=0.212275 • val=0.208812 • impr= 29.3% • lr=4.91e-05 • g≈4326.54\n"
     ]
    },
    {
     "data": {
      "application/vnd.jupyter.widget-view+json": {
       "model_id": "c38e13dc4ffb4116bb62bb0087ab86f1",
       "version_major": 2,
       "version_minor": 0
      },
      "text/plain": [
       "Epoch 350:   0%|                                                                                | 0/64 [00:00<…"
      ]
     },
     "metadata": {},
     "output_type": "display_data"
    },
    {
     "name": "stdout",
     "output_type": "stream",
     "text": [
      "Epoch 350 • train=0.211426 • val=0.208827 • impr= 29.3% • lr=4.74e-05 • g≈4457.42\n"
     ]
    },
    {
     "data": {
      "application/vnd.jupyter.widget-view+json": {
       "model_id": "2e03b4ba39fe491f988b33439a2ad2cd",
       "version_major": 2,
       "version_minor": 0
      },
      "text/plain": [
       "Epoch 351:   0%|                                                                                | 0/64 [00:00<…"
      ]
     },
     "metadata": {},
     "output_type": "display_data"
    },
    {
     "name": "stdout",
     "output_type": "stream",
     "text": [
      "Epoch 351 • train=0.210590 • val=0.208733 • impr= 29.3% • lr=4.58e-05 • g≈4593.51\n"
     ]
    },
    {
     "data": {
      "application/vnd.jupyter.widget-view+json": {
       "model_id": "11ca1b20083945ab9339855fac533d61",
       "version_major": 2,
       "version_minor": 0
      },
      "text/plain": [
       "Epoch 352:   0%|                                                                                | 0/64 [00:00<…"
      ]
     },
     "metadata": {},
     "output_type": "display_data"
    },
    {
     "name": "stdout",
     "output_type": "stream",
     "text": [
      "Epoch 352 • train=0.213246 • val=0.208714 • impr= 29.3% • lr=4.43e-05 • g≈4813.49\n",
      "Early stopping triggered.\n",
      "\n",
      "Champion validation RMSE = 0.208322\n",
      "Improvement vs baseline   =  29.4 %\n",
      "\n",
      "Model & weights saved to dfs training/model_AAPL_2025-06-18.keras\n"
     ]
    }
   ],
   "source": [
    "###############################################################################\n",
    "# FULL  TRAIN–SAVE  PIPELINE  – prints baseline + %-improvement               #\n",
    "###############################################################################\n",
    "import math, numpy as np, tensorflow as tf\n",
    "from datetime import datetime\n",
    "from pathlib import Path\n",
    "\n",
    "# ─────────────────────────────────────────────────────────────────────────────\n",
    "# 0.  ONE-OFF  :  baseline on the untouched validation split\n",
    "# ─────────────────────────────────────────────────────────────────────────────\n",
    "def naive_rmse(ds_val):\n",
    "    \"\"\"RMSE when the forecast is always zero.\"\"\"\n",
    "    mse, n = 0.0, 0\n",
    "    for _, y_day, _ in ds_val:\n",
    "        y = y_day.numpy().squeeze()\n",
    "        mse += np.sum(y ** 2)\n",
    "        n   += y.size\n",
    "    return math.sqrt(mse / n)\n",
    "\n",
    "baseline_val_rmse = naive_rmse(ds_val_unbatched)\n",
    "print(f\"Baseline (predict-zero) RMSE on validation = {baseline_val_rmse:.6f}\")\n",
    "\n",
    "# ─────────────────────────────────────────────────────────────────────────────\n",
    "# 1.  Training loop (outer bar only → maximum throughput)                     #\n",
    "# ─────────────────────────────────────────────────────────────────────────────\n",
    "n_train_days = len(np.unique(day_id_tr))\n",
    "print(f\"Training sees {n_train_days} calendar days per epoch\\n\")\n",
    "\n",
    "best_val_rmse = custom_stateful_training_loop(\n",
    "        model_train         = model_train,\n",
    "        model_val           = model_val,\n",
    "        ds_train_batched    = ds_train_batched,\n",
    "        ds_val              = ds_val_unbatched,\n",
    "        n_train_days        = n_train_days,\n",
    "        max_epochs          = MAX_EPOCHS,\n",
    "        early_stop_patience = EARLY_STOP_PATIENCE,\n",
    "        baseline_val_rmse   = baseline_val_rmse,\n",
    "        ckpt_path           = ckpt_path)\n",
    "\n",
    "print(f\"\\nChampion validation RMSE = {best_val_rmse:.6f}\")\n",
    "print(f\"Improvement vs baseline   = {(1 - best_val_rmse/baseline_val_rmse)*100:5.1f} %\")\n",
    "\n",
    "# ─────────────────────────────────────────────────────────────────────────────\n",
    "# 2.  Sync FP32 twin  +  refresh checkpoint                                   #\n",
    "# ─────────────────────────────────────────────────────────────────────────────\n",
    "model_val.set_weights(model_train.get_weights())\n",
    "model_val.save_weights(ckpt_path)\n",
    "\n",
    "# ─────────────────────────────────────────────────────────────────────────────\n",
    "# 3.  Persist architecture + weights  (.keras)                                #\n",
    "# ─────────────────────────────────────────────────────────────────────────────\n",
    "today     = datetime.now().strftime(\"%Y-%m-%d\")\n",
    "file_path = save_dir / f\"model_{ticker}_{today}.keras\"\n",
    "model_val.save(file_path)\n",
    "print(\"\\nModel & weights saved to\", file_path)\n"
   ]
  },
  {
   "cell_type": "code",
   "execution_count": null,
   "id": "8431ea52-a04f-4fff-bb69-73c1717dc459",
   "metadata": {},
   "outputs": [],
   "source": []
  },
  {
   "cell_type": "code",
   "execution_count": null,
   "id": "a42b058c-3b5d-4b49-96fb-0c2d6a0c79c8",
   "metadata": {},
   "outputs": [],
   "source": []
  },
  {
   "cell_type": "code",
   "execution_count": null,
   "id": "7672e672-70da-480a-8159-42b6a9fb356c",
   "metadata": {},
   "outputs": [],
   "source": []
  },
  {
   "cell_type": "code",
   "execution_count": null,
   "id": "516b4b02-67f9-43a1-adc5-b67ed3471b9e",
   "metadata": {},
   "outputs": [],
   "source": []
  },
  {
   "cell_type": "code",
   "execution_count": null,
   "id": "e846d4eb-4930-4892-bfe5-ebd2499b7e0f",
   "metadata": {},
   "outputs": [],
   "source": []
  }
 ],
 "metadata": {
  "kernelspec": {
   "display_name": "Python 3 (ipykernel)",
   "language": "python",
   "name": "python3"
  },
  "language_info": {
   "codemirror_mode": {
    "name": "ipython",
    "version": 3
   },
   "file_extension": ".py",
   "mimetype": "text/x-python",
   "name": "python",
   "nbconvert_exporter": "python",
   "pygments_lexer": "ipython3",
   "version": "3.10.18"
  }
 },
 "nbformat": 4,
 "nbformat_minor": 5
}
