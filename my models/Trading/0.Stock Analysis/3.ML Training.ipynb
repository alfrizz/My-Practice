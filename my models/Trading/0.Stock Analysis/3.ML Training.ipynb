{
 "cells": [
  {
   "cell_type": "code",
   "execution_count": 1,
   "id": "73f06a4f-691a-4a84-a305-e7212eb879bf",
   "metadata": {},
   "outputs": [],
   "source": [
    "# %matplotlib widget\n",
    "%matplotlib inline"
   ]
  },
  {
   "cell_type": "code",
   "execution_count": 2,
   "id": "4c868158-e6bb-4d56-bbdd-8e8103f0b9e4",
   "metadata": {},
   "outputs": [
    {
     "name": "stderr",
     "output_type": "stream",
     "text": [
      "/usr/local/lib/python3.12/dist-packages/tqdm/auto.py:21: TqdmWarning: IProgress not found. Please update jupyter and ipywidgets. See https://ipywidgets.readthedocs.io/en/stable/user_install.html\n",
      "  from .autonotebook import tqdm as notebook_tqdm\n"
     ]
    }
   ],
   "source": [
    "# 1) Wipe out all Python variables\n",
    "%reset -f\n",
    "# 2) Force Python’s garbage collector to run\n",
    "import gc\n",
    "gc.collect()\n",
    "# 3) If you’re using PyTorch + CUDA, free any lingering GPU memory\n",
    "import torch\n",
    "torch.cuda.empty_cache()\n",
    "\n",
    "import importlib\n",
    "from libs import models, plots, params\n",
    "importlib.reload(models)\n",
    "importlib.reload(plots)\n",
    "importlib.reload(params)\n",
    "\n",
    "import pandas as pd\n",
    "import numpy  as np\n",
    "import math\n",
    "\n",
    "import datetime as dt\n",
    "from datetime import datetime\n",
    "\n",
    "import copy\n",
    "from typing import Sequence, List, Tuple, Optional, Union\n",
    "\n",
    "from tqdm.auto import tqdm\n",
    "\n",
    "import torch.nn as nn\n",
    "import torch.nn.functional as Funct\n",
    "from torch.optim import AdamW\n",
    "from torch.optim.lr_scheduler import CosineAnnealingWarmRestarts, ReduceLROnPlateau\n",
    "from torch.utils.data import Dataset, DataLoader\n",
    "from torch.amp import GradScaler, autocast\n",
    "from torch_lr_finder import LRFinder"
   ]
  },
  {
   "cell_type": "code",
   "execution_count": 3,
   "id": "7b98406a",
   "metadata": {},
   "outputs": [
    {
     "name": "stdout",
     "output_type": "stream",
     "text": [
      "Using device: cuda\n"
     ]
    }
   ],
   "source": [
    "###############################################################################\n",
    "# 0 ·  DATA & PATHS                                                           #\n",
    "###############################################################################\n",
    "ticker         = params.ticker\n",
    "look_back      = params.look_back \n",
    "features_cols  = params.features_cols\n",
    "label_col      = params.label_col\n",
    "save_path      = params.save_path\n",
    "\n",
    "date = datetime.now().strftime(\"%Y-%m-%d %H:%M\")\n",
    "regular_start_pred  = params.regular_start_pred\n",
    "\n",
    "# dataset split proportions\n",
    "TRAIN_PROP, VAL_PROP = params.train_prop, params.val_prop\n",
    "\n",
    "# USE GPU if available, otherwise fallback to CPU\n",
    "device = params.device\n",
    "print(\"Using device:\", device)\n",
    "\n",
    "###############################################################################\n",
    "# 1 · MODEL HYPER-PARAMETERS (attention-augmented tuned defaults)\n",
    "###############################################################################\n",
    "\n",
    "# ── Architecture Parameters ───────────────────────────────────────────────\n",
    "SHORT_UNITS         = 32           # hidden size of each daily LSTM layer\n",
    "LONG_UNITS          = 64          # hidden size of the weekly LSTM\n",
    "DROPOUT_SHORT       = 0.2          # dropout after residual+attention block\n",
    "DROPOUT_LONG        = 0.3          # dropout after weekly LSTM outputs\n",
    "ATT_HEADS           = 8            # number of self-attention heads\n",
    "ATT_DROPOUT         = 0.2          # dropout rate inside attention\n",
    "WEIGHT_DECAY        = 2e-4         # L2 weight decay on all model weights\n",
    "\n",
    "# ── Training Control Parameters ────────────────────────────────────────────\n",
    "TRAIN_BATCH         = params.train_batch           \n",
    "VAL_BATCH           = params.val_batch  \n",
    "NUM_WORKERS         = params.num_workers\n",
    "MAX_EPOCHS          = 210          # upper limit on training epochs\n",
    "EARLY_STOP_PATIENCE = 21           # stop if no val-improve for this many epochs\n",
    "\n",
    "# ── Optimizer Settings ─────────────────────────────────────────────────────\n",
    "INITIAL_LR          = 3e-3         # AdamW initial learning rate\n",
    "CLIPNORM            = 1.0          # max-norm gradient clipping\n",
    "\n",
    "# ── CosineAnnealingWarmRestarts Scheduler ─────────────────────────────────\n",
    "T_0                 = 3            # epochs before first cosine restart\n",
    "T_MULT              = 1            # cycle length multiplier after each restart\n",
    "ETA_MIN             = 3e-5        # floor LR in each cosine cycle\n",
    "\n",
    "# ── ReduceLROnPlateau Scheduler ───────────────────────────────────────────\n",
    "PLATEAU_FACTOR      = 0.5          # multiply LR by this factor on plateau\n",
    "PLATEAU_PATIENCE    = 10           # epochs with no val-improve before LR cut\n",
    "MIN_LR              = 3e-6         # lower bound on LR after reductions\n",
    "\n",
    "\n"
   ]
  },
  {
   "cell_type": "code",
   "execution_count": 4,
   "id": "b08b80ec",
   "metadata": {},
   "outputs": [
    {
     "name": "stdout",
     "output_type": "stream",
     "text": [
      "\n",
      " Step D: saving final CSV …\n"
     ]
    },
    {
     "data": {
      "text/html": [
       "<div>\n",
       "<style scoped>\n",
       "    .dataframe tbody tr th:only-of-type {\n",
       "        vertical-align: middle;\n",
       "    }\n",
       "\n",
       "    .dataframe tbody tr th {\n",
       "        vertical-align: top;\n",
       "    }\n",
       "\n",
       "    .dataframe thead th {\n",
       "        text-align: right;\n",
       "    }\n",
       "</style>\n",
       "<table border=\"1\" class=\"dataframe\">\n",
       "  <thead>\n",
       "    <tr style=\"text-align: right;\">\n",
       "      <th></th>\n",
       "      <th>open</th>\n",
       "      <th>high</th>\n",
       "      <th>low</th>\n",
       "      <th>close</th>\n",
       "      <th>volume</th>\n",
       "      <th>bid</th>\n",
       "      <th>ask</th>\n",
       "      <th>signal_smooth</th>\n",
       "    </tr>\n",
       "  </thead>\n",
       "  <tbody>\n",
       "    <tr>\n",
       "      <th>2014-04-03 10:30:00</th>\n",
       "      <td>28.650</td>\n",
       "      <td>28.6500</td>\n",
       "      <td>28.650</td>\n",
       "      <td>28.6500</td>\n",
       "      <td>2000.0</td>\n",
       "      <td>28.641405</td>\n",
       "      <td>28.658595</td>\n",
       "      <td>0.303636</td>\n",
       "    </tr>\n",
       "    <tr>\n",
       "      <th>2014-04-03 10:31:00</th>\n",
       "      <td>28.650</td>\n",
       "      <td>28.6500</td>\n",
       "      <td>28.650</td>\n",
       "      <td>28.6500</td>\n",
       "      <td>2000.0</td>\n",
       "      <td>28.641405</td>\n",
       "      <td>28.658595</td>\n",
       "      <td>0.303742</td>\n",
       "    </tr>\n",
       "    <tr>\n",
       "      <th>2014-04-03 10:32:00</th>\n",
       "      <td>28.650</td>\n",
       "      <td>28.6500</td>\n",
       "      <td>28.650</td>\n",
       "      <td>28.6500</td>\n",
       "      <td>2000.0</td>\n",
       "      <td>28.641405</td>\n",
       "      <td>28.658595</td>\n",
       "      <td>0.303848</td>\n",
       "    </tr>\n",
       "    <tr>\n",
       "      <th>2014-04-03 10:33:00</th>\n",
       "      <td>28.650</td>\n",
       "      <td>28.6500</td>\n",
       "      <td>28.650</td>\n",
       "      <td>28.6500</td>\n",
       "      <td>2000.0</td>\n",
       "      <td>28.641405</td>\n",
       "      <td>28.658595</td>\n",
       "      <td>0.303953</td>\n",
       "    </tr>\n",
       "    <tr>\n",
       "      <th>2014-04-03 10:34:00</th>\n",
       "      <td>28.650</td>\n",
       "      <td>28.6500</td>\n",
       "      <td>28.650</td>\n",
       "      <td>28.6500</td>\n",
       "      <td>2000.0</td>\n",
       "      <td>28.641405</td>\n",
       "      <td>28.658595</td>\n",
       "      <td>0.304059</td>\n",
       "    </tr>\n",
       "    <tr>\n",
       "      <th>...</th>\n",
       "      <td>...</td>\n",
       "      <td>...</td>\n",
       "      <td>...</td>\n",
       "      <td>...</td>\n",
       "      <td>...</td>\n",
       "      <td>...</td>\n",
       "      <td>...</td>\n",
       "      <td>...</td>\n",
       "    </tr>\n",
       "    <tr>\n",
       "      <th>2025-06-18 20:56:00</th>\n",
       "      <td>173.375</td>\n",
       "      <td>173.6771</td>\n",
       "      <td>173.215</td>\n",
       "      <td>173.5650</td>\n",
       "      <td>621199.0</td>\n",
       "      <td>173.512900</td>\n",
       "      <td>173.617100</td>\n",
       "      <td>0.000000</td>\n",
       "    </tr>\n",
       "    <tr>\n",
       "      <th>2025-06-18 20:57:00</th>\n",
       "      <td>173.565</td>\n",
       "      <td>173.5900</td>\n",
       "      <td>173.240</td>\n",
       "      <td>173.3800</td>\n",
       "      <td>624198.0</td>\n",
       "      <td>173.328000</td>\n",
       "      <td>173.432000</td>\n",
       "      <td>0.000000</td>\n",
       "    </tr>\n",
       "    <tr>\n",
       "      <th>2025-06-18 20:58:00</th>\n",
       "      <td>173.390</td>\n",
       "      <td>173.4100</td>\n",
       "      <td>173.200</td>\n",
       "      <td>173.3100</td>\n",
       "      <td>454542.0</td>\n",
       "      <td>173.258000</td>\n",
       "      <td>173.362000</td>\n",
       "      <td>0.000000</td>\n",
       "    </tr>\n",
       "    <tr>\n",
       "      <th>2025-06-18 20:59:00</th>\n",
       "      <td>173.315</td>\n",
       "      <td>173.4000</td>\n",
       "      <td>173.230</td>\n",
       "      <td>173.2800</td>\n",
       "      <td>1094746.0</td>\n",
       "      <td>173.228000</td>\n",
       "      <td>173.332000</td>\n",
       "      <td>0.000000</td>\n",
       "    </tr>\n",
       "    <tr>\n",
       "      <th>2025-06-18 21:00:00</th>\n",
       "      <td>173.300</td>\n",
       "      <td>174.0500</td>\n",
       "      <td>173.170</td>\n",
       "      <td>173.6097</td>\n",
       "      <td>7649838.0</td>\n",
       "      <td>173.557600</td>\n",
       "      <td>173.661800</td>\n",
       "      <td>0.000000</td>\n",
       "    </tr>\n",
       "  </tbody>\n",
       "</table>\n",
       "<p>1776896 rows × 8 columns</p>\n",
       "</div>"
      ],
      "text/plain": [
       "                        open      high      low     close     volume  \\\n",
       "2014-04-03 10:30:00   28.650   28.6500   28.650   28.6500     2000.0   \n",
       "2014-04-03 10:31:00   28.650   28.6500   28.650   28.6500     2000.0   \n",
       "2014-04-03 10:32:00   28.650   28.6500   28.650   28.6500     2000.0   \n",
       "2014-04-03 10:33:00   28.650   28.6500   28.650   28.6500     2000.0   \n",
       "2014-04-03 10:34:00   28.650   28.6500   28.650   28.6500     2000.0   \n",
       "...                      ...       ...      ...       ...        ...   \n",
       "2025-06-18 20:56:00  173.375  173.6771  173.215  173.5650   621199.0   \n",
       "2025-06-18 20:57:00  173.565  173.5900  173.240  173.3800   624198.0   \n",
       "2025-06-18 20:58:00  173.390  173.4100  173.200  173.3100   454542.0   \n",
       "2025-06-18 20:59:00  173.315  173.4000  173.230  173.2800  1094746.0   \n",
       "2025-06-18 21:00:00  173.300  174.0500  173.170  173.6097  7649838.0   \n",
       "\n",
       "                            bid         ask  signal_smooth  \n",
       "2014-04-03 10:30:00   28.641405   28.658595       0.303636  \n",
       "2014-04-03 10:31:00   28.641405   28.658595       0.303742  \n",
       "2014-04-03 10:32:00   28.641405   28.658595       0.303848  \n",
       "2014-04-03 10:33:00   28.641405   28.658595       0.303953  \n",
       "2014-04-03 10:34:00   28.641405   28.658595       0.304059  \n",
       "...                         ...         ...            ...  \n",
       "2025-06-18 20:56:00  173.512900  173.617100       0.000000  \n",
       "2025-06-18 20:57:00  173.328000  173.432000       0.000000  \n",
       "2025-06-18 20:58:00  173.258000  173.362000       0.000000  \n",
       "2025-06-18 20:59:00  173.228000  173.332000       0.000000  \n",
       "2025-06-18 21:00:00  173.557600  173.661800       0.000000  \n",
       "\n",
       "[1776896 rows x 8 columns]"
      ]
     },
     "execution_count": 4,
     "metadata": {},
     "output_type": "execute_result"
    }
   ],
   "source": [
    "# FEATURES ENGINEERING\n",
    "\n",
    "df = pd.read_csv(f\"dfs training/{ticker}_ready.csv\", index_col=0, parse_dates=True)\n",
    "\n",
    "# 1) engineer top intraday features on your 1-min bars\n",
    "for lag in (1, 5, 15):\n",
    "    df[f\"r_{lag}\"] = np.log(df[\"close\"] / df[\"close\"].shift(lag))\n",
    "\n",
    "df[\"vol_15\"]        = df[\"r_1\"].rolling(15).std()\n",
    "df[\"volume_spike\"]  = df[\"volume\"] / df[\"volume\"].rolling(15).mean()\n",
    "\n",
    "typ_price = (df[\"high\"] + df[\"low\"] + df[\"close\"]) / 3\n",
    "vwap      = (typ_price * df[\"volume\"]).cumsum() / df[\"volume\"].cumsum()\n",
    "df[\"vwap_dev\"]      = (df[\"close\"] - vwap) / vwap\n",
    "\n",
    "delta     = df[\"close\"].diff()\n",
    "gain      = delta.clip(lower=0)\n",
    "loss      = -delta.clip(upper=0)\n",
    "avg_gain  = gain.rolling(14).mean()\n",
    "avg_loss  = loss.rolling(14).mean()\n",
    "rs        = avg_gain / avg_loss\n",
    "df[\"rsi_14\"]        = 100 - (100 / (1 + rs))\n",
    "\n",
    "# 2) keep only your label plus the most predictive features\n",
    "\n",
    "df = df[features_cols  + ['bid', 'ask'] + [label_col]].dropna()\n",
    "\n",
    "print(\"\\n Step D: saving final CSV …\")\n",
    "out_path = save_path / f\"{ticker}_final.csv\"\n",
    "df.to_csv(out_path)\n",
    "df"
   ]
  },
  {
   "cell_type": "code",
   "execution_count": 5,
   "id": "b805fa9c",
   "metadata": {},
   "outputs": [
    {
     "name": "stdout",
     "output_type": "stream",
     "text": [
      "torch.Size([1438976, 5, 120])\n",
      "torch.Size([1438976])\n",
      "Shapes:\n",
      "  X         = torch.Size([1438976, 5, 120]) (samples, features, look_back)\n",
      "  y         = torch.Size([1438976]) (samples,)\n",
      "  raw_close = torch.Size([1438976])\n",
      "  raw_bid   = torch.Size([1438976])\n",
      "  raw_ask   = torch.Size([1438976])\n",
      "\n",
      "First 5 window‐end timestamps:\n",
      "  2014-04-03 12:30:00\n",
      "  2014-04-03 12:31:00\n",
      "  2014-04-03 12:32:00\n",
      "  2014-04-03 12:33:00\n",
      "  2014-04-03 12:34:00\n",
      "\n",
      "First window covers 120 bars from\n",
      "  2014-04-03 10:30:00  →  2014-04-03 12:29:00\n",
      "and predicts the bar at 2014-04-03 12:30:00\n",
      "\n",
      "Those bars (timestamps):\n",
      "DatetimeIndex(['2014-04-03 10:30:00', '2014-04-03 10:31:00',\n",
      "               '2014-04-03 10:32:00', '2014-04-03 10:33:00',\n",
      "               '2014-04-03 10:34:00', '2014-04-03 10:35:00',\n",
      "               '2014-04-03 10:36:00', '2014-04-03 10:37:00',\n",
      "               '2014-04-03 10:38:00', '2014-04-03 10:39:00',\n",
      "               ...\n",
      "               '2014-04-03 12:20:00', '2014-04-03 12:21:00',\n",
      "               '2014-04-03 12:22:00', '2014-04-03 12:23:00',\n",
      "               '2014-04-03 12:24:00', '2014-04-03 12:25:00',\n",
      "               '2014-04-03 12:26:00', '2014-04-03 12:27:00',\n",
      "               '2014-04-03 12:28:00', '2014-04-03 12:29:00'],\n",
      "              dtype='datetime64[ns]', length=120, freq='min')\n",
      "First 5 values y: [0.36614996 0.36709553 0.3678513  0.3684172  0.36879322]\n",
      "First 5 signal_smooth values, on regular trade time:\n"
     ]
    },
    {
     "data": {
      "text/plain": [
       "2014-04-03 12:30:00    0.366150\n",
       "2014-04-03 12:31:00    0.367096\n",
       "2014-04-03 12:32:00    0.367851\n",
       "2014-04-03 12:33:00    0.368417\n",
       "2014-04-03 12:34:00    0.368793\n",
       "Name: signal_smooth, dtype: float64"
      ]
     },
     "execution_count": 5,
     "metadata": {},
     "output_type": "execute_result"
    }
   ],
   "source": [
    "X, y, raw_close, raw_bid, raw_ask = models.build_lstm_tensors(\n",
    "    df=df,\n",
    "    look_back=look_back,\n",
    "    features_cols=features_cols,\n",
    "    label_col=label_col,\n",
    "    regular_start=regular_start_pred\n",
    ")\n",
    "\n",
    "# 1)\n",
    "print(X.shape) # we use 'm' features and 'n' previous look back values to predict each 1 label\n",
    "print(y.shape) \n",
    "\n",
    "\n",
    "# 2) quick shapes\n",
    "print(\"Shapes:\")\n",
    "print(\"  X         =\", X.shape,    \"(samples, features, look_back)\")\n",
    "print(\"  y         =\", y.shape,    \"(samples,)\")\n",
    "print(\"  raw_close =\", raw_close.shape)\n",
    "print(\"  raw_bid   =\", raw_bid.shape)\n",
    "print(\"  raw_ask   =\", raw_ask.shape)\n",
    "\n",
    "# 3) rebuild the list of label‐timestamps (window‐ends)\n",
    "ends = []\n",
    "for day, day_df in df.groupby(df.index.normalize(), sort=False):\n",
    "    day_df = day_df.sort_index()\n",
    "    # candidate ends at positions look_back .. end\n",
    "    idxs = day_df.index[look_back:]\n",
    "    # only keep those at/after regular_start_pred\n",
    "    mask = [t >= regular_start_pred for t in idxs.time]\n",
    "    ends.extend(idxs[mask])\n",
    "\n",
    "# 4) show first few ends\n",
    "print(\"\\nFirst 5 window‐end timestamps:\")\n",
    "for ts in ends[:5]:\n",
    "    print(\" \", ts)\n",
    "\n",
    "# 5) show exactly which minutes X[0] contains\n",
    "first_end   = ends[0]\n",
    "first_start = first_end - pd.Timedelta(minutes=look_back)\n",
    "print(f\"\\nFirst window covers {look_back} bars from\")\n",
    "print(f\"  {first_start}  →  {first_end - pd.Timedelta(minutes=1)}\")\n",
    "print(f\"and predicts the bar at {first_end}\")\n",
    "\n",
    "print(\"\\nThose bars (timestamps):\")\n",
    "print(pd.date_range(first_start, first_end - pd.Timedelta(minutes=1), freq=\"1min\"))\n",
    "# -------------------------------------------------------------------\n",
    "\n",
    "y_np         = y.cpu().numpy()\n",
    "print(\"First 5 values y:\",         y_np[:5])\n",
    "print(\"First 5 signal_smooth values, on regular trade time:\")\n",
    "df.signal_smooth.iloc[look_back:look_back+5]"
   ]
  },
  {
   "cell_type": "code",
   "execution_count": 6,
   "id": "7b4f1ac4",
   "metadata": {},
   "outputs": [
    {
     "name": "stdout",
     "output_type": "stream",
     "text": [
      "Shapes:\n",
      "  X_tr        = torch.Size([1013824, 5, 120])\n",
      "  y_tr        = torch.Size([1013824])\n",
      "  raw_close_te= torch.Size([215642])\n",
      "  raw_bid_te  = torch.Size([215642])\n",
      "  raw_ask_te  = torch.Size([215642])\n",
      "\n",
      "Days: train=1984, val=410, test=422\n",
      "Windows: train=1013824, val=209510, test=215642\n",
      "\n",
      "First 5 window‐end times: [Timestamp('2014-04-03 12:30:00'), Timestamp('2014-04-03 12:31:00'), Timestamp('2014-04-03 12:32:00'), Timestamp('2014-04-03 12:33:00'), Timestamp('2014-04-03 12:34:00')]\n",
      "\n",
      "X_tr[0] covers bars from 2014-04-03 10:30:00 to 2014-04-03 12:29:00\n",
      "Those timestamps:\n",
      "DatetimeIndex(['2014-04-03 10:30:00', '2014-04-03 10:31:00',\n",
      "               '2014-04-03 10:32:00', '2014-04-03 10:33:00',\n",
      "               '2014-04-03 10:34:00', '2014-04-03 10:35:00',\n",
      "               '2014-04-03 10:36:00', '2014-04-03 10:37:00',\n",
      "               '2014-04-03 10:38:00', '2014-04-03 10:39:00',\n",
      "               ...\n",
      "               '2014-04-03 12:20:00', '2014-04-03 12:21:00',\n",
      "               '2014-04-03 12:22:00', '2014-04-03 12:23:00',\n",
      "               '2014-04-03 12:24:00', '2014-04-03 12:25:00',\n",
      "               '2014-04-03 12:26:00', '2014-04-03 12:27:00',\n",
      "               '2014-04-03 12:28:00', '2014-04-03 12:29:00'],\n",
      "              dtype='datetime64[ns]', length=120, freq='min')\n",
      "y_tr[0] (and raw_close_te[0]) is the bar at 2014-04-03 12:30:00\n"
     ]
    }
   ],
   "source": [
    "# Split into train/val/test by calendar day\n",
    "(X_tr, y_tr), \\\n",
    "(X_val, y_val), \\\n",
    "(X_te, y_te, raw_close_te, raw_bid_te, raw_ask_te), \\\n",
    "samples_per_day, day_id_tr, day_id_val, day_id_te = models.chronological_split(\n",
    "    X, y, raw_close, raw_bid, raw_ask, df,\n",
    "    look_back   = look_back,\n",
    "    regular_start   = regular_start_pred,\n",
    "    train_prop  = TRAIN_PROP,\n",
    "    val_prop    = VAL_PROP,\n",
    "    train_batch = TRAIN_BATCH\n",
    ")\n",
    "\n",
    "# 1) Print shapes of all tensors\n",
    "print(\"Shapes:\")\n",
    "print(\"  X_tr        =\", X_tr.shape)\n",
    "print(\"  y_tr        =\", y_tr.shape)\n",
    "print(\"  raw_close_te=\", raw_close_te.shape)\n",
    "print(\"  raw_bid_te  =\", raw_bid_te.shape)\n",
    "print(\"  raw_ask_te  =\", raw_ask_te.shape)\n",
    "\n",
    "# 2) Print number of days in each split\n",
    "n_tr_days = torch.unique(day_id_tr).numel()\n",
    "n_val_days= torch.unique(day_id_val).numel()\n",
    "n_te_days = torch.unique(day_id_te).numel()\n",
    "print(f\"\\nDays: train={n_tr_days}, val={n_val_days}, test={n_te_days}\")\n",
    "\n",
    "# 3) Print number of windows in each split\n",
    "print(f\"Windows: train={X_tr.shape[0]}, val={X_val.shape[0]}, test={X_te.shape[0]}\")\n",
    "\n",
    "# 4) List the first few window‐end timestamps\n",
    "ends = []\n",
    "for day, day_df in df.groupby(df.index.normalize(), sort=False):\n",
    "    ts = day_df.index[look_back:]\n",
    "    ends.extend(ts[ts.time >= regular_start_pred])\n",
    "first_ends = ends[:5]\n",
    "print(\"\\nFirst 5 window‐end times:\", first_ends)\n",
    "\n",
    "# 5) Show exactly which minutes X_tr[0] covers, and where y_tr[0] sits\n",
    "first_end   = first_ends[0]\n",
    "first_start = first_end - pd.Timedelta(minutes=look_back)\n",
    "# input bars = [first_start … first_end − 1min]\n",
    "print(f\"\\nX_tr[0] covers bars from {first_start} to {first_end - pd.Timedelta(minutes=1)}\")\n",
    "print(\"Those timestamps:\")\n",
    "print(pd.date_range(first_start, first_end - pd.Timedelta(minutes=1), freq=\"1min\"))\n",
    "print(f\"y_tr[0] (and raw_close_te[0]) is the bar at {first_end}\")\n"
   ]
  },
  {
   "cell_type": "code",
   "execution_count": 7,
   "id": "1ad9b6c4-3d79-45c0-b2c0-c4f46f1ad866",
   "metadata": {},
   "outputs": [
    {
     "name": "stdout",
     "output_type": "stream",
     "text": [
      "▶️ Entered split_to_day_datasets\n",
      "1) building weekday arrays\n",
      "   Weekdays counts → tr=1013824, val=209510, te=215642\n",
      "2) moving all splits to CPU\n",
      "   CPU casts done\n",
      "3) zero-bas­ing day_id for val & test\n",
      "   val_day_id ∈ [0..409], total days=410\n",
      "   te_day_id  ∈ [0..421], total days=422\n",
      "4) instantiating DayWindowDatasets\n",
      "   ds_tr days: 1984\n",
      "   ds_val days: 410\n",
      "   ds_te days: 422\n",
      "5) building DataLoaders\n",
      "   train_loader ready\n",
      "   val_loader ready\n",
      "   test_loader ready\n"
     ]
    }
   ],
   "source": [
    "\n",
    "# -----------------------------------------------------------------------------\n",
    "#  Build DataLoaders over calendar‐days\n",
    "# -----------------------------------------------------------------------------\n",
    "train_loader, val_loader, test_loader = models.split_to_day_datasets(\n",
    "    # Training split arrays (from chronological_split)\n",
    "    X_tr, y_tr, day_id_tr,\n",
    "    # Validation split arrays\n",
    "    X_val, y_val, day_id_val,\n",
    "    # Test split arrays + raw prices for post‐tracking\n",
    "    X_te, y_te, day_id_te, raw_close_te, raw_bid_te, raw_ask_te,\n",
    "    # Original minute‐bar DataFrame for weekday mapping\n",
    "    df=df,\n",
    "    train_batch=TRAIN_BATCH,\n",
    "    train_workers=NUM_WORKERS\n",
    ")\n"
   ]
  },
  {
   "cell_type": "code",
   "execution_count": 8,
   "id": "f1ed9892-6d63-44d6-8d1e-619cb2485841",
   "metadata": {},
   "outputs": [],
   "source": [
    "\n",
    "def make_optimizer_and_scheduler(\n",
    "    model: nn.Module,\n",
    "    initial_lr: float,\n",
    "    weight_decay: float = 1e-3,\n",
    "    lr_reduce_factor: float = 0.5,\n",
    "    lr_patience: int = 3,\n",
    "    lr_min: float = 1e-6,\n",
    "    clipnorm: float = 0.5,\n",
    "):\n",
    "    \"\"\"\n",
    "    Build optimizer, LR scheduler, AMP scaler, and clipping threshold.\n",
    "\n",
    "    • optimizer: AdamW with L2 weight_decay on all non‐bias weights.\n",
    "    • plateau_sched: ReduceLROnPlateau – watches val‐RMSE, cuts LR when plateau.\n",
    "      - mode='min'       → lower-is-better metric (we minimize RMSE).\n",
    "      - factor=0.5       → multiply LR by 0.5 on plateau.\n",
    "      - patience=3       → wait 3 epochs with no improvement before cutting.\n",
    "      - min_lr=1e-6      → never drop below this learning rate.\n",
    "      - verbose=True     → print a message whenever LR is reduced.\n",
    "    • scaler: GradScaler for mixed‐precision (automatically handles device).\n",
    "    • clipnorm: float threshold for gradient clipping in train_step.\n",
    "\n",
    "    Returns:\n",
    "      optimizer, plateau_sched, scaler, clipnorm\n",
    "    \"\"\"\n",
    "    # 1) AdamW: adaptive moment optimizer with decoupled weight decay\n",
    "    optimizer = AdamW(\n",
    "        model.parameters(),\n",
    "        lr=initial_lr,\n",
    "        weight_decay=weight_decay\n",
    "    )\n",
    "\n",
    "    # 2) ReduceLROnPlateau: only reduces LR when val metric plateaus\n",
    "    plateau_sched = ReduceLROnPlateau(\n",
    "        optimizer,\n",
    "        mode='min',\n",
    "        factor=lr_reduce_factor,\n",
    "        patience=lr_patience,\n",
    "        min_lr=lr_min,\n",
    "        verbose=True\n",
    "    )\n",
    "\n",
    "    cosine_sched  = CosineAnnealingWarmRestarts(\n",
    "        optimizer, \n",
    "        T_0=T_0, \n",
    "        T_mult=T_MULT, \n",
    "        eta_min=ETA_MIN\n",
    "    )\n",
    "\n",
    "    # 3) GradScaler: handles loss scaling for mixed precision\n",
    "    scaler = GradScaler()\n",
    "\n",
    "    # Return all four objects; clipnorm passed through to train_step\n",
    "    return optimizer, plateau_sched, cosine_sched, scaler, clipnorm\n",
    "\n",
    "\n",
    "\n",
    "def train_step(\n",
    "    model:     nn.Module,\n",
    "    x_day:     torch.Tensor,            # shape (W, look_back, F), already on device\n",
    "    y_day:     torch.Tensor,            # shape (W,),            already on device\n",
    "    optimizer: torch.optim.Optimizer,\n",
    "    scaler:    GradScaler,\n",
    "    clipnorm:  float,\n",
    ") -> float:\n",
    "    \"\"\"\n",
    "    Perform one mixed‐precision training update for a single “day” of data.\n",
    "\n",
    "    Steps:\n",
    "      1. Zero gradients (`optimizer.zero_grad(set_to_none=True)`).\n",
    "      2. Forward in fp16 context:\n",
    "         - autocast on x_day.device\n",
    "         - model(x_day) → out shape (W, seq_len, 1)\n",
    "         - extract last step: out[:, -1, 0] → (W,)\n",
    "         - compute MSE loss against y_day\n",
    "      3. Backward:\n",
    "         - scaler.scale(loss).backward()\n",
    "         - scaler.unscale_(optimizer) to prepare for clipping\n",
    "         - clip gradients to `clipnorm`\n",
    "         - scaler.step(optimizer) + scaler.update()\n",
    "      4. Return float(loss)\n",
    "\n",
    "    Returns:\n",
    "      The scalar loss value (Python float) for logging.\n",
    "    \"\"\"\n",
    "    # 1) Reset gradients\n",
    "    optimizer.zero_grad(set_to_none=True)\n",
    "    model.train()\n",
    "\n",
    "    # 2) Mixed‐precision forward\n",
    "    device = x_day.device\n",
    "    with autocast(device_type=device.type):\n",
    "        out = model(x_day)            # → (W, seq_len, 1)\n",
    "        last = out[:, -1, 0]          # → (W,)\n",
    "        loss = Funct.mse_loss(last, y_day, reduction='mean')\n",
    "\n",
    "    # 3) Backward with gradient scaling and clipping\n",
    "    scaler.scale(loss).backward()\n",
    "    scaler.unscale_(optimizer)        # bring gradients back to fp32 for clipping\n",
    "    torch.nn.utils.clip_grad_norm_(model.parameters(), clipnorm)\n",
    "    scaler.step(optimizer)\n",
    "    scaler.update()\n",
    "\n",
    "    return loss.item()\n",
    "\n",
    "\n",
    "def get_current_lr(optimizer: torch.optim.Optimizer) -> float:\n",
    "    \"\"\"\n",
    "    Retrieve the current learning rate from the first parameter group.\n",
    "    \"\"\"\n",
    "    return float(optimizer.param_groups[0]['lr'])\n"
   ]
  },
  {
   "cell_type": "code",
   "execution_count": 9,
   "id": "71e0ad3f-d804-4d03-a348-760baa264ade",
   "metadata": {},
   "outputs": [],
   "source": [
    "\n",
    "def custom_stateful_training_loop(\n",
    "    model:         torch.nn.Module,\n",
    "    optimizer:     torch.optim.Optimizer,\n",
    "    cosine_sched:  torch.optim.lr_scheduler.CosineAnnealingWarmRestarts,\n",
    "    plateau_sched: torch.optim.lr_scheduler.ReduceLROnPlateau,\n",
    "    scaler:        torch.cuda.amp.GradScaler,\n",
    "    train_loader:  torch.utils.data.DataLoader,\n",
    "    val_loader:    torch.utils.data.DataLoader,\n",
    "    *,\n",
    "    max_epochs:          int,\n",
    "    early_stop_patience: int,\n",
    "    baseline_val_rmse:   float,\n",
    "    clipnorm:            float,\n",
    "    device:              torch.device\n",
    ") -> float:\n",
    "    \"\"\"\n",
    "    Stateful LSTM Training Loop with:\n",
    "      - Mixed‐precision (AMP)\n",
    "      - Per‐day hidden‐state resets\n",
    "      - CosineWarmRestarts (per‐batch) + ReduceLROnPlateau (per‐epoch)\n",
    "      - Early stopping + live RMSE plot\n",
    "      - Extra GPU‐cache clears & memory logs to prevent silent OOMs\n",
    "    \"\"\"\n",
    "\n",
    "    model.to(device)\n",
    "    torch.backends.cudnn.benchmark = True\n",
    "\n",
    "    best_val_rmse = float('inf')\n",
    "    best_state    = None\n",
    "    patience_ctr  = 0\n",
    "\n",
    "    save_path = params.save_path\n",
    "    save_path.mkdir(parents=True, exist_ok=True)\n",
    "    live_plot = plots.LiveRMSEPlot()\n",
    "\n",
    "    for epoch in range(1, max_epochs + 1):\n",
    "        # ─── PRE‐EPOCH: clear and log memory ─────────────────────────────\n",
    "        # torch.cuda.empty_cache()\n",
    "        gc.collect()\n",
    "        print(f\"[Epoch {epoch}] GPU alloc = {torch.cuda.memory_allocated(device)/1e9:.2f} GB\")\n",
    "\n",
    "        # ─── TRAIN PHASE ─────────────────────────────────────────────────\n",
    "        model.train()\n",
    "        model.h_short = model.h_long = None\n",
    "        train_losses = []\n",
    "\n",
    "        pbar = tqdm(\n",
    "            enumerate(train_loader),\n",
    "            total=len(train_loader),\n",
    "            desc=f\"Epoch {epoch}\",\n",
    "            unit=\"bundle\"\n",
    "        )\n",
    "\n",
    "        for batch_idx, (xb_days, yb_days, wd_days) in pbar:\n",
    "            # Move one bundle of days to GPU\n",
    "            xb_days = xb_days.to(device, non_blocking=True)\n",
    "            yb_days = yb_days.to(device, non_blocking=True)\n",
    "            wd_days = wd_days.to(device)\n",
    "\n",
    "            # Zero grads once per bundle\n",
    "            optimizer.zero_grad(set_to_none=True)\n",
    "\n",
    "            prev_wd = None\n",
    "\n",
    "            for di in range(xb_days.size(0)):\n",
    "                wd = int(wd_days[di].item())\n",
    "\n",
    "                # Reset states\n",
    "                model.reset_short()\n",
    "                if prev_wd is not None and wd < prev_wd:\n",
    "                    model.reset_long()\n",
    "                prev_wd = wd\n",
    "\n",
    "                # Autocast forward/backward\n",
    "                with torch.cuda.amp.autocast():\n",
    "                    out  = model(xb_days[di])       # -> (W, look_back, 1)\n",
    "                    last = out[..., -1, 0]          # -> (W,)\n",
    "                    loss = Funct.mse_loss(last, yb_days[di], reduction='mean')\n",
    "\n",
    "                scaler.scale(loss).backward()\n",
    "                train_losses.append(loss.item())\n",
    "\n",
    "                # Detach hidden‐state to trim graph\n",
    "                if isinstance(model.h_short, tuple):\n",
    "                    model.h_short = tuple(h.detach() for h in model.h_short)\n",
    "                if isinstance(model.h_long, tuple):\n",
    "                    model.h_long = tuple(h.detach() for h in model.h_long)\n",
    "\n",
    "                # free per‐day intermediates\n",
    "                del out, last, loss\n",
    "\n",
    "            # Unscale, clip, step & update scaler\n",
    "            scaler.unscale_(optimizer)\n",
    "            torch.nn.utils.clip_grad_norm_(model.parameters(), clipnorm)\n",
    "            scaler.step(optimizer)\n",
    "            scaler.update()\n",
    "\n",
    "            # Cosine scheduler step (fractional epoch)\n",
    "            frac_epoch = epoch - 1 + batch_idx / len(train_loader)\n",
    "            cosine_sched.step(frac_epoch)\n",
    "\n",
    "            # Log bundle RMSE & LR\n",
    "            rmse = math.sqrt(sum(train_losses) / len(train_losses))\n",
    "            lr   = optimizer.param_groups[0]['lr']\n",
    "            pbar.set_postfix(train_rmse=rmse, lr=lr, refresh=False)\n",
    "            pbar.update(0)\n",
    "\n",
    "            # Clear bundle tensors & cache\n",
    "            del xb_days, yb_days, wd_days\n",
    "            # torch.cuda.empty_cache()\n",
    "            gc.collect()\n",
    "\n",
    "        pbar.close()\n",
    "\n",
    "        # ─── VALIDATION PHASE ─────────────────────────────────────────────\n",
    "        model.eval()\n",
    "        model.h_short = model.h_long = None\n",
    "        val_losses = []\n",
    "        prev_wd    = None\n",
    "\n",
    "        with torch.no_grad():\n",
    "            for xb_day, yb_day, wd in val_loader:\n",
    "                wd = int(wd.item())\n",
    "                x  = xb_day[0].to(device, non_blocking=True)\n",
    "                y  = yb_day.view(-1).to(device, non_blocking=True)\n",
    "\n",
    "                model.reset_short()\n",
    "                if prev_wd is not None and wd < prev_wd:\n",
    "                    model.reset_long()\n",
    "                prev_wd = wd\n",
    "\n",
    "                out  = model(x)\n",
    "                last = out[..., -1, 0]\n",
    "                val_losses.append(Funct.mse_loss(last, y, reduction='mean').item())\n",
    "\n",
    "                del xb_day, yb_day, x, y, out, last\n",
    "                # torch.cuda.empty_cache()\n",
    "\n",
    "        val_rmse = math.sqrt(sum(val_losses) / len(val_losses))\n",
    "\n",
    "        # ─── LOG & SCHEDULERS ─────────────────────────────────────────────\n",
    "        live_plot.update(rmse, val_rmse)\n",
    "        print(f\"Epoch {epoch:03d} • train={rmse:.4f} • val={val_rmse:.4f} • lr={optimizer.param_groups[0]['lr']:.2e}\")\n",
    "\n",
    "        # ReduceLROnPlateau\n",
    "        pre_lr = optimizer.param_groups[0]['lr']\n",
    "        plateau_sched.step(val_rmse)\n",
    "        post_lr = optimizer.param_groups[0]['lr']\n",
    "        if post_lr < pre_lr:\n",
    "            print(f\"Plateau reduced LR: {pre_lr:.1e} → {post_lr:.1e} at epoch {epoch}\")\n",
    "\n",
    "        # Early stopping\n",
    "        if val_rmse < best_val_rmse:\n",
    "            best_val_rmse = val_rmse\n",
    "            best_state    = copy.deepcopy(model.state_dict())\n",
    "            patience_ctr  = 0\n",
    "        else:\n",
    "            patience_ctr += 1\n",
    "            if patience_ctr >= early_stop_patience:\n",
    "                print(\"Early stopping triggered at epoch\", epoch)\n",
    "                break\n",
    "\n",
    "    # ─── SAVE BEST MODEL ─────────────────────────────────────────────────\n",
    "    if best_state is not None:\n",
    "        model.load_state_dict(best_state)\n",
    "\n",
    "    ckpt_file = save_path / f\"{ticker}_{best_val_rmse:.4f}.pth\"\n",
    "    torch.save(model, ckpt_file)\n",
    "    print(f\"Saved best model (val RMSE={best_val_rmse:.4f}) to {ckpt_file}\")\n",
    "\n",
    "    return best_val_rmse\n"
   ]
  },
  {
   "cell_type": "code",
   "execution_count": 10,
   "id": "eeec031f-6c8f-455f-9c72-ae411e03ba34",
   "metadata": {},
   "outputs": [
    {
     "data": {
      "text/plain": [
       "DualMemoryLSTM(\n",
       "  (short_lstm): LSTM(5, 32, batch_first=True)\n",
       "  (attn): MultiheadAttention(\n",
       "    (out_proj): NonDynamicallyQuantizableLinear(in_features=32, out_features=32, bias=True)\n",
       "  )\n",
       "  (do_short): Dropout(p=0.2, inplace=False)\n",
       "  (ln_short): LayerNorm((32,), eps=1e-05, elementwise_affine=True)\n",
       "  (long_lstm): LSTM(32, 64, batch_first=True)\n",
       "  (do_long): Dropout(p=0.3, inplace=False)\n",
       "  (ln_long): LayerNorm((64,), eps=1e-05, elementwise_affine=True)\n",
       "  (pred): Linear(in_features=64, out_features=1, bias=True)\n",
       ")"
      ]
     },
     "execution_count": 10,
     "metadata": {},
     "output_type": "execute_result"
    }
   ],
   "source": [
    "N_FEATS = len(features_cols)\n",
    "\n",
    "# -----------------------------------------------------------------------------\n",
    "# Instantiate the stateful DualMemoryLSTM & move to device\n",
    "# -----------------------------------------------------------------------------\n",
    "model = models.DualMemoryLSTM(\n",
    "    n_feats        = N_FEATS,        # number of input features per minute\n",
    "    short_units    = SHORT_UNITS,    # hidden size of daily LSTM\n",
    "    long_units     = LONG_UNITS,     # hidden size of weekly LSTM\n",
    "    dropout_short  = DROPOUT_SHORT,  # dropout after daily LSTM\n",
    "    dropout_long   = DROPOUT_LONG,    # dropout after weekly LSTM\n",
    "    att_heads      = ATT_HEADS,\n",
    "    att_drop       = ATT_DROPOUT\n",
    ")\n",
    "model.to(device)   # place model parameters on GPU or CPU as specified\n",
    "\n",
    "model"
   ]
  },
  {
   "cell_type": "code",
   "execution_count": 11,
   "id": "5512a0dd-d2c8-418e-bfca-4580fb4be995",
   "metadata": {},
   "outputs": [
    {
     "name": "stderr",
     "output_type": "stream",
     "text": [
      "/usr/local/lib/python3.12/dist-packages/torch/optim/lr_scheduler.py:62: UserWarning: The verbose parameter is deprecated. Please use get_last_lr() to access the learning rate.\n",
      "  warnings.warn(\n"
     ]
    },
    {
     "data": {
      "text/plain": [
       "AdamW (\n",
       "Parameter Group 0\n",
       "    amsgrad: False\n",
       "    betas: (0.9, 0.999)\n",
       "    capturable: False\n",
       "    decoupled_weight_decay: True\n",
       "    differentiable: False\n",
       "    eps: 1e-08\n",
       "    foreach: None\n",
       "    fused: None\n",
       "    initial_lr: 0.003\n",
       "    lr: 0.003\n",
       "    maximize: False\n",
       "    weight_decay: 0.0002\n",
       ")"
      ]
     },
     "execution_count": 11,
     "metadata": {},
     "output_type": "execute_result"
    }
   ],
   "source": [
    "\n",
    "# -----------------------------------------------------------------------------\n",
    "# Compute plateau_sched timing parameters\n",
    "# -----------------------------------------------------------------------------\n",
    "# Total training samples = total windows in X_tr (one window per row)\n",
    "n_train_samples = X_tr.shape[0]\n",
    "\n",
    "# How many optimizer steps (day‐bundles) constitute one epoch?\n",
    "steps_per_epoch = len(train_loader)\n",
    "\n",
    "\n",
    "# -----------------------------------------------------------------------------\n",
    "# Build optimizer, LR scheduler, AMP scaler, and gradient‐clip norm\n",
    "# -----------------------------------------------------------------------------\n",
    "optimizer, plateau_sched, cosine_sched, scaler, clipnorm = make_optimizer_and_scheduler(\n",
    "    model,\n",
    "    initial_lr         = INITIAL_LR,         # starting learning rate, e.g. 3e-4\n",
    "    weight_decay       = WEIGHT_DECAY,       # L2 penalty on all weights\n",
    "    lr_reduce_factor   = PLATEAU_FACTOR,     # multiply LR by IT on plateau\n",
    "    lr_patience        = PLATEAU_PATIENCE,   # epochs with no val‐improve before reduce\n",
    "    lr_min             = MIN_LR,             # lower bound on LR\n",
    "    clipnorm           = CLIPNORM            # max gradient‐norm before clipping\n",
    ")\n",
    "\n",
    "optimizer"
   ]
  },
  {
   "cell_type": "code",
   "execution_count": 12,
   "id": "1e70105f-bbe5-4ce0-aabe-acf9193ef401",
   "metadata": {},
   "outputs": [],
   "source": [
    "\n",
    "# 1) Move model to CPU and build a fresh optimizer (no scheduler metadata)\n",
    "model_cpu = model.cpu()\n",
    "optimizer_cpu = torch.optim.AdamW(\n",
    "    model_cpu.parameters(),\n",
    "    lr=1e-3,        # placeholder; the finder will override this\n",
    "    weight_decay=5e-4\n",
    ")\n",
    "\n",
    "# 2) Create a tiny DataLoader (batch_size=1) to save memory\n",
    "small_loader = DataLoader(\n",
    "    train_loader.dataset,\n",
    "    batch_size=1,\n",
    "    shuffle=True,\n",
    "    num_workers=0\n",
    ")\n",
    "\n",
    "# 3) Define an aligned MSE that permutes/expands your [1,1,D] or [D,1,1]\n",
    "#    target → [D, T, 1] to match output shape exactly.\n",
    "def aligned_mse(output, target):\n",
    "    # output: [D, T, 1]\n",
    "    # target might come in as [D,1,1] or [1,1,D]\n",
    "    tgt = target\n",
    "\n",
    "    # Case A: target == [D, 1, 1] → expand middle dim to T\n",
    "    if tgt.dim() == 3 and tgt.shape[0] == output.shape[0] \\\n",
    "       and tgt.shape[1] == 1 and tgt.shape[2] == 1:\n",
    "        tgt = tgt.expand(-1, output.size(1), -1)\n",
    "\n",
    "    # Case B: target == [1, 1, D] → permute to [D,1,1] then expand\n",
    "    elif tgt.dim() == 3 and tgt.shape[0] == 1 \\\n",
    "         and tgt.shape[1] == 1 and tgt.shape[2] == output.shape[0]:\n",
    "        # permute (0,1,2) → (2,1,0) to get [D,1,1]\n",
    "        tgt = tgt.permute(2, 1, 0)\n",
    "        tgt = tgt.expand(-1, output.size(1), -1)\n",
    "\n",
    "    else:\n",
    "        # fallback: broadcast to exactly output.shape\n",
    "        tgt = tgt.expand(output.shape)\n",
    "\n",
    "    return Funct.mse_loss(output, tgt)\n",
    "\n",
    "# 4) Free any lingering GPU memory\n",
    "gc.collect()\n",
    "torch.cuda.empty_cache()\n",
    "\n",
    "# 5) Run the LR‐Finder on CPU for just 30 mini‐batches\n",
    "lr_finder = LRFinder(\n",
    "    model_cpu,\n",
    "    optimizer_cpu,\n",
    "    aligned_mse,\n",
    "    device=\"cpu\"\n",
    ")\n",
    "lr_finder.range_test(\n",
    "    small_loader,\n",
    "    end_lr=1,     # maximum LR to try\n",
    "    num_iter=30   # number of batches\n",
    ")\n",
    "lr_finder.plot()   # examine loss vs. LR curve\n",
    "lr_finder.reset()  # restore original model & optimizer states\n",
    "\n",
    "# 6) Move model back to GPU for your main training\n",
    "model = model_cpu.to(\"cuda\")\n"
   ]
  },
  {
   "cell_type": "code",
   "execution_count": null,
   "id": "7bf94780-a876-4bf4-ad27-6abc2da1fc0a",
   "metadata": {},
   "outputs": [
    {
     "name": "stdout",
     "output_type": "stream",
     "text": [
      "Training sees 1984 calendar days per epoch\n",
      "\n",
      "Baseline (zero‐forecast) RMSE on validation = 0.536569\n"
     ]
    },
    {
     "data": {
      "image/png": "[encoded data removed]",
      "text/plain": [
       "<Figure size 660x440 with 1 Axes>"
      ]
     },
     "metadata": {},
     "output_type": "display_data"
    },
    {
     "name": "stdout",
     "output_type": "stream",
     "text": [
      "[Epoch 1] GPU alloc = 0.00 GB\n"
     ]
    },
    {
     "name": "stderr",
     "output_type": "stream",
     "text": [
      "/tmp/ipykernel_284/4215409556.py:75: FutureWarning: `torch.cuda.amp.autocast(args...)` is deprecated. Please use `torch.amp.autocast('cuda', args...)` instead.\n",
      "  with torch.cuda.amp.autocast():\n",
      "Epoch 1: 100%|██████████| 31/31 [00:36<00:00,  1.19s/bundle, lr=0.0023, train_rmse=0.404] \n"
     ]
    },
    {
     "name": "stdout",
     "output_type": "stream",
     "text": [
      "Epoch 001 • train=0.4045 • val=0.3057 • lr=2.30e-03\n",
      "[Epoch 2] GPU alloc = 0.02 GB\n"
     ]
    },
    {
     "name": "stderr",
     "output_type": "stream",
     "text": [
      "Epoch 2: 100%|██████████| 31/31 [00:34<00:00,  1.11s/bundle, lr=0.000816, train_rmse=0.279]\n"
     ]
    },
    {
     "name": "stdout",
     "output_type": "stream",
     "text": [
      "Epoch 002 • train=0.2785 • val=0.3285 • lr=8.16e-04\n",
      "[Epoch 3] GPU alloc = 0.02 GB\n"
     ]
    },
    {
     "name": "stderr",
     "output_type": "stream",
     "text": [
      "Epoch 3: 100%|██████████| 31/31 [00:34<00:00,  1.12s/bundle, lr=3.08e-5, train_rmse=0.26]  \n"
     ]
    },
    {
     "name": "stdout",
     "output_type": "stream",
     "text": [
      "Epoch 003 • train=0.2601 • val=0.4054 • lr=3.08e-05\n",
      "[Epoch 4] GPU alloc = 0.02 GB\n"
     ]
    },
    {
     "name": "stderr",
     "output_type": "stream",
     "text": [
      "Epoch 4: 100%|██████████| 31/31 [00:34<00:00,  1.10s/bundle, lr=0.0023, train_rmse=0.238] \n"
     ]
    },
    {
     "name": "stdout",
     "output_type": "stream",
     "text": [
      "Epoch 004 • train=0.2377 • val=0.3120 • lr=2.30e-03\n",
      "[Epoch 5] GPU alloc = 0.02 GB\n"
     ]
    },
    {
     "name": "stderr",
     "output_type": "stream",
     "text": [
      "Epoch 5: 100%|██████████| 31/31 [00:33<00:00,  1.10s/bundle, lr=0.000816, train_rmse=0.267]\n"
     ]
    },
    {
     "name": "stdout",
     "output_type": "stream",
     "text": [
      "Epoch 005 • train=0.2673 • val=0.3301 • lr=8.16e-04\n",
      "[Epoch 6] GPU alloc = 0.02 GB\n"
     ]
    },
    {
     "name": "stderr",
     "output_type": "stream",
     "text": [
      "Epoch 6: 100%|██████████| 31/31 [00:35<00:00,  1.16s/bundle, lr=3.08e-5, train_rmse=0.285] \n"
     ]
    },
    {
     "name": "stdout",
     "output_type": "stream",
     "text": [
      "Epoch 006 • train=0.2850 • val=0.3501 • lr=3.08e-05\n",
      "[Epoch 7] GPU alloc = 0.02 GB\n"
     ]
    },
    {
     "name": "stderr",
     "output_type": "stream",
     "text": [
      "Epoch 7: 100%|██████████| 31/31 [00:35<00:00,  1.15s/bundle, lr=0.0023, train_rmse=0.21]  \n"
     ]
    },
    {
     "name": "stdout",
     "output_type": "stream",
     "text": [
      "Epoch 007 • train=0.2102 • val=0.3137 • lr=2.30e-03\n",
      "[Epoch 8] GPU alloc = 0.02 GB\n"
     ]
    },
    {
     "name": "stderr",
     "output_type": "stream",
     "text": [
      "Epoch 8: 100%|██████████| 31/31 [00:38<00:00,  1.23s/bundle, lr=0.000816, train_rmse=0.226]\n"
     ]
    },
    {
     "name": "stdout",
     "output_type": "stream",
     "text": [
      "Epoch 008 • train=0.2263 • val=0.3318 • lr=8.16e-04\n",
      "[Epoch 9] GPU alloc = 0.02 GB\n"
     ]
    },
    {
     "name": "stderr",
     "output_type": "stream",
     "text": [
      "Epoch 9: 100%|██████████| 31/31 [00:36<00:00,  1.19s/bundle, lr=3.08e-5, train_rmse=0.26]  \n"
     ]
    },
    {
     "name": "stdout",
     "output_type": "stream",
     "text": [
      "Epoch 009 • train=0.2601 • val=0.3606 • lr=3.08e-05\n",
      "[Epoch 10] GPU alloc = 0.02 GB\n"
     ]
    },
    {
     "name": "stderr",
     "output_type": "stream",
     "text": [
      "Epoch 10: 100%|██████████| 31/31 [00:35<00:00,  1.16s/bundle, lr=0.0023, train_rmse=0.203] \n"
     ]
    },
    {
     "name": "stdout",
     "output_type": "stream",
     "text": [
      "Epoch 010 • train=0.2029 • val=0.3103 • lr=2.30e-03\n",
      "[Epoch 11] GPU alloc = 0.02 GB\n"
     ]
    },
    {
     "name": "stderr",
     "output_type": "stream",
     "text": [
      "Epoch 11: 100%|██████████| 31/31 [00:36<00:00,  1.17s/bundle, lr=0.000816, train_rmse=0.287]\n"
     ]
    },
    {
     "name": "stdout",
     "output_type": "stream",
     "text": [
      "Epoch 011 • train=0.2873 • val=0.3756 • lr=8.16e-04\n",
      "[Epoch 12] GPU alloc = 0.02 GB\n"
     ]
    },
    {
     "name": "stderr",
     "output_type": "stream",
     "text": [
      "Epoch 12: 100%|██████████| 31/31 [00:34<00:00,  1.12s/bundle, lr=3.08e-5, train_rmse=0.238] \n"
     ]
    },
    {
     "name": "stdout",
     "output_type": "stream",
     "text": [
      "Epoch 012 • train=0.2381 • val=0.3918 • lr=3.08e-05\n",
      "Plateau reduced LR: 3.1e-05 → 1.5e-05 at epoch 12\n",
      "[Epoch 13] GPU alloc = 0.02 GB\n"
     ]
    },
    {
     "name": "stderr",
     "output_type": "stream",
     "text": [
      "Epoch 13: 100%|██████████| 31/31 [00:34<00:00,  1.13s/bundle, lr=0.0023, train_rmse=0.196] \n"
     ]
    },
    {
     "name": "stdout",
     "output_type": "stream",
     "text": [
      "Epoch 013 • train=0.1964 • val=0.2841 • lr=2.30e-03\n",
      "[Epoch 14] GPU alloc = 0.02 GB\n"
     ]
    },
    {
     "name": "stderr",
     "output_type": "stream",
     "text": [
      "Epoch 14: 100%|██████████| 31/31 [00:35<00:00,  1.13s/bundle, lr=0.000816, train_rmse=0.276]\n"
     ]
    },
    {
     "name": "stdout",
     "output_type": "stream",
     "text": [
      "Epoch 014 • train=0.2762 • val=0.3956 • lr=8.16e-04\n",
      "[Epoch 15] GPU alloc = 0.02 GB\n"
     ]
    },
    {
     "name": "stderr",
     "output_type": "stream",
     "text": [
      "Epoch 15: 100%|██████████| 31/31 [00:35<00:00,  1.15s/bundle, lr=3.08e-5, train_rmse=0.228] \n"
     ]
    },
    {
     "name": "stdout",
     "output_type": "stream",
     "text": [
      "Epoch 015 • train=0.2280 • val=0.4057 • lr=3.08e-05\n",
      "[Epoch 16] GPU alloc = 0.02 GB\n"
     ]
    },
    {
     "name": "stderr",
     "output_type": "stream",
     "text": [
      "Epoch 16: 100%|██████████| 31/31 [00:37<00:00,  1.21s/bundle, lr=0.0023, train_rmse=0.202] \n"
     ]
    },
    {
     "name": "stdout",
     "output_type": "stream",
     "text": [
      "Epoch 016 • train=0.2016 • val=0.2887 • lr=2.30e-03\n",
      "[Epoch 17] GPU alloc = 0.02 GB\n"
     ]
    },
    {
     "name": "stderr",
     "output_type": "stream",
     "text": [
      "Epoch 17: 100%|██████████| 31/31 [00:34<00:00,  1.11s/bundle, lr=0.000816, train_rmse=0.271]\n"
     ]
    },
    {
     "name": "stdout",
     "output_type": "stream",
     "text": [
      "Epoch 017 • train=0.2714 • val=0.3532 • lr=8.16e-04\n",
      "[Epoch 18] GPU alloc = 0.02 GB\n"
     ]
    },
    {
     "name": "stderr",
     "output_type": "stream",
     "text": [
      "Epoch 18: 100%|██████████| 31/31 [00:36<00:00,  1.17s/bundle, lr=3.08e-5, train_rmse=0.242] \n"
     ]
    },
    {
     "name": "stdout",
     "output_type": "stream",
     "text": [
      "Epoch 018 • train=0.2420 • val=0.3674 • lr=3.08e-05\n",
      "[Epoch 19] GPU alloc = 0.02 GB\n"
     ]
    },
    {
     "name": "stderr",
     "output_type": "stream",
     "text": [
      "Epoch 19:   3%|▎         | 1/31 [00:00<00:06,  4.90bundle/s, lr=0.003, train_rmse=0.167]"
     ]
    }
   ],
   "source": [
    "\n",
    "# -----------------------------------------------------------------------------\n",
    "# Count how many calendar days we see each epoch\n",
    "# -----------------------------------------------------------------------------\n",
    "n_train_days = len(train_loader.dataset)  # dataset length = # unique days\n",
    "print(f\"Training sees {n_train_days} calendar days per epoch\\n\")\n",
    "\n",
    "\n",
    "# -----------------------------------------------------------------------------\n",
    "# Compute baseline RMSE on validation (zero forecast)\n",
    "# -----------------------------------------------------------------------------\n",
    "baseline_val_rmse = models.naive_rmse(val_loader)\n",
    "print(f\"Baseline (zero‐forecast) RMSE on validation = {baseline_val_rmse:.6f}\")\n",
    "\n",
    "\n",
    "# -----------------------------------------------------------------------------\n",
    "# Run the custom stateful training loop\n",
    "# -----------------------------------------------------------------------------\n",
    "best_val_rmse = custom_stateful_training_loop(\n",
    "    model               = model,\n",
    "    optimizer           = optimizer,\n",
    "    cosine_sched        = cosine_sched,\n",
    "    plateau_sched       = plateau_sched,\n",
    "    scaler              = scaler,\n",
    "    train_loader        = train_loader,\n",
    "    val_loader          = val_loader,\n",
    "    max_epochs          = MAX_EPOCHS,\n",
    "    early_stop_patience = EARLY_STOP_PATIENCE,\n",
    "    baseline_val_rmse   = baseline_val_rmse,\n",
    "    clipnorm            = clipnorm,\n",
    "    device              = device      # torch.device('cuda') or 'cpu'\n",
    ")\n",
    "\n",
    "\n",
    "# -----------------------------------------------------------------------------\n",
    "# Final reporting: best RMSE and relative improvement\n",
    "# -----------------------------------------------------------------------------\n",
    "print(f\"\\nChampion validation RMSE = {best_val_rmse:.6f}\")\n",
    "\n",
    "improvement = 100.0 * (1.0 - best_val_rmse / baseline_val_rmse)\n",
    "print(f\"Improvement over zero‐baseline = {improvement:5.1f}%\")\n"
   ]
  },
  {
   "cell_type": "code",
   "execution_count": null,
   "id": "e09e0cda",
   "metadata": {},
   "outputs": [],
   "source": []
  },
  {
   "cell_type": "code",
   "execution_count": null,
   "id": "4c8660dd-d2db-434a-aa59-17814d343fbe",
   "metadata": {},
   "outputs": [],
   "source": []
  }
 ],
 "metadata": {
  "kernelspec": {
   "display_name": "Python 3 (ipykernel)",
   "language": "python",
   "name": "python3"
  },
  "language_info": {
   "codemirror_mode": {
    "name": "ipython",
    "version": 3
   },
   "file_extension": ".py",
   "mimetype": "text/x-python",
   "name": "python",
   "nbconvert_exporter": "python",
   "pygments_lexer": "ipython3",
   "version": "3.12.3"
  }
 },
 "nbformat": 4,
 "nbformat_minor": 5
}
