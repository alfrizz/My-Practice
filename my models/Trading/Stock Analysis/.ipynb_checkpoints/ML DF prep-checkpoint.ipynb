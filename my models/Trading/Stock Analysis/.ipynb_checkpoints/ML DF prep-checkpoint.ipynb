{
 "cells": [
  {
   "cell_type": "code",
   "execution_count": 1,
   "id": "35445790-eaab-428e-9fb9-1d07594ee3b6",
   "metadata": {},
   "outputs": [],
   "source": [
    "import math\n",
    "import pandas as pd\n",
    "from pandas import Timestamp\n",
    "import numpy as np\n",
    "\n",
    "import matplotlib.pyplot as plt\n",
    "import plotly.graph_objects as go\n",
    "from IPython.display import display, HTML\n",
    "\n",
    "pd.set_option('display.max_columns', None)\n"
   ]
  },
  {
   "cell_type": "code",
   "execution_count": 2,
   "id": "337378d7-46d5-428c-a46d-3b7c5658aace",
   "metadata": {},
   "outputs": [
    {
     "data": {
      "text/html": [
       "<div>\n",
       "<style scoped>\n",
       "    .dataframe tbody tr th:only-of-type {\n",
       "        vertical-align: middle;\n",
       "    }\n",
       "\n",
       "    .dataframe tbody tr th {\n",
       "        vertical-align: top;\n",
       "    }\n",
       "\n",
       "    .dataframe thead th {\n",
       "        text-align: right;\n",
       "    }\n",
       "</style>\n",
       "<table border=\"1\" class=\"dataframe\">\n",
       "  <thead>\n",
       "    <tr style=\"text-align: right;\">\n",
       "      <th></th>\n",
       "      <th>timestamp</th>\n",
       "      <th>gmtoffset</th>\n",
       "      <th>datetime</th>\n",
       "      <th>open</th>\n",
       "      <th>high</th>\n",
       "      <th>low</th>\n",
       "      <th>close</th>\n",
       "      <th>volume</th>\n",
       "    </tr>\n",
       "  </thead>\n",
       "  <tbody>\n",
       "    <tr>\n",
       "      <th>0</th>\n",
       "      <td>1738573200</td>\n",
       "      <td>0</td>\n",
       "      <td>2025-02-03 09:00:00</td>\n",
       "      <td>96.3300</td>\n",
       "      <td>97.7500</td>\n",
       "      <td>95.00</td>\n",
       "      <td>96.12</td>\n",
       "      <td>75147</td>\n",
       "    </tr>\n",
       "    <tr>\n",
       "      <th>1</th>\n",
       "      <td>1738573260</td>\n",
       "      <td>0</td>\n",
       "      <td>2025-02-03 09:01:00</td>\n",
       "      <td>96.1200</td>\n",
       "      <td>96.7500</td>\n",
       "      <td>96.12</td>\n",
       "      <td>96.70</td>\n",
       "      <td>10042</td>\n",
       "    </tr>\n",
       "    <tr>\n",
       "      <th>2</th>\n",
       "      <td>1738573320</td>\n",
       "      <td>0</td>\n",
       "      <td>2025-02-03 09:02:00</td>\n",
       "      <td>96.4700</td>\n",
       "      <td>96.4700</td>\n",
       "      <td>96.04</td>\n",
       "      <td>96.13</td>\n",
       "      <td>10783</td>\n",
       "    </tr>\n",
       "    <tr>\n",
       "      <th>3</th>\n",
       "      <td>1738573380</td>\n",
       "      <td>0</td>\n",
       "      <td>2025-02-03 09:03:00</td>\n",
       "      <td>96.1900</td>\n",
       "      <td>96.5600</td>\n",
       "      <td>96.00</td>\n",
       "      <td>96.47</td>\n",
       "      <td>19854</td>\n",
       "    </tr>\n",
       "    <tr>\n",
       "      <th>4</th>\n",
       "      <td>1738573440</td>\n",
       "      <td>0</td>\n",
       "      <td>2025-02-03 09:04:00</td>\n",
       "      <td>96.5600</td>\n",
       "      <td>96.6500</td>\n",
       "      <td>96.31</td>\n",
       "      <td>96.37</td>\n",
       "      <td>17854</td>\n",
       "    </tr>\n",
       "    <tr>\n",
       "      <th>...</th>\n",
       "      <td>...</td>\n",
       "      <td>...</td>\n",
       "      <td>...</td>\n",
       "      <td>...</td>\n",
       "      <td>...</td>\n",
       "      <td>...</td>\n",
       "      <td>...</td>\n",
       "      <td>...</td>\n",
       "    </tr>\n",
       "    <tr>\n",
       "      <th>67296</th>\n",
       "      <td>1747338960</td>\n",
       "      <td>0</td>\n",
       "      <td>2025-05-15 19:56:00</td>\n",
       "      <td>123.7800</td>\n",
       "      <td>123.9200</td>\n",
       "      <td>123.73</td>\n",
       "      <td>123.88</td>\n",
       "      <td>172458</td>\n",
       "    </tr>\n",
       "    <tr>\n",
       "      <th>67297</th>\n",
       "      <td>1747339020</td>\n",
       "      <td>0</td>\n",
       "      <td>2025-05-15 19:57:00</td>\n",
       "      <td>123.8800</td>\n",
       "      <td>123.9900</td>\n",
       "      <td>123.85</td>\n",
       "      <td>123.99</td>\n",
       "      <td>215741</td>\n",
       "    </tr>\n",
       "    <tr>\n",
       "      <th>67298</th>\n",
       "      <td>1747339080</td>\n",
       "      <td>0</td>\n",
       "      <td>2025-05-15 19:58:00</td>\n",
       "      <td>123.9900</td>\n",
       "      <td>124.0400</td>\n",
       "      <td>123.90</td>\n",
       "      <td>123.90</td>\n",
       "      <td>230037</td>\n",
       "    </tr>\n",
       "    <tr>\n",
       "      <th>67299</th>\n",
       "      <td>1747339140</td>\n",
       "      <td>0</td>\n",
       "      <td>2025-05-15 19:59:00</td>\n",
       "      <td>123.9075</td>\n",
       "      <td>123.9800</td>\n",
       "      <td>123.84</td>\n",
       "      <td>123.95</td>\n",
       "      <td>300273</td>\n",
       "    </tr>\n",
       "    <tr>\n",
       "      <th>67300</th>\n",
       "      <td>1747339200</td>\n",
       "      <td>0</td>\n",
       "      <td>2025-05-15 20:00:00</td>\n",
       "      <td>123.9500</td>\n",
       "      <td>123.9999</td>\n",
       "      <td>123.82</td>\n",
       "      <td>123.96</td>\n",
       "      <td>2065849</td>\n",
       "    </tr>\n",
       "  </tbody>\n",
       "</table>\n",
       "<p>67301 rows × 8 columns</p>\n",
       "</div>"
      ],
      "text/plain": [
       "        timestamp  gmtoffset            datetime      open      high     low  \\\n",
       "0      1738573200          0 2025-02-03 09:00:00   96.3300   97.7500   95.00   \n",
       "1      1738573260          0 2025-02-03 09:01:00   96.1200   96.7500   96.12   \n",
       "2      1738573320          0 2025-02-03 09:02:00   96.4700   96.4700   96.04   \n",
       "3      1738573380          0 2025-02-03 09:03:00   96.1900   96.5600   96.00   \n",
       "4      1738573440          0 2025-02-03 09:04:00   96.5600   96.6500   96.31   \n",
       "...           ...        ...                 ...       ...       ...     ...   \n",
       "67296  1747338960          0 2025-05-15 19:56:00  123.7800  123.9200  123.73   \n",
       "67297  1747339020          0 2025-05-15 19:57:00  123.8800  123.9900  123.85   \n",
       "67298  1747339080          0 2025-05-15 19:58:00  123.9900  124.0400  123.90   \n",
       "67299  1747339140          0 2025-05-15 19:59:00  123.9075  123.9800  123.84   \n",
       "67300  1747339200          0 2025-05-15 20:00:00  123.9500  123.9999  123.82   \n",
       "\n",
       "        close   volume  \n",
       "0       96.12    75147  \n",
       "1       96.70    10042  \n",
       "2       96.13    10783  \n",
       "3       96.47    19854  \n",
       "4       96.37    17854  \n",
       "...       ...      ...  \n",
       "67296  123.88   172458  \n",
       "67297  123.99   215741  \n",
       "67298  123.90   230037  \n",
       "67299  123.95   300273  \n",
       "67300  123.96  2065849  \n",
       "\n",
       "[67301 rows x 8 columns]"
      ]
     },
     "execution_count": 2,
     "metadata": {},
     "output_type": "execute_result"
    }
   ],
   "source": [
    "df = pd.read_csv('Intraday stocks/BABA.csv', index_col=0, parse_dates=[\"datetime\"])\n",
    "df"
   ]
  },
  {
   "cell_type": "code",
   "execution_count": 4,
   "id": "ce1e645c-545a-429a-b66a-e1e1bd129f9b",
   "metadata": {},
   "outputs": [],
   "source": [
    "df_close = df[['datetime', 'close']].set_index('datetime')"
   ]
  },
  {
   "cell_type": "code",
   "execution_count": 5,
   "id": "ab9c909f-f9da-45c6-a292-c9c3ef7798f9",
   "metadata": {},
   "outputs": [
    {
     "data": {
      "text/html": [
       "<div>\n",
       "<style scoped>\n",
       "    .dataframe tbody tr th:only-of-type {\n",
       "        vertical-align: middle;\n",
       "    }\n",
       "\n",
       "    .dataframe tbody tr th {\n",
       "        vertical-align: top;\n",
       "    }\n",
       "\n",
       "    .dataframe thead th {\n",
       "        text-align: right;\n",
       "    }\n",
       "</style>\n",
       "<table border=\"1\" class=\"dataframe\">\n",
       "  <thead>\n",
       "    <tr style=\"text-align: right;\">\n",
       "      <th></th>\n",
       "      <th>close</th>\n",
       "    </tr>\n",
       "    <tr>\n",
       "      <th>datetime</th>\n",
       "      <th></th>\n",
       "    </tr>\n",
       "  </thead>\n",
       "  <tbody>\n",
       "    <tr>\n",
       "      <th>2025-03-01 00:00:00</th>\n",
       "      <td>133.1200</td>\n",
       "    </tr>\n",
       "    <tr>\n",
       "      <th>2025-03-01 00:01:00</th>\n",
       "      <td>133.1200</td>\n",
       "    </tr>\n",
       "    <tr>\n",
       "      <th>2025-03-01 00:02:00</th>\n",
       "      <td>133.1100</td>\n",
       "    </tr>\n",
       "    <tr>\n",
       "      <th>2025-03-01 00:03:00</th>\n",
       "      <td>133.1400</td>\n",
       "    </tr>\n",
       "    <tr>\n",
       "      <th>2025-03-01 00:04:00</th>\n",
       "      <td>133.0900</td>\n",
       "    </tr>\n",
       "    <tr>\n",
       "      <th>...</th>\n",
       "      <td>...</td>\n",
       "    </tr>\n",
       "    <tr>\n",
       "      <th>2025-05-01 23:54:00</th>\n",
       "      <td>120.5000</td>\n",
       "    </tr>\n",
       "    <tr>\n",
       "      <th>2025-05-01 23:55:00</th>\n",
       "      <td>120.5000</td>\n",
       "    </tr>\n",
       "    <tr>\n",
       "      <th>2025-05-01 23:57:00</th>\n",
       "      <td>120.5200</td>\n",
       "    </tr>\n",
       "    <tr>\n",
       "      <th>2025-05-01 23:58:00</th>\n",
       "      <td>120.5400</td>\n",
       "    </tr>\n",
       "    <tr>\n",
       "      <th>2025-05-01 23:59:00</th>\n",
       "      <td>120.6773</td>\n",
       "    </tr>\n",
       "  </tbody>\n",
       "</table>\n",
       "<p>40104 rows × 1 columns</p>\n",
       "</div>"
      ],
      "text/plain": [
       "                        close\n",
       "datetime                     \n",
       "2025-03-01 00:00:00  133.1200\n",
       "2025-03-01 00:01:00  133.1200\n",
       "2025-03-01 00:02:00  133.1100\n",
       "2025-03-01 00:03:00  133.1400\n",
       "2025-03-01 00:04:00  133.0900\n",
       "...                       ...\n",
       "2025-05-01 23:54:00  120.5000\n",
       "2025-05-01 23:55:00  120.5000\n",
       "2025-05-01 23:57:00  120.5200\n",
       "2025-05-01 23:58:00  120.5400\n",
       "2025-05-01 23:59:00  120.6773\n",
       "\n",
       "[40104 rows x 1 columns]"
      ]
     },
     "execution_count": 5,
     "metadata": {},
     "output_type": "execute_result"
    },
    {
     "data": {
      "image/png": "[encoded data removed]",
      "text/plain": [
       "<Figure size 640x480 with 1 Axes>"
      ]
     },
     "metadata": {},
     "output_type": "display_data"
    }
   ],
   "source": [
    "start_day = '2025-03-01'\n",
    "end_day   = '2025-05-01'\n",
    "\n",
    "df_train = df_close.loc[start_day:end_day]\n",
    "\n",
    "plt.xticks(rotation=45)\n",
    "plt.plot(df_train)\n",
    "df_train"
   ]
  },
  {
   "cell_type": "code",
   "execution_count": 7,
   "id": "7e02f1ec-0ee3-4074-bf06-a8a69f9a113a",
   "metadata": {},
   "outputs": [],
   "source": [
    "# Dataset is shifted by +4 hours.\n",
    "# Therefore, adjust the times like so:\n",
    "PREMARKET_START = '08:00'   # 04:00 ET + 4 hours\n",
    "PREMARKET_END   = '13:30'   # 09:30 ET + 4 hours\n",
    "REGULAR_START   = '13:30'   # 09:30 ET + 4 hours\n",
    "REGULAR_END     = '20:00'   # 16:00 ET + 4 hours\n",
    "AFTERHOURS_START = '20:00'   # 16:00 ET + 4 hours\n",
    "AFTERHOURS_END   = '00:00'   # 20:00 ET + 4 hours\n"
   ]
  },
  {
   "cell_type": "code",
   "execution_count": 8,
   "id": "c968f2f7-48c8-466e-9ad0-223a76f484ab",
   "metadata": {},
   "outputs": [
    {
     "data": {
      "text/html": [
       "<div>\n",
       "<style scoped>\n",
       "    .dataframe tbody tr th:only-of-type {\n",
       "        vertical-align: middle;\n",
       "    }\n",
       "\n",
       "    .dataframe tbody tr th {\n",
       "        vertical-align: top;\n",
       "    }\n",
       "\n",
       "    .dataframe thead th {\n",
       "        text-align: right;\n",
       "    }\n",
       "</style>\n",
       "<table border=\"1\" class=\"dataframe\">\n",
       "  <thead>\n",
       "    <tr style=\"text-align: right;\">\n",
       "      <th></th>\n",
       "      <th>close</th>\n",
       "    </tr>\n",
       "    <tr>\n",
       "      <th>datetime</th>\n",
       "      <th></th>\n",
       "    </tr>\n",
       "  </thead>\n",
       "  <tbody>\n",
       "    <tr>\n",
       "      <th>2025-05-02 13:30:00</th>\n",
       "      <td>125.930</td>\n",
       "    </tr>\n",
       "    <tr>\n",
       "      <th>2025-05-02 13:31:00</th>\n",
       "      <td>126.320</td>\n",
       "    </tr>\n",
       "    <tr>\n",
       "      <th>2025-05-02 13:32:00</th>\n",
       "      <td>125.590</td>\n",
       "    </tr>\n",
       "    <tr>\n",
       "      <th>2025-05-02 13:33:00</th>\n",
       "      <td>125.020</td>\n",
       "    </tr>\n",
       "    <tr>\n",
       "      <th>2025-05-02 13:34:00</th>\n",
       "      <td>124.765</td>\n",
       "    </tr>\n",
       "    <tr>\n",
       "      <th>...</th>\n",
       "      <td>...</td>\n",
       "    </tr>\n",
       "    <tr>\n",
       "      <th>2025-05-02 19:56:00</th>\n",
       "      <td>125.880</td>\n",
       "    </tr>\n",
       "    <tr>\n",
       "      <th>2025-05-02 19:57:00</th>\n",
       "      <td>125.920</td>\n",
       "    </tr>\n",
       "    <tr>\n",
       "      <th>2025-05-02 19:58:00</th>\n",
       "      <td>125.825</td>\n",
       "    </tr>\n",
       "    <tr>\n",
       "      <th>2025-05-02 19:59:00</th>\n",
       "      <td>125.760</td>\n",
       "    </tr>\n",
       "    <tr>\n",
       "      <th>2025-05-02 20:00:00</th>\n",
       "      <td>125.800</td>\n",
       "    </tr>\n",
       "  </tbody>\n",
       "</table>\n",
       "<p>391 rows × 1 columns</p>\n",
       "</div>"
      ],
      "text/plain": [
       "                       close\n",
       "datetime                    \n",
       "2025-05-02 13:30:00  125.930\n",
       "2025-05-02 13:31:00  126.320\n",
       "2025-05-02 13:32:00  125.590\n",
       "2025-05-02 13:33:00  125.020\n",
       "2025-05-02 13:34:00  124.765\n",
       "...                      ...\n",
       "2025-05-02 19:56:00  125.880\n",
       "2025-05-02 19:57:00  125.920\n",
       "2025-05-02 19:58:00  125.825\n",
       "2025-05-02 19:59:00  125.760\n",
       "2025-05-02 20:00:00  125.800\n",
       "\n",
       "[391 rows x 1 columns]"
      ]
     },
     "execution_count": 8,
     "metadata": {},
     "output_type": "execute_result"
    },
    {
     "data": {
      "image/png": "[encoded data removed]",
      "text/plain": [
       "<Figure size 640x480 with 1 Axes>"
      ]
     },
     "metadata": {},
     "output_type": "display_data"
    }
   ],
   "source": [
    "start_day = '2025-05-02'\n",
    "end_day   = '2025-05-03'\n",
    "\n",
    "df_test = df_close.loc[start_day:end_day]\n",
    "df_test = df_test.between_time(REGULAR_START, REGULAR_END)\n",
    "\n",
    "plt.plot(df_test)\n",
    "df_test"
   ]
  },
  {
   "cell_type": "code",
   "execution_count": 141,
   "id": "4c97398c-c1f7-4fde-876c-48b3a52afde3",
   "metadata": {},
   "outputs": [],
   "source": [
    "def identify_trades(df, min_prof_thr, max_down_prop):\n",
    "    \"\"\"\n",
    "    Identifies trades from a one-minute bars DataFrame with an added retracement rule.\n",
    "    \n",
    "    Criteria:\n",
    "      - A buy candidate is a local minimum (price lower than its immediate neighbors).\n",
    "      - From that buy, the algorithm scans forward updating the highest price seen (candidate sell).\n",
    "      - If the price later retraces by more than max_down_prop (as a fraction of the overall gain \n",
    "        from buy to the highest price), the trade is \"closed\" immediately and recorded using \n",
    "        the previously recorded maximum as its sell point.\n",
    "      - The trade is recorded only if the profit percentage exceeds the min_gain_thr.\n",
    "    \n",
    "    Parameters:\n",
    "      df : pd.DataFrame\n",
    "         DataFrame with a datetime index and a 'close' column.\n",
    "      min_prof_thr : float\n",
    "         Minimum profit percentage required (e.g., 1.5 for 1.5%).\n",
    "      max_down_prop : float\n",
    "         Maximum allowed retracement (as a fraction of the gain). For example, 0.5 means that if\n",
    "         the price falls more than 50% of (max_so_far - buy_price) after the buy, then the trade is closed.\n",
    "    \n",
    "    Returns:\n",
    "      trades : list\n",
    "         A list of tuples, each trade represented as:\n",
    "           ((buy_date, sell_date), (buy_price, sell_price), profit_pc)\n",
    "    \"\"\"\n",
    "    trades = []\n",
    "    closes = df['close'].values\n",
    "    dates = df.index\n",
    "    n = len(df)\n",
    "    i = 1  # start from the second element\n",
    "\n",
    "    while i < n - 1:\n",
    "        # Look for a local minimum as the candidate buy point.\n",
    "        if closes[i] < closes[i - 1] and closes[i] < closes[i + 1]:\n",
    "            buy_index = i\n",
    "            buy_date = dates[buy_index]\n",
    "            buy_price = closes[buy_index]\n",
    "            \n",
    "            # Initialize the candidate sell data.\n",
    "            max_so_far = buy_price\n",
    "            candidate_sell_index = None\n",
    "            \n",
    "            # Scan forward to find the candidate sell (local maximum) while monitoring retracement.\n",
    "            j = i + 1\n",
    "            while j < n:\n",
    "                current_price = closes[j]\n",
    "                if current_price > max_so_far:\n",
    "                    max_so_far = current_price\n",
    "                    candidate_sell_index = j\n",
    "                else:\n",
    "                    # Only check retracement if we've seen an increase.\n",
    "                    if max_so_far > buy_price:\n",
    "                        retracement = (max_so_far - current_price) / (max_so_far - buy_price)\n",
    "                        # Instead of invalidating the trade, break out to \"close\" it.\n",
    "                        if retracement > max_down_prop:\n",
    "                            break\n",
    "                j += 1\n",
    "\n",
    "            # If we found any candidate sell, record the trade.\n",
    "            if candidate_sell_index is not None:\n",
    "                sell_index = candidate_sell_index\n",
    "                sell_date = dates[sell_index]\n",
    "                sell_price = closes[sell_index]\n",
    "                profit_pc = ((sell_price - buy_price) / buy_price) * 100\n",
    "                if profit_pc >= min_prof_thr:\n",
    "                    trades.append(((buy_date, sell_date), (buy_price, sell_price), profit_pc))\n",
    "                # Jump past the sell point to avoid overlapping trades.\n",
    "                i = sell_index + 1\n",
    "            else:\n",
    "                i = buy_index + 1\n",
    "        else:\n",
    "            i += 1\n",
    "\n",
    "    return trades\n"
   ]
  },
  {
   "cell_type": "code",
   "execution_count": 142,
   "id": "d0450622-861e-459f-b525-15a37668a97b",
   "metadata": {},
   "outputs": [],
   "source": [
    "def identify_trades_daily(df, min_prof_thr, max_down_prop, REGULAR_START, REGULAR_END):\n",
    "    \"\"\"\n",
    "    Identifies all trades for each trading day in a multi-day DataFrame and returns,\n",
    "    for each day, a DataFrame reindexed to exactly cover the trading hours (at one-minute intervals)\n",
    "    along with the list of identified trades for that day.\n",
    "\n",
    "    Process:\n",
    "      1. Ensure the DataFrame index is a DatetimeIndex.\n",
    "      2. Group the DataFrame by day (using the normalized date).\n",
    "      3. For each day:\n",
    "           a. Build a fixed date_range from REGULAR_START to REGULAR_END.\n",
    "           b. Filter the day’s data to these trading hours using between_time().\n",
    "           c. Reindex the filtered data to the fixed minute index and forward-fill missing values.\n",
    "           d. Identify trades using identify_trades(day_df, min_prof_thr, max_down_prop).\n",
    "      4. Only store days where at least one trade is found.\n",
    "\n",
    "    Parameters:\n",
    "      df : pd.DataFrame\n",
    "          A DataFrame with a datetime index (or a column convertible to datetime) and at least a 'close' column.\n",
    "      min_prof_thr : float\n",
    "          The minimum profit percentage required to record a trade.\n",
    "      max_down_prop : float\n",
    "          The maximum allowed retracement in each trade.\n",
    "      REGULAR_START : str\n",
    "          The start time for the trading session (e.g., '13:30' for shifted timestamps).\n",
    "      REGULAR_END : str\n",
    "          The end time for the trading session (e.g., '20:00').\n",
    "\n",
    "    Returns:\n",
    "      results_by_day : dict\n",
    "          A dictionary mapping each trading day (Timestamp) to a tuple:\n",
    "              (day_df, trades)\n",
    "          where day_df is the DataFrame strictly covering the trading hours (with one-minute frequency)\n",
    "          and trades is a list of identified trade tuples.\n",
    "    \"\"\"\n",
    "    import pandas as pd\n",
    "    \n",
    "    # Ensure the index is a DatetimeIndex:\n",
    "    if not isinstance(df.index, pd.DatetimeIndex):\n",
    "        df.index = pd.to_datetime(df.index)\n",
    "\n",
    "    results_by_day = {}\n",
    "\n",
    "    # Group the DataFrame by day\n",
    "    for day, group in df.groupby(df.index.normalize()):\n",
    "        # Build the fixed trading session index for the day.\n",
    "        day_str = day.strftime('%Y-%m-%d')\n",
    "        day_start = pd.Timestamp(f\"{day_str} {REGULAR_START}\")\n",
    "        day_end = pd.Timestamp(f\"{day_str} {REGULAR_END}\")\n",
    "        trading_index = pd.date_range(start=day_start, end=day_end, freq='min')\n",
    "\n",
    "        # Filter the day's data to the defined trading hours.\n",
    "        day_filtered = group.between_time(REGULAR_START, REGULAR_END)\n",
    "        # Reindex using the fixed trading session index (forward fill missing minutes).\n",
    "        day_df = day_filtered.reindex(trading_index).ffill()\n",
    "\n",
    "        # If no valid data is present, skip this day.\n",
    "        if day_df.empty:\n",
    "            continue\n",
    "\n",
    "        # Call the helper function using the day's filtered data.\n",
    "        trades = identify_trades(day_df, min_prof_thr, max_down_prop)\n",
    "\n",
    "        # Only store days that contain at least one identified trade.\n",
    "        if trades:\n",
    "            results_by_day[day] = (day_df, trades)\n",
    "\n",
    "    return results_by_day\n"
   ]
  },
  {
   "cell_type": "code",
   "execution_count": 143,
   "id": "e22b1076-78d8-49bc-9b0e-a39fd523f36a",
   "metadata": {},
   "outputs": [],
   "source": [
    "min_prof_thr=0.7\n",
    "max_down_prop=0.3\n",
    "\n",
    "results_by_day = identify_trades_daily(df=df_train,\n",
    "                                       min_prof_thr=min_prof_thr, \n",
    "                                       max_down_prop=max_down_prop,\n",
    "                                       REGULAR_START=REGULAR_START,\n",
    "                                       REGULAR_END=REGULAR_END)"
   ]
  },
  {
   "cell_type": "code",
   "execution_count": 127,
   "id": "7e98ddf5-c5b2-4262-9fff-3df44545a4d9",
   "metadata": {},
   "outputs": [],
   "source": [
    "# results_by_day"
   ]
  },
  {
   "cell_type": "code",
   "execution_count": 138,
   "id": "1b42f5ba-2c13-4ca8-b30f-6b239e664fcb",
   "metadata": {},
   "outputs": [],
   "source": [
    "def add_trade_signal_to_results(results_by_day, min_prof_thr, lambda_param=0.1):\n",
    "    \"\"\"\n",
    "    Given a dictionary with each trading day’s DataFrame and identified trades,\n",
    "    compute a continuous trading signal for each day and add it as a new column \"signal\".\n",
    "    \n",
    "    For each trade, assume:\n",
    "      - t_min = buy_date (optimal entry time)\n",
    "      - P_max = sell_price (assumed to be the maximum reached during the trade).\n",
    "    \n",
    "    The raw value for any time t is defined as:\n",
    "         raw_value = (P_max - close(t)) - min_prof_thr.\n",
    "         \n",
    "    If raw_value <= 0, the signal is 0.\n",
    "    \n",
    "    For t < t_min, apply an exponential penalty:\n",
    "         signal(t) = exp(-lambda_param * delta_minutes) * raw_value,\n",
    "    where delta_minutes is the number of minutes from t to t_min.\n",
    "    \n",
    "    For t >= t_min and t <= sell_date, no penalty is applied:\n",
    "         signal(t) = raw_value.\n",
    "    \n",
    "    If a given time is part of more than one trade, the assigned signal is the maximum computed.\n",
    "    \n",
    "    Parameters:\n",
    "      results_by_day : dict\n",
    "          Dictionary mapping each trading day (Timestamp) to a tuple (day_df, trades).\n",
    "      min_prof_thr : float\n",
    "          The minimum profit min_prof_thr. Only potential profit above this value is counted.\n",
    "      lambda_param : float\n",
    "          The decay rate used in the exponential penalty for points before the trade entry.\n",
    "    \n",
    "    Returns:\n",
    "      updated_results : dict\n",
    "          The input dictionary updated so that each day_df has an extra column \"signal\".\n",
    "    \"\"\"\n",
    "    updated_results = {}\n",
    "    \n",
    "    for day, (day_df, trades) in results_by_day.items():\n",
    "        # Copy the day's DataFrame to avoid modifying the original.\n",
    "        day_df = day_df.copy()\n",
    "        # Create the new column with an initial value of 0.\n",
    "        day_df[\"signal\"] = 0.0\n",
    "        \n",
    "        # Process each identified trade in this day.\n",
    "        for trade in trades:\n",
    "            # Unpack the trade information.\n",
    "            (buy_date, sell_date), (buy_price, sell_price), profit_pc = trade\n",
    "            # We assume sell_price is the maximum achieved value for that trade.\n",
    "            P_max = sell_price\n",
    "            t_min = buy_date\n",
    "            \n",
    "            # We'll only assign a signal for time points up to the sell_date.\n",
    "            mask = day_df.index <= sell_date\n",
    "            \n",
    "            # For each point in the interval [some time before the trade up to sell_date],\n",
    "            # compute the continuous signal.\n",
    "            for t in day_df.index[mask]:\n",
    "                price = day_df.at[t, \"close\"]\n",
    "                raw_value = (P_max - price) - min_prof_thr\n",
    "                if raw_value <= 0:\n",
    "                    signal_value = 0.0\n",
    "                else:\n",
    "                    # For points before the trade entry, apply penalty.\n",
    "                    if t < t_min:\n",
    "                        # Calculate delta in minutes between t_min and t.\n",
    "                        delta_minutes = (t_min - t).total_seconds() / 60.0\n",
    "                        penalty = math.exp(-lambda_param * delta_minutes)\n",
    "                        signal_value = penalty * raw_value\n",
    "                    else:\n",
    "                        # At or after the entry, use the raw value.\n",
    "                        signal_value = raw_value\n",
    "                # Update the signal column. In case of overlap, take the maximum signal.\n",
    "                day_df.at[t, \"signal\"] = max(day_df.at[t, \"signal\"], signal_value)\n",
    "        \n",
    "        updated_results[day] = (day_df, trades)\n",
    "    \n",
    "    return updated_results\n"
   ]
  },
  {
   "cell_type": "code",
   "execution_count": 144,
   "id": "60424030-3d5b-409c-816b-cce046375dad",
   "metadata": {},
   "outputs": [],
   "source": [
    "results_by_day_label = add_trade_signal_to_results(results_by_day=results_by_day, min_prof_thr=min_prof_thr)"
   ]
  },
  {
   "cell_type": "code",
   "execution_count": 146,
   "id": "8073dc13-cc23-40ec-9072-3857fba01d63",
   "metadata": {},
   "outputs": [],
   "source": [
    "# results_by_day_label"
   ]
  },
  {
   "cell_type": "code",
   "execution_count": 147,
   "id": "7381e3e4-c0f9-4f90-9ada-fe19538c434f",
   "metadata": {},
   "outputs": [
    {
     "data": {
      "text/plain": [
       "(                        close    signal\n",
       " 2025-03-05 13:30:00  132.8400  0.006565\n",
       " 2025-03-05 13:31:00  132.9888  0.006706\n",
       " 2025-03-05 13:32:00  133.1000  0.006957\n",
       " 2025-03-05 13:33:00  132.9300  0.008456\n",
       " 2025-03-05 13:34:00  132.9800  0.009096\n",
       " ...                       ...       ...\n",
       " 2025-03-05 19:56:00  140.9000  0.000000\n",
       " 2025-03-05 19:57:00  140.9350  0.000000\n",
       " 2025-03-05 19:58:00  140.7545  0.000000\n",
       " 2025-03-05 19:59:00  140.5806  0.000000\n",
       " 2025-03-05 20:00:00  140.7450  0.000000\n",
       " \n",
       " [391 rows x 2 columns],\n",
       " [((Timestamp('2025-03-05 14:27:00'), Timestamp('2025-03-05 14:30:00')),\n",
       "   (133.7, 135.5022),\n",
       "   1.347943156320119),\n",
       "  ((Timestamp('2025-03-05 14:37:00'), Timestamp('2025-03-05 14:43:00')),\n",
       "   (133.4, 135.365),\n",
       "   1.4730134932533758),\n",
       "  ((Timestamp('2025-03-05 14:49:00'), Timestamp('2025-03-05 14:55:00')),\n",
       "   (134.645, 135.595),\n",
       "   0.7055590627204786),\n",
       "  ((Timestamp('2025-03-05 14:56:00'), Timestamp('2025-03-05 15:07:00')),\n",
       "   (135.07, 137.245),\n",
       "   1.6102761531058056),\n",
       "  ((Timestamp('2025-03-05 15:24:00'), Timestamp('2025-03-05 15:57:00')),\n",
       "   (136.13, 138.9298),\n",
       "   2.056710497318743),\n",
       "  ((Timestamp('2025-03-05 16:50:00'), Timestamp('2025-03-05 17:37:00')),\n",
       "   (138.125, 139.98),\n",
       "   1.342986425339359),\n",
       "  ((Timestamp('2025-03-05 18:44:00'), Timestamp('2025-03-05 18:59:00')),\n",
       "   (139.65, 140.65),\n",
       "   0.7160759040458289)])"
      ]
     },
     "execution_count": 147,
     "metadata": {},
     "output_type": "execute_result"
    }
   ],
   "source": [
    "results_to_check = results_by_day_label.get(Timestamp('2025-03-05 00:00:00'))\n",
    "results_to_check"
   ]
  },
  {
   "cell_type": "code",
   "execution_count": 159,
   "id": "c2e5391f-83c9-4bef-85b0-bc0c86ed3ce8",
   "metadata": {},
   "outputs": [
    {
     "data": {
      "text/html": [
       "<div>\n",
       "<style scoped>\n",
       "    .dataframe tbody tr th:only-of-type {\n",
       "        vertical-align: middle;\n",
       "    }\n",
       "\n",
       "    .dataframe tbody tr th {\n",
       "        vertical-align: top;\n",
       "    }\n",
       "\n",
       "    .dataframe thead th {\n",
       "        text-align: right;\n",
       "    }\n",
       "</style>\n",
       "<table border=\"1\" class=\"dataframe\">\n",
       "  <thead>\n",
       "    <tr style=\"text-align: right;\">\n",
       "      <th></th>\n",
       "      <th>close</th>\n",
       "    </tr>\n",
       "  </thead>\n",
       "  <tbody>\n",
       "    <tr>\n",
       "      <th>2025-03-05 13:30:00</th>\n",
       "      <td>132.8400</td>\n",
       "    </tr>\n",
       "    <tr>\n",
       "      <th>2025-03-05 13:31:00</th>\n",
       "      <td>132.9888</td>\n",
       "    </tr>\n",
       "    <tr>\n",
       "      <th>2025-03-05 13:32:00</th>\n",
       "      <td>133.1000</td>\n",
       "    </tr>\n",
       "    <tr>\n",
       "      <th>2025-03-05 13:33:00</th>\n",
       "      <td>132.9300</td>\n",
       "    </tr>\n",
       "    <tr>\n",
       "      <th>2025-03-05 13:34:00</th>\n",
       "      <td>132.9800</td>\n",
       "    </tr>\n",
       "    <tr>\n",
       "      <th>...</th>\n",
       "      <td>...</td>\n",
       "    </tr>\n",
       "    <tr>\n",
       "      <th>2025-03-05 19:56:00</th>\n",
       "      <td>140.9000</td>\n",
       "    </tr>\n",
       "    <tr>\n",
       "      <th>2025-03-05 19:57:00</th>\n",
       "      <td>140.9350</td>\n",
       "    </tr>\n",
       "    <tr>\n",
       "      <th>2025-03-05 19:58:00</th>\n",
       "      <td>140.7545</td>\n",
       "    </tr>\n",
       "    <tr>\n",
       "      <th>2025-03-05 19:59:00</th>\n",
       "      <td>140.5806</td>\n",
       "    </tr>\n",
       "    <tr>\n",
       "      <th>2025-03-05 20:00:00</th>\n",
       "      <td>140.7450</td>\n",
       "    </tr>\n",
       "  </tbody>\n",
       "</table>\n",
       "<p>391 rows × 1 columns</p>\n",
       "</div>"
      ],
      "text/plain": [
       "                        close\n",
       "2025-03-05 13:30:00  132.8400\n",
       "2025-03-05 13:31:00  132.9888\n",
       "2025-03-05 13:32:00  133.1000\n",
       "2025-03-05 13:33:00  132.9300\n",
       "2025-03-05 13:34:00  132.9800\n",
       "...                       ...\n",
       "2025-03-05 19:56:00  140.9000\n",
       "2025-03-05 19:57:00  140.9350\n",
       "2025-03-05 19:58:00  140.7545\n",
       "2025-03-05 19:59:00  140.5806\n",
       "2025-03-05 20:00:00  140.7450\n",
       "\n",
       "[391 rows x 1 columns]"
      ]
     },
     "execution_count": 159,
     "metadata": {},
     "output_type": "execute_result"
    }
   ],
   "source": [
    "df_to_check = results_to_check[0][['close']]\n",
    "df_to_check"
   ]
  },
  {
   "cell_type": "code",
   "execution_count": 158,
   "id": "7b6b5a15-8d67-4408-9697-65400ed19fe2",
   "metadata": {},
   "outputs": [
    {
     "data": {
      "text/html": [
       "<div>\n",
       "<style scoped>\n",
       "    .dataframe tbody tr th:only-of-type {\n",
       "        vertical-align: middle;\n",
       "    }\n",
       "\n",
       "    .dataframe tbody tr th {\n",
       "        vertical-align: top;\n",
       "    }\n",
       "\n",
       "    .dataframe thead th {\n",
       "        text-align: right;\n",
       "    }\n",
       "</style>\n",
       "<table border=\"1\" class=\"dataframe\">\n",
       "  <thead>\n",
       "    <tr style=\"text-align: right;\">\n",
       "      <th></th>\n",
       "      <th>signal</th>\n",
       "    </tr>\n",
       "  </thead>\n",
       "  <tbody>\n",
       "    <tr>\n",
       "      <th>2025-03-05 13:30:00</th>\n",
       "      <td>0.006565</td>\n",
       "    </tr>\n",
       "    <tr>\n",
       "      <th>2025-03-05 13:31:00</th>\n",
       "      <td>0.006706</td>\n",
       "    </tr>\n",
       "    <tr>\n",
       "      <th>2025-03-05 13:32:00</th>\n",
       "      <td>0.006957</td>\n",
       "    </tr>\n",
       "    <tr>\n",
       "      <th>2025-03-05 13:33:00</th>\n",
       "      <td>0.008456</td>\n",
       "    </tr>\n",
       "    <tr>\n",
       "      <th>2025-03-05 13:34:00</th>\n",
       "      <td>0.009096</td>\n",
       "    </tr>\n",
       "    <tr>\n",
       "      <th>...</th>\n",
       "      <td>...</td>\n",
       "    </tr>\n",
       "    <tr>\n",
       "      <th>2025-03-05 19:56:00</th>\n",
       "      <td>0.000000</td>\n",
       "    </tr>\n",
       "    <tr>\n",
       "      <th>2025-03-05 19:57:00</th>\n",
       "      <td>0.000000</td>\n",
       "    </tr>\n",
       "    <tr>\n",
       "      <th>2025-03-05 19:58:00</th>\n",
       "      <td>0.000000</td>\n",
       "    </tr>\n",
       "    <tr>\n",
       "      <th>2025-03-05 19:59:00</th>\n",
       "      <td>0.000000</td>\n",
       "    </tr>\n",
       "    <tr>\n",
       "      <th>2025-03-05 20:00:00</th>\n",
       "      <td>0.000000</td>\n",
       "    </tr>\n",
       "  </tbody>\n",
       "</table>\n",
       "<p>391 rows × 1 columns</p>\n",
       "</div>"
      ],
      "text/plain": [
       "                       signal\n",
       "2025-03-05 13:30:00  0.006565\n",
       "2025-03-05 13:31:00  0.006706\n",
       "2025-03-05 13:32:00  0.006957\n",
       "2025-03-05 13:33:00  0.008456\n",
       "2025-03-05 13:34:00  0.009096\n",
       "...                       ...\n",
       "2025-03-05 19:56:00  0.000000\n",
       "2025-03-05 19:57:00  0.000000\n",
       "2025-03-05 19:58:00  0.000000\n",
       "2025-03-05 19:59:00  0.000000\n",
       "2025-03-05 20:00:00  0.000000\n",
       "\n",
       "[391 rows x 1 columns]"
      ]
     },
     "execution_count": 158,
     "metadata": {},
     "output_type": "execute_result"
    }
   ],
   "source": [
    "label_to_check = results_to_check[0][['signal']]\n",
    "label_to_check"
   ]
  },
  {
   "cell_type": "code",
   "execution_count": 154,
   "id": "2701993f-c264-4b39-adf0-cfb8332f5ebe",
   "metadata": {},
   "outputs": [
    {
     "data": {
      "text/plain": [
       "[((Timestamp('2025-03-05 14:27:00'), Timestamp('2025-03-05 14:30:00')),\n",
       "  (133.7, 135.5022),\n",
       "  1.347943156320119),\n",
       " ((Timestamp('2025-03-05 14:37:00'), Timestamp('2025-03-05 14:43:00')),\n",
       "  (133.4, 135.365),\n",
       "  1.4730134932533758),\n",
       " ((Timestamp('2025-03-05 14:49:00'), Timestamp('2025-03-05 14:55:00')),\n",
       "  (134.645, 135.595),\n",
       "  0.7055590627204786),\n",
       " ((Timestamp('2025-03-05 14:56:00'), Timestamp('2025-03-05 15:07:00')),\n",
       "  (135.07, 137.245),\n",
       "  1.6102761531058056),\n",
       " ((Timestamp('2025-03-05 15:24:00'), Timestamp('2025-03-05 15:57:00')),\n",
       "  (136.13, 138.9298),\n",
       "  2.056710497318743),\n",
       " ((Timestamp('2025-03-05 16:50:00'), Timestamp('2025-03-05 17:37:00')),\n",
       "  (138.125, 139.98),\n",
       "  1.342986425339359),\n",
       " ((Timestamp('2025-03-05 18:44:00'), Timestamp('2025-03-05 18:59:00')),\n",
       "  (139.65, 140.65),\n",
       "  0.7160759040458289)]"
      ]
     },
     "execution_count": 154,
     "metadata": {},
     "output_type": "execute_result"
    }
   ],
   "source": [
    "trade_to_check = results_to_check[1]\n",
    "trade_to_check"
   ]
  },
  {
   "cell_type": "code",
   "execution_count": 155,
   "id": "b77d3a1b-556f-4f2c-81d6-97a1061836ee",
   "metadata": {
    "scrolled": true
   },
   "outputs": [
    {
     "data": {
      "text/html": [
       "\n",
       "<style>\n",
       ".output_scroll {\n",
       "    overflow-y: visible !important;\n",
       "    max-height: none !important;\n",
       "}\n",
       "</style>\n"
      ],
      "text/plain": [
       "<IPython.core.display.HTML object>"
      ]
     },
     "metadata": {},
     "output_type": "display_data"
    }
   ],
   "source": [
    "display(HTML(\"\"\"\n",
    "<style>\n",
    ".output_scroll {\n",
    "    overflow-y: visible !important;\n",
    "    max-height: none !important;\n",
    "}\n",
    "</style>\n",
    "\"\"\"))\n"
   ]
  },
  {
   "cell_type": "code",
   "execution_count": 156,
   "id": "17468a85-ba18-419e-8d56-0c37ea364969",
   "metadata": {},
   "outputs": [],
   "source": [
    "def plot_trades(df, trades, trade_color=\"green\"):\n",
    "    \"\"\"\n",
    "    Plots the overall close-price series plus trade intervals.\n",
    "\n",
    "    Each trade (expected as:\n",
    "      ((buy_date, sell_date), (buy_price, sell_price), profit_percent))\n",
    "    is plotted as a single trace (lines+markers) that is visible by default.\n",
    "    \n",
    "    An update menu with two buttons is added:\n",
    "      • \"Hide Trades\": Sets all trade traces (all traces except the base close-price line)\n",
    "         to \"legendonly\" so that they disappear from the chart but their legend labels remain.\n",
    "      • \"Show Trades\": Sets all traces to visible.\n",
    "    \n",
    "    When a point is hovered over, if that x-coordinate belongs to multiple trades,\n",
    "    the unified hover label displays the corresponding common date and close price (from the base series)\n",
    "    along with one line per trade showing the trade number and its return.\n",
    "    \"\"\"\n",
    "    fig = go.Figure()\n",
    "    \n",
    "    # Trace 0: Base (grey) close-price line.\n",
    "    # This trace will provide the common header (date and close info) for hover.\n",
    "    fig.add_trace(go.Scatter(\n",
    "        x=df.index,\n",
    "        y=df['close'],\n",
    "        mode='lines',\n",
    "        line=dict(color='grey', width=1),\n",
    "        name='Close Price',\n",
    "        hoverinfo='x+y',\n",
    "        hovertemplate=\"Date: %{x}<br>Close: %{y:.2f}<extra></extra>\",\n",
    "    ))\n",
    "    \n",
    "    # Add one trace per trade. Each trade trace will display only its trade info.\n",
    "    for i, trade in enumerate(trades):\n",
    "        # Unpack the trade tuple:\n",
    "        # ((buy_date, sell_date), (buy_price, sell_price), profit_percent)\n",
    "        (buy_date, sell_date), (_, _), trade_return = trade\n",
    "        trade_df = df.loc[buy_date:sell_date]\n",
    "        fig.add_trace(go.Scatter(\n",
    "            x=trade_df.index,\n",
    "            y=trade_df['close'],\n",
    "            mode='lines+markers',\n",
    "            line=dict(color=trade_color, width=3),\n",
    "            marker=dict(size=4, color=trade_color),\n",
    "            name=f\"Trade {i+1}\",\n",
    "            hoveron='points',\n",
    "            # Only include trade-specific info, omitting date and close.\n",
    "            hovertemplate=(f\"Trade {i+1}: Return: {trade_return:.2f}%<extra></extra>\"),\n",
    "            visible=True\n",
    "        ))\n",
    "    \n",
    "    # Total traces: one base trace + one trace per trade.\n",
    "    n_trades = len(trades)\n",
    "    total_traces = 1 + n_trades\n",
    "    vis_show = [True] * total_traces                # All traces visible.\n",
    "    vis_hide = [True] + [\"legendonly\"] * n_trades     # Base trace visible; trade traces hidden.\n",
    "    \n",
    "    # Update menu buttons for toggling trade traces.\n",
    "    fig.update_layout(\n",
    "        updatemenus=[\n",
    "            {\n",
    "                \"type\": \"buttons\",\n",
    "                \"direction\": \"left\",\n",
    "                \"buttons\": [\n",
    "                    {\n",
    "                        \"label\": \"Hide Trades\",\n",
    "                        \"method\": \"update\",\n",
    "                        \"args\": [{\"visible\": vis_hide}],\n",
    "                    },\n",
    "                    {\n",
    "                        \"label\": \"Show Trades\",\n",
    "                        \"method\": \"update\",\n",
    "                        \"args\": [{\"visible\": vis_show}],\n",
    "                    },\n",
    "                ],\n",
    "                \"pad\": {\"r\": 10, \"t\": 10},\n",
    "                \"showactive\": True,\n",
    "                \"x\": 0.9,       # Moved a bit to the left compared to 1.02.\n",
    "                \"xanchor\": \"left\",\n",
    "                \"y\": 1.1,       # Positioned at the top.\n",
    "                \"yanchor\": \"top\",\n",
    "            }\n",
    "        ],\n",
    "        hovermode=\"x unified\",  # Aggregates hover info from all traces with the same x.\n",
    "        template=\"plotly_white\",\n",
    "        title=\"Close Price with Trade Intervals\",\n",
    "        xaxis_title=\"Datetime\",\n",
    "        yaxis_title=\"Close Price\",\n",
    "        height=700     # Increase height to avoid scroll bars.\n",
    "    )\n",
    "    \n",
    "    fig.show()\n"
   ]
  },
  {
   "cell_type": "code",
   "execution_count": 160,
   "id": "d5bd4083-b358-4d2b-b6e5-817ddfefe4f3",
   "metadata": {},
   "outputs": [
    {
     "data": {
      "application/vnd.plotly.v1+json": {
       "config": {
        "plotlyServerURL": "https://plot.ly"
       },
       "data": [
        {
         "hoverinfo": "x+y",
         "hovertemplate": "Date: %{x}<br>Close: %{y:.2f}<extra></extra>",
         "line": {
          "color": "grey",
          "width": 1
         },
         "mode": "lines",
         "name": "Close Price",
         "type": "scatter",
         "x": [
          "2025-03-05T13:30:00",
          "2025-03-05T13:31:00",
          "2025-03-05T13:32:00",
          "2025-03-05T13:33:00",
          "2025-03-05T13:34:00",
          "2025-03-05T13:35:00",
          "2025-03-05T13:36:00",
          "2025-03-05T13:37:00",
          "2025-03-05T13:38:00",
          "2025-03-05T13:39:00",
          "2025-03-05T13:40:00",
          "2025-03-05T13:41:00",
          "2025-03-05T13:42:00",
          "2025-03-05T13:43:00",
          "2025-03-05T13:44:00",
          "2025-03-05T13:45:00",
          "2025-03-05T13:46:00",
          "2025-03-05T13:47:00",
          "2025-03-05T13:48:00",
          "2025-03-05T13:49:00",
          "2025-03-05T13:50:00",
          "2025-03-05T13:51:00",
          "2025-03-05T13:52:00",
          "2025-03-05T13:53:00",
          "2025-03-05T13:54:00",
          "2025-03-05T13:55:00",
          "2025-03-05T13:56:00",
          "2025-03-05T13:57:00",
          "2025-03-05T13:58:00",
          "2025-03-05T13:59:00",
          "2025-03-05T14:00:00",
          "2025-03-05T14:01:00",
          "2025-03-05T14:02:00",
          "2025-03-05T14:03:00",
          "2025-03-05T14:04:00",
          "2025-03-05T14:05:00",
          "2025-03-05T14:06:00",
          "2025-03-05T14:07:00",
          "2025-03-05T14:08:00",
          "2025-03-05T14:09:00",
          "2025-03-05T14:10:00",
          "2025-03-05T14:11:00",
          "2025-03-05T14:12:00",
          "2025-03-05T14:13:00",
          "2025-03-05T14:14:00",
          "2025-03-05T14:15:00",
          "2025-03-05T14:16:00",
          "2025-03-05T14:17:00",
          "2025-03-05T14:18:00",
          "2025-03-05T14:19:00",
          "2025-03-05T14:20:00",
          "2025-03-05T14:21:00",
          "2025-03-05T14:22:00",
          "2025-03-05T14:23:00",
          "2025-03-05T14:24:00",
          "2025-03-05T14:25:00",
          "2025-03-05T14:26:00",
          "2025-03-05T14:27:00",
          "2025-03-05T14:28:00",
          "2025-03-05T14:29:00",
          "2025-03-05T14:30:00",
          "2025-03-05T14:31:00",
          "2025-03-05T14:32:00",
          "2025-03-05T14:33:00",
          "2025-03-05T14:34:00",
          "2025-03-05T14:35:00",
          "2025-03-05T14:36:00",
          "2025-03-05T14:37:00",
          "2025-03-05T14:38:00",
          "2025-03-05T14:39:00",
          "2025-03-05T14:40:00",
          "2025-03-05T14:41:00",
          "2025-03-05T14:42:00",
          "2025-03-05T14:43:00",
          "2025-03-05T14:44:00",
          "2025-03-05T14:45:00",
          "2025-03-05T14:46:00",
          "2025-03-05T14:47:00",
          "2025-03-05T14:48:00",
          "2025-03-05T14:49:00",
          "2025-03-05T14:50:00",
          "2025-03-05T14:51:00",
          "2025-03-05T14:52:00",
          "2025-03-05T14:53:00",
          "2025-03-05T14:54:00",
          "2025-03-05T14:55:00",
          "2025-03-05T14:56:00",
          "2025-03-05T14:57:00",
          "2025-03-05T14:58:00",
          "2025-03-05T14:59:00",
          "2025-03-05T15:00:00",
          "2025-03-05T15:01:00",
          "2025-03-05T15:02:00",
          "2025-03-05T15:03:00",
          "2025-03-05T15:04:00",
          "2025-03-05T15:05:00",
          "2025-03-05T15:06:00",
          "2025-03-05T15:07:00",
          "2025-03-05T15:08:00",
          "2025-03-05T15:09:00",
          "2025-03-05T15:10:00",
          "2025-03-05T15:11:00",
          "2025-03-05T15:12:00",
          "2025-03-05T15:13:00",
          "2025-03-05T15:14:00",
          "2025-03-05T15:15:00",
          "2025-03-05T15:16:00",
          "2025-03-05T15:17:00",
          "2025-03-05T15:18:00",
          "2025-03-05T15:19:00",
          "2025-03-05T15:20:00",
          "2025-03-05T15:21:00",
          "2025-03-05T15:22:00",
          "2025-03-05T15:23:00",
          "2025-03-05T15:24:00",
          "2025-03-05T15:25:00",
          "2025-03-05T15:26:00",
          "2025-03-05T15:27:00",
          "2025-03-05T15:28:00",
          "2025-03-05T15:29:00",
          "2025-03-05T15:30:00",
          "2025-03-05T15:31:00",
          "2025-03-05T15:32:00",
          "2025-03-05T15:33:00",
          "2025-03-05T15:34:00",
          "2025-03-05T15:35:00",
          "2025-03-05T15:36:00",
          "2025-03-05T15:37:00",
          "2025-03-05T15:38:00",
          "2025-03-05T15:39:00",
          "2025-03-05T15:40:00",
          "2025-03-05T15:41:00",
          "2025-03-05T15:42:00",
          "2025-03-05T15:43:00",
          "2025-03-05T15:44:00",
          "2025-03-05T15:45:00",
          "2025-03-05T15:46:00",
          "2025-03-05T15:47:00",
          "2025-03-05T15:48:00",
          "2025-03-05T15:49:00",
          "2025-03-05T15:50:00",
          "2025-03-05T15:51:00",
          "2025-03-05T15:52:00",
          "2025-03-05T15:53:00",
          "2025-03-05T15:54:00",
          "2025-03-05T15:55:00",
          "2025-03-05T15:56:00",
          "2025-03-05T15:57:00",
          "2025-03-05T15:58:00",
          "2025-03-05T15:59:00",
          "2025-03-05T16:00:00",
          "2025-03-05T16:01:00",
          "2025-03-05T16:02:00",
          "2025-03-05T16:03:00",
          "2025-03-05T16:04:00",
          "2025-03-05T16:05:00",
          "2025-03-05T16:06:00",
          "2025-03-05T16:07:00",
          "2025-03-05T16:08:00",
          "2025-03-05T16:09:00",
          "2025-03-05T16:10:00",
          "2025-03-05T16:11:00",
          "2025-03-05T16:12:00",
          "2025-03-05T16:13:00",
          "2025-03-05T16:14:00",
          "2025-03-05T16:15:00",
          "2025-03-05T16:16:00",
          "2025-03-05T16:17:00",
          "2025-03-05T16:18:00",
          "2025-03-05T16:19:00",
          "2025-03-05T16:20:00",
          "2025-03-05T16:21:00",
          "2025-03-05T16:22:00",
          "2025-03-05T16:23:00",
          "2025-03-05T16:24:00",
          "2025-03-05T16:25:00",
          "2025-03-05T16:26:00",
          "2025-03-05T16:27:00",
          "2025-03-05T16:28:00",
          "2025-03-05T16:29:00",
          "2025-03-05T16:30:00",
          "2025-03-05T16:31:00",
          "2025-03-05T16:32:00",
          "2025-03-05T16:33:00",
          "2025-03-05T16:34:00",
          "2025-03-05T16:35:00",
          "2025-03-05T16:36:00",
          "2025-03-05T16:37:00",
          "2025-03-05T16:38:00",
          "2025-03-05T16:39:00",
          "2025-03-05T16:40:00",
          "2025-03-05T16:41:00",
          "2025-03-05T16:42:00",
          "2025-03-05T16:43:00",
          "2025-03-05T16:44:00",
          "2025-03-05T16:45:00",
          "2025-03-05T16:46:00",
          "2025-03-05T16:47:00",
          "2025-03-05T16:48:00",
          "2025-03-05T16:49:00",
          "2025-03-05T16:50:00",
          "2025-03-05T16:51:00",
          "2025-03-05T16:52:00",
          "2025-03-05T16:53:00",
          "2025-03-05T16:54:00",
          "2025-03-05T16:55:00",
          "2025-03-05T16:56:00",
          "2025-03-05T16:57:00",
          "2025-03-05T16:58:00",
          "2025-03-05T16:59:00",
          "2025-03-05T17:00:00",
          "2025-03-05T17:01:00",
          "2025-03-05T17:02:00",
          "2025-03-05T17:03:00",
          "2025-03-05T17:04:00",
          "2025-03-05T17:05:00",
          "2025-03-05T17:06:00",
          "2025-03-05T17:07:00",
          "2025-03-05T17:08:00",
          "2025-03-05T17:09:00",
          "2025-03-05T17:10:00",
          "2025-03-05T17:11:00",
          "2025-03-05T17:12:00",
          "2025-03-05T17:13:00",
          "2025-03-05T17:14:00",
          "2025-03-05T17:15:00",
          "2025-03-05T17:16:00",
          "2025-03-05T17:17:00",
          "2025-03-05T17:18:00",
          "2025-03-05T17:19:00",
          "2025-03-05T17:20:00",
          "2025-03-05T17:21:00",
          "2025-03-05T17:22:00",
          "2025-03-05T17:23:00",
          "2025-03-05T17:24:00",
          "2025-03-05T17:25:00",
          "2025-03-05T17:26:00",
          "2025-03-05T17:27:00",
          "2025-03-05T17:28:00",
          "2025-03-05T17:29:00",
          "2025-03-05T17:30:00",
          "2025-03-05T17:31:00",
          "2025-03-05T17:32:00",
          "2025-03-05T17:33:00",
          "2025-03-05T17:34:00",
          "2025-03-05T17:35:00",
          "2025-03-05T17:36:00",
          "2025-03-05T17:37:00",
          "2025-03-05T17:38:00",
          "2025-03-05T17:39:00",
          "2025-03-05T17:40:00",
          "2025-03-05T17:41:00",
          "2025-03-05T17:42:00",
          "2025-03-05T17:43:00",
          "2025-03-05T17:44:00",
          "2025-03-05T17:45:00",
          "2025-03-05T17:46:00",
          "2025-03-05T17:47:00",
          "2025-03-05T17:48:00",
          "2025-03-05T17:49:00",
          "2025-03-05T17:50:00",
          "2025-03-05T17:51:00",
          "2025-03-05T17:52:00",
          "2025-03-05T17:53:00",
          "2025-03-05T17:54:00",
          "2025-03-05T17:55:00",
          "2025-03-05T17:56:00",
          "2025-03-05T17:57:00",
          "2025-03-05T17:58:00",
          "2025-03-05T17:59:00",
          "2025-03-05T18:00:00",
          "2025-03-05T18:01:00",
          "2025-03-05T18:02:00",
          "2025-03-05T18:03:00",
          "2025-03-05T18:04:00",
          "2025-03-05T18:05:00",
          "2025-03-05T18:06:00",
          "2025-03-05T18:07:00",
          "2025-03-05T18:08:00",
          "2025-03-05T18:09:00",
          "2025-03-05T18:10:00",
          "2025-03-05T18:11:00",
          "2025-03-05T18:12:00",
          "2025-03-05T18:13:00",
          "2025-03-05T18:14:00",
          "2025-03-05T18:15:00",
          "2025-03-05T18:16:00",
          "2025-03-05T18:17:00",
          "2025-03-05T18:18:00",
          "2025-03-05T18:19:00",
          "2025-03-05T18:20:00",
          "2025-03-05T18:21:00",
          "2025-03-05T18:22:00",
          "2025-03-05T18:23:00",
          "2025-03-05T18:24:00",
          "2025-03-05T18:25:00",
          "2025-03-05T18:26:00",
          "2025-03-05T18:27:00",
          "2025-03-05T18:28:00",
          "2025-03-05T18:29:00",
          "2025-03-05T18:30:00",
          "2025-03-05T18:31:00",
          "2025-03-05T18:32:00",
          "2025-03-05T18:33:00",
          "2025-03-05T18:34:00",
          "2025-03-05T18:35:00",
          "2025-03-05T18:36:00",
          "2025-03-05T18:37:00",
          "2025-03-05T18:38:00",
          "2025-03-05T18:39:00",
          "2025-03-05T18:40:00",
          "2025-03-05T18:41:00",
          "2025-03-05T18:42:00",
          "2025-03-05T18:43:00",
          "2025-03-05T18:44:00",
          "2025-03-05T18:45:00",
          "2025-03-05T18:46:00",
          "2025-03-05T18:47:00",
          "2025-03-05T18:48:00",
          "2025-03-05T18:49:00",
          "2025-03-05T18:50:00",
          "2025-03-05T18:51:00",
          "2025-03-05T18:52:00",
          "2025-03-05T18:53:00",
          "2025-03-05T18:54:00",
          "2025-03-05T18:55:00",
          "2025-03-05T18:56:00",
          "2025-03-05T18:57:00",
          "2025-03-05T18:58:00",
          "2025-03-05T18:59:00",
          "2025-03-05T19:00:00",
          "2025-03-05T19:01:00",
          "2025-03-05T19:02:00",
          "2025-03-05T19:03:00",
          "2025-03-05T19:04:00",
          "2025-03-05T19:05:00",
          "2025-03-05T19:06:00",
          "2025-03-05T19:07:00",
          "2025-03-05T19:08:00",
          "2025-03-05T19:09:00",
          "2025-03-05T19:10:00",
          "2025-03-05T19:11:00",
          "2025-03-05T19:12:00",
          "2025-03-05T19:13:00",
          "2025-03-05T19:14:00",
          "2025-03-05T19:15:00",
          "2025-03-05T19:16:00",
          "2025-03-05T19:17:00",
          "2025-03-05T19:18:00",
          "2025-03-05T19:19:00",
          "2025-03-05T19:20:00",
          "2025-03-05T19:21:00",
          "2025-03-05T19:22:00",
          "2025-03-05T19:23:00",
          "2025-03-05T19:24:00",
          "2025-03-05T19:25:00",
          "2025-03-05T19:26:00",
          "2025-03-05T19:27:00",
          "2025-03-05T19:28:00",
          "2025-03-05T19:29:00",
          "2025-03-05T19:30:00",
          "2025-03-05T19:31:00",
          "2025-03-05T19:32:00",
          "2025-03-05T19:33:00",
          "2025-03-05T19:34:00",
          "2025-03-05T19:35:00",
          "2025-03-05T19:36:00",
          "2025-03-05T19:37:00",
          "2025-03-05T19:38:00",
          "2025-03-05T19:39:00",
          "2025-03-05T19:40:00",
          "2025-03-05T19:41:00",
          "2025-03-05T19:42:00",
          "2025-03-05T19:43:00",
          "2025-03-05T19:44:00",
          "2025-03-05T19:45:00",
          "2025-03-05T19:46:00",
          "2025-03-05T19:47:00",
          "2025-03-05T19:48:00",
          "2025-03-05T19:49:00",
          "2025-03-05T19:50:00",
          "2025-03-05T19:51:00",
          "2025-03-05T19:52:00",
          "2025-03-05T19:53:00",
          "2025-03-05T19:54:00",
          "2025-03-05T19:55:00",
          "2025-03-05T19:56:00",
          "2025-03-05T19:57:00",
          "2025-03-05T19:58:00",
          "2025-03-05T19:59:00",
          "2025-03-05T20:00:00"
         ],
         "y": [
          132.84,
          132.9888,
          133.1,
          132.93,
          132.98,
          133,
          133.01,
          133.0495,
          133.03,
          133.05,
          133.17,
          133.14,
          133.22,
          133.38,
          133.11,
          133.1516,
          133.2499,
          133.34,
          133.2975,
          133.24,
          133.25,
          133.35,
          133.38,
          133.38,
          133.375,
          133.3533,
          133.45,
          133.55,
          133.64,
          133.58,
          133.51,
          133.41,
          133.3201,
          133.35,
          133.3798,
          133.33,
          133.4,
          133.48,
          133.38,
          133.55,
          133.61,
          133.7,
          133.715,
          133.64,
          133.63,
          133.65,
          133.65,
          133.71,
          133.79,
          133.96,
          133.77,
          133.8899,
          133.8,
          133.73,
          133.79,
          133.8,
          133.8001,
          133.7,
          134.09,
          134.31,
          135.5022,
          134.57,
          133.88,
          133.76,
          133.87,
          133.88,
          133.54,
          133.4,
          133.74,
          134.22,
          134.75,
          134.88,
          135.135,
          135.365,
          134.73,
          135.32,
          135.05,
          135.23,
          134.74,
          134.645,
          134.78,
          135.28,
          135.355,
          135.36,
          135.245,
          135.595,
          135.07,
          135.17,
          135.29,
          135.495,
          136.15,
          136.14,
          136.02,
          136.5001,
          136.738,
          136.68,
          137.19,
          137.245,
          136.97,
          136.725,
          136.42,
          136.49,
          136.64,
          136.61,
          136.68,
          136.5921,
          136.64,
          136.41,
          136.42,
          136.306,
          136.39,
          136.0713,
          136.4,
          136.37,
          136.13,
          136.2,
          136.37,
          136.33,
          136.3598,
          136.77,
          136.75,
          137,
          137.1097,
          137.06,
          137.06,
          137.7,
          137.58,
          137.82,
          137.98,
          137.99,
          137.88,
          138.106,
          137.93,
          138.185,
          138.2169,
          138.245,
          138.43,
          138.1675,
          138.31,
          138.19,
          138.285,
          138.5699,
          138.67,
          138.2483,
          138.49,
          138.825,
          138.83,
          138.9298,
          138.74,
          138.425,
          138.19,
          138.07,
          138.38,
          138.34,
          138.345,
          138.47,
          138.46,
          138.6699,
          138.45,
          138.46,
          138.5826,
          138.31,
          138.26,
          138.45,
          138.31,
          138.07,
          137.77,
          137.91,
          137.95,
          138.125,
          138.15,
          138.14,
          138.13,
          137.91,
          138.04,
          137.96,
          137.905,
          138.02,
          138.13,
          138,
          138.12,
          138.2375,
          138.32,
          137.92,
          137.7313,
          137.67,
          137.75,
          137.99,
          138.12,
          138.1,
          138.14,
          138.08,
          138.125,
          138.01,
          138.03,
          138.14,
          138.0214,
          138.18,
          138.1789,
          138.33,
          138.125,
          138.29,
          138.32,
          138.415,
          138.6,
          138.675,
          138.71,
          138.89,
          139.3,
          139.0081,
          139.38,
          139.23,
          139.26,
          139.13,
          139.08,
          139.065,
          139.115,
          139.288,
          139.16,
          139.2156,
          139.23,
          139.295,
          139.41,
          139.7,
          139.49,
          139.635,
          139.67,
          139.53,
          139.7,
          139.4384,
          139.395,
          139.28,
          139.55,
          139.5,
          139.6,
          139.445,
          139.4302,
          139.4,
          139.7311,
          139.8,
          139.75,
          139.8699,
          139.815,
          139.93,
          139.9,
          139.97,
          139.86,
          139.98,
          139.87,
          139.92,
          139.96,
          139.925,
          139.82,
          139.725,
          139.72,
          139.54,
          139.41,
          139.47,
          139.56,
          139.67,
          139.63,
          139.65,
          139.455,
          139.485,
          139.34,
          139.35,
          139.32,
          139.35,
          139.439,
          139.36,
          139.34,
          139.5801,
          139.5,
          139.725,
          139.63,
          139.62,
          139.34,
          138.9505,
          138.86,
          138.81,
          138.96,
          139.11,
          139.1848,
          139.25,
          139.17,
          139.23,
          139.23,
          139.16,
          139.188,
          139.235,
          139.275,
          139.2401,
          139.26,
          139.48,
          139.63,
          139.62,
          139.61,
          139.625,
          139.52,
          139.515,
          139.42,
          139.41,
          139.25,
          139.48,
          139.31,
          139.405,
          139.57,
          139.48,
          139.53,
          139.8616,
          139.69,
          139.725,
          139.835,
          139.75,
          139.65,
          139.84,
          139.89,
          139.89,
          140.003,
          139.955,
          140.09,
          140.19,
          140.19,
          140.13,
          140.13,
          140.2195,
          140.265,
          140.355,
          140.5,
          140.65,
          140.505,
          140.44,
          140.41,
          140.25,
          140.32,
          140.26,
          140.33,
          140.28,
          140.34,
          140.49,
          140.539,
          140.34,
          140.41,
          140.505,
          140.6999,
          140.81,
          140.7888,
          140.52,
          140.3,
          140.37,
          140.555,
          140.63,
          140.65,
          140.625,
          140.6687,
          140.5876,
          140.725,
          140.7,
          140.61,
          140.51,
          140.65,
          140.67,
          140.645,
          140.64,
          140.57,
          140.645,
          140.4367,
          140.3621,
          140.485,
          140.535,
          140.77,
          140.905,
          140.7654,
          140.8099,
          140.8074,
          140.77,
          140.6991,
          140.83,
          140.85,
          140.755,
          140.87,
          140.79,
          140.87,
          140.825,
          140.87,
          140.885,
          140.9,
          140.935,
          140.7545,
          140.5806,
          140.745
         ]
        },
        {
         "hoveron": "points",
         "hovertemplate": "Trade 1: Return: 1.35%<extra></extra>",
         "line": {
          "color": "green",
          "width": 3
         },
         "marker": {
          "color": "green",
          "size": 4
         },
         "mode": "lines+markers",
         "name": "Trade 1",
         "type": "scatter",
         "visible": true,
         "x": [
          "2025-03-05T14:27:00",
          "2025-03-05T14:28:00",
          "2025-03-05T14:29:00",
          "2025-03-05T14:30:00"
         ],
         "y": [
          133.7,
          134.09,
          134.31,
          135.5022
         ]
        },
        {
         "hoveron": "points",
         "hovertemplate": "Trade 2: Return: 1.47%<extra></extra>",
         "line": {
          "color": "green",
          "width": 3
         },
         "marker": {
          "color": "green",
          "size": 4
         },
         "mode": "lines+markers",
         "name": "Trade 2",
         "type": "scatter",
         "visible": true,
         "x": [
          "2025-03-05T14:37:00",
          "2025-03-05T14:38:00",
          "2025-03-05T14:39:00",
          "2025-03-05T14:40:00",
          "2025-03-05T14:41:00",
          "2025-03-05T14:42:00",
          "2025-03-05T14:43:00"
         ],
         "y": [
          133.4,
          133.74,
          134.22,
          134.75,
          134.88,
          135.135,
          135.365
         ]
        },
        {
         "hoveron": "points",
         "hovertemplate": "Trade 3: Return: 0.71%<extra></extra>",
         "line": {
          "color": "green",
          "width": 3
         },
         "marker": {
          "color": "green",
          "size": 4
         },
         "mode": "lines+markers",
         "name": "Trade 3",
         "type": "scatter",
         "visible": true,
         "x": [
          "2025-03-05T14:49:00",
          "2025-03-05T14:50:00",
          "2025-03-05T14:51:00",
          "2025-03-05T14:52:00",
          "2025-03-05T14:53:00",
          "2025-03-05T14:54:00",
          "2025-03-05T14:55:00"
         ],
         "y": [
          134.645,
          134.78,
          135.28,
          135.355,
          135.36,
          135.245,
          135.595
         ]
        },
        {
         "hoveron": "points",
         "hovertemplate": "Trade 4: Return: 1.61%<extra></extra>",
         "line": {
          "color": "green",
          "width": 3
         },
         "marker": {
          "color": "green",
          "size": 4
         },
         "mode": "lines+markers",
         "name": "Trade 4",
         "type": "scatter",
         "visible": true,
         "x": [
          "2025-03-05T14:56:00",
          "2025-03-05T14:57:00",
          "2025-03-05T14:58:00",
          "2025-03-05T14:59:00",
          "2025-03-05T15:00:00",
          "2025-03-05T15:01:00",
          "2025-03-05T15:02:00",
          "2025-03-05T15:03:00",
          "2025-03-05T15:04:00",
          "2025-03-05T15:05:00",
          "2025-03-05T15:06:00",
          "2025-03-05T15:07:00"
         ],
         "y": [
          135.07,
          135.17,
          135.29,
          135.495,
          136.15,
          136.14,
          136.02,
          136.5001,
          136.738,
          136.68,
          137.19,
          137.245
         ]
        },
        {
         "hoveron": "points",
         "hovertemplate": "Trade 5: Return: 2.06%<extra></extra>",
         "line": {
          "color": "green",
          "width": 3
         },
         "marker": {
          "color": "green",
          "size": 4
         },
         "mode": "lines+markers",
         "name": "Trade 5",
         "type": "scatter",
         "visible": true,
         "x": [
          "2025-03-05T15:24:00",
          "2025-03-05T15:25:00",
          "2025-03-05T15:26:00",
          "2025-03-05T15:27:00",
          "2025-03-05T15:28:00",
          "2025-03-05T15:29:00",
          "2025-03-05T15:30:00",
          "2025-03-05T15:31:00",
          "2025-03-05T15:32:00",
          "2025-03-05T15:33:00",
          "2025-03-05T15:34:00",
          "2025-03-05T15:35:00",
          "2025-03-05T15:36:00",
          "2025-03-05T15:37:00",
          "2025-03-05T15:38:00",
          "2025-03-05T15:39:00",
          "2025-03-05T15:40:00",
          "2025-03-05T15:41:00",
          "2025-03-05T15:42:00",
          "2025-03-05T15:43:00",
          "2025-03-05T15:44:00",
          "2025-03-05T15:45:00",
          "2025-03-05T15:46:00",
          "2025-03-05T15:47:00",
          "2025-03-05T15:48:00",
          "2025-03-05T15:49:00",
          "2025-03-05T15:50:00",
          "2025-03-05T15:51:00",
          "2025-03-05T15:52:00",
          "2025-03-05T15:53:00",
          "2025-03-05T15:54:00",
          "2025-03-05T15:55:00",
          "2025-03-05T15:56:00",
          "2025-03-05T15:57:00"
         ],
         "y": [
          136.13,
          136.2,
          136.37,
          136.33,
          136.3598,
          136.77,
          136.75,
          137,
          137.1097,
          137.06,
          137.06,
          137.7,
          137.58,
          137.82,
          137.98,
          137.99,
          137.88,
          138.106,
          137.93,
          138.185,
          138.2169,
          138.245,
          138.43,
          138.1675,
          138.31,
          138.19,
          138.285,
          138.5699,
          138.67,
          138.2483,
          138.49,
          138.825,
          138.83,
          138.9298
         ]
        },
        {
         "hoveron": "points",
         "hovertemplate": "Trade 6: Return: 1.34%<extra></extra>",
         "line": {
          "color": "green",
          "width": 3
         },
         "marker": {
          "color": "green",
          "size": 4
         },
         "mode": "lines+markers",
         "name": "Trade 6",
         "type": "scatter",
         "visible": true,
         "x": [
          "2025-03-05T16:50:00",
          "2025-03-05T16:51:00",
          "2025-03-05T16:52:00",
          "2025-03-05T16:53:00",
          "2025-03-05T16:54:00",
          "2025-03-05T16:55:00",
          "2025-03-05T16:56:00",
          "2025-03-05T16:57:00",
          "2025-03-05T16:58:00",
          "2025-03-05T16:59:00",
          "2025-03-05T17:00:00",
          "2025-03-05T17:01:00",
          "2025-03-05T17:02:00",
          "2025-03-05T17:03:00",
          "2025-03-05T17:04:00",
          "2025-03-05T17:05:00",
          "2025-03-05T17:06:00",
          "2025-03-05T17:07:00",
          "2025-03-05T17:08:00",
          "2025-03-05T17:09:00",
          "2025-03-05T17:10:00",
          "2025-03-05T17:11:00",
          "2025-03-05T17:12:00",
          "2025-03-05T17:13:00",
          "2025-03-05T17:14:00",
          "2025-03-05T17:15:00",
          "2025-03-05T17:16:00",
          "2025-03-05T17:17:00",
          "2025-03-05T17:18:00",
          "2025-03-05T17:19:00",
          "2025-03-05T17:20:00",
          "2025-03-05T17:21:00",
          "2025-03-05T17:22:00",
          "2025-03-05T17:23:00",
          "2025-03-05T17:24:00",
          "2025-03-05T17:25:00",
          "2025-03-05T17:26:00",
          "2025-03-05T17:27:00",
          "2025-03-05T17:28:00",
          "2025-03-05T17:29:00",
          "2025-03-05T17:30:00",
          "2025-03-05T17:31:00",
          "2025-03-05T17:32:00",
          "2025-03-05T17:33:00",
          "2025-03-05T17:34:00",
          "2025-03-05T17:35:00",
          "2025-03-05T17:36:00",
          "2025-03-05T17:37:00"
         ],
         "y": [
          138.125,
          138.29,
          138.32,
          138.415,
          138.6,
          138.675,
          138.71,
          138.89,
          139.3,
          139.0081,
          139.38,
          139.23,
          139.26,
          139.13,
          139.08,
          139.065,
          139.115,
          139.288,
          139.16,
          139.2156,
          139.23,
          139.295,
          139.41,
          139.7,
          139.49,
          139.635,
          139.67,
          139.53,
          139.7,
          139.4384,
          139.395,
          139.28,
          139.55,
          139.5,
          139.6,
          139.445,
          139.4302,
          139.4,
          139.7311,
          139.8,
          139.75,
          139.8699,
          139.815,
          139.93,
          139.9,
          139.97,
          139.86,
          139.98
         ]
        },
        {
         "hoveron": "points",
         "hovertemplate": "Trade 7: Return: 0.72%<extra></extra>",
         "line": {
          "color": "green",
          "width": 3
         },
         "marker": {
          "color": "green",
          "size": 4
         },
         "mode": "lines+markers",
         "name": "Trade 7",
         "type": "scatter",
         "visible": true,
         "x": [
          "2025-03-05T18:44:00",
          "2025-03-05T18:45:00",
          "2025-03-05T18:46:00",
          "2025-03-05T18:47:00",
          "2025-03-05T18:48:00",
          "2025-03-05T18:49:00",
          "2025-03-05T18:50:00",
          "2025-03-05T18:51:00",
          "2025-03-05T18:52:00",
          "2025-03-05T18:53:00",
          "2025-03-05T18:54:00",
          "2025-03-05T18:55:00",
          "2025-03-05T18:56:00",
          "2025-03-05T18:57:00",
          "2025-03-05T18:58:00",
          "2025-03-05T18:59:00"
         ],
         "y": [
          139.65,
          139.84,
          139.89,
          139.89,
          140.003,
          139.955,
          140.09,
          140.19,
          140.19,
          140.13,
          140.13,
          140.2195,
          140.265,
          140.355,
          140.5,
          140.65
         ]
        }
       ],
       "layout": {
        "height": 700,
        "hovermode": "x unified",
        "template": {
         "data": {
          "bar": [
           {
            "error_x": {
             "color": "#2a3f5f"
            },
            "error_y": {
             "color": "#2a3f5f"
            },
            "marker": {
             "line": {
              "color": "white",
              "width": 0.5
             },
             "pattern": {
              "fillmode": "overlay",
              "size": 10,
              "solidity": 0.2
             }
            },
            "type": "bar"
           }
          ],
          "barpolar": [
           {
            "marker": {
             "line": {
              "color": "white",
              "width": 0.5
             },
             "pattern": {
              "fillmode": "overlay",
              "size": 10,
              "solidity": 0.2
             }
            },
            "type": "barpolar"
           }
          ],
          "carpet": [
           {
            "aaxis": {
             "endlinecolor": "#2a3f5f",
             "gridcolor": "#C8D4E3",
             "linecolor": "#C8D4E3",
             "minorgridcolor": "#C8D4E3",
             "startlinecolor": "#2a3f5f"
            },
            "baxis": {
             "endlinecolor": "#2a3f5f",
             "gridcolor": "#C8D4E3",
             "linecolor": "#C8D4E3",
             "minorgridcolor": "#C8D4E3",
             "startlinecolor": "#2a3f5f"
            },
            "type": "carpet"
           }
          ],
          "choropleth": [
           {
            "colorbar": {
             "outlinewidth": 0,
             "ticks": ""
            },
            "type": "choropleth"
           }
          ],
          "contour": [
           {
            "colorbar": {
             "outlinewidth": 0,
             "ticks": ""
            },
            "colorscale": [
             [
              0,
              "#0d0887"
             ],
             [
              0.1111111111111111,
              "#46039f"
             ],
             [
              0.2222222222222222,
              "#7201a8"
             ],
             [
              0.3333333333333333,
              "#9c179e"
             ],
             [
              0.4444444444444444,
              "#bd3786"
             ],
             [
              0.5555555555555556,
              "#d8576b"
             ],
             [
              0.6666666666666666,
              "#ed7953"
             ],
             [
              0.7777777777777778,
              "#fb9f3a"
             ],
             [
              0.8888888888888888,
              "#fdca26"
             ],
             [
              1,
              "#f0f921"
             ]
            ],
            "type": "contour"
           }
          ],
          "contourcarpet": [
           {
            "colorbar": {
             "outlinewidth": 0,
             "ticks": ""
            },
            "type": "contourcarpet"
           }
          ],
          "heatmap": [
           {
            "colorbar": {
             "outlinewidth": 0,
             "ticks": ""
            },
            "colorscale": [
             [
              0,
              "#0d0887"
             ],
             [
              0.1111111111111111,
              "#46039f"
             ],
             [
              0.2222222222222222,
              "#7201a8"
             ],
             [
              0.3333333333333333,
              "#9c179e"
             ],
             [
              0.4444444444444444,
              "#bd3786"
             ],
             [
              0.5555555555555556,
              "#d8576b"
             ],
             [
              0.6666666666666666,
              "#ed7953"
             ],
             [
              0.7777777777777778,
              "#fb9f3a"
             ],
             [
              0.8888888888888888,
              "#fdca26"
             ],
             [
              1,
              "#f0f921"
             ]
            ],
            "type": "heatmap"
           }
          ],
          "heatmapgl": [
           {
            "colorbar": {
             "outlinewidth": 0,
             "ticks": ""
            },
            "colorscale": [
             [
              0,
              "#0d0887"
             ],
             [
              0.1111111111111111,
              "#46039f"
             ],
             [
              0.2222222222222222,
              "#7201a8"
             ],
             [
              0.3333333333333333,
              "#9c179e"
             ],
             [
              0.4444444444444444,
              "#bd3786"
             ],
             [
              0.5555555555555556,
              "#d8576b"
             ],
             [
              0.6666666666666666,
              "#ed7953"
             ],
             [
              0.7777777777777778,
              "#fb9f3a"
             ],
             [
              0.8888888888888888,
              "#fdca26"
             ],
             [
              1,
              "#f0f921"
             ]
            ],
            "type": "heatmapgl"
           }
          ],
          "histogram": [
           {
            "marker": {
             "pattern": {
              "fillmode": "overlay",
              "size": 10,
              "solidity": 0.2
             }
            },
            "type": "histogram"
           }
          ],
          "histogram2d": [
           {
            "colorbar": {
             "outlinewidth": 0,
             "ticks": ""
            },
            "colorscale": [
             [
              0,
              "#0d0887"
             ],
             [
              0.1111111111111111,
              "#46039f"
             ],
             [
              0.2222222222222222,
              "#7201a8"
             ],
             [
              0.3333333333333333,
              "#9c179e"
             ],
             [
              0.4444444444444444,
              "#bd3786"
             ],
             [
              0.5555555555555556,
              "#d8576b"
             ],
             [
              0.6666666666666666,
              "#ed7953"
             ],
             [
              0.7777777777777778,
              "#fb9f3a"
             ],
             [
              0.8888888888888888,
              "#fdca26"
             ],
             [
              1,
              "#f0f921"
             ]
            ],
            "type": "histogram2d"
           }
          ],
          "histogram2dcontour": [
           {
            "colorbar": {
             "outlinewidth": 0,
             "ticks": ""
            },
            "colorscale": [
             [
              0,
              "#0d0887"
             ],
             [
              0.1111111111111111,
              "#46039f"
             ],
             [
              0.2222222222222222,
              "#7201a8"
             ],
             [
              0.3333333333333333,
              "#9c179e"
             ],
             [
              0.4444444444444444,
              "#bd3786"
             ],
             [
              0.5555555555555556,
              "#d8576b"
             ],
             [
              0.6666666666666666,
              "#ed7953"
             ],
             [
              0.7777777777777778,
              "#fb9f3a"
             ],
             [
              0.8888888888888888,
              "#fdca26"
             ],
             [
              1,
              "#f0f921"
             ]
            ],
            "type": "histogram2dcontour"
           }
          ],
          "mesh3d": [
           {
            "colorbar": {
             "outlinewidth": 0,
             "ticks": ""
            },
            "type": "mesh3d"
           }
          ],
          "parcoords": [
           {
            "line": {
             "colorbar": {
              "outlinewidth": 0,
              "ticks": ""
             }
            },
            "type": "parcoords"
           }
          ],
          "pie": [
           {
            "automargin": true,
            "type": "pie"
           }
          ],
          "scatter": [
           {
            "fillpattern": {
             "fillmode": "overlay",
             "size": 10,
             "solidity": 0.2
            },
            "type": "scatter"
           }
          ],
          "scatter3d": [
           {
            "line": {
             "colorbar": {
              "outlinewidth": 0,
              "ticks": ""
             }
            },
            "marker": {
             "colorbar": {
              "outlinewidth": 0,
              "ticks": ""
             }
            },
            "type": "scatter3d"
           }
          ],
          "scattercarpet": [
           {
            "marker": {
             "colorbar": {
              "outlinewidth": 0,
              "ticks": ""
             }
            },
            "type": "scattercarpet"
           }
          ],
          "scattergeo": [
           {
            "marker": {
             "colorbar": {
              "outlinewidth": 0,
              "ticks": ""
             }
            },
            "type": "scattergeo"
           }
          ],
          "scattergl": [
           {
            "marker": {
             "colorbar": {
              "outlinewidth": 0,
              "ticks": ""
             }
            },
            "type": "scattergl"
           }
          ],
          "scattermapbox": [
           {
            "marker": {
             "colorbar": {
              "outlinewidth": 0,
              "ticks": ""
             }
            },
            "type": "scattermapbox"
           }
          ],
          "scatterpolar": [
           {
            "marker": {
             "colorbar": {
              "outlinewidth": 0,
              "ticks": ""
             }
            },
            "type": "scatterpolar"
           }
          ],
          "scatterpolargl": [
           {
            "marker": {
             "colorbar": {
              "outlinewidth": 0,
              "ticks": ""
             }
            },
            "type": "scatterpolargl"
           }
          ],
          "scatterternary": [
           {
            "marker": {
             "colorbar": {
              "outlinewidth": 0,
              "ticks": ""
             }
            },
            "type": "scatterternary"
           }
          ],
          "surface": [
           {
            "colorbar": {
             "outlinewidth": 0,
             "ticks": ""
            },
            "colorscale": [
             [
              0,
              "#0d0887"
             ],
             [
              0.1111111111111111,
              "#46039f"
             ],
             [
              0.2222222222222222,
              "#7201a8"
             ],
             [
              0.3333333333333333,
              "#9c179e"
             ],
             [
              0.4444444444444444,
              "#bd3786"
             ],
             [
              0.5555555555555556,
              "#d8576b"
             ],
             [
              0.6666666666666666,
              "#ed7953"
             ],
             [
              0.7777777777777778,
              "#fb9f3a"
             ],
             [
              0.8888888888888888,
              "#fdca26"
             ],
             [
              1,
              "#f0f921"
             ]
            ],
            "type": "surface"
           }
          ],
          "table": [
           {
            "cells": {
             "fill": {
              "color": "#EBF0F8"
             },
             "line": {
              "color": "white"
             }
            },
            "header": {
             "fill": {
              "color": "#C8D4E3"
             },
             "line": {
              "color": "white"
             }
            },
            "type": "table"
           }
          ]
         },
         "layout": {
          "annotationdefaults": {
           "arrowcolor": "#2a3f5f",
           "arrowhead": 0,
           "arrowwidth": 1
          },
          "autotypenumbers": "strict",
          "coloraxis": {
           "colorbar": {
            "outlinewidth": 0,
            "ticks": ""
           }
          },
          "colorscale": {
           "diverging": [
            [
             0,
             "#8e0152"
            ],
            [
             0.1,
             "#c51b7d"
            ],
            [
             0.2,
             "#de77ae"
            ],
            [
             0.3,
             "#f1b6da"
            ],
            [
             0.4,
             "#fde0ef"
            ],
            [
             0.5,
             "#f7f7f7"
            ],
            [
             0.6,
             "#e6f5d0"
            ],
            [
             0.7,
             "#b8e186"
            ],
            [
             0.8,
             "#7fbc41"
            ],
            [
             0.9,
             "#4d9221"
            ],
            [
             1,
             "#276419"
            ]
           ],
           "sequential": [
            [
             0,
             "#0d0887"
            ],
            [
             0.1111111111111111,
             "#46039f"
            ],
            [
             0.2222222222222222,
             "#7201a8"
            ],
            [
             0.3333333333333333,
             "#9c179e"
            ],
            [
             0.4444444444444444,
             "#bd3786"
            ],
            [
             0.5555555555555556,
             "#d8576b"
            ],
            [
             0.6666666666666666,
             "#ed7953"
            ],
            [
             0.7777777777777778,
             "#fb9f3a"
            ],
            [
             0.8888888888888888,
             "#fdca26"
            ],
            [
             1,
             "#f0f921"
            ]
           ],
           "sequentialminus": [
            [
             0,
             "#0d0887"
            ],
            [
             0.1111111111111111,
             "#46039f"
            ],
            [
             0.2222222222222222,
             "#7201a8"
            ],
            [
             0.3333333333333333,
             "#9c179e"
            ],
            [
             0.4444444444444444,
             "#bd3786"
            ],
            [
             0.5555555555555556,
             "#d8576b"
            ],
            [
             0.6666666666666666,
             "#ed7953"
            ],
            [
             0.7777777777777778,
             "#fb9f3a"
            ],
            [
             0.8888888888888888,
             "#fdca26"
            ],
            [
             1,
             "#f0f921"
            ]
           ]
          },
          "colorway": [
           "#636efa",
           "#EF553B",
           "#00cc96",
           "#ab63fa",
           "#FFA15A",
           "#19d3f3",
           "#FF6692",
           "#B6E880",
           "#FF97FF",
           "#FECB52"
          ],
          "font": {
           "color": "#2a3f5f"
          },
          "geo": {
           "bgcolor": "white",
           "lakecolor": "white",
           "landcolor": "white",
           "showlakes": true,
           "showland": true,
           "subunitcolor": "#C8D4E3"
          },
          "hoverlabel": {
           "align": "left"
          },
          "hovermode": "closest",
          "mapbox": {
           "style": "light"
          },
          "paper_bgcolor": "white",
          "plot_bgcolor": "white",
          "polar": {
           "angularaxis": {
            "gridcolor": "#EBF0F8",
            "linecolor": "#EBF0F8",
            "ticks": ""
           },
           "bgcolor": "white",
           "radialaxis": {
            "gridcolor": "#EBF0F8",
            "linecolor": "#EBF0F8",
            "ticks": ""
           }
          },
          "scene": {
           "xaxis": {
            "backgroundcolor": "white",
            "gridcolor": "#DFE8F3",
            "gridwidth": 2,
            "linecolor": "#EBF0F8",
            "showbackground": true,
            "ticks": "",
            "zerolinecolor": "#EBF0F8"
           },
           "yaxis": {
            "backgroundcolor": "white",
            "gridcolor": "#DFE8F3",
            "gridwidth": 2,
            "linecolor": "#EBF0F8",
            "showbackground": true,
            "ticks": "",
            "zerolinecolor": "#EBF0F8"
           },
           "zaxis": {
            "backgroundcolor": "white",
            "gridcolor": "#DFE8F3",
            "gridwidth": 2,
            "linecolor": "#EBF0F8",
            "showbackground": true,
            "ticks": "",
            "zerolinecolor": "#EBF0F8"
           }
          },
          "shapedefaults": {
           "line": {
            "color": "#2a3f5f"
           }
          },
          "ternary": {
           "aaxis": {
            "gridcolor": "#DFE8F3",
            "linecolor": "#A2B1C6",
            "ticks": ""
           },
           "baxis": {
            "gridcolor": "#DFE8F3",
            "linecolor": "#A2B1C6",
            "ticks": ""
           },
           "bgcolor": "white",
           "caxis": {
            "gridcolor": "#DFE8F3",
            "linecolor": "#A2B1C6",
            "ticks": ""
           }
          },
          "title": {
           "x": 0.05
          },
          "xaxis": {
           "automargin": true,
           "gridcolor": "#EBF0F8",
           "linecolor": "#EBF0F8",
           "ticks": "",
           "title": {
            "standoff": 15
           },
           "zerolinecolor": "#EBF0F8",
           "zerolinewidth": 2
          },
          "yaxis": {
           "automargin": true,
           "gridcolor": "#EBF0F8",
           "linecolor": "#EBF0F8",
           "ticks": "",
           "title": {
            "standoff": 15
           },
           "zerolinecolor": "#EBF0F8",
           "zerolinewidth": 2
          }
         }
        },
        "title": {
         "text": "Close Price with Trade Intervals"
        },
        "updatemenus": [
         {
          "buttons": [
           {
            "args": [
             {
              "visible": [
               true,
               "legendonly",
               "legendonly",
               "legendonly",
               "legendonly",
               "legendonly",
               "legendonly",
               "legendonly"
              ]
             }
            ],
            "label": "Hide Trades",
            "method": "update"
           },
           {
            "args": [
             {
              "visible": [
               true,
               true,
               true,
               true,
               true,
               true,
               true,
               true
              ]
             }
            ],
            "label": "Show Trades",
            "method": "update"
           }
          ],
          "direction": "left",
          "pad": {
           "r": 10,
           "t": 10
          },
          "showactive": true,
          "type": "buttons",
          "x": 0.9,
          "xanchor": "left",
          "y": 1.1,
          "yanchor": "top"
         }
        ],
        "xaxis": {
         "title": {
          "text": "Datetime"
         }
        },
        "yaxis": {
         "title": {
          "text": "Close Price"
         }
        }
       }
      },
      "image/png": "[encoded data removed]",
      "text/html": [
       "<div>                            <div id=\"6e5f4c86-dad5-4553-af17-8e856326a5ec\" class=\"plotly-graph-div\" style=\"height:700px; width:100%;\"></div>            <script type=\"text/javascript\">                require([\"plotly\"], function(Plotly) {                    window.PLOTLYENV=window.PLOTLYENV || {};                                    if (document.getElementById(\"6e5f4c86-dad5-4553-af17-8e856326a5ec\")) {                    Plotly.newPlot(                        \"6e5f4c86-dad5-4553-af17-8e856326a5ec\",                        [{\"hoverinfo\":\"x+y\",\"hovertemplate\":\"Date: %{x}\\u003cbr\\u003eClose: %{y:.2f}\\u003cextra\\u003e\\u003c\\u002fextra\\u003e\",\"line\":{\"color\":\"grey\",\"width\":1},\"mode\":\"lines\",\"name\":\"Close Price\",\"x\":[\"2025-03-05T13:30:00\",\"2025-03-05T13:31:00\",\"2025-03-05T13:32:00\",\"2025-03-05T13:33:00\",\"2025-03-05T13:34:00\",\"2025-03-05T13:35:00\",\"2025-03-05T13:36:00\",\"2025-03-05T13:37:00\",\"2025-03-05T13:38:00\",\"2025-03-05T13:39:00\",\"2025-03-05T13:40:00\",\"2025-03-05T13:41:00\",\"2025-03-05T13:42:00\",\"2025-03-05T13:43:00\",\"2025-03-05T13:44:00\",\"2025-03-05T13:45:00\",\"2025-03-05T13:46:00\",\"2025-03-05T13:47:00\",\"2025-03-05T13:48:00\",\"2025-03-05T13:49:00\",\"2025-03-05T13:50:00\",\"2025-03-05T13:51:00\",\"2025-03-05T13:52:00\",\"2025-03-05T13:53:00\",\"2025-03-05T13:54:00\",\"2025-03-05T13:55:00\",\"2025-03-05T13:56:00\",\"2025-03-05T13:57:00\",\"2025-03-05T13:58:00\",\"2025-03-05T13:59:00\",\"2025-03-05T14:00:00\",\"2025-03-05T14:01:00\",\"2025-03-05T14:02:00\",\"2025-03-05T14:03:00\",\"2025-03-05T14:04:00\",\"2025-03-05T14:05:00\",\"2025-03-05T14:06:00\",\"2025-03-05T14:07:00\",\"2025-03-05T14:08:00\",\"2025-03-05T14:09:00\",\"2025-03-05T14:10:00\",\"2025-03-05T14:11:00\",\"2025-03-05T14:12:00\",\"2025-03-05T14:13:00\",\"2025-03-05T14:14:00\",\"2025-03-05T14:15:00\",\"2025-03-05T14:16:00\",\"2025-03-05T14:17:00\",\"2025-03-05T14:18:00\",\"2025-03-05T14:19:00\",\"2025-03-05T14:20:00\",\"2025-03-05T14:21:00\",\"2025-03-05T14:22:00\",\"2025-03-05T14:23:00\",\"2025-03-05T14:24:00\",\"2025-03-05T14:25:00\",\"2025-03-05T14:26:00\",\"2025-03-05T14:27:00\",\"2025-03-05T14:28:00\",\"2025-03-05T14:29:00\",\"2025-03-05T14:30:00\",\"2025-03-05T14:31:00\",\"2025-03-05T14:32:00\",\"2025-03-05T14:33:00\",\"2025-03-05T14:34:00\",\"2025-03-05T14:35:00\",\"2025-03-05T14:36:00\",\"2025-03-05T14:37:00\",\"2025-03-05T14:38:00\",\"2025-03-05T14:39:00\",\"2025-03-05T14:40:00\",\"2025-03-05T14:41:00\",\"2025-03-05T14:42:00\",\"2025-03-05T14:43:00\",\"2025-03-05T14:44:00\",\"2025-03-05T14:45:00\",\"2025-03-05T14:46:00\",\"2025-03-05T14:47:00\",\"2025-03-05T14:48:00\",\"2025-03-05T14:49:00\",\"2025-03-05T14:50:00\",\"2025-03-05T14:51:00\",\"2025-03-05T14:52:00\",\"2025-03-05T14:53:00\",\"2025-03-05T14:54:00\",\"2025-03-05T14:55:00\",\"2025-03-05T14:56:00\",\"2025-03-05T14:57:00\",\"2025-03-05T14:58:00\",\"2025-03-05T14:59:00\",\"2025-03-05T15:00:00\",\"2025-03-05T15:01:00\",\"2025-03-05T15:02:00\",\"2025-03-05T15:03:00\",\"2025-03-05T15:04:00\",\"2025-03-05T15:05:00\",\"2025-03-05T15:06:00\",\"2025-03-05T15:07:00\",\"2025-03-05T15:08:00\",\"2025-03-05T15:09:00\",\"2025-03-05T15:10:00\",\"2025-03-05T15:11:00\",\"2025-03-05T15:12:00\",\"2025-03-05T15:13:00\",\"2025-03-05T15:14:00\",\"2025-03-05T15:15:00\",\"2025-03-05T15:16:00\",\"2025-03-05T15:17:00\",\"2025-03-05T15:18:00\",\"2025-03-05T15:19:00\",\"2025-03-05T15:20:00\",\"2025-03-05T15:21:00\",\"2025-03-05T15:22:00\",\"2025-03-05T15:23:00\",\"2025-03-05T15:24:00\",\"2025-03-05T15:25:00\",\"2025-03-05T15:26:00\",\"2025-03-05T15:27:00\",\"2025-03-05T15:28:00\",\"2025-03-05T15:29:00\",\"2025-03-05T15:30:00\",\"2025-03-05T15:31:00\",\"2025-03-05T15:32:00\",\"2025-03-05T15:33:00\",\"2025-03-05T15:34:00\",\"2025-03-05T15:35:00\",\"2025-03-05T15:36:00\",\"2025-03-05T15:37:00\",\"2025-03-05T15:38:00\",\"2025-03-05T15:39:00\",\"2025-03-05T15:40:00\",\"2025-03-05T15:41:00\",\"2025-03-05T15:42:00\",\"2025-03-05T15:43:00\",\"2025-03-05T15:44:00\",\"2025-03-05T15:45:00\",\"2025-03-05T15:46:00\",\"2025-03-05T15:47:00\",\"2025-03-05T15:48:00\",\"2025-03-05T15:49:00\",\"2025-03-05T15:50:00\",\"2025-03-05T15:51:00\",\"2025-03-05T15:52:00\",\"2025-03-05T15:53:00\",\"2025-03-05T15:54:00\",\"2025-03-05T15:55:00\",\"2025-03-05T15:56:00\",\"2025-03-05T15:57:00\",\"2025-03-05T15:58:00\",\"2025-03-05T15:59:00\",\"2025-03-05T16:00:00\",\"2025-03-05T16:01:00\",\"2025-03-05T16:02:00\",\"2025-03-05T16:03:00\",\"2025-03-05T16:04:00\",\"2025-03-05T16:05:00\",\"2025-03-05T16:06:00\",\"2025-03-05T16:07:00\",\"2025-03-05T16:08:00\",\"2025-03-05T16:09:00\",\"2025-03-05T16:10:00\",\"2025-03-05T16:11:00\",\"2025-03-05T16:12:00\",\"2025-03-05T16:13:00\",\"2025-03-05T16:14:00\",\"2025-03-05T16:15:00\",\"2025-03-05T16:16:00\",\"2025-03-05T16:17:00\",\"2025-03-05T16:18:00\",\"2025-03-05T16:19:00\",\"2025-03-05T16:20:00\",\"2025-03-05T16:21:00\",\"2025-03-05T16:22:00\",\"2025-03-05T16:23:00\",\"2025-03-05T16:24:00\",\"2025-03-05T16:25:00\",\"2025-03-05T16:26:00\",\"2025-03-05T16:27:00\",\"2025-03-05T16:28:00\",\"2025-03-05T16:29:00\",\"2025-03-05T16:30:00\",\"2025-03-05T16:31:00\",\"2025-03-05T16:32:00\",\"2025-03-05T16:33:00\",\"2025-03-05T16:34:00\",\"2025-03-05T16:35:00\",\"2025-03-05T16:36:00\",\"2025-03-05T16:37:00\",\"2025-03-05T16:38:00\",\"2025-03-05T16:39:00\",\"2025-03-05T16:40:00\",\"2025-03-05T16:41:00\",\"2025-03-05T16:42:00\",\"2025-03-05T16:43:00\",\"2025-03-05T16:44:00\",\"2025-03-05T16:45:00\",\"2025-03-05T16:46:00\",\"2025-03-05T16:47:00\",\"2025-03-05T16:48:00\",\"2025-03-05T16:49:00\",\"2025-03-05T16:50:00\",\"2025-03-05T16:51:00\",\"2025-03-05T16:52:00\",\"2025-03-05T16:53:00\",\"2025-03-05T16:54:00\",\"2025-03-05T16:55:00\",\"2025-03-05T16:56:00\",\"2025-03-05T16:57:00\",\"2025-03-05T16:58:00\",\"2025-03-05T16:59:00\",\"2025-03-05T17:00:00\",\"2025-03-05T17:01:00\",\"2025-03-05T17:02:00\",\"2025-03-05T17:03:00\",\"2025-03-05T17:04:00\",\"2025-03-05T17:05:00\",\"2025-03-05T17:06:00\",\"2025-03-05T17:07:00\",\"2025-03-05T17:08:00\",\"2025-03-05T17:09:00\",\"2025-03-05T17:10:00\",\"2025-03-05T17:11:00\",\"2025-03-05T17:12:00\",\"2025-03-05T17:13:00\",\"2025-03-05T17:14:00\",\"2025-03-05T17:15:00\",\"2025-03-05T17:16:00\",\"2025-03-05T17:17:00\",\"2025-03-05T17:18:00\",\"2025-03-05T17:19:00\",\"2025-03-05T17:20:00\",\"2025-03-05T17:21:00\",\"2025-03-05T17:22:00\",\"2025-03-05T17:23:00\",\"2025-03-05T17:24:00\",\"2025-03-05T17:25:00\",\"2025-03-05T17:26:00\",\"2025-03-05T17:27:00\",\"2025-03-05T17:28:00\",\"2025-03-05T17:29:00\",\"2025-03-05T17:30:00\",\"2025-03-05T17:31:00\",\"2025-03-05T17:32:00\",\"2025-03-05T17:33:00\",\"2025-03-05T17:34:00\",\"2025-03-05T17:35:00\",\"2025-03-05T17:36:00\",\"2025-03-05T17:37:00\",\"2025-03-05T17:38:00\",\"2025-03-05T17:39:00\",\"2025-03-05T17:40:00\",\"2025-03-05T17:41:00\",\"2025-03-05T17:42:00\",\"2025-03-05T17:43:00\",\"2025-03-05T17:44:00\",\"2025-03-05T17:45:00\",\"2025-03-05T17:46:00\",\"2025-03-05T17:47:00\",\"2025-03-05T17:48:00\",\"2025-03-05T17:49:00\",\"2025-03-05T17:50:00\",\"2025-03-05T17:51:00\",\"2025-03-05T17:52:00\",\"2025-03-05T17:53:00\",\"2025-03-05T17:54:00\",\"2025-03-05T17:55:00\",\"2025-03-05T17:56:00\",\"2025-03-05T17:57:00\",\"2025-03-05T17:58:00\",\"2025-03-05T17:59:00\",\"2025-03-05T18:00:00\",\"2025-03-05T18:01:00\",\"2025-03-05T18:02:00\",\"2025-03-05T18:03:00\",\"2025-03-05T18:04:00\",\"2025-03-05T18:05:00\",\"2025-03-05T18:06:00\",\"2025-03-05T18:07:00\",\"2025-03-05T18:08:00\",\"2025-03-05T18:09:00\",\"2025-03-05T18:10:00\",\"2025-03-05T18:11:00\",\"2025-03-05T18:12:00\",\"2025-03-05T18:13:00\",\"2025-03-05T18:14:00\",\"2025-03-05T18:15:00\",\"2025-03-05T18:16:00\",\"2025-03-05T18:17:00\",\"2025-03-05T18:18:00\",\"2025-03-05T18:19:00\",\"2025-03-05T18:20:00\",\"2025-03-05T18:21:00\",\"2025-03-05T18:22:00\",\"2025-03-05T18:23:00\",\"2025-03-05T18:24:00\",\"2025-03-05T18:25:00\",\"2025-03-05T18:26:00\",\"2025-03-05T18:27:00\",\"2025-03-05T18:28:00\",\"2025-03-05T18:29:00\",\"2025-03-05T18:30:00\",\"2025-03-05T18:31:00\",\"2025-03-05T18:32:00\",\"2025-03-05T18:33:00\",\"2025-03-05T18:34:00\",\"2025-03-05T18:35:00\",\"2025-03-05T18:36:00\",\"2025-03-05T18:37:00\",\"2025-03-05T18:38:00\",\"2025-03-05T18:39:00\",\"2025-03-05T18:40:00\",\"2025-03-05T18:41:00\",\"2025-03-05T18:42:00\",\"2025-03-05T18:43:00\",\"2025-03-05T18:44:00\",\"2025-03-05T18:45:00\",\"2025-03-05T18:46:00\",\"2025-03-05T18:47:00\",\"2025-03-05T18:48:00\",\"2025-03-05T18:49:00\",\"2025-03-05T18:50:00\",\"2025-03-05T18:51:00\",\"2025-03-05T18:52:00\",\"2025-03-05T18:53:00\",\"2025-03-05T18:54:00\",\"2025-03-05T18:55:00\",\"2025-03-05T18:56:00\",\"2025-03-05T18:57:00\",\"2025-03-05T18:58:00\",\"2025-03-05T18:59:00\",\"2025-03-05T19:00:00\",\"2025-03-05T19:01:00\",\"2025-03-05T19:02:00\",\"2025-03-05T19:03:00\",\"2025-03-05T19:04:00\",\"2025-03-05T19:05:00\",\"2025-03-05T19:06:00\",\"2025-03-05T19:07:00\",\"2025-03-05T19:08:00\",\"2025-03-05T19:09:00\",\"2025-03-05T19:10:00\",\"2025-03-05T19:11:00\",\"2025-03-05T19:12:00\",\"2025-03-05T19:13:00\",\"2025-03-05T19:14:00\",\"2025-03-05T19:15:00\",\"2025-03-05T19:16:00\",\"2025-03-05T19:17:00\",\"2025-03-05T19:18:00\",\"2025-03-05T19:19:00\",\"2025-03-05T19:20:00\",\"2025-03-05T19:21:00\",\"2025-03-05T19:22:00\",\"2025-03-05T19:23:00\",\"2025-03-05T19:24:00\",\"2025-03-05T19:25:00\",\"2025-03-05T19:26:00\",\"2025-03-05T19:27:00\",\"2025-03-05T19:28:00\",\"2025-03-05T19:29:00\",\"2025-03-05T19:30:00\",\"2025-03-05T19:31:00\",\"2025-03-05T19:32:00\",\"2025-03-05T19:33:00\",\"2025-03-05T19:34:00\",\"2025-03-05T19:35:00\",\"2025-03-05T19:36:00\",\"2025-03-05T19:37:00\",\"2025-03-05T19:38:00\",\"2025-03-05T19:39:00\",\"2025-03-05T19:40:00\",\"2025-03-05T19:41:00\",\"2025-03-05T19:42:00\",\"2025-03-05T19:43:00\",\"2025-03-05T19:44:00\",\"2025-03-05T19:45:00\",\"2025-03-05T19:46:00\",\"2025-03-05T19:47:00\",\"2025-03-05T19:48:00\",\"2025-03-05T19:49:00\",\"2025-03-05T19:50:00\",\"2025-03-05T19:51:00\",\"2025-03-05T19:52:00\",\"2025-03-05T19:53:00\",\"2025-03-05T19:54:00\",\"2025-03-05T19:55:00\",\"2025-03-05T19:56:00\",\"2025-03-05T19:57:00\",\"2025-03-05T19:58:00\",\"2025-03-05T19:59:00\",\"2025-03-05T20:00:00\"],\"y\":[132.84,132.9888,133.1,132.93,132.98,133.0,133.01,133.0495,133.03,133.05,133.17,133.14,133.22,133.38,133.11,133.1516,133.2499,133.34,133.2975,133.24,133.25,133.35,133.38,133.38,133.375,133.3533,133.45,133.55,133.64,133.58,133.51,133.41,133.3201,133.35,133.3798,133.33,133.4,133.48,133.38,133.55,133.61,133.7,133.715,133.64,133.63,133.65,133.65,133.71,133.79,133.96,133.77,133.8899,133.8,133.73,133.79,133.8,133.8001,133.7,134.09,134.31,135.5022,134.57,133.88,133.76,133.87,133.88,133.54,133.4,133.74,134.22,134.75,134.88,135.135,135.365,134.73,135.32,135.05,135.23,134.74,134.645,134.78,135.28,135.355,135.36,135.245,135.595,135.07,135.17,135.29,135.495,136.15,136.14,136.02,136.5001,136.738,136.68,137.19,137.245,136.97,136.725,136.42,136.49,136.64,136.61,136.68,136.5921,136.64,136.41,136.42,136.306,136.39,136.0713,136.4,136.37,136.13,136.2,136.37,136.33,136.3598,136.77,136.75,137.0,137.1097,137.06,137.06,137.7,137.58,137.82,137.98,137.99,137.88,138.106,137.93,138.185,138.2169,138.245,138.43,138.1675,138.31,138.19,138.285,138.5699,138.67,138.2483,138.49,138.825,138.83,138.9298,138.74,138.425,138.19,138.07,138.38,138.34,138.345,138.47,138.46,138.6699,138.45,138.46,138.5826,138.31,138.26,138.45,138.31,138.07,137.77,137.91,137.95,138.125,138.15,138.14,138.13,137.91,138.04,137.96,137.905,138.02,138.13,138.0,138.12,138.2375,138.32,137.92,137.7313,137.67,137.75,137.99,138.12,138.1,138.14,138.08,138.125,138.01,138.03,138.14,138.0214,138.18,138.1789,138.33,138.125,138.29,138.32,138.415,138.6,138.675,138.71,138.89,139.3,139.0081,139.38,139.23,139.26,139.13,139.08,139.065,139.115,139.288,139.16,139.2156,139.23,139.295,139.41,139.7,139.49,139.635,139.67,139.53,139.7,139.4384,139.395,139.28,139.55,139.5,139.6,139.445,139.4302,139.4,139.7311,139.8,139.75,139.8699,139.815,139.93,139.9,139.97,139.86,139.98,139.87,139.92,139.96,139.925,139.82,139.725,139.72,139.54,139.41,139.47,139.56,139.67,139.63,139.65,139.455,139.485,139.34,139.35,139.32,139.35,139.439,139.36,139.34,139.5801,139.5,139.725,139.63,139.62,139.34,138.9505,138.86,138.81,138.96,139.11,139.1848,139.25,139.17,139.23,139.23,139.16,139.188,139.235,139.275,139.2401,139.26,139.48,139.63,139.62,139.61,139.625,139.52,139.515,139.42,139.41,139.25,139.48,139.31,139.405,139.57,139.48,139.53,139.8616,139.69,139.725,139.835,139.75,139.65,139.84,139.89,139.89,140.003,139.955,140.09,140.19,140.19,140.13,140.13,140.2195,140.265,140.355,140.5,140.65,140.505,140.44,140.41,140.25,140.32,140.26,140.33,140.28,140.34,140.49,140.539,140.34,140.41,140.505,140.6999,140.81,140.7888,140.52,140.3,140.37,140.555,140.63,140.65,140.625,140.6687,140.5876,140.725,140.7,140.61,140.51,140.65,140.67,140.645,140.64,140.57,140.645,140.4367,140.3621,140.485,140.535,140.77,140.905,140.7654,140.8099,140.8074,140.77,140.6991,140.83,140.85,140.755,140.87,140.79,140.87,140.825,140.87,140.885,140.9,140.935,140.7545,140.5806,140.745],\"type\":\"scatter\"},{\"hoveron\":\"points\",\"hovertemplate\":\"Trade 1: Return: 1.35%\\u003cextra\\u003e\\u003c\\u002fextra\\u003e\",\"line\":{\"color\":\"green\",\"width\":3},\"marker\":{\"color\":\"green\",\"size\":4},\"mode\":\"lines+markers\",\"name\":\"Trade 1\",\"visible\":true,\"x\":[\"2025-03-05T14:27:00\",\"2025-03-05T14:28:00\",\"2025-03-05T14:29:00\",\"2025-03-05T14:30:00\"],\"y\":[133.7,134.09,134.31,135.5022],\"type\":\"scatter\"},{\"hoveron\":\"points\",\"hovertemplate\":\"Trade 2: Return: 1.47%\\u003cextra\\u003e\\u003c\\u002fextra\\u003e\",\"line\":{\"color\":\"green\",\"width\":3},\"marker\":{\"color\":\"green\",\"size\":4},\"mode\":\"lines+markers\",\"name\":\"Trade 2\",\"visible\":true,\"x\":[\"2025-03-05T14:37:00\",\"2025-03-05T14:38:00\",\"2025-03-05T14:39:00\",\"2025-03-05T14:40:00\",\"2025-03-05T14:41:00\",\"2025-03-05T14:42:00\",\"2025-03-05T14:43:00\"],\"y\":[133.4,133.74,134.22,134.75,134.88,135.135,135.365],\"type\":\"scatter\"},{\"hoveron\":\"points\",\"hovertemplate\":\"Trade 3: Return: 0.71%\\u003cextra\\u003e\\u003c\\u002fextra\\u003e\",\"line\":{\"color\":\"green\",\"width\":3},\"marker\":{\"color\":\"green\",\"size\":4},\"mode\":\"lines+markers\",\"name\":\"Trade 3\",\"visible\":true,\"x\":[\"2025-03-05T14:49:00\",\"2025-03-05T14:50:00\",\"2025-03-05T14:51:00\",\"2025-03-05T14:52:00\",\"2025-03-05T14:53:00\",\"2025-03-05T14:54:00\",\"2025-03-05T14:55:00\"],\"y\":[134.645,134.78,135.28,135.355,135.36,135.245,135.595],\"type\":\"scatter\"},{\"hoveron\":\"points\",\"hovertemplate\":\"Trade 4: Return: 1.61%\\u003cextra\\u003e\\u003c\\u002fextra\\u003e\",\"line\":{\"color\":\"green\",\"width\":3},\"marker\":{\"color\":\"green\",\"size\":4},\"mode\":\"lines+markers\",\"name\":\"Trade 4\",\"visible\":true,\"x\":[\"2025-03-05T14:56:00\",\"2025-03-05T14:57:00\",\"2025-03-05T14:58:00\",\"2025-03-05T14:59:00\",\"2025-03-05T15:00:00\",\"2025-03-05T15:01:00\",\"2025-03-05T15:02:00\",\"2025-03-05T15:03:00\",\"2025-03-05T15:04:00\",\"2025-03-05T15:05:00\",\"2025-03-05T15:06:00\",\"2025-03-05T15:07:00\"],\"y\":[135.07,135.17,135.29,135.495,136.15,136.14,136.02,136.5001,136.738,136.68,137.19,137.245],\"type\":\"scatter\"},{\"hoveron\":\"points\",\"hovertemplate\":\"Trade 5: Return: 2.06%\\u003cextra\\u003e\\u003c\\u002fextra\\u003e\",\"line\":{\"color\":\"green\",\"width\":3},\"marker\":{\"color\":\"green\",\"size\":4},\"mode\":\"lines+markers\",\"name\":\"Trade 5\",\"visible\":true,\"x\":[\"2025-03-05T15:24:00\",\"2025-03-05T15:25:00\",\"2025-03-05T15:26:00\",\"2025-03-05T15:27:00\",\"2025-03-05T15:28:00\",\"2025-03-05T15:29:00\",\"2025-03-05T15:30:00\",\"2025-03-05T15:31:00\",\"2025-03-05T15:32:00\",\"2025-03-05T15:33:00\",\"2025-03-05T15:34:00\",\"2025-03-05T15:35:00\",\"2025-03-05T15:36:00\",\"2025-03-05T15:37:00\",\"2025-03-05T15:38:00\",\"2025-03-05T15:39:00\",\"2025-03-05T15:40:00\",\"2025-03-05T15:41:00\",\"2025-03-05T15:42:00\",\"2025-03-05T15:43:00\",\"2025-03-05T15:44:00\",\"2025-03-05T15:45:00\",\"2025-03-05T15:46:00\",\"2025-03-05T15:47:00\",\"2025-03-05T15:48:00\",\"2025-03-05T15:49:00\",\"2025-03-05T15:50:00\",\"2025-03-05T15:51:00\",\"2025-03-05T15:52:00\",\"2025-03-05T15:53:00\",\"2025-03-05T15:54:00\",\"2025-03-05T15:55:00\",\"2025-03-05T15:56:00\",\"2025-03-05T15:57:00\"],\"y\":[136.13,136.2,136.37,136.33,136.3598,136.77,136.75,137.0,137.1097,137.06,137.06,137.7,137.58,137.82,137.98,137.99,137.88,138.106,137.93,138.185,138.2169,138.245,138.43,138.1675,138.31,138.19,138.285,138.5699,138.67,138.2483,138.49,138.825,138.83,138.9298],\"type\":\"scatter\"},{\"hoveron\":\"points\",\"hovertemplate\":\"Trade 6: Return: 1.34%\\u003cextra\\u003e\\u003c\\u002fextra\\u003e\",\"line\":{\"color\":\"green\",\"width\":3},\"marker\":{\"color\":\"green\",\"size\":4},\"mode\":\"lines+markers\",\"name\":\"Trade 6\",\"visible\":true,\"x\":[\"2025-03-05T16:50:00\",\"2025-03-05T16:51:00\",\"2025-03-05T16:52:00\",\"2025-03-05T16:53:00\",\"2025-03-05T16:54:00\",\"2025-03-05T16:55:00\",\"2025-03-05T16:56:00\",\"2025-03-05T16:57:00\",\"2025-03-05T16:58:00\",\"2025-03-05T16:59:00\",\"2025-03-05T17:00:00\",\"2025-03-05T17:01:00\",\"2025-03-05T17:02:00\",\"2025-03-05T17:03:00\",\"2025-03-05T17:04:00\",\"2025-03-05T17:05:00\",\"2025-03-05T17:06:00\",\"2025-03-05T17:07:00\",\"2025-03-05T17:08:00\",\"2025-03-05T17:09:00\",\"2025-03-05T17:10:00\",\"2025-03-05T17:11:00\",\"2025-03-05T17:12:00\",\"2025-03-05T17:13:00\",\"2025-03-05T17:14:00\",\"2025-03-05T17:15:00\",\"2025-03-05T17:16:00\",\"2025-03-05T17:17:00\",\"2025-03-05T17:18:00\",\"2025-03-05T17:19:00\",\"2025-03-05T17:20:00\",\"2025-03-05T17:21:00\",\"2025-03-05T17:22:00\",\"2025-03-05T17:23:00\",\"2025-03-05T17:24:00\",\"2025-03-05T17:25:00\",\"2025-03-05T17:26:00\",\"2025-03-05T17:27:00\",\"2025-03-05T17:28:00\",\"2025-03-05T17:29:00\",\"2025-03-05T17:30:00\",\"2025-03-05T17:31:00\",\"2025-03-05T17:32:00\",\"2025-03-05T17:33:00\",\"2025-03-05T17:34:00\",\"2025-03-05T17:35:00\",\"2025-03-05T17:36:00\",\"2025-03-05T17:37:00\"],\"y\":[138.125,138.29,138.32,138.415,138.6,138.675,138.71,138.89,139.3,139.0081,139.38,139.23,139.26,139.13,139.08,139.065,139.115,139.288,139.16,139.2156,139.23,139.295,139.41,139.7,139.49,139.635,139.67,139.53,139.7,139.4384,139.395,139.28,139.55,139.5,139.6,139.445,139.4302,139.4,139.7311,139.8,139.75,139.8699,139.815,139.93,139.9,139.97,139.86,139.98],\"type\":\"scatter\"},{\"hoveron\":\"points\",\"hovertemplate\":\"Trade 7: Return: 0.72%\\u003cextra\\u003e\\u003c\\u002fextra\\u003e\",\"line\":{\"color\":\"green\",\"width\":3},\"marker\":{\"color\":\"green\",\"size\":4},\"mode\":\"lines+markers\",\"name\":\"Trade 7\",\"visible\":true,\"x\":[\"2025-03-05T18:44:00\",\"2025-03-05T18:45:00\",\"2025-03-05T18:46:00\",\"2025-03-05T18:47:00\",\"2025-03-05T18:48:00\",\"2025-03-05T18:49:00\",\"2025-03-05T18:50:00\",\"2025-03-05T18:51:00\",\"2025-03-05T18:52:00\",\"2025-03-05T18:53:00\",\"2025-03-05T18:54:00\",\"2025-03-05T18:55:00\",\"2025-03-05T18:56:00\",\"2025-03-05T18:57:00\",\"2025-03-05T18:58:00\",\"2025-03-05T18:59:00\"],\"y\":[139.65,139.84,139.89,139.89,140.003,139.955,140.09,140.19,140.19,140.13,140.13,140.2195,140.265,140.355,140.5,140.65],\"type\":\"scatter\"}],                        {\"template\":{\"data\":{\"barpolar\":[{\"marker\":{\"line\":{\"color\":\"white\",\"width\":0.5},\"pattern\":{\"fillmode\":\"overlay\",\"size\":10,\"solidity\":0.2}},\"type\":\"barpolar\"}],\"bar\":[{\"error_x\":{\"color\":\"#2a3f5f\"},\"error_y\":{\"color\":\"#2a3f5f\"},\"marker\":{\"line\":{\"color\":\"white\",\"width\":0.5},\"pattern\":{\"fillmode\":\"overlay\",\"size\":10,\"solidity\":0.2}},\"type\":\"bar\"}],\"carpet\":[{\"aaxis\":{\"endlinecolor\":\"#2a3f5f\",\"gridcolor\":\"#C8D4E3\",\"linecolor\":\"#C8D4E3\",\"minorgridcolor\":\"#C8D4E3\",\"startlinecolor\":\"#2a3f5f\"},\"baxis\":{\"endlinecolor\":\"#2a3f5f\",\"gridcolor\":\"#C8D4E3\",\"linecolor\":\"#C8D4E3\",\"minorgridcolor\":\"#C8D4E3\",\"startlinecolor\":\"#2a3f5f\"},\"type\":\"carpet\"}],\"choropleth\":[{\"colorbar\":{\"outlinewidth\":0,\"ticks\":\"\"},\"type\":\"choropleth\"}],\"contourcarpet\":[{\"colorbar\":{\"outlinewidth\":0,\"ticks\":\"\"},\"type\":\"contourcarpet\"}],\"contour\":[{\"colorbar\":{\"outlinewidth\":0,\"ticks\":\"\"},\"colorscale\":[[0.0,\"#0d0887\"],[0.1111111111111111,\"#46039f\"],[0.2222222222222222,\"#7201a8\"],[0.3333333333333333,\"#9c179e\"],[0.4444444444444444,\"#bd3786\"],[0.5555555555555556,\"#d8576b\"],[0.6666666666666666,\"#ed7953\"],[0.7777777777777778,\"#fb9f3a\"],[0.8888888888888888,\"#fdca26\"],[1.0,\"#f0f921\"]],\"type\":\"contour\"}],\"heatmapgl\":[{\"colorbar\":{\"outlinewidth\":0,\"ticks\":\"\"},\"colorscale\":[[0.0,\"#0d0887\"],[0.1111111111111111,\"#46039f\"],[0.2222222222222222,\"#7201a8\"],[0.3333333333333333,\"#9c179e\"],[0.4444444444444444,\"#bd3786\"],[0.5555555555555556,\"#d8576b\"],[0.6666666666666666,\"#ed7953\"],[0.7777777777777778,\"#fb9f3a\"],[0.8888888888888888,\"#fdca26\"],[1.0,\"#f0f921\"]],\"type\":\"heatmapgl\"}],\"heatmap\":[{\"colorbar\":{\"outlinewidth\":0,\"ticks\":\"\"},\"colorscale\":[[0.0,\"#0d0887\"],[0.1111111111111111,\"#46039f\"],[0.2222222222222222,\"#7201a8\"],[0.3333333333333333,\"#9c179e\"],[0.4444444444444444,\"#bd3786\"],[0.5555555555555556,\"#d8576b\"],[0.6666666666666666,\"#ed7953\"],[0.7777777777777778,\"#fb9f3a\"],[0.8888888888888888,\"#fdca26\"],[1.0,\"#f0f921\"]],\"type\":\"heatmap\"}],\"histogram2dcontour\":[{\"colorbar\":{\"outlinewidth\":0,\"ticks\":\"\"},\"colorscale\":[[0.0,\"#0d0887\"],[0.1111111111111111,\"#46039f\"],[0.2222222222222222,\"#7201a8\"],[0.3333333333333333,\"#9c179e\"],[0.4444444444444444,\"#bd3786\"],[0.5555555555555556,\"#d8576b\"],[0.6666666666666666,\"#ed7953\"],[0.7777777777777778,\"#fb9f3a\"],[0.8888888888888888,\"#fdca26\"],[1.0,\"#f0f921\"]],\"type\":\"histogram2dcontour\"}],\"histogram2d\":[{\"colorbar\":{\"outlinewidth\":0,\"ticks\":\"\"},\"colorscale\":[[0.0,\"#0d0887\"],[0.1111111111111111,\"#46039f\"],[0.2222222222222222,\"#7201a8\"],[0.3333333333333333,\"#9c179e\"],[0.4444444444444444,\"#bd3786\"],[0.5555555555555556,\"#d8576b\"],[0.6666666666666666,\"#ed7953\"],[0.7777777777777778,\"#fb9f3a\"],[0.8888888888888888,\"#fdca26\"],[1.0,\"#f0f921\"]],\"type\":\"histogram2d\"}],\"histogram\":[{\"marker\":{\"pattern\":{\"fillmode\":\"overlay\",\"size\":10,\"solidity\":0.2}},\"type\":\"histogram\"}],\"mesh3d\":[{\"colorbar\":{\"outlinewidth\":0,\"ticks\":\"\"},\"type\":\"mesh3d\"}],\"parcoords\":[{\"line\":{\"colorbar\":{\"outlinewidth\":0,\"ticks\":\"\"}},\"type\":\"parcoords\"}],\"pie\":[{\"automargin\":true,\"type\":\"pie\"}],\"scatter3d\":[{\"line\":{\"colorbar\":{\"outlinewidth\":0,\"ticks\":\"\"}},\"marker\":{\"colorbar\":{\"outlinewidth\":0,\"ticks\":\"\"}},\"type\":\"scatter3d\"}],\"scattercarpet\":[{\"marker\":{\"colorbar\":{\"outlinewidth\":0,\"ticks\":\"\"}},\"type\":\"scattercarpet\"}],\"scattergeo\":[{\"marker\":{\"colorbar\":{\"outlinewidth\":0,\"ticks\":\"\"}},\"type\":\"scattergeo\"}],\"scattergl\":[{\"marker\":{\"colorbar\":{\"outlinewidth\":0,\"ticks\":\"\"}},\"type\":\"scattergl\"}],\"scattermapbox\":[{\"marker\":{\"colorbar\":{\"outlinewidth\":0,\"ticks\":\"\"}},\"type\":\"scattermapbox\"}],\"scatterpolargl\":[{\"marker\":{\"colorbar\":{\"outlinewidth\":0,\"ticks\":\"\"}},\"type\":\"scatterpolargl\"}],\"scatterpolar\":[{\"marker\":{\"colorbar\":{\"outlinewidth\":0,\"ticks\":\"\"}},\"type\":\"scatterpolar\"}],\"scatter\":[{\"fillpattern\":{\"fillmode\":\"overlay\",\"size\":10,\"solidity\":0.2},\"type\":\"scatter\"}],\"scatterternary\":[{\"marker\":{\"colorbar\":{\"outlinewidth\":0,\"ticks\":\"\"}},\"type\":\"scatterternary\"}],\"surface\":[{\"colorbar\":{\"outlinewidth\":0,\"ticks\":\"\"},\"colorscale\":[[0.0,\"#0d0887\"],[0.1111111111111111,\"#46039f\"],[0.2222222222222222,\"#7201a8\"],[0.3333333333333333,\"#9c179e\"],[0.4444444444444444,\"#bd3786\"],[0.5555555555555556,\"#d8576b\"],[0.6666666666666666,\"#ed7953\"],[0.7777777777777778,\"#fb9f3a\"],[0.8888888888888888,\"#fdca26\"],[1.0,\"#f0f921\"]],\"type\":\"surface\"}],\"table\":[{\"cells\":{\"fill\":{\"color\":\"#EBF0F8\"},\"line\":{\"color\":\"white\"}},\"header\":{\"fill\":{\"color\":\"#C8D4E3\"},\"line\":{\"color\":\"white\"}},\"type\":\"table\"}]},\"layout\":{\"annotationdefaults\":{\"arrowcolor\":\"#2a3f5f\",\"arrowhead\":0,\"arrowwidth\":1},\"autotypenumbers\":\"strict\",\"coloraxis\":{\"colorbar\":{\"outlinewidth\":0,\"ticks\":\"\"}},\"colorscale\":{\"diverging\":[[0,\"#8e0152\"],[0.1,\"#c51b7d\"],[0.2,\"#de77ae\"],[0.3,\"#f1b6da\"],[0.4,\"#fde0ef\"],[0.5,\"#f7f7f7\"],[0.6,\"#e6f5d0\"],[0.7,\"#b8e186\"],[0.8,\"#7fbc41\"],[0.9,\"#4d9221\"],[1,\"#276419\"]],\"sequential\":[[0.0,\"#0d0887\"],[0.1111111111111111,\"#46039f\"],[0.2222222222222222,\"#7201a8\"],[0.3333333333333333,\"#9c179e\"],[0.4444444444444444,\"#bd3786\"],[0.5555555555555556,\"#d8576b\"],[0.6666666666666666,\"#ed7953\"],[0.7777777777777778,\"#fb9f3a\"],[0.8888888888888888,\"#fdca26\"],[1.0,\"#f0f921\"]],\"sequentialminus\":[[0.0,\"#0d0887\"],[0.1111111111111111,\"#46039f\"],[0.2222222222222222,\"#7201a8\"],[0.3333333333333333,\"#9c179e\"],[0.4444444444444444,\"#bd3786\"],[0.5555555555555556,\"#d8576b\"],[0.6666666666666666,\"#ed7953\"],[0.7777777777777778,\"#fb9f3a\"],[0.8888888888888888,\"#fdca26\"],[1.0,\"#f0f921\"]]},\"colorway\":[\"#636efa\",\"#EF553B\",\"#00cc96\",\"#ab63fa\",\"#FFA15A\",\"#19d3f3\",\"#FF6692\",\"#B6E880\",\"#FF97FF\",\"#FECB52\"],\"font\":{\"color\":\"#2a3f5f\"},\"geo\":{\"bgcolor\":\"white\",\"lakecolor\":\"white\",\"landcolor\":\"white\",\"showlakes\":true,\"showland\":true,\"subunitcolor\":\"#C8D4E3\"},\"hoverlabel\":{\"align\":\"left\"},\"hovermode\":\"closest\",\"mapbox\":{\"style\":\"light\"},\"paper_bgcolor\":\"white\",\"plot_bgcolor\":\"white\",\"polar\":{\"angularaxis\":{\"gridcolor\":\"#EBF0F8\",\"linecolor\":\"#EBF0F8\",\"ticks\":\"\"},\"bgcolor\":\"white\",\"radialaxis\":{\"gridcolor\":\"#EBF0F8\",\"linecolor\":\"#EBF0F8\",\"ticks\":\"\"}},\"scene\":{\"xaxis\":{\"backgroundcolor\":\"white\",\"gridcolor\":\"#DFE8F3\",\"gridwidth\":2,\"linecolor\":\"#EBF0F8\",\"showbackground\":true,\"ticks\":\"\",\"zerolinecolor\":\"#EBF0F8\"},\"yaxis\":{\"backgroundcolor\":\"white\",\"gridcolor\":\"#DFE8F3\",\"gridwidth\":2,\"linecolor\":\"#EBF0F8\",\"showbackground\":true,\"ticks\":\"\",\"zerolinecolor\":\"#EBF0F8\"},\"zaxis\":{\"backgroundcolor\":\"white\",\"gridcolor\":\"#DFE8F3\",\"gridwidth\":2,\"linecolor\":\"#EBF0F8\",\"showbackground\":true,\"ticks\":\"\",\"zerolinecolor\":\"#EBF0F8\"}},\"shapedefaults\":{\"line\":{\"color\":\"#2a3f5f\"}},\"ternary\":{\"aaxis\":{\"gridcolor\":\"#DFE8F3\",\"linecolor\":\"#A2B1C6\",\"ticks\":\"\"},\"baxis\":{\"gridcolor\":\"#DFE8F3\",\"linecolor\":\"#A2B1C6\",\"ticks\":\"\"},\"bgcolor\":\"white\",\"caxis\":{\"gridcolor\":\"#DFE8F3\",\"linecolor\":\"#A2B1C6\",\"ticks\":\"\"}},\"title\":{\"x\":0.05},\"xaxis\":{\"automargin\":true,\"gridcolor\":\"#EBF0F8\",\"linecolor\":\"#EBF0F8\",\"ticks\":\"\",\"title\":{\"standoff\":15},\"zerolinecolor\":\"#EBF0F8\",\"zerolinewidth\":2},\"yaxis\":{\"automargin\":true,\"gridcolor\":\"#EBF0F8\",\"linecolor\":\"#EBF0F8\",\"ticks\":\"\",\"title\":{\"standoff\":15},\"zerolinecolor\":\"#EBF0F8\",\"zerolinewidth\":2}}},\"updatemenus\":[{\"buttons\":[{\"args\":[{\"visible\":[true,\"legendonly\",\"legendonly\",\"legendonly\",\"legendonly\",\"legendonly\",\"legendonly\",\"legendonly\"]}],\"label\":\"Hide Trades\",\"method\":\"update\"},{\"args\":[{\"visible\":[true,true,true,true,true,true,true,true]}],\"label\":\"Show Trades\",\"method\":\"update\"}],\"direction\":\"left\",\"pad\":{\"r\":10,\"t\":10},\"showactive\":true,\"type\":\"buttons\",\"x\":0.9,\"xanchor\":\"left\",\"y\":1.1,\"yanchor\":\"top\"}],\"hovermode\":\"x unified\",\"title\":{\"text\":\"Close Price with Trade Intervals\"},\"xaxis\":{\"title\":{\"text\":\"Datetime\"}},\"yaxis\":{\"title\":{\"text\":\"Close Price\"}},\"height\":700},                        {\"responsive\": true}                    ).then(function(){\n",
       "                            \n",
       "var gd = document.getElementById('6e5f4c86-dad5-4553-af17-8e856326a5ec');\n",
       "var x = new MutationObserver(function (mutations, observer) {{\n",
       "        var display = window.getComputedStyle(gd).display;\n",
       "        if (!display || display === 'none') {{\n",
       "            console.log([gd, 'removed!']);\n",
       "            Plotly.purge(gd);\n",
       "            observer.disconnect();\n",
       "        }}\n",
       "}});\n",
       "\n",
       "// Listen for the removal of the full notebook cells\n",
       "var notebookContainer = gd.closest('#notebook-container');\n",
       "if (notebookContainer) {{\n",
       "    x.observe(notebookContainer, {childList: true});\n",
       "}}\n",
       "\n",
       "// Listen for the clearing of the current output cell\n",
       "var outputEl = gd.closest('.output');\n",
       "if (outputEl) {{\n",
       "    x.observe(outputEl, {childList: true});\n",
       "}}\n",
       "\n",
       "                        })                };                });            </script>        </div>"
      ]
     },
     "metadata": {},
     "output_type": "display_data"
    }
   ],
   "source": [
    "plot_trades(df_to_check, trade_to_check)"
   ]
  },
  {
   "cell_type": "code",
   "execution_count": null,
   "id": "61c61af3-65ce-4645-897b-fee75ff81f8e",
   "metadata": {},
   "outputs": [],
   "source": []
  },
  {
   "cell_type": "code",
   "execution_count": null,
   "id": "b135e2db-88bd-41b4-b313-53969c1e8dcf",
   "metadata": {},
   "outputs": [],
   "source": []
  },
  {
   "cell_type": "code",
   "execution_count": null,
   "id": "05989e1a-6afb-47f9-9f9e-2d60e9ebc92e",
   "metadata": {},
   "outputs": [],
   "source": []
  }
 ],
 "metadata": {
  "kernelspec": {
   "display_name": "Python 3 (ipykernel)",
   "language": "python",
   "name": "python3"
  },
  "language_info": {
   "codemirror_mode": {
    "name": "ipython",
    "version": 3
   },
   "file_extension": ".py",
   "mimetype": "text/x-python",
   "name": "python",
   "nbconvert_exporter": "python",
   "pygments_lexer": "ipython3",
   "version": "3.10.10"
  }
 },
 "nbformat": 4,
 "nbformat_minor": 5
}
