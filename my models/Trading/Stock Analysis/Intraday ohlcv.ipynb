{
 "cells": [
  {
   "cell_type": "code",
   "execution_count": 1,
   "id": "7173f04e-288c-4a46-8516-89d4f857e690",
   "metadata": {},
   "outputs": [],
   "source": [
    "import os\n",
    "import pandas as pd\n",
    "from eodhd import APIClient\n",
    "from datetime import datetime, timedelta\n",
    "import requests\n",
    "import datetime\n",
    "import pytz\n"
   ]
  },
  {
   "cell_type": "code",
   "execution_count": 2,
   "id": "9da8dc2c-09af-4da3-90d4-4672374851fb",
   "metadata": {},
   "outputs": [
    {
     "data": {
      "text/plain": [
       "'67b5ff99b63306.32749083'"
      ]
     },
     "execution_count": 2,
     "metadata": {},
     "output_type": "execute_result"
    }
   ],
   "source": [
    "api_key = os.getenv('EODHD_API_KEY')\n",
    "api_key"
   ]
  },
  {
   "cell_type": "code",
   "execution_count": 3,
   "id": "1fea4994-5b82-4370-9c34-45cb909fe4e6",
   "metadata": {},
   "outputs": [
    {
     "data": {
      "text/plain": [
       "<eodhd.apiclient.APIClient at 0x23850c7f310>"
      ]
     },
     "execution_count": 3,
     "metadata": {},
     "output_type": "execute_result"
    }
   ],
   "source": [
    "api = APIClient(api_key)\n",
    "api"
   ]
  },
  {
   "cell_type": "code",
   "execution_count": 4,
   "id": "20d7a4b8-e7a8-4f9c-935c-41453974dea7",
   "metadata": {},
   "outputs": [
    {
     "name": "stdout",
     "output_type": "stream",
     "text": [
      "Requesting data from (UTC): 2025-02-01T12:00:00+00:00\n",
      "Until (UTC): 2025-05-15T20:00:00+00:00\n"
     ]
    }
   ],
   "source": [
    "# -------------------------------\n",
    "# Define the trading day time range\n",
    "# -------------------------------\n",
    "\n",
    "# US markets are listed in Eastern Time.\n",
    "et = pytz.timezone(\"US/Eastern\")\n",
    "\n",
    "# To include pre-market (before the official 9:30 AM open), we start early (say, 7:00 AM ET).\n",
    "# And we end at 4:00 PM ET, covering the entire regular session.\n",
    "start_et = et.localize(datetime.datetime(2025, 2, 1, 7, 0, 0))\n",
    "end_et   = et.localize(datetime.datetime(2025, 5, 15, 16, 0, 0))\n",
    "\n",
    "# Convert both start and end times to UTC (the API requires Unix timestamps in UTC)\n",
    "start_utc = start_et.astimezone(pytz.utc)\n",
    "end_utc   = end_et.astimezone(pytz.utc)\n",
    "from_timestamp = int(start_utc.timestamp())\n",
    "to_timestamp   = int(end_utc.timestamp())\n",
    "\n",
    "# Print the calculated times for verification (ISO format)\n",
    "print(\"Requesting data from (UTC):\", start_utc.isoformat())\n",
    "print(\"Until (UTC):\", end_utc.isoformat())\n"
   ]
  },
  {
   "cell_type": "code",
   "execution_count": 5,
   "id": "5ef6d4e7-42ae-48a1-83b6-7b76b29e59e8",
   "metadata": {},
   "outputs": [],
   "source": [
    "# -------------------------------\n",
    "# Construct the API request URL\n",
    "# -------------------------------\n",
    "stock = 'GOOGL'\n",
    "ticker = f'{stock}.US'          # For US tickers, only NYSE and NASDAQ are supported for 1 or 5-minutes data.\n",
    "url = (\n",
    "    f\"https://eodhd.com/api/intraday/{ticker}\"\n",
    "    f\"?interval=1m&api_token={api_key}&fmt=json\"\n",
    "    f\"&from={from_timestamp}&to={to_timestamp}\"\n",
    ")\n"
   ]
  },
  {
   "cell_type": "code",
   "execution_count": 6,
   "id": "929723aa-2e16-4e45-9146-30c19f4e32cf",
   "metadata": {},
   "outputs": [],
   "source": [
    "# -------------------------------\n",
    "# Make the API request and decode the JSON\n",
    "# -------------------------------\n",
    "response = requests.get(url)\n",
    "# Check for errors (optional but recommended)\n",
    "if response.status_code != 200:\n",
    "    print(\"Error fetching data:\", response.status_code)\n",
    "    print(response.text)\n",
    "    exit()\n",
    "\n",
    "data = response.json()"
   ]
  },
  {
   "cell_type": "code",
   "execution_count": 7,
   "id": "80b94fc5-b149-40d1-a02b-42861dbcccd5",
   "metadata": {},
   "outputs": [
    {
     "data": {
      "text/html": [
       "<div>\n",
       "<style scoped>\n",
       "    .dataframe tbody tr th:only-of-type {\n",
       "        vertical-align: middle;\n",
       "    }\n",
       "\n",
       "    .dataframe tbody tr th {\n",
       "        vertical-align: top;\n",
       "    }\n",
       "\n",
       "    .dataframe thead th {\n",
       "        text-align: right;\n",
       "    }\n",
       "</style>\n",
       "<table border=\"1\" class=\"dataframe\">\n",
       "  <thead>\n",
       "    <tr style=\"text-align: right;\">\n",
       "      <th></th>\n",
       "      <th>timestamp</th>\n",
       "      <th>gmtoffset</th>\n",
       "      <th>datetime</th>\n",
       "      <th>open</th>\n",
       "      <th>high</th>\n",
       "      <th>low</th>\n",
       "      <th>close</th>\n",
       "      <th>volume</th>\n",
       "    </tr>\n",
       "  </thead>\n",
       "  <tbody>\n",
       "    <tr>\n",
       "      <th>0</th>\n",
       "      <td>1738573200</td>\n",
       "      <td>0</td>\n",
       "      <td>2025-02-03 09:00:00</td>\n",
       "      <td>200.01000000</td>\n",
       "      <td>200.09000000</td>\n",
       "      <td>198.26000000</td>\n",
       "      <td>200.03000000</td>\n",
       "      <td>5135</td>\n",
       "    </tr>\n",
       "    <tr>\n",
       "      <th>1</th>\n",
       "      <td>1738573260</td>\n",
       "      <td>0</td>\n",
       "      <td>2025-02-03 09:01:00</td>\n",
       "      <td>200.08000000</td>\n",
       "      <td>200.09000000</td>\n",
       "      <td>199.86000000</td>\n",
       "      <td>199.90000000</td>\n",
       "      <td>2165</td>\n",
       "    </tr>\n",
       "    <tr>\n",
       "      <th>2</th>\n",
       "      <td>1738573320</td>\n",
       "      <td>0</td>\n",
       "      <td>2025-02-03 09:02:00</td>\n",
       "      <td>199.91000000</td>\n",
       "      <td>200.00000000</td>\n",
       "      <td>199.46000000</td>\n",
       "      <td>199.88000000</td>\n",
       "      <td>4996</td>\n",
       "    </tr>\n",
       "    <tr>\n",
       "      <th>3</th>\n",
       "      <td>1738573380</td>\n",
       "      <td>0</td>\n",
       "      <td>2025-02-03 09:03:00</td>\n",
       "      <td>199.77000000</td>\n",
       "      <td>200.09000000</td>\n",
       "      <td>199.75000000</td>\n",
       "      <td>199.84000000</td>\n",
       "      <td>5094</td>\n",
       "    </tr>\n",
       "    <tr>\n",
       "      <th>4</th>\n",
       "      <td>1738573440</td>\n",
       "      <td>0</td>\n",
       "      <td>2025-02-03 09:04:00</td>\n",
       "      <td>199.90000000</td>\n",
       "      <td>200.01000000</td>\n",
       "      <td>199.80000000</td>\n",
       "      <td>200.00000000</td>\n",
       "      <td>2940</td>\n",
       "    </tr>\n",
       "    <tr>\n",
       "      <th>...</th>\n",
       "      <td>...</td>\n",
       "      <td>...</td>\n",
       "      <td>...</td>\n",
       "      <td>...</td>\n",
       "      <td>...</td>\n",
       "      <td>...</td>\n",
       "      <td>...</td>\n",
       "      <td>...</td>\n",
       "    </tr>\n",
       "    <tr>\n",
       "      <th>68603</th>\n",
       "      <td>1747338960</td>\n",
       "      <td>0</td>\n",
       "      <td>2025-05-15 19:56:00</td>\n",
       "      <td>163.55000000</td>\n",
       "      <td>163.76000000</td>\n",
       "      <td>163.52000000</td>\n",
       "      <td>163.73000000</td>\n",
       "      <td>210190</td>\n",
       "    </tr>\n",
       "    <tr>\n",
       "      <th>68604</th>\n",
       "      <td>1747339020</td>\n",
       "      <td>0</td>\n",
       "      <td>2025-05-15 19:57:00</td>\n",
       "      <td>163.73000000</td>\n",
       "      <td>163.88000000</td>\n",
       "      <td>163.68000000</td>\n",
       "      <td>163.86500000</td>\n",
       "      <td>359239</td>\n",
       "    </tr>\n",
       "    <tr>\n",
       "      <th>68605</th>\n",
       "      <td>1747339080</td>\n",
       "      <td>0</td>\n",
       "      <td>2025-05-15 19:58:00</td>\n",
       "      <td>163.87000000</td>\n",
       "      <td>163.94000000</td>\n",
       "      <td>163.80000000</td>\n",
       "      <td>163.84500000</td>\n",
       "      <td>344882</td>\n",
       "    </tr>\n",
       "    <tr>\n",
       "      <th>68606</th>\n",
       "      <td>1747339140</td>\n",
       "      <td>0</td>\n",
       "      <td>2025-05-15 19:59:00</td>\n",
       "      <td>163.85000000</td>\n",
       "      <td>164.00000000</td>\n",
       "      <td>163.72500000</td>\n",
       "      <td>163.94000000</td>\n",
       "      <td>937597</td>\n",
       "    </tr>\n",
       "    <tr>\n",
       "      <th>68607</th>\n",
       "      <td>1747339200</td>\n",
       "      <td>0</td>\n",
       "      <td>2025-05-15 20:00:00</td>\n",
       "      <td>163.94000000</td>\n",
       "      <td>164.00000000</td>\n",
       "      <td>163.45000000</td>\n",
       "      <td>164.00000000</td>\n",
       "      <td>5788572</td>\n",
       "    </tr>\n",
       "  </tbody>\n",
       "</table>\n",
       "<p>68608 rows × 8 columns</p>\n",
       "</div>"
      ],
      "text/plain": [
       "        timestamp  gmtoffset             datetime         open         high  \\\n",
       "0      1738573200          0  2025-02-03 09:00:00 200.01000000 200.09000000   \n",
       "1      1738573260          0  2025-02-03 09:01:00 200.08000000 200.09000000   \n",
       "2      1738573320          0  2025-02-03 09:02:00 199.91000000 200.00000000   \n",
       "3      1738573380          0  2025-02-03 09:03:00 199.77000000 200.09000000   \n",
       "4      1738573440          0  2025-02-03 09:04:00 199.90000000 200.01000000   \n",
       "...           ...        ...                  ...          ...          ...   \n",
       "68603  1747338960          0  2025-05-15 19:56:00 163.55000000 163.76000000   \n",
       "68604  1747339020          0  2025-05-15 19:57:00 163.73000000 163.88000000   \n",
       "68605  1747339080          0  2025-05-15 19:58:00 163.87000000 163.94000000   \n",
       "68606  1747339140          0  2025-05-15 19:59:00 163.85000000 164.00000000   \n",
       "68607  1747339200          0  2025-05-15 20:00:00 163.94000000 164.00000000   \n",
       "\n",
       "               low        close   volume  \n",
       "0     198.26000000 200.03000000     5135  \n",
       "1     199.86000000 199.90000000     2165  \n",
       "2     199.46000000 199.88000000     4996  \n",
       "3     199.75000000 199.84000000     5094  \n",
       "4     199.80000000 200.00000000     2940  \n",
       "...            ...          ...      ...  \n",
       "68603 163.52000000 163.73000000   210190  \n",
       "68604 163.68000000 163.86500000   359239  \n",
       "68605 163.80000000 163.84500000   344882  \n",
       "68606 163.72500000 163.94000000   937597  \n",
       "68607 163.45000000 164.00000000  5788572  \n",
       "\n",
       "[68608 rows x 8 columns]"
      ]
     },
     "execution_count": 7,
     "metadata": {},
     "output_type": "execute_result"
    }
   ],
   "source": [
    "# -------------------------------\n",
    "# Convert the response into a DataFrame and make the dates readable\n",
    "# -------------------------------\n",
    "df = pd.DataFrame(data)\n",
    "df.to_csv(f'G:/My Drive/Ingegneria/Data Science GD/My-Practice/my models/Trading/Stock Analysis/Intraday stocks/{stock}.csv')\n",
    "df"
   ]
  },
  {
   "cell_type": "code",
   "execution_count": null,
   "id": "170eb1f2-c8dd-4a2a-872b-b98f873bbf01",
   "metadata": {},
   "outputs": [],
   "source": []
  },
  {
   "cell_type": "code",
   "execution_count": null,
   "id": "fee27944-82cb-4b3b-b765-4008414fe8b8",
   "metadata": {},
   "outputs": [],
   "source": []
  },
  {
   "cell_type": "code",
   "execution_count": null,
   "id": "47e60ac1-76dd-48de-a637-f7f0c6324bb8",
   "metadata": {},
   "outputs": [],
   "source": []
  }
 ],
 "metadata": {
  "kernelspec": {
   "display_name": "Python 3 (ipykernel)",
   "language": "python",
   "name": "python3"
  },
  "language_info": {
   "codemirror_mode": {
    "name": "ipython",
    "version": 3
   },
   "file_extension": ".py",
   "mimetype": "text/x-python",
   "name": "python",
   "nbconvert_exporter": "python",
   "pygments_lexer": "ipython3",
   "version": "3.10.10"
  }
 },
 "nbformat": 4,
 "nbformat_minor": 5
}
