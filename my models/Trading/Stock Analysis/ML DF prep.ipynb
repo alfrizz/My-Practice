{
 "cells": [
  {
   "cell_type": "code",
   "execution_count": 1,
   "id": "35445790-eaab-428e-9fb9-1d07594ee3b6",
   "metadata": {},
   "outputs": [],
   "source": [
    "import pandas as pd\n",
    "import numpy as np\n",
    "import matplotlib.pyplot as plt\n",
    "import plotly.graph_objects as go\n",
    "from scipy.signal import argrelextrema\n",
    "from IPython.display import display, HTML\n",
    "\n",
    "\n",
    "pd.set_option('display.max_columns', None)\n",
    "# pd.set_option('display.max_rows', None)\n"
   ]
  },
  {
   "cell_type": "code",
   "execution_count": 2,
   "id": "337378d7-46d5-428c-a46d-3b7c5658aace",
   "metadata": {},
   "outputs": [
    {
     "data": {
      "text/html": [
       "<div>\n",
       "<style scoped>\n",
       "    .dataframe tbody tr th:only-of-type {\n",
       "        vertical-align: middle;\n",
       "    }\n",
       "\n",
       "    .dataframe tbody tr th {\n",
       "        vertical-align: top;\n",
       "    }\n",
       "\n",
       "    .dataframe thead th {\n",
       "        text-align: right;\n",
       "    }\n",
       "</style>\n",
       "<table border=\"1\" class=\"dataframe\">\n",
       "  <thead>\n",
       "    <tr style=\"text-align: right;\">\n",
       "      <th></th>\n",
       "      <th>timestamp</th>\n",
       "      <th>gmtoffset</th>\n",
       "      <th>datetime</th>\n",
       "      <th>open</th>\n",
       "      <th>high</th>\n",
       "      <th>low</th>\n",
       "      <th>close</th>\n",
       "      <th>volume</th>\n",
       "    </tr>\n",
       "  </thead>\n",
       "  <tbody>\n",
       "    <tr>\n",
       "      <th>0</th>\n",
       "      <td>1738573200</td>\n",
       "      <td>0</td>\n",
       "      <td>2025-02-03 09:00:00</td>\n",
       "      <td>96.3300</td>\n",
       "      <td>97.7500</td>\n",
       "      <td>95.00</td>\n",
       "      <td>96.12</td>\n",
       "      <td>75147</td>\n",
       "    </tr>\n",
       "    <tr>\n",
       "      <th>1</th>\n",
       "      <td>1738573260</td>\n",
       "      <td>0</td>\n",
       "      <td>2025-02-03 09:01:00</td>\n",
       "      <td>96.1200</td>\n",
       "      <td>96.7500</td>\n",
       "      <td>96.12</td>\n",
       "      <td>96.70</td>\n",
       "      <td>10042</td>\n",
       "    </tr>\n",
       "    <tr>\n",
       "      <th>2</th>\n",
       "      <td>1738573320</td>\n",
       "      <td>0</td>\n",
       "      <td>2025-02-03 09:02:00</td>\n",
       "      <td>96.4700</td>\n",
       "      <td>96.4700</td>\n",
       "      <td>96.04</td>\n",
       "      <td>96.13</td>\n",
       "      <td>10783</td>\n",
       "    </tr>\n",
       "    <tr>\n",
       "      <th>3</th>\n",
       "      <td>1738573380</td>\n",
       "      <td>0</td>\n",
       "      <td>2025-02-03 09:03:00</td>\n",
       "      <td>96.1900</td>\n",
       "      <td>96.5600</td>\n",
       "      <td>96.00</td>\n",
       "      <td>96.47</td>\n",
       "      <td>19854</td>\n",
       "    </tr>\n",
       "    <tr>\n",
       "      <th>4</th>\n",
       "      <td>1738573440</td>\n",
       "      <td>0</td>\n",
       "      <td>2025-02-03 09:04:00</td>\n",
       "      <td>96.5600</td>\n",
       "      <td>96.6500</td>\n",
       "      <td>96.31</td>\n",
       "      <td>96.37</td>\n",
       "      <td>17854</td>\n",
       "    </tr>\n",
       "    <tr>\n",
       "      <th>...</th>\n",
       "      <td>...</td>\n",
       "      <td>...</td>\n",
       "      <td>...</td>\n",
       "      <td>...</td>\n",
       "      <td>...</td>\n",
       "      <td>...</td>\n",
       "      <td>...</td>\n",
       "      <td>...</td>\n",
       "    </tr>\n",
       "    <tr>\n",
       "      <th>67296</th>\n",
       "      <td>1747338960</td>\n",
       "      <td>0</td>\n",
       "      <td>2025-05-15 19:56:00</td>\n",
       "      <td>123.7800</td>\n",
       "      <td>123.9200</td>\n",
       "      <td>123.73</td>\n",
       "      <td>123.88</td>\n",
       "      <td>172458</td>\n",
       "    </tr>\n",
       "    <tr>\n",
       "      <th>67297</th>\n",
       "      <td>1747339020</td>\n",
       "      <td>0</td>\n",
       "      <td>2025-05-15 19:57:00</td>\n",
       "      <td>123.8800</td>\n",
       "      <td>123.9900</td>\n",
       "      <td>123.85</td>\n",
       "      <td>123.99</td>\n",
       "      <td>215741</td>\n",
       "    </tr>\n",
       "    <tr>\n",
       "      <th>67298</th>\n",
       "      <td>1747339080</td>\n",
       "      <td>0</td>\n",
       "      <td>2025-05-15 19:58:00</td>\n",
       "      <td>123.9900</td>\n",
       "      <td>124.0400</td>\n",
       "      <td>123.90</td>\n",
       "      <td>123.90</td>\n",
       "      <td>230037</td>\n",
       "    </tr>\n",
       "    <tr>\n",
       "      <th>67299</th>\n",
       "      <td>1747339140</td>\n",
       "      <td>0</td>\n",
       "      <td>2025-05-15 19:59:00</td>\n",
       "      <td>123.9075</td>\n",
       "      <td>123.9800</td>\n",
       "      <td>123.84</td>\n",
       "      <td>123.95</td>\n",
       "      <td>300273</td>\n",
       "    </tr>\n",
       "    <tr>\n",
       "      <th>67300</th>\n",
       "      <td>1747339200</td>\n",
       "      <td>0</td>\n",
       "      <td>2025-05-15 20:00:00</td>\n",
       "      <td>123.9500</td>\n",
       "      <td>123.9999</td>\n",
       "      <td>123.82</td>\n",
       "      <td>123.96</td>\n",
       "      <td>2065849</td>\n",
       "    </tr>\n",
       "  </tbody>\n",
       "</table>\n",
       "<p>67301 rows × 8 columns</p>\n",
       "</div>"
      ],
      "text/plain": [
       "        timestamp  gmtoffset            datetime      open      high     low  \\\n",
       "0      1738573200          0 2025-02-03 09:00:00   96.3300   97.7500   95.00   \n",
       "1      1738573260          0 2025-02-03 09:01:00   96.1200   96.7500   96.12   \n",
       "2      1738573320          0 2025-02-03 09:02:00   96.4700   96.4700   96.04   \n",
       "3      1738573380          0 2025-02-03 09:03:00   96.1900   96.5600   96.00   \n",
       "4      1738573440          0 2025-02-03 09:04:00   96.5600   96.6500   96.31   \n",
       "...           ...        ...                 ...       ...       ...     ...   \n",
       "67296  1747338960          0 2025-05-15 19:56:00  123.7800  123.9200  123.73   \n",
       "67297  1747339020          0 2025-05-15 19:57:00  123.8800  123.9900  123.85   \n",
       "67298  1747339080          0 2025-05-15 19:58:00  123.9900  124.0400  123.90   \n",
       "67299  1747339140          0 2025-05-15 19:59:00  123.9075  123.9800  123.84   \n",
       "67300  1747339200          0 2025-05-15 20:00:00  123.9500  123.9999  123.82   \n",
       "\n",
       "        close   volume  \n",
       "0       96.12    75147  \n",
       "1       96.70    10042  \n",
       "2       96.13    10783  \n",
       "3       96.47    19854  \n",
       "4       96.37    17854  \n",
       "...       ...      ...  \n",
       "67296  123.88   172458  \n",
       "67297  123.99   215741  \n",
       "67298  123.90   230037  \n",
       "67299  123.95   300273  \n",
       "67300  123.96  2065849  \n",
       "\n",
       "[67301 rows x 8 columns]"
      ]
     },
     "execution_count": 2,
     "metadata": {},
     "output_type": "execute_result"
    }
   ],
   "source": [
    "df = pd.read_csv('Intraday stocks/BABA.csv', index_col=0, parse_dates=[\"datetime\"])\n",
    "df"
   ]
  },
  {
   "cell_type": "code",
   "execution_count": 3,
   "id": "ce1e645c-545a-429a-b66a-e1e1bd129f9b",
   "metadata": {},
   "outputs": [],
   "source": [
    "df_close = df[['datetime', 'close']].set_index('datetime')"
   ]
  },
  {
   "cell_type": "code",
   "execution_count": 4,
   "id": "ab9c909f-f9da-45c6-a292-c9c3ef7798f9",
   "metadata": {},
   "outputs": [
    {
     "data": {
      "text/html": [
       "<div>\n",
       "<style scoped>\n",
       "    .dataframe tbody tr th:only-of-type {\n",
       "        vertical-align: middle;\n",
       "    }\n",
       "\n",
       "    .dataframe tbody tr th {\n",
       "        vertical-align: top;\n",
       "    }\n",
       "\n",
       "    .dataframe thead th {\n",
       "        text-align: right;\n",
       "    }\n",
       "</style>\n",
       "<table border=\"1\" class=\"dataframe\">\n",
       "  <thead>\n",
       "    <tr style=\"text-align: right;\">\n",
       "      <th></th>\n",
       "      <th>close</th>\n",
       "    </tr>\n",
       "    <tr>\n",
       "      <th>datetime</th>\n",
       "      <th></th>\n",
       "    </tr>\n",
       "  </thead>\n",
       "  <tbody>\n",
       "    <tr>\n",
       "      <th>2025-02-03 09:00:00</th>\n",
       "      <td>96.12</td>\n",
       "    </tr>\n",
       "    <tr>\n",
       "      <th>2025-02-03 09:01:00</th>\n",
       "      <td>96.70</td>\n",
       "    </tr>\n",
       "    <tr>\n",
       "      <th>2025-02-03 09:02:00</th>\n",
       "      <td>96.13</td>\n",
       "    </tr>\n",
       "    <tr>\n",
       "      <th>2025-02-03 09:03:00</th>\n",
       "      <td>96.47</td>\n",
       "    </tr>\n",
       "    <tr>\n",
       "      <th>2025-02-03 09:04:00</th>\n",
       "      <td>96.37</td>\n",
       "    </tr>\n",
       "    <tr>\n",
       "      <th>...</th>\n",
       "      <td>...</td>\n",
       "    </tr>\n",
       "    <tr>\n",
       "      <th>2025-05-15 19:56:00</th>\n",
       "      <td>123.88</td>\n",
       "    </tr>\n",
       "    <tr>\n",
       "      <th>2025-05-15 19:57:00</th>\n",
       "      <td>123.99</td>\n",
       "    </tr>\n",
       "    <tr>\n",
       "      <th>2025-05-15 19:58:00</th>\n",
       "      <td>123.90</td>\n",
       "    </tr>\n",
       "    <tr>\n",
       "      <th>2025-05-15 19:59:00</th>\n",
       "      <td>123.95</td>\n",
       "    </tr>\n",
       "    <tr>\n",
       "      <th>2025-05-15 20:00:00</th>\n",
       "      <td>123.96</td>\n",
       "    </tr>\n",
       "  </tbody>\n",
       "</table>\n",
       "<p>67301 rows × 1 columns</p>\n",
       "</div>"
      ],
      "text/plain": [
       "                      close\n",
       "datetime                   \n",
       "2025-02-03 09:00:00   96.12\n",
       "2025-02-03 09:01:00   96.70\n",
       "2025-02-03 09:02:00   96.13\n",
       "2025-02-03 09:03:00   96.47\n",
       "2025-02-03 09:04:00   96.37\n",
       "...                     ...\n",
       "2025-05-15 19:56:00  123.88\n",
       "2025-05-15 19:57:00  123.99\n",
       "2025-05-15 19:58:00  123.90\n",
       "2025-05-15 19:59:00  123.95\n",
       "2025-05-15 20:00:00  123.96\n",
       "\n",
       "[67301 rows x 1 columns]"
      ]
     },
     "execution_count": 4,
     "metadata": {},
     "output_type": "execute_result"
    },
    {
     "data": {
      "image/png": "[encoded data removed]",
      "text/plain": [
       "<Figure size 640x480 with 1 Axes>"
      ]
     },
     "metadata": {},
     "output_type": "display_data"
    }
   ],
   "source": [
    "start_day = '2025-02-01'\n",
    "end_day   = '2025-06-01'\n",
    "\n",
    "df_train = df_close.loc[start_day:end_day]\n",
    "\n",
    "plt.plot(df_train)\n",
    "df_train"
   ]
  },
  {
   "cell_type": "code",
   "execution_count": 5,
   "id": "7e02f1ec-0ee3-4074-bf06-a8a69f9a113a",
   "metadata": {},
   "outputs": [],
   "source": [
    "# Dataset is shifted by +4 hours.\n",
    "# Therefore, adjust the times like so:\n",
    "PREMARKET_START = '08:00'   # 04:00 ET + 4 hours\n",
    "PREMARKET_END   = '13:30'   # 09:30 ET + 4 hours\n",
    "REGULAR_START   = '13:30'   # 09:30 ET + 4 hours\n",
    "REGULAR_END     = '20:00'   # 16:00 ET + 4 hours\n",
    "AFTERHOURS_START = '20:00'   # 16:00 ET + 4 hours\n",
    "AFTERHOURS_END   = '00:00'   # 20:00 ET + 4 hours\n"
   ]
  },
  {
   "cell_type": "code",
   "execution_count": 6,
   "id": "c968f2f7-48c8-466e-9ad0-223a76f484ab",
   "metadata": {},
   "outputs": [
    {
     "data": {
      "text/html": [
       "<div>\n",
       "<style scoped>\n",
       "    .dataframe tbody tr th:only-of-type {\n",
       "        vertical-align: middle;\n",
       "    }\n",
       "\n",
       "    .dataframe tbody tr th {\n",
       "        vertical-align: top;\n",
       "    }\n",
       "\n",
       "    .dataframe thead th {\n",
       "        text-align: right;\n",
       "    }\n",
       "</style>\n",
       "<table border=\"1\" class=\"dataframe\">\n",
       "  <thead>\n",
       "    <tr style=\"text-align: right;\">\n",
       "      <th></th>\n",
       "      <th>close</th>\n",
       "    </tr>\n",
       "    <tr>\n",
       "      <th>datetime</th>\n",
       "      <th></th>\n",
       "    </tr>\n",
       "  </thead>\n",
       "  <tbody>\n",
       "    <tr>\n",
       "      <th>2025-04-03 13:30:00</th>\n",
       "      <td>125.860</td>\n",
       "    </tr>\n",
       "    <tr>\n",
       "      <th>2025-04-03 13:31:00</th>\n",
       "      <td>127.155</td>\n",
       "    </tr>\n",
       "    <tr>\n",
       "      <th>2025-04-03 13:32:00</th>\n",
       "      <td>128.600</td>\n",
       "    </tr>\n",
       "    <tr>\n",
       "      <th>2025-04-03 13:33:00</th>\n",
       "      <td>127.930</td>\n",
       "    </tr>\n",
       "    <tr>\n",
       "      <th>2025-04-03 13:34:00</th>\n",
       "      <td>127.950</td>\n",
       "    </tr>\n",
       "    <tr>\n",
       "      <th>...</th>\n",
       "      <td>...</td>\n",
       "    </tr>\n",
       "    <tr>\n",
       "      <th>2025-04-03 19:56:00</th>\n",
       "      <td>129.270</td>\n",
       "    </tr>\n",
       "    <tr>\n",
       "      <th>2025-04-03 19:57:00</th>\n",
       "      <td>129.200</td>\n",
       "    </tr>\n",
       "    <tr>\n",
       "      <th>2025-04-03 19:58:00</th>\n",
       "      <td>129.355</td>\n",
       "    </tr>\n",
       "    <tr>\n",
       "      <th>2025-04-03 19:59:00</th>\n",
       "      <td>129.390</td>\n",
       "    </tr>\n",
       "    <tr>\n",
       "      <th>2025-04-03 20:00:00</th>\n",
       "      <td>129.350</td>\n",
       "    </tr>\n",
       "  </tbody>\n",
       "</table>\n",
       "<p>391 rows × 1 columns</p>\n",
       "</div>"
      ],
      "text/plain": [
       "                       close\n",
       "datetime                    \n",
       "2025-04-03 13:30:00  125.860\n",
       "2025-04-03 13:31:00  127.155\n",
       "2025-04-03 13:32:00  128.600\n",
       "2025-04-03 13:33:00  127.930\n",
       "2025-04-03 13:34:00  127.950\n",
       "...                      ...\n",
       "2025-04-03 19:56:00  129.270\n",
       "2025-04-03 19:57:00  129.200\n",
       "2025-04-03 19:58:00  129.355\n",
       "2025-04-03 19:59:00  129.390\n",
       "2025-04-03 20:00:00  129.350\n",
       "\n",
       "[391 rows x 1 columns]"
      ]
     },
     "execution_count": 6,
     "metadata": {},
     "output_type": "execute_result"
    },
    {
     "data": {
      "image/png": "[encoded data removed]",
      "text/plain": [
       "<Figure size 640x480 with 1 Axes>"
      ]
     },
     "metadata": {},
     "output_type": "display_data"
    }
   ],
   "source": [
    "start_day = '2025-04-03'\n",
    "end_day   = '2025-04-03'\n",
    "\n",
    "df_test = df_close.loc[start_day:end_day]\n",
    "df_test = df_test.between_time(REGULAR_START, REGULAR_END)\n",
    "\n",
    "plt.plot(df_test)\n",
    "df_test"
   ]
  },
  {
   "cell_type": "code",
   "execution_count": 7,
   "id": "4c97398c-c1f7-4fde-876c-48b3a52afde3",
   "metadata": {},
   "outputs": [],
   "source": [
    "# def generate_candidate_trades(df, order=1, min_gain=0.0):\n",
    "#     \"\"\"\n",
    "#     Identify candidate trades (buy/sell pairs) based on local minima.\n",
    "    \n",
    "#     Instead of pairing each local minimum with the immediately following local maximum,\n",
    "#     this version treats each local minimum as a candidate buy point and defines the trade \n",
    "#     segment from that local minimum to (but not including) the next local minimum (or to the end\n",
    "#     of the series if none exists). It then uses the last close in that segment as the sell price.\n",
    "    \n",
    "#     A candidate trade is given by a tuple:\n",
    "#        ((buy_date, sell_date), (buy_close, sell_close), profit_percent)\n",
    "#     where profit_percent is computed as:\n",
    "#        profit_percent = ((sell_close / buy_close) - 1) * 100, \n",
    "#        rounded to 3 decimals.\n",
    "       \n",
    "#     Only candidate trades with a positive profit (and optionally above a specified\n",
    "#     min_gain threshold) are returned.\n",
    "    \n",
    "#     Parameters:\n",
    "#       df      : pd.DataFrame\n",
    "#                 Must contain a 'close' column. Its index should be datetime.\n",
    "#       order   : int\n",
    "#                 Number of neighbors to consider when finding local extrema.\n",
    "#       min_gain: float\n",
    "#                 The minimum profit percentage (actual percentage value) that a trade must\n",
    "#                 have to be kept. For example, 1.0 means only trades with at least a 1% profit.\n",
    "                \n",
    "#     Returns:\n",
    "#       trades : list of tuples\n",
    "#          Each tuple is ((buy_date, sell_date), (buy_close, sell_close), profit_percent).\n",
    "#     \"\"\"\n",
    "#     closes = df['close'].values\n",
    "#     indices = np.arange(len(closes))\n",
    "#     # Identify local minima indices using the given order.\n",
    "#     local_mins = argrelextrema(closes, np.less, order=order)[0]\n",
    "    \n",
    "#     trades = []\n",
    "#     # Loop over each candidate buy (local min).\n",
    "#     for idx, buy_idx in enumerate(local_mins):\n",
    "#         # Determine the boundary for this trade segment.\n",
    "#         # If there is a next local min, use its index as the end;\n",
    "#         # otherwise, use the full length of the series.\n",
    "#         if idx < len(local_mins) - 1:\n",
    "#             end_idx = local_mins[idx + 1]\n",
    "#         else:\n",
    "#             end_idx = len(closes)\n",
    "        \n",
    "#         # The candidate sell is taken as the last close in the segment.\n",
    "#         sell_idx = end_idx - 1\n",
    "#         buy_price = closes[buy_idx]\n",
    "#         sell_price = closes[sell_idx]\n",
    "#         profit = (sell_price / buy_price) - 1  # profit in decimal form\n",
    "#         profit_percent = round(profit * 100, 3)  # convert to percentage and round\n",
    "        \n",
    "#         # Only add the trade if it has a positive profit and meets min_gain.\n",
    "#         if profit > 0 and profit_percent >= min_gain:\n",
    "#             buy_date = df.index[buy_idx]\n",
    "#             sell_date = df.index[sell_idx]\n",
    "#             trades.append(((buy_date, sell_date), (buy_price, sell_price), profit_percent))\n",
    "    \n",
    "#     return trades\n"
   ]
  },
  {
   "cell_type": "code",
   "execution_count": 8,
   "id": "3ebbc5b2-159c-4c65-96d2-727548c7f1f2",
   "metadata": {},
   "outputs": [],
   "source": [
    "def generate_candidate_trades(df, window, min_return):\n",
    "    \"\"\"\n",
    "    Generate candidate trades treating every data point as a potential entry.\n",
    "    \n",
    "    For each time point t, the future return over the next 'window' steps is computed as:\n",
    "         future_return = (price[t+window-1] / price[t]) - 1\n",
    "    If this return exceeds min_return, the trade is kept.\n",
    "    \n",
    "    Each trade is represented as:\n",
    "         ((buy_date, sell_date), (buy_price, sell_price), profit_percent)\n",
    "    where profit_percent is computed as ((sell_price / buy_price) - 1) * 100 (rounded to 3 decimals).\n",
    "    \n",
    "    Parameters:\n",
    "      df         : pd.DataFrame with a 'close' column; index should be datetime.\n",
    "      window     : int, the lookahead window (number of time steps).\n",
    "      min_return : float, the minimum required return (decimal, e.g. 0.01 for 1%).\n",
    "    \n",
    "    Returns:\n",
    "      trades     : list of tuples in the form \n",
    "                   ((buy_date, sell_date), (buy_price, sell_price), profit_percent)\n",
    "    \"\"\"\n",
    "    trades = []\n",
    "    closes = df['close'].values\n",
    "    n = len(closes)\n",
    "    for i in range(n - window + 1):\n",
    "        buy_price = closes[i]\n",
    "        sell_price = closes[i + window - 1]\n",
    "        profit = (sell_price / buy_price) - 1\n",
    "        if profit > min_return:\n",
    "            profit_percent = round(profit * 100, 3)\n",
    "            buy_date = df.index[i]\n",
    "            sell_date = df.index[i + window - 1]\n",
    "            trades.append(((buy_date, sell_date), (buy_price, sell_price), profit_percent))\n",
    "    return trades\n",
    "\n"
   ]
  },
  {
   "cell_type": "code",
   "execution_count": 9,
   "id": "fdef01a2-4b5e-496e-828c-00e894f0c36c",
   "metadata": {},
   "outputs": [],
   "source": [
    "def optimize_window(df, min_window=3, max_window=30, epsilon=1e-8, penalty_base_exponent=0.5, penalty_factor=1.0):\n",
    "    \"\"\"\n",
    "    Optimize the window size by picking the window that maximizes an adjusted Sharpe ratio.\n",
    "    \n",
    "    For each candidate window w in [min_window, max_window]:\n",
    "      1. Generate candidate trades (using all available trades, no min_return filter).\n",
    "      2. Compute the normalized per-period return:\n",
    "             norm_return = (sell_price / buy_price)^(1.0 / w) - 1.\n",
    "      3. Compute the Sharpe ratio for these normalized returns.\n",
    "    \n",
    "    Then, compute a dynamic penalty based on the overall trend in the training data:\n",
    "    \n",
    "         - First, compute a simple trend indicator from the \"close\" prices:\n",
    "               trend_indicator = (last_close - first_close) / first_close.\n",
    "         - Calculate a dynamic exponent:\n",
    "               dynamic_exponent = penalty_base_exponent * (1 + penalty_factor * trend_indicator)\n",
    "         - Calculate the dynamic penalty:\n",
    "               dynamic_penalty = w^(dynamic_exponent)\n",
    "    \n",
    "    Finally, the adjusted metric is:\n",
    "         adjusted_metric = Sharpe ratio / dynamic_penalty.\n",
    "    \n",
    "    If the trend is upward, dynamic_exponent increases and longer windows are penalized more.\n",
    "    If the trend is downward, the penalty is lighter so that shorter windows aren’t overfavored.\n",
    "    \n",
    "    Parameters:\n",
    "      df                 : pd.DataFrame with a 'close' column (index should be datetime).\n",
    "      min_window         : int, minimum window size (number of candlesticks, default 3).\n",
    "      max_window         : int, maximum window size to consider (default 30).\n",
    "      epsilon            : small constant to prevent division by zero.\n",
    "      penalty_base_exponent : Base exponent for penalizing longer windows (e.g., 0.5).\n",
    "      penalty_factor     : Scale factor for how strongly the trend affects the penalty (default 1.0).\n",
    "      \n",
    "    Returns:\n",
    "      best_window : The window size with the highest adjusted metric.\n",
    "      metrics     : A dict mapping each tested window size to its adjusted metric.\n",
    "    \"\"\"\n",
    "    # Compute a simple trend indicator from the 'close' column:\n",
    "    first_price = df['close'].iloc[0]\n",
    "    last_price = df['close'].iloc[-1]\n",
    "    trend_indicator = (last_price - first_price) / first_price  # positive if upward trending\n",
    "    \n",
    "    best_window = None\n",
    "    best_metric = -np.inf\n",
    "    metrics = {}\n",
    "    \n",
    "    for w in range(min_window, max_window + 1):\n",
    "        # Generate candidate trades for window w.\n",
    "        trades = generate_candidate_trades(df, window=w, min_return=-float('inf'))\n",
    "        \n",
    "        if len(trades) == 0:\n",
    "            adjusted_metric = -np.inf\n",
    "        else:\n",
    "            norm_returns = []\n",
    "            for trade in trades:\n",
    "                # Each trade is expected in the format:\n",
    "                # ((buy_date, sell_date), (buy_price, sell_price), profit_percent)\n",
    "                (_, (buy_price, sell_price), _) = trade\n",
    "                norm_ret = (sell_price / buy_price)**(1.0 / w) - 1\n",
    "                norm_returns.append(norm_ret)\n",
    "            \n",
    "            norm_returns = np.array(norm_returns)\n",
    "            avg_norm = np.mean(norm_returns)\n",
    "            std_norm = np.std(norm_returns)\n",
    "            sharpe = avg_norm / (std_norm + epsilon)\n",
    "            \n",
    "            # Compute the dynamic penalty factor:\n",
    "            dynamic_exponent = penalty_base_exponent * (1 + penalty_factor * trend_indicator)\n",
    "            dynamic_penalty = w ** dynamic_exponent\n",
    "            adjusted_metric = sharpe / dynamic_penalty\n",
    "        \n",
    "        metrics[w] = adjusted_metric\n",
    "        \n",
    "        if adjusted_metric > best_metric:\n",
    "            best_metric = adjusted_metric\n",
    "            best_window = w\n",
    "    \n",
    "    return best_window, metrics\n"
   ]
  },
  {
   "cell_type": "code",
   "execution_count": 10,
   "id": "ebb7c921-3656-4058-8f25-021094e403b3",
   "metadata": {},
   "outputs": [],
   "source": [
    "def optimize_windows(df):\n",
    "    \"\"\"\n",
    "    Processes a multi-day DataFrame of intraday trading data by:\n",
    "      1. Filtering the data to the regular trading session (09:30 to 16:00).\n",
    "      2. Grouping the data by day, based on the normalized datetime index.\n",
    "      3. Running optimize_window on each day's data to determine the best window.\n",
    "      4. Printing the best window per day and computing a consensus window.\n",
    "      \n",
    "    Parameters:\n",
    "      df : pd.DataFrame\n",
    "          A DataFrame with a datetime index and a 'close' column.\n",
    "      \n",
    "    Returns:\n",
    "      optimized_windows : dict\n",
    "          A dictionary mapping each day (as a Timestamp) to the best window.\n",
    "      consensus_window : float\n",
    "          The overall average (consensus) best window across all days.\n",
    "    \"\"\"\n",
    "    # Filter to regular session (09:30 to 16:00); adjust if your data's timezone is not Eastern.\n",
    "    regular_session = df.between_time(REGULAR_START, REGULAR_END)\n",
    "    \n",
    "    # Group data by day using df.index.normalize() to strip off the time.\n",
    "    grouped = regular_session.groupby(regular_session.index.normalize())\n",
    "    \n",
    "    optimized_windows = {}\n",
    "    for date, day_df in grouped:\n",
    "        # Process only if there's data for the day.\n",
    "        if not day_df.empty:\n",
    "            # Call optimize_window for this day's data.\n",
    "            best_window, metrics = optimize_window(day_df)\n",
    "            optimized_windows[date] = best_window\n",
    "    \n",
    "    # # Print best window for each day.\n",
    "    # for date, window_val in optimized_windows.items():\n",
    "    #     print(f\"Date: {date.date()}  →  Best window: {window_val}\")\n",
    "    \n",
    "    # Compute overall consensus window; returns None if there are no optimized windows.\n",
    "    if optimized_windows:\n",
    "        consensus_window = int(sum(optimized_windows.values()) / len(optimized_windows))\n",
    "    else:\n",
    "        consensus_window = None\n",
    "    print(\"Consensus window:\", consensus_window)\n",
    "    \n",
    "    return optimized_windows, consensus_window\n"
   ]
  },
  {
   "cell_type": "code",
   "execution_count": 11,
   "id": "8be1c8a6-4206-4ad8-b907-adbe2b1737ee",
   "metadata": {},
   "outputs": [
    {
     "name": "stdout",
     "output_type": "stream",
     "text": [
      "Consensus window: 16\n"
     ]
    }
   ],
   "source": [
    "optimized_windows, consensus_window = optimize_windows(df_train)"
   ]
  },
  {
   "cell_type": "code",
   "execution_count": 12,
   "id": "231bd8bb-dbb0-462f-9b57-669ce8f70b3e",
   "metadata": {},
   "outputs": [],
   "source": [
    "def optimize_threshold(df, window, \n",
    "                         threshold_range=np.linspace(0, 0.1, 21),\n",
    "                         target_trades_per_day=1, \n",
    "                         weight_exponent=0.5,\n",
    "                         epsilon=1e-8):\n",
    "    \"\"\"\n",
    "    Optimize the minimum return threshold for candidate trades for a fixed window,\n",
    "    using a composite metric that weighs the overall average return by the total number of trades.\n",
    "    \n",
    "    The composite metric is computed as:\n",
    "         composite_metric = (average_trade_return) * (n_trades / expected_trades)^weight_exponent\n",
    "    \n",
    "    where:\n",
    "         expected_trades = (number of unique trading days in the dataset) * target_trades_per_day\n",
    "    \n",
    "    Parameters:\n",
    "      df               : pd.DataFrame with a 'close' column and a datetime index.\n",
    "      window           : int, the fixed window size (in candlesticks) for candidate trade generation.\n",
    "      threshold_range  : Iterable of candidate threshold values (default: 20 values between 0 and 0.1).\n",
    "      target_trades_per_day : Expected (target) number of trades per trading day.\n",
    "      weight_exponent  : Exponent to apply to the trade weight (0 < weight_exponent <= 1). \n",
    "                         Lower values reduce the penalty for fewer trades.\n",
    "      epsilon          : Small constant to prevent division by zero.\n",
    "      \n",
    "    Returns:\n",
    "      best_threshold   : The candidate threshold with the highest composite metric.\n",
    "      metrics          : A dictionary mapping each candidate threshold to its computed composite metric.\n",
    "    \"\"\"\n",
    "    # Compute the number of unique trading days in the dataset.\n",
    "    trading_days = df.index.normalize().nunique()\n",
    "    expected_trades = trading_days * target_trades_per_day\n",
    "\n",
    "    best_threshold = None\n",
    "    best_metric = -np.inf\n",
    "    metrics = {}\n",
    "\n",
    "    for threshold in threshold_range:\n",
    "        # Assume generate_candidate_trades returns a list of trades,\n",
    "        # with each trade of the form ((buy_date, sell_date), (buy_price, sell_price), profit_percent)\n",
    "        trades = generate_candidate_trades(df, window=window, min_return=threshold)\n",
    "        \n",
    "        if len(trades) < expected_trades:\n",
    "            composite_metric = -np.inf\n",
    "        else:\n",
    "            avg_return = np.mean([trade[2] for trade in trades])\n",
    "            trade_weight = (len(trades) / (expected_trades + epsilon)) ** weight_exponent\n",
    "            composite_metric = avg_return * trade_weight\n",
    "        \n",
    "        metrics[threshold] = composite_metric\n",
    "        \n",
    "        if composite_metric > best_metric:\n",
    "            best_metric = composite_metric\n",
    "            best_threshold = threshold\n",
    "\n",
    "    return best_threshold, metrics\n"
   ]
  },
  {
   "cell_type": "code",
   "execution_count": 13,
   "id": "17bb50ac-6337-45cc-9b6b-dbcff12d3c6d",
   "metadata": {},
   "outputs": [],
   "source": [
    "def optimize_thresholds(df, consensus_window):\n",
    "    \"\"\"\n",
    "    For a multi-day DataFrame, this function:\n",
    "      1. Filters the data to the regular trading hours (09:30 to 16:00).\n",
    "      2. Groups data by trading day.\n",
    "      3. Runs the threshold optimization for each day using the given consensus window.\n",
    "      4. Prints each day's optimal threshold and then computes an overall consensus threshold (average).\n",
    "    \n",
    "    Parameters:\n",
    "      df              : pd.DataFrame\n",
    "                        A DataFrame with a datetime index and at least a 'close' column.\n",
    "      consensus_window: float\n",
    "                        The window parameter to be used for daily threshold optimization.\n",
    "    \n",
    "    Returns:\n",
    "      daily_thresholds: dict\n",
    "                        A dictionary mapping each date (as Timestamp) to its optimal threshold.\n",
    "      overall_threshold: float\n",
    "                         The consensus threshold computed as the average of the daily thresholds.\n",
    "    \"\"\"\n",
    "    # Filter to regular session hours (for Nasdaq, 09:30 to 16:00 Eastern Time).\n",
    "    regular_session = df.between_time(REGULAR_START, REGULAR_END)\n",
    "    \n",
    "    # Group by day using normalized dates.\n",
    "    grouped = regular_session.groupby(regular_session.index.normalize())\n",
    "    \n",
    "    daily_thresholds = {}\n",
    "    # Run threshold optimization per day.\n",
    "    for date, day_df in grouped:\n",
    "        if not day_df.empty:\n",
    "            # Call your optimize_threshold function for the day's data.\n",
    "            # It should return (best_threshold, threshold_metrics)\n",
    "            best_threshold, _ = optimize_threshold(day_df, window=consensus_window)\n",
    "            daily_thresholds[date] = best_threshold\n",
    "    \n",
    "    # # Step 4: Report daily thresholds.\n",
    "    # for date, threshold in daily_thresholds.items():\n",
    "    #     print(f\"Date: {date.date()}  →  Best threshold: {threshold}\")\n",
    "    \n",
    "    # Compute an overall consensus threshold (average of daily thresholds)\n",
    "    if daily_thresholds:\n",
    "        overall_threshold = sum(daily_thresholds.values()) / len(daily_thresholds)\n",
    "    else:\n",
    "        overall_threshold = None\n",
    "    \n",
    "    print(\"Consensus (averaged) threshold:\", overall_threshold)\n",
    "    \n",
    "    return daily_thresholds, overall_threshold\n"
   ]
  },
  {
   "cell_type": "code",
   "execution_count": 14,
   "id": "13717fd4-7795-463d-8493-e450930c526b",
   "metadata": {},
   "outputs": [
    {
     "name": "stdout",
     "output_type": "stream",
     "text": [
      "Consensus (averaged) threshold: 0.0034027777777777793\n"
     ]
    }
   ],
   "source": [
    "daily_thresholds, overall_threshold = optimize_thresholds(df_train, consensus_window)"
   ]
  },
  {
   "cell_type": "code",
   "execution_count": 15,
   "id": "203257a7-f887-4e7b-a8f7-865295869b34",
   "metadata": {},
   "outputs": [],
   "source": [
    "# best_window, window_metrics = optimize_window(df=df_train)\n",
    "\n",
    "# # Sort the keys (window sizes) for plotting\n",
    "# windows = sorted(window_metrics.keys())\n",
    "# values = [window_metrics[w] for w in windows]\n",
    "\n",
    "# plt.figure(figsize=(10, 6))\n",
    "# plt.plot(windows, values, marker='o', linestyle='-', label=\"Adjusted Metric\")\n",
    "\n",
    "# # Mark the best window with a red star.\n",
    "# best_value = window_metrics[best_window]\n",
    "# plt.plot(best_window, best_value, 'r*', markersize=12, label=f'Best Window: {best_window}')\n",
    "\n",
    "# plt.xlabel(\"Window Size (candlesticks)\")\n",
    "# plt.ylabel(\"Adjusted Metric (Sharpe Ratio / w)\")\n",
    "# plt.title(\"Window Size vs. Adjusted Metric\")\n",
    "# plt.grid(True)\n",
    "# plt.legend()\n",
    "\n",
    "# best_window, window_metrics "
   ]
  },
  {
   "cell_type": "code",
   "execution_count": 16,
   "id": "4404afc4-392e-4a5e-9dae-025bf682c88b",
   "metadata": {},
   "outputs": [],
   "source": [
    "# best_threshold, threshold_metrics = optimize_threshold(df=df_train, window=best_window)\n",
    "\n",
    "# # Sorting the thresholds for an ordered plot.\n",
    "# sorted_thresholds = sorted(threshold_metrics.keys())\n",
    "# sorted_values = [threshold_metrics[t] for t in sorted_thresholds]\n",
    "\n",
    "# plt.figure(figsize=(10,6))\n",
    "# plt.plot(sorted_thresholds, sorted_values, marker='o', linestyle='-', label='Daily Aggregated Return')\n",
    "# plt.xlabel(\"Minimum Return Threshold (Decimal)\")\n",
    "# plt.ylabel(\"Average Daily Return\")\n",
    "# plt.title(\"Optimized Threshold vs. Average Daily Return\")\n",
    "# plt.grid(True)\n",
    "\n",
    "# # Mark the best threshold (here best_threshold is 0.0) with a red star.\n",
    "# best_value = threshold_metrics[best_threshold]\n",
    "# plt.plot(best_threshold, best_value, 'r*', markersize=12, label=f'Best Threshold: {best_threshold}')\n",
    "# plt.legend()\n",
    "\n",
    "# best_threshold, threshold_metrics"
   ]
  },
  {
   "cell_type": "code",
   "execution_count": 21,
   "id": "4f37fced-1af7-4fda-8618-518e773d3d09",
   "metadata": {},
   "outputs": [
    {
     "name": "stdout",
     "output_type": "stream",
     "text": [
      "73\n"
     ]
    },
    {
     "data": {
      "text/plain": [
       "[((Timestamp('2025-04-03 13:30:00'), Timestamp('2025-04-03 13:45:00')),\n",
       "  (125.86, 127.47),\n",
       "  1.279),\n",
       " ((Timestamp('2025-04-03 13:31:00'), Timestamp('2025-04-03 13:46:00')),\n",
       "  (127.155, 127.67),\n",
       "  0.405),\n",
       " ((Timestamp('2025-04-03 13:35:00'), Timestamp('2025-04-03 13:50:00')),\n",
       "  (127.96, 128.41),\n",
       "  0.352),\n",
       " ((Timestamp('2025-04-03 13:37:00'), Timestamp('2025-04-03 13:52:00')),\n",
       "  (127.9172, 128.85),\n",
       "  0.729),\n",
       " ((Timestamp('2025-04-03 13:38:00'), Timestamp('2025-04-03 13:53:00')),\n",
       "  (128.2701, 128.79),\n",
       "  0.405),\n",
       " ((Timestamp('2025-04-03 13:39:00'), Timestamp('2025-04-03 13:54:00')),\n",
       "  (128.07, 129.105),\n",
       "  0.808),\n",
       " ((Timestamp('2025-04-03 13:40:00'), Timestamp('2025-04-03 13:55:00')),\n",
       "  (127.88, 129.355),\n",
       "  1.153),\n",
       " ((Timestamp('2025-04-03 13:41:00'), Timestamp('2025-04-03 13:56:00')),\n",
       "  (127.59, 129.295),\n",
       "  1.336),\n",
       " ((Timestamp('2025-04-03 13:42:00'), Timestamp('2025-04-03 13:57:00')),\n",
       "  (127.36, 129.79),\n",
       "  1.908),\n",
       " ((Timestamp('2025-04-03 13:43:00'), Timestamp('2025-04-03 13:58:00')),\n",
       "  (127.5, 129.98),\n",
       "  1.945),\n",
       " ((Timestamp('2025-04-03 13:44:00'), Timestamp('2025-04-03 13:59:00')),\n",
       "  (127.38, 129.6994),\n",
       "  1.821),\n",
       " ((Timestamp('2025-04-03 13:45:00'), Timestamp('2025-04-03 14:00:00')),\n",
       "  (127.47, 129.77),\n",
       "  1.804),\n",
       " ((Timestamp('2025-04-03 13:46:00'), Timestamp('2025-04-03 14:01:00')),\n",
       "  (127.67, 129.78),\n",
       "  1.653),\n",
       " ((Timestamp('2025-04-03 13:47:00'), Timestamp('2025-04-03 14:02:00')),\n",
       "  (128.11, 129.81),\n",
       "  1.327),\n",
       " ((Timestamp('2025-04-03 13:48:00'), Timestamp('2025-04-03 14:03:00')),\n",
       "  (128.17, 129.25),\n",
       "  0.843),\n",
       " ((Timestamp('2025-04-03 13:49:00'), Timestamp('2025-04-03 14:04:00')),\n",
       "  (127.88, 128.978),\n",
       "  0.859),\n",
       " ((Timestamp('2025-04-03 13:50:00'), Timestamp('2025-04-03 14:05:00')),\n",
       "  (128.41, 128.99),\n",
       "  0.452),\n",
       " ((Timestamp('2025-04-03 13:51:00'), Timestamp('2025-04-03 14:06:00')),\n",
       "  (128.205, 129.07),\n",
       "  0.675),\n",
       " ((Timestamp('2025-04-03 13:53:00'), Timestamp('2025-04-03 14:08:00')),\n",
       "  (128.79, 129.26),\n",
       "  0.365),\n",
       " ((Timestamp('2025-04-03 14:01:00'), Timestamp('2025-04-03 14:16:00')),\n",
       "  (129.78, 130.3375),\n",
       "  0.43),\n",
       " ((Timestamp('2025-04-03 14:02:00'), Timestamp('2025-04-03 14:17:00')),\n",
       "  (129.81, 130.3375),\n",
       "  0.406),\n",
       " ((Timestamp('2025-04-03 14:03:00'), Timestamp('2025-04-03 14:18:00')),\n",
       "  (129.25, 130.44),\n",
       "  0.921),\n",
       " ((Timestamp('2025-04-03 14:04:00'), Timestamp('2025-04-03 14:19:00')),\n",
       "  (128.978, 130.5),\n",
       "  1.18),\n",
       " ((Timestamp('2025-04-03 14:05:00'), Timestamp('2025-04-03 14:20:00')),\n",
       "  (128.99, 130.33),\n",
       "  1.039),\n",
       " ((Timestamp('2025-04-03 14:06:00'), Timestamp('2025-04-03 14:21:00')),\n",
       "  (129.07, 130.3),\n",
       "  0.953),\n",
       " ((Timestamp('2025-04-03 14:07:00'), Timestamp('2025-04-03 14:22:00')),\n",
       "  (129.205, 130.045),\n",
       "  0.65),\n",
       " ((Timestamp('2025-04-03 14:08:00'), Timestamp('2025-04-03 14:23:00')),\n",
       "  (129.26, 129.95),\n",
       "  0.534),\n",
       " ((Timestamp('2025-04-03 14:09:00'), Timestamp('2025-04-03 14:24:00')),\n",
       "  (129.23, 130.12),\n",
       "  0.689),\n",
       " ((Timestamp('2025-04-03 14:11:00'), Timestamp('2025-04-03 14:26:00')),\n",
       "  (129.22, 130.135),\n",
       "  0.708),\n",
       " ((Timestamp('2025-04-03 14:12:00'), Timestamp('2025-04-03 14:27:00')),\n",
       "  (129.15, 130.4),\n",
       "  0.968),\n",
       " ((Timestamp('2025-04-03 14:13:00'), Timestamp('2025-04-03 14:28:00')),\n",
       "  (129.01, 130.21),\n",
       "  0.93),\n",
       " ((Timestamp('2025-04-03 14:14:00'), Timestamp('2025-04-03 14:29:00')),\n",
       "  (129.23, 130.05),\n",
       "  0.635),\n",
       " ((Timestamp('2025-04-03 15:21:00'), Timestamp('2025-04-03 15:36:00')),\n",
       "  (128.06, 128.84),\n",
       "  0.609),\n",
       " ((Timestamp('2025-04-03 15:22:00'), Timestamp('2025-04-03 15:37:00')),\n",
       "  (128.17, 128.97),\n",
       "  0.624),\n",
       " ((Timestamp('2025-04-03 15:23:00'), Timestamp('2025-04-03 15:38:00')),\n",
       "  (128.23, 128.84),\n",
       "  0.476),\n",
       " ((Timestamp('2025-04-03 15:24:00'), Timestamp('2025-04-03 15:39:00')),\n",
       "  (128.18, 128.74),\n",
       "  0.437),\n",
       " ((Timestamp('2025-04-03 15:26:00'), Timestamp('2025-04-03 15:41:00')),\n",
       "  (128.29, 128.81),\n",
       "  0.405),\n",
       " ((Timestamp('2025-04-03 15:27:00'), Timestamp('2025-04-03 15:42:00')),\n",
       "  (128.25, 128.84),\n",
       "  0.46),\n",
       " ((Timestamp('2025-04-03 15:28:00'), Timestamp('2025-04-03 15:43:00')),\n",
       "  (128.46, 128.935),\n",
       "  0.37),\n",
       " ((Timestamp('2025-04-03 15:29:00'), Timestamp('2025-04-03 15:44:00')),\n",
       "  (128.4727, 129.01),\n",
       "  0.418),\n",
       " ((Timestamp('2025-04-03 15:31:00'), Timestamp('2025-04-03 15:46:00')),\n",
       "  (128.5002, 128.9375),\n",
       "  0.34),\n",
       " ((Timestamp('2025-04-03 15:47:00'), Timestamp('2025-04-03 16:02:00')),\n",
       "  (128.845, 129.3805),\n",
       "  0.416),\n",
       " ((Timestamp('2025-04-03 15:49:00'), Timestamp('2025-04-03 16:04:00')),\n",
       "  (128.8586, 129.33),\n",
       "  0.366),\n",
       " ((Timestamp('2025-04-03 15:50:00'), Timestamp('2025-04-03 16:05:00')),\n",
       "  (128.795, 129.43),\n",
       "  0.493),\n",
       " ((Timestamp('2025-04-03 15:51:00'), Timestamp('2025-04-03 16:06:00')),\n",
       "  (128.72, 129.26),\n",
       "  0.42),\n",
       " ((Timestamp('2025-04-03 15:52:00'), Timestamp('2025-04-03 16:07:00')),\n",
       "  (128.84, 129.3455),\n",
       "  0.392),\n",
       " ((Timestamp('2025-04-03 15:53:00'), Timestamp('2025-04-03 16:08:00')),\n",
       "  (128.7, 129.28),\n",
       "  0.451),\n",
       " ((Timestamp('2025-04-03 15:59:00'), Timestamp('2025-04-03 16:14:00')),\n",
       "  (129.0253, 129.52),\n",
       "  0.383),\n",
       " ((Timestamp('2025-04-03 16:08:00'), Timestamp('2025-04-03 16:23:00')),\n",
       "  (129.28, 129.79),\n",
       "  0.394),\n",
       " ((Timestamp('2025-04-03 16:09:00'), Timestamp('2025-04-03 16:24:00')),\n",
       "  (129.215, 129.8465),\n",
       "  0.489),\n",
       " ((Timestamp('2025-04-03 16:12:00'), Timestamp('2025-04-03 16:27:00')),\n",
       "  (129.2, 129.69),\n",
       "  0.379),\n",
       " ((Timestamp('2025-04-03 17:25:00'), Timestamp('2025-04-03 17:40:00')),\n",
       "  (129.27, 129.79),\n",
       "  0.402),\n",
       " ((Timestamp('2025-04-03 17:26:00'), Timestamp('2025-04-03 17:41:00')),\n",
       "  (129.185, 129.79),\n",
       "  0.468),\n",
       " ((Timestamp('2025-04-03 17:27:00'), Timestamp('2025-04-03 17:42:00')),\n",
       "  (129.29, 129.79),\n",
       "  0.387),\n",
       " ((Timestamp('2025-04-03 17:28:00'), Timestamp('2025-04-03 17:43:00')),\n",
       "  (129.12, 129.71),\n",
       "  0.457),\n",
       " ((Timestamp('2025-04-03 17:29:00'), Timestamp('2025-04-03 17:44:00')),\n",
       "  (129.09, 129.755),\n",
       "  0.515),\n",
       " ((Timestamp('2025-04-03 17:30:00'), Timestamp('2025-04-03 17:45:00')),\n",
       "  (129.12, 129.73),\n",
       "  0.472),\n",
       " ((Timestamp('2025-04-03 17:31:00'), Timestamp('2025-04-03 17:46:00')),\n",
       "  (129.27, 129.71),\n",
       "  0.34),\n",
       " ((Timestamp('2025-04-03 18:24:00'), Timestamp('2025-04-03 18:39:00')),\n",
       "  (128.7077, 129.282),\n",
       "  0.446),\n",
       " ((Timestamp('2025-04-03 18:25:00'), Timestamp('2025-04-03 18:40:00')),\n",
       "  (128.9, 129.38),\n",
       "  0.372),\n",
       " ((Timestamp('2025-04-03 18:26:00'), Timestamp('2025-04-03 18:41:00')),\n",
       "  (128.815, 129.41),\n",
       "  0.462),\n",
       " ((Timestamp('2025-04-03 18:27:00'), Timestamp('2025-04-03 18:42:00')),\n",
       "  (128.6701, 129.25),\n",
       "  0.451),\n",
       " ((Timestamp('2025-04-03 18:28:00'), Timestamp('2025-04-03 18:43:00')),\n",
       "  (128.77, 129.31),\n",
       "  0.419),\n",
       " ((Timestamp('2025-04-03 18:29:00'), Timestamp('2025-04-03 18:44:00')),\n",
       "  (128.756, 129.375),\n",
       "  0.481),\n",
       " ((Timestamp('2025-04-03 18:30:00'), Timestamp('2025-04-03 18:45:00')),\n",
       "  (128.585, 129.275),\n",
       "  0.537),\n",
       " ((Timestamp('2025-04-03 18:31:00'), Timestamp('2025-04-03 18:46:00')),\n",
       "  (128.67, 129.36),\n",
       "  0.536),\n",
       " ((Timestamp('2025-04-03 18:32:00'), Timestamp('2025-04-03 18:47:00')),\n",
       "  (128.75, 129.3605),\n",
       "  0.474),\n",
       " ((Timestamp('2025-04-03 18:33:00'), Timestamp('2025-04-03 18:48:00')),\n",
       "  (128.89, 129.38),\n",
       "  0.38),\n",
       " ((Timestamp('2025-04-03 18:34:00'), Timestamp('2025-04-03 18:49:00')),\n",
       "  (128.8, 129.27),\n",
       "  0.365),\n",
       " ((Timestamp('2025-04-03 18:55:00'), Timestamp('2025-04-03 19:10:00')),\n",
       "  (128.99, 129.43),\n",
       "  0.341),\n",
       " ((Timestamp('2025-04-03 19:36:00'), Timestamp('2025-04-03 19:51:00')),\n",
       "  (128.63, 129.1),\n",
       "  0.365),\n",
       " ((Timestamp('2025-04-03 19:37:00'), Timestamp('2025-04-03 19:52:00')),\n",
       "  (128.66, 129.1898),\n",
       "  0.412),\n",
       " ((Timestamp('2025-04-03 19:39:00'), Timestamp('2025-04-03 19:54:00')),\n",
       "  (128.74, 129.255),\n",
       "  0.4)]"
      ]
     },
     "execution_count": 21,
     "metadata": {},
     "output_type": "execute_result"
    }
   ],
   "source": [
    "final_trades = generate_candidate_trades(df_test, consensus_window, overall_threshold) \n",
    "\n",
    "print(len(final_trades))\n",
    "final_trades"
   ]
  },
  {
   "cell_type": "code",
   "execution_count": 18,
   "id": "b77d3a1b-556f-4f2c-81d6-97a1061836ee",
   "metadata": {
    "scrolled": true
   },
   "outputs": [
    {
     "data": {
      "text/html": [
       "\n",
       "<style>\n",
       ".output_scroll {\n",
       "    overflow-y: visible !important;\n",
       "    max-height: none !important;\n",
       "}\n",
       "</style>\n"
      ],
      "text/plain": [
       "<IPython.core.display.HTML object>"
      ]
     },
     "metadata": {},
     "output_type": "display_data"
    }
   ],
   "source": [
    "display(HTML(\"\"\"\n",
    "<style>\n",
    ".output_scroll {\n",
    "    overflow-y: visible !important;\n",
    "    max-height: none !important;\n",
    "}\n",
    "</style>\n",
    "\"\"\"))\n"
   ]
  },
  {
   "cell_type": "code",
   "execution_count": 19,
   "id": "17468a85-ba18-419e-8d56-0c37ea364969",
   "metadata": {},
   "outputs": [],
   "source": [
    "import plotly.graph_objs as go\n",
    "\n",
    "def plot_trades(df, trades, trade_color=\"green\"):\n",
    "    \"\"\"\n",
    "    Plots the overall close-price series plus trade intervals.\n",
    "\n",
    "    Each trade (expected as:\n",
    "      ((buy_date, sell_date), (buy_price, sell_price), profit_percent))\n",
    "    is plotted as a single trace (lines+markers) that is visible by default.\n",
    "    \n",
    "    An update menu with two buttons is added:\n",
    "      • \"Hide Trades\": Sets all trade traces (all traces except the base close-price line)\n",
    "         to \"legendonly\" so that they disappear from the chart but their legend labels remain.\n",
    "      • \"Show Trades\": Sets all traces to visible.\n",
    "    \n",
    "    When a point is hovered over, if that x-coordinate belongs to multiple trades,\n",
    "    the unified hover label displays the corresponding common date and close price (from the base series)\n",
    "    along with one line per trade showing the trade number and its return.\n",
    "    \"\"\"\n",
    "    fig = go.Figure()\n",
    "    \n",
    "    # Trace 0: Base (grey) close-price line.\n",
    "    # This trace will provide the common header (date and close info) for hover.\n",
    "    fig.add_trace(go.Scatter(\n",
    "        x=df.index,\n",
    "        y=df['close'],\n",
    "        mode='lines',\n",
    "        line=dict(color='grey', width=1),\n",
    "        name='Close Price',\n",
    "        hoverinfo='x+y',\n",
    "        hovertemplate=\"Date: %{x}<br>Close: %{y:.2f}<extra></extra>\",\n",
    "    ))\n",
    "    \n",
    "    # Add one trace per trade. Each trade trace will display only its trade info.\n",
    "    for i, trade in enumerate(trades):\n",
    "        # Unpack the trade tuple:\n",
    "        # ((buy_date, sell_date), (buy_price, sell_price), profit_percent)\n",
    "        (buy_date, sell_date), (_, _), trade_return = trade\n",
    "        trade_df = df.loc[buy_date:sell_date]\n",
    "        fig.add_trace(go.Scatter(\n",
    "            x=trade_df.index,\n",
    "            y=trade_df['close'],\n",
    "            mode='lines+markers',\n",
    "            line=dict(color=trade_color, width=3),\n",
    "            marker=dict(size=4, color=trade_color),\n",
    "            name=f\"Trade {i+1}\",\n",
    "            hoveron='points',\n",
    "            # Only include trade-specific info, omitting date and close.\n",
    "            hovertemplate=(f\"Trade {i+1}: Return: {trade_return:.2f}%<extra></extra>\"),\n",
    "            visible=True\n",
    "        ))\n",
    "    \n",
    "    # Total traces: one base trace + one trace per trade.\n",
    "    n_trades = len(trades)\n",
    "    total_traces = 1 + n_trades\n",
    "    vis_show = [True] * total_traces                # All traces visible.\n",
    "    vis_hide = [True] + [\"legendonly\"] * n_trades     # Base trace visible; trade traces hidden.\n",
    "    \n",
    "    # Update menu buttons for toggling trade traces.\n",
    "    fig.update_layout(\n",
    "        updatemenus=[\n",
    "            {\n",
    "                \"type\": \"buttons\",\n",
    "                \"direction\": \"left\",\n",
    "                \"buttons\": [\n",
    "                    {\n",
    "                        \"label\": \"Hide Trades\",\n",
    "                        \"method\": \"update\",\n",
    "                        \"args\": [{\"visible\": vis_hide}],\n",
    "                    },\n",
    "                    {\n",
    "                        \"label\": \"Show Trades\",\n",
    "                        \"method\": \"update\",\n",
    "                        \"args\": [{\"visible\": vis_show}],\n",
    "                    },\n",
    "                ],\n",
    "                \"pad\": {\"r\": 10, \"t\": 10},\n",
    "                \"showactive\": True,\n",
    "                \"x\": 0.9,       # Moved a bit to the left compared to 1.02.\n",
    "                \"xanchor\": \"left\",\n",
    "                \"y\": 1.1,       # Positioned at the top.\n",
    "                \"yanchor\": \"top\",\n",
    "            }\n",
    "        ],\n",
    "        hovermode=\"x unified\",  # Aggregates hover info from all traces with the same x.\n",
    "        template=\"plotly_white\",\n",
    "        title=\"Close Price with Trade Intervals\",\n",
    "        xaxis_title=\"Datetime\",\n",
    "        yaxis_title=\"Close Price\",\n",
    "        height=700     # Increase height to avoid scroll bars.\n",
    "    )\n",
    "    \n",
    "    fig.show()\n"
   ]
  },
  {
   "cell_type": "code",
   "execution_count": 22,
   "id": "d5bd4083-b358-4d2b-b6e5-817ddfefe4f3",
   "metadata": {},
   "outputs": [
    {
     "data": {
      "application/vnd.plotly.v1+json": {
       "config": {
        "plotlyServerURL": "https://plot.ly"
       },
       "data": [
        {
         "hoverinfo": "x+y",
         "hovertemplate": "Date: %{x}<br>Close: %{y:.2f}<extra></extra>",
         "line": {
          "color": "grey",
          "width": 1
         },
         "mode": "lines",
         "name": "Close Price",
         "type": "scatter",
         "x": [
          "2025-04-03T13:30:00",
          "2025-04-03T13:31:00",
          "2025-04-03T13:32:00",
          "2025-04-03T13:33:00",
          "2025-04-03T13:34:00",
          "2025-04-03T13:35:00",
          "2025-04-03T13:36:00",
          "2025-04-03T13:37:00",
          "2025-04-03T13:38:00",
          "2025-04-03T13:39:00",
          "2025-04-03T13:40:00",
          "2025-04-03T13:41:00",
          "2025-04-03T13:42:00",
          "2025-04-03T13:43:00",
          "2025-04-03T13:44:00",
          "2025-04-03T13:45:00",
          "2025-04-03T13:46:00",
          "2025-04-03T13:47:00",
          "2025-04-03T13:48:00",
          "2025-04-03T13:49:00",
          "2025-04-03T13:50:00",
          "2025-04-03T13:51:00",
          "2025-04-03T13:52:00",
          "2025-04-03T13:53:00",
          "2025-04-03T13:54:00",
          "2025-04-03T13:55:00",
          "2025-04-03T13:56:00",
          "2025-04-03T13:57:00",
          "2025-04-03T13:58:00",
          "2025-04-03T13:59:00",
          "2025-04-03T14:00:00",
          "2025-04-03T14:01:00",
          "2025-04-03T14:02:00",
          "2025-04-03T14:03:00",
          "2025-04-03T14:04:00",
          "2025-04-03T14:05:00",
          "2025-04-03T14:06:00",
          "2025-04-03T14:07:00",
          "2025-04-03T14:08:00",
          "2025-04-03T14:09:00",
          "2025-04-03T14:10:00",
          "2025-04-03T14:11:00",
          "2025-04-03T14:12:00",
          "2025-04-03T14:13:00",
          "2025-04-03T14:14:00",
          "2025-04-03T14:15:00",
          "2025-04-03T14:16:00",
          "2025-04-03T14:17:00",
          "2025-04-03T14:18:00",
          "2025-04-03T14:19:00",
          "2025-04-03T14:20:00",
          "2025-04-03T14:21:00",
          "2025-04-03T14:22:00",
          "2025-04-03T14:23:00",
          "2025-04-03T14:24:00",
          "2025-04-03T14:25:00",
          "2025-04-03T14:26:00",
          "2025-04-03T14:27:00",
          "2025-04-03T14:28:00",
          "2025-04-03T14:29:00",
          "2025-04-03T14:30:00",
          "2025-04-03T14:31:00",
          "2025-04-03T14:32:00",
          "2025-04-03T14:33:00",
          "2025-04-03T14:34:00",
          "2025-04-03T14:35:00",
          "2025-04-03T14:36:00",
          "2025-04-03T14:37:00",
          "2025-04-03T14:38:00",
          "2025-04-03T14:39:00",
          "2025-04-03T14:40:00",
          "2025-04-03T14:41:00",
          "2025-04-03T14:42:00",
          "2025-04-03T14:43:00",
          "2025-04-03T14:44:00",
          "2025-04-03T14:45:00",
          "2025-04-03T14:46:00",
          "2025-04-03T14:47:00",
          "2025-04-03T14:48:00",
          "2025-04-03T14:49:00",
          "2025-04-03T14:50:00",
          "2025-04-03T14:51:00",
          "2025-04-03T14:52:00",
          "2025-04-03T14:53:00",
          "2025-04-03T14:54:00",
          "2025-04-03T14:55:00",
          "2025-04-03T14:56:00",
          "2025-04-03T14:57:00",
          "2025-04-03T14:58:00",
          "2025-04-03T14:59:00",
          "2025-04-03T15:00:00",
          "2025-04-03T15:01:00",
          "2025-04-03T15:02:00",
          "2025-04-03T15:03:00",
          "2025-04-03T15:04:00",
          "2025-04-03T15:05:00",
          "2025-04-03T15:06:00",
          "2025-04-03T15:07:00",
          "2025-04-03T15:08:00",
          "2025-04-03T15:09:00",
          "2025-04-03T15:10:00",
          "2025-04-03T15:11:00",
          "2025-04-03T15:12:00",
          "2025-04-03T15:13:00",
          "2025-04-03T15:14:00",
          "2025-04-03T15:15:00",
          "2025-04-03T15:16:00",
          "2025-04-03T15:17:00",
          "2025-04-03T15:18:00",
          "2025-04-03T15:19:00",
          "2025-04-03T15:20:00",
          "2025-04-03T15:21:00",
          "2025-04-03T15:22:00",
          "2025-04-03T15:23:00",
          "2025-04-03T15:24:00",
          "2025-04-03T15:25:00",
          "2025-04-03T15:26:00",
          "2025-04-03T15:27:00",
          "2025-04-03T15:28:00",
          "2025-04-03T15:29:00",
          "2025-04-03T15:30:00",
          "2025-04-03T15:31:00",
          "2025-04-03T15:32:00",
          "2025-04-03T15:33:00",
          "2025-04-03T15:34:00",
          "2025-04-03T15:35:00",
          "2025-04-03T15:36:00",
          "2025-04-03T15:37:00",
          "2025-04-03T15:38:00",
          "2025-04-03T15:39:00",
          "2025-04-03T15:40:00",
          "2025-04-03T15:41:00",
          "2025-04-03T15:42:00",
          "2025-04-03T15:43:00",
          "2025-04-03T15:44:00",
          "2025-04-03T15:45:00",
          "2025-04-03T15:46:00",
          "2025-04-03T15:47:00",
          "2025-04-03T15:48:00",
          "2025-04-03T15:49:00",
          "2025-04-03T15:50:00",
          "2025-04-03T15:51:00",
          "2025-04-03T15:52:00",
          "2025-04-03T15:53:00",
          "2025-04-03T15:54:00",
          "2025-04-03T15:55:00",
          "2025-04-03T15:56:00",
          "2025-04-03T15:57:00",
          "2025-04-03T15:58:00",
          "2025-04-03T15:59:00",
          "2025-04-03T16:00:00",
          "2025-04-03T16:01:00",
          "2025-04-03T16:02:00",
          "2025-04-03T16:03:00",
          "2025-04-03T16:04:00",
          "2025-04-03T16:05:00",
          "2025-04-03T16:06:00",
          "2025-04-03T16:07:00",
          "2025-04-03T16:08:00",
          "2025-04-03T16:09:00",
          "2025-04-03T16:10:00",
          "2025-04-03T16:11:00",
          "2025-04-03T16:12:00",
          "2025-04-03T16:13:00",
          "2025-04-03T16:14:00",
          "2025-04-03T16:15:00",
          "2025-04-03T16:16:00",
          "2025-04-03T16:17:00",
          "2025-04-03T16:18:00",
          "2025-04-03T16:19:00",
          "2025-04-03T16:20:00",
          "2025-04-03T16:21:00",
          "2025-04-03T16:22:00",
          "2025-04-03T16:23:00",
          "2025-04-03T16:24:00",
          "2025-04-03T16:25:00",
          "2025-04-03T16:26:00",
          "2025-04-03T16:27:00",
          "2025-04-03T16:28:00",
          "2025-04-03T16:29:00",
          "2025-04-03T16:30:00",
          "2025-04-03T16:31:00",
          "2025-04-03T16:32:00",
          "2025-04-03T16:33:00",
          "2025-04-03T16:34:00",
          "2025-04-03T16:35:00",
          "2025-04-03T16:36:00",
          "2025-04-03T16:37:00",
          "2025-04-03T16:38:00",
          "2025-04-03T16:39:00",
          "2025-04-03T16:40:00",
          "2025-04-03T16:41:00",
          "2025-04-03T16:42:00",
          "2025-04-03T16:43:00",
          "2025-04-03T16:44:00",
          "2025-04-03T16:45:00",
          "2025-04-03T16:46:00",
          "2025-04-03T16:47:00",
          "2025-04-03T16:48:00",
          "2025-04-03T16:49:00",
          "2025-04-03T16:50:00",
          "2025-04-03T16:51:00",
          "2025-04-03T16:52:00",
          "2025-04-03T16:53:00",
          "2025-04-03T16:54:00",
          "2025-04-03T16:55:00",
          "2025-04-03T16:56:00",
          "2025-04-03T16:57:00",
          "2025-04-03T16:58:00",
          "2025-04-03T16:59:00",
          "2025-04-03T17:00:00",
          "2025-04-03T17:01:00",
          "2025-04-03T17:02:00",
          "2025-04-03T17:03:00",
          "2025-04-03T17:04:00",
          "2025-04-03T17:05:00",
          "2025-04-03T17:06:00",
          "2025-04-03T17:07:00",
          "2025-04-03T17:08:00",
          "2025-04-03T17:09:00",
          "2025-04-03T17:10:00",
          "2025-04-03T17:11:00",
          "2025-04-03T17:12:00",
          "2025-04-03T17:13:00",
          "2025-04-03T17:14:00",
          "2025-04-03T17:15:00",
          "2025-04-03T17:16:00",
          "2025-04-03T17:17:00",
          "2025-04-03T17:18:00",
          "2025-04-03T17:19:00",
          "2025-04-03T17:20:00",
          "2025-04-03T17:21:00",
          "2025-04-03T17:22:00",
          "2025-04-03T17:23:00",
          "2025-04-03T17:24:00",
          "2025-04-03T17:25:00",
          "2025-04-03T17:26:00",
          "2025-04-03T17:27:00",
          "2025-04-03T17:28:00",
          "2025-04-03T17:29:00",
          "2025-04-03T17:30:00",
          "2025-04-03T17:31:00",
          "2025-04-03T17:32:00",
          "2025-04-03T17:33:00",
          "2025-04-03T17:34:00",
          "2025-04-03T17:35:00",
          "2025-04-03T17:36:00",
          "2025-04-03T17:37:00",
          "2025-04-03T17:38:00",
          "2025-04-03T17:39:00",
          "2025-04-03T17:40:00",
          "2025-04-03T17:41:00",
          "2025-04-03T17:42:00",
          "2025-04-03T17:43:00",
          "2025-04-03T17:44:00",
          "2025-04-03T17:45:00",
          "2025-04-03T17:46:00",
          "2025-04-03T17:47:00",
          "2025-04-03T17:48:00",
          "2025-04-03T17:49:00",
          "2025-04-03T17:50:00",
          "2025-04-03T17:51:00",
          "2025-04-03T17:52:00",
          "2025-04-03T17:53:00",
          "2025-04-03T17:54:00",
          "2025-04-03T17:55:00",
          "2025-04-03T17:56:00",
          "2025-04-03T17:57:00",
          "2025-04-03T17:58:00",
          "2025-04-03T17:59:00",
          "2025-04-03T18:00:00",
          "2025-04-03T18:01:00",
          "2025-04-03T18:02:00",
          "2025-04-03T18:03:00",
          "2025-04-03T18:04:00",
          "2025-04-03T18:05:00",
          "2025-04-03T18:06:00",
          "2025-04-03T18:07:00",
          "2025-04-03T18:08:00",
          "2025-04-03T18:09:00",
          "2025-04-03T18:10:00",
          "2025-04-03T18:11:00",
          "2025-04-03T18:12:00",
          "2025-04-03T18:13:00",
          "2025-04-03T18:14:00",
          "2025-04-03T18:15:00",
          "2025-04-03T18:16:00",
          "2025-04-03T18:17:00",
          "2025-04-03T18:18:00",
          "2025-04-03T18:19:00",
          "2025-04-03T18:20:00",
          "2025-04-03T18:21:00",
          "2025-04-03T18:22:00",
          "2025-04-03T18:23:00",
          "2025-04-03T18:24:00",
          "2025-04-03T18:25:00",
          "2025-04-03T18:26:00",
          "2025-04-03T18:27:00",
          "2025-04-03T18:28:00",
          "2025-04-03T18:29:00",
          "2025-04-03T18:30:00",
          "2025-04-03T18:31:00",
          "2025-04-03T18:32:00",
          "2025-04-03T18:33:00",
          "2025-04-03T18:34:00",
          "2025-04-03T18:35:00",
          "2025-04-03T18:36:00",
          "2025-04-03T18:37:00",
          "2025-04-03T18:38:00",
          "2025-04-03T18:39:00",
          "2025-04-03T18:40:00",
          "2025-04-03T18:41:00",
          "2025-04-03T18:42:00",
          "2025-04-03T18:43:00",
          "2025-04-03T18:44:00",
          "2025-04-03T18:45:00",
          "2025-04-03T18:46:00",
          "2025-04-03T18:47:00",
          "2025-04-03T18:48:00",
          "2025-04-03T18:49:00",
          "2025-04-03T18:50:00",
          "2025-04-03T18:51:00",
          "2025-04-03T18:52:00",
          "2025-04-03T18:53:00",
          "2025-04-03T18:54:00",
          "2025-04-03T18:55:00",
          "2025-04-03T18:56:00",
          "2025-04-03T18:57:00",
          "2025-04-03T18:58:00",
          "2025-04-03T18:59:00",
          "2025-04-03T19:00:00",
          "2025-04-03T19:01:00",
          "2025-04-03T19:02:00",
          "2025-04-03T19:03:00",
          "2025-04-03T19:04:00",
          "2025-04-03T19:05:00",
          "2025-04-03T19:06:00",
          "2025-04-03T19:07:00",
          "2025-04-03T19:08:00",
          "2025-04-03T19:09:00",
          "2025-04-03T19:10:00",
          "2025-04-03T19:11:00",
          "2025-04-03T19:12:00",
          "2025-04-03T19:13:00",
          "2025-04-03T19:14:00",
          "2025-04-03T19:15:00",
          "2025-04-03T19:16:00",
          "2025-04-03T19:17:00",
          "2025-04-03T19:18:00",
          "2025-04-03T19:19:00",
          "2025-04-03T19:20:00",
          "2025-04-03T19:21:00",
          "2025-04-03T19:22:00",
          "2025-04-03T19:23:00",
          "2025-04-03T19:24:00",
          "2025-04-03T19:25:00",
          "2025-04-03T19:26:00",
          "2025-04-03T19:27:00",
          "2025-04-03T19:28:00",
          "2025-04-03T19:29:00",
          "2025-04-03T19:30:00",
          "2025-04-03T19:31:00",
          "2025-04-03T19:32:00",
          "2025-04-03T19:33:00",
          "2025-04-03T19:34:00",
          "2025-04-03T19:35:00",
          "2025-04-03T19:36:00",
          "2025-04-03T19:37:00",
          "2025-04-03T19:38:00",
          "2025-04-03T19:39:00",
          "2025-04-03T19:40:00",
          "2025-04-03T19:41:00",
          "2025-04-03T19:42:00",
          "2025-04-03T19:43:00",
          "2025-04-03T19:44:00",
          "2025-04-03T19:45:00",
          "2025-04-03T19:46:00",
          "2025-04-03T19:47:00",
          "2025-04-03T19:48:00",
          "2025-04-03T19:49:00",
          "2025-04-03T19:50:00",
          "2025-04-03T19:51:00",
          "2025-04-03T19:52:00",
          "2025-04-03T19:53:00",
          "2025-04-03T19:54:00",
          "2025-04-03T19:55:00",
          "2025-04-03T19:56:00",
          "2025-04-03T19:57:00",
          "2025-04-03T19:58:00",
          "2025-04-03T19:59:00",
          "2025-04-03T20:00:00"
         ],
         "y": [
          125.86,
          127.155,
          128.6,
          127.93,
          127.95,
          127.96,
          127.97,
          127.9172,
          128.2701,
          128.07,
          127.88,
          127.59,
          127.36,
          127.5,
          127.38,
          127.47,
          127.67,
          128.11,
          128.17,
          127.88,
          128.41,
          128.205,
          128.85,
          128.79,
          129.105,
          129.355,
          129.295,
          129.79,
          129.98,
          129.6994,
          129.77,
          129.78,
          129.81,
          129.25,
          128.978,
          128.99,
          129.07,
          129.205,
          129.26,
          129.23,
          129.485,
          129.22,
          129.15,
          129.01,
          129.23,
          129.92,
          130.3375,
          130.3375,
          130.44,
          130.5,
          130.33,
          130.3,
          130.045,
          129.95,
          130.12,
          129.83,
          130.135,
          130.4,
          130.21,
          130.05,
          130.28,
          130.05,
          130.25,
          129.875,
          129.4,
          129.3,
          129.29,
          129.155,
          129.195,
          129.0805,
          128.955,
          129.2421,
          128.91,
          129.03,
          128.83,
          128.65,
          128.8889,
          128.755,
          128.965,
          128.845,
          128.81,
          128.62,
          128.4754,
          128.38,
          128.495,
          128.7399,
          128.63,
          128.5854,
          128.52,
          128.32,
          128.365,
          128.57,
          128.56,
          128.94,
          128.97,
          128.695,
          128.6417,
          128.555,
          128.5,
          128.58,
          128.66,
          128.64,
          128.66,
          128.48,
          128.405,
          128.475,
          128.66,
          128.53,
          128.56,
          128.425,
          128.2604,
          128.06,
          128.17,
          128.23,
          128.18,
          128.32,
          128.29,
          128.25,
          128.46,
          128.4727,
          128.72,
          128.5002,
          128.6,
          128.6,
          128.65,
          128.5775,
          128.84,
          128.97,
          128.84,
          128.74,
          128.6639,
          128.81,
          128.84,
          128.935,
          129.01,
          128.905,
          128.9375,
          128.845,
          129.01,
          128.8586,
          128.795,
          128.72,
          128.84,
          128.7,
          128.86,
          128.875,
          128.92,
          129,
          129.1115,
          129.0253,
          129.19,
          129.32,
          129.3805,
          129.36,
          129.33,
          129.43,
          129.26,
          129.3455,
          129.28,
          129.215,
          129.28,
          129.26,
          129.2,
          129.3501,
          129.52,
          129.45,
          129.55,
          129.4727,
          129.58,
          129.6907,
          129.65,
          129.65,
          129.74,
          129.79,
          129.8465,
          129.65,
          129.51,
          129.69,
          129.705,
          129.77,
          129.61,
          129.645,
          129.62,
          129.4578,
          129.47,
          129.48,
          129.38,
          129.39,
          129.2805,
          129.385,
          129.5,
          129.49,
          129.555,
          129.59,
          129.3,
          129.36,
          129.365,
          129.34,
          129.525,
          129.6,
          129.49,
          129.555,
          129.56,
          129.54,
          129.43,
          129.5,
          129.61,
          129.47,
          129.4993,
          129.54,
          129.64,
          129.615,
          129.665,
          129.42,
          129.41,
          129.39,
          129.51,
          129.66,
          129.44,
          129.365,
          129.29,
          129.465,
          129.5,
          129.62,
          129.6899,
          129.74,
          129.71,
          129.6386,
          129.5,
          129.655,
          129.46,
          129.47,
          129.33,
          129.35,
          129.34,
          129.27,
          129.185,
          129.29,
          129.12,
          129.09,
          129.12,
          129.27,
          129.28,
          129.2203,
          129.42,
          129.49,
          129.5201,
          129.65,
          129.685,
          129.69,
          129.79,
          129.79,
          129.79,
          129.71,
          129.755,
          129.73,
          129.71,
          129.59,
          129.595,
          129.6,
          129.65,
          129.565,
          129.612,
          129.69,
          129.74,
          129.79,
          129.94,
          129.8599,
          129.8386,
          129.765,
          129.86,
          129.9,
          129.87,
          129.815,
          129.855,
          129.8469,
          129.85,
          129.645,
          129.47,
          129.365,
          129.275,
          129.12,
          128.94,
          129.05,
          128.94,
          129.0586,
          128.895,
          128.775,
          128.64,
          128.82,
          128.745,
          128.76,
          128.84,
          128.83,
          128.7077,
          128.9,
          128.815,
          128.6701,
          128.77,
          128.756,
          128.585,
          128.67,
          128.75,
          128.89,
          128.8,
          128.98,
          129.145,
          129.215,
          129.235,
          129.282,
          129.38,
          129.41,
          129.25,
          129.31,
          129.375,
          129.275,
          129.36,
          129.3605,
          129.38,
          129.27,
          129.265,
          129.38,
          129.345,
          129.22,
          129.195,
          128.99,
          129.095,
          129.055,
          129.04,
          129.115,
          129.19,
          129.18,
          129.22,
          129.31,
          129.445,
          129.51,
          129.555,
          129.575,
          129.56,
          129.455,
          129.43,
          129.335,
          129.375,
          129.42,
          129.255,
          129.095,
          128.98,
          128.89,
          128.985,
          128.935,
          128.965,
          128.935,
          128.845,
          128.955,
          128.9965,
          129.065,
          129.05,
          128.875,
          128.9,
          128.84,
          128.77,
          128.695,
          128.585,
          128.7759,
          128.69,
          128.74,
          128.63,
          128.66,
          128.67,
          128.74,
          128.86,
          128.91,
          128.975,
          129.15,
          129.15,
          128.97,
          128.89,
          128.915,
          129.025,
          128.98,
          129.1,
          129.1,
          129.1898,
          129.1,
          129.255,
          129.205,
          129.27,
          129.2,
          129.355,
          129.39,
          129.35
         ]
        },
        {
         "hoveron": "points",
         "hovertemplate": "Trade 1: Return: 1.28%<extra></extra>",
         "line": {
          "color": "green",
          "width": 3
         },
         "marker": {
          "color": "green",
          "size": 4
         },
         "mode": "lines+markers",
         "name": "Trade 1",
         "type": "scatter",
         "visible": true,
         "x": [
          "2025-04-03T13:30:00",
          "2025-04-03T13:31:00",
          "2025-04-03T13:32:00",
          "2025-04-03T13:33:00",
          "2025-04-03T13:34:00",
          "2025-04-03T13:35:00",
          "2025-04-03T13:36:00",
          "2025-04-03T13:37:00",
          "2025-04-03T13:38:00",
          "2025-04-03T13:39:00",
          "2025-04-03T13:40:00",
          "2025-04-03T13:41:00",
          "2025-04-03T13:42:00",
          "2025-04-03T13:43:00",
          "2025-04-03T13:44:00",
          "2025-04-03T13:45:00"
         ],
         "y": [
          125.86,
          127.155,
          128.6,
          127.93,
          127.95,
          127.96,
          127.97,
          127.9172,
          128.2701,
          128.07,
          127.88,
          127.59,
          127.36,
          127.5,
          127.38,
          127.47
         ]
        },
        {
         "hoveron": "points",
         "hovertemplate": "Trade 2: Return: 0.41%<extra></extra>",
         "line": {
          "color": "green",
          "width": 3
         },
         "marker": {
          "color": "green",
          "size": 4
         },
         "mode": "lines+markers",
         "name": "Trade 2",
         "type": "scatter",
         "visible": true,
         "x": [
          "2025-04-03T13:31:00",
          "2025-04-03T13:32:00",
          "2025-04-03T13:33:00",
          "2025-04-03T13:34:00",
          "2025-04-03T13:35:00",
          "2025-04-03T13:36:00",
          "2025-04-03T13:37:00",
          "2025-04-03T13:38:00",
          "2025-04-03T13:39:00",
          "2025-04-03T13:40:00",
          "2025-04-03T13:41:00",
          "2025-04-03T13:42:00",
          "2025-04-03T13:43:00",
          "2025-04-03T13:44:00",
          "2025-04-03T13:45:00",
          "2025-04-03T13:46:00"
         ],
         "y": [
          127.155,
          128.6,
          127.93,
          127.95,
          127.96,
          127.97,
          127.9172,
          128.2701,
          128.07,
          127.88,
          127.59,
          127.36,
          127.5,
          127.38,
          127.47,
          127.67
         ]
        },
        {
         "hoveron": "points",
         "hovertemplate": "Trade 3: Return: 0.35%<extra></extra>",
         "line": {
          "color": "green",
          "width": 3
         },
         "marker": {
          "color": "green",
          "size": 4
         },
         "mode": "lines+markers",
         "name": "Trade 3",
         "type": "scatter",
         "visible": true,
         "x": [
          "2025-04-03T13:35:00",
          "2025-04-03T13:36:00",
          "2025-04-03T13:37:00",
          "2025-04-03T13:38:00",
          "2025-04-03T13:39:00",
          "2025-04-03T13:40:00",
          "2025-04-03T13:41:00",
          "2025-04-03T13:42:00",
          "2025-04-03T13:43:00",
          "2025-04-03T13:44:00",
          "2025-04-03T13:45:00",
          "2025-04-03T13:46:00",
          "2025-04-03T13:47:00",
          "2025-04-03T13:48:00",
          "2025-04-03T13:49:00",
          "2025-04-03T13:50:00"
         ],
         "y": [
          127.96,
          127.97,
          127.9172,
          128.2701,
          128.07,
          127.88,
          127.59,
          127.36,
          127.5,
          127.38,
          127.47,
          127.67,
          128.11,
          128.17,
          127.88,
          128.41
         ]
        },
        {
         "hoveron": "points",
         "hovertemplate": "Trade 4: Return: 0.73%<extra></extra>",
         "line": {
          "color": "green",
          "width": 3
         },
         "marker": {
          "color": "green",
          "size": 4
         },
         "mode": "lines+markers",
         "name": "Trade 4",
         "type": "scatter",
         "visible": true,
         "x": [
          "2025-04-03T13:37:00",
          "2025-04-03T13:38:00",
          "2025-04-03T13:39:00",
          "2025-04-03T13:40:00",
          "2025-04-03T13:41:00",
          "2025-04-03T13:42:00",
          "2025-04-03T13:43:00",
          "2025-04-03T13:44:00",
          "2025-04-03T13:45:00",
          "2025-04-03T13:46:00",
          "2025-04-03T13:47:00",
          "2025-04-03T13:48:00",
          "2025-04-03T13:49:00",
          "2025-04-03T13:50:00",
          "2025-04-03T13:51:00",
          "2025-04-03T13:52:00"
         ],
         "y": [
          127.9172,
          128.2701,
          128.07,
          127.88,
          127.59,
          127.36,
          127.5,
          127.38,
          127.47,
          127.67,
          128.11,
          128.17,
          127.88,
          128.41,
          128.205,
          128.85
         ]
        },
        {
         "hoveron": "points",
         "hovertemplate": "Trade 5: Return: 0.41%<extra></extra>",
         "line": {
          "color": "green",
          "width": 3
         },
         "marker": {
          "color": "green",
          "size": 4
         },
         "mode": "lines+markers",
         "name": "Trade 5",
         "type": "scatter",
         "visible": true,
         "x": [
          "2025-04-03T13:38:00",
          "2025-04-03T13:39:00",
          "2025-04-03T13:40:00",
          "2025-04-03T13:41:00",
          "2025-04-03T13:42:00",
          "2025-04-03T13:43:00",
          "2025-04-03T13:44:00",
          "2025-04-03T13:45:00",
          "2025-04-03T13:46:00",
          "2025-04-03T13:47:00",
          "2025-04-03T13:48:00",
          "2025-04-03T13:49:00",
          "2025-04-03T13:50:00",
          "2025-04-03T13:51:00",
          "2025-04-03T13:52:00",
          "2025-04-03T13:53:00"
         ],
         "y": [
          128.2701,
          128.07,
          127.88,
          127.59,
          127.36,
          127.5,
          127.38,
          127.47,
          127.67,
          128.11,
          128.17,
          127.88,
          128.41,
          128.205,
          128.85,
          128.79
         ]
        },
        {
         "hoveron": "points",
         "hovertemplate": "Trade 6: Return: 0.81%<extra></extra>",
         "line": {
          "color": "green",
          "width": 3
         },
         "marker": {
          "color": "green",
          "size": 4
         },
         "mode": "lines+markers",
         "name": "Trade 6",
         "type": "scatter",
         "visible": true,
         "x": [
          "2025-04-03T13:39:00",
          "2025-04-03T13:40:00",
          "2025-04-03T13:41:00",
          "2025-04-03T13:42:00",
          "2025-04-03T13:43:00",
          "2025-04-03T13:44:00",
          "2025-04-03T13:45:00",
          "2025-04-03T13:46:00",
          "2025-04-03T13:47:00",
          "2025-04-03T13:48:00",
          "2025-04-03T13:49:00",
          "2025-04-03T13:50:00",
          "2025-04-03T13:51:00",
          "2025-04-03T13:52:00",
          "2025-04-03T13:53:00",
          "2025-04-03T13:54:00"
         ],
         "y": [
          128.07,
          127.88,
          127.59,
          127.36,
          127.5,
          127.38,
          127.47,
          127.67,
          128.11,
          128.17,
          127.88,
          128.41,
          128.205,
          128.85,
          128.79,
          129.105
         ]
        },
        {
         "hoveron": "points",
         "hovertemplate": "Trade 7: Return: 1.15%<extra></extra>",
         "line": {
          "color": "green",
          "width": 3
         },
         "marker": {
          "color": "green",
          "size": 4
         },
         "mode": "lines+markers",
         "name": "Trade 7",
         "type": "scatter",
         "visible": true,
         "x": [
          "2025-04-03T13:40:00",
          "2025-04-03T13:41:00",
          "2025-04-03T13:42:00",
          "2025-04-03T13:43:00",
          "2025-04-03T13:44:00",
          "2025-04-03T13:45:00",
          "2025-04-03T13:46:00",
          "2025-04-03T13:47:00",
          "2025-04-03T13:48:00",
          "2025-04-03T13:49:00",
          "2025-04-03T13:50:00",
          "2025-04-03T13:51:00",
          "2025-04-03T13:52:00",
          "2025-04-03T13:53:00",
          "2025-04-03T13:54:00",
          "2025-04-03T13:55:00"
         ],
         "y": [
          127.88,
          127.59,
          127.36,
          127.5,
          127.38,
          127.47,
          127.67,
          128.11,
          128.17,
          127.88,
          128.41,
          128.205,
          128.85,
          128.79,
          129.105,
          129.355
         ]
        },
        {
         "hoveron": "points",
         "hovertemplate": "Trade 8: Return: 1.34%<extra></extra>",
         "line": {
          "color": "green",
          "width": 3
         },
         "marker": {
          "color": "green",
          "size": 4
         },
         "mode": "lines+markers",
         "name": "Trade 8",
         "type": "scatter",
         "visible": true,
         "x": [
          "2025-04-03T13:41:00",
          "2025-04-03T13:42:00",
          "2025-04-03T13:43:00",
          "2025-04-03T13:44:00",
          "2025-04-03T13:45:00",
          "2025-04-03T13:46:00",
          "2025-04-03T13:47:00",
          "2025-04-03T13:48:00",
          "2025-04-03T13:49:00",
          "2025-04-03T13:50:00",
          "2025-04-03T13:51:00",
          "2025-04-03T13:52:00",
          "2025-04-03T13:53:00",
          "2025-04-03T13:54:00",
          "2025-04-03T13:55:00",
          "2025-04-03T13:56:00"
         ],
         "y": [
          127.59,
          127.36,
          127.5,
          127.38,
          127.47,
          127.67,
          128.11,
          128.17,
          127.88,
          128.41,
          128.205,
          128.85,
          128.79,
          129.105,
          129.355,
          129.295
         ]
        },
        {
         "hoveron": "points",
         "hovertemplate": "Trade 9: Return: 1.91%<extra></extra>",
         "line": {
          "color": "green",
          "width": 3
         },
         "marker": {
          "color": "green",
          "size": 4
         },
         "mode": "lines+markers",
         "name": "Trade 9",
         "type": "scatter",
         "visible": true,
         "x": [
          "2025-04-03T13:42:00",
          "2025-04-03T13:43:00",
          "2025-04-03T13:44:00",
          "2025-04-03T13:45:00",
          "2025-04-03T13:46:00",
          "2025-04-03T13:47:00",
          "2025-04-03T13:48:00",
          "2025-04-03T13:49:00",
          "2025-04-03T13:50:00",
          "2025-04-03T13:51:00",
          "2025-04-03T13:52:00",
          "2025-04-03T13:53:00",
          "2025-04-03T13:54:00",
          "2025-04-03T13:55:00",
          "2025-04-03T13:56:00",
          "2025-04-03T13:57:00"
         ],
         "y": [
          127.36,
          127.5,
          127.38,
          127.47,
          127.67,
          128.11,
          128.17,
          127.88,
          128.41,
          128.205,
          128.85,
          128.79,
          129.105,
          129.355,
          129.295,
          129.79
         ]
        },
        {
         "hoveron": "points",
         "hovertemplate": "Trade 10: Return: 1.95%<extra></extra>",
         "line": {
          "color": "green",
          "width": 3
         },
         "marker": {
          "color": "green",
          "size": 4
         },
         "mode": "lines+markers",
         "name": "Trade 10",
         "type": "scatter",
         "visible": true,
         "x": [
          "2025-04-03T13:43:00",
          "2025-04-03T13:44:00",
          "2025-04-03T13:45:00",
          "2025-04-03T13:46:00",
          "2025-04-03T13:47:00",
          "2025-04-03T13:48:00",
          "2025-04-03T13:49:00",
          "2025-04-03T13:50:00",
          "2025-04-03T13:51:00",
          "2025-04-03T13:52:00",
          "2025-04-03T13:53:00",
          "2025-04-03T13:54:00",
          "2025-04-03T13:55:00",
          "2025-04-03T13:56:00",
          "2025-04-03T13:57:00",
          "2025-04-03T13:58:00"
         ],
         "y": [
          127.5,
          127.38,
          127.47,
          127.67,
          128.11,
          128.17,
          127.88,
          128.41,
          128.205,
          128.85,
          128.79,
          129.105,
          129.355,
          129.295,
          129.79,
          129.98
         ]
        },
        {
         "hoveron": "points",
         "hovertemplate": "Trade 11: Return: 1.82%<extra></extra>",
         "line": {
          "color": "green",
          "width": 3
         },
         "marker": {
          "color": "green",
          "size": 4
         },
         "mode": "lines+markers",
         "name": "Trade 11",
         "type": "scatter",
         "visible": true,
         "x": [
          "2025-04-03T13:44:00",
          "2025-04-03T13:45:00",
          "2025-04-03T13:46:00",
          "2025-04-03T13:47:00",
          "2025-04-03T13:48:00",
          "2025-04-03T13:49:00",
          "2025-04-03T13:50:00",
          "2025-04-03T13:51:00",
          "2025-04-03T13:52:00",
          "2025-04-03T13:53:00",
          "2025-04-03T13:54:00",
          "2025-04-03T13:55:00",
          "2025-04-03T13:56:00",
          "2025-04-03T13:57:00",
          "2025-04-03T13:58:00",
          "2025-04-03T13:59:00"
         ],
         "y": [
          127.38,
          127.47,
          127.67,
          128.11,
          128.17,
          127.88,
          128.41,
          128.205,
          128.85,
          128.79,
          129.105,
          129.355,
          129.295,
          129.79,
          129.98,
          129.6994
         ]
        },
        {
         "hoveron": "points",
         "hovertemplate": "Trade 12: Return: 1.80%<extra></extra>",
         "line": {
          "color": "green",
          "width": 3
         },
         "marker": {
          "color": "green",
          "size": 4
         },
         "mode": "lines+markers",
         "name": "Trade 12",
         "type": "scatter",
         "visible": true,
         "x": [
          "2025-04-03T13:45:00",
          "2025-04-03T13:46:00",
          "2025-04-03T13:47:00",
          "2025-04-03T13:48:00",
          "2025-04-03T13:49:00",
          "2025-04-03T13:50:00",
          "2025-04-03T13:51:00",
          "2025-04-03T13:52:00",
          "2025-04-03T13:53:00",
          "2025-04-03T13:54:00",
          "2025-04-03T13:55:00",
          "2025-04-03T13:56:00",
          "2025-04-03T13:57:00",
          "2025-04-03T13:58:00",
          "2025-04-03T13:59:00",
          "2025-04-03T14:00:00"
         ],
         "y": [
          127.47,
          127.67,
          128.11,
          128.17,
          127.88,
          128.41,
          128.205,
          128.85,
          128.79,
          129.105,
          129.355,
          129.295,
          129.79,
          129.98,
          129.6994,
          129.77
         ]
        },
        {
         "hoveron": "points",
         "hovertemplate": "Trade 13: Return: 1.65%<extra></extra>",
         "line": {
          "color": "green",
          "width": 3
         },
         "marker": {
          "color": "green",
          "size": 4
         },
         "mode": "lines+markers",
         "name": "Trade 13",
         "type": "scatter",
         "visible": true,
         "x": [
          "2025-04-03T13:46:00",
          "2025-04-03T13:47:00",
          "2025-04-03T13:48:00",
          "2025-04-03T13:49:00",
          "2025-04-03T13:50:00",
          "2025-04-03T13:51:00",
          "2025-04-03T13:52:00",
          "2025-04-03T13:53:00",
          "2025-04-03T13:54:00",
          "2025-04-03T13:55:00",
          "2025-04-03T13:56:00",
          "2025-04-03T13:57:00",
          "2025-04-03T13:58:00",
          "2025-04-03T13:59:00",
          "2025-04-03T14:00:00",
          "2025-04-03T14:01:00"
         ],
         "y": [
          127.67,
          128.11,
          128.17,
          127.88,
          128.41,
          128.205,
          128.85,
          128.79,
          129.105,
          129.355,
          129.295,
          129.79,
          129.98,
          129.6994,
          129.77,
          129.78
         ]
        },
        {
         "hoveron": "points",
         "hovertemplate": "Trade 14: Return: 1.33%<extra></extra>",
         "line": {
          "color": "green",
          "width": 3
         },
         "marker": {
          "color": "green",
          "size": 4
         },
         "mode": "lines+markers",
         "name": "Trade 14",
         "type": "scatter",
         "visible": true,
         "x": [
          "2025-04-03T13:47:00",
          "2025-04-03T13:48:00",
          "2025-04-03T13:49:00",
          "2025-04-03T13:50:00",
          "2025-04-03T13:51:00",
          "2025-04-03T13:52:00",
          "2025-04-03T13:53:00",
          "2025-04-03T13:54:00",
          "2025-04-03T13:55:00",
          "2025-04-03T13:56:00",
          "2025-04-03T13:57:00",
          "2025-04-03T13:58:00",
          "2025-04-03T13:59:00",
          "2025-04-03T14:00:00",
          "2025-04-03T14:01:00",
          "2025-04-03T14:02:00"
         ],
         "y": [
          128.11,
          128.17,
          127.88,
          128.41,
          128.205,
          128.85,
          128.79,
          129.105,
          129.355,
          129.295,
          129.79,
          129.98,
          129.6994,
          129.77,
          129.78,
          129.81
         ]
        },
        {
         "hoveron": "points",
         "hovertemplate": "Trade 15: Return: 0.84%<extra></extra>",
         "line": {
          "color": "green",
          "width": 3
         },
         "marker": {
          "color": "green",
          "size": 4
         },
         "mode": "lines+markers",
         "name": "Trade 15",
         "type": "scatter",
         "visible": true,
         "x": [
          "2025-04-03T13:48:00",
          "2025-04-03T13:49:00",
          "2025-04-03T13:50:00",
          "2025-04-03T13:51:00",
          "2025-04-03T13:52:00",
          "2025-04-03T13:53:00",
          "2025-04-03T13:54:00",
          "2025-04-03T13:55:00",
          "2025-04-03T13:56:00",
          "2025-04-03T13:57:00",
          "2025-04-03T13:58:00",
          "2025-04-03T13:59:00",
          "2025-04-03T14:00:00",
          "2025-04-03T14:01:00",
          "2025-04-03T14:02:00",
          "2025-04-03T14:03:00"
         ],
         "y": [
          128.17,
          127.88,
          128.41,
          128.205,
          128.85,
          128.79,
          129.105,
          129.355,
          129.295,
          129.79,
          129.98,
          129.6994,
          129.77,
          129.78,
          129.81,
          129.25
         ]
        },
        {
         "hoveron": "points",
         "hovertemplate": "Trade 16: Return: 0.86%<extra></extra>",
         "line": {
          "color": "green",
          "width": 3
         },
         "marker": {
          "color": "green",
          "size": 4
         },
         "mode": "lines+markers",
         "name": "Trade 16",
         "type": "scatter",
         "visible": true,
         "x": [
          "2025-04-03T13:49:00",
          "2025-04-03T13:50:00",
          "2025-04-03T13:51:00",
          "2025-04-03T13:52:00",
          "2025-04-03T13:53:00",
          "2025-04-03T13:54:00",
          "2025-04-03T13:55:00",
          "2025-04-03T13:56:00",
          "2025-04-03T13:57:00",
          "2025-04-03T13:58:00",
          "2025-04-03T13:59:00",
          "2025-04-03T14:00:00",
          "2025-04-03T14:01:00",
          "2025-04-03T14:02:00",
          "2025-04-03T14:03:00",
          "2025-04-03T14:04:00"
         ],
         "y": [
          127.88,
          128.41,
          128.205,
          128.85,
          128.79,
          129.105,
          129.355,
          129.295,
          129.79,
          129.98,
          129.6994,
          129.77,
          129.78,
          129.81,
          129.25,
          128.978
         ]
        },
        {
         "hoveron": "points",
         "hovertemplate": "Trade 17: Return: 0.45%<extra></extra>",
         "line": {
          "color": "green",
          "width": 3
         },
         "marker": {
          "color": "green",
          "size": 4
         },
         "mode": "lines+markers",
         "name": "Trade 17",
         "type": "scatter",
         "visible": true,
         "x": [
          "2025-04-03T13:50:00",
          "2025-04-03T13:51:00",
          "2025-04-03T13:52:00",
          "2025-04-03T13:53:00",
          "2025-04-03T13:54:00",
          "2025-04-03T13:55:00",
          "2025-04-03T13:56:00",
          "2025-04-03T13:57:00",
          "2025-04-03T13:58:00",
          "2025-04-03T13:59:00",
          "2025-04-03T14:00:00",
          "2025-04-03T14:01:00",
          "2025-04-03T14:02:00",
          "2025-04-03T14:03:00",
          "2025-04-03T14:04:00",
          "2025-04-03T14:05:00"
         ],
         "y": [
          128.41,
          128.205,
          128.85,
          128.79,
          129.105,
          129.355,
          129.295,
          129.79,
          129.98,
          129.6994,
          129.77,
          129.78,
          129.81,
          129.25,
          128.978,
          128.99
         ]
        },
        {
         "hoveron": "points",
         "hovertemplate": "Trade 18: Return: 0.68%<extra></extra>",
         "line": {
          "color": "green",
          "width": 3
         },
         "marker": {
          "color": "green",
          "size": 4
         },
         "mode": "lines+markers",
         "name": "Trade 18",
         "type": "scatter",
         "visible": true,
         "x": [
          "2025-04-03T13:51:00",
          "2025-04-03T13:52:00",
          "2025-04-03T13:53:00",
          "2025-04-03T13:54:00",
          "2025-04-03T13:55:00",
          "2025-04-03T13:56:00",
          "2025-04-03T13:57:00",
          "2025-04-03T13:58:00",
          "2025-04-03T13:59:00",
          "2025-04-03T14:00:00",
          "2025-04-03T14:01:00",
          "2025-04-03T14:02:00",
          "2025-04-03T14:03:00",
          "2025-04-03T14:04:00",
          "2025-04-03T14:05:00",
          "2025-04-03T14:06:00"
         ],
         "y": [
          128.205,
          128.85,
          128.79,
          129.105,
          129.355,
          129.295,
          129.79,
          129.98,
          129.6994,
          129.77,
          129.78,
          129.81,
          129.25,
          128.978,
          128.99,
          129.07
         ]
        },
        {
         "hoveron": "points",
         "hovertemplate": "Trade 19: Return: 0.36%<extra></extra>",
         "line": {
          "color": "green",
          "width": 3
         },
         "marker": {
          "color": "green",
          "size": 4
         },
         "mode": "lines+markers",
         "name": "Trade 19",
         "type": "scatter",
         "visible": true,
         "x": [
          "2025-04-03T13:53:00",
          "2025-04-03T13:54:00",
          "2025-04-03T13:55:00",
          "2025-04-03T13:56:00",
          "2025-04-03T13:57:00",
          "2025-04-03T13:58:00",
          "2025-04-03T13:59:00",
          "2025-04-03T14:00:00",
          "2025-04-03T14:01:00",
          "2025-04-03T14:02:00",
          "2025-04-03T14:03:00",
          "2025-04-03T14:04:00",
          "2025-04-03T14:05:00",
          "2025-04-03T14:06:00",
          "2025-04-03T14:07:00",
          "2025-04-03T14:08:00"
         ],
         "y": [
          128.79,
          129.105,
          129.355,
          129.295,
          129.79,
          129.98,
          129.6994,
          129.77,
          129.78,
          129.81,
          129.25,
          128.978,
          128.99,
          129.07,
          129.205,
          129.26
         ]
        },
        {
         "hoveron": "points",
         "hovertemplate": "Trade 20: Return: 0.43%<extra></extra>",
         "line": {
          "color": "green",
          "width": 3
         },
         "marker": {
          "color": "green",
          "size": 4
         },
         "mode": "lines+markers",
         "name": "Trade 20",
         "type": "scatter",
         "visible": true,
         "x": [
          "2025-04-03T14:01:00",
          "2025-04-03T14:02:00",
          "2025-04-03T14:03:00",
          "2025-04-03T14:04:00",
          "2025-04-03T14:05:00",
          "2025-04-03T14:06:00",
          "2025-04-03T14:07:00",
          "2025-04-03T14:08:00",
          "2025-04-03T14:09:00",
          "2025-04-03T14:10:00",
          "2025-04-03T14:11:00",
          "2025-04-03T14:12:00",
          "2025-04-03T14:13:00",
          "2025-04-03T14:14:00",
          "2025-04-03T14:15:00",
          "2025-04-03T14:16:00"
         ],
         "y": [
          129.78,
          129.81,
          129.25,
          128.978,
          128.99,
          129.07,
          129.205,
          129.26,
          129.23,
          129.485,
          129.22,
          129.15,
          129.01,
          129.23,
          129.92,
          130.3375
         ]
        },
        {
         "hoveron": "points",
         "hovertemplate": "Trade 21: Return: 0.41%<extra></extra>",
         "line": {
          "color": "green",
          "width": 3
         },
         "marker": {
          "color": "green",
          "size": 4
         },
         "mode": "lines+markers",
         "name": "Trade 21",
         "type": "scatter",
         "visible": true,
         "x": [
          "2025-04-03T14:02:00",
          "2025-04-03T14:03:00",
          "2025-04-03T14:04:00",
          "2025-04-03T14:05:00",
          "2025-04-03T14:06:00",
          "2025-04-03T14:07:00",
          "2025-04-03T14:08:00",
          "2025-04-03T14:09:00",
          "2025-04-03T14:10:00",
          "2025-04-03T14:11:00",
          "2025-04-03T14:12:00",
          "2025-04-03T14:13:00",
          "2025-04-03T14:14:00",
          "2025-04-03T14:15:00",
          "2025-04-03T14:16:00",
          "2025-04-03T14:17:00"
         ],
         "y": [
          129.81,
          129.25,
          128.978,
          128.99,
          129.07,
          129.205,
          129.26,
          129.23,
          129.485,
          129.22,
          129.15,
          129.01,
          129.23,
          129.92,
          130.3375,
          130.3375
         ]
        },
        {
         "hoveron": "points",
         "hovertemplate": "Trade 22: Return: 0.92%<extra></extra>",
         "line": {
          "color": "green",
          "width": 3
         },
         "marker": {
          "color": "green",
          "size": 4
         },
         "mode": "lines+markers",
         "name": "Trade 22",
         "type": "scatter",
         "visible": true,
         "x": [
          "2025-04-03T14:03:00",
          "2025-04-03T14:04:00",
          "2025-04-03T14:05:00",
          "2025-04-03T14:06:00",
          "2025-04-03T14:07:00",
          "2025-04-03T14:08:00",
          "2025-04-03T14:09:00",
          "2025-04-03T14:10:00",
          "2025-04-03T14:11:00",
          "2025-04-03T14:12:00",
          "2025-04-03T14:13:00",
          "2025-04-03T14:14:00",
          "2025-04-03T14:15:00",
          "2025-04-03T14:16:00",
          "2025-04-03T14:17:00",
          "2025-04-03T14:18:00"
         ],
         "y": [
          129.25,
          128.978,
          128.99,
          129.07,
          129.205,
          129.26,
          129.23,
          129.485,
          129.22,
          129.15,
          129.01,
          129.23,
          129.92,
          130.3375,
          130.3375,
          130.44
         ]
        },
        {
         "hoveron": "points",
         "hovertemplate": "Trade 23: Return: 1.18%<extra></extra>",
         "line": {
          "color": "green",
          "width": 3
         },
         "marker": {
          "color": "green",
          "size": 4
         },
         "mode": "lines+markers",
         "name": "Trade 23",
         "type": "scatter",
         "visible": true,
         "x": [
          "2025-04-03T14:04:00",
          "2025-04-03T14:05:00",
          "2025-04-03T14:06:00",
          "2025-04-03T14:07:00",
          "2025-04-03T14:08:00",
          "2025-04-03T14:09:00",
          "2025-04-03T14:10:00",
          "2025-04-03T14:11:00",
          "2025-04-03T14:12:00",
          "2025-04-03T14:13:00",
          "2025-04-03T14:14:00",
          "2025-04-03T14:15:00",
          "2025-04-03T14:16:00",
          "2025-04-03T14:17:00",
          "2025-04-03T14:18:00",
          "2025-04-03T14:19:00"
         ],
         "y": [
          128.978,
          128.99,
          129.07,
          129.205,
          129.26,
          129.23,
          129.485,
          129.22,
          129.15,
          129.01,
          129.23,
          129.92,
          130.3375,
          130.3375,
          130.44,
          130.5
         ]
        },
        {
         "hoveron": "points",
         "hovertemplate": "Trade 24: Return: 1.04%<extra></extra>",
         "line": {
          "color": "green",
          "width": 3
         },
         "marker": {
          "color": "green",
          "size": 4
         },
         "mode": "lines+markers",
         "name": "Trade 24",
         "type": "scatter",
         "visible": true,
         "x": [
          "2025-04-03T14:05:00",
          "2025-04-03T14:06:00",
          "2025-04-03T14:07:00",
          "2025-04-03T14:08:00",
          "2025-04-03T14:09:00",
          "2025-04-03T14:10:00",
          "2025-04-03T14:11:00",
          "2025-04-03T14:12:00",
          "2025-04-03T14:13:00",
          "2025-04-03T14:14:00",
          "2025-04-03T14:15:00",
          "2025-04-03T14:16:00",
          "2025-04-03T14:17:00",
          "2025-04-03T14:18:00",
          "2025-04-03T14:19:00",
          "2025-04-03T14:20:00"
         ],
         "y": [
          128.99,
          129.07,
          129.205,
          129.26,
          129.23,
          129.485,
          129.22,
          129.15,
          129.01,
          129.23,
          129.92,
          130.3375,
          130.3375,
          130.44,
          130.5,
          130.33
         ]
        },
        {
         "hoveron": "points",
         "hovertemplate": "Trade 25: Return: 0.95%<extra></extra>",
         "line": {
          "color": "green",
          "width": 3
         },
         "marker": {
          "color": "green",
          "size": 4
         },
         "mode": "lines+markers",
         "name": "Trade 25",
         "type": "scatter",
         "visible": true,
         "x": [
          "2025-04-03T14:06:00",
          "2025-04-03T14:07:00",
          "2025-04-03T14:08:00",
          "2025-04-03T14:09:00",
          "2025-04-03T14:10:00",
          "2025-04-03T14:11:00",
          "2025-04-03T14:12:00",
          "2025-04-03T14:13:00",
          "2025-04-03T14:14:00",
          "2025-04-03T14:15:00",
          "2025-04-03T14:16:00",
          "2025-04-03T14:17:00",
          "2025-04-03T14:18:00",
          "2025-04-03T14:19:00",
          "2025-04-03T14:20:00",
          "2025-04-03T14:21:00"
         ],
         "y": [
          129.07,
          129.205,
          129.26,
          129.23,
          129.485,
          129.22,
          129.15,
          129.01,
          129.23,
          129.92,
          130.3375,
          130.3375,
          130.44,
          130.5,
          130.33,
          130.3
         ]
        },
        {
         "hoveron": "points",
         "hovertemplate": "Trade 26: Return: 0.65%<extra></extra>",
         "line": {
          "color": "green",
          "width": 3
         },
         "marker": {
          "color": "green",
          "size": 4
         },
         "mode": "lines+markers",
         "name": "Trade 26",
         "type": "scatter",
         "visible": true,
         "x": [
          "2025-04-03T14:07:00",
          "2025-04-03T14:08:00",
          "2025-04-03T14:09:00",
          "2025-04-03T14:10:00",
          "2025-04-03T14:11:00",
          "2025-04-03T14:12:00",
          "2025-04-03T14:13:00",
          "2025-04-03T14:14:00",
          "2025-04-03T14:15:00",
          "2025-04-03T14:16:00",
          "2025-04-03T14:17:00",
          "2025-04-03T14:18:00",
          "2025-04-03T14:19:00",
          "2025-04-03T14:20:00",
          "2025-04-03T14:21:00",
          "2025-04-03T14:22:00"
         ],
         "y": [
          129.205,
          129.26,
          129.23,
          129.485,
          129.22,
          129.15,
          129.01,
          129.23,
          129.92,
          130.3375,
          130.3375,
          130.44,
          130.5,
          130.33,
          130.3,
          130.045
         ]
        },
        {
         "hoveron": "points",
         "hovertemplate": "Trade 27: Return: 0.53%<extra></extra>",
         "line": {
          "color": "green",
          "width": 3
         },
         "marker": {
          "color": "green",
          "size": 4
         },
         "mode": "lines+markers",
         "name": "Trade 27",
         "type": "scatter",
         "visible": true,
         "x": [
          "2025-04-03T14:08:00",
          "2025-04-03T14:09:00",
          "2025-04-03T14:10:00",
          "2025-04-03T14:11:00",
          "2025-04-03T14:12:00",
          "2025-04-03T14:13:00",
          "2025-04-03T14:14:00",
          "2025-04-03T14:15:00",
          "2025-04-03T14:16:00",
          "2025-04-03T14:17:00",
          "2025-04-03T14:18:00",
          "2025-04-03T14:19:00",
          "2025-04-03T14:20:00",
          "2025-04-03T14:21:00",
          "2025-04-03T14:22:00",
          "2025-04-03T14:23:00"
         ],
         "y": [
          129.26,
          129.23,
          129.485,
          129.22,
          129.15,
          129.01,
          129.23,
          129.92,
          130.3375,
          130.3375,
          130.44,
          130.5,
          130.33,
          130.3,
          130.045,
          129.95
         ]
        },
        {
         "hoveron": "points",
         "hovertemplate": "Trade 28: Return: 0.69%<extra></extra>",
         "line": {
          "color": "green",
          "width": 3
         },
         "marker": {
          "color": "green",
          "size": 4
         },
         "mode": "lines+markers",
         "name": "Trade 28",
         "type": "scatter",
         "visible": true,
         "x": [
          "2025-04-03T14:09:00",
          "2025-04-03T14:10:00",
          "2025-04-03T14:11:00",
          "2025-04-03T14:12:00",
          "2025-04-03T14:13:00",
          "2025-04-03T14:14:00",
          "2025-04-03T14:15:00",
          "2025-04-03T14:16:00",
          "2025-04-03T14:17:00",
          "2025-04-03T14:18:00",
          "2025-04-03T14:19:00",
          "2025-04-03T14:20:00",
          "2025-04-03T14:21:00",
          "2025-04-03T14:22:00",
          "2025-04-03T14:23:00",
          "2025-04-03T14:24:00"
         ],
         "y": [
          129.23,
          129.485,
          129.22,
          129.15,
          129.01,
          129.23,
          129.92,
          130.3375,
          130.3375,
          130.44,
          130.5,
          130.33,
          130.3,
          130.045,
          129.95,
          130.12
         ]
        },
        {
         "hoveron": "points",
         "hovertemplate": "Trade 29: Return: 0.71%<extra></extra>",
         "line": {
          "color": "green",
          "width": 3
         },
         "marker": {
          "color": "green",
          "size": 4
         },
         "mode": "lines+markers",
         "name": "Trade 29",
         "type": "scatter",
         "visible": true,
         "x": [
          "2025-04-03T14:11:00",
          "2025-04-03T14:12:00",
          "2025-04-03T14:13:00",
          "2025-04-03T14:14:00",
          "2025-04-03T14:15:00",
          "2025-04-03T14:16:00",
          "2025-04-03T14:17:00",
          "2025-04-03T14:18:00",
          "2025-04-03T14:19:00",
          "2025-04-03T14:20:00",
          "2025-04-03T14:21:00",
          "2025-04-03T14:22:00",
          "2025-04-03T14:23:00",
          "2025-04-03T14:24:00",
          "2025-04-03T14:25:00",
          "2025-04-03T14:26:00"
         ],
         "y": [
          129.22,
          129.15,
          129.01,
          129.23,
          129.92,
          130.3375,
          130.3375,
          130.44,
          130.5,
          130.33,
          130.3,
          130.045,
          129.95,
          130.12,
          129.83,
          130.135
         ]
        },
        {
         "hoveron": "points",
         "hovertemplate": "Trade 30: Return: 0.97%<extra></extra>",
         "line": {
          "color": "green",
          "width": 3
         },
         "marker": {
          "color": "green",
          "size": 4
         },
         "mode": "lines+markers",
         "name": "Trade 30",
         "type": "scatter",
         "visible": true,
         "x": [
          "2025-04-03T14:12:00",
          "2025-04-03T14:13:00",
          "2025-04-03T14:14:00",
          "2025-04-03T14:15:00",
          "2025-04-03T14:16:00",
          "2025-04-03T14:17:00",
          "2025-04-03T14:18:00",
          "2025-04-03T14:19:00",
          "2025-04-03T14:20:00",
          "2025-04-03T14:21:00",
          "2025-04-03T14:22:00",
          "2025-04-03T14:23:00",
          "2025-04-03T14:24:00",
          "2025-04-03T14:25:00",
          "2025-04-03T14:26:00",
          "2025-04-03T14:27:00"
         ],
         "y": [
          129.15,
          129.01,
          129.23,
          129.92,
          130.3375,
          130.3375,
          130.44,
          130.5,
          130.33,
          130.3,
          130.045,
          129.95,
          130.12,
          129.83,
          130.135,
          130.4
         ]
        },
        {
         "hoveron": "points",
         "hovertemplate": "Trade 31: Return: 0.93%<extra></extra>",
         "line": {
          "color": "green",
          "width": 3
         },
         "marker": {
          "color": "green",
          "size": 4
         },
         "mode": "lines+markers",
         "name": "Trade 31",
         "type": "scatter",
         "visible": true,
         "x": [
          "2025-04-03T14:13:00",
          "2025-04-03T14:14:00",
          "2025-04-03T14:15:00",
          "2025-04-03T14:16:00",
          "2025-04-03T14:17:00",
          "2025-04-03T14:18:00",
          "2025-04-03T14:19:00",
          "2025-04-03T14:20:00",
          "2025-04-03T14:21:00",
          "2025-04-03T14:22:00",
          "2025-04-03T14:23:00",
          "2025-04-03T14:24:00",
          "2025-04-03T14:25:00",
          "2025-04-03T14:26:00",
          "2025-04-03T14:27:00",
          "2025-04-03T14:28:00"
         ],
         "y": [
          129.01,
          129.23,
          129.92,
          130.3375,
          130.3375,
          130.44,
          130.5,
          130.33,
          130.3,
          130.045,
          129.95,
          130.12,
          129.83,
          130.135,
          130.4,
          130.21
         ]
        },
        {
         "hoveron": "points",
         "hovertemplate": "Trade 32: Return: 0.64%<extra></extra>",
         "line": {
          "color": "green",
          "width": 3
         },
         "marker": {
          "color": "green",
          "size": 4
         },
         "mode": "lines+markers",
         "name": "Trade 32",
         "type": "scatter",
         "visible": true,
         "x": [
          "2025-04-03T14:14:00",
          "2025-04-03T14:15:00",
          "2025-04-03T14:16:00",
          "2025-04-03T14:17:00",
          "2025-04-03T14:18:00",
          "2025-04-03T14:19:00",
          "2025-04-03T14:20:00",
          "2025-04-03T14:21:00",
          "2025-04-03T14:22:00",
          "2025-04-03T14:23:00",
          "2025-04-03T14:24:00",
          "2025-04-03T14:25:00",
          "2025-04-03T14:26:00",
          "2025-04-03T14:27:00",
          "2025-04-03T14:28:00",
          "2025-04-03T14:29:00"
         ],
         "y": [
          129.23,
          129.92,
          130.3375,
          130.3375,
          130.44,
          130.5,
          130.33,
          130.3,
          130.045,
          129.95,
          130.12,
          129.83,
          130.135,
          130.4,
          130.21,
          130.05
         ]
        },
        {
         "hoveron": "points",
         "hovertemplate": "Trade 33: Return: 0.61%<extra></extra>",
         "line": {
          "color": "green",
          "width": 3
         },
         "marker": {
          "color": "green",
          "size": 4
         },
         "mode": "lines+markers",
         "name": "Trade 33",
         "type": "scatter",
         "visible": true,
         "x": [
          "2025-04-03T15:21:00",
          "2025-04-03T15:22:00",
          "2025-04-03T15:23:00",
          "2025-04-03T15:24:00",
          "2025-04-03T15:25:00",
          "2025-04-03T15:26:00",
          "2025-04-03T15:27:00",
          "2025-04-03T15:28:00",
          "2025-04-03T15:29:00",
          "2025-04-03T15:30:00",
          "2025-04-03T15:31:00",
          "2025-04-03T15:32:00",
          "2025-04-03T15:33:00",
          "2025-04-03T15:34:00",
          "2025-04-03T15:35:00",
          "2025-04-03T15:36:00"
         ],
         "y": [
          128.06,
          128.17,
          128.23,
          128.18,
          128.32,
          128.29,
          128.25,
          128.46,
          128.4727,
          128.72,
          128.5002,
          128.6,
          128.6,
          128.65,
          128.5775,
          128.84
         ]
        },
        {
         "hoveron": "points",
         "hovertemplate": "Trade 34: Return: 0.62%<extra></extra>",
         "line": {
          "color": "green",
          "width": 3
         },
         "marker": {
          "color": "green",
          "size": 4
         },
         "mode": "lines+markers",
         "name": "Trade 34",
         "type": "scatter",
         "visible": true,
         "x": [
          "2025-04-03T15:22:00",
          "2025-04-03T15:23:00",
          "2025-04-03T15:24:00",
          "2025-04-03T15:25:00",
          "2025-04-03T15:26:00",
          "2025-04-03T15:27:00",
          "2025-04-03T15:28:00",
          "2025-04-03T15:29:00",
          "2025-04-03T15:30:00",
          "2025-04-03T15:31:00",
          "2025-04-03T15:32:00",
          "2025-04-03T15:33:00",
          "2025-04-03T15:34:00",
          "2025-04-03T15:35:00",
          "2025-04-03T15:36:00",
          "2025-04-03T15:37:00"
         ],
         "y": [
          128.17,
          128.23,
          128.18,
          128.32,
          128.29,
          128.25,
          128.46,
          128.4727,
          128.72,
          128.5002,
          128.6,
          128.6,
          128.65,
          128.5775,
          128.84,
          128.97
         ]
        },
        {
         "hoveron": "points",
         "hovertemplate": "Trade 35: Return: 0.48%<extra></extra>",
         "line": {
          "color": "green",
          "width": 3
         },
         "marker": {
          "color": "green",
          "size": 4
         },
         "mode": "lines+markers",
         "name": "Trade 35",
         "type": "scatter",
         "visible": true,
         "x": [
          "2025-04-03T15:23:00",
          "2025-04-03T15:24:00",
          "2025-04-03T15:25:00",
          "2025-04-03T15:26:00",
          "2025-04-03T15:27:00",
          "2025-04-03T15:28:00",
          "2025-04-03T15:29:00",
          "2025-04-03T15:30:00",
          "2025-04-03T15:31:00",
          "2025-04-03T15:32:00",
          "2025-04-03T15:33:00",
          "2025-04-03T15:34:00",
          "2025-04-03T15:35:00",
          "2025-04-03T15:36:00",
          "2025-04-03T15:37:00",
          "2025-04-03T15:38:00"
         ],
         "y": [
          128.23,
          128.18,
          128.32,
          128.29,
          128.25,
          128.46,
          128.4727,
          128.72,
          128.5002,
          128.6,
          128.6,
          128.65,
          128.5775,
          128.84,
          128.97,
          128.84
         ]
        },
        {
         "hoveron": "points",
         "hovertemplate": "Trade 36: Return: 0.44%<extra></extra>",
         "line": {
          "color": "green",
          "width": 3
         },
         "marker": {
          "color": "green",
          "size": 4
         },
         "mode": "lines+markers",
         "name": "Trade 36",
         "type": "scatter",
         "visible": true,
         "x": [
          "2025-04-03T15:24:00",
          "2025-04-03T15:25:00",
          "2025-04-03T15:26:00",
          "2025-04-03T15:27:00",
          "2025-04-03T15:28:00",
          "2025-04-03T15:29:00",
          "2025-04-03T15:30:00",
          "2025-04-03T15:31:00",
          "2025-04-03T15:32:00",
          "2025-04-03T15:33:00",
          "2025-04-03T15:34:00",
          "2025-04-03T15:35:00",
          "2025-04-03T15:36:00",
          "2025-04-03T15:37:00",
          "2025-04-03T15:38:00",
          "2025-04-03T15:39:00"
         ],
         "y": [
          128.18,
          128.32,
          128.29,
          128.25,
          128.46,
          128.4727,
          128.72,
          128.5002,
          128.6,
          128.6,
          128.65,
          128.5775,
          128.84,
          128.97,
          128.84,
          128.74
         ]
        },
        {
         "hoveron": "points",
         "hovertemplate": "Trade 37: Return: 0.41%<extra></extra>",
         "line": {
          "color": "green",
          "width": 3
         },
         "marker": {
          "color": "green",
          "size": 4
         },
         "mode": "lines+markers",
         "name": "Trade 37",
         "type": "scatter",
         "visible": true,
         "x": [
          "2025-04-03T15:26:00",
          "2025-04-03T15:27:00",
          "2025-04-03T15:28:00",
          "2025-04-03T15:29:00",
          "2025-04-03T15:30:00",
          "2025-04-03T15:31:00",
          "2025-04-03T15:32:00",
          "2025-04-03T15:33:00",
          "2025-04-03T15:34:00",
          "2025-04-03T15:35:00",
          "2025-04-03T15:36:00",
          "2025-04-03T15:37:00",
          "2025-04-03T15:38:00",
          "2025-04-03T15:39:00",
          "2025-04-03T15:40:00",
          "2025-04-03T15:41:00"
         ],
         "y": [
          128.29,
          128.25,
          128.46,
          128.4727,
          128.72,
          128.5002,
          128.6,
          128.6,
          128.65,
          128.5775,
          128.84,
          128.97,
          128.84,
          128.74,
          128.6639,
          128.81
         ]
        },
        {
         "hoveron": "points",
         "hovertemplate": "Trade 38: Return: 0.46%<extra></extra>",
         "line": {
          "color": "green",
          "width": 3
         },
         "marker": {
          "color": "green",
          "size": 4
         },
         "mode": "lines+markers",
         "name": "Trade 38",
         "type": "scatter",
         "visible": true,
         "x": [
          "2025-04-03T15:27:00",
          "2025-04-03T15:28:00",
          "2025-04-03T15:29:00",
          "2025-04-03T15:30:00",
          "2025-04-03T15:31:00",
          "2025-04-03T15:32:00",
          "2025-04-03T15:33:00",
          "2025-04-03T15:34:00",
          "2025-04-03T15:35:00",
          "2025-04-03T15:36:00",
          "2025-04-03T15:37:00",
          "2025-04-03T15:38:00",
          "2025-04-03T15:39:00",
          "2025-04-03T15:40:00",
          "2025-04-03T15:41:00",
          "2025-04-03T15:42:00"
         ],
         "y": [
          128.25,
          128.46,
          128.4727,
          128.72,
          128.5002,
          128.6,
          128.6,
          128.65,
          128.5775,
          128.84,
          128.97,
          128.84,
          128.74,
          128.6639,
          128.81,
          128.84
         ]
        },
        {
         "hoveron": "points",
         "hovertemplate": "Trade 39: Return: 0.37%<extra></extra>",
         "line": {
          "color": "green",
          "width": 3
         },
         "marker": {
          "color": "green",
          "size": 4
         },
         "mode": "lines+markers",
         "name": "Trade 39",
         "type": "scatter",
         "visible": true,
         "x": [
          "2025-04-03T15:28:00",
          "2025-04-03T15:29:00",
          "2025-04-03T15:30:00",
          "2025-04-03T15:31:00",
          "2025-04-03T15:32:00",
          "2025-04-03T15:33:00",
          "2025-04-03T15:34:00",
          "2025-04-03T15:35:00",
          "2025-04-03T15:36:00",
          "2025-04-03T15:37:00",
          "2025-04-03T15:38:00",
          "2025-04-03T15:39:00",
          "2025-04-03T15:40:00",
          "2025-04-03T15:41:00",
          "2025-04-03T15:42:00",
          "2025-04-03T15:43:00"
         ],
         "y": [
          128.46,
          128.4727,
          128.72,
          128.5002,
          128.6,
          128.6,
          128.65,
          128.5775,
          128.84,
          128.97,
          128.84,
          128.74,
          128.6639,
          128.81,
          128.84,
          128.935
         ]
        },
        {
         "hoveron": "points",
         "hovertemplate": "Trade 40: Return: 0.42%<extra></extra>",
         "line": {
          "color": "green",
          "width": 3
         },
         "marker": {
          "color": "green",
          "size": 4
         },
         "mode": "lines+markers",
         "name": "Trade 40",
         "type": "scatter",
         "visible": true,
         "x": [
          "2025-04-03T15:29:00",
          "2025-04-03T15:30:00",
          "2025-04-03T15:31:00",
          "2025-04-03T15:32:00",
          "2025-04-03T15:33:00",
          "2025-04-03T15:34:00",
          "2025-04-03T15:35:00",
          "2025-04-03T15:36:00",
          "2025-04-03T15:37:00",
          "2025-04-03T15:38:00",
          "2025-04-03T15:39:00",
          "2025-04-03T15:40:00",
          "2025-04-03T15:41:00",
          "2025-04-03T15:42:00",
          "2025-04-03T15:43:00",
          "2025-04-03T15:44:00"
         ],
         "y": [
          128.4727,
          128.72,
          128.5002,
          128.6,
          128.6,
          128.65,
          128.5775,
          128.84,
          128.97,
          128.84,
          128.74,
          128.6639,
          128.81,
          128.84,
          128.935,
          129.01
         ]
        },
        {
         "hoveron": "points",
         "hovertemplate": "Trade 41: Return: 0.34%<extra></extra>",
         "line": {
          "color": "green",
          "width": 3
         },
         "marker": {
          "color": "green",
          "size": 4
         },
         "mode": "lines+markers",
         "name": "Trade 41",
         "type": "scatter",
         "visible": true,
         "x": [
          "2025-04-03T15:31:00",
          "2025-04-03T15:32:00",
          "2025-04-03T15:33:00",
          "2025-04-03T15:34:00",
          "2025-04-03T15:35:00",
          "2025-04-03T15:36:00",
          "2025-04-03T15:37:00",
          "2025-04-03T15:38:00",
          "2025-04-03T15:39:00",
          "2025-04-03T15:40:00",
          "2025-04-03T15:41:00",
          "2025-04-03T15:42:00",
          "2025-04-03T15:43:00",
          "2025-04-03T15:44:00",
          "2025-04-03T15:45:00",
          "2025-04-03T15:46:00"
         ],
         "y": [
          128.5002,
          128.6,
          128.6,
          128.65,
          128.5775,
          128.84,
          128.97,
          128.84,
          128.74,
          128.6639,
          128.81,
          128.84,
          128.935,
          129.01,
          128.905,
          128.9375
         ]
        },
        {
         "hoveron": "points",
         "hovertemplate": "Trade 42: Return: 0.42%<extra></extra>",
         "line": {
          "color": "green",
          "width": 3
         },
         "marker": {
          "color": "green",
          "size": 4
         },
         "mode": "lines+markers",
         "name": "Trade 42",
         "type": "scatter",
         "visible": true,
         "x": [
          "2025-04-03T15:47:00",
          "2025-04-03T15:48:00",
          "2025-04-03T15:49:00",
          "2025-04-03T15:50:00",
          "2025-04-03T15:51:00",
          "2025-04-03T15:52:00",
          "2025-04-03T15:53:00",
          "2025-04-03T15:54:00",
          "2025-04-03T15:55:00",
          "2025-04-03T15:56:00",
          "2025-04-03T15:57:00",
          "2025-04-03T15:58:00",
          "2025-04-03T15:59:00",
          "2025-04-03T16:00:00",
          "2025-04-03T16:01:00",
          "2025-04-03T16:02:00"
         ],
         "y": [
          128.845,
          129.01,
          128.8586,
          128.795,
          128.72,
          128.84,
          128.7,
          128.86,
          128.875,
          128.92,
          129,
          129.1115,
          129.0253,
          129.19,
          129.32,
          129.3805
         ]
        },
        {
         "hoveron": "points",
         "hovertemplate": "Trade 43: Return: 0.37%<extra></extra>",
         "line": {
          "color": "green",
          "width": 3
         },
         "marker": {
          "color": "green",
          "size": 4
         },
         "mode": "lines+markers",
         "name": "Trade 43",
         "type": "scatter",
         "visible": true,
         "x": [
          "2025-04-03T15:49:00",
          "2025-04-03T15:50:00",
          "2025-04-03T15:51:00",
          "2025-04-03T15:52:00",
          "2025-04-03T15:53:00",
          "2025-04-03T15:54:00",
          "2025-04-03T15:55:00",
          "2025-04-03T15:56:00",
          "2025-04-03T15:57:00",
          "2025-04-03T15:58:00",
          "2025-04-03T15:59:00",
          "2025-04-03T16:00:00",
          "2025-04-03T16:01:00",
          "2025-04-03T16:02:00",
          "2025-04-03T16:03:00",
          "2025-04-03T16:04:00"
         ],
         "y": [
          128.8586,
          128.795,
          128.72,
          128.84,
          128.7,
          128.86,
          128.875,
          128.92,
          129,
          129.1115,
          129.0253,
          129.19,
          129.32,
          129.3805,
          129.36,
          129.33
         ]
        },
        {
         "hoveron": "points",
         "hovertemplate": "Trade 44: Return: 0.49%<extra></extra>",
         "line": {
          "color": "green",
          "width": 3
         },
         "marker": {
          "color": "green",
          "size": 4
         },
         "mode": "lines+markers",
         "name": "Trade 44",
         "type": "scatter",
         "visible": true,
         "x": [
          "2025-04-03T15:50:00",
          "2025-04-03T15:51:00",
          "2025-04-03T15:52:00",
          "2025-04-03T15:53:00",
          "2025-04-03T15:54:00",
          "2025-04-03T15:55:00",
          "2025-04-03T15:56:00",
          "2025-04-03T15:57:00",
          "2025-04-03T15:58:00",
          "2025-04-03T15:59:00",
          "2025-04-03T16:00:00",
          "2025-04-03T16:01:00",
          "2025-04-03T16:02:00",
          "2025-04-03T16:03:00",
          "2025-04-03T16:04:00",
          "2025-04-03T16:05:00"
         ],
         "y": [
          128.795,
          128.72,
          128.84,
          128.7,
          128.86,
          128.875,
          128.92,
          129,
          129.1115,
          129.0253,
          129.19,
          129.32,
          129.3805,
          129.36,
          129.33,
          129.43
         ]
        },
        {
         "hoveron": "points",
         "hovertemplate": "Trade 45: Return: 0.42%<extra></extra>",
         "line": {
          "color": "green",
          "width": 3
         },
         "marker": {
          "color": "green",
          "size": 4
         },
         "mode": "lines+markers",
         "name": "Trade 45",
         "type": "scatter",
         "visible": true,
         "x": [
          "2025-04-03T15:51:00",
          "2025-04-03T15:52:00",
          "2025-04-03T15:53:00",
          "2025-04-03T15:54:00",
          "2025-04-03T15:55:00",
          "2025-04-03T15:56:00",
          "2025-04-03T15:57:00",
          "2025-04-03T15:58:00",
          "2025-04-03T15:59:00",
          "2025-04-03T16:00:00",
          "2025-04-03T16:01:00",
          "2025-04-03T16:02:00",
          "2025-04-03T16:03:00",
          "2025-04-03T16:04:00",
          "2025-04-03T16:05:00",
          "2025-04-03T16:06:00"
         ],
         "y": [
          128.72,
          128.84,
          128.7,
          128.86,
          128.875,
          128.92,
          129,
          129.1115,
          129.0253,
          129.19,
          129.32,
          129.3805,
          129.36,
          129.33,
          129.43,
          129.26
         ]
        },
        {
         "hoveron": "points",
         "hovertemplate": "Trade 46: Return: 0.39%<extra></extra>",
         "line": {
          "color": "green",
          "width": 3
         },
         "marker": {
          "color": "green",
          "size": 4
         },
         "mode": "lines+markers",
         "name": "Trade 46",
         "type": "scatter",
         "visible": true,
         "x": [
          "2025-04-03T15:52:00",
          "2025-04-03T15:53:00",
          "2025-04-03T15:54:00",
          "2025-04-03T15:55:00",
          "2025-04-03T15:56:00",
          "2025-04-03T15:57:00",
          "2025-04-03T15:58:00",
          "2025-04-03T15:59:00",
          "2025-04-03T16:00:00",
          "2025-04-03T16:01:00",
          "2025-04-03T16:02:00",
          "2025-04-03T16:03:00",
          "2025-04-03T16:04:00",
          "2025-04-03T16:05:00",
          "2025-04-03T16:06:00",
          "2025-04-03T16:07:00"
         ],
         "y": [
          128.84,
          128.7,
          128.86,
          128.875,
          128.92,
          129,
          129.1115,
          129.0253,
          129.19,
          129.32,
          129.3805,
          129.36,
          129.33,
          129.43,
          129.26,
          129.3455
         ]
        },
        {
         "hoveron": "points",
         "hovertemplate": "Trade 47: Return: 0.45%<extra></extra>",
         "line": {
          "color": "green",
          "width": 3
         },
         "marker": {
          "color": "green",
          "size": 4
         },
         "mode": "lines+markers",
         "name": "Trade 47",
         "type": "scatter",
         "visible": true,
         "x": [
          "2025-04-03T15:53:00",
          "2025-04-03T15:54:00",
          "2025-04-03T15:55:00",
          "2025-04-03T15:56:00",
          "2025-04-03T15:57:00",
          "2025-04-03T15:58:00",
          "2025-04-03T15:59:00",
          "2025-04-03T16:00:00",
          "2025-04-03T16:01:00",
          "2025-04-03T16:02:00",
          "2025-04-03T16:03:00",
          "2025-04-03T16:04:00",
          "2025-04-03T16:05:00",
          "2025-04-03T16:06:00",
          "2025-04-03T16:07:00",
          "2025-04-03T16:08:00"
         ],
         "y": [
          128.7,
          128.86,
          128.875,
          128.92,
          129,
          129.1115,
          129.0253,
          129.19,
          129.32,
          129.3805,
          129.36,
          129.33,
          129.43,
          129.26,
          129.3455,
          129.28
         ]
        },
        {
         "hoveron": "points",
         "hovertemplate": "Trade 48: Return: 0.38%<extra></extra>",
         "line": {
          "color": "green",
          "width": 3
         },
         "marker": {
          "color": "green",
          "size": 4
         },
         "mode": "lines+markers",
         "name": "Trade 48",
         "type": "scatter",
         "visible": true,
         "x": [
          "2025-04-03T15:59:00",
          "2025-04-03T16:00:00",
          "2025-04-03T16:01:00",
          "2025-04-03T16:02:00",
          "2025-04-03T16:03:00",
          "2025-04-03T16:04:00",
          "2025-04-03T16:05:00",
          "2025-04-03T16:06:00",
          "2025-04-03T16:07:00",
          "2025-04-03T16:08:00",
          "2025-04-03T16:09:00",
          "2025-04-03T16:10:00",
          "2025-04-03T16:11:00",
          "2025-04-03T16:12:00",
          "2025-04-03T16:13:00",
          "2025-04-03T16:14:00"
         ],
         "y": [
          129.0253,
          129.19,
          129.32,
          129.3805,
          129.36,
          129.33,
          129.43,
          129.26,
          129.3455,
          129.28,
          129.215,
          129.28,
          129.26,
          129.2,
          129.3501,
          129.52
         ]
        },
        {
         "hoveron": "points",
         "hovertemplate": "Trade 49: Return: 0.39%<extra></extra>",
         "line": {
          "color": "green",
          "width": 3
         },
         "marker": {
          "color": "green",
          "size": 4
         },
         "mode": "lines+markers",
         "name": "Trade 49",
         "type": "scatter",
         "visible": true,
         "x": [
          "2025-04-03T16:08:00",
          "2025-04-03T16:09:00",
          "2025-04-03T16:10:00",
          "2025-04-03T16:11:00",
          "2025-04-03T16:12:00",
          "2025-04-03T16:13:00",
          "2025-04-03T16:14:00",
          "2025-04-03T16:15:00",
          "2025-04-03T16:16:00",
          "2025-04-03T16:17:00",
          "2025-04-03T16:18:00",
          "2025-04-03T16:19:00",
          "2025-04-03T16:20:00",
          "2025-04-03T16:21:00",
          "2025-04-03T16:22:00",
          "2025-04-03T16:23:00"
         ],
         "y": [
          129.28,
          129.215,
          129.28,
          129.26,
          129.2,
          129.3501,
          129.52,
          129.45,
          129.55,
          129.4727,
          129.58,
          129.6907,
          129.65,
          129.65,
          129.74,
          129.79
         ]
        },
        {
         "hoveron": "points",
         "hovertemplate": "Trade 50: Return: 0.49%<extra></extra>",
         "line": {
          "color": "green",
          "width": 3
         },
         "marker": {
          "color": "green",
          "size": 4
         },
         "mode": "lines+markers",
         "name": "Trade 50",
         "type": "scatter",
         "visible": true,
         "x": [
          "2025-04-03T16:09:00",
          "2025-04-03T16:10:00",
          "2025-04-03T16:11:00",
          "2025-04-03T16:12:00",
          "2025-04-03T16:13:00",
          "2025-04-03T16:14:00",
          "2025-04-03T16:15:00",
          "2025-04-03T16:16:00",
          "2025-04-03T16:17:00",
          "2025-04-03T16:18:00",
          "2025-04-03T16:19:00",
          "2025-04-03T16:20:00",
          "2025-04-03T16:21:00",
          "2025-04-03T16:22:00",
          "2025-04-03T16:23:00",
          "2025-04-03T16:24:00"
         ],
         "y": [
          129.215,
          129.28,
          129.26,
          129.2,
          129.3501,
          129.52,
          129.45,
          129.55,
          129.4727,
          129.58,
          129.6907,
          129.65,
          129.65,
          129.74,
          129.79,
          129.8465
         ]
        },
        {
         "hoveron": "points",
         "hovertemplate": "Trade 51: Return: 0.38%<extra></extra>",
         "line": {
          "color": "green",
          "width": 3
         },
         "marker": {
          "color": "green",
          "size": 4
         },
         "mode": "lines+markers",
         "name": "Trade 51",
         "type": "scatter",
         "visible": true,
         "x": [
          "2025-04-03T16:12:00",
          "2025-04-03T16:13:00",
          "2025-04-03T16:14:00",
          "2025-04-03T16:15:00",
          "2025-04-03T16:16:00",
          "2025-04-03T16:17:00",
          "2025-04-03T16:18:00",
          "2025-04-03T16:19:00",
          "2025-04-03T16:20:00",
          "2025-04-03T16:21:00",
          "2025-04-03T16:22:00",
          "2025-04-03T16:23:00",
          "2025-04-03T16:24:00",
          "2025-04-03T16:25:00",
          "2025-04-03T16:26:00",
          "2025-04-03T16:27:00"
         ],
         "y": [
          129.2,
          129.3501,
          129.52,
          129.45,
          129.55,
          129.4727,
          129.58,
          129.6907,
          129.65,
          129.65,
          129.74,
          129.79,
          129.8465,
          129.65,
          129.51,
          129.69
         ]
        },
        {
         "hoveron": "points",
         "hovertemplate": "Trade 52: Return: 0.40%<extra></extra>",
         "line": {
          "color": "green",
          "width": 3
         },
         "marker": {
          "color": "green",
          "size": 4
         },
         "mode": "lines+markers",
         "name": "Trade 52",
         "type": "scatter",
         "visible": true,
         "x": [
          "2025-04-03T17:25:00",
          "2025-04-03T17:26:00",
          "2025-04-03T17:27:00",
          "2025-04-03T17:28:00",
          "2025-04-03T17:29:00",
          "2025-04-03T17:30:00",
          "2025-04-03T17:31:00",
          "2025-04-03T17:32:00",
          "2025-04-03T17:33:00",
          "2025-04-03T17:34:00",
          "2025-04-03T17:35:00",
          "2025-04-03T17:36:00",
          "2025-04-03T17:37:00",
          "2025-04-03T17:38:00",
          "2025-04-03T17:39:00",
          "2025-04-03T17:40:00"
         ],
         "y": [
          129.27,
          129.185,
          129.29,
          129.12,
          129.09,
          129.12,
          129.27,
          129.28,
          129.2203,
          129.42,
          129.49,
          129.5201,
          129.65,
          129.685,
          129.69,
          129.79
         ]
        },
        {
         "hoveron": "points",
         "hovertemplate": "Trade 53: Return: 0.47%<extra></extra>",
         "line": {
          "color": "green",
          "width": 3
         },
         "marker": {
          "color": "green",
          "size": 4
         },
         "mode": "lines+markers",
         "name": "Trade 53",
         "type": "scatter",
         "visible": true,
         "x": [
          "2025-04-03T17:26:00",
          "2025-04-03T17:27:00",
          "2025-04-03T17:28:00",
          "2025-04-03T17:29:00",
          "2025-04-03T17:30:00",
          "2025-04-03T17:31:00",
          "2025-04-03T17:32:00",
          "2025-04-03T17:33:00",
          "2025-04-03T17:34:00",
          "2025-04-03T17:35:00",
          "2025-04-03T17:36:00",
          "2025-04-03T17:37:00",
          "2025-04-03T17:38:00",
          "2025-04-03T17:39:00",
          "2025-04-03T17:40:00",
          "2025-04-03T17:41:00"
         ],
         "y": [
          129.185,
          129.29,
          129.12,
          129.09,
          129.12,
          129.27,
          129.28,
          129.2203,
          129.42,
          129.49,
          129.5201,
          129.65,
          129.685,
          129.69,
          129.79,
          129.79
         ]
        },
        {
         "hoveron": "points",
         "hovertemplate": "Trade 54: Return: 0.39%<extra></extra>",
         "line": {
          "color": "green",
          "width": 3
         },
         "marker": {
          "color": "green",
          "size": 4
         },
         "mode": "lines+markers",
         "name": "Trade 54",
         "type": "scatter",
         "visible": true,
         "x": [
          "2025-04-03T17:27:00",
          "2025-04-03T17:28:00",
          "2025-04-03T17:29:00",
          "2025-04-03T17:30:00",
          "2025-04-03T17:31:00",
          "2025-04-03T17:32:00",
          "2025-04-03T17:33:00",
          "2025-04-03T17:34:00",
          "2025-04-03T17:35:00",
          "2025-04-03T17:36:00",
          "2025-04-03T17:37:00",
          "2025-04-03T17:38:00",
          "2025-04-03T17:39:00",
          "2025-04-03T17:40:00",
          "2025-04-03T17:41:00",
          "2025-04-03T17:42:00"
         ],
         "y": [
          129.29,
          129.12,
          129.09,
          129.12,
          129.27,
          129.28,
          129.2203,
          129.42,
          129.49,
          129.5201,
          129.65,
          129.685,
          129.69,
          129.79,
          129.79,
          129.79
         ]
        },
        {
         "hoveron": "points",
         "hovertemplate": "Trade 55: Return: 0.46%<extra></extra>",
         "line": {
          "color": "green",
          "width": 3
         },
         "marker": {
          "color": "green",
          "size": 4
         },
         "mode": "lines+markers",
         "name": "Trade 55",
         "type": "scatter",
         "visible": true,
         "x": [
          "2025-04-03T17:28:00",
          "2025-04-03T17:29:00",
          "2025-04-03T17:30:00",
          "2025-04-03T17:31:00",
          "2025-04-03T17:32:00",
          "2025-04-03T17:33:00",
          "2025-04-03T17:34:00",
          "2025-04-03T17:35:00",
          "2025-04-03T17:36:00",
          "2025-04-03T17:37:00",
          "2025-04-03T17:38:00",
          "2025-04-03T17:39:00",
          "2025-04-03T17:40:00",
          "2025-04-03T17:41:00",
          "2025-04-03T17:42:00",
          "2025-04-03T17:43:00"
         ],
         "y": [
          129.12,
          129.09,
          129.12,
          129.27,
          129.28,
          129.2203,
          129.42,
          129.49,
          129.5201,
          129.65,
          129.685,
          129.69,
          129.79,
          129.79,
          129.79,
          129.71
         ]
        },
        {
         "hoveron": "points",
         "hovertemplate": "Trade 56: Return: 0.52%<extra></extra>",
         "line": {
          "color": "green",
          "width": 3
         },
         "marker": {
          "color": "green",
          "size": 4
         },
         "mode": "lines+markers",
         "name": "Trade 56",
         "type": "scatter",
         "visible": true,
         "x": [
          "2025-04-03T17:29:00",
          "2025-04-03T17:30:00",
          "2025-04-03T17:31:00",
          "2025-04-03T17:32:00",
          "2025-04-03T17:33:00",
          "2025-04-03T17:34:00",
          "2025-04-03T17:35:00",
          "2025-04-03T17:36:00",
          "2025-04-03T17:37:00",
          "2025-04-03T17:38:00",
          "2025-04-03T17:39:00",
          "2025-04-03T17:40:00",
          "2025-04-03T17:41:00",
          "2025-04-03T17:42:00",
          "2025-04-03T17:43:00",
          "2025-04-03T17:44:00"
         ],
         "y": [
          129.09,
          129.12,
          129.27,
          129.28,
          129.2203,
          129.42,
          129.49,
          129.5201,
          129.65,
          129.685,
          129.69,
          129.79,
          129.79,
          129.79,
          129.71,
          129.755
         ]
        },
        {
         "hoveron": "points",
         "hovertemplate": "Trade 57: Return: 0.47%<extra></extra>",
         "line": {
          "color": "green",
          "width": 3
         },
         "marker": {
          "color": "green",
          "size": 4
         },
         "mode": "lines+markers",
         "name": "Trade 57",
         "type": "scatter",
         "visible": true,
         "x": [
          "2025-04-03T17:30:00",
          "2025-04-03T17:31:00",
          "2025-04-03T17:32:00",
          "2025-04-03T17:33:00",
          "2025-04-03T17:34:00",
          "2025-04-03T17:35:00",
          "2025-04-03T17:36:00",
          "2025-04-03T17:37:00",
          "2025-04-03T17:38:00",
          "2025-04-03T17:39:00",
          "2025-04-03T17:40:00",
          "2025-04-03T17:41:00",
          "2025-04-03T17:42:00",
          "2025-04-03T17:43:00",
          "2025-04-03T17:44:00",
          "2025-04-03T17:45:00"
         ],
         "y": [
          129.12,
          129.27,
          129.28,
          129.2203,
          129.42,
          129.49,
          129.5201,
          129.65,
          129.685,
          129.69,
          129.79,
          129.79,
          129.79,
          129.71,
          129.755,
          129.73
         ]
        },
        {
         "hoveron": "points",
         "hovertemplate": "Trade 58: Return: 0.34%<extra></extra>",
         "line": {
          "color": "green",
          "width": 3
         },
         "marker": {
          "color": "green",
          "size": 4
         },
         "mode": "lines+markers",
         "name": "Trade 58",
         "type": "scatter",
         "visible": true,
         "x": [
          "2025-04-03T17:31:00",
          "2025-04-03T17:32:00",
          "2025-04-03T17:33:00",
          "2025-04-03T17:34:00",
          "2025-04-03T17:35:00",
          "2025-04-03T17:36:00",
          "2025-04-03T17:37:00",
          "2025-04-03T17:38:00",
          "2025-04-03T17:39:00",
          "2025-04-03T17:40:00",
          "2025-04-03T17:41:00",
          "2025-04-03T17:42:00",
          "2025-04-03T17:43:00",
          "2025-04-03T17:44:00",
          "2025-04-03T17:45:00",
          "2025-04-03T17:46:00"
         ],
         "y": [
          129.27,
          129.28,
          129.2203,
          129.42,
          129.49,
          129.5201,
          129.65,
          129.685,
          129.69,
          129.79,
          129.79,
          129.79,
          129.71,
          129.755,
          129.73,
          129.71
         ]
        },
        {
         "hoveron": "points",
         "hovertemplate": "Trade 59: Return: 0.45%<extra></extra>",
         "line": {
          "color": "green",
          "width": 3
         },
         "marker": {
          "color": "green",
          "size": 4
         },
         "mode": "lines+markers",
         "name": "Trade 59",
         "type": "scatter",
         "visible": true,
         "x": [
          "2025-04-03T18:24:00",
          "2025-04-03T18:25:00",
          "2025-04-03T18:26:00",
          "2025-04-03T18:27:00",
          "2025-04-03T18:28:00",
          "2025-04-03T18:29:00",
          "2025-04-03T18:30:00",
          "2025-04-03T18:31:00",
          "2025-04-03T18:32:00",
          "2025-04-03T18:33:00",
          "2025-04-03T18:34:00",
          "2025-04-03T18:35:00",
          "2025-04-03T18:36:00",
          "2025-04-03T18:37:00",
          "2025-04-03T18:38:00",
          "2025-04-03T18:39:00"
         ],
         "y": [
          128.7077,
          128.9,
          128.815,
          128.6701,
          128.77,
          128.756,
          128.585,
          128.67,
          128.75,
          128.89,
          128.8,
          128.98,
          129.145,
          129.215,
          129.235,
          129.282
         ]
        },
        {
         "hoveron": "points",
         "hovertemplate": "Trade 60: Return: 0.37%<extra></extra>",
         "line": {
          "color": "green",
          "width": 3
         },
         "marker": {
          "color": "green",
          "size": 4
         },
         "mode": "lines+markers",
         "name": "Trade 60",
         "type": "scatter",
         "visible": true,
         "x": [
          "2025-04-03T18:25:00",
          "2025-04-03T18:26:00",
          "2025-04-03T18:27:00",
          "2025-04-03T18:28:00",
          "2025-04-03T18:29:00",
          "2025-04-03T18:30:00",
          "2025-04-03T18:31:00",
          "2025-04-03T18:32:00",
          "2025-04-03T18:33:00",
          "2025-04-03T18:34:00",
          "2025-04-03T18:35:00",
          "2025-04-03T18:36:00",
          "2025-04-03T18:37:00",
          "2025-04-03T18:38:00",
          "2025-04-03T18:39:00",
          "2025-04-03T18:40:00"
         ],
         "y": [
          128.9,
          128.815,
          128.6701,
          128.77,
          128.756,
          128.585,
          128.67,
          128.75,
          128.89,
          128.8,
          128.98,
          129.145,
          129.215,
          129.235,
          129.282,
          129.38
         ]
        },
        {
         "hoveron": "points",
         "hovertemplate": "Trade 61: Return: 0.46%<extra></extra>",
         "line": {
          "color": "green",
          "width": 3
         },
         "marker": {
          "color": "green",
          "size": 4
         },
         "mode": "lines+markers",
         "name": "Trade 61",
         "type": "scatter",
         "visible": true,
         "x": [
          "2025-04-03T18:26:00",
          "2025-04-03T18:27:00",
          "2025-04-03T18:28:00",
          "2025-04-03T18:29:00",
          "2025-04-03T18:30:00",
          "2025-04-03T18:31:00",
          "2025-04-03T18:32:00",
          "2025-04-03T18:33:00",
          "2025-04-03T18:34:00",
          "2025-04-03T18:35:00",
          "2025-04-03T18:36:00",
          "2025-04-03T18:37:00",
          "2025-04-03T18:38:00",
          "2025-04-03T18:39:00",
          "2025-04-03T18:40:00",
          "2025-04-03T18:41:00"
         ],
         "y": [
          128.815,
          128.6701,
          128.77,
          128.756,
          128.585,
          128.67,
          128.75,
          128.89,
          128.8,
          128.98,
          129.145,
          129.215,
          129.235,
          129.282,
          129.38,
          129.41
         ]
        },
        {
         "hoveron": "points",
         "hovertemplate": "Trade 62: Return: 0.45%<extra></extra>",
         "line": {
          "color": "green",
          "width": 3
         },
         "marker": {
          "color": "green",
          "size": 4
         },
         "mode": "lines+markers",
         "name": "Trade 62",
         "type": "scatter",
         "visible": true,
         "x": [
          "2025-04-03T18:27:00",
          "2025-04-03T18:28:00",
          "2025-04-03T18:29:00",
          "2025-04-03T18:30:00",
          "2025-04-03T18:31:00",
          "2025-04-03T18:32:00",
          "2025-04-03T18:33:00",
          "2025-04-03T18:34:00",
          "2025-04-03T18:35:00",
          "2025-04-03T18:36:00",
          "2025-04-03T18:37:00",
          "2025-04-03T18:38:00",
          "2025-04-03T18:39:00",
          "2025-04-03T18:40:00",
          "2025-04-03T18:41:00",
          "2025-04-03T18:42:00"
         ],
         "y": [
          128.6701,
          128.77,
          128.756,
          128.585,
          128.67,
          128.75,
          128.89,
          128.8,
          128.98,
          129.145,
          129.215,
          129.235,
          129.282,
          129.38,
          129.41,
          129.25
         ]
        },
        {
         "hoveron": "points",
         "hovertemplate": "Trade 63: Return: 0.42%<extra></extra>",
         "line": {
          "color": "green",
          "width": 3
         },
         "marker": {
          "color": "green",
          "size": 4
         },
         "mode": "lines+markers",
         "name": "Trade 63",
         "type": "scatter",
         "visible": true,
         "x": [
          "2025-04-03T18:28:00",
          "2025-04-03T18:29:00",
          "2025-04-03T18:30:00",
          "2025-04-03T18:31:00",
          "2025-04-03T18:32:00",
          "2025-04-03T18:33:00",
          "2025-04-03T18:34:00",
          "2025-04-03T18:35:00",
          "2025-04-03T18:36:00",
          "2025-04-03T18:37:00",
          "2025-04-03T18:38:00",
          "2025-04-03T18:39:00",
          "2025-04-03T18:40:00",
          "2025-04-03T18:41:00",
          "2025-04-03T18:42:00",
          "2025-04-03T18:43:00"
         ],
         "y": [
          128.77,
          128.756,
          128.585,
          128.67,
          128.75,
          128.89,
          128.8,
          128.98,
          129.145,
          129.215,
          129.235,
          129.282,
          129.38,
          129.41,
          129.25,
          129.31
         ]
        },
        {
         "hoveron": "points",
         "hovertemplate": "Trade 64: Return: 0.48%<extra></extra>",
         "line": {
          "color": "green",
          "width": 3
         },
         "marker": {
          "color": "green",
          "size": 4
         },
         "mode": "lines+markers",
         "name": "Trade 64",
         "type": "scatter",
         "visible": true,
         "x": [
          "2025-04-03T18:29:00",
          "2025-04-03T18:30:00",
          "2025-04-03T18:31:00",
          "2025-04-03T18:32:00",
          "2025-04-03T18:33:00",
          "2025-04-03T18:34:00",
          "2025-04-03T18:35:00",
          "2025-04-03T18:36:00",
          "2025-04-03T18:37:00",
          "2025-04-03T18:38:00",
          "2025-04-03T18:39:00",
          "2025-04-03T18:40:00",
          "2025-04-03T18:41:00",
          "2025-04-03T18:42:00",
          "2025-04-03T18:43:00",
          "2025-04-03T18:44:00"
         ],
         "y": [
          128.756,
          128.585,
          128.67,
          128.75,
          128.89,
          128.8,
          128.98,
          129.145,
          129.215,
          129.235,
          129.282,
          129.38,
          129.41,
          129.25,
          129.31,
          129.375
         ]
        },
        {
         "hoveron": "points",
         "hovertemplate": "Trade 65: Return: 0.54%<extra></extra>",
         "line": {
          "color": "green",
          "width": 3
         },
         "marker": {
          "color": "green",
          "size": 4
         },
         "mode": "lines+markers",
         "name": "Trade 65",
         "type": "scatter",
         "visible": true,
         "x": [
          "2025-04-03T18:30:00",
          "2025-04-03T18:31:00",
          "2025-04-03T18:32:00",
          "2025-04-03T18:33:00",
          "2025-04-03T18:34:00",
          "2025-04-03T18:35:00",
          "2025-04-03T18:36:00",
          "2025-04-03T18:37:00",
          "2025-04-03T18:38:00",
          "2025-04-03T18:39:00",
          "2025-04-03T18:40:00",
          "2025-04-03T18:41:00",
          "2025-04-03T18:42:00",
          "2025-04-03T18:43:00",
          "2025-04-03T18:44:00",
          "2025-04-03T18:45:00"
         ],
         "y": [
          128.585,
          128.67,
          128.75,
          128.89,
          128.8,
          128.98,
          129.145,
          129.215,
          129.235,
          129.282,
          129.38,
          129.41,
          129.25,
          129.31,
          129.375,
          129.275
         ]
        },
        {
         "hoveron": "points",
         "hovertemplate": "Trade 66: Return: 0.54%<extra></extra>",
         "line": {
          "color": "green",
          "width": 3
         },
         "marker": {
          "color": "green",
          "size": 4
         },
         "mode": "lines+markers",
         "name": "Trade 66",
         "type": "scatter",
         "visible": true,
         "x": [
          "2025-04-03T18:31:00",
          "2025-04-03T18:32:00",
          "2025-04-03T18:33:00",
          "2025-04-03T18:34:00",
          "2025-04-03T18:35:00",
          "2025-04-03T18:36:00",
          "2025-04-03T18:37:00",
          "2025-04-03T18:38:00",
          "2025-04-03T18:39:00",
          "2025-04-03T18:40:00",
          "2025-04-03T18:41:00",
          "2025-04-03T18:42:00",
          "2025-04-03T18:43:00",
          "2025-04-03T18:44:00",
          "2025-04-03T18:45:00",
          "2025-04-03T18:46:00"
         ],
         "y": [
          128.67,
          128.75,
          128.89,
          128.8,
          128.98,
          129.145,
          129.215,
          129.235,
          129.282,
          129.38,
          129.41,
          129.25,
          129.31,
          129.375,
          129.275,
          129.36
         ]
        },
        {
         "hoveron": "points",
         "hovertemplate": "Trade 67: Return: 0.47%<extra></extra>",
         "line": {
          "color": "green",
          "width": 3
         },
         "marker": {
          "color": "green",
          "size": 4
         },
         "mode": "lines+markers",
         "name": "Trade 67",
         "type": "scatter",
         "visible": true,
         "x": [
          "2025-04-03T18:32:00",
          "2025-04-03T18:33:00",
          "2025-04-03T18:34:00",
          "2025-04-03T18:35:00",
          "2025-04-03T18:36:00",
          "2025-04-03T18:37:00",
          "2025-04-03T18:38:00",
          "2025-04-03T18:39:00",
          "2025-04-03T18:40:00",
          "2025-04-03T18:41:00",
          "2025-04-03T18:42:00",
          "2025-04-03T18:43:00",
          "2025-04-03T18:44:00",
          "2025-04-03T18:45:00",
          "2025-04-03T18:46:00",
          "2025-04-03T18:47:00"
         ],
         "y": [
          128.75,
          128.89,
          128.8,
          128.98,
          129.145,
          129.215,
          129.235,
          129.282,
          129.38,
          129.41,
          129.25,
          129.31,
          129.375,
          129.275,
          129.36,
          129.3605
         ]
        },
        {
         "hoveron": "points",
         "hovertemplate": "Trade 68: Return: 0.38%<extra></extra>",
         "line": {
          "color": "green",
          "width": 3
         },
         "marker": {
          "color": "green",
          "size": 4
         },
         "mode": "lines+markers",
         "name": "Trade 68",
         "type": "scatter",
         "visible": true,
         "x": [
          "2025-04-03T18:33:00",
          "2025-04-03T18:34:00",
          "2025-04-03T18:35:00",
          "2025-04-03T18:36:00",
          "2025-04-03T18:37:00",
          "2025-04-03T18:38:00",
          "2025-04-03T18:39:00",
          "2025-04-03T18:40:00",
          "2025-04-03T18:41:00",
          "2025-04-03T18:42:00",
          "2025-04-03T18:43:00",
          "2025-04-03T18:44:00",
          "2025-04-03T18:45:00",
          "2025-04-03T18:46:00",
          "2025-04-03T18:47:00",
          "2025-04-03T18:48:00"
         ],
         "y": [
          128.89,
          128.8,
          128.98,
          129.145,
          129.215,
          129.235,
          129.282,
          129.38,
          129.41,
          129.25,
          129.31,
          129.375,
          129.275,
          129.36,
          129.3605,
          129.38
         ]
        },
        {
         "hoveron": "points",
         "hovertemplate": "Trade 69: Return: 0.36%<extra></extra>",
         "line": {
          "color": "green",
          "width": 3
         },
         "marker": {
          "color": "green",
          "size": 4
         },
         "mode": "lines+markers",
         "name": "Trade 69",
         "type": "scatter",
         "visible": true,
         "x": [
          "2025-04-03T18:34:00",
          "2025-04-03T18:35:00",
          "2025-04-03T18:36:00",
          "2025-04-03T18:37:00",
          "2025-04-03T18:38:00",
          "2025-04-03T18:39:00",
          "2025-04-03T18:40:00",
          "2025-04-03T18:41:00",
          "2025-04-03T18:42:00",
          "2025-04-03T18:43:00",
          "2025-04-03T18:44:00",
          "2025-04-03T18:45:00",
          "2025-04-03T18:46:00",
          "2025-04-03T18:47:00",
          "2025-04-03T18:48:00",
          "2025-04-03T18:49:00"
         ],
         "y": [
          128.8,
          128.98,
          129.145,
          129.215,
          129.235,
          129.282,
          129.38,
          129.41,
          129.25,
          129.31,
          129.375,
          129.275,
          129.36,
          129.3605,
          129.38,
          129.27
         ]
        },
        {
         "hoveron": "points",
         "hovertemplate": "Trade 70: Return: 0.34%<extra></extra>",
         "line": {
          "color": "green",
          "width": 3
         },
         "marker": {
          "color": "green",
          "size": 4
         },
         "mode": "lines+markers",
         "name": "Trade 70",
         "type": "scatter",
         "visible": true,
         "x": [
          "2025-04-03T18:55:00",
          "2025-04-03T18:56:00",
          "2025-04-03T18:57:00",
          "2025-04-03T18:58:00",
          "2025-04-03T18:59:00",
          "2025-04-03T19:00:00",
          "2025-04-03T19:01:00",
          "2025-04-03T19:02:00",
          "2025-04-03T19:03:00",
          "2025-04-03T19:04:00",
          "2025-04-03T19:05:00",
          "2025-04-03T19:06:00",
          "2025-04-03T19:07:00",
          "2025-04-03T19:08:00",
          "2025-04-03T19:09:00",
          "2025-04-03T19:10:00"
         ],
         "y": [
          128.99,
          129.095,
          129.055,
          129.04,
          129.115,
          129.19,
          129.18,
          129.22,
          129.31,
          129.445,
          129.51,
          129.555,
          129.575,
          129.56,
          129.455,
          129.43
         ]
        },
        {
         "hoveron": "points",
         "hovertemplate": "Trade 71: Return: 0.36%<extra></extra>",
         "line": {
          "color": "green",
          "width": 3
         },
         "marker": {
          "color": "green",
          "size": 4
         },
         "mode": "lines+markers",
         "name": "Trade 71",
         "type": "scatter",
         "visible": true,
         "x": [
          "2025-04-03T19:36:00",
          "2025-04-03T19:37:00",
          "2025-04-03T19:38:00",
          "2025-04-03T19:39:00",
          "2025-04-03T19:40:00",
          "2025-04-03T19:41:00",
          "2025-04-03T19:42:00",
          "2025-04-03T19:43:00",
          "2025-04-03T19:44:00",
          "2025-04-03T19:45:00",
          "2025-04-03T19:46:00",
          "2025-04-03T19:47:00",
          "2025-04-03T19:48:00",
          "2025-04-03T19:49:00",
          "2025-04-03T19:50:00",
          "2025-04-03T19:51:00"
         ],
         "y": [
          128.63,
          128.66,
          128.67,
          128.74,
          128.86,
          128.91,
          128.975,
          129.15,
          129.15,
          128.97,
          128.89,
          128.915,
          129.025,
          128.98,
          129.1,
          129.1
         ]
        },
        {
         "hoveron": "points",
         "hovertemplate": "Trade 72: Return: 0.41%<extra></extra>",
         "line": {
          "color": "green",
          "width": 3
         },
         "marker": {
          "color": "green",
          "size": 4
         },
         "mode": "lines+markers",
         "name": "Trade 72",
         "type": "scatter",
         "visible": true,
         "x": [
          "2025-04-03T19:37:00",
          "2025-04-03T19:38:00",
          "2025-04-03T19:39:00",
          "2025-04-03T19:40:00",
          "2025-04-03T19:41:00",
          "2025-04-03T19:42:00",
          "2025-04-03T19:43:00",
          "2025-04-03T19:44:00",
          "2025-04-03T19:45:00",
          "2025-04-03T19:46:00",
          "2025-04-03T19:47:00",
          "2025-04-03T19:48:00",
          "2025-04-03T19:49:00",
          "2025-04-03T19:50:00",
          "2025-04-03T19:51:00",
          "2025-04-03T19:52:00"
         ],
         "y": [
          128.66,
          128.67,
          128.74,
          128.86,
          128.91,
          128.975,
          129.15,
          129.15,
          128.97,
          128.89,
          128.915,
          129.025,
          128.98,
          129.1,
          129.1,
          129.1898
         ]
        },
        {
         "hoveron": "points",
         "hovertemplate": "Trade 73: Return: 0.40%<extra></extra>",
         "line": {
          "color": "green",
          "width": 3
         },
         "marker": {
          "color": "green",
          "size": 4
         },
         "mode": "lines+markers",
         "name": "Trade 73",
         "type": "scatter",
         "visible": true,
         "x": [
          "2025-04-03T19:39:00",
          "2025-04-03T19:40:00",
          "2025-04-03T19:41:00",
          "2025-04-03T19:42:00",
          "2025-04-03T19:43:00",
          "2025-04-03T19:44:00",
          "2025-04-03T19:45:00",
          "2025-04-03T19:46:00",
          "2025-04-03T19:47:00",
          "2025-04-03T19:48:00",
          "2025-04-03T19:49:00",
          "2025-04-03T19:50:00",
          "2025-04-03T19:51:00",
          "2025-04-03T19:52:00",
          "2025-04-03T19:53:00",
          "2025-04-03T19:54:00"
         ],
         "y": [
          128.74,
          128.86,
          128.91,
          128.975,
          129.15,
          129.15,
          128.97,
          128.89,
          128.915,
          129.025,
          128.98,
          129.1,
          129.1,
          129.1898,
          129.1,
          129.255
         ]
        }
       ],
       "layout": {
        "height": 700,
        "hovermode": "x unified",
        "template": {
         "data": {
          "bar": [
           {
            "error_x": {
             "color": "#2a3f5f"
            },
            "error_y": {
             "color": "#2a3f5f"
            },
            "marker": {
             "line": {
              "color": "white",
              "width": 0.5
             },
             "pattern": {
              "fillmode": "overlay",
              "size": 10,
              "solidity": 0.2
             }
            },
            "type": "bar"
           }
          ],
          "barpolar": [
           {
            "marker": {
             "line": {
              "color": "white",
              "width": 0.5
             },
             "pattern": {
              "fillmode": "overlay",
              "size": 10,
              "solidity": 0.2
             }
            },
            "type": "barpolar"
           }
          ],
          "carpet": [
           {
            "aaxis": {
             "endlinecolor": "#2a3f5f",
             "gridcolor": "#C8D4E3",
             "linecolor": "#C8D4E3",
             "minorgridcolor": "#C8D4E3",
             "startlinecolor": "#2a3f5f"
            },
            "baxis": {
             "endlinecolor": "#2a3f5f",
             "gridcolor": "#C8D4E3",
             "linecolor": "#C8D4E3",
             "minorgridcolor": "#C8D4E3",
             "startlinecolor": "#2a3f5f"
            },
            "type": "carpet"
           }
          ],
          "choropleth": [
           {
            "colorbar": {
             "outlinewidth": 0,
             "ticks": ""
            },
            "type": "choropleth"
           }
          ],
          "contour": [
           {
            "colorbar": {
             "outlinewidth": 0,
             "ticks": ""
            },
            "colorscale": [
             [
              0,
              "#0d0887"
             ],
             [
              0.1111111111111111,
              "#46039f"
             ],
             [
              0.2222222222222222,
              "#7201a8"
             ],
             [
              0.3333333333333333,
              "#9c179e"
             ],
             [
              0.4444444444444444,
              "#bd3786"
             ],
             [
              0.5555555555555556,
              "#d8576b"
             ],
             [
              0.6666666666666666,
              "#ed7953"
             ],
             [
              0.7777777777777778,
              "#fb9f3a"
             ],
             [
              0.8888888888888888,
              "#fdca26"
             ],
             [
              1,
              "#f0f921"
             ]
            ],
            "type": "contour"
           }
          ],
          "contourcarpet": [
           {
            "colorbar": {
             "outlinewidth": 0,
             "ticks": ""
            },
            "type": "contourcarpet"
           }
          ],
          "heatmap": [
           {
            "colorbar": {
             "outlinewidth": 0,
             "ticks": ""
            },
            "colorscale": [
             [
              0,
              "#0d0887"
             ],
             [
              0.1111111111111111,
              "#46039f"
             ],
             [
              0.2222222222222222,
              "#7201a8"
             ],
             [
              0.3333333333333333,
              "#9c179e"
             ],
             [
              0.4444444444444444,
              "#bd3786"
             ],
             [
              0.5555555555555556,
              "#d8576b"
             ],
             [
              0.6666666666666666,
              "#ed7953"
             ],
             [
              0.7777777777777778,
              "#fb9f3a"
             ],
             [
              0.8888888888888888,
              "#fdca26"
             ],
             [
              1,
              "#f0f921"
             ]
            ],
            "type": "heatmap"
           }
          ],
          "heatmapgl": [
           {
            "colorbar": {
             "outlinewidth": 0,
             "ticks": ""
            },
            "colorscale": [
             [
              0,
              "#0d0887"
             ],
             [
              0.1111111111111111,
              "#46039f"
             ],
             [
              0.2222222222222222,
              "#7201a8"
             ],
             [
              0.3333333333333333,
              "#9c179e"
             ],
             [
              0.4444444444444444,
              "#bd3786"
             ],
             [
              0.5555555555555556,
              "#d8576b"
             ],
             [
              0.6666666666666666,
              "#ed7953"
             ],
             [
              0.7777777777777778,
              "#fb9f3a"
             ],
             [
              0.8888888888888888,
              "#fdca26"
             ],
             [
              1,
              "#f0f921"
             ]
            ],
            "type": "heatmapgl"
           }
          ],
          "histogram": [
           {
            "marker": {
             "pattern": {
              "fillmode": "overlay",
              "size": 10,
              "solidity": 0.2
             }
            },
            "type": "histogram"
           }
          ],
          "histogram2d": [
           {
            "colorbar": {
             "outlinewidth": 0,
             "ticks": ""
            },
            "colorscale": [
             [
              0,
              "#0d0887"
             ],
             [
              0.1111111111111111,
              "#46039f"
             ],
             [
              0.2222222222222222,
              "#7201a8"
             ],
             [
              0.3333333333333333,
              "#9c179e"
             ],
             [
              0.4444444444444444,
              "#bd3786"
             ],
             [
              0.5555555555555556,
              "#d8576b"
             ],
             [
              0.6666666666666666,
              "#ed7953"
             ],
             [
              0.7777777777777778,
              "#fb9f3a"
             ],
             [
              0.8888888888888888,
              "#fdca26"
             ],
             [
              1,
              "#f0f921"
             ]
            ],
            "type": "histogram2d"
           }
          ],
          "histogram2dcontour": [
           {
            "colorbar": {
             "outlinewidth": 0,
             "ticks": ""
            },
            "colorscale": [
             [
              0,
              "#0d0887"
             ],
             [
              0.1111111111111111,
              "#46039f"
             ],
             [
              0.2222222222222222,
              "#7201a8"
             ],
             [
              0.3333333333333333,
              "#9c179e"
             ],
             [
              0.4444444444444444,
              "#bd3786"
             ],
             [
              0.5555555555555556,
              "#d8576b"
             ],
             [
              0.6666666666666666,
              "#ed7953"
             ],
             [
              0.7777777777777778,
              "#fb9f3a"
             ],
             [
              0.8888888888888888,
              "#fdca26"
             ],
             [
              1,
              "#f0f921"
             ]
            ],
            "type": "histogram2dcontour"
           }
          ],
          "mesh3d": [
           {
            "colorbar": {
             "outlinewidth": 0,
             "ticks": ""
            },
            "type": "mesh3d"
           }
          ],
          "parcoords": [
           {
            "line": {
             "colorbar": {
              "outlinewidth": 0,
              "ticks": ""
             }
            },
            "type": "parcoords"
           }
          ],
          "pie": [
           {
            "automargin": true,
            "type": "pie"
           }
          ],
          "scatter": [
           {
            "fillpattern": {
             "fillmode": "overlay",
             "size": 10,
             "solidity": 0.2
            },
            "type": "scatter"
           }
          ],
          "scatter3d": [
           {
            "line": {
             "colorbar": {
              "outlinewidth": 0,
              "ticks": ""
             }
            },
            "marker": {
             "colorbar": {
              "outlinewidth": 0,
              "ticks": ""
             }
            },
            "type": "scatter3d"
           }
          ],
          "scattercarpet": [
           {
            "marker": {
             "colorbar": {
              "outlinewidth": 0,
              "ticks": ""
             }
            },
            "type": "scattercarpet"
           }
          ],
          "scattergeo": [
           {
            "marker": {
             "colorbar": {
              "outlinewidth": 0,
              "ticks": ""
             }
            },
            "type": "scattergeo"
           }
          ],
          "scattergl": [
           {
            "marker": {
             "colorbar": {
              "outlinewidth": 0,
              "ticks": ""
             }
            },
            "type": "scattergl"
           }
          ],
          "scattermapbox": [
           {
            "marker": {
             "colorbar": {
              "outlinewidth": 0,
              "ticks": ""
             }
            },
            "type": "scattermapbox"
           }
          ],
          "scatterpolar": [
           {
            "marker": {
             "colorbar": {
              "outlinewidth": 0,
              "ticks": ""
             }
            },
            "type": "scatterpolar"
           }
          ],
          "scatterpolargl": [
           {
            "marker": {
             "colorbar": {
              "outlinewidth": 0,
              "ticks": ""
             }
            },
            "type": "scatterpolargl"
           }
          ],
          "scatterternary": [
           {
            "marker": {
             "colorbar": {
              "outlinewidth": 0,
              "ticks": ""
             }
            },
            "type": "scatterternary"
           }
          ],
          "surface": [
           {
            "colorbar": {
             "outlinewidth": 0,
             "ticks": ""
            },
            "colorscale": [
             [
              0,
              "#0d0887"
             ],
             [
              0.1111111111111111,
              "#46039f"
             ],
             [
              0.2222222222222222,
              "#7201a8"
             ],
             [
              0.3333333333333333,
              "#9c179e"
             ],
             [
              0.4444444444444444,
              "#bd3786"
             ],
             [
              0.5555555555555556,
              "#d8576b"
             ],
             [
              0.6666666666666666,
              "#ed7953"
             ],
             [
              0.7777777777777778,
              "#fb9f3a"
             ],
             [
              0.8888888888888888,
              "#fdca26"
             ],
             [
              1,
              "#f0f921"
             ]
            ],
            "type": "surface"
           }
          ],
          "table": [
           {
            "cells": {
             "fill": {
              "color": "#EBF0F8"
             },
             "line": {
              "color": "white"
             }
            },
            "header": {
             "fill": {
              "color": "#C8D4E3"
             },
             "line": {
              "color": "white"
             }
            },
            "type": "table"
           }
          ]
         },
         "layout": {
          "annotationdefaults": {
           "arrowcolor": "#2a3f5f",
           "arrowhead": 0,
           "arrowwidth": 1
          },
          "autotypenumbers": "strict",
          "coloraxis": {
           "colorbar": {
            "outlinewidth": 0,
            "ticks": ""
           }
          },
          "colorscale": {
           "diverging": [
            [
             0,
             "#8e0152"
            ],
            [
             0.1,
             "#c51b7d"
            ],
            [
             0.2,
             "#de77ae"
            ],
            [
             0.3,
             "#f1b6da"
            ],
            [
             0.4,
             "#fde0ef"
            ],
            [
             0.5,
             "#f7f7f7"
            ],
            [
             0.6,
             "#e6f5d0"
            ],
            [
             0.7,
             "#b8e186"
            ],
            [
             0.8,
             "#7fbc41"
            ],
            [
             0.9,
             "#4d9221"
            ],
            [
             1,
             "#276419"
            ]
           ],
           "sequential": [
            [
             0,
             "#0d0887"
            ],
            [
             0.1111111111111111,
             "#46039f"
            ],
            [
             0.2222222222222222,
             "#7201a8"
            ],
            [
             0.3333333333333333,
             "#9c179e"
            ],
            [
             0.4444444444444444,
             "#bd3786"
            ],
            [
             0.5555555555555556,
             "#d8576b"
            ],
            [
             0.6666666666666666,
             "#ed7953"
            ],
            [
             0.7777777777777778,
             "#fb9f3a"
            ],
            [
             0.8888888888888888,
             "#fdca26"
            ],
            [
             1,
             "#f0f921"
            ]
           ],
           "sequentialminus": [
            [
             0,
             "#0d0887"
            ],
            [
             0.1111111111111111,
             "#46039f"
            ],
            [
             0.2222222222222222,
             "#7201a8"
            ],
            [
             0.3333333333333333,
             "#9c179e"
            ],
            [
             0.4444444444444444,
             "#bd3786"
            ],
            [
             0.5555555555555556,
             "#d8576b"
            ],
            [
             0.6666666666666666,
             "#ed7953"
            ],
            [
             0.7777777777777778,
             "#fb9f3a"
            ],
            [
             0.8888888888888888,
             "#fdca26"
            ],
            [
             1,
             "#f0f921"
            ]
           ]
          },
          "colorway": [
           "#636efa",
           "#EF553B",
           "#00cc96",
           "#ab63fa",
           "#FFA15A",
           "#19d3f3",
           "#FF6692",
           "#B6E880",
           "#FF97FF",
           "#FECB52"
          ],
          "font": {
           "color": "#2a3f5f"
          },
          "geo": {
           "bgcolor": "white",
           "lakecolor": "white",
           "landcolor": "white",
           "showlakes": true,
           "showland": true,
           "subunitcolor": "#C8D4E3"
          },
          "hoverlabel": {
           "align": "left"
          },
          "hovermode": "closest",
          "mapbox": {
           "style": "light"
          },
          "paper_bgcolor": "white",
          "plot_bgcolor": "white",
          "polar": {
           "angularaxis": {
            "gridcolor": "#EBF0F8",
            "linecolor": "#EBF0F8",
            "ticks": ""
           },
           "bgcolor": "white",
           "radialaxis": {
            "gridcolor": "#EBF0F8",
            "linecolor": "#EBF0F8",
            "ticks": ""
           }
          },
          "scene": {
           "xaxis": {
            "backgroundcolor": "white",
            "gridcolor": "#DFE8F3",
            "gridwidth": 2,
            "linecolor": "#EBF0F8",
            "showbackground": true,
            "ticks": "",
            "zerolinecolor": "#EBF0F8"
           },
           "yaxis": {
            "backgroundcolor": "white",
            "gridcolor": "#DFE8F3",
            "gridwidth": 2,
            "linecolor": "#EBF0F8",
            "showbackground": true,
            "ticks": "",
            "zerolinecolor": "#EBF0F8"
           },
           "zaxis": {
            "backgroundcolor": "white",
            "gridcolor": "#DFE8F3",
            "gridwidth": 2,
            "linecolor": "#EBF0F8",
            "showbackground": true,
            "ticks": "",
            "zerolinecolor": "#EBF0F8"
           }
          },
          "shapedefaults": {
           "line": {
            "color": "#2a3f5f"
           }
          },
          "ternary": {
           "aaxis": {
            "gridcolor": "#DFE8F3",
            "linecolor": "#A2B1C6",
            "ticks": ""
           },
           "baxis": {
            "gridcolor": "#DFE8F3",
            "linecolor": "#A2B1C6",
            "ticks": ""
           },
           "bgcolor": "white",
           "caxis": {
            "gridcolor": "#DFE8F3",
            "linecolor": "#A2B1C6",
            "ticks": ""
           }
          },
          "title": {
           "x": 0.05
          },
          "xaxis": {
           "automargin": true,
           "gridcolor": "#EBF0F8",
           "linecolor": "#EBF0F8",
           "ticks": "",
           "title": {
            "standoff": 15
           },
           "zerolinecolor": "#EBF0F8",
           "zerolinewidth": 2
          },
          "yaxis": {
           "automargin": true,
           "gridcolor": "#EBF0F8",
           "linecolor": "#EBF0F8",
           "ticks": "",
           "title": {
            "standoff": 15
           },
           "zerolinecolor": "#EBF0F8",
           "zerolinewidth": 2
          }
         }
        },
        "title": {
         "text": "Close Price with Trade Intervals"
        },
        "updatemenus": [
         {
          "buttons": [
           {
            "args": [
             {
              "visible": [
               true,
               "legendonly",
               "legendonly",
               "legendonly",
               "legendonly",
               "legendonly",
               "legendonly",
               "legendonly",
               "legendonly",
               "legendonly",
               "legendonly",
               "legendonly",
               "legendonly",
               "legendonly",
               "legendonly",
               "legendonly",
               "legendonly",
               "legendonly",
               "legendonly",
               "legendonly",
               "legendonly",
               "legendonly",
               "legendonly",
               "legendonly",
               "legendonly",
               "legendonly",
               "legendonly",
               "legendonly",
               "legendonly",
               "legendonly",
               "legendonly",
               "legendonly",
               "legendonly",
               "legendonly",
               "legendonly",
               "legendonly",
               "legendonly",
               "legendonly",
               "legendonly",
               "legendonly",
               "legendonly",
               "legendonly",
               "legendonly",
               "legendonly",
               "legendonly",
               "legendonly",
               "legendonly",
               "legendonly",
               "legendonly",
               "legendonly",
               "legendonly",
               "legendonly",
               "legendonly",
               "legendonly",
               "legendonly",
               "legendonly",
               "legendonly",
               "legendonly",
               "legendonly",
               "legendonly",
               "legendonly",
               "legendonly",
               "legendonly",
               "legendonly",
               "legendonly",
               "legendonly",
               "legendonly",
               "legendonly",
               "legendonly",
               "legendonly",
               "legendonly",
               "legendonly",
               "legendonly",
               "legendonly"
              ]
             }
            ],
            "label": "Hide Trades",
            "method": "update"
           },
           {
            "args": [
             {
              "visible": [
               true,
               true,
               true,
               true,
               true,
               true,
               true,
               true,
               true,
               true,
               true,
               true,
               true,
               true,
               true,
               true,
               true,
               true,
               true,
               true,
               true,
               true,
               true,
               true,
               true,
               true,
               true,
               true,
               true,
               true,
               true,
               true,
               true,
               true,
               true,
               true,
               true,
               true,
               true,
               true,
               true,
               true,
               true,
               true,
               true,
               true,
               true,
               true,
               true,
               true,
               true,
               true,
               true,
               true,
               true,
               true,
               true,
               true,
               true,
               true,
               true,
               true,
               true,
               true,
               true,
               true,
               true,
               true,
               true,
               true,
               true,
               true,
               true,
               true
              ]
             }
            ],
            "label": "Show Trades",
            "method": "update"
           }
          ],
          "direction": "left",
          "pad": {
           "r": 10,
           "t": 10
          },
          "showactive": true,
          "type": "buttons",
          "x": 0.9,
          "xanchor": "left",
          "y": 1.1,
          "yanchor": "top"
         }
        ],
        "xaxis": {
         "title": {
          "text": "Datetime"
         }
        },
        "yaxis": {
         "title": {
          "text": "Close Price"
         }
        }
       }
      },
      "image/png": "[encoded data removed]",
      "text/html": [
       "<div>                            <div id=\"eec8ef1c-9635-474a-b85d-db422e9ac547\" class=\"plotly-graph-div\" style=\"height:700px; width:100%;\"></div>            <script type=\"text/javascript\">                require([\"plotly\"], function(Plotly) {                    window.PLOTLYENV=window.PLOTLYENV || {};                                    if (document.getElementById(\"eec8ef1c-9635-474a-b85d-db422e9ac547\")) {                    Plotly.newPlot(                        \"eec8ef1c-9635-474a-b85d-db422e9ac547\",                        [{\"hoverinfo\":\"x+y\",\"hovertemplate\":\"Date: %{x}\\u003cbr\\u003eClose: %{y:.2f}\\u003cextra\\u003e\\u003c\\u002fextra\\u003e\",\"line\":{\"color\":\"grey\",\"width\":1},\"mode\":\"lines\",\"name\":\"Close Price\",\"x\":[\"2025-04-03T13:30:00\",\"2025-04-03T13:31:00\",\"2025-04-03T13:32:00\",\"2025-04-03T13:33:00\",\"2025-04-03T13:34:00\",\"2025-04-03T13:35:00\",\"2025-04-03T13:36:00\",\"2025-04-03T13:37:00\",\"2025-04-03T13:38:00\",\"2025-04-03T13:39:00\",\"2025-04-03T13:40:00\",\"2025-04-03T13:41:00\",\"2025-04-03T13:42:00\",\"2025-04-03T13:43:00\",\"2025-04-03T13:44:00\",\"2025-04-03T13:45:00\",\"2025-04-03T13:46:00\",\"2025-04-03T13:47:00\",\"2025-04-03T13:48:00\",\"2025-04-03T13:49:00\",\"2025-04-03T13:50:00\",\"2025-04-03T13:51:00\",\"2025-04-03T13:52:00\",\"2025-04-03T13:53:00\",\"2025-04-03T13:54:00\",\"2025-04-03T13:55:00\",\"2025-04-03T13:56:00\",\"2025-04-03T13:57:00\",\"2025-04-03T13:58:00\",\"2025-04-03T13:59:00\",\"2025-04-03T14:00:00\",\"2025-04-03T14:01:00\",\"2025-04-03T14:02:00\",\"2025-04-03T14:03:00\",\"2025-04-03T14:04:00\",\"2025-04-03T14:05:00\",\"2025-04-03T14:06:00\",\"2025-04-03T14:07:00\",\"2025-04-03T14:08:00\",\"2025-04-03T14:09:00\",\"2025-04-03T14:10:00\",\"2025-04-03T14:11:00\",\"2025-04-03T14:12:00\",\"2025-04-03T14:13:00\",\"2025-04-03T14:14:00\",\"2025-04-03T14:15:00\",\"2025-04-03T14:16:00\",\"2025-04-03T14:17:00\",\"2025-04-03T14:18:00\",\"2025-04-03T14:19:00\",\"2025-04-03T14:20:00\",\"2025-04-03T14:21:00\",\"2025-04-03T14:22:00\",\"2025-04-03T14:23:00\",\"2025-04-03T14:24:00\",\"2025-04-03T14:25:00\",\"2025-04-03T14:26:00\",\"2025-04-03T14:27:00\",\"2025-04-03T14:28:00\",\"2025-04-03T14:29:00\",\"2025-04-03T14:30:00\",\"2025-04-03T14:31:00\",\"2025-04-03T14:32:00\",\"2025-04-03T14:33:00\",\"2025-04-03T14:34:00\",\"2025-04-03T14:35:00\",\"2025-04-03T14:36:00\",\"2025-04-03T14:37:00\",\"2025-04-03T14:38:00\",\"2025-04-03T14:39:00\",\"2025-04-03T14:40:00\",\"2025-04-03T14:41:00\",\"2025-04-03T14:42:00\",\"2025-04-03T14:43:00\",\"2025-04-03T14:44:00\",\"2025-04-03T14:45:00\",\"2025-04-03T14:46:00\",\"2025-04-03T14:47:00\",\"2025-04-03T14:48:00\",\"2025-04-03T14:49:00\",\"2025-04-03T14:50:00\",\"2025-04-03T14:51:00\",\"2025-04-03T14:52:00\",\"2025-04-03T14:53:00\",\"2025-04-03T14:54:00\",\"2025-04-03T14:55:00\",\"2025-04-03T14:56:00\",\"2025-04-03T14:57:00\",\"2025-04-03T14:58:00\",\"2025-04-03T14:59:00\",\"2025-04-03T15:00:00\",\"2025-04-03T15:01:00\",\"2025-04-03T15:02:00\",\"2025-04-03T15:03:00\",\"2025-04-03T15:04:00\",\"2025-04-03T15:05:00\",\"2025-04-03T15:06:00\",\"2025-04-03T15:07:00\",\"2025-04-03T15:08:00\",\"2025-04-03T15:09:00\",\"2025-04-03T15:10:00\",\"2025-04-03T15:11:00\",\"2025-04-03T15:12:00\",\"2025-04-03T15:13:00\",\"2025-04-03T15:14:00\",\"2025-04-03T15:15:00\",\"2025-04-03T15:16:00\",\"2025-04-03T15:17:00\",\"2025-04-03T15:18:00\",\"2025-04-03T15:19:00\",\"2025-04-03T15:20:00\",\"2025-04-03T15:21:00\",\"2025-04-03T15:22:00\",\"2025-04-03T15:23:00\",\"2025-04-03T15:24:00\",\"2025-04-03T15:25:00\",\"2025-04-03T15:26:00\",\"2025-04-03T15:27:00\",\"2025-04-03T15:28:00\",\"2025-04-03T15:29:00\",\"2025-04-03T15:30:00\",\"2025-04-03T15:31:00\",\"2025-04-03T15:32:00\",\"2025-04-03T15:33:00\",\"2025-04-03T15:34:00\",\"2025-04-03T15:35:00\",\"2025-04-03T15:36:00\",\"2025-04-03T15:37:00\",\"2025-04-03T15:38:00\",\"2025-04-03T15:39:00\",\"2025-04-03T15:40:00\",\"2025-04-03T15:41:00\",\"2025-04-03T15:42:00\",\"2025-04-03T15:43:00\",\"2025-04-03T15:44:00\",\"2025-04-03T15:45:00\",\"2025-04-03T15:46:00\",\"2025-04-03T15:47:00\",\"2025-04-03T15:48:00\",\"2025-04-03T15:49:00\",\"2025-04-03T15:50:00\",\"2025-04-03T15:51:00\",\"2025-04-03T15:52:00\",\"2025-04-03T15:53:00\",\"2025-04-03T15:54:00\",\"2025-04-03T15:55:00\",\"2025-04-03T15:56:00\",\"2025-04-03T15:57:00\",\"2025-04-03T15:58:00\",\"2025-04-03T15:59:00\",\"2025-04-03T16:00:00\",\"2025-04-03T16:01:00\",\"2025-04-03T16:02:00\",\"2025-04-03T16:03:00\",\"2025-04-03T16:04:00\",\"2025-04-03T16:05:00\",\"2025-04-03T16:06:00\",\"2025-04-03T16:07:00\",\"2025-04-03T16:08:00\",\"2025-04-03T16:09:00\",\"2025-04-03T16:10:00\",\"2025-04-03T16:11:00\",\"2025-04-03T16:12:00\",\"2025-04-03T16:13:00\",\"2025-04-03T16:14:00\",\"2025-04-03T16:15:00\",\"2025-04-03T16:16:00\",\"2025-04-03T16:17:00\",\"2025-04-03T16:18:00\",\"2025-04-03T16:19:00\",\"2025-04-03T16:20:00\",\"2025-04-03T16:21:00\",\"2025-04-03T16:22:00\",\"2025-04-03T16:23:00\",\"2025-04-03T16:24:00\",\"2025-04-03T16:25:00\",\"2025-04-03T16:26:00\",\"2025-04-03T16:27:00\",\"2025-04-03T16:28:00\",\"2025-04-03T16:29:00\",\"2025-04-03T16:30:00\",\"2025-04-03T16:31:00\",\"2025-04-03T16:32:00\",\"2025-04-03T16:33:00\",\"2025-04-03T16:34:00\",\"2025-04-03T16:35:00\",\"2025-04-03T16:36:00\",\"2025-04-03T16:37:00\",\"2025-04-03T16:38:00\",\"2025-04-03T16:39:00\",\"2025-04-03T16:40:00\",\"2025-04-03T16:41:00\",\"2025-04-03T16:42:00\",\"2025-04-03T16:43:00\",\"2025-04-03T16:44:00\",\"2025-04-03T16:45:00\",\"2025-04-03T16:46:00\",\"2025-04-03T16:47:00\",\"2025-04-03T16:48:00\",\"2025-04-03T16:49:00\",\"2025-04-03T16:50:00\",\"2025-04-03T16:51:00\",\"2025-04-03T16:52:00\",\"2025-04-03T16:53:00\",\"2025-04-03T16:54:00\",\"2025-04-03T16:55:00\",\"2025-04-03T16:56:00\",\"2025-04-03T16:57:00\",\"2025-04-03T16:58:00\",\"2025-04-03T16:59:00\",\"2025-04-03T17:00:00\",\"2025-04-03T17:01:00\",\"2025-04-03T17:02:00\",\"2025-04-03T17:03:00\",\"2025-04-03T17:04:00\",\"2025-04-03T17:05:00\",\"2025-04-03T17:06:00\",\"2025-04-03T17:07:00\",\"2025-04-03T17:08:00\",\"2025-04-03T17:09:00\",\"2025-04-03T17:10:00\",\"2025-04-03T17:11:00\",\"2025-04-03T17:12:00\",\"2025-04-03T17:13:00\",\"2025-04-03T17:14:00\",\"2025-04-03T17:15:00\",\"2025-04-03T17:16:00\",\"2025-04-03T17:17:00\",\"2025-04-03T17:18:00\",\"2025-04-03T17:19:00\",\"2025-04-03T17:20:00\",\"2025-04-03T17:21:00\",\"2025-04-03T17:22:00\",\"2025-04-03T17:23:00\",\"2025-04-03T17:24:00\",\"2025-04-03T17:25:00\",\"2025-04-03T17:26:00\",\"2025-04-03T17:27:00\",\"2025-04-03T17:28:00\",\"2025-04-03T17:29:00\",\"2025-04-03T17:30:00\",\"2025-04-03T17:31:00\",\"2025-04-03T17:32:00\",\"2025-04-03T17:33:00\",\"2025-04-03T17:34:00\",\"2025-04-03T17:35:00\",\"2025-04-03T17:36:00\",\"2025-04-03T17:37:00\",\"2025-04-03T17:38:00\",\"2025-04-03T17:39:00\",\"2025-04-03T17:40:00\",\"2025-04-03T17:41:00\",\"2025-04-03T17:42:00\",\"2025-04-03T17:43:00\",\"2025-04-03T17:44:00\",\"2025-04-03T17:45:00\",\"2025-04-03T17:46:00\",\"2025-04-03T17:47:00\",\"2025-04-03T17:48:00\",\"2025-04-03T17:49:00\",\"2025-04-03T17:50:00\",\"2025-04-03T17:51:00\",\"2025-04-03T17:52:00\",\"2025-04-03T17:53:00\",\"2025-04-03T17:54:00\",\"2025-04-03T17:55:00\",\"2025-04-03T17:56:00\",\"2025-04-03T17:57:00\",\"2025-04-03T17:58:00\",\"2025-04-03T17:59:00\",\"2025-04-03T18:00:00\",\"2025-04-03T18:01:00\",\"2025-04-03T18:02:00\",\"2025-04-03T18:03:00\",\"2025-04-03T18:04:00\",\"2025-04-03T18:05:00\",\"2025-04-03T18:06:00\",\"2025-04-03T18:07:00\",\"2025-04-03T18:08:00\",\"2025-04-03T18:09:00\",\"2025-04-03T18:10:00\",\"2025-04-03T18:11:00\",\"2025-04-03T18:12:00\",\"2025-04-03T18:13:00\",\"2025-04-03T18:14:00\",\"2025-04-03T18:15:00\",\"2025-04-03T18:16:00\",\"2025-04-03T18:17:00\",\"2025-04-03T18:18:00\",\"2025-04-03T18:19:00\",\"2025-04-03T18:20:00\",\"2025-04-03T18:21:00\",\"2025-04-03T18:22:00\",\"2025-04-03T18:23:00\",\"2025-04-03T18:24:00\",\"2025-04-03T18:25:00\",\"2025-04-03T18:26:00\",\"2025-04-03T18:27:00\",\"2025-04-03T18:28:00\",\"2025-04-03T18:29:00\",\"2025-04-03T18:30:00\",\"2025-04-03T18:31:00\",\"2025-04-03T18:32:00\",\"2025-04-03T18:33:00\",\"2025-04-03T18:34:00\",\"2025-04-03T18:35:00\",\"2025-04-03T18:36:00\",\"2025-04-03T18:37:00\",\"2025-04-03T18:38:00\",\"2025-04-03T18:39:00\",\"2025-04-03T18:40:00\",\"2025-04-03T18:41:00\",\"2025-04-03T18:42:00\",\"2025-04-03T18:43:00\",\"2025-04-03T18:44:00\",\"2025-04-03T18:45:00\",\"2025-04-03T18:46:00\",\"2025-04-03T18:47:00\",\"2025-04-03T18:48:00\",\"2025-04-03T18:49:00\",\"2025-04-03T18:50:00\",\"2025-04-03T18:51:00\",\"2025-04-03T18:52:00\",\"2025-04-03T18:53:00\",\"2025-04-03T18:54:00\",\"2025-04-03T18:55:00\",\"2025-04-03T18:56:00\",\"2025-04-03T18:57:00\",\"2025-04-03T18:58:00\",\"2025-04-03T18:59:00\",\"2025-04-03T19:00:00\",\"2025-04-03T19:01:00\",\"2025-04-03T19:02:00\",\"2025-04-03T19:03:00\",\"2025-04-03T19:04:00\",\"2025-04-03T19:05:00\",\"2025-04-03T19:06:00\",\"2025-04-03T19:07:00\",\"2025-04-03T19:08:00\",\"2025-04-03T19:09:00\",\"2025-04-03T19:10:00\",\"2025-04-03T19:11:00\",\"2025-04-03T19:12:00\",\"2025-04-03T19:13:00\",\"2025-04-03T19:14:00\",\"2025-04-03T19:15:00\",\"2025-04-03T19:16:00\",\"2025-04-03T19:17:00\",\"2025-04-03T19:18:00\",\"2025-04-03T19:19:00\",\"2025-04-03T19:20:00\",\"2025-04-03T19:21:00\",\"2025-04-03T19:22:00\",\"2025-04-03T19:23:00\",\"2025-04-03T19:24:00\",\"2025-04-03T19:25:00\",\"2025-04-03T19:26:00\",\"2025-04-03T19:27:00\",\"2025-04-03T19:28:00\",\"2025-04-03T19:29:00\",\"2025-04-03T19:30:00\",\"2025-04-03T19:31:00\",\"2025-04-03T19:32:00\",\"2025-04-03T19:33:00\",\"2025-04-03T19:34:00\",\"2025-04-03T19:35:00\",\"2025-04-03T19:36:00\",\"2025-04-03T19:37:00\",\"2025-04-03T19:38:00\",\"2025-04-03T19:39:00\",\"2025-04-03T19:40:00\",\"2025-04-03T19:41:00\",\"2025-04-03T19:42:00\",\"2025-04-03T19:43:00\",\"2025-04-03T19:44:00\",\"2025-04-03T19:45:00\",\"2025-04-03T19:46:00\",\"2025-04-03T19:47:00\",\"2025-04-03T19:48:00\",\"2025-04-03T19:49:00\",\"2025-04-03T19:50:00\",\"2025-04-03T19:51:00\",\"2025-04-03T19:52:00\",\"2025-04-03T19:53:00\",\"2025-04-03T19:54:00\",\"2025-04-03T19:55:00\",\"2025-04-03T19:56:00\",\"2025-04-03T19:57:00\",\"2025-04-03T19:58:00\",\"2025-04-03T19:59:00\",\"2025-04-03T20:00:00\"],\"y\":[125.86,127.155,128.6,127.93,127.95,127.96,127.97,127.9172,128.2701,128.07,127.88,127.59,127.36,127.5,127.38,127.47,127.67,128.11,128.17,127.88,128.41,128.205,128.85,128.79,129.105,129.355,129.295,129.79,129.98,129.6994,129.77,129.78,129.81,129.25,128.978,128.99,129.07,129.205,129.26,129.23,129.485,129.22,129.15,129.01,129.23,129.92,130.3375,130.3375,130.44,130.5,130.33,130.3,130.045,129.95,130.12,129.83,130.135,130.4,130.21,130.05,130.28,130.05,130.25,129.875,129.4,129.3,129.29,129.155,129.195,129.0805,128.955,129.2421,128.91,129.03,128.83,128.65,128.8889,128.755,128.965,128.845,128.81,128.62,128.4754,128.38,128.495,128.7399,128.63,128.5854,128.52,128.32,128.365,128.57,128.56,128.94,128.97,128.695,128.6417,128.555,128.5,128.58,128.66,128.64,128.66,128.48,128.405,128.475,128.66,128.53,128.56,128.425,128.2604,128.06,128.17,128.23,128.18,128.32,128.29,128.25,128.46,128.4727,128.72,128.5002,128.6,128.6,128.65,128.5775,128.84,128.97,128.84,128.74,128.6639,128.81,128.84,128.935,129.01,128.905,128.9375,128.845,129.01,128.8586,128.795,128.72,128.84,128.7,128.86,128.875,128.92,129.0,129.1115,129.0253,129.19,129.32,129.3805,129.36,129.33,129.43,129.26,129.3455,129.28,129.215,129.28,129.26,129.2,129.3501,129.52,129.45,129.55,129.4727,129.58,129.6907,129.65,129.65,129.74,129.79,129.8465,129.65,129.51,129.69,129.705,129.77,129.61,129.645,129.62,129.4578,129.47,129.48,129.38,129.39,129.2805,129.385,129.5,129.49,129.555,129.59,129.3,129.36,129.365,129.34,129.525,129.6,129.49,129.555,129.56,129.54,129.43,129.5,129.61,129.47,129.4993,129.54,129.64,129.615,129.665,129.42,129.41,129.39,129.51,129.66,129.44,129.365,129.29,129.465,129.5,129.62,129.6899,129.74,129.71,129.6386,129.5,129.655,129.46,129.47,129.33,129.35,129.34,129.27,129.185,129.29,129.12,129.09,129.12,129.27,129.28,129.2203,129.42,129.49,129.5201,129.65,129.685,129.69,129.79,129.79,129.79,129.71,129.755,129.73,129.71,129.59,129.595,129.6,129.65,129.565,129.612,129.69,129.74,129.79,129.94,129.8599,129.8386,129.765,129.86,129.9,129.87,129.815,129.855,129.8469,129.85,129.645,129.47,129.365,129.275,129.12,128.94,129.05,128.94,129.0586,128.895,128.775,128.64,128.82,128.745,128.76,128.84,128.83,128.7077,128.9,128.815,128.6701,128.77,128.756,128.585,128.67,128.75,128.89,128.8,128.98,129.145,129.215,129.235,129.282,129.38,129.41,129.25,129.31,129.375,129.275,129.36,129.3605,129.38,129.27,129.265,129.38,129.345,129.22,129.195,128.99,129.095,129.055,129.04,129.115,129.19,129.18,129.22,129.31,129.445,129.51,129.555,129.575,129.56,129.455,129.43,129.335,129.375,129.42,129.255,129.095,128.98,128.89,128.985,128.935,128.965,128.935,128.845,128.955,128.9965,129.065,129.05,128.875,128.9,128.84,128.77,128.695,128.585,128.7759,128.69,128.74,128.63,128.66,128.67,128.74,128.86,128.91,128.975,129.15,129.15,128.97,128.89,128.915,129.025,128.98,129.1,129.1,129.1898,129.1,129.255,129.205,129.27,129.2,129.355,129.39,129.35],\"type\":\"scatter\"},{\"hoveron\":\"points\",\"hovertemplate\":\"Trade 1: Return: 1.28%\\u003cextra\\u003e\\u003c\\u002fextra\\u003e\",\"line\":{\"color\":\"green\",\"width\":3},\"marker\":{\"color\":\"green\",\"size\":4},\"mode\":\"lines+markers\",\"name\":\"Trade 1\",\"visible\":true,\"x\":[\"2025-04-03T13:30:00\",\"2025-04-03T13:31:00\",\"2025-04-03T13:32:00\",\"2025-04-03T13:33:00\",\"2025-04-03T13:34:00\",\"2025-04-03T13:35:00\",\"2025-04-03T13:36:00\",\"2025-04-03T13:37:00\",\"2025-04-03T13:38:00\",\"2025-04-03T13:39:00\",\"2025-04-03T13:40:00\",\"2025-04-03T13:41:00\",\"2025-04-03T13:42:00\",\"2025-04-03T13:43:00\",\"2025-04-03T13:44:00\",\"2025-04-03T13:45:00\"],\"y\":[125.86,127.155,128.6,127.93,127.95,127.96,127.97,127.9172,128.2701,128.07,127.88,127.59,127.36,127.5,127.38,127.47],\"type\":\"scatter\"},{\"hoveron\":\"points\",\"hovertemplate\":\"Trade 2: Return: 0.41%\\u003cextra\\u003e\\u003c\\u002fextra\\u003e\",\"line\":{\"color\":\"green\",\"width\":3},\"marker\":{\"color\":\"green\",\"size\":4},\"mode\":\"lines+markers\",\"name\":\"Trade 2\",\"visible\":true,\"x\":[\"2025-04-03T13:31:00\",\"2025-04-03T13:32:00\",\"2025-04-03T13:33:00\",\"2025-04-03T13:34:00\",\"2025-04-03T13:35:00\",\"2025-04-03T13:36:00\",\"2025-04-03T13:37:00\",\"2025-04-03T13:38:00\",\"2025-04-03T13:39:00\",\"2025-04-03T13:40:00\",\"2025-04-03T13:41:00\",\"2025-04-03T13:42:00\",\"2025-04-03T13:43:00\",\"2025-04-03T13:44:00\",\"2025-04-03T13:45:00\",\"2025-04-03T13:46:00\"],\"y\":[127.155,128.6,127.93,127.95,127.96,127.97,127.9172,128.2701,128.07,127.88,127.59,127.36,127.5,127.38,127.47,127.67],\"type\":\"scatter\"},{\"hoveron\":\"points\",\"hovertemplate\":\"Trade 3: Return: 0.35%\\u003cextra\\u003e\\u003c\\u002fextra\\u003e\",\"line\":{\"color\":\"green\",\"width\":3},\"marker\":{\"color\":\"green\",\"size\":4},\"mode\":\"lines+markers\",\"name\":\"Trade 3\",\"visible\":true,\"x\":[\"2025-04-03T13:35:00\",\"2025-04-03T13:36:00\",\"2025-04-03T13:37:00\",\"2025-04-03T13:38:00\",\"2025-04-03T13:39:00\",\"2025-04-03T13:40:00\",\"2025-04-03T13:41:00\",\"2025-04-03T13:42:00\",\"2025-04-03T13:43:00\",\"2025-04-03T13:44:00\",\"2025-04-03T13:45:00\",\"2025-04-03T13:46:00\",\"2025-04-03T13:47:00\",\"2025-04-03T13:48:00\",\"2025-04-03T13:49:00\",\"2025-04-03T13:50:00\"],\"y\":[127.96,127.97,127.9172,128.2701,128.07,127.88,127.59,127.36,127.5,127.38,127.47,127.67,128.11,128.17,127.88,128.41],\"type\":\"scatter\"},{\"hoveron\":\"points\",\"hovertemplate\":\"Trade 4: Return: 0.73%\\u003cextra\\u003e\\u003c\\u002fextra\\u003e\",\"line\":{\"color\":\"green\",\"width\":3},\"marker\":{\"color\":\"green\",\"size\":4},\"mode\":\"lines+markers\",\"name\":\"Trade 4\",\"visible\":true,\"x\":[\"2025-04-03T13:37:00\",\"2025-04-03T13:38:00\",\"2025-04-03T13:39:00\",\"2025-04-03T13:40:00\",\"2025-04-03T13:41:00\",\"2025-04-03T13:42:00\",\"2025-04-03T13:43:00\",\"2025-04-03T13:44:00\",\"2025-04-03T13:45:00\",\"2025-04-03T13:46:00\",\"2025-04-03T13:47:00\",\"2025-04-03T13:48:00\",\"2025-04-03T13:49:00\",\"2025-04-03T13:50:00\",\"2025-04-03T13:51:00\",\"2025-04-03T13:52:00\"],\"y\":[127.9172,128.2701,128.07,127.88,127.59,127.36,127.5,127.38,127.47,127.67,128.11,128.17,127.88,128.41,128.205,128.85],\"type\":\"scatter\"},{\"hoveron\":\"points\",\"hovertemplate\":\"Trade 5: Return: 0.41%\\u003cextra\\u003e\\u003c\\u002fextra\\u003e\",\"line\":{\"color\":\"green\",\"width\":3},\"marker\":{\"color\":\"green\",\"size\":4},\"mode\":\"lines+markers\",\"name\":\"Trade 5\",\"visible\":true,\"x\":[\"2025-04-03T13:38:00\",\"2025-04-03T13:39:00\",\"2025-04-03T13:40:00\",\"2025-04-03T13:41:00\",\"2025-04-03T13:42:00\",\"2025-04-03T13:43:00\",\"2025-04-03T13:44:00\",\"2025-04-03T13:45:00\",\"2025-04-03T13:46:00\",\"2025-04-03T13:47:00\",\"2025-04-03T13:48:00\",\"2025-04-03T13:49:00\",\"2025-04-03T13:50:00\",\"2025-04-03T13:51:00\",\"2025-04-03T13:52:00\",\"2025-04-03T13:53:00\"],\"y\":[128.2701,128.07,127.88,127.59,127.36,127.5,127.38,127.47,127.67,128.11,128.17,127.88,128.41,128.205,128.85,128.79],\"type\":\"scatter\"},{\"hoveron\":\"points\",\"hovertemplate\":\"Trade 6: Return: 0.81%\\u003cextra\\u003e\\u003c\\u002fextra\\u003e\",\"line\":{\"color\":\"green\",\"width\":3},\"marker\":{\"color\":\"green\",\"size\":4},\"mode\":\"lines+markers\",\"name\":\"Trade 6\",\"visible\":true,\"x\":[\"2025-04-03T13:39:00\",\"2025-04-03T13:40:00\",\"2025-04-03T13:41:00\",\"2025-04-03T13:42:00\",\"2025-04-03T13:43:00\",\"2025-04-03T13:44:00\",\"2025-04-03T13:45:00\",\"2025-04-03T13:46:00\",\"2025-04-03T13:47:00\",\"2025-04-03T13:48:00\",\"2025-04-03T13:49:00\",\"2025-04-03T13:50:00\",\"2025-04-03T13:51:00\",\"2025-04-03T13:52:00\",\"2025-04-03T13:53:00\",\"2025-04-03T13:54:00\"],\"y\":[128.07,127.88,127.59,127.36,127.5,127.38,127.47,127.67,128.11,128.17,127.88,128.41,128.205,128.85,128.79,129.105],\"type\":\"scatter\"},{\"hoveron\":\"points\",\"hovertemplate\":\"Trade 7: Return: 1.15%\\u003cextra\\u003e\\u003c\\u002fextra\\u003e\",\"line\":{\"color\":\"green\",\"width\":3},\"marker\":{\"color\":\"green\",\"size\":4},\"mode\":\"lines+markers\",\"name\":\"Trade 7\",\"visible\":true,\"x\":[\"2025-04-03T13:40:00\",\"2025-04-03T13:41:00\",\"2025-04-03T13:42:00\",\"2025-04-03T13:43:00\",\"2025-04-03T13:44:00\",\"2025-04-03T13:45:00\",\"2025-04-03T13:46:00\",\"2025-04-03T13:47:00\",\"2025-04-03T13:48:00\",\"2025-04-03T13:49:00\",\"2025-04-03T13:50:00\",\"2025-04-03T13:51:00\",\"2025-04-03T13:52:00\",\"2025-04-03T13:53:00\",\"2025-04-03T13:54:00\",\"2025-04-03T13:55:00\"],\"y\":[127.88,127.59,127.36,127.5,127.38,127.47,127.67,128.11,128.17,127.88,128.41,128.205,128.85,128.79,129.105,129.355],\"type\":\"scatter\"},{\"hoveron\":\"points\",\"hovertemplate\":\"Trade 8: Return: 1.34%\\u003cextra\\u003e\\u003c\\u002fextra\\u003e\",\"line\":{\"color\":\"green\",\"width\":3},\"marker\":{\"color\":\"green\",\"size\":4},\"mode\":\"lines+markers\",\"name\":\"Trade 8\",\"visible\":true,\"x\":[\"2025-04-03T13:41:00\",\"2025-04-03T13:42:00\",\"2025-04-03T13:43:00\",\"2025-04-03T13:44:00\",\"2025-04-03T13:45:00\",\"2025-04-03T13:46:00\",\"2025-04-03T13:47:00\",\"2025-04-03T13:48:00\",\"2025-04-03T13:49:00\",\"2025-04-03T13:50:00\",\"2025-04-03T13:51:00\",\"2025-04-03T13:52:00\",\"2025-04-03T13:53:00\",\"2025-04-03T13:54:00\",\"2025-04-03T13:55:00\",\"2025-04-03T13:56:00\"],\"y\":[127.59,127.36,127.5,127.38,127.47,127.67,128.11,128.17,127.88,128.41,128.205,128.85,128.79,129.105,129.355,129.295],\"type\":\"scatter\"},{\"hoveron\":\"points\",\"hovertemplate\":\"Trade 9: Return: 1.91%\\u003cextra\\u003e\\u003c\\u002fextra\\u003e\",\"line\":{\"color\":\"green\",\"width\":3},\"marker\":{\"color\":\"green\",\"size\":4},\"mode\":\"lines+markers\",\"name\":\"Trade 9\",\"visible\":true,\"x\":[\"2025-04-03T13:42:00\",\"2025-04-03T13:43:00\",\"2025-04-03T13:44:00\",\"2025-04-03T13:45:00\",\"2025-04-03T13:46:00\",\"2025-04-03T13:47:00\",\"2025-04-03T13:48:00\",\"2025-04-03T13:49:00\",\"2025-04-03T13:50:00\",\"2025-04-03T13:51:00\",\"2025-04-03T13:52:00\",\"2025-04-03T13:53:00\",\"2025-04-03T13:54:00\",\"2025-04-03T13:55:00\",\"2025-04-03T13:56:00\",\"2025-04-03T13:57:00\"],\"y\":[127.36,127.5,127.38,127.47,127.67,128.11,128.17,127.88,128.41,128.205,128.85,128.79,129.105,129.355,129.295,129.79],\"type\":\"scatter\"},{\"hoveron\":\"points\",\"hovertemplate\":\"Trade 10: Return: 1.95%\\u003cextra\\u003e\\u003c\\u002fextra\\u003e\",\"line\":{\"color\":\"green\",\"width\":3},\"marker\":{\"color\":\"green\",\"size\":4},\"mode\":\"lines+markers\",\"name\":\"Trade 10\",\"visible\":true,\"x\":[\"2025-04-03T13:43:00\",\"2025-04-03T13:44:00\",\"2025-04-03T13:45:00\",\"2025-04-03T13:46:00\",\"2025-04-03T13:47:00\",\"2025-04-03T13:48:00\",\"2025-04-03T13:49:00\",\"2025-04-03T13:50:00\",\"2025-04-03T13:51:00\",\"2025-04-03T13:52:00\",\"2025-04-03T13:53:00\",\"2025-04-03T13:54:00\",\"2025-04-03T13:55:00\",\"2025-04-03T13:56:00\",\"2025-04-03T13:57:00\",\"2025-04-03T13:58:00\"],\"y\":[127.5,127.38,127.47,127.67,128.11,128.17,127.88,128.41,128.205,128.85,128.79,129.105,129.355,129.295,129.79,129.98],\"type\":\"scatter\"},{\"hoveron\":\"points\",\"hovertemplate\":\"Trade 11: Return: 1.82%\\u003cextra\\u003e\\u003c\\u002fextra\\u003e\",\"line\":{\"color\":\"green\",\"width\":3},\"marker\":{\"color\":\"green\",\"size\":4},\"mode\":\"lines+markers\",\"name\":\"Trade 11\",\"visible\":true,\"x\":[\"2025-04-03T13:44:00\",\"2025-04-03T13:45:00\",\"2025-04-03T13:46:00\",\"2025-04-03T13:47:00\",\"2025-04-03T13:48:00\",\"2025-04-03T13:49:00\",\"2025-04-03T13:50:00\",\"2025-04-03T13:51:00\",\"2025-04-03T13:52:00\",\"2025-04-03T13:53:00\",\"2025-04-03T13:54:00\",\"2025-04-03T13:55:00\",\"2025-04-03T13:56:00\",\"2025-04-03T13:57:00\",\"2025-04-03T13:58:00\",\"2025-04-03T13:59:00\"],\"y\":[127.38,127.47,127.67,128.11,128.17,127.88,128.41,128.205,128.85,128.79,129.105,129.355,129.295,129.79,129.98,129.6994],\"type\":\"scatter\"},{\"hoveron\":\"points\",\"hovertemplate\":\"Trade 12: Return: 1.80%\\u003cextra\\u003e\\u003c\\u002fextra\\u003e\",\"line\":{\"color\":\"green\",\"width\":3},\"marker\":{\"color\":\"green\",\"size\":4},\"mode\":\"lines+markers\",\"name\":\"Trade 12\",\"visible\":true,\"x\":[\"2025-04-03T13:45:00\",\"2025-04-03T13:46:00\",\"2025-04-03T13:47:00\",\"2025-04-03T13:48:00\",\"2025-04-03T13:49:00\",\"2025-04-03T13:50:00\",\"2025-04-03T13:51:00\",\"2025-04-03T13:52:00\",\"2025-04-03T13:53:00\",\"2025-04-03T13:54:00\",\"2025-04-03T13:55:00\",\"2025-04-03T13:56:00\",\"2025-04-03T13:57:00\",\"2025-04-03T13:58:00\",\"2025-04-03T13:59:00\",\"2025-04-03T14:00:00\"],\"y\":[127.47,127.67,128.11,128.17,127.88,128.41,128.205,128.85,128.79,129.105,129.355,129.295,129.79,129.98,129.6994,129.77],\"type\":\"scatter\"},{\"hoveron\":\"points\",\"hovertemplate\":\"Trade 13: Return: 1.65%\\u003cextra\\u003e\\u003c\\u002fextra\\u003e\",\"line\":{\"color\":\"green\",\"width\":3},\"marker\":{\"color\":\"green\",\"size\":4},\"mode\":\"lines+markers\",\"name\":\"Trade 13\",\"visible\":true,\"x\":[\"2025-04-03T13:46:00\",\"2025-04-03T13:47:00\",\"2025-04-03T13:48:00\",\"2025-04-03T13:49:00\",\"2025-04-03T13:50:00\",\"2025-04-03T13:51:00\",\"2025-04-03T13:52:00\",\"2025-04-03T13:53:00\",\"2025-04-03T13:54:00\",\"2025-04-03T13:55:00\",\"2025-04-03T13:56:00\",\"2025-04-03T13:57:00\",\"2025-04-03T13:58:00\",\"2025-04-03T13:59:00\",\"2025-04-03T14:00:00\",\"2025-04-03T14:01:00\"],\"y\":[127.67,128.11,128.17,127.88,128.41,128.205,128.85,128.79,129.105,129.355,129.295,129.79,129.98,129.6994,129.77,129.78],\"type\":\"scatter\"},{\"hoveron\":\"points\",\"hovertemplate\":\"Trade 14: Return: 1.33%\\u003cextra\\u003e\\u003c\\u002fextra\\u003e\",\"line\":{\"color\":\"green\",\"width\":3},\"marker\":{\"color\":\"green\",\"size\":4},\"mode\":\"lines+markers\",\"name\":\"Trade 14\",\"visible\":true,\"x\":[\"2025-04-03T13:47:00\",\"2025-04-03T13:48:00\",\"2025-04-03T13:49:00\",\"2025-04-03T13:50:00\",\"2025-04-03T13:51:00\",\"2025-04-03T13:52:00\",\"2025-04-03T13:53:00\",\"2025-04-03T13:54:00\",\"2025-04-03T13:55:00\",\"2025-04-03T13:56:00\",\"2025-04-03T13:57:00\",\"2025-04-03T13:58:00\",\"2025-04-03T13:59:00\",\"2025-04-03T14:00:00\",\"2025-04-03T14:01:00\",\"2025-04-03T14:02:00\"],\"y\":[128.11,128.17,127.88,128.41,128.205,128.85,128.79,129.105,129.355,129.295,129.79,129.98,129.6994,129.77,129.78,129.81],\"type\":\"scatter\"},{\"hoveron\":\"points\",\"hovertemplate\":\"Trade 15: Return: 0.84%\\u003cextra\\u003e\\u003c\\u002fextra\\u003e\",\"line\":{\"color\":\"green\",\"width\":3},\"marker\":{\"color\":\"green\",\"size\":4},\"mode\":\"lines+markers\",\"name\":\"Trade 15\",\"visible\":true,\"x\":[\"2025-04-03T13:48:00\",\"2025-04-03T13:49:00\",\"2025-04-03T13:50:00\",\"2025-04-03T13:51:00\",\"2025-04-03T13:52:00\",\"2025-04-03T13:53:00\",\"2025-04-03T13:54:00\",\"2025-04-03T13:55:00\",\"2025-04-03T13:56:00\",\"2025-04-03T13:57:00\",\"2025-04-03T13:58:00\",\"2025-04-03T13:59:00\",\"2025-04-03T14:00:00\",\"2025-04-03T14:01:00\",\"2025-04-03T14:02:00\",\"2025-04-03T14:03:00\"],\"y\":[128.17,127.88,128.41,128.205,128.85,128.79,129.105,129.355,129.295,129.79,129.98,129.6994,129.77,129.78,129.81,129.25],\"type\":\"scatter\"},{\"hoveron\":\"points\",\"hovertemplate\":\"Trade 16: Return: 0.86%\\u003cextra\\u003e\\u003c\\u002fextra\\u003e\",\"line\":{\"color\":\"green\",\"width\":3},\"marker\":{\"color\":\"green\",\"size\":4},\"mode\":\"lines+markers\",\"name\":\"Trade 16\",\"visible\":true,\"x\":[\"2025-04-03T13:49:00\",\"2025-04-03T13:50:00\",\"2025-04-03T13:51:00\",\"2025-04-03T13:52:00\",\"2025-04-03T13:53:00\",\"2025-04-03T13:54:00\",\"2025-04-03T13:55:00\",\"2025-04-03T13:56:00\",\"2025-04-03T13:57:00\",\"2025-04-03T13:58:00\",\"2025-04-03T13:59:00\",\"2025-04-03T14:00:00\",\"2025-04-03T14:01:00\",\"2025-04-03T14:02:00\",\"2025-04-03T14:03:00\",\"2025-04-03T14:04:00\"],\"y\":[127.88,128.41,128.205,128.85,128.79,129.105,129.355,129.295,129.79,129.98,129.6994,129.77,129.78,129.81,129.25,128.978],\"type\":\"scatter\"},{\"hoveron\":\"points\",\"hovertemplate\":\"Trade 17: Return: 0.45%\\u003cextra\\u003e\\u003c\\u002fextra\\u003e\",\"line\":{\"color\":\"green\",\"width\":3},\"marker\":{\"color\":\"green\",\"size\":4},\"mode\":\"lines+markers\",\"name\":\"Trade 17\",\"visible\":true,\"x\":[\"2025-04-03T13:50:00\",\"2025-04-03T13:51:00\",\"2025-04-03T13:52:00\",\"2025-04-03T13:53:00\",\"2025-04-03T13:54:00\",\"2025-04-03T13:55:00\",\"2025-04-03T13:56:00\",\"2025-04-03T13:57:00\",\"2025-04-03T13:58:00\",\"2025-04-03T13:59:00\",\"2025-04-03T14:00:00\",\"2025-04-03T14:01:00\",\"2025-04-03T14:02:00\",\"2025-04-03T14:03:00\",\"2025-04-03T14:04:00\",\"2025-04-03T14:05:00\"],\"y\":[128.41,128.205,128.85,128.79,129.105,129.355,129.295,129.79,129.98,129.6994,129.77,129.78,129.81,129.25,128.978,128.99],\"type\":\"scatter\"},{\"hoveron\":\"points\",\"hovertemplate\":\"Trade 18: Return: 0.68%\\u003cextra\\u003e\\u003c\\u002fextra\\u003e\",\"line\":{\"color\":\"green\",\"width\":3},\"marker\":{\"color\":\"green\",\"size\":4},\"mode\":\"lines+markers\",\"name\":\"Trade 18\",\"visible\":true,\"x\":[\"2025-04-03T13:51:00\",\"2025-04-03T13:52:00\",\"2025-04-03T13:53:00\",\"2025-04-03T13:54:00\",\"2025-04-03T13:55:00\",\"2025-04-03T13:56:00\",\"2025-04-03T13:57:00\",\"2025-04-03T13:58:00\",\"2025-04-03T13:59:00\",\"2025-04-03T14:00:00\",\"2025-04-03T14:01:00\",\"2025-04-03T14:02:00\",\"2025-04-03T14:03:00\",\"2025-04-03T14:04:00\",\"2025-04-03T14:05:00\",\"2025-04-03T14:06:00\"],\"y\":[128.205,128.85,128.79,129.105,129.355,129.295,129.79,129.98,129.6994,129.77,129.78,129.81,129.25,128.978,128.99,129.07],\"type\":\"scatter\"},{\"hoveron\":\"points\",\"hovertemplate\":\"Trade 19: Return: 0.36%\\u003cextra\\u003e\\u003c\\u002fextra\\u003e\",\"line\":{\"color\":\"green\",\"width\":3},\"marker\":{\"color\":\"green\",\"size\":4},\"mode\":\"lines+markers\",\"name\":\"Trade 19\",\"visible\":true,\"x\":[\"2025-04-03T13:53:00\",\"2025-04-03T13:54:00\",\"2025-04-03T13:55:00\",\"2025-04-03T13:56:00\",\"2025-04-03T13:57:00\",\"2025-04-03T13:58:00\",\"2025-04-03T13:59:00\",\"2025-04-03T14:00:00\",\"2025-04-03T14:01:00\",\"2025-04-03T14:02:00\",\"2025-04-03T14:03:00\",\"2025-04-03T14:04:00\",\"2025-04-03T14:05:00\",\"2025-04-03T14:06:00\",\"2025-04-03T14:07:00\",\"2025-04-03T14:08:00\"],\"y\":[128.79,129.105,129.355,129.295,129.79,129.98,129.6994,129.77,129.78,129.81,129.25,128.978,128.99,129.07,129.205,129.26],\"type\":\"scatter\"},{\"hoveron\":\"points\",\"hovertemplate\":\"Trade 20: Return: 0.43%\\u003cextra\\u003e\\u003c\\u002fextra\\u003e\",\"line\":{\"color\":\"green\",\"width\":3},\"marker\":{\"color\":\"green\",\"size\":4},\"mode\":\"lines+markers\",\"name\":\"Trade 20\",\"visible\":true,\"x\":[\"2025-04-03T14:01:00\",\"2025-04-03T14:02:00\",\"2025-04-03T14:03:00\",\"2025-04-03T14:04:00\",\"2025-04-03T14:05:00\",\"2025-04-03T14:06:00\",\"2025-04-03T14:07:00\",\"2025-04-03T14:08:00\",\"2025-04-03T14:09:00\",\"2025-04-03T14:10:00\",\"2025-04-03T14:11:00\",\"2025-04-03T14:12:00\",\"2025-04-03T14:13:00\",\"2025-04-03T14:14:00\",\"2025-04-03T14:15:00\",\"2025-04-03T14:16:00\"],\"y\":[129.78,129.81,129.25,128.978,128.99,129.07,129.205,129.26,129.23,129.485,129.22,129.15,129.01,129.23,129.92,130.3375],\"type\":\"scatter\"},{\"hoveron\":\"points\",\"hovertemplate\":\"Trade 21: Return: 0.41%\\u003cextra\\u003e\\u003c\\u002fextra\\u003e\",\"line\":{\"color\":\"green\",\"width\":3},\"marker\":{\"color\":\"green\",\"size\":4},\"mode\":\"lines+markers\",\"name\":\"Trade 21\",\"visible\":true,\"x\":[\"2025-04-03T14:02:00\",\"2025-04-03T14:03:00\",\"2025-04-03T14:04:00\",\"2025-04-03T14:05:00\",\"2025-04-03T14:06:00\",\"2025-04-03T14:07:00\",\"2025-04-03T14:08:00\",\"2025-04-03T14:09:00\",\"2025-04-03T14:10:00\",\"2025-04-03T14:11:00\",\"2025-04-03T14:12:00\",\"2025-04-03T14:13:00\",\"2025-04-03T14:14:00\",\"2025-04-03T14:15:00\",\"2025-04-03T14:16:00\",\"2025-04-03T14:17:00\"],\"y\":[129.81,129.25,128.978,128.99,129.07,129.205,129.26,129.23,129.485,129.22,129.15,129.01,129.23,129.92,130.3375,130.3375],\"type\":\"scatter\"},{\"hoveron\":\"points\",\"hovertemplate\":\"Trade 22: Return: 0.92%\\u003cextra\\u003e\\u003c\\u002fextra\\u003e\",\"line\":{\"color\":\"green\",\"width\":3},\"marker\":{\"color\":\"green\",\"size\":4},\"mode\":\"lines+markers\",\"name\":\"Trade 22\",\"visible\":true,\"x\":[\"2025-04-03T14:03:00\",\"2025-04-03T14:04:00\",\"2025-04-03T14:05:00\",\"2025-04-03T14:06:00\",\"2025-04-03T14:07:00\",\"2025-04-03T14:08:00\",\"2025-04-03T14:09:00\",\"2025-04-03T14:10:00\",\"2025-04-03T14:11:00\",\"2025-04-03T14:12:00\",\"2025-04-03T14:13:00\",\"2025-04-03T14:14:00\",\"2025-04-03T14:15:00\",\"2025-04-03T14:16:00\",\"2025-04-03T14:17:00\",\"2025-04-03T14:18:00\"],\"y\":[129.25,128.978,128.99,129.07,129.205,129.26,129.23,129.485,129.22,129.15,129.01,129.23,129.92,130.3375,130.3375,130.44],\"type\":\"scatter\"},{\"hoveron\":\"points\",\"hovertemplate\":\"Trade 23: Return: 1.18%\\u003cextra\\u003e\\u003c\\u002fextra\\u003e\",\"line\":{\"color\":\"green\",\"width\":3},\"marker\":{\"color\":\"green\",\"size\":4},\"mode\":\"lines+markers\",\"name\":\"Trade 23\",\"visible\":true,\"x\":[\"2025-04-03T14:04:00\",\"2025-04-03T14:05:00\",\"2025-04-03T14:06:00\",\"2025-04-03T14:07:00\",\"2025-04-03T14:08:00\",\"2025-04-03T14:09:00\",\"2025-04-03T14:10:00\",\"2025-04-03T14:11:00\",\"2025-04-03T14:12:00\",\"2025-04-03T14:13:00\",\"2025-04-03T14:14:00\",\"2025-04-03T14:15:00\",\"2025-04-03T14:16:00\",\"2025-04-03T14:17:00\",\"2025-04-03T14:18:00\",\"2025-04-03T14:19:00\"],\"y\":[128.978,128.99,129.07,129.205,129.26,129.23,129.485,129.22,129.15,129.01,129.23,129.92,130.3375,130.3375,130.44,130.5],\"type\":\"scatter\"},{\"hoveron\":\"points\",\"hovertemplate\":\"Trade 24: Return: 1.04%\\u003cextra\\u003e\\u003c\\u002fextra\\u003e\",\"line\":{\"color\":\"green\",\"width\":3},\"marker\":{\"color\":\"green\",\"size\":4},\"mode\":\"lines+markers\",\"name\":\"Trade 24\",\"visible\":true,\"x\":[\"2025-04-03T14:05:00\",\"2025-04-03T14:06:00\",\"2025-04-03T14:07:00\",\"2025-04-03T14:08:00\",\"2025-04-03T14:09:00\",\"2025-04-03T14:10:00\",\"2025-04-03T14:11:00\",\"2025-04-03T14:12:00\",\"2025-04-03T14:13:00\",\"2025-04-03T14:14:00\",\"2025-04-03T14:15:00\",\"2025-04-03T14:16:00\",\"2025-04-03T14:17:00\",\"2025-04-03T14:18:00\",\"2025-04-03T14:19:00\",\"2025-04-03T14:20:00\"],\"y\":[128.99,129.07,129.205,129.26,129.23,129.485,129.22,129.15,129.01,129.23,129.92,130.3375,130.3375,130.44,130.5,130.33],\"type\":\"scatter\"},{\"hoveron\":\"points\",\"hovertemplate\":\"Trade 25: Return: 0.95%\\u003cextra\\u003e\\u003c\\u002fextra\\u003e\",\"line\":{\"color\":\"green\",\"width\":3},\"marker\":{\"color\":\"green\",\"size\":4},\"mode\":\"lines+markers\",\"name\":\"Trade 25\",\"visible\":true,\"x\":[\"2025-04-03T14:06:00\",\"2025-04-03T14:07:00\",\"2025-04-03T14:08:00\",\"2025-04-03T14:09:00\",\"2025-04-03T14:10:00\",\"2025-04-03T14:11:00\",\"2025-04-03T14:12:00\",\"2025-04-03T14:13:00\",\"2025-04-03T14:14:00\",\"2025-04-03T14:15:00\",\"2025-04-03T14:16:00\",\"2025-04-03T14:17:00\",\"2025-04-03T14:18:00\",\"2025-04-03T14:19:00\",\"2025-04-03T14:20:00\",\"2025-04-03T14:21:00\"],\"y\":[129.07,129.205,129.26,129.23,129.485,129.22,129.15,129.01,129.23,129.92,130.3375,130.3375,130.44,130.5,130.33,130.3],\"type\":\"scatter\"},{\"hoveron\":\"points\",\"hovertemplate\":\"Trade 26: Return: 0.65%\\u003cextra\\u003e\\u003c\\u002fextra\\u003e\",\"line\":{\"color\":\"green\",\"width\":3},\"marker\":{\"color\":\"green\",\"size\":4},\"mode\":\"lines+markers\",\"name\":\"Trade 26\",\"visible\":true,\"x\":[\"2025-04-03T14:07:00\",\"2025-04-03T14:08:00\",\"2025-04-03T14:09:00\",\"2025-04-03T14:10:00\",\"2025-04-03T14:11:00\",\"2025-04-03T14:12:00\",\"2025-04-03T14:13:00\",\"2025-04-03T14:14:00\",\"2025-04-03T14:15:00\",\"2025-04-03T14:16:00\",\"2025-04-03T14:17:00\",\"2025-04-03T14:18:00\",\"2025-04-03T14:19:00\",\"2025-04-03T14:20:00\",\"2025-04-03T14:21:00\",\"2025-04-03T14:22:00\"],\"y\":[129.205,129.26,129.23,129.485,129.22,129.15,129.01,129.23,129.92,130.3375,130.3375,130.44,130.5,130.33,130.3,130.045],\"type\":\"scatter\"},{\"hoveron\":\"points\",\"hovertemplate\":\"Trade 27: Return: 0.53%\\u003cextra\\u003e\\u003c\\u002fextra\\u003e\",\"line\":{\"color\":\"green\",\"width\":3},\"marker\":{\"color\":\"green\",\"size\":4},\"mode\":\"lines+markers\",\"name\":\"Trade 27\",\"visible\":true,\"x\":[\"2025-04-03T14:08:00\",\"2025-04-03T14:09:00\",\"2025-04-03T14:10:00\",\"2025-04-03T14:11:00\",\"2025-04-03T14:12:00\",\"2025-04-03T14:13:00\",\"2025-04-03T14:14:00\",\"2025-04-03T14:15:00\",\"2025-04-03T14:16:00\",\"2025-04-03T14:17:00\",\"2025-04-03T14:18:00\",\"2025-04-03T14:19:00\",\"2025-04-03T14:20:00\",\"2025-04-03T14:21:00\",\"2025-04-03T14:22:00\",\"2025-04-03T14:23:00\"],\"y\":[129.26,129.23,129.485,129.22,129.15,129.01,129.23,129.92,130.3375,130.3375,130.44,130.5,130.33,130.3,130.045,129.95],\"type\":\"scatter\"},{\"hoveron\":\"points\",\"hovertemplate\":\"Trade 28: Return: 0.69%\\u003cextra\\u003e\\u003c\\u002fextra\\u003e\",\"line\":{\"color\":\"green\",\"width\":3},\"marker\":{\"color\":\"green\",\"size\":4},\"mode\":\"lines+markers\",\"name\":\"Trade 28\",\"visible\":true,\"x\":[\"2025-04-03T14:09:00\",\"2025-04-03T14:10:00\",\"2025-04-03T14:11:00\",\"2025-04-03T14:12:00\",\"2025-04-03T14:13:00\",\"2025-04-03T14:14:00\",\"2025-04-03T14:15:00\",\"2025-04-03T14:16:00\",\"2025-04-03T14:17:00\",\"2025-04-03T14:18:00\",\"2025-04-03T14:19:00\",\"2025-04-03T14:20:00\",\"2025-04-03T14:21:00\",\"2025-04-03T14:22:00\",\"2025-04-03T14:23:00\",\"2025-04-03T14:24:00\"],\"y\":[129.23,129.485,129.22,129.15,129.01,129.23,129.92,130.3375,130.3375,130.44,130.5,130.33,130.3,130.045,129.95,130.12],\"type\":\"scatter\"},{\"hoveron\":\"points\",\"hovertemplate\":\"Trade 29: Return: 0.71%\\u003cextra\\u003e\\u003c\\u002fextra\\u003e\",\"line\":{\"color\":\"green\",\"width\":3},\"marker\":{\"color\":\"green\",\"size\":4},\"mode\":\"lines+markers\",\"name\":\"Trade 29\",\"visible\":true,\"x\":[\"2025-04-03T14:11:00\",\"2025-04-03T14:12:00\",\"2025-04-03T14:13:00\",\"2025-04-03T14:14:00\",\"2025-04-03T14:15:00\",\"2025-04-03T14:16:00\",\"2025-04-03T14:17:00\",\"2025-04-03T14:18:00\",\"2025-04-03T14:19:00\",\"2025-04-03T14:20:00\",\"2025-04-03T14:21:00\",\"2025-04-03T14:22:00\",\"2025-04-03T14:23:00\",\"2025-04-03T14:24:00\",\"2025-04-03T14:25:00\",\"2025-04-03T14:26:00\"],\"y\":[129.22,129.15,129.01,129.23,129.92,130.3375,130.3375,130.44,130.5,130.33,130.3,130.045,129.95,130.12,129.83,130.135],\"type\":\"scatter\"},{\"hoveron\":\"points\",\"hovertemplate\":\"Trade 30: Return: 0.97%\\u003cextra\\u003e\\u003c\\u002fextra\\u003e\",\"line\":{\"color\":\"green\",\"width\":3},\"marker\":{\"color\":\"green\",\"size\":4},\"mode\":\"lines+markers\",\"name\":\"Trade 30\",\"visible\":true,\"x\":[\"2025-04-03T14:12:00\",\"2025-04-03T14:13:00\",\"2025-04-03T14:14:00\",\"2025-04-03T14:15:00\",\"2025-04-03T14:16:00\",\"2025-04-03T14:17:00\",\"2025-04-03T14:18:00\",\"2025-04-03T14:19:00\",\"2025-04-03T14:20:00\",\"2025-04-03T14:21:00\",\"2025-04-03T14:22:00\",\"2025-04-03T14:23:00\",\"2025-04-03T14:24:00\",\"2025-04-03T14:25:00\",\"2025-04-03T14:26:00\",\"2025-04-03T14:27:00\"],\"y\":[129.15,129.01,129.23,129.92,130.3375,130.3375,130.44,130.5,130.33,130.3,130.045,129.95,130.12,129.83,130.135,130.4],\"type\":\"scatter\"},{\"hoveron\":\"points\",\"hovertemplate\":\"Trade 31: Return: 0.93%\\u003cextra\\u003e\\u003c\\u002fextra\\u003e\",\"line\":{\"color\":\"green\",\"width\":3},\"marker\":{\"color\":\"green\",\"size\":4},\"mode\":\"lines+markers\",\"name\":\"Trade 31\",\"visible\":true,\"x\":[\"2025-04-03T14:13:00\",\"2025-04-03T14:14:00\",\"2025-04-03T14:15:00\",\"2025-04-03T14:16:00\",\"2025-04-03T14:17:00\",\"2025-04-03T14:18:00\",\"2025-04-03T14:19:00\",\"2025-04-03T14:20:00\",\"2025-04-03T14:21:00\",\"2025-04-03T14:22:00\",\"2025-04-03T14:23:00\",\"2025-04-03T14:24:00\",\"2025-04-03T14:25:00\",\"2025-04-03T14:26:00\",\"2025-04-03T14:27:00\",\"2025-04-03T14:28:00\"],\"y\":[129.01,129.23,129.92,130.3375,130.3375,130.44,130.5,130.33,130.3,130.045,129.95,130.12,129.83,130.135,130.4,130.21],\"type\":\"scatter\"},{\"hoveron\":\"points\",\"hovertemplate\":\"Trade 32: Return: 0.64%\\u003cextra\\u003e\\u003c\\u002fextra\\u003e\",\"line\":{\"color\":\"green\",\"width\":3},\"marker\":{\"color\":\"green\",\"size\":4},\"mode\":\"lines+markers\",\"name\":\"Trade 32\",\"visible\":true,\"x\":[\"2025-04-03T14:14:00\",\"2025-04-03T14:15:00\",\"2025-04-03T14:16:00\",\"2025-04-03T14:17:00\",\"2025-04-03T14:18:00\",\"2025-04-03T14:19:00\",\"2025-04-03T14:20:00\",\"2025-04-03T14:21:00\",\"2025-04-03T14:22:00\",\"2025-04-03T14:23:00\",\"2025-04-03T14:24:00\",\"2025-04-03T14:25:00\",\"2025-04-03T14:26:00\",\"2025-04-03T14:27:00\",\"2025-04-03T14:28:00\",\"2025-04-03T14:29:00\"],\"y\":[129.23,129.92,130.3375,130.3375,130.44,130.5,130.33,130.3,130.045,129.95,130.12,129.83,130.135,130.4,130.21,130.05],\"type\":\"scatter\"},{\"hoveron\":\"points\",\"hovertemplate\":\"Trade 33: Return: 0.61%\\u003cextra\\u003e\\u003c\\u002fextra\\u003e\",\"line\":{\"color\":\"green\",\"width\":3},\"marker\":{\"color\":\"green\",\"size\":4},\"mode\":\"lines+markers\",\"name\":\"Trade 33\",\"visible\":true,\"x\":[\"2025-04-03T15:21:00\",\"2025-04-03T15:22:00\",\"2025-04-03T15:23:00\",\"2025-04-03T15:24:00\",\"2025-04-03T15:25:00\",\"2025-04-03T15:26:00\",\"2025-04-03T15:27:00\",\"2025-04-03T15:28:00\",\"2025-04-03T15:29:00\",\"2025-04-03T15:30:00\",\"2025-04-03T15:31:00\",\"2025-04-03T15:32:00\",\"2025-04-03T15:33:00\",\"2025-04-03T15:34:00\",\"2025-04-03T15:35:00\",\"2025-04-03T15:36:00\"],\"y\":[128.06,128.17,128.23,128.18,128.32,128.29,128.25,128.46,128.4727,128.72,128.5002,128.6,128.6,128.65,128.5775,128.84],\"type\":\"scatter\"},{\"hoveron\":\"points\",\"hovertemplate\":\"Trade 34: Return: 0.62%\\u003cextra\\u003e\\u003c\\u002fextra\\u003e\",\"line\":{\"color\":\"green\",\"width\":3},\"marker\":{\"color\":\"green\",\"size\":4},\"mode\":\"lines+markers\",\"name\":\"Trade 34\",\"visible\":true,\"x\":[\"2025-04-03T15:22:00\",\"2025-04-03T15:23:00\",\"2025-04-03T15:24:00\",\"2025-04-03T15:25:00\",\"2025-04-03T15:26:00\",\"2025-04-03T15:27:00\",\"2025-04-03T15:28:00\",\"2025-04-03T15:29:00\",\"2025-04-03T15:30:00\",\"2025-04-03T15:31:00\",\"2025-04-03T15:32:00\",\"2025-04-03T15:33:00\",\"2025-04-03T15:34:00\",\"2025-04-03T15:35:00\",\"2025-04-03T15:36:00\",\"2025-04-03T15:37:00\"],\"y\":[128.17,128.23,128.18,128.32,128.29,128.25,128.46,128.4727,128.72,128.5002,128.6,128.6,128.65,128.5775,128.84,128.97],\"type\":\"scatter\"},{\"hoveron\":\"points\",\"hovertemplate\":\"Trade 35: Return: 0.48%\\u003cextra\\u003e\\u003c\\u002fextra\\u003e\",\"line\":{\"color\":\"green\",\"width\":3},\"marker\":{\"color\":\"green\",\"size\":4},\"mode\":\"lines+markers\",\"name\":\"Trade 35\",\"visible\":true,\"x\":[\"2025-04-03T15:23:00\",\"2025-04-03T15:24:00\",\"2025-04-03T15:25:00\",\"2025-04-03T15:26:00\",\"2025-04-03T15:27:00\",\"2025-04-03T15:28:00\",\"2025-04-03T15:29:00\",\"2025-04-03T15:30:00\",\"2025-04-03T15:31:00\",\"2025-04-03T15:32:00\",\"2025-04-03T15:33:00\",\"2025-04-03T15:34:00\",\"2025-04-03T15:35:00\",\"2025-04-03T15:36:00\",\"2025-04-03T15:37:00\",\"2025-04-03T15:38:00\"],\"y\":[128.23,128.18,128.32,128.29,128.25,128.46,128.4727,128.72,128.5002,128.6,128.6,128.65,128.5775,128.84,128.97,128.84],\"type\":\"scatter\"},{\"hoveron\":\"points\",\"hovertemplate\":\"Trade 36: Return: 0.44%\\u003cextra\\u003e\\u003c\\u002fextra\\u003e\",\"line\":{\"color\":\"green\",\"width\":3},\"marker\":{\"color\":\"green\",\"size\":4},\"mode\":\"lines+markers\",\"name\":\"Trade 36\",\"visible\":true,\"x\":[\"2025-04-03T15:24:00\",\"2025-04-03T15:25:00\",\"2025-04-03T15:26:00\",\"2025-04-03T15:27:00\",\"2025-04-03T15:28:00\",\"2025-04-03T15:29:00\",\"2025-04-03T15:30:00\",\"2025-04-03T15:31:00\",\"2025-04-03T15:32:00\",\"2025-04-03T15:33:00\",\"2025-04-03T15:34:00\",\"2025-04-03T15:35:00\",\"2025-04-03T15:36:00\",\"2025-04-03T15:37:00\",\"2025-04-03T15:38:00\",\"2025-04-03T15:39:00\"],\"y\":[128.18,128.32,128.29,128.25,128.46,128.4727,128.72,128.5002,128.6,128.6,128.65,128.5775,128.84,128.97,128.84,128.74],\"type\":\"scatter\"},{\"hoveron\":\"points\",\"hovertemplate\":\"Trade 37: Return: 0.41%\\u003cextra\\u003e\\u003c\\u002fextra\\u003e\",\"line\":{\"color\":\"green\",\"width\":3},\"marker\":{\"color\":\"green\",\"size\":4},\"mode\":\"lines+markers\",\"name\":\"Trade 37\",\"visible\":true,\"x\":[\"2025-04-03T15:26:00\",\"2025-04-03T15:27:00\",\"2025-04-03T15:28:00\",\"2025-04-03T15:29:00\",\"2025-04-03T15:30:00\",\"2025-04-03T15:31:00\",\"2025-04-03T15:32:00\",\"2025-04-03T15:33:00\",\"2025-04-03T15:34:00\",\"2025-04-03T15:35:00\",\"2025-04-03T15:36:00\",\"2025-04-03T15:37:00\",\"2025-04-03T15:38:00\",\"2025-04-03T15:39:00\",\"2025-04-03T15:40:00\",\"2025-04-03T15:41:00\"],\"y\":[128.29,128.25,128.46,128.4727,128.72,128.5002,128.6,128.6,128.65,128.5775,128.84,128.97,128.84,128.74,128.6639,128.81],\"type\":\"scatter\"},{\"hoveron\":\"points\",\"hovertemplate\":\"Trade 38: Return: 0.46%\\u003cextra\\u003e\\u003c\\u002fextra\\u003e\",\"line\":{\"color\":\"green\",\"width\":3},\"marker\":{\"color\":\"green\",\"size\":4},\"mode\":\"lines+markers\",\"name\":\"Trade 38\",\"visible\":true,\"x\":[\"2025-04-03T15:27:00\",\"2025-04-03T15:28:00\",\"2025-04-03T15:29:00\",\"2025-04-03T15:30:00\",\"2025-04-03T15:31:00\",\"2025-04-03T15:32:00\",\"2025-04-03T15:33:00\",\"2025-04-03T15:34:00\",\"2025-04-03T15:35:00\",\"2025-04-03T15:36:00\",\"2025-04-03T15:37:00\",\"2025-04-03T15:38:00\",\"2025-04-03T15:39:00\",\"2025-04-03T15:40:00\",\"2025-04-03T15:41:00\",\"2025-04-03T15:42:00\"],\"y\":[128.25,128.46,128.4727,128.72,128.5002,128.6,128.6,128.65,128.5775,128.84,128.97,128.84,128.74,128.6639,128.81,128.84],\"type\":\"scatter\"},{\"hoveron\":\"points\",\"hovertemplate\":\"Trade 39: Return: 0.37%\\u003cextra\\u003e\\u003c\\u002fextra\\u003e\",\"line\":{\"color\":\"green\",\"width\":3},\"marker\":{\"color\":\"green\",\"size\":4},\"mode\":\"lines+markers\",\"name\":\"Trade 39\",\"visible\":true,\"x\":[\"2025-04-03T15:28:00\",\"2025-04-03T15:29:00\",\"2025-04-03T15:30:00\",\"2025-04-03T15:31:00\",\"2025-04-03T15:32:00\",\"2025-04-03T15:33:00\",\"2025-04-03T15:34:00\",\"2025-04-03T15:35:00\",\"2025-04-03T15:36:00\",\"2025-04-03T15:37:00\",\"2025-04-03T15:38:00\",\"2025-04-03T15:39:00\",\"2025-04-03T15:40:00\",\"2025-04-03T15:41:00\",\"2025-04-03T15:42:00\",\"2025-04-03T15:43:00\"],\"y\":[128.46,128.4727,128.72,128.5002,128.6,128.6,128.65,128.5775,128.84,128.97,128.84,128.74,128.6639,128.81,128.84,128.935],\"type\":\"scatter\"},{\"hoveron\":\"points\",\"hovertemplate\":\"Trade 40: Return: 0.42%\\u003cextra\\u003e\\u003c\\u002fextra\\u003e\",\"line\":{\"color\":\"green\",\"width\":3},\"marker\":{\"color\":\"green\",\"size\":4},\"mode\":\"lines+markers\",\"name\":\"Trade 40\",\"visible\":true,\"x\":[\"2025-04-03T15:29:00\",\"2025-04-03T15:30:00\",\"2025-04-03T15:31:00\",\"2025-04-03T15:32:00\",\"2025-04-03T15:33:00\",\"2025-04-03T15:34:00\",\"2025-04-03T15:35:00\",\"2025-04-03T15:36:00\",\"2025-04-03T15:37:00\",\"2025-04-03T15:38:00\",\"2025-04-03T15:39:00\",\"2025-04-03T15:40:00\",\"2025-04-03T15:41:00\",\"2025-04-03T15:42:00\",\"2025-04-03T15:43:00\",\"2025-04-03T15:44:00\"],\"y\":[128.4727,128.72,128.5002,128.6,128.6,128.65,128.5775,128.84,128.97,128.84,128.74,128.6639,128.81,128.84,128.935,129.01],\"type\":\"scatter\"},{\"hoveron\":\"points\",\"hovertemplate\":\"Trade 41: Return: 0.34%\\u003cextra\\u003e\\u003c\\u002fextra\\u003e\",\"line\":{\"color\":\"green\",\"width\":3},\"marker\":{\"color\":\"green\",\"size\":4},\"mode\":\"lines+markers\",\"name\":\"Trade 41\",\"visible\":true,\"x\":[\"2025-04-03T15:31:00\",\"2025-04-03T15:32:00\",\"2025-04-03T15:33:00\",\"2025-04-03T15:34:00\",\"2025-04-03T15:35:00\",\"2025-04-03T15:36:00\",\"2025-04-03T15:37:00\",\"2025-04-03T15:38:00\",\"2025-04-03T15:39:00\",\"2025-04-03T15:40:00\",\"2025-04-03T15:41:00\",\"2025-04-03T15:42:00\",\"2025-04-03T15:43:00\",\"2025-04-03T15:44:00\",\"2025-04-03T15:45:00\",\"2025-04-03T15:46:00\"],\"y\":[128.5002,128.6,128.6,128.65,128.5775,128.84,128.97,128.84,128.74,128.6639,128.81,128.84,128.935,129.01,128.905,128.9375],\"type\":\"scatter\"},{\"hoveron\":\"points\",\"hovertemplate\":\"Trade 42: Return: 0.42%\\u003cextra\\u003e\\u003c\\u002fextra\\u003e\",\"line\":{\"color\":\"green\",\"width\":3},\"marker\":{\"color\":\"green\",\"size\":4},\"mode\":\"lines+markers\",\"name\":\"Trade 42\",\"visible\":true,\"x\":[\"2025-04-03T15:47:00\",\"2025-04-03T15:48:00\",\"2025-04-03T15:49:00\",\"2025-04-03T15:50:00\",\"2025-04-03T15:51:00\",\"2025-04-03T15:52:00\",\"2025-04-03T15:53:00\",\"2025-04-03T15:54:00\",\"2025-04-03T15:55:00\",\"2025-04-03T15:56:00\",\"2025-04-03T15:57:00\",\"2025-04-03T15:58:00\",\"2025-04-03T15:59:00\",\"2025-04-03T16:00:00\",\"2025-04-03T16:01:00\",\"2025-04-03T16:02:00\"],\"y\":[128.845,129.01,128.8586,128.795,128.72,128.84,128.7,128.86,128.875,128.92,129.0,129.1115,129.0253,129.19,129.32,129.3805],\"type\":\"scatter\"},{\"hoveron\":\"points\",\"hovertemplate\":\"Trade 43: Return: 0.37%\\u003cextra\\u003e\\u003c\\u002fextra\\u003e\",\"line\":{\"color\":\"green\",\"width\":3},\"marker\":{\"color\":\"green\",\"size\":4},\"mode\":\"lines+markers\",\"name\":\"Trade 43\",\"visible\":true,\"x\":[\"2025-04-03T15:49:00\",\"2025-04-03T15:50:00\",\"2025-04-03T15:51:00\",\"2025-04-03T15:52:00\",\"2025-04-03T15:53:00\",\"2025-04-03T15:54:00\",\"2025-04-03T15:55:00\",\"2025-04-03T15:56:00\",\"2025-04-03T15:57:00\",\"2025-04-03T15:58:00\",\"2025-04-03T15:59:00\",\"2025-04-03T16:00:00\",\"2025-04-03T16:01:00\",\"2025-04-03T16:02:00\",\"2025-04-03T16:03:00\",\"2025-04-03T16:04:00\"],\"y\":[128.8586,128.795,128.72,128.84,128.7,128.86,128.875,128.92,129.0,129.1115,129.0253,129.19,129.32,129.3805,129.36,129.33],\"type\":\"scatter\"},{\"hoveron\":\"points\",\"hovertemplate\":\"Trade 44: Return: 0.49%\\u003cextra\\u003e\\u003c\\u002fextra\\u003e\",\"line\":{\"color\":\"green\",\"width\":3},\"marker\":{\"color\":\"green\",\"size\":4},\"mode\":\"lines+markers\",\"name\":\"Trade 44\",\"visible\":true,\"x\":[\"2025-04-03T15:50:00\",\"2025-04-03T15:51:00\",\"2025-04-03T15:52:00\",\"2025-04-03T15:53:00\",\"2025-04-03T15:54:00\",\"2025-04-03T15:55:00\",\"2025-04-03T15:56:00\",\"2025-04-03T15:57:00\",\"2025-04-03T15:58:00\",\"2025-04-03T15:59:00\",\"2025-04-03T16:00:00\",\"2025-04-03T16:01:00\",\"2025-04-03T16:02:00\",\"2025-04-03T16:03:00\",\"2025-04-03T16:04:00\",\"2025-04-03T16:05:00\"],\"y\":[128.795,128.72,128.84,128.7,128.86,128.875,128.92,129.0,129.1115,129.0253,129.19,129.32,129.3805,129.36,129.33,129.43],\"type\":\"scatter\"},{\"hoveron\":\"points\",\"hovertemplate\":\"Trade 45: Return: 0.42%\\u003cextra\\u003e\\u003c\\u002fextra\\u003e\",\"line\":{\"color\":\"green\",\"width\":3},\"marker\":{\"color\":\"green\",\"size\":4},\"mode\":\"lines+markers\",\"name\":\"Trade 45\",\"visible\":true,\"x\":[\"2025-04-03T15:51:00\",\"2025-04-03T15:52:00\",\"2025-04-03T15:53:00\",\"2025-04-03T15:54:00\",\"2025-04-03T15:55:00\",\"2025-04-03T15:56:00\",\"2025-04-03T15:57:00\",\"2025-04-03T15:58:00\",\"2025-04-03T15:59:00\",\"2025-04-03T16:00:00\",\"2025-04-03T16:01:00\",\"2025-04-03T16:02:00\",\"2025-04-03T16:03:00\",\"2025-04-03T16:04:00\",\"2025-04-03T16:05:00\",\"2025-04-03T16:06:00\"],\"y\":[128.72,128.84,128.7,128.86,128.875,128.92,129.0,129.1115,129.0253,129.19,129.32,129.3805,129.36,129.33,129.43,129.26],\"type\":\"scatter\"},{\"hoveron\":\"points\",\"hovertemplate\":\"Trade 46: Return: 0.39%\\u003cextra\\u003e\\u003c\\u002fextra\\u003e\",\"line\":{\"color\":\"green\",\"width\":3},\"marker\":{\"color\":\"green\",\"size\":4},\"mode\":\"lines+markers\",\"name\":\"Trade 46\",\"visible\":true,\"x\":[\"2025-04-03T15:52:00\",\"2025-04-03T15:53:00\",\"2025-04-03T15:54:00\",\"2025-04-03T15:55:00\",\"2025-04-03T15:56:00\",\"2025-04-03T15:57:00\",\"2025-04-03T15:58:00\",\"2025-04-03T15:59:00\",\"2025-04-03T16:00:00\",\"2025-04-03T16:01:00\",\"2025-04-03T16:02:00\",\"2025-04-03T16:03:00\",\"2025-04-03T16:04:00\",\"2025-04-03T16:05:00\",\"2025-04-03T16:06:00\",\"2025-04-03T16:07:00\"],\"y\":[128.84,128.7,128.86,128.875,128.92,129.0,129.1115,129.0253,129.19,129.32,129.3805,129.36,129.33,129.43,129.26,129.3455],\"type\":\"scatter\"},{\"hoveron\":\"points\",\"hovertemplate\":\"Trade 47: Return: 0.45%\\u003cextra\\u003e\\u003c\\u002fextra\\u003e\",\"line\":{\"color\":\"green\",\"width\":3},\"marker\":{\"color\":\"green\",\"size\":4},\"mode\":\"lines+markers\",\"name\":\"Trade 47\",\"visible\":true,\"x\":[\"2025-04-03T15:53:00\",\"2025-04-03T15:54:00\",\"2025-04-03T15:55:00\",\"2025-04-03T15:56:00\",\"2025-04-03T15:57:00\",\"2025-04-03T15:58:00\",\"2025-04-03T15:59:00\",\"2025-04-03T16:00:00\",\"2025-04-03T16:01:00\",\"2025-04-03T16:02:00\",\"2025-04-03T16:03:00\",\"2025-04-03T16:04:00\",\"2025-04-03T16:05:00\",\"2025-04-03T16:06:00\",\"2025-04-03T16:07:00\",\"2025-04-03T16:08:00\"],\"y\":[128.7,128.86,128.875,128.92,129.0,129.1115,129.0253,129.19,129.32,129.3805,129.36,129.33,129.43,129.26,129.3455,129.28],\"type\":\"scatter\"},{\"hoveron\":\"points\",\"hovertemplate\":\"Trade 48: Return: 0.38%\\u003cextra\\u003e\\u003c\\u002fextra\\u003e\",\"line\":{\"color\":\"green\",\"width\":3},\"marker\":{\"color\":\"green\",\"size\":4},\"mode\":\"lines+markers\",\"name\":\"Trade 48\",\"visible\":true,\"x\":[\"2025-04-03T15:59:00\",\"2025-04-03T16:00:00\",\"2025-04-03T16:01:00\",\"2025-04-03T16:02:00\",\"2025-04-03T16:03:00\",\"2025-04-03T16:04:00\",\"2025-04-03T16:05:00\",\"2025-04-03T16:06:00\",\"2025-04-03T16:07:00\",\"2025-04-03T16:08:00\",\"2025-04-03T16:09:00\",\"2025-04-03T16:10:00\",\"2025-04-03T16:11:00\",\"2025-04-03T16:12:00\",\"2025-04-03T16:13:00\",\"2025-04-03T16:14:00\"],\"y\":[129.0253,129.19,129.32,129.3805,129.36,129.33,129.43,129.26,129.3455,129.28,129.215,129.28,129.26,129.2,129.3501,129.52],\"type\":\"scatter\"},{\"hoveron\":\"points\",\"hovertemplate\":\"Trade 49: Return: 0.39%\\u003cextra\\u003e\\u003c\\u002fextra\\u003e\",\"line\":{\"color\":\"green\",\"width\":3},\"marker\":{\"color\":\"green\",\"size\":4},\"mode\":\"lines+markers\",\"name\":\"Trade 49\",\"visible\":true,\"x\":[\"2025-04-03T16:08:00\",\"2025-04-03T16:09:00\",\"2025-04-03T16:10:00\",\"2025-04-03T16:11:00\",\"2025-04-03T16:12:00\",\"2025-04-03T16:13:00\",\"2025-04-03T16:14:00\",\"2025-04-03T16:15:00\",\"2025-04-03T16:16:00\",\"2025-04-03T16:17:00\",\"2025-04-03T16:18:00\",\"2025-04-03T16:19:00\",\"2025-04-03T16:20:00\",\"2025-04-03T16:21:00\",\"2025-04-03T16:22:00\",\"2025-04-03T16:23:00\"],\"y\":[129.28,129.215,129.28,129.26,129.2,129.3501,129.52,129.45,129.55,129.4727,129.58,129.6907,129.65,129.65,129.74,129.79],\"type\":\"scatter\"},{\"hoveron\":\"points\",\"hovertemplate\":\"Trade 50: Return: 0.49%\\u003cextra\\u003e\\u003c\\u002fextra\\u003e\",\"line\":{\"color\":\"green\",\"width\":3},\"marker\":{\"color\":\"green\",\"size\":4},\"mode\":\"lines+markers\",\"name\":\"Trade 50\",\"visible\":true,\"x\":[\"2025-04-03T16:09:00\",\"2025-04-03T16:10:00\",\"2025-04-03T16:11:00\",\"2025-04-03T16:12:00\",\"2025-04-03T16:13:00\",\"2025-04-03T16:14:00\",\"2025-04-03T16:15:00\",\"2025-04-03T16:16:00\",\"2025-04-03T16:17:00\",\"2025-04-03T16:18:00\",\"2025-04-03T16:19:00\",\"2025-04-03T16:20:00\",\"2025-04-03T16:21:00\",\"2025-04-03T16:22:00\",\"2025-04-03T16:23:00\",\"2025-04-03T16:24:00\"],\"y\":[129.215,129.28,129.26,129.2,129.3501,129.52,129.45,129.55,129.4727,129.58,129.6907,129.65,129.65,129.74,129.79,129.8465],\"type\":\"scatter\"},{\"hoveron\":\"points\",\"hovertemplate\":\"Trade 51: Return: 0.38%\\u003cextra\\u003e\\u003c\\u002fextra\\u003e\",\"line\":{\"color\":\"green\",\"width\":3},\"marker\":{\"color\":\"green\",\"size\":4},\"mode\":\"lines+markers\",\"name\":\"Trade 51\",\"visible\":true,\"x\":[\"2025-04-03T16:12:00\",\"2025-04-03T16:13:00\",\"2025-04-03T16:14:00\",\"2025-04-03T16:15:00\",\"2025-04-03T16:16:00\",\"2025-04-03T16:17:00\",\"2025-04-03T16:18:00\",\"2025-04-03T16:19:00\",\"2025-04-03T16:20:00\",\"2025-04-03T16:21:00\",\"2025-04-03T16:22:00\",\"2025-04-03T16:23:00\",\"2025-04-03T16:24:00\",\"2025-04-03T16:25:00\",\"2025-04-03T16:26:00\",\"2025-04-03T16:27:00\"],\"y\":[129.2,129.3501,129.52,129.45,129.55,129.4727,129.58,129.6907,129.65,129.65,129.74,129.79,129.8465,129.65,129.51,129.69],\"type\":\"scatter\"},{\"hoveron\":\"points\",\"hovertemplate\":\"Trade 52: Return: 0.40%\\u003cextra\\u003e\\u003c\\u002fextra\\u003e\",\"line\":{\"color\":\"green\",\"width\":3},\"marker\":{\"color\":\"green\",\"size\":4},\"mode\":\"lines+markers\",\"name\":\"Trade 52\",\"visible\":true,\"x\":[\"2025-04-03T17:25:00\",\"2025-04-03T17:26:00\",\"2025-04-03T17:27:00\",\"2025-04-03T17:28:00\",\"2025-04-03T17:29:00\",\"2025-04-03T17:30:00\",\"2025-04-03T17:31:00\",\"2025-04-03T17:32:00\",\"2025-04-03T17:33:00\",\"2025-04-03T17:34:00\",\"2025-04-03T17:35:00\",\"2025-04-03T17:36:00\",\"2025-04-03T17:37:00\",\"2025-04-03T17:38:00\",\"2025-04-03T17:39:00\",\"2025-04-03T17:40:00\"],\"y\":[129.27,129.185,129.29,129.12,129.09,129.12,129.27,129.28,129.2203,129.42,129.49,129.5201,129.65,129.685,129.69,129.79],\"type\":\"scatter\"},{\"hoveron\":\"points\",\"hovertemplate\":\"Trade 53: Return: 0.47%\\u003cextra\\u003e\\u003c\\u002fextra\\u003e\",\"line\":{\"color\":\"green\",\"width\":3},\"marker\":{\"color\":\"green\",\"size\":4},\"mode\":\"lines+markers\",\"name\":\"Trade 53\",\"visible\":true,\"x\":[\"2025-04-03T17:26:00\",\"2025-04-03T17:27:00\",\"2025-04-03T17:28:00\",\"2025-04-03T17:29:00\",\"2025-04-03T17:30:00\",\"2025-04-03T17:31:00\",\"2025-04-03T17:32:00\",\"2025-04-03T17:33:00\",\"2025-04-03T17:34:00\",\"2025-04-03T17:35:00\",\"2025-04-03T17:36:00\",\"2025-04-03T17:37:00\",\"2025-04-03T17:38:00\",\"2025-04-03T17:39:00\",\"2025-04-03T17:40:00\",\"2025-04-03T17:41:00\"],\"y\":[129.185,129.29,129.12,129.09,129.12,129.27,129.28,129.2203,129.42,129.49,129.5201,129.65,129.685,129.69,129.79,129.79],\"type\":\"scatter\"},{\"hoveron\":\"points\",\"hovertemplate\":\"Trade 54: Return: 0.39%\\u003cextra\\u003e\\u003c\\u002fextra\\u003e\",\"line\":{\"color\":\"green\",\"width\":3},\"marker\":{\"color\":\"green\",\"size\":4},\"mode\":\"lines+markers\",\"name\":\"Trade 54\",\"visible\":true,\"x\":[\"2025-04-03T17:27:00\",\"2025-04-03T17:28:00\",\"2025-04-03T17:29:00\",\"2025-04-03T17:30:00\",\"2025-04-03T17:31:00\",\"2025-04-03T17:32:00\",\"2025-04-03T17:33:00\",\"2025-04-03T17:34:00\",\"2025-04-03T17:35:00\",\"2025-04-03T17:36:00\",\"2025-04-03T17:37:00\",\"2025-04-03T17:38:00\",\"2025-04-03T17:39:00\",\"2025-04-03T17:40:00\",\"2025-04-03T17:41:00\",\"2025-04-03T17:42:00\"],\"y\":[129.29,129.12,129.09,129.12,129.27,129.28,129.2203,129.42,129.49,129.5201,129.65,129.685,129.69,129.79,129.79,129.79],\"type\":\"scatter\"},{\"hoveron\":\"points\",\"hovertemplate\":\"Trade 55: Return: 0.46%\\u003cextra\\u003e\\u003c\\u002fextra\\u003e\",\"line\":{\"color\":\"green\",\"width\":3},\"marker\":{\"color\":\"green\",\"size\":4},\"mode\":\"lines+markers\",\"name\":\"Trade 55\",\"visible\":true,\"x\":[\"2025-04-03T17:28:00\",\"2025-04-03T17:29:00\",\"2025-04-03T17:30:00\",\"2025-04-03T17:31:00\",\"2025-04-03T17:32:00\",\"2025-04-03T17:33:00\",\"2025-04-03T17:34:00\",\"2025-04-03T17:35:00\",\"2025-04-03T17:36:00\",\"2025-04-03T17:37:00\",\"2025-04-03T17:38:00\",\"2025-04-03T17:39:00\",\"2025-04-03T17:40:00\",\"2025-04-03T17:41:00\",\"2025-04-03T17:42:00\",\"2025-04-03T17:43:00\"],\"y\":[129.12,129.09,129.12,129.27,129.28,129.2203,129.42,129.49,129.5201,129.65,129.685,129.69,129.79,129.79,129.79,129.71],\"type\":\"scatter\"},{\"hoveron\":\"points\",\"hovertemplate\":\"Trade 56: Return: 0.52%\\u003cextra\\u003e\\u003c\\u002fextra\\u003e\",\"line\":{\"color\":\"green\",\"width\":3},\"marker\":{\"color\":\"green\",\"size\":4},\"mode\":\"lines+markers\",\"name\":\"Trade 56\",\"visible\":true,\"x\":[\"2025-04-03T17:29:00\",\"2025-04-03T17:30:00\",\"2025-04-03T17:31:00\",\"2025-04-03T17:32:00\",\"2025-04-03T17:33:00\",\"2025-04-03T17:34:00\",\"2025-04-03T17:35:00\",\"2025-04-03T17:36:00\",\"2025-04-03T17:37:00\",\"2025-04-03T17:38:00\",\"2025-04-03T17:39:00\",\"2025-04-03T17:40:00\",\"2025-04-03T17:41:00\",\"2025-04-03T17:42:00\",\"2025-04-03T17:43:00\",\"2025-04-03T17:44:00\"],\"y\":[129.09,129.12,129.27,129.28,129.2203,129.42,129.49,129.5201,129.65,129.685,129.69,129.79,129.79,129.79,129.71,129.755],\"type\":\"scatter\"},{\"hoveron\":\"points\",\"hovertemplate\":\"Trade 57: Return: 0.47%\\u003cextra\\u003e\\u003c\\u002fextra\\u003e\",\"line\":{\"color\":\"green\",\"width\":3},\"marker\":{\"color\":\"green\",\"size\":4},\"mode\":\"lines+markers\",\"name\":\"Trade 57\",\"visible\":true,\"x\":[\"2025-04-03T17:30:00\",\"2025-04-03T17:31:00\",\"2025-04-03T17:32:00\",\"2025-04-03T17:33:00\",\"2025-04-03T17:34:00\",\"2025-04-03T17:35:00\",\"2025-04-03T17:36:00\",\"2025-04-03T17:37:00\",\"2025-04-03T17:38:00\",\"2025-04-03T17:39:00\",\"2025-04-03T17:40:00\",\"2025-04-03T17:41:00\",\"2025-04-03T17:42:00\",\"2025-04-03T17:43:00\",\"2025-04-03T17:44:00\",\"2025-04-03T17:45:00\"],\"y\":[129.12,129.27,129.28,129.2203,129.42,129.49,129.5201,129.65,129.685,129.69,129.79,129.79,129.79,129.71,129.755,129.73],\"type\":\"scatter\"},{\"hoveron\":\"points\",\"hovertemplate\":\"Trade 58: Return: 0.34%\\u003cextra\\u003e\\u003c\\u002fextra\\u003e\",\"line\":{\"color\":\"green\",\"width\":3},\"marker\":{\"color\":\"green\",\"size\":4},\"mode\":\"lines+markers\",\"name\":\"Trade 58\",\"visible\":true,\"x\":[\"2025-04-03T17:31:00\",\"2025-04-03T17:32:00\",\"2025-04-03T17:33:00\",\"2025-04-03T17:34:00\",\"2025-04-03T17:35:00\",\"2025-04-03T17:36:00\",\"2025-04-03T17:37:00\",\"2025-04-03T17:38:00\",\"2025-04-03T17:39:00\",\"2025-04-03T17:40:00\",\"2025-04-03T17:41:00\",\"2025-04-03T17:42:00\",\"2025-04-03T17:43:00\",\"2025-04-03T17:44:00\",\"2025-04-03T17:45:00\",\"2025-04-03T17:46:00\"],\"y\":[129.27,129.28,129.2203,129.42,129.49,129.5201,129.65,129.685,129.69,129.79,129.79,129.79,129.71,129.755,129.73,129.71],\"type\":\"scatter\"},{\"hoveron\":\"points\",\"hovertemplate\":\"Trade 59: Return: 0.45%\\u003cextra\\u003e\\u003c\\u002fextra\\u003e\",\"line\":{\"color\":\"green\",\"width\":3},\"marker\":{\"color\":\"green\",\"size\":4},\"mode\":\"lines+markers\",\"name\":\"Trade 59\",\"visible\":true,\"x\":[\"2025-04-03T18:24:00\",\"2025-04-03T18:25:00\",\"2025-04-03T18:26:00\",\"2025-04-03T18:27:00\",\"2025-04-03T18:28:00\",\"2025-04-03T18:29:00\",\"2025-04-03T18:30:00\",\"2025-04-03T18:31:00\",\"2025-04-03T18:32:00\",\"2025-04-03T18:33:00\",\"2025-04-03T18:34:00\",\"2025-04-03T18:35:00\",\"2025-04-03T18:36:00\",\"2025-04-03T18:37:00\",\"2025-04-03T18:38:00\",\"2025-04-03T18:39:00\"],\"y\":[128.7077,128.9,128.815,128.6701,128.77,128.756,128.585,128.67,128.75,128.89,128.8,128.98,129.145,129.215,129.235,129.282],\"type\":\"scatter\"},{\"hoveron\":\"points\",\"hovertemplate\":\"Trade 60: Return: 0.37%\\u003cextra\\u003e\\u003c\\u002fextra\\u003e\",\"line\":{\"color\":\"green\",\"width\":3},\"marker\":{\"color\":\"green\",\"size\":4},\"mode\":\"lines+markers\",\"name\":\"Trade 60\",\"visible\":true,\"x\":[\"2025-04-03T18:25:00\",\"2025-04-03T18:26:00\",\"2025-04-03T18:27:00\",\"2025-04-03T18:28:00\",\"2025-04-03T18:29:00\",\"2025-04-03T18:30:00\",\"2025-04-03T18:31:00\",\"2025-04-03T18:32:00\",\"2025-04-03T18:33:00\",\"2025-04-03T18:34:00\",\"2025-04-03T18:35:00\",\"2025-04-03T18:36:00\",\"2025-04-03T18:37:00\",\"2025-04-03T18:38:00\",\"2025-04-03T18:39:00\",\"2025-04-03T18:40:00\"],\"y\":[128.9,128.815,128.6701,128.77,128.756,128.585,128.67,128.75,128.89,128.8,128.98,129.145,129.215,129.235,129.282,129.38],\"type\":\"scatter\"},{\"hoveron\":\"points\",\"hovertemplate\":\"Trade 61: Return: 0.46%\\u003cextra\\u003e\\u003c\\u002fextra\\u003e\",\"line\":{\"color\":\"green\",\"width\":3},\"marker\":{\"color\":\"green\",\"size\":4},\"mode\":\"lines+markers\",\"name\":\"Trade 61\",\"visible\":true,\"x\":[\"2025-04-03T18:26:00\",\"2025-04-03T18:27:00\",\"2025-04-03T18:28:00\",\"2025-04-03T18:29:00\",\"2025-04-03T18:30:00\",\"2025-04-03T18:31:00\",\"2025-04-03T18:32:00\",\"2025-04-03T18:33:00\",\"2025-04-03T18:34:00\",\"2025-04-03T18:35:00\",\"2025-04-03T18:36:00\",\"2025-04-03T18:37:00\",\"2025-04-03T18:38:00\",\"2025-04-03T18:39:00\",\"2025-04-03T18:40:00\",\"2025-04-03T18:41:00\"],\"y\":[128.815,128.6701,128.77,128.756,128.585,128.67,128.75,128.89,128.8,128.98,129.145,129.215,129.235,129.282,129.38,129.41],\"type\":\"scatter\"},{\"hoveron\":\"points\",\"hovertemplate\":\"Trade 62: Return: 0.45%\\u003cextra\\u003e\\u003c\\u002fextra\\u003e\",\"line\":{\"color\":\"green\",\"width\":3},\"marker\":{\"color\":\"green\",\"size\":4},\"mode\":\"lines+markers\",\"name\":\"Trade 62\",\"visible\":true,\"x\":[\"2025-04-03T18:27:00\",\"2025-04-03T18:28:00\",\"2025-04-03T18:29:00\",\"2025-04-03T18:30:00\",\"2025-04-03T18:31:00\",\"2025-04-03T18:32:00\",\"2025-04-03T18:33:00\",\"2025-04-03T18:34:00\",\"2025-04-03T18:35:00\",\"2025-04-03T18:36:00\",\"2025-04-03T18:37:00\",\"2025-04-03T18:38:00\",\"2025-04-03T18:39:00\",\"2025-04-03T18:40:00\",\"2025-04-03T18:41:00\",\"2025-04-03T18:42:00\"],\"y\":[128.6701,128.77,128.756,128.585,128.67,128.75,128.89,128.8,128.98,129.145,129.215,129.235,129.282,129.38,129.41,129.25],\"type\":\"scatter\"},{\"hoveron\":\"points\",\"hovertemplate\":\"Trade 63: Return: 0.42%\\u003cextra\\u003e\\u003c\\u002fextra\\u003e\",\"line\":{\"color\":\"green\",\"width\":3},\"marker\":{\"color\":\"green\",\"size\":4},\"mode\":\"lines+markers\",\"name\":\"Trade 63\",\"visible\":true,\"x\":[\"2025-04-03T18:28:00\",\"2025-04-03T18:29:00\",\"2025-04-03T18:30:00\",\"2025-04-03T18:31:00\",\"2025-04-03T18:32:00\",\"2025-04-03T18:33:00\",\"2025-04-03T18:34:00\",\"2025-04-03T18:35:00\",\"2025-04-03T18:36:00\",\"2025-04-03T18:37:00\",\"2025-04-03T18:38:00\",\"2025-04-03T18:39:00\",\"2025-04-03T18:40:00\",\"2025-04-03T18:41:00\",\"2025-04-03T18:42:00\",\"2025-04-03T18:43:00\"],\"y\":[128.77,128.756,128.585,128.67,128.75,128.89,128.8,128.98,129.145,129.215,129.235,129.282,129.38,129.41,129.25,129.31],\"type\":\"scatter\"},{\"hoveron\":\"points\",\"hovertemplate\":\"Trade 64: Return: 0.48%\\u003cextra\\u003e\\u003c\\u002fextra\\u003e\",\"line\":{\"color\":\"green\",\"width\":3},\"marker\":{\"color\":\"green\",\"size\":4},\"mode\":\"lines+markers\",\"name\":\"Trade 64\",\"visible\":true,\"x\":[\"2025-04-03T18:29:00\",\"2025-04-03T18:30:00\",\"2025-04-03T18:31:00\",\"2025-04-03T18:32:00\",\"2025-04-03T18:33:00\",\"2025-04-03T18:34:00\",\"2025-04-03T18:35:00\",\"2025-04-03T18:36:00\",\"2025-04-03T18:37:00\",\"2025-04-03T18:38:00\",\"2025-04-03T18:39:00\",\"2025-04-03T18:40:00\",\"2025-04-03T18:41:00\",\"2025-04-03T18:42:00\",\"2025-04-03T18:43:00\",\"2025-04-03T18:44:00\"],\"y\":[128.756,128.585,128.67,128.75,128.89,128.8,128.98,129.145,129.215,129.235,129.282,129.38,129.41,129.25,129.31,129.375],\"type\":\"scatter\"},{\"hoveron\":\"points\",\"hovertemplate\":\"Trade 65: Return: 0.54%\\u003cextra\\u003e\\u003c\\u002fextra\\u003e\",\"line\":{\"color\":\"green\",\"width\":3},\"marker\":{\"color\":\"green\",\"size\":4},\"mode\":\"lines+markers\",\"name\":\"Trade 65\",\"visible\":true,\"x\":[\"2025-04-03T18:30:00\",\"2025-04-03T18:31:00\",\"2025-04-03T18:32:00\",\"2025-04-03T18:33:00\",\"2025-04-03T18:34:00\",\"2025-04-03T18:35:00\",\"2025-04-03T18:36:00\",\"2025-04-03T18:37:00\",\"2025-04-03T18:38:00\",\"2025-04-03T18:39:00\",\"2025-04-03T18:40:00\",\"2025-04-03T18:41:00\",\"2025-04-03T18:42:00\",\"2025-04-03T18:43:00\",\"2025-04-03T18:44:00\",\"2025-04-03T18:45:00\"],\"y\":[128.585,128.67,128.75,128.89,128.8,128.98,129.145,129.215,129.235,129.282,129.38,129.41,129.25,129.31,129.375,129.275],\"type\":\"scatter\"},{\"hoveron\":\"points\",\"hovertemplate\":\"Trade 66: Return: 0.54%\\u003cextra\\u003e\\u003c\\u002fextra\\u003e\",\"line\":{\"color\":\"green\",\"width\":3},\"marker\":{\"color\":\"green\",\"size\":4},\"mode\":\"lines+markers\",\"name\":\"Trade 66\",\"visible\":true,\"x\":[\"2025-04-03T18:31:00\",\"2025-04-03T18:32:00\",\"2025-04-03T18:33:00\",\"2025-04-03T18:34:00\",\"2025-04-03T18:35:00\",\"2025-04-03T18:36:00\",\"2025-04-03T18:37:00\",\"2025-04-03T18:38:00\",\"2025-04-03T18:39:00\",\"2025-04-03T18:40:00\",\"2025-04-03T18:41:00\",\"2025-04-03T18:42:00\",\"2025-04-03T18:43:00\",\"2025-04-03T18:44:00\",\"2025-04-03T18:45:00\",\"2025-04-03T18:46:00\"],\"y\":[128.67,128.75,128.89,128.8,128.98,129.145,129.215,129.235,129.282,129.38,129.41,129.25,129.31,129.375,129.275,129.36],\"type\":\"scatter\"},{\"hoveron\":\"points\",\"hovertemplate\":\"Trade 67: Return: 0.47%\\u003cextra\\u003e\\u003c\\u002fextra\\u003e\",\"line\":{\"color\":\"green\",\"width\":3},\"marker\":{\"color\":\"green\",\"size\":4},\"mode\":\"lines+markers\",\"name\":\"Trade 67\",\"visible\":true,\"x\":[\"2025-04-03T18:32:00\",\"2025-04-03T18:33:00\",\"2025-04-03T18:34:00\",\"2025-04-03T18:35:00\",\"2025-04-03T18:36:00\",\"2025-04-03T18:37:00\",\"2025-04-03T18:38:00\",\"2025-04-03T18:39:00\",\"2025-04-03T18:40:00\",\"2025-04-03T18:41:00\",\"2025-04-03T18:42:00\",\"2025-04-03T18:43:00\",\"2025-04-03T18:44:00\",\"2025-04-03T18:45:00\",\"2025-04-03T18:46:00\",\"2025-04-03T18:47:00\"],\"y\":[128.75,128.89,128.8,128.98,129.145,129.215,129.235,129.282,129.38,129.41,129.25,129.31,129.375,129.275,129.36,129.3605],\"type\":\"scatter\"},{\"hoveron\":\"points\",\"hovertemplate\":\"Trade 68: Return: 0.38%\\u003cextra\\u003e\\u003c\\u002fextra\\u003e\",\"line\":{\"color\":\"green\",\"width\":3},\"marker\":{\"color\":\"green\",\"size\":4},\"mode\":\"lines+markers\",\"name\":\"Trade 68\",\"visible\":true,\"x\":[\"2025-04-03T18:33:00\",\"2025-04-03T18:34:00\",\"2025-04-03T18:35:00\",\"2025-04-03T18:36:00\",\"2025-04-03T18:37:00\",\"2025-04-03T18:38:00\",\"2025-04-03T18:39:00\",\"2025-04-03T18:40:00\",\"2025-04-03T18:41:00\",\"2025-04-03T18:42:00\",\"2025-04-03T18:43:00\",\"2025-04-03T18:44:00\",\"2025-04-03T18:45:00\",\"2025-04-03T18:46:00\",\"2025-04-03T18:47:00\",\"2025-04-03T18:48:00\"],\"y\":[128.89,128.8,128.98,129.145,129.215,129.235,129.282,129.38,129.41,129.25,129.31,129.375,129.275,129.36,129.3605,129.38],\"type\":\"scatter\"},{\"hoveron\":\"points\",\"hovertemplate\":\"Trade 69: Return: 0.36%\\u003cextra\\u003e\\u003c\\u002fextra\\u003e\",\"line\":{\"color\":\"green\",\"width\":3},\"marker\":{\"color\":\"green\",\"size\":4},\"mode\":\"lines+markers\",\"name\":\"Trade 69\",\"visible\":true,\"x\":[\"2025-04-03T18:34:00\",\"2025-04-03T18:35:00\",\"2025-04-03T18:36:00\",\"2025-04-03T18:37:00\",\"2025-04-03T18:38:00\",\"2025-04-03T18:39:00\",\"2025-04-03T18:40:00\",\"2025-04-03T18:41:00\",\"2025-04-03T18:42:00\",\"2025-04-03T18:43:00\",\"2025-04-03T18:44:00\",\"2025-04-03T18:45:00\",\"2025-04-03T18:46:00\",\"2025-04-03T18:47:00\",\"2025-04-03T18:48:00\",\"2025-04-03T18:49:00\"],\"y\":[128.8,128.98,129.145,129.215,129.235,129.282,129.38,129.41,129.25,129.31,129.375,129.275,129.36,129.3605,129.38,129.27],\"type\":\"scatter\"},{\"hoveron\":\"points\",\"hovertemplate\":\"Trade 70: Return: 0.34%\\u003cextra\\u003e\\u003c\\u002fextra\\u003e\",\"line\":{\"color\":\"green\",\"width\":3},\"marker\":{\"color\":\"green\",\"size\":4},\"mode\":\"lines+markers\",\"name\":\"Trade 70\",\"visible\":true,\"x\":[\"2025-04-03T18:55:00\",\"2025-04-03T18:56:00\",\"2025-04-03T18:57:00\",\"2025-04-03T18:58:00\",\"2025-04-03T18:59:00\",\"2025-04-03T19:00:00\",\"2025-04-03T19:01:00\",\"2025-04-03T19:02:00\",\"2025-04-03T19:03:00\",\"2025-04-03T19:04:00\",\"2025-04-03T19:05:00\",\"2025-04-03T19:06:00\",\"2025-04-03T19:07:00\",\"2025-04-03T19:08:00\",\"2025-04-03T19:09:00\",\"2025-04-03T19:10:00\"],\"y\":[128.99,129.095,129.055,129.04,129.115,129.19,129.18,129.22,129.31,129.445,129.51,129.555,129.575,129.56,129.455,129.43],\"type\":\"scatter\"},{\"hoveron\":\"points\",\"hovertemplate\":\"Trade 71: Return: 0.36%\\u003cextra\\u003e\\u003c\\u002fextra\\u003e\",\"line\":{\"color\":\"green\",\"width\":3},\"marker\":{\"color\":\"green\",\"size\":4},\"mode\":\"lines+markers\",\"name\":\"Trade 71\",\"visible\":true,\"x\":[\"2025-04-03T19:36:00\",\"2025-04-03T19:37:00\",\"2025-04-03T19:38:00\",\"2025-04-03T19:39:00\",\"2025-04-03T19:40:00\",\"2025-04-03T19:41:00\",\"2025-04-03T19:42:00\",\"2025-04-03T19:43:00\",\"2025-04-03T19:44:00\",\"2025-04-03T19:45:00\",\"2025-04-03T19:46:00\",\"2025-04-03T19:47:00\",\"2025-04-03T19:48:00\",\"2025-04-03T19:49:00\",\"2025-04-03T19:50:00\",\"2025-04-03T19:51:00\"],\"y\":[128.63,128.66,128.67,128.74,128.86,128.91,128.975,129.15,129.15,128.97,128.89,128.915,129.025,128.98,129.1,129.1],\"type\":\"scatter\"},{\"hoveron\":\"points\",\"hovertemplate\":\"Trade 72: Return: 0.41%\\u003cextra\\u003e\\u003c\\u002fextra\\u003e\",\"line\":{\"color\":\"green\",\"width\":3},\"marker\":{\"color\":\"green\",\"size\":4},\"mode\":\"lines+markers\",\"name\":\"Trade 72\",\"visible\":true,\"x\":[\"2025-04-03T19:37:00\",\"2025-04-03T19:38:00\",\"2025-04-03T19:39:00\",\"2025-04-03T19:40:00\",\"2025-04-03T19:41:00\",\"2025-04-03T19:42:00\",\"2025-04-03T19:43:00\",\"2025-04-03T19:44:00\",\"2025-04-03T19:45:00\",\"2025-04-03T19:46:00\",\"2025-04-03T19:47:00\",\"2025-04-03T19:48:00\",\"2025-04-03T19:49:00\",\"2025-04-03T19:50:00\",\"2025-04-03T19:51:00\",\"2025-04-03T19:52:00\"],\"y\":[128.66,128.67,128.74,128.86,128.91,128.975,129.15,129.15,128.97,128.89,128.915,129.025,128.98,129.1,129.1,129.1898],\"type\":\"scatter\"},{\"hoveron\":\"points\",\"hovertemplate\":\"Trade 73: Return: 0.40%\\u003cextra\\u003e\\u003c\\u002fextra\\u003e\",\"line\":{\"color\":\"green\",\"width\":3},\"marker\":{\"color\":\"green\",\"size\":4},\"mode\":\"lines+markers\",\"name\":\"Trade 73\",\"visible\":true,\"x\":[\"2025-04-03T19:39:00\",\"2025-04-03T19:40:00\",\"2025-04-03T19:41:00\",\"2025-04-03T19:42:00\",\"2025-04-03T19:43:00\",\"2025-04-03T19:44:00\",\"2025-04-03T19:45:00\",\"2025-04-03T19:46:00\",\"2025-04-03T19:47:00\",\"2025-04-03T19:48:00\",\"2025-04-03T19:49:00\",\"2025-04-03T19:50:00\",\"2025-04-03T19:51:00\",\"2025-04-03T19:52:00\",\"2025-04-03T19:53:00\",\"2025-04-03T19:54:00\"],\"y\":[128.74,128.86,128.91,128.975,129.15,129.15,128.97,128.89,128.915,129.025,128.98,129.1,129.1,129.1898,129.1,129.255],\"type\":\"scatter\"}],                        {\"template\":{\"data\":{\"barpolar\":[{\"marker\":{\"line\":{\"color\":\"white\",\"width\":0.5},\"pattern\":{\"fillmode\":\"overlay\",\"size\":10,\"solidity\":0.2}},\"type\":\"barpolar\"}],\"bar\":[{\"error_x\":{\"color\":\"#2a3f5f\"},\"error_y\":{\"color\":\"#2a3f5f\"},\"marker\":{\"line\":{\"color\":\"white\",\"width\":0.5},\"pattern\":{\"fillmode\":\"overlay\",\"size\":10,\"solidity\":0.2}},\"type\":\"bar\"}],\"carpet\":[{\"aaxis\":{\"endlinecolor\":\"#2a3f5f\",\"gridcolor\":\"#C8D4E3\",\"linecolor\":\"#C8D4E3\",\"minorgridcolor\":\"#C8D4E3\",\"startlinecolor\":\"#2a3f5f\"},\"baxis\":{\"endlinecolor\":\"#2a3f5f\",\"gridcolor\":\"#C8D4E3\",\"linecolor\":\"#C8D4E3\",\"minorgridcolor\":\"#C8D4E3\",\"startlinecolor\":\"#2a3f5f\"},\"type\":\"carpet\"}],\"choropleth\":[{\"colorbar\":{\"outlinewidth\":0,\"ticks\":\"\"},\"type\":\"choropleth\"}],\"contourcarpet\":[{\"colorbar\":{\"outlinewidth\":0,\"ticks\":\"\"},\"type\":\"contourcarpet\"}],\"contour\":[{\"colorbar\":{\"outlinewidth\":0,\"ticks\":\"\"},\"colorscale\":[[0.0,\"#0d0887\"],[0.1111111111111111,\"#46039f\"],[0.2222222222222222,\"#7201a8\"],[0.3333333333333333,\"#9c179e\"],[0.4444444444444444,\"#bd3786\"],[0.5555555555555556,\"#d8576b\"],[0.6666666666666666,\"#ed7953\"],[0.7777777777777778,\"#fb9f3a\"],[0.8888888888888888,\"#fdca26\"],[1.0,\"#f0f921\"]],\"type\":\"contour\"}],\"heatmapgl\":[{\"colorbar\":{\"outlinewidth\":0,\"ticks\":\"\"},\"colorscale\":[[0.0,\"#0d0887\"],[0.1111111111111111,\"#46039f\"],[0.2222222222222222,\"#7201a8\"],[0.3333333333333333,\"#9c179e\"],[0.4444444444444444,\"#bd3786\"],[0.5555555555555556,\"#d8576b\"],[0.6666666666666666,\"#ed7953\"],[0.7777777777777778,\"#fb9f3a\"],[0.8888888888888888,\"#fdca26\"],[1.0,\"#f0f921\"]],\"type\":\"heatmapgl\"}],\"heatmap\":[{\"colorbar\":{\"outlinewidth\":0,\"ticks\":\"\"},\"colorscale\":[[0.0,\"#0d0887\"],[0.1111111111111111,\"#46039f\"],[0.2222222222222222,\"#7201a8\"],[0.3333333333333333,\"#9c179e\"],[0.4444444444444444,\"#bd3786\"],[0.5555555555555556,\"#d8576b\"],[0.6666666666666666,\"#ed7953\"],[0.7777777777777778,\"#fb9f3a\"],[0.8888888888888888,\"#fdca26\"],[1.0,\"#f0f921\"]],\"type\":\"heatmap\"}],\"histogram2dcontour\":[{\"colorbar\":{\"outlinewidth\":0,\"ticks\":\"\"},\"colorscale\":[[0.0,\"#0d0887\"],[0.1111111111111111,\"#46039f\"],[0.2222222222222222,\"#7201a8\"],[0.3333333333333333,\"#9c179e\"],[0.4444444444444444,\"#bd3786\"],[0.5555555555555556,\"#d8576b\"],[0.6666666666666666,\"#ed7953\"],[0.7777777777777778,\"#fb9f3a\"],[0.8888888888888888,\"#fdca26\"],[1.0,\"#f0f921\"]],\"type\":\"histogram2dcontour\"}],\"histogram2d\":[{\"colorbar\":{\"outlinewidth\":0,\"ticks\":\"\"},\"colorscale\":[[0.0,\"#0d0887\"],[0.1111111111111111,\"#46039f\"],[0.2222222222222222,\"#7201a8\"],[0.3333333333333333,\"#9c179e\"],[0.4444444444444444,\"#bd3786\"],[0.5555555555555556,\"#d8576b\"],[0.6666666666666666,\"#ed7953\"],[0.7777777777777778,\"#fb9f3a\"],[0.8888888888888888,\"#fdca26\"],[1.0,\"#f0f921\"]],\"type\":\"histogram2d\"}],\"histogram\":[{\"marker\":{\"pattern\":{\"fillmode\":\"overlay\",\"size\":10,\"solidity\":0.2}},\"type\":\"histogram\"}],\"mesh3d\":[{\"colorbar\":{\"outlinewidth\":0,\"ticks\":\"\"},\"type\":\"mesh3d\"}],\"parcoords\":[{\"line\":{\"colorbar\":{\"outlinewidth\":0,\"ticks\":\"\"}},\"type\":\"parcoords\"}],\"pie\":[{\"automargin\":true,\"type\":\"pie\"}],\"scatter3d\":[{\"line\":{\"colorbar\":{\"outlinewidth\":0,\"ticks\":\"\"}},\"marker\":{\"colorbar\":{\"outlinewidth\":0,\"ticks\":\"\"}},\"type\":\"scatter3d\"}],\"scattercarpet\":[{\"marker\":{\"colorbar\":{\"outlinewidth\":0,\"ticks\":\"\"}},\"type\":\"scattercarpet\"}],\"scattergeo\":[{\"marker\":{\"colorbar\":{\"outlinewidth\":0,\"ticks\":\"\"}},\"type\":\"scattergeo\"}],\"scattergl\":[{\"marker\":{\"colorbar\":{\"outlinewidth\":0,\"ticks\":\"\"}},\"type\":\"scattergl\"}],\"scattermapbox\":[{\"marker\":{\"colorbar\":{\"outlinewidth\":0,\"ticks\":\"\"}},\"type\":\"scattermapbox\"}],\"scatterpolargl\":[{\"marker\":{\"colorbar\":{\"outlinewidth\":0,\"ticks\":\"\"}},\"type\":\"scatterpolargl\"}],\"scatterpolar\":[{\"marker\":{\"colorbar\":{\"outlinewidth\":0,\"ticks\":\"\"}},\"type\":\"scatterpolar\"}],\"scatter\":[{\"fillpattern\":{\"fillmode\":\"overlay\",\"size\":10,\"solidity\":0.2},\"type\":\"scatter\"}],\"scatterternary\":[{\"marker\":{\"colorbar\":{\"outlinewidth\":0,\"ticks\":\"\"}},\"type\":\"scatterternary\"}],\"surface\":[{\"colorbar\":{\"outlinewidth\":0,\"ticks\":\"\"},\"colorscale\":[[0.0,\"#0d0887\"],[0.1111111111111111,\"#46039f\"],[0.2222222222222222,\"#7201a8\"],[0.3333333333333333,\"#9c179e\"],[0.4444444444444444,\"#bd3786\"],[0.5555555555555556,\"#d8576b\"],[0.6666666666666666,\"#ed7953\"],[0.7777777777777778,\"#fb9f3a\"],[0.8888888888888888,\"#fdca26\"],[1.0,\"#f0f921\"]],\"type\":\"surface\"}],\"table\":[{\"cells\":{\"fill\":{\"color\":\"#EBF0F8\"},\"line\":{\"color\":\"white\"}},\"header\":{\"fill\":{\"color\":\"#C8D4E3\"},\"line\":{\"color\":\"white\"}},\"type\":\"table\"}]},\"layout\":{\"annotationdefaults\":{\"arrowcolor\":\"#2a3f5f\",\"arrowhead\":0,\"arrowwidth\":1},\"autotypenumbers\":\"strict\",\"coloraxis\":{\"colorbar\":{\"outlinewidth\":0,\"ticks\":\"\"}},\"colorscale\":{\"diverging\":[[0,\"#8e0152\"],[0.1,\"#c51b7d\"],[0.2,\"#de77ae\"],[0.3,\"#f1b6da\"],[0.4,\"#fde0ef\"],[0.5,\"#f7f7f7\"],[0.6,\"#e6f5d0\"],[0.7,\"#b8e186\"],[0.8,\"#7fbc41\"],[0.9,\"#4d9221\"],[1,\"#276419\"]],\"sequential\":[[0.0,\"#0d0887\"],[0.1111111111111111,\"#46039f\"],[0.2222222222222222,\"#7201a8\"],[0.3333333333333333,\"#9c179e\"],[0.4444444444444444,\"#bd3786\"],[0.5555555555555556,\"#d8576b\"],[0.6666666666666666,\"#ed7953\"],[0.7777777777777778,\"#fb9f3a\"],[0.8888888888888888,\"#fdca26\"],[1.0,\"#f0f921\"]],\"sequentialminus\":[[0.0,\"#0d0887\"],[0.1111111111111111,\"#46039f\"],[0.2222222222222222,\"#7201a8\"],[0.3333333333333333,\"#9c179e\"],[0.4444444444444444,\"#bd3786\"],[0.5555555555555556,\"#d8576b\"],[0.6666666666666666,\"#ed7953\"],[0.7777777777777778,\"#fb9f3a\"],[0.8888888888888888,\"#fdca26\"],[1.0,\"#f0f921\"]]},\"colorway\":[\"#636efa\",\"#EF553B\",\"#00cc96\",\"#ab63fa\",\"#FFA15A\",\"#19d3f3\",\"#FF6692\",\"#B6E880\",\"#FF97FF\",\"#FECB52\"],\"font\":{\"color\":\"#2a3f5f\"},\"geo\":{\"bgcolor\":\"white\",\"lakecolor\":\"white\",\"landcolor\":\"white\",\"showlakes\":true,\"showland\":true,\"subunitcolor\":\"#C8D4E3\"},\"hoverlabel\":{\"align\":\"left\"},\"hovermode\":\"closest\",\"mapbox\":{\"style\":\"light\"},\"paper_bgcolor\":\"white\",\"plot_bgcolor\":\"white\",\"polar\":{\"angularaxis\":{\"gridcolor\":\"#EBF0F8\",\"linecolor\":\"#EBF0F8\",\"ticks\":\"\"},\"bgcolor\":\"white\",\"radialaxis\":{\"gridcolor\":\"#EBF0F8\",\"linecolor\":\"#EBF0F8\",\"ticks\":\"\"}},\"scene\":{\"xaxis\":{\"backgroundcolor\":\"white\",\"gridcolor\":\"#DFE8F3\",\"gridwidth\":2,\"linecolor\":\"#EBF0F8\",\"showbackground\":true,\"ticks\":\"\",\"zerolinecolor\":\"#EBF0F8\"},\"yaxis\":{\"backgroundcolor\":\"white\",\"gridcolor\":\"#DFE8F3\",\"gridwidth\":2,\"linecolor\":\"#EBF0F8\",\"showbackground\":true,\"ticks\":\"\",\"zerolinecolor\":\"#EBF0F8\"},\"zaxis\":{\"backgroundcolor\":\"white\",\"gridcolor\":\"#DFE8F3\",\"gridwidth\":2,\"linecolor\":\"#EBF0F8\",\"showbackground\":true,\"ticks\":\"\",\"zerolinecolor\":\"#EBF0F8\"}},\"shapedefaults\":{\"line\":{\"color\":\"#2a3f5f\"}},\"ternary\":{\"aaxis\":{\"gridcolor\":\"#DFE8F3\",\"linecolor\":\"#A2B1C6\",\"ticks\":\"\"},\"baxis\":{\"gridcolor\":\"#DFE8F3\",\"linecolor\":\"#A2B1C6\",\"ticks\":\"\"},\"bgcolor\":\"white\",\"caxis\":{\"gridcolor\":\"#DFE8F3\",\"linecolor\":\"#A2B1C6\",\"ticks\":\"\"}},\"title\":{\"x\":0.05},\"xaxis\":{\"automargin\":true,\"gridcolor\":\"#EBF0F8\",\"linecolor\":\"#EBF0F8\",\"ticks\":\"\",\"title\":{\"standoff\":15},\"zerolinecolor\":\"#EBF0F8\",\"zerolinewidth\":2},\"yaxis\":{\"automargin\":true,\"gridcolor\":\"#EBF0F8\",\"linecolor\":\"#EBF0F8\",\"ticks\":\"\",\"title\":{\"standoff\":15},\"zerolinecolor\":\"#EBF0F8\",\"zerolinewidth\":2}}},\"updatemenus\":[{\"buttons\":[{\"args\":[{\"visible\":[true,\"legendonly\",\"legendonly\",\"legendonly\",\"legendonly\",\"legendonly\",\"legendonly\",\"legendonly\",\"legendonly\",\"legendonly\",\"legendonly\",\"legendonly\",\"legendonly\",\"legendonly\",\"legendonly\",\"legendonly\",\"legendonly\",\"legendonly\",\"legendonly\",\"legendonly\",\"legendonly\",\"legendonly\",\"legendonly\",\"legendonly\",\"legendonly\",\"legendonly\",\"legendonly\",\"legendonly\",\"legendonly\",\"legendonly\",\"legendonly\",\"legendonly\",\"legendonly\",\"legendonly\",\"legendonly\",\"legendonly\",\"legendonly\",\"legendonly\",\"legendonly\",\"legendonly\",\"legendonly\",\"legendonly\",\"legendonly\",\"legendonly\",\"legendonly\",\"legendonly\",\"legendonly\",\"legendonly\",\"legendonly\",\"legendonly\",\"legendonly\",\"legendonly\",\"legendonly\",\"legendonly\",\"legendonly\",\"legendonly\",\"legendonly\",\"legendonly\",\"legendonly\",\"legendonly\",\"legendonly\",\"legendonly\",\"legendonly\",\"legendonly\",\"legendonly\",\"legendonly\",\"legendonly\",\"legendonly\",\"legendonly\",\"legendonly\",\"legendonly\",\"legendonly\",\"legendonly\",\"legendonly\"]}],\"label\":\"Hide Trades\",\"method\":\"update\"},{\"args\":[{\"visible\":[true,true,true,true,true,true,true,true,true,true,true,true,true,true,true,true,true,true,true,true,true,true,true,true,true,true,true,true,true,true,true,true,true,true,true,true,true,true,true,true,true,true,true,true,true,true,true,true,true,true,true,true,true,true,true,true,true,true,true,true,true,true,true,true,true,true,true,true,true,true,true,true,true,true]}],\"label\":\"Show Trades\",\"method\":\"update\"}],\"direction\":\"left\",\"pad\":{\"r\":10,\"t\":10},\"showactive\":true,\"type\":\"buttons\",\"x\":0.9,\"xanchor\":\"left\",\"y\":1.1,\"yanchor\":\"top\"}],\"hovermode\":\"x unified\",\"title\":{\"text\":\"Close Price with Trade Intervals\"},\"xaxis\":{\"title\":{\"text\":\"Datetime\"}},\"yaxis\":{\"title\":{\"text\":\"Close Price\"}},\"height\":700},                        {\"responsive\": true}                    ).then(function(){\n",
       "                            \n",
       "var gd = document.getElementById('eec8ef1c-9635-474a-b85d-db422e9ac547');\n",
       "var x = new MutationObserver(function (mutations, observer) {{\n",
       "        var display = window.getComputedStyle(gd).display;\n",
       "        if (!display || display === 'none') {{\n",
       "            console.log([gd, 'removed!']);\n",
       "            Plotly.purge(gd);\n",
       "            observer.disconnect();\n",
       "        }}\n",
       "}});\n",
       "\n",
       "// Listen for the removal of the full notebook cells\n",
       "var notebookContainer = gd.closest('#notebook-container');\n",
       "if (notebookContainer) {{\n",
       "    x.observe(notebookContainer, {childList: true});\n",
       "}}\n",
       "\n",
       "// Listen for the clearing of the current output cell\n",
       "var outputEl = gd.closest('.output');\n",
       "if (outputEl) {{\n",
       "    x.observe(outputEl, {childList: true});\n",
       "}}\n",
       "\n",
       "                        })                };                });            </script>        </div>"
      ]
     },
     "metadata": {},
     "output_type": "display_data"
    }
   ],
   "source": [
    "plot_trades(df_test, final_trades)"
   ]
  },
  {
   "cell_type": "code",
   "execution_count": null,
   "id": "61c61af3-65ce-4645-897b-fee75ff81f8e",
   "metadata": {},
   "outputs": [],
   "source": []
  },
  {
   "cell_type": "code",
   "execution_count": null,
   "id": "b135e2db-88bd-41b4-b313-53969c1e8dcf",
   "metadata": {},
   "outputs": [],
   "source": []
  },
  {
   "cell_type": "code",
   "execution_count": null,
   "id": "05989e1a-6afb-47f9-9f9e-2d60e9ebc92e",
   "metadata": {},
   "outputs": [],
   "source": []
  }
 ],
 "metadata": {
  "kernelspec": {
   "display_name": "Python 3 (ipykernel)",
   "language": "python",
   "name": "python3"
  },
  "language_info": {
   "codemirror_mode": {
    "name": "ipython",
    "version": 3
   },
   "file_extension": ".py",
   "mimetype": "text/x-python",
   "name": "python",
   "nbconvert_exporter": "python",
   "pygments_lexer": "ipython3",
   "version": "3.10.10"
  }
 },
 "nbformat": 4,
 "nbformat_minor": 5
}
