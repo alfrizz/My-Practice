{
 "cells": [
  {
   "cell_type": "code",
   "execution_count": 56,
   "id": "62ba8003-e034-4496-8530-eba496026f92",
   "metadata": {},
   "outputs": [],
   "source": [
    "from IBKRClient import IBKRClient\n",
    "import urllib3\n",
    "import os"
   ]
  },
  {
   "cell_type": "code",
   "execution_count": 57,
   "id": "c3815d57-1a0c-4a0a-b8d2-68f4c3280cce",
   "metadata": {},
   "outputs": [],
   "source": [
    "# Disable SSL warnings (only for testing with self-signed certificates).\n",
    "urllib3.disable_warnings(urllib3.exceptions.InsecureRequestWarning)\n",
    "\n",
    "IBKR_ID = os.getenv('IBKR_ID')"
   ]
  },
  {
   "cell_type": "code",
   "execution_count": 58,
   "id": "2c05dedb-11f2-448b-ab89-a4214b773ce4",
   "metadata": {},
   "outputs": [
    {
     "name": "stdout",
     "output_type": "stream",
     "text": [
      "Checking authentication status at: https://localhost:5000/v1/api/iserver/auth/status\n",
      "Already logged in: {\"authenticated\":true,\"competing\":false,\"connected\":true,\"message\":\"\",\"MAC\":\"5C:BA:2C:60:27:50\",\"serverInfo\":{\"serverName\":\"JifZ25118\",\"serverVersion\":\"Build 10.34.1f, Apr 9, 2025 11:51:04 AM\"},\"hardware_info\":\"1e8316fa|5C:BA:2C:60:27:50\",\"fail\":\"\"}\n"
     ]
    }
   ],
   "source": [
    "# Create an instance of the client with your configuration.\n",
    "# if 'client' not in globals():\n",
    "client = IBKRClient(account_id=IBKR_ID)"
   ]
  },
  {
   "cell_type": "code",
   "execution_count": 59,
   "id": "5915e599-285d-4236-a984-f39342f893b8",
   "metadata": {},
   "outputs": [
    {
     "name": "stdout",
     "output_type": "stream",
     "text": [
      "Contract Search URL: https://localhost:5000/v1/api/iserver/secdef/search\n",
      "Response Status Code: 200\n",
      "Contract Search Results:\n",
      "[\n",
      "  {\n",
      "    \"conid\": \"332794741\",\n",
      "    \"companyHeader\": \"NIO INC - ADR - NYSE\",\n",
      "    \"companyName\": \"NIO INC - ADR\",\n",
      "    \"symbol\": \"NIO\",\n",
      "    \"description\": \"NYSE\",\n",
      "    \"restricted\": \"CFD,IOPT,WAR\",\n",
      "    \"sections\": [\n",
      "      {\n",
      "        \"secType\": \"STK\"\n",
      "      },\n",
      "      {\n",
      "        \"secType\": \"OPT\",\n",
      "        \"months\": \"APR25;MAY25;JUN25;AUG25;SEP25;NOV25;JAN26;JUN26;JAN27\",\n",
      "        \"exchange\": \"SMART;AMEX;BATS;BOX;CBOE;CBOE2;EDGX;EMERALD;GEMINI;IBUSOPT;ISE;MEMX;MERCURY;MIAX;NASDAQBX;NASDAQOM;PEARL;PHLX;PSE;SAPPHIRE\"\n",
      "      },\n",
      "      {\n",
      "        \"secType\": \"WAR\",\n",
      "        \"months\": \"MAR25;APR25;MAY25;JUN25;SEP25;DEC25;JAN26;MAR26;JUN26;SEP26;DEC26;JAN27\",\n",
      "        \"exchange\": \"FWB;GETTEX;SBF;SWB\"\n",
      "      },\n",
      "      {\n",
      "        \"secType\": \"IOPT\"\n",
      "      },\n",
      "      {\n",
      "        \"secType\": \"CFD\",\n",
      "        \"exchange\": \"SMART\",\n",
      "        \"conid\": \"451396038\"\n",
      "      },\n",
      "      {\n",
      "        \"secType\": \"BAG\"\n",
      "      }\n",
      "    ]\n",
      "  },\n",
      "  {\n",
      "    \"conid\": \"497004053\",\n",
      "    \"companyHeader\": \"1X NIO - VALUE\",\n",
      "    \"companyName\": \"1X NIO\",\n",
      "    \"symbol\": \"NIO\",\n",
      "    \"description\": \"VALUE\",\n",
      "    \"restricted\": null,\n",
      "    \"sections\": [\n",
      "      {\n",
      "        \"secType\": \"STK\",\n",
      "        \"exchange\": \"VALUE;\"\n",
      "      }\n",
      "    ]\n",
      "  },\n",
      "  {\n",
      "    \"conid\": \"567145297\",\n",
      "    \"companyHeader\": \"NIO STRATEGIC METALS INC - VENTURE\",\n",
      "    \"companyName\": \"NIO STRATEGIC METALS INC\",\n",
      "    \"symbol\": \"NIO\",\n",
      "    \"description\": \"VENTURE\",\n",
      "    \"restricted\": null,\n",
      "    \"sections\": [\n",
      "      {\n",
      "        \"secType\": \"STK\"\n",
      "      }\n",
      "    ]\n",
      "  },\n",
      "  {\n",
      "    \"conid\": \"328452994\",\n",
      "    \"companyHeader\": \"NORDIC IRON ORE AB - SFB\",\n",
      "    \"companyName\": \"NORDIC IRON ORE AB\",\n",
      "    \"symbol\": \"NIO\",\n",
      "    \"description\": \"SFB\",\n",
      "    \"restricted\": null,\n",
      "    \"sections\": [\n",
      "      {\n",
      "        \"secType\": \"STK\"\n",
      "      }\n",
      "    ]\n",
      "  },\n",
      "  {\n",
      "    \"conid\": \"603523431\",\n",
      "    \"companyHeader\": \"NORDIC IRON ORE AB - FWB2\",\n",
      "    \"companyName\": \"NORDIC IRON ORE AB\",\n",
      "    \"symbol\": \"NIO\",\n",
      "    \"description\": \"FWB2\",\n",
      "    \"restricted\": \"STK\",\n",
      "    \"sections\": [\n",
      "      {\n",
      "        \"secType\": \"STK\"\n",
      "      }\n",
      "    ]\n",
      "  },\n",
      "  {\n",
      "    \"conid\": \"562595576\",\n",
      "    \"companyHeader\": \"NIO INC-CLASS A - SGX\",\n",
      "    \"companyName\": \"NIO INC-CLASS A\",\n",
      "    \"symbol\": \"NIO\",\n",
      "    \"description\": \"SGX\",\n",
      "    \"restricted\": \"CFD,STK\",\n",
      "    \"sections\": [\n",
      "      {\n",
      "        \"secType\": \"STK\",\n",
      "        \"exchange\": \"SGX;\"\n",
      "      },\n",
      "      {\n",
      "        \"secType\": \"CFD\",\n",
      "        \"exchange\": \"SMART\",\n",
      "        \"conid\": \"727788981\"\n",
      "      }\n",
      "    ]\n",
      "  }\n",
      "]\n",
      "First conid found: 332794741\n",
      "Ticker returned as symbol: NIO\n"
     ]
    }
   ],
   "source": [
    "# Contract search\n",
    "string_to_search = \"NIO\"\n",
    "conid, ticker = client.contract_search(string_to_search)"
   ]
  },
  {
   "cell_type": "code",
   "execution_count": 60,
   "id": "c2f7b6b4-43bb-4840-aad7-5c2e06e801e5",
   "metadata": {},
   "outputs": [
    {
     "data": {
      "text/plain": [
       "('332794741', 'NIO')"
      ]
     },
     "execution_count": 60,
     "metadata": {},
     "output_type": "execute_result"
    }
   ],
   "source": [
    "conid, ticker"
   ]
  },
  {
   "cell_type": "code",
   "execution_count": 61,
   "id": "62104e9c-213f-4396-95f8-147cc88ee665",
   "metadata": {},
   "outputs": [],
   "source": [
    "# manual\n",
    "# \n",
    "# conid = '14217'\n",
    "# ticker= 'SIE'"
   ]
  },
  {
   "cell_type": "code",
   "execution_count": 62,
   "id": "5cd75b22-d76a-48a3-a749-70709ac723a9",
   "metadata": {},
   "outputs": [
    {
     "name": "stdout",
     "output_type": "stream",
     "text": [
      "Contract Info Request URL: https://localhost:5000/v1/api/iserver/secdef/info?conid=332794741\n",
      "HTTP Response: <Response [200]>\n",
      "Contract Info:\n",
      "{\n",
      "  \"conid\": 332794741,\n",
      "  \"ticker\": \"NIO\",\n",
      "  \"secType\": \"STK\",\n",
      "  \"listingExchange\": \"NYSE\",\n",
      "  \"exchange\": \"SMART\",\n",
      "  \"companyName\": \"NIO INC - ADR\",\n",
      "  \"currency\": \"USD\",\n",
      "  \"validExchanges\": \"SMART,AMEX,NYSE,CBOE,PHLX,ISE,CHX,ARCA,NASDAQ,DRCTEDGE,BEX,BATS,EDGEA,BYX,IEX,EDGX,FOXRIVER,PEARL,NYSENAT,LTSE,MEMX,IBEOS,OVERNIGHT,TPLUS0,PSX\",\n",
      "  \"priceRendering\": null,\n",
      "  \"maturityDate\": null,\n",
      "  \"right\": \"?\",\n",
      "  \"strike\": 0.0\n",
      "}\n"
     ]
    }
   ],
   "source": [
    "# Fetch contract info for a specific contract ID.\n",
    "contract_details = client.contract_info(conid)"
   ]
  },
  {
   "cell_type": "code",
   "execution_count": 63,
   "id": "95108851-44a6-4e1d-b2d8-b9bba633129a",
   "metadata": {},
   "outputs": [
    {
     "name": "stdout",
     "output_type": "stream",
     "text": [
      "Historical Data Request URL: https://localhost:5000/v1/api/hmds/history?conid=332794741&period=1w&bar=1d&outsideRth=true&barType=midpoint\n",
      "HTTP Status Code: 404\n",
      "Error decoding historical data JSON on attempt 1: Expecting value: line 1 column 1 (char 0)\n",
      "Raw Response: <html><body><h1>Resource not found</h1></body></html>\n",
      "Retrying after a short delay...\n",
      "HTTP Status Code: 200\n",
      "Historical Data: {\n",
      "  \"startTime\": \"20250411-10:00:00\",\n",
      "  \"startTimeVal\": 1744358400000,\n",
      "  \"endTime\": \"20250418-02:00:00\",\n",
      "  \"endTimeVal\": 1744934400000,\n",
      "  \"data\": [\n",
      "    {\n",
      "      \"t\": 1744358400000,\n",
      "      \"o\": 3.33,\n",
      "      \"c\": 3.52,\n",
      "      \"h\": 3.53,\n",
      "      \"l\": 3.3\n",
      "    },\n",
      "    {\n",
      "      \"t\": 1744617600000,\n",
      "      \"o\": 3.58,\n",
      "      \"c\": 3.61,\n",
      "      \"h\": 3.71,\n",
      "      \"l\": 3.54\n",
      "    },\n",
      "    {\n",
      "      \"t\": 1744704000000,\n",
      "      \"o\": 3.59,\n",
      "      \"c\": 3.57,\n",
      "      \"h\": 3.67,\n",
      "      \"l\": 3.53\n",
      "    },\n",
      "    {\n",
      "      \"t\": 1744790400000,\n",
      "      \"o\": 3.26,\n",
      "      \"c\": 3.52,\n",
      "      \"h\": 3.57,\n",
      "      \"l\": 3.26\n",
      "    },\n",
      "    {\n",
      "      \"t\": 1744876800000,\n",
      "      \"o\": 3.54,\n",
      "      \"c\": 3.54,\n",
      "      \"h\": 3.58,\n",
      "      \"l\": 3.49\n",
      "    }\n",
      "  ],\n",
      "  \"points\": 5,\n",
      "  \"mktDataDelay\": 0\n",
      "}\n"
     ]
    }
   ],
   "source": [
    "# Retrieve historical data for one or more contracts.\n",
    "historical = client.historical_data(conid)"
   ]
  },
  {
   "cell_type": "code",
   "execution_count": 64,
   "id": "eeaf53c0-46cd-4eb3-9398-448073002ecd",
   "metadata": {},
   "outputs": [
    {
     "name": "stdout",
     "output_type": "stream",
     "text": [
      "Query Parameters: conids=332794741&fields=31,84,86,7768\n",
      "Market Snapshot Request URL: https://localhost:5000/v1/api/iserver/marketdata/snapshot?conids=332794741&fields=31,84,86,7768\n",
      "HTTP Status Code: 200\n",
      "Market Snapshot Data:\n",
      "[\n",
      "  {\n",
      "    \"6509\": \"ZB\",\n",
      "    \"conidEx\": \"332794741\",\n",
      "    \"conid\": 332794741,\n",
      "    \"_updated\": 1745185566187,\n",
      "    \"6119\": \"q0\",\n",
      "    \"7768\": \"1\",\n",
      "    \"server_id\": \"q0\",\n",
      "    \"84\": \"3.53\",\n",
      "    \"31\": \"3.54\",\n",
      "    \"86\": \"3.54\",\n",
      "    \"6508\": \"&serviceID1=20773&serviceID2=341&serviceID3=122&serviceID4=342&serviceID5=123&serviceID6=344&serviceID7=520&serviceID8=773&serviceID9=213&serviceID10=521&serviceID11=774&serviceID12=203&serviceID13=214&serviceID14=775&serviceID15=204&serviceID16=206&serviceID17=108&serviceID18=207&serviceID19=109&serviceID20=208&serviceID21=439&serviceID22=209\"\n",
      "  }\n",
      "]\n",
      "Extracted Last Price: 3.54\n"
     ]
    }
   ],
   "source": [
    "# last_price = client.market_snapshot(\"166090175,8894\")\n",
    "\n",
    "last_price = client.market_snapshot(conid)"
   ]
  },
  {
   "cell_type": "code",
   "execution_count": 65,
   "id": "2a09c9a8-b58f-4d82-8b1b-82e67b9b6d95",
   "metadata": {},
   "outputs": [
    {
     "data": {
      "text/plain": [
       "0.8475"
      ]
     },
     "execution_count": 65,
     "metadata": {},
     "output_type": "execute_result"
    }
   ],
   "source": [
    "euro_invest = 3\n",
    "\n",
    "quantity_invest = round(euro_invest / last_price, 4)\n",
    "quantity_invest"
   ]
  },
  {
   "cell_type": "code",
   "execution_count": 66,
   "id": "2f4cf0f0-1d77-4407-a77e-4454f60aae06",
   "metadata": {},
   "outputs": [
    {
     "data": {
      "text/plain": [
       "(3.47, 3.61)"
      ]
     },
     "execution_count": 66,
     "metadata": {},
     "output_type": "execute_result"
    }
   ],
   "source": [
    "price_pct = 2\n",
    "\n",
    "price_low = last_price - round((price_pct/100)*last_price,2)\n",
    "price_high = last_price + round((price_pct/100)*last_price,2)\n",
    "price_low, price_high"
   ]
  },
  {
   "cell_type": "code",
   "execution_count": 67,
   "id": "74ba2109-66dd-4c97-b1c0-f9dc24ac03a6",
   "metadata": {},
   "outputs": [],
   "source": [
    "# reply_id = client.order_request(conid=int(conid), orderType=\"MKT\", side=\"Buy\", quantity=quantity_invest, tif=\"GTC\")"
   ]
  },
  {
   "cell_type": "code",
   "execution_count": 68,
   "id": "8b795199-2cd9-49cc-8b82-9f4527810174",
   "metadata": {},
   "outputs": [],
   "source": [
    "# reply_id = client.order_reply(reply_id)"
   ]
  },
  {
   "cell_type": "code",
   "execution_count": 69,
   "id": "14895212-f3cb-4fff-8c47-89917b9bfe04",
   "metadata": {},
   "outputs": [],
   "source": [
    "# contract_strikes = client.contract_strikes(conid, month=\"AUG25\", secType=\"OPT\", exchange=\"SMART\")"
   ]
  },
  {
   "cell_type": "code",
   "execution_count": 70,
   "id": "dca7522f-74f3-4b96-9861-7d6ee7489bd0",
   "metadata": {},
   "outputs": [],
   "source": [
    "# stop order to buy at a lower price\n",
    "\n",
    "# reply_id = client.order_request(conid=int(conid), orderType=\"STP\", side=\"Buy\", quantity=quantity_invest, tif=\"GTC\", price=price_low)"
   ]
  },
  {
   "cell_type": "code",
   "execution_count": 71,
   "id": "ae2ed04a-df07-47f5-a559-77d24164b449",
   "metadata": {},
   "outputs": [
    {
     "name": "stdout",
     "output_type": "stream",
     "text": [
      "Orders Request URL: https://localhost:5000/v1/api/iserver/account/orders\n",
      "HTTP Status Code: 200\n",
      "Filtered Orders for ticker 'NIO':\n",
      "[]\n"
     ]
    }
   ],
   "source": [
    "# check the order before the submission\n",
    "\n",
    "ticker_orders = client.get_orders(ticker=ticker) "
   ]
  },
  {
   "cell_type": "code",
   "execution_count": 72,
   "id": "2b4704ca-0996-4e30-a6f6-cb9d62f26c16",
   "metadata": {},
   "outputs": [],
   "source": [
    "# modify the order, if necessary\n",
    "\n",
    "# reply_id = client.order_modify(order_id=878692657, conid=617155599, orderType='STP', price=430, side='BUY', tif='GTC', quantity=0.0007)"
   ]
  },
  {
   "cell_type": "code",
   "execution_count": 73,
   "id": "11c8002d-09ae-4fa2-bc06-87a4ba80d446",
   "metadata": {},
   "outputs": [],
   "source": [
    "#submit the order, either with or without modifications\n",
    "\n",
    "# client.order_reply(reply_id)"
   ]
  },
  {
   "cell_type": "code",
   "execution_count": 74,
   "id": "1044c8d0-b5d7-4c8c-9d20-e381f45cad93",
   "metadata": {},
   "outputs": [],
   "source": [
    "# cancel the order, if necessary\n",
    "\n",
    "# reply_id = client.order_cancel(878692695)"
   ]
  },
  {
   "cell_type": "code",
   "execution_count": 75,
   "id": "163a6ad9-f000-4fce-9075-678c56e2b5fb",
   "metadata": {},
   "outputs": [
    {
     "name": "stdout",
     "output_type": "stream",
     "text": [
      "Orders Request URL: https://localhost:5000/v1/api/iserver/account/orders\n",
      "HTTP Status Code: 200\n",
      "All Orders Data:\n",
      "[]\n"
     ]
    }
   ],
   "source": [
    "# check all orders\n",
    "\n",
    "all_orders = client.get_orders() "
   ]
  },
  {
   "cell_type": "code",
   "execution_count": 76,
   "id": "0fddca31-b22d-421f-883f-bbb6ea4ec06e",
   "metadata": {},
   "outputs": [],
   "source": [
    "# client.get_portfolio_summary()"
   ]
  },
  {
   "cell_type": "code",
   "execution_count": 77,
   "id": "a0047de9-4682-4bb0-9418-318d4ce315d0",
   "metadata": {},
   "outputs": [],
   "source": [
    "# client.get_accounts()"
   ]
  },
  {
   "cell_type": "code",
   "execution_count": 78,
   "id": "1585d757-0b3d-4183-8011-44ce8e61b5b9",
   "metadata": {},
   "outputs": [],
   "source": [
    "# portfolio_data = client.get_portfolio_accounts()"
   ]
  },
  {
   "cell_type": "code",
   "execution_count": 79,
   "id": "3a705e3b-fa44-49bb-8736-623d2633cbea",
   "metadata": {},
   "outputs": [],
   "source": [
    "# portfolio_summary = client.get_portfolio_summary()"
   ]
  },
  {
   "cell_type": "code",
   "execution_count": 80,
   "id": "71c5625d-527d-49ec-90ce-9e0336affd07",
   "metadata": {},
   "outputs": [],
   "source": [
    "# positions_data = client.get_positions()"
   ]
  },
  {
   "cell_type": "code",
   "execution_count": 81,
   "id": "b01d5518-75af-4b2d-b8af-a7c49473f9ad",
   "metadata": {},
   "outputs": [],
   "source": [
    "# # # stop loss & profit taker order\n",
    "\n",
    "# # client.order_bracket(\n",
    "# #               ticker=ticker,\n",
    "# #               conid=conid,\n",
    "# #               quantity=quantity_invest,\n",
    "# #               primary_side=\"BUY\",\n",
    "# #               primary_order_type=\"MKT\",\n",
    "# #               profit_target_price=price_high,\n",
    "# #               profit_order_type=\"LMT\",\n",
    "# #               stop_loss_price=price_low,\n",
    "# #               stop_order_type=\"STP\",\n",
    "# #               tif=\"DAY\")\n",
    "\n",
    "\n",
    "# client.order_bracket(\n",
    "#                     ticker=ticker,\n",
    "#                     conid=conid,\n",
    "#                     quantity=quantity_invest,\n",
    "#                     primary_side=\"BUY\",\n",
    "#                     primary_order_type=\"MKT\",\n",
    "#                     profit_target_price=price_high,\n",
    "#                     profit_order_type=\"LMT\",\n",
    "#                     stop_loss_price=price_low,\n",
    "#                     stop_order_type=\"STP\",\n",
    "#                     tif=\"GTC\",\n",
    "#                     listing_exchange=\"SMART\",\n",
    "#                     outside_rth=True,\n",
    "#                     referrer=\"QuickTrade\",\n",
    "#                     is_single_group=False \n",
    "#                     )"
   ]
  },
  {
   "cell_type": "code",
   "execution_count": 82,
   "id": "c59601b8-0772-423c-847f-645beaff3bd9",
   "metadata": {},
   "outputs": [],
   "source": [
    "# account_id = IBKR_ID\n",
    "\n",
    "# def order_bracket(ticker,\n",
    "#                   conid,\n",
    "#                   quantity,\n",
    "#                   primary_side=\"BUY\",\n",
    "#                   primary_order_type=\"MKT\",\n",
    "#                   profit_target_price=None,       # e.g. 157.00 for profit target\n",
    "#                   profit_order_type=\"LMT\",\n",
    "#                   stop_loss_price=None,           # e.g. 157.30 for stop loss\n",
    "#                   stop_order_type=\"STP\",\n",
    "#                   tif=\"GTC\",\n",
    "#                   listing_exchange=\"SMART\",\n",
    "#                   outside_rth=True,\n",
    "#                   referrer=\"QuickTrade\",\n",
    "#                   is_single_group=False):         # Optional flag for OCA groups\n",
    "#     \"\"\"\n",
    "#     Creates and sends a bracket order matching Interactive Brokers' documentation.\n",
    "    \n",
    "#     The payload consists of a parent (primary) order and two child orders (profit taker and stop loss),\n",
    "#     where the parent order includes a 'cOID' field and the children include a 'parentId' field.\n",
    "    \n",
    "#     Parameters:\n",
    "#       ticker (str): Ticker symbol.\n",
    "#       conid (int): The contract id of the underlying instrument.\n",
    "#       quantity (int): Number of shares/contracts.\n",
    "#       primary_side (str): \"BUY\" or \"SELL\" for the parent order.\n",
    "#       primary_order_type (str): Order type for the parent order (e.g., \"MKT\").\n",
    "#       profit_target_price (float or None): Price for the profit taker order (child).\n",
    "#       profit_order_type (str): Order type for the profit order (default \"LMT\").\n",
    "#       stop_loss_price (float or None): Price for the stop loss order (child).\n",
    "#       stop_order_type (str): Order type for stop loss (default \"STP\").\n",
    "#       tif (str): Time in force (default \"GTC\").\n",
    "#       listing_exchange (str): Listing exchange (default \"SMART\").\n",
    "#       outside_rth (bool): Whether orders are allowed outside regular trading hours.\n",
    "#       referrer (str): Referrer for the parent order.\n",
    "#       is_single_group (bool): If True, adds \"isSingleGroup\": true to every order.\n",
    "    \n",
    "#     Example payload (bracket order):\n",
    "#     {\n",
    "#       \"orders\": [\n",
    "#         {\n",
    "#           \"acctId\": \"U1234567\",\n",
    "#           \"conid\": 265598,\n",
    "#           \"cOID\": \"AAPL_BRACKET_MMDD\",\n",
    "#           \"orderType\": \"MKT\",\n",
    "#           \"listingExchange\": \"SMART\",\n",
    "#           \"outsideRTH\": true,\n",
    "#           \"side\": \"Buy\",\n",
    "#           \"referrer\": \"QuickTrade\",\n",
    "#           \"tif\": \"GTC\",\n",
    "#           \"quantity\": 50\n",
    "#         },\n",
    "#         {\n",
    "#           \"acctId\": \"U1234567\",\n",
    "#           \"conid\": 265598,\n",
    "#           \"orderType\": \"STP\",\n",
    "#           \"listingExchange\": \"SMART\",\n",
    "#           \"outsideRTH\": false,\n",
    "#           \"price\": 157.30,\n",
    "#           \"side\": \"Sell\",\n",
    "#           \"tif\": \"GTC\",\n",
    "#           \"quantity\": 50,\n",
    "#           \"parentId\": \"AAPL_BRACKET_MMDD\"\n",
    "#         },\n",
    "#         {\n",
    "#           \"acctId\": \"U1234567\",\n",
    "#           \"conid\": 265598,\n",
    "#           \"orderType\": \"LMT\",\n",
    "#           \"listingExchange\": \"SMART\",\n",
    "#           \"outsideRTH\": false,\n",
    "#           \"price\": 157.00,\n",
    "#           \"side\": \"Sell\",\n",
    "#           \"tif\": \"GTC\",\n",
    "#           \"quantity\": 50,\n",
    "#           \"parentId\": \"AAPL_BRACKET_MMDD\"\n",
    "#         }\n",
    "#       ]\n",
    "#     }\n",
    "#     \"\"\"\n",
    "#     base_url = \"https://localhost:5000/v1/api/\"\n",
    "#     endpoint = f\"iserver/account/{account_id}/orders\"\n",
    "    \n",
    "#     # Build order identifier exactly as before.\n",
    "#     c_oid_prefix = ticker.upper() + \"_BRACKET_MMDD\"\n",
    "    \n",
    "#     orders = []\n",
    "    \n",
    "#     # Parent (primary) order\n",
    "#     parent_order = {\n",
    "#         \"acctId\": account_id,\n",
    "#         \"conid\": int(conid),\n",
    "#         \"cOID\": c_oid_prefix,\n",
    "#         \"orderType\": primary_order_type,\n",
    "#         \"listingExchange\": listing_exchange,\n",
    "#         \"outsideRTH\": outside_rth,\n",
    "#         \"side\": \"Buy\" if primary_side.upper() == \"BUY\" else \"Sell\",\n",
    "#         \"referrer\": referrer,\n",
    "#         \"tif\": tif,\n",
    "#         \"quantity\": quantity\n",
    "#     }\n",
    "#     if is_single_group:\n",
    "#         parent_order[\"isSingleGroup\"] = True\n",
    "#     orders.append(parent_order)\n",
    "    \n",
    "#     # Profit taker order (child order)\n",
    "#     if profit_target_price is not None:\n",
    "#         profit_order = {\n",
    "#             \"acctId\": account_id,\n",
    "#             \"conid\": int(conid),\n",
    "#             \"orderType\": profit_order_type,\n",
    "#             \"listingExchange\": listing_exchange,\n",
    "#             # Setting outsideRTH to false for child orders per sample documentation.\n",
    "#             \"outsideRTH\": False,\n",
    "#             \"price\": profit_target_price,\n",
    "#             \"side\": \"Sell\" if primary_side.upper() == \"BUY\" else \"Buy\",\n",
    "#             \"tif\": tif,\n",
    "#             \"quantity\": quantity,\n",
    "#             \"parentId\": c_oid_prefix\n",
    "#         }\n",
    "#         if is_single_group:\n",
    "#             profit_order[\"isSingleGroup\"] = True\n",
    "#         orders.append(profit_order)\n",
    "    \n",
    "#     # Stop loss order (child order)\n",
    "#     if stop_loss_price is not None:\n",
    "#         stop_order = {\n",
    "#             \"acctId\": account_id,\n",
    "#             \"conid\": int(conid),\n",
    "#             \"orderType\": stop_order_type,\n",
    "#             \"listingExchange\": listing_exchange,\n",
    "#             \"outsideRTH\": False,\n",
    "#             \"price\": stop_loss_price,\n",
    "#             \"side\": \"Sell\" if primary_side.upper() == \"BUY\" else \"Buy\",\n",
    "#             \"tif\": tif,\n",
    "#             \"quantity\": quantity,\n",
    "#             \"parentId\": c_oid_prefix\n",
    "#         }\n",
    "#         if is_single_group:\n",
    "#             stop_order[\"isSingleGroup\"] = True\n",
    "#         orders.append(stop_order)\n",
    "    \n",
    "#     json_body = {\"orders\": orders}\n",
    "    \n",
    "#     # Debug print of the JSON payload\n",
    "#     print(\"Sending JSON payload:\")\n",
    "#     print(json.dumps(json_body, indent=2))\n",
    "    \n",
    "#     try:\n",
    "#         order_req = requests.post(url=base_url + endpoint, verify=False, json=json_body)\n",
    "#         order_req.raise_for_status()  # Raise exception for 4XX/5XX errors\n",
    "#     except requests.RequestException as e:\n",
    "#         if hasattr(e, 'response') and e.response is not None:\n",
    "#             print(\"Response Content:\", e.response.text)\n",
    "#         print(f\"An error occurred: {e}\")\n",
    "#         return None\n",
    "\n",
    "#     order_data = order_req.json()\n",
    "#     print(\"Status code:\", order_req.status_code)\n",
    "#     print(\"Response Data:\", json.dumps(order_data, indent=2))\n",
    "    \n",
    "#     # Extract and return the order ID from the first element if available.\n",
    "#     if isinstance(order_data, list) and order_data and \"id\" in order_data[0]:\n",
    "#         return order_data[0][\"id\"]\n",
    "#     else:\n",
    "#         print(\"Unexpected response format\")\n",
    "#         return None"
   ]
  },
  {
   "cell_type": "code",
   "execution_count": 83,
   "id": "a328317d-6030-47e7-b2e9-ecd3bc84c619",
   "metadata": {},
   "outputs": [
    {
     "ename": "TypeError",
     "evalue": "IBKRClient.order_bracket() got an unexpected keyword argument 'listing_exchange'",
     "output_type": "error",
     "traceback": [
      "\u001b[1;31m---------------------------------------------------------------------------\u001b[0m",
      "\u001b[1;31mTypeError\u001b[0m                                 Traceback (most recent call last)",
      "Cell \u001b[1;32mIn[83], line 1\u001b[0m\n\u001b[1;32m----> 1\u001b[0m \u001b[43mclient\u001b[49m\u001b[38;5;241;43m.\u001b[39;49m\u001b[43morder_bracket\u001b[49m\u001b[43m(\u001b[49m\n\u001b[0;32m      2\u001b[0m \u001b[43m            \u001b[49m\u001b[43mticker\u001b[49m\u001b[38;5;241;43m=\u001b[39;49m\u001b[43mticker\u001b[49m\u001b[43m,\u001b[49m\n\u001b[0;32m      3\u001b[0m \u001b[43m            \u001b[49m\u001b[43mconid\u001b[49m\u001b[38;5;241;43m=\u001b[39;49m\u001b[43mconid\u001b[49m\u001b[43m,\u001b[49m\n\u001b[0;32m      4\u001b[0m \u001b[43m            \u001b[49m\u001b[43mquantity\u001b[49m\u001b[38;5;241;43m=\u001b[39;49m\u001b[43mquantity_invest\u001b[49m\u001b[43m,\u001b[49m\n\u001b[0;32m      5\u001b[0m \u001b[43m            \u001b[49m\u001b[43mprimary_side\u001b[49m\u001b[38;5;241;43m=\u001b[39;49m\u001b[38;5;124;43m\"\u001b[39;49m\u001b[38;5;124;43mBUY\u001b[39;49m\u001b[38;5;124;43m\"\u001b[39;49m\u001b[43m,\u001b[49m\n\u001b[0;32m      6\u001b[0m \u001b[43m            \u001b[49m\u001b[43mprimary_order_type\u001b[49m\u001b[38;5;241;43m=\u001b[39;49m\u001b[38;5;124;43m\"\u001b[39;49m\u001b[38;5;124;43mMKT\u001b[39;49m\u001b[38;5;124;43m\"\u001b[39;49m\u001b[43m,\u001b[49m\n\u001b[0;32m      7\u001b[0m \u001b[43m            \u001b[49m\u001b[43mprofit_target_price\u001b[49m\u001b[38;5;241;43m=\u001b[39;49m\u001b[43mprice_high\u001b[49m\u001b[43m,\u001b[49m\n\u001b[0;32m      8\u001b[0m \u001b[43m            \u001b[49m\u001b[43mprofit_order_type\u001b[49m\u001b[38;5;241;43m=\u001b[39;49m\u001b[38;5;124;43m\"\u001b[39;49m\u001b[38;5;124;43mLMT\u001b[39;49m\u001b[38;5;124;43m\"\u001b[39;49m\u001b[43m,\u001b[49m\n\u001b[0;32m      9\u001b[0m \u001b[43m            \u001b[49m\u001b[43mstop_loss_price\u001b[49m\u001b[38;5;241;43m=\u001b[39;49m\u001b[43mprice_low\u001b[49m\u001b[43m,\u001b[49m\n\u001b[0;32m     10\u001b[0m \u001b[43m            \u001b[49m\u001b[43mstop_order_type\u001b[49m\u001b[38;5;241;43m=\u001b[39;49m\u001b[38;5;124;43m\"\u001b[39;49m\u001b[38;5;124;43mSTP\u001b[39;49m\u001b[38;5;124;43m\"\u001b[39;49m\u001b[43m,\u001b[49m\n\u001b[0;32m     11\u001b[0m \u001b[43m            \u001b[49m\u001b[43mtif\u001b[49m\u001b[38;5;241;43m=\u001b[39;49m\u001b[38;5;124;43m\"\u001b[39;49m\u001b[38;5;124;43mGTC\u001b[39;49m\u001b[38;5;124;43m\"\u001b[39;49m\u001b[43m,\u001b[49m\n\u001b[0;32m     12\u001b[0m \u001b[43m            \u001b[49m\u001b[43mlisting_exchange\u001b[49m\u001b[38;5;241;43m=\u001b[39;49m\u001b[38;5;124;43m\"\u001b[39;49m\u001b[38;5;124;43mSMART\u001b[39;49m\u001b[38;5;124;43m\"\u001b[39;49m\u001b[43m,\u001b[49m\n\u001b[0;32m     13\u001b[0m \u001b[43m            \u001b[49m\u001b[43moutside_rth\u001b[49m\u001b[38;5;241;43m=\u001b[39;49m\u001b[38;5;28;43;01mTrue\u001b[39;49;00m\u001b[43m,\u001b[49m\n\u001b[0;32m     14\u001b[0m \u001b[43m            \u001b[49m\u001b[43mreferrer\u001b[49m\u001b[38;5;241;43m=\u001b[39;49m\u001b[38;5;124;43m\"\u001b[39;49m\u001b[38;5;124;43mQuickTrade\u001b[39;49m\u001b[38;5;124;43m\"\u001b[39;49m\u001b[43m,\u001b[49m\n\u001b[0;32m     15\u001b[0m \u001b[43m            \u001b[49m\u001b[43mis_single_group\u001b[49m\u001b[38;5;241;43m=\u001b[39;49m\u001b[38;5;28;43;01mFalse\u001b[39;49;00m\u001b[43m \u001b[49m\n\u001b[0;32m     16\u001b[0m \u001b[43m            \u001b[49m\u001b[43m)\u001b[49m\n",
      "\u001b[1;31mTypeError\u001b[0m: IBKRClient.order_bracket() got an unexpected keyword argument 'listing_exchange'"
     ]
    }
   ],
   "source": [
    "client.order_bracket(\n",
    "            ticker=ticker,\n",
    "            conid=conid,\n",
    "            quantity=quantity_invest,\n",
    "            primary_side=\"BUY\",\n",
    "            primary_order_type=\"MKT\",\n",
    "            profit_target_price=price_high,\n",
    "            profit_order_type=\"LMT\",\n",
    "            stop_loss_price=price_low,\n",
    "            stop_order_type=\"STP\",\n",
    "            tif=\"GTC\",\n",
    "            listing_exchange=\"SMART\",\n",
    "            outside_rth=True,\n",
    "            referrer=\"QuickTrade\",\n",
    "            is_single_group=False \n",
    "            )"
   ]
  },
  {
   "cell_type": "code",
   "execution_count": null,
   "id": "2ea49910-5187-449c-8d68-87ca9873b22e",
   "metadata": {},
   "outputs": [],
   "source": []
  },
  {
   "cell_type": "code",
   "execution_count": null,
   "id": "24f1dcb2-75ed-45df-b00b-c50dc87dcf1b",
   "metadata": {},
   "outputs": [],
   "source": []
  },
  {
   "cell_type": "code",
   "execution_count": null,
   "id": "7ac2d0c0-2669-43af-94f5-730a6d7860fe",
   "metadata": {},
   "outputs": [],
   "source": []
  },
  {
   "cell_type": "code",
   "execution_count": null,
   "id": "e44537d5-bbfc-4517-9e24-e6792f7e8092",
   "metadata": {},
   "outputs": [],
   "source": []
  }
 ],
 "metadata": {
  "kernelspec": {
   "display_name": "Python 3 (ipykernel)",
   "language": "python",
   "name": "python3"
  },
  "language_info": {
   "codemirror_mode": {
    "name": "ipython",
    "version": 3
   },
   "file_extension": ".py",
   "mimetype": "text/x-python",
   "name": "python",
   "nbconvert_exporter": "python",
   "pygments_lexer": "ipython3",
   "version": "3.10.10"
  }
 },
 "nbformat": 4,
 "nbformat_minor": 5
}
