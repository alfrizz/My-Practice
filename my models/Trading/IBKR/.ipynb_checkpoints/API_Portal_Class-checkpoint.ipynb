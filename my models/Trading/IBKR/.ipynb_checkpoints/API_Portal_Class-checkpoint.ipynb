{
 "cells": [
  {
   "cell_type": "code",
   "execution_count": 1,
   "id": "62ba8003-e034-4496-8530-eba496026f92",
   "metadata": {},
   "outputs": [],
   "source": [
    "from IBKRClient import IBKRClient\n",
    "import urllib3\n",
    "import os"
   ]
  },
  {
   "cell_type": "code",
   "execution_count": 2,
   "id": "c3815d57-1a0c-4a0a-b8d2-68f4c3280cce",
   "metadata": {},
   "outputs": [],
   "source": [
    "# Disable SSL warnings (only for testing with self-signed certificates).\n",
    "urllib3.disable_warnings(urllib3.exceptions.InsecureRequestWarning)\n",
    "\n",
    "IBKR_ID = os.getenv('IBKR_ID')"
   ]
  },
  {
   "cell_type": "code",
   "execution_count": 31,
   "id": "2c05dedb-11f2-448b-ab89-a4214b773ce4",
   "metadata": {},
   "outputs": [
    {
     "name": "stdout",
     "output_type": "stream",
     "text": [
      "Checking authentication status at: https://localhost:5000/v1/api/iserver/auth/status\n",
      "Already logged in: {\"authenticated\":true,\"competing\":false,\"connected\":true,\"message\":\"\",\"MAC\":\"5C:BA:2C:60:27:50\",\"serverInfo\":{\"serverName\":\"JifZ19021\",\"serverVersion\":\"Build 10.34.1f, Apr 9, 2025 11:51:04 AM\"},\"fail\":\"\"}\n"
     ]
    }
   ],
   "source": [
    "# Create an instance of the client with your configuration.\n",
    "# if 'client' not in globals():\n",
    "client = IBKRClient(account_id=IBKR_ID)"
   ]
  },
  {
   "cell_type": "code",
   "execution_count": 33,
   "id": "5915e599-285d-4236-a984-f39342f893b8",
   "metadata": {},
   "outputs": [
    {
     "name": "stdout",
     "output_type": "stream",
     "text": [
      "Contract Search URL: https://localhost:5000/v1/api/iserver/secdef/search\n",
      "Response Status Code: 200\n",
      "Contract Search Results:\n",
      "[\n",
      "  {\n",
      "    \"conid\": \"617155599\",\n",
      "    \"companyHeader\": \"LINDE PLC - NASDAQ\",\n",
      "    \"companyName\": \"LINDE PLC\",\n",
      "    \"symbol\": \"LIN\",\n",
      "    \"description\": \"NASDAQ\",\n",
      "    \"restricted\": \"CFD,IOPT,WAR\",\n",
      "    \"sections\": [\n",
      "      {\n",
      "        \"secType\": \"STK\"\n",
      "      },\n",
      "      {\n",
      "        \"secType\": \"OPT\",\n",
      "        \"months\": \"APR25;MAY25;JUN25;JUL25;SEP25;OCT25;JAN26;MAR26;JUN26;JAN27\",\n",
      "        \"exchange\": \"SMART;AMEX;BATS;BOX;CBOE;CBOE2;EDGX;EMERALD;GEMINI;IBUSOPT;ISE;MEMX;MERCURY;MIAX;NASDAQBX;NASDAQOM;PEARL;PHLX;PSE;SAPPHIRE\"\n",
      "      },\n",
      "      {\n",
      "        \"secType\": \"WAR\",\n",
      "        \"months\": \"MAR25;APR25;MAY25;JUN25;JUL25;SEP25;OCT25;DEC25;JAN26;MAR26;JUN26;SEP26;DEC26;JAN27;JUN27;JAN28\",\n",
      "        \"exchange\": \"FWB;GETTEX;SWB\"\n",
      "      },\n",
      "      {\n",
      "        \"secType\": \"IOPT\"\n",
      "      },\n",
      "      {\n",
      "        \"secType\": \"CFD\",\n",
      "        \"exchange\": \"SMART\",\n",
      "        \"conid\": \"340022242\"\n",
      "      },\n",
      "      {\n",
      "        \"secType\": \"BAG\"\n",
      "      }\n",
      "    ]\n",
      "  },\n",
      "  {\n",
      "    \"conid\": \"340253818\",\n",
      "    \"companyHeader\": \"LINDE PLC - VALUE\",\n",
      "    \"companyName\": \"LINDE PLC\",\n",
      "    \"symbol\": \"LIN\",\n",
      "    \"description\": \"VALUE\",\n",
      "    \"restricted\": null,\n",
      "    \"sections\": [\n",
      "      {\n",
      "        \"secType\": \"STK\",\n",
      "        \"exchange\": \"VALUE;\"\n",
      "      }\n",
      "    ]\n",
      "  },\n",
      "  {\n",
      "    \"conid\": \"617155589\",\n",
      "    \"companyHeader\": \"LINDE PLC - IBIS\",\n",
      "    \"companyName\": \"LINDE PLC\",\n",
      "    \"symbol\": \"LIN\",\n",
      "    \"description\": \"IBIS\",\n",
      "    \"restricted\": \"CFD,IOPT\",\n",
      "    \"sections\": [\n",
      "      {\n",
      "        \"secType\": \"STK\"\n",
      "      },\n",
      "      {\n",
      "        \"secType\": \"IOPT\"\n",
      "      },\n",
      "      {\n",
      "        \"secType\": \"CFD\",\n",
      "        \"exchange\": \"SMART\",\n",
      "        \"conid\": \"339968354\"\n",
      "      }\n",
      "    ]\n",
      "  },\n",
      "  {\n",
      "    \"conid\": \"44202421\",\n",
      "    \"companyHeader\": \"LINDIAN RESOURCES LTD - ASX\",\n",
      "    \"companyName\": \"LINDIAN RESOURCES LTD\",\n",
      "    \"symbol\": \"LIN\",\n",
      "    \"description\": \"ASX\",\n",
      "    \"restricted\": \"STK\",\n",
      "    \"sections\": [\n",
      "      {\n",
      "        \"secType\": \"STK\"\n",
      "      }\n",
      "    ]\n",
      "  },\n",
      "  {\n",
      "    \"issuers\": [\n",
      "      {\n",
      "        \"id\": \"e2829214\",\n",
      "        \"name\": \"Linde Finance BV\"\n",
      "      },\n",
      "      {\n",
      "        \"id\": \"e5120553\",\n",
      "        \"name\": \"Linde PLC\"\n",
      "      },\n",
      "      {\n",
      "        \"id\": \"e1408255\",\n",
      "        \"name\": \"Praxair Inc\"\n",
      "      },\n",
      "      {\n",
      "        \"id\": \"e5308177\",\n",
      "        \"name\": \"Zenataris Renewable Energy Pvt Ltd\"\n",
      "      }\n",
      "    ],\n",
      "    \"bondid\": 4,\n",
      "    \"conid\": \"2147483647\",\n",
      "    \"companyHeader\": \"Corporate Fixed Income\",\n",
      "    \"companyName\": null,\n",
      "    \"symbol\": null,\n",
      "    \"description\": null,\n",
      "    \"restricted\": null,\n",
      "    \"sections\": [\n",
      "      {\n",
      "        \"secType\": \"BOND\"\n",
      "      }\n",
      "    ]\n",
      "  }\n",
      "]\n",
      "First conid found: 617155599\n",
      "Ticker returned as symbol: LIN\n"
     ]
    }
   ],
   "source": [
    "# Contract search\n",
    "string_to_search = \"LIN\"\n",
    "conid, ticker = client.contract_search(string_to_search)"
   ]
  },
  {
   "cell_type": "code",
   "execution_count": 5,
   "id": "c2f7b6b4-43bb-4840-aad7-5c2e06e801e5",
   "metadata": {},
   "outputs": [
    {
     "data": {
      "text/plain": [
       "('36553743', 'SE')"
      ]
     },
     "execution_count": 5,
     "metadata": {},
     "output_type": "execute_result"
    }
   ],
   "source": [
    "conid, ticker"
   ]
  },
  {
   "cell_type": "code",
   "execution_count": 10,
   "id": "62104e9c-213f-4396-95f8-147cc88ee665",
   "metadata": {},
   "outputs": [],
   "source": [
    "# manual\n",
    "# \n",
    "# conid = '292735472'"
   ]
  },
  {
   "cell_type": "code",
   "execution_count": 34,
   "id": "5cd75b22-d76a-48a3-a749-70709ac723a9",
   "metadata": {},
   "outputs": [
    {
     "name": "stdout",
     "output_type": "stream",
     "text": [
      "Contract Info Request URL: https://localhost:5000/v1/api/iserver/secdef/info?conid=617155599\n",
      "HTTP Response: <Response [200]>\n",
      "Contract Info:\n",
      "{\n",
      "  \"conid\": 617155599,\n",
      "  \"ticker\": \"LIN\",\n",
      "  \"secType\": \"STK\",\n",
      "  \"listingExchange\": \"NASDAQ.NMS\",\n",
      "  \"exchange\": \"SMART\",\n",
      "  \"companyName\": \"LINDE PLC\",\n",
      "  \"currency\": \"USD\",\n",
      "  \"validExchanges\": \"SMART,AMEX,NYSE,CBOE,PHLX,ISE,CHX,ARCA,NASDAQ,DRCTEDGE,BEX,BATS,EDGEA,BYX,IEX,EDGX,FOXRIVER,PEARL,NYSENAT,LTSE,MEMX,IBEOS,OVERNIGHT,TPLUS0,PSX\",\n",
      "  \"priceRendering\": null,\n",
      "  \"maturityDate\": null,\n",
      "  \"right\": \"?\",\n",
      "  \"strike\": 0.0\n",
      "}\n"
     ]
    }
   ],
   "source": [
    "# Fetch contract info for a specific contract ID.\n",
    "contract_details = client.contract_info(conid)"
   ]
  },
  {
   "cell_type": "code",
   "execution_count": 8,
   "id": "95108851-44a6-4e1d-b2d8-b9bba633129a",
   "metadata": {},
   "outputs": [
    {
     "name": "stdout",
     "output_type": "stream",
     "text": [
      "Historical Data Request URL: https://localhost:5000/v1/api/hmds/history?conid=36553743&period=1w&bar=1d&outsideRth=true&barType=midpoint\n",
      "HTTP Status Code: 404\n",
      "Error decoding historical data JSON on attempt 1: Expecting value: line 1 column 1 (char 0)\n",
      "Raw Response: <html><body><h1>Resource not found</h1></body></html>\n",
      "Retrying after a short delay...\n",
      "HTTP Status Code: 500\n",
      "Historical Data: {\n",
      "  \"error\": \"There was an error processing the request. Please try again.\"\n",
      "}\n"
     ]
    }
   ],
   "source": [
    "# Retrieve historical data for one or more contracts.\n",
    "historical = client.historical_data(conid)"
   ]
  },
  {
   "cell_type": "code",
   "execution_count": 35,
   "id": "eeaf53c0-46cd-4eb3-9398-448073002ecd",
   "metadata": {},
   "outputs": [
    {
     "name": "stdout",
     "output_type": "stream",
     "text": [
      "Query Parameters: conids=617155599&fields=31,84,86,7768\n",
      "Market Snapshot Request URL: https://localhost:5000/v1/api/iserver/marketdata/snapshot?conids=617155599&fields=31,84,86,7768\n",
      "HTTP Status Code: 200\n",
      "Market Snapshot Data:\n",
      "[\n",
      "  {\n",
      "    \"conidEx\": \"617155599\",\n",
      "    \"conid\": 617155599\n",
      "  }\n",
      "]\n",
      "Field '31' not found in the snapshot data. Retrying...\n",
      "Waiting before next polling attempt...\n",
      "HTTP Status Code: 200\n",
      "Market Snapshot Data:\n",
      "[\n",
      "  {\n",
      "    \"6509\": \"DPB\",\n",
      "    \"conidEx\": \"617155599\",\n",
      "    \"conid\": 617155599,\n",
      "    \"_updated\": 1744906092232,\n",
      "    \"6119\": \"q3\",\n",
      "    \"7768\": \"1\",\n",
      "    \"server_id\": \"q3\",\n",
      "    \"84\": \"451.37\",\n",
      "    \"31\": \"451.52\",\n",
      "    \"86\": \"451.90\"\n",
      "  }\n",
      "]\n",
      "Extracted Last Price: 451.52\n"
     ]
    }
   ],
   "source": [
    "# last_price = client.market_snapshot(\"166090175,8894\")\n",
    "\n",
    "last_price = client.market_snapshot(conid)"
   ]
  },
  {
   "cell_type": "code",
   "execution_count": null,
   "id": "74ba2109-66dd-4c97-b1c0-f9dc24ac03a6",
   "metadata": {},
   "outputs": [],
   "source": [
    "# euro_to_buy = 3\n",
    "\n",
    "# reply_id = client.order_request(conid=int(conid), orderType=\"MKT\", side=\"Buy\", quantity=round(euro_to_buy/last_price,4), tif=\"GTC\")"
   ]
  },
  {
   "cell_type": "code",
   "execution_count": null,
   "id": "8b795199-2cd9-49cc-8b82-9f4527810174",
   "metadata": {},
   "outputs": [],
   "source": [
    "# reply_id = client.order_reply(reply_id)"
   ]
  },
  {
   "cell_type": "code",
   "execution_count": null,
   "id": "14895212-f3cb-4fff-8c47-89917b9bfe04",
   "metadata": {},
   "outputs": [],
   "source": [
    "# contract_strikes = client.contract_strikes(conid, month=\"AUG25\", secType=\"OPT\", exchange=\"SMART\")"
   ]
  },
  {
   "cell_type": "code",
   "execution_count": 40,
   "id": "dca7522f-74f3-4b96-9861-7d6ee7489bd0",
   "metadata": {},
   "outputs": [
    {
     "name": "stdout",
     "output_type": "stream",
     "text": [
      "Order Request JSON Body:\n",
      "{\n",
      "  \"orders\": [\n",
      "    {\n",
      "      \"conid\": 617155599,\n",
      "      \"orderType\": \"STP\",\n",
      "      \"side\": \"Buy\",\n",
      "      \"tif\": \"GTC\",\n",
      "      \"quantity\": 0.0069,\n",
      "      \"price\": 433.46\n",
      "    }\n",
      "  ]\n",
      "}\n",
      "Order Request URL: https://localhost:5000/v1/api/iserver/account/U18112846/orders\n",
      "HTTP Status Code: 200\n",
      "Response Data: [\n",
      "  {\n",
      "    \"id\": \"eb1c8c75-e38f-40ea-bb79-db07aaf3c71c\",\n",
      "    \"message\": [\n",
      "      \"This order will most likely trigger and fill immediately.\\nAre you sure you want to submit this order?\"\n",
      "    ],\n",
      "    \"isSuppressed\": false,\n",
      "    \"messageIds\": [\n",
      "      \"o403\"\n",
      "    ]\n",
      "  }\n",
      "]\n"
     ]
    }
   ],
   "source": [
    "# euro_to_buy = 3\n",
    "# pct_less = 4\n",
    "# price_to_buy = last_price - round((pct_less/100)*last_price,2)\n",
    "\n",
    "# reply_id = client.order_request(conid=int(conid), orderType=\"STP\", side=\"Buy\", quantity=round(euro_to_buy/price_to_buy,4), tif=\"GTC\", price=price_to_buy)"
   ]
  },
  {
   "cell_type": "code",
   "execution_count": null,
   "id": "ae2ed04a-df07-47f5-a559-77d24164b449",
   "metadata": {},
   "outputs": [],
   "source": [
    "# check the order before the submission\n",
    "\n",
    "# all_orders = client.get_orders(ticker=ticker) "
   ]
  },
  {
   "cell_type": "code",
   "execution_count": null,
   "id": "2b4704ca-0996-4e30-a6f6-cb9d62f26c16",
   "metadata": {},
   "outputs": [],
   "source": [
    "# modify the order, if necessary\n",
    "\n",
    "# reply_id = client.order_modify(order_id=878692657, conid=617155599, orderType='STP', price=430, side='BUY', tif='GTC', quantity=0.0007)"
   ]
  },
  {
   "cell_type": "code",
   "execution_count": 37,
   "id": "11c8002d-09ae-4fa2-bc06-87a4ba80d446",
   "metadata": {},
   "outputs": [
    {
     "name": "stdout",
     "output_type": "stream",
     "text": [
      "Posting confirmation to URL: https://localhost:5000/v1/api/iserver/reply/f128b38e-4ed2-415a-9338-cf1229d1b21c\n",
      "Status Code: 200\n",
      "Raw Response: [{\"id\":\"fd1521be-5135-4201-b4b4-d463fd4acac7\",\"message\":[\"You are submitting an order without market data. We strongly recommend against this as it may result in erroneous and unexpected trades.\\nAre you sure you want to submit this order?\"],\"isSuppressed\":false,\"messageIds\":[\"o354\"]}]\n",
      "Additional messages received:\n",
      "You are submitting an order without market data. We strongly recommend against this as it may result in erroneous and unexpected trades.\n",
      "Are you sure you want to submit this order?\n",
      "New reply id received: fd1521be-5135-4201-b4b4-d463fd4acac7\n",
      "Posting confirmation to URL: https://localhost:5000/v1/api/iserver/reply/fd1521be-5135-4201-b4b4-d463fd4acac7\n",
      "Status Code: 200\n",
      "Raw Response: [{\"id\":\"0070b485-8ac8-4aa1-955b-2c593abf1b05\",\"message\":[\"<h4>Stop Variant Order Confirmation</h4>&nbsp;&nbsp;&nbsp;A Stop Order - i.e. a Stop (Market) Order - is an instruction to buy or sell at the market price once your trigger (\\\"stop\\\") price is reached, subject to any additional instructions for handling/simulating the particular Stop Order type you specified and other order conditions you specify when submitting your order.<br>&nbsp;&nbsp;&nbsp;Please note that a Stop Order is not guaranteed a specific trade price and may trade significantly away from its stop price, especially in volatile and/or illiquid markets.<br><br>&nbsp;&nbsp;&nbsp;Stop Orders may be triggered by a sharp move in price that might be temporary. If your Stop Order is triggered under these circumstances, you may buy or sell at an undesirable price. Sell Stop Orders may make price declines worse during times of extreme volatility. If triggered during a sharp price decline, a Sell Stop Order also is more likely to result in a trade well below the stop price.<br><br>&nbsp;&nbsp;&nbsp;Placing a limit price on a Stop Order may help manage some of these risks. A Stop Order with a limit price - a Stop (Limit) Order - becomes a limit order when the stock reaches the stop price and other conditions are met. By using a Stop (Limit) Order instead of a regular Stop Order, you will receive more certainty regarding the trade price, but there is the possibility that your order will not trade at all if your limit price is not available in the market when the order is triggered.<br><br>&nbsp;&nbsp;&nbsp;In accordance with our obligations as a broker, large Market Orders may be split into smaller orders, which will be traded over time. This is designed to reduce the impact of these large orders on the market, including the impact your order has on the market price.\",\"<h4>Confirm Mandatory Cap Price</h4>To avoid trading at a price that is not consistent with a fair and orderly market, IB may set a cap (for a buy order) or floor (for a sell order). THIS MAY CAUSE AN ORDER THAT WOULD OTHERWISE BE MARKETABLE NOT TO BE TRADED.\"],\"isSuppressed\":false,\"messageIds\":[\"o10152\",\"o10153\"]}]\n",
      "Additional messages received:\n",
      "<h4>Stop Variant Order Confirmation</h4>&nbsp;&nbsp;&nbsp;A Stop Order - i.e. a Stop (Market) Order - is an instruction to buy or sell at the market price once your trigger (\"stop\") price is reached, subject to any additional instructions for handling/simulating the particular Stop Order type you specified and other order conditions you specify when submitting your order.<br>&nbsp;&nbsp;&nbsp;Please note that a Stop Order is not guaranteed a specific trade price and may trade significantly away from its stop price, especially in volatile and/or illiquid markets.<br><br>&nbsp;&nbsp;&nbsp;Stop Orders may be triggered by a sharp move in price that might be temporary. If your Stop Order is triggered under these circumstances, you may buy or sell at an undesirable price. Sell Stop Orders may make price declines worse during times of extreme volatility. If triggered during a sharp price decline, a Sell Stop Order also is more likely to result in a trade well below the stop price.<br><br>&nbsp;&nbsp;&nbsp;Placing a limit price on a Stop Order may help manage some of these risks. A Stop Order with a limit price - a Stop (Limit) Order - becomes a limit order when the stock reaches the stop price and other conditions are met. By using a Stop (Limit) Order instead of a regular Stop Order, you will receive more certainty regarding the trade price, but there is the possibility that your order will not trade at all if your limit price is not available in the market when the order is triggered.<br><br>&nbsp;&nbsp;&nbsp;In accordance with our obligations as a broker, large Market Orders may be split into smaller orders, which will be traded over time. This is designed to reduce the impact of these large orders on the market, including the impact your order has on the market price.\n",
      "<h4>Confirm Mandatory Cap Price</h4>To avoid trading at a price that is not consistent with a fair and orderly market, IB may set a cap (for a buy order) or floor (for a sell order). THIS MAY CAUSE AN ORDER THAT WOULD OTHERWISE BE MARKETABLE NOT TO BE TRADED.\n",
      "New reply id received: 0070b485-8ac8-4aa1-955b-2c593abf1b05\n",
      "Posting confirmation to URL: https://localhost:5000/v1/api/iserver/reply/0070b485-8ac8-4aa1-955b-2c593abf1b05\n",
      "Status Code: 200\n",
      "Raw Response: [{\"order_id\":\"878692656\",\"order_status\":\"PreSubmitted\",\"encrypt_message\":\"1\"}]\n",
      "No reply id provided in response. Breaking out.\n"
     ]
    },
    {
     "data": {
      "text/plain": [
       "'0070b485-8ac8-4aa1-955b-2c593abf1b05'"
      ]
     },
     "execution_count": 37,
     "metadata": {},
     "output_type": "execute_result"
    }
   ],
   "source": [
    "#submit the order, either with or without modifications\n",
    "\n",
    "# client.order_reply(reply_id)"
   ]
  },
  {
   "cell_type": "code",
   "execution_count": null,
   "id": "736843e7-8d07-436d-98bc-de9bc5890bd9",
   "metadata": {},
   "outputs": [],
   "source": [
    "# re-check the orders\n",
    "\n",
    "# all_orders = client.get_orders(ticker=ticker) "
   ]
  },
  {
   "cell_type": "code",
   "execution_count": 46,
   "id": "163a6ad9-f000-4fce-9075-678c56e2b5fb",
   "metadata": {},
   "outputs": [
    {
     "name": "stdout",
     "output_type": "stream",
     "text": [
      "Orders Request URL: https://localhost:5000/v1/api/iserver/account/orders\n",
      "HTTP Status Code: 200\n",
      "All Orders Data:\n",
      "[\n",
      "  {\n",
      "    \"acct\": \"U18112846\",\n",
      "    \"conidex\": \"292735472\",\n",
      "    \"conid\": 292735472,\n",
      "    \"account\": \"U18112846\",\n",
      "    \"orderId\": 878692280,\n",
      "    \"cashCcy\": \"USD\",\n",
      "    \"sizeAndFills\": \"0.0331\",\n",
      "    \"orderDesc\": \"Bought 0.0331 SE Stop 119.00, GTC\",\n",
      "    \"description1\": \"SE\",\n",
      "    \"ticker\": \"SE\",\n",
      "    \"secType\": \"STK\",\n",
      "    \"listingExchange\": \"NYSE\",\n",
      "    \"remainingQuantity\": 0.0,\n",
      "    \"filledQuantity\": 0.0331,\n",
      "    \"totalSize\": 0.0331,\n",
      "    \"companyName\": \"SEA LTD-ADR\",\n",
      "    \"status\": \"Filled\",\n",
      "    \"order_ccp_status\": \"Filled\",\n",
      "    \"origOrderType\": \"STOP\",\n",
      "    \"supportsTaxOpt\": \"1\",\n",
      "    \"lastExecutionTime\": \"250417150124\",\n",
      "    \"orderType\": \"Stop\",\n",
      "    \"bgColor\": \"#FFFFFF\",\n",
      "    \"fgColor\": \"#000000\",\n",
      "    \"auxPrice\": \"119.00\",\n",
      "    \"isEventTrading\": \"0\",\n",
      "    \"stop_price\": \"119.00\",\n",
      "    \"price\": \"\",\n",
      "    \"timeInForce\": \"GTC\",\n",
      "    \"lastExecutionTime_r\": 1744902084000,\n",
      "    \"side\": \"BUY\",\n",
      "    \"avgPrice\": \"121.94\"\n",
      "  },\n",
      "  {\n",
      "    \"acct\": \"U18112846\",\n",
      "    \"conidex\": \"292735472\",\n",
      "    \"conid\": 292735472,\n",
      "    \"account\": \"U18112846\",\n",
      "    \"orderId\": 878692291,\n",
      "    \"cashCcy\": \"USD\",\n",
      "    \"sizeAndFills\": \"0.0332\",\n",
      "    \"orderDesc\": \"Bought 0.0332 SE Stop 120.64, GTC\",\n",
      "    \"description1\": \"SE\",\n",
      "    \"ticker\": \"SE\",\n",
      "    \"secType\": \"STK\",\n",
      "    \"listingExchange\": \"NYSE\",\n",
      "    \"remainingQuantity\": 0.0,\n",
      "    \"filledQuantity\": 0.0332,\n",
      "    \"totalSize\": 0.0332,\n",
      "    \"companyName\": \"SEA LTD-ADR\",\n",
      "    \"status\": \"Filled\",\n",
      "    \"order_ccp_status\": \"Filled\",\n",
      "    \"origOrderType\": \"STOP\",\n",
      "    \"supportsTaxOpt\": \"1\",\n",
      "    \"lastExecutionTime\": \"250417150422\",\n",
      "    \"orderType\": \"Stop\",\n",
      "    \"bgColor\": \"#FFFFFF\",\n",
      "    \"fgColor\": \"#000000\",\n",
      "    \"auxPrice\": \"120.64\",\n",
      "    \"isEventTrading\": \"0\",\n",
      "    \"stop_price\": \"120.64\",\n",
      "    \"price\": \"\",\n",
      "    \"timeInForce\": \"GTC\",\n",
      "    \"lastExecutionTime_r\": 1744902262000,\n",
      "    \"side\": \"BUY\",\n",
      "    \"avgPrice\": \"121.36\"\n",
      "  },\n",
      "  {\n",
      "    \"acct\": \"U18112846\",\n",
      "    \"conidex\": \"617155599\",\n",
      "    \"conid\": 617155599,\n",
      "    \"account\": \"U18112846\",\n",
      "    \"orderId\": 878692657,\n",
      "    \"cashCcy\": \"USD\",\n",
      "    \"sizeAndFills\": \"0.0007\",\n",
      "    \"orderDesc\": \"Bought 0.0007 LIN Stop 430.00, GTC\",\n",
      "    \"description1\": \"LIN\",\n",
      "    \"ticker\": \"LIN\",\n",
      "    \"secType\": \"STK\",\n",
      "    \"listingExchange\": \"NASDAQ.NMS\",\n",
      "    \"remainingQuantity\": 0.0,\n",
      "    \"filledQuantity\": 0.0007,\n",
      "    \"totalSize\": 0.0007,\n",
      "    \"companyName\": \"LINDE PLC\",\n",
      "    \"status\": \"Filled\",\n",
      "    \"order_ccp_status\": \"Filled\",\n",
      "    \"origOrderType\": \"STOP\",\n",
      "    \"supportsTaxOpt\": \"1\",\n",
      "    \"lastExecutionTime\": \"250417161006\",\n",
      "    \"orderType\": \"Stop\",\n",
      "    \"bgColor\": \"#FFFFFF\",\n",
      "    \"fgColor\": \"#000000\",\n",
      "    \"auxPrice\": \"430.00\",\n",
      "    \"isEventTrading\": \"0\",\n",
      "    \"stop_price\": \"430.00\",\n",
      "    \"price\": \"\",\n",
      "    \"timeInForce\": \"GTC\",\n",
      "    \"lastExecutionTime_r\": 1744906206000,\n",
      "    \"side\": \"BUY\",\n",
      "    \"avgPrice\": \"451.54\"\n",
      "  },\n",
      "  {\n",
      "    \"acct\": \"U18112846\",\n",
      "    \"conidex\": \"617155599\",\n",
      "    \"conid\": 617155599,\n",
      "    \"account\": \"U18112846\",\n",
      "    \"orderId\": 878692656,\n",
      "    \"cashCcy\": \"USD\",\n",
      "    \"sizeAndFills\": \"0.0068\",\n",
      "    \"orderDesc\": \"Bought 0.0068 LIN Stop 437.97, GTC\",\n",
      "    \"description1\": \"LIN\",\n",
      "    \"ticker\": \"LIN\",\n",
      "    \"secType\": \"STK\",\n",
      "    \"listingExchange\": \"NASDAQ.NMS\",\n",
      "    \"remainingQuantity\": 0.0,\n",
      "    \"filledQuantity\": 0.0068,\n",
      "    \"totalSize\": 0.0068,\n",
      "    \"companyName\": \"LINDE PLC\",\n",
      "    \"status\": \"Filled\",\n",
      "    \"order_ccp_status\": \"Filled\",\n",
      "    \"origOrderType\": \"STOP\",\n",
      "    \"supportsTaxOpt\": \"1\",\n",
      "    \"lastExecutionTime\": \"250417160831\",\n",
      "    \"orderType\": \"Stop\",\n",
      "    \"bgColor\": \"#FFFFFF\",\n",
      "    \"fgColor\": \"#000000\",\n",
      "    \"auxPrice\": \"437.97\",\n",
      "    \"isEventTrading\": \"0\",\n",
      "    \"stop_price\": \"437.97\",\n",
      "    \"price\": \"\",\n",
      "    \"timeInForce\": \"GTC\",\n",
      "    \"lastExecutionTime_r\": 1744906111000,\n",
      "    \"side\": \"BUY\",\n",
      "    \"avgPrice\": \"453.00\"\n",
      "  }\n",
      "]\n"
     ]
    }
   ],
   "source": [
    "# check all orders\n",
    "\n",
    "all_orders = client.get_orders() "
   ]
  },
  {
   "cell_type": "code",
   "execution_count": null,
   "id": "0fddca31-b22d-421f-883f-bbb6ea4ec06e",
   "metadata": {},
   "outputs": [],
   "source": [
    "# client.get_portfolio_summary()"
   ]
  },
  {
   "cell_type": "code",
   "execution_count": null,
   "id": "a0047de9-4682-4bb0-9418-318d4ce315d0",
   "metadata": {},
   "outputs": [],
   "source": [
    "# client.get_accounts()"
   ]
  },
  {
   "cell_type": "code",
   "execution_count": null,
   "id": "1585d757-0b3d-4183-8011-44ce8e61b5b9",
   "metadata": {},
   "outputs": [],
   "source": [
    "# portfolio_data = client.get_portfolio_accounts()"
   ]
  },
  {
   "cell_type": "code",
   "execution_count": null,
   "id": "3a705e3b-fa44-49bb-8736-623d2633cbea",
   "metadata": {},
   "outputs": [],
   "source": [
    "# portfolio_summary = client.get_portfolio_summary()"
   ]
  },
  {
   "cell_type": "code",
   "execution_count": null,
   "id": "71c5625d-527d-49ec-90ce-9e0336affd07",
   "metadata": {},
   "outputs": [],
   "source": [
    "# positions_data = client.get_positions()"
   ]
  },
  {
   "cell_type": "code",
   "execution_count": null,
   "id": "b01d5518-75af-4b2d-b8af-a7c49473f9ad",
   "metadata": {},
   "outputs": [],
   "source": []
  },
  {
   "cell_type": "code",
   "execution_count": null,
   "id": "c59601b8-0772-423c-847f-645beaff3bd9",
   "metadata": {},
   "outputs": [],
   "source": []
  },
  {
   "cell_type": "code",
   "execution_count": null,
   "id": "a328317d-6030-47e7-b2e9-ecd3bc84c619",
   "metadata": {},
   "outputs": [],
   "source": []
  },
  {
   "cell_type": "code",
   "execution_count": null,
   "id": "2ea49910-5187-449c-8d68-87ca9873b22e",
   "metadata": {},
   "outputs": [],
   "source": []
  },
  {
   "cell_type": "code",
   "execution_count": null,
   "id": "24f1dcb2-75ed-45df-b00b-c50dc87dcf1b",
   "metadata": {},
   "outputs": [],
   "source": []
  },
  {
   "cell_type": "code",
   "execution_count": null,
   "id": "7ac2d0c0-2669-43af-94f5-730a6d7860fe",
   "metadata": {},
   "outputs": [],
   "source": []
  },
  {
   "cell_type": "code",
   "execution_count": null,
   "id": "e44537d5-bbfc-4517-9e24-e6792f7e8092",
   "metadata": {},
   "outputs": [],
   "source": []
  }
 ],
 "metadata": {
  "kernelspec": {
   "display_name": "Python 3 (ipykernel)",
   "language": "python",
   "name": "python3"
  },
  "language_info": {
   "codemirror_mode": {
    "name": "ipython",
    "version": 3
   },
   "file_extension": ".py",
   "mimetype": "text/x-python",
   "name": "python",
   "nbconvert_exporter": "python",
   "pygments_lexer": "ipython3",
   "version": "3.10.10"
  }
 },
 "nbformat": 4,
 "nbformat_minor": 5
}
