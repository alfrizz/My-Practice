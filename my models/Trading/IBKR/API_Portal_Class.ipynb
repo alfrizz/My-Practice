{
 "cells": [
  {
   "cell_type": "code",
   "execution_count": 1,
   "id": "62ba8003-e034-4496-8530-eba496026f92",
   "metadata": {},
   "outputs": [],
   "source": [
    "from IBKRClient import IBKRClient\n",
    "import urllib3\n",
    "import os"
   ]
  },
  {
   "cell_type": "code",
   "execution_count": 2,
   "id": "c3815d57-1a0c-4a0a-b8d2-68f4c3280cce",
   "metadata": {},
   "outputs": [],
   "source": [
    "# Disable SSL warnings (only for testing with self-signed certificates).\n",
    "urllib3.disable_warnings(urllib3.exceptions.InsecureRequestWarning)\n",
    "\n",
    "IBKR_ID = os.getenv('IBKR_ID')"
   ]
  },
  {
   "cell_type": "code",
   "execution_count": 3,
   "id": "2c05dedb-11f2-448b-ab89-a4214b773ce4",
   "metadata": {},
   "outputs": [
    {
     "name": "stdout",
     "output_type": "stream",
     "text": [
      "Checking authentication status at: https://localhost:5000/v1/api/iserver/auth/status\n",
      "Error checking authentication: HTTPSConnectionPool(host='localhost', port=5000): Max retries exceeded with url: /v1/api/iserver/auth/status (Caused by NewConnectionError('<urllib3.connection.HTTPSConnection object at 0x000001CF7CBC5840>: Failed to establish a new connection: [WinError 10061] No connection could be made because the target machine actively refused it'))\n",
      "Not logged in. Initiating login process.\n",
      "Changed directory to: C:\\IBKR Client Portal\n",
      "The process is running... (output not complete yet).\n",
      "Opening IBKR Client at: https://localhost:5000\n",
      "Polling authentication status at: https://localhost:5000/v1/api/iserver/auth/status\n",
      "Received status code: 401\n",
      "Received status code: 401\n",
      "Received status code: 401\n",
      "Received status code: 401\n",
      "Received status code: 401\n",
      "Received status code: 401\n",
      "Received status code: 401\n",
      "Received status code: 401\n",
      "Received status code: 401\n",
      "Received status code: 401\n",
      "Received status code: 401\n",
      "Received status code: 401\n",
      "Received status code: 401\n",
      "Received status code: 401\n",
      "Received status code: 401\n",
      "Received status code: 401\n",
      "Received status code: 401\n",
      "Received status code: 401\n",
      "Received status code: 401\n",
      "Authentication successful: {'authenticated': True, 'competing': False, 'connected': True, 'message': '', 'MAC': '5C:BA:2C:60:27:50', 'serverInfo': {'serverName': 'JifZ25118', 'serverVersion': 'Build 10.34.1f, Apr 9, 2025 11:51:04 AM'}, 'fail': ''}\n"
     ]
    }
   ],
   "source": [
    "# Create an instance of the client with your configuration.\n",
    "# if 'client' not in globals():\n",
    "client = IBKRClient(account_id=IBKR_ID)"
   ]
  },
  {
   "cell_type": "code",
   "execution_count": 4,
   "id": "5915e599-285d-4236-a984-f39342f893b8",
   "metadata": {},
   "outputs": [
    {
     "name": "stdout",
     "output_type": "stream",
     "text": [
      "Contract Search URL: https://localhost:5000/v1/api/iserver/secdef/search\n",
      "Response Status Code: 200\n",
      "Contract Search Results:\n",
      "[\n",
      "  {\n",
      "    \"conid\": \"332794741\",\n",
      "    \"companyHeader\": \"NIO INC - ADR - NYSE\",\n",
      "    \"companyName\": \"NIO INC - ADR\",\n",
      "    \"symbol\": \"NIO\",\n",
      "    \"description\": \"NYSE\",\n",
      "    \"restricted\": \"CFD,IOPT,WAR\",\n",
      "    \"sections\": [\n",
      "      {\n",
      "        \"secType\": \"STK\"\n",
      "      },\n",
      "      {\n",
      "        \"secType\": \"OPT\",\n",
      "        \"months\": \"APR25;MAY25;JUN25;AUG25;SEP25;NOV25;JAN26;JUN26;JAN27\",\n",
      "        \"exchange\": \"SMART;AMEX;BATS;BOX;CBOE;CBOE2;EDGX;EMERALD;GEMINI;IBUSOPT;ISE;MEMX;MERCURY;MIAX;NASDAQBX;NASDAQOM;PEARL;PHLX;PSE;SAPPHIRE\"\n",
      "      },\n",
      "      {\n",
      "        \"secType\": \"WAR\",\n",
      "        \"months\": \"MAR25;APR25;MAY25;JUN25;SEP25;DEC25;JAN26;MAR26;JUN26;SEP26;DEC26;JAN27\",\n",
      "        \"exchange\": \"FWB;GETTEX;SBF;SWB\"\n",
      "      },\n",
      "      {\n",
      "        \"secType\": \"IOPT\"\n",
      "      },\n",
      "      {\n",
      "        \"secType\": \"CFD\",\n",
      "        \"exchange\": \"SMART\",\n",
      "        \"conid\": \"451396038\"\n",
      "      },\n",
      "      {\n",
      "        \"secType\": \"BAG\"\n",
      "      }\n",
      "    ]\n",
      "  },\n",
      "  {\n",
      "    \"conid\": \"497004053\",\n",
      "    \"companyHeader\": \"1X NIO - VALUE\",\n",
      "    \"companyName\": \"1X NIO\",\n",
      "    \"symbol\": \"NIO\",\n",
      "    \"description\": \"VALUE\",\n",
      "    \"restricted\": null,\n",
      "    \"sections\": [\n",
      "      {\n",
      "        \"secType\": \"STK\",\n",
      "        \"exchange\": \"VALUE;\"\n",
      "      }\n",
      "    ]\n",
      "  },\n",
      "  {\n",
      "    \"conid\": \"567145297\",\n",
      "    \"companyHeader\": \"NIO STRATEGIC METALS INC - VENTURE\",\n",
      "    \"companyName\": \"NIO STRATEGIC METALS INC\",\n",
      "    \"symbol\": \"NIO\",\n",
      "    \"description\": \"VENTURE\",\n",
      "    \"restricted\": null,\n",
      "    \"sections\": [\n",
      "      {\n",
      "        \"secType\": \"STK\"\n",
      "      }\n",
      "    ]\n",
      "  },\n",
      "  {\n",
      "    \"conid\": \"328452994\",\n",
      "    \"companyHeader\": \"NORDIC IRON ORE AB - SFB\",\n",
      "    \"companyName\": \"NORDIC IRON ORE AB\",\n",
      "    \"symbol\": \"NIO\",\n",
      "    \"description\": \"SFB\",\n",
      "    \"restricted\": null,\n",
      "    \"sections\": [\n",
      "      {\n",
      "        \"secType\": \"STK\"\n",
      "      }\n",
      "    ]\n",
      "  },\n",
      "  {\n",
      "    \"conid\": \"603523431\",\n",
      "    \"companyHeader\": \"NORDIC IRON ORE AB - FWB2\",\n",
      "    \"companyName\": \"NORDIC IRON ORE AB\",\n",
      "    \"symbol\": \"NIO\",\n",
      "    \"description\": \"FWB2\",\n",
      "    \"restricted\": \"STK\",\n",
      "    \"sections\": [\n",
      "      {\n",
      "        \"secType\": \"STK\"\n",
      "      }\n",
      "    ]\n",
      "  },\n",
      "  {\n",
      "    \"conid\": \"562595576\",\n",
      "    \"companyHeader\": \"NIO INC-CLASS A - SGX\",\n",
      "    \"companyName\": \"NIO INC-CLASS A\",\n",
      "    \"symbol\": \"NIO\",\n",
      "    \"description\": \"SGX\",\n",
      "    \"restricted\": \"CFD,STK\",\n",
      "    \"sections\": [\n",
      "      {\n",
      "        \"secType\": \"STK\",\n",
      "        \"exchange\": \"SGX;\"\n",
      "      },\n",
      "      {\n",
      "        \"secType\": \"CFD\",\n",
      "        \"exchange\": \"SMART\",\n",
      "        \"conid\": \"727788981\"\n",
      "      }\n",
      "    ]\n",
      "  }\n",
      "]\n",
      "First conid found: 332794741\n",
      "Ticker returned as symbol: NIO\n"
     ]
    }
   ],
   "source": [
    "# Contract search\n",
    "string_to_search = \"NIO\"\n",
    "conid, ticker = client.contract_search(string_to_search)"
   ]
  },
  {
   "cell_type": "code",
   "execution_count": 5,
   "id": "c2f7b6b4-43bb-4840-aad7-5c2e06e801e5",
   "metadata": {},
   "outputs": [
    {
     "data": {
      "text/plain": [
       "('332794741', 'NIO')"
      ]
     },
     "execution_count": 5,
     "metadata": {},
     "output_type": "execute_result"
    }
   ],
   "source": [
    "conid, ticker"
   ]
  },
  {
   "cell_type": "code",
   "execution_count": 6,
   "id": "62104e9c-213f-4396-95f8-147cc88ee665",
   "metadata": {},
   "outputs": [],
   "source": [
    "# manual\n",
    "# \n",
    "# conid = '14217'\n",
    "# ticker= 'SIE'"
   ]
  },
  {
   "cell_type": "code",
   "execution_count": 7,
   "id": "5cd75b22-d76a-48a3-a749-70709ac723a9",
   "metadata": {},
   "outputs": [
    {
     "name": "stdout",
     "output_type": "stream",
     "text": [
      "Contract Info Request URL: https://localhost:5000/v1/api/iserver/secdef/info?conid=332794741\n",
      "HTTP Response: <Response [200]>\n",
      "Contract Info:\n",
      "{\n",
      "  \"conid\": 332794741,\n",
      "  \"ticker\": \"NIO\",\n",
      "  \"secType\": \"STK\",\n",
      "  \"listingExchange\": \"NYSE\",\n",
      "  \"exchange\": \"SMART\",\n",
      "  \"companyName\": \"NIO INC - ADR\",\n",
      "  \"currency\": \"USD\",\n",
      "  \"validExchanges\": \"SMART,AMEX,NYSE,CBOE,PHLX,ISE,CHX,ARCA,NASDAQ,DRCTEDGE,BEX,BATS,EDGEA,BYX,IEX,EDGX,FOXRIVER,PEARL,NYSENAT,LTSE,MEMX,IBEOS,OVERNIGHT,TPLUS0,PSX\",\n",
      "  \"priceRendering\": null,\n",
      "  \"maturityDate\": null,\n",
      "  \"right\": \"?\",\n",
      "  \"strike\": 0.0\n",
      "}\n"
     ]
    }
   ],
   "source": [
    "# Fetch contract info for a specific contract ID.\n",
    "contract_details = client.contract_info(conid)"
   ]
  },
  {
   "cell_type": "code",
   "execution_count": 8,
   "id": "95108851-44a6-4e1d-b2d8-b9bba633129a",
   "metadata": {},
   "outputs": [
    {
     "name": "stdout",
     "output_type": "stream",
     "text": [
      "Historical Data Request URL: https://localhost:5000/v1/api/hmds/history?conid=332794741&period=1w&bar=1d&outsideRth=true&barType=midpoint\n",
      "HTTP Status Code: 404\n",
      "Error decoding historical data JSON on attempt 1: Expecting value: line 1 column 1 (char 0)\n",
      "Raw Response: <html><body><h1>Resource not found</h1></body></html>\n",
      "Retrying after a short delay...\n",
      "HTTP Status Code: 200\n",
      "Historical Data: {\n",
      "  \"startTime\": \"20250411-10:00:00\",\n",
      "  \"startTimeVal\": 1744358400000,\n",
      "  \"endTime\": \"20250418-02:00:00\",\n",
      "  \"endTimeVal\": 1744934400000,\n",
      "  \"data\": [\n",
      "    {\n",
      "      \"t\": 1744358400000,\n",
      "      \"o\": 3.33,\n",
      "      \"c\": 3.52,\n",
      "      \"h\": 3.53,\n",
      "      \"l\": 3.3\n",
      "    },\n",
      "    {\n",
      "      \"t\": 1744617600000,\n",
      "      \"o\": 3.58,\n",
      "      \"c\": 3.61,\n",
      "      \"h\": 3.71,\n",
      "      \"l\": 3.54\n",
      "    },\n",
      "    {\n",
      "      \"t\": 1744704000000,\n",
      "      \"o\": 3.59,\n",
      "      \"c\": 3.57,\n",
      "      \"h\": 3.67,\n",
      "      \"l\": 3.53\n",
      "    },\n",
      "    {\n",
      "      \"t\": 1744790400000,\n",
      "      \"o\": 3.26,\n",
      "      \"c\": 3.52,\n",
      "      \"h\": 3.57,\n",
      "      \"l\": 3.26\n",
      "    },\n",
      "    {\n",
      "      \"t\": 1744876800000,\n",
      "      \"o\": 3.54,\n",
      "      \"c\": 3.54,\n",
      "      \"h\": 3.58,\n",
      "      \"l\": 3.49\n",
      "    }\n",
      "  ],\n",
      "  \"points\": 5,\n",
      "  \"mktDataDelay\": 0\n",
      "}\n"
     ]
    }
   ],
   "source": [
    "# Retrieve historical data for one or more contracts.\n",
    "historical = client.historical_data(conid)"
   ]
  },
  {
   "cell_type": "code",
   "execution_count": 9,
   "id": "eeaf53c0-46cd-4eb3-9398-448073002ecd",
   "metadata": {},
   "outputs": [
    {
     "name": "stdout",
     "output_type": "stream",
     "text": [
      "Query Parameters: conids=332794741&fields=31,84,86,7768\n",
      "Market Snapshot Request URL: https://localhost:5000/v1/api/iserver/marketdata/snapshot?conids=332794741&fields=31,84,86,7768\n",
      "HTTP Status Code: 200\n",
      "Market Snapshot Data:\n",
      "[\n",
      "  {\n",
      "    \"6509\": \"ZB\",\n",
      "    \"conidEx\": \"332794741\",\n",
      "    \"conid\": 332794741,\n",
      "    \"_updated\": 1745185566187,\n",
      "    \"6119\": \"q0\",\n",
      "    \"7768\": \"1\",\n",
      "    \"server_id\": \"q0\",\n",
      "    \"84\": \"3.53\",\n",
      "    \"31\": \"3.54\",\n",
      "    \"86\": \"3.54\",\n",
      "    \"6508\": \"&serviceID1=20773&serviceID2=341&serviceID3=122&serviceID4=342&serviceID5=123&serviceID6=344&serviceID7=520&serviceID8=773&serviceID9=213&serviceID10=521&serviceID11=774&serviceID12=203&serviceID13=214&serviceID14=775&serviceID15=204&serviceID16=206&serviceID17=108&serviceID18=207&serviceID19=109&serviceID20=208&serviceID21=439&serviceID22=209\"\n",
      "  }\n",
      "]\n",
      "Extracted Last Price: 3.54\n"
     ]
    }
   ],
   "source": [
    "# last_price = client.market_snapshot(\"166090175,8894\")\n",
    "\n",
    "last_price = client.market_snapshot(conid)"
   ]
  },
  {
   "cell_type": "code",
   "execution_count": 10,
   "id": "2a09c9a8-b58f-4d82-8b1b-82e67b9b6d95",
   "metadata": {},
   "outputs": [
    {
     "data": {
      "text/plain": [
       "0.8475"
      ]
     },
     "execution_count": 10,
     "metadata": {},
     "output_type": "execute_result"
    }
   ],
   "source": [
    "euro_invest = 3\n",
    "\n",
    "quantity_invest = round(euro_invest / last_price, 4)\n",
    "quantity_invest"
   ]
  },
  {
   "cell_type": "code",
   "execution_count": 11,
   "id": "2f4cf0f0-1d77-4407-a77e-4454f60aae06",
   "metadata": {},
   "outputs": [
    {
     "data": {
      "text/plain": [
       "(3.47, 3.61)"
      ]
     },
     "execution_count": 11,
     "metadata": {},
     "output_type": "execute_result"
    }
   ],
   "source": [
    "price_pct = 2\n",
    "\n",
    "price_low = last_price - round((price_pct/100)*last_price,2)\n",
    "price_high = last_price + round((price_pct/100)*last_price,2)\n",
    "price_low, price_high"
   ]
  },
  {
   "cell_type": "code",
   "execution_count": 12,
   "id": "74ba2109-66dd-4c97-b1c0-f9dc24ac03a6",
   "metadata": {},
   "outputs": [],
   "source": [
    "# reply_id = client.order_request(conid=int(conid), orderType=\"MKT\", side=\"Buy\", quantity=quantity_invest, tif=\"GTC\")"
   ]
  },
  {
   "cell_type": "code",
   "execution_count": 13,
   "id": "8b795199-2cd9-49cc-8b82-9f4527810174",
   "metadata": {},
   "outputs": [],
   "source": [
    "# reply_id = client.order_reply(reply_id)"
   ]
  },
  {
   "cell_type": "code",
   "execution_count": 14,
   "id": "14895212-f3cb-4fff-8c47-89917b9bfe04",
   "metadata": {},
   "outputs": [],
   "source": [
    "# contract_strikes = client.contract_strikes(conid, month=\"AUG25\", secType=\"OPT\", exchange=\"SMART\")"
   ]
  },
  {
   "cell_type": "code",
   "execution_count": 15,
   "id": "dca7522f-74f3-4b96-9861-7d6ee7489bd0",
   "metadata": {},
   "outputs": [],
   "source": [
    "# stop order to buy at a lower price\n",
    "\n",
    "# reply_id = client.order_request(conid=int(conid), orderType=\"STP\", side=\"Buy\", quantity=quantity_invest, tif=\"GTC\", price=price_low)"
   ]
  },
  {
   "cell_type": "code",
   "execution_count": 16,
   "id": "ae2ed04a-df07-47f5-a559-77d24164b449",
   "metadata": {},
   "outputs": [
    {
     "name": "stdout",
     "output_type": "stream",
     "text": [
      "Orders Request URL: https://localhost:5000/v1/api/iserver/account/orders\n",
      "HTTP Status Code: 200\n",
      "Filtered Orders for ticker 'NIO':\n",
      "[]\n"
     ]
    }
   ],
   "source": [
    "# check the order before the submission\n",
    "\n",
    "ticker_orders = client.get_orders(ticker=ticker) "
   ]
  },
  {
   "cell_type": "code",
   "execution_count": 17,
   "id": "2b4704ca-0996-4e30-a6f6-cb9d62f26c16",
   "metadata": {},
   "outputs": [],
   "source": [
    "# modify the order, if necessary\n",
    "\n",
    "# reply_id = client.order_modify(order_id=878692657, conid=617155599, orderType='STP', price=430, side='BUY', tif='GTC', quantity=0.0007)"
   ]
  },
  {
   "cell_type": "code",
   "execution_count": 18,
   "id": "11c8002d-09ae-4fa2-bc06-87a4ba80d446",
   "metadata": {},
   "outputs": [],
   "source": [
    "#submit the order, either with or without modifications\n",
    "\n",
    "# client.order_reply(reply_id)"
   ]
  },
  {
   "cell_type": "code",
   "execution_count": 19,
   "id": "1044c8d0-b5d7-4c8c-9d20-e381f45cad93",
   "metadata": {},
   "outputs": [],
   "source": [
    "# cancel the order, if necessary\n",
    "\n",
    "# reply_id = client.order_cancel(878692695)"
   ]
  },
  {
   "cell_type": "code",
   "execution_count": 20,
   "id": "163a6ad9-f000-4fce-9075-678c56e2b5fb",
   "metadata": {},
   "outputs": [
    {
     "name": "stdout",
     "output_type": "stream",
     "text": [
      "Orders Request URL: https://localhost:5000/v1/api/iserver/account/orders\n",
      "HTTP Status Code: 200\n",
      "All Orders Data:\n",
      "[]\n"
     ]
    }
   ],
   "source": [
    "# check all orders\n",
    "\n",
    "all_orders = client.get_orders() "
   ]
  },
  {
   "cell_type": "code",
   "execution_count": 21,
   "id": "0fddca31-b22d-421f-883f-bbb6ea4ec06e",
   "metadata": {},
   "outputs": [],
   "source": [
    "# client.get_portfolio_summary()"
   ]
  },
  {
   "cell_type": "code",
   "execution_count": 22,
   "id": "a0047de9-4682-4bb0-9418-318d4ce315d0",
   "metadata": {},
   "outputs": [],
   "source": [
    "# client.get_accounts()"
   ]
  },
  {
   "cell_type": "code",
   "execution_count": 23,
   "id": "1585d757-0b3d-4183-8011-44ce8e61b5b9",
   "metadata": {},
   "outputs": [],
   "source": [
    "# portfolio_data = client.get_portfolio_accounts()"
   ]
  },
  {
   "cell_type": "code",
   "execution_count": 24,
   "id": "3a705e3b-fa44-49bb-8736-623d2633cbea",
   "metadata": {},
   "outputs": [],
   "source": [
    "# portfolio_summary = client.get_portfolio_summary()"
   ]
  },
  {
   "cell_type": "code",
   "execution_count": 25,
   "id": "71c5625d-527d-49ec-90ce-9e0336affd07",
   "metadata": {},
   "outputs": [],
   "source": [
    "# positions_data = client.get_positions()"
   ]
  },
  {
   "cell_type": "code",
   "execution_count": 26,
   "id": "a328317d-6030-47e7-b2e9-ecd3bc84c619",
   "metadata": {},
   "outputs": [
    {
     "name": "stdout",
     "output_type": "stream",
     "text": [
      "Sending JSON payload:\n",
      "{\n",
      "  \"orders\": [\n",
      "    {\n",
      "      \"acctId\": \"U18112846\",\n",
      "      \"conid\": 332794741,\n",
      "      \"cOID\": \"NIO_BRACKET_MMDD\",\n",
      "      \"orderType\": \"MKT\",\n",
      "      \"listingExchange\": \"SMART\",\n",
      "      \"outsideRTH\": true,\n",
      "      \"side\": \"Buy\",\n",
      "      \"referrer\": \"QuickTrade\",\n",
      "      \"tif\": \"GTC\",\n",
      "      \"quantity\": 0.8475\n",
      "    },\n",
      "    {\n",
      "      \"acctId\": \"U18112846\",\n",
      "      \"conid\": 332794741,\n",
      "      \"orderType\": \"LMT\",\n",
      "      \"listingExchange\": \"SMART\",\n",
      "      \"outsideRTH\": false,\n",
      "      \"price\": 3.61,\n",
      "      \"side\": \"Sell\",\n",
      "      \"tif\": \"GTC\",\n",
      "      \"quantity\": 0.8475,\n",
      "      \"parentId\": \"NIO_BRACKET_MMDD\"\n",
      "    },\n",
      "    {\n",
      "      \"acctId\": \"U18112846\",\n",
      "      \"conid\": 332794741,\n",
      "      \"orderType\": \"STP\",\n",
      "      \"listingExchange\": \"SMART\",\n",
      "      \"outsideRTH\": false,\n",
      "      \"price\": 3.47,\n",
      "      \"side\": \"Sell\",\n",
      "      \"tif\": \"GTC\",\n",
      "      \"quantity\": 0.8475,\n",
      "      \"parentId\": \"NIO_BRACKET_MMDD\"\n",
      "    }\n",
      "  ]\n",
      "}\n",
      "Status code: 200\n",
      "Response Data: {\n",
      "  \"error\": \"invalid order attribute : Outside Regular Trading Hours\"\n",
      "}\n",
      "Unexpected response format\n"
     ]
    }
   ],
   "source": [
    "client.order_bracket(\n",
    "            ticker=ticker,\n",
    "            conid=conid,\n",
    "            quantity=quantity_invest,\n",
    "            primary_side=\"BUY\",\n",
    "            primary_order_type=\"MKT\",\n",
    "            profit_target_price=price_high,\n",
    "            profit_order_type=\"LMT\",\n",
    "            stop_loss_price=price_low,\n",
    "            stop_order_type=\"STP\",\n",
    "            tif=\"GTC\",\n",
    "            listing_exchange=\"SMART\",\n",
    "            outside_rth=True,\n",
    "            referrer=\"QuickTrade\",\n",
    "            is_single_group=False \n",
    "            )"
   ]
  },
  {
   "cell_type": "code",
   "execution_count": null,
   "id": "2ea49910-5187-449c-8d68-87ca9873b22e",
   "metadata": {},
   "outputs": [],
   "source": []
  },
  {
   "cell_type": "code",
   "execution_count": null,
   "id": "24f1dcb2-75ed-45df-b00b-c50dc87dcf1b",
   "metadata": {},
   "outputs": [],
   "source": []
  },
  {
   "cell_type": "code",
   "execution_count": null,
   "id": "7ac2d0c0-2669-43af-94f5-730a6d7860fe",
   "metadata": {},
   "outputs": [],
   "source": []
  },
  {
   "cell_type": "code",
   "execution_count": null,
   "id": "e44537d5-bbfc-4517-9e24-e6792f7e8092",
   "metadata": {},
   "outputs": [],
   "source": []
  }
 ],
 "metadata": {
  "kernelspec": {
   "display_name": "Python 3 (ipykernel)",
   "language": "python",
   "name": "python3"
  },
  "language_info": {
   "codemirror_mode": {
    "name": "ipython",
    "version": 3
   },
   "file_extension": ".py",
   "mimetype": "text/x-python",
   "name": "python",
   "nbconvert_exporter": "python",
   "pygments_lexer": "ipython3",
   "version": "3.10.10"
  }
 },
 "nbformat": 4,
 "nbformat_minor": 5
}
