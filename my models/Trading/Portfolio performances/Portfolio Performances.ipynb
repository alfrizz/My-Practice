{
 "cells": [
  {
   "cell_type": "markdown",
   "id": "40ad431e-384b-4156-bab6-971bc9cc348e",
   "metadata": {},
   "source": [
    "Portfolio Simulation - Part I\n",
    "\n",
    "In the next few exercises, you will calculate the expected returns of a stock portfolio & characterize its uncertainty.\n",
    "\n",
    "Suppose you have invested $10,000 in your portfolio comprising of multiple stocks. You want to evaluate the portfolio's performance over 10 years. You can tweak your overall expected rate of return and volatility (standard deviation of the rate of return). Assume the rate of return follows a normal distribution.\n",
    "\n",
    "First, let's write a function that takes the principal (initial investment), number of years, expected rate of return and volatility as inputs and returns the portfolio's total value after 10 years.\n",
    "\n",
    "Upon completion of this exercise, you will have a function you can call to determine portfolio performance."
   ]
  },
  {
   "cell_type": "code",
   "execution_count": 2,
   "id": "272740f3-0fb2-4822-8c73-3d1f876707ea",
   "metadata": {},
   "outputs": [],
   "source": [
    "import numpy as np"
   ]
  },
  {
   "cell_type": "code",
   "execution_count": 31,
   "id": "d4216ffb-af95-403b-b930-9bb6bf20b8d7",
   "metadata": {},
   "outputs": [
    {
     "name": "stdout",
     "output_type": "stream",
     "text": [
      "Portfolio return after 5 years = 1697.1893179968833\n"
     ]
    }
   ],
   "source": [
    "# rates is a Normal random variable and has size equal to number of years\n",
    "# In the function definition, accept four arguments: number of years yrs, the expected rate of return avg_return, volatility sd_of_return, and principal (initial investment) principal as inputs.\n",
    "\n",
    "def portfolio_return(yrs, avg_return, sd_of_return, principal):\n",
    "    # np.random.seed(123)\n",
    "    rates = np.random.normal(loc=avg_return, scale=sd_of_return, size=yrs) # Simulate rates of return for each year as a normal random variable.\n",
    "    # Calculate the return at the end of the period\n",
    "    end_return = principal\n",
    "    for x in rates:\n",
    "        end_return = end_return*(1+x)\n",
    "    return end_return\n",
    "\n",
    "result = portfolio_return(yrs = 5, avg_return = 0.07, sd_of_return = 0.15, principal = 1000)\n",
    "print(\"Portfolio return after 5 years = {}\".format(result))"
   ]
  },
  {
   "cell_type": "markdown",
   "id": "1e504fb8-80ea-48c8-97a8-31707ade5148",
   "metadata": {},
   "source": [
    "Portfolio Simulation - Part II\n",
    "\n",
    "Now we will use the simulation function you built to evaluate 10-year returns.\n",
    "\n",
    "Your stock-heavy portfolio has an initial investment of $10,000, an expected return of 7% and a volatility of 30%. You want to get a 95% confidence interval of what your investment will be worth in 10 years. We will simulate multiple samples of 10-year returns and calculate the confidence intervals on the distribution of returns.\n",
    "\n",
    "By the end of this exercise, you will have run a complete portfolio simulation."
   ]
  },
  {
   "cell_type": "code",
   "execution_count": 45,
   "id": "24bdb053-2596-47dd-9a89-612e78bbcc5e",
   "metadata": {},
   "outputs": [
    {
     "name": "stdout",
     "output_type": "stream",
     "text": [
      "95% CI of Returns: Lower = 1287.0814006574037, Upper = 77215.81298467751\n"
     ]
    }
   ],
   "source": [
    "# Run 1,000 iterations and store the results\n",
    "sims, rets = 1000, []\n",
    "\n",
    "for i in range(sims):\n",
    "    rets.append(portfolio_return(yrs = 10, avg_return = 0.07, \n",
    "                                 sd_of_return = 0.3, principal = 10000))\n",
    "\n",
    "# Calculate the 95% CI\n",
    "lower_ci = np.percentile(rets, 2.5)\n",
    "upper_ci = np.percentile(rets, 97.5)\n",
    "print(\"95% CI of Returns: Lower = {}, Upper = {}\".format(lower_ci, upper_ci))"
   ]
  },
  {
   "cell_type": "markdown",
   "id": "dcc3d7dc-fe9a-4a44-949a-88555848afd6",
   "metadata": {},
   "source": [
    "Portfolio Simulation - Part III\n",
    "\n",
    "Previously, we ran a complete simulation to get a distribution for 10-year returns. Now we will use simulation for decision making.\n",
    "\n",
    "Let's go back to your stock-heavy portfolio with an expected return of 7% and a volatility of 30%. You have the choice of rebalancing your portfolio with some bonds such that the expected return is 4% & volatility is 10%. You have a principal of $10,000. You want to select a strategy based on how much your portfolio will be worth in 10 years. Let's simulate returns for both the portfolios and choose based on the least amount you can expect with 75% probability (25th percentile).\n",
    "\n",
    "Upon completion, you will know how to use a portfolio simulation for investment decisions."
   ]
  },
  {
   "cell_type": "code",
   "execution_count": 85,
   "id": "dab55264-557d-4e2e-be7c-eea802893faf",
   "metadata": {},
   "outputs": [
    {
     "name": "stdout",
     "output_type": "stream",
     "text": [
      "Sticking to stocks gets you an additional return of -5358.331495036977\n"
     ]
    }
   ],
   "source": [
    "rets_stock, rets_bond = [], []\n",
    "\n",
    "for i in range(sims):\n",
    "    rets_stock.append(portfolio_return(yrs = 10, avg_return = 0.07, sd_of_return = 0.3, principal = 10000))\n",
    "    rets_bond.append(portfolio_return(yrs = 10, avg_return = 0.04, sd_of_return = 0.1, principal = 10000))\n",
    "\n",
    "# Calculate the 25th percentile of the distributions and the amount you'd lose or gain\n",
    "rets_stock_perc = np.percentile(rets_stock, 25)\n",
    "rets_bond_perc = np.percentile(rets_bond, 25)\n",
    "additional_returns = rets_stock_perc - rets_bond_perc\n",
    "print(\"Sticking to stocks gets you an additional return of {}\".format(additional_returns))"
   ]
  },
  {
   "cell_type": "code",
   "execution_count": null,
   "id": "1b705d72-573d-42d4-8639-d2fbbe067554",
   "metadata": {},
   "outputs": [],
   "source": []
  },
  {
   "cell_type": "code",
   "execution_count": null,
   "id": "3080684e-c0b0-43c5-a2b6-9a41ea36b68b",
   "metadata": {},
   "outputs": [],
   "source": []
  },
  {
   "cell_type": "code",
   "execution_count": null,
   "id": "0c609a03-9d83-453f-ae20-f0a4b522bcb4",
   "metadata": {},
   "outputs": [],
   "source": []
  },
  {
   "cell_type": "code",
   "execution_count": null,
   "id": "0140ca11-4510-4147-a117-6ec3bb84985d",
   "metadata": {},
   "outputs": [],
   "source": []
  },
  {
   "cell_type": "code",
   "execution_count": null,
   "id": "c5b23692-3143-43a7-bd41-1259b1063b79",
   "metadata": {},
   "outputs": [],
   "source": []
  }
 ],
 "metadata": {
  "kernelspec": {
   "display_name": "Py310",
   "language": "python",
   "name": "py310"
  },
  "language_info": {
   "codemirror_mode": {
    "name": "ipython",
    "version": 3
   },
   "file_extension": ".py",
   "mimetype": "text/x-python",
   "name": "python",
   "nbconvert_exporter": "python",
   "pygments_lexer": "ipython3",
   "version": "3.10.11"
  }
 },
 "nbformat": 4,
 "nbformat_minor": 5
}
