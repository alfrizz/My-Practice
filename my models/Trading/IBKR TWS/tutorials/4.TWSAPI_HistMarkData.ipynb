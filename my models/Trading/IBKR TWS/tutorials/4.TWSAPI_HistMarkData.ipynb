{
 "cells": [
  {
   "cell_type": "markdown",
   "id": "562af239-4e56-46c1-b8b3-cc4f0eced704",
   "metadata": {},
   "source": [
    "Code Snippet – Historical Market Data\n",
    "\n",
    "This code example shows how to request historical bars (aggregated data) for a given contract. In this instance, we still use the AAPL stock contract. \n",
    "\n",
    "The callback historicalData prints each bar (which can include open, high, low, close, volume, etc.). \n",
    "\n",
    "The historicalDataEnd callback informs you when all data has been returned and then cancels the historical data request. \n",
    "\n",
    "Key parameters include:\n",
    "\n",
    "endDateTime: “20250501 10:00:00 US/Eastern” indicates the end of the requested data.\n",
    "\n",
    "durationStr: “1 D” means one day’s worth of data.\n",
    "\n",
    "barSizeSetting: “1 hour” implies the bar interval.\n",
    "\n",
    "whatToShow: “TRADES” to request trade data.\n",
    "\n",
    "useRTH & formatDate: Both set to 1 to use Regular Trading Hours and human‑readable date format.\n",
    "\n",
    "keepUpToDate: False, so the request returns a snapshot rather than continuously updating data."
   ]
  },
  {
   "cell_type": "code",
   "execution_count": 1,
   "id": "c76ce733-c2cd-4f86-8015-326c251a2415",
   "metadata": {},
   "outputs": [],
   "source": [
    "from ibapi.client import EClient  # Client interface to communicate with TWS/IB Gateway\n",
    "from ibapi.wrapper import EWrapper  # Callback interface to handle TWS messages\n",
    "from ibapi.contract import Contract  # Object to define a tradable instrument\n",
    "import datetime                      # For converting epoch time to a human-readable datetime\n",
    "import time                          # To pause main thread to allow data flow\n",
    "import threading                     # Run the API’s message loop in a separate thread\n",
    "import logging\n",
    "\n",
    "# Configure logging to output INFO-level messages on the console\n",
    "logging.basicConfig(\n",
    "    level=logging.INFO,\n",
    "    format=\"%(asctime)s [%(levelname)s] %(message)s\"\n",
    ")\n"
   ]
  },
  {
   "cell_type": "code",
   "execution_count": 2,
   "id": "62c9758d-cd2b-4d0e-9279-a9837a75f549",
   "metadata": {},
   "outputs": [],
   "source": [
    "class TestApp(EClient, EWrapper):\n",
    "    def __init__(self):\n",
    "        \"\"\"\n",
    "        Initialize the TestApp instance by setting up the EClient and EWrapper;\n",
    "        this instance will handle sending requests and processing responses.\n",
    "        \"\"\"\n",
    "        EClient.__init__(self, self)\n",
    "        # Starting value for generating unique request IDs.\n",
    "        self.orderId = 0\n",
    "\n",
    "    def nextValidId(self, orderId):\n",
    "        \"\"\"\n",
    "        Callback called by TWS when the connection is established. It provides\n",
    "        the next valid ID, which will be used as the starting point for our requests.\n",
    "        \"\"\"\n",
    "        self.orderId = orderId\n",
    "\n",
    "    def nextId(self):\n",
    "        \"\"\"\n",
    "        Update and return the next request ID. Ensures every request is unique.\n",
    "        \"\"\"\n",
    "        self.orderId += 1\n",
    "        return self.orderId\n",
    "\n",
    "    def error(self, reqId, errorTime, errorCode, errorString, advancedOrderReject):\n",
    "        \"\"\"\n",
    "        Callback for any errors published by TWS. Prints any errors that occur, including\n",
    "        details such as reqId, error code, and error string.\n",
    "        \"\"\"\n",
    "        print(f\"Error - reqId: {reqId},  errorTime: {errorTime}, errorCode: {errorCode}, errorString: {errorString}, OrderReject: {advancedOrderReject}\")\n",
    "\n",
    "\n",
    "    def historicalData(self, reqId, bar):\n",
    "        \"\"\"\n",
    "        Callback for historical bar data.\n",
    "        \n",
    "        Arguments:\n",
    "          reqId - The request ID of this historical data request.\n",
    "          bar   - An object containing the aggregated bar data (e.g., open, high, low, close, volume).\n",
    "        \n",
    "        Here, we print the request ID along with the full bar object. In production, you might\n",
    "        want to extract specific fields (bar.open, bar.close, etc.) for processing.\n",
    "        \"\"\"\n",
    "        print(f\"Request ID: {reqId}, Bar Data: {bar}\")\n",
    "\n",
    "    def historicalDataEnd(self, reqId, start, end):\n",
    "        \"\"\"\n",
    "        Callback indicating that all historical data bars for the request have been received.\n",
    "        \n",
    "        Arguments:\n",
    "          reqId - The request ID.\n",
    "          start - The start date/time of the data returned.\n",
    "          end   - The end date/time of the data returned.\n",
    "          \n",
    "        After printing a message about the completed request, we cancel the historical data request.\n",
    "        \"\"\"\n",
    "        print(f\"Historical Data Ended for Request ID {reqId}. Data starts at {start} and ends at {end}\")\n",
    "        self.cancelHistoricalData(reqId)\n",
    "\n",
    "\n"
   ]
  },
  {
   "cell_type": "code",
   "execution_count": 3,
   "id": "4a5b8d53-a9ac-4c28-bcc1-248a29319943",
   "metadata": {},
   "outputs": [
    {
     "name": "stderr",
     "output_type": "stream",
     "text": [
      "2025-05-01 18:31:10,936 [INFO] sent startApi\n",
      "2025-05-01 18:31:10,938 [INFO] REQUEST startApi {}\n",
      "2025-05-01 18:31:10,939 [INFO] SENDING startApi b'\\x00\\x00\\x00\\t\\x00\\x00\\x00G2\\x004\\x00\\x00'\n",
      "2025-05-01 18:31:10,941 [INFO] ANSWER connectAck {}\n",
      "2025-05-01 18:31:10,943 [INFO] ANSWER openOrderEnd {}\n",
      "2025-05-01 18:31:10,979 [INFO] ANSWER managedAccounts {'accountsList': 'U18112846'}\n"
     ]
    },
    {
     "name": "stdout",
     "output_type": "stream",
     "text": [
      "Error - reqId: -1,  errorTime: 1746117091130, errorCode: 2104, errorString: Market data farm connection is OK:hfarm, OrderReject: \n",
      "Error - reqId: -1,  errorTime: 1746117091130, errorCode: 2104, errorString: Market data farm connection is OK:usfarm.nj, OrderReject: \n",
      "Error - reqId: -1,  errorTime: 1746117091130, errorCode: 2104, errorString: Market data farm connection is OK:jfarm, OrderReject: \n",
      "Error - reqId: -1,  errorTime: 1746117091130, errorCode: 2104, errorString: Market data farm connection is OK:usfuture, OrderReject: \n",
      "Error - reqId: -1,  errorTime: 1746117091130, errorCode: 2104, errorString: Market data farm connection is OK:eufarm, OrderReject: \n",
      "Error - reqId: -1,  errorTime: 1746117091130, errorCode: 2104, errorString: Market data farm connection is OK:cashfarm, OrderReject: \n",
      "Error - reqId: -1,  errorTime: 1746117091130, errorCode: 2104, errorString: Market data farm connection is OK:eufarmnj, OrderReject: \n",
      "Error - reqId: -1,  errorTime: 1746117091130, errorCode: 2104, errorString: Market data farm connection is OK:usfarm, OrderReject: \n",
      "Error - reqId: -1,  errorTime: 1746117091131, errorCode: 2106, errorString: HMDS data farm connection is OK:euhmds, OrderReject: \n",
      "Error - reqId: -1,  errorTime: 1746117091131, errorCode: 2106, errorString: HMDS data farm connection is OK:fundfarm, OrderReject: \n",
      "Error - reqId: -1,  errorTime: 1746117091131, errorCode: 2106, errorString: HMDS data farm connection is OK:ushmds, OrderReject: \n",
      "Error - reqId: -1,  errorTime: 1746117091131, errorCode: 2158, errorString: Sec-def data farm connection is OK:secdefeu, OrderReject: \n"
     ]
    }
   ],
   "source": [
    "port = 7496  # Typical port for connecting to TWS (7496 for IB Gateway live trading)\n",
    "clientId = 4\n",
    "\n",
    "# Create an instance of the TestApp and connect to TWS.\n",
    "app = TestApp()\n",
    "app.connect(\"127.0.0.1\", port, clientId)\n",
    "# Start the API processing loop in a separate thread so that it does not block the main thread.\n",
    "threading.Thread(target=app.run).start()\n",
    "time.sleep(1)  # Pause briefly to ensure a reliable connection before making requests\n"
   ]
  },
  {
   "cell_type": "code",
   "execution_count": 4,
   "id": "4a2870ce-3546-43cc-b288-881712ad4b3e",
   "metadata": {},
   "outputs": [
    {
     "data": {
      "text/plain": [
       "2317558983232: ConId: 0, Symbol: AAPL, SecType: STK, LastTradeDateOrContractMonth: , Strike: , Right: , Multiplier: , Exchange: SMART, PrimaryExchange: , Currency: USD, LocalSymbol: , TradingClass: , IncludeExpired: False, SecIdType: , SecId: , Description: , IssuerId: Combo:"
      ]
     },
     "execution_count": 4,
     "metadata": {},
     "output_type": "execute_result"
    }
   ],
   "source": [
    "# Define the contract for Apple Inc. stock.\n",
    "mycontract = Contract()\n",
    "mycontract.symbol = \"AAPL\"      # Ticker\n",
    "mycontract.secType = \"STK\"        # Stock\n",
    "mycontract.exchange = \"SMART\"     # IB Smart Routing\n",
    "mycontract.currency = \"USD\"       # US Dollars\n",
    "\n",
    "mycontract"
   ]
  },
  {
   "cell_type": "code",
   "execution_count": 5,
   "id": "c5aea407-9afa-4cf3-b621-67c0ad711c3d",
   "metadata": {},
   "outputs": [
    {
     "name": "stderr",
     "output_type": "stream",
     "text": [
      "2025-05-01 18:31:11,985 [INFO] REQUEST reqHistoricalData {'reqId': 2, 'contract': 2317558983232: ConId: 0, Symbol: AAPL, SecType: STK, LastTradeDateOrContractMonth: , Strike: , Right: , Multiplier: , Exchange: SMART, PrimaryExchange: , Currency: USD, LocalSymbol: , TradingClass: , IncludeExpired: False, SecIdType: , SecId: , Description: , IssuerId: Combo:, 'endDateTime': '', 'durationStr': '1 W', 'barSizeSetting': '1 hour', 'whatToShow': 'TRADES', 'useRTH': 1, 'formatDate': 1, 'keepUpToDate': False, 'chartOptions': []}\n",
      "2025-05-01 18:31:11,986 [INFO] SENDING reqHistoricalData b'\\x00\\x00\\x00>\\x00\\x00\\x00\\x142\\x000\\x00AAPL\\x00STK\\x00\\x00\\x00\\x00\\x00SMART\\x00\\x00USD\\x00\\x00\\x000\\x00\\x001 hour\\x001 W\\x001\\x00TRADES\\x001\\x000\\x00\\x00'\n",
      "2025-05-01 18:31:12,258 [INFO] REQUEST cancelHistoricalData {'reqId': 2}\n",
      "2025-05-01 18:31:12,260 [INFO] SENDING cancelHistoricalData b'\\x00\\x00\\x00\\x08\\x00\\x00\\x00\\x191\\x002\\x00'\n"
     ]
    },
    {
     "name": "stdout",
     "output_type": "stream",
     "text": [
      "Request ID: 2, Bar Data: Date: 20250425 09:30:00 US/Eastern, Open: 206.35, High: 209.07, Low: 206.2, Close: 208.21, Volume: 3680980, WAP: 207.791, BarCount: 17698\n",
      "Request ID: 2, Bar Data: Date: 20250425 10:00:00 US/Eastern, Open: 208.23, High: 209.25, Low: 206.51, Close: 207.31, Volume: 3780521, WAP: 207.62, BarCount: 20456\n",
      "Request ID: 2, Bar Data: Date: 20250425 11:00:00 US/Eastern, Open: 207.31, High: 207.64, Low: 206.66, Close: 207.5, Volume: 2157458, WAP: 207.195, BarCount: 12266\n",
      "Request ID: 2, Bar Data: Date: 20250425 12:00:00 US/Eastern, Open: 207.49, High: 208.9, Low: 207.47, Close: 208.68, Volume: 1952486, WAP: 208.376, BarCount: 10705\n",
      "Request ID: 2, Bar Data: Date: 20250425 13:00:00 US/Eastern, Open: 208.66, High: 209.42, Low: 207.33, Close: 208.1, Volume: 2529476, WAP: 208.64, BarCount: 13838\n",
      "Request ID: 2, Bar Data: Date: 20250425 14:00:00 US/Eastern, Open: 208.09, High: 208.83, Low: 207.9, Close: 208.38, Volume: 1539023, WAP: 208.525, BarCount: 9594\n",
      "Request ID: 2, Bar Data: Date: 20250425 15:00:00 US/Eastern, Open: 208.38, High: 209.75, Low: 207.87, Close: 209.23, Volume: 4209686, WAP: 208.832, BarCount: 24319\n",
      "Request ID: 2, Bar Data: Date: 20250428 09:30:00 US/Eastern, Open: 210.06, High: 211.5, Low: 208.95, Close: 209.39, Volume: 4100286, WAP: 210.095, BarCount: 19809\n",
      "Request ID: 2, Bar Data: Date: 20250428 10:00:00 US/Eastern, Open: 209.39, High: 209.82, Low: 208.73, Close: 209.04, Volume: 3198018, WAP: 209.235, BarCount: 17346\n",
      "Request ID: 2, Bar Data: Date: 20250428 11:00:00 US/Eastern, Open: 209.03, High: 209.53, Low: 207.58, Close: 207.96, Volume: 2474776, WAP: 208.395, BarCount: 14224\n",
      "Request ID: 2, Bar Data: Date: 20250428 12:00:00 US/Eastern, Open: 207.95, High: 208.73, Low: 207.46, Close: 208.45, Volume: 1703630, WAP: 208.04, BarCount: 9083\n",
      "Request ID: 2, Bar Data: Date: 20250428 13:00:00 US/Eastern, Open: 208.43, High: 209.86, Low: 207.91, Close: 209.75, Volume: 1836726, WAP: 208.806, BarCount: 10470\n",
      "Request ID: 2, Bar Data: Date: 20250428 14:00:00 US/Eastern, Open: 209.73, High: 210.1, Low: 209.46, Close: 209.84, Volume: 1887764, WAP: 209.857, BarCount: 10694\n",
      "Request ID: 2, Bar Data: Date: 20250428 15:00:00 US/Eastern, Open: 209.87, High: 211.5, Low: 209.8, Close: 210.09, Volume: 3835850, WAP: 210.584, BarCount: 19916\n",
      "Request ID: 2, Bar Data: Date: 20250429 09:30:00 US/Eastern, Open: 208.8, High: 211.25, Low: 208.37, Close: 210.8, Volume: 2525333, WAP: 209.89, BarCount: 11555\n",
      "Request ID: 2, Bar Data: Date: 20250429 10:00:00 US/Eastern, Open: 210.81, High: 212.24, Low: 210.33, Close: 211.61, Volume: 3492141, WAP: 211.432, BarCount: 18960\n",
      "Request ID: 2, Bar Data: Date: 20250429 11:00:00 US/Eastern, Open: 211.62, High: 211.8, Low: 210.4, Close: 210.62, Volume: 1925973, WAP: 211.001, BarCount: 10407\n",
      "Request ID: 2, Bar Data: Date: 20250429 12:00:00 US/Eastern, Open: 210.62, High: 211.33, Low: 209.35, Close: 209.73, Volume: 1901787, WAP: 210.432, BarCount: 10745\n",
      "Request ID: 2, Bar Data: Date: 20250429 13:00:00 US/Eastern, Open: 209.74, High: 211.75, Low: 209.5, Close: 211.58, Volume: 1719094, WAP: 210.605, BarCount: 9984\n",
      "Request ID: 2, Bar Data: Date: 20250429 14:00:00 US/Eastern, Open: 211.59, High: 211.97, Low: 211.16, Close: 211.3, Volume: 1606173, WAP: 211.558, BarCount: 9482\n",
      "Request ID: 2, Bar Data: Date: 20250429 15:00:00 US/Eastern, Open: 211.3, High: 211.9, Low: 210.95, Close: 211.24, Volume: 3474596, WAP: 211.335, BarCount: 20511\n",
      "Request ID: 2, Bar Data: Date: 20250430 09:30:00 US/Eastern, Open: 209.26, High: 209.72, Low: 206.67, Close: 207.14, Volume: 3121170, WAP: 208.175, BarCount: 14389\n",
      "Request ID: 2, Bar Data: Date: 20250430 10:00:00 US/Eastern, Open: 207.19, High: 209.75, Low: 207.14, Close: 209.64, Volume: 2871603, WAP: 208.752, BarCount: 15268\n",
      "Request ID: 2, Bar Data: Date: 20250430 11:00:00 US/Eastern, Open: 209.59, High: 211.13, Low: 209.56, Close: 211.05, Volume: 2370732, WAP: 210.424, BarCount: 13329\n",
      "Request ID: 2, Bar Data: Date: 20250430 12:00:00 US/Eastern, Open: 211.04, High: 211.36, Low: 210.22, Close: 210.92, Volume: 1762620, WAP: 210.843, BarCount: 9391\n",
      "Request ID: 2, Bar Data: Date: 20250430 13:00:00 US/Eastern, Open: 210.92, High: 211.85, Low: 209.8, Close: 211.1, Volume: 1817259, WAP: 211.025, BarCount: 9500\n",
      "Request ID: 2, Bar Data: Date: 20250430 14:00:00 US/Eastern, Open: 211.13, High: 212.97, Low: 210.31, Close: 210.65, Volume: 2706787, WAP: 211.228, BarCount: 14745\n",
      "Request ID: 2, Bar Data: Date: 20250430 15:00:00 US/Eastern, Open: 210.66, High: 213.58, Low: 210.05, Close: 212.49, Volume: 6213583, WAP: 212.15, BarCount: 33255\n",
      "Request ID: 2, Bar Data: Date: 20250501 09:30:00 US/Eastern, Open: 209.08, High: 212.5, Low: 208.9, Close: 210.68, Volume: 5085877, WAP: 210.943, BarCount: 23634\n",
      "Request ID: 2, Bar Data: Date: 20250501 10:00:00 US/Eastern, Open: 210.8, High: 213.09, Low: 209.71, Close: 212.89, Volume: 4807883, WAP: 211.481, BarCount: 26600\n",
      "Request ID: 2, Bar Data: Date: 20250501 11:00:00 US/Eastern, Open: 212.89, High: 214.27, Low: 211.41, Close: 211.58, Volume: 3584587, WAP: 212.844, BarCount: 19698\n",
      "Request ID: 2, Bar Data: Date: 20250501 12:00:00 US/Eastern, Open: 211.6, High: 212.77, Low: 211.53, Close: 212.11, Volume: 778783, WAP: 212.222, BarCount: 4068\n",
      "Historical Data Ended for Request ID 2. Data starts at 20250424 12:31:32 US/Eastern and ends at 20250501 12:31:32 US/Eastern\n",
      "Error - reqId: 2,  errorTime: 1746117092414, errorCode: 366, errorString: No historical data query found for ticker id:2, OrderReject: \n"
     ]
    }
   ],
   "source": [
    "# Request historical data for AAPL.\n",
    "# The parameters are:\n",
    "req_id = app.nextId()\n",
    "app.reqHistoricalData(req_id, # A unique request ID generated using nextId()\n",
    "                      mycontract, # The contract for which we want historical bars (mycontract)\n",
    "                      \"\", # \"20250501 10:00:00 US/Eastern\", # endDateTime; if empty, it defaults to now\n",
    "                      \"1 W\", # durationStr: \"1 W\" to specify one week's worth of data\n",
    "                      \"1 hour\", # barSizeSetting: \"1 hour\" to aggregate data into 1-hour bars\n",
    "                      \"TRADES\", # whatToShow: \"TRADES\" indicating we want trade-related data\n",
    "                      1, # useRTH: 1 (to restrict the data to regular trading hours)\n",
    "                      1, # formatDate: 1 (to format date/time in a human-readable string)\n",
    "                      False, # keepUpToDate: False (we want a snapshot, not continuous updates)\n",
    "                      []) # chartOptions: [] (no additional options; internal use only)"
   ]
  },
  {
   "cell_type": "code",
   "execution_count": null,
   "id": "ba46f8e4-209e-48ec-ab53-1edd6ef18816",
   "metadata": {},
   "outputs": [],
   "source": []
  },
  {
   "cell_type": "code",
   "execution_count": null,
   "id": "19e3c785-8b9e-4a31-bc60-9bd5c2d2b2c2",
   "metadata": {},
   "outputs": [],
   "source": []
  },
  {
   "cell_type": "code",
   "execution_count": null,
   "id": "6aec4ede-7719-43d8-8c5b-66ddaa560a3b",
   "metadata": {},
   "outputs": [],
   "source": []
  },
  {
   "cell_type": "code",
   "execution_count": null,
   "id": "8dffa80c-a3d2-4bfe-b3f8-3ab2599ee6dd",
   "metadata": {},
   "outputs": [],
   "source": []
  }
 ],
 "metadata": {
  "kernelspec": {
   "display_name": "Python 3 (ipykernel)",
   "language": "python",
   "name": "python3"
  },
  "language_info": {
   "codemirror_mode": {
    "name": "ipython",
    "version": 3
   },
   "file_extension": ".py",
   "mimetype": "text/x-python",
   "name": "python",
   "nbconvert_exporter": "python",
   "pygments_lexer": "ipython3",
   "version": "3.10.10"
  }
 },
 "nbformat": 4,
 "nbformat_minor": 5
}
