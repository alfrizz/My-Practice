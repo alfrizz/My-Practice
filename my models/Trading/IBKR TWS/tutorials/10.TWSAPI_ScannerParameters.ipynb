{
 "cells": [
  {
   "cell_type": "code",
   "execution_count": 1,
   "id": "208da3ea-e74e-43f1-92ed-1d14b940a659",
   "metadata": {},
   "outputs": [],
   "source": [
    "\"\"\"\n",
    "This sample demonstrates how to request and save the market scanner parameters from TWS/IB Gateway\n",
    "using the IB API. Scanner parameters are returned as an XML string containing a comprehensive list \n",
    "of scanning tags, filters, and available codes. This XML data is typically very large (around 2 MB),\n",
    "so we save it to a file rather than printing it to the terminal.\n",
    "\"\"\"\n",
    "\n",
    "import os\n",
    "from ibapi.client import EClient\n",
    "from ibapi.wrapper import EWrapper\n"
   ]
  },
  {
   "cell_type": "code",
   "execution_count": 2,
   "id": "f1371fe9-07fc-4071-a20a-1c183ccc8525",
   "metadata": {},
   "outputs": [],
   "source": [
    "\n",
    "class TestApp(EClient, EWrapper):\n",
    "    \"\"\"\n",
    "    TestApp class combining EClient (for making API requests) and EWrapper (for handling callbacks).\n",
    "    \n",
    "    This sample specifically demonstrates how to request the market scanner parameters.\n",
    "    \"\"\"\n",
    "    def __init__(self):\n",
    "        # Initialize EClient with a reference to this instance as its wrapper.\n",
    "        EClient.__init__(self, self)\n",
    "        \n",
    "    def nextValidId(self, orderId: int):\n",
    "        \"\"\"\n",
    "        Callback method called by TWS when a valid order ID is received.\n",
    "        \n",
    "        This is our cue to begin sending our request—in this case, for scanner parameters.\n",
    "        \n",
    "        Args:\n",
    "            orderId (int): The next valid order ID (not used here, but required for the callback).\n",
    "        \"\"\"\n",
    "        # Request market scanner parameters. The result will be returned asynchronously\n",
    "        # in the scannerParameters callback method.\n",
    "        self.reqScannerParameters()\n",
    "\n",
    "    def scannerParameters(self, xml: str):\n",
    "        \"\"\"\n",
    "        Callback method that receives the scanner parameters as an XML string.\n",
    "        \n",
    "        Args:\n",
    "            xml (str): The XML string containing available scanner parameters and their values.\n",
    "            \n",
    "        The XML is saved to a specified directory since it is too large for normal terminal output.\n",
    "        \"\"\"\n",
    "        # Define the file path where the scanner parameters XML will be saved.\n",
    "        file_path = \"scanner.xml\"\n",
    "        \n",
    "        # Open the file in write mode and save the XML string.\n",
    "        with open(file_path, 'w') as file:\n",
    "            file.write(xml)\n",
    "        \n",
    "        # Notify the user that the scanner parameters have been successfully received and saved.\n",
    "        print(\"Scanner parameters received and saved to:\", file_path)\n"
   ]
  },
  {
   "cell_type": "markdown",
   "id": "76f13d76-97b9-46b8-bd57-903f94454dc3",
   "metadata": {},
   "source": [
    "In summary, the XML file is a comprehensive reference document that lists and describes:\n",
    "\n",
    "- The available instruments and their types,\n",
    "\n",
    "- The markets/exchanges (via location codes) you can target,\n",
    "\n",
    "- The predefined scan codes (or scanning strategies) TWS offers, and\n",
    "\n",
    "- A full set of filter keys (with default values and ranges) that let you refine your market scanning criteria.\n",
    "\n",
    "This file is especially useful for developers as a “lookup table” when constructing scanner subscriptions so that you can experiment with different filters and ensure your API requests follow the allowed conventions defined by TWS."
   ]
  },
  {
   "cell_type": "code",
   "execution_count": null,
   "id": "3b7d10fe-c55e-4cd2-9379-4812e265dc00",
   "metadata": {},
   "outputs": [
    {
     "name": "stderr",
     "output_type": "stream",
     "text": [
      "ERROR -1 1746631147343 2104 Market data farm connection is OK:cashfarm\n",
      "ERROR -1 1746631147343 2104 Market data farm connection is OK:usfarm.nj\n",
      "ERROR -1 1746631147343 2104 Market data farm connection is OK:eufarm\n",
      "ERROR -1 1746631147345 2104 Market data farm connection is OK:usopt\n",
      "ERROR -1 1746631147345 2104 Market data farm connection is OK:usfarm\n",
      "ERROR -1 1746631147345 2106 HMDS data farm connection is OK:euhmds\n",
      "ERROR -1 1746631147345 2106 HMDS data farm connection is OK:fundfarm\n",
      "ERROR -1 1746631147345 2106 HMDS data farm connection is OK:ushmds\n",
      "ERROR -1 1746631147345 2158 Sec-def data farm connection is OK:secdefeu\n"
     ]
    },
    {
     "name": "stdout",
     "output_type": "stream",
     "text": [
      "Scanner parameters received and saved to: scanner.xml\n"
     ]
    },
    {
     "name": "stderr",
     "output_type": "stream",
     "text": [
      "ERROR -1 1746650525013 2108 Market data farm connection is inactive but should be available upon demand.usopt\n",
      "ERROR -1 1746650525013 2108 Market data farm connection is inactive but should be available upon demand.usopt\n"
     ]
    }
   ],
   "source": [
    "\"\"\"\n",
    "Main function for setting up the TestApp, connecting to TWS, and processing API data.\n",
    "\n",
    "This function:\n",
    "  - Instantiates the TestApp.\n",
    "  - Connects to TWS/IB Gateway.\n",
    "  - Starts the message loop (which processes callbacks, including our scanner parameter data).\n",
    "\"\"\"\n",
    "port = 7496  # Typical port for connecting to TWS (7496 for IB Gateway live trading)\n",
    "clientId = 10\n",
    "\n",
    "# Create an instance of the TestApp and connect to TWS.\n",
    "app = TestApp()\n",
    "app.connect(\"127.0.0.1\", port, clientId)\n",
    "\n",
    "# Begin processing messages from TWS (this call is blocking until disconnect).\n",
    "app.run()"
   ]
  },
  {
   "cell_type": "markdown",
   "id": "4a6fdda3-3c71-4686-8744-911072a629d0",
   "metadata": {},
   "source": [
    "The XML file includes the following:\n",
    "\n",
    "Instrument Definitions\n",
    "\n",
    "- Security Types: Definitions for all available instrument types (e.g., STK for stocks, OPT for options, FUT for futures, FX for forex, etc.).\n",
    "\n",
    "- Descriptions: Details describing what each instrument type represents, which can help you determine which one to use in your subscriptions.\n",
    "\n",
    "- Location Codes\n",
    "\n",
    "- Market/Exchange Identifiers: A list of location codes that correspond to various markets or exchanges. Examples include “STK.US.MAJOR” (for major US exchanges like NYSE, NASDAQ, AMEX), “STK.EU” (for European exchanges), and codes for regions such as Asia or specific countries (like Hong Kong or Korea).\n",
    "\n",
    "- Regional Information: Information that tells you which location codes correspond to major markets and any accompanying details on regional coverage.\n",
    "\n",
    "- Scan Codes\n",
    "\n",
    "Predefined Scan Types: A list of scan codes that define the type of market scanner you can use. Examples include “TOP_OPEN_PERC_GAIN,” “TOP_VOLUME,” “TOP_PCT_GAIN,” “TOP_PCT_LOSS,” etc. These codes determine the scan logic used by TWS to filter instruments based on market conditions.\n",
    "\n",
    "- Filter Options (Tag Values)\n",
    "\n",
    "Filter Keys: A comprehensive list of keys that you can use as filters when making a market scanner request, such as:\n",
    "\n",
    "volumeAbove – to filter for securities with a trading volume above a specified threshold.\n",
    "\n",
    "marketCapBelow or marketCapAbove – to filter based on market capitalization.\n",
    "\n",
    "priceAbove or priceBelow – to filter out securities outside your desired price range.\n",
    "\n",
    "Additional keys for metrics like average volume, option volume, 52-week high/low, earnings per share, etc.\n",
    "\n",
    "- Metadata for Each Filter: For each filter key, the XML typically provides:\n",
    "\n",
    "Default Values: A suggested value or the typical default used by TWS.\n",
    "\n",
    "Allowable Ranges or Limits: Indicating what ranges or numeric limits you can apply.\n",
    "\n",
    "Descriptions: Brief comments or documentation on what each filter does or what it signifies.\n",
    "\n",
    "- Additional Configuration Parameters\n",
    "\n",
    "Miscellaneous Details: There may be additional tags or configuration settings that inform you how TWS uses these parameters internally. This might include technical details or version-specific settings that are useful for advanced users.\n",
    "\n",
    "Guidelines/Comments: The XML might include embedded commentary or guidelines that explain how to mix and match parameters for a valid scanner subscription."
   ]
  },
  {
   "cell_type": "code",
   "execution_count": null,
   "id": "4d2b6a24-3d6b-4f3b-a6b9-a7adb3c40d35",
   "metadata": {},
   "outputs": [],
   "source": []
  },
  {
   "cell_type": "code",
   "execution_count": null,
   "id": "93f5e72c-4474-4b95-a7e6-f7cd199cbf4f",
   "metadata": {},
   "outputs": [],
   "source": []
  },
  {
   "cell_type": "code",
   "execution_count": null,
   "id": "d1f24898-0cde-48e4-bc8b-2f7a314ce1a7",
   "metadata": {},
   "outputs": [],
   "source": []
  },
  {
   "cell_type": "code",
   "execution_count": null,
   "id": "c755289f-66b7-4f4e-83b2-5f59793a01f8",
   "metadata": {},
   "outputs": [],
   "source": []
  },
  {
   "cell_type": "code",
   "execution_count": null,
   "id": "0ee71011-cb7e-4204-ba19-b52da9948b2e",
   "metadata": {},
   "outputs": [],
   "source": []
  }
 ],
 "metadata": {
  "kernelspec": {
   "display_name": "Python 3 (ipykernel)",
   "language": "python",
   "name": "python3"
  },
  "language_info": {
   "codemirror_mode": {
    "name": "ipython",
    "version": 3
   },
   "file_extension": ".py",
   "mimetype": "text/x-python",
   "name": "python",
   "nbconvert_exporter": "python",
   "pygments_lexer": "ipython3",
   "version": "3.10.10"
  }
 },
 "nbformat": 4,
 "nbformat_minor": 5
}
