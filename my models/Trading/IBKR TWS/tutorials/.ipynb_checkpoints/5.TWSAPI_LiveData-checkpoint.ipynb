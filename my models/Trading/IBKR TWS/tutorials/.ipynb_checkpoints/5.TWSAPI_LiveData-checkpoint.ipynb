{
 "cells": [
  {
   "cell_type": "markdown",
   "id": "8175b9ea-fc2a-4e5b-a189-2a548ae81de7",
   "metadata": {},
   "source": [
    "Code Snippet – Live Data\n",
    "\n",
    "This code example requests live (streaming) market data for an AAPL stock contract. \n",
    "                                                       \n",
    "The IB API’s reqMktData method is used to receive real‑time tick data. \n",
    "    \n",
    "Two key callback functions capture the data:\n",
    "\n",
    "tickPrice: Prints price-related ticks, converting the tick type to a human-readable string using TickTypeEnum.toStr().\n",
    "\n",
    "tickSize: Prints size/volume related ticks, again using TickTypeEnum.toStr() to decode the tick type. \n",
    "    \n",
    "Before calling reqMktData, we also explicitly call reqMarketDataType(3) to indicate the kind of market data we want \n",
    "(in this example, “3” may correspond to delayed data, though if you’re subscribed, live data will be returned). \n",
    "    \n",
    "Parameters include the generic tick list (here “232” to request the mark price) and flags for snapshot data and regulatory snapshot options."
   ]
  },
  {
   "cell_type": "code",
   "execution_count": 1,
   "id": "bf5b7dc2-3834-4910-8c45-b7f87a8ad6b2",
   "metadata": {},
   "outputs": [],
   "source": [
    "from ibapi.client import EClient  # Handles communication with TWS/IB Gateway\n",
    "from ibapi.wrapper import EWrapper  # Callback handlers for responses from TWS\n",
    "from ibapi.contract import Contract   # Defines a financial instrument (stock, option, etc.)\n",
    "from ibapi.ticktype import TickTypeEnum  # To convert tick type integers to human-readable strings\n",
    "\n",
    "import datetime                      # Optional: Useful for time-based operations\n",
    "import time                          # Required for delays to allow async operations to complete\n",
    "import threading                     # To run the API's event loop in a separate thread\n",
    "\n",
    "import logging\n",
    "# Configure logging to output INFO-level messages on the console\n",
    "logging.basicConfig(\n",
    "    level=logging.INFO,\n",
    "    format=\"%(asctime)s [%(levelname)s] %(message)s\"\n",
    ")\n"
   ]
  },
  {
   "cell_type": "code",
   "execution_count": 2,
   "id": "e256e540-c706-459f-b43a-510c27ba3bc0",
   "metadata": {},
   "outputs": [],
   "source": [
    "class TestApp(EClient, EWrapper):\n",
    "    \n",
    "    def __init__(self):\n",
    "        \"\"\"\n",
    "        Initialize the TestApp, setting up both the EClient and EWrapper.\n",
    "        This instance will be used to send requests and process live market data.\n",
    "        \"\"\"\n",
    "        EClient.__init__(self, self)\n",
    "        self.orderId = 0  # Starting value for our request IDs\n",
    "\n",
    "    \n",
    "    def nextValidId(self, orderId):\n",
    "        \"\"\"\n",
    "        Called once a valid connection with TWS is established.\n",
    "        Stores the initial order/request ID.\n",
    "        \"\"\"\n",
    "        self.orderId = orderId\n",
    "\n",
    "    \n",
    "    def nextId(self):\n",
    "        \"\"\"\n",
    "        Increment and return the next available request ID.\n",
    "        Ensures that every request (live or historical) has a unique identifier.\n",
    "        \"\"\"\n",
    "        self.orderId += 1\n",
    "        return self.orderId\n",
    "\n",
    "    \n",
    "    def error(self, reqId, errorTime, errorCode, errorString, advancedOrderReject):\n",
    "        \"\"\"\n",
    "        Callback for any errors published by TWS. Prints any errors that occur, including\n",
    "        details such as reqId, error code, and error string.\n",
    "        \"\"\"\n",
    "        print(f\"Error - reqId: {reqId},  errorTime: {errorTime}, errorCode: {errorCode}, errorString: {errorString}, OrderReject: {advancedOrderReject}\")\n",
    "\n",
    "    \n",
    "    def tickPrice(self, reqId, tickType, price, attrib):\n",
    "        \"\"\"\n",
    "        Callback for receiving price ticks.\n",
    "        \n",
    "        Arguments:\n",
    "          reqId   - The ID associated with this market data request.\n",
    "          tickType- The type of tick (e.g., bid, ask, last price). It is an integer code.\n",
    "          price   - The price value for the tick.\n",
    "          attrib  - Attributes related to the pricing tick (optional data, e.g., past limit).\n",
    "        \n",
    "        The tick type is converted to a string using TickTypeEnum.toStr for clarity.\n",
    "        \"\"\"\n",
    "        print(f\"reqId: {reqId}, tickType: {TickTypeEnum.toStr(tickType)}, price: {price}, attrib: {attrib}\")\n",
    "\n",
    "    \n",
    "    def tickSize(self, reqId, tickType, size):\n",
    "        \"\"\"\n",
    "        Callback for receiving size/volume ticks.\n",
    "        \n",
    "        Arguments:\n",
    "          reqId   - The market data request ID.\n",
    "          tickType- The type of tick indicating volume or size data.\n",
    "          size    - The volume/size value for this tick.\n",
    "          \n",
    "        Again, the tickType is converted for a more user-friendly display.\n",
    "        \"\"\"\n",
    "        print(f\"reqId: {reqId}, tickType: {TickTypeEnum.toStr(tickType)}, size: {size}\")\n",
    "\n",
    "\n"
   ]
  },
  {
   "cell_type": "code",
   "execution_count": 3,
   "id": "e168172e-6f14-4837-af5e-d291814de9c7",
   "metadata": {},
   "outputs": [
    {
     "name": "stderr",
     "output_type": "stream",
     "text": [
      "2025-05-01 19:22:09,955 [INFO] sent startApi\n",
      "2025-05-01 19:22:09,958 [INFO] REQUEST startApi {}\n",
      "2025-05-01 19:22:09,959 [INFO] SENDING startApi b'\\x00\\x00\\x00\\t\\x00\\x00\\x00G2\\x005\\x00\\x00'\n",
      "2025-05-01 19:22:09,960 [INFO] ANSWER connectAck {}\n",
      "2025-05-01 19:22:09,962 [INFO] ANSWER openOrderEnd {}\n",
      "2025-05-01 19:22:09,999 [INFO] ANSWER managedAccounts {'accountsList': 'U18112846'}\n"
     ]
    },
    {
     "name": "stdout",
     "output_type": "stream",
     "text": [
      "Error - reqId: -1,  errorTime: 1746120149466, errorCode: 2104, errorString: Market data farm connection is OK:hfarm, OrderReject: \n",
      "Error - reqId: -1,  errorTime: 1746120149466, errorCode: 2104, errorString: Market data farm connection is OK:usfarm.nj, OrderReject: \n",
      "Error - reqId: -1,  errorTime: 1746120149466, errorCode: 2104, errorString: Market data farm connection is OK:jfarm, OrderReject: \n",
      "Error - reqId: -1,  errorTime: 1746120149467, errorCode: 2104, errorString: Market data farm connection is OK:usfuture, OrderReject: \n",
      "Error - reqId: -1,  errorTime: 1746120149467, errorCode: 2104, errorString: Market data farm connection is OK:eufarm, OrderReject: \n",
      "Error - reqId: -1,  errorTime: 1746120149467, errorCode: 2104, errorString: Market data farm connection is OK:cashfarm, OrderReject: \n",
      "Error - reqId: -1,  errorTime: 1746120149467, errorCode: 2104, errorString: Market data farm connection is OK:eufarmnj, OrderReject: \n",
      "Error - reqId: -1,  errorTime: 1746120149467, errorCode: 2104, errorString: Market data farm connection is OK:usfarm, OrderReject: \n",
      "Error - reqId: -1,  errorTime: 1746120149467, errorCode: 2106, errorString: HMDS data farm connection is OK:euhmds, OrderReject: \n",
      "Error - reqId: -1,  errorTime: 1746120149467, errorCode: 2106, errorString: HMDS data farm connection is OK:fundfarm, OrderReject: \n",
      "Error - reqId: -1,  errorTime: 1746120149467, errorCode: 2106, errorString: HMDS data farm connection is OK:ushmds, OrderReject: \n",
      "Error - reqId: -1,  errorTime: 1746120149467, errorCode: 2158, errorString: Sec-def data farm connection is OK:secdefeu, OrderReject: \n"
     ]
    }
   ],
   "source": [
    "port = 7496  # Typical port for connecting to TWS (7496 for IB Gateway live trading)\n",
    "clientId = 5\n",
    "\n",
    "# Create an instance of the TestApp and connect to TWS.\n",
    "app = TestApp()\n",
    "app.connect(\"127.0.0.1\", port, clientId)\n",
    "# Start the API processing loop in a separate thread so that it does not block the main thread.\n",
    "threading.Thread(target=app.run).start()\n",
    "time.sleep(1)  # Pause briefly to ensure a reliable connection before making requests"
   ]
  },
  {
   "cell_type": "code",
   "execution_count": 4,
   "id": "80a49b10-714c-4a9d-a1f5-32bb0d13e6cc",
   "metadata": {},
   "outputs": [
    {
     "data": {
      "text/plain": [
       "2105654361728: ConId: 0, Symbol: AAPL, SecType: STK, LastTradeDateOrContractMonth: , Strike: , Right: , Multiplier: , Exchange: SMART, PrimaryExchange: , Currency: USD, LocalSymbol: , TradingClass: , IncludeExpired: False, SecIdType: , SecId: , Description: , IssuerId: Combo:"
      ]
     },
     "execution_count": 4,
     "metadata": {},
     "output_type": "execute_result"
    }
   ],
   "source": [
    "# Define a Contract for Apple Inc. stock.\n",
    "mycontract = Contract()\n",
    "mycontract.symbol = \"AAPL\"      # Ticker symbol\n",
    "mycontract.secType = \"STK\"        # Security type: Stock\n",
    "mycontract.exchange = \"SMART\"     # IB's SmartRouting\n",
    "mycontract.currency = \"USD\"       # Trading currency\n",
    "\n",
    "mycontract"
   ]
  },
  {
   "cell_type": "code",
   "execution_count": 5,
   "id": "4ea2fac3-aebf-46cf-a1b4-27214a46cc47",
   "metadata": {},
   "outputs": [
    {
     "name": "stderr",
     "output_type": "stream",
     "text": [
      "2025-05-01 19:22:11,020 [INFO] REQUEST reqMarketDataType {'marketDataType': 3}\n",
      "2025-05-01 19:22:11,021 [INFO] SENDING reqMarketDataType b'\\x00\\x00\\x00\\x08\\x00\\x00\\x00;1\\x003\\x00'\n"
     ]
    }
   ],
   "source": [
    "# Set the market data type.\n",
    "# The argument (here, 3) selects the type of market data to receive:\n",
    "#  1:Live, 2:Frozen, 3:Delayed, or 3:Delayed Frozen. \n",
    "# Even if you request delayed data, if you are subscribed to live data, TWS will return live data.\n",
    "app.reqMarketDataType(3)\n"
   ]
  },
  {
   "cell_type": "code",
   "execution_count": 6,
   "id": "f79f3121-fad9-40e2-91b8-d8544f3dc09b",
   "metadata": {},
   "outputs": [
    {
     "name": "stderr",
     "output_type": "stream",
     "text": [
      "2025-05-01 19:22:11,037 [INFO] REQUEST reqMktData {'reqId': 2, 'contract': 2105654361728: ConId: 0, Symbol: AAPL, SecType: STK, LastTradeDateOrContractMonth: , Strike: , Right: , Multiplier: , Exchange: SMART, PrimaryExchange: , Currency: USD, LocalSymbol: , TradingClass: , IncludeExpired: False, SecIdType: , SecId: , Description: , IssuerId: Combo:, 'genericTickList': '232', 'snapshot': False, 'regulatorySnapshot': False, 'mktDataOptions': []}\n",
      "2025-05-01 19:22:11,038 [INFO] SENDING reqMktData b'\\x00\\x00\\x000\\x00\\x00\\x00\\x0111\\x002\\x000\\x00AAPL\\x00STK\\x00\\x00\\x00\\x00\\x00SMART\\x00\\x00USD\\x00\\x00\\x000\\x00232\\x000\\x000\\x00\\x00'\n",
      "2025-05-01 19:22:11,579 [INFO] ANSWER tickReqParams {'tickerId': 2, 'minTick': 0.01, 'bboExchange': '9c0001', 'snapshotPermissions': 4}\n",
      "2025-05-01 19:22:11,580 [INFO] ANSWER marketDataType {'reqId': 2, 'marketDataType': 3}\n"
     ]
    },
    {
     "name": "stdout",
     "output_type": "stream",
     "text": [
      "Error - reqId: 2,  errorTime: 1746120151000, errorCode: 10167, errorString: Requested market data is not subscribed. Displaying delayed market data., OrderReject: \n",
      "reqId: 2, tickType: MARK_PRICE, price: 212.72999573, attrib: CanAutoExecute: 0, PastLimit: 0, PreOpen: 0\n",
      "reqId: 2, tickType: DELAYED_OPEN, price: 208.9, attrib: CanAutoExecute: 0, PastLimit: 0, PreOpen: 0\n",
      "reqId: 2, tickType: DELAYED_HIGH, price: 214.27, attrib: CanAutoExecute: 0, PastLimit: 0, PreOpen: 0\n",
      "reqId: 2, tickType: DELAYED_LOW, price: 208.9, attrib: CanAutoExecute: 0, PastLimit: 0, PreOpen: 0\n",
      "reqId: 2, tickType: DELAYED_VOLUME, size: 242439\n",
      "reqId: 2, tickType: DELAYED_CLOSE, price: 212.5, attrib: CanAutoExecute: 0, PastLimit: 0, PreOpen: 0\n",
      "reqId: 2, tickType: DELAYED_BID, price: 212.75, attrib: CanAutoExecute: 0, PastLimit: 0, PreOpen: 0\n",
      "reqId: 2, tickType: DELAYED_BID_SIZE, size: 200\n",
      "reqId: 2, tickType: DELAYED_ASK, price: 212.8, attrib: CanAutoExecute: 0, PastLimit: 0, PreOpen: 0\n",
      "reqId: 2, tickType: DELAYED_ASK_SIZE, size: 700\n",
      "reqId: 2, tickType: MARK_PRICE, price: 212.72000122, attrib: CanAutoExecute: 0, PastLimit: 0, PreOpen: 0\n",
      "reqId: 2, tickType: MARK_PRICE, price: 212.71000671, attrib: CanAutoExecute: 0, PastLimit: 0, PreOpen: 0\n",
      "reqId: 2, tickType: MARK_PRICE, price: 212.7191925, attrib: CanAutoExecute: 0, PastLimit: 0, PreOpen: 0\n"
     ]
    }
   ],
   "source": [
    "# Request live (streaming) market data.\n",
    "# Parameters:\n",
    "app.reqMktData(app.nextId(), # reqId: Generated by nextId() to be unique.\n",
    "               mycontract, # mycontract: The contract for which to retrieve data.\n",
    "               \"232\", # genericTickList: \"232\" is used to request a specific generic tick (here, mark price).\n",
    "               False, # snapshot: False means we want streaming live data rather than a single snapshot.\n",
    "               False, # regulatorySnapshot: False since we are not requesting a regulatory snapshot.\n",
    "               []) # mktDataOptions: [] implying no additional options are being set."
   ]
  },
  {
   "cell_type": "code",
   "execution_count": null,
   "id": "945d07c3-b23f-4285-acac-9fe020d8b36f",
   "metadata": {},
   "outputs": [],
   "source": []
  }
 ],
 "metadata": {
  "kernelspec": {
   "display_name": "Python 3 (ipykernel)",
   "language": "python",
   "name": "python3"
  },
  "language_info": {
   "codemirror_mode": {
    "name": "ipython",
    "version": 3
   },
   "file_extension": ".py",
   "mimetype": "text/x-python",
   "name": "python",
   "nbconvert_exporter": "python",
   "pygments_lexer": "ipython3",
   "version": "3.10.10"
  }
 },
 "nbformat": 4,
 "nbformat_minor": 5
}
