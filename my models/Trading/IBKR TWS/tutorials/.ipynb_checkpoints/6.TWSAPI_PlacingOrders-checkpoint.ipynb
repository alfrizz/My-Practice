{
 "cells": [
  {
   "cell_type": "code",
   "execution_count": 1,
   "id": "e5f12ac0-f1fc-4349-9b25-ff77fd8f3b9f",
   "metadata": {},
   "outputs": [],
   "source": [
    "from decimal import Decimal\n",
    "import time\n",
    "import threading                   \n",
    "\n",
    "from ibapi.client import EClient\n",
    "from ibapi.wrapper import EWrapper\n",
    "from ibapi.contract import Contract, ContractDetails\n",
    "from ibapi.order import Order\n",
    "from ibapi.order_state import OrderState\n",
    "from ibapi.common import OrderId\n",
    "from ibapi.execution import Execution\n",
    "\n",
    "import logging\n",
    "# Configure logging to output INFO-level messages on the console\n",
    "logging.basicConfig(\n",
    "    level=logging.INFO,\n",
    "    format=\"%(asctime)s [%(levelname)s] %(message)s\"\n",
    ")\n",
    "\n"
   ]
  },
  {
   "cell_type": "code",
   "execution_count": 2,
   "id": "316abead-a24d-4334-8df8-a27adba91322",
   "metadata": {},
   "outputs": [],
   "source": [
    "class TestApp(EClient, EWrapper):\n",
    "\n",
    "    def __init__(self):\n",
    "        \"\"\"\n",
    "        Initialize the IB API client and wrapper.\n",
    "        We pass 'self' as the wrapper so that callback methods are registered.\n",
    "        We also initialize a dictionary to track our orders.\n",
    "        \"\"\"\n",
    "        EClient.__init__(self, self)\n",
    "        self.my_orders = {}  # Dictionary to store order info keyed by orderId\n",
    "\n",
    "    \n",
    "    def nextValidId(self, orderId: OrderId):\n",
    "        \"\"\"\n",
    "        Called when a valid orderId is available (e.g., after the initial connection).\n",
    "        \"\"\"\n",
    "        print(f\"Received next valid order ID: {orderId}\")\n",
    "        self.orderId = orderId\n",
    "\n",
    "    \n",
    "    def create_contract(self, symbol: str, secType: str = \"STK\", exchange: str = \"SMART\", currency: str = \"USD\") -> Contract:\n",
    "        \"\"\"\n",
    "        Creates and returns a Contract object with the specified parameters.\n",
    "        \"\"\"\n",
    "        contract = Contract()\n",
    "        contract.symbol = symbol\n",
    "        contract.secType = secType\n",
    "        contract.exchange = exchange\n",
    "        contract.currency = currency\n",
    "        return contract\n",
    "\n",
    "    \n",
    "    def create_order(self, order_id: OrderId, limit_price: float, action: str = \"BUY\", \n",
    "                     quantity: int = 1, tif: str = \"GTC\", order_type: str = \"LMT\") -> Order:\n",
    "        \"\"\"\n",
    "        Creates and returns an Order object with the specified parameters.\n",
    "        In this design, we do not add it to self.my_orders here; rather we rely on\n",
    "        the callbacks (like openOrder) to update the tracking dictionary.\n",
    "        \"\"\"\n",
    "        order = Order()\n",
    "        order.orderId = order_id\n",
    "        order.action = action\n",
    "        order.tif = tif\n",
    "        order.orderType = order_type\n",
    "        order.lmtPrice = limit_price\n",
    "        order.totalQuantity = quantity\n",
    "        return order\n",
    "\n",
    "    \n",
    "    def openOrder(self, orderId: OrderId, contract: Contract, order: Order, orderState: OrderState):\n",
    "        \"\"\"\n",
    "        Called when an order is opened or updated.\n",
    "        We update (or create) the dictionary entry for this order using the callback data.\n",
    "        \"\"\"\n",
    "        print(\"Open Order Callback:\")\n",
    "        print(f\"OrderId: {orderId}\")\n",
    "        print(f\"Contract: {contract}\")\n",
    "        print(f\"Order: {order}\")\n",
    "        print(f\"OrderState: {orderState}\\n\")\n",
    "        \n",
    "        # Update our orders dictionary for this order using the live callback data.\n",
    "        self.my_orders[orderId] = {\n",
    "            \"contract\": contract,\n",
    "            \"order\": order,\n",
    "            \"orderState\": str(orderState)\n",
    "        }\n",
    "        \n",
    "        # For debugging, print out the current state of our tracked orders.\n",
    "        print(\"Updated my_orders from openOrder callback:\")\n",
    "        for oid, info in self.my_orders.items():\n",
    "            print(f\"OrderId: {oid} -> Order: {info['order']}\")\n",
    "        print()\n",
    "\n",
    "    \n",
    "    def orderStatus(self, orderId: OrderId, status: str, filled: Decimal, remaining: Decimal,\n",
    "                    avgFillPrice: float, permId: int, parentId: int, lastFillPrice: float,\n",
    "                    clientId: int, whyHeld: str, mktCapPrice: float):\n",
    "        print(\"Order Status Callback:\")\n",
    "        print(f\"OrderId: {orderId}, Status: {status}, Filled: {filled}, Remaining: {remaining},\")\n",
    "        print(f\"AvgFillPrice: {avgFillPrice}, PermId: {permId}, ParentId: {parentId},\")\n",
    "        print(f\"LastFillPrice: {lastFillPrice}, ClientId: {clientId}, WhyHeld: {whyHeld}, MktCapPrice: {mktCapPrice}\\n\")\n",
    "\n",
    "    \n",
    "    def execDetails(self, reqId: int, contract: Contract, execution: Execution):\n",
    "        \"\"\"\n",
    "        Provides details on each trade (execution) for the order.\n",
    "        \"\"\"\n",
    "        print(\"Execution Details Callback:\")\n",
    "        print(f\"ReqId: {reqId}\\nContract: {contract}\\nExecution Details: {execution}\\n\")\n",
    "\n",
    "    \n",
    "    def error(self, reqId, errorTime, errorCode, errorString, advancedOrderReject):\n",
    "        \"\"\"\n",
    "        Called when there is an error.\n",
    "        \"\"\"\n",
    "        print(f\"Error - reqId: {reqId}, errorTime: {errorTime}, errorCode: {errorCode}, errorString: {errorString}, OrderReject: {advancedOrderReject}\")\n",
    "\n",
    "    \n",
    "    def modifyOrder(self, orderId: OrderId, newLmtPrice: float):\n",
    "        \"\"\"\n",
    "        Demonstrates how to modify an existing order.\n",
    "        This method checks our orders dictionary (populated by callbacks) to verify that the order exists\n",
    "        and is eligible for a modification (e.g., not already filled).\n",
    "        \"\"\"\n",
    "        if orderId in self.my_orders:\n",
    "            order_info = self.my_orders[orderId]\n",
    "            current_order = order_info.get(\"order\")\n",
    "            \n",
    "            # Proceed to modify the order\n",
    "            print(f\"Modifying order {orderId}. Old limit price: {current_order.lmtPrice if current_order else 'Unknown'}\")\n",
    "            modified_order = self.create_order(orderId, newLmtPrice, current_order.action if current_order else \"BUY\",\n",
    "                                               current_order.totalQuantity if current_order else 1,\n",
    "                                               current_order.tif if current_order else \"GTC\",\n",
    "                                               current_order.orderType if current_order else \"LMT\")\n",
    "\n",
    "            symbol = self.my_orders[orderId]['contract'].symbol\n",
    "            \n",
    "            # Submit the modified order to IB.\n",
    "            contract = self.create_contract(symbol=symbol)  \n",
    "            self.placeOrder(modified_order.orderId, contract, modified_order)\n",
    "            print(f\"Order {orderId} modification submitted with new limit price: {newLmtPrice}\\n\")\n",
    "        else:\n",
    "            print(f\"Order {orderId} not found. Cannot modify a non-existent order.\")\n"
   ]
  },
  {
   "cell_type": "code",
   "execution_count": 3,
   "id": "fe20e7e7-289f-48eb-852d-0a36c9fe3199",
   "metadata": {},
   "outputs": [
    {
     "name": "stderr",
     "output_type": "stream",
     "text": [
      "2025-05-04 18:32:37,565 [INFO] sent startApi\n",
      "2025-05-04 18:32:37,565 [INFO] REQUEST startApi {}\n",
      "2025-05-04 18:32:37,565 [INFO] SENDING startApi b'\\x00\\x00\\x00\\t\\x00\\x00\\x00G2\\x006\\x00\\x00'\n",
      "2025-05-04 18:32:37,565 [INFO] ANSWER connectAck {}\n",
      "2025-05-04 18:32:37,622 [INFO] ANSWER openOrderEnd {}\n",
      "2025-05-04 18:32:37,623 [INFO] ANSWER managedAccounts {'accountsList': 'U18112846'}\n"
     ]
    },
    {
     "name": "stdout",
     "output_type": "stream",
     "text": [
      "Open Order Callback:\n",
      "OrderId: 7\n",
      "Contract: ConId: 12442, Symbol: SAN, SecType: STK, LastTradeDateOrContractMonth: , Strike: 0, Right: ?, Multiplier: , Exchange: SMART, PrimaryExchange: , Currency: USD, LocalSymbol: SAN, TradingClass: SAN, IncludeExpired: False, SecIdType: , SecId: , Description: , IssuerId: Combo:\n",
      "Order: 7,6,859426569: LMT BUY 1@5 GTC\n",
      "OrderState: Status: PreSubmitted, InitMarginBefore: 1.7976931348623157E308, MaintMarginBefore: 1.7976931348623157E308, EquityWithLoanBefore: 1.7976931348623157E308, InitMarginChange: 1.7976931348623157E308, MaintMarginChange: 1.7976931348623157E308, EquityWithLoanChange: 1.7976931348623157E308, InitMarginAfter: 1.7976931348623157E308, MaintMarginAfter: 1.7976931348623157E308, EquityWithLoanAfter: 1.7976931348623157E308, CommissionAndFees: , MinCommissionAndFees: , MaxCommissionAndFees: , CommissionAndFeesCurrency: , MarginCurrency: , InitMarginBeforeOutsideRTH: , MaintMarginBeforeOutsideRTH: , EquityWithLoanBeforeOutsideRTH: , InitMarginChangeOutsideRTH: , MaintMarginChangeOutsideRTH: , equityWithLoanChangeOutsideRTH: , InitMarginAfterOutsideRTH: , MaintMarginAfterOutsideRTH: , equityWithLoanAfterOutsideRTH: , SuggestedSize: , RejectReason: , WarningText: , CompletedTime: , CompletedStatus: \n",
      "\n",
      "Updated my_orders from openOrder callback:\n",
      "OrderId: 7 -> Order: 7,6,859426569: LMT BUY 1@5 GTC\n",
      "\n",
      "Order Status Callback:\n",
      "OrderId: 7, Status: PreSubmitted, Filled: 0, Remaining: 1,\n",
      "AvgFillPrice: 0.0, PermId: 859426569, ParentId: 0,\n",
      "LastFillPrice: 0.0, ClientId: 6, WhyHeld: , MktCapPrice: 0.0\n",
      "\n",
      "Open Order Callback:\n",
      "OrderId: 8\n",
      "Contract: ConId: 12442, Symbol: SAN, SecType: STK, LastTradeDateOrContractMonth: , Strike: 0, Right: ?, Multiplier: , Exchange: SMART, PrimaryExchange: , Currency: USD, LocalSymbol: SAN, TradingClass: SAN, IncludeExpired: False, SecIdType: , SecId: , Description: , IssuerId: Combo:\n",
      "Order: 8,6,859426573: LMT BUY 1@6.5 GTC\n",
      "OrderState: Status: PreSubmitted, InitMarginBefore: 1.7976931348623157E308, MaintMarginBefore: 1.7976931348623157E308, EquityWithLoanBefore: 1.7976931348623157E308, InitMarginChange: 1.7976931348623157E308, MaintMarginChange: 1.7976931348623157E308, EquityWithLoanChange: 1.7976931348623157E308, InitMarginAfter: 1.7976931348623157E308, MaintMarginAfter: 1.7976931348623157E308, EquityWithLoanAfter: 1.7976931348623157E308, CommissionAndFees: , MinCommissionAndFees: , MaxCommissionAndFees: , CommissionAndFeesCurrency: , MarginCurrency: , InitMarginBeforeOutsideRTH: , MaintMarginBeforeOutsideRTH: , EquityWithLoanBeforeOutsideRTH: , InitMarginChangeOutsideRTH: , MaintMarginChangeOutsideRTH: , equityWithLoanChangeOutsideRTH: , InitMarginAfterOutsideRTH: , MaintMarginAfterOutsideRTH: , equityWithLoanAfterOutsideRTH: , SuggestedSize: , RejectReason: , WarningText: , CompletedTime: , CompletedStatus: \n",
      "\n",
      "Updated my_orders from openOrder callback:\n",
      "OrderId: 7 -> Order: 7,6,859426569: LMT BUY 1@5 GTC\n",
      "OrderId: 8 -> Order: 8,6,859426573: LMT BUY 1@6.5 GTC\n",
      "\n",
      "Order Status Callback:\n",
      "OrderId: 8, Status: PreSubmitted, Filled: 0, Remaining: 1,\n",
      "AvgFillPrice: 0.0, PermId: 859426573, ParentId: 0,\n",
      "LastFillPrice: 0.0, ClientId: 6, WhyHeld: , MktCapPrice: 0.0\n",
      "\n",
      "Open Order Callback:\n",
      "OrderId: 5\n",
      "Contract: ConId: 12442, Symbol: SAN, SecType: STK, LastTradeDateOrContractMonth: , Strike: 0, Right: ?, Multiplier: , Exchange: SMART, PrimaryExchange: , Currency: USD, LocalSymbol: SAN, TradingClass: SAN, IncludeExpired: False, SecIdType: , SecId: , Description: , IssuerId: Combo:\n",
      "Order: 5,6,859426559: LMT BUY 1@7 GTC\n",
      "OrderState: Status: PreSubmitted, InitMarginBefore: 1.7976931348623157E308, MaintMarginBefore: 1.7976931348623157E308, EquityWithLoanBefore: 1.7976931348623157E308, InitMarginChange: 1.7976931348623157E308, MaintMarginChange: 1.7976931348623157E308, EquityWithLoanChange: 1.7976931348623157E308, InitMarginAfter: 1.7976931348623157E308, MaintMarginAfter: 1.7976931348623157E308, EquityWithLoanAfter: 1.7976931348623157E308, CommissionAndFees: , MinCommissionAndFees: , MaxCommissionAndFees: , CommissionAndFeesCurrency: , MarginCurrency: , InitMarginBeforeOutsideRTH: , MaintMarginBeforeOutsideRTH: , EquityWithLoanBeforeOutsideRTH: , InitMarginChangeOutsideRTH: , MaintMarginChangeOutsideRTH: , equityWithLoanChangeOutsideRTH: , InitMarginAfterOutsideRTH: , MaintMarginAfterOutsideRTH: , equityWithLoanAfterOutsideRTH: , SuggestedSize: , RejectReason: , WarningText: , CompletedTime: , CompletedStatus: \n",
      "\n",
      "Updated my_orders from openOrder callback:\n",
      "OrderId: 7 -> Order: 7,6,859426569: LMT BUY 1@5 GTC\n",
      "OrderId: 8 -> Order: 8,6,859426573: LMT BUY 1@6.5 GTC\n",
      "OrderId: 5 -> Order: 5,6,859426559: LMT BUY 1@7 GTC\n",
      "\n",
      "Order Status Callback:\n",
      "OrderId: 5, Status: PreSubmitted, Filled: 0, Remaining: 1,\n",
      "AvgFillPrice: 0.0, PermId: 859426559, ParentId: 0,\n",
      "LastFillPrice: 0.0, ClientId: 6, WhyHeld: , MktCapPrice: 0.0\n",
      "\n",
      "Open Order Callback:\n",
      "OrderId: 4\n",
      "Contract: ConId: 554208351, Symbol: WBD, SecType: STK, LastTradeDateOrContractMonth: , Strike: 0, Right: ?, Multiplier: , Exchange: SMART, PrimaryExchange: , Currency: USD, LocalSymbol: WBD, TradingClass: NMS, IncludeExpired: False, SecIdType: , SecId: , Description: , IssuerId: Combo:\n",
      "Order: 4,6,859426550: LMT BUY 1@3 GTC\n",
      "OrderState: Status: PreSubmitted, InitMarginBefore: 1.7976931348623157E308, MaintMarginBefore: 1.7976931348623157E308, EquityWithLoanBefore: 1.7976931348623157E308, InitMarginChange: 1.7976931348623157E308, MaintMarginChange: 1.7976931348623157E308, EquityWithLoanChange: 1.7976931348623157E308, InitMarginAfter: 1.7976931348623157E308, MaintMarginAfter: 1.7976931348623157E308, EquityWithLoanAfter: 1.7976931348623157E308, CommissionAndFees: , MinCommissionAndFees: , MaxCommissionAndFees: , CommissionAndFeesCurrency: , MarginCurrency: , InitMarginBeforeOutsideRTH: , MaintMarginBeforeOutsideRTH: , EquityWithLoanBeforeOutsideRTH: , InitMarginChangeOutsideRTH: , MaintMarginChangeOutsideRTH: , equityWithLoanChangeOutsideRTH: , InitMarginAfterOutsideRTH: , MaintMarginAfterOutsideRTH: , equityWithLoanAfterOutsideRTH: , SuggestedSize: , RejectReason: , WarningText: , CompletedTime: , CompletedStatus: \n",
      "\n",
      "Updated my_orders from openOrder callback:\n",
      "OrderId: 7 -> Order: 7,6,859426569: LMT BUY 1@5 GTC\n",
      "OrderId: 8 -> Order: 8,6,859426573: LMT BUY 1@6.5 GTC\n",
      "OrderId: 5 -> Order: 5,6,859426559: LMT BUY 1@7 GTC\n",
      "OrderId: 4 -> Order: 4,6,859426550: LMT BUY 1@3 GTC\n",
      "\n",
      "Order Status Callback:\n",
      "OrderId: 4, Status: PreSubmitted, Filled: 0, Remaining: 1,\n",
      "AvgFillPrice: 0.0, PermId: 859426550, ParentId: 0,\n",
      "LastFillPrice: 0.0, ClientId: 6, WhyHeld: , MktCapPrice: 0.0\n",
      "\n",
      "Open Order Callback:\n",
      "OrderId: 6\n",
      "Contract: ConId: 12442, Symbol: SAN, SecType: STK, LastTradeDateOrContractMonth: , Strike: 0, Right: ?, Multiplier: , Exchange: SMART, PrimaryExchange: , Currency: USD, LocalSymbol: SAN, TradingClass: SAN, IncludeExpired: False, SecIdType: , SecId: , Description: , IssuerId: Combo:\n",
      "Order: 6,6,859426566: LMT BUY 1@6 GTC\n",
      "OrderState: Status: PreSubmitted, InitMarginBefore: 1.7976931348623157E308, MaintMarginBefore: 1.7976931348623157E308, EquityWithLoanBefore: 1.7976931348623157E308, InitMarginChange: 1.7976931348623157E308, MaintMarginChange: 1.7976931348623157E308, EquityWithLoanChange: 1.7976931348623157E308, InitMarginAfter: 1.7976931348623157E308, MaintMarginAfter: 1.7976931348623157E308, EquityWithLoanAfter: 1.7976931348623157E308, CommissionAndFees: , MinCommissionAndFees: , MaxCommissionAndFees: , CommissionAndFeesCurrency: , MarginCurrency: , InitMarginBeforeOutsideRTH: , MaintMarginBeforeOutsideRTH: , EquityWithLoanBeforeOutsideRTH: , InitMarginChangeOutsideRTH: , MaintMarginChangeOutsideRTH: , equityWithLoanChangeOutsideRTH: , InitMarginAfterOutsideRTH: , MaintMarginAfterOutsideRTH: , equityWithLoanAfterOutsideRTH: , SuggestedSize: , RejectReason: , WarningText: , CompletedTime: , CompletedStatus: \n",
      "\n",
      "Updated my_orders from openOrder callback:\n",
      "OrderId: 7 -> Order: 7,6,859426569: LMT BUY 1@5 GTC\n",
      "OrderId: 8 -> Order: 8,6,859426573: LMT BUY 1@6.5 GTC\n",
      "OrderId: 5 -> Order: 5,6,859426559: LMT BUY 1@7 GTC\n",
      "OrderId: 4 -> Order: 4,6,859426550: LMT BUY 1@3 GTC\n",
      "OrderId: 6 -> Order: 6,6,859426566: LMT BUY 1@6 GTC\n",
      "\n",
      "Order Status Callback:\n",
      "OrderId: 6, Status: PreSubmitted, Filled: 0, Remaining: 1,\n",
      "AvgFillPrice: 0.0, PermId: 859426566, ParentId: 0,\n",
      "LastFillPrice: 0.0, ClientId: 6, WhyHeld: , MktCapPrice: 0.0\n",
      "\n",
      "Received next valid order ID: 9\n",
      "Error - reqId: -1, errorTime: 1746376358566, errorCode: 2104, errorString: Market data farm connection is OK:usfarm.nj, OrderReject: \n",
      "Error - reqId: -1, errorTime: 1746376358566, errorCode: 2104, errorString: Market data farm connection is OK:usfuture, OrderReject: \n",
      "Error - reqId: -1, errorTime: 1746376358566, errorCode: 2104, errorString: Market data farm connection is OK:eufarm, OrderReject: \n",
      "Error - reqId: -1, errorTime: 1746376358566, errorCode: 2104, errorString: Market data farm connection is OK:cashfarm, OrderReject: \n",
      "Error - reqId: -1, errorTime: 1746376358566, errorCode: 2104, errorString: Market data farm connection is OK:usfarm, OrderReject: \n",
      "Error - reqId: -1, errorTime: 1746376358566, errorCode: 2106, errorString: HMDS data farm connection is OK:euhmds, OrderReject: \n",
      "Error - reqId: -1, errorTime: 1746376358566, errorCode: 2106, errorString: HMDS data farm connection is OK:fundfarm, OrderReject: \n",
      "Error - reqId: -1, errorTime: 1746376358566, errorCode: 2106, errorString: HMDS data farm connection is OK:ushmds, OrderReject: \n",
      "Error - reqId: -1, errorTime: 1746376358566, errorCode: 2158, errorString: Sec-def data farm connection is OK:secdefeu, OrderReject: \n"
     ]
    }
   ],
   "source": [
    "port = 7496  # Typical port for connecting to TWS (7496 for IB Gateway live trading)\n",
    "clientId = 6\n",
    "\n",
    "# Create an instance of the TestApp and connect to TWS.\n",
    "app = TestApp()\n",
    "app.connect(\"127.0.0.1\", port, clientId)\n",
    "\n",
    "'''\n",
    "Alternative: use run() to start the event loop necessary for processing API messages, \n",
    "if the blocking behavior is acceptable since no other concurrent processing is needed. \n",
    "Use threading when you want your main thread to do more work while still running the API's event loop\n",
    "'''\n",
    "\n",
    "# Start the API processing loop in a separate thread so that it does not block the main thread.\n",
    "threading.Thread(target=app.run).start()\n",
    "time.sleep(1)  # Pause briefly to ensure a reliable connection before making requests\n",
    "\n",
    "# # Start the message loop. This call is blocking and will keep running the event loop.\n",
    "# app.run()\n"
   ]
  },
  {
   "cell_type": "code",
   "execution_count": 4,
   "id": "9c317dfa-145b-46bb-9e8c-8d79cdd76372",
   "metadata": {},
   "outputs": [
    {
     "data": {
      "text/plain": [
       "3115302794768: ConId: 0, Symbol: SAN, SecType: STK, LastTradeDateOrContractMonth: , Strike: , Right: , Multiplier: , Exchange: SMART, PrimaryExchange: , Currency: USD, LocalSymbol: , TradingClass: , IncludeExpired: False, SecIdType: , SecId: , Description: , IssuerId: Combo:"
      ]
     },
     "execution_count": 4,
     "metadata": {},
     "output_type": "execute_result"
    }
   ],
   "source": [
    "# Create a contract using the new helper method.\n",
    "mycontract = app.create_contract(symbol=\"SAN\")  # Update the symbol as needed\n",
    "mycontract"
   ]
  },
  {
   "cell_type": "code",
   "execution_count": 5,
   "id": "9c9cfcd2-194d-455c-ad99-02fd09313ca6",
   "metadata": {},
   "outputs": [
    {
     "name": "stderr",
     "output_type": "stream",
     "text": [
      "2025-05-04 18:32:38,594 [INFO] REQUEST reqContractDetails {'reqId': 9, 'contract': 3115302794768: ConId: 0, Symbol: SAN, SecType: STK, LastTradeDateOrContractMonth: , Strike: , Right: , Multiplier: , Exchange: SMART, PrimaryExchange: , Currency: USD, LocalSymbol: , TradingClass: , IncludeExpired: False, SecIdType: , SecId: , Description: , IssuerId: Combo:}\n",
      "2025-05-04 18:32:38,594 [INFO] SENDING reqContractDetails b'\\x00\\x00\\x00(\\x00\\x00\\x00\\t8\\x009\\x000\\x00SAN\\x00STK\\x00\\x00\\x00\\x00\\x00SMART\\x00\\x00USD\\x00\\x00\\x000\\x00\\x00\\x00\\x00'\n"
     ]
    }
   ],
   "source": [
    "# Request contract details\n",
    "app.reqContractDetails(app.orderId, mycontract)"
   ]
  },
  {
   "cell_type": "code",
   "execution_count": 6,
   "id": "96e6dae6-be4a-4d90-9716-3fc51dac6534",
   "metadata": {},
   "outputs": [
    {
     "data": {
      "text/plain": [
       "3115303047600: 9,0,0: LMT BUY 1.000000@6.5 GTC"
      ]
     },
     "execution_count": 6,
     "metadata": {},
     "output_type": "execute_result"
    }
   ],
   "source": [
    "# Create an order via the helper method.\n",
    "myorder = app.create_order(order_id=app.orderId, limit_price=6.5)\n",
    "myorder"
   ]
  },
  {
   "cell_type": "code",
   "execution_count": 7,
   "id": "135559d8-c0d9-4ea6-8729-3f61755ca85b",
   "metadata": {},
   "outputs": [
    {
     "name": "stderr",
     "output_type": "stream",
     "text": [
      "2025-05-04 18:32:38,638 [INFO] ANSWER contractDetails {'reqId': 9, 'contractDetails': 3115303046832: ConId: 12442, Symbol: SAN, SecType: STK, LastTradeDateOrContractMonth: , Strike: 0, Right: , Multiplier: , Exchange: SMART, PrimaryExchange: NYSE, Currency: USD, LocalSymbol: SAN, TradingClass: SAN, IncludeExpired: False, SecIdType: , SecId: , Description: , IssuerId: Combo:,SAN,0.0001,ACTIVETIM,AD,ADDONT,ADJUST,ALERT,ALGO,ALLOC,AON,AVGCOST,BASKET,BENCHPX,CASHQTY,COND,CONDORDER,DARKONLY,DARKPOLL,DAY,DEACT,DEACTDIS,DEACTEOD,DIS,DUR,GAT,GTC,GTD,GTT,HID,IBKRATS,ICE,IMB,IOC,LIT,LMT,LOC,MIDPX,MIT,MKT,MOC,MTL,NGCOMB,NODARK,NONALGO,OCA,OPG,OPGREROUT,PEGBENCH,PEGMID,POSTATS,POSTONLY,PREOPGRTH,PRICECHK,REL,REL2MID,RELPCTOFS,RPI,RTH,RTHIGNOPG,SCALE,SCALEODD,SCALERST,SIZECHK,SNAPMID,SNAPMKT,SNAPREL,STP,STPLMT,SWEEP,TRAIL,TRAILLIT,TRAILLMT,TRAILMIT,WHATIF,SMART,AMEX,NYSE,CBOE,PHLX,ISE,CHX,ARCA,NASDAQ,DRCTEDGE,BEX,BATS,EDGEA,BYX,IEX,EDGX,FOXRIVER,PEARL,NYSENAT,LTSE,MEMX,IBEOS,OVERNIGHT,TPLUS0,PSX,1,0,BANCO SANTANDER SA-SPON ADR,,Financial,Banks,Diversified Banking Inst,US/Eastern,20250504:CLOSED;20250505:0400-20250505:2000;20250506:0400-20250506:2000;20250507:0400-20250507:2000;20250508:0400-20250508:2000;20250509:0400-20250509:2000,20250504:CLOSED;20250505:0930-20250505:1600;20250506:0930-20250506:1600;20250507:0930-20250507:1600;20250508:0930-20250508:1600;20250509:0930-20250509:1600,,0,,,557,557,557,557,557,557,557,557,557,557,557,557,557,557,557,557,557,557,557,557,557,557,557,557,557,1,[3115303045248: ISIN=US05964H1059;],,ADR,,,,,,False,False,0,False,,,,,False,,0.0001,0.0001,100,None}\n",
      "2025-05-04 18:32:38,640 [INFO] ANSWER contractDetailsEnd {'reqId': 9}\n"
     ]
    }
   ],
   "source": [
    "# Place the order using the received contract details.\n",
    "# app.placeOrder(order.orderId, mycontract, myorder)"
   ]
  },
  {
   "cell_type": "code",
   "execution_count": 8,
   "id": "f3a24107-abea-4d22-8562-d1c4b24bef65",
   "metadata": {},
   "outputs": [
    {
     "data": {
      "text/plain": [
       "{4: {'contract': 3115303046304: ConId: 554208351, Symbol: WBD, SecType: STK, LastTradeDateOrContractMonth: , Strike: 0, Right: ?, Multiplier: , Exchange: SMART, PrimaryExchange: , Currency: USD, LocalSymbol: WBD, TradingClass: NMS, IncludeExpired: False, SecIdType: , SecId: , Description: , IssuerId: Combo:,\n",
       "  'order': 3115303045776: 4,6,859426550: LMT BUY 1@3 GTC,\n",
       "  'orderState': 'Status: PreSubmitted, InitMarginBefore: 1.7976931348623157E308, MaintMarginBefore: 1.7976931348623157E308, EquityWithLoanBefore: 1.7976931348623157E308, InitMarginChange: 1.7976931348623157E308, MaintMarginChange: 1.7976931348623157E308, EquityWithLoanChange: 1.7976931348623157E308, InitMarginAfter: 1.7976931348623157E308, MaintMarginAfter: 1.7976931348623157E308, EquityWithLoanAfter: 1.7976931348623157E308, CommissionAndFees: , MinCommissionAndFees: , MaxCommissionAndFees: , CommissionAndFeesCurrency: , MarginCurrency: , InitMarginBeforeOutsideRTH: , MaintMarginBeforeOutsideRTH: , EquityWithLoanBeforeOutsideRTH: , InitMarginChangeOutsideRTH: , MaintMarginChangeOutsideRTH: , equityWithLoanChangeOutsideRTH: , InitMarginAfterOutsideRTH: , MaintMarginAfterOutsideRTH: , equityWithLoanAfterOutsideRTH: , SuggestedSize: , RejectReason: , WarningText: , CompletedTime: , CompletedStatus: '},\n",
       " 5: {'contract': 3115303046064: ConId: 12442, Symbol: SAN, SecType: STK, LastTradeDateOrContractMonth: , Strike: 0, Right: ?, Multiplier: , Exchange: SMART, PrimaryExchange: , Currency: USD, LocalSymbol: SAN, TradingClass: SAN, IncludeExpired: False, SecIdType: , SecId: , Description: , IssuerId: Combo:,\n",
       "  'order': 3115303045824: 5,6,859426559: LMT BUY 1@7 GTC,\n",
       "  'orderState': 'Status: PreSubmitted, InitMarginBefore: 1.7976931348623157E308, MaintMarginBefore: 1.7976931348623157E308, EquityWithLoanBefore: 1.7976931348623157E308, InitMarginChange: 1.7976931348623157E308, MaintMarginChange: 1.7976931348623157E308, EquityWithLoanChange: 1.7976931348623157E308, InitMarginAfter: 1.7976931348623157E308, MaintMarginAfter: 1.7976931348623157E308, EquityWithLoanAfter: 1.7976931348623157E308, CommissionAndFees: , MinCommissionAndFees: , MaxCommissionAndFees: , CommissionAndFeesCurrency: , MarginCurrency: , InitMarginBeforeOutsideRTH: , MaintMarginBeforeOutsideRTH: , EquityWithLoanBeforeOutsideRTH: , InitMarginChangeOutsideRTH: , MaintMarginChangeOutsideRTH: , equityWithLoanChangeOutsideRTH: , InitMarginAfterOutsideRTH: , MaintMarginAfterOutsideRTH: , equityWithLoanAfterOutsideRTH: , SuggestedSize: , RejectReason: , WarningText: , CompletedTime: , CompletedStatus: '},\n",
       " 6: {'contract': 3115303046928: ConId: 12442, Symbol: SAN, SecType: STK, LastTradeDateOrContractMonth: , Strike: 0, Right: ?, Multiplier: , Exchange: SMART, PrimaryExchange: , Currency: USD, LocalSymbol: SAN, TradingClass: SAN, IncludeExpired: False, SecIdType: , SecId: , Description: , IssuerId: Combo:,\n",
       "  'order': 3115303046208: 6,6,859426566: LMT BUY 1@6 GTC,\n",
       "  'orderState': 'Status: PreSubmitted, InitMarginBefore: 1.7976931348623157E308, MaintMarginBefore: 1.7976931348623157E308, EquityWithLoanBefore: 1.7976931348623157E308, InitMarginChange: 1.7976931348623157E308, MaintMarginChange: 1.7976931348623157E308, EquityWithLoanChange: 1.7976931348623157E308, InitMarginAfter: 1.7976931348623157E308, MaintMarginAfter: 1.7976931348623157E308, EquityWithLoanAfter: 1.7976931348623157E308, CommissionAndFees: , MinCommissionAndFees: , MaxCommissionAndFees: , CommissionAndFeesCurrency: , MarginCurrency: , InitMarginBeforeOutsideRTH: , MaintMarginBeforeOutsideRTH: , EquityWithLoanBeforeOutsideRTH: , InitMarginChangeOutsideRTH: , MaintMarginChangeOutsideRTH: , equityWithLoanChangeOutsideRTH: , InitMarginAfterOutsideRTH: , MaintMarginAfterOutsideRTH: , equityWithLoanAfterOutsideRTH: , SuggestedSize: , RejectReason: , WarningText: , CompletedTime: , CompletedStatus: '},\n",
       " 7: {'contract': 3115303045488: ConId: 12442, Symbol: SAN, SecType: STK, LastTradeDateOrContractMonth: , Strike: 0, Right: ?, Multiplier: , Exchange: SMART, PrimaryExchange: , Currency: USD, LocalSymbol: SAN, TradingClass: SAN, IncludeExpired: False, SecIdType: , SecId: , Description: , IssuerId: Combo:,\n",
       "  'order': 3115303045344: 7,6,859426569: LMT BUY 1@5 GTC,\n",
       "  'orderState': 'Status: PreSubmitted, InitMarginBefore: 1.7976931348623157E308, MaintMarginBefore: 1.7976931348623157E308, EquityWithLoanBefore: 1.7976931348623157E308, InitMarginChange: 1.7976931348623157E308, MaintMarginChange: 1.7976931348623157E308, EquityWithLoanChange: 1.7976931348623157E308, InitMarginAfter: 1.7976931348623157E308, MaintMarginAfter: 1.7976931348623157E308, EquityWithLoanAfter: 1.7976931348623157E308, CommissionAndFees: , MinCommissionAndFees: , MaxCommissionAndFees: , CommissionAndFeesCurrency: , MarginCurrency: , InitMarginBeforeOutsideRTH: , MaintMarginBeforeOutsideRTH: , EquityWithLoanBeforeOutsideRTH: , InitMarginChangeOutsideRTH: , MaintMarginChangeOutsideRTH: , equityWithLoanChangeOutsideRTH: , InitMarginAfterOutsideRTH: , MaintMarginAfterOutsideRTH: , equityWithLoanAfterOutsideRTH: , SuggestedSize: , RejectReason: , WarningText: , CompletedTime: , CompletedStatus: '},\n",
       " 8: {'contract': 3115303045920: ConId: 12442, Symbol: SAN, SecType: STK, LastTradeDateOrContractMonth: , Strike: 0, Right: ?, Multiplier: , Exchange: SMART, PrimaryExchange: , Currency: USD, LocalSymbol: SAN, TradingClass: SAN, IncludeExpired: False, SecIdType: , SecId: , Description: , IssuerId: Combo:,\n",
       "  'order': 3115303045632: 8,6,859426573: LMT BUY 1@6.5 GTC,\n",
       "  'orderState': 'Status: PreSubmitted, InitMarginBefore: 1.7976931348623157E308, MaintMarginBefore: 1.7976931348623157E308, EquityWithLoanBefore: 1.7976931348623157E308, InitMarginChange: 1.7976931348623157E308, MaintMarginChange: 1.7976931348623157E308, EquityWithLoanChange: 1.7976931348623157E308, InitMarginAfter: 1.7976931348623157E308, MaintMarginAfter: 1.7976931348623157E308, EquityWithLoanAfter: 1.7976931348623157E308, CommissionAndFees: , MinCommissionAndFees: , MaxCommissionAndFees: , CommissionAndFeesCurrency: , MarginCurrency: , InitMarginBeforeOutsideRTH: , MaintMarginBeforeOutsideRTH: , EquityWithLoanBeforeOutsideRTH: , InitMarginChangeOutsideRTH: , MaintMarginChangeOutsideRTH: , equityWithLoanChangeOutsideRTH: , InitMarginAfterOutsideRTH: , MaintMarginAfterOutsideRTH: , equityWithLoanAfterOutsideRTH: , SuggestedSize: , RejectReason: , WarningText: , CompletedTime: , CompletedStatus: '}}"
      ]
     },
     "execution_count": 8,
     "metadata": {},
     "output_type": "execute_result"
    }
   ],
   "source": [
    "{order_id: app.my_orders[order_id] for order_id in sorted(app.my_orders)}"
   ]
  },
  {
   "cell_type": "code",
   "execution_count": 10,
   "id": "7e205369-e978-4d2e-8c1a-539280ff30a5",
   "metadata": {},
   "outputs": [
    {
     "name": "stderr",
     "output_type": "stream",
     "text": [
      "2025-05-04 18:32:52,295 [INFO] REQUEST placeOrder {'orderId': 7, 'contract': 3115300994592: ConId: 0, Symbol: SAN, SecType: STK, LastTradeDateOrContractMonth: , Strike: , Right: , Multiplier: , Exchange: SMART, PrimaryExchange: , Currency: USD, LocalSymbol: , TradingClass: , IncludeExpired: False, SecIdType: , SecId: , Description: , IssuerId: Combo:, 'order': 3115300993680: 7,0,0: LMT BUY 1@5.5 GTC}\n",
      "2025-05-04 18:32:52,297 [INFO] SENDING placeOrder b'\\x00\\x00\\x01c\\x00\\x00\\x00\\x037\\x000\\x00SAN\\x00STK\\x00\\x00\\x00\\x00\\x00SMART\\x00\\x00USD\\x00\\x00\\x00\\x00\\x00BUY\\x001\\x00LMT\\x005.5\\x00\\x00GTC\\x00\\x00\\x00\\x000\\x00\\x001\\x000\\x000\\x000\\x000\\x000\\x000\\x000\\x00\\x000\\x00\\x00\\x00\\x00\\x00\\x00\\x000\\x00\\x00-1\\x000\\x00\\x00\\x000\\x00\\x00\\x000\\x000\\x00\\x000\\x00\\x00\\x00\\x00\\x00\\x000\\x00\\x00\\x00\\x00\\x000\\x00\\x00\\x00\\x00\\x00\\x00\\x00\\x00\\x00\\x00\\x000\\x00\\x00\\x000\\x000\\x00\\x00\\x000\\x00\\x000\\x000\\x000\\x000\\x00\\x001.7976931348623157e+308\\x001.7976931348623157e+308\\x001.7976931348623157e+308\\x001.7976931348623157e+308\\x001.7976931348623157e+308\\x000\\x00\\x00\\x00\\x001.7976931348623157e+308\\x00\\x00\\x00\\x00\\x000\\x000\\x000\\x00\\x002147483647\\x002147483647\\x000\\x00\\x00\\x00\\x000\\x000\\x002147483647\\x000\\x00'\n"
     ]
    },
    {
     "name": "stdout",
     "output_type": "stream",
     "text": [
      "Modifying order 7. Old limit price: 5.0\n",
      "Order 7 modification submitted with new limit price: 5.5\n",
      "\n",
      "Open Order Callback:\n",
      "OrderId: 7\n",
      "Contract: ConId: 12442, Symbol: SAN, SecType: STK, LastTradeDateOrContractMonth: , Strike: 0, Right: ?, Multiplier: , Exchange: SMART, PrimaryExchange: , Currency: USD, LocalSymbol: SAN, TradingClass: SAN, IncludeExpired: False, SecIdType: , SecId: , Description: , IssuerId: Combo:\n",
      "Order: 7,6,859426569: LMT BUY 1@5.5 GTC\n",
      "OrderState: Status: PreSubmitted, InitMarginBefore: 1.7976931348623157E308, MaintMarginBefore: 1.7976931348623157E308, EquityWithLoanBefore: 1.7976931348623157E308, InitMarginChange: 1.7976931348623157E308, MaintMarginChange: 1.7976931348623157E308, EquityWithLoanChange: 1.7976931348623157E308, InitMarginAfter: 1.7976931348623157E308, MaintMarginAfter: 1.7976931348623157E308, EquityWithLoanAfter: 1.7976931348623157E308, CommissionAndFees: , MinCommissionAndFees: , MaxCommissionAndFees: , CommissionAndFeesCurrency: , MarginCurrency: , InitMarginBeforeOutsideRTH: , MaintMarginBeforeOutsideRTH: , EquityWithLoanBeforeOutsideRTH: , InitMarginChangeOutsideRTH: , MaintMarginChangeOutsideRTH: , equityWithLoanChangeOutsideRTH: , InitMarginAfterOutsideRTH: , MaintMarginAfterOutsideRTH: , equityWithLoanAfterOutsideRTH: , SuggestedSize: , RejectReason: , WarningText: , CompletedTime: , CompletedStatus: \n",
      "\n",
      "Updated my_orders from openOrder callback:\n",
      "OrderId: 7 -> Order: 7,6,859426569: LMT BUY 1@5.5 GTC\n",
      "OrderId: 8 -> Order: 8,6,859426573: LMT BUY 1@6.5 GTC\n",
      "OrderId: 5 -> Order: 5,6,859426559: LMT BUY 1@7 GTC\n",
      "OrderId: 4 -> Order: 4,6,859426550: LMT BUY 1@3 GTC\n",
      "OrderId: 6 -> Order: 6,6,859426566: LMT BUY 1@6 GTC\n",
      "\n",
      "Order Status Callback:\n",
      "OrderId: 7, Status: PreSubmitted, Filled: 0, Remaining: 1,\n",
      "AvgFillPrice: 0.0, PermId: 859426569, ParentId: 0,\n",
      "LastFillPrice: 0.0, ClientId: 6, WhyHeld: , MktCapPrice: 0.0\n",
      "\n"
     ]
    }
   ],
   "source": [
    "app.modifyOrder(7, 5.5)"
   ]
  },
  {
   "cell_type": "code",
   "execution_count": 11,
   "id": "587e0e11-8be0-4d24-8ed4-afd068d24877",
   "metadata": {},
   "outputs": [
    {
     "data": {
      "text/plain": [
       "{4: {'contract': 3115303046304: ConId: 554208351, Symbol: WBD, SecType: STK, LastTradeDateOrContractMonth: , Strike: 0, Right: ?, Multiplier: , Exchange: SMART, PrimaryExchange: , Currency: USD, LocalSymbol: WBD, TradingClass: NMS, IncludeExpired: False, SecIdType: , SecId: , Description: , IssuerId: Combo:,\n",
       "  'order': 3115303045776: 4,6,859426550: LMT BUY 1@3 GTC,\n",
       "  'orderState': 'Status: PreSubmitted, InitMarginBefore: 1.7976931348623157E308, MaintMarginBefore: 1.7976931348623157E308, EquityWithLoanBefore: 1.7976931348623157E308, InitMarginChange: 1.7976931348623157E308, MaintMarginChange: 1.7976931348623157E308, EquityWithLoanChange: 1.7976931348623157E308, InitMarginAfter: 1.7976931348623157E308, MaintMarginAfter: 1.7976931348623157E308, EquityWithLoanAfter: 1.7976931348623157E308, CommissionAndFees: , MinCommissionAndFees: , MaxCommissionAndFees: , CommissionAndFeesCurrency: , MarginCurrency: , InitMarginBeforeOutsideRTH: , MaintMarginBeforeOutsideRTH: , EquityWithLoanBeforeOutsideRTH: , InitMarginChangeOutsideRTH: , MaintMarginChangeOutsideRTH: , equityWithLoanChangeOutsideRTH: , InitMarginAfterOutsideRTH: , MaintMarginAfterOutsideRTH: , equityWithLoanAfterOutsideRTH: , SuggestedSize: , RejectReason: , WarningText: , CompletedTime: , CompletedStatus: '},\n",
       " 5: {'contract': 3115303046064: ConId: 12442, Symbol: SAN, SecType: STK, LastTradeDateOrContractMonth: , Strike: 0, Right: ?, Multiplier: , Exchange: SMART, PrimaryExchange: , Currency: USD, LocalSymbol: SAN, TradingClass: SAN, IncludeExpired: False, SecIdType: , SecId: , Description: , IssuerId: Combo:,\n",
       "  'order': 3115303045824: 5,6,859426559: LMT BUY 1@7 GTC,\n",
       "  'orderState': 'Status: PreSubmitted, InitMarginBefore: 1.7976931348623157E308, MaintMarginBefore: 1.7976931348623157E308, EquityWithLoanBefore: 1.7976931348623157E308, InitMarginChange: 1.7976931348623157E308, MaintMarginChange: 1.7976931348623157E308, EquityWithLoanChange: 1.7976931348623157E308, InitMarginAfter: 1.7976931348623157E308, MaintMarginAfter: 1.7976931348623157E308, EquityWithLoanAfter: 1.7976931348623157E308, CommissionAndFees: , MinCommissionAndFees: , MaxCommissionAndFees: , CommissionAndFeesCurrency: , MarginCurrency: , InitMarginBeforeOutsideRTH: , MaintMarginBeforeOutsideRTH: , EquityWithLoanBeforeOutsideRTH: , InitMarginChangeOutsideRTH: , MaintMarginChangeOutsideRTH: , equityWithLoanChangeOutsideRTH: , InitMarginAfterOutsideRTH: , MaintMarginAfterOutsideRTH: , equityWithLoanAfterOutsideRTH: , SuggestedSize: , RejectReason: , WarningText: , CompletedTime: , CompletedStatus: '},\n",
       " 6: {'contract': 3115303046928: ConId: 12442, Symbol: SAN, SecType: STK, LastTradeDateOrContractMonth: , Strike: 0, Right: ?, Multiplier: , Exchange: SMART, PrimaryExchange: , Currency: USD, LocalSymbol: SAN, TradingClass: SAN, IncludeExpired: False, SecIdType: , SecId: , Description: , IssuerId: Combo:,\n",
       "  'order': 3115303046208: 6,6,859426566: LMT BUY 1@6 GTC,\n",
       "  'orderState': 'Status: PreSubmitted, InitMarginBefore: 1.7976931348623157E308, MaintMarginBefore: 1.7976931348623157E308, EquityWithLoanBefore: 1.7976931348623157E308, InitMarginChange: 1.7976931348623157E308, MaintMarginChange: 1.7976931348623157E308, EquityWithLoanChange: 1.7976931348623157E308, InitMarginAfter: 1.7976931348623157E308, MaintMarginAfter: 1.7976931348623157E308, EquityWithLoanAfter: 1.7976931348623157E308, CommissionAndFees: , MinCommissionAndFees: , MaxCommissionAndFees: , CommissionAndFeesCurrency: , MarginCurrency: , InitMarginBeforeOutsideRTH: , MaintMarginBeforeOutsideRTH: , EquityWithLoanBeforeOutsideRTH: , InitMarginChangeOutsideRTH: , MaintMarginChangeOutsideRTH: , equityWithLoanChangeOutsideRTH: , InitMarginAfterOutsideRTH: , MaintMarginAfterOutsideRTH: , equityWithLoanAfterOutsideRTH: , SuggestedSize: , RejectReason: , WarningText: , CompletedTime: , CompletedStatus: '},\n",
       " 7: {'contract': 3115300982400: ConId: 12442, Symbol: SAN, SecType: STK, LastTradeDateOrContractMonth: , Strike: 0, Right: ?, Multiplier: , Exchange: SMART, PrimaryExchange: , Currency: USD, LocalSymbol: SAN, TradingClass: SAN, IncludeExpired: False, SecIdType: , SecId: , Description: , IssuerId: Combo:,\n",
       "  'order': 3115300994592: 7,6,859426569: LMT BUY 1@5.5 GTC,\n",
       "  'orderState': 'Status: PreSubmitted, InitMarginBefore: 1.7976931348623157E308, MaintMarginBefore: 1.7976931348623157E308, EquityWithLoanBefore: 1.7976931348623157E308, InitMarginChange: 1.7976931348623157E308, MaintMarginChange: 1.7976931348623157E308, EquityWithLoanChange: 1.7976931348623157E308, InitMarginAfter: 1.7976931348623157E308, MaintMarginAfter: 1.7976931348623157E308, EquityWithLoanAfter: 1.7976931348623157E308, CommissionAndFees: , MinCommissionAndFees: , MaxCommissionAndFees: , CommissionAndFeesCurrency: , MarginCurrency: , InitMarginBeforeOutsideRTH: , MaintMarginBeforeOutsideRTH: , EquityWithLoanBeforeOutsideRTH: , InitMarginChangeOutsideRTH: , MaintMarginChangeOutsideRTH: , equityWithLoanChangeOutsideRTH: , InitMarginAfterOutsideRTH: , MaintMarginAfterOutsideRTH: , equityWithLoanAfterOutsideRTH: , SuggestedSize: , RejectReason: , WarningText: , CompletedTime: , CompletedStatus: '},\n",
       " 8: {'contract': 3115303045920: ConId: 12442, Symbol: SAN, SecType: STK, LastTradeDateOrContractMonth: , Strike: 0, Right: ?, Multiplier: , Exchange: SMART, PrimaryExchange: , Currency: USD, LocalSymbol: SAN, TradingClass: SAN, IncludeExpired: False, SecIdType: , SecId: , Description: , IssuerId: Combo:,\n",
       "  'order': 3115303045632: 8,6,859426573: LMT BUY 1@6.5 GTC,\n",
       "  'orderState': 'Status: PreSubmitted, InitMarginBefore: 1.7976931348623157E308, MaintMarginBefore: 1.7976931348623157E308, EquityWithLoanBefore: 1.7976931348623157E308, InitMarginChange: 1.7976931348623157E308, MaintMarginChange: 1.7976931348623157E308, EquityWithLoanChange: 1.7976931348623157E308, InitMarginAfter: 1.7976931348623157E308, MaintMarginAfter: 1.7976931348623157E308, EquityWithLoanAfter: 1.7976931348623157E308, CommissionAndFees: , MinCommissionAndFees: , MaxCommissionAndFees: , CommissionAndFeesCurrency: , MarginCurrency: , InitMarginBeforeOutsideRTH: , MaintMarginBeforeOutsideRTH: , EquityWithLoanBeforeOutsideRTH: , InitMarginChangeOutsideRTH: , MaintMarginChangeOutsideRTH: , equityWithLoanChangeOutsideRTH: , InitMarginAfterOutsideRTH: , MaintMarginAfterOutsideRTH: , equityWithLoanAfterOutsideRTH: , SuggestedSize: , RejectReason: , WarningText: , CompletedTime: , CompletedStatus: '}}"
      ]
     },
     "execution_count": 11,
     "metadata": {},
     "output_type": "execute_result"
    },
    {
     "name": "stdout",
     "output_type": "stream",
     "text": [
      "Error - reqId: -1, errorTime: 1746376418136, errorCode: 2103, errorString: Market data farm connection is broken:usfarm.nj, OrderReject: \n",
      "Error - reqId: -1, errorTime: 1746376418140, errorCode: 2105, errorString: HMDS data farm connection is broken:ushmds, OrderReject: \n",
      "Error - reqId: -1, errorTime: 1746376419512, errorCode: 1100, errorString: Connectivity between IBKR and Trader Workstation has been lost., OrderReject: \n",
      "Error - reqId: -1, errorTime: 1746376419561, errorCode: 2103, errorString: Market data farm connection is broken:usfarm, OrderReject: \n",
      "Error - reqId: -1, errorTime: 1746376421934, errorCode: 2105, errorString: HMDS data farm connection is broken:euhmds, OrderReject: \n",
      "Error - reqId: -1, errorTime: 1746376421970, errorCode: 2157, errorString: Sec-def data farm connection is broken:secdefeu, OrderReject: \n",
      "Error - reqId: -1, errorTime: 1746376422008, errorCode: 2103, errorString: Market data farm connection is broken:cashfarm, OrderReject: \n",
      "Error - reqId: -1, errorTime: 1746376429214, errorCode: 2105, errorString: HMDS data farm connection is broken:fundfarm, OrderReject: \n",
      "Error - reqId: -1, errorTime: 1746376429214, errorCode: 2103, errorString: Market data farm connection is broken:eufarm, OrderReject: \n",
      "Error - reqId: -1, errorTime: 1746376429214, errorCode: 2103, errorString: Market data farm connection is broken:usfuture, OrderReject: \n",
      "Error - reqId: -1, errorTime: 1746376437854, errorCode: 1100, errorString: Connectivity between IBKR and Trader Workstation has been lost., OrderReject: \n"
     ]
    }
   ],
   "source": [
    "{order_id: app.my_orders[order_id] for order_id in sorted(app.my_orders)}"
   ]
  },
  {
   "cell_type": "code",
   "execution_count": null,
   "id": "9c06a289-42a0-46f7-8b2b-58d8420a691f",
   "metadata": {},
   "outputs": [],
   "source": []
  },
  {
   "cell_type": "code",
   "execution_count": null,
   "id": "2cbd71aa-08ad-476a-8d4b-2f6c9342fa71",
   "metadata": {},
   "outputs": [],
   "source": []
  },
  {
   "cell_type": "code",
   "execution_count": null,
   "id": "2b5b5f73-57e2-48d4-8f03-aa8df2a3ea84",
   "metadata": {},
   "outputs": [],
   "source": []
  }
 ],
 "metadata": {
  "kernelspec": {
   "display_name": "Python 3 (ipykernel)",
   "language": "python",
   "name": "python3"
  },
  "language_info": {
   "codemirror_mode": {
    "name": "ipython",
    "version": 3
   },
   "file_extension": ".py",
   "mimetype": "text/x-python",
   "name": "python",
   "nbconvert_exporter": "python",
   "pygments_lexer": "ipython3",
   "version": "3.10.10"
  }
 },
 "nbformat": 4,
 "nbformat_minor": 5
}
