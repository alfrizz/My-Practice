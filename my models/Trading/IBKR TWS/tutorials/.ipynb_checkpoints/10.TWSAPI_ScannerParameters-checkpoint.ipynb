{
 "cells": [
  {
   "cell_type": "code",
   "execution_count": null,
   "id": "208da3ea-e74e-43f1-92ed-1d14b940a659",
   "metadata": {},
   "outputs": [],
   "source": [
    "\"\"\"\n",
    "This sample demonstrates how to request and save the market scanner parameters from TWS/IB Gateway\n",
    "using the IB API. Scanner parameters are returned as an XML string containing a comprehensive list \n",
    "of scanning tags, filters, and available codes. This XML data is typically very large (around 2 MB),\n",
    "so we save it to a file rather than printing it to the terminal.\n",
    "\"\"\"\n",
    "\n",
    "import os\n",
    "from ibapi.client import EClient\n",
    "from ibapi.wrapper import EWrapper\n"
   ]
  },
  {
   "cell_type": "code",
   "execution_count": null,
   "id": "f1371fe9-07fc-4071-a20a-1c183ccc8525",
   "metadata": {},
   "outputs": [],
   "source": [
    "\n",
    "class TestApp(EClient, EWrapper):\n",
    "    \"\"\"\n",
    "    TestApp class combining EClient (for making API requests) and EWrapper (for handling callbacks).\n",
    "    \n",
    "    This sample specifically demonstrates how to request the market scanner parameters.\n",
    "    \"\"\"\n",
    "    def __init__(self):\n",
    "        # Initialize EClient with a reference to this instance as its wrapper.\n",
    "        EClient.__init__(self, self)\n",
    "        \n",
    "    def nextValidId(self, orderId: int):\n",
    "        \"\"\"\n",
    "        Callback method called by TWS when a valid order ID is received.\n",
    "        \n",
    "        This is our cue to begin sending our request—in this case, for scanner parameters.\n",
    "        \n",
    "        Args:\n",
    "            orderId (int): The next valid order ID (not used here, but required for the callback).\n",
    "        \"\"\"\n",
    "        # Request market scanner parameters. The result will be returned asynchronously\n",
    "        # in the scannerParameters callback method.\n",
    "        self.reqScannerParameters()\n",
    "\n",
    "    def scannerParameters(self, xml: str):\n",
    "        \"\"\"\n",
    "        Callback method that receives the scanner parameters as an XML string.\n",
    "        \n",
    "        Args:\n",
    "            xml (str): The XML string containing available scanner parameters and their values.\n",
    "            \n",
    "        The XML is saved to a specified directory since it is too large for normal terminal output.\n",
    "        \"\"\"\n",
    "        # Define the file path where the scanner parameters XML will be saved.\n",
    "        # (Ensure that this directory exists on your system.)\n",
    "        file_path = r\"C:\\IBKR\\TWS API\\samples\\Python\\Testbed\\Traders Academy\\scanner.xml\"\n",
    "        \n",
    "        # Open the file in write mode and save the XML string.\n",
    "        with open(file_path, 'w') as file:\n",
    "            file.write(xml)\n",
    "        \n",
    "        # Notify the user that the scanner parameters have been successfully received and saved.\n",
    "        print(\"Scanner parameters received and saved to:\", file_path)\n"
   ]
  },
  {
   "cell_type": "code",
   "execution_count": null,
   "id": "3b7d10fe-c55e-4cd2-9379-4812e265dc00",
   "metadata": {},
   "outputs": [],
   "source": [
    "# Define the port number to use for the TWS API connection\n",
    "PORT = 7497\n",
    "\n",
    "\"\"\"\n",
    "Main function for setting up the TestApp, connecting to TWS, and processing API data.\n",
    "\n",
    "This function:\n",
    "  - Instantiates the TestApp.\n",
    "  - Connects to TWS/IB Gateway.\n",
    "  - Starts the message loop (which processes callbacks, including our scanner parameter data).\n",
    "\"\"\"\n",
    "app = TestApp()\n",
    "\n",
    "# Connect to TWS/IB Gateway using localhost (127.0.0.1) and the specified port.\n",
    "# The clientId (here \"1001\") should be a unique integer per client session.\n",
    "app.connect(\"127.0.0.1\", PORT, clientId=1001)\n",
    "\n",
    "# Start the API messaging loop. This call blocks as it processes messages until disconnect.\n",
    "app.run()"
   ]
  },
  {
   "cell_type": "code",
   "execution_count": null,
   "id": "0fb2ba4b-94bb-41b5-b1f5-7d5770887ef9",
   "metadata": {},
   "outputs": [],
   "source": []
  },
  {
   "cell_type": "code",
   "execution_count": null,
   "id": "4d2b6a24-3d6b-4f3b-a6b9-a7adb3c40d35",
   "metadata": {},
   "outputs": [],
   "source": []
  },
  {
   "cell_type": "code",
   "execution_count": null,
   "id": "93f5e72c-4474-4b95-a7e6-f7cd199cbf4f",
   "metadata": {},
   "outputs": [],
   "source": []
  },
  {
   "cell_type": "code",
   "execution_count": null,
   "id": "d1f24898-0cde-48e4-bc8b-2f7a314ce1a7",
   "metadata": {},
   "outputs": [],
   "source": []
  },
  {
   "cell_type": "code",
   "execution_count": null,
   "id": "c755289f-66b7-4f4e-83b2-5f59793a01f8",
   "metadata": {},
   "outputs": [],
   "source": []
  },
  {
   "cell_type": "code",
   "execution_count": null,
   "id": "0ee71011-cb7e-4204-ba19-b52da9948b2e",
   "metadata": {},
   "outputs": [],
   "source": []
  }
 ],
 "metadata": {
  "kernelspec": {
   "display_name": "Python 3 (ipykernel)",
   "language": "python",
   "name": "python3"
  },
  "language_info": {
   "codemirror_mode": {
    "name": "ipython",
    "version": 3
   },
   "file_extension": ".py",
   "mimetype": "text/x-python",
   "name": "python",
   "nbconvert_exporter": "python",
   "pygments_lexer": "ipython3",
   "version": "3.10.10"
  }
 },
 "nbformat": 4,
 "nbformat_minor": 5
}
