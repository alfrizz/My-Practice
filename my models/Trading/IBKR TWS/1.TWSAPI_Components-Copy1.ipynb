{
 "cells": [
  {
   "cell_type": "code",
   "execution_count": 1,
   "id": "040a3cfe-b1ff-4bcc-8270-12d279a3acfa",
   "metadata": {},
   "outputs": [],
   "source": [
    "# ---------------------------------------------------------------------------\n",
    "# Importing Required Modules:\n",
    "# ---------------------------------------------------------------------------\n",
    "\n",
    "from ibapi.client import EClient  # Provides communication with TWS/IB Gateway\n",
    "from ibapi.wrapper import EWrapper  # Provides callback definitions for responses from TWS\n",
    "import time                        # To allow sleep before sending request\n",
    "import threading                   # To run the IB API client in its own thread\n",
    "import logging\n",
    "\n",
    "# Configure logging to output INFO-level messages on the console\n",
    "logging.basicConfig(\n",
    "    level=logging.INFO,\n",
    "    format=\"%(asctime)s [%(levelname)s] %(message)s\"\n",
    ")\n"
   ]
  },
  {
   "cell_type": "code",
   "execution_count": 2,
   "id": "e15ad45f-2f72-4f08-9dc7-35bf4414b928",
   "metadata": {},
   "outputs": [],
   "source": [
    "# !python setup.py install"
   ]
  },
  {
   "cell_type": "code",
   "execution_count": 3,
   "id": "d2bef992-38bb-49b3-8054-95fb16163772",
   "metadata": {},
   "outputs": [],
   "source": [
    "# ! python -m pip show ibapi"
   ]
  },
  {
   "cell_type": "code",
   "execution_count": 4,
   "id": "a44cacef-340f-4501-9134-911d67990643",
   "metadata": {},
   "outputs": [],
   "source": [
    "# print(\"\\nibapi is being loaded from:\", ibapi.__file__)"
   ]
  },
  {
   "cell_type": "code",
   "execution_count": 5,
   "id": "3c0753e0-90a7-4797-875c-777fb0959d78",
   "metadata": {},
   "outputs": [
    {
     "data": {
      "text/plain": [
       "'\\nIn this program, we demonstrate how to build a basic \"Hello World\" style script\\nusing the Interactive Brokers TWS API. The key components include:\\n\\n1. Importing necessary modules and API classes:\\n   - EClient: Manages outgoing messages to Trader Workstation (TWS) or IB Gateway.\\n   - EWrapper: Gets triggered by TWS when incoming messages (responses, errors) occur.\\n   - time and threading: Used to handle delays and run the API\\'s event loop concurrently.\\n\\n2. Creating a custom class (TestApp) that inherits from both EClient and EWrapper.\\n   This class combines sending requests (EClient) and receiving responses (EWrapper).\\n\\n3. Implementing the nextValidId method, which TWS uses to provide the first valid\\n   order ID when a connection is established. This ensures uniqueness for future order requests.\\n\\n4. Implementing a helper method nextId to increment the order ID for every new order request.\\n\\n5. Defining the currentTime and error methods so that when TWS sends the current time or an error,\\n   our program can print and process the information accordingly.\\n\\n6. Establishing a connection to TWS by using the app.connect() method and then starting the\\n   API’s run loop on a separate thread. This allows our program to remain responsive while\\n   TWS sends asynchronous messages.\\n\\n7. Requesting the current time from TWS to demonstrate that the connection is working and the\\n   callback (currentTime) is being triggered correctly.\\n\\nBelow, each section of the code is explained in detail.\\n'"
      ]
     },
     "execution_count": 5,
     "metadata": {},
     "output_type": "execute_result"
    }
   ],
   "source": [
    "\"\"\"\n",
    "In this program, we demonstrate how to build a basic \"Hello World\" style script\n",
    "using the Interactive Brokers TWS API. The key components include:\n",
    "\n",
    "1. Importing necessary modules and API classes:\n",
    "   - EClient: Manages outgoing messages to Trader Workstation (TWS) or IB Gateway.\n",
    "   - EWrapper: Gets triggered by TWS when incoming messages (responses, errors) occur.\n",
    "   - time and threading: Used to handle delays and run the API's event loop concurrently.\n",
    "\n",
    "2. Creating a custom class (TestApp) that inherits from both EClient and EWrapper.\n",
    "   This class combines sending requests (EClient) and receiving responses (EWrapper).\n",
    "\n",
    "3. Implementing the nextValidId method, which TWS uses to provide the first valid\n",
    "   order ID when a connection is established. This ensures uniqueness for future order requests.\n",
    "\n",
    "4. Implementing a helper method nextId to increment the order ID for every new order request.\n",
    "\n",
    "5. Defining the currentTime and error methods so that when TWS sends the current time or an error,\n",
    "   our program can print and process the information accordingly.\n",
    "\n",
    "6. Establishing a connection to TWS by using the app.connect() method and then starting the\n",
    "   API’s run loop on a separate thread. This allows our program to remain responsive while\n",
    "   TWS sends asynchronous messages.\n",
    "\n",
    "7. Requesting the current time from TWS to demonstrate that the connection is working and the\n",
    "   callback (currentTime) is being triggered correctly.\n",
    "\n",
    "Below, each section of the code is explained in detail.\n",
    "\"\"\"\n"
   ]
  },
  {
   "cell_type": "code",
   "execution_count": 6,
   "id": "07ac71f3-9420-4d20-bfff-29f972bbdda7",
   "metadata": {},
   "outputs": [],
   "source": [
    "# ---------------------------------------------------------------------------\n",
    "# Defining the TestApp Class:\n",
    "# ---------------------------------------------------------------------------\n",
    "# Here we define a new class called TestApp which inherits from both EClient and EWrapper.\n",
    "# This combination is standard in TWS API programs because we use EClient to send messages and EWrapper to handle the responses and events that TWS generates.\n",
    "# TestApp is a subclass of both EClient and EWrapper. In other words, TestApp will inherit (or \"reuse\") all the methods and properties from both of these classes.\n",
    "class TestApp(EClient, EWrapper):\n",
    "    # -----------------------------------------------------------------------\n",
    "    # The __init__ Method:\n",
    "    # -----------------------------------------------------------------------\n",
    "    def __init__(self):\n",
    "        # We initialize the EClient part of our class by calling its constructor.\n",
    "        # We pass 'self' as both the EClient and EWrapper instance because our TestApp class fulfills both roles.\n",
    "        # The second self is passed as the callback handler (wrapper) since TestApp is also an EWrapper (inherits from it)\n",
    "        EClient.__init__(self, self)\n",
    "        # EWrapper.__init__(self) is not necessary because it does not perform any useful setup (its constructor contains only 'pass')\n",
    "        \n",
    "        # Initialize orderId attribute with None. \n",
    "        # It will be updated with a valid order ID as soon as TWS sends back the next valid order ID via the nextValidId() callback.\n",
    "        self.orderId = None\n",
    "\n",
    "    # -----------------------------------------------------------------------\n",
    "    # EWrapper Callback Method: nextValidId\n",
    "    # -----------------------------------------------------------------------\n",
    "    # When you connect to TWS, it calls the nextValidId method to inform your application of\n",
    "    # the first valid order ID. This is critical to ensuring that each order your app submits\n",
    "    # has a unique identifier, preventing duplicates.\n",
    "    def nextValidId(self, orderId):\n",
    "        # Save the orderId that TWS sends into our object's state.\n",
    "        self.orderId = orderId\n",
    "\n",
    "    \n",
    "    # -----------------------------------------------------------------------\n",
    "    # Helper Method: nextId\n",
    "    # -----------------------------------------------------------------------\n",
    "    # This helper method uses the orderId we stored and increments it by 1. Each time we want to\n",
    "    # submit a new order, we call this method to get a unique, incremented order ID. This is essential\n",
    "    # for proper order management.\n",
    "    def nextId(self):\n",
    "        # Increase the current orderId by 1.\n",
    "        self.orderId += 1\n",
    "        # Return the new, incremented orderId so it can be used in an order request.\n",
    "        return self.orderId\n",
    "\n",
    "    \n",
    "    # -----------------------------------------------------------------------\n",
    "    # EWrapper Callback Method: currentTime\n",
    "    # -----------------------------------------------------------------------\n",
    "    # The reqCurrentTime() method (called later in the program) requests the current time\n",
    "    # from TWS, and then TWS calls this currentTime() method to return the time value.\n",
    "    # This is useful for verifying that the connection to TWS is active and to see the server's time.\n",
    "    def currentTime(self, time):\n",
    "        super().currentTime(time)  # This enables both functionalities of inherited code and new code—to run together (print and log together)\n",
    "        # When TWS sends the current time, simply print it out.\n",
    "        # The time value here represents the current epoch time from TWS.\n",
    "        # In this TestApp class, currentTime (from wrapper.py) is overridden so that it prints the value.\n",
    "        print(\"Current TWS Time:\", time)\n",
    "\n",
    "\n",
    "    # -----------------------------------------------------------------------\n",
    "    # EWrapper Callback Method: error\n",
    "    # -----------------------------------------------------------------------\n",
    "    # Whenever an error occurs or TWS needs to notify you of an event (like connection issues,\n",
    "    # invalid requests, or market data notifications), this error() method will be called.\n",
    "    # It passes several parameters that help you understand the source and nature of the error.\n",
    "    def error(self, reqId, errorTime, errorCode, errorString, advancedOrderReject=\"\"):\n",
    "        # Print the error parameters in a formatted way so you can easily read and diagnose what happened.\n",
    "        # The f-string helps label each value clearly.\n",
    "        print(f\"Error - reqId: {reqId},  errorTime: {errorTime}, errorCode: {errorCode}, errorString: {errorString}, advancedOrderReject: {advancedOrderReject}\")\n",
    "\n"
   ]
  },
  {
   "cell_type": "code",
   "execution_count": 7,
   "id": "d44221ef-6d43-4718-af9d-c3beee535f77",
   "metadata": {},
   "outputs": [
    {
     "name": "stderr",
     "output_type": "stream",
     "text": [
      "2025-04-30 15:26:51,162 [INFO] sent startApi\n",
      "2025-04-30 15:26:51,164 [INFO] REQUEST startApi {}\n",
      "2025-04-30 15:26:51,165 [INFO] SENDING startApi b'\\x00\\x00\\x00\\t\\x00\\x00\\x00G2\\x001\\x00\\x00'\n",
      "2025-04-30 15:26:51,167 [INFO] ANSWER connectAck {}\n"
     ]
    }
   ],
   "source": [
    "# ---------------------------------------------------------------------------\n",
    "# Creating and Configuring the API Application:\n",
    "# ---------------------------------------------------------------------------\n",
    "# Here we create an instance of our TestApp class. This object (referred to as 'app') serves as\n",
    "# the main interface to TWS. Through this object, we can send messages to and receive messages from TWS.\n",
    "app = TestApp()\n",
    "\n",
    "# Connect to Trader Workstation:\n",
    "# The connect() function establishes a connection to TWS or IB Gateway.\n",
    "# It requires three parameters:\n",
    "#   1. Host: The IP address where TWS is running. \"127.0.0.1\" or \"localhost\" is used when TWS is on the same machine.\n",
    "#   2. Port: The port number to use. For example, port 7497 is used for TWS in paper trading mode, while 7496 for live trading mode.\n",
    "#   3. clientId: A unique integer identifier for this connection. No two apps should use the same clientId simultaneously.\n",
    "\n",
    "clientId = 1\n",
    "app.connect(\"127.0.0.1\", 7496, clientId)\n"
   ]
  },
  {
   "cell_type": "code",
   "execution_count": 8,
   "id": "0460189b-2b98-4660-a944-2510d223bd4c",
   "metadata": {},
   "outputs": [
    {
     "name": "stderr",
     "output_type": "stream",
     "text": [
      "2025-04-30 15:26:51,179 [INFO] ANSWER openOrderEnd {}\n",
      "2025-04-30 15:26:51,194 [INFO] ANSWER managedAccounts {'accountsList': 'U18112846'}\n"
     ]
    },
    {
     "name": "stdout",
     "output_type": "stream",
     "text": [
      "Error - reqId: -1,  errorTime: 1746019627978, errorCode: 2104, errorString: Market data farm connection is OK:usfarm.nj, advancedOrderReject: \n",
      "Error - reqId: -1,  errorTime: 1746019627979, errorCode: 2104, errorString: Market data farm connection is OK:hfarm, advancedOrderReject: \n",
      "Error - reqId: -1,  errorTime: 1746019627979, errorCode: 2104, errorString: Market data farm connection is OK:usfuture, advancedOrderReject: \n",
      "Error - reqId: -1,  errorTime: 1746019627979, errorCode: 2104, errorString: Market data farm connection is OK:eufarm, advancedOrderReject: \n",
      "Error - reqId: -1,  errorTime: 1746019627979, errorCode: 2104, errorString: Market data farm connection is OK:cashfarm, advancedOrderReject: \n",
      "Error - reqId: -1,  errorTime: 1746019627979, errorCode: 2104, errorString: Market data farm connection is OK:usfarm, advancedOrderReject: \n",
      "Error - reqId: -1,  errorTime: 1746019627979, errorCode: 2106, errorString: HMDS data farm connection is OK:euhmds, advancedOrderReject: \n",
      "Error - reqId: -1,  errorTime: 1746019627979, errorCode: 2106, errorString: HMDS data farm connection is OK:fundfarm, advancedOrderReject: \n",
      "Error - reqId: -1,  errorTime: 1746019627979, errorCode: 2106, errorString: HMDS data farm connection is OK:ushmds, advancedOrderReject: \n",
      "Error - reqId: -1,  errorTime: 1746019627979, errorCode: 2158, errorString: Sec-def data farm connection is OK:secdefeu, advancedOrderReject: \n"
     ]
    }
   ],
   "source": [
    "# -------------------------------\n",
    "# Start the API Event Loop on a Separate Thread\n",
    "# -------------------------------\n",
    "# The app.run() method enters an infinite loop that listens for asynchronous messages from TWS.\n",
    "# Since it is a blocking call, we run it on a separate thread to prevent it from blocking the main thread (which will be used to send test requests).\n",
    "threading.Thread(target=app.run).start()\n",
    "# This line creates a new thread. This worker thread starts executing app.run(), which is the event loop that continuously listens \n",
    "# for and processes asynchronous messages from TWS. This background thread runs concurrently with the main thread.\n",
    "# By writing target=app.run (without parentheses), you're giving the thread a reference to the run method. When the thread starts, it will call app.run() on its own.\n",
    "\n",
    "# -------------------------------\n",
    "# Pausing the Main Thread with time.sleep()\n",
    "# -------------------------------\n",
    "# After starting the event loop on another thread, the main thread continues.\n",
    "# However, before we issue requests (such as testing nextId() or requesting current time),\n",
    "# we add a short delay to ensure:\n",
    "#   - The connection to TWS is fully established.\n",
    "#   - The event loop has received initial responses (like the nextValidId callback).\n",
    "time.sleep(1)\n",
    "\n",
    "# These status messages are TWS’s way of reporting that various data feeds (market data, historical data, security definitions, etc.) are connected and ready to use. \n",
    "# Although they appear in the error callback (because of how TWS manages message types), they are essentially informational."
   ]
  },
  {
   "cell_type": "code",
   "execution_count": 9,
   "id": "99cc835b-6f7d-474d-89e4-404eb507f9d1",
   "metadata": {},
   "outputs": [
    {
     "name": "stderr",
     "output_type": "stream",
     "text": [
      "2025-04-30 15:26:52,208 [INFO] REQUEST reqCurrentTime {}\n",
      "2025-04-30 15:26:52,209 [INFO] SENDING reqCurrentTime b'\\x00\\x00\\x00\\x06\\x00\\x00\\x0011\\x00'\n"
     ]
    },
    {
     "name": "stdout",
     "output_type": "stream",
     "text": [
      "Requesting current time from TWS...\n"
     ]
    },
    {
     "name": "stderr",
     "output_type": "stream",
     "text": [
      "2025-04-30 15:26:52,210 [INFO] ANSWER currentTime {'time': 1746019628}\n"
     ]
    },
    {
     "name": "stdout",
     "output_type": "stream",
     "text": [
      "Current TWS Time: 1746019628\n"
     ]
    }
   ],
   "source": [
    "# -------------------------------\n",
    "# Test 1: Request the Current Time\n",
    "# -------------------------------\n",
    "# This test sends a request to TWS for the current time.\n",
    "# Once TWS processes this request, it will invoke the currentTime callback in our TestApp, which prints the current time.\n",
    "# You call reqCurrentTime() to send your request, and then, later, when TWS sends back the current time, your currentTime() callback is automatically invoked.\n",
    "# You don’t manually call currentTime(). Instead, the callback is triggered by the network processing inside the event loop (in app.run()) when a response is parsed.\n",
    "print(\"Requesting current time from TWS...\")\n",
    "app.reqCurrentTime()"
   ]
  },
  {
   "cell_type": "code",
   "execution_count": 10,
   "id": "4bd9a87a-ce17-4cac-85ff-0ad926039b57",
   "metadata": {},
   "outputs": [
    {
     "name": "stdout",
     "output_type": "stream",
     "text": [
      "Testing Next Order ID Generation:\n",
      "Next Order ID: 2\n",
      "Next Order ID: 3\n",
      "Next Order ID: 4\n",
      "Next Order ID: 5\n",
      "Next Order ID: 6\n"
     ]
    }
   ],
   "source": [
    "# -------------------------------\n",
    "# Test 2: Test the Next Order ID Generator\n",
    "# -------------------------------\n",
    "# This test demonstrates how the order ID generator works.\n",
    "# TWS sends the initial valid order ID via the nextValidId callback.\n",
    "# Once that has been processed, we can test our nextId() method.\n",
    "#\n",
    "# The loop iterates five times, and in each iteration, the order ID is incremented\n",
    "# and then printed.\n",
    "#\n",
    "# Note: We add an additional sleep here if necessary to allow the nextValidId callback\n",
    "# to ensure that self.orderId is properly set before testing nextId().\n",
    "time.sleep(1)\n",
    "print(\"Testing Next Order ID Generation:\")\n",
    "for i in range(5):\n",
    "    print(\"Next Order ID:\", app.nextId())"
   ]
  },
  {
   "cell_type": "code",
   "execution_count": null,
   "id": "f0229ef7-b788-4ae3-aa64-c2249aba87da",
   "metadata": {},
   "outputs": [],
   "source": []
  },
  {
   "cell_type": "code",
   "execution_count": null,
   "id": "283c3bc1-b1e3-48d2-a1e7-ff6350ca953b",
   "metadata": {},
   "outputs": [],
   "source": []
  },
  {
   "cell_type": "code",
   "execution_count": null,
   "id": "88c3cd6e-88f2-446d-95c1-e39ee7066d0a",
   "metadata": {},
   "outputs": [],
   "source": []
  },
  {
   "cell_type": "code",
   "execution_count": null,
   "id": "18cd0e11-23c7-44cb-a603-a1223d33001f",
   "metadata": {},
   "outputs": [],
   "source": []
  },
  {
   "cell_type": "code",
   "execution_count": null,
   "id": "dbf7117a-227c-4740-b791-d6f7265ec73c",
   "metadata": {},
   "outputs": [],
   "source": []
  },
  {
   "cell_type": "code",
   "execution_count": null,
   "id": "5929d21d-902c-420b-a86f-de44cd37f73d",
   "metadata": {},
   "outputs": [],
   "source": []
  },
  {
   "cell_type": "code",
   "execution_count": null,
   "id": "270babb4-8042-4b64-929e-63008e755278",
   "metadata": {},
   "outputs": [],
   "source": []
  },
  {
   "cell_type": "code",
   "execution_count": null,
   "id": "a750a419-f155-46a7-abb2-3352b461804c",
   "metadata": {},
   "outputs": [],
   "source": []
  },
  {
   "cell_type": "code",
   "execution_count": null,
   "id": "6a95de9c-d138-4329-8bc0-64a680fc095b",
   "metadata": {},
   "outputs": [],
   "source": []
  },
  {
   "cell_type": "code",
   "execution_count": null,
   "id": "2fd6bf7d-efab-43c7-b9e5-8556630858f6",
   "metadata": {},
   "outputs": [],
   "source": []
  },
  {
   "cell_type": "code",
   "execution_count": null,
   "id": "5ae4984b-2117-49f8-862e-031d4ad76d6e",
   "metadata": {},
   "outputs": [],
   "source": []
  },
  {
   "cell_type": "code",
   "execution_count": null,
   "id": "e8321063-0389-404a-b05d-6052e11005f8",
   "metadata": {},
   "outputs": [],
   "source": []
  },
  {
   "cell_type": "code",
   "execution_count": null,
   "id": "f5accf90-596f-4861-b51e-d86fd42510a3",
   "metadata": {},
   "outputs": [],
   "source": []
  }
 ],
 "metadata": {
  "kernelspec": {
   "display_name": "Python 3 (ipykernel)",
   "language": "python",
   "name": "python3"
  },
  "language_info": {
   "codemirror_mode": {
    "name": "ipython",
    "version": 3
   },
   "file_extension": ".py",
   "mimetype": "text/x-python",
   "name": "python",
   "nbconvert_exporter": "python",
   "pygments_lexer": "ipython3",
   "version": "3.10.10"
  }
 },
 "nbformat": 4,
 "nbformat_minor": 5
}
