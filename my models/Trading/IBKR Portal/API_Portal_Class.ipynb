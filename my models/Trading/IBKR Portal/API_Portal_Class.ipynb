{
 "cells": [
  {
   "cell_type": "code",
   "execution_count": 1,
   "id": "62ba8003-e034-4496-8530-eba496026f92",
   "metadata": {},
   "outputs": [],
   "source": [
    "from IBKRClient import IBKRClient\n",
    "import urllib3\n",
    "import os\n",
    "import threading"
   ]
  },
  {
   "cell_type": "code",
   "execution_count": 2,
   "id": "c3815d57-1a0c-4a0a-b8d2-68f4c3280cce",
   "metadata": {},
   "outputs": [],
   "source": [
    "# Disable SSL warnings (only for testing with self-signed certificates).\n",
    "urllib3.disable_warnings(urllib3.exceptions.InsecureRequestWarning)\n",
    "\n",
    "IBKR_ID = os.getenv('IBKR_ID')"
   ]
  },
  {
   "cell_type": "code",
   "execution_count": 3,
   "id": "2c05dedb-11f2-448b-ab89-a4214b773ce4",
   "metadata": {},
   "outputs": [
    {
     "name": "stdout",
     "output_type": "stream",
     "text": [
      "Checking authentication status at: https://localhost:5000/v1/api/iserver/auth/status\n",
      "Error checking authentication: HTTPSConnectionPool(host='localhost', port=5000): Max retries exceeded with url: /v1/api/iserver/auth/status (Caused by NewConnectionError('<urllib3.connection.HTTPSConnection object at 0x0000022C55878AF0>: Failed to establish a new connection: [WinError 10061] No connection could be made because the target machine actively refused it'))\n",
      "Not logged in. Initiating login process.\n",
      "Changed directory to: C:\\IBKR Client Portal\n",
      "The process is running... (output not complete yet).\n",
      "Opening IBKR Client at: https://localhost:5000\n",
      "Polling authentication status at: https://localhost:5000/v1/api/iserver/auth/status\n",
      "Received status code: 401\n",
      "Received status code: 401\n",
      "Received status code: 401\n",
      "Received status code: 401\n",
      "Received status code: 401\n",
      "Received status code: 401\n",
      "Received status code: 401\n",
      "Received status code: 401\n",
      "Received status code: 401\n",
      "Authentication successful: {'authenticated': True, 'competing': False, 'connected': True, 'message': '', 'MAC': '5C:BA:2C:60:27:50', 'serverInfo': {'serverName': 'JifZ26093', 'serverVersion': 'Build 10.34.1f, Apr 9, 2025 11:51:04 AM'}, 'fail': ''}\n"
     ]
    }
   ],
   "source": [
    "# Create an instance of the client with your configuration.\n",
    "# if 'client' not in globals():\n",
    "client = IBKRClient(account_id=IBKR_ID)"
   ]
  },
  {
   "cell_type": "code",
   "execution_count": 4,
   "id": "5915e599-285d-4236-a984-f39342f893b8",
   "metadata": {},
   "outputs": [
    {
     "name": "stdout",
     "output_type": "stream",
     "text": [
      "Contract Search URL: https://localhost:5000/v1/api/iserver/secdef/search\n",
      "Response Status Code: 200\n",
      "Contract Search Results:\n",
      "[\n",
      "  {\n",
      "    \"conid\": \"81829068\",\n",
      "    \"companyHeader\": \"EMicro CAD USD - CME\",\n",
      "    \"companyName\": \"EMicro CAD USD\",\n",
      "    \"symbol\": \"MCD\",\n",
      "    \"description\": \"CME\",\n",
      "    \"restricted\": \"IND\",\n",
      "    \"sections\": [\n",
      "      {\n",
      "        \"secType\": \"IND\",\n",
      "        \"exchange\": \"CME;\"\n",
      "      }\n",
      "    ]\n",
      "  },\n",
      "  {\n",
      "    \"conid\": \"9408\",\n",
      "    \"companyHeader\": \"MC DONALD'S-CORP - NYSE\",\n",
      "    \"companyName\": \"MC DONALD'S-CORP\",\n",
      "    \"symbol\": \"MCD\",\n",
      "    \"description\": \"NYSE\",\n",
      "    \"restricted\": \"CFD,IOPT,WAR\",\n",
      "    \"sections\": [\n",
      "      {\n",
      "        \"secType\": \"STK\"\n",
      "      },\n",
      "      {\n",
      "        \"secType\": \"OPT\",\n",
      "        \"months\": \"APR25;MAY25;JUN25;JUL25;SEP25;DEC25;JAN26;MAR26;JUN26;DEC26;JAN27\",\n",
      "        \"exchange\": \"SMART;AMEX;BATS;BOX;CBOE;CBOE2;EDGX;EMERALD;GEMINI;IBUSOPT;ISE;MEMX;MERCURY;MIAX;NASDAQBX;NASDAQOM;PEARL;PHLX;PSE;SAPPHIRE\"\n",
      "      },\n",
      "      {\n",
      "        \"secType\": \"WAR\",\n",
      "        \"months\": \"MAR25;APR25;MAY25;JUN25;JUL25;SEP25;DEC25;JAN26;MAR26;JUN26;SEP26;DEC26;JAN27;JUN27\",\n",
      "        \"exchange\": \"EBS;FWB;GETTEX;SWB\"\n",
      "      },\n",
      "      {\n",
      "        \"secType\": \"IOPT\"\n",
      "      },\n",
      "      {\n",
      "        \"secType\": \"CFD\",\n",
      "        \"exchange\": \"SMART\",\n",
      "        \"conid\": \"118239188\"\n",
      "      },\n",
      "      {\n",
      "        \"secType\": \"BAG\"\n",
      "      }\n",
      "    ]\n",
      "  },\n",
      "  {\n",
      "    \"conid\": \"38708771\",\n",
      "    \"companyHeader\": \"MC DONALD'S-CORP - MEXI\",\n",
      "    \"companyName\": \"MC DONALD'S-CORP\",\n",
      "    \"symbol\": \"MCD\",\n",
      "    \"description\": \"MEXI\",\n",
      "    \"restricted\": \"STK\",\n",
      "    \"sections\": [\n",
      "      {\n",
      "        \"secType\": \"STK\",\n",
      "        \"exchange\": \"MEXI;\"\n",
      "      }\n",
      "    ]\n",
      "  },\n",
      "  {\n",
      "    \"conid\": \"430245933\",\n",
      "    \"companyHeader\": \"MYCODERN SA - WSE\",\n",
      "    \"companyName\": \"MYCODERN SA\",\n",
      "    \"symbol\": \"MCD\",\n",
      "    \"description\": \"WSE\",\n",
      "    \"restricted\": null,\n",
      "    \"sections\": [\n",
      "      {\n",
      "        \"secType\": \"STK\",\n",
      "        \"exchange\": \"WSE;\"\n",
      "      }\n",
      "    ]\n",
      "  },\n",
      "  {\n",
      "    \"conid\": \"15016251\",\n",
      "    \"companyHeader\": \"Canadian dollar - IDEALPRO (CAD)\",\n",
      "    \"companyName\": \"Canadian dollar\",\n",
      "    \"symbol\": \"CAD\",\n",
      "    \"description\": \"IDEALPRO\",\n",
      "    \"restricted\": null,\n",
      "    \"sections\": [\n",
      "      {\n",
      "        \"secType\": \"FUT\",\n",
      "        \"months\": \"JUN25;SEP25\",\n",
      "        \"exchange\": \"CME\",\n",
      "        \"showPrips\": true\n",
      "      },\n",
      "      {\n",
      "        \"secType\": \"BAG\",\n",
      "        \"exchange\": \"CME\",\n",
      "        \"legSecType\": \"FUT\"\n",
      "      }\n",
      "    ]\n",
      "  },\n",
      "  {\n",
      "    \"issuers\": [\n",
      "      {\n",
      "        \"id\": \"e1400839\",\n",
      "        \"name\": \"McDonald's Corp\"\n",
      "      }\n",
      "    ],\n",
      "    \"bondid\": 5,\n",
      "    \"conid\": \"2147483647\",\n",
      "    \"companyHeader\": \"Corporate Fixed Income\",\n",
      "    \"companyName\": null,\n",
      "    \"symbol\": null,\n",
      "    \"description\": null,\n",
      "    \"restricted\": null,\n",
      "    \"sections\": [\n",
      "      {\n",
      "        \"secType\": \"BOND\"\n",
      "      }\n",
      "    ]\n",
      "  }\n",
      "]\n",
      "First conid found: 81829068\n",
      "Ticker returned as symbol: MCD\n"
     ]
    }
   ],
   "source": [
    "# Contract search\n",
    "string_to_search = \"MCD\"\n",
    "conid, ticker = client.contract_search(string_to_search)"
   ]
  },
  {
   "cell_type": "code",
   "execution_count": 5,
   "id": "c2f7b6b4-43bb-4840-aad7-5c2e06e801e5",
   "metadata": {},
   "outputs": [
    {
     "data": {
      "text/plain": [
       "('81829068', 'MCD')"
      ]
     },
     "execution_count": 5,
     "metadata": {},
     "output_type": "execute_result"
    }
   ],
   "source": [
    "conid, ticker"
   ]
  },
  {
   "cell_type": "code",
   "execution_count": 6,
   "id": "62104e9c-213f-4396-95f8-147cc88ee665",
   "metadata": {},
   "outputs": [],
   "source": [
    "# manual\n",
    "\n",
    "conid = '9408'\n",
    "ticker= 'MCD'"
   ]
  },
  {
   "cell_type": "code",
   "execution_count": 7,
   "id": "5cd75b22-d76a-48a3-a749-70709ac723a9",
   "metadata": {},
   "outputs": [
    {
     "name": "stdout",
     "output_type": "stream",
     "text": [
      "Contract Info Request URL: https://localhost:5000/v1/api/iserver/secdef/info?conid=9408\n",
      "HTTP Response: <Response [200]>\n",
      "Contract Info:\n",
      "{\n",
      "  \"conid\": 9408,\n",
      "  \"ticker\": \"MCD\",\n",
      "  \"secType\": \"STK\",\n",
      "  \"listingExchange\": \"NYSE\",\n",
      "  \"exchange\": \"SMART\",\n",
      "  \"companyName\": \"MC DONALD'S-CORP\",\n",
      "  \"currency\": \"USD\",\n",
      "  \"validExchanges\": \"SMART,AMEX,NYSE,CBOE,PHLX,ISE,CHX,ARCA,NASDAQ,DRCTEDGE,BEX,BATS,EDGEA,BYX,IEX,EDGX,FOXRIVER,PEARL,NYSENAT,LTSE,MEMX,IBEOS,OVERNIGHT,TPLUS0,PSX\",\n",
      "  \"priceRendering\": null,\n",
      "  \"maturityDate\": null,\n",
      "  \"right\": \"?\",\n",
      "  \"strike\": 0.0\n",
      "}\n"
     ]
    }
   ],
   "source": [
    "# Fetch contract info for a specific contract ID.\n",
    "contract_details = client.contract_info(conid)"
   ]
  },
  {
   "cell_type": "code",
   "execution_count": 8,
   "id": "95108851-44a6-4e1d-b2d8-b9bba633129a",
   "metadata": {},
   "outputs": [
    {
     "name": "stdout",
     "output_type": "stream",
     "text": [
      "Historical Data Request URL: https://localhost:5000/v1/api/hmds/history?conid=9408&period=1w&bar=1d&outsideRth=true&barType=midpoint\n",
      "HTTP Status Code: 404\n",
      "Error decoding historical data JSON on attempt 1: Expecting value: line 1 column 1 (char 0)\n",
      "Raw Response: <html><body><h1>Resource not found</h1></body></html>\n",
      "Retrying after a short delay...\n",
      "HTTP Status Code: 200\n",
      "Historical Data: {\n",
      "  \"startTime\": \"20250416-10:00:00\",\n",
      "  \"startTimeVal\": 1744790400000,\n",
      "  \"endTime\": \"20250422-15:28:00\",\n",
      "  \"endTimeVal\": 1745328480000,\n",
      "  \"data\": [\n",
      "    {\n",
      "      \"t\": 1744790400000,\n",
      "      \"o\": 312.94,\n",
      "      \"c\": 308.4,\n",
      "      \"h\": 314.29,\n",
      "      \"l\": 307.44\n",
      "    },\n",
      "    {\n",
      "      \"t\": 1744876800000,\n",
      "      \"o\": 310.95,\n",
      "      \"c\": 311.08,\n",
      "      \"h\": 312.9,\n",
      "      \"l\": 307.22\n",
      "    },\n",
      "    {\n",
      "      \"t\": 1745222400000,\n",
      "      \"o\": 315.0,\n",
      "      \"c\": 309.5,\n",
      "      \"h\": 315.0,\n",
      "      \"l\": 305.2\n",
      "    },\n",
      "    {\n",
      "      \"t\": 1745308800000,\n",
      "      \"o\": 310.88,\n",
      "      \"c\": 310.04,\n",
      "      \"h\": 311.39,\n",
      "      \"l\": 308.22\n",
      "    }\n",
      "  ],\n",
      "  \"points\": 4,\n",
      "  \"mktDataDelay\": 0\n",
      "}\n"
     ]
    }
   ],
   "source": [
    "# Retrieve historical data for one or more contracts.\n",
    "historical = client.historical_data(conid)"
   ]
  },
  {
   "cell_type": "code",
   "execution_count": 9,
   "id": "eeaf53c0-46cd-4eb3-9398-448073002ecd",
   "metadata": {},
   "outputs": [
    {
     "name": "stdout",
     "output_type": "stream",
     "text": [
      "Query Parameters: conids=9408&fields=31,84,86,7768\n",
      "Market Snapshot Request URL: https://localhost:5000/v1/api/iserver/marketdata/snapshot?conids=9408&fields=31,84,86,7768\n",
      "HTTP Status Code: 200\n",
      "Market Snapshot Data:\n",
      "[\n",
      "  {\n",
      "    \"6509\": \"DPB\",\n",
      "    \"conidEx\": \"9408\",\n",
      "    \"conid\": 9408,\n",
      "    \"_updated\": 1745328471190,\n",
      "    \"6119\": \"q2\",\n",
      "    \"7768\": \"1\",\n",
      "    \"server_id\": \"q2\",\n",
      "    \"84\": \"310.10\",\n",
      "    \"31\": \"310.12\",\n",
      "    \"86\": \"311.31\",\n",
      "    \"6508\": \"&serviceID1=20773&serviceID2=773&serviceID3=108&serviceID4=207&serviceID5=109\"\n",
      "  }\n",
      "]\n",
      "Extracted Last Price: 310.12\n"
     ]
    }
   ],
   "source": [
    "# last_price = client.market_snapshot(\"166090175,8894\")\n",
    "\n",
    "last_price = client.market_snapshot(conid)"
   ]
  },
  {
   "cell_type": "code",
   "execution_count": 10,
   "id": "2a09c9a8-b58f-4d82-8b1b-82e67b9b6d95",
   "metadata": {},
   "outputs": [
    {
     "data": {
      "text/plain": [
       "0.0097"
      ]
     },
     "execution_count": 10,
     "metadata": {},
     "output_type": "execute_result"
    }
   ],
   "source": [
    "euro_invest = 3\n",
    "\n",
    "quantity_invest = round(euro_invest / last_price, 4)\n",
    "quantity_invest"
   ]
  },
  {
   "cell_type": "code",
   "execution_count": 11,
   "id": "2f4cf0f0-1d77-4407-a77e-4454f60aae06",
   "metadata": {},
   "outputs": [
    {
     "data": {
      "text/plain": [
       "(303.92, 316.32)"
      ]
     },
     "execution_count": 11,
     "metadata": {},
     "output_type": "execute_result"
    }
   ],
   "source": [
    "price_pct = 2\n",
    "\n",
    "price_low = last_price - round((price_pct/100)*last_price,2)\n",
    "price_high = last_price + round((price_pct/100)*last_price,2)\n",
    "price_low, price_high"
   ]
  },
  {
   "cell_type": "code",
   "execution_count": 12,
   "id": "74ba2109-66dd-4c97-b1c0-f9dc24ac03a6",
   "metadata": {},
   "outputs": [],
   "source": [
    "# reply_id = client.order_request(conid=int(conid), orderType=\"MKT\", side=\"Buy\", quantity=quantity_invest, tif=\"GTC\")"
   ]
  },
  {
   "cell_type": "code",
   "execution_count": 13,
   "id": "8b795199-2cd9-49cc-8b82-9f4527810174",
   "metadata": {},
   "outputs": [],
   "source": [
    "# reply_id = client.order_reply(reply_id)"
   ]
  },
  {
   "cell_type": "code",
   "execution_count": 14,
   "id": "14895212-f3cb-4fff-8c47-89917b9bfe04",
   "metadata": {},
   "outputs": [],
   "source": [
    "# contract_strikes = client.contract_strikes(conid, month=\"AUG25\", secType=\"OPT\", exchange=\"SMART\")"
   ]
  },
  {
   "cell_type": "code",
   "execution_count": 15,
   "id": "dca7522f-74f3-4b96-9861-7d6ee7489bd0",
   "metadata": {},
   "outputs": [],
   "source": [
    "# stop order to buy at a lower price\n",
    "\n",
    "# reply_id = client.order_request(conid=int(conid), orderType=\"STP\", side=\"Buy\", quantity=quantity_invest, tif=\"GTC\", price=price_low)"
   ]
  },
  {
   "cell_type": "code",
   "execution_count": 16,
   "id": "ae2ed04a-df07-47f5-a559-77d24164b449",
   "metadata": {},
   "outputs": [
    {
     "name": "stdout",
     "output_type": "stream",
     "text": [
      "Orders Request URL: https://localhost:5000/v1/api/iserver/account/orders\n",
      "HTTP Status Code: 200\n",
      "Filtered Orders for ticker 'MCD':\n",
      "[]\n"
     ]
    }
   ],
   "source": [
    "# check the order before the submission\n",
    "\n",
    "ticker_orders = client.get_orders(ticker=ticker) "
   ]
  },
  {
   "cell_type": "code",
   "execution_count": 17,
   "id": "2b4704ca-0996-4e30-a6f6-cb9d62f26c16",
   "metadata": {},
   "outputs": [],
   "source": [
    "# modify the order, if necessary\n",
    "\n",
    "# reply_id = client.order_modify(order_id=878692657, conid=617155599, orderType='STP', price=430, side='BUY', tif='GTC', quantity=0.0007)"
   ]
  },
  {
   "cell_type": "code",
   "execution_count": 18,
   "id": "11c8002d-09ae-4fa2-bc06-87a4ba80d446",
   "metadata": {},
   "outputs": [],
   "source": [
    "#submit the order, either with or without modifications\n",
    "\n",
    "# client.order_reply(reply_id)"
   ]
  },
  {
   "cell_type": "code",
   "execution_count": 19,
   "id": "1044c8d0-b5d7-4c8c-9d20-e381f45cad93",
   "metadata": {},
   "outputs": [],
   "source": [
    "# cancel the order, if necessary\n",
    "\n",
    "# reply_id = client.order_cancel(878692695)"
   ]
  },
  {
   "cell_type": "code",
   "execution_count": 20,
   "id": "163a6ad9-f000-4fce-9075-678c56e2b5fb",
   "metadata": {},
   "outputs": [],
   "source": [
    "# check all orders\n",
    "\n",
    "# all_orders = client.get_orders() "
   ]
  },
  {
   "cell_type": "code",
   "execution_count": 21,
   "id": "0fddca31-b22d-421f-883f-bbb6ea4ec06e",
   "metadata": {},
   "outputs": [],
   "source": [
    "# client.get_portfolio_summary()"
   ]
  },
  {
   "cell_type": "code",
   "execution_count": 22,
   "id": "a0047de9-4682-4bb0-9418-318d4ce315d0",
   "metadata": {},
   "outputs": [],
   "source": [
    "# client.get_accounts()"
   ]
  },
  {
   "cell_type": "code",
   "execution_count": 23,
   "id": "1585d757-0b3d-4183-8011-44ce8e61b5b9",
   "metadata": {},
   "outputs": [],
   "source": [
    "# portfolio_data = client.get_portfolio_accounts()"
   ]
  },
  {
   "cell_type": "code",
   "execution_count": 24,
   "id": "3a705e3b-fa44-49bb-8736-623d2633cbea",
   "metadata": {},
   "outputs": [],
   "source": [
    "# portfolio_summary = client.get_portfolio_summary()"
   ]
  },
  {
   "cell_type": "code",
   "execution_count": 25,
   "id": "71c5625d-527d-49ec-90ce-9e0336affd07",
   "metadata": {},
   "outputs": [],
   "source": [
    "# positions_data = client.get_positions()"
   ]
  },
  {
   "cell_type": "code",
   "execution_count": 26,
   "id": "a328317d-6030-47e7-b2e9-ecd3bc84c619",
   "metadata": {},
   "outputs": [],
   "source": [
    "# reply_id = client.order_bracket(\n",
    "#             ticker=ticker,\n",
    "#             conid=conid,\n",
    "#             quantity=quantity_invest,\n",
    "#             primary_side=\"BUY\",\n",
    "#             primary_order_type=\"MKT\",\n",
    "#             profit_target_price=price_high,\n",
    "#             profit_order_type=\"LMT\",\n",
    "#             stop_loss_price=price_low,\n",
    "#             stop_order_type=\"STP\",\n",
    "#             tif=\"GTC\",\n",
    "#             listing_exchange=\"SMART\",\n",
    "#             outside_rth=False,\n",
    "#             referrer=\"QuickTrade\",\n",
    "#             is_single_group=False \n",
    "#             )\n",
    "\n",
    "# reply_id"
   ]
  },
  {
   "cell_type": "code",
   "execution_count": 27,
   "id": "2ea49910-5187-449c-8d68-87ca9873b22e",
   "metadata": {},
   "outputs": [],
   "source": [
    "# client.order_reply(reply_id)"
   ]
  },
  {
   "cell_type": "code",
   "execution_count": 28,
   "id": "24f1dcb2-75ed-45df-b00b-c50dc87dcf1b",
   "metadata": {},
   "outputs": [],
   "source": [
    "# ticker_orders = client.get_orders(ticker=ticker) "
   ]
  },
  {
   "cell_type": "code",
   "execution_count": 29,
   "id": "e44537d5-bbfc-4517-9e24-e6792f7e8092",
   "metadata": {},
   "outputs": [],
   "source": [
    "# Create a thread for receiving market updates for a specific conid\n",
    "market_thread = threading.Thread(\n",
    "    target=client.receive_market_updates, \n",
    "    args=(conid,),\n",
    "    daemon=True\n",
    ")"
   ]
  },
  {
   "cell_type": "code",
   "execution_count": 30,
   "id": "c6e9c447-b67a-437d-8e62-c86d3c9f71ac",
   "metadata": {},
   "outputs": [],
   "source": [
    "# Create a thread for receiving order updates for the full account\n",
    "order_thread = threading.Thread(\n",
    "    target=client.receive_order_updates,\n",
    "    daemon=True\n",
    ")"
   ]
  },
  {
   "cell_type": "code",
   "execution_count": 31,
   "id": "1b26d5a1-29f9-497d-9e7b-1e779f2c2a43",
   "metadata": {},
   "outputs": [
    {
     "name": "stdout",
     "output_type": "stream",
     "text": [
      "Both websocket threads started!\n",
      "[Order] Opened connection\n",
      "[Market] Opened connection\n",
      "[Market] Sending market data request for conid: 9408\n",
      "[Order] Received update:\n",
      "b'{\"topic\":\"system\",\"success\":\"szbfki450\",\"isFT\":false,\"isPaper\":false}'\n",
      "[Market] Received update:\n",
      "b'{\"topic\":\"system\",\"success\":\"szbfki450\",\"isFT\":false,\"isPaper\":false}'\n",
      "[Order] Received update:\n",
      "b'{\"topic\":\"act\",\"args\":{\"accounts\":[\"U18112846\"],\"acctProps\":{\"U18112846\":{\"hasChildAccounts\":false,\"supportsCashQty\":true,\"liteUnderPro\":false,\"noFXConv\":false,\"isProp\":false,\"supportsFractions\":true,\"allowCustomerTime\":false,\"autoFx\":false}},\"aliases\":{\"U18112846\":\"U18112846\"},\"allowFeatures\":{\"showGFIS\":true,\"showEUCostReport\":false,\"allowEventContract\":true,\"allowFXConv\":true,\"allowFinancialLens\":false,\"allowMTA\":true,\"allowTypeAhead\":true,\"allowEventTrading\":true,\"snapshotRefreshTimeout\":30,\"liteUser\":false,\"showWebNews\":true,\"research\":true,\"debugPnl\":true,\"showTaxOpt\":true,\"showImpactDashboard\":true,\"allowDynAccount\":false,\"allowCrypto\":false,\"allowFA\":false,\"allowLiteUnderPro\":false,\"allowedAssetTypes\":\"STK,CFD,OPT,FOP,WAR,FUT,BAG,PDC,CASH,IND,BOND,BILL,FUND,SLB,News,CMDTY,IOPT,ICU,ICS,PHYSS,CRYPTO\",\"restrictTradeSubscription\":false,\"showUkUserLabels\":false,\"sideBySide\":true},\"chartPeriods\":{\"STK\":[\"*\"],\"CFD\":[\"*\"],\"OPT\":[\"2h\",\"1d\",\"2d\",\"1w\",\"1m\"],\"FOP\":[\"2h\",\"1d\",\"2d\",\"1w\",\"1m\"],\"WAR\":[\"*\"],\"IOPT\":[\"*\"],\"FUT\":[\"*\"],\"CASH\":[\"*\"],\"IND\":[\"*\"],\"BOND\":[\"*\"],\"FUND\":[\"*\"],\"CMDTY\":[\"*\"],\"PHYSS\":[\"*\"],\"CRYPTO\":[\"*\"]},\"groups\":[],\"profiles\":[],\"selectedAccount\":\"U18112846\",\"serverInfo\":{\"serverName\":\"JifZ26093\",\"serverVersion\":\"Build 10.34.1f, Apr 9, 2025 11:51:04 AM\"},\"sessionId\":\"68071a4d.00000397\",\"isFT\":false,\"isPaper\":false}}'\n",
      "[Market] Received update:\n",
      "b'{\"topic\":\"act\",\"args\":{\"accounts\":[\"U18112846\"],\"acctProps\":{\"U18112846\":{\"hasChildAccounts\":false,\"supportsCashQty\":true,\"liteUnderPro\":false,\"noFXConv\":false,\"isProp\":false,\"supportsFractions\":true,\"allowCustomerTime\":false,\"autoFx\":false}},\"aliases\":{\"U18112846\":\"U18112846\"},\"allowFeatures\":{\"showGFIS\":true,\"showEUCostReport\":false,\"allowEventContract\":true,\"allowFXConv\":true,\"allowFinancialLens\":false,\"allowMTA\":true,\"allowTypeAhead\":true,\"allowEventTrading\":true,\"snapshotRefreshTimeout\":30,\"liteUser\":false,\"showWebNews\":true,\"research\":true,\"debugPnl\":true,\"showTaxOpt\":true,\"showImpactDashboard\":true,\"allowDynAccount\":false,\"allowCrypto\":false,\"allowFA\":false,\"allowLiteUnderPro\":false,\"allowedAssetTypes\":\"STK,CFD,OPT,FOP,WAR,FUT,BAG,PDC,CASH,IND,BOND,BILL,FUND,SLB,News,CMDTY,IOPT,ICU,ICS,PHYSS,CRYPTO\",\"restrictTradeSubscription\":false,\"showUkUserLabels\":false,\"sideBySide\":true},\"chartPeriods\":{\"STK\":[\"*\"],\"CFD\":[\"*\"],\"OPT\":[\"2h\",\"1d\",\"2d\",\"1w\",\"1m\"],\"FOP\":[\"2h\",\"1d\",\"2d\",\"1w\",\"1m\"],\"WAR\":[\"*\"],\"IOPT\":[\"*\"],\"FUT\":[\"*\"],\"CASH\":[\"*\"],\"IND\":[\"*\"],\"BOND\":[\"*\"],\"FUND\":[\"*\"],\"CMDTY\":[\"*\"],\"PHYSS\":[\"*\"],\"CRYPTO\":[\"*\"]},\"groups\":[],\"profiles\":[],\"selectedAccount\":\"U18112846\",\"serverInfo\":{\"serverName\":\"JifZ26093\",\"serverVersion\":\"Build 10.34.1f, Apr 9, 2025 11:51:04 AM\"},\"sessionId\":\"68071a4d.00000397\",\"isFT\":false,\"isPaper\":false}}'\n",
      "[Order] Received update:\n",
      "b'{\"topic\":\"sts\",\"args\":{\"connected\":true,\"authenticated\":true,\"competing\":false,\"message\":\"\",\"fail\":\"\",\"serverName\":\"JifZ26093\",\"serverVersion\":\"Build 10.34.1f, Apr 9, 2025 11:51:04 AM\",\"username\":\"szbfki450\"}}'\n",
      "[Market] Received update:\n",
      "b'{\"topic\":\"sts\",\"args\":{\"connected\":true,\"authenticated\":true,\"competing\":false,\"message\":\"\",\"fail\":\"\",\"serverName\":\"JifZ26093\",\"serverVersion\":\"Build 10.34.1f, Apr 9, 2025 11:51:04 AM\",\"username\":\"szbfki450\"}}'\n",
      "[Market] Received update:\n",
      "b'{\"6509\":\"DPB\",\"conidEx\":\"9408\",\"topic\":\"smd+9408\",\"conid\":9408,\"_updated\":1745328471190,\"6119\":\"q2\",\"7768\":\"1\",\"server_id\":\"q2\",\"84\":\"310.10\",\"31\":\"310.12\",\"86\":\"311.31\",\"6508\":\"&serviceID1=20773&serviceID2=773&serviceID3=108&serviceID4=207&serviceID5=109\"}'\n",
      "[Order] Received update:\n",
      "b'{\"topic\":\"system\",\"hb\":1745328505674}'\n",
      "[Market] Received update:\n",
      "b'{\"topic\":\"system\",\"hb\":1745328505675}'\n",
      "[Order] Received update:\n",
      "b'{\"topic\":\"system\",\"hb\":1745328515674}'\n",
      "[Market] Received update:\n",
      "b'{\"topic\":\"system\",\"hb\":1745328515675}'\n",
      "[Market] Received update:\n",
      "b'{\"topic\":\"system\",\"hb\":1745328525675}'\n",
      "[Order] Received update:\n",
      "b'{\"topic\":\"system\",\"hb\":1745328525674}'\n",
      "[Order] Received update:\n",
      "b'{\"topic\":\"system\",\"hb\":1745328535674}'\n",
      "[Market] Received update:\n",
      "b'{\"topic\":\"system\",\"hb\":1745328535675}'\n"
     ]
    }
   ],
   "source": [
    "# Start both threads\n",
    "market_thread.start()\n",
    "order_thread.start()\n",
    "\n",
    "print(\"Both websocket threads started!\")"
   ]
  },
  {
   "cell_type": "code",
   "execution_count": 3,
   "id": "b5edaf45-20db-4901-b7f2-d96e4248fc89",
   "metadata": {},
   "outputs": [
    {
     "name": "stdout",
     "output_type": "stream",
     "text": [
      "x\n"
     ]
    }
   ],
   "source": [
    "print('x')"
   ]
  }
 ],
 "metadata": {
  "kernelspec": {
   "display_name": "Python 3 (ipykernel)",
   "language": "python",
   "name": "python3"
  },
  "language_info": {
   "codemirror_mode": {
    "name": "ipython",
    "version": 3
   },
   "file_extension": ".py",
   "mimetype": "text/x-python",
   "name": "python",
   "nbconvert_exporter": "python",
   "pygments_lexer": "ipython3",
   "version": "3.10.10"
  }
 },
 "nbformat": 4,
 "nbformat_minor": 5
}
