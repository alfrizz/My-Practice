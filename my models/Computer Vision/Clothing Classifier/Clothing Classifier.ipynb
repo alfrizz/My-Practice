{
 "cells": [
  {
   "cell_type": "markdown",
   "id": "aaa02648-9eae-45ba-893f-88440e8e4235",
   "metadata": {},
   "source": [
    "![clothing_classification](clothing_classification.png)\n"
   ]
  },
  {
   "cell_type": "markdown",
   "id": "ad5a988c-1095-485a-a88c-002400a872be",
   "metadata": {},
   "source": [
    "Fashion Forward is a new AI-based e-commerce clothing retailer.\n",
    "They want to use image classification to automatically categorize new product listings, making it easier for customers to find what they're looking for. It will also assist in inventory management by quickly sorting items.\n",
    "\n",
    "As a data scientist tasked with implementing a garment classifier, your primary objective is to develop a machine learning model capable of accurately categorizing images of clothing items into distinct garment types such as shirts, trousers, shoes, etc."
   ]
  },
  {
   "cell_type": "code",
   "execution_count": 1,
   "id": "4a1ab317-f3e4-4e5f-93a7-9c27677c5ffb",
   "metadata": {
    "executionCancelledAt": null,
    "executionTime": 872,
    "lastExecutedAt": 1713283114116,
    "lastExecutedByKernel": "ab12a397-c392-4a15-94ff-20186a93f541",
    "lastScheduledRunId": null,
    "lastSuccessfullyExecutedCode": "# Run the cells below first"
   },
   "outputs": [],
   "source": [
    "# Run the cells below first"
   ]
  },
  {
   "cell_type": "code",
   "execution_count": 2,
   "id": "93e7dae3-c192-4267-a0ed-18d1ac56c861",
   "metadata": {
    "executionCancelledAt": null,
    "executionTime": 35793,
    "lastExecutedAt": 1713429490432,
    "lastExecutedByKernel": "613ad597-3acd-485b-b4bd-0a12e756578b",
    "lastScheduledRunId": null,
    "lastSuccessfullyExecutedCode": "!pip install torchmetrics\n!pip install torchvision",
    "outputsMetadata": {
     "0": {
      "height": 544,
      "type": "stream"
     }
    },
    "tags": []
   },
   "outputs": [],
   "source": [
    "# !pip install torchmetrics\n",
    "# !pip install torchvision"
   ]
  },
  {
   "cell_type": "code",
   "execution_count": 3,
   "id": "ea8065b7-84fc-4376-afef-6db731dec4b3",
   "metadata": {
    "executionCancelledAt": null,
    "executionTime": 3827,
    "lastExecutedAt": 1713429494261,
    "lastExecutedByKernel": "613ad597-3acd-485b-b4bd-0a12e756578b",
    "lastScheduledRunId": null,
    "lastSuccessfullyExecutedCode": "import numpy as np\nimport torch\nimport torch.nn as nn\nimport torch.optim as optim\nfrom torch.utils.data import Dataset, DataLoader\nfrom torchmetrics import Accuracy, Precision, Recall"
   },
   "outputs": [
    {
     "name": "stderr",
     "output_type": "stream",
     "text": [
      "C:\\Users\\Alienware\\miniconda3\\envs\\py310\\lib\\site-packages\\tqdm\\auto.py:21: TqdmWarning: IProgress not found. Please update jupyter and ipywidgets. See https://ipywidgets.readthedocs.io/en/stable/user_install.html\n",
      "  from .autonotebook import tqdm as notebook_tqdm\n"
     ]
    }
   ],
   "source": [
    "import numpy as np\n",
    "import torch\n",
    "import torch.nn as nn\n",
    "import torch.optim as optim\n",
    "from torch.utils.data import Dataset, DataLoader\n",
    "from torchmetrics import Accuracy, Precision, Recall\n",
    "from torchvision import datasets\n",
    "import torchvision.transforms as transforms\n",
    "import matplotlib.pyplot as plt\n"
   ]
  },
  {
   "cell_type": "code",
   "execution_count": 4,
   "id": "662e1bf1-943f-4243-9fd4-02ce11609e8d",
   "metadata": {
    "executionCancelledAt": null,
    "executionTime": 6117,
    "lastExecutedAt": 1713429500380,
    "lastExecutedByKernel": "613ad597-3acd-485b-b4bd-0a12e756578b",
    "lastScheduledRunId": null,
    "lastSuccessfullyExecutedCode": "# Load datasets\nfrom torchvision import datasets\nimport torchvision.transforms as transforms\n\ntrain_data = datasets.FashionMNIST(root='./data', train=True, download=True, transform=transforms.ToTensor())\ntest_data = datasets.FashionMNIST(root='./data', train=False, download=True, transform=transforms.ToTensor())",
    "outputsMetadata": {
     "0": {
      "height": 80,
      "type": "stream"
     },
     "1": {
      "height": 38,
      "type": "stream"
     },
     "2": {
      "height": 122,
      "type": "stream"
     },
     "3": {
      "height": 38,
      "type": "stream"
     },
     "4": {
      "height": 122,
      "type": "stream"
     },
     "5": {
      "height": 38,
      "type": "stream"
     },
     "6": {
      "height": 122,
      "type": "stream"
     },
     "7": {
      "height": 38,
      "type": "stream"
     },
     "8": {
      "height": 59,
      "type": "stream"
     }
    }
   },
   "outputs": [
    {
     "data": {
      "text/plain": [
       "Dataset FashionMNIST\n",
       "    Number of datapoints: 60000\n",
       "    Root location: ./data\n",
       "    Split: Train\n",
       "    StandardTransform\n",
       "Transform: ToTensor()"
      ]
     },
     "execution_count": 4,
     "metadata": {},
     "output_type": "execute_result"
    }
   ],
   "source": [
    "# Load datasets\n",
    "# The FashionMNIST dataset is a collection of grayscale images of clothing items\n",
    "# The images are transformed into PyTorch tensors using transforms.ToTensor()\n",
    "\n",
    "train_data = datasets.FashionMNIST(root='./data', train=True, download=True, transform=transforms.ToTensor())\n",
    "train_data"
   ]
  },
  {
   "cell_type": "code",
   "execution_count": 5,
   "id": "a107eee4-caa3-4eff-a33a-842428f2d0f2",
   "metadata": {},
   "outputs": [
    {
     "data": {
      "text/plain": [
       "Dataset FashionMNIST\n",
       "    Number of datapoints: 10000\n",
       "    Root location: ./data\n",
       "    Split: Test\n",
       "    StandardTransform\n",
       "Transform: ToTensor()"
      ]
     },
     "execution_count": 5,
     "metadata": {},
     "output_type": "execute_result"
    }
   ],
   "source": [
    "test_data = datasets.FashionMNIST(root='./data', train=False, download=True, transform=transforms.ToTensor())\n",
    "test_data"
   ]
  },
  {
   "cell_type": "code",
   "execution_count": 6,
   "id": "dd6f94b1-4502-4fed-b8f2-fab3ceda0a14",
   "metadata": {},
   "outputs": [
    {
     "data": {
      "text/plain": [
       "(torch.Size([1, 28, 28]), 9)"
      ]
     },
     "execution_count": 6,
     "metadata": {},
     "output_type": "execute_result"
    }
   ],
   "source": [
    "image, label = train_data[0] # Access the first element in the dataset\n",
    "image.shape, label\n",
    "\n",
    "# Image: Each image is a tensor of shape [1, 28, 28], representing 1 channel (grayscale) and 28x28 pixels.\n",
    "# Label: Each label is an integer representing the class of the clothing item (0 to 9)."
   ]
  },
  {
   "cell_type": "code",
   "execution_count": 7,
   "id": "dc345644-9ff8-4032-9fb9-bcc5e7596bfc",
   "metadata": {},
   "outputs": [
    {
     "data": {
      "image/png": "[encoded data removed]",
      "text/plain": [
       "<Figure size 640x480 with 1 Axes>"
      ]
     },
     "metadata": {},
     "output_type": "display_data"
    }
   ],
   "source": [
    "# visualize Example image and label\n",
    "\n",
    "# Convert the tensor to a NumPy array and plot it\n",
    "plt.imshow(image.squeeze(), cmap='gray')\n",
    "plt.title(f\"Label: {label}\")\n",
    "plt.show()\n"
   ]
  },
  {
   "cell_type": "markdown",
   "id": "39b354f1-198d-40d4-b6b6-4e23042d7886",
   "metadata": {},
   "source": [
    "The labels correspond to the following classes:\n",
    "\n",
    "0 T-shirt/top\n",
    "\n",
    "1 Trouser\n",
    "\n",
    "2 Pullover\n",
    "\n",
    "3 Dress\n",
    "\n",
    "4 Coat\n",
    "\n",
    "5 Sandal\n",
    "\n",
    "6 Shirt\n",
    "\n",
    "7 Sneaker\n",
    "\n",
    "8 Bag\n",
    "\n",
    "9 Ankle boot\n",
    "\n",
    "Automate product tagging for the e-commerce store using CNNs.\n",
    "\n",
    "Once trained (keeping the epochs to 1 or 2 to keep the run time down), store your predictions on the test set in a list named predictions.\n",
    "\n",
    "Calculate the accuracy, and per-class precision and recall for your classifier based on the predictions obtained. Store your metrics in variables named accuracy, precision, and recall. Use lists of the appropriate length for the precision and recall."
   ]
  },
  {
   "cell_type": "code",
   "execution_count": 8,
   "id": "e19843ff-d1c5-4d2a-bcd5-205901a33a99",
   "metadata": {},
   "outputs": [
    {
     "data": {
      "text/plain": [
       "['T-shirt/top',\n",
       " 'Trouser',\n",
       " 'Pullover',\n",
       " 'Dress',\n",
       " 'Coat',\n",
       " 'Sandal',\n",
       " 'Shirt',\n",
       " 'Sneaker',\n",
       " 'Bag',\n",
       " 'Ankle boot']"
      ]
     },
     "execution_count": 8,
     "metadata": {},
     "output_type": "execute_result"
    }
   ],
   "source": [
    "# Get the number of classes\n",
    "classes = train_data.classes\n",
    "classes"
   ]
  },
  {
   "cell_type": "code",
   "execution_count": 9,
   "id": "b89732df-4043-49ca-9001-f5f555ee2fa1",
   "metadata": {},
   "outputs": [
    {
     "data": {
      "text/plain": [
       "10"
      ]
     },
     "execution_count": 9,
     "metadata": {},
     "output_type": "execute_result"
    }
   ],
   "source": [
    "num_classes = len(classes)\n",
    "num_classes"
   ]
  },
  {
   "cell_type": "code",
   "execution_count": 10,
   "id": "554e823a-393e-46a1-ae6c-05a91b6f6517",
   "metadata": {},
   "outputs": [
    {
     "name": "stdout",
     "output_type": "stream",
     "text": [
      "torch.Size([1, 28, 28])\n"
     ]
    },
    {
     "data": {
      "text/plain": [
       "9"
      ]
     },
     "execution_count": 10,
     "metadata": {},
     "output_type": "execute_result"
    }
   ],
   "source": [
    "print(train_data[0][0].shape)\n",
    "train_data[0][1]"
   ]
  },
  {
   "cell_type": "code",
   "execution_count": 11,
   "id": "64ded695-ddb0-4f69-9e99-16fdc249a5c9",
   "metadata": {},
   "outputs": [
    {
     "data": {
      "text/plain": [
       "28"
      ]
     },
     "execution_count": 11,
     "metadata": {},
     "output_type": "execute_result"
    }
   ],
   "source": [
    "image_size = train_data[0][0].shape[1]\n",
    "image_size"
   ]
  },
  {
   "cell_type": "code",
   "execution_count": 12,
   "id": "f733bb04-a982-4d63-b5ae-a72fab91f41a",
   "metadata": {},
   "outputs": [],
   "source": [
    "# Define some relevant variables\n",
    "num_input_channels = 1 # 1 channel for grayscale, 3 for RGB\n",
    "num_output_channels = 16 # number of filters or kernels to use"
   ]
  },
  {
   "cell_type": "code",
   "execution_count": 13,
   "id": "ffea0124-a7dc-4c01-8cdb-51cafb8c39c0",
   "metadata": {},
   "outputs": [],
   "source": [
    "# Define CNN\n",
    "class MultiClassImageClassifier(nn.Module):\n",
    "  \n",
    "    # Define the init method\n",
    "    def __init__(self, num_classes):\n",
    "        super(MultiClassImageClassifier, self).__init__()\n",
    "        self.conv1 = nn.Conv2d(num_input_channels, num_output_channels, kernel_size=3, stride=1, padding=1)\n",
    "        self.relu = nn.ReLU()\n",
    "        self.maxpool = nn.MaxPool2d(kernel_size=2, stride=2)\n",
    "        self.flatten = nn.Flatten()\n",
    "\n",
    "        # Create a fully connected layer\n",
    "        self.fc = nn.Linear(num_output_channels * (image_size//2)**2, num_classes) \n",
    "        # //2 because, when using a stride of 2, each pooling operation reduces the dimensions of the feature map by a factor of 2 (then we square to get all values)\n",
    "        # We multiply by num_output_channels to account for all the feature maps produced by the convolutional layer (each filter (or kernel) applied to the input produces one feature map)\n",
    "        \n",
    "    def forward(self, x):\n",
    "        # Pass inputs through each layer\n",
    "        x = self.conv1(x)\n",
    "        x = self.relu(x)\n",
    "        x = self.maxpool(x)\n",
    "        x = self.flatten(x)\n",
    "        x = self.fc(x)\n",
    "        return x"
   ]
  },
  {
   "cell_type": "code",
   "execution_count": 14,
   "id": "4f64b00a-fec9-426c-bb21-6b0769b4d50f",
   "metadata": {},
   "outputs": [
    {
     "name": "stdout",
     "output_type": "stream",
     "text": [
      "torch.Size([1, 28, 28])\n",
      "9\n"
     ]
    }
   ],
   "source": [
    "for features, labels in train_data:\n",
    "    print(features.shape)\n",
    "    print(labels)\n",
    "    break"
   ]
  },
  {
   "cell_type": "code",
   "execution_count": 15,
   "id": "bae441e1-2481-4f0e-aa4a-1b59e04d5300",
   "metadata": {},
   "outputs": [],
   "source": [
    "batch_size = 10\n",
    "\n",
    "# Define the training set DataLoader\n",
    "dataloader_train = DataLoader(\n",
    "    train_data,\n",
    "    batch_size=batch_size,\n",
    "    shuffle=True,\n",
    ")"
   ]
  },
  {
   "cell_type": "code",
   "execution_count": 16,
   "id": "ab68a583-8621-43da-ad79-bf6aa9f35cee",
   "metadata": {},
   "outputs": [
    {
     "name": "stdout",
     "output_type": "stream",
     "text": [
      "torch.Size([10, 1, 28, 28])\n",
      "tensor([4, 2, 0, 3, 4, 0, 8, 6, 4, 4])\n"
     ]
    }
   ],
   "source": [
    "for features, labels in dataloader_train:\n",
    "    print(features.shape)\n",
    "    print(labels)\n",
    "    break"
   ]
  },
  {
   "cell_type": "code",
   "execution_count": 17,
   "id": "d7c79034-defe-4605-b1c4-3db06d7c2de5",
   "metadata": {},
   "outputs": [],
   "source": [
    "# Define training function\n",
    "def train_model(optimizer, net, num_epochs):\n",
    "    num_processed = 0\n",
    "    criterion = nn.CrossEntropyLoss()\n",
    "    \n",
    "    for epoch in range(num_epochs):\n",
    "        running_loss = 0\n",
    "        num_processed = 0\n",
    "        \n",
    "        for features, labels in dataloader_train:\n",
    "            optimizer.zero_grad() # Resets the gradients of all the model parameters to zero. This prevents gradients from accumulating, ensuring that each optimization step uses fresh gradients.\n",
    "            outputs = net(features)\n",
    "            loss = criterion(outputs, labels)\n",
    "            loss.backward() # computes the gradient of the loss with respect to each parameter (weight) in the model.\n",
    "            optimizer.step() # updates the parameters of the model based on the computed gradients.\n",
    "            running_loss += loss.item()\n",
    "            num_processed += len(labels)\n",
    "            print('epoch:', epoch+1, \n",
    "                  'batch_size:',batch_size,\n",
    "                  'len_dataloader_train:', len(dataloader_train), \n",
    "                  'num_processed:', num_processed,\n",
    "                  'running_loss:', running_loss / num_processed,\n",
    "                  end='\\r')\n",
    "            \n",
    "    train_loss = running_loss / len(dataloader_train)\n",
    "    print('epoch:', epoch+1, \n",
    "          'batch_size:', batch_size,\n",
    "          'len_dataloader_train:', len(dataloader_train), \n",
    "          'num_processed:', num_processed,\n",
    "          'train_loss:', train_loss)"
   ]
  },
  {
   "cell_type": "code",
   "execution_count": 18,
   "id": "9593f5f8-a6bf-45b0-a682-2aeed7b82fea",
   "metadata": {},
   "outputs": [
    {
     "name": "stdout",
     "output_type": "stream",
     "text": [
      "epoch: 1 batch_size: 10 len_dataloader_train: 6000 num_processed: 60000 train_loss: 0.39553910159443817826 batch_size: 10 len_dataloader_train: 6000 num_processed: 1310 running_loss: 0.11438860176628783 1 batch_size: 10 len_dataloader_train: 6000 num_processed: 38350 running_loss: 0.043292765229857845\n"
     ]
    }
   ],
   "source": [
    "# Train for 1 epoch\n",
    "net = MultiClassImageClassifier(num_classes)\n",
    "optimizer = optim.Adam(net.parameters(), lr=0.001)\n",
    "\n",
    "train_model(\n",
    "    optimizer=optimizer,\n",
    "    net=net,\n",
    "    num_epochs=1,\n",
    ")"
   ]
  },
  {
   "cell_type": "code",
   "execution_count": 19,
   "id": "7c98f9ce-3b39-48f6-befb-3fababbe05b6",
   "metadata": {},
   "outputs": [],
   "source": [
    "# Test the model on the test set\n",
    "              \n",
    "# Define the test set DataLoader\n",
    "dataloader_test = DataLoader(\n",
    "    test_data,\n",
    "    batch_size=batch_size,\n",
    "    shuffle=False,\n",
    ")"
   ]
  },
  {
   "cell_type": "code",
   "execution_count": 20,
   "id": "da2c8600-05f8-4cc2-a078-8c57148305ed",
   "metadata": {},
   "outputs": [
    {
     "name": "stdout",
     "output_type": "stream",
     "text": [
      "torch.Size([10, 1, 28, 28])\n",
      "tensor([9, 2, 1, 1, 6, 1, 4, 6, 5, 7])\n"
     ]
    }
   ],
   "source": [
    "for features, labels in dataloader_test:\n",
    "    print(features.shape)\n",
    "    print(labels)\n",
    "    break"
   ]
  },
  {
   "cell_type": "code",
   "execution_count": 21,
   "id": "1ef22b5c-ff65-4a70-afbc-472f43906cae",
   "metadata": {},
   "outputs": [],
   "source": [
    "# Define the metrics (average=None computes metrics globally by counting the total true positives, false negatives, and false positives)\n",
    "accuracy_metric = Accuracy(task='multiclass', num_classes=num_classes)\n",
    "precision_metric = Precision(task='multiclass', num_classes=num_classes, average=None)\n",
    "recall_metric = Recall(task='multiclass', num_classes=num_classes, average=None)"
   ]
  },
  {
   "cell_type": "code",
   "execution_count": 22,
   "id": "1cd333b7-921f-4e87-a881-c7512a46abb6",
   "metadata": {},
   "outputs": [
    {
     "name": "stdout",
     "output_type": "stream",
     "text": [
      "torch.Size([10, 1, 28, 28])\n",
      "torch.Size([10, 1, 28, 28])\n",
      "torch.Size([10, 10])\n",
      "tensor([5, 6, 8, 9, 1, 9, 1, 8, 1, 5])\n"
     ]
    }
   ],
   "source": [
    "# Run model on test set\n",
    "net.eval()\n",
    "predictions = []\n",
    "for i, (features, labels) in enumerate(dataloader_test):\n",
    "\n",
    "    # output = net.forward(features.reshape(-1, 1, image_size, image_size))\n",
    "    output = net.forward(features)\n",
    "    cat = torch.argmax(output, dim=-1)\n",
    "    predictions.extend(cat.tolist())\n",
    "    # below we calculate the scoring metrics at each iteration, and then we use the method compute() afterwards to calculate their total value\n",
    "    # this way we don't need to create specific lists to store all predictions and labels at each iteration\n",
    "    accuracy_metric(cat, labels)\n",
    "    precision_metric(cat, labels)\n",
    "    recall_metric(cat, labels)\n",
    "    print('iter:', i, end='\\r')\n",
    "\n",
    "# just printing the shapes of the last iteration\n",
    "print(features.shape)\n",
    "print(features.reshape(-1, 1, image_size, image_size).shape)\n",
    "print(output.shape) # 10 predictions * 10 batches\n",
    "print(cat)"
   ]
  },
  {
   "cell_type": "code",
   "execution_count": 23,
   "id": "cbc6b541-7e30-4298-9563-cc1f05f150fc",
   "metadata": {},
   "outputs": [
    {
     "data": {
      "text/plain": [
       "tensor(0.8790)"
      ]
     },
     "execution_count": 23,
     "metadata": {},
     "output_type": "execute_result"
    }
   ],
   "source": [
    "accuracy_metric.compute()"
   ]
  },
  {
   "cell_type": "code",
   "execution_count": 24,
   "id": "98ca47f9-1408-4f51-8460-ed82f0aad8b1",
   "metadata": {},
   "outputs": [
    {
     "data": {
      "text/plain": [
       "tensor([0.8984, 0.9740, 0.8951, 0.8770, 0.7888, 0.9818, 0.6177, 0.9486, 0.9343,\n",
       "        0.9424])"
      ]
     },
     "execution_count": 24,
     "metadata": {},
     "output_type": "execute_result"
    }
   ],
   "source": [
    "precision_metric.compute()"
   ]
  },
  {
   "cell_type": "code",
   "execution_count": 25,
   "id": "fd81e353-8ab0-4e7d-93ae-6ae50d658460",
   "metadata": {},
   "outputs": [
    {
     "data": {
      "text/plain": [
       "tensor([0.7340, 0.9750, 0.7250, 0.8980, 0.8480, 0.9690, 0.7530, 0.9420, 0.9810,\n",
       "        0.9650])"
      ]
     },
     "execution_count": 25,
     "metadata": {},
     "output_type": "execute_result"
    }
   ],
   "source": [
    "recall_metric.compute()"
   ]
  },
  {
   "cell_type": "code",
   "execution_count": 26,
   "id": "961c4a39-aa1e-493b-b78d-6520abe539c2",
   "metadata": {},
   "outputs": [
    {
     "name": "stdout",
     "output_type": "stream",
     "text": [
      "Accuracy: 0.8790000081062317\n",
      "Precision (per class): [0.898408830165863, 0.9740259647369385, 0.895061731338501, 0.876953125, 0.788837194442749, 0.9817629456520081, 0.6177194714546204, 0.9486404657363892, 0.9342857003211975, 0.9423828125]\n",
      "Recall (per class): [0.734000027179718, 0.9750000238418579, 0.7250000238418579, 0.8980000019073486, 0.8479999899864197, 0.968999981880188, 0.753000020980835, 0.9419999718666077, 0.9810000061988831, 0.9649999737739563]\n"
     ]
    }
   ],
   "source": [
    "# Compute the metrics\n",
    "accuracy = accuracy_metric.compute().item()\n",
    "precision = precision_metric.compute().tolist()\n",
    "recall = recall_metric.compute().tolist()\n",
    "print('Accuracy:', accuracy)\n",
    "print('Precision (per class):', precision)\n",
    "print('Recall (per class):', recall)"
   ]
  },
  {
   "cell_type": "code",
   "execution_count": null,
   "id": "abb3053d-6cfb-4ff0-be57-b7f7a0aece00",
   "metadata": {},
   "outputs": [],
   "source": []
  },
  {
   "cell_type": "code",
   "execution_count": null,
   "id": "12424b9e-2c64-4e3b-ac28-ceed1cada413",
   "metadata": {},
   "outputs": [],
   "source": []
  },
  {
   "cell_type": "code",
   "execution_count": null,
   "id": "54f080f2-8ef8-4c1a-a2a8-2490b1fd02d8",
   "metadata": {},
   "outputs": [],
   "source": []
  },
  {
   "cell_type": "code",
   "execution_count": null,
   "id": "9ce28e77-c15b-4ad5-ba35-6cd61e4a5db8",
   "metadata": {},
   "outputs": [],
   "source": []
  },
  {
   "cell_type": "code",
   "execution_count": null,
   "id": "4cab43cc-3487-4ff2-9587-a5443f43de38",
   "metadata": {},
   "outputs": [],
   "source": []
  },
  {
   "cell_type": "code",
   "execution_count": null,
   "id": "09e31476-8f9d-436c-bf25-83cba85f75d0",
   "metadata": {},
   "outputs": [],
   "source": []
  },
  {
   "cell_type": "code",
   "execution_count": null,
   "id": "bd5883f4-3c2c-4cd0-a66a-d1515699a31b",
   "metadata": {},
   "outputs": [],
   "source": []
  },
  {
   "cell_type": "code",
   "execution_count": null,
   "id": "cffa8756-2e11-41e2-b85c-e0cb6f457b93",
   "metadata": {},
   "outputs": [],
   "source": []
  },
  {
   "cell_type": "code",
   "execution_count": null,
   "id": "7a158b70-7511-4c2d-a45f-6a450d2a1691",
   "metadata": {},
   "outputs": [],
   "source": []
  },
  {
   "cell_type": "code",
   "execution_count": null,
   "id": "e469d0c3-1b56-4196-a551-3a95a6b22155",
   "metadata": {},
   "outputs": [],
   "source": []
  },
  {
   "cell_type": "code",
   "execution_count": null,
   "id": "4a1b147c-f413-4a80-abe4-e2f100764093",
   "metadata": {},
   "outputs": [],
   "source": []
  },
  {
   "cell_type": "code",
   "execution_count": null,
   "id": "6015ec6e-35fd-4595-96ed-19807db16ce1",
   "metadata": {},
   "outputs": [],
   "source": []
  },
  {
   "cell_type": "code",
   "execution_count": null,
   "id": "d3ce896e-79b1-4702-86bc-35887f9d519e",
   "metadata": {},
   "outputs": [],
   "source": []
  },
  {
   "cell_type": "code",
   "execution_count": null,
   "id": "bf529823-825d-4699-9549-22666f5eae84",
   "metadata": {},
   "outputs": [],
   "source": []
  },
  {
   "cell_type": "code",
   "execution_count": null,
   "id": "88a76633-2015-47d5-a729-84168a34b448",
   "metadata": {},
   "outputs": [],
   "source": []
  },
  {
   "cell_type": "code",
   "execution_count": null,
   "id": "dd617aea-ee01-4651-8a93-7f406279a060",
   "metadata": {},
   "outputs": [],
   "source": []
  },
  {
   "cell_type": "code",
   "execution_count": null,
   "id": "c75e50f9-5838-47fa-b3aa-bc9939de3cf6",
   "metadata": {},
   "outputs": [],
   "source": []
  },
  {
   "cell_type": "code",
   "execution_count": null,
   "id": "9ef9cca7-7b8f-4132-8cbd-07779b4a9add",
   "metadata": {},
   "outputs": [],
   "source": []
  },
  {
   "cell_type": "code",
   "execution_count": null,
   "id": "a690ea7d-1397-44f6-9372-403d7960e3fc",
   "metadata": {},
   "outputs": [],
   "source": []
  },
  {
   "cell_type": "code",
   "execution_count": null,
   "id": "1caab473-4627-400a-be7f-69d66beb1946",
   "metadata": {},
   "outputs": [],
   "source": []
  },
  {
   "cell_type": "code",
   "execution_count": null,
   "id": "0e165d15-8036-47a7-9a79-f287f59bc90b",
   "metadata": {},
   "outputs": [],
   "source": []
  },
  {
   "cell_type": "code",
   "execution_count": null,
   "id": "64416638-2e1c-40f6-9136-f6fafe6056cc",
   "metadata": {},
   "outputs": [],
   "source": []
  },
  {
   "cell_type": "code",
   "execution_count": null,
   "id": "494ff2f8-8816-43a7-bc1a-e35b15c11eeb",
   "metadata": {},
   "outputs": [],
   "source": []
  }
 ],
 "metadata": {
  "colab": {
   "name": "Welcome to DataCamp Workspaces.ipynb",
   "provenance": []
  },
  "kernelspec": {
   "display_name": "Py310",
   "language": "python",
   "name": "py310"
  },
  "language_info": {
   "codemirror_mode": {
    "name": "ipython",
    "version": 3
   },
   "file_extension": ".py",
   "mimetype": "text/x-python",
   "name": "python",
   "nbconvert_exporter": "python",
   "pygments_lexer": "ipython3",
   "version": "3.10.11"
  }
 },
 "nbformat": 4,
 "nbformat_minor": 5
}
