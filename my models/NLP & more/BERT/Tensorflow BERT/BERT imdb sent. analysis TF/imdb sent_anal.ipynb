{
 "cells": [
  {
   "cell_type": "code",
   "execution_count": 1,
   "id": "4cc4130f-1474-414e-87e2-175496ca02ac",
   "metadata": {},
   "outputs": [],
   "source": [
    "# https://www.tensorflow.org/text/tutorials/classify_text_with_bert"
   ]
  },
  {
   "cell_type": "code",
   "execution_count": 2,
   "id": "34e3265d-9701-4898-b084-3ffebe677bc7",
   "metadata": {},
   "outputs": [
    {
     "data": {
      "text/plain": [
       "'\\n# A dependency of the preprocessing for BERT inputs\\n!pip install tensorflow-text\\n\\n# You will use the AdamW optimizer from tensorflow/models.\\n!pip install tf-models-official\\n'"
      ]
     },
     "execution_count": 2,
     "metadata": {},
     "output_type": "execute_result"
    }
   ],
   "source": [
    "'''\n",
    "# A dependency of the preprocessing for BERT inputs\n",
    "!pip install tensorflow-text\n",
    "\n",
    "# You will use the AdamW optimizer from tensorflow/models.\n",
    "!pip install tf-models-official\n",
    "'''"
   ]
  },
  {
   "cell_type": "code",
   "execution_count": 3,
   "id": "391cf983-c170-4822-bcb5-58c5847b0f6d",
   "metadata": {},
   "outputs": [
    {
     "name": "stderr",
     "output_type": "stream",
     "text": [
      "C:\\Users\\Alienware\\miniconda3\\envs\\py309\\lib\\site-packages\\tensorflow_addons\\utils\\tfa_eol_msg.py:23: UserWarning: \n",
      "\n",
      "TensorFlow Addons (TFA) has ended development and introduction of new features.\n",
      "TFA has entered a minimal maintenance and release mode until a planned end of life in May 2024.\n",
      "Please modify downstream libraries to take dependencies from other repositories in our TensorFlow community (e.g. Keras, Keras-CV, and Keras-NLP). \n",
      "\n",
      "For more information see: https://github.com/tensorflow/addons/issues/2807 \n",
      "\n",
      "  warnings.warn(\n",
      "C:\\Users\\Alienware\\miniconda3\\envs\\py309\\lib\\site-packages\\tensorflow_addons\\utils\\ensure_tf_install.py:53: UserWarning: Tensorflow Addons supports using Python ops for all Tensorflow versions above or equal to 2.11.0 and strictly below 2.14.0 (nightly versions are not supported). \n",
      " The versions of TensorFlow you are currently using is 2.10.0 and is not supported. \n",
      "Some things might work, some things might not.\n",
      "If you were to encounter a bug, do not file an issue.\n",
      "If you want to make sure you're using a tested and supported configuration, either change the TensorFlow version or the TensorFlow Addons's version. \n",
      "You can find the compatibility matrix in TensorFlow Addon's readme:\n",
      "https://github.com/tensorflow/addons\n",
      "  warnings.warn(\n"
     ]
    }
   ],
   "source": [
    "import os\n",
    "import shutil\n",
    "\n",
    "import tensorflow as tf\n",
    "import tensorflow_hub as hub\n",
    "import tensorflow_text as text\n",
    "from official.nlp import optimization  # to create AdamW optimizer\n",
    "\n",
    "import matplotlib.pyplot as plt\n",
    "\n",
    "tf.get_logger().setLevel('ERROR')"
   ]
  },
  {
   "cell_type": "code",
   "execution_count": 4,
   "id": "61135121-ba3c-4219-bcce-cbc1c5c5a2f5",
   "metadata": {},
   "outputs": [
    {
     "data": {
      "text/plain": [
       "\"\\nSentiment analysis\\nThis notebook trains a sentiment analysis model to classify movie reviews as positive or negative, based on the text of the review.\\n\\nYou'll use the Large Movie Review Dataset that contains the text of 50,000 movie reviews from the Internet Movie Database.\\n\\nDownload the IMDB dataset\\nLet's download and extract the dataset, then explore the directory structure.\\n\""
      ]
     },
     "execution_count": 4,
     "metadata": {},
     "output_type": "execute_result"
    }
   ],
   "source": [
    "'''\n",
    "Sentiment analysis\n",
    "This notebook trains a sentiment analysis model to classify movie reviews as positive or negative, based on the text of the review.\n",
    "\n",
    "You'll use the Large Movie Review Dataset that contains the text of 50,000 movie reviews from the Internet Movie Database.\n",
    "\n",
    "Download the IMDB dataset\n",
    "Let's download and extract the dataset, then explore the directory structure.\n",
    "'''"
   ]
  },
  {
   "cell_type": "code",
   "execution_count": 5,
   "id": "5c2b7bb9-6e9d-471d-babd-d6a540f829c3",
   "metadata": {},
   "outputs": [],
   "source": [
    "# url = 'https://ai.stanford.edu/~amaas/data/sentiment/aclImdb_v1.tar.gz'\n",
    "\n",
    "# dataset = tf.keras.utils.get_file('aclImdb_v1.tar.gz', url,\n",
    "#                                   untar=True, cache_dir=os.path.abspath('.'),\n",
    "#                                   cache_subdir='')\n",
    "\n",
    "# dataset_dir = os.path.join(os.path.dirname(dataset), 'aclImdb')\n",
    "\n",
    "# train_dir = os.path.join(dataset_dir, 'train')\n",
    "\n",
    "# # remove unused folders to make it easier to load the data\n",
    "# remove_dir = os.path.join(train_dir, 'unsup')\n",
    "# shutil.rmtree(remove_dir)"
   ]
  },
  {
   "cell_type": "code",
   "execution_count": 6,
   "id": "cb8e87c7-2e5b-4a0d-92bc-78ca9650f1ce",
   "metadata": {},
   "outputs": [
    {
     "data": {
      "text/plain": [
       "\"\\nNext, you will use the text_dataset_from_directory utility to create a labeled tf.data.Dataset.\\n\\nThe IMDB dataset has already been divided into train and test, but it lacks a validation set. \\nLet's create a validation set using an 80:20 split of the training data by using the validation_split argument below.\\n\\nNote: When using the validation_split and subset arguments, make sure to either specify a random seed, or to pass shuffle=False, \\nso that the validation and training splits have no overlap.\\n\""
      ]
     },
     "execution_count": 6,
     "metadata": {},
     "output_type": "execute_result"
    }
   ],
   "source": [
    "'''\n",
    "Next, you will use the text_dataset_from_directory utility to create a labeled tf.data.Dataset.\n",
    "\n",
    "The IMDB dataset has already been divided into train and test, but it lacks a validation set. \n",
    "Let's create a validation set using an 80:20 split of the training data by using the validation_split argument below.\n",
    "\n",
    "Note: When using the validation_split and subset arguments, make sure to either specify a random seed, or to pass shuffle=False, \n",
    "so that the validation and training splits have no overlap.\n",
    "'''"
   ]
  },
  {
   "cell_type": "code",
   "execution_count": 7,
   "id": "33286fea-b14a-40ed-ae20-92ccd3332fe6",
   "metadata": {},
   "outputs": [
    {
     "name": "stdout",
     "output_type": "stream",
     "text": [
      "Found 25000 files belonging to 2 classes.\n",
      "Using 20000 files for training.\n",
      "train dataset created\n",
      "Found 25000 files belonging to 2 classes.\n",
      "Using 5000 files for validation.\n",
      "validation dataset created\n",
      "Found 25000 files belonging to 2 classes.\n",
      "test dataset created\n"
     ]
    }
   ],
   "source": [
    "AUTOTUNE = tf.data.AUTOTUNE\n",
    "batch_size = 32\n",
    "seed = 42\n",
    "\n",
    "raw_train_ds = tf.keras.utils.text_dataset_from_directory(\n",
    "    os.path.abspath('aclImdb/train'),\n",
    "    batch_size=batch_size,\n",
    "    validation_split=0.2,\n",
    "    subset='training',\n",
    "    seed=seed) #The seed argument ensures that the data is split, without duplicating data, in both the training and validation datasets (see below)\n",
    "\n",
    "class_names = raw_train_ds.class_names\n",
    "train_ds = raw_train_ds.cache().prefetch(buffer_size=AUTOTUNE)\n",
    "\n",
    "print('train dataset created')\n",
    "\n",
    "'''\n",
    "cache() keeps the data in memory after it’s loaded off disk. \n",
    "This ensures the dataset does not have to read from disk on each epoch. \n",
    "This can be particularly beneficial if the dataset fits into memory.\n",
    "\n",
    "prefetch(buffer_size) overlaps the preprocessing and model execution of a training step.\n",
    "While the model is executing training step s, the input pipeline is reading the data for step s+1. \n",
    "This can improve latency and throughput, at the cost of using additional memory to store prefetched data.\n",
    "'''\n",
    "\n",
    "val_ds = tf.keras.utils.text_dataset_from_directory(\n",
    "    os.path.abspath('aclImdb/train'),\n",
    "    batch_size=batch_size,\n",
    "    validation_split=0.2,\n",
    "    subset='validation',\n",
    "    seed=seed)  #The seed argument ensures that the data is split, without duplicating data, in both the training and validation datasets (see above)\n",
    "\n",
    "val_ds = val_ds.cache().prefetch(buffer_size=AUTOTUNE)\n",
    "\n",
    "print('validation dataset created')\n",
    "\n",
    "test_ds = tf.keras.utils.text_dataset_from_directory(\n",
    "    os.path.abspath('aclImdb/test'),\n",
    "    batch_size=batch_size)\n",
    "\n",
    "test_ds = test_ds.cache().prefetch(buffer_size=AUTOTUNE)\n",
    "\n",
    "print('test dataset created')\n"
   ]
  },
  {
   "cell_type": "code",
   "execution_count": 8,
   "id": "b68b9396-3d00-4320-bc76-db28811adf72",
   "metadata": {},
   "outputs": [
    {
     "name": "stdout",
     "output_type": "stream",
     "text": [
      "Review: b'\"Pandemonium\" is a horror movie spoof that comes off more stupid than funny. Believe me when I tell you, I love comedies. Especially comedy spoofs. \"Airplane\", \"The Naked Gun\" trilogy, \"Blazing Saddles\", \"High Anxiety\", and \"Spaceballs\" are some of my favorite comedies that spoof a particular genre. \"Pandemonium\" is not up there with those films. Most of the scenes in this movie had me sitting there in stunned silence because the movie wasn\\'t all that funny. There are a few laughs in the film, but when you watch a comedy, you expect to laugh a lot more than a few times and that\\'s all this film has going for it. Geez, \"Scream\" had more laughs than this film and that was more of a horror film. How bizarre is that?<br /><br />*1/2 (out of four)'\n",
      "Label : 0 (neg)\n",
      "Review: b\"David Mamet is a very interesting and a very un-equal director. His first movie 'House of Games' was the one I liked best, and it set a series of films with characters whose perspective of life changes as they get into complicated situations, and so does the perspective of the viewer.<br /><br />So is 'Homicide' which from the title tries to set the mind of the viewer to the usual crime drama. The principal characters are two cops, one Jewish and one Irish who deal with a racially charged area. The murder of an old Jewish shop owner who proves to be an ancient veteran of the Israeli Independence war triggers the Jewish identity in the mind and heart of the Jewish detective.<br /><br />This is were the flaws of the film are the more obvious. The process of awakening is theatrical and hard to believe, the group of Jewish militants is operatic, and the way the detective eventually walks to the final violent confrontation is pathetic. The end of the film itself is Mamet-like smart, but disappoints from a human emotional perspective.<br /><br />Joe Mantegna and William Macy give strong performances, but the flaws of the story are too evident to be easily compensated.\"\n",
      "Label : 0 (neg)\n",
      "Review: b'Great documentary about the lives of NY firefighters during the worst terrorist attack of all time.. That reason alone is why this should be a must see collectors item.. What shocked me was not only the attacks, but the\"High Fat Diet\" and physical appearance of some of these firefighters. I think a lot of Doctors would agree with me that,in the physical shape they were in, some of these firefighters would NOT of made it to the 79th floor carrying over 60 lbs of gear. Having said that i now have a greater respect for firefighters and i realize becoming a firefighter is a life altering job. The French have a history of making great documentary\\'s and that is what this is, a Great Documentary.....'\n",
      "Label : 1 (pos)\n"
     ]
    }
   ],
   "source": [
    "# Let's take a look at a few reviews.\n",
    "\n",
    "for text_batch, label_batch in train_ds.take(1):\n",
    "    for i in range(3):\n",
    "        print(f'Review: {text_batch.numpy()[i]}')\n",
    "        label = label_batch.numpy()[i]\n",
    "        print(f'Label : {label} ({class_names[label]})')"
   ]
  },
  {
   "cell_type": "code",
   "execution_count": 9,
   "id": "6e2755dc-f597-4a82-b382-66f29d813a67",
   "metadata": {},
   "outputs": [
    {
     "name": "stdout",
     "output_type": "stream",
     "text": [
      "BERT model selected           : https://tfhub.dev/tensorflow/small_bert/bert_en_uncased_L-4_H-512_A-8/1\n",
      "Preprocess model auto-selected: https://tfhub.dev/tensorflow/bert_en_uncased_preprocess/3\n"
     ]
    }
   ],
   "source": [
    "bert_model_name = 'small_bert/bert_en_uncased_L-4_H-512_A-8' \n",
    "\n",
    "map_name_to_handle = {\n",
    "    'bert_en_uncased_L-12_H-768_A-12':\n",
    "        'https://tfhub.dev/tensorflow/bert_en_uncased_L-12_H-768_A-12/3',\n",
    "    'bert_en_cased_L-12_H-768_A-12':\n",
    "        'https://tfhub.dev/tensorflow/bert_en_cased_L-12_H-768_A-12/3',\n",
    "    'bert_multi_cased_L-12_H-768_A-12':\n",
    "        'https://tfhub.dev/tensorflow/bert_multi_cased_L-12_H-768_A-12/3',\n",
    "    'small_bert/bert_en_uncased_L-2_H-128_A-2':\n",
    "        'https://tfhub.dev/tensorflow/small_bert/bert_en_uncased_L-2_H-128_A-2/1',\n",
    "    'small_bert/bert_en_uncased_L-2_H-256_A-4':\n",
    "        'https://tfhub.dev/tensorflow/small_bert/bert_en_uncased_L-2_H-256_A-4/1',\n",
    "    'small_bert/bert_en_uncased_L-2_H-512_A-8':\n",
    "        'https://tfhub.dev/tensorflow/small_bert/bert_en_uncased_L-2_H-512_A-8/1',\n",
    "    'small_bert/bert_en_uncased_L-2_H-768_A-12':\n",
    "        'https://tfhub.dev/tensorflow/small_bert/bert_en_uncased_L-2_H-768_A-12/1',\n",
    "    'small_bert/bert_en_uncased_L-4_H-128_A-2':\n",
    "        'https://tfhub.dev/tensorflow/small_bert/bert_en_uncased_L-4_H-128_A-2/1',\n",
    "    'small_bert/bert_en_uncased_L-4_H-256_A-4':\n",
    "        'https://tfhub.dev/tensorflow/small_bert/bert_en_uncased_L-4_H-256_A-4/1',\n",
    "    'small_bert/bert_en_uncased_L-4_H-512_A-8':\n",
    "        'https://tfhub.dev/tensorflow/small_bert/bert_en_uncased_L-4_H-512_A-8/1',\n",
    "    'small_bert/bert_en_uncased_L-4_H-768_A-12':\n",
    "        'https://tfhub.dev/tensorflow/small_bert/bert_en_uncased_L-4_H-768_A-12/1',\n",
    "    'small_bert/bert_en_uncased_L-6_H-128_A-2':\n",
    "        'https://tfhub.dev/tensorflow/small_bert/bert_en_uncased_L-6_H-128_A-2/1',\n",
    "    'small_bert/bert_en_uncased_L-6_H-256_A-4':\n",
    "        'https://tfhub.dev/tensorflow/small_bert/bert_en_uncased_L-6_H-256_A-4/1',\n",
    "    'small_bert/bert_en_uncased_L-6_H-512_A-8':\n",
    "        'https://tfhub.dev/tensorflow/small_bert/bert_en_uncased_L-6_H-512_A-8/1',\n",
    "    'small_bert/bert_en_uncased_L-6_H-768_A-12':\n",
    "        'https://tfhub.dev/tensorflow/small_bert/bert_en_uncased_L-6_H-768_A-12/1',\n",
    "    'small_bert/bert_en_uncased_L-8_H-128_A-2':\n",
    "        'https://tfhub.dev/tensorflow/small_bert/bert_en_uncased_L-8_H-128_A-2/1',\n",
    "    'small_bert/bert_en_uncased_L-8_H-256_A-4':\n",
    "        'https://tfhub.dev/tensorflow/small_bert/bert_en_uncased_L-8_H-256_A-4/1',\n",
    "    'small_bert/bert_en_uncased_L-8_H-512_A-8':\n",
    "        'https://tfhub.dev/tensorflow/small_bert/bert_en_uncased_L-8_H-512_A-8/1',\n",
    "    'small_bert/bert_en_uncased_L-8_H-768_A-12':\n",
    "        'https://tfhub.dev/tensorflow/small_bert/bert_en_uncased_L-8_H-768_A-12/1',\n",
    "    'small_bert/bert_en_uncased_L-10_H-128_A-2':\n",
    "        'https://tfhub.dev/tensorflow/small_bert/bert_en_uncased_L-10_H-128_A-2/1',\n",
    "    'small_bert/bert_en_uncased_L-10_H-256_A-4':\n",
    "        'https://tfhub.dev/tensorflow/small_bert/bert_en_uncased_L-10_H-256_A-4/1',\n",
    "    'small_bert/bert_en_uncased_L-10_H-512_A-8':\n",
    "        'https://tfhub.dev/tensorflow/small_bert/bert_en_uncased_L-10_H-512_A-8/1',\n",
    "    'small_bert/bert_en_uncased_L-10_H-768_A-12':\n",
    "        'https://tfhub.dev/tensorflow/small_bert/bert_en_uncased_L-10_H-768_A-12/1',\n",
    "    'small_bert/bert_en_uncased_L-12_H-128_A-2':\n",
    "        'https://tfhub.dev/tensorflow/small_bert/bert_en_uncased_L-12_H-128_A-2/1',\n",
    "    'small_bert/bert_en_uncased_L-12_H-256_A-4':\n",
    "        'https://tfhub.dev/tensorflow/small_bert/bert_en_uncased_L-12_H-256_A-4/1',\n",
    "    'small_bert/bert_en_uncased_L-12_H-512_A-8':\n",
    "        'https://tfhub.dev/tensorflow/small_bert/bert_en_uncased_L-12_H-512_A-8/1',\n",
    "    'small_bert/bert_en_uncased_L-12_H-768_A-12':\n",
    "        'https://tfhub.dev/tensorflow/small_bert/bert_en_uncased_L-12_H-768_A-12/1',\n",
    "    'albert_en_base':\n",
    "        'https://tfhub.dev/tensorflow/albert_en_base/2',\n",
    "    'electra_small':\n",
    "        'https://tfhub.dev/google/electra_small/2',\n",
    "    'electra_base':\n",
    "        'https://tfhub.dev/google/electra_base/2',\n",
    "    'experts_pubmed':\n",
    "        'https://tfhub.dev/google/experts/bert/pubmed/2',\n",
    "    'experts_wiki_books':\n",
    "        'https://tfhub.dev/google/experts/bert/wiki_books/2',\n",
    "    'talking-heads_base':\n",
    "        'https://tfhub.dev/tensorflow/talkheads_ggelu_bert_en_base/1',\n",
    "}\n",
    "\n",
    "map_model_to_preprocess = {\n",
    "    'bert_en_uncased_L-12_H-768_A-12':\n",
    "        'https://tfhub.dev/tensorflow/bert_en_uncased_preprocess/3',\n",
    "    'bert_en_cased_L-12_H-768_A-12':\n",
    "        'https://tfhub.dev/tensorflow/bert_en_cased_preprocess/3',\n",
    "    'small_bert/bert_en_uncased_L-2_H-128_A-2':\n",
    "        'https://tfhub.dev/tensorflow/bert_en_uncased_preprocess/3',\n",
    "    'small_bert/bert_en_uncased_L-2_H-256_A-4':\n",
    "        'https://tfhub.dev/tensorflow/bert_en_uncased_preprocess/3',\n",
    "    'small_bert/bert_en_uncased_L-2_H-512_A-8':\n",
    "        'https://tfhub.dev/tensorflow/bert_en_uncased_preprocess/3',\n",
    "    'small_bert/bert_en_uncased_L-2_H-768_A-12':\n",
    "        'https://tfhub.dev/tensorflow/bert_en_uncased_preprocess/3',\n",
    "    'small_bert/bert_en_uncased_L-4_H-128_A-2':\n",
    "        'https://tfhub.dev/tensorflow/bert_en_uncased_preprocess/3',\n",
    "    'small_bert/bert_en_uncased_L-4_H-256_A-4':\n",
    "        'https://tfhub.dev/tensorflow/bert_en_uncased_preprocess/3',\n",
    "    'small_bert/bert_en_uncased_L-4_H-512_A-8':\n",
    "        'https://tfhub.dev/tensorflow/bert_en_uncased_preprocess/3',\n",
    "    'small_bert/bert_en_uncased_L-4_H-768_A-12':\n",
    "        'https://tfhub.dev/tensorflow/bert_en_uncased_preprocess/3',\n",
    "    'small_bert/bert_en_uncased_L-6_H-128_A-2':\n",
    "        'https://tfhub.dev/tensorflow/bert_en_uncased_preprocess/3',\n",
    "    'small_bert/bert_en_uncased_L-6_H-256_A-4':\n",
    "        'https://tfhub.dev/tensorflow/bert_en_uncased_preprocess/3',\n",
    "    'small_bert/bert_en_uncased_L-6_H-512_A-8':\n",
    "        'https://tfhub.dev/tensorflow/bert_en_uncased_preprocess/3',\n",
    "    'small_bert/bert_en_uncased_L-6_H-768_A-12':\n",
    "        'https://tfhub.dev/tensorflow/bert_en_uncased_preprocess/3',\n",
    "    'small_bert/bert_en_uncased_L-8_H-128_A-2':\n",
    "        'https://tfhub.dev/tensorflow/bert_en_uncased_preprocess/3',\n",
    "    'small_bert/bert_en_uncased_L-8_H-256_A-4':\n",
    "        'https://tfhub.dev/tensorflow/bert_en_uncased_preprocess/3',\n",
    "    'small_bert/bert_en_uncased_L-8_H-512_A-8':\n",
    "        'https://tfhub.dev/tensorflow/bert_en_uncased_preprocess/3',\n",
    "    'small_bert/bert_en_uncased_L-8_H-768_A-12':\n",
    "        'https://tfhub.dev/tensorflow/bert_en_uncased_preprocess/3',\n",
    "    'small_bert/bert_en_uncased_L-10_H-128_A-2':\n",
    "        'https://tfhub.dev/tensorflow/bert_en_uncased_preprocess/3',\n",
    "    'small_bert/bert_en_uncased_L-10_H-256_A-4':\n",
    "        'https://tfhub.dev/tensorflow/bert_en_uncased_preprocess/3',\n",
    "    'small_bert/bert_en_uncased_L-10_H-512_A-8':\n",
    "        'https://tfhub.dev/tensorflow/bert_en_uncased_preprocess/3',\n",
    "    'small_bert/bert_en_uncased_L-10_H-768_A-12':\n",
    "        'https://tfhub.dev/tensorflow/bert_en_uncased_preprocess/3',\n",
    "    'small_bert/bert_en_uncased_L-12_H-128_A-2':\n",
    "        'https://tfhub.dev/tensorflow/bert_en_uncased_preprocess/3',\n",
    "    'small_bert/bert_en_uncased_L-12_H-256_A-4':\n",
    "        'https://tfhub.dev/tensorflow/bert_en_uncased_preprocess/3',\n",
    "    'small_bert/bert_en_uncased_L-12_H-512_A-8':\n",
    "        'https://tfhub.dev/tensorflow/bert_en_uncased_preprocess/3',\n",
    "    'small_bert/bert_en_uncased_L-12_H-768_A-12':\n",
    "        'https://tfhub.dev/tensorflow/bert_en_uncased_preprocess/3',\n",
    "    'bert_multi_cased_L-12_H-768_A-12':\n",
    "        'https://tfhub.dev/tensorflow/bert_multi_cased_preprocess/3',\n",
    "    'albert_en_base':\n",
    "        'https://tfhub.dev/tensorflow/albert_en_preprocess/3',\n",
    "    'electra_small':\n",
    "        'https://tfhub.dev/tensorflow/bert_en_uncased_preprocess/3',\n",
    "    'electra_base':\n",
    "        'https://tfhub.dev/tensorflow/bert_en_uncased_preprocess/3',\n",
    "    'experts_pubmed':\n",
    "        'https://tfhub.dev/tensorflow/bert_en_uncased_preprocess/3',\n",
    "    'experts_wiki_books':\n",
    "        'https://tfhub.dev/tensorflow/bert_en_uncased_preprocess/3',\n",
    "    'talking-heads_base':\n",
    "        'https://tfhub.dev/tensorflow/bert_en_uncased_preprocess/3',\n",
    "}\n",
    "\n",
    "tfhub_handle_encoder = map_name_to_handle[bert_model_name]\n",
    "tfhub_handle_preprocess = map_model_to_preprocess[bert_model_name]\n",
    "\n",
    "'''\n",
    "In the context of TensorFlow Hub, a “handle” is a string that identifies a specific model. \n",
    "It can be a URL or a local file path\n",
    "\n",
    "The BERT encoder handle identifies the BERT model itself. \n",
    "This is the part of the model that takes tokenized text as input and produces embeddings (dense vector representations) as output.\n",
    "\n",
    "The BERT preprocessing model handle identifies the model or function that preprocesses text data \n",
    "to make it suitable for input to the BERT model. This preprocessing typically includes tokenization and other transformations.\n",
    "'''\n",
    "\n",
    "print(f'BERT model selected           : {tfhub_handle_encoder}')\n",
    "print(f'Preprocess model auto-selected: {tfhub_handle_preprocess}')"
   ]
  },
  {
   "cell_type": "code",
   "execution_count": 10,
   "id": "7781e35a-1c84-496a-a652-ffc5d549c6c6",
   "metadata": {},
   "outputs": [
    {
     "data": {
      "text/plain": [
       "'\\nThe preprocessing model\\nText inputs need to be transformed to numeric token ids and arranged in several Tensors before being input to BERT. \\nTensorFlow Hub provides a matching preprocessing model for each of the BERT models discussed above, \\nwhich implements this transformation using TF ops from the TF.text library. \\nIt is not necessary to run pure Python code outside your TensorFlow model to preprocess text.\\n\\nThe preprocessing model must be the one referenced by the documentation of the BERT model, \\nwhich you can read at the URL printed above. For BERT models from the drop-down above, the preprocessing model is selected automatically.\\n\\nNote: You will load the preprocessing model into a hub.KerasLayer to compose your fine-tuned model. \\nThis is the preferred API to load a TF2-style SavedModel from TF Hub into a Keras model.\\n'"
      ]
     },
     "execution_count": 10,
     "metadata": {},
     "output_type": "execute_result"
    }
   ],
   "source": [
    "'''\n",
    "The preprocessing model\n",
    "Text inputs need to be transformed to numeric token ids and arranged in several Tensors before being input to BERT. \n",
    "TensorFlow Hub provides a matching preprocessing model for each of the BERT models discussed above, \n",
    "which implements this transformation using TF ops from the TF.text library. \n",
    "It is not necessary to run pure Python code outside your TensorFlow model to preprocess text.\n",
    "\n",
    "The preprocessing model must be the one referenced by the documentation of the BERT model, \n",
    "which you can read at the URL printed above. For BERT models from the drop-down above, the preprocessing model is selected automatically.\n",
    "\n",
    "Note: You will load the preprocessing model into a hub.KerasLayer to compose your fine-tuned model. \n",
    "This is the preferred API to load a TF2-style SavedModel from TF Hub into a Keras model.\n",
    "'''"
   ]
  },
  {
   "cell_type": "code",
   "execution_count": 11,
   "id": "e948d17c-9c3d-4865-aa82-448fbb4f6299",
   "metadata": {},
   "outputs": [
    {
     "name": "stdout",
     "output_type": "stream",
     "text": [
      "Keys       : ['input_word_ids', 'input_mask', 'input_type_ids']\n",
      "Shape      : (1, 128)\n",
      "Word Ids   : [[ 101 2023 2003 2107 2019 6429 3185  999  102    0    0    0    0    0\n",
      "     0    0    0    0    0    0    0    0    0    0    0    0    0    0\n",
      "     0    0    0    0    0    0    0    0    0    0    0    0    0    0\n",
      "     0    0    0    0    0    0    0    0    0    0    0    0    0    0\n",
      "     0    0    0    0    0    0    0    0    0    0    0    0    0    0\n",
      "     0    0    0    0    0    0    0    0    0    0    0    0    0    0\n",
      "     0    0    0    0    0    0    0    0    0    0    0    0    0    0\n",
      "     0    0    0    0    0    0    0    0    0    0    0    0    0    0\n",
      "     0    0    0    0    0    0    0    0    0    0    0    0    0    0\n",
      "     0    0]]\n",
      "Input Mask : [[1 1 1 1 1 1 1 1 1 0 0 0 0 0 0 0 0 0 0 0 0 0 0 0 0 0 0 0 0 0 0 0 0 0 0 0\n",
      "  0 0 0 0 0 0 0 0 0 0 0 0 0 0 0 0 0 0 0 0 0 0 0 0 0 0 0 0 0 0 0 0 0 0 0 0\n",
      "  0 0 0 0 0 0 0 0 0 0 0 0 0 0 0 0 0 0 0 0 0 0 0 0 0 0 0 0 0 0 0 0 0 0 0 0\n",
      "  0 0 0 0 0 0 0 0 0 0 0 0 0 0 0 0 0 0 0 0]]\n",
      "Type Ids   : [[0 0 0 0 0 0 0 0 0 0 0 0 0 0 0 0 0 0 0 0 0 0 0 0 0 0 0 0 0 0 0 0 0 0 0 0\n",
      "  0 0 0 0 0 0 0 0 0 0 0 0 0 0 0 0 0 0 0 0 0 0 0 0 0 0 0 0 0 0 0 0 0 0 0 0\n",
      "  0 0 0 0 0 0 0 0 0 0 0 0 0 0 0 0 0 0 0 0 0 0 0 0 0 0 0 0 0 0 0 0 0 0 0 0\n",
      "  0 0 0 0 0 0 0 0 0 0 0 0 0 0 0 0 0 0 0 0]]\n"
     ]
    },
    {
     "data": {
      "text/plain": [
       "'\\nAs you can see, now you have the 3 outputs from the preprocessing that a BERT model would use (input_words_id, input_mask and input_type_ids).\\n\\nSome other important points:\\n\\nThe input is truncated to 128 tokens. The number of tokens can be customized, \\nand you can see more details on the Solve GLUE tasks using BERT on a TPU colab.\\nThe input_type_ids only have one value (0) because this is a single sentence input. \\nFor a multiple sentence input, it would have one number for each input.\\nSince this text preprocessor is a TensorFlow model, It can be included in your model directly.\\n'"
      ]
     },
     "execution_count": 11,
     "metadata": {},
     "output_type": "execute_result"
    }
   ],
   "source": [
    "'''\n",
    "CHECKING PRE-PROCESS\n",
    "'''\n",
    "\n",
    "bert_preprocess_model = hub.KerasLayer(tfhub_handle_preprocess)\n",
    "\n",
    "# Let's try the preprocessing model on some text and see the output:\n",
    "\n",
    "text_test = ['this is such an amazing movie!']\n",
    "text_preprocessed = bert_preprocess_model(text_test)\n",
    "\n",
    "print(f'Keys       : {list(text_preprocessed.keys())}')\n",
    "\n",
    "print(f'Shape      : {text_preprocessed[\"input_word_ids\"].shape}')\n",
    "print(f'Word Ids   : {text_preprocessed[\"input_word_ids\"]}')\n",
    "\n",
    "print(f'Input Mask : {text_preprocessed[\"input_mask\"]}')\n",
    "\n",
    "print(f'Type Ids   : {text_preprocessed[\"input_type_ids\"]}')\n",
    "\n",
    "'''\n",
    "As you can see, now you have the 3 outputs from the preprocessing that a BERT model would use (input_words_id, input_mask and input_type_ids).\n",
    "\n",
    "Some other important points:\n",
    "\n",
    "The input is truncated to 128 tokens. The number of tokens can be customized, \n",
    "and you can see more details on the Solve GLUE tasks using BERT on a TPU colab.\n",
    "The input_type_ids only have one value (0) because this is a single sentence input. \n",
    "For a multiple sentence input, it would have one number for each input.\n",
    "Since this text preprocessor is a TensorFlow model, It can be included in your model directly.\n",
    "'''"
   ]
  },
  {
   "cell_type": "code",
   "execution_count": 12,
   "id": "c1f2e683-9462-45e0-93b4-ad51788e93b7",
   "metadata": {},
   "outputs": [
    {
     "name": "stdout",
     "output_type": "stream",
     "text": [
      "Loaded BERT: https://tfhub.dev/tensorflow/small_bert/bert_en_uncased_L-4_H-512_A-8/1\n",
      "Pooled Outputs Shape:(1, 512)\n",
      "Pooled Outputs Values:[[ 7.62628317e-01  9.92809832e-01 -1.86118737e-01  3.66738528e-01\n",
      "   1.52336732e-01  6.55044675e-01  9.68115389e-01 -9.48627114e-01\n",
      "   2.16190517e-03 -9.87773180e-01  6.84275031e-02 -9.76306081e-01\n",
      "   2.99960196e-01 -9.99825835e-01  2.18228668e-01  4.57802355e-01\n",
      "   1.28510416e-01  2.62947232e-01 -4.03386742e-01 -1.70664623e-01\n",
      "   1.30039886e-01 -1.20207846e-01 -9.34154928e-01  2.52413988e-01\n",
      "   9.80566800e-01  9.85106587e-01 -3.83478463e-01 -6.19303435e-02\n",
      "   3.53126645e-01  9.61802423e-01  4.37849164e-01 -7.62055591e-02\n",
      "   3.83451641e-01 -3.99952859e-01  3.88874263e-01 -7.05706775e-02\n",
      "  -1.84964299e-01 -3.74650866e-01 -8.90866280e-01 -2.45328590e-01\n",
      "   1.48203382e-02 -4.44232635e-02  8.27981904e-02 -6.79375291e-01\n",
      "   1.38857380e-01 -9.11613479e-02 -9.95979846e-01  2.31295943e-01\n",
      "   2.47622654e-01 -3.34113657e-01  9.97976243e-01 -3.57811093e-01\n",
      "   9.73542035e-01 -6.24328732e-01  3.07091892e-01  1.60279647e-01\n",
      "  -1.44825995e-01 -1.74540415e-01 -9.99539375e-01 -9.98977661e-01\n",
      "   9.33453590e-02 -2.23835289e-01  9.98142064e-01 -9.03363600e-02\n",
      "   2.15027407e-01 -9.98293877e-01 -9.87220556e-05  7.61684000e-01\n",
      "   9.14674327e-02  8.81127417e-02  9.83048499e-01  9.94190991e-01\n",
      "  -1.54018939e-01 -9.71208990e-01 -5.48702121e-01  1.66939199e-01\n",
      "  -2.95076251e-01  9.85258698e-01 -1.94796667e-01 -2.55096406e-01\n",
      "  -9.84164715e-01 -1.20103970e-01  9.94991958e-01 -6.19594097e-01\n",
      "   9.92243350e-01 -9.99621809e-01  3.39152575e-01  1.73367113e-01\n",
      "  -4.22022879e-01 -1.96295202e-01 -9.92719710e-01 -1.32573664e-01\n",
      "   5.47868848e-01 -9.88404870e-01 -7.75912762e-01 -6.40169203e-01\n",
      "   9.49923038e-01 -8.66907090e-02 -2.01915413e-01 -3.64012659e-01\n",
      "  -5.82452178e-01 -8.21322083e-01 -9.77031052e-01  2.20602274e-01\n",
      "  -2.86966354e-01  6.63212463e-02  9.90430951e-01  2.88470745e-01\n",
      "  -5.31456828e-01  4.80062455e-01 -2.04793841e-01  4.23701197e-01\n",
      "   9.88471210e-01 -9.96448934e-01 -2.51451194e-01  3.83189976e-01\n",
      "   4.96087432e-01  9.17864561e-01 -1.38156582e-04  9.97011900e-01\n",
      "  -9.83851552e-01  7.47374147e-02 -9.89918888e-01  9.26546097e-01\n",
      "  -3.78851503e-01 -1.50043547e-01 -1.97116286e-01  1.94224313e-01\n",
      "  -5.58377318e-02 -2.55652875e-01  9.94940698e-01  9.98858869e-01\n",
      "   9.68727887e-01  2.58114159e-01  4.80596542e-01 -9.06892180e-01\n",
      "   9.66376364e-01 -9.91291881e-01 -5.39942920e-01  3.43861818e-01\n",
      "   9.99972880e-01  4.13956136e-01 -6.25356317e-01  6.28901184e-01\n",
      "  -2.16055438e-01  9.91671622e-01 -9.60305095e-01  7.08348691e-01\n",
      "  -1.32943884e-01 -2.14211449e-01 -4.86384034e-02 -3.06360781e-01\n",
      "   9.70957220e-01  1.59733072e-01  2.91158170e-01 -2.12716877e-01\n",
      "  -8.49497378e-01  9.12066996e-01  3.97582114e-01  5.38031384e-02\n",
      "  -1.95851639e-01  2.95858711e-01 -4.26905334e-01 -6.73463464e-01\n",
      "   9.99596834e-01  2.33256817e-02 -2.91728884e-01 -4.49446112e-01\n",
      "   9.97131169e-01  5.44568896e-01  1.20992795e-01 -9.88504827e-01\n",
      "   9.60839927e-01 -9.53754306e-01  6.92339182e-01  4.48571801e-01\n",
      "   1.41911596e-01  3.84909928e-01  9.99748588e-01  6.78024054e-01\n",
      "   9.82404828e-01 -4.95662205e-02  9.94555116e-01 -8.79285514e-01\n",
      "   7.96881437e-01 -9.80414808e-01 -9.71915901e-01 -7.69296765e-01\n",
      "  -1.29525438e-01  9.96294141e-01  1.78356618e-01 -5.21232426e-01\n",
      "  -9.99227345e-01 -5.26328921e-01  9.99500930e-01  2.99652994e-01\n",
      "  -8.71599257e-01 -9.94495153e-01  9.43198681e-01  2.34441653e-01\n",
      "   3.92223418e-01 -3.84546936e-01  2.37306237e-01  1.72320113e-01\n",
      "  -5.35275698e-01  9.49814439e-01 -3.85073513e-01  9.62388396e-01\n",
      "   9.95478630e-01  2.95416921e-01  3.17406505e-01  4.58249152e-01\n",
      "  -1.40972748e-01  1.79100111e-01  9.92426217e-01 -9.38459158e-01\n",
      "   9.27345812e-01  9.66441691e-01  9.78223681e-01  1.14649095e-01\n",
      "  -9.90929604e-01 -5.89736104e-01 -9.50371742e-01  1.49873480e-01\n",
      "   8.51662695e-01  3.26818138e-01 -9.81222034e-01  5.63782811e-01\n",
      "  -9.95843470e-01  9.79191959e-01 -8.95182490e-02 -2.06958968e-02\n",
      "  -1.32529840e-01  1.38084292e-01  9.64455485e-01  2.11848229e-01\n",
      "  -7.90156424e-01  4.17950243e-01  3.46748561e-01 -8.07007253e-02\n",
      "   9.49249506e-01  9.99973595e-01 -8.92258108e-01  9.40616131e-01\n",
      "   6.99490726e-01  6.78396165e-01  9.95642483e-01  1.28700435e-01\n",
      "   9.60242331e-01  2.53911465e-02 -2.69453704e-01 -6.14463724e-02\n",
      "  -6.54866099e-01  5.25081933e-01  9.90854859e-01 -1.64652392e-01\n",
      "  -1.15863845e-01 -9.98729229e-01  7.50907242e-01  8.23736846e-01\n",
      "  -5.44667363e-01 -9.94099915e-01 -4.19651002e-01 -6.45316184e-01\n",
      "  -3.14371176e-02  9.98141468e-01  4.87910420e-01 -8.65992486e-01\n",
      "   1.45727366e-01  1.87729686e-01  9.98382628e-01  1.46596164e-01\n",
      "  -9.86287177e-01  9.99789536e-01 -3.91179860e-01 -9.91036475e-01\n",
      "   9.95312452e-01  6.41600117e-02 -9.08387005e-01 -1.58141106e-01\n",
      "  -9.91545558e-01 -9.99215245e-01  8.03015769e-01  9.98973846e-01\n",
      "  -3.32496911e-01 -8.42094570e-02  3.73414010e-01  2.70733595e-01\n",
      "  -9.89446282e-01 -9.99516547e-01 -7.70957232e-01  6.21771403e-02\n",
      "   4.36927617e-01  9.24941242e-01  9.97540414e-01 -9.98088777e-01\n",
      "  -2.45038182e-01  9.74303305e-01 -7.94611946e-02  9.93370831e-01\n",
      "   9.99451041e-01 -7.07643867e-01 -8.30896199e-01  8.98295999e-01\n",
      "  -1.01530463e-01 -1.71470806e-01  4.74043131e-01  9.95530903e-01\n",
      "  -8.80135000e-02  4.70760018e-01  2.22401798e-01  7.33649254e-01\n",
      "  -7.37255812e-02  7.59146392e-01  8.12294126e-01  1.41527563e-01\n",
      "   3.76019150e-01  3.39545071e-01  5.80030382e-01  9.99790430e-01\n",
      "  -1.79859623e-01  1.99039385e-01 -4.69460398e-01  8.70561242e-01\n",
      "  -2.37593710e-01 -4.47978914e-01 -8.65355551e-01  7.65121460e-01\n",
      "  -9.90383267e-01  3.82323593e-01  6.48539662e-01  2.66881317e-01\n",
      "  -3.27811837e-01  7.71422267e-01 -1.29253507e-01 -3.89293313e-01\n",
      "   6.93514124e-02 -8.94340515e-01 -9.60046232e-01  3.71891737e-01\n",
      "   9.99563456e-01 -3.90956178e-02 -4.88997370e-01  9.90934789e-01\n",
      "  -2.67010659e-01  9.82963204e-01  8.56696904e-01  9.99372423e-01\n",
      "  -1.92579538e-01  9.96981084e-01  2.10357562e-01  2.84461111e-01\n",
      "   9.65785086e-02  2.44745404e-01  9.76513505e-01  4.05047446e-01\n",
      "  -6.81259274e-01 -1.93610117e-01 -4.84825104e-01  2.30696887e-01\n",
      "  -9.99203503e-01 -9.56096590e-01 -5.79378188e-01 -3.96878496e-02\n",
      "  -5.73906861e-02 -9.74193513e-01 -9.73427832e-01  1.00151964e-01\n",
      "   2.40723237e-01  1.62927687e-01  2.42329016e-01  9.43726122e-01\n",
      "  -6.38536289e-02  1.26870722e-01 -7.18345284e-01 -9.92574275e-01\n",
      "  -7.11845756e-02 -1.46030635e-01 -4.83590722e-01 -6.13327146e-01\n",
      "   7.13953972e-01 -1.53984874e-01 -9.97635961e-01  2.99064726e-01\n",
      "   9.98741210e-01  8.56169045e-01  3.11262965e-01 -4.50186759e-01\n",
      "   9.73553658e-01 -2.72070348e-01 -1.30773142e-01  9.94025409e-01\n",
      "  -9.99943137e-01 -8.85477364e-02 -3.88364553e-01 -8.56456161e-02\n",
      "   1.23220153e-01 -4.03664142e-01  9.99085605e-01  2.30324380e-02\n",
      "  -4.24665540e-01 -9.42262769e-01  3.93937111e-01 -1.33296503e-02\n",
      "   9.59551990e-01  1.57268755e-02 -9.25131083e-01 -1.93070635e-01\n",
      "  -2.65474856e-01 -9.99908686e-01  9.78813589e-01  4.50989962e-01\n",
      "  -9.99000072e-01  2.61028558e-01 -6.55635357e-01  5.67904651e-01\n",
      "   1.85161069e-01 -9.02370453e-01 -1.27932549e-01 -9.99364913e-01\n",
      "  -4.35874164e-01  9.97788608e-01 -3.16905767e-01  9.62255776e-01\n",
      "   2.90363759e-01 -9.50056612e-01 -2.74002016e-01 -1.88338086e-02\n",
      "   2.15329707e-01  2.70551294e-01  4.60419297e-01 -9.78495777e-01\n",
      "   9.95513856e-01 -9.37972903e-01  7.95150757e-01  1.82261512e-01\n",
      "  -8.90303075e-01 -8.80954623e-01 -3.77924174e-01  7.56197199e-02\n",
      "  -3.23663145e-01 -9.85925674e-01 -9.98959482e-01 -6.33482859e-02\n",
      "  -9.98691857e-01 -8.01522732e-01 -9.85162318e-01  2.47793183e-01\n",
      "  -4.02586013e-01  1.03882380e-01 -1.52592003e-01  2.09508315e-01\n",
      "   2.19177511e-02  5.76247334e-01  1.60194293e-01  9.98519599e-01\n",
      "  -4.26371425e-01 -2.99708486e-01 -3.94283623e-01  9.93945837e-01\n",
      "   8.77698779e-01  1.11085825e-01 -9.98374939e-01  4.53649104e-01\n",
      "   9.91885602e-01  9.16699588e-01  8.71488452e-01  9.96536732e-01\n",
      "  -9.29224432e-01 -1.06886677e-01  3.26356769e-01 -5.76192558e-01\n",
      "   7.50882387e-01 -1.37596577e-01  6.93646848e-01 -9.98303175e-01\n",
      "  -9.70150828e-01 -3.42500657e-02 -9.87183750e-01  9.42197025e-01\n",
      "   3.47524852e-01  2.69227445e-01  4.51329678e-01  3.19435596e-01\n",
      "  -2.51564980e-01 -8.42266798e-01 -9.86535728e-01 -6.13613307e-01\n",
      "   1.50642589e-01 -3.69367152e-01 -1.50070697e-01 -9.99991059e-01\n",
      "  -9.76706505e-01  4.00265723e-01  2.16104895e-01  2.96439100e-02\n",
      "  -5.82241677e-02  2.13437602e-01 -8.18849266e-01  9.99166667e-01\n",
      "  -8.80628884e-01 -1.37993857e-01  3.45503613e-02  7.73413703e-02\n",
      "   6.84454590e-02 -1.80268630e-01  9.59138036e-01  7.51162529e-01\n",
      "   1.32814482e-01  2.18579546e-01 -4.58394885e-01 -2.02126764e-02]]\n",
      "Sequence Outputs Shape:(1, 128, 512)\n",
      "Sequence Outputs Values:[[[-0.28946358  0.34321284  0.3323149  ...  0.21300834  0.71020764\n",
      "   -0.0577117 ]\n",
      "  [-0.28742057  0.3198098  -0.23018609 ...  0.58455014 -0.21329784\n",
      "    0.7269208 ]\n",
      "  [-0.6615704   0.6887682  -0.87432915 ...  0.10877307 -0.26173243\n",
      "    0.47855407]\n",
      "  ...\n",
      "  [ 0.07634867 -0.1402928  -0.23991784 ...  0.43109924  0.9132693\n",
      "    0.21486597]\n",
      "  [-0.44950676 -0.41251928 -0.184508   ...  0.42683232  0.5765465\n",
      "    0.5835244 ]\n",
      "  [-1.0125375  -0.8638914   0.05829396 ...  0.3331212   0.36520943\n",
      "    0.94291836]]]\n",
      "Encoder Outputs Layers:4\n",
      "Encoder Outputs Layer Shape:(1, 128, 512)\n",
      "Sequence Outputs Layer:[[[-0.28946358  0.34321284  0.3323149  ...  0.21300834  0.71020764\n",
      "   -0.0577117 ]\n",
      "  [-0.28742057  0.3198098  -0.23018609 ...  0.58455014 -0.21329784\n",
      "    0.7269208 ]\n",
      "  [-0.6615704   0.6887682  -0.87432915 ...  0.10877307 -0.26173243\n",
      "    0.47855407]\n",
      "  ...\n",
      "  [ 0.07634867 -0.1402928  -0.23991784 ...  0.43109924  0.9132693\n",
      "    0.21486597]\n",
      "  [-0.44950676 -0.41251928 -0.184508   ...  0.42683232  0.5765465\n",
      "    0.5835244 ]\n",
      "  [-1.0125375  -0.8638914   0.05829396 ...  0.3331212   0.36520943\n",
      "    0.94291836]]]\n"
     ]
    },
    {
     "data": {
      "text/plain": [
       "'\\n\\nIn the BERT model name ‘bert_en_uncased_L-4_H-512_A-8/1’, ‘L’, ‘H’, and ‘A’ stand for the following parameters of the model architecture:\\n\\nL: The number of transformer layers (i.e., transformer blocks) in the BERT model. In this case, ‘L-4’ means the model has 4 layers.\\nH: The hidden size, which is the dimensionality of the hidden states in the transformer layers. Here, ‘H-512’ means the hidden size is 512.\\nA: The number of attention heads in the self-attention mechanism of each transformer layer. ‘A-8’ indicates that there are 8 attention heads.\\n\\nSo, ‘bert_en_uncased_L-4_H-512_A-8/1’ refers to a version of BERT that is English (en), uncased, \\nhas 4 transformer layers, a hidden size of 512, and 8 attention heads.\\nThe BERT models return a map with 3 important keys: pooled_output, sequence_output, encoder_outputs:\\n\\n-----\\n\\npooled_output represents each input sequence as a whole. The shape is [batch_size, H]. \\nIn the context of the model name \"bert_en_uncased_L-4_H-512_A-8/1,\" the \"H\" stands for \"hidden size.\"\\nThe \"hidden size\" refers to the dimensionality of the hidden states in the transformer model. \\nIn this case, the hidden size is set to 512, meaning that each hidden state in the model has a dimensionality of 512\\nYou can think of pooled_output as an embedding for the entire movie review.\\n\\nsequence_output represents each input token in the context. The shape is [batch_size=1, seq_length=128, H=512]. \\nThe sequence length represents the input number of token (the shape of the input_word_ids: 128)\\nYou can think of sequence_output as a contextual embedding for every token in the movie review.\\n\\nencoder_outputs are the intermediate activations of the L Transformer blocks. \\noutputs[\"encoder_outputs\"][i] is a Tensor of shape [batch_size=1, seq_length=128, H=512] \\nwith the outputs of the i-th Transformer block, for 0 <= i < L. \\nThe last value of the list is equal to sequence_output.\\n\\nFor the fine-tuning you are going to use the pooled_output array.\\n'"
      ]
     },
     "execution_count": 12,
     "metadata": {},
     "output_type": "execute_result"
    }
   ],
   "source": [
    "'''\n",
    "CHECKING ENCODER\n",
    "\n",
    "Using the BERT model\n",
    "Before putting BERT into your own model, let's take a look at its outputs. \n",
    "You will load it from TF Hub and see the returned values.\n",
    "'''\n",
    "\n",
    "bert_model = hub.KerasLayer(tfhub_handle_encoder)\n",
    "\n",
    "bert_results = bert_model(text_preprocessed)\n",
    "\n",
    "print(f'Loaded BERT: {tfhub_handle_encoder}')\n",
    "\n",
    "print(f'Pooled Outputs Shape:{bert_results[\"pooled_output\"].shape}')\n",
    "print(f'Pooled Outputs Values:{bert_results[\"pooled_output\"]}')\n",
    "\n",
    "print(f'Sequence Outputs Shape:{bert_results[\"sequence_output\"].shape}')\n",
    "print(f'Sequence Outputs Values:{bert_results[\"sequence_output\"]}')\n",
    "\n",
    "print(f'Encoder Outputs Layers:{len(bert_results[\"encoder_outputs\"])}')\n",
    "print(f'Encoder Outputs Layer Shape:{bert_results[\"encoder_outputs\"][-1].shape}')\n",
    "print(f'Sequence Outputs Layer:{bert_results[\"encoder_outputs\"][-1]}')\n",
    "\n",
    "'''\n",
    "\n",
    "In the BERT model name ‘bert_en_uncased_L-4_H-512_A-8/1’, ‘L’, ‘H’, and ‘A’ stand for the following parameters of the model architecture:\n",
    "\n",
    "L: The number of transformer layers (i.e., transformer blocks) in the BERT model. In this case, ‘L-4’ means the model has 4 layers.\n",
    "H: The hidden size, which is the dimensionality of the hidden states in the transformer layers. Here, ‘H-512’ means the hidden size is 512.\n",
    "A: The number of attention heads in the self-attention mechanism of each transformer layer. ‘A-8’ indicates that there are 8 attention heads.\n",
    "\n",
    "So, ‘bert_en_uncased_L-4_H-512_A-8/1’ refers to a version of BERT that is English (en), uncased, \n",
    "has 4 transformer layers, a hidden size of 512, and 8 attention heads.\n",
    "The BERT models return a map with 3 important keys: pooled_output, sequence_output, encoder_outputs:\n",
    "\n",
    "-----\n",
    "\n",
    "pooled_output represents each input sequence as a whole. The shape is [batch_size, H]. \n",
    "In the context of the model name \"bert_en_uncased_L-4_H-512_A-8/1,\" the \"H\" stands for \"hidden size.\"\n",
    "The \"hidden size\" refers to the dimensionality of the hidden states in the transformer model. \n",
    "In this case, the hidden size is set to 512, meaning that each hidden state in the model has a dimensionality of 512\n",
    "You can think of pooled_output as an embedding for the entire movie review.\n",
    "\n",
    "sequence_output represents each input token in the context. The shape is [batch_size=1, seq_length=128, H=512]. \n",
    "The sequence length represents the input number of token (the shape of the input_word_ids: 128)\n",
    "You can think of sequence_output as a contextual embedding for every token in the movie review.\n",
    "\n",
    "encoder_outputs are the intermediate activations of the L Transformer blocks. \n",
    "outputs[\"encoder_outputs\"][i] is a Tensor of shape [batch_size=1, seq_length=128, H=512] \n",
    "with the outputs of the i-th Transformer block, for 0 <= i < L. \n",
    "The last value of the list is equal to sequence_output.\n",
    "\n",
    "For the fine-tuning you are going to use the pooled_output array.\n",
    "'''"
   ]
  },
  {
   "cell_type": "code",
   "execution_count": 13,
   "id": "e62c1327-0a05-4546-99e8-eab823c30cd3",
   "metadata": {},
   "outputs": [],
   "source": [
    "'''\n",
    "Define your model\n",
    "You will create a very simple fine-tuned model, with the preprocessing model, the selected BERT model, one Dense and a Dropout layer.\n",
    "\n",
    "Note: for more information about the base model's input and output you can follow the model's URL for documentation. \n",
    "Here specifically, you don't need to worry about it because the preprocessing model will take care of that for you.\n",
    "'''\n",
    "\n",
    "def build_classifier_model():\n",
    "    text_input = tf.keras.layers.Input(shape=(), dtype=tf.string, name='text')\n",
    "    preprocessing_layer = hub.KerasLayer(tfhub_handle_preprocess, name='preprocessing')\n",
    "    encoder_inputs = preprocessing_layer(text_input)\n",
    "    encoder = hub.KerasLayer(tfhub_handle_encoder, trainable=True, name='BERT_encoder')\n",
    "    outputs = encoder(encoder_inputs)\n",
    "    net = outputs['pooled_output']\n",
    "    net = tf.keras.layers.Dropout(0.1)(net)\n",
    "    net = tf.keras.layers.Dense(1, activation=None, name='classifier')(net)\n",
    "    return tf.keras.Model(text_input, net)"
   ]
  },
  {
   "cell_type": "code",
   "execution_count": 14,
   "id": "f04909b0-91c3-4e8d-8892-cdeb8af0c908",
   "metadata": {},
   "outputs": [
    {
     "name": "stdout",
     "output_type": "stream",
     "text": [
      "tf.Tensor([[0.19837682]], shape=(1, 1), dtype=float32)\n"
     ]
    }
   ],
   "source": [
    "# Let's check that the model runs with the output of the preprocessing model.\n",
    "\n",
    "classifier_model = build_classifier_model()\n",
    "bert_raw_result = classifier_model(tf.constant(text_test))\n",
    "print(tf.sigmoid(bert_raw_result)) # note that the signmoid activation functions is used here, instead that on the last layer of the model\n",
    "\n",
    "# The output is meaningless, of course, because the model has not been trained yet.\n"
   ]
  },
  {
   "cell_type": "code",
   "execution_count": 15,
   "id": "a15adc3c-7dfb-48ed-a31f-cf12655a7152",
   "metadata": {},
   "outputs": [
    {
     "data": {
      "image/png": "[encoded data removed]",
      "text/plain": [
       "<IPython.core.display.Image object>"
      ]
     },
     "execution_count": 15,
     "metadata": {},
     "output_type": "execute_result"
    }
   ],
   "source": [
    "# Let's take a look at the model's structure.\n",
    "\n",
    "tf.keras.utils.plot_model(classifier_model)"
   ]
  },
  {
   "cell_type": "code",
   "execution_count": 17,
   "id": "d51efa69-3c2a-4fc9-9743-a9f9531b3624",
   "metadata": {},
   "outputs": [],
   "source": [
    "'''\n",
    "Model training\n",
    "You now have all the pieces to train a model, including the preprocessing module, BERT encoder, data, and classifier.\n",
    "\n",
    "Loss function\n",
    "Since this is a binary classification problem and the model outputs a probability (a single-unit layer), \n",
    "you'll use losses.BinaryCrossentropy loss function.\n",
    "'''\n",
    "\n",
    "loss = tf.keras.losses.BinaryCrossentropy(from_logits=True)\n",
    "metrics = tf.metrics.BinaryAccuracy()"
   ]
  },
  {
   "cell_type": "code",
   "execution_count": 18,
   "id": "1572a850-366e-4f5e-9039-f4d739abcfbb",
   "metadata": {},
   "outputs": [],
   "source": [
    "'''\n",
    "Optimizer\n",
    "For fine-tuning, let's use the same optimizer that BERT was originally trained with: the \"Adaptive Moments\" (Adam). \n",
    "This optimizer minimizes the prediction loss and does regularization by weight decay (not using moments (?)), which is also known as AdamW.\n",
    "\n",
    "For the learning rate (init_lr), you will use the same schedule as BERT pre-training: \n",
    "linear decay of a notional initial learning rate, prefixed with a linear warm-up phase over the first 10% of training steps (num_warmup_steps). \n",
    "In line with the BERT paper, the initial learning rate is smaller for fine-tuning (best of 5e-5, 3e-5, 2e-5).\n",
    "'''\n",
    "\n",
    "epochs = 5\n",
    "steps_per_epoch = tf.data.experimental.cardinality(train_ds).numpy() #  number of batches in the train_ds dataset: 625\n",
    "# as the batch size is set to 32, and there are 20.000 samples in the train dataset, then the number of batches in the train_ds dataset: 625\n",
    "num_train_steps = steps_per_epoch * epochs # total number of weights update\n",
    "num_warmup_steps = int(0.1*num_train_steps)\n",
    "\n",
    "init_lr = 3e-5\n",
    "optimizer = optimization.create_optimizer(init_lr=init_lr,\n",
    "                                          num_train_steps=num_train_steps,\n",
    "                                          num_warmup_steps=num_warmup_steps,\n",
    "                                          optimizer_type='adamw')"
   ]
  },
  {
   "cell_type": "code",
   "execution_count": 24,
   "id": "8b4492c3-806d-4ce7-becd-b51ac7ca9704",
   "metadata": {},
   "outputs": [
    {
     "name": "stdout",
     "output_type": "stream",
     "text": [
      "Training model with https://tfhub.dev/tensorflow/small_bert/bert_en_uncased_L-4_H-512_A-8/1\n",
      "Epoch 1/5\n",
      "625/625 [==============================] - 236s 364ms/step - loss: 0.4878 - binary_accuracy: 0.7455 - val_loss: 0.4046 - val_binary_accuracy: 0.8352\n",
      "Epoch 2/5\n",
      "625/625 [==============================] - 220s 352ms/step - loss: 0.3335 - binary_accuracy: 0.8510 - val_loss: 0.3684 - val_binary_accuracy: 0.8462\n",
      "Epoch 3/5\n",
      "625/625 [==============================] - 236s 378ms/step - loss: 0.2552 - binary_accuracy: 0.8906 - val_loss: 0.3985 - val_binary_accuracy: 0.8496\n",
      "Epoch 4/5\n",
      "625/625 [==============================] - 240s 384ms/step - loss: 0.1908 - binary_accuracy: 0.9231 - val_loss: 0.4676 - val_binary_accuracy: 0.8490\n",
      "Epoch 5/5\n",
      "625/625 [==============================] - 238s 381ms/step - loss: 0.1547 - binary_accuracy: 0.9404 - val_loss: 0.4787 - val_binary_accuracy: 0.8504\n"
     ]
    }
   ],
   "source": [
    "'''\n",
    "Loading the BERT model and training\n",
    "Using the classifier_model you created earlier, you can compile the model with the loss, metric and optimizer.\n",
    "'''\n",
    "\n",
    "classifier_model.compile(optimizer=optimizer,\n",
    "                         loss=loss,\n",
    "                         metrics=metrics)\n",
    "\n",
    "# Note: training time will vary depending on the complexity of the BERT model you have selected.\n",
    "\n",
    "print(f'Training model with {tfhub_handle_encoder}')\n",
    "\n",
    "history = classifier_model.fit(x=train_ds,\n",
    "                               validation_data=val_ds,\n",
    "                               epochs=epochs)"
   ]
  },
  {
   "cell_type": "code",
   "execution_count": 25,
   "id": "349bd304-bf6c-4687-a9c8-0f5528f51efd",
   "metadata": {},
   "outputs": [
    {
     "name": "stdout",
     "output_type": "stream",
     "text": [
      "782/782 [==============================] - 259s 328ms/step - loss: 0.4608 - binary_accuracy: 0.8550\n",
      "Loss: 0.4608355462551117\n",
      "Accuracy: 0.8550400137901306\n"
     ]
    }
   ],
   "source": [
    "'''\n",
    "Evaluate the model\n",
    "Let's see how the model performs. \n",
    "Two values will be returned. Loss (a number which represents the error, lower values are better), and accuracy.\n",
    "'''\n",
    "\n",
    "loss, accuracy = classifier_model.evaluate(test_ds)\n",
    "\n",
    "print(f'Loss: {loss}')\n",
    "print(f'Accuracy: {accuracy}')"
   ]
  },
  {
   "cell_type": "code",
   "execution_count": 26,
   "id": "a7ec9b88-9d6d-4fad-b635-ba3ba049fbad",
   "metadata": {},
   "outputs": [
    {
     "name": "stdout",
     "output_type": "stream",
     "text": [
      "dict_keys(['loss', 'binary_accuracy', 'val_loss', 'val_binary_accuracy'])\n"
     ]
    },
    {
     "data": {
      "text/plain": [
       "<matplotlib.legend.Legend at 0x23f09a22fd0>"
      ]
     },
     "execution_count": 26,
     "metadata": {},
     "output_type": "execute_result"
    },
    {
     "data": {
      "image/png": "[encoded data removed]",
      "text/plain": [
       "<Figure size 1000x600 with 2 Axes>"
      ]
     },
     "metadata": {},
     "output_type": "display_data"
    }
   ],
   "source": [
    "'''\n",
    "Plot the accuracy and loss over time\n",
    "Based on the History object returned by model.fit(). \n",
    "You can plot the training and validation loss for comparison, as well as the training and validation accuracy:\n",
    "'''\n",
    "\n",
    "history_dict = history.history\n",
    "print(history_dict.keys())\n",
    "\n",
    "acc = history_dict['binary_accuracy']\n",
    "val_acc = history_dict['val_binary_accuracy']\n",
    "loss = history_dict['loss']\n",
    "val_loss = history_dict['val_loss']\n",
    "\n",
    "epochs = range(1, len(acc) + 1)\n",
    "fig = plt.figure(figsize=(10, 6))\n",
    "fig.tight_layout()\n",
    "\n",
    "plt.subplot(2, 1, 1)\n",
    "# r is for \"solid red line\"\n",
    "plt.plot(epochs, loss, 'r', label='Training loss')\n",
    "# b is for \"solid blue line\"\n",
    "plt.plot(epochs, val_loss, 'b', label='Validation loss')\n",
    "plt.title('Training and validation loss')\n",
    "# plt.xlabel('Epochs')\n",
    "plt.ylabel('Loss')\n",
    "plt.legend()\n",
    "\n",
    "plt.subplot(2, 1, 2)\n",
    "plt.plot(epochs, acc, 'r', label='Training acc')\n",
    "plt.plot(epochs, val_acc, 'b', label='Validation acc')\n",
    "plt.title('Training and validation accuracy')\n",
    "plt.xlabel('Epochs')\n",
    "plt.ylabel('Accuracy')\n",
    "plt.legend(loc='lower right')"
   ]
  },
  {
   "cell_type": "code",
   "execution_count": 27,
   "id": "7a80eb8a-60de-4c2b-bfd8-461263f6feea",
   "metadata": {},
   "outputs": [
    {
     "name": "stderr",
     "output_type": "stream",
     "text": [
      "WARNING:absl:Found untraced functions such as restored_function_body, restored_function_body, restored_function_body, restored_function_body, restored_function_body while saving (showing 5 of 124). These functions will not be directly callable after loading.\n"
     ]
    }
   ],
   "source": [
    "# Export for inference\n",
    "# Now you just save your fine-tuned model for later use.\n",
    "\n",
    "\n",
    "dataset_name = 'imdb'\n",
    "saved_model_path = './{}_bert'.format(dataset_name.replace('/', '_'))\n",
    "\n",
    "classifier_model.save(saved_model_path, include_optimizer=False)\n",
    "# If you plan to continue training this model later, you might want to save the optimizer’s state as well. \n",
    "# However, if you’re only interested in deploying the model for inference, you don’t need to save the optimizer’s state."
   ]
  },
  {
   "cell_type": "code",
   "execution_count": 28,
   "id": "2f4e92ea-5c88-4ea7-b60e-e6f4fcea0411",
   "metadata": {},
   "outputs": [],
   "source": [
    "# Let's reload the model, so you can try it side by side with the model that is still in memory.\n",
    "\n",
    "reloaded_model = tf.saved_model.load(saved_model_path)"
   ]
  },
  {
   "cell_type": "code",
   "execution_count": 31,
   "id": "fc91c2d4-3e1a-4dad-b19f-659beef49fa6",
   "metadata": {},
   "outputs": [
    {
     "name": "stdout",
     "output_type": "stream",
     "text": [
      "Results from the saved model:\n",
      "input: this is such an amazing movie! : score: 0.999723\n",
      "input: The movie was great!           : score: 0.998469\n",
      "input: The movie was meh.             : score: 0.934831\n",
      "input: The movie was okish.           : score: 0.037974\n",
      "input: The movie was terrible...      : score: 0.001584\n",
      "input: I wouldnt need to watch it again to be able to evaluate it : score: 0.325776\n",
      "input: Id say not bad, not good       : score: 0.043970\n",
      "input: Id say not too bad, but not good : score: 0.117230\n",
      "\n",
      "Results from the model in memory:\n",
      "input: this is such an amazing movie! : score: 0.999723\n",
      "input: The movie was great!           : score: 0.998469\n",
      "input: The movie was meh.             : score: 0.934831\n",
      "input: The movie was okish.           : score: 0.037974\n",
      "input: The movie was terrible...      : score: 0.001584\n",
      "input: I wouldnt need to watch it again to be able to evaluate it : score: 0.325776\n",
      "input: Id say not bad, not good       : score: 0.043970\n",
      "input: Id say not too bad, but not good : score: 0.117230\n",
      "\n"
     ]
    }
   ],
   "source": [
    "# Here you can test your model on any sentence you want, just add to the examples variable below.\n",
    "\n",
    "\n",
    "def print_my_examples(inputs, results):\n",
    "    result_for_printing = \\\n",
    "    [f'input: {inputs[i]:<30} : score: {results[i][0]:.6f}'\n",
    "                         for i in range(len(inputs))]\n",
    "    print(*result_for_printing, sep='\\n')\n",
    "    print()\n",
    "\n",
    "\n",
    "examples = [\n",
    "    'this is such an amazing movie!',  # this is the same sentence tried earlier\n",
    "    'The movie was great!',\n",
    "    'The movie was meh.',\n",
    "    'The movie was okish.',\n",
    "    'The movie was terrible...',\n",
    "    'I would''nt need to watch it again to be able to evaluate it',\n",
    "    'I''d say not bad, not good',\n",
    "    'I''d say not too bad, but not good'\n",
    "]\n",
    "\n",
    "reloaded_results = tf.sigmoid(reloaded_model(tf.constant(examples)))\n",
    "original_results = tf.sigmoid(classifier_model(tf.constant(examples)))\n",
    "\n",
    "print('Results from the saved model:')\n",
    "print_my_examples(examples, reloaded_results)\n",
    "print('Results from the model in memory:')\n",
    "print_my_examples(examples, original_results)"
   ]
  },
  {
   "cell_type": "code",
   "execution_count": 32,
   "id": "5055618e-becf-4abb-84a0-33ef5521de62",
   "metadata": {},
   "outputs": [
    {
     "name": "stdout",
     "output_type": "stream",
     "text": [
      "input: this is such an amazing movie! : score: 0.999723\n",
      "input: The movie was great!           : score: 0.998469\n",
      "input: The movie was meh.             : score: 0.934831\n",
      "input: The movie was okish.           : score: 0.037974\n",
      "input: The movie was terrible...      : score: 0.001584\n",
      "input: I wouldnt need to watch it again to be able to evaluate it : score: 0.325776\n",
      "input: Id say not bad, not good       : score: 0.043970\n",
      "input: Id say not too bad, but not good : score: 0.117230\n",
      "\n"
     ]
    }
   ],
   "source": [
    "# If you want to use your model on TF Serving, remember that it will call your SavedModel through one of its named signatures.\n",
    "# In Python, you can test them as follows:\n",
    "\n",
    "serving_results = reloaded_model \\\n",
    "            .signatures['serving_default'](tf.constant(examples))\n",
    "\n",
    "serving_results = tf.sigmoid(serving_results['classifier'])\n",
    "\n",
    "print_my_examples(examples, serving_results)"
   ]
  },
  {
   "cell_type": "code",
   "execution_count": null,
   "id": "c19eb8ed-cff2-4fe8-a246-3f5760663207",
   "metadata": {},
   "outputs": [],
   "source": []
  },
  {
   "cell_type": "code",
   "execution_count": null,
   "id": "00f41e33-1043-401a-b384-df61f003cbda",
   "metadata": {},
   "outputs": [],
   "source": []
  },
  {
   "cell_type": "code",
   "execution_count": null,
   "id": "62ce3b6b-1b65-49c9-b000-6c9ef2f23cf7",
   "metadata": {},
   "outputs": [],
   "source": []
  },
  {
   "cell_type": "code",
   "execution_count": null,
   "id": "685f99af-d8b3-48b5-ae1a-5774b8467a80",
   "metadata": {},
   "outputs": [],
   "source": []
  },
  {
   "cell_type": "code",
   "execution_count": null,
   "id": "d14fa044-4060-406c-b0d0-3d3dd7074ed4",
   "metadata": {},
   "outputs": [],
   "source": []
  }
 ],
 "metadata": {
  "kernelspec": {
   "display_name": "Py309",
   "language": "python",
   "name": "py309"
  },
  "language_info": {
   "codemirror_mode": {
    "name": "ipython",
    "version": 3
   },
   "file_extension": ".py",
   "mimetype": "text/x-python",
   "name": "python",
   "nbconvert_exporter": "python",
   "pygments_lexer": "ipython3",
   "version": "3.9.16"
  }
 },
 "nbformat": 4,
 "nbformat_minor": 5
}
