{
 "cells": [
  {
   "cell_type": "code",
   "execution_count": 4,
   "id": "2eebd4c8-091b-4c5a-8830-653e9c44d853",
   "metadata": {},
   "outputs": [
    {
     "data": {
      "text/plain": [
       "True"
      ]
     },
     "execution_count": 4,
     "metadata": {},
     "output_type": "execute_result"
    }
   ],
   "source": [
    "import torch\n",
    "torch.cuda.get_device_name()\n",
    "torch.__version__\n",
    "torch.cuda.is_available()"
   ]
  },
  {
   "cell_type": "code",
   "execution_count": 21,
   "id": "c0f0aebf-4a83-49a6-976f-76d303e98741",
   "metadata": {},
   "outputs": [
    {
     "data": {
      "text/plain": [
       "array([3, 4, 5, 6])"
      ]
     },
     "execution_count": 21,
     "metadata": {},
     "output_type": "execute_result"
    }
   ],
   "source": [
    "import numpy as np\n",
    "list = [3,4,5,6]\n",
    "array = np.array(list)\n",
    "array"
   ]
  },
  {
   "cell_type": "code",
   "execution_count": 19,
   "id": "13fcc17c-3d06-47e3-9f6c-8c7439bd7bea",
   "metadata": {},
   "outputs": [
    {
     "name": "stdout",
     "output_type": "stream",
     "text": [
      "tensor([100,   5], dtype=torch.int32)\n",
      "[100   5]\n"
     ]
    }
   ],
   "source": [
    "tensor_shared_memory = torch.from_numpy(array)\n",
    "tensor_shared_memory[1] = 100\n",
    "print(tensor_shared_memory[1:3])\n",
    "print(array[1:3])"
   ]
  },
  {
   "cell_type": "code",
   "execution_count": 22,
   "id": "9d812025-5554-41d2-bc43-4952b3062c4a",
   "metadata": {},
   "outputs": [
    {
     "name": "stdout",
     "output_type": "stream",
     "text": [
      "tensor([100,   5], dtype=torch.int32)\n",
      "[4 5]\n"
     ]
    }
   ],
   "source": [
    "tensor_own_memory = torch.tensor(array)\n",
    "tensor_own_memory[1] = 100\n",
    "print(tensor_own_memory[1:3])\n",
    "print(array[1:3])"
   ]
  },
  {
   "cell_type": "code",
   "execution_count": 26,
   "id": "c1f5652d-9865-47a4-bf17-0d7956d524bc",
   "metadata": {},
   "outputs": [
    {
     "name": "stdout",
     "output_type": "stream",
     "text": [
      "tensor([[ 0,  1,  2],\n",
      "        [ 3,  4,  5],\n",
      "        [ 6,  7,  8],\n",
      "        [ 9, 10, 11],\n",
      "        [12, 13, 14]], dtype=torch.int32)\n",
      "tensor([[ 0,  1],\n",
      "        [ 3,  4],\n",
      "        [ 6,  7],\n",
      "        [ 9, 10],\n",
      "        [12, 13]], dtype=torch.int32)\n"
     ]
    }
   ],
   "source": [
    "reshaped = torch.tensor(np.arange(0,15).reshape(5,3))\n",
    "print(reshaped)\n",
    "reshaped_first2cols = reshaped[:,0:2]\n",
    "print(reshaped_first2cols)"
   ]
  },
  {
   "cell_type": "code",
   "execution_count": 33,
   "id": "09db04eb-ed1f-4a09-bc7b-7123fa0e53f9",
   "metadata": {},
   "outputs": [
    {
     "data": {
      "text/plain": [
       "tensor([[3., 4., 6.],\n",
       "        [1., 4., 8.],\n",
       "        [5., 7., 6.]], requires_grad=True)"
      ]
     },
     "execution_count": 33,
     "metadata": {},
     "output_type": "execute_result"
    }
   ],
   "source": [
    "multiDlist = [[3.,4.,6.],[1.,4.,8.],[5.,7.,6.]]\n",
    "torch_input = torch.tensor(multiDlist, requires_grad=True)\n",
    "torch_input"
   ]
  },
  {
   "cell_type": "code",
   "execution_count": 34,
   "id": "571cb86d-42d8-44e8-9ec1-77eac6830f32",
   "metadata": {},
   "outputs": [
    {
     "data": {
      "text/plain": [
       "tensor(1820., grad_fn=<SumBackward0>)"
      ]
     },
     "execution_count": 34,
     "metadata": {},
     "output_type": "execute_result"
    }
   ],
   "source": [
    "#forward propagation y = x**2 + x**3\n",
    "torch_output = (torch_input**2 + torch_input**3).sum()\n",
    "torch_output"
   ]
  },
  {
   "cell_type": "code",
   "execution_count": 35,
   "id": "905cc839-541d-4712-8158-9633264a7e74",
   "metadata": {},
   "outputs": [
    {
     "data": {
      "text/plain": [
       "tensor(1820., grad_fn=<SumBackward0>)"
      ]
     },
     "execution_count": 35,
     "metadata": {},
     "output_type": "execute_result"
    }
   ],
   "source": [
    "torch_output.backward()"
   ]
  },
  {
   "cell_type": "code",
   "execution_count": 36,
   "id": "38c5c47c-462f-4784-9e49-7d62e5048c97",
   "metadata": {},
   "outputs": [
    {
     "data": {
      "text/plain": [
       "tensor([[ 33.,  56., 120.],\n",
       "        [  5.,  56., 208.],\n",
       "        [ 85., 161., 120.]])"
      ]
     },
     "execution_count": 36,
     "metadata": {},
     "output_type": "execute_result"
    }
   ],
   "source": [
    "#backward propagation y = 2x + 3x**2\n",
    "torch_input.grad"
   ]
  }
 ],
 "metadata": {
  "kernelspec": {
   "display_name": "Python 3",
   "language": "python",
   "name": "python3"
  },
  "language_info": {
   "codemirror_mode": {
    "name": "ipython",
    "version": 3
   },
   "file_extension": ".py",
   "mimetype": "text/x-python",
   "name": "python",
   "nbconvert_exporter": "python",
   "pygments_lexer": "ipython3",
   "version": "3.6.13"
  }
 },
 "nbformat": 4,
 "nbformat_minor": 5
}
