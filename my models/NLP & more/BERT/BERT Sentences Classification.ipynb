{
 "cells": [
  {
   "cell_type": "code",
   "execution_count": 1,
   "id": "fd50c291-20fd-4514-9748-47c6aa0e72d5",
   "metadata": {},
   "outputs": [
    {
     "data": {
      "text/plain": [
       "'NVIDIA GeForce RTX 2070 with Max-Q Design'"
      ]
     },
     "execution_count": 1,
     "metadata": {},
     "output_type": "execute_result"
    }
   ],
   "source": [
    "from torch import cuda\n",
    "cuda.get_device_name(0)"
   ]
  },
  {
   "cell_type": "code",
   "execution_count": 2,
   "id": "2009688c-e929-4a8b-abbd-a2fca9870316",
   "metadata": {},
   "outputs": [
    {
     "name": "stderr",
     "output_type": "stream",
     "text": [
      "fatal: destination path 'AugmentedSocialScientist' already exists and is not an empty directory.\n"
     ]
    },
    {
     "name": "stdout",
     "output_type": "stream",
     "text": [
      "Looking in indexes: https://pypi.org/simple, https://pypi.ngc.nvidia.com\n",
      "Processing g:\\my drive\\ingegneria\\data science gd\\models\\nlp\\bert sentences classification\\augmentedsocialscientist\n",
      "  Preparing metadata (setup.py): started\n",
      "  Preparing metadata (setup.py): finished with status 'done'\n",
      "Requirement already satisfied: scikit-learn in c:\\users\\alienware\\miniconda3\\envs\\py310\\lib\\site-packages (from AugmentedSocialScientist==2.2.0) (1.2.2)\n",
      "Requirement already satisfied: tqdm in c:\\users\\alienware\\miniconda3\\envs\\py310\\lib\\site-packages (from AugmentedSocialScientist==2.2.0) (4.65.0)\n",
      "Requirement already satisfied: numpy in c:\\users\\alienware\\miniconda3\\envs\\py310\\lib\\site-packages (from AugmentedSocialScientist==2.2.0) (1.23.0)\n",
      "Requirement already satisfied: scipy in c:\\users\\alienware\\miniconda3\\envs\\py310\\lib\\site-packages (from AugmentedSocialScientist==2.2.0) (1.10.1)\n",
      "Requirement already satisfied: torch in c:\\users\\alienware\\miniconda3\\envs\\py310\\lib\\site-packages (from AugmentedSocialScientist==2.2.0) (2.0.1)\n",
      "Requirement already satisfied: transformers in c:\\users\\alienware\\miniconda3\\envs\\py310\\lib\\site-packages (from AugmentedSocialScientist==2.2.0) (4.29.2)\n",
      "Requirement already satisfied: sentencepiece in c:\\users\\alienware\\miniconda3\\envs\\py310\\lib\\site-packages (from AugmentedSocialScientist==2.2.0) (0.1.99)\n",
      "Requirement already satisfied: joblib>=1.1.1 in c:\\users\\alienware\\miniconda3\\envs\\py310\\lib\\site-packages (from scikit-learn->AugmentedSocialScientist==2.2.0) (1.2.0)\n",
      "Requirement already satisfied: threadpoolctl>=2.0.0 in c:\\users\\alienware\\miniconda3\\envs\\py310\\lib\\site-packages (from scikit-learn->AugmentedSocialScientist==2.2.0) (3.1.0)\n",
      "Requirement already satisfied: filelock in c:\\users\\alienware\\miniconda3\\envs\\py310\\lib\\site-packages (from torch->AugmentedSocialScientist==2.2.0) (3.12.0)\n",
      "Requirement already satisfied: typing-extensions in c:\\users\\alienware\\miniconda3\\envs\\py310\\lib\\site-packages (from torch->AugmentedSocialScientist==2.2.0) (4.8.0)\n",
      "Requirement already satisfied: sympy in c:\\users\\alienware\\miniconda3\\envs\\py310\\lib\\site-packages (from torch->AugmentedSocialScientist==2.2.0) (1.12)\n",
      "Requirement already satisfied: networkx in c:\\users\\alienware\\miniconda3\\envs\\py310\\lib\\site-packages (from torch->AugmentedSocialScientist==2.2.0) (3.1)\n",
      "Requirement already satisfied: jinja2 in c:\\users\\alienware\\miniconda3\\envs\\py310\\lib\\site-packages (from torch->AugmentedSocialScientist==2.2.0) (3.1.2)\n",
      "Requirement already satisfied: colorama in c:\\users\\alienware\\miniconda3\\envs\\py310\\lib\\site-packages (from tqdm->AugmentedSocialScientist==2.2.0) (0.4.6)\n",
      "Requirement already satisfied: requests in c:\\users\\alienware\\appdata\\roaming\\python\\python310\\site-packages (from transformers->AugmentedSocialScientist==2.2.0) (2.30.0)\n",
      "Requirement already satisfied: regex!=2019.12.17 in c:\\users\\alienware\\miniconda3\\envs\\py310\\lib\\site-packages (from transformers->AugmentedSocialScientist==2.2.0) (2023.5.5)\n",
      "Requirement already satisfied: huggingface-hub<1.0,>=0.14.1 in c:\\users\\alienware\\miniconda3\\envs\\py310\\lib\\site-packages (from transformers->AugmentedSocialScientist==2.2.0) (0.14.1)\n",
      "Requirement already satisfied: packaging>=20.0 in c:\\users\\alienware\\miniconda3\\envs\\py310\\lib\\site-packages (from transformers->AugmentedSocialScientist==2.2.0) (23.1)\n",
      "Requirement already satisfied: pyyaml>=5.1 in c:\\users\\alienware\\miniconda3\\envs\\py310\\lib\\site-packages (from transformers->AugmentedSocialScientist==2.2.0) (6.0)\n",
      "Requirement already satisfied: tokenizers!=0.11.3,<0.14,>=0.11.1 in c:\\users\\alienware\\miniconda3\\envs\\py310\\lib\\site-packages (from transformers->AugmentedSocialScientist==2.2.0) (0.13.3)\n",
      "Requirement already satisfied: fsspec in c:\\users\\alienware\\miniconda3\\envs\\py310\\lib\\site-packages (from huggingface-hub<1.0,>=0.14.1->transformers->AugmentedSocialScientist==2.2.0) (2023.5.0)\n",
      "Requirement already satisfied: MarkupSafe>=2.0 in c:\\users\\alienware\\miniconda3\\envs\\py310\\lib\\site-packages (from jinja2->torch->AugmentedSocialScientist==2.2.0) (2.1.2)\n",
      "Requirement already satisfied: certifi>=2017.4.17 in c:\\users\\alienware\\miniconda3\\envs\\py310\\lib\\site-packages (from requests->transformers->AugmentedSocialScientist==2.2.0) (2023.5.7)\n",
      "Requirement already satisfied: urllib3<3,>=1.21.1 in c:\\users\\alienware\\miniconda3\\envs\\py310\\lib\\site-packages (from requests->transformers->AugmentedSocialScientist==2.2.0) (2.0.2)\n",
      "Requirement already satisfied: idna<4,>=2.5 in c:\\users\\alienware\\miniconda3\\envs\\py310\\lib\\site-packages (from requests->transformers->AugmentedSocialScientist==2.2.0) (3.4)\n",
      "Requirement already satisfied: charset-normalizer<4,>=2 in c:\\users\\alienware\\appdata\\roaming\\python\\python310\\site-packages (from requests->transformers->AugmentedSocialScientist==2.2.0) (3.1.0)\n",
      "Requirement already satisfied: mpmath>=0.19 in c:\\users\\alienware\\miniconda3\\envs\\py310\\lib\\site-packages (from sympy->torch->AugmentedSocialScientist==2.2.0) (1.3.0)\n",
      "Building wheels for collected packages: AugmentedSocialScientist\n",
      "  Building wheel for AugmentedSocialScientist (setup.py): started\n",
      "  Building wheel for AugmentedSocialScientist (setup.py): finished with status 'done'\n",
      "  Created wheel for AugmentedSocialScientist: filename=AugmentedSocialScientist-2.2.0-py3-none-any.whl size=11585 sha256=38314deb1acd9c70bae0bc0170871226d8ef5e00749aeb286259bff1f73cd67d\n",
      "  Stored in directory: C:\\Users\\Alienware\\AppData\\Local\\Temp\\pip-ephem-wheel-cache-fus80ce4\\wheels\\17\\e9\\8f\\a67c794e572fc2961adcc2260a73683977835dc40380239913\n",
      "Successfully built AugmentedSocialScientist\n",
      "Installing collected packages: AugmentedSocialScientist\n",
      "  Attempting uninstall: AugmentedSocialScientist\n",
      "    Found existing installation: AugmentedSocialScientist 2.2.0\n",
      "    Uninstalling AugmentedSocialScientist-2.2.0:\n",
      "      Successfully uninstalled AugmentedSocialScientist-2.2.0\n",
      "Successfully installed AugmentedSocialScientist-2.2.0\n"
     ]
    }
   ],
   "source": [
    "!git clone https://github.com/rubingshen/AugmentedSocialScientist.git  \n",
    "!pip install ./AugmentedSocialScientist/"
   ]
  },
  {
   "cell_type": "code",
   "execution_count": 3,
   "id": "71a28e62-a958-4c2b-838e-14eeef5911ee",
   "metadata": {},
   "outputs": [],
   "source": [
    "import pandas as pd\n",
    "import numpy as np\n",
    " \n",
    "pd.options.display.max_colwidth=None\n",
    "pd.options.display.max_rows=100"
   ]
  },
  {
   "cell_type": "code",
   "execution_count": 4,
   "id": "f1011f66-4017-42f3-a94a-03f354bb69aa",
   "metadata": {},
   "outputs": [
    {
     "data": {
      "text/plain": [
       "<spacy.lang.en.English at 0x269241f1d50>"
      ]
     },
     "execution_count": 4,
     "metadata": {},
     "output_type": "execute_result"
    }
   ],
   "source": [
    "import spacy\n",
    "# loading model\n",
    "nlp = spacy.load('en_core_web_sm')\n",
    "nlp"
   ]
  },
  {
   "cell_type": "code",
   "execution_count": 5,
   "id": "af9fd346-b1e3-48c8-9fa4-4a1cc81821ba",
   "metadata": {},
   "outputs": [
    {
     "data": {
      "text/html": [
       "<div>\n",
       "<style scoped>\n",
       "    .dataframe tbody tr th:only-of-type {\n",
       "        vertical-align: middle;\n",
       "    }\n",
       "\n",
       "    .dataframe tbody tr th {\n",
       "        vertical-align: top;\n",
       "    }\n",
       "\n",
       "    .dataframe thead th {\n",
       "        text-align: right;\n",
       "    }\n",
       "</style>\n",
       "<table border=\"1\" class=\"dataframe\">\n",
       "  <thead>\n",
       "    <tr style=\"text-align: right;\">\n",
       "      <th></th>\n",
       "      <th>text</th>\n",
       "      <th>label</th>\n",
       "    </tr>\n",
       "  </thead>\n",
       "  <tbody>\n",
       "    <tr>\n",
       "      <th>0</th>\n",
       "      <td>Stuning even for the non-gamer: This sound track was beautiful! It paints the senery in your mind so well I would recomend it even to people who hate video game music! I have played the game Chrono Cross but out of all of the games I have ever played it has the best music! It backs away from crude keyboarding and takes a fresher step with grate guitars and soulful orchestras. It would impress anyone who cares to listen! ^_^</td>\n",
       "      <td>__label__2</td>\n",
       "    </tr>\n",
       "    <tr>\n",
       "      <th>1</th>\n",
       "      <td>The best soundtrack ever to anything.: I'm reading a lot of reviews saying that this is the best 'game soundtrack' and I figured that I'd write a review to disagree a bit. This in my opinino is Yasunori Mitsuda's ultimate masterpiece. The music is timeless and I'm been listening to it for years now and its beauty simply refuses to fade.The price tag on this is pretty staggering I must say, but if you are going to buy any cd for this much money, this is the only one that I feel would be worth every penny.</td>\n",
       "      <td>__label__2</td>\n",
       "    </tr>\n",
       "    <tr>\n",
       "      <th>2</th>\n",
       "      <td>Amazing!: This soundtrack is my favorite music of all time, hands down. The intense sadness of \"Prisoners of Fate\" (which means all the more if you've played the game) and the hope in \"A Distant Promise\" and \"Girl who Stole the Star\" have been an important inspiration to me personally throughout my teen years. The higher energy tracks like \"Chrono Cross ~ Time's Scar~\", \"Time of the Dreamwatch\", and \"Chronomantique\" (indefinably remeniscent of Chrono Trigger) are all absolutely superb as well.This soundtrack is amazing music, probably the best of this composer's work (I haven't heard the Xenogears soundtrack, so I can't say for sure), and even if you've never played the game, it would be worth twice the price to buy it.I wish I could give it 6 stars.</td>\n",
       "      <td>__label__2</td>\n",
       "    </tr>\n",
       "    <tr>\n",
       "      <th>3</th>\n",
       "      <td>Excellent Soundtrack: I truly like this soundtrack and I enjoy video game music. I have played this game and most of the music on here I enjoy and it's truly relaxing and peaceful.On disk one. my favorites are Scars Of Time, Between Life and Death, Forest Of Illusion, Fortress of Ancient Dragons, Lost Fragment, and Drowned Valley.Disk Two: The Draggons, Galdorb - Home, Chronomantique, Prisoners of Fate, Gale, and my girlfriend likes ZelbessDisk Three: The best of the three. Garden Of God, Chronopolis, Fates, Jellyfish sea, Burning Orphange, Dragon's Prayer, Tower Of Stars, Dragon God, and Radical Dreamers - Unstealable Jewel.Overall, this is a excellent soundtrack and should be brought by those that like video game music.Xander Cross</td>\n",
       "      <td>__label__2</td>\n",
       "    </tr>\n",
       "    <tr>\n",
       "      <th>4</th>\n",
       "      <td>Remember, Pull Your Jaw Off The Floor After Hearing it: If you've played the game, you know how divine the music is! Every single song tells a story of the game, it's that good! The greatest songs are without a doubt, Chrono Cross: Time's Scar, Magical Dreamers: The Wind, The Stars, and the Sea and Radical Dreamers: Unstolen Jewel. (Translation varies) This music is perfect if you ask me, the best it can be. Yasunori Mitsuda just poured his heart on and wrote it down on paper.</td>\n",
       "      <td>__label__2</td>\n",
       "    </tr>\n",
       "    <tr>\n",
       "      <th>...</th>\n",
       "      <td>...</td>\n",
       "      <td>...</td>\n",
       "    </tr>\n",
       "    <tr>\n",
       "      <th>9995</th>\n",
       "      <td>A revelation of life in small town America in early 1900s: Though a scholarly biography, the book reveals much more about life in a small mid-west America town at the turn of the century than many other biographies or novels. Well worth reading for an insight into \"news\" that didn't make most newspapers but which was true in revealing life, the book is nicely crafted and the author writes with a knowing touch.One would wish for more intimate details of the subject's life, but he was a private man, kept no diary, and did not tell his innermost thoughts to his family. The book, however, succeeds, because it reveals the town, Lamar, MO (which happened to be President Truman's birthplace, and where Wyatt Earp had been Marshall and where the Earp kinfolk lived on) and some of the foibles and fancies of American life. I hope the author writes another book soon.</td>\n",
       "      <td>__label__2</td>\n",
       "    </tr>\n",
       "    <tr>\n",
       "      <th>9996</th>\n",
       "      <td>Great biography of a very interesting journalist: This biography of Arthur Aull, a small-town journalist at the turn of the twentieth century, is a most fascinating read. The role of the small-town newspaper publisher carried much of the moral weight of towns like Lamar, Missouri, during the first half of the twentieth century before the era of instant news carried by radio and television changed everything. The author does a fine job of demonstrating the role in both politics and society that newspaper publishers played during this era. Arthur Aull was routinely used as a classic example of the important role of journalists in developing America by the Journalism School of the University of Missouri. In addition, he was a character that continues to shape the nature of the small town where he published; his legacy newspaper still is in publication.</td>\n",
       "      <td>__label__2</td>\n",
       "    </tr>\n",
       "    <tr>\n",
       "      <th>9997</th>\n",
       "      <td>Interesting Subject; Poor Presentation: You'd be hard-pressed to tell a boring story about about a plucky country newspaper editor who had principles and stuck to 'em. But this author has done it. He says the book is an adaptation of his doctoral thesis. That fits. The book reads like a well-done, fully footnoted college paper, not like a dramatic novel. It strives to identify key historical facts at the expense of the reader's interest. With a modest amount of effort, it could have been reworked as a compelling autobiographical novel bolstered by its remarkable display of features of midwestern life during the first half of the 20th Century.</td>\n",
       "      <td>__label__1</td>\n",
       "    </tr>\n",
       "    <tr>\n",
       "      <th>9998</th>\n",
       "      <td>Don't buy: The box looked used and it is obviously not new. I have tried to contact them by email and no response. Don't buy from them!</td>\n",
       "      <td>__label__1</td>\n",
       "    </tr>\n",
       "    <tr>\n",
       "      <th>9999</th>\n",
       "      <td>Beautiful Pen and Fast Delivery.: The pen was shipped promptly. This is the classic Montblanc pen that everyone raves about. It is Black in color with Golden Trim. It holds it's own and I am thankful to my parents to gift this to me as a Graduation Present. Someday I plan on buying more of these pens from Amazon.The vendors at Amazon are amazing. I have been a long time shopper at Amazon, mostly pens and electronics. However this pen was gifted to me by my mom and she has nothing but good things to say. I on my part love this pen.</td>\n",
       "      <td>__label__2</td>\n",
       "    </tr>\n",
       "  </tbody>\n",
       "</table>\n",
       "<p>10000 rows × 2 columns</p>\n",
       "</div>"
      ],
      "text/plain": [
       "                                                                                                                                                                                                                                                                                                                                                                                                                                                                                                                                                                                                                                                                                                                                                                                                                                                                                                      text   \n",
       "0                                                                                                                                                                                                                                                                                                                                                                                                                                                              Stuning even for the non-gamer: This sound track was beautiful! It paints the senery in your mind so well I would recomend it even to people who hate video game music! I have played the game Chrono Cross but out of all of the games I have ever played it has the best music! It backs away from crude keyboarding and takes a fresher step with grate guitars and soulful orchestras. It would impress anyone who cares to listen! ^_^  \\\n",
       "1                                                                                                                                                                                                                                                                                                                                                                            The best soundtrack ever to anything.: I'm reading a lot of reviews saying that this is the best 'game soundtrack' and I figured that I'd write a review to disagree a bit. This in my opinino is Yasunori Mitsuda's ultimate masterpiece. The music is timeless and I'm been listening to it for years now and its beauty simply refuses to fade.The price tag on this is pretty staggering I must say, but if you are going to buy any cd for this much money, this is the only one that I feel would be worth every penny.   \n",
       "2                                                                                                                 Amazing!: This soundtrack is my favorite music of all time, hands down. The intense sadness of \"Prisoners of Fate\" (which means all the more if you've played the game) and the hope in \"A Distant Promise\" and \"Girl who Stole the Star\" have been an important inspiration to me personally throughout my teen years. The higher energy tracks like \"Chrono Cross ~ Time's Scar~\", \"Time of the Dreamwatch\", and \"Chronomantique\" (indefinably remeniscent of Chrono Trigger) are all absolutely superb as well.This soundtrack is amazing music, probably the best of this composer's work (I haven't heard the Xenogears soundtrack, so I can't say for sure), and even if you've never played the game, it would be worth twice the price to buy it.I wish I could give it 6 stars.   \n",
       "3                                                                                                                                  Excellent Soundtrack: I truly like this soundtrack and I enjoy video game music. I have played this game and most of the music on here I enjoy and it's truly relaxing and peaceful.On disk one. my favorites are Scars Of Time, Between Life and Death, Forest Of Illusion, Fortress of Ancient Dragons, Lost Fragment, and Drowned Valley.Disk Two: The Draggons, Galdorb - Home, Chronomantique, Prisoners of Fate, Gale, and my girlfriend likes ZelbessDisk Three: The best of the three. Garden Of God, Chronopolis, Fates, Jellyfish sea, Burning Orphange, Dragon's Prayer, Tower Of Stars, Dragon God, and Radical Dreamers - Unstealable Jewel.Overall, this is a excellent soundtrack and should be brought by those that like video game music.Xander Cross   \n",
       "4                                                                                                                                                                                                                                                                                                                                                                                                        Remember, Pull Your Jaw Off The Floor After Hearing it: If you've played the game, you know how divine the music is! Every single song tells a story of the game, it's that good! The greatest songs are without a doubt, Chrono Cross: Time's Scar, Magical Dreamers: The Wind, The Stars, and the Sea and Radical Dreamers: Unstolen Jewel. (Translation varies) This music is perfect if you ask me, the best it can be. Yasunori Mitsuda just poured his heart on and wrote it down on paper.   \n",
       "...                                                                                                                                                                                                                                                                                                                                                                                                                                                                                                                                                                                                                                                                                                                                                                                                                                                                                                    ...   \n",
       "9995   A revelation of life in small town America in early 1900s: Though a scholarly biography, the book reveals much more about life in a small mid-west America town at the turn of the century than many other biographies or novels. Well worth reading for an insight into \"news\" that didn't make most newspapers but which was true in revealing life, the book is nicely crafted and the author writes with a knowing touch.One would wish for more intimate details of the subject's life, but he was a private man, kept no diary, and did not tell his innermost thoughts to his family. The book, however, succeeds, because it reveals the town, Lamar, MO (which happened to be President Truman's birthplace, and where Wyatt Earp had been Marshall and where the Earp kinfolk lived on) and some of the foibles and fancies of American life. I hope the author writes another book soon.   \n",
       "9996         Great biography of a very interesting journalist: This biography of Arthur Aull, a small-town journalist at the turn of the twentieth century, is a most fascinating read. The role of the small-town newspaper publisher carried much of the moral weight of towns like Lamar, Missouri, during the first half of the twentieth century before the era of instant news carried by radio and television changed everything. The author does a fine job of demonstrating the role in both politics and society that newspaper publishers played during this era. Arthur Aull was routinely used as a classic example of the important role of journalists in developing America by the Journalism School of the University of Missouri. In addition, he was a character that continues to shape the nature of the small town where he published; his legacy newspaper still is in publication.   \n",
       "9997                                                                                                                                                                                                                            Interesting Subject; Poor Presentation: You'd be hard-pressed to tell a boring story about about a plucky country newspaper editor who had principles and stuck to 'em. But this author has done it. He says the book is an adaptation of his doctoral thesis. That fits. The book reads like a well-done, fully footnoted college paper, not like a dramatic novel. It strives to identify key historical facts at the expense of the reader's interest. With a modest amount of effort, it could have been reworked as a compelling autobiographical novel bolstered by its remarkable display of features of midwestern life during the first half of the 20th Century.   \n",
       "9998                                                                                                                                                                                                                                                                                                                                                                                                                                                                                                                                                                                                                                                                                                                                                               Don't buy: The box looked used and it is obviously not new. I have tried to contact them by email and no response. Don't buy from them!   \n",
       "9999                                                                                                                                                                                                                                                                                                                                              Beautiful Pen and Fast Delivery.: The pen was shipped promptly. This is the classic Montblanc pen that everyone raves about. It is Black in color with Golden Trim. It holds it's own and I am thankful to my parents to gift this to me as a Graduation Present. Someday I plan on buying more of these pens from Amazon.The vendors at Amazon are amazing. I have been a long time shopper at Amazon, mostly pens and electronics. However this pen was gifted to me by my mom and she has nothing but good things to say. I on my part love this pen.   \n",
       "\n",
       "            label  \n",
       "0     __label__2   \n",
       "1     __label__2   \n",
       "2     __label__2   \n",
       "3     __label__2   \n",
       "4     __label__2   \n",
       "...           ...  \n",
       "9995  __label__2   \n",
       "9996  __label__2   \n",
       "9997  __label__1   \n",
       "9998  __label__1   \n",
       "9999  __label__2   \n",
       "\n",
       "[10000 rows x 2 columns]"
      ]
     },
     "execution_count": 5,
     "metadata": {},
     "output_type": "execute_result"
    }
   ],
   "source": [
    "# loading datasets\n",
    "data = pd.read_csv(\"corpus.csv\", encoding='latin1')\n",
    "data"
   ]
  },
  {
   "cell_type": "code",
   "execution_count": 6,
   "id": "1edfe565-73c5-48e9-98d4-aaeb85bde242",
   "metadata": {},
   "outputs": [
    {
     "data": {
      "text/plain": [
       "label\n",
       "__label__1     5097\n",
       "__label__2     4903\n",
       "Name: count, dtype: int64"
      ]
     },
     "execution_count": 6,
     "metadata": {},
     "output_type": "execute_result"
    }
   ],
   "source": [
    "data.label.value_counts()"
   ]
  },
  {
   "cell_type": "code",
   "execution_count": 7,
   "id": "d9c4ddf1-2b58-482e-8fb8-87e46d44d191",
   "metadata": {},
   "outputs": [],
   "source": [
    "# sentence segmentation\n",
    "sentences = [] # create an empty list\n",
    "for i in data['text']:\n",
    "    doc = nlp(i) # Process each line of text provided as input\n",
    "    for sent in doc.sents: # Iterate over each sentence in the article\n",
    "        sentences.append(sent.text)  # Add the sentence text to the sentences list"
   ]
  },
  {
   "cell_type": "code",
   "execution_count": 11,
   "id": "c4f7deb6-953e-4fa3-a349-8e5e93f9dd08",
   "metadata": {},
   "outputs": [
    {
     "data": {
      "text/plain": [
       "' The best soundtrack ever to anything.'"
      ]
     },
     "execution_count": 11,
     "metadata": {},
     "output_type": "execute_result"
    }
   ],
   "source": [
    "sentences[7]"
   ]
  },
  {
   "cell_type": "code",
   "execution_count": 13,
   "id": "5e330523-a802-415a-99e9-c114c2b123c6",
   "metadata": {},
   "outputs": [],
   "source": [
    "'''\n",
    "Let’s assume that you have a corpus of tweets and a series of metadata such as \n",
    "username, time, number of replies/likes/mentions, etc. \n",
    "You can use the following codes to manage text segmentation while keeping metadata in the same data frame:\n",
    "'''\n",
    "# loading model\n",
    "nlp = spacy.load('en_core_web_sm')\n",
    "# create a new dataframe and split texts into sentences\n",
    "corpus_bis = data.assign(sentence=data['text'].apply(lambda x: [sent.text for sent in nlp(x).sents]))\n",
    "len(corpus_bis)"
   ]
  },
  {
   "cell_type": "code",
   "execution_count": 16,
   "id": "69643c26-c630-4bb6-8bf5-92b6c65f8a64",
   "metadata": {},
   "outputs": [
    {
     "data": {
      "text/html": [
       "<div>\n",
       "<style scoped>\n",
       "    .dataframe tbody tr th:only-of-type {\n",
       "        vertical-align: middle;\n",
       "    }\n",
       "\n",
       "    .dataframe tbody tr th {\n",
       "        vertical-align: top;\n",
       "    }\n",
       "\n",
       "    .dataframe thead th {\n",
       "        text-align: right;\n",
       "    }\n",
       "</style>\n",
       "<table border=\"1\" class=\"dataframe\">\n",
       "  <thead>\n",
       "    <tr style=\"text-align: right;\">\n",
       "      <th></th>\n",
       "      <th>text</th>\n",
       "      <th>label</th>\n",
       "      <th>sentence</th>\n",
       "    </tr>\n",
       "  </thead>\n",
       "  <tbody>\n",
       "    <tr>\n",
       "      <th>0</th>\n",
       "      <td>Stuning even for the non-gamer: This sound track was beautiful! It paints the senery in your mind so well I would recomend it even to people who hate video game music! I have played the game Chrono Cross but out of all of the games I have ever played it has the best music! It backs away from crude keyboarding and takes a fresher step with grate guitars and soulful orchestras. It would impress anyone who cares to listen! ^_^</td>\n",
       "      <td>__label__2</td>\n",
       "      <td>[ Stuning even for the non-gamer:, This sound track was beautiful!, It paints the senery in your mind, so well I would recomend it even to people who hate video game music!, I have played the game Chrono Cross but out of all of the games I have ever played it has the best music!, It backs away from crude keyboarding and takes a fresher step with grate guitars and soulful orchestras., It would impress anyone who cares to listen! ^_^]</td>\n",
       "    </tr>\n",
       "    <tr>\n",
       "      <th>1</th>\n",
       "      <td>The best soundtrack ever to anything.: I'm reading a lot of reviews saying that this is the best 'game soundtrack' and I figured that I'd write a review to disagree a bit. This in my opinino is Yasunori Mitsuda's ultimate masterpiece. The music is timeless and I'm been listening to it for years now and its beauty simply refuses to fade.The price tag on this is pretty staggering I must say, but if you are going to buy any cd for this much money, this is the only one that I feel would be worth every penny.</td>\n",
       "      <td>__label__2</td>\n",
       "      <td>[ The best soundtrack ever to anything., : I'm reading a lot of reviews saying that this is the best 'game soundtrack' and I figured that I'd write a review to disagree a bit., This in my opinino is Yasunori Mitsuda's ultimate masterpiece., The music is timeless and I'm been listening to it for years now and its beauty simply refuses to fade., The price tag on this is pretty staggering I must say, but if you are going to buy any cd for this much money, this is the only one that I feel would be worth every penny.]</td>\n",
       "    </tr>\n",
       "    <tr>\n",
       "      <th>2</th>\n",
       "      <td>Amazing!: This soundtrack is my favorite music of all time, hands down. The intense sadness of \"Prisoners of Fate\" (which means all the more if you've played the game) and the hope in \"A Distant Promise\" and \"Girl who Stole the Star\" have been an important inspiration to me personally throughout my teen years. The higher energy tracks like \"Chrono Cross ~ Time's Scar~\", \"Time of the Dreamwatch\", and \"Chronomantique\" (indefinably remeniscent of Chrono Trigger) are all absolutely superb as well.This soundtrack is amazing music, probably the best of this composer's work (I haven't heard the Xenogears soundtrack, so I can't say for sure), and even if you've never played the game, it would be worth twice the price to buy it.I wish I could give it 6 stars.</td>\n",
       "      <td>__label__2</td>\n",
       "      <td>[ Amazing!:, This soundtrack is my favorite music of all time, hands down., The intense sadness of \"Prisoners of Fate\" (which means all the more if you've played the game) and the hope in \"A Distant Promise\" and \"Girl who Stole the Star\" have been an important inspiration to me personally throughout my teen years., The higher energy tracks like \"Chrono Cross ~, Time's Scar~\", \"Time of the Dreamwatch\", and \"Chronomantique\" (indefinably remeniscent of Chrono Trigger) are all absolutely superb as well., This soundtrack is amazing music, probably the best of this composer's work (I haven't heard the Xenogears soundtrack, so I can't say for sure), and even if you've never played the game, it would be worth twice the price to buy it., I wish I could give it 6 stars.]</td>\n",
       "    </tr>\n",
       "    <tr>\n",
       "      <th>3</th>\n",
       "      <td>Excellent Soundtrack: I truly like this soundtrack and I enjoy video game music. I have played this game and most of the music on here I enjoy and it's truly relaxing and peaceful.On disk one. my favorites are Scars Of Time, Between Life and Death, Forest Of Illusion, Fortress of Ancient Dragons, Lost Fragment, and Drowned Valley.Disk Two: The Draggons, Galdorb - Home, Chronomantique, Prisoners of Fate, Gale, and my girlfriend likes ZelbessDisk Three: The best of the three. Garden Of God, Chronopolis, Fates, Jellyfish sea, Burning Orphange, Dragon's Prayer, Tower Of Stars, Dragon God, and Radical Dreamers - Unstealable Jewel.Overall, this is a excellent soundtrack and should be brought by those that like video game music.Xander Cross</td>\n",
       "      <td>__label__2</td>\n",
       "      <td>[ Excellent Soundtrack: I truly like this soundtrack and I enjoy video game music., I have played this game and most of the music on here I enjoy, and it's truly relaxing and peaceful., On disk one., my favorites are Scars Of Time, Between Life and Death, Forest Of Illusion, Fortress of Ancient Dragons, Lost Fragment, and Drowned Valley., Disk Two: The Draggons, Galdorb - Home, Chronomantique, Prisoners of Fate, Gale, and my girlfriend likes ZelbessDisk Three: The best of the three., Garden Of God, Chronopolis, Fates, Jellyfish sea, Burning Orphange, Dragon's Prayer, Tower Of Stars, Dragon God, and Radical Dreamers - Unstealable Jewel., Overall, this is a excellent soundtrack and should be brought by those that like video game music., Xander Cross]</td>\n",
       "    </tr>\n",
       "    <tr>\n",
       "      <th>4</th>\n",
       "      <td>Remember, Pull Your Jaw Off The Floor After Hearing it: If you've played the game, you know how divine the music is! Every single song tells a story of the game, it's that good! The greatest songs are without a doubt, Chrono Cross: Time's Scar, Magical Dreamers: The Wind, The Stars, and the Sea and Radical Dreamers: Unstolen Jewel. (Translation varies) This music is perfect if you ask me, the best it can be. Yasunori Mitsuda just poured his heart on and wrote it down on paper.</td>\n",
       "      <td>__label__2</td>\n",
       "      <td>[ , Remember, Pull Your Jaw Off The Floor After Hearing it: If you've played the game, you know how divine the music is!, Every single song tells a story of the game, it's that good!, The greatest songs are without a doubt, Chrono Cross: Time's Scar, Magical Dreamers: The Wind, The Stars, and the Sea and Radical Dreamers: Unstolen Jewel., (Translation varies), This music is perfect if you ask me, the best it can be., Yasunori Mitsuda just poured his heart on and wrote it down on paper.]</td>\n",
       "    </tr>\n",
       "    <tr>\n",
       "      <th>...</th>\n",
       "      <td>...</td>\n",
       "      <td>...</td>\n",
       "      <td>...</td>\n",
       "    </tr>\n",
       "    <tr>\n",
       "      <th>9995</th>\n",
       "      <td>A revelation of life in small town America in early 1900s: Though a scholarly biography, the book reveals much more about life in a small mid-west America town at the turn of the century than many other biographies or novels. Well worth reading for an insight into \"news\" that didn't make most newspapers but which was true in revealing life, the book is nicely crafted and the author writes with a knowing touch.One would wish for more intimate details of the subject's life, but he was a private man, kept no diary, and did not tell his innermost thoughts to his family. The book, however, succeeds, because it reveals the town, Lamar, MO (which happened to be President Truman's birthplace, and where Wyatt Earp had been Marshall and where the Earp kinfolk lived on) and some of the foibles and fancies of American life. I hope the author writes another book soon.</td>\n",
       "      <td>__label__2</td>\n",
       "      <td>[ A revelation of life in small town America in early 1900s: Though a scholarly biography, the book reveals much more about life in a small mid-west America town at the turn of the century than many other biographies or novels., Well worth reading for an insight into \"news\" that didn't make most newspapers but which was true in revealing life, the book is nicely crafted and the author writes with a knowing touch., One would wish for more intimate details of the subject's life, but he was a private man, kept no diary, and did not tell his innermost thoughts to his family., The book, however, succeeds, because it reveals the town, Lamar, MO (which happened to be President Truman's birthplace, and where Wyatt Earp had been Marshall and where the Earp kinfolk lived on) and some of the foibles and fancies of American life., I hope the author writes another book soon.]</td>\n",
       "    </tr>\n",
       "    <tr>\n",
       "      <th>9996</th>\n",
       "      <td>Great biography of a very interesting journalist: This biography of Arthur Aull, a small-town journalist at the turn of the twentieth century, is a most fascinating read. The role of the small-town newspaper publisher carried much of the moral weight of towns like Lamar, Missouri, during the first half of the twentieth century before the era of instant news carried by radio and television changed everything. The author does a fine job of demonstrating the role in both politics and society that newspaper publishers played during this era. Arthur Aull was routinely used as a classic example of the important role of journalists in developing America by the Journalism School of the University of Missouri. In addition, he was a character that continues to shape the nature of the small town where he published; his legacy newspaper still is in publication.</td>\n",
       "      <td>__label__2</td>\n",
       "      <td>[ Great biography of a very interesting journalist: This biography of Arthur Aull, a small-town journalist at the turn of the twentieth century, is a most fascinating read., The role of the small-town newspaper publisher carried much of the moral weight of towns like Lamar, Missouri, during the first half of the twentieth century before the era of instant news carried by radio and television changed everything., The author does a fine job of demonstrating the role in both politics and society that newspaper publishers played during this era., Arthur Aull was routinely used as a classic example of the important role of journalists in developing America by the Journalism School of the University of Missouri., In addition, he was a character that continues to shape the nature of the small town where he published; his legacy newspaper still is in publication.]</td>\n",
       "    </tr>\n",
       "    <tr>\n",
       "      <th>9997</th>\n",
       "      <td>Interesting Subject; Poor Presentation: You'd be hard-pressed to tell a boring story about about a plucky country newspaper editor who had principles and stuck to 'em. But this author has done it. He says the book is an adaptation of his doctoral thesis. That fits. The book reads like a well-done, fully footnoted college paper, not like a dramatic novel. It strives to identify key historical facts at the expense of the reader's interest. With a modest amount of effort, it could have been reworked as a compelling autobiographical novel bolstered by its remarkable display of features of midwestern life during the first half of the 20th Century.</td>\n",
       "      <td>__label__1</td>\n",
       "      <td>[ Interesting Subject; Poor Presentation: You'd be hard-pressed to tell a boring story about about a plucky country newspaper editor who had principles and stuck to 'em., But this author has done it., He says the book is an adaptation of his doctoral thesis., That fits., The book reads like a well-done, fully footnoted college paper, not like a dramatic novel., It strives to identify key historical facts at the expense of the reader's interest., With a modest amount of effort, it could have been reworked as a compelling autobiographical novel bolstered by its remarkable display of features of midwestern life during the first half of the 20th Century.]</td>\n",
       "    </tr>\n",
       "    <tr>\n",
       "      <th>9998</th>\n",
       "      <td>Don't buy: The box looked used and it is obviously not new. I have tried to contact them by email and no response. Don't buy from them!</td>\n",
       "      <td>__label__1</td>\n",
       "      <td>[ Don't buy: The box looked used and it is obviously not new., I have tried to contact them by email and no response., Don't buy from them!]</td>\n",
       "    </tr>\n",
       "    <tr>\n",
       "      <th>9999</th>\n",
       "      <td>Beautiful Pen and Fast Delivery.: The pen was shipped promptly. This is the classic Montblanc pen that everyone raves about. It is Black in color with Golden Trim. It holds it's own and I am thankful to my parents to gift this to me as a Graduation Present. Someday I plan on buying more of these pens from Amazon.The vendors at Amazon are amazing. I have been a long time shopper at Amazon, mostly pens and electronics. However this pen was gifted to me by my mom and she has nothing but good things to say. I on my part love this pen.</td>\n",
       "      <td>__label__2</td>\n",
       "      <td>[ Beautiful Pen and Fast Delivery., : The pen was shipped promptly., This is the classic Montblanc pen that everyone raves about., It is Black in color with Golden Trim., It holds it's own and I am thankful to my parents to gift this to me as a Graduation Present., Someday I plan on buying more of these pens from Amazon., The vendors at Amazon are amazing., I have been a long time shopper at Amazon, mostly pens and electronics., However this pen was gifted to me by my mom and she has nothing but good things to say., I on my part love this pen.]</td>\n",
       "    </tr>\n",
       "  </tbody>\n",
       "</table>\n",
       "<p>10000 rows × 3 columns</p>\n",
       "</div>"
      ],
      "text/plain": [
       "                                                                                                                                                                                                                                                                                                                                                                                                                                                                                                                                                                                                                                                                                                                                                                                                                                                                                                      text   \n",
       "0                                                                                                                                                                                                                                                                                                                                                                                                                                                              Stuning even for the non-gamer: This sound track was beautiful! It paints the senery in your mind so well I would recomend it even to people who hate video game music! I have played the game Chrono Cross but out of all of the games I have ever played it has the best music! It backs away from crude keyboarding and takes a fresher step with grate guitars and soulful orchestras. It would impress anyone who cares to listen! ^_^  \\\n",
       "1                                                                                                                                                                                                                                                                                                                                                                            The best soundtrack ever to anything.: I'm reading a lot of reviews saying that this is the best 'game soundtrack' and I figured that I'd write a review to disagree a bit. This in my opinino is Yasunori Mitsuda's ultimate masterpiece. The music is timeless and I'm been listening to it for years now and its beauty simply refuses to fade.The price tag on this is pretty staggering I must say, but if you are going to buy any cd for this much money, this is the only one that I feel would be worth every penny.   \n",
       "2                                                                                                                 Amazing!: This soundtrack is my favorite music of all time, hands down. The intense sadness of \"Prisoners of Fate\" (which means all the more if you've played the game) and the hope in \"A Distant Promise\" and \"Girl who Stole the Star\" have been an important inspiration to me personally throughout my teen years. The higher energy tracks like \"Chrono Cross ~ Time's Scar~\", \"Time of the Dreamwatch\", and \"Chronomantique\" (indefinably remeniscent of Chrono Trigger) are all absolutely superb as well.This soundtrack is amazing music, probably the best of this composer's work (I haven't heard the Xenogears soundtrack, so I can't say for sure), and even if you've never played the game, it would be worth twice the price to buy it.I wish I could give it 6 stars.   \n",
       "3                                                                                                                                  Excellent Soundtrack: I truly like this soundtrack and I enjoy video game music. I have played this game and most of the music on here I enjoy and it's truly relaxing and peaceful.On disk one. my favorites are Scars Of Time, Between Life and Death, Forest Of Illusion, Fortress of Ancient Dragons, Lost Fragment, and Drowned Valley.Disk Two: The Draggons, Galdorb - Home, Chronomantique, Prisoners of Fate, Gale, and my girlfriend likes ZelbessDisk Three: The best of the three. Garden Of God, Chronopolis, Fates, Jellyfish sea, Burning Orphange, Dragon's Prayer, Tower Of Stars, Dragon God, and Radical Dreamers - Unstealable Jewel.Overall, this is a excellent soundtrack and should be brought by those that like video game music.Xander Cross   \n",
       "4                                                                                                                                                                                                                                                                                                                                                                                                        Remember, Pull Your Jaw Off The Floor After Hearing it: If you've played the game, you know how divine the music is! Every single song tells a story of the game, it's that good! The greatest songs are without a doubt, Chrono Cross: Time's Scar, Magical Dreamers: The Wind, The Stars, and the Sea and Radical Dreamers: Unstolen Jewel. (Translation varies) This music is perfect if you ask me, the best it can be. Yasunori Mitsuda just poured his heart on and wrote it down on paper.   \n",
       "...                                                                                                                                                                                                                                                                                                                                                                                                                                                                                                                                                                                                                                                                                                                                                                                                                                                                                                    ...   \n",
       "9995   A revelation of life in small town America in early 1900s: Though a scholarly biography, the book reveals much more about life in a small mid-west America town at the turn of the century than many other biographies or novels. Well worth reading for an insight into \"news\" that didn't make most newspapers but which was true in revealing life, the book is nicely crafted and the author writes with a knowing touch.One would wish for more intimate details of the subject's life, but he was a private man, kept no diary, and did not tell his innermost thoughts to his family. The book, however, succeeds, because it reveals the town, Lamar, MO (which happened to be President Truman's birthplace, and where Wyatt Earp had been Marshall and where the Earp kinfolk lived on) and some of the foibles and fancies of American life. I hope the author writes another book soon.   \n",
       "9996         Great biography of a very interesting journalist: This biography of Arthur Aull, a small-town journalist at the turn of the twentieth century, is a most fascinating read. The role of the small-town newspaper publisher carried much of the moral weight of towns like Lamar, Missouri, during the first half of the twentieth century before the era of instant news carried by radio and television changed everything. The author does a fine job of demonstrating the role in both politics and society that newspaper publishers played during this era. Arthur Aull was routinely used as a classic example of the important role of journalists in developing America by the Journalism School of the University of Missouri. In addition, he was a character that continues to shape the nature of the small town where he published; his legacy newspaper still is in publication.   \n",
       "9997                                                                                                                                                                                                                            Interesting Subject; Poor Presentation: You'd be hard-pressed to tell a boring story about about a plucky country newspaper editor who had principles and stuck to 'em. But this author has done it. He says the book is an adaptation of his doctoral thesis. That fits. The book reads like a well-done, fully footnoted college paper, not like a dramatic novel. It strives to identify key historical facts at the expense of the reader's interest. With a modest amount of effort, it could have been reworked as a compelling autobiographical novel bolstered by its remarkable display of features of midwestern life during the first half of the 20th Century.   \n",
       "9998                                                                                                                                                                                                                                                                                                                                                                                                                                                                                                                                                                                                                                                                                                                                                               Don't buy: The box looked used and it is obviously not new. I have tried to contact them by email and no response. Don't buy from them!   \n",
       "9999                                                                                                                                                                                                                                                                                                                                              Beautiful Pen and Fast Delivery.: The pen was shipped promptly. This is the classic Montblanc pen that everyone raves about. It is Black in color with Golden Trim. It holds it's own and I am thankful to my parents to gift this to me as a Graduation Present. Someday I plan on buying more of these pens from Amazon.The vendors at Amazon are amazing. I have been a long time shopper at Amazon, mostly pens and electronics. However this pen was gifted to me by my mom and she has nothing but good things to say. I on my part love this pen.   \n",
       "\n",
       "            label   \n",
       "0     __label__2   \\\n",
       "1     __label__2    \n",
       "2     __label__2    \n",
       "3     __label__2    \n",
       "4     __label__2    \n",
       "...           ...   \n",
       "9995  __label__2    \n",
       "9996  __label__2    \n",
       "9997  __label__1    \n",
       "9998  __label__1    \n",
       "9999  __label__2    \n",
       "\n",
       "                                                                                                                                                                                                                                                                                                                                                                                                                                                                                                                                                                                                                                                                                                                                                                                                                                                                                                         sentence  \n",
       "0                                                                                                                                                                                                                                                                                                                                                                                                                                                            [ Stuning even for the non-gamer:, This sound track was beautiful!, It paints the senery in your mind, so well I would recomend it even to people who hate video game music!, I have played the game Chrono Cross but out of all of the games I have ever played it has the best music!, It backs away from crude keyboarding and takes a fresher step with grate guitars and soulful orchestras., It would impress anyone who cares to listen! ^_^]  \n",
       "1                                                                                                                                                                                                                                                                                                                                                                          [ The best soundtrack ever to anything., : I'm reading a lot of reviews saying that this is the best 'game soundtrack' and I figured that I'd write a review to disagree a bit., This in my opinino is Yasunori Mitsuda's ultimate masterpiece., The music is timeless and I'm been listening to it for years now and its beauty simply refuses to fade., The price tag on this is pretty staggering I must say, but if you are going to buy any cd for this much money, this is the only one that I feel would be worth every penny.]  \n",
       "2                                                                                                             [ Amazing!:, This soundtrack is my favorite music of all time, hands down., The intense sadness of \"Prisoners of Fate\" (which means all the more if you've played the game) and the hope in \"A Distant Promise\" and \"Girl who Stole the Star\" have been an important inspiration to me personally throughout my teen years., The higher energy tracks like \"Chrono Cross ~, Time's Scar~\", \"Time of the Dreamwatch\", and \"Chronomantique\" (indefinably remeniscent of Chrono Trigger) are all absolutely superb as well., This soundtrack is amazing music, probably the best of this composer's work (I haven't heard the Xenogears soundtrack, so I can't say for sure), and even if you've never played the game, it would be worth twice the price to buy it., I wish I could give it 6 stars.]  \n",
       "3                                                                                                                          [ Excellent Soundtrack: I truly like this soundtrack and I enjoy video game music., I have played this game and most of the music on here I enjoy, and it's truly relaxing and peaceful., On disk one., my favorites are Scars Of Time, Between Life and Death, Forest Of Illusion, Fortress of Ancient Dragons, Lost Fragment, and Drowned Valley., Disk Two: The Draggons, Galdorb - Home, Chronomantique, Prisoners of Fate, Gale, and my girlfriend likes ZelbessDisk Three: The best of the three., Garden Of God, Chronopolis, Fates, Jellyfish sea, Burning Orphange, Dragon's Prayer, Tower Of Stars, Dragon God, and Radical Dreamers - Unstealable Jewel., Overall, this is a excellent soundtrack and should be brought by those that like video game music., Xander Cross]  \n",
       "4                                                                                                                                                                                                                                                                                                                                                                                                     [ , Remember, Pull Your Jaw Off The Floor After Hearing it: If you've played the game, you know how divine the music is!, Every single song tells a story of the game, it's that good!, The greatest songs are without a doubt, Chrono Cross: Time's Scar, Magical Dreamers: The Wind, The Stars, and the Sea and Radical Dreamers: Unstolen Jewel., (Translation varies), This music is perfect if you ask me, the best it can be., Yasunori Mitsuda just poured his heart on and wrote it down on paper.]  \n",
       "...                                                                                                                                                                                                                                                                                                                                                                                                                                                                                                                                                                                                                                                                                                                                                                                                                                                                                                           ...  \n",
       "9995  [ A revelation of life in small town America in early 1900s: Though a scholarly biography, the book reveals much more about life in a small mid-west America town at the turn of the century than many other biographies or novels., Well worth reading for an insight into \"news\" that didn't make most newspapers but which was true in revealing life, the book is nicely crafted and the author writes with a knowing touch., One would wish for more intimate details of the subject's life, but he was a private man, kept no diary, and did not tell his innermost thoughts to his family., The book, however, succeeds, because it reveals the town, Lamar, MO (which happened to be President Truman's birthplace, and where Wyatt Earp had been Marshall and where the Earp kinfolk lived on) and some of the foibles and fancies of American life., I hope the author writes another book soon.]  \n",
       "9996         [ Great biography of a very interesting journalist: This biography of Arthur Aull, a small-town journalist at the turn of the twentieth century, is a most fascinating read., The role of the small-town newspaper publisher carried much of the moral weight of towns like Lamar, Missouri, during the first half of the twentieth century before the era of instant news carried by radio and television changed everything., The author does a fine job of demonstrating the role in both politics and society that newspaper publishers played during this era., Arthur Aull was routinely used as a classic example of the important role of journalists in developing America by the Journalism School of the University of Missouri., In addition, he was a character that continues to shape the nature of the small town where he published; his legacy newspaper still is in publication.]  \n",
       "9997                                                                                                                                                                                                                          [ Interesting Subject; Poor Presentation: You'd be hard-pressed to tell a boring story about about a plucky country newspaper editor who had principles and stuck to 'em., But this author has done it., He says the book is an adaptation of his doctoral thesis., That fits., The book reads like a well-done, fully footnoted college paper, not like a dramatic novel., It strives to identify key historical facts at the expense of the reader's interest., With a modest amount of effort, it could have been reworked as a compelling autobiographical novel bolstered by its remarkable display of features of midwestern life during the first half of the 20th Century.]  \n",
       "9998                                                                                                                                                                                                                                                                                                                                                                                                                                                                                                                                                                                                                                                                                                                                                                 [ Don't buy: The box looked used and it is obviously not new., I have tried to contact them by email and no response., Don't buy from them!]  \n",
       "9999                                                                                                                                                                                                                                                                                                                                       [ Beautiful Pen and Fast Delivery., : The pen was shipped promptly., This is the classic Montblanc pen that everyone raves about., It is Black in color with Golden Trim., It holds it's own and I am thankful to my parents to gift this to me as a Graduation Present., Someday I plan on buying more of these pens from Amazon., The vendors at Amazon are amazing., I have been a long time shopper at Amazon, mostly pens and electronics., However this pen was gifted to me by my mom and she has nothing but good things to say., I on my part love this pen.]  \n",
       "\n",
       "[10000 rows x 3 columns]"
      ]
     },
     "execution_count": 16,
     "metadata": {},
     "output_type": "execute_result"
    }
   ],
   "source": [
    "corpus_bis"
   ]
  },
  {
   "cell_type": "code",
   "execution_count": 17,
   "id": "49c2ad67-d197-49de-ad40-1103a913e237",
   "metadata": {},
   "outputs": [],
   "source": [
    "corpus_bis = corpus_bis.explode('sentence')"
   ]
  },
  {
   "cell_type": "code",
   "execution_count": 19,
   "id": "97cee5af-102d-434f-82ad-7d102605646e",
   "metadata": {},
   "outputs": [
    {
     "data": {
      "text/plain": [
       "56951"
      ]
     },
     "execution_count": 19,
     "metadata": {},
     "output_type": "execute_result"
    }
   ],
   "source": [
    "len(corpus_bis)"
   ]
  },
  {
   "cell_type": "code",
   "execution_count": 20,
   "id": "b5ed669a-5d82-4ef2-ab03-1cffe8f2ca7f",
   "metadata": {},
   "outputs": [
    {
     "data": {
      "text/html": [
       "<div>\n",
       "<style scoped>\n",
       "    .dataframe tbody tr th:only-of-type {\n",
       "        vertical-align: middle;\n",
       "    }\n",
       "\n",
       "    .dataframe tbody tr th {\n",
       "        vertical-align: top;\n",
       "    }\n",
       "\n",
       "    .dataframe thead th {\n",
       "        text-align: right;\n",
       "    }\n",
       "</style>\n",
       "<table border=\"1\" class=\"dataframe\">\n",
       "  <thead>\n",
       "    <tr style=\"text-align: right;\">\n",
       "      <th></th>\n",
       "      <th>text</th>\n",
       "      <th>label</th>\n",
       "      <th>sentence</th>\n",
       "    </tr>\n",
       "  </thead>\n",
       "  <tbody>\n",
       "    <tr>\n",
       "      <th>0</th>\n",
       "      <td>Stuning even for the non-gamer: This sound track was beautiful! It paints the senery in your mind so well I would recomend it even to people who hate video game music! I have played the game Chrono Cross but out of all of the games I have ever played it has the best music! It backs away from crude keyboarding and takes a fresher step with grate guitars and soulful orchestras. It would impress anyone who cares to listen! ^_^</td>\n",
       "      <td>__label__2</td>\n",
       "      <td>Stuning even for the non-gamer:</td>\n",
       "    </tr>\n",
       "    <tr>\n",
       "      <th>0</th>\n",
       "      <td>Stuning even for the non-gamer: This sound track was beautiful! It paints the senery in your mind so well I would recomend it even to people who hate video game music! I have played the game Chrono Cross but out of all of the games I have ever played it has the best music! It backs away from crude keyboarding and takes a fresher step with grate guitars and soulful orchestras. It would impress anyone who cares to listen! ^_^</td>\n",
       "      <td>__label__2</td>\n",
       "      <td>This sound track was beautiful!</td>\n",
       "    </tr>\n",
       "    <tr>\n",
       "      <th>0</th>\n",
       "      <td>Stuning even for the non-gamer: This sound track was beautiful! It paints the senery in your mind so well I would recomend it even to people who hate video game music! I have played the game Chrono Cross but out of all of the games I have ever played it has the best music! It backs away from crude keyboarding and takes a fresher step with grate guitars and soulful orchestras. It would impress anyone who cares to listen! ^_^</td>\n",
       "      <td>__label__2</td>\n",
       "      <td>It paints the senery in your mind</td>\n",
       "    </tr>\n",
       "    <tr>\n",
       "      <th>0</th>\n",
       "      <td>Stuning even for the non-gamer: This sound track was beautiful! It paints the senery in your mind so well I would recomend it even to people who hate video game music! I have played the game Chrono Cross but out of all of the games I have ever played it has the best music! It backs away from crude keyboarding and takes a fresher step with grate guitars and soulful orchestras. It would impress anyone who cares to listen! ^_^</td>\n",
       "      <td>__label__2</td>\n",
       "      <td>so well I would recomend it even to people who hate video game music!</td>\n",
       "    </tr>\n",
       "    <tr>\n",
       "      <th>0</th>\n",
       "      <td>Stuning even for the non-gamer: This sound track was beautiful! It paints the senery in your mind so well I would recomend it even to people who hate video game music! I have played the game Chrono Cross but out of all of the games I have ever played it has the best music! It backs away from crude keyboarding and takes a fresher step with grate guitars and soulful orchestras. It would impress anyone who cares to listen! ^_^</td>\n",
       "      <td>__label__2</td>\n",
       "      <td>I have played the game Chrono Cross but out of all of the games I have ever played it has the best music!</td>\n",
       "    </tr>\n",
       "    <tr>\n",
       "      <th>...</th>\n",
       "      <td>...</td>\n",
       "      <td>...</td>\n",
       "      <td>...</td>\n",
       "    </tr>\n",
       "    <tr>\n",
       "      <th>9999</th>\n",
       "      <td>Beautiful Pen and Fast Delivery.: The pen was shipped promptly. This is the classic Montblanc pen that everyone raves about. It is Black in color with Golden Trim. It holds it's own and I am thankful to my parents to gift this to me as a Graduation Present. Someday I plan on buying more of these pens from Amazon.The vendors at Amazon are amazing. I have been a long time shopper at Amazon, mostly pens and electronics. However this pen was gifted to me by my mom and she has nothing but good things to say. I on my part love this pen.</td>\n",
       "      <td>__label__2</td>\n",
       "      <td>Someday I plan on buying more of these pens from Amazon.</td>\n",
       "    </tr>\n",
       "    <tr>\n",
       "      <th>9999</th>\n",
       "      <td>Beautiful Pen and Fast Delivery.: The pen was shipped promptly. This is the classic Montblanc pen that everyone raves about. It is Black in color with Golden Trim. It holds it's own and I am thankful to my parents to gift this to me as a Graduation Present. Someday I plan on buying more of these pens from Amazon.The vendors at Amazon are amazing. I have been a long time shopper at Amazon, mostly pens and electronics. However this pen was gifted to me by my mom and she has nothing but good things to say. I on my part love this pen.</td>\n",
       "      <td>__label__2</td>\n",
       "      <td>The vendors at Amazon are amazing.</td>\n",
       "    </tr>\n",
       "    <tr>\n",
       "      <th>9999</th>\n",
       "      <td>Beautiful Pen and Fast Delivery.: The pen was shipped promptly. This is the classic Montblanc pen that everyone raves about. It is Black in color with Golden Trim. It holds it's own and I am thankful to my parents to gift this to me as a Graduation Present. Someday I plan on buying more of these pens from Amazon.The vendors at Amazon are amazing. I have been a long time shopper at Amazon, mostly pens and electronics. However this pen was gifted to me by my mom and she has nothing but good things to say. I on my part love this pen.</td>\n",
       "      <td>__label__2</td>\n",
       "      <td>I have been a long time shopper at Amazon, mostly pens and electronics.</td>\n",
       "    </tr>\n",
       "    <tr>\n",
       "      <th>9999</th>\n",
       "      <td>Beautiful Pen and Fast Delivery.: The pen was shipped promptly. This is the classic Montblanc pen that everyone raves about. It is Black in color with Golden Trim. It holds it's own and I am thankful to my parents to gift this to me as a Graduation Present. Someday I plan on buying more of these pens from Amazon.The vendors at Amazon are amazing. I have been a long time shopper at Amazon, mostly pens and electronics. However this pen was gifted to me by my mom and she has nothing but good things to say. I on my part love this pen.</td>\n",
       "      <td>__label__2</td>\n",
       "      <td>However this pen was gifted to me by my mom and she has nothing but good things to say.</td>\n",
       "    </tr>\n",
       "    <tr>\n",
       "      <th>9999</th>\n",
       "      <td>Beautiful Pen and Fast Delivery.: The pen was shipped promptly. This is the classic Montblanc pen that everyone raves about. It is Black in color with Golden Trim. It holds it's own and I am thankful to my parents to gift this to me as a Graduation Present. Someday I plan on buying more of these pens from Amazon.The vendors at Amazon are amazing. I have been a long time shopper at Amazon, mostly pens and electronics. However this pen was gifted to me by my mom and she has nothing but good things to say. I on my part love this pen.</td>\n",
       "      <td>__label__2</td>\n",
       "      <td>I on my part love this pen.</td>\n",
       "    </tr>\n",
       "  </tbody>\n",
       "</table>\n",
       "<p>56951 rows × 3 columns</p>\n",
       "</div>"
      ],
      "text/plain": [
       "                                                                                                                                                                                                                                                                                                                                                                                                                                                                                                                                                           text   \n",
       "0                                                                                                                   Stuning even for the non-gamer: This sound track was beautiful! It paints the senery in your mind so well I would recomend it even to people who hate video game music! I have played the game Chrono Cross but out of all of the games I have ever played it has the best music! It backs away from crude keyboarding and takes a fresher step with grate guitars and soulful orchestras. It would impress anyone who cares to listen! ^_^  \\\n",
       "0                                                                                                                   Stuning even for the non-gamer: This sound track was beautiful! It paints the senery in your mind so well I would recomend it even to people who hate video game music! I have played the game Chrono Cross but out of all of the games I have ever played it has the best music! It backs away from crude keyboarding and takes a fresher step with grate guitars and soulful orchestras. It would impress anyone who cares to listen! ^_^   \n",
       "0                                                                                                                   Stuning even for the non-gamer: This sound track was beautiful! It paints the senery in your mind so well I would recomend it even to people who hate video game music! I have played the game Chrono Cross but out of all of the games I have ever played it has the best music! It backs away from crude keyboarding and takes a fresher step with grate guitars and soulful orchestras. It would impress anyone who cares to listen! ^_^   \n",
       "0                                                                                                                   Stuning even for the non-gamer: This sound track was beautiful! It paints the senery in your mind so well I would recomend it even to people who hate video game music! I have played the game Chrono Cross but out of all of the games I have ever played it has the best music! It backs away from crude keyboarding and takes a fresher step with grate guitars and soulful orchestras. It would impress anyone who cares to listen! ^_^   \n",
       "0                                                                                                                   Stuning even for the non-gamer: This sound track was beautiful! It paints the senery in your mind so well I would recomend it even to people who hate video game music! I have played the game Chrono Cross but out of all of the games I have ever played it has the best music! It backs away from crude keyboarding and takes a fresher step with grate guitars and soulful orchestras. It would impress anyone who cares to listen! ^_^   \n",
       "...                                                                                                                                                                                                                                                                                                                                                                                                                                                                                                                                                         ...   \n",
       "9999   Beautiful Pen and Fast Delivery.: The pen was shipped promptly. This is the classic Montblanc pen that everyone raves about. It is Black in color with Golden Trim. It holds it's own and I am thankful to my parents to gift this to me as a Graduation Present. Someday I plan on buying more of these pens from Amazon.The vendors at Amazon are amazing. I have been a long time shopper at Amazon, mostly pens and electronics. However this pen was gifted to me by my mom and she has nothing but good things to say. I on my part love this pen.   \n",
       "9999   Beautiful Pen and Fast Delivery.: The pen was shipped promptly. This is the classic Montblanc pen that everyone raves about. It is Black in color with Golden Trim. It holds it's own and I am thankful to my parents to gift this to me as a Graduation Present. Someday I plan on buying more of these pens from Amazon.The vendors at Amazon are amazing. I have been a long time shopper at Amazon, mostly pens and electronics. However this pen was gifted to me by my mom and she has nothing but good things to say. I on my part love this pen.   \n",
       "9999   Beautiful Pen and Fast Delivery.: The pen was shipped promptly. This is the classic Montblanc pen that everyone raves about. It is Black in color with Golden Trim. It holds it's own and I am thankful to my parents to gift this to me as a Graduation Present. Someday I plan on buying more of these pens from Amazon.The vendors at Amazon are amazing. I have been a long time shopper at Amazon, mostly pens and electronics. However this pen was gifted to me by my mom and she has nothing but good things to say. I on my part love this pen.   \n",
       "9999   Beautiful Pen and Fast Delivery.: The pen was shipped promptly. This is the classic Montblanc pen that everyone raves about. It is Black in color with Golden Trim. It holds it's own and I am thankful to my parents to gift this to me as a Graduation Present. Someday I plan on buying more of these pens from Amazon.The vendors at Amazon are amazing. I have been a long time shopper at Amazon, mostly pens and electronics. However this pen was gifted to me by my mom and she has nothing but good things to say. I on my part love this pen.   \n",
       "9999   Beautiful Pen and Fast Delivery.: The pen was shipped promptly. This is the classic Montblanc pen that everyone raves about. It is Black in color with Golden Trim. It holds it's own and I am thankful to my parents to gift this to me as a Graduation Present. Someday I plan on buying more of these pens from Amazon.The vendors at Amazon are amazing. I have been a long time shopper at Amazon, mostly pens and electronics. However this pen was gifted to me by my mom and she has nothing but good things to say. I on my part love this pen.   \n",
       "\n",
       "            label   \n",
       "0     __label__2   \\\n",
       "0     __label__2    \n",
       "0     __label__2    \n",
       "0     __label__2    \n",
       "0     __label__2    \n",
       "...           ...   \n",
       "9999  __label__2    \n",
       "9999  __label__2    \n",
       "9999  __label__2    \n",
       "9999  __label__2    \n",
       "9999  __label__2    \n",
       "\n",
       "                                                                                                       sentence  \n",
       "0                                                                               Stuning even for the non-gamer:  \n",
       "0                                                                               This sound track was beautiful!  \n",
       "0                                                                             It paints the senery in your mind  \n",
       "0                                         so well I would recomend it even to people who hate video game music!  \n",
       "0     I have played the game Chrono Cross but out of all of the games I have ever played it has the best music!  \n",
       "...                                                                                                         ...  \n",
       "9999                                                   Someday I plan on buying more of these pens from Amazon.  \n",
       "9999                                                                         The vendors at Amazon are amazing.  \n",
       "9999                                    I have been a long time shopper at Amazon, mostly pens and electronics.  \n",
       "9999                    However this pen was gifted to me by my mom and she has nothing but good things to say.  \n",
       "9999                                                                                I on my part love this pen.  \n",
       "\n",
       "[56951 rows x 3 columns]"
      ]
     },
     "execution_count": 20,
     "metadata": {},
     "output_type": "execute_result"
    }
   ],
   "source": [
    "corpus_bis"
   ]
  },
  {
   "cell_type": "code",
   "execution_count": null,
   "id": "9f9d36c0-081c-4306-ac89-ebc16e3262fa",
   "metadata": {},
   "outputs": [],
   "source": []
  },
  {
   "cell_type": "code",
   "execution_count": null,
   "id": "f4dcfa2f-a2a4-42a0-b939-f97431ad0d24",
   "metadata": {},
   "outputs": [],
   "source": []
  }
 ],
 "metadata": {
  "kernelspec": {
   "display_name": "Py310",
   "language": "python",
   "name": "py310"
  },
  "language_info": {
   "codemirror_mode": {
    "name": "ipython",
    "version": 3
   },
   "file_extension": ".py",
   "mimetype": "text/x-python",
   "name": "python",
   "nbconvert_exporter": "python",
   "pygments_lexer": "ipython3",
   "version": "3.10.11"
  }
 },
 "nbformat": 4,
 "nbformat_minor": 5
}
