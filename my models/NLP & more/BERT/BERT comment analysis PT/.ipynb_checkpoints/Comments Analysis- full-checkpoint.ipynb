{
 "cells": [
  {
   "cell_type": "code",
   "execution_count": 1,
   "id": "87ce0353-381e-4afb-883d-a0f52a060f21",
   "metadata": {},
   "outputs": [
    {
     "name": "stderr",
     "output_type": "stream",
     "text": [
      "C:\\Users\\Alienware\\miniconda3\\envs\\py310\\lib\\site-packages\\tqdm\\auto.py:21: TqdmWarning: IProgress not found. Please update jupyter and ipywidgets. See https://ipywidgets.readthedocs.io/en/stable/user_install.html\n",
      "  from .autonotebook import tqdm as notebook_tqdm\n"
     ]
    }
   ],
   "source": [
    "import pandas as pd\n",
    "import numpy as np\n",
    "from pandas import json_normalize\n",
    "import json\n",
    "import requests\n",
    "\n",
    "import matplotlib.pyplot as plt\n",
    "from wordcloud import WordCloud\n",
    "\n",
    "import torch\n",
    "from torch import nn  \n",
    "from transformers import AutoTokenizer, AutoModelForSequenceClassification\n",
    "from kmodes.kprototypes import KPrototypes\n",
    "from sklearn.impute import SimpleImputer\n",
    "from scipy.stats import shapiro\n",
    "\n",
    "\n",
    "from bertopic import BERTopic\n",
    "\n",
    "plt.style.use('ggplot')\n",
    "pd.set_option('display.max_columns', None)"
   ]
  },
  {
   "cell_type": "code",
   "execution_count": 2,
   "id": "5086e836-d3f9-48b3-b189-c4eb8bd6782c",
   "metadata": {},
   "outputs": [
    {
     "data": {
      "text/html": [
       "<div>\n",
       "<style scoped>\n",
       "    .dataframe tbody tr th:only-of-type {\n",
       "        vertical-align: middle;\n",
       "    }\n",
       "\n",
       "    .dataframe tbody tr th {\n",
       "        vertical-align: top;\n",
       "    }\n",
       "\n",
       "    .dataframe thead th {\n",
       "        text-align: right;\n",
       "    }\n",
       "</style>\n",
       "<table border=\"1\" class=\"dataframe\">\n",
       "  <thead>\n",
       "    <tr style=\"text-align: right;\">\n",
       "      <th></th>\n",
       "      <th>Punteggio utente sul titolo</th>\n",
       "      <th>Id. commento</th>\n",
       "      <th>Punteggio medio titolo</th>\n",
       "      <th>Cod. tipo materiale</th>\n",
       "      <th>Tipo documento</th>\n",
       "      <th>Identificativo titolo</th>\n",
       "      <th>Eta' utente</th>\n",
       "      <th>Tipo utente</th>\n",
       "      <th>Anno di pubblicazione</th>\n",
       "      <th>CAP</th>\n",
       "      <th>Tipo materiale</th>\n",
       "      <th>Lingua 3</th>\n",
       "      <th>Lingua 2</th>\n",
       "      <th>Natura</th>\n",
       "      <th>Descrizione commento</th>\n",
       "      <th>Lingua 1</th>\n",
       "      <th>Cod. tipo utente</th>\n",
       "      <th>Cod. Lingua 1</th>\n",
       "      <th>Cod. natura</th>\n",
       "      <th>Cod. Lingua 3</th>\n",
       "      <th>Cod. Lingua 2</th>\n",
       "      <th>Cod. tipo documento</th>\n",
       "      <th>Titolo</th>\n",
       "      <th>Titolo commento</th>\n",
       "      <th>Data commento</th>\n",
       "    </tr>\n",
       "  </thead>\n",
       "  <tbody>\n",
       "    <tr>\n",
       "      <th>0</th>\n",
       "      <td>4</td>\n",
       "      <td>138</td>\n",
       "      <td>4.0000</td>\n",
       "      <td>M</td>\n",
       "      <td>Testo a stampa (moderno)</td>\n",
       "      <td>91</td>\n",
       "      <td>31</td>\n",
       "      <td>STUDENTE</td>\n",
       "      <td>1990</td>\n",
       "      <td>00148</td>\n",
       "      <td>Libro moderno</td>\n",
       "      <td></td>\n",
       "      <td></td>\n",
       "      <td>Monografia</td>\n",
       "      <td>Libro consigliato a tutti coloro che vogliono ...</td>\n",
       "      <td>ITALIANO</td>\n",
       "      <td>S</td>\n",
       "      <td>ITA</td>\n",
       "      <td>M</td>\n",
       "      <td></td>\n",
       "      <td></td>\n",
       "      <td>LM</td>\n",
       "      <td>Il *porto sepolto / Giuseppe Ungaretti ; a cur...</td>\n",
       "      <td>Interpretazione ed analisi scritta benissimo, ...</td>\n",
       "      <td>2011/02/23</td>\n",
       "    </tr>\n",
       "    <tr>\n",
       "      <th>1</th>\n",
       "      <td>None</td>\n",
       "      <td>3567</td>\n",
       "      <td>None</td>\n",
       "      <td>M</td>\n",
       "      <td>Testo a stampa (moderno)</td>\n",
       "      <td>208</td>\n",
       "      <td>33</td>\n",
       "      <td>STUDENTE</td>\n",
       "      <td>1982</td>\n",
       "      <td>04011</td>\n",
       "      <td>Libro moderno</td>\n",
       "      <td></td>\n",
       "      <td></td>\n",
       "      <td>Monografia</td>\n",
       "      <td>Un volumetto davvero prezioso che raccoglie ep...</td>\n",
       "      <td>ITALIANO</td>\n",
       "      <td>S</td>\n",
       "      <td>ITA</td>\n",
       "      <td>M</td>\n",
       "      <td></td>\n",
       "      <td></td>\n",
       "      <td>LM</td>\n",
       "      <td>*Carte segrete / Scipione ; prefazione di Amel...</td>\n",
       "      <td>Testi rari e preziosi</td>\n",
       "      <td>2018/08/28</td>\n",
       "    </tr>\n",
       "    <tr>\n",
       "      <th>2</th>\n",
       "      <td>None</td>\n",
       "      <td>3653</td>\n",
       "      <td>None</td>\n",
       "      <td>M</td>\n",
       "      <td>Testo a stampa (moderno)</td>\n",
       "      <td>429</td>\n",
       "      <td>33</td>\n",
       "      <td>STUDENTE</td>\n",
       "      <td>1990</td>\n",
       "      <td>04011</td>\n",
       "      <td>Libro moderno</td>\n",
       "      <td></td>\n",
       "      <td></td>\n",
       "      <td>Monografia</td>\n",
       "      <td>Terzo volumetto di Pizzi. I versi si rincorron...</td>\n",
       "      <td>ITALIANO</td>\n",
       "      <td>S</td>\n",
       "      <td>ITA</td>\n",
       "      <td>M</td>\n",
       "      <td></td>\n",
       "      <td></td>\n",
       "      <td>LM</td>\n",
       "      <td>*Acquerugiole / Marina Pizzi. - Milano : Croce...</td>\n",
       "      <td>\"Genuflesse finanche le parole\"</td>\n",
       "      <td>2018/08/31</td>\n",
       "    </tr>\n",
       "  </tbody>\n",
       "</table>\n",
       "</div>"
      ],
      "text/plain": [
       "  Punteggio utente sul titolo Id. commento Punteggio medio titolo  \\\n",
       "0                           4          138                 4.0000   \n",
       "1                        None         3567                   None   \n",
       "2                        None         3653                   None   \n",
       "\n",
       "  Cod. tipo materiale            Tipo documento Identificativo titolo  \\\n",
       "0                   M  Testo a stampa (moderno)                    91   \n",
       "1                   M  Testo a stampa (moderno)                   208   \n",
       "2                   M  Testo a stampa (moderno)                   429   \n",
       "\n",
       "  Eta' utente Tipo utente Anno di pubblicazione    CAP Tipo materiale  \\\n",
       "0          31    STUDENTE                  1990  00148  Libro moderno   \n",
       "1          33    STUDENTE                  1982  04011  Libro moderno   \n",
       "2          33    STUDENTE                  1990  04011  Libro moderno   \n",
       "\n",
       "  Lingua 3 Lingua 2      Natura  \\\n",
       "0                    Monografia   \n",
       "1                    Monografia   \n",
       "2                    Monografia   \n",
       "\n",
       "                                Descrizione commento  Lingua 1  \\\n",
       "0  Libro consigliato a tutti coloro che vogliono ...  ITALIANO   \n",
       "1  Un volumetto davvero prezioso che raccoglie ep...  ITALIANO   \n",
       "2  Terzo volumetto di Pizzi. I versi si rincorron...  ITALIANO   \n",
       "\n",
       "  Cod. tipo utente Cod. Lingua 1 Cod. natura Cod. Lingua 3 Cod. Lingua 2  \\\n",
       "0                S           ITA           M                               \n",
       "1                S           ITA           M                               \n",
       "2                S           ITA           M                               \n",
       "\n",
       "  Cod. tipo documento                                             Titolo  \\\n",
       "0                  LM  Il *porto sepolto / Giuseppe Ungaretti ; a cur...   \n",
       "1                  LM  *Carte segrete / Scipione ; prefazione di Amel...   \n",
       "2                  LM  *Acquerugiole / Marina Pizzi. - Milano : Croce...   \n",
       "\n",
       "                                     Titolo commento Data commento  \n",
       "0  Interpretazione ed analisi scritta benissimo, ...    2011/02/23  \n",
       "1                              Testi rari e preziosi    2018/08/28  \n",
       "2                   \"Genuflesse finanche le parole\"     2018/08/31  "
      ]
     },
     "execution_count": 2,
     "metadata": {},
     "output_type": "execute_result"
    }
   ],
   "source": [
    "url = 'https://www.bibliotechediroma.it/sebina/repository/opendata/COMMENTI_UTE/202209/COMMENTI_UTE_01.json'\n",
    "\n",
    "r = requests.get(url)\n",
    "\n",
    "df = json_normalize(r.json(), record_path =['tabella'])\n",
    "\n",
    "df.head(3)"
   ]
  },
  {
   "cell_type": "code",
   "execution_count": 3,
   "id": "ede51096-2c3f-42f2-adbe-e07899781076",
   "metadata": {},
   "outputs": [
    {
     "name": "stdout",
     "output_type": "stream",
     "text": [
      "<class 'pandas.core.frame.DataFrame'>\n",
      "RangeIndex: 18905 entries, 0 to 18904\n",
      "Data columns (total 25 columns):\n",
      " #   Column                       Non-Null Count  Dtype \n",
      "---  ------                       --------------  ----- \n",
      " 0   Punteggio utente sul titolo  813 non-null    object\n",
      " 1   Id. commento                 18905 non-null  object\n",
      " 2   Punteggio medio titolo       1216 non-null   object\n",
      " 3   Cod. tipo materiale          18905 non-null  object\n",
      " 4   Tipo documento               18905 non-null  object\n",
      " 5   Identificativo titolo        18905 non-null  object\n",
      " 6   Eta' utente                  18822 non-null  object\n",
      " 7   Tipo utente                  18905 non-null  object\n",
      " 8   Anno di pubblicazione        18819 non-null  object\n",
      " 9   CAP                          18905 non-null  object\n",
      " 10  Tipo materiale               18902 non-null  object\n",
      " 11  Lingua 3                     18905 non-null  object\n",
      " 12  Lingua 2                     18905 non-null  object\n",
      " 13  Natura                       18905 non-null  object\n",
      " 14  Descrizione commento         18905 non-null  object\n",
      " 15  Lingua 1                     18905 non-null  object\n",
      " 16  Cod. tipo utente             18905 non-null  object\n",
      " 17  Cod. Lingua 1                18905 non-null  object\n",
      " 18  Cod. natura                  18905 non-null  object\n",
      " 19  Cod. Lingua 3                18905 non-null  object\n",
      " 20  Cod. Lingua 2                18905 non-null  object\n",
      " 21  Cod. tipo documento          18905 non-null  object\n",
      " 22  Titolo                       18905 non-null  object\n",
      " 23  Titolo commento              18905 non-null  object\n",
      " 24  Data commento                18905 non-null  object\n",
      "dtypes: object(25)\n",
      "memory usage: 3.6+ MB\n"
     ]
    }
   ],
   "source": [
    "df.info()"
   ]
  },
  {
   "cell_type": "code",
   "execution_count": 4,
   "id": "e312eeef-0a67-4fa4-a61d-ccfffdbf9e85",
   "metadata": {},
   "outputs": [
    {
     "name": "stdout",
     "output_type": "stream",
     "text": [
      "Total reviews:  18905\n",
      "No scores given:  18092\n",
      "Perc. of given scores:  4.3%\n"
     ]
    }
   ],
   "source": [
    "# Notably, a column from the dataset collects a score given by the user to the product, from 1 to 5. Nevertheless, out of the 15636 total reviews, only 5.2% display this score, therefore this information will not be used:\n",
    "\n",
    "no_scores = df['Punteggio utente sul titolo'].isna().sum()\n",
    "\n",
    "print(\"Total reviews: \", df.shape[0])\n",
    "print(\"No scores given: \", no_scores)\n",
    "print(\"Perc. of given scores: \", str(round((1-no_scores/df.shape[0])*100,2))+'%' )"
   ]
  },
  {
   "cell_type": "code",
   "execution_count": 5,
   "id": "ecf722f7-9e1d-4e8c-8453-382745b83967",
   "metadata": {},
   "outputs": [
    {
     "data": {
      "text/plain": [
       "Tipo materiale\n",
       "Libro moderno          79.94%\n",
       "Audiovisivo             11.6%\n",
       "Risorsa elettronica     8.44%\n",
       "Musica                  0.01%\n",
       "Name: proportion, dtype: object"
      ]
     },
     "execution_count": 5,
     "metadata": {},
     "output_type": "execute_result"
    }
   ],
   "source": [
    "df['Tipo materiale'].value_counts(normalize=True).mul(100).round(2).astype(str) + '%'"
   ]
  },
  {
   "cell_type": "code",
   "execution_count": 6,
   "id": "ccf6b3d8-2ebc-4342-8cf3-4ff85ae3a468",
   "metadata": {},
   "outputs": [
    {
     "name": "stdout",
     "output_type": "stream",
     "text": [
      "Null ages:  0\n"
     ]
    },
    {
     "data": {
      "text/plain": [
       "count    18905.000000\n",
       "mean        49.850198\n",
       "std         15.831696\n",
       "min          0.000000\n",
       "25%         39.000000\n",
       "50%         51.000000\n",
       "75%         63.000000\n",
       "max         94.000000\n",
       "Name: Eta' utente, dtype: float64"
      ]
     },
     "execution_count": 6,
     "metadata": {},
     "output_type": "execute_result"
    },
    {
     "data": {
      "image/png": "[encoded data removed]",
      "text/plain": [
       "<Figure size 640x480 with 1 Axes>"
      ]
     },
     "metadata": {},
     "output_type": "display_data"
    }
   ],
   "source": [
    "df[\"Eta' utente\"] = df[\"Eta' utente\"].fillna(0).astype(int)\n",
    "\n",
    "df[\"Eta' utente\"].hist()\n",
    "print(\"Null ages: \", df[\"Eta' utente\"].isna().sum())\n",
    "df[\"Eta' utente\"].describe()"
   ]
  },
  {
   "cell_type": "code",
   "execution_count": 7,
   "id": "d09b3e09-de2c-4ca7-8848-3fc009882745",
   "metadata": {},
   "outputs": [
    {
     "data": {
      "text/plain": [
       "Tipo utente\n",
       "IMPIEGATO                         32.02%\n",
       "STUDENTE                          19.29%\n",
       "IMPRENDITORE E LIBERO PROFESS.    12.75%\n",
       "RITIRATO DAL LAVORO               10.92%\n",
       "ALTRI LAVORATORI DIPENDENTI        5.73%\n",
       "NON OCCUPATO                       5.71%\n",
       "CASALINGA                          5.19%\n",
       "LAVORATORE AUTONOMO E COADIUV.     3.39%\n",
       "DIRIGENTE                          2.97%\n",
       "ALTRE CATEGORIE NON PROFESSION     0.78%\n",
       "INSEGNANTE                         0.52%\n",
       "BIBLIOTECA SOL                     0.43%\n",
       "OPERAIO                            0.28%\n",
       "BIBLIOTECARIO SOL                  0.01%\n",
       "Name: proportion, dtype: object"
      ]
     },
     "execution_count": 7,
     "metadata": {},
     "output_type": "execute_result"
    }
   ],
   "source": [
    "df['Tipo utente'].value_counts(normalize=True).mul(100).round(2).astype(str) + '%'"
   ]
  },
  {
   "cell_type": "code",
   "execution_count": 8,
   "id": "1296fb09-8d56-4d80-8d37-8dd256380d87",
   "metadata": {},
   "outputs": [
    {
     "data": {
      "image/png": "[encoded data removed]",
      "text/plain": [
       "<Figure size 1000x700 with 1 Axes>"
      ]
     },
     "metadata": {},
     "output_type": "display_data"
    }
   ],
   "source": [
    "boxplot = df.boxplot(column=[\"Eta' utente\"], by=[\"Tipo utente\"], figsize=(10,7), vert=False)"
   ]
  },
  {
   "cell_type": "code",
   "execution_count": 9,
   "id": "37bbdcd8-b56e-4337-945d-c39a0199b45d",
   "metadata": {},
   "outputs": [
    {
     "data": {
      "text/plain": [
       "['Libro consigliato a tutti coloro che vogliono o devono analizzare la prima raccolta di Ungaretti.\\nIl commento ad ogni poesia è fin troppo esaustivo.\\nLa pecca probabilmente è nel linguaggio esageratamente forbito di Ossola.\\nUso insistito di parole complesse e poco conosciuto; citazione in francesce senza la traduzione (non tutti sanno capire il francese), uso volutissimo del latino: hit e nunc, editio princeps, omoioteleutos e così via. ogni tanto bisogna fermarsi e cercare il significato di certe parole, altrimenti la lettura è molto complessa.',\n",
       " \"Un volumetto davvero prezioso che raccoglie epistole e poesie di una personalità cruciale del panorama artistico italiano degli anni '20. Coinvolgente la prefazione di Amelia Rosselli che considerò sempre Scipione un grandissimo poeta, benché nella sua purtroppo breve parabola artistica non avesse composto più di una diecina di poesie. Nelle composizioni di Scipione l'uomo, quasi primitivo, è in un dialogo costante con la terra e le sue creature, di cui ausculta ogni infimo tono e variazione. Da leggere e rileggere con attenzione.\",\n",
       " 'Terzo volumetto di Pizzi. I versi si rincorrono traboccanti di materiale verbale \"lavico\". Da leggere più volte con attenzione.']"
      ]
     },
     "execution_count": 9,
     "metadata": {},
     "output_type": "execute_result"
    }
   ],
   "source": [
    "# BERTopic requires a list as input\n",
    "comments = df['Descrizione commento'].tolist()\n",
    "comments[:3]"
   ]
  },
  {
   "cell_type": "code",
   "execution_count": 10,
   "id": "9f86980d-fe27-4751-8809-7a2c899a4409",
   "metadata": {},
   "outputs": [
    {
     "data": {
      "text/plain": [
       "<bertopic._bertopic.BERTopic at 0x1ce54860760>"
      ]
     },
     "execution_count": 10,
     "metadata": {},
     "output_type": "execute_result"
    }
   ],
   "source": [
    "# {Maarten Grootendorst} https://github.com/MaartenGr/BERTopic\n",
    "# BERTopic is a topic modeling technique that leverages transformers and c-TF-IDF to create dense clusters allowing for easily interpretable topics whilst keeping important words in the topic descriptions. It even supports visualizations similar to LDAvis!\n",
    "\n",
    "topic_model = BERTopic(language=\"italian\", calculate_probabilities=True, verbose=True)\n",
    "topic_model\n"
   ]
  },
  {
   "cell_type": "code",
   "execution_count": 11,
   "id": "3d8b0980-e481-4e6d-b6b1-53d0261bc7fb",
   "metadata": {},
   "outputs": [
    {
     "name": "stderr",
     "output_type": "stream",
     "text": [
      "Batches: 100%|███████████████████████████████████████████████████████████████████████████████████████████████████████████████████| 591/591 [00:34<00:00, 17.05it/s]\n",
      "2023-10-31 15:58:19,668 - BERTopic - Transformed documents to Embeddings\n",
      "2023-10-31 15:58:57,886 - BERTopic - Reduced dimensionality\n",
      "2023-10-31 15:59:25,051 - BERTopic - Clustered reduced embeddings\n"
     ]
    }
   ],
   "source": [
    "topics, probs = topic_model.fit_transform(comments)"
   ]
  },
  {
   "cell_type": "code",
   "execution_count": 12,
   "id": "71d46068-6022-4dfe-8476-4cb36c3f0e15",
   "metadata": {},
   "outputs": [
    {
     "data": {
      "text/plain": [
       "164"
      ]
     },
     "execution_count": 12,
     "metadata": {},
     "output_type": "execute_result"
    }
   ],
   "source": [
    "unique_topics = set(topics)\n",
    "len(unique_topics)"
   ]
  },
  {
   "cell_type": "code",
   "execution_count": 13,
   "id": "2c40349e-7064-41f5-bf80-bfd8228ad37d",
   "metadata": {},
   "outputs": [
    {
     "data": {
      "text/plain": [
       "[(82,\n",
       "  array([0.00313966, 0.00487815, 0.00438091, 0.00305511, 0.00421043,\n",
       "         0.00334194, 0.00205701, 0.00398532, 0.00312845, 0.00436775,\n",
       "         0.00377335, 0.00390815, 0.00829024, 0.0027842 , 0.00292688,\n",
       "         0.00442334, 0.00661636, 0.00350285, 0.00466329, 0.00536575,\n",
       "         0.0095767 , 0.00379855, 0.00196066, 0.00395866, 0.0032866 ,\n",
       "         0.00338925, 0.00450286, 0.0050525 , 0.00516477, 0.0070253 ,\n",
       "         0.00370018, 0.00398727, 0.00297105, 0.00402513, 0.00467455,\n",
       "         0.00430298, 0.01355138, 0.01674892, 0.01045726, 0.00652537,\n",
       "         0.00302329, 0.00441151, 0.00244164, 0.00314831, 0.00547384,\n",
       "         0.00463089, 0.00201523, 0.00424276, 0.00607187, 0.00496192,\n",
       "         0.00579303, 0.00468271, 0.00507633, 0.00650845, 0.00349169,\n",
       "         0.00302443, 0.00346911, 0.00571234, 0.00363158, 0.00271485,\n",
       "         0.00309996, 0.00471908, 0.0038015 , 0.00368955, 0.00287349,\n",
       "         0.00242332, 0.00670327, 0.00360867, 0.00720176, 0.00477012,\n",
       "         0.00349898, 0.00491883, 0.00310673, 0.00506306, 0.00395126,\n",
       "         0.00349807, 0.00460865, 0.00516333, 0.00216777, 0.00381674,\n",
       "         0.00343653, 0.00372134, 0.08669247, 0.00371455, 0.00401301,\n",
       "         0.00472416, 0.0012728 , 0.0048186 , 0.00281119, 0.00534973,\n",
       "         0.00363319, 0.00475574, 0.00204539, 0.00354077, 0.00513424,\n",
       "         0.00539686, 0.00365593, 0.00452326, 0.00358857, 0.00449783,\n",
       "         0.00286463, 0.00322967, 0.00307298, 0.0053586 , 0.00585727,\n",
       "         0.00756501, 0.01074249, 0.00419775, 0.00536144, 0.00585362,\n",
       "         0.00443785, 0.00317132, 0.00294711, 0.00563073, 0.00592204,\n",
       "         0.00266481, 0.00629395, 0.00503355, 0.00449612, 0.01520332,\n",
       "         0.00443969, 0.00320671, 0.00384201, 0.00551359, 0.00493485,\n",
       "         0.00534822, 0.00420892, 0.00310457, 0.00383243, 0.00211042,\n",
       "         0.01560084, 0.00591076, 0.0043824 , 0.00441146, 0.00413535,\n",
       "         0.00532721, 0.0047514 , 0.0030228 , 0.00405295, 0.00421978,\n",
       "         0.00482667, 0.00369967, 0.0021006 , 0.00621345, 0.00311491,\n",
       "         0.00510899, 0.00287981, 0.01497496, 0.0038659 , 0.0033395 ,\n",
       "         0.00296993, 0.00587362, 0.00769743, 0.00599054, 0.00929783,\n",
       "         0.0017957 , 0.00331815, 0.00385995, 0.00432274, 0.00851864,\n",
       "         0.00373112, 0.00366119, 0.01652695])),\n",
       " (-1,\n",
       "  array([0.00200519, 0.00212289, 0.00294497, 0.00189817, 0.00197052,\n",
       "         0.00189999, 0.00139292, 0.00262985, 0.00161113, 0.00275055,\n",
       "         0.00252868, 0.00179751, 0.00865038, 0.00144542, 0.00155943,\n",
       "         0.00235816, 0.00683292, 0.00224443, 0.00244587, 0.00245392,\n",
       "         0.02004111, 0.00191479, 0.00130197, 0.00186903, 0.00198601,\n",
       "         0.00199343, 0.00244087, 0.00298314, 0.00221272, 0.00659291,\n",
       "         0.00182594, 0.00255511, 0.0018197 , 0.00195705, 0.00362488,\n",
       "         0.00239852, 0.0125467 , 0.01169445, 0.00653093, 0.00314949,\n",
       "         0.00181934, 0.00212009, 0.00140067, 0.00162943, 0.00308137,\n",
       "         0.00236167, 0.00113023, 0.00219529, 0.00309563, 0.00298665,\n",
       "         0.0028756 , 0.00318158, 0.00351465, 0.00274969, 0.00171254,\n",
       "         0.00160559, 0.00217544, 0.00243148, 0.00196413, 0.00140041,\n",
       "         0.00173234, 0.00239915, 0.00229326, 0.00189703, 0.00153219,\n",
       "         0.00129966, 0.00281695, 0.00209679, 0.00851532, 0.00241731,\n",
       "         0.0021848 , 0.00303377, 0.00159919, 0.00327926, 0.0020173 ,\n",
       "         0.00169169, 0.00237397, 0.00245743, 0.00131581, 0.00202353,\n",
       "         0.00179749, 0.0022186 , 0.00632142, 0.00188638, 0.00285135,\n",
       "         0.0022497 , 0.00073229, 0.00284827, 0.00192959, 0.00323565,\n",
       "         0.00236184, 0.00341402, 0.00113899, 0.00181156, 0.00331881,\n",
       "         0.00315104, 0.00185735, 0.0033208 , 0.00222703, 0.00223862,\n",
       "         0.00150102, 0.00192578, 0.00179227, 0.00256024, 0.00319467,\n",
       "         0.00477246, 0.00854591, 0.00252449, 0.00331233, 0.00283068,\n",
       "         0.00251699, 0.00170697, 0.00159216, 0.00334595, 0.002458  ,\n",
       "         0.00137386, 0.0044472 , 0.00235083, 0.00211413, 0.00760894,\n",
       "         0.00211289, 0.00190454, 0.00232727, 0.00260624, 0.00318074,\n",
       "         0.00299844, 0.00298676, 0.00183831, 0.00202526, 0.00144448,\n",
       "         0.00662883, 0.00286284, 0.00190009, 0.00308362, 0.00189273,\n",
       "         0.00234453, 0.00245295, 0.00158598, 0.00240847, 0.00239223,\n",
       "         0.00277288, 0.0021739 , 0.00118009, 0.00311026, 0.0018827 ,\n",
       "         0.00232088, 0.0014807 , 0.04402622, 0.00232923, 0.00172894,\n",
       "         0.00151622, 0.00237639, 0.01059835, 0.00416582, 0.00374848,\n",
       "         0.00113349, 0.00166763, 0.00238063, 0.00279668, 0.00343494,\n",
       "         0.00204618, 0.00183733, 0.01389042]))]"
      ]
     },
     "execution_count": 13,
     "metadata": {},
     "output_type": "execute_result"
    }
   ],
   "source": [
    "[(topics[i], probs[i]) for i in range(2)]"
   ]
  },
  {
   "cell_type": "code",
   "execution_count": null,
   "id": "c0aa4b91-419a-4fd8-93d8-bdd250cd02e6",
   "metadata": {},
   "outputs": [],
   "source": [
    "# import nbformat\n",
    "# print(nbformat.__version__)\n",
    "\n",
    "topic_model.visualize_topics()"
   ]
  },
  {
   "cell_type": "code",
   "execution_count": null,
   "id": "f4c24d32-5fe4-4b7d-95ae-9ad24c76b401",
   "metadata": {},
   "outputs": [],
   "source": [
    "topics_pivot = topic_model.get_topic_info()\n",
    "topics_pivot\n"
   ]
  },
  {
   "cell_type": "code",
   "execution_count": null,
   "id": "8a0bd71e-eabf-44a5-bff5-ecad457543c1",
   "metadata": {},
   "outputs": [],
   "source": [
    "events_count = topics_pivot['Count'].sum()\n",
    "events_count\n"
   ]
  },
  {
   "cell_type": "code",
   "execution_count": null,
   "id": "aa3771b8-e4ee-4dd4-91a9-5faf68f58958",
   "metadata": {},
   "outputs": [],
   "source": [
    "def calc_perc(row):\n",
    "  return round(row['Count']*100/events_count, 2)\n",
    "\n",
    "topics_pivot['Perc'] = topics_pivot.apply (lambda row: calc_perc(row), axis=1)\n",
    "topics_pivot"
   ]
  },
  {
   "cell_type": "code",
   "execution_count": null,
   "id": "e2a29461-53a0-483c-a0ba-da37638b4b5d",
   "metadata": {},
   "outputs": [],
   "source": [
    "# we observe the first 25 topics\n",
    "top_topics = 25\n",
    "\n",
    "topics_pivot.head(top_topics).drop([0])"
   ]
  },
  {
   "cell_type": "code",
   "execution_count": null,
   "id": "b58c407e-a952-4089-b75e-8273bbaaab24",
   "metadata": {},
   "outputs": [],
   "source": [
    "# we use np.linspace(0, 1, top_topics) instead of a simple range like range(0, top_topics) is because color maps in Matplotlib, such as plt.cm.rainbow, expect input values in the range [0, 1]. These input values are then mapped to colors in the color map\n",
    "\n",
    "colors = plt.cm.rainbow(np.linspace(0, 1, top_topics))\n",
    "colors"
   ]
  },
  {
   "cell_type": "code",
   "execution_count": null,
   "id": "f04fba79-67fe-4dd7-8f1b-0cb0d49ea55e",
   "metadata": {},
   "outputs": [],
   "source": [
    "# iterator that you can loop over to access each color in the colors list one at a time\n",
    "\n",
    "iter_color = iter(colors)\n",
    "iter_color\n"
   ]
  },
  {
   "cell_type": "code",
   "execution_count": null,
   "id": "3ad1a547-9bb5-40d3-8e05-666c3abb03c3",
   "metadata": {},
   "outputs": [],
   "source": [
    "fig = plt.figure(figsize=(7,10))\n",
    "\n",
    "plt.barh('Name', 'Count',\n",
    "         data=topics_pivot.head(top_topics).drop([0]).sort_values('Count',ascending=True), color=colors)\n",
    "plt.xlabel(\"Count\", size=15)\n",
    "plt.ylabel(\"Topic\", size=15)\n",
    "plt.title(\"Topic Distribution\", size=18)\n",
    "\n",
    "# to visualize the count of topics at the end of the bar\n",
    "for i, v in enumerate(topics_pivot.head(top_topics).drop([0])[\"Count\"].sort_values(ascending=True)):\n",
    "    c = next(iter_color)\n",
    "    plt.text(v, i, \" \"+str(v), color=c, va='center', fontweight='bold')"
   ]
  },
  {
   "cell_type": "code",
   "execution_count": null,
   "id": "581a4289-949b-43a2-a3bb-1a12b9ad206c",
   "metadata": {},
   "outputs": [],
   "source": [
    "from sklearn.feature_extraction.text import TfidfVectorizer\n",
    "\n",
    "# TfidfVectorizer is just one way to convert text data into numerical form. It’s often used because it gives more importance to words that are more meaningful (i.e., words that appear frequently in a document but not in all documents).\n",
    "\n",
    "# In addition to vectorization, you might also need to consider dimensionality reduction techniques (like PCA or t-SNE) if your dataset is high-dimensional.\n",
    "\n",
    "vectorizer = TfidfVectorizer()\n",
    "X = vectorizer.fit_transform(comments)\n",
    "X\n"
   ]
  },
  {
   "cell_type": "code",
   "execution_count": null,
   "id": "c206f0dc-61bb-424c-9ebf-c8acc34f6542",
   "metadata": {},
   "outputs": [],
   "source": [
    "from sklearn.cluster import AgglomerativeClustering\n",
    "\n",
    "cluster = AgglomerativeClustering(n_clusters=None, distance_threshold=0, affinity='euclidean', linkage='ward')\n"
   ]
  },
  {
   "cell_type": "code",
   "execution_count": null,
   "id": "50108f8b-a0aa-45e2-b855-118d3f7a330c",
   "metadata": {},
   "outputs": [],
   "source": [
    "model = cluster.fit(X.toarray())"
   ]
  },
  {
   "cell_type": "code",
   "execution_count": null,
   "id": "f3e5f2fc-09ab-4c84-8454-6f60b2ed9cb9",
   "metadata": {},
   "outputs": [],
   "source": []
  },
  {
   "cell_type": "code",
   "execution_count": null,
   "id": "911f78b4-c525-489c-b737-cfd6cec06a49",
   "metadata": {},
   "outputs": [],
   "source": []
  },
  {
   "cell_type": "code",
   "execution_count": null,
   "id": "c693a128-29d9-4aa2-975f-c0e666a8c4f4",
   "metadata": {},
   "outputs": [],
   "source": []
  },
  {
   "cell_type": "code",
   "execution_count": null,
   "id": "a05f3277-969c-46fa-adf5-cc809cd5a95e",
   "metadata": {},
   "outputs": [],
   "source": []
  },
  {
   "cell_type": "code",
   "execution_count": null,
   "id": "b43fa19a-eb49-4f60-93b1-5e16e67d30dc",
   "metadata": {},
   "outputs": [],
   "source": []
  },
  {
   "cell_type": "code",
   "execution_count": null,
   "id": "d89eb952-9741-4291-a6ad-b57813d375d9",
   "metadata": {},
   "outputs": [],
   "source": []
  },
  {
   "cell_type": "code",
   "execution_count": null,
   "id": "07623a5f-adab-40cc-a722-106c14bbaf27",
   "metadata": {},
   "outputs": [],
   "source": []
  },
  {
   "cell_type": "code",
   "execution_count": null,
   "id": "92107fab-3b35-4447-b115-af29880b74cc",
   "metadata": {},
   "outputs": [],
   "source": []
  },
  {
   "cell_type": "code",
   "execution_count": null,
   "id": "2308c504-8d05-4682-97af-2716defbdad0",
   "metadata": {},
   "outputs": [],
   "source": []
  },
  {
   "cell_type": "code",
   "execution_count": null,
   "id": "bbdc8a59-d25d-46fd-b456-e7aad6899dfb",
   "metadata": {},
   "outputs": [],
   "source": []
  },
  {
   "cell_type": "code",
   "execution_count": null,
   "id": "5cce71a0-4a97-4729-bab8-ddf4e906ded5",
   "metadata": {},
   "outputs": [],
   "source": []
  },
  {
   "cell_type": "code",
   "execution_count": null,
   "id": "21b703e9-f78a-44a3-a283-5c8669477b4a",
   "metadata": {},
   "outputs": [],
   "source": []
  },
  {
   "cell_type": "code",
   "execution_count": null,
   "id": "cfb97121-f2d5-463b-b175-5e20881a7c29",
   "metadata": {},
   "outputs": [],
   "source": []
  }
 ],
 "metadata": {
  "kernelspec": {
   "display_name": "Py310",
   "language": "python",
   "name": "py310"
  },
  "language_info": {
   "codemirror_mode": {
    "name": "ipython",
    "version": 3
   },
   "file_extension": ".py",
   "mimetype": "text/x-python",
   "name": "python",
   "nbconvert_exporter": "python",
   "pygments_lexer": "ipython3",
   "version": "3.10.11"
  }
 },
 "nbformat": 4,
 "nbformat_minor": 5
}
