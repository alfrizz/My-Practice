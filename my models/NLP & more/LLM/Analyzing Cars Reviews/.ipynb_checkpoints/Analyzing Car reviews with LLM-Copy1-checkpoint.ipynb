{
 "cells": [
  {
   "cell_type": "markdown",
   "id": "53ccf226-acc1-4477-9c7b-06f1dda11a73",
   "metadata": {},
   "source": [
    "Car-ing is sharing, an auto dealership company for car sales and rental, is taking their services to the next level thanks to Large Language Models (LLMs).\n",
    "\n",
    "As their newly recruited AI and NLP developer, you've been asked to prototype a chatbot app with multiple functionalities that not only assist customers but also provide support to human agents in the company.\n",
    "\n",
    "The solution should receive textual prompts and use a variety of pre-trained Hugging Face LLMs to respond to a series of tasks, e.g. classifying the sentiment in a car’s text review, answering a customer question, summarizing or translating text, etc."
   ]
  },
  {
   "cell_type": "code",
   "execution_count": 1,
   "id": "c0b59218-7904-44f1-ac79-20f6ed80b8e0",
   "metadata": {},
   "outputs": [
    {
     "name": "stderr",
     "output_type": "stream",
     "text": [
      "C:\\Users\\Alienware\\miniconda3\\envs\\py310\\lib\\site-packages\\tqdm\\auto.py:21: TqdmWarning: IProgress not found. Please update jupyter and ipywidgets. See https://ipywidgets.readthedocs.io/en/stable/user_install.html\n",
      "  from .autonotebook import tqdm as notebook_tqdm\n"
     ]
    }
   ],
   "source": [
    "# !pip install transformers\n",
    "# !pip install evaluate\n",
    "\n",
    "import pandas as pd\n",
    "import os\n",
    "import evaluate\n",
    "import torch\n",
    "\n",
    "from transformers import AutoTokenizer\n",
    "from transformers import AutoModelForQuestionAnswering\n",
    "from transformers import pipeline\n",
    "from transformers import logging\n",
    "logging.set_verbosity(logging.WARNING)"
   ]
  },
  {
   "cell_type": "markdown",
   "id": "87abf218-c94e-44fb-999d-1a12899fb155",
   "metadata": {},
   "source": [
    "1.\n",
    "\n",
    "Use a pre-trained LLM to classify the sentiment of the five car reviews in the car_reviews.csv dataset, and evaluate the classification accuracy and F1 score of predictions.\n",
    "Store the model outputs in predicted_labels, then extract the labels and map them onto a list of {0,1} integer binary labels called predictions.\n",
    "Store the calculated metrics in accuracy_result and f1_result.\n",
    "-----------------------------------------------------------------------------------------------------------------------------"
   ]
  },
  {
   "cell_type": "code",
   "execution_count": 2,
   "id": "b69740e7-158d-49bd-878b-167651ade10d",
   "metadata": {},
   "outputs": [
    {
     "data": {
      "text/html": [
       "<div>\n",
       "<style scoped>\n",
       "    .dataframe tbody tr th:only-of-type {\n",
       "        vertical-align: middle;\n",
       "    }\n",
       "\n",
       "    .dataframe tbody tr th {\n",
       "        vertical-align: top;\n",
       "    }\n",
       "\n",
       "    .dataframe thead th {\n",
       "        text-align: right;\n",
       "    }\n",
       "</style>\n",
       "<table border=\"1\" class=\"dataframe\">\n",
       "  <thead>\n",
       "    <tr style=\"text-align: right;\">\n",
       "      <th></th>\n",
       "      <th>Review</th>\n",
       "      <th>Class</th>\n",
       "    </tr>\n",
       "  </thead>\n",
       "  <tbody>\n",
       "    <tr>\n",
       "      <th>0</th>\n",
       "      <td>I am very satisfied with my 2014 Nissan NV SL....</td>\n",
       "      <td>POSITIVE</td>\n",
       "    </tr>\n",
       "    <tr>\n",
       "      <th>1</th>\n",
       "      <td>The car is fine. It's a bit loud and not very ...</td>\n",
       "      <td>NEGATIVE</td>\n",
       "    </tr>\n",
       "    <tr>\n",
       "      <th>2</th>\n",
       "      <td>My first foreign car. Love it, I would buy ano...</td>\n",
       "      <td>POSITIVE</td>\n",
       "    </tr>\n",
       "    <tr>\n",
       "      <th>3</th>\n",
       "      <td>I've come across numerous reviews praising the...</td>\n",
       "      <td>NEGATIVE</td>\n",
       "    </tr>\n",
       "    <tr>\n",
       "      <th>4</th>\n",
       "      <td>I've been dreaming of owning an SUV for quite ...</td>\n",
       "      <td>POSITIVE</td>\n",
       "    </tr>\n",
       "  </tbody>\n",
       "</table>\n",
       "</div>"
      ],
      "text/plain": [
       "                                              Review     Class\n",
       "0  I am very satisfied with my 2014 Nissan NV SL....  POSITIVE\n",
       "1  The car is fine. It's a bit loud and not very ...  NEGATIVE\n",
       "2  My first foreign car. Love it, I would buy ano...  POSITIVE\n",
       "3  I've come across numerous reviews praising the...  NEGATIVE\n",
       "4  I've been dreaming of owning an SUV for quite ...  POSITIVE"
      ]
     },
     "execution_count": 2,
     "metadata": {},
     "output_type": "execute_result"
    }
   ],
   "source": [
    "car_reviews = pd.read_csv('data/car_reviews.csv', delimiter = ';')\n",
    "car_reviews"
   ]
  },
  {
   "cell_type": "code",
   "execution_count": 3,
   "id": "ded15563-29d5-4769-b417-23355adc6969",
   "metadata": {},
   "outputs": [
    {
     "name": "stderr",
     "output_type": "stream",
     "text": [
      "Some weights of DistilBertForSequenceClassification were not initialized from the model checkpoint at distilbert-base-uncased and are newly initialized: ['classifier.bias', 'classifier.weight', 'pre_classifier.bias', 'pre_classifier.weight']\n",
      "You should probably TRAIN this model on a down-stream task to be able to use it for predictions and inference.\n"
     ]
    },
    {
     "data": {
      "text/plain": [
       "<transformers.pipelines.text_classification.TextClassificationPipeline at 0x27a60df2da0>"
      ]
     },
     "execution_count": 3,
     "metadata": {},
     "output_type": "execute_result"
    }
   ],
   "source": [
    "classifier = pipeline('sentiment-analysis', model='distilbert-base-uncased')\n",
    "classifier"
   ]
  },
  {
   "cell_type": "code",
   "execution_count": 4,
   "id": "7913eb37-a55d-4e73-9d2e-e6f19ffad6bc",
   "metadata": {},
   "outputs": [
    {
     "data": {
      "text/plain": [
       "[1, 0, 1, 0, 1]"
      ]
     },
     "execution_count": 4,
     "metadata": {},
     "output_type": "execute_result"
    }
   ],
   "source": [
    "labels = [1 if car_reviews.Class[i] == 'POSITIVE' else 0 for i in range(car_reviews.shape[0])]\n",
    "labels"
   ]
  },
  {
   "cell_type": "code",
   "execution_count": 5,
   "id": "a8e8a7ea-5a12-4a3f-bf0f-3e4f3462fcde",
   "metadata": {},
   "outputs": [
    {
     "data": {
      "text/plain": [
       "[[{'label': 'LABEL_0', 'score': 0.5093142986297607}],\n",
       " [{'label': 'LABEL_0', 'score': 0.5065034627914429}],\n",
       " [{'label': 'LABEL_1', 'score': 0.5018572211265564}],\n",
       " [{'label': 'LABEL_0', 'score': 0.5169278383255005}],\n",
       " [{'label': 'LABEL_0', 'score': 0.5169855356216431}]]"
      ]
     },
     "execution_count": 5,
     "metadata": {},
     "output_type": "execute_result"
    }
   ],
   "source": [
    "predicted_labels = [classifier(car_reviews.Review[i]) for i in range(car_reviews.shape[0])]\n",
    "predicted_labels"
   ]
  },
  {
   "cell_type": "code",
   "execution_count": 6,
   "id": "5b53ea61-be79-42ed-815a-06c9bb829d63",
   "metadata": {},
   "outputs": [
    {
     "data": {
      "text/plain": [
       "[1, 1, 1, 1, 1]"
      ]
     },
     "execution_count": 6,
     "metadata": {},
     "output_type": "execute_result"
    }
   ],
   "source": [
    "predictions = [1 if predicted_labels[i][0]['score'] > 0.5 else 0 for i in range(len(predicted_labels))]\n",
    "predictions"
   ]
  },
  {
   "cell_type": "code",
   "execution_count": 7,
   "id": "e301b651-c158-4a1b-95e2-c10f4f193c2c",
   "metadata": {},
   "outputs": [
    {
     "data": {
      "text/plain": [
       "{'accuracy': 0.6}"
      ]
     },
     "execution_count": 7,
     "metadata": {},
     "output_type": "execute_result"
    }
   ],
   "source": [
    "accuracy = evaluate.load(\"accuracy\")\n",
    "accuracy_dict = accuracy.compute(references=labels, predictions=predictions)\n",
    "accuracy_dict"
   ]
  },
  {
   "cell_type": "code",
   "execution_count": 8,
   "id": "9703bfd9-b0b2-451e-85ff-386fb5cd4ea4",
   "metadata": {},
   "outputs": [
    {
     "data": {
      "text/plain": [
       "{'f1': 0.7499999999999999}"
      ]
     },
     "execution_count": 8,
     "metadata": {},
     "output_type": "execute_result"
    }
   ],
   "source": [
    "f1 = evaluate.load(\"f1\")\n",
    "f1_dict = f1.compute(references=labels, predictions=predictions)\n",
    "f1_dict"
   ]
  },
  {
   "cell_type": "code",
   "execution_count": 9,
   "id": "ab114445-26ee-40bb-bca3-af2ef558db76",
   "metadata": {},
   "outputs": [
    {
     "data": {
      "text/plain": [
       "0.7499999999999999"
      ]
     },
     "execution_count": 9,
     "metadata": {},
     "output_type": "execute_result"
    }
   ],
   "source": [
    "accuracy_result = accuracy_dict['accuracy']\n",
    "f1_result = f1_dict['f1']\n",
    "f1_result"
   ]
  },
  {
   "cell_type": "markdown",
   "id": "309c2078-2d15-4867-9e86-89c88b792258",
   "metadata": {},
   "source": [
    "2.\n",
    "\n",
    "The company is recently attracting customers from Spain. Extract and pass the first two sentences of the first review in the dataset to an English-to-Spanish translation LLM. Calculate the BLEU score to assess translation quality, using the content in reference_translations.txt as references.\n",
    "Store the translated text generated by the LLM in translated_review.\n",
    "Store the BLEU score metric result in bleu_score.\n",
    "----------------------------------------------------------------------------------------------------------------"
   ]
  },
  {
   "cell_type": "code",
   "execution_count": 10,
   "id": "22187dd9-b1cd-48d7-9542-7c559bee53bd",
   "metadata": {},
   "outputs": [
    {
     "name": "stderr",
     "output_type": "stream",
     "text": [
      "C:\\Users\\Alienware\\miniconda3\\envs\\py310\\lib\\site-packages\\transformers\\models\\marian\\tokenization_marian.py:175: UserWarning: Recommended: pip install sacremoses.\n",
      "  warnings.warn(\"Recommended: pip install sacremoses.\")\n"
     ]
    },
    {
     "data": {
      "text/plain": [
       "<transformers.pipelines.text2text_generation.TranslationPipeline at 0x27a791f5330>"
      ]
     },
     "execution_count": 10,
     "metadata": {},
     "output_type": "execute_result"
    }
   ],
   "source": [
    "translator = pipeline(\"translation\", model=\"Helsinki-NLP/opus-mt-en-es\")\n",
    "translator"
   ]
  },
  {
   "cell_type": "code",
   "execution_count": 11,
   "id": "edeb78c6-1257-4528-8699-d3c59ce9e8ae",
   "metadata": {},
   "outputs": [
    {
     "data": {
      "text/plain": [
       "'I am very satisfied with my 2014 Nissan NV SL. I use this van for my business deliveries and personal use. Camping, road trips, etc. We dont have any children so I store most of the seats in my warehouse. I wanted the passenger van for the rear air conditioning. We drove our van from Florida to California for a Cross Country trip in 2014. We averaged about 18 mpg. We drove thru a lot of rain and It was a very comfortable and stable vehicle. The V8 Nissan Titan engine is a 500k mile engine. It has been tested many times by delivery and trucking companies. This is why Nissan gives you a 5 year or 100k mile bumper to bumper warranty. Many people are scared about driving this van because of its size. But with front and rear sonar sensors, large mirrors and the back up camera. It is easy to drive. The front and rear sensors also monitor the front and rear sides of the bumpers making it easier to park close to objects. Our Nissan NV is a Tow Monster. It pulls our 5000 pound travel trailer like its not even there. I have plenty of power to pass a vehicle if needed. The 5.6 liter engine produces 317 hp. I have owned Chevy and Ford vans and there were not very comfortable and had little cockpit room. The Nissan NV is the only vehicle made that has the engine forward like a pick up truck giving the driver plenty of room and comfort in the cockpit area. I dont have any negatives to say about my NV. This is a wide vehicle. The only modification I would like to see from Nissan is for them to add amber side mirror marker lights.BTW. I now own a 2016 Nissan NVP SL. Love it.'"
      ]
     },
     "execution_count": 11,
     "metadata": {},
     "output_type": "execute_result"
    }
   ],
   "source": [
    "first_review = car_reviews.Review[0]\n",
    "first_review"
   ]
  },
  {
   "cell_type": "code",
   "execution_count": 12,
   "id": "82bd4e60-7598-459f-8b2d-a29bdbd4e1e4",
   "metadata": {},
   "outputs": [
    {
     "data": {
      "text/plain": [
       "[{'translation_text': 'Estoy muy satisfecho con mi Nissan NV SL 2014'},\n",
       " {'translation_text': 'Uso esta camioneta para mis entregas de negocios y uso personal'}]"
      ]
     },
     "execution_count": 12,
     "metadata": {},
     "output_type": "execute_result"
    }
   ],
   "source": [
    "translations_raw = translator(first_review.split('.')[:2])\n",
    "translations_raw"
   ]
  },
  {
   "cell_type": "code",
   "execution_count": 13,
   "id": "14b14352-1977-47f9-9f63-3797365401b8",
   "metadata": {},
   "outputs": [
    {
     "data": {
      "text/plain": [
       "['Estoy muy satisfecho con mi Nissan NV SL 2014',\n",
       " 'Uso esta camioneta para mis entregas de negocios y uso personal']"
      ]
     },
     "execution_count": 13,
     "metadata": {},
     "output_type": "execute_result"
    }
   ],
   "source": [
    "translations = [translations_raw[i]['translation_text'] for i in range(len(translations_raw))]\n",
    "translations"
   ]
  },
  {
   "cell_type": "code",
   "execution_count": 14,
   "id": "96cc6be5-6d27-476d-b48a-50ec01e51017",
   "metadata": {},
   "outputs": [
    {
     "data": {
      "text/plain": [
       "['Estoy muy satisfecho con mi Nissan NV SL 2014. Utilizo esta camioneta para mis entregas comerciales y uso personal.\\n',\n",
       " 'Estoy muy satisfecho con mi Nissan NV SL 2014. Uso esta furgoneta para mis entregas comerciales y uso personal.']"
      ]
     },
     "execution_count": 14,
     "metadata": {},
     "output_type": "execute_result"
    }
   ],
   "source": [
    "# Load reference translations from file\n",
    "with open(\"data/reference_translations.txt\", 'r') as file:\n",
    "    lines = file.readlines()\n",
    "\n",
    "lines"
   ]
  },
  {
   "cell_type": "code",
   "execution_count": 15,
   "id": "5117ddee-e2b0-4bde-a184-7577fab513e4",
   "metadata": {},
   "outputs": [
    {
     "data": {
      "text/plain": [
       "['Estoy muy satisfecho con mi Nissan NV SL 2014. Utilizo esta camioneta para mis entregas comerciales y uso personal.',\n",
       " 'Estoy muy satisfecho con mi Nissan NV SL 2014. Uso esta furgoneta para mis entregas comerciales y uso personal.']"
      ]
     },
     "execution_count": 15,
     "metadata": {},
     "output_type": "execute_result"
    }
   ],
   "source": [
    "references_sentences = [line.strip() for line in lines]\n",
    "references_sentences"
   ]
  },
  {
   "cell_type": "code",
   "execution_count": 16,
   "id": "50193a57-0400-44ff-963a-fc81af55e55a",
   "metadata": {},
   "outputs": [
    {
     "data": {
      "text/plain": [
       "{'bleu': 0.20645953673295725,\n",
       " 'precisions': [0.85, 0.7222222222222222, 0.5625, 0.42857142857142855],\n",
       " 'brevity_penalty': 0.33287108369807955,\n",
       " 'length_ratio': 0.47619047619047616,\n",
       " 'translation_length': 20,\n",
       " 'reference_length': 42}"
      ]
     },
     "execution_count": 16,
     "metadata": {},
     "output_type": "execute_result"
    }
   ],
   "source": [
    "bleu = evaluate.load(\"bleu\")\n",
    "bleu_score = bleu.compute(references=references_sentences, predictions=translations)\n",
    "bleu_score"
   ]
  },
  {
   "cell_type": "markdown",
   "id": "16154702-44f2-4a2b-b4d0-424ffc2eb3ad",
   "metadata": {},
   "source": [
    "3.\n",
    "\n",
    "The 2nd review in the dataset emphasizes brand aspects. Load an extractive QA LLM such as \"deepset/minilm-uncased-squad2\" to formulate the question \"What did he like about the brand?\" and obtain an answer.\n",
    "Use question and context for the two variables containing the LLM inputs: question and context.\n",
    "Store the actual text answer in answer.\n",
    "--------------------------------------------------------------------------------------------------------------------------"
   ]
  },
  {
   "cell_type": "code",
   "execution_count": 17,
   "id": "03b45fa1-8b3e-44c9-9d6f-813cd34d5a8b",
   "metadata": {},
   "outputs": [
    {
     "name": "stderr",
     "output_type": "stream",
     "text": [
      "Some weights of the model checkpoint at deepset/minilm-uncased-squad2 were not used when initializing BertForQuestionAnswering: ['bert.pooler.dense.bias', 'bert.pooler.dense.weight']\n",
      "- This IS expected if you are initializing BertForQuestionAnswering from the checkpoint of a model trained on another task or with another architecture (e.g. initializing a BertForSequenceClassification model from a BertForPreTraining model).\n",
      "- This IS NOT expected if you are initializing BertForQuestionAnswering from the checkpoint of a model that you expect to be exactly identical (initializing a BertForSequenceClassification model from a BertForSequenceClassification model).\n"
     ]
    },
    {
     "data": {
      "text/plain": [
       "\"The car is fine. It's a bit loud and not very powerful. On one hand, compared to its peers, the interior is well-built. The transmission failed a few years ago, and the dealer replaced it under warranty with no issues. Now, about 60k miles later, the transmission is failing again. It sounds like a truck, and the issues are well-documented. The dealer tells me it is normal, refusing to do anything to resolve the issue. After owning the car for 4 years, there are many other vehicles I would purchase over this one. Initially, I really liked what the brand is about: ride quality, reliability, etc. But I will not purchase another one. Despite these concerns, I must say, the level of comfort in the car has always been satisfactory, but not worth the rest of issues found.\""
      ]
     },
     "execution_count": 17,
     "metadata": {},
     "output_type": "execute_result"
    }
   ],
   "source": [
    "# Instantiate model and tokenizer\n",
    "model_ckp = \"deepset/minilm-uncased-squad2\"\n",
    "tokenizer = AutoTokenizer.from_pretrained(model_ckp)\n",
    "model = AutoModelForQuestionAnswering.from_pretrained(model_ckp)\n",
    "\n",
    "# Define context and question, and tokenize them\n",
    "context = car_reviews.Review[1]\n",
    "context"
   ]
  },
  {
   "cell_type": "code",
   "execution_count": 18,
   "id": "45f99ded-faf0-438d-8f4c-df8e5e174116",
   "metadata": {},
   "outputs": [
    {
     "data": {
      "text/plain": [
       "{'input_ids': tensor([[  101,  2054,  2106,  2002,  2066,  2055,  1996,  4435,  1029,   102,\n",
       "          1996,  2482,  2003,  2986,  1012,  2009,  1005,  1055,  1037,  2978,\n",
       "          5189,  1998,  2025,  2200,  3928,  1012,  2006,  2028,  2192,  1010,\n",
       "          4102,  2000,  2049, 12746,  1010,  1996,  4592,  2003,  2092,  1011,\n",
       "          2328,  1012,  1996,  6726,  3478,  1037,  2261,  2086,  3283,  1010,\n",
       "          1998,  1996, 11033,  2999,  2009,  2104, 10943,  2100,  2007,  2053,\n",
       "          3314,  1012,  2085,  1010,  2055,  3438,  2243,  2661,  2101,  1010,\n",
       "          1996,  6726,  2003,  7989,  2153,  1012,  2009,  4165,  2066,  1037,\n",
       "          4744,  1010,  1998,  1996,  3314,  2024,  2092,  1011,  8832,  1012,\n",
       "          1996, 11033,  4136,  2033,  2009,  2003,  3671,  1010, 11193,  2000,\n",
       "          2079,  2505,  2000, 10663,  1996,  3277,  1012,  2044, 19273,  1996,\n",
       "          2482,  2005,  1018,  2086,  1010,  2045,  2024,  2116,  2060,  4683,\n",
       "          1045,  2052,  5309,  2058,  2023,  2028,  1012,  3322,  1010,  1045,\n",
       "          2428,  4669,  2054,  1996,  4435,  2003,  2055,  1024,  4536,  3737,\n",
       "          1010, 15258,  1010,  4385,  1012,  2021,  1045,  2097,  2025,  5309,\n",
       "          2178,  2028,  1012,  2750,  2122,  5936,  1010,  1045,  2442,  2360,\n",
       "          1010,  1996,  2504,  1997,  7216,  1999,  1996,  2482,  2038,  2467,\n",
       "          2042, 23045,  1010,  2021,  2025,  4276,  1996,  2717,  1997,  3314,\n",
       "          2179,  1012,   102]]), 'token_type_ids': tensor([[0, 0, 0, 0, 0, 0, 0, 0, 0, 0, 1, 1, 1, 1, 1, 1, 1, 1, 1, 1, 1, 1, 1, 1,\n",
       "         1, 1, 1, 1, 1, 1, 1, 1, 1, 1, 1, 1, 1, 1, 1, 1, 1, 1, 1, 1, 1, 1, 1, 1,\n",
       "         1, 1, 1, 1, 1, 1, 1, 1, 1, 1, 1, 1, 1, 1, 1, 1, 1, 1, 1, 1, 1, 1, 1, 1,\n",
       "         1, 1, 1, 1, 1, 1, 1, 1, 1, 1, 1, 1, 1, 1, 1, 1, 1, 1, 1, 1, 1, 1, 1, 1,\n",
       "         1, 1, 1, 1, 1, 1, 1, 1, 1, 1, 1, 1, 1, 1, 1, 1, 1, 1, 1, 1, 1, 1, 1, 1,\n",
       "         1, 1, 1, 1, 1, 1, 1, 1, 1, 1, 1, 1, 1, 1, 1, 1, 1, 1, 1, 1, 1, 1, 1, 1,\n",
       "         1, 1, 1, 1, 1, 1, 1, 1, 1, 1, 1, 1, 1, 1, 1, 1, 1, 1, 1, 1, 1, 1, 1, 1,\n",
       "         1, 1, 1, 1, 1, 1, 1, 1, 1, 1, 1, 1, 1, 1, 1]]), 'attention_mask': tensor([[1, 1, 1, 1, 1, 1, 1, 1, 1, 1, 1, 1, 1, 1, 1, 1, 1, 1, 1, 1, 1, 1, 1, 1,\n",
       "         1, 1, 1, 1, 1, 1, 1, 1, 1, 1, 1, 1, 1, 1, 1, 1, 1, 1, 1, 1, 1, 1, 1, 1,\n",
       "         1, 1, 1, 1, 1, 1, 1, 1, 1, 1, 1, 1, 1, 1, 1, 1, 1, 1, 1, 1, 1, 1, 1, 1,\n",
       "         1, 1, 1, 1, 1, 1, 1, 1, 1, 1, 1, 1, 1, 1, 1, 1, 1, 1, 1, 1, 1, 1, 1, 1,\n",
       "         1, 1, 1, 1, 1, 1, 1, 1, 1, 1, 1, 1, 1, 1, 1, 1, 1, 1, 1, 1, 1, 1, 1, 1,\n",
       "         1, 1, 1, 1, 1, 1, 1, 1, 1, 1, 1, 1, 1, 1, 1, 1, 1, 1, 1, 1, 1, 1, 1, 1,\n",
       "         1, 1, 1, 1, 1, 1, 1, 1, 1, 1, 1, 1, 1, 1, 1, 1, 1, 1, 1, 1, 1, 1, 1, 1,\n",
       "         1, 1, 1, 1, 1, 1, 1, 1, 1, 1, 1, 1, 1, 1, 1]])}"
      ]
     },
     "execution_count": 18,
     "metadata": {},
     "output_type": "execute_result"
    }
   ],
   "source": [
    "question = \"What did he like about the brand?\"\n",
    "inputs = tokenizer(question, context, return_tensors=\"pt\")\n",
    "inputs"
   ]
  },
  {
   "cell_type": "code",
   "execution_count": 19,
   "id": "bb94ea3a-f2e9-4366-88ff-d1c7605d0974",
   "metadata": {},
   "outputs": [
    {
     "data": {
      "text/plain": [
       "QuestionAnsweringModelOutput(loss=None, start_logits=tensor([[ 2.2762, -6.2343, -6.0321, -6.0678, -6.0882, -6.0398, -6.0916, -6.3243,\n",
       "         -6.6169,  2.2762, -4.1784, -5.3074, -6.0259, -5.0759, -6.3563, -4.7436,\n",
       "         -6.3526, -6.4298, -5.7884, -5.7856, -5.1914, -6.4162, -4.9813, -5.8880,\n",
       "         -6.1990, -6.5654, -5.0210, -6.2009, -6.6289, -6.4944, -5.6861, -6.2675,\n",
       "         -6.1552, -6.4367, -6.4137, -5.1342, -5.3643, -6.2587, -5.5127, -6.2846,\n",
       "         -6.5086, -6.5867, -5.4555, -5.4227, -6.3117, -6.0545, -6.1566, -6.4791,\n",
       "         -6.6384, -6.8284, -6.2884, -5.4548, -5.0252, -6.0445, -6.5075, -5.9411,\n",
       "         -6.0409, -6.8019, -6.3508, -5.8416, -6.7474, -6.7375, -6.0882, -6.3069,\n",
       "         -5.2681, -5.4771, -6.5445, -6.5645, -6.5778, -6.5040, -5.7578, -5.9364,\n",
       "         -6.3930, -6.5072, -6.7121, -6.6489, -5.7286, -6.0742, -6.1914, -5.8883,\n",
       "         -6.2878, -6.8106, -6.4051, -6.0894, -6.1538, -6.4427, -6.1129, -6.5051,\n",
       "         -6.7101, -6.6582, -3.8438, -4.4204, -5.9236, -5.8944, -5.1940, -6.0101,\n",
       "         -5.1710, -6.7102, -5.3207, -6.3170, -6.3437, -6.6149, -6.3897, -6.2319,\n",
       "         -6.2741, -6.7939, -6.3751, -3.2043, -4.9956, -5.6109, -5.8733, -5.5840,\n",
       "         -4.4363, -6.3063, -6.0574, -4.4409, -5.7468, -5.0566, -5.6441, -5.5577,\n",
       "         -4.8432, -5.9208, -5.9335, -5.6904, -5.5082, -6.2614, -4.3558, -0.1342,\n",
       "         -4.2098,  1.3126, -0.0211, -2.1085,  0.5149, -0.6549, -1.4021, -5.1147,\n",
       "         -4.0444,  1.1624,  6.5843, -0.4191, -4.1999,  0.0190, -5.4061, -3.7833,\n",
       "         -3.0379, -2.7572, -4.7838, -5.2645, -5.0845, -6.1400, -6.0869, -6.1631,\n",
       "         -6.0246, -5.2798, -6.0814, -6.0982, -6.5720, -5.8292, -6.1484, -6.5104,\n",
       "         -6.3216, -4.4269, -3.7098, -5.9750, -2.5570, -6.1964, -5.7527, -6.2070,\n",
       "         -6.1268, -5.2331, -6.1594, -5.1747, -6.8336, -6.0148, -4.8801, -6.1285,\n",
       "         -6.1785, -6.4428, -6.5086, -6.2561, -6.7754, -6.7826,  2.2762]]), end_logits=tensor([[ 1.7217, -5.5849, -5.7638, -5.7849, -5.7597, -5.9993, -6.0658, -5.7188,\n",
       "         -5.3955,  1.7217, -6.4926, -5.5980, -6.0494, -3.9630, -3.8977, -6.5789,\n",
       "         -5.9050, -5.7757, -5.6061, -6.1973, -5.4223, -6.0774, -6.5524, -6.3096,\n",
       "         -3.7424, -4.1772, -6.8504, -6.1628, -5.5142, -5.6960, -6.6004, -6.4772,\n",
       "         -6.4225, -5.5627, -5.8090, -6.6598, -6.0527, -6.1480, -6.3114, -6.1945,\n",
       "         -4.6297, -4.6909, -6.5800, -5.8811, -5.8286, -6.1960, -6.3269, -5.9047,\n",
       "         -5.5221, -5.1942, -6.2089, -6.5062, -4.7839, -6.3639, -5.9842, -6.4674,\n",
       "         -6.3350, -5.2968, -6.2943, -6.3907, -5.1605, -5.3773, -6.3443, -6.1900,\n",
       "         -6.7503, -6.4986, -5.6607, -5.6428, -5.8623, -6.0834, -6.6467, -6.1517,\n",
       "         -6.2530, -5.6364, -5.6786, -5.2648, -6.5790, -6.2122, -6.3331, -6.5364,\n",
       "         -5.1746, -5.4133, -6.2698, -6.5477, -6.2277, -6.2842, -6.4320, -6.1782,\n",
       "         -5.4090, -5.1533, -6.2739, -4.5883, -6.2049, -5.5660, -6.5231, -6.2561,\n",
       "         -4.0107, -4.7839, -6.1106, -6.0624, -6.2059, -5.4922, -5.8332, -6.1128,\n",
       "         -6.2036, -4.6374, -5.0095, -6.3997, -6.4959, -6.2846, -4.9585, -6.5286,\n",
       "         -5.9795, -4.9209, -3.8251, -6.6017, -6.3675, -6.3518, -6.1716, -3.9460,\n",
       "         -5.4405, -6.1387, -5.3452, -6.0140, -6.2078, -3.3367, -2.8690, -2.9335,\n",
       "         -4.3813, -3.2139, -3.7768, -3.6477, -4.3307, -5.9965, -4.2802, -5.3511,\n",
       "         -0.8512, -1.1055,  0.1324,  2.7504, -1.1518,  4.6218,  0.1214,  2.6589,\n",
       "          4.1670, -4.1143, -5.8860, -6.2337, -5.9412, -5.8832, -5.9582, -1.9777,\n",
       "         -2.0568, -6.7672, -6.4071, -5.4718, -5.6850, -5.9542, -6.3319, -5.8220,\n",
       "         -5.9721, -6.8000, -6.4552, -6.4716, -2.5971, -6.2833, -6.5310, -5.0169,\n",
       "         -6.2512, -6.3676, -6.3587, -4.4565, -4.9604, -6.3348, -6.5119, -6.0018,\n",
       "         -6.1153, -5.8433, -6.1410, -5.7084, -4.6369, -4.4519,  1.7217]]), hidden_states=None, attentions=None)"
      ]
     },
     "execution_count": 19,
     "metadata": {},
     "output_type": "execute_result"
    }
   ],
   "source": [
    "with torch.no_grad():\n",
    "    outputs = model(**inputs)\n",
    "\n",
    "outputs # contains the most likely position probability of the start and end of the answer string (start_logit, end_logit)"
   ]
  },
  {
   "cell_type": "code",
   "execution_count": 20,
   "id": "8ec20745-d4e0-4dd3-8c3b-1e103023194c",
   "metadata": {},
   "outputs": [
    {
     "data": {
      "text/plain": [
       "(138, 141)"
      ]
     },
     "execution_count": 20,
     "metadata": {},
     "output_type": "execute_result"
    }
   ],
   "source": [
    "answer_start_index = int(outputs.start_logits.argmax())\n",
    "answer_end_index = int(outputs.end_logits.argmax())\n",
    "answer_start_index, answer_end_index"
   ]
  },
  {
   "cell_type": "code",
   "execution_count": 21,
   "id": "e88b9f82-fe23-4e49-ad6a-be1bce88f165",
   "metadata": {},
   "outputs": [
    {
     "data": {
      "text/plain": [
       "'ride quality, reliability'"
      ]
     },
     "execution_count": 21,
     "metadata": {},
     "output_type": "execute_result"
    }
   ],
   "source": [
    "answer = tokenizer.decode(inputs['input_ids'][0][answer_start_index:answer_end_index+1])\n",
    "answer"
   ]
  },
  {
   "cell_type": "markdown",
   "id": "604a7df1-0d23-46ac-8754-92beb6eead0d",
   "metadata": {},
   "source": [
    "4.\n",
    "\n",
    "Summarize the last review in the dataset, into approximately 50-55 tokens long. Store it in the variable summarized_text.\n",
    "\n",
    "------------------------------------------------------------------------------------------------------------"
   ]
  },
  {
   "cell_type": "code",
   "execution_count": 22,
   "id": "cb0b6f06-4e31-4867-b01e-cf46e47060e6",
   "metadata": {},
   "outputs": [
    {
     "data": {
      "text/plain": [
       "<transformers.pipelines.text2text_generation.SummarizationPipeline at 0x27a1feaadd0>"
      ]
     },
     "execution_count": 22,
     "metadata": {},
     "output_type": "execute_result"
    }
   ],
   "source": [
    "model_name = \"cnicu/t5-small-booksum\"\n",
    "summarizer = pipeline(\"summarization\", model=model_name)\n",
    "summarizer"
   ]
  },
  {
   "cell_type": "code",
   "execution_count": 23,
   "id": "6bfcd369-7ad6-4938-9cba-41c0ca6e53eb",
   "metadata": {},
   "outputs": [
    {
     "data": {
      "text/plain": [
       "\"I've been dreaming of owning an SUV for quite a while, but I've been driving cars that were already paid for during an extended period. I ultimately made the decision to transition to a brand-new car, which, of course, involved taking on new payments. However, given that I don't drive extensively, I was inclined to avoid a substantial financial commitment. The Nissan Rogue provides me with the desired SUV experience without burdening me with an exorbitant payment; the financial arrangement is quite reasonable. Handling and styling are great; I have hauled 12 bags of mulch in the back with the seats down and could have held more. I am VERY satisfied overall. I find myself needing to exercise extra caution when making lane changes, particularly owing to the blind spots resulting from the small side windows situated towards the rear of the vehicle. To address this concern, I am actively engaged in making adjustments to my mirrors and consciously reducing the frequency of lane changes. The engine delivers strong performance, and the ride is really smooth.\""
      ]
     },
     "execution_count": 23,
     "metadata": {},
     "output_type": "execute_result"
    }
   ],
   "source": [
    "last_review = car_reviews.Review.iloc[-1]\n",
    "last_review"
   ]
  },
  {
   "cell_type": "code",
   "execution_count": 24,
   "id": "86c85648-ac1b-4675-a8b9-68e6ed87ad21",
   "metadata": {},
   "outputs": [
    {
     "data": {
      "text/plain": [
       "[{'summary_text': 'the Nissan Rogue provides me with the desired SUV experience without burdening me with an exorbitant payment; the financial arrangement is quite reasonable. I have hauled 12 bags of mulch in the back with the seats down and could have held more. I'}]"
      ]
     },
     "execution_count": 24,
     "metadata": {},
     "output_type": "execute_result"
    }
   ],
   "source": [
    "outputs = summarizer(last_review, max_length=54)\n",
    "outputs"
   ]
  },
  {
   "cell_type": "code",
   "execution_count": 25,
   "id": "a1caf829-01e5-4171-ba72-fabe10203f58",
   "metadata": {},
   "outputs": [
    {
     "data": {
      "text/plain": [
       "'the Nissan Rogue provides me with the desired SUV experience without burdening me with an exorbitant payment; the financial arrangement is quite reasonable. I have hauled 12 bags of mulch in the back with the seats down and could have held more. I'"
      ]
     },
     "execution_count": 25,
     "metadata": {},
     "output_type": "execute_result"
    }
   ],
   "source": [
    "summarized_text = outputs[0]['summary_text']\n",
    "summarized_text"
   ]
  },
  {
   "cell_type": "code",
   "execution_count": null,
   "id": "cbb4867c-8aab-4d93-b133-7d36e6e18f77",
   "metadata": {},
   "outputs": [],
   "source": []
  },
  {
   "cell_type": "code",
   "execution_count": null,
   "id": "cf16ce85-9eec-460e-b66a-adaa14a2dd4f",
   "metadata": {},
   "outputs": [],
   "source": []
  },
  {
   "cell_type": "code",
   "execution_count": null,
   "id": "a04f362c-f586-494f-9ab7-cfae4b76d564",
   "metadata": {},
   "outputs": [],
   "source": []
  }
 ],
 "metadata": {
  "kernelspec": {
   "display_name": "Py310",
   "language": "python",
   "name": "py310"
  },
  "language_info": {
   "codemirror_mode": {
    "name": "ipython",
    "version": 3
   },
   "file_extension": ".py",
   "mimetype": "text/x-python",
   "name": "python",
   "nbconvert_exporter": "python",
   "pygments_lexer": "ipython3",
   "version": "3.10.11"
  }
 },
 "nbformat": 4,
 "nbformat_minor": 5
}
