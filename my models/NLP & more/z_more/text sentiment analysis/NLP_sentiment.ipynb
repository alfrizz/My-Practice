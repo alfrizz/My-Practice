{
 "cells": [
  {
   "cell_type": "code",
   "execution_count": 1,
   "id": "eed7d786-0cbb-450f-8fb7-d114b1174a77",
   "metadata": {},
   "outputs": [],
   "source": [
    "import nltk\n",
    "from nltk.tokenize import word_tokenize\n",
    "from nltk.stem import WordNetLemmatizer\n",
    "import os\n",
    "import matplotlib.pyplot as plt\n",
    "import pandas as pd\n",
    "import numpy as np\n",
    "import random\n",
    "import pickle\n",
    "from collections import Counter\n",
    "from sklearn.model_selection import train_test_split\n",
    "import tensorflow as tf\n",
    "from tensorflow.keras.callbacks import EarlyStopping\n",
    "from tensorflow.keras.utils import to_categorical\n",
    "import gc\n"
   ]
  },
  {
   "cell_type": "code",
   "execution_count": 2,
   "id": "da620f91-26ce-4c3c-9917-c5167e409239",
   "metadata": {},
   "outputs": [],
   "source": [
    "def create_lexicon (directory=os.getcwd(), max_quant=0.998, min_quant=0.972, visualize=False):\n",
    "    \n",
    "    all_words = []\n",
    "    lemmatizer = WordNetLemmatizer()\n",
    "\n",
    "    for filename in os.listdir(directory):\n",
    "        if filename.endswith('.txt'):\n",
    "            with open(filename, 'r') as file:\n",
    "                for line in file:\n",
    "                    words_in_line = word_tokenize(line)\n",
    "                    all_words += words_in_line\n",
    "        \n",
    "    all_words_lem = [lemmatizer.lemmatize(word) for word in all_words]\n",
    "    all_words_cnt = Counter(all_words_lem)\n",
    "    \n",
    "    freq_list = [freq for _ , freq in all_words_cnt.items()]\n",
    "    max_freq = np.quantile(freq_list, max_quant)\n",
    "    min_freq = np.quantile(freq_list, min_quant)\n",
    "\n",
    "    all_words_filt = {word : freq for word, freq in all_words_cnt.items() if  min_freq < freq < max_freq}\n",
    "    freq_list_filt = [freq for _ , freq in all_words_filt.items()]\n",
    "    words_list_filt = [word for word , _ in all_words_filt.items()]\n",
    "    \n",
    "    if visualize:\n",
    "        print ('number of words in the filtered dictionary:', len(freq_list_filt))\n",
    "        print ('max repetitions considered:', max_freq)\n",
    "        print ('min repetitions considered:', min_freq)\n",
    "        plt.hist(freq_list_filt, bins = len(freq_list_filt))\n",
    "        plt.show()\n",
    "    \n",
    "    return words_list_filt"
   ]
  },
  {
   "cell_type": "code",
   "execution_count": 3,
   "id": "9d87d354-67ba-42b2-87c1-5427d6743ad2",
   "metadata": {},
   "outputs": [],
   "source": [
    "def create_dataframe (lexicon, sample, is_positive):\n",
    "    \n",
    "    lemmatizer = WordNetLemmatizer()\n",
    "    dataset = []\n",
    "    label = 1 if is_positive else 0\n",
    "    \n",
    "    with open(sample, 'r') as file:\n",
    "        for line in file:\n",
    "            line_tokenized = word_tokenize(line)\n",
    "            line_lemmatized = [lemmatizer.lemmatize(line_tokenized) for line_tokenized in line_tokenized]\n",
    "            feature = np.zeros(len(lexicon))\n",
    "            \n",
    "            for word in line_lemmatized:\n",
    "                if word in lexicon:\n",
    "                    feature[lexicon.index(word)] += 1\n",
    "                    \n",
    "            dataset.append([feature, label])\n",
    "        \n",
    "        dataframe = pd.DataFrame(dataset, columns=['text_encod', 'label']) # .reset_index(drop = True)\n",
    "\n",
    "    return dataframe"
   ]
  },
  {
   "cell_type": "code",
   "execution_count": 4,
   "id": "0a956577-49a0-4882-afb3-aa59381790c1",
   "metadata": {},
   "outputs": [],
   "source": [
    "def merge_n_split_df(pos_file, neg_file):\n",
    "    \n",
    "    lexicon = create_lexicon()\n",
    "\n",
    "    pos_df = create_dataframe(lexicon, pos_file, is_positive = True)\n",
    "    neg_df = create_dataframe(lexicon, neg_file, is_positive = False)\n",
    "\n",
    "    full_dataframe = pd.concat([pos_df, neg_df]) #, ignore_index = True\n",
    "    \n",
    "    train_x, test_x, train_y, test_y  = train_test_split(full_dataframe['text_encod'], full_dataframe['label'], \n",
    "                                                        test_size=0.1, shuffle=True)\n",
    "    \n",
    "\n",
    "    return train_x, test_x, train_y, test_y"
   ]
  },
  {
   "cell_type": "code",
   "execution_count": 5,
   "id": "748c4b08-851d-4625-a3ee-a4ff032892eb",
   "metadata": {},
   "outputs": [
    {
     "ename": "UnicodeDecodeError",
     "evalue": "'charmap' codec can't decode byte 0x8f in position 4965: character maps to <undefined>",
     "output_type": "error",
     "traceback": [
      "\u001b[1;31m---------------------------------------------------------------------------\u001b[0m",
      "\u001b[1;31mUnicodeDecodeError\u001b[0m                        Traceback (most recent call last)",
      "Cell \u001b[1;32mIn[5], line 3\u001b[0m\n\u001b[0;32m      1\u001b[0m \u001b[38;5;66;03m# if __name__ == '__main__':\u001b[39;00m\n\u001b[1;32m----> 3\u001b[0m train_x, test_x, train_y, test_y \u001b[38;5;241m=\u001b[39m \u001b[43mmerge_n_split_df\u001b[49m\u001b[43m(\u001b[49m\u001b[43mpos_file\u001b[49m\u001b[43m \u001b[49m\u001b[38;5;241;43m=\u001b[39;49m\u001b[43m \u001b[49m\u001b[38;5;124;43m'\u001b[39;49m\u001b[38;5;124;43mpos.txt\u001b[39;49m\u001b[38;5;124;43m'\u001b[39;49m\u001b[43m,\u001b[49m\u001b[43m \u001b[49m\u001b[43mneg_file\u001b[49m\u001b[43m \u001b[49m\u001b[38;5;241;43m=\u001b[39;49m\u001b[43m \u001b[49m\u001b[38;5;124;43m'\u001b[39;49m\u001b[38;5;124;43mneg.txt\u001b[39;49m\u001b[38;5;124;43m'\u001b[39;49m\u001b[43m)\u001b[49m\n\u001b[0;32m      4\u001b[0m merge_n_split_df(pos_file \u001b[38;5;241m=\u001b[39m \u001b[38;5;124m'\u001b[39m\u001b[38;5;124mpos.txt\u001b[39m\u001b[38;5;124m'\u001b[39m, neg_file \u001b[38;5;241m=\u001b[39m \u001b[38;5;124m'\u001b[39m\u001b[38;5;124mneg.txt\u001b[39m\u001b[38;5;124m'\u001b[39m)\n",
      "Cell \u001b[1;32mIn[4], line 3\u001b[0m, in \u001b[0;36mmerge_n_split_df\u001b[1;34m(pos_file, neg_file)\u001b[0m\n\u001b[0;32m      1\u001b[0m \u001b[38;5;28;01mdef\u001b[39;00m \u001b[38;5;21mmerge_n_split_df\u001b[39m(pos_file, neg_file):\n\u001b[1;32m----> 3\u001b[0m     lexicon \u001b[38;5;241m=\u001b[39m \u001b[43mcreate_lexicon\u001b[49m\u001b[43m(\u001b[49m\u001b[43m)\u001b[49m\n\u001b[0;32m      5\u001b[0m     pos_df \u001b[38;5;241m=\u001b[39m create_dataframe(lexicon, pos_file, is_positive \u001b[38;5;241m=\u001b[39m \u001b[38;5;28;01mTrue\u001b[39;00m)\n\u001b[0;32m      6\u001b[0m     neg_df \u001b[38;5;241m=\u001b[39m create_dataframe(lexicon, neg_file, is_positive \u001b[38;5;241m=\u001b[39m \u001b[38;5;28;01mFalse\u001b[39;00m)\n",
      "Cell \u001b[1;32mIn[2], line 9\u001b[0m, in \u001b[0;36mcreate_lexicon\u001b[1;34m(directory, max_quant, min_quant, visualize)\u001b[0m\n\u001b[0;32m      7\u001b[0m \u001b[38;5;28;01mif\u001b[39;00m filename\u001b[38;5;241m.\u001b[39mendswith(\u001b[38;5;124m'\u001b[39m\u001b[38;5;124m.txt\u001b[39m\u001b[38;5;124m'\u001b[39m):\n\u001b[0;32m      8\u001b[0m     \u001b[38;5;28;01mwith\u001b[39;00m \u001b[38;5;28mopen\u001b[39m(filename, \u001b[38;5;124m'\u001b[39m\u001b[38;5;124mr\u001b[39m\u001b[38;5;124m'\u001b[39m) \u001b[38;5;28;01mas\u001b[39;00m file:\n\u001b[1;32m----> 9\u001b[0m         \u001b[38;5;28;01mfor\u001b[39;00m line \u001b[38;5;129;01min\u001b[39;00m file:\n\u001b[0;32m     10\u001b[0m             words_in_line \u001b[38;5;241m=\u001b[39m word_tokenize(line)\n\u001b[0;32m     11\u001b[0m             all_words \u001b[38;5;241m+\u001b[39m\u001b[38;5;241m=\u001b[39m words_in_line\n",
      "File \u001b[1;32m~\\miniconda3\\envs\\py309\\lib\\encodings\\cp1252.py:23\u001b[0m, in \u001b[0;36mIncrementalDecoder.decode\u001b[1;34m(self, input, final)\u001b[0m\n\u001b[0;32m     22\u001b[0m \u001b[38;5;28;01mdef\u001b[39;00m \u001b[38;5;21mdecode\u001b[39m(\u001b[38;5;28mself\u001b[39m, \u001b[38;5;28minput\u001b[39m, final\u001b[38;5;241m=\u001b[39m\u001b[38;5;28;01mFalse\u001b[39;00m):\n\u001b[1;32m---> 23\u001b[0m     \u001b[38;5;28;01mreturn\u001b[39;00m \u001b[43mcodecs\u001b[49m\u001b[38;5;241;43m.\u001b[39;49m\u001b[43mcharmap_decode\u001b[49m\u001b[43m(\u001b[49m\u001b[38;5;28;43minput\u001b[39;49m\u001b[43m,\u001b[49m\u001b[38;5;28;43mself\u001b[39;49m\u001b[38;5;241;43m.\u001b[39;49m\u001b[43merrors\u001b[49m\u001b[43m,\u001b[49m\u001b[43mdecoding_table\u001b[49m\u001b[43m)\u001b[49m[\u001b[38;5;241m0\u001b[39m]\n",
      "\u001b[1;31mUnicodeDecodeError\u001b[0m: 'charmap' codec can't decode byte 0x8f in position 4965: character maps to <undefined>"
     ]
    }
   ],
   "source": [
    "# if __name__ == '__main__':\n",
    "\n",
    "train_x, test_x, train_y, test_y = merge_n_split_df(pos_file = 'pos.txt', neg_file = 'neg.txt')\n",
    "merge_n_split_df(pos_file = 'pos.txt', neg_file = 'neg.txt')    \n",
    "\n",
    "    # with open('sentiment_set.pickle','wb') as file:\n",
    "        # pickle.dump([train_x,test_x,train_y,test_y],file)"
   ]
  },
  {
   "cell_type": "code",
   "execution_count": null,
   "id": "d617852c-42a8-461c-bb52-e81f7a5123e5",
   "metadata": {},
   "outputs": [],
   "source": [
    "model = tf.keras.models.Sequential()\n",
    "model.add(tf.keras.layers.Dense(units=2000, \n",
    "                                activation='relu', \n",
    "                                input_shape=(train_x.iloc[0].shape), # number of words in the lexicon (to reshape accordingly)\n",
    "                                kernel_initializer='glorot_uniform')) #uniform distribution weights initialization\n",
    "print(train_x[0].shape)\n",
    "model.add(tf.keras.layers.Dense(4000))\n",
    "# model.add(tf.keras.layers.Dropout(0.1))\n",
    "model.add(tf.keras.layers.Dense(8000))\n",
    "# model.add(tf.keras.layers.Dropout(0.1))\n",
    "model.add(tf.keras.layers.Dense(16000))\n",
    "model.add(tf.keras.layers.Dense(2, activation='softmax')) # 2 (pos or neg) output (to one-hot encode accordingly)\n",
    "model.summary()"
   ]
  },
  {
   "cell_type": "code",
   "execution_count": null,
   "id": "d2f39192-8ede-4d69-9a76-360400f4b516",
   "metadata": {},
   "outputs": [],
   "source": [
    "model.compile(loss='categorical_crossentropy', \n",
    "              optimizer = tf.keras.optimizers.Adam(learning_rate = 0.001), \n",
    "              metrics=['accuracy', tf.keras.metrics.Precision(), tf.keras.metrics.Recall()])\n",
    "\n",
    "early_stopping_monitor = EarlyStopping(monitor='accuracy', patience=3)\n",
    "\n",
    "x_train_resh = np.vstack(train_x)\n",
    "y_train_resh = to_categorical(train_y, num_classes=2)\n",
    "\n",
    "history = model.fit(x_train_resh,\n",
    "                    y_train_resh,\n",
    "                    epochs=50,\n",
    "                    batch_size = 100,\n",
    "                    callbacks=[early_stopping_monitor])"
   ]
  },
  {
   "cell_type": "code",
   "execution_count": null,
   "id": "b32dd306-39c0-43ad-b8a2-f149150599f4",
   "metadata": {},
   "outputs": [],
   "source": [
    "y_pred_perc = model(np.vstack(test_x))\n",
    "y_pred = tf.argmax(y_pred_perc, axis = 1)\n",
    "y_test = [1 if y == [0, 1] else 0 for y in test_y]\n",
    "test_acc = np.mean(y_pred==y_test)\n",
    "test_acc"
   ]
  },
  {
   "cell_type": "code",
   "execution_count": null,
   "id": "763b8b85-3b32-407c-a313-35d0a4cc8f5c",
   "metadata": {},
   "outputs": [],
   "source": [
    "model1 = tf.keras.models.Sequential()\n",
    "model1.add(tf.keras.layers.Dense(units=10000, \n",
    "                                activation='relu', \n",
    "                                input_shape=(train_x.iloc[0].shape), # number of words in the lexicon (to reshape accordingly)\n",
    "                                kernel_initializer='glorot_uniform')) #uniform distribution weights initialization\n",
    "print(train_x[0].shape)\n",
    "model1.add(tf.keras.layers.Dense(10000))\n",
    "model1.add(tf.keras.layers.Dense(10000))\n",
    "model1.add(tf.keras.layers.Dense(2, activation='softmax')) # 2 (pos or neg) output (to one-hot encode accordingly)\n",
    "model1.summary()"
   ]
  },
  {
   "cell_type": "code",
   "execution_count": null,
   "id": "1b5356c3-ebf7-4557-9ae4-daf9e3d97fa8",
   "metadata": {},
   "outputs": [],
   "source": [
    "model1.compile(loss='categorical_crossentropy', \n",
    "              optimizer = tf.keras.optimizers.Adam(), \n",
    "              metrics=['accuracy', tf.keras.metrics.Precision(), tf.keras.metrics.Recall()])\n",
    "\n",
    "early_stopping_monitor = EarlyStopping(monitor='accuracy', patience=3)\n",
    "\n",
    "x_train_resh = np.vstack(train_x)\n",
    "y_train_resh = to_categorical(train_y, num_classes=2)\n",
    "\n",
    "history = model1.fit(x_train_resh,\n",
    "                    y_train_resh,\n",
    "                    epochs=50,\n",
    "                    batch_size = 1000,\n",
    "                    callbacks=[early_stopping_monitor])"
   ]
  },
  {
   "cell_type": "code",
   "execution_count": null,
   "id": "34a9c0d0-2dcc-42f4-a2da-bc65be881638",
   "metadata": {},
   "outputs": [],
   "source": [
    "y_pred_perc1 = model1(np.vstack(test_x))\n",
    "y_pred1 = tf.argmax(y_pred_perc1, axis = 1)\n",
    "y_test1 = [1 if y == [0, 1] else 0 for y in test_y]\n",
    "test_acc1 = np.mean(y_pred1==y_test1)\n",
    "test_acc1"
   ]
  },
  {
   "cell_type": "code",
   "execution_count": null,
   "id": "26c91b19-6d50-42bd-a4d7-e1839af52868",
   "metadata": {},
   "outputs": [],
   "source": [
    "model2 = tf.keras.models.Sequential()\n",
    "model2.add(tf.keras.layers.Dense(units=1000, \n",
    "                                activation='relu', \n",
    "                                input_shape=(train_x.iloc[0].shape), # number of words in the lexicon (to reshape accordingly)\n",
    "                                kernel_initializer='glorot_uniform')) #uniform distribution weights initialization\n",
    "print(train_x[0].shape)\n",
    "model2.add(tf.keras.layers.Dense(1000))\n",
    "model2.add(tf.keras.layers.Dense(1000))\n",
    "model2.add(tf.keras.layers.Dense(1000))\n",
    "model2.add(tf.keras.layers.Dense(1000))\n",
    "model2.add(tf.keras.layers.Dense(2, activation='softmax')) # 2 (pos or neg) output (to one-hot encode accordingly)\n",
    "model2.summary()"
   ]
  },
  {
   "cell_type": "code",
   "execution_count": null,
   "id": "abc38bb8-e675-416b-887c-1fbf29274892",
   "metadata": {},
   "outputs": [],
   "source": [
    "model2.compile(loss='categorical_crossentropy', \n",
    "              optimizer = tf.keras.optimizers.Adam(), \n",
    "              metrics=['accuracy', tf.keras.metrics.Precision(), tf.keras.metrics.Recall()])\n",
    "\n",
    "early_stopping_monitor = EarlyStopping(monitor='accuracy', patience=3)\n",
    "\n",
    "x_train_resh = np.vstack(train_x)\n",
    "y_train_resh = to_categorical(train_y, num_classes=2)\n",
    "\n",
    "history = model2.fit(x_train_resh,\n",
    "                    y_train_resh,\n",
    "                    epochs=50,\n",
    "                    # batch_size = 1000,\n",
    "                    callbacks=[early_stopping_monitor])"
   ]
  },
  {
   "cell_type": "code",
   "execution_count": null,
   "id": "44e58c19-9cd4-487d-89bd-0ef82f61fd66",
   "metadata": {},
   "outputs": [],
   "source": [
    "y_pred_perc2 = model2(np.vstack(test_x))\n",
    "y_pred2 = tf.argmax(y_pred_perc2, axis = 1)\n",
    "y_test2 = [0 if y == [0, 1] else 1 for y in test_y]\n",
    "test_acc2 = np.mean(y_pred2==y_test2)\n",
    "test_acc2"
   ]
  },
  {
   "cell_type": "code",
   "execution_count": null,
   "id": "e32985ac-7e66-4b87-b396-44d3c33c65c7",
   "metadata": {},
   "outputs": [],
   "source": [
    "gc.collect()"
   ]
  }
 ],
 "metadata": {
  "kernelspec": {
   "display_name": "Py309",
   "language": "python",
   "name": "py309"
  },
  "language_info": {
   "codemirror_mode": {
    "name": "ipython",
    "version": 3
   },
   "file_extension": ".py",
   "mimetype": "text/x-python",
   "name": "python",
   "nbconvert_exporter": "python",
   "pygments_lexer": "ipython3",
   "version": "3.9.16"
  }
 },
 "nbformat": 4,
 "nbformat_minor": 5
}
