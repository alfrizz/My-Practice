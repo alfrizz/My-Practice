{
 "cells": [
  {
   "cell_type": "code",
   "execution_count": 1,
   "id": "0c9c50a8-aa00-427c-a371-3717c1c7a868",
   "metadata": {},
   "outputs": [],
   "source": [
    "# https://towardsdatascience.com/hands-on-introduction-to-reinforcement-learning-in-python-da07f7aaca88\n",
    "\n",
    "import numpy as np\n",
    "import matplotlib.pyplot as plt"
   ]
  },
  {
   "cell_type": "code",
   "execution_count": 2,
   "id": "c9ca7cc1-3fc0-4d02-9f61-ca15d17fe342",
   "metadata": {},
   "outputs": [],
   "source": [
    "ACTIONS = {'U': (-1, 0), 'D': (1, 0), 'L': (0, -1), 'R': (0, 1)}"
   ]
  },
  {
   "cell_type": "code",
   "execution_count": 21,
   "id": "e4535e0d-8986-409c-a92f-1f567f380371",
   "metadata": {},
   "outputs": [],
   "source": [
    "# the 1s represent walls and the 2 represents the robot’s position\n",
    "\n",
    "class Maze(object):\n",
    "    \n",
    "    def __init__(self):\n",
    "        # start with defining your maze\n",
    "        self.maze = np.zeros((6, 6))\n",
    "        self.maze[0, 0] = 2\n",
    "        self.maze[5, :5] = 1\n",
    "        self.maze[:4, 5] = 1\n",
    "        self.maze[2, 2:] = 1\n",
    "        self.maze[3, 2] = 1\n",
    "        self.robot_position = (0, 0) # current robot position\n",
    "        self.steps = 0 # contains num steps robot took\n",
    "        self.allowed_states = None # updated when calling the self.construct_allowed_states()\n",
    "        self.construct_allowed_states()\n",
    "    \n",
    "    def is_allowed_move(self, state, action): # returns false if the robot hits a wall or exits the maze\n",
    "        y, x = state\n",
    "        y += ACTIONS[action][0]\n",
    "        x += ACTIONS[action][1]\n",
    "        # moving off the board\n",
    "        if y < 0 or x < 0 or y > 5 or x > 5:\n",
    "             return False\n",
    "        # moving into start position or empty space\n",
    "        if self.maze[y, x] == 0 or self.maze[y, x] == 2:\n",
    "            return True\n",
    "        else:\n",
    "            return False\n",
    "    \n",
    "    def construct_allowed_states(self):\n",
    "        allowed_states = {}\n",
    "        for y, row in enumerate(self.maze):\n",
    "            for x, col in enumerate(row):\n",
    "                # iterate through all valid spaces\n",
    "                if self.maze[(y,x)] != 1: # check if the (y,x) is not a wall\n",
    "                    allowed_states[(y,x)] = [] # and create the key of the dictionary as a (y,x)\n",
    "                    for action in ACTIONS:\n",
    "                        if self.is_allowed_move((y, x), action): # check which move is allowed from all possible actions\n",
    "                            allowed_states[(y,x)].append(action) # and add these possible moves as values to the correspondent key\n",
    "        self.allowed_states = allowed_states\n",
    "    \n",
    "    def update_maze(self, action):\n",
    "        y, x = self.robot_position\n",
    "        self.maze[y, x] = 0 # set the current position to empty (it was 2 before)\n",
    "        y += ACTIONS[action][0]\n",
    "        x += ACTIONS[action][1]\n",
    "        self.robot_position = (y, x)\n",
    "        self.maze[y, x] = 2 # set the new position to empty (it was 0 before)\n",
    "        self.steps += 1\n",
    "        \n",
    "    def isGameOver(self):\n",
    "        if self.robot_position == (5, 5):\n",
    "            return True\n",
    "        return False\n",
    "    \n",
    "    # We penalize -1 for every step the robot takes (as we want the fastest solution, not just any solution) and then reward 0 points when the robot reaches the end.\n",
    "    def give_reward(self):\n",
    "        if self.robot_position == (5, 5):\n",
    "            return 0\n",
    "        else:\n",
    "            return -1\n",
    "\n",
    "    def get_state_and_reward(self):\n",
    "        return self.robot_position, self.give_reward()"
   ]
  },
  {
   "cell_type": "code",
   "execution_count": 4,
   "id": "34322c1a-dcfa-4915-b88b-cf4ef507555a",
   "metadata": {},
   "outputs": [
    {
     "data": {
      "text/plain": [
       "array([[2., 0., 0., 0., 0., 1.],\n",
       "       [0., 0., 0., 0., 0., 1.],\n",
       "       [0., 0., 1., 1., 1., 1.],\n",
       "       [0., 0., 1., 0., 0., 1.],\n",
       "       [0., 0., 0., 0., 0., 0.],\n",
       "       [1., 1., 1., 1., 1., 0.]])"
      ]
     },
     "execution_count": 4,
     "metadata": {},
     "output_type": "execute_result"
    }
   ],
   "source": [
    "my_maze = Maze()\n",
    "my_maze.maze"
   ]
  },
  {
   "cell_type": "code",
   "execution_count": 5,
   "id": "5f1c440b-49b7-4c41-a2a0-497bf54b6360",
   "metadata": {},
   "outputs": [
    {
     "data": {
      "text/plain": [
       "False"
      ]
     },
     "execution_count": 5,
     "metadata": {},
     "output_type": "execute_result"
    }
   ],
   "source": [
    "my_maze.is_allowed_move((0,0),'U')"
   ]
  },
  {
   "cell_type": "code",
   "execution_count": 6,
   "id": "c861394b-9bbb-4b04-a77c-aeff112ea6bb",
   "metadata": {},
   "outputs": [
    {
     "name": "stdout",
     "output_type": "stream",
     "text": [
      "row: 0  -  [2. 0. 0. 0. 0. 1.]\n",
      "col: 0  -  2.0\n",
      "col: 1  -  0.0\n",
      "col: 2  -  0.0\n",
      "col: 3  -  0.0\n",
      "col: 4  -  0.0\n",
      "col: 5  -  1.0\n"
     ]
    }
   ],
   "source": [
    "for y, row in enumerate(my_maze.maze):\n",
    "    print('row:', y, ' - ', row)\n",
    "    for x, col in enumerate(row):\n",
    "        print('col:', x, ' - ', col)\n",
    "    break"
   ]
  },
  {
   "cell_type": "code",
   "execution_count": 7,
   "id": "40c4907c-674b-4772-929d-4f3f078f6249",
   "metadata": {},
   "outputs": [],
   "source": [
    "my_maze.construct_allowed_states()"
   ]
  },
  {
   "cell_type": "code",
   "execution_count": 8,
   "id": "a8cc3357-dfc9-431f-a00f-62537e1fcefc",
   "metadata": {},
   "outputs": [
    {
     "data": {
      "text/plain": [
       "{(0, 0): ['D', 'R'],\n",
       " (0, 1): ['D', 'L', 'R'],\n",
       " (0, 2): ['D', 'L', 'R'],\n",
       " (0, 3): ['D', 'L', 'R'],\n",
       " (0, 4): ['D', 'L'],\n",
       " (1, 0): ['U', 'D', 'R'],\n",
       " (1, 1): ['U', 'D', 'L', 'R'],\n",
       " (1, 2): ['U', 'L', 'R'],\n",
       " (1, 3): ['U', 'L', 'R'],\n",
       " (1, 4): ['U', 'L'],\n",
       " (2, 0): ['U', 'D', 'R'],\n",
       " (2, 1): ['U', 'D', 'L'],\n",
       " (3, 0): ['U', 'D', 'R'],\n",
       " (3, 1): ['U', 'D', 'L'],\n",
       " (3, 3): ['D', 'R'],\n",
       " (3, 4): ['D', 'L'],\n",
       " (4, 0): ['U', 'R'],\n",
       " (4, 1): ['U', 'L', 'R'],\n",
       " (4, 2): ['L', 'R'],\n",
       " (4, 3): ['U', 'L', 'R'],\n",
       " (4, 4): ['U', 'L', 'R'],\n",
       " (4, 5): ['D', 'L'],\n",
       " (5, 5): ['U']}"
      ]
     },
     "execution_count": 8,
     "metadata": {},
     "output_type": "execute_result"
    }
   ],
   "source": [
    "my_maze.allowed_states"
   ]
  },
  {
   "cell_type": "code",
   "execution_count": 19,
   "id": "45e47f00-5691-41da-9c63-947531b1f3d3",
   "metadata": {},
   "outputs": [
    {
     "data": {
      "text/plain": [
       "['U', 'L', 'R']"
      ]
     },
     "execution_count": 19,
     "metadata": {},
     "output_type": "execute_result"
    }
   ],
   "source": [
    "my_maze.allowed_states[(4, 1)]"
   ]
  },
  {
   "cell_type": "code",
   "execution_count": 9,
   "id": "782c4ace-08d8-45bb-ab33-0a94162db5c3",
   "metadata": {},
   "outputs": [
    {
     "data": {
      "text/plain": [
       "array([[0., 2., 0., 0., 0., 1.],\n",
       "       [0., 0., 0., 0., 0., 1.],\n",
       "       [0., 0., 1., 1., 1., 1.],\n",
       "       [0., 0., 1., 0., 0., 1.],\n",
       "       [0., 0., 0., 0., 0., 0.],\n",
       "       [1., 1., 1., 1., 1., 0.]])"
      ]
     },
     "execution_count": 9,
     "metadata": {},
     "output_type": "execute_result"
    }
   ],
   "source": [
    "my_maze.update_maze('R')\n",
    "my_maze.maze"
   ]
  },
  {
   "cell_type": "code",
   "execution_count": 10,
   "id": "7320f0dd-05d9-4cda-ba22-cc22d31894bd",
   "metadata": {},
   "outputs": [
    {
     "data": {
      "text/plain": [
       "array([[0., 0., 0., 0., 0., 1.],\n",
       "       [0., 0., 0., 0., 0., 1.],\n",
       "       [0., 0., 1., 1., 1., 1.],\n",
       "       [0., 0., 1., 0., 0., 1.],\n",
       "       [0., 0., 0., 0., 0., 0.],\n",
       "       [1., 2., 1., 1., 1., 0.]])"
      ]
     },
     "execution_count": 10,
     "metadata": {},
     "output_type": "execute_result"
    }
   ],
   "source": [
    "my_maze.update_maze('U')\n",
    "my_maze.maze"
   ]
  },
  {
   "cell_type": "code",
   "execution_count": 18,
   "id": "67644a8e-e575-4a3c-a9aa-7a94a06c8e12",
   "metadata": {},
   "outputs": [],
   "source": [
    "class Agent(object):\n",
    "    def __init__(self, states, alpha=0.15, random_factor=0.2):\n",
    "        # The state history will keep track of where the agent has been and the reward it received at each state.\n",
    "        self.state_history = [((0, 0), 0)] # state, reward\n",
    "        # The learning rate alpha determines how much the agent updates its knowledge in each step.\n",
    "        self.alpha = alpha\n",
    "        # The random_factor, exploration factor, determines how often the agent will choose a random action over the action it believes to be best\n",
    "        self.random_factor = random_factor\n",
    "        \n",
    "        # start the rewards table\n",
    "        # The rewards table will keep track of the agent’s expected reward for each action at each state.\n",
    "        self.G = {}\n",
    "        # This line calls the init_reward method to initialize the rewards table based on the states passed when an instance of the class is created.\n",
    "        self.init_reward(states)\n",
    "        \n",
    "    # We initialize the random values of G to always be greater than 0.1 as we don’t want it to initialize any state to 0, because this is our target (if a state ended up start at 0, the agent will never learn from that state).\n",
    "    def init_reward(self, states):\n",
    "        for i, row in enumerate(states):\n",
    "            for j, col in enumerate(row):\n",
    "                self.G[(j,i)] = np.random.uniform(high=1.0, low=0.1)\n",
    "                \n",
    "    def update_state_history(self, state, reward):\n",
    "        self.state_history.append((state, reward))\n",
    "    \n",
    "    def learn(self):\n",
    "        target = 0 # we know the \"ideal\" reward\n",
    "        a = self.alpha\n",
    "        # This starts a loop over the agent’s state history in reverse order. This is typical in TD learning, where updates are often done in a backwards manner from the final state to the initial state.\n",
    "        for state, reward in reversed(self.state_history):\n",
    "            # This updates the estimated reward for the given state based on the TD learning rule. The\n",
    "            self.G[state] = self.G[state]+ a * (target - self.G[state])\n",
    "        self.state_history = [] # reset the state_history (presumably in preparation for the next episode.)\n",
    "        self.random_factor -= 10e-5 # decrease random_factor (It’s common to decrease the exploration rate over time (initially exploration 20% of the times), so that the agent exploits its learned knowledge more as it gains experience: exloration vs exploitation)\n",
    "        \n",
    "    # First we randomly chose to explore or exploit based on our random_factor probability. If we choose to explore, we randomly select our next_move from a given list of allowed_moves (passed to the function). If we choose to exploit, we loop through the possible states we can end up in (given the list of allowed_moves) and then find the one with the greatest expected value from G.\n",
    "    def choose_action(self, state, allowed_moves):\n",
    "        next_move = None\n",
    "        n = np.random.random()\n",
    "        if n < self.random_factor:\n",
    "            next_move = np.random.choice(allowed_moves)\n",
    "        else:\n",
    "            maxG = -10e15 # some really small random number\n",
    "            for action in allowed_moves:\n",
    "                new_state = tuple([sum(x) for x in zip(state, ACTIONS[action])]) #  calculating the new state by adding the current state and the change in state due to the action. For example, if we’re in a grid environment and the current state is (0, 0) (representing a position in the grid), and we take an action “move right” represented as (0, 1), the new state would be (0, 0) + (0, 1) = (0, 1), meaning we have moved to the right in the grid.\n",
    "                if self.G[new_state] >= maxG:\n",
    "                    next_move = action\n",
    "                    maxG = self.G[new_state]\n",
    "        return next_move"
   ]
  },
  {
   "cell_type": "code",
   "execution_count": 13,
   "id": "8a12a579-0003-4e26-a829-40908af6f759",
   "metadata": {},
   "outputs": [
    {
     "data": {
      "text/plain": [
       "(array([1008.,  961., 1021.,  961., 1011., 1008., 1030.,  995., 1003.,\n",
       "        1002.]),\n",
       " array([0.10001371, 0.18999585, 0.279978  , 0.36996014, 0.45994229,\n",
       "        0.54992443, 0.63990657, 0.72988872, 0.81987086, 0.90985301,\n",
       "        0.99983515]),\n",
       " <BarContainer object of 10 artists>)"
      ]
     },
     "execution_count": 13,
     "metadata": {},
     "output_type": "execute_result"
    },
    {
     "data": {
      "image/png": "[encoded data removed]",
      "text/plain": [
       "<Figure size 640x480 with 1 Axes>"
      ]
     },
     "metadata": {},
     "output_type": "display_data"
    }
   ],
   "source": [
    "random_uniform_values = [np.random.uniform(high=1.0, low=0.1) for _ in range(10000)]\n",
    "plt.hist(random_uniform_values)\n",
    "# np.mean(random_uniform_values)"
   ]
  },
  {
   "cell_type": "code",
   "execution_count": 14,
   "id": "6c5ba2c9-1f5a-43a2-8dca-af8071c72e07",
   "metadata": {},
   "outputs": [
    {
     "data": {
      "text/plain": [
       "array([[2., 0., 0., 0., 0., 1.],\n",
       "       [0., 0., 0., 0., 0., 1.],\n",
       "       [0., 0., 1., 1., 1., 1.],\n",
       "       [0., 0., 1., 0., 0., 1.],\n",
       "       [0., 0., 0., 0., 0., 0.],\n",
       "       [1., 1., 1., 1., 1., 0.]])"
      ]
     },
     "execution_count": 14,
     "metadata": {},
     "output_type": "execute_result"
    }
   ],
   "source": [
    "states_test =  Maze()\n",
    "states_test.maze"
   ]
  },
  {
   "cell_type": "code",
   "execution_count": 15,
   "id": "fa95714d-8e90-4ee9-91b0-cd048ac3c3f5",
   "metadata": {},
   "outputs": [
    {
     "data": {
      "text/plain": [
       "{(0, 0): 0.2561846912877181,\n",
       " (1, 0): 0.7204644323783821,\n",
       " (2, 0): 0.8069644153619395,\n",
       " (3, 0): 0.44616629969680766,\n",
       " (4, 0): 0.31472982312891007,\n",
       " (5, 0): 0.9070924125055808,\n",
       " (0, 1): 0.4472961387303557,\n",
       " (1, 1): 0.2941932754922576,\n",
       " (2, 1): 0.3831892205653956,\n",
       " (3, 1): 0.8073633583255468,\n",
       " (4, 1): 0.9529661623596739,\n",
       " (5, 1): 0.23492472017679403,\n",
       " (0, 2): 0.25213461827075423,\n",
       " (1, 2): 0.840949100023281,\n",
       " (2, 2): 0.5004350979821767,\n",
       " (3, 2): 0.40031564662357566,\n",
       " (4, 2): 0.9029430531626867,\n",
       " (5, 2): 0.49072837477163844,\n",
       " (0, 3): 0.7113816009967243,\n",
       " (1, 3): 0.10041489775609379,\n",
       " (2, 3): 0.9694281305269996,\n",
       " (3, 3): 0.4580958622503858,\n",
       " (4, 3): 0.5905361643824565,\n",
       " (5, 3): 0.5377476960776553,\n",
       " (0, 4): 0.18192205449337123,\n",
       " (1, 4): 0.789127135460162,\n",
       " (2, 4): 0.7671353873348249,\n",
       " (3, 4): 0.6098770814311647,\n",
       " (4, 4): 0.944380611015498,\n",
       " (5, 4): 0.34880743143339055,\n",
       " (0, 5): 0.43729542014325573,\n",
       " (1, 5): 0.8105183444069807,\n",
       " (2, 5): 0.20516451259893592,\n",
       " (3, 5): 0.16005187523818237,\n",
       " (4, 5): 0.10409126323814581,\n",
       " (5, 5): 0.9790013238408002}"
      ]
     },
     "execution_count": 15,
     "metadata": {},
     "output_type": "execute_result"
    }
   ],
   "source": [
    "agent_test = Agent(states_test.maze)\n",
    "agent_test.init_reward(states_test.maze)\n",
    "agent_test.G"
   ]
  },
  {
   "cell_type": "code",
   "execution_count": 28,
   "id": "7cb1149a-d329-456e-9814-db2fe1efe05c",
   "metadata": {},
   "outputs": [
    {
     "name": "stdout",
     "output_type": "stream",
     "text": [
      "0\n",
      "1000\n",
      "2000\n",
      "3000\n",
      "4000\n"
     ]
    },
    {
     "data": {
      "image/png": "[encoded data removed]",
      "text/plain": [
       "<Figure size 640x480 with 1 Axes>"
      ]
     },
     "metadata": {},
     "output_type": "display_data"
    }
   ],
   "source": [
    "# import numpy as np\n",
    "# from environment import Maze\n",
    "# from agent import Agent\n",
    "# import matplotlib.pyplot as plt\n",
    "\n",
    "if __name__ == '__main__':\n",
    "    maze = Maze()\n",
    "    robot = Agent(maze.maze, alpha=0.1, random_factor=0.25)\n",
    "    moveHistory = []\n",
    "\n",
    "    for i in range(5000):\n",
    "        if i % 1000 == 0:\n",
    "            print(i)\n",
    "\n",
    "        while not maze.isGameOver():\n",
    "            state, _ = maze.get_state_and_reward() # get the current state \n",
    "            action = robot.choose_action(state, maze.allowed_states[state]) # choose an action (explore or exploit)\n",
    "            maze.update_maze(action) # update the maze according to the action\n",
    "            state, reward = maze.get_state_and_reward() # get the new state and reward\n",
    "            robot.update_state_history(state, reward) # update the robot memory with state and reward\n",
    "            if maze.steps > 1000:\n",
    "                # end the robot if it takes too long to find the goal\n",
    "                maze.robot_position = (5, 5)\n",
    "        \n",
    "        robot.learn() # robot should learn after every episode\n",
    "        moveHistory.append(maze.steps) # get a history of number of steps taken to plot later\n",
    "        maze = Maze() # reinitialize the maze\n",
    "\n",
    "plt.semilogy(moveHistory, \"b--\")\n",
    "plt.show()"
   ]
  },
  {
   "cell_type": "code",
   "execution_count": null,
   "id": "ba23f9cd-2efe-4a34-874d-8558955edd96",
   "metadata": {},
   "outputs": [],
   "source": []
  },
  {
   "cell_type": "code",
   "execution_count": null,
   "id": "e58cbcee-77f4-435f-a183-396540e529e3",
   "metadata": {},
   "outputs": [],
   "source": []
  },
  {
   "cell_type": "code",
   "execution_count": null,
   "id": "9f2b4e2e-9221-4f89-8b90-9bea8fa6f090",
   "metadata": {},
   "outputs": [],
   "source": []
  },
  {
   "cell_type": "code",
   "execution_count": null,
   "id": "f5a13c6d-9f13-42d1-bc2f-0f2217cce4bf",
   "metadata": {},
   "outputs": [],
   "source": []
  },
  {
   "cell_type": "code",
   "execution_count": null,
   "id": "120be392-d3e9-4cdb-bcf0-73f3980af57d",
   "metadata": {},
   "outputs": [],
   "source": []
  },
  {
   "cell_type": "code",
   "execution_count": null,
   "id": "9cabe93d-88a7-46cc-a180-ff36745f2439",
   "metadata": {},
   "outputs": [],
   "source": []
  },
  {
   "cell_type": "code",
   "execution_count": null,
   "id": "d6849e55-c571-4bb8-898e-73fcc2fddeb4",
   "metadata": {},
   "outputs": [],
   "source": []
  },
  {
   "cell_type": "code",
   "execution_count": null,
   "id": "96a0f05b-e062-4c29-9732-08d1d2099694",
   "metadata": {},
   "outputs": [],
   "source": []
  }
 ],
 "metadata": {
  "kernelspec": {
   "display_name": "Py310",
   "language": "python",
   "name": "py310"
  },
  "language_info": {
   "codemirror_mode": {
    "name": "ipython",
    "version": 3
   },
   "file_extension": ".py",
   "mimetype": "text/x-python",
   "name": "python",
   "nbconvert_exporter": "python",
   "pygments_lexer": "ipython3",
   "version": "3.10.11"
  }
 },
 "nbformat": 4,
 "nbformat_minor": 5
}
