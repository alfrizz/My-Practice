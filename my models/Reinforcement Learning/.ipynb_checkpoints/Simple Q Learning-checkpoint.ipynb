{
 "cells": [
  {
   "cell_type": "code",
   "execution_count": 1,
   "id": "ad248635-b014-4aff-adca-5fa13a4401f9",
   "metadata": {},
   "outputs": [],
   "source": [
    "import numpy as np\n",
    "import pylab as plt\n",
    "\n",
    "# We create a points-list map that represents each direction our bot can take. \n",
    "\n",
    "# map cell to cell, add circular cell to goal point\n",
    "points_list = [(0,1), (1,5), (5,6), (5,4), (1,2), (2,3), (2,7)]"
   ]
  },
  {
   "cell_type": "code",
   "execution_count": 2,
   "id": "0caf91ad-5b7b-44b8-bc51-e06259249bed",
   "metadata": {},
   "outputs": [
    {
     "data": {
      "image/png": "[encoded data removed]",
      "text/plain": [
       "<Figure size 640x480 with 1 Axes>"
      ]
     },
     "metadata": {},
     "output_type": "display_data"
    }
   ],
   "source": [
    "# Using this format allows us to easily create complex graphs but also easily visualize everything with networkx graphs.\n",
    "# Our starting point is 0, our goal point is 7.\n",
    "\n",
    "goal = 7\n",
    "\n",
    "import networkx as nx\n",
    "G=nx.Graph()\n",
    "G.add_edges_from(points_list)\n",
    "pos = nx.spring_layout(G)\n",
    "nx.draw_networkx_nodes(G,pos)\n",
    "nx.draw_networkx_edges(G,pos)\n",
    "nx.draw_networkx_labels(G,pos)\n",
    "plt.show()"
   ]
  },
  {
   "cell_type": "code",
   "execution_count": 3,
   "id": "42696458-790e-447a-a72e-b3360b9a1b28",
   "metadata": {},
   "outputs": [],
   "source": [
    "# The map shows that point 0 is where our bot will start its journey and point 7 is its final goal. The extra added points and false paths are the obstacles the bot will have to contend with."
   ]
  },
  {
   "cell_type": "code",
   "execution_count": 4,
   "id": "291180d9-0efa-4794-ad84-0a0d506331de",
   "metadata": {},
   "outputs": [
    {
     "data": {
      "text/plain": [
       "matrix([[-1., -1., -1., -1., -1., -1., -1., -1.],\n",
       "        [-1., -1., -1., -1., -1., -1., -1., -1.],\n",
       "        [-1., -1., -1., -1., -1., -1., -1., -1.],\n",
       "        [-1., -1., -1., -1., -1., -1., -1., -1.],\n",
       "        [-1., -1., -1., -1., -1., -1., -1., -1.],\n",
       "        [-1., -1., -1., -1., -1., -1., -1., -1.],\n",
       "        [-1., -1., -1., -1., -1., -1., -1., -1.],\n",
       "        [-1., -1., -1., -1., -1., -1., -1., -1.]])"
      ]
     },
     "execution_count": 4,
     "metadata": {},
     "output_type": "execute_result"
    }
   ],
   "source": [
    "# We then create the rewards graph - this is the matrix version of our list of points map.\n",
    "\n",
    "# how many points in graph? x points\n",
    "MATRIX_SIZE = 8\n",
    "\n",
    "# create matrix x*y\n",
    "R = np.matrix(np.ones(shape=(MATRIX_SIZE, MATRIX_SIZE)))\n",
    "R *= -1\n",
    "\n",
    "R"
   ]
  },
  {
   "cell_type": "code",
   "execution_count": 5,
   "id": "b5590218-8f4d-43b5-be64-2a0698de5629",
   "metadata": {},
   "outputs": [
    {
     "name": "stdout",
     "output_type": "stream",
     "text": [
      "(0, 1)\n",
      "[[-1.  0. -1. -1. -1. -1. -1. -1.]\n",
      " [ 0. -1. -1. -1. -1. -1. -1. -1.]\n",
      " [-1. -1. -1. -1. -1. -1. -1. -1.]\n",
      " [-1. -1. -1. -1. -1. -1. -1. -1.]\n",
      " [-1. -1. -1. -1. -1. -1. -1. -1.]\n",
      " [-1. -1. -1. -1. -1. -1. -1. -1.]\n",
      " [-1. -1. -1. -1. -1. -1. -1. -1.]\n",
      " [-1. -1. -1. -1. -1. -1. -1. -1.]]\n",
      "(1, 5)\n",
      "[[-1.  0. -1. -1. -1. -1. -1. -1.]\n",
      " [ 0. -1. -1. -1. -1.  0. -1. -1.]\n",
      " [-1. -1. -1. -1. -1. -1. -1. -1.]\n",
      " [-1. -1. -1. -1. -1. -1. -1. -1.]\n",
      " [-1. -1. -1. -1. -1. -1. -1. -1.]\n",
      " [-1.  0. -1. -1. -1. -1. -1. -1.]\n",
      " [-1. -1. -1. -1. -1. -1. -1. -1.]\n",
      " [-1. -1. -1. -1. -1. -1. -1. -1.]]\n",
      "(5, 6)\n",
      "[[-1.  0. -1. -1. -1. -1. -1. -1.]\n",
      " [ 0. -1. -1. -1. -1.  0. -1. -1.]\n",
      " [-1. -1. -1. -1. -1. -1. -1. -1.]\n",
      " [-1. -1. -1. -1. -1. -1. -1. -1.]\n",
      " [-1. -1. -1. -1. -1. -1. -1. -1.]\n",
      " [-1.  0. -1. -1. -1. -1.  0. -1.]\n",
      " [-1. -1. -1. -1. -1.  0. -1. -1.]\n",
      " [-1. -1. -1. -1. -1. -1. -1. -1.]]\n",
      "(5, 4)\n",
      "[[-1.  0. -1. -1. -1. -1. -1. -1.]\n",
      " [ 0. -1. -1. -1. -1.  0. -1. -1.]\n",
      " [-1. -1. -1. -1. -1. -1. -1. -1.]\n",
      " [-1. -1. -1. -1. -1. -1. -1. -1.]\n",
      " [-1. -1. -1. -1. -1.  0. -1. -1.]\n",
      " [-1.  0. -1. -1.  0. -1.  0. -1.]\n",
      " [-1. -1. -1. -1. -1.  0. -1. -1.]\n",
      " [-1. -1. -1. -1. -1. -1. -1. -1.]]\n",
      "(1, 2)\n",
      "[[-1.  0. -1. -1. -1. -1. -1. -1.]\n",
      " [ 0. -1.  0. -1. -1.  0. -1. -1.]\n",
      " [-1.  0. -1. -1. -1. -1. -1. -1.]\n",
      " [-1. -1. -1. -1. -1. -1. -1. -1.]\n",
      " [-1. -1. -1. -1. -1.  0. -1. -1.]\n",
      " [-1.  0. -1. -1.  0. -1.  0. -1.]\n",
      " [-1. -1. -1. -1. -1.  0. -1. -1.]\n",
      " [-1. -1. -1. -1. -1. -1. -1. -1.]]\n",
      "(2, 3)\n",
      "[[-1.  0. -1. -1. -1. -1. -1. -1.]\n",
      " [ 0. -1.  0. -1. -1.  0. -1. -1.]\n",
      " [-1.  0. -1.  0. -1. -1. -1. -1.]\n",
      " [-1. -1.  0. -1. -1. -1. -1. -1.]\n",
      " [-1. -1. -1. -1. -1.  0. -1. -1.]\n",
      " [-1.  0. -1. -1.  0. -1.  0. -1.]\n",
      " [-1. -1. -1. -1. -1.  0. -1. -1.]\n",
      " [-1. -1. -1. -1. -1. -1. -1. -1.]]\n",
      "(2, 7)\n",
      "[[ -1.   0.  -1.  -1.  -1.  -1.  -1.  -1.]\n",
      " [  0.  -1.   0.  -1.  -1.   0.  -1.  -1.]\n",
      " [ -1.   0.  -1.   0.  -1.  -1.  -1. 100.]\n",
      " [ -1.  -1.   0.  -1.  -1.  -1.  -1.  -1.]\n",
      " [ -1.  -1.  -1.  -1.  -1.   0.  -1.  -1.]\n",
      " [ -1.   0.  -1.  -1.   0.  -1.   0.  -1.]\n",
      " [ -1.  -1.  -1.  -1.  -1.   0.  -1.  -1.]\n",
      " [ -1.  -1.   0.  -1.  -1.  -1.  -1.  -1.]]\n"
     ]
    }
   ],
   "source": [
    "# assign zeros to paths and 100 to goal-reaching point\n",
    "'''\n",
    "If point[1] is equal to the goal, the reward for that state-action pair in the reward matrix R is set to 100. Otherwise, the reward is set to 0.\n",
    "If point[0] is equal to the goal, the reward for the reversed state-action pair in R is set to 100. Otherwise, the reward is set to 0.\n",
    "\n",
    "R[(0,1)[::-1]] is equivalent to R[1,0], as (0,1)[::-1] reverses the tuple to (1,0)\n",
    "'''\n",
    "\n",
    "for point in points_list:\n",
    "    print(point)\n",
    "    \n",
    "    if point[1] == goal:\n",
    "        R[point] = 100\n",
    "    else:\n",
    "        R[point] = 0\n",
    "\n",
    "    if point[0] == goal:\n",
    "        R[point[::-1]] = 100\n",
    "    else:\n",
    "        # reverse of point\n",
    "        R[point[::-1]]= 0\n",
    "    \n",
    "    print(R)\n"
   ]
  },
  {
   "cell_type": "code",
   "execution_count": 6,
   "id": "e575ab7a-c3a6-47f9-86e2-fa05810b1bf0",
   "metadata": {},
   "outputs": [
    {
     "data": {
      "text/plain": [
       "matrix([[ -1.,   0.,  -1.,  -1.,  -1.,  -1.,  -1.,  -1.],\n",
       "        [  0.,  -1.,   0.,  -1.,  -1.,   0.,  -1.,  -1.],\n",
       "        [ -1.,   0.,  -1.,   0.,  -1.,  -1.,  -1., 100.],\n",
       "        [ -1.,  -1.,   0.,  -1.,  -1.,  -1.,  -1.,  -1.],\n",
       "        [ -1.,  -1.,  -1.,  -1.,  -1.,   0.,  -1.,  -1.],\n",
       "        [ -1.,   0.,  -1.,  -1.,   0.,  -1.,   0.,  -1.],\n",
       "        [ -1.,  -1.,  -1.,  -1.,  -1.,   0.,  -1.,  -1.],\n",
       "        [ -1.,  -1.,   0.,  -1.,  -1.,  -1.,  -1., 100.]])"
      ]
     },
     "execution_count": 6,
     "metadata": {},
     "output_type": "execute_result"
    }
   ],
   "source": [
    "# add goal point round trip\n",
    "\n",
    "# To read the below matrix, the x-axis is the state or where your bot is currently located, and the y-axis is your possible next actions (check graph above)\n",
    "\n",
    "R[goal,goal]= 100\n",
    "\n",
    "R"
   ]
  },
  {
   "cell_type": "code",
   "execution_count": 7,
   "id": "20cf2d08-de94-409d-b792-510fa528190a",
   "metadata": {},
   "outputs": [
    {
     "data": {
      "text/plain": [
       "matrix([[0., 0., 0., 0., 0., 0., 0., 0.],\n",
       "        [0., 0., 0., 0., 0., 0., 0., 0.],\n",
       "        [0., 0., 0., 0., 0., 0., 0., 0.],\n",
       "        [0., 0., 0., 0., 0., 0., 0., 0.],\n",
       "        [0., 0., 0., 0., 0., 0., 0., 0.],\n",
       "        [0., 0., 0., 0., 0., 0., 0., 0.],\n",
       "        [0., 0., 0., 0., 0., 0., 0., 0.],\n",
       "        [0., 0., 0., 0., 0., 0., 0., 0.]])"
      ]
     },
     "execution_count": 7,
     "metadata": {},
     "output_type": "execute_result"
    }
   ],
   "source": [
    "# We then build our Q-learning matrix which will hold all the lessons learned from our bot. The Q-learning model uses a transitional rule formula and gamma is the learning parameter\n",
    "\n",
    "Q = np.matrix(np.zeros([MATRIX_SIZE,MATRIX_SIZE]))\n",
    "Q"
   ]
  },
  {
   "cell_type": "code",
   "execution_count": 8,
   "id": "200e3f48-4d08-4252-8e5a-2178015286cb",
   "metadata": {},
   "outputs": [
    {
     "data": {
      "text/plain": [
       "array([0, 2, 5], dtype=int64)"
      ]
     },
     "execution_count": 8,
     "metadata": {},
     "output_type": "execute_result"
    }
   ],
   "source": [
    "# learning parameter\n",
    "gamma = 0.8\n",
    "\n",
    "initial_state = 1\n",
    "\n",
    "def available_actions(state):\n",
    "    current_state_row = R[state,]\n",
    "    av_act = np.where(current_state_row >= 0)[1]\n",
    "    return av_act\n",
    "\n",
    "available_act = available_actions(initial_state)\n",
    "available_act"
   ]
  },
  {
   "cell_type": "code",
   "execution_count": 9,
   "id": "bd21bcd3-7bac-407c-a8ee-eb62418045c6",
   "metadata": {},
   "outputs": [
    {
     "data": {
      "text/plain": [
       "2"
      ]
     },
     "execution_count": 9,
     "metadata": {},
     "output_type": "execute_result"
    }
   ],
   "source": [
    "def sample_next_action(available_actions_range):\n",
    "    next_action = int(np.random.choice(available_act,1))\n",
    "    return next_action\n",
    "\n",
    "action = sample_next_action(available_act)\n",
    "action"
   ]
  },
  {
   "cell_type": "code",
   "execution_count": 10,
   "id": "2fb4295b-b0ce-42d8-9759-6052ef8051f8",
   "metadata": {},
   "outputs": [
    {
     "data": {
      "text/plain": [
       "0"
      ]
     },
     "execution_count": 10,
     "metadata": {},
     "output_type": "execute_result"
    }
   ],
   "source": [
    "def update(current_state, action, gamma): \n",
    "    # This function is typically called in each iteration of the Q-Learning algorithm, after the agent takes an action and receives a reward.The action is randomly selected from the R (rewards) matrix. Then, based on this action, we select the max_index from the Q matrix.\n",
    "    \n",
    "    max_index = np.where(Q[action,] == np.max(Q[action,]))[1] # This line finds the indices of the maximum Q-value for the given action (corresponding to the indexes of the maximum possible rewards in the next state). If there are multiple indices with the same maximum Q-value, it returns all of them. By using [1], we’re accessing the second element of the tuple, which is the array of column indices.\n",
    "\n",
    "    # then checks if there are multiple indices with the maximum Q-value. If there are, it randomly selects one of them. If there’s only one, it takes that index. \n",
    "    if max_index.shape[0] > 1:\n",
    "        max_index = int(np.random.choice(max_index, size = 1))\n",
    "    else:\n",
    "        max_index = int(max_index)\n",
    "        \n",
    "    max_value = Q[action, max_index] #  gets the maximum Q-value for the given action (maximum possible rewards in the next state)\n",
    "\n",
    "    Q[current_state, action] = R[current_state, action] + gamma * max_value \n",
    "    # This line updates the Q-value for the current state-action pair based on the reward R[current_state, action] and the discounted maximum Q-value gamma * max_value.\n",
    "    # print('max_value', Q[current_state, action])\n",
    "\n",
    "    # The final if-else block calculates and returns the sum of all Q-values, normalized by the maximum Q-value (if it’s greater than 0), and multiplied by 100. If the maximum Q-value is not greater than 0, it returns 0.\n",
    "    if (np.max(Q) > 0):\n",
    "        return(np.sum(Q/np.max(Q)*100))\n",
    "    else:\n",
    "        return (0)\n",
    "    \n",
    "update(initial_state, action, gamma)"
   ]
  },
  {
   "cell_type": "code",
   "execution_count": 11,
   "id": "eef6571d-67ac-4b30-b149-9b6913d16740",
   "metadata": {},
   "outputs": [
    {
     "name": "stdout",
     "output_type": "stream",
     "text": [
      "Trained Q matrix:\n",
      "[[  0.     63.986   0.      0.      0.      0.      0.      0.   ]\n",
      " [ 51.189   0.     79.998   0.      0.     51.127   0.      0.   ]\n",
      " [  0.     63.998   0.     63.986   0.      0.      0.     99.997]\n",
      " [  0.      0.     79.998   0.      0.      0.      0.      0.   ]\n",
      " [  0.      0.      0.      0.      0.     51.127   0.      0.   ]\n",
      " [  0.     63.909   0.      0.     40.902   0.     40.902   0.   ]\n",
      " [  0.      0.      0.      0.      0.     51.127   0.      0.   ]\n",
      " [  0.      0.     79.998   0.      0.      0.      0.    100.   ]]\n"
     ]
    }
   ],
   "source": [
    "# run the training and testing functions that will run the update function 700 times allowing the Q-learning model to figure out the most efficient path:\n",
    "\n",
    "# Training\n",
    "scores = []\n",
    "for i in range(700):\n",
    "    current_state = np.random.randint(0, int(Q.shape[0]))\n",
    "    available_act = available_actions(current_state)\n",
    "    action = sample_next_action(available_act)\n",
    "    score = update(current_state,action,gamma) # sum of all Q-values, normalized by the maximum Q-value\n",
    "    scores.append(score)\n",
    "    # print ('Score:', str(score))\n",
    "    # print(np.round(Q/np.max(Q)*100,3))\n",
    "    \n",
    "print(\"Trained Q matrix:\")\n",
    "print(np.round(Q/np.max(Q)*100,3))\n",
    "# Normalizing the Q-values provides a standardized view of the learned policy, where the best action in each state has a value of 100, and all other actions have values between 0 and 100, reflecting their relative quality compared to the best action."
   ]
  },
  {
   "cell_type": "code",
   "execution_count": 12,
   "id": "427dc4a2-0ee7-4827-8dc0-5b415d7fffcb",
   "metadata": {},
   "outputs": [
    {
     "data": {
      "image/png": "[encoded data removed]",
      "text/plain": [
       "<Figure size 640x480 with 1 Axes>"
      ]
     },
     "metadata": {},
     "output_type": "display_data"
    }
   ],
   "source": [
    "plt.plot(scores) \n",
    "plt.show()"
   ]
  },
  {
   "cell_type": "code",
   "execution_count": 13,
   "id": "9418d7f6-2d3c-48b3-adee-c86c79e03aff",
   "metadata": {},
   "outputs": [
    {
     "name": "stdout",
     "output_type": "stream",
     "text": [
      "Most efficient path:\n",
      "[0, 1, 2, 7]\n"
     ]
    }
   ],
   "source": [
    "# Testing\n",
    "current_state = 0\n",
    "steps = [current_state]\n",
    "\n",
    "while current_state != 7:\n",
    "\n",
    "    next_step_index = np.where(Q[current_state,] == np.max(Q[current_state,]))[1]\n",
    "    \n",
    "    if next_step_index.shape[0] > 1:\n",
    "        next_step_index = int(np.random.choice(next_step_index, size = 1))\n",
    "    else:\n",
    "        next_step_index = int(next_step_index)\n",
    "    \n",
    "    steps.append(next_step_index)\n",
    "    current_state = next_step_index\n",
    "\n",
    "print(\"Most efficient path:\")\n",
    "print(steps)"
   ]
  },
  {
   "cell_type": "code",
   "execution_count": 14,
   "id": "25b0feee-ef6f-41bf-8c83-0902aeb15db1",
   "metadata": {},
   "outputs": [
    {
     "data": {
      "text/plain": [
       "'\\nVersion 2.0, with Environmental Details\\n\\nNow let’s take this a step further, look at the top image again, notice how the factory is surrounded by smoke and the hive, by bees. Let’s assume that bees don’t like smoke or factories, thus there will never be a hive or bees around smoke. What if our bot could record those environmental factors and turn them into actionable insight? Whenever the bot finds smoke it can turn around immediately instead of continuing to the factory, whenever it finds bees, it can stick around and assume the hive it close.\\n'"
      ]
     },
     "execution_count": 14,
     "metadata": {},
     "output_type": "execute_result"
    }
   ],
   "source": [
    "'''\n",
    "Version 2.0, with Environmental Details\n",
    "\n",
    "Now let’s take this a step further, look at the top image again, notice how the factory is surrounded by smoke and the hive, by bees. Let’s assume that bees don’t like smoke or factories, thus there will never be a hive or bees around smoke. What if our bot could record those environmental factors and turn them into actionable insight? Whenever the bot finds smoke it can turn around immediately instead of continuing to the factory, whenever it finds bees, it can stick around and assume the hive it close.\n",
    "'''"
   ]
  },
  {
   "cell_type": "code",
   "execution_count": 15,
   "id": "304017d9-c112-4954-b0f2-32cc92b09ee6",
   "metadata": {},
   "outputs": [
    {
     "data": {
      "image/png": "[encoded data removed]",
      "text/plain": [
       "<Figure size 640x480 with 1 Axes>"
      ]
     },
     "metadata": {},
     "output_type": "display_data"
    }
   ],
   "source": [
    "bees = [2]\n",
    "smoke = [4,5,6]\n",
    "\n",
    "G=nx.Graph()\n",
    "G.add_edges_from(points_list)\n",
    "mapping={0:'Start', 1:'1', 2:'2 - Bees', 3:'3', 4:'4 - Smoke', 5:'5 - Smoke', 6:'6 - Smoke', 7:'7 - Beehive'} \n",
    "H=nx.relabel_nodes(G,mapping) \n",
    "pos = nx.spring_layout(H)\n",
    "nx.draw_networkx_nodes(H,pos, node_size=[200,200,200,200,200,200,200,200])\n",
    "nx.draw_networkx_edges(H,pos)\n",
    "nx.draw_networkx_labels(H,pos)\n",
    "plt.show()"
   ]
  },
  {
   "cell_type": "code",
   "execution_count": 16,
   "id": "d8d07d00-1141-4df9-b6c1-ff3405cb23f4",
   "metadata": {},
   "outputs": [],
   "source": [
    "# Here is the new update function with the capability of updating the Q-learning scores when if finds either bees or smoke.\n",
    "\n"
   ]
  },
  {
   "cell_type": "code",
   "execution_count": 17,
   "id": "eb20e60a-548d-463f-a960-70aa248973f5",
   "metadata": {},
   "outputs": [
    {
     "data": {
      "text/plain": [
       "0"
      ]
     },
     "execution_count": 17,
     "metadata": {},
     "output_type": "execute_result"
    }
   ],
   "source": [
    "# re-initialize the matrices for new run\n",
    "Q = np.matrix(np.zeros([MATRIX_SIZE,MATRIX_SIZE]))\n",
    "\n",
    "enviro_bees = np.matrix(np.zeros([MATRIX_SIZE,MATRIX_SIZE]))\n",
    "enviro_smoke = np.matrix(np.zeros([MATRIX_SIZE,MATRIX_SIZE]))\n",
    " \n",
    "initial_state = 1\n",
    "\n",
    "def available_actions(state):\n",
    "    current_state_row = R[state,]\n",
    "    av_act = np.where(current_state_row >= 0)[1]\n",
    "    return av_act\n",
    " \n",
    "def sample_next_action(available_actions_range):\n",
    "    next_action = int(np.random.choice(available_act,1))\n",
    "    return next_action\n",
    "\n",
    "def collect_environmental_data(action):\n",
    "    found = []\n",
    "    if action in bees:\n",
    "        found.append('b')\n",
    "\n",
    "    if action in smoke:\n",
    "        found.append('s')\n",
    "    return (found)\n",
    " \n",
    "available_act = available_actions(initial_state) \n",
    " \n",
    "action = sample_next_action(available_act)\n",
    "\n",
    "action"
   ]
  },
  {
   "cell_type": "code",
   "execution_count": 18,
   "id": "1b5553cb-9bf1-4049-90d1-1f60bfb3f407",
   "metadata": {},
   "outputs": [
    {
     "data": {
      "text/plain": [
       "0"
      ]
     },
     "execution_count": 18,
     "metadata": {},
     "output_type": "execute_result"
    }
   ],
   "source": [
    "def update(current_state, action, gamma):\n",
    "    max_index = np.where(Q[action,] == np.max(Q[action,]))[1]\n",
    "  \n",
    "    if max_index.shape[0] > 1:\n",
    "        max_index = int(np.random.choice(max_index, size = 1))\n",
    "    else:\n",
    "        max_index = int(max_index)\n",
    "    max_value = Q[action, max_index]\n",
    "  \n",
    "    Q[current_state, action] = R[current_state, action] + gamma * max_value\n",
    "    # print('max_value', R[current_state, action] + gamma * max_value)\n",
    "\n",
    "    environment = collect_environmental_data(action)\n",
    "    if 'b' in environment: \n",
    "        enviro_bees[current_state, action] += 1\n",
    "  \n",
    "    if 's' in environment: \n",
    "        enviro_smoke[current_state, action] += 1\n",
    "  \n",
    "    if (np.max(Q) > 0):\n",
    "        return(np.sum(Q/np.max(Q)*100))\n",
    "    else:\n",
    "        return (0)\n",
    "\n",
    "update(initial_state,action,gamma)\n",
    "\n"
   ]
  },
  {
   "cell_type": "code",
   "execution_count": 19,
   "id": "67d7a9b8-2236-4556-b9c9-3101918cc811",
   "metadata": {},
   "outputs": [
    {
     "name": "stdout",
     "output_type": "stream",
     "text": [
      "Bees Found\n",
      "[[ 0.  0.  0.  0.  0.  0.  0.  0.]\n",
      " [ 0.  0. 29.  0.  0.  0.  0.  0.]\n",
      " [ 0.  0.  0.  0.  0.  0.  0.  0.]\n",
      " [ 0.  0. 88.  0.  0.  0.  0.  0.]\n",
      " [ 0.  0.  0.  0.  0.  0.  0.  0.]\n",
      " [ 0.  0.  0.  0.  0.  0.  0.  0.]\n",
      " [ 0.  0.  0.  0.  0.  0.  0.  0.]\n",
      " [ 0.  0. 50.  0.  0.  0.  0.  0.]]\n",
      "Smoke Found\n",
      "[[ 0.  0.  0.  0.  0.  0.  0.  0.]\n",
      " [ 0.  0.  0.  0.  0. 32.  0.  0.]\n",
      " [ 0.  0.  0.  0.  0.  0.  0.  0.]\n",
      " [ 0.  0.  0.  0.  0.  0.  0.  0.]\n",
      " [ 0.  0.  0.  0.  0. 73.  0.  0.]\n",
      " [ 0.  0.  0.  0. 33.  0. 33.  0.]\n",
      " [ 0.  0.  0.  0.  0. 82.  0.  0.]\n",
      " [ 0.  0.  0.  0.  0.  0.  0.  0.]]\n"
     ]
    }
   ],
   "source": [
    "scores = []\n",
    "for i in range(700):\n",
    "    current_state = np.random.randint(0, int(Q.shape[0]))\n",
    "    available_act = available_actions(current_state)\n",
    "    action = sample_next_action(available_act)\n",
    "    score = update(current_state,action,gamma)\n",
    "\n",
    "# print environmental matrices\n",
    "print('Bees Found')\n",
    "print(enviro_bees)\n",
    "print('Smoke Found')\n",
    "print(enviro_smoke)"
   ]
  },
  {
   "cell_type": "code",
   "execution_count": 20,
   "id": "53a4aaf9-d90c-4596-b088-f659f85aff56",
   "metadata": {},
   "outputs": [
    {
     "data": {
      "text/plain": [
       "matrix([[  0.,   0.,   0.,   0.,   0.,   0.,   0.,   0.],\n",
       "        [  0.,   0.,  29.,   0.,   0., -32.,   0.,   0.],\n",
       "        [  0.,   0.,   0.,   0.,   0.,   0.,   0.,   0.],\n",
       "        [  0.,   0.,  88.,   0.,   0.,   0.,   0.,   0.],\n",
       "        [  0.,   0.,   0.,   0.,   0., -73.,   0.,   0.],\n",
       "        [  0.,   0.,   0.,   0., -33.,   0., -33.,   0.],\n",
       "        [  0.,   0.,   0.,   0.,   0., -82.,   0.,   0.],\n",
       "        [  0.,   0.,  50.,   0.,   0.,   0.,   0.,   0.]])"
      ]
     },
     "execution_count": 20,
     "metadata": {},
     "output_type": "execute_result"
    }
   ],
   "source": [
    "Q = np.matrix(np.zeros([MATRIX_SIZE,MATRIX_SIZE]))\n",
    "\n",
    "# subtract bees with smoke, this gives smoke a negative effect\n",
    "enviro_matrix = enviro_bees - enviro_smoke\n",
    "\n",
    "# Get available actions in the current state\n",
    "available_act = available_actions(initial_state) \n",
    "\n",
    "# Sample next action to be performed\n",
    "action = sample_next_action(available_act)\n",
    "\n",
    "enviro_matrix"
   ]
  },
  {
   "cell_type": "code",
   "execution_count": 21,
   "id": "5da9a1ab-fa5b-4905-b805-df5844a2dd33",
   "metadata": {},
   "outputs": [
    {
     "name": "stderr",
     "output_type": "stream",
     "text": [
      "C:\\Users\\Alienware\\AppData\\Local\\Temp\\ipykernel_55772\\2546310195.py:22: RuntimeWarning: invalid value encountered in divide\n",
      "  return(np.sum(Q/np.max(Q)*100))\n"
     ]
    },
    {
     "data": {
      "text/plain": [
       "matrix([[  0.,   0.,   0.,   0.,   0.,   0.,   0.,   0.],\n",
       "        [  0.,   0.,  29.,   0.,   0., -32.,   0.,   0.],\n",
       "        [  0.,   0.,   0.,   0.,   0.,   0.,   0.,   0.],\n",
       "        [  0.,   0.,  88.,   0.,   0.,   0.,   0.,   0.],\n",
       "        [  0.,   0.,   0.,   0.,   0., -73.,   0.,   0.],\n",
       "        [  0.,   0.,   0.,   0., -33.,   0., -33.,   0.],\n",
       "        [  0.,   0.,   0.,   0.,   0., -82.,   0.,   0.],\n",
       "        [  0.,   0.,  50.,   0.,   0.,   0.,   0.,   0.]])"
      ]
     },
     "execution_count": 21,
     "metadata": {},
     "output_type": "execute_result"
    }
   ],
   "source": [
    "# This function updates the Q matrix according to the path selected and the Q \n",
    "# learning algorithm\n",
    "def update(current_state, action, gamma):\n",
    "    \n",
    "    max_index = np.where(Q[action,] == np.max(Q[action,]))[1]\n",
    "\n",
    "    if max_index.shape[0] > 1:\n",
    "        max_index = int(np.random.choice(max_index, size = 1))\n",
    "    else:\n",
    "        max_index = int(max_index)\n",
    "    max_value = Q[action, max_index]\n",
    "\n",
    "    Q[current_state, action] = R[current_state, action] + gamma * max_value\n",
    "    # print('max_value', R[current_state, action] + gamma * max_value)\n",
    "\n",
    "    environment = collect_environmental_data(action)\n",
    "    if 'b' in environment: \n",
    "        enviro_matrix[current_state, action] += 1\n",
    "    if 's' in environment: \n",
    "        enviro_matrix[current_state, action] -= 1\n",
    "\n",
    "    return(np.sum(Q/np.max(Q)*100))\n",
    "\n",
    "update(initial_state,action,gamma)\n",
    "\n",
    "enviro_matrix_snap = enviro_matrix.copy()\n",
    "enviro_matrix_snap"
   ]
  },
  {
   "cell_type": "code",
   "execution_count": 22,
   "id": "7c664c52-93cf-48bf-9373-38a6d719430f",
   "metadata": {},
   "outputs": [],
   "source": [
    "def available_actions_with_enviro_help(state): # only returns available actions correspondent to positive values in the enviro_matrix\n",
    "    current_state_row = R[state,]\n",
    "    av_act = np.where(current_state_row >= 0)[1]\n",
    "    # if there are multiple routes, dis-favor anything negative\n",
    "    env_pos_row = enviro_matrix_snap[state,av_act]\n",
    "    if (np.sum(env_pos_row < 0)):\n",
    "        # can we remove the negative directions from av_act?\n",
    "        temp_av_act = av_act[np.array(env_pos_row)[0]>=0]\n",
    "        if len(temp_av_act) > 0:\n",
    "            print('going from:',av_act)\n",
    "            print('to:',temp_av_act)\n",
    "            av_act = temp_av_act\n",
    "    return av_act"
   ]
  },
  {
   "cell_type": "code",
   "execution_count": 23,
   "id": "9993353f-bbd3-429f-aabe-872cdda77e02",
   "metadata": {},
   "outputs": [
    {
     "data": {
      "text/plain": [
       "array([1, 4, 6], dtype=int64)"
      ]
     },
     "execution_count": 23,
     "metadata": {},
     "output_type": "execute_result"
    }
   ],
   "source": [
    "state_test = 5\n",
    "av_act_test = np.where(R[state_test,] >= 0)[1]\n",
    "av_act_test"
   ]
  },
  {
   "cell_type": "code",
   "execution_count": 24,
   "id": "5d5dc371-4e08-4649-bab0-28665358b987",
   "metadata": {},
   "outputs": [
    {
     "data": {
      "text/plain": [
       "matrix([[  0., -33., -33.]])"
      ]
     },
     "execution_count": 24,
     "metadata": {},
     "output_type": "execute_result"
    }
   ],
   "source": [
    "env_pos_row_test = enviro_matrix_snap[state_test,av_act_test]\n",
    "env_pos_row_test"
   ]
  },
  {
   "cell_type": "code",
   "execution_count": 25,
   "id": "431e84a0-ccca-44f9-beb8-bb348a7517e7",
   "metadata": {},
   "outputs": [
    {
     "data": {
      "text/plain": [
       "array([1], dtype=int64)"
      ]
     },
     "execution_count": 25,
     "metadata": {},
     "output_type": "execute_result"
    }
   ],
   "source": [
    "temp_av_act_test = av_act_test[np.array(env_pos_row_test)[0]>=0]\n",
    "temp_av_act_test"
   ]
  },
  {
   "cell_type": "code",
   "execution_count": 26,
   "id": "b014cf8a-bae3-494a-82e5-ea40b1a3af71",
   "metadata": {},
   "outputs": [
    {
     "name": "stdout",
     "output_type": "stream",
     "text": [
      "going from: [0 2 5]\n",
      "to: [0 2]\n",
      "going from: [1 4 6]\n",
      "to: [1]\n",
      "going from: [0 2 5]\n",
      "to: [0 2]\n",
      "going from: [1 4 6]\n",
      "to: [1]\n",
      "going from: [0 2 5]\n",
      "to: [0 2]\n",
      "going from: [1 4 6]\n",
      "to: [1]\n",
      "going from: [1 4 6]\n",
      "to: [1]\n",
      "going from: [0 2 5]\n",
      "to: [0 2]\n",
      "going from: [0 2 5]\n",
      "to: [0 2]\n",
      "going from: [1 4 6]\n",
      "to: [1]\n",
      "going from: [1 4 6]\n",
      "to: [1]\n",
      "going from: [0 2 5]\n",
      "to: [0 2]\n",
      "going from: [0 2 5]\n",
      "to: [0 2]\n",
      "going from: [0 2 5]\n",
      "to: [0 2]\n",
      "going from: [0 2 5]\n",
      "to: [0 2]\n",
      "going from: [1 4 6]\n",
      "to: [1]\n",
      "going from: [1 4 6]\n",
      "to: [1]\n",
      "going from: [1 4 6]\n",
      "to: [1]\n",
      "going from: [1 4 6]\n",
      "to: [1]\n",
      "going from: [0 2 5]\n",
      "to: [0 2]\n",
      "going from: [0 2 5]\n",
      "to: [0 2]\n",
      "going from: [0 2 5]\n",
      "to: [0 2]\n",
      "going from: [0 2 5]\n",
      "to: [0 2]\n",
      "going from: [1 4 6]\n",
      "to: [1]\n",
      "going from: [1 4 6]\n",
      "to: [1]\n",
      "going from: [1 4 6]\n",
      "to: [1]\n",
      "going from: [0 2 5]\n",
      "to: [0 2]\n",
      "going from: [0 2 5]\n",
      "to: [0 2]\n",
      "going from: [0 2 5]\n",
      "to: [0 2]\n",
      "going from: [1 4 6]\n",
      "to: [1]\n",
      "going from: [0 2 5]\n",
      "to: [0 2]\n",
      "going from: [0 2 5]\n",
      "to: [0 2]\n",
      "going from: [0 2 5]\n",
      "to: [0 2]\n",
      "going from: [0 2 5]\n",
      "to: [0 2]\n",
      "going from: [0 2 5]\n",
      "to: [0 2]\n",
      "going from: [0 2 5]\n",
      "to: [0 2]\n",
      "going from: [1 4 6]\n",
      "to: [1]\n",
      "going from: [1 4 6]\n",
      "to: [1]\n",
      "going from: [1 4 6]\n",
      "to: [1]\n",
      "going from: [0 2 5]\n",
      "to: [0 2]\n",
      "going from: [0 2 5]\n",
      "to: [0 2]\n",
      "going from: [1 4 6]\n",
      "to: [1]\n",
      "going from: [1 4 6]\n",
      "to: [1]\n",
      "going from: [1 4 6]\n",
      "to: [1]\n",
      "going from: [0 2 5]\n",
      "to: [0 2]\n",
      "going from: [1 4 6]\n",
      "to: [1]\n",
      "going from: [0 2 5]\n",
      "to: [0 2]\n",
      "going from: [0 2 5]\n",
      "to: [0 2]\n",
      "going from: [0 2 5]\n",
      "to: [0 2]\n",
      "going from: [1 4 6]\n",
      "to: [1]\n",
      "going from: [1 4 6]\n",
      "to: [1]\n",
      "going from: [0 2 5]\n",
      "to: [0 2]\n",
      "going from: [0 2 5]\n",
      "to: [0 2]\n",
      "going from: [1 4 6]\n",
      "to: [1]\n",
      "going from: [0 2 5]\n",
      "to: [0 2]\n",
      "going from: [1 4 6]\n",
      "to: [1]\n",
      "going from: [1 4 6]\n",
      "to: [1]\n",
      "going from: [0 2 5]\n",
      "to: [0 2]\n",
      "going from: [0 2 5]\n",
      "to: [0 2]\n",
      "going from: [1 4 6]\n",
      "to: [1]\n",
      "going from: [0 2 5]\n",
      "to: [0 2]\n",
      "going from: [1 4 6]\n",
      "to: [1]\n",
      "going from: [0 2 5]\n",
      "to: [0 2]\n",
      "going from: [0 2 5]\n",
      "to: [0 2]\n",
      "going from: [1 4 6]\n",
      "to: [1]\n",
      "going from: [0 2 5]\n",
      "to: [0 2]\n",
      "going from: [0 2 5]\n",
      "to: [0 2]\n",
      "going from: [1 4 6]\n",
      "to: [1]\n",
      "going from: [0 2 5]\n",
      "to: [0 2]\n",
      "going from: [1 4 6]\n",
      "to: [1]\n",
      "going from: [1 4 6]\n",
      "to: [1]\n",
      "going from: [0 2 5]\n",
      "to: [0 2]\n",
      "going from: [1 4 6]\n",
      "to: [1]\n",
      "going from: [0 2 5]\n",
      "to: [0 2]\n",
      "going from: [1 4 6]\n",
      "to: [1]\n",
      "going from: [1 4 6]\n",
      "to: [1]\n",
      "going from: [0 2 5]\n",
      "to: [0 2]\n",
      "going from: [1 4 6]\n",
      "to: [1]\n",
      "going from: [1 4 6]\n",
      "to: [1]\n",
      "going from: [1 4 6]\n",
      "to: [1]\n",
      "going from: [1 4 6]\n",
      "to: [1]\n",
      "going from: [1 4 6]\n",
      "to: [1]\n",
      "going from: [0 2 5]\n",
      "to: [0 2]\n",
      "going from: [1 4 6]\n",
      "to: [1]\n",
      "going from: [1 4 6]\n",
      "to: [1]\n",
      "going from: [0 2 5]\n",
      "to: [0 2]\n",
      "going from: [0 2 5]\n",
      "to: [0 2]\n",
      "going from: [0 2 5]\n",
      "to: [0 2]\n",
      "going from: [0 2 5]\n",
      "to: [0 2]\n",
      "going from: [1 4 6]\n",
      "to: [1]\n",
      "going from: [1 4 6]\n",
      "to: [1]\n",
      "going from: [0 2 5]\n",
      "to: [0 2]\n",
      "going from: [0 2 5]\n",
      "to: [0 2]\n",
      "going from: [0 2 5]\n",
      "to: [0 2]\n",
      "going from: [1 4 6]\n",
      "to: [1]\n",
      "going from: [0 2 5]\n",
      "to: [0 2]\n",
      "going from: [1 4 6]\n",
      "to: [1]\n",
      "going from: [1 4 6]\n",
      "to: [1]\n",
      "going from: [1 4 6]\n",
      "to: [1]\n",
      "going from: [0 2 5]\n",
      "to: [0 2]\n",
      "going from: [0 2 5]\n",
      "to: [0 2]\n",
      "going from: [0 2 5]\n",
      "to: [0 2]\n",
      "going from: [1 4 6]\n",
      "to: [1]\n",
      "going from: [0 2 5]\n",
      "to: [0 2]\n",
      "going from: [1 4 6]\n",
      "to: [1]\n",
      "going from: [1 4 6]\n",
      "to: [1]\n",
      "going from: [0 2 5]\n",
      "to: [0 2]\n",
      "going from: [0 2 5]\n",
      "to: [0 2]\n",
      "going from: [1 4 6]\n",
      "to: [1]\n",
      "going from: [1 4 6]\n",
      "to: [1]\n",
      "going from: [1 4 6]\n",
      "to: [1]\n",
      "going from: [0 2 5]\n",
      "to: [0 2]\n",
      "going from: [1 4 6]\n",
      "to: [1]\n",
      "going from: [0 2 5]\n",
      "to: [0 2]\n",
      "going from: [1 4 6]\n",
      "to: [1]\n",
      "going from: [1 4 6]\n",
      "to: [1]\n",
      "going from: [0 2 5]\n",
      "to: [0 2]\n",
      "going from: [1 4 6]\n",
      "to: [1]\n",
      "going from: [1 4 6]\n",
      "to: [1]\n",
      "going from: [1 4 6]\n",
      "to: [1]\n",
      "going from: [1 4 6]\n",
      "to: [1]\n",
      "going from: [0 2 5]\n",
      "to: [0 2]\n",
      "going from: [1 4 6]\n",
      "to: [1]\n",
      "going from: [0 2 5]\n",
      "to: [0 2]\n",
      "going from: [0 2 5]\n",
      "to: [0 2]\n",
      "going from: [0 2 5]\n",
      "to: [0 2]\n",
      "going from: [1 4 6]\n",
      "to: [1]\n",
      "going from: [1 4 6]\n",
      "to: [1]\n",
      "going from: [1 4 6]\n",
      "to: [1]\n",
      "going from: [0 2 5]\n",
      "to: [0 2]\n",
      "going from: [0 2 5]\n",
      "to: [0 2]\n",
      "going from: [0 2 5]\n",
      "to: [0 2]\n",
      "going from: [1 4 6]\n",
      "to: [1]\n",
      "going from: [0 2 5]\n",
      "to: [0 2]\n",
      "going from: [0 2 5]\n",
      "to: [0 2]\n",
      "going from: [1 4 6]\n",
      "to: [1]\n",
      "going from: [0 2 5]\n",
      "to: [0 2]\n",
      "going from: [1 4 6]\n",
      "to: [1]\n",
      "going from: [1 4 6]\n",
      "to: [1]\n",
      "going from: [0 2 5]\n",
      "to: [0 2]\n",
      "going from: [1 4 6]\n",
      "to: [1]\n",
      "going from: [0 2 5]\n",
      "to: [0 2]\n",
      "going from: [0 2 5]\n",
      "to: [0 2]\n",
      "going from: [0 2 5]\n",
      "to: [0 2]\n",
      "going from: [1 4 6]\n",
      "to: [1]\n",
      "going from: [0 2 5]\n",
      "to: [0 2]\n",
      "going from: [1 4 6]\n",
      "to: [1]\n",
      "going from: [0 2 5]\n",
      "to: [0 2]\n",
      "going from: [1 4 6]\n",
      "to: [1]\n",
      "going from: [0 2 5]\n",
      "to: [0 2]\n",
      "going from: [1 4 6]\n",
      "to: [1]\n",
      "going from: [1 4 6]\n",
      "to: [1]\n",
      "going from: [1 4 6]\n",
      "to: [1]\n",
      "going from: [0 2 5]\n",
      "to: [0 2]\n"
     ]
    },
    {
     "name": "stderr",
     "output_type": "stream",
     "text": [
      "C:\\Users\\Alienware\\AppData\\Local\\Temp\\ipykernel_55772\\2546310195.py:22: RuntimeWarning: invalid value encountered in divide\n",
      "  return(np.sum(Q/np.max(Q)*100))\n"
     ]
    },
    {
     "name": "stdout",
     "output_type": "stream",
     "text": [
      "going from: [1 4 6]\n",
      "to: [1]\n",
      "going from: [0 2 5]\n",
      "to: [0 2]\n",
      "going from: [1 4 6]\n",
      "to: [1]\n",
      "going from: [0 2 5]\n",
      "to: [0 2]\n",
      "going from: [1 4 6]\n",
      "to: [1]\n",
      "going from: [1 4 6]\n",
      "to: [1]\n",
      "going from: [1 4 6]\n",
      "to: [1]\n",
      "going from: [0 2 5]\n",
      "to: [0 2]\n",
      "going from: [0 2 5]\n",
      "to: [0 2]\n",
      "going from: [0 2 5]\n",
      "to: [0 2]\n",
      "going from: [1 4 6]\n",
      "to: [1]\n",
      "going from: [1 4 6]\n",
      "to: [1]\n",
      "going from: [0 2 5]\n",
      "to: [0 2]\n",
      "going from: [0 2 5]\n",
      "to: [0 2]\n",
      "going from: [0 2 5]\n",
      "to: [0 2]\n",
      "going from: [0 2 5]\n",
      "to: [0 2]\n",
      "going from: [0 2 5]\n",
      "to: [0 2]\n",
      "going from: [0 2 5]\n",
      "to: [0 2]\n",
      "going from: [1 4 6]\n",
      "to: [1]\n",
      "going from: [0 2 5]\n",
      "to: [0 2]\n",
      "going from: [0 2 5]\n",
      "to: [0 2]\n",
      "going from: [0 2 5]\n",
      "to: [0 2]\n",
      "going from: [1 4 6]\n",
      "to: [1]\n",
      "going from: [0 2 5]\n",
      "to: [0 2]\n",
      "going from: [0 2 5]\n",
      "to: [0 2]\n",
      "going from: [1 4 6]\n",
      "to: [1]\n",
      "going from: [0 2 5]\n",
      "to: [0 2]\n",
      "going from: [1 4 6]\n",
      "to: [1]\n",
      "going from: [0 2 5]\n",
      "to: [0 2]\n",
      "going from: [0 2 5]\n",
      "to: [0 2]\n",
      "going from: [0 2 5]\n",
      "to: [0 2]\n",
      "going from: [0 2 5]\n",
      "to: [0 2]\n",
      "going from: [0 2 5]\n",
      "to: [0 2]\n",
      "going from: [1 4 6]\n",
      "to: [1]\n",
      "going from: [1 4 6]\n",
      "to: [1]\n",
      "going from: [1 4 6]\n",
      "to: [1]\n",
      "going from: [1 4 6]\n",
      "to: [1]\n",
      "going from: [1 4 6]\n",
      "to: [1]\n",
      "going from: [1 4 6]\n",
      "to: [1]\n",
      "going from: [1 4 6]\n",
      "to: [1]\n",
      "going from: [0 2 5]\n",
      "to: [0 2]\n",
      "going from: [0 2 5]\n",
      "to: [0 2]\n",
      "going from: [0 2 5]\n",
      "to: [0 2]\n",
      "going from: [0 2 5]\n",
      "to: [0 2]\n",
      "going from: [0 2 5]\n",
      "to: [0 2]\n",
      "going from: [1 4 6]\n",
      "to: [1]\n",
      "going from: [0 2 5]\n",
      "to: [0 2]\n"
     ]
    },
    {
     "data": {
      "image/png": "[encoded data removed]",
      "text/plain": [
       "<Figure size 640x480 with 1 Axes>"
      ]
     },
     "metadata": {},
     "output_type": "display_data"
    }
   ],
   "source": [
    "# Training\n",
    "scores = []\n",
    "for i in range(700):\n",
    "    current_state = np.random.randint(0, int(Q.shape[0]))\n",
    "    available_act = available_actions_with_enviro_help(current_state)\n",
    "    action = sample_next_action(available_act)\n",
    "    score = update(current_state,action,gamma)\n",
    "    scores.append(score)\n",
    "    # print ('Score:', str(score))\n",
    " \n",
    "\n",
    "plt.plot(scores)\n",
    "plt.show()"
   ]
  },
  {
   "cell_type": "code",
   "execution_count": null,
   "id": "db8c1230-589f-465c-9cef-8acade0cda0b",
   "metadata": {},
   "outputs": [],
   "source": []
  },
  {
   "cell_type": "code",
   "execution_count": null,
   "id": "471b7dc2-3676-42b5-99ee-e9d87a23ecc2",
   "metadata": {},
   "outputs": [],
   "source": []
  }
 ],
 "metadata": {
  "kernelspec": {
   "display_name": "Py310",
   "language": "python",
   "name": "py310"
  },
  "language_info": {
   "codemirror_mode": {
    "name": "ipython",
    "version": 3
   },
   "file_extension": ".py",
   "mimetype": "text/x-python",
   "name": "python",
   "nbconvert_exporter": "python",
   "pygments_lexer": "ipython3",
   "version": "3.10.11"
  }
 },
 "nbformat": 4,
 "nbformat_minor": 5
}
