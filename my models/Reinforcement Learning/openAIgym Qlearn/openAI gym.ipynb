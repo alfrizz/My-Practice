{
 "cells": [
  {
   "cell_type": "code",
   "execution_count": 2,
   "id": "ead61280-b80e-487e-b0ec-f8f5a93456b3",
   "metadata": {},
   "outputs": [
    {
     "data": {
      "text/plain": [
       "(283,\n",
       " -1,\n",
       " False,\n",
       " False,\n",
       " {'prob': 1.0, 'action_mask': array([1, 1, 0, 1, 0, 0], dtype=int8)})"
      ]
     },
     "execution_count": 2,
     "metadata": {},
     "output_type": "execute_result"
    }
   ],
   "source": [
    "import gym\n",
    "import time\n",
    "import numpy as np\n",
    "import random\n",
    "import matplotlib.pyplot as plt\n",
    "from IPython.display import clear_output\n",
    "\n",
    "env = gym.make('Taxi-v3').env\n",
    "# env = gym.make('Taxi-v3', render_mode='human').env # if we want to render\n",
    "# We are using the .env on the end of make to avoid training stopping at 200 iterations, which is the default for the new version of Gym (?)\n",
    "\n",
    "action = env.action_space.sample()  # take a random action\n",
    "\n",
    "env.reset()\n",
    "env.step(action)\n",
    "\n",
    "\n",
    "# 1-south\n",
    "# 2-north\n",
    "# 3-east\n",
    "# 4-west\n",
    "# 5-pickup\n",
    "# 6-dropoff"
   ]
  },
  {
   "cell_type": "code",
   "execution_count": 2,
   "id": "814b4e4f-1b46-42fb-b79b-9004b64eb32e",
   "metadata": {},
   "outputs": [
    {
     "name": "stdout",
     "output_type": "stream",
     "text": [
      "Step 1:\n",
      "(291, -10, False, False, {'prob': 1.0, 'action_mask': array([1, 1, 0, 1, 0, 0], dtype=int8)})\n",
      "Step 2:\n",
      "(291, -1, False, False, {'prob': 1.0, 'action_mask': array([1, 1, 0, 1, 0, 0], dtype=int8)})\n",
      "Step 3:\n",
      "(491, -1, False, False, {'prob': 1.0, 'action_mask': array([0, 1, 0, 1, 0, 0], dtype=int8)})\n"
     ]
    }
   ],
   "source": [
    "for i in range(3):\n",
    "    action = env.action_space.sample()  # take a random action\n",
    "    observation, reward, done, info, action_mask = env.step(action)\n",
    "    # observation: Observations of the environment\n",
    "    # reward: If your action was beneficial or not\n",
    "    # done: Indicates if we have successfully picked up and dropped off a passenger, also called one episode\n",
    "    # info: Additional info such as performance and latency for debugging purposes\n",
    "    print(f\"Step {i+1}:\")\n",
    "    print(env.step(action))\n",
    "    env.render() # Renders one frame of the environment (helpful in visualizing the environment)"
   ]
  },
  {
   "cell_type": "code",
   "execution_count": 3,
   "id": "09cfba40-84bf-4946-9511-8ba5e2715e4f",
   "metadata": {},
   "outputs": [
    {
     "name": "stdout",
     "output_type": "stream",
     "text": [
      "Action Space Discrete(6)\n",
      "State Space Discrete(500)\n"
     ]
    },
    {
     "data": {
      "text/plain": [
       "'\\nThe 6 actions typically represent the taxi’s possible movements (south, north, east, west, pickup, dropoff)\\n\\nand the 500 states represent the different combinations of taxi locations, passenger locations, and destination locations:\\n\\nTaxi Locations: The taxi can be in one of 25 locations on a 5x5 grid, which gives us 25 possible taxi locations.\\nPassenger Locations: The passenger can be at one of 5 locations (4 destinations + 1 in the taxi), which gives us 5 possible passenger locations.\\nDestination Locations: There are 4 possible destinations.\\nSo, the total number of states is the product of these three quantities: 25 (taxi locations) * 5 (passenger locations) * 4 (destination locations) = 500.\\n\\nThis means that there are 500 different situations (states) that our agent could possibly encounter in this environment\\n'"
      ]
     },
     "execution_count": 3,
     "metadata": {},
     "output_type": "execute_result"
    }
   ],
   "source": [
    "'''\n",
    "\"There are 4 locations (labeled by different letters), and our job is to pick up the passenger at one location and drop him off at another. We receive +20 points for a successful drop-off and lose 1 point for every time-step it takes. There is also a 10 point penalty for illegal pick-up and drop-off actions.\"\n",
    "'''\n",
    "\n",
    "print(\"Action Space {}\".format(env.action_space))\n",
    "print(\"State Space {}\".format(env.observation_space))\n",
    "\n",
    "'''\n",
    "The 6 actions typically represent the taxi’s possible movements (south, north, east, west, pickup, dropoff)\n",
    "\n",
    "and the 500 states represent the different combinations of taxi locations, passenger locations, and destination locations:\n",
    "\n",
    "Taxi Locations: The taxi can be in one of 25 locations on a 5x5 grid, which gives us 25 possible taxi locations.\n",
    "Passenger Locations: The passenger can be at one of 5 locations (4 destinations + 1 in the taxi), which gives us 5 possible passenger locations.\n",
    "Destination Locations: There are 4 possible destinations.\n",
    "So, the total number of states is the product of these three quantities: 25 (taxi locations) * 5 (passenger locations) * 4 (destination locations) = 500.\n",
    "\n",
    "This means that there are 500 different situations (states) that our agent could possibly encounter in this environment\n",
    "'''"
   ]
  },
  {
   "cell_type": "code",
   "execution_count": 4,
   "id": "ef1f16f9-f0cf-44d1-a922-e24a94c2802c",
   "metadata": {},
   "outputs": [
    {
     "name": "stdout",
     "output_type": "stream",
     "text": [
      "State: 499\n"
     ]
    }
   ],
   "source": [
    " # if we have the taxi at row 3, column 1, our passenger is at location 2, and our destination is location 0:\n",
    "\n",
    "# env.reset()\n",
    "# setting the state manually not allowed in certain environments\n",
    "\n",
    "state = env.encode(4, 4, 4, 3) # (taxi row [0-4], taxi column[0-4], passenger index[0-4] (4 if passenger on taxi) , destination index[0-3])\n",
    "print(\"State:\", state)\n",
    "\n",
    "env.s = state\n",
    "\n",
    "env.render()"
   ]
  },
  {
   "cell_type": "code",
   "execution_count": 5,
   "id": "c873f6a6-ba4e-4c88-9f6e-b05f513428fa",
   "metadata": {},
   "outputs": [
    {
     "name": "stdout",
     "output_type": "stream",
     "text": [
      "500\n"
     ]
    },
    {
     "data": {
      "text/plain": [
       "{0: [(1.0, 499, -1, False)],\n",
       " 1: [(1.0, 399, -1, False)],\n",
       " 2: [(1.0, 499, -1, False)],\n",
       " 3: [(1.0, 479, -1, False)],\n",
       " 4: [(1.0, 499, -10, False)],\n",
       " 5: [(1.0, 499, -10, False)]}"
      ]
     },
     "execution_count": 5,
     "metadata": {},
     "output_type": "execute_result"
    }
   ],
   "source": [
    "'''\n",
    "Reward Table\n",
    "'''\n",
    "\n",
    "# The 0-5 corresponds to the actions (south, north, east, west, pickup, dropoff) the taxi can perform at our current state in the illustration.\n",
    "# In this env, probability is always 1.0.\n",
    "# The nextstate is the state we would be in if we take the action at this index of the dict\n",
    "# All the movement actions have a -1 reward and the pickup/dropoff actions have -10 reward in this particular state. If we are in a state where the taxi has a passenger and is on top of the right destination, we would see a reward of 20 at the dropoff action (5)\n",
    "# done is used to tell us when we have successfully dropped off a passenger in the right location. Each successfull dropoff is the end of an episode\n",
    "\n",
    "print(len(env.P))\n",
    "env.P[499]"
   ]
  },
  {
   "cell_type": "code",
   "execution_count": null,
   "id": "20be45b7-5957-4d41-9a71-c9ed190af2fc",
   "metadata": {},
   "outputs": [
    {
     "name": "stdout",
     "output_type": "stream",
     "text": [
      "Episode 9 steps 4319 penalties 1350 done False state 251 action 1\n"
     ]
    }
   ],
   "source": [
    "# Solving the environment without Reinforcement Learning\n",
    "\n",
    "# env.s = 499  # set environment to illustration's state\n",
    "\n",
    "total_epochs, total_penalties = 0, 0 # epochs==step, penalties==wrong pick up, drop off\n",
    "episodes = 10\n",
    "\n",
    "for i in range(1, episodes):\n",
    "\n",
    "    epochs = 0 # a epoch is just one step\n",
    "    penalties, reward = 0, 0\n",
    "\n",
    "    # frames = [] # for animation\n",
    "\n",
    "    done = False\n",
    "    state = env.reset()[0]\n",
    "\n",
    "    while not done:\n",
    "        action = env.action_space.sample()\n",
    "        # time.sleep(0.0001)\n",
    "        state, reward, done, info, _ = env.step(action)\n",
    "\n",
    "        # env.render()\n",
    "\n",
    "        if reward == -10:\n",
    "            penalties += 1\n",
    "\n",
    "\n",
    "        # # Put each rendered frame into dict for animation\n",
    "        # frames.append({\n",
    "        #     'frame': env.render(), #(mode='ansi'),\n",
    "        #     'state': state,\n",
    "        #     'action': action,\n",
    "        #     'reward': reward\n",
    "        #     }\n",
    "        # )\n",
    "\n",
    "        epochs += 1\n",
    "        clear_output(wait=True)\n",
    "        print('Episode', i, 'steps', epochs, 'penalties', penalties, 'done', done, 'state', state, 'action', action)\n",
    "    \n",
    "    \n",
    "    total_penalties += penalties\n",
    "    total_epochs += epochs\n",
    "    \n",
    "print(f\"Results after {episodes} episodes:\")\n",
    "print(f\"Average timesteps per episode: {total_epochs / (episodes-1)}\")\n",
    "print(f\"Average penalties per episode: {total_penalties / (episodes-1)}\")\n"
   ]
  },
  {
   "cell_type": "code",
   "execution_count": 10,
   "id": "3e154ab4-f7f6-40dc-895d-1a17386db354",
   "metadata": {},
   "outputs": [
    {
     "data": {
      "text/plain": [
       "'\\n%%time\\n\\n# Implementing Q-learning\\n\\n# First, we\\'ll initialize the Q-table to a 500*6 matrix of zeros:\\n\\nq_table = np.zeros([env.observation_space.n, env.action_space.n])\\n\\n\"\"\"Training the agent\"\"\"\\n\\n# Hyperparameters\\nalpha = 0.1\\ngamma = 0.6\\nepsilon = 0.3\\n\\n# For plotting metrics\\nall_epochs = []\\nall_penalties = []\\n\\nfor i in range(1, 3000):\\n    state = env.reset()[0]\\n\\n    epochs, penalties, reward, = 0, 0, 0\\n    done = False\\n    \\n    while not done:\\n        if random.uniform(0, 1) < epsilon:\\n            action = env.action_space.sample() # Explore action space\\n        else:\\n            action = np.argmax(q_table[state]) # Exploit learned values\\n\\n        next_state, reward, done, info, _ = env.step(action) \\n        \\n        old_value = q_table[state, action]\\n        next_max = np.max(q_table[next_state])\\n        \\n        new_value = (1 - alpha) * old_value + alpha * (reward + gamma * next_max)\\n        q_table[state, action] = new_value\\n\\n        if reward == -10:\\n            penalties += 1\\n\\n        state = next_state\\n        epochs += 1\\n        \\n        clear_output(wait=True)\\n        print(\\'Episode\\', i)\\n        print(\\'steps\\', epochs)\\n        print(\\'state:\\', state)\\n        print(\\'next_state:\\', next_state)\\n        print(\\'action:\\', action)\\n        print(\\'next_max:\\', next_max)\\n        print(\\'reward:\\', reward)\\n        print(\\'penalties:\\', penalties)\\n        print(\\'epsilon:\\', epsilon)\\n        \\n    all_epochs.append(epochs)\\n    all_penalties.append(penalties)\\n    epsilon -= 0.0001\\n\\nprint(\"Training finished.\\n\")\\n'"
      ]
     },
     "execution_count": 10,
     "metadata": {},
     "output_type": "execute_result"
    }
   ],
   "source": [
    "# skip if q_table already trained and saved\n",
    "\n",
    "'''\n",
    "%%time\n",
    "\n",
    "# Implementing Q-learning\n",
    "\n",
    "# First, we'll initialize the Q-table to a 500*6 matrix of zeros:\n",
    "\n",
    "q_table = np.zeros([env.observation_space.n, env.action_space.n])\n",
    "\n",
    "\"\"\"Training the agent\"\"\"\n",
    "\n",
    "# Hyperparameters\n",
    "alpha = 0.1\n",
    "gamma = 0.6\n",
    "epsilon = 0.3\n",
    "\n",
    "# For plotting metrics\n",
    "all_epochs = []\n",
    "all_penalties = []\n",
    "\n",
    "for i in range(1, 3000):\n",
    "    state = env.reset()[0]\n",
    "\n",
    "    epochs, penalties, reward, = 0, 0, 0\n",
    "    done = False\n",
    "    \n",
    "    while not done:\n",
    "        if random.uniform(0, 1) < epsilon:\n",
    "            action = env.action_space.sample() # Explore action space\n",
    "        else:\n",
    "            action = np.argmax(q_table[state]) # Exploit learned values\n",
    "\n",
    "        next_state, reward, done, info, _ = env.step(action) \n",
    "        \n",
    "        old_value = q_table[state, action]\n",
    "        next_max = np.max(q_table[next_state])\n",
    "        \n",
    "        new_value = (1 - alpha) * old_value + alpha * (reward + gamma * next_max)\n",
    "        q_table[state, action] = new_value\n",
    "\n",
    "        if reward == -10:\n",
    "            penalties += 1\n",
    "\n",
    "        state = next_state\n",
    "        epochs += 1\n",
    "        \n",
    "        clear_output(wait=True)\n",
    "        print('Episode', i)\n",
    "        print('steps', epochs)\n",
    "        print('state:', state)\n",
    "        print('next_state:', next_state)\n",
    "        print('action:', action)\n",
    "        print('next_max:', next_max)\n",
    "        print('reward:', reward)\n",
    "        print('penalties:', penalties)\n",
    "        print('epsilon:', epsilon)\n",
    "        \n",
    "    all_epochs.append(epochs)\n",
    "    all_penalties.append(penalties)\n",
    "    epsilon -= 0.0001\n",
    "\n",
    "print(\"Training finished.\\n\")\n",
    "'''"
   ]
  },
  {
   "cell_type": "code",
   "execution_count": 8,
   "id": "ef3a5cbb-80a5-46df-a19f-7e9a87ff1192",
   "metadata": {},
   "outputs": [],
   "source": [
    "# # Save the array to a file\n",
    "# np.save('q_table.npy', q_table)"
   ]
  },
  {
   "cell_type": "code",
   "execution_count": 4,
   "id": "afe80aa0-3472-4f9a-8f30-ae079bc83a00",
   "metadata": {},
   "outputs": [
    {
     "name": "stdout",
     "output_type": "stream",
     "text": [
      "(500, 6)\n"
     ]
    },
    {
     "data": {
      "text/plain": [
       "array([[ 0.     ,  0.     ,  0.     ,  0.     ,  0.     ,  0.     ],\n",
       "       [-2.35484, -2.32768, -2.34644, -2.31583, -2.27325, -9.75691],\n",
       "       [-1.8197 , -1.54662, -1.76067, -1.58554, -0.7504 , -5.44264],\n",
       "       ...,\n",
       "       [-1.14125, -0.90996, -1.14478, -1.15618, -5.40945, -3.55101],\n",
       "       [-2.11404, -2.10632, -2.11318, -2.10696, -7.11642, -7.79209],\n",
       "       [-0.196  ,  0.21011, -0.18097,  9.85536, -1.43697, -1.9114 ]])"
      ]
     },
     "execution_count": 4,
     "metadata": {},
     "output_type": "execute_result"
    }
   ],
   "source": [
    "# Load the array from the file\n",
    "q_table = np.load('q_table.npy')\n",
    "print(q_table.shape)\n",
    "np.round(q_table, 5)"
   ]
  },
  {
   "cell_type": "code",
   "execution_count": 6,
   "id": "f1bc2083-7a67-4dc2-be83-ff980a721cd6",
   "metadata": {},
   "outputs": [
    {
     "data": {
      "image/png": "[encoded data removed]",
      "text/plain": [
       "<Figure size 640x480 with 1 Axes>"
      ]
     },
     "metadata": {},
     "output_type": "display_data"
    }
   ],
   "source": [
    "# Create a heatmap\n",
    "plt.imshow(q_table, cmap='hot', interpolation='nearest', aspect='auto')\n",
    "\n",
    "# Show the plot\n",
    "plt.show()"
   ]
  },
  {
   "cell_type": "code",
   "execution_count": 7,
   "id": "74460bba-2741-428f-bb25-c8c9811c3387",
   "metadata": {},
   "outputs": [
    {
     "data": {
      "text/plain": [
       "array([[ -1,  -1,  -1,  -1,  -1, -10],\n",
       "       [ -1,  -1,  -1,  -1,  -1, -10],\n",
       "       [ -1,  -1,  -1,  -1,  -1, -10],\n",
       "       ...,\n",
       "       [ -1,  -1,  -1,  -1, -10, -10],\n",
       "       [ -1,  -1,  -1,  -1, -10, -10],\n",
       "       [ -1,  -1,  -1,  -1, -10, -10]])"
      ]
     },
     "execution_count": 7,
     "metadata": {},
     "output_type": "execute_result"
    }
   ],
   "source": [
    "rewards = []\n",
    "for state, actions in env.P.items():\n",
    "    for action, details in actions.items():\n",
    "        rewards.append(details[0][2])\n",
    "\n",
    "orig_rewards = np.array(rewards).reshape(q_table.shape[0], q_table.shape[1])\n",
    "orig_rewards"
   ]
  },
  {
   "cell_type": "code",
   "execution_count": 8,
   "id": "f97edaef-e833-45d6-9fc1-e78abd16a3aa",
   "metadata": {},
   "outputs": [
    {
     "data": {
      "image/png": "[encoded data removed]",
      "text/plain": [
       "<Figure size 640x480 with 1 Axes>"
      ]
     },
     "metadata": {},
     "output_type": "display_data"
    }
   ],
   "source": [
    "# Create a heatmap\n",
    "plt.imshow(orig_rewards, cmap='hot', interpolation='nearest', aspect='auto')\n",
    "\n",
    "# Show the plot\n",
    "plt.show()"
   ]
  },
  {
   "cell_type": "code",
   "execution_count": 18,
   "id": "7e84233e-79c0-405a-9565-009fd0653d37",
   "metadata": {},
   "outputs": [
    {
     "name": "stdout",
     "output_type": "stream",
     "text": [
      "Episode 9 steps 17 penalties 2 done True state 475 action 5\n",
      "Results after 10 episodes:\n",
      "Average timesteps per episode: 43.44444444444444\n",
      "Average penalties per episode: 4.555555555555555\n"
     ]
    }
   ],
   "source": [
    "\"\"\"Evaluate agent's performance after Q-learning\"\"\"\n",
    "\n",
    "total_epochs, total_penalties = 0, 0 # epochs==step, penalties==wrong pick up, drop off\n",
    "episodes = 10\n",
    "# If your Q-table has been correctly learned during training, then in theory, you should be able to use a purely greedy policy (always choosing the action with the highest Q-value) and still achieve optimal performance. In this case, insteas, we use a epsilon also here\n",
    "epsilon = 0.3  # probability of choosing a random action\n",
    "\n",
    "for i in range(1, episodes):\n",
    "    \n",
    "    epochs, penalties, reward = 0, 0, 0\n",
    "    done = False\n",
    " \n",
    "    state = env.reset()[0]\n",
    "\n",
    "    \n",
    "    while not done:\n",
    "        \n",
    "        # env.render()\n",
    "        \n",
    "        if np.random.uniform(0, 1) < epsilon:\n",
    "            action = env.action_space.sample()  # take random action\n",
    "        else:\n",
    "            action = np.argmax(q_table[state])  # take action with max Q-value\n",
    "        \n",
    "        state, reward, done, info, _ = env.step(action)\n",
    "\n",
    "\n",
    "        if reward == -10:\n",
    "            penalties += 1\n",
    "\n",
    "        epochs += 1\n",
    "        \n",
    "        clear_output(wait=True)\n",
    "        print('Episode', i, 'steps', epochs, 'penalties', penalties, 'done', done, 'state', state, 'action', action)\n",
    "\n",
    "    total_penalties += penalties\n",
    "    total_epochs += epochs\n",
    "    \n",
    "print(f\"Results after {episodes} episodes:\")\n",
    "print(f\"Average timesteps per episode: {total_epochs / (episodes-1)}\")\n",
    "print(f\"Average penalties per episode: {total_penalties / (episodes-1)}\")\n",
    "\n"
   ]
  },
  {
   "cell_type": "code",
   "execution_count": 162,
   "id": "4ea794d9-f643-40e4-8879-789122bfeb0b",
   "metadata": {},
   "outputs": [
    {
     "data": {
      "text/plain": [
       "(284,\n",
       " -1,\n",
       " False,\n",
       " False,\n",
       " {'prob': 1.0, 'action_mask': array([1, 1, 0, 1, 0, 0], dtype=int8)})"
      ]
     },
     "execution_count": 162,
     "metadata": {},
     "output_type": "execute_result"
    }
   ],
   "source": [
    "env.step(action)\n",
    "\n"
   ]
  },
  {
   "cell_type": "code",
   "execution_count": null,
   "id": "6bfc5806-a7bf-4611-9a1c-d3e9b0b687cd",
   "metadata": {},
   "outputs": [],
   "source": []
  },
  {
   "cell_type": "code",
   "execution_count": null,
   "id": "6a1fd5d4-4972-49d4-8f5d-11c9c9199052",
   "metadata": {},
   "outputs": [],
   "source": []
  },
  {
   "cell_type": "code",
   "execution_count": null,
   "id": "0f079fa6-633c-4902-8002-20b9875eaf95",
   "metadata": {},
   "outputs": [],
   "source": []
  },
  {
   "cell_type": "code",
   "execution_count": null,
   "id": "cba4fe58-5e9f-44e1-86f9-c694c0d91202",
   "metadata": {},
   "outputs": [],
   "source": []
  },
  {
   "cell_type": "code",
   "execution_count": null,
   "id": "4591a1b5-d178-4740-89bf-552715de3608",
   "metadata": {},
   "outputs": [],
   "source": []
  },
  {
   "cell_type": "code",
   "execution_count": null,
   "id": "d0e84af5-8d75-4117-bc30-db99b2ce709d",
   "metadata": {},
   "outputs": [],
   "source": []
  },
  {
   "cell_type": "code",
   "execution_count": null,
   "id": "b0b88a9b-fbfd-461a-9946-31195e97a4da",
   "metadata": {},
   "outputs": [],
   "source": []
  },
  {
   "cell_type": "code",
   "execution_count": null,
   "id": "60bc32f0-3391-40b7-8c8b-28207cc82ccb",
   "metadata": {},
   "outputs": [],
   "source": []
  }
 ],
 "metadata": {
  "kernelspec": {
   "display_name": "Py310",
   "language": "python",
   "name": "py310"
  },
  "language_info": {
   "codemirror_mode": {
    "name": "ipython",
    "version": 3
   },
   "file_extension": ".py",
   "mimetype": "text/x-python",
   "name": "python",
   "nbconvert_exporter": "python",
   "pygments_lexer": "ipython3",
   "version": "3.10.11"
  }
 },
 "nbformat": 4,
 "nbformat_minor": 5
}
