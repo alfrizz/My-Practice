{
 "cells": [
  {
   "cell_type": "code",
   "execution_count": 214,
   "id": "158230c9-1d4c-4e52-99f5-5a3c229520dc",
   "metadata": {},
   "outputs": [],
   "source": [
    "import numpy as np\n",
    "import pandas as pd\n",
    "import matplotlib.pyplot as plt\n",
    "\n",
    "import statsmodels.api as sm\n",
    "\n",
    "from scipy.stats import t\n",
    "from scipy.stats import norm, gaussian_kde\n",
    "from scipy.stats import anderson\n",
    "from scipy.stats import skewnorm, skewtest\n",
    "\n",
    "from pypfopt import CLA\n",
    "from pypfopt.expected_returns import mean_historical_return\n",
    "from pypfopt.risk_models import CovarianceShrinkage\n",
    "from pypfopt.efficient_frontier import EfficientCVaR"
   ]
  },
  {
   "cell_type": "markdown",
   "id": "a89a54d2-0286-4214-88b9-1c25d69f9a6c",
   "metadata": {},
   "source": [
    "Portfolio returns during the crisis\n",
    "\n",
    "The first step in quantifying the effects of uncertainty on a financial portfolio is to examine the portfolio's return. You'll consider a portfolio of four investment bank stocks, which were both instigators and victims of the global financial crisis.\n",
    "\n",
    "The banks are Citibank, Goldman Sachs, J.P. Morgan, and Morgan Stanley. Closing stock prices for the period 2005 - 2010 are in the available portfolio DataFrame. You'll use this to examine the dramatic price changes during the depths of the crisis, 2008 - 2009. You'll also see how volatile the resulting portfolio_returns were, assuming an equal-weighted portfolio with weights stored in the weights list."
   ]
  },
  {
   "cell_type": "code",
   "execution_count": 2,
   "id": "151822cc-4a79-4619-83ee-ab8ed7c6bc37",
   "metadata": {},
   "outputs": [
    {
     "name": "stderr",
     "output_type": "stream",
     "text": [
      "C:\\Users\\Alienware\\AppData\\Local\\Temp\\ipykernel_21264\\3914947465.py:2: UserWarning: Parsing dates in %d/%m/%Y format when dayfirst=False (the default) was specified. Pass `dayfirst=True` or specify a format to silence this warning.\n",
      "  portfolio.index = pd.to_datetime(portfolio.index)\n"
     ]
    },
    {
     "data": {
      "text/html": [
       "<div>\n",
       "<style scoped>\n",
       "    .dataframe tbody tr th:only-of-type {\n",
       "        vertical-align: middle;\n",
       "    }\n",
       "\n",
       "    .dataframe tbody tr th {\n",
       "        vertical-align: top;\n",
       "    }\n",
       "\n",
       "    .dataframe thead th {\n",
       "        text-align: right;\n",
       "    }\n",
       "</style>\n",
       "<table border=\"1\" class=\"dataframe\">\n",
       "  <thead>\n",
       "    <tr style=\"text-align: right;\">\n",
       "      <th></th>\n",
       "      <th>Citibank</th>\n",
       "      <th>Morgan Stanley</th>\n",
       "      <th>Goldman Sachs</th>\n",
       "      <th>J.P. Morgan</th>\n",
       "    </tr>\n",
       "    <tr>\n",
       "      <th>Date</th>\n",
       "      <th></th>\n",
       "      <th></th>\n",
       "      <th></th>\n",
       "      <th></th>\n",
       "    </tr>\n",
       "  </thead>\n",
       "  <tbody>\n",
       "    <tr>\n",
       "      <th>2004-12-31</th>\n",
       "      <td>481.799988</td>\n",
       "      <td>55.520000</td>\n",
       "      <td>104.040001</td>\n",
       "      <td>39.009998</td>\n",
       "    </tr>\n",
       "    <tr>\n",
       "      <th>2005-01-03</th>\n",
       "      <td>482.700012</td>\n",
       "      <td>55.900002</td>\n",
       "      <td>104.949997</td>\n",
       "      <td>39.150002</td>\n",
       "    </tr>\n",
       "    <tr>\n",
       "      <th>2005-01-04</th>\n",
       "      <td>478.600006</td>\n",
       "      <td>55.299999</td>\n",
       "      <td>104.269997</td>\n",
       "      <td>38.410000</td>\n",
       "    </tr>\n",
       "    <tr>\n",
       "      <th>2005-01-05</th>\n",
       "      <td>484.600006</td>\n",
       "      <td>54.980000</td>\n",
       "      <td>103.800003</td>\n",
       "      <td>38.490002</td>\n",
       "    </tr>\n",
       "    <tr>\n",
       "      <th>2005-01-06</th>\n",
       "      <td>489.299988</td>\n",
       "      <td>56.279999</td>\n",
       "      <td>105.230003</td>\n",
       "      <td>38.709999</td>\n",
       "    </tr>\n",
       "    <tr>\n",
       "      <th>...</th>\n",
       "      <td>...</td>\n",
       "      <td>...</td>\n",
       "      <td>...</td>\n",
       "      <td>...</td>\n",
       "    </tr>\n",
       "    <tr>\n",
       "      <th>2010-12-23</th>\n",
       "      <td>46.799999</td>\n",
       "      <td>27.410000</td>\n",
       "      <td>167.600006</td>\n",
       "      <td>42.080002</td>\n",
       "    </tr>\n",
       "    <tr>\n",
       "      <th>2010-12-27</th>\n",
       "      <td>47.700001</td>\n",
       "      <td>27.510000</td>\n",
       "      <td>169.830002</td>\n",
       "      <td>42.669998</td>\n",
       "    </tr>\n",
       "    <tr>\n",
       "      <th>2010-12-28</th>\n",
       "      <td>47.799999</td>\n",
       "      <td>27.660000</td>\n",
       "      <td>169.190002</td>\n",
       "      <td>42.610001</td>\n",
       "    </tr>\n",
       "    <tr>\n",
       "      <th>2010-12-29</th>\n",
       "      <td>47.700001</td>\n",
       "      <td>27.280001</td>\n",
       "      <td>167.630005</td>\n",
       "      <td>42.360001</td>\n",
       "    </tr>\n",
       "    <tr>\n",
       "      <th>2010-12-30</th>\n",
       "      <td>47.599998</td>\n",
       "      <td>27.330000</td>\n",
       "      <td>167.639999</td>\n",
       "      <td>42.230000</td>\n",
       "    </tr>\n",
       "  </tbody>\n",
       "</table>\n",
       "<p>1511 rows × 4 columns</p>\n",
       "</div>"
      ],
      "text/plain": [
       "              Citibank  Morgan Stanley  Goldman Sachs  J.P. Morgan\n",
       "Date                                                              \n",
       "2004-12-31  481.799988       55.520000     104.040001    39.009998\n",
       "2005-01-03  482.700012       55.900002     104.949997    39.150002\n",
       "2005-01-04  478.600006       55.299999     104.269997    38.410000\n",
       "2005-01-05  484.600006       54.980000     103.800003    38.490002\n",
       "2005-01-06  489.299988       56.279999     105.230003    38.709999\n",
       "...                ...             ...            ...          ...\n",
       "2010-12-23   46.799999       27.410000     167.600006    42.080002\n",
       "2010-12-27   47.700001       27.510000     169.830002    42.669998\n",
       "2010-12-28   47.799999       27.660000     169.190002    42.610001\n",
       "2010-12-29   47.700001       27.280001     167.630005    42.360001\n",
       "2010-12-30   47.599998       27.330000     167.639999    42.230000\n",
       "\n",
       "[1511 rows x 4 columns]"
      ]
     },
     "execution_count": 2,
     "metadata": {},
     "output_type": "execute_result"
    }
   ],
   "source": [
    "portfolio = pd.read_csv('crisis_portfolio.csv', index_col=0)\n",
    "portfolio.index = pd.to_datetime(portfolio.index)\n",
    "portfolio"
   ]
  },
  {
   "cell_type": "code",
   "execution_count": 3,
   "id": "25104019-3229-45a6-b590-eace140df695",
   "metadata": {},
   "outputs": [
    {
     "data": {
      "image/png": "[encoded data removed]",
      "text/plain": [
       "<Figure size 640x480 with 1 Axes>"
      ]
     },
     "metadata": {},
     "output_type": "display_data"
    }
   ],
   "source": [
    "# Select portfolio asset prices for the middle of the crisis, 2008-2009\n",
    "asset_prices = portfolio.loc['2008-01-01':'2009-12-31']\n",
    "\n",
    "# Plot portfolio's asset prices during this time\n",
    "asset_prices.plot().set_ylabel(\"Closing Prices, USD\")\n",
    "plt.show()"
   ]
  },
  {
   "cell_type": "code",
   "execution_count": 4,
   "id": "4b96a808-a22f-44c4-ade0-7c7b9c3608d9",
   "metadata": {},
   "outputs": [
    {
     "data": {
      "text/html": [
       "<div>\n",
       "<style scoped>\n",
       "    .dataframe tbody tr th:only-of-type {\n",
       "        vertical-align: middle;\n",
       "    }\n",
       "\n",
       "    .dataframe tbody tr th {\n",
       "        vertical-align: top;\n",
       "    }\n",
       "\n",
       "    .dataframe thead th {\n",
       "        text-align: right;\n",
       "    }\n",
       "</style>\n",
       "<table border=\"1\" class=\"dataframe\">\n",
       "  <thead>\n",
       "    <tr style=\"text-align: right;\">\n",
       "      <th></th>\n",
       "      <th>Citibank</th>\n",
       "      <th>Morgan Stanley</th>\n",
       "      <th>Goldman Sachs</th>\n",
       "      <th>J.P. Morgan</th>\n",
       "    </tr>\n",
       "    <tr>\n",
       "      <th>Date</th>\n",
       "      <th></th>\n",
       "      <th></th>\n",
       "      <th></th>\n",
       "      <th></th>\n",
       "    </tr>\n",
       "  </thead>\n",
       "  <tbody>\n",
       "    <tr>\n",
       "      <th>2008-01-02</th>\n",
       "      <td>NaN</td>\n",
       "      <td>NaN</td>\n",
       "      <td>NaN</td>\n",
       "      <td>NaN</td>\n",
       "    </tr>\n",
       "    <tr>\n",
       "      <th>2008-01-03</th>\n",
       "      <td>0.000346</td>\n",
       "      <td>-0.000196</td>\n",
       "      <td>-0.013295</td>\n",
       "      <td>-0.006877</td>\n",
       "    </tr>\n",
       "    <tr>\n",
       "      <th>2008-01-04</th>\n",
       "      <td>-0.023851</td>\n",
       "      <td>-0.032195</td>\n",
       "      <td>-0.023970</td>\n",
       "      <td>-0.022684</td>\n",
       "    </tr>\n",
       "    <tr>\n",
       "      <th>2008-01-07</th>\n",
       "      <td>0.000708</td>\n",
       "      <td>-0.020081</td>\n",
       "      <td>-0.026009</td>\n",
       "      <td>0.010017</td>\n",
       "    </tr>\n",
       "    <tr>\n",
       "      <th>2008-01-08</th>\n",
       "      <td>-0.039632</td>\n",
       "      <td>-0.039536</td>\n",
       "      <td>-0.026858</td>\n",
       "      <td>-0.039671</td>\n",
       "    </tr>\n",
       "    <tr>\n",
       "      <th>...</th>\n",
       "      <td>...</td>\n",
       "      <td>...</td>\n",
       "      <td>...</td>\n",
       "      <td>...</td>\n",
       "    </tr>\n",
       "    <tr>\n",
       "      <th>2009-12-24</th>\n",
       "      <td>0.018237</td>\n",
       "      <td>0.006460</td>\n",
       "      <td>0.002078</td>\n",
       "      <td>0.007940</td>\n",
       "    </tr>\n",
       "    <tr>\n",
       "      <th>2009-12-28</th>\n",
       "      <td>0.011940</td>\n",
       "      <td>-0.010473</td>\n",
       "      <td>-0.001281</td>\n",
       "      <td>-0.004058</td>\n",
       "    </tr>\n",
       "    <tr>\n",
       "      <th>2009-12-29</th>\n",
       "      <td>-0.005900</td>\n",
       "      <td>0.004780</td>\n",
       "      <td>0.002198</td>\n",
       "      <td>-0.005513</td>\n",
       "    </tr>\n",
       "    <tr>\n",
       "      <th>2009-12-30</th>\n",
       "      <td>-0.014837</td>\n",
       "      <td>0.002039</td>\n",
       "      <td>0.015720</td>\n",
       "      <td>0.000964</td>\n",
       "    </tr>\n",
       "    <tr>\n",
       "      <th>2009-12-31</th>\n",
       "      <td>-0.003012</td>\n",
       "      <td>0.003730</td>\n",
       "      <td>0.012837</td>\n",
       "      <td>0.003371</td>\n",
       "    </tr>\n",
       "  </tbody>\n",
       "</table>\n",
       "<p>505 rows × 4 columns</p>\n",
       "</div>"
      ],
      "text/plain": [
       "            Citibank  Morgan Stanley  Goldman Sachs  J.P. Morgan\n",
       "Date                                                            \n",
       "2008-01-02       NaN             NaN            NaN          NaN\n",
       "2008-01-03  0.000346       -0.000196      -0.013295    -0.006877\n",
       "2008-01-04 -0.023851       -0.032195      -0.023970    -0.022684\n",
       "2008-01-07  0.000708       -0.020081      -0.026009     0.010017\n",
       "2008-01-08 -0.039632       -0.039536      -0.026858    -0.039671\n",
       "...              ...             ...            ...          ...\n",
       "2009-12-24  0.018237        0.006460       0.002078     0.007940\n",
       "2009-12-28  0.011940       -0.010473      -0.001281    -0.004058\n",
       "2009-12-29 -0.005900        0.004780       0.002198    -0.005513\n",
       "2009-12-30 -0.014837        0.002039       0.015720     0.000964\n",
       "2009-12-31 -0.003012        0.003730       0.012837     0.003371\n",
       "\n",
       "[505 rows x 4 columns]"
      ]
     },
     "execution_count": 4,
     "metadata": {},
     "output_type": "execute_result"
    }
   ],
   "source": [
    "# Compute the portfolio's daily returns\n",
    "asset_returns = asset_prices.pct_change()\n",
    "asset_returns"
   ]
  },
  {
   "cell_type": "code",
   "execution_count": 5,
   "id": "2248f4de-d4d6-466b-ba34-50dda6685980",
   "metadata": {},
   "outputs": [
    {
     "data": {
      "text/plain": [
       "Date\n",
       "2008-01-02         NaN\n",
       "2008-01-03   -0.005006\n",
       "2008-01-04   -0.025675\n",
       "2008-01-07   -0.008841\n",
       "2008-01-08   -0.036424\n",
       "                ...   \n",
       "2009-12-24    0.008679\n",
       "2009-12-28   -0.000968\n",
       "2009-12-29   -0.001109\n",
       "2009-12-30    0.000972\n",
       "2009-12-31    0.004232\n",
       "Length: 505, dtype: float64"
      ]
     },
     "execution_count": 5,
     "metadata": {},
     "output_type": "execute_result"
    }
   ],
   "source": [
    "weights = [0.25, 0.25, 0.25, 0.25]\n",
    "\n",
    "portfolio_returns = asset_returns.dot(weights)\n",
    "portfolio_returns"
   ]
  },
  {
   "cell_type": "code",
   "execution_count": 6,
   "id": "0568f1f2-e657-499f-a19a-a59c0aae6a99",
   "metadata": {},
   "outputs": [
    {
     "data": {
      "image/png": "[encoded data removed]",
      "text/plain": [
       "<Figure size 640x480 with 1 Axes>"
      ]
     },
     "metadata": {},
     "output_type": "display_data"
    }
   ],
   "source": [
    "# Plot portfolio returns\n",
    "portfolio_returns.plot().set_ylabel(\"Daily Return, %\")\n",
    "plt.show()\n",
    "# The 'spikiness' of portfolio returns indicates how uncertain and volatile asset returns became."
   ]
  },
  {
   "cell_type": "markdown",
   "id": "b8a631ee-6218-4e74-bfa1-e0d3e86ee7b1",
   "metadata": {},
   "source": [
    "Asset covariance and portfolio volatility\n",
    "\n",
    "Now that you've examined the return of the portfolio of investment banks, it's time to assess the riskiness of the portfolio using the covariance matrix to determine the portfolio's volatility.\n",
    "\n",
    "First you'll compute the covariance between the asset_returns and identify which of the banks had the highest volatility during the 2008-2009 crisis period.\n",
    "\n",
    "Then, given the weights of an equal-weighted portfolio, you'll find the portfolio's annualized volatility for that period using portfolio_returns.\n",
    "\n",
    "Finally, you'll use a 30-day window to create a time series of the volatility, and visualize this with a plot."
   ]
  },
  {
   "cell_type": "code",
   "execution_count": 7,
   "id": "bbb2856f-12ca-4616-8fc9-45d2e7a40733",
   "metadata": {},
   "outputs": [
    {
     "data": {
      "text/html": [
       "<div>\n",
       "<style scoped>\n",
       "    .dataframe tbody tr th:only-of-type {\n",
       "        vertical-align: middle;\n",
       "    }\n",
       "\n",
       "    .dataframe tbody tr th {\n",
       "        vertical-align: top;\n",
       "    }\n",
       "\n",
       "    .dataframe thead th {\n",
       "        text-align: right;\n",
       "    }\n",
       "</style>\n",
       "<table border=\"1\" class=\"dataframe\">\n",
       "  <thead>\n",
       "    <tr style=\"text-align: right;\">\n",
       "      <th></th>\n",
       "      <th>Citibank</th>\n",
       "      <th>Morgan Stanley</th>\n",
       "      <th>Goldman Sachs</th>\n",
       "      <th>J.P. Morgan</th>\n",
       "    </tr>\n",
       "  </thead>\n",
       "  <tbody>\n",
       "    <tr>\n",
       "      <th>Citibank</th>\n",
       "      <td>1.475195</td>\n",
       "      <td>0.821707</td>\n",
       "      <td>0.573790</td>\n",
       "      <td>0.724639</td>\n",
       "    </tr>\n",
       "    <tr>\n",
       "      <th>Morgan Stanley</th>\n",
       "      <td>0.821707</td>\n",
       "      <td>1.298341</td>\n",
       "      <td>0.658895</td>\n",
       "      <td>0.560523</td>\n",
       "    </tr>\n",
       "    <tr>\n",
       "      <th>Goldman Sachs</th>\n",
       "      <td>0.573790</td>\n",
       "      <td>0.658895</td>\n",
       "      <td>0.500807</td>\n",
       "      <td>0.426979</td>\n",
       "    </tr>\n",
       "    <tr>\n",
       "      <th>J.P. Morgan</th>\n",
       "      <td>0.724639</td>\n",
       "      <td>0.560523</td>\n",
       "      <td>0.426979</td>\n",
       "      <td>0.685584</td>\n",
       "    </tr>\n",
       "  </tbody>\n",
       "</table>\n",
       "</div>"
      ],
      "text/plain": [
       "                Citibank  Morgan Stanley  Goldman Sachs  J.P. Morgan\n",
       "Citibank        1.475195        0.821707       0.573790     0.724639\n",
       "Morgan Stanley  0.821707        1.298341       0.658895     0.560523\n",
       "Goldman Sachs   0.573790        0.658895       0.500807     0.426979\n",
       "J.P. Morgan     0.724639        0.560523       0.426979     0.685584"
      ]
     },
     "execution_count": 7,
     "metadata": {},
     "output_type": "execute_result"
    }
   ],
   "source": [
    "# Generate the covariance matrix from portfolio asset's returns\n",
    "covariance = asset_returns.cov()\n",
    "\n",
    "# Annualize the covariance using 252 trading days per year\n",
    "covariance = covariance * 252\n",
    "\n",
    "covariance"
   ]
  },
  {
   "cell_type": "code",
   "execution_count": 8,
   "id": "b770083a-bf1f-4239-a5eb-98e7cd741b70",
   "metadata": {},
   "outputs": [
    {
     "data": {
      "text/plain": [
       "0.7183119341958923"
      ]
     },
     "execution_count": 8,
     "metadata": {},
     "output_type": "execute_result"
    }
   ],
   "source": [
    "# Compute and display portfolio volatility for 2008 - 2009\n",
    "portfolio_variance = np.transpose(weights) @ covariance @ weights\n",
    "# Compute portfolio_variance by using the @ matrix operator to multiply the transpose of weights, the covariance matrix, and untransposed weights\n",
    "portfolio_variance"
   ]
  },
  {
   "cell_type": "code",
   "execution_count": 9,
   "id": "0af2a772-4298-496a-8e2f-04cf071bdf4f",
   "metadata": {},
   "outputs": [
    {
     "data": {
      "text/plain": [
       "0.8475328513962702"
      ]
     },
     "execution_count": 9,
     "metadata": {},
     "output_type": "execute_result"
    }
   ],
   "source": [
    "portfolio_volatility = np.sqrt(portfolio_variance)\n",
    "portfolio_volatility"
   ]
  },
  {
   "cell_type": "code",
   "execution_count": 10,
   "id": "02ea9be7-0c78-43d3-9b44-b907aa9969da",
   "metadata": {},
   "outputs": [
    {
     "data": {
      "text/plain": [
       "Date\n",
       "2008-01-02         NaN\n",
       "2008-01-03         NaN\n",
       "2008-01-04         NaN\n",
       "2008-01-07         NaN\n",
       "2008-01-08         NaN\n",
       "                ...   \n",
       "2009-12-24    0.245894\n",
       "2009-12-28    0.241735\n",
       "2009-12-29    0.241782\n",
       "2009-12-30    0.233580\n",
       "2009-12-31    0.234701\n",
       "Length: 505, dtype: float64"
      ]
     },
     "execution_count": 10,
     "metadata": {},
     "output_type": "execute_result"
    }
   ],
   "source": [
    "# Calculate the 30-day rolling window of portfolio returns\n",
    "returns_windowed = portfolio_returns.rolling(30)\n",
    "\n",
    "# Compute the annualized volatility series\n",
    "volatility_series = returns_windowed.std()*np.sqrt(252)\n",
    "volatility_series"
   ]
  },
  {
   "cell_type": "code",
   "execution_count": 11,
   "id": "bfc06389-26ca-4916-9758-f4e70a6c9609",
   "metadata": {},
   "outputs": [
    {
     "data": {
      "image/png": "[encoded data removed]",
      "text/plain": [
       "<Figure size 640x480 with 1 Axes>"
      ]
     },
     "metadata": {},
     "output_type": "display_data"
    }
   ],
   "source": [
    "# Plot the portfolio volatility\n",
    "volatility_series.plot().set_ylabel(\"Annualized Volatility, 30-day Window\")\n",
    "plt.show()\n",
    "# The volatility plot shows that an equal-weighted portfolio of all four banks demonstrated a significant increase in volatility from late September 2008"
   ]
  },
  {
   "cell_type": "markdown",
   "id": "d61d2e05-919e-41ed-be03-17c9e34448a2",
   "metadata": {},
   "source": [
    "Frequency resampling primer\n",
    "\n",
    "Risk factor models often rely upon data that is of different frequencies. A typical example is when using quarterly macroeconomic data, such as prices, unemployment rates, etc., with financial data, which is often daily (or even intra-daily). To use both data sources in the same model, higher frequency data needs to be resampled to match the lower frequency data.\n",
    "\n",
    "The DataFrame and Series Pandas objects have a built-in .resample() method that specifies the lower frequency. This method is chained with a method to create the lower-frequency statistic, such as .mean() for the average of the data within the new frequency period, or .min() for the minimum of the data.\n",
    "\n",
    "In this exercise you'll practice converting daily returns data to weekly and quarterly frequency."
   ]
  },
  {
   "cell_type": "code",
   "execution_count": 12,
   "id": "f4c92895-db2e-4ab7-9c82-8847890cb5d4",
   "metadata": {},
   "outputs": [
    {
     "data": {
      "text/plain": [
       "Date\n",
       "2004-12-31         NaN\n",
       "2005-01-03    0.005262\n",
       "2005-01-04   -0.011152\n",
       "2005-01-05    0.001081\n",
       "2005-01-06    0.013209\n",
       "                ...   \n",
       "2010-12-23   -0.005974\n",
       "2010-12-27    0.012551\n",
       "2010-12-28    0.000594\n",
       "2010-12-29   -0.007729\n",
       "2010-12-30   -0.000818\n",
       "Length: 1511, dtype: float64"
      ]
     },
     "execution_count": 12,
     "metadata": {},
     "output_type": "execute_result"
    }
   ],
   "source": [
    "# Compute the portfolio's daily returns (all dates)\n",
    "returns = portfolio.pct_change().dot(weights)\n",
    "returns"
   ]
  },
  {
   "cell_type": "code",
   "execution_count": 13,
   "id": "e7e3e45b-56c7-4fb3-8b87-4b74b209b452",
   "metadata": {},
   "outputs": [
    {
     "name": "stderr",
     "output_type": "stream",
     "text": [
      "C:\\Users\\Alienware\\AppData\\Local\\Temp\\ipykernel_21264\\3463655282.py:2: FutureWarning: 'Q' is deprecated and will be removed in a future version, please use 'QE' instead.\n",
      "  returns_q_average = returns.resample('Q').mean()\n"
     ]
    },
    {
     "data": {
      "text/plain": [
       "Date\n",
       "2004-12-31         NaN\n",
       "2005-03-31   -0.000367\n",
       "2005-06-30   -0.000366\n",
       "2005-09-30    0.000615\n",
       "2005-12-31    0.001323\n",
       "2006-03-31    0.001384\n",
       "2006-06-30    0.000084\n",
       "2006-09-30    0.001654\n",
       "2006-12-31    0.001717\n",
       "2007-03-31   -0.000200\n",
       "2007-06-30    0.000509\n",
       "2007-09-30   -0.001446\n",
       "2007-12-31   -0.002300\n",
       "2008-03-31   -0.002337\n",
       "2008-06-30   -0.002166\n",
       "2008-09-30    0.000943\n",
       "2008-12-31   -0.003480\n",
       "2009-03-31    0.002415\n",
       "2009-06-30    0.004946\n",
       "2009-09-30    0.004516\n",
       "2009-12-31   -0.001940\n",
       "2010-03-31    0.001330\n",
       "2010-06-30   -0.002688\n",
       "2010-09-30    0.001088\n",
       "2010-12-31    0.002328\n",
       "Freq: QE-DEC, dtype: float64"
      ]
     },
     "execution_count": 13,
     "metadata": {},
     "output_type": "execute_result"
    }
   ],
   "source": [
    "# Convert daily returns to quarterly average returns\n",
    "returns_q_average = returns.resample('Q').mean()\n",
    "returns_q_average"
   ]
  },
  {
   "cell_type": "code",
   "execution_count": 14,
   "id": "c0010626-889a-41e0-a7e7-9bd0ad88ed68",
   "metadata": {},
   "outputs": [
    {
     "data": {
      "text/plain": [
       "Date\n",
       "2005-01-02         NaN\n",
       "2005-01-09   -0.011152\n",
       "2005-01-16   -0.007643\n",
       "2005-01-23   -0.011076\n",
       "2005-01-30   -0.000443\n",
       "                ...   \n",
       "2010-12-05   -0.009894\n",
       "2010-12-12    0.001379\n",
       "2010-12-19   -0.016622\n",
       "2010-12-26   -0.005974\n",
       "2011-01-02   -0.007729\n",
       "Freq: W-SUN, Length: 314, dtype: float64"
      ]
     },
     "execution_count": 14,
     "metadata": {},
     "output_type": "execute_result"
    }
   ],
   "source": [
    "# Now convert daily returns to weekly minimum returns\n",
    "returns_w_min = returns.resample('W').min()\n",
    "returns_w_min"
   ]
  },
  {
   "cell_type": "markdown",
   "id": "a098b788-4afe-4a28-a085-a44e3dd49d22",
   "metadata": {},
   "source": [
    "Visualizing risk factor correlation\n",
    "\n",
    "Investment banks heavily invested in mortgage-backed securities (MBS) before and during the financial crisis. This makes MBS a likely risk factor for the investment bank portfolio. You'll assess this using scatterplots between portfolio returns and an MBS risk measure, the 90-day mortgage delinquency rate mort_del.\n",
    "\n",
    "mort_del is only available as quarterly data. So portfolio_returns first needs to be transformed from daily to quarterly frequency using the DataFrame .resample() method."
   ]
  },
  {
   "cell_type": "code",
   "execution_count": 15,
   "id": "0bd062b0-f07a-4583-8c67-95698e0a50bf",
   "metadata": {},
   "outputs": [
    {
     "data": {
      "text/html": [
       "<div>\n",
       "<style scoped>\n",
       "    .dataframe tbody tr th:only-of-type {\n",
       "        vertical-align: middle;\n",
       "    }\n",
       "\n",
       "    .dataframe tbody tr th {\n",
       "        vertical-align: top;\n",
       "    }\n",
       "\n",
       "    .dataframe thead th {\n",
       "        text-align: right;\n",
       "    }\n",
       "</style>\n",
       "<table border=\"1\" class=\"dataframe\">\n",
       "  <thead>\n",
       "    <tr style=\"text-align: right;\">\n",
       "      <th></th>\n",
       "      <th>Mortgage Delinquency Rate</th>\n",
       "    </tr>\n",
       "    <tr>\n",
       "      <th>Date</th>\n",
       "      <th></th>\n",
       "    </tr>\n",
       "  </thead>\n",
       "  <tbody>\n",
       "    <tr>\n",
       "      <th>2005-03-31</th>\n",
       "      <td>0.0155</td>\n",
       "    </tr>\n",
       "    <tr>\n",
       "      <th>2005-06-30</th>\n",
       "      <td>0.0159</td>\n",
       "    </tr>\n",
       "    <tr>\n",
       "      <th>2005-09-30</th>\n",
       "      <td>0.0163</td>\n",
       "    </tr>\n",
       "    <tr>\n",
       "      <th>2005-12-31</th>\n",
       "      <td>0.0161</td>\n",
       "    </tr>\n",
       "    <tr>\n",
       "      <th>2006-03-31</th>\n",
       "      <td>0.0162</td>\n",
       "    </tr>\n",
       "    <tr>\n",
       "      <th>2006-06-30</th>\n",
       "      <td>0.0174</td>\n",
       "    </tr>\n",
       "    <tr>\n",
       "      <th>2006-09-30</th>\n",
       "      <td>0.0192</td>\n",
       "    </tr>\n",
       "    <tr>\n",
       "      <th>2006-12-31</th>\n",
       "      <td>0.0208</td>\n",
       "    </tr>\n",
       "    <tr>\n",
       "      <th>2007-03-31</th>\n",
       "      <td>0.0231</td>\n",
       "    </tr>\n",
       "    <tr>\n",
       "      <th>2007-06-30</th>\n",
       "      <td>0.0271</td>\n",
       "    </tr>\n",
       "    <tr>\n",
       "      <th>2007-09-30</th>\n",
       "      <td>0.0309</td>\n",
       "    </tr>\n",
       "    <tr>\n",
       "      <th>2007-12-31</th>\n",
       "      <td>0.0367</td>\n",
       "    </tr>\n",
       "    <tr>\n",
       "      <th>2008-03-31</th>\n",
       "      <td>0.0438</td>\n",
       "    </tr>\n",
       "    <tr>\n",
       "      <th>2008-06-30</th>\n",
       "      <td>0.0530</td>\n",
       "    </tr>\n",
       "    <tr>\n",
       "      <th>2008-09-30</th>\n",
       "      <td>0.0659</td>\n",
       "    </tr>\n",
       "    <tr>\n",
       "      <th>2008-12-31</th>\n",
       "      <td>0.0796</td>\n",
       "    </tr>\n",
       "    <tr>\n",
       "      <th>2009-03-31</th>\n",
       "      <td>0.0858</td>\n",
       "    </tr>\n",
       "    <tr>\n",
       "      <th>2009-06-30</th>\n",
       "      <td>0.0953</td>\n",
       "    </tr>\n",
       "    <tr>\n",
       "      <th>2009-09-30</th>\n",
       "      <td>0.1034</td>\n",
       "    </tr>\n",
       "    <tr>\n",
       "      <th>2009-12-31</th>\n",
       "      <td>0.1154</td>\n",
       "    </tr>\n",
       "    <tr>\n",
       "      <th>2010-03-31</th>\n",
       "      <td>0.1106</td>\n",
       "    </tr>\n",
       "    <tr>\n",
       "      <th>2010-06-30</th>\n",
       "      <td>0.1059</td>\n",
       "    </tr>\n",
       "    <tr>\n",
       "      <th>2010-09-30</th>\n",
       "      <td>0.1036</td>\n",
       "    </tr>\n",
       "    <tr>\n",
       "      <th>2010-12-31</th>\n",
       "      <td>0.1035</td>\n",
       "    </tr>\n",
       "  </tbody>\n",
       "</table>\n",
       "</div>"
      ],
      "text/plain": [
       "            Mortgage Delinquency Rate\n",
       "Date                                 \n",
       "2005-03-31                     0.0155\n",
       "2005-06-30                     0.0159\n",
       "2005-09-30                     0.0163\n",
       "2005-12-31                     0.0161\n",
       "2006-03-31                     0.0162\n",
       "2006-06-30                     0.0174\n",
       "2006-09-30                     0.0192\n",
       "2006-12-31                     0.0208\n",
       "2007-03-31                     0.0231\n",
       "2007-06-30                     0.0271\n",
       "2007-09-30                     0.0309\n",
       "2007-12-31                     0.0367\n",
       "2008-03-31                     0.0438\n",
       "2008-06-30                     0.0530\n",
       "2008-09-30                     0.0659\n",
       "2008-12-31                     0.0796\n",
       "2009-03-31                     0.0858\n",
       "2009-06-30                     0.0953\n",
       "2009-09-30                     0.1034\n",
       "2009-12-31                     0.1154\n",
       "2010-03-31                     0.1106\n",
       "2010-06-30                     0.1059\n",
       "2010-09-30                     0.1036\n",
       "2010-12-31                     0.1035"
      ]
     },
     "execution_count": 15,
     "metadata": {},
     "output_type": "execute_result"
    }
   ],
   "source": [
    "mort_del = pd.read_csv('mortgage_delinquency.csv', index_col=0)\n",
    "mort_del"
   ]
  },
  {
   "cell_type": "code",
   "execution_count": 16,
   "id": "e8d491d5-4a4b-4e03-bf1e-9d54fb99d38b",
   "metadata": {},
   "outputs": [
    {
     "data": {
      "text/plain": [
       "Date\n",
       "2005-03-31   -0.000367\n",
       "2005-06-30   -0.000366\n",
       "2005-09-30    0.000615\n",
       "2005-12-31    0.001323\n",
       "2006-03-31    0.001384\n",
       "2006-06-30    0.000084\n",
       "2006-09-30    0.001654\n",
       "2006-12-31    0.001717\n",
       "2007-03-31   -0.000200\n",
       "2007-06-30    0.000509\n",
       "2007-09-30   -0.001446\n",
       "2007-12-31   -0.002300\n",
       "2008-03-31   -0.002337\n",
       "2008-06-30   -0.002166\n",
       "2008-09-30    0.000943\n",
       "2008-12-31   -0.003480\n",
       "2009-03-31    0.002415\n",
       "2009-06-30    0.004946\n",
       "2009-09-30    0.004516\n",
       "2009-12-31   -0.001940\n",
       "2010-03-31    0.001330\n",
       "2010-06-30   -0.002688\n",
       "2010-09-30    0.001088\n",
       "2010-12-31    0.002328\n",
       "Freq: QE-DEC, dtype: float64"
      ]
     },
     "execution_count": 16,
     "metadata": {},
     "output_type": "execute_result"
    }
   ],
   "source": [
    "# Transform the daily portfolio_returns into quarterly average returns\n",
    "portfolio_q_average = returns_q_average.dropna()\n",
    "portfolio_q_average"
   ]
  },
  {
   "cell_type": "code",
   "execution_count": 17,
   "id": "29babe2a-1c48-4834-b270-f2fd2faadbfa",
   "metadata": {},
   "outputs": [
    {
     "data": {
      "text/plain": [
       "<matplotlib.collections.PathCollection at 0x29d9a423580>"
      ]
     },
     "execution_count": 17,
     "metadata": {},
     "output_type": "execute_result"
    },
    {
     "data": {
      "image/png": "[encoded data removed]",
      "text/plain": [
       "<Figure size 640x480 with 1 Axes>"
      ]
     },
     "metadata": {},
     "output_type": "display_data"
    }
   ],
   "source": [
    "# Create a scatterplot between delinquency and quarterly average returns\n",
    "plt.scatter(x=mort_del, y=portfolio_q_average)"
   ]
  },
  {
   "cell_type": "code",
   "execution_count": 18,
   "id": "0ba4654f-417d-46e8-927c-cdb3c4dfd7b2",
   "metadata": {},
   "outputs": [
    {
     "name": "stderr",
     "output_type": "stream",
     "text": [
      "C:\\Users\\Alienware\\AppData\\Local\\Temp\\ipykernel_21264\\1296270179.py:2: FutureWarning: 'Q' is deprecated and will be removed in a future version, please use 'QE' instead.\n",
      "  portfolio_q_min = returns.resample('Q').min().dropna()\n"
     ]
    },
    {
     "data": {
      "text/plain": [
       "Date\n",
       "2005-03-31   -0.021728\n",
       "2005-06-30   -0.022794\n",
       "2005-09-30   -0.014764\n",
       "2005-12-31   -0.013551\n",
       "2006-03-31   -0.028963\n",
       "2006-06-30   -0.034735\n",
       "2006-09-30   -0.019315\n",
       "2006-12-31   -0.024550\n",
       "2007-03-31   -0.052700\n",
       "2007-06-30   -0.024104\n",
       "2007-09-30   -0.053640\n",
       "2007-12-31   -0.060247\n",
       "2008-03-31   -0.057646\n",
       "2008-06-30   -0.056931\n",
       "2008-09-30   -0.153131\n",
       "2008-12-31   -0.198734\n",
       "2009-03-31   -0.189147\n",
       "2009-06-30   -0.101852\n",
       "2009-09-30   -0.054325\n",
       "2009-12-31   -0.050587\n",
       "2010-03-31   -0.051042\n",
       "2010-06-30   -0.070714\n",
       "2010-09-30   -0.034097\n",
       "2010-12-31   -0.028097\n",
       "Freq: QE-DEC, dtype: float64"
      ]
     },
     "execution_count": 18,
     "metadata": {},
     "output_type": "execute_result"
    }
   ],
   "source": [
    "# Transform daily portfolio_returns returns into quarterly minimum returns\n",
    "portfolio_q_min = returns.resample('Q').min().dropna()\n",
    "portfolio_q_min"
   ]
  },
  {
   "cell_type": "code",
   "execution_count": 19,
   "id": "6fa4ae12-c5e4-43b7-9ecf-f8f32bfb99e0",
   "metadata": {},
   "outputs": [
    {
     "data": {
      "text/plain": [
       "<matplotlib.collections.PathCollection at 0x29d9a4662f0>"
      ]
     },
     "execution_count": 19,
     "metadata": {},
     "output_type": "execute_result"
    },
    {
     "data": {
      "image/png": "[encoded data removed]",
      "text/plain": [
       "<Figure size 640x480 with 1 Axes>"
      ]
     },
     "metadata": {},
     "output_type": "display_data"
    }
   ],
   "source": [
    "# Create a scatterplot between delinquency and quarterly minimum returns\n",
    "plt.scatter(x=mort_del, y=portfolio_q_min)"
   ]
  },
  {
   "cell_type": "markdown",
   "id": "22c84da4-aac8-4455-84c8-69058f16752a",
   "metadata": {},
   "source": [
    "Least-squares factor model\n",
    "\n",
    "As you've seen, there is a negative correlation between minimum quarterly returns and mortgage delinquency rates from 2005 - 2010. This can be made more precise with an OLS regression factor model.\n",
    "\n",
    "You'll compare three factor models with three different quarterly dependent variables: average returns, minimum returns, and average volatility. The independent variable is the mortgage delinquency rate. In the regression summary, examine the coefficients' t-statistic for statistical significance, as well as the overall R-squared for goodness of fit."
   ]
  },
  {
   "cell_type": "code",
   "execution_count": 20,
   "id": "179cc66f-15ea-4d8e-a973-a8f9d81db07c",
   "metadata": {},
   "outputs": [
    {
     "data": {
      "text/html": [
       "<div>\n",
       "<style scoped>\n",
       "    .dataframe tbody tr th:only-of-type {\n",
       "        vertical-align: middle;\n",
       "    }\n",
       "\n",
       "    .dataframe tbody tr th {\n",
       "        vertical-align: top;\n",
       "    }\n",
       "\n",
       "    .dataframe thead th {\n",
       "        text-align: right;\n",
       "    }\n",
       "</style>\n",
       "<table border=\"1\" class=\"dataframe\">\n",
       "  <thead>\n",
       "    <tr style=\"text-align: right;\">\n",
       "      <th></th>\n",
       "      <th>const</th>\n",
       "      <th>Mortgage Delinquency Rate</th>\n",
       "    </tr>\n",
       "    <tr>\n",
       "      <th>Date</th>\n",
       "      <th></th>\n",
       "      <th></th>\n",
       "    </tr>\n",
       "  </thead>\n",
       "  <tbody>\n",
       "    <tr>\n",
       "      <th>2005-03-31</th>\n",
       "      <td>1.0</td>\n",
       "      <td>0.0155</td>\n",
       "    </tr>\n",
       "    <tr>\n",
       "      <th>2005-06-30</th>\n",
       "      <td>1.0</td>\n",
       "      <td>0.0159</td>\n",
       "    </tr>\n",
       "    <tr>\n",
       "      <th>2005-09-30</th>\n",
       "      <td>1.0</td>\n",
       "      <td>0.0163</td>\n",
       "    </tr>\n",
       "    <tr>\n",
       "      <th>2005-12-31</th>\n",
       "      <td>1.0</td>\n",
       "      <td>0.0161</td>\n",
       "    </tr>\n",
       "    <tr>\n",
       "      <th>2006-03-31</th>\n",
       "      <td>1.0</td>\n",
       "      <td>0.0162</td>\n",
       "    </tr>\n",
       "    <tr>\n",
       "      <th>2006-06-30</th>\n",
       "      <td>1.0</td>\n",
       "      <td>0.0174</td>\n",
       "    </tr>\n",
       "    <tr>\n",
       "      <th>2006-09-30</th>\n",
       "      <td>1.0</td>\n",
       "      <td>0.0192</td>\n",
       "    </tr>\n",
       "    <tr>\n",
       "      <th>2006-12-31</th>\n",
       "      <td>1.0</td>\n",
       "      <td>0.0208</td>\n",
       "    </tr>\n",
       "    <tr>\n",
       "      <th>2007-03-31</th>\n",
       "      <td>1.0</td>\n",
       "      <td>0.0231</td>\n",
       "    </tr>\n",
       "    <tr>\n",
       "      <th>2007-06-30</th>\n",
       "      <td>1.0</td>\n",
       "      <td>0.0271</td>\n",
       "    </tr>\n",
       "    <tr>\n",
       "      <th>2007-09-30</th>\n",
       "      <td>1.0</td>\n",
       "      <td>0.0309</td>\n",
       "    </tr>\n",
       "    <tr>\n",
       "      <th>2007-12-31</th>\n",
       "      <td>1.0</td>\n",
       "      <td>0.0367</td>\n",
       "    </tr>\n",
       "    <tr>\n",
       "      <th>2008-03-31</th>\n",
       "      <td>1.0</td>\n",
       "      <td>0.0438</td>\n",
       "    </tr>\n",
       "    <tr>\n",
       "      <th>2008-06-30</th>\n",
       "      <td>1.0</td>\n",
       "      <td>0.0530</td>\n",
       "    </tr>\n",
       "    <tr>\n",
       "      <th>2008-09-30</th>\n",
       "      <td>1.0</td>\n",
       "      <td>0.0659</td>\n",
       "    </tr>\n",
       "    <tr>\n",
       "      <th>2008-12-31</th>\n",
       "      <td>1.0</td>\n",
       "      <td>0.0796</td>\n",
       "    </tr>\n",
       "    <tr>\n",
       "      <th>2009-03-31</th>\n",
       "      <td>1.0</td>\n",
       "      <td>0.0858</td>\n",
       "    </tr>\n",
       "    <tr>\n",
       "      <th>2009-06-30</th>\n",
       "      <td>1.0</td>\n",
       "      <td>0.0953</td>\n",
       "    </tr>\n",
       "    <tr>\n",
       "      <th>2009-09-30</th>\n",
       "      <td>1.0</td>\n",
       "      <td>0.1034</td>\n",
       "    </tr>\n",
       "    <tr>\n",
       "      <th>2009-12-31</th>\n",
       "      <td>1.0</td>\n",
       "      <td>0.1154</td>\n",
       "    </tr>\n",
       "    <tr>\n",
       "      <th>2010-03-31</th>\n",
       "      <td>1.0</td>\n",
       "      <td>0.1106</td>\n",
       "    </tr>\n",
       "    <tr>\n",
       "      <th>2010-06-30</th>\n",
       "      <td>1.0</td>\n",
       "      <td>0.1059</td>\n",
       "    </tr>\n",
       "    <tr>\n",
       "      <th>2010-09-30</th>\n",
       "      <td>1.0</td>\n",
       "      <td>0.1036</td>\n",
       "    </tr>\n",
       "    <tr>\n",
       "      <th>2010-12-31</th>\n",
       "      <td>1.0</td>\n",
       "      <td>0.1035</td>\n",
       "    </tr>\n",
       "  </tbody>\n",
       "</table>\n",
       "</div>"
      ],
      "text/plain": [
       "            const  Mortgage Delinquency Rate\n",
       "Date                                        \n",
       "2005-03-31    1.0                     0.0155\n",
       "2005-06-30    1.0                     0.0159\n",
       "2005-09-30    1.0                     0.0163\n",
       "2005-12-31    1.0                     0.0161\n",
       "2006-03-31    1.0                     0.0162\n",
       "2006-06-30    1.0                     0.0174\n",
       "2006-09-30    1.0                     0.0192\n",
       "2006-12-31    1.0                     0.0208\n",
       "2007-03-31    1.0                     0.0231\n",
       "2007-06-30    1.0                     0.0271\n",
       "2007-09-30    1.0                     0.0309\n",
       "2007-12-31    1.0                     0.0367\n",
       "2008-03-31    1.0                     0.0438\n",
       "2008-06-30    1.0                     0.0530\n",
       "2008-09-30    1.0                     0.0659\n",
       "2008-12-31    1.0                     0.0796\n",
       "2009-03-31    1.0                     0.0858\n",
       "2009-06-30    1.0                     0.0953\n",
       "2009-09-30    1.0                     0.1034\n",
       "2009-12-31    1.0                     0.1154\n",
       "2010-03-31    1.0                     0.1106\n",
       "2010-06-30    1.0                     0.1059\n",
       "2010-09-30    1.0                     0.1036\n",
       "2010-12-31    1.0                     0.1035"
      ]
     },
     "execution_count": 20,
     "metadata": {},
     "output_type": "execute_result"
    }
   ],
   "source": [
    "# Add a constant to the regression\n",
    "mort_del = pd.DataFrame(sm.add_constant(mort_del))\n",
    "mort_del.index = pd.to_datetime(mort_del.index)\n",
    "mort_del"
   ]
  },
  {
   "cell_type": "code",
   "execution_count": 21,
   "id": "6c30e0d9-ff68-46a5-8b73-ff5ad71f7688",
   "metadata": {},
   "outputs": [
    {
     "data": {
      "text/html": [
       "<table class=\"simpletable\">\n",
       "<caption>OLS Regression Results</caption>\n",
       "<tr>\n",
       "  <th>Dep. Variable:</th>            <td>y</td>        <th>  R-squared:         </th> <td>   0.178</td>\n",
       "</tr>\n",
       "<tr>\n",
       "  <th>Model:</th>                   <td>OLS</td>       <th>  Adj. R-squared:    </th> <td>   0.141</td>\n",
       "</tr>\n",
       "<tr>\n",
       "  <th>Method:</th>             <td>Least Squares</td>  <th>  F-statistic:       </th> <td>   4.761</td>\n",
       "</tr>\n",
       "<tr>\n",
       "  <th>Date:</th>             <td>Tue, 25 Feb 2025</td> <th>  Prob (F-statistic):</th>  <td>0.0401</td> \n",
       "</tr>\n",
       "<tr>\n",
       "  <th>Time:</th>                 <td>03:02:21</td>     <th>  Log-Likelihood:    </th> <td>  39.937</td>\n",
       "</tr>\n",
       "<tr>\n",
       "  <th>No. Observations:</th>      <td>    24</td>      <th>  AIC:               </th> <td>  -75.87</td>\n",
       "</tr>\n",
       "<tr>\n",
       "  <th>Df Residuals:</th>          <td>    22</td>      <th>  BIC:               </th> <td>  -73.52</td>\n",
       "</tr>\n",
       "<tr>\n",
       "  <th>Df Model:</th>              <td>     1</td>      <th>                     </th>     <td> </td>   \n",
       "</tr>\n",
       "<tr>\n",
       "  <th>Covariance Type:</th>      <td>nonrobust</td>    <th>                     </th>     <td> </td>   \n",
       "</tr>\n",
       "</table>\n",
       "<table class=\"simpletable\">\n",
       "<tr>\n",
       "              <td></td>                 <th>coef</th>     <th>std err</th>      <th>t</th>      <th>P>|t|</th>  <th>[0.025</th>    <th>0.975]</th>  \n",
       "</tr>\n",
       "<tr>\n",
       "  <th>const</th>                     <td>   -0.0279</td> <td>    0.017</td> <td>   -1.611</td> <td> 0.121</td> <td>   -0.064</td> <td>    0.008</td>\n",
       "</tr>\n",
       "<tr>\n",
       "  <th>Mortgage Delinquency Rate</th> <td>   -0.5664</td> <td>    0.260</td> <td>   -2.182</td> <td> 0.040</td> <td>   -1.105</td> <td>   -0.028</td>\n",
       "</tr>\n",
       "</table>\n",
       "<table class=\"simpletable\">\n",
       "<tr>\n",
       "  <th>Omnibus:</th>       <td>13.525</td> <th>  Durbin-Watson:     </th> <td>   0.513</td>\n",
       "</tr>\n",
       "<tr>\n",
       "  <th>Prob(Omnibus):</th> <td> 0.001</td> <th>  Jarque-Bera (JB):  </th> <td>  12.333</td>\n",
       "</tr>\n",
       "<tr>\n",
       "  <th>Skew:</th>          <td>-1.534</td> <th>  Prob(JB):          </th> <td> 0.00210</td>\n",
       "</tr>\n",
       "<tr>\n",
       "  <th>Kurtosis:</th>      <td> 4.710</td> <th>  Cond. No.          </th> <td>    26.7</td>\n",
       "</tr>\n",
       "</table><br/><br/>Notes:<br/>[1] Standard Errors assume that the covariance matrix of the errors is correctly specified."
      ],
      "text/latex": [
       "\\begin{center}\n",
       "\\begin{tabular}{lclc}\n",
       "\\toprule\n",
       "\\textbf{Dep. Variable:}            &        y         & \\textbf{  R-squared:         } &     0.178   \\\\\n",
       "\\textbf{Model:}                    &       OLS        & \\textbf{  Adj. R-squared:    } &     0.141   \\\\\n",
       "\\textbf{Method:}                   &  Least Squares   & \\textbf{  F-statistic:       } &     4.761   \\\\\n",
       "\\textbf{Date:}                     & Tue, 25 Feb 2025 & \\textbf{  Prob (F-statistic):} &   0.0401    \\\\\n",
       "\\textbf{Time:}                     &     03:02:21     & \\textbf{  Log-Likelihood:    } &    39.937   \\\\\n",
       "\\textbf{No. Observations:}         &          24      & \\textbf{  AIC:               } &    -75.87   \\\\\n",
       "\\textbf{Df Residuals:}             &          22      & \\textbf{  BIC:               } &    -73.52   \\\\\n",
       "\\textbf{Df Model:}                 &           1      & \\textbf{                     } &             \\\\\n",
       "\\textbf{Covariance Type:}          &    nonrobust     & \\textbf{                     } &             \\\\\n",
       "\\bottomrule\n",
       "\\end{tabular}\n",
       "\\begin{tabular}{lcccccc}\n",
       "                                   & \\textbf{coef} & \\textbf{std err} & \\textbf{t} & \\textbf{P$> |$t$|$} & \\textbf{[0.025} & \\textbf{0.975]}  \\\\\n",
       "\\midrule\n",
       "\\textbf{const}                     &      -0.0279  &        0.017     &    -1.611  &         0.121        &       -0.064    &        0.008     \\\\\n",
       "\\textbf{Mortgage Delinquency Rate} &      -0.5664  &        0.260     &    -2.182  &         0.040        &       -1.105    &       -0.028     \\\\\n",
       "\\bottomrule\n",
       "\\end{tabular}\n",
       "\\begin{tabular}{lclc}\n",
       "\\textbf{Omnibus:}       & 13.525 & \\textbf{  Durbin-Watson:     } &    0.513  \\\\\n",
       "\\textbf{Prob(Omnibus):} &  0.001 & \\textbf{  Jarque-Bera (JB):  } &   12.333  \\\\\n",
       "\\textbf{Skew:}          & -1.534 & \\textbf{  Prob(JB):          } &  0.00210  \\\\\n",
       "\\textbf{Kurtosis:}      &  4.710 & \\textbf{  Cond. No.          } &     26.7  \\\\\n",
       "\\bottomrule\n",
       "\\end{tabular}\n",
       "%\\caption{OLS Regression Results}\n",
       "\\end{center}\n",
       "\n",
       "Notes: \\newline\n",
       " [1] Standard Errors assume that the covariance matrix of the errors is correctly specified."
      ],
      "text/plain": [
       "<class 'statsmodels.iolib.summary.Summary'>\n",
       "\"\"\"\n",
       "                            OLS Regression Results                            \n",
       "==============================================================================\n",
       "Dep. Variable:                      y   R-squared:                       0.178\n",
       "Model:                            OLS   Adj. R-squared:                  0.141\n",
       "Method:                 Least Squares   F-statistic:                     4.761\n",
       "Date:                Tue, 25 Feb 2025   Prob (F-statistic):             0.0401\n",
       "Time:                        03:02:21   Log-Likelihood:                 39.937\n",
       "No. Observations:                  24   AIC:                            -75.87\n",
       "Df Residuals:                      22   BIC:                            -73.52\n",
       "Df Model:                           1                                         \n",
       "Covariance Type:            nonrobust                                         \n",
       "=============================================================================================\n",
       "                                coef    std err          t      P>|t|      [0.025      0.975]\n",
       "---------------------------------------------------------------------------------------------\n",
       "const                        -0.0279      0.017     -1.611      0.121      -0.064       0.008\n",
       "Mortgage Delinquency Rate    -0.5664      0.260     -2.182      0.040      -1.105      -0.028\n",
       "==============================================================================\n",
       "Omnibus:                       13.525   Durbin-Watson:                   0.513\n",
       "Prob(Omnibus):                  0.001   Jarque-Bera (JB):               12.333\n",
       "Skew:                          -1.534   Prob(JB):                      0.00210\n",
       "Kurtosis:                       4.710   Cond. No.                         26.7\n",
       "==============================================================================\n",
       "\n",
       "Notes:\n",
       "[1] Standard Errors assume that the covariance matrix of the errors is correctly specified.\n",
       "\"\"\""
      ]
     },
     "execution_count": 21,
     "metadata": {},
     "output_type": "execute_result"
    }
   ],
   "source": [
    "# Create the regression factor model against the minimum returns and fit it to the data\n",
    "results_min = sm.OLS(portfolio_q_min, mort_del).fit()\n",
    "\n",
    "results_min.summary()"
   ]
  },
  {
   "cell_type": "code",
   "execution_count": 22,
   "id": "58a7d497-9e81-4e7d-8124-900f2548edb8",
   "metadata": {},
   "outputs": [
    {
     "data": {
      "text/html": [
       "<table class=\"simpletable\">\n",
       "<caption>OLS Regression Results</caption>\n",
       "<tr>\n",
       "  <th>Dep. Variable:</th>            <td>y</td>        <th>  R-squared:         </th> <td>   0.021</td>\n",
       "</tr>\n",
       "<tr>\n",
       "  <th>Model:</th>                   <td>OLS</td>       <th>  Adj. R-squared:    </th> <td>  -0.023</td>\n",
       "</tr>\n",
       "<tr>\n",
       "  <th>Method:</th>             <td>Least Squares</td>  <th>  F-statistic:       </th> <td>  0.4801</td>\n",
       "</tr>\n",
       "<tr>\n",
       "  <th>Date:</th>             <td>Tue, 25 Feb 2025</td> <th>  Prob (F-statistic):</th>  <td> 0.496</td> \n",
       "</tr>\n",
       "<tr>\n",
       "  <th>Time:</th>                 <td>03:02:21</td>     <th>  Log-Likelihood:    </th> <td>  113.89</td>\n",
       "</tr>\n",
       "<tr>\n",
       "  <th>No. Observations:</th>      <td>    24</td>      <th>  AIC:               </th> <td>  -223.8</td>\n",
       "</tr>\n",
       "<tr>\n",
       "  <th>Df Residuals:</th>          <td>    22</td>      <th>  BIC:               </th> <td>  -221.4</td>\n",
       "</tr>\n",
       "<tr>\n",
       "  <th>Df Model:</th>              <td>     1</td>      <th>                     </th>     <td> </td>   \n",
       "</tr>\n",
       "<tr>\n",
       "  <th>Covariance Type:</th>      <td>nonrobust</td>    <th>                     </th>     <td> </td>   \n",
       "</tr>\n",
       "</table>\n",
       "<table class=\"simpletable\">\n",
       "<tr>\n",
       "              <td></td>                 <th>coef</th>     <th>std err</th>      <th>t</th>      <th>P>|t|</th>  <th>[0.025</th>    <th>0.975]</th>  \n",
       "</tr>\n",
       "<tr>\n",
       "  <th>const</th>                     <td>   -0.0001</td> <td>    0.001</td> <td>   -0.175</td> <td> 0.862</td> <td>   -0.002</td> <td>    0.002</td>\n",
       "</tr>\n",
       "<tr>\n",
       "  <th>Mortgage Delinquency Rate</th> <td>    0.0083</td> <td>    0.012</td> <td>    0.693</td> <td> 0.496</td> <td>   -0.016</td> <td>    0.033</td>\n",
       "</tr>\n",
       "</table>\n",
       "<table class=\"simpletable\">\n",
       "<tr>\n",
       "  <th>Omnibus:</th>       <td> 0.081</td> <th>  Durbin-Watson:     </th> <td>   1.604</td>\n",
       "</tr>\n",
       "<tr>\n",
       "  <th>Prob(Omnibus):</th> <td> 0.960</td> <th>  Jarque-Bera (JB):  </th> <td>   0.293</td>\n",
       "</tr>\n",
       "<tr>\n",
       "  <th>Skew:</th>          <td>-0.071</td> <th>  Prob(JB):          </th> <td>   0.864</td>\n",
       "</tr>\n",
       "<tr>\n",
       "  <th>Kurtosis:</th>      <td> 2.477</td> <th>  Cond. No.          </th> <td>    26.7</td>\n",
       "</tr>\n",
       "</table><br/><br/>Notes:<br/>[1] Standard Errors assume that the covariance matrix of the errors is correctly specified."
      ],
      "text/latex": [
       "\\begin{center}\n",
       "\\begin{tabular}{lclc}\n",
       "\\toprule\n",
       "\\textbf{Dep. Variable:}            &        y         & \\textbf{  R-squared:         } &     0.021   \\\\\n",
       "\\textbf{Model:}                    &       OLS        & \\textbf{  Adj. R-squared:    } &    -0.023   \\\\\n",
       "\\textbf{Method:}                   &  Least Squares   & \\textbf{  F-statistic:       } &    0.4801   \\\\\n",
       "\\textbf{Date:}                     & Tue, 25 Feb 2025 & \\textbf{  Prob (F-statistic):} &    0.496    \\\\\n",
       "\\textbf{Time:}                     &     03:02:21     & \\textbf{  Log-Likelihood:    } &    113.89   \\\\\n",
       "\\textbf{No. Observations:}         &          24      & \\textbf{  AIC:               } &    -223.8   \\\\\n",
       "\\textbf{Df Residuals:}             &          22      & \\textbf{  BIC:               } &    -221.4   \\\\\n",
       "\\textbf{Df Model:}                 &           1      & \\textbf{                     } &             \\\\\n",
       "\\textbf{Covariance Type:}          &    nonrobust     & \\textbf{                     } &             \\\\\n",
       "\\bottomrule\n",
       "\\end{tabular}\n",
       "\\begin{tabular}{lcccccc}\n",
       "                                   & \\textbf{coef} & \\textbf{std err} & \\textbf{t} & \\textbf{P$> |$t$|$} & \\textbf{[0.025} & \\textbf{0.975]}  \\\\\n",
       "\\midrule\n",
       "\\textbf{const}                     &      -0.0001  &        0.001     &    -0.175  &         0.862        &       -0.002    &        0.002     \\\\\n",
       "\\textbf{Mortgage Delinquency Rate} &       0.0083  &        0.012     &     0.693  &         0.496        &       -0.016    &        0.033     \\\\\n",
       "\\bottomrule\n",
       "\\end{tabular}\n",
       "\\begin{tabular}{lclc}\n",
       "\\textbf{Omnibus:}       &  0.081 & \\textbf{  Durbin-Watson:     } &    1.604  \\\\\n",
       "\\textbf{Prob(Omnibus):} &  0.960 & \\textbf{  Jarque-Bera (JB):  } &    0.293  \\\\\n",
       "\\textbf{Skew:}          & -0.071 & \\textbf{  Prob(JB):          } &    0.864  \\\\\n",
       "\\textbf{Kurtosis:}      &  2.477 & \\textbf{  Cond. No.          } &     26.7  \\\\\n",
       "\\bottomrule\n",
       "\\end{tabular}\n",
       "%\\caption{OLS Regression Results}\n",
       "\\end{center}\n",
       "\n",
       "Notes: \\newline\n",
       " [1] Standard Errors assume that the covariance matrix of the errors is correctly specified."
      ],
      "text/plain": [
       "<class 'statsmodels.iolib.summary.Summary'>\n",
       "\"\"\"\n",
       "                            OLS Regression Results                            \n",
       "==============================================================================\n",
       "Dep. Variable:                      y   R-squared:                       0.021\n",
       "Model:                            OLS   Adj. R-squared:                 -0.023\n",
       "Method:                 Least Squares   F-statistic:                    0.4801\n",
       "Date:                Tue, 25 Feb 2025   Prob (F-statistic):              0.496\n",
       "Time:                        03:02:21   Log-Likelihood:                 113.89\n",
       "No. Observations:                  24   AIC:                            -223.8\n",
       "Df Residuals:                      22   BIC:                            -221.4\n",
       "Df Model:                           1                                         \n",
       "Covariance Type:            nonrobust                                         \n",
       "=============================================================================================\n",
       "                                coef    std err          t      P>|t|      [0.025      0.975]\n",
       "---------------------------------------------------------------------------------------------\n",
       "const                        -0.0001      0.001     -0.175      0.862      -0.002       0.002\n",
       "Mortgage Delinquency Rate     0.0083      0.012      0.693      0.496      -0.016       0.033\n",
       "==============================================================================\n",
       "Omnibus:                        0.081   Durbin-Watson:                   1.604\n",
       "Prob(Omnibus):                  0.960   Jarque-Bera (JB):                0.293\n",
       "Skew:                          -0.071   Prob(JB):                        0.864\n",
       "Kurtosis:                       2.477   Cond. No.                         26.7\n",
       "==============================================================================\n",
       "\n",
       "Notes:\n",
       "[1] Standard Errors assume that the covariance matrix of the errors is correctly specified.\n",
       "\"\"\""
      ]
     },
     "execution_count": 22,
     "metadata": {},
     "output_type": "execute_result"
    }
   ],
   "source": [
    "# Create the regression factor model against the average returns and fit it to the data\n",
    "results_average = sm.OLS(portfolio_q_average, mort_del).fit()\n",
    "\n",
    "results_average.summary()"
   ]
  },
  {
   "cell_type": "code",
   "execution_count": 23,
   "id": "57f701c2-5eb1-4915-83ff-f44dfc6fb8d5",
   "metadata": {},
   "outputs": [
    {
     "data": {
      "text/plain": [
       "Date\n",
       "2004-12-31         NaN\n",
       "2005-01-03         NaN\n",
       "2005-01-04         NaN\n",
       "2005-01-05         NaN\n",
       "2005-01-06         NaN\n",
       "                ...   \n",
       "2010-12-23    0.014272\n",
       "2010-12-27    0.014294\n",
       "2010-12-28    0.013875\n",
       "2010-12-29    0.013898\n",
       "2010-12-30    0.013523\n",
       "Length: 1511, dtype: float64"
      ]
     },
     "execution_count": 23,
     "metadata": {},
     "output_type": "execute_result"
    }
   ],
   "source": [
    "# Volatility on a 30 days rolling windows\n",
    "\n",
    "roll_vol = returns.rolling(30).std() # *np.sqrt(252)\n",
    "roll_vol"
   ]
  },
  {
   "cell_type": "code",
   "execution_count": 24,
   "id": "9e2899dc-4aef-4f10-b492-4a6c2d1e2f28",
   "metadata": {},
   "outputs": [
    {
     "name": "stderr",
     "output_type": "stream",
     "text": [
      "C:\\Users\\Alienware\\AppData\\Local\\Temp\\ipykernel_21264\\1486146786.py:3: FutureWarning: 'Q' is deprecated and will be removed in a future version, please use 'QE' instead.\n",
      "  vol_q_mean = roll_vol.resample('Q').mean().dropna()\n"
     ]
    },
    {
     "data": {
      "text/plain": [
       "Date\n",
       "2005-03-31    0.008443\n",
       "2005-06-30    0.010162\n",
       "2005-09-30    0.006568\n",
       "2005-12-31    0.008331\n",
       "2006-03-31    0.008348\n",
       "2006-06-30    0.010891\n",
       "2006-09-30    0.011391\n",
       "2006-12-31    0.007944\n",
       "2007-03-31    0.011416\n",
       "2007-06-30    0.010885\n",
       "2007-09-30    0.018846\n",
       "2007-12-31    0.023776\n",
       "2008-03-31    0.028066\n",
       "2008-06-30    0.029841\n",
       "2008-09-30    0.041124\n",
       "2008-12-31    0.094289\n",
       "2009-03-31    0.079853\n",
       "2009-06-30    0.054279\n",
       "2009-09-30    0.022798\n",
       "2009-12-31    0.020090\n",
       "2010-03-31    0.017484\n",
       "2010-06-30    0.021403\n",
       "2010-09-30    0.016759\n",
       "2010-12-31    0.015765\n",
       "Freq: QE-DEC, dtype: float64"
      ]
     },
     "execution_count": 24,
     "metadata": {},
     "output_type": "execute_result"
    }
   ],
   "source": [
    "# Quarterly resampled volatility\n",
    "\n",
    "vol_q_mean = roll_vol.resample('Q').mean().dropna()\n",
    "vol_q_mean"
   ]
  },
  {
   "cell_type": "code",
   "execution_count": 25,
   "id": "efc50dae-4246-4817-8cdc-c18ca237907a",
   "metadata": {},
   "outputs": [
    {
     "data": {
      "text/html": [
       "<table class=\"simpletable\">\n",
       "<caption>OLS Regression Results</caption>\n",
       "<tr>\n",
       "  <th>Dep. Variable:</th>            <td>y</td>        <th>  R-squared:         </th> <td>   0.190</td>\n",
       "</tr>\n",
       "<tr>\n",
       "  <th>Model:</th>                   <td>OLS</td>       <th>  Adj. R-squared:    </th> <td>   0.154</td>\n",
       "</tr>\n",
       "<tr>\n",
       "  <th>Method:</th>             <td>Least Squares</td>  <th>  F-statistic:       </th> <td>   5.174</td>\n",
       "</tr>\n",
       "<tr>\n",
       "  <th>Date:</th>             <td>Tue, 25 Feb 2025</td> <th>  Prob (F-statistic):</th>  <td>0.0330</td> \n",
       "</tr>\n",
       "<tr>\n",
       "  <th>Time:</th>                 <td>03:02:21</td>     <th>  Log-Likelihood:    </th> <td>  60.015</td>\n",
       "</tr>\n",
       "<tr>\n",
       "  <th>No. Observations:</th>      <td>    24</td>      <th>  AIC:               </th> <td>  -116.0</td>\n",
       "</tr>\n",
       "<tr>\n",
       "  <th>Df Residuals:</th>          <td>    22</td>      <th>  BIC:               </th> <td>  -113.7</td>\n",
       "</tr>\n",
       "<tr>\n",
       "  <th>Df Model:</th>              <td>     1</td>      <th>                     </th>     <td> </td>   \n",
       "</tr>\n",
       "<tr>\n",
       "  <th>Covariance Type:</th>      <td>nonrobust</td>    <th>                     </th>     <td> </td>   \n",
       "</tr>\n",
       "</table>\n",
       "<table class=\"simpletable\">\n",
       "<tr>\n",
       "              <td></td>                 <th>coef</th>     <th>std err</th>      <th>t</th>      <th>P>|t|</th>  <th>[0.025</th>    <th>0.975]</th>  \n",
       "</tr>\n",
       "<tr>\n",
       "  <th>const</th>                     <td>    0.0100</td> <td>    0.007</td> <td>    1.339</td> <td> 0.194</td> <td>   -0.006</td> <td>    0.026</td>\n",
       "</tr>\n",
       "<tr>\n",
       "  <th>Mortgage Delinquency Rate</th> <td>    0.2558</td> <td>    0.112</td> <td>    2.275</td> <td> 0.033</td> <td>    0.023</td> <td>    0.489</td>\n",
       "</tr>\n",
       "</table>\n",
       "<table class=\"simpletable\">\n",
       "<tr>\n",
       "  <th>Omnibus:</th>       <td>19.324</td> <th>  Durbin-Watson:     </th> <td>   0.517</td>\n",
       "</tr>\n",
       "<tr>\n",
       "  <th>Prob(Omnibus):</th> <td> 0.000</td> <th>  Jarque-Bera (JB):  </th> <td>  23.053</td>\n",
       "</tr>\n",
       "<tr>\n",
       "  <th>Skew:</th>          <td> 1.814</td> <th>  Prob(JB):          </th> <td>9.87e-06</td>\n",
       "</tr>\n",
       "<tr>\n",
       "  <th>Kurtosis:</th>      <td> 6.145</td> <th>  Cond. No.          </th> <td>    26.7</td>\n",
       "</tr>\n",
       "</table><br/><br/>Notes:<br/>[1] Standard Errors assume that the covariance matrix of the errors is correctly specified."
      ],
      "text/latex": [
       "\\begin{center}\n",
       "\\begin{tabular}{lclc}\n",
       "\\toprule\n",
       "\\textbf{Dep. Variable:}            &        y         & \\textbf{  R-squared:         } &     0.190   \\\\\n",
       "\\textbf{Model:}                    &       OLS        & \\textbf{  Adj. R-squared:    } &     0.154   \\\\\n",
       "\\textbf{Method:}                   &  Least Squares   & \\textbf{  F-statistic:       } &     5.174   \\\\\n",
       "\\textbf{Date:}                     & Tue, 25 Feb 2025 & \\textbf{  Prob (F-statistic):} &   0.0330    \\\\\n",
       "\\textbf{Time:}                     &     03:02:21     & \\textbf{  Log-Likelihood:    } &    60.015   \\\\\n",
       "\\textbf{No. Observations:}         &          24      & \\textbf{  AIC:               } &    -116.0   \\\\\n",
       "\\textbf{Df Residuals:}             &          22      & \\textbf{  BIC:               } &    -113.7   \\\\\n",
       "\\textbf{Df Model:}                 &           1      & \\textbf{                     } &             \\\\\n",
       "\\textbf{Covariance Type:}          &    nonrobust     & \\textbf{                     } &             \\\\\n",
       "\\bottomrule\n",
       "\\end{tabular}\n",
       "\\begin{tabular}{lcccccc}\n",
       "                                   & \\textbf{coef} & \\textbf{std err} & \\textbf{t} & \\textbf{P$> |$t$|$} & \\textbf{[0.025} & \\textbf{0.975]}  \\\\\n",
       "\\midrule\n",
       "\\textbf{const}                     &       0.0100  &        0.007     &     1.339  &         0.194        &       -0.006    &        0.026     \\\\\n",
       "\\textbf{Mortgage Delinquency Rate} &       0.2558  &        0.112     &     2.275  &         0.033        &        0.023    &        0.489     \\\\\n",
       "\\bottomrule\n",
       "\\end{tabular}\n",
       "\\begin{tabular}{lclc}\n",
       "\\textbf{Omnibus:}       & 19.324 & \\textbf{  Durbin-Watson:     } &    0.517  \\\\\n",
       "\\textbf{Prob(Omnibus):} &  0.000 & \\textbf{  Jarque-Bera (JB):  } &   23.053  \\\\\n",
       "\\textbf{Skew:}          &  1.814 & \\textbf{  Prob(JB):          } & 9.87e-06  \\\\\n",
       "\\textbf{Kurtosis:}      &  6.145 & \\textbf{  Cond. No.          } &     26.7  \\\\\n",
       "\\bottomrule\n",
       "\\end{tabular}\n",
       "%\\caption{OLS Regression Results}\n",
       "\\end{center}\n",
       "\n",
       "Notes: \\newline\n",
       " [1] Standard Errors assume that the covariance matrix of the errors is correctly specified."
      ],
      "text/plain": [
       "<class 'statsmodels.iolib.summary.Summary'>\n",
       "\"\"\"\n",
       "                            OLS Regression Results                            \n",
       "==============================================================================\n",
       "Dep. Variable:                      y   R-squared:                       0.190\n",
       "Model:                            OLS   Adj. R-squared:                  0.154\n",
       "Method:                 Least Squares   F-statistic:                     5.174\n",
       "Date:                Tue, 25 Feb 2025   Prob (F-statistic):             0.0330\n",
       "Time:                        03:02:21   Log-Likelihood:                 60.015\n",
       "No. Observations:                  24   AIC:                            -116.0\n",
       "Df Residuals:                      22   BIC:                            -113.7\n",
       "Df Model:                           1                                         \n",
       "Covariance Type:            nonrobust                                         \n",
       "=============================================================================================\n",
       "                                coef    std err          t      P>|t|      [0.025      0.975]\n",
       "---------------------------------------------------------------------------------------------\n",
       "const                         0.0100      0.007      1.339      0.194      -0.006       0.026\n",
       "Mortgage Delinquency Rate     0.2558      0.112      2.275      0.033       0.023       0.489\n",
       "==============================================================================\n",
       "Omnibus:                       19.324   Durbin-Watson:                   0.517\n",
       "Prob(Omnibus):                  0.000   Jarque-Bera (JB):               23.053\n",
       "Skew:                           1.814   Prob(JB):                     9.87e-06\n",
       "Kurtosis:                       6.145   Cond. No.                         26.7\n",
       "==============================================================================\n",
       "\n",
       "Notes:\n",
       "[1] Standard Errors assume that the covariance matrix of the errors is correctly specified.\n",
       "\"\"\""
      ]
     },
     "execution_count": 25,
     "metadata": {},
     "output_type": "execute_result"
    }
   ],
   "source": [
    "# Create the regression factor model and fit it to the data\n",
    "results = sm.OLS(vol_q_mean, mort_del).fit()\n",
    "\n",
    "results.summary()"
   ]
  },
  {
   "cell_type": "markdown",
   "id": "ad8a3a47-96d8-4d87-a09b-3ce7ff5da20d",
   "metadata": {},
   "source": [
    "As seen from the regressions, mortgage delinquencies are acting as a systematic risk factor for both minimum quarterly returns and average volatility of returns, but _not_ for average quarterly returns. The R-squared goodness of fit isn't high in any case, but a model with more factors would likely generate greater explanatory power."
   ]
  },
  {
   "cell_type": "markdown",
   "id": "ab65fb5e-8c59-4f63-88a4-0f4b80be8586",
   "metadata": {},
   "source": [
    "Practice with PyPortfolioOpt: returns\n",
    "    \n",
    "Modern Portfolio Theory is the cornerstone of portfolio risk management, because the efficient frontier is a standard method of assessing both investor risk appetite and market risk-return tradeoffs. In this exercise you'll develop powerful tools to explore a portfolio's efficient frontier, using the PyPortfolioOpt pypfopt Python library.\n",
    "\n",
    "To compute the efficient frontier, both expected returns and the covariance matrix of the portfolio are required.\n",
    "\n",
    "After some practice loading the investment bank price data, you'll use pypfopt.expected_returns's mean_historical_return method to compute and visualize the annualized average returns of each bank from daily asset prices. The following exercise will then cover the covariance matrix."
   ]
  },
  {
   "cell_type": "code",
   "execution_count": 26,
   "id": "bd2e3246-b8a7-48be-836b-e9ae80c67fa4",
   "metadata": {},
   "outputs": [
    {
     "data": {
      "text/plain": [
       "Citibank         -0.320429\n",
       "Morgan Stanley   -0.111555\n",
       "Goldman Sachs     0.082867\n",
       "J.P. Morgan       0.013324\n",
       "dtype: float64"
      ]
     },
     "execution_count": 26,
     "metadata": {},
     "output_type": "execute_result"
    }
   ],
   "source": [
    "# Compute the annualized average historical return\n",
    "mean_returns = mean_historical_return(portfolio, frequency = 252)\n",
    "mean_returns"
   ]
  },
  {
   "cell_type": "code",
   "execution_count": 27,
   "id": "d1a676fc-5dde-4083-9e0c-83bbb4ab13e1",
   "metadata": {},
   "outputs": [
    {
     "data": {
      "image/png": "[encoded data removed]",
      "text/plain": [
       "<Figure size 640x480 with 1 Axes>"
      ]
     },
     "metadata": {},
     "output_type": "display_data"
    }
   ],
   "source": [
    "# Plot the annualized average historical return\n",
    "plt.plot(mean_returns, linestyle = 'None', marker = 'o')\n",
    "plt.show()"
   ]
  },
  {
   "cell_type": "markdown",
   "id": "350dd6d6-709c-40ec-a495-f73e160f64cc",
   "metadata": {},
   "source": [
    "Practice with PyPortfolioOpt: covariance\n",
    "    \n",
    "Portfolio optimization relies upon an unbiased and efficient estimate of asset covariance. Although sample covariance is unbiased, it is not efficient--extreme events tend to be overweighted.\n",
    "\n",
    "One approach to alleviate this is through \"covariance shrinkage\", where large errors are reduced ('shrunk') to improve efficiency. In this exercise, you'll use pypfopt.risk_models's CovarianceShrinkage object to transform sample covariance into an efficient estimate. The textbook error shrinkage method, .ledoit_wolf(), is a method of this object.\n",
    "\n",
    "Asset prices are available in your workspace. Note that although the CovarianceShrinkage object takes prices as input, it actually calculates the covariance matrix of asset returns, not prices."
   ]
  },
  {
   "cell_type": "code",
   "execution_count": 28,
   "id": "81e326e7-16d4-4b30-9e7f-10082e633641",
   "metadata": {},
   "outputs": [
    {
     "data": {
      "text/html": [
       "<div>\n",
       "<style scoped>\n",
       "    .dataframe tbody tr th:only-of-type {\n",
       "        vertical-align: middle;\n",
       "    }\n",
       "\n",
       "    .dataframe tbody tr th {\n",
       "        vertical-align: top;\n",
       "    }\n",
       "\n",
       "    .dataframe thead th {\n",
       "        text-align: right;\n",
       "    }\n",
       "</style>\n",
       "<table border=\"1\" class=\"dataframe\">\n",
       "  <thead>\n",
       "    <tr style=\"text-align: right;\">\n",
       "      <th></th>\n",
       "      <th>Citibank</th>\n",
       "      <th>Morgan Stanley</th>\n",
       "      <th>Goldman Sachs</th>\n",
       "      <th>J.P. Morgan</th>\n",
       "    </tr>\n",
       "  </thead>\n",
       "  <tbody>\n",
       "    <tr>\n",
       "      <th>Citibank</th>\n",
       "      <td>0.536214</td>\n",
       "      <td>0.305045</td>\n",
       "      <td>0.217993</td>\n",
       "      <td>0.269784</td>\n",
       "    </tr>\n",
       "    <tr>\n",
       "      <th>Morgan Stanley</th>\n",
       "      <td>0.305045</td>\n",
       "      <td>0.491993</td>\n",
       "      <td>0.258625</td>\n",
       "      <td>0.218310</td>\n",
       "    </tr>\n",
       "    <tr>\n",
       "      <th>Goldman Sachs</th>\n",
       "      <td>0.217993</td>\n",
       "      <td>0.258625</td>\n",
       "      <td>0.217686</td>\n",
       "      <td>0.170937</td>\n",
       "    </tr>\n",
       "    <tr>\n",
       "      <th>J.P. Morgan</th>\n",
       "      <td>0.269784</td>\n",
       "      <td>0.218310</td>\n",
       "      <td>0.170937</td>\n",
       "      <td>0.264315</td>\n",
       "    </tr>\n",
       "  </tbody>\n",
       "</table>\n",
       "</div>"
      ],
      "text/plain": [
       "                Citibank  Morgan Stanley  Goldman Sachs  J.P. Morgan\n",
       "Citibank        0.536214        0.305045       0.217993     0.269784\n",
       "Morgan Stanley  0.305045        0.491993       0.258625     0.218310\n",
       "Goldman Sachs   0.217993        0.258625       0.217686     0.170937\n",
       "J.P. Morgan     0.269784        0.218310       0.170937     0.264315"
      ]
     },
     "execution_count": 28,
     "metadata": {},
     "output_type": "execute_result"
    }
   ],
   "source": [
    "# Compute the sample covariance matrix of returns\n",
    "sample_cov = portfolio.pct_change().cov() * 252\n",
    "sample_cov"
   ]
  },
  {
   "cell_type": "code",
   "execution_count": 29,
   "id": "0259d5b9-16e3-4da6-b525-67976019edba",
   "metadata": {},
   "outputs": [
    {
     "data": {
      "text/html": [
       "<div>\n",
       "<style scoped>\n",
       "    .dataframe tbody tr th:only-of-type {\n",
       "        vertical-align: middle;\n",
       "    }\n",
       "\n",
       "    .dataframe tbody tr th {\n",
       "        vertical-align: top;\n",
       "    }\n",
       "\n",
       "    .dataframe thead th {\n",
       "        text-align: right;\n",
       "    }\n",
       "</style>\n",
       "<table border=\"1\" class=\"dataframe\">\n",
       "  <thead>\n",
       "    <tr style=\"text-align: right;\">\n",
       "      <th></th>\n",
       "      <th>Citibank</th>\n",
       "      <th>Morgan Stanley</th>\n",
       "      <th>Goldman Sachs</th>\n",
       "      <th>J.P. Morgan</th>\n",
       "    </tr>\n",
       "  </thead>\n",
       "  <tbody>\n",
       "    <tr>\n",
       "      <th>Citibank</th>\n",
       "      <td>0.527505</td>\n",
       "      <td>0.288782</td>\n",
       "      <td>0.206371</td>\n",
       "      <td>0.255401</td>\n",
       "    </tr>\n",
       "    <tr>\n",
       "      <th>Morgan Stanley</th>\n",
       "      <td>0.288782</td>\n",
       "      <td>0.485642</td>\n",
       "      <td>0.244837</td>\n",
       "      <td>0.206671</td>\n",
       "    </tr>\n",
       "    <tr>\n",
       "      <th>Goldman Sachs</th>\n",
       "      <td>0.206371</td>\n",
       "      <td>0.244837</td>\n",
       "      <td>0.225959</td>\n",
       "      <td>0.161823</td>\n",
       "    </tr>\n",
       "    <tr>\n",
       "      <th>J.P. Morgan</th>\n",
       "      <td>0.255401</td>\n",
       "      <td>0.206671</td>\n",
       "      <td>0.161823</td>\n",
       "      <td>0.270102</td>\n",
       "    </tr>\n",
       "  </tbody>\n",
       "</table>\n",
       "</div>"
      ],
      "text/plain": [
       "                Citibank  Morgan Stanley  Goldman Sachs  J.P. Morgan\n",
       "Citibank        0.527505        0.288782       0.206371     0.255401\n",
       "Morgan Stanley  0.288782        0.485642       0.244837     0.206671\n",
       "Goldman Sachs   0.206371        0.244837       0.225959     0.161823\n",
       "J.P. Morgan     0.255401        0.206671       0.161823     0.270102"
      ]
     },
     "execution_count": 29,
     "metadata": {},
     "output_type": "execute_result"
    }
   ],
   "source": [
    "# Create the CovarianceShrinkage instance variable\n",
    "cs = CovarianceShrinkage(portfolio)\n",
    "\n",
    "# Compute the efficient covariance matrix of returns\n",
    "e_cov = cs.ledoit_wolf()\n",
    "e_cov"
   ]
  },
  {
   "cell_type": "markdown",
   "id": "1d37e9d4-7a1c-435e-b601-823fc52dd74a",
   "metadata": {},
   "source": [
    "Breaking down the financial crisis\n",
    "\n",
    "You saw the efficient frontier for the portfolio of investment banks over the entire period 2005 - 2010, which includes time before, during and after the global financial crisis.\n",
    "\n",
    "Here you'll break down this period into three sub-periods, or epochs: 2005-2006 (before), 2007-2008 (during) and 2009-2010 (after). For each period you'll compute the efficient covariance matrix, and compare them to each other."
   ]
  },
  {
   "cell_type": "code",
   "execution_count": 30,
   "id": "9a71c765-fbb6-4824-bc76-c0bd5b6e27bd",
   "metadata": {},
   "outputs": [
    {
     "data": {
      "text/plain": [
       "{'before': {'start': '1-1-2005', 'end': '31-12-2006'},\n",
       " 'during': {'start': '1-1-2007', 'end': '31-12-2008'},\n",
       " 'after': {'start': '1-1-2009', 'end': '31-12-2010'}}"
      ]
     },
     "execution_count": 30,
     "metadata": {},
     "output_type": "execute_result"
    }
   ],
   "source": [
    "# Create a dictionary of time periods (or 'epochs')\n",
    "epochs = { 'before' : {'start': '1-1-2005', 'end': '31-12-2006'},\n",
    "           'during' : {'start': '1-1-2007', 'end': '31-12-2008'},\n",
    "           'after'  : {'start': '1-1-2009', 'end': '31-12-2010'}\n",
    "         }\n",
    "\n",
    "epochs"
   ]
  },
  {
   "cell_type": "code",
   "execution_count": 31,
   "id": "985b6a87-1326-4ac8-9a3a-d11c0d5611f5",
   "metadata": {},
   "outputs": [
    {
     "name": "stdout",
     "output_type": "stream",
     "text": [
      "before 1-1-2005 31-12-2006\n",
      "during 1-1-2007 31-12-2008\n",
      "after 1-1-2009 31-12-2010\n"
     ]
    }
   ],
   "source": [
    "# Compute the efficient covariance for each epoch\n",
    "e_cov = {}\n",
    "periods_prices = {}\n",
    "\n",
    "for x in epochs.keys():\n",
    "    sub_price = portfolio.loc[epochs[x]['start']:epochs[x]['end']]\n",
    "    print(x, epochs[x]['start'],epochs[x]['end'])\n",
    "    periods_prices[x] = sub_price\n",
    "    e_cov[x] = CovarianceShrinkage(sub_price).ledoit_wolf()\n"
   ]
  },
  {
   "cell_type": "code",
   "execution_count": 32,
   "id": "28b85de8-2406-4a52-8ffa-20b298406a06",
   "metadata": {},
   "outputs": [
    {
     "name": "stdout",
     "output_type": "stream",
     "text": [
      "before \n",
      "                 Citibank  Morgan Stanley  Goldman Sachs  J.P. Morgan\n",
      "Citibank        0.018149        0.013789       0.013183     0.013523\n",
      "Morgan Stanley  0.013789        0.043021       0.030559     0.016525\n",
      "Goldman Sachs   0.013183        0.030559       0.044482     0.018237\n",
      "J.P. Morgan     0.013523        0.016525       0.018237     0.024182 \n",
      "\n",
      "during \n",
      "                 Citibank  Morgan Stanley  Goldman Sachs  J.P. Morgan\n",
      "Citibank        0.713035        0.465336       0.323977     0.364848\n",
      "Morgan Stanley  0.465336        0.994390       0.434874     0.298613\n",
      "Goldman Sachs   0.323977        0.434874       0.408773     0.224668\n",
      "J.P. Morgan     0.364848        0.298613       0.224668     0.422516 \n",
      "\n",
      "after \n",
      "                 Citibank  Morgan Stanley  Goldman Sachs  J.P. Morgan\n",
      "Citibank        0.841156        0.344939       0.252684     0.356788\n",
      "Morgan Stanley  0.344939        0.388839       0.231624     0.279727\n",
      "Goldman Sachs   0.252684        0.231624       0.244539     0.223740\n",
      "J.P. Morgan     0.356788        0.279727       0.223740     0.382494 \n",
      "\n"
     ]
    }
   ],
   "source": [
    "# Display the efficient covariance matrices for all epochs\n",
    "\n",
    "for epoch in epochs.keys():\n",
    "    print(epoch, '\\n', e_cov[epoch],'\\n')"
   ]
  },
  {
   "cell_type": "markdown",
   "id": "c3ea56e6-f203-41a1-b6c3-170a77202dd8",
   "metadata": {},
   "source": [
    "The efficient frontier and the financial crisis\n",
    "\n",
    "Previously you examined the covariance matrix of the investment bank portfolio before, during and after the financial crisis. Now you will visualize the changes that took place in the efficient frontier, showing how the crisis created a much higher baseline risk for any given return.\n",
    "\n",
    "Using the PyPortfolioOpt pypfopt library's Critical Line Algorithm (CLA) object, you will derive and visualize the efficient frontier during the crisis period, and add it to a scatterplot already displaying the efficient frontiers before and after the crisis."
   ]
  },
  {
   "cell_type": "code",
   "execution_count": 33,
   "id": "477cc821-edc1-4823-b23c-b1d0daf52737",
   "metadata": {},
   "outputs": [
    {
     "data": {
      "text/html": [
       "<div>\n",
       "<style scoped>\n",
       "    .dataframe tbody tr th:only-of-type {\n",
       "        vertical-align: middle;\n",
       "    }\n",
       "\n",
       "    .dataframe tbody tr th {\n",
       "        vertical-align: top;\n",
       "    }\n",
       "\n",
       "    .dataframe thead th {\n",
       "        text-align: right;\n",
       "    }\n",
       "</style>\n",
       "<table border=\"1\" class=\"dataframe\">\n",
       "  <thead>\n",
       "    <tr style=\"text-align: right;\">\n",
       "      <th></th>\n",
       "      <th>Morgan Stanley</th>\n",
       "      <th>Goldman Sachs</th>\n",
       "      <th>J.P. Morgan</th>\n",
       "    </tr>\n",
       "  </thead>\n",
       "  <tbody>\n",
       "    <tr>\n",
       "      <th>Morgan Stanley</th>\n",
       "      <td>0.994390</td>\n",
       "      <td>0.434874</td>\n",
       "      <td>0.298613</td>\n",
       "    </tr>\n",
       "    <tr>\n",
       "      <th>Goldman Sachs</th>\n",
       "      <td>0.434874</td>\n",
       "      <td>0.408773</td>\n",
       "      <td>0.224668</td>\n",
       "    </tr>\n",
       "    <tr>\n",
       "      <th>J.P. Morgan</th>\n",
       "      <td>0.298613</td>\n",
       "      <td>0.224668</td>\n",
       "      <td>0.422516</td>\n",
       "    </tr>\n",
       "  </tbody>\n",
       "</table>\n",
       "</div>"
      ],
      "text/plain": [
       "                Morgan Stanley  Goldman Sachs  J.P. Morgan\n",
       "Morgan Stanley        0.994390       0.434874     0.298613\n",
       "Goldman Sachs         0.434874       0.408773     0.224668\n",
       "J.P. Morgan           0.298613       0.224668     0.422516"
      ]
     },
     "execution_count": 33,
     "metadata": {},
     "output_type": "execute_result"
    }
   ],
   "source": [
    "ecov_during = e_cov['during'].iloc[1:,1:]\n",
    "ecov_during"
   ]
  },
  {
   "cell_type": "code",
   "execution_count": 34,
   "id": "7070c28f-7895-4316-804b-a872248e59ee",
   "metadata": {},
   "outputs": [
    {
     "data": {
      "text/html": [
       "<div>\n",
       "<style scoped>\n",
       "    .dataframe tbody tr th:only-of-type {\n",
       "        vertical-align: middle;\n",
       "    }\n",
       "\n",
       "    .dataframe tbody tr th {\n",
       "        vertical-align: top;\n",
       "    }\n",
       "\n",
       "    .dataframe thead th {\n",
       "        text-align: right;\n",
       "    }\n",
       "</style>\n",
       "<table border=\"1\" class=\"dataframe\">\n",
       "  <thead>\n",
       "    <tr style=\"text-align: right;\">\n",
       "      <th></th>\n",
       "      <th>Citibank</th>\n",
       "      <th>Morgan Stanley</th>\n",
       "      <th>Goldman Sachs</th>\n",
       "      <th>J.P. Morgan</th>\n",
       "    </tr>\n",
       "    <tr>\n",
       "      <th>Date</th>\n",
       "      <th></th>\n",
       "      <th></th>\n",
       "      <th></th>\n",
       "      <th></th>\n",
       "    </tr>\n",
       "  </thead>\n",
       "  <tbody>\n",
       "    <tr>\n",
       "      <th>2007-01-03</th>\n",
       "      <td>NaN</td>\n",
       "      <td>NaN</td>\n",
       "      <td>NaN</td>\n",
       "      <td>NaN</td>\n",
       "    </tr>\n",
       "    <tr>\n",
       "      <th>2007-01-04</th>\n",
       "      <td>-0.003439</td>\n",
       "      <td>0.003553</td>\n",
       "      <td>-0.009316</td>\n",
       "      <td>0.002496</td>\n",
       "    </tr>\n",
       "    <tr>\n",
       "      <th>2007-01-05</th>\n",
       "      <td>-0.005267</td>\n",
       "      <td>-0.012819</td>\n",
       "      <td>0.001006</td>\n",
       "      <td>-0.008300</td>\n",
       "    </tr>\n",
       "    <tr>\n",
       "      <th>2007-01-08</th>\n",
       "      <td>0.005112</td>\n",
       "      <td>0.006060</td>\n",
       "      <td>0.023512</td>\n",
       "      <td>0.003348</td>\n",
       "    </tr>\n",
       "    <tr>\n",
       "      <th>2007-01-09</th>\n",
       "      <td>-0.008719</td>\n",
       "      <td>-0.002336</td>\n",
       "      <td>0.001718</td>\n",
       "      <td>-0.004171</td>\n",
       "    </tr>\n",
       "    <tr>\n",
       "      <th>...</th>\n",
       "      <td>...</td>\n",
       "      <td>...</td>\n",
       "      <td>...</td>\n",
       "      <td>...</td>\n",
       "    </tr>\n",
       "    <tr>\n",
       "      <th>2008-12-24</th>\n",
       "      <td>0.039877</td>\n",
       "      <td>0.004155</td>\n",
       "      <td>0.016489</td>\n",
       "      <td>0.025421</td>\n",
       "    </tr>\n",
       "    <tr>\n",
       "      <th>2008-12-26</th>\n",
       "      <td>-0.007375</td>\n",
       "      <td>0.010345</td>\n",
       "      <td>-0.006149</td>\n",
       "      <td>-0.001675</td>\n",
       "    </tr>\n",
       "    <tr>\n",
       "      <th>2008-12-29</th>\n",
       "      <td>-0.023774</td>\n",
       "      <td>0.017065</td>\n",
       "      <td>0.007766</td>\n",
       "      <td>-0.000671</td>\n",
       "    </tr>\n",
       "    <tr>\n",
       "      <th>2008-12-30</th>\n",
       "      <td>0.035008</td>\n",
       "      <td>0.019463</td>\n",
       "      <td>0.071839</td>\n",
       "      <td>0.041303</td>\n",
       "    </tr>\n",
       "    <tr>\n",
       "      <th>2008-12-31</th>\n",
       "      <td>-0.013235</td>\n",
       "      <td>0.055958</td>\n",
       "      <td>0.028394</td>\n",
       "      <td>0.016769</td>\n",
       "    </tr>\n",
       "  </tbody>\n",
       "</table>\n",
       "<p>504 rows × 4 columns</p>\n",
       "</div>"
      ],
      "text/plain": [
       "            Citibank  Morgan Stanley  Goldman Sachs  J.P. Morgan\n",
       "Date                                                            \n",
       "2007-01-03       NaN             NaN            NaN          NaN\n",
       "2007-01-04 -0.003439        0.003553      -0.009316     0.002496\n",
       "2007-01-05 -0.005267       -0.012819       0.001006    -0.008300\n",
       "2007-01-08  0.005112        0.006060       0.023512     0.003348\n",
       "2007-01-09 -0.008719       -0.002336       0.001718    -0.004171\n",
       "...              ...             ...            ...          ...\n",
       "2008-12-24  0.039877        0.004155       0.016489     0.025421\n",
       "2008-12-26 -0.007375        0.010345      -0.006149    -0.001675\n",
       "2008-12-29 -0.023774        0.017065       0.007766    -0.000671\n",
       "2008-12-30  0.035008        0.019463       0.071839     0.041303\n",
       "2008-12-31 -0.013235        0.055958       0.028394     0.016769\n",
       "\n",
       "[504 rows x 4 columns]"
      ]
     },
     "execution_count": 34,
     "metadata": {},
     "output_type": "execute_result"
    }
   ],
   "source": [
    "all_returns_during = periods_prices['during'].pct_change()\n",
    "all_returns_during"
   ]
  },
  {
   "cell_type": "code",
   "execution_count": 35,
   "id": "9d7338dc-9b21-4cbb-8f8a-b30c7ed8e9d5",
   "metadata": {},
   "outputs": [
    {
     "data": {
      "text/html": [
       "<div>\n",
       "<style scoped>\n",
       "    .dataframe tbody tr th:only-of-type {\n",
       "        vertical-align: middle;\n",
       "    }\n",
       "\n",
       "    .dataframe tbody tr th {\n",
       "        vertical-align: top;\n",
       "    }\n",
       "\n",
       "    .dataframe thead th {\n",
       "        text-align: right;\n",
       "    }\n",
       "</style>\n",
       "<table border=\"1\" class=\"dataframe\">\n",
       "  <thead>\n",
       "    <tr style=\"text-align: right;\">\n",
       "      <th></th>\n",
       "      <th>Citibank</th>\n",
       "      <th>Morgan Stanley</th>\n",
       "      <th>Goldman Sachs</th>\n",
       "      <th>J.P. Morgan</th>\n",
       "    </tr>\n",
       "    <tr>\n",
       "      <th>Date</th>\n",
       "      <th></th>\n",
       "      <th></th>\n",
       "      <th></th>\n",
       "      <th></th>\n",
       "    </tr>\n",
       "  </thead>\n",
       "  <tbody>\n",
       "    <tr>\n",
       "      <th>2007-01-03</th>\n",
       "      <td>NaN</td>\n",
       "      <td>NaN</td>\n",
       "      <td>NaN</td>\n",
       "      <td>NaN</td>\n",
       "    </tr>\n",
       "    <tr>\n",
       "      <th>2007-01-04</th>\n",
       "      <td>-0.003439</td>\n",
       "      <td>0.003553</td>\n",
       "      <td>-0.009316</td>\n",
       "      <td>0.002496</td>\n",
       "    </tr>\n",
       "    <tr>\n",
       "      <th>2007-01-05</th>\n",
       "      <td>-0.008688</td>\n",
       "      <td>-0.009311</td>\n",
       "      <td>-0.008320</td>\n",
       "      <td>-0.005825</td>\n",
       "    </tr>\n",
       "    <tr>\n",
       "      <th>2007-01-08</th>\n",
       "      <td>-0.003620</td>\n",
       "      <td>-0.003308</td>\n",
       "      <td>0.014996</td>\n",
       "      <td>-0.002496</td>\n",
       "    </tr>\n",
       "    <tr>\n",
       "      <th>2007-01-09</th>\n",
       "      <td>-0.012308</td>\n",
       "      <td>-0.005636</td>\n",
       "      <td>0.016740</td>\n",
       "      <td>-0.006657</td>\n",
       "    </tr>\n",
       "    <tr>\n",
       "      <th>...</th>\n",
       "      <td>...</td>\n",
       "      <td>...</td>\n",
       "      <td>...</td>\n",
       "      <td>...</td>\n",
       "    </tr>\n",
       "    <tr>\n",
       "      <th>2008-12-24</th>\n",
       "      <td>-0.877285</td>\n",
       "      <td>-0.822347</td>\n",
       "      <td>-0.619171</td>\n",
       "      <td>-0.379031</td>\n",
       "    </tr>\n",
       "    <tr>\n",
       "      <th>2008-12-26</th>\n",
       "      <td>-0.878190</td>\n",
       "      <td>-0.820510</td>\n",
       "      <td>-0.621513</td>\n",
       "      <td>-0.380071</td>\n",
       "    </tr>\n",
       "    <tr>\n",
       "      <th>2008-12-29</th>\n",
       "      <td>-0.881086</td>\n",
       "      <td>-0.817447</td>\n",
       "      <td>-0.618573</td>\n",
       "      <td>-0.380487</td>\n",
       "    </tr>\n",
       "    <tr>\n",
       "      <th>2008-12-30</th>\n",
       "      <td>-0.876923</td>\n",
       "      <td>-0.813894</td>\n",
       "      <td>-0.591172</td>\n",
       "      <td>-0.354899</td>\n",
       "    </tr>\n",
       "    <tr>\n",
       "      <th>2008-12-31</th>\n",
       "      <td>-0.878552</td>\n",
       "      <td>-0.803480</td>\n",
       "      <td>-0.579564</td>\n",
       "      <td>-0.344082</td>\n",
       "    </tr>\n",
       "  </tbody>\n",
       "</table>\n",
       "<p>504 rows × 4 columns</p>\n",
       "</div>"
      ],
      "text/plain": [
       "            Citibank  Morgan Stanley  Goldman Sachs  J.P. Morgan\n",
       "Date                                                            \n",
       "2007-01-03       NaN             NaN            NaN          NaN\n",
       "2007-01-04 -0.003439        0.003553      -0.009316     0.002496\n",
       "2007-01-05 -0.008688       -0.009311      -0.008320    -0.005825\n",
       "2007-01-08 -0.003620       -0.003308       0.014996    -0.002496\n",
       "2007-01-09 -0.012308       -0.005636       0.016740    -0.006657\n",
       "...              ...             ...            ...          ...\n",
       "2008-12-24 -0.877285       -0.822347      -0.619171    -0.379031\n",
       "2008-12-26 -0.878190       -0.820510      -0.621513    -0.380071\n",
       "2008-12-29 -0.881086       -0.817447      -0.618573    -0.380487\n",
       "2008-12-30 -0.876923       -0.813894      -0.591172    -0.354899\n",
       "2008-12-31 -0.878552       -0.803480      -0.579564    -0.344082\n",
       "\n",
       "[504 rows x 4 columns]"
      ]
     },
     "execution_count": 35,
     "metadata": {},
     "output_type": "execute_result"
    }
   ],
   "source": [
    "cumulative_returns_during = (1 + all_returns_during).cumprod() -1\n",
    "cumulative_returns_during"
   ]
  },
  {
   "cell_type": "code",
   "execution_count": 36,
   "id": "35ce63fb-411e-48de-9fcb-55de1a3cb434",
   "metadata": {},
   "outputs": [
    {
     "data": {
      "text/plain": [
       "Morgan Stanley   -0.803480\n",
       "Goldman Sachs    -0.579564\n",
       "J.P. Morgan      -0.344082\n",
       "Name: 2008-12-31 00:00:00, dtype: float64"
      ]
     },
     "execution_count": 36,
     "metadata": {},
     "output_type": "execute_result"
    }
   ],
   "source": [
    "returns_during = cumulative_returns_during.iloc[-1][1:]\n",
    "returns_during"
   ]
  },
  {
   "cell_type": "code",
   "execution_count": 37,
   "id": "ba12f2c8-52f9-4a28-986b-f073e86513d0",
   "metadata": {},
   "outputs": [
    {
     "data": {
      "text/plain": [
       "OrderedDict([('Morgan Stanley', 0.0),\n",
       "             ('Goldman Sachs', 0.5179899476599341),\n",
       "             ('J.P. Morgan', 0.48201005234006594)])"
      ]
     },
     "execution_count": 37,
     "metadata": {},
     "output_type": "execute_result"
    }
   ],
   "source": [
    "# Initialize the Crtical Line Algorithm object\n",
    "efficient_portfolio_during = CLA(returns_during, ecov_during)\n",
    "\n",
    "# Find the minimum volatility portfolio weights and display them\n",
    "efficient_portfolio_during.min_volatility()"
   ]
  },
  {
   "cell_type": "code",
   "execution_count": 38,
   "id": "b0aeefd0-7a5e-4b62-8e9f-4fd3f764aeab",
   "metadata": {},
   "outputs": [
    {
     "data": {
      "text/plain": [
       "(65, 65, 65)"
      ]
     },
     "execution_count": 38,
     "metadata": {},
     "output_type": "execute_result"
    }
   ],
   "source": [
    "# Compute the efficient frontier\n",
    "(ret_during, vol_during, weights_during) = efficient_portfolio_during.efficient_frontier()\n",
    "\n",
    "len(ret_during), len(vol_during), len(weights_during)"
   ]
  },
  {
   "cell_type": "code",
   "execution_count": 39,
   "id": "ade2c9ff-afb2-41c0-aca7-4513fd926e3f",
   "metadata": {},
   "outputs": [],
   "source": [
    "# repeat for 'before'\n",
    "\n",
    "ecov_before = e_cov['before'].iloc[1:,1:]\n",
    "all_returns_before = periods_prices['before'].pct_change()\n",
    "cumulative_returns_before = (1 + all_returns_before).cumprod() -1\n",
    "returns_before = cumulative_returns_before.iloc[-1][1:]\n",
    "efficient_portfolio_before = CLA(returns_before, ecov_before)\n",
    "(ret_before, vol_before, weights_before) = efficient_portfolio_before.efficient_frontier()\n"
   ]
  },
  {
   "cell_type": "code",
   "execution_count": 40,
   "id": "70339cb4-0e27-4bad-aa1f-7fb7da8554b4",
   "metadata": {},
   "outputs": [],
   "source": [
    "# repeat for 'after'\n",
    "\n",
    "ecov_after = e_cov['after'].iloc[1:,1:]\n",
    "all_returns_after = periods_prices['after'].pct_change()\n",
    "cumulative_returns_after = (1 + all_returns_after).cumprod() -1\n",
    "returns_after = cumulative_returns_after.iloc[-1][1:]\n",
    "efficient_portfolio_after = CLA(returns_after, ecov_after)\n",
    "(ret_after, vol_after, weights_after) = efficient_portfolio_after.efficient_frontier()\n"
   ]
  },
  {
   "cell_type": "code",
   "execution_count": 41,
   "id": "7545be16-305f-406a-b133-9a9c47d8ee7c",
   "metadata": {},
   "outputs": [
    {
     "data": {
      "image/png": "[encoded data removed]",
      "text/plain": [
       "<Figure size 640x480 with 1 Axes>"
      ]
     },
     "metadata": {},
     "output_type": "display_data"
    }
   ],
   "source": [
    "# Add the frontier to the plot showing the 'before', 'during' and 'after' frontiers\n",
    "plt.scatter(vol_before, ret_before, s = 4, c = 'g', marker = '.', label = 'Before')\n",
    "plt.scatter(vol_during, ret_during, s = 4, c = 'b', marker = '.', label = 'During')\n",
    "plt.scatter(vol_after, ret_after, s = 4, c = 'r', marker = '.', label = 'After')\n",
    "plt.title('Efficient Frontier')\n",
    "plt.xlabel('Volatility')\n",
    "plt.ylabel('Returns')\n",
    "plt.legend()\n",
    "plt.show()"
   ]
  },
  {
   "cell_type": "markdown",
   "id": "f33c9107-ef40-44ca-bd8b-866fa0037fab",
   "metadata": {},
   "source": [
    "VaR for the Normal distribution\n",
    "\n",
    "To get accustomed to the Value at Risk (VaR) measure, it helps to apply it to a known distribution. The Normal (or Gaussian) distribution is especially appealing as it 1) has an analytically simple form, and 2) represents a wide variety of empirical phenomena. For this exercise you'll assume that the loss of a portfolio is normally distributed, i.e., the higher the value drawn from the distribution, the higher the loss.\n",
    "\n",
    "You'll learn how to apply both scipy.stats.norm's ppf() (percent point function) and numpy's quantile() function to find the VaR at the 95% and 99% confidence levels, respectively, for a standard Normal distribution. You'll also visualize the VaR as a threshold on a Normal distribution plot."
   ]
  },
  {
   "cell_type": "code",
   "execution_count": 60,
   "id": "e061fd39-8461-45b8-a871-4f7572a8b1d0",
   "metadata": {},
   "outputs": [
    {
     "data": {
      "text/plain": [
       "1.6448536269514722"
      ]
     },
     "execution_count": 60,
     "metadata": {},
     "output_type": "execute_result"
    }
   ],
   "source": [
    "# Create the VaR measure at the 95% confidence level using norm.ppf()\n",
    "VaR_95 = norm.ppf(0.95)\n",
    "\n",
    "VaR_95"
   ]
  },
  {
   "cell_type": "code",
   "execution_count": 61,
   "id": "94a1ea81-4dc2-4f7b-8f8a-7ae869216468",
   "metadata": {},
   "outputs": [
    {
     "data": {
      "text/plain": [
       "1.6364097116184038"
      ]
     },
     "execution_count": 61,
     "metadata": {},
     "output_type": "execute_result"
    }
   ],
   "source": [
    "# Create the VaR measure at the 95% and 99% confidence level using numpy.quantile()\n",
    "draws = norm.rvs(size = 100000)\n",
    "VaR_95 = np.quantile(draws, 0.95)\n",
    "\n",
    "VaR_95"
   ]
  },
  {
   "cell_type": "code",
   "execution_count": 62,
   "id": "e6a60a81-4cfb-482e-8236-ac582600c0ef",
   "metadata": {},
   "outputs": [
    {
     "data": {
      "text/plain": [
       "2.325772687308498"
      ]
     },
     "execution_count": 62,
     "metadata": {},
     "output_type": "execute_result"
    }
   ],
   "source": [
    "VaR_99 = np.quantile(draws, 0.99)\n",
    "\n",
    "VaR_99"
   ]
  },
  {
   "cell_type": "code",
   "execution_count": 63,
   "id": "a9777b07-7d10-4cb9-b9ac-c7ec49beba65",
   "metadata": {},
   "outputs": [
    {
     "data": {
      "image/png": "[encoded data removed]",
      "text/plain": [
       "<Figure size 640x480 with 1 Axes>"
      ]
     },
     "metadata": {},
     "output_type": "display_data"
    }
   ],
   "source": [
    "# Plot the normal distribution histogram and 95% VaR measure\n",
    "plt.hist(draws, bins = 100)\n",
    "plt.axvline(x = VaR_95, c='g', label = \"VaR at 95% Confidence Level\")\n",
    "plt.axvline(x = VaR_99, c='y', label = \"VaR at 99% Confidence Level\")\n",
    "plt.legend(); plt.show()"
   ]
  },
  {
   "cell_type": "markdown",
   "id": "00a2a201-d19a-4963-9a47-25ee6092a27b",
   "metadata": {},
   "source": [
    "Comparing CVaR and VaR\n",
    "\n",
    "The conditional value at risk (CVaR), or expected shortfall (ES), asks what the average loss will be, conditional upon losses exceeding some threshold at a certain confidence level. It uses VaR as a point of departure, but contains more information because it takes into consideration the tail of the loss distribution.\n",
    "\n",
    "You'll first compute the 95% VaR for a Normal distribution of portfolio losses, with the same mean and standard deviation as the 2005-2010 investment bank portfolio_losses. You'll then use the VaR to compute the 95% CVaR, and plot both against the Normal distribution."
   ]
  },
  {
   "cell_type": "code",
   "execution_count": 64,
   "id": "849b9e7e-622e-4794-a0b7-8a749b8c8f88",
   "metadata": {},
   "outputs": [
    {
     "data": {
      "text/plain": [
       "Date\n",
       "2005-01-03    0.005262\n",
       "2005-01-04   -0.011152\n",
       "2005-01-05    0.001081\n",
       "2005-01-06    0.013209\n",
       "2005-01-07   -0.005479\n",
       "                ...   \n",
       "2010-12-23   -0.005974\n",
       "2010-12-27    0.012551\n",
       "2010-12-28    0.000594\n",
       "2010-12-29   -0.007729\n",
       "2010-12-30   -0.000818\n",
       "Length: 1510, dtype: float64"
      ]
     },
     "execution_count": 64,
     "metadata": {},
     "output_type": "execute_result"
    }
   ],
   "source": [
    "portfolio_losses = returns.dropna()\n",
    "portfolio_losses"
   ]
  },
  {
   "cell_type": "code",
   "execution_count": 65,
   "id": "d2ddaf33-a7eb-4a31-a8a9-26f00c4c4f06",
   "metadata": {},
   "outputs": [
    {
     "data": {
      "text/plain": [
       "(0.0003114949136155376, 0.03300281691321411)"
      ]
     },
     "execution_count": 65,
     "metadata": {},
     "output_type": "execute_result"
    }
   ],
   "source": [
    "# Compute the mean and standard deviation of the portfolio returns\n",
    "pm = portfolio_losses.mean()\n",
    "ps = portfolio_losses.std()\n",
    "\n",
    "pm, ps"
   ]
  },
  {
   "cell_type": "code",
   "execution_count": 66,
   "id": "60653b9d-d44d-4e19-b6aa-494dcca3c7a3",
   "metadata": {},
   "outputs": [
    {
     "data": {
      "text/plain": [
       "0.054596298012931165"
      ]
     },
     "execution_count": 66,
     "metadata": {},
     "output_type": "execute_result"
    }
   ],
   "source": [
    "# Compute the 95% VaR using the .ppf()\n",
    "VaR_95 = norm.ppf(0.95, loc = pm, scale = ps)\n",
    "VaR_95"
   ]
  },
  {
   "cell_type": "code",
   "execution_count": 67,
   "id": "52655a6e-4ec4-4df3-983a-0c50c2afc7a2",
   "metadata": {},
   "outputs": [
    {
     "name": "stdout",
     "output_type": "stream",
     "text": [
      "0.003419341402216257\n"
     ]
    },
    {
     "data": {
      "text/plain": [
       "0.06838682804432508"
      ]
     },
     "execution_count": 67,
     "metadata": {},
     "output_type": "execute_result"
    }
   ],
   "source": [
    "# Compute the expected tail loss and the CVaR in the worst 5% of cases\n",
    "tail_loss = norm.expect(lambda x: x, loc = pm, scale = ps, lb = VaR_95)\n",
    "print(tail_loss)\n",
    "CVaR_95 = (1 / (1 - 0.95)) * tail_loss\n",
    "CVaR_95"
   ]
  },
  {
   "cell_type": "code",
   "execution_count": 68,
   "id": "ad92b739-b0b1-4c4b-922a-05dee6b66215",
   "metadata": {},
   "outputs": [
    {
     "data": {
      "image/png": "[encoded data removed]",
      "text/plain": [
       "<Figure size 640x480 with 1 Axes>"
      ]
     },
     "metadata": {},
     "output_type": "display_data"
    }
   ],
   "source": [
    "# Plot the normal distribution histogram and add lines for the VaR and CVaR\n",
    "plt.hist(norm.rvs(size = 100000, loc = pm, scale = ps), bins = 100)\n",
    "plt.axvline(x = VaR_95, c='r', label = \"VaR, 95% confidence level\")\n",
    "plt.axvline(x = CVaR_95, c='g', label = \"CVaR, worst 5% of outcomes\")\n",
    "plt.legend(); plt.show()"
   ]
  },
  {
   "cell_type": "markdown",
   "id": "cb0be16a-a342-4036-b1bb-14b3858375f7",
   "metadata": {},
   "source": [
    "VaR and risk exposure\n",
    "\n",
    "Previously you computed the VaR and CVaR when losses were Normally distributed. Here you'll find the VaR using another common loss distribution, the Student's t-distribution (or T) contained in scipy.stats.\n",
    "\n",
    "You'll compute an array of 99% VaR measures from the T distribution (with 30 - 1 = 29 degrees of freedom), using 30-day rolling windows from investment bank portfolio losses.\n",
    "\n",
    "First you'll find the mean and standard deviation of each window, creating a list of rolling_parameters. You'll use these to compute the 99% VaR array of measures.\n",
    "\n",
    "Then you'll use this array to plot the risk exposure for a portfolio initially worth $100,000. Recall that risk exposure is the probability of loss (this is 1%) multiplied by the loss amount (this is the loss given by the 99% VaR)."
   ]
  },
  {
   "cell_type": "code",
   "execution_count": 71,
   "id": "cb4d583f-ecd5-416b-98a8-7473f868a31a",
   "metadata": {},
   "outputs": [
    {
     "data": {
      "text/plain": [
       "Date\n",
       "2005-01-03         NaN\n",
       "2005-01-04         NaN\n",
       "2005-01-05         NaN\n",
       "2005-01-06         NaN\n",
       "2005-01-07         NaN\n",
       "                ...   \n",
       "2010-12-23    0.001179\n",
       "2010-12-27    0.001884\n",
       "2010-12-28    0.002451\n",
       "2010-12-29    0.001826\n",
       "2010-12-30    0.002314\n",
       "Length: 1510, dtype: float64"
      ]
     },
     "execution_count": 71,
     "metadata": {},
     "output_type": "execute_result"
    }
   ],
   "source": [
    "# Create rolling window parameter list\n",
    "mu = portfolio_losses.rolling(30).mean()\n",
    "mu"
   ]
  },
  {
   "cell_type": "code",
   "execution_count": 72,
   "id": "c296c8de-1fe1-4ca9-8730-4a6e44d03ee7",
   "metadata": {},
   "outputs": [
    {
     "data": {
      "text/plain": [
       "Date\n",
       "2005-01-03         NaN\n",
       "2005-01-04         NaN\n",
       "2005-01-05         NaN\n",
       "2005-01-06         NaN\n",
       "2005-01-07         NaN\n",
       "                ...   \n",
       "2010-12-23    0.014272\n",
       "2010-12-27    0.014294\n",
       "2010-12-28    0.013875\n",
       "2010-12-29    0.013898\n",
       "2010-12-30    0.013523\n",
       "Length: 1510, dtype: float64"
      ]
     },
     "execution_count": 72,
     "metadata": {},
     "output_type": "execute_result"
    }
   ],
   "source": [
    "sigma = portfolio_losses.rolling(30).std()\n",
    "sigma"
   ]
  },
  {
   "cell_type": "code",
   "execution_count": 79,
   "id": "18434b52-7c06-41a3-a334-4b7d001ce988",
   "metadata": {},
   "outputs": [
    {
     "name": "stderr",
     "output_type": "stream",
     "text": [
      "C:\\Users\\Alienware\\AppData\\Local\\Temp\\ipykernel_21264\\405554607.py:1: FutureWarning: Series.__getitem__ treating keys as positions is deprecated. In a future version, integer keys will always be treated as labels (consistent with DataFrame behavior). To access a value by position, use `ser.iloc[pos]`\n",
      "  rolling_parameters = [(29, mu[i], s) for i,s in enumerate(sigma)]\n"
     ]
    },
    {
     "data": {
      "text/plain": [
       "(1510, 3)"
      ]
     },
     "execution_count": 79,
     "metadata": {},
     "output_type": "execute_result"
    }
   ],
   "source": [
    "rolling_parameters = [(29, mu[i], s) for i,s in enumerate(sigma)]\n",
    "np.array(rolling_parameters).shape"
   ]
  },
  {
   "cell_type": "code",
   "execution_count": 82,
   "id": "8313f2a7-fdfb-471a-9773-ec38131a5a29",
   "metadata": {},
   "outputs": [
    {
     "data": {
      "text/plain": [
       "(1510,)"
      ]
     },
     "execution_count": 82,
     "metadata": {},
     "output_type": "execute_result"
    }
   ],
   "source": [
    "# Compute the 99% VaR array using the rolling window parameters\n",
    "VaR_99 = np.array( [ t.ppf(0.99, *params) \n",
    "                    for params in rolling_parameters ] )\n",
    "VaR_99.shape"
   ]
  },
  {
   "cell_type": "code",
   "execution_count": 84,
   "id": "450cf667-2cda-4167-9231-de148f98d148",
   "metadata": {},
   "outputs": [
    {
     "data": {
      "image/png": "[encoded data removed]",
      "text/plain": [
       "<Figure size 640x480 with 1 Axes>"
      ]
     },
     "metadata": {},
     "output_type": "display_data"
    }
   ],
   "source": [
    "# Plot the minimum risk exposure over the 2005-2010 time period\n",
    "plt.plot(portfolio_losses.index, 0.01 * VaR_99 * 100000)\n",
    "# Because the confidence level was fixed at 99%, we kept the probability of loss at 1%. \n",
    "# This means the risk exposure is just a rescaled VaR measure of the maximum portfolio loss 99% of the time.\n",
    "plt.show()"
   ]
  },
  {
   "cell_type": "markdown",
   "id": "c011873d-3f88-45e2-8f4a-093ff88e786d",
   "metadata": {},
   "source": [
    "CVaR and risk exposure\n",
    "\n",
    "Recall that CVaR is the expected value of loss given a minimum loss threshold. So CVaR is already in the form of a risk exposure--it is the sum (or integral) of the probability of loss in the distribution tail multiplied, by the loss amount.\n",
    "\n",
    "To derive the 99% CVaR you'll first fit a T distribution to available crisis_losses portfolio data from 2008 - 2009, using the t.fit() method. This returns the T distribution parameters p used to find the VaR with the .ppf() method.\n",
    "\n",
    "Next you'll compute the 99% VaR, since it's used to find the CVaR.\n",
    "\n",
    "Finally you'll compute the 99% CVaR measure using the t.expect() method, which is the same method you used to compute CVaR for the Normal distribution in an earlier exercise."
   ]
  },
  {
   "cell_type": "code",
   "execution_count": 87,
   "id": "fd1e1b40-3dc9-4107-b915-536576c79d25",
   "metadata": {},
   "outputs": [
    {
     "data": {
      "text/plain": [
       "(2.0661633763091545, -0.002310770050237159, 0.025848267930998578)"
      ]
     },
     "execution_count": 87,
     "metadata": {},
     "output_type": "execute_result"
    }
   ],
   "source": [
    "# Fit the Student's t distribution to crisis losses\n",
    "p = t.fit(portfolio_returns.dropna())\n",
    "p # (df, loc, scale)"
   ]
  },
  {
   "cell_type": "code",
   "execution_count": 88,
   "id": "736630e9-f8e5-44f9-9864-9b61195030e8",
   "metadata": {},
   "outputs": [
    {
     "name": "stdout",
     "output_type": "stream",
     "text": [
      "0.33553456300164997\n"
     ]
    }
   ],
   "source": [
    "# Compute the VaR_99 for the fitted distribution\n",
    "VaR_99 = t.ppf(0.99, *p)\n",
    "\n",
    "# Use the fitted parameters and VaR_99 to compute CVaR_99\n",
    "tail_loss = t.expect(lambda y: y, args = (p[0],), loc = p[1], scale = p[2], lb = VaR_99)\n",
    "CVaR_99 = (1 / (1 - 0.99)) * tail_loss\n",
    "print(CVaR_99)"
   ]
  },
  {
   "cell_type": "markdown",
   "id": "28b9d0bf-7785-4897-a1bc-1481c08aa1cf",
   "metadata": {},
   "source": [
    "VaR from a fitted distribution\n",
    "\n",
    "Minimizing CVaR requires calculating the VaR at a confidence level, say 95%. Previously you derived the VaR as a quantile from a Normal (or Gaussian) distribution, but minimizing the CVaR more generally requires computing the quantile from a distribution that best fits the data.\n",
    "\n",
    "In this exercise a fitted loss distribution is provided, which fits losses from an equal-weighted investment bank portfolio from 2005-2010. You'll first plot this distribution using its .evaluate() method (fitted distributions will be covered in more detail in Chapter 4).\n",
    "\n",
    "Next you'll use the .resample() method of the fitted object to draw a random sample of 100,000 observations from the fitted distribution.\n",
    "\n",
    "Finally, using np.quantile() on the random sample will then compute the 95% VaR."
   ]
  },
  {
   "cell_type": "code",
   "execution_count": 100,
   "id": "3e7bb495-10d7-4797-a52a-0792d5412c6a",
   "metadata": {},
   "outputs": [
    {
     "data": {
      "text/plain": [
       "<scipy.stats._kde.gaussian_kde at 0x29da12137c0>"
      ]
     },
     "execution_count": 100,
     "metadata": {},
     "output_type": "execute_result"
    }
   ],
   "source": [
    "# Fit the KDE to the loss data\n",
    "fitted = gaussian_kde(portfolio_losses)\n",
    "fitted"
   ]
  },
  {
   "cell_type": "code",
   "execution_count": 102,
   "id": "17a41800-4f39-4541-b17d-46c71346f18a",
   "metadata": {},
   "outputs": [
    {
     "data": {
      "text/plain": [
       "(-0.19873408496120976, 0.34704482955933935)"
      ]
     },
     "execution_count": 102,
     "metadata": {},
     "output_type": "execute_result"
    }
   ],
   "source": [
    "min(portfolio_losses), max(portfolio_losses)"
   ]
  },
  {
   "cell_type": "code",
   "execution_count": 104,
   "id": "17cc393c-1827-4d14-acf4-4f7cd54ad1d1",
   "metadata": {},
   "outputs": [],
   "source": [
    "# Create a range of values over which to evaluate the KDE\n",
    "x = np.linspace(min(portfolio_losses), max(portfolio_losses), 1000)\n",
    "\n",
    "# Evaluate the KDE on the range of values\n",
    "y = fitted(x)"
   ]
  },
  {
   "cell_type": "code",
   "execution_count": 105,
   "id": "e54dc77b-57b2-427e-afdf-36d20a6a913d",
   "metadata": {},
   "outputs": [
    {
     "data": {
      "image/png": "[encoded data removed]",
      "text/plain": [
       "<Figure size 640x480 with 1 Axes>"
      ]
     },
     "metadata": {},
     "output_type": "display_data"
    }
   ],
   "source": [
    "plt.plot(x, y)\n",
    "plt.show()"
   ]
  },
  {
   "cell_type": "code",
   "execution_count": 106,
   "id": "ea3d8601-b515-454a-bb1e-da731755144e",
   "metadata": {},
   "outputs": [
    {
     "data": {
      "text/plain": [
       "array([[ 0.02177937, -0.00136135, -0.02637208, ..., -0.00143705,\n",
       "        -0.01012777,  0.02817122]])"
      ]
     },
     "execution_count": 106,
     "metadata": {},
     "output_type": "execute_result"
    }
   ],
   "source": [
    "# Create a random sample of 100,000 observations from the fitted distribution\n",
    "sample = fitted.resample(100000)\n",
    "sample"
   ]
  },
  {
   "cell_type": "code",
   "execution_count": 107,
   "id": "6652bcf2-0a3c-4a06-855e-796c012075c6",
   "metadata": {},
   "outputs": [
    {
     "name": "stdout",
     "output_type": "stream",
     "text": [
      "0.04207789707843759\n"
     ]
    }
   ],
   "source": [
    "# Compute and display the 95% VaR from the random sample\n",
    "VaR_95 = np.quantile(sample, 0.95)\n",
    "print(VaR_95)\n",
    "\n",
    "# Resampling from a fitted distribution is a common technique to build statistics such as quantiles, which are needed for VaR risk measurement. \n",
    "# Although you derived the VaR explicitly here, in the following exercise this will be automatically performed as part of the CVaR minimization routine."
   ]
  },
  {
   "cell_type": "markdown",
   "id": "5e77638c-bf17-4004-a256-267db3c57803",
   "metadata": {},
   "source": [
    "Minimizing CVaR\n",
    "\n",
    "This exercise will give you practice with PyPortfolioOpt's tools for CVaR minimization as a risk management objective.\n",
    "\n",
    "You'll load the pypfopt.efficient_frontier module and retrieve the EfficientCVaR class, creating an instance of the class using the investment bank assets over the 2005 - 2010 period.\n",
    "\n",
    "You'll then use the instance's min_cvar() method to find the optimal portfolio weights that minimize the CVaR.\n",
    "\n",
    "Portfolio asset returns are in the returns vector--this exercise also uses a names dictionary to map portfolio weights to bank names."
   ]
  },
  {
   "cell_type": "code",
   "execution_count": 109,
   "id": "b5e1c16e-dfc4-4abd-ac44-da6e05ae3790",
   "metadata": {},
   "outputs": [],
   "source": [
    "names = {0: 'Citibank', 1: 'Morgan Stanley', 2: 'Goldman Sachs', 3: 'J.P. Morgan'}"
   ]
  },
  {
   "cell_type": "code",
   "execution_count": 112,
   "id": "88116f21-a529-4ed8-9341-a0de35f1b801",
   "metadata": {},
   "outputs": [
    {
     "data": {
      "text/html": [
       "<div>\n",
       "<style scoped>\n",
       "    .dataframe tbody tr th:only-of-type {\n",
       "        vertical-align: middle;\n",
       "    }\n",
       "\n",
       "    .dataframe tbody tr th {\n",
       "        vertical-align: top;\n",
       "    }\n",
       "\n",
       "    .dataframe thead th {\n",
       "        text-align: right;\n",
       "    }\n",
       "</style>\n",
       "<table border=\"1\" class=\"dataframe\">\n",
       "  <thead>\n",
       "    <tr style=\"text-align: right;\">\n",
       "      <th></th>\n",
       "      <th>Citibank</th>\n",
       "      <th>Morgan Stanley</th>\n",
       "      <th>Goldman Sachs</th>\n",
       "      <th>J.P. Morgan</th>\n",
       "    </tr>\n",
       "    <tr>\n",
       "      <th>Date</th>\n",
       "      <th></th>\n",
       "      <th></th>\n",
       "      <th></th>\n",
       "      <th></th>\n",
       "    </tr>\n",
       "  </thead>\n",
       "  <tbody>\n",
       "    <tr>\n",
       "      <th>2004-12-31</th>\n",
       "      <td>NaN</td>\n",
       "      <td>NaN</td>\n",
       "      <td>NaN</td>\n",
       "      <td>NaN</td>\n",
       "    </tr>\n",
       "    <tr>\n",
       "      <th>2005-01-03</th>\n",
       "      <td>0.001868</td>\n",
       "      <td>0.006844</td>\n",
       "      <td>0.008747</td>\n",
       "      <td>0.003589</td>\n",
       "    </tr>\n",
       "    <tr>\n",
       "      <th>2005-01-04</th>\n",
       "      <td>-0.008494</td>\n",
       "      <td>-0.010734</td>\n",
       "      <td>-0.006479</td>\n",
       "      <td>-0.018902</td>\n",
       "    </tr>\n",
       "    <tr>\n",
       "      <th>2005-01-05</th>\n",
       "      <td>0.012537</td>\n",
       "      <td>-0.005787</td>\n",
       "      <td>-0.004507</td>\n",
       "      <td>0.002083</td>\n",
       "    </tr>\n",
       "    <tr>\n",
       "      <th>2005-01-06</th>\n",
       "      <td>0.009699</td>\n",
       "      <td>0.023645</td>\n",
       "      <td>0.013776</td>\n",
       "      <td>0.005716</td>\n",
       "    </tr>\n",
       "    <tr>\n",
       "      <th>...</th>\n",
       "      <td>...</td>\n",
       "      <td>...</td>\n",
       "      <td>...</td>\n",
       "      <td>...</td>\n",
       "    </tr>\n",
       "    <tr>\n",
       "      <th>2010-12-23</th>\n",
       "      <td>-0.010571</td>\n",
       "      <td>0.000365</td>\n",
       "      <td>-0.011792</td>\n",
       "      <td>-0.001897</td>\n",
       "    </tr>\n",
       "    <tr>\n",
       "      <th>2010-12-27</th>\n",
       "      <td>0.019231</td>\n",
       "      <td>0.003648</td>\n",
       "      <td>0.013305</td>\n",
       "      <td>0.014021</td>\n",
       "    </tr>\n",
       "    <tr>\n",
       "      <th>2010-12-28</th>\n",
       "      <td>0.002096</td>\n",
       "      <td>0.005453</td>\n",
       "      <td>-0.003768</td>\n",
       "      <td>-0.001406</td>\n",
       "    </tr>\n",
       "    <tr>\n",
       "      <th>2010-12-29</th>\n",
       "      <td>-0.002092</td>\n",
       "      <td>-0.013738</td>\n",
       "      <td>-0.009220</td>\n",
       "      <td>-0.005867</td>\n",
       "    </tr>\n",
       "    <tr>\n",
       "      <th>2010-12-30</th>\n",
       "      <td>-0.002096</td>\n",
       "      <td>0.001833</td>\n",
       "      <td>0.000060</td>\n",
       "      <td>-0.003069</td>\n",
       "    </tr>\n",
       "  </tbody>\n",
       "</table>\n",
       "<p>1511 rows × 4 columns</p>\n",
       "</div>"
      ],
      "text/plain": [
       "            Citibank  Morgan Stanley  Goldman Sachs  J.P. Morgan\n",
       "Date                                                            \n",
       "2004-12-31       NaN             NaN            NaN          NaN\n",
       "2005-01-03  0.001868        0.006844       0.008747     0.003589\n",
       "2005-01-04 -0.008494       -0.010734      -0.006479    -0.018902\n",
       "2005-01-05  0.012537       -0.005787      -0.004507     0.002083\n",
       "2005-01-06  0.009699        0.023645       0.013776     0.005716\n",
       "...              ...             ...            ...          ...\n",
       "2010-12-23 -0.010571        0.000365      -0.011792    -0.001897\n",
       "2010-12-27  0.019231        0.003648       0.013305     0.014021\n",
       "2010-12-28  0.002096        0.005453      -0.003768    -0.001406\n",
       "2010-12-29 -0.002092       -0.013738      -0.009220    -0.005867\n",
       "2010-12-30 -0.002096        0.001833       0.000060    -0.003069\n",
       "\n",
       "[1511 rows x 4 columns]"
      ]
     },
     "execution_count": 112,
     "metadata": {},
     "output_type": "execute_result"
    }
   ],
   "source": [
    "returns = portfolio.pct_change()\n",
    "returns"
   ]
  },
  {
   "cell_type": "code",
   "execution_count": 113,
   "id": "e1c1e977-f35f-4525-8ac1-b95f8e8314cc",
   "metadata": {},
   "outputs": [
    {
     "name": "stderr",
     "output_type": "stream",
     "text": [
      "C:\\Users\\Alienware\\miniconda3\\lib\\site-packages\\pypfopt\\efficient_frontier\\efficient_frontier.py:149: UserWarning: Removing NaNs from returns\n",
      "  warnings.warn(\n"
     ]
    },
    {
     "data": {
      "text/plain": [
       "<pypfopt.efficient_frontier.efficient_cvar.EfficientCVaR at 0x29da0b39270>"
      ]
     },
     "execution_count": 113,
     "metadata": {},
     "output_type": "execute_result"
    }
   ],
   "source": [
    "# Create the efficient frontier for CVaR minimization\n",
    "ec = EfficientCVaR(None, returns)\n",
    "\n",
    "ec"
   ]
  },
  {
   "cell_type": "code",
   "execution_count": 114,
   "id": "c1cf5358-ea12-4efb-bae7-f2c98a472ab9",
   "metadata": {},
   "outputs": [
    {
     "data": {
      "text/plain": [
       "OrderedDict([(0, 6.46967e-11),\n",
       "             (1, 5.7798e-12),\n",
       "             (2, 0.6693243605327963),\n",
       "             (3, 0.3306756393967274)])"
      ]
     },
     "execution_count": 114,
     "metadata": {},
     "output_type": "execute_result"
    }
   ],
   "source": [
    "# Find the cVaR-minimizing portfolio weights at the default 95% confidence level\n",
    "optimal_weights = ec.min_cvar()\n",
    "\n",
    "optimal_weights"
   ]
  },
  {
   "cell_type": "code",
   "execution_count": 115,
   "id": "811a060e-324e-411a-b649-c6f542d036cf",
   "metadata": {},
   "outputs": [
    {
     "data": {
      "text/plain": [
       "{'Citibank': 6.46967e-11,\n",
       " 'Morgan Stanley': 5.7798e-12,\n",
       " 'Goldman Sachs': 0.6693243605327963,\n",
       " 'J.P. Morgan': 0.3306756393967274}"
      ]
     },
     "execution_count": 115,
     "metadata": {},
     "output_type": "execute_result"
    }
   ],
   "source": [
    "# Map the values in optimal_weights to the bank names\n",
    "optimal_weights = { names[i] : optimal_weights[i] for i in optimal_weights}\n",
    "\n",
    "optimal_weights\n",
    "\n",
    "# The CVaR minimizing portfolio over the 2005-2010 period is essentially weighted for Goldman Sachs and J.P. Morgan"
   ]
  },
  {
   "cell_type": "markdown",
   "id": "1cc42a8f-3fea-4b11-9be9-17249bd98ef2",
   "metadata": {},
   "source": [
    "CVaR risk management and the crisis\n",
    "\n",
    "In this exercise you'll derive the 95% CVaR-minimizing portfolio for 2005-2006, 2007-2008, and 2009-2010. These are the periods (or 'epochs') before, during and after the crisis.\n",
    "\n",
    "To help with this, asset returns in returns_dict is available as a Python dictionary, with epoch keys 'before', 'during' and 'after'.\n",
    "\n",
    "Minimum volatility portfolios are also saved in a dictionary called min_vol_dict, with the same keys--be sure to check them out in the console.\n",
    "\n",
    "After deriving each epoch's CVaR-minimizing portfolios, you'll compare them to the min_vol_dict portfolios. This will show how active risk management against conditional losses changes the portfolio weights.\n",
    "\n",
    "The EfficientCVaR class is available."
   ]
  },
  {
   "cell_type": "code",
   "execution_count": 117,
   "id": "122c2169-54d8-4c82-a545-07900ba73525",
   "metadata": {},
   "outputs": [
    {
     "data": {
      "text/plain": [
       "{'before': {'start': '1-1-2005', 'end': '31-12-2006'},\n",
       " 'during': {'start': '1-1-2007', 'end': '31-12-2008'},\n",
       " 'after': {'start': '1-1-2009', 'end': '31-12-2010'}}"
      ]
     },
     "execution_count": 117,
     "metadata": {},
     "output_type": "execute_result"
    }
   ],
   "source": [
    "epochs"
   ]
  },
  {
   "cell_type": "code",
   "execution_count": 120,
   "id": "dea65d1f-f67a-4317-b452-363503a13595",
   "metadata": {},
   "outputs": [
    {
     "data": {
      "text/plain": [
       "{'before':               Citibank  Morgan Stanley  Goldman Sachs  J.P. Morgan\n",
       " Date                                                              \n",
       " 2005-01-03  482.700012       55.900002     104.949997    39.150002\n",
       " 2005-01-04  478.600006       55.299999     104.269997    38.410000\n",
       " 2005-01-05  484.600006       54.980000     103.800003    38.490002\n",
       " 2005-01-06  489.299988       56.279999     105.230003    38.709999\n",
       " 2005-01-07  486.500000       56.060001     104.779999    38.400002\n",
       " ...                ...             ...            ...          ...\n",
       " 2006-12-22  545.500000       79.699997     198.089996    47.889999\n",
       " 2006-12-26  551.200012       80.730003     199.860001    48.310001\n",
       " 2006-12-27  564.099976       82.000000     201.949997    48.950001\n",
       " 2006-12-28  558.799988       81.589996     200.800003    48.919998\n",
       " 2006-12-29  557.000000       81.430000     199.350006    48.299999\n",
       " \n",
       " [503 rows x 4 columns],\n",
       " 'during':               Citibank  Morgan Stanley  Goldman Sachs  J.P. Morgan\n",
       " Date                                                              \n",
       " 2007-01-03  552.500000       81.620003     200.720001    48.070000\n",
       " 2007-01-04  550.599976       81.910004     198.850006    48.189999\n",
       " 2007-01-05  547.700012       80.860001     199.050003    47.790001\n",
       " 2007-01-08  550.500000       81.349998     203.729996    47.950001\n",
       " 2007-01-09  545.700012       81.160004     204.080002    47.750000\n",
       " ...                ...             ...            ...          ...\n",
       " 2008-12-24   67.800003       14.500000      76.440002    29.850000\n",
       " 2008-12-26   67.300003       14.650000      75.970001    29.799999\n",
       " 2008-12-29   65.699997       14.900000      76.559998    29.780001\n",
       " 2008-12-30   68.000000       15.190000      82.059998    31.010000\n",
       " 2008-12-31   67.099998       16.040001      84.389999    31.530001\n",
       " \n",
       " [504 rows x 4 columns],\n",
       " 'after':              Citibank  Morgan Stanley  Goldman Sachs  J.P. Morgan\n",
       " Date                                                             \n",
       " 2009-01-02  71.400002       16.990000      86.760002    31.350000\n",
       " 2009-01-05  70.800003       17.620001      88.779999    29.250000\n",
       " 2009-01-06  74.599998       19.580000      88.709999    29.879999\n",
       " 2009-01-07  71.500000       18.100000      84.500000    28.090000\n",
       " 2009-01-08  71.599998       18.820000      85.410004    27.219999\n",
       " ...               ...             ...            ...          ...\n",
       " 2010-12-23  46.799999       27.410000     167.600006    42.080002\n",
       " 2010-12-27  47.700001       27.510000     169.830002    42.669998\n",
       " 2010-12-28  47.799999       27.660000     169.190002    42.610001\n",
       " 2010-12-29  47.700001       27.280001     167.630005    42.360001\n",
       " 2010-12-30  47.599998       27.330000     167.639999    42.230000\n",
       " \n",
       " [503 rows x 4 columns]}"
      ]
     },
     "execution_count": 120,
     "metadata": {},
     "output_type": "execute_result"
    }
   ],
   "source": [
    "returns_dict = periods_prices\n",
    "returns_dict"
   ]
  },
  {
   "cell_type": "code",
   "execution_count": 122,
   "id": "4c04dbd2-e14b-445e-8e31-628c9ccff940",
   "metadata": {},
   "outputs": [],
   "source": [
    "min_vol_dict = {'before': {'Citibank': 0.657653371196737,\n",
    "  'Morgan Stanley': 0.0480059867221236,\n",
    "  'Goldman Sachs': 0.0403774713630865,\n",
    "  'J.P. Morgan': 0.253963170718053},\n",
    " 'during': {'Citibank': 0.0,\n",
    "  'Morgan Stanley': 0.0,\n",
    "  'Goldman Sachs': 0.5179899476599342,\n",
    "  'J.P. Morgan': 0.4820100523400658},\n",
    " 'after': {'Citibank': 0.0,\n",
    "  'Morgan Stanley': 0.0343318420598168,\n",
    "  'Goldman Sachs': 0.8630043657391508,\n",
    "  'J.P. Morgan': 0.1026637922010324}}"
   ]
  },
  {
   "cell_type": "code",
   "execution_count": 129,
   "id": "5150744d-94ba-4229-ae24-32417ee8e7ec",
   "metadata": {},
   "outputs": [
    {
     "data": {
      "text/plain": [
       "{'before': <pypfopt.efficient_frontier.efficient_cvar.EfficientCVaR at 0x29da624e1a0>,\n",
       " 'during': <pypfopt.efficient_frontier.efficient_cvar.EfficientCVaR at 0x29da617f8e0>,\n",
       " 'after': <pypfopt.efficient_frontier.efficient_cvar.EfficientCVaR at 0x29da62506a0>}"
      ]
     },
     "execution_count": 129,
     "metadata": {},
     "output_type": "execute_result"
    }
   ],
   "source": [
    "# Initialize the efficient portfolio dictionary\n",
    "ec_dict = {}\n",
    "\n",
    "# For each epoch, assign an efficient frontier cvar instance to ec\n",
    "for x in ['before', 'during', 'after']: \n",
    "    ec_dict[x] = EfficientCVaR(None, returns_dict[x])\n",
    "\n",
    "ec_dict"
   ]
  },
  {
   "cell_type": "code",
   "execution_count": 130,
   "id": "4b855d67-0260-409d-9ceb-1a62125cc982",
   "metadata": {},
   "outputs": [
    {
     "data": {
      "text/plain": [
       "{'before': {'Citibank': 1.0000000000001328,\n",
       "  'Morgan Stanley': -8.08e-13,\n",
       "  'Goldman Sachs': 1.8574e-12,\n",
       "  'J.P. Morgan': -1.1814e-12},\n",
       " 'during': {'Citibank': 0.3883689727930364,\n",
       "  'Morgan Stanley': -1.03e-12,\n",
       "  'Goldman Sachs': 0.6116310272067035,\n",
       "  'J.P. Morgan': 1.291e-12},\n",
       " 'after': {'Citibank': 1.33814e-11,\n",
       "  'Morgan Stanley': -1.3381e-12,\n",
       "  'Goldman Sachs': 0.9999999999890912,\n",
       "  'J.P. Morgan': -1.1326e-12}}"
      ]
     },
     "execution_count": 130,
     "metadata": {},
     "output_type": "execute_result"
    }
   ],
   "source": [
    "# Initialize the dictionary of optimal weights\n",
    "opt_wts_dict = {}\n",
    "\n",
    "# Find and display the CVaR-minimizing portfolio weights at the default 95% confidence level\n",
    "for x in ['before', 'during', 'after']:\n",
    "    opt_wts_dict[x] = ec_dict[x].min_cvar()\n",
    "    # map bank names to optimal weights\n",
    "    opt_wts_dict[x] = {names[i] : opt_wts_dict[x][i] for i in opt_wts_dict[x]}\n",
    "\n",
    "opt_wts_dict"
   ]
  },
  {
   "cell_type": "code",
   "execution_count": 140,
   "id": "77cc589f-b9fd-444e-8f52-3313d64ea6b6",
   "metadata": {},
   "outputs": [
    {
     "data": {
      "text/plain": [
       "({'Citibank': 1.0000000000001328,\n",
       "  'Morgan Stanley': -8.08e-13,\n",
       "  'Goldman Sachs': 1.8574e-12,\n",
       "  'J.P. Morgan': -1.1814e-12},\n",
       " {'Citibank': 0.657653371196737,\n",
       "  'Morgan Stanley': 0.0480059867221236,\n",
       "  'Goldman Sachs': 0.0403774713630865,\n",
       "  'J.P. Morgan': 0.253963170718053})"
      ]
     },
     "execution_count": 140,
     "metadata": {},
     "output_type": "execute_result"
    }
   ],
   "source": [
    "# Compare the CVaR-minimizing weights to the minimum volatility weights for the 'before' epoch\n",
    "\n",
    "opt_wts_dict['before'], min_vol_dict['before']"
   ]
  },
  {
   "cell_type": "code",
   "execution_count": 141,
   "id": "a3953d8d-42db-4895-98a5-fcd4744284cd",
   "metadata": {},
   "outputs": [
    {
     "data": {
      "text/plain": [
       "({'Citibank': 0.3883689727930364,\n",
       "  'Morgan Stanley': -1.03e-12,\n",
       "  'Goldman Sachs': 0.6116310272067035,\n",
       "  'J.P. Morgan': 1.291e-12},\n",
       " {'Citibank': 0.0,\n",
       "  'Morgan Stanley': 0.0,\n",
       "  'Goldman Sachs': 0.5179899476599342,\n",
       "  'J.P. Morgan': 0.4820100523400658})"
      ]
     },
     "execution_count": 141,
     "metadata": {},
     "output_type": "execute_result"
    }
   ],
   "source": [
    "opt_wts_dict['during'], min_vol_dict['during']"
   ]
  },
  {
   "cell_type": "code",
   "execution_count": 142,
   "id": "072dacf6-7c14-482a-abfb-bff1add0ebe7",
   "metadata": {},
   "outputs": [
    {
     "data": {
      "text/plain": [
       "({'Citibank': 1.33814e-11,\n",
       "  'Morgan Stanley': -1.3381e-12,\n",
       "  'Goldman Sachs': 0.9999999999890912,\n",
       "  'J.P. Morgan': -1.1326e-12},\n",
       " {'Citibank': 0.0,\n",
       "  'Morgan Stanley': 0.0343318420598168,\n",
       "  'Goldman Sachs': 0.8630043657391508,\n",
       "  'J.P. Morgan': 0.1026637922010324})"
      ]
     },
     "execution_count": 142,
     "metadata": {},
     "output_type": "execute_result"
    }
   ],
   "source": [
    "opt_wts_dict['after'], min_vol_dict['after']"
   ]
  },
  {
   "cell_type": "markdown",
   "id": "7ab73e20-9ac4-42d6-9d49-6d01f47622b3",
   "metadata": {},
   "source": [
    "Black-Scholes options pricing\n",
    "\n",
    "Options are the world's most widely used derivative to help manage asset price risk. In this exercise you'll price a European call option on IBM's stock using the Black-Scholes option pricing formula. IBM_returns data has been loaded in your workspace.\n",
    "\n",
    "First you'll compute the volatility sigma of IBM_returns, as the annualized standard deviation.\n",
    "\n",
    "Next you'll use the function black_scholes(), created for this and the following exercises, to price options for two different volatility levels: sigma and two times sigma.\n",
    "\n",
    "The strike price K, i.e. the price an investor has the right (but not the obligation) to buy IBM, is 80. The risk-free interest rate r is 2% and the market spot price S is 90."
   ]
  },
  {
   "cell_type": "code",
   "execution_count": 178,
   "id": "cb9cc7dd-2bc9-40fb-839f-68996c214cc3",
   "metadata": {},
   "outputs": [],
   "source": [
    "# Auxiliary function for d_one risk-adjusted probability\n",
    "def d11(S, X, T, r, sigma):\n",
    "    \"\"\"This is an auxiliary function and is not intended to be called externally.\"\"\"\n",
    "    return (np.log(S/X) + (r + 0.5 * sigma**2)*T) / (sigma * np.sqrt(T))\n",
    "\n",
    "\n",
    "\n",
    "# Auxiliary function for d_two risk-adjusted probability    \n",
    "def d21(d1, T, sigma):\n",
    "    \"\"\"This is an auxiliary function and is not intended to be called externally.\"\"\"\n",
    "    return d1 - sigma * np.sqrt(T)\n",
    "\n",
    "\n",
    "\n",
    "def bs_delta(S, X, T, r, sigma, option_type):\n",
    "    \"\"\"Compute the delta of the Black-Scholes option pricing formula.\n",
    "    \n",
    "    Arguments:\n",
    "    S           -- the current spot price of the underlying stock\n",
    "    X           -- the option strike price\n",
    "    T           -- the time until maturity (in fractions of a year)\n",
    "    r           -- the risk-free interest rate \n",
    "    sigma       -- the returns volatility of the underlying stock\n",
    "    option_type -- the option type, either 'call' or 'put'\n",
    "    \n",
    "    Returns: a numpy.float64 representing the delta value\n",
    "    Exceptions raised: ValueError if option_type is not 'call' or 'put'\n",
    "    \"\"\"\n",
    "    d1 = d11(S, X, T, r, sigma)\n",
    "    \n",
    "    if option_type == 'call':\n",
    "        return norm.cdf(d1)\n",
    "    elif option_type == 'put':\n",
    "        return norm.cdf(d1) - 1\n",
    "    else:\n",
    "        # Raise an error if the option_type is neither a call nor a put\n",
    "        raise ValueError(\"Option type must be either 'call' or 'put'.\")\n",
    "\n",
    "\n",
    "\n",
    "# Definition of the Black-Scholes European option pricing formula    \n",
    "def black_scholes(S, X, T, r, sigma, option_type):\n",
    "    \"\"\"Price a European option using the Black-Scholes option pricing formula.\n",
    "    \n",
    "    Arguments:\n",
    "    S           -- the current spot price of the underlying stock\n",
    "    X           -- the option strike price\n",
    "    T           -- the time until maturity (in fractions of a year)\n",
    "    r           -- the risk-free interest rate \n",
    "    sigma       -- the returns volatility of the underlying stock\n",
    "    option_type -- the option type, either 'call' or 'put'\n",
    "    \n",
    "    Returns: a numpy.float_ representing the option value\n",
    "    Exceptions raised: ValueError if option_type is not 'call' or 'put'\n",
    "    \"\"\"\n",
    "    d_one = d11(S, X, T, r, sigma)\n",
    "    d_two = d21(d_one, T, sigma)\n",
    "    \n",
    "    if option_type == 'call':\n",
    "        return S * norm.cdf(d_one) - np.exp(-r * T) * X * norm.cdf(d_two)\n",
    "    elif option_type == 'put':\n",
    "        return -(S * norm.cdf(-d_one) - np.exp(-r * T) * X * norm.cdf(-d_two))\n",
    "    else:\n",
    "        # Raise an error if the option_type is neither a call nor a put\n",
    "        raise ValueError(\"Option type is either 'call' or 'put'.\")"
   ]
  },
  {
   "cell_type": "code",
   "execution_count": 147,
   "id": "280d9f17-dd7d-4759-a689-480ab6fb69cb",
   "metadata": {},
   "outputs": [
    {
     "data": {
      "text/html": [
       "<div>\n",
       "<style scoped>\n",
       "    .dataframe tbody tr th:only-of-type {\n",
       "        vertical-align: middle;\n",
       "    }\n",
       "\n",
       "    .dataframe tbody tr th {\n",
       "        vertical-align: top;\n",
       "    }\n",
       "\n",
       "    .dataframe thead th {\n",
       "        text-align: right;\n",
       "    }\n",
       "</style>\n",
       "<table border=\"1\" class=\"dataframe\">\n",
       "  <thead>\n",
       "    <tr style=\"text-align: right;\">\n",
       "      <th></th>\n",
       "      <th>date</th>\n",
       "      <th>close</th>\n",
       "      <th>volume</th>\n",
       "      <th>open</th>\n",
       "      <th>high</th>\n",
       "      <th>low</th>\n",
       "    </tr>\n",
       "  </thead>\n",
       "  <tbody>\n",
       "    <tr>\n",
       "      <th>0</th>\n",
       "      <td>23/08/2019</td>\n",
       "      <td>129.57</td>\n",
       "      <td>4818759</td>\n",
       "      <td>133.63</td>\n",
       "      <td>134.2600</td>\n",
       "      <td>128.83</td>\n",
       "    </tr>\n",
       "    <tr>\n",
       "      <th>1</th>\n",
       "      <td>22/08/2019</td>\n",
       "      <td>134.32</td>\n",
       "      <td>2695009</td>\n",
       "      <td>134.69</td>\n",
       "      <td>135.6800</td>\n",
       "      <td>133.81</td>\n",
       "    </tr>\n",
       "    <tr>\n",
       "      <th>2</th>\n",
       "      <td>21/08/2019</td>\n",
       "      <td>134.25</td>\n",
       "      <td>2806774</td>\n",
       "      <td>134.96</td>\n",
       "      <td>135.9400</td>\n",
       "      <td>133.80</td>\n",
       "    </tr>\n",
       "    <tr>\n",
       "      <th>3</th>\n",
       "      <td>20/08/2019</td>\n",
       "      <td>133.00</td>\n",
       "      <td>3018934</td>\n",
       "      <td>135.24</td>\n",
       "      <td>135.2800</td>\n",
       "      <td>132.81</td>\n",
       "    </tr>\n",
       "    <tr>\n",
       "      <th>4</th>\n",
       "      <td>19/08/2019</td>\n",
       "      <td>135.04</td>\n",
       "      <td>3165436</td>\n",
       "      <td>134.88</td>\n",
       "      <td>136.3300</td>\n",
       "      <td>134.88</td>\n",
       "    </tr>\n",
       "    <tr>\n",
       "      <th>...</th>\n",
       "      <td>...</td>\n",
       "      <td>...</td>\n",
       "      <td>...</td>\n",
       "      <td>...</td>\n",
       "      <td>...</td>\n",
       "      <td>...</td>\n",
       "    </tr>\n",
       "    <tr>\n",
       "      <th>1254</th>\n",
       "      <td>29/08/2014</td>\n",
       "      <td>192.30</td>\n",
       "      <td>2909422</td>\n",
       "      <td>192.28</td>\n",
       "      <td>192.7500</td>\n",
       "      <td>191.14</td>\n",
       "    </tr>\n",
       "    <tr>\n",
       "      <th>1255</th>\n",
       "      <td>28/08/2014</td>\n",
       "      <td>192.00</td>\n",
       "      <td>1503582</td>\n",
       "      <td>191.47</td>\n",
       "      <td>192.2986</td>\n",
       "      <td>190.66</td>\n",
       "    </tr>\n",
       "    <tr>\n",
       "      <th>1256</th>\n",
       "      <td>27/08/2014</td>\n",
       "      <td>192.25</td>\n",
       "      <td>2190185</td>\n",
       "      <td>193.03</td>\n",
       "      <td>194.1330</td>\n",
       "      <td>191.56</td>\n",
       "    </tr>\n",
       "    <tr>\n",
       "      <th>1257</th>\n",
       "      <td>26/08/2014</td>\n",
       "      <td>192.99</td>\n",
       "      <td>3158767</td>\n",
       "      <td>191.02</td>\n",
       "      <td>193.5300</td>\n",
       "      <td>191.02</td>\n",
       "    </tr>\n",
       "    <tr>\n",
       "      <th>1258</th>\n",
       "      <td>25/08/2014</td>\n",
       "      <td>191.16</td>\n",
       "      <td>1723557</td>\n",
       "      <td>191.39</td>\n",
       "      <td>191.8100</td>\n",
       "      <td>190.71</td>\n",
       "    </tr>\n",
       "  </tbody>\n",
       "</table>\n",
       "<p>1259 rows × 6 columns</p>\n",
       "</div>"
      ],
      "text/plain": [
       "            date   close   volume    open      high     low\n",
       "0     23/08/2019  129.57  4818759  133.63  134.2600  128.83\n",
       "1     22/08/2019  134.32  2695009  134.69  135.6800  133.81\n",
       "2     21/08/2019  134.25  2806774  134.96  135.9400  133.80\n",
       "3     20/08/2019  133.00  3018934  135.24  135.2800  132.81\n",
       "4     19/08/2019  135.04  3165436  134.88  136.3300  134.88\n",
       "...          ...     ...      ...     ...       ...     ...\n",
       "1254  29/08/2014  192.30  2909422  192.28  192.7500  191.14\n",
       "1255  28/08/2014  192.00  1503582  191.47  192.2986  190.66\n",
       "1256  27/08/2014  192.25  2190185  193.03  194.1330  191.56\n",
       "1257  26/08/2014  192.99  3158767  191.02  193.5300  191.02\n",
       "1258  25/08/2014  191.16  1723557  191.39  191.8100  190.71\n",
       "\n",
       "[1259 rows x 6 columns]"
      ]
     },
     "execution_count": 147,
     "metadata": {},
     "output_type": "execute_result"
    }
   ],
   "source": [
    "IBM_pf = pd.read_csv('IBM - HistoricalQuotes.csv')\n",
    "IBM_pf"
   ]
  },
  {
   "cell_type": "code",
   "execution_count": 149,
   "id": "662dcf35-3c03-4a3d-a28b-ad3e90266e09",
   "metadata": {},
   "outputs": [
    {
     "data": {
      "text/plain": [
       "1       0.036660\n",
       "2      -0.000521\n",
       "3      -0.009311\n",
       "4       0.015338\n",
       "5      -0.009479\n",
       "          ...   \n",
       "1254    0.003863\n",
       "1255   -0.001560\n",
       "1256    0.001302\n",
       "1257    0.003849\n",
       "1258   -0.009482\n",
       "Name: close, Length: 1258, dtype: float64"
      ]
     },
     "execution_count": 149,
     "metadata": {},
     "output_type": "execute_result"
    }
   ],
   "source": [
    "IBM_returns = IBM_pf.close.pct_change().dropna()\n",
    "IBM_returns"
   ]
  },
  {
   "cell_type": "code",
   "execution_count": 150,
   "id": "f1d68a3a-8011-4e9d-ac83-6872d9e59641",
   "metadata": {},
   "outputs": [
    {
     "data": {
      "text/plain": [
       "0.20983470599873072"
      ]
     },
     "execution_count": 150,
     "metadata": {},
     "output_type": "execute_result"
    }
   ],
   "source": [
    "# Compute the volatility as the annualized standard deviation of IBM returns\n",
    "sigma = np.sqrt(252) * IBM_returns.std()\n",
    "sigma"
   ]
  },
  {
   "cell_type": "code",
   "execution_count": 153,
   "id": "0fc19a4c-71bd-49f0-96d9-b52d6320882c",
   "metadata": {},
   "outputs": [
    {
     "name": "stdout",
     "output_type": "stream",
     "text": [
      "Option value for sigma:  12.143869074733338 \n",
      " Option value for 2 * sigma:  16.280055986637507\n"
     ]
    }
   ],
   "source": [
    "# Compute the Black-Scholes option price for this volatility\n",
    "value_s = black_scholes(S = 90, X = 80, T = 0.5, r = 0.02, \n",
    "                        sigma = sigma, option_type = \"call\")\n",
    "\n",
    "# Compute the Black-Scholes option price for twice the volatility\n",
    "value_2s = black_scholes(S = 90, X = 80, T = 0.5, r = 0.02, \n",
    "                sigma = 2*sigma, option_type = \"call\")\n",
    "\n",
    "# Display and compare both values\n",
    "print(\"Option value for sigma: \", value_s, \"\\n\",\n",
    "      \"Option value for 2 * sigma: \", value_2s)\n",
    "\n",
    "# The value of the call option _increases_ with an increase in volatility! \n",
    "# This is because an option only needs to be exercised when it is profitable to do so, which means that more volatility increases the chance for profit"
   ]
  },
  {
   "cell_type": "markdown",
   "id": "220417dd-5281-4f1f-b034-7b8f55f6c08c",
   "metadata": {},
   "source": [
    "Options pricing and the underlying asset\n",
    "\n",
    "Options are essentially bets on the future evolution of the underlying asset's price.\n",
    "\n",
    "For example, a put option is valuable when the spot (market) price falls below the option's strike price. The option holder may exercise the option to sell the underlying at the strike \n",
    ", and buy it back at the spot \n",
    ", yielding profit \n",
    ".\n",
    "\n",
    "In this exercise you'll value and visualize a European put option on IBM stock, again applying the Black-Scholes pricing formula, as the spot \n",
    " changes.\n",
    "\n",
    "The strike X = 140, the time to maturity T is 1/2 a year, and the risk-free interest rate is 2%.\n",
    "\n",
    "The annualized volatility of IBM is available as sigma, and the plotting axis option_axis is available to add your plot."
   ]
  },
  {
   "cell_type": "code",
   "execution_count": 156,
   "id": "45d8d09a-5752-4dd2-b7c4-a655d3f5de7a",
   "metadata": {},
   "outputs": [
    {
     "data": {
      "text/plain": [
       "0       129.57\n",
       "1       134.32\n",
       "2       134.25\n",
       "3       133.00\n",
       "4       135.04\n",
       "         ...  \n",
       "1254    192.30\n",
       "1255    192.00\n",
       "1256    192.25\n",
       "1257    192.99\n",
       "1258    191.16\n",
       "Name: close, Length: 1259, dtype: float64"
      ]
     },
     "execution_count": 156,
     "metadata": {},
     "output_type": "execute_result"
    }
   ],
   "source": [
    "IBM = IBM_pf.close\n",
    "IBM"
   ]
  },
  {
   "cell_type": "code",
   "execution_count": 157,
   "id": "97eea8c2-852f-408b-8dac-c60d8ca42a03",
   "metadata": {},
   "outputs": [
    {
     "data": {
      "text/plain": [
       "array([13.25135471, 10.39369996, 10.43257781, 11.14318174,  9.99945162,\n",
       "       10.70744339, 11.78205157, 12.18994854,  9.59969412, 10.75844643,\n",
       "        9.42213401,  7.51615412,  7.96288677,  7.241574  ,  7.22868555,\n",
       "        4.8224572 ,  3.929855  ,  4.51854676,  4.07912673,  3.7824531 ,\n",
       "        3.65972229,  3.91117862,  4.00800046,  3.91384226,  4.08739881,\n",
       "        4.10398361,  4.11784573,  6.2864427 ,  6.1104355 ,  6.19031563,\n",
       "        6.41505691,  7.02476601,  7.35398394,  7.86199191,  7.31059855,\n",
       "        6.96610064,  6.89950115,  7.46327425,  7.61381099,  8.53451111,\n",
       "        8.23807106,  8.23807106,  8.31385725,  7.85286573,  7.92149922,\n",
       "        8.08332655,  8.93808522,  9.29303032, 10.04817081,  9.94012383,\n",
       "        9.61547081, 10.09161148,  9.51585209, 10.16247306, 10.96406424,\n",
       "       11.60227658, 12.04282153, 11.32420191, 14.1101111 , 14.98695221,\n",
       "       13.25135471, 13.17372125, 12.68221334, 11.56653469, 11.50119252,\n",
       "        9.30845771,  9.25710203,  9.95628037, 10.39369996,  9.55247076,\n",
       "       10.34938711, 10.96406424, 12.0856167 ,  9.84890671,  9.8382129 ,\n",
       "        8.48619282,  8.66105088,  7.39319225,  7.45009695,  7.74394933,\n",
       "        7.3149286 ,  7.44132155,  7.99056501,  7.81189281,  8.18625563,\n",
       "        7.58263849,  7.36703637,  8.06471256,  7.41504082,  7.96288677,\n",
       "        5.52391376,  5.97160819,  5.80603026,  6.0163666 ,  6.30580316,\n",
       "        6.66609279,  6.1636012 ,  6.20562047,  6.39936229,  6.07267435])"
      ]
     },
     "execution_count": 157,
     "metadata": {},
     "output_type": "execute_result"
    }
   ],
   "source": [
    "# Select the first 100 observations of IBM data\n",
    "IBM_spot = IBM[:100]\n",
    "\n",
    "# Initialize the European put option values array\n",
    "option_values = np.zeros(IBM_spot.size)\n",
    "\n",
    "# Iterate through IBM's spot price and compute the option values\n",
    "for i,S in enumerate(IBM_spot.values):\n",
    "    option_values[i] = black_scholes(S = S, X = 140, T = 0.5, r = 0.02, \n",
    "                        sigma = sigma, option_type = \"put\")\n",
    "\n",
    "option_values"
   ]
  },
  {
   "cell_type": "code",
   "execution_count": 162,
   "id": "05294b5b-282e-4238-a041-2da28d4b9722",
   "metadata": {},
   "outputs": [
    {
     "data": {
      "image/png": "[encoded data removed]",
      "text/plain": [
       "<Figure size 640x480 with 2 Axes>"
      ]
     },
     "metadata": {},
     "output_type": "display_data"
    }
   ],
   "source": [
    "# Define the figure and axis\n",
    "fig, option_axis = plt.subplots()\n",
    "\n",
    "# Plot the IBM stock values on the primary y-axis\n",
    "option_axis.plot(IBM_spot, color='blue', label='Stock Value')\n",
    "option_axis.set_xlabel('Time')\n",
    "option_axis.set_ylabel('Stock Value', color='blue')\n",
    "option_axis.tick_params(axis='y', labelcolor='blue')\n",
    "\n",
    "# Create a secondary y-axis and plot the put option values\n",
    "option_axis2 = option_axis.twinx()\n",
    "option_axis2.plot(option_values, color='red', label='Put Option')\n",
    "option_axis2.set_ylabel('Put Option Value', color='red')\n",
    "option_axis2.tick_params(axis='y', labelcolor='red')\n",
    "\n",
    "# Add legends\n",
    "option_axis.legend(loc='upper left')\n",
    "option_axis2.legend(loc='upper right')\n",
    "\n",
    "# Display the plot\n",
    "plt.show()\n",
    "# the value of the option rises whenever the price of IBM falls (and vice-versa)"
   ]
  },
  {
   "cell_type": "markdown",
   "id": "9ea3bc3d-3e75-42f7-8d88-3f7733530e60",
   "metadata": {},
   "source": [
    "Using options for hedging\n",
    "\n",
    "Suppose that you have an investment portfolio with one asset, IBM. You'll hedge the portfolio's risk using delta hedging with a European put option on IBM.\n",
    "\n",
    "First, value the European put option using the Black-Scholes option pricing formula, with a strike X of 80 and a time to maturity T of 1/2 a year. The risk-free interest rate is 2% and the spot S is initially 70.\n",
    "\n",
    "Then create a delta hedge by computing the delta of the option with the bs_delta() function, and use it to hedge against a change in the stock price to 69.5. The result is a delta neutral portfolio of both the option and the stock."
   ]
  },
  {
   "cell_type": "code",
   "execution_count": 180,
   "id": "54338cb5-7daa-427c-893b-41166a318fc8",
   "metadata": {},
   "outputs": [
    {
     "data": {
      "text/plain": [
       "10.455454588649197"
      ]
     },
     "execution_count": 180,
     "metadata": {},
     "output_type": "execute_result"
    }
   ],
   "source": [
    "# Compute the Black-Scholes value at IBM spot price 70\n",
    "option_value_at_70 = black_scholes(S = 70, X = 80, T = 0.5, r = 0.02, \n",
    "                      sigma = sigma, option_type = \"put\")\n",
    "option_value_at_70"
   ]
  },
  {
   "cell_type": "code",
   "execution_count": 181,
   "id": "0b6a2923-2271-4aed-9bd9-73a87703538d",
   "metadata": {},
   "outputs": [
    {
     "data": {
      "text/plain": [
       "-0.7758856083376828"
      ]
     },
     "execution_count": 181,
     "metadata": {},
     "output_type": "execute_result"
    }
   ],
   "source": [
    "# Find the delta of the option at IBM spot price 70\n",
    "delta_at_70 = bs_delta(S = 70, X = 80, T = 0.5, r = 0.02, \n",
    "                 sigma = sigma, option_type = \"put\")\n",
    "\n",
    "delta_at_70"
   ]
  },
  {
   "cell_type": "code",
   "execution_count": 182,
   "id": "726bb20b-cf3b-4f50-b6ad-f079c76bed58",
   "metadata": {},
   "outputs": [
    {
     "data": {
      "text/plain": [
       "11.245456106468957"
      ]
     },
     "execution_count": 182,
     "metadata": {},
     "output_type": "execute_result"
    }
   ],
   "source": [
    "# Compute the Black-Scholes value at IBM spot price 69\n",
    "option_value_at_69 = black_scholes(S = 69, X = 80, T = 0.5, r = 0.02, \n",
    "                      sigma = sigma, option_type = \"put\")\n",
    "option_value_at_69"
   ]
  },
  {
   "cell_type": "code",
   "execution_count": 183,
   "id": "7ae19d6f-016d-4256-801b-474e433114fa",
   "metadata": {},
   "outputs": [
    {
     "data": {
      "text/plain": [
       "0.7900015178197606"
      ]
     },
     "execution_count": 183,
     "metadata": {},
     "output_type": "execute_result"
    }
   ],
   "source": [
    "option_value_change = option_value_at_69 - option_value_at_70\n",
    "option_value_change"
   ]
  },
  {
   "cell_type": "code",
   "execution_count": 184,
   "id": "c982bb5d-2548-4bc8-b391-0239b7481b4e",
   "metadata": {},
   "outputs": [
    {
     "data": {
      "text/plain": [
       "(-1, -1.0181932869103227)"
      ]
     },
     "execution_count": 184,
     "metadata": {},
     "output_type": "execute_result"
    }
   ],
   "source": [
    "# the spot price change is compensated by the value_change weighted by 1/delta (their difference is (close to) zero).\n",
    "\n",
    "spot_price_change = 69 - 70\n",
    "\n",
    "option_value_offset = (1/delta) * option_value_change\n",
    "\n",
    "spot_price_change, option_value_offset"
   ]
  },
  {
   "cell_type": "markdown",
   "id": "f8b40450-c859-43bb-9608-51e0f27c6507",
   "metadata": {},
   "source": [
    "Parameter estimation: Normal\n",
    "\n",
    "Parameter estimation is the strongest method of VaR estimation because it assumes that the loss distribution class is known. Parameters are estimated to fit data to this distribution, and statistical inference is then made.\n",
    "\n",
    "In this exercise, you will estimate the 95% VaR from a Normal distribution fitted to the investment bank data from 2007 - 2009. You'll use scipy.stats's norm distribution, assuming that it's the most appropriate class of distribution.\n",
    "\n",
    "Is a Normal distribution a good fit? You'll test this with the scipy.stats.anderson Anderson-Darling test. If the test result is statistically different from zero, this indicates the data is not Normally distributed. You'll address this in the next exercise."
   ]
  },
  {
   "cell_type": "code",
   "execution_count": 208,
   "id": "7f8c9c11-495a-4062-83ac-e5b8f65e8878",
   "metadata": {},
   "outputs": [
    {
     "data": {
      "text/plain": [
       "Date\n",
       "2007-01-03   -0.000909\n",
       "2007-01-04   -0.001676\n",
       "2007-01-05   -0.006345\n",
       "2007-01-08    0.009508\n",
       "2007-01-09   -0.003377\n",
       "                ...   \n",
       "2009-12-24    0.008679\n",
       "2009-12-28   -0.000968\n",
       "2009-12-29   -0.001109\n",
       "2009-12-30    0.000972\n",
       "2009-12-31    0.004232\n",
       "Length: 756, dtype: float64"
      ]
     },
     "execution_count": 208,
     "metadata": {},
     "output_type": "execute_result"
    }
   ],
   "source": [
    "losses = portfolio.loc['2006-12-29':'2009-12-31'].pct_change().dot(weights).dropna()\n",
    "losses"
   ]
  },
  {
   "cell_type": "code",
   "execution_count": 218,
   "id": "956a7ec7-d164-4e11-825d-62b638c4b8bd",
   "metadata": {},
   "outputs": [
    {
     "data": {
      "text/plain": [
       "(-5.050876902614615e-05, 0.04481798872737266)"
      ]
     },
     "execution_count": 218,
     "metadata": {},
     "output_type": "execute_result"
    }
   ],
   "source": [
    "# Fit portfolio losses to the Normal distribution\n",
    "params = norm.fit(losses)\n",
    "mu, std = params\n",
    "params # mean and std"
   ]
  },
  {
   "cell_type": "code",
   "execution_count": 210,
   "id": "adfc0045-6bd2-4b02-a9c9-d0222baf84b4",
   "metadata": {},
   "outputs": [
    {
     "name": "stdout",
     "output_type": "stream",
     "text": [
      "VaR_95, Normal distribution:  0.07366852254186296\n"
     ]
    }
   ],
   "source": [
    "# Compute the 95% VaR from the fitted distribution, using parameter estimates\n",
    "VaR_95 = norm.ppf(0.95, *params)\n",
    "print(\"VaR_95, Normal distribution: \", VaR_95)"
   ]
  },
  {
   "cell_type": "code",
   "execution_count": 211,
   "id": "259488de-129d-480e-87d2-48a2b3597e94",
   "metadata": {},
   "outputs": [
    {
     "name": "stdout",
     "output_type": "stream",
     "text": [
      "Anderson-Darling test result:  AndersonResult(statistic=30.302775165424237, critical_values=array([0.573, 0.653, 0.783, 0.913, 1.086]), significance_level=array([15. , 10. ,  5. ,  2.5,  1. ]), fit_result=  params: FitParams(loc=-5.050876902614615e-05, scale=0.04484765969303737)\n",
      " success: True\n",
      " message: '`anderson` successfully fit the distribution to the data.')\n"
     ]
    }
   ],
   "source": [
    "# Test the data for Normality\n",
    "print(\"Anderson-Darling test result: \", anderson(losses))\n",
    "\n",
    "#The Anderson-Darling test value of 30.30 exceeds the 99% critical value of 1.086 by a large margin, \n",
    "# indicating that the Normal distribution may be a poor choice to represent portfolio losses."
   ]
  },
  {
   "cell_type": "markdown",
   "id": "99fcd678-2b39-4f65-b192-d9533438592d",
   "metadata": {},
   "source": [
    "Parameter estimation: Skewed Normal\n",
    "\n",
    "In the previous exercise you found that fitting a Normal distribution to the investment bank portfolio data from 2005 - 2010 resulted in a poor fit according to the Anderson-Darling test.\n",
    "\n",
    "You will test the data using the skewtest() function from scipy.stats. If the test result is statistically different from zero, then the data support a skewed distribution.\n",
    "\n",
    "Now you'll parametrically estimate the 95% VaR of a loss distribution fit using scipy.stats's skewnorm skewed Normal distribution. This is a more general distribution than the Normal and allows losses to be non-symmetrically distributed. We might expect losses to be skewed during the crisis, when portfolio losses were more likely than gains."
   ]
  },
  {
   "cell_type": "code",
   "execution_count": 215,
   "id": "0ac8d3f8-266d-4598-8c56-ef6315d5abbc",
   "metadata": {},
   "outputs": [
    {
     "name": "stdout",
     "output_type": "stream",
     "text": [
      "Skewtest result:  SkewtestResult(statistic=12.56184650305665, pvalue=3.422510359440654e-36)\n"
     ]
    }
   ],
   "source": [
    "# Test the data for skewness\n",
    "print(\"Skewtest result: \", skewtest(losses))"
   ]
  },
  {
   "cell_type": "code",
   "execution_count": 219,
   "id": "820dddc9-0428-4bfb-9903-c990c747e2b4",
   "metadata": {},
   "outputs": [
    {
     "data": {
      "text/plain": [
       "(1.388149881116362, -0.036238593162265686, 0.05760363501088257)"
      ]
     },
     "execution_count": 219,
     "metadata": {},
     "output_type": "execute_result"
    }
   ],
   "source": [
    "# Fit the portfolio loss data to the skew-normal distribution\n",
    "params = skewnorm.fit(losses)\n",
    "a, loc, scale = params\n",
    "params # skewness, mean, std"
   ]
  },
  {
   "cell_type": "code",
   "execution_count": 217,
   "id": "95ca8fdc-e0fb-4e08-96be-cffd80b315da",
   "metadata": {},
   "outputs": [
    {
     "name": "stdout",
     "output_type": "stream",
     "text": [
      "VaR_95 from skew-normal:  0.07663378180525042\n"
     ]
    }
   ],
   "source": [
    "# Compute the 95% VaR from the fitted distribution, using parameter estimates\n",
    "VaR_95 = skewnorm.ppf(0.95, *params)\n",
    "print(\"VaR_95 from skew-normal: \", VaR_95)"
   ]
  },
  {
   "cell_type": "code",
   "execution_count": 222,
   "id": "d6bc64b9-2b1d-4061-b8b4-0b2ecb7549fc",
   "metadata": {},
   "outputs": [
    {
     "data": {
      "text/plain": [
       "(1.8152285491870432, -0.0014998549277993422, 0.01881987609378704)"
      ]
     },
     "execution_count": 222,
     "metadata": {},
     "output_type": "execute_result"
    }
   ],
   "source": [
    "# fit a t distribution\n",
    "params = t.fit(losses)\n",
    "df, loc_t, scale_t = params\n",
    "params"
   ]
  },
  {
   "cell_type": "code",
   "execution_count": 223,
   "id": "964ccf04-682e-421a-a5b3-9924da8ad87e",
   "metadata": {},
   "outputs": [
    {
     "name": "stdout",
     "output_type": "stream",
     "text": [
      "VaR_95 from skew-normal:  0.03538604569094988\n"
     ]
    }
   ],
   "source": [
    "# Compute the 95% VaR from the fitted distribution, using parameter estimates\n",
    "VaR_95 = skewnorm.ppf(0.95, *params)\n",
    "print(\"VaR_95 from skew-normal: \", VaR_95)"
   ]
  },
  {
   "cell_type": "code",
   "execution_count": 224,
   "id": "2f62cb69-e173-4d8c-8b75-a5d455f6d8c4",
   "metadata": {},
   "outputs": [
    {
     "data": {
      "image/png": "[encoded data removed]",
      "text/plain": [
       "<Figure size 640x480 with 1 Axes>"
      ]
     },
     "metadata": {},
     "output_type": "display_data"
    }
   ],
   "source": [
    "# Create the histogram of the losses\n",
    "plt.hist(losses, bins=30, density=True, alpha=0.6, color='gray', label='Losses Histogram')\n",
    "\n",
    "# Plot the PDF of the fitted normal distribution\n",
    "xmin, xmax = plt.xlim()\n",
    "x = np.linspace(xmin, xmax, 100)\n",
    "p = norm.pdf(x, mu, std)\n",
    "plt.plot(x, p, 'k', linewidth=2, label='Normal PDF')\n",
    "\n",
    "# Plot the PDF of the fitted skewed normal distribution\n",
    "pskew = skewnorm.pdf(x, a, loc, scale)\n",
    "plt.plot(x, pskew, 'r', linewidth=2, label='SkewNorm PDF')\n",
    "\n",
    "# Plot the PDF of the fitted t-distribution\n",
    "pt = t.pdf(x, df, loc_t, scale_t)\n",
    "plt.plot(x, pt, 'b', linewidth=2, label='T-Distribution PDF')\n",
    "\n",
    "# Add titles and labels\n",
    "plt.title('Losses Histogram and Fitted PDFs')\n",
    "plt.xlabel('Losses')\n",
    "plt.ylabel('Density')\n",
    "plt.legend()\n",
    "\n",
    "# Display the plot\n",
    "plt.show()\n",
    "\n"
   ]
  },
  {
   "cell_type": "markdown",
   "id": "8d3a3e05-9ea4-4243-b877-b54468e9b855",
   "metadata": {},
   "source": [
    "Historical Simulation\n",
    "\n",
    "Historical simulation of VaR assumes that the distribution of historical losses is the same as the distribution of future losses. We'll test if this is true for our investment bank portfolio by comparing the 95% VaR from 2005 - 2006 to the 95% VaR from 2007 - 2009.\n",
    "\n",
    "The list asset_returns contains asset returns for each of the two periods. You'll use this list to create portfolio_returns with the available weights, and use this to derive portfolio losses.\n",
    "\n",
    "Then you'll use the np.quantile() function to find the 95% VaR for each period. If the loss distributions are the same, then the 95% VaR estimate should be about the same for both periods. Otherwise the distribution might have changed as the global financial crisis took hold."
   ]
  },
  {
   "cell_type": "code",
   "execution_count": 234,
   "id": "f3fa708d-0059-4cf7-8d94-e9a43ab77833",
   "metadata": {},
   "outputs": [
    {
     "data": {
      "text/plain": [
       "[            Citibank  Morgan Stanley  Goldman Sachs  J.P. Morgan\n",
       " Date                                                            \n",
       " 2005-01-03  0.001868        0.006844       0.008747     0.003589\n",
       " 2005-01-04 -0.008494       -0.010734      -0.006479    -0.018902\n",
       " 2005-01-05  0.012537       -0.005787      -0.004507     0.002083\n",
       " 2005-01-06  0.009699        0.023645       0.013776     0.005716\n",
       " 2005-01-07 -0.005722       -0.003909      -0.004276    -0.008008\n",
       " ...              ...             ...            ...          ...\n",
       " 2006-12-22 -0.003835       -0.013492      -0.000051    -0.015622\n",
       " 2006-12-26  0.010449        0.012924       0.008935     0.008770\n",
       " 2006-12-27  0.023403        0.015731       0.010457     0.013248\n",
       " 2006-12-28 -0.009395       -0.005000      -0.005694    -0.000613\n",
       " 2006-12-29 -0.003221       -0.001961      -0.007221    -0.012674\n",
       " \n",
       " [503 rows x 4 columns],\n",
       "             Citibank  Morgan Stanley  Goldman Sachs  J.P. Morgan\n",
       " Date                                                            \n",
       " 2007-01-03 -0.008079        0.002333       0.006872    -0.004762\n",
       " 2007-01-04 -0.003439        0.003553      -0.009316     0.002496\n",
       " 2007-01-05 -0.005267       -0.012819       0.001006    -0.008300\n",
       " 2007-01-08  0.005112        0.006060       0.023512     0.003348\n",
       " 2007-01-09 -0.008719       -0.002336       0.001718    -0.004171\n",
       " ...              ...             ...            ...          ...\n",
       " 2009-12-24  0.018237        0.006460       0.002078     0.007940\n",
       " 2009-12-28  0.011940       -0.010473      -0.001281    -0.004058\n",
       " 2009-12-29 -0.005900        0.004780       0.002198    -0.005513\n",
       " 2009-12-30 -0.014837        0.002039       0.015720     0.000964\n",
       " 2009-12-31 -0.003012        0.003730       0.012837     0.003371\n",
       " \n",
       " [756 rows x 4 columns]]"
      ]
     },
     "execution_count": 234,
     "metadata": {},
     "output_type": "execute_result"
    }
   ],
   "source": [
    "returns_05_06 = portfolio.loc['2004-12-31':'2006-12-31'].pct_change().dropna()\n",
    "returns_07_09 = portfolio.loc['2006-12-29':'2009-12-31'].pct_change().dropna()\n",
    "\n",
    "asset_returns = [returns_05_06, returns_07_09]\n",
    "asset_returns"
   ]
  },
  {
   "cell_type": "code",
   "execution_count": 249,
   "id": "5a03e720-cd8f-4bcb-9a44-9180eec76d45",
   "metadata": {},
   "outputs": [
    {
     "data": {
      "text/plain": [
       "[Date\n",
       " 2005-01-03    0.005262\n",
       " 2005-01-04   -0.011152\n",
       " 2005-01-05    0.001081\n",
       " 2005-01-06    0.013209\n",
       " 2005-01-07   -0.005479\n",
       "                 ...   \n",
       " 2006-12-22   -0.008250\n",
       " 2006-12-26    0.010270\n",
       " 2006-12-27    0.015710\n",
       " 2006-12-28   -0.005176\n",
       " 2006-12-29   -0.006269\n",
       " Length: 503, dtype: float64,\n",
       " Date\n",
       " 2007-01-03   -0.000909\n",
       " 2007-01-04   -0.001676\n",
       " 2007-01-05   -0.006345\n",
       " 2007-01-08    0.009508\n",
       " 2007-01-09   -0.003377\n",
       "                 ...   \n",
       " 2009-12-24    0.008679\n",
       " 2009-12-28   -0.000968\n",
       " 2009-12-29   -0.001109\n",
       " 2009-12-30    0.000972\n",
       " 2009-12-31    0.004232\n",
       " Length: 756, dtype: float64]"
      ]
     },
     "execution_count": 249,
     "metadata": {},
     "output_type": "execute_result"
    }
   ],
   "source": [
    "# Create portfolio returns for the two sub-periods using the list of asset returns\n",
    "portfolio_returns = [x.dot(weights) for x in asset_returns]\n",
    "# np.array(portfolio_returns)\n",
    "portfolio_returns"
   ]
  },
  {
   "cell_type": "code",
   "execution_count": 251,
   "id": "682cfa6f-636c-4ae4-acfd-ff706c49b312",
   "metadata": {},
   "outputs": [
    {
     "data": {
      "text/plain": [
       "[Date\n",
       " 2005-01-03   -0.005262\n",
       " 2005-01-04    0.011152\n",
       " 2005-01-05   -0.001081\n",
       " 2005-01-06   -0.013209\n",
       " 2005-01-07    0.005479\n",
       "                 ...   \n",
       " 2006-12-22    0.008250\n",
       " 2006-12-26   -0.010270\n",
       " 2006-12-27   -0.015710\n",
       " 2006-12-28    0.005176\n",
       " 2006-12-29    0.006269\n",
       " Length: 503, dtype: float64,\n",
       " Date\n",
       " 2007-01-03    0.000909\n",
       " 2007-01-04    0.001676\n",
       " 2007-01-05    0.006345\n",
       " 2007-01-08   -0.009508\n",
       " 2007-01-09    0.003377\n",
       "                 ...   \n",
       " 2009-12-24   -0.008679\n",
       " 2009-12-28    0.000968\n",
       " 2009-12-29    0.001109\n",
       " 2009-12-30   -0.000972\n",
       " 2009-12-31   -0.004232\n",
       " Length: 756, dtype: float64]"
      ]
     },
     "execution_count": 251,
     "metadata": {},
     "output_type": "execute_result"
    }
   ],
   "source": [
    "# Derive portfolio losses from portfolio returns\n",
    "losses = [- returns for returns in portfolio_returns]\n",
    "losses"
   ]
  },
  {
   "cell_type": "code",
   "execution_count": 252,
   "id": "fb26ad7b-c88a-4e37-b7dd-5365e57da5e5",
   "metadata": {},
   "outputs": [
    {
     "name": "stdout",
     "output_type": "stream",
     "text": [
      "VaR_95, 2005-2006:  0.014687184472834538 ; VaR_95, 2007-2009:  0.0579057406681419\n"
     ]
    }
   ],
   "source": [
    "# Find the historical simulated VaR estimates\n",
    "VaR_95 = [np.quantile(x, 0.95) for x in losses]\n",
    "\n",
    "# Display the VaR estimates\n",
    "print(\"VaR_95, 2005-2006: \", VaR_95[0], '; VaR_95, 2007-2009: ', VaR_95[1])\n",
    "\n",
    "# The VaR estimates are very different for the two time periods. This indicates that over the entire 2005 - 2009 period the loss distribution was likely not stationary. \n",
    "# Historical simulation, while very general, should be used with caution when the data is not from a stationary distribution."
   ]
  },
  {
   "cell_type": "markdown",
   "id": "a1005129-897d-425e-9dd2-5102ece08701",
   "metadata": {},
   "source": [
    "Monte Carlo Simulation\n",
    "\n",
    "You can use Monte Carlo simulation of the 2005-2010 investment bank portfolio assets to find the 95% VaR.\n",
    "\n",
    "The mean asset losses are in the Numpy array mu. The efficient covariance matrix is e_cov (note that here we're using the daily, not annualized variance as in previous exercises). You'll use these to create sample paths for asset losses over one day, to simulate the daily portfolio loss.\n",
    "\n",
    "Using the covariance matrix e_cov allows asset paths to be correlated, which is a realistic assumption.\n",
    "\n",
    "The simulation total_steps is set to 1440. The number of runs N is set to 10000.\n",
    "\n",
    "For each run you'll compute the cumulative losses, and then apply the np.quantile() function to find the 95% VaR."
   ]
  },
  {
   "cell_type": "code",
   "execution_count": 305,
   "id": "bdaa7113-4ec7-4e2e-9020-bd523796d72a",
   "metadata": {},
   "outputs": [
    {
     "data": {
      "text/plain": [
       "array([ 0.00048534, -0.00042112, -0.00074171, -0.00056848])"
      ]
     },
     "execution_count": 305,
     "metadata": {},
     "output_type": "execute_result"
    }
   ],
   "source": [
    "losses = portfolio.pct_change()*(-1)\n",
    "\n",
    "mu = losses.mean().values\n",
    "mu"
   ]
  },
  {
   "cell_type": "code",
   "execution_count": 294,
   "id": "dbe39f7f-281a-4ff1-b21f-012fe9529c9f",
   "metadata": {},
   "outputs": [
    {
     "data": {
      "text/plain": [
       "array([[0.00212783, 0.0012105 , 0.00086505, 0.00107057],\n",
       "       [0.0012105 , 0.00195235, 0.00102629, 0.00086631],\n",
       "       [0.00086505, 0.00102629, 0.00086383, 0.00067832],\n",
       "       [0.00107057, 0.00086631, 0.00067832, 0.00104887]])"
      ]
     },
     "execution_count": 294,
     "metadata": {},
     "output_type": "execute_result"
    }
   ],
   "source": [
    "e_cov = losses.cov().values\n",
    "e_cov"
   ]
  },
  {
   "cell_type": "code",
   "execution_count": 300,
   "id": "d8111e0b-7650-420a-8392-b520f1ceaada",
   "metadata": {},
   "outputs": [
    {
     "data": {
      "text/plain": [
       "1440"
      ]
     },
     "execution_count": 300,
     "metadata": {},
     "output_type": "execute_result"
    }
   ],
   "source": [
    "N = 10000\n",
    "\n",
    "total_steps = 24*60 # minutes in a day\n",
    "total_steps"
   ]
  },
  {
   "cell_type": "code",
   "execution_count": 301,
   "id": "7c955fe7-0a76-4f99-8e04-c26057665f14",
   "metadata": {},
   "outputs": [
    {
     "data": {
      "text/plain": [
       "array([[0., 0., 0., ..., 0., 0., 0.],\n",
       "       [0., 0., 0., ..., 0., 0., 0.],\n",
       "       [0., 0., 0., ..., 0., 0., 0.],\n",
       "       [0., 0., 0., ..., 0., 0., 0.]])"
      ]
     },
     "execution_count": 301,
     "metadata": {},
     "output_type": "execute_result"
    }
   ],
   "source": [
    "# Initialize daily cumulative loss for the 4 assets, across N runs\n",
    "daily_loss = np.zeros((4,N))\n",
    "daily_loss"
   ]
  },
  {
   "cell_type": "code",
   "execution_count": 327,
   "id": "3c8bab10-afac-4e6d-8ca1-77ddd85e4359",
   "metadata": {},
   "outputs": [],
   "source": [
    "def monte_carlo_simulation(N, total_steps, e_cov, mu):\n",
    "    \"\"\"\n",
    "    Run Monte Carlo simulations for N runs to compute daily portfolio losses.\n",
    "\n",
    "    Parameters:\n",
    "    N            -- Number of simulation runs\n",
    "    total_steps  -- Total steps in each simulation run\n",
    "    e_cov        -- Estimated covariance matrix of returns\n",
    "    mu           -- Mean of the portfolio losses\n",
    "\n",
    "    Returns:\n",
    "    correlated_randomness -- List containing all matrices of correlated random samples generated for each run\n",
    "    minute_losses         -- List containing all matrices of simulated minute-by-minute losses for each run\n",
    "    daily_loss            -- Array of daily losses for each run\n",
    "    \"\"\"\n",
    "    # Initialize an array to store daily losses\n",
    "    daily_loss = np.zeros((len(mu), N))\n",
    "    all_correlated_randomness = []\n",
    "    all_minute_losses = []\n",
    "    \n",
    "    # Calculate the step size\n",
    "    steps = 1 / total_steps\n",
    "    \n",
    "    # Run the Monte Carlo simulations for N runs\n",
    "    for n in range(N):\n",
    "        # Step 1: Generate correlated random samples\n",
    "        # generates normally distributed random samples for each asset (4 stocks) over the specified time steps (1440 minutes in a day)\n",
    "        # Multiply the covariance matrix e_cov by the generated random samples to introduce correlations between the assets.\n",
    "        # norm.rvs(size=(len(mu), total_steps)) generates random samples with mean 0 and standard deviation 1.\n",
    "        # These samples are then transformed using the covariance matrix e_cov to introduce the correlations between the assets.\n",
    "        # This step does not adjust for the actual mean and standard deviation of the original stocks,\n",
    "        # but ensures that the simulated returns exhibit the desired correlation structure.\n",
    "        correlated_randomness = e_cov @ norm.rvs(size=(len(mu), total_steps))\n",
    "        \n",
    "        # Step 2: Adjust the simulated path by the mean and scaled randomness\n",
    "        # The mean (mu) of the portfolio losses is added separately to each step in the simulated path. \n",
    "        # This step ensures that the simulated path has the correct average behavior.\n",
    "        # Scaling by sqrt(steps): Ensures that the standard deviation of the simulated returns is correctly adjusted for the time interval being modeled.\n",
    "        # It Keeps the properties of the underlying stochastic process (e.g., Brownian motion) consistent across different time intervals.\n",
    "        # The standard deviation of the price changes over a given time period scales with the square root of the time interval due to the properties of Brownian motion.\n",
    "        minute_losses = mu.reshape(-1,1) * steps + correlated_randomness * np.sqrt(steps)\n",
    "\n",
    "        # Step 3:\n",
    "        all_correlated_randomness.append(correlated_randomness)\n",
    "        all_minute_losses.append(minute_losses)\n",
    "        # Sum the minute losses to get the daily loss for this run\n",
    "        daily_loss[:, n] = minute_losses.sum(axis=1)\n",
    "    \n",
    "    return all_correlated_randomness, all_minute_losses, daily_loss\n",
    "\n",
    "all_correlated_randomness, all_minute_losses, daily_loss = monte_carlo_simulation(N, total_steps, e_cov, mu)"
   ]
  },
  {
   "cell_type": "code",
   "execution_count": 331,
   "id": "8557736b-a0d3-4759-b8de-26795b0088ad",
   "metadata": {},
   "outputs": [
    {
     "name": "stdout",
     "output_type": "stream",
     "text": [
      "10000\n",
      "(4, 1440)\n"
     ]
    },
    {
     "data": {
      "text/plain": [
       "array([[ 4.30271608e-03, -2.61723938e-03,  2.75415231e-06, ...,\n",
       "        -1.25049542e-03,  2.59956911e-04, -1.75432006e-03],\n",
       "       [ 2.80920038e-03, -2.49217460e-03, -7.04428883e-04, ...,\n",
       "         9.47315660e-04,  6.55672570e-04,  1.07733926e-03],\n",
       "       [ 1.66679892e-03, -1.12355261e-03,  1.11891706e-05, ...,\n",
       "         2.83901065e-04,  1.77985164e-04,  2.98663417e-04],\n",
       "       [ 2.02435414e-03, -1.38377379e-03,  4.99292366e-04, ...,\n",
       "        -2.90289462e-04,  6.26067731e-04, -5.53704832e-04]])"
      ]
     },
     "execution_count": 331,
     "metadata": {},
     "output_type": "execute_result"
    }
   ],
   "source": [
    "print(len(all_correlated_randomness))\n",
    "print(all_correlated_randomness[-1].shape)\n",
    "all_correlated_randomness[-1]"
   ]
  },
  {
   "cell_type": "code",
   "execution_count": 332,
   "id": "8d049723-24f0-4e8d-89df-691273bd975f",
   "metadata": {},
   "outputs": [
    {
     "name": "stdout",
     "output_type": "stream",
     "text": [
      "10000\n",
      "(4, 1440)\n"
     ]
    },
    {
     "data": {
      "text/plain": [
       "array([[ 1.13723563e-04, -6.86332752e-05,  4.09616651e-07, ...,\n",
       "        -3.26164093e-05,  7.18750448e-06, -4.58933544e-05],\n",
       "       [ 7.37364825e-05, -6.59670145e-05, -1.88557785e-05, ...,\n",
       "         2.46715121e-05,  1.69860419e-05,  2.80979349e-05],\n",
       "       [ 4.34089290e-05, -3.01232903e-05, -2.20218660e-07, ...,\n",
       "         6.96637078e-06,  4.17524172e-06,  7.35539289e-06],\n",
       "       [ 5.29516404e-05, -3.68604165e-05,  1.27627338e-05, ...,\n",
       "        -8.04457435e-06,  1.61035580e-05, -1.49861789e-05]])"
      ]
     },
     "execution_count": 332,
     "metadata": {},
     "output_type": "execute_result"
    }
   ],
   "source": [
    "print(len(all_minute_losses))\n",
    "print(all_minute_losses[-1].shape)\n",
    "all_minute_losses[-1]"
   ]
  },
  {
   "cell_type": "code",
   "execution_count": 333,
   "id": "2b088b9e-1575-41e2-b7ae-59c4ccefcdf3",
   "metadata": {},
   "outputs": [
    {
     "name": "stdout",
     "output_type": "stream",
     "text": [
      "(4, 10000)\n",
      "Daily losses for each run:\n",
      " [[ 2.60945297e-03  1.57784551e-03  2.16557918e-03 ... -3.19517368e-04\n",
      "  -5.03731000e-04 -9.93224880e-04]\n",
      " [ 2.57324948e-03  9.55126527e-04  3.65920854e-03 ... -1.30740287e-04\n",
      "  -7.31212909e-05 -2.27559421e-03]\n",
      " [ 1.13671681e-03  1.57676765e-04  1.25455095e-03 ... -6.71883249e-04\n",
      "  -1.23232418e-03 -2.17666070e-03]\n",
      " [ 1.12109662e-03  5.26355869e-04  6.71606155e-04 ... -1.13647929e-03\n",
      "  -2.04300425e-03 -1.97711142e-03]]\n"
     ]
    }
   ],
   "source": [
    "# Run the simulation\n",
    "print(daily_loss.shape)\n",
    "print(\"Daily losses for each run:\\n\", daily_loss)"
   ]
  },
  {
   "cell_type": "code",
   "execution_count": 336,
   "id": "77e37af6-f284-4e4d-80fc-a2ecd84d6ac7",
   "metadata": {},
   "outputs": [
    {
     "name": "stdout",
     "output_type": "stream",
     "text": [
      "(10000,)\n"
     ]
    },
    {
     "data": {
      "text/plain": [
       "array([ 0.00186013,  0.00080425,  0.00193774, ..., -0.00056466,\n",
       "       -0.00096305, -0.00185565])"
      ]
     },
     "execution_count": 336,
     "metadata": {},
     "output_type": "execute_result"
    }
   ],
   "source": [
    "# Weighted losses\n",
    "losses = weights @ daily_loss\n",
    "print(losses.shape)\n",
    "losses"
   ]
  },
  {
   "cell_type": "code",
   "execution_count": null,
   "id": "cc77ed10-194a-448f-be1a-1965e0a2cd50",
   "metadata": {},
   "outputs": [],
   "source": [
    "# Generate the 95% VaR estimate\n",
    "print(\"Monte Carlo VaR_95 estimate: \", np.quantile(losses, 0.95))\n",
    "\n",
    "# Monte Carlo simulation can be used to create an entire range of possible outcomes when the underlying risk factor distributions are known. \n",
    "# The resulting riskiness of the loss distribution can then be assessed using the VaR estimate, or a more complicated estimate such as CVaR."
   ]
  },
  {
   "cell_type": "markdown",
   "id": "0801b9b5-cb4f-4427-905f-13c24b6dfed3",
   "metadata": {},
   "source": [
    "Crisis structural break: I\n",
    "\n",
    "You have already seen that the global financial crisis changed investor perception regarding market risk, and influenced investor decisions on portfolio allocations to manage risk.\n",
    "\n",
    "Now you'll have a chance to investigate whether something \"structural\" changed between 2005 and 2010. In this exercise you can see if quarterly minimum portfolio values and mean return volatility time series together identify a structural break.\n",
    "\n",
    "You'll check this first with a simple visualization of the data. Plot the quarterly minimum portfolio returns port_q_min and mean return volatility vol_q_mean to identify a date where a structural break may have occurred."
   ]
  },
  {
   "cell_type": "code",
   "execution_count": 340,
   "id": "fb8f990d-8860-46d9-a4ea-6b103f4e2506",
   "metadata": {},
   "outputs": [
    {
     "data": {
      "text/plain": [
       "Date\n",
       "2005-03-31    0.134033\n",
       "2005-06-30    0.161312\n",
       "2005-09-30    0.104256\n",
       "2005-12-31    0.132253\n",
       "2006-03-31    0.132516\n",
       "2006-06-30    0.172894\n",
       "2006-09-30    0.180824\n",
       "2006-12-31    0.126101\n",
       "2007-03-31    0.181220\n",
       "2007-06-30    0.172793\n",
       "2007-09-30    0.299172\n",
       "2007-12-31    0.377434\n",
       "2008-03-31    0.445537\n",
       "2008-06-30    0.473704\n",
       "2008-09-30    0.652829\n",
       "2008-12-31    1.496785\n",
       "2009-03-31    1.267632\n",
       "2009-06-30    0.861658\n",
       "2009-09-30    0.361908\n",
       "2009-12-31    0.318912\n",
       "2010-03-31    0.277543\n",
       "2010-06-30    0.339763\n",
       "2010-09-30    0.266045\n",
       "2010-12-31    0.250261\n",
       "Freq: QE-DEC, dtype: float64"
      ]
     },
     "execution_count": 340,
     "metadata": {},
     "output_type": "execute_result"
    }
   ],
   "source": [
    "port_q_min = portfolio_q_min\n",
    "vol_q_mean = vol_q_mean*np.sqrt(252)\n",
    "vol_q_mean"
   ]
  },
  {
   "cell_type": "code",
   "execution_count": 341,
   "id": "95597e71-edee-41d9-85b6-910c2fd7de4d",
   "metadata": {},
   "outputs": [
    {
     "data": {
      "image/png": "[encoded data removed]",
      "text/plain": [
       "<Figure size 640x480 with 1 Axes>"
      ]
     },
     "metadata": {},
     "output_type": "display_data"
    }
   ],
   "source": [
    "# Create a plot of quarterly minimum portfolio returns\n",
    "plt.plot(port_q_min, label=\"Quarterly minimum return\")\n",
    "\n",
    "# Create a plot of quarterly mean volatility\n",
    "plt.plot(vol_q_mean, label=\"Quarterly mean volatility\")\n",
    "\n",
    "# Create legend and plot\n",
    "plt.legend()\n",
    "plt.show()\n",
    "\n",
    "# there appears to be a discrete change somewhere in the first half of 2008, but it's unclear if this is just a temporary 'blip' or something more structural. \n",
    "# We'll now proceed to test this by building the Chow test statistic."
   ]
  },
  {
   "cell_type": "raw",
   "id": "a1d16bab-4c51-45ff-8c87-9d5db7861ab8",
   "metadata": {},
   "source": [
    "Crisis structural break: II\n",
    "\n",
    "In this and the following exercise you'll use the richer factor model relationship between portfolio returns and mortgage delinquencies to test for a structural break around 2008, by computing the Chow test statistic for the factor model.\n",
    "\n",
    "First, after importing the statsmodels API, you'll run an OLS regression for 2005 - 2010, with quarterly minimum returns port_q_min as the dependent variable, and mortgage delinquencies mort_del as the independent variable (plus an intercept term).\n",
    "\n",
    "Take note of the sum of squared residuals ssr_total from the regression result (this will be provided in the next exercise to help derive the Chow test statistic)."
   ]
  },
  {
   "cell_type": "code",
   "execution_count": 346,
   "id": "dd77fee2-0ad5-4370-9c09-e9f5e1c41b1a",
   "metadata": {},
   "outputs": [
    {
     "data": {
      "text/html": [
       "<div>\n",
       "<style scoped>\n",
       "    .dataframe tbody tr th:only-of-type {\n",
       "        vertical-align: middle;\n",
       "    }\n",
       "\n",
       "    .dataframe tbody tr th {\n",
       "        vertical-align: top;\n",
       "    }\n",
       "\n",
       "    .dataframe thead th {\n",
       "        text-align: right;\n",
       "    }\n",
       "</style>\n",
       "<table border=\"1\" class=\"dataframe\">\n",
       "  <thead>\n",
       "    <tr style=\"text-align: right;\">\n",
       "      <th></th>\n",
       "      <th>const</th>\n",
       "      <th>Mortgage Delinquency Rate</th>\n",
       "    </tr>\n",
       "    <tr>\n",
       "      <th>Date</th>\n",
       "      <th></th>\n",
       "      <th></th>\n",
       "    </tr>\n",
       "  </thead>\n",
       "  <tbody>\n",
       "    <tr>\n",
       "      <th>2005-03-31</th>\n",
       "      <td>1.0</td>\n",
       "      <td>0.0155</td>\n",
       "    </tr>\n",
       "    <tr>\n",
       "      <th>2005-06-30</th>\n",
       "      <td>1.0</td>\n",
       "      <td>0.0159</td>\n",
       "    </tr>\n",
       "    <tr>\n",
       "      <th>2005-09-30</th>\n",
       "      <td>1.0</td>\n",
       "      <td>0.0163</td>\n",
       "    </tr>\n",
       "    <tr>\n",
       "      <th>2005-12-31</th>\n",
       "      <td>1.0</td>\n",
       "      <td>0.0161</td>\n",
       "    </tr>\n",
       "    <tr>\n",
       "      <th>2006-03-31</th>\n",
       "      <td>1.0</td>\n",
       "      <td>0.0162</td>\n",
       "    </tr>\n",
       "    <tr>\n",
       "      <th>2006-06-30</th>\n",
       "      <td>1.0</td>\n",
       "      <td>0.0174</td>\n",
       "    </tr>\n",
       "    <tr>\n",
       "      <th>2006-09-30</th>\n",
       "      <td>1.0</td>\n",
       "      <td>0.0192</td>\n",
       "    </tr>\n",
       "    <tr>\n",
       "      <th>2006-12-31</th>\n",
       "      <td>1.0</td>\n",
       "      <td>0.0208</td>\n",
       "    </tr>\n",
       "    <tr>\n",
       "      <th>2007-03-31</th>\n",
       "      <td>1.0</td>\n",
       "      <td>0.0231</td>\n",
       "    </tr>\n",
       "    <tr>\n",
       "      <th>2007-06-30</th>\n",
       "      <td>1.0</td>\n",
       "      <td>0.0271</td>\n",
       "    </tr>\n",
       "    <tr>\n",
       "      <th>2007-09-30</th>\n",
       "      <td>1.0</td>\n",
       "      <td>0.0309</td>\n",
       "    </tr>\n",
       "    <tr>\n",
       "      <th>2007-12-31</th>\n",
       "      <td>1.0</td>\n",
       "      <td>0.0367</td>\n",
       "    </tr>\n",
       "    <tr>\n",
       "      <th>2008-03-31</th>\n",
       "      <td>1.0</td>\n",
       "      <td>0.0438</td>\n",
       "    </tr>\n",
       "    <tr>\n",
       "      <th>2008-06-30</th>\n",
       "      <td>1.0</td>\n",
       "      <td>0.0530</td>\n",
       "    </tr>\n",
       "    <tr>\n",
       "      <th>2008-09-30</th>\n",
       "      <td>1.0</td>\n",
       "      <td>0.0659</td>\n",
       "    </tr>\n",
       "    <tr>\n",
       "      <th>2008-12-31</th>\n",
       "      <td>1.0</td>\n",
       "      <td>0.0796</td>\n",
       "    </tr>\n",
       "    <tr>\n",
       "      <th>2009-03-31</th>\n",
       "      <td>1.0</td>\n",
       "      <td>0.0858</td>\n",
       "    </tr>\n",
       "    <tr>\n",
       "      <th>2009-06-30</th>\n",
       "      <td>1.0</td>\n",
       "      <td>0.0953</td>\n",
       "    </tr>\n",
       "    <tr>\n",
       "      <th>2009-09-30</th>\n",
       "      <td>1.0</td>\n",
       "      <td>0.1034</td>\n",
       "    </tr>\n",
       "    <tr>\n",
       "      <th>2009-12-31</th>\n",
       "      <td>1.0</td>\n",
       "      <td>0.1154</td>\n",
       "    </tr>\n",
       "    <tr>\n",
       "      <th>2010-03-31</th>\n",
       "      <td>1.0</td>\n",
       "      <td>0.1106</td>\n",
       "    </tr>\n",
       "    <tr>\n",
       "      <th>2010-06-30</th>\n",
       "      <td>1.0</td>\n",
       "      <td>0.1059</td>\n",
       "    </tr>\n",
       "    <tr>\n",
       "      <th>2010-09-30</th>\n",
       "      <td>1.0</td>\n",
       "      <td>0.1036</td>\n",
       "    </tr>\n",
       "    <tr>\n",
       "      <th>2010-12-31</th>\n",
       "      <td>1.0</td>\n",
       "      <td>0.1035</td>\n",
       "    </tr>\n",
       "  </tbody>\n",
       "</table>\n",
       "</div>"
      ],
      "text/plain": [
       "            const  Mortgage Delinquency Rate\n",
       "Date                                        \n",
       "2005-03-31    1.0                     0.0155\n",
       "2005-06-30    1.0                     0.0159\n",
       "2005-09-30    1.0                     0.0163\n",
       "2005-12-31    1.0                     0.0161\n",
       "2006-03-31    1.0                     0.0162\n",
       "2006-06-30    1.0                     0.0174\n",
       "2006-09-30    1.0                     0.0192\n",
       "2006-12-31    1.0                     0.0208\n",
       "2007-03-31    1.0                     0.0231\n",
       "2007-06-30    1.0                     0.0271\n",
       "2007-09-30    1.0                     0.0309\n",
       "2007-12-31    1.0                     0.0367\n",
       "2008-03-31    1.0                     0.0438\n",
       "2008-06-30    1.0                     0.0530\n",
       "2008-09-30    1.0                     0.0659\n",
       "2008-12-31    1.0                     0.0796\n",
       "2009-03-31    1.0                     0.0858\n",
       "2009-06-30    1.0                     0.0953\n",
       "2009-09-30    1.0                     0.1034\n",
       "2009-12-31    1.0                     0.1154\n",
       "2010-03-31    1.0                     0.1106\n",
       "2010-06-30    1.0                     0.1059\n",
       "2010-09-30    1.0                     0.1036\n",
       "2010-12-31    1.0                     0.1035"
      ]
     },
     "execution_count": 346,
     "metadata": {},
     "output_type": "execute_result"
    }
   ],
   "source": [
    "# Add a constant to the regression\n",
    "mort_del # it has been added already"
   ]
  },
  {
   "cell_type": "code",
   "execution_count": 348,
   "id": "e01f25bc-20a9-49fc-88d8-dcbc4256bd6f",
   "metadata": {},
   "outputs": [
    {
     "data": {
      "text/html": [
       "<table class=\"simpletable\">\n",
       "<caption>OLS Regression Results</caption>\n",
       "<tr>\n",
       "  <th>Dep. Variable:</th>            <td>y</td>        <th>  R-squared:         </th> <td>   0.178</td>\n",
       "</tr>\n",
       "<tr>\n",
       "  <th>Model:</th>                   <td>OLS</td>       <th>  Adj. R-squared:    </th> <td>   0.141</td>\n",
       "</tr>\n",
       "<tr>\n",
       "  <th>Method:</th>             <td>Least Squares</td>  <th>  F-statistic:       </th> <td>   4.761</td>\n",
       "</tr>\n",
       "<tr>\n",
       "  <th>Date:</th>             <td>Thu, 27 Feb 2025</td> <th>  Prob (F-statistic):</th>  <td>0.0401</td> \n",
       "</tr>\n",
       "<tr>\n",
       "  <th>Time:</th>                 <td>08:25:25</td>     <th>  Log-Likelihood:    </th> <td>  39.937</td>\n",
       "</tr>\n",
       "<tr>\n",
       "  <th>No. Observations:</th>      <td>    24</td>      <th>  AIC:               </th> <td>  -75.87</td>\n",
       "</tr>\n",
       "<tr>\n",
       "  <th>Df Residuals:</th>          <td>    22</td>      <th>  BIC:               </th> <td>  -73.52</td>\n",
       "</tr>\n",
       "<tr>\n",
       "  <th>Df Model:</th>              <td>     1</td>      <th>                     </th>     <td> </td>   \n",
       "</tr>\n",
       "<tr>\n",
       "  <th>Covariance Type:</th>      <td>nonrobust</td>    <th>                     </th>     <td> </td>   \n",
       "</tr>\n",
       "</table>\n",
       "<table class=\"simpletable\">\n",
       "<tr>\n",
       "              <td></td>                 <th>coef</th>     <th>std err</th>      <th>t</th>      <th>P>|t|</th>  <th>[0.025</th>    <th>0.975]</th>  \n",
       "</tr>\n",
       "<tr>\n",
       "  <th>const</th>                     <td>   -0.0279</td> <td>    0.017</td> <td>   -1.611</td> <td> 0.121</td> <td>   -0.064</td> <td>    0.008</td>\n",
       "</tr>\n",
       "<tr>\n",
       "  <th>Mortgage Delinquency Rate</th> <td>   -0.5664</td> <td>    0.260</td> <td>   -2.182</td> <td> 0.040</td> <td>   -1.105</td> <td>   -0.028</td>\n",
       "</tr>\n",
       "</table>\n",
       "<table class=\"simpletable\">\n",
       "<tr>\n",
       "  <th>Omnibus:</th>       <td>13.525</td> <th>  Durbin-Watson:     </th> <td>   0.513</td>\n",
       "</tr>\n",
       "<tr>\n",
       "  <th>Prob(Omnibus):</th> <td> 0.001</td> <th>  Jarque-Bera (JB):  </th> <td>  12.333</td>\n",
       "</tr>\n",
       "<tr>\n",
       "  <th>Skew:</th>          <td>-1.534</td> <th>  Prob(JB):          </th> <td> 0.00210</td>\n",
       "</tr>\n",
       "<tr>\n",
       "  <th>Kurtosis:</th>      <td> 4.710</td> <th>  Cond. No.          </th> <td>    26.7</td>\n",
       "</tr>\n",
       "</table><br/><br/>Notes:<br/>[1] Standard Errors assume that the covariance matrix of the errors is correctly specified."
      ],
      "text/latex": [
       "\\begin{center}\n",
       "\\begin{tabular}{lclc}\n",
       "\\toprule\n",
       "\\textbf{Dep. Variable:}            &        y         & \\textbf{  R-squared:         } &     0.178   \\\\\n",
       "\\textbf{Model:}                    &       OLS        & \\textbf{  Adj. R-squared:    } &     0.141   \\\\\n",
       "\\textbf{Method:}                   &  Least Squares   & \\textbf{  F-statistic:       } &     4.761   \\\\\n",
       "\\textbf{Date:}                     & Thu, 27 Feb 2025 & \\textbf{  Prob (F-statistic):} &   0.0401    \\\\\n",
       "\\textbf{Time:}                     &     08:25:25     & \\textbf{  Log-Likelihood:    } &    39.937   \\\\\n",
       "\\textbf{No. Observations:}         &          24      & \\textbf{  AIC:               } &    -75.87   \\\\\n",
       "\\textbf{Df Residuals:}             &          22      & \\textbf{  BIC:               } &    -73.52   \\\\\n",
       "\\textbf{Df Model:}                 &           1      & \\textbf{                     } &             \\\\\n",
       "\\textbf{Covariance Type:}          &    nonrobust     & \\textbf{                     } &             \\\\\n",
       "\\bottomrule\n",
       "\\end{tabular}\n",
       "\\begin{tabular}{lcccccc}\n",
       "                                   & \\textbf{coef} & \\textbf{std err} & \\textbf{t} & \\textbf{P$> |$t$|$} & \\textbf{[0.025} & \\textbf{0.975]}  \\\\\n",
       "\\midrule\n",
       "\\textbf{const}                     &      -0.0279  &        0.017     &    -1.611  &         0.121        &       -0.064    &        0.008     \\\\\n",
       "\\textbf{Mortgage Delinquency Rate} &      -0.5664  &        0.260     &    -2.182  &         0.040        &       -1.105    &       -0.028     \\\\\n",
       "\\bottomrule\n",
       "\\end{tabular}\n",
       "\\begin{tabular}{lclc}\n",
       "\\textbf{Omnibus:}       & 13.525 & \\textbf{  Durbin-Watson:     } &    0.513  \\\\\n",
       "\\textbf{Prob(Omnibus):} &  0.001 & \\textbf{  Jarque-Bera (JB):  } &   12.333  \\\\\n",
       "\\textbf{Skew:}          & -1.534 & \\textbf{  Prob(JB):          } &  0.00210  \\\\\n",
       "\\textbf{Kurtosis:}      &  4.710 & \\textbf{  Cond. No.          } &     26.7  \\\\\n",
       "\\bottomrule\n",
       "\\end{tabular}\n",
       "%\\caption{OLS Regression Results}\n",
       "\\end{center}\n",
       "\n",
       "Notes: \\newline\n",
       " [1] Standard Errors assume that the covariance matrix of the errors is correctly specified."
      ],
      "text/plain": [
       "<class 'statsmodels.iolib.summary.Summary'>\n",
       "\"\"\"\n",
       "                            OLS Regression Results                            \n",
       "==============================================================================\n",
       "Dep. Variable:                      y   R-squared:                       0.178\n",
       "Model:                            OLS   Adj. R-squared:                  0.141\n",
       "Method:                 Least Squares   F-statistic:                     4.761\n",
       "Date:                Thu, 27 Feb 2025   Prob (F-statistic):             0.0401\n",
       "Time:                        08:25:25   Log-Likelihood:                 39.937\n",
       "No. Observations:                  24   AIC:                            -75.87\n",
       "Df Residuals:                      22   BIC:                            -73.52\n",
       "Df Model:                           1                                         \n",
       "Covariance Type:            nonrobust                                         \n",
       "=============================================================================================\n",
       "                                coef    std err          t      P>|t|      [0.025      0.975]\n",
       "---------------------------------------------------------------------------------------------\n",
       "const                        -0.0279      0.017     -1.611      0.121      -0.064       0.008\n",
       "Mortgage Delinquency Rate    -0.5664      0.260     -2.182      0.040      -1.105      -0.028\n",
       "==============================================================================\n",
       "Omnibus:                       13.525   Durbin-Watson:                   0.513\n",
       "Prob(Omnibus):                  0.001   Jarque-Bera (JB):               12.333\n",
       "Skew:                          -1.534   Prob(JB):                      0.00210\n",
       "Kurtosis:                       4.710   Cond. No.                         26.7\n",
       "==============================================================================\n",
       "\n",
       "Notes:\n",
       "[1] Standard Errors assume that the covariance matrix of the errors is correctly specified.\n",
       "\"\"\""
      ]
     },
     "execution_count": 348,
     "metadata": {},
     "output_type": "execute_result"
    }
   ],
   "source": [
    "# Regress quarterly minimum portfolio returns against mortgage delinquencies\n",
    "result = sm.OLS(port_q_min, mort_del).fit()\n",
    "\n",
    "result.summary()"
   ]
  },
  {
   "cell_type": "code",
   "execution_count": 349,
   "id": "1a4b1151-48c2-494e-ba21-f7490d15b1e1",
   "metadata": {},
   "outputs": [
    {
     "name": "stdout",
     "output_type": "stream",
     "text": [
      "Sum-of-squared residuals, 2005-2010:  0.05039331102490133\n"
     ]
    }
   ],
   "source": [
    "# Retrieve the sum-of-squared residuals\n",
    "ssr_total = result.ssr\n",
    "print(\"Sum-of-squared residuals, 2005-2010: \", ssr_total)"
   ]
  },
  {
   "cell_type": "markdown",
   "id": "48515960-338e-4bcd-8d3a-ee447c2d8c90",
   "metadata": {},
   "source": [
    "Crisis structural break: III\n",
    "\n",
    "Now you can put everything together to perform the Chow test.\n",
    "\n",
    "The 2005 - 2010 data have been split into two available DataFrames, before and after, using June 30, 2008 as the structural break point (identified in the first exercise in this series). The columns of both DataFrames are mort_del and returns for mortgage delinquency data and returns data, respectively.\n",
    "\n",
    "You'll run two OLS regressions on before and after, regressing the returns column against the mort_del column in each DataFrame, and derive the sum-of-squared residuals.\n",
    "\n",
    "Then you'll compute the Chow test statistic as in the video, using ssr_total (provided from the second exercise) and the derived residuals. The critical F-value at 99% confidence is around 5.85. What value do you find for your test statistic?"
   ]
  },
  {
   "cell_type": "code",
   "execution_count": 353,
   "id": "8cb924ce-abde-4295-a682-bf55c88575ae",
   "metadata": {},
   "outputs": [
    {
     "data": {
      "text/html": [
       "<div>\n",
       "<style scoped>\n",
       "    .dataframe tbody tr th:only-of-type {\n",
       "        vertical-align: middle;\n",
       "    }\n",
       "\n",
       "    .dataframe tbody tr th {\n",
       "        vertical-align: top;\n",
       "    }\n",
       "\n",
       "    .dataframe thead th {\n",
       "        text-align: right;\n",
       "    }\n",
       "</style>\n",
       "<table border=\"1\" class=\"dataframe\">\n",
       "  <thead>\n",
       "    <tr style=\"text-align: right;\">\n",
       "      <th></th>\n",
       "      <th>const</th>\n",
       "      <th>Mortgage Delinquency Rate</th>\n",
       "      <th>returns</th>\n",
       "    </tr>\n",
       "    <tr>\n",
       "      <th>Date</th>\n",
       "      <th></th>\n",
       "      <th></th>\n",
       "      <th></th>\n",
       "    </tr>\n",
       "  </thead>\n",
       "  <tbody>\n",
       "    <tr>\n",
       "      <th>2005-03-31</th>\n",
       "      <td>1.0</td>\n",
       "      <td>0.0155</td>\n",
       "      <td>-0.021728</td>\n",
       "    </tr>\n",
       "    <tr>\n",
       "      <th>2005-06-30</th>\n",
       "      <td>1.0</td>\n",
       "      <td>0.0159</td>\n",
       "      <td>-0.022794</td>\n",
       "    </tr>\n",
       "    <tr>\n",
       "      <th>2005-09-30</th>\n",
       "      <td>1.0</td>\n",
       "      <td>0.0163</td>\n",
       "      <td>-0.014764</td>\n",
       "    </tr>\n",
       "    <tr>\n",
       "      <th>2005-12-31</th>\n",
       "      <td>1.0</td>\n",
       "      <td>0.0161</td>\n",
       "      <td>-0.013551</td>\n",
       "    </tr>\n",
       "    <tr>\n",
       "      <th>2006-03-31</th>\n",
       "      <td>1.0</td>\n",
       "      <td>0.0162</td>\n",
       "      <td>-0.028963</td>\n",
       "    </tr>\n",
       "    <tr>\n",
       "      <th>2006-06-30</th>\n",
       "      <td>1.0</td>\n",
       "      <td>0.0174</td>\n",
       "      <td>-0.034735</td>\n",
       "    </tr>\n",
       "    <tr>\n",
       "      <th>2006-09-30</th>\n",
       "      <td>1.0</td>\n",
       "      <td>0.0192</td>\n",
       "      <td>-0.019315</td>\n",
       "    </tr>\n",
       "    <tr>\n",
       "      <th>2006-12-31</th>\n",
       "      <td>1.0</td>\n",
       "      <td>0.0208</td>\n",
       "      <td>-0.024550</td>\n",
       "    </tr>\n",
       "    <tr>\n",
       "      <th>2007-03-31</th>\n",
       "      <td>1.0</td>\n",
       "      <td>0.0231</td>\n",
       "      <td>-0.052700</td>\n",
       "    </tr>\n",
       "    <tr>\n",
       "      <th>2007-06-30</th>\n",
       "      <td>1.0</td>\n",
       "      <td>0.0271</td>\n",
       "      <td>-0.024104</td>\n",
       "    </tr>\n",
       "    <tr>\n",
       "      <th>2007-09-30</th>\n",
       "      <td>1.0</td>\n",
       "      <td>0.0309</td>\n",
       "      <td>-0.053640</td>\n",
       "    </tr>\n",
       "    <tr>\n",
       "      <th>2007-12-31</th>\n",
       "      <td>1.0</td>\n",
       "      <td>0.0367</td>\n",
       "      <td>-0.060247</td>\n",
       "    </tr>\n",
       "    <tr>\n",
       "      <th>2008-03-31</th>\n",
       "      <td>1.0</td>\n",
       "      <td>0.0438</td>\n",
       "      <td>-0.057646</td>\n",
       "    </tr>\n",
       "    <tr>\n",
       "      <th>2008-06-30</th>\n",
       "      <td>1.0</td>\n",
       "      <td>0.0530</td>\n",
       "      <td>-0.056931</td>\n",
       "    </tr>\n",
       "  </tbody>\n",
       "</table>\n",
       "</div>"
      ],
      "text/plain": [
       "            const  Mortgage Delinquency Rate   returns\n",
       "Date                                                  \n",
       "2005-03-31    1.0                     0.0155 -0.021728\n",
       "2005-06-30    1.0                     0.0159 -0.022794\n",
       "2005-09-30    1.0                     0.0163 -0.014764\n",
       "2005-12-31    1.0                     0.0161 -0.013551\n",
       "2006-03-31    1.0                     0.0162 -0.028963\n",
       "2006-06-30    1.0                     0.0174 -0.034735\n",
       "2006-09-30    1.0                     0.0192 -0.019315\n",
       "2006-12-31    1.0                     0.0208 -0.024550\n",
       "2007-03-31    1.0                     0.0231 -0.052700\n",
       "2007-06-30    1.0                     0.0271 -0.024104\n",
       "2007-09-30    1.0                     0.0309 -0.053640\n",
       "2007-12-31    1.0                     0.0367 -0.060247\n",
       "2008-03-31    1.0                     0.0438 -0.057646\n",
       "2008-06-30    1.0                     0.0530 -0.056931"
      ]
     },
     "execution_count": 353,
     "metadata": {},
     "output_type": "execute_result"
    }
   ],
   "source": [
    "mort_del['returns'] = port_q_min\n",
    "\n",
    "before = mort_del.loc[:'2008-06-30']\n",
    "before"
   ]
  },
  {
   "cell_type": "code",
   "execution_count": 354,
   "id": "087aa491-0a18-42e5-b84b-3e1240b1838b",
   "metadata": {},
   "outputs": [
    {
     "data": {
      "text/html": [
       "<div>\n",
       "<style scoped>\n",
       "    .dataframe tbody tr th:only-of-type {\n",
       "        vertical-align: middle;\n",
       "    }\n",
       "\n",
       "    .dataframe tbody tr th {\n",
       "        vertical-align: top;\n",
       "    }\n",
       "\n",
       "    .dataframe thead th {\n",
       "        text-align: right;\n",
       "    }\n",
       "</style>\n",
       "<table border=\"1\" class=\"dataframe\">\n",
       "  <thead>\n",
       "    <tr style=\"text-align: right;\">\n",
       "      <th></th>\n",
       "      <th>const</th>\n",
       "      <th>Mortgage Delinquency Rate</th>\n",
       "      <th>returns</th>\n",
       "    </tr>\n",
       "    <tr>\n",
       "      <th>Date</th>\n",
       "      <th></th>\n",
       "      <th></th>\n",
       "      <th></th>\n",
       "    </tr>\n",
       "  </thead>\n",
       "  <tbody>\n",
       "    <tr>\n",
       "      <th>2008-09-30</th>\n",
       "      <td>1.0</td>\n",
       "      <td>0.0659</td>\n",
       "      <td>-0.153131</td>\n",
       "    </tr>\n",
       "    <tr>\n",
       "      <th>2008-12-31</th>\n",
       "      <td>1.0</td>\n",
       "      <td>0.0796</td>\n",
       "      <td>-0.198734</td>\n",
       "    </tr>\n",
       "    <tr>\n",
       "      <th>2009-03-31</th>\n",
       "      <td>1.0</td>\n",
       "      <td>0.0858</td>\n",
       "      <td>-0.189147</td>\n",
       "    </tr>\n",
       "    <tr>\n",
       "      <th>2009-06-30</th>\n",
       "      <td>1.0</td>\n",
       "      <td>0.0953</td>\n",
       "      <td>-0.101852</td>\n",
       "    </tr>\n",
       "    <tr>\n",
       "      <th>2009-09-30</th>\n",
       "      <td>1.0</td>\n",
       "      <td>0.1034</td>\n",
       "      <td>-0.054325</td>\n",
       "    </tr>\n",
       "    <tr>\n",
       "      <th>2009-12-31</th>\n",
       "      <td>1.0</td>\n",
       "      <td>0.1154</td>\n",
       "      <td>-0.050587</td>\n",
       "    </tr>\n",
       "    <tr>\n",
       "      <th>2010-03-31</th>\n",
       "      <td>1.0</td>\n",
       "      <td>0.1106</td>\n",
       "      <td>-0.051042</td>\n",
       "    </tr>\n",
       "    <tr>\n",
       "      <th>2010-06-30</th>\n",
       "      <td>1.0</td>\n",
       "      <td>0.1059</td>\n",
       "      <td>-0.070714</td>\n",
       "    </tr>\n",
       "    <tr>\n",
       "      <th>2010-09-30</th>\n",
       "      <td>1.0</td>\n",
       "      <td>0.1036</td>\n",
       "      <td>-0.034097</td>\n",
       "    </tr>\n",
       "    <tr>\n",
       "      <th>2010-12-31</th>\n",
       "      <td>1.0</td>\n",
       "      <td>0.1035</td>\n",
       "      <td>-0.028097</td>\n",
       "    </tr>\n",
       "  </tbody>\n",
       "</table>\n",
       "</div>"
      ],
      "text/plain": [
       "            const  Mortgage Delinquency Rate   returns\n",
       "Date                                                  \n",
       "2008-09-30    1.0                     0.0659 -0.153131\n",
       "2008-12-31    1.0                     0.0796 -0.198734\n",
       "2009-03-31    1.0                     0.0858 -0.189147\n",
       "2009-06-30    1.0                     0.0953 -0.101852\n",
       "2009-09-30    1.0                     0.1034 -0.054325\n",
       "2009-12-31    1.0                     0.1154 -0.050587\n",
       "2010-03-31    1.0                     0.1106 -0.051042\n",
       "2010-06-30    1.0                     0.1059 -0.070714\n",
       "2010-09-30    1.0                     0.1036 -0.034097\n",
       "2010-12-31    1.0                     0.1035 -0.028097"
      ]
     },
     "execution_count": 354,
     "metadata": {},
     "output_type": "execute_result"
    }
   ],
   "source": [
    "after = mort_del.loc['2008-09-30':]\n",
    "after"
   ]
  },
  {
   "cell_type": "code",
   "execution_count": 359,
   "id": "f2787273-fbf7-431c-9952-f2366f9a6f4a",
   "metadata": {},
   "outputs": [
    {
     "data": {
      "text/plain": [
       "(0.0013925615729774906, 0.011551544148675623)"
      ]
     },
     "execution_count": 359,
     "metadata": {},
     "output_type": "execute_result"
    }
   ],
   "source": [
    "# Fit OLS regressions to each sub-period\n",
    "r_b = sm.OLS(before['returns'], before.drop(['returns'], axis=1)).fit()\n",
    "r_a = sm.OLS(after['returns'],  after.drop(['returns'], axis=1)).fit()\n",
    "\n",
    "# Get sum-of-squared residuals for both regressions\n",
    "ssr_before = r_b.ssr\n",
    "ssr_after = r_a.ssr\n",
    "\n",
    "ssr_before, ssr_after"
   ]
  },
  {
   "cell_type": "code",
   "execution_count": 360,
   "id": "e3bf3e19-6174-4b97-8ac5-6384f064381c",
   "metadata": {},
   "outputs": [
    {
     "name": "stdout",
     "output_type": "stream",
     "text": [
      "Chow test statistic:  28.931473605474782\n"
     ]
    }
   ],
   "source": [
    "# Compute and display the Chow test statistic\n",
    "numerator = ((ssr_total - (ssr_before + ssr_after)) / 2)\n",
    "denominator = ((ssr_before + ssr_after) / (24 - 4))\n",
    "print(\"Chow test statistic: \", numerator / denominator)\n",
    "\n",
    "# Your test statistic was well above the critical F-value, indicating that a structural break in the data occurred in the summer of 2008. "
   ]
  },
  {
   "cell_type": "markdown",
   "id": "2c25acad-bbc5-4fae-91d1-50d7018e058c",
   "metadata": {},
   "source": [
    "Volatility and structural breaks\n",
    "\n",
    "Visualizing volatility changes helps reveal possible structural break points in time series. By identifying when volatility appears to change, an informed choice of break point can be made that can, in turn, be used for further statistical analysis (such as the Chow test).\n",
    "\n",
    "You'll examine two visualizations of volatility for the investment bank portfolio from 2008 - 2009, for two available portfolio weights: weights_with_citi and weights_without_citi. These correspond, respectively, to equal-weighted portfolios with and without Citibank, which exhibited (as you saw in Chapter 1) the highest volatility of the four assets over the period.\n",
    "\n",
    "The portfolio prices for 2008 - 2009 with Citibank are available as prices_with_citi, and without Citibank as prices_without_citi."
   ]
  },
  {
   "cell_type": "code",
   "execution_count": 362,
   "id": "708148e4-98a9-4098-973e-e1c552b8d2a1",
   "metadata": {},
   "outputs": [],
   "source": [
    "weights_with_citi = [0.25, 0.25, 0.25, 0.25]\n",
    "weights_without_citi = [0.3333333333333333, 0.3333333333333333, 0.3333333333333333]"
   ]
  },
  {
   "cell_type": "code",
   "execution_count": 364,
   "id": "cdb17da5-b58e-4331-96a4-4979e3df4c9a",
   "metadata": {},
   "outputs": [
    {
     "data": {
      "text/html": [
       "<div>\n",
       "<style scoped>\n",
       "    .dataframe tbody tr th:only-of-type {\n",
       "        vertical-align: middle;\n",
       "    }\n",
       "\n",
       "    .dataframe tbody tr th {\n",
       "        vertical-align: top;\n",
       "    }\n",
       "\n",
       "    .dataframe thead th {\n",
       "        text-align: right;\n",
       "    }\n",
       "</style>\n",
       "<table border=\"1\" class=\"dataframe\">\n",
       "  <thead>\n",
       "    <tr style=\"text-align: right;\">\n",
       "      <th></th>\n",
       "      <th>Citibank</th>\n",
       "      <th>Morgan Stanley</th>\n",
       "      <th>Goldman Sachs</th>\n",
       "      <th>J.P. Morgan</th>\n",
       "    </tr>\n",
       "    <tr>\n",
       "      <th>Date</th>\n",
       "      <th></th>\n",
       "      <th></th>\n",
       "      <th></th>\n",
       "      <th></th>\n",
       "    </tr>\n",
       "  </thead>\n",
       "  <tbody>\n",
       "    <tr>\n",
       "      <th>2008-01-02</th>\n",
       "      <td>289.200012</td>\n",
       "      <td>50.950001</td>\n",
       "      <td>207.600006</td>\n",
       "      <td>42.169998</td>\n",
       "    </tr>\n",
       "    <tr>\n",
       "      <th>2008-01-03</th>\n",
       "      <td>289.299988</td>\n",
       "      <td>50.939999</td>\n",
       "      <td>204.839996</td>\n",
       "      <td>41.880001</td>\n",
       "    </tr>\n",
       "    <tr>\n",
       "      <th>2008-01-04</th>\n",
       "      <td>282.399994</td>\n",
       "      <td>49.299999</td>\n",
       "      <td>199.929993</td>\n",
       "      <td>40.930000</td>\n",
       "    </tr>\n",
       "    <tr>\n",
       "      <th>2008-01-07</th>\n",
       "      <td>282.600006</td>\n",
       "      <td>48.310001</td>\n",
       "      <td>194.729996</td>\n",
       "      <td>41.340000</td>\n",
       "    </tr>\n",
       "    <tr>\n",
       "      <th>2008-01-08</th>\n",
       "      <td>271.399994</td>\n",
       "      <td>46.400002</td>\n",
       "      <td>189.500000</td>\n",
       "      <td>39.700001</td>\n",
       "    </tr>\n",
       "    <tr>\n",
       "      <th>...</th>\n",
       "      <td>...</td>\n",
       "      <td>...</td>\n",
       "      <td>...</td>\n",
       "      <td>...</td>\n",
       "    </tr>\n",
       "    <tr>\n",
       "      <th>2009-12-24</th>\n",
       "      <td>33.500000</td>\n",
       "      <td>29.600000</td>\n",
       "      <td>163.970001</td>\n",
       "      <td>41.889999</td>\n",
       "    </tr>\n",
       "    <tr>\n",
       "      <th>2009-12-28</th>\n",
       "      <td>33.900002</td>\n",
       "      <td>29.290001</td>\n",
       "      <td>163.759995</td>\n",
       "      <td>41.720001</td>\n",
       "    </tr>\n",
       "    <tr>\n",
       "      <th>2009-12-29</th>\n",
       "      <td>33.700001</td>\n",
       "      <td>29.430000</td>\n",
       "      <td>164.119995</td>\n",
       "      <td>41.490002</td>\n",
       "    </tr>\n",
       "    <tr>\n",
       "      <th>2009-12-30</th>\n",
       "      <td>33.200001</td>\n",
       "      <td>29.490000</td>\n",
       "      <td>166.699997</td>\n",
       "      <td>41.529999</td>\n",
       "    </tr>\n",
       "    <tr>\n",
       "      <th>2009-12-31</th>\n",
       "      <td>33.099998</td>\n",
       "      <td>29.600000</td>\n",
       "      <td>168.839996</td>\n",
       "      <td>41.669998</td>\n",
       "    </tr>\n",
       "  </tbody>\n",
       "</table>\n",
       "<p>505 rows × 4 columns</p>\n",
       "</div>"
      ],
      "text/plain": [
       "              Citibank  Morgan Stanley  Goldman Sachs  J.P. Morgan\n",
       "Date                                                              \n",
       "2008-01-02  289.200012       50.950001     207.600006    42.169998\n",
       "2008-01-03  289.299988       50.939999     204.839996    41.880001\n",
       "2008-01-04  282.399994       49.299999     199.929993    40.930000\n",
       "2008-01-07  282.600006       48.310001     194.729996    41.340000\n",
       "2008-01-08  271.399994       46.400002     189.500000    39.700001\n",
       "...                ...             ...            ...          ...\n",
       "2009-12-24   33.500000       29.600000     163.970001    41.889999\n",
       "2009-12-28   33.900002       29.290001     163.759995    41.720001\n",
       "2009-12-29   33.700001       29.430000     164.119995    41.490002\n",
       "2009-12-30   33.200001       29.490000     166.699997    41.529999\n",
       "2009-12-31   33.099998       29.600000     168.839996    41.669998\n",
       "\n",
       "[505 rows x 4 columns]"
      ]
     },
     "execution_count": 364,
     "metadata": {},
     "output_type": "execute_result"
    }
   ],
   "source": [
    "prices_with_citi = portfolio.loc['2008-01-02':'2009-12-31']\n",
    "prices_with_citi"
   ]
  },
  {
   "cell_type": "code",
   "execution_count": 365,
   "id": "999e06d6-0f0d-4e07-9ff0-a8743ace3c12",
   "metadata": {},
   "outputs": [
    {
     "data": {
      "text/html": [
       "<div>\n",
       "<style scoped>\n",
       "    .dataframe tbody tr th:only-of-type {\n",
       "        vertical-align: middle;\n",
       "    }\n",
       "\n",
       "    .dataframe tbody tr th {\n",
       "        vertical-align: top;\n",
       "    }\n",
       "\n",
       "    .dataframe thead th {\n",
       "        text-align: right;\n",
       "    }\n",
       "</style>\n",
       "<table border=\"1\" class=\"dataframe\">\n",
       "  <thead>\n",
       "    <tr style=\"text-align: right;\">\n",
       "      <th></th>\n",
       "      <th>Morgan Stanley</th>\n",
       "      <th>Goldman Sachs</th>\n",
       "      <th>J.P. Morgan</th>\n",
       "    </tr>\n",
       "    <tr>\n",
       "      <th>Date</th>\n",
       "      <th></th>\n",
       "      <th></th>\n",
       "      <th></th>\n",
       "    </tr>\n",
       "  </thead>\n",
       "  <tbody>\n",
       "    <tr>\n",
       "      <th>2008-01-02</th>\n",
       "      <td>50.950001</td>\n",
       "      <td>207.600006</td>\n",
       "      <td>42.169998</td>\n",
       "    </tr>\n",
       "    <tr>\n",
       "      <th>2008-01-03</th>\n",
       "      <td>50.939999</td>\n",
       "      <td>204.839996</td>\n",
       "      <td>41.880001</td>\n",
       "    </tr>\n",
       "    <tr>\n",
       "      <th>2008-01-04</th>\n",
       "      <td>49.299999</td>\n",
       "      <td>199.929993</td>\n",
       "      <td>40.930000</td>\n",
       "    </tr>\n",
       "    <tr>\n",
       "      <th>2008-01-07</th>\n",
       "      <td>48.310001</td>\n",
       "      <td>194.729996</td>\n",
       "      <td>41.340000</td>\n",
       "    </tr>\n",
       "    <tr>\n",
       "      <th>2008-01-08</th>\n",
       "      <td>46.400002</td>\n",
       "      <td>189.500000</td>\n",
       "      <td>39.700001</td>\n",
       "    </tr>\n",
       "    <tr>\n",
       "      <th>...</th>\n",
       "      <td>...</td>\n",
       "      <td>...</td>\n",
       "      <td>...</td>\n",
       "    </tr>\n",
       "    <tr>\n",
       "      <th>2009-12-24</th>\n",
       "      <td>29.600000</td>\n",
       "      <td>163.970001</td>\n",
       "      <td>41.889999</td>\n",
       "    </tr>\n",
       "    <tr>\n",
       "      <th>2009-12-28</th>\n",
       "      <td>29.290001</td>\n",
       "      <td>163.759995</td>\n",
       "      <td>41.720001</td>\n",
       "    </tr>\n",
       "    <tr>\n",
       "      <th>2009-12-29</th>\n",
       "      <td>29.430000</td>\n",
       "      <td>164.119995</td>\n",
       "      <td>41.490002</td>\n",
       "    </tr>\n",
       "    <tr>\n",
       "      <th>2009-12-30</th>\n",
       "      <td>29.490000</td>\n",
       "      <td>166.699997</td>\n",
       "      <td>41.529999</td>\n",
       "    </tr>\n",
       "    <tr>\n",
       "      <th>2009-12-31</th>\n",
       "      <td>29.600000</td>\n",
       "      <td>168.839996</td>\n",
       "      <td>41.669998</td>\n",
       "    </tr>\n",
       "  </tbody>\n",
       "</table>\n",
       "<p>505 rows × 3 columns</p>\n",
       "</div>"
      ],
      "text/plain": [
       "            Morgan Stanley  Goldman Sachs  J.P. Morgan\n",
       "Date                                                  \n",
       "2008-01-02       50.950001     207.600006    42.169998\n",
       "2008-01-03       50.939999     204.839996    41.880001\n",
       "2008-01-04       49.299999     199.929993    40.930000\n",
       "2008-01-07       48.310001     194.729996    41.340000\n",
       "2008-01-08       46.400002     189.500000    39.700001\n",
       "...                    ...            ...          ...\n",
       "2009-12-24       29.600000     163.970001    41.889999\n",
       "2009-12-28       29.290001     163.759995    41.720001\n",
       "2009-12-29       29.430000     164.119995    41.490002\n",
       "2009-12-30       29.490000     166.699997    41.529999\n",
       "2009-12-31       29.600000     168.839996    41.669998\n",
       "\n",
       "[505 rows x 3 columns]"
      ]
     },
     "execution_count": 365,
     "metadata": {},
     "output_type": "execute_result"
    }
   ],
   "source": [
    "prices_without_citi = prices_with_citi.drop('Citibank', axis=1)\n",
    "prices_without_citi"
   ]
  },
  {
   "cell_type": "code",
   "execution_count": 366,
   "id": "11d72157-0b6a-4d08-bb89-1ef9de7113c1",
   "metadata": {},
   "outputs": [
    {
     "data": {
      "text/plain": [
       "Date\n",
       "2008-01-02         NaN\n",
       "2008-01-03   -0.005006\n",
       "2008-01-04   -0.025675\n",
       "2008-01-07   -0.008841\n",
       "2008-01-08   -0.036424\n",
       "                ...   \n",
       "2009-12-24    0.008679\n",
       "2009-12-28   -0.000968\n",
       "2009-12-29   -0.001109\n",
       "2009-12-30    0.000972\n",
       "2009-12-31    0.004232\n",
       "Length: 505, dtype: float64"
      ]
     },
     "execution_count": 366,
     "metadata": {},
     "output_type": "execute_result"
    }
   ],
   "source": [
    "# Find the time series of returns with and without Citibank\n",
    "ret_with_citi = prices_with_citi.pct_change().dot(weights_with_citi)\n",
    "ret_with_citi\n"
   ]
  },
  {
   "cell_type": "code",
   "execution_count": 367,
   "id": "5ec61997-6dbe-4677-95cb-0ff4d73767a3",
   "metadata": {},
   "outputs": [
    {
     "data": {
      "text/plain": [
       "Date\n",
       "2008-01-02         NaN\n",
       "2008-01-03   -0.006789\n",
       "2008-01-04   -0.026283\n",
       "2008-01-07   -0.012024\n",
       "2008-01-08   -0.035355\n",
       "                ...   \n",
       "2009-12-24    0.005493\n",
       "2009-12-28   -0.005271\n",
       "2009-12-29    0.000488\n",
       "2009-12-30    0.006241\n",
       "2009-12-31    0.006646\n",
       "Length: 505, dtype: float64"
      ]
     },
     "execution_count": 367,
     "metadata": {},
     "output_type": "execute_result"
    }
   ],
   "source": [
    "ret_without_citi = prices_without_citi.pct_change().dot(weights_without_citi)\n",
    "ret_without_citi"
   ]
  },
  {
   "cell_type": "code",
   "execution_count": 368,
   "id": "2fdf7c62-3160-4d0d-b50e-f40e9b0021fe",
   "metadata": {},
   "outputs": [
    {
     "data": {
      "text/plain": [
       "Date\n",
       "2008-02-14    0.028005\n",
       "2008-02-15    0.028020\n",
       "2008-02-19    0.027794\n",
       "2008-02-20    0.028096\n",
       "2008-02-21    0.027372\n",
       "                ...   \n",
       "2009-12-24    0.015490\n",
       "2009-12-28    0.015228\n",
       "2009-12-29    0.015231\n",
       "2009-12-30    0.014714\n",
       "2009-12-31    0.014785\n",
       "Name: With Citi, Length: 475, dtype: float64"
      ]
     },
     "execution_count": 368,
     "metadata": {},
     "output_type": "execute_result"
    }
   ],
   "source": [
    "# Find the average 30-day rolling window volatility as the standard deviation\n",
    "vol_with_citi = ret_with_citi.rolling(30).std().dropna().rename(\"With Citi\")\n",
    "vol_with_citi"
   ]
  },
  {
   "cell_type": "code",
   "execution_count": 369,
   "id": "00079017-57bc-45c5-a5fc-9e147208b2cd",
   "metadata": {},
   "outputs": [
    {
     "data": {
      "text/plain": [
       "Date\n",
       "2008-02-14    0.027994\n",
       "2008-02-15    0.028037\n",
       "2008-02-19    0.027845\n",
       "2008-02-20    0.028248\n",
       "2008-02-21    0.027536\n",
       "                ...   \n",
       "2009-12-24    0.015105\n",
       "2009-12-28    0.014861\n",
       "2009-12-29    0.014861\n",
       "2009-12-30    0.014652\n",
       "2009-12-31    0.014714\n",
       "Name: Without Citi, Length: 475, dtype: float64"
      ]
     },
     "execution_count": 369,
     "metadata": {},
     "output_type": "execute_result"
    }
   ],
   "source": [
    "vol_without_citi = ret_without_citi.rolling(30).std().dropna().rename(\"Without Citi\")\n",
    "vol_without_citi\n"
   ]
  },
  {
   "cell_type": "code",
   "execution_count": 370,
   "id": "33052c63-e544-49d3-9a7a-f2a6faf0d7d4",
   "metadata": {},
   "outputs": [
    {
     "data": {
      "text/html": [
       "<div>\n",
       "<style scoped>\n",
       "    .dataframe tbody tr th:only-of-type {\n",
       "        vertical-align: middle;\n",
       "    }\n",
       "\n",
       "    .dataframe tbody tr th {\n",
       "        vertical-align: top;\n",
       "    }\n",
       "\n",
       "    .dataframe thead th {\n",
       "        text-align: right;\n",
       "    }\n",
       "</style>\n",
       "<table border=\"1\" class=\"dataframe\">\n",
       "  <thead>\n",
       "    <tr style=\"text-align: right;\">\n",
       "      <th></th>\n",
       "      <th>With Citi</th>\n",
       "      <th>Without Citi</th>\n",
       "    </tr>\n",
       "    <tr>\n",
       "      <th>Date</th>\n",
       "      <th></th>\n",
       "      <th></th>\n",
       "    </tr>\n",
       "  </thead>\n",
       "  <tbody>\n",
       "    <tr>\n",
       "      <th>2008-02-14</th>\n",
       "      <td>0.028005</td>\n",
       "      <td>0.027994</td>\n",
       "    </tr>\n",
       "    <tr>\n",
       "      <th>2008-02-15</th>\n",
       "      <td>0.028020</td>\n",
       "      <td>0.028037</td>\n",
       "    </tr>\n",
       "    <tr>\n",
       "      <th>2008-02-19</th>\n",
       "      <td>0.027794</td>\n",
       "      <td>0.027845</td>\n",
       "    </tr>\n",
       "    <tr>\n",
       "      <th>2008-02-20</th>\n",
       "      <td>0.028096</td>\n",
       "      <td>0.028248</td>\n",
       "    </tr>\n",
       "    <tr>\n",
       "      <th>2008-02-21</th>\n",
       "      <td>0.027372</td>\n",
       "      <td>0.027536</td>\n",
       "    </tr>\n",
       "    <tr>\n",
       "      <th>...</th>\n",
       "      <td>...</td>\n",
       "      <td>...</td>\n",
       "    </tr>\n",
       "    <tr>\n",
       "      <th>2009-12-24</th>\n",
       "      <td>0.015490</td>\n",
       "      <td>0.015105</td>\n",
       "    </tr>\n",
       "    <tr>\n",
       "      <th>2009-12-28</th>\n",
       "      <td>0.015228</td>\n",
       "      <td>0.014861</td>\n",
       "    </tr>\n",
       "    <tr>\n",
       "      <th>2009-12-29</th>\n",
       "      <td>0.015231</td>\n",
       "      <td>0.014861</td>\n",
       "    </tr>\n",
       "    <tr>\n",
       "      <th>2009-12-30</th>\n",
       "      <td>0.014714</td>\n",
       "      <td>0.014652</td>\n",
       "    </tr>\n",
       "    <tr>\n",
       "      <th>2009-12-31</th>\n",
       "      <td>0.014785</td>\n",
       "      <td>0.014714</td>\n",
       "    </tr>\n",
       "  </tbody>\n",
       "</table>\n",
       "<p>475 rows × 2 columns</p>\n",
       "</div>"
      ],
      "text/plain": [
       "            With Citi  Without Citi\n",
       "Date                               \n",
       "2008-02-14   0.028005      0.027994\n",
       "2008-02-15   0.028020      0.028037\n",
       "2008-02-19   0.027794      0.027845\n",
       "2008-02-20   0.028096      0.028248\n",
       "2008-02-21   0.027372      0.027536\n",
       "...               ...           ...\n",
       "2009-12-24   0.015490      0.015105\n",
       "2009-12-28   0.015228      0.014861\n",
       "2009-12-29   0.015231      0.014861\n",
       "2009-12-30   0.014714      0.014652\n",
       "2009-12-31   0.014785      0.014714\n",
       "\n",
       "[475 rows x 2 columns]"
      ]
     },
     "execution_count": 370,
     "metadata": {},
     "output_type": "execute_result"
    }
   ],
   "source": [
    "# Combine two volatilities into one Pandas DataFrame\n",
    "vol = pd.concat([vol_with_citi, vol_without_citi], axis=1)\n",
    "vol\n"
   ]
  },
  {
   "cell_type": "code",
   "execution_count": 371,
   "id": "82a72f9f-aad5-4256-a8ee-174730058bcb",
   "metadata": {},
   "outputs": [
    {
     "data": {
      "image/png": "[encoded data removed]",
      "text/plain": [
       "<Figure size 640x480 with 1 Axes>"
      ]
     },
     "metadata": {},
     "output_type": "display_data"
    }
   ],
   "source": [
    "# Plot volatilities over time\n",
    "vol.plot().set_ylabel(\"Losses\")\n",
    "plt.show()\n",
    "# The visualizations show that Citibank's volatility alone was not responsible for the increase in portfolio volatility during the crisis"
   ]
  },
  {
   "cell_type": "markdown",
   "id": "dc6a1c27-c720-4cc6-b022-8ef7c32af7d1",
   "metadata": {},
   "source": [
    "Extreme values and backtesting\n",
    "\n",
    "Extreme values are those which exceed a threshold and are used to determine if risk measures such as VaR are accurately reflecting the risk of loss.\n",
    "\n",
    "You'll explore extreme values by computing the 95% VaR of the equally-weighted investment bank portfolio for 2009-2010 (recall that this is equivalent to historical simulation from 2010 onwards), and then backtesting on data from 2007-2008.\n",
    "\n",
    "2009-2010 portfolio losses are available in estimate_data, from which you'll compute the 95% VaR estimate. Then find extreme values exceeding the VaR estimate, from the 2007-2008 portfolio losses in the available backtest_data.\n",
    "\n",
    "Compare the relative frequency of extreme values to the 95% VaR, and finally visualize the extreme values with a stem plot."
   ]
  },
  {
   "cell_type": "code",
   "execution_count": 379,
   "id": "cffb50a9-1802-4617-b72c-69bdfcded10f",
   "metadata": {},
   "outputs": [
    {
     "data": {
      "text/plain": [
       "Date\n",
       "2009-01-02   -0.036421\n",
       "2009-01-05    0.003756\n",
       "2009-01-06   -0.046415\n",
       "2009-01-07    0.056127\n",
       "2009-01-08   -0.005244\n",
       "                ...   \n",
       "2010-12-23    0.005974\n",
       "2010-12-27   -0.012551\n",
       "2010-12-28   -0.000594\n",
       "2010-12-29    0.007729\n",
       "2010-12-30    0.000818\n",
       "Length: 503, dtype: float64"
      ]
     },
     "execution_count": 379,
     "metadata": {},
     "output_type": "execute_result"
    }
   ],
   "source": [
    "estimate_data = portfolio.loc['2008-12-31':'2010-12-30'].pct_change().dot(weights).dropna()*(-1)\n",
    "estimate_data"
   ]
  },
  {
   "cell_type": "code",
   "execution_count": 382,
   "id": "592e4ba0-4d1a-49cf-be77-f2825b8ab368",
   "metadata": {},
   "outputs": [
    {
     "data": {
      "text/plain": [
       "Date\n",
       "2007-01-03    0.000909\n",
       "2007-01-04    0.001676\n",
       "2007-01-05    0.006345\n",
       "2007-01-08   -0.009508\n",
       "2007-01-09    0.003377\n",
       "                ...   \n",
       "2008-12-24   -0.021486\n",
       "2008-12-26    0.001213\n",
       "2008-12-29   -0.000096\n",
       "2008-12-30   -0.041903\n",
       "2008-12-31   -0.021971\n",
       "Length: 504, dtype: float64"
      ]
     },
     "execution_count": 382,
     "metadata": {},
     "output_type": "execute_result"
    }
   ],
   "source": [
    "backtest_data = portfolio.loc['2006-12-29':'2008-12-31'].pct_change().dot(weights).dropna()*(-1)\n",
    "backtest_data"
   ]
  },
  {
   "cell_type": "code",
   "execution_count": 386,
   "id": "6c47e470-043a-428d-baf1-eedfc181fc68",
   "metadata": {},
   "outputs": [
    {
     "data": {
      "text/plain": [
       "(0.04986983664383681, 0.05486141736584626)"
      ]
     },
     "execution_count": 386,
     "metadata": {},
     "output_type": "execute_result"
    }
   ],
   "source": [
    "# Compute the 95% VaR on 2009-2010 losses\n",
    "VaR_95_estimate = np.quantile(estimate_data, 0.95)\n",
    "VaR_95_backtest = np.quantile(backtest_data, 0.95)\n",
    "\n",
    "VaR_95_estimate, VaR_95_backtest"
   ]
  },
  {
   "cell_type": "code",
   "execution_count": 389,
   "id": "38fc9a99-75d1-4278-abea-1d52eed13172",
   "metadata": {},
   "outputs": [
    {
     "data": {
      "text/plain": [
       "Date\n",
       "2007-02-27    0.052700\n",
       "2007-08-09    0.053640\n",
       "2007-11-01    0.060247\n",
       "2007-12-11    0.053761\n",
       "2008-01-15    0.050889\n",
       "2008-02-05    0.057646\n",
       "2008-03-14    0.050890\n",
       "2008-06-06    0.056931\n",
       "2008-07-24    0.063266\n",
       "2008-07-28    0.050836\n",
       "2008-08-12    0.070784\n",
       "2008-09-09    0.058685\n",
       "2008-09-15    0.127359\n",
       "2008-09-17    0.153131\n",
       "2008-09-22    0.059433\n",
       "2008-09-29    0.136602\n",
       "2008-10-03    0.065001\n",
       "2008-10-07    0.139423\n",
       "2008-10-09    0.132694\n",
       "2008-10-15    0.108969\n",
       "2008-10-22    0.055056\n",
       "2008-10-24    0.074886\n",
       "2008-10-27    0.079480\n",
       "2008-11-05    0.096660\n",
       "2008-11-06    0.071750\n",
       "2008-11-10    0.064796\n",
       "2008-11-12    0.103504\n",
       "2008-11-14    0.050409\n",
       "2008-11-17    0.061592\n",
       "2008-11-19    0.151758\n",
       "2008-11-20    0.150729\n",
       "2008-12-01    0.198734\n",
       "2008-12-11    0.069775\n",
       "dtype: float64"
      ]
     },
     "execution_count": 389,
     "metadata": {},
     "output_type": "execute_result"
    }
   ],
   "source": [
    "# Find backtest_data exceeding the 95% VaR\n",
    "extreme_values = backtest_data[backtest_data > VaR_95_estimate]\n",
    "extreme_values"
   ]
  },
  {
   "cell_type": "code",
   "execution_count": 390,
   "id": "88eb53b8-6aa9-4d0a-8935-8141bd1c2330",
   "metadata": {},
   "outputs": [
    {
     "name": "stdout",
     "output_type": "stream",
     "text": [
      "VaR_95_estimate:  0.04986983664383681 ; Backtest:  0.06547619047619048\n"
     ]
    }
   ],
   "source": [
    "# Compare the fraction of extreme values for 2007-2008 to the Var_95 estimate\n",
    "print(\"VaR_95_estimate: \", VaR_95_estimate, \"; Backtest: \", len(extreme_values) / len(backtest_data) )"
   ]
  },
  {
   "cell_type": "code",
   "execution_count": 388,
   "id": "96e6f43a-f8a8-4e6a-86b7-232fdb67a3da",
   "metadata": {},
   "outputs": [
    {
     "data": {
      "image/png": "[encoded data removed]",
      "text/plain": [
       "<Figure size 640x480 with 1 Axes>"
      ]
     },
     "metadata": {},
     "output_type": "display_data"
    }
   ],
   "source": [
    "# Plot the extreme values and look for clustering\n",
    "plt.stem(extreme_values.index, extreme_values)\n",
    "plt.ylabel(\"Extreme values > VaR_95_estimate\"); plt.xlabel(\"Date\")\n",
    "plt.show()\n",
    "\n",
    "# Since the relative frequency of extreme events in 2007-2008 is higher than 5%, \n",
    "# the estimate of the 95% VaR from 2009-2010 data is not robust across the possible structural break identified in the previous exercise. \n",
    "# Backtesting remains an important verifier of risk measure estimates such as VaR."
   ]
  },
  {
   "cell_type": "code",
   "execution_count": null,
   "id": "7e787290-c25e-4dde-bd6c-36bac5e9acec",
   "metadata": {},
   "outputs": [],
   "source": []
  },
  {
   "cell_type": "code",
   "execution_count": null,
   "id": "72ef2f80-445b-44d8-b338-931b4a52b253",
   "metadata": {},
   "outputs": [],
   "source": []
  },
  {
   "cell_type": "code",
   "execution_count": null,
   "id": "4362e8de-f4e9-4ab4-a69d-5a054a09893e",
   "metadata": {},
   "outputs": [],
   "source": []
  },
  {
   "cell_type": "code",
   "execution_count": null,
   "id": "6dbe8f92-288d-4f64-9b12-962598c25612",
   "metadata": {},
   "outputs": [],
   "source": []
  },
  {
   "cell_type": "code",
   "execution_count": null,
   "id": "98f90206-803d-4f19-8409-7fe175a0be52",
   "metadata": {},
   "outputs": [],
   "source": []
  },
  {
   "cell_type": "code",
   "execution_count": null,
   "id": "6c23c3c8-f0da-433f-8bfb-fdcecb49138c",
   "metadata": {},
   "outputs": [],
   "source": []
  },
  {
   "cell_type": "code",
   "execution_count": null,
   "id": "22d5e7ff-e2f3-4f04-9844-8c8839e5abcb",
   "metadata": {},
   "outputs": [],
   "source": []
  },
  {
   "cell_type": "code",
   "execution_count": null,
   "id": "d2fd0b0d-b776-44f5-92fd-88ad77e01c53",
   "metadata": {},
   "outputs": [],
   "source": []
  }
 ],
 "metadata": {
  "kernelspec": {
   "display_name": "Python 3 (ipykernel)",
   "language": "python",
   "name": "python3"
  },
  "language_info": {
   "codemirror_mode": {
    "name": "ipython",
    "version": 3
   },
   "file_extension": ".py",
   "mimetype": "text/x-python",
   "name": "python",
   "nbconvert_exporter": "python",
   "pygments_lexer": "ipython3",
   "version": "3.10.10"
  }
 },
 "nbformat": 4,
 "nbformat_minor": 5
}
