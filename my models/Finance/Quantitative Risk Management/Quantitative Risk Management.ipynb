{
 "cells": [
  {
   "cell_type": "code",
   "execution_count": 1,
   "id": "158230c9-1d4c-4e52-99f5-5a3c229520dc",
   "metadata": {},
   "outputs": [],
   "source": [
    "import numpy as np\n",
    "import pandas as pd\n",
    "import matplotlib.pyplot as plt\n",
    "\n",
    "import statsmodels.api as sm\n",
    "\n",
    "from pypfopt.expected_returns import mean_historical_return\n",
    "from pypfopt.risk_models import CovarianceShrinkage\n",
    "from pypfopt import CLA"
   ]
  },
  {
   "cell_type": "markdown",
   "id": "a89a54d2-0286-4214-88b9-1c25d69f9a6c",
   "metadata": {},
   "source": [
    "Portfolio returns during the crisis\n",
    "\n",
    "The first step in quantifying the effects of uncertainty on a financial portfolio is to examine the portfolio's return. You'll consider a portfolio of four investment bank stocks, which were both instigators and victims of the global financial crisis.\n",
    "\n",
    "The banks are Citibank, Goldman Sachs, J.P. Morgan, and Morgan Stanley. Closing stock prices for the period 2005 - 2010 are in the available portfolio DataFrame. You'll use this to examine the dramatic price changes during the depths of the crisis, 2008 - 2009. You'll also see how volatile the resulting portfolio_returns were, assuming an equal-weighted portfolio with weights stored in the weights list."
   ]
  },
  {
   "cell_type": "code",
   "execution_count": 2,
   "id": "151822cc-4a79-4619-83ee-ab8ed7c6bc37",
   "metadata": {},
   "outputs": [
    {
     "name": "stderr",
     "output_type": "stream",
     "text": [
      "C:\\Users\\Alienware\\AppData\\Local\\Temp\\ipykernel_21264\\3914947465.py:2: UserWarning: Parsing dates in %d/%m/%Y format when dayfirst=False (the default) was specified. Pass `dayfirst=True` or specify a format to silence this warning.\n",
      "  portfolio.index = pd.to_datetime(portfolio.index)\n"
     ]
    },
    {
     "data": {
      "text/html": [
       "<div>\n",
       "<style scoped>\n",
       "    .dataframe tbody tr th:only-of-type {\n",
       "        vertical-align: middle;\n",
       "    }\n",
       "\n",
       "    .dataframe tbody tr th {\n",
       "        vertical-align: top;\n",
       "    }\n",
       "\n",
       "    .dataframe thead th {\n",
       "        text-align: right;\n",
       "    }\n",
       "</style>\n",
       "<table border=\"1\" class=\"dataframe\">\n",
       "  <thead>\n",
       "    <tr style=\"text-align: right;\">\n",
       "      <th></th>\n",
       "      <th>Citibank</th>\n",
       "      <th>Morgan Stanley</th>\n",
       "      <th>Goldman Sachs</th>\n",
       "      <th>J.P. Morgan</th>\n",
       "    </tr>\n",
       "    <tr>\n",
       "      <th>Date</th>\n",
       "      <th></th>\n",
       "      <th></th>\n",
       "      <th></th>\n",
       "      <th></th>\n",
       "    </tr>\n",
       "  </thead>\n",
       "  <tbody>\n",
       "    <tr>\n",
       "      <th>2004-12-31</th>\n",
       "      <td>481.799988</td>\n",
       "      <td>55.520000</td>\n",
       "      <td>104.040001</td>\n",
       "      <td>39.009998</td>\n",
       "    </tr>\n",
       "    <tr>\n",
       "      <th>2005-01-03</th>\n",
       "      <td>482.700012</td>\n",
       "      <td>55.900002</td>\n",
       "      <td>104.949997</td>\n",
       "      <td>39.150002</td>\n",
       "    </tr>\n",
       "    <tr>\n",
       "      <th>2005-01-04</th>\n",
       "      <td>478.600006</td>\n",
       "      <td>55.299999</td>\n",
       "      <td>104.269997</td>\n",
       "      <td>38.410000</td>\n",
       "    </tr>\n",
       "    <tr>\n",
       "      <th>2005-01-05</th>\n",
       "      <td>484.600006</td>\n",
       "      <td>54.980000</td>\n",
       "      <td>103.800003</td>\n",
       "      <td>38.490002</td>\n",
       "    </tr>\n",
       "    <tr>\n",
       "      <th>2005-01-06</th>\n",
       "      <td>489.299988</td>\n",
       "      <td>56.279999</td>\n",
       "      <td>105.230003</td>\n",
       "      <td>38.709999</td>\n",
       "    </tr>\n",
       "    <tr>\n",
       "      <th>...</th>\n",
       "      <td>...</td>\n",
       "      <td>...</td>\n",
       "      <td>...</td>\n",
       "      <td>...</td>\n",
       "    </tr>\n",
       "    <tr>\n",
       "      <th>2010-12-23</th>\n",
       "      <td>46.799999</td>\n",
       "      <td>27.410000</td>\n",
       "      <td>167.600006</td>\n",
       "      <td>42.080002</td>\n",
       "    </tr>\n",
       "    <tr>\n",
       "      <th>2010-12-27</th>\n",
       "      <td>47.700001</td>\n",
       "      <td>27.510000</td>\n",
       "      <td>169.830002</td>\n",
       "      <td>42.669998</td>\n",
       "    </tr>\n",
       "    <tr>\n",
       "      <th>2010-12-28</th>\n",
       "      <td>47.799999</td>\n",
       "      <td>27.660000</td>\n",
       "      <td>169.190002</td>\n",
       "      <td>42.610001</td>\n",
       "    </tr>\n",
       "    <tr>\n",
       "      <th>2010-12-29</th>\n",
       "      <td>47.700001</td>\n",
       "      <td>27.280001</td>\n",
       "      <td>167.630005</td>\n",
       "      <td>42.360001</td>\n",
       "    </tr>\n",
       "    <tr>\n",
       "      <th>2010-12-30</th>\n",
       "      <td>47.599998</td>\n",
       "      <td>27.330000</td>\n",
       "      <td>167.639999</td>\n",
       "      <td>42.230000</td>\n",
       "    </tr>\n",
       "  </tbody>\n",
       "</table>\n",
       "<p>1511 rows × 4 columns</p>\n",
       "</div>"
      ],
      "text/plain": [
       "              Citibank  Morgan Stanley  Goldman Sachs  J.P. Morgan\n",
       "Date                                                              \n",
       "2004-12-31  481.799988       55.520000     104.040001    39.009998\n",
       "2005-01-03  482.700012       55.900002     104.949997    39.150002\n",
       "2005-01-04  478.600006       55.299999     104.269997    38.410000\n",
       "2005-01-05  484.600006       54.980000     103.800003    38.490002\n",
       "2005-01-06  489.299988       56.279999     105.230003    38.709999\n",
       "...                ...             ...            ...          ...\n",
       "2010-12-23   46.799999       27.410000     167.600006    42.080002\n",
       "2010-12-27   47.700001       27.510000     169.830002    42.669998\n",
       "2010-12-28   47.799999       27.660000     169.190002    42.610001\n",
       "2010-12-29   47.700001       27.280001     167.630005    42.360001\n",
       "2010-12-30   47.599998       27.330000     167.639999    42.230000\n",
       "\n",
       "[1511 rows x 4 columns]"
      ]
     },
     "execution_count": 2,
     "metadata": {},
     "output_type": "execute_result"
    }
   ],
   "source": [
    "portfolio = pd.read_csv('crisis_portfolio.csv', index_col=0)\n",
    "portfolio.index = pd.to_datetime(portfolio.index)\n",
    "portfolio"
   ]
  },
  {
   "cell_type": "code",
   "execution_count": 3,
   "id": "25104019-3229-45a6-b590-eace140df695",
   "metadata": {},
   "outputs": [
    {
     "data": {
      "image/png": "[encoded data removed]",
      "text/plain": [
       "<Figure size 640x480 with 1 Axes>"
      ]
     },
     "metadata": {},
     "output_type": "display_data"
    }
   ],
   "source": [
    "# Select portfolio asset prices for the middle of the crisis, 2008-2009\n",
    "asset_prices = portfolio.loc['2008-01-01':'2009-12-31']\n",
    "\n",
    "# Plot portfolio's asset prices during this time\n",
    "asset_prices.plot().set_ylabel(\"Closing Prices, USD\")\n",
    "plt.show()"
   ]
  },
  {
   "cell_type": "code",
   "execution_count": 4,
   "id": "4b96a808-a22f-44c4-ade0-7c7b9c3608d9",
   "metadata": {},
   "outputs": [
    {
     "data": {
      "text/html": [
       "<div>\n",
       "<style scoped>\n",
       "    .dataframe tbody tr th:only-of-type {\n",
       "        vertical-align: middle;\n",
       "    }\n",
       "\n",
       "    .dataframe tbody tr th {\n",
       "        vertical-align: top;\n",
       "    }\n",
       "\n",
       "    .dataframe thead th {\n",
       "        text-align: right;\n",
       "    }\n",
       "</style>\n",
       "<table border=\"1\" class=\"dataframe\">\n",
       "  <thead>\n",
       "    <tr style=\"text-align: right;\">\n",
       "      <th></th>\n",
       "      <th>Citibank</th>\n",
       "      <th>Morgan Stanley</th>\n",
       "      <th>Goldman Sachs</th>\n",
       "      <th>J.P. Morgan</th>\n",
       "    </tr>\n",
       "    <tr>\n",
       "      <th>Date</th>\n",
       "      <th></th>\n",
       "      <th></th>\n",
       "      <th></th>\n",
       "      <th></th>\n",
       "    </tr>\n",
       "  </thead>\n",
       "  <tbody>\n",
       "    <tr>\n",
       "      <th>2008-01-02</th>\n",
       "      <td>NaN</td>\n",
       "      <td>NaN</td>\n",
       "      <td>NaN</td>\n",
       "      <td>NaN</td>\n",
       "    </tr>\n",
       "    <tr>\n",
       "      <th>2008-01-03</th>\n",
       "      <td>0.000346</td>\n",
       "      <td>-0.000196</td>\n",
       "      <td>-0.013295</td>\n",
       "      <td>-0.006877</td>\n",
       "    </tr>\n",
       "    <tr>\n",
       "      <th>2008-01-04</th>\n",
       "      <td>-0.023851</td>\n",
       "      <td>-0.032195</td>\n",
       "      <td>-0.023970</td>\n",
       "      <td>-0.022684</td>\n",
       "    </tr>\n",
       "    <tr>\n",
       "      <th>2008-01-07</th>\n",
       "      <td>0.000708</td>\n",
       "      <td>-0.020081</td>\n",
       "      <td>-0.026009</td>\n",
       "      <td>0.010017</td>\n",
       "    </tr>\n",
       "    <tr>\n",
       "      <th>2008-01-08</th>\n",
       "      <td>-0.039632</td>\n",
       "      <td>-0.039536</td>\n",
       "      <td>-0.026858</td>\n",
       "      <td>-0.039671</td>\n",
       "    </tr>\n",
       "    <tr>\n",
       "      <th>...</th>\n",
       "      <td>...</td>\n",
       "      <td>...</td>\n",
       "      <td>...</td>\n",
       "      <td>...</td>\n",
       "    </tr>\n",
       "    <tr>\n",
       "      <th>2009-12-24</th>\n",
       "      <td>0.018237</td>\n",
       "      <td>0.006460</td>\n",
       "      <td>0.002078</td>\n",
       "      <td>0.007940</td>\n",
       "    </tr>\n",
       "    <tr>\n",
       "      <th>2009-12-28</th>\n",
       "      <td>0.011940</td>\n",
       "      <td>-0.010473</td>\n",
       "      <td>-0.001281</td>\n",
       "      <td>-0.004058</td>\n",
       "    </tr>\n",
       "    <tr>\n",
       "      <th>2009-12-29</th>\n",
       "      <td>-0.005900</td>\n",
       "      <td>0.004780</td>\n",
       "      <td>0.002198</td>\n",
       "      <td>-0.005513</td>\n",
       "    </tr>\n",
       "    <tr>\n",
       "      <th>2009-12-30</th>\n",
       "      <td>-0.014837</td>\n",
       "      <td>0.002039</td>\n",
       "      <td>0.015720</td>\n",
       "      <td>0.000964</td>\n",
       "    </tr>\n",
       "    <tr>\n",
       "      <th>2009-12-31</th>\n",
       "      <td>-0.003012</td>\n",
       "      <td>0.003730</td>\n",
       "      <td>0.012837</td>\n",
       "      <td>0.003371</td>\n",
       "    </tr>\n",
       "  </tbody>\n",
       "</table>\n",
       "<p>505 rows × 4 columns</p>\n",
       "</div>"
      ],
      "text/plain": [
       "            Citibank  Morgan Stanley  Goldman Sachs  J.P. Morgan\n",
       "Date                                                            \n",
       "2008-01-02       NaN             NaN            NaN          NaN\n",
       "2008-01-03  0.000346       -0.000196      -0.013295    -0.006877\n",
       "2008-01-04 -0.023851       -0.032195      -0.023970    -0.022684\n",
       "2008-01-07  0.000708       -0.020081      -0.026009     0.010017\n",
       "2008-01-08 -0.039632       -0.039536      -0.026858    -0.039671\n",
       "...              ...             ...            ...          ...\n",
       "2009-12-24  0.018237        0.006460       0.002078     0.007940\n",
       "2009-12-28  0.011940       -0.010473      -0.001281    -0.004058\n",
       "2009-12-29 -0.005900        0.004780       0.002198    -0.005513\n",
       "2009-12-30 -0.014837        0.002039       0.015720     0.000964\n",
       "2009-12-31 -0.003012        0.003730       0.012837     0.003371\n",
       "\n",
       "[505 rows x 4 columns]"
      ]
     },
     "execution_count": 4,
     "metadata": {},
     "output_type": "execute_result"
    }
   ],
   "source": [
    "# Compute the portfolio's daily returns\n",
    "asset_returns = asset_prices.pct_change()\n",
    "asset_returns"
   ]
  },
  {
   "cell_type": "code",
   "execution_count": 5,
   "id": "2248f4de-d4d6-466b-ba34-50dda6685980",
   "metadata": {},
   "outputs": [
    {
     "data": {
      "text/plain": [
       "Date\n",
       "2008-01-02         NaN\n",
       "2008-01-03   -0.005006\n",
       "2008-01-04   -0.025675\n",
       "2008-01-07   -0.008841\n",
       "2008-01-08   -0.036424\n",
       "                ...   \n",
       "2009-12-24    0.008679\n",
       "2009-12-28   -0.000968\n",
       "2009-12-29   -0.001109\n",
       "2009-12-30    0.000972\n",
       "2009-12-31    0.004232\n",
       "Length: 505, dtype: float64"
      ]
     },
     "execution_count": 5,
     "metadata": {},
     "output_type": "execute_result"
    }
   ],
   "source": [
    "weights = [0.25, 0.25, 0.25, 0.25]\n",
    "\n",
    "portfolio_returns = asset_returns.dot(weights)\n",
    "portfolio_returns"
   ]
  },
  {
   "cell_type": "code",
   "execution_count": 6,
   "id": "0568f1f2-e657-499f-a19a-a59c0aae6a99",
   "metadata": {},
   "outputs": [
    {
     "data": {
      "image/png": "[encoded data removed]",
      "text/plain": [
       "<Figure size 640x480 with 1 Axes>"
      ]
     },
     "metadata": {},
     "output_type": "display_data"
    }
   ],
   "source": [
    "# Plot portfolio returns\n",
    "portfolio_returns.plot().set_ylabel(\"Daily Return, %\")\n",
    "plt.show()\n",
    "# The 'spikiness' of portfolio returns indicates how uncertain and volatile asset returns became."
   ]
  },
  {
   "cell_type": "markdown",
   "id": "b8a631ee-6218-4e74-bfa1-e0d3e86ee7b1",
   "metadata": {},
   "source": [
    "Asset covariance and portfolio volatility\n",
    "\n",
    "Now that you've examined the return of the portfolio of investment banks, it's time to assess the riskiness of the portfolio using the covariance matrix to determine the portfolio's volatility.\n",
    "\n",
    "First you'll compute the covariance between the asset_returns and identify which of the banks had the highest volatility during the 2008-2009 crisis period.\n",
    "\n",
    "Then, given the weights of an equal-weighted portfolio, you'll find the portfolio's annualized volatility for that period using portfolio_returns.\n",
    "\n",
    "Finally, you'll use a 30-day window to create a time series of the volatility, and visualize this with a plot."
   ]
  },
  {
   "cell_type": "code",
   "execution_count": 7,
   "id": "bbb2856f-12ca-4616-8fc9-45d2e7a40733",
   "metadata": {},
   "outputs": [
    {
     "data": {
      "text/html": [
       "<div>\n",
       "<style scoped>\n",
       "    .dataframe tbody tr th:only-of-type {\n",
       "        vertical-align: middle;\n",
       "    }\n",
       "\n",
       "    .dataframe tbody tr th {\n",
       "        vertical-align: top;\n",
       "    }\n",
       "\n",
       "    .dataframe thead th {\n",
       "        text-align: right;\n",
       "    }\n",
       "</style>\n",
       "<table border=\"1\" class=\"dataframe\">\n",
       "  <thead>\n",
       "    <tr style=\"text-align: right;\">\n",
       "      <th></th>\n",
       "      <th>Citibank</th>\n",
       "      <th>Morgan Stanley</th>\n",
       "      <th>Goldman Sachs</th>\n",
       "      <th>J.P. Morgan</th>\n",
       "    </tr>\n",
       "  </thead>\n",
       "  <tbody>\n",
       "    <tr>\n",
       "      <th>Citibank</th>\n",
       "      <td>1.475195</td>\n",
       "      <td>0.821707</td>\n",
       "      <td>0.573790</td>\n",
       "      <td>0.724639</td>\n",
       "    </tr>\n",
       "    <tr>\n",
       "      <th>Morgan Stanley</th>\n",
       "      <td>0.821707</td>\n",
       "      <td>1.298341</td>\n",
       "      <td>0.658895</td>\n",
       "      <td>0.560523</td>\n",
       "    </tr>\n",
       "    <tr>\n",
       "      <th>Goldman Sachs</th>\n",
       "      <td>0.573790</td>\n",
       "      <td>0.658895</td>\n",
       "      <td>0.500807</td>\n",
       "      <td>0.426979</td>\n",
       "    </tr>\n",
       "    <tr>\n",
       "      <th>J.P. Morgan</th>\n",
       "      <td>0.724639</td>\n",
       "      <td>0.560523</td>\n",
       "      <td>0.426979</td>\n",
       "      <td>0.685584</td>\n",
       "    </tr>\n",
       "  </tbody>\n",
       "</table>\n",
       "</div>"
      ],
      "text/plain": [
       "                Citibank  Morgan Stanley  Goldman Sachs  J.P. Morgan\n",
       "Citibank        1.475195        0.821707       0.573790     0.724639\n",
       "Morgan Stanley  0.821707        1.298341       0.658895     0.560523\n",
       "Goldman Sachs   0.573790        0.658895       0.500807     0.426979\n",
       "J.P. Morgan     0.724639        0.560523       0.426979     0.685584"
      ]
     },
     "execution_count": 7,
     "metadata": {},
     "output_type": "execute_result"
    }
   ],
   "source": [
    "# Generate the covariance matrix from portfolio asset's returns\n",
    "covariance = asset_returns.cov()\n",
    "\n",
    "# Annualize the covariance using 252 trading days per year\n",
    "covariance = covariance * 252\n",
    "\n",
    "covariance"
   ]
  },
  {
   "cell_type": "code",
   "execution_count": 8,
   "id": "b770083a-bf1f-4239-a5eb-98e7cd741b70",
   "metadata": {},
   "outputs": [
    {
     "data": {
      "text/plain": [
       "0.7183119341958923"
      ]
     },
     "execution_count": 8,
     "metadata": {},
     "output_type": "execute_result"
    }
   ],
   "source": [
    "# Compute and display portfolio volatility for 2008 - 2009\n",
    "portfolio_variance = np.transpose(weights) @ covariance @ weights\n",
    "# Compute portfolio_variance by using the @ matrix operator to multiply the transpose of weights, the covariance matrix, and untransposed weights\n",
    "portfolio_variance"
   ]
  },
  {
   "cell_type": "code",
   "execution_count": 9,
   "id": "0af2a772-4298-496a-8e2f-04cf071bdf4f",
   "metadata": {},
   "outputs": [
    {
     "data": {
      "text/plain": [
       "0.8475328513962702"
      ]
     },
     "execution_count": 9,
     "metadata": {},
     "output_type": "execute_result"
    }
   ],
   "source": [
    "portfolio_volatility = np.sqrt(portfolio_variance)\n",
    "portfolio_volatility"
   ]
  },
  {
   "cell_type": "code",
   "execution_count": 10,
   "id": "02ea9be7-0c78-43d3-9b44-b907aa9969da",
   "metadata": {},
   "outputs": [
    {
     "data": {
      "text/plain": [
       "Date\n",
       "2008-01-02         NaN\n",
       "2008-01-03         NaN\n",
       "2008-01-04         NaN\n",
       "2008-01-07         NaN\n",
       "2008-01-08         NaN\n",
       "                ...   \n",
       "2009-12-24    0.245894\n",
       "2009-12-28    0.241735\n",
       "2009-12-29    0.241782\n",
       "2009-12-30    0.233580\n",
       "2009-12-31    0.234701\n",
       "Length: 505, dtype: float64"
      ]
     },
     "execution_count": 10,
     "metadata": {},
     "output_type": "execute_result"
    }
   ],
   "source": [
    "# Calculate the 30-day rolling window of portfolio returns\n",
    "returns_windowed = portfolio_returns.rolling(30)\n",
    "\n",
    "# Compute the annualized volatility series\n",
    "volatility_series = returns_windowed.std()*np.sqrt(252)\n",
    "volatility_series"
   ]
  },
  {
   "cell_type": "code",
   "execution_count": 11,
   "id": "bfc06389-26ca-4916-9758-f4e70a6c9609",
   "metadata": {},
   "outputs": [
    {
     "data": {
      "image/png": "[encoded data removed]",
      "text/plain": [
       "<Figure size 640x480 with 1 Axes>"
      ]
     },
     "metadata": {},
     "output_type": "display_data"
    }
   ],
   "source": [
    "# Plot the portfolio volatility\n",
    "volatility_series.plot().set_ylabel(\"Annualized Volatility, 30-day Window\")\n",
    "plt.show()\n",
    "# The volatility plot shows that an equal-weighted portfolio of all four banks demonstrated a significant increase in volatility from late September 2008"
   ]
  },
  {
   "cell_type": "markdown",
   "id": "d61d2e05-919e-41ed-be03-17c9e34448a2",
   "metadata": {},
   "source": [
    "Frequency resampling primer\n",
    "\n",
    "Risk factor models often rely upon data that is of different frequencies. A typical example is when using quarterly macroeconomic data, such as prices, unemployment rates, etc., with financial data, which is often daily (or even intra-daily). To use both data sources in the same model, higher frequency data needs to be resampled to match the lower frequency data.\n",
    "\n",
    "The DataFrame and Series Pandas objects have a built-in .resample() method that specifies the lower frequency. This method is chained with a method to create the lower-frequency statistic, such as .mean() for the average of the data within the new frequency period, or .min() for the minimum of the data.\n",
    "\n",
    "In this exercise you'll practice converting daily returns data to weekly and quarterly frequency."
   ]
  },
  {
   "cell_type": "code",
   "execution_count": 12,
   "id": "f4c92895-db2e-4ab7-9c82-8847890cb5d4",
   "metadata": {},
   "outputs": [
    {
     "data": {
      "text/plain": [
       "Date\n",
       "2004-12-31         NaN\n",
       "2005-01-03    0.005262\n",
       "2005-01-04   -0.011152\n",
       "2005-01-05    0.001081\n",
       "2005-01-06    0.013209\n",
       "                ...   \n",
       "2010-12-23   -0.005974\n",
       "2010-12-27    0.012551\n",
       "2010-12-28    0.000594\n",
       "2010-12-29   -0.007729\n",
       "2010-12-30   -0.000818\n",
       "Length: 1511, dtype: float64"
      ]
     },
     "execution_count": 12,
     "metadata": {},
     "output_type": "execute_result"
    }
   ],
   "source": [
    "# Compute the portfolio's daily returns (all dates)\n",
    "returns = portfolio.pct_change().dot(weights)\n",
    "returns"
   ]
  },
  {
   "cell_type": "code",
   "execution_count": 13,
   "id": "e7e3e45b-56c7-4fb3-8b87-4b74b209b452",
   "metadata": {},
   "outputs": [
    {
     "name": "stderr",
     "output_type": "stream",
     "text": [
      "C:\\Users\\Alienware\\AppData\\Local\\Temp\\ipykernel_21264\\3463655282.py:2: FutureWarning: 'Q' is deprecated and will be removed in a future version, please use 'QE' instead.\n",
      "  returns_q_average = returns.resample('Q').mean()\n"
     ]
    },
    {
     "data": {
      "text/plain": [
       "Date\n",
       "2004-12-31         NaN\n",
       "2005-03-31   -0.000367\n",
       "2005-06-30   -0.000366\n",
       "2005-09-30    0.000615\n",
       "2005-12-31    0.001323\n",
       "2006-03-31    0.001384\n",
       "2006-06-30    0.000084\n",
       "2006-09-30    0.001654\n",
       "2006-12-31    0.001717\n",
       "2007-03-31   -0.000200\n",
       "2007-06-30    0.000509\n",
       "2007-09-30   -0.001446\n",
       "2007-12-31   -0.002300\n",
       "2008-03-31   -0.002337\n",
       "2008-06-30   -0.002166\n",
       "2008-09-30    0.000943\n",
       "2008-12-31   -0.003480\n",
       "2009-03-31    0.002415\n",
       "2009-06-30    0.004946\n",
       "2009-09-30    0.004516\n",
       "2009-12-31   -0.001940\n",
       "2010-03-31    0.001330\n",
       "2010-06-30   -0.002688\n",
       "2010-09-30    0.001088\n",
       "2010-12-31    0.002328\n",
       "Freq: QE-DEC, dtype: float64"
      ]
     },
     "execution_count": 13,
     "metadata": {},
     "output_type": "execute_result"
    }
   ],
   "source": [
    "# Convert daily returns to quarterly average returns\n",
    "returns_q_average = returns.resample('Q').mean()\n",
    "returns_q_average"
   ]
  },
  {
   "cell_type": "code",
   "execution_count": 14,
   "id": "c0010626-889a-41e0-a7e7-9bd0ad88ed68",
   "metadata": {},
   "outputs": [
    {
     "data": {
      "text/plain": [
       "Date\n",
       "2005-01-02         NaN\n",
       "2005-01-09   -0.011152\n",
       "2005-01-16   -0.007643\n",
       "2005-01-23   -0.011076\n",
       "2005-01-30   -0.000443\n",
       "                ...   \n",
       "2010-12-05   -0.009894\n",
       "2010-12-12    0.001379\n",
       "2010-12-19   -0.016622\n",
       "2010-12-26   -0.005974\n",
       "2011-01-02   -0.007729\n",
       "Freq: W-SUN, Length: 314, dtype: float64"
      ]
     },
     "execution_count": 14,
     "metadata": {},
     "output_type": "execute_result"
    }
   ],
   "source": [
    "# Now convert daily returns to weekly minimum returns\n",
    "returns_w_min = returns.resample('W').min()\n",
    "returns_w_min"
   ]
  },
  {
   "cell_type": "markdown",
   "id": "a098b788-4afe-4a28-a085-a44e3dd49d22",
   "metadata": {},
   "source": [
    "Visualizing risk factor correlation\n",
    "\n",
    "Investment banks heavily invested in mortgage-backed securities (MBS) before and during the financial crisis. This makes MBS a likely risk factor for the investment bank portfolio. You'll assess this using scatterplots between portfolio returns and an MBS risk measure, the 90-day mortgage delinquency rate mort_del.\n",
    "\n",
    "mort_del is only available as quarterly data. So portfolio_returns first needs to be transformed from daily to quarterly frequency using the DataFrame .resample() method."
   ]
  },
  {
   "cell_type": "code",
   "execution_count": 15,
   "id": "0bd062b0-f07a-4583-8c67-95698e0a50bf",
   "metadata": {},
   "outputs": [
    {
     "data": {
      "text/html": [
       "<div>\n",
       "<style scoped>\n",
       "    .dataframe tbody tr th:only-of-type {\n",
       "        vertical-align: middle;\n",
       "    }\n",
       "\n",
       "    .dataframe tbody tr th {\n",
       "        vertical-align: top;\n",
       "    }\n",
       "\n",
       "    .dataframe thead th {\n",
       "        text-align: right;\n",
       "    }\n",
       "</style>\n",
       "<table border=\"1\" class=\"dataframe\">\n",
       "  <thead>\n",
       "    <tr style=\"text-align: right;\">\n",
       "      <th></th>\n",
       "      <th>Mortgage Delinquency Rate</th>\n",
       "    </tr>\n",
       "    <tr>\n",
       "      <th>Date</th>\n",
       "      <th></th>\n",
       "    </tr>\n",
       "  </thead>\n",
       "  <tbody>\n",
       "    <tr>\n",
       "      <th>2005-03-31</th>\n",
       "      <td>0.0155</td>\n",
       "    </tr>\n",
       "    <tr>\n",
       "      <th>2005-06-30</th>\n",
       "      <td>0.0159</td>\n",
       "    </tr>\n",
       "    <tr>\n",
       "      <th>2005-09-30</th>\n",
       "      <td>0.0163</td>\n",
       "    </tr>\n",
       "    <tr>\n",
       "      <th>2005-12-31</th>\n",
       "      <td>0.0161</td>\n",
       "    </tr>\n",
       "    <tr>\n",
       "      <th>2006-03-31</th>\n",
       "      <td>0.0162</td>\n",
       "    </tr>\n",
       "    <tr>\n",
       "      <th>2006-06-30</th>\n",
       "      <td>0.0174</td>\n",
       "    </tr>\n",
       "    <tr>\n",
       "      <th>2006-09-30</th>\n",
       "      <td>0.0192</td>\n",
       "    </tr>\n",
       "    <tr>\n",
       "      <th>2006-12-31</th>\n",
       "      <td>0.0208</td>\n",
       "    </tr>\n",
       "    <tr>\n",
       "      <th>2007-03-31</th>\n",
       "      <td>0.0231</td>\n",
       "    </tr>\n",
       "    <tr>\n",
       "      <th>2007-06-30</th>\n",
       "      <td>0.0271</td>\n",
       "    </tr>\n",
       "    <tr>\n",
       "      <th>2007-09-30</th>\n",
       "      <td>0.0309</td>\n",
       "    </tr>\n",
       "    <tr>\n",
       "      <th>2007-12-31</th>\n",
       "      <td>0.0367</td>\n",
       "    </tr>\n",
       "    <tr>\n",
       "      <th>2008-03-31</th>\n",
       "      <td>0.0438</td>\n",
       "    </tr>\n",
       "    <tr>\n",
       "      <th>2008-06-30</th>\n",
       "      <td>0.0530</td>\n",
       "    </tr>\n",
       "    <tr>\n",
       "      <th>2008-09-30</th>\n",
       "      <td>0.0659</td>\n",
       "    </tr>\n",
       "    <tr>\n",
       "      <th>2008-12-31</th>\n",
       "      <td>0.0796</td>\n",
       "    </tr>\n",
       "    <tr>\n",
       "      <th>2009-03-31</th>\n",
       "      <td>0.0858</td>\n",
       "    </tr>\n",
       "    <tr>\n",
       "      <th>2009-06-30</th>\n",
       "      <td>0.0953</td>\n",
       "    </tr>\n",
       "    <tr>\n",
       "      <th>2009-09-30</th>\n",
       "      <td>0.1034</td>\n",
       "    </tr>\n",
       "    <tr>\n",
       "      <th>2009-12-31</th>\n",
       "      <td>0.1154</td>\n",
       "    </tr>\n",
       "    <tr>\n",
       "      <th>2010-03-31</th>\n",
       "      <td>0.1106</td>\n",
       "    </tr>\n",
       "    <tr>\n",
       "      <th>2010-06-30</th>\n",
       "      <td>0.1059</td>\n",
       "    </tr>\n",
       "    <tr>\n",
       "      <th>2010-09-30</th>\n",
       "      <td>0.1036</td>\n",
       "    </tr>\n",
       "    <tr>\n",
       "      <th>2010-12-31</th>\n",
       "      <td>0.1035</td>\n",
       "    </tr>\n",
       "  </tbody>\n",
       "</table>\n",
       "</div>"
      ],
      "text/plain": [
       "            Mortgage Delinquency Rate\n",
       "Date                                 \n",
       "2005-03-31                     0.0155\n",
       "2005-06-30                     0.0159\n",
       "2005-09-30                     0.0163\n",
       "2005-12-31                     0.0161\n",
       "2006-03-31                     0.0162\n",
       "2006-06-30                     0.0174\n",
       "2006-09-30                     0.0192\n",
       "2006-12-31                     0.0208\n",
       "2007-03-31                     0.0231\n",
       "2007-06-30                     0.0271\n",
       "2007-09-30                     0.0309\n",
       "2007-12-31                     0.0367\n",
       "2008-03-31                     0.0438\n",
       "2008-06-30                     0.0530\n",
       "2008-09-30                     0.0659\n",
       "2008-12-31                     0.0796\n",
       "2009-03-31                     0.0858\n",
       "2009-06-30                     0.0953\n",
       "2009-09-30                     0.1034\n",
       "2009-12-31                     0.1154\n",
       "2010-03-31                     0.1106\n",
       "2010-06-30                     0.1059\n",
       "2010-09-30                     0.1036\n",
       "2010-12-31                     0.1035"
      ]
     },
     "execution_count": 15,
     "metadata": {},
     "output_type": "execute_result"
    }
   ],
   "source": [
    "mort_del = pd.read_csv('mortgage_delinquency.csv', index_col=0)\n",
    "mort_del"
   ]
  },
  {
   "cell_type": "code",
   "execution_count": 16,
   "id": "e8d491d5-4a4b-4e03-bf1e-9d54fb99d38b",
   "metadata": {},
   "outputs": [
    {
     "data": {
      "text/plain": [
       "Date\n",
       "2005-03-31   -0.000367\n",
       "2005-06-30   -0.000366\n",
       "2005-09-30    0.000615\n",
       "2005-12-31    0.001323\n",
       "2006-03-31    0.001384\n",
       "2006-06-30    0.000084\n",
       "2006-09-30    0.001654\n",
       "2006-12-31    0.001717\n",
       "2007-03-31   -0.000200\n",
       "2007-06-30    0.000509\n",
       "2007-09-30   -0.001446\n",
       "2007-12-31   -0.002300\n",
       "2008-03-31   -0.002337\n",
       "2008-06-30   -0.002166\n",
       "2008-09-30    0.000943\n",
       "2008-12-31   -0.003480\n",
       "2009-03-31    0.002415\n",
       "2009-06-30    0.004946\n",
       "2009-09-30    0.004516\n",
       "2009-12-31   -0.001940\n",
       "2010-03-31    0.001330\n",
       "2010-06-30   -0.002688\n",
       "2010-09-30    0.001088\n",
       "2010-12-31    0.002328\n",
       "Freq: QE-DEC, dtype: float64"
      ]
     },
     "execution_count": 16,
     "metadata": {},
     "output_type": "execute_result"
    }
   ],
   "source": [
    "# Transform the daily portfolio_returns into quarterly average returns\n",
    "portfolio_q_average = returns_q_average.dropna()\n",
    "portfolio_q_average"
   ]
  },
  {
   "cell_type": "code",
   "execution_count": 17,
   "id": "29babe2a-1c48-4834-b270-f2fd2faadbfa",
   "metadata": {},
   "outputs": [
    {
     "data": {
      "text/plain": [
       "<matplotlib.collections.PathCollection at 0x29d9a423580>"
      ]
     },
     "execution_count": 17,
     "metadata": {},
     "output_type": "execute_result"
    },
    {
     "data": {
      "image/png": "[encoded data removed]",
      "text/plain": [
       "<Figure size 640x480 with 1 Axes>"
      ]
     },
     "metadata": {},
     "output_type": "display_data"
    }
   ],
   "source": [
    "# Create a scatterplot between delinquency and quarterly average returns\n",
    "plt.scatter(x=mort_del, y=portfolio_q_average)"
   ]
  },
  {
   "cell_type": "code",
   "execution_count": 18,
   "id": "0ba4654f-417d-46e8-927c-cdb3c4dfd7b2",
   "metadata": {},
   "outputs": [
    {
     "name": "stderr",
     "output_type": "stream",
     "text": [
      "C:\\Users\\Alienware\\AppData\\Local\\Temp\\ipykernel_21264\\1296270179.py:2: FutureWarning: 'Q' is deprecated and will be removed in a future version, please use 'QE' instead.\n",
      "  portfolio_q_min = returns.resample('Q').min().dropna()\n"
     ]
    },
    {
     "data": {
      "text/plain": [
       "Date\n",
       "2005-03-31   -0.021728\n",
       "2005-06-30   -0.022794\n",
       "2005-09-30   -0.014764\n",
       "2005-12-31   -0.013551\n",
       "2006-03-31   -0.028963\n",
       "2006-06-30   -0.034735\n",
       "2006-09-30   -0.019315\n",
       "2006-12-31   -0.024550\n",
       "2007-03-31   -0.052700\n",
       "2007-06-30   -0.024104\n",
       "2007-09-30   -0.053640\n",
       "2007-12-31   -0.060247\n",
       "2008-03-31   -0.057646\n",
       "2008-06-30   -0.056931\n",
       "2008-09-30   -0.153131\n",
       "2008-12-31   -0.198734\n",
       "2009-03-31   -0.189147\n",
       "2009-06-30   -0.101852\n",
       "2009-09-30   -0.054325\n",
       "2009-12-31   -0.050587\n",
       "2010-03-31   -0.051042\n",
       "2010-06-30   -0.070714\n",
       "2010-09-30   -0.034097\n",
       "2010-12-31   -0.028097\n",
       "Freq: QE-DEC, dtype: float64"
      ]
     },
     "execution_count": 18,
     "metadata": {},
     "output_type": "execute_result"
    }
   ],
   "source": [
    "# Transform daily portfolio_returns returns into quarterly minimum returns\n",
    "portfolio_q_min = returns.resample('Q').min().dropna()\n",
    "portfolio_q_min"
   ]
  },
  {
   "cell_type": "code",
   "execution_count": 19,
   "id": "6fa4ae12-c5e4-43b7-9ecf-f8f32bfb99e0",
   "metadata": {},
   "outputs": [
    {
     "data": {
      "text/plain": [
       "<matplotlib.collections.PathCollection at 0x29d9a4662f0>"
      ]
     },
     "execution_count": 19,
     "metadata": {},
     "output_type": "execute_result"
    },
    {
     "data": {
      "image/png": "[encoded data removed]",
      "text/plain": [
       "<Figure size 640x480 with 1 Axes>"
      ]
     },
     "metadata": {},
     "output_type": "display_data"
    }
   ],
   "source": [
    "# Create a scatterplot between delinquency and quarterly minimum returns\n",
    "plt.scatter(x=mort_del, y=portfolio_q_min)"
   ]
  },
  {
   "cell_type": "markdown",
   "id": "22c84da4-aac8-4455-84c8-69058f16752a",
   "metadata": {},
   "source": [
    "Least-squares factor model\n",
    "\n",
    "As you've seen, there is a negative correlation between minimum quarterly returns and mortgage delinquency rates from 2005 - 2010. This can be made more precise with an OLS regression factor model.\n",
    "\n",
    "You'll compare three factor models with three different quarterly dependent variables: average returns, minimum returns, and average volatility. The independent variable is the mortgage delinquency rate. In the regression summary, examine the coefficients' t-statistic for statistical significance, as well as the overall R-squared for goodness of fit."
   ]
  },
  {
   "cell_type": "code",
   "execution_count": 20,
   "id": "179cc66f-15ea-4d8e-a973-a8f9d81db07c",
   "metadata": {},
   "outputs": [
    {
     "data": {
      "text/html": [
       "<div>\n",
       "<style scoped>\n",
       "    .dataframe tbody tr th:only-of-type {\n",
       "        vertical-align: middle;\n",
       "    }\n",
       "\n",
       "    .dataframe tbody tr th {\n",
       "        vertical-align: top;\n",
       "    }\n",
       "\n",
       "    .dataframe thead th {\n",
       "        text-align: right;\n",
       "    }\n",
       "</style>\n",
       "<table border=\"1\" class=\"dataframe\">\n",
       "  <thead>\n",
       "    <tr style=\"text-align: right;\">\n",
       "      <th></th>\n",
       "      <th>const</th>\n",
       "      <th>Mortgage Delinquency Rate</th>\n",
       "    </tr>\n",
       "    <tr>\n",
       "      <th>Date</th>\n",
       "      <th></th>\n",
       "      <th></th>\n",
       "    </tr>\n",
       "  </thead>\n",
       "  <tbody>\n",
       "    <tr>\n",
       "      <th>2005-03-31</th>\n",
       "      <td>1.0</td>\n",
       "      <td>0.0155</td>\n",
       "    </tr>\n",
       "    <tr>\n",
       "      <th>2005-06-30</th>\n",
       "      <td>1.0</td>\n",
       "      <td>0.0159</td>\n",
       "    </tr>\n",
       "    <tr>\n",
       "      <th>2005-09-30</th>\n",
       "      <td>1.0</td>\n",
       "      <td>0.0163</td>\n",
       "    </tr>\n",
       "    <tr>\n",
       "      <th>2005-12-31</th>\n",
       "      <td>1.0</td>\n",
       "      <td>0.0161</td>\n",
       "    </tr>\n",
       "    <tr>\n",
       "      <th>2006-03-31</th>\n",
       "      <td>1.0</td>\n",
       "      <td>0.0162</td>\n",
       "    </tr>\n",
       "    <tr>\n",
       "      <th>2006-06-30</th>\n",
       "      <td>1.0</td>\n",
       "      <td>0.0174</td>\n",
       "    </tr>\n",
       "    <tr>\n",
       "      <th>2006-09-30</th>\n",
       "      <td>1.0</td>\n",
       "      <td>0.0192</td>\n",
       "    </tr>\n",
       "    <tr>\n",
       "      <th>2006-12-31</th>\n",
       "      <td>1.0</td>\n",
       "      <td>0.0208</td>\n",
       "    </tr>\n",
       "    <tr>\n",
       "      <th>2007-03-31</th>\n",
       "      <td>1.0</td>\n",
       "      <td>0.0231</td>\n",
       "    </tr>\n",
       "    <tr>\n",
       "      <th>2007-06-30</th>\n",
       "      <td>1.0</td>\n",
       "      <td>0.0271</td>\n",
       "    </tr>\n",
       "    <tr>\n",
       "      <th>2007-09-30</th>\n",
       "      <td>1.0</td>\n",
       "      <td>0.0309</td>\n",
       "    </tr>\n",
       "    <tr>\n",
       "      <th>2007-12-31</th>\n",
       "      <td>1.0</td>\n",
       "      <td>0.0367</td>\n",
       "    </tr>\n",
       "    <tr>\n",
       "      <th>2008-03-31</th>\n",
       "      <td>1.0</td>\n",
       "      <td>0.0438</td>\n",
       "    </tr>\n",
       "    <tr>\n",
       "      <th>2008-06-30</th>\n",
       "      <td>1.0</td>\n",
       "      <td>0.0530</td>\n",
       "    </tr>\n",
       "    <tr>\n",
       "      <th>2008-09-30</th>\n",
       "      <td>1.0</td>\n",
       "      <td>0.0659</td>\n",
       "    </tr>\n",
       "    <tr>\n",
       "      <th>2008-12-31</th>\n",
       "      <td>1.0</td>\n",
       "      <td>0.0796</td>\n",
       "    </tr>\n",
       "    <tr>\n",
       "      <th>2009-03-31</th>\n",
       "      <td>1.0</td>\n",
       "      <td>0.0858</td>\n",
       "    </tr>\n",
       "    <tr>\n",
       "      <th>2009-06-30</th>\n",
       "      <td>1.0</td>\n",
       "      <td>0.0953</td>\n",
       "    </tr>\n",
       "    <tr>\n",
       "      <th>2009-09-30</th>\n",
       "      <td>1.0</td>\n",
       "      <td>0.1034</td>\n",
       "    </tr>\n",
       "    <tr>\n",
       "      <th>2009-12-31</th>\n",
       "      <td>1.0</td>\n",
       "      <td>0.1154</td>\n",
       "    </tr>\n",
       "    <tr>\n",
       "      <th>2010-03-31</th>\n",
       "      <td>1.0</td>\n",
       "      <td>0.1106</td>\n",
       "    </tr>\n",
       "    <tr>\n",
       "      <th>2010-06-30</th>\n",
       "      <td>1.0</td>\n",
       "      <td>0.1059</td>\n",
       "    </tr>\n",
       "    <tr>\n",
       "      <th>2010-09-30</th>\n",
       "      <td>1.0</td>\n",
       "      <td>0.1036</td>\n",
       "    </tr>\n",
       "    <tr>\n",
       "      <th>2010-12-31</th>\n",
       "      <td>1.0</td>\n",
       "      <td>0.1035</td>\n",
       "    </tr>\n",
       "  </tbody>\n",
       "</table>\n",
       "</div>"
      ],
      "text/plain": [
       "            const  Mortgage Delinquency Rate\n",
       "Date                                        \n",
       "2005-03-31    1.0                     0.0155\n",
       "2005-06-30    1.0                     0.0159\n",
       "2005-09-30    1.0                     0.0163\n",
       "2005-12-31    1.0                     0.0161\n",
       "2006-03-31    1.0                     0.0162\n",
       "2006-06-30    1.0                     0.0174\n",
       "2006-09-30    1.0                     0.0192\n",
       "2006-12-31    1.0                     0.0208\n",
       "2007-03-31    1.0                     0.0231\n",
       "2007-06-30    1.0                     0.0271\n",
       "2007-09-30    1.0                     0.0309\n",
       "2007-12-31    1.0                     0.0367\n",
       "2008-03-31    1.0                     0.0438\n",
       "2008-06-30    1.0                     0.0530\n",
       "2008-09-30    1.0                     0.0659\n",
       "2008-12-31    1.0                     0.0796\n",
       "2009-03-31    1.0                     0.0858\n",
       "2009-06-30    1.0                     0.0953\n",
       "2009-09-30    1.0                     0.1034\n",
       "2009-12-31    1.0                     0.1154\n",
       "2010-03-31    1.0                     0.1106\n",
       "2010-06-30    1.0                     0.1059\n",
       "2010-09-30    1.0                     0.1036\n",
       "2010-12-31    1.0                     0.1035"
      ]
     },
     "execution_count": 20,
     "metadata": {},
     "output_type": "execute_result"
    }
   ],
   "source": [
    "# Add a constant to the regression\n",
    "mort_del = pd.DataFrame(sm.add_constant(mort_del))\n",
    "mort_del.index = pd.to_datetime(mort_del.index)\n",
    "mort_del"
   ]
  },
  {
   "cell_type": "code",
   "execution_count": 21,
   "id": "6c30e0d9-ff68-46a5-8b73-ff5ad71f7688",
   "metadata": {},
   "outputs": [
    {
     "data": {
      "text/html": [
       "<table class=\"simpletable\">\n",
       "<caption>OLS Regression Results</caption>\n",
       "<tr>\n",
       "  <th>Dep. Variable:</th>            <td>y</td>        <th>  R-squared:         </th> <td>   0.178</td>\n",
       "</tr>\n",
       "<tr>\n",
       "  <th>Model:</th>                   <td>OLS</td>       <th>  Adj. R-squared:    </th> <td>   0.141</td>\n",
       "</tr>\n",
       "<tr>\n",
       "  <th>Method:</th>             <td>Least Squares</td>  <th>  F-statistic:       </th> <td>   4.761</td>\n",
       "</tr>\n",
       "<tr>\n",
       "  <th>Date:</th>             <td>Tue, 25 Feb 2025</td> <th>  Prob (F-statistic):</th>  <td>0.0401</td> \n",
       "</tr>\n",
       "<tr>\n",
       "  <th>Time:</th>                 <td>03:02:21</td>     <th>  Log-Likelihood:    </th> <td>  39.937</td>\n",
       "</tr>\n",
       "<tr>\n",
       "  <th>No. Observations:</th>      <td>    24</td>      <th>  AIC:               </th> <td>  -75.87</td>\n",
       "</tr>\n",
       "<tr>\n",
       "  <th>Df Residuals:</th>          <td>    22</td>      <th>  BIC:               </th> <td>  -73.52</td>\n",
       "</tr>\n",
       "<tr>\n",
       "  <th>Df Model:</th>              <td>     1</td>      <th>                     </th>     <td> </td>   \n",
       "</tr>\n",
       "<tr>\n",
       "  <th>Covariance Type:</th>      <td>nonrobust</td>    <th>                     </th>     <td> </td>   \n",
       "</tr>\n",
       "</table>\n",
       "<table class=\"simpletable\">\n",
       "<tr>\n",
       "              <td></td>                 <th>coef</th>     <th>std err</th>      <th>t</th>      <th>P>|t|</th>  <th>[0.025</th>    <th>0.975]</th>  \n",
       "</tr>\n",
       "<tr>\n",
       "  <th>const</th>                     <td>   -0.0279</td> <td>    0.017</td> <td>   -1.611</td> <td> 0.121</td> <td>   -0.064</td> <td>    0.008</td>\n",
       "</tr>\n",
       "<tr>\n",
       "  <th>Mortgage Delinquency Rate</th> <td>   -0.5664</td> <td>    0.260</td> <td>   -2.182</td> <td> 0.040</td> <td>   -1.105</td> <td>   -0.028</td>\n",
       "</tr>\n",
       "</table>\n",
       "<table class=\"simpletable\">\n",
       "<tr>\n",
       "  <th>Omnibus:</th>       <td>13.525</td> <th>  Durbin-Watson:     </th> <td>   0.513</td>\n",
       "</tr>\n",
       "<tr>\n",
       "  <th>Prob(Omnibus):</th> <td> 0.001</td> <th>  Jarque-Bera (JB):  </th> <td>  12.333</td>\n",
       "</tr>\n",
       "<tr>\n",
       "  <th>Skew:</th>          <td>-1.534</td> <th>  Prob(JB):          </th> <td> 0.00210</td>\n",
       "</tr>\n",
       "<tr>\n",
       "  <th>Kurtosis:</th>      <td> 4.710</td> <th>  Cond. No.          </th> <td>    26.7</td>\n",
       "</tr>\n",
       "</table><br/><br/>Notes:<br/>[1] Standard Errors assume that the covariance matrix of the errors is correctly specified."
      ],
      "text/latex": [
       "\\begin{center}\n",
       "\\begin{tabular}{lclc}\n",
       "\\toprule\n",
       "\\textbf{Dep. Variable:}            &        y         & \\textbf{  R-squared:         } &     0.178   \\\\\n",
       "\\textbf{Model:}                    &       OLS        & \\textbf{  Adj. R-squared:    } &     0.141   \\\\\n",
       "\\textbf{Method:}                   &  Least Squares   & \\textbf{  F-statistic:       } &     4.761   \\\\\n",
       "\\textbf{Date:}                     & Tue, 25 Feb 2025 & \\textbf{  Prob (F-statistic):} &   0.0401    \\\\\n",
       "\\textbf{Time:}                     &     03:02:21     & \\textbf{  Log-Likelihood:    } &    39.937   \\\\\n",
       "\\textbf{No. Observations:}         &          24      & \\textbf{  AIC:               } &    -75.87   \\\\\n",
       "\\textbf{Df Residuals:}             &          22      & \\textbf{  BIC:               } &    -73.52   \\\\\n",
       "\\textbf{Df Model:}                 &           1      & \\textbf{                     } &             \\\\\n",
       "\\textbf{Covariance Type:}          &    nonrobust     & \\textbf{                     } &             \\\\\n",
       "\\bottomrule\n",
       "\\end{tabular}\n",
       "\\begin{tabular}{lcccccc}\n",
       "                                   & \\textbf{coef} & \\textbf{std err} & \\textbf{t} & \\textbf{P$> |$t$|$} & \\textbf{[0.025} & \\textbf{0.975]}  \\\\\n",
       "\\midrule\n",
       "\\textbf{const}                     &      -0.0279  &        0.017     &    -1.611  &         0.121        &       -0.064    &        0.008     \\\\\n",
       "\\textbf{Mortgage Delinquency Rate} &      -0.5664  &        0.260     &    -2.182  &         0.040        &       -1.105    &       -0.028     \\\\\n",
       "\\bottomrule\n",
       "\\end{tabular}\n",
       "\\begin{tabular}{lclc}\n",
       "\\textbf{Omnibus:}       & 13.525 & \\textbf{  Durbin-Watson:     } &    0.513  \\\\\n",
       "\\textbf{Prob(Omnibus):} &  0.001 & \\textbf{  Jarque-Bera (JB):  } &   12.333  \\\\\n",
       "\\textbf{Skew:}          & -1.534 & \\textbf{  Prob(JB):          } &  0.00210  \\\\\n",
       "\\textbf{Kurtosis:}      &  4.710 & \\textbf{  Cond. No.          } &     26.7  \\\\\n",
       "\\bottomrule\n",
       "\\end{tabular}\n",
       "%\\caption{OLS Regression Results}\n",
       "\\end{center}\n",
       "\n",
       "Notes: \\newline\n",
       " [1] Standard Errors assume that the covariance matrix of the errors is correctly specified."
      ],
      "text/plain": [
       "<class 'statsmodels.iolib.summary.Summary'>\n",
       "\"\"\"\n",
       "                            OLS Regression Results                            \n",
       "==============================================================================\n",
       "Dep. Variable:                      y   R-squared:                       0.178\n",
       "Model:                            OLS   Adj. R-squared:                  0.141\n",
       "Method:                 Least Squares   F-statistic:                     4.761\n",
       "Date:                Tue, 25 Feb 2025   Prob (F-statistic):             0.0401\n",
       "Time:                        03:02:21   Log-Likelihood:                 39.937\n",
       "No. Observations:                  24   AIC:                            -75.87\n",
       "Df Residuals:                      22   BIC:                            -73.52\n",
       "Df Model:                           1                                         \n",
       "Covariance Type:            nonrobust                                         \n",
       "=============================================================================================\n",
       "                                coef    std err          t      P>|t|      [0.025      0.975]\n",
       "---------------------------------------------------------------------------------------------\n",
       "const                        -0.0279      0.017     -1.611      0.121      -0.064       0.008\n",
       "Mortgage Delinquency Rate    -0.5664      0.260     -2.182      0.040      -1.105      -0.028\n",
       "==============================================================================\n",
       "Omnibus:                       13.525   Durbin-Watson:                   0.513\n",
       "Prob(Omnibus):                  0.001   Jarque-Bera (JB):               12.333\n",
       "Skew:                          -1.534   Prob(JB):                      0.00210\n",
       "Kurtosis:                       4.710   Cond. No.                         26.7\n",
       "==============================================================================\n",
       "\n",
       "Notes:\n",
       "[1] Standard Errors assume that the covariance matrix of the errors is correctly specified.\n",
       "\"\"\""
      ]
     },
     "execution_count": 21,
     "metadata": {},
     "output_type": "execute_result"
    }
   ],
   "source": [
    "# Create the regression factor model against the minimum returns and fit it to the data\n",
    "results_min = sm.OLS(portfolio_q_min, mort_del).fit()\n",
    "\n",
    "results_min.summary()"
   ]
  },
  {
   "cell_type": "code",
   "execution_count": 22,
   "id": "58a7d497-9e81-4e7d-8124-900f2548edb8",
   "metadata": {},
   "outputs": [
    {
     "data": {
      "text/html": [
       "<table class=\"simpletable\">\n",
       "<caption>OLS Regression Results</caption>\n",
       "<tr>\n",
       "  <th>Dep. Variable:</th>            <td>y</td>        <th>  R-squared:         </th> <td>   0.021</td>\n",
       "</tr>\n",
       "<tr>\n",
       "  <th>Model:</th>                   <td>OLS</td>       <th>  Adj. R-squared:    </th> <td>  -0.023</td>\n",
       "</tr>\n",
       "<tr>\n",
       "  <th>Method:</th>             <td>Least Squares</td>  <th>  F-statistic:       </th> <td>  0.4801</td>\n",
       "</tr>\n",
       "<tr>\n",
       "  <th>Date:</th>             <td>Tue, 25 Feb 2025</td> <th>  Prob (F-statistic):</th>  <td> 0.496</td> \n",
       "</tr>\n",
       "<tr>\n",
       "  <th>Time:</th>                 <td>03:02:21</td>     <th>  Log-Likelihood:    </th> <td>  113.89</td>\n",
       "</tr>\n",
       "<tr>\n",
       "  <th>No. Observations:</th>      <td>    24</td>      <th>  AIC:               </th> <td>  -223.8</td>\n",
       "</tr>\n",
       "<tr>\n",
       "  <th>Df Residuals:</th>          <td>    22</td>      <th>  BIC:               </th> <td>  -221.4</td>\n",
       "</tr>\n",
       "<tr>\n",
       "  <th>Df Model:</th>              <td>     1</td>      <th>                     </th>     <td> </td>   \n",
       "</tr>\n",
       "<tr>\n",
       "  <th>Covariance Type:</th>      <td>nonrobust</td>    <th>                     </th>     <td> </td>   \n",
       "</tr>\n",
       "</table>\n",
       "<table class=\"simpletable\">\n",
       "<tr>\n",
       "              <td></td>                 <th>coef</th>     <th>std err</th>      <th>t</th>      <th>P>|t|</th>  <th>[0.025</th>    <th>0.975]</th>  \n",
       "</tr>\n",
       "<tr>\n",
       "  <th>const</th>                     <td>   -0.0001</td> <td>    0.001</td> <td>   -0.175</td> <td> 0.862</td> <td>   -0.002</td> <td>    0.002</td>\n",
       "</tr>\n",
       "<tr>\n",
       "  <th>Mortgage Delinquency Rate</th> <td>    0.0083</td> <td>    0.012</td> <td>    0.693</td> <td> 0.496</td> <td>   -0.016</td> <td>    0.033</td>\n",
       "</tr>\n",
       "</table>\n",
       "<table class=\"simpletable\">\n",
       "<tr>\n",
       "  <th>Omnibus:</th>       <td> 0.081</td> <th>  Durbin-Watson:     </th> <td>   1.604</td>\n",
       "</tr>\n",
       "<tr>\n",
       "  <th>Prob(Omnibus):</th> <td> 0.960</td> <th>  Jarque-Bera (JB):  </th> <td>   0.293</td>\n",
       "</tr>\n",
       "<tr>\n",
       "  <th>Skew:</th>          <td>-0.071</td> <th>  Prob(JB):          </th> <td>   0.864</td>\n",
       "</tr>\n",
       "<tr>\n",
       "  <th>Kurtosis:</th>      <td> 2.477</td> <th>  Cond. No.          </th> <td>    26.7</td>\n",
       "</tr>\n",
       "</table><br/><br/>Notes:<br/>[1] Standard Errors assume that the covariance matrix of the errors is correctly specified."
      ],
      "text/latex": [
       "\\begin{center}\n",
       "\\begin{tabular}{lclc}\n",
       "\\toprule\n",
       "\\textbf{Dep. Variable:}            &        y         & \\textbf{  R-squared:         } &     0.021   \\\\\n",
       "\\textbf{Model:}                    &       OLS        & \\textbf{  Adj. R-squared:    } &    -0.023   \\\\\n",
       "\\textbf{Method:}                   &  Least Squares   & \\textbf{  F-statistic:       } &    0.4801   \\\\\n",
       "\\textbf{Date:}                     & Tue, 25 Feb 2025 & \\textbf{  Prob (F-statistic):} &    0.496    \\\\\n",
       "\\textbf{Time:}                     &     03:02:21     & \\textbf{  Log-Likelihood:    } &    113.89   \\\\\n",
       "\\textbf{No. Observations:}         &          24      & \\textbf{  AIC:               } &    -223.8   \\\\\n",
       "\\textbf{Df Residuals:}             &          22      & \\textbf{  BIC:               } &    -221.4   \\\\\n",
       "\\textbf{Df Model:}                 &           1      & \\textbf{                     } &             \\\\\n",
       "\\textbf{Covariance Type:}          &    nonrobust     & \\textbf{                     } &             \\\\\n",
       "\\bottomrule\n",
       "\\end{tabular}\n",
       "\\begin{tabular}{lcccccc}\n",
       "                                   & \\textbf{coef} & \\textbf{std err} & \\textbf{t} & \\textbf{P$> |$t$|$} & \\textbf{[0.025} & \\textbf{0.975]}  \\\\\n",
       "\\midrule\n",
       "\\textbf{const}                     &      -0.0001  &        0.001     &    -0.175  &         0.862        &       -0.002    &        0.002     \\\\\n",
       "\\textbf{Mortgage Delinquency Rate} &       0.0083  &        0.012     &     0.693  &         0.496        &       -0.016    &        0.033     \\\\\n",
       "\\bottomrule\n",
       "\\end{tabular}\n",
       "\\begin{tabular}{lclc}\n",
       "\\textbf{Omnibus:}       &  0.081 & \\textbf{  Durbin-Watson:     } &    1.604  \\\\\n",
       "\\textbf{Prob(Omnibus):} &  0.960 & \\textbf{  Jarque-Bera (JB):  } &    0.293  \\\\\n",
       "\\textbf{Skew:}          & -0.071 & \\textbf{  Prob(JB):          } &    0.864  \\\\\n",
       "\\textbf{Kurtosis:}      &  2.477 & \\textbf{  Cond. No.          } &     26.7  \\\\\n",
       "\\bottomrule\n",
       "\\end{tabular}\n",
       "%\\caption{OLS Regression Results}\n",
       "\\end{center}\n",
       "\n",
       "Notes: \\newline\n",
       " [1] Standard Errors assume that the covariance matrix of the errors is correctly specified."
      ],
      "text/plain": [
       "<class 'statsmodels.iolib.summary.Summary'>\n",
       "\"\"\"\n",
       "                            OLS Regression Results                            \n",
       "==============================================================================\n",
       "Dep. Variable:                      y   R-squared:                       0.021\n",
       "Model:                            OLS   Adj. R-squared:                 -0.023\n",
       "Method:                 Least Squares   F-statistic:                    0.4801\n",
       "Date:                Tue, 25 Feb 2025   Prob (F-statistic):              0.496\n",
       "Time:                        03:02:21   Log-Likelihood:                 113.89\n",
       "No. Observations:                  24   AIC:                            -223.8\n",
       "Df Residuals:                      22   BIC:                            -221.4\n",
       "Df Model:                           1                                         \n",
       "Covariance Type:            nonrobust                                         \n",
       "=============================================================================================\n",
       "                                coef    std err          t      P>|t|      [0.025      0.975]\n",
       "---------------------------------------------------------------------------------------------\n",
       "const                        -0.0001      0.001     -0.175      0.862      -0.002       0.002\n",
       "Mortgage Delinquency Rate     0.0083      0.012      0.693      0.496      -0.016       0.033\n",
       "==============================================================================\n",
       "Omnibus:                        0.081   Durbin-Watson:                   1.604\n",
       "Prob(Omnibus):                  0.960   Jarque-Bera (JB):                0.293\n",
       "Skew:                          -0.071   Prob(JB):                        0.864\n",
       "Kurtosis:                       2.477   Cond. No.                         26.7\n",
       "==============================================================================\n",
       "\n",
       "Notes:\n",
       "[1] Standard Errors assume that the covariance matrix of the errors is correctly specified.\n",
       "\"\"\""
      ]
     },
     "execution_count": 22,
     "metadata": {},
     "output_type": "execute_result"
    }
   ],
   "source": [
    "# Create the regression factor model against the average returns and fit it to the data\n",
    "results_average = sm.OLS(portfolio_q_average, mort_del).fit()\n",
    "\n",
    "results_average.summary()"
   ]
  },
  {
   "cell_type": "code",
   "execution_count": 23,
   "id": "57f701c2-5eb1-4915-83ff-f44dfc6fb8d5",
   "metadata": {},
   "outputs": [
    {
     "data": {
      "text/plain": [
       "Date\n",
       "2004-12-31         NaN\n",
       "2005-01-03         NaN\n",
       "2005-01-04         NaN\n",
       "2005-01-05         NaN\n",
       "2005-01-06         NaN\n",
       "                ...   \n",
       "2010-12-23    0.014272\n",
       "2010-12-27    0.014294\n",
       "2010-12-28    0.013875\n",
       "2010-12-29    0.013898\n",
       "2010-12-30    0.013523\n",
       "Length: 1511, dtype: float64"
      ]
     },
     "execution_count": 23,
     "metadata": {},
     "output_type": "execute_result"
    }
   ],
   "source": [
    "# Volatility on a 30 days rolling windows\n",
    "\n",
    "roll_vol = returns.rolling(30).std() # *np.sqrt(252)\n",
    "roll_vol"
   ]
  },
  {
   "cell_type": "code",
   "execution_count": 24,
   "id": "9e2899dc-4aef-4f10-b492-4a6c2d1e2f28",
   "metadata": {},
   "outputs": [
    {
     "name": "stderr",
     "output_type": "stream",
     "text": [
      "C:\\Users\\Alienware\\AppData\\Local\\Temp\\ipykernel_21264\\1486146786.py:3: FutureWarning: 'Q' is deprecated and will be removed in a future version, please use 'QE' instead.\n",
      "  vol_q_mean = roll_vol.resample('Q').mean().dropna()\n"
     ]
    },
    {
     "data": {
      "text/plain": [
       "Date\n",
       "2005-03-31    0.008443\n",
       "2005-06-30    0.010162\n",
       "2005-09-30    0.006568\n",
       "2005-12-31    0.008331\n",
       "2006-03-31    0.008348\n",
       "2006-06-30    0.010891\n",
       "2006-09-30    0.011391\n",
       "2006-12-31    0.007944\n",
       "2007-03-31    0.011416\n",
       "2007-06-30    0.010885\n",
       "2007-09-30    0.018846\n",
       "2007-12-31    0.023776\n",
       "2008-03-31    0.028066\n",
       "2008-06-30    0.029841\n",
       "2008-09-30    0.041124\n",
       "2008-12-31    0.094289\n",
       "2009-03-31    0.079853\n",
       "2009-06-30    0.054279\n",
       "2009-09-30    0.022798\n",
       "2009-12-31    0.020090\n",
       "2010-03-31    0.017484\n",
       "2010-06-30    0.021403\n",
       "2010-09-30    0.016759\n",
       "2010-12-31    0.015765\n",
       "Freq: QE-DEC, dtype: float64"
      ]
     },
     "execution_count": 24,
     "metadata": {},
     "output_type": "execute_result"
    }
   ],
   "source": [
    "# Quarterly resampled volatility\n",
    "\n",
    "vol_q_mean = roll_vol.resample('Q').mean().dropna()\n",
    "vol_q_mean"
   ]
  },
  {
   "cell_type": "code",
   "execution_count": 25,
   "id": "efc50dae-4246-4817-8cdc-c18ca237907a",
   "metadata": {},
   "outputs": [
    {
     "data": {
      "text/html": [
       "<table class=\"simpletable\">\n",
       "<caption>OLS Regression Results</caption>\n",
       "<tr>\n",
       "  <th>Dep. Variable:</th>            <td>y</td>        <th>  R-squared:         </th> <td>   0.190</td>\n",
       "</tr>\n",
       "<tr>\n",
       "  <th>Model:</th>                   <td>OLS</td>       <th>  Adj. R-squared:    </th> <td>   0.154</td>\n",
       "</tr>\n",
       "<tr>\n",
       "  <th>Method:</th>             <td>Least Squares</td>  <th>  F-statistic:       </th> <td>   5.174</td>\n",
       "</tr>\n",
       "<tr>\n",
       "  <th>Date:</th>             <td>Tue, 25 Feb 2025</td> <th>  Prob (F-statistic):</th>  <td>0.0330</td> \n",
       "</tr>\n",
       "<tr>\n",
       "  <th>Time:</th>                 <td>03:02:21</td>     <th>  Log-Likelihood:    </th> <td>  60.015</td>\n",
       "</tr>\n",
       "<tr>\n",
       "  <th>No. Observations:</th>      <td>    24</td>      <th>  AIC:               </th> <td>  -116.0</td>\n",
       "</tr>\n",
       "<tr>\n",
       "  <th>Df Residuals:</th>          <td>    22</td>      <th>  BIC:               </th> <td>  -113.7</td>\n",
       "</tr>\n",
       "<tr>\n",
       "  <th>Df Model:</th>              <td>     1</td>      <th>                     </th>     <td> </td>   \n",
       "</tr>\n",
       "<tr>\n",
       "  <th>Covariance Type:</th>      <td>nonrobust</td>    <th>                     </th>     <td> </td>   \n",
       "</tr>\n",
       "</table>\n",
       "<table class=\"simpletable\">\n",
       "<tr>\n",
       "              <td></td>                 <th>coef</th>     <th>std err</th>      <th>t</th>      <th>P>|t|</th>  <th>[0.025</th>    <th>0.975]</th>  \n",
       "</tr>\n",
       "<tr>\n",
       "  <th>const</th>                     <td>    0.0100</td> <td>    0.007</td> <td>    1.339</td> <td> 0.194</td> <td>   -0.006</td> <td>    0.026</td>\n",
       "</tr>\n",
       "<tr>\n",
       "  <th>Mortgage Delinquency Rate</th> <td>    0.2558</td> <td>    0.112</td> <td>    2.275</td> <td> 0.033</td> <td>    0.023</td> <td>    0.489</td>\n",
       "</tr>\n",
       "</table>\n",
       "<table class=\"simpletable\">\n",
       "<tr>\n",
       "  <th>Omnibus:</th>       <td>19.324</td> <th>  Durbin-Watson:     </th> <td>   0.517</td>\n",
       "</tr>\n",
       "<tr>\n",
       "  <th>Prob(Omnibus):</th> <td> 0.000</td> <th>  Jarque-Bera (JB):  </th> <td>  23.053</td>\n",
       "</tr>\n",
       "<tr>\n",
       "  <th>Skew:</th>          <td> 1.814</td> <th>  Prob(JB):          </th> <td>9.87e-06</td>\n",
       "</tr>\n",
       "<tr>\n",
       "  <th>Kurtosis:</th>      <td> 6.145</td> <th>  Cond. No.          </th> <td>    26.7</td>\n",
       "</tr>\n",
       "</table><br/><br/>Notes:<br/>[1] Standard Errors assume that the covariance matrix of the errors is correctly specified."
      ],
      "text/latex": [
       "\\begin{center}\n",
       "\\begin{tabular}{lclc}\n",
       "\\toprule\n",
       "\\textbf{Dep. Variable:}            &        y         & \\textbf{  R-squared:         } &     0.190   \\\\\n",
       "\\textbf{Model:}                    &       OLS        & \\textbf{  Adj. R-squared:    } &     0.154   \\\\\n",
       "\\textbf{Method:}                   &  Least Squares   & \\textbf{  F-statistic:       } &     5.174   \\\\\n",
       "\\textbf{Date:}                     & Tue, 25 Feb 2025 & \\textbf{  Prob (F-statistic):} &   0.0330    \\\\\n",
       "\\textbf{Time:}                     &     03:02:21     & \\textbf{  Log-Likelihood:    } &    60.015   \\\\\n",
       "\\textbf{No. Observations:}         &          24      & \\textbf{  AIC:               } &    -116.0   \\\\\n",
       "\\textbf{Df Residuals:}             &          22      & \\textbf{  BIC:               } &    -113.7   \\\\\n",
       "\\textbf{Df Model:}                 &           1      & \\textbf{                     } &             \\\\\n",
       "\\textbf{Covariance Type:}          &    nonrobust     & \\textbf{                     } &             \\\\\n",
       "\\bottomrule\n",
       "\\end{tabular}\n",
       "\\begin{tabular}{lcccccc}\n",
       "                                   & \\textbf{coef} & \\textbf{std err} & \\textbf{t} & \\textbf{P$> |$t$|$} & \\textbf{[0.025} & \\textbf{0.975]}  \\\\\n",
       "\\midrule\n",
       "\\textbf{const}                     &       0.0100  &        0.007     &     1.339  &         0.194        &       -0.006    &        0.026     \\\\\n",
       "\\textbf{Mortgage Delinquency Rate} &       0.2558  &        0.112     &     2.275  &         0.033        &        0.023    &        0.489     \\\\\n",
       "\\bottomrule\n",
       "\\end{tabular}\n",
       "\\begin{tabular}{lclc}\n",
       "\\textbf{Omnibus:}       & 19.324 & \\textbf{  Durbin-Watson:     } &    0.517  \\\\\n",
       "\\textbf{Prob(Omnibus):} &  0.000 & \\textbf{  Jarque-Bera (JB):  } &   23.053  \\\\\n",
       "\\textbf{Skew:}          &  1.814 & \\textbf{  Prob(JB):          } & 9.87e-06  \\\\\n",
       "\\textbf{Kurtosis:}      &  6.145 & \\textbf{  Cond. No.          } &     26.7  \\\\\n",
       "\\bottomrule\n",
       "\\end{tabular}\n",
       "%\\caption{OLS Regression Results}\n",
       "\\end{center}\n",
       "\n",
       "Notes: \\newline\n",
       " [1] Standard Errors assume that the covariance matrix of the errors is correctly specified."
      ],
      "text/plain": [
       "<class 'statsmodels.iolib.summary.Summary'>\n",
       "\"\"\"\n",
       "                            OLS Regression Results                            \n",
       "==============================================================================\n",
       "Dep. Variable:                      y   R-squared:                       0.190\n",
       "Model:                            OLS   Adj. R-squared:                  0.154\n",
       "Method:                 Least Squares   F-statistic:                     5.174\n",
       "Date:                Tue, 25 Feb 2025   Prob (F-statistic):             0.0330\n",
       "Time:                        03:02:21   Log-Likelihood:                 60.015\n",
       "No. Observations:                  24   AIC:                            -116.0\n",
       "Df Residuals:                      22   BIC:                            -113.7\n",
       "Df Model:                           1                                         \n",
       "Covariance Type:            nonrobust                                         \n",
       "=============================================================================================\n",
       "                                coef    std err          t      P>|t|      [0.025      0.975]\n",
       "---------------------------------------------------------------------------------------------\n",
       "const                         0.0100      0.007      1.339      0.194      -0.006       0.026\n",
       "Mortgage Delinquency Rate     0.2558      0.112      2.275      0.033       0.023       0.489\n",
       "==============================================================================\n",
       "Omnibus:                       19.324   Durbin-Watson:                   0.517\n",
       "Prob(Omnibus):                  0.000   Jarque-Bera (JB):               23.053\n",
       "Skew:                           1.814   Prob(JB):                     9.87e-06\n",
       "Kurtosis:                       6.145   Cond. No.                         26.7\n",
       "==============================================================================\n",
       "\n",
       "Notes:\n",
       "[1] Standard Errors assume that the covariance matrix of the errors is correctly specified.\n",
       "\"\"\""
      ]
     },
     "execution_count": 25,
     "metadata": {},
     "output_type": "execute_result"
    }
   ],
   "source": [
    "# Create the regression factor model and fit it to the data\n",
    "results = sm.OLS(vol_q_mean, mort_del).fit()\n",
    "\n",
    "results.summary()"
   ]
  },
  {
   "cell_type": "markdown",
   "id": "ad8a3a47-96d8-4d87-a09b-3ce7ff5da20d",
   "metadata": {},
   "source": [
    "As seen from the regressions, mortgage delinquencies are acting as a systematic risk factor for both minimum quarterly returns and average volatility of returns, but _not_ for average quarterly returns. The R-squared goodness of fit isn't high in any case, but a model with more factors would likely generate greater explanatory power."
   ]
  },
  {
   "cell_type": "markdown",
   "id": "ab65fb5e-8c59-4f63-88a4-0f4b80be8586",
   "metadata": {},
   "source": [
    "Practice with PyPortfolioOpt: returns\n",
    "    \n",
    "Modern Portfolio Theory is the cornerstone of portfolio risk management, because the efficient frontier is a standard method of assessing both investor risk appetite and market risk-return tradeoffs. In this exercise you'll develop powerful tools to explore a portfolio's efficient frontier, using the PyPortfolioOpt pypfopt Python library.\n",
    "\n",
    "To compute the efficient frontier, both expected returns and the covariance matrix of the portfolio are required.\n",
    "\n",
    "After some practice loading the investment bank price data, you'll use pypfopt.expected_returns's mean_historical_return method to compute and visualize the annualized average returns of each bank from daily asset prices. The following exercise will then cover the covariance matrix."
   ]
  },
  {
   "cell_type": "code",
   "execution_count": 26,
   "id": "bd2e3246-b8a7-48be-836b-e9ae80c67fa4",
   "metadata": {},
   "outputs": [
    {
     "data": {
      "text/plain": [
       "Citibank         -0.320429\n",
       "Morgan Stanley   -0.111555\n",
       "Goldman Sachs     0.082867\n",
       "J.P. Morgan       0.013324\n",
       "dtype: float64"
      ]
     },
     "execution_count": 26,
     "metadata": {},
     "output_type": "execute_result"
    }
   ],
   "source": [
    "# Compute the annualized average historical return\n",
    "mean_returns = mean_historical_return(portfolio, frequency = 252)\n",
    "mean_returns"
   ]
  },
  {
   "cell_type": "code",
   "execution_count": 27,
   "id": "d1a676fc-5dde-4083-9e0c-83bbb4ab13e1",
   "metadata": {},
   "outputs": [
    {
     "data": {
      "image/png": "[encoded data removed]",
      "text/plain": [
       "<Figure size 640x480 with 1 Axes>"
      ]
     },
     "metadata": {},
     "output_type": "display_data"
    }
   ],
   "source": [
    "# Plot the annualized average historical return\n",
    "plt.plot(mean_returns, linestyle = 'None', marker = 'o')\n",
    "plt.show()"
   ]
  },
  {
   "cell_type": "markdown",
   "id": "350dd6d6-709c-40ec-a495-f73e160f64cc",
   "metadata": {},
   "source": [
    "Practice with PyPortfolioOpt: covariance\n",
    "    \n",
    "Portfolio optimization relies upon an unbiased and efficient estimate of asset covariance. Although sample covariance is unbiased, it is not efficient--extreme events tend to be overweighted.\n",
    "\n",
    "One approach to alleviate this is through \"covariance shrinkage\", where large errors are reduced ('shrunk') to improve efficiency. In this exercise, you'll use pypfopt.risk_models's CovarianceShrinkage object to transform sample covariance into an efficient estimate. The textbook error shrinkage method, .ledoit_wolf(), is a method of this object.\n",
    "\n",
    "Asset prices are available in your workspace. Note that although the CovarianceShrinkage object takes prices as input, it actually calculates the covariance matrix of asset returns, not prices."
   ]
  },
  {
   "cell_type": "code",
   "execution_count": 28,
   "id": "81e326e7-16d4-4b30-9e7f-10082e633641",
   "metadata": {},
   "outputs": [
    {
     "data": {
      "text/html": [
       "<div>\n",
       "<style scoped>\n",
       "    .dataframe tbody tr th:only-of-type {\n",
       "        vertical-align: middle;\n",
       "    }\n",
       "\n",
       "    .dataframe tbody tr th {\n",
       "        vertical-align: top;\n",
       "    }\n",
       "\n",
       "    .dataframe thead th {\n",
       "        text-align: right;\n",
       "    }\n",
       "</style>\n",
       "<table border=\"1\" class=\"dataframe\">\n",
       "  <thead>\n",
       "    <tr style=\"text-align: right;\">\n",
       "      <th></th>\n",
       "      <th>Citibank</th>\n",
       "      <th>Morgan Stanley</th>\n",
       "      <th>Goldman Sachs</th>\n",
       "      <th>J.P. Morgan</th>\n",
       "    </tr>\n",
       "  </thead>\n",
       "  <tbody>\n",
       "    <tr>\n",
       "      <th>Citibank</th>\n",
       "      <td>0.536214</td>\n",
       "      <td>0.305045</td>\n",
       "      <td>0.217993</td>\n",
       "      <td>0.269784</td>\n",
       "    </tr>\n",
       "    <tr>\n",
       "      <th>Morgan Stanley</th>\n",
       "      <td>0.305045</td>\n",
       "      <td>0.491993</td>\n",
       "      <td>0.258625</td>\n",
       "      <td>0.218310</td>\n",
       "    </tr>\n",
       "    <tr>\n",
       "      <th>Goldman Sachs</th>\n",
       "      <td>0.217993</td>\n",
       "      <td>0.258625</td>\n",
       "      <td>0.217686</td>\n",
       "      <td>0.170937</td>\n",
       "    </tr>\n",
       "    <tr>\n",
       "      <th>J.P. Morgan</th>\n",
       "      <td>0.269784</td>\n",
       "      <td>0.218310</td>\n",
       "      <td>0.170937</td>\n",
       "      <td>0.264315</td>\n",
       "    </tr>\n",
       "  </tbody>\n",
       "</table>\n",
       "</div>"
      ],
      "text/plain": [
       "                Citibank  Morgan Stanley  Goldman Sachs  J.P. Morgan\n",
       "Citibank        0.536214        0.305045       0.217993     0.269784\n",
       "Morgan Stanley  0.305045        0.491993       0.258625     0.218310\n",
       "Goldman Sachs   0.217993        0.258625       0.217686     0.170937\n",
       "J.P. Morgan     0.269784        0.218310       0.170937     0.264315"
      ]
     },
     "execution_count": 28,
     "metadata": {},
     "output_type": "execute_result"
    }
   ],
   "source": [
    "# Compute the sample covariance matrix of returns\n",
    "sample_cov = portfolio.pct_change().cov() * 252\n",
    "sample_cov"
   ]
  },
  {
   "cell_type": "code",
   "execution_count": 29,
   "id": "0259d5b9-16e3-4da6-b525-67976019edba",
   "metadata": {},
   "outputs": [
    {
     "data": {
      "text/html": [
       "<div>\n",
       "<style scoped>\n",
       "    .dataframe tbody tr th:only-of-type {\n",
       "        vertical-align: middle;\n",
       "    }\n",
       "\n",
       "    .dataframe tbody tr th {\n",
       "        vertical-align: top;\n",
       "    }\n",
       "\n",
       "    .dataframe thead th {\n",
       "        text-align: right;\n",
       "    }\n",
       "</style>\n",
       "<table border=\"1\" class=\"dataframe\">\n",
       "  <thead>\n",
       "    <tr style=\"text-align: right;\">\n",
       "      <th></th>\n",
       "      <th>Citibank</th>\n",
       "      <th>Morgan Stanley</th>\n",
       "      <th>Goldman Sachs</th>\n",
       "      <th>J.P. Morgan</th>\n",
       "    </tr>\n",
       "  </thead>\n",
       "  <tbody>\n",
       "    <tr>\n",
       "      <th>Citibank</th>\n",
       "      <td>0.527505</td>\n",
       "      <td>0.288782</td>\n",
       "      <td>0.206371</td>\n",
       "      <td>0.255401</td>\n",
       "    </tr>\n",
       "    <tr>\n",
       "      <th>Morgan Stanley</th>\n",
       "      <td>0.288782</td>\n",
       "      <td>0.485642</td>\n",
       "      <td>0.244837</td>\n",
       "      <td>0.206671</td>\n",
       "    </tr>\n",
       "    <tr>\n",
       "      <th>Goldman Sachs</th>\n",
       "      <td>0.206371</td>\n",
       "      <td>0.244837</td>\n",
       "      <td>0.225959</td>\n",
       "      <td>0.161823</td>\n",
       "    </tr>\n",
       "    <tr>\n",
       "      <th>J.P. Morgan</th>\n",
       "      <td>0.255401</td>\n",
       "      <td>0.206671</td>\n",
       "      <td>0.161823</td>\n",
       "      <td>0.270102</td>\n",
       "    </tr>\n",
       "  </tbody>\n",
       "</table>\n",
       "</div>"
      ],
      "text/plain": [
       "                Citibank  Morgan Stanley  Goldman Sachs  J.P. Morgan\n",
       "Citibank        0.527505        0.288782       0.206371     0.255401\n",
       "Morgan Stanley  0.288782        0.485642       0.244837     0.206671\n",
       "Goldman Sachs   0.206371        0.244837       0.225959     0.161823\n",
       "J.P. Morgan     0.255401        0.206671       0.161823     0.270102"
      ]
     },
     "execution_count": 29,
     "metadata": {},
     "output_type": "execute_result"
    }
   ],
   "source": [
    "# Create the CovarianceShrinkage instance variable\n",
    "cs = CovarianceShrinkage(portfolio)\n",
    "\n",
    "# Compute the efficient covariance matrix of returns\n",
    "e_cov = cs.ledoit_wolf()\n",
    "e_cov"
   ]
  },
  {
   "cell_type": "markdown",
   "id": "1d37e9d4-7a1c-435e-b601-823fc52dd74a",
   "metadata": {},
   "source": [
    "Breaking down the financial crisis\n",
    "\n",
    "You saw the efficient frontier for the portfolio of investment banks over the entire period 2005 - 2010, which includes time before, during and after the global financial crisis.\n",
    "\n",
    "Here you'll break down this period into three sub-periods, or epochs: 2005-2006 (before), 2007-2008 (during) and 2009-2010 (after). For each period you'll compute the efficient covariance matrix, and compare them to each other."
   ]
  },
  {
   "cell_type": "code",
   "execution_count": 30,
   "id": "9a71c765-fbb6-4824-bc76-c0bd5b6e27bd",
   "metadata": {},
   "outputs": [
    {
     "data": {
      "text/plain": [
       "{'before': {'start': '1-1-2005', 'end': '31-12-2006'},\n",
       " 'during': {'start': '1-1-2007', 'end': '31-12-2008'},\n",
       " 'after': {'start': '1-1-2009', 'end': '31-12-2010'}}"
      ]
     },
     "execution_count": 30,
     "metadata": {},
     "output_type": "execute_result"
    }
   ],
   "source": [
    "# Create a dictionary of time periods (or 'epochs')\n",
    "epochs = { 'before' : {'start': '1-1-2005', 'end': '31-12-2006'},\n",
    "           'during' : {'start': '1-1-2007', 'end': '31-12-2008'},\n",
    "           'after'  : {'start': '1-1-2009', 'end': '31-12-2010'}\n",
    "         }\n",
    "\n",
    "epochs"
   ]
  },
  {
   "cell_type": "code",
   "execution_count": 31,
   "id": "985b6a87-1326-4ac8-9a3a-d11c0d5611f5",
   "metadata": {},
   "outputs": [
    {
     "name": "stdout",
     "output_type": "stream",
     "text": [
      "before 1-1-2005 31-12-2006\n",
      "during 1-1-2007 31-12-2008\n",
      "after 1-1-2009 31-12-2010\n"
     ]
    }
   ],
   "source": [
    "# Compute the efficient covariance for each epoch\n",
    "e_cov = {}\n",
    "periods_prices = {}\n",
    "\n",
    "for x in epochs.keys():\n",
    "    sub_price = portfolio.loc[epochs[x]['start']:epochs[x]['end']]\n",
    "    print(x, epochs[x]['start'],epochs[x]['end'])\n",
    "    periods_prices[x] = sub_price\n",
    "    e_cov[x] = CovarianceShrinkage(sub_price).ledoit_wolf()\n"
   ]
  },
  {
   "cell_type": "code",
   "execution_count": 32,
   "id": "28b85de8-2406-4a52-8ffa-20b298406a06",
   "metadata": {},
   "outputs": [
    {
     "name": "stdout",
     "output_type": "stream",
     "text": [
      "before \n",
      "                 Citibank  Morgan Stanley  Goldman Sachs  J.P. Morgan\n",
      "Citibank        0.018149        0.013789       0.013183     0.013523\n",
      "Morgan Stanley  0.013789        0.043021       0.030559     0.016525\n",
      "Goldman Sachs   0.013183        0.030559       0.044482     0.018237\n",
      "J.P. Morgan     0.013523        0.016525       0.018237     0.024182 \n",
      "\n",
      "during \n",
      "                 Citibank  Morgan Stanley  Goldman Sachs  J.P. Morgan\n",
      "Citibank        0.713035        0.465336       0.323977     0.364848\n",
      "Morgan Stanley  0.465336        0.994390       0.434874     0.298613\n",
      "Goldman Sachs   0.323977        0.434874       0.408773     0.224668\n",
      "J.P. Morgan     0.364848        0.298613       0.224668     0.422516 \n",
      "\n",
      "after \n",
      "                 Citibank  Morgan Stanley  Goldman Sachs  J.P. Morgan\n",
      "Citibank        0.841156        0.344939       0.252684     0.356788\n",
      "Morgan Stanley  0.344939        0.388839       0.231624     0.279727\n",
      "Goldman Sachs   0.252684        0.231624       0.244539     0.223740\n",
      "J.P. Morgan     0.356788        0.279727       0.223740     0.382494 \n",
      "\n"
     ]
    }
   ],
   "source": [
    "# Display the efficient covariance matrices for all epochs\n",
    "\n",
    "for epoch in epochs.keys():\n",
    "    print(epoch, '\\n', e_cov[epoch],'\\n')"
   ]
  },
  {
   "cell_type": "markdown",
   "id": "c3ea56e6-f203-41a1-b6c3-170a77202dd8",
   "metadata": {},
   "source": [
    "The efficient frontier and the financial crisis\n",
    "\n",
    "Previously you examined the covariance matrix of the investment bank portfolio before, during and after the financial crisis. Now you will visualize the changes that took place in the efficient frontier, showing how the crisis created a much higher baseline risk for any given return.\n",
    "\n",
    "Using the PyPortfolioOpt pypfopt library's Critical Line Algorithm (CLA) object, you will derive and visualize the efficient frontier during the crisis period, and add it to a scatterplot already displaying the efficient frontiers before and after the crisis."
   ]
  },
  {
   "cell_type": "code",
   "execution_count": 33,
   "id": "477cc821-edc1-4823-b23c-b1d0daf52737",
   "metadata": {},
   "outputs": [
    {
     "data": {
      "text/html": [
       "<div>\n",
       "<style scoped>\n",
       "    .dataframe tbody tr th:only-of-type {\n",
       "        vertical-align: middle;\n",
       "    }\n",
       "\n",
       "    .dataframe tbody tr th {\n",
       "        vertical-align: top;\n",
       "    }\n",
       "\n",
       "    .dataframe thead th {\n",
       "        text-align: right;\n",
       "    }\n",
       "</style>\n",
       "<table border=\"1\" class=\"dataframe\">\n",
       "  <thead>\n",
       "    <tr style=\"text-align: right;\">\n",
       "      <th></th>\n",
       "      <th>Morgan Stanley</th>\n",
       "      <th>Goldman Sachs</th>\n",
       "      <th>J.P. Morgan</th>\n",
       "    </tr>\n",
       "  </thead>\n",
       "  <tbody>\n",
       "    <tr>\n",
       "      <th>Morgan Stanley</th>\n",
       "      <td>0.994390</td>\n",
       "      <td>0.434874</td>\n",
       "      <td>0.298613</td>\n",
       "    </tr>\n",
       "    <tr>\n",
       "      <th>Goldman Sachs</th>\n",
       "      <td>0.434874</td>\n",
       "      <td>0.408773</td>\n",
       "      <td>0.224668</td>\n",
       "    </tr>\n",
       "    <tr>\n",
       "      <th>J.P. Morgan</th>\n",
       "      <td>0.298613</td>\n",
       "      <td>0.224668</td>\n",
       "      <td>0.422516</td>\n",
       "    </tr>\n",
       "  </tbody>\n",
       "</table>\n",
       "</div>"
      ],
      "text/plain": [
       "                Morgan Stanley  Goldman Sachs  J.P. Morgan\n",
       "Morgan Stanley        0.994390       0.434874     0.298613\n",
       "Goldman Sachs         0.434874       0.408773     0.224668\n",
       "J.P. Morgan           0.298613       0.224668     0.422516"
      ]
     },
     "execution_count": 33,
     "metadata": {},
     "output_type": "execute_result"
    }
   ],
   "source": [
    "ecov_during = e_cov['during'].iloc[1:,1:]\n",
    "ecov_during"
   ]
  },
  {
   "cell_type": "code",
   "execution_count": 34,
   "id": "7070c28f-7895-4316-804b-a872248e59ee",
   "metadata": {},
   "outputs": [
    {
     "data": {
      "text/html": [
       "<div>\n",
       "<style scoped>\n",
       "    .dataframe tbody tr th:only-of-type {\n",
       "        vertical-align: middle;\n",
       "    }\n",
       "\n",
       "    .dataframe tbody tr th {\n",
       "        vertical-align: top;\n",
       "    }\n",
       "\n",
       "    .dataframe thead th {\n",
       "        text-align: right;\n",
       "    }\n",
       "</style>\n",
       "<table border=\"1\" class=\"dataframe\">\n",
       "  <thead>\n",
       "    <tr style=\"text-align: right;\">\n",
       "      <th></th>\n",
       "      <th>Citibank</th>\n",
       "      <th>Morgan Stanley</th>\n",
       "      <th>Goldman Sachs</th>\n",
       "      <th>J.P. Morgan</th>\n",
       "    </tr>\n",
       "    <tr>\n",
       "      <th>Date</th>\n",
       "      <th></th>\n",
       "      <th></th>\n",
       "      <th></th>\n",
       "      <th></th>\n",
       "    </tr>\n",
       "  </thead>\n",
       "  <tbody>\n",
       "    <tr>\n",
       "      <th>2007-01-03</th>\n",
       "      <td>NaN</td>\n",
       "      <td>NaN</td>\n",
       "      <td>NaN</td>\n",
       "      <td>NaN</td>\n",
       "    </tr>\n",
       "    <tr>\n",
       "      <th>2007-01-04</th>\n",
       "      <td>-0.003439</td>\n",
       "      <td>0.003553</td>\n",
       "      <td>-0.009316</td>\n",
       "      <td>0.002496</td>\n",
       "    </tr>\n",
       "    <tr>\n",
       "      <th>2007-01-05</th>\n",
       "      <td>-0.005267</td>\n",
       "      <td>-0.012819</td>\n",
       "      <td>0.001006</td>\n",
       "      <td>-0.008300</td>\n",
       "    </tr>\n",
       "    <tr>\n",
       "      <th>2007-01-08</th>\n",
       "      <td>0.005112</td>\n",
       "      <td>0.006060</td>\n",
       "      <td>0.023512</td>\n",
       "      <td>0.003348</td>\n",
       "    </tr>\n",
       "    <tr>\n",
       "      <th>2007-01-09</th>\n",
       "      <td>-0.008719</td>\n",
       "      <td>-0.002336</td>\n",
       "      <td>0.001718</td>\n",
       "      <td>-0.004171</td>\n",
       "    </tr>\n",
       "    <tr>\n",
       "      <th>...</th>\n",
       "      <td>...</td>\n",
       "      <td>...</td>\n",
       "      <td>...</td>\n",
       "      <td>...</td>\n",
       "    </tr>\n",
       "    <tr>\n",
       "      <th>2008-12-24</th>\n",
       "      <td>0.039877</td>\n",
       "      <td>0.004155</td>\n",
       "      <td>0.016489</td>\n",
       "      <td>0.025421</td>\n",
       "    </tr>\n",
       "    <tr>\n",
       "      <th>2008-12-26</th>\n",
       "      <td>-0.007375</td>\n",
       "      <td>0.010345</td>\n",
       "      <td>-0.006149</td>\n",
       "      <td>-0.001675</td>\n",
       "    </tr>\n",
       "    <tr>\n",
       "      <th>2008-12-29</th>\n",
       "      <td>-0.023774</td>\n",
       "      <td>0.017065</td>\n",
       "      <td>0.007766</td>\n",
       "      <td>-0.000671</td>\n",
       "    </tr>\n",
       "    <tr>\n",
       "      <th>2008-12-30</th>\n",
       "      <td>0.035008</td>\n",
       "      <td>0.019463</td>\n",
       "      <td>0.071839</td>\n",
       "      <td>0.041303</td>\n",
       "    </tr>\n",
       "    <tr>\n",
       "      <th>2008-12-31</th>\n",
       "      <td>-0.013235</td>\n",
       "      <td>0.055958</td>\n",
       "      <td>0.028394</td>\n",
       "      <td>0.016769</td>\n",
       "    </tr>\n",
       "  </tbody>\n",
       "</table>\n",
       "<p>504 rows × 4 columns</p>\n",
       "</div>"
      ],
      "text/plain": [
       "            Citibank  Morgan Stanley  Goldman Sachs  J.P. Morgan\n",
       "Date                                                            \n",
       "2007-01-03       NaN             NaN            NaN          NaN\n",
       "2007-01-04 -0.003439        0.003553      -0.009316     0.002496\n",
       "2007-01-05 -0.005267       -0.012819       0.001006    -0.008300\n",
       "2007-01-08  0.005112        0.006060       0.023512     0.003348\n",
       "2007-01-09 -0.008719       -0.002336       0.001718    -0.004171\n",
       "...              ...             ...            ...          ...\n",
       "2008-12-24  0.039877        0.004155       0.016489     0.025421\n",
       "2008-12-26 -0.007375        0.010345      -0.006149    -0.001675\n",
       "2008-12-29 -0.023774        0.017065       0.007766    -0.000671\n",
       "2008-12-30  0.035008        0.019463       0.071839     0.041303\n",
       "2008-12-31 -0.013235        0.055958       0.028394     0.016769\n",
       "\n",
       "[504 rows x 4 columns]"
      ]
     },
     "execution_count": 34,
     "metadata": {},
     "output_type": "execute_result"
    }
   ],
   "source": [
    "all_returns_during = periods_prices['during'].pct_change()\n",
    "all_returns_during"
   ]
  },
  {
   "cell_type": "code",
   "execution_count": 35,
   "id": "9d7338dc-9b21-4cbb-8f8a-b30c7ed8e9d5",
   "metadata": {},
   "outputs": [
    {
     "data": {
      "text/html": [
       "<div>\n",
       "<style scoped>\n",
       "    .dataframe tbody tr th:only-of-type {\n",
       "        vertical-align: middle;\n",
       "    }\n",
       "\n",
       "    .dataframe tbody tr th {\n",
       "        vertical-align: top;\n",
       "    }\n",
       "\n",
       "    .dataframe thead th {\n",
       "        text-align: right;\n",
       "    }\n",
       "</style>\n",
       "<table border=\"1\" class=\"dataframe\">\n",
       "  <thead>\n",
       "    <tr style=\"text-align: right;\">\n",
       "      <th></th>\n",
       "      <th>Citibank</th>\n",
       "      <th>Morgan Stanley</th>\n",
       "      <th>Goldman Sachs</th>\n",
       "      <th>J.P. Morgan</th>\n",
       "    </tr>\n",
       "    <tr>\n",
       "      <th>Date</th>\n",
       "      <th></th>\n",
       "      <th></th>\n",
       "      <th></th>\n",
       "      <th></th>\n",
       "    </tr>\n",
       "  </thead>\n",
       "  <tbody>\n",
       "    <tr>\n",
       "      <th>2007-01-03</th>\n",
       "      <td>NaN</td>\n",
       "      <td>NaN</td>\n",
       "      <td>NaN</td>\n",
       "      <td>NaN</td>\n",
       "    </tr>\n",
       "    <tr>\n",
       "      <th>2007-01-04</th>\n",
       "      <td>-0.003439</td>\n",
       "      <td>0.003553</td>\n",
       "      <td>-0.009316</td>\n",
       "      <td>0.002496</td>\n",
       "    </tr>\n",
       "    <tr>\n",
       "      <th>2007-01-05</th>\n",
       "      <td>-0.008688</td>\n",
       "      <td>-0.009311</td>\n",
       "      <td>-0.008320</td>\n",
       "      <td>-0.005825</td>\n",
       "    </tr>\n",
       "    <tr>\n",
       "      <th>2007-01-08</th>\n",
       "      <td>-0.003620</td>\n",
       "      <td>-0.003308</td>\n",
       "      <td>0.014996</td>\n",
       "      <td>-0.002496</td>\n",
       "    </tr>\n",
       "    <tr>\n",
       "      <th>2007-01-09</th>\n",
       "      <td>-0.012308</td>\n",
       "      <td>-0.005636</td>\n",
       "      <td>0.016740</td>\n",
       "      <td>-0.006657</td>\n",
       "    </tr>\n",
       "    <tr>\n",
       "      <th>...</th>\n",
       "      <td>...</td>\n",
       "      <td>...</td>\n",
       "      <td>...</td>\n",
       "      <td>...</td>\n",
       "    </tr>\n",
       "    <tr>\n",
       "      <th>2008-12-24</th>\n",
       "      <td>-0.877285</td>\n",
       "      <td>-0.822347</td>\n",
       "      <td>-0.619171</td>\n",
       "      <td>-0.379031</td>\n",
       "    </tr>\n",
       "    <tr>\n",
       "      <th>2008-12-26</th>\n",
       "      <td>-0.878190</td>\n",
       "      <td>-0.820510</td>\n",
       "      <td>-0.621513</td>\n",
       "      <td>-0.380071</td>\n",
       "    </tr>\n",
       "    <tr>\n",
       "      <th>2008-12-29</th>\n",
       "      <td>-0.881086</td>\n",
       "      <td>-0.817447</td>\n",
       "      <td>-0.618573</td>\n",
       "      <td>-0.380487</td>\n",
       "    </tr>\n",
       "    <tr>\n",
       "      <th>2008-12-30</th>\n",
       "      <td>-0.876923</td>\n",
       "      <td>-0.813894</td>\n",
       "      <td>-0.591172</td>\n",
       "      <td>-0.354899</td>\n",
       "    </tr>\n",
       "    <tr>\n",
       "      <th>2008-12-31</th>\n",
       "      <td>-0.878552</td>\n",
       "      <td>-0.803480</td>\n",
       "      <td>-0.579564</td>\n",
       "      <td>-0.344082</td>\n",
       "    </tr>\n",
       "  </tbody>\n",
       "</table>\n",
       "<p>504 rows × 4 columns</p>\n",
       "</div>"
      ],
      "text/plain": [
       "            Citibank  Morgan Stanley  Goldman Sachs  J.P. Morgan\n",
       "Date                                                            \n",
       "2007-01-03       NaN             NaN            NaN          NaN\n",
       "2007-01-04 -0.003439        0.003553      -0.009316     0.002496\n",
       "2007-01-05 -0.008688       -0.009311      -0.008320    -0.005825\n",
       "2007-01-08 -0.003620       -0.003308       0.014996    -0.002496\n",
       "2007-01-09 -0.012308       -0.005636       0.016740    -0.006657\n",
       "...              ...             ...            ...          ...\n",
       "2008-12-24 -0.877285       -0.822347      -0.619171    -0.379031\n",
       "2008-12-26 -0.878190       -0.820510      -0.621513    -0.380071\n",
       "2008-12-29 -0.881086       -0.817447      -0.618573    -0.380487\n",
       "2008-12-30 -0.876923       -0.813894      -0.591172    -0.354899\n",
       "2008-12-31 -0.878552       -0.803480      -0.579564    -0.344082\n",
       "\n",
       "[504 rows x 4 columns]"
      ]
     },
     "execution_count": 35,
     "metadata": {},
     "output_type": "execute_result"
    }
   ],
   "source": [
    "cumulative_returns_during = (1 + all_returns_during).cumprod() -1\n",
    "cumulative_returns_during"
   ]
  },
  {
   "cell_type": "code",
   "execution_count": 36,
   "id": "35ce63fb-411e-48de-9fcb-55de1a3cb434",
   "metadata": {},
   "outputs": [
    {
     "data": {
      "text/plain": [
       "Morgan Stanley   -0.803480\n",
       "Goldman Sachs    -0.579564\n",
       "J.P. Morgan      -0.344082\n",
       "Name: 2008-12-31 00:00:00, dtype: float64"
      ]
     },
     "execution_count": 36,
     "metadata": {},
     "output_type": "execute_result"
    }
   ],
   "source": [
    "returns_during = cumulative_returns_during.iloc[-1][1:]\n",
    "returns_during"
   ]
  },
  {
   "cell_type": "code",
   "execution_count": 37,
   "id": "ba12f2c8-52f9-4a28-986b-f073e86513d0",
   "metadata": {},
   "outputs": [
    {
     "data": {
      "text/plain": [
       "OrderedDict([('Morgan Stanley', 0.0),\n",
       "             ('Goldman Sachs', 0.5179899476599341),\n",
       "             ('J.P. Morgan', 0.48201005234006594)])"
      ]
     },
     "execution_count": 37,
     "metadata": {},
     "output_type": "execute_result"
    }
   ],
   "source": [
    "# Initialize the Crtical Line Algorithm object\n",
    "efficient_portfolio_during = CLA(returns_during, ecov_during)\n",
    "\n",
    "# Find the minimum volatility portfolio weights and display them\n",
    "efficient_portfolio_during.min_volatility()"
   ]
  },
  {
   "cell_type": "code",
   "execution_count": 38,
   "id": "b0aeefd0-7a5e-4b62-8e9f-4fd3f764aeab",
   "metadata": {},
   "outputs": [
    {
     "data": {
      "text/plain": [
       "(65, 65, 65)"
      ]
     },
     "execution_count": 38,
     "metadata": {},
     "output_type": "execute_result"
    }
   ],
   "source": [
    "# Compute the efficient frontier\n",
    "(ret_during, vol_during, weights_during) = efficient_portfolio_during.efficient_frontier()\n",
    "\n",
    "len(ret_during), len(vol_during), len(weights_during)"
   ]
  },
  {
   "cell_type": "code",
   "execution_count": 39,
   "id": "ade2c9ff-afb2-41c0-aca7-4513fd926e3f",
   "metadata": {},
   "outputs": [],
   "source": [
    "# repeat for 'before'\n",
    "\n",
    "ecov_before = e_cov['before'].iloc[1:,1:]\n",
    "all_returns_before = periods_prices['before'].pct_change()\n",
    "cumulative_returns_before = (1 + all_returns_before).cumprod() -1\n",
    "returns_before = cumulative_returns_before.iloc[-1][1:]\n",
    "efficient_portfolio_before = CLA(returns_before, ecov_before)\n",
    "(ret_before, vol_before, weights_before) = efficient_portfolio_before.efficient_frontier()\n"
   ]
  },
  {
   "cell_type": "code",
   "execution_count": 40,
   "id": "70339cb4-0e27-4bad-aa1f-7fb7da8554b4",
   "metadata": {},
   "outputs": [],
   "source": [
    "# repeat for 'after'\n",
    "\n",
    "ecov_after = e_cov['after'].iloc[1:,1:]\n",
    "all_returns_after = periods_prices['after'].pct_change()\n",
    "cumulative_returns_after = (1 + all_returns_after).cumprod() -1\n",
    "returns_after = cumulative_returns_after.iloc[-1][1:]\n",
    "efficient_portfolio_after = CLA(returns_after, ecov_after)\n",
    "(ret_after, vol_after, weights_after) = efficient_portfolio_after.efficient_frontier()\n"
   ]
  },
  {
   "cell_type": "code",
   "execution_count": 41,
   "id": "7545be16-305f-406a-b133-9a9c47d8ee7c",
   "metadata": {},
   "outputs": [
    {
     "data": {
      "image/png": "[encoded data removed]",
      "text/plain": [
       "<Figure size 640x480 with 1 Axes>"
      ]
     },
     "metadata": {},
     "output_type": "display_data"
    }
   ],
   "source": [
    "# Add the frontier to the plot showing the 'before', 'during' and 'after' frontiers\n",
    "plt.scatter(vol_before, ret_before, s = 4, c = 'g', marker = '.', label = 'Before')\n",
    "plt.scatter(vol_during, ret_during, s = 4, c = 'b', marker = '.', label = 'During')\n",
    "plt.scatter(vol_after, ret_after, s = 4, c = 'r', marker = '.', label = 'After')\n",
    "plt.title('Efficient Frontier')\n",
    "plt.xlabel('Volatility')\n",
    "plt.ylabel('Returns')\n",
    "plt.legend()\n",
    "plt.show()"
   ]
  },
  {
   "cell_type": "code",
   "execution_count": null,
   "id": "82d0f852-981a-466f-8c34-29e1e202e7ca",
   "metadata": {},
   "outputs": [],
   "source": []
  },
  {
   "cell_type": "code",
   "execution_count": null,
   "id": "e061fd39-8461-45b8-a871-4f7572a8b1d0",
   "metadata": {},
   "outputs": [],
   "source": []
  },
  {
   "cell_type": "code",
   "execution_count": null,
   "id": "94a1ea81-4dc2-4f7b-8f8a-7ae869216468",
   "metadata": {},
   "outputs": [],
   "source": []
  },
  {
   "cell_type": "code",
   "execution_count": null,
   "id": "a9777b07-7d10-4cb9-b9ac-c7ec49beba65",
   "metadata": {},
   "outputs": [],
   "source": []
  },
  {
   "cell_type": "code",
   "execution_count": null,
   "id": "8313f2a7-fdfb-471a-9773-ec38131a5a29",
   "metadata": {},
   "outputs": [],
   "source": []
  },
  {
   "cell_type": "code",
   "execution_count": null,
   "id": "3701db02-46f3-4ca9-81be-9d8355dbbe9e",
   "metadata": {},
   "outputs": [],
   "source": []
  },
  {
   "cell_type": "code",
   "execution_count": null,
   "id": "450cf667-2cda-4167-9231-de148f98d148",
   "metadata": {},
   "outputs": [],
   "source": []
  },
  {
   "cell_type": "code",
   "execution_count": null,
   "id": "c6789b00-a4c2-45b3-b8a5-346aba5b0805",
   "metadata": {},
   "outputs": [],
   "source": []
  },
  {
   "cell_type": "code",
   "execution_count": null,
   "id": "c1cf5358-ea12-4efb-bae7-f2c98a472ab9",
   "metadata": {},
   "outputs": [],
   "source": []
  },
  {
   "cell_type": "code",
   "execution_count": null,
   "id": "811a060e-324e-411a-b649-c6f542d036cf",
   "metadata": {},
   "outputs": [],
   "source": []
  },
  {
   "cell_type": "code",
   "execution_count": null,
   "id": "dea65d1f-f67a-4317-b452-363503a13595",
   "metadata": {},
   "outputs": [],
   "source": []
  }
 ],
 "metadata": {
  "kernelspec": {
   "display_name": "Python 3 (ipykernel)",
   "language": "python",
   "name": "python3"
  },
  "language_info": {
   "codemirror_mode": {
    "name": "ipython",
    "version": 3
   },
   "file_extension": ".py",
   "mimetype": "text/x-python",
   "name": "python",
   "nbconvert_exporter": "python",
   "pygments_lexer": "ipython3",
   "version": "3.10.10"
  }
 },
 "nbformat": 4,
 "nbformat_minor": 5
}
