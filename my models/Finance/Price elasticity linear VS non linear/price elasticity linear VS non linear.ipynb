{
 "cells": [
  {
   "cell_type": "code",
   "execution_count": 1,
   "id": "5991f5c1-2287-4820-8fde-44aa471bc5c3",
   "metadata": {},
   "outputs": [],
   "source": [
    "import numpy as np\n",
    "import pandas as pd\n",
    "import matplotlib.pyplot as plt\n",
    "import math\n",
    "\n",
    "import statsmodels.api as sm\n",
    "from statsmodels.tools.tools import add_constant"
   ]
  },
  {
   "cell_type": "markdown",
   "id": "2ff547dc-c5d1-4364-8192-18adfe0b6bb2",
   "metadata": {},
   "source": [
    "Price Elasticity formula:\n",
    "\n",
    "𝛽 = (Δ % Quantity) / (Δ % Price) = (ΔQ/Q) / (ΔP/P) = (ΔQ/ΔP) * (P/Q)\n",
    "\n",
    "𝑄 = 𝐴 * 𝑃^𝛽  <--> ln(𝑄) = ln⁡(𝐴) + 𝛽 x ln⁡(𝑃)   <--> 𝑌 = 𝛼 + 𝛽𝑋"
   ]
  },
  {
   "cell_type": "code",
   "execution_count": 2,
   "id": "1637557c-94fe-4d9a-b4e0-d0b4246a977b",
   "metadata": {},
   "outputs": [
    {
     "data": {
      "text/html": [
       "<div>\n",
       "<style scoped>\n",
       "    .dataframe tbody tr th:only-of-type {\n",
       "        vertical-align: middle;\n",
       "    }\n",
       "\n",
       "    .dataframe tbody tr th {\n",
       "        vertical-align: top;\n",
       "    }\n",
       "\n",
       "    .dataframe thead th {\n",
       "        text-align: right;\n",
       "    }\n",
       "</style>\n",
       "<table border=\"1\" class=\"dataframe\">\n",
       "  <thead>\n",
       "    <tr style=\"text-align: right;\">\n",
       "      <th></th>\n",
       "      <th>Price</th>\n",
       "      <th>Quantity</th>\n",
       "    </tr>\n",
       "  </thead>\n",
       "  <tbody>\n",
       "    <tr>\n",
       "      <th>0</th>\n",
       "      <td>192</td>\n",
       "      <td>80</td>\n",
       "    </tr>\n",
       "    <tr>\n",
       "      <th>1</th>\n",
       "      <td>145</td>\n",
       "      <td>960</td>\n",
       "    </tr>\n",
       "    <tr>\n",
       "      <th>2</th>\n",
       "      <td>240</td>\n",
       "      <td>200</td>\n",
       "    </tr>\n",
       "    <tr>\n",
       "      <th>3</th>\n",
       "      <td>240</td>\n",
       "      <td>150</td>\n",
       "    </tr>\n",
       "    <tr>\n",
       "      <th>4</th>\n",
       "      <td>375</td>\n",
       "      <td>740</td>\n",
       "    </tr>\n",
       "    <tr>\n",
       "      <th>...</th>\n",
       "      <td>...</td>\n",
       "      <td>...</td>\n",
       "    </tr>\n",
       "    <tr>\n",
       "      <th>995</th>\n",
       "      <td>96</td>\n",
       "      <td>1500</td>\n",
       "    </tr>\n",
       "    <tr>\n",
       "      <th>996</th>\n",
       "      <td>157</td>\n",
       "      <td>10000</td>\n",
       "    </tr>\n",
       "    <tr>\n",
       "      <th>997</th>\n",
       "      <td>291</td>\n",
       "      <td>570</td>\n",
       "    </tr>\n",
       "    <tr>\n",
       "      <th>998</th>\n",
       "      <td>216</td>\n",
       "      <td>100</td>\n",
       "    </tr>\n",
       "    <tr>\n",
       "      <th>999</th>\n",
       "      <td>192</td>\n",
       "      <td>500</td>\n",
       "    </tr>\n",
       "  </tbody>\n",
       "</table>\n",
       "<p>1000 rows × 2 columns</p>\n",
       "</div>"
      ],
      "text/plain": [
       "     Price  Quantity\n",
       "0      192        80\n",
       "1      145       960\n",
       "2      240       200\n",
       "3      240       150\n",
       "4      375       740\n",
       "..     ...       ...\n",
       "995     96      1500\n",
       "996    157     10000\n",
       "997    291       570\n",
       "998    216       100\n",
       "999    192       500\n",
       "\n",
       "[1000 rows x 2 columns]"
      ]
     },
     "execution_count": 2,
     "metadata": {},
     "output_type": "execute_result"
    }
   ],
   "source": [
    "df = pd.read_csv('price_data.csv')\n",
    "df"
   ]
  },
  {
   "cell_type": "code",
   "execution_count": 3,
   "id": "a1804c46-6b61-47d9-a1b3-068cd0b1339e",
   "metadata": {},
   "outputs": [
    {
     "data": {
      "text/plain": [
       "<Axes: xlabel='Quantity', ylabel='Price'>"
      ]
     },
     "execution_count": 3,
     "metadata": {},
     "output_type": "execute_result"
    },
    {
     "data": {
      "image/png": "[encoded data removed]",
      "text/plain": [
       "<Figure size 640x480 with 1 Axes>"
      ]
     },
     "metadata": {},
     "output_type": "display_data"
    }
   ],
   "source": [
    "df.plot(x=\"Quantity\", y=\"Price\",kind=\"scatter\")"
   ]
  },
  {
   "cell_type": "code",
   "execution_count": 4,
   "id": "c9ab6846-2774-4299-b82d-8a7005fc5ea0",
   "metadata": {},
   "outputs": [
    {
     "data": {
      "text/html": [
       "<div>\n",
       "<style scoped>\n",
       "    .dataframe tbody tr th:only-of-type {\n",
       "        vertical-align: middle;\n",
       "    }\n",
       "\n",
       "    .dataframe tbody tr th {\n",
       "        vertical-align: top;\n",
       "    }\n",
       "\n",
       "    .dataframe thead th {\n",
       "        text-align: right;\n",
       "    }\n",
       "</style>\n",
       "<table border=\"1\" class=\"dataframe\">\n",
       "  <thead>\n",
       "    <tr style=\"text-align: right;\">\n",
       "      <th></th>\n",
       "      <th>Price</th>\n",
       "      <th>Quantity</th>\n",
       "    </tr>\n",
       "  </thead>\n",
       "  <tbody>\n",
       "    <tr>\n",
       "      <th>count</th>\n",
       "      <td>1000.000000</td>\n",
       "      <td>1000.000000</td>\n",
       "    </tr>\n",
       "    <tr>\n",
       "      <th>mean</th>\n",
       "      <td>192.404000</td>\n",
       "      <td>1611.900000</td>\n",
       "    </tr>\n",
       "    <tr>\n",
       "      <th>std</th>\n",
       "      <td>84.275947</td>\n",
       "      <td>2534.252992</td>\n",
       "    </tr>\n",
       "    <tr>\n",
       "      <th>min</th>\n",
       "      <td>15.000000</td>\n",
       "      <td>60.000000</td>\n",
       "    </tr>\n",
       "    <tr>\n",
       "      <th>25%</th>\n",
       "      <td>145.000000</td>\n",
       "      <td>300.000000</td>\n",
       "    </tr>\n",
       "    <tr>\n",
       "      <th>50%</th>\n",
       "      <td>187.000000</td>\n",
       "      <td>700.000000</td>\n",
       "    </tr>\n",
       "    <tr>\n",
       "      <th>75%</th>\n",
       "      <td>216.000000</td>\n",
       "      <td>1907.500000</td>\n",
       "    </tr>\n",
       "    <tr>\n",
       "      <th>max</th>\n",
       "      <td>1008.000000</td>\n",
       "      <td>23150.000000</td>\n",
       "    </tr>\n",
       "  </tbody>\n",
       "</table>\n",
       "</div>"
      ],
      "text/plain": [
       "             Price      Quantity\n",
       "count  1000.000000   1000.000000\n",
       "mean    192.404000   1611.900000\n",
       "std      84.275947   2534.252992\n",
       "min      15.000000     60.000000\n",
       "25%     145.000000    300.000000\n",
       "50%     187.000000    700.000000\n",
       "75%     216.000000   1907.500000\n",
       "max    1008.000000  23150.000000"
      ]
     },
     "execution_count": 4,
     "metadata": {},
     "output_type": "execute_result"
    }
   ],
   "source": [
    "df.describe()"
   ]
  },
  {
   "cell_type": "code",
   "execution_count": 5,
   "id": "533eba6e-e20d-4dfd-b131-ba9e8027adf3",
   "metadata": {},
   "outputs": [
    {
     "data": {
      "text/plain": [
       "array([[<Axes: title={'center': 'Price'}>,\n",
       "        <Axes: title={'center': 'Quantity'}>]], dtype=object)"
      ]
     },
     "execution_count": 5,
     "metadata": {},
     "output_type": "execute_result"
    },
    {
     "data": {
      "image/png": "[encoded data removed]",
      "text/plain": [
       "<Figure size 640x480 with 2 Axes>"
      ]
     },
     "metadata": {},
     "output_type": "display_data"
    }
   ],
   "source": [
    "df.hist()"
   ]
  },
  {
   "cell_type": "markdown",
   "id": "acc4cbc8-6f95-457b-9150-e1885729bef2",
   "metadata": {},
   "source": [
    "While the relationship between price and quantity is not necessarily linear (from the scatter plot in Fig.2), we explore a linear regression demand function to examine how well the linear model performs. By utilizing Python’s Statsmodels for Ordinary Least Squares (OLS) Estimation, we analyze the coefficient (b) to determine the linear price elasticity."
   ]
  },
  {
   "cell_type": "code",
   "execution_count": 6,
   "id": "7f4eadc6-e17a-4dee-b4aa-f5cd96df3a29",
   "metadata": {},
   "outputs": [
    {
     "data": {
      "text/html": [
       "<div>\n",
       "<style scoped>\n",
       "    .dataframe tbody tr th:only-of-type {\n",
       "        vertical-align: middle;\n",
       "    }\n",
       "\n",
       "    .dataframe tbody tr th {\n",
       "        vertical-align: top;\n",
       "    }\n",
       "\n",
       "    .dataframe thead th {\n",
       "        text-align: right;\n",
       "    }\n",
       "</style>\n",
       "<table border=\"1\" class=\"dataframe\">\n",
       "  <thead>\n",
       "    <tr style=\"text-align: right;\">\n",
       "      <th></th>\n",
       "      <th>const</th>\n",
       "      <th>Price</th>\n",
       "    </tr>\n",
       "  </thead>\n",
       "  <tbody>\n",
       "    <tr>\n",
       "      <th>0</th>\n",
       "      <td>1.0</td>\n",
       "      <td>192</td>\n",
       "    </tr>\n",
       "    <tr>\n",
       "      <th>1</th>\n",
       "      <td>1.0</td>\n",
       "      <td>145</td>\n",
       "    </tr>\n",
       "    <tr>\n",
       "      <th>2</th>\n",
       "      <td>1.0</td>\n",
       "      <td>240</td>\n",
       "    </tr>\n",
       "    <tr>\n",
       "      <th>3</th>\n",
       "      <td>1.0</td>\n",
       "      <td>240</td>\n",
       "    </tr>\n",
       "    <tr>\n",
       "      <th>4</th>\n",
       "      <td>1.0</td>\n",
       "      <td>375</td>\n",
       "    </tr>\n",
       "    <tr>\n",
       "      <th>...</th>\n",
       "      <td>...</td>\n",
       "      <td>...</td>\n",
       "    </tr>\n",
       "    <tr>\n",
       "      <th>995</th>\n",
       "      <td>1.0</td>\n",
       "      <td>96</td>\n",
       "    </tr>\n",
       "    <tr>\n",
       "      <th>996</th>\n",
       "      <td>1.0</td>\n",
       "      <td>157</td>\n",
       "    </tr>\n",
       "    <tr>\n",
       "      <th>997</th>\n",
       "      <td>1.0</td>\n",
       "      <td>291</td>\n",
       "    </tr>\n",
       "    <tr>\n",
       "      <th>998</th>\n",
       "      <td>1.0</td>\n",
       "      <td>216</td>\n",
       "    </tr>\n",
       "    <tr>\n",
       "      <th>999</th>\n",
       "      <td>1.0</td>\n",
       "      <td>192</td>\n",
       "    </tr>\n",
       "  </tbody>\n",
       "</table>\n",
       "<p>1000 rows × 2 columns</p>\n",
       "</div>"
      ],
      "text/plain": [
       "     const  Price\n",
       "0      1.0    192\n",
       "1      1.0    145\n",
       "2      1.0    240\n",
       "3      1.0    240\n",
       "4      1.0    375\n",
       "..     ...    ...\n",
       "995    1.0     96\n",
       "996    1.0    157\n",
       "997    1.0    291\n",
       "998    1.0    216\n",
       "999    1.0    192\n",
       "\n",
       "[1000 rows x 2 columns]"
      ]
     },
     "execution_count": 6,
     "metadata": {},
     "output_type": "execute_result"
    }
   ],
   "source": [
    "x_value = df['Price']\n",
    "y_value = df['Quantity']\n",
    "X = add_constant(x_value)\n",
    "X"
   ]
  },
  {
   "cell_type": "code",
   "execution_count": 7,
   "id": "b2deecc0-3633-4170-ba21-4f90f4d29cc2",
   "metadata": {},
   "outputs": [
    {
     "data": {
      "text/plain": [
       "<statsmodels.regression.linear_model.OLS at 0x22767e4c520>"
      ]
     },
     "execution_count": 7,
     "metadata": {},
     "output_type": "execute_result"
    }
   ],
   "source": [
    "model = sm.OLS(y_value, X)\n",
    "model"
   ]
  },
  {
   "cell_type": "code",
   "execution_count": 8,
   "id": "a2670ecc-73fe-4a0d-988b-5457c5b126ce",
   "metadata": {},
   "outputs": [
    {
     "data": {
      "text/plain": [
       "<statsmodels.regression.linear_model.RegressionResultsWrapper at 0x22767e28430>"
      ]
     },
     "execution_count": 8,
     "metadata": {},
     "output_type": "execute_result"
    }
   ],
   "source": [
    "result = model.fit()\n",
    "result  "
   ]
  },
  {
   "cell_type": "code",
   "execution_count": 9,
   "id": "62c79abb-e1c5-4ede-aa87-1932b33ba4e8",
   "metadata": {},
   "outputs": [
    {
     "name": "stdout",
     "output_type": "stream",
     "text": [
      "                            OLS Regression Results                            \n",
      "==============================================================================\n",
      "Dep. Variable:               Quantity   R-squared:                       0.049\n",
      "Model:                            OLS   Adj. R-squared:                  0.048\n",
      "Method:                 Least Squares   F-statistic:                     51.14\n",
      "Date:                Tue, 14 Jan 2025   Prob (F-statistic):           1.66e-12\n",
      "Time:                        18:30:12   Log-Likelihood:                -9231.1\n",
      "No. Observations:                1000   AIC:                         1.847e+04\n",
      "Df Residuals:                     998   BIC:                         1.848e+04\n",
      "Df Model:                           1                                         \n",
      "Covariance Type:            nonrobust                                         \n",
      "==============================================================================\n",
      "                 coef    std err          t      P>|t|      [0.025      0.975]\n",
      "------------------------------------------------------------------------------\n",
      "const       2889.2504    194.994     14.817      0.000    2506.605    3271.896\n",
      "Price         -6.6389      0.928     -7.151      0.000      -8.461      -4.817\n",
      "==============================================================================\n",
      "Omnibus:                      845.570   Durbin-Watson:                   1.989\n",
      "Prob(Omnibus):                  0.000   Jarque-Bera (JB):            19965.020\n",
      "Skew:                           3.862   Prob(JB):                         0.00\n",
      "Kurtosis:                      23.482   Cond. No.                         524.\n",
      "==============================================================================\n",
      "\n",
      "Notes:\n",
      "[1] Standard Errors assume that the covariance matrix of the errors is correctly specified.\n"
     ]
    }
   ],
   "source": [
    "print(result.summary())"
   ]
  },
  {
   "cell_type": "markdown",
   "id": "598a7fcd-533a-45f1-b6f3-bd060f33a921",
   "metadata": {},
   "source": [
    "The small P values (0.000) indicate that we can reject the null hypothesis that Price does not affect Quantity. A low R-squared (0.049) indicates that our model cannot explain a lot of the response variability.\n",
    "\n",
    "Despite the linear model’s limitations in capturing the complexity of pricing data, we still employ the linear price elasticity formula for calculation purposes. In this case, linear price elasticity is -1.77. Now the linear demand function of this product can be written as Quantity = 2889.2504 + (-6.6389)*Price."
   ]
  },
  {
   "cell_type": "code",
   "execution_count": 10,
   "id": "2c616d02-855d-4248-9610-adac50f1c3c4",
   "metadata": {},
   "outputs": [
    {
     "data": {
      "text/plain": [
       "(1.6641207951448687e-12, 2889.2504486537982, -6.638897573095132)"
      ]
     },
     "execution_count": 10,
     "metadata": {},
     "output_type": "execute_result"
    }
   ],
   "source": [
    "coefficient_pvalue = result.f_pvalue\n",
    "intercept,slope = result.params\n",
    "\n",
    "coefficient_pvalue,intercept,slope"
   ]
  },
  {
   "cell_type": "code",
   "execution_count": 11,
   "id": "19304c2d-4726-485e-9bf5-5aa3a9b032ed",
   "metadata": {},
   "outputs": [
    {
     "data": {
      "text/plain": [
       "(192.404, 1611.9)"
      ]
     },
     "execution_count": 11,
     "metadata": {},
     "output_type": "execute_result"
    }
   ],
   "source": [
    "# Calculate mean price and mean quantity \n",
    "mean_price = df['Price'].mean() \n",
    "mean_quantity = df['Quantity'].mean()\n",
    "\n",
    "mean_price,mean_quantity"
   ]
  },
  {
   "cell_type": "code",
   "execution_count": 12,
   "id": "e3f4e9dc-f7f2-4a71-83d0-8e7813e8cf60",
   "metadata": {},
   "outputs": [
    {
     "name": "stdout",
     "output_type": "stream",
     "text": [
      "Linear Price Elasticity -0.79 with pvalue 1.6641207951448687e-12\n"
     ]
    }
   ],
   "source": [
    "#Linear Price elasticity Formula\n",
    "price_elasticity = round((slope)*(mean_price/mean_quantity),2)\n",
    "\n",
    "print('Linear Price Elasticity {} with pvalue {}'\\\n",
    ".format(price_elasticity, coefficient_pvalue))"
   ]
  },
  {
   "cell_type": "markdown",
   "id": "2aace9d7-f81f-461b-b7cb-de4e021c3a4f",
   "metadata": {},
   "source": [
    "Observing that the price curve exhibits a power curve pattern (𝑄 = 𝐴 * 𝑃^𝛽), we utilize a non-linear model derived from a power regression demand function. By applying logarithmic functions and taking total differentials, we can determine the elasticity as 𝛽 --> ln(𝑄) = ln⁡(𝐴) + 𝛽*ln⁡(𝑃)"
   ]
  },
  {
   "cell_type": "code",
   "execution_count": 13,
   "id": "40bb774d-dbcc-48e4-a3b8-63829ac599e2",
   "metadata": {},
   "outputs": [
    {
     "data": {
      "text/plain": [
       "0      4.382027\n",
       "1      6.866933\n",
       "2      5.298317\n",
       "3      5.010635\n",
       "4      6.606650\n",
       "         ...   \n",
       "995    7.313220\n",
       "996    9.210340\n",
       "997    6.345636\n",
       "998    4.605170\n",
       "999    6.214608\n",
       "Name: Quantity, Length: 1000, dtype: float64"
      ]
     },
     "execution_count": 13,
     "metadata": {},
     "output_type": "execute_result"
    }
   ],
   "source": [
    "y_value = np.log(df['Quantity'])\n",
    "y_value"
   ]
  },
  {
   "cell_type": "code",
   "execution_count": 14,
   "id": "245beed6-cf8f-489b-a68e-b26579541294",
   "metadata": {},
   "outputs": [
    {
     "data": {
      "text/html": [
       "<div>\n",
       "<style scoped>\n",
       "    .dataframe tbody tr th:only-of-type {\n",
       "        vertical-align: middle;\n",
       "    }\n",
       "\n",
       "    .dataframe tbody tr th {\n",
       "        vertical-align: top;\n",
       "    }\n",
       "\n",
       "    .dataframe thead th {\n",
       "        text-align: right;\n",
       "    }\n",
       "</style>\n",
       "<table border=\"1\" class=\"dataframe\">\n",
       "  <thead>\n",
       "    <tr style=\"text-align: right;\">\n",
       "      <th></th>\n",
       "      <th>const</th>\n",
       "      <th>Price</th>\n",
       "    </tr>\n",
       "  </thead>\n",
       "  <tbody>\n",
       "    <tr>\n",
       "      <th>0</th>\n",
       "      <td>1.0</td>\n",
       "      <td>5.257495</td>\n",
       "    </tr>\n",
       "    <tr>\n",
       "      <th>1</th>\n",
       "      <td>1.0</td>\n",
       "      <td>4.976734</td>\n",
       "    </tr>\n",
       "    <tr>\n",
       "      <th>2</th>\n",
       "      <td>1.0</td>\n",
       "      <td>5.480639</td>\n",
       "    </tr>\n",
       "    <tr>\n",
       "      <th>3</th>\n",
       "      <td>1.0</td>\n",
       "      <td>5.480639</td>\n",
       "    </tr>\n",
       "    <tr>\n",
       "      <th>4</th>\n",
       "      <td>1.0</td>\n",
       "      <td>5.926926</td>\n",
       "    </tr>\n",
       "    <tr>\n",
       "      <th>...</th>\n",
       "      <td>...</td>\n",
       "      <td>...</td>\n",
       "    </tr>\n",
       "    <tr>\n",
       "      <th>995</th>\n",
       "      <td>1.0</td>\n",
       "      <td>4.564348</td>\n",
       "    </tr>\n",
       "    <tr>\n",
       "      <th>996</th>\n",
       "      <td>1.0</td>\n",
       "      <td>5.056246</td>\n",
       "    </tr>\n",
       "    <tr>\n",
       "      <th>997</th>\n",
       "      <td>1.0</td>\n",
       "      <td>5.673323</td>\n",
       "    </tr>\n",
       "    <tr>\n",
       "      <th>998</th>\n",
       "      <td>1.0</td>\n",
       "      <td>5.375278</td>\n",
       "    </tr>\n",
       "    <tr>\n",
       "      <th>999</th>\n",
       "      <td>1.0</td>\n",
       "      <td>5.257495</td>\n",
       "    </tr>\n",
       "  </tbody>\n",
       "</table>\n",
       "<p>1000 rows × 2 columns</p>\n",
       "</div>"
      ],
      "text/plain": [
       "     const     Price\n",
       "0      1.0  5.257495\n",
       "1      1.0  4.976734\n",
       "2      1.0  5.480639\n",
       "3      1.0  5.480639\n",
       "4      1.0  5.926926\n",
       "..     ...       ...\n",
       "995    1.0  4.564348\n",
       "996    1.0  5.056246\n",
       "997    1.0  5.673323\n",
       "998    1.0  5.375278\n",
       "999    1.0  5.257495\n",
       "\n",
       "[1000 rows x 2 columns]"
      ]
     },
     "execution_count": 14,
     "metadata": {},
     "output_type": "execute_result"
    }
   ],
   "source": [
    "x_value = np.log(df['Price'])\n",
    "X = add_constant(x_value)\n",
    "X"
   ]
  },
  {
   "cell_type": "code",
   "execution_count": 15,
   "id": "59716040-7fb3-437b-9634-ae9cab0709d6",
   "metadata": {},
   "outputs": [
    {
     "data": {
      "text/plain": [
       "<matplotlib.collections.PathCollection at 0x22767e05360>"
      ]
     },
     "execution_count": 15,
     "metadata": {},
     "output_type": "execute_result"
    },
    {
     "data": {
      "image/png": "[encoded data removed]",
      "text/plain": [
       "<Figure size 640x480 with 1 Axes>"
      ]
     },
     "metadata": {},
     "output_type": "display_data"
    }
   ],
   "source": [
    "plt.scatter(x_value, y_value)"
   ]
  },
  {
   "cell_type": "code",
   "execution_count": 16,
   "id": "0cc737b7-f42a-4cc2-a45d-96afbb93a86c",
   "metadata": {},
   "outputs": [
    {
     "data": {
      "text/plain": [
       "(array([  1.,   3.,   7.,  33., 104., 354., 399.,  84.,  11.,   4.]),\n",
       " array([2.7080502 , 3.12881753, 3.54958485, 3.97035218, 4.3911195 ,\n",
       "        4.81188682, 5.23265415, 5.65342147, 6.0741888 , 6.49495612,\n",
       "        6.91572345]),\n",
       " <BarContainer object of 10 artists>)"
      ]
     },
     "execution_count": 16,
     "metadata": {},
     "output_type": "execute_result"
    },
    {
     "data": {
      "image/png": "[encoded data removed]",
      "text/plain": [
       "<Figure size 640x480 with 1 Axes>"
      ]
     },
     "metadata": {},
     "output_type": "display_data"
    }
   ],
   "source": [
    "plt.hist(x_value)"
   ]
  },
  {
   "cell_type": "code",
   "execution_count": 17,
   "id": "7df000e2-3e94-4d94-9d90-702b2458952b",
   "metadata": {},
   "outputs": [
    {
     "data": {
      "text/plain": [
       "(array([ 73.,  57., 177., 179., 168., 135., 107.,  60.,  35.,   9.]),\n",
       " array([ 4.09434456,  4.68988511,  5.28542566,  5.88096621,  6.47650676,\n",
       "         7.07204731,  7.66758786,  8.26312841,  8.85866896,  9.45420951,\n",
       "        10.04975006]),\n",
       " <BarContainer object of 10 artists>)"
      ]
     },
     "execution_count": 17,
     "metadata": {},
     "output_type": "execute_result"
    },
    {
     "data": {
      "image/png": "[encoded data removed]",
      "text/plain": [
       "<Figure size 640x480 with 1 Axes>"
      ]
     },
     "metadata": {},
     "output_type": "display_data"
    }
   ],
   "source": [
    "plt.hist(y_value)"
   ]
  },
  {
   "cell_type": "code",
   "execution_count": 18,
   "id": "9634d3e1-ed9e-4b99-a54b-ed4adbd49f05",
   "metadata": {},
   "outputs": [
    {
     "name": "stdout",
     "output_type": "stream",
     "text": [
      "                            OLS Regression Results                            \n",
      "==============================================================================\n",
      "Dep. Variable:               Quantity   R-squared:                       0.133\n",
      "Model:                            OLS   Adj. R-squared:                  0.132\n",
      "Method:                 Least Squares   F-statistic:                     152.6\n",
      "Date:                Tue, 14 Jan 2025   Prob (F-statistic):           1.01e-32\n",
      "Time:                        18:30:12   Log-Likelihood:                -1562.7\n",
      "No. Observations:                1000   AIC:                             3129.\n",
      "Df Residuals:                     998   BIC:                             3139.\n",
      "Df Model:                           1                                         \n",
      "Covariance Type:            nonrobust                                         \n",
      "==============================================================================\n",
      "                 coef    std err          t      P>|t|      [0.025      0.975]\n",
      "------------------------------------------------------------------------------\n",
      "const         12.1370      0.449     27.027      0.000      11.256      13.018\n",
      "Price         -1.0683      0.086    -12.353      0.000      -1.238      -0.899\n",
      "==============================================================================\n",
      "Omnibus:                        9.853   Durbin-Watson:                   1.916\n",
      "Prob(Omnibus):                  0.007   Jarque-Bera (JB):                9.804\n",
      "Skew:                           0.221   Prob(JB):                      0.00743\n",
      "Kurtosis:                       2.799   Cond. No.                         66.2\n",
      "==============================================================================\n",
      "\n",
      "Notes:\n",
      "[1] Standard Errors assume that the covariance matrix of the errors is correctly specified.\n"
     ]
    }
   ],
   "source": [
    "model = sm.OLS(y_value, X)\n",
    "result = model.fit()\n",
    "    \n",
    "print(result.summary())"
   ]
  },
  {
   "cell_type": "markdown",
   "id": "2aab94fe-2adf-49af-9ac6-f65f8dc85e48",
   "metadata": {},
   "source": [
    "The small P values (0.000) indicate that we can reject the null hypothesis that Price does not affect Quantity. We have an improved R-squared (0.132), but it still indicates that our model has room for further enhancement. In this exercise, we focus on applying the non-linear price elasticity concept, rather than building a perfect model.\n",
    "\n",
    "Similarly, we can get beta from the coefficient (price) of the linear regression fit, which is the non-linear price elasticity. The linear price elasticity is -1.07 <-- relatively elastic demand"
   ]
  },
  {
   "cell_type": "code",
   "execution_count": 19,
   "id": "e00250a8-328f-4d5c-9709-da2b7c39f74f",
   "metadata": {},
   "outputs": [
    {
     "name": "stdout",
     "output_type": "stream",
     "text": [
      "Non_linear Price Elasticity  -1.07 with pvalue 1.0083563155905758e-32\n"
     ]
    }
   ],
   "source": [
    "coefficient_pvalue = result.f_pvalue\n",
    "intercept,slope = result.params\n",
    "\n",
    "#Non_linear Price elasticity Formula\n",
    "price_elasticity = round((slope),2)\n",
    "print('Non_linear Price Elasticity  {} with pvalue {}'.format(price_elasticity, coefficient_pvalue))"
   ]
  },
  {
   "cell_type": "code",
   "execution_count": 20,
   "id": "5d3aa193-8e75-44ee-ac9e-508ce8b42d22",
   "metadata": {},
   "outputs": [
    {
     "data": {
      "text/plain": [
       "12.136969985964942"
      ]
     },
     "execution_count": 20,
     "metadata": {},
     "output_type": "execute_result"
    }
   ],
   "source": [
    "intercept"
   ]
  },
  {
   "cell_type": "code",
   "execution_count": 21,
   "id": "cc755c7a-a227-40f9-94be-dac9a4c1275b",
   "metadata": {},
   "outputs": [
    {
     "data": {
      "text/plain": [
       "186646.0"
      ]
     },
     "execution_count": 21,
     "metadata": {},
     "output_type": "execute_result"
    }
   ],
   "source": [
    "# Remember we fit the regression using a log function, so the intercept from the regression is log(a). \n",
    "# To get the non-linear demand function, we apply the exp() method returns the value of a.\n",
    "\n",
    "nonlin_intercept = round(math.exp(intercept),0)\n",
    "nonlin_intercept"
   ]
  },
  {
   "cell_type": "markdown",
   "id": "926d0a80-f941-44da-bdaf-489d25b421f8",
   "metadata": {},
   "source": [
    "Now the non-linear demand function of this product can be written as:\n",
    "\n",
    "𝑄 = 𝐴 * 𝑃^𝛽 --> Quantity = nonlin_intercept * Price^(price_elasticity)\n",
    "\n",
    "Price optimization based on elasticity\n",
    "\n",
    "The ultimate goal is to recommend the optimal price point for the business. We explore various price points to understand how demand and revenue fluctuate based on elasticity and the demand function."
   ]
  },
  {
   "cell_type": "code",
   "execution_count": 28,
   "id": "b64cfa39-f08d-49b0-8127-0ccffe41a802",
   "metadata": {},
   "outputs": [
    {
     "data": {
      "text/plain": [
       "[15.0,\n",
       " 24.949494949494948,\n",
       " 34.898989898989896,\n",
       " 44.84848484848485,\n",
       " 54.7979797979798,\n",
       " 64.74747474747474,\n",
       " 74.6969696969697,\n",
       " 84.64646464646465,\n",
       " 94.5959595959596,\n",
       " 104.54545454545455,\n",
       " 114.4949494949495,\n",
       " 124.44444444444444,\n",
       " 134.3939393939394,\n",
       " 144.34343434343435,\n",
       " 154.2929292929293,\n",
       " 164.24242424242425,\n",
       " 174.1919191919192,\n",
       " 184.14141414141415,\n",
       " 194.0909090909091,\n",
       " 204.04040404040404,\n",
       " 213.989898989899,\n",
       " 223.93939393939394,\n",
       " 233.88888888888889,\n",
       " 243.83838383838383,\n",
       " 253.7878787878788,\n",
       " 263.7373737373738,\n",
       " 273.6868686868687,\n",
       " 283.6363636363636,\n",
       " 293.5858585858586,\n",
       " 303.5353535353535,\n",
       " 313.4848484848485,\n",
       " 323.4343434343434,\n",
       " 333.3838383838384,\n",
       " 343.33333333333337,\n",
       " 353.2828282828283,\n",
       " 363.23232323232327,\n",
       " 373.1818181818182,\n",
       " 383.13131313131316,\n",
       " 393.0808080808081,\n",
       " 403.03030303030306,\n",
       " 412.979797979798,\n",
       " 422.92929292929296,\n",
       " 432.8787878787879,\n",
       " 442.82828282828285,\n",
       " 452.77777777777777,\n",
       " 462.72727272727275,\n",
       " 472.67676767676767,\n",
       " 482.62626262626264,\n",
       " 492.5757575757576,\n",
       " 502.52525252525254,\n",
       " 512.4747474747476,\n",
       " 522.4242424242425,\n",
       " 532.3737373737374,\n",
       " 542.3232323232323,\n",
       " 552.2727272727273,\n",
       " 562.2222222222223,\n",
       " 572.1717171717172,\n",
       " 582.1212121212121,\n",
       " 592.070707070707,\n",
       " 602.0202020202021,\n",
       " 611.969696969697,\n",
       " 621.9191919191919,\n",
       " 631.8686868686868,\n",
       " 641.8181818181819,\n",
       " 651.7676767676768,\n",
       " 661.7171717171717,\n",
       " 671.6666666666667,\n",
       " 681.6161616161617,\n",
       " 691.5656565656566,\n",
       " 701.5151515151515,\n",
       " 711.4646464646465,\n",
       " 721.4141414141415,\n",
       " 731.3636363636364,\n",
       " 741.3131313131313,\n",
       " 751.2626262626263,\n",
       " 761.2121212121212,\n",
       " 771.1616161616162,\n",
       " 781.1111111111111,\n",
       " 791.0606060606061,\n",
       " 801.010101010101,\n",
       " 810.959595959596,\n",
       " 820.909090909091,\n",
       " 830.8585858585859,\n",
       " 840.8080808080808,\n",
       " 850.7575757575758,\n",
       " 860.7070707070708,\n",
       " 870.6565656565657,\n",
       " 880.6060606060606,\n",
       " 890.5555555555555,\n",
       " 900.5050505050506,\n",
       " 910.4545454545455,\n",
       " 920.4040404040404,\n",
       " 930.3535353535353,\n",
       " 940.3030303030304,\n",
       " 950.2525252525253,\n",
       " 960.2020202020202,\n",
       " 970.1515151515152,\n",
       " 980.1010101010102,\n",
       " 990.0505050505051,\n",
       " 1000.0]"
      ]
     },
     "execution_count": 28,
     "metadata": {},
     "output_type": "execute_result"
    }
   ],
   "source": [
    "# Set price range\n",
    "price = list(np.linspace(15, 1000, num=100))\n",
    "price"
   ]
  },
  {
   "cell_type": "code",
   "execution_count": 29,
   "id": "4736fd09-e260-4767-b659-6ee2a614cc9e",
   "metadata": {},
   "outputs": [
    {
     "data": {
      "text/plain": [
       "array([10294.40001445,  5972.5886587 ,  4170.69978781,  3188.95629491,\n",
       "        2573.59746874,  2152.83256232,  1847.50020146,  1616.13354719,\n",
       "        1434.94421856,  1289.32430902,  1169.81534544,  1070.02737323,\n",
       "         985.49046083,   912.98545857,   850.13606602,   795.15055442,\n",
       "         746.65284222,   703.56886076,   665.04821053,   630.40896404,\n",
       "         599.0980198 ,   570.66213071,   544.72640151,   520.978104  ,\n",
       "         499.15433811,   479.03251459,   460.42293506,   443.16294986,\n",
       "         427.11231632,   412.14947935,   398.16856784,   385.07695124,\n",
       "         372.79323831,   361.24562752,   350.37053915,   340.11147465,\n",
       "         330.41806031,   321.24524166,   312.55260147,   304.30377982,\n",
       "         296.46597899,   289.0095389 ,   281.90757182,   275.1356468 ,\n",
       "         268.67151616,   262.4948777 ,   256.58716719,   250.9313769 ,\n",
       "         245.51189627,   240.3143718 ,   235.32558338,   230.53333493,\n",
       "         225.92635744,   221.49422276,   217.22726693,   213.11652157,\n",
       "         209.15365262,   205.33090546,   201.64105548,   198.07736377,\n",
       "         194.63353708,   191.30369168,   188.08232071,   184.96426456,\n",
       "         181.94468403,   179.01903587,   176.18305062,   173.43271234,\n",
       "         170.76424011,   168.17407114,   165.65884535,   163.21539116,\n",
       "         160.84071251,   158.53197693,   156.28650455,   154.10175799,\n",
       "         151.97533307,   149.90495016,   147.8884463 ,   145.92376782,\n",
       "         144.00896355,   142.14217852,   140.32164815,   138.5456928 ,\n",
       "         136.81271273,   135.12118346,   133.46965137,   131.85672965,\n",
       "         130.28109454,   128.74148177,   127.2366833 ,   125.7655442 ,\n",
       "         124.3269598 ,   122.91987298,   121.54327166,   120.19618641,\n",
       "         118.87768827,   117.58688664,   116.32292733,   115.08499072])"
      ]
     },
     "execution_count": 29,
     "metadata": {},
     "output_type": "execute_result"
    }
   ],
   "source": [
    "demand = nonlin_intercept * np.power(price, price_elasticity)\n",
    "demand"
   ]
  },
  {
   "cell_type": "code",
   "execution_count": 30,
   "id": "e6d725a2-b604-457f-afc2-8355b4bde60d",
   "metadata": {},
   "outputs": [
    {
     "data": {
      "text/plain": [
       "array([154416.00021682, 149013.0705756 , 145553.20976654, 143019.85807495,\n",
       "       141027.9421    , 139390.47196414, 138002.66656363, 136799.99116597,\n",
       "       135739.92532109, 134792.9959428 , 133937.9488944 , 133158.96200221,\n",
       "       132443.94526593, 131783.45659588, 131169.98392455, 130597.45469559,\n",
       "       130060.89155636, 129556.16496614, 129079.81177075, 128628.89973297,\n",
       "       128200.92474259, 127793.73169528, 127405.45279763, 127034.45889408,\n",
       "       126679.32065622, 126338.77733369, 126011.71136778, 125697.12759795,\n",
       "       125394.13610045, 125101.93792475, 124819.81316086, 124547.11089558,\n",
       "       124283.24071062, 124027.66544745, 123779.89501937, 123539.48109439,\n",
       "       123306.01250608, 123079.11127624, 122858.42915429, 122643.64459492,\n",
       "       122434.46010917, 122230.59993509, 122031.80798284, 121837.84601639,\n",
       "       121648.49203994, 121463.53886207, 121282.79281464, 121106.07260699,\n",
       "       120933.20829852, 120764.04037546, 120598.41891934, 120436.20285644,\n",
       "       120277.25927906, 120121.46283041, 119968.69514626, 119818.84434696,\n",
       "       119671.8045748 , 119527.47557164, 119385.76229287, 119246.57455399,\n",
       "       119109.82670652, 118975.43734041, 118843.32901035, 118713.42798385,\n",
       "       118585.66400879, 118459.97009903, 118336.28233602, 118214.53968535,\n",
       "       118094.68382673, 117976.6589962 , 117860.41183976, 117745.89127712,\n",
       "       117633.04837505, 117521.83622934, 117412.20985476, 117304.1260823 ,\n",
       "       117197.54346328, 117092.42217955, 116988.72395961, 116886.41199989,\n",
       "       116785.45089108, 116685.80654892, 116587.44614927, 116490.33806709,\n",
       "       116394.45181902, 116299.75800942, 116206.22827946, 116113.83525921,\n",
       "       116022.55252245, 115932.35454399, 115843.21665938, 115755.11502688,\n",
       "       115668.02659146, 115581.92905071, 115496.80082267, 115412.62101526,\n",
       "       115329.36939737, 115247.02637139, 115165.5729472 , 115084.99071744])"
      ]
     },
     "execution_count": 30,
     "metadata": {},
     "output_type": "execute_result"
    }
   ],
   "source": [
    "revenue = price  * demand\n",
    "revenue"
   ]
  },
  {
   "cell_type": "code",
   "execution_count": 31,
   "id": "654c0cbe-642b-4377-a0bf-c7bc94bd89ac",
   "metadata": {},
   "outputs": [
    {
     "data": {
      "text/plain": [
       "(154416.0002168243, 15.0, 0.3417562034301535)"
      ]
     },
     "execution_count": 31,
     "metadata": {},
     "output_type": "execute_result"
    }
   ],
   "source": [
    "# By using a price range between 15 and 1000, we see that the optimised price for max revenue is $15, which is the lowest price point. -->\n",
    "\n",
    "min_revenue = np.min(revenue)\n",
    "max_revenue = np.max(revenue)\n",
    "max_index = np.argmax(revenue)\n",
    "best_price = price[max_index]\n",
    "\n",
    "percentage_difference = (max_revenue - min_revenue) / min_revenue\n",
    "max_revenue, best_price, percentage_difference"
   ]
  },
  {
   "cell_type": "markdown",
   "id": "b3f2cd3c-7be3-4372-8195-7b25dfd24ec1",
   "metadata": {},
   "source": [
    "We can also see from the revenue and price chart, the highest revenue is when the price is lowest. The percentage difference between the highest revenue and the lowest revenue is also calculated."
   ]
  },
  {
   "cell_type": "code",
   "execution_count": 32,
   "id": "f3bcbb81-87ec-4510-b9d9-def961a239bc",
   "metadata": {},
   "outputs": [
    {
     "data": {
      "text/html": [
       "<div>\n",
       "<style scoped>\n",
       "    .dataframe tbody tr th:only-of-type {\n",
       "        vertical-align: middle;\n",
       "    }\n",
       "\n",
       "    .dataframe tbody tr th {\n",
       "        vertical-align: top;\n",
       "    }\n",
       "\n",
       "    .dataframe thead th {\n",
       "        text-align: right;\n",
       "    }\n",
       "</style>\n",
       "<table border=\"1\" class=\"dataframe\">\n",
       "  <thead>\n",
       "    <tr style=\"text-align: right;\">\n",
       "      <th></th>\n",
       "      <th>Price</th>\n",
       "      <th>Demand</th>\n",
       "      <th>Revenue</th>\n",
       "    </tr>\n",
       "  </thead>\n",
       "  <tbody>\n",
       "    <tr>\n",
       "      <th>0</th>\n",
       "      <td>15.000000</td>\n",
       "      <td>10294.400014</td>\n",
       "      <td>154416.000217</td>\n",
       "    </tr>\n",
       "    <tr>\n",
       "      <th>1</th>\n",
       "      <td>24.949495</td>\n",
       "      <td>5972.588659</td>\n",
       "      <td>149013.070576</td>\n",
       "    </tr>\n",
       "    <tr>\n",
       "      <th>2</th>\n",
       "      <td>34.898990</td>\n",
       "      <td>4170.699788</td>\n",
       "      <td>145553.209767</td>\n",
       "    </tr>\n",
       "    <tr>\n",
       "      <th>3</th>\n",
       "      <td>44.848485</td>\n",
       "      <td>3188.956295</td>\n",
       "      <td>143019.858075</td>\n",
       "    </tr>\n",
       "    <tr>\n",
       "      <th>4</th>\n",
       "      <td>54.797980</td>\n",
       "      <td>2573.597469</td>\n",
       "      <td>141027.942100</td>\n",
       "    </tr>\n",
       "    <tr>\n",
       "      <th>...</th>\n",
       "      <td>...</td>\n",
       "      <td>...</td>\n",
       "      <td>...</td>\n",
       "    </tr>\n",
       "    <tr>\n",
       "      <th>95</th>\n",
       "      <td>960.202020</td>\n",
       "      <td>120.196186</td>\n",
       "      <td>115412.621015</td>\n",
       "    </tr>\n",
       "    <tr>\n",
       "      <th>96</th>\n",
       "      <td>970.151515</td>\n",
       "      <td>118.877688</td>\n",
       "      <td>115329.369397</td>\n",
       "    </tr>\n",
       "    <tr>\n",
       "      <th>97</th>\n",
       "      <td>980.101010</td>\n",
       "      <td>117.586887</td>\n",
       "      <td>115247.026371</td>\n",
       "    </tr>\n",
       "    <tr>\n",
       "      <th>98</th>\n",
       "      <td>990.050505</td>\n",
       "      <td>116.322927</td>\n",
       "      <td>115165.572947</td>\n",
       "    </tr>\n",
       "    <tr>\n",
       "      <th>99</th>\n",
       "      <td>1000.000000</td>\n",
       "      <td>115.084991</td>\n",
       "      <td>115084.990717</td>\n",
       "    </tr>\n",
       "  </tbody>\n",
       "</table>\n",
       "<p>100 rows × 3 columns</p>\n",
       "</div>"
      ],
      "text/plain": [
       "          Price        Demand        Revenue\n",
       "0     15.000000  10294.400014  154416.000217\n",
       "1     24.949495   5972.588659  149013.070576\n",
       "2     34.898990   4170.699788  145553.209767\n",
       "3     44.848485   3188.956295  143019.858075\n",
       "4     54.797980   2573.597469  141027.942100\n",
       "..          ...           ...            ...\n",
       "95   960.202020    120.196186  115412.621015\n",
       "96   970.151515    118.877688  115329.369397\n",
       "97   980.101010    117.586887  115247.026371\n",
       "98   990.050505    116.322927  115165.572947\n",
       "99  1000.000000    115.084991  115084.990717\n",
       "\n",
       "[100 rows x 3 columns]"
      ]
     },
     "execution_count": 32,
     "metadata": {},
     "output_type": "execute_result"
    }
   ],
   "source": [
    "import pandas as pd\n",
    "\n",
    "# Creating a DataFrame\n",
    "price_df = pd.DataFrame({\n",
    "    'Price': price,\n",
    "    'Demand': demand,\n",
    "    'Revenue': revenue\n",
    "})\n",
    "\n",
    "price_df\n"
   ]
  },
  {
   "cell_type": "code",
   "execution_count": 34,
   "id": "fb1ca07b-a3ca-41aa-bba7-e38b86bd8ffe",
   "metadata": {},
   "outputs": [
    {
     "data": {
      "text/plain": [
       "(100000.0, 180000.0)"
      ]
     },
     "execution_count": 34,
     "metadata": {},
     "output_type": "execute_result"
    },
    {
     "data": {
      "image/png": "[encoded data removed]",
      "text/plain": [
       "<Figure size 640x480 with 1 Axes>"
      ]
     },
     "metadata": {},
     "output_type": "display_data"
    }
   ],
   "source": [
    "price_df.plot(kind='line', y='Revenue', x=\"Price\")\n",
    "plt.ylim(100000, 180000)"
   ]
  },
  {
   "cell_type": "markdown",
   "id": "25534a79-362c-45a0-a6f3-cb45d783448d",
   "metadata": {},
   "source": [
    "Price strategy based on elasticity\n",
    "Once we have the price elasticity from the modelling, how does the business use this measure for its price strategy?\n",
    "\n",
    "Elastic Demand: If a product has a high price elasticity of demand, meaning that consumers are highly sensitive to changes in price, businesses may need to adopt a lower pricing strategy to attract more customers and increase sales. This could involve lowering the price of the product or offering discounts, coupons, or other promotional offers.\n",
    "\n",
    "Inelastic Demand: If a product has a low price elasticity of demand, meaning that consumers are relatively insensitive to changes in price, businesses may be able to adopt a higher pricing strategy without significantly reducing demand. This could involve raising the price of the product or offering premium features or services to justify a higher price point."
   ]
  },
  {
   "cell_type": "code",
   "execution_count": 48,
   "id": "741c33cb-1c5d-4c15-a674-b319859fd2e4",
   "metadata": {},
   "outputs": [
    {
     "name": "stdout",
     "output_type": "stream",
     "text": [
      "1000.0\n"
     ]
    },
    {
     "data": {
      "text/html": [
       "<div>\n",
       "<style scoped>\n",
       "    .dataframe tbody tr th:only-of-type {\n",
       "        vertical-align: middle;\n",
       "    }\n",
       "\n",
       "    .dataframe tbody tr th {\n",
       "        vertical-align: top;\n",
       "    }\n",
       "\n",
       "    .dataframe thead th {\n",
       "        text-align: right;\n",
       "    }\n",
       "</style>\n",
       "<table border=\"1\" class=\"dataframe\">\n",
       "  <thead>\n",
       "    <tr style=\"text-align: right;\">\n",
       "      <th></th>\n",
       "      <th>Price</th>\n",
       "      <th>Revenue</th>\n",
       "      <th>Quantity</th>\n",
       "    </tr>\n",
       "  </thead>\n",
       "  <tbody>\n",
       "    <tr>\n",
       "      <th>0</th>\n",
       "      <td>15.000000</td>\n",
       "      <td>320801.905196</td>\n",
       "      <td>21386.793680</td>\n",
       "    </tr>\n",
       "    <tr>\n",
       "      <th>1</th>\n",
       "      <td>24.949495</td>\n",
       "      <td>355165.717546</td>\n",
       "      <td>14235.387060</td>\n",
       "    </tr>\n",
       "    <tr>\n",
       "      <th>2</th>\n",
       "      <td>34.898990</td>\n",
       "      <td>379822.998909</td>\n",
       "      <td>10883.495482</td>\n",
       "    </tr>\n",
       "    <tr>\n",
       "      <th>3</th>\n",
       "      <td>44.848485</td>\n",
       "      <td>399363.382579</td>\n",
       "      <td>8904.724071</td>\n",
       "    </tr>\n",
       "    <tr>\n",
       "      <th>4</th>\n",
       "      <td>54.797980</td>\n",
       "      <td>415691.933022</td>\n",
       "      <td>7585.898870</td>\n",
       "    </tr>\n",
       "    <tr>\n",
       "      <th>...</th>\n",
       "      <td>...</td>\n",
       "      <td>...</td>\n",
       "      <td>...</td>\n",
       "    </tr>\n",
       "    <tr>\n",
       "      <th>95</th>\n",
       "      <td>960.202020</td>\n",
       "      <td>737040.257855</td>\n",
       "      <td>767.588739</td>\n",
       "    </tr>\n",
       "    <tr>\n",
       "      <th>96</th>\n",
       "      <td>970.151515</td>\n",
       "      <td>738561.390196</td>\n",
       "      <td>761.284581</td>\n",
       "    </tr>\n",
       "    <tr>\n",
       "      <th>97</th>\n",
       "      <td>980.101010</td>\n",
       "      <td>740070.093178</td>\n",
       "      <td>755.095736</td>\n",
       "    </tr>\n",
       "    <tr>\n",
       "      <th>98</th>\n",
       "      <td>990.050505</td>\n",
       "      <td>741566.593008</td>\n",
       "      <td>749.018953</td>\n",
       "    </tr>\n",
       "    <tr>\n",
       "      <th>99</th>\n",
       "      <td>1000.000000</td>\n",
       "      <td>743051.109551</td>\n",
       "      <td>743.051110</td>\n",
       "    </tr>\n",
       "  </tbody>\n",
       "</table>\n",
       "<p>100 rows × 3 columns</p>\n",
       "</div>"
      ],
      "text/plain": [
       "          Price        Revenue      Quantity\n",
       "0     15.000000  320801.905196  21386.793680\n",
       "1     24.949495  355165.717546  14235.387060\n",
       "2     34.898990  379822.998909  10883.495482\n",
       "3     44.848485  399363.382579   8904.724071\n",
       "4     54.797980  415691.933022   7585.898870\n",
       "..          ...            ...           ...\n",
       "95   960.202020  737040.257855    767.588739\n",
       "96   970.151515  738561.390196    761.284581\n",
       "97   980.101010  740070.093178    755.095736\n",
       "98   990.050505  741566.593008    749.018953\n",
       "99  1000.000000  743051.109551    743.051110\n",
       "\n",
       "[100 rows x 3 columns]"
      ]
     },
     "execution_count": 48,
     "metadata": {},
     "output_type": "execute_result"
    }
   ],
   "source": [
    "#add -0.8 inelastic \n",
    "elasticity1 = -0.8\n",
    "\n",
    "demand1 = nonlin_intercept * np.power(price,elasticity1)\n",
    "revenue1 = price  * demand1\n",
    "max_revenue1 = np.max(revenue1)\n",
    "max_index1 = np.argmax(revenue1)\n",
    "\n",
    "print(price[max_index1])\n",
    "\n",
    "data1 = {'Price': price, 'Revenue': revenue1, 'Quantity': demand1}\n",
    "price_df1 = pd.DataFrame(data1)\n",
    "price_df1"
   ]
  },
  {
   "cell_type": "code",
   "execution_count": 50,
   "id": "12b73788-8611-4b96-a220-4d6ef8395a16",
   "metadata": {},
   "outputs": [
    {
     "name": "stdout",
     "output_type": "stream",
     "text": [
      "15.0\n"
     ]
    },
    {
     "data": {
      "text/html": [
       "<div>\n",
       "<style scoped>\n",
       "    .dataframe tbody tr th:only-of-type {\n",
       "        vertical-align: middle;\n",
       "    }\n",
       "\n",
       "    .dataframe tbody tr th {\n",
       "        vertical-align: top;\n",
       "    }\n",
       "\n",
       "    .dataframe thead th {\n",
       "        text-align: right;\n",
       "    }\n",
       "</style>\n",
       "<table border=\"1\" class=\"dataframe\">\n",
       "  <thead>\n",
       "    <tr style=\"text-align: right;\">\n",
       "      <th></th>\n",
       "      <th>Price</th>\n",
       "      <th>Revenue</th>\n",
       "      <th>Quantity</th>\n",
       "    </tr>\n",
       "  </thead>\n",
       "  <tbody>\n",
       "    <tr>\n",
       "      <th>0</th>\n",
       "      <td>15.000000</td>\n",
       "      <td>12443.066667</td>\n",
       "      <td>829.537778</td>\n",
       "    </tr>\n",
       "    <tr>\n",
       "      <th>1</th>\n",
       "      <td>24.949495</td>\n",
       "      <td>7480.953036</td>\n",
       "      <td>299.843867</td>\n",
       "    </tr>\n",
       "    <tr>\n",
       "      <th>2</th>\n",
       "      <td>34.898990</td>\n",
       "      <td>5348.177713</td>\n",
       "      <td>153.247350</td>\n",
       "    </tr>\n",
       "    <tr>\n",
       "      <th>3</th>\n",
       "      <td>44.848485</td>\n",
       "      <td>4161.701351</td>\n",
       "      <td>92.794692</td>\n",
       "    </tr>\n",
       "    <tr>\n",
       "      <th>4</th>\n",
       "      <td>54.797980</td>\n",
       "      <td>3406.074470</td>\n",
       "      <td>62.156935</td>\n",
       "    </tr>\n",
       "    <tr>\n",
       "      <th>...</th>\n",
       "      <td>...</td>\n",
       "      <td>...</td>\n",
       "      <td>...</td>\n",
       "    </tr>\n",
       "    <tr>\n",
       "      <th>95</th>\n",
       "      <td>960.202020</td>\n",
       "      <td>194.382011</td>\n",
       "      <td>0.202439</td>\n",
       "    </tr>\n",
       "    <tr>\n",
       "      <th>96</th>\n",
       "      <td>970.151515</td>\n",
       "      <td>192.388505</td>\n",
       "      <td>0.198308</td>\n",
       "    </tr>\n",
       "    <tr>\n",
       "      <th>97</th>\n",
       "      <td>980.101010</td>\n",
       "      <td>190.435474</td>\n",
       "      <td>0.194302</td>\n",
       "    </tr>\n",
       "    <tr>\n",
       "      <th>98</th>\n",
       "      <td>990.050505</td>\n",
       "      <td>188.521696</td>\n",
       "      <td>0.190416</td>\n",
       "    </tr>\n",
       "    <tr>\n",
       "      <th>99</th>\n",
       "      <td>1000.000000</td>\n",
       "      <td>186.646000</td>\n",
       "      <td>0.186646</td>\n",
       "    </tr>\n",
       "  </tbody>\n",
       "</table>\n",
       "<p>100 rows × 3 columns</p>\n",
       "</div>"
      ],
      "text/plain": [
       "          Price       Revenue    Quantity\n",
       "0     15.000000  12443.066667  829.537778\n",
       "1     24.949495   7480.953036  299.843867\n",
       "2     34.898990   5348.177713  153.247350\n",
       "3     44.848485   4161.701351   92.794692\n",
       "4     54.797980   3406.074470   62.156935\n",
       "..          ...           ...         ...\n",
       "95   960.202020    194.382011    0.202439\n",
       "96   970.151515    192.388505    0.198308\n",
       "97   980.101010    190.435474    0.194302\n",
       "98   990.050505    188.521696    0.190416\n",
       "99  1000.000000    186.646000    0.186646\n",
       "\n",
       "[100 rows x 3 columns]"
      ]
     },
     "execution_count": 50,
     "metadata": {},
     "output_type": "execute_result"
    }
   ],
   "source": [
    "#add -2 perpectly elastic\n",
    "elasticity2 = -2\n",
    "\n",
    "demand2 = nonlin_intercept * np.power(price,elasticity2)\n",
    "revenue2 = price  * demand2\n",
    "max_revenue2 = np.max(revenue2)\n",
    "max_index2 = np.argmax(revenue2)\n",
    "print(price[max_index2])\n",
    "\n",
    "data2 = {'Price': price, 'Revenue': revenue2, 'Quantity': demand2}\n",
    "price_df2 = pd.DataFrame(data2)\n",
    "price_df2"
   ]
  },
  {
   "cell_type": "code",
   "execution_count": 51,
   "id": "df6fdb13-481d-4ecb-a3d9-20f094b036cc",
   "metadata": {},
   "outputs": [
    {
     "data": {
      "text/html": [
       "<div>\n",
       "<style scoped>\n",
       "    .dataframe tbody tr th:only-of-type {\n",
       "        vertical-align: middle;\n",
       "    }\n",
       "\n",
       "    .dataframe tbody tr th {\n",
       "        vertical-align: top;\n",
       "    }\n",
       "\n",
       "    .dataframe thead th {\n",
       "        text-align: right;\n",
       "    }\n",
       "</style>\n",
       "<table border=\"1\" class=\"dataframe\">\n",
       "  <thead>\n",
       "    <tr style=\"text-align: right;\">\n",
       "      <th></th>\n",
       "      <th>-0.8_elasticity_rev</th>\n",
       "      <th>-1.07_elasticity_rev</th>\n",
       "      <th>-2_elasticity_rev</th>\n",
       "    </tr>\n",
       "    <tr>\n",
       "      <th>Price</th>\n",
       "      <th></th>\n",
       "      <th></th>\n",
       "      <th></th>\n",
       "    </tr>\n",
       "  </thead>\n",
       "  <tbody>\n",
       "    <tr>\n",
       "      <th>15.000000</th>\n",
       "      <td>320801.905196</td>\n",
       "      <td>154416.000217</td>\n",
       "      <td>12443.066667</td>\n",
       "    </tr>\n",
       "    <tr>\n",
       "      <th>24.949495</th>\n",
       "      <td>355165.717546</td>\n",
       "      <td>149013.070576</td>\n",
       "      <td>7480.953036</td>\n",
       "    </tr>\n",
       "    <tr>\n",
       "      <th>34.898990</th>\n",
       "      <td>379822.998909</td>\n",
       "      <td>145553.209767</td>\n",
       "      <td>5348.177713</td>\n",
       "    </tr>\n",
       "    <tr>\n",
       "      <th>44.848485</th>\n",
       "      <td>399363.382579</td>\n",
       "      <td>143019.858075</td>\n",
       "      <td>4161.701351</td>\n",
       "    </tr>\n",
       "    <tr>\n",
       "      <th>54.797980</th>\n",
       "      <td>415691.933022</td>\n",
       "      <td>141027.942100</td>\n",
       "      <td>3406.074470</td>\n",
       "    </tr>\n",
       "    <tr>\n",
       "      <th>...</th>\n",
       "      <td>...</td>\n",
       "      <td>...</td>\n",
       "      <td>...</td>\n",
       "    </tr>\n",
       "    <tr>\n",
       "      <th>960.202020</th>\n",
       "      <td>737040.257855</td>\n",
       "      <td>115412.621015</td>\n",
       "      <td>194.382011</td>\n",
       "    </tr>\n",
       "    <tr>\n",
       "      <th>970.151515</th>\n",
       "      <td>738561.390196</td>\n",
       "      <td>115329.369397</td>\n",
       "      <td>192.388505</td>\n",
       "    </tr>\n",
       "    <tr>\n",
       "      <th>980.101010</th>\n",
       "      <td>740070.093178</td>\n",
       "      <td>115247.026371</td>\n",
       "      <td>190.435474</td>\n",
       "    </tr>\n",
       "    <tr>\n",
       "      <th>990.050505</th>\n",
       "      <td>741566.593008</td>\n",
       "      <td>115165.572947</td>\n",
       "      <td>188.521696</td>\n",
       "    </tr>\n",
       "    <tr>\n",
       "      <th>1000.000000</th>\n",
       "      <td>743051.109551</td>\n",
       "      <td>115084.990717</td>\n",
       "      <td>186.646000</td>\n",
       "    </tr>\n",
       "  </tbody>\n",
       "</table>\n",
       "<p>100 rows × 3 columns</p>\n",
       "</div>"
      ],
      "text/plain": [
       "             -0.8_elasticity_rev  -1.07_elasticity_rev  -2_elasticity_rev\n",
       "Price                                                                    \n",
       "15.000000          320801.905196         154416.000217       12443.066667\n",
       "24.949495          355165.717546         149013.070576        7480.953036\n",
       "34.898990          379822.998909         145553.209767        5348.177713\n",
       "44.848485          399363.382579         143019.858075        4161.701351\n",
       "54.797980          415691.933022         141027.942100        3406.074470\n",
       "...                          ...                   ...                ...\n",
       "960.202020         737040.257855         115412.621015         194.382011\n",
       "970.151515         738561.390196         115329.369397         192.388505\n",
       "980.101010         740070.093178         115247.026371         190.435474\n",
       "990.050505         741566.593008         115165.572947         188.521696\n",
       "1000.000000        743051.109551         115084.990717         186.646000\n",
       "\n",
       "[100 rows x 3 columns]"
      ]
     },
     "execution_count": 51,
     "metadata": {},
     "output_type": "execute_result"
    }
   ],
   "source": [
    "final_price_df = price_df1.merge(price_df, left_on='Price', right_on='Price')\\\n",
    "                          .merge(price_df2, left_on='Price', right_on='Price')\n",
    "\n",
    "final_price_df = final_price_df.rename(columns={'Revenue_x':'-0.8_elasticity_rev',\\\n",
    "                                                'Revenue':'-2_elasticity_rev',\\\n",
    "                                                 'Revenue_y':'-1.07_elasticity_rev', \n",
    "                                                    })[['Price','-0.8_elasticity_rev','-1.07_elasticity_rev','-2_elasticity_rev']].set_index('Price')\n",
    "\n",
    "final_price_df"
   ]
  },
  {
   "cell_type": "code",
   "execution_count": 52,
   "id": "30f2b2f3-923f-484e-8ac4-b3e0e648828b",
   "metadata": {},
   "outputs": [
    {
     "data": {
      "text/plain": [
       "<Axes: xlabel='Price'>"
      ]
     },
     "execution_count": 52,
     "metadata": {},
     "output_type": "execute_result"
    },
    {
     "data": {
      "image/png": "[encoded data removed]",
      "text/plain": [
       "<Figure size 640x480 with 1 Axes>"
      ]
     },
     "metadata": {},
     "output_type": "display_data"
    }
   ],
   "source": [
    "final_price_df.plot()"
   ]
  },
  {
   "cell_type": "code",
   "execution_count": null,
   "id": "bad38752-0851-46ac-bbf5-e78a78ac0936",
   "metadata": {},
   "outputs": [],
   "source": []
  },
  {
   "cell_type": "code",
   "execution_count": null,
   "id": "76699ea8-7f59-4d56-a690-dc8bbb3e59b2",
   "metadata": {},
   "outputs": [],
   "source": []
  },
  {
   "cell_type": "code",
   "execution_count": null,
   "id": "c952a626-2be1-406d-bde0-43d9cf93949c",
   "metadata": {},
   "outputs": [],
   "source": []
  },
  {
   "cell_type": "code",
   "execution_count": null,
   "id": "83d2d59e-89a1-4302-aa83-58c64619adba",
   "metadata": {},
   "outputs": [],
   "source": []
  },
  {
   "cell_type": "code",
   "execution_count": null,
   "id": "e9f7d7fb-bd6d-4c48-a534-0928a101efce",
   "metadata": {},
   "outputs": [],
   "source": []
  },
  {
   "cell_type": "code",
   "execution_count": null,
   "id": "f0401054-9bca-4214-9076-3319db4f62e8",
   "metadata": {},
   "outputs": [],
   "source": []
  },
  {
   "cell_type": "code",
   "execution_count": null,
   "id": "dbaf0aa2-ece7-459f-8573-3b3b9bd9df1f",
   "metadata": {},
   "outputs": [],
   "source": []
  }
 ],
 "metadata": {
  "kernelspec": {
   "display_name": "Python 3 (ipykernel)",
   "language": "python",
   "name": "python3"
  },
  "language_info": {
   "codemirror_mode": {
    "name": "ipython",
    "version": 3
   },
   "file_extension": ".py",
   "mimetype": "text/x-python",
   "name": "python",
   "nbconvert_exporter": "python",
   "pygments_lexer": "ipython3",
   "version": "3.10.10"
  }
 },
 "nbformat": 4,
 "nbformat_minor": 5
}
