{
 "cells": [
  {
   "cell_type": "code",
   "execution_count": 1,
   "id": "b35405ce-7144-4215-82eb-01996cda8e5d",
   "metadata": {},
   "outputs": [],
   "source": [
    "import pandas as pd\n",
    "\n",
    "import numpy as np\n",
    "\n",
    "import matplotlib\n",
    "import matplotlib.pyplot as plt"
   ]
  },
  {
   "cell_type": "markdown",
   "id": "d0fe5a33-a84c-4ee1-891d-c3d6e2b30850",
   "metadata": {},
   "source": [
    "The effect of diversification\n",
    "\n",
    "In this exercise you're going to compare performance of four individual stocks, to a portfolio of the same four stocks. You'll see that 2 out of the four stocks will under-perform over a time period of roughly four years, and two will perform quite well.\n",
    "\n",
    "The stocks you're going to investigate are General Electric, JP Morgan, Microsoft and Proctor & Gamble.\n",
    "\n",
    "Let's play a little game: pick one stock to invest in, then, let's see how it would have performed over time. There's a 50-50 chance that you'll pick a winning stock, versus a losing stock. Let's look at the data and see whether your stock is one of strong performers.\n",
    "\n",
    "Available is a data set called stock_returns containing the cumulative returns of these four stocks over time, plus a portfolio of these stocks."
   ]
  },
  {
   "cell_type": "code",
   "execution_count": 2,
   "id": "1215b6d6-2083-4ba2-91d2-7d6a56577b3e",
   "metadata": {},
   "outputs": [
    {
     "data": {
      "text/html": [
       "<div>\n",
       "<style scoped>\n",
       "    .dataframe tbody tr th:only-of-type {\n",
       "        vertical-align: middle;\n",
       "    }\n",
       "\n",
       "    .dataframe tbody tr th {\n",
       "        vertical-align: top;\n",
       "    }\n",
       "\n",
       "    .dataframe thead th {\n",
       "        text-align: right;\n",
       "    }\n",
       "</style>\n",
       "<table border=\"1\" class=\"dataframe\">\n",
       "  <thead>\n",
       "    <tr style=\"text-align: right;\">\n",
       "      <th></th>\n",
       "      <th>GE</th>\n",
       "      <th>JPM</th>\n",
       "      <th>MSFT</th>\n",
       "      <th>PG</th>\n",
       "    </tr>\n",
       "    <tr>\n",
       "      <th>date</th>\n",
       "      <th></th>\n",
       "      <th></th>\n",
       "      <th></th>\n",
       "      <th></th>\n",
       "    </tr>\n",
       "  </thead>\n",
       "  <tbody>\n",
       "    <tr>\n",
       "      <th>2015-01-02</th>\n",
       "      <td>25.06</td>\n",
       "      <td>62.49</td>\n",
       "      <td>46.760</td>\n",
       "      <td>90.44</td>\n",
       "    </tr>\n",
       "    <tr>\n",
       "      <th>2015-01-05</th>\n",
       "      <td>24.60</td>\n",
       "      <td>60.55</td>\n",
       "      <td>46.325</td>\n",
       "      <td>90.01</td>\n",
       "    </tr>\n",
       "    <tr>\n",
       "      <th>2015-01-06</th>\n",
       "      <td>24.07</td>\n",
       "      <td>58.98</td>\n",
       "      <td>45.650</td>\n",
       "      <td>89.60</td>\n",
       "    </tr>\n",
       "    <tr>\n",
       "      <th>2015-01-07</th>\n",
       "      <td>24.08</td>\n",
       "      <td>59.07</td>\n",
       "      <td>46.230</td>\n",
       "      <td>90.07</td>\n",
       "    </tr>\n",
       "    <tr>\n",
       "      <th>2015-01-08</th>\n",
       "      <td>24.37</td>\n",
       "      <td>60.39</td>\n",
       "      <td>47.590</td>\n",
       "      <td>91.10</td>\n",
       "    </tr>\n",
       "    <tr>\n",
       "      <th>...</th>\n",
       "      <td>...</td>\n",
       "      <td>...</td>\n",
       "      <td>...</td>\n",
       "      <td>...</td>\n",
       "    </tr>\n",
       "    <tr>\n",
       "      <th>2018-03-21</th>\n",
       "      <td>13.88</td>\n",
       "      <td>114.74</td>\n",
       "      <td>92.480</td>\n",
       "      <td>77.04</td>\n",
       "    </tr>\n",
       "    <tr>\n",
       "      <th>2018-03-22</th>\n",
       "      <td>13.35</td>\n",
       "      <td>109.95</td>\n",
       "      <td>89.790</td>\n",
       "      <td>76.41</td>\n",
       "    </tr>\n",
       "    <tr>\n",
       "      <th>2018-03-23</th>\n",
       "      <td>13.07</td>\n",
       "      <td>107.01</td>\n",
       "      <td>87.180</td>\n",
       "      <td>75.91</td>\n",
       "    </tr>\n",
       "    <tr>\n",
       "      <th>2018-03-26</th>\n",
       "      <td>12.89</td>\n",
       "      <td>110.31</td>\n",
       "      <td>93.780</td>\n",
       "      <td>76.41</td>\n",
       "    </tr>\n",
       "    <tr>\n",
       "      <th>2018-03-27</th>\n",
       "      <td>13.44</td>\n",
       "      <td>108.17</td>\n",
       "      <td>89.470</td>\n",
       "      <td>77.79</td>\n",
       "    </tr>\n",
       "  </tbody>\n",
       "</table>\n",
       "<p>813 rows × 4 columns</p>\n",
       "</div>"
      ],
      "text/plain": [
       "               GE     JPM    MSFT     PG\n",
       "date                                    \n",
       "2015-01-02  25.06   62.49  46.760  90.44\n",
       "2015-01-05  24.60   60.55  46.325  90.01\n",
       "2015-01-06  24.07   58.98  45.650  89.60\n",
       "2015-01-07  24.08   59.07  46.230  90.07\n",
       "2015-01-08  24.37   60.39  47.590  91.10\n",
       "...           ...     ...     ...    ...\n",
       "2018-03-21  13.88  114.74  92.480  77.04\n",
       "2018-03-22  13.35  109.95  89.790  76.41\n",
       "2018-03-23  13.07  107.01  87.180  75.91\n",
       "2018-03-26  12.89  110.31  93.780  76.41\n",
       "2018-03-27  13.44  108.17  89.470  77.79\n",
       "\n",
       "[813 rows x 4 columns]"
      ]
     },
     "execution_count": 2,
     "metadata": {},
     "output_type": "execute_result"
    }
   ],
   "source": [
    "small_portfolio = pd.read_csv('small_portfolio.csv', index_col=0)\n",
    "small_portfolio"
   ]
  },
  {
   "cell_type": "code",
   "execution_count": 3,
   "id": "cd31d4ae-6449-4e51-9248-d849b4733727",
   "metadata": {},
   "outputs": [
    {
     "data": {
      "text/html": [
       "<div>\n",
       "<style scoped>\n",
       "    .dataframe tbody tr th:only-of-type {\n",
       "        vertical-align: middle;\n",
       "    }\n",
       "\n",
       "    .dataframe tbody tr th {\n",
       "        vertical-align: top;\n",
       "    }\n",
       "\n",
       "    .dataframe thead th {\n",
       "        text-align: right;\n",
       "    }\n",
       "</style>\n",
       "<table border=\"1\" class=\"dataframe\">\n",
       "  <thead>\n",
       "    <tr style=\"text-align: right;\">\n",
       "      <th></th>\n",
       "      <th>GE</th>\n",
       "      <th>JPM</th>\n",
       "      <th>MSFT</th>\n",
       "      <th>PG</th>\n",
       "      <th>portfolio</th>\n",
       "    </tr>\n",
       "    <tr>\n",
       "      <th>date</th>\n",
       "      <th></th>\n",
       "      <th></th>\n",
       "      <th></th>\n",
       "      <th></th>\n",
       "      <th></th>\n",
       "    </tr>\n",
       "  </thead>\n",
       "  <tbody>\n",
       "    <tr>\n",
       "      <th>2015-01-02</th>\n",
       "      <td>1.000000</td>\n",
       "      <td>1.000000</td>\n",
       "      <td>1.000000</td>\n",
       "      <td>1.000000</td>\n",
       "      <td>1.000000</td>\n",
       "    </tr>\n",
       "    <tr>\n",
       "      <th>2015-01-05</th>\n",
       "      <td>0.981644</td>\n",
       "      <td>0.968955</td>\n",
       "      <td>0.990697</td>\n",
       "      <td>0.995245</td>\n",
       "      <td>0.984135</td>\n",
       "    </tr>\n",
       "    <tr>\n",
       "      <th>2015-01-06</th>\n",
       "      <td>0.960495</td>\n",
       "      <td>0.943831</td>\n",
       "      <td>0.976262</td>\n",
       "      <td>0.990712</td>\n",
       "      <td>0.967825</td>\n",
       "    </tr>\n",
       "    <tr>\n",
       "      <th>2015-01-07</th>\n",
       "      <td>0.960894</td>\n",
       "      <td>0.945271</td>\n",
       "      <td>0.988666</td>\n",
       "      <td>0.995909</td>\n",
       "      <td>0.972685</td>\n",
       "    </tr>\n",
       "    <tr>\n",
       "      <th>2015-01-08</th>\n",
       "      <td>0.972466</td>\n",
       "      <td>0.966395</td>\n",
       "      <td>1.017750</td>\n",
       "      <td>1.007298</td>\n",
       "      <td>0.990977</td>\n",
       "    </tr>\n",
       "    <tr>\n",
       "      <th>...</th>\n",
       "      <td>...</td>\n",
       "      <td>...</td>\n",
       "      <td>...</td>\n",
       "      <td>...</td>\n",
       "      <td>...</td>\n",
       "    </tr>\n",
       "    <tr>\n",
       "      <th>2018-03-21</th>\n",
       "      <td>0.553871</td>\n",
       "      <td>1.836134</td>\n",
       "      <td>1.977759</td>\n",
       "      <td>0.851835</td>\n",
       "      <td>1.304900</td>\n",
       "    </tr>\n",
       "    <tr>\n",
       "      <th>2018-03-22</th>\n",
       "      <td>0.532721</td>\n",
       "      <td>1.759482</td>\n",
       "      <td>1.920231</td>\n",
       "      <td>0.844870</td>\n",
       "      <td>1.264326</td>\n",
       "    </tr>\n",
       "    <tr>\n",
       "      <th>2018-03-23</th>\n",
       "      <td>0.521548</td>\n",
       "      <td>1.712434</td>\n",
       "      <td>1.864414</td>\n",
       "      <td>0.839341</td>\n",
       "      <td>1.234434</td>\n",
       "    </tr>\n",
       "    <tr>\n",
       "      <th>2018-03-26</th>\n",
       "      <td>0.514366</td>\n",
       "      <td>1.765242</td>\n",
       "      <td>2.005560</td>\n",
       "      <td>0.844870</td>\n",
       "      <td>1.282509</td>\n",
       "    </tr>\n",
       "    <tr>\n",
       "      <th>2018-03-27</th>\n",
       "      <td>0.536313</td>\n",
       "      <td>1.730997</td>\n",
       "      <td>1.913388</td>\n",
       "      <td>0.860128</td>\n",
       "      <td>1.260206</td>\n",
       "    </tr>\n",
       "  </tbody>\n",
       "</table>\n",
       "<p>813 rows × 5 columns</p>\n",
       "</div>"
      ],
      "text/plain": [
       "                  GE       JPM      MSFT        PG  portfolio\n",
       "date                                                         \n",
       "2015-01-02  1.000000  1.000000  1.000000  1.000000   1.000000\n",
       "2015-01-05  0.981644  0.968955  0.990697  0.995245   0.984135\n",
       "2015-01-06  0.960495  0.943831  0.976262  0.990712   0.967825\n",
       "2015-01-07  0.960894  0.945271  0.988666  0.995909   0.972685\n",
       "2015-01-08  0.972466  0.966395  1.017750  1.007298   0.990977\n",
       "...              ...       ...       ...       ...        ...\n",
       "2018-03-21  0.553871  1.836134  1.977759  0.851835   1.304900\n",
       "2018-03-22  0.532721  1.759482  1.920231  0.844870   1.264326\n",
       "2018-03-23  0.521548  1.712434  1.864414  0.839341   1.234434\n",
       "2018-03-26  0.514366  1.765242  2.005560  0.844870   1.282509\n",
       "2018-03-27  0.536313  1.730997  1.913388  0.860128   1.260206\n",
       "\n",
       "[813 rows x 5 columns]"
      ]
     },
     "execution_count": 3,
     "metadata": {},
     "output_type": "execute_result"
    }
   ],
   "source": [
    "stock_returns = small_portfolio/small_portfolio.iloc[0]\n",
    "stock_returns['portfolio'] = stock_returns.mean(axis=1) \n",
    "# all the weights of the stocks in the portfolio are equal, hence we are looking at an equal weighted portfolio.\n",
    "stock_returns"
   ]
  },
  {
   "cell_type": "code",
   "execution_count": 4,
   "id": "95aa8a8a-5a74-4bbc-b622-fb9b907397a7",
   "metadata": {},
   "outputs": [],
   "source": [
    "def plot_pct_returns(df):\n",
    "    fig, ax = plt.subplots()\n",
    "    ax.plot(df.index, df.MSFT, marker='', color='green', linewidth=2, label=\"MSFT\")\n",
    "    ax.plot(df.index, df.portfolio, linewidth=2, linestyle='dashed', color='skyblue', label='portfolio')\n",
    "    ax.plot(df.index, df.PG, marker='', color='pink', linewidth=2, label=\"PG\")\n",
    "    ax.plot(df.index, df.JPM, color='yellow', linewidth=2, label='JPM')\n",
    "    ax.plot(df.index, df.GE, color='red', linewidth=2, label='GE')\n",
    "    ax.xaxis.set_major_locator(matplotlib.dates.YearLocator())\n",
    "    #ax.xaxis.set_minor_locator(matplotlib.dates.MonthLocator((1,4,7,10)))\n",
    "    ax.xaxis.set_major_formatter(matplotlib.dates.DateFormatter(\"\\n%Y\"))\n",
    "    #ax.xaxis.set_minor_formatter(matplotlib.dates.DateFormatter(\"%b\"))\n",
    "    plt.setp(ax.get_xticklabels(), rotation=0, ha=\"center\")\n",
    "    plt.legend()\n",
    "    plt.show()"
   ]
  },
  {
   "cell_type": "code",
   "execution_count": 5,
   "id": "38069a44-66b0-4325-93e7-958899c22302",
   "metadata": {},
   "outputs": [
    {
     "data": {
      "image/png": "[encoded data removed]",
      "text/plain": [
       "<Figure size 640x480 with 1 Axes>"
      ]
     },
     "metadata": {},
     "output_type": "display_data"
    }
   ],
   "source": [
    "plot_pct_returns(stock_returns)"
   ]
  },
  {
   "cell_type": "markdown",
   "id": "29cd5023-280c-4a35-b90e-c824ef8fe156",
   "metadata": {},
   "source": [
    "Calculate mean returns\n",
    "\n",
    "In this exercise, you're going to calculate performance for a four stock portfolio over the period January 2015 through March 2019. The portfolio consists of Proctor & Gamble, Microsoft, JP Morgan and General Electric stocks. You'll discover that multiplying the mean return of each stock with its portfolio weight, is a very quick and straightforward way to calculate portfolio performance over a given period of time."
   ]
  },
  {
   "cell_type": "code",
   "execution_count": 6,
   "id": "9b2aea6d-347d-4c6d-9e26-e4da629df2d0",
   "metadata": {},
   "outputs": [
    {
     "data": {
      "text/html": [
       "<div>\n",
       "<style scoped>\n",
       "    .dataframe tbody tr th:only-of-type {\n",
       "        vertical-align: middle;\n",
       "    }\n",
       "\n",
       "    .dataframe tbody tr th {\n",
       "        vertical-align: top;\n",
       "    }\n",
       "\n",
       "    .dataframe thead th {\n",
       "        text-align: right;\n",
       "    }\n",
       "</style>\n",
       "<table border=\"1\" class=\"dataframe\">\n",
       "  <thead>\n",
       "    <tr style=\"text-align: right;\">\n",
       "      <th></th>\n",
       "      <th>GE</th>\n",
       "      <th>JPM</th>\n",
       "      <th>MSFT</th>\n",
       "      <th>PG</th>\n",
       "    </tr>\n",
       "    <tr>\n",
       "      <th>date</th>\n",
       "      <th></th>\n",
       "      <th></th>\n",
       "      <th></th>\n",
       "      <th></th>\n",
       "    </tr>\n",
       "  </thead>\n",
       "  <tbody>\n",
       "    <tr>\n",
       "      <th>2015-01-02</th>\n",
       "      <td>NaN</td>\n",
       "      <td>NaN</td>\n",
       "      <td>NaN</td>\n",
       "      <td>NaN</td>\n",
       "    </tr>\n",
       "    <tr>\n",
       "      <th>2015-01-05</th>\n",
       "      <td>-0.018356</td>\n",
       "      <td>-0.031045</td>\n",
       "      <td>-0.009303</td>\n",
       "      <td>-0.004755</td>\n",
       "    </tr>\n",
       "    <tr>\n",
       "      <th>2015-01-06</th>\n",
       "      <td>-0.021545</td>\n",
       "      <td>-0.025929</td>\n",
       "      <td>-0.014571</td>\n",
       "      <td>-0.004555</td>\n",
       "    </tr>\n",
       "    <tr>\n",
       "      <th>2015-01-07</th>\n",
       "      <td>0.000415</td>\n",
       "      <td>0.001526</td>\n",
       "      <td>0.012705</td>\n",
       "      <td>0.005246</td>\n",
       "    </tr>\n",
       "    <tr>\n",
       "      <th>2015-01-08</th>\n",
       "      <td>0.012043</td>\n",
       "      <td>0.022346</td>\n",
       "      <td>0.029418</td>\n",
       "      <td>0.011436</td>\n",
       "    </tr>\n",
       "    <tr>\n",
       "      <th>...</th>\n",
       "      <td>...</td>\n",
       "      <td>...</td>\n",
       "      <td>...</td>\n",
       "      <td>...</td>\n",
       "    </tr>\n",
       "    <tr>\n",
       "      <th>2018-03-21</th>\n",
       "      <td>0.017595</td>\n",
       "      <td>0.000872</td>\n",
       "      <td>-0.006979</td>\n",
       "      <td>-0.016218</td>\n",
       "    </tr>\n",
       "    <tr>\n",
       "      <th>2018-03-22</th>\n",
       "      <td>-0.038184</td>\n",
       "      <td>-0.041747</td>\n",
       "      <td>-0.029087</td>\n",
       "      <td>-0.008178</td>\n",
       "    </tr>\n",
       "    <tr>\n",
       "      <th>2018-03-23</th>\n",
       "      <td>-0.020974</td>\n",
       "      <td>-0.026739</td>\n",
       "      <td>-0.029068</td>\n",
       "      <td>-0.006544</td>\n",
       "    </tr>\n",
       "    <tr>\n",
       "      <th>2018-03-26</th>\n",
       "      <td>-0.013772</td>\n",
       "      <td>0.030838</td>\n",
       "      <td>0.075705</td>\n",
       "      <td>0.006587</td>\n",
       "    </tr>\n",
       "    <tr>\n",
       "      <th>2018-03-27</th>\n",
       "      <td>0.042669</td>\n",
       "      <td>-0.019400</td>\n",
       "      <td>-0.045959</td>\n",
       "      <td>0.018060</td>\n",
       "    </tr>\n",
       "  </tbody>\n",
       "</table>\n",
       "<p>813 rows × 4 columns</p>\n",
       "</div>"
      ],
      "text/plain": [
       "                  GE       JPM      MSFT        PG\n",
       "date                                              \n",
       "2015-01-02       NaN       NaN       NaN       NaN\n",
       "2015-01-05 -0.018356 -0.031045 -0.009303 -0.004755\n",
       "2015-01-06 -0.021545 -0.025929 -0.014571 -0.004555\n",
       "2015-01-07  0.000415  0.001526  0.012705  0.005246\n",
       "2015-01-08  0.012043  0.022346  0.029418  0.011436\n",
       "...              ...       ...       ...       ...\n",
       "2018-03-21  0.017595  0.000872 -0.006979 -0.016218\n",
       "2018-03-22 -0.038184 -0.041747 -0.029087 -0.008178\n",
       "2018-03-23 -0.020974 -0.026739 -0.029068 -0.006544\n",
       "2018-03-26 -0.013772  0.030838  0.075705  0.006587\n",
       "2018-03-27  0.042669 -0.019400 -0.045959  0.018060\n",
       "\n",
       "[813 rows x 4 columns]"
      ]
     },
     "execution_count": 6,
     "metadata": {},
     "output_type": "execute_result"
    }
   ],
   "source": [
    "# Calculate percentage returns\n",
    "returns = small_portfolio.pct_change()\n",
    "returns"
   ]
  },
  {
   "cell_type": "code",
   "execution_count": 7,
   "id": "a9e6f905-745b-4e29-8120-d84a49fa773d",
   "metadata": {},
   "outputs": [
    {
     "data": {
      "text/plain": [
       "GE     -0.000675\n",
       "JPM     0.000769\n",
       "MSFT    0.000907\n",
       "PG     -0.000144\n",
       "dtype: float64"
      ]
     },
     "execution_count": 7,
     "metadata": {},
     "output_type": "execute_result"
    }
   ],
   "source": [
    "# Calculate individual mean returns \n",
    "meanDailyReturns = returns.mean()\n",
    "meanDailyReturns"
   ]
  },
  {
   "cell_type": "code",
   "execution_count": 8,
   "id": "8146d0dd-76ca-4d7d-b738-fe0d34af8247",
   "metadata": {},
   "outputs": [
    {
     "data": {
      "text/plain": [
       "-1.6782226618545438e-05"
      ]
     },
     "execution_count": 8,
     "metadata": {},
     "output_type": "execute_result"
    }
   ],
   "source": [
    "# Define weights for the portfolio\n",
    "weights = np.array([0.5, 0.2, 0.2, 0.1])\n",
    "\n",
    "# Calculate expected portfolio performance\n",
    "portReturn = np.sum(meanDailyReturns*weights)\n",
    "\n",
    "portReturn"
   ]
  },
  {
   "cell_type": "markdown",
   "id": "2bf48260-b51b-4491-9c09-a2ca7eeff295",
   "metadata": {},
   "source": [
    "Portfolio cumulative returns\n",
    "\n",
    "In the previous exercise, you've calculated the mean performance over a period of time. This gives you one performance number for that entire period. But what if you would want to plot the development of the performance over time? For that, you will need the cumulative performance, not the mean performance. Just like with interest in your bank account, the cumulative performance gives you the compounded return at each date in your dataset. It tells you; \"up until today, this is what the total return has been since the start of my data.\"\n",
    "\n",
    "Remember because of the compounding effect, you need to use cumprod() for this calculation."
   ]
  },
  {
   "cell_type": "code",
   "execution_count": 9,
   "id": "928756a0-6c91-4c09-981c-1d11fb9c837e",
   "metadata": {},
   "outputs": [
    {
     "data": {
      "text/html": [
       "<div>\n",
       "<style scoped>\n",
       "    .dataframe tbody tr th:only-of-type {\n",
       "        vertical-align: middle;\n",
       "    }\n",
       "\n",
       "    .dataframe tbody tr th {\n",
       "        vertical-align: top;\n",
       "    }\n",
       "\n",
       "    .dataframe thead th {\n",
       "        text-align: right;\n",
       "    }\n",
       "</style>\n",
       "<table border=\"1\" class=\"dataframe\">\n",
       "  <thead>\n",
       "    <tr style=\"text-align: right;\">\n",
       "      <th></th>\n",
       "      <th>GE</th>\n",
       "      <th>JPM</th>\n",
       "      <th>MSFT</th>\n",
       "      <th>PG</th>\n",
       "      <th>Portfolio</th>\n",
       "    </tr>\n",
       "    <tr>\n",
       "      <th>date</th>\n",
       "      <th></th>\n",
       "      <th></th>\n",
       "      <th></th>\n",
       "      <th></th>\n",
       "      <th></th>\n",
       "    </tr>\n",
       "  </thead>\n",
       "  <tbody>\n",
       "    <tr>\n",
       "      <th>2015-01-02</th>\n",
       "      <td>NaN</td>\n",
       "      <td>NaN</td>\n",
       "      <td>NaN</td>\n",
       "      <td>NaN</td>\n",
       "      <td>NaN</td>\n",
       "    </tr>\n",
       "    <tr>\n",
       "      <th>2015-01-05</th>\n",
       "      <td>-0.018356</td>\n",
       "      <td>-0.031045</td>\n",
       "      <td>-0.009303</td>\n",
       "      <td>-0.004755</td>\n",
       "      <td>-0.017723</td>\n",
       "    </tr>\n",
       "    <tr>\n",
       "      <th>2015-01-06</th>\n",
       "      <td>-0.021545</td>\n",
       "      <td>-0.025929</td>\n",
       "      <td>-0.014571</td>\n",
       "      <td>-0.004555</td>\n",
       "      <td>-0.019328</td>\n",
       "    </tr>\n",
       "    <tr>\n",
       "      <th>2015-01-07</th>\n",
       "      <td>0.000415</td>\n",
       "      <td>0.001526</td>\n",
       "      <td>0.012705</td>\n",
       "      <td>0.005246</td>\n",
       "      <td>0.003579</td>\n",
       "    </tr>\n",
       "    <tr>\n",
       "      <th>2015-01-08</th>\n",
       "      <td>0.012043</td>\n",
       "      <td>0.022346</td>\n",
       "      <td>0.029418</td>\n",
       "      <td>0.011436</td>\n",
       "      <td>0.017518</td>\n",
       "    </tr>\n",
       "    <tr>\n",
       "      <th>...</th>\n",
       "      <td>...</td>\n",
       "      <td>...</td>\n",
       "      <td>...</td>\n",
       "      <td>...</td>\n",
       "      <td>...</td>\n",
       "    </tr>\n",
       "    <tr>\n",
       "      <th>2018-03-21</th>\n",
       "      <td>0.017595</td>\n",
       "      <td>0.000872</td>\n",
       "      <td>-0.006979</td>\n",
       "      <td>-0.016218</td>\n",
       "      <td>0.005954</td>\n",
       "    </tr>\n",
       "    <tr>\n",
       "      <th>2018-03-22</th>\n",
       "      <td>-0.038184</td>\n",
       "      <td>-0.041747</td>\n",
       "      <td>-0.029087</td>\n",
       "      <td>-0.008178</td>\n",
       "      <td>-0.034077</td>\n",
       "    </tr>\n",
       "    <tr>\n",
       "      <th>2018-03-23</th>\n",
       "      <td>-0.020974</td>\n",
       "      <td>-0.026739</td>\n",
       "      <td>-0.029068</td>\n",
       "      <td>-0.006544</td>\n",
       "      <td>-0.022303</td>\n",
       "    </tr>\n",
       "    <tr>\n",
       "      <th>2018-03-26</th>\n",
       "      <td>-0.013772</td>\n",
       "      <td>0.030838</td>\n",
       "      <td>0.075705</td>\n",
       "      <td>0.006587</td>\n",
       "      <td>0.015081</td>\n",
       "    </tr>\n",
       "    <tr>\n",
       "      <th>2018-03-27</th>\n",
       "      <td>0.042669</td>\n",
       "      <td>-0.019400</td>\n",
       "      <td>-0.045959</td>\n",
       "      <td>0.018060</td>\n",
       "      <td>0.010069</td>\n",
       "    </tr>\n",
       "  </tbody>\n",
       "</table>\n",
       "<p>813 rows × 5 columns</p>\n",
       "</div>"
      ],
      "text/plain": [
       "                  GE       JPM      MSFT        PG  Portfolio\n",
       "date                                                         \n",
       "2015-01-02       NaN       NaN       NaN       NaN        NaN\n",
       "2015-01-05 -0.018356 -0.031045 -0.009303 -0.004755  -0.017723\n",
       "2015-01-06 -0.021545 -0.025929 -0.014571 -0.004555  -0.019328\n",
       "2015-01-07  0.000415  0.001526  0.012705  0.005246   0.003579\n",
       "2015-01-08  0.012043  0.022346  0.029418  0.011436   0.017518\n",
       "...              ...       ...       ...       ...        ...\n",
       "2018-03-21  0.017595  0.000872 -0.006979 -0.016218   0.005954\n",
       "2018-03-22 -0.038184 -0.041747 -0.029087 -0.008178  -0.034077\n",
       "2018-03-23 -0.020974 -0.026739 -0.029068 -0.006544  -0.022303\n",
       "2018-03-26 -0.013772  0.030838  0.075705  0.006587   0.015081\n",
       "2018-03-27  0.042669 -0.019400 -0.045959  0.018060   0.010069\n",
       "\n",
       "[813 rows x 5 columns]"
      ]
     },
     "execution_count": 9,
     "metadata": {},
     "output_type": "execute_result"
    }
   ],
   "source": [
    "# Create portfolio returns column\n",
    "returns['Portfolio']= returns.dot(weights)\n",
    "# The 'Portfolio' column represents the total return of the portfolio for each corresponding time period, \n",
    "# taking into account the weights of the individual assets.\n",
    "returns"
   ]
  },
  {
   "cell_type": "code",
   "execution_count": 10,
   "id": "31049ab1-c1c1-4bf5-b33d-0f2bfeac2b8c",
   "metadata": {},
   "outputs": [
    {
     "data": {
      "text/html": [
       "<div>\n",
       "<style scoped>\n",
       "    .dataframe tbody tr th:only-of-type {\n",
       "        vertical-align: middle;\n",
       "    }\n",
       "\n",
       "    .dataframe tbody tr th {\n",
       "        vertical-align: top;\n",
       "    }\n",
       "\n",
       "    .dataframe thead th {\n",
       "        text-align: right;\n",
       "    }\n",
       "</style>\n",
       "<table border=\"1\" class=\"dataframe\">\n",
       "  <thead>\n",
       "    <tr style=\"text-align: right;\">\n",
       "      <th></th>\n",
       "      <th>GE</th>\n",
       "      <th>JPM</th>\n",
       "      <th>MSFT</th>\n",
       "      <th>PG</th>\n",
       "      <th>Portfolio</th>\n",
       "    </tr>\n",
       "    <tr>\n",
       "      <th>date</th>\n",
       "      <th></th>\n",
       "      <th></th>\n",
       "      <th></th>\n",
       "      <th></th>\n",
       "      <th></th>\n",
       "    </tr>\n",
       "  </thead>\n",
       "  <tbody>\n",
       "    <tr>\n",
       "      <th>2015-01-02</th>\n",
       "      <td>NaN</td>\n",
       "      <td>NaN</td>\n",
       "      <td>NaN</td>\n",
       "      <td>NaN</td>\n",
       "      <td>NaN</td>\n",
       "    </tr>\n",
       "    <tr>\n",
       "      <th>2015-01-05</th>\n",
       "      <td>0.981644</td>\n",
       "      <td>0.968955</td>\n",
       "      <td>0.990697</td>\n",
       "      <td>0.995245</td>\n",
       "      <td>0.982277</td>\n",
       "    </tr>\n",
       "    <tr>\n",
       "      <th>2015-01-06</th>\n",
       "      <td>0.960495</td>\n",
       "      <td>0.943831</td>\n",
       "      <td>0.976262</td>\n",
       "      <td>0.990712</td>\n",
       "      <td>0.963292</td>\n",
       "    </tr>\n",
       "    <tr>\n",
       "      <th>2015-01-07</th>\n",
       "      <td>0.960894</td>\n",
       "      <td>0.945271</td>\n",
       "      <td>0.988666</td>\n",
       "      <td>0.995909</td>\n",
       "      <td>0.966739</td>\n",
       "    </tr>\n",
       "    <tr>\n",
       "      <th>2015-01-08</th>\n",
       "      <td>0.972466</td>\n",
       "      <td>0.966395</td>\n",
       "      <td>1.017750</td>\n",
       "      <td>1.007298</td>\n",
       "      <td>0.983674</td>\n",
       "    </tr>\n",
       "    <tr>\n",
       "      <th>...</th>\n",
       "      <td>...</td>\n",
       "      <td>...</td>\n",
       "      <td>...</td>\n",
       "      <td>...</td>\n",
       "      <td>...</td>\n",
       "    </tr>\n",
       "    <tr>\n",
       "      <th>2018-03-21</th>\n",
       "      <td>0.553871</td>\n",
       "      <td>1.836134</td>\n",
       "      <td>1.977759</td>\n",
       "      <td>0.851835</td>\n",
       "      <td>0.974287</td>\n",
       "    </tr>\n",
       "    <tr>\n",
       "      <th>2018-03-22</th>\n",
       "      <td>0.532721</td>\n",
       "      <td>1.759482</td>\n",
       "      <td>1.920231</td>\n",
       "      <td>0.844870</td>\n",
       "      <td>0.941086</td>\n",
       "    </tr>\n",
       "    <tr>\n",
       "      <th>2018-03-23</th>\n",
       "      <td>0.521548</td>\n",
       "      <td>1.712434</td>\n",
       "      <td>1.864414</td>\n",
       "      <td>0.839341</td>\n",
       "      <td>0.920097</td>\n",
       "    </tr>\n",
       "    <tr>\n",
       "      <th>2018-03-26</th>\n",
       "      <td>0.514366</td>\n",
       "      <td>1.765242</td>\n",
       "      <td>2.005560</td>\n",
       "      <td>0.844870</td>\n",
       "      <td>0.933974</td>\n",
       "    </tr>\n",
       "    <tr>\n",
       "      <th>2018-03-27</th>\n",
       "      <td>0.536313</td>\n",
       "      <td>1.730997</td>\n",
       "      <td>1.913388</td>\n",
       "      <td>0.860128</td>\n",
       "      <td>0.943378</td>\n",
       "    </tr>\n",
       "  </tbody>\n",
       "</table>\n",
       "<p>813 rows × 5 columns</p>\n",
       "</div>"
      ],
      "text/plain": [
       "                  GE       JPM      MSFT        PG  Portfolio\n",
       "date                                                         \n",
       "2015-01-02       NaN       NaN       NaN       NaN        NaN\n",
       "2015-01-05  0.981644  0.968955  0.990697  0.995245   0.982277\n",
       "2015-01-06  0.960495  0.943831  0.976262  0.990712   0.963292\n",
       "2015-01-07  0.960894  0.945271  0.988666  0.995909   0.966739\n",
       "2015-01-08  0.972466  0.966395  1.017750  1.007298   0.983674\n",
       "...              ...       ...       ...       ...        ...\n",
       "2018-03-21  0.553871  1.836134  1.977759  0.851835   0.974287\n",
       "2018-03-22  0.532721  1.759482  1.920231  0.844870   0.941086\n",
       "2018-03-23  0.521548  1.712434  1.864414  0.839341   0.920097\n",
       "2018-03-26  0.514366  1.765242  2.005560  0.844870   0.933974\n",
       "2018-03-27  0.536313  1.730997  1.913388  0.860128   0.943378\n",
       "\n",
       "[813 rows x 5 columns]"
      ]
     },
     "execution_count": 10,
     "metadata": {},
     "output_type": "execute_result"
    }
   ],
   "source": [
    "# Calculate cumulative returns, to determine the cumulative return over time, accounting for the compounding effect of returns\n",
    "\n",
    "daily_cum_ret=(1 + returns).cumprod()\n",
    "# Adding 1 to each return value effectively converts the daily return percentages into factors. \n",
    "# For example, a daily return of 5% (0.05) becomes 1.05, representing a 5% increase.\n",
    "# The cumprod() function computes the cumulative product of the elements along the specified axis (default is axis=0, i.e., row-wise). \n",
    "# This means it multiplies the current value by all previous values in the series.\n",
    "\n",
    "daily_cum_ret"
   ]
  },
  {
   "cell_type": "code",
   "execution_count": 11,
   "id": "89da691b-c030-41c7-9de7-39dd376d60b5",
   "metadata": {},
   "outputs": [
    {
     "data": {
      "image/png": "[encoded data removed]",
      "text/plain": [
       "<Figure size 640x480 with 1 Axes>"
      ]
     },
     "metadata": {},
     "output_type": "display_data"
    }
   ],
   "source": [
    "# Plot the portfolio cumulative returns only\n",
    "fig, ax = plt.subplots()\n",
    "ax.plot(daily_cum_ret.index, daily_cum_ret.Portfolio, color='purple', label=\"portfolio\")\n",
    "ax.xaxis.set_major_locator(matplotlib.dates.YearLocator())\n",
    "plt.legend()\n",
    "plt.show()"
   ]
  },
  {
   "cell_type": "markdown",
   "id": "588b17af-33ad-4fcb-83c7-5ef3c3a6dd00",
   "metadata": {},
   "source": [
    "Portfolio variance\n",
    "\n",
    "It's time to calculate the risk of our 4-stock portfolio. Let's start with the pricing data, available under data. You'll have to calculate daily percentage returns and assign weights to your portfolio. You'll then continue by calculating the covariance matrix, and use the following formula: Portfolio variance = Weights transposed x (Covariance matrix x Weights) to get the final portfolio variance.\n",
    "\n",
    "As calculating portfolio variance is an important part of portfolio analysis"
   ]
  },
  {
   "cell_type": "code",
   "execution_count": 12,
   "id": "33c69dab-81bf-4cfd-9a90-49e295671be7",
   "metadata": {},
   "outputs": [
    {
     "data": {
      "text/html": [
       "<div>\n",
       "<style scoped>\n",
       "    .dataframe tbody tr th:only-of-type {\n",
       "        vertical-align: middle;\n",
       "    }\n",
       "\n",
       "    .dataframe tbody tr th {\n",
       "        vertical-align: top;\n",
       "    }\n",
       "\n",
       "    .dataframe thead th {\n",
       "        text-align: right;\n",
       "    }\n",
       "</style>\n",
       "<table border=\"1\" class=\"dataframe\">\n",
       "  <thead>\n",
       "    <tr style=\"text-align: right;\">\n",
       "      <th></th>\n",
       "      <th>GE</th>\n",
       "      <th>JPM</th>\n",
       "      <th>MSFT</th>\n",
       "      <th>PG</th>\n",
       "    </tr>\n",
       "    <tr>\n",
       "      <th>date</th>\n",
       "      <th></th>\n",
       "      <th></th>\n",
       "      <th></th>\n",
       "      <th></th>\n",
       "    </tr>\n",
       "  </thead>\n",
       "  <tbody>\n",
       "    <tr>\n",
       "      <th>2015-01-02</th>\n",
       "      <td>NaN</td>\n",
       "      <td>NaN</td>\n",
       "      <td>NaN</td>\n",
       "      <td>NaN</td>\n",
       "    </tr>\n",
       "    <tr>\n",
       "      <th>2015-01-05</th>\n",
       "      <td>-0.018356</td>\n",
       "      <td>-0.031045</td>\n",
       "      <td>-0.009303</td>\n",
       "      <td>-0.004755</td>\n",
       "    </tr>\n",
       "    <tr>\n",
       "      <th>2015-01-06</th>\n",
       "      <td>-0.021545</td>\n",
       "      <td>-0.025929</td>\n",
       "      <td>-0.014571</td>\n",
       "      <td>-0.004555</td>\n",
       "    </tr>\n",
       "    <tr>\n",
       "      <th>2015-01-07</th>\n",
       "      <td>0.000415</td>\n",
       "      <td>0.001526</td>\n",
       "      <td>0.012705</td>\n",
       "      <td>0.005246</td>\n",
       "    </tr>\n",
       "    <tr>\n",
       "      <th>2015-01-08</th>\n",
       "      <td>0.012043</td>\n",
       "      <td>0.022346</td>\n",
       "      <td>0.029418</td>\n",
       "      <td>0.011436</td>\n",
       "    </tr>\n",
       "    <tr>\n",
       "      <th>...</th>\n",
       "      <td>...</td>\n",
       "      <td>...</td>\n",
       "      <td>...</td>\n",
       "      <td>...</td>\n",
       "    </tr>\n",
       "    <tr>\n",
       "      <th>2018-03-21</th>\n",
       "      <td>0.017595</td>\n",
       "      <td>0.000872</td>\n",
       "      <td>-0.006979</td>\n",
       "      <td>-0.016218</td>\n",
       "    </tr>\n",
       "    <tr>\n",
       "      <th>2018-03-22</th>\n",
       "      <td>-0.038184</td>\n",
       "      <td>-0.041747</td>\n",
       "      <td>-0.029087</td>\n",
       "      <td>-0.008178</td>\n",
       "    </tr>\n",
       "    <tr>\n",
       "      <th>2018-03-23</th>\n",
       "      <td>-0.020974</td>\n",
       "      <td>-0.026739</td>\n",
       "      <td>-0.029068</td>\n",
       "      <td>-0.006544</td>\n",
       "    </tr>\n",
       "    <tr>\n",
       "      <th>2018-03-26</th>\n",
       "      <td>-0.013772</td>\n",
       "      <td>0.030838</td>\n",
       "      <td>0.075705</td>\n",
       "      <td>0.006587</td>\n",
       "    </tr>\n",
       "    <tr>\n",
       "      <th>2018-03-27</th>\n",
       "      <td>0.042669</td>\n",
       "      <td>-0.019400</td>\n",
       "      <td>-0.045959</td>\n",
       "      <td>0.018060</td>\n",
       "    </tr>\n",
       "  </tbody>\n",
       "</table>\n",
       "<p>813 rows × 4 columns</p>\n",
       "</div>"
      ],
      "text/plain": [
       "                  GE       JPM      MSFT        PG\n",
       "date                                              \n",
       "2015-01-02       NaN       NaN       NaN       NaN\n",
       "2015-01-05 -0.018356 -0.031045 -0.009303 -0.004755\n",
       "2015-01-06 -0.021545 -0.025929 -0.014571 -0.004555\n",
       "2015-01-07  0.000415  0.001526  0.012705  0.005246\n",
       "2015-01-08  0.012043  0.022346  0.029418  0.011436\n",
       "...              ...       ...       ...       ...\n",
       "2018-03-21  0.017595  0.000872 -0.006979 -0.016218\n",
       "2018-03-22 -0.038184 -0.041747 -0.029087 -0.008178\n",
       "2018-03-23 -0.020974 -0.026739 -0.029068 -0.006544\n",
       "2018-03-26 -0.013772  0.030838  0.075705  0.006587\n",
       "2018-03-27  0.042669 -0.019400 -0.045959  0.018060\n",
       "\n",
       "[813 rows x 4 columns]"
      ]
     },
     "execution_count": 12,
     "metadata": {},
     "output_type": "execute_result"
    }
   ],
   "source": [
    "returns.drop('Portfolio', axis=1, inplace=True)\n",
    "returns"
   ]
  },
  {
   "cell_type": "code",
   "execution_count": 13,
   "id": "909ba452-614d-4163-8ed4-e82f896df0b5",
   "metadata": {},
   "outputs": [
    {
     "data": {
      "text/html": [
       "<div>\n",
       "<style scoped>\n",
       "    .dataframe tbody tr th:only-of-type {\n",
       "        vertical-align: middle;\n",
       "    }\n",
       "\n",
       "    .dataframe tbody tr th {\n",
       "        vertical-align: top;\n",
       "    }\n",
       "\n",
       "    .dataframe thead th {\n",
       "        text-align: right;\n",
       "    }\n",
       "</style>\n",
       "<table border=\"1\" class=\"dataframe\">\n",
       "  <thead>\n",
       "    <tr style=\"text-align: right;\">\n",
       "      <th></th>\n",
       "      <th>GE</th>\n",
       "      <th>JPM</th>\n",
       "      <th>MSFT</th>\n",
       "      <th>PG</th>\n",
       "    </tr>\n",
       "  </thead>\n",
       "  <tbody>\n",
       "    <tr>\n",
       "      <th>GE</th>\n",
       "      <td>0.045987</td>\n",
       "      <td>0.022828</td>\n",
       "      <td>0.016285</td>\n",
       "      <td>0.010101</td>\n",
       "    </tr>\n",
       "    <tr>\n",
       "      <th>JPM</th>\n",
       "      <td>0.022828</td>\n",
       "      <td>0.046660</td>\n",
       "      <td>0.024135</td>\n",
       "      <td>0.010812</td>\n",
       "    </tr>\n",
       "    <tr>\n",
       "      <th>MSFT</th>\n",
       "      <td>0.016285</td>\n",
       "      <td>0.024135</td>\n",
       "      <td>0.054054</td>\n",
       "      <td>0.014144</td>\n",
       "    </tr>\n",
       "    <tr>\n",
       "      <th>PG</th>\n",
       "      <td>0.010101</td>\n",
       "      <td>0.010812</td>\n",
       "      <td>0.014144</td>\n",
       "      <td>0.020645</td>\n",
       "    </tr>\n",
       "  </tbody>\n",
       "</table>\n",
       "</div>"
      ],
      "text/plain": [
       "            GE       JPM      MSFT        PG\n",
       "GE    0.045987  0.022828  0.016285  0.010101\n",
       "JPM   0.022828  0.046660  0.024135  0.010812\n",
       "MSFT  0.016285  0.024135  0.054054  0.014144\n",
       "PG    0.010101  0.010812  0.014144  0.020645"
      ]
     },
     "execution_count": 13,
     "metadata": {},
     "output_type": "execute_result"
    }
   ],
   "source": [
    "# Assign portfolio weights\n",
    "weights = np.array([0.05, 0.4, 0.3, 0.25])\n",
    "\n",
    "# Calculate the covariance matrix \n",
    "cov_matrix = (returns.cov())*250\n",
    "\n",
    "cov_matrix"
   ]
  },
  {
   "cell_type": "code",
   "execution_count": 14,
   "id": "f4370e69-74fb-455b-9884-edab21cf65a6",
   "metadata": {},
   "outputs": [
    {
     "name": "stdout",
     "output_type": "stream",
     "text": [
      "2.55%\n"
     ]
    }
   ],
   "source": [
    "# Calculate the portfolio variance\n",
    "port_variance = np.dot(weights.T, np.dot(cov_matrix, weights))\n",
    "\n",
    "# Print the result\n",
    "print(str(np.round(port_variance, 4) * 100) + '%')"
   ]
  },
  {
   "cell_type": "markdown",
   "id": "beb85453-e6d1-4d48-9481-abb0661a45c5",
   "metadata": {},
   "source": [
    "Standard deviation versus variance\n",
    "\n",
    "the standard deviation  is simply the square root of the variance. Both measures are used in practice to calculate market or stock volatility. Why should you use one or the other?\n",
    "\n",
    "In the variance calculation we square the weights and the variances. Because of this squaring, the variance is no longer in the same unit of measurement as the original data. Taking the root of the variance means the standard deviation is restored to the original unit of measure and therefore much easier to interpret."
   ]
  },
  {
   "cell_type": "code",
   "execution_count": 15,
   "id": "db6dd9ad-8be3-4265-974e-8b99fa2fdacd",
   "metadata": {},
   "outputs": [
    {
     "name": "stdout",
     "output_type": "stream",
     "text": [
      "15.959999999999999%\n"
     ]
    }
   ],
   "source": [
    "# Calculate the standard deviation by taking the square root\n",
    "port_standard_dev = np.sqrt(port_variance)\n",
    "\n",
    "# Print the results \n",
    "print(str(np.round(port_standard_dev, 4) * 100) + '%')\n",
    "\n",
    "# The standard deviation tells you how much the portfolio's return can deviate from the mean historical return. \n",
    "# If a portfolio has a 12% average rate of return and a standard deviation of 4%, its return will range from 8-16%. \n",
    "# The mean historic return of this particular portfolio is actually close to zero. \n",
    "# With an average standard deviation of roughly 16%, this means you're getting a bad deal here! "
   ]
  },
  {
   "cell_type": "markdown",
   "id": "ed9a2983-78db-4764-9937-c5b6413bc18e",
   "metadata": {},
   "source": [
    "Annualizing portfolio returns\n",
    "\n",
    "Suppose you invested $101 at the beginning of 2015 in a portfolio. By the end of March 2018, you wonder how your portfolio has performed over time, and whether it is as good as another portfolio which started trading mid-2016. What performance metric do you look at? Well, the annualized return of course!\n",
    "\n",
    "So let's calculate the annualized rate of return for your portfolio. Since our sample covers 3.2 years, let's use the monthly denomination in the formula for annualized returns. "
   ]
  },
  {
   "cell_type": "code",
   "execution_count": 16,
   "id": "217798e2-7007-4e1f-9d18-375aab7bb872",
   "metadata": {},
   "outputs": [
    {
     "data": {
      "text/html": [
       "<div>\n",
       "<style scoped>\n",
       "    .dataframe tbody tr th:only-of-type {\n",
       "        vertical-align: middle;\n",
       "    }\n",
       "\n",
       "    .dataframe tbody tr th {\n",
       "        vertical-align: top;\n",
       "    }\n",
       "\n",
       "    .dataframe thead th {\n",
       "        text-align: right;\n",
       "    }\n",
       "</style>\n",
       "<table border=\"1\" class=\"dataframe\">\n",
       "  <thead>\n",
       "    <tr style=\"text-align: right;\">\n",
       "      <th></th>\n",
       "      <th>date</th>\n",
       "      <th>AUM</th>\n",
       "    </tr>\n",
       "  </thead>\n",
       "  <tbody>\n",
       "    <tr>\n",
       "      <th>0</th>\n",
       "      <td>02/01/2015</td>\n",
       "      <td>101.000</td>\n",
       "    </tr>\n",
       "    <tr>\n",
       "      <th>1</th>\n",
       "      <td>05/01/2015</td>\n",
       "      <td>99.667</td>\n",
       "    </tr>\n",
       "    <tr>\n",
       "      <th>2</th>\n",
       "      <td>06/01/2015</td>\n",
       "      <td>98.088</td>\n",
       "    </tr>\n",
       "    <tr>\n",
       "      <th>3</th>\n",
       "      <td>07/01/2015</td>\n",
       "      <td>99.042</td>\n",
       "    </tr>\n",
       "    <tr>\n",
       "      <th>4</th>\n",
       "      <td>08/01/2015</td>\n",
       "      <td>101.638</td>\n",
       "    </tr>\n",
       "    <tr>\n",
       "      <th>...</th>\n",
       "      <td>...</td>\n",
       "      <td>...</td>\n",
       "    </tr>\n",
       "    <tr>\n",
       "      <th>808</th>\n",
       "      <td>21/03/2018</td>\n",
       "      <td>184.188</td>\n",
       "    </tr>\n",
       "    <tr>\n",
       "      <th>809</th>\n",
       "      <td>22/03/2018</td>\n",
       "      <td>178.749</td>\n",
       "    </tr>\n",
       "    <tr>\n",
       "      <th>810</th>\n",
       "      <td>23/03/2018</td>\n",
       "      <td>174.039</td>\n",
       "    </tr>\n",
       "    <tr>\n",
       "      <th>811</th>\n",
       "      <td>26/03/2018</td>\n",
       "      <td>184.450</td>\n",
       "    </tr>\n",
       "    <tr>\n",
       "      <th>812</th>\n",
       "      <td>27/03/2018</td>\n",
       "      <td>178.133</td>\n",
       "    </tr>\n",
       "  </tbody>\n",
       "</table>\n",
       "<p>813 rows × 2 columns</p>\n",
       "</div>"
      ],
      "text/plain": [
       "           date      AUM\n",
       "0    02/01/2015  101.000\n",
       "1    05/01/2015   99.667\n",
       "2    06/01/2015   98.088\n",
       "3    07/01/2015   99.042\n",
       "4    08/01/2015  101.638\n",
       "..          ...      ...\n",
       "808  21/03/2018  184.188\n",
       "809  22/03/2018  178.749\n",
       "810  23/03/2018  174.039\n",
       "811  26/03/2018  184.450\n",
       "812  27/03/2018  178.133\n",
       "\n",
       "[813 rows x 2 columns]"
      ]
     },
     "execution_count": 16,
     "metadata": {},
     "output_type": "execute_result"
    }
   ],
   "source": [
    "pf_AUM = pd.read_csv('pf_AUM.csv')\n",
    "pf_AUM['AUM'] = pf_AUM['Unnamed: 1'].combine_first(pf_AUM['Unnamed: 2'])\n",
    "pf_AUM.drop(['Unnamed: 1','Unnamed: 2'], axis=1, inplace=True)\n",
    "pf_AUM"
   ]
  },
  {
   "cell_type": "code",
   "execution_count": 17,
   "id": "ae250a68-dfba-4697-a7d5-a656000f97f7",
   "metadata": {},
   "outputs": [
    {
     "data": {
      "text/html": [
       "<div>\n",
       "<style scoped>\n",
       "    .dataframe tbody tr th:only-of-type {\n",
       "        vertical-align: middle;\n",
       "    }\n",
       "\n",
       "    .dataframe tbody tr th {\n",
       "        vertical-align: top;\n",
       "    }\n",
       "\n",
       "    .dataframe thead th {\n",
       "        text-align: right;\n",
       "    }\n",
       "</style>\n",
       "<table border=\"1\" class=\"dataframe\">\n",
       "  <thead>\n",
       "    <tr style=\"text-align: right;\">\n",
       "      <th></th>\n",
       "      <th>date</th>\n",
       "      <th>AUM</th>\n",
       "      <th>Returns</th>\n",
       "    </tr>\n",
       "  </thead>\n",
       "  <tbody>\n",
       "    <tr>\n",
       "      <th>0</th>\n",
       "      <td>02/01/2015</td>\n",
       "      <td>101.000</td>\n",
       "      <td>NaN</td>\n",
       "    </tr>\n",
       "    <tr>\n",
       "      <th>1</th>\n",
       "      <td>05/01/2015</td>\n",
       "      <td>99.667</td>\n",
       "      <td>-0.013198</td>\n",
       "    </tr>\n",
       "    <tr>\n",
       "      <th>2</th>\n",
       "      <td>06/01/2015</td>\n",
       "      <td>98.088</td>\n",
       "      <td>-0.015843</td>\n",
       "    </tr>\n",
       "    <tr>\n",
       "      <th>3</th>\n",
       "      <td>07/01/2015</td>\n",
       "      <td>99.042</td>\n",
       "      <td>0.009726</td>\n",
       "    </tr>\n",
       "    <tr>\n",
       "      <th>4</th>\n",
       "      <td>08/01/2015</td>\n",
       "      <td>101.638</td>\n",
       "      <td>0.026211</td>\n",
       "    </tr>\n",
       "    <tr>\n",
       "      <th>...</th>\n",
       "      <td>...</td>\n",
       "      <td>...</td>\n",
       "      <td>...</td>\n",
       "    </tr>\n",
       "    <tr>\n",
       "      <th>808</th>\n",
       "      <td>21/03/2018</td>\n",
       "      <td>184.188</td>\n",
       "      <td>-0.006328</td>\n",
       "    </tr>\n",
       "    <tr>\n",
       "      <th>809</th>\n",
       "      <td>22/03/2018</td>\n",
       "      <td>178.749</td>\n",
       "      <td>-0.029530</td>\n",
       "    </tr>\n",
       "    <tr>\n",
       "      <th>810</th>\n",
       "      <td>23/03/2018</td>\n",
       "      <td>174.039</td>\n",
       "      <td>-0.026350</td>\n",
       "    </tr>\n",
       "    <tr>\n",
       "      <th>811</th>\n",
       "      <td>26/03/2018</td>\n",
       "      <td>184.450</td>\n",
       "      <td>0.059820</td>\n",
       "    </tr>\n",
       "    <tr>\n",
       "      <th>812</th>\n",
       "      <td>27/03/2018</td>\n",
       "      <td>178.133</td>\n",
       "      <td>-0.034248</td>\n",
       "    </tr>\n",
       "  </tbody>\n",
       "</table>\n",
       "<p>813 rows × 3 columns</p>\n",
       "</div>"
      ],
      "text/plain": [
       "           date      AUM   Returns\n",
       "0    02/01/2015  101.000       NaN\n",
       "1    05/01/2015   99.667 -0.013198\n",
       "2    06/01/2015   98.088 -0.015843\n",
       "3    07/01/2015   99.042  0.009726\n",
       "4    08/01/2015  101.638  0.026211\n",
       "..          ...      ...       ...\n",
       "808  21/03/2018  184.188 -0.006328\n",
       "809  22/03/2018  178.749 -0.029530\n",
       "810  23/03/2018  174.039 -0.026350\n",
       "811  26/03/2018  184.450  0.059820\n",
       "812  27/03/2018  178.133 -0.034248\n",
       "\n",
       "[813 rows x 3 columns]"
      ]
     },
     "execution_count": 17,
     "metadata": {},
     "output_type": "execute_result"
    }
   ],
   "source": [
    "pf_AUM['Returns'] = pf_AUM['AUM'].pct_change()\n",
    "pf_AUM"
   ]
  },
  {
   "cell_type": "code",
   "execution_count": 18,
   "id": "5d0ac44b-793a-49cf-bb3c-97f7044979d1",
   "metadata": {},
   "outputs": [
    {
     "data": {
      "text/plain": [
       "0.7872816478874654"
      ]
     },
     "execution_count": 18,
     "metadata": {},
     "output_type": "execute_result"
    }
   ],
   "source": [
    "# Calculate total rate of return from portfolio AUM\n",
    "aum_total_return = (pf_AUM.AUM.iloc[-1] - pf_AUM.AUM.iloc[1]) / pf_AUM.AUM.iloc[1]\n",
    "aum_total_return"
   ]
  },
  {
   "cell_type": "code",
   "execution_count": 19,
   "id": "c24f2b7c-7b33-4251-a120-432d0690aaed",
   "metadata": {},
   "outputs": [
    {
     "data": {
      "text/plain": [
       "0.2012679590641493"
      ]
     },
     "execution_count": 19,
     "metadata": {},
     "output_type": "execute_result"
    }
   ],
   "source": [
    "months = 38\n",
    "\n",
    "# Annualize return over 3.2 years (38 months)\n",
    "aum_annualized_return = ((1 + aum_total_return)**(12/months)) - 1\n",
    "aum_annualized_return"
   ]
  },
  {
   "cell_type": "markdown",
   "id": "b5b9091a-d84a-4205-a19d-b726210cb63a",
   "metadata": {},
   "source": [
    "Comparing annualized rates of return\n",
    "\n",
    "In the last exercise, you saw that the annualized rate of return was 20%. That's pretty high! But since your portfolio consists of only 4 stocks, this high return is indeed possible as it is not very diversified. Let's compare the portfolio's annual rate of return, with that of the S&P500, which is much more diversified.\n",
    "\n",
    "The value of the S&P500 between 1st of January 2015 and end of December 2018 has been made available. That's 4 years of data. You have full years this time, so use the year denomination in the formula for the annualized return. "
   ]
  },
  {
   "cell_type": "code",
   "execution_count": 20,
   "id": "ff5bc8b8-857b-459b-b4ce-e4de3c1e2e6d",
   "metadata": {},
   "outputs": [
    {
     "data": {
      "text/html": [
       "<div>\n",
       "<style scoped>\n",
       "    .dataframe tbody tr th:only-of-type {\n",
       "        vertical-align: middle;\n",
       "    }\n",
       "\n",
       "    .dataframe tbody tr th {\n",
       "        vertical-align: top;\n",
       "    }\n",
       "\n",
       "    .dataframe thead th {\n",
       "        text-align: right;\n",
       "    }\n",
       "</style>\n",
       "<table border=\"1\" class=\"dataframe\">\n",
       "  <thead>\n",
       "    <tr style=\"text-align: right;\">\n",
       "      <th></th>\n",
       "      <th>date</th>\n",
       "      <th>S&amp;P500</th>\n",
       "      <th>Returns</th>\n",
       "    </tr>\n",
       "  </thead>\n",
       "  <tbody>\n",
       "    <tr>\n",
       "      <th>0</th>\n",
       "      <td>2015-01-02</td>\n",
       "      <td>2058.199951</td>\n",
       "      <td>NaN</td>\n",
       "    </tr>\n",
       "    <tr>\n",
       "      <th>1</th>\n",
       "      <td>2015-01-05</td>\n",
       "      <td>2020.579956</td>\n",
       "      <td>-0.018278</td>\n",
       "    </tr>\n",
       "    <tr>\n",
       "      <th>2</th>\n",
       "      <td>2015-01-06</td>\n",
       "      <td>2002.609985</td>\n",
       "      <td>-0.008893</td>\n",
       "    </tr>\n",
       "    <tr>\n",
       "      <th>3</th>\n",
       "      <td>2015-01-07</td>\n",
       "      <td>2025.900024</td>\n",
       "      <td>0.011630</td>\n",
       "    </tr>\n",
       "    <tr>\n",
       "      <th>4</th>\n",
       "      <td>2015-01-08</td>\n",
       "      <td>2062.139893</td>\n",
       "      <td>0.017888</td>\n",
       "    </tr>\n",
       "    <tr>\n",
       "      <th>...</th>\n",
       "      <td>...</td>\n",
       "      <td>...</td>\n",
       "      <td>...</td>\n",
       "    </tr>\n",
       "    <tr>\n",
       "      <th>1054</th>\n",
       "      <td>2019-03-13</td>\n",
       "      <td>2810.919922</td>\n",
       "      <td>0.006950</td>\n",
       "    </tr>\n",
       "    <tr>\n",
       "      <th>1055</th>\n",
       "      <td>2019-03-14</td>\n",
       "      <td>2808.479980</td>\n",
       "      <td>-0.000868</td>\n",
       "    </tr>\n",
       "    <tr>\n",
       "      <th>1056</th>\n",
       "      <td>2019-03-15</td>\n",
       "      <td>2822.479980</td>\n",
       "      <td>0.004985</td>\n",
       "    </tr>\n",
       "    <tr>\n",
       "      <th>1057</th>\n",
       "      <td>2019-03-18</td>\n",
       "      <td>2832.939941</td>\n",
       "      <td>0.003706</td>\n",
       "    </tr>\n",
       "    <tr>\n",
       "      <th>1058</th>\n",
       "      <td>2019-03-19</td>\n",
       "      <td>2832.570068</td>\n",
       "      <td>-0.000131</td>\n",
       "    </tr>\n",
       "  </tbody>\n",
       "</table>\n",
       "<p>1059 rows × 3 columns</p>\n",
       "</div>"
      ],
      "text/plain": [
       "            date       S&P500   Returns\n",
       "0     2015-01-02  2058.199951       NaN\n",
       "1     2015-01-05  2020.579956 -0.018278\n",
       "2     2015-01-06  2002.609985 -0.008893\n",
       "3     2015-01-07  2025.900024  0.011630\n",
       "4     2015-01-08  2062.139893  0.017888\n",
       "...          ...          ...       ...\n",
       "1054  2019-03-13  2810.919922  0.006950\n",
       "1055  2019-03-14  2808.479980 -0.000868\n",
       "1056  2019-03-15  2822.479980  0.004985\n",
       "1057  2019-03-18  2832.939941  0.003706\n",
       "1058  2019-03-19  2832.570068 -0.000131\n",
       "\n",
       "[1059 rows x 3 columns]"
      ]
     },
     "execution_count": 20,
     "metadata": {},
     "output_type": "execute_result"
    }
   ],
   "source": [
    "sp500 = pd.read_csv('sp500.csv')\n",
    "sp500['Returns'] = sp500['S&P500'].pct_change()\n",
    "sp500"
   ]
  },
  {
   "cell_type": "code",
   "execution_count": 21,
   "id": "dd484038-70e0-498b-93a8-d89a7ff1d782",
   "metadata": {},
   "outputs": [
    {
     "data": {
      "text/plain": [
       "0.3762365831481841"
      ]
     },
     "execution_count": 21,
     "metadata": {},
     "output_type": "execute_result"
    }
   ],
   "source": [
    "# Calculate the total return from the S&P500 value series\n",
    "sp_total_return = (sp500['S&P500'].iloc[-1] - sp500['S&P500'].iloc[0]) / sp500['S&P500'].iloc[0]\n",
    "sp_total_return"
   ]
  },
  {
   "cell_type": "code",
   "execution_count": 22,
   "id": "114e7c33-f6fd-4c6f-b3c4-6f3d33bfb477",
   "metadata": {},
   "outputs": [
    {
     "data": {
      "text/plain": [
       "0.08311176814071208"
      ]
     },
     "execution_count": 22,
     "metadata": {},
     "output_type": "execute_result"
    }
   ],
   "source": [
    "# Annualize the total return spanning 4 years\n",
    "sp_annualized_return = ((1 + sp_total_return)**(1/4))-1\n",
    "sp_annualized_return"
   ]
  },
  {
   "cell_type": "markdown",
   "id": "b479a0bf-0301-41ab-aaf5-96ac5f284c7e",
   "metadata": {},
   "source": [
    "S&P500 Sharpe ratio\n",
    "\n",
    "In this exercise, you're going to calculate the Sharpe ratio of the S&P500, starting with pricing data only. In the next exercise, you'll do the same for the portfolio data, such that you can compare the Sharpe ratios of the two."
   ]
  },
  {
   "cell_type": "code",
   "execution_count": 23,
   "id": "e0becca0-a5d1-4723-a23b-0aaf24f62f67",
   "metadata": {},
   "outputs": [
    {
     "data": {
      "text/plain": [
       "0.1366798064443735"
      ]
     },
     "execution_count": 23,
     "metadata": {},
     "output_type": "execute_result"
    }
   ],
   "source": [
    "# Calculate annualized volatility from the standard deviation\n",
    "vol_sp500 = sp500['Returns'].std() * np.sqrt(252)\n",
    "vol_sp500"
   ]
  },
  {
   "cell_type": "code",
   "execution_count": 24,
   "id": "3a17ef42-bd53-4630-8764-da5966a182f0",
   "metadata": {},
   "outputs": [
    {
     "data": {
      "text/plain": [
       "0.6080764254998945"
      ]
     },
     "execution_count": 24,
     "metadata": {},
     "output_type": "execute_result"
    }
   ],
   "source": [
    "rfr = 0 # assuming zero risk free rate\n",
    "\n",
    "# Calculate the Sharpe ratio \n",
    "sp_sharpe_ratio = ((sp_annualized_return - rfr) / vol_sp500) \n",
    "sp_sharpe_ratio"
   ]
  },
  {
   "cell_type": "markdown",
   "id": "efd25e5a-cffc-4af1-a356-f1391de2e9bb",
   "metadata": {},
   "source": [
    "Portfolio Sharpe ratio\n",
    "\n",
    "In this exercise you are now going to calculate the Sharpe ratio of the portfolio. How do you think the portfolio Sharpe ratio will be different to the S&P500 Sharpe ratio? "
   ]
  },
  {
   "cell_type": "code",
   "execution_count": 25,
   "id": "e2c0fe45-d329-4dd9-9403-522780e373ba",
   "metadata": {},
   "outputs": [
    {
     "data": {
      "text/plain": [
       "0.19424284189903393"
      ]
     },
     "execution_count": 25,
     "metadata": {},
     "output_type": "execute_result"
    }
   ],
   "source": [
    "# Calculate annualized volatility from the standard deviation\n",
    "vol_pf = pf_AUM['Returns'].std()*np.sqrt(250)\n",
    "vol_pf\n"
   ]
  },
  {
   "cell_type": "code",
   "execution_count": 26,
   "id": "58161e39-9349-4b2a-9da3-5bd96b5b7820",
   "metadata": {},
   "outputs": [
    {
     "data": {
      "text/plain": [
       "1.0361666720710716"
      ]
     },
     "execution_count": 26,
     "metadata": {},
     "output_type": "execute_result"
    }
   ],
   "source": [
    "# Calculate the Sharpe ratio \n",
    "aum_sharpe_ratio = ((aum_annualized_return - rfr) /vol_pf)\n",
    "aum_sharpe_ratio"
   ]
  },
  {
   "cell_type": "markdown",
   "id": "3c7292e2-9993-4e00-8494-03ecf046b6a4",
   "metadata": {},
   "source": [
    "Skewness of the S&P500\n",
    "\n",
    "We already know from the video that the S&P500 should be normally distributed, without too much skewness (when you have enough data). However, since you're working with a short data sample spanning only a few years, there might actually be some skewness in your sample. To make you aware of this potential sample skewness, let's plot the data and have a look."
   ]
  },
  {
   "cell_type": "code",
   "execution_count": 27,
   "id": "26c4c851-12dc-40ba-910c-2f7549119d7e",
   "metadata": {},
   "outputs": [
    {
     "data": {
      "image/png": "[encoded data removed]",
      "text/plain": [
       "<Figure size 640x480 with 1 Axes>"
      ]
     },
     "metadata": {},
     "output_type": "display_data"
    }
   ],
   "source": [
    "# Create a histogram of the S&P500 returns and show the plot\n",
    "sp500['Returns'].hist()\n",
    "plt.show()"
   ]
  },
  {
   "cell_type": "markdown",
   "id": "b5435565-7fd5-4bdc-94ea-2b71599aaa06",
   "metadata": {},
   "source": [
    "Calculating skewness and kurtosis\n",
    "\n",
    "You just saw the histogram of the S&P500 data, let's now put it into numbers and calculate skewness and kurtosis. For the full picture of the distribution, you'll also look at the mean and standard deviation. Available are the S&P500 returns data under returns_sp500, which is all you need for this."
   ]
  },
  {
   "cell_type": "code",
   "execution_count": 29,
   "id": "102e4855-b36a-4388-bee8-f5403c8d51eb",
   "metadata": {},
   "outputs": [
    {
     "name": "stdout",
     "output_type": "stream",
     "text": [
      "mean :  0.03389998442910263\n",
      "median :  0.03700511683232266\n",
      "Std. dev  :  0.8610018502291801\n",
      "skew :  -0.3831994518762794\n",
      "kurt :  3.9223911008585053\n"
     ]
    }
   ],
   "source": [
    "# Print the mean\n",
    "print(\"mean : \", sp500['Returns'].mean()*100)\n",
    "\n",
    "# Print the mean\n",
    "print(\"median : \", sp500['Returns'].median()*100)\n",
    "\n",
    "# Print the standard deviation\n",
    "print(\"Std. dev  : \", sp500['Returns'].std()*100)\n",
    "\n",
    "# Print the skewness\n",
    "print(\"skew : \", sp500['Returns'].skew())\n",
    "\n",
    "# Print the kurtosis\n",
    "print(\"kurt : \", sp500['Returns'].kurtosis())"
   ]
  },
  {
   "cell_type": "markdown",
   "id": "51382894-24fe-43b1-8491-53b14e5ce4b2",
   "metadata": {},
   "source": [
    "Comparing distributions of stock returns\n",
    "\n",
    "Let's have a look at how you can use skewness and kurtosis in your investment decisions. In this exercise you're going to compare the distributions of singular stocks with the portfolio, and see whether combining multiple stocks in a portfolio improves your returns distribution."
   ]
  },
  {
   "cell_type": "code",
   "execution_count": 31,
   "id": "76578239-5d92-4ab0-ba4c-720456a3435c",
   "metadata": {},
   "outputs": [
    {
     "name": "stdout",
     "output_type": "stream",
     "text": [
      "skew :  GE          -1.315660\n",
      "JPM          0.743794\n",
      "MSFT         0.755347\n",
      "PG          -0.496022\n",
      "portfolio    0.066669\n",
      "dtype: float64\n"
     ]
    }
   ],
   "source": [
    "# Print skewness and kurtosis of the stocks\n",
    "print (\"skew : \", stock_returns.skew())"
   ]
  },
  {
   "cell_type": "code",
   "execution_count": 32,
   "id": "f4362561-ade6-401a-9be7-41790ef0a2f1",
   "metadata": {},
   "outputs": [
    {
     "name": "stdout",
     "output_type": "stream",
     "text": [
      "kurt :  GE           1.071946\n",
      "JPM         -0.641370\n",
      "MSFT        -0.315214\n",
      "PG          -0.226965\n",
      "portfolio   -1.349232\n",
      "dtype: float64\n"
     ]
    }
   ],
   "source": [
    "print (\"kurt : \", stock_returns.kurtosis())"
   ]
  },
  {
   "cell_type": "code",
   "execution_count": 37,
   "id": "7b178d07-5adb-4fff-b66d-5f6bf875e39e",
   "metadata": {},
   "outputs": [
    {
     "data": {
      "image/png": "[encoded data removed]",
      "text/plain": [
       "<Figure size 640x480 with 1 Axes>"
      ]
     },
     "metadata": {},
     "output_type": "display_data"
    }
   ],
   "source": [
    "# Print the histogram of the portfolio\n",
    "stock_returns.portfolio.hist()\n",
    "plt.show()"
   ]
  },
  {
   "cell_type": "markdown",
   "id": "1c3a98fe-41d9-49d9-a0c8-5124738016bd",
   "metadata": {},
   "source": [
    "Sortino ratio\n",
    "\n",
    "For this exercise, calculate the Sortino ratio. The Sortino ratio is just like the Sharpe ratio, except for that it uses the standard deviation of the negative returns only, and thereby focuses more on the downside of investing.\n",
    "\n",
    "Let's see how big the Sortino ratio is compared to the earlier calculated Sharpe ratio. \n",
    "\n",
    "The risk-free rate rfrand the target return target are already defined and are both zero."
   ]
  },
  {
   "cell_type": "code",
   "execution_count": 43,
   "id": "f9dc98e2-8b36-41f4-a378-1112522409f2",
   "metadata": {},
   "outputs": [
    {
     "data": {
      "text/html": [
       "<div>\n",
       "<style scoped>\n",
       "    .dataframe tbody tr th:only-of-type {\n",
       "        vertical-align: middle;\n",
       "    }\n",
       "\n",
       "    .dataframe tbody tr th {\n",
       "        vertical-align: top;\n",
       "    }\n",
       "\n",
       "    .dataframe thead th {\n",
       "        text-align: right;\n",
       "    }\n",
       "</style>\n",
       "<table border=\"1\" class=\"dataframe\">\n",
       "  <thead>\n",
       "    <tr style=\"text-align: right;\">\n",
       "      <th></th>\n",
       "      <th>date</th>\n",
       "      <th>AUM</th>\n",
       "      <th>Returns</th>\n",
       "    </tr>\n",
       "  </thead>\n",
       "  <tbody>\n",
       "    <tr>\n",
       "      <th>1</th>\n",
       "      <td>05/01/2015</td>\n",
       "      <td>99.667</td>\n",
       "      <td>-0.013198</td>\n",
       "    </tr>\n",
       "    <tr>\n",
       "      <th>2</th>\n",
       "      <td>06/01/2015</td>\n",
       "      <td>98.088</td>\n",
       "      <td>-0.015843</td>\n",
       "    </tr>\n",
       "    <tr>\n",
       "      <th>5</th>\n",
       "      <td>09/01/2015</td>\n",
       "      <td>100.591</td>\n",
       "      <td>-0.010301</td>\n",
       "    </tr>\n",
       "    <tr>\n",
       "      <th>6</th>\n",
       "      <td>12/01/2015</td>\n",
       "      <td>99.501</td>\n",
       "      <td>-0.010836</td>\n",
       "    </tr>\n",
       "    <tr>\n",
       "      <th>7</th>\n",
       "      <td>13/01/2015</td>\n",
       "      <td>99.180</td>\n",
       "      <td>-0.003226</td>\n",
       "    </tr>\n",
       "    <tr>\n",
       "      <th>...</th>\n",
       "      <td>...</td>\n",
       "      <td>...</td>\n",
       "      <td>...</td>\n",
       "    </tr>\n",
       "    <tr>\n",
       "      <th>806</th>\n",
       "      <td>19/03/2018</td>\n",
       "      <td>185.074</td>\n",
       "      <td>-0.014620</td>\n",
       "    </tr>\n",
       "    <tr>\n",
       "      <th>808</th>\n",
       "      <td>21/03/2018</td>\n",
       "      <td>184.188</td>\n",
       "      <td>-0.006328</td>\n",
       "    </tr>\n",
       "    <tr>\n",
       "      <th>809</th>\n",
       "      <td>22/03/2018</td>\n",
       "      <td>178.749</td>\n",
       "      <td>-0.029530</td>\n",
       "    </tr>\n",
       "    <tr>\n",
       "      <th>810</th>\n",
       "      <td>23/03/2018</td>\n",
       "      <td>174.039</td>\n",
       "      <td>-0.026350</td>\n",
       "    </tr>\n",
       "    <tr>\n",
       "      <th>812</th>\n",
       "      <td>27/03/2018</td>\n",
       "      <td>178.133</td>\n",
       "      <td>-0.034248</td>\n",
       "    </tr>\n",
       "  </tbody>\n",
       "</table>\n",
       "<p>385 rows × 3 columns</p>\n",
       "</div>"
      ],
      "text/plain": [
       "           date      AUM   Returns\n",
       "1    05/01/2015   99.667 -0.013198\n",
       "2    06/01/2015   98.088 -0.015843\n",
       "5    09/01/2015  100.591 -0.010301\n",
       "6    12/01/2015   99.501 -0.010836\n",
       "7    13/01/2015   99.180 -0.003226\n",
       "..          ...      ...       ...\n",
       "806  19/03/2018  185.074 -0.014620\n",
       "808  21/03/2018  184.188 -0.006328\n",
       "809  22/03/2018  178.749 -0.029530\n",
       "810  23/03/2018  174.039 -0.026350\n",
       "812  27/03/2018  178.133 -0.034248\n",
       "\n",
       "[385 rows x 3 columns]"
      ]
     },
     "execution_count": 43,
     "metadata": {},
     "output_type": "execute_result"
    }
   ],
   "source": [
    "target = 0\n",
    "\n",
    "# Create a downside return column with the negative returns only\n",
    "downside_returns = pf_AUM.loc[pf_AUM['Returns'] < target]\n",
    "downside_returns"
   ]
  },
  {
   "cell_type": "code",
   "execution_count": 44,
   "id": "3521048e-6828-43e9-9526-b6f39c95fb12",
   "metadata": {},
   "outputs": [
    {
     "data": {
      "text/plain": [
       "0.0007742338381612281"
      ]
     },
     "execution_count": 44,
     "metadata": {},
     "output_type": "execute_result"
    }
   ],
   "source": [
    "# Calculate expected return and std dev of downside\n",
    "expected_return = pf_AUM['Returns'].mean()\n",
    "expected_return"
   ]
  },
  {
   "cell_type": "code",
   "execution_count": 45,
   "id": "bc9f9829-18eb-4afa-9658-ef9586fe2a90",
   "metadata": {},
   "outputs": [
    {
     "data": {
      "text/plain": [
       "0.00890924691807902"
      ]
     },
     "execution_count": 45,
     "metadata": {},
     "output_type": "execute_result"
    }
   ],
   "source": [
    "down_stdev = downside_returns['Returns'].std()\n",
    "down_stdev"
   ]
  },
  {
   "cell_type": "code",
   "execution_count": 46,
   "id": "87661edc-c25d-4763-be7f-273e4e2f1dea",
   "metadata": {},
   "outputs": [
    {
     "name": "stdout",
     "output_type": "stream",
     "text": [
      "Expected return  :  0.0774233838161228\n",
      "Downside risk   :  0.890924691807902\n",
      "Sortino ratio :  0.08690227639668624\n"
     ]
    }
   ],
   "source": [
    "# Calculate the sortino ratio\n",
    "sortino_ratio = (expected_return - rfr) / down_stdev\n",
    "\n",
    "# Print the results\n",
    "print(\"Expected return  : \", expected_return*100)\n",
    "print(\"Downside risk   : \", down_stdev*100)\n",
    "print(\"Sortino ratio : \", sortino_ratio)"
   ]
  },
  {
   "cell_type": "markdown",
   "id": "c0243375-1ff3-44e9-8358-b34277f3eb05",
   "metadata": {},
   "source": [
    "Maximum draw-down portfolio\n",
    "\n",
    "In this exercise, you'll learn how to calculate the maximum draw-down of the S&P500 (also known as \"peak to trough performance drop\"). Maximum draw-down is an incredibly insightful risk measure. It tells you what has been the worst performance of the S&P500 in the past years."
   ]
  },
  {
   "cell_type": "code",
   "execution_count": 48,
   "id": "64eb03f2-a66c-411c-84f4-a81bf57301d8",
   "metadata": {},
   "outputs": [
    {
     "data": {
      "text/plain": [
       "0       2058.199951\n",
       "1       2058.199951\n",
       "2       2058.199951\n",
       "3       2058.199951\n",
       "4       2062.139893\n",
       "           ...     \n",
       "1054    2930.750000\n",
       "1055    2930.750000\n",
       "1056    2930.750000\n",
       "1057    2930.750000\n",
       "1058    2930.750000\n",
       "Name: S&P500, Length: 1059, dtype: float64"
      ]
     },
     "execution_count": 48,
     "metadata": {},
     "output_type": "execute_result"
    }
   ],
   "source": [
    "# Calculate the max value \n",
    "roll_max = sp500['S&P500'].rolling(center=False,min_periods=1,window=252).max()\n",
    "roll_max"
   ]
  },
  {
   "cell_type": "code",
   "execution_count": 49,
   "id": "088ec5c1-bfec-4063-9d4f-46cb6d7bf91d",
   "metadata": {},
   "outputs": [
    {
     "data": {
      "text/plain": [
       "0       0.000000\n",
       "1      -0.018278\n",
       "2      -0.027009\n",
       "3      -0.015693\n",
       "4       0.000000\n",
       "          ...   \n",
       "1054   -0.040887\n",
       "1055   -0.041720\n",
       "1056   -0.036943\n",
       "1057   -0.033374\n",
       "1058   -0.033500\n",
       "Name: S&P500, Length: 1059, dtype: float64"
      ]
     },
     "execution_count": 49,
     "metadata": {},
     "output_type": "execute_result"
    }
   ],
   "source": [
    "# Calculate the daily draw-down relative to the max\n",
    "daily_draw_down = sp500['S&P500'] / roll_max - 1\n",
    "daily_draw_down"
   ]
  },
  {
   "cell_type": "code",
   "execution_count": 50,
   "id": "bab0a627-8371-4240-b62d-c74c09e0e593",
   "metadata": {},
   "outputs": [
    {
     "data": {
      "text/plain": [
       "0       0.000000\n",
       "1      -0.018278\n",
       "2      -0.027009\n",
       "3      -0.027009\n",
       "4      -0.027009\n",
       "          ...   \n",
       "1054   -0.197782\n",
       "1055   -0.197782\n",
       "1056   -0.197782\n",
       "1057   -0.197782\n",
       "1058   -0.197782\n",
       "Name: S&P500, Length: 1059, dtype: float64"
      ]
     },
     "execution_count": 50,
     "metadata": {},
     "output_type": "execute_result"
    }
   ],
   "source": [
    "# Calculate the minimum (negative) daily draw-down\n",
    "max_daily_draw_down = daily_draw_down.rolling(center=False,min_periods=1,window=252).min()\n",
    "max_daily_draw_down"
   ]
  },
  {
   "cell_type": "code",
   "execution_count": 52,
   "id": "2d5fa64b-dafc-4442-986b-0f71b98d4c05",
   "metadata": {},
   "outputs": [
    {
     "data": {
      "image/png": "[encoded data removed]",
      "text/plain": [
       "<Figure size 1500x1500 with 1 Axes>"
      ]
     },
     "metadata": {},
     "output_type": "display_data"
    }
   ],
   "source": [
    "# Plot the results\n",
    "plt.figure(figsize=(15,15))\n",
    "plt.plot(sp500['date'], daily_draw_down, label='Daily drawdown')\n",
    "plt.plot(sp500['date'], max_daily_draw_down, label='Maximum daily drawdown in time-window')\n",
    "plt.legend()\n",
    "plt.show()"
   ]
  },
  {
   "cell_type": "code",
   "execution_count": null,
   "id": "bcfe946a-74ef-4392-87fa-3210368385a3",
   "metadata": {},
   "outputs": [],
   "source": []
  },
  {
   "cell_type": "code",
   "execution_count": null,
   "id": "668c768b-ed1e-4b54-8ad9-637043e7364c",
   "metadata": {},
   "outputs": [],
   "source": []
  },
  {
   "cell_type": "code",
   "execution_count": null,
   "id": "d615198f-1a44-4be1-86ea-5b590fbc8c9d",
   "metadata": {},
   "outputs": [],
   "source": []
  },
  {
   "cell_type": "code",
   "execution_count": null,
   "id": "91707563-0b02-4147-a542-e8104ea3d7f1",
   "metadata": {},
   "outputs": [],
   "source": []
  },
  {
   "cell_type": "code",
   "execution_count": null,
   "id": "c0bc072d-c8dc-4b1e-a71f-33f7a7e50381",
   "metadata": {},
   "outputs": [],
   "source": []
  },
  {
   "cell_type": "code",
   "execution_count": null,
   "id": "a08582f9-6830-4946-a489-b9fb67385e20",
   "metadata": {},
   "outputs": [],
   "source": []
  },
  {
   "cell_type": "code",
   "execution_count": null,
   "id": "b122b718-6f1f-4222-b48c-14c7c5943d1e",
   "metadata": {},
   "outputs": [],
   "source": []
  },
  {
   "cell_type": "code",
   "execution_count": null,
   "id": "ad7326b1-b9ec-4b61-b865-b5e82b0cb42b",
   "metadata": {},
   "outputs": [],
   "source": []
  },
  {
   "cell_type": "code",
   "execution_count": null,
   "id": "2da66fa7-eb6d-4aa2-a21b-2cc23c96c38e",
   "metadata": {},
   "outputs": [],
   "source": []
  },
  {
   "cell_type": "code",
   "execution_count": null,
   "id": "5d4453f4-66be-430e-99c7-1b3c2e4c9966",
   "metadata": {},
   "outputs": [],
   "source": []
  },
  {
   "cell_type": "code",
   "execution_count": null,
   "id": "8e597a08-6265-42de-8d54-b5b58f5863a7",
   "metadata": {},
   "outputs": [],
   "source": []
  },
  {
   "cell_type": "code",
   "execution_count": null,
   "id": "34c252f4-99fe-406c-a22e-ac34f2690a3b",
   "metadata": {},
   "outputs": [],
   "source": []
  },
  {
   "cell_type": "code",
   "execution_count": null,
   "id": "d01c87bb-2ec5-4588-a791-96d5a7efd50f",
   "metadata": {},
   "outputs": [],
   "source": []
  }
 ],
 "metadata": {
  "kernelspec": {
   "display_name": "Python 3 (ipykernel)",
   "language": "python",
   "name": "python3"
  },
  "language_info": {
   "codemirror_mode": {
    "name": "ipython",
    "version": 3
   },
   "file_extension": ".py",
   "mimetype": "text/x-python",
   "name": "python",
   "nbconvert_exporter": "python",
   "pygments_lexer": "ipython3",
   "version": "3.10.10"
  }
 },
 "nbformat": 4,
 "nbformat_minor": 5
}
