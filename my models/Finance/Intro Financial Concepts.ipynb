{
 "cells": [
  {
   "cell_type": "code",
   "execution_count": 7,
   "id": "b30dffbc-f491-4bf8-886b-d537dc6001ea",
   "metadata": {},
   "outputs": [],
   "source": [
    "import numpy as np\n",
    "import numpy_financial as npf"
   ]
  },
  {
   "cell_type": "markdown",
   "id": "8bfbe5f6-4a07-49b2-a4e5-f151b9b56880",
   "metadata": {},
   "source": [
    "Growth and rate of return\n",
    "\n",
    "Growth and Rate of Return are two concepts that are ubiquitous throughout the financial world. Recall that the cumulative returns from investing $100 in an asset that grows at 5% per year, over a 2 year period can be calculated as:\n",
    "\n",
    "100 * (1+0.05)^2"
   ]
  },
  {
   "cell_type": "code",
   "execution_count": 1,
   "id": "cd85e633-d2f1-4aa7-bd17-e2603d4afd79",
   "metadata": {},
   "outputs": [
    {
     "name": "stdout",
     "output_type": "stream",
     "text": [
      "Future Value of Investment: 574.35\n"
     ]
    }
   ],
   "source": [
    "# Calculate the future value (cumulative return) of a $100 investment which grows at a rate of 6% per year for 30 years in a row and assign it to future_value.\n",
    "future_value = 100 * (1+0.06)**30\n",
    "print(\"Future Value of Investment: \" + str(round(future_value, 2)))"
   ]
  },
  {
   "cell_type": "markdown",
   "id": "b0eb9603-bad4-47c4-b3c3-0e449c151730",
   "metadata": {},
   "source": [
    "Compound interest\n",
    "\n",
    "As you saw in the previous exercise, both time and the rate of return are very important variables when forecasting the future value of an investment.\n",
    "\n",
    "Another important variable is the number of compounding periods, which can greatly affect compounded returns over time.\n",
    "\n",
    "𝐴=𝑃*(1+𝑟/𝑛)^𝑛𝑡\n",
    "\n",
    "A: The future value of the investment/loan, including interest.\n",
    "\n",
    "P: The principal investment amount (initial deposit or loan amount).\n",
    "\n",
    "r: The annual interest rate (decimal).\n",
    "\n",
    "n: The number of times interest is compounded per year.\n",
    "\n",
    "t: The number of years the money is invested or borrowed for."
   ]
  },
  {
   "cell_type": "code",
   "execution_count": 2,
   "id": "11e2b25a-df62-428a-b349-de4b0b6d0580",
   "metadata": {},
   "outputs": [
    {
     "name": "stdout",
     "output_type": "stream",
     "text": [
      "Investment 1: 574.35\n",
      "Investment 2: 596.93\n",
      "Investment 3: 602.26\n"
     ]
    }
   ],
   "source": [
    "# Calculate the value of a $100 investment which grows at a rate of 6% per year for 30 years in a row\n",
    "# Predefined variables\n",
    "initial_investment = 100\n",
    "growth_periods = 30\n",
    "growth_rate = 0.06\n",
    "\n",
    "# Calculate the value for the investment compounded once per year\n",
    "compound_periods_1 = 1\n",
    "investment_1 = initial_investment*(1 + growth_rate / compound_periods_1)**(compound_periods_1*growth_periods)\n",
    "print(\"Investment 1: \" + str(round(investment_1, 2)))\n",
    "\n",
    "# Calculate the value for the investment compounded quarterly\n",
    "compound_periods_2 = 4\n",
    "investment_2 = initial_investment*(1 + growth_rate / compound_periods_2)**(compound_periods_2*growth_periods)\n",
    "print(\"Investment 2: \" + str(round(investment_2, 2)))\n",
    "\n",
    "# Calculate the value for the investment compounded monthly\n",
    "compound_periods_3 = 12\n",
    "investment_3 = initial_investment*(1 + growth_rate / compound_periods_3)**(compound_periods_3*growth_periods)\n",
    "print(\"Investment 3: \" + str(round(investment_3, 2)))"
   ]
  },
  {
   "cell_type": "markdown",
   "id": "a3ee7879-fa24-43d1-90cb-6b3be3ea46a2",
   "metadata": {},
   "source": [
    "Discount factors and depreciation\n",
    "\n",
    "Unfortunately, not everything grows in value over time.\n",
    "\n",
    "In fact, many assets depreciate, or lose value over time. To simulate this, you can simply assume a negative expected rate of return.\n",
    "\n",
    "Example:\n",
    "\n",
    "Calculate the final depreciated value of an initially $10,000 car which declines in value by 3% per year for 10 years:\n",
    "\n",
    "10000*(1-0.03)^10"
   ]
  },
  {
   "cell_type": "code",
   "execution_count": 3,
   "id": "0871c147-542d-4792-b6f4-1d8e5f88c46d",
   "metadata": {},
   "outputs": [
    {
     "name": "stdout",
     "output_type": "stream",
     "text": [
      "Future value: 59.87\n",
      "Discount factor: 1.67\n",
      "Initial value: 100.0\n"
     ]
    }
   ],
   "source": [
    "# Calculate the future value of a $100 investment that depreciates in value by 5% per year for 10 years and assign it to future_value.\n",
    "\n",
    "# Calculate the future value\n",
    "initial_investment = 100\n",
    "growth_rate = -0.05\n",
    "growth_periods = 10\n",
    "future_value = initial_investment*(1 + growth_rate)**(growth_periods)\n",
    "print(\"Future value: \" + str(round(future_value, 2)))\n",
    "\n",
    "# Calculate the discount factor\n",
    "discount_factor = 1/((1 + growth_rate)**(growth_periods))\n",
    "print(\"Discount factor: \" + str(round(discount_factor, 2)))\n",
    "\n",
    "# Derive the initial value of the investment\n",
    "initial_investment_again = future_value*discount_factor\n",
    "print(\"Initial value: \" + str(round(initial_investment_again, 2)))"
   ]
  },
  {
   "cell_type": "markdown",
   "id": "c69639f2-73e9-4d25-af29-bbc4726c26ed",
   "metadata": {},
   "source": [
    "Present value (amount to invest today to reach a future sum of e.g. $10,000 in 15 years with an interest rate of 3%.)\n",
    "\n",
    "Luckily for you, there is a module called numpy which contains many functions which will make your life much easier when working with financial values.\n",
    "\n",
    "The .pv(rate, nper, pmt, fv) function, for example, allows you to calculate the present value of an investment as before with a few simple parameters:\n",
    "\n",
    "rate: The rate of return of the investment\n",
    "\n",
    "nper: The lifespan of the investment\n",
    "\n",
    "pmt: The (fixed) payment at the beginning or end of each period (which is 0 in our example)\n",
    "\n",
    "fv: The future value of the investment\n",
    "\n",
    "You can use this formula in many ways. For example, you can calculate the present value of future investments in today's dollars."
   ]
  },
  {
   "cell_type": "code",
   "execution_count": 8,
   "id": "e0e0ad11-82e1-4697-a0b8-72c24a32628d",
   "metadata": {},
   "outputs": [
    {
     "name": "stdout",
     "output_type": "stream",
     "text": [
      "Investment 1 is worth 6418.62 in today's dollars\n",
      "Investment 2 is worth 6139.13 in today's dollars\n"
     ]
    }
   ],
   "source": [
    "# Calculate investment_1\n",
    "# compute the present value of an investment which will yield $10,000 15 years from now at an inflation rate of 3% per year and assign it to investment_1.\n",
    "investment_1 = npf.pv(rate=0.03, nper=15, pmt=0, fv=10000)\n",
    "\n",
    "# Note that the present value returned is negative, so we multiply the result by -1\n",
    "print(\"Investment 1 is worth \" + str(round(-investment_1, 2)) + \" in today's dollars\")\n",
    "\n",
    "# Calculate investment_2\n",
    "# Compute the present value of the same investment, but with a time horizon of only 10 years and an inflation rate of 5%, assigning it to investment_2.\n",
    "investment_2 = npf.pv(rate=0.05, nper=10, pmt=0, fv=10000)\n",
    "print(\"Investment 2 is worth \" + str(round(-investment_2, 2)) + \" in today's dollars\")"
   ]
  },
  {
   "cell_type": "markdown",
   "id": "e4de4103-87b9-486a-ab8a-ef82b22db294",
   "metadata": {},
   "source": [
    "Future value\n",
    "\n",
    "The numpy module also contains a similar function, .fv(rate, nper, pmt, pv), which allows you to calculate the future value of an investment as before with a few simple parameters:\n",
    "\n",
    "rate: The rate of return of the investment\n",
    "\n",
    "nper: The lifespan of the investment\n",
    "\n",
    "pmt: The (fixed) payment at the beginning or end of each period (which is 0 in our example)\n",
    "\n",
    "pv: The present value of the investment\n",
    "\n",
    "It is important to note that in this function call, you must pass a negative value into the pv parameter if it represents a negative cash flow (cash going out). In other words, if you were to compute the future value of an investment, requiring an up-front cash payment, you would need to pass a negative value to the pv parameter in the .fv() function."
   ]
  },
  {
   "cell_type": "code",
   "execution_count": 10,
   "id": "2214b494-bb14-41a2-aa8d-6de87851d8b3",
   "metadata": {},
   "outputs": [
    {
     "name": "stdout",
     "output_type": "stream",
     "text": [
      "Investment 1 will yield a total of $20789.28 in 15 years\n",
      "Investment 2 will yield a total of $31721.69 in 15 years\n"
     ]
    }
   ],
   "source": [
    "# Calculate investment_1\n",
    "investment_1 = npf.fv(rate=0.05, nper=15, pmt=0, pv=-10000)\n",
    "print(\"Investment 1 will yield a total of $\" + str(round(investment_1, 2)) + \" in 15 years\")\n",
    "\n",
    "# Calculate investment_2\n",
    "investment_2 = npf.fv(rate=0.08, nper=15, pmt=0, pv=-10000)\n",
    "print(\"Investment 2 will yield a total of $\" + str(round(investment_2, 2)) + \" in 15 years\")"
   ]
  },
  {
   "cell_type": "markdown",
   "id": "0c846318-683d-448d-ae40-8cdb868b0b62",
   "metadata": {},
   "source": [
    "Adjusting future values for inflation\n",
    "                       \n",
    "You can now put together what you learned in the previous exercises by following a simple methodology:\n",
    "\n",
    "First, forecast the future value of an investment given a rate of return\n",
    "\n",
    "Second, discount the future value of the investment by a projected inflation rate\n",
    "\n",
    "The methodology above will use both the .fv() and .pv() functions to arrive at the projected value of a given investment in today's dollars, adjusted for inflation."
   ]
  },
  {
   "cell_type": "code",
   "execution_count": 12,
   "id": "c9012131-b7e6-443e-976c-99f9517ac739",
   "metadata": {},
   "outputs": [
    {
     "name": "stdout",
     "output_type": "stream",
     "text": [
      "Investment 1 will yield a total of $21589.25 in 10 years\n",
      "After adjusting for inflation, investment 1 is worth $16064.43 in today's dollars\n"
     ]
    }
   ],
   "source": [
    "# Calculate investment_1\n",
    "investment_1 = npf.fv(rate=0.08, nper=10, pmt=0, pv=-10000)\n",
    "print(\"Investment 1 will yield a total of $\" + str(round(investment_1, 2)) + \" in 10 years\")\n",
    "\n",
    "# Calculate investment_2\n",
    "investment_1_discounted = npf.pv(rate=0.03, nper=10, pmt=0, fv=investment_1)\n",
    "print(\"After adjusting for inflation, investment 1 is worth $\" + str(round(-investment_1_discounted, 2)) + \" in today's dollars\")"
   ]
  },
  {
   "cell_type": "markdown",
   "id": "f6aac6ca-1c52-4372-a7ed-3f3735ecd56d",
   "metadata": {},
   "source": [
    "Discounting cash flows\n",
    "\n",
    "You can use numpy's net present value function numpy.npv(rate, values) to calculate the net present value of a series of cash flows. You can create these cash flows by using a numpy.array([...]) of values.\n",
    "\n",
    "Compute the NPV of the same cash flows from the following project, but assuming different discount rates:"
   ]
  },
  {
   "cell_type": "code",
   "execution_count": 14,
   "id": "f8cfab7c-7937-40a8-9d4c-c17b34523fa6",
   "metadata": {},
   "outputs": [
    {
     "name": "stdout",
     "output_type": "stream",
     "text": [
      "Investment 1's net present value is $471.71 in today's dollars\n",
      "Investment 2's net present value is $454.6 in today's dollars\n",
      "Investment 3's net present value is $438.72 in today's dollars\n"
     ]
    }
   ],
   "source": [
    "# Predefined array of cash flows\n",
    "cash_flows = np.array([100, 100, 100, 100, 100])\n",
    "\n",
    "# Calculate investment_1\n",
    "investment_1 = npf.npv(rate=0.03, values=cash_flows)\n",
    "print(\"Investment 1's net present value is $\" + str(round(investment_1, 2)) + \" in today's dollars\")\n",
    "\n",
    "# Calculate investment_2\n",
    "investment_2 = npf.npv(rate=0.05, values=cash_flows)\n",
    "print(\"Investment 2's net present value is $\" + str(round(investment_2, 2)) + \" in today's dollars\")\n",
    "\n",
    "# Calculate investment_3\n",
    "investment_3 = npf.npv(rate=0.07, values=cash_flows)\n",
    "print(\"Investment 3's net present value is $\" + str(round(investment_3, 2)) + \" in today's dollars\")"
   ]
  },
  {
   "cell_type": "markdown",
   "id": "5cae2d86-77d0-492f-a2c3-8a609e8339bc",
   "metadata": {},
   "source": [
    "Initial project costs\n",
    "\n",
    "The numpy.npv(rate, values) function is very powerful because it allows you to pass in both positive and negative values.\n",
    "\n",
    "For this exercise, you will calculate the net present value of two potential projects with different cash flows:\n",
    "\n",
    "Year\tProject 1\tProject 2\n",
    "    \n",
    "1\t-250 (initial investment)\t-250 (initial investment)\n",
    "    \n",
    "2\t100 cash flow\t300 cash flow\n",
    "    \n",
    "3\t200 cash flow\t-250 (net investment)\n",
    "    \n",
    "4\t300 cash flow\t300 cash flow\n",
    "    \n",
    "5\t400 cash flow\t300 cash flow\n",
    "    \n",
    "In this example, project 1 only requires an initial investment of 250, generating a slowly increasing series of cash flows over the next 4 years.\n",
    "\n",
    "Project 2, on the other hand, requires an initial investment of 250 and an additional investment of 250 in year 3. However, project 2 continues to generate larger cash flows.\n",
    "\n",
    "Assuming both projects don't generate any more cash flows after the fifth year, which project would you decide to undertake? The best way to decide is by comparing the NPV of both projects."
   ]
  },
  {
   "cell_type": "code",
   "execution_count": 15,
   "id": "807d8e08-258d-4cca-be2b-b4b4758b1d49",
   "metadata": {},
   "outputs": [
    {
     "name": "stdout",
     "output_type": "stream",
     "text": [
      "The net present value of Investment 1 is worth $665.54 in today's dollars\n",
      "The net present value of Investment 2 is worth $346.7 in today's dollars\n"
     ]
    }
   ],
   "source": [
    "# Create an array of cash flows for project 1\n",
    "cash_flows_1 = np.array([-250,100,200,300,400])\n",
    "\n",
    "# Create an array of cash flows for project 2\n",
    "cash_flows_2 = np.array([-250,300,-250,300,300])\n",
    "\n",
    "# Calculate the net present value of project 1\n",
    "investment_1 = npf.npv(rate=0.03, values=cash_flows_1)\n",
    "print(\"The net present value of Investment 1 is worth $\" + str(round(investment_1, 2)) + \" in today's dollars\")\n",
    "\n",
    "# Calculate the net present value of project 2\n",
    "investment_2 = npf.npv(rate=0.03, values=cash_flows_2)\n",
    "print(\"The net present value of Investment 2 is worth $\" + str(round(investment_2, 2)) + \" in today's dollars\")"
   ]
  },
  {
   "cell_type": "markdown",
   "id": "2fa5453a-5c48-4be9-8977-6ee5cca99922",
   "metadata": {},
   "source": [
    "Diminishing cash flows\n",
    "\n",
    "Remember how compounded returns grow rapidly over time? Well, it works in the reverse, too. Compounded discount factors over time will quickly shrink a number towards zero.\n",
    "\n",
    "For example, 100 at a 3% annual discount for 1 year is still worth roughly 97.08:\n",
    "\n",
    "But this number shrinks quite rapidly as the number of discounting periods increases:\n",
    "\n",
    "This means that the longer in the future your cash flows will be received (or paid), the close to 0 that number will be."
   ]
  },
  {
   "cell_type": "code",
   "execution_count": 17,
   "id": "0509f0ca-ab9c-4139-a04d-6ece44378b7b",
   "metadata": {},
   "outputs": [
    {
     "name": "stdout",
     "output_type": "stream",
     "text": [
      "Investment 1 is worth $41.2 in today's dollars\n",
      "Investment 2 is worth $22.81 in today's dollars\n",
      "Investment 3 is worth $5.2 in today's dollars\n"
     ]
    }
   ],
   "source": [
    "# Calculate the present value of a single $100 payment received 30 years from now with an annual inflation rate of 3%, and assign it to investment_1.\n",
    "# Calculate the present value of the same payment, but if it was received 50 and 100 years from now, and assign it to investment_2 and investment_3 respectively.\n",
    "\n",
    "# Calculate investment_1\n",
    "investment_1 = npf.pv(rate=0.03, nper=30, pmt=0, fv=100)\n",
    "print(\"Investment 1 is worth $\" + str(round(-investment_1, 2)) + \" in today's dollars\")\n",
    "\n",
    "# Calculate investment_2\n",
    "investment_2 = npf.pv(rate=0.03, nper=50, pmt=0, fv=100)\n",
    "print(\"Investment 2 is worth $\" + str(round(-investment_2, 2)) + \" in today's dollars\")\n",
    "\n",
    "# Calculate investment_3\n",
    "investment_3 = npf.pv(rate=0.03, nper=100, pmt=0, fv=100)\n",
    "print(\"Investment 3 is worth $\" + str(round(-investment_3, 2)) + \" in today's dollars\")"
   ]
  },
  {
   "cell_type": "code",
   "execution_count": null,
   "id": "aede24f5-bf59-4aa6-b779-67f44046228a",
   "metadata": {},
   "outputs": [],
   "source": []
  },
  {
   "cell_type": "code",
   "execution_count": null,
   "id": "63f06b95-d274-4e2f-b6ef-8c91b2d26b8a",
   "metadata": {},
   "outputs": [],
   "source": []
  },
  {
   "cell_type": "code",
   "execution_count": null,
   "id": "832668da-6fd3-44f1-bbbb-6534d940b7d2",
   "metadata": {},
   "outputs": [],
   "source": []
  },
  {
   "cell_type": "code",
   "execution_count": null,
   "id": "07679a95-17ed-4b71-adb6-2d41623b51b9",
   "metadata": {},
   "outputs": [],
   "source": []
  },
  {
   "cell_type": "code",
   "execution_count": null,
   "id": "70888a3d-81a8-4f88-9f96-b379b8ef6add",
   "metadata": {},
   "outputs": [],
   "source": []
  },
  {
   "cell_type": "code",
   "execution_count": null,
   "id": "3dc8874a-60d3-4607-a97a-b71508f3d2e6",
   "metadata": {},
   "outputs": [],
   "source": []
  },
  {
   "cell_type": "code",
   "execution_count": null,
   "id": "f5853b18-82f0-4f4c-9c9d-4b964b3473d0",
   "metadata": {},
   "outputs": [],
   "source": []
  },
  {
   "cell_type": "code",
   "execution_count": null,
   "id": "6383d510-876b-41a6-afd7-ba4b9aa7d7de",
   "metadata": {},
   "outputs": [],
   "source": []
  },
  {
   "cell_type": "code",
   "execution_count": null,
   "id": "38c4cf3a-020e-4814-8c5c-dda553b28fee",
   "metadata": {},
   "outputs": [],
   "source": []
  },
  {
   "cell_type": "code",
   "execution_count": null,
   "id": "10dc219c-0969-4552-88ac-c99dfdd51795",
   "metadata": {},
   "outputs": [],
   "source": []
  },
  {
   "cell_type": "code",
   "execution_count": null,
   "id": "575cda52-6c52-4648-ba95-be3c107089dc",
   "metadata": {},
   "outputs": [],
   "source": []
  },
  {
   "cell_type": "code",
   "execution_count": null,
   "id": "407cc7ba-bd38-44b0-91f7-139f0f25b287",
   "metadata": {},
   "outputs": [],
   "source": []
  },
  {
   "cell_type": "code",
   "execution_count": null,
   "id": "1a726603-c92b-4caa-b370-00f6e11fd315",
   "metadata": {},
   "outputs": [],
   "source": []
  },
  {
   "cell_type": "markdown",
   "id": "148b05eb-b628-44fb-adca-792d0f3a19e1",
   "metadata": {},
   "source": []
  }
 ],
 "metadata": {
  "kernelspec": {
   "display_name": "Python 3 (ipykernel)",
   "language": "python",
   "name": "python3"
  },
  "language_info": {
   "codemirror_mode": {
    "name": "ipython",
    "version": 3
   },
   "file_extension": ".py",
   "mimetype": "text/x-python",
   "name": "python",
   "nbconvert_exporter": "python",
   "pygments_lexer": "ipython3",
   "version": "3.10.10"
  }
 },
 "nbformat": 4,
 "nbformat_minor": 5
}
