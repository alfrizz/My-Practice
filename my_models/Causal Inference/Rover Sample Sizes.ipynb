{
 "cells": [
  {
   "cell_type": "code",
   "execution_count": 1,
   "id": "ff5150db-4378-40e9-8faf-25d0884a5bc1",
   "metadata": {},
   "outputs": [],
   "source": [
    "# imports\n",
    "\n",
    "from statsmodels.stats.power import NormalIndPower\n",
    "from statsmodels.stats.proportion import proportion_effectsize\n",
    "from statsmodels.stats.power import TTestIndPower"
   ]
  },
  {
   "cell_type": "code",
   "execution_count": 2,
   "id": "d4216bfb-1ff9-4f8f-9c84-561eec6f89c7",
   "metadata": {},
   "outputs": [],
   "source": [
    "# common parameters and assumptions\n",
    "\n",
    "alpha = 0.05\n",
    "power = 0.80\n",
    "\n",
    "std = 10  # Standard deviation of time spent on the main web before clicking on search (assumption of 10 seconds)\n",
    "mde_t = 2  # Minimum detectable effect for the t-test (2 seconds reduction in the the time spent of the main web before clicking on search)\n",
    "\n",
    "p1 = 0.30  # Current bounce rate percentage (assumption of 30%)\n",
    "mde_cs = 0.05  # Minimum detectable effect for the Chi Square test (5% percentage reduction in bounce rate)"
   ]
  },
  {
   "cell_type": "code",
   "execution_count": 3,
   "id": "7ed35027-f6e9-47c0-ad15-ee4c32fa4dd6",
   "metadata": {},
   "outputs": [
    {
     "data": {
      "text/plain": [
       "393.4056989990351"
      ]
     },
     "execution_count": 3,
     "metadata": {},
     "output_type": "execute_result"
    }
   ],
   "source": [
    "# Determining miminimum sample size for the t-test\n",
    "\n",
    "effect_size = mde_t / std\n",
    "\n",
    "power_analysis = TTestIndPower()\n",
    "sample_size = power_analysis.solve_power(effect_size, power=power, alpha=alpha)\n",
    "\n",
    "sample_size # minimum sample size necessary to detect a reduction of 2 seconds in the time that the new users spend on the web before clicking\n"
   ]
  },
  {
   "cell_type": "code",
   "execution_count": 4,
   "id": "36f582c5-2ffd-43fc-ae1f-fb8d97b7fb79",
   "metadata": {},
   "outputs": [
    {
     "data": {
      "text/plain": [
       "1375.6164890630425"
      ]
     },
     "execution_count": 4,
     "metadata": {},
     "output_type": "execute_result"
    }
   ],
   "source": [
    "# Determining miminimum sample size for the Chi Square test\n",
    "\n",
    "p2 = p1 + mde_cs\n",
    "\n",
    "effect_size = proportion_effectsize(p1, p2) # to calculate the effect size, we use Cohen's w, which focuses on the difference in proportions between groups and the pooled proportion, rather than standard deviation (as above).\n",
    "\n",
    "power_analysis = NormalIndPower()\n",
    "sample_size = power_analysis.solve_power(effect_size, power=power, alpha=alpha)\n",
    "\n",
    "sample_size  # minimum sample size necessary to detect a reduction of 5% in the bounce rate of the new users on the platform"
   ]
  },
  {
   "cell_type": "code",
   "execution_count": null,
   "id": "8d8b6925-f1c0-4fe0-b570-1e484b5465d8",
   "metadata": {},
   "outputs": [],
   "source": []
  },
  {
   "cell_type": "code",
   "execution_count": null,
   "id": "fc7cdbcc-2794-4ffa-99c7-102711e32d07",
   "metadata": {},
   "outputs": [],
   "source": []
  },
  {
   "cell_type": "code",
   "execution_count": null,
   "id": "ee504355-15ab-431b-87ea-b71eb5012664",
   "metadata": {},
   "outputs": [],
   "source": []
  },
  {
   "cell_type": "code",
   "execution_count": null,
   "id": "3eed4a47-337b-49fd-8e5a-981e7c8783db",
   "metadata": {},
   "outputs": [],
   "source": []
  },
  {
   "cell_type": "code",
   "execution_count": null,
   "id": "97e4d52c-af7a-48e8-91f9-64cbafd51547",
   "metadata": {},
   "outputs": [],
   "source": []
  }
 ],
 "metadata": {
  "kernelspec": {
   "display_name": "Py310",
   "language": "python",
   "name": "py310"
  },
  "language_info": {
   "codemirror_mode": {
    "name": "ipython",
    "version": 3
   },
   "file_extension": ".py",
   "mimetype": "text/x-python",
   "name": "python",
   "nbconvert_exporter": "python",
   "pygments_lexer": "ipython3",
   "version": "3.10.11"
  }
 },
 "nbformat": 4,
 "nbformat_minor": 5
}
