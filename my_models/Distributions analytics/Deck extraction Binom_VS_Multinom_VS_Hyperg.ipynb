{
 "cells": [
  {
   "cell_type": "code",
   "execution_count": 1,
   "id": "dfad8a89-e782-4936-9bad-8ba707fbed09",
   "metadata": {},
   "outputs": [],
   "source": [
    "# Let’s create simple examples for each distribution type, revolving around a deck of cards.\n",
    "\n",
    "import scipy.stats as stats"
   ]
  },
  {
   "cell_type": "code",
   "execution_count": 2,
   "id": "4997071a-d67a-4aa3-83c4-a595e8a8234a",
   "metadata": {},
   "outputs": [
    {
     "name": "stdout",
     "output_type": "stream",
     "text": [
      "Probability of drawing exactly 3 hearts with reshuffle: 0.08789062499999994\n"
     ]
    }
   ],
   "source": [
    "# Binomial Distribution\n",
    "# Scenario: You draw 5 cards with replacement (re-shuffling) and want to know the probability of drawing exactly 3 hearts.\n",
    "\n",
    "# Binomial: n = 5 trials, p(success) = 1/4 (since 1/4 of the deck are hearts)\n",
    "n, p = 5, 1/4\n",
    "k = 3  # number of successes (hearts)\n",
    "\n",
    "probability = stats.binom.pmf(k, n, p)\n",
    "print(f\"Probability of drawing exactly 3 hearts with reshuffle: {probability}\")"
   ]
  },
  {
   "cell_type": "code",
   "execution_count": 3,
   "id": "4c71337d-f193-40d9-b677-0c8b31b18dea",
   "metadata": {},
   "outputs": [
    {
     "name": "stdout",
     "output_type": "stream",
     "text": [
      "Probability of drawing exactly 2 Aces, 2 Black cards, and 1 Heart with reshufle: 0.01877560309512974\n"
     ]
    }
   ],
   "source": [
    "# Multinomial Distribution\n",
    "# Scenario: You want to find the probability of drawing 2 Aces, 2 Black cards (including Aces), and 1 Heart in 5 draws with replacement (re-shuffling)\n",
    "\n",
    "# Probabilities setup for each outcome\n",
    "p_ace = 1/13\n",
    "p_black = 1/2\n",
    "p_heart = 1/4\n",
    "\n",
    "# Multinomial distribution for card draws\n",
    "draws = [2, 2, 1]  # 2 Aces, 2 Black Cards, 1 Heart\n",
    "probabilities = [p_ace, p_black, p_heart]\n",
    "\n",
    "# Calculate the probability\n",
    "probability = stats.multinomial.pmf(draws, n=5, p=probabilities)\n",
    "print(f\"Probability of drawing exactly 2 Aces, 2 Black cards, and 1 Heart with reshufle: {probability}\")"
   ]
  },
  {
   "cell_type": "code",
   "execution_count": 4,
   "id": "13c12f38-6546-4a24-84a3-a87b42064c5c",
   "metadata": {},
   "outputs": [
    {
     "name": "stdout",
     "output_type": "stream",
     "text": [
      "Probability of drawing exactly 3 hearts without reshuffle: 0.08154261704681873\n"
     ]
    }
   ],
   "source": [
    "# Hypergeometric Distribution for binary case\n",
    "# Scenario: You draw 5 cards without replacement (without re-shuffling) and want to know the probability of drawing exactly 3 hearts.\n",
    "\n",
    "# Hypergeometric: N = 52 (total cards), K = 13 (total hearts), n = 5 (drawn cards), k = 3 (desired hearts)\n",
    "N, K, n, k = 52, 13, 5, 3\n",
    "\n",
    "probability = stats.hypergeom.pmf(k, N, K, n)\n",
    "print(f\"Probability of drawing exactly 3 hearts without reshuffle: {probability}\")\n"
   ]
  },
  {
   "cell_type": "code",
   "execution_count": 5,
   "id": "9b956ac2-e23b-412b-a05c-b6aa55471cec",
   "metadata": {},
   "outputs": [
    {
     "name": "stdout",
     "output_type": "stream",
     "text": [
      "Probability of drawing exactly 2 Aces, 2 Black cards, and 1 Heart without reshuffle: 0.0053412067446561885\n"
     ]
    }
   ],
   "source": [
    "# Hypergeometric Distribution repeated more times for multinomial case\n",
    "# Total number of cards and combinations for each category\n",
    "N = 52\n",
    "K1 = 4  # Aces\n",
    "K2 = 26  # Black Cards\n",
    "K3 = 13  # Hearts\n",
    "n = 5  # Total drawn\n",
    "k1, k2, k3 = 2, 2, 1  # Desired outcomes\n",
    "\n",
    "# Calculate the probability for each category\n",
    "prob_aces = stats.hypergeom.pmf(k1, N, K1, n)\n",
    "prob_black = stats.hypergeom.pmf(k2, N, K2, n)\n",
    "prob_hearts = stats.hypergeom.pmf(k3, N, K3, n)\n",
    "\n",
    "# Combine the probabilities (since each event is independent)\n",
    "probability = prob_aces * prob_black * prob_hearts\n",
    "print(f\"Probability of drawing exactly 2 Aces, 2 Black cards, and 1 Heart without reshuffle: {probability}\")\n"
   ]
  },
  {
   "cell_type": "code",
   "execution_count": null,
   "id": "664d2ce0-7356-434c-88f3-5ca35b44a92b",
   "metadata": {},
   "outputs": [],
   "source": []
  },
  {
   "cell_type": "code",
   "execution_count": null,
   "id": "56c34ea9-a161-4466-a3b7-e7d6b0eea109",
   "metadata": {},
   "outputs": [],
   "source": []
  },
  {
   "cell_type": "code",
   "execution_count": null,
   "id": "68051ec8-115e-42bb-bb9e-47e2cdff7c07",
   "metadata": {},
   "outputs": [],
   "source": []
  }
 ],
 "metadata": {
  "kernelspec": {
   "display_name": "Py310",
   "language": "python",
   "name": "py310"
  },
  "language_info": {
   "codemirror_mode": {
    "name": "ipython",
    "version": 3
   },
   "file_extension": ".py",
   "mimetype": "text/x-python",
   "name": "python",
   "nbconvert_exporter": "python",
   "pygments_lexer": "ipython3",
   "version": "3.10.11"
  }
 },
 "nbformat": 4,
 "nbformat_minor": 5
}
