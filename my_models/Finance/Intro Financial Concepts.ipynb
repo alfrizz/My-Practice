{
 "cells": [
  {
   "cell_type": "code",
   "execution_count": 1,
   "id": "b30dffbc-f491-4bf8-886b-d537dc6001ea",
   "metadata": {},
   "outputs": [],
   "source": [
    "import pandas as pd\n",
    "import numpy as np\n",
    "import numpy_financial as npf\n",
    "import matplotlib.pyplot as plt"
   ]
  },
  {
   "cell_type": "markdown",
   "id": "8bfbe5f6-4a07-49b2-a4e5-f151b9b56880",
   "metadata": {},
   "source": [
    "Growth and rate of return\n",
    "\n",
    "Growth and Rate of Return are two concepts that are ubiquitous throughout the financial world. Recall that the cumulative returns from investing $100 in an asset that grows at 5% per year, over a 2 year period can be calculated as:\n",
    "\n",
    "100 * (1+0.05)^2"
   ]
  },
  {
   "cell_type": "code",
   "execution_count": 2,
   "id": "cd85e633-d2f1-4aa7-bd17-e2603d4afd79",
   "metadata": {},
   "outputs": [
    {
     "name": "stdout",
     "output_type": "stream",
     "text": [
      "Future Value of Investment: 574.35\n"
     ]
    }
   ],
   "source": [
    "# Calculate the future value (cumulative return) of a $100 investment which grows at a rate of 6% per year for 30 years in a row and assign it to future_value.\n",
    "future_value = 100 * (1+0.06)**30\n",
    "print(\"Future Value of Investment: \" + str(round(future_value, 2)))"
   ]
  },
  {
   "cell_type": "markdown",
   "id": "b0eb9603-bad4-47c4-b3c3-0e449c151730",
   "metadata": {},
   "source": [
    "Compound interest\n",
    "\n",
    "As you saw in the previous exercise, both time and the rate of return are very important variables when forecasting the future value of an investment.\n",
    "\n",
    "Another important variable is the number of compounding periods, which can greatly affect compounded returns over time.\n",
    "\n",
    "𝐴=𝑃*(1+𝑟/𝑛)^𝑛𝑡\n",
    "\n",
    "A: The future value of the investment/loan, including interest.\n",
    "\n",
    "P: The principal investment amount (initial deposit or loan amount).\n",
    "\n",
    "r: The annual interest rate (decimal).\n",
    "\n",
    "n: The number of times interest is compounded per year.\n",
    "\n",
    "t: The number of years the money is invested or borrowed for."
   ]
  },
  {
   "cell_type": "code",
   "execution_count": 3,
   "id": "11e2b25a-df62-428a-b349-de4b0b6d0580",
   "metadata": {},
   "outputs": [
    {
     "name": "stdout",
     "output_type": "stream",
     "text": [
      "Investment 1: 574.35\n",
      "Investment 2: 596.93\n",
      "Investment 3: 602.26\n"
     ]
    }
   ],
   "source": [
    "# Calculate the value of a $100 investment which grows at a rate of 6% per year for 30 years in a row\n",
    "# Predefined variables\n",
    "initial_investment = 100\n",
    "growth_periods = 30\n",
    "growth_rate = 0.06\n",
    "\n",
    "# Calculate the value for the investment compounded once per year\n",
    "compound_periods_1 = 1\n",
    "investment_1 = initial_investment*(1 + growth_rate / compound_periods_1)**(compound_periods_1*growth_periods)\n",
    "print(\"Investment 1: \" + str(round(investment_1, 2)))\n",
    "\n",
    "# Calculate the value for the investment compounded quarterly\n",
    "compound_periods_2 = 4\n",
    "investment_2 = initial_investment*(1 + growth_rate / compound_periods_2)**(compound_periods_2*growth_periods)\n",
    "print(\"Investment 2: \" + str(round(investment_2, 2)))\n",
    "\n",
    "# Calculate the value for the investment compounded monthly\n",
    "compound_periods_3 = 12\n",
    "investment_3 = initial_investment*(1 + growth_rate / compound_periods_3)**(compound_periods_3*growth_periods)\n",
    "print(\"Investment 3: \" + str(round(investment_3, 2)))"
   ]
  },
  {
   "cell_type": "markdown",
   "id": "a3ee7879-fa24-43d1-90cb-6b3be3ea46a2",
   "metadata": {},
   "source": [
    "Discount factors and depreciation\n",
    "\n",
    "Unfortunately, not everything grows in value over time.\n",
    "\n",
    "In fact, many assets depreciate, or lose value over time. To simulate this, you can simply assume a negative expected rate of return.\n",
    "\n",
    "Example:\n",
    "\n",
    "Calculate the final depreciated value of an initially $10,000 car which declines in value by 3% per year for 10 years:\n",
    "\n",
    "10000*(1-0.03)^10"
   ]
  },
  {
   "cell_type": "code",
   "execution_count": 4,
   "id": "0871c147-542d-4792-b6f4-1d8e5f88c46d",
   "metadata": {},
   "outputs": [
    {
     "name": "stdout",
     "output_type": "stream",
     "text": [
      "Future value: 59.87\n",
      "Discount factor: 1.67\n",
      "Initial value: 100.0\n"
     ]
    }
   ],
   "source": [
    "# Calculate the future value of a $100 investment that depreciates in value by 5% per year for 10 years and assign it to future_value.\n",
    "\n",
    "# Calculate the future value\n",
    "initial_investment = 100\n",
    "growth_rate = -0.05\n",
    "growth_periods = 10\n",
    "future_value = initial_investment*(1 + growth_rate)**(growth_periods)\n",
    "print(\"Future value: \" + str(round(future_value, 2)))\n",
    "\n",
    "# Calculate the discount factor\n",
    "discount_factor = 1/((1 + growth_rate)**(growth_periods))\n",
    "print(\"Discount factor: \" + str(round(discount_factor, 2)))\n",
    "\n",
    "# Derive the initial value of the investment\n",
    "initial_investment_again = future_value*discount_factor\n",
    "print(\"Initial value: \" + str(round(initial_investment_again, 2)))"
   ]
  },
  {
   "cell_type": "markdown",
   "id": "c69639f2-73e9-4d25-af29-bbc4726c26ed",
   "metadata": {},
   "source": [
    "Present value (amount to invest today to reach a future sum of e.g. $10,000 in 15 years with an interest rate of 3%.)\n",
    "\n",
    "Luckily for you, there is a module called numpy which contains many functions which will make your life much easier when working with financial values.\n",
    "\n",
    "The .pv(rate, nper, pmt, fv) function, for example, allows you to calculate the present value of an investment as before with a few simple parameters:\n",
    "\n",
    "rate: The rate of return of the investment\n",
    "\n",
    "nper: The lifespan of the investment\n",
    "\n",
    "pmt: The (fixed) payment at the beginning or end of each period (which is 0 in our example)\n",
    "\n",
    "fv: The future value of the investment\n",
    "\n",
    "You can use this formula in many ways. For example, you can calculate the present value of future investments in today's dollars."
   ]
  },
  {
   "cell_type": "code",
   "execution_count": 5,
   "id": "e0e0ad11-82e1-4697-a0b8-72c24a32628d",
   "metadata": {},
   "outputs": [
    {
     "name": "stdout",
     "output_type": "stream",
     "text": [
      "Investment 1 is worth 6418.62 in today's dollars\n",
      "Investment 2 is worth 6139.13 in today's dollars\n"
     ]
    }
   ],
   "source": [
    "# Calculate investment_1\n",
    "# compute the present value of an investment which will yield $10,000 15 years from now at an inflation rate of 3% per year and assign it to investment_1.\n",
    "investment_1 = npf.pv(rate=0.03, nper=15, pmt=0, fv=10000)\n",
    "\n",
    "# Note that the present value returned is negative, so we multiply the result by -1\n",
    "print(\"Investment 1 is worth \" + str(round(-investment_1, 2)) + \" in today's dollars\")\n",
    "\n",
    "# Calculate investment_2\n",
    "# Compute the present value of the same investment, but with a time horizon of only 10 years and an inflation rate of 5%, assigning it to investment_2.\n",
    "investment_2 = npf.pv(rate=0.05, nper=10, pmt=0, fv=10000)\n",
    "print(\"Investment 2 is worth \" + str(round(-investment_2, 2)) + \" in today's dollars\")"
   ]
  },
  {
   "cell_type": "markdown",
   "id": "e4de4103-87b9-486a-ab8a-ef82b22db294",
   "metadata": {},
   "source": [
    "Future value\n",
    "\n",
    "The numpy module also contains a similar function, .fv(rate, nper, pmt, pv), which allows you to calculate the future value of an investment as before with a few simple parameters:\n",
    "\n",
    "rate: The rate of return of the investment\n",
    "\n",
    "nper: The lifespan of the investment\n",
    "\n",
    "pmt: The (fixed) payment at the beginning or end of each period (which is 0 in our example)\n",
    "\n",
    "pv: The present value of the investment\n",
    "\n",
    "It is important to note that in this function call, you must pass a negative value into the pv parameter if it represents a negative cash flow (cash going out). In other words, if you were to compute the future value of an investment, requiring an up-front cash payment, you would need to pass a negative value to the pv parameter in the .fv() function."
   ]
  },
  {
   "cell_type": "code",
   "execution_count": 6,
   "id": "2214b494-bb14-41a2-aa8d-6de87851d8b3",
   "metadata": {},
   "outputs": [
    {
     "name": "stdout",
     "output_type": "stream",
     "text": [
      "Investment 1 will yield a total of $20789.28 in 15 years\n",
      "Investment 2 will yield a total of $31721.69 in 15 years\n"
     ]
    }
   ],
   "source": [
    "# Calculate investment_1\n",
    "investment_1 = npf.fv(rate=0.05, nper=15, pmt=0, pv=-10000)\n",
    "print(\"Investment 1 will yield a total of $\" + str(round(investment_1, 2)) + \" in 15 years\")\n",
    "\n",
    "# Calculate investment_2\n",
    "investment_2 = npf.fv(rate=0.08, nper=15, pmt=0, pv=-10000)\n",
    "print(\"Investment 2 will yield a total of $\" + str(round(investment_2, 2)) + \" in 15 years\")"
   ]
  },
  {
   "cell_type": "markdown",
   "id": "0c846318-683d-448d-ae40-8cdb868b0b62",
   "metadata": {},
   "source": [
    "Adjusting future values for inflation\n",
    "                       \n",
    "You can now put together what you learned in the previous exercises by following a simple methodology:\n",
    "\n",
    "First, forecast the future value of an investment given a rate of return\n",
    "\n",
    "Second, discount the future value of the investment by a projected inflation rate\n",
    "\n",
    "The methodology above will use both the .fv() and .pv() functions to arrive at the projected value of a given investment in today's dollars, adjusted for inflation."
   ]
  },
  {
   "cell_type": "code",
   "execution_count": 7,
   "id": "c9012131-b7e6-443e-976c-99f9517ac739",
   "metadata": {},
   "outputs": [
    {
     "name": "stdout",
     "output_type": "stream",
     "text": [
      "Investment 1 will yield a total of $21589.25 in 10 years\n",
      "After adjusting for inflation, investment 1 is worth $16064.43 in today's dollars\n"
     ]
    }
   ],
   "source": [
    "# Calculate investment_1\n",
    "investment_1 = npf.fv(rate=0.08, nper=10, pmt=0, pv=-10000)\n",
    "print(\"Investment 1 will yield a total of $\" + str(round(investment_1, 2)) + \" in 10 years\")\n",
    "\n",
    "# Calculate investment_2\n",
    "investment_1_discounted = npf.pv(rate=0.03, nper=10, pmt=0, fv=investment_1)\n",
    "print(\"After adjusting for inflation, investment 1 is worth $\" + str(round(-investment_1_discounted, 2)) + \" in today's dollars\")"
   ]
  },
  {
   "cell_type": "markdown",
   "id": "f6aac6ca-1c52-4372-a7ed-3f3735ecd56d",
   "metadata": {},
   "source": [
    "Discounting cash flows\n",
    "\n",
    "You can use numpy's net present value function numpy.npv(rate, values) to calculate the net present value of a series of cash flows. You can create these cash flows by using a numpy.array([...]) of values.\n",
    "\n",
    "Compute the NPV of the same cash flows from the following project, but assuming different discount rates:"
   ]
  },
  {
   "cell_type": "code",
   "execution_count": 8,
   "id": "f8cfab7c-7937-40a8-9d4c-c17b34523fa6",
   "metadata": {},
   "outputs": [
    {
     "name": "stdout",
     "output_type": "stream",
     "text": [
      "Investment 1's net present value is $471.71 in today's dollars\n",
      "Investment 2's net present value is $454.6 in today's dollars\n",
      "Investment 3's net present value is $438.72 in today's dollars\n"
     ]
    }
   ],
   "source": [
    "# Predefined array of cash flows\n",
    "cash_flows = np.array([100, 100, 100, 100, 100])\n",
    "\n",
    "# Calculate investment_1\n",
    "investment_1 = npf.npv(rate=0.03, values=cash_flows)\n",
    "print(\"Investment 1's net present value is $\" + str(round(investment_1, 2)) + \" in today's dollars\")\n",
    "\n",
    "# Calculate investment_2\n",
    "investment_2 = npf.npv(rate=0.05, values=cash_flows)\n",
    "print(\"Investment 2's net present value is $\" + str(round(investment_2, 2)) + \" in today's dollars\")\n",
    "\n",
    "# Calculate investment_3\n",
    "investment_3 = npf.npv(rate=0.07, values=cash_flows)\n",
    "print(\"Investment 3's net present value is $\" + str(round(investment_3, 2)) + \" in today's dollars\")"
   ]
  },
  {
   "cell_type": "markdown",
   "id": "5cae2d86-77d0-492f-a2c3-8a609e8339bc",
   "metadata": {},
   "source": [
    "Initial project costs\n",
    "\n",
    "The numpy.npv(rate, values) function is very powerful because it allows you to pass in both positive and negative values.\n",
    "\n",
    "For this exercise, you will calculate the net present value of two potential projects with different cash flows:\n",
    "\n",
    "Year\tProject 1\tProject 2\n",
    "    \n",
    "1\t-250 (initial investment)\t-250 (initial investment)\n",
    "    \n",
    "2\t100 cash flow\t300 cash flow\n",
    "    \n",
    "3\t200 cash flow\t-250 (net investment)\n",
    "    \n",
    "4\t300 cash flow\t300 cash flow\n",
    "    \n",
    "5\t400 cash flow\t300 cash flow\n",
    "    \n",
    "In this example, project 1 only requires an initial investment of 250, generating a slowly increasing series of cash flows over the next 4 years.\n",
    "\n",
    "Project 2, on the other hand, requires an initial investment of 250 and an additional investment of 250 in year 3. However, project 2 continues to generate larger cash flows.\n",
    "\n",
    "Assuming both projects don't generate any more cash flows after the fifth year, which project would you decide to undertake? The best way to decide is by comparing the NPV of both projects."
   ]
  },
  {
   "cell_type": "code",
   "execution_count": 9,
   "id": "807d8e08-258d-4cca-be2b-b4b4758b1d49",
   "metadata": {},
   "outputs": [
    {
     "name": "stdout",
     "output_type": "stream",
     "text": [
      "The net present value of Investment 1 is worth $665.54 in today's dollars\n",
      "The net present value of Investment 2 is worth $346.7 in today's dollars\n"
     ]
    }
   ],
   "source": [
    "# Create an array of cash flows for project 1\n",
    "cash_flows_1 = np.array([-250,100,200,300,400])\n",
    "\n",
    "# Create an array of cash flows for project 2\n",
    "cash_flows_2 = np.array([-250,300,-250,300,300])\n",
    "\n",
    "# Calculate the net present value of project 1\n",
    "investment_1 = npf.npv(rate=0.03, values=cash_flows_1)\n",
    "print(\"The net present value of Investment 1 is worth $\" + str(round(investment_1, 2)) + \" in today's dollars\")\n",
    "\n",
    "# Calculate the net present value of project 2\n",
    "investment_2 = npf.npv(rate=0.03, values=cash_flows_2)\n",
    "print(\"The net present value of Investment 2 is worth $\" + str(round(investment_2, 2)) + \" in today's dollars\")"
   ]
  },
  {
   "cell_type": "markdown",
   "id": "2fa5453a-5c48-4be9-8977-6ee5cca99922",
   "metadata": {},
   "source": [
    "Diminishing cash flows\n",
    "\n",
    "Remember how compounded returns grow rapidly over time? Well, it works in the reverse, too. Compounded discount factors over time will quickly shrink a number towards zero.\n",
    "\n",
    "For example, 100 at a 3% annual discount for 1 year is still worth roughly 97.08:\n",
    "\n",
    "But this number shrinks quite rapidly as the number of discounting periods increases:\n",
    "\n",
    "This means that the longer in the future your cash flows will be received (or paid), the close to 0 that number will be."
   ]
  },
  {
   "cell_type": "code",
   "execution_count": 10,
   "id": "0509f0ca-ab9c-4139-a04d-6ece44378b7b",
   "metadata": {},
   "outputs": [
    {
     "name": "stdout",
     "output_type": "stream",
     "text": [
      "Investment 1 is worth $41.2 in today's dollars\n",
      "Investment 2 is worth $22.81 in today's dollars\n",
      "Investment 3 is worth $5.2 in today's dollars\n"
     ]
    }
   ],
   "source": [
    "# Calculate the present value of a single $100 payment received 30 years from now with an annual inflation rate of 3%, and assign it to investment_1.\n",
    "# Calculate the present value of the same payment, but if it was received 50 and 100 years from now, and assign it to investment_2 and investment_3 respectively.\n",
    "\n",
    "# Calculate investment_1\n",
    "investment_1 = npf.pv(rate=0.03, nper=30, pmt=0, fv=100)\n",
    "print(\"Investment 1 is worth $\" + str(round(-investment_1, 2)) + \" in today's dollars\")\n",
    "\n",
    "# Calculate investment_2\n",
    "investment_2 = npf.pv(rate=0.03, nper=50, pmt=0, fv=100)\n",
    "print(\"Investment 2 is worth $\" + str(round(-investment_2, 2)) + \" in today's dollars\")\n",
    "\n",
    "# Calculate investment_3\n",
    "investment_3 = npf.pv(rate=0.03, nper=100, pmt=0, fv=100)\n",
    "print(\"Investment 3 is worth $\" + str(round(-investment_3, 2)) + \" in today's dollars\")"
   ]
  },
  {
   "cell_type": "markdown",
   "id": "1c40a6fb-4973-4461-86de-8db56745cb6a",
   "metadata": {},
   "source": [
    "Project proposals and cash flows projections\n",
    "\n",
    "Your project managers have projected the cash flows for each of the proposals.\n",
    "\n",
    "Project 1 provides higher short term cash flows, but Project 2 becomes more profitable over time.\n",
    "\n",
    "The cash flow projections for both projects are as follows:\n",
    "\n",
    "Year\tProject 1\tProject 2\n",
    "\n",
    "1\t-1,000 (initial investment)\t-1,000 (initial investment)\n",
    "\n",
    "2\t200 (cash flow)\t150 (cash flow)\n",
    "\n",
    "3\t250\t225\n",
    "\n",
    "4\t300\t300\n",
    "\n",
    "5\t350\t375\n",
    "\n",
    "6\t400\t425\n",
    "\n",
    "7\t450\t500\n",
    "\n",
    "8\t500\t575\n",
    "\n",
    "9\t550\t600\n",
    "\n",
    "10\t600\t625\n",
    "\n",
    "Note: The projections are provided in thousands. For example, 1,000 = 1,000,000. We will use the smaller denominations to make everything easier to read. This is also commonly done in financial statements with thousands or even millions in order to represent millions or billions."
   ]
  },
  {
   "cell_type": "code",
   "execution_count": 11,
   "id": "63f06b95-d274-4e2f-b6ef-8c91b2d26b8a",
   "metadata": {},
   "outputs": [],
   "source": [
    "# Create a numpy array of cash flows for Project 1\n",
    "cf_project_1 = np.array([-1000,200,250,300,350,400,450,500,550,600])\n",
    "\n",
    "# Create a numpy array of cash flows for Project 2\n",
    "cf_project_2 = np.array([-1000,150,225,300,375,425,500,575,600,625])\n",
    "\n",
    "# Scale the original objects by 1000x\n",
    "cf_project1 = cf_project_1 * 1000\n",
    "cf_project2 = cf_project_2 * 1000"
   ]
  },
  {
   "cell_type": "markdown",
   "id": "a4991fdd-3ad5-4cd6-ae0c-84740c3ac293",
   "metadata": {},
   "source": [
    "Internal Rate of Return\n",
    "\n",
    "Now that you have the cash flow projections ready to go for each project, you want to compare the internal rate of return (IRR) of each project to help you decide which project would be most beneficial for your company in terms of yield (rate of return). In this exercise, you will calculate the internal rate of return for each project using np.irr(values)."
   ]
  },
  {
   "cell_type": "code",
   "execution_count": 12,
   "id": "07679a95-17ed-4b71-adb6-2d41623b51b9",
   "metadata": {},
   "outputs": [
    {
     "name": "stdout",
     "output_type": "stream",
     "text": [
      "Project 1 IRR: 28.92%\n",
      "Project 2 IRR: 28.78%\n"
     ]
    }
   ],
   "source": [
    "# Calculate the internal rate of return for Project 1\n",
    "irr_project1 = npf.irr(cf_project1)\n",
    "print(\"Project 1 IRR: \" + str(round(100*irr_project1, 2)) + \"%\")\n",
    "\n",
    "# Calculate the internal rate of return for Project 2\n",
    "irr_project2 = npf.irr(cf_project2)\n",
    "print(\"Project 2 IRR: \" + str(round(100*irr_project2, 2)) + \"%\")"
   ]
  },
  {
   "cell_type": "markdown",
   "id": "acbf28e5-0895-4251-846b-2d962b8cb0ef",
   "metadata": {},
   "source": [
    "Debt and equity financing\n",
    "\n",
    "In the previous chapter, you were able to assume that your discount rate for the NPV calculation was solely based on a measure such as inflation.\n",
    "\n",
    "However, in this chapter, you are the CEO of a new company that has outstanding debt and financing costs, which you will have to adjust for.\n",
    "\n",
    "You will use the WACC as your discount rate in upcoming exercises.\n",
    "\n",
    "For this exercise, assume you take out a 1,000,000 loan to finance the project, which will be your company's only outstanding debt. This loan will represent 50% of your company's total financing of 2,000,000. The remaining funding comes from the market value of equity."
   ]
  },
  {
   "cell_type": "code",
   "execution_count": 13,
   "id": "3dc8874a-60d3-4607-a97a-b71508f3d2e6",
   "metadata": {},
   "outputs": [
    {
     "name": "stdout",
     "output_type": "stream",
     "text": [
      "Debt Financing: 50.0%\n",
      "Equity Financing: 50.0%\n"
     ]
    }
   ],
   "source": [
    "# Set the market value of debt\n",
    "mval_debt = 1000000\n",
    "\n",
    "# Set the market value of equity\n",
    "mval_equity = 1000000\n",
    "\n",
    "# Compute the total market value of your company's financing\n",
    "mval_total = mval_debt + mval_equity\n",
    "\n",
    "# Compute the proportion of your company's financing via debt\n",
    "percent_debt = 0.5\n",
    "print(\"Debt Financing: \" + str(round(100*percent_debt, 2)) + \"%\")\n",
    "\n",
    "# Compute the proportion of your company's financing via equity\n",
    "percent_equity = 0.5\n",
    "print(\"Equity Financing: \" + str(round(100*percent_equity, 2)) + \"%\")"
   ]
  },
  {
   "cell_type": "markdown",
   "id": "b75b2a60-c52e-45d1-9f17-995a3b3bafe6",
   "metadata": {},
   "source": [
    "Calculating WACC\n",
    "\n",
    "In addition to determining the proportion of both equity and debt financing, you will need to estimate the cost of financing via both debt and equity in order to estimate your WACC.\n",
    "\n",
    "The cost of debt financing can be estimated as the amount you will have to pay on a new loan. This can be estimated by looking at the interest rates of loans of similar sizes to similar companies, or could be based on previous loans your company may already have been issued.\n",
    "\n",
    "The cost of equity financing can be estimated as the return on equity of similar companies. Calculating the return on equity is a simple accounting exercise, but all you need to know is that essentially, investors will require a rate of return that is close to what could be earned by a similar investment."
   ]
  },
  {
   "cell_type": "code",
   "execution_count": 14,
   "id": "6383d510-876b-41a6-afd7-ba4b9aa7d7de",
   "metadata": {},
   "outputs": [
    {
     "name": "stdout",
     "output_type": "stream",
     "text": [
      "WACC: 12.9%\n"
     ]
    }
   ],
   "source": [
    "# The proportion of debt vs equity financing is predefined\n",
    "percent_debt = 0.50\n",
    "percent_equity = 0.50\n",
    "\n",
    "# Set the cost of equity\n",
    "cost_equity = 0.18\n",
    "\n",
    "# Set the cost of debt\n",
    "cost_debt = 0.12\n",
    "\n",
    "# Set the corporate tax rate\n",
    "tax_rate = 0.35\n",
    "\n",
    "# Calculate the WACC\n",
    "wacc = (percent_equity*cost_equity) + (percent_debt*cost_debt)*(1-tax_rate)\n",
    "print(\"WACC: \" + str(round(100*wacc, 2)) + \"%\")"
   ]
  },
  {
   "cell_type": "markdown",
   "id": "863d001d-3a6d-49d4-88f6-863da44fe5c8",
   "metadata": {},
   "source": [
    "Comparing project NPV with IRR\n",
    "\n",
    "Companies use their WACC as the discount rate when calculating the net present value of potential projects.\n",
    "\n",
    "In the same way that you discounted values by inflation in the previous chapter to account for costs over time, companies adjust the cash flows of potential projects by their cost of financing (the WACC) to account for their investor's required rate of return based on market conditions.\n",
    "\n",
    "Now that you calculated the WACC, you can determine the net present value (NPV) of each project's cash flows. "
   ]
  },
  {
   "cell_type": "code",
   "execution_count": 15,
   "id": "10dc219c-0969-4552-88ac-c99dfdd51795",
   "metadata": {},
   "outputs": [
    {
     "name": "stdout",
     "output_type": "stream",
     "text": [
      "Project 1 NPV: 856073.18\n",
      "Project 2 NPV: 904741.35\n"
     ]
    }
   ],
   "source": [
    "# Calculate the net present value for Project 1\n",
    "npv_project1 = npf.npv(wacc, cf_project1)\n",
    "print(\"Project 1 NPV: \" + str(round(npv_project1, 2)))\n",
    "\n",
    "# Calculate the net present value for Project 2\n",
    "npv_project2 = npf.npv(wacc, cf_project2)\n",
    "print(\"Project 2 NPV: \" + str(round(npv_project2, 2)))"
   ]
  },
  {
   "cell_type": "markdown",
   "id": "51a2aa5e-a11c-460d-9f97-cb4e075ff769",
   "metadata": {},
   "source": [
    "Two project with different lifespans\n",
    "\n",
    "The board of the company has decided to go a different direction, involving slightly shorter term projects and lower initial investments.\n",
    "\n",
    "Your project managers have come up with two new ideas, and projected the cash flows for each of the proposals.\n",
    "\n",
    "Project 1 has a lifespan of 8 years, but Project 2 only has a lifespan of 7 years. Project 1 requires an initial investment of 700,000, but Project 2 only requires 400,000.\n",
    "\n",
    "The cash flow projections for both projects are as follows:\n",
    "\n",
    "Year\tProject 1\tProject 2\n",
    "\n",
    "1\t-700 (initial investment)\t-400 (initial investment)\n",
    "\n",
    "2\t100 (cash flow)\t50 (cash flow)\n",
    "\n",
    "3\t150\t100\n",
    "\n",
    "4\t200\t150\n",
    "\n",
    "5\t250\t200\n",
    "\n",
    "6\t300\t250\n",
    "\n",
    "7\t350\t300\n",
    "\n",
    "8\t400\tN / A"
   ]
  },
  {
   "cell_type": "code",
   "execution_count": 16,
   "id": "407cc7ba-bd38-44b0-91f7-139f0f25b287",
   "metadata": {},
   "outputs": [],
   "source": [
    "# Create a numpy array of cash flows for Project 1\n",
    "cf_project_1 = np.array([-700,100,150,200,250,300,350,400])\n",
    "\n",
    "# Create a numpy array of cash flows for Project 2\n",
    "cf_project_2 = np.array([-400,50,100,150,200,250,300])\n",
    "\n",
    "# Scale the original objects by 1000x\n",
    "cf_project1 = cf_project_1 * 1000\n",
    "cf_project2 = cf_project_2 * 1000"
   ]
  },
  {
   "cell_type": "markdown",
   "id": "5952fbee-5f75-4739-8661-d625f7b62ad8",
   "metadata": {},
   "source": [
    "Calculating IRR and NPV with different project lifespans\n",
    "\n",
    "Now that you calculated the WACC, you can calculate and compare the IRRs and NPVs of each project.\n",
    "\n",
    "While the IRR remains relatively comparable across projects, the NPV, on the other hand, will be much more difficult to compare given the additional year required for project 1.\n",
    "\n",
    "Luckily, in the next exercise, we will introduce another method to compare the NPVs of the projects, but we will first need to compute the NPVs as before."
   ]
  },
  {
   "cell_type": "code",
   "execution_count": 17,
   "id": "d04825ea-053c-427d-91f5-a69f13f285a0",
   "metadata": {},
   "outputs": [
    {
     "name": "stdout",
     "output_type": "stream",
     "text": [
      "Project 1 IRR: 22.94%\n",
      "Project 2 IRR: 26.89%\n",
      "Project 1 NPV: 302744.98\n",
      "Project 2 NPV: 231228.39\n"
     ]
    }
   ],
   "source": [
    "# Calculate the IRR for Project 1\n",
    "irr_project1 = npf.irr(cf_project1)\n",
    "print(\"Project 1 IRR: \" + str(round(100*irr_project1, 2)) + \"%\")\n",
    "\n",
    "# Calculate the IRR for Project 2\n",
    "irr_project2 = npf.irr(cf_project2)\n",
    "print(\"Project 2 IRR: \" + str(round(100*irr_project2, 2)) + \"%\")\n",
    "\n",
    "# Set the wacc equal to 12.9%\n",
    "wacc = 0.129\n",
    "\n",
    "# Calculate the NPV for Project 1\n",
    "npv_project1 = npf.npv(wacc, cf_project1)\n",
    "print(\"Project 1 NPV: \" + str(round(npv_project1, 2)))\n",
    "\n",
    "# Calculate the NPV for Project 2\n",
    "npv_project2 = npf.npv(wacc, cf_project2)\n",
    "print(\"Project 2 NPV: \" + str(round(npv_project2, 2)))"
   ]
  },
  {
   "cell_type": "markdown",
   "id": "bdd7cf56-2750-4613-9f57-9982496ee7a8",
   "metadata": {},
   "source": [
    "Using the equivalent annual annuity approach\n",
    "\n",
    "Since the net present values of each project are not directly comparable given the different lifespans of each project, you will have to consider a different approach.\n",
    "\n",
    "The equivalent annual annuity (EAA) approach allows us to compare two projects by essentially assuming that each project is an investment generating a flat interest rate each year (an annuity), and calculating the annual payment you would receive from each project, discounted to present value.\n",
    "\n",
    "You can compute the EAA of each project using the .pmt(rate, nper, pv, fv) function in numpy."
   ]
  },
  {
   "cell_type": "code",
   "execution_count": 18,
   "id": "d7cc57b0-48d5-4a01-8ccf-03735a62957c",
   "metadata": {},
   "outputs": [
    {
     "name": "stdout",
     "output_type": "stream",
     "text": [
      "Project 1 EAA: 62872.2\n",
      "Project 2 EAA: 52120.61\n"
     ]
    }
   ],
   "source": [
    "# Calculate the EAA for Project 1\n",
    "eaa_project1 = npf.pmt(rate=wacc, nper=8, pv=-1*npv_project1, fv=0)\n",
    "print(\"Project 1 EAA: \" + str(round(eaa_project1, 2)))\n",
    "\n",
    "# Calculate the EAA for Project 2\n",
    "eaa_project2 = npf.pmt(rate=wacc, nper=7, pv=-1*npv_project2, fv=0)\n",
    "print(\"Project 2 EAA: \" + str(round(eaa_project2, 2)))"
   ]
  },
  {
   "cell_type": "markdown",
   "id": "ef298e98-6980-4f11-a5f0-d07863f4ebb4",
   "metadata": {},
   "source": [
    "Taking out a mortgage loan\n",
    "\n",
    "You're expecting a child soon, and its time to start looking for a home.\n",
    "\n",
    "You're currently living out of an apartment in New York City, but your blossoming career as a Data Scientist has allowed you to save up a sizable sum and purchase a home in neighboring Hoboken, New Jersey.\n",
    "\n",
    "You have decided to purchase a beautiful brownstone home in the $800,000 range. While you do have a considerable amount of cash on hand, you don't have enough to purchase the entire home outright, which means you will have to take the remaining balance out as a mortgage loan. From the sound of it, you'll have to put about 20% down up-front to a mortgage loan of that size.\n",
    "\n",
    "This up-front payment is known as a down payment."
   ]
  },
  {
   "cell_type": "code",
   "execution_count": 19,
   "id": "ef1ec947-467f-4ba3-8b8c-59522e2ed43c",
   "metadata": {},
   "outputs": [
    {
     "name": "stdout",
     "output_type": "stream",
     "text": [
      "Initial Down Payment: 160000\n",
      "Mortgage Loan: 640000\n"
     ]
    }
   ],
   "source": [
    "# Set the value of the home you are looking to buy\n",
    "home_value = 800000\n",
    "\n",
    "# What percentage are you paying up-front?\n",
    "down_payment_percent = 0.2\n",
    "\n",
    "# Calculate the dollar value of the down payment\n",
    "down_payment = 160000\n",
    "print(\"Initial Down Payment: \" + str(down_payment))\n",
    "\n",
    "# Calculate the value of the mortgage loan required after the down payment\n",
    "mortgage_loan = 640000\n",
    "print(\"Mortgage Loan: \" + str(mortgage_loan))"
   ]
  },
  {
   "cell_type": "markdown",
   "id": "7f4a97dc-3770-4e91-8972-0c54722cbd1a",
   "metadata": {},
   "source": [
    "Calculating the monthly mortgage payment\n",
    "\n",
    "In order to make sure you can afford the home, you will have to calculate the monthly mortgage payment you will have to make on a loan that size.\n",
    "\n",
    "Now, since you will be paying a monthly mortgage, you will have to convert each of the parameters into their monthly equivalents. Be careful when adjusting the interest rate, which is compounding!\n",
    "\n",
    "In order to calculate the monthly mortgage payment, you will use the numpy function .pmt(rate, nper, pv) where:\n",
    "\n",
    "rate = The periodic (monthly) interest rate\n",
    "nper = The number of payment periods (months) in the lifespan of the mortgage loan\n",
    "pv = The total value of the mortgage loan\n",
    "You have been given a 30-year mortgage loan quote for your desired amount at 3.75%. The value of the mortgage loan is available as mortgage_loan.\n",
    "\n",
    "The annual mortgage rate is available as mortgage_rate"
   ]
  },
  {
   "cell_type": "code",
   "execution_count": 20,
   "id": "f5d64cf6-d0a4-495a-b1d4-90888afcf8eb",
   "metadata": {},
   "outputs": [],
   "source": [
    "mortgage_rate = 0.0375"
   ]
  },
  {
   "cell_type": "code",
   "execution_count": 21,
   "id": "8213fe88-a061-4438-8d26-4ee0d0f50bef",
   "metadata": {},
   "outputs": [
    {
     "data": {
      "text/plain": [
       "0.003072541703255549"
      ]
     },
     "execution_count": 21,
     "metadata": {},
     "output_type": "execute_result"
    }
   ],
   "source": [
    "# Derive the equivalent monthly mortgage rate from the annual rate\n",
    "mortgage_rate_periodic = (1 + mortgage_rate)**(1/12) - 1\n",
    "\n",
    "mortgage_rate_periodic"
   ]
  },
  {
   "cell_type": "code",
   "execution_count": 22,
   "id": "385405cf-6993-41dd-ac43-d5e4327bb885",
   "metadata": {},
   "outputs": [
    {
     "name": "stdout",
     "output_type": "stream",
     "text": [
      "Monthly Mortgage Payment: 2941.13\n"
     ]
    }
   ],
   "source": [
    "# How many monthly payment periods will there be over 30 years?\n",
    "mortgage_payment_periods = 12*30\n",
    "\n",
    "# Calculate the monthly mortgage payment (multiply by -1 to keep it positive)\n",
    "periodic_mortgage_payment = -1*npf.pmt(mortgage_rate_periodic, mortgage_payment_periods, mortgage_loan)\n",
    "print(\"Monthly Mortgage Payment: \" + str(round(periodic_mortgage_payment, 2)))"
   ]
  },
  {
   "cell_type": "markdown",
   "id": "1b0a38f0-aaab-4a62-a982-90bf2256d13f",
   "metadata": {},
   "source": [
    "Calculating interest and principal payments\n",
    "\n",
    "Due to the size of the mortgage loan, you begin the mortgage in the initial period by paying mostly interest and retaining very little principal, or equity that goes towards the ownership of your home.\n",
    "\n",
    "This means that if you were to stop paying your mortgage and sell your home after only a few years, the bank would actually own most of the home because what you paid was mostly interest, and very little principal."
   ]
  },
  {
   "cell_type": "code",
   "execution_count": 23,
   "id": "5b693090-8d38-44b4-b894-5cdbce669631",
   "metadata": {},
   "outputs": [
    {
     "name": "stdout",
     "output_type": "stream",
     "text": [
      "Initial Interest Payment: 1966.43\n",
      "Initial Principal Payment: 974.7\n"
     ]
    }
   ],
   "source": [
    "# Calculate the amount of the first loan payment that will go towards interest\n",
    "initial_interest_payment = mortgage_loan * mortgage_rate_periodic\n",
    "print(\"Initial Interest Payment: \" + str(round(initial_interest_payment, 2)))\n",
    "\n",
    "# Calculate the amount of the first loan payment that will go towards principal\n",
    "initial_principal_payment = periodic_mortgage_payment - initial_interest_payment\n",
    "print(\"Initial Principal Payment: \" + str(round(initial_principal_payment, 2)))"
   ]
  },
  {
   "cell_type": "markdown",
   "id": "a4c83aad-32b0-4d79-824b-0259d15b1436",
   "metadata": {},
   "source": [
    "Simulating periodic payments (I)\n",
    "\n",
    "You have all the tools you'll need to simulate the mortgage payments over time.\n",
    "\n",
    "Every time a mortgage payment is made, the following payment will have a slightly lower percentage, which is used to pay off interest. This means that more of the remainder will go towards the portion of the home that you own instead of the bank. This is important to determine how much you will gain from selling the home before paying off your mortgage, or to determine when your mortgage is underwater. \n",
    "\n",
    "You will now write a simple program to calculate the interest and mortgage portions of each payment over time.\n",
    "\n",
    "The principal_remaining variable is initialized as an array of 0's with length equal to the number of payment periods."
   ]
  },
  {
   "cell_type": "code",
   "execution_count": 24,
   "id": "5309fd64-7c48-4c97-a0b0-9b524fd47dcc",
   "metadata": {},
   "outputs": [
    {
     "data": {
      "text/plain": [
       "array([0, 0, 0, 0, 0, 0, 0, 0, 0, 0, 0, 0, 0, 0, 0, 0, 0, 0, 0, 0, 0, 0,\n",
       "       0, 0, 0, 0, 0, 0, 0, 0, 0, 0, 0, 0, 0, 0, 0, 0, 0, 0, 0, 0, 0, 0,\n",
       "       0, 0, 0, 0, 0, 0, 0, 0, 0, 0, 0, 0, 0, 0, 0, 0, 0, 0, 0, 0, 0, 0,\n",
       "       0, 0, 0, 0, 0, 0, 0, 0, 0, 0, 0, 0, 0, 0, 0, 0, 0, 0, 0, 0, 0, 0,\n",
       "       0, 0, 0, 0, 0, 0, 0, 0, 0, 0, 0, 0, 0, 0, 0, 0, 0, 0, 0, 0, 0, 0,\n",
       "       0, 0, 0, 0, 0, 0, 0, 0, 0, 0, 0, 0, 0, 0, 0, 0, 0, 0, 0, 0, 0, 0,\n",
       "       0, 0, 0, 0, 0, 0, 0, 0, 0, 0, 0, 0, 0, 0, 0, 0, 0, 0, 0, 0, 0, 0,\n",
       "       0, 0, 0, 0, 0, 0, 0, 0, 0, 0, 0, 0, 0, 0, 0, 0, 0, 0, 0, 0, 0, 0,\n",
       "       0, 0, 0, 0, 0, 0, 0, 0, 0, 0, 0, 0, 0, 0, 0, 0, 0, 0, 0, 0, 0, 0,\n",
       "       0, 0, 0, 0, 0, 0, 0, 0, 0, 0, 0, 0, 0, 0, 0, 0, 0, 0, 0, 0, 0, 0,\n",
       "       0, 0, 0, 0, 0, 0, 0, 0, 0, 0, 0, 0, 0, 0, 0, 0, 0, 0, 0, 0, 0, 0,\n",
       "       0, 0, 0, 0, 0, 0, 0, 0, 0, 0, 0, 0, 0, 0, 0, 0, 0, 0, 0, 0, 0, 0,\n",
       "       0, 0, 0, 0, 0, 0, 0, 0, 0, 0, 0, 0, 0, 0, 0, 0, 0, 0, 0, 0, 0, 0,\n",
       "       0, 0, 0, 0, 0, 0, 0, 0, 0, 0, 0, 0, 0, 0, 0, 0, 0, 0, 0, 0, 0, 0,\n",
       "       0, 0, 0, 0, 0, 0, 0, 0, 0, 0, 0, 0, 0, 0, 0, 0, 0, 0, 0, 0, 0, 0,\n",
       "       0, 0, 0, 0, 0, 0, 0, 0, 0, 0, 0, 0, 0, 0, 0, 0, 0, 0, 0, 0, 0, 0,\n",
       "       0, 0, 0, 0, 0, 0, 0, 0])"
      ]
     },
     "execution_count": 24,
     "metadata": {},
     "output_type": "execute_result"
    }
   ],
   "source": [
    "principal_remaining = np.array([0]*mortgage_payment_periods)\n",
    "interest_paid = np.array([0]*mortgage_payment_periods)\n",
    "principal_paid = np.array([0]*mortgage_payment_periods)\n",
    "principal_remaining"
   ]
  },
  {
   "cell_type": "code",
   "execution_count": 25,
   "id": "8d52ad83-9177-41c8-958f-14c055da2145",
   "metadata": {},
   "outputs": [
    {
     "name": "stdout",
     "output_type": "stream",
     "text": [
      "0 previous_principal_remaining: 640000 interest_payment: 1966.43 principal_payment: 974.7 sum(=periodic_mortgage_payment): 2941.13\n",
      "1 previous_principal_remaining: 639025 interest_payment: 1963.43 principal_payment: 977.7 sum(=periodic_mortgage_payment): 2941.13\n",
      "2 previous_principal_remaining: 638047 interest_payment: 1960.43 principal_payment: 980.7 sum(=periodic_mortgage_payment): 2941.13\n",
      "3 previous_principal_remaining: 637066 interest_payment: 1957.41 principal_payment: 983.72 sum(=periodic_mortgage_payment): 2941.13\n",
      "4 previous_principal_remaining: 636082 interest_payment: 1954.39 principal_payment: 986.74 sum(=periodic_mortgage_payment): 2941.13\n",
      "5 previous_principal_remaining: 635095 interest_payment: 1951.36 principal_payment: 989.77 sum(=periodic_mortgage_payment): 2941.13\n",
      "6 previous_principal_remaining: 634105 interest_payment: 1948.31 principal_payment: 992.82 sum(=periodic_mortgage_payment): 2941.13\n",
      "7 previous_principal_remaining: 633112 interest_payment: 1945.26 principal_payment: 995.87 sum(=periodic_mortgage_payment): 2941.13\n",
      "8 previous_principal_remaining: 632116 interest_payment: 1942.2 principal_payment: 998.93 sum(=periodic_mortgage_payment): 2941.13\n",
      "9 previous_principal_remaining: 631117 interest_payment: 1939.13 principal_payment: 1002.0 sum(=periodic_mortgage_payment): 2941.13\n",
      "351 previous_principal_remaining: 25762 interest_payment: 79.15 principal_payment: 2861.98 sum(=periodic_mortgage_payment): 2941.13\n",
      "352 previous_principal_remaining: 22900 interest_payment: 70.36 principal_payment: 2870.77 sum(=periodic_mortgage_payment): 2941.13\n",
      "353 previous_principal_remaining: 20029 interest_payment: 61.54 principal_payment: 2879.59 sum(=periodic_mortgage_payment): 2941.13\n",
      "354 previous_principal_remaining: 17149 interest_payment: 52.69 principal_payment: 2888.44 sum(=periodic_mortgage_payment): 2941.13\n",
      "355 previous_principal_remaining: 14260 interest_payment: 43.81 principal_payment: 2897.32 sum(=periodic_mortgage_payment): 2941.13\n",
      "356 previous_principal_remaining: 11362 interest_payment: 34.91 principal_payment: 2906.22 sum(=periodic_mortgage_payment): 2941.1299999999997\n",
      "357 previous_principal_remaining: 8455 interest_payment: 25.98 principal_payment: 2915.15 sum(=periodic_mortgage_payment): 2941.13\n",
      "358 previous_principal_remaining: 5539 interest_payment: 17.02 principal_payment: 2924.11 sum(=periodic_mortgage_payment): 2941.13\n",
      "359 previous_principal_remaining: 2614 interest_payment: 8.03 principal_payment: 2614 sum(=periodic_mortgage_payment): 2622.03\n"
     ]
    },
    {
     "data": {
      "image/png": "[encoded data removed]",
      "text/plain": [
       "<Figure size 640x480 with 1 Axes>"
      ]
     },
     "metadata": {},
     "output_type": "display_data"
    }
   ],
   "source": [
    "# Loop through each mortgage payment period\n",
    "for i in range(0, mortgage_payment_periods):\n",
    "    \n",
    "    # Handle the case for the first iteration\n",
    "    if i == 0:\n",
    "        previous_principal_remaining = mortgage_loan\n",
    "    else:\n",
    "        previous_principal_remaining = principal_remaining[i-1]\n",
    "        \n",
    "    # Calculate the interest and principal payments\n",
    "    interest_payment = round(previous_principal_remaining*mortgage_rate_periodic, 2)\n",
    "    principal_payment = round(periodic_mortgage_payment-interest_payment, 2)\n",
    "    \n",
    "    # Catch the case where all principal is paid off in the final period\n",
    "    if previous_principal_remaining - principal_payment < 0:\n",
    "        principal_payment = previous_principal_remaining\n",
    "        \n",
    "    # Collect the historical values\n",
    "    interest_paid[i] = interest_payment\n",
    "    principal_paid[i] = principal_payment\n",
    "    principal_remaining[i] = previous_principal_remaining - principal_payment\n",
    "\n",
    "    # Print the payments for the first few periods\n",
    "    if i < 10 or i > mortgage_payment_periods - 10:\n",
    "        print(i, 'previous_principal_remaining:',previous_principal_remaining, 'interest_payment:',interest_payment, 'principal_payment:',principal_payment,\n",
    "             'sum(=periodic_mortgage_payment):',interest_payment+principal_payment)\n",
    "    \n",
    "# Plot the interest vs principal\n",
    "plt.plot(interest_paid, color=\"red\")\n",
    "plt.plot(principal_paid, color=\"blue\")\n",
    "interest_plot, = plt.plot(interest_paid, color=\"red\", label=\"Interest Paid\") \n",
    "principal_plot, = plt.plot(principal_paid, color=\"blue\", label=\"Principal Paid\")\n",
    "plt.legend(handles=[interest_plot, principal_plot], loc=2)\n",
    "plt.show()"
   ]
  },
  {
   "cell_type": "markdown",
   "id": "10804e51-8232-44af-8f25-b0d921d91fbd",
   "metadata": {},
   "source": [
    "Cumulative payments and home equity\n",
    "\n",
    "You are faithfully paying your mortgage each month, but it's difficult to tell how much of the house you actually own and how much interest you have paid in total over the years.\n",
    "\n",
    "Use np.cumsum() to add up all the interest payments and also to add up all the principal payments over time to see how your ownership changes over time.\n",
    "\n",
    "Recall that np.cumsum() performs a cumulative sum over time. Return a series of iterative sums instead of just a single number.\n",
    "\n",
    "principal_paid, interest_paid, "
   ]
  },
  {
   "cell_type": "code",
   "execution_count": 26,
   "id": "6ebc1567-59d0-40a8-a83f-a3f96ed3ec07",
   "metadata": {},
   "outputs": [
    {
     "name": "stdout",
     "output_type": "stream",
     "text": [
      "[0.2012175  0.20243875 0.20366375 0.2048925  0.206125   0.20736125\n",
      " 0.20860125 0.209845   0.2110925  0.212345   0.21360125 0.21486125\n",
      " 0.216125   0.2173925  0.21866375 0.21993875 0.2212175  0.2225\n",
      " 0.2237875  0.22507875 0.22637375 0.2276725  0.228975   0.23028125\n",
      " 0.2315925  0.2329075  0.23422625 0.23554875 0.23687625 0.2382075\n",
      " 0.2395425  0.24088125 0.242225   0.2435725  0.24492375 0.24628\n",
      " 0.24764    0.24900375 0.2503725  0.251745   0.2531225  0.25450375\n",
      " 0.25588875 0.25727875 0.2586725  0.26007125 0.26147375 0.26288\n",
      " 0.26429125 0.26570625 0.26712625 0.26855    0.26997875 0.27141125\n",
      " 0.27284875 0.27429    0.27573625 0.2771875  0.2786425  0.2801025\n",
      " 0.28156625 0.283035   0.2845075  0.285985   0.2874675  0.28895375\n",
      " 0.290445   0.29194125 0.29344125 0.29494625 0.29645625 0.29797125\n",
      " 0.29949    0.30101375 0.3025425  0.304075   0.3056125  0.307155\n",
      " 0.3087025  0.310255   0.31181125 0.3133725  0.31493875 0.31651\n",
      " 0.31808625 0.3196675  0.32125375 0.322845   0.32444    0.32604\n",
      " 0.327645   0.329255   0.33087    0.33249    0.334115   0.335745\n",
      " 0.33738    0.33902    0.340665   0.342315   0.34397    0.34563\n",
      " 0.347295   0.34896625 0.3506425  0.35232375 0.35401    0.35570125\n",
      " 0.3573975  0.35909875 0.36080625 0.36251875 0.36423625 0.36595875\n",
      " 0.36768625 0.36942    0.37115875 0.3729025  0.3746525  0.3764075\n",
      " 0.3781675  0.37993375 0.381705   0.38348125 0.38526375 0.38705125\n",
      " 0.38884375 0.3906425  0.39244625 0.39425625 0.39607125 0.3978925\n",
      " 0.39971875 0.40155125 0.40338875 0.4052325  0.40708125 0.40893625\n",
      " 0.41079625 0.4126625  0.41453375 0.41641125 0.418295   0.42018375\n",
      " 0.42207875 0.42398    0.42588625 0.42779875 0.4297175  0.43164125\n",
      " 0.43357125 0.4355075  0.43745    0.4393975  0.44135125 0.44331125\n",
      " 0.4452775  0.44725    0.4492275  0.45121125 0.45320125 0.4551975\n",
      " 0.4572     0.45920875 0.46122375 0.463245   0.4652725  0.46730625\n",
      " 0.46934625 0.4713925  0.473445   0.47550375 0.47756875 0.47964\n",
      " 0.4817175  0.48380125 0.48589125 0.4879875  0.49009125 0.49220125\n",
      " 0.4943175  0.49644    0.49856875 0.500705   0.5028475  0.50499625\n",
      " 0.50715125 0.50931375 0.5114825  0.5136575  0.51584    0.51802875\n",
      " 0.520225   0.5224275  0.52463625 0.5268525  0.529075   0.531305\n",
      " 0.53354125 0.535785   0.538035   0.5402925  0.54255625 0.5448275\n",
      " 0.547105   0.54939    0.5516825  0.55398125 0.5562875  0.55860125\n",
      " 0.56092125 0.56324875 0.56558375 0.567925   0.57027375 0.57263\n",
      " 0.57499375 0.577365   0.5797425  0.5821275  0.58452    0.58692\n",
      " 0.5893275  0.5917425  0.594165   0.596595   0.5990325  0.6014775\n",
      " 0.60393    0.60639    0.6088575  0.6113325  0.613815   0.616305\n",
      " 0.6188025  0.6213075  0.62382125 0.6263425  0.62887125 0.6314075\n",
      " 0.63395125 0.63650375 0.63906375 0.64163125 0.64420625 0.64679\n",
      " 0.64938125 0.65198125 0.65458875 0.65720375 0.6598275  0.66245875\n",
      " 0.66509875 0.66774625 0.6704025  0.67306625 0.67573875 0.67841875\n",
      " 0.6811075  0.683805   0.68651    0.68922375 0.69194625 0.69467625\n",
      " 0.697415   0.7001625  0.7029175  0.70568125 0.70845375 0.711235\n",
      " 0.714025   0.71682375 0.71963    0.722445   0.72526875 0.72810125\n",
      " 0.7309425  0.7337925  0.73665125 0.73951875 0.742395   0.74528\n",
      " 0.74817375 0.7510775  0.75399    0.75691125 0.75984125 0.76278\n",
      " 0.7657275  0.768685   0.77165125 0.77462625 0.77761125 0.780605\n",
      " 0.7836075  0.78662    0.78964125 0.79267125 0.79571125 0.79876\n",
      " 0.80181875 0.80488625 0.80796375 0.81105125 0.8141475  0.81725375\n",
      " 0.82036875 0.82349375 0.82662875 0.8297725  0.83292625 0.83609\n",
      " 0.83926375 0.84244625 0.84563875 0.84884125 0.85205375 0.85527625\n",
      " 0.85850875 0.86175125 0.86500375 0.86826625 0.87153875 0.87482125\n",
      " 0.87811375 0.88141625 0.88472875 0.88805125 0.89138375 0.8947275\n",
      " 0.89808125 0.901445   0.90481875 0.90820375 0.91159875 0.91500375\n",
      " 0.91842    0.92184625 0.92528375 0.92873125 0.93218875 0.9356575\n",
      " 0.9391375  0.9426275  0.94612875 0.94964    0.9531625  0.95669625\n",
      " 0.96024    0.963795   0.96736125 0.9709375  0.974525   0.97812375\n",
      " 0.98173375 0.985355   0.9889875  0.99263125 0.99628625 0.99955375]\n"
     ]
    },
    {
     "data": {
      "image/png": "[encoded data removed]",
      "text/plain": [
       "<Figure size 640x480 with 1 Axes>"
      ]
     },
     "metadata": {},
     "output_type": "display_data"
    }
   ],
   "source": [
    "# Calculate the cumulative home equity (principal) over time\n",
    "cumulative_home_equity = np.cumsum(principal_paid)\n",
    "\n",
    "# Calculate the cumulative interest paid over time\n",
    "cumulative_interest_paid = np.cumsum(interest_paid)\n",
    "\n",
    "# Calculate your percentage home equity over time\n",
    "cumulative_percent_owned = down_payment_percent + (cumulative_home_equity/home_value)\n",
    "print(cumulative_percent_owned)\n",
    "\n",
    "# Plot the cumulative interest paid vs equity accumulated\n",
    "plt.plot(cumulative_interest_paid, color='red')\n",
    "plt.plot(cumulative_home_equity, color='blue')\n",
    "plt.legend(handles=[interest_plot, principal_plot], loc=2)\n",
    "plt.show()"
   ]
  },
  {
   "cell_type": "markdown",
   "id": "0a21c8a0-155b-40f9-880c-c8c2d22f9a3c",
   "metadata": {},
   "source": [
    "Rising housing \n",
    "\n",
    "Home values have been rising steadily each year, and this is a rather large investment for you.\n",
    "\n",
    "Calculate your home equity value over time given a steady growth rate of 0.25% per month. A repeated array of this growth rate (with a length equal to the number of mortgage payment periods) is already stored for you in an object called growth_array."
   ]
  },
  {
   "cell_type": "code",
   "execution_count": 27,
   "id": "284c8143-b740-429d-adb8-58a8fb2030b3",
   "metadata": {},
   "outputs": [
    {
     "data": {
      "text/plain": [
       "array([0.0025, 0.0025, 0.0025, 0.0025, 0.0025, 0.0025, 0.0025, 0.0025,\n",
       "       0.0025, 0.0025, 0.0025, 0.0025, 0.0025, 0.0025, 0.0025, 0.0025,\n",
       "       0.0025, 0.0025, 0.0025, 0.0025, 0.0025, 0.0025, 0.0025, 0.0025,\n",
       "       0.0025, 0.0025, 0.0025, 0.0025, 0.0025, 0.0025, 0.0025, 0.0025,\n",
       "       0.0025, 0.0025, 0.0025, 0.0025, 0.0025, 0.0025, 0.0025, 0.0025,\n",
       "       0.0025, 0.0025, 0.0025, 0.0025, 0.0025, 0.0025, 0.0025, 0.0025,\n",
       "       0.0025, 0.0025, 0.0025, 0.0025, 0.0025, 0.0025, 0.0025, 0.0025,\n",
       "       0.0025, 0.0025, 0.0025, 0.0025, 0.0025, 0.0025, 0.0025, 0.0025,\n",
       "       0.0025, 0.0025, 0.0025, 0.0025, 0.0025, 0.0025, 0.0025, 0.0025,\n",
       "       0.0025, 0.0025, 0.0025, 0.0025, 0.0025, 0.0025, 0.0025, 0.0025,\n",
       "       0.0025, 0.0025, 0.0025, 0.0025, 0.0025, 0.0025, 0.0025, 0.0025,\n",
       "       0.0025, 0.0025, 0.0025, 0.0025, 0.0025, 0.0025, 0.0025, 0.0025,\n",
       "       0.0025, 0.0025, 0.0025, 0.0025, 0.0025, 0.0025, 0.0025, 0.0025,\n",
       "       0.0025, 0.0025, 0.0025, 0.0025, 0.0025, 0.0025, 0.0025, 0.0025,\n",
       "       0.0025, 0.0025, 0.0025, 0.0025, 0.0025, 0.0025, 0.0025, 0.0025,\n",
       "       0.0025, 0.0025, 0.0025, 0.0025, 0.0025, 0.0025, 0.0025, 0.0025,\n",
       "       0.0025, 0.0025, 0.0025, 0.0025, 0.0025, 0.0025, 0.0025, 0.0025,\n",
       "       0.0025, 0.0025, 0.0025, 0.0025, 0.0025, 0.0025, 0.0025, 0.0025,\n",
       "       0.0025, 0.0025, 0.0025, 0.0025, 0.0025, 0.0025, 0.0025, 0.0025,\n",
       "       0.0025, 0.0025, 0.0025, 0.0025, 0.0025, 0.0025, 0.0025, 0.0025,\n",
       "       0.0025, 0.0025, 0.0025, 0.0025, 0.0025, 0.0025, 0.0025, 0.0025,\n",
       "       0.0025, 0.0025, 0.0025, 0.0025, 0.0025, 0.0025, 0.0025, 0.0025,\n",
       "       0.0025, 0.0025, 0.0025, 0.0025, 0.0025, 0.0025, 0.0025, 0.0025,\n",
       "       0.0025, 0.0025, 0.0025, 0.0025, 0.0025, 0.0025, 0.0025, 0.0025,\n",
       "       0.0025, 0.0025, 0.0025, 0.0025, 0.0025, 0.0025, 0.0025, 0.0025,\n",
       "       0.0025, 0.0025, 0.0025, 0.0025, 0.0025, 0.0025, 0.0025, 0.0025,\n",
       "       0.0025, 0.0025, 0.0025, 0.0025, 0.0025, 0.0025, 0.0025, 0.0025,\n",
       "       0.0025, 0.0025, 0.0025, 0.0025, 0.0025, 0.0025, 0.0025, 0.0025,\n",
       "       0.0025, 0.0025, 0.0025, 0.0025, 0.0025, 0.0025, 0.0025, 0.0025,\n",
       "       0.0025, 0.0025, 0.0025, 0.0025, 0.0025, 0.0025, 0.0025, 0.0025,\n",
       "       0.0025, 0.0025, 0.0025, 0.0025, 0.0025, 0.0025, 0.0025, 0.0025,\n",
       "       0.0025, 0.0025, 0.0025, 0.0025, 0.0025, 0.0025, 0.0025, 0.0025,\n",
       "       0.0025, 0.0025, 0.0025, 0.0025, 0.0025, 0.0025, 0.0025, 0.0025,\n",
       "       0.0025, 0.0025, 0.0025, 0.0025, 0.0025, 0.0025, 0.0025, 0.0025,\n",
       "       0.0025, 0.0025, 0.0025, 0.0025, 0.0025, 0.0025, 0.0025, 0.0025,\n",
       "       0.0025, 0.0025, 0.0025, 0.0025, 0.0025, 0.0025, 0.0025, 0.0025,\n",
       "       0.0025, 0.0025, 0.0025, 0.0025, 0.0025, 0.0025, 0.0025, 0.0025,\n",
       "       0.0025, 0.0025, 0.0025, 0.0025, 0.0025, 0.0025, 0.0025, 0.0025,\n",
       "       0.0025, 0.0025, 0.0025, 0.0025, 0.0025, 0.0025, 0.0025, 0.0025,\n",
       "       0.0025, 0.0025, 0.0025, 0.0025, 0.0025, 0.0025, 0.0025, 0.0025,\n",
       "       0.0025, 0.0025, 0.0025, 0.0025, 0.0025, 0.0025, 0.0025, 0.0025,\n",
       "       0.0025, 0.0025, 0.0025, 0.0025, 0.0025, 0.0025, 0.0025, 0.0025,\n",
       "       0.0025, 0.0025, 0.0025, 0.0025, 0.0025, 0.0025, 0.0025, 0.0025,\n",
       "       0.0025, 0.0025, 0.0025, 0.0025, 0.0025, 0.0025, 0.0025, 0.0025,\n",
       "       0.0025, 0.0025, 0.0025, 0.0025, 0.0025, 0.0025, 0.0025, 0.0025])"
      ]
     },
     "execution_count": 27,
     "metadata": {},
     "output_type": "execute_result"
    }
   ],
   "source": [
    "growth_array = np.array([0.0025]*mortgage_payment_periods)\n",
    "growth_array"
   ]
  },
  {
   "cell_type": "code",
   "execution_count": 28,
   "id": "1da99f67-e76a-4ee3-80eb-b8d697f690a8",
   "metadata": {},
   "outputs": [
    {
     "data": {
      "text/plain": [
       "array([1.0025    , 1.00500625, 1.00751877, 1.01003756, 1.01256266,\n",
       "       1.01509406, 1.0176318 , 1.02017588, 1.02272632, 1.02528313,\n",
       "       1.02784634, 1.03041596, 1.032992  , 1.03557448, 1.03816341,\n",
       "       1.04075882, 1.04336072, 1.04596912, 1.04858404, 1.0512055 ,\n",
       "       1.05383352, 1.0564681 , 1.05910927, 1.06175704, 1.06441144,\n",
       "       1.06707247, 1.06974015, 1.0724145 , 1.07509553, 1.07778327,\n",
       "       1.08047773, 1.08317892, 1.08588687, 1.08860159, 1.09132309,\n",
       "       1.0940514 , 1.09678653, 1.0995285 , 1.10227732, 1.10503301,\n",
       "       1.10779559, 1.11056508, 1.11334149, 1.11612485, 1.11891516,\n",
       "       1.12171245, 1.12451673, 1.12732802, 1.13014634, 1.13297171,\n",
       "       1.13580414, 1.13864365, 1.14149026, 1.14434398, 1.14720484,\n",
       "       1.15007285, 1.15294804, 1.15583041, 1.15871998, 1.16161678,\n",
       "       1.16452082, 1.16743213, 1.17035071, 1.17327658, 1.17620977,\n",
       "       1.1791503 , 1.18209817, 1.18505342, 1.18801605, 1.19098609,\n",
       "       1.19396356, 1.19694847, 1.19994084, 1.20294069, 1.20594804,\n",
       "       1.20896291, 1.21198532, 1.21501528, 1.21805282, 1.22109795,\n",
       "       1.2241507 , 1.22721108, 1.2302791 , 1.2333548 , 1.23643819,\n",
       "       1.23952928, 1.24262811, 1.24573468, 1.24884901, 1.25197114,\n",
       "       1.25510106, 1.25823882, 1.26138441, 1.26453787, 1.26769922,\n",
       "       1.27086847, 1.27404564, 1.27723075, 1.28042383, 1.28362489,\n",
       "       1.28683395, 1.29005104, 1.29327616, 1.29650935, 1.29975063,\n",
       "       1.303     , 1.3062575 , 1.30952315, 1.31279696, 1.31607895,\n",
       "       1.31936915, 1.32266757, 1.32597424, 1.32928917, 1.3326124 ,\n",
       "       1.33594393, 1.33928379, 1.342632  , 1.34598858, 1.34935355,\n",
       "       1.35272693, 1.35610875, 1.35949902, 1.36289777, 1.36630501,\n",
       "       1.36972077, 1.37314508, 1.37657794, 1.38001938, 1.38346943,\n",
       "       1.38692811, 1.39039543, 1.39387142, 1.39735609, 1.40084948,\n",
       "       1.40435161, 1.40786249, 1.41138214, 1.4149106 , 1.41844787,\n",
       "       1.42199399, 1.42554898, 1.42911285, 1.43268563, 1.43626735,\n",
       "       1.43985802, 1.44345766, 1.44706631, 1.45068397, 1.45431068,\n",
       "       1.45794646, 1.46159132, 1.4652453 , 1.46890842, 1.47258069,\n",
       "       1.47626214, 1.47995279, 1.48365268, 1.48736181, 1.49108021,\n",
       "       1.49480791, 1.49854493, 1.50229129, 1.50604702, 1.50981214,\n",
       "       1.51358667, 1.51737064, 1.52116406, 1.52496697, 1.52877939,\n",
       "       1.53260134, 1.53643284, 1.54027393, 1.54412461, 1.54798492,\n",
       "       1.55185488, 1.55573452, 1.55962386, 1.56352292, 1.56743172,\n",
       "       1.5713503 , 1.57527868, 1.57921688, 1.58316492, 1.58712283,\n",
       "       1.59109064, 1.59506836, 1.59905604, 1.60305368, 1.60706131,\n",
       "       1.61107896, 1.61510666, 1.61914443, 1.62319229, 1.62725027,\n",
       "       1.63131839, 1.63539669, 1.63948518, 1.6435839 , 1.64769285,\n",
       "       1.65181209, 1.65594162, 1.66008147, 1.66423168, 1.66839225,\n",
       "       1.67256323, 1.67674464, 1.6809365 , 1.68513885, 1.68935169,\n",
       "       1.69357507, 1.69780901, 1.70205353, 1.70630867, 1.71057444,\n",
       "       1.71485087, 1.719138  , 1.72343585, 1.72774444, 1.7320638 ,\n",
       "       1.73639396, 1.74073494, 1.74508678, 1.7494495 , 1.75382312,\n",
       "       1.75820768, 1.7626032 , 1.7670097 , 1.77142723, 1.7758558 ,\n",
       "       1.78029544, 1.78474617, 1.78920804, 1.79368106, 1.79816526,\n",
       "       1.80266068, 1.80716733, 1.81168525, 1.81621446, 1.820755  ,\n",
       "       1.82530688, 1.82987015, 1.83444483, 1.83903094, 1.84362851,\n",
       "       1.84823759, 1.85285818, 1.85749033, 1.86213405, 1.86678939,\n",
       "       1.87145636, 1.876135  , 1.88082534, 1.8855274 , 1.89024122,\n",
       "       1.89496682, 1.89970424, 1.9044535 , 1.90921463, 1.91398767,\n",
       "       1.91877264, 1.92356957, 1.9283785 , 1.93319944, 1.93803244,\n",
       "       1.94287752, 1.94773472, 1.95260405, 1.95748556, 1.96237928,\n",
       "       1.96728522, 1.97220344, 1.97713395, 1.98207678, 1.98703197,\n",
       "       1.99199955, 1.99697955, 2.001972  , 2.00697693, 2.01199437,\n",
       "       2.01702436, 2.02206692, 2.02712209, 2.03218989, 2.03727037,\n",
       "       2.04236354, 2.04746945, 2.05258813, 2.0577196 , 2.06286389,\n",
       "       2.06802105, 2.07319111, 2.07837409, 2.08357002, 2.08877895,\n",
       "       2.09400089, 2.09923589, 2.10448398, 2.10974519, 2.11501956,\n",
       "       2.12030711, 2.12560787, 2.13092189, 2.1362492 , 2.14158982,\n",
       "       2.1469438 , 2.15231116, 2.15769193, 2.16308616, 2.16849388,\n",
       "       2.17391511, 2.1793499 , 2.18479828, 2.19026027, 2.19573592,\n",
       "       2.20122526, 2.20672833, 2.21224515, 2.21777576, 2.2233202 ,\n",
       "       2.2288785 , 2.2344507 , 2.24003682, 2.24563691, 2.25125101,\n",
       "       2.25687913, 2.26252133, 2.26817764, 2.27384808, 2.2795327 ,\n",
       "       2.28523153, 2.29094461, 2.29667197, 2.30241365, 2.30816969,\n",
       "       2.31394011, 2.31972496, 2.32552427, 2.33133808, 2.33716643,\n",
       "       2.34300934, 2.34886687, 2.35473903, 2.36062588, 2.36652745,\n",
       "       2.37244377, 2.37837488, 2.38432081, 2.39028161, 2.39625732,\n",
       "       2.40224796, 2.40825358, 2.41427422, 2.4203099 , 2.42636068,\n",
       "       2.43242658, 2.43850764, 2.44460391, 2.45071542, 2.45684221])"
      ]
     },
     "execution_count": 28,
     "metadata": {},
     "output_type": "execute_result"
    }
   ],
   "source": [
    "# Calculate the cumulative growth over time\n",
    "cumulative_growth_forecast = np.cumprod(1 + growth_array)\n",
    "\n",
    "cumulative_growth_forecast"
   ]
  },
  {
   "cell_type": "code",
   "execution_count": 29,
   "id": "38327a12-3cec-4b6b-9984-0e707fa64a8f",
   "metadata": {},
   "outputs": [
    {
     "data": {
      "image/png": "[encoded data removed]",
      "text/plain": [
       "<Figure size 640x480 with 1 Axes>"
      ]
     },
     "metadata": {},
     "output_type": "display_data"
    }
   ],
   "source": [
    "# Forecast the home value over time\n",
    "home_value_forecast = home_value*cumulative_growth_forecast\n",
    "\n",
    "# Forecast the home equity value owned over time\n",
    "cumulative_home_value_owned = cumulative_percent_owned*home_value_forecast\n",
    "\n",
    "\n",
    "# Plotting the cumulative home value forecasted and owned\n",
    "homevalue_plot, = plt.plot(home_value_forecast, color='red', label='Home Value Forecast')\n",
    "homeequity_plot, = plt.plot(cumulative_home_value_owned, color='blue', label='Cumulative Home Value Owned')\n",
    "\n",
    "# Add legend\n",
    "plt.legend(handles=[homevalue_plot, homeequity_plot], loc=2)\n",
    "\n",
    "# Show the plot\n",
    "plt.show()\n"
   ]
  },
  {
   "cell_type": "markdown",
   "id": "ca8feae9-295b-4472-932b-442d40303d91",
   "metadata": {},
   "source": [
    "Falling housing prices and underwater mortgages\n",
    "\n",
    "Unfortunately, you are also well aware that home prices don't always rise.\n",
    "\n",
    "An underwater mortgage is when the remaining amount you owe on your mortgage is actually higher than the value of the house itself.\n",
    "\n",
    "In this exercise, you will calculate the worst case scenario where home prices drop steadily at the rate of 0.45% per month. To speed things up, the cumulative drop in home prices has already been forecasted and stored for you in a variable called cumulative_decline_forecast, which is an array of multiplicative discount factors compared to today's price - no need to add 1 to the rate array.\n",
    "\n",
    "The outstanding principal on the mortgage is available as principal_remaining."
   ]
  },
  {
   "cell_type": "code",
   "execution_count": 30,
   "id": "a7eaf3cc-4914-4fae-93da-cf708131926a",
   "metadata": {},
   "outputs": [
    {
     "data": {
      "text/plain": [
       "array([-0.0045, -0.0045, -0.0045, -0.0045, -0.0045, -0.0045, -0.0045,\n",
       "       -0.0045, -0.0045, -0.0045, -0.0045, -0.0045, -0.0045, -0.0045,\n",
       "       -0.0045, -0.0045, -0.0045, -0.0045, -0.0045, -0.0045, -0.0045,\n",
       "       -0.0045, -0.0045, -0.0045, -0.0045, -0.0045, -0.0045, -0.0045,\n",
       "       -0.0045, -0.0045, -0.0045, -0.0045, -0.0045, -0.0045, -0.0045,\n",
       "       -0.0045, -0.0045, -0.0045, -0.0045, -0.0045, -0.0045, -0.0045,\n",
       "       -0.0045, -0.0045, -0.0045, -0.0045, -0.0045, -0.0045, -0.0045,\n",
       "       -0.0045, -0.0045, -0.0045, -0.0045, -0.0045, -0.0045, -0.0045,\n",
       "       -0.0045, -0.0045, -0.0045, -0.0045, -0.0045, -0.0045, -0.0045,\n",
       "       -0.0045, -0.0045, -0.0045, -0.0045, -0.0045, -0.0045, -0.0045,\n",
       "       -0.0045, -0.0045, -0.0045, -0.0045, -0.0045, -0.0045, -0.0045,\n",
       "       -0.0045, -0.0045, -0.0045, -0.0045, -0.0045, -0.0045, -0.0045,\n",
       "       -0.0045, -0.0045, -0.0045, -0.0045, -0.0045, -0.0045, -0.0045,\n",
       "       -0.0045, -0.0045, -0.0045, -0.0045, -0.0045, -0.0045, -0.0045,\n",
       "       -0.0045, -0.0045, -0.0045, -0.0045, -0.0045, -0.0045, -0.0045,\n",
       "       -0.0045, -0.0045, -0.0045, -0.0045, -0.0045, -0.0045, -0.0045,\n",
       "       -0.0045, -0.0045, -0.0045, -0.0045, -0.0045, -0.0045, -0.0045,\n",
       "       -0.0045, -0.0045, -0.0045, -0.0045, -0.0045, -0.0045, -0.0045,\n",
       "       -0.0045, -0.0045, -0.0045, -0.0045, -0.0045, -0.0045, -0.0045,\n",
       "       -0.0045, -0.0045, -0.0045, -0.0045, -0.0045, -0.0045, -0.0045,\n",
       "       -0.0045, -0.0045, -0.0045, -0.0045, -0.0045, -0.0045, -0.0045,\n",
       "       -0.0045, -0.0045, -0.0045, -0.0045, -0.0045, -0.0045, -0.0045,\n",
       "       -0.0045, -0.0045, -0.0045, -0.0045, -0.0045, -0.0045, -0.0045,\n",
       "       -0.0045, -0.0045, -0.0045, -0.0045, -0.0045, -0.0045, -0.0045,\n",
       "       -0.0045, -0.0045, -0.0045, -0.0045, -0.0045, -0.0045, -0.0045,\n",
       "       -0.0045, -0.0045, -0.0045, -0.0045, -0.0045, -0.0045, -0.0045,\n",
       "       -0.0045, -0.0045, -0.0045, -0.0045, -0.0045, -0.0045, -0.0045,\n",
       "       -0.0045, -0.0045, -0.0045, -0.0045, -0.0045, -0.0045, -0.0045,\n",
       "       -0.0045, -0.0045, -0.0045, -0.0045, -0.0045, -0.0045, -0.0045,\n",
       "       -0.0045, -0.0045, -0.0045, -0.0045, -0.0045, -0.0045, -0.0045,\n",
       "       -0.0045, -0.0045, -0.0045, -0.0045, -0.0045, -0.0045, -0.0045,\n",
       "       -0.0045, -0.0045, -0.0045, -0.0045, -0.0045, -0.0045, -0.0045,\n",
       "       -0.0045, -0.0045, -0.0045, -0.0045, -0.0045, -0.0045, -0.0045,\n",
       "       -0.0045, -0.0045, -0.0045, -0.0045, -0.0045, -0.0045, -0.0045,\n",
       "       -0.0045, -0.0045, -0.0045, -0.0045, -0.0045, -0.0045, -0.0045,\n",
       "       -0.0045, -0.0045, -0.0045, -0.0045, -0.0045, -0.0045, -0.0045,\n",
       "       -0.0045, -0.0045, -0.0045, -0.0045, -0.0045, -0.0045, -0.0045,\n",
       "       -0.0045, -0.0045, -0.0045, -0.0045, -0.0045, -0.0045, -0.0045,\n",
       "       -0.0045, -0.0045, -0.0045, -0.0045, -0.0045, -0.0045, -0.0045,\n",
       "       -0.0045, -0.0045, -0.0045, -0.0045, -0.0045, -0.0045, -0.0045,\n",
       "       -0.0045, -0.0045, -0.0045, -0.0045, -0.0045, -0.0045, -0.0045,\n",
       "       -0.0045, -0.0045, -0.0045, -0.0045, -0.0045, -0.0045, -0.0045,\n",
       "       -0.0045, -0.0045, -0.0045, -0.0045, -0.0045, -0.0045, -0.0045,\n",
       "       -0.0045, -0.0045, -0.0045, -0.0045, -0.0045, -0.0045, -0.0045,\n",
       "       -0.0045, -0.0045, -0.0045, -0.0045, -0.0045, -0.0045, -0.0045,\n",
       "       -0.0045, -0.0045, -0.0045, -0.0045, -0.0045, -0.0045, -0.0045,\n",
       "       -0.0045, -0.0045, -0.0045, -0.0045, -0.0045, -0.0045, -0.0045,\n",
       "       -0.0045, -0.0045, -0.0045, -0.0045, -0.0045, -0.0045, -0.0045,\n",
       "       -0.0045, -0.0045, -0.0045, -0.0045, -0.0045, -0.0045, -0.0045,\n",
       "       -0.0045, -0.0045, -0.0045, -0.0045, -0.0045, -0.0045, -0.0045,\n",
       "       -0.0045, -0.0045, -0.0045, -0.0045, -0.0045, -0.0045, -0.0045,\n",
       "       -0.0045, -0.0045, -0.0045])"
      ]
     },
     "execution_count": 30,
     "metadata": {},
     "output_type": "execute_result"
    }
   ],
   "source": [
    "decline_array = np.array([-0.0045]*mortgage_payment_periods)\n",
    "decline_array"
   ]
  },
  {
   "cell_type": "code",
   "execution_count": 31,
   "id": "f11447ea-f600-4d70-bea2-d918d7e251e9",
   "metadata": {},
   "outputs": [
    {
     "data": {
      "text/plain": [
       "array([0.9955    , 0.99102025, 0.98656066, 0.98212114, 0.97770159,\n",
       "       0.97330193, 0.96892207, 0.96456193, 0.9602214 , 0.9559004 ,\n",
       "       0.95159885, 0.94731665, 0.94305373, 0.93880999, 0.93458534,\n",
       "       0.93037971, 0.926193  , 0.92202513, 0.91787602, 0.91374558,\n",
       "       0.90963372, 0.90554037, 0.90146544, 0.89740884, 0.8933705 ,\n",
       "       0.88935034, 0.88534826, 0.88136419, 0.87739805, 0.87344976,\n",
       "       0.86951924, 0.8656064 , 0.86171117, 0.85783347, 0.85397322,\n",
       "       0.85013034, 0.84630476, 0.84249638, 0.83870515, 0.83493098,\n",
       "       0.83117379, 0.82743351, 0.82371006, 0.82000336, 0.81631334,\n",
       "       0.81263993, 0.80898306, 0.80534263, 0.80171859, 0.79811086,\n",
       "       0.79451936, 0.79094402, 0.78738477, 0.78384154, 0.78031425,\n",
       "       0.77680284, 0.77330723, 0.76982734, 0.76636312, 0.76291449,\n",
       "       0.75948137, 0.75606371, 0.75266142, 0.74927444, 0.74590271,\n",
       "       0.74254615, 0.73920469, 0.73587827, 0.73256681, 0.72927026,\n",
       "       0.72598855, 0.7227216 , 0.71946935, 0.71623174, 0.7130087 ,\n",
       "       0.70980016, 0.70660606, 0.70342633, 0.70026091, 0.69710974,\n",
       "       0.69397274, 0.69084987, 0.68774104, 0.68464621, 0.6815653 ,\n",
       "       0.67849826, 0.67544501, 0.67240551, 0.66937969, 0.66636748,\n",
       "       0.66336882, 0.66038366, 0.65741194, 0.65445358, 0.65150854,\n",
       "       0.64857675, 0.64565816, 0.6427527 , 0.63986031, 0.63698094,\n",
       "       0.63411452, 0.63126101, 0.62842033, 0.62559244, 0.62277728,\n",
       "       0.61997478, 0.61718489, 0.61440756, 0.61164273, 0.60889033,\n",
       "       0.60615033, 0.60342265, 0.60070725, 0.59800407, 0.59531305,\n",
       "       0.59263414, 0.58996729, 0.58731243, 0.58466953, 0.58203851,\n",
       "       0.57941934, 0.57681195, 0.5742163 , 0.57163233, 0.56905998,\n",
       "       0.56649921, 0.56394997, 0.56141219, 0.55888584, 0.55637085,\n",
       "       0.55386718, 0.55137478, 0.54889359, 0.54642357, 0.54396466,\n",
       "       0.54151682, 0.53908   , 0.53665414, 0.53423919, 0.53183512,\n",
       "       0.52944186, 0.52705937, 0.5246876 , 0.52232651, 0.51997604,\n",
       "       0.51763615, 0.51530679, 0.51298791, 0.51067946, 0.5083814 ,\n",
       "       0.50609369, 0.50381626, 0.50154909, 0.49929212, 0.49704531,\n",
       "       0.4948086 , 0.49258196, 0.49036534, 0.4881587 , 0.48596199,\n",
       "       0.48377516, 0.48159817, 0.47943098, 0.47727354, 0.47512581,\n",
       "       0.47298774, 0.4708593 , 0.46874043, 0.4666311 , 0.46453126,\n",
       "       0.46244087, 0.46035988, 0.45828826, 0.45622597, 0.45417295,\n",
       "       0.45212917, 0.45009459, 0.44806916, 0.44605285, 0.44404561,\n",
       "       0.44204741, 0.4400582 , 0.43807793, 0.43610658, 0.4341441 ,\n",
       "       0.43219046, 0.4302456 , 0.42830949, 0.4263821 , 0.42446338,\n",
       "       0.4225533 , 0.42065181, 0.41875887, 0.41687446, 0.41499852,\n",
       "       0.41313103, 0.41127194, 0.40942122, 0.40757882, 0.40574472,\n",
       "       0.40391886, 0.40210123, 0.40029177, 0.39849046, 0.39669725,\n",
       "       0.39491212, 0.39313501, 0.3913659 , 0.38960476, 0.38785154,\n",
       "       0.3861062 , 0.38436873, 0.38263907, 0.38091719, 0.37920306,\n",
       "       0.37749665, 0.37579792, 0.37410682, 0.37242334, 0.37074744,\n",
       "       0.36907908, 0.36741822, 0.36576484, 0.3641189 , 0.36248036,\n",
       "       0.3608492 , 0.35922538, 0.35760886, 0.35599962, 0.35439763,\n",
       "       0.35280284, 0.35121522, 0.34963476, 0.3480614 , 0.34649512,\n",
       "       0.34493589, 0.34338368, 0.34183846, 0.34030018, 0.33876883,\n",
       "       0.33724437, 0.33572677, 0.334216  , 0.33271203, 0.33121483,\n",
       "       0.32972436, 0.3282406 , 0.32676352, 0.32529308, 0.32382926,\n",
       "       0.32237203, 0.32092136, 0.31947721, 0.31803956, 0.31660839,\n",
       "       0.31518365, 0.31376532, 0.31235338, 0.31094779, 0.30954852,\n",
       "       0.30815555, 0.30676885, 0.30538839, 0.30401415, 0.30264608,\n",
       "       0.30128417, 0.2999284 , 0.29857872, 0.29723511, 0.29589756,\n",
       "       0.29456602, 0.29324047, 0.29192089, 0.29060724, 0.28929951,\n",
       "       0.28799766, 0.28670167, 0.28541152, 0.28412716, 0.28284859,\n",
       "       0.28157577, 0.28030868, 0.27904729, 0.27779158, 0.27654152,\n",
       "       0.27529708, 0.27405825, 0.27282498, 0.27159727, 0.27037508,\n",
       "       0.26915839, 0.26794718, 0.26674142, 0.26554108, 0.26434615,\n",
       "       0.26315659, 0.26197239, 0.26079351, 0.25961994, 0.25845165,\n",
       "       0.25728862, 0.25613082, 0.25497823, 0.25383083, 0.25268859,\n",
       "       0.25155149, 0.25041951, 0.24929262, 0.2481708 , 0.24705404,\n",
       "       0.24594229, 0.24483555, 0.24373379, 0.24263699, 0.24154512,\n",
       "       0.24045817, 0.23937611, 0.23829892, 0.23722657, 0.23615905,\n",
       "       0.23509634, 0.2340384 , 0.23298523, 0.2319368 , 0.23089308,\n",
       "       0.22985406, 0.22881972, 0.22779003, 0.22676497, 0.22574453,\n",
       "       0.22472868, 0.2237174 , 0.22271067, 0.22170848, 0.22071079,\n",
       "       0.21971759, 0.21872886, 0.21774458, 0.21676473, 0.21578929,\n",
       "       0.21481824, 0.21385155, 0.21288922, 0.21193122, 0.21097753,\n",
       "       0.21002813, 0.20908301, 0.20814213, 0.20720549, 0.20627307,\n",
       "       0.20534484, 0.20442079, 0.20350089, 0.20258514, 0.20167351,\n",
       "       0.20076598, 0.19986253, 0.19896315, 0.19806781, 0.19717651])"
      ]
     },
     "execution_count": 31,
     "metadata": {},
     "output_type": "execute_result"
    }
   ],
   "source": [
    "# Cumulative drop in home value over time as a ratio\n",
    "cumulative_decline_forecast = np.cumprod(1 + decline_array)\n",
    "cumulative_decline_forecast"
   ]
  },
  {
   "cell_type": "code",
   "execution_count": 32,
   "id": "de4fa37c-1d46-4055-9835-06a21fbb83c6",
   "metadata": {},
   "outputs": [
    {
     "data": {
      "image/png": "[encoded data removed]",
      "text/plain": [
       "<Figure size 640x480 with 1 Axes>"
      ]
     },
     "metadata": {},
     "output_type": "display_data"
    }
   ],
   "source": [
    "# Forecast the home value over time\n",
    "home_value_forecast = cumulative_decline_forecast*home_value\n",
    "\n",
    "# Find all periods where your mortgage is underwater\n",
    "underwater = principal_remaining > home_value_forecast # when the amount of remaining mortgage to pay is greater than the current house value\n",
    "pd.value_counts(underwater)\n",
    "\n",
    "# Plot the home value vs principal remaining\n",
    "plt.plot(home_value_forecast, color='red')\n",
    "plt.plot(principal_remaining, color='blue')\n",
    "plt.legend(handles=[homevalue_plot, principal_plot], loc=2)\n",
    "plt.show()\n",
    "\n",
    "# When the blue line is above the red line, you are 'underwater'. \n",
    "# Putting more money down and taking a smaller mortgage in the first place will help you avoid this situation."
   ]
  },
  {
   "cell_type": "markdown",
   "id": "6d0b94ae-e450-4125-b873-25bb4661db8e",
   "metadata": {},
   "source": [
    "Salary and taxes\n",
    "\n",
    "You just got a new job as an entry-level Data Scientist at a technology company in New York City with a decent starting salary of $85,000 per year.\n",
    "\n",
    "Unfortunately, after state and local taxes, you can expect to be sending roughly 30% back to the government each year.\n",
    "\n",
    "You will need to calculate your monthly take home pay after taxes in order to begin budgeting."
   ]
  },
  {
   "cell_type": "code",
   "execution_count": 33,
   "id": "fe2b6bb9-0750-46ff-aa71-2707e41b3ea9",
   "metadata": {},
   "outputs": [
    {
     "name": "stdout",
     "output_type": "stream",
     "text": [
      "Salary after taxes: 59500.0\n",
      "Monthly takehome salary: 4958.33\n"
     ]
    }
   ],
   "source": [
    "# Enter your annual salary\n",
    "salary = 85000\n",
    "\n",
    "# Assume a tax rate of 30%\n",
    "tax_rate = 0.3\n",
    "# Calculate your salary after taxes\n",
    "salary_after_taxes = salary*(1-tax_rate)\n",
    "print(\"Salary after taxes: \" + str(round(salary_after_taxes, 2)))\n",
    "\n",
    "# Calculate your monthly salary after taxes\n",
    "monthly_takehome_salary = salary_after_taxes/12\n",
    "print(\"Monthly takehome salary: \" + str(round(monthly_takehome_salary, 2)))"
   ]
  },
  {
   "cell_type": "markdown",
   "id": "d6576eb1-cde9-43a3-b18e-0b9ea154f47e",
   "metadata": {},
   "source": [
    "Monthly expenses and savings\n",
    "\n",
    "In order to make it in New York City, you have decided to split a two-bedroom apartment with a friend. You will have to budget for rent, food and entertainment, but it's also a good idea to allocate an amount for unforeseen expenses each month. This unforeseen expenses budget could be used for anything ranging from new clothes or electronics to doctor appointments.\n",
    "\n",
    "Set up your monthly budget as follows:\n",
    "\n",
    "Rent: $1200 / month (Includes utilities)\n",
    "\n",
    "Food: $30 / day (On average. Includes groceries and eating out.)\n",
    "\n",
    "Entertainment: $200 / month (Movies, drinks, museums, parties…)\n",
    "\n",
    "Unforeseen Expenses: $250 / month (Stay safe, and don't drop your phone!)\n",
    "\n",
    "For this application, assume an average of 30 days per month. Whatever is left after your paying your monthly expenses will go into your savings account each month.\n"
   ]
  },
  {
   "cell_type": "code",
   "execution_count": 34,
   "id": "50fde665-83f1-4b8e-a0cb-3d84ef36a5bf",
   "metadata": {},
   "outputs": [
    {
     "name": "stdout",
     "output_type": "stream",
     "text": [
      "Monthly expenses: 2550\n",
      "Monthly savings: 2408.33\n"
     ]
    }
   ],
   "source": [
    "# Enter your monthly rent\n",
    "monthly_rent = 1200\n",
    "\n",
    "# Enter your daily food budget\n",
    "daily_food_budget = 30\n",
    "\n",
    "# Calculate your monthly food budget assuming 30 days per month\n",
    "monthly_food_budget = daily_food_budget*30\n",
    "\n",
    "# Set your monthly entertainment budget\n",
    "monthly_entertainment_budget = 200\n",
    "\n",
    "# Allocate funds for unforeseen expenses, just in case\n",
    "monthly_unforeseen_expenses = 250\n",
    "\n",
    "# Next, calculate your total monthly expenses\n",
    "monthly_expenses = monthly_rent+monthly_food_budget+monthly_entertainment_budget+monthly_unforeseen_expenses\n",
    "print(\"Monthly expenses: \" + str(round(monthly_expenses, 2)))\n",
    "\n",
    "# Finally, calculate your monthly take-home savings\n",
    "monthly_savings = monthly_takehome_salary - monthly_expenses\n",
    "print(\"Monthly savings: \" + str(round(monthly_savings, 2)))"
   ]
  },
  {
   "cell_type": "markdown",
   "id": "c343c6ba-d2f5-4864-ba59-1d11577ce3ca",
   "metadata": {},
   "source": [
    "Forecast salary growth and cost of living\n",
    "\n",
    "Due to both inflation and increased productivity from experience, you can expect your salary to grow at different rates depending on your job. Now, since you are working in a growing and in-demand career field as a Data Scientist, you can assume a steady growth in your annual salary every year based on performance.\n",
    "\n",
    "You can assume an annual salary growth rate of 5%, which means if you start at 85,000 per year, you can expect to earn over 176,000 per year after 15 years. After taxes, assuming your tax rate hasn't changed, that works out to roughly 125,000 per year, which is not unreasonable for a Data Scientist. In fact, you might even make it to that level in a few years! But just to be safe, you should be conservative with your projections.\n",
    "\n",
    "For this application, assume all inflation and salary growth happens in smaller increments on a monthly basis instead of just one large increase at the end of each year."
   ]
  },
  {
   "cell_type": "code",
   "execution_count": 35,
   "id": "c323a920-f182-42ab-8ae4-2f26877d1917",
   "metadata": {},
   "outputs": [
    {
     "data": {
      "text/plain": [
       "0.004166666666666667"
      ]
     },
     "execution_count": 35,
     "metadata": {},
     "output_type": "execute_result"
    }
   ],
   "source": [
    "# Create monthly forecasts up to 15 years from now\n",
    "forecast_months = 12*15\n",
    "\n",
    "# Set your annual salary growth rate\n",
    "annual_salary_growth = 0.05\n",
    "\n",
    "# Calculate your equivalent monthly salary growth rate (without compounding)\n",
    "monthly_salary_growth_no_comp = annual_salary_growth/12\n",
    "\n",
    "monthly_salary_growth_no_comp"
   ]
  },
  {
   "cell_type": "code",
   "execution_count": 36,
   "id": "338668d6-005b-4c3f-8547-f1e7376a61b0",
   "metadata": {},
   "outputs": [
    {
     "data": {
      "text/plain": [
       "array([1.00416667, 1.00835069, 1.01255216, 1.01677112, 1.02100767,\n",
       "       1.02526187, 1.02953379, 1.03382352, 1.03813111, 1.04245666,\n",
       "       1.04680023, 1.0511619 , 1.05554174, 1.05993983, 1.06435625,\n",
       "       1.06879106, 1.07324436, 1.07771621, 1.0822067 , 1.08671589,\n",
       "       1.09124387, 1.09579072, 1.10035652, 1.10494134, 1.10954526,\n",
       "       1.11416836, 1.11881073, 1.12347244, 1.12815358, 1.13285422,\n",
       "       1.13757444, 1.14231434, 1.14707398, 1.15185346, 1.15665284,\n",
       "       1.16147223, 1.1663117 , 1.17117133, 1.17605121, 1.18095142,\n",
       "       1.18587206, 1.19081319, 1.19577491, 1.20075731, 1.20576046,\n",
       "       1.21078446, 1.2158294 , 1.22089536, 1.22598242, 1.23109068,\n",
       "       1.23622022, 1.24137114, 1.24654352, 1.25173745, 1.25695302,\n",
       "       1.26219033, 1.26744946, 1.2727305 , 1.27803354, 1.28335868,\n",
       "       1.28870601, 1.29407561, 1.2994676 , 1.30488204, 1.31031905,\n",
       "       1.31577872, 1.32126113, 1.32676638, 1.33229458, 1.3378458 ,\n",
       "       1.34342016, 1.34901774, 1.35463865, 1.36028298, 1.36595082,\n",
       "       1.37164229, 1.37735746, 1.38309645, 1.38885935, 1.39464627,\n",
       "       1.40045729, 1.40629253, 1.41215209, 1.41803605, 1.42394454,\n",
       "       1.42987764, 1.43583546, 1.44181811, 1.44782568, 1.45385829,\n",
       "       1.45991603, 1.46599902, 1.47210735, 1.47824113, 1.48440047,\n",
       "       1.49058547, 1.49679624, 1.50303289, 1.50929553, 1.51558426,\n",
       "       1.52189919, 1.52824044, 1.53460811, 1.54100231, 1.54742315,\n",
       "       1.55387075, 1.56034521, 1.56684665, 1.57337518, 1.57993091,\n",
       "       1.58651395, 1.59312443, 1.59976245, 1.60642812, 1.61312157,\n",
       "       1.61984291, 1.62659226, 1.63336973, 1.64017543, 1.6470095 ,\n",
       "       1.65387204, 1.66076317, 1.66768302, 1.6746317 , 1.68160933,\n",
       "       1.68861603, 1.69565193, 1.70271715, 1.70981181, 1.71693602,\n",
       "       1.72408992, 1.73127363, 1.73848727, 1.74573097, 1.75300485,\n",
       "       1.76030903, 1.76764365, 1.77500884, 1.78240471, 1.78983139,\n",
       "       1.79728902, 1.80477773, 1.81229763, 1.81984887, 1.82743158,\n",
       "       1.83504588, 1.8426919 , 1.85036978, 1.85807966, 1.86582166,\n",
       "       1.87359591, 1.88140256, 1.88924174, 1.89711358, 1.90501822,\n",
       "       1.9129558 , 1.92092645, 1.92893031, 1.93696752, 1.94503821,\n",
       "       1.95314254, 1.96128063, 1.96945264, 1.97765869, 1.98589893,\n",
       "       1.99417351, 2.00248257, 2.01082625, 2.01920469, 2.02761804,\n",
       "       2.03606645, 2.04455006, 2.05306902, 2.06162347, 2.07021357,\n",
       "       2.07883946, 2.08750129, 2.09619921, 2.10493338, 2.11370393])"
      ]
     },
     "execution_count": 36,
     "metadata": {},
     "output_type": "execute_result"
    }
   ],
   "source": [
    "# Forecast the cumulative growth of your salary\n",
    "cumulative_salary_growth_forecast_no_comp = np.cumprod(np.repeat(1 + monthly_salary_growth_no_comp, forecast_months))\n",
    "cumulative_salary_growth_forecast_no_comp"
   ]
  },
  {
   "cell_type": "code",
   "execution_count": 37,
   "id": "4a8a1cc2-cbc7-4674-8ebe-a8906144f421",
   "metadata": {},
   "outputs": [
    {
     "data": {
      "text/plain": [
       "0.0040741237836483535"
      ]
     },
     "execution_count": 37,
     "metadata": {},
     "output_type": "execute_result"
    }
   ],
   "source": [
    "# Calculate monthly growth rates\n",
    "monthly_salary_growth_comp = (1 + annual_salary_growth)**(1/12) - 1\n",
    "\n",
    "monthly_salary_growth_comp"
   ]
  },
  {
   "cell_type": "code",
   "execution_count": 38,
   "id": "67a4d185-0dec-4b58-9cd4-db3660f828bf",
   "metadata": {},
   "outputs": [
    {
     "data": {
      "text/plain": [
       "array([1.        , 1.00407412, 1.00816485, 1.01227223, 1.01639636,\n",
       "       1.02053728, 1.02469508, 1.02886981, 1.03306155, 1.03727037,\n",
       "       1.04149634, 1.04573953, 1.05      , 1.05427783, 1.05857309,\n",
       "       1.06288585, 1.06721617, 1.07156415, 1.07592983, 1.0803133 ,\n",
       "       1.08471463, 1.08913389, 1.09357116, 1.0980265 , 1.1025    ,\n",
       "       1.10699172, 1.11150174, 1.11603014, 1.12057698, 1.12514235,\n",
       "       1.12972632, 1.13432897, 1.13895036, 1.14359059, 1.14824972,\n",
       "       1.15292783, 1.157625  , 1.16234131, 1.16707683, 1.17183165,\n",
       "       1.17660583, 1.18139947, 1.18621264, 1.19104542, 1.19589788,\n",
       "       1.20077012, 1.2056622 , 1.21057422, 1.21550625, 1.22045837,\n",
       "       1.22543067, 1.23042323, 1.23543612, 1.24046944, 1.24552327,\n",
       "       1.25059769, 1.25569278, 1.26080862, 1.26594531, 1.27110293,\n",
       "       1.27628156, 1.28148129, 1.2867022 , 1.29194439, 1.29720793,\n",
       "       1.30249292, 1.30779943, 1.31312757, 1.31847741, 1.32384905,\n",
       "       1.32924258, 1.33465808, 1.34009564, 1.34555536, 1.35103732,\n",
       "       1.35654161, 1.36206833, 1.36761756, 1.37318941, 1.37878395,\n",
       "       1.38440129, 1.39004151, 1.39570471, 1.40139098, 1.40710042,\n",
       "       1.41283312, 1.41858918, 1.42436869, 1.43017174, 1.43599844,\n",
       "       1.44184888, 1.44772315, 1.45362135, 1.45954358, 1.46548994,\n",
       "       1.47146053, 1.47745544, 1.48347478, 1.48951864, 1.49558712,\n",
       "       1.50168033, 1.50779836, 1.51394132, 1.5201093 , 1.52630242,\n",
       "       1.53252076, 1.53876444, 1.54503356, 1.55132822, 1.55764852,\n",
       "       1.56399457, 1.57036648, 1.57676435, 1.58318828, 1.58963839,\n",
       "       1.59611477, 1.60261754, 1.6091468 , 1.61570266, 1.62228524,\n",
       "       1.62889463, 1.63553095, 1.6421943 , 1.6488848 , 1.65560256,\n",
       "       1.66234769, 1.6691203 , 1.67592051, 1.68274841, 1.68960414,\n",
       "       1.6964878 , 1.7033995 , 1.71033936, 1.71730749, 1.72430402,\n",
       "       1.73132904, 1.73838269, 1.74546508, 1.75257632, 1.75971653,\n",
       "       1.76688584, 1.77408435, 1.78131219, 1.78856947, 1.79585633,\n",
       "       1.80317287, 1.81051922, 1.8178955 , 1.82530183, 1.83273833,\n",
       "       1.84020514, 1.84770236, 1.85523013, 1.86278856, 1.8703778 ,\n",
       "       1.87799795, 1.88564914, 1.89333151, 1.90104518, 1.90879027,\n",
       "       1.91656692, 1.92437525, 1.93221539, 1.94008748, 1.94799163,\n",
       "       1.95592799, 1.96389669, 1.97189784, 1.9799316 , 1.98799809,\n",
       "       1.99609744, 2.00422978, 2.01239526, 2.02059401, 2.02882616,\n",
       "       2.03709185, 2.04539122, 2.05372439, 2.06209152, 2.07049274])"
      ]
     },
     "execution_count": 38,
     "metadata": {},
     "output_type": "execute_result"
    }
   ],
   "source": [
    "# Initialize an array to store cumulative growth values\n",
    "cumulative_salary_growth_forecast_comp = np.zeros(forecast_months)\n",
    "\n",
    "# Set the initial value (starting at 1 to represent 100% of initial salary)\n",
    "cumulative_salary_growth_forecast_comp[0] = 1\n",
    "\n",
    "# Calculate the cumulative compounded growth iteratively\n",
    "for month in range(1, forecast_months):\n",
    "    cumulative_salary_growth_forecast_comp[month] = cumulative_salary_growth_forecast_comp[month - 1] * (1 + monthly_salary_growth_comp)\n",
    "\n",
    "cumulative_salary_growth_forecast_comp"
   ]
  },
  {
   "cell_type": "code",
   "execution_count": 39,
   "id": "4d6f53d0-5e01-4c8b-a3d9-0163a352aee2",
   "metadata": {},
   "outputs": [
    {
     "data": {
      "image/png": "[encoded data removed]",
      "text/plain": [
       "<Figure size 640x480 with 1 Axes>"
      ]
     },
     "metadata": {},
     "output_type": "display_data"
    }
   ],
   "source": [
    "# Calculate the actual salary forecast\n",
    "salary_forecast_comp = cumulative_salary_growth_forecast_comp * monthly_takehome_salary\n",
    "salary_forecast_no_comp = cumulative_salary_growth_forecast_no_comp * monthly_takehome_salary\n",
    "\n",
    "# Plot the forecasted salary\n",
    "plt.plot(salary_forecast_comp, color='blue')\n",
    "plt.plot(salary_forecast_no_comp, color='green')\n",
    "plt.show()\n",
    "\n",
    "# the cumulative growth for the compounded approach should be slightly lower than the non-compounded approach, \n",
    "# due to the more conservative (and accurate) representation of growth over time."
   ]
  },
  {
   "cell_type": "markdown",
   "id": "bc5ae5ad-9341-4d7a-b27a-28bb4a50e492",
   "metadata": {},
   "source": [
    "Forecast growing expenses due to inflation\n",
    "\n",
    "You will also assume your monthly expenses will rise by an average of 2.5% per year due to inflation. \n",
    "This will lead to higher cost of living over time, paying for the same expenses each year but at a higher price. Luckily, your salary is growing faster than inflation, which means you should have more money going into savings each month."
   ]
  },
  {
   "cell_type": "code",
   "execution_count": 40,
   "id": "939d3dc2-d3c0-4245-acd4-f2ffd4e6f2d4",
   "metadata": {},
   "outputs": [
    {
     "data": {
      "text/plain": [
       "0.002059836269842741"
      ]
     },
     "execution_count": 40,
     "metadata": {},
     "output_type": "execute_result"
    }
   ],
   "source": [
    "# Set the annual inflation rate\n",
    "annual_inflation = 0.025\n",
    "\n",
    "# Calculate the equivalent monthly inflation rate\n",
    "monthly_inflation = (1 + annual_inflation)**(1/12) - 1\n",
    "\n",
    "monthly_inflation"
   ]
  },
  {
   "cell_type": "code",
   "execution_count": 41,
   "id": "407044cc-373a-43e4-b6f5-36f0005f1548",
   "metadata": {},
   "outputs": [
    {
     "data": {
      "text/plain": [
       "array([1.00205984, 1.00412392, 1.00619225, 1.00826484, 1.0103417 ,\n",
       "       1.01242284, 1.01450826, 1.01659798, 1.01869201, 1.02079035,\n",
       "       1.02289301, 1.025     , 1.02711133, 1.02922701, 1.03134705,\n",
       "       1.03347146, 1.03560024, 1.03773341, 1.03987097, 1.04201293,\n",
       "       1.04415931, 1.04631011, 1.04846533, 1.050625  , 1.05278912,\n",
       "       1.05495769, 1.05713073, 1.05930825, 1.06149025, 1.06367674,\n",
       "       1.06586774, 1.06806326, 1.07026329, 1.07246786, 1.07467697,\n",
       "       1.07689062, 1.07910884, 1.08133163, 1.083559  , 1.08579095,\n",
       "       1.0880275 , 1.09026866, 1.09251444, 1.09476484, 1.09701987,\n",
       "       1.09927955, 1.10154389, 1.10381289, 1.10608656, 1.10836492,\n",
       "       1.11064797, 1.11293572, 1.11522819, 1.11752538, 1.1198273 ,\n",
       "       1.12213396, 1.12444537, 1.12676154, 1.12908249, 1.13140821,\n",
       "       1.13373873, 1.13607404, 1.13841417, 1.14075912, 1.1431089 ,\n",
       "       1.14546351, 1.14782298, 1.15018731, 1.1525565 , 1.15493058,\n",
       "       1.15730955, 1.15969342, 1.1620822 , 1.1644759 , 1.16687453,\n",
       "       1.1692781 , 1.17168662, 1.1741001 , 1.17651855, 1.17894199,\n",
       "       1.18137042, 1.18380385, 1.18624229, 1.18868575, 1.19113425,\n",
       "       1.19358779, 1.19604639, 1.19851005, 1.20097878, 1.2034526 ,\n",
       "       1.20593152, 1.20841554, 1.21090468, 1.21339894, 1.21589835,\n",
       "       1.2184029 , 1.22091261, 1.22342749, 1.22594755, 1.2284728 ,\n",
       "       1.23100325, 1.23353892, 1.23607981, 1.23862593, 1.24117729,\n",
       "       1.24373392, 1.2462958 , 1.24886297, 1.25143542, 1.25401318,\n",
       "       1.25659624, 1.25918462, 1.26177833, 1.26437739, 1.2669818 ,\n",
       "       1.26959158, 1.27220673, 1.27482726, 1.2774532 , 1.28008454,\n",
       "       1.28272131, 1.2853635 , 1.28801114, 1.29066424, 1.29332279,\n",
       "       1.29598683, 1.29865635, 1.30133137, 1.30401189, 1.30669795,\n",
       "       1.30938953, 1.31208666, 1.31478934, 1.31749759, 1.32021142,\n",
       "       1.32293084, 1.32565586, 1.3283865 , 1.33112275, 1.33386465,\n",
       "       1.33661219, 1.33936539, 1.34212427, 1.34488882, 1.34765908,\n",
       "       1.35043503, 1.35321671, 1.35600411, 1.35879726, 1.36159616,\n",
       "       1.36440082, 1.36721127, 1.3700275 , 1.37284953, 1.37567737,\n",
       "       1.37851104, 1.38135055, 1.38419591, 1.38704712, 1.38990421,\n",
       "       1.39276719, 1.39563606, 1.39851084, 1.40139155, 1.40427818,\n",
       "       1.40717077, 1.41006931, 1.41297382, 1.41588432, 1.41880081,\n",
       "       1.4217233 , 1.42465182, 1.42758637, 1.43052696, 1.43347362,\n",
       "       1.43642634, 1.43938514, 1.44235004, 1.44532104, 1.44829817])"
      ]
     },
     "execution_count": 41,
     "metadata": {},
     "output_type": "execute_result"
    }
   ],
   "source": [
    "# Forecast cumulative inflation over time\n",
    "cumulative_inflation_forecast = np.cumprod(np.repeat(1 + monthly_inflation, forecast_months))\n",
    "\n",
    "cumulative_inflation_forecast"
   ]
  },
  {
   "cell_type": "code",
   "execution_count": 42,
   "id": "fb72c92c-5e19-4af2-813a-c2e8a665c0c7",
   "metadata": {},
   "outputs": [
    {
     "data": {
      "image/png": "[encoded data removed]",
      "text/plain": [
       "<Figure size 640x480 with 1 Axes>"
      ]
     },
     "metadata": {},
     "output_type": "display_data"
    }
   ],
   "source": [
    "# Calculate your forecasted expenses\n",
    "expenses_forecast = monthly_expenses*cumulative_inflation_forecast\n",
    "\n",
    "# Plot the forecasted expenses\n",
    "plt.plot(expenses_forecast, color='red')\n",
    "plt.show()"
   ]
  },
  {
   "cell_type": "markdown",
   "id": "0c75b1f3-633d-4471-a33f-0692371e742f",
   "metadata": {},
   "source": [
    "Calculate your net worth\n",
    "\n",
    "Now that you have forecasted your savings and salary over time while taking career progression and inflation into account, you have constructed a time-series which you can use to calculate your cash flows.\n",
    "\n",
    "For this example, all you need to do is subtract your forecasted monthly expenses from your forecasted monthly salary. The remaining cash flow will go straight into your savings account for each month.\n",
    "\n",
    "You want to project your cumulative savings over time to see how effective your budgeting process will be given your projections."
   ]
  },
  {
   "cell_type": "code",
   "execution_count": 44,
   "id": "f011e685-90ca-457e-85a0-a45a33d30b2d",
   "metadata": {},
   "outputs": [
    {
     "data": {
      "image/png": "[encoded data removed]",
      "text/plain": [
       "<Figure size 640x480 with 1 Axes>"
      ]
     },
     "metadata": {},
     "output_type": "display_data"
    }
   ],
   "source": [
    "# Calculate your savings for each month\n",
    "savings_forecast = salary_forecast_comp - expenses_forecast\n",
    "\n",
    "# Calculate your cumulative savings over time\n",
    "cumulative_savings = np.cumsum(savings_forecast)\n",
    "\n",
    "# Plot the forecasted savings\n",
    "plt.plot(cumulative_savings, color='blue')\n",
    "plt.show()"
   ]
  },
  {
   "cell_type": "code",
   "execution_count": 45,
   "id": "bbaa12bf-b126-4cd3-9f93-323dd981ed74",
   "metadata": {},
   "outputs": [
    {
     "name": "stdout",
     "output_type": "stream",
     "text": [
      "Your final net worth: 756969.15\n"
     ]
    }
   ],
   "source": [
    "# Print the final cumulative savings after 15 years\n",
    "final_net_worth = cumulative_savings[-1]\n",
    "print(\"Your final net worth: \" + str(round(final_net_worth, 2)))"
   ]
  },
  {
   "cell_type": "markdown",
   "id": "20490dc5-ba74-4b37-b911-ec7b800f8565",
   "metadata": {},
   "source": [
    "So you want to be a millionaire?\n",
    "\n",
    "Your projections show that you can accumulate over $700,000 in just 15 years by following a strict budget and growing your salary steadily over time.\n",
    "\n",
    "But you want to be a millionaire in 15 years, retire young, sip margaritas and travel for the rest of your life. In order to do that, you're going to need to invest.\n",
    "\n",
    "Remember the .pmt() function from numpy? You can use this function to calculate how much you need to save each month in order to accumulate your desired wealth over time.\n",
    "\n",
    "You still have a lot to learn about the stock market, but your financial advisor told you that you can earn anywhere from 5-10% per year on your capital on average by investing in a low cost index fund.\n",
    "\n",
    "You know that the stock market doesn't always go up, but you will assume a modest 7% return per year, which has been the average annual return in the US stock market from 1950-2009."
   ]
  },
  {
   "cell_type": "code",
   "execution_count": 46,
   "id": "505c7387-4865-40ac-b770-1791c5c27638",
   "metadata": {},
   "outputs": [
    {
     "data": {
      "text/plain": [
       "0.005654145387405274"
      ]
     },
     "execution_count": 46,
     "metadata": {},
     "output_type": "execute_result"
    }
   ],
   "source": [
    "# Set the annual investment return to 7%\n",
    "investment_rate_annual = 0.07\n",
    "\n",
    "# Calculate the monthly investment return\n",
    "investment_rate_monthly = (1 + investment_rate_annual)**(1/12) - 1\n",
    "\n",
    "investment_rate_monthly"
   ]
  },
  {
   "cell_type": "code",
   "execution_count": 48,
   "id": "41a86b49-dd97-4856-bd8a-e28bdb010e28",
   "metadata": {},
   "outputs": [
    {
     "name": "stdout",
     "output_type": "stream",
     "text": [
      "You will have to invest $3214.35 per month to amass $1M over 15 years\n"
     ]
    }
   ],
   "source": [
    "# Calculate your required monthly investment to amass $1M\n",
    "required_investment_monthly = npf.pmt(rate=investment_rate_monthly, nper=forecast_months, pv=0, fv=-1000000)\n",
    "print(\"You will have to invest $\" + str(round(required_investment_monthly, 2)) + \" per month to amass $1M over 15 years\")"
   ]
  },
  {
   "cell_type": "markdown",
   "id": "4f049f9f-60a7-4fff-920f-f673a23005f0",
   "metadata": {},
   "source": [
    "Investing a percentage of your income (I)\n",
    "\n",
    "Unfortunately, you really can't afford to save 3,000 per month in order to amass 1,000,000 after only 15 years.\n",
    "\n",
    "But what you can do is start slowly, investing a small percentage of your take-home income each month, which should grow over time as your income grows as well.\n",
    "\n",
    "In this exercise, you will lay the foundations to simulate this investing process over time."
   ]
  },
  {
   "cell_type": "code",
   "execution_count": 53,
   "id": "fabf7f18-6ea8-4748-8b98-b246e845f376",
   "metadata": {},
   "outputs": [
    {
     "data": {
      "image/png": "[encoded data removed]",
      "text/plain": [
       "<Figure size 640x480 with 1 Axes>"
      ]
     },
     "metadata": {},
     "output_type": "display_data"
    }
   ],
   "source": [
    "monthly_investment_percentage = 0.3\n",
    "\n",
    "# Calculate your monthly deposit into your investment account\n",
    "investment_deposit_forecast = savings_forecast * monthly_investment_percentage\n",
    "\n",
    "# The rest goes into your savings account\n",
    "savings_forecast_new = savings_forecast * (1 - monthly_investment_percentage)\n",
    "\n",
    "# Calculate your cumulative savings over time\n",
    "cumulative_savings_new = np.cumsum(savings_forecast_new)\n",
    "\n",
    "# Plot your forecasted monthly savings vs investments\n",
    "plt.plot(investment_deposit_forecast, color='red')\n",
    "plt.plot(savings_forecast_new, color='blue')\n",
    "plt.legend(['investments_plot', 'savings_plot'], loc=2)\n",
    "plt.show()"
   ]
  },
  {
   "cell_type": "markdown",
   "id": "24ee8b2a-91f3-4e50-9e58-d4acb87a0acf",
   "metadata": {},
   "source": [
    "Investing a percentage of your income (II)\n",
    "\n",
    "To finish up your investment simulation, you will need to loop through each time period, calculate the growth of any investments you have already made, add your new monthly deposit, and calculate your net worth at each point in time."
   ]
  },
  {
   "cell_type": "code",
   "execution_count": 59,
   "id": "b89df48f-acb5-4df3-98ae-b223a67a9d15",
   "metadata": {},
   "outputs": [
    {
     "data": {
      "text/plain": [
       "array([  2403.08075085,   4825.17517389,   7266.40311326,   9726.88512085,\n",
       "        12206.7424604 ,  14706.09711159,  17225.0717742 ,  19763.7898722 ,\n",
       "        22322.37555803,  24900.95371668,  27499.64997002,  30118.59068099,\n",
       "        32757.90295788,  35417.71465865,  38098.15439524,  40799.35153791,\n",
       "        43521.43621963,  46264.53934045,  49028.79257194,  51814.32836164,\n",
       "        54621.27993755,  57449.78131256,  60299.96728907,  63171.97346345,\n",
       "        66065.93623068,  68981.99278892,  71920.28114416,  74880.94011484,\n",
       "        77864.10933656,  80869.92926679,  83898.5411896 ,  86950.08722039,\n",
       "        90024.71031075,  93122.55425318,  96243.76368604,  99388.48409834,\n",
       "       102556.86183467, 105749.04410014, 108965.17896531, 112205.41537119,\n",
       "       115469.90313424, 118758.79295145, 122072.23640533, 125410.3859691 ,\n",
       "       128773.39501177, 132161.41780327, 135574.60951971, 139013.12624853,\n",
       "       142477.12499378, 145966.76368139, 149482.20116448, 153023.59722866,\n",
       "       156591.11259747, 160184.90893769, 163805.14886485, 167451.99594863,\n",
       "       171125.61471837, 174826.1706686 , 178553.8302646 , 182308.76094793,\n",
       "       186091.13114214, 189901.11025834, 193738.8687009 , 197604.57787318,\n",
       "       201498.41018328, 205420.53904979, 209371.13890763, 213350.38521387,\n",
       "       217358.45445363, 221395.52414599, 225461.77284991, 229557.38017025,\n",
       "       233682.52676375, 237837.3943451 , 242022.165693  , 246237.0246563 ,\n",
       "       250482.15616013, 254757.74621212, 259063.98190859, 263401.05144081,\n",
       "       267769.14410133, 272168.45029026, 276599.16152166, 281061.47042996,\n",
       "       285555.57077636, 290081.65745534, 294639.92650114, 299230.57509434,\n",
       "       303853.80156843, 308509.80541643, 313198.78729758, 317920.949044  ,\n",
       "       322676.49366745, 327465.62536611, 332288.54953139, 337145.47275478,\n",
       "       342036.60283476, 346962.1487837 , 351922.32083486, 356917.3304494 ,\n",
       "       361947.39032343, 367012.71439509, 372113.51785169, 377250.01713688,\n",
       "       382422.42995788, 387630.97529272, 392875.87339753, 398157.34581391,\n",
       "       403475.61537626, 408830.90621926, 414223.44378529, 419653.45483194,\n",
       "       425121.1674396 , 430626.811019  , 436170.61631889, 441752.81543369,\n",
       "       447373.64181123, 453033.3302605 , 458732.11695949, 464470.23946302,\n",
       "       470247.93671065, 476065.44903463, 481923.01816791, 487820.88725211,\n",
       "       493759.30084569, 499738.50493201, 505758.74692755, 511820.27569012,\n",
       "       517923.3415271 , 524068.19620379, 530255.09295177, 536484.2864773 ,\n",
       "       542756.03296977, 549070.59011023, 555428.21707994, 561829.17456895,\n",
       "       568273.72478479, 574762.13146114, 581294.65986662, 587871.57681354,\n",
       "       594493.15066679, 601159.65135276, 607871.35036822, 614628.52078942,\n",
       "       621431.43728106, 628280.37610545, 635175.61513166, 642117.43384471,\n",
       "       649106.11335487, 656141.93640693, 663225.18738962, 670356.152345  ,\n",
       "       677535.11897793, 684762.37666564, 692038.21646728, 699362.93113357,\n",
       "       706736.81511651, 714160.16457909, 721633.27740515, 729156.45320918,\n",
       "       736729.99334631, 744354.20092221, 752029.38080316, 759755.83962616,\n",
       "       767533.88580901, 775363.82956058, 783245.98289102, 791180.65962212,\n",
       "       799168.17539766, 807208.84769386, 815302.99582988, 823450.94097836,\n",
       "       831653.00617607, 839909.51633455, 848220.79825086, 856587.1806184 ,\n",
       "       865008.99403775, 873486.57102759, 882020.24603569, 890610.35544998])"
      ]
     },
     "execution_count": 59,
     "metadata": {},
     "output_type": "execute_result"
    }
   ],
   "source": [
    "investment_portfolio = np.zeros(forecast_months)\n",
    "net_worth = np.zeros(forecast_months)\n",
    "\n",
    "# Loop through each forecast period\n",
    "for i in range(forecast_months):\n",
    "    \n",
    "    # Find the previous investment deposit amount\n",
    "    if i == 0: \n",
    "        previous_investment = 0\n",
    "    else:\n",
    "        previous_investment = investment_portfolio[i-1]\n",
    "        \n",
    "    # Calculate the value of your previous investments, which have grown\n",
    "    previous_investment_growth = previous_investment*(1 + investment_rate_monthly)\n",
    "    \n",
    "    # Add your new deposit to your investment portfolio\n",
    "    investment_portfolio[i] =  previous_investment_growth + investment_deposit_forecast[i]\n",
    "    \n",
    "    # Calculate your net worth at each point in time\n",
    "    net_worth[i] = cumulative_savings_new[i] + investment_portfolio[i]\n",
    "\n",
    "net_worth"
   ]
  },
  {
   "cell_type": "code",
   "execution_count": 62,
   "id": "32932a08-cc38-40bd-a750-777f2ad537cc",
   "metadata": {},
   "outputs": [
    {
     "data": {
      "image/png": "[encoded data removed]",
      "text/plain": [
       "<Figure size 640x480 with 1 Axes>"
      ]
     },
     "metadata": {},
     "output_type": "display_data"
    }
   ],
   "source": [
    "# Plot your forecasted cumulative savings vs investments and net worth\n",
    "# Plot your forecasted monthly savings vs investments\n",
    "plt.plot(np.cumsum(investment_deposit_forecast), color='red')\n",
    "plt.plot(np.cumsum(savings_forecast_new), color='blue')\n",
    "plt.plot(net_worth, color='green')\n",
    "plt.legend(['investments_plot', 'savings_plot','net_worth'], loc=2)\n",
    "plt.show()"
   ]
  },
  {
   "cell_type": "markdown",
   "id": "1ff82080-9659-440c-8343-a1591944fa19",
   "metadata": {},
   "source": [
    "Investing over time\n",
    "\n",
    "If you would like to accumulate 1,000,000 over 15 years, at 7% per year, you will have to invest 3214.35 per month:\n",
    "\n",
    "But what if you were willing to wait an extra 15 years, for a total of 30 years? How much will you need to invest each month?"
   ]
  },
  {
   "cell_type": "code",
   "execution_count": 64,
   "id": "7b038ef0-0009-4325-900f-8540365d0f93",
   "metadata": {},
   "outputs": [
    {
     "data": {
      "text/plain": [
       "-3214.351338524575"
      ]
     },
     "execution_count": 64,
     "metadata": {},
     "output_type": "execute_result"
    }
   ],
   "source": [
    "npf.pmt(rate=((1+0.07)**(1/12) - 1), \n",
    "       nper=15*12, pv=0, fv=1000000)"
   ]
  },
  {
   "cell_type": "code",
   "execution_count": 66,
   "id": "ec9862f5-cf03-4773-be1d-355104c5672f",
   "metadata": {},
   "outputs": [
    {
     "data": {
      "text/plain": [
       "-855.1009225937204"
      ]
     },
     "execution_count": 66,
     "metadata": {},
     "output_type": "execute_result"
    }
   ],
   "source": [
    "npf.pmt(rate=((1+0.07)**(1/12) - 1), \n",
    "       nper=30*12, pv=0, fv=1000000)\n",
    "\n",
    "# almost half of the half of the original amount"
   ]
  },
  {
   "cell_type": "markdown",
   "id": "c49beaaf-77fe-451c-bbb8-f3e01cbebbd0",
   "metadata": {},
   "source": [
    "Inflation-adjusted net worth#\n",
    "\n",
    "By saving 30% per year, your simulation shows that you can accumulate $890K. Not quite a millionaire, but not bad at all!\n",
    "\n",
    "For the sake of simplicity, let's assume you were able to save $900,000 by following your budget.\n",
    "\n",
    "But what if you retire 15 years from now? What is $900,000 going to be truly worth 15 years from now?"
   ]
  },
  {
   "cell_type": "code",
   "execution_count": 68,
   "id": "fe68802d-064c-4895-97e0-73ef7869dc7d",
   "metadata": {},
   "outputs": [
    {
     "name": "stdout",
     "output_type": "stream",
     "text": [
      "Your inflation-adjusted net worth: $621419.0\n"
     ]
    }
   ],
   "source": [
    "# Set your future net worth\n",
    "future_net_worth = 900000\n",
    "\n",
    "# Set the annual inflation rate to 2.5%\n",
    "annual_inflation = 0.025\n",
    "\n",
    "# Calculate the present value of your terminal wealth over 15 years\n",
    "inflation_adjusted_net_worth = npf.pv(rate=annual_inflation, nper=15, pmt=0, fv=-1*future_net_worth)\n",
    "print(\"Your inflation-adjusted net worth: $\" + str(round(inflation_adjusted_net_worth, 2)))"
   ]
  },
  {
   "cell_type": "code",
   "execution_count": null,
   "id": "c6c44a75-1f6e-405e-9d36-10a4afb260e3",
   "metadata": {},
   "outputs": [],
   "source": []
  },
  {
   "cell_type": "code",
   "execution_count": null,
   "id": "4cab9475-d204-431f-8df6-e1b9a74cd612",
   "metadata": {},
   "outputs": [],
   "source": []
  },
  {
   "cell_type": "code",
   "execution_count": null,
   "id": "a47246da-9bac-400a-90ae-4de91f39036f",
   "metadata": {},
   "outputs": [],
   "source": []
  },
  {
   "cell_type": "markdown",
   "id": "148b05eb-b628-44fb-adca-792d0f3a19e1",
   "metadata": {},
   "source": []
  }
 ],
 "metadata": {
  "kernelspec": {
   "display_name": "Python 3 (ipykernel)",
   "language": "python",
   "name": "python3"
  },
  "language_info": {
   "codemirror_mode": {
    "name": "ipython",
    "version": 3
   },
   "file_extension": ".py",
   "mimetype": "text/x-python",
   "name": "python",
   "nbconvert_exporter": "python",
   "pygments_lexer": "ipython3",
   "version": "3.10.10"
  }
 },
 "nbformat": 4,
 "nbformat_minor": 5
}
