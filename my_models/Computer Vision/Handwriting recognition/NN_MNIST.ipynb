{
 "cells": [
  {
   "cell_type": "code",
   "execution_count": 74,
   "id": "b2be278c-6ba3-49cd-b01d-b0689460dfa9",
   "metadata": {},
   "outputs": [],
   "source": [
    "import tensorflow as tf\n",
    "import numpy as np\n",
    "import matplotlib.pyplot as plt\n",
    "from tensorflow.keras.callbacks import EarlyStopping\n",
    "from tensorflow.keras.utils import to_categorical\n",
    "\n",
    "(x_train, y_train), (x_test, y_test) = tf.keras.datasets.mnist.load_data()"
   ]
  },
  {
   "cell_type": "code",
   "execution_count": 55,
   "id": "0fe881e4-2841-472a-9f65-d95564d10479",
   "metadata": {},
   "outputs": [],
   "source": [
    "n_features = x_train.shape[1]*x_train.shape[2]\n",
    "n_classes = len(np.unique(y_train))\n",
    "batch_size = 100\n",
    "learning_rate = 0.01"
   ]
  },
  {
   "cell_type": "code",
   "execution_count": 56,
   "id": "bfe53996-af5d-4849-8b66-cbcb5c933eeb",
   "metadata": {},
   "outputs": [
    {
     "data": {
      "image/png": "[encoded data removed]",
      "text/plain": [
       "<Figure size 1000x500 with 10 Axes>"
      ]
     },
     "metadata": {},
     "output_type": "display_data"
    }
   ],
   "source": [
    "\n",
    "# create a figure with 10 subplots\n",
    "fig, axs = plt.subplots(2, 5, figsize=(10, 5))\n",
    "axs = axs.ravel()\n",
    "\n",
    "# loop over the first 10 images in the dataset\n",
    "for i in range(10):\n",
    "    # plot the image\n",
    "    axs[i].imshow(x_train[i], cmap='gray')\n",
    "    axs[i].set_title(\"Label = {}\".format(y_train[i]))\n",
    "    axs[i].axis('off')\n",
    "\n",
    "# show the plot\n",
    "plt.show()"
   ]
  },
  {
   "cell_type": "code",
   "execution_count": 81,
   "id": "61516797-05bc-41f4-b945-2655eb03a3f7",
   "metadata": {},
   "outputs": [
    {
     "name": "stdout",
     "output_type": "stream",
     "text": [
      "WARNING:tensorflow:From C:\\Users\\Alienware\\AppData\\Local\\Temp\\ipykernel_20764\\3121909986.py:1: is_gpu_available (from tensorflow.python.framework.test_util) is deprecated and will be removed in a future version.\n",
      "Instructions for updating:\n",
      "Use `tf.config.list_physical_devices('GPU')` instead.\n",
      "Are there GPUs Available:  True\n",
      "Num GPUs Available:  1\n",
      "GPUs Device Name:  /device:GPU:0\n",
      "Is built with Cuda:  True\n"
     ]
    }
   ],
   "source": [
    "print(\"Are there GPUs Available: \",tf.test.is_gpu_available())\n",
    "print(\"Num GPUs Available: \", len(tf.config.list_physical_devices('GPU')))\n",
    "print(\"GPUs Device Name: \",tf.test.gpu_device_name())\n",
    "print(\"Is built with Cuda: \",tf.test.is_built_with_cuda())"
   ]
  },
  {
   "cell_type": "code",
   "execution_count": 88,
   "id": "05e5cd6c-c2bb-442f-986c-df1109232228",
   "metadata": {},
   "outputs": [
    {
     "name": "stdout",
     "output_type": "stream",
     "text": [
      "Model: \"sequential_4\"\n",
      "_________________________________________________________________\n",
      " Layer (type)                Output Shape              Param #   \n",
      "=================================================================\n",
      " dense_13 (Dense)            (None, 128)               100480    \n",
      "                                                                 \n",
      " dense_14 (Dense)            (None, 128)               16512     \n",
      "                                                                 \n",
      " dense_15 (Dense)            (None, 10)                1290      \n",
      "                                                                 \n",
      "=================================================================\n",
      "Total params: 118,282\n",
      "Trainable params: 118,282\n",
      "Non-trainable params: 0\n",
      "_________________________________________________________________\n"
     ]
    }
   ],
   "source": [
    "model = tf.keras.models.Sequential()\n",
    "model.add(tf.keras.layers.Dense(units=128, \n",
    "                                activation='relu', \n",
    "                                input_shape=(784,), # 28x28 input pixels (to reshape accordingly)\n",
    "                                kernel_initializer='glorot_uniform')) #uniform distribution weights initialization\n",
    "model.add(tf.keras.layers.Dense(128))\n",
    "# model.add(tf.keras.layers.Dropout(0.5))\n",
    "model.add(tf.keras.layers.Dense(10, activation='softmax')) # 10 numbers output (to one-hot encode accordingly)\n",
    "model.summary()"
   ]
  },
  {
   "cell_type": "code",
   "execution_count": 89,
   "id": "76fe75f9-5f2b-4e1b-bc61-15740294b331",
   "metadata": {},
   "outputs": [
    {
     "name": "stdout",
     "output_type": "stream",
     "text": [
      "Epoch 1/30\n",
      "2143/2143 [==============================] - 11s 5ms/step - loss: 1.8193 - accuracy: 0.8562 - precision_19: 0.8751 - recall_19: 0.8427\n",
      "Epoch 2/30\n",
      "2143/2143 [==============================] - 11s 5ms/step - loss: 0.4964 - accuracy: 0.8935 - precision_19: 0.9361 - recall_19: 0.8651\n",
      "Epoch 3/30\n",
      "2143/2143 [==============================] - 11s 5ms/step - loss: 0.5168 - accuracy: 0.8930 - precision_19: 0.9562 - recall_19: 0.8538\n",
      "Epoch 4/30\n",
      "2143/2143 [==============================] - 11s 5ms/step - loss: 0.4678 - accuracy: 0.9023 - precision_19: 0.9630 - recall_19: 0.8685\n",
      "Epoch 5/30\n",
      "2143/2143 [==============================] - 11s 5ms/step - loss: 0.4092 - accuracy: 0.9109 - precision_19: 0.9662 - recall_19: 0.8800\n",
      "Epoch 6/30\n",
      "2143/2143 [==============================] - 11s 5ms/step - loss: 0.3438 - accuracy: 0.9247 - precision_19: 0.9691 - recall_19: 0.8982\n",
      "Epoch 7/30\n",
      "2143/2143 [==============================] - 11s 5ms/step - loss: 0.2855 - accuracy: 0.9341 - precision_19: 0.9674 - recall_19: 0.9127\n",
      "Epoch 8/30\n",
      "2143/2143 [==============================] - 12s 5ms/step - loss: 0.2239 - accuracy: 0.9455 - precision_19: 0.9690 - recall_19: 0.9296\n",
      "Epoch 9/30\n",
      "2143/2143 [==============================] - 11s 5ms/step - loss: 0.2006 - accuracy: 0.9495 - precision_19: 0.9674 - recall_19: 0.9378\n",
      "Epoch 10/30\n",
      "2143/2143 [==============================] - 11s 5ms/step - loss: 0.1816 - accuracy: 0.9535 - precision_19: 0.9681 - recall_19: 0.9439\n",
      "Epoch 11/30\n",
      "2143/2143 [==============================] - 11s 5ms/step - loss: 0.1683 - accuracy: 0.9571 - precision_19: 0.9703 - recall_19: 0.9484\n",
      "Epoch 12/30\n",
      "2143/2143 [==============================] - 12s 5ms/step - loss: 0.1640 - accuracy: 0.9574 - precision_19: 0.9712 - recall_19: 0.9495\n",
      "Epoch 13/30\n",
      "2143/2143 [==============================] - 12s 6ms/step - loss: 0.1531 - accuracy: 0.9596 - precision_19: 0.9723 - recall_19: 0.9522\n",
      "Epoch 14/30\n",
      "2143/2143 [==============================] - 12s 6ms/step - loss: 0.1599 - accuracy: 0.9597 - precision_19: 0.9719 - recall_19: 0.9523\n",
      "Epoch 15/30\n",
      "2143/2143 [==============================] - 12s 6ms/step - loss: 0.1414 - accuracy: 0.9624 - precision_19: 0.9740 - recall_19: 0.9557\n",
      "Epoch 16/30\n",
      "2143/2143 [==============================] - 12s 6ms/step - loss: 0.1461 - accuracy: 0.9620 - precision_19: 0.9732 - recall_19: 0.9548\n",
      "Epoch 17/30\n",
      "2143/2143 [==============================] - 12s 6ms/step - loss: 0.1381 - accuracy: 0.9649 - precision_19: 0.9757 - recall_19: 0.9584\n",
      "Epoch 18/30\n",
      "2143/2143 [==============================] - 11s 5ms/step - loss: 0.1372 - accuracy: 0.9642 - precision_19: 0.9759 - recall_19: 0.9577\n",
      "Epoch 19/30\n",
      "2143/2143 [==============================] - 11s 5ms/step - loss: 0.1361 - accuracy: 0.9649 - precision_19: 0.9755 - recall_19: 0.9587\n",
      "Epoch 20/30\n",
      "2143/2143 [==============================] - 11s 5ms/step - loss: 0.1290 - accuracy: 0.9664 - precision_19: 0.9767 - recall_19: 0.9603\n",
      "Epoch 21/30\n",
      "2143/2143 [==============================] - 12s 5ms/step - loss: 0.1296 - accuracy: 0.9668 - precision_19: 0.9772 - recall_19: 0.9606\n",
      "Epoch 22/30\n",
      "2143/2143 [==============================] - 11s 5ms/step - loss: 0.1339 - accuracy: 0.9663 - precision_19: 0.9771 - recall_19: 0.9601\n",
      "Epoch 23/30\n",
      "2143/2143 [==============================] - 11s 5ms/step - loss: 0.1210 - accuracy: 0.9683 - precision_19: 0.9780 - recall_19: 0.9628\n",
      "Epoch 24/30\n",
      "2143/2143 [==============================] - 11s 5ms/step - loss: 0.1259 - accuracy: 0.9679 - precision_19: 0.9782 - recall_19: 0.9614\n",
      "Epoch 25/30\n",
      "2143/2143 [==============================] - 11s 5ms/step - loss: 0.1238 - accuracy: 0.9686 - precision_19: 0.9788 - recall_19: 0.9625\n",
      "Epoch 26/30\n",
      "2143/2143 [==============================] - 11s 5ms/step - loss: 0.1274 - accuracy: 0.9682 - precision_19: 0.9783 - recall_19: 0.9626\n"
     ]
    }
   ],
   "source": [
    "model.compile(loss='categorical_crossentropy', \n",
    "              optimizer='adam', \n",
    "              metrics=['accuracy', tf.keras.metrics.Precision(), tf.keras.metrics.Recall()])\n",
    "\n",
    "early_stopping_monitor = EarlyStopping(monitor='loss', patience=3)\n",
    "\n",
    "x_train_resh = x_train.reshape(-1, 784)\n",
    "y_train_ohe = to_categorical(y_train, num_classes=10)\n",
    "\n",
    "\n",
    "history = model.fit(x_train_resh,\n",
    "                    y_train_ohe,\n",
    "                    epochs=30,\n",
    "                    batch_size = 28,\n",
    "                    callbacks=[early_stopping_monitor])\n"
   ]
  },
  {
   "cell_type": "code",
   "execution_count": 127,
   "id": "854cfcb4-8ee8-46f0-966a-7aae9358c7dc",
   "metadata": {},
   "outputs": [
    {
     "name": "stdout",
     "output_type": "stream",
     "text": [
      "Model: \"sequential_7\"\n",
      "_________________________________________________________________\n",
      " Layer (type)                Output Shape              Param #   \n",
      "=================================================================\n",
      " dense_23 (Dense)            (None, 16)                12560     \n",
      "                                                                 \n",
      " dense_24 (Dense)            (None, 100)               1700      \n",
      "                                                                 \n",
      " dropout_3 (Dropout)         (None, 100)               0         \n",
      "                                                                 \n",
      " dense_25 (Dense)            (None, 10)                1010      \n",
      "                                                                 \n",
      "=================================================================\n",
      "Total params: 15,270\n",
      "Trainable params: 15,270\n",
      "Non-trainable params: 0\n",
      "_________________________________________________________________\n"
     ]
    }
   ],
   "source": [
    "model1 = tf.keras.models.Sequential()\n",
    "model1.add(tf.keras.layers.Dense(units=16, \n",
    "                                activation='relu', \n",
    "                                input_shape=(784,), # 28x28 input pixels (to reshape accordingly)\n",
    "                                kernel_initializer='glorot_uniform')) #uniform distribution weights initialization\n",
    "model1.add(tf.keras.layers.Dense(100))\n",
    "model1.add(tf.keras.layers.Dropout(0.3))\n",
    "model1.add(tf.keras.layers.Dense(10, activation='softmax')) # 10 numbers output (to one-hot encode accordingly)\n",
    "model1.summary()"
   ]
  },
  {
   "cell_type": "code",
   "execution_count": 128,
   "id": "3c7b03ea-0c5f-46df-8a40-e411a4ba1aaf",
   "metadata": {},
   "outputs": [
    {
     "name": "stdout",
     "output_type": "stream",
     "text": [
      "Epoch 1/70\n",
      "154/154 [==============================] - 1s 5ms/step - loss: 3.9324 - accuracy: 0.1353 - precision_23: 0.4253 - recall_23: 0.0366\n",
      "Epoch 2/70\n",
      "154/154 [==============================] - 1s 5ms/step - loss: 2.0837 - accuracy: 0.1939 - precision_23: 0.9674 - recall_23: 0.0909\n",
      "Epoch 3/70\n",
      "154/154 [==============================] - 1s 5ms/step - loss: 2.0414 - accuracy: 0.1998 - precision_23: 0.9761 - recall_23: 0.1000\n",
      "Epoch 4/70\n",
      "154/154 [==============================] - 1s 5ms/step - loss: 2.0273 - accuracy: 0.2035 - precision_23: 0.9785 - recall_23: 0.1015\n",
      "Epoch 5/70\n",
      "154/154 [==============================] - 1s 5ms/step - loss: 2.0207 - accuracy: 0.2050 - precision_23: 0.9786 - recall_23: 0.1031\n",
      "Epoch 6/70\n",
      "154/154 [==============================] - 1s 5ms/step - loss: 2.0111 - accuracy: 0.2028 - precision_23: 0.9795 - recall_23: 0.1042\n",
      "Epoch 7/70\n",
      "154/154 [==============================] - 1s 5ms/step - loss: 2.0060 - accuracy: 0.2063 - precision_23: 0.9852 - recall_23: 0.1044\n",
      "Epoch 8/70\n",
      "154/154 [==============================] - 1s 5ms/step - loss: 2.0024 - accuracy: 0.2061 - precision_23: 0.9828 - recall_23: 0.1055\n",
      "Epoch 9/70\n",
      "154/154 [==============================] - 1s 5ms/step - loss: 1.9967 - accuracy: 0.2061 - precision_23: 0.9841 - recall_23: 0.1059\n",
      "Epoch 10/70\n",
      "154/154 [==============================] - 1s 5ms/step - loss: 1.9955 - accuracy: 0.2069 - precision_23: 0.9827 - recall_23: 0.1060\n",
      "Epoch 11/70\n",
      "154/154 [==============================] - 1s 5ms/step - loss: 1.9928 - accuracy: 0.2066 - precision_23: 0.9804 - recall_23: 0.1067\n",
      "Epoch 12/70\n",
      "154/154 [==============================] - 1s 5ms/step - loss: 1.9895 - accuracy: 0.2081 - precision_23: 0.9747 - recall_23: 0.1068\n",
      "Epoch 13/70\n",
      "154/154 [==============================] - 1s 5ms/step - loss: 1.9880 - accuracy: 0.2098 - precision_23: 0.9762 - recall_23: 0.1074\n",
      "Epoch 14/70\n",
      "154/154 [==============================] - 1s 5ms/step - loss: 1.9808 - accuracy: 0.2103 - precision_23: 0.9628 - recall_23: 0.1083\n",
      "Epoch 15/70\n",
      "154/154 [==============================] - 1s 5ms/step - loss: 1.9651 - accuracy: 0.2254 - precision_23: 0.9179 - recall_23: 0.1173\n",
      "Epoch 16/70\n",
      "154/154 [==============================] - 1s 5ms/step - loss: 1.8495 - accuracy: 0.2858 - precision_23: 0.8832 - recall_23: 0.1690\n",
      "Epoch 17/70\n",
      "154/154 [==============================] - 1s 5ms/step - loss: 1.7712 - accuracy: 0.3178 - precision_23: 0.8608 - recall_23: 0.1892\n",
      "Epoch 18/70\n",
      "154/154 [==============================] - 1s 5ms/step - loss: 1.6772 - accuracy: 0.3422 - precision_23: 0.8638 - recall_23: 0.1788\n",
      "Epoch 19/70\n",
      "154/154 [==============================] - 1s 5ms/step - loss: 1.5684 - accuracy: 0.3626 - precision_23: 0.8961 - recall_23: 0.1693\n",
      "Epoch 20/70\n",
      "154/154 [==============================] - 1s 5ms/step - loss: 1.5290 - accuracy: 0.3728 - precision_23: 0.9111 - recall_23: 0.1701\n",
      "Epoch 21/70\n",
      "154/154 [==============================] - 1s 5ms/step - loss: 1.4959 - accuracy: 0.3772 - precision_23: 0.9115 - recall_23: 0.1717\n",
      "Epoch 22/70\n",
      "154/154 [==============================] - 1s 5ms/step - loss: 1.4648 - accuracy: 0.3850 - precision_23: 0.9019 - recall_23: 0.1773\n",
      "Epoch 23/70\n",
      "154/154 [==============================] - 1s 5ms/step - loss: 1.4170 - accuracy: 0.3976 - precision_23: 0.8766 - recall_23: 0.2018\n",
      "Epoch 24/70\n",
      "154/154 [==============================] - 1s 5ms/step - loss: 1.3636 - accuracy: 0.4178 - precision_23: 0.8822 - recall_23: 0.2352\n",
      "Epoch 25/70\n",
      "154/154 [==============================] - 1s 5ms/step - loss: 1.3292 - accuracy: 0.4350 - precision_23: 0.8975 - recall_23: 0.2485\n",
      "Epoch 26/70\n",
      "154/154 [==============================] - 1s 5ms/step - loss: 1.2229 - accuracy: 0.4988 - precision_23: 0.8533 - recall_23: 0.3012\n",
      "Epoch 27/70\n",
      "154/154 [==============================] - 1s 5ms/step - loss: 1.1327 - accuracy: 0.5347 - precision_23: 0.8632 - recall_23: 0.3187\n",
      "Epoch 28/70\n",
      "154/154 [==============================] - 1s 5ms/step - loss: 1.0824 - accuracy: 0.5794 - precision_23: 0.8310 - recall_23: 0.3477\n",
      "Epoch 29/70\n",
      "154/154 [==============================] - 1s 5ms/step - loss: 1.0299 - accuracy: 0.6107 - precision_23: 0.8053 - recall_23: 0.3920\n",
      "Epoch 30/70\n",
      "154/154 [==============================] - 1s 5ms/step - loss: 0.9852 - accuracy: 0.6377 - precision_23: 0.7906 - recall_23: 0.4404\n",
      "Epoch 31/70\n",
      "154/154 [==============================] - 1s 5ms/step - loss: 0.9556 - accuracy: 0.6712 - precision_23: 0.7818 - recall_23: 0.5228\n",
      "Epoch 32/70\n",
      "154/154 [==============================] - 1s 5ms/step - loss: 0.9118 - accuracy: 0.6984 - precision_23: 0.8073 - recall_23: 0.5609\n",
      "Epoch 33/70\n",
      "154/154 [==============================] - 1s 5ms/step - loss: 0.8945 - accuracy: 0.7089 - precision_23: 0.8147 - recall_23: 0.5738\n",
      "Epoch 34/70\n",
      "154/154 [==============================] - 1s 5ms/step - loss: 0.8747 - accuracy: 0.7182 - precision_23: 0.8236 - recall_23: 0.5833\n",
      "Epoch 35/70\n",
      "154/154 [==============================] - 1s 5ms/step - loss: 0.8725 - accuracy: 0.7168 - precision_23: 0.8236 - recall_23: 0.5850\n",
      "Epoch 36/70\n",
      "154/154 [==============================] - 1s 5ms/step - loss: 0.8667 - accuracy: 0.7196 - precision_23: 0.8252 - recall_23: 0.5891\n",
      "Epoch 37/70\n",
      "154/154 [==============================] - 1s 5ms/step - loss: 0.8602 - accuracy: 0.7215 - precision_23: 0.8278 - recall_23: 0.5870\n",
      "Epoch 38/70\n",
      "154/154 [==============================] - 1s 5ms/step - loss: 0.8594 - accuracy: 0.7220 - precision_23: 0.8280 - recall_23: 0.5882\n",
      "Epoch 39/70\n",
      "154/154 [==============================] - 1s 5ms/step - loss: 0.8578 - accuracy: 0.7227 - precision_23: 0.8271 - recall_23: 0.5912\n",
      "Epoch 40/70\n",
      "154/154 [==============================] - 1s 5ms/step - loss: 0.8526 - accuracy: 0.7243 - precision_23: 0.8318 - recall_23: 0.5939\n",
      "Epoch 41/70\n",
      "154/154 [==============================] - 1s 5ms/step - loss: 0.8411 - accuracy: 0.7282 - precision_23: 0.8301 - recall_23: 0.6035\n",
      "Epoch 42/70\n",
      "154/154 [==============================] - 1s 5ms/step - loss: 0.8264 - accuracy: 0.7377 - precision_23: 0.8212 - recall_23: 0.6444\n",
      "Epoch 43/70\n",
      "154/154 [==============================] - 1s 5ms/step - loss: 0.7777 - accuracy: 0.7621 - precision_23: 0.8199 - recall_23: 0.6972\n",
      "Epoch 44/70\n",
      "154/154 [==============================] - 1s 5ms/step - loss: 0.7089 - accuracy: 0.7849 - precision_23: 0.8318 - recall_23: 0.7299\n",
      "Epoch 45/70\n",
      "154/154 [==============================] - 1s 5ms/step - loss: 0.6807 - accuracy: 0.7930 - precision_23: 0.8384 - recall_23: 0.7398\n",
      "Epoch 46/70\n",
      "154/154 [==============================] - 1s 5ms/step - loss: 0.6556 - accuracy: 0.8031 - precision_23: 0.8462 - recall_23: 0.7502\n",
      "Epoch 47/70\n",
      "154/154 [==============================] - 1s 5ms/step - loss: 0.6471 - accuracy: 0.8051 - precision_23: 0.8475 - recall_23: 0.7563\n",
      "Epoch 48/70\n",
      "154/154 [==============================] - 1s 5ms/step - loss: 0.6444 - accuracy: 0.8051 - precision_23: 0.8486 - recall_23: 0.7552\n",
      "Epoch 49/70\n",
      "154/154 [==============================] - 1s 5ms/step - loss: 0.6273 - accuracy: 0.8090 - precision_23: 0.8528 - recall_23: 0.7622\n",
      "Epoch 50/70\n",
      "154/154 [==============================] - 1s 5ms/step - loss: 0.6213 - accuracy: 0.8104 - precision_23: 0.8543 - recall_23: 0.7651\n",
      "Epoch 51/70\n",
      "154/154 [==============================] - 1s 5ms/step - loss: 0.6112 - accuracy: 0.8145 - precision_23: 0.8562 - recall_23: 0.7688\n",
      "Epoch 52/70\n",
      "154/154 [==============================] - 1s 5ms/step - loss: 0.6031 - accuracy: 0.8159 - precision_23: 0.8571 - recall_23: 0.7700\n",
      "Epoch 53/70\n",
      "154/154 [==============================] - 1s 5ms/step - loss: 0.5976 - accuracy: 0.8178 - precision_23: 0.8570 - recall_23: 0.7744\n",
      "Epoch 54/70\n",
      "154/154 [==============================] - 1s 5ms/step - loss: 0.5881 - accuracy: 0.8193 - precision_23: 0.8592 - recall_23: 0.7788\n",
      "Epoch 55/70\n",
      "154/154 [==============================] - 1s 5ms/step - loss: 0.5879 - accuracy: 0.8188 - precision_23: 0.8578 - recall_23: 0.7787\n",
      "Epoch 56/70\n",
      "154/154 [==============================] - 1s 5ms/step - loss: 0.5756 - accuracy: 0.8254 - precision_23: 0.8631 - recall_23: 0.7854\n",
      "Epoch 57/70\n",
      "154/154 [==============================] - 1s 5ms/step - loss: 0.5753 - accuracy: 0.8258 - precision_23: 0.8629 - recall_23: 0.7868\n",
      "Epoch 58/70\n",
      "154/154 [==============================] - 1s 5ms/step - loss: 0.5722 - accuracy: 0.8262 - precision_23: 0.8623 - recall_23: 0.7889\n",
      "Epoch 59/70\n",
      "154/154 [==============================] - 1s 5ms/step - loss: 0.5732 - accuracy: 0.8257 - precision_23: 0.8611 - recall_23: 0.7869\n",
      "Epoch 60/70\n",
      "154/154 [==============================] - 1s 5ms/step - loss: 0.5693 - accuracy: 0.8290 - precision_23: 0.8624 - recall_23: 0.7933\n",
      "Epoch 61/70\n",
      "154/154 [==============================] - 1s 5ms/step - loss: 0.5623 - accuracy: 0.8306 - precision_23: 0.8650 - recall_23: 0.7956\n",
      "Epoch 62/70\n",
      "154/154 [==============================] - 1s 5ms/step - loss: 0.5636 - accuracy: 0.8308 - precision_23: 0.8634 - recall_23: 0.7953\n",
      "Epoch 63/70\n",
      "154/154 [==============================] - 1s 5ms/step - loss: 0.5596 - accuracy: 0.8336 - precision_23: 0.8654 - recall_23: 0.7988\n",
      "Epoch 64/70\n",
      "154/154 [==============================] - 1s 5ms/step - loss: 0.5525 - accuracy: 0.8364 - precision_23: 0.8668 - recall_23: 0.8048\n",
      "Epoch 65/70\n",
      "154/154 [==============================] - 1s 5ms/step - loss: 0.5327 - accuracy: 0.8436 - precision_23: 0.8720 - recall_23: 0.8138\n",
      "Epoch 66/70\n",
      "154/154 [==============================] - 1s 5ms/step - loss: 0.5214 - accuracy: 0.8484 - precision_23: 0.8758 - recall_23: 0.8213\n",
      "Epoch 67/70\n",
      "154/154 [==============================] - 1s 5ms/step - loss: 0.5098 - accuracy: 0.8538 - precision_23: 0.8798 - recall_23: 0.8280\n",
      "Epoch 68/70\n",
      "154/154 [==============================] - 1s 5ms/step - loss: 0.4953 - accuracy: 0.8572 - precision_23: 0.8829 - recall_23: 0.8320\n",
      "Epoch 69/70\n",
      "154/154 [==============================] - 1s 5ms/step - loss: 0.4967 - accuracy: 0.8571 - precision_23: 0.8833 - recall_23: 0.8324\n",
      "Epoch 70/70\n",
      "154/154 [==============================] - 1s 5ms/step - loss: 0.4819 - accuracy: 0.8622 - precision_23: 0.8879 - recall_23: 0.8378\n"
     ]
    }
   ],
   "source": [
    "model1.compile(loss='categorical_crossentropy', \n",
    "              optimizer='adam', \n",
    "              metrics=['accuracy', tf.keras.metrics.Precision(), tf.keras.metrics.Recall()])\n",
    "\n",
    "early_stopping_monitor = EarlyStopping(monitor='accuracy', patience=3)\n",
    "\n",
    "x_train_resh = x_train.reshape(-1, 784)\n",
    "y_train_ohe = to_categorical(y_train, num_classes=10)\n",
    "\n",
    "\n",
    "history = model1.fit(x_train_resh,\n",
    "                    y_train_ohe,\n",
    "                    epochs=70,\n",
    "                    batch_size = 392,\n",
    "                    callbacks=[early_stopping_monitor])"
   ]
  },
  {
   "cell_type": "code",
   "execution_count": 133,
   "id": "434921b6-07a8-41e5-b213-ab8c2deb176c",
   "metadata": {},
   "outputs": [
    {
     "name": "stdout",
     "output_type": "stream",
     "text": [
      "Model: \"sequential_8\"\n",
      "_________________________________________________________________\n",
      " Layer (type)                Output Shape              Param #   \n",
      "=================================================================\n",
      " dense_26 (Dense)            (None, 64)                50240     \n",
      "                                                                 \n",
      " dense_27 (Dense)            (None, 80)                5200      \n",
      "                                                                 \n",
      " dense_28 (Dense)            (None, 20)                1620      \n",
      "                                                                 \n",
      " dropout_4 (Dropout)         (None, 20)                0         \n",
      "                                                                 \n",
      " dense_29 (Dense)            (None, 10)                210       \n",
      "                                                                 \n",
      "=================================================================\n",
      "Total params: 57,270\n",
      "Trainable params: 57,270\n",
      "Non-trainable params: 0\n",
      "_________________________________________________________________\n"
     ]
    }
   ],
   "source": [
    "model2 = tf.keras.models.Sequential()\n",
    "model2.add(tf.keras.layers.Dense(units=64, \n",
    "                                activation='relu', \n",
    "                                input_shape=(784,), # 28x28 input pixels (to reshape accordingly)\n",
    "                                kernel_initializer='glorot_uniform')) #uniform distribution weights initialization\n",
    "model2.add(tf.keras.layers.Dense(80))\n",
    "model2.add(tf.keras.layers.Dense(20))\n",
    "model2.add(tf.keras.layers.Dropout(0.1))\n",
    "model2.add(tf.keras.layers.Dense(10, activation='softmax')) # 10 numbers output (to one-hot encode accordingly)\n",
    "model2.summary()"
   ]
  },
  {
   "cell_type": "code",
   "execution_count": 134,
   "id": "aef7b3cb-c122-47f0-9ee5-f4aa86d09267",
   "metadata": {},
   "outputs": [
    {
     "name": "stdout",
     "output_type": "stream",
     "text": [
      "Epoch 1/50\n",
      "307/307 [==============================] - 2s 5ms/step - loss: 4.0753 - accuracy: 0.3341 - precision_26: 0.8725 - recall_26: 0.2331\n",
      "Epoch 2/50\n",
      "307/307 [==============================] - 2s 5ms/step - loss: 1.3517 - accuracy: 0.5009 - precision_26: 0.9507 - recall_26: 0.3974\n",
      "Epoch 3/50\n",
      "307/307 [==============================] - 2s 5ms/step - loss: 1.1961 - accuracy: 0.5624 - precision_26: 0.9394 - recall_26: 0.4521\n",
      "Epoch 4/50\n",
      "307/307 [==============================] - 2s 5ms/step - loss: 1.1396 - accuracy: 0.5998 - precision_26: 0.9288 - recall_26: 0.4873\n",
      "Epoch 5/50\n",
      "307/307 [==============================] - 2s 5ms/step - loss: 0.8776 - accuracy: 0.7133 - precision_26: 0.9060 - recall_26: 0.5982\n",
      "Epoch 6/50\n",
      "307/307 [==============================] - 2s 5ms/step - loss: 0.6817 - accuracy: 0.8122 - precision_26: 0.8798 - recall_26: 0.7346\n",
      "Epoch 7/50\n",
      "307/307 [==============================] - 2s 5ms/step - loss: 0.5410 - accuracy: 0.8637 - precision_26: 0.8867 - recall_26: 0.8431\n",
      "Epoch 8/50\n",
      "307/307 [==============================] - 2s 5ms/step - loss: 0.4399 - accuracy: 0.8914 - precision_26: 0.9124 - recall_26: 0.8777\n",
      "Epoch 9/50\n",
      "307/307 [==============================] - 2s 5ms/step - loss: 0.3775 - accuracy: 0.9046 - precision_26: 0.9235 - recall_26: 0.8923\n",
      "Epoch 10/50\n",
      "307/307 [==============================] - 2s 5ms/step - loss: 0.3385 - accuracy: 0.9131 - precision_26: 0.9304 - recall_26: 0.9010\n",
      "Epoch 11/50\n",
      "307/307 [==============================] - 2s 5ms/step - loss: 0.3201 - accuracy: 0.9153 - precision_26: 0.9315 - recall_26: 0.9039\n",
      "Epoch 12/50\n",
      "307/307 [==============================] - 2s 5ms/step - loss: 0.3085 - accuracy: 0.9192 - precision_26: 0.9352 - recall_26: 0.9078\n",
      "Epoch 13/50\n",
      "307/307 [==============================] - 2s 5ms/step - loss: 0.2909 - accuracy: 0.9227 - precision_26: 0.9379 - recall_26: 0.9109\n",
      "Epoch 14/50\n",
      "307/307 [==============================] - 2s 5ms/step - loss: 0.2962 - accuracy: 0.9211 - precision_26: 0.9368 - recall_26: 0.9099\n",
      "Epoch 15/50\n",
      "307/307 [==============================] - 2s 5ms/step - loss: 0.2995 - accuracy: 0.9208 - precision_26: 0.9368 - recall_26: 0.9096\n",
      "Epoch 16/50\n",
      "307/307 [==============================] - 2s 5ms/step - loss: 0.2876 - accuracy: 0.9232 - precision_26: 0.9387 - recall_26: 0.9115\n",
      "Epoch 17/50\n",
      "307/307 [==============================] - 2s 5ms/step - loss: 0.2812 - accuracy: 0.9247 - precision_26: 0.9392 - recall_26: 0.9140\n",
      "Epoch 18/50\n",
      "307/307 [==============================] - 2s 5ms/step - loss: 0.2721 - accuracy: 0.9276 - precision_26: 0.9422 - recall_26: 0.9163\n",
      "Epoch 19/50\n",
      "307/307 [==============================] - 2s 5ms/step - loss: 0.2767 - accuracy: 0.9262 - precision_26: 0.9412 - recall_26: 0.9149\n",
      "Epoch 20/50\n",
      "307/307 [==============================] - 2s 5ms/step - loss: 0.2764 - accuracy: 0.9259 - precision_26: 0.9413 - recall_26: 0.9156\n",
      "Epoch 21/50\n",
      "307/307 [==============================] - 2s 5ms/step - loss: 0.2654 - accuracy: 0.9297 - precision_26: 0.9443 - recall_26: 0.9193\n",
      "Epoch 22/50\n",
      "307/307 [==============================] - 2s 5ms/step - loss: 0.2669 - accuracy: 0.9292 - precision_26: 0.9442 - recall_26: 0.9189\n",
      "Epoch 23/50\n",
      "307/307 [==============================] - 2s 5ms/step - loss: 0.2601 - accuracy: 0.9311 - precision_26: 0.9443 - recall_26: 0.9212\n",
      "Epoch 24/50\n",
      "307/307 [==============================] - 2s 5ms/step - loss: 0.2662 - accuracy: 0.9288 - precision_26: 0.9419 - recall_26: 0.9186\n",
      "Epoch 25/50\n",
      "307/307 [==============================] - 2s 5ms/step - loss: 0.2509 - accuracy: 0.9338 - precision_26: 0.9464 - recall_26: 0.9240\n",
      "Epoch 26/50\n",
      "307/307 [==============================] - 2s 5ms/step - loss: 0.2434 - accuracy: 0.9345 - precision_26: 0.9464 - recall_26: 0.9251\n",
      "Epoch 27/50\n",
      "307/307 [==============================] - 2s 5ms/step - loss: 0.2479 - accuracy: 0.9344 - precision_26: 0.9463 - recall_26: 0.9251\n",
      "Epoch 28/50\n",
      "307/307 [==============================] - 2s 5ms/step - loss: 0.2538 - accuracy: 0.9342 - precision_26: 0.9457 - recall_26: 0.9254\n",
      "Epoch 29/50\n",
      "307/307 [==============================] - 2s 5ms/step - loss: 0.2401 - accuracy: 0.9368 - precision_26: 0.9478 - recall_26: 0.9276\n",
      "Epoch 30/50\n",
      "307/307 [==============================] - 2s 5ms/step - loss: 0.2418 - accuracy: 0.9366 - precision_26: 0.9478 - recall_26: 0.9283\n",
      "Epoch 31/50\n",
      "307/307 [==============================] - 2s 5ms/step - loss: 0.2401 - accuracy: 0.9366 - precision_26: 0.9473 - recall_26: 0.9281\n",
      "Epoch 32/50\n",
      "307/307 [==============================] - 2s 5ms/step - loss: 0.2432 - accuracy: 0.9363 - precision_26: 0.9475 - recall_26: 0.9280\n"
     ]
    }
   ],
   "source": [
    "model2.compile(loss='categorical_crossentropy', \n",
    "              optimizer = tf.keras.optimizers.Adam(learning_rate = 0.005), \n",
    "              metrics=['accuracy', tf.keras.metrics.Precision(), tf.keras.metrics.Recall()])\n",
    "\n",
    "early_stopping_monitor = EarlyStopping(monitor='accuracy', patience=3)\n",
    "\n",
    "x_train_resh = x_train.reshape(-1, 784)\n",
    "y_train_ohe = to_categorical(y_train, num_classes=10)\n",
    "\n",
    "\n",
    "history = model2.fit(x_train_resh,\n",
    "                    y_train_ohe,\n",
    "                    epochs=50,\n",
    "                    batch_size = 196,\n",
    "                    callbacks=[early_stopping_monitor])"
   ]
  },
  {
   "cell_type": "code",
   "execution_count": 135,
   "id": "9848fcd3-8733-4fb4-a138-f549d2edb919",
   "metadata": {},
   "outputs": [
    {
     "data": {
      "text/plain": [
       "0.951"
      ]
     },
     "execution_count": 135,
     "metadata": {},
     "output_type": "execute_result"
    }
   ],
   "source": [
    "# correct = tf.equal(y_pred, y_test)\n",
    "# accuracy = tf.reduce_mean(tf.cast(correct, 'float'))\n",
    "\n",
    "y_pred_perc = model(x_test.reshape(-1,784))\n",
    "y_pred = tf.argmax(y_pred_perc, axis = 1)\n",
    "test_acc = np.mean(y_pred==y_test)\n",
    "test_acc"
   ]
  },
  {
   "cell_type": "code",
   "execution_count": 136,
   "id": "4aba2ae8-88e9-41d1-a10c-f72d54ee55aa",
   "metadata": {},
   "outputs": [
    {
     "data": {
      "text/plain": [
       "0.8601"
      ]
     },
     "execution_count": 136,
     "metadata": {},
     "output_type": "execute_result"
    }
   ],
   "source": [
    "y_pred_perc1 = model1(x_test.reshape(-1,784))\n",
    "y_pred1 = tf.argmax(y_pred_perc1, axis = 1)\n",
    "test_acc1 = np.mean(y_pred1==y_test)\n",
    "test_acc1"
   ]
  },
  {
   "cell_type": "code",
   "execution_count": 137,
   "id": "ed1a3ace-2166-4223-96ad-928231292d44",
   "metadata": {},
   "outputs": [
    {
     "data": {
      "text/plain": [
       "0.932"
      ]
     },
     "execution_count": 137,
     "metadata": {},
     "output_type": "execute_result"
    }
   ],
   "source": [
    "y_pred_perc2 = model2(x_test.reshape(-1,784))\n",
    "y_pred2 = tf.argmax(y_pred_perc2, axis = 1)\n",
    "test_acc2 = np.mean(y_pred2==y_test)\n",
    "test_acc2"
   ]
  },
  {
   "cell_type": "code",
   "execution_count": null,
   "id": "6703a08d-1aed-4954-9aef-bc98c15f5f21",
   "metadata": {},
   "outputs": [],
   "source": []
  },
  {
   "cell_type": "code",
   "execution_count": null,
   "id": "09918b52-4cb8-466e-8013-9b9cf495475a",
   "metadata": {},
   "outputs": [],
   "source": []
  },
  {
   "cell_type": "code",
   "execution_count": null,
   "id": "d3ebeacb-671d-4af5-8619-5b5749093ec0",
   "metadata": {},
   "outputs": [],
   "source": []
  }
 ],
 "metadata": {
  "kernelspec": {
   "display_name": "Py309",
   "language": "python",
   "name": "py309"
  },
  "language_info": {
   "codemirror_mode": {
    "name": "ipython",
    "version": 3
   },
   "file_extension": ".py",
   "mimetype": "text/x-python",
   "name": "python",
   "nbconvert_exporter": "python",
   "pygments_lexer": "ipython3",
   "version": "3.9.16"
  }
 },
 "nbformat": 4,
 "nbformat_minor": 5
}
