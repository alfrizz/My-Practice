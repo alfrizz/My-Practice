{
 "cells": [
  {
   "cell_type": "markdown",
   "id": "2754fe7b-3bc3-4cd3-8157-f88ba5f3a76b",
   "metadata": {},
   "source": [
    "Marble Bucket\n",
    "\n",
    "We have two buckets full of marbles. There are 30 red marbles and 10 black marbles in Bucket1 and 20 red and 20 Black marbles in Bucket2. Your friend secretly pulls a marble from one of the two buckets and shows you that the marble is red.\n",
    "\n",
    "What is the probability that it was pulled from Bucket #1?"
   ]
  },
  {
   "cell_type": "code",
   "execution_count": 6,
   "id": "9acbb89f-2c3a-486b-ac27-e922bd343f46",
   "metadata": {},
   "outputs": [
    {
     "data": {
      "text/plain": [
       "0.5"
      ]
     },
     "execution_count": 6,
     "metadata": {},
     "output_type": "execute_result"
    }
   ],
   "source": [
    "n_B1 = 30+10\n",
    "n_B2 = 20+20\n",
    "\n",
    "P_B1 = n_B1 / (n_B1 + n_B2)\n",
    "P_B1"
   ]
  },
  {
   "cell_type": "code",
   "execution_count": 7,
   "id": "f727383d-bbfc-4ed2-9fee-3149d3cff45f",
   "metadata": {},
   "outputs": [
    {
     "data": {
      "text/plain": [
       "0.75"
      ]
     },
     "execution_count": 7,
     "metadata": {},
     "output_type": "execute_result"
    }
   ],
   "source": [
    "P_red_B1 = 30 / n_B1\n",
    "P_red_B1"
   ]
  },
  {
   "cell_type": "code",
   "execution_count": 8,
   "id": "6a5b5cab-86e5-461d-aca4-ae79e49e349a",
   "metadata": {},
   "outputs": [
    {
     "data": {
      "text/plain": [
       "0.625"
      ]
     },
     "execution_count": 8,
     "metadata": {},
     "output_type": "execute_result"
    }
   ],
   "source": [
    "P_red = (30+20) / (n_B1 + n_B2)\n",
    "P_red"
   ]
  },
  {
   "cell_type": "code",
   "execution_count": 9,
   "id": "61f7b2c6-d38d-40b7-a386-48564039cf61",
   "metadata": {},
   "outputs": [
    {
     "data": {
      "text/plain": [
       "0.6"
      ]
     },
     "execution_count": 9,
     "metadata": {},
     "output_type": "execute_result"
    }
   ],
   "source": [
    "p_B1_red = (P_B1 * P_red_B1) / P_red\n",
    "p_B1_red"
   ]
  },
  {
   "cell_type": "markdown",
   "id": "ec38ddbd-8a73-4f6d-8983-83d4d43e8488",
   "metadata": {},
   "source": [
    "Let’s say your friend puts the marble back in and now picks two marbles. She draws one marble, puts it back in the same bucket, then draws a second. They both happen to be red. What is the probability that they both came from Bucket #1?"
   ]
  },
  {
   "cell_type": "code",
   "execution_count": 10,
   "id": "82e4753f-96f3-49ad-b858-fb2fd67fc89a",
   "metadata": {},
   "outputs": [
    {
     "data": {
      "text/plain": [
       "0.36"
      ]
     },
     "execution_count": 10,
     "metadata": {},
     "output_type": "execute_result"
    }
   ],
   "source": [
    "pB1_2red = p_B1_red * p_B1_red\n",
    "pB1_2red"
   ]
  },
  {
   "cell_type": "code",
   "execution_count": null,
   "id": "5dbda4f0-c238-447c-bb0f-946753fe699c",
   "metadata": {},
   "outputs": [],
   "source": []
  },
  {
   "cell_type": "code",
   "execution_count": null,
   "id": "b2b92e83-5ab6-4329-8b71-79558669758c",
   "metadata": {},
   "outputs": [],
   "source": []
  },
  {
   "cell_type": "code",
   "execution_count": null,
   "id": "8502a7b9-fbe7-48a9-aeff-5b04df0cf8b6",
   "metadata": {},
   "outputs": [],
   "source": []
  },
  {
   "cell_type": "code",
   "execution_count": null,
   "id": "94dd01d1-bcff-452c-b14a-7a89eb53acec",
   "metadata": {},
   "outputs": [],
   "source": []
  },
  {
   "cell_type": "code",
   "execution_count": null,
   "id": "a5f15a55-5f3b-4f18-be28-a0e58a9927dd",
   "metadata": {},
   "outputs": [],
   "source": []
  },
  {
   "cell_type": "code",
   "execution_count": null,
   "id": "3e321a17-04f8-4fb7-a4ea-d7f47e785b92",
   "metadata": {},
   "outputs": [],
   "source": []
  },
  {
   "cell_type": "code",
   "execution_count": null,
   "id": "108b424a-da17-4e8a-b0d1-b6391e4bb9b2",
   "metadata": {},
   "outputs": [],
   "source": []
  },
  {
   "cell_type": "code",
   "execution_count": null,
   "id": "e1085984-4f1d-4e19-9cdf-ddc4e71fbc8a",
   "metadata": {},
   "outputs": [],
   "source": []
  }
 ],
 "metadata": {
  "kernelspec": {
   "display_name": "Python 3 (ipykernel)",
   "language": "python",
   "name": "python3"
  },
  "language_info": {
   "codemirror_mode": {
    "name": "ipython",
    "version": 3
   },
   "file_extension": ".py",
   "mimetype": "text/x-python",
   "name": "python",
   "nbconvert_exporter": "python",
   "pygments_lexer": "ipython3",
   "version": "3.10.10"
  }
 },
 "nbformat": 4,
 "nbformat_minor": 5
}
