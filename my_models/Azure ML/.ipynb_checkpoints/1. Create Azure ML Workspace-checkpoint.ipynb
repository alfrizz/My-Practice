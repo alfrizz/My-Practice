{
 "cells": [
  {
   "cell_type": "code",
   "execution_count": 6,
   "id": "d8ea85af-c4da-4e77-94a1-288342eea78e",
   "metadata": {},
   "outputs": [
    {
     "name": "stderr",
     "output_type": "stream",
     "text": [
      "The deployment request mlw-dp100-labs-7857482 was accepted. ARM deployment URI for reference: \n",
      "https://portal.azure.com//#blade/HubsExtension/DeploymentDetailsBlade/overview/id/%2Fsubscriptions%2Fa90ed0cd-b0b9-4e3a-bd85-67272a44de15%2FresourceGroups%2Frg-dp100-labs%2Fproviders%2FMicrosoft.Resources%2Fdeployments%2Fmlw-dp100-labs-7857482\n",
      "Creating Log Analytics Workspace: (mlwdp100logalyti48e4827c  ) ..  Done (17s)\n",
      "Creating Application Insights: (mlwdp100insights26405993  )  Done (20s)\n",
      "Creating Key Vault: (mlwdp100keyvault4e7a6e0b  )  Done (23s)\n",
      "Creating Storage Account: (mlwdp100storage3557e9628  )   Done (27s)\n",
      "Creating AzureML Workspace: (mlw-dp100-labs  ) ..  Done (20s)\n",
      "Total time : 48s\n",
      "\n"
     ]
    },
    {
     "name": "stdout",
     "output_type": "stream",
     "text": [
      "Workspace 'mlw-dp100-labs' created successfully.\n"
     ]
    }
   ],
   "source": [
    "from azure.identity import DefaultAzureCredential\n",
    "from azure.ai.ml import MLClient\n",
    "from azure.ai.ml.entities import Workspace\n",
    "from azure.mgmt.resource import ResourceManagementClient\n",
    "from azure.core.exceptions import ResourceNotFoundError\n",
    "import configparser\n",
    "import os\n",
    "\n",
    "# Load environment variables from config.ini file in the same folder\n",
    "config = configparser.ConfigParser()\n",
    "config.read('config.ini')\n",
    "\n",
    "# Set environment variables from the config file\n",
    "os.environ['AZURE_CLIENT_ID'] = config['azure']['client_id']\n",
    "os.environ['AZURE_CLIENT_SECRET'] = config['azure']['client_secret']\n",
    "os.environ['AZURE_TENANT_ID'] = config['azure']['tenant_id']\n",
    "os.environ['AZURE_SUBSCRIPTION_ID'] = config['azure']['subscription_id']\n",
    "\n",
    "# Initialize clients\n",
    "credential = DefaultAzureCredential()\n",
    "\n",
    "# Resource Management Client to manage resource groups\n",
    "resource_client = ResourceManagementClient(\n",
    "    credential=credential,\n",
    "    subscription_id=os.getenv(\"AZURE_SUBSCRIPTION_ID\")\n",
    ")\n",
    "\n",
    "# Check if the resource group exists, and create it if it does not\n",
    "resource_group_name = \"rg-dp100-labs\"\n",
    "resource_group_params = {\"location\": \"westeurope\"}\n",
    "\n",
    "if not resource_client.resource_groups.check_existence(resource_group_name):\n",
    "    resource_client.resource_groups.create_or_update(resource_group_name, resource_group_params)\n",
    "\n",
    "# MLClient for Azure ML operations\n",
    "ml_client = MLClient(\n",
    "    credential=credential,\n",
    "    subscription_id=os.getenv(\"AZURE_SUBSCRIPTION_ID\"),\n",
    "    resource_group_name=resource_group_name\n",
    ")\n",
    "\n",
    "workspace_name = \"mlw-dp100-labs\"\n",
    "\n",
    "try:\n",
    "    # Try to get the existing workspace\n",
    "    ws_basic = ml_client.workspaces.get(workspace_name)\n",
    "    print(f\"Workspace '{workspace_name}' already exists. Reusing the existing workspace.\")\n",
    "except ResourceNotFoundError:\n",
    "    # If the workspace does not exist, create it\n",
    "    ws_basic = Workspace(\n",
    "        name=workspace_name,\n",
    "        location=\"westeurope\",\n",
    "        description=\"Workspace for DP100 Labs\",\n",
    "        display_name=\"DP100 Labs Workspace\"\n",
    "    )\n",
    "    ws_basic = ml_client.workspaces.begin_create(ws_basic).result()\n",
    "    print(f\"Workspace '{workspace_name}' created successfully.\")\n"
   ]
  }
 ],
 "metadata": {
  "kernelspec": {
   "display_name": "Py310",
   "language": "python",
   "name": "py310"
  },
  "language_info": {
   "codemirror_mode": {
    "name": "ipython",
    "version": 3
   },
   "file_extension": ".py",
   "mimetype": "text/x-python",
   "name": "python",
   "nbconvert_exporter": "python",
   "pygments_lexer": "ipython3",
   "version": "3.10.11"
  }
 },
 "nbformat": 4,
 "nbformat_minor": 5
}
