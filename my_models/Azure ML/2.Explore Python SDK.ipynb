{
 "cells": [
  {
   "cell_type": "code",
   "execution_count": 7,
   "id": "29a2f857-9571-4d54-b30a-916c8cd058f1",
   "metadata": {},
   "outputs": [],
   "source": [
    "from azure.identity import DefaultAzureCredential, InteractiveBrowserCredential, AzureCliCredential\n",
    "from azure.ai.ml import MLClient\n",
    "import configparser\n",
    "import os\n",
    "\n",
    "# Load environment variables from config.ini file\n",
    "config = configparser.ConfigParser()\n",
    "\n",
    "# Use an absolute path to avoid path issues\n",
    "config_file_path = \"G:/My Drive/Ingegneria/Data Science GD/My-Practice/my_models/Azure ML/config.ini\"\n",
    "config.read(config_file_path)\n",
    "\n",
    "# Check if the 'azure' section exists\n",
    "if 'azure' in config:\n",
    "    os.environ['AZURE_CLIENT_ID'] = config['azure']['client_id']\n",
    "    os.environ['AZURE_CLIENT_SECRET'] = config['azure']['client_secret']\n",
    "    os.environ['AZURE_TENANT_ID'] = config['azure']['tenant_id']\n",
    "    os.environ['AZURE_SUBSCRIPTION_ID'] = config['azure']['subscription_id']\n",
    "\n",
    "    # Attempt to use DefaultAzureCredential\n",
    "    try:\n",
    "        credential = DefaultAzureCredential()\n",
    "        credential.get_token(\"https://management.azure.com/.default\")\n",
    "    except Exception as ex:\n",
    "        print(\"DefaultAzureCredential failed, falling back to InteractiveBrowserCredential.\")\n",
    "        credential = InteractiveBrowserCredential()\n",
    "\n",
    "    # Initialize MLClient with the obtained credential\n",
    "    ml_client = MLClient(\n",
    "        credential=credential,\n",
    "        subscription_id=os.environ['AZURE_SUBSCRIPTION_ID'],\n",
    "        resource_group_name=\"rg-dp100-labs\",\n",
    "        workspace_name=\"mlw-dp100-labs\"\n",
    "    )\n",
    "\n",
    "    # List workspaces to verify the connection\n",
    "    try:\n",
    "        workspaces = ml_client.workspaces.list()\n",
    "        for ws in workspaces:\n",
    "            print(ws.name)\n",
    "    except Exception as e:\n",
    "        print(f\"Failed to list workspaces: {e}\")\n",
    "\n",
    "else:\n",
    "    print(\"The 'azure' section is missing in the config.ini file.\")\n"
   ]
  },
  {
   "cell_type": "markdown",
   "id": "ecd3d2f7-46d9-4b32-ba2a-d268489a6fcd",
   "metadata": {},
   "source": [
    "After defining the authentication, you need to call MLClient for the environment to connect to the workspace. You'll call MLClient anytime you want to create or update an asset or resource in the workspace."
   ]
  },
  {
   "cell_type": "code",
   "execution_count": 11,
   "id": "4081a745-aad0-4c76-9305-a2609fa5f582",
   "metadata": {},
   "outputs": [
    {
     "name": "stderr",
     "output_type": "stream",
     "text": [
      "Cloning into 'azure-ml-labs'...\n",
      "Updating files:  75% (75/99)\n",
      "Updating files:  76% (76/99)\n",
      "Updating files:  77% (77/99)\n",
      "Updating files:  78% (78/99)\n",
      "Updating files:  79% (79/99)\n",
      "Updating files:  80% (80/99)\n",
      "Updating files:  81% (81/99)\n",
      "Updating files:  82% (82/99)\n",
      "Updating files:  83% (83/99)\n",
      "Updating files:  84% (84/99)\n",
      "Updating files:  85% (85/99)\n",
      "Updating files:  86% (86/99)\n",
      "Updating files:  87% (87/99)\n",
      "Updating files:  88% (88/99)\n",
      "Updating files:  89% (89/99)\n",
      "Updating files:  90% (90/99)\n",
      "Updating files:  91% (91/99)\n",
      "Updating files:  92% (92/99)\n",
      "Updating files:  93% (93/99)\n",
      "Updating files:  94% (94/99)\n",
      "Updating files:  95% (95/99)\n",
      "Updating files:  96% (96/99)\n",
      "Updating files:  97% (97/99)\n",
      "Updating files:  98% (98/99)\n",
      "Updating files: 100% (99/99)\n",
      "Updating files: 100% (99/99), done.\n"
     ]
    }
   ],
   "source": [
    "!git clone https://github.com/MicrosoftLearning/mslearn-azure-ml.git azure-ml-labs"
   ]
  },
  {
   "cell_type": "code",
   "execution_count": 9,
   "id": "cb75736c-62fe-43ab-aeca-3b1ec278cba1",
   "metadata": {},
   "outputs": [],
   "source": [
    "# example better detailed later on\n",
    "\n",
    "'''\n",
    "\n",
    "# For example, you'll connect to the workspace when you create a new job to train a model:\n",
    "\n",
    "# configure job\n",
    "job = command(\n",
    "    code=\"./src\",\n",
    "    command=\"python train.py\",\n",
    "    environment=\"AzureML-sklearn-0.24-ubuntu18.04-py37-cpu@latest\",\n",
    "    compute=\"aml-cluster\",\n",
    "    experiment_name=\"train-model\"\n",
    ")\n",
    "\n",
    "# connect to workspace and submit job\n",
    "returned_job = ml_client.create_or_update(job)\n",
    "\n",
    "'''"
   ]
  },
  {
   "cell_type": "code",
   "execution_count": null,
   "id": "22fbf665-a1ba-4d2f-bcf1-c969ddfecdb3",
   "metadata": {},
   "outputs": [],
   "source": []
  },
  {
   "cell_type": "code",
   "execution_count": null,
   "id": "c3a66c66-bc98-42cb-bebf-66c7e6d0fefb",
   "metadata": {},
   "outputs": [],
   "source": []
  },
  {
   "cell_type": "code",
   "execution_count": null,
   "id": "3d0ef87b-bfdc-40b1-9845-417e1b4e63e9",
   "metadata": {},
   "outputs": [],
   "source": []
  },
  {
   "cell_type": "code",
   "execution_count": null,
   "id": "24324f3c-b059-460a-a86d-6e2bb6138514",
   "metadata": {},
   "outputs": [],
   "source": []
  },
  {
   "cell_type": "code",
   "execution_count": null,
   "id": "f827357c-af15-4146-b4f0-2eacb95527d5",
   "metadata": {},
   "outputs": [],
   "source": []
  },
  {
   "cell_type": "code",
   "execution_count": null,
   "id": "84f49191-cc65-4caa-8b47-fb0384726ec9",
   "metadata": {},
   "outputs": [],
   "source": []
  },
  {
   "cell_type": "code",
   "execution_count": null,
   "id": "f2ccc02a-129a-4778-82b4-b4a7b727f8d6",
   "metadata": {},
   "outputs": [],
   "source": []
  },
  {
   "cell_type": "code",
   "execution_count": null,
   "id": "0fac8d26-1d7a-498d-b4e1-9d0f608c581c",
   "metadata": {},
   "outputs": [],
   "source": []
  }
 ],
 "metadata": {
  "kernelspec": {
   "display_name": "Py310",
   "language": "python",
   "name": "py310"
  },
  "language_info": {
   "codemirror_mode": {
    "name": "ipython",
    "version": 3
   },
   "file_extension": ".py",
   "mimetype": "text/x-python",
   "name": "python",
   "nbconvert_exporter": "python",
   "pygments_lexer": "ipython3",
   "version": "3.10.11"
  }
 },
 "nbformat": 4,
 "nbformat_minor": 5
}
