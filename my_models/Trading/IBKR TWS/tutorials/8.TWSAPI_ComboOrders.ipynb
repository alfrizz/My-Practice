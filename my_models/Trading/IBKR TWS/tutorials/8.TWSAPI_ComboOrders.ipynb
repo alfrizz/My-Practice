{
 "cells": [
  {
   "cell_type": "code",
   "execution_count": 1,
   "id": "3aa0dcb7-643c-43b6-a40b-f057cd8d845c",
   "metadata": {},
   "outputs": [],
   "source": [
    "from ibapi.client import *\n",
    "from ibapi.wrapper import *\n",
    "from ibapi.contract import Contract, ComboLeg  # Import Contract for orders and ComboLeg for building combo legs\n",
    "from ibapi.order import Order                # Import Order for creating order objects\n",
    "from ibapi.tag_value import TagValue           # Import TagValue for additional order parameters\n",
    "from ibapi.ticktype import TickTypeEnum\n",
    "\n",
    "import threading\n",
    "import time\n",
    "\n",
    "import logging\n",
    "\n",
    "# Configure logging to output INFO-level messages on the console\n",
    "logging.basicConfig(\n",
    "    level=logging.INFO,\n",
    "    format=\"%(asctime)s [%(levelname)s] %(message)s\"\n",
    ")"
   ]
  },
  {
   "cell_type": "code",
   "execution_count": 2,
   "id": "2f33faa2-3923-4076-aa53-4f5d73cb56d3",
   "metadata": {},
   "outputs": [],
   "source": [
    "class TestApp(EClient, EWrapper):\n",
    "    \n",
    "    def __init__(self):\n",
    "        \"\"\"\n",
    "        Initialize the TestApp as both a client and a wrapper for IB API.\n",
    "        \"\"\"\n",
    "        EClient.__init__(self, self)\n",
    "        # This variable will hold the next valid order ID provided by IB.\n",
    "        self.OrderId = None\n",
    "\n",
    "    \n",
    "    def nextValidId(self, orderId: int):\n",
    "        \"\"\"\n",
    "        Callback method called when the IB API provides a valid order ID.\n",
    "        We simply store it in an instance variable.\n",
    "        \"\"\"\n",
    "        self.OrderId = orderId\n",
    "        print(f\"Next valid order ID stored: {self.OrderId}\")\n",
    "\n",
    "    \n",
    "    def nextId(self):\n",
    "        \"\"\"\n",
    "        Increment and return the next available request ID.\n",
    "        Ensures that every request (live or historical) has a unique identifier.\n",
    "        \"\"\"\n",
    "        self.OrderId += 1\n",
    "        return self.OrderId\n",
    "\n",
    "\n",
    "    def contractDetails(self, reqId: int, details: ContractDetails):\n",
    "        # Directly extract the contract ID from the object\n",
    "        self.con_id = details.contract.conId\n",
    "        print(\"Extracted ConId:\", self.con_id)\n",
    "\n",
    "    \n",
    "    def tickPrice(self, reqId, tickType, price, attrib):\n",
    "        # Convert the tick type to a readable string\n",
    "        tickStr = TickTypeEnum.toStr(tickType)\n",
    "        \n",
    "        # Check if this tick corresponds to the LAST traded price\n",
    "        if tickStr == \"LAST\" or tickStr == \"CLOSE\":\n",
    "            self.lastPrice = price  # Save the last price\n",
    "            print(f\"Saved last price for reqId {reqId}: {self.lastPrice}\")\n",
    "    \n",
    "        # If desired, print other ticks:\n",
    "        print(f\"reqId: {reqId}, tickType: {tickStr}, price: {price}, attrib: {attrib}\")\n",
    "\n",
    "\n",
    "    def calculate_combo_limit(self, combo_legs, fluctuation_pct):\n",
    "        \"\"\"\n",
    "        Calculate the net combo price and the adjusted limit price using a percentage cushion.\n",
    "        \n",
    "        Parameters:\n",
    "          combo_legs : dict\n",
    "          fluctuation_pct : float\n",
    "              The percentage cushion to apply, for example, 0.05 for 5%.\n",
    "        \n",
    "        Returns:\n",
    "          net_price: float\n",
    "              The calculated net price.\n",
    "          adjusted_limit: float\n",
    "              The limit price adjusted by adding fluctuation_pct * |net_price|.\n",
    "        \"\"\"\n",
    "        net_price = 0.0\n",
    "        for i in range(len(combo_legs['contr'])):\n",
    "            if combo_legs['action'][i] == 'BUY':\n",
    "                net_price += combo_legs['ratio'][i] * combo_legs['price'][i]\n",
    "            elif combo_legs['action'][i] == 'SELL':\n",
    "                net_price -= combo_legs['ratio'][i] * combo_legs['price'][i]\n",
    "    \n",
    "        # Adjusted limit: add fluctuation amount based on absolute net price.\n",
    "        adjusted_limit = net_price + fluctuation_pct * abs(net_price)\n",
    "        \n",
    "        return net_price, adjusted_limit\n",
    "    \n",
    "\n",
    "    def createComboOrder(self, adjusted_limit_price: float, quantity: int, combo_action: str, combo_legs: dict):\n",
    "        \"\"\"\n",
    "        Create and submit a combo order with up to six legs using a dictionary for leg details.\n",
    "        \n",
    "        Parameters:\n",
    "          adjusted_limit_price: float\n",
    "              The limit price for the overall combo order—already adjusted by your cushion.\n",
    "          quantity: int\n",
    "              The total number of combo contracts to trade.\n",
    "          combo_action: str\n",
    "              'BUY' or 'SELL' action over all the combo\n",
    "          combo_legs: dict\n",
    "              A dictionary containing combo legs information with the following format:\n",
    "              {\n",
    "                  'contr': ['DB', 'INTC'],     # List of instrument symbols.\n",
    "                  'action': ['BUY', 'SELL'],   # List of actions for each leg.\n",
    "                  'ratio': [1, 1],             # List of multipliers for each leg.\n",
    "                  'id': [13435352, 270639],    # List of contract IDs for each instrument.\n",
    "                  'price': [26.85, 19.92]      # List of prices for each leg.\n",
    "              }\n",
    "        \"\"\"\n",
    "        \n",
    "        # ------------------------------\n",
    "        # Define the combo contract.\n",
    "        # ------------------------------\n",
    "        contract = Contract()\n",
    "        # Form a descriptive symbol by joining the instruments with a comma.\n",
    "        contract.symbol = \",\".join(combo_legs['contr'])\n",
    "        contract.secType = \"BAG\"         # \"BAG\" tells IB we're dealing with a combo order.\n",
    "        contract.exchange = \"SMART\"      # Use IB's SMART routing.\n",
    "        contract.currency = \"USD\"        # Currency set to USD.\n",
    "        \n",
    "        # Initialize the list for combo legs.\n",
    "        contract.comboLegs = []\n",
    "        \n",
    "        # ------------------------------\n",
    "        # Loop over the provided legs and create a ComboLeg for each.\n",
    "        # ------------------------------\n",
    "        num_legs = len(combo_legs['contr'])\n",
    "        for i in range(num_legs):\n",
    "            comboLeg = ComboLeg()\n",
    "            # Assign the required contract ID from the dictionary.\n",
    "            comboLeg.conId = combo_legs['id'][i]\n",
    "            # Set the ratio (multiplier) for this leg.\n",
    "            comboLeg.ratio = combo_legs['ratio'][i]\n",
    "            # Set the specified action (e.g., \"BUY\" or \"SELL\"); don't change its case.\n",
    "            comboLeg.action = combo_legs['action'][i]\n",
    "            # Use the default exchange \"SMART\" (can be adjusted if needed).\n",
    "            comboLeg.exchange = \"SMART\"\n",
    "            # Append the constructed leg to the contract's combo legs list.\n",
    "            contract.comboLegs.append(comboLeg)\n",
    "        \n",
    "        # ------------------------------\n",
    "        # Create the overall combo order.\n",
    "        # ------------------------------\n",
    "        order = Order()\n",
    "        order.orderId = self.OrderId      # Use the current valid order ID stored earlier.\n",
    "        order.action = combo_action       # Overall action for the combo\n",
    "        order.orderType = \"LMT\"           # Use a limit order.\n",
    "        order.lmtPrice = round(adjusted_limit_price, 2)  # Round to the nearest 0.01. Use the provided (adjusted) limit price.\n",
    "        order.totalQuantity = quantity    # Total number of combo contracts to trade.\n",
    "        order.tif = \"GTC\"                 # Time-In-Force: Good Till Canceled.\n",
    "        \n",
    "        # ------------------------------\n",
    "        # Add smart combo routing parameters.\n",
    "        # ------------------------------\n",
    "        order.smartComboRoutingParams = []\n",
    "        order.smartComboRoutingParams.append(TagValue('NonGuaranteed', '1'))\n",
    "        # This tag acknowledges you're using a non-guaranteed combo order.\n",
    "        \n",
    "        # ------------------------------\n",
    "        # Submit the combo order.\n",
    "        # ------------------------------\n",
    "        print(f\"Placing Combo Order (ID {order.orderId}): {order.action} {quantity} {combo_action} combo ({contract.symbol}) @ {adjusted_limit_price}\")\n",
    "        self.placeOrder(order.orderId, contract, order)\n",
    "\n",
    "    \n",
    "    def error(self, reqId, errorTime, errorCode, errorString, advancedOrderReject):\n",
    "        \"\"\"\n",
    "        This method handles error messages from TWS.\n",
    "        When an error is received (for example, if the request fails), it prints the error details.\n",
    "        \"\"\"\n",
    "        print(f\"Error - reqId: {reqId},  errorTime: {errorTime}, errorCode: {errorCode}, errorString: {errorString}, OrderReject: {advancedOrderReject}\")\n",
    "\n",
    "        \n",
    "    def openOrder(self, orderId: OrderId, contract: Contract, order: Order, orderState: OrderState):\n",
    "        \"\"\"\n",
    "        Callback method that prints out details when an order is opened or updated.\n",
    "        \"\"\"\n",
    "        print(f\"openOrder: OrderID: {orderId}, Contract: {contract}, Order: {order}, State: {orderState}\")\n",
    "\n",
    "    def orderStatus(self, orderId: OrderId, status: str, filled: float, remaining: float,\n",
    "                    avgFillPrice: float, permId: int, parentId: int, lastFillPrice: float,\n",
    "                    clientId: int, whyHeld: str, mktCapPrice: float):\n",
    "        \"\"\"\n",
    "        Callback method providing real-time updates on the status of orders.\n",
    "        \"\"\"\n",
    "        print(f\"orderStatus: OrderID: {orderId}, Status: {status}, Filled: {filled}, Remaining: {remaining}, \"\n",
    "              f\"AvgFillPrice: {avgFillPrice}, ParentID: {parentId}\")\n",
    "\n",
    "    def execDetails(self, reqId: int, contract: Contract, execution: Execution):\n",
    "        \"\"\"\n",
    "        Callback method that provides detailed information on trade executions.\n",
    "        \"\"\"\n",
    "        print(f\"execDetails: ReqID: {reqId}, Contract: {contract}, Execution: {execution}\")\n"
   ]
  },
  {
   "cell_type": "code",
   "execution_count": 3,
   "id": "ad090aef-bbc1-4683-8d6a-57c73c6aaf68",
   "metadata": {},
   "outputs": [
    {
     "name": "stderr",
     "output_type": "stream",
     "text": [
      "2025-05-07 09:42:38,157 [INFO] sent startApi\n",
      "2025-05-07 09:42:38,171 [INFO] REQUEST startApi {}\n",
      "2025-05-07 09:42:38,172 [INFO] SENDING startApi b'\\x00\\x00\\x00\\t\\x00\\x00\\x00G2\\x008\\x00\\x00'\n",
      "2025-05-07 09:42:38,173 [INFO] ANSWER connectAck {}\n",
      "2025-05-07 09:42:38,174 [INFO] ANSWER openOrderEnd {}\n",
      "2025-05-07 09:42:38,242 [INFO] ANSWER managedAccounts {'accountsList': 'U18112846'}\n"
     ]
    },
    {
     "name": "stdout",
     "output_type": "stream",
     "text": [
      "Next valid order ID stored: 43\n",
      "Error - reqId: -1,  errorTime: 1746603759642, errorCode: 2104, errorString: Market data farm connection is OK:cashfarm, OrderReject: \n",
      "Error - reqId: -1,  errorTime: 1746603759642, errorCode: 2104, errorString: Market data farm connection is OK:usfarm.nj, OrderReject: \n",
      "Error - reqId: -1,  errorTime: 1746603759643, errorCode: 2104, errorString: Market data farm connection is OK:eufarm, OrderReject: \n",
      "Error - reqId: -1,  errorTime: 1746603759643, errorCode: 2104, errorString: Market data farm connection is OK:usopt, OrderReject: \n",
      "Error - reqId: -1,  errorTime: 1746603759643, errorCode: 2104, errorString: Market data farm connection is OK:usfarm, OrderReject: \n",
      "Error - reqId: -1,  errorTime: 1746603759643, errorCode: 2106, errorString: HMDS data farm connection is OK:euhmds, OrderReject: \n",
      "Error - reqId: -1,  errorTime: 1746603759643, errorCode: 2106, errorString: HMDS data farm connection is OK:fundfarm, OrderReject: \n",
      "Error - reqId: -1,  errorTime: 1746603759643, errorCode: 2106, errorString: HMDS data farm connection is OK:ushmds, OrderReject: \n",
      "Error - reqId: -1,  errorTime: 1746603759643, errorCode: 2158, errorString: Sec-def data farm connection is OK:secdefeu, OrderReject: \n"
     ]
    }
   ],
   "source": [
    "port = 7496  # Typical port for connecting to TWS (7496 for IB Gateway live trading)\n",
    "clientId = 8\n",
    "\n",
    "# Create an instance of the TestApp and connect to TWS.\n",
    "app = TestApp()\n",
    "app.connect(\"127.0.0.1\", port, clientId)\n",
    "\n",
    "# Start the API processing loop in a separate thread so that it does not block the main thread.\n",
    "threading.Thread(target=app.run).start()\n",
    "time.sleep(1)  # Pause briefly to ensure a reliable connection before making requests\n",
    "    "
   ]
  },
  {
   "cell_type": "code",
   "execution_count": 4,
   "id": "f290bb4a-efe4-4d1c-a038-53a253fc699c",
   "metadata": {},
   "outputs": [
    {
     "data": {
      "text/plain": [
       "{'contr': ['DB', 'INTC'],\n",
       " 'action': ['BUY', 'SELL'],\n",
       " 'ratio': [1, 1],\n",
       " 'id': [0, 0],\n",
       " 'price': [0, 0]}"
      ]
     },
     "execution_count": 4,
     "metadata": {},
     "output_type": "execute_result"
    }
   ],
   "source": [
    "combo_legs = {'contr':['DB','INTC'], 'action':['BUY','SELL'], 'ratio':[1,1], 'id':[0,0], 'price':[0,0]}\n",
    "\n",
    "# combo_legs = {'contr':['DB','T'], 'action':['BUY','BUY'], 'ratio':[1,1], 'id':[0,0], 'price':[0,0]}\n",
    "\n",
    "combo_legs"
   ]
  },
  {
   "cell_type": "code",
   "execution_count": 5,
   "id": "f7eb68e4-6d34-4ce8-9a5c-2fe2888eedc7",
   "metadata": {},
   "outputs": [
    {
     "data": {
      "text/plain": [
       "'INTC'"
      ]
     },
     "execution_count": 5,
     "metadata": {},
     "output_type": "execute_result"
    }
   ],
   "source": [
    "combo_legs['contr'][1]"
   ]
  },
  {
   "cell_type": "code",
   "execution_count": 6,
   "id": "b64699c6-7f3f-4dfc-bacc-f5c628333f6e",
   "metadata": {},
   "outputs": [
    {
     "name": "stderr",
     "output_type": "stream",
     "text": [
      "2025-05-07 09:42:39,243 [INFO] REQUEST reqContractDetails {'reqId': 43, 'contract': 2153210798688: ConId: 0, Symbol: DB, SecType: STK, LastTradeDateOrContractMonth: , Strike: , Right: , Multiplier: , Exchange: SMART, PrimaryExchange: , Currency: USD, LocalSymbol: , TradingClass: , IncludeExpired: False, SecIdType: , SecId: , Description: , IssuerId: Combo:}\n",
      "2025-05-07 09:42:39,247 [INFO] SENDING reqContractDetails b'\\x00\\x00\\x00(\\x00\\x00\\x00\\t8\\x0043\\x000\\x00DB\\x00STK\\x00\\x00\\x00\\x00\\x00SMART\\x00\\x00USD\\x00\\x00\\x000\\x00\\x00\\x00\\x00'\n",
      "2025-05-07 09:42:39,339 [INFO] ANSWER contractDetailsEnd {'reqId': 43}\n"
     ]
    },
    {
     "name": "stdout",
     "output_type": "stream",
     "text": [
      "Extracted ConId: 13435352\n"
     ]
    },
    {
     "name": "stderr",
     "output_type": "stream",
     "text": [
      "2025-05-07 09:42:40,256 [INFO] REQUEST reqMktData {'reqId': 44, 'contract': 2153210798688: ConId: 0, Symbol: DB, SecType: STK, LastTradeDateOrContractMonth: , Strike: , Right: , Multiplier: , Exchange: SMART, PrimaryExchange: , Currency: USD, LocalSymbol: , TradingClass: , IncludeExpired: False, SecIdType: , SecId: , Description: , IssuerId: Combo:, 'genericTickList': '4', 'snapshot': True, 'regulatorySnapshot': False, 'mktDataOptions': []}\n",
      "2025-05-07 09:42:40,256 [INFO] SENDING reqMktData b'\\x00\\x00\\x00-\\x00\\x00\\x00\\x0111\\x0044\\x000\\x00DB\\x00STK\\x00\\x00\\x00\\x00\\x00SMART\\x00\\x00USD\\x00\\x00\\x000\\x004\\x001\\x000\\x00\\x00'\n",
      "2025-05-07 09:42:40,319 [INFO] ANSWER tickReqParams {'tickerId': 44, 'minTick': 0.01, 'bboExchange': 'a60001', 'snapshotPermissions': 3}\n",
      "2025-05-07 09:42:40,321 [INFO] ANSWER marketDataType {'reqId': 44, 'marketDataType': 1}\n",
      "2025-05-07 09:42:40,323 [INFO] ANSWER tickSize {'reqId': 44, 'tickType': 0, 'size': Decimal('400')}\n",
      "2025-05-07 09:42:40,324 [INFO] ANSWER tickSize {'reqId': 44, 'tickType': 3, 'size': Decimal('500')}\n",
      "2025-05-07 09:42:40,326 [INFO] ANSWER tickSize {'reqId': 44, 'tickType': 8, 'size': Decimal('0')}\n",
      "2025-05-07 09:42:40,327 [INFO] ANSWER tickGeneric {'reqId': 44, 'tickType': 49, 'value': 0.0}\n"
     ]
    },
    {
     "name": "stdout",
     "output_type": "stream",
     "text": [
      "reqId: 44, tickType: BID, price: 26.98, attrib: CanAutoExecute: 1, PastLimit: 0, PreOpen: 0\n",
      "reqId: 44, tickType: ASK, price: 27.02, attrib: CanAutoExecute: 1, PastLimit: 0, PreOpen: 0\n",
      "Saved last price for reqId 44: 26.74\n",
      "reqId: 44, tickType: CLOSE, price: 26.74, attrib: CanAutoExecute: 0, PastLimit: 0, PreOpen: 0\n"
     ]
    },
    {
     "name": "stderr",
     "output_type": "stream",
     "text": [
      "2025-05-07 09:42:41,270 [INFO] REQUEST reqContractDetails {'reqId': 44, 'contract': 2153210800128: ConId: 0, Symbol: INTC, SecType: STK, LastTradeDateOrContractMonth: , Strike: , Right: , Multiplier: , Exchange: SMART, PrimaryExchange: , Currency: USD, LocalSymbol: , TradingClass: , IncludeExpired: False, SecIdType: , SecId: , Description: , IssuerId: Combo:}\n",
      "2025-05-07 09:42:41,271 [INFO] SENDING reqContractDetails b'\\x00\\x00\\x00*\\x00\\x00\\x00\\t8\\x0044\\x000\\x00INTC\\x00STK\\x00\\x00\\x00\\x00\\x00SMART\\x00\\x00USD\\x00\\x00\\x000\\x00\\x00\\x00\\x00'\n",
      "2025-05-07 09:42:41,337 [INFO] ANSWER contractDetailsEnd {'reqId': 44}\n"
     ]
    },
    {
     "name": "stdout",
     "output_type": "stream",
     "text": [
      "Extracted ConId: 270639\n"
     ]
    },
    {
     "name": "stderr",
     "output_type": "stream",
     "text": [
      "2025-05-07 09:42:42,272 [INFO] REQUEST reqMktData {'reqId': 45, 'contract': 2153210800128: ConId: 0, Symbol: INTC, SecType: STK, LastTradeDateOrContractMonth: , Strike: , Right: , Multiplier: , Exchange: SMART, PrimaryExchange: , Currency: USD, LocalSymbol: , TradingClass: , IncludeExpired: False, SecIdType: , SecId: , Description: , IssuerId: Combo:, 'genericTickList': '4', 'snapshot': True, 'regulatorySnapshot': False, 'mktDataOptions': []}\n",
      "2025-05-07 09:42:42,272 [INFO] SENDING reqMktData b'\\x00\\x00\\x00/\\x00\\x00\\x00\\x0111\\x0045\\x000\\x00INTC\\x00STK\\x00\\x00\\x00\\x00\\x00SMART\\x00\\x00USD\\x00\\x00\\x000\\x004\\x001\\x000\\x00\\x00'\n",
      "2025-05-07 09:42:42,588 [INFO] ANSWER marketDataType {'reqId': 45, 'marketDataType': 1}\n",
      "2025-05-07 09:42:42,591 [INFO] ANSWER tickReqParams {'tickerId': 45, 'minTick': 0.01, 'bboExchange': '9c0001', 'snapshotPermissions': 3}\n",
      "2025-05-07 09:42:42,593 [INFO] ANSWER tickString {'reqId': 45, 'tickType': 45, 'value': '1746602888'}\n",
      "2025-05-07 09:42:42,596 [INFO] ANSWER tickSize {'reqId': 45, 'tickType': 5, 'size': Decimal('200')}\n",
      "2025-05-07 09:42:42,597 [INFO] ANSWER tickGeneric {'reqId': 45, 'tickType': 49, 'value': 0.0}\n",
      "2025-05-07 09:42:42,599 [INFO] ANSWER tickSize {'reqId': 45, 'tickType': 0, 'size': Decimal('1800')}\n",
      "2025-05-07 09:42:42,602 [INFO] ANSWER tickSize {'reqId': 45, 'tickType': 3, 'size': Decimal('1500')}\n"
     ]
    },
    {
     "name": "stdout",
     "output_type": "stream",
     "text": [
      "Saved last price for reqId 45: 20.13\n",
      "reqId: 45, tickType: LAST, price: 20.13, attrib: CanAutoExecute: 0, PastLimit: 0, PreOpen: 0\n",
      "reqId: 45, tickType: BID, price: 20.08, attrib: CanAutoExecute: 1, PastLimit: 0, PreOpen: 0\n",
      "reqId: 45, tickType: ASK, price: 20.13, attrib: CanAutoExecute: 1, PastLimit: 0, PreOpen: 0\n"
     ]
    }
   ],
   "source": [
    "for i, combo_leg_contr in enumerate(combo_legs['contr']):\n",
    "    mycontract = Contract()\n",
    "    mycontract.symbol = combo_leg_contr\n",
    "    mycontract.secType = \"STK\"              # 'STK' means stock.\n",
    "    mycontract.currency = \"USD\"             # Currency is US Dollars.\n",
    "    mycontract.exchange = \"SMART\"           # Use SmartRouting for best execution.\n",
    "    # mycontract.primaryExchange = \"NASDAQ\"   # Optional: Defines the primary exchange.\n",
    "\n",
    "    app.reqContractDetails(app.OrderId, mycontract)\n",
    "    time.sleep(1)\n",
    "    combo_legs['id'][i] = app.con_id\n",
    "\n",
    "    app.reqMktData(app.nextId(), \n",
    "                   mycontract,\n",
    "                   \"4\", # last price (?)\n",
    "                   True, # snapshot\n",
    "                   False, # regulatorySnapshot\n",
    "                   []) # no additional options are being set.\n",
    "\n",
    "    time.sleep(1)\n",
    "    combo_legs['price'][i] = app.lastPrice\n"
   ]
  },
  {
   "cell_type": "code",
   "execution_count": 7,
   "id": "804fdb57-a279-457e-8f58-ec7108e894af",
   "metadata": {},
   "outputs": [
    {
     "data": {
      "text/plain": [
       "{'contr': ['DB', 'INTC'],\n",
       " 'action': ['BUY', 'SELL'],\n",
       " 'ratio': [1, 1],\n",
       " 'id': [13435352, 270639],\n",
       " 'price': [26.74, 20.13]}"
      ]
     },
     "execution_count": 7,
     "metadata": {},
     "output_type": "execute_result"
    }
   ],
   "source": [
    "combo_legs"
   ]
  },
  {
   "cell_type": "code",
   "execution_count": 8,
   "id": "aadc7e31-869b-4e18-8868-1a790c2e6a79",
   "metadata": {},
   "outputs": [
    {
     "name": "stdout",
     "output_type": "stream",
     "text": [
      "Calculated net price: 6.61\n",
      "Adjusted limit price: 6.68\n"
     ]
    }
   ],
   "source": [
    "fluctuation_pct = 0.01\n",
    "\n",
    "net_price, adjusted_limit = app.calculate_combo_limit(combo_legs, fluctuation_pct)\n",
    "\n",
    "print(\"Calculated net price: {:.2f}\".format(net_price))\n",
    "print(\"Adjusted limit price: {:.2f}\".format(adjusted_limit))\n"
   ]
  },
  {
   "cell_type": "code",
   "execution_count": 9,
   "id": "300b0315-ef9e-4d20-a9c9-5aedf4432d4f",
   "metadata": {},
   "outputs": [
    {
     "name": "stderr",
     "output_type": "stream",
     "text": [
      "2025-05-07 09:42:43,313 [INFO] REQUEST placeOrder {'orderId': 45, 'contract': 2153210793696: ConId: 0, Symbol: DB,INTC, SecType: BAG, LastTradeDateOrContractMonth: , Strike: , Right: , Multiplier: , Exchange: SMART, PrimaryExchange: , Currency: USD, LocalSymbol: , TradingClass: , IncludeExpired: False, SecIdType: , SecId: , Description: , IssuerId: Combo:;13435352,1,BUY,SMART,0,0,,-1;270639,1,SELL,SMART,0,0,,-1, 'order': 2153210793744: 45,0,0: LMT BUY 1.000000@6.68 GTC}\n",
      "2025-05-07 09:42:43,320 [INFO] SENDING placeOrder b'\\x00\\x00\\x01\\xb8\\x00\\x00\\x00\\x0345\\x000\\x00DB,INTC\\x00BAG\\x00\\x00\\x00\\x00\\x00SMART\\x00\\x00USD\\x00\\x00\\x00\\x00\\x00BUY\\x001\\x00LMT\\x006.68\\x00\\x00GTC\\x00\\x00\\x00\\x000\\x00\\x001\\x000\\x000\\x000\\x000\\x000\\x000\\x000\\x002\\x0013435352\\x001\\x00BUY\\x00SMART\\x000\\x000\\x00\\x00-1\\x00270639\\x001\\x00SELL\\x00SMART\\x000\\x000\\x00\\x00-1\\x000\\x001\\x00NonGuaranteed\\x001\\x00\\x000\\x00\\x00\\x00\\x00\\x00\\x00\\x000\\x00\\x00-1\\x000\\x00\\x00\\x000\\x00\\x00\\x000\\x000\\x00\\x000\\x00\\x00\\x00\\x00\\x00\\x000\\x00\\x00\\x00\\x00\\x000\\x00\\x00\\x00\\x00\\x00\\x00\\x00\\x00\\x00\\x00\\x000\\x00\\x00\\x000\\x000\\x00\\x00\\x000\\x00\\x000\\x000\\x000\\x000\\x00\\x001.7976931348623157e+308\\x001.7976931348623157e+308\\x001.7976931348623157e+308\\x001.7976931348623157e+308\\x001.7976931348623157e+308\\x000\\x00\\x00\\x00\\x001.7976931348623157e+308\\x00\\x00\\x00\\x00\\x000\\x000\\x000\\x00\\x002147483647\\x002147483647\\x000\\x00\\x00\\x00\\x000\\x000\\x002147483647\\x000\\x00'\n"
     ]
    },
    {
     "name": "stdout",
     "output_type": "stream",
     "text": [
      "Placing Combo Order (ID 45): BUY 1 BUY combo (DB,INTC) @ 6.676099999999999\n"
     ]
    },
    {
     "name": "stderr",
     "output_type": "stream",
     "text": [
      "2025-05-07 09:42:47,849 [INFO] ANSWER tickSize {'reqId': 45, 'tickType': 8, 'size': Decimal('1198')}\n"
     ]
    },
    {
     "name": "stdout",
     "output_type": "stream",
     "text": [
      "Saved last price for reqId 45: 19.94\n",
      "reqId: 45, tickType: CLOSE, price: 19.94, attrib: CanAutoExecute: 0, PastLimit: 0, PreOpen: 0\n"
     ]
    },
    {
     "name": "stderr",
     "output_type": "stream",
     "text": [
      "2025-05-07 09:42:51,364 [INFO] ANSWER tickSnapshotEnd {'reqId': 44}\n",
      "2025-05-07 09:42:53,375 [INFO] ANSWER tickSnapshotEnd {'reqId': 45}\n"
     ]
    },
    {
     "name": "stdout",
     "output_type": "stream",
     "text": [
      "Error - reqId: 45,  errorTime: 1746603774851, errorCode: 163, errorString: The following order \"ID:45\" price exceeds  the Percentage constraint of 3%. Restriction is specified in Precautionary Settings of Global Configuration/Presets., OrderReject: \n"
     ]
    }
   ],
   "source": [
    "app.createComboOrder(\n",
    "    adjusted_limit_price=adjusted_limit, \n",
    "    quantity=1, \n",
    "    combo_action='BUY', \n",
    "    combo_legs=combo_legs\n",
    ")"
   ]
  },
  {
   "cell_type": "code",
   "execution_count": null,
   "id": "c5e30460-b10f-4e0c-98c0-756d914ef0e1",
   "metadata": {},
   "outputs": [],
   "source": []
  },
  {
   "cell_type": "code",
   "execution_count": null,
   "id": "405794c4-d726-49aa-8148-5ae023d40a9f",
   "metadata": {},
   "outputs": [],
   "source": []
  },
  {
   "cell_type": "code",
   "execution_count": null,
   "id": "3d40005e-277a-4979-8dbc-00df90c4aacf",
   "metadata": {},
   "outputs": [],
   "source": []
  },
  {
   "cell_type": "code",
   "execution_count": null,
   "id": "47886a5d-96dd-4b8c-b810-91f7ac18c401",
   "metadata": {},
   "outputs": [],
   "source": []
  }
 ],
 "metadata": {
  "kernelspec": {
   "display_name": "Python 3 (ipykernel)",
   "language": "python",
   "name": "python3"
  },
  "language_info": {
   "codemirror_mode": {
    "name": "ipython",
    "version": 3
   },
   "file_extension": ".py",
   "mimetype": "text/x-python",
   "name": "python",
   "nbconvert_exporter": "python",
   "pygments_lexer": "ipython3",
   "version": "3.10.10"
  }
 },
 "nbformat": 4,
 "nbformat_minor": 5
}
