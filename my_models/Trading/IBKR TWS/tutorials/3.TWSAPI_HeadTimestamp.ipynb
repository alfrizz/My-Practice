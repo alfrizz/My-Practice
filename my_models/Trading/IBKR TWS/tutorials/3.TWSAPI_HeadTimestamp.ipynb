{
 "cells": [
  {
   "cell_type": "markdown",
   "id": "a01819e0-18a3-4c37-81f2-485104d9b22c",
   "metadata": {},
   "source": [
    "Code Snippet – Head TimeStamp\n",
    "\n",
    "This snippet demonstrates how to request the earliest available historical timestamp (head time stamp) for a given instrument. In this example, we use an AAPL stock contract. \n",
    "\n",
    "When TWS replies, the headTimestamp callback prints:\n",
    "\n",
    "The raw head timestamp string (which may be in epoch seconds)\n",
    "\n",
    "A human‑readable timestamp (by converting the epoch to a datetime) Finally, the request is canceled using cancelHeadTimeStamp."
   ]
  },
  {
   "cell_type": "code",
   "execution_count": 1,
   "id": "ae7db309-97ad-445f-a4aa-c935f5c2f16a",
   "metadata": {},
   "outputs": [],
   "source": [
    "from ibapi.client import EClient  # Client interface to communicate with TWS/IB Gateway\n",
    "from ibapi.wrapper import EWrapper  # Callback interface to handle TWS messages\n",
    "from ibapi.contract import Contract  # Object to define a tradable instrument\n",
    "import datetime                      # For converting epoch time to a human-readable datetime\n",
    "import time                          # To pause main thread to allow data flow\n",
    "import threading                     # Run the API’s message loop in a separate thread\n",
    "import logging\n",
    "\n",
    "# Configure logging to output INFO-level messages on the console\n",
    "logging.basicConfig(\n",
    "    level=logging.INFO,\n",
    "    format=\"%(asctime)s [%(levelname)s] %(message)s\"\n",
    ")\n"
   ]
  },
  {
   "cell_type": "code",
   "execution_count": 2,
   "id": "e0a2cff1-85b7-4b17-b76b-b68f7be81f86",
   "metadata": {},
   "outputs": [],
   "source": [
    "class TestApp(EClient, EWrapper):\n",
    "    \n",
    "    def __init__(self):\n",
    "        \"\"\"\n",
    "        Initialize the TestApp instance and set up EClient and EWrapper.\n",
    "        Passing `self` to EClient ensures that the callback methods defined in this class are used.\n",
    "        \"\"\"\n",
    "        EClient.__init__(self, self)\n",
    "        # Initialize our order/request ID; this will be updated by nextValidId callback.\n",
    "        self.orderId = 0\n",
    "\n",
    "    \n",
    "    def nextValidId(self, orderId):\n",
    "        \"\"\"\n",
    "        Callback from TWS that provides the next valid order ID. While not strictly needed\n",
    "        for a headTimeStamp request, it assists in generating unique request IDs.\n",
    "        \"\"\"\n",
    "        self.orderId = orderId\n",
    "\n",
    "    \n",
    "    def nextId(self):\n",
    "        \"\"\"\n",
    "        Increment our internal order/request ID and return it. This helps in making sure each\n",
    "        new request has its unique ID.\n",
    "        \"\"\"\n",
    "        self.orderId += 1\n",
    "        return self.orderId\n",
    "\n",
    "    \n",
    "    def error(self, reqId, errorTime, errorCode, errorString, advancedOrderReject):\n",
    "        \"\"\"\n",
    "        Callback for error messages from TWS.\n",
    "        Prints details of any errors encountered.\n",
    "        \"\"\"\n",
    "        print(f\"Error - reqId: {reqId},  errorTime: {errorTime}, errorCode: {errorCode}, errorString: {errorString}, OrderReject: {advancedOrderReject}\")\n",
    "\n",
    "\n",
    "    def headTimestamp(self, reqId, headTimeStamp):\n",
    "        super().headTimestamp(reqId, headTimeStamp)  # This enables both functionalities of inherited code and new code—to run together (print and log together)\n",
    "        \"\"\"\n",
    "        Callback for the head time stamp response which tells us the earliest time available for historical data.\n",
    "        \n",
    "        Arguments:\n",
    "          reqId         - The ID of the request.\n",
    "          headTimeStamp - The timestamp string returned.\n",
    "        \n",
    "        Here, we print the raw headTimeStamp and then convert it into a Python datetime object to display it in a human-friendly format.\n",
    "        After processing the timestamp, we cancel the head time stamp request.\n",
    "        \"\"\"\n",
    "        print(\"Raw head timestamp returned:\", headTimeStamp)\n",
    "        \n",
    "        # Convert the headTimeStamp (assumed to be an epoch timestamp) to a datetime object.\n",
    "        # Note: int(headTimeStamp) assumes headTimeStamp can be directly cast to an integer.\n",
    "        print(\"Operator Timezone (local converted):\", datetime.datetime.fromtimestamp(int(headTimeStamp)))\n",
    "        \n",
    "        # Cancelling the head timestamp request since it's a one-time request.\n",
    "        self.cancelHeadTimeStamp(reqId)\n",
    "\n"
   ]
  },
  {
   "cell_type": "code",
   "execution_count": 3,
   "id": "fe3e415e-6a48-4b8b-827e-7c1031f339e1",
   "metadata": {},
   "outputs": [
    {
     "name": "stderr",
     "output_type": "stream",
     "text": [
      "2025-05-01 17:24:38,329 [INFO] sent startApi\n",
      "2025-05-01 17:24:38,332 [INFO] REQUEST startApi {}\n",
      "2025-05-01 17:24:38,332 [INFO] SENDING startApi b'\\x00\\x00\\x00\\t\\x00\\x00\\x00G2\\x003\\x00\\x00'\n",
      "2025-05-01 17:24:38,334 [INFO] ANSWER connectAck {}\n",
      "2025-05-01 17:24:38,336 [INFO] ANSWER openOrderEnd {}\n",
      "2025-05-01 17:24:38,371 [INFO] ANSWER managedAccounts {'accountsList': 'U18112846'}\n"
     ]
    },
    {
     "name": "stdout",
     "output_type": "stream",
     "text": [
      "Error - reqId: -1,  errorTime: 1746113098141, errorCode: 2104, errorString: Market data farm connection is OK:hfarm, OrderReject: \n",
      "Error - reqId: -1,  errorTime: 1746113098142, errorCode: 2104, errorString: Market data farm connection is OK:usfarm.nj, OrderReject: \n",
      "Error - reqId: -1,  errorTime: 1746113098142, errorCode: 2104, errorString: Market data farm connection is OK:jfarm, OrderReject: \n",
      "Error - reqId: -1,  errorTime: 1746113098142, errorCode: 2104, errorString: Market data farm connection is OK:usfuture, OrderReject: \n",
      "Error - reqId: -1,  errorTime: 1746113098142, errorCode: 2104, errorString: Market data farm connection is OK:eufarm, OrderReject: \n",
      "Error - reqId: -1,  errorTime: 1746113098142, errorCode: 2104, errorString: Market data farm connection is OK:cashfarm, OrderReject: \n",
      "Error - reqId: -1,  errorTime: 1746113098142, errorCode: 2104, errorString: Market data farm connection is OK:eufarmnj, OrderReject: \n",
      "Error - reqId: -1,  errorTime: 1746113098142, errorCode: 2104, errorString: Market data farm connection is OK:usfarm, OrderReject: \n",
      "Error - reqId: -1,  errorTime: 1746113098142, errorCode: 2106, errorString: HMDS data farm connection is OK:euhmds, OrderReject: \n",
      "Error - reqId: -1,  errorTime: 1746113098142, errorCode: 2106, errorString: HMDS data farm connection is OK:fundfarm, OrderReject: \n",
      "Error - reqId: -1,  errorTime: 1746113098142, errorCode: 2106, errorString: HMDS data farm connection is OK:ushmds, OrderReject: \n",
      "Error - reqId: -1,  errorTime: 1746113098142, errorCode: 2158, errorString: Sec-def data farm connection is OK:secdefeu, OrderReject: \n"
     ]
    }
   ],
   "source": [
    "port = 7496  # Typical port for connecting to TWS (7496 for IB Gateway live trading)\n",
    "clientId = 3\n",
    "\n",
    "# Instantiate the application, connect, and run in a separate thread.\n",
    "app = TestApp()\n",
    "app.connect(\"127.0.0.1\", port, clientId)  # Connect to TWS with clientId \n",
    "threading.Thread(target=app.run).start()  # Start the API event loop in a separate thread\n",
    "\n",
    "# Short pause to ensure the connection is established.\n",
    "time.sleep(1)"
   ]
  },
  {
   "cell_type": "code",
   "execution_count": 4,
   "id": "1b5e474b-caa1-4327-b172-671a2f8f7923",
   "metadata": {},
   "outputs": [
    {
     "data": {
      "text/plain": [
       "1831867809264: ConId: 0, Symbol: AAPL, SecType: STK, LastTradeDateOrContractMonth: , Strike: , Right: , Multiplier: , Exchange: SMART, PrimaryExchange: , Currency: USD, LocalSymbol: , TradingClass: , IncludeExpired: False, SecIdType: , SecId: , Description: , IssuerId: Combo:"
      ]
     },
     "execution_count": 4,
     "metadata": {},
     "output_type": "execute_result"
    }
   ],
   "source": [
    "# Create a contract for Apple Inc. stock.\n",
    "mycontract = Contract()\n",
    "mycontract.symbol = \"AAPL\"      # Symbol for Apple Inc.\n",
    "mycontract.secType = \"STK\"        # Security type: Stock\n",
    "mycontract.exchange = \"SMART\"     # Use IB's Smart Routing\n",
    "mycontract.currency = \"USD\"       # Currency: US Dollars\n",
    "mycontract"
   ]
  },
  {
   "cell_type": "code",
   "execution_count": 5,
   "id": "61649bca-9f03-48e1-ae33-4538f152f009",
   "metadata": {},
   "outputs": [
    {
     "name": "stderr",
     "output_type": "stream",
     "text": [
      "2025-05-01 17:24:39,377 [INFO] REQUEST reqHeadTimeStamp {'reqId': 2, 'contract': 1831867809264: ConId: 0, Symbol: AAPL, SecType: STK, LastTradeDateOrContractMonth: , Strike: , Right: , Multiplier: , Exchange: SMART, PrimaryExchange: , Currency: USD, LocalSymbol: , TradingClass: , IncludeExpired: False, SecIdType: , SecId: , Description: , IssuerId: Combo:, 'whatToShow': 'TRADES', 'useRTH': 1, 'formatDate': 2}\n",
      "2025-05-01 17:24:39,379 [INFO] SENDING reqHeadTimeStamp b'\\x00\\x00\\x00/\\x00\\x00\\x00W2\\x000\\x00AAPL\\x00STK\\x00\\x00\\x00\\x00\\x00SMART\\x00\\x00USD\\x00\\x00\\x000\\x001\\x00TRADES\\x002\\x00'\n",
      "2025-05-01 17:24:39,479 [INFO] ANSWER headTimestamp {'reqId': 2, 'headTimestamp': '345479400'}\n",
      "2025-05-01 17:24:39,480 [INFO] REQUEST cancelHeadTimeStamp {'reqId': 2}\n",
      "2025-05-01 17:24:39,480 [INFO] SENDING cancelHeadTimeStamp b'\\x00\\x00\\x00\\x06\\x00\\x00\\x00Z2\\x00'\n"
     ]
    },
    {
     "name": "stdout",
     "output_type": "stream",
     "text": [
      "Raw head timestamp returned: 345479400\n",
      "Operator Timezone (local converted): 1980-12-12 15:30:00\n"
     ]
    }
   ],
   "source": [
    "# Send the headTimeStamp request.\n",
    "# Parameters:\n",
    "#   reqId           - Unique request ID generated using nextId()\n",
    "#   mycontract      - Contract object defining the instrument\n",
    "#   \"TRADES\"        - The data type on which to base the head timestamp (e.g., Trades)\n",
    "#   1               - Use regular trading hours if applicable (1 means true)\n",
    "#   2               - Format for the timestamp: 2 indicates an epoch integer\n",
    "app.reqHeadTimeStamp(app.nextId(), mycontract, \"TRADES\", 1, 2)"
   ]
  },
  {
   "cell_type": "code",
   "execution_count": null,
   "id": "0fccff03-2d9f-49e0-8d62-19838bdbc486",
   "metadata": {},
   "outputs": [],
   "source": []
  },
  {
   "cell_type": "code",
   "execution_count": null,
   "id": "3d17442e-b81d-4884-b3cc-fc2ffc05557a",
   "metadata": {},
   "outputs": [],
   "source": []
  }
 ],
 "metadata": {
  "kernelspec": {
   "display_name": "Python 3 (ipykernel)",
   "language": "python",
   "name": "python3"
  },
  "language_info": {
   "codemirror_mode": {
    "name": "ipython",
    "version": 3
   },
   "file_extension": ".py",
   "mimetype": "text/x-python",
   "name": "python",
   "nbconvert_exporter": "python",
   "pygments_lexer": "ipython3",
   "version": "3.10.10"
  }
 },
 "nbformat": 4,
 "nbformat_minor": 5
}
