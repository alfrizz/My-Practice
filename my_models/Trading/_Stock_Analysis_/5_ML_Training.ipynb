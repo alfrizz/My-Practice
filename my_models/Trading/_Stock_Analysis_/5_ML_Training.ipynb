{
 "cells": [
  {
   "cell_type": "code",
   "execution_count": 1,
   "id": "73f06a4f-691a-4a84-a305-e7212eb879bf",
   "metadata": {},
   "outputs": [],
   "source": [
    "# %matplotlib widget\n",
    "%matplotlib inline"
   ]
  },
  {
   "cell_type": "code",
   "execution_count": 2,
   "id": "4c868158-e6bb-4d56-bbdd-8e8103f0b9e4",
   "metadata": {},
   "outputs": [],
   "source": [
    "# 1) Wipe out all Python variables\n",
    "%reset -f\n",
    "# 2) Force Python’s garbage collector to run\n",
    "import gc\n",
    "gc.collect()\n",
    "\n",
    "import importlib\n",
    "from libs import trades, plots, params, models\n",
    "importlib.reload(trades)\n",
    "importlib.reload(plots)\n",
    "importlib.reload(params)\n",
    "importlib.reload(models)\n",
    "\n",
    "import pandas as pd\n",
    "import numpy  as np\n",
    "import math\n",
    "\n",
    "import datetime as dt\n",
    "import os\n",
    "from typing import Sequence, List, Tuple, Optional, Union\n",
    "\n",
    "import torch\n",
    "import torch.nn as nn\n",
    "import torch.nn.functional as Funct\n",
    "from torch_lr_finder import LRFinder\n",
    "from torch.utils.data import DataLoader, TensorDataset\n",
    "\n",
    "from tqdm import tqdm"
   ]
  },
  {
   "cell_type": "code",
   "execution_count": 3,
   "id": "7b98406a",
   "metadata": {},
   "outputs": [
    {
     "data": {
      "text/html": [
       "<div>\n",
       "<style scoped>\n",
       "    .dataframe tbody tr th:only-of-type {\n",
       "        vertical-align: middle;\n",
       "    }\n",
       "\n",
       "    .dataframe tbody tr th {\n",
       "        vertical-align: top;\n",
       "    }\n",
       "\n",
       "    .dataframe thead th {\n",
       "        text-align: right;\n",
       "    }\n",
       "</style>\n",
       "<table border=\"1\" class=\"dataframe\">\n",
       "  <thead>\n",
       "    <tr style=\"text-align: right;\">\n",
       "      <th></th>\n",
       "      <th>vol_15</th>\n",
       "      <th>bb_width_20</th>\n",
       "      <th>hour</th>\n",
       "      <th>ma_20</th>\n",
       "      <th>macd_signal_9</th>\n",
       "      <th>low</th>\n",
       "      <th>atr_14</th>\n",
       "      <th>obv</th>\n",
       "      <th>vwap_dev</th>\n",
       "      <th>volume_spike</th>\n",
       "      <th>r_15</th>\n",
       "      <th>close</th>\n",
       "      <th>ma_5</th>\n",
       "      <th>open</th>\n",
       "      <th>high</th>\n",
       "      <th>signal</th>\n",
       "      <th>ask</th>\n",
       "      <th>bid</th>\n",
       "    </tr>\n",
       "  </thead>\n",
       "  <tbody>\n",
       "    <tr>\n",
       "      <th>2004-01-02 13:09:00</th>\n",
       "      <td>-0.808916</td>\n",
       "      <td>-0.760909</td>\n",
       "      <td>-0.759</td>\n",
       "      <td>-0.282361</td>\n",
       "      <td>0.265209</td>\n",
       "      <td>-0.028125</td>\n",
       "      <td>-1.435516</td>\n",
       "      <td>11.535427</td>\n",
       "      <td>-1.319178</td>\n",
       "      <td>0.521049</td>\n",
       "      <td>-0.023670</td>\n",
       "      <td>-0.193762</td>\n",
       "      <td>-0.185561</td>\n",
       "      <td>-0.193147</td>\n",
       "      <td>-0.317313</td>\n",
       "      <td>0.571556</td>\n",
       "      <td>0.764464</td>\n",
       "      <td>0.764007</td>\n",
       "    </tr>\n",
       "    <tr>\n",
       "      <th>2004-01-02 13:10:00</th>\n",
       "      <td>-0.807794</td>\n",
       "      <td>-0.755963</td>\n",
       "      <td>-0.759</td>\n",
       "      <td>-0.284115</td>\n",
       "      <td>0.260467</td>\n",
       "      <td>-0.037500</td>\n",
       "      <td>-1.432540</td>\n",
       "      <td>11.491025</td>\n",
       "      <td>-1.319194</td>\n",
       "      <td>0.643839</td>\n",
       "      <td>-0.029038</td>\n",
       "      <td>-0.201725</td>\n",
       "      <td>-0.192087</td>\n",
       "      <td>-0.201085</td>\n",
       "      <td>-0.324262</td>\n",
       "      <td>0.577493</td>\n",
       "      <td>0.764447</td>\n",
       "      <td>0.763990</td>\n",
       "    </tr>\n",
       "    <tr>\n",
       "      <th>2004-01-02 13:11:00</th>\n",
       "      <td>-0.807018</td>\n",
       "      <td>-0.750666</td>\n",
       "      <td>-0.759</td>\n",
       "      <td>-0.286307</td>\n",
       "      <td>0.254352</td>\n",
       "      <td>-0.046875</td>\n",
       "      <td>-1.429563</td>\n",
       "      <td>11.441197</td>\n",
       "      <td>-1.319208</td>\n",
       "      <td>0.730211</td>\n",
       "      <td>-0.034407</td>\n",
       "      <td>-0.209688</td>\n",
       "      <td>-0.200245</td>\n",
       "      <td>-0.209022</td>\n",
       "      <td>-0.331210</td>\n",
       "      <td>0.583490</td>\n",
       "      <td>0.764431</td>\n",
       "      <td>0.763973</td>\n",
       "    </tr>\n",
       "    <tr>\n",
       "      <th>2004-01-02 13:12:00</th>\n",
       "      <td>-0.806526</td>\n",
       "      <td>-0.745122</td>\n",
       "      <td>-0.759</td>\n",
       "      <td>-0.288939</td>\n",
       "      <td>0.246985</td>\n",
       "      <td>-0.056250</td>\n",
       "      <td>-1.426587</td>\n",
       "      <td>11.385942</td>\n",
       "      <td>-1.319221</td>\n",
       "      <td>0.783592</td>\n",
       "      <td>-0.039775</td>\n",
       "      <td>-0.217651</td>\n",
       "      <td>-0.208402</td>\n",
       "      <td>-0.216960</td>\n",
       "      <td>-0.338159</td>\n",
       "      <td>0.589548</td>\n",
       "      <td>0.764414</td>\n",
       "      <td>0.763957</td>\n",
       "    </tr>\n",
       "    <tr>\n",
       "      <th>2004-01-02 13:13:00</th>\n",
       "      <td>-0.806287</td>\n",
       "      <td>-0.739424</td>\n",
       "      <td>-0.759</td>\n",
       "      <td>-0.292008</td>\n",
       "      <td>0.238524</td>\n",
       "      <td>-0.065625</td>\n",
       "      <td>-1.423611</td>\n",
       "      <td>11.325262</td>\n",
       "      <td>-1.319234</td>\n",
       "      <td>0.808762</td>\n",
       "      <td>-0.045144</td>\n",
       "      <td>-0.225614</td>\n",
       "      <td>-0.216560</td>\n",
       "      <td>-0.224897</td>\n",
       "      <td>-0.345107</td>\n",
       "      <td>0.595669</td>\n",
       "      <td>0.764397</td>\n",
       "      <td>0.763940</td>\n",
       "    </tr>\n",
       "    <tr>\n",
       "      <th>...</th>\n",
       "      <td>...</td>\n",
       "      <td>...</td>\n",
       "      <td>...</td>\n",
       "      <td>...</td>\n",
       "      <td>...</td>\n",
       "      <td>...</td>\n",
       "      <td>...</td>\n",
       "      <td>...</td>\n",
       "      <td>...</td>\n",
       "      <td>...</td>\n",
       "      <td>...</td>\n",
       "      <td>...</td>\n",
       "      <td>...</td>\n",
       "      <td>...</td>\n",
       "      <td>...</td>\n",
       "      <td>...</td>\n",
       "      <td>...</td>\n",
       "      <td>...</td>\n",
       "    </tr>\n",
       "    <tr>\n",
       "      <th>2025-06-18 20:56:00</th>\n",
       "      <td>0.122241</td>\n",
       "      <td>-0.091205</td>\n",
       "      <td>0.824</td>\n",
       "      <td>0.166276</td>\n",
       "      <td>1.090106</td>\n",
       "      <td>0.574157</td>\n",
       "      <td>1.564945</td>\n",
       "      <td>1.052590</td>\n",
       "      <td>6.800559</td>\n",
       "      <td>0.660321</td>\n",
       "      <td>0.884309</td>\n",
       "      <td>0.711538</td>\n",
       "      <td>0.459338</td>\n",
       "      <td>0.549591</td>\n",
       "      <td>0.685627</td>\n",
       "      <td>0.000000</td>\n",
       "      <td>196.874000</td>\n",
       "      <td>196.756000</td>\n",
       "    </tr>\n",
       "    <tr>\n",
       "      <th>2025-06-18 20:57:00</th>\n",
       "      <td>0.159684</td>\n",
       "      <td>-0.049649</td>\n",
       "      <td>0.824</td>\n",
       "      <td>0.194941</td>\n",
       "      <td>1.163926</td>\n",
       "      <td>0.483840</td>\n",
       "      <td>1.725116</td>\n",
       "      <td>0.748311</td>\n",
       "      <td>6.794167</td>\n",
       "      <td>0.802061</td>\n",
       "      <td>0.747424</td>\n",
       "      <td>0.532051</td>\n",
       "      <td>0.532269</td>\n",
       "      <td>0.715746</td>\n",
       "      <td>0.787202</td>\n",
       "      <td>0.000000</td>\n",
       "      <td>196.734000</td>\n",
       "      <td>196.616000</td>\n",
       "    </tr>\n",
       "    <tr>\n",
       "      <th>2025-06-18 20:58:00</th>\n",
       "      <td>0.144477</td>\n",
       "      <td>-0.015466</td>\n",
       "      <td>0.824</td>\n",
       "      <td>0.220771</td>\n",
       "      <td>1.223858</td>\n",
       "      <td>0.574157</td>\n",
       "      <td>1.732743</td>\n",
       "      <td>0.401350</td>\n",
       "      <td>6.793916</td>\n",
       "      <td>0.844247</td>\n",
       "      <td>0.553789</td>\n",
       "      <td>0.525641</td>\n",
       "      <td>0.560418</td>\n",
       "      <td>0.543200</td>\n",
       "      <td>0.533266</td>\n",
       "      <td>0.000000</td>\n",
       "      <td>196.729000</td>\n",
       "      <td>196.611000</td>\n",
       "    </tr>\n",
       "    <tr>\n",
       "      <th>2025-06-18 20:59:00</th>\n",
       "      <td>0.372401</td>\n",
       "      <td>-0.012851</td>\n",
       "      <td>0.824</td>\n",
       "      <td>0.218881</td>\n",
       "      <td>1.212771</td>\n",
       "      <td>0.070963</td>\n",
       "      <td>1.970101</td>\n",
       "      <td>-0.969666</td>\n",
       "      <td>6.774254</td>\n",
       "      <td>4.088204</td>\n",
       "      <td>-0.069996</td>\n",
       "      <td>-0.025641</td>\n",
       "      <td>0.491325</td>\n",
       "      <td>0.549591</td>\n",
       "      <td>0.545962</td>\n",
       "      <td>0.000000</td>\n",
       "      <td>196.298900</td>\n",
       "      <td>196.181100</td>\n",
       "    </tr>\n",
       "    <tr>\n",
       "      <th>2025-06-18 21:00:00</th>\n",
       "      <td>0.444285</td>\n",
       "      <td>-0.018302</td>\n",
       "      <td>0.938</td>\n",
       "      <td>0.241876</td>\n",
       "      <td>1.194266</td>\n",
       "      <td>-0.135475</td>\n",
       "      <td>2.298147</td>\n",
       "      <td>9.335643</td>\n",
       "      <td>6.787202</td>\n",
       "      <td>9.978626</td>\n",
       "      <td>0.441712</td>\n",
       "      <td>0.358974</td>\n",
       "      <td>0.452940</td>\n",
       "      <td>0.421779</td>\n",
       "      <td>0.418994</td>\n",
       "      <td>0.000000</td>\n",
       "      <td>196.599000</td>\n",
       "      <td>196.481000</td>\n",
       "    </tr>\n",
       "  </tbody>\n",
       "</table>\n",
       "<p>2730983 rows × 18 columns</p>\n",
       "</div>"
      ],
      "text/plain": [
       "                       vol_15  bb_width_20   hour     ma_20  macd_signal_9  \\\n",
       "2004-01-02 13:09:00 -0.808916    -0.760909 -0.759 -0.282361       0.265209   \n",
       "2004-01-02 13:10:00 -0.807794    -0.755963 -0.759 -0.284115       0.260467   \n",
       "2004-01-02 13:11:00 -0.807018    -0.750666 -0.759 -0.286307       0.254352   \n",
       "2004-01-02 13:12:00 -0.806526    -0.745122 -0.759 -0.288939       0.246985   \n",
       "2004-01-02 13:13:00 -0.806287    -0.739424 -0.759 -0.292008       0.238524   \n",
       "...                       ...          ...    ...       ...            ...   \n",
       "2025-06-18 20:56:00  0.122241    -0.091205  0.824  0.166276       1.090106   \n",
       "2025-06-18 20:57:00  0.159684    -0.049649  0.824  0.194941       1.163926   \n",
       "2025-06-18 20:58:00  0.144477    -0.015466  0.824  0.220771       1.223858   \n",
       "2025-06-18 20:59:00  0.372401    -0.012851  0.824  0.218881       1.212771   \n",
       "2025-06-18 21:00:00  0.444285    -0.018302  0.938  0.241876       1.194266   \n",
       "\n",
       "                          low    atr_14        obv  vwap_dev  volume_spike  \\\n",
       "2004-01-02 13:09:00 -0.028125 -1.435516  11.535427 -1.319178      0.521049   \n",
       "2004-01-02 13:10:00 -0.037500 -1.432540  11.491025 -1.319194      0.643839   \n",
       "2004-01-02 13:11:00 -0.046875 -1.429563  11.441197 -1.319208      0.730211   \n",
       "2004-01-02 13:12:00 -0.056250 -1.426587  11.385942 -1.319221      0.783592   \n",
       "2004-01-02 13:13:00 -0.065625 -1.423611  11.325262 -1.319234      0.808762   \n",
       "...                       ...       ...        ...       ...           ...   \n",
       "2025-06-18 20:56:00  0.574157  1.564945   1.052590  6.800559      0.660321   \n",
       "2025-06-18 20:57:00  0.483840  1.725116   0.748311  6.794167      0.802061   \n",
       "2025-06-18 20:58:00  0.574157  1.732743   0.401350  6.793916      0.844247   \n",
       "2025-06-18 20:59:00  0.070963  1.970101  -0.969666  6.774254      4.088204   \n",
       "2025-06-18 21:00:00 -0.135475  2.298147   9.335643  6.787202      9.978626   \n",
       "\n",
       "                         r_15     close      ma_5      open      high  \\\n",
       "2004-01-02 13:09:00 -0.023670 -0.193762 -0.185561 -0.193147 -0.317313   \n",
       "2004-01-02 13:10:00 -0.029038 -0.201725 -0.192087 -0.201085 -0.324262   \n",
       "2004-01-02 13:11:00 -0.034407 -0.209688 -0.200245 -0.209022 -0.331210   \n",
       "2004-01-02 13:12:00 -0.039775 -0.217651 -0.208402 -0.216960 -0.338159   \n",
       "2004-01-02 13:13:00 -0.045144 -0.225614 -0.216560 -0.224897 -0.345107   \n",
       "...                       ...       ...       ...       ...       ...   \n",
       "2025-06-18 20:56:00  0.884309  0.711538  0.459338  0.549591  0.685627   \n",
       "2025-06-18 20:57:00  0.747424  0.532051  0.532269  0.715746  0.787202   \n",
       "2025-06-18 20:58:00  0.553789  0.525641  0.560418  0.543200  0.533266   \n",
       "2025-06-18 20:59:00 -0.069996 -0.025641  0.491325  0.549591  0.545962   \n",
       "2025-06-18 21:00:00  0.441712  0.358974  0.452940  0.421779  0.418994   \n",
       "\n",
       "                       signal         ask         bid  \n",
       "2004-01-02 13:09:00  0.571556    0.764464    0.764007  \n",
       "2004-01-02 13:10:00  0.577493    0.764447    0.763990  \n",
       "2004-01-02 13:11:00  0.583490    0.764431    0.763973  \n",
       "2004-01-02 13:12:00  0.589548    0.764414    0.763957  \n",
       "2004-01-02 13:13:00  0.595669    0.764397    0.763940  \n",
       "...                       ...         ...         ...  \n",
       "2025-06-18 20:56:00  0.000000  196.874000  196.756000  \n",
       "2025-06-18 20:57:00  0.000000  196.734000  196.616000  \n",
       "2025-06-18 20:58:00  0.000000  196.729000  196.611000  \n",
       "2025-06-18 20:59:00  0.000000  196.298900  196.181100  \n",
       "2025-06-18 21:00:00  0.000000  196.599000  196.481000  \n",
       "\n",
       "[2730983 rows x 18 columns]"
      ]
     },
     "execution_count": 3,
     "metadata": {},
     "output_type": "execute_result"
    }
   ],
   "source": [
    "look_back      = params.look_back_tick \n",
    "features_cols  = params.features_cols_tick\n",
    "label_col      = params.label_col\n",
    "device         = params.device\n",
    "\n",
    "date = dt.datetime.now().strftime(\"%Y-%m-%d %H:%M\")\n",
    "\n",
    "df_feat = pd.read_csv(params.feat_csv, index_col=0, parse_dates=True)\n",
    "\n",
    "df_features = df_feat[features_cols + ['signal','ask','bid']]\n",
    "df_features "
   ]
  },
  {
   "cell_type": "code",
   "execution_count": 4,
   "id": "b805fa9c",
   "metadata": {},
   "outputs": [
    {
     "name": "stdout",
     "output_type": "stream",
     "text": [
      "Shapes:\n",
      "  X         = torch.Size([2408363, 60, 15]) (samples, look_back, features)\n",
      "  y         = torch.Size([2408363]) (samples,)\n",
      "  raw_close = torch.Size([2408363])\n",
      "  raw_bid   = torch.Size([2408363])\n",
      "  raw_ask   = torch.Size([2408363])\n"
     ]
    }
   ],
   "source": [
    "X, y, raw_close, raw_bid, raw_ask = models.build_lstm_tensors(\n",
    "    df=df_features,\n",
    "    look_back=look_back,\n",
    "    features_cols=features_cols,\n",
    "    label_col=label_col,\n",
    "    regular_start=params.regular_start_pred\n",
    ")\n",
    "\n",
    "# quick shapes\n",
    "print(\"Shapes:\")\n",
    "print(\"  X         =\", X.shape,    \"(samples, look_back, features)\")\n",
    "print(\"  y         =\", y.shape,    \"(samples,)\")\n",
    "print(\"  raw_close =\", raw_close.shape)\n",
    "print(\"  raw_bid   =\", raw_bid.shape)\n",
    "print(\"  raw_ask   =\", raw_ask.shape)\n"
   ]
  },
  {
   "cell_type": "code",
   "execution_count": 5,
   "id": "7b4f1ac4",
   "metadata": {},
   "outputs": [
    {
     "name": "stdout",
     "output_type": "stream",
     "text": [
      "Shapes:\n",
      "  X_tr        = torch.Size([1686496, 60, 15])\n",
      "  y_tr        = torch.Size([1686496])\n",
      "  raw_close_te= torch.Size([363336])\n",
      "  raw_bid_te  = torch.Size([363336])\n",
      "  raw_ask_te  = torch.Size([363336])\n"
     ]
    }
   ],
   "source": [
    "# Split into train/val/test by calendar day\n",
    "(X_tr, y_tr), \\\n",
    "(X_val, y_val), \\\n",
    "(X_te, y_te, raw_close_te, raw_bid_te, raw_ask_te), \\\n",
    "samples_per_day, day_id_tr, day_id_val, day_id_te = models.chronological_split(\n",
    "    X, y, raw_close, raw_bid, raw_ask, df_features,\n",
    "    look_back   = look_back,\n",
    "    regular_start   = params.regular_start_pred,\n",
    "    train_prop  = params.train_prop,\n",
    "    val_prop    = params.val_prop,\n",
    "    train_batch = params.hparams['TRAIN_BATCH']\n",
    ")\n",
    "\n",
    "# Print shapes of all tensors\n",
    "print(\"Shapes:\")\n",
    "print(\"  X_tr        =\", X_tr.shape)\n",
    "print(\"  y_tr        =\", y_tr.shape)\n",
    "print(\"  raw_close_te=\", raw_close_te.shape)\n",
    "print(\"  raw_bid_te  =\", raw_bid_te.shape)\n",
    "print(\"  raw_ask_te  =\", raw_ask_te.shape)\n"
   ]
  },
  {
   "cell_type": "code",
   "execution_count": 6,
   "id": "1ad9b6c4-3d79-45c0-b2c0-c4f46f1ad866",
   "metadata": {},
   "outputs": [
    {
     "name": "stdout",
     "output_type": "stream",
     "text": [
      "▶️ Entered split_to_day_datasets\n",
      "1) building weekday arrays\n",
      "   Weekdays counts → tr=1686496, val=358531, te=363336\n",
      "2) moving all splits to CPU\n",
      "   CPU casts done\n",
      "3) zero-bas­ing day_id for val & test\n",
      "   val_day_id ∈ [0..794], total days=795\n",
      "   te_day_id  ∈ [0..805], total days=806\n",
      "4) instantiating DayWindowDatasets\n",
      "   ds_tr days: 3776\n",
      "   ds_val days: 795\n",
      "   ds_te days: 806\n",
      "5) building DataLoaders\n",
      "   train_loader ready\n",
      "   val_loader ready\n",
      "   test_loader ready\n"
     ]
    }
   ],
   "source": [
    "# -----------------------------------------------------------------------------\n",
    "#  Build DataLoaders over calendar‐days\n",
    "# -----------------------------------------------------------------------------\n",
    "train_loader, val_loader, test_loader = models.split_to_day_datasets(\n",
    "    # Training split arrays (from chronological_split)\n",
    "    X_tr, y_tr, day_id_tr,\n",
    "    # Validation split arrays\n",
    "    X_val, y_val, day_id_val,\n",
    "    # Test split arrays + raw prices for post‐tracking\n",
    "    X_te, y_te, day_id_te, raw_close_te, raw_bid_te, raw_ask_te,\n",
    "    # Original minute‐bar DataFrame for weekday mapping\n",
    "    df=df_features,\n",
    "    train_batch=params.hparams['TRAIN_BATCH'],\n",
    "    train_workers=params.hparams['NUM_WORKERS'],\n",
    "    train_prefetch_factor=params.hparams['TRAIN_PREFETCH_FACTOR']\n",
    ")\n"
   ]
  },
  {
   "cell_type": "code",
   "execution_count": 7,
   "id": "eeec031f-6c8f-455f-9c72-ae411e03ba34",
   "metadata": {},
   "outputs": [
    {
     "data": {
      "text/plain": [
       "DualMemoryLSTM(\n",
       "  (short_lstm): LSTM(15, 64, batch_first=True)\n",
       "  (attn): MultiheadAttention(\n",
       "    (out_proj): NonDynamicallyQuantizableLinear(in_features=64, out_features=64, bias=True)\n",
       "  )\n",
       "  (do_short): Dropout(p=0.4, inplace=False)\n",
       "  (ln_short): LayerNorm((64,), eps=1e-05, elementwise_affine=True)\n",
       "  (long_lstm): LSTM(64, 64, batch_first=True)\n",
       "  (do_long): Dropout(p=0.4, inplace=False)\n",
       "  (ln_long): LayerNorm((64,), eps=1e-05, elementwise_affine=True)\n",
       "  (pred): Linear(in_features=64, out_features=1, bias=True)\n",
       ")"
      ]
     },
     "execution_count": 7,
     "metadata": {},
     "output_type": "execute_result"
    }
   ],
   "source": [
    "\n",
    "# -----------------------------------------------------------------------------\n",
    "# Instantiate the stateful DualMemoryLSTM & move to device\n",
    "# -----------------------------------------------------------------------------\n",
    "model = models.DualMemoryLSTM(\n",
    "    n_feats        = len(features_cols),                          \n",
    "    short_units    = params.hparams['SHORT_UNITS'],    \n",
    "    long_units     = params.hparams['LONG_UNITS'],     \n",
    "    dropout_short  = params.hparams['DROPOUT_SHORT'],  \n",
    "    dropout_long   = params.hparams['DROPOUT_LONG'],   \n",
    "    att_heads      = params.hparams['ATT_HEADS'],\n",
    "    att_drop       = params.hparams['ATT_DROPOUT']\n",
    ")\n",
    "model.to(device)   # place model parameters on GPU or CPU as specified\n",
    "\n",
    "model"
   ]
  },
  {
   "cell_type": "code",
   "execution_count": 8,
   "id": "5512a0dd-d2c8-418e-bfca-4580fb4be995",
   "metadata": {},
   "outputs": [
    {
     "data": {
      "text/plain": [
       "AdamW (\n",
       "Parameter Group 0\n",
       "    amsgrad: False\n",
       "    betas: (0.9, 0.999)\n",
       "    capturable: False\n",
       "    decoupled_weight_decay: True\n",
       "    differentiable: False\n",
       "    eps: 1e-08\n",
       "    foreach: None\n",
       "    fused: None\n",
       "    initial_lr: 3e-05\n",
       "    lr: 3e-05\n",
       "    maximize: False\n",
       "    weight_decay: 0.0005\n",
       ")"
      ]
     },
     "execution_count": 8,
     "metadata": {},
     "output_type": "execute_result"
    }
   ],
   "source": [
    "# -----------------------------------------------------------------------------\n",
    "# Compute plateau_sched timing parameters\n",
    "# -----------------------------------------------------------------------------\n",
    "# Total training samples = total windows in X_tr (one window per row)\n",
    "n_train_samples = X_tr.shape[0]\n",
    "\n",
    "# How many optimizer steps (day‐bundles) constitute one epoch?\n",
    "steps_per_epoch = len(train_loader)\n",
    "\n",
    "\n",
    "# -----------------------------------------------------------------------------\n",
    "# Build optimizer, LR scheduler, AMP scaler, and gradient‐clip norm\n",
    "# -----------------------------------------------------------------------------\n",
    "optimizer, plateau_sched, cosine_sched, scaler, clipnorm = models.make_optimizer_and_scheduler(\n",
    "    model,\n",
    "    initial_lr        = params.hparams['INITIAL_LR'],       \n",
    "    weight_decay      = params.hparams['WEIGHT_DECAY'],     \n",
    "    clipnorm          = params.hparams['CLIPNORM']   \n",
    ")\n",
    "\n",
    "optimizer"
   ]
  },
  {
   "cell_type": "code",
   "execution_count": 9,
   "id": "1e70105f-bbe5-4ce0-aabe-acf9193ef401",
   "metadata": {},
   "outputs": [],
   "source": [
    "# ###########################################\n",
    "# # function to find the optimal learning rate\n",
    "# ###########################################\n",
    "\n",
    "# # 1) Move model to CPU and build a fresh optimizer (no scheduler metadata)\n",
    "# model_cpu = model.cpu()\n",
    "# optimizer_cpu = torch.optim.AdamW(\n",
    "#     model_cpu.parameters(),\n",
    "#     lr=1e-3,        # placeholder; the finder will override this\n",
    "#     weight_decay=5e-4\n",
    "# )\n",
    "\n",
    "# # 2) Create a tiny DataLoader (batch_size=1) to save memory\n",
    "# small_loader = DataLoader(\n",
    "#     train_loader.dataset,\n",
    "#     batch_size=1,\n",
    "#     shuffle=True,\n",
    "#     num_workers=0\n",
    "# )\n",
    "\n",
    "# # 3) Define an aligned MSE that permutes/expands your [1,1,D] or [D,1,1]\n",
    "# #    target → [D, T, 1] to match output shape exactly.\n",
    "# def aligned_mse(output, target):\n",
    "#     # output: [D, T, 1]\n",
    "#     # target might come in as [D,1,1] or [1,1,D]\n",
    "#     tgt = target\n",
    "\n",
    "#     # Case A: target == [D, 1, 1] → expand middle dim to T\n",
    "#     if tgt.dim() == 3 and tgt.shape[0] == output.shape[0] \\\n",
    "#        and tgt.shape[1] == 1 and tgt.shape[2] == 1:\n",
    "#         tgt = tgt.expand(-1, output.size(1), -1)\n",
    "\n",
    "#     # Case B: target == [1, 1, D] → permute to [D,1,1] then expand\n",
    "#     elif tgt.dim() == 3 and tgt.shape[0] == 1 \\\n",
    "#          and tgt.shape[1] == 1 and tgt.shape[2] == output.shape[0]:\n",
    "#         # permute (0,1,2) → (2,1,0) to get [D,1,1]\n",
    "#         tgt = tgt.permute(2, 1, 0)\n",
    "#         tgt = tgt.expand(-1, output.size(1), -1)\n",
    "\n",
    "#     else:\n",
    "#         # fallback: broadcast to exactly output.shape\n",
    "#         tgt = tgt.expand(output.shape)\n",
    "\n",
    "#     return Funct.mse_loss(output, tgt)\n",
    "\n",
    "# # 4) Free any lingering GPU memory\n",
    "# gc.collect()\n",
    "# torch.cuda.empty_cache()\n",
    "\n",
    "# # 5) Run the LR‐Finder on CPU for just 30 mini‐batches\n",
    "# lr_finder = LRFinder(\n",
    "#     model_cpu,\n",
    "#     optimizer_cpu,\n",
    "#     aligned_mse,\n",
    "#     device=\"cpu\"\n",
    "# )\n",
    "# lr_finder.range_test(\n",
    "#     small_loader,\n",
    "#     end_lr=1,     # maximum LR to try\n",
    "#     num_iter=30   # number of batches\n",
    "# )\n",
    "# lr_finder.plot()   # examine loss vs. LR curve\n",
    "# lr_finder.reset()  # restore original model & optimizer states\n",
    "\n",
    "# # 6) Move model back to GPU for your main training\n",
    "# model = model_cpu.to(\"cuda\")\n"
   ]
  },
  {
   "cell_type": "code",
   "execution_count": null,
   "id": "7bf94780-a876-4bf4-ad27-6abc2da1fc0a",
   "metadata": {},
   "outputs": [
    {
     "name": "stdout",
     "output_type": "stream",
     "text": [
      "Training sees 3776 calendar days per epoch\n",
      "\n",
      "Baseline (zero‐forecast) RMSE on validation = 0.280925\n"
     ]
    },
    {
     "data": {
      "image/png": "[encoded data removed]",
      "text/plain": [
       "<Figure size 660x440 with 1 Axes>"
      ]
     },
     "metadata": {},
     "output_type": "display_data"
    },
    {
     "data": {
      "application/vnd.jupyter.widget-view+json": {
       "model_id": "008756b2ccdf44f0bddc94c28b3d6d93",
       "version_major": 2,
       "version_minor": 0
      },
      "text/plain": [
       "Epoch 1:   0%|          | 0/118 [00:00<?, ?bundle/s]"
      ]
     },
     "metadata": {},
     "output_type": "display_data"
    },
    {
     "name": "stdout",
     "output_type": "stream",
     "text": [
      "Epoch 001 • train=0.4124 • val=0.2141 • lr=3.00e-05\n"
     ]
    },
    {
     "data": {
      "application/vnd.jupyter.widget-view+json": {
       "model_id": "4a40350dc97d4539bc34a20de34c9b8d",
       "version_major": 2,
       "version_minor": 0
      },
      "text/plain": [
       "Epoch 2:   0%|          | 0/118 [00:00<?, ?bundle/s]"
      ]
     },
     "metadata": {},
     "output_type": "display_data"
    },
    {
     "name": "stdout",
     "output_type": "stream",
     "text": [
      "Epoch 002 • train=0.3221 • val=0.1918 • lr=2.99e-05\n"
     ]
    },
    {
     "data": {
      "application/vnd.jupyter.widget-view+json": {
       "model_id": "4ab18e8a78e64875b686eaa99dd0402e",
       "version_major": 2,
       "version_minor": 0
      },
      "text/plain": [
       "Epoch 3:   0%|          | 0/118 [00:00<?, ?bundle/s]"
      ]
     },
     "metadata": {},
     "output_type": "display_data"
    },
    {
     "name": "stdout",
     "output_type": "stream",
     "text": [
      "Epoch 003 • train=0.2645 • val=0.1981 • lr=2.98e-05\n"
     ]
    },
    {
     "data": {
      "application/vnd.jupyter.widget-view+json": {
       "model_id": "e64223a4abd94d4694782dfba232edf1",
       "version_major": 2,
       "version_minor": 0
      },
      "text/plain": [
       "Epoch 4:   0%|          | 0/118 [00:00<?, ?bundle/s]"
      ]
     },
     "metadata": {},
     "output_type": "display_data"
    },
    {
     "name": "stdout",
     "output_type": "stream",
     "text": [
      "Epoch 004 • train=0.2297 • val=0.1998 • lr=2.97e-05\n"
     ]
    },
    {
     "data": {
      "application/vnd.jupyter.widget-view+json": {
       "model_id": "ed71a5deb36d477b948b072cacfccb38",
       "version_major": 2,
       "version_minor": 0
      },
      "text/plain": [
       "Epoch 5:   0%|          | 0/118 [00:00<?, ?bundle/s]"
      ]
     },
     "metadata": {},
     "output_type": "display_data"
    },
    {
     "name": "stdout",
     "output_type": "stream",
     "text": [
      "Epoch 005 • train=0.2098 • val=0.1984 • lr=2.95e-05\n"
     ]
    },
    {
     "data": {
      "application/vnd.jupyter.widget-view+json": {
       "model_id": "4e40c341083140f4bc9d33f87b0340d8",
       "version_major": 2,
       "version_minor": 0
      },
      "text/plain": [
       "Epoch 6:   0%|          | 0/118 [00:00<?, ?bundle/s]"
      ]
     },
     "metadata": {},
     "output_type": "display_data"
    },
    {
     "name": "stdout",
     "output_type": "stream",
     "text": [
      "Epoch 006 • train=0.1982 • val=0.1947 • lr=2.93e-05\n"
     ]
    },
    {
     "data": {
      "application/vnd.jupyter.widget-view+json": {
       "model_id": "0b23951b3baf4c6fa30c2b0e59343e8f",
       "version_major": 2,
       "version_minor": 0
      },
      "text/plain": [
       "Epoch 7:   0%|          | 0/118 [00:00<?, ?bundle/s]"
      ]
     },
     "metadata": {},
     "output_type": "display_data"
    },
    {
     "name": "stdout",
     "output_type": "stream",
     "text": [
      "Epoch 007 • train=0.1905 • val=0.1899 • lr=2.90e-05\n"
     ]
    },
    {
     "data": {
      "application/vnd.jupyter.widget-view+json": {
       "model_id": "d3189d99b02942f29c8943102b75df40",
       "version_major": 2,
       "version_minor": 0
      },
      "text/plain": [
       "Epoch 8:   0%|          | 0/118 [00:00<?, ?bundle/s]"
      ]
     },
     "metadata": {},
     "output_type": "display_data"
    },
    {
     "name": "stdout",
     "output_type": "stream",
     "text": [
      "Epoch 008 • train=0.1853 • val=0.1859 • lr=2.87e-05\n"
     ]
    },
    {
     "data": {
      "application/vnd.jupyter.widget-view+json": {
       "model_id": "6924af93050d4e23b2e6031a1f4b391e",
       "version_major": 2,
       "version_minor": 0
      },
      "text/plain": [
       "Epoch 9:   0%|          | 0/118 [00:00<?, ?bundle/s]"
      ]
     },
     "metadata": {},
     "output_type": "display_data"
    },
    {
     "name": "stdout",
     "output_type": "stream",
     "text": [
      "Epoch 009 • train=0.1813 • val=0.1809 • lr=2.84e-05\n"
     ]
    },
    {
     "data": {
      "application/vnd.jupyter.widget-view+json": {
       "model_id": "1cccf81b7bc5416aa34e040a71244054",
       "version_major": 2,
       "version_minor": 0
      },
      "text/plain": [
       "Epoch 10:   0%|          | 0/118 [00:00<?, ?bundle/s]"
      ]
     },
     "metadata": {},
     "output_type": "display_data"
    },
    {
     "name": "stdout",
     "output_type": "stream",
     "text": [
      "Epoch 010 • train=0.1781 • val=0.1766 • lr=2.81e-05\n"
     ]
    },
    {
     "data": {
      "application/vnd.jupyter.widget-view+json": {
       "model_id": "12899e821aa44002a1d98b199285414f",
       "version_major": 2,
       "version_minor": 0
      },
      "text/plain": [
       "Epoch 11:   0%|          | 0/118 [00:00<?, ?bundle/s]"
      ]
     },
     "metadata": {},
     "output_type": "display_data"
    },
    {
     "name": "stdout",
     "output_type": "stream",
     "text": [
      "Epoch 011 • train=0.1757 • val=0.1727 • lr=2.77e-05\n"
     ]
    },
    {
     "data": {
      "application/vnd.jupyter.widget-view+json": {
       "model_id": "70c201ca3be0470195475ac27e2b457f",
       "version_major": 2,
       "version_minor": 0
      },
      "text/plain": [
       "Epoch 12:   0%|          | 0/118 [00:00<?, ?bundle/s]"
      ]
     },
     "metadata": {},
     "output_type": "display_data"
    },
    {
     "name": "stdout",
     "output_type": "stream",
     "text": [
      "Epoch 012 • train=0.1738 • val=0.1697 • lr=2.72e-05\n"
     ]
    },
    {
     "data": {
      "application/vnd.jupyter.widget-view+json": {
       "model_id": "4f85b61b541c47e29440fe2c9d7aa74d",
       "version_major": 2,
       "version_minor": 0
      },
      "text/plain": [
       "Epoch 13:   0%|          | 0/118 [00:00<?, ?bundle/s]"
      ]
     },
     "metadata": {},
     "output_type": "display_data"
    },
    {
     "name": "stdout",
     "output_type": "stream",
     "text": [
      "Epoch 013 • train=0.1722 • val=0.1673 • lr=2.68e-05\n"
     ]
    },
    {
     "data": {
      "application/vnd.jupyter.widget-view+json": {
       "model_id": "d5c9d3d29cdb45518dfdafe5c9699fef",
       "version_major": 2,
       "version_minor": 0
      },
      "text/plain": [
       "Epoch 14:   0%|          | 0/118 [00:00<?, ?bundle/s]"
      ]
     },
     "metadata": {},
     "output_type": "display_data"
    },
    {
     "name": "stdout",
     "output_type": "stream",
     "text": [
      "Epoch 014 • train=0.1711 • val=0.1657 • lr=2.63e-05\n"
     ]
    },
    {
     "data": {
      "application/vnd.jupyter.widget-view+json": {
       "model_id": "7514c159050140ac85d57ded482feb55",
       "version_major": 2,
       "version_minor": 0
      },
      "text/plain": [
       "Epoch 15:   0%|          | 0/118 [00:00<?, ?bundle/s]"
      ]
     },
     "metadata": {},
     "output_type": "display_data"
    },
    {
     "name": "stdout",
     "output_type": "stream",
     "text": [
      "Epoch 015 • train=0.1700 • val=0.1646 • lr=2.58e-05\n"
     ]
    },
    {
     "data": {
      "application/vnd.jupyter.widget-view+json": {
       "model_id": "eb64f87e2627472fbc9aacb7cfa70581",
       "version_major": 2,
       "version_minor": 0
      },
      "text/plain": [
       "Epoch 16:   0%|          | 0/118 [00:00<?, ?bundle/s]"
      ]
     },
     "metadata": {},
     "output_type": "display_data"
    },
    {
     "name": "stdout",
     "output_type": "stream",
     "text": [
      "Epoch 016 • train=0.1692 • val=0.1639 • lr=2.52e-05\n"
     ]
    },
    {
     "data": {
      "application/vnd.jupyter.widget-view+json": {
       "model_id": "558e700efbe54e2fbca144e35cc08f0b",
       "version_major": 2,
       "version_minor": 0
      },
      "text/plain": [
       "Epoch 17:   0%|          | 0/118 [00:00<?, ?bundle/s]"
      ]
     },
     "metadata": {},
     "output_type": "display_data"
    },
    {
     "name": "stdout",
     "output_type": "stream",
     "text": [
      "Epoch 017 • train=0.1684 • val=0.1638 • lr=2.46e-05\n"
     ]
    },
    {
     "data": {
      "application/vnd.jupyter.widget-view+json": {
       "model_id": "178f454579374617896ebc7edf5d0c88",
       "version_major": 2,
       "version_minor": 0
      },
      "text/plain": [
       "Epoch 18:   0%|          | 0/118 [00:00<?, ?bundle/s]"
      ]
     },
     "metadata": {},
     "output_type": "display_data"
    },
    {
     "name": "stdout",
     "output_type": "stream",
     "text": [
      "Epoch 018 • train=0.1677 • val=0.1641 • lr=2.40e-05\n"
     ]
    },
    {
     "data": {
      "application/vnd.jupyter.widget-view+json": {
       "model_id": "cd8e1bd8bf3445c98f2744aeb8079e94",
       "version_major": 2,
       "version_minor": 0
      },
      "text/plain": [
       "Epoch 19:   0%|          | 0/118 [00:00<?, ?bundle/s]"
      ]
     },
     "metadata": {},
     "output_type": "display_data"
    },
    {
     "name": "stdout",
     "output_type": "stream",
     "text": [
      "Epoch 019 • train=0.1672 • val=0.1645 • lr=2.34e-05\n"
     ]
    },
    {
     "data": {
      "application/vnd.jupyter.widget-view+json": {
       "model_id": "d369a4a64fd24c35a6ee9b2b35154b12",
       "version_major": 2,
       "version_minor": 0
      },
      "text/plain": [
       "Epoch 20:   0%|          | 0/118 [00:00<?, ?bundle/s]"
      ]
     },
     "metadata": {},
     "output_type": "display_data"
    },
    {
     "name": "stdout",
     "output_type": "stream",
     "text": [
      "Epoch 020 • train=0.1666 • val=0.1650 • lr=2.28e-05\n"
     ]
    },
    {
     "data": {
      "application/vnd.jupyter.widget-view+json": {
       "model_id": "f719e748072b4e8ea9bac2198261251a",
       "version_major": 2,
       "version_minor": 0
      },
      "text/plain": [
       "Epoch 21:   0%|          | 0/118 [00:00<?, ?bundle/s]"
      ]
     },
     "metadata": {},
     "output_type": "display_data"
    },
    {
     "name": "stdout",
     "output_type": "stream",
     "text": [
      "Epoch 021 • train=0.1662 • val=0.1655 • lr=2.21e-05\n"
     ]
    },
    {
     "data": {
      "application/vnd.jupyter.widget-view+json": {
       "model_id": "2d088af2b315441db940d2cefa94a09f",
       "version_major": 2,
       "version_minor": 0
      },
      "text/plain": [
       "Epoch 22:   0%|          | 0/118 [00:00<?, ?bundle/s]"
      ]
     },
     "metadata": {},
     "output_type": "display_data"
    },
    {
     "name": "stdout",
     "output_type": "stream",
     "text": [
      "Epoch 022 • train=0.1658 • val=0.1662 • lr=2.14e-05\n"
     ]
    },
    {
     "data": {
      "application/vnd.jupyter.widget-view+json": {
       "model_id": "3e1eeb7549e44898bcae843609cfdb74",
       "version_major": 2,
       "version_minor": 0
      },
      "text/plain": [
       "Epoch 23:   0%|          | 0/118 [00:00<?, ?bundle/s]"
      ]
     },
     "metadata": {},
     "output_type": "display_data"
    },
    {
     "name": "stdout",
     "output_type": "stream",
     "text": [
      "Epoch 023 • train=0.1655 • val=0.1669 • lr=2.07e-05\n"
     ]
    },
    {
     "data": {
      "application/vnd.jupyter.widget-view+json": {
       "model_id": "1d3567c4bee342c49e1936dab4f1c55f",
       "version_major": 2,
       "version_minor": 0
      },
      "text/plain": [
       "Epoch 24:   0%|          | 0/118 [00:00<?, ?bundle/s]"
      ]
     },
     "metadata": {},
     "output_type": "display_data"
    },
    {
     "name": "stdout",
     "output_type": "stream",
     "text": [
      "Epoch 024 • train=0.1651 • val=0.1672 • lr=2.00e-05\n"
     ]
    },
    {
     "data": {
      "application/vnd.jupyter.widget-view+json": {
       "model_id": "8f66f3ba3f784daa8bccb1a9df27bf02",
       "version_major": 2,
       "version_minor": 0
      },
      "text/plain": [
       "Epoch 25:   0%|          | 0/118 [00:00<?, ?bundle/s]"
      ]
     },
     "metadata": {},
     "output_type": "display_data"
    },
    {
     "name": "stdout",
     "output_type": "stream",
     "text": [
      "Epoch 025 • train=0.1648 • val=0.1680 • lr=1.93e-05\n"
     ]
    },
    {
     "data": {
      "application/vnd.jupyter.widget-view+json": {
       "model_id": "90398af47b184d038562b04e75e02f98",
       "version_major": 2,
       "version_minor": 0
      },
      "text/plain": [
       "Epoch 26:   0%|          | 0/118 [00:00<?, ?bundle/s]"
      ]
     },
     "metadata": {},
     "output_type": "display_data"
    },
    {
     "name": "stdout",
     "output_type": "stream",
     "text": [
      "Epoch 026 • train=0.1645 • val=0.1684 • lr=1.85e-05\n"
     ]
    },
    {
     "data": {
      "application/vnd.jupyter.widget-view+json": {
       "model_id": "a8285f2e8863459fa8209a3747f58350",
       "version_major": 2,
       "version_minor": 0
      },
      "text/plain": [
       "Epoch 27:   0%|          | 0/118 [00:00<?, ?bundle/s]"
      ]
     },
     "metadata": {},
     "output_type": "display_data"
    },
    {
     "name": "stdout",
     "output_type": "stream",
     "text": [
      "Epoch 027 • train=0.1643 • val=0.1690 • lr=1.78e-05\n"
     ]
    },
    {
     "data": {
      "application/vnd.jupyter.widget-view+json": {
       "model_id": "50428ea4921846faa7a17f7890052bd3",
       "version_major": 2,
       "version_minor": 0
      },
      "text/plain": [
       "Epoch 28:   0%|          | 0/118 [00:00<?, ?bundle/s]"
      ]
     },
     "metadata": {},
     "output_type": "display_data"
    },
    {
     "name": "stdout",
     "output_type": "stream",
     "text": [
      "Epoch 028 • train=0.1641 • val=0.1699 • lr=1.70e-05\n"
     ]
    },
    {
     "data": {
      "application/vnd.jupyter.widget-view+json": {
       "model_id": "43d6b5b56f7c4056ab70497096b69608",
       "version_major": 2,
       "version_minor": 0
      },
      "text/plain": [
       "Epoch 29:   0%|          | 0/118 [00:00<?, ?bundle/s]"
      ]
     },
     "metadata": {},
     "output_type": "display_data"
    }
   ],
   "source": [
    "# -----------------------------------------------------------------------------\n",
    "# Count how many calendar days we see each epoch and Compute baseline RMSE on validation (zero forecast)\n",
    "# -----------------------------------------------------------------------------\n",
    "n_train_days = len(train_loader.dataset)  # dataset length = # unique days\n",
    "print(f\"Training sees {n_train_days} calendar days per epoch\\n\")\n",
    "\n",
    "baseline_val_rmse = models.naive_rmse(val_loader)\n",
    "print(f\"Baseline (zero‐forecast) RMSE on validation = {baseline_val_rmse:.6f}\")\n",
    "\n",
    "\n",
    "# -----------------------------------------------------------------------------\n",
    "# Run the custom stateful training loop\n",
    "# -----------------------------------------------------------------------------\n",
    "best_val_rmse  = models.custom_stateful_training_loop(\n",
    "    model               = model,\n",
    "    optimizer           = optimizer,\n",
    "    cosine_sched        = cosine_sched,\n",
    "    plateau_sched       = plateau_sched,\n",
    "    scaler              = scaler,\n",
    "    train_loader        = train_loader,\n",
    "    val_loader          = val_loader,\n",
    "    max_epochs          = params.hparams['MAX_EPOCHS'],\n",
    "    early_stop_patience = params.hparams['EARLY_STOP_PATIENCE'],\n",
    "    baseline_val_rmse   = baseline_val_rmse,\n",
    "    clipnorm            = clipnorm,\n",
    "    device              = device\n",
    ")\n",
    "\n",
    "# -----------------------------------------------------------------------------\n",
    "# Final reporting: best RMSE and relative improvement\n",
    "# -----------------------------------------------------------------------------\n",
    "print(f\"\\nChampion validation RMSE = {best_val_rmse:.6f}\")\n",
    "\n",
    "improvement = 100.0 * (1.0 - best_val_rmse / baseline_val_rmse)\n",
    "print(f\"Improvement over zero‐baseline = {improvement:5.1f}%\")\n"
   ]
  },
  {
   "cell_type": "code",
   "execution_count": null,
   "id": "4c8660dd-d2db-434a-aa59-17814d343fbe",
   "metadata": {},
   "outputs": [],
   "source": []
  },
  {
   "cell_type": "code",
   "execution_count": null,
   "id": "138c3b45-e00a-4a85-860d-4f87b71cbbbc",
   "metadata": {},
   "outputs": [],
   "source": []
  }
 ],
 "metadata": {
  "kernelspec": {
   "display_name": "Python 3 (ipykernel)",
   "language": "python",
   "name": "python3"
  },
  "language_info": {
   "codemirror_mode": {
    "name": "ipython",
    "version": 3
   },
   "file_extension": ".py",
   "mimetype": "text/x-python",
   "name": "python",
   "nbconvert_exporter": "python",
   "pygments_lexer": "ipython3",
   "version": "3.12.3"
  }
 },
 "nbformat": 4,
 "nbformat_minor": 5
}
