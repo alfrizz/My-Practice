{
 "cells": [
  {
   "cell_type": "code",
   "execution_count": 1,
   "id": "73f06a4f-691a-4a84-a305-e7212eb879bf",
   "metadata": {},
   "outputs": [],
   "source": [
    "# %matplotlib widget\n",
    "%matplotlib inline"
   ]
  },
  {
   "cell_type": "code",
   "execution_count": 2,
   "id": "4c868158-e6bb-4d56-bbdd-8e8103f0b9e4",
   "metadata": {},
   "outputs": [],
   "source": [
    "# 1) Wipe out all Python variables\n",
    "%reset -f\n",
    "# 2) Force Python’s garbage collector to run\n",
    "import gc\n",
    "gc.collect()\n",
    "\n",
    "import importlib\n",
    "from libs import trades, plots, params, models\n",
    "importlib.reload(trades)\n",
    "importlib.reload(plots)\n",
    "importlib.reload(params)\n",
    "importlib.reload(models)\n",
    "\n",
    "import pandas as pd\n",
    "import numpy  as np\n",
    "import math\n",
    "\n",
    "import datetime as dt\n",
    "import os\n",
    "from typing import Sequence, List, Tuple, Optional, Union\n",
    "\n",
    "import torch\n",
    "import torch.nn as nn\n",
    "import torch.nn.functional as Funct\n",
    "from torch_lr_finder import LRFinder\n",
    "from torch.utils.data import DataLoader, TensorDataset\n",
    "\n",
    "from tqdm import tqdm"
   ]
  },
  {
   "cell_type": "code",
   "execution_count": 3,
   "id": "7b98406a",
   "metadata": {},
   "outputs": [
    {
     "name": "stdout",
     "output_type": "stream",
     "text": [
      "Using device: cuda\n"
     ]
    },
    {
     "data": {
      "text/html": [
       "<div>\n",
       "<style scoped>\n",
       "    .dataframe tbody tr th:only-of-type {\n",
       "        vertical-align: middle;\n",
       "    }\n",
       "\n",
       "    .dataframe tbody tr th {\n",
       "        vertical-align: top;\n",
       "    }\n",
       "\n",
       "    .dataframe thead th {\n",
       "        text-align: right;\n",
       "    }\n",
       "</style>\n",
       "<table border=\"1\" class=\"dataframe\">\n",
       "  <thead>\n",
       "    <tr style=\"text-align: right;\">\n",
       "      <th></th>\n",
       "      <th>vol_15</th>\n",
       "      <th>bb_width_20</th>\n",
       "      <th>hour</th>\n",
       "      <th>ma_20</th>\n",
       "      <th>macd_signal_9</th>\n",
       "      <th>low</th>\n",
       "      <th>atr_14</th>\n",
       "      <th>obv</th>\n",
       "      <th>vwap_dev</th>\n",
       "      <th>volume_spike</th>\n",
       "      <th>r_15</th>\n",
       "      <th>close</th>\n",
       "      <th>ma_5</th>\n",
       "      <th>open</th>\n",
       "      <th>high</th>\n",
       "      <th>bid</th>\n",
       "      <th>ask</th>\n",
       "      <th>signal</th>\n",
       "    </tr>\n",
       "  </thead>\n",
       "  <tbody>\n",
       "    <tr>\n",
       "      <th>2004-01-02 12:49:00</th>\n",
       "      <td>0.000000</td>\n",
       "      <td>0.000000</td>\n",
       "      <td>12</td>\n",
       "      <td>0.764286</td>\n",
       "      <td>0.000000</td>\n",
       "      <td>0.764286</td>\n",
       "      <td>0.000000</td>\n",
       "      <td>0.000000e+00</td>\n",
       "      <td>0.000000</td>\n",
       "      <td>1.000000</td>\n",
       "      <td>0.000000</td>\n",
       "      <td>0.764286</td>\n",
       "      <td>0.764286</td>\n",
       "      <td>0.764286</td>\n",
       "      <td>0.764286</td>\n",
       "      <td>0.764057</td>\n",
       "      <td>0.764514</td>\n",
       "      <td>0.028956</td>\n",
       "    </tr>\n",
       "    <tr>\n",
       "      <th>2004-01-02 12:50:00</th>\n",
       "      <td>0.000000</td>\n",
       "      <td>0.000000</td>\n",
       "      <td>12</td>\n",
       "      <td>0.764286</td>\n",
       "      <td>0.000000</td>\n",
       "      <td>0.764286</td>\n",
       "      <td>0.000000</td>\n",
       "      <td>0.000000e+00</td>\n",
       "      <td>0.000000</td>\n",
       "      <td>1.000000</td>\n",
       "      <td>0.000000</td>\n",
       "      <td>0.764286</td>\n",
       "      <td>0.764286</td>\n",
       "      <td>0.764286</td>\n",
       "      <td>0.764286</td>\n",
       "      <td>0.764057</td>\n",
       "      <td>0.764514</td>\n",
       "      <td>0.029218</td>\n",
       "    </tr>\n",
       "    <tr>\n",
       "      <th>2004-01-02 12:51:00</th>\n",
       "      <td>0.000000</td>\n",
       "      <td>0.000000</td>\n",
       "      <td>12</td>\n",
       "      <td>0.764286</td>\n",
       "      <td>0.000000</td>\n",
       "      <td>0.764286</td>\n",
       "      <td>0.000000</td>\n",
       "      <td>0.000000e+00</td>\n",
       "      <td>0.000000</td>\n",
       "      <td>1.000000</td>\n",
       "      <td>0.000000</td>\n",
       "      <td>0.764286</td>\n",
       "      <td>0.764286</td>\n",
       "      <td>0.764286</td>\n",
       "      <td>0.764286</td>\n",
       "      <td>0.764057</td>\n",
       "      <td>0.764514</td>\n",
       "      <td>0.029482</td>\n",
       "    </tr>\n",
       "    <tr>\n",
       "      <th>2004-01-02 12:52:00</th>\n",
       "      <td>0.000000</td>\n",
       "      <td>0.000000</td>\n",
       "      <td>12</td>\n",
       "      <td>0.764286</td>\n",
       "      <td>0.000000</td>\n",
       "      <td>0.764286</td>\n",
       "      <td>0.000000</td>\n",
       "      <td>0.000000e+00</td>\n",
       "      <td>0.000000</td>\n",
       "      <td>1.000000</td>\n",
       "      <td>0.000000</td>\n",
       "      <td>0.764286</td>\n",
       "      <td>0.764286</td>\n",
       "      <td>0.764286</td>\n",
       "      <td>0.764286</td>\n",
       "      <td>0.764057</td>\n",
       "      <td>0.764514</td>\n",
       "      <td>0.029749</td>\n",
       "    </tr>\n",
       "    <tr>\n",
       "      <th>2004-01-02 12:53:00</th>\n",
       "      <td>0.000000</td>\n",
       "      <td>0.000000</td>\n",
       "      <td>12</td>\n",
       "      <td>0.764286</td>\n",
       "      <td>0.000000</td>\n",
       "      <td>0.764286</td>\n",
       "      <td>0.000000</td>\n",
       "      <td>0.000000e+00</td>\n",
       "      <td>0.000000</td>\n",
       "      <td>1.000000</td>\n",
       "      <td>0.000000</td>\n",
       "      <td>0.764286</td>\n",
       "      <td>0.764286</td>\n",
       "      <td>0.764286</td>\n",
       "      <td>0.764286</td>\n",
       "      <td>0.764057</td>\n",
       "      <td>0.764514</td>\n",
       "      <td>0.030018</td>\n",
       "    </tr>\n",
       "    <tr>\n",
       "      <th>...</th>\n",
       "      <td>...</td>\n",
       "      <td>...</td>\n",
       "      <td>...</td>\n",
       "      <td>...</td>\n",
       "      <td>...</td>\n",
       "      <td>...</td>\n",
       "      <td>...</td>\n",
       "      <td>...</td>\n",
       "      <td>...</td>\n",
       "      <td>...</td>\n",
       "      <td>...</td>\n",
       "      <td>...</td>\n",
       "      <td>...</td>\n",
       "      <td>...</td>\n",
       "      <td>...</td>\n",
       "      <td>...</td>\n",
       "      <td>...</td>\n",
       "      <td>...</td>\n",
       "    </tr>\n",
       "    <tr>\n",
       "      <th>2025-06-18 20:56:00</th>\n",
       "      <td>0.000804</td>\n",
       "      <td>0.004172</td>\n",
       "      <td>20</td>\n",
       "      <td>196.325795</td>\n",
       "      <td>0.134526</td>\n",
       "      <td>196.630000</td>\n",
       "      <td>0.276029</td>\n",
       "      <td>1.861149e+10</td>\n",
       "      <td>9.692697</td>\n",
       "      <td>1.703441</td>\n",
       "      <td>0.003639</td>\n",
       "      <td>196.815000</td>\n",
       "      <td>196.593000</td>\n",
       "      <td>196.680000</td>\n",
       "      <td>196.860000</td>\n",
       "      <td>196.756000</td>\n",
       "      <td>196.874000</td>\n",
       "      <td>0.000000</td>\n",
       "    </tr>\n",
       "    <tr>\n",
       "      <th>2025-06-18 20:57:00</th>\n",
       "      <td>0.000836</td>\n",
       "      <td>0.004427</td>\n",
       "      <td>20</td>\n",
       "      <td>196.348545</td>\n",
       "      <td>0.143513</td>\n",
       "      <td>196.560000</td>\n",
       "      <td>0.291029</td>\n",
       "      <td>1.861103e+10</td>\n",
       "      <td>9.685066</td>\n",
       "      <td>1.841981</td>\n",
       "      <td>0.003081</td>\n",
       "      <td>196.675000</td>\n",
       "      <td>196.650000</td>\n",
       "      <td>196.810000</td>\n",
       "      <td>196.940000</td>\n",
       "      <td>196.616000</td>\n",
       "      <td>196.734000</td>\n",
       "      <td>0.000000</td>\n",
       "    </tr>\n",
       "    <tr>\n",
       "      <th>2025-06-18 20:58:00</th>\n",
       "      <td>0.000823</td>\n",
       "      <td>0.004636</td>\n",
       "      <td>20</td>\n",
       "      <td>196.369045</td>\n",
       "      <td>0.150810</td>\n",
       "      <td>196.630000</td>\n",
       "      <td>0.291743</td>\n",
       "      <td>1.861051e+10</td>\n",
       "      <td>9.684766</td>\n",
       "      <td>1.883214</td>\n",
       "      <td>0.002291</td>\n",
       "      <td>196.670000</td>\n",
       "      <td>196.672000</td>\n",
       "      <td>196.675000</td>\n",
       "      <td>196.740000</td>\n",
       "      <td>196.611000</td>\n",
       "      <td>196.729000</td>\n",
       "      <td>0.000000</td>\n",
       "    </tr>\n",
       "    <tr>\n",
       "      <th>2025-06-18 20:59:00</th>\n",
       "      <td>0.001017</td>\n",
       "      <td>0.004652</td>\n",
       "      <td>20</td>\n",
       "      <td>196.367545</td>\n",
       "      <td>0.149460</td>\n",
       "      <td>196.240000</td>\n",
       "      <td>0.313971</td>\n",
       "      <td>1.860843e+10</td>\n",
       "      <td>9.661294</td>\n",
       "      <td>5.053932</td>\n",
       "      <td>-0.000255</td>\n",
       "      <td>196.240000</td>\n",
       "      <td>196.618000</td>\n",
       "      <td>196.680000</td>\n",
       "      <td>196.750000</td>\n",
       "      <td>196.181100</td>\n",
       "      <td>196.298900</td>\n",
       "      <td>0.000000</td>\n",
       "    </tr>\n",
       "    <tr>\n",
       "      <th>2025-06-18 21:00:00</th>\n",
       "      <td>0.001078</td>\n",
       "      <td>0.004619</td>\n",
       "      <td>21</td>\n",
       "      <td>196.385795</td>\n",
       "      <td>0.147207</td>\n",
       "      <td>196.080000</td>\n",
       "      <td>0.344693</td>\n",
       "      <td>1.862403e+10</td>\n",
       "      <td>9.676753</td>\n",
       "      <td>10.811366</td>\n",
       "      <td>0.001833</td>\n",
       "      <td>196.540000</td>\n",
       "      <td>196.588000</td>\n",
       "      <td>196.580000</td>\n",
       "      <td>196.650000</td>\n",
       "      <td>196.481000</td>\n",
       "      <td>196.599000</td>\n",
       "      <td>0.000000</td>\n",
       "    </tr>\n",
       "  </tbody>\n",
       "</table>\n",
       "<p>2756826 rows × 18 columns</p>\n",
       "</div>"
      ],
      "text/plain": [
       "                       vol_15  bb_width_20  hour       ma_20  macd_signal_9  \\\n",
       "2004-01-02 12:49:00  0.000000     0.000000    12    0.764286       0.000000   \n",
       "2004-01-02 12:50:00  0.000000     0.000000    12    0.764286       0.000000   \n",
       "2004-01-02 12:51:00  0.000000     0.000000    12    0.764286       0.000000   \n",
       "2004-01-02 12:52:00  0.000000     0.000000    12    0.764286       0.000000   \n",
       "2004-01-02 12:53:00  0.000000     0.000000    12    0.764286       0.000000   \n",
       "...                       ...          ...   ...         ...            ...   \n",
       "2025-06-18 20:56:00  0.000804     0.004172    20  196.325795       0.134526   \n",
       "2025-06-18 20:57:00  0.000836     0.004427    20  196.348545       0.143513   \n",
       "2025-06-18 20:58:00  0.000823     0.004636    20  196.369045       0.150810   \n",
       "2025-06-18 20:59:00  0.001017     0.004652    20  196.367545       0.149460   \n",
       "2025-06-18 21:00:00  0.001078     0.004619    21  196.385795       0.147207   \n",
       "\n",
       "                            low    atr_14           obv  vwap_dev  \\\n",
       "2004-01-02 12:49:00    0.764286  0.000000  0.000000e+00  0.000000   \n",
       "2004-01-02 12:50:00    0.764286  0.000000  0.000000e+00  0.000000   \n",
       "2004-01-02 12:51:00    0.764286  0.000000  0.000000e+00  0.000000   \n",
       "2004-01-02 12:52:00    0.764286  0.000000  0.000000e+00  0.000000   \n",
       "2004-01-02 12:53:00    0.764286  0.000000  0.000000e+00  0.000000   \n",
       "...                         ...       ...           ...       ...   \n",
       "2025-06-18 20:56:00  196.630000  0.276029  1.861149e+10  9.692697   \n",
       "2025-06-18 20:57:00  196.560000  0.291029  1.861103e+10  9.685066   \n",
       "2025-06-18 20:58:00  196.630000  0.291743  1.861051e+10  9.684766   \n",
       "2025-06-18 20:59:00  196.240000  0.313971  1.860843e+10  9.661294   \n",
       "2025-06-18 21:00:00  196.080000  0.344693  1.862403e+10  9.676753   \n",
       "\n",
       "                     volume_spike      r_15       close        ma_5  \\\n",
       "2004-01-02 12:49:00      1.000000  0.000000    0.764286    0.764286   \n",
       "2004-01-02 12:50:00      1.000000  0.000000    0.764286    0.764286   \n",
       "2004-01-02 12:51:00      1.000000  0.000000    0.764286    0.764286   \n",
       "2004-01-02 12:52:00      1.000000  0.000000    0.764286    0.764286   \n",
       "2004-01-02 12:53:00      1.000000  0.000000    0.764286    0.764286   \n",
       "...                           ...       ...         ...         ...   \n",
       "2025-06-18 20:56:00      1.703441  0.003639  196.815000  196.593000   \n",
       "2025-06-18 20:57:00      1.841981  0.003081  196.675000  196.650000   \n",
       "2025-06-18 20:58:00      1.883214  0.002291  196.670000  196.672000   \n",
       "2025-06-18 20:59:00      5.053932 -0.000255  196.240000  196.618000   \n",
       "2025-06-18 21:00:00     10.811366  0.001833  196.540000  196.588000   \n",
       "\n",
       "                           open        high         bid         ask    signal  \n",
       "2004-01-02 12:49:00    0.764286    0.764286    0.764057    0.764514  0.028956  \n",
       "2004-01-02 12:50:00    0.764286    0.764286    0.764057    0.764514  0.029218  \n",
       "2004-01-02 12:51:00    0.764286    0.764286    0.764057    0.764514  0.029482  \n",
       "2004-01-02 12:52:00    0.764286    0.764286    0.764057    0.764514  0.029749  \n",
       "2004-01-02 12:53:00    0.764286    0.764286    0.764057    0.764514  0.030018  \n",
       "...                         ...         ...         ...         ...       ...  \n",
       "2025-06-18 20:56:00  196.680000  196.860000  196.756000  196.874000  0.000000  \n",
       "2025-06-18 20:57:00  196.810000  196.940000  196.616000  196.734000  0.000000  \n",
       "2025-06-18 20:58:00  196.675000  196.740000  196.611000  196.729000  0.000000  \n",
       "2025-06-18 20:59:00  196.680000  196.750000  196.181100  196.298900  0.000000  \n",
       "2025-06-18 21:00:00  196.580000  196.650000  196.481000  196.599000  0.000000  \n",
       "\n",
       "[2756826 rows x 18 columns]"
      ]
     },
     "execution_count": 3,
     "metadata": {},
     "output_type": "execute_result"
    }
   ],
   "source": [
    "look_back      = params.look_back_tick \n",
    "features_cols  = params.features_cols_tick\n",
    "label_col      = params.label_col\n",
    "\n",
    "date = dt.datetime.now().strftime(\"%Y-%m-%d %H:%M\")\n",
    "regular_start_pred  = params.regular_start_pred\n",
    "\n",
    "# USE GPU if available, otherwise fallback to CPU\n",
    "device = params.device\n",
    "print(\"Using device:\", device)\n",
    "\n",
    "df_raw = pd.read_csv(params.ready_csv, index_col=0, parse_dates=True)\n",
    "df = models.feature_engineering(df_raw, features_cols, label_col)\n",
    "df.to_csv(params.final_csv)\n",
    "df"
   ]
  },
  {
   "cell_type": "code",
   "execution_count": 4,
   "id": "b805fa9c",
   "metadata": {},
   "outputs": [
    {
     "name": "stdout",
     "output_type": "stream",
     "text": [
      "Shapes:\n",
      "  X         = torch.Size([2433126, 60, 15]) (samples, look_back, features)\n",
      "  y         = torch.Size([2433126]) (samples,)\n",
      "  raw_close = torch.Size([2433126])\n",
      "  raw_bid   = torch.Size([2433126])\n",
      "  raw_ask   = torch.Size([2433126])\n"
     ]
    }
   ],
   "source": [
    "X, y, raw_close, raw_bid, raw_ask = models.build_lstm_tensors(\n",
    "    df=df,\n",
    "    look_back=look_back,\n",
    "    features_cols=features_cols,\n",
    "    label_col=label_col,\n",
    "    regular_start=regular_start_pred\n",
    ")\n",
    "\n",
    "# quick shapes\n",
    "print(\"Shapes:\")\n",
    "print(\"  X         =\", X.shape,    \"(samples, look_back, features)\")\n",
    "print(\"  y         =\", y.shape,    \"(samples,)\")\n",
    "print(\"  raw_close =\", raw_close.shape)\n",
    "print(\"  raw_bid   =\", raw_bid.shape)\n",
    "print(\"  raw_ask   =\", raw_ask.shape)\n"
   ]
  },
  {
   "cell_type": "code",
   "execution_count": 5,
   "id": "7b4f1ac4",
   "metadata": {},
   "outputs": [
    {
     "name": "stdout",
     "output_type": "stream",
     "text": [
      "Shapes:\n",
      "  X_tr        = torch.Size([1702957, 60, 15])\n",
      "  y_tr        = torch.Size([1702957])\n",
      "  raw_close_te= torch.Size([364859])\n",
      "  raw_bid_te  = torch.Size([364859])\n",
      "  raw_ask_te  = torch.Size([364859])\n"
     ]
    }
   ],
   "source": [
    "# Split into train/val/test by calendar day\n",
    "(X_tr, y_tr), \\\n",
    "(X_val, y_val), \\\n",
    "(X_te, y_te, raw_close_te, raw_bid_te, raw_ask_te), \\\n",
    "samples_per_day, day_id_tr, day_id_val, day_id_te = models.chronological_split(\n",
    "    X, y, raw_close, raw_bid, raw_ask, df,\n",
    "    look_back   = look_back,\n",
    "    regular_start   = regular_start_pred,\n",
    "    train_prop  = params.train_prop,\n",
    "    val_prop    = params.val_prop,\n",
    "    train_batch = params.hparams['TRAIN_BATCH']\n",
    ")\n",
    "\n",
    "# Print shapes of all tensors\n",
    "print(\"Shapes:\")\n",
    "print(\"  X_tr        =\", X_tr.shape)\n",
    "print(\"  y_tr        =\", y_tr.shape)\n",
    "print(\"  raw_close_te=\", raw_close_te.shape)\n",
    "print(\"  raw_bid_te  =\", raw_bid_te.shape)\n",
    "print(\"  raw_ask_te  =\", raw_ask_te.shape)\n"
   ]
  },
  {
   "cell_type": "code",
   "execution_count": 6,
   "id": "1ad9b6c4-3d79-45c0-b2c0-c4f46f1ad866",
   "metadata": {},
   "outputs": [
    {
     "name": "stdout",
     "output_type": "stream",
     "text": [
      "▶️ Entered split_to_day_datasets\n",
      "1) building weekday arrays\n",
      "   Weekdays counts → tr=1702957, val=365310, te=364859\n",
      "2) moving all splits to CPU\n",
      "   CPU casts done\n",
      "3) zero-bas­ing day_id for val & test\n",
      "   val_day_id ∈ [0..809], total days=810\n",
      "   te_day_id  ∈ [0..808], total days=809\n",
      "4) instantiating DayWindowDatasets\n",
      "   ds_tr days: 3776\n",
      "   ds_val days: 810\n",
      "   ds_te days: 809\n",
      "5) building DataLoaders\n",
      "   train_loader ready\n",
      "   val_loader ready\n",
      "   test_loader ready\n"
     ]
    }
   ],
   "source": [
    "\n",
    "# -----------------------------------------------------------------------------\n",
    "#  Build DataLoaders over calendar‐days\n",
    "# -----------------------------------------------------------------------------\n",
    "train_loader, val_loader, test_loader = models.split_to_day_datasets(\n",
    "    # Training split arrays (from chronological_split)\n",
    "    X_tr, y_tr, day_id_tr,\n",
    "    # Validation split arrays\n",
    "    X_val, y_val, day_id_val,\n",
    "    # Test split arrays + raw prices for post‐tracking\n",
    "    X_te, y_te, day_id_te, raw_close_te, raw_bid_te, raw_ask_te,\n",
    "    # Original minute‐bar DataFrame for weekday mapping\n",
    "    df=df,\n",
    "    train_batch=params.hparams['TRAIN_BATCH'],\n",
    "    train_workers=params.hparams['NUM_WORKERS'],\n",
    "    train_prefetch_factor=params.hparams['TRAIN_PREFETCH_FACTOR']\n",
    ")\n"
   ]
  },
  {
   "cell_type": "code",
   "execution_count": 7,
   "id": "eeec031f-6c8f-455f-9c72-ae411e03ba34",
   "metadata": {},
   "outputs": [
    {
     "data": {
      "text/plain": [
       "DualMemoryLSTM(\n",
       "  (short_lstm): LSTM(15, 96, batch_first=True)\n",
       "  (attn): MultiheadAttention(\n",
       "    (out_proj): NonDynamicallyQuantizableLinear(in_features=96, out_features=96, bias=True)\n",
       "  )\n",
       "  (do_short): Dropout(p=0.2, inplace=False)\n",
       "  (ln_short): LayerNorm((96,), eps=1e-05, elementwise_affine=True)\n",
       "  (long_lstm): LSTM(96, 128, batch_first=True)\n",
       "  (do_long): Dropout(p=0.25, inplace=False)\n",
       "  (ln_long): LayerNorm((128,), eps=1e-05, elementwise_affine=True)\n",
       "  (pred): Linear(in_features=128, out_features=1, bias=True)\n",
       ")"
      ]
     },
     "execution_count": 7,
     "metadata": {},
     "output_type": "execute_result"
    }
   ],
   "source": [
    "\n",
    "# -----------------------------------------------------------------------------\n",
    "# Instantiate the stateful DualMemoryLSTM & move to device\n",
    "# -----------------------------------------------------------------------------\n",
    "model = models.DualMemoryLSTM(\n",
    "    n_feats        = len(features_cols),                          \n",
    "    short_units    = params.hparams['SHORT_UNITS'],    \n",
    "    long_units     = params.hparams['LONG_UNITS'],     \n",
    "    dropout_short  = params.hparams['DROPOUT_SHORT'],  \n",
    "    dropout_long   = params.hparams['DROPOUT_LONG'],   \n",
    "    att_heads      = params.hparams['ATT_HEADS'],\n",
    "    att_drop       = params.hparams['ATT_DROPOUT']\n",
    ")\n",
    "model.to(device)   # place model parameters on GPU or CPU as specified\n",
    "\n",
    "model"
   ]
  },
  {
   "cell_type": "code",
   "execution_count": 8,
   "id": "5512a0dd-d2c8-418e-bfca-4580fb4be995",
   "metadata": {},
   "outputs": [
    {
     "data": {
      "text/plain": [
       "AdamW (\n",
       "Parameter Group 0\n",
       "    amsgrad: False\n",
       "    betas: (0.9, 0.999)\n",
       "    capturable: False\n",
       "    decoupled_weight_decay: True\n",
       "    differentiable: False\n",
       "    eps: 1e-08\n",
       "    foreach: None\n",
       "    fused: None\n",
       "    initial_lr: 0.0005\n",
       "    lr: 0.0005\n",
       "    maximize: False\n",
       "    weight_decay: 1e-05\n",
       ")"
      ]
     },
     "execution_count": 8,
     "metadata": {},
     "output_type": "execute_result"
    }
   ],
   "source": [
    "\n",
    "# -----------------------------------------------------------------------------\n",
    "# Compute plateau_sched timing parameters\n",
    "# -----------------------------------------------------------------------------\n",
    "# Total training samples = total windows in X_tr (one window per row)\n",
    "n_train_samples = X_tr.shape[0]\n",
    "\n",
    "# How many optimizer steps (day‐bundles) constitute one epoch?\n",
    "steps_per_epoch = len(train_loader)\n",
    "\n",
    "\n",
    "# -----------------------------------------------------------------------------\n",
    "# Build optimizer, LR scheduler, AMP scaler, and gradient‐clip norm\n",
    "# -----------------------------------------------------------------------------\n",
    "optimizer, plateau_sched, cosine_sched, scaler, clipnorm = models.make_optimizer_and_scheduler(\n",
    "    model,\n",
    "    initial_lr        = params.hparams['INITIAL_LR'],       \n",
    "    weight_decay      = params.hparams['WEIGHT_DECAY'],     \n",
    "    clipnorm          = params.hparams['CLIPNORM']   \n",
    ")\n",
    "\n",
    "optimizer"
   ]
  },
  {
   "cell_type": "code",
   "execution_count": 9,
   "id": "1e70105f-bbe5-4ce0-aabe-acf9193ef401",
   "metadata": {},
   "outputs": [
    {
     "data": {
      "application/vnd.jupyter.widget-view+json": {
       "model_id": "469c298d34b042cba5fb86fcbfa3c1b6",
       "version_major": 2,
       "version_minor": 0
      },
      "text/plain": [
       "  0%|          | 0/30 [00:00<?, ?it/s]"
      ]
     },
     "metadata": {},
     "output_type": "display_data"
    },
    {
     "name": "stdout",
     "output_type": "stream",
     "text": [
      "Stopping early, the loss has diverged\n",
      "Learning rate search finished. See the graph with {finder_name}.plot()\n",
      "LR suggestion: steepest gradient\n",
      "Suggested LR: 3.56E-02\n"
     ]
    },
    {
     "data": {
      "image/png": "[encoded data removed]",
      "text/plain": [
       "<Figure size 640x480 with 1 Axes>"
      ]
     },
     "metadata": {},
     "output_type": "display_data"
    }
   ],
   "source": [
    "###########################################\n",
    "# function to find the optimal learning rate\n",
    "###########################################\n",
    "\n",
    "# 1) Move model to CPU and build a fresh optimizer (no scheduler metadata)\n",
    "model_cpu = model.cpu()\n",
    "optimizer_cpu = torch.optim.AdamW(\n",
    "    model_cpu.parameters(),\n",
    "    lr=1e-3,        # placeholder; the finder will override this\n",
    "    weight_decay=5e-4\n",
    ")\n",
    "\n",
    "# 2) Create a tiny DataLoader (batch_size=1) to save memory\n",
    "small_loader = DataLoader(\n",
    "    train_loader.dataset,\n",
    "    batch_size=1,\n",
    "    shuffle=True,\n",
    "    num_workers=0\n",
    ")\n",
    "\n",
    "# 3) Define an aligned MSE that permutes/expands your [1,1,D] or [D,1,1]\n",
    "#    target → [D, T, 1] to match output shape exactly.\n",
    "def aligned_mse(output, target):\n",
    "    # output: [D, T, 1]\n",
    "    # target might come in as [D,1,1] or [1,1,D]\n",
    "    tgt = target\n",
    "\n",
    "    # Case A: target == [D, 1, 1] → expand middle dim to T\n",
    "    if tgt.dim() == 3 and tgt.shape[0] == output.shape[0] \\\n",
    "       and tgt.shape[1] == 1 and tgt.shape[2] == 1:\n",
    "        tgt = tgt.expand(-1, output.size(1), -1)\n",
    "\n",
    "    # Case B: target == [1, 1, D] → permute to [D,1,1] then expand\n",
    "    elif tgt.dim() == 3 and tgt.shape[0] == 1 \\\n",
    "         and tgt.shape[1] == 1 and tgt.shape[2] == output.shape[0]:\n",
    "        # permute (0,1,2) → (2,1,0) to get [D,1,1]\n",
    "        tgt = tgt.permute(2, 1, 0)\n",
    "        tgt = tgt.expand(-1, output.size(1), -1)\n",
    "\n",
    "    else:\n",
    "        # fallback: broadcast to exactly output.shape\n",
    "        tgt = tgt.expand(output.shape)\n",
    "\n",
    "    return Funct.mse_loss(output, tgt)\n",
    "\n",
    "# 4) Free any lingering GPU memory\n",
    "gc.collect()\n",
    "torch.cuda.empty_cache()\n",
    "\n",
    "# 5) Run the LR‐Finder on CPU for just 30 mini‐batches\n",
    "lr_finder = LRFinder(\n",
    "    model_cpu,\n",
    "    optimizer_cpu,\n",
    "    aligned_mse,\n",
    "    device=\"cpu\"\n",
    ")\n",
    "lr_finder.range_test(\n",
    "    small_loader,\n",
    "    end_lr=1,     # maximum LR to try\n",
    "    num_iter=30   # number of batches\n",
    ")\n",
    "lr_finder.plot()   # examine loss vs. LR curve\n",
    "lr_finder.reset()  # restore original model & optimizer states\n",
    "\n",
    "# 6) Move model back to GPU for your main training\n",
    "model = model_cpu.to(\"cuda\")\n"
   ]
  },
  {
   "cell_type": "code",
   "execution_count": null,
   "id": "7bf94780-a876-4bf4-ad27-6abc2da1fc0a",
   "metadata": {},
   "outputs": [
    {
     "name": "stdout",
     "output_type": "stream",
     "text": [
      "Training sees 3776 calendar days per epoch\n",
      "\n",
      "Baseline (zero‐forecast) RMSE on validation = 0.020913\n"
     ]
    },
    {
     "data": {
      "image/png": "[encoded data removed]",
      "text/plain": [
       "<Figure size 660x440 with 1 Axes>"
      ]
     },
     "metadata": {},
     "output_type": "display_data"
    },
    {
     "data": {
      "application/vnd.jupyter.widget-view+json": {
       "model_id": "fe579348ff104ae9bb9e05b8975b3afb",
       "version_major": 2,
       "version_minor": 0
      },
      "text/plain": [
       "Epoch 1:   0%|          | 0/118 [00:00<?, ?bundle/s]"
      ]
     },
     "metadata": {},
     "output_type": "display_data"
    },
    {
     "name": "stdout",
     "output_type": "stream",
     "text": [
      "Epoch 001 • train=0.1844 • val=0.0194 • lr=5.00e-04\n"
     ]
    },
    {
     "data": {
      "application/vnd.jupyter.widget-view+json": {
       "model_id": "92901701f83f46cca154f0dcc3d4e70c",
       "version_major": 2,
       "version_minor": 0
      },
      "text/plain": [
       "Epoch 2:   0%|          | 0/118 [00:00<?, ?bundle/s]"
      ]
     },
     "metadata": {},
     "output_type": "display_data"
    },
    {
     "name": "stdout",
     "output_type": "stream",
     "text": [
      "Epoch 002 • train=0.0217 • val=0.0196 • lr=4.99e-04\n"
     ]
    },
    {
     "data": {
      "application/vnd.jupyter.widget-view+json": {
       "model_id": "7867dbd4545649ba8846e0e335abd3cd",
       "version_major": 2,
       "version_minor": 0
      },
      "text/plain": [
       "Epoch 3:   0%|          | 0/118 [00:00<?, ?bundle/s]"
      ]
     },
     "metadata": {},
     "output_type": "display_data"
    },
    {
     "name": "stdout",
     "output_type": "stream",
     "text": [
      "Epoch 003 • train=0.0221 • val=0.0196 • lr=4.97e-04\n"
     ]
    },
    {
     "data": {
      "application/vnd.jupyter.widget-view+json": {
       "model_id": "43533e82ea4a4fb38ddfec7317320876",
       "version_major": 2,
       "version_minor": 0
      },
      "text/plain": [
       "Epoch 4:   0%|          | 0/118 [00:00<?, ?bundle/s]"
      ]
     },
     "metadata": {},
     "output_type": "display_data"
    },
    {
     "name": "stdout",
     "output_type": "stream",
     "text": [
      "Epoch 004 • train=0.0217 • val=0.0195 • lr=4.95e-04\n"
     ]
    },
    {
     "data": {
      "application/vnd.jupyter.widget-view+json": {
       "model_id": "e715c79cb04f4ec98e6a323e4c10144d",
       "version_major": 2,
       "version_minor": 0
      },
      "text/plain": [
       "Epoch 5:   0%|          | 0/118 [00:00<?, ?bundle/s]"
      ]
     },
     "metadata": {},
     "output_type": "display_data"
    },
    {
     "name": "stdout",
     "output_type": "stream",
     "text": [
      "Epoch 005 • train=0.0208 • val=0.0207 • lr=4.92e-04\n"
     ]
    },
    {
     "data": {
      "application/vnd.jupyter.widget-view+json": {
       "model_id": "96c4815e6b364f89af6ba02aace6b7bd",
       "version_major": 2,
       "version_minor": 0
      },
      "text/plain": [
       "Epoch 6:   0%|          | 0/118 [00:00<?, ?bundle/s]"
      ]
     },
     "metadata": {},
     "output_type": "display_data"
    },
    {
     "name": "stdout",
     "output_type": "stream",
     "text": [
      "Epoch 006 • train=0.0200 • val=0.0193 • lr=4.88e-04\n"
     ]
    },
    {
     "data": {
      "application/vnd.jupyter.widget-view+json": {
       "model_id": "f124bc7e9c55491d90edbbdeb9a8ed4a",
       "version_major": 2,
       "version_minor": 0
      },
      "text/plain": [
       "Epoch 7:   0%|          | 0/118 [00:00<?, ?bundle/s]"
      ]
     },
     "metadata": {},
     "output_type": "display_data"
    },
    {
     "name": "stdout",
     "output_type": "stream",
     "text": [
      "Epoch 007 • train=0.0198 • val=0.0221 • lr=4.84e-04\n"
     ]
    },
    {
     "data": {
      "application/vnd.jupyter.widget-view+json": {
       "model_id": "3e3c658bbf5a4218b749f765f49188e0",
       "version_major": 2,
       "version_minor": 0
      },
      "text/plain": [
       "Epoch 8:   0%|          | 0/118 [00:00<?, ?bundle/s]"
      ]
     },
     "metadata": {},
     "output_type": "display_data"
    },
    {
     "name": "stdout",
     "output_type": "stream",
     "text": [
      "Epoch 008 • train=0.0207 • val=0.0204 • lr=4.79e-04\n"
     ]
    },
    {
     "data": {
      "application/vnd.jupyter.widget-view+json": {
       "model_id": "8daec26447ff47afabfdbcf957035322",
       "version_major": 2,
       "version_minor": 0
      },
      "text/plain": [
       "Epoch 9:   0%|          | 0/118 [00:00<?, ?bundle/s]"
      ]
     },
     "metadata": {},
     "output_type": "display_data"
    }
   ],
   "source": [
    "# -----------------------------------------------------------------------------\n",
    "# Count how many calendar days we see each epoch and Compute baseline RMSE on validation (zero forecast)\n",
    "# -----------------------------------------------------------------------------\n",
    "n_train_days = len(train_loader.dataset)  # dataset length = # unique days\n",
    "print(f\"Training sees {n_train_days} calendar days per epoch\\n\")\n",
    "\n",
    "baseline_val_rmse = models.naive_rmse(val_loader)\n",
    "print(f\"Baseline (zero‐forecast) RMSE on validation = {baseline_val_rmse:.6f}\")\n",
    "\n",
    "\n",
    "# -----------------------------------------------------------------------------\n",
    "# Run the custom stateful training loop\n",
    "# -----------------------------------------------------------------------------\n",
    "best_val_rmse  = models.custom_stateful_training_loop(\n",
    "    model               = model,\n",
    "    optimizer           = optimizer,\n",
    "    cosine_sched        = cosine_sched,\n",
    "    plateau_sched       = plateau_sched,\n",
    "    scaler              = scaler,\n",
    "    train_loader        = train_loader,\n",
    "    val_loader          = val_loader,\n",
    "    max_epochs          = params.hparams['MAX_EPOCHS'],\n",
    "    early_stop_patience = params.hparams['EARLY_STOP_PATIENCE'],\n",
    "    baseline_val_rmse   = baseline_val_rmse,\n",
    "    clipnorm            = clipnorm,\n",
    "    device              = device\n",
    ")\n",
    "\n",
    "# -----------------------------------------------------------------------------\n",
    "# Final reporting: best RMSE and relative improvement\n",
    "# -----------------------------------------------------------------------------\n",
    "print(f\"\\nChampion validation RMSE = {best_val_rmse:.6f}\")\n",
    "\n",
    "improvement = 100.0 * (1.0 - best_val_rmse / baseline_val_rmse)\n",
    "print(f\"Improvement over zero‐baseline = {improvement:5.1f}%\")\n"
   ]
  },
  {
   "cell_type": "code",
   "execution_count": null,
   "id": "4c8660dd-d2db-434a-aa59-17814d343fbe",
   "metadata": {},
   "outputs": [],
   "source": []
  },
  {
   "cell_type": "code",
   "execution_count": null,
   "id": "138c3b45-e00a-4a85-860d-4f87b71cbbbc",
   "metadata": {},
   "outputs": [],
   "source": []
  }
 ],
 "metadata": {
  "kernelspec": {
   "display_name": "Python 3 (ipykernel)",
   "language": "python",
   "name": "python3"
  },
  "language_info": {
   "codemirror_mode": {
    "name": "ipython",
    "version": 3
   },
   "file_extension": ".py",
   "mimetype": "text/x-python",
   "name": "python",
   "nbconvert_exporter": "python",
   "pygments_lexer": "ipython3",
   "version": "3.12.3"
  }
 },
 "nbformat": 4,
 "nbformat_minor": 5
}
