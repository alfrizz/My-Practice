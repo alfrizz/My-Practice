{
 "cells": [
  {
   "cell_type": "code",
   "execution_count": 1,
   "id": "73f06a4f-691a-4a84-a305-e7212eb879bf",
   "metadata": {},
   "outputs": [],
   "source": [
    "# %matplotlib widget\n",
    "%matplotlib inline"
   ]
  },
  {
   "cell_type": "code",
   "execution_count": 2,
   "id": "4c868158-e6bb-4d56-bbdd-8e8103f0b9e4",
   "metadata": {},
   "outputs": [],
   "source": [
    "# 1) Wipe out all Python variables\n",
    "%reset -f\n",
    "# 2) Force Python’s garbage collector to run\n",
    "import gc\n",
    "gc.collect()\n",
    "\n",
    "import importlib\n",
    "from libs import trades, plots, params, models\n",
    "importlib.reload(trades)\n",
    "importlib.reload(plots)\n",
    "importlib.reload(params)\n",
    "importlib.reload(models)\n",
    "\n",
    "import pandas as pd\n",
    "import numpy  as np\n",
    "import math\n",
    "\n",
    "import datetime as dt\n",
    "import os\n",
    "from typing import Sequence, List, Tuple, Optional, Union\n",
    "\n",
    "import torch\n",
    "import torch.nn as nn\n",
    "import torch.nn.functional as Funct\n",
    "from torch_lr_finder import LRFinder\n",
    "from torch.utils.data import DataLoader, TensorDataset\n",
    "\n",
    "from tqdm import tqdm"
   ]
  },
  {
   "cell_type": "code",
   "execution_count": 6,
   "id": "7b98406a",
   "metadata": {},
   "outputs": [
    {
     "data": {
      "text/html": [
       "<div>\n",
       "<style scoped>\n",
       "    .dataframe tbody tr th:only-of-type {\n",
       "        vertical-align: middle;\n",
       "    }\n",
       "\n",
       "    .dataframe tbody tr th {\n",
       "        vertical-align: top;\n",
       "    }\n",
       "\n",
       "    .dataframe thead th {\n",
       "        text-align: right;\n",
       "    }\n",
       "</style>\n",
       "<table border=\"1\" class=\"dataframe\">\n",
       "  <thead>\n",
       "    <tr style=\"text-align: right;\">\n",
       "      <th></th>\n",
       "      <th>vol_15</th>\n",
       "      <th>bb_width_20</th>\n",
       "      <th>hour</th>\n",
       "      <th>ma_20</th>\n",
       "      <th>macd_signal_9</th>\n",
       "      <th>low</th>\n",
       "      <th>atr_14</th>\n",
       "      <th>obv</th>\n",
       "      <th>vwap_dev</th>\n",
       "      <th>volume_spike</th>\n",
       "      <th>r_15</th>\n",
       "      <th>close</th>\n",
       "      <th>ma_5</th>\n",
       "      <th>open</th>\n",
       "      <th>high</th>\n",
       "      <th>signal</th>\n",
       "      <th>ask</th>\n",
       "      <th>bid</th>\n",
       "    </tr>\n",
       "  </thead>\n",
       "  <tbody>\n",
       "    <tr>\n",
       "      <th>2004-01-02 13:09:00</th>\n",
       "      <td>-0.808302</td>\n",
       "      <td>-0.760271</td>\n",
       "      <td>-0.759</td>\n",
       "      <td>-0.282361</td>\n",
       "      <td>0.265209</td>\n",
       "      <td>-0.028125</td>\n",
       "      <td>-1.435516</td>\n",
       "      <td>11.535427</td>\n",
       "      <td>-1.322490</td>\n",
       "      <td>0.520988</td>\n",
       "      <td>-0.023522</td>\n",
       "      <td>-0.193762</td>\n",
       "      <td>-0.185561</td>\n",
       "      <td>-0.193147</td>\n",
       "      <td>-0.317313</td>\n",
       "      <td>0.034806</td>\n",
       "      <td>0.764464</td>\n",
       "      <td>0.764007</td>\n",
       "    </tr>\n",
       "    <tr>\n",
       "      <th>2004-01-02 13:10:00</th>\n",
       "      <td>-0.807178</td>\n",
       "      <td>-0.755313</td>\n",
       "      <td>-0.759</td>\n",
       "      <td>-0.284115</td>\n",
       "      <td>0.260467</td>\n",
       "      <td>-0.037500</td>\n",
       "      <td>-1.432540</td>\n",
       "      <td>11.491025</td>\n",
       "      <td>-1.322505</td>\n",
       "      <td>0.643761</td>\n",
       "      <td>-0.028905</td>\n",
       "      <td>-0.201725</td>\n",
       "      <td>-0.192087</td>\n",
       "      <td>-0.201085</td>\n",
       "      <td>-0.324262</td>\n",
       "      <td>0.035168</td>\n",
       "      <td>0.764447</td>\n",
       "      <td>0.763990</td>\n",
       "    </tr>\n",
       "    <tr>\n",
       "      <th>2004-01-02 13:11:00</th>\n",
       "      <td>-0.806401</td>\n",
       "      <td>-0.750003</td>\n",
       "      <td>-0.759</td>\n",
       "      <td>-0.286307</td>\n",
       "      <td>0.254352</td>\n",
       "      <td>-0.046875</td>\n",
       "      <td>-1.429563</td>\n",
       "      <td>11.441197</td>\n",
       "      <td>-1.322519</td>\n",
       "      <td>0.730120</td>\n",
       "      <td>-0.034287</td>\n",
       "      <td>-0.209688</td>\n",
       "      <td>-0.200245</td>\n",
       "      <td>-0.209022</td>\n",
       "      <td>-0.331210</td>\n",
       "      <td>0.035533</td>\n",
       "      <td>0.764431</td>\n",
       "      <td>0.763973</td>\n",
       "    </tr>\n",
       "    <tr>\n",
       "      <th>2004-01-02 13:12:00</th>\n",
       "      <td>-0.805908</td>\n",
       "      <td>-0.744446</td>\n",
       "      <td>-0.759</td>\n",
       "      <td>-0.288939</td>\n",
       "      <td>0.246985</td>\n",
       "      <td>-0.056250</td>\n",
       "      <td>-1.426587</td>\n",
       "      <td>11.385942</td>\n",
       "      <td>-1.322533</td>\n",
       "      <td>0.783493</td>\n",
       "      <td>-0.039669</td>\n",
       "      <td>-0.217651</td>\n",
       "      <td>-0.208402</td>\n",
       "      <td>-0.216960</td>\n",
       "      <td>-0.338159</td>\n",
       "      <td>0.035902</td>\n",
       "      <td>0.764414</td>\n",
       "      <td>0.763957</td>\n",
       "    </tr>\n",
       "    <tr>\n",
       "      <th>2004-01-02 13:13:00</th>\n",
       "      <td>-0.805668</td>\n",
       "      <td>-0.738735</td>\n",
       "      <td>-0.759</td>\n",
       "      <td>-0.292008</td>\n",
       "      <td>0.238524</td>\n",
       "      <td>-0.065625</td>\n",
       "      <td>-1.423611</td>\n",
       "      <td>11.325262</td>\n",
       "      <td>-1.322545</td>\n",
       "      <td>0.808659</td>\n",
       "      <td>-0.045052</td>\n",
       "      <td>-0.225614</td>\n",
       "      <td>-0.216560</td>\n",
       "      <td>-0.224897</td>\n",
       "      <td>-0.345107</td>\n",
       "      <td>0.036275</td>\n",
       "      <td>0.764397</td>\n",
       "      <td>0.763940</td>\n",
       "    </tr>\n",
       "    <tr>\n",
       "      <th>...</th>\n",
       "      <td>...</td>\n",
       "      <td>...</td>\n",
       "      <td>...</td>\n",
       "      <td>...</td>\n",
       "      <td>...</td>\n",
       "      <td>...</td>\n",
       "      <td>...</td>\n",
       "      <td>...</td>\n",
       "      <td>...</td>\n",
       "      <td>...</td>\n",
       "      <td>...</td>\n",
       "      <td>...</td>\n",
       "      <td>...</td>\n",
       "      <td>...</td>\n",
       "      <td>...</td>\n",
       "      <td>...</td>\n",
       "      <td>...</td>\n",
       "      <td>...</td>\n",
       "    </tr>\n",
       "    <tr>\n",
       "      <th>2025-06-18 20:56:00</th>\n",
       "      <td>0.124867</td>\n",
       "      <td>-0.088988</td>\n",
       "      <td>0.824</td>\n",
       "      <td>0.166276</td>\n",
       "      <td>1.090106</td>\n",
       "      <td>0.574157</td>\n",
       "      <td>1.564945</td>\n",
       "      <td>1.052590</td>\n",
       "      <td>6.801913</td>\n",
       "      <td>0.660240</td>\n",
       "      <td>0.886834</td>\n",
       "      <td>0.711538</td>\n",
       "      <td>0.459338</td>\n",
       "      <td>0.549591</td>\n",
       "      <td>0.685627</td>\n",
       "      <td>0.000000</td>\n",
       "      <td>196.874000</td>\n",
       "      <td>196.756000</td>\n",
       "    </tr>\n",
       "    <tr>\n",
       "      <th>2025-06-18 20:57:00</th>\n",
       "      <td>0.162391</td>\n",
       "      <td>-0.047334</td>\n",
       "      <td>0.824</td>\n",
       "      <td>0.194941</td>\n",
       "      <td>1.163926</td>\n",
       "      <td>0.483840</td>\n",
       "      <td>1.725116</td>\n",
       "      <td>0.748311</td>\n",
       "      <td>6.795517</td>\n",
       "      <td>0.801959</td>\n",
       "      <td>0.749591</td>\n",
       "      <td>0.532051</td>\n",
       "      <td>0.532269</td>\n",
       "      <td>0.715746</td>\n",
       "      <td>0.787202</td>\n",
       "      <td>0.000000</td>\n",
       "      <td>196.734000</td>\n",
       "      <td>196.616000</td>\n",
       "    </tr>\n",
       "    <tr>\n",
       "      <th>2025-06-18 20:58:00</th>\n",
       "      <td>0.147152</td>\n",
       "      <td>-0.013071</td>\n",
       "      <td>0.824</td>\n",
       "      <td>0.220771</td>\n",
       "      <td>1.223858</td>\n",
       "      <td>0.574157</td>\n",
       "      <td>1.732743</td>\n",
       "      <td>0.401350</td>\n",
       "      <td>6.795265</td>\n",
       "      <td>0.844139</td>\n",
       "      <td>0.555449</td>\n",
       "      <td>0.525641</td>\n",
       "      <td>0.560418</td>\n",
       "      <td>0.543200</td>\n",
       "      <td>0.533266</td>\n",
       "      <td>0.000000</td>\n",
       "      <td>196.729000</td>\n",
       "      <td>196.611000</td>\n",
       "    </tr>\n",
       "    <tr>\n",
       "      <th>2025-06-18 20:59:00</th>\n",
       "      <td>0.375568</td>\n",
       "      <td>-0.010450</td>\n",
       "      <td>0.824</td>\n",
       "      <td>0.218881</td>\n",
       "      <td>1.212771</td>\n",
       "      <td>0.070963</td>\n",
       "      <td>1.970101</td>\n",
       "      <td>-0.969666</td>\n",
       "      <td>6.775591</td>\n",
       "      <td>4.087618</td>\n",
       "      <td>-0.069970</td>\n",
       "      <td>-0.025641</td>\n",
       "      <td>0.491325</td>\n",
       "      <td>0.549591</td>\n",
       "      <td>0.545962</td>\n",
       "      <td>0.000000</td>\n",
       "      <td>196.298900</td>\n",
       "      <td>196.181100</td>\n",
       "    </tr>\n",
       "    <tr>\n",
       "      <th>2025-06-18 21:00:00</th>\n",
       "      <td>0.447608</td>\n",
       "      <td>-0.015913</td>\n",
       "      <td>0.938</td>\n",
       "      <td>0.241876</td>\n",
       "      <td>1.194266</td>\n",
       "      <td>-0.135475</td>\n",
       "      <td>2.298147</td>\n",
       "      <td>9.335643</td>\n",
       "      <td>6.788549</td>\n",
       "      <td>9.977173</td>\n",
       "      <td>0.443079</td>\n",
       "      <td>0.358974</td>\n",
       "      <td>0.452940</td>\n",
       "      <td>0.421779</td>\n",
       "      <td>0.418994</td>\n",
       "      <td>0.000000</td>\n",
       "      <td>196.599000</td>\n",
       "      <td>196.481000</td>\n",
       "    </tr>\n",
       "  </tbody>\n",
       "</table>\n",
       "<p>2740180 rows × 18 columns</p>\n",
       "</div>"
      ],
      "text/plain": [
       "                       vol_15  bb_width_20   hour     ma_20  macd_signal_9  \\\n",
       "2004-01-02 13:09:00 -0.808302    -0.760271 -0.759 -0.282361       0.265209   \n",
       "2004-01-02 13:10:00 -0.807178    -0.755313 -0.759 -0.284115       0.260467   \n",
       "2004-01-02 13:11:00 -0.806401    -0.750003 -0.759 -0.286307       0.254352   \n",
       "2004-01-02 13:12:00 -0.805908    -0.744446 -0.759 -0.288939       0.246985   \n",
       "2004-01-02 13:13:00 -0.805668    -0.738735 -0.759 -0.292008       0.238524   \n",
       "...                       ...          ...    ...       ...            ...   \n",
       "2025-06-18 20:56:00  0.124867    -0.088988  0.824  0.166276       1.090106   \n",
       "2025-06-18 20:57:00  0.162391    -0.047334  0.824  0.194941       1.163926   \n",
       "2025-06-18 20:58:00  0.147152    -0.013071  0.824  0.220771       1.223858   \n",
       "2025-06-18 20:59:00  0.375568    -0.010450  0.824  0.218881       1.212771   \n",
       "2025-06-18 21:00:00  0.447608    -0.015913  0.938  0.241876       1.194266   \n",
       "\n",
       "                          low    atr_14        obv  vwap_dev  volume_spike  \\\n",
       "2004-01-02 13:09:00 -0.028125 -1.435516  11.535427 -1.322490      0.520988   \n",
       "2004-01-02 13:10:00 -0.037500 -1.432540  11.491025 -1.322505      0.643761   \n",
       "2004-01-02 13:11:00 -0.046875 -1.429563  11.441197 -1.322519      0.730120   \n",
       "2004-01-02 13:12:00 -0.056250 -1.426587  11.385942 -1.322533      0.783493   \n",
       "2004-01-02 13:13:00 -0.065625 -1.423611  11.325262 -1.322545      0.808659   \n",
       "...                       ...       ...        ...       ...           ...   \n",
       "2025-06-18 20:56:00  0.574157  1.564945   1.052590  6.801913      0.660240   \n",
       "2025-06-18 20:57:00  0.483840  1.725116   0.748311  6.795517      0.801959   \n",
       "2025-06-18 20:58:00  0.574157  1.732743   0.401350  6.795265      0.844139   \n",
       "2025-06-18 20:59:00  0.070963  1.970101  -0.969666  6.775591      4.087618   \n",
       "2025-06-18 21:00:00 -0.135475  2.298147   9.335643  6.788549      9.977173   \n",
       "\n",
       "                         r_15     close      ma_5      open      high  \\\n",
       "2004-01-02 13:09:00 -0.023522 -0.193762 -0.185561 -0.193147 -0.317313   \n",
       "2004-01-02 13:10:00 -0.028905 -0.201725 -0.192087 -0.201085 -0.324262   \n",
       "2004-01-02 13:11:00 -0.034287 -0.209688 -0.200245 -0.209022 -0.331210   \n",
       "2004-01-02 13:12:00 -0.039669 -0.217651 -0.208402 -0.216960 -0.338159   \n",
       "2004-01-02 13:13:00 -0.045052 -0.225614 -0.216560 -0.224897 -0.345107   \n",
       "...                       ...       ...       ...       ...       ...   \n",
       "2025-06-18 20:56:00  0.886834  0.711538  0.459338  0.549591  0.685627   \n",
       "2025-06-18 20:57:00  0.749591  0.532051  0.532269  0.715746  0.787202   \n",
       "2025-06-18 20:58:00  0.555449  0.525641  0.560418  0.543200  0.533266   \n",
       "2025-06-18 20:59:00 -0.069970 -0.025641  0.491325  0.549591  0.545962   \n",
       "2025-06-18 21:00:00  0.443079  0.358974  0.452940  0.421779  0.418994   \n",
       "\n",
       "                       signal         ask         bid  \n",
       "2004-01-02 13:09:00  0.034806    0.764464    0.764007  \n",
       "2004-01-02 13:10:00  0.035168    0.764447    0.763990  \n",
       "2004-01-02 13:11:00  0.035533    0.764431    0.763973  \n",
       "2004-01-02 13:12:00  0.035902    0.764414    0.763957  \n",
       "2004-01-02 13:13:00  0.036275    0.764397    0.763940  \n",
       "...                       ...         ...         ...  \n",
       "2025-06-18 20:56:00  0.000000  196.874000  196.756000  \n",
       "2025-06-18 20:57:00  0.000000  196.734000  196.616000  \n",
       "2025-06-18 20:58:00  0.000000  196.729000  196.611000  \n",
       "2025-06-18 20:59:00  0.000000  196.298900  196.181100  \n",
       "2025-06-18 21:00:00  0.000000  196.599000  196.481000  \n",
       "\n",
       "[2740180 rows x 18 columns]"
      ]
     },
     "execution_count": 6,
     "metadata": {},
     "output_type": "execute_result"
    }
   ],
   "source": [
    "look_back      = params.look_back_tick \n",
    "features_cols  = params.features_cols_tick\n",
    "label_col      = params.label_col\n",
    "device         = params.device\n",
    "\n",
    "date = dt.datetime.now().strftime(\"%Y-%m-%d %H:%M\")\n",
    "\n",
    "df_feat = pd.read_csv(params.feat_csv, index_col=0, parse_dates=True)\n",
    "\n",
    "df_features = df_feat[features_cols + ['signal','ask','bid']]\n",
    "df_features "
   ]
  },
  {
   "cell_type": "code",
   "execution_count": 7,
   "id": "b805fa9c",
   "metadata": {},
   "outputs": [
    {
     "name": "stdout",
     "output_type": "stream",
     "text": [
      "Shapes:\n",
      "  X         = torch.Size([2416480, 60, 15]) (samples, look_back, features)\n",
      "  y         = torch.Size([2416480]) (samples,)\n",
      "  raw_close = torch.Size([2416480])\n",
      "  raw_bid   = torch.Size([2416480])\n",
      "  raw_ask   = torch.Size([2416480])\n"
     ]
    }
   ],
   "source": [
    "X, y, raw_close, raw_bid, raw_ask = models.build_lstm_tensors(\n",
    "    df=df_features,\n",
    "    look_back=look_back,\n",
    "    features_cols=features_cols,\n",
    "    label_col=label_col,\n",
    "    regular_start=params.regular_start_pred\n",
    ")\n",
    "\n",
    "# quick shapes\n",
    "print(\"Shapes:\")\n",
    "print(\"  X         =\", X.shape,    \"(samples, look_back, features)\")\n",
    "print(\"  y         =\", y.shape,    \"(samples,)\")\n",
    "print(\"  raw_close =\", raw_close.shape)\n",
    "print(\"  raw_bid   =\", raw_bid.shape)\n",
    "print(\"  raw_ask   =\", raw_ask.shape)\n"
   ]
  },
  {
   "cell_type": "code",
   "execution_count": 8,
   "id": "7b4f1ac4",
   "metadata": {},
   "outputs": [
    {
     "name": "stdout",
     "output_type": "stream",
     "text": [
      "Shapes:\n",
      "  X_tr        = torch.Size([1686495, 60, 15])\n",
      "  y_tr        = torch.Size([1686495])\n",
      "  raw_close_te= torch.Size([364689])\n",
      "  raw_bid_te  = torch.Size([364689])\n",
      "  raw_ask_te  = torch.Size([364689])\n"
     ]
    }
   ],
   "source": [
    "# Split into train/val/test by calendar day\n",
    "(X_tr, y_tr), \\\n",
    "(X_val, y_val), \\\n",
    "(X_te, y_te, raw_close_te, raw_bid_te, raw_ask_te), \\\n",
    "samples_per_day, day_id_tr, day_id_val, day_id_te = models.chronological_split(\n",
    "    X, y, raw_close, raw_bid, raw_ask, df_features,\n",
    "    look_back   = look_back,\n",
    "    regular_start   = params.regular_start_pred,\n",
    "    train_prop  = params.train_prop,\n",
    "    val_prop    = params.val_prop,\n",
    "    train_batch = params.hparams['TRAIN_BATCH']\n",
    ")\n",
    "\n",
    "# Print shapes of all tensors\n",
    "print(\"Shapes:\")\n",
    "print(\"  X_tr        =\", X_tr.shape)\n",
    "print(\"  y_tr        =\", y_tr.shape)\n",
    "print(\"  raw_close_te=\", raw_close_te.shape)\n",
    "print(\"  raw_bid_te  =\", raw_bid_te.shape)\n",
    "print(\"  raw_ask_te  =\", raw_ask_te.shape)\n"
   ]
  },
  {
   "cell_type": "code",
   "execution_count": 9,
   "id": "1ad9b6c4-3d79-45c0-b2c0-c4f46f1ad866",
   "metadata": {},
   "outputs": [
    {
     "name": "stdout",
     "output_type": "stream",
     "text": [
      "▶️ Entered split_to_day_datasets\n",
      "1) building weekday arrays\n",
      "   Weekdays counts → tr=1686495, val=365296, te=364689\n",
      "2) moving all splits to CPU\n",
      "   CPU casts done\n",
      "3) zero-bas­ing day_id for val & test\n",
      "   val_day_id ∈ [0..809], total days=810\n",
      "   te_day_id  ∈ [0..808], total days=809\n",
      "4) instantiating DayWindowDatasets\n",
      "   ds_tr days: 3776\n",
      "   ds_val days: 810\n",
      "   ds_te days: 809\n",
      "5) building DataLoaders\n",
      "   train_loader ready\n",
      "   val_loader ready\n",
      "   test_loader ready\n"
     ]
    }
   ],
   "source": [
    "# -----------------------------------------------------------------------------\n",
    "#  Build DataLoaders over calendar‐days\n",
    "# -----------------------------------------------------------------------------\n",
    "train_loader, val_loader, test_loader = models.split_to_day_datasets(\n",
    "    # Training split arrays (from chronological_split)\n",
    "    X_tr, y_tr, day_id_tr,\n",
    "    # Validation split arrays\n",
    "    X_val, y_val, day_id_val,\n",
    "    # Test split arrays + raw prices for post‐tracking\n",
    "    X_te, y_te, day_id_te, raw_close_te, raw_bid_te, raw_ask_te,\n",
    "    # Original minute‐bar DataFrame for weekday mapping\n",
    "    df=df_features,\n",
    "    train_batch=params.hparams['TRAIN_BATCH'],\n",
    "    train_workers=params.hparams['NUM_WORKERS'],\n",
    "    train_prefetch_factor=params.hparams['TRAIN_PREFETCH_FACTOR']\n",
    ")\n"
   ]
  },
  {
   "cell_type": "code",
   "execution_count": 10,
   "id": "eeec031f-6c8f-455f-9c72-ae411e03ba34",
   "metadata": {},
   "outputs": [
    {
     "data": {
      "text/plain": [
       "DualMemoryLSTM(\n",
       "  (short_lstm): LSTM(15, 96, batch_first=True)\n",
       "  (attn): MultiheadAttention(\n",
       "    (out_proj): NonDynamicallyQuantizableLinear(in_features=96, out_features=96, bias=True)\n",
       "  )\n",
       "  (do_short): Dropout(p=0.1, inplace=False)\n",
       "  (ln_short): LayerNorm((96,), eps=1e-05, elementwise_affine=True)\n",
       "  (long_lstm): LSTM(96, 128, batch_first=True)\n",
       "  (do_long): Dropout(p=0.15, inplace=False)\n",
       "  (ln_long): LayerNorm((128,), eps=1e-05, elementwise_affine=True)\n",
       "  (pred): Linear(in_features=128, out_features=1, bias=True)\n",
       ")"
      ]
     },
     "execution_count": 10,
     "metadata": {},
     "output_type": "execute_result"
    }
   ],
   "source": [
    "\n",
    "# -----------------------------------------------------------------------------\n",
    "# Instantiate the stateful DualMemoryLSTM & move to device\n",
    "# -----------------------------------------------------------------------------\n",
    "model = models.DualMemoryLSTM(\n",
    "    n_feats        = len(features_cols),                          \n",
    "    short_units    = params.hparams['SHORT_UNITS'],    \n",
    "    long_units     = params.hparams['LONG_UNITS'],     \n",
    "    dropout_short  = params.hparams['DROPOUT_SHORT'],  \n",
    "    dropout_long   = params.hparams['DROPOUT_LONG'],   \n",
    "    att_heads      = params.hparams['ATT_HEADS'],\n",
    "    att_drop       = params.hparams['ATT_DROPOUT']\n",
    ")\n",
    "model.to(device)   # place model parameters on GPU or CPU as specified\n",
    "\n",
    "model"
   ]
  },
  {
   "cell_type": "code",
   "execution_count": 11,
   "id": "5512a0dd-d2c8-418e-bfca-4580fb4be995",
   "metadata": {},
   "outputs": [
    {
     "data": {
      "text/plain": [
       "AdamW (\n",
       "Parameter Group 0\n",
       "    amsgrad: False\n",
       "    betas: (0.9, 0.999)\n",
       "    capturable: False\n",
       "    decoupled_weight_decay: True\n",
       "    differentiable: False\n",
       "    eps: 1e-08\n",
       "    foreach: None\n",
       "    fused: None\n",
       "    initial_lr: 0.05\n",
       "    lr: 0.05\n",
       "    maximize: False\n",
       "    weight_decay: 1e-06\n",
       ")"
      ]
     },
     "execution_count": 11,
     "metadata": {},
     "output_type": "execute_result"
    }
   ],
   "source": [
    "# -----------------------------------------------------------------------------\n",
    "# Compute plateau_sched timing parameters\n",
    "# -----------------------------------------------------------------------------\n",
    "# Total training samples = total windows in X_tr (one window per row)\n",
    "n_train_samples = X_tr.shape[0]\n",
    "\n",
    "# How many optimizer steps (day‐bundles) constitute one epoch?\n",
    "steps_per_epoch = len(train_loader)\n",
    "\n",
    "\n",
    "# -----------------------------------------------------------------------------\n",
    "# Build optimizer, LR scheduler, AMP scaler, and gradient‐clip norm\n",
    "# -----------------------------------------------------------------------------\n",
    "optimizer, plateau_sched, cosine_sched, scaler, clipnorm = models.make_optimizer_and_scheduler(\n",
    "    model,\n",
    "    initial_lr        = params.hparams['INITIAL_LR'],       \n",
    "    weight_decay      = params.hparams['WEIGHT_DECAY'],     \n",
    "    clipnorm          = params.hparams['CLIPNORM']   \n",
    ")\n",
    "\n",
    "optimizer"
   ]
  },
  {
   "cell_type": "code",
   "execution_count": 12,
   "id": "1e70105f-bbe5-4ce0-aabe-acf9193ef401",
   "metadata": {},
   "outputs": [
    {
     "data": {
      "application/vnd.jupyter.widget-view+json": {
       "model_id": "75b841fa367c4d2eb3c28bc5d990a788",
       "version_major": 2,
       "version_minor": 0
      },
      "text/plain": [
       "  0%|          | 0/30 [00:00<?, ?it/s]"
      ]
     },
     "metadata": {},
     "output_type": "display_data"
    },
    {
     "name": "stdout",
     "output_type": "stream",
     "text": [
      "Stopping early, the loss has diverged\n",
      "Learning rate search finished. See the graph with {finder_name}.plot()\n",
      "LR suggestion: steepest gradient\n",
      "Suggested LR: 2.21E-02\n"
     ]
    },
    {
     "data": {
      "image/png": "[encoded data removed]",
      "text/plain": [
       "<Figure size 640x480 with 1 Axes>"
      ]
     },
     "metadata": {},
     "output_type": "display_data"
    }
   ],
   "source": [
    "###########################################\n",
    "# function to find the optimal learning rate\n",
    "###########################################\n",
    "\n",
    "# 1) Move model to CPU and build a fresh optimizer (no scheduler metadata)\n",
    "model_cpu = model.cpu()\n",
    "optimizer_cpu = torch.optim.AdamW(\n",
    "    model_cpu.parameters(),\n",
    "    lr=1e-3,        # placeholder; the finder will override this\n",
    "    weight_decay=5e-4\n",
    ")\n",
    "\n",
    "# 2) Create a tiny DataLoader (batch_size=1) to save memory\n",
    "small_loader = DataLoader(\n",
    "    train_loader.dataset,\n",
    "    batch_size=1,\n",
    "    shuffle=True,\n",
    "    num_workers=0\n",
    ")\n",
    "\n",
    "# 3) Define an aligned MSE that permutes/expands your [1,1,D] or [D,1,1]\n",
    "#    target → [D, T, 1] to match output shape exactly.\n",
    "def aligned_mse(output, target):\n",
    "    # output: [D, T, 1]\n",
    "    # target might come in as [D,1,1] or [1,1,D]\n",
    "    tgt = target\n",
    "\n",
    "    # Case A: target == [D, 1, 1] → expand middle dim to T\n",
    "    if tgt.dim() == 3 and tgt.shape[0] == output.shape[0] \\\n",
    "       and tgt.shape[1] == 1 and tgt.shape[2] == 1:\n",
    "        tgt = tgt.expand(-1, output.size(1), -1)\n",
    "\n",
    "    # Case B: target == [1, 1, D] → permute to [D,1,1] then expand\n",
    "    elif tgt.dim() == 3 and tgt.shape[0] == 1 \\\n",
    "         and tgt.shape[1] == 1 and tgt.shape[2] == output.shape[0]:\n",
    "        # permute (0,1,2) → (2,1,0) to get [D,1,1]\n",
    "        tgt = tgt.permute(2, 1, 0)\n",
    "        tgt = tgt.expand(-1, output.size(1), -1)\n",
    "\n",
    "    else:\n",
    "        # fallback: broadcast to exactly output.shape\n",
    "        tgt = tgt.expand(output.shape)\n",
    "\n",
    "    return Funct.mse_loss(output, tgt)\n",
    "\n",
    "# 4) Free any lingering GPU memory\n",
    "gc.collect()\n",
    "torch.cuda.empty_cache()\n",
    "\n",
    "# 5) Run the LR‐Finder on CPU for just 30 mini‐batches\n",
    "lr_finder = LRFinder(\n",
    "    model_cpu,\n",
    "    optimizer_cpu,\n",
    "    aligned_mse,\n",
    "    device=\"cpu\"\n",
    ")\n",
    "lr_finder.range_test(\n",
    "    small_loader,\n",
    "    end_lr=1,     # maximum LR to try\n",
    "    num_iter=30   # number of batches\n",
    ")\n",
    "lr_finder.plot()   # examine loss vs. LR curve\n",
    "lr_finder.reset()  # restore original model & optimizer states\n",
    "\n",
    "# 6) Move model back to GPU for your main training\n",
    "model = model_cpu.to(\"cuda\")\n"
   ]
  },
  {
   "cell_type": "code",
   "execution_count": 13,
   "id": "7bf94780-a876-4bf4-ad27-6abc2da1fc0a",
   "metadata": {},
   "outputs": [
    {
     "name": "stdout",
     "output_type": "stream",
     "text": [
      "Training sees 3776 calendar days per epoch\n",
      "\n",
      "Baseline (zero‐forecast) RMSE on validation = 0.020913\n"
     ]
    },
    {
     "data": {
      "image/png": "[encoded data removed]",
      "text/plain": [
       "<Figure size 660x440 with 1 Axes>"
      ]
     },
     "metadata": {},
     "output_type": "display_data"
    },
    {
     "data": {
      "application/vnd.jupyter.widget-view+json": {
       "model_id": "0970dca06b174352ac699f4522dc6675",
       "version_major": 2,
       "version_minor": 0
      },
      "text/plain": [
       "Epoch 1:   0%|          | 0/118 [00:00<?, ?bundle/s]"
      ]
     },
     "metadata": {},
     "output_type": "display_data"
    },
    {
     "name": "stdout",
     "output_type": "stream",
     "text": [
      "Epoch 001 • train=1.4705 • val=0.0230 • lr=5.00e-02\n"
     ]
    },
    {
     "data": {
      "application/vnd.jupyter.widget-view+json": {
       "model_id": "eca27a02f891444889fb3571dd8750e8",
       "version_major": 2,
       "version_minor": 0
      },
      "text/plain": [
       "Epoch 2:   0%|          | 0/118 [00:00<?, ?bundle/s]"
      ]
     },
     "metadata": {},
     "output_type": "display_data"
    },
    {
     "name": "stdout",
     "output_type": "stream",
     "text": [
      "Epoch 002 • train=0.0209 • val=0.0232 • lr=4.99e-02\n"
     ]
    },
    {
     "data": {
      "application/vnd.jupyter.widget-view+json": {
       "model_id": "00ee56d5b36141e4b7e7d0a2e1ad4ff1",
       "version_major": 2,
       "version_minor": 0
      },
      "text/plain": [
       "Epoch 3:   0%|          | 0/118 [00:00<?, ?bundle/s]"
      ]
     },
     "metadata": {},
     "output_type": "display_data"
    },
    {
     "name": "stdout",
     "output_type": "stream",
     "text": [
      "Epoch 003 • train=0.0243 • val=0.0204 • lr=4.97e-02\n"
     ]
    },
    {
     "data": {
      "application/vnd.jupyter.widget-view+json": {
       "model_id": "9ca3b7c41994410b97b37668edccdf42",
       "version_major": 2,
       "version_minor": 0
      },
      "text/plain": [
       "Epoch 4:   0%|          | 0/118 [00:00<?, ?bundle/s]"
      ]
     },
     "metadata": {},
     "output_type": "display_data"
    },
    {
     "name": "stdout",
     "output_type": "stream",
     "text": [
      "Epoch 004 • train=0.0232 • val=0.0208 • lr=4.95e-02\n"
     ]
    },
    {
     "data": {
      "application/vnd.jupyter.widget-view+json": {
       "model_id": "2f3e2233519444c19d6dcc8ad4c5343c",
       "version_major": 2,
       "version_minor": 0
      },
      "text/plain": [
       "Epoch 5:   0%|          | 0/118 [00:00<?, ?bundle/s]"
      ]
     },
     "metadata": {},
     "output_type": "display_data"
    },
    {
     "name": "stdout",
     "output_type": "stream",
     "text": [
      "Epoch 005 • train=0.0195 • val=0.0225 • lr=4.92e-02\n"
     ]
    },
    {
     "data": {
      "application/vnd.jupyter.widget-view+json": {
       "model_id": "8172e5170a1d4798ac6fa42591c4bc87",
       "version_major": 2,
       "version_minor": 0
      },
      "text/plain": [
       "Epoch 6:   0%|          | 0/118 [00:00<?, ?bundle/s]"
      ]
     },
     "metadata": {},
     "output_type": "display_data"
    },
    {
     "name": "stdout",
     "output_type": "stream",
     "text": [
      "Epoch 006 • train=0.2261 • val=0.0260 • lr=4.88e-02\n"
     ]
    },
    {
     "data": {
      "application/vnd.jupyter.widget-view+json": {
       "model_id": "a3de3b869aad4d03878b4ba2fcfa7f48",
       "version_major": 2,
       "version_minor": 0
      },
      "text/plain": [
       "Epoch 7:   0%|          | 0/118 [00:00<?, ?bundle/s]"
      ]
     },
     "metadata": {},
     "output_type": "display_data"
    },
    {
     "name": "stdout",
     "output_type": "stream",
     "text": [
      "Epoch 007 • train=0.1349 • val=0.0208 • lr=4.83e-02\n"
     ]
    },
    {
     "data": {
      "application/vnd.jupyter.widget-view+json": {
       "model_id": "278f896891e1439caa0698858f6b4751",
       "version_major": 2,
       "version_minor": 0
      },
      "text/plain": [
       "Epoch 8:   0%|          | 0/118 [00:00<?, ?bundle/s]"
      ]
     },
     "metadata": {},
     "output_type": "display_data"
    },
    {
     "name": "stdout",
     "output_type": "stream",
     "text": [
      "Epoch 008 • train=0.0204 • val=0.0198 • lr=4.78e-02\n"
     ]
    },
    {
     "data": {
      "application/vnd.jupyter.widget-view+json": {
       "model_id": "cdb86c6f5f91411e81a752808601b9eb",
       "version_major": 2,
       "version_minor": 0
      },
      "text/plain": [
       "Epoch 9:   0%|          | 0/118 [00:00<?, ?bundle/s]"
      ]
     },
     "metadata": {},
     "output_type": "display_data"
    },
    {
     "name": "stdout",
     "output_type": "stream",
     "text": [
      "Epoch 009 • train=0.0202 • val=0.0224 • lr=4.73e-02\n"
     ]
    },
    {
     "data": {
      "application/vnd.jupyter.widget-view+json": {
       "model_id": "20de0fea7fbb4237a4ef9b6135d80c79",
       "version_major": 2,
       "version_minor": 0
      },
      "text/plain": [
       "Epoch 10:   0%|          | 0/118 [00:00<?, ?bundle/s]"
      ]
     },
     "metadata": {},
     "output_type": "display_data"
    },
    {
     "name": "stdout",
     "output_type": "stream",
     "text": [
      "Epoch 010 • train=0.1450 • val=0.0227 • lr=4.67e-02\n"
     ]
    },
    {
     "data": {
      "application/vnd.jupyter.widget-view+json": {
       "model_id": "adae391b4a604c38b6e1ec0921d77f0c",
       "version_major": 2,
       "version_minor": 0
      },
      "text/plain": [
       "Epoch 11:   0%|          | 0/118 [00:00<?, ?bundle/s]"
      ]
     },
     "metadata": {},
     "output_type": "display_data"
    },
    {
     "name": "stdout",
     "output_type": "stream",
     "text": [
      "Epoch 011 • train=0.0213 • val=0.0228 • lr=4.60e-02\n"
     ]
    },
    {
     "data": {
      "application/vnd.jupyter.widget-view+json": {
       "model_id": "61fbd57456e54ad480abe02272eaec71",
       "version_major": 2,
       "version_minor": 0
      },
      "text/plain": [
       "Epoch 12:   0%|          | 0/118 [00:00<?, ?bundle/s]"
      ]
     },
     "metadata": {},
     "output_type": "display_data"
    },
    {
     "name": "stdout",
     "output_type": "stream",
     "text": [
      "Epoch 012 • train=0.0216 • val=0.0227 • lr=4.52e-02\n"
     ]
    },
    {
     "data": {
      "application/vnd.jupyter.widget-view+json": {
       "model_id": "5d001343512a428ab4ef990cf35936f2",
       "version_major": 2,
       "version_minor": 0
      },
      "text/plain": [
       "Epoch 13:   0%|          | 0/118 [00:00<?, ?bundle/s]"
      ]
     },
     "metadata": {},
     "output_type": "display_data"
    },
    {
     "ename": "KeyboardInterrupt",
     "evalue": "",
     "output_type": "error",
     "traceback": [
      "\u001b[0;31m---------------------------------------------------------------------------\u001b[0m",
      "\u001b[0;31mKeyboardInterrupt\u001b[0m                         Traceback (most recent call last)",
      "Cell \u001b[0;32mIn[13], line 14\u001b[0m\n\u001b[1;32m      8\u001b[0m \u001b[38;5;28mprint\u001b[39m(\u001b[38;5;124mf\u001b[39m\u001b[38;5;124m\"\u001b[39m\u001b[38;5;124mBaseline (zero‐forecast) RMSE on validation = \u001b[39m\u001b[38;5;132;01m{\u001b[39;00mbaseline_val_rmse\u001b[38;5;132;01m:\u001b[39;00m\u001b[38;5;124m.6f\u001b[39m\u001b[38;5;132;01m}\u001b[39;00m\u001b[38;5;124m\"\u001b[39m)\n\u001b[1;32m     11\u001b[0m \u001b[38;5;66;03m# -----------------------------------------------------------------------------\u001b[39;00m\n\u001b[1;32m     12\u001b[0m \u001b[38;5;66;03m# Run the custom stateful training loop\u001b[39;00m\n\u001b[1;32m     13\u001b[0m \u001b[38;5;66;03m# -----------------------------------------------------------------------------\u001b[39;00m\n\u001b[0;32m---> 14\u001b[0m best_val_rmse  \u001b[38;5;241m=\u001b[39m \u001b[43mmodels\u001b[49m\u001b[38;5;241;43m.\u001b[39;49m\u001b[43mcustom_stateful_training_loop\u001b[49m\u001b[43m(\u001b[49m\n\u001b[1;32m     15\u001b[0m \u001b[43m    \u001b[49m\u001b[43mmodel\u001b[49m\u001b[43m               \u001b[49m\u001b[38;5;241;43m=\u001b[39;49m\u001b[43m \u001b[49m\u001b[43mmodel\u001b[49m\u001b[43m,\u001b[49m\n\u001b[1;32m     16\u001b[0m \u001b[43m    \u001b[49m\u001b[43moptimizer\u001b[49m\u001b[43m           \u001b[49m\u001b[38;5;241;43m=\u001b[39;49m\u001b[43m \u001b[49m\u001b[43moptimizer\u001b[49m\u001b[43m,\u001b[49m\n\u001b[1;32m     17\u001b[0m \u001b[43m    \u001b[49m\u001b[43mcosine_sched\u001b[49m\u001b[43m        \u001b[49m\u001b[38;5;241;43m=\u001b[39;49m\u001b[43m \u001b[49m\u001b[43mcosine_sched\u001b[49m\u001b[43m,\u001b[49m\n\u001b[1;32m     18\u001b[0m \u001b[43m    \u001b[49m\u001b[43mplateau_sched\u001b[49m\u001b[43m       \u001b[49m\u001b[38;5;241;43m=\u001b[39;49m\u001b[43m \u001b[49m\u001b[43mplateau_sched\u001b[49m\u001b[43m,\u001b[49m\n\u001b[1;32m     19\u001b[0m \u001b[43m    \u001b[49m\u001b[43mscaler\u001b[49m\u001b[43m              \u001b[49m\u001b[38;5;241;43m=\u001b[39;49m\u001b[43m \u001b[49m\u001b[43mscaler\u001b[49m\u001b[43m,\u001b[49m\n\u001b[1;32m     20\u001b[0m \u001b[43m    \u001b[49m\u001b[43mtrain_loader\u001b[49m\u001b[43m        \u001b[49m\u001b[38;5;241;43m=\u001b[39;49m\u001b[43m \u001b[49m\u001b[43mtrain_loader\u001b[49m\u001b[43m,\u001b[49m\n\u001b[1;32m     21\u001b[0m \u001b[43m    \u001b[49m\u001b[43mval_loader\u001b[49m\u001b[43m          \u001b[49m\u001b[38;5;241;43m=\u001b[39;49m\u001b[43m \u001b[49m\u001b[43mval_loader\u001b[49m\u001b[43m,\u001b[49m\n\u001b[1;32m     22\u001b[0m \u001b[43m    \u001b[49m\u001b[43mmax_epochs\u001b[49m\u001b[43m          \u001b[49m\u001b[38;5;241;43m=\u001b[39;49m\u001b[43m \u001b[49m\u001b[43mparams\u001b[49m\u001b[38;5;241;43m.\u001b[39;49m\u001b[43mhparams\u001b[49m\u001b[43m[\u001b[49m\u001b[38;5;124;43m'\u001b[39;49m\u001b[38;5;124;43mMAX_EPOCHS\u001b[39;49m\u001b[38;5;124;43m'\u001b[39;49m\u001b[43m]\u001b[49m\u001b[43m,\u001b[49m\n\u001b[1;32m     23\u001b[0m \u001b[43m    \u001b[49m\u001b[43mearly_stop_patience\u001b[49m\u001b[43m \u001b[49m\u001b[38;5;241;43m=\u001b[39;49m\u001b[43m \u001b[49m\u001b[43mparams\u001b[49m\u001b[38;5;241;43m.\u001b[39;49m\u001b[43mhparams\u001b[49m\u001b[43m[\u001b[49m\u001b[38;5;124;43m'\u001b[39;49m\u001b[38;5;124;43mEARLY_STOP_PATIENCE\u001b[39;49m\u001b[38;5;124;43m'\u001b[39;49m\u001b[43m]\u001b[49m\u001b[43m,\u001b[49m\n\u001b[1;32m     24\u001b[0m \u001b[43m    \u001b[49m\u001b[43mbaseline_val_rmse\u001b[49m\u001b[43m   \u001b[49m\u001b[38;5;241;43m=\u001b[39;49m\u001b[43m \u001b[49m\u001b[43mbaseline_val_rmse\u001b[49m\u001b[43m,\u001b[49m\n\u001b[1;32m     25\u001b[0m \u001b[43m    \u001b[49m\u001b[43mclipnorm\u001b[49m\u001b[43m            \u001b[49m\u001b[38;5;241;43m=\u001b[39;49m\u001b[43m \u001b[49m\u001b[43mclipnorm\u001b[49m\u001b[43m,\u001b[49m\n\u001b[1;32m     26\u001b[0m \u001b[43m    \u001b[49m\u001b[43mdevice\u001b[49m\u001b[43m              \u001b[49m\u001b[38;5;241;43m=\u001b[39;49m\u001b[43m \u001b[49m\u001b[43mdevice\u001b[49m\n\u001b[1;32m     27\u001b[0m \u001b[43m)\u001b[49m\n\u001b[1;32m     29\u001b[0m \u001b[38;5;66;03m# -----------------------------------------------------------------------------\u001b[39;00m\n\u001b[1;32m     30\u001b[0m \u001b[38;5;66;03m# Final reporting: best RMSE and relative improvement\u001b[39;00m\n\u001b[1;32m     31\u001b[0m \u001b[38;5;66;03m# -----------------------------------------------------------------------------\u001b[39;00m\n\u001b[1;32m     32\u001b[0m \u001b[38;5;28mprint\u001b[39m(\u001b[38;5;124mf\u001b[39m\u001b[38;5;124m\"\u001b[39m\u001b[38;5;130;01m\\n\u001b[39;00m\u001b[38;5;124mChampion validation RMSE = \u001b[39m\u001b[38;5;132;01m{\u001b[39;00mbest_val_rmse\u001b[38;5;132;01m:\u001b[39;00m\u001b[38;5;124m.6f\u001b[39m\u001b[38;5;132;01m}\u001b[39;00m\u001b[38;5;124m\"\u001b[39m)\n",
      "File \u001b[0;32m/workspace/my_models/Trading/_Stock_Analysis_/libs/models.py:889\u001b[0m, in \u001b[0;36mcustom_stateful_training_loop\u001b[0;34m(model, optimizer, cosine_sched, plateau_sched, scaler, train_loader, val_loader, max_epochs, early_stop_patience, baseline_val_rmse, clipnorm, device)\u001b[0m\n\u001b[1;32m    887\u001b[0m \u001b[38;5;66;03m# Scale, backpropagate, and collect loss\u001b[39;00m\n\u001b[1;32m    888\u001b[0m scaler\u001b[38;5;241m.\u001b[39mscale(loss)\u001b[38;5;241m.\u001b[39mbackward()\n\u001b[0;32m--> 889\u001b[0m train_losses\u001b[38;5;241m.\u001b[39mappend(\u001b[43mloss\u001b[49m\u001b[38;5;241;43m.\u001b[39;49m\u001b[43mitem\u001b[49m\u001b[43m(\u001b[49m\u001b[43m)\u001b[49m)\n\u001b[1;32m    891\u001b[0m \u001b[38;5;66;03m# In‐place detach hidden/cell tensors to avoid new allocations\u001b[39;00m\n\u001b[1;32m    892\u001b[0m model\u001b[38;5;241m.\u001b[39mh_short\u001b[38;5;241m.\u001b[39mdetach_()\n",
      "\u001b[0;31mKeyboardInterrupt\u001b[0m: "
     ]
    },
    {
     "data": {
      "image/png": "[encoded data removed]",
      "text/plain": [
       "<Figure size 660x440 with 1 Axes>"
      ]
     },
     "metadata": {},
     "output_type": "display_data"
    }
   ],
   "source": [
    "# -----------------------------------------------------------------------------\n",
    "# Count how many calendar days we see each epoch and Compute baseline RMSE on validation (zero forecast)\n",
    "# -----------------------------------------------------------------------------\n",
    "n_train_days = len(train_loader.dataset)  # dataset length = # unique days\n",
    "print(f\"Training sees {n_train_days} calendar days per epoch\\n\")\n",
    "\n",
    "baseline_val_rmse = models.naive_rmse(val_loader)\n",
    "print(f\"Baseline (zero‐forecast) RMSE on validation = {baseline_val_rmse:.6f}\")\n",
    "\n",
    "\n",
    "# -----------------------------------------------------------------------------\n",
    "# Run the custom stateful training loop\n",
    "# -----------------------------------------------------------------------------\n",
    "best_val_rmse  = models.custom_stateful_training_loop(\n",
    "    model               = model,\n",
    "    optimizer           = optimizer,\n",
    "    cosine_sched        = cosine_sched,\n",
    "    plateau_sched       = plateau_sched,\n",
    "    scaler              = scaler,\n",
    "    train_loader        = train_loader,\n",
    "    val_loader          = val_loader,\n",
    "    max_epochs          = params.hparams['MAX_EPOCHS'],\n",
    "    early_stop_patience = params.hparams['EARLY_STOP_PATIENCE'],\n",
    "    baseline_val_rmse   = baseline_val_rmse,\n",
    "    clipnorm            = clipnorm,\n",
    "    device              = device\n",
    ")\n",
    "\n",
    "# -----------------------------------------------------------------------------\n",
    "# Final reporting: best RMSE and relative improvement\n",
    "# -----------------------------------------------------------------------------\n",
    "print(f\"\\nChampion validation RMSE = {best_val_rmse:.6f}\")\n",
    "\n",
    "improvement = 100.0 * (1.0 - best_val_rmse / baseline_val_rmse)\n",
    "print(f\"Improvement over zero‐baseline = {improvement:5.1f}%\")\n"
   ]
  },
  {
   "cell_type": "code",
   "execution_count": null,
   "id": "4c8660dd-d2db-434a-aa59-17814d343fbe",
   "metadata": {},
   "outputs": [],
   "source": []
  },
  {
   "cell_type": "code",
   "execution_count": null,
   "id": "138c3b45-e00a-4a85-860d-4f87b71cbbbc",
   "metadata": {},
   "outputs": [],
   "source": []
  }
 ],
 "metadata": {
  "kernelspec": {
   "display_name": "Python 3 (ipykernel)",
   "language": "python",
   "name": "python3"
  },
  "language_info": {
   "codemirror_mode": {
    "name": "ipython",
    "version": 3
   },
   "file_extension": ".py",
   "mimetype": "text/x-python",
   "name": "python",
   "nbconvert_exporter": "python",
   "pygments_lexer": "ipython3",
   "version": "3.12.3"
  }
 },
 "nbformat": 4,
 "nbformat_minor": 5
}
