{
 "cells": [
  {
   "cell_type": "code",
   "execution_count": 1,
   "id": "73f06a4f-691a-4a84-a305-e7212eb879bf",
   "metadata": {},
   "outputs": [],
   "source": [
    "# %matplotlib widget\n",
    "%matplotlib inline"
   ]
  },
  {
   "cell_type": "code",
   "execution_count": 2,
   "id": "4c868158-e6bb-4d56-bbdd-8e8103f0b9e4",
   "metadata": {},
   "outputs": [],
   "source": [
    "# 1) Wipe out all Python variables\n",
    "%reset -f\n",
    "# 2) Force Python’s garbage collector to run\n",
    "import gc\n",
    "gc.collect()\n",
    "\n",
    "import importlib\n",
    "from libs import trades, plots, params, models\n",
    "importlib.reload(trades)\n",
    "importlib.reload(plots)\n",
    "importlib.reload(params)\n",
    "importlib.reload(models)\n",
    "\n",
    "import pandas as pd\n",
    "import numpy  as np\n",
    "import math\n",
    "\n",
    "import datetime as dt\n",
    "import os\n",
    "from typing import Sequence, List, Tuple, Optional, Union\n",
    "\n",
    "import torch\n",
    "import torch.nn as nn\n",
    "import torch.nn.functional as Funct\n",
    "from torch_lr_finder import LRFinder\n",
    "from torch.utils.data import DataLoader, TensorDataset\n",
    "\n",
    "from tqdm import tqdm"
   ]
  },
  {
   "cell_type": "code",
   "execution_count": 3,
   "id": "7b98406a",
   "metadata": {},
   "outputs": [
    {
     "data": {
      "text/html": [
       "<div>\n",
       "<style scoped>\n",
       "    .dataframe tbody tr th:only-of-type {\n",
       "        vertical-align: middle;\n",
       "    }\n",
       "\n",
       "    .dataframe tbody tr th {\n",
       "        vertical-align: top;\n",
       "    }\n",
       "\n",
       "    .dataframe thead th {\n",
       "        text-align: right;\n",
       "    }\n",
       "</style>\n",
       "<table border=\"1\" class=\"dataframe\">\n",
       "  <thead>\n",
       "    <tr style=\"text-align: right;\">\n",
       "      <th></th>\n",
       "      <th>vol_15</th>\n",
       "      <th>ma_5</th>\n",
       "      <th>ma_20</th>\n",
       "      <th>close</th>\n",
       "      <th>hour</th>\n",
       "      <th>bb_width_20</th>\n",
       "      <th>high</th>\n",
       "      <th>low</th>\n",
       "      <th>open</th>\n",
       "      <th>vwap_dev</th>\n",
       "      <th>in_trading</th>\n",
       "      <th>atr_14</th>\n",
       "      <th>r_5</th>\n",
       "      <th>r_1</th>\n",
       "      <th>r_15</th>\n",
       "      <th>signal</th>\n",
       "      <th>ask</th>\n",
       "      <th>bid</th>\n",
       "    </tr>\n",
       "  </thead>\n",
       "  <tbody>\n",
       "    <tr>\n",
       "      <th>2004-01-02 13:09:00</th>\n",
       "      <td>-0.966783</td>\n",
       "      <td>-0.185561</td>\n",
       "      <td>-0.282361</td>\n",
       "      <td>-0.193762</td>\n",
       "      <td>0.493</td>\n",
       "      <td>-0.929333</td>\n",
       "      <td>-0.317313</td>\n",
       "      <td>-0.028125</td>\n",
       "      <td>-0.193147</td>\n",
       "      <td>-0.032030</td>\n",
       "      <td>0</td>\n",
       "      <td>-1.435516</td>\n",
       "      <td>-0.040971</td>\n",
       "      <td>-0.029212</td>\n",
       "      <td>-0.025534</td>\n",
       "      <td>0.016650</td>\n",
       "      <td>0.764807</td>\n",
       "      <td>0.763664</td>\n",
       "    </tr>\n",
       "    <tr>\n",
       "      <th>2004-01-02 13:10:00</th>\n",
       "      <td>-0.965007</td>\n",
       "      <td>-0.192087</td>\n",
       "      <td>-0.284115</td>\n",
       "      <td>-0.201725</td>\n",
       "      <td>0.493</td>\n",
       "      <td>-0.921566</td>\n",
       "      <td>-0.324262</td>\n",
       "      <td>-0.037500</td>\n",
       "      <td>-0.201085</td>\n",
       "      <td>-0.036171</td>\n",
       "      <td>0</td>\n",
       "      <td>-1.432540</td>\n",
       "      <td>-0.054390</td>\n",
       "      <td>-0.029213</td>\n",
       "      <td>-0.033477</td>\n",
       "      <td>0.018001</td>\n",
       "      <td>0.764790</td>\n",
       "      <td>0.763647</td>\n",
       "    </tr>\n",
       "    <tr>\n",
       "      <th>2004-01-02 13:11:00</th>\n",
       "      <td>-0.963779</td>\n",
       "      <td>-0.200245</td>\n",
       "      <td>-0.286307</td>\n",
       "      <td>-0.209688</td>\n",
       "      <td>0.493</td>\n",
       "      <td>-0.913246</td>\n",
       "      <td>-0.331210</td>\n",
       "      <td>-0.046875</td>\n",
       "      <td>-0.209022</td>\n",
       "      <td>-0.040262</td>\n",
       "      <td>0</td>\n",
       "      <td>-1.429563</td>\n",
       "      <td>-0.067809</td>\n",
       "      <td>-0.029214</td>\n",
       "      <td>-0.041420</td>\n",
       "      <td>0.019462</td>\n",
       "      <td>0.764773</td>\n",
       "      <td>0.763631</td>\n",
       "    </tr>\n",
       "    <tr>\n",
       "      <th>2004-01-02 13:12:00</th>\n",
       "      <td>-0.963001</td>\n",
       "      <td>-0.208402</td>\n",
       "      <td>-0.288939</td>\n",
       "      <td>-0.217651</td>\n",
       "      <td>0.493</td>\n",
       "      <td>-0.904541</td>\n",
       "      <td>-0.338159</td>\n",
       "      <td>-0.056250</td>\n",
       "      <td>-0.216960</td>\n",
       "      <td>-0.044296</td>\n",
       "      <td>0</td>\n",
       "      <td>-1.426587</td>\n",
       "      <td>-0.067810</td>\n",
       "      <td>-0.029214</td>\n",
       "      <td>-0.049363</td>\n",
       "      <td>0.021042</td>\n",
       "      <td>0.764757</td>\n",
       "      <td>0.763614</td>\n",
       "    </tr>\n",
       "    <tr>\n",
       "      <th>2004-01-02 13:13:00</th>\n",
       "      <td>-0.962622</td>\n",
       "      <td>-0.216560</td>\n",
       "      <td>-0.292008</td>\n",
       "      <td>-0.225614</td>\n",
       "      <td>0.493</td>\n",
       "      <td>-0.895592</td>\n",
       "      <td>-0.345107</td>\n",
       "      <td>-0.065625</td>\n",
       "      <td>-0.224897</td>\n",
       "      <td>-0.048268</td>\n",
       "      <td>0</td>\n",
       "      <td>-1.423611</td>\n",
       "      <td>-0.067812</td>\n",
       "      <td>-0.029215</td>\n",
       "      <td>-0.057307</td>\n",
       "      <td>0.022750</td>\n",
       "      <td>0.764740</td>\n",
       "      <td>0.763597</td>\n",
       "    </tr>\n",
       "    <tr>\n",
       "      <th>...</th>\n",
       "      <td>...</td>\n",
       "      <td>...</td>\n",
       "      <td>...</td>\n",
       "      <td>...</td>\n",
       "      <td>...</td>\n",
       "      <td>...</td>\n",
       "      <td>...</td>\n",
       "      <td>...</td>\n",
       "      <td>...</td>\n",
       "      <td>...</td>\n",
       "      <td>...</td>\n",
       "      <td>...</td>\n",
       "      <td>...</td>\n",
       "      <td>...</td>\n",
       "      <td>...</td>\n",
       "      <td>...</td>\n",
       "      <td>...</td>\n",
       "      <td>...</td>\n",
       "    </tr>\n",
       "    <tr>\n",
       "      <th>2025-06-18 20:56:00</th>\n",
       "      <td>0.507307</td>\n",
       "      <td>0.367023</td>\n",
       "      <td>-0.130453</td>\n",
       "      <td>0.705997</td>\n",
       "      <td>-0.939</td>\n",
       "      <td>0.122381</td>\n",
       "      <td>0.704918</td>\n",
       "      <td>0.500000</td>\n",
       "      <td>0.475806</td>\n",
       "      <td>0.407906</td>\n",
       "      <td>1</td>\n",
       "      <td>2.024482</td>\n",
       "      <td>1.742521</td>\n",
       "      <td>0.837991</td>\n",
       "      <td>1.317936</td>\n",
       "      <td>0.000000</td>\n",
       "      <td>196.962600</td>\n",
       "      <td>196.667400</td>\n",
       "    </tr>\n",
       "    <tr>\n",
       "      <th>2025-06-18 20:57:00</th>\n",
       "      <td>0.566581</td>\n",
       "      <td>0.460866</td>\n",
       "      <td>-0.093452</td>\n",
       "      <td>0.478780</td>\n",
       "      <td>-0.939</td>\n",
       "      <td>0.187641</td>\n",
       "      <td>0.836066</td>\n",
       "      <td>0.387097</td>\n",
       "      <td>0.685484</td>\n",
       "      <td>0.263954</td>\n",
       "      <td>1</td>\n",
       "      <td>2.207440</td>\n",
       "      <td>0.887590</td>\n",
       "      <td>-0.939239</td>\n",
       "      <td>1.115397</td>\n",
       "      <td>0.000000</td>\n",
       "      <td>196.822500</td>\n",
       "      <td>196.527500</td>\n",
       "    </tr>\n",
       "    <tr>\n",
       "      <th>2025-06-18 20:58:00</th>\n",
       "      <td>0.542508</td>\n",
       "      <td>0.497086</td>\n",
       "      <td>-0.060109</td>\n",
       "      <td>0.470665</td>\n",
       "      <td>-0.939</td>\n",
       "      <td>0.241322</td>\n",
       "      <td>0.508197</td>\n",
       "      <td>0.500000</td>\n",
       "      <td>0.467742</td>\n",
       "      <td>0.254269</td>\n",
       "      <td>1</td>\n",
       "      <td>2.216153</td>\n",
       "      <td>0.341995</td>\n",
       "      <td>-0.033854</td>\n",
       "      <td>0.828890</td>\n",
       "      <td>0.000000</td>\n",
       "      <td>196.817500</td>\n",
       "      <td>196.522500</td>\n",
       "    </tr>\n",
       "    <tr>\n",
       "      <th>2025-06-18 20:59:00</th>\n",
       "      <td>0.903328</td>\n",
       "      <td>0.408182</td>\n",
       "      <td>-0.062549</td>\n",
       "      <td>-0.227217</td>\n",
       "      <td>-0.939</td>\n",
       "      <td>0.245429</td>\n",
       "      <td>0.524590</td>\n",
       "      <td>-0.129032</td>\n",
       "      <td>0.475806</td>\n",
       "      <td>-0.173638</td>\n",
       "      <td>1</td>\n",
       "      <td>2.487280</td>\n",
       "      <td>-0.842944</td>\n",
       "      <td>-2.888426</td>\n",
       "      <td>-0.094079</td>\n",
       "      <td>0.000000</td>\n",
       "      <td>196.387200</td>\n",
       "      <td>196.092800</td>\n",
       "    </tr>\n",
       "    <tr>\n",
       "      <th>2025-06-18 21:00:00</th>\n",
       "      <td>1.017126</td>\n",
       "      <td>0.358792</td>\n",
       "      <td>-0.032866</td>\n",
       "      <td>0.259677</td>\n",
       "      <td>-0.960</td>\n",
       "      <td>0.236868</td>\n",
       "      <td>0.360656</td>\n",
       "      <td>-0.387097</td>\n",
       "      <td>0.314516</td>\n",
       "      <td>0.115538</td>\n",
       "      <td>0</td>\n",
       "      <td>2.861997</td>\n",
       "      <td>-0.468049</td>\n",
       "      <td>2.015324</td>\n",
       "      <td>0.663058</td>\n",
       "      <td>0.000000</td>\n",
       "      <td>196.687400</td>\n",
       "      <td>196.392600</td>\n",
       "    </tr>\n",
       "  </tbody>\n",
       "</table>\n",
       "<p>3601230 rows × 18 columns</p>\n",
       "</div>"
      ],
      "text/plain": [
       "                       vol_15      ma_5     ma_20     close   hour  \\\n",
       "2004-01-02 13:09:00 -0.966783 -0.185561 -0.282361 -0.193762  0.493   \n",
       "2004-01-02 13:10:00 -0.965007 -0.192087 -0.284115 -0.201725  0.493   \n",
       "2004-01-02 13:11:00 -0.963779 -0.200245 -0.286307 -0.209688  0.493   \n",
       "2004-01-02 13:12:00 -0.963001 -0.208402 -0.288939 -0.217651  0.493   \n",
       "2004-01-02 13:13:00 -0.962622 -0.216560 -0.292008 -0.225614  0.493   \n",
       "...                       ...       ...       ...       ...    ...   \n",
       "2025-06-18 20:56:00  0.507307  0.367023 -0.130453  0.705997 -0.939   \n",
       "2025-06-18 20:57:00  0.566581  0.460866 -0.093452  0.478780 -0.939   \n",
       "2025-06-18 20:58:00  0.542508  0.497086 -0.060109  0.470665 -0.939   \n",
       "2025-06-18 20:59:00  0.903328  0.408182 -0.062549 -0.227217 -0.939   \n",
       "2025-06-18 21:00:00  1.017126  0.358792 -0.032866  0.259677 -0.960   \n",
       "\n",
       "                     bb_width_20      high       low      open  vwap_dev  \\\n",
       "2004-01-02 13:09:00    -0.929333 -0.317313 -0.028125 -0.193147 -0.032030   \n",
       "2004-01-02 13:10:00    -0.921566 -0.324262 -0.037500 -0.201085 -0.036171   \n",
       "2004-01-02 13:11:00    -0.913246 -0.331210 -0.046875 -0.209022 -0.040262   \n",
       "2004-01-02 13:12:00    -0.904541 -0.338159 -0.056250 -0.216960 -0.044296   \n",
       "2004-01-02 13:13:00    -0.895592 -0.345107 -0.065625 -0.224897 -0.048268   \n",
       "...                          ...       ...       ...       ...       ...   \n",
       "2025-06-18 20:56:00     0.122381  0.704918  0.500000  0.475806  0.407906   \n",
       "2025-06-18 20:57:00     0.187641  0.836066  0.387097  0.685484  0.263954   \n",
       "2025-06-18 20:58:00     0.241322  0.508197  0.500000  0.467742  0.254269   \n",
       "2025-06-18 20:59:00     0.245429  0.524590 -0.129032  0.475806 -0.173638   \n",
       "2025-06-18 21:00:00     0.236868  0.360656 -0.387097  0.314516  0.115538   \n",
       "\n",
       "                     in_trading    atr_14       r_5       r_1      r_15  \\\n",
       "2004-01-02 13:09:00           0 -1.435516 -0.040971 -0.029212 -0.025534   \n",
       "2004-01-02 13:10:00           0 -1.432540 -0.054390 -0.029213 -0.033477   \n",
       "2004-01-02 13:11:00           0 -1.429563 -0.067809 -0.029214 -0.041420   \n",
       "2004-01-02 13:12:00           0 -1.426587 -0.067810 -0.029214 -0.049363   \n",
       "2004-01-02 13:13:00           0 -1.423611 -0.067812 -0.029215 -0.057307   \n",
       "...                         ...       ...       ...       ...       ...   \n",
       "2025-06-18 20:56:00           1  2.024482  1.742521  0.837991  1.317936   \n",
       "2025-06-18 20:57:00           1  2.207440  0.887590 -0.939239  1.115397   \n",
       "2025-06-18 20:58:00           1  2.216153  0.341995 -0.033854  0.828890   \n",
       "2025-06-18 20:59:00           1  2.487280 -0.842944 -2.888426 -0.094079   \n",
       "2025-06-18 21:00:00           0  2.861997 -0.468049  2.015324  0.663058   \n",
       "\n",
       "                       signal         ask         bid  \n",
       "2004-01-02 13:09:00  0.016650    0.764807    0.763664  \n",
       "2004-01-02 13:10:00  0.018001    0.764790    0.763647  \n",
       "2004-01-02 13:11:00  0.019462    0.764773    0.763631  \n",
       "2004-01-02 13:12:00  0.021042    0.764757    0.763614  \n",
       "2004-01-02 13:13:00  0.022750    0.764740    0.763597  \n",
       "...                       ...         ...         ...  \n",
       "2025-06-18 20:56:00  0.000000  196.962600  196.667400  \n",
       "2025-06-18 20:57:00  0.000000  196.822500  196.527500  \n",
       "2025-06-18 20:58:00  0.000000  196.817500  196.522500  \n",
       "2025-06-18 20:59:00  0.000000  196.387200  196.092800  \n",
       "2025-06-18 21:00:00  0.000000  196.687400  196.392600  \n",
       "\n",
       "[3601230 rows x 18 columns]"
      ]
     },
     "execution_count": 3,
     "metadata": {},
     "output_type": "execute_result"
    }
   ],
   "source": [
    "look_back      = params.look_back_tick \n",
    "features_cols  = params.features_cols_tick\n",
    "label_col      = params.label_col\n",
    "device         = params.device\n",
    "\n",
    "# date = dt.datetime.now().strftime(\"%Y-%m-%d %H:%M\")\n",
    "\n",
    "df_feat = pd.read_csv(params.feat_csv, index_col=0, parse_dates=True)\n",
    "\n",
    "df_features = df_feat[features_cols + ['signal','ask','bid']]\n",
    "df_features "
   ]
  },
  {
   "cell_type": "code",
   "execution_count": 4,
   "id": "b805fa9c",
   "metadata": {},
   "outputs": [
    {
     "name": "stdout",
     "output_type": "stream",
     "text": [
      "Shapes:\n",
      "  X         = torch.Size([2412342, 60, 15]) (samples, look_back, features)\n",
      "  y         = torch.Size([2412342]) (samples,)\n",
      "  raw_close = torch.Size([2412342])\n",
      "  raw_bid   = torch.Size([2412342])\n",
      "  raw_ask   = torch.Size([2412342])\n"
     ]
    }
   ],
   "source": [
    "X, y, raw_close, raw_bid, raw_ask = models.build_lstm_tensors(\n",
    "    df=df_features,\n",
    "    look_back=look_back,\n",
    "    features_cols=features_cols,\n",
    "    label_col=label_col,\n",
    "    sess_start = False # if we want the predictions not to start from sess_start, but from sess_start_pred\n",
    ")\n",
    "\n",
    "# quick shapes\n",
    "print(\"Shapes:\")\n",
    "print(\"  X         =\", X.shape,    \"(samples, look_back, features)\")\n",
    "print(\"  y         =\", y.shape,    \"(samples,)\")\n",
    "print(\"  raw_close =\", raw_close.shape)\n",
    "print(\"  raw_bid   =\", raw_bid.shape)\n",
    "print(\"  raw_ask   =\", raw_ask.shape)\n"
   ]
  },
  {
   "cell_type": "code",
   "execution_count": 5,
   "id": "7b4f1ac4",
   "metadata": {},
   "outputs": [
    {
     "name": "stdout",
     "output_type": "stream",
     "text": [
      "Shapes:\n",
      "  X_tr  = torch.Size([1694522, 60, 15])\n",
      "  y_tr  = torch.Size([1694522])\n",
      "  X_val = torch.Size([353129, 60, 15])\n",
      "  y_val = torch.Size([353129])\n",
      "  X_te  = torch.Size([364691, 60, 15])\n",
      "  y_te  = torch.Size([364691])\n"
     ]
    }
   ],
   "source": [
    "# Split into train/val/test by calendar day\n",
    "(X_tr, y_tr), \\\n",
    "(X_val, y_val), \\\n",
    "(X_te, y_te, raw_close_te, raw_bid_te, raw_ask_te), \\\n",
    "samples_per_day, day_id_tr, day_id_val, day_id_te = models.chronological_split(\n",
    "    X, y, raw_close, raw_bid, raw_ask, df_features,\n",
    "    look_back   = look_back,\n",
    "    train_prop  = params.train_prop,\n",
    "    val_prop    = params.val_prop,\n",
    "    train_batch = params.hparams['TRAIN_BATCH'],\n",
    "    sess_start  = False # if we want the predictions not to start from sess_start, but from sess_start_pred\n",
    "\n",
    ")\n",
    "\n",
    "# Print shapes of all tensors\n",
    "print(\"Shapes:\")\n",
    "print(\"  X_tr  =\", X_tr.shape)\n",
    "print(\"  y_tr  =\", y_tr.shape)\n",
    "print(\"  X_val =\", X_val.shape)\n",
    "print(\"  y_val =\", y_val.shape)\n",
    "print(\"  X_te  =\", X_te.shape)\n",
    "print(\"  y_te  =\", y_te.shape)\n"
   ]
  },
  {
   "cell_type": "code",
   "execution_count": 6,
   "id": "1ad9b6c4-3d79-45c0-b2c0-c4f46f1ad866",
   "metadata": {},
   "outputs": [
    {
     "name": "stdout",
     "output_type": "stream",
     "text": [
      "▶️ Entered split_to_day_datasets\n",
      "1) building weekday arrays\n",
      "   Weekdays counts → tr=1694522, val=353129, te=364691\n",
      "2) moving all splits to CPU\n",
      "   CPU casts done\n",
      "3) zero-bas­ing day_id for val & test\n",
      "   val_day_id ∈ [0..782], total days=783\n",
      "   te_day_id  ∈ [0..808], total days=809\n",
      "4) instantiating DayWindowDatasets\n",
      "   ds_tr days: 3808\n",
      "   ds_val days: 783\n",
      "   ds_te days: 809\n",
      "5) building DataLoaders\n",
      "   train_loader ready\n",
      "   val_loader ready\n",
      "   test_loader ready\n"
     ]
    }
   ],
   "source": [
    "# -----------------------------------------------------------------------------\n",
    "#  Build DataLoaders over calendar‐days\n",
    "# -----------------------------------------------------------------------------\n",
    "train_loader, val_loader, test_loader = models.split_to_day_datasets(\n",
    "    # Training split arrays (from chronological_split)\n",
    "    X_tr, y_tr, day_id_tr,\n",
    "    # Validation split arrays\n",
    "    X_val, y_val, day_id_val,\n",
    "    # Test split arrays + raw prices for post‐tracking\n",
    "    X_te, y_te, day_id_te, raw_close_te, raw_bid_te, raw_ask_te,\n",
    "    # Original minute‐bar DataFrame for weekday mapping\n",
    "    df=df_features,\n",
    "    train_batch=params.hparams['TRAIN_BATCH'],\n",
    "    train_workers=params.hparams['NUM_WORKERS'],\n",
    "    train_prefetch_factor=params.hparams['TRAIN_PREFETCH_FACTOR']\n",
    ")\n"
   ]
  },
  {
   "cell_type": "code",
   "execution_count": 7,
   "id": "eeec031f-6c8f-455f-9c72-ae411e03ba34",
   "metadata": {},
   "outputs": [
    {
     "data": {
      "text/plain": [
       "DualMemoryLSTM(\n",
       "  (short_lstm): LSTM(15, 128, batch_first=True)\n",
       "  (attn): MultiheadAttention(\n",
       "    (out_proj): NonDynamicallyQuantizableLinear(in_features=128, out_features=128, bias=True)\n",
       "  )\n",
       "  (do_short): Dropout(p=0.1, inplace=False)\n",
       "  (ln_short): LayerNorm((128,), eps=1e-05, elementwise_affine=True)\n",
       "  (long_lstm): LSTM(128, 128, batch_first=True)\n",
       "  (do_long): Dropout(p=0.1, inplace=False)\n",
       "  (ln_long): LayerNorm((128,), eps=1e-05, elementwise_affine=True)\n",
       "  (pred): Linear(in_features=128, out_features=1, bias=True)\n",
       ")"
      ]
     },
     "execution_count": 7,
     "metadata": {},
     "output_type": "execute_result"
    }
   ],
   "source": [
    "\n",
    "# -----------------------------------------------------------------------------\n",
    "# Instantiate the stateful DualMemoryLSTM & move to device\n",
    "# -----------------------------------------------------------------------------\n",
    "model = models.DualMemoryLSTM(\n",
    "    n_feats        = len(features_cols),                          \n",
    "    short_units    = params.hparams['SHORT_UNITS'],    \n",
    "    long_units     = params.hparams['LONG_UNITS'],     \n",
    "    dropout_short  = params.hparams['DROPOUT_SHORT'],  \n",
    "    dropout_long   = params.hparams['DROPOUT_LONG'],   \n",
    "    att_heads      = params.hparams['ATT_HEADS'],\n",
    "    att_drop       = params.hparams['ATT_DROPOUT']\n",
    ")\n",
    "model.to(device)   # place model parameters on GPU or CPU as specified\n",
    "\n",
    "model"
   ]
  },
  {
   "cell_type": "code",
   "execution_count": 8,
   "id": "5512a0dd-d2c8-418e-bfca-4580fb4be995",
   "metadata": {},
   "outputs": [
    {
     "data": {
      "text/plain": [
       "AdamW (\n",
       "Parameter Group 0\n",
       "    amsgrad: False\n",
       "    betas: (0.9, 0.999)\n",
       "    capturable: False\n",
       "    decoupled_weight_decay: True\n",
       "    differentiable: False\n",
       "    eps: 1e-08\n",
       "    foreach: None\n",
       "    fused: None\n",
       "    initial_lr: 0.0005\n",
       "    lr: 0.0005\n",
       "    maximize: False\n",
       "    weight_decay: 1e-05\n",
       ")"
      ]
     },
     "execution_count": 8,
     "metadata": {},
     "output_type": "execute_result"
    }
   ],
   "source": [
    "# -----------------------------------------------------------------------------\n",
    "# Compute plateau_sched timing parameters\n",
    "# -----------------------------------------------------------------------------\n",
    "# Total training samples = total windows in X_tr (one window per row)\n",
    "n_train_samples = X_tr.shape[0]\n",
    "\n",
    "# How many optimizer steps (day‐bundles) constitute one epoch?\n",
    "steps_per_epoch = len(train_loader)\n",
    "\n",
    "\n",
    "# -----------------------------------------------------------------------------\n",
    "# Build optimizer, LR scheduler, AMP scaler, and gradient‐clip norm\n",
    "# -----------------------------------------------------------------------------\n",
    "optimizer, plateau_sched, cosine_sched, scaler, clipnorm = models.make_optimizer_and_scheduler(\n",
    "    model,\n",
    "    initial_lr        = params.hparams['INITIAL_LR'],       \n",
    "    weight_decay      = params.hparams['WEIGHT_DECAY'],     \n",
    "    clipnorm          = params.hparams['CLIPNORM']   \n",
    ")\n",
    "\n",
    "optimizer"
   ]
  },
  {
   "cell_type": "code",
   "execution_count": 9,
   "id": "1e70105f-bbe5-4ce0-aabe-acf9193ef401",
   "metadata": {},
   "outputs": [],
   "source": [
    "# ###########################################\n",
    "# # function to find the optimal learning rate\n",
    "# ###########################################\n",
    "\n",
    "# # 1) Move model to CPU and build a fresh optimizer (no scheduler metadata)\n",
    "# model_cpu = model.cpu()\n",
    "# optimizer_cpu = torch.optim.AdamW(\n",
    "#     model_cpu.parameters(),\n",
    "#     lr=1e-3,        # placeholder; the finder will override this\n",
    "#     weight_decay=5e-4\n",
    "# )\n",
    "\n",
    "# # 2) Create a tiny DataLoader (batch_size=1) to save memory\n",
    "# small_loader = DataLoader(\n",
    "#     train_loader.dataset,\n",
    "#     batch_size=1,\n",
    "#     shuffle=True,\n",
    "#     num_workers=0\n",
    "# )\n",
    "\n",
    "# # 3) Define an aligned MSE that permutes/expands your [1,1,D] or [D,1,1]\n",
    "# #    target → [D, T, 1] to match output shape exactly.\n",
    "# def aligned_mse(output, target):\n",
    "#     # output: [D, T, 1]\n",
    "#     # target might come in as [D,1,1] or [1,1,D]\n",
    "#     tgt = target\n",
    "\n",
    "#     # Case A: target == [D, 1, 1] → expand middle dim to T\n",
    "#     if tgt.dim() == 3 and tgt.shape[0] == output.shape[0] \\\n",
    "#        and tgt.shape[1] == 1 and tgt.shape[2] == 1:\n",
    "#         tgt = tgt.expand(-1, output.size(1), -1)\n",
    "\n",
    "#     # Case B: target == [1, 1, D] → permute to [D,1,1] then expand\n",
    "#     elif tgt.dim() == 3 and tgt.shape[0] == 1 \\\n",
    "#          and tgt.shape[1] == 1 and tgt.shape[2] == output.shape[0]:\n",
    "#         # permute (0,1,2) → (2,1,0) to get [D,1,1]\n",
    "#         tgt = tgt.permute(2, 1, 0)\n",
    "#         tgt = tgt.expand(-1, output.size(1), -1)\n",
    "\n",
    "#     else:\n",
    "#         # fallback: broadcast to exactly output.shape\n",
    "#         tgt = tgt.expand(output.shape)\n",
    "\n",
    "#     return Funct.mse_loss(output, tgt)\n",
    "\n",
    "# # 4) Free any lingering GPU memory\n",
    "# gc.collect()\n",
    "# torch.cuda.empty_cache()\n",
    "\n",
    "# # 5) Run the LR‐Finder on CPU for just 30 mini‐batches\n",
    "# lr_finder = LRFinder(\n",
    "#     model_cpu,\n",
    "#     optimizer_cpu,\n",
    "#     aligned_mse,\n",
    "#     device=\"cpu\"\n",
    "# )\n",
    "# lr_finder.range_test(\n",
    "#     small_loader,\n",
    "#     end_lr=1,     # maximum LR to try\n",
    "#     num_iter=30   # number of batches\n",
    "# )\n",
    "# lr_finder.plot()   # examine loss vs. LR curve\n",
    "# lr_finder.reset()  # restore original model & optimizer states\n",
    "\n",
    "# # 6) Move model back to GPU for your main training\n",
    "# model = model_cpu.to(\"cuda\")\n"
   ]
  },
  {
   "cell_type": "code",
   "execution_count": 10,
   "id": "e9c5fc27-f31d-4adc-a247-5468674f83fc",
   "metadata": {},
   "outputs": [
    {
     "name": "stdout",
     "output_type": "stream",
     "text": [
      "Training sees 3808 calendar days per epoch\n",
      "\n",
      "Baseline (zero‐forecast) RMSE on validation = 0.454466\n"
     ]
    }
   ],
   "source": [
    "# -----------------------------------------------------------------------------\n",
    "# Count how many calendar days we see each epoch and Compute baseline RMSE on validation (zero forecast)\n",
    "# -----------------------------------------------------------------------------\n",
    "n_train_days = len(train_loader.dataset)  # dataset length = # unique days\n",
    "print(f\"Training sees {n_train_days} calendar days per epoch\\n\")\n",
    "\n",
    "baseline_val_rmse = models.naive_rmse(val_loader)\n",
    "print(f\"Baseline (zero‐forecast) RMSE on validation = {baseline_val_rmse:.6f}\")"
   ]
  },
  {
   "cell_type": "code",
   "execution_count": 11,
   "id": "7bf94780-a876-4bf4-ad27-6abc2da1fc0a",
   "metadata": {},
   "outputs": [
    {
     "data": {
      "image/png": "[encoded data removed]",
      "text/plain": [
       "<Figure size 660x440 with 1 Axes>"
      ]
     },
     "metadata": {},
     "output_type": "display_data"
    },
    {
     "data": {
      "application/vnd.jupyter.widget-view+json": {
       "model_id": "4a5d0faff90648bd833f62d13654d869",
       "version_major": 2,
       "version_minor": 0
      },
      "text/plain": [
       "Epoch 1:   0%|          | 0/119 [00:00<?, ?bundle/s]"
      ]
     },
     "metadata": {},
     "output_type": "display_data"
    },
    {
     "name": "stdout",
     "output_type": "stream",
     "text": [
      "Epoch 001 • train=0.3509 • val=0.2976 • lr=5.00e-04\n"
     ]
    },
    {
     "data": {
      "application/vnd.jupyter.widget-view+json": {
       "model_id": "c212a590b88541fd9cdd63fb1df6d610",
       "version_major": 2,
       "version_minor": 0
      },
      "text/plain": [
       "Epoch 2:   0%|          | 0/119 [00:00<?, ?bundle/s]"
      ]
     },
     "metadata": {},
     "output_type": "display_data"
    },
    {
     "name": "stdout",
     "output_type": "stream",
     "text": [
      "Epoch 002 • train=0.3089 • val=0.2927 • lr=4.99e-04\n"
     ]
    },
    {
     "data": {
      "application/vnd.jupyter.widget-view+json": {
       "model_id": "3bae1fa43edb428b8d61d7d5e565e4b3",
       "version_major": 2,
       "version_minor": 0
      },
      "text/plain": [
       "Epoch 3:   0%|          | 0/119 [00:00<?, ?bundle/s]"
      ]
     },
     "metadata": {},
     "output_type": "display_data"
    },
    {
     "name": "stdout",
     "output_type": "stream",
     "text": [
      "Epoch 003 • train=0.3079 • val=0.2936 • lr=4.99e-04\n"
     ]
    },
    {
     "data": {
      "application/vnd.jupyter.widget-view+json": {
       "model_id": "a7a0cf3d9ce445feb7561bcaefe42199",
       "version_major": 2,
       "version_minor": 0
      },
      "text/plain": [
       "Epoch 4:   0%|          | 0/119 [00:00<?, ?bundle/s]"
      ]
     },
     "metadata": {},
     "output_type": "display_data"
    },
    {
     "name": "stdout",
     "output_type": "stream",
     "text": [
      "Epoch 004 • train=0.3043 • val=0.2896 • lr=4.98e-04\n"
     ]
    },
    {
     "data": {
      "application/vnd.jupyter.widget-view+json": {
       "model_id": "afce5d470d0044f2a5dfd148fa99c06d",
       "version_major": 2,
       "version_minor": 0
      },
      "text/plain": [
       "Epoch 5:   0%|          | 0/119 [00:00<?, ?bundle/s]"
      ]
     },
     "metadata": {},
     "output_type": "display_data"
    },
    {
     "name": "stdout",
     "output_type": "stream",
     "text": [
      "Epoch 005 • train=0.3023 • val=0.2908 • lr=4.96e-04\n"
     ]
    },
    {
     "data": {
      "application/vnd.jupyter.widget-view+json": {
       "model_id": "4dea5cbce6724a40b6a72a1fc7764517",
       "version_major": 2,
       "version_minor": 0
      },
      "text/plain": [
       "Epoch 6:   0%|          | 0/119 [00:00<?, ?bundle/s]"
      ]
     },
     "metadata": {},
     "output_type": "display_data"
    },
    {
     "name": "stdout",
     "output_type": "stream",
     "text": [
      "Epoch 006 • train=0.3006 • val=0.2884 • lr=4.95e-04\n"
     ]
    },
    {
     "data": {
      "application/vnd.jupyter.widget-view+json": {
       "model_id": "adddf2dd240848c387bbd02e79c87ba4",
       "version_major": 2,
       "version_minor": 0
      },
      "text/plain": [
       "Epoch 7:   0%|          | 0/119 [00:00<?, ?bundle/s]"
      ]
     },
     "metadata": {},
     "output_type": "display_data"
    },
    {
     "name": "stdout",
     "output_type": "stream",
     "text": [
      "Epoch 007 • train=0.2996 • val=0.2887 • lr=4.93e-04\n"
     ]
    },
    {
     "data": {
      "application/vnd.jupyter.widget-view+json": {
       "model_id": "02aa5c2ea51249628e66ae182b7c157c",
       "version_major": 2,
       "version_minor": 0
      },
      "text/plain": [
       "Epoch 8:   0%|          | 0/119 [00:00<?, ?bundle/s]"
      ]
     },
     "metadata": {},
     "output_type": "display_data"
    },
    {
     "name": "stdout",
     "output_type": "stream",
     "text": [
      "Epoch 008 • train=0.2989 • val=0.2875 • lr=4.90e-04\n"
     ]
    },
    {
     "data": {
      "application/vnd.jupyter.widget-view+json": {
       "model_id": "921cfc23d6734f04a66b6fa5b1f94711",
       "version_major": 2,
       "version_minor": 0
      },
      "text/plain": [
       "Epoch 9:   0%|          | 0/119 [00:00<?, ?bundle/s]"
      ]
     },
     "metadata": {},
     "output_type": "display_data"
    },
    {
     "name": "stdout",
     "output_type": "stream",
     "text": [
      "Epoch 009 • train=0.2985 • val=0.2872 • lr=4.88e-04\n"
     ]
    },
    {
     "data": {
      "application/vnd.jupyter.widget-view+json": {
       "model_id": "0a0edafc072d448cb3a21a1965dae4c7",
       "version_major": 2,
       "version_minor": 0
      },
      "text/plain": [
       "Epoch 10:   0%|          | 0/119 [00:00<?, ?bundle/s]"
      ]
     },
     "metadata": {},
     "output_type": "display_data"
    },
    {
     "name": "stdout",
     "output_type": "stream",
     "text": [
      "Epoch 010 • train=0.2982 • val=0.2884 • lr=4.85e-04\n"
     ]
    },
    {
     "data": {
      "application/vnd.jupyter.widget-view+json": {
       "model_id": "22b8b6eb29f54d0e9515e212553ea59c",
       "version_major": 2,
       "version_minor": 0
      },
      "text/plain": [
       "Epoch 11:   0%|          | 0/119 [00:00<?, ?bundle/s]"
      ]
     },
     "metadata": {},
     "output_type": "display_data"
    },
    {
     "name": "stdout",
     "output_type": "stream",
     "text": [
      "Epoch 011 • train=0.2985 • val=0.2875 • lr=4.82e-04\n"
     ]
    },
    {
     "data": {
      "application/vnd.jupyter.widget-view+json": {
       "model_id": "3c9cfb41ebce46b1bc36a524c43567e5",
       "version_major": 2,
       "version_minor": 0
      },
      "text/plain": [
       "Epoch 12:   0%|          | 0/119 [00:00<?, ?bundle/s]"
      ]
     },
     "metadata": {},
     "output_type": "display_data"
    },
    {
     "name": "stdout",
     "output_type": "stream",
     "text": [
      "Epoch 012 • train=0.2980 • val=0.2865 • lr=4.79e-04\n"
     ]
    },
    {
     "data": {
      "application/vnd.jupyter.widget-view+json": {
       "model_id": "08ffb233b7814136b64117ddb7cd6f62",
       "version_major": 2,
       "version_minor": 0
      },
      "text/plain": [
       "Epoch 13:   0%|          | 0/119 [00:00<?, ?bundle/s]"
      ]
     },
     "metadata": {},
     "output_type": "display_data"
    },
    {
     "name": "stdout",
     "output_type": "stream",
     "text": [
      "Epoch 013 • train=0.2971 • val=0.2863 • lr=4.75e-04\n"
     ]
    },
    {
     "data": {
      "application/vnd.jupyter.widget-view+json": {
       "model_id": "09432d572e504f76af155143d6a926d7",
       "version_major": 2,
       "version_minor": 0
      },
      "text/plain": [
       "Epoch 14:   0%|          | 0/119 [00:00<?, ?bundle/s]"
      ]
     },
     "metadata": {},
     "output_type": "display_data"
    },
    {
     "name": "stdout",
     "output_type": "stream",
     "text": [
      "Epoch 014 • train=0.2974 • val=0.2879 • lr=4.71e-04\n"
     ]
    },
    {
     "data": {
      "application/vnd.jupyter.widget-view+json": {
       "model_id": "0d0c6bfe2a874ffeb43af6760d507df5",
       "version_major": 2,
       "version_minor": 0
      },
      "text/plain": [
       "Epoch 15:   0%|          | 0/119 [00:00<?, ?bundle/s]"
      ]
     },
     "metadata": {},
     "output_type": "display_data"
    },
    {
     "name": "stdout",
     "output_type": "stream",
     "text": [
      "Epoch 015 • train=0.2968 • val=0.2861 • lr=4.67e-04\n"
     ]
    },
    {
     "data": {
      "application/vnd.jupyter.widget-view+json": {
       "model_id": "4baa7d5e76e3479b96e715a7065631b3",
       "version_major": 2,
       "version_minor": 0
      },
      "text/plain": [
       "Epoch 16:   0%|          | 0/119 [00:00<?, ?bundle/s]"
      ]
     },
     "metadata": {},
     "output_type": "display_data"
    },
    {
     "name": "stdout",
     "output_type": "stream",
     "text": [
      "Epoch 016 • train=0.2962 • val=0.2870 • lr=4.62e-04\n"
     ]
    },
    {
     "data": {
      "application/vnd.jupyter.widget-view+json": {
       "model_id": "87ad38a4351b41beb9325cc2f4481ebe",
       "version_major": 2,
       "version_minor": 0
      },
      "text/plain": [
       "Epoch 17:   0%|          | 0/119 [00:00<?, ?bundle/s]"
      ]
     },
     "metadata": {},
     "output_type": "display_data"
    },
    {
     "name": "stdout",
     "output_type": "stream",
     "text": [
      "Epoch 017 • train=0.2964 • val=0.2871 • lr=4.58e-04\n"
     ]
    },
    {
     "data": {
      "application/vnd.jupyter.widget-view+json": {
       "model_id": "d2b2903220674aa7bf3bb08a1f1d4529",
       "version_major": 2,
       "version_minor": 0
      },
      "text/plain": [
       "Epoch 18:   0%|          | 0/119 [00:00<?, ?bundle/s]"
      ]
     },
     "metadata": {},
     "output_type": "display_data"
    },
    {
     "name": "stdout",
     "output_type": "stream",
     "text": [
      "Epoch 018 • train=0.2968 • val=0.2873 • lr=4.53e-04\n"
     ]
    },
    {
     "data": {
      "application/vnd.jupyter.widget-view+json": {
       "model_id": "4d94c446f5b94bb1aa87b264c615346f",
       "version_major": 2,
       "version_minor": 0
      },
      "text/plain": [
       "Epoch 19:   0%|          | 0/119 [00:00<?, ?bundle/s]"
      ]
     },
     "metadata": {},
     "output_type": "display_data"
    },
    {
     "name": "stdout",
     "output_type": "stream",
     "text": [
      "Epoch 019 • train=0.2965 • val=0.2869 • lr=4.48e-04\n"
     ]
    },
    {
     "data": {
      "application/vnd.jupyter.widget-view+json": {
       "model_id": "969ff6faaba9446b91d8ee8bd775c783",
       "version_major": 2,
       "version_minor": 0
      },
      "text/plain": [
       "Epoch 20:   0%|          | 0/119 [00:00<?, ?bundle/s]"
      ]
     },
     "metadata": {},
     "output_type": "display_data"
    },
    {
     "name": "stdout",
     "output_type": "stream",
     "text": [
      "Epoch 020 • train=0.2968 • val=0.2872 • lr=4.42e-04\n"
     ]
    },
    {
     "data": {
      "application/vnd.jupyter.widget-view+json": {
       "model_id": "5f12439b7f1f4961974e81f47d9c94d4",
       "version_major": 2,
       "version_minor": 0
      },
      "text/plain": [
       "Epoch 21:   0%|          | 0/119 [00:00<?, ?bundle/s]"
      ]
     },
     "metadata": {},
     "output_type": "display_data"
    },
    {
     "name": "stdout",
     "output_type": "stream",
     "text": [
      "Epoch 021 • train=0.2962 • val=0.2877 • lr=4.36e-04\n"
     ]
    },
    {
     "data": {
      "application/vnd.jupyter.widget-view+json": {
       "model_id": "0b71ac5738ed4d6dafc1a4ec4134e947",
       "version_major": 2,
       "version_minor": 0
      },
      "text/plain": [
       "Epoch 22:   0%|          | 0/119 [00:00<?, ?bundle/s]"
      ]
     },
     "metadata": {},
     "output_type": "display_data"
    },
    {
     "name": "stdout",
     "output_type": "stream",
     "text": [
      "Epoch 022 • train=0.2980 • val=0.2864 • lr=4.31e-04\n"
     ]
    },
    {
     "data": {
      "application/vnd.jupyter.widget-view+json": {
       "model_id": "1b00fe7167084feba3e3536be6bb8f7f",
       "version_major": 2,
       "version_minor": 0
      },
      "text/plain": [
       "Epoch 23:   0%|          | 0/119 [00:00<?, ?bundle/s]"
      ]
     },
     "metadata": {},
     "output_type": "display_data"
    },
    {
     "name": "stdout",
     "output_type": "stream",
     "text": [
      "Epoch 023 • train=0.2962 • val=0.2875 • lr=4.24e-04\n"
     ]
    },
    {
     "data": {
      "application/vnd.jupyter.widget-view+json": {
       "model_id": "66dbde12525c4698a34cccbfe12d8220",
       "version_major": 2,
       "version_minor": 0
      },
      "text/plain": [
       "Epoch 24:   0%|          | 0/119 [00:00<?, ?bundle/s]"
      ]
     },
     "metadata": {},
     "output_type": "display_data"
    },
    {
     "name": "stdout",
     "output_type": "stream",
     "text": [
      "Epoch 024 • train=0.2958 • val=0.2870 • lr=4.18e-04\n"
     ]
    },
    {
     "data": {
      "application/vnd.jupyter.widget-view+json": {
       "model_id": "2b1045fb29b5456999b3072a9cc30cae",
       "version_major": 2,
       "version_minor": 0
      },
      "text/plain": [
       "Epoch 25:   0%|          | 0/119 [00:00<?, ?bundle/s]"
      ]
     },
     "metadata": {},
     "output_type": "display_data"
    },
    {
     "name": "stdout",
     "output_type": "stream",
     "text": [
      "Epoch 025 • train=0.2959 • val=0.2872 • lr=4.12e-04\n"
     ]
    },
    {
     "data": {
      "application/vnd.jupyter.widget-view+json": {
       "model_id": "283431cc1eda4092b31277cdab0a6d83",
       "version_major": 2,
       "version_minor": 0
      },
      "text/plain": [
       "Epoch 26:   0%|          | 0/119 [00:00<?, ?bundle/s]"
      ]
     },
     "metadata": {},
     "output_type": "display_data"
    },
    {
     "name": "stdout",
     "output_type": "stream",
     "text": [
      "Epoch 026 • train=0.2956 • val=0.2877 • lr=4.05e-04\n"
     ]
    },
    {
     "data": {
      "application/vnd.jupyter.widget-view+json": {
       "model_id": "46bb7d7364834201abda3f5e7debabbf",
       "version_major": 2,
       "version_minor": 0
      },
      "text/plain": [
       "Epoch 27:   0%|          | 0/119 [00:00<?, ?bundle/s]"
      ]
     },
     "metadata": {},
     "output_type": "display_data"
    },
    {
     "name": "stdout",
     "output_type": "stream",
     "text": [
      "Epoch 027 • train=0.2953 • val=0.2867 • lr=3.98e-04\n"
     ]
    },
    {
     "data": {
      "application/vnd.jupyter.widget-view+json": {
       "model_id": "e71a3735a97a4d9c95a84dc6a858811d",
       "version_major": 2,
       "version_minor": 0
      },
      "text/plain": [
       "Epoch 28:   0%|          | 0/119 [00:00<?, ?bundle/s]"
      ]
     },
     "metadata": {},
     "output_type": "display_data"
    },
    {
     "name": "stdout",
     "output_type": "stream",
     "text": [
      "Epoch 028 • train=0.2952 • val=0.2872 • lr=3.91e-04\n"
     ]
    },
    {
     "data": {
      "application/vnd.jupyter.widget-view+json": {
       "model_id": "2b75626820744a85a3a12e3c8e18e7fd",
       "version_major": 2,
       "version_minor": 0
      },
      "text/plain": [
       "Epoch 29:   0%|          | 0/119 [00:00<?, ?bundle/s]"
      ]
     },
     "metadata": {},
     "output_type": "display_data"
    },
    {
     "name": "stdout",
     "output_type": "stream",
     "text": [
      "Epoch 029 • train=0.2959 • val=0.2878 • lr=3.84e-04\n"
     ]
    },
    {
     "data": {
      "application/vnd.jupyter.widget-view+json": {
       "model_id": "2482e7503c3340dc965fa3c759318468",
       "version_major": 2,
       "version_minor": 0
      },
      "text/plain": [
       "Epoch 30:   0%|          | 0/119 [00:00<?, ?bundle/s]"
      ]
     },
     "metadata": {},
     "output_type": "display_data"
    },
    {
     "name": "stdout",
     "output_type": "stream",
     "text": [
      "Epoch 030 • train=0.2972 • val=0.2877 • lr=3.76e-04\n",
      "Early stopping at epoch 30\n",
      "Saved final best model and training plot: AAPL_0.2861.pth\n",
      "\n",
      "Champion validation RMSE = 0.286060\n",
      "Improvement over zero‐baseline =  37.1%\n"
     ]
    },
    {
     "data": {
      "image/png": "[encoded data removed]",
      "text/plain": [
       "<Figure size 660x440 with 1 Axes>"
      ]
     },
     "metadata": {},
     "output_type": "display_data"
    }
   ],
   "source": [
    "\n",
    "# -----------------------------------------------------------------------------\n",
    "# Run the custom stateful training loop\n",
    "# -----------------------------------------------------------------------------\n",
    "best_val_rmse  = models.custom_stateful_training_loop(\n",
    "    model               = model,\n",
    "    optimizer           = optimizer,\n",
    "    cosine_sched        = cosine_sched,\n",
    "    plateau_sched       = plateau_sched,\n",
    "    scaler              = scaler,\n",
    "    train_loader        = train_loader,\n",
    "    val_loader          = val_loader,\n",
    "    max_epochs          = params.hparams['MAX_EPOCHS'],\n",
    "    early_stop_patience = params.hparams['EARLY_STOP_PATIENCE'],\n",
    "    baseline_val_rmse   = baseline_val_rmse,\n",
    "    clipnorm            = clipnorm,\n",
    "    device              = device\n",
    ")\n",
    "\n",
    "# -----------------------------------------------------------------------------\n",
    "# Final reporting: best RMSE and relative improvement\n",
    "# -----------------------------------------------------------------------------\n",
    "print(f\"\\nChampion validation RMSE = {best_val_rmse:.6f}\")\n",
    "\n",
    "improvement = 100.0 * (1.0 - best_val_rmse / baseline_val_rmse)\n",
    "print(f\"Improvement over zero‐baseline = {improvement:5.1f}%\")\n"
   ]
  },
  {
   "cell_type": "code",
   "execution_count": null,
   "id": "4c8660dd-d2db-434a-aa59-17814d343fbe",
   "metadata": {},
   "outputs": [],
   "source": []
  },
  {
   "cell_type": "code",
   "execution_count": null,
   "id": "138c3b45-e00a-4a85-860d-4f87b71cbbbc",
   "metadata": {},
   "outputs": [],
   "source": []
  }
 ],
 "metadata": {
  "kernelspec": {
   "display_name": "Python 3 (ipykernel)",
   "language": "python",
   "name": "python3"
  },
  "language_info": {
   "codemirror_mode": {
    "name": "ipython",
    "version": 3
   },
   "file_extension": ".py",
   "mimetype": "text/x-python",
   "name": "python",
   "nbconvert_exporter": "python",
   "pygments_lexer": "ipython3",
   "version": "3.12.3"
  }
 },
 "nbformat": 4,
 "nbformat_minor": 5
}
