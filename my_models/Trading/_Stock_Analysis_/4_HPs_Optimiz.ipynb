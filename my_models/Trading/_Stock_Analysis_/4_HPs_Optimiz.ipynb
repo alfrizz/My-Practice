{
 "cells": [
  {
   "cell_type": "code",
   "execution_count": 1,
   "id": "8d702d5b-d0fb-48ab-9a48-134bb847bab5",
   "metadata": {},
   "outputs": [],
   "source": [
    "# 1) Wipe out all Python variables\n",
    "%reset -f\n",
    "# 2) Force Python’s garbage collector to run\n",
    "import gc\n",
    "gc.collect()\n",
    "\n",
    "import importlib\n",
    "from libs import trades, plots, params, models\n",
    "importlib.reload(trades)\n",
    "importlib.reload(plots)\n",
    "importlib.reload(params)\n",
    "importlib.reload(models)\n",
    "\n",
    "import os\n",
    "import json\n",
    "import numpy as np\n",
    "import pandas as pd\n",
    "import datetime as dt\n",
    "from pathlib import Path\n",
    "import matplotlib.pyplot as plt\n",
    "\n",
    "import torch\n",
    "from torch import nn\n",
    "from torch.utils.data import DataLoader, TensorDataset\n",
    "from torch.optim import AdamW\n",
    "from torch.optim.lr_scheduler import ReduceLROnPlateau, CosineAnnealingWarmRestarts\n",
    "from torch.cuda.amp import GradScaler, autocast\n",
    "\n",
    "import optuna\n",
    "from optuna.pruners import MedianPruner\n",
    "from optuna.exceptions import TrialPruned\n",
    "from optuna.importance import get_param_importances\n",
    "\n",
    "from tqdm.auto import tqdm\n"
   ]
  },
  {
   "cell_type": "code",
   "execution_count": 2,
   "id": "a9498b30-9abb-4123-87f1-0ed191478e49",
   "metadata": {},
   "outputs": [
    {
     "name": "stdout",
     "output_type": "stream",
     "text": [
      "Using device: cuda\n"
     ]
    },
    {
     "data": {
      "text/html": [
       "<div>\n",
       "<style scoped>\n",
       "    .dataframe tbody tr th:only-of-type {\n",
       "        vertical-align: middle;\n",
       "    }\n",
       "\n",
       "    .dataframe tbody tr th {\n",
       "        vertical-align: top;\n",
       "    }\n",
       "\n",
       "    .dataframe thead th {\n",
       "        text-align: right;\n",
       "    }\n",
       "</style>\n",
       "<table border=\"1\" class=\"dataframe\">\n",
       "  <thead>\n",
       "    <tr style=\"text-align: right;\">\n",
       "      <th></th>\n",
       "      <th>open</th>\n",
       "      <th>high</th>\n",
       "      <th>low</th>\n",
       "      <th>close</th>\n",
       "      <th>atr_14</th>\n",
       "      <th>vwap_dev</th>\n",
       "      <th>ma_20</th>\n",
       "      <th>macd_12_26</th>\n",
       "      <th>obv</th>\n",
       "      <th>hour</th>\n",
       "      <th>month</th>\n",
       "      <th>bid</th>\n",
       "      <th>ask</th>\n",
       "      <th>signal_smooth</th>\n",
       "    </tr>\n",
       "  </thead>\n",
       "  <tbody>\n",
       "    <tr>\n",
       "      <th>2014-04-03 08:49:00</th>\n",
       "      <td>28.650</td>\n",
       "      <td>28.6500</td>\n",
       "      <td>28.650</td>\n",
       "      <td>28.6500</td>\n",
       "      <td>0.000000</td>\n",
       "      <td>1.240040e-16</td>\n",
       "      <td>28.650000</td>\n",
       "      <td>0.000000</td>\n",
       "      <td>0.000000e+00</td>\n",
       "      <td>8</td>\n",
       "      <td>4</td>\n",
       "      <td>28.641405</td>\n",
       "      <td>28.658595</td>\n",
       "      <td>0.219822</td>\n",
       "    </tr>\n",
       "    <tr>\n",
       "      <th>2014-04-03 08:50:00</th>\n",
       "      <td>28.650</td>\n",
       "      <td>28.6500</td>\n",
       "      <td>28.650</td>\n",
       "      <td>28.6500</td>\n",
       "      <td>0.000000</td>\n",
       "      <td>1.240040e-16</td>\n",
       "      <td>28.650000</td>\n",
       "      <td>0.000000</td>\n",
       "      <td>0.000000e+00</td>\n",
       "      <td>8</td>\n",
       "      <td>4</td>\n",
       "      <td>28.641405</td>\n",
       "      <td>28.658595</td>\n",
       "      <td>0.220376</td>\n",
       "    </tr>\n",
       "    <tr>\n",
       "      <th>2014-04-03 08:51:00</th>\n",
       "      <td>28.650</td>\n",
       "      <td>28.6500</td>\n",
       "      <td>28.650</td>\n",
       "      <td>28.6500</td>\n",
       "      <td>0.000000</td>\n",
       "      <td>1.240040e-16</td>\n",
       "      <td>28.650000</td>\n",
       "      <td>0.000000</td>\n",
       "      <td>0.000000e+00</td>\n",
       "      <td>8</td>\n",
       "      <td>4</td>\n",
       "      <td>28.641405</td>\n",
       "      <td>28.658595</td>\n",
       "      <td>0.220931</td>\n",
       "    </tr>\n",
       "    <tr>\n",
       "      <th>2014-04-03 08:52:00</th>\n",
       "      <td>28.650</td>\n",
       "      <td>28.6500</td>\n",
       "      <td>28.650</td>\n",
       "      <td>28.6500</td>\n",
       "      <td>0.000000</td>\n",
       "      <td>1.240040e-16</td>\n",
       "      <td>28.650000</td>\n",
       "      <td>0.000000</td>\n",
       "      <td>0.000000e+00</td>\n",
       "      <td>8</td>\n",
       "      <td>4</td>\n",
       "      <td>28.641405</td>\n",
       "      <td>28.658595</td>\n",
       "      <td>0.221487</td>\n",
       "    </tr>\n",
       "    <tr>\n",
       "      <th>2014-04-03 08:53:00</th>\n",
       "      <td>28.650</td>\n",
       "      <td>28.6500</td>\n",
       "      <td>28.650</td>\n",
       "      <td>28.6500</td>\n",
       "      <td>0.000000</td>\n",
       "      <td>1.240040e-16</td>\n",
       "      <td>28.650000</td>\n",
       "      <td>0.000000</td>\n",
       "      <td>0.000000e+00</td>\n",
       "      <td>8</td>\n",
       "      <td>4</td>\n",
       "      <td>28.641405</td>\n",
       "      <td>28.658595</td>\n",
       "      <td>0.222044</td>\n",
       "    </tr>\n",
       "    <tr>\n",
       "      <th>...</th>\n",
       "      <td>...</td>\n",
       "      <td>...</td>\n",
       "      <td>...</td>\n",
       "      <td>...</td>\n",
       "      <td>...</td>\n",
       "      <td>...</td>\n",
       "      <td>...</td>\n",
       "      <td>...</td>\n",
       "      <td>...</td>\n",
       "      <td>...</td>\n",
       "      <td>...</td>\n",
       "      <td>...</td>\n",
       "      <td>...</td>\n",
       "      <td>...</td>\n",
       "    </tr>\n",
       "    <tr>\n",
       "      <th>2025-06-18 20:56:00</th>\n",
       "      <td>173.375</td>\n",
       "      <td>173.6771</td>\n",
       "      <td>173.215</td>\n",
       "      <td>173.5650</td>\n",
       "      <td>0.304529</td>\n",
       "      <td>1.257638e+00</td>\n",
       "      <td>174.838390</td>\n",
       "      <td>-0.422065</td>\n",
       "      <td>4.758230e+08</td>\n",
       "      <td>20</td>\n",
       "      <td>6</td>\n",
       "      <td>173.512900</td>\n",
       "      <td>173.617100</td>\n",
       "      <td>0.002995</td>\n",
       "    </tr>\n",
       "    <tr>\n",
       "      <th>2025-06-18 20:57:00</th>\n",
       "      <td>173.565</td>\n",
       "      <td>173.5900</td>\n",
       "      <td>173.240</td>\n",
       "      <td>173.3800</td>\n",
       "      <td>0.317029</td>\n",
       "      <td>1.255215e+00</td>\n",
       "      <td>174.736890</td>\n",
       "      <td>-0.466939</td>\n",
       "      <td>4.751988e+08</td>\n",
       "      <td>20</td>\n",
       "      <td>6</td>\n",
       "      <td>173.328000</td>\n",
       "      <td>173.432000</td>\n",
       "      <td>0.002906</td>\n",
       "    </tr>\n",
       "    <tr>\n",
       "      <th>2025-06-18 20:58:00</th>\n",
       "      <td>173.390</td>\n",
       "      <td>173.4100</td>\n",
       "      <td>173.200</td>\n",
       "      <td>173.3100</td>\n",
       "      <td>0.323814</td>\n",
       "      <td>1.254293e+00</td>\n",
       "      <td>174.634390</td>\n",
       "      <td>-0.502359</td>\n",
       "      <td>4.747443e+08</td>\n",
       "      <td>20</td>\n",
       "      <td>6</td>\n",
       "      <td>173.258000</td>\n",
       "      <td>173.362000</td>\n",
       "      <td>0.005611</td>\n",
       "    </tr>\n",
       "    <tr>\n",
       "      <th>2025-06-18 20:59:00</th>\n",
       "      <td>173.315</td>\n",
       "      <td>173.4000</td>\n",
       "      <td>173.230</td>\n",
       "      <td>173.2800</td>\n",
       "      <td>0.322743</td>\n",
       "      <td>1.253874e+00</td>\n",
       "      <td>174.527890</td>\n",
       "      <td>-0.526778</td>\n",
       "      <td>4.736496e+08</td>\n",
       "      <td>20</td>\n",
       "      <td>6</td>\n",
       "      <td>173.228000</td>\n",
       "      <td>173.332000</td>\n",
       "      <td>0.006685</td>\n",
       "    </tr>\n",
       "    <tr>\n",
       "      <th>2025-06-18 21:00:00</th>\n",
       "      <td>173.300</td>\n",
       "      <td>174.0500</td>\n",
       "      <td>173.170</td>\n",
       "      <td>173.6097</td>\n",
       "      <td>0.374521</td>\n",
       "      <td>1.257962e+00</td>\n",
       "      <td>174.442375</td>\n",
       "      <td>-0.513606</td>\n",
       "      <td>4.812994e+08</td>\n",
       "      <td>21</td>\n",
       "      <td>6</td>\n",
       "      <td>173.557600</td>\n",
       "      <td>173.661800</td>\n",
       "      <td>0.003506</td>\n",
       "    </tr>\n",
       "  </tbody>\n",
       "</table>\n",
       "<p>2117801 rows × 14 columns</p>\n",
       "</div>"
      ],
      "text/plain": [
       "                        open      high      low     close    atr_14  \\\n",
       "2014-04-03 08:49:00   28.650   28.6500   28.650   28.6500  0.000000   \n",
       "2014-04-03 08:50:00   28.650   28.6500   28.650   28.6500  0.000000   \n",
       "2014-04-03 08:51:00   28.650   28.6500   28.650   28.6500  0.000000   \n",
       "2014-04-03 08:52:00   28.650   28.6500   28.650   28.6500  0.000000   \n",
       "2014-04-03 08:53:00   28.650   28.6500   28.650   28.6500  0.000000   \n",
       "...                      ...       ...      ...       ...       ...   \n",
       "2025-06-18 20:56:00  173.375  173.6771  173.215  173.5650  0.304529   \n",
       "2025-06-18 20:57:00  173.565  173.5900  173.240  173.3800  0.317029   \n",
       "2025-06-18 20:58:00  173.390  173.4100  173.200  173.3100  0.323814   \n",
       "2025-06-18 20:59:00  173.315  173.4000  173.230  173.2800  0.322743   \n",
       "2025-06-18 21:00:00  173.300  174.0500  173.170  173.6097  0.374521   \n",
       "\n",
       "                         vwap_dev       ma_20  macd_12_26           obv  hour  \\\n",
       "2014-04-03 08:49:00  1.240040e-16   28.650000    0.000000  0.000000e+00     8   \n",
       "2014-04-03 08:50:00  1.240040e-16   28.650000    0.000000  0.000000e+00     8   \n",
       "2014-04-03 08:51:00  1.240040e-16   28.650000    0.000000  0.000000e+00     8   \n",
       "2014-04-03 08:52:00  1.240040e-16   28.650000    0.000000  0.000000e+00     8   \n",
       "2014-04-03 08:53:00  1.240040e-16   28.650000    0.000000  0.000000e+00     8   \n",
       "...                           ...         ...         ...           ...   ...   \n",
       "2025-06-18 20:56:00  1.257638e+00  174.838390   -0.422065  4.758230e+08    20   \n",
       "2025-06-18 20:57:00  1.255215e+00  174.736890   -0.466939  4.751988e+08    20   \n",
       "2025-06-18 20:58:00  1.254293e+00  174.634390   -0.502359  4.747443e+08    20   \n",
       "2025-06-18 20:59:00  1.253874e+00  174.527890   -0.526778  4.736496e+08    20   \n",
       "2025-06-18 21:00:00  1.257962e+00  174.442375   -0.513606  4.812994e+08    21   \n",
       "\n",
       "                     month         bid         ask  signal_smooth  \n",
       "2014-04-03 08:49:00      4   28.641405   28.658595       0.219822  \n",
       "2014-04-03 08:50:00      4   28.641405   28.658595       0.220376  \n",
       "2014-04-03 08:51:00      4   28.641405   28.658595       0.220931  \n",
       "2014-04-03 08:52:00      4   28.641405   28.658595       0.221487  \n",
       "2014-04-03 08:53:00      4   28.641405   28.658595       0.222044  \n",
       "...                    ...         ...         ...            ...  \n",
       "2025-06-18 20:56:00      6  173.512900  173.617100       0.002995  \n",
       "2025-06-18 20:57:00      6  173.328000  173.432000       0.002906  \n",
       "2025-06-18 20:58:00      6  173.258000  173.362000       0.005611  \n",
       "2025-06-18 20:59:00      6  173.228000  173.332000       0.006685  \n",
       "2025-06-18 21:00:00      6  173.557600  173.661800       0.003506  \n",
       "\n",
       "[2117801 rows x 14 columns]"
      ]
     },
     "execution_count": 2,
     "metadata": {},
     "output_type": "execute_result"
    }
   ],
   "source": [
    "ticker         = params.ticker\n",
    "look_back      = params.look_back_tick\n",
    "features_cols  = params.features_cols\n",
    "label_col      = params.label_col\n",
    "\n",
    "save_path = params.save_path\n",
    "in_path   = save_path / f\"{ticker}_ready.csv\"\n",
    "out_path  = save_path / f\"{ticker}_final.csv\"\n",
    "\n",
    "# USE GPU if available, otherwise fallback to CPU\n",
    "device = params.device\n",
    "print(\"Using device:\", device)\n",
    "\n",
    "df_raw = pd.read_csv(in_path, index_col=0, parse_dates=True)\n",
    "df = models.feature_engineering(df_raw, features_cols, label_col)\n",
    "df.to_csv(out_path)\n",
    "df"
   ]
  },
  {
   "cell_type": "code",
   "execution_count": 3,
   "id": "e5463b8a-3346-40be-8079-9892d8c97b75",
   "metadata": {},
   "outputs": [
    {
     "name": "stdout",
     "output_type": "stream",
     "text": [
      "Shapes:\n",
      "  X         = torch.Size([1610201, 180, 11]) (samples, look_back, features)\n",
      "  y         = torch.Size([1610201]) (samples,)\n",
      "  raw_close = torch.Size([1610201])\n",
      "  raw_bid   = torch.Size([1610201])\n",
      "  raw_ask   = torch.Size([1610201])\n"
     ]
    }
   ],
   "source": [
    "# ──────────────────────────────────────────────────────────────────────────────\n",
    "# Build LSTM input tensors (disk-backed memmaps)\n",
    "#    Returns five tensors on `device`:\n",
    "#      X        : (N, look_back, F)\n",
    "#      y        : (N,)\n",
    "#      raw_close: (N,)\n",
    "#      raw_bid  : (N,)\n",
    "#      raw_ask  : (N,)\n",
    "# ──────────────────────────────────────────────────────────────────────────────\n",
    "X, y, raw_close, raw_bid, raw_ask = models.build_lstm_tensors(\n",
    "    df             = df,\n",
    "    look_back      = look_back,\n",
    "    features_cols  = params.features_cols,\n",
    "    label_col      = params.label_col,\n",
    "    regular_start  = params.regular_start_pred\n",
    ")\n",
    "\n",
    "print(\"Shapes:\")\n",
    "print(\"  X         =\", X.shape,    \"(samples, look_back, features)\")\n",
    "print(\"  y         =\", y.shape,    \"(samples,)\")\n",
    "print(\"  raw_close =\", raw_close.shape)\n",
    "print(\"  raw_bid   =\", raw_bid.shape)\n",
    "print(\"  raw_ask   =\", raw_ask.shape)"
   ]
  },
  {
   "cell_type": "code",
   "execution_count": 4,
   "id": "df3c973a-29f1-4c75-abc6-ebc8c2d27f92",
   "metadata": {},
   "outputs": [
    {
     "name": "stdout",
     "output_type": "stream",
     "text": [
      "Shapes:\n",
      "  X_tr        = torch.Size([1132845, 180, 11])\n",
      "  y_tr        = torch.Size([1132845])\n",
      "  raw_close_te= torch.Size([240962])\n",
      "  raw_bid_te  = torch.Size([240962])\n",
      "  raw_ask_te  = torch.Size([240962])\n"
     ]
    }
   ],
   "source": [
    "# ──────────────────────────────────────────────────────────────────────────────\n",
    "#    (We use the helper `chronological_split` that returns)\n",
    "#      (X_tr, y_tr),\n",
    "#      (X_val, y_val),\n",
    "#      (X_te, y_te, raw_close_te, raw_bid_te, raw_ask_te)\n",
    "# ──────────────────────────────────────────────────────────────────────────────\n",
    "(X_tr, y_tr), \\\n",
    "(X_val, y_val), \\\n",
    "(X_te, y_te, raw_close_te, raw_bid_te, raw_ask_te), \\\n",
    "samples_per_day, day_id_tr, day_id_val, day_id_te = models.chronological_split(\n",
    "    X, y, raw_close, raw_bid, raw_ask, df,\n",
    "    look_back       = look_back,\n",
    "    regular_start   = params.regular_start_pred,\n",
    "    train_prop      = params.train_prop,\n",
    "    val_prop        = params.val_prop,\n",
    "    train_batch     = params.hparams['TRAIN_BATCH']\n",
    ")\n",
    "\n",
    "print(\"Shapes:\")\n",
    "print(\"  X_tr        =\", X_tr.shape)\n",
    "print(\"  y_tr        =\", y_tr.shape)\n",
    "print(\"  raw_close_te=\", raw_close_te.shape)\n",
    "print(\"  raw_bid_te  =\", raw_bid_te.shape)\n",
    "print(\"  raw_ask_te  =\", raw_ask_te.shape)\n"
   ]
  },
  {
   "cell_type": "code",
   "execution_count": 5,
   "id": "6824f1a4-92dd-4952-80c6-db456d7907ef",
   "metadata": {},
   "outputs": [
    {
     "name": "stdout",
     "output_type": "stream",
     "text": [
      "▶️ Entered split_to_day_datasets\n",
      "1) building weekday arrays\n",
      "   Weekdays counts → tr=1132845, val=236394, te=240962\n",
      "2) moving all splits to CPU\n",
      "   CPU casts done\n",
      "3) zero-bas­ing day_id for val & test\n",
      "   val_day_id ∈ [0..413], total days=414\n",
      "   te_day_id  ∈ [0..421], total days=422\n",
      "4) instantiating DayWindowDatasets\n",
      "   ds_tr days: 1984\n",
      "   ds_val days: 414\n",
      "   ds_te days: 422\n",
      "5) building DataLoaders\n",
      "   train_loader ready\n",
      "   val_loader ready\n",
      "   test_loader ready\n",
      "\n",
      "Baseline (zero‐forecast) RMSE on validation = 0.518012\n"
     ]
    }
   ],
   "source": [
    "# -----------------------------------------------------------------------------\n",
    "#  Build DataLoaders over calendar‐days\n",
    "# -----------------------------------------------------------------------------\n",
    "train_loader, val_loader, test_loader = models.split_to_day_datasets(\n",
    "    # Training split arrays (from chronological_split)\n",
    "    X_tr, y_tr, day_id_tr,\n",
    "    # Validation split arrays\n",
    "    X_val, y_val, day_id_val,\n",
    "    # Test split arrays + raw prices for post‐tracking\n",
    "    X_te, y_te, day_id_te, raw_close_te, raw_bid_te, raw_ask_te,\n",
    "    # Original minute‐bar DataFrame for weekday mapping\n",
    "    df=df,\n",
    "    train_batch=params.hparams['TRAIN_BATCH'],\n",
    "    train_workers=params.hparams['NUM_WORKERS']\n",
    ")\n",
    "\n",
    "baseline_val_rmse = models.naive_rmse(val_loader)\n",
    "print(f\"\\nBaseline (zero‐forecast) RMSE on validation = {baseline_val_rmse:.6f}\")"
   ]
  },
  {
   "cell_type": "code",
   "execution_count": 6,
   "id": "fdb4612b-f5bb-4e4a-8784-6d5689de67c2",
   "metadata": {},
   "outputs": [],
   "source": [
    "# ──────────────────────────────────────────────────────────────────────────────\n",
    "# Optuna objective definition\n",
    "# ──────────────────────────────────────────────────────────────────────────────\n",
    "def objective_train(trial):\n",
    "\n",
    "    hp = {\n",
    "        # ── Architecture ───────────────────────────────────────────────\n",
    "        # explore a tight grid around current best dropouts:\n",
    "        \"DROPOUT_SHORT\": trial.suggest_float(\n",
    "            \"DROPOUT_SHORT\", 0.10, 0.25\n",
    "        ),\n",
    "        \"DROPOUT_LONG\": trial.suggest_float(\n",
    "            \"DROPOUT_LONG\", 0.25, 0.35\n",
    "        ),\n",
    "        \"ATT_DROPOUT\": trial.suggest_float(\n",
    "            \"ATT_DROPOUT\", 0.15, 0.25\n",
    "        ),\n",
    "    \n",
    "        # ── Optimizer & Scheduler ─────────────────────────────────────\n",
    "        \"INITIAL_LR\": trial.suggest_float(\n",
    "            \"INITIAL_LR\", 5e-4, 9e-4\n",
    "        ),\n",
    "        \"ETA_MIN\": trial.suggest_float(\n",
    "            \"ETA_MIN\", 9e-6, 3e-5\n",
    "        ),\n",
    "        \"WEIGHT_DECAY\": trial.suggest_float(\n",
    "            \"WEIGHT_DECAY\", 1e-5, 5e-5\n",
    "        ),\n",
    "    \n",
    "        \"CLIPNORM\": trial.suggest_float(\n",
    "            \"CLIPNORM\", 0.4, 1.6\n",
    "        )\n",
    "    }\n",
    "\n",
    "    print(f\"\\n▶ Trial {trial.number} starting with:\\n{hp}\\n\")\n",
    "\n",
    "    # Build model\n",
    "    model = models.DualMemoryLSTM(\n",
    "        n_feats       = len(params.features_cols),\n",
    "        short_units   = params.hparams[\"SHORT_UNITS\"],\n",
    "        long_units    = params.hparams[\"LONG_UNITS\"],\n",
    "        dropout_short = hp[\"DROPOUT_SHORT\"],\n",
    "        dropout_long  = hp[\"DROPOUT_LONG\"],\n",
    "        att_drop      = hp[\"ATT_DROPOUT\"],\n",
    "    ).to(device)\n",
    "\n",
    "    # Build optimizer + schedulers + scaler\n",
    "    optimizer, plateau_sched, _ , scaler, clipnorm = \\\n",
    "        models.make_optimizer_and_scheduler(\n",
    "            model            = model,\n",
    "            initial_lr       = hp[\"INITIAL_LR\"],\n",
    "            weight_decay     = hp[\"WEIGHT_DECAY\"],\n",
    "            clipnorm         = hp[\"CLIPNORM\"]\n",
    "        )\n",
    "\n",
    "    cosine_sched = CosineAnnealingWarmRestarts(\n",
    "        optimizer, \n",
    "        T_0=params.hparams['T_0'], \n",
    "        T_mult=params.hparams['T_MULT'], \n",
    "        eta_min=hp['ETA_MIN']\n",
    "    )\n",
    "\n",
    "    # Run training & return best validation RMSE\n",
    "    best_rmse = models.custom_stateful_training_loop(\n",
    "        model               = model,\n",
    "        optimizer           = optimizer,\n",
    "        cosine_sched        = cosine_sched,\n",
    "        plateau_sched       = plateau_sched,\n",
    "        scaler              = scaler,\n",
    "        train_loader        = train_loader,\n",
    "        val_loader          = val_loader,\n",
    "        max_epochs          = params.hparams[\"MAX_EPOCHS\"],\n",
    "        early_stop_patience = params.hparams[\"EARLY_STOP_PATIENCE\"],\n",
    "        baseline_val_rmse   = baseline_val_rmse,\n",
    "        clipnorm            = clipnorm,\n",
    "        device              = device,\n",
    "    )\n",
    "\n",
    "    del model\n",
    "    del optimizer\n",
    "    del plateau_sched\n",
    "    del cosine_sched\n",
    "    del scaler\n",
    "\n",
    "    gc.collect()\n",
    "    if torch.cuda.is_available():\n",
    "        torch.cuda.empty_cache()\n",
    "    \n",
    "    return best_rmse\n",
    "\n"
   ]
  },
  {
   "cell_type": "code",
   "execution_count": 7,
   "id": "1ce185de-1d62-49f9-9a96-00385e813521",
   "metadata": {},
   "outputs": [
    {
     "data": {
      "image/png": "[encoded data removed]",
      "text/plain": [
       "<Figure size 700x300 with 1 Axes>"
      ]
     },
     "metadata": {},
     "output_type": "display_data"
    }
   ],
   "source": [
    "# ----------------------------------------------------------\n",
    "# create ONE figure\n",
    "# ----------------------------------------------------------\n",
    "# build blank figure & line\n",
    "fig, ax = plt.subplots(figsize=(7,3))\n",
    "line, = ax.plot([], [], \"bo-\")\n",
    "ax.set(xlabel=\"Trial #\", ylabel=\"Objective\",\n",
    "       title=\"Optuna optimization progress\")\n",
    "ax.grid(True)\n",
    "\n",
    "# display once and grab the handle\n",
    "handle = display(fig, display_id=True)\n",
    "plt.close(fig)\n",
    "\n",
    "# ask plots.py for a callback bound to these objects\n",
    "live_cb = plots.make_live_plot_callback(fig, ax, line, handle)"
   ]
  },
  {
   "cell_type": "code",
   "execution_count": null,
   "id": "7658050b-a604-4331-ac64-72b2c7fd3689",
   "metadata": {},
   "outputs": [
    {
     "name": "stderr",
     "output_type": "stream",
     "text": [
      "[I 2025-07-31 15:57:04,425] A new study created in RDB with name: no-name-6c4c01da-0e9e-4b6b-be80-49d5224353cf\n"
     ]
    },
    {
     "name": "stdout",
     "output_type": "stream",
     "text": [
      "\n",
      "▶ Trial 0 starting with:\n",
      "{'DROPOUT_SHORT': 0.13236220250652136, 'DROPOUT_LONG': 0.27138024020199897, 'ATT_DROPOUT': 0.21445040409842725, 'INITIAL_LR': 0.0005341024139285, 'ETA_MIN': 2.7657776645318413e-05, 'WEIGHT_DECAY': 2.4797254251900532e-05, 'CLIPNORM': 1.248177436032159}\n",
      "\n"
     ]
    },
    {
     "data": {
      "image/png": "[encoded data removed]",
      "text/plain": [
       "<Figure size 660x440 with 1 Axes>"
      ]
     },
     "metadata": {},
     "output_type": "display_data"
    },
    {
     "data": {
      "application/vnd.jupyter.widget-view+json": {
       "model_id": "8bda19c846b743849e1daf1ff8727be9",
       "version_major": 2,
       "version_minor": 0
      },
      "text/plain": [
       "Epoch 1:   0%|          | 0/62 [00:00<?, ?bundle/s]"
      ]
     },
     "metadata": {},
     "output_type": "display_data"
    },
    {
     "name": "stdout",
     "output_type": "stream",
     "text": [
      "Epoch 001 • train=0.2865 • val=0.2534 • lr=5.34e-04\n"
     ]
    },
    {
     "data": {
      "application/vnd.jupyter.widget-view+json": {
       "model_id": "ca703a2feda644c19be78d018553a32b",
       "version_major": 2,
       "version_minor": 0
      },
      "text/plain": [
       "Epoch 2:   0%|          | 0/62 [00:00<?, ?bundle/s]"
      ]
     },
     "metadata": {},
     "output_type": "display_data"
    },
    {
     "name": "stdout",
     "output_type": "stream",
     "text": [
      "Epoch 002 • train=0.2168 • val=0.2757 • lr=5.33e-04\n"
     ]
    },
    {
     "data": {
      "application/vnd.jupyter.widget-view+json": {
       "model_id": "163339413c904ddda92ec269ded7e7d2",
       "version_major": 2,
       "version_minor": 0
      },
      "text/plain": [
       "Epoch 3:   0%|          | 0/62 [00:00<?, ?bundle/s]"
      ]
     },
     "metadata": {},
     "output_type": "display_data"
    },
    {
     "name": "stdout",
     "output_type": "stream",
     "text": [
      "Epoch 003 • train=0.2173 • val=0.2675 • lr=5.31e-04\n"
     ]
    },
    {
     "data": {
      "application/vnd.jupyter.widget-view+json": {
       "model_id": "040328cd08444d8cbbf012758ca55253",
       "version_major": 2,
       "version_minor": 0
      },
      "text/plain": [
       "Epoch 4:   0%|          | 0/62 [00:00<?, ?bundle/s]"
      ]
     },
     "metadata": {},
     "output_type": "display_data"
    },
    {
     "name": "stdout",
     "output_type": "stream",
     "text": [
      "Epoch 004 • train=0.2215 • val=0.2715 • lr=5.29e-04\n"
     ]
    },
    {
     "data": {
      "application/vnd.jupyter.widget-view+json": {
       "model_id": "fe669cbd828e45e7bf23ab5766c8702c",
       "version_major": 2,
       "version_minor": 0
      },
      "text/plain": [
       "Epoch 5:   0%|          | 0/62 [00:00<?, ?bundle/s]"
      ]
     },
     "metadata": {},
     "output_type": "display_data"
    },
    {
     "name": "stdout",
     "output_type": "stream",
     "text": [
      "Epoch 005 • train=0.2217 • val=0.2710 • lr=5.26e-04\n"
     ]
    },
    {
     "data": {
      "application/vnd.jupyter.widget-view+json": {
       "model_id": "cab68d8508024c93b75855f66d31b012",
       "version_major": 2,
       "version_minor": 0
      },
      "text/plain": [
       "Epoch 6:   0%|          | 0/62 [00:00<?, ?bundle/s]"
      ]
     },
     "metadata": {},
     "output_type": "display_data"
    },
    {
     "name": "stdout",
     "output_type": "stream",
     "text": [
      "Epoch 006 • train=0.2229 • val=0.2664 • lr=5.22e-04\n"
     ]
    },
    {
     "data": {
      "application/vnd.jupyter.widget-view+json": {
       "model_id": "28b8a80ea98441cc8536b623c734b2f1",
       "version_major": 2,
       "version_minor": 0
      },
      "text/plain": [
       "Epoch 7:   0%|          | 0/62 [00:00<?, ?bundle/s]"
      ]
     },
     "metadata": {},
     "output_type": "display_data"
    },
    {
     "name": "stdout",
     "output_type": "stream",
     "text": [
      "Epoch 007 • train=0.2333 • val=0.2732 • lr=5.17e-04\n"
     ]
    },
    {
     "data": {
      "application/vnd.jupyter.widget-view+json": {
       "model_id": "8d1042a4cc264e6e87bcab978c8688a6",
       "version_major": 2,
       "version_minor": 0
      },
      "text/plain": [
       "Epoch 8:   0%|          | 0/62 [00:00<?, ?bundle/s]"
      ]
     },
     "metadata": {},
     "output_type": "display_data"
    },
    {
     "name": "stdout",
     "output_type": "stream",
     "text": [
      "Epoch 008 • train=0.2356 • val=0.2668 • lr=5.12e-04\n"
     ]
    },
    {
     "data": {
      "application/vnd.jupyter.widget-view+json": {
       "model_id": "4d01722d423243239943c1adeba13dec",
       "version_major": 2,
       "version_minor": 0
      },
      "text/plain": [
       "Epoch 9:   0%|          | 0/62 [00:00<?, ?bundle/s]"
      ]
     },
     "metadata": {},
     "output_type": "display_data"
    },
    {
     "name": "stdout",
     "output_type": "stream",
     "text": [
      "Epoch 009 • train=0.2503 • val=0.2684 • lr=5.07e-04\n"
     ]
    },
    {
     "data": {
      "application/vnd.jupyter.widget-view+json": {
       "model_id": "95deb7fc32eb4526bf4f1b40ff07f94a",
       "version_major": 2,
       "version_minor": 0
      },
      "text/plain": [
       "Epoch 10:   0%|          | 0/62 [00:00<?, ?bundle/s]"
      ]
     },
     "metadata": {},
     "output_type": "display_data"
    },
    {
     "name": "stdout",
     "output_type": "stream",
     "text": [
      "Epoch 010 • train=0.2340 • val=0.2708 • lr=5.00e-04\n"
     ]
    },
    {
     "data": {
      "application/vnd.jupyter.widget-view+json": {
       "model_id": "de78e0ef2aa44a44855925152b5a39a5",
       "version_major": 2,
       "version_minor": 0
      },
      "text/plain": [
       "Epoch 11:   0%|          | 0/62 [00:00<?, ?bundle/s]"
      ]
     },
     "metadata": {},
     "output_type": "display_data"
    },
    {
     "name": "stdout",
     "output_type": "stream",
     "text": [
      "Epoch 011 • train=0.2355 • val=0.2595 • lr=4.93e-04\n",
      "Early stopping at epoch 11\n"
     ]
    },
    {
     "name": "stderr",
     "output_type": "stream",
     "text": [
      "[I 2025-07-31 16:07:45,857] Trial 0 finished with value: 0.2533660665408716 and parameters: {'DROPOUT_SHORT': 0.13236220250652136, 'DROPOUT_LONG': 0.27138024020199897, 'ATT_DROPOUT': 0.21445040409842725, 'INITIAL_LR': 0.0005341024139285, 'ETA_MIN': 2.7657776645318413e-05, 'WEIGHT_DECAY': 2.4797254251900532e-05, 'CLIPNORM': 1.248177436032159}. Best is trial 0 with value: 0.2533660665408716.\n"
     ]
    },
    {
     "name": "stdout",
     "output_type": "stream",
     "text": [
      "\n",
      "▶ Trial 1 starting with:\n",
      "{'DROPOUT_SHORT': 0.24096663452150185, 'DROPOUT_LONG': 0.2704177425120011, 'ATT_DROPOUT': 0.15413149855667818, 'INITIAL_LR': 0.0006619968832572976, 'ETA_MIN': 1.1391892309078446e-05, 'WEIGHT_DECAY': 2.7164414666544428e-05, 'CLIPNORM': 0.9537569368316448}\n",
      "\n"
     ]
    },
    {
     "data": {
      "image/png": "[encoded data removed]",
      "text/plain": [
       "<Figure size 660x440 with 1 Axes>"
      ]
     },
     "metadata": {},
     "output_type": "display_data"
    },
    {
     "data": {
      "application/vnd.jupyter.widget-view+json": {
       "model_id": "fe421fc986a14e0c8cceefdcbe3ecca8",
       "version_major": 2,
       "version_minor": 0
      },
      "text/plain": [
       "Epoch 1:   0%|          | 0/62 [00:00<?, ?bundle/s]"
      ]
     },
     "metadata": {},
     "output_type": "display_data"
    },
    {
     "name": "stdout",
     "output_type": "stream",
     "text": [
      "Epoch 001 • train=0.2739 • val=0.2588 • lr=6.62e-04\n"
     ]
    },
    {
     "data": {
      "application/vnd.jupyter.widget-view+json": {
       "model_id": "f1a0be95f06c4fcbb22cc8188f3c22d6",
       "version_major": 2,
       "version_minor": 0
      },
      "text/plain": [
       "Epoch 2:   0%|          | 0/62 [00:00<?, ?bundle/s]"
      ]
     },
     "metadata": {},
     "output_type": "display_data"
    },
    {
     "name": "stdout",
     "output_type": "stream",
     "text": [
      "Epoch 002 • train=0.2302 • val=0.2711 • lr=6.60e-04\n"
     ]
    },
    {
     "data": {
      "application/vnd.jupyter.widget-view+json": {
       "model_id": "8c78b65cc007466e8f0815b343dcd328",
       "version_major": 2,
       "version_minor": 0
      },
      "text/plain": [
       "Epoch 3:   0%|          | 0/62 [00:00<?, ?bundle/s]"
      ]
     },
     "metadata": {},
     "output_type": "display_data"
    },
    {
     "name": "stdout",
     "output_type": "stream",
     "text": [
      "Epoch 003 • train=0.2130 • val=0.2598 • lr=6.58e-04\n"
     ]
    },
    {
     "data": {
      "application/vnd.jupyter.widget-view+json": {
       "model_id": "90dfb318c18a48b1847124f71b23f21c",
       "version_major": 2,
       "version_minor": 0
      },
      "text/plain": [
       "Epoch 4:   0%|          | 0/62 [00:00<?, ?bundle/s]"
      ]
     },
     "metadata": {},
     "output_type": "display_data"
    },
    {
     "name": "stdout",
     "output_type": "stream",
     "text": [
      "Epoch 004 • train=0.2127 • val=0.2565 • lr=6.55e-04\n"
     ]
    },
    {
     "data": {
      "application/vnd.jupyter.widget-view+json": {
       "model_id": "ecaf0cb4b30344a8976b85f6f7271f74",
       "version_major": 2,
       "version_minor": 0
      },
      "text/plain": [
       "Epoch 5:   0%|          | 0/62 [00:00<?, ?bundle/s]"
      ]
     },
     "metadata": {},
     "output_type": "display_data"
    },
    {
     "name": "stdout",
     "output_type": "stream",
     "text": [
      "Epoch 005 • train=0.2218 • val=0.2571 • lr=6.51e-04\n"
     ]
    },
    {
     "data": {
      "application/vnd.jupyter.widget-view+json": {
       "model_id": "df5fdee15f8844e0b065d13c29e3a250",
       "version_major": 2,
       "version_minor": 0
      },
      "text/plain": [
       "Epoch 6:   0%|          | 0/62 [00:00<?, ?bundle/s]"
      ]
     },
     "metadata": {},
     "output_type": "display_data"
    },
    {
     "name": "stdout",
     "output_type": "stream",
     "text": [
      "Epoch 006 • train=0.2315 • val=0.2560 • lr=6.46e-04\n"
     ]
    },
    {
     "data": {
      "application/vnd.jupyter.widget-view+json": {
       "model_id": "aad801af9d454cb28dee457bb9266c8c",
       "version_major": 2,
       "version_minor": 0
      },
      "text/plain": [
       "Epoch 7:   0%|          | 0/62 [00:00<?, ?bundle/s]"
      ]
     },
     "metadata": {},
     "output_type": "display_data"
    },
    {
     "name": "stdout",
     "output_type": "stream",
     "text": [
      "Epoch 007 • train=0.2310 • val=0.2557 • lr=6.40e-04\n"
     ]
    },
    {
     "data": {
      "application/vnd.jupyter.widget-view+json": {
       "model_id": "39c3aa9d35294783af33d277b1ee0fe4",
       "version_major": 2,
       "version_minor": 0
      },
      "text/plain": [
       "Epoch 8:   0%|          | 0/62 [00:00<?, ?bundle/s]"
      ]
     },
     "metadata": {},
     "output_type": "display_data"
    },
    {
     "name": "stdout",
     "output_type": "stream",
     "text": [
      "Epoch 008 • train=0.2344 • val=0.2574 • lr=6.34e-04\n"
     ]
    },
    {
     "data": {
      "application/vnd.jupyter.widget-view+json": {
       "model_id": "14513300e4ef44949243518cb12f21c8",
       "version_major": 2,
       "version_minor": 0
      },
      "text/plain": [
       "Epoch 9:   0%|          | 0/62 [00:00<?, ?bundle/s]"
      ]
     },
     "metadata": {},
     "output_type": "display_data"
    },
    {
     "name": "stdout",
     "output_type": "stream",
     "text": [
      "Epoch 009 • train=0.2398 • val=0.2563 • lr=6.27e-04\n"
     ]
    },
    {
     "data": {
      "application/vnd.jupyter.widget-view+json": {
       "model_id": "9a03cba4a4ad46b6bf82e2d1ef5acc96",
       "version_major": 2,
       "version_minor": 0
      },
      "text/plain": [
       "Epoch 10:   0%|          | 0/62 [00:00<?, ?bundle/s]"
      ]
     },
     "metadata": {},
     "output_type": "display_data"
    },
    {
     "name": "stdout",
     "output_type": "stream",
     "text": [
      "Epoch 010 • train=0.2326 • val=0.2663 • lr=6.19e-04\n"
     ]
    },
    {
     "data": {
      "application/vnd.jupyter.widget-view+json": {
       "model_id": "474a53a3cae743fb97fe3ce2fc34e76e",
       "version_major": 2,
       "version_minor": 0
      },
      "text/plain": [
       "Epoch 11:   0%|          | 0/62 [00:00<?, ?bundle/s]"
      ]
     },
     "metadata": {},
     "output_type": "display_data"
    },
    {
     "name": "stdout",
     "output_type": "stream",
     "text": [
      "Epoch 011 • train=0.2355 • val=0.2591 • lr=6.10e-04\n"
     ]
    },
    {
     "data": {
      "application/vnd.jupyter.widget-view+json": {
       "model_id": "9bd7ab67e96d4f6191110b59be558818",
       "version_major": 2,
       "version_minor": 0
      },
      "text/plain": [
       "Epoch 12:   0%|          | 0/62 [00:00<?, ?bundle/s]"
      ]
     },
     "metadata": {},
     "output_type": "display_data"
    },
    {
     "name": "stdout",
     "output_type": "stream",
     "text": [
      "Epoch 012 • train=0.2505 • val=0.2725 • lr=6.00e-04\n"
     ]
    },
    {
     "data": {
      "application/vnd.jupyter.widget-view+json": {
       "model_id": "fa0c7742a8714dc2b7a29ede980f07e6",
       "version_major": 2,
       "version_minor": 0
      },
      "text/plain": [
       "Epoch 13:   0%|          | 0/62 [00:00<?, ?bundle/s]"
      ]
     },
     "metadata": {},
     "output_type": "display_data"
    },
    {
     "name": "stdout",
     "output_type": "stream",
     "text": [
      "Epoch 013 • train=0.2335 • val=0.2565 • lr=5.90e-04\n"
     ]
    },
    {
     "data": {
      "application/vnd.jupyter.widget-view+json": {
       "model_id": "0c10e1ee13964afca94cc88ca1bd0956",
       "version_major": 2,
       "version_minor": 0
      },
      "text/plain": [
       "Epoch 14:   0%|          | 0/62 [00:00<?, ?bundle/s]"
      ]
     },
     "metadata": {},
     "output_type": "display_data"
    },
    {
     "name": "stdout",
     "output_type": "stream",
     "text": [
      "Epoch 014 • train=0.2310 • val=0.2693 • lr=5.79e-04\n"
     ]
    },
    {
     "data": {
      "application/vnd.jupyter.widget-view+json": {
       "model_id": "210e6e17fb404a9a920ef010d6c84351",
       "version_major": 2,
       "version_minor": 0
      },
      "text/plain": [
       "Epoch 15:   0%|          | 0/62 [00:00<?, ?bundle/s]"
      ]
     },
     "metadata": {},
     "output_type": "display_data"
    },
    {
     "name": "stdout",
     "output_type": "stream",
     "text": [
      "Epoch 015 • train=0.2310 • val=0.2605 • lr=5.67e-04\n"
     ]
    },
    {
     "data": {
      "application/vnd.jupyter.widget-view+json": {
       "model_id": "a971a41f6e3b4421bff44ff130ddaf27",
       "version_major": 2,
       "version_minor": 0
      },
      "text/plain": [
       "Epoch 16:   0%|          | 0/62 [00:00<?, ?bundle/s]"
      ]
     },
     "metadata": {},
     "output_type": "display_data"
    },
    {
     "name": "stdout",
     "output_type": "stream",
     "text": [
      "Epoch 016 • train=0.2310 • val=0.2546 • lr=5.55e-04\n"
     ]
    },
    {
     "data": {
      "application/vnd.jupyter.widget-view+json": {
       "model_id": "7a08fbcd0560423391ac89624fec10b1",
       "version_major": 2,
       "version_minor": 0
      },
      "text/plain": [
       "Epoch 17:   0%|          | 0/62 [00:00<?, ?bundle/s]"
      ]
     },
     "metadata": {},
     "output_type": "display_data"
    },
    {
     "name": "stdout",
     "output_type": "stream",
     "text": [
      "Epoch 017 • train=0.2313 • val=0.2536 • lr=5.42e-04\n"
     ]
    },
    {
     "data": {
      "application/vnd.jupyter.widget-view+json": {
       "model_id": "554142629a874cc98b3927abb0fe0e0b",
       "version_major": 2,
       "version_minor": 0
      },
      "text/plain": [
       "Epoch 18:   0%|          | 0/62 [00:00<?, ?bundle/s]"
      ]
     },
     "metadata": {},
     "output_type": "display_data"
    },
    {
     "name": "stdout",
     "output_type": "stream",
     "text": [
      "Epoch 018 • train=0.2360 • val=0.2554 • lr=5.28e-04\n"
     ]
    },
    {
     "data": {
      "application/vnd.jupyter.widget-view+json": {
       "model_id": "a59cd37eb0544d23af06fa8118f0c922",
       "version_major": 2,
       "version_minor": 0
      },
      "text/plain": [
       "Epoch 19:   0%|          | 0/62 [00:00<?, ?bundle/s]"
      ]
     },
     "metadata": {},
     "output_type": "display_data"
    },
    {
     "name": "stdout",
     "output_type": "stream",
     "text": [
      "Epoch 019 • train=0.2368 • val=0.2545 • lr=5.14e-04\n"
     ]
    },
    {
     "data": {
      "application/vnd.jupyter.widget-view+json": {
       "model_id": "e0da3d8d9775482d88fa3bf7cb583ec9",
       "version_major": 2,
       "version_minor": 0
      },
      "text/plain": [
       "Epoch 20:   0%|          | 0/62 [00:00<?, ?bundle/s]"
      ]
     },
     "metadata": {},
     "output_type": "display_data"
    },
    {
     "name": "stdout",
     "output_type": "stream",
     "text": [
      "Epoch 020 • train=0.2393 • val=0.2525 • lr=5.00e-04\n"
     ]
    },
    {
     "data": {
      "application/vnd.jupyter.widget-view+json": {
       "model_id": "78693c32af6349baa1499ca1320e4faa",
       "version_major": 2,
       "version_minor": 0
      },
      "text/plain": [
       "Epoch 21:   0%|          | 0/62 [00:00<?, ?bundle/s]"
      ]
     },
     "metadata": {},
     "output_type": "display_data"
    },
    {
     "name": "stdout",
     "output_type": "stream",
     "text": [
      "Epoch 021 • train=0.2426 • val=0.2507 • lr=4.85e-04\n"
     ]
    },
    {
     "data": {
      "application/vnd.jupyter.widget-view+json": {
       "model_id": "05c0d61774764ef1b2611e0fd5730de1",
       "version_major": 2,
       "version_minor": 0
      },
      "text/plain": [
       "Epoch 22:   0%|          | 0/62 [00:00<?, ?bundle/s]"
      ]
     },
     "metadata": {},
     "output_type": "display_data"
    },
    {
     "name": "stdout",
     "output_type": "stream",
     "text": [
      "Epoch 022 • train=0.2359 • val=0.2550 • lr=4.69e-04\n"
     ]
    },
    {
     "data": {
      "application/vnd.jupyter.widget-view+json": {
       "model_id": "acd132d8d427429989b78bf48d0b6e7e",
       "version_major": 2,
       "version_minor": 0
      },
      "text/plain": [
       "Epoch 23:   0%|          | 0/62 [00:00<?, ?bundle/s]"
      ]
     },
     "metadata": {},
     "output_type": "display_data"
    },
    {
     "name": "stdout",
     "output_type": "stream",
     "text": [
      "Epoch 023 • train=0.2375 • val=0.2500 • lr=4.54e-04\n"
     ]
    },
    {
     "data": {
      "application/vnd.jupyter.widget-view+json": {
       "model_id": "0bac3acd1a1e495a8517f0dc06542174",
       "version_major": 2,
       "version_minor": 0
      },
      "text/plain": [
       "Epoch 24:   0%|          | 0/62 [00:00<?, ?bundle/s]"
      ]
     },
     "metadata": {},
     "output_type": "display_data"
    },
    {
     "name": "stdout",
     "output_type": "stream",
     "text": [
      "Epoch 024 • train=0.2415 • val=0.2529 • lr=4.37e-04\n"
     ]
    },
    {
     "data": {
      "application/vnd.jupyter.widget-view+json": {
       "model_id": "37d68f67da7c4be6b4f88f382a13cdc8",
       "version_major": 2,
       "version_minor": 0
      },
      "text/plain": [
       "Epoch 25:   0%|          | 0/62 [00:00<?, ?bundle/s]"
      ]
     },
     "metadata": {},
     "output_type": "display_data"
    },
    {
     "name": "stdout",
     "output_type": "stream",
     "text": [
      "Epoch 025 • train=0.2367 • val=0.2508 • lr=4.21e-04\n"
     ]
    },
    {
     "data": {
      "application/vnd.jupyter.widget-view+json": {
       "model_id": "97a2067ea61945af8a2431e387ee6787",
       "version_major": 2,
       "version_minor": 0
      },
      "text/plain": [
       "Epoch 26:   0%|          | 0/62 [00:00<?, ?bundle/s]"
      ]
     },
     "metadata": {},
     "output_type": "display_data"
    },
    {
     "name": "stdout",
     "output_type": "stream",
     "text": [
      "Epoch 026 • train=0.2357 • val=0.2515 • lr=4.05e-04\n"
     ]
    },
    {
     "data": {
      "application/vnd.jupyter.widget-view+json": {
       "model_id": "b4794855efbd404198293a06739de13e",
       "version_major": 2,
       "version_minor": 0
      },
      "text/plain": [
       "Epoch 27:   0%|          | 0/62 [00:00<?, ?bundle/s]"
      ]
     },
     "metadata": {},
     "output_type": "display_data"
    },
    {
     "name": "stdout",
     "output_type": "stream",
     "text": [
      "Epoch 027 • train=0.2348 • val=0.2546 • lr=3.88e-04\n"
     ]
    },
    {
     "data": {
      "application/vnd.jupyter.widget-view+json": {
       "model_id": "0a0e3fc0714d486bac70aea6ee59afef",
       "version_major": 2,
       "version_minor": 0
      },
      "text/plain": [
       "Epoch 28:   0%|          | 0/62 [00:00<?, ?bundle/s]"
      ]
     },
     "metadata": {},
     "output_type": "display_data"
    },
    {
     "name": "stdout",
     "output_type": "stream",
     "text": [
      "Epoch 028 • train=0.2388 • val=0.2566 • lr=3.71e-04\n"
     ]
    },
    {
     "data": {
      "application/vnd.jupyter.widget-view+json": {
       "model_id": "aa3a5823a5fe40689719beaa0c941872",
       "version_major": 2,
       "version_minor": 0
      },
      "text/plain": [
       "Epoch 29:   0%|          | 0/62 [00:00<?, ?bundle/s]"
      ]
     },
     "metadata": {},
     "output_type": "display_data"
    },
    {
     "name": "stdout",
     "output_type": "stream",
     "text": [
      "Epoch 029 • train=0.2397 • val=0.2537 • lr=3.54e-04\n"
     ]
    },
    {
     "data": {
      "application/vnd.jupyter.widget-view+json": {
       "model_id": "8f78309c38f346209fabd416b7b891fc",
       "version_major": 2,
       "version_minor": 0
      },
      "text/plain": [
       "Epoch 30:   0%|          | 0/62 [00:00<?, ?bundle/s]"
      ]
     },
     "metadata": {},
     "output_type": "display_data"
    },
    {
     "name": "stdout",
     "output_type": "stream",
     "text": [
      "Epoch 030 • train=0.2369 • val=0.2547 • lr=3.37e-04\n"
     ]
    },
    {
     "data": {
      "application/vnd.jupyter.widget-view+json": {
       "model_id": "8ee7a73c98664b3285f295fcb5d156d8",
       "version_major": 2,
       "version_minor": 0
      },
      "text/plain": [
       "Epoch 31:   0%|          | 0/62 [00:00<?, ?bundle/s]"
      ]
     },
     "metadata": {},
     "output_type": "display_data"
    },
    {
     "name": "stdout",
     "output_type": "stream",
     "text": [
      "Epoch 031 • train=0.2328 • val=0.2550 • lr=3.20e-04\n"
     ]
    },
    {
     "data": {
      "application/vnd.jupyter.widget-view+json": {
       "model_id": "e04743d075d349139f259db232238e7c",
       "version_major": 2,
       "version_minor": 0
      },
      "text/plain": [
       "Epoch 32:   0%|          | 0/62 [00:00<?, ?bundle/s]"
      ]
     },
     "metadata": {},
     "output_type": "display_data"
    },
    {
     "name": "stdout",
     "output_type": "stream",
     "text": [
      "Epoch 032 • train=0.2304 • val=0.2571 • lr=3.03e-04\n"
     ]
    },
    {
     "data": {
      "application/vnd.jupyter.widget-view+json": {
       "model_id": "d3a11bf70cfd4a4ab484f7e4550a771e",
       "version_major": 2,
       "version_minor": 0
      },
      "text/plain": [
       "Epoch 33:   0%|          | 0/62 [00:00<?, ?bundle/s]"
      ]
     },
     "metadata": {},
     "output_type": "display_data"
    },
    {
     "name": "stdout",
     "output_type": "stream",
     "text": [
      "Epoch 033 • train=0.2271 • val=0.2593 • lr=2.86e-04\n",
      "Early stopping at epoch 33\n"
     ]
    },
    {
     "name": "stderr",
     "output_type": "stream",
     "text": [
      "[I 2025-07-31 16:40:36,310] Trial 1 finished with value: 0.24998938921714758 and parameters: {'DROPOUT_SHORT': 0.24096663452150185, 'DROPOUT_LONG': 0.2704177425120011, 'ATT_DROPOUT': 0.15413149855667818, 'INITIAL_LR': 0.0006619968832572976, 'ETA_MIN': 1.1391892309078446e-05, 'WEIGHT_DECAY': 2.7164414666544428e-05, 'CLIPNORM': 0.9537569368316448}. Best is trial 1 with value: 0.24998938921714758.\n"
     ]
    },
    {
     "name": "stdout",
     "output_type": "stream",
     "text": [
      "\n",
      "▶ Trial 2 starting with:\n",
      "{'DROPOUT_SHORT': 0.20220197053219124, 'DROPOUT_LONG': 0.2648276374641907, 'ATT_DROPOUT': 0.20138669838473539, 'INITIAL_LR': 0.0008639548663271109, 'ETA_MIN': 1.7381419617411285e-05, 'WEIGHT_DECAY': 2.698238293467571e-05, 'CLIPNORM': 0.5514965816665427}\n",
      "\n"
     ]
    },
    {
     "data": {
      "image/png": "[encoded data removed]",
      "text/plain": [
       "<Figure size 660x440 with 1 Axes>"
      ]
     },
     "metadata": {},
     "output_type": "display_data"
    },
    {
     "data": {
      "application/vnd.jupyter.widget-view+json": {
       "model_id": "1e63be8eb1674b49a38becd9119de866",
       "version_major": 2,
       "version_minor": 0
      },
      "text/plain": [
       "Epoch 1:   0%|          | 0/62 [00:00<?, ?bundle/s]"
      ]
     },
     "metadata": {},
     "output_type": "display_data"
    },
    {
     "name": "stdout",
     "output_type": "stream",
     "text": [
      "Epoch 001 • train=0.2727 • val=0.2635 • lr=8.63e-04\n"
     ]
    },
    {
     "data": {
      "application/vnd.jupyter.widget-view+json": {
       "model_id": "7475ba048af64254b79bd41a1d21d7b0",
       "version_major": 2,
       "version_minor": 0
      },
      "text/plain": [
       "Epoch 2:   0%|          | 0/62 [00:00<?, ?bundle/s]"
      ]
     },
     "metadata": {},
     "output_type": "display_data"
    },
    {
     "name": "stdout",
     "output_type": "stream",
     "text": [
      "Epoch 002 • train=0.2067 • val=0.2776 • lr=8.62e-04\n"
     ]
    },
    {
     "data": {
      "application/vnd.jupyter.widget-view+json": {
       "model_id": "226a67da5da44c069f8611ced4712202",
       "version_major": 2,
       "version_minor": 0
      },
      "text/plain": [
       "Epoch 3:   0%|          | 0/62 [00:00<?, ?bundle/s]"
      ]
     },
     "metadata": {},
     "output_type": "display_data"
    },
    {
     "name": "stdout",
     "output_type": "stream",
     "text": [
      "Epoch 003 • train=0.2102 • val=0.2720 • lr=8.59e-04\n"
     ]
    },
    {
     "data": {
      "application/vnd.jupyter.widget-view+json": {
       "model_id": "3d69ff6441414a3085b12139e9377ff8",
       "version_major": 2,
       "version_minor": 0
      },
      "text/plain": [
       "Epoch 4:   0%|          | 0/62 [00:00<?, ?bundle/s]"
      ]
     },
     "metadata": {},
     "output_type": "display_data"
    },
    {
     "name": "stdout",
     "output_type": "stream",
     "text": [
      "Epoch 004 • train=0.2158 • val=0.2625 • lr=8.55e-04\n"
     ]
    },
    {
     "data": {
      "application/vnd.jupyter.widget-view+json": {
       "model_id": "0bff0627d7db451d8359aed2a56267ba",
       "version_major": 2,
       "version_minor": 0
      },
      "text/plain": [
       "Epoch 5:   0%|          | 0/62 [00:00<?, ?bundle/s]"
      ]
     },
     "metadata": {},
     "output_type": "display_data"
    },
    {
     "name": "stdout",
     "output_type": "stream",
     "text": [
      "Epoch 005 • train=0.2179 • val=0.2582 • lr=8.50e-04\n"
     ]
    },
    {
     "data": {
      "application/vnd.jupyter.widget-view+json": {
       "model_id": "3f4daec134cd413d9428e3437454a752",
       "version_major": 2,
       "version_minor": 0
      },
      "text/plain": [
       "Epoch 6:   0%|          | 0/62 [00:00<?, ?bundle/s]"
      ]
     },
     "metadata": {},
     "output_type": "display_data"
    },
    {
     "name": "stdout",
     "output_type": "stream",
     "text": [
      "Epoch 006 • train=0.2167 • val=0.2604 • lr=8.43e-04\n"
     ]
    },
    {
     "data": {
      "application/vnd.jupyter.widget-view+json": {
       "model_id": "f8038cb234464ff4b5066f1920412e81",
       "version_major": 2,
       "version_minor": 0
      },
      "text/plain": [
       "Epoch 7:   0%|          | 0/62 [00:00<?, ?bundle/s]"
      ]
     },
     "metadata": {},
     "output_type": "display_data"
    },
    {
     "name": "stdout",
     "output_type": "stream",
     "text": [
      "Epoch 007 • train=0.2238 • val=0.2618 • lr=8.36e-04\n"
     ]
    },
    {
     "data": {
      "application/vnd.jupyter.widget-view+json": {
       "model_id": "06d3d17022a44d86b300632dc52a170a",
       "version_major": 2,
       "version_minor": 0
      },
      "text/plain": [
       "Epoch 8:   0%|          | 0/62 [00:00<?, ?bundle/s]"
      ]
     },
     "metadata": {},
     "output_type": "display_data"
    },
    {
     "name": "stdout",
     "output_type": "stream",
     "text": [
      "Epoch 008 • train=0.2231 • val=0.2677 • lr=8.28e-04\n"
     ]
    },
    {
     "data": {
      "application/vnd.jupyter.widget-view+json": {
       "model_id": "cf070f14354d43a8846d6b46da04f94f",
       "version_major": 2,
       "version_minor": 0
      },
      "text/plain": [
       "Epoch 9:   0%|          | 0/62 [00:00<?, ?bundle/s]"
      ]
     },
     "metadata": {},
     "output_type": "display_data"
    },
    {
     "name": "stdout",
     "output_type": "stream",
     "text": [
      "Epoch 009 • train=0.2309 • val=0.2639 • lr=8.18e-04\n"
     ]
    },
    {
     "data": {
      "application/vnd.jupyter.widget-view+json": {
       "model_id": "e84b39ef41ac4ce7b2024b7de604ce1c",
       "version_major": 2,
       "version_minor": 0
      },
      "text/plain": [
       "Epoch 10:   0%|          | 0/62 [00:00<?, ?bundle/s]"
      ]
     },
     "metadata": {},
     "output_type": "display_data"
    },
    {
     "name": "stdout",
     "output_type": "stream",
     "text": [
      "Epoch 010 • train=0.2363 • val=0.2598 • lr=8.07e-04\n"
     ]
    },
    {
     "data": {
      "application/vnd.jupyter.widget-view+json": {
       "model_id": "e0f383da21bd466b8aa7dd4b2713f955",
       "version_major": 2,
       "version_minor": 0
      },
      "text/plain": [
       "Epoch 11:   0%|          | 0/62 [00:00<?, ?bundle/s]"
      ]
     },
     "metadata": {},
     "output_type": "display_data"
    },
    {
     "name": "stdout",
     "output_type": "stream",
     "text": [
      "Epoch 011 • train=0.2277 • val=0.2623 • lr=7.96e-04\n"
     ]
    },
    {
     "data": {
      "application/vnd.jupyter.widget-view+json": {
       "model_id": "c00a4864ce5d46da99feea8271c8ac1d",
       "version_major": 2,
       "version_minor": 0
      },
      "text/plain": [
       "Epoch 12:   0%|          | 0/62 [00:00<?, ?bundle/s]"
      ]
     },
     "metadata": {},
     "output_type": "display_data"
    },
    {
     "name": "stdout",
     "output_type": "stream",
     "text": [
      "Epoch 012 • train=0.2361 • val=0.2644 • lr=7.83e-04\n"
     ]
    },
    {
     "data": {
      "application/vnd.jupyter.widget-view+json": {
       "model_id": "ec87ed21e7d54fed99ec04813f510341",
       "version_major": 2,
       "version_minor": 0
      },
      "text/plain": [
       "Epoch 13:   0%|          | 0/62 [00:00<?, ?bundle/s]"
      ]
     },
     "metadata": {},
     "output_type": "display_data"
    },
    {
     "name": "stdout",
     "output_type": "stream",
     "text": [
      "Epoch 013 • train=0.2380 • val=0.2534 • lr=7.70e-04\n"
     ]
    },
    {
     "data": {
      "application/vnd.jupyter.widget-view+json": {
       "model_id": "c051fc5f98fe48b4827ab13645f7a49e",
       "version_major": 2,
       "version_minor": 0
      },
      "text/plain": [
       "Epoch 14:   0%|          | 0/62 [00:00<?, ?bundle/s]"
      ]
     },
     "metadata": {},
     "output_type": "display_data"
    },
    {
     "name": "stdout",
     "output_type": "stream",
     "text": [
      "Epoch 014 • train=0.2382 • val=0.2608 • lr=7.55e-04\n"
     ]
    },
    {
     "data": {
      "application/vnd.jupyter.widget-view+json": {
       "model_id": "a423e7d577b74520a8d650f94f8e0427",
       "version_major": 2,
       "version_minor": 0
      },
      "text/plain": [
       "Epoch 15:   0%|          | 0/62 [00:00<?, ?bundle/s]"
      ]
     },
     "metadata": {},
     "output_type": "display_data"
    },
    {
     "name": "stdout",
     "output_type": "stream",
     "text": [
      "Epoch 015 • train=0.2560 • val=0.2552 • lr=7.40e-04\n"
     ]
    },
    {
     "data": {
      "application/vnd.jupyter.widget-view+json": {
       "model_id": "ece394534a8344c8adcaad20d5d33d8f",
       "version_major": 2,
       "version_minor": 0
      },
      "text/plain": [
       "Epoch 16:   0%|          | 0/62 [00:00<?, ?bundle/s]"
      ]
     },
     "metadata": {},
     "output_type": "display_data"
    },
    {
     "name": "stdout",
     "output_type": "stream",
     "text": [
      "Epoch 016 • train=0.2231 • val=0.2551 • lr=7.24e-04\n"
     ]
    },
    {
     "data": {
      "application/vnd.jupyter.widget-view+json": {
       "model_id": "6de30e14a8da45f187c5180ee299ef65",
       "version_major": 2,
       "version_minor": 0
      },
      "text/plain": [
       "Epoch 17:   0%|          | 0/62 [00:00<?, ?bundle/s]"
      ]
     },
     "metadata": {},
     "output_type": "display_data"
    },
    {
     "name": "stdout",
     "output_type": "stream",
     "text": [
      "Epoch 017 • train=0.2409 • val=0.2555 • lr=7.07e-04\n"
     ]
    },
    {
     "data": {
      "application/vnd.jupyter.widget-view+json": {
       "model_id": "faeaf5854b68475d9fd416cc7913f420",
       "version_major": 2,
       "version_minor": 0
      },
      "text/plain": [
       "Epoch 18:   0%|          | 0/62 [00:00<?, ?bundle/s]"
      ]
     },
     "metadata": {},
     "output_type": "display_data"
    },
    {
     "name": "stdout",
     "output_type": "stream",
     "text": [
      "Epoch 018 • train=0.2317 • val=0.2517 • lr=6.90e-04\n"
     ]
    },
    {
     "data": {
      "application/vnd.jupyter.widget-view+json": {
       "model_id": "f8a89a78110540b290fd7f4f516baee7",
       "version_major": 2,
       "version_minor": 0
      },
      "text/plain": [
       "Epoch 19:   0%|          | 0/62 [00:00<?, ?bundle/s]"
      ]
     },
     "metadata": {},
     "output_type": "display_data"
    },
    {
     "name": "stdout",
     "output_type": "stream",
     "text": [
      "Epoch 019 • train=0.2284 • val=0.2516 • lr=6.72e-04\n"
     ]
    },
    {
     "data": {
      "application/vnd.jupyter.widget-view+json": {
       "model_id": "82e580a0c13a42cbad9bc9239d5ba00e",
       "version_major": 2,
       "version_minor": 0
      },
      "text/plain": [
       "Epoch 20:   0%|          | 0/62 [00:00<?, ?bundle/s]"
      ]
     },
     "metadata": {},
     "output_type": "display_data"
    },
    {
     "name": "stdout",
     "output_type": "stream",
     "text": [
      "Epoch 020 • train=0.2300 • val=0.2516 • lr=6.53e-04\n"
     ]
    },
    {
     "data": {
      "application/vnd.jupyter.widget-view+json": {
       "model_id": "babad16d9994458ab259c41bc50ebfe4",
       "version_major": 2,
       "version_minor": 0
      },
      "text/plain": [
       "Epoch 21:   0%|          | 0/62 [00:00<?, ?bundle/s]"
      ]
     },
     "metadata": {},
     "output_type": "display_data"
    },
    {
     "name": "stdout",
     "output_type": "stream",
     "text": [
      "Epoch 021 • train=0.2328 • val=0.2476 • lr=6.33e-04\n"
     ]
    },
    {
     "data": {
      "application/vnd.jupyter.widget-view+json": {
       "model_id": "9512217f14674aa3beaadd1a94bfd8fc",
       "version_major": 2,
       "version_minor": 0
      },
      "text/plain": [
       "Epoch 22:   0%|          | 0/62 [00:00<?, ?bundle/s]"
      ]
     },
     "metadata": {},
     "output_type": "display_data"
    },
    {
     "name": "stdout",
     "output_type": "stream",
     "text": [
      "Epoch 022 • train=0.2279 • val=0.2479 • lr=6.13e-04\n"
     ]
    },
    {
     "data": {
      "application/vnd.jupyter.widget-view+json": {
       "model_id": "7ed5b3a942774dd19b48379c1f272e19",
       "version_major": 2,
       "version_minor": 0
      },
      "text/plain": [
       "Epoch 23:   0%|          | 0/62 [00:00<?, ?bundle/s]"
      ]
     },
     "metadata": {},
     "output_type": "display_data"
    },
    {
     "name": "stdout",
     "output_type": "stream",
     "text": [
      "Epoch 023 • train=0.2307 • val=0.2546 • lr=5.93e-04\n"
     ]
    },
    {
     "data": {
      "application/vnd.jupyter.widget-view+json": {
       "model_id": "b55e7d65b3194de98bf51880f94b68b9",
       "version_major": 2,
       "version_minor": 0
      },
      "text/plain": [
       "Epoch 24:   0%|          | 0/62 [00:00<?, ?bundle/s]"
      ]
     },
     "metadata": {},
     "output_type": "display_data"
    },
    {
     "name": "stdout",
     "output_type": "stream",
     "text": [
      "Epoch 024 • train=0.2413 • val=0.2536 • lr=5.72e-04\n"
     ]
    },
    {
     "data": {
      "application/vnd.jupyter.widget-view+json": {
       "model_id": "ac50bb1bbc0d40cf8b021cef3b4f01b4",
       "version_major": 2,
       "version_minor": 0
      },
      "text/plain": [
       "Epoch 25:   0%|          | 0/62 [00:00<?, ?bundle/s]"
      ]
     },
     "metadata": {},
     "output_type": "display_data"
    },
    {
     "name": "stdout",
     "output_type": "stream",
     "text": [
      "Epoch 025 • train=0.2315 • val=0.2488 • lr=5.51e-04\n"
     ]
    },
    {
     "data": {
      "application/vnd.jupyter.widget-view+json": {
       "model_id": "02bcd67cf41a45ae84eb0c3d9300865b",
       "version_major": 2,
       "version_minor": 0
      },
      "text/plain": [
       "Epoch 26:   0%|          | 0/62 [00:00<?, ?bundle/s]"
      ]
     },
     "metadata": {},
     "output_type": "display_data"
    },
    {
     "name": "stdout",
     "output_type": "stream",
     "text": [
      "Epoch 026 • train=0.2334 • val=0.2521 • lr=5.29e-04\n"
     ]
    },
    {
     "data": {
      "application/vnd.jupyter.widget-view+json": {
       "model_id": "77209a65475843fe8f597db4046c67c8",
       "version_major": 2,
       "version_minor": 0
      },
      "text/plain": [
       "Epoch 27:   0%|          | 0/62 [00:00<?, ?bundle/s]"
      ]
     },
     "metadata": {},
     "output_type": "display_data"
    },
    {
     "name": "stdout",
     "output_type": "stream",
     "text": [
      "Epoch 027 • train=0.2364 • val=0.2529 • lr=5.07e-04\n"
     ]
    },
    {
     "data": {
      "application/vnd.jupyter.widget-view+json": {
       "model_id": "d9fe82b73acf4b8cb2239e233072f438",
       "version_major": 2,
       "version_minor": 0
      },
      "text/plain": [
       "Epoch 28:   0%|          | 0/62 [00:00<?, ?bundle/s]"
      ]
     },
     "metadata": {},
     "output_type": "display_data"
    }
   ],
   "source": [
    "# ──────────────────────────────────────────────────────────────────────────────\n",
    "#  Create Optuna study and run optimization\n",
    "# ──────────────────────────────────────────────────────────────────────────────\n",
    "\n",
    "study = optuna.create_study(\n",
    "    storage=\"sqlite:///optuna_study.db\",    # Point it at an SQLite file so it writes out each result immediately instead of buffering in RAM\n",
    "    load_if_exists=True,\n",
    "    direction=\"minimize\",\n",
    "    pruner=MedianPruner(n_startup_trials=6, n_warmup_steps=12),\n",
    ")\n",
    "\n",
    "def cleanup_cb(study, trial):\n",
    "    # Python‐side\n",
    "    gc.collect()\n",
    "    # CUDA‐side (no‐op on CPU only)\n",
    "    if torch.cuda.is_available():\n",
    "        torch.cuda.empty_cache()\n",
    "        \n",
    "study.optimize(\n",
    "    objective_train,\n",
    "    n_trials = 120,\n",
    "    n_jobs   = 1,\n",
    "    callbacks=[live_cb, cleanup_cb],\n",
    ")\n",
    "\n",
    "# ──────────────────────────────────────────────────────────────────────────────\n",
    "#  Print out the best hyperparameters & result\n",
    "# ──────────────────────────────────────────────────────────────────────────────\n",
    "print(\"Best hyperparameters:\", study.best_params)\n",
    "print(\"Best validation RMSE:\", study.best_value)\n",
    "\n",
    "# ──────────────────────────────────────────────────────────────────────────────\n",
    "#  Compute and print parameter importances\n",
    "# ──────────────────────────────────────────────────────────────────────────────\n",
    "imps = get_param_importances(study)\n",
    "print(\"\\nHyperparameter importances (higher ⇒ more impact on RMSE):\")\n",
    "for name, score in sorted(imps.items(), key=lambda x: x[1], reverse=True):\n",
    "    print(f\"  {name:20s} : {score:.3f}\")\n",
    "\n",
    "# ──────────────────────────────────────────────────────────────────────────────\n",
    "#  Dump study results to JSON\n",
    "# ──────────────────────────────────────────────────────────────────────────────\n",
    "# 1) Build your session‐only DataFrame once\n",
    "session_df = df.between_time(params.regular_start,\n",
    "                             params.regular_end)\n",
    "\n",
    "# 2) Derive the trading‐day boundaries\n",
    "first_day = session_df.index.normalize().min()\n",
    "last_day  = session_df.index.normalize().max()\n",
    "\n",
    "# 3) Format your file name\n",
    "start_date = first_day.strftime(\"%Y%m%d\")\n",
    "end_date   = last_day.strftime(\"%Y%m%d\")\n",
    "file_name  = f\"{ticker}_{start_date}-{end_date}_optuna_model_hpars.json\"\n",
    "file_path  = os.path.join(results_folder, file_name)\n",
    "\n",
    "\n",
    "# ------------------------------------------------------------------\n",
    "# Dump study results (including importances)\n",
    "# ------------------------------------------------------------------\n",
    "\n",
    "with open(file_path, \"w\") as f:\n",
    "    json.dump(\n",
    "        {\n",
    "            \"best_params\": study.best_params,\n",
    "            \"best_value\" : study.best_value,\n",
    "            \"importances\": imps,\n",
    "            \"trials\": [\n",
    "                {\"number\": t.number, \"value\": t.value, \"params\": t.params, \n",
    "                 \"state\": t.state.name}\n",
    "                for t in study.trials\n",
    "            ],\n",
    "        },\n",
    "        f,\n",
    "        indent=4,\n",
    "    )\n",
    "\n",
    "print(f\"\\nOptuna results (and importances) saved to: {file_path}\")\n"
   ]
  },
  {
   "cell_type": "code",
   "execution_count": null,
   "id": "6865782e-fc07-4354-a5b9-2cdeed1ebad9",
   "metadata": {},
   "outputs": [],
   "source": []
  },
  {
   "cell_type": "code",
   "execution_count": null,
   "id": "cbaa9fb2-411b-4d9f-9a33-e6f6c59de7dd",
   "metadata": {},
   "outputs": [],
   "source": []
  }
 ],
 "metadata": {
  "kernelspec": {
   "display_name": "Python 3 (ipykernel)",
   "language": "python",
   "name": "python3"
  },
  "language_info": {
   "codemirror_mode": {
    "name": "ipython",
    "version": 3
   },
   "file_extension": ".py",
   "mimetype": "text/x-python",
   "name": "python",
   "nbconvert_exporter": "python",
   "pygments_lexer": "ipython3",
   "version": "3.12.3"
  }
 },
 "nbformat": 4,
 "nbformat_minor": 5
}
