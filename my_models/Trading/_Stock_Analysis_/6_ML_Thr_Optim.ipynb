{
 "cells": [
  {
   "cell_type": "code",
   "execution_count": 1,
   "id": "db53f869-3ce8-4b85-9c38-ba83b86b51b9",
   "metadata": {},
   "outputs": [],
   "source": [
    "# 1) Wipe out all Python variables\n",
    "%reset -f\n",
    "# 2) Force Python’s garbage collector to run\n",
    "import gc\n",
    "gc.collect()\n",
    "\n",
    "import os\n",
    "os.environ[\"OMP_NUM_THREADS\"] = \"1\"\n",
    "os.environ[\"OPENBLAS_NUM_THREADS\"] = \"1\"\n",
    "os.environ[\"MKL_NUM_THREADS\"] = \"1\"\n",
    "os.environ[\"BLIS_NUM_THREADS\"] = \"1\"\n",
    "os.environ[\"VECLIB_MAXIMUM_THREADS\"] = \"1\"\n",
    "os.environ[\"NUMEXPR_NUM_THREADS\"] = \"1\"\n",
    "os.environ[\"OMP_WAIT_POLICY\"] = \"PASSIVE\"\n",
    "\n",
    "import importlib\n",
    "from libs import trades, plots, params, models\n",
    "importlib.reload(trades)\n",
    "importlib.reload(plots)\n",
    "importlib.reload(params)\n",
    "importlib.reload(models)\n"
   ]
  },
  {
   "cell_type": "code",
   "execution_count": null,
   "id": "c17c661b-bcae-4bdb-9bd4-6f8018a38d8d",
   "metadata": {},
   "outputs": [],
   "source": [
    "# Turn off interactive plotting globally (we’ll manage our own display)\n",
    "import matplotlib\n",
    "matplotlib.use(\"Agg\")  # safe, headless-friendly\n",
    "import matplotlib.pyplot as plt\n",
    "plt.ioff()\n",
    "\n",
    "import pandas as pd\n",
    "import numpy as np\n",
    "import math\n",
    "from typing import Tuple\n",
    "\n",
    "from pathlib import Path\n",
    "import pickle\n",
    "import datetime as dt\n",
    "from datetime import datetime\n",
    "from datetime import time\n",
    "\n",
    "import seaborn as sns\n",
    "from pprint import pprint\n",
    "\n",
    "import torch\n",
    "import torch.nn.functional as Funct\n",
    "from torch.utils.data import Dataset, DataLoader\n",
    "torch.serialization.add_safe_globals([models.DayWindowDataset])\n",
    "\n",
    "from tqdm.auto import tqdm\n",
    "\n",
    "import io\n",
    "import json\n",
    "from PIL import Image\n",
    "import IPython.display as disp\n",
    "\n",
    "import optuna\n",
    "from optuna.trial import TrialState\n",
    "from optuna.importance import get_param_importances\n",
    "from optuna.visualization.matplotlib import plot_optimization_history\n",
    "from optuna.storages import RDBStorage"
   ]
  },
  {
   "cell_type": "code",
   "execution_count": 2,
   "id": "1c9b44fb-0cf5-4b31-8cdf-39d8d587234e",
   "metadata": {},
   "outputs": [],
   "source": [
    "device               = params.device\n",
    "ticker               = params.ticker\n",
    "save_path            = params.save_path\n",
    "pred_threshold       = params.pred_threshold_tick\n",
    "regular_start        = params.regular_start\n",
    "regular_start_pred   = params.regular_start_pred\n",
    "regular_start_shifted= params.regular_start_shifted\n",
    "regular_end          = params.regular_end\n",
    "look_back            = params.look_back_tick\n",
    "trailing_stop_thresh = params.trailing_stop_thresh_tick\n",
    "\n",
    "n_trials = 100\n",
    "n_jobs = 1"
   ]
  },
  {
   "cell_type": "code",
   "execution_count": 3,
   "id": "71fcfa66-3fa8-4cb4-a040-4e0b5b1804fd",
   "metadata": {},
   "outputs": [
    {
     "data": {
      "text/html": [
       "<div>\n",
       "<style scoped>\n",
       "    .dataframe tbody tr th:only-of-type {\n",
       "        vertical-align: middle;\n",
       "    }\n",
       "\n",
       "    .dataframe tbody tr th {\n",
       "        vertical-align: top;\n",
       "    }\n",
       "\n",
       "    .dataframe thead th {\n",
       "        text-align: right;\n",
       "    }\n",
       "</style>\n",
       "<table border=\"1\" class=\"dataframe\">\n",
       "  <thead>\n",
       "    <tr style=\"text-align: right;\">\n",
       "      <th></th>\n",
       "      <th>open</th>\n",
       "      <th>high</th>\n",
       "      <th>low</th>\n",
       "      <th>close</th>\n",
       "      <th>atr_14</th>\n",
       "      <th>vwap_dev</th>\n",
       "      <th>bb_width_20</th>\n",
       "      <th>ma_5</th>\n",
       "      <th>ma_20</th>\n",
       "      <th>macd_12_26</th>\n",
       "      <th>obv</th>\n",
       "      <th>in_trading</th>\n",
       "      <th>hour</th>\n",
       "      <th>bid</th>\n",
       "      <th>ask</th>\n",
       "      <th>signal_smooth</th>\n",
       "    </tr>\n",
       "  </thead>\n",
       "  <tbody>\n",
       "    <tr>\n",
       "      <th>2014-04-03 10:49:00</th>\n",
       "      <td>28.650</td>\n",
       "      <td>28.6500</td>\n",
       "      <td>28.650</td>\n",
       "      <td>28.6500</td>\n",
       "      <td>0.000000</td>\n",
       "      <td>1.240040e-16</td>\n",
       "      <td>0.000000</td>\n",
       "      <td>28.65000</td>\n",
       "      <td>28.650000</td>\n",
       "      <td>0.000000</td>\n",
       "      <td>0.000000e+00</td>\n",
       "      <td>0</td>\n",
       "      <td>10</td>\n",
       "      <td>28.641405</td>\n",
       "      <td>28.658595</td>\n",
       "      <td>0.131792</td>\n",
       "    </tr>\n",
       "    <tr>\n",
       "      <th>2014-04-03 10:50:00</th>\n",
       "      <td>28.650</td>\n",
       "      <td>28.6500</td>\n",
       "      <td>28.650</td>\n",
       "      <td>28.6500</td>\n",
       "      <td>0.000000</td>\n",
       "      <td>1.240040e-16</td>\n",
       "      <td>0.000000</td>\n",
       "      <td>28.65000</td>\n",
       "      <td>28.650000</td>\n",
       "      <td>0.000000</td>\n",
       "      <td>0.000000e+00</td>\n",
       "      <td>0</td>\n",
       "      <td>10</td>\n",
       "      <td>28.641405</td>\n",
       "      <td>28.658595</td>\n",
       "      <td>0.132326</td>\n",
       "    </tr>\n",
       "    <tr>\n",
       "      <th>2014-04-03 10:51:00</th>\n",
       "      <td>28.650</td>\n",
       "      <td>28.6500</td>\n",
       "      <td>28.650</td>\n",
       "      <td>28.6500</td>\n",
       "      <td>0.000000</td>\n",
       "      <td>1.240040e-16</td>\n",
       "      <td>0.000000</td>\n",
       "      <td>28.65000</td>\n",
       "      <td>28.650000</td>\n",
       "      <td>0.000000</td>\n",
       "      <td>0.000000e+00</td>\n",
       "      <td>0</td>\n",
       "      <td>10</td>\n",
       "      <td>28.641405</td>\n",
       "      <td>28.658595</td>\n",
       "      <td>0.132862</td>\n",
       "    </tr>\n",
       "    <tr>\n",
       "      <th>2014-04-03 10:52:00</th>\n",
       "      <td>28.650</td>\n",
       "      <td>28.6500</td>\n",
       "      <td>28.650</td>\n",
       "      <td>28.6500</td>\n",
       "      <td>0.000000</td>\n",
       "      <td>1.240040e-16</td>\n",
       "      <td>0.000000</td>\n",
       "      <td>28.65000</td>\n",
       "      <td>28.650000</td>\n",
       "      <td>0.000000</td>\n",
       "      <td>0.000000e+00</td>\n",
       "      <td>0</td>\n",
       "      <td>10</td>\n",
       "      <td>28.641405</td>\n",
       "      <td>28.658595</td>\n",
       "      <td>0.133399</td>\n",
       "    </tr>\n",
       "    <tr>\n",
       "      <th>2014-04-03 10:53:00</th>\n",
       "      <td>28.650</td>\n",
       "      <td>28.6500</td>\n",
       "      <td>28.650</td>\n",
       "      <td>28.6500</td>\n",
       "      <td>0.000000</td>\n",
       "      <td>1.240040e-16</td>\n",
       "      <td>0.000000</td>\n",
       "      <td>28.65000</td>\n",
       "      <td>28.650000</td>\n",
       "      <td>0.000000</td>\n",
       "      <td>0.000000e+00</td>\n",
       "      <td>0</td>\n",
       "      <td>10</td>\n",
       "      <td>28.641405</td>\n",
       "      <td>28.658595</td>\n",
       "      <td>0.133939</td>\n",
       "    </tr>\n",
       "    <tr>\n",
       "      <th>...</th>\n",
       "      <td>...</td>\n",
       "      <td>...</td>\n",
       "      <td>...</td>\n",
       "      <td>...</td>\n",
       "      <td>...</td>\n",
       "      <td>...</td>\n",
       "      <td>...</td>\n",
       "      <td>...</td>\n",
       "      <td>...</td>\n",
       "      <td>...</td>\n",
       "      <td>...</td>\n",
       "      <td>...</td>\n",
       "      <td>...</td>\n",
       "      <td>...</td>\n",
       "      <td>...</td>\n",
       "      <td>...</td>\n",
       "    </tr>\n",
       "    <tr>\n",
       "      <th>2025-06-18 20:56:00</th>\n",
       "      <td>173.375</td>\n",
       "      <td>173.6771</td>\n",
       "      <td>173.215</td>\n",
       "      <td>173.5650</td>\n",
       "      <td>0.304529</td>\n",
       "      <td>1.249034e+00</td>\n",
       "      <td>0.014819</td>\n",
       "      <td>173.91300</td>\n",
       "      <td>174.838390</td>\n",
       "      <td>-0.422065</td>\n",
       "      <td>3.294477e+08</td>\n",
       "      <td>1</td>\n",
       "      <td>20</td>\n",
       "      <td>173.512900</td>\n",
       "      <td>173.617100</td>\n",
       "      <td>0.001063</td>\n",
       "    </tr>\n",
       "    <tr>\n",
       "      <th>2025-06-18 20:57:00</th>\n",
       "      <td>173.565</td>\n",
       "      <td>173.5900</td>\n",
       "      <td>173.240</td>\n",
       "      <td>173.3800</td>\n",
       "      <td>0.317029</td>\n",
       "      <td>1.246621e+00</td>\n",
       "      <td>0.016242</td>\n",
       "      <td>173.73700</td>\n",
       "      <td>174.736890</td>\n",
       "      <td>-0.466939</td>\n",
       "      <td>3.288235e+08</td>\n",
       "      <td>1</td>\n",
       "      <td>20</td>\n",
       "      <td>173.328000</td>\n",
       "      <td>173.432000</td>\n",
       "      <td>0.005465</td>\n",
       "    </tr>\n",
       "    <tr>\n",
       "      <th>2025-06-18 20:58:00</th>\n",
       "      <td>173.390</td>\n",
       "      <td>173.4100</td>\n",
       "      <td>173.200</td>\n",
       "      <td>173.3100</td>\n",
       "      <td>0.323814</td>\n",
       "      <td>1.245701e+00</td>\n",
       "      <td>0.017430</td>\n",
       "      <td>173.53500</td>\n",
       "      <td>174.634390</td>\n",
       "      <td>-0.502359</td>\n",
       "      <td>3.283690e+08</td>\n",
       "      <td>1</td>\n",
       "      <td>20</td>\n",
       "      <td>173.258000</td>\n",
       "      <td>173.362000</td>\n",
       "      <td>0.007152</td>\n",
       "    </tr>\n",
       "    <tr>\n",
       "      <th>2025-06-18 20:59:00</th>\n",
       "      <td>173.315</td>\n",
       "      <td>173.4000</td>\n",
       "      <td>173.230</td>\n",
       "      <td>173.2800</td>\n",
       "      <td>0.322743</td>\n",
       "      <td>1.245284e+00</td>\n",
       "      <td>0.018221</td>\n",
       "      <td>173.38100</td>\n",
       "      <td>174.527890</td>\n",
       "      <td>-0.526778</td>\n",
       "      <td>3.272742e+08</td>\n",
       "      <td>1</td>\n",
       "      <td>20</td>\n",
       "      <td>173.228000</td>\n",
       "      <td>173.332000</td>\n",
       "      <td>0.007898</td>\n",
       "    </tr>\n",
       "    <tr>\n",
       "      <th>2025-06-18 21:00:00</th>\n",
       "      <td>173.300</td>\n",
       "      <td>174.0500</td>\n",
       "      <td>173.170</td>\n",
       "      <td>173.6097</td>\n",
       "      <td>0.374521</td>\n",
       "      <td>1.249352e+00</td>\n",
       "      <td>0.018282</td>\n",
       "      <td>173.42894</td>\n",
       "      <td>174.442375</td>\n",
       "      <td>-0.513606</td>\n",
       "      <td>3.349241e+08</td>\n",
       "      <td>0</td>\n",
       "      <td>21</td>\n",
       "      <td>173.557600</td>\n",
       "      <td>173.661800</td>\n",
       "      <td>0.000000</td>\n",
       "    </tr>\n",
       "  </tbody>\n",
       "</table>\n",
       "<p>1779401 rows × 16 columns</p>\n",
       "</div>"
      ],
      "text/plain": [
       "                        open      high      low     close    atr_14  \\\n",
       "2014-04-03 10:49:00   28.650   28.6500   28.650   28.6500  0.000000   \n",
       "2014-04-03 10:50:00   28.650   28.6500   28.650   28.6500  0.000000   \n",
       "2014-04-03 10:51:00   28.650   28.6500   28.650   28.6500  0.000000   \n",
       "2014-04-03 10:52:00   28.650   28.6500   28.650   28.6500  0.000000   \n",
       "2014-04-03 10:53:00   28.650   28.6500   28.650   28.6500  0.000000   \n",
       "...                      ...       ...      ...       ...       ...   \n",
       "2025-06-18 20:56:00  173.375  173.6771  173.215  173.5650  0.304529   \n",
       "2025-06-18 20:57:00  173.565  173.5900  173.240  173.3800  0.317029   \n",
       "2025-06-18 20:58:00  173.390  173.4100  173.200  173.3100  0.323814   \n",
       "2025-06-18 20:59:00  173.315  173.4000  173.230  173.2800  0.322743   \n",
       "2025-06-18 21:00:00  173.300  174.0500  173.170  173.6097  0.374521   \n",
       "\n",
       "                         vwap_dev  bb_width_20       ma_5       ma_20  \\\n",
       "2014-04-03 10:49:00  1.240040e-16     0.000000   28.65000   28.650000   \n",
       "2014-04-03 10:50:00  1.240040e-16     0.000000   28.65000   28.650000   \n",
       "2014-04-03 10:51:00  1.240040e-16     0.000000   28.65000   28.650000   \n",
       "2014-04-03 10:52:00  1.240040e-16     0.000000   28.65000   28.650000   \n",
       "2014-04-03 10:53:00  1.240040e-16     0.000000   28.65000   28.650000   \n",
       "...                           ...          ...        ...         ...   \n",
       "2025-06-18 20:56:00  1.249034e+00     0.014819  173.91300  174.838390   \n",
       "2025-06-18 20:57:00  1.246621e+00     0.016242  173.73700  174.736890   \n",
       "2025-06-18 20:58:00  1.245701e+00     0.017430  173.53500  174.634390   \n",
       "2025-06-18 20:59:00  1.245284e+00     0.018221  173.38100  174.527890   \n",
       "2025-06-18 21:00:00  1.249352e+00     0.018282  173.42894  174.442375   \n",
       "\n",
       "                     macd_12_26           obv  in_trading  hour         bid  \\\n",
       "2014-04-03 10:49:00    0.000000  0.000000e+00           0    10   28.641405   \n",
       "2014-04-03 10:50:00    0.000000  0.000000e+00           0    10   28.641405   \n",
       "2014-04-03 10:51:00    0.000000  0.000000e+00           0    10   28.641405   \n",
       "2014-04-03 10:52:00    0.000000  0.000000e+00           0    10   28.641405   \n",
       "2014-04-03 10:53:00    0.000000  0.000000e+00           0    10   28.641405   \n",
       "...                         ...           ...         ...   ...         ...   \n",
       "2025-06-18 20:56:00   -0.422065  3.294477e+08           1    20  173.512900   \n",
       "2025-06-18 20:57:00   -0.466939  3.288235e+08           1    20  173.328000   \n",
       "2025-06-18 20:58:00   -0.502359  3.283690e+08           1    20  173.258000   \n",
       "2025-06-18 20:59:00   -0.526778  3.272742e+08           1    20  173.228000   \n",
       "2025-06-18 21:00:00   -0.513606  3.349241e+08           0    21  173.557600   \n",
       "\n",
       "                            ask  signal_smooth  \n",
       "2014-04-03 10:49:00   28.658595       0.131792  \n",
       "2014-04-03 10:50:00   28.658595       0.132326  \n",
       "2014-04-03 10:51:00   28.658595       0.132862  \n",
       "2014-04-03 10:52:00   28.658595       0.133399  \n",
       "2014-04-03 10:53:00   28.658595       0.133939  \n",
       "...                         ...            ...  \n",
       "2025-06-18 20:56:00  173.617100       0.001063  \n",
       "2025-06-18 20:57:00  173.432000       0.005465  \n",
       "2025-06-18 20:58:00  173.362000       0.007152  \n",
       "2025-06-18 20:59:00  173.332000       0.007898  \n",
       "2025-06-18 21:00:00  173.661800       0.000000  \n",
       "\n",
       "[1779401 rows x 16 columns]"
      ]
     },
     "execution_count": 3,
     "metadata": {},
     "output_type": "execute_result"
    }
   ],
   "source": [
    "df_feat = pd.read_csv(params.feat_csv, index_col=0, parse_dates=True)\n",
    "df_feat"
   ]
  },
  {
   "cell_type": "code",
   "execution_count": 4,
   "id": "3daba10b-3212-4a06-b607-748995bdc51b",
   "metadata": {},
   "outputs": [
    {
     "name": "stdout",
     "output_type": "stream",
     "text": [
      "{'ATT_DROPOUT': 0.3,\n",
      " 'ATT_HEADS': 8,\n",
      " 'CLIPNORM': 1,\n",
      " 'DROPOUT_LONG': 0.35,\n",
      " 'DROPOUT_SHORT': 0.25,\n",
      " 'EARLY_STOP_PATIENCE': 10,\n",
      " 'ETA_MIN': 2e-05,\n",
      " 'INITIAL_LR': 0.0007,\n",
      " 'LONG_UNITS': 128,\n",
      " 'LR_EPOCHS_WARMUP': 1,\n",
      " 'MAX_EPOCHS': 60,\n",
      " 'MIN_LR': 1e-06,\n",
      " 'NUM_WORKERS': 2,\n",
      " 'PLATEAU_FACTOR': 0.9,\n",
      " 'PLATEAU_PATIENCE': 0,\n",
      " 'PLAT_EPOCHS_WARMUP': 999,\n",
      " 'SHORT_UNITS': 96,\n",
      " 'TRAIN_BATCH': 32,\n",
      " 'TRAIN_PREFETCH_FACTOR': 1,\n",
      " 'T_0': 60,\n",
      " 'T_MULT': 1,\n",
      " 'VAL_BATCH': 1,\n",
      " 'WEIGHT_DECAY': 0.0001}\n"
     ]
    },
    {
     "data": {
      "image/png": "[encoded data removed]",
      "text/plain": [
       "<PIL.PngImagePlugin.PngImageFile image mode=RGBA size=660x440>"
      ]
     },
     "metadata": {},
     "output_type": "display_data"
    },
    {
     "data": {
      "text/plain": [
       "DualMemoryLSTM(\n",
       "  (short_lstm): LSTM(13, 96, batch_first=True)\n",
       "  (attn): MultiheadAttention(\n",
       "    (out_proj): NonDynamicallyQuantizableLinear(in_features=96, out_features=96, bias=True)\n",
       "  )\n",
       "  (do_short): Dropout(p=0.2399271376034191, inplace=False)\n",
       "  (ln_short): LayerNorm((96,), eps=1e-05, elementwise_affine=True)\n",
       "  (long_lstm): LSTM(96, 128, batch_first=True)\n",
       "  (do_long): Dropout(p=0.2549328387263775, inplace=False)\n",
       "  (ln_long): LayerNorm((128,), eps=1e-05, elementwise_affine=True)\n",
       "  (pred): Linear(in_features=128, out_features=1, bias=True)\n",
       ")"
      ]
     },
     "execution_count": 4,
     "metadata": {},
     "output_type": "execute_result"
    }
   ],
   "source": [
    "# Load the entire model object (architecture + weights)# 1) load your checkpoint dict\n",
    "ckpt = torch.load(params.model_path, map_location=device, weights_only=False)\n",
    "\n",
    "# 2) grab the full model object you saved\n",
    "model_best = ckpt[\"model_obj\"]\n",
    "\n",
    "# 3) move to device and set eval mode\n",
    "model_best = model_best.to(device).eval()\n",
    "\n",
    "# 4) show parameters, training plot, and model\n",
    "saved_hparams = ckpt[\"hparams\"]\n",
    "pprint(saved_hparams)\n",
    "\n",
    "png_bytes = ckpt.get(\"train_plot_png\")\n",
    "img = Image.open(io.BytesIO(png_bytes))\n",
    "disp.display(img)\n",
    "\n",
    "model_best\n"
   ]
  },
  {
   "cell_type": "code",
   "execution_count": 5,
   "id": "c93385fa-870a-4259-ad0c-05d68180afcf",
   "metadata": {},
   "outputs": [
    {
     "name": "stdout",
     "output_type": "stream",
     "text": [
      "executing <build_lstm_tensors>...\n",
      "executing <chronological_split>...\n",
      "executing <split_to_day_datasets>...\n",
      "▶️ Entered split_to_day_datasets\n",
      "1) building weekday arrays\n",
      "   Weekdays counts → tr=1013805, val=211554, te=215642\n",
      "2) moving all splits to CPU\n",
      "   CPU casts done\n",
      "3) zero-bas­ing day_id for val & test\n",
      "   val_day_id ∈ [0..413], total days=414\n",
      "   te_day_id  ∈ [0..421], total days=422\n",
      "4) instantiating DayWindowDatasets\n",
      "   ds_tr days: 1984\n",
      "   ds_val days: 414\n",
      "   ds_te days: 422\n",
      "5) building DataLoaders\n",
      "   train_loader ready\n",
      "   val_loader ready\n",
      "   test_loader ready\n",
      "dataloaders generated!\n"
     ]
    }
   ],
   "source": [
    "print('executing <build_lstm_tensors>...')\n",
    "X, y, raw_close, raw_bid, raw_ask = models.build_lstm_tensors(\n",
    "    df=df_feat,\n",
    "    look_back=look_back,\n",
    "    features_cols=params.features_cols_tick,\n",
    "    label_col=params.label_col,\n",
    "    regular_start=regular_start_pred \n",
    ")\n",
    "\n",
    "print('executing <chronological_split>...')\n",
    "(X_tr, y_tr), \\\n",
    "(X_val, y_val), \\\n",
    "(X_te, y_te, raw_close_te, raw_bid_te, raw_ask_te), \\\n",
    "samples_per_day, day_id_tr, day_id_val, day_id_te = models.chronological_split(\n",
    "    X, y, raw_close, raw_bid, raw_ask, df_feat,\n",
    "    look_back    = look_back,\n",
    "    regular_start=regular_start_pred, \n",
    "    train_prop   = params.train_prop,\n",
    "    val_prop     = params.val_prop,\n",
    "    train_batch  = params.hparams['TRAIN_BATCH']\n",
    ")\n",
    "\n",
    "print('executing <split_to_day_datasets>...')\n",
    "train_loader, val_loader, test_loader = models.split_to_day_datasets(\n",
    "    # Training split arrays (from chronological_split)\n",
    "    X_tr, y_tr, day_id_tr,\n",
    "    # Validation split arrays\n",
    "    X_val, y_val, day_id_val,\n",
    "    # Test split arrays + raw prices for post‐tracking\n",
    "    X_te, y_te, day_id_te, raw_close_te, raw_bid_te, raw_ask_te,\n",
    "    # Original minute‐bar DataFrame for weekday mapping\n",
    "    df=df_feat,\n",
    "    train_batch=params.hparams['TRAIN_BATCH'],\n",
    "    train_workers=params.hparams['NUM_WORKERS']\n",
    ")\n",
    "\n",
    "print('dataloaders generated!')"
   ]
  },
  {
   "cell_type": "code",
   "execution_count": 6,
   "id": "9cc3bb61-a03f-466d-9fde-ed65753fc6b2",
   "metadata": {},
   "outputs": [
    {
     "name": "stdout",
     "output_type": "stream",
     "text": [
      "Val zero‐forecast baseline RMSE  = 0.46607\n",
      "Test zero‐forecast baseline RMSE = 0.51381\n"
     ]
    }
   ],
   "source": [
    "# zero‐forecast baseline on val vs test\n",
    "# √( mean( (yᵢ – 0)² ) )\n",
    "\n",
    "val_baseline  = models.naive_rmse(val_loader)\n",
    "test_baseline = models.naive_rmse(test_loader)\n",
    "\n",
    "print(f\"Val zero‐forecast baseline RMSE  = {val_baseline:.5f}\")\n",
    "print(f\"Test zero‐forecast baseline RMSE = {test_baseline:.5f}\")"
   ]
  },
  {
   "cell_type": "code",
   "execution_count": 7,
   "id": "ce154412-6773-4774-bc9f-7bc5f74f981d",
   "metadata": {},
   "outputs": [
    {
     "name": "stdout",
     "output_type": "stream",
     "text": [
      "std val: 0.30977806\n",
      "std test: 0.32248157\n"
     ]
    },
    {
     "data": {
      "image/png": "[encoded data removed]",
      "text/plain": [
       "<Figure size 640x480 with 1 Axes>"
      ]
     },
     "metadata": {},
     "output_type": "display_data"
    }
   ],
   "source": [
    "# to confirm the baseline proportions, calculate the STD\n",
    "# σ = √( mean( (yᵢ – ȳ)² ) )\n",
    "\n",
    "y_vals = np.concatenate([batch[1].view(-1).numpy()\n",
    "                         for batch in val_loader])\n",
    "y_tes  = np.concatenate([batch[1].view(-1).numpy()\n",
    "                         for batch in test_loader])\n",
    "print(\"std val:\", np.std(y_vals))\n",
    "print(\"std test:\", np.std(y_tes))\n",
    "\n",
    "plt.hist(y_vals, bins=100, alpha=0.5, label=\"val\")\n",
    "plt.hist(y_tes,  bins=100, alpha=0.5, label=\"test\")\n",
    "plt.legend(); plt.show()"
   ]
  },
  {
   "cell_type": "code",
   "execution_count": 8,
   "id": "2e3fd008-4a5d-44fd-9bb4-c4e70e4c8ea0",
   "metadata": {},
   "outputs": [],
   "source": [
    "def evaluate_model(\n",
    "    model: torch.nn.Module,\n",
    "    loader: torch.utils.data.DataLoader,\n",
    "    device: torch.device,\n",
    "    split_name: str\n",
    ") -> Tuple[float, np.ndarray]:\n",
    "    \"\"\"\n",
    "    Fast per-day RMSE + preds, exactly matching  val‐phase logic:\n",
    "\n",
    "    • Expects each batch from `loader` to be a tuple of at least\n",
    "      (xb_batch, yb_batch, day_id_batch, …). We only use the first 3.\n",
    "    • xb_batch: Tensor(B, W, look_back, F)\n",
    "    • yb_batch: Tensor(B, W)\n",
    "    • day_id_batch: Tensor(B,) or (B, W) weekday/day‐id\n",
    "    \"\"\"\n",
    "\n",
    "    model.to(device).eval()\n",
    "    model.h_short = model.h_long = None\n",
    "\n",
    "    prev_day_id   = None\n",
    "    total_sq_err  = 0.0\n",
    "    total_windows = 0\n",
    "    all_preds     = []\n",
    "\n",
    "    with torch.no_grad():\n",
    "        for batch in tqdm(loader, desc=split_name, unit=\"batch\"):\n",
    "            # grab only the first three outputs, ignore raw_close/raw_bid/etc.\n",
    "            xb_batch, yb_batch, day_id_batch = batch[:3]\n",
    "\n",
    "            # move to device once\n",
    "            xb_batch     = xb_batch.to(device, non_blocking=True)\n",
    "            yb_batch     = yb_batch.to(device, non_blocking=True)\n",
    "            day_id_batch = day_id_batch.to(device, non_blocking=True)\n",
    "\n",
    "            # if we got one day_id per window, reduce to one/day\n",
    "            if day_id_batch.dim() > 1:\n",
    "                day_id_batch = day_id_batch[:, 0]\n",
    "\n",
    "            B, W = xb_batch.shape[0], xb_batch.shape[1]\n",
    "\n",
    "            for i in range(B):\n",
    "                x_day  = xb_batch[i]             # (W, look_back, F)\n",
    "                y_day  = yb_batch[i].view(-1)    # (W,)\n",
    "                day_id = int(day_id_batch[i].item())\n",
    "\n",
    "                # reset LSTM states exactly as in val loop\n",
    "                model.reset_short()\n",
    "                if prev_day_id is not None and day_id < prev_day_id:\n",
    "                    model.reset_long()\n",
    "                prev_day_id = day_id\n",
    "\n",
    "                out      = model(x_day)          # (W, look_back, 1)\n",
    "                pred_day = out[:, -1, 0]         # (W,)\n",
    "\n",
    "                total_sq_err  += (pred_day - y_day).pow(2).sum().item()\n",
    "                total_windows += y_day.numel()\n",
    "                all_preds.append(pred_day.cpu().numpy())\n",
    "\n",
    "    rmse  = math.sqrt(total_sq_err / total_windows)\n",
    "    preds = np.concatenate(all_preds, axis=0)\n",
    "\n",
    "    print(f\"\\n{split_name} RMSE over {total_windows} windows = {rmse:.5f}\")\n",
    "    return rmse, preds\n"
   ]
  },
  {
   "cell_type": "code",
   "execution_count": 9,
   "id": "d557c7f6-8653-4b5c-afc2-e16ba8daf319",
   "metadata": {},
   "outputs": [
    {
     "data": {
      "application/vnd.jupyter.widget-view+json": {
       "model_id": "faa4256cc6e74a56b4236d03ca27471a",
       "version_major": 2,
       "version_minor": 0
      },
      "text/plain": [
       "Train:   0%|          | 0/62 [00:00<?, ?batch/s]"
      ]
     },
     "metadata": {},
     "output_type": "display_data"
    },
    {
     "name": "stdout",
     "output_type": "stream",
     "text": [
      "\n",
      "Train RMSE over 1013824 windows = 0.28489\n"
     ]
    },
    {
     "data": {
      "application/vnd.jupyter.widget-view+json": {
       "model_id": "31b3a5ca8b0746b5bbe3023d4c29591b",
       "version_major": 2,
       "version_minor": 0
      },
      "text/plain": [
       "Validation:   0%|          | 0/414 [00:00<?, ?batch/s]"
      ]
     },
     "metadata": {},
     "output_type": "display_data"
    },
    {
     "name": "stdout",
     "output_type": "stream",
     "text": [
      "\n",
      "Validation RMSE over 211554 windows = 0.24320\n"
     ]
    },
    {
     "data": {
      "application/vnd.jupyter.widget-view+json": {
       "model_id": "2d371a088de244598079adcd53d449ad",
       "version_major": 2,
       "version_minor": 0
      },
      "text/plain": [
       "Test:   0%|          | 0/422 [00:00<?, ?batch/s]"
      ]
     },
     "metadata": {},
     "output_type": "display_data"
    },
    {
     "name": "stdout",
     "output_type": "stream",
     "text": [
      "\n",
      "Test RMSE over 215642 windows = 0.26929\n",
      "Train preds: 1013824\n",
      "Val   preds: 211554\n",
      "Test  preds: 215642\n"
     ]
    }
   ],
   "source": [
    "train_rmse, train_preds = evaluate_model(\n",
    "    model_best, train_loader, device,\n",
    "    split_name=\"Train\"\n",
    ")\n",
    "val_rmse, val_preds     = evaluate_model(\n",
    "    model_best, val_loader,   device,\n",
    "    split_name=\"Validation\"\n",
    ")\n",
    "test_rmse, test_preds   = evaluate_model(\n",
    "    model_best, test_loader,  device,\n",
    "    split_name=\"Test\"\n",
    ")\n",
    "\n",
    "print(\"Train preds:\", len(train_preds))\n",
    "print(\"Val   preds:\", len(val_preds))\n",
    "print(\"Test  preds:\", len(test_preds))"
   ]
  },
  {
   "cell_type": "code",
   "execution_count": 10,
   "id": "562d6d29-9f71-45ac-b17a-f6180ff2c4b1",
   "metadata": {},
   "outputs": [],
   "source": [
    "def add_pred_and_split(\n",
    "    df: pd.DataFrame,\n",
    "    train_preds: np.ndarray,\n",
    "    val_preds: np.ndarray,\n",
    "    test_preds: np.ndarray,\n",
    "    day_id_tr: np.ndarray,\n",
    "    day_id_val: np.ndarray,\n",
    "    day_id_te: np.ndarray\n",
    ") -> Tuple[pd.DataFrame, pd.DataFrame]:\n",
    "    \"\"\"\n",
    "    Stamp pred_signal for every bar from regular_start_pred onward,\n",
    "    then simulate actions from regular_start\n",
    "    \"\"\"\n",
    "    # 1) Prepare the output DataFrame\n",
    "    df_pred = df.copy()\n",
    "    df_pred[\"pred_signal\"] = np.nan\n",
    "    df_pred[\"pred_action\"] = 0\n",
    "\n",
    "    # 2) Map day-id arrays → calendar dates\n",
    "    all_days = sorted(df_pred.index.normalize().unique())\n",
    "    tr_days  = [all_days[i] for i in np.unique(day_id_tr).astype(int)]\n",
    "    val_days = [all_days[i] for i in np.unique(day_id_val).astype(int)]\n",
    "    te_days  = [all_days[i] for i in np.unique(day_id_te).astype(int)]\n",
    "\n",
    "    # 3) Generic function to stamp preds on each split\n",
    "    def stamp_split(days, preds, name):\n",
    "        mask = (\n",
    "            df_pred.index.normalize().isin(days)\n",
    "            & (df_pred.index.time >= regular_start_pred)\n",
    "        )\n",
    "        idx = df_pred.loc[mask].index\n",
    "        if len(idx) != len(preds):\n",
    "            raise ValueError(\n",
    "                f\"{name}: expected {len(idx)} slots, got {len(preds)} preds\"\n",
    "            )\n",
    "        df_pred.loc[idx, \"pred_signal\"] = preds\n",
    "\n",
    "    # 4) Stamp Train, Val, Test\n",
    "    stamp_split(tr_days, train_preds, name=\"Train\")\n",
    "    stamp_split(val_days, val_preds,   name=\"Val\")\n",
    "    stamp_split(te_days,  test_preds,  name=\"Test\")\n",
    "\n",
    "    train_val_days = set(tr_days + val_days)\n",
    "    df_train_val  = df_pred[df_pred.index.normalize().isin(train_val_days)].copy()\n",
    "    df_test       = df_pred[df_pred.index.normalize().isin(te_days)].copy()\n",
    "\n",
    "    return df_train_val, train_val_days, df_test, te_days\n"
   ]
  },
  {
   "cell_type": "code",
   "execution_count": 11,
   "id": "3ba6b01a-609f-4680-ae10-cbce10f0eaf4",
   "metadata": {},
   "outputs": [
    {
     "data": {
      "text/html": [
       "<div>\n",
       "<style scoped>\n",
       "    .dataframe tbody tr th:only-of-type {\n",
       "        vertical-align: middle;\n",
       "    }\n",
       "\n",
       "    .dataframe tbody tr th {\n",
       "        vertical-align: top;\n",
       "    }\n",
       "\n",
       "    .dataframe thead th {\n",
       "        text-align: right;\n",
       "    }\n",
       "</style>\n",
       "<table border=\"1\" class=\"dataframe\">\n",
       "  <thead>\n",
       "    <tr style=\"text-align: right;\">\n",
       "      <th></th>\n",
       "      <th>open</th>\n",
       "      <th>high</th>\n",
       "      <th>low</th>\n",
       "      <th>close</th>\n",
       "      <th>atr_14</th>\n",
       "      <th>vwap_dev</th>\n",
       "      <th>bb_width_20</th>\n",
       "      <th>ma_5</th>\n",
       "      <th>ma_20</th>\n",
       "      <th>macd_12_26</th>\n",
       "      <th>obv</th>\n",
       "      <th>in_trading</th>\n",
       "      <th>hour</th>\n",
       "      <th>bid</th>\n",
       "      <th>ask</th>\n",
       "      <th>signal_smooth</th>\n",
       "      <th>pred_signal</th>\n",
       "      <th>pred_action</th>\n",
       "    </tr>\n",
       "  </thead>\n",
       "  <tbody>\n",
       "    <tr>\n",
       "      <th>2014-04-03 10:49:00</th>\n",
       "      <td>28.650</td>\n",
       "      <td>28.65</td>\n",
       "      <td>28.650</td>\n",
       "      <td>28.650</td>\n",
       "      <td>0.000000</td>\n",
       "      <td>1.240040e-16</td>\n",
       "      <td>0.000000</td>\n",
       "      <td>28.650</td>\n",
       "      <td>28.65000</td>\n",
       "      <td>0.000000</td>\n",
       "      <td>0.000000e+00</td>\n",
       "      <td>0</td>\n",
       "      <td>10</td>\n",
       "      <td>28.641405</td>\n",
       "      <td>28.658595</td>\n",
       "      <td>0.131792</td>\n",
       "      <td>NaN</td>\n",
       "      <td>0</td>\n",
       "    </tr>\n",
       "    <tr>\n",
       "      <th>2014-04-03 10:50:00</th>\n",
       "      <td>28.650</td>\n",
       "      <td>28.65</td>\n",
       "      <td>28.650</td>\n",
       "      <td>28.650</td>\n",
       "      <td>0.000000</td>\n",
       "      <td>1.240040e-16</td>\n",
       "      <td>0.000000</td>\n",
       "      <td>28.650</td>\n",
       "      <td>28.65000</td>\n",
       "      <td>0.000000</td>\n",
       "      <td>0.000000e+00</td>\n",
       "      <td>0</td>\n",
       "      <td>10</td>\n",
       "      <td>28.641405</td>\n",
       "      <td>28.658595</td>\n",
       "      <td>0.132326</td>\n",
       "      <td>NaN</td>\n",
       "      <td>0</td>\n",
       "    </tr>\n",
       "    <tr>\n",
       "      <th>2014-04-03 10:51:00</th>\n",
       "      <td>28.650</td>\n",
       "      <td>28.65</td>\n",
       "      <td>28.650</td>\n",
       "      <td>28.650</td>\n",
       "      <td>0.000000</td>\n",
       "      <td>1.240040e-16</td>\n",
       "      <td>0.000000</td>\n",
       "      <td>28.650</td>\n",
       "      <td>28.65000</td>\n",
       "      <td>0.000000</td>\n",
       "      <td>0.000000e+00</td>\n",
       "      <td>0</td>\n",
       "      <td>10</td>\n",
       "      <td>28.641405</td>\n",
       "      <td>28.658595</td>\n",
       "      <td>0.132862</td>\n",
       "      <td>NaN</td>\n",
       "      <td>0</td>\n",
       "    </tr>\n",
       "    <tr>\n",
       "      <th>2014-04-03 10:52:00</th>\n",
       "      <td>28.650</td>\n",
       "      <td>28.65</td>\n",
       "      <td>28.650</td>\n",
       "      <td>28.650</td>\n",
       "      <td>0.000000</td>\n",
       "      <td>1.240040e-16</td>\n",
       "      <td>0.000000</td>\n",
       "      <td>28.650</td>\n",
       "      <td>28.65000</td>\n",
       "      <td>0.000000</td>\n",
       "      <td>0.000000e+00</td>\n",
       "      <td>0</td>\n",
       "      <td>10</td>\n",
       "      <td>28.641405</td>\n",
       "      <td>28.658595</td>\n",
       "      <td>0.133399</td>\n",
       "      <td>NaN</td>\n",
       "      <td>0</td>\n",
       "    </tr>\n",
       "    <tr>\n",
       "      <th>2014-04-03 10:53:00</th>\n",
       "      <td>28.650</td>\n",
       "      <td>28.65</td>\n",
       "      <td>28.650</td>\n",
       "      <td>28.650</td>\n",
       "      <td>0.000000</td>\n",
       "      <td>1.240040e-16</td>\n",
       "      <td>0.000000</td>\n",
       "      <td>28.650</td>\n",
       "      <td>28.65000</td>\n",
       "      <td>0.000000</td>\n",
       "      <td>0.000000e+00</td>\n",
       "      <td>0</td>\n",
       "      <td>10</td>\n",
       "      <td>28.641405</td>\n",
       "      <td>28.658595</td>\n",
       "      <td>0.133939</td>\n",
       "      <td>NaN</td>\n",
       "      <td>0</td>\n",
       "    </tr>\n",
       "    <tr>\n",
       "      <th>...</th>\n",
       "      <td>...</td>\n",
       "      <td>...</td>\n",
       "      <td>...</td>\n",
       "      <td>...</td>\n",
       "      <td>...</td>\n",
       "      <td>...</td>\n",
       "      <td>...</td>\n",
       "      <td>...</td>\n",
       "      <td>...</td>\n",
       "      <td>...</td>\n",
       "      <td>...</td>\n",
       "      <td>...</td>\n",
       "      <td>...</td>\n",
       "      <td>...</td>\n",
       "      <td>...</td>\n",
       "      <td>...</td>\n",
       "      <td>...</td>\n",
       "      <td>...</td>\n",
       "    </tr>\n",
       "    <tr>\n",
       "      <th>2023-10-11 20:56:00</th>\n",
       "      <td>140.510</td>\n",
       "      <td>140.62</td>\n",
       "      <td>140.505</td>\n",
       "      <td>140.610</td>\n",
       "      <td>0.105893</td>\n",
       "      <td>1.165021e+00</td>\n",
       "      <td>0.002115</td>\n",
       "      <td>140.546</td>\n",
       "      <td>140.52549</td>\n",
       "      <td>0.040273</td>\n",
       "      <td>3.336946e+08</td>\n",
       "      <td>1</td>\n",
       "      <td>20</td>\n",
       "      <td>140.567800</td>\n",
       "      <td>140.652200</td>\n",
       "      <td>0.000000</td>\n",
       "      <td>0.315324</td>\n",
       "      <td>0</td>\n",
       "    </tr>\n",
       "    <tr>\n",
       "      <th>2023-10-11 20:57:00</th>\n",
       "      <td>140.610</td>\n",
       "      <td>140.66</td>\n",
       "      <td>140.530</td>\n",
       "      <td>140.550</td>\n",
       "      <td>0.112493</td>\n",
       "      <td>1.164094e+00</td>\n",
       "      <td>0.001804</td>\n",
       "      <td>140.544</td>\n",
       "      <td>140.53499</td>\n",
       "      <td>0.038238</td>\n",
       "      <td>3.335539e+08</td>\n",
       "      <td>1</td>\n",
       "      <td>20</td>\n",
       "      <td>140.507800</td>\n",
       "      <td>140.592200</td>\n",
       "      <td>0.000000</td>\n",
       "      <td>0.315321</td>\n",
       "      <td>0</td>\n",
       "    </tr>\n",
       "    <tr>\n",
       "      <th>2023-10-11 20:58:00</th>\n",
       "      <td>140.550</td>\n",
       "      <td>140.60</td>\n",
       "      <td>140.530</td>\n",
       "      <td>140.585</td>\n",
       "      <td>0.111071</td>\n",
       "      <td>1.164628e+00</td>\n",
       "      <td>0.001544</td>\n",
       "      <td>140.548</td>\n",
       "      <td>140.54474</td>\n",
       "      <td>0.039000</td>\n",
       "      <td>3.336994e+08</td>\n",
       "      <td>1</td>\n",
       "      <td>20</td>\n",
       "      <td>140.542800</td>\n",
       "      <td>140.627200</td>\n",
       "      <td>0.000000</td>\n",
       "      <td>0.314707</td>\n",
       "      <td>0</td>\n",
       "    </tr>\n",
       "    <tr>\n",
       "      <th>2023-10-11 20:59:00</th>\n",
       "      <td>140.580</td>\n",
       "      <td>140.62</td>\n",
       "      <td>140.520</td>\n",
       "      <td>140.565</td>\n",
       "      <td>0.112571</td>\n",
       "      <td>1.164309e+00</td>\n",
       "      <td>0.001464</td>\n",
       "      <td>140.564</td>\n",
       "      <td>140.54949</td>\n",
       "      <td>0.037557</td>\n",
       "      <td>3.332814e+08</td>\n",
       "      <td>1</td>\n",
       "      <td>20</td>\n",
       "      <td>140.522800</td>\n",
       "      <td>140.607200</td>\n",
       "      <td>0.000000</td>\n",
       "      <td>0.313636</td>\n",
       "      <td>0</td>\n",
       "    </tr>\n",
       "    <tr>\n",
       "      <th>2023-10-11 21:00:00</th>\n",
       "      <td>140.565</td>\n",
       "      <td>140.62</td>\n",
       "      <td>140.500</td>\n",
       "      <td>140.570</td>\n",
       "      <td>0.115429</td>\n",
       "      <td>1.164235e+00</td>\n",
       "      <td>0.001451</td>\n",
       "      <td>140.576</td>\n",
       "      <td>140.55224</td>\n",
       "      <td>0.036397</td>\n",
       "      <td>3.388172e+08</td>\n",
       "      <td>0</td>\n",
       "      <td>21</td>\n",
       "      <td>140.527800</td>\n",
       "      <td>140.612200</td>\n",
       "      <td>0.000000</td>\n",
       "      <td>0.312544</td>\n",
       "      <td>0</td>\n",
       "    </tr>\n",
       "  </tbody>\n",
       "</table>\n",
       "<p>1513119 rows × 18 columns</p>\n",
       "</div>"
      ],
      "text/plain": [
       "                        open    high      low    close    atr_14  \\\n",
       "2014-04-03 10:49:00   28.650   28.65   28.650   28.650  0.000000   \n",
       "2014-04-03 10:50:00   28.650   28.65   28.650   28.650  0.000000   \n",
       "2014-04-03 10:51:00   28.650   28.65   28.650   28.650  0.000000   \n",
       "2014-04-03 10:52:00   28.650   28.65   28.650   28.650  0.000000   \n",
       "2014-04-03 10:53:00   28.650   28.65   28.650   28.650  0.000000   \n",
       "...                      ...     ...      ...      ...       ...   \n",
       "2023-10-11 20:56:00  140.510  140.62  140.505  140.610  0.105893   \n",
       "2023-10-11 20:57:00  140.610  140.66  140.530  140.550  0.112493   \n",
       "2023-10-11 20:58:00  140.550  140.60  140.530  140.585  0.111071   \n",
       "2023-10-11 20:59:00  140.580  140.62  140.520  140.565  0.112571   \n",
       "2023-10-11 21:00:00  140.565  140.62  140.500  140.570  0.115429   \n",
       "\n",
       "                         vwap_dev  bb_width_20     ma_5      ma_20  \\\n",
       "2014-04-03 10:49:00  1.240040e-16     0.000000   28.650   28.65000   \n",
       "2014-04-03 10:50:00  1.240040e-16     0.000000   28.650   28.65000   \n",
       "2014-04-03 10:51:00  1.240040e-16     0.000000   28.650   28.65000   \n",
       "2014-04-03 10:52:00  1.240040e-16     0.000000   28.650   28.65000   \n",
       "2014-04-03 10:53:00  1.240040e-16     0.000000   28.650   28.65000   \n",
       "...                           ...          ...      ...        ...   \n",
       "2023-10-11 20:56:00  1.165021e+00     0.002115  140.546  140.52549   \n",
       "2023-10-11 20:57:00  1.164094e+00     0.001804  140.544  140.53499   \n",
       "2023-10-11 20:58:00  1.164628e+00     0.001544  140.548  140.54474   \n",
       "2023-10-11 20:59:00  1.164309e+00     0.001464  140.564  140.54949   \n",
       "2023-10-11 21:00:00  1.164235e+00     0.001451  140.576  140.55224   \n",
       "\n",
       "                     macd_12_26           obv  in_trading  hour         bid  \\\n",
       "2014-04-03 10:49:00    0.000000  0.000000e+00           0    10   28.641405   \n",
       "2014-04-03 10:50:00    0.000000  0.000000e+00           0    10   28.641405   \n",
       "2014-04-03 10:51:00    0.000000  0.000000e+00           0    10   28.641405   \n",
       "2014-04-03 10:52:00    0.000000  0.000000e+00           0    10   28.641405   \n",
       "2014-04-03 10:53:00    0.000000  0.000000e+00           0    10   28.641405   \n",
       "...                         ...           ...         ...   ...         ...   \n",
       "2023-10-11 20:56:00    0.040273  3.336946e+08           1    20  140.567800   \n",
       "2023-10-11 20:57:00    0.038238  3.335539e+08           1    20  140.507800   \n",
       "2023-10-11 20:58:00    0.039000  3.336994e+08           1    20  140.542800   \n",
       "2023-10-11 20:59:00    0.037557  3.332814e+08           1    20  140.522800   \n",
       "2023-10-11 21:00:00    0.036397  3.388172e+08           0    21  140.527800   \n",
       "\n",
       "                            ask  signal_smooth  pred_signal  pred_action  \n",
       "2014-04-03 10:49:00   28.658595       0.131792          NaN            0  \n",
       "2014-04-03 10:50:00   28.658595       0.132326          NaN            0  \n",
       "2014-04-03 10:51:00   28.658595       0.132862          NaN            0  \n",
       "2014-04-03 10:52:00   28.658595       0.133399          NaN            0  \n",
       "2014-04-03 10:53:00   28.658595       0.133939          NaN            0  \n",
       "...                         ...            ...          ...          ...  \n",
       "2023-10-11 20:56:00  140.652200       0.000000     0.315324            0  \n",
       "2023-10-11 20:57:00  140.592200       0.000000     0.315321            0  \n",
       "2023-10-11 20:58:00  140.627200       0.000000     0.314707            0  \n",
       "2023-10-11 20:59:00  140.607200       0.000000     0.313636            0  \n",
       "2023-10-11 21:00:00  140.612200       0.000000     0.312544            0  \n",
       "\n",
       "[1513119 rows x 18 columns]"
      ]
     },
     "execution_count": 11,
     "metadata": {},
     "output_type": "execute_result"
    }
   ],
   "source": [
    "df_train_val, train_val_days, df_test, te_days = add_pred_and_split(\n",
    "                                                                    df=df_feat, \n",
    "                                                                    train_preds=train_preds,\n",
    "                                                                    val_preds=val_preds,\n",
    "                                                                    test_preds=test_preds, \n",
    "                                                                    day_id_tr=day_id_tr,\n",
    "                                                                    day_id_val=day_id_val,\n",
    "                                                                    day_id_te=day_id_te\n",
    "                                                                    )\n",
    "\n",
    "df_train_val"
   ]
  },
  {
   "cell_type": "code",
   "execution_count": 12,
   "id": "1e9c482d-5e53-456b-98a8-bdcec7065edc",
   "metadata": {},
   "outputs": [],
   "source": [
    "# raw NumPy arrays\n",
    "signals    = df_train_val[\"pred_signal\"].values.astype(float)\n",
    "closes     = df_train_val[\"close\"].values.astype(float)\n",
    "bids       = df_train_val[\"bid\"].values.astype(float)\n",
    "asks       = df_train_val[\"ask\"].values.astype(float)\n",
    "timestamps = df_train_val.index.values.astype(\"datetime64[ns]\")\n",
    "\n",
    "# map each day → positions\n",
    "day_positions = {\n",
    "    day: np.flatnonzero(df_train_val.index.normalize().values == day)\n",
    "    for day in train_val_days\n",
    "}\n",
    "\n",
    "# PRE-BUILD each day’s mini-DataFrame once, outside the objective\n",
    "day_dfs = {\n",
    "    day: pd.DataFrame({\n",
    "        \"pred_signal\": signals[idxs],\n",
    "        \"close\"      : closes[idxs]\n",
    "    }, index=pd.DatetimeIndex(timestamps[idxs]))\n",
    "    for day, idxs in day_positions.items()\n",
    "}\n",
    "\n",
    "# master DataFrame with empty action col\n",
    "df_master = pd.DataFrame({\n",
    "    \"pred_signal\": signals,\n",
    "    \"close\"      : closes,\n",
    "    \"bid\"        : bids,\n",
    "    \"ask\"        : asks,\n",
    "}, index=pd.DatetimeIndex(timestamps))\n",
    "df_master[\"pred_action\"] = 0\n",
    "\n",
    "\n"
   ]
  },
  {
   "cell_type": "code",
   "execution_count": 13,
   "id": "3637fbaf-8ede-4ab4-a2d3-2adedb3bcdd0",
   "metadata": {},
   "outputs": [],
   "source": [
    "\n",
    "def objective(trial):\n",
    "    # —————— 1) Clean slate for this trial ——————\n",
    "    df_master[\"pred_action\"].values[:] = 0\n",
    "\n",
    "    # —————— 2) Hyper-parameter suggestions ——————\n",
    "    pred_threshold     = trial.suggest_float(\"pred_threshold\",     0.03, 0.66)\n",
    "    trailing_stop_pred = trial.suggest_float(\"trailing_stop_pred\", 0.01, 0.5)\n",
    "\n",
    "    # —————— 3) Generate actions per day ——————\n",
    "    print('-----------------------------------')\n",
    "    print(\"Generate actions per day...\")\n",
    "    for day, idxs in day_positions.items():\n",
    "        day_df = day_dfs[day]\n",
    "        day_act = trades.generate_trade_actions(\n",
    "            df=day_df,\n",
    "            col_signal=\"pred_signal\",\n",
    "            col_action=\"pred_action\",\n",
    "            buy_threshold=pred_threshold,\n",
    "            trailing_stop_thresh=trailing_stop_pred,\n",
    "            regular_start=params.regular_start\n",
    "        )[\"pred_action\"].fillna(0).astype(np.int8).values\n",
    "        df_master[\"pred_action\"].values[idxs] = day_act\n",
    "\n",
    "    # —————— 4) Simulate & score ——————\n",
    "    print(\"Simulate and compute average daily P&L...\")\n",
    "    sim_results = trades.simulate_trading(\n",
    "        results_by_day_sign=df_master,\n",
    "        col_action=\"pred_action\",\n",
    "        regular_start=params.regular_start,\n",
    "        regular_end=params.regular_end,\n",
    "        ticker=params.ticker\n",
    "    )\n",
    "\n",
    "    # — include all actual trading days in the average —\n",
    "    all_stats  = [stats for _, (_, _, stats) in sim_results.items()]\n",
    "\n",
    "    # free up every df_sim and trades_list before proceeding\n",
    "    for _, (df_sim, trades_list, _) in sim_results.items():\n",
    "        del df_sim, trades_list\n",
    "    del sim_results\n",
    "    gc.collect()\n",
    "    \n",
    "    num_trade_days  = trades.count_trading_days(\n",
    "        df_master, params.regular_start, params.regular_end\n",
    "    )\n",
    "\n",
    "    daily_returns = [s[\"Strategy Return ($)\"] for s in all_stats]\n",
    "    total_pnl     = float(np.sum(daily_returns))\n",
    "    avg_daily_pnl = total_pnl / num_trade_days if num_trade_days else 0.0\n",
    "\n",
    "    total_trades  = sum(len(s[\"Trades Returns ($)\"]) for s in all_stats)\n",
    "    avg_per_trade = total_pnl / total_trades if total_trades else 0.0\n",
    "\n",
    "    print(f\"→ Total return across {num_trade_days} trading days: ${total_pnl:.2f}\")\n",
    "    print(f\"→ Avg daily return (all days)             : ${avg_daily_pnl:.4f}\")\n",
    "    print(f\"→ Total trades                            : {total_trades}\")\n",
    "    print(f\"→ Avg return per trade                    : ${avg_per_trade:.4f}\\n\")\n",
    "\n",
    "    return avg_daily_pnl\n"
   ]
  },
  {
   "cell_type": "code",
   "execution_count": 14,
   "id": "bd926c51-3501-42ab-897f-6496b3eec1f5",
   "metadata": {},
   "outputs": [
    {
     "name": "stderr",
     "output_type": "stream",
     "text": [
      "[I 2025-08-03 18:21:12,108] A new study created in RDB with name: no-name-f235f1fa-1df9-4c28-af2f-e6ac19c9a1da\n"
     ]
    },
    {
     "name": "stdout",
     "output_type": "stream",
     "text": [
      "-----------------------------------\n",
      "Generate actions per day...\n",
      "Simulate and compute average daily P&L...\n",
      "→ Total return across 2398 trading days: $-49.39\n",
      "→ Avg daily return (all days)             : $-0.0206\n",
      "→ Total trades                            : 2398\n",
      "→ Avg return per trade                    : $-0.0206\n",
      "\n"
     ]
    },
    {
     "name": "stderr",
     "output_type": "stream",
     "text": [
      "[I 2025-08-03 18:22:11,037] Trial 0 finished with value: -0.02059466221851543 and parameters: {'pred_threshold': 0.07434370620961735, 'trailing_stop_pred': 0.4068587789525298}. Best is trial 0 with value: -0.02059466221851543.\n"
     ]
    },
    {
     "data": {
      "image/png": "[encoded data removed]",
      "text/plain": [
       "<Figure size 700x300 with 1 Axes>"
      ]
     },
     "metadata": {},
     "output_type": "display_data"
    },
    {
     "name": "stdout",
     "output_type": "stream",
     "text": [
      "-----------------------------------\n",
      "Generate actions per day...\n",
      "Simulate and compute average daily P&L...\n",
      "→ Total return across 2398 trading days: $786.72\n",
      "→ Avg daily return (all days)             : $0.3281\n",
      "→ Total trades                            : 1893\n",
      "→ Avg return per trade                    : $0.4156\n",
      "\n"
     ]
    },
    {
     "name": "stderr",
     "output_type": "stream",
     "text": [
      "[I 2025-08-03 18:23:06,330] Trial 1 finished with value: 0.3280746455379483 and parameters: {'pred_threshold': 0.5001584090095922, 'trailing_stop_pred': 0.4933688064748365}. Best is trial 1 with value: 0.3280746455379483.\n"
     ]
    },
    {
     "name": "stdout",
     "output_type": "stream",
     "text": [
      "-----------------------------------\n",
      "Generate actions per day...\n",
      "Simulate and compute average daily P&L...\n",
      "→ Total return across 2398 trading days: $993.56\n",
      "→ Avg daily return (all days)             : $0.4143\n",
      "→ Total trades                            : 4242\n",
      "→ Avg return per trade                    : $0.2342\n",
      "\n"
     ]
    },
    {
     "name": "stderr",
     "output_type": "stream",
     "text": [
      "[I 2025-08-03 18:24:01,410] Trial 2 finished with value: 0.41433027522935784 and parameters: {'pred_threshold': 0.3758267167328019, 'trailing_stop_pred': 0.16029360007084065}. Best is trial 2 with value: 0.41433027522935784.\n"
     ]
    },
    {
     "name": "stdout",
     "output_type": "stream",
     "text": [
      "-----------------------------------\n",
      "Generate actions per day...\n",
      "Simulate and compute average daily P&L...\n",
      "→ Total return across 2398 trading days: $842.41\n",
      "→ Avg daily return (all days)             : $0.3513\n",
      "→ Total trades                            : 4861\n",
      "→ Avg return per trade                    : $0.1733\n",
      "\n"
     ]
    },
    {
     "name": "stderr",
     "output_type": "stream",
     "text": [
      "[I 2025-08-03 18:24:57,276] Trial 3 finished with value: 0.35129649708090077 and parameters: {'pred_threshold': 0.2805198309847775, 'trailing_stop_pred': 0.33646106009969506}. Best is trial 2 with value: 0.41433027522935784.\n"
     ]
    },
    {
     "name": "stdout",
     "output_type": "stream",
     "text": [
      "-----------------------------------\n",
      "Generate actions per day...\n",
      "Simulate and compute average daily P&L...\n",
      "→ Total return across 2398 trading days: $593.11\n",
      "→ Avg daily return (all days)             : $0.2473\n",
      "→ Total trades                            : 1798\n",
      "→ Avg return per trade                    : $0.3299\n",
      "\n"
     ]
    },
    {
     "name": "stderr",
     "output_type": "stream",
     "text": [
      "[I 2025-08-03 18:25:51,862] Trial 4 finished with value: 0.2473344453711426 and parameters: {'pred_threshold': 0.5773285583009206, 'trailing_stop_pred': 0.13307425067444795}. Best is trial 2 with value: 0.41433027522935784.\n"
     ]
    },
    {
     "name": "stdout",
     "output_type": "stream",
     "text": [
      "-----------------------------------\n",
      "Generate actions per day...\n",
      "Simulate and compute average daily P&L...\n",
      "→ Total return across 2398 trading days: $-49.62\n",
      "→ Avg daily return (all days)             : $-0.0207\n",
      "→ Total trades                            : 2399\n",
      "→ Avg return per trade                    : $-0.0207\n",
      "\n"
     ]
    },
    {
     "name": "stderr",
     "output_type": "stream",
     "text": [
      "[I 2025-08-03 18:26:49,074] Trial 5 finished with value: -0.020690158465387826 and parameters: {'pred_threshold': 0.14399527803245166, 'trailing_stop_pred': 0.42789129981822965}. Best is trial 2 with value: 0.41433027522935784.\n"
     ]
    },
    {
     "name": "stdout",
     "output_type": "stream",
     "text": [
      "-----------------------------------\n",
      "Generate actions per day...\n",
      "Simulate and compute average daily P&L...\n",
      "→ Total return across 2398 trading days: $859.21\n",
      "→ Avg daily return (all days)             : $0.3583\n",
      "→ Total trades                            : 4649\n",
      "→ Avg return per trade                    : $0.1848\n",
      "\n"
     ]
    },
    {
     "name": "stderr",
     "output_type": "stream",
     "text": [
      "[I 2025-08-03 18:27:44,852] Trial 6 finished with value: 0.35830316930775646 and parameters: {'pred_threshold': 0.2896647200284458, 'trailing_stop_pred': 0.36244647245461037}. Best is trial 2 with value: 0.41433027522935784.\n"
     ]
    },
    {
     "name": "stdout",
     "output_type": "stream",
     "text": [
      "-----------------------------------\n",
      "Generate actions per day...\n",
      "Simulate and compute average daily P&L...\n",
      "→ Total return across 2398 trading days: $904.66\n",
      "→ Avg daily return (all days)             : $0.3773\n",
      "→ Total trades                            : 5406\n",
      "→ Avg return per trade                    : $0.1673\n",
      "\n"
     ]
    },
    {
     "name": "stderr",
     "output_type": "stream",
     "text": [
      "[I 2025-08-03 18:28:40,688] Trial 7 finished with value: 0.377256880733945 and parameters: {'pred_threshold': 0.2843612884586145, 'trailing_stop_pred': 0.23970417756294846}. Best is trial 2 with value: 0.41433027522935784.\n"
     ]
    },
    {
     "name": "stdout",
     "output_type": "stream",
     "text": [
      "-----------------------------------\n",
      "Generate actions per day...\n",
      "Simulate and compute average daily P&L...\n",
      "→ Total return across 2398 trading days: $-49.39\n",
      "→ Avg daily return (all days)             : $-0.0206\n",
      "→ Total trades                            : 2398\n",
      "→ Avg return per trade                    : $-0.0206\n",
      "\n"
     ]
    },
    {
     "name": "stderr",
     "output_type": "stream",
     "text": [
      "[I 2025-08-03 18:29:37,842] Trial 8 finished with value: -0.02059466221851543 and parameters: {'pred_threshold': 0.07990781185015494, 'trailing_stop_pred': 0.17661473976664324}. Best is trial 2 with value: 0.41433027522935784.\n"
     ]
    },
    {
     "name": "stdout",
     "output_type": "stream",
     "text": [
      "-----------------------------------\n",
      "Generate actions per day...\n",
      "Simulate and compute average daily P&L...\n",
      "→ Total return across 2398 trading days: $934.68\n",
      "→ Avg daily return (all days)             : $0.3898\n",
      "→ Total trades                            : 5677\n",
      "→ Avg return per trade                    : $0.1646\n",
      "\n"
     ]
    },
    {
     "name": "stderr",
     "output_type": "stream",
     "text": [
      "[I 2025-08-03 18:30:33,462] Trial 9 finished with value: 0.38977439532944125 and parameters: {'pred_threshold': 0.2890629094018792, 'trailing_stop_pred': 0.196820711683964}. Best is trial 2 with value: 0.41433027522935784.\n"
     ]
    },
    {
     "name": "stdout",
     "output_type": "stream",
     "text": [
      "-----------------------------------\n",
      "Generate actions per day...\n",
      "Simulate and compute average daily P&L...\n",
      "→ Total return across 2398 trading days: $845.74\n",
      "→ Avg daily return (all days)             : $0.3527\n",
      "→ Total trades                            : 3204\n",
      "→ Avg return per trade                    : $0.2640\n",
      "\n"
     ]
    },
    {
     "name": "stderr",
     "output_type": "stream",
     "text": [
      "[I 2025-08-03 18:31:27,756] Trial 10 finished with value: 0.3526847372810676 and parameters: {'pred_threshold': 0.4595298655901026, 'trailing_stop_pred': 0.030740760534703232}. Best is trial 2 with value: 0.41433027522935784.\n"
     ]
    },
    {
     "name": "stdout",
     "output_type": "stream",
     "text": [
      "-----------------------------------\n",
      "Generate actions per day...\n",
      "Simulate and compute average daily P&L...\n",
      "→ Total return across 2398 trading days: $968.93\n",
      "→ Avg daily return (all days)             : $0.4041\n",
      "→ Total trades                            : 4054\n",
      "→ Avg return per trade                    : $0.2390\n",
      "\n"
     ]
    },
    {
     "name": "stderr",
     "output_type": "stream",
     "text": [
      "[I 2025-08-03 18:32:22,210] Trial 11 finished with value: 0.4040558798999166 and parameters: {'pred_threshold': 0.39746434985356416, 'trailing_stop_pred': 0.10600498029943647}. Best is trial 2 with value: 0.41433027522935784.\n"
     ]
    },
    {
     "name": "stdout",
     "output_type": "stream",
     "text": [
      "-----------------------------------\n",
      "Generate actions per day...\n",
      "Simulate and compute average daily P&L...\n",
      "→ Total return across 2398 trading days: $910.36\n",
      "→ Avg daily return (all days)             : $0.3796\n",
      "→ Total trades                            : 3731\n",
      "→ Avg return per trade                    : $0.2440\n",
      "\n"
     ]
    },
    {
     "name": "stderr",
     "output_type": "stream",
     "text": [
      "[I 2025-08-03 18:33:17,462] Trial 12 finished with value: 0.3796321934945788 and parameters: {'pred_threshold': 0.4265855344377861, 'trailing_stop_pred': 0.06458022294426086}. Best is trial 2 with value: 0.41433027522935784.\n"
     ]
    },
    {
     "name": "stdout",
     "output_type": "stream",
     "text": [
      "-----------------------------------\n",
      "Generate actions per day...\n",
      "Simulate and compute average daily P&L...\n",
      "→ Total return across 2398 trading days: $942.24\n",
      "→ Avg daily return (all days)             : $0.3929\n",
      "→ Total trades                            : 3900\n",
      "→ Avg return per trade                    : $0.2416\n",
      "\n"
     ]
    },
    {
     "name": "stderr",
     "output_type": "stream",
     "text": [
      "[I 2025-08-03 18:34:11,887] Trial 13 finished with value: 0.3929295246038365 and parameters: {'pred_threshold': 0.4079069091671775, 'trailing_stop_pred': 0.1065959328179911}. Best is trial 2 with value: 0.41433027522935784.\n"
     ]
    },
    {
     "name": "stdout",
     "output_type": "stream",
     "text": [
      "-----------------------------------\n",
      "Generate actions per day...\n",
      "Simulate and compute average daily P&L...\n",
      "→ Total return across 2398 trading days: $377.26\n",
      "→ Avg daily return (all days)             : $0.1573\n",
      "→ Total trades                            : 957\n",
      "→ Avg return per trade                    : $0.3942\n",
      "\n"
     ]
    },
    {
     "name": "stderr",
     "output_type": "stream",
     "text": [
      "[I 2025-08-03 18:35:06,204] Trial 14 finished with value: 0.15732110091743118 and parameters: {'pred_threshold': 0.651682169349018, 'trailing_stop_pred': 0.2725797521129658}. Best is trial 2 with value: 0.41433027522935784.\n"
     ]
    },
    {
     "name": "stdout",
     "output_type": "stream",
     "text": [
      "-----------------------------------\n",
      "Generate actions per day...\n",
      "Simulate and compute average daily P&L...\n",
      "→ Total return across 2398 trading days: $-48.44\n",
      "→ Avg daily return (all days)             : $-0.0202\n",
      "→ Total trades                            : 2412\n",
      "→ Avg return per trade                    : $-0.0201\n",
      "\n"
     ]
    },
    {
     "name": "stderr",
     "output_type": "stream",
     "text": [
      "[I 2025-08-03 18:36:04,245] Trial 15 finished with value: -0.020201834862385318 and parameters: {'pred_threshold': 0.18062943579409108, 'trailing_stop_pred': 0.10531943863441097}. Best is trial 2 with value: 0.41433027522935784.\n"
     ]
    },
    {
     "name": "stdout",
     "output_type": "stream",
     "text": [
      "-----------------------------------\n",
      "Generate actions per day...\n",
      "Simulate and compute average daily P&L...\n",
      "→ Total return across 2398 trading days: $756.00\n",
      "→ Avg daily return (all days)             : $0.3153\n",
      "→ Total trades                            : 2260\n",
      "→ Avg return per trade                    : $0.3345\n",
      "\n"
     ]
    },
    {
     "name": "stderr",
     "output_type": "stream",
     "text": [
      "[I 2025-08-03 18:36:59,272] Trial 16 finished with value: 0.3152643869891576 and parameters: {'pred_threshold': 0.5151505149881658, 'trailing_stop_pred': 0.1743884828441376}. Best is trial 2 with value: 0.41433027522935784.\n"
     ]
    },
    {
     "name": "stdout",
     "output_type": "stream",
     "text": [
      "-----------------------------------\n",
      "Generate actions per day...\n",
      "Simulate and compute average daily P&L...\n",
      "→ Total return across 2398 trading days: $1022.77\n",
      "→ Avg daily return (all days)             : $0.4265\n",
      "→ Total trades                            : 5171\n",
      "→ Avg return per trade                    : $0.1978\n",
      "\n"
     ]
    },
    {
     "name": "stderr",
     "output_type": "stream",
     "text": [
      "[I 2025-08-03 18:37:54,567] Trial 17 finished with value: 0.4265116763969975 and parameters: {'pred_threshold': 0.3605174503749712, 'trailing_stop_pred': 0.012922996042576365}. Best is trial 17 with value: 0.4265116763969975.\n"
     ]
    },
    {
     "name": "stdout",
     "output_type": "stream",
     "text": [
      "-----------------------------------\n",
      "Generate actions per day...\n",
      "Simulate and compute average daily P&L...\n",
      "→ Total return across 2398 trading days: $492.88\n",
      "→ Avg daily return (all days)             : $0.2055\n",
      "→ Total trades                            : 3949\n",
      "→ Avg return per trade                    : $0.1248\n",
      "\n"
     ]
    },
    {
     "name": "stderr",
     "output_type": "stream",
     "text": [
      "[I 2025-08-03 18:38:51,906] Trial 18 finished with value: 0.2055375312760634 and parameters: {'pred_threshold': 0.21899206606345573, 'trailing_stop_pred': 0.018932593554770803}. Best is trial 17 with value: 0.4265116763969975.\n"
     ]
    },
    {
     "name": "stdout",
     "output_type": "stream",
     "text": [
      "-----------------------------------\n",
      "Generate actions per day...\n",
      "Simulate and compute average daily P&L...\n",
      "→ Total return across 2398 trading days: $954.63\n",
      "→ Avg daily return (all days)             : $0.3981\n",
      "→ Total trades                            : 3940\n",
      "→ Avg return per trade                    : $0.2423\n",
      "\n"
     ]
    },
    {
     "name": "stderr",
     "output_type": "stream",
     "text": [
      "[I 2025-08-03 18:39:47,855] Trial 19 finished with value: 0.39809591326105087 and parameters: {'pred_threshold': 0.35592030453603607, 'trailing_stop_pred': 0.27596571729000896}. Best is trial 17 with value: 0.4265116763969975.\n"
     ]
    },
    {
     "name": "stdout",
     "output_type": "stream",
     "text": [
      "-----------------------------------\n",
      "Generate actions per day...\n",
      "Simulate and compute average daily P&L...\n",
      "→ Total return across 2398 trading days: $1012.41\n",
      "→ Avg daily return (all days)             : $0.4222\n",
      "→ Total trades                            : 5122\n",
      "→ Avg return per trade                    : $0.1977\n",
      "\n"
     ]
    },
    {
     "name": "stderr",
     "output_type": "stream",
     "text": [
      "[I 2025-08-03 18:40:43,085] Trial 20 finished with value: 0.42218932443703083 and parameters: {'pred_threshold': 0.3549158716939548, 'trailing_stop_pred': 0.06248383665990825}. Best is trial 17 with value: 0.4265116763969975.\n"
     ]
    },
    {
     "name": "stdout",
     "output_type": "stream",
     "text": [
      "-----------------------------------\n",
      "Generate actions per day...\n",
      "Simulate and compute average daily P&L...\n",
      "→ Total return across 2398 trading days: $1020.09\n",
      "→ Avg daily return (all days)             : $0.4254\n",
      "→ Total trades                            : 5262\n",
      "→ Avg return per trade                    : $0.1939\n",
      "\n"
     ]
    },
    {
     "name": "stderr",
     "output_type": "stream",
     "text": [
      "[I 2025-08-03 18:41:38,415] Trial 21 finished with value: 0.42539199332777317 and parameters: {'pred_threshold': 0.3515651027225783, 'trailing_stop_pred': 0.0527314410881671}. Best is trial 17 with value: 0.4265116763969975.\n"
     ]
    },
    {
     "name": "stdout",
     "output_type": "stream",
     "text": [
      "-----------------------------------\n",
      "Generate actions per day...\n",
      "Simulate and compute average daily P&L...\n",
      "→ Total return across 2398 trading days: $1039.61\n",
      "→ Avg daily return (all days)             : $0.4335\n",
      "→ Total trades                            : 5678\n",
      "→ Avg return per trade                    : $0.1831\n",
      "\n"
     ]
    },
    {
     "name": "stderr",
     "output_type": "stream",
     "text": [
      "[I 2025-08-03 18:42:33,799] Trial 22 finished with value: 0.4335308590492077 and parameters: {'pred_threshold': 0.3319164892791999, 'trailing_stop_pred': 0.06041324107957534}. Best is trial 22 with value: 0.4335308590492077.\n"
     ]
    },
    {
     "name": "stdout",
     "output_type": "stream",
     "text": [
      "-----------------------------------\n",
      "Generate actions per day...\n",
      "Simulate and compute average daily P&L...\n",
      "→ Total return across 2398 trading days: $525.05\n",
      "→ Avg daily return (all days)             : $0.2190\n",
      "→ Total trades                            : 3962\n",
      "→ Avg return per trade                    : $0.1325\n",
      "\n"
     ]
    },
    {
     "name": "stderr",
     "output_type": "stream",
     "text": [
      "[I 2025-08-03 18:43:30,544] Trial 23 finished with value: 0.21895246038365304 and parameters: {'pred_threshold': 0.22277520765325787, 'trailing_stop_pred': 0.06179176252094665}. Best is trial 22 with value: 0.4335308590492077.\n"
     ]
    },
    {
     "name": "stdout",
     "output_type": "stream",
     "text": [
      "-----------------------------------\n",
      "Generate actions per day...\n",
      "Simulate and compute average daily P&L...\n",
      "→ Total return across 2398 trading days: $1041.56\n",
      "→ Avg daily return (all days)             : $0.4343\n",
      "→ Total trades                            : 6325\n",
      "→ Avg return per trade                    : $0.1647\n",
      "\n"
     ]
    },
    {
     "name": "stderr",
     "output_type": "stream",
     "text": [
      "[I 2025-08-03 18:44:25,546] Trial 24 finished with value: 0.43434653878231866 and parameters: {'pred_threshold': 0.3132305289550114, 'trailing_stop_pred': 0.01822790994795581}. Best is trial 24 with value: 0.43434653878231866.\n"
     ]
    },
    {
     "name": "stdout",
     "output_type": "stream",
     "text": [
      "-----------------------------------\n",
      "Generate actions per day...\n",
      "Simulate and compute average daily P&L...\n",
      "→ Total return across 2398 trading days: $843.27\n",
      "→ Avg daily return (all days)             : $0.3517\n",
      "→ Total trades                            : 3277\n",
      "→ Avg return per trade                    : $0.2573\n",
      "\n"
     ]
    },
    {
     "name": "stderr",
     "output_type": "stream",
     "text": [
      "[I 2025-08-03 18:45:20,007] Trial 25 finished with value: 0.3516538782318599 and parameters: {'pred_threshold': 0.4559312710362744, 'trailing_stop_pred': 0.012849301403202208}. Best is trial 24 with value: 0.43434653878231866.\n"
     ]
    },
    {
     "name": "stdout",
     "output_type": "stream",
     "text": [
      "-----------------------------------\n",
      "Generate actions per day...\n",
      "Simulate and compute average daily P&L...\n",
      "→ Total return across 2398 trading days: $1021.28\n",
      "→ Avg daily return (all days)             : $0.4259\n",
      "→ Total trades                            : 5766\n",
      "→ Avg return per trade                    : $0.1771\n",
      "\n"
     ]
    },
    {
     "name": "stderr",
     "output_type": "stream",
     "text": [
      "[I 2025-08-03 18:46:15,258] Trial 26 finished with value: 0.42588782318598833 and parameters: {'pred_threshold': 0.32167881423989386, 'trailing_stop_pred': 0.0945119214145612}. Best is trial 24 with value: 0.43434653878231866.\n"
     ]
    },
    {
     "name": "stdout",
     "output_type": "stream",
     "text": [
      "-----------------------------------\n",
      "Generate actions per day...\n",
      "Simulate and compute average daily P&L...\n",
      "→ Total return across 2398 trading days: $766.83\n",
      "→ Avg daily return (all days)             : $0.3198\n",
      "→ Total trades                            : 7036\n",
      "→ Avg return per trade                    : $0.1090\n",
      "\n"
     ]
    },
    {
     "name": "stderr",
     "output_type": "stream",
     "text": [
      "[I 2025-08-03 18:47:11,805] Trial 27 finished with value: 0.3197798165137615 and parameters: {'pred_threshold': 0.25171881696522574, 'trailing_stop_pred': 0.015646613041922657}. Best is trial 24 with value: 0.43434653878231866.\n"
     ]
    },
    {
     "name": "stdout",
     "output_type": "stream",
     "text": [
      "-----------------------------------\n",
      "Generate actions per day...\n",
      "Simulate and compute average daily P&L...\n",
      "→ Total return across 2398 trading days: $-49.65\n",
      "→ Avg daily return (all days)             : $-0.0207\n",
      "→ Total trades                            : 2399\n",
      "→ Avg return per trade                    : $-0.0207\n",
      "\n"
     ]
    },
    {
     "name": "stderr",
     "output_type": "stream",
     "text": [
      "[I 2025-08-03 18:48:09,097] Trial 28 finished with value: -0.02070350291909925 and parameters: {'pred_threshold': 0.1605601499752337, 'trailing_stop_pred': 0.2288086146900526}. Best is trial 24 with value: 0.43434653878231866.\n"
     ]
    },
    {
     "name": "stdout",
     "output_type": "stream",
     "text": [
      "-----------------------------------\n",
      "Generate actions per day...\n",
      "Simulate and compute average daily P&L...\n",
      "→ Total return across 2398 trading days: $-49.43\n",
      "→ Avg daily return (all days)             : $-0.0206\n",
      "→ Total trades                            : 2399\n",
      "→ Avg return per trade                    : $-0.0206\n",
      "\n"
     ]
    },
    {
     "name": "stderr",
     "output_type": "stream",
     "text": [
      "[I 2025-08-03 18:49:05,552] Trial 29 finished with value: -0.020613844870725605 and parameters: {'pred_threshold': 0.031129104690419573, 'trailing_stop_pred': 0.08090832120123902}. Best is trial 24 with value: 0.43434653878231866.\n"
     ]
    },
    {
     "name": "stdout",
     "output_type": "stream",
     "text": [
      "-----------------------------------\n",
      "Generate actions per day...\n",
      "Simulate and compute average daily P&L...\n",
      "→ Total return across 2398 trading days: $1008.17\n",
      "→ Avg daily return (all days)             : $0.4204\n",
      "→ Total trades                            : 5661\n",
      "→ Avg return per trade                    : $0.1781\n",
      "\n"
     ]
    },
    {
     "name": "stderr",
     "output_type": "stream",
     "text": [
      "[I 2025-08-03 18:50:00,734] Trial 30 finished with value: 0.42042035029190994 and parameters: {'pred_threshold': 0.315599791163054, 'trailing_stop_pred': 0.1350798218584816}. Best is trial 24 with value: 0.43434653878231866.\n"
     ]
    },
    {
     "name": "stdout",
     "output_type": "stream",
     "text": [
      "-----------------------------------\n",
      "Generate actions per day...\n",
      "Simulate and compute average daily P&L...\n",
      "→ Total return across 2398 trading days: $1040.10\n",
      "→ Avg daily return (all days)             : $0.4337\n",
      "→ Total trades                            : 5699\n",
      "→ Avg return per trade                    : $0.1825\n",
      "\n"
     ]
    },
    {
     "name": "stderr",
     "output_type": "stream",
     "text": [
      "[I 2025-08-03 18:50:55,895] Trial 31 finished with value: 0.4337347789824854 and parameters: {'pred_threshold': 0.3343258780179262, 'trailing_stop_pred': 0.043188624096450606}. Best is trial 24 with value: 0.43434653878231866.\n"
     ]
    },
    {
     "name": "stdout",
     "output_type": "stream",
     "text": [
      "-----------------------------------\n",
      "Generate actions per day...\n",
      "Simulate and compute average daily P&L...\n",
      "→ Total return across 2398 trading days: $697.30\n",
      "→ Avg daily return (all days)             : $0.2908\n",
      "→ Total trades                            : 5126\n",
      "→ Avg return per trade                    : $0.1360\n",
      "\n"
     ]
    },
    {
     "name": "stderr",
     "output_type": "stream",
     "text": [
      "[I 2025-08-03 18:51:52,306] Trial 32 finished with value: 0.29078440366972474 and parameters: {'pred_threshold': 0.24173700547340612, 'trailing_stop_pred': 0.0445193060451011}. Best is trial 24 with value: 0.43434653878231866.\n"
     ]
    },
    {
     "name": "stdout",
     "output_type": "stream",
     "text": [
      "-----------------------------------\n",
      "Generate actions per day...\n",
      "Simulate and compute average daily P&L...\n",
      "→ Total return across 2398 trading days: $873.30\n",
      "→ Avg daily return (all days)             : $0.3642\n",
      "→ Total trades                            : 3179\n",
      "→ Avg return per trade                    : $0.2747\n",
      "\n"
     ]
    },
    {
     "name": "stderr",
     "output_type": "stream",
     "text": [
      "[I 2025-08-03 18:52:46,758] Trial 33 finished with value: 0.3641776480400334 and parameters: {'pred_threshold': 0.4453516670906191, 'trailing_stop_pred': 0.13689755842754125}. Best is trial 24 with value: 0.43434653878231866.\n"
     ]
    },
    {
     "name": "stdout",
     "output_type": "stream",
     "text": [
      "-----------------------------------\n",
      "Generate actions per day...\n",
      "Simulate and compute average daily P&L...\n",
      "→ Total return across 2398 trading days: $750.48\n",
      "→ Avg daily return (all days)             : $0.3130\n",
      "→ Total trades                            : 2647\n",
      "→ Avg return per trade                    : $0.2835\n",
      "\n"
     ]
    },
    {
     "name": "stderr",
     "output_type": "stream",
     "text": [
      "[I 2025-08-03 18:53:41,009] Trial 34 finished with value: 0.31295954962468725 and parameters: {'pred_threshold': 0.5040873467614583, 'trailing_stop_pred': 0.03693404571555098}. Best is trial 24 with value: 0.43434653878231866.\n"
     ]
    },
    {
     "name": "stdout",
     "output_type": "stream",
     "text": [
      "-----------------------------------\n",
      "Generate actions per day...\n",
      "Simulate and compute average daily P&L...\n",
      "→ Total return across 2398 trading days: $988.92\n",
      "→ Avg daily return (all days)             : $0.4124\n",
      "→ Total trades                            : 4450\n",
      "→ Avg return per trade                    : $0.2222\n",
      "\n"
     ]
    },
    {
     "name": "stderr",
     "output_type": "stream",
     "text": [
      "[I 2025-08-03 18:54:35,782] Trial 35 finished with value: 0.4123949124270225 and parameters: {'pred_threshold': 0.381999122592915, 'trailing_stop_pred': 0.08975359770848967}. Best is trial 24 with value: 0.43434653878231866.\n"
     ]
    },
    {
     "name": "stdout",
     "output_type": "stream",
     "text": [
      "-----------------------------------\n",
      "Generate actions per day...\n",
      "Simulate and compute average daily P&L...\n",
      "→ Total return across 2398 trading days: $860.26\n",
      "→ Avg daily return (all days)             : $0.3587\n",
      "→ Total trades                            : 3777\n",
      "→ Avg return per trade                    : $0.2278\n",
      "\n"
     ]
    },
    {
     "name": "stderr",
     "output_type": "stream",
     "text": [
      "[I 2025-08-03 18:55:31,492] Trial 36 finished with value: 0.3587402001668057 and parameters: {'pred_threshold': 0.3197498631088593, 'trailing_stop_pred': 0.48063373426847067}. Best is trial 24 with value: 0.43434653878231866.\n"
     ]
    },
    {
     "name": "stdout",
     "output_type": "stream",
     "text": [
      "-----------------------------------\n",
      "Generate actions per day...\n",
      "Simulate and compute average daily P&L...\n",
      "→ Total return across 2398 trading days: $-12.42\n",
      "→ Avg daily return (all days)             : $-0.0052\n",
      "→ Total trades                            : 2553\n",
      "→ Avg return per trade                    : $-0.0049\n",
      "\n"
     ]
    },
    {
     "name": "stderr",
     "output_type": "stream",
     "text": [
      "[I 2025-08-03 18:56:28,589] Trial 37 finished with value: -0.005179733110925773 and parameters: {'pred_threshold': 0.19297121141673276, 'trailing_stop_pred': 0.3188562496064037}. Best is trial 24 with value: 0.43434653878231866.\n"
     ]
    },
    {
     "name": "stdout",
     "output_type": "stream",
     "text": [
      "-----------------------------------\n",
      "Generate actions per day...\n",
      "Simulate and compute average daily P&L...\n",
      "→ Total return across 2398 trading days: $1001.11\n",
      "→ Avg daily return (all days)             : $0.4175\n",
      "→ Total trades                            : 4731\n",
      "→ Avg return per trade                    : $0.2116\n",
      "\n"
     ]
    },
    {
     "name": "stderr",
     "output_type": "stream",
     "text": [
      "[I 2025-08-03 18:57:23,646] Trial 38 finished with value: 0.4174770642201835 and parameters: {'pred_threshold': 0.3712403098941538, 'trailing_stop_pred': 0.07799900750747685}. Best is trial 24 with value: 0.43434653878231866.\n"
     ]
    },
    {
     "name": "stdout",
     "output_type": "stream",
     "text": [
      "-----------------------------------\n",
      "Generate actions per day...\n",
      "Simulate and compute average daily P&L...\n",
      "→ Total return across 2398 trading days: $788.63\n",
      "→ Avg daily return (all days)             : $0.3289\n",
      "→ Total trades                            : 7126\n",
      "→ Avg return per trade                    : $0.1107\n",
      "\n"
     ]
    },
    {
     "name": "stderr",
     "output_type": "stream",
     "text": [
      "[I 2025-08-03 18:58:19,725] Trial 39 finished with value: 0.32887114261884903 and parameters: {'pred_threshold': 0.25368951520835714, 'trailing_stop_pred': 0.040167301309172815}. Best is trial 24 with value: 0.43434653878231866.\n"
     ]
    },
    {
     "name": "stdout",
     "output_type": "stream",
     "text": [
      "-----------------------------------\n",
      "Generate actions per day...\n",
      "Simulate and compute average daily P&L...\n",
      "→ Total return across 2398 trading days: $1006.59\n",
      "→ Avg daily return (all days)             : $0.4198\n",
      "→ Total trades                            : 5774\n",
      "→ Avg return per trade                    : $0.1743\n",
      "\n"
     ]
    },
    {
     "name": "stderr",
     "output_type": "stream",
     "text": [
      "[I 2025-08-03 18:59:14,943] Trial 40 finished with value: 0.41976355296080065 and parameters: {'pred_threshold': 0.31045459420476235, 'trailing_stop_pred': 0.1300685864880906}. Best is trial 24 with value: 0.43434653878231866.\n"
     ]
    },
    {
     "name": "stdout",
     "output_type": "stream",
     "text": [
      "-----------------------------------\n",
      "Generate actions per day...\n",
      "Simulate and compute average daily P&L...\n",
      "→ Total return across 2398 trading days: $1051.49\n",
      "→ Avg daily return (all days)             : $0.4385\n",
      "→ Total trades                            : 5950\n",
      "→ Avg return per trade                    : $0.1767\n",
      "\n"
     ]
    },
    {
     "name": "stderr",
     "output_type": "stream",
     "text": [
      "[I 2025-08-03 19:00:09,844] Trial 41 finished with value: 0.43848498748957465 and parameters: {'pred_threshold': 0.3274394814612755, 'trailing_stop_pred': 0.012119049327928599}. Best is trial 41 with value: 0.43848498748957465.\n"
     ]
    },
    {
     "name": "stdout",
     "output_type": "stream",
     "text": [
      "-----------------------------------\n",
      "Generate actions per day...\n",
      "Simulate and compute average daily P&L...\n",
      "→ Total return across 2398 trading days: $962.08\n",
      "→ Avg daily return (all days)             : $0.4012\n",
      "→ Total trades                            : 7170\n",
      "→ Avg return per trade                    : $0.1342\n",
      "\n"
     ]
    },
    {
     "name": "stderr",
     "output_type": "stream",
     "text": [
      "[I 2025-08-03 19:01:05,376] Trial 42 finished with value: 0.4012001668056714 and parameters: {'pred_threshold': 0.27230038877311596, 'trailing_stop_pred': 0.015360915791863957}. Best is trial 41 with value: 0.43848498748957465.\n"
     ]
    },
    {
     "name": "stdout",
     "output_type": "stream",
     "text": [
      "-----------------------------------\n",
      "Generate actions per day...\n",
      "Simulate and compute average daily P&L...\n",
      "→ Total return across 2398 trading days: $1037.44\n",
      "→ Avg daily return (all days)             : $0.4326\n",
      "→ Total trades                            : 5651\n",
      "→ Avg return per trade                    : $0.1836\n",
      "\n"
     ]
    },
    {
     "name": "stderr",
     "output_type": "stream",
     "text": [
      "[I 2025-08-03 19:02:00,442] Trial 43 finished with value: 0.4326292743953294 and parameters: {'pred_threshold': 0.33549476550605223, 'trailing_stop_pred': 0.043698360241632414}. Best is trial 41 with value: 0.43848498748957465.\n"
     ]
    },
    {
     "name": "stdout",
     "output_type": "stream",
     "text": [
      "-----------------------------------\n",
      "Generate actions per day...\n",
      "Simulate and compute average daily P&L...\n",
      "→ Total return across 2398 trading days: $1039.95\n",
      "→ Avg daily return (all days)             : $0.4337\n",
      "→ Total trades                            : 5701\n",
      "→ Avg return per trade                    : $0.1824\n",
      "\n"
     ]
    },
    {
     "name": "stderr",
     "output_type": "stream",
     "text": [
      "[I 2025-08-03 19:02:55,378] Trial 44 finished with value: 0.433673894912427 and parameters: {'pred_threshold': 0.33394449415405864, 'trailing_stop_pred': 0.04608836717660436}. Best is trial 41 with value: 0.43848498748957465.\n"
     ]
    },
    {
     "name": "stdout",
     "output_type": "stream",
     "text": [
      "-----------------------------------\n",
      "Generate actions per day...\n",
      "Simulate and compute average daily P&L...\n",
      "→ Total return across 2398 trading days: $928.77\n",
      "→ Avg daily return (all days)             : $0.3873\n",
      "→ Total trades                            : 3874\n",
      "→ Avg return per trade                    : $0.2397\n",
      "\n"
     ]
    },
    {
     "name": "stderr",
     "output_type": "stream",
     "text": [
      "[I 2025-08-03 19:03:50,053] Trial 45 finished with value: 0.38731150959132604 and parameters: {'pred_threshold': 0.4146595507855476, 'trailing_stop_pred': 0.07771724605623159}. Best is trial 41 with value: 0.43848498748957465.\n"
     ]
    },
    {
     "name": "stdout",
     "output_type": "stream",
     "text": [
      "-----------------------------------\n",
      "Generate actions per day...\n",
      "Simulate and compute average daily P&L...\n",
      "→ Total return across 2398 trading days: $848.22\n",
      "→ Avg daily return (all days)             : $0.3537\n",
      "→ Total trades                            : 4436\n",
      "→ Avg return per trade                    : $0.1912\n",
      "\n"
     ]
    },
    {
     "name": "stderr",
     "output_type": "stream",
     "text": [
      "[I 2025-08-03 19:04:46,267] Trial 46 finished with value: 0.35371768140116766 and parameters: {'pred_threshold': 0.2939103195391184, 'trailing_stop_pred': 0.3964678961571487}. Best is trial 41 with value: 0.43848498748957465.\n"
     ]
    },
    {
     "name": "stdout",
     "output_type": "stream",
     "text": [
      "-----------------------------------\n",
      "Generate actions per day...\n",
      "Simulate and compute average daily P&L...\n",
      "→ Total return across 2398 trading days: $-49.43\n",
      "→ Avg daily return (all days)             : $-0.0206\n",
      "→ Total trades                            : 2399\n",
      "→ Avg return per trade                    : $-0.0206\n",
      "\n"
     ]
    },
    {
     "name": "stderr",
     "output_type": "stream",
     "text": [
      "[I 2025-08-03 19:05:43,068] Trial 47 finished with value: -0.02061342785654712 and parameters: {'pred_threshold': 0.12590986054841993, 'trailing_stop_pred': 0.11685964315548023}. Best is trial 41 with value: 0.43848498748957465.\n"
     ]
    },
    {
     "name": "stdout",
     "output_type": "stream",
     "text": [
      "-----------------------------------\n",
      "Generate actions per day...\n",
      "Simulate and compute average daily P&L...\n",
      "→ Total return across 2398 trading days: $980.28\n",
      "→ Avg daily return (all days)             : $0.4088\n",
      "→ Total trades                            : 4385\n",
      "→ Avg return per trade                    : $0.2236\n",
      "\n"
     ]
    },
    {
     "name": "stderr",
     "output_type": "stream",
     "text": [
      "[I 2025-08-03 19:06:37,784] Trial 48 finished with value: 0.40878940783986656 and parameters: {'pred_threshold': 0.39144655843059634, 'trailing_stop_pred': 0.05916662245421271}. Best is trial 41 with value: 0.43848498748957465.\n"
     ]
    },
    {
     "name": "stdout",
     "output_type": "stream",
     "text": [
      "-----------------------------------\n",
      "Generate actions per day...\n",
      "Simulate and compute average daily P&L...\n",
      "→ Total return across 2398 trading days: $818.63\n",
      "→ Avg daily return (all days)             : $0.3414\n",
      "→ Total trades                            : 2633\n",
      "→ Avg return per trade                    : $0.3109\n",
      "\n"
     ]
    },
    {
     "name": "stderr",
     "output_type": "stream",
     "text": [
      "[I 2025-08-03 19:07:32,523] Trial 49 finished with value: 0.3413790658882402 and parameters: {'pred_threshold': 0.48027492532335647, 'trailing_stop_pred': 0.16127397121784284}. Best is trial 41 with value: 0.43848498748957465.\n"
     ]
    },
    {
     "name": "stdout",
     "output_type": "stream",
     "text": [
      "-----------------------------------\n",
      "Generate actions per day...\n",
      "Simulate and compute average daily P&L...\n",
      "→ Total return across 2398 trading days: $690.48\n",
      "→ Avg daily return (all days)             : $0.2879\n",
      "→ Total trades                            : 2313\n",
      "→ Avg return per trade                    : $0.2985\n",
      "\n"
     ]
    },
    {
     "name": "stderr",
     "output_type": "stream",
     "text": [
      "[I 2025-08-03 19:08:26,777] Trial 50 finished with value: 0.2879399499582986 and parameters: {'pred_threshold': 0.5354954944258653, 'trailing_stop_pred': 0.07622069558881905}. Best is trial 41 with value: 0.43848498748957465.\n"
     ]
    },
    {
     "name": "stdout",
     "output_type": "stream",
     "text": [
      "-----------------------------------\n",
      "Generate actions per day...\n",
      "Simulate and compute average daily P&L...\n",
      "→ Total return across 2398 trading days: $1043.60\n",
      "→ Avg daily return (all days)             : $0.4352\n",
      "→ Total trades                            : 6033\n",
      "→ Avg return per trade                    : $0.1730\n",
      "\n"
     ]
    },
    {
     "name": "stderr",
     "output_type": "stream",
     "text": [
      "[I 2025-08-03 19:09:22,045] Trial 51 finished with value: 0.4351939115929942 and parameters: {'pred_threshold': 0.32212897051407746, 'trailing_stop_pred': 0.03310203649865656}. Best is trial 41 with value: 0.43848498748957465.\n"
     ]
    },
    {
     "name": "stdout",
     "output_type": "stream",
     "text": [
      "-----------------------------------\n",
      "Generate actions per day...\n",
      "Simulate and compute average daily P&L...\n",
      "→ Total return across 2398 trading days: $1002.78\n",
      "→ Avg daily return (all days)             : $0.4182\n",
      "→ Total trades                            : 6792\n",
      "→ Avg return per trade                    : $0.1476\n",
      "\n"
     ]
    },
    {
     "name": "stderr",
     "output_type": "stream",
     "text": [
      "[I 2025-08-03 19:10:17,869] Trial 52 finished with value: 0.41817264386989156 and parameters: {'pred_threshold': 0.29350592384195273, 'trailing_stop_pred': 0.039781017062412584}. Best is trial 41 with value: 0.43848498748957465.\n"
     ]
    },
    {
     "name": "stdout",
     "output_type": "stream",
     "text": [
      "-----------------------------------\n",
      "Generate actions per day...\n",
      "Simulate and compute average daily P&L...\n",
      "→ Total return across 2398 trading days: $949.90\n",
      "→ Avg daily return (all days)             : $0.3961\n",
      "→ Total trades                            : 7146\n",
      "→ Avg return per trade                    : $0.1329\n",
      "\n"
     ]
    },
    {
     "name": "stderr",
     "output_type": "stream",
     "text": [
      "[I 2025-08-03 19:11:13,706] Trial 53 finished with value: 0.3961213511259383 and parameters: {'pred_threshold': 0.2713486531113328, 'trailing_stop_pred': 0.02741929931433639}. Best is trial 41 with value: 0.43848498748957465.\n"
     ]
    },
    {
     "name": "stdout",
     "output_type": "stream",
     "text": [
      "-----------------------------------\n",
      "Generate actions per day...\n",
      "Simulate and compute average daily P&L...\n",
      "→ Total return across 2398 trading days: $985.15\n",
      "→ Avg daily return (all days)             : $0.4108\n",
      "→ Total trades                            : 4676\n",
      "→ Avg return per trade                    : $0.2107\n",
      "\n"
     ]
    },
    {
     "name": "stderr",
     "output_type": "stream",
     "text": [
      "[I 2025-08-03 19:12:08,755] Trial 54 finished with value: 0.4108215179316097 and parameters: {'pred_threshold': 0.33910557385441403, 'trailing_stop_pred': 0.19890574948900558}. Best is trial 41 with value: 0.43848498748957465.\n"
     ]
    },
    {
     "name": "stdout",
     "output_type": "stream",
     "text": [
      "-----------------------------------\n",
      "Generate actions per day...\n",
      "Simulate and compute average daily P&L...\n",
      "→ Total return across 2398 trading days: $992.48\n",
      "→ Avg daily return (all days)             : $0.4139\n",
      "→ Total trades                            : 4641\n",
      "→ Avg return per trade                    : $0.2139\n",
      "\n"
     ]
    },
    {
     "name": "stderr",
     "output_type": "stream",
     "text": [
      "[I 2025-08-03 19:13:03,839] Trial 55 finished with value: 0.4138786488740618 and parameters: {'pred_threshold': 0.38211201147343854, 'trailing_stop_pred': 0.029812389163688082}. Best is trial 41 with value: 0.43848498748957465.\n"
     ]
    },
    {
     "name": "stdout",
     "output_type": "stream",
     "text": [
      "-----------------------------------\n",
      "Generate actions per day...\n",
      "Simulate and compute average daily P&L...\n",
      "→ Total return across 2398 trading days: $920.60\n",
      "→ Avg daily return (all days)             : $0.3839\n",
      "→ Total trades                            : 3863\n",
      "→ Avg return per trade                    : $0.2383\n",
      "\n"
     ]
    },
    {
     "name": "stderr",
     "output_type": "stream",
     "text": [
      "[I 2025-08-03 19:13:58,454] Trial 56 finished with value: 0.3839028356964137 and parameters: {'pred_threshold': 0.4186897472437641, 'trailing_stop_pred': 0.06533876096389804}. Best is trial 41 with value: 0.43848498748957465.\n"
     ]
    },
    {
     "name": "stdout",
     "output_type": "stream",
     "text": [
      "-----------------------------------\n",
      "Generate actions per day...\n",
      "Simulate and compute average daily P&L...\n",
      "→ Total return across 2398 trading days: $476.29\n",
      "→ Avg daily return (all days)             : $0.1986\n",
      "→ Total trades                            : 3874\n",
      "→ Avg return per trade                    : $0.1229\n",
      "\n"
     ]
    },
    {
     "name": "stderr",
     "output_type": "stream",
     "text": [
      "[I 2025-08-03 19:14:54,942] Trial 57 finished with value: 0.19862010008340286 and parameters: {'pred_threshold': 0.21963042951138168, 'trailing_stop_pred': 0.1028248403668625}. Best is trial 41 with value: 0.43848498748957465.\n"
     ]
    },
    {
     "name": "stdout",
     "output_type": "stream",
     "text": [
      "-----------------------------------\n",
      "Generate actions per day...\n",
      "Simulate and compute average daily P&L...\n",
      "→ Total return across 2398 trading days: $1030.94\n",
      "→ Avg daily return (all days)             : $0.4299\n",
      "→ Total trades                            : 5627\n",
      "→ Avg return per trade                    : $0.1832\n",
      "\n"
     ]
    },
    {
     "name": "stderr",
     "output_type": "stream",
     "text": [
      "[I 2025-08-03 19:15:50,567] Trial 58 finished with value: 0.42991743119266057 and parameters: {'pred_threshold': 0.3356030210005101, 'trailing_stop_pred': 0.05311682716095331}. Best is trial 41 with value: 0.43848498748957465.\n"
     ]
    },
    {
     "name": "stdout",
     "output_type": "stream",
     "text": [
      "-----------------------------------\n",
      "Generate actions per day...\n",
      "Simulate and compute average daily P&L...\n",
      "→ Total return across 2398 trading days: $1037.05\n",
      "→ Avg daily return (all days)             : $0.4325\n",
      "→ Total trades                            : 6617\n",
      "→ Avg return per trade                    : $0.1567\n",
      "\n"
     ]
    },
    {
     "name": "stderr",
     "output_type": "stream",
     "text": [
      "[I 2025-08-03 19:16:45,658] Trial 59 finished with value: 0.43246413678065054 and parameters: {'pred_threshold': 0.30459800747882415, 'trailing_stop_pred': 0.011049774051292607}. Best is trial 41 with value: 0.43848498748957465.\n"
     ]
    },
    {
     "name": "stdout",
     "output_type": "stream",
     "text": [
      "-----------------------------------\n",
      "Generate actions per day...\n",
      "Simulate and compute average daily P&L...\n",
      "→ Total return across 2398 trading days: $958.88\n",
      "→ Avg daily return (all days)             : $0.3999\n",
      "→ Total trades                            : 7110\n",
      "→ Avg return per trade                    : $0.1349\n",
      "\n"
     ]
    },
    {
     "name": "stderr",
     "output_type": "stream",
     "text": [
      "[I 2025-08-03 19:17:41,554] Trial 60 finished with value: 0.3998682235195997 and parameters: {'pred_threshold': 0.2724060125446364, 'trailing_stop_pred': 0.03311773121335432}. Best is trial 41 with value: 0.43848498748957465.\n"
     ]
    },
    {
     "name": "stdout",
     "output_type": "stream",
     "text": [
      "-----------------------------------\n",
      "Generate actions per day...\n",
      "Simulate and compute average daily P&L...\n",
      "→ Total return across 2398 trading days: $1030.51\n",
      "→ Avg daily return (all days)             : $0.4297\n",
      "→ Total trades                            : 5608\n",
      "→ Avg return per trade                    : $0.1838\n",
      "\n"
     ]
    },
    {
     "name": "stderr",
     "output_type": "stream",
     "text": [
      "[I 2025-08-03 19:18:36,651] Trial 61 finished with value: 0.4297368640533778 and parameters: {'pred_threshold': 0.3366549730312476, 'trailing_stop_pred': 0.05047920062753851}. Best is trial 41 with value: 0.43848498748957465.\n"
     ]
    },
    {
     "name": "stdout",
     "output_type": "stream",
     "text": [
      "-----------------------------------\n",
      "Generate actions per day...\n",
      "Simulate and compute average daily P&L...\n",
      "→ Total return across 2398 trading days: $1009.05\n",
      "→ Avg daily return (all days)             : $0.4208\n",
      "→ Total trades                            : 4959\n",
      "→ Avg return per trade                    : $0.2035\n",
      "\n"
     ]
    },
    {
     "name": "stderr",
     "output_type": "stream",
     "text": [
      "[I 2025-08-03 19:19:31,794] Trial 62 finished with value: 0.4207889908256881 and parameters: {'pred_threshold': 0.36406544612157016, 'trailing_stop_pred': 0.06494793059644406}. Best is trial 41 with value: 0.43848498748957465.\n"
     ]
    },
    {
     "name": "stdout",
     "output_type": "stream",
     "text": [
      "-----------------------------------\n",
      "Generate actions per day...\n",
      "Simulate and compute average daily P&L...\n",
      "→ Total return across 2398 trading days: $1024.48\n",
      "→ Avg daily return (all days)             : $0.4272\n",
      "→ Total trades                            : 5489\n",
      "→ Avg return per trade                    : $0.1866\n",
      "\n"
     ]
    },
    {
     "name": "stderr",
     "output_type": "stream",
     "text": [
      "[I 2025-08-03 19:20:27,155] Trial 63 finished with value: 0.42722351959966637 and parameters: {'pred_threshold': 0.33437166732788237, 'trailing_stop_pred': 0.08964341186340237}. Best is trial 41 with value: 0.43848498748957465.\n"
     ]
    },
    {
     "name": "stdout",
     "output_type": "stream",
     "text": [
      "-----------------------------------\n",
      "Generate actions per day...\n",
      "Simulate and compute average daily P&L...\n",
      "→ Total return across 2398 trading days: $967.66\n",
      "→ Avg daily return (all days)             : $0.4035\n",
      "→ Total trades                            : 4310\n",
      "→ Avg return per trade                    : $0.2245\n",
      "\n"
     ]
    },
    {
     "name": "stderr",
     "output_type": "stream",
     "text": [
      "[I 2025-08-03 19:21:22,243] Trial 64 finished with value: 0.4035283569641368 and parameters: {'pred_threshold': 0.3992541269746993, 'trailing_stop_pred': 0.025486610757903257}. Best is trial 41 with value: 0.43848498748957465.\n"
     ]
    },
    {
     "name": "stdout",
     "output_type": "stream",
     "text": [
      "-----------------------------------\n",
      "Generate actions per day...\n",
      "Simulate and compute average daily P&L...\n",
      "→ Total return across 2398 trading days: $888.60\n",
      "→ Avg daily return (all days)             : $0.3706\n",
      "→ Total trades                            : 3328\n",
      "→ Avg return per trade                    : $0.2670\n",
      "\n"
     ]
    },
    {
     "name": "stderr",
     "output_type": "stream",
     "text": [
      "[I 2025-08-03 19:22:16,974] Trial 65 finished with value: 0.3705604670558799 and parameters: {'pred_threshold': 0.4379318207821246, 'trailing_stop_pred': 0.11616296693720668}. Best is trial 41 with value: 0.43848498748957465.\n"
     ]
    },
    {
     "name": "stdout",
     "output_type": "stream",
     "text": [
      "-----------------------------------\n",
      "Generate actions per day...\n",
      "Simulate and compute average daily P&L...\n",
      "→ Total return across 2398 trading days: $699.92\n",
      "→ Avg daily return (all days)             : $0.2919\n",
      "→ Total trades                            : 5381\n",
      "→ Avg return per trade                    : $0.1301\n",
      "\n"
     ]
    },
    {
     "name": "stderr",
     "output_type": "stream",
     "text": [
      "[I 2025-08-03 19:23:13,395] Trial 66 finished with value: 0.29187656380316934 and parameters: {'pred_threshold': 0.24302689113455314, 'trailing_stop_pred': 0.04752861670365606}. Best is trial 41 with value: 0.43848498748957465.\n"
     ]
    },
    {
     "name": "stdout",
     "output_type": "stream",
     "text": [
      "-----------------------------------\n",
      "Generate actions per day...\n",
      "Simulate and compute average daily P&L...\n",
      "→ Total return across 2398 trading days: $1049.43\n",
      "→ Avg daily return (all days)             : $0.4376\n",
      "→ Total trades                            : 6156\n",
      "→ Avg return per trade                    : $0.1705\n",
      "\n"
     ]
    },
    {
     "name": "stderr",
     "output_type": "stream",
     "text": [
      "[I 2025-08-03 19:24:08,870] Trial 67 finished with value: 0.4376251042535447 and parameters: {'pred_threshold': 0.3178679120153205, 'trailing_stop_pred': 0.024408331470575216}. Best is trial 41 with value: 0.43848498748957465.\n"
     ]
    },
    {
     "name": "stdout",
     "output_type": "stream",
     "text": [
      "-----------------------------------\n",
      "Generate actions per day...\n",
      "Simulate and compute average daily P&L...\n",
      "→ Total return across 2398 trading days: $1018.51\n",
      "→ Avg daily return (all days)             : $0.4247\n",
      "→ Total trades                            : 6654\n",
      "→ Avg return per trade                    : $0.1531\n",
      "\n"
     ]
    },
    {
     "name": "stderr",
     "output_type": "stream",
     "text": [
      "[I 2025-08-03 19:25:05,414] Trial 68 finished with value: 0.42473436196830694 and parameters: {'pred_threshold': 0.29992357950640813, 'trailing_stop_pred': 0.030749078442281613}. Best is trial 41 with value: 0.43848498748957465.\n"
     ]
    },
    {
     "name": "stdout",
     "output_type": "stream",
     "text": [
      "-----------------------------------\n",
      "Generate actions per day...\n",
      "Simulate and compute average daily P&L...\n",
      "→ Total return across 2398 trading days: $1006.03\n",
      "→ Avg daily return (all days)             : $0.4195\n",
      "→ Total trades                            : 4915\n",
      "→ Avg return per trade                    : $0.2047\n",
      "\n"
     ]
    },
    {
     "name": "stderr",
     "output_type": "stream",
     "text": [
      "[I 2025-08-03 19:26:01,530] Trial 69 finished with value: 0.4195296080066722 and parameters: {'pred_threshold': 0.3654371295469819, 'trailing_stop_pred': 0.07061647372162766}. Best is trial 41 with value: 0.43848498748957465.\n"
     ]
    },
    {
     "name": "stdout",
     "output_type": "stream",
     "text": [
      "-----------------------------------\n",
      "Generate actions per day...\n",
      "Simulate and compute average daily P&L...\n",
      "→ Total return across 2398 trading days: $988.48\n",
      "→ Avg daily return (all days)             : $0.4122\n",
      "→ Total trades                            : 7023\n",
      "→ Avg return per trade                    : $0.1407\n",
      "\n"
     ]
    },
    {
     "name": "stderr",
     "output_type": "stream",
     "text": [
      "[I 2025-08-03 19:26:57,219] Trial 70 finished with value: 0.412208507089241 and parameters: {'pred_threshold': 0.28130308300503054, 'trailing_stop_pred': 0.012978461269343596}. Best is trial 41 with value: 0.43848498748957465.\n"
     ]
    },
    {
     "name": "stdout",
     "output_type": "stream",
     "text": [
      "-----------------------------------\n",
      "Generate actions per day...\n",
      "Simulate and compute average daily P&L...\n",
      "→ Total return across 2398 trading days: $1041.36\n",
      "→ Avg daily return (all days)             : $0.4343\n",
      "→ Total trades                            : 5861\n",
      "→ Avg return per trade                    : $0.1777\n",
      "\n"
     ]
    },
    {
     "name": "stderr",
     "output_type": "stream",
     "text": [
      "[I 2025-08-03 19:27:52,547] Trial 71 finished with value: 0.4342631359466222 and parameters: {'pred_threshold': 0.3269675633633216, 'trailing_stop_pred': 0.0454295948490555}. Best is trial 41 with value: 0.43848498748957465.\n"
     ]
    },
    {
     "name": "stdout",
     "output_type": "stream",
     "text": [
      "-----------------------------------\n",
      "Generate actions per day...\n",
      "Simulate and compute average daily P&L...\n",
      "→ Total return across 2398 trading days: $1021.40\n",
      "→ Avg daily return (all days)             : $0.4259\n",
      "→ Total trades                            : 5873\n",
      "→ Avg return per trade                    : $0.1739\n",
      "\n"
     ]
    },
    {
     "name": "stderr",
     "output_type": "stream",
     "text": [
      "[I 2025-08-03 19:28:47,756] Trial 72 finished with value: 0.42594036697247706 and parameters: {'pred_threshold': 0.3173735401995432, 'trailing_stop_pred': 0.09020307655650818}. Best is trial 41 with value: 0.43848498748957465.\n"
     ]
    },
    {
     "name": "stdout",
     "output_type": "stream",
     "text": [
      "-----------------------------------\n",
      "Generate actions per day...\n",
      "Simulate and compute average daily P&L...\n",
      "→ Total return across 2398 trading days: $1028.51\n",
      "→ Avg daily return (all days)             : $0.4289\n",
      "→ Total trades                            : 5316\n",
      "→ Avg return per trade                    : $0.1935\n",
      "\n"
     ]
    },
    {
     "name": "stderr",
     "output_type": "stream",
     "text": [
      "[I 2025-08-03 19:29:42,797] Trial 73 finished with value: 0.4289040867389491 and parameters: {'pred_threshold': 0.3519552931148379, 'trailing_stop_pred': 0.025025260281356702}. Best is trial 41 with value: 0.43848498748957465.\n"
     ]
    },
    {
     "name": "stdout",
     "output_type": "stream",
     "text": [
      "-----------------------------------\n",
      "Generate actions per day...\n",
      "Simulate and compute average daily P&L...\n",
      "→ Total return across 2398 trading days: $791.60\n",
      "→ Avg daily return (all days)             : $0.3301\n",
      "→ Total trades                            : 7049\n",
      "→ Avg return per trade                    : $0.1123\n",
      "\n"
     ]
    },
    {
     "name": "stderr",
     "output_type": "stream",
     "text": [
      "[I 2025-08-03 19:30:39,149] Trial 74 finished with value: 0.3301084236864053 and parameters: {'pred_threshold': 0.2541853076992907, 'trailing_stop_pred': 0.0583179255510411}. Best is trial 41 with value: 0.43848498748957465.\n"
     ]
    },
    {
     "name": "stdout",
     "output_type": "stream",
     "text": [
      "-----------------------------------\n",
      "Generate actions per day...\n",
      "Simulate and compute average daily P&L...\n",
      "→ Total return across 2398 trading days: $990.11\n",
      "→ Avg daily return (all days)             : $0.4129\n",
      "→ Total trades                            : 4593\n",
      "→ Avg return per trade                    : $0.2156\n",
      "\n"
     ]
    },
    {
     "name": "stderr",
     "output_type": "stream",
     "text": [
      "[I 2025-08-03 19:31:33,931] Trial 75 finished with value: 0.41288865721434526 and parameters: {'pred_threshold': 0.38291338607773523, 'trailing_stop_pred': 0.04266764047219408}. Best is trial 41 with value: 0.43848498748957465.\n"
     ]
    },
    {
     "name": "stdout",
     "output_type": "stream",
     "text": [
      "-----------------------------------\n",
      "Generate actions per day...\n",
      "Simulate and compute average daily P&L...\n",
      "→ Total return across 2398 trading days: $936.94\n",
      "→ Avg daily return (all days)             : $0.3907\n",
      "→ Total trades                            : 4487\n",
      "→ Avg return per trade                    : $0.2088\n",
      "\n"
     ]
    },
    {
     "name": "stderr",
     "output_type": "stream",
     "text": [
      "[I 2025-08-03 19:32:30,196] Trial 76 finished with value: 0.3907164303586322 and parameters: {'pred_threshold': 0.3131203165431535, 'trailing_stop_pred': 0.31787815787616835}. Best is trial 41 with value: 0.43848498748957465.\n"
     ]
    },
    {
     "name": "stdout",
     "output_type": "stream",
     "text": [
      "-----------------------------------\n",
      "Generate actions per day...\n",
      "Simulate and compute average daily P&L...\n",
      "→ Total return across 2398 trading days: $414.96\n",
      "→ Avg daily return (all days)             : $0.1730\n",
      "→ Total trades                            : 1470\n",
      "→ Avg return per trade                    : $0.2823\n",
      "\n"
     ]
    },
    {
     "name": "stderr",
     "output_type": "stream",
     "text": [
      "[I 2025-08-03 19:33:24,869] Trial 77 finished with value: 0.17304336947456211 and parameters: {'pred_threshold': 0.6244423577053155, 'trailing_stop_pred': 0.0217137087260122}. Best is trial 41 with value: 0.43848498748957465.\n"
     ]
    },
    {
     "name": "stdout",
     "output_type": "stream",
     "text": [
      "-----------------------------------\n",
      "Generate actions per day...\n",
      "Simulate and compute average daily P&L...\n",
      "→ Total return across 2398 trading days: $1058.63\n",
      "→ Avg daily return (all days)             : $0.4415\n",
      "→ Total trades                            : 5837\n",
      "→ Avg return per trade                    : $0.1814\n",
      "\n"
     ]
    },
    {
     "name": "stderr",
     "output_type": "stream",
     "text": [
      "[I 2025-08-03 19:34:20,155] Trial 78 finished with value: 0.4414645537948291 and parameters: {'pred_threshold': 0.32998063577475023, 'trailing_stop_pred': 0.01040600840550464}. Best is trial 78 with value: 0.4414645537948291.\n"
     ]
    },
    {
     "name": "stdout",
     "output_type": "stream",
     "text": [
      "-----------------------------------\n",
      "Generate actions per day...\n",
      "Simulate and compute average daily P&L...\n",
      "→ Total return across 2398 trading days: $885.24\n",
      "→ Avg daily return (all days)             : $0.3692\n",
      "→ Total trades                            : 7386\n",
      "→ Avg return per trade                    : $0.1199\n",
      "\n"
     ]
    },
    {
     "name": "stderr",
     "output_type": "stream",
     "text": [
      "[I 2025-08-03 19:35:16,503] Trial 79 finished with value: 0.3691588824020016 and parameters: {'pred_threshold': 0.2626664693168946, 'trailing_stop_pred': 0.03742680811596849}. Best is trial 78 with value: 0.4414645537948291.\n"
     ]
    },
    {
     "name": "stdout",
     "output_type": "stream",
     "text": [
      "-----------------------------------\n",
      "Generate actions per day...\n",
      "Simulate and compute average daily P&L...\n",
      "→ Total return across 2398 trading days: $992.95\n",
      "→ Avg daily return (all days)             : $0.4141\n",
      "→ Total trades                            : 7007\n",
      "→ Avg return per trade                    : $0.1417\n",
      "\n"
     ]
    },
    {
     "name": "stderr",
     "output_type": "stream",
     "text": [
      "[I 2025-08-03 19:36:12,389] Trial 80 finished with value: 0.4140721434528774 and parameters: {'pred_threshold': 0.28779967062421746, 'trailing_stop_pred': 0.011082897307016153}. Best is trial 78 with value: 0.4414645537948291.\n"
     ]
    },
    {
     "name": "stdout",
     "output_type": "stream",
     "text": [
      "-----------------------------------\n",
      "Generate actions per day...\n",
      "Simulate and compute average daily P&L...\n",
      "→ Total return across 2398 trading days: $1035.10\n",
      "→ Avg daily return (all days)             : $0.4316\n",
      "→ Total trades                            : 5871\n",
      "→ Avg return per trade                    : $0.1763\n",
      "\n"
     ]
    },
    {
     "name": "stderr",
     "output_type": "stream",
     "text": [
      "[I 2025-08-03 19:37:07,679] Trial 81 finished with value: 0.4316492910758966 and parameters: {'pred_threshold': 0.32437331348052423, 'trailing_stop_pred': 0.05806218542710699}. Best is trial 78 with value: 0.4414645537948291.\n"
     ]
    },
    {
     "name": "stdout",
     "output_type": "stream",
     "text": [
      "-----------------------------------\n",
      "Generate actions per day...\n",
      "Simulate and compute average daily P&L...\n",
      "→ Total return across 2398 trading days: $1017.02\n",
      "→ Avg daily return (all days)             : $0.4241\n",
      "→ Total trades                            : 5197\n",
      "→ Avg return per trade                    : $0.1957\n",
      "\n"
     ]
    },
    {
     "name": "stderr",
     "output_type": "stream",
     "text": [
      "[I 2025-08-03 19:38:02,915] Trial 82 finished with value: 0.4241105087572978 and parameters: {'pred_threshold': 0.3487552319159353, 'trailing_stop_pred': 0.07699761718363216}. Best is trial 78 with value: 0.4414645537948291.\n"
     ]
    },
    {
     "name": "stdout",
     "output_type": "stream",
     "text": [
      "-----------------------------------\n",
      "Generate actions per day...\n",
      "Simulate and compute average daily P&L...\n",
      "→ Total return across 2398 trading days: $1003.09\n",
      "→ Avg daily return (all days)             : $0.4183\n",
      "→ Total trades                            : 4791\n",
      "→ Avg return per trade                    : $0.2094\n",
      "\n"
     ]
    },
    {
     "name": "stderr",
     "output_type": "stream",
     "text": [
      "[I 2025-08-03 19:38:58,192] Trial 83 finished with value: 0.4183023352793995 and parameters: {'pred_threshold': 0.373490331440569, 'trailing_stop_pred': 0.05021083430480369}. Best is trial 78 with value: 0.4414645537948291.\n"
     ]
    },
    {
     "name": "stdout",
     "output_type": "stream",
     "text": [
      "-----------------------------------\n",
      "Generate actions per day...\n",
      "Simulate and compute average daily P&L...\n",
      "→ Total return across 2398 trading days: $631.17\n",
      "→ Avg daily return (all days)             : $0.2632\n",
      "→ Total trades                            : 4260\n",
      "→ Avg return per trade                    : $0.1482\n",
      "\n"
     ]
    },
    {
     "name": "stderr",
     "output_type": "stream",
     "text": [
      "[I 2025-08-03 19:39:55,176] Trial 84 finished with value: 0.2632055879899916 and parameters: {'pred_threshold': 0.2321870714333566, 'trailing_stop_pred': 0.028559090092374846}. Best is trial 78 with value: 0.4414645537948291.\n"
     ]
    },
    {
     "name": "stdout",
     "output_type": "stream",
     "text": [
      "-----------------------------------\n",
      "Generate actions per day...\n",
      "Simulate and compute average daily P&L...\n",
      "→ Total return across 2398 trading days: $1032.21\n",
      "→ Avg daily return (all days)             : $0.4304\n",
      "→ Total trades                            : 6598\n",
      "→ Avg return per trade                    : $0.1564\n",
      "\n"
     ]
    },
    {
     "name": "stderr",
     "output_type": "stream",
     "text": [
      "[I 2025-08-03 19:40:50,660] Trial 85 finished with value: 0.43044703919933275 and parameters: {'pred_threshold': 0.3041980624518078, 'trailing_stop_pred': 0.022695872809067364}. Best is trial 78 with value: 0.4414645537948291.\n"
     ]
    },
    {
     "name": "stdout",
     "output_type": "stream",
     "text": [
      "-----------------------------------\n",
      "Generate actions per day...\n",
      "Simulate and compute average daily P&L...\n",
      "→ Total return across 2398 trading days: $1045.73\n",
      "→ Avg daily return (all days)             : $0.4361\n",
      "→ Total trades                            : 5949\n",
      "→ Avg return per trade                    : $0.1758\n",
      "\n"
     ]
    },
    {
     "name": "stderr",
     "output_type": "stream",
     "text": [
      "[I 2025-08-03 19:41:46,248] Trial 86 finished with value: 0.4360842368640534 and parameters: {'pred_threshold': 0.3242173365765442, 'trailing_stop_pred': 0.03711877066307627}. Best is trial 78 with value: 0.4414645537948291.\n"
     ]
    },
    {
     "name": "stdout",
     "output_type": "stream",
     "text": [
      "-----------------------------------\n",
      "Generate actions per day...\n",
      "Simulate and compute average daily P&L...\n",
      "→ Total return across 2398 trading days: $79.13\n",
      "→ Avg daily return (all days)             : $0.0330\n",
      "→ Total trades                            : 2879\n",
      "→ Avg return per trade                    : $0.0275\n",
      "\n"
     ]
    },
    {
     "name": "stderr",
     "output_type": "stream",
     "text": [
      "[I 2025-08-03 19:42:43,156] Trial 87 finished with value: 0.0329974979149291 and parameters: {'pred_threshold': 0.19733334256046683, 'trailing_stop_pred': 0.04040277507056898}. Best is trial 78 with value: 0.4414645537948291.\n"
     ]
    },
    {
     "name": "stdout",
     "output_type": "stream",
     "text": [
      "-----------------------------------\n",
      "Generate actions per day...\n",
      "Simulate and compute average daily P&L...\n",
      "→ Total return across 2398 trading days: $1027.61\n",
      "→ Avg daily return (all days)             : $0.4285\n",
      "→ Total trades                            : 5451\n",
      "→ Avg return per trade                    : $0.1885\n",
      "\n"
     ]
    },
    {
     "name": "stderr",
     "output_type": "stream",
     "text": [
      "[I 2025-08-03 19:43:38,947] Trial 88 finished with value: 0.4285271059216014 and parameters: {'pred_threshold': 0.34739884088911516, 'trailing_stop_pred': 0.010376624778885709}. Best is trial 78 with value: 0.4414645537948291.\n"
     ]
    },
    {
     "name": "stdout",
     "output_type": "stream",
     "text": [
      "-----------------------------------\n",
      "Generate actions per day...\n",
      "Simulate and compute average daily P&L...\n",
      "→ Total return across 2398 trading days: $888.09\n",
      "→ Avg daily return (all days)             : $0.3703\n",
      "→ Total trades                            : 2807\n",
      "→ Avg return per trade                    : $0.3164\n",
      "\n"
     ]
    },
    {
     "name": "stderr",
     "output_type": "stream",
     "text": [
      "[I 2025-08-03 19:44:34,874] Trial 89 finished with value: 0.37034695579649707 and parameters: {'pred_threshold': 0.4041943852569191, 'trailing_stop_pred': 0.46949063051555207}. Best is trial 78 with value: 0.4414645537948291.\n"
     ]
    },
    {
     "name": "stdout",
     "output_type": "stream",
     "text": [
      "-----------------------------------\n",
      "Generate actions per day...\n",
      "Simulate and compute average daily P&L...\n",
      "→ Total return across 2398 trading days: $1028.27\n",
      "→ Avg daily return (all days)             : $0.4288\n",
      "→ Total trades                            : 5881\n",
      "→ Avg return per trade                    : $0.1748\n",
      "\n"
     ]
    },
    {
     "name": "stderr",
     "output_type": "stream",
     "text": [
      "[I 2025-08-03 19:45:30,845] Trial 90 finished with value: 0.42880233527939954 and parameters: {'pred_threshold': 0.3221588935385417, 'trailing_stop_pred': 0.0701436396850595}. Best is trial 78 with value: 0.4414645537948291.\n"
     ]
    },
    {
     "name": "stdout",
     "output_type": "stream",
     "text": [
      "-----------------------------------\n",
      "Generate actions per day...\n",
      "Simulate and compute average daily P&L...\n",
      "→ Total return across 2398 trading days: $1038.05\n",
      "→ Avg daily return (all days)             : $0.4329\n",
      "→ Total trades                            : 5802\n",
      "→ Avg return per trade                    : $0.1789\n",
      "\n"
     ]
    },
    {
     "name": "stderr",
     "output_type": "stream",
     "text": [
      "[I 2025-08-03 19:46:26,425] Trial 91 finished with value: 0.43288031693077567 and parameters: {'pred_threshold': 0.3285279504987995, 'trailing_stop_pred': 0.052074592445289336}. Best is trial 78 with value: 0.4414645537948291.\n"
     ]
    },
    {
     "name": "stdout",
     "output_type": "stream",
     "text": [
      "-----------------------------------\n",
      "Generate actions per day...\n",
      "Simulate and compute average daily P&L...\n",
      "→ Total return across 2398 trading days: $1018.48\n",
      "→ Avg daily return (all days)             : $0.4247\n",
      "→ Total trades                            : 5168\n",
      "→ Avg return per trade                    : $0.1971\n",
      "\n"
     ]
    },
    {
     "name": "stderr",
     "output_type": "stream",
     "text": [
      "[I 2025-08-03 19:47:22,295] Trial 92 finished with value: 0.424721434528774 and parameters: {'pred_threshold': 0.35873644752754413, 'trailing_stop_pred': 0.0339803511520105}. Best is trial 78 with value: 0.4414645537948291.\n"
     ]
    },
    {
     "name": "stdout",
     "output_type": "stream",
     "text": [
      "-----------------------------------\n",
      "Generate actions per day...\n",
      "Simulate and compute average daily P&L...\n",
      "→ Total return across 2398 trading days: $968.34\n",
      "→ Avg daily return (all days)             : $0.4038\n",
      "→ Total trades                            : 6596\n",
      "→ Avg return per trade                    : $0.1468\n",
      "\n"
     ]
    },
    {
     "name": "stderr",
     "output_type": "stream",
     "text": [
      "[I 2025-08-03 19:48:17,917] Trial 93 finished with value: 0.40381150959132606 and parameters: {'pred_threshold': 0.28740143052178363, 'trailing_stop_pred': 0.0875531132526931}. Best is trial 78 with value: 0.4414645537948291.\n"
     ]
    },
    {
     "name": "stdout",
     "output_type": "stream",
     "text": [
      "-----------------------------------\n",
      "Generate actions per day...\n",
      "Simulate and compute average daily P&L...\n",
      "→ Total return across 2398 trading days: $1024.24\n",
      "→ Avg daily return (all days)             : $0.4271\n",
      "→ Total trades                            : 5456\n",
      "→ Avg return per trade                    : $0.1877\n",
      "\n"
     ]
    },
    {
     "name": "stderr",
     "output_type": "stream",
     "text": [
      "[I 2025-08-03 19:49:12,823] Trial 94 finished with value: 0.42712385321100915 and parameters: {'pred_threshold': 0.3463823697787668, 'trailing_stop_pred': 0.02262824817130122}. Best is trial 78 with value: 0.4414645537948291.\n"
     ]
    },
    {
     "name": "stdout",
     "output_type": "stream",
     "text": [
      "-----------------------------------\n",
      "Generate actions per day...\n",
      "Simulate and compute average daily P&L...\n",
      "→ Total return across 2398 trading days: $1025.73\n",
      "→ Avg daily return (all days)             : $0.4277\n",
      "→ Total trades                            : 6459\n",
      "→ Avg return per trade                    : $0.1588\n",
      "\n"
     ]
    },
    {
     "name": "stderr",
     "output_type": "stream",
     "text": [
      "[I 2025-08-03 19:50:08,034] Trial 95 finished with value: 0.42774228523769814 and parameters: {'pred_threshold': 0.3061913029259127, 'trailing_stop_pred': 0.042608909035520205}. Best is trial 78 with value: 0.4414645537948291.\n"
     ]
    },
    {
     "name": "stdout",
     "output_type": "stream",
     "text": [
      "-----------------------------------\n",
      "Generate actions per day...\n",
      "Simulate and compute average daily P&L...\n",
      "→ Total return across 2398 trading days: $958.94\n",
      "→ Avg daily return (all days)             : $0.3999\n",
      "→ Total trades                            : 6892\n",
      "→ Avg return per trade                    : $0.1391\n",
      "\n"
     ]
    },
    {
     "name": "stderr",
     "output_type": "stream",
     "text": [
      "[I 2025-08-03 19:51:03,725] Trial 96 finished with value: 0.3998894912427023 and parameters: {'pred_threshold': 0.27497941898031225, 'trailing_stop_pred': 0.0643533325993319}. Best is trial 78 with value: 0.4414645537948291.\n"
     ]
    },
    {
     "name": "stdout",
     "output_type": "stream",
     "text": [
      "-----------------------------------\n",
      "Generate actions per day...\n",
      "Simulate and compute average daily P&L...\n",
      "→ Total return across 2398 trading days: $982.05\n",
      "→ Avg daily return (all days)             : $0.4095\n",
      "→ Total trades                            : 4369\n",
      "→ Avg return per trade                    : $0.2248\n",
      "\n"
     ]
    },
    {
     "name": "stderr",
     "output_type": "stream",
     "text": [
      "[I 2025-08-03 19:51:58,903] Trial 97 finished with value: 0.40953085904920766 and parameters: {'pred_threshold': 0.38433141664271947, 'trailing_stop_pred': 0.0965770827892117}. Best is trial 78 with value: 0.4414645537948291.\n"
     ]
    },
    {
     "name": "stdout",
     "output_type": "stream",
     "text": [
      "-----------------------------------\n",
      "Generate actions per day...\n",
      "Simulate and compute average daily P&L...\n",
      "→ Total return across 2398 trading days: $1017.75\n",
      "→ Avg daily return (all days)             : $0.4244\n",
      "→ Total trades                            : 5021\n",
      "→ Avg return per trade                    : $0.2027\n",
      "\n"
     ]
    },
    {
     "name": "stderr",
     "output_type": "stream",
     "text": [
      "[I 2025-08-03 19:52:53,644] Trial 98 finished with value: 0.4244182652210175 and parameters: {'pred_threshold': 0.3669854609437712, 'trailing_stop_pred': 0.021646572279287384}. Best is trial 78 with value: 0.4414645537948291.\n"
     ]
    },
    {
     "name": "stdout",
     "output_type": "stream",
     "text": [
      "-----------------------------------\n",
      "Generate actions per day...\n",
      "Simulate and compute average daily P&L...\n",
      "→ Total return across 2398 trading days: $1005.05\n",
      "→ Avg daily return (all days)             : $0.4191\n",
      "→ Total trades                            : 6683\n",
      "→ Avg return per trade                    : $0.1504\n",
      "\n"
     ]
    },
    {
     "name": "stderr",
     "output_type": "stream",
     "text": [
      "[I 2025-08-03 19:53:49,117] Trial 99 finished with value: 0.4191184320266889 and parameters: {'pred_threshold': 0.2951649641033137, 'trailing_stop_pred': 0.054847830309373236}. Best is trial 78 with value: 0.4414645537948291.\n",
      "/tmp/ipykernel_80340/2402008646.py:24: ExperimentalWarning: plot_optimization_history is experimental (supported from v2.2.0). The interface can change in the future.\n",
      "  ax = plot_optimization_history(study)\n"
     ]
    },
    {
     "data": {
      "image/png": "[encoded data removed]",
      "text/plain": [
       "<Figure size 800x400 with 1 Axes>"
      ]
     },
     "metadata": {},
     "output_type": "display_data"
    },
    {
     "name": "stdout",
     "output_type": "stream",
     "text": [
      "Best Parameters       : {'pred_threshold': 0.32998063577475023, 'trailing_stop_pred': 0.01040600840550464}\n",
      "Best Average Daily P&L: 0.4414645537948291\n",
      "\n",
      "Hyperparameter importances (higher ⇒ more impact):\n",
      "  pred_threshold      : 0.997\n",
      "  trailing_stop_pred  : 0.003\n"
     ]
    },
    {
     "ename": "NameError",
     "evalue": "name 'os' is not defined",
     "output_type": "error",
     "traceback": [
      "\u001b[0;31m---------------------------------------------------------------------------\u001b[0m",
      "\u001b[0;31mNameError\u001b[0m                                 Traceback (most recent call last)",
      "Cell \u001b[0;32mIn[14], line 39\u001b[0m\n\u001b[1;32m     37\u001b[0m last_day  \u001b[38;5;241m=\u001b[39m df_train_val\u001b[38;5;241m.\u001b[39mindex\u001b[38;5;241m.\u001b[39mnormalize()\u001b[38;5;241m.\u001b[39mmax()\u001b[38;5;241m.\u001b[39mstrftime(\u001b[38;5;124m\"\u001b[39m\u001b[38;5;124m%\u001b[39m\u001b[38;5;124mY\u001b[39m\u001b[38;5;124m%\u001b[39m\u001b[38;5;124mm\u001b[39m\u001b[38;5;132;01m%d\u001b[39;00m\u001b[38;5;124m\"\u001b[39m)\n\u001b[1;32m     38\u001b[0m file_name \u001b[38;5;241m=\u001b[39m \u001b[38;5;124mf\u001b[39m\u001b[38;5;124m\"\u001b[39m\u001b[38;5;132;01m{\u001b[39;00mparams\u001b[38;5;241m.\u001b[39mticker\u001b[38;5;132;01m}\u001b[39;00m\u001b[38;5;124m_\u001b[39m\u001b[38;5;132;01m{\u001b[39;00mfirst_day\u001b[38;5;132;01m}\u001b[39;00m\u001b[38;5;124m-\u001b[39m\u001b[38;5;132;01m{\u001b[39;00mlast_day\u001b[38;5;132;01m}\u001b[39;00m\u001b[38;5;124m_optuna_predsig_pars.json\u001b[39m\u001b[38;5;124m\"\u001b[39m\n\u001b[0;32m---> 39\u001b[0m file_path \u001b[38;5;241m=\u001b[39m \u001b[43mos\u001b[49m\u001b[38;5;241m.\u001b[39mpath\u001b[38;5;241m.\u001b[39mjoin(params\u001b[38;5;241m.\u001b[39moptuna_folder, file_name)\n\u001b[1;32m     41\u001b[0m \u001b[38;5;28;01mwith\u001b[39;00m \u001b[38;5;28mopen\u001b[39m(file_path, \u001b[38;5;124m\"\u001b[39m\u001b[38;5;124mw\u001b[39m\u001b[38;5;124m\"\u001b[39m) \u001b[38;5;28;01mas\u001b[39;00m f:\n\u001b[1;32m     42\u001b[0m     json\u001b[38;5;241m.\u001b[39mdump({\n\u001b[1;32m     43\u001b[0m         \u001b[38;5;124m\"\u001b[39m\u001b[38;5;124mbest_params\u001b[39m\u001b[38;5;124m\"\u001b[39m: study\u001b[38;5;241m.\u001b[39mbest_params,\n\u001b[1;32m     44\u001b[0m         \u001b[38;5;124m\"\u001b[39m\u001b[38;5;124mbest_value\u001b[39m\u001b[38;5;124m\"\u001b[39m : study\u001b[38;5;241m.\u001b[39mbest_value,\n\u001b[0;32m   (...)\u001b[0m\n\u001b[1;32m     49\u001b[0m         ],\n\u001b[1;32m     50\u001b[0m     }, f, indent\u001b[38;5;241m=\u001b[39m\u001b[38;5;241m4\u001b[39m)\n",
      "\u001b[0;31mNameError\u001b[0m: name 'os' is not defined"
     ]
    }
   ],
   "source": [
    "# rest of your Optuna setup & study.optimize() \n",
    "pruner = optuna.pruners.MedianPruner(n_startup_trials=6, n_warmup_steps=12)\n",
    "storage = RDBStorage(\n",
    "    url=\"sqlite:///optuna_study.db\",\n",
    "    engine_kwargs={\"connect_args\": {\"timeout\": 20, \"check_same_thread\": False}}\n",
    ")\n",
    "study = optuna.create_study(\n",
    "    storage        = storage,\n",
    "    load_if_exists = True,\n",
    "    direction      = \"maximize\",\n",
    "    pruner         = pruner,\n",
    ")\n",
    "study.optimize(\n",
    "    objective,\n",
    "    n_trials          = n_trials,\n",
    "    n_jobs            = n_jobs,\n",
    "    callbacks         = [plots.cleanup_callback, plots.lightweight_plot_callback],\n",
    "    gc_after_trial    = True,\n",
    "    show_progress_bar = False,\n",
    "    catch             = (MemoryError,),\n",
    ")\n",
    "\n",
    "plt.close('all')   # safe here; the final image remains displayed in the notebook output\n",
    "gc.collect()       # optional extra sweep"
   ]
  },
  {
   "cell_type": "code",
   "execution_count": 17,
   "id": "58134eda-1dfe-421a-a2e4-a4c78f4f4efa",
   "metadata": {},
   "outputs": [
    {
     "name": "stderr",
     "output_type": "stream",
     "text": [
      "/tmp/ipykernel_80340/3968624097.py:2: ExperimentalWarning: plot_optimization_history is experimental (supported from v2.2.0). The interface can change in the future.\n",
      "  ax = plot_optimization_history(study)\n"
     ]
    },
    {
     "data": {
      "image/png": "[encoded data removed]",
      "text/plain": [
       "<Figure size 800x400 with 1 Axes>"
      ]
     },
     "metadata": {},
     "output_type": "display_data"
    },
    {
     "name": "stdout",
     "output_type": "stream",
     "text": [
      "Best Parameters       : {'pred_threshold': 0.32998063577475023, 'trailing_stop_pred': 0.01040600840550464}\n",
      "Best Average Daily P&L: 0.4414645537948291\n",
      "\n",
      "Hyperparameter importances (higher ⇒ more impact):\n",
      "  pred_threshold      : 0.995\n",
      "  trailing_stop_pred  : 0.005\n",
      "\n",
      "Optuna results (and importances) saved to: optuna_results/GOOGL_20140403-20231011_optuna_predsig_pars.json\n"
     ]
    }
   ],
   "source": [
    "# Final plots & JSON dump (unchanged)...\n",
    "ax = plot_optimization_history(study)\n",
    "ax.figure.set_size_inches(8, 4)\n",
    "plt.show()\n",
    "\n",
    "print(\"Best Parameters       :\", study.best_params)\n",
    "print(\"Best Average Daily P&L:\", study.best_value)\n",
    "\n",
    "importances = get_param_importances(study)\n",
    "print(\"\\nHyperparameter importances (higher ⇒ more impact):\")\n",
    "for name, score in sorted(importances.items(), key=lambda x: x[1], reverse=True):\n",
    "    print(f\"  {name:20s}: {score:.3f}\")\n",
    "\n",
    "first_day = df_train_val.index.normalize().min().strftime(\"%Y%m%d\")\n",
    "last_day  = df_train_val.index.normalize().max().strftime(\"%Y%m%d\")\n",
    "file_name = f\"{params.ticker}_{first_day}-{last_day}_optuna_predsig_pars_{study.best_value}_{params.model_path}.json\"\n",
    "file_path = os.path.join(params.optuna_folder, file_name)\n",
    "\n",
    "with open(file_path, \"w\") as f:\n",
    "    json.dump({\n",
    "        \"best_params\": study.best_params,\n",
    "        \"best_value\" : study.best_value,\n",
    "        \"importances\": importances,\n",
    "        \"trials\": [\n",
    "            {\"number\": t.number, \"value\": t.value, \"params\": t.params, \"state\": t.state.name}\n",
    "            for t in study.trials\n",
    "        ],\n",
    "    }, f, indent=4)\n",
    "\n",
    "print(f\"\\nOptuna results (and importances) saved to: {file_path}\")"
   ]
  },
  {
   "cell_type": "code",
   "execution_count": null,
   "id": "0f9f919a-ddf0-4fcd-a8b9-3baa5cf8b7a5",
   "metadata": {},
   "outputs": [],
   "source": [
    "# Compute Descriptive Statistics\n",
    "# Statistics show whether your model systematically over/under-estimates (compare means) and how tightly it tracks (std & correlation).\n",
    "\n",
    "# assume df is your DataFrame\n",
    "stats = df_test[['signal','pred_signal']].describe().T\n",
    "\n",
    "# add range and error\n",
    "stats['range'] = stats['max'] - stats['min']\n",
    "corr = df_test['signal'].corr(df_test['pred_signal'])\n",
    "stats['pearson_r_with_other'] = [corr, corr]\n",
    "\n",
    "print(stats)"
   ]
  },
  {
   "cell_type": "code",
   "execution_count": null,
   "id": "afaafb9d-df9d-43f5-9b3d-1ca0b5c74d6c",
   "metadata": {},
   "outputs": [],
   "source": [
    "# Distribution Overlay\n",
    "# Histogram overlay reveals any bias or mismatched shape in the two distributions.\n",
    "\n",
    "plt.figure(figsize=(8,4))\n",
    "sns.histplot(df_test['signal'], color='C0', alpha=0.5, bins=50, label='true signal')\n",
    "sns.histplot(df_test['pred_signal'],   color='C1', alpha=0.5, bins=50, label='pred signal')\n",
    "plt.legend()\n",
    "plt.xlabel('Signal Value')\n",
    "plt.ylabel('Count')\n",
    "plt.title('Histogram of true signal vs. pred signal')\n",
    "plt.show()"
   ]
  },
  {
   "cell_type": "code",
   "execution_count": null,
   "id": "af62b6a4-d566-4425-afee-25289d9397d5",
   "metadata": {},
   "outputs": [],
   "source": [
    "# Scatter Plot: Relationship\n",
    "# Scatter against the 45° line instantly shows under/over‐prediction regions and non‐linear errors.\n",
    "\n",
    "plt.figure(figsize=(5,5))\n",
    "plt.scatter(df_test['signal'], df_test['pred_signal'],\n",
    "            s=5, alpha=0.3, color='C2')\n",
    "plt.plot([0,1],[0,1], 'k--', linewidth=1)  # 45° reference line\n",
    "plt.xlabel('signal')\n",
    "plt.ylabel('pred_signal')\n",
    "plt.title('pred_signal vs. signal')\n",
    "plt.axis('equal')\n",
    "plt.show()"
   ]
  },
  {
   "cell_type": "code",
   "execution_count": null,
   "id": "eddbeb73-c57c-415b-8172-d1fba5f117cb",
   "metadata": {},
   "outputs": [],
   "source": [
    "# Time-Series Comparison (Sample)\n",
    "# Time‐series plots let you see if the model lags or leads the smoothed signal on a given day.\n",
    "\n",
    "# pick a single day or time span\n",
    "day = df_test.index.normalize().unique()[-1]\n",
    "mask = df_test.index.normalize() == day\n",
    "\n",
    "plt.figure(figsize=(10,3))\n",
    "plt.plot(df_test.index[mask], df_test.loc[mask,'signal'], label='signal')\n",
    "plt.plot(df_test.index[mask], df_test.loc[mask,'pred_signal'],   label='pred_signal')\n",
    "plt.legend(loc='upper left')\n",
    "plt.title(f'Signals on {day.date()}')\n",
    "plt.xlabel('Time')\n",
    "plt.ylabel('Signal')\n",
    "plt.xticks(rotation=45)\n",
    "plt.tight_layout()\n",
    "plt.show()"
   ]
  },
  {
   "cell_type": "code",
   "execution_count": null,
   "id": "b086846a-45f7-48c5-8a71-c9ed215a3230",
   "metadata": {},
   "outputs": [],
   "source": [
    "# Error Analysis \n",
    "# Error plots quantify where and when the model struggles most, guiding you to fix lag, amplitude scaling, or threshold issues.\n",
    "\n",
    "# create error column\n",
    "df_test['error'] = df_test['pred_signal'] - df_test['signal']\n",
    "\n",
    "# Distribution of prediction error\n",
    "plt.figure(figsize=(6,3))\n",
    "sns.histplot(df_test['error'], bins=50, color='C3', kde=True)\n",
    "plt.xlabel('Prediction Error')\n",
    "plt.title('Error Distribution: pred signal − true signal')\n",
    "plt.show()\n",
    "\n",
    "# Time evolution of error on that same sample day\n",
    "plt.figure(figsize=(10,3))\n",
    "plt.plot(df_test.index[mask], df_test.loc[mask,'error'], color='C4')\n",
    "plt.axhline(0, color='k', linestyle='--', linewidth=1)\n",
    "plt.title(f'Prediction Error over time on {day.date()}')\n",
    "plt.xlabel('Time')\n",
    "plt.ylabel('Error')\n",
    "plt.xticks(rotation=45)\n",
    "plt.tight_layout()\n",
    "plt.show()\n"
   ]
  },
  {
   "cell_type": "code",
   "execution_count": null,
   "id": "4b0b957c-f93a-41b6-bce1-08806c2b0906",
   "metadata": {},
   "outputs": [],
   "source": [
    "print('generating sim_results as a dict: { date → (df_sim, trades_list, perf_stats) } ...')\n",
    "\n",
    "# Run the simulator on your DataFrame of predictions/actions\n",
    "sim_results = trades.simulate_trading(\n",
    "    results_by_day_sign = df_train_val,              # DF with pred_action\n",
    "    col_action          = \"pred_action\",              # name of the discrete action column\n",
    "    regular_start       = params.regular_start,   \n",
    "    regular_end         = params.regular_end,         \n",
    "    ticker              = params.ticker\n",
    ")\n"
   ]
  },
  {
   "cell_type": "code",
   "execution_count": null,
   "id": "08efbd70-ae18-4653-a023-aa7f2cc81b82",
   "metadata": {},
   "outputs": [],
   "source": [
    "importlib.reload(params)\n",
    "# month to inspect (YYYY-MM)\n",
    "date_to_test = params.date_to_test\n",
    "\n",
    "year, month = map(int, date_to_test.split(\"-\"))\n",
    "\n",
    "# 1) Build lists of days in that month + accumulate ALL days\n",
    "days_in_month = []\n",
    "performance_month = []\n",
    "performance_all   = []\n",
    "\n",
    "for day, (df_sim, trades_list, perf_stats) in sim_results.items():\n",
    "    # always collect for the global summary\n",
    "    performance_all.append(perf_stats)\n",
    "\n",
    "    # pick out this month for plotting\n",
    "    if day.year == year and day.month == month:\n",
    "        days_in_month.append(day)\n",
    "        performance_month.append(perf_stats)\n",
    "\n",
    "# 2) Plot & print per-day stats for the month\n",
    "if not days_in_month:\n",
    "    print(f\"No simulation data for {date_to_test}\")\n",
    "else:\n",
    "    print(f\"\\nPlotting days in {date_to_test}:\")\n",
    "    for day in days_in_month:\n",
    "        df_sim, trades_list, perf_stats = sim_results[day]\n",
    "        plots.plot_trades(\n",
    "            df                = df_sim,\n",
    "            col_signal1       = \"signal\",\n",
    "            col_signal2       = \"pred_signal\",\n",
    "            col_action        = \"pred_action\",\n",
    "            trades            = trades_list,\n",
    "            buy_threshold     = params.pred_threshold_tick,\n",
    "            performance_stats = perf_stats\n",
    "        )\n",
    "        \n",
    "        print(f\"\\n=== Performance for {day} ===\")\n",
    "        for k, v in perf_stats.items():\n",
    "            print(f\"{k}: {v}\")\n",
    "\n",
    "# 3) Monthly summary\n",
    "df_month = df_test[df_test.index.to_period(\"M\") == date_to_test]\n",
    "plots.aggregate_performance(performance_month, df_month)\n",
    "\n",
    "# 4) Overall summary across ALL days, with date range\n",
    "plots.aggregate_performance(performance_all, df_test)\n"
   ]
  },
  {
   "cell_type": "code",
   "execution_count": null,
   "id": "749a6f11-54e4-4778-ac70-903606897ea3",
   "metadata": {},
   "outputs": [],
   "source": []
  },
  {
   "cell_type": "code",
   "execution_count": null,
   "id": "06cee26d-0227-49cc-8d3d-6da977a39753",
   "metadata": {},
   "outputs": [],
   "source": []
  }
 ],
 "metadata": {
  "kernelspec": {
   "display_name": "Python 3 (ipykernel)",
   "language": "python",
   "name": "python3"
  },
  "language_info": {
   "codemirror_mode": {
    "name": "ipython",
    "version": 3
   },
   "file_extension": ".py",
   "mimetype": "text/x-python",
   "name": "python",
   "nbconvert_exporter": "python",
   "pygments_lexer": "ipython3",
   "version": "3.12.3"
  }
 },
 "nbformat": 4,
 "nbformat_minor": 5
}
