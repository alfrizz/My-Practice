{
 "cells": [
  {
   "cell_type": "code",
   "execution_count": 1,
   "id": "db53f869-3ce8-4b85-9c38-ba83b86b51b9",
   "metadata": {},
   "outputs": [],
   "source": [
    "# 1) Wipe out all Python variables\n",
    "%reset -f\n",
    "# 2) Force Python’s garbage collector to run\n",
    "import gc\n",
    "gc.collect()\n",
    "\n",
    "import importlib\n",
    "from libs import trades, plots, params, models\n",
    "importlib.reload(trades)\n",
    "importlib.reload(plots)\n",
    "importlib.reload(params)\n",
    "importlib.reload(models)\n",
    "\n",
    "import pandas as pd\n",
    "import numpy as np\n",
    "import math\n",
    "from typing import Tuple\n",
    "\n",
    "from pathlib import Path\n",
    "import pickle\n",
    "import datetime as dt\n",
    "from datetime import datetime\n",
    "from datetime import time\n",
    "\n",
    "import matplotlib.pyplot as plt   \n",
    "import seaborn as sns\n",
    "from pprint import pprint\n",
    "\n",
    "import torch\n",
    "import torch.nn.functional as Funct\n",
    "from torch.utils.data import Dataset, DataLoader\n",
    "torch.serialization.add_safe_globals([models.DayWindowDataset])\n",
    "\n",
    "from tqdm.auto import tqdm\n",
    "\n",
    "import io\n",
    "from PIL import Image\n",
    "import IPython.display as disp\n",
    "\n",
    "import optuna\n",
    "from optuna.trial import TrialState\n",
    "from optuna.importance import get_param_importances\n",
    "from optuna.visualization.matplotlib import plot_optimization_history\n",
    "from optuna.storages import RDBStorage"
   ]
  },
  {
   "cell_type": "code",
   "execution_count": 2,
   "id": "1c9b44fb-0cf5-4b31-8cdf-39d8d587234e",
   "metadata": {},
   "outputs": [],
   "source": [
    "device               = params.device\n",
    "ticker               = params.ticker\n",
    "save_path            = params.save_path\n",
    "pred_threshold       = params.pred_threshold_tick\n",
    "regular_start        = params.regular_start\n",
    "regular_start_pred   = params.regular_start_pred\n",
    "regular_start_shifted= params.regular_start_shifted\n",
    "regular_end          = params.regular_end\n",
    "look_back            = params.look_back_tick\n",
    "trailing_stop_thresh = params.trailing_stop_thresh_tick\n",
    "\n",
    "n_trials = 150\n",
    "n_jobs = 1"
   ]
  },
  {
   "cell_type": "code",
   "execution_count": 3,
   "id": "71fcfa66-3fa8-4cb4-a040-4e0b5b1804fd",
   "metadata": {},
   "outputs": [
    {
     "data": {
      "text/html": [
       "<div>\n",
       "<style scoped>\n",
       "    .dataframe tbody tr th:only-of-type {\n",
       "        vertical-align: middle;\n",
       "    }\n",
       "\n",
       "    .dataframe tbody tr th {\n",
       "        vertical-align: top;\n",
       "    }\n",
       "\n",
       "    .dataframe thead th {\n",
       "        text-align: right;\n",
       "    }\n",
       "</style>\n",
       "<table border=\"1\" class=\"dataframe\">\n",
       "  <thead>\n",
       "    <tr style=\"text-align: right;\">\n",
       "      <th></th>\n",
       "      <th>open</th>\n",
       "      <th>high</th>\n",
       "      <th>low</th>\n",
       "      <th>close</th>\n",
       "      <th>atr_14</th>\n",
       "      <th>vwap_dev</th>\n",
       "      <th>ma_20</th>\n",
       "      <th>macd_12_26</th>\n",
       "      <th>obv</th>\n",
       "      <th>hour</th>\n",
       "      <th>month</th>\n",
       "      <th>bid</th>\n",
       "      <th>ask</th>\n",
       "      <th>signal_smooth</th>\n",
       "    </tr>\n",
       "  </thead>\n",
       "  <tbody>\n",
       "    <tr>\n",
       "      <th>2014-04-03 08:49:00</th>\n",
       "      <td>28.650</td>\n",
       "      <td>28.6500</td>\n",
       "      <td>28.650</td>\n",
       "      <td>28.6500</td>\n",
       "      <td>0.000000</td>\n",
       "      <td>1.240040e-16</td>\n",
       "      <td>28.650000</td>\n",
       "      <td>0.000000</td>\n",
       "      <td>0.000000e+00</td>\n",
       "      <td>8</td>\n",
       "      <td>4</td>\n",
       "      <td>28.641405</td>\n",
       "      <td>28.658595</td>\n",
       "      <td>0.219822</td>\n",
       "    </tr>\n",
       "    <tr>\n",
       "      <th>2014-04-03 08:50:00</th>\n",
       "      <td>28.650</td>\n",
       "      <td>28.6500</td>\n",
       "      <td>28.650</td>\n",
       "      <td>28.6500</td>\n",
       "      <td>0.000000</td>\n",
       "      <td>1.240040e-16</td>\n",
       "      <td>28.650000</td>\n",
       "      <td>0.000000</td>\n",
       "      <td>0.000000e+00</td>\n",
       "      <td>8</td>\n",
       "      <td>4</td>\n",
       "      <td>28.641405</td>\n",
       "      <td>28.658595</td>\n",
       "      <td>0.220376</td>\n",
       "    </tr>\n",
       "    <tr>\n",
       "      <th>2014-04-03 08:51:00</th>\n",
       "      <td>28.650</td>\n",
       "      <td>28.6500</td>\n",
       "      <td>28.650</td>\n",
       "      <td>28.6500</td>\n",
       "      <td>0.000000</td>\n",
       "      <td>1.240040e-16</td>\n",
       "      <td>28.650000</td>\n",
       "      <td>0.000000</td>\n",
       "      <td>0.000000e+00</td>\n",
       "      <td>8</td>\n",
       "      <td>4</td>\n",
       "      <td>28.641405</td>\n",
       "      <td>28.658595</td>\n",
       "      <td>0.220931</td>\n",
       "    </tr>\n",
       "    <tr>\n",
       "      <th>2014-04-03 08:52:00</th>\n",
       "      <td>28.650</td>\n",
       "      <td>28.6500</td>\n",
       "      <td>28.650</td>\n",
       "      <td>28.6500</td>\n",
       "      <td>0.000000</td>\n",
       "      <td>1.240040e-16</td>\n",
       "      <td>28.650000</td>\n",
       "      <td>0.000000</td>\n",
       "      <td>0.000000e+00</td>\n",
       "      <td>8</td>\n",
       "      <td>4</td>\n",
       "      <td>28.641405</td>\n",
       "      <td>28.658595</td>\n",
       "      <td>0.221487</td>\n",
       "    </tr>\n",
       "    <tr>\n",
       "      <th>2014-04-03 08:53:00</th>\n",
       "      <td>28.650</td>\n",
       "      <td>28.6500</td>\n",
       "      <td>28.650</td>\n",
       "      <td>28.6500</td>\n",
       "      <td>0.000000</td>\n",
       "      <td>1.240040e-16</td>\n",
       "      <td>28.650000</td>\n",
       "      <td>0.000000</td>\n",
       "      <td>0.000000e+00</td>\n",
       "      <td>8</td>\n",
       "      <td>4</td>\n",
       "      <td>28.641405</td>\n",
       "      <td>28.658595</td>\n",
       "      <td>0.222044</td>\n",
       "    </tr>\n",
       "    <tr>\n",
       "      <th>...</th>\n",
       "      <td>...</td>\n",
       "      <td>...</td>\n",
       "      <td>...</td>\n",
       "      <td>...</td>\n",
       "      <td>...</td>\n",
       "      <td>...</td>\n",
       "      <td>...</td>\n",
       "      <td>...</td>\n",
       "      <td>...</td>\n",
       "      <td>...</td>\n",
       "      <td>...</td>\n",
       "      <td>...</td>\n",
       "      <td>...</td>\n",
       "      <td>...</td>\n",
       "    </tr>\n",
       "    <tr>\n",
       "      <th>2025-06-18 20:56:00</th>\n",
       "      <td>173.375</td>\n",
       "      <td>173.6771</td>\n",
       "      <td>173.215</td>\n",
       "      <td>173.5650</td>\n",
       "      <td>0.304529</td>\n",
       "      <td>1.257638e+00</td>\n",
       "      <td>174.838390</td>\n",
       "      <td>-0.422065</td>\n",
       "      <td>4.758230e+08</td>\n",
       "      <td>20</td>\n",
       "      <td>6</td>\n",
       "      <td>173.512900</td>\n",
       "      <td>173.617100</td>\n",
       "      <td>0.002995</td>\n",
       "    </tr>\n",
       "    <tr>\n",
       "      <th>2025-06-18 20:57:00</th>\n",
       "      <td>173.565</td>\n",
       "      <td>173.5900</td>\n",
       "      <td>173.240</td>\n",
       "      <td>173.3800</td>\n",
       "      <td>0.317029</td>\n",
       "      <td>1.255215e+00</td>\n",
       "      <td>174.736890</td>\n",
       "      <td>-0.466939</td>\n",
       "      <td>4.751988e+08</td>\n",
       "      <td>20</td>\n",
       "      <td>6</td>\n",
       "      <td>173.328000</td>\n",
       "      <td>173.432000</td>\n",
       "      <td>0.002906</td>\n",
       "    </tr>\n",
       "    <tr>\n",
       "      <th>2025-06-18 20:58:00</th>\n",
       "      <td>173.390</td>\n",
       "      <td>173.4100</td>\n",
       "      <td>173.200</td>\n",
       "      <td>173.3100</td>\n",
       "      <td>0.323814</td>\n",
       "      <td>1.254293e+00</td>\n",
       "      <td>174.634390</td>\n",
       "      <td>-0.502359</td>\n",
       "      <td>4.747443e+08</td>\n",
       "      <td>20</td>\n",
       "      <td>6</td>\n",
       "      <td>173.258000</td>\n",
       "      <td>173.362000</td>\n",
       "      <td>0.005611</td>\n",
       "    </tr>\n",
       "    <tr>\n",
       "      <th>2025-06-18 20:59:00</th>\n",
       "      <td>173.315</td>\n",
       "      <td>173.4000</td>\n",
       "      <td>173.230</td>\n",
       "      <td>173.2800</td>\n",
       "      <td>0.322743</td>\n",
       "      <td>1.253874e+00</td>\n",
       "      <td>174.527890</td>\n",
       "      <td>-0.526778</td>\n",
       "      <td>4.736496e+08</td>\n",
       "      <td>20</td>\n",
       "      <td>6</td>\n",
       "      <td>173.228000</td>\n",
       "      <td>173.332000</td>\n",
       "      <td>0.006685</td>\n",
       "    </tr>\n",
       "    <tr>\n",
       "      <th>2025-06-18 21:00:00</th>\n",
       "      <td>173.300</td>\n",
       "      <td>174.0500</td>\n",
       "      <td>173.170</td>\n",
       "      <td>173.6097</td>\n",
       "      <td>0.374521</td>\n",
       "      <td>1.257962e+00</td>\n",
       "      <td>174.442375</td>\n",
       "      <td>-0.513606</td>\n",
       "      <td>4.812994e+08</td>\n",
       "      <td>21</td>\n",
       "      <td>6</td>\n",
       "      <td>173.557600</td>\n",
       "      <td>173.661800</td>\n",
       "      <td>0.003506</td>\n",
       "    </tr>\n",
       "  </tbody>\n",
       "</table>\n",
       "<p>2117801 rows × 14 columns</p>\n",
       "</div>"
      ],
      "text/plain": [
       "                        open      high      low     close    atr_14  \\\n",
       "2014-04-03 08:49:00   28.650   28.6500   28.650   28.6500  0.000000   \n",
       "2014-04-03 08:50:00   28.650   28.6500   28.650   28.6500  0.000000   \n",
       "2014-04-03 08:51:00   28.650   28.6500   28.650   28.6500  0.000000   \n",
       "2014-04-03 08:52:00   28.650   28.6500   28.650   28.6500  0.000000   \n",
       "2014-04-03 08:53:00   28.650   28.6500   28.650   28.6500  0.000000   \n",
       "...                      ...       ...      ...       ...       ...   \n",
       "2025-06-18 20:56:00  173.375  173.6771  173.215  173.5650  0.304529   \n",
       "2025-06-18 20:57:00  173.565  173.5900  173.240  173.3800  0.317029   \n",
       "2025-06-18 20:58:00  173.390  173.4100  173.200  173.3100  0.323814   \n",
       "2025-06-18 20:59:00  173.315  173.4000  173.230  173.2800  0.322743   \n",
       "2025-06-18 21:00:00  173.300  174.0500  173.170  173.6097  0.374521   \n",
       "\n",
       "                         vwap_dev       ma_20  macd_12_26           obv  hour  \\\n",
       "2014-04-03 08:49:00  1.240040e-16   28.650000    0.000000  0.000000e+00     8   \n",
       "2014-04-03 08:50:00  1.240040e-16   28.650000    0.000000  0.000000e+00     8   \n",
       "2014-04-03 08:51:00  1.240040e-16   28.650000    0.000000  0.000000e+00     8   \n",
       "2014-04-03 08:52:00  1.240040e-16   28.650000    0.000000  0.000000e+00     8   \n",
       "2014-04-03 08:53:00  1.240040e-16   28.650000    0.000000  0.000000e+00     8   \n",
       "...                           ...         ...         ...           ...   ...   \n",
       "2025-06-18 20:56:00  1.257638e+00  174.838390   -0.422065  4.758230e+08    20   \n",
       "2025-06-18 20:57:00  1.255215e+00  174.736890   -0.466939  4.751988e+08    20   \n",
       "2025-06-18 20:58:00  1.254293e+00  174.634390   -0.502359  4.747443e+08    20   \n",
       "2025-06-18 20:59:00  1.253874e+00  174.527890   -0.526778  4.736496e+08    20   \n",
       "2025-06-18 21:00:00  1.257962e+00  174.442375   -0.513606  4.812994e+08    21   \n",
       "\n",
       "                     month         bid         ask  signal_smooth  \n",
       "2014-04-03 08:49:00      4   28.641405   28.658595       0.219822  \n",
       "2014-04-03 08:50:00      4   28.641405   28.658595       0.220376  \n",
       "2014-04-03 08:51:00      4   28.641405   28.658595       0.220931  \n",
       "2014-04-03 08:52:00      4   28.641405   28.658595       0.221487  \n",
       "2014-04-03 08:53:00      4   28.641405   28.658595       0.222044  \n",
       "...                    ...         ...         ...            ...  \n",
       "2025-06-18 20:56:00      6  173.512900  173.617100       0.002995  \n",
       "2025-06-18 20:57:00      6  173.328000  173.432000       0.002906  \n",
       "2025-06-18 20:58:00      6  173.258000  173.362000       0.005611  \n",
       "2025-06-18 20:59:00      6  173.228000  173.332000       0.006685  \n",
       "2025-06-18 21:00:00      6  173.557600  173.661800       0.003506  \n",
       "\n",
       "[2117801 rows x 14 columns]"
      ]
     },
     "execution_count": 3,
     "metadata": {},
     "output_type": "execute_result"
    }
   ],
   "source": [
    "df = pd.read_csv(params.final_csv, index_col=0, parse_dates=True)\n",
    "df"
   ]
  },
  {
   "cell_type": "code",
   "execution_count": 4,
   "id": "3daba10b-3212-4a06-b607-748995bdc51b",
   "metadata": {},
   "outputs": [
    {
     "name": "stdout",
     "output_type": "stream",
     "text": [
      "{'ATT_DROPOUT': 0.3,\n",
      " 'ATT_HEADS': 8,\n",
      " 'CLIPNORM': 1,\n",
      " 'DROPOUT_LONG': 0.35,\n",
      " 'DROPOUT_SHORT': 0.25,\n",
      " 'EARLY_STOP_PATIENCE': 10,\n",
      " 'ETA_MIN': 2e-05,\n",
      " 'INITIAL_LR': 0.0007,\n",
      " 'LONG_UNITS': 128,\n",
      " 'LR_EPOCHS_WARMUP': 1,\n",
      " 'MAX_EPOCHS': 60,\n",
      " 'MIN_LR': 1e-06,\n",
      " 'NUM_WORKERS': 2,\n",
      " 'PLATEAU_FACTOR': 0.9,\n",
      " 'PLATEAU_PATIENCE': 0,\n",
      " 'PLAT_EPOCHS_WARMUP': 999,\n",
      " 'SHORT_UNITS': 64,\n",
      " 'TRAIN_BATCH': 32,\n",
      " 'TRAIN_PREFETCH_FACTOR': 1,\n",
      " 'T_0': 60,\n",
      " 'T_MULT': 1,\n",
      " 'VAL_BATCH': 1,\n",
      " 'WEIGHT_DECAY': 0.0001}\n"
     ]
    },
    {
     "data": {
      "image/png": "[encoded data removed]",
      "text/plain": [
       "<PIL.PngImagePlugin.PngImageFile image mode=RGBA size=660x440>"
      ]
     },
     "metadata": {},
     "output_type": "display_data"
    },
    {
     "data": {
      "text/plain": [
       "DualMemoryLSTM(\n",
       "  (short_lstm): LSTM(11, 64, batch_first=True)\n",
       "  (attn): MultiheadAttention(\n",
       "    (out_proj): NonDynamicallyQuantizableLinear(in_features=64, out_features=64, bias=True)\n",
       "  )\n",
       "  (do_short): Dropout(p=0.22954890576005055, inplace=False)\n",
       "  (ln_short): LayerNorm((64,), eps=1e-05, elementwise_affine=True)\n",
       "  (long_lstm): LSTM(64, 128, batch_first=True)\n",
       "  (do_long): Dropout(p=0.343468190413778, inplace=False)\n",
       "  (ln_long): LayerNorm((128,), eps=1e-05, elementwise_affine=True)\n",
       "  (pred): Linear(in_features=128, out_features=1, bias=True)\n",
       ")"
      ]
     },
     "execution_count": 4,
     "metadata": {},
     "output_type": "execute_result"
    }
   ],
   "source": [
    "# Load the entire model object (architecture + weights)# 1) load your checkpoint dict\n",
    "ckpt = torch.load(params.model_path, map_location=device, weights_only=False)\n",
    "\n",
    "# 2) grab the full model object you saved\n",
    "model_best = ckpt[\"model_obj\"]\n",
    "\n",
    "# 3) move to device and set eval mode\n",
    "model_best = model_best.to(device).eval()\n",
    "\n",
    "# 4) show parameters, training plot, and model\n",
    "saved_hparams = ckpt[\"hparams\"]\n",
    "pprint(saved_hparams)\n",
    "\n",
    "png_bytes = ckpt.get(\"train_plot_png\")\n",
    "img = Image.open(io.BytesIO(png_bytes))\n",
    "disp.display(img)\n",
    "\n",
    "model_best\n"
   ]
  },
  {
   "cell_type": "code",
   "execution_count": 5,
   "id": "c93385fa-870a-4259-ad0c-05d68180afcf",
   "metadata": {},
   "outputs": [
    {
     "name": "stdout",
     "output_type": "stream",
     "text": [
      "executing <build_lstm_tensors>...\n",
      "executing <chronological_split>...\n",
      "executing <split_to_day_datasets>...\n",
      "▶️ Entered split_to_day_datasets\n",
      "1) building weekday arrays\n",
      "   Weekdays counts → tr=1132845, val=236394, te=240962\n",
      "2) moving all splits to CPU\n",
      "   CPU casts done\n",
      "3) zero-bas­ing day_id for val & test\n",
      "   val_day_id ∈ [0..413], total days=414\n",
      "   te_day_id  ∈ [0..421], total days=422\n",
      "4) instantiating DayWindowDatasets\n",
      "   ds_tr days: 1984\n",
      "   ds_val days: 414\n",
      "   ds_te days: 422\n",
      "5) building DataLoaders\n",
      "   train_loader ready\n",
      "   val_loader ready\n",
      "   test_loader ready\n",
      "dataloaders generated!\n"
     ]
    }
   ],
   "source": [
    "print('executing <build_lstm_tensors>...')\n",
    "X, y, raw_close, raw_bid, raw_ask = models.build_lstm_tensors(\n",
    "    df=df,\n",
    "    look_back=look_back,\n",
    "    features_cols=params.features_cols,\n",
    "    label_col=params.label_col,\n",
    "    regular_start=regular_start_pred \n",
    ")\n",
    "\n",
    "print('executing <chronological_split>...')\n",
    "(X_tr, y_tr), \\\n",
    "(X_val, y_val), \\\n",
    "(X_te, y_te, raw_close_te, raw_bid_te, raw_ask_te), \\\n",
    "samples_per_day, day_id_tr, day_id_val, day_id_te = models.chronological_split(\n",
    "    X, y, raw_close, raw_bid, raw_ask, df,\n",
    "    look_back    = look_back,\n",
    "    regular_start=regular_start_pred, \n",
    "    train_prop   = params.train_prop,\n",
    "    val_prop     = params.val_prop,\n",
    "    train_batch  = params.hparams['TRAIN_BATCH']\n",
    ")\n",
    "\n",
    "print('executing <split_to_day_datasets>...')\n",
    "train_loader, val_loader, test_loader = models.split_to_day_datasets(\n",
    "    # Training split arrays (from chronological_split)\n",
    "    X_tr, y_tr, day_id_tr,\n",
    "    # Validation split arrays\n",
    "    X_val, y_val, day_id_val,\n",
    "    # Test split arrays + raw prices for post‐tracking\n",
    "    X_te, y_te, day_id_te, raw_close_te, raw_bid_te, raw_ask_te,\n",
    "    # Original minute‐bar DataFrame for weekday mapping\n",
    "    df=df,\n",
    "    train_batch=params.hparams['TRAIN_BATCH'],\n",
    "    train_workers=params.hparams['NUM_WORKERS']\n",
    ")\n",
    "\n",
    "print('dataloaders generated!')"
   ]
  },
  {
   "cell_type": "code",
   "execution_count": 6,
   "id": "9cc3bb61-a03f-466d-9fde-ed65753fc6b2",
   "metadata": {},
   "outputs": [
    {
     "name": "stdout",
     "output_type": "stream",
     "text": [
      "Val zero‐forecast baseline RMSE  = 0.51801\n",
      "Test zero‐forecast baseline RMSE = 0.55302\n"
     ]
    }
   ],
   "source": [
    "# zero‐forecast baseline on val vs test\n",
    "# √( mean( (yᵢ – 0)² ) )\n",
    "\n",
    "val_baseline  = models.naive_rmse(val_loader)\n",
    "test_baseline = models.naive_rmse(test_loader)\n",
    "\n",
    "print(f\"Val zero‐forecast baseline RMSE  = {val_baseline:.5f}\")\n",
    "print(f\"Test zero‐forecast baseline RMSE = {test_baseline:.5f}\")"
   ]
  },
  {
   "cell_type": "code",
   "execution_count": 7,
   "id": "ce154412-6773-4774-bc9f-7bc5f74f981d",
   "metadata": {},
   "outputs": [
    {
     "name": "stdout",
     "output_type": "stream",
     "text": [
      "std val: 0.32973263\n",
      "std test: 0.34039408\n"
     ]
    },
    {
     "data": {
      "image/png": "[encoded data removed]",
      "text/plain": [
       "<Figure size 640x480 with 1 Axes>"
      ]
     },
     "metadata": {},
     "output_type": "display_data"
    }
   ],
   "source": [
    "# to confirm the baseline proportions, calculate the STD\n",
    "# σ = √( mean( (yᵢ – ȳ)² ) )\n",
    "\n",
    "y_vals = np.concatenate([batch[1].view(-1).numpy()\n",
    "                         for batch in val_loader])\n",
    "y_tes  = np.concatenate([batch[1].view(-1).numpy()\n",
    "                         for batch in test_loader])\n",
    "print(\"std val:\", np.std(y_vals))\n",
    "print(\"std test:\", np.std(y_tes))\n",
    "\n",
    "plt.hist(y_vals, bins=100, alpha=0.5, label=\"val\")\n",
    "plt.hist(y_tes,  bins=100, alpha=0.5, label=\"test\")\n",
    "plt.legend(); plt.show()"
   ]
  },
  {
   "cell_type": "code",
   "execution_count": 8,
   "id": "2e3fd008-4a5d-44fd-9bb4-c4e70e4c8ea0",
   "metadata": {},
   "outputs": [],
   "source": [
    "def evaluate_model(\n",
    "    model: torch.nn.Module,\n",
    "    loader: torch.utils.data.DataLoader,\n",
    "    device: torch.device,\n",
    "    split_name: str\n",
    ") -> Tuple[float, np.ndarray]:\n",
    "    \"\"\"\n",
    "    Fast per-day RMSE + preds, exactly matching  val‐phase logic:\n",
    "\n",
    "    • Expects each batch from `loader` to be a tuple of at least\n",
    "      (xb_batch, yb_batch, day_id_batch, …). We only use the first 3.\n",
    "    • xb_batch: Tensor(B, W, look_back, F)\n",
    "    • yb_batch: Tensor(B, W)\n",
    "    • day_id_batch: Tensor(B,) or (B, W) weekday/day‐id\n",
    "    \"\"\"\n",
    "\n",
    "    model.to(device).eval()\n",
    "    model.h_short = model.h_long = None\n",
    "\n",
    "    prev_day_id   = None\n",
    "    total_sq_err  = 0.0\n",
    "    total_windows = 0\n",
    "    all_preds     = []\n",
    "\n",
    "    with torch.no_grad():\n",
    "        for batch in tqdm(loader, desc=split_name, unit=\"batch\"):\n",
    "            # grab only the first three outputs, ignore raw_close/raw_bid/etc.\n",
    "            xb_batch, yb_batch, day_id_batch = batch[:3]\n",
    "\n",
    "            # move to device once\n",
    "            xb_batch     = xb_batch.to(device, non_blocking=True)\n",
    "            yb_batch     = yb_batch.to(device, non_blocking=True)\n",
    "            day_id_batch = day_id_batch.to(device, non_blocking=True)\n",
    "\n",
    "            # if we got one day_id per window, reduce to one/day\n",
    "            if day_id_batch.dim() > 1:\n",
    "                day_id_batch = day_id_batch[:, 0]\n",
    "\n",
    "            B, W = xb_batch.shape[0], xb_batch.shape[1]\n",
    "\n",
    "            for i in range(B):\n",
    "                x_day  = xb_batch[i]             # (W, look_back, F)\n",
    "                y_day  = yb_batch[i].view(-1)    # (W,)\n",
    "                day_id = int(day_id_batch[i].item())\n",
    "\n",
    "                # reset LSTM states exactly as in val loop\n",
    "                model.reset_short()\n",
    "                if prev_day_id is not None and day_id < prev_day_id:\n",
    "                    model.reset_long()\n",
    "                prev_day_id = day_id\n",
    "\n",
    "                out      = model(x_day)          # (W, look_back, 1)\n",
    "                pred_day = out[:, -1, 0]         # (W,)\n",
    "\n",
    "                total_sq_err  += (pred_day - y_day).pow(2).sum().item()\n",
    "                total_windows += y_day.numel()\n",
    "                all_preds.append(pred_day.cpu().numpy())\n",
    "\n",
    "    rmse  = math.sqrt(total_sq_err / total_windows)\n",
    "    preds = np.concatenate(all_preds, axis=0)\n",
    "\n",
    "    print(f\"\\n{split_name} RMSE over {total_windows} windows = {rmse:.5f}\")\n",
    "    return rmse, preds\n"
   ]
  },
  {
   "cell_type": "code",
   "execution_count": 9,
   "id": "d557c7f6-8653-4b5c-afc2-e16ba8daf319",
   "metadata": {},
   "outputs": [
    {
     "data": {
      "application/vnd.jupyter.widget-view+json": {
       "model_id": "84dd839881d24db1a35087d4e404254c",
       "version_major": 2,
       "version_minor": 0
      },
      "text/plain": [
       "Train:   0%|          | 0/62 [00:00<?, ?batch/s]"
      ]
     },
     "metadata": {},
     "output_type": "display_data"
    },
    {
     "name": "stdout",
     "output_type": "stream",
     "text": [
      "\n",
      "Train RMSE over 1132864 windows = 0.26954\n"
     ]
    },
    {
     "data": {
      "application/vnd.jupyter.widget-view+json": {
       "model_id": "1fdbbf24df72402282638882db7a627d",
       "version_major": 2,
       "version_minor": 0
      },
      "text/plain": [
       "Validation:   0%|          | 0/414 [00:00<?, ?batch/s]"
      ]
     },
     "metadata": {},
     "output_type": "display_data"
    },
    {
     "name": "stdout",
     "output_type": "stream",
     "text": [
      "\n",
      "Validation RMSE over 236394 windows = 0.25409\n"
     ]
    },
    {
     "data": {
      "application/vnd.jupyter.widget-view+json": {
       "model_id": "d592cd2d09d94c8dacc08701ce4f0cc9",
       "version_major": 2,
       "version_minor": 0
      },
      "text/plain": [
       "Test:   0%|          | 0/422 [00:00<?, ?batch/s]"
      ]
     },
     "metadata": {},
     "output_type": "display_data"
    },
    {
     "name": "stdout",
     "output_type": "stream",
     "text": [
      "\n",
      "Test RMSE over 240962 windows = 0.28541\n",
      "Train preds: 1132864\n",
      "Val   preds: 236394\n",
      "Test  preds: 240962\n"
     ]
    }
   ],
   "source": [
    "train_rmse, train_preds = evaluate_model(\n",
    "    model_best, train_loader, device,\n",
    "    split_name=\"Train\"\n",
    ")\n",
    "val_rmse, val_preds     = evaluate_model(\n",
    "    model_best, val_loader,   device,\n",
    "    split_name=\"Validation\"\n",
    ")\n",
    "test_rmse, test_preds   = evaluate_model(\n",
    "    model_best, test_loader,  device,\n",
    "    split_name=\"Test\"\n",
    ")\n",
    "\n",
    "print(\"Train preds:\", len(train_preds))\n",
    "print(\"Val   preds:\", len(val_preds))\n",
    "print(\"Test  preds:\", len(test_preds))"
   ]
  },
  {
   "cell_type": "code",
   "execution_count": 10,
   "id": "562d6d29-9f71-45ac-b17a-f6180ff2c4b1",
   "metadata": {},
   "outputs": [],
   "source": [
    "def add_pred_and_split(\n",
    "    df: pd.DataFrame,\n",
    "    train_preds: np.ndarray,\n",
    "    val_preds: np.ndarray,\n",
    "    test_preds: np.ndarray,\n",
    "    day_id_tr: np.ndarray,\n",
    "    day_id_val: np.ndarray,\n",
    "    day_id_te: np.ndarray\n",
    ") -> Tuple[pd.DataFrame, pd.DataFrame]:\n",
    "    \"\"\"\n",
    "    Stamp pred_signal for every bar from regular_start_pred onward,\n",
    "    then simulate actions from regular_start\n",
    "    \"\"\"\n",
    "    # 1) Prepare the output DataFrame\n",
    "    df_out = df.copy()\n",
    "    df_out[\"pred_signal\"] = np.nan\n",
    "    df_out[\"pred_action\"] = 0\n",
    "\n",
    "    # 2) Map day-id arrays → calendar dates\n",
    "    all_days = sorted(df_out.index.normalize().unique())\n",
    "    tr_days  = [all_days[i] for i in np.unique(day_id_tr).astype(int)]\n",
    "    val_days = [all_days[i] for i in np.unique(day_id_val).astype(int)]\n",
    "    te_days  = [all_days[i] for i in np.unique(day_id_te).astype(int)]\n",
    "\n",
    "    # 3) Generic function to stamp preds on each split\n",
    "    def stamp_split(days, preds, name):\n",
    "        mask = (\n",
    "            df_out.index.normalize().isin(days)\n",
    "            & (df_out.index.time >= regular_start_pred)\n",
    "        )\n",
    "        idx = df_out.loc[mask].index\n",
    "        if len(idx) != len(preds):\n",
    "            raise ValueError(\n",
    "                f\"{name}: expected {len(idx)} slots, got {len(preds)} preds\"\n",
    "            )\n",
    "        df_out.loc[idx, \"pred_signal\"] = preds\n",
    "\n",
    "    # 4) Stamp Train, Val, Test\n",
    "    stamp_split(tr_days, train_preds, name=\"Train\")\n",
    "    stamp_split(val_days, val_preds,   name=\"Val\")\n",
    "    stamp_split(te_days,  test_preds,  name=\"Test\")\n",
    "\n",
    "    train_val_days = set(tr_days + val_days)\n",
    "    df_train_val  = df_out[df_out.index.normalize().isin(train_val_days)].copy()\n",
    "    df_test       = df_out[df_out.index.normalize().isin(te_days)].copy()\n",
    "\n",
    "    return df_train_val, train_val_days, df_test, te_days\n"
   ]
  },
  {
   "cell_type": "code",
   "execution_count": 11,
   "id": "3ba6b01a-609f-4680-ae10-cbce10f0eaf4",
   "metadata": {},
   "outputs": [
    {
     "data": {
      "text/html": [
       "<div>\n",
       "<style scoped>\n",
       "    .dataframe tbody tr th:only-of-type {\n",
       "        vertical-align: middle;\n",
       "    }\n",
       "\n",
       "    .dataframe tbody tr th {\n",
       "        vertical-align: top;\n",
       "    }\n",
       "\n",
       "    .dataframe thead th {\n",
       "        text-align: right;\n",
       "    }\n",
       "</style>\n",
       "<table border=\"1\" class=\"dataframe\">\n",
       "  <thead>\n",
       "    <tr style=\"text-align: right;\">\n",
       "      <th></th>\n",
       "      <th>open</th>\n",
       "      <th>high</th>\n",
       "      <th>low</th>\n",
       "      <th>close</th>\n",
       "      <th>atr_14</th>\n",
       "      <th>vwap_dev</th>\n",
       "      <th>ma_20</th>\n",
       "      <th>macd_12_26</th>\n",
       "      <th>obv</th>\n",
       "      <th>hour</th>\n",
       "      <th>month</th>\n",
       "      <th>bid</th>\n",
       "      <th>ask</th>\n",
       "      <th>signal_smooth</th>\n",
       "      <th>pred_signal</th>\n",
       "      <th>pred_action</th>\n",
       "    </tr>\n",
       "  </thead>\n",
       "  <tbody>\n",
       "    <tr>\n",
       "      <th>2014-04-03 08:49:00</th>\n",
       "      <td>28.650</td>\n",
       "      <td>28.65</td>\n",
       "      <td>28.650</td>\n",
       "      <td>28.650</td>\n",
       "      <td>0.000000</td>\n",
       "      <td>1.240040e-16</td>\n",
       "      <td>28.65000</td>\n",
       "      <td>0.000000</td>\n",
       "      <td>0.000000e+00</td>\n",
       "      <td>8</td>\n",
       "      <td>4</td>\n",
       "      <td>28.641405</td>\n",
       "      <td>28.658595</td>\n",
       "      <td>0.219822</td>\n",
       "      <td>NaN</td>\n",
       "      <td>0</td>\n",
       "    </tr>\n",
       "    <tr>\n",
       "      <th>2014-04-03 08:50:00</th>\n",
       "      <td>28.650</td>\n",
       "      <td>28.65</td>\n",
       "      <td>28.650</td>\n",
       "      <td>28.650</td>\n",
       "      <td>0.000000</td>\n",
       "      <td>1.240040e-16</td>\n",
       "      <td>28.65000</td>\n",
       "      <td>0.000000</td>\n",
       "      <td>0.000000e+00</td>\n",
       "      <td>8</td>\n",
       "      <td>4</td>\n",
       "      <td>28.641405</td>\n",
       "      <td>28.658595</td>\n",
       "      <td>0.220376</td>\n",
       "      <td>NaN</td>\n",
       "      <td>0</td>\n",
       "    </tr>\n",
       "    <tr>\n",
       "      <th>2014-04-03 08:51:00</th>\n",
       "      <td>28.650</td>\n",
       "      <td>28.65</td>\n",
       "      <td>28.650</td>\n",
       "      <td>28.650</td>\n",
       "      <td>0.000000</td>\n",
       "      <td>1.240040e-16</td>\n",
       "      <td>28.65000</td>\n",
       "      <td>0.000000</td>\n",
       "      <td>0.000000e+00</td>\n",
       "      <td>8</td>\n",
       "      <td>4</td>\n",
       "      <td>28.641405</td>\n",
       "      <td>28.658595</td>\n",
       "      <td>0.220931</td>\n",
       "      <td>NaN</td>\n",
       "      <td>0</td>\n",
       "    </tr>\n",
       "    <tr>\n",
       "      <th>2014-04-03 08:52:00</th>\n",
       "      <td>28.650</td>\n",
       "      <td>28.65</td>\n",
       "      <td>28.650</td>\n",
       "      <td>28.650</td>\n",
       "      <td>0.000000</td>\n",
       "      <td>1.240040e-16</td>\n",
       "      <td>28.65000</td>\n",
       "      <td>0.000000</td>\n",
       "      <td>0.000000e+00</td>\n",
       "      <td>8</td>\n",
       "      <td>4</td>\n",
       "      <td>28.641405</td>\n",
       "      <td>28.658595</td>\n",
       "      <td>0.221487</td>\n",
       "      <td>NaN</td>\n",
       "      <td>0</td>\n",
       "    </tr>\n",
       "    <tr>\n",
       "      <th>2014-04-03 08:53:00</th>\n",
       "      <td>28.650</td>\n",
       "      <td>28.65</td>\n",
       "      <td>28.650</td>\n",
       "      <td>28.650</td>\n",
       "      <td>0.000000</td>\n",
       "      <td>1.240040e-16</td>\n",
       "      <td>28.65000</td>\n",
       "      <td>0.000000</td>\n",
       "      <td>0.000000e+00</td>\n",
       "      <td>8</td>\n",
       "      <td>4</td>\n",
       "      <td>28.641405</td>\n",
       "      <td>28.658595</td>\n",
       "      <td>0.222044</td>\n",
       "      <td>NaN</td>\n",
       "      <td>0</td>\n",
       "    </tr>\n",
       "    <tr>\n",
       "      <th>...</th>\n",
       "      <td>...</td>\n",
       "      <td>...</td>\n",
       "      <td>...</td>\n",
       "      <td>...</td>\n",
       "      <td>...</td>\n",
       "      <td>...</td>\n",
       "      <td>...</td>\n",
       "      <td>...</td>\n",
       "      <td>...</td>\n",
       "      <td>...</td>\n",
       "      <td>...</td>\n",
       "      <td>...</td>\n",
       "      <td>...</td>\n",
       "      <td>...</td>\n",
       "      <td>...</td>\n",
       "      <td>...</td>\n",
       "    </tr>\n",
       "    <tr>\n",
       "      <th>2023-10-11 20:56:00</th>\n",
       "      <td>140.510</td>\n",
       "      <td>140.62</td>\n",
       "      <td>140.505</td>\n",
       "      <td>140.610</td>\n",
       "      <td>0.105893</td>\n",
       "      <td>1.166374e+00</td>\n",
       "      <td>140.52549</td>\n",
       "      <td>0.040273</td>\n",
       "      <td>4.742212e+08</td>\n",
       "      <td>20</td>\n",
       "      <td>10</td>\n",
       "      <td>140.567800</td>\n",
       "      <td>140.652200</td>\n",
       "      <td>0.000000</td>\n",
       "      <td>0.264903</td>\n",
       "      <td>0</td>\n",
       "    </tr>\n",
       "    <tr>\n",
       "      <th>2023-10-11 20:57:00</th>\n",
       "      <td>140.610</td>\n",
       "      <td>140.66</td>\n",
       "      <td>140.530</td>\n",
       "      <td>140.550</td>\n",
       "      <td>0.112493</td>\n",
       "      <td>1.165446e+00</td>\n",
       "      <td>140.53499</td>\n",
       "      <td>0.038238</td>\n",
       "      <td>4.740805e+08</td>\n",
       "      <td>20</td>\n",
       "      <td>10</td>\n",
       "      <td>140.507800</td>\n",
       "      <td>140.592200</td>\n",
       "      <td>0.000000</td>\n",
       "      <td>0.264527</td>\n",
       "      <td>0</td>\n",
       "    </tr>\n",
       "    <tr>\n",
       "      <th>2023-10-11 20:58:00</th>\n",
       "      <td>140.550</td>\n",
       "      <td>140.60</td>\n",
       "      <td>140.530</td>\n",
       "      <td>140.585</td>\n",
       "      <td>0.111071</td>\n",
       "      <td>1.165982e+00</td>\n",
       "      <td>140.54474</td>\n",
       "      <td>0.039000</td>\n",
       "      <td>4.742260e+08</td>\n",
       "      <td>20</td>\n",
       "      <td>10</td>\n",
       "      <td>140.542800</td>\n",
       "      <td>140.627200</td>\n",
       "      <td>0.000000</td>\n",
       "      <td>0.264571</td>\n",
       "      <td>0</td>\n",
       "    </tr>\n",
       "    <tr>\n",
       "      <th>2023-10-11 20:59:00</th>\n",
       "      <td>140.580</td>\n",
       "      <td>140.62</td>\n",
       "      <td>140.520</td>\n",
       "      <td>140.565</td>\n",
       "      <td>0.112571</td>\n",
       "      <td>1.165662e+00</td>\n",
       "      <td>140.54949</td>\n",
       "      <td>0.037557</td>\n",
       "      <td>4.738080e+08</td>\n",
       "      <td>20</td>\n",
       "      <td>10</td>\n",
       "      <td>140.522800</td>\n",
       "      <td>140.607200</td>\n",
       "      <td>0.000000</td>\n",
       "      <td>0.264390</td>\n",
       "      <td>0</td>\n",
       "    </tr>\n",
       "    <tr>\n",
       "      <th>2023-10-11 21:00:00</th>\n",
       "      <td>140.565</td>\n",
       "      <td>140.62</td>\n",
       "      <td>140.500</td>\n",
       "      <td>140.570</td>\n",
       "      <td>0.115429</td>\n",
       "      <td>1.165592e+00</td>\n",
       "      <td>140.55224</td>\n",
       "      <td>0.036397</td>\n",
       "      <td>4.793438e+08</td>\n",
       "      <td>21</td>\n",
       "      <td>10</td>\n",
       "      <td>140.527800</td>\n",
       "      <td>140.612200</td>\n",
       "      <td>0.000000</td>\n",
       "      <td>0.264176</td>\n",
       "      <td>0</td>\n",
       "    </tr>\n",
       "  </tbody>\n",
       "</table>\n",
       "<p>1800879 rows × 16 columns</p>\n",
       "</div>"
      ],
      "text/plain": [
       "                        open    high      low    close    atr_14  \\\n",
       "2014-04-03 08:49:00   28.650   28.65   28.650   28.650  0.000000   \n",
       "2014-04-03 08:50:00   28.650   28.65   28.650   28.650  0.000000   \n",
       "2014-04-03 08:51:00   28.650   28.65   28.650   28.650  0.000000   \n",
       "2014-04-03 08:52:00   28.650   28.65   28.650   28.650  0.000000   \n",
       "2014-04-03 08:53:00   28.650   28.65   28.650   28.650  0.000000   \n",
       "...                      ...     ...      ...      ...       ...   \n",
       "2023-10-11 20:56:00  140.510  140.62  140.505  140.610  0.105893   \n",
       "2023-10-11 20:57:00  140.610  140.66  140.530  140.550  0.112493   \n",
       "2023-10-11 20:58:00  140.550  140.60  140.530  140.585  0.111071   \n",
       "2023-10-11 20:59:00  140.580  140.62  140.520  140.565  0.112571   \n",
       "2023-10-11 21:00:00  140.565  140.62  140.500  140.570  0.115429   \n",
       "\n",
       "                         vwap_dev      ma_20  macd_12_26           obv  hour  \\\n",
       "2014-04-03 08:49:00  1.240040e-16   28.65000    0.000000  0.000000e+00     8   \n",
       "2014-04-03 08:50:00  1.240040e-16   28.65000    0.000000  0.000000e+00     8   \n",
       "2014-04-03 08:51:00  1.240040e-16   28.65000    0.000000  0.000000e+00     8   \n",
       "2014-04-03 08:52:00  1.240040e-16   28.65000    0.000000  0.000000e+00     8   \n",
       "2014-04-03 08:53:00  1.240040e-16   28.65000    0.000000  0.000000e+00     8   \n",
       "...                           ...        ...         ...           ...   ...   \n",
       "2023-10-11 20:56:00  1.166374e+00  140.52549    0.040273  4.742212e+08    20   \n",
       "2023-10-11 20:57:00  1.165446e+00  140.53499    0.038238  4.740805e+08    20   \n",
       "2023-10-11 20:58:00  1.165982e+00  140.54474    0.039000  4.742260e+08    20   \n",
       "2023-10-11 20:59:00  1.165662e+00  140.54949    0.037557  4.738080e+08    20   \n",
       "2023-10-11 21:00:00  1.165592e+00  140.55224    0.036397  4.793438e+08    21   \n",
       "\n",
       "                     month         bid         ask  signal_smooth  \\\n",
       "2014-04-03 08:49:00      4   28.641405   28.658595       0.219822   \n",
       "2014-04-03 08:50:00      4   28.641405   28.658595       0.220376   \n",
       "2014-04-03 08:51:00      4   28.641405   28.658595       0.220931   \n",
       "2014-04-03 08:52:00      4   28.641405   28.658595       0.221487   \n",
       "2014-04-03 08:53:00      4   28.641405   28.658595       0.222044   \n",
       "...                    ...         ...         ...            ...   \n",
       "2023-10-11 20:56:00     10  140.567800  140.652200       0.000000   \n",
       "2023-10-11 20:57:00     10  140.507800  140.592200       0.000000   \n",
       "2023-10-11 20:58:00     10  140.542800  140.627200       0.000000   \n",
       "2023-10-11 20:59:00     10  140.522800  140.607200       0.000000   \n",
       "2023-10-11 21:00:00     10  140.527800  140.612200       0.000000   \n",
       "\n",
       "                     pred_signal  pred_action  \n",
       "2014-04-03 08:49:00          NaN            0  \n",
       "2014-04-03 08:50:00          NaN            0  \n",
       "2014-04-03 08:51:00          NaN            0  \n",
       "2014-04-03 08:52:00          NaN            0  \n",
       "2014-04-03 08:53:00          NaN            0  \n",
       "...                          ...          ...  \n",
       "2023-10-11 20:56:00     0.264903            0  \n",
       "2023-10-11 20:57:00     0.264527            0  \n",
       "2023-10-11 20:58:00     0.264571            0  \n",
       "2023-10-11 20:59:00     0.264390            0  \n",
       "2023-10-11 21:00:00     0.264176            0  \n",
       "\n",
       "[1800879 rows x 16 columns]"
      ]
     },
     "execution_count": 11,
     "metadata": {},
     "output_type": "execute_result"
    }
   ],
   "source": [
    "df_train_val, train_val_days, df_test, te_days = add_pred_and_split(\n",
    "                                                                    df=df, \n",
    "                                                                    train_preds=train_preds,\n",
    "                                                                    val_preds=val_preds,\n",
    "                                                                    test_preds=test_preds, \n",
    "                                                                    day_id_tr=day_id_tr,\n",
    "                                                                    day_id_val=day_id_val,\n",
    "                                                                    day_id_te=day_id_te\n",
    "                                                                    )\n",
    "\n",
    "df_train_val"
   ]
  },
  {
   "cell_type": "code",
   "execution_count": 12,
   "id": "561375f5-8365-4748-9636-5903cea0bd13",
   "metadata": {},
   "outputs": [],
   "source": [
    "# # === One‐time setup: extract raw arrays + map each day to integer positions ===\n",
    "# signals     = df_train_val[\"pred_signal\"].values.astype(float)\n",
    "# closes      = df_train_val[\"close\"].values.astype(float)\n",
    "# bids        = df_train_val[\"bid\"].values.astype(float)\n",
    "# asks        = df_train_val[\"ask\"].values.astype(float)\n",
    "# timestamps  = df_train_val.index.values.astype(\"datetime64[ns]\")\n",
    "\n",
    "# day_positions = {\n",
    "#     day: np.flatnonzero(df_train_val.index.normalize().values == day)\n",
    "#     for day in train_val_days\n",
    "# }\n",
    "\n",
    "\n",
    "# # === Wrapper for generate_trade_actions that includes both “close” and “pred_signal” ===\n",
    "# def generate_trade_actions_np(\n",
    "#     signal_array: np.ndarray,\n",
    "#     close_array:  np.ndarray,\n",
    "#     buy_threshold: float,\n",
    "#     trailing_stop: float,\n",
    "#     timestamps:    np.ndarray,\n",
    "#     regular_start,\n",
    "# ):\n",
    "#     df_day = pd.DataFrame(\n",
    "#         {\n",
    "#             \"pred_signal\": signal_array,\n",
    "#             \"close\"      : close_array\n",
    "#         },\n",
    "#         index=pd.DatetimeIndex(timestamps)\n",
    "#     )\n",
    "#     actions = trades.generate_trade_actions(\n",
    "#         df=df_day,\n",
    "#         col_signal=\"pred_signal\",\n",
    "#         col_action=\"pred_action\",\n",
    "#         buy_threshold=buy_threshold,\n",
    "#         trailing_stop_thresh=trailing_stop,\n",
    "#         regular_start=regular_start\n",
    "#     )[\"pred_action\"] \\\n",
    "#       .fillna(0) \\\n",
    "#       .astype(np.int8) \\\n",
    "#       .values\n",
    "\n",
    "#     return actions\n",
    "\n",
    "\n",
    "# # === Wrapper for simulate_trading that includes “bid”, “ask” and the action array ===\n",
    "# def simulate_trading_np(\n",
    "#     timestamps,\n",
    "#     actions,\n",
    "#     regular_start,\n",
    "#     regular_end,\n",
    "#     ticker\n",
    "# ):\n",
    "#     df_sim = pd.DataFrame(\n",
    "#         {\n",
    "#             \"bid\"        : bids,\n",
    "#             \"ask\"        : asks,\n",
    "#             \"pred_action\": actions\n",
    "#         },\n",
    "#         index=pd.DatetimeIndex(timestamps)\n",
    "#     )\n",
    "\n",
    "#     return trades.simulate_trading(\n",
    "#         results_by_day_sign=df_sim,\n",
    "#         col_action=\"pred_action\",\n",
    "#         regular_start=regular_start,\n",
    "#         regular_end=regular_end,\n",
    "#         ticker=ticker\n",
    "#     )\n",
    "\n",
    "\n",
    "# # === Optuna objective: pure NumPy + minimal pandas per‐trial ===\n",
    "# def objective(trial):\n",
    "#     print(\"------------------------------------------------\")\n",
    "#     print(\"1) Suggest hyperparameters\")\n",
    "#     pred_threshold     = trial.suggest_float(\"pred_threshold\",      0.03, 0.66)\n",
    "#     trailing_stop_pred = trial.suggest_float(\"trailing_stop_pred\", 0.01, 0.50)\n",
    "\n",
    "#     print(\"2) Generate actions per day\")\n",
    "#     n = signals.shape[0]\n",
    "#     actions_arr = np.zeros(n, dtype=np.int8)\n",
    "\n",
    "#     for idxs in day_positions.values():\n",
    "#         day_sig   = signals[idxs]\n",
    "#         day_close = closes[idxs]\n",
    "#         day_time  = timestamps[idxs]\n",
    "\n",
    "#         day_act = generate_trade_actions_np(\n",
    "#             signal_array   = day_sig,\n",
    "#             close_array    = day_close,\n",
    "#             buy_threshold  = pred_threshold,\n",
    "#             trailing_stop  = trailing_stop_pred,\n",
    "#             timestamps     = day_time,\n",
    "#             regular_start  = params.regular_start\n",
    "#         )\n",
    "#         actions_arr[idxs] = day_act\n",
    "\n",
    "#     print(\"3) Simulate and compute average daily P&L\")\n",
    "#     sim_results = simulate_trading_np(\n",
    "#         timestamps    = timestamps,\n",
    "#         actions       = actions_arr,\n",
    "#         regular_start = params.regular_start,\n",
    "#         regular_end   = params.regular_end,\n",
    "#         ticker        = params.ticker\n",
    "#     )\n",
    "\n",
    "#     daily_returns = [\n",
    "#         stats[\"Strategy Return ($)\"]\n",
    "#         for _, (_, _, stats) in sim_results.items()\n",
    "#     ]\n",
    "#     total_pnl     = float(np.sum(daily_returns))\n",
    "#     num_days      = len(train_val_days)\n",
    "#     avg_daily_pnl = total_pnl / num_days\n",
    "\n",
    "#     print(f\"→ Total P&L across {num_days} days: ${total_pnl:.2f}\")\n",
    "#     print(f\"→ Average daily P&L         : ${avg_daily_pnl:.4f}\\n\")\n",
    "\n",
    "#     return avg_daily_pnl\n"
   ]
  },
  {
   "cell_type": "code",
   "execution_count": 13,
   "id": "ddf7940f-2ef2-40ac-9691-6fca293d7fc0",
   "metadata": {},
   "outputs": [],
   "source": [
    "# # === Study setup & execution ===\n",
    "# pruner = optuna.pruners.MedianPruner(n_startup_trials=6, n_warmup_steps=12)\n",
    "# storage = RDBStorage(\n",
    "#     url=\"sqlite:///optuna_study.db\",\n",
    "#     engine_kwargs={\"connect_args\": {\"timeout\": 20, \"check_same_thread\": False}}\n",
    "# )\n",
    "# study = optuna.create_study(\n",
    "#     storage        = storage,\n",
    "#     load_if_exists = True,\n",
    "#     direction      = \"maximize\",\n",
    "#     pruner         = pruner,\n",
    "# )\n",
    "# study.optimize(\n",
    "#     objective,\n",
    "#     n_trials          = n_trials,\n",
    "#     n_jobs            = n_jobs,\n",
    "#     callbacks         = [plots.cleanup_callback, plots.lightweight_plot_callback],\n",
    "#     gc_after_trial    = True,\n",
    "#     show_progress_bar = False,\n",
    "#     catch              = (MemoryError,),\n",
    "# )\n",
    "\n",
    "# # === Final plots & JSON dump ===\n",
    "# fig = plot_optimization_history(study)\n",
    "# fig.set_size_inches(8, 4)\n",
    "# fig.axes[0].set_title(\"Optuna Optimization History\")\n",
    "# plt.show()\n",
    "\n",
    "# print(\"Best Parameters       :\", study.best_params)\n",
    "# print(\"Best Average Daily P&L:\", study.best_value)\n",
    "\n",
    "# importances = get_param_importances(study)\n",
    "# print(\"\\nHyperparameter importances (higher ⇒ more impact):\")\n",
    "# for name, score in sorted(importances.items(), key=lambda x: x[1], reverse=True):\n",
    "#     print(f\"  {name:20s}: {score:.3f}\")\n",
    "\n",
    "# first_day  = df_train_val.index.normalize().min().strftime(\"%Y%m%d\")\n",
    "# last_day   = df_train_val.index.normalize().max().strftime(\"%Y%m%d\")\n",
    "# file_name  = f\"{params.ticker}_{first_day}-{last_day}_optuna_predsig_pars.json\"\n",
    "# file_path  = os.path.join(params.optuna_folder, file_name)\n",
    "\n",
    "# with open(file_path, \"w\") as f:\n",
    "#     json.dump({\n",
    "#         \"best_params\": study.best_params,\n",
    "#         \"best_value\" : study.best_value,\n",
    "#         \"importances\": importances,\n",
    "#         \"trials\": [\n",
    "#             {\"number\": t.number, \"value\": t.value, \"params\": t.params, \"state\": t.state.name}\n",
    "#             for t in study.trials\n",
    "#         ],\n",
    "#     }, f, indent=4)\n",
    "\n",
    "# print(f\"\\nOptuna results (and importances) saved to: {file_path}\")\n"
   ]
  },
  {
   "cell_type": "code",
   "execution_count": 14,
   "id": "676f71be-9e55-41e9-9367-f652338bc828",
   "metadata": {},
   "outputs": [],
   "source": [
    "# raw NumPy arrays\n",
    "signals    = df_train_val[\"pred_signal\"].values.astype(float)\n",
    "closes     = df_train_val[\"close\"].values.astype(float)\n",
    "bids       = df_train_val[\"bid\"].values.astype(float)\n",
    "asks       = df_train_val[\"ask\"].values.astype(float)\n",
    "timestamps = df_train_val.index.values.astype(\"datetime64[ns]\")\n",
    "\n",
    "# map each day → positions\n",
    "day_positions = {\n",
    "    day: np.flatnonzero(df_train_val.index.normalize().values == day)\n",
    "    for day in train_val_days\n",
    "}\n",
    "\n",
    "# master DataFrame with empty action col\n",
    "df_master = pd.DataFrame({\n",
    "    \"pred_signal\": signals,\n",
    "    \"close\"      : closes,\n",
    "    \"bid\"        : bids,\n",
    "    \"ask\"        : asks,\n",
    "}, index=pd.DatetimeIndex(timestamps))\n",
    "df_master[\"pred_action\"] = 0\n"
   ]
  },
  {
   "cell_type": "code",
   "execution_count": 15,
   "id": "c85d1ec8-44ea-47fa-9b37-c735ef088f19",
   "metadata": {},
   "outputs": [],
   "source": [
    "def objective(trial):\n",
    "    # —————— 1) Clean slate for this trial ——————\n",
    "    # Reset every single pred_action back to 0 in-place\n",
    "    df_master[\"pred_action\"].values[:] = 0\n",
    "\n",
    "    # —————— 2) Hyper-parameter suggestions ——————\n",
    "    pred_threshold     = trial.suggest_float(\"pred_threshold\",     0.03, 0.66)\n",
    "    trailing_stop_pred = trial.suggest_float(\"trailing_stop_pred\", 0.01, 0.5)\n",
    "\n",
    "    # —————— 3) Generate actions per day ——————\n",
    "    print('-----------------------------------')\n",
    "    print(\"Generate actions per day...\")\n",
    "    for idxs in day_positions.values():\n",
    "        day_df = pd.DataFrame({\n",
    "            \"pred_signal\": signals[idxs],\n",
    "            \"close\"      : closes[idxs]\n",
    "        }, index=pd.DatetimeIndex(timestamps[idxs]))\n",
    "\n",
    "        day_act = trades.generate_trade_actions(\n",
    "            df=day_df,\n",
    "            col_signal=\"pred_signal\",\n",
    "            col_action=\"pred_action\",\n",
    "            buy_threshold=pred_threshold,\n",
    "            trailing_stop_thresh=trailing_stop_pred,\n",
    "            regular_start=params.regular_start\n",
    "        )[\"pred_action\"].fillna(0).astype(np.int8).values\n",
    "\n",
    "        df_master[\"pred_action\"].values[idxs] = day_act\n",
    "\n",
    "    # —————— 4) Simulate & score ——————\n",
    "    print(\"Simulate and compute average daily P&L...\")\n",
    "    sim_results = trades.simulate_trading(\n",
    "        results_by_day_sign=df_master,\n",
    "        col_action=\"pred_action\",\n",
    "        regular_start=params.regular_start,\n",
    "        regular_end=params.regular_end,\n",
    "        ticker=params.ticker\n",
    "    )\n",
    "\n",
    "    daily_returns = [\n",
    "        stats[\"Strategy Return ($)\"]\n",
    "        for _, (_, _, stats) in sim_results.items()\n",
    "    ]\n",
    "    total_pnl     = float(np.sum(daily_returns))\n",
    "    avg_daily_pnl = total_pnl / len(train_val_days)\n",
    "\n",
    "    print(f\"→ Total P&L: ${total_pnl:.2f}  |  Avg daily P&L: ${avg_daily_pnl:.4f}\\n\")\n",
    "    return avg_daily_pnl\n"
   ]
  },
  {
   "cell_type": "code",
   "execution_count": null,
   "id": "d421b5bb-bd9d-4939-9d26-f8d782fc93ea",
   "metadata": {},
   "outputs": [
    {
     "name": "stderr",
     "output_type": "stream",
     "text": [
      "[I 2025-08-02 13:42:08,580] A new study created in RDB with name: no-name-95ed1eba-8d7a-408d-9bef-f97b2167a913\n"
     ]
    },
    {
     "name": "stdout",
     "output_type": "stream",
     "text": [
      "-----------------------------------\n",
      "Generate actions per day...\n",
      "Simulate and compute average daily P&L...\n"
     ]
    },
    {
     "name": "stderr",
     "output_type": "stream",
     "text": [
      "[I 2025-08-02 13:43:11,679] Trial 0 finished with value: 0.3276772310258549 and parameters: {'pred_threshold': 0.524490382015724, 'trailing_stop_pred': 0.4108130486264724}. Best is trial 0 with value: 0.3276772310258549.\n"
     ]
    },
    {
     "name": "stdout",
     "output_type": "stream",
     "text": [
      "→ Total P&L: $785.77  |  Avg daily P&L: $0.3277\n",
      "\n"
     ]
    },
    {
     "data": {
      "image/png": "[encoded data removed]",
      "text/plain": [
       "<Figure size 700x300 with 1 Axes>"
      ]
     },
     "metadata": {},
     "output_type": "display_data"
    },
    {
     "name": "stdout",
     "output_type": "stream",
     "text": [
      "-----------------------------------\n",
      "Generate actions per day...\n",
      "Simulate and compute average daily P&L...\n"
     ]
    },
    {
     "name": "stderr",
     "output_type": "stream",
     "text": [
      "[I 2025-08-02 13:44:15,030] Trial 1 finished with value: -0.020481651376146794 and parameters: {'pred_threshold': 0.14404976819366977, 'trailing_stop_pred': 0.07253433874337474}. Best is trial 0 with value: 0.3276772310258549.\n"
     ]
    },
    {
     "name": "stdout",
     "output_type": "stream",
     "text": [
      "→ Total P&L: $-49.12  |  Avg daily P&L: $-0.0205\n",
      "\n",
      "-----------------------------------\n",
      "Generate actions per day...\n",
      "Simulate and compute average daily P&L...\n"
     ]
    },
    {
     "name": "stderr",
     "output_type": "stream",
     "text": [
      "[I 2025-08-02 13:45:18,243] Trial 2 finished with value: -0.020520433694745627 and parameters: {'pred_threshold': 0.13322681242576578, 'trailing_stop_pred': 0.4341286532621568}. Best is trial 0 with value: 0.3276772310258549.\n"
     ]
    },
    {
     "name": "stdout",
     "output_type": "stream",
     "text": [
      "→ Total P&L: $-49.21  |  Avg daily P&L: $-0.0205\n",
      "\n",
      "-----------------------------------\n",
      "Generate actions per day...\n",
      "Simulate and compute average daily P&L...\n"
     ]
    },
    {
     "name": "stderr",
     "output_type": "stream",
     "text": [
      "[I 2025-08-02 13:46:20,797] Trial 3 finished with value: -0.02049708090075063 and parameters: {'pred_threshold': 0.040380374861424026, 'trailing_stop_pred': 0.34940093655149723}. Best is trial 0 with value: 0.3276772310258549.\n"
     ]
    },
    {
     "name": "stdout",
     "output_type": "stream",
     "text": [
      "→ Total P&L: $-49.15  |  Avg daily P&L: $-0.0205\n",
      "\n",
      "-----------------------------------\n",
      "Generate actions per day...\n",
      "Simulate and compute average daily P&L...\n"
     ]
    },
    {
     "name": "stderr",
     "output_type": "stream",
     "text": [
      "[I 2025-08-02 13:47:22,147] Trial 4 finished with value: 0.34614970809007506 and parameters: {'pred_threshold': 0.48106350141326104, 'trailing_stop_pred': 0.12843519826359284}. Best is trial 4 with value: 0.34614970809007506.\n"
     ]
    },
    {
     "name": "stdout",
     "output_type": "stream",
     "text": [
      "→ Total P&L: $830.07  |  Avg daily P&L: $0.3461\n",
      "\n",
      "-----------------------------------\n",
      "Generate actions per day...\n",
      "Simulate and compute average daily P&L...\n"
     ]
    },
    {
     "name": "stderr",
     "output_type": "stream",
     "text": [
      "[I 2025-08-02 13:48:22,798] Trial 5 finished with value: 0.14284320266889072 and parameters: {'pred_threshold': 0.650626905207341, 'trailing_stop_pred': 0.0739741846468039}. Best is trial 4 with value: 0.34614970809007506.\n"
     ]
    },
    {
     "name": "stdout",
     "output_type": "stream",
     "text": [
      "→ Total P&L: $342.54  |  Avg daily P&L: $0.1428\n",
      "\n",
      "-----------------------------------\n",
      "Generate actions per day...\n",
      "Simulate and compute average daily P&L...\n"
     ]
    },
    {
     "name": "stderr",
     "output_type": "stream",
     "text": [
      "[I 2025-08-02 13:49:23,667] Trial 6 finished with value: 0.36348373644703924 and parameters: {'pred_threshold': 0.4585464894333017, 'trailing_stop_pred': 0.15212964266042817}. Best is trial 6 with value: 0.36348373644703924.\n"
     ]
    },
    {
     "name": "stdout",
     "output_type": "stream",
     "text": [
      "→ Total P&L: $871.63  |  Avg daily P&L: $0.3635\n",
      "\n",
      "-----------------------------------\n",
      "Generate actions per day...\n",
      "Simulate and compute average daily P&L...\n"
     ]
    },
    {
     "name": "stderr",
     "output_type": "stream",
     "text": [
      "[I 2025-08-02 13:50:26,767] Trial 7 finished with value: 0.042431609674728935 and parameters: {'pred_threshold': 0.19551851269558526, 'trailing_stop_pred': 0.41043543590101994}. Best is trial 6 with value: 0.36348373644703924.\n"
     ]
    },
    {
     "name": "stdout",
     "output_type": "stream",
     "text": [
      "→ Total P&L: $101.75  |  Avg daily P&L: $0.0424\n",
      "\n",
      "-----------------------------------\n",
      "Generate actions per day...\n",
      "Simulate and compute average daily P&L...\n"
     ]
    },
    {
     "name": "stderr",
     "output_type": "stream",
     "text": [
      "[I 2025-08-02 13:51:28,434] Trial 8 finished with value: 0.39451584653878236 and parameters: {'pred_threshold': 0.26035865941412795, 'trailing_stop_pred': 0.14371031740193752}. Best is trial 8 with value: 0.39451584653878236.\n"
     ]
    },
    {
     "name": "stdout",
     "output_type": "stream",
     "text": [
      "→ Total P&L: $946.05  |  Avg daily P&L: $0.3945\n",
      "\n",
      "-----------------------------------\n",
      "Generate actions per day...\n",
      "Simulate and compute average daily P&L...\n"
     ]
    },
    {
     "name": "stderr",
     "output_type": "stream",
     "text": [
      "[I 2025-08-02 13:52:31,389] Trial 9 finished with value: -0.02051668056713929 and parameters: {'pred_threshold': 0.13065332785662387, 'trailing_stop_pred': 0.2929536714955347}. Best is trial 8 with value: 0.39451584653878236.\n"
     ]
    },
    {
     "name": "stdout",
     "output_type": "stream",
     "text": [
      "→ Total P&L: $-49.20  |  Avg daily P&L: $-0.0205\n",
      "\n",
      "-----------------------------------\n",
      "Generate actions per day...\n",
      "Simulate and compute average daily P&L...\n"
     ]
    },
    {
     "name": "stderr",
     "output_type": "stream",
     "text": [
      "[I 2025-08-02 13:53:32,743] Trial 10 finished with value: 0.4133540450375313 and parameters: {'pred_threshold': 0.31589350392238436, 'trailing_stop_pred': 0.20609641547054747}. Best is trial 10 with value: 0.4133540450375313.\n"
     ]
    },
    {
     "name": "stdout",
     "output_type": "stream",
     "text": [
      "→ Total P&L: $991.22  |  Avg daily P&L: $0.4134\n",
      "\n",
      "-----------------------------------\n",
      "Generate actions per day...\n",
      "Simulate and compute average daily P&L...\n"
     ]
    },
    {
     "name": "stderr",
     "output_type": "stream",
     "text": [
      "[I 2025-08-02 13:54:34,183] Trial 11 finished with value: 0.409521684737281 and parameters: {'pred_threshold': 0.30678027102650557, 'trailing_stop_pred': 0.21756734716398501}. Best is trial 10 with value: 0.4133540450375313.\n"
     ]
    },
    {
     "name": "stdout",
     "output_type": "stream",
     "text": [
      "→ Total P&L: $982.03  |  Avg daily P&L: $0.4095\n",
      "\n",
      "-----------------------------------\n",
      "Generate actions per day...\n",
      "Simulate and compute average daily P&L...\n"
     ]
    },
    {
     "name": "stderr",
     "output_type": "stream",
     "text": [
      "[I 2025-08-02 13:55:35,615] Trial 12 finished with value: 0.4035900750625521 and parameters: {'pred_threshold': 0.34490572982198175, 'trailing_stop_pred': 0.23446824650151182}. Best is trial 10 with value: 0.4133540450375313.\n"
     ]
    },
    {
     "name": "stdout",
     "output_type": "stream",
     "text": [
      "→ Total P&L: $967.81  |  Avg daily P&L: $0.4036\n",
      "\n",
      "-----------------------------------\n",
      "Generate actions per day...\n",
      "Simulate and compute average daily P&L...\n"
     ]
    },
    {
     "name": "stderr",
     "output_type": "stream",
     "text": [
      "[I 2025-08-02 13:56:36,963] Trial 13 finished with value: 0.40270683903252713 and parameters: {'pred_threshold': 0.33535146720642167, 'trailing_stop_pred': 0.22686016860497857}. Best is trial 10 with value: 0.4133540450375313.\n"
     ]
    },
    {
     "name": "stdout",
     "output_type": "stream",
     "text": [
      "→ Total P&L: $965.69  |  Avg daily P&L: $0.4027\n",
      "\n",
      "-----------------------------------\n",
      "Generate actions per day...\n",
      "Simulate and compute average daily P&L...\n"
     ]
    },
    {
     "name": "stderr",
     "output_type": "stream",
     "text": [
      "[I 2025-08-02 13:57:38,459] Trial 14 finished with value: 0.36541951626355296 and parameters: {'pred_threshold': 0.26177628035012157, 'trailing_stop_pred': 0.28283359904724126}. Best is trial 10 with value: 0.4133540450375313.\n"
     ]
    },
    {
     "name": "stdout",
     "output_type": "stream",
     "text": [
      "→ Total P&L: $876.28  |  Avg daily P&L: $0.3654\n",
      "\n",
      "-----------------------------------\n",
      "Generate actions per day...\n",
      "Simulate and compute average daily P&L...\n"
     ]
    },
    {
     "name": "stderr",
     "output_type": "stream",
     "text": [
      "[I 2025-08-02 13:58:39,421] Trial 15 finished with value: 0.3947256046705588 and parameters: {'pred_threshold': 0.4012935029444978, 'trailing_stop_pred': 0.1987960473956186}. Best is trial 10 with value: 0.4133540450375313.\n"
     ]
    },
    {
     "name": "stdout",
     "output_type": "stream",
     "text": [
      "→ Total P&L: $946.55  |  Avg daily P&L: $0.3947\n",
      "\n",
      "-----------------------------------\n",
      "Generate actions per day...\n",
      "Simulate and compute average daily P&L...\n"
     ]
    },
    {
     "name": "stderr",
     "output_type": "stream",
     "text": [
      "[I 2025-08-02 13:59:40,960] Trial 16 finished with value: 0.38082026688907417 and parameters: {'pred_threshold': 0.27560681078475197, 'trailing_stop_pred': 0.31591241022593514}. Best is trial 10 with value: 0.4133540450375313.\n"
     ]
    },
    {
     "name": "stdout",
     "output_type": "stream",
     "text": [
      "→ Total P&L: $913.21  |  Avg daily P&L: $0.3808\n",
      "\n",
      "-----------------------------------\n",
      "Generate actions per day...\n",
      "Simulate and compute average daily P&L...\n"
     ]
    },
    {
     "name": "stderr",
     "output_type": "stream",
     "text": [
      "[I 2025-08-02 14:00:41,973] Trial 17 finished with value: 0.2762998331943286 and parameters: {'pred_threshold': 0.5758157053298539, 'trailing_stop_pred': 0.18100758571961506}. Best is trial 10 with value: 0.4133540450375313.\n"
     ]
    },
    {
     "name": "stdout",
     "output_type": "stream",
     "text": [
      "→ Total P&L: $662.57  |  Avg daily P&L: $0.2763\n",
      "\n",
      "-----------------------------------\n",
      "Generate actions per day...\n",
      "Simulate and compute average daily P&L...\n"
     ]
    },
    {
     "name": "stderr",
     "output_type": "stream",
     "text": [
      "[I 2025-08-02 14:01:42,865] Trial 18 finished with value: 0.3948986655546289 and parameters: {'pred_threshold': 0.40710992753425296, 'trailing_stop_pred': 0.05138634088774341}. Best is trial 10 with value: 0.4133540450375313.\n"
     ]
    },
    {
     "name": "stdout",
     "output_type": "stream",
     "text": [
      "→ Total P&L: $946.97  |  Avg daily P&L: $0.3949\n",
      "\n",
      "-----------------------------------\n",
      "Generate actions per day...\n",
      "Simulate and compute average daily P&L...\n"
     ]
    },
    {
     "name": "stderr",
     "output_type": "stream",
     "text": [
      "[I 2025-08-02 14:02:44,216] Trial 19 finished with value: 0.38390617180984155 and parameters: {'pred_threshold': 0.3080874761649615, 'trailing_stop_pred': 0.35024323873899477}. Best is trial 10 with value: 0.4133540450375313.\n"
     ]
    },
    {
     "name": "stdout",
     "output_type": "stream",
     "text": [
      "→ Total P&L: $920.61  |  Avg daily P&L: $0.3839\n",
      "\n",
      "-----------------------------------\n",
      "Generate actions per day...\n",
      "Simulate and compute average daily P&L...\n"
     ]
    },
    {
     "name": "stderr",
     "output_type": "stream",
     "text": [
      "[I 2025-08-02 14:03:45,053] Trial 20 finished with value: 0.399640950792327 and parameters: {'pred_threshold': 0.3970433747765061, 'trailing_stop_pred': 0.11832504588847358}. Best is trial 10 with value: 0.4133540450375313.\n"
     ]
    },
    {
     "name": "stdout",
     "output_type": "stream",
     "text": [
      "→ Total P&L: $958.34  |  Avg daily P&L: $0.3996\n",
      "\n",
      "-----------------------------------\n",
      "Generate actions per day...\n",
      "Simulate and compute average daily P&L...\n"
     ]
    },
    {
     "name": "stderr",
     "output_type": "stream",
     "text": [
      "[I 2025-08-02 14:04:47,011] Trial 21 finished with value: 0.20270517097581317 and parameters: {'pred_threshold': 0.21349295933685852, 'trailing_stop_pred': 0.24094694410884185}. Best is trial 10 with value: 0.4133540450375313.\n"
     ]
    },
    {
     "name": "stdout",
     "output_type": "stream",
     "text": [
      "→ Total P&L: $486.09  |  Avg daily P&L: $0.2027\n",
      "\n",
      "-----------------------------------\n",
      "Generate actions per day...\n",
      "Simulate and compute average daily P&L...\n"
     ]
    },
    {
     "name": "stderr",
     "output_type": "stream",
     "text": [
      "[I 2025-08-02 14:05:48,069] Trial 22 finished with value: 0.3968536280233529 and parameters: {'pred_threshold': 0.36905320243871353, 'trailing_stop_pred': 0.23860671464961092}. Best is trial 10 with value: 0.4133540450375313.\n"
     ]
    },
    {
     "name": "stdout",
     "output_type": "stream",
     "text": [
      "→ Total P&L: $951.66  |  Avg daily P&L: $0.3969\n",
      "\n",
      "-----------------------------------\n",
      "Generate actions per day...\n",
      "Simulate and compute average daily P&L...\n"
     ]
    },
    {
     "name": "stderr",
     "output_type": "stream",
     "text": [
      "[I 2025-08-02 14:06:49,847] Trial 23 finished with value: 0.361232693911593 and parameters: {'pred_threshold': 0.30572444984639946, 'trailing_stop_pred': 0.49549071432110514}. Best is trial 10 with value: 0.4133540450375313.\n"
     ]
    },
    {
     "name": "stdout",
     "output_type": "stream",
     "text": [
      "→ Total P&L: $866.24  |  Avg daily P&L: $0.3612\n",
      "\n",
      "-----------------------------------\n",
      "Generate actions per day...\n",
      "Simulate and compute average daily P&L...\n"
     ]
    },
    {
     "name": "stderr",
     "output_type": "stream",
     "text": [
      "[I 2025-08-02 14:07:52,173] Trial 24 finished with value: 0.1610462885738115 and parameters: {'pred_threshold': 0.2077312756117012, 'trailing_stop_pred': 0.1950649194398802}. Best is trial 10 with value: 0.4133540450375313.\n"
     ]
    },
    {
     "name": "stdout",
     "output_type": "stream",
     "text": [
      "→ Total P&L: $386.19  |  Avg daily P&L: $0.1610\n",
      "\n",
      "-----------------------------------\n",
      "Generate actions per day...\n",
      "Simulate and compute average daily P&L...\n"
     ]
    },
    {
     "name": "stderr",
     "output_type": "stream",
     "text": [
      "[I 2025-08-02 14:08:53,189] Trial 25 finished with value: 0.3712743953294412 and parameters: {'pred_threshold': 0.4450678962392518, 'trailing_stop_pred': 0.27370998815443526}. Best is trial 10 with value: 0.4133540450375313.\n"
     ]
    },
    {
     "name": "stdout",
     "output_type": "stream",
     "text": [
      "→ Total P&L: $890.32  |  Avg daily P&L: $0.3713\n",
      "\n",
      "-----------------------------------\n",
      "Generate actions per day...\n",
      "Simulate and compute average daily P&L...\n"
     ]
    },
    {
     "name": "stderr",
     "output_type": "stream",
     "text": [
      "[I 2025-08-02 14:09:54,390] Trial 26 finished with value: 0.3959495412844037 and parameters: {'pred_threshold': 0.3486921191244498, 'trailing_stop_pred': 0.32806894247150015}. Best is trial 10 with value: 0.4133540450375313.\n"
     ]
    },
    {
     "name": "stdout",
     "output_type": "stream",
     "text": [
      "→ Total P&L: $949.49  |  Avg daily P&L: $0.3959\n",
      "\n",
      "-----------------------------------\n",
      "Generate actions per day...\n",
      "Simulate and compute average daily P&L...\n"
     ]
    },
    {
     "name": "stderr",
     "output_type": "stream",
     "text": [
      "[I 2025-08-02 14:10:55,723] Trial 27 finished with value: 0.410790658882402 and parameters: {'pred_threshold': 0.307995189229398, 'trailing_stop_pred': 0.210420910075666}. Best is trial 10 with value: 0.4133540450375313.\n"
     ]
    },
    {
     "name": "stdout",
     "output_type": "stream",
     "text": [
      "→ Total P&L: $985.08  |  Avg daily P&L: $0.4108\n",
      "\n",
      "-----------------------------------\n",
      "Generate actions per day...\n",
      "Simulate and compute average daily P&L...\n"
     ]
    },
    {
     "name": "stderr",
     "output_type": "stream",
     "text": [
      "[I 2025-08-02 14:11:57,639] Trial 28 finished with value: 0.30525437864887406 and parameters: {'pred_threshold': 0.22559186400455195, 'trailing_stop_pred': 0.1767730593639091}. Best is trial 10 with value: 0.4133540450375313.\n"
     ]
    },
    {
     "name": "stdout",
     "output_type": "stream",
     "text": [
      "→ Total P&L: $732.00  |  Avg daily P&L: $0.3053\n",
      "\n",
      "-----------------------------------\n",
      "Generate actions per day...\n",
      "Simulate and compute average daily P&L...\n"
     ]
    },
    {
     "name": "stderr",
     "output_type": "stream",
     "text": [
      "[I 2025-08-02 14:12:58,307] Trial 29 finished with value: 0.33343994995829856 and parameters: {'pred_threshold': 0.492989324594305, 'trailing_stop_pred': 0.01591280676338072}. Best is trial 10 with value: 0.4133540450375313.\n"
     ]
    },
    {
     "name": "stdout",
     "output_type": "stream",
     "text": [
      "→ Total P&L: $799.59  |  Avg daily P&L: $0.3334\n",
      "\n",
      "-----------------------------------\n",
      "Generate actions per day...\n",
      "Simulate and compute average daily P&L...\n"
     ]
    },
    {
     "name": "stderr",
     "output_type": "stream",
     "text": [
      "[I 2025-08-02 14:14:01,117] Trial 30 finished with value: -0.02049708090075063 and parameters: {'pred_threshold': 0.06619570045556339, 'trailing_stop_pred': 0.09162292767760172}. Best is trial 10 with value: 0.4133540450375313.\n"
     ]
    },
    {
     "name": "stdout",
     "output_type": "stream",
     "text": [
      "→ Total P&L: $-49.15  |  Avg daily P&L: $-0.0205\n",
      "\n",
      "-----------------------------------\n",
      "Generate actions per day...\n",
      "Simulate and compute average daily P&L...\n"
     ]
    },
    {
     "name": "stderr",
     "output_type": "stream",
     "text": [
      "[I 2025-08-02 14:15:02,580] Trial 31 finished with value: 0.41083611342785653 and parameters: {'pred_threshold': 0.3138254067338666, 'trailing_stop_pred': 0.21695711243453553}. Best is trial 10 with value: 0.4133540450375313.\n"
     ]
    },
    {
     "name": "stdout",
     "output_type": "stream",
     "text": [
      "→ Total P&L: $985.18  |  Avg daily P&L: $0.4108\n",
      "\n",
      "-----------------------------------\n",
      "Generate actions per day...\n",
      "Simulate and compute average daily P&L...\n"
     ]
    },
    {
     "name": "stderr",
     "output_type": "stream",
     "text": [
      "[I 2025-08-02 14:16:04,418] Trial 32 finished with value: 0.41358006672226855 and parameters: {'pred_threshold': 0.29955272125263727, 'trailing_stop_pred': 0.20758888313565216}. Best is trial 32 with value: 0.41358006672226855.\n"
     ]
    },
    {
     "name": "stdout",
     "output_type": "stream",
     "text": [
      "→ Total P&L: $991.76  |  Avg daily P&L: $0.4136\n",
      "\n",
      "-----------------------------------\n",
      "Generate actions per day...\n",
      "Simulate and compute average daily P&L...\n"
     ]
    },
    {
     "name": "stderr",
     "output_type": "stream",
     "text": [
      "[I 2025-08-02 14:17:06,777] Trial 33 finished with value: -0.02494495412844037 and parameters: {'pred_threshold': 0.1759097621195246, 'trailing_stop_pred': 0.1659950284017438}. Best is trial 32 with value: 0.41358006672226855.\n"
     ]
    },
    {
     "name": "stdout",
     "output_type": "stream",
     "text": [
      "→ Total P&L: $-59.82  |  Avg daily P&L: $-0.0249\n",
      "\n",
      "-----------------------------------\n",
      "Generate actions per day...\n",
      "Simulate and compute average daily P&L...\n"
     ]
    },
    {
     "name": "stderr",
     "output_type": "stream",
     "text": [
      "[I 2025-08-02 14:18:08,341] Trial 34 finished with value: 0.3422902418682235 and parameters: {'pred_threshold': 0.24779271646278744, 'trailing_stop_pred': 0.27019322459552947}. Best is trial 32 with value: 0.41358006672226855.\n"
     ]
    },
    {
     "name": "stdout",
     "output_type": "stream",
     "text": [
      "→ Total P&L: $820.81  |  Avg daily P&L: $0.3423\n",
      "\n",
      "-----------------------------------\n",
      "Generate actions per day...\n",
      "Simulate and compute average daily P&L...\n"
     ]
    },
    {
     "name": "stderr",
     "output_type": "stream",
     "text": [
      "[I 2025-08-02 14:19:09,624] Trial 35 finished with value: 0.4107718932443703 and parameters: {'pred_threshold': 0.30823994408696975, 'trailing_stop_pred': 0.20284515259819227}. Best is trial 32 with value: 0.41358006672226855.\n"
     ]
    },
    {
     "name": "stdout",
     "output_type": "stream",
     "text": [
      "→ Total P&L: $985.03  |  Avg daily P&L: $0.4108\n",
      "\n",
      "-----------------------------------\n",
      "Generate actions per day...\n",
      "Simulate and compute average daily P&L...\n"
     ]
    },
    {
     "name": "stderr",
     "output_type": "stream",
     "text": [
      "[I 2025-08-02 14:20:11,863] Trial 36 finished with value: -0.022413261050875734 and parameters: {'pred_threshold': 0.1661827259933186, 'trailing_stop_pred': 0.12190955120693917}. Best is trial 32 with value: 0.41358006672226855.\n"
     ]
    },
    {
     "name": "stdout",
     "output_type": "stream",
     "text": [
      "→ Total P&L: $-53.75  |  Avg daily P&L: $-0.0224\n",
      "\n",
      "-----------------------------------\n",
      "Generate actions per day...\n",
      "Simulate and compute average daily P&L...\n"
     ]
    },
    {
     "name": "stderr",
     "output_type": "stream",
     "text": [
      "[I 2025-08-02 14:21:13,225] Trial 37 finished with value: 0.39251542952460383 and parameters: {'pred_threshold': 0.3711132670853519, 'trailing_stop_pred': 0.2513897017102242}. Best is trial 32 with value: 0.41358006672226855.\n"
     ]
    },
    {
     "name": "stdout",
     "output_type": "stream",
     "text": [
      "→ Total P&L: $941.25  |  Avg daily P&L: $0.3925\n",
      "\n",
      "-----------------------------------\n",
      "Generate actions per day...\n",
      "Simulate and compute average daily P&L...\n"
     ]
    },
    {
     "name": "stderr",
     "output_type": "stream",
     "text": [
      "[I 2025-08-02 14:22:14,530] Trial 38 finished with value: 0.36857506255212674 and parameters: {'pred_threshold': 0.28626655026694203, 'trailing_stop_pred': 0.38462384253824783}. Best is trial 32 with value: 0.41358006672226855.\n"
     ]
    },
    {
     "name": "stdout",
     "output_type": "stream",
     "text": [
      "→ Total P&L: $883.84  |  Avg daily P&L: $0.3686\n",
      "\n",
      "-----------------------------------\n",
      "Generate actions per day...\n",
      "Simulate and compute average daily P&L...\n"
     ]
    },
    {
     "name": "stderr",
     "output_type": "stream",
     "text": [
      "[I 2025-08-02 14:23:15,462] Trial 39 finished with value: 0.38406797331109255 and parameters: {'pred_threshold': 0.42556786110813954, 'trailing_stop_pred': 0.14801696291906336}. Best is trial 32 with value: 0.41358006672226855.\n"
     ]
    },
    {
     "name": "stdout",
     "output_type": "stream",
     "text": [
      "→ Total P&L: $920.99  |  Avg daily P&L: $0.3841\n",
      "\n",
      "-----------------------------------\n",
      "Generate actions per day...\n",
      "Simulate and compute average daily P&L...\n"
     ]
    },
    {
     "name": "stderr",
     "output_type": "stream",
     "text": [
      "[I 2025-08-02 14:24:17,668] Trial 40 finished with value: -0.02051668056713929 and parameters: {'pred_threshold': 0.11432925764208357, 'trailing_stop_pred': 0.10106456352470053}. Best is trial 32 with value: 0.41358006672226855.\n"
     ]
    },
    {
     "name": "stdout",
     "output_type": "stream",
     "text": [
      "→ Total P&L: $-49.20  |  Avg daily P&L: $-0.0205\n",
      "\n",
      "-----------------------------------\n",
      "Generate actions per day...\n",
      "Simulate and compute average daily P&L...\n"
     ]
    },
    {
     "name": "stderr",
     "output_type": "stream",
     "text": [
      "[I 2025-08-02 14:25:18,757] Trial 41 finished with value: 0.41515429524603836 and parameters: {'pred_threshold': 0.32590921300407116, 'trailing_stop_pred': 0.2043606002482575}. Best is trial 41 with value: 0.41515429524603836.\n"
     ]
    },
    {
     "name": "stdout",
     "output_type": "stream",
     "text": [
      "→ Total P&L: $995.54  |  Avg daily P&L: $0.4152\n",
      "\n",
      "-----------------------------------\n",
      "Generate actions per day...\n",
      "Simulate and compute average daily P&L...\n"
     ]
    },
    {
     "name": "stderr",
     "output_type": "stream",
     "text": [
      "[I 2025-08-02 14:26:19,687] Trial 42 finished with value: 0.41320892410341953 and parameters: {'pred_threshold': 0.3304270604565284, 'trailing_stop_pred': 0.2058109227666509}. Best is trial 41 with value: 0.41515429524603836.\n"
     ]
    },
    {
     "name": "stdout",
     "output_type": "stream",
     "text": [
      "→ Total P&L: $990.88  |  Avg daily P&L: $0.4132\n",
      "\n",
      "-----------------------------------\n",
      "Generate actions per day...\n",
      "Simulate and compute average daily P&L...\n"
     ]
    },
    {
     "name": "stderr",
     "output_type": "stream",
     "text": [
      "[I 2025-08-02 14:27:20,788] Trial 43 finished with value: 0.41022435362802334 and parameters: {'pred_threshold': 0.36334451131929707, 'trailing_stop_pred': 0.17078428106381155}. Best is trial 41 with value: 0.41515429524603836.\n"
     ]
    },
    {
     "name": "stdout",
     "output_type": "stream",
     "text": [
      "→ Total P&L: $983.72  |  Avg daily P&L: $0.4102\n",
      "\n",
      "-----------------------------------\n",
      "Generate actions per day...\n",
      "Simulate and compute average daily P&L...\n"
     ]
    },
    {
     "name": "stderr",
     "output_type": "stream",
     "text": [
      "[I 2025-08-02 14:28:22,122] Trial 44 finished with value: 0.34432693911593 and parameters: {'pred_threshold': 0.2457854011468668, 'trailing_stop_pred': 0.25775952390050016}. Best is trial 41 with value: 0.41515429524603836.\n"
     ]
    },
    {
     "name": "stdout",
     "output_type": "stream",
     "text": [
      "→ Total P&L: $825.70  |  Avg daily P&L: $0.3443\n",
      "\n",
      "-----------------------------------\n",
      "Generate actions per day...\n",
      "Simulate and compute average daily P&L...\n"
     ]
    },
    {
     "name": "stderr",
     "output_type": "stream",
     "text": [
      "[I 2025-08-02 14:29:23,387] Trial 45 finished with value: 0.40474770642201835 and parameters: {'pred_threshold': 0.33710184432558005, 'trailing_stop_pred': 0.21942998845442632}. Best is trial 41 with value: 0.41515429524603836.\n"
     ]
    },
    {
     "name": "stdout",
     "output_type": "stream",
     "text": [
      "→ Total P&L: $970.59  |  Avg daily P&L: $0.4047\n",
      "\n",
      "-----------------------------------\n",
      "Generate actions per day...\n",
      "Simulate and compute average daily P&L...\n"
     ]
    },
    {
     "name": "stderr",
     "output_type": "stream",
     "text": [
      "[I 2025-08-02 14:30:24,861] Trial 46 finished with value: 0.41724353628023353 and parameters: {'pred_threshold': 0.28078267014609737, 'trailing_stop_pred': 0.1510698199545851}. Best is trial 46 with value: 0.41724353628023353.\n"
     ]
    },
    {
     "name": "stdout",
     "output_type": "stream",
     "text": [
      "→ Total P&L: $1000.55  |  Avg daily P&L: $0.4172\n",
      "\n",
      "-----------------------------------\n",
      "Generate actions per day...\n",
      "Simulate and compute average daily P&L...\n"
     ]
    },
    {
     "name": "stderr",
     "output_type": "stream",
     "text": [
      "[I 2025-08-02 14:31:26,264] Trial 47 finished with value: 0.4185496246872394 and parameters: {'pred_threshold': 0.28108618210455616, 'trailing_stop_pred': 0.1318418541932334}. Best is trial 47 with value: 0.4185496246872394.\n"
     ]
    },
    {
     "name": "stdout",
     "output_type": "stream",
     "text": [
      "→ Total P&L: $1003.68  |  Avg daily P&L: $0.4185\n",
      "\n",
      "-----------------------------------\n",
      "Generate actions per day...\n",
      "Simulate and compute average daily P&L...\n"
     ]
    },
    {
     "name": "stderr",
     "output_type": "stream",
     "text": [
      "[I 2025-08-02 14:32:27,541] Trial 48 finished with value: 0.353163469557965 and parameters: {'pred_threshold': 0.23497870678202298, 'trailing_stop_pred': 0.1391969377499678}. Best is trial 47 with value: 0.4185496246872394.\n"
     ]
    },
    {
     "name": "stdout",
     "output_type": "stream",
     "text": [
      "→ Total P&L: $846.89  |  Avg daily P&L: $0.3532\n",
      "\n",
      "-----------------------------------\n",
      "Generate actions per day...\n",
      "Simulate and compute average daily P&L...\n"
     ]
    },
    {
     "name": "stderr",
     "output_type": "stream",
     "text": [
      "[I 2025-08-02 14:33:28,977] Trial 49 finished with value: 0.4325988323603003 and parameters: {'pred_threshold': 0.28464790219799396, 'trailing_stop_pred': 0.05572351489886594}. Best is trial 49 with value: 0.4325988323603003.\n"
     ]
    },
    {
     "name": "stdout",
     "output_type": "stream",
     "text": [
      "→ Total P&L: $1037.37  |  Avg daily P&L: $0.4326\n",
      "\n",
      "-----------------------------------\n",
      "Generate actions per day...\n",
      "Simulate and compute average daily P&L...\n"
     ]
    },
    {
     "name": "stderr",
     "output_type": "stream",
     "text": [
      "[I 2025-08-02 14:34:30,125] Trial 50 finished with value: 0.43365679733110923 and parameters: {'pred_threshold': 0.27335556052165766, 'trailing_stop_pred': 0.05086827563163547}. Best is trial 50 with value: 0.43365679733110923.\n"
     ]
    },
    {
     "name": "stdout",
     "output_type": "stream",
     "text": [
      "→ Total P&L: $1039.91  |  Avg daily P&L: $0.4337\n",
      "\n",
      "-----------------------------------\n",
      "Generate actions per day...\n",
      "Simulate and compute average daily P&L...\n"
     ]
    },
    {
     "name": "stderr",
     "output_type": "stream",
     "text": [
      "[I 2025-08-02 14:35:31,545] Trial 51 finished with value: 0.4332902418682236 and parameters: {'pred_threshold': 0.2748632211374145, 'trailing_stop_pred': 0.05413196264868696}. Best is trial 50 with value: 0.43365679733110923.\n"
     ]
    },
    {
     "name": "stdout",
     "output_type": "stream",
     "text": [
      "→ Total P&L: $1039.03  |  Avg daily P&L: $0.4333\n",
      "\n",
      "-----------------------------------\n",
      "Generate actions per day...\n",
      "Simulate and compute average daily P&L...\n"
     ]
    },
    {
     "name": "stderr",
     "output_type": "stream",
     "text": [
      "[I 2025-08-02 14:36:33,058] Trial 52 finished with value: 0.43294412010008343 and parameters: {'pred_threshold': 0.2707157992575425, 'trailing_stop_pred': 0.04730862579313267}. Best is trial 50 with value: 0.43365679733110923.\n"
     ]
    },
    {
     "name": "stdout",
     "output_type": "stream",
     "text": [
      "→ Total P&L: $1038.20  |  Avg daily P&L: $0.4329\n",
      "\n",
      "-----------------------------------\n",
      "Generate actions per day...\n",
      "Simulate and compute average daily P&L...\n"
     ]
    },
    {
     "name": "stderr",
     "output_type": "stream",
     "text": [
      "[I 2025-08-02 14:37:36,296] Trial 53 finished with value: 0.431929941618015 and parameters: {'pred_threshold': 0.2716939326078756, 'trailing_stop_pred': 0.053015242052031716}. Best is trial 50 with value: 0.43365679733110923.\n"
     ]
    },
    {
     "name": "stdout",
     "output_type": "stream",
     "text": [
      "→ Total P&L: $1035.77  |  Avg daily P&L: $0.4319\n",
      "\n",
      "-----------------------------------\n",
      "Generate actions per day...\n",
      "Simulate and compute average daily P&L...\n"
     ]
    },
    {
     "name": "stderr",
     "output_type": "stream",
     "text": [
      "[I 2025-08-02 14:38:38,686] Trial 54 finished with value: 0.025390742285237692 and parameters: {'pred_threshold': 0.18949179556883394, 'trailing_stop_pred': 0.04635776755549798}. Best is trial 50 with value: 0.43365679733110923.\n"
     ]
    },
    {
     "name": "stdout",
     "output_type": "stream",
     "text": [
      "→ Total P&L: $60.89  |  Avg daily P&L: $0.0254\n",
      "\n",
      "-----------------------------------\n",
      "Generate actions per day...\n",
      "Simulate and compute average daily P&L...\n"
     ]
    },
    {
     "name": "stderr",
     "output_type": "stream",
     "text": [
      "[I 2025-08-02 14:39:39,958] Trial 55 finished with value: 0.424756046705588 and parameters: {'pred_threshold': 0.2647481555116032, 'trailing_stop_pred': 0.026690505071661163}. Best is trial 50 with value: 0.43365679733110923.\n"
     ]
    },
    {
     "name": "stdout",
     "output_type": "stream",
     "text": [
      "→ Total P&L: $1018.56  |  Avg daily P&L: $0.4248\n",
      "\n",
      "-----------------------------------\n",
      "Generate actions per day...\n",
      "Simulate and compute average daily P&L...\n"
     ]
    },
    {
     "name": "stderr",
     "output_type": "stream",
     "text": [
      "[I 2025-08-02 14:40:41,229] Trial 56 finished with value: 0.4219345287739783 and parameters: {'pred_threshold': 0.2610444475646779, 'trailing_stop_pred': 0.011402097170902736}. Best is trial 50 with value: 0.43365679733110923.\n"
     ]
    },
    {
     "name": "stdout",
     "output_type": "stream",
     "text": [
      "→ Total P&L: $1011.80  |  Avg daily P&L: $0.4219\n",
      "\n",
      "-----------------------------------\n",
      "Generate actions per day...\n",
      "Simulate and compute average daily P&L...\n"
     ]
    },
    {
     "name": "stderr",
     "output_type": "stream",
     "text": [
      "[I 2025-08-02 14:41:43,782] Trial 57 finished with value: -0.020451209341117608 and parameters: {'pred_threshold': 0.1458915440962659, 'trailing_stop_pred': 0.05036445011691884}. Best is trial 50 with value: 0.43365679733110923.\n"
     ]
    },
    {
     "name": "stdout",
     "output_type": "stream",
     "text": [
      "→ Total P&L: $-49.04  |  Avg daily P&L: $-0.0205\n",
      "\n",
      "-----------------------------------\n",
      "Generate actions per day...\n",
      "Simulate and compute average daily P&L...\n"
     ]
    },
    {
     "name": "stderr",
     "output_type": "stream",
     "text": [
      "[I 2025-08-02 14:42:46,220] Trial 58 finished with value: 0.24559633027522937 and parameters: {'pred_threshold': 0.21386279448042178, 'trailing_stop_pred': 0.07164318104914426}. Best is trial 50 with value: 0.43365679733110923.\n"
     ]
    },
    {
     "name": "stdout",
     "output_type": "stream",
     "text": [
      "→ Total P&L: $588.94  |  Avg daily P&L: $0.2456\n",
      "\n",
      "-----------------------------------\n",
      "Generate actions per day...\n",
      "Simulate and compute average daily P&L...\n"
     ]
    },
    {
     "name": "stderr",
     "output_type": "stream",
     "text": [
      "[I 2025-08-02 14:43:49,717] Trial 59 finished with value: 0.4181784820683903 and parameters: {'pred_threshold': 0.2655240282124028, 'trailing_stop_pred': 0.07907493059691459}. Best is trial 50 with value: 0.43365679733110923.\n"
     ]
    },
    {
     "name": "stdout",
     "output_type": "stream",
     "text": [
      "→ Total P&L: $1002.79  |  Avg daily P&L: $0.4182\n",
      "\n",
      "-----------------------------------\n",
      "Generate actions per day...\n",
      "Simulate and compute average daily P&L...\n"
     ]
    },
    {
     "name": "stderr",
     "output_type": "stream",
     "text": [
      "[I 2025-08-02 14:44:51,929] Trial 60 finished with value: 0.18421351125938282 and parameters: {'pred_threshold': 0.6245686052850794, 'trailing_stop_pred': 0.03226626466247895}. Best is trial 50 with value: 0.43365679733110923.\n"
     ]
    },
    {
     "name": "stdout",
     "output_type": "stream",
     "text": [
      "→ Total P&L: $441.74  |  Avg daily P&L: $0.1842\n",
      "\n",
      "-----------------------------------\n",
      "Generate actions per day...\n",
      "Simulate and compute average daily P&L...\n"
     ]
    },
    {
     "name": "stderr",
     "output_type": "stream",
     "text": [
      "[I 2025-08-02 14:45:54,563] Trial 61 finished with value: 0.4067768974145121 and parameters: {'pred_threshold': 0.25190504424845567, 'trailing_stop_pred': 0.010899734523867}. Best is trial 50 with value: 0.43365679733110923.\n"
     ]
    },
    {
     "name": "stdout",
     "output_type": "stream",
     "text": [
      "→ Total P&L: $975.45  |  Avg daily P&L: $0.4068\n",
      "\n",
      "-----------------------------------\n",
      "Generate actions per day...\n",
      "Simulate and compute average daily P&L...\n"
     ]
    },
    {
     "name": "stderr",
     "output_type": "stream",
     "text": [
      "[I 2025-08-02 14:46:57,509] Trial 62 finished with value: 0.3491259382819016 and parameters: {'pred_threshold': 0.22902000171837467, 'trailing_stop_pred': 0.0349577924370316}. Best is trial 50 with value: 0.43365679733110923.\n"
     ]
    },
    {
     "name": "stdout",
     "output_type": "stream",
     "text": [
      "→ Total P&L: $837.20  |  Avg daily P&L: $0.3491\n",
      "\n",
      "-----------------------------------\n",
      "Generate actions per day...\n",
      "Simulate and compute average daily P&L...\n"
     ]
    },
    {
     "name": "stderr",
     "output_type": "stream",
     "text": [
      "[I 2025-08-02 14:47:59,558] Trial 63 finished with value: 0.4197944120100083 and parameters: {'pred_threshold': 0.2639984423126925, 'trailing_stop_pred': 0.0722380283813403}. Best is trial 50 with value: 0.43365679733110923.\n"
     ]
    },
    {
     "name": "stdout",
     "output_type": "stream",
     "text": [
      "→ Total P&L: $1006.67  |  Avg daily P&L: $0.4198\n",
      "\n",
      "-----------------------------------\n",
      "Generate actions per day...\n",
      "Simulate and compute average daily P&L...\n"
     ]
    },
    {
     "name": "stderr",
     "output_type": "stream",
     "text": [
      "[I 2025-08-02 14:49:03,454] Trial 64 finished with value: 0.04804128440366971 and parameters: {'pred_threshold': 0.19244606816311238, 'trailing_stop_pred': 0.03366119051173749}. Best is trial 50 with value: 0.43365679733110923.\n"
     ]
    },
    {
     "name": "stdout",
     "output_type": "stream",
     "text": [
      "→ Total P&L: $115.20  |  Avg daily P&L: $0.0480\n",
      "\n",
      "-----------------------------------\n",
      "Generate actions per day...\n",
      "Simulate and compute average daily P&L...\n"
     ]
    },
    {
     "name": "stderr",
     "output_type": "stream",
     "text": [
      "[I 2025-08-02 14:50:06,639] Trial 65 finished with value: 0.4322935779816513 and parameters: {'pred_threshold': 0.2828055024058798, 'trailing_stop_pred': 0.059553583102880586}. Best is trial 50 with value: 0.43365679733110923.\n"
     ]
    },
    {
     "name": "stdout",
     "output_type": "stream",
     "text": [
      "→ Total P&L: $1036.64  |  Avg daily P&L: $0.4323\n",
      "\n",
      "-----------------------------------\n",
      "Generate actions per day...\n",
      "Simulate and compute average daily P&L...\n"
     ]
    },
    {
     "name": "stderr",
     "output_type": "stream",
     "text": [
      "[I 2025-08-02 14:51:10,400] Trial 66 finished with value: 0.43103794829024195 and parameters: {'pred_threshold': 0.2836207107797536, 'trailing_stop_pred': 0.06350984844382003}. Best is trial 50 with value: 0.43365679733110923.\n"
     ]
    },
    {
     "name": "stdout",
     "output_type": "stream",
     "text": [
      "→ Total P&L: $1033.63  |  Avg daily P&L: $0.4310\n",
      "\n",
      "-----------------------------------\n",
      "Generate actions per day...\n",
      "Simulate and compute average daily P&L...\n"
     ]
    },
    {
     "name": "stderr",
     "output_type": "stream",
     "text": [
      "[I 2025-08-02 14:52:12,658] Trial 67 finished with value: 0.4241693077564637 and parameters: {'pred_threshold': 0.29048112865331616, 'trailing_stop_pred': 0.10445149141438718}. Best is trial 50 with value: 0.43365679733110923.\n"
     ]
    },
    {
     "name": "stdout",
     "output_type": "stream",
     "text": [
      "→ Total P&L: $1017.16  |  Avg daily P&L: $0.4242\n",
      "\n",
      "-----------------------------------\n",
      "Generate actions per day...\n",
      "Simulate and compute average daily P&L...\n"
     ]
    },
    {
     "name": "stderr",
     "output_type": "stream",
     "text": [
      "[I 2025-08-02 14:53:14,739] Trial 68 finished with value: 0.4194032527105922 and parameters: {'pred_threshold': 0.3636176404389187, 'trailing_stop_pred': 0.06259179719944225}. Best is trial 50 with value: 0.43365679733110923.\n"
     ]
    },
    {
     "name": "stdout",
     "output_type": "stream",
     "text": [
      "→ Total P&L: $1005.73  |  Avg daily P&L: $0.4194\n",
      "\n",
      "-----------------------------------\n",
      "Generate actions per day...\n",
      "Simulate and compute average daily P&L...\n"
     ]
    },
    {
     "name": "stderr",
     "output_type": "stream",
     "text": [
      "[I 2025-08-02 14:54:18,608] Trial 69 finished with value: 0.375487906588824 and parameters: {'pred_threshold': 0.23869749364987472, 'trailing_stop_pred': 0.09122676453783883}. Best is trial 50 with value: 0.43365679733110923.\n"
     ]
    },
    {
     "name": "stdout",
     "output_type": "stream",
     "text": [
      "→ Total P&L: $900.42  |  Avg daily P&L: $0.3755\n",
      "\n",
      "-----------------------------------\n",
      "Generate actions per day...\n",
      "Simulate and compute average daily P&L...\n"
     ]
    },
    {
     "name": "stderr",
     "output_type": "stream",
     "text": [
      "[I 2025-08-02 14:55:21,214] Trial 70 finished with value: 0.4247564637197665 and parameters: {'pred_threshold': 0.34919974378663127, 'trailing_stop_pred': 0.06012772635099422}. Best is trial 50 with value: 0.43365679733110923.\n"
     ]
    },
    {
     "name": "stdout",
     "output_type": "stream",
     "text": [
      "→ Total P&L: $1018.57  |  Avg daily P&L: $0.4248\n",
      "\n",
      "-----------------------------------\n",
      "Generate actions per day...\n",
      "Simulate and compute average daily P&L...\n"
     ]
    },
    {
     "name": "stderr",
     "output_type": "stream",
     "text": [
      "[I 2025-08-02 14:56:25,319] Trial 71 finished with value: 0.4360429524603836 and parameters: {'pred_threshold': 0.2883682339894696, 'trailing_stop_pred': 0.05605090779254076}. Best is trial 71 with value: 0.4360429524603836.\n"
     ]
    },
    {
     "name": "stdout",
     "output_type": "stream",
     "text": [
      "→ Total P&L: $1045.63  |  Avg daily P&L: $0.4360\n",
      "\n",
      "-----------------------------------\n",
      "Generate actions per day...\n",
      "Simulate and compute average daily P&L...\n",
      "→ Total P&L: $1031.50  |  Avg daily P&L: $0.4301\n",
      "\n"
     ]
    },
    {
     "name": "stderr",
     "output_type": "stream",
     "text": [
      "[I 2025-08-02 14:57:29,445] Trial 72 finished with value: 0.43014970809007497 and parameters: {'pred_threshold': 0.29637140439883874, 'trailing_stop_pred': 0.08791199283136757}. Best is trial 71 with value: 0.4360429524603836.\n"
     ]
    },
    {
     "name": "stdout",
     "output_type": "stream",
     "text": [
      "-----------------------------------\n",
      "Generate actions per day...\n",
      "Simulate and compute average daily P&L...\n"
     ]
    },
    {
     "name": "stderr",
     "output_type": "stream",
     "text": [
      "[I 2025-08-02 14:58:36,564] Trial 73 finished with value: 0.26507047539616346 and parameters: {'pred_threshold': 0.21759750073091472, 'trailing_stop_pred': 0.10994532342845498}. Best is trial 71 with value: 0.4360429524603836.\n"
     ]
    },
    {
     "name": "stdout",
     "output_type": "stream",
     "text": [
      "→ Total P&L: $635.64  |  Avg daily P&L: $0.2651\n",
      "\n",
      "-----------------------------------\n",
      "Generate actions per day...\n",
      "Simulate and compute average daily P&L...\n"
     ]
    },
    {
     "name": "stderr",
     "output_type": "stream",
     "text": [
      "[I 2025-08-02 14:59:40,239] Trial 74 finished with value: 0.430882402001668 and parameters: {'pred_threshold': 0.3210990235070836, 'trailing_stop_pred': 0.04454976238848101}. Best is trial 71 with value: 0.4360429524603836.\n"
     ]
    },
    {
     "name": "stdout",
     "output_type": "stream",
     "text": [
      "→ Total P&L: $1033.26  |  Avg daily P&L: $0.4309\n",
      "\n",
      "-----------------------------------\n",
      "Generate actions per day...\n",
      "Simulate and compute average daily P&L...\n"
     ]
    },
    {
     "name": "stderr",
     "output_type": "stream",
     "text": [
      "[I 2025-08-02 15:00:43,231] Trial 75 finished with value: 0.4318757297748123 and parameters: {'pred_threshold': 0.28304528579719307, 'trailing_stop_pred': 0.06321141172495366}. Best is trial 71 with value: 0.4360429524603836.\n"
     ]
    },
    {
     "name": "stdout",
     "output_type": "stream",
     "text": [
      "→ Total P&L: $1035.64  |  Avg daily P&L: $0.4319\n",
      "\n",
      "-----------------------------------\n",
      "Generate actions per day...\n",
      "Simulate and compute average daily P&L...\n"
     ]
    },
    {
     "name": "stderr",
     "output_type": "stream",
     "text": [
      "[I 2025-08-02 15:01:46,335] Trial 76 finished with value: 0.4261422018348624 and parameters: {'pred_threshold': 0.2710445868092276, 'trailing_stop_pred': 0.07936526482370698}. Best is trial 71 with value: 0.4360429524603836.\n"
     ]
    },
    {
     "name": "stdout",
     "output_type": "stream",
     "text": [
      "→ Total P&L: $1021.89  |  Avg daily P&L: $0.4261\n",
      "\n",
      "-----------------------------------\n",
      "Generate actions per day...\n",
      "Simulate and compute average daily P&L...\n"
     ]
    },
    {
     "name": "stderr",
     "output_type": "stream",
     "text": [
      "[I 2025-08-02 15:02:48,745] Trial 77 finished with value: 0.4122877397831526 and parameters: {'pred_threshold': 0.37867156839888005, 'trailing_stop_pred': 0.023265820577255195}. Best is trial 71 with value: 0.4360429524603836.\n"
     ]
    },
    {
     "name": "stdout",
     "output_type": "stream",
     "text": [
      "→ Total P&L: $988.67  |  Avg daily P&L: $0.4123\n",
      "\n",
      "-----------------------------------\n",
      "Generate actions per day...\n",
      "Simulate and compute average daily P&L...\n"
     ]
    },
    {
     "name": "stderr",
     "output_type": "stream",
     "text": [
      "[I 2025-08-02 15:03:51,968] Trial 78 finished with value: 0.4247889908256881 and parameters: {'pred_threshold': 0.34942304764074517, 'trailing_stop_pred': 0.05439145365042737}. Best is trial 71 with value: 0.4360429524603836.\n"
     ]
    },
    {
     "name": "stdout",
     "output_type": "stream",
     "text": [
      "→ Total P&L: $1018.64  |  Avg daily P&L: $0.4248\n",
      "\n",
      "-----------------------------------\n",
      "Generate actions per day...\n",
      "Simulate and compute average daily P&L...\n"
     ]
    },
    {
     "name": "stderr",
     "output_type": "stream",
     "text": [
      "[I 2025-08-02 15:04:53,765] Trial 79 finished with value: 0.4061559633027523 and parameters: {'pred_threshold': 0.38606575116199104, 'trailing_stop_pred': 0.04185724616625783}. Best is trial 71 with value: 0.4360429524603836.\n"
     ]
    },
    {
     "name": "stdout",
     "output_type": "stream",
     "text": [
      "→ Total P&L: $973.96  |  Avg daily P&L: $0.4062\n",
      "\n",
      "-----------------------------------\n",
      "Generate actions per day...\n",
      "Simulate and compute average daily P&L...\n",
      "→ Total P&L: $1024.58  |  Avg daily P&L: $0.4273\n",
      "\n"
     ]
    },
    {
     "name": "stderr",
     "output_type": "stream",
     "text": [
      "[I 2025-08-02 15:05:55,329] Trial 80 finished with value: 0.4272627189324437 and parameters: {'pred_threshold': 0.29998086182425787, 'trailing_stop_pred': 0.09542178786864683}. Best is trial 71 with value: 0.4360429524603836.\n"
     ]
    },
    {
     "name": "stdout",
     "output_type": "stream",
     "text": [
      "-----------------------------------\n",
      "Generate actions per day...\n",
      "Simulate and compute average daily P&L...\n"
     ]
    },
    {
     "name": "stderr",
     "output_type": "stream",
     "text": [
      "[I 2025-08-02 15:06:57,188] Trial 81 finished with value: 0.4334995829858215 and parameters: {'pred_threshold': 0.2871313558807899, 'trailing_stop_pred': 0.06318541537775721}. Best is trial 71 with value: 0.4360429524603836.\n"
     ]
    },
    {
     "name": "stdout",
     "output_type": "stream",
     "text": [
      "→ Total P&L: $1039.53  |  Avg daily P&L: $0.4335\n",
      "\n",
      "-----------------------------------\n",
      "Generate actions per day...\n",
      "Simulate and compute average daily P&L...\n"
     ]
    },
    {
     "name": "stderr",
     "output_type": "stream",
     "text": [
      "[I 2025-08-02 15:07:58,843] Trial 82 finished with value: 0.3812164303586322 and parameters: {'pred_threshold': 0.24691120086053464, 'trailing_stop_pred': 0.1160970630307544}. Best is trial 71 with value: 0.4360429524603836.\n"
     ]
    },
    {
     "name": "stdout",
     "output_type": "stream",
     "text": [
      "→ Total P&L: $914.16  |  Avg daily P&L: $0.3812\n",
      "\n",
      "-----------------------------------\n",
      "Generate actions per day...\n",
      "Simulate and compute average daily P&L...\n"
     ]
    },
    {
     "name": "stderr",
     "output_type": "stream",
     "text": [
      "[I 2025-08-02 15:09:01,610] Trial 83 finished with value: 0.3376563803169308 and parameters: {'pred_threshold': 0.22739959872895543, 'trailing_stop_pred': 0.06649135540131125}. Best is trial 71 with value: 0.4360429524603836.\n"
     ]
    },
    {
     "name": "stdout",
     "output_type": "stream",
     "text": [
      "→ Total P&L: $809.70  |  Avg daily P&L: $0.3377\n",
      "\n",
      "-----------------------------------\n",
      "Generate actions per day...\n",
      "Simulate and compute average daily P&L...\n"
     ]
    },
    {
     "name": "stderr",
     "output_type": "stream",
     "text": [
      "[I 2025-08-02 15:10:02,916] Trial 84 finished with value: 0.42793536280233524 and parameters: {'pred_threshold': 0.321245530540052, 'trailing_stop_pred': 0.0783779412306423}. Best is trial 71 with value: 0.4360429524603836.\n"
     ]
    },
    {
     "name": "stdout",
     "output_type": "stream",
     "text": [
      "→ Total P&L: $1026.19  |  Avg daily P&L: $0.4279\n",
      "\n",
      "-----------------------------------\n",
      "Generate actions per day...\n",
      "Simulate and compute average daily P&L...\n"
     ]
    },
    {
     "name": "stderr",
     "output_type": "stream",
     "text": [
      "[I 2025-08-02 15:11:06,921] Trial 85 finished with value: 0.14536947456213511 and parameters: {'pred_threshold': 0.2025762908943679, 'trailing_stop_pred': 0.05177468613376555}. Best is trial 71 with value: 0.4360429524603836.\n"
     ]
    },
    {
     "name": "stdout",
     "output_type": "stream",
     "text": [
      "→ Total P&L: $348.60  |  Avg daily P&L: $0.1454\n",
      "\n",
      "-----------------------------------\n",
      "Generate actions per day...\n",
      "Simulate and compute average daily P&L...\n"
     ]
    },
    {
     "name": "stderr",
     "output_type": "stream",
     "text": [
      "[I 2025-08-02 15:12:09,933] Trial 86 finished with value: 0.4393411175979983 and parameters: {'pred_threshold': 0.28911213302762684, 'trailing_stop_pred': 0.020312628317502093}. Best is trial 86 with value: 0.4393411175979983.\n"
     ]
    },
    {
     "name": "stdout",
     "output_type": "stream",
     "text": [
      "→ Total P&L: $1053.54  |  Avg daily P&L: $0.4393\n",
      "\n",
      "-----------------------------------\n",
      "Generate actions per day...\n",
      "Simulate and compute average daily P&L...\n"
     ]
    },
    {
     "name": "stderr",
     "output_type": "stream",
     "text": [
      "[I 2025-08-02 15:13:11,866] Trial 87 finished with value: 0.43568974145120937 and parameters: {'pred_threshold': 0.31181683927715176, 'trailing_stop_pred': 0.02353745572919787}. Best is trial 86 with value: 0.4393411175979983.\n"
     ]
    },
    {
     "name": "stdout",
     "output_type": "stream",
     "text": [
      "→ Total P&L: $1044.78  |  Avg daily P&L: $0.4357\n",
      "\n",
      "-----------------------------------\n",
      "Generate actions per day...\n",
      "Simulate and compute average daily P&L...\n"
     ]
    },
    {
     "name": "stderr",
     "output_type": "stream",
     "text": [
      "[I 2025-08-02 15:14:14,862] Trial 88 finished with value: 0.43259924937447874 and parameters: {'pred_threshold': 0.3103338257483366, 'trailing_stop_pred': 0.026114881759473258}. Best is trial 86 with value: 0.4393411175979983.\n"
     ]
    },
    {
     "name": "stdout",
     "output_type": "stream",
     "text": [
      "→ Total P&L: $1037.37  |  Avg daily P&L: $0.4326\n",
      "\n",
      "-----------------------------------\n",
      "Generate actions per day...\n",
      "Simulate and compute average daily P&L...\n"
     ]
    },
    {
     "name": "stderr",
     "output_type": "stream",
     "text": [
      "[I 2025-08-02 15:15:17,224] Trial 89 finished with value: 0.427338198498749 and parameters: {'pred_threshold': 0.3366550929563217, 'trailing_stop_pred': 0.026756427815239927}. Best is trial 86 with value: 0.4393411175979983.\n"
     ]
    },
    {
     "name": "stdout",
     "output_type": "stream",
     "text": [
      "→ Total P&L: $1024.76  |  Avg daily P&L: $0.4273\n",
      "\n",
      "-----------------------------------\n",
      "Generate actions per day...\n",
      "Simulate and compute average daily P&L...\n"
     ]
    },
    {
     "name": "stderr",
     "output_type": "stream",
     "text": [
      "[I 2025-08-02 15:16:18,948] Trial 90 finished with value: 0.43285362802335287 and parameters: {'pred_threshold': 0.31701595561802753, 'trailing_stop_pred': 0.020477324610676105}. Best is trial 86 with value: 0.4393411175979983.\n"
     ]
    },
    {
     "name": "stdout",
     "output_type": "stream",
     "text": [
      "→ Total P&L: $1037.98  |  Avg daily P&L: $0.4329\n",
      "\n",
      "-----------------------------------\n",
      "Generate actions per day...\n",
      "Simulate and compute average daily P&L...\n"
     ]
    },
    {
     "name": "stderr",
     "output_type": "stream",
     "text": [
      "[I 2025-08-02 15:17:20,095] Trial 91 finished with value: 0.43458798999165976 and parameters: {'pred_threshold': 0.31136658293023256, 'trailing_stop_pred': 0.021121219145913646}. Best is trial 86 with value: 0.4393411175979983.\n"
     ]
    },
    {
     "name": "stdout",
     "output_type": "stream",
     "text": [
      "→ Total P&L: $1042.14  |  Avg daily P&L: $0.4346\n",
      "\n",
      "-----------------------------------\n",
      "Generate actions per day...\n",
      "Simulate and compute average daily P&L...\n"
     ]
    },
    {
     "name": "stderr",
     "output_type": "stream",
     "text": [
      "[I 2025-08-02 15:18:21,131] Trial 92 finished with value: 0.4361622185154296 and parameters: {'pred_threshold': 0.308483145999757, 'trailing_stop_pred': 0.02080762622757816}. Best is trial 86 with value: 0.4393411175979983.\n"
     ]
    },
    {
     "name": "stdout",
     "output_type": "stream",
     "text": [
      "→ Total P&L: $1045.92  |  Avg daily P&L: $0.4362\n",
      "\n",
      "-----------------------------------\n",
      "Generate actions per day...\n",
      "Simulate and compute average daily P&L...\n"
     ]
    },
    {
     "name": "stderr",
     "output_type": "stream",
     "text": [
      "[I 2025-08-02 15:19:24,011] Trial 93 finished with value: 0.4339245204336947 and parameters: {'pred_threshold': 0.32406117410923463, 'trailing_stop_pred': 0.019159565459391244}. Best is trial 86 with value: 0.4393411175979983.\n"
     ]
    },
    {
     "name": "stdout",
     "output_type": "stream",
     "text": [
      "→ Total P&L: $1040.55  |  Avg daily P&L: $0.4339\n",
      "\n",
      "-----------------------------------\n",
      "Generate actions per day...\n",
      "Simulate and compute average daily P&L...\n"
     ]
    },
    {
     "name": "stderr",
     "output_type": "stream",
     "text": [
      "[I 2025-08-02 15:20:26,122] Trial 94 finished with value: 0.42554086738949126 and parameters: {'pred_threshold': 0.3407301870401398, 'trailing_stop_pred': 0.03771226239000963}. Best is trial 86 with value: 0.4393411175979983.\n"
     ]
    },
    {
     "name": "stdout",
     "output_type": "stream",
     "text": [
      "→ Total P&L: $1020.45  |  Avg daily P&L: $0.4255\n",
      "\n",
      "-----------------------------------\n",
      "Generate actions per day...\n",
      "Simulate and compute average daily P&L...\n"
     ]
    },
    {
     "name": "stderr",
     "output_type": "stream",
     "text": [
      "[I 2025-08-02 15:21:27,356] Trial 95 finished with value: 0.4268715596330276 and parameters: {'pred_threshold': 0.3568943816356379, 'trailing_stop_pred': 0.01297638403001402}. Best is trial 86 with value: 0.4393411175979983.\n"
     ]
    },
    {
     "name": "stdout",
     "output_type": "stream",
     "text": [
      "→ Total P&L: $1023.64  |  Avg daily P&L: $0.4269\n",
      "\n",
      "-----------------------------------\n",
      "Generate actions per day...\n",
      "Simulate and compute average daily P&L...\n"
     ]
    },
    {
     "name": "stderr",
     "output_type": "stream",
     "text": [
      "[I 2025-08-02 15:22:28,857] Trial 96 finished with value: 0.43799416180150125 and parameters: {'pred_threshold': 0.2994701036151619, 'trailing_stop_pred': 0.04064350971979756}. Best is trial 86 with value: 0.4393411175979983.\n"
     ]
    },
    {
     "name": "stdout",
     "output_type": "stream",
     "text": [
      "→ Total P&L: $1050.31  |  Avg daily P&L: $0.4380\n",
      "\n",
      "-----------------------------------\n",
      "Generate actions per day...\n",
      "Simulate and compute average daily P&L...\n"
     ]
    },
    {
     "name": "stderr",
     "output_type": "stream",
     "text": [
      "[I 2025-08-02 15:23:31,374] Trial 97 finished with value: 0.4328427856547123 and parameters: {'pred_threshold': 0.3262226924246365, 'trailing_stop_pred': 0.022843836512631013}. Best is trial 86 with value: 0.4393411175979983.\n"
     ]
    },
    {
     "name": "stdout",
     "output_type": "stream",
     "text": [
      "→ Total P&L: $1037.96  |  Avg daily P&L: $0.4328\n",
      "\n",
      "-----------------------------------\n",
      "Generate actions per day...\n",
      "Simulate and compute average daily P&L...\n"
     ]
    },
    {
     "name": "stderr",
     "output_type": "stream",
     "text": [
      "[I 2025-08-02 15:24:32,523] Trial 98 finished with value: 0.40371768140116765 and parameters: {'pred_threshold': 0.39206628303221397, 'trailing_stop_pred': 0.036573082966328885}. Best is trial 86 with value: 0.4393411175979983.\n"
     ]
    },
    {
     "name": "stdout",
     "output_type": "stream",
     "text": [
      "→ Total P&L: $968.12  |  Avg daily P&L: $0.4037\n",
      "\n",
      "-----------------------------------\n",
      "Generate actions per day...\n",
      "Simulate and compute average daily P&L...\n"
     ]
    },
    {
     "name": "stderr",
     "output_type": "stream",
     "text": [
      "[I 2025-08-02 15:25:33,545] Trial 99 finished with value: 0.44147331109257715 and parameters: {'pred_threshold': 0.29457683386530553, 'trailing_stop_pred': 0.01610003089892052}. Best is trial 99 with value: 0.44147331109257715.\n"
     ]
    },
    {
     "name": "stdout",
     "output_type": "stream",
     "text": [
      "→ Total P&L: $1058.65  |  Avg daily P&L: $0.4415\n",
      "\n",
      "-----------------------------------\n",
      "Generate actions per day...\n",
      "Simulate and compute average daily P&L...\n"
     ]
    },
    {
     "name": "stderr",
     "output_type": "stream",
     "text": [
      "[I 2025-08-02 15:26:35,088] Trial 100 finished with value: 0.4401776480400333 and parameters: {'pred_threshold': 0.2992220173517706, 'trailing_stop_pred': 0.010122180258996447}. Best is trial 99 with value: 0.44147331109257715.\n"
     ]
    },
    {
     "name": "stdout",
     "output_type": "stream",
     "text": [
      "→ Total P&L: $1055.55  |  Avg daily P&L: $0.4402\n",
      "\n",
      "-----------------------------------\n",
      "Generate actions per day...\n",
      "Simulate and compute average daily P&L...\n"
     ]
    },
    {
     "name": "stderr",
     "output_type": "stream",
     "text": [
      "[I 2025-08-02 15:27:38,179] Trial 101 finished with value: 0.437232693911593 and parameters: {'pred_threshold': 0.3081599568002589, 'trailing_stop_pred': 0.010920134087977883}. Best is trial 99 with value: 0.44147331109257715.\n"
     ]
    },
    {
     "name": "stdout",
     "output_type": "stream",
     "text": [
      "→ Total P&L: $1048.48  |  Avg daily P&L: $0.4372\n",
      "\n",
      "-----------------------------------\n",
      "Generate actions per day...\n",
      "Simulate and compute average daily P&L...\n"
     ]
    },
    {
     "name": "stderr",
     "output_type": "stream",
     "text": [
      "[I 2025-08-02 15:28:39,614] Trial 102 finished with value: 0.4395617180984153 and parameters: {'pred_threshold': 0.3013064275702949, 'trailing_stop_pred': 0.014316836501531812}. Best is trial 99 with value: 0.44147331109257715.\n"
     ]
    },
    {
     "name": "stdout",
     "output_type": "stream",
     "text": [
      "→ Total P&L: $1054.07  |  Avg daily P&L: $0.4396\n",
      "\n",
      "-----------------------------------\n",
      "Generate actions per day...\n",
      "Simulate and compute average daily P&L...\n"
     ]
    },
    {
     "name": "stderr",
     "output_type": "stream",
     "text": [
      "[I 2025-08-02 15:29:42,340] Trial 103 finished with value: 0.43757089241034197 and parameters: {'pred_threshold': 0.3068093673281459, 'trailing_stop_pred': 0.011702320730472204}. Best is trial 99 with value: 0.44147331109257715.\n"
     ]
    },
    {
     "name": "stdout",
     "output_type": "stream",
     "text": [
      "→ Total P&L: $1049.30  |  Avg daily P&L: $0.4376\n",
      "\n",
      "-----------------------------------\n",
      "Generate actions per day...\n",
      "Simulate and compute average daily P&L...\n"
     ]
    },
    {
     "name": "stderr",
     "output_type": "stream",
     "text": [
      "[I 2025-08-02 15:30:44,071] Trial 104 finished with value: 0.4396588824020016 and parameters: {'pred_threshold': 0.30131201370612415, 'trailing_stop_pred': 0.011155277694629376}. Best is trial 99 with value: 0.44147331109257715.\n"
     ]
    },
    {
     "name": "stdout",
     "output_type": "stream",
     "text": [
      "→ Total P&L: $1054.30  |  Avg daily P&L: $0.4397\n",
      "\n",
      "-----------------------------------\n",
      "Generate actions per day...\n",
      "Simulate and compute average daily P&L...\n"
     ]
    },
    {
     "name": "stderr",
     "output_type": "stream",
     "text": [
      "[I 2025-08-02 15:31:46,195] Trial 105 finished with value: 0.4420675562969141 and parameters: {'pred_threshold': 0.29529766705519833, 'trailing_stop_pred': 0.013353609091854051}. Best is trial 105 with value: 0.4420675562969141.\n"
     ]
    },
    {
     "name": "stdout",
     "output_type": "stream",
     "text": [
      "→ Total P&L: $1060.08  |  Avg daily P&L: $0.4421\n",
      "\n",
      "-----------------------------------\n",
      "Generate actions per day...\n",
      "Simulate and compute average daily P&L...\n"
     ]
    },
    {
     "name": "stderr",
     "output_type": "stream",
     "text": [
      "[I 2025-08-02 15:32:48,530] Trial 106 finished with value: 0.43832610508757297 and parameters: {'pred_threshold': 0.29839008963359714, 'trailing_stop_pred': 0.035120523000532644}. Best is trial 105 with value: 0.4420675562969141.\n"
     ]
    },
    {
     "name": "stdout",
     "output_type": "stream",
     "text": [
      "→ Total P&L: $1051.11  |  Avg daily P&L: $0.4383\n",
      "\n",
      "-----------------------------------\n",
      "Generate actions per day...\n",
      "Simulate and compute average daily P&L...\n"
     ]
    },
    {
     "name": "stderr",
     "output_type": "stream",
     "text": [
      "[I 2025-08-02 15:33:53,558] Trial 107 finished with value: 0.43900917431192665 and parameters: {'pred_threshold': 0.3022276209996488, 'trailing_stop_pred': 0.014086591164727675}. Best is trial 105 with value: 0.4420675562969141.\n"
     ]
    },
    {
     "name": "stdout",
     "output_type": "stream",
     "text": [
      "→ Total P&L: $1052.74  |  Avg daily P&L: $0.4390\n",
      "\n",
      "-----------------------------------\n",
      "Generate actions per day...\n",
      "Simulate and compute average daily P&L...\n"
     ]
    },
    {
     "name": "stderr",
     "output_type": "stream",
     "text": [
      "[I 2025-08-02 15:35:06,880] Trial 108 finished with value: 0.44213010842368644 and parameters: {'pred_threshold': 0.29568216487413557, 'trailing_stop_pred': 0.010890809298356246}. Best is trial 108 with value: 0.44213010842368644.\n"
     ]
    },
    {
     "name": "stdout",
     "output_type": "stream",
     "text": [
      "→ Total P&L: $1060.23  |  Avg daily P&L: $0.4421\n",
      "\n",
      "-----------------------------------\n",
      "Generate actions per day...\n",
      "Simulate and compute average daily P&L...\n"
     ]
    },
    {
     "name": "stderr",
     "output_type": "stream",
     "text": [
      "[I 2025-08-02 15:36:13,995] Trial 109 finished with value: 0.31798790658882403 and parameters: {'pred_threshold': 0.2554948178101219, 'trailing_stop_pred': 0.4631678468090361}. Best is trial 108 with value: 0.44213010842368644.\n"
     ]
    },
    {
     "name": "stdout",
     "output_type": "stream",
     "text": [
      "→ Total P&L: $762.54  |  Avg daily P&L: $0.3180\n",
      "\n",
      "-----------------------------------\n",
      "Generate actions per day...\n",
      "Simulate and compute average daily P&L...\n"
     ]
    },
    {
     "name": "stderr",
     "output_type": "stream",
     "text": [
      "[I 2025-08-02 15:37:16,149] Trial 110 finished with value: 0.4383377814845705 and parameters: {'pred_threshold': 0.2995881248504514, 'trailing_stop_pred': 0.03778850763491738}. Best is trial 108 with value: 0.44213010842368644.\n"
     ]
    },
    {
     "name": "stdout",
     "output_type": "stream",
     "text": [
      "→ Total P&L: $1051.13  |  Avg daily P&L: $0.4383\n",
      "\n",
      "-----------------------------------\n",
      "Generate actions per day...\n",
      "Simulate and compute average daily P&L...\n"
     ]
    },
    {
     "name": "stderr",
     "output_type": "stream",
     "text": [
      "[I 2025-08-02 15:38:17,935] Trial 111 finished with value: 0.43820558798999165 and parameters: {'pred_threshold': 0.29295298904290423, 'trailing_stop_pred': 0.03386001339583233}. Best is trial 108 with value: 0.44213010842368644.\n"
     ]
    },
    {
     "name": "stdout",
     "output_type": "stream",
     "text": [
      "→ Total P&L: $1050.82  |  Avg daily P&L: $0.4382\n",
      "\n",
      "-----------------------------------\n",
      "Generate actions per day...\n",
      "Simulate and compute average daily P&L...\n"
     ]
    },
    {
     "name": "stderr",
     "output_type": "stream",
     "text": [
      "[I 2025-08-02 15:39:22,327] Trial 112 finished with value: 0.4405909090909091 and parameters: {'pred_threshold': 0.29655742681647834, 'trailing_stop_pred': 0.033558050091354805}. Best is trial 108 with value: 0.44213010842368644.\n"
     ]
    },
    {
     "name": "stdout",
     "output_type": "stream",
     "text": [
      "→ Total P&L: $1056.54  |  Avg daily P&L: $0.4406\n",
      "\n",
      "-----------------------------------\n",
      "Generate actions per day...\n",
      "Simulate and compute average daily P&L...\n"
     ]
    },
    {
     "name": "stderr",
     "output_type": "stream",
     "text": [
      "[I 2025-08-02 15:40:26,126] Trial 113 finished with value: 0.4254995829858215 and parameters: {'pred_threshold': 0.3391994296264964, 'trailing_stop_pred': 0.033369703889277805}. Best is trial 108 with value: 0.44213010842368644.\n"
     ]
    },
    {
     "name": "stdout",
     "output_type": "stream",
     "text": [
      "→ Total P&L: $1020.35  |  Avg daily P&L: $0.4255\n",
      "\n",
      "-----------------------------------\n",
      "Generate actions per day...\n",
      "Simulate and compute average daily P&L...\n"
     ]
    },
    {
     "name": "stderr",
     "output_type": "stream",
     "text": [
      "[I 2025-08-02 15:41:29,546] Trial 114 finished with value: 0.41437698081734775 and parameters: {'pred_threshold': 0.2566146583501699, 'trailing_stop_pred': 0.029755666588805678}. Best is trial 108 with value: 0.44213010842368644.\n"
     ]
    },
    {
     "name": "stdout",
     "output_type": "stream",
     "text": [
      "→ Total P&L: $993.68  |  Avg daily P&L: $0.4144\n",
      "\n",
      "-----------------------------------\n",
      "Generate actions per day...\n",
      "Simulate and compute average daily P&L...\n"
     ]
    },
    {
     "name": "stderr",
     "output_type": "stream",
     "text": [
      "[I 2025-08-02 15:42:31,753] Trial 115 finished with value: 0.44197539616346954 and parameters: {'pred_threshold': 0.2958477823292743, 'trailing_stop_pred': 0.010866516213014711}. Best is trial 108 with value: 0.44213010842368644.\n"
     ]
    },
    {
     "name": "stdout",
     "output_type": "stream",
     "text": [
      "→ Total P&L: $1059.86  |  Avg daily P&L: $0.4420\n",
      "\n",
      "-----------------------------------\n",
      "Generate actions per day...\n",
      "Simulate and compute average daily P&L...\n"
     ]
    },
    {
     "name": "stderr",
     "output_type": "stream",
     "text": [
      "[I 2025-08-02 15:43:34,587] Trial 116 finished with value: 0.4268657214345288 and parameters: {'pred_threshold': 0.3330262156528434, 'trailing_stop_pred': 0.04260987861042644}. Best is trial 108 with value: 0.44213010842368644.\n"
     ]
    },
    {
     "name": "stdout",
     "output_type": "stream",
     "text": [
      "→ Total P&L: $1023.62  |  Avg daily P&L: $0.4269\n",
      "\n",
      "-----------------------------------\n",
      "Generate actions per day...\n",
      "Simulate and compute average daily P&L...\n"
     ]
    },
    {
     "name": "stderr",
     "output_type": "stream",
     "text": [
      "[I 2025-08-02 15:44:36,315] Trial 117 finished with value: 0.38795954962468726 and parameters: {'pred_threshold': 0.23948656481700326, 'trailing_stop_pred': 0.011377170661528255}. Best is trial 108 with value: 0.44213010842368644.\n"
     ]
    },
    {
     "name": "stdout",
     "output_type": "stream",
     "text": [
      "→ Total P&L: $930.33  |  Avg daily P&L: $0.3880\n",
      "\n",
      "-----------------------------------\n",
      "Generate actions per day...\n",
      "Simulate and compute average daily P&L...\n"
     ]
    },
    {
     "name": "stderr",
     "output_type": "stream",
     "text": [
      "[I 2025-08-02 15:45:37,308] Trial 118 finished with value: 0.42251668056713926 and parameters: {'pred_threshold': 0.35714867377553355, 'trailing_stop_pred': 0.04270549785964785}. Best is trial 108 with value: 0.44213010842368644.\n"
     ]
    },
    {
     "name": "stdout",
     "output_type": "stream",
     "text": [
      "→ Total P&L: $1013.19  |  Avg daily P&L: $0.4225\n",
      "\n",
      "-----------------------------------\n",
      "Generate actions per day...\n",
      "Simulate and compute average daily P&L...\n"
     ]
    },
    {
     "name": "stderr",
     "output_type": "stream",
     "text": [
      "[I 2025-08-02 15:46:38,374] Trial 119 finished with value: 0.43258131776480396 and parameters: {'pred_threshold': 0.329557962309848, 'trailing_stop_pred': 0.010624895429420947}. Best is trial 108 with value: 0.44213010842368644.\n"
     ]
    },
    {
     "name": "stdout",
     "output_type": "stream",
     "text": [
      "→ Total P&L: $1037.33  |  Avg daily P&L: $0.4326\n",
      "\n",
      "-----------------------------------\n",
      "Generate actions per day...\n",
      "Simulate and compute average daily P&L...\n"
     ]
    },
    {
     "name": "stderr",
     "output_type": "stream",
     "text": [
      "[I 2025-08-02 15:47:39,956] Trial 120 finished with value: 0.43742452043369473 and parameters: {'pred_threshold': 0.29999938419401967, 'trailing_stop_pred': 0.028480439985568103}. Best is trial 108 with value: 0.44213010842368644.\n"
     ]
    },
    {
     "name": "stdout",
     "output_type": "stream",
     "text": [
      "→ Total P&L: $1048.94  |  Avg daily P&L: $0.4374\n",
      "\n",
      "-----------------------------------\n",
      "Generate actions per day...\n",
      "Simulate and compute average daily P&L...\n"
     ]
    },
    {
     "name": "stderr",
     "output_type": "stream",
     "text": [
      "[I 2025-08-02 15:48:42,228] Trial 121 finished with value: 0.4382130942452043 and parameters: {'pred_threshold': 0.29502927981825755, 'trailing_stop_pred': 0.030140835814897904}. Best is trial 108 with value: 0.44213010842368644.\n"
     ]
    },
    {
     "name": "stdout",
     "output_type": "stream",
     "text": [
      "→ Total P&L: $1050.84  |  Avg daily P&L: $0.4382\n",
      "\n",
      "-----------------------------------\n",
      "Generate actions per day...\n",
      "Simulate and compute average daily P&L...\n"
     ]
    },
    {
     "name": "stderr",
     "output_type": "stream",
     "text": [
      "[I 2025-08-02 15:49:44,391] Trial 122 finished with value: 0.4373748957464553 and parameters: {'pred_threshold': 0.2717449933972059, 'trailing_stop_pred': 0.019382541003407097}. Best is trial 108 with value: 0.44213010842368644.\n"
     ]
    },
    {
     "name": "stdout",
     "output_type": "stream",
     "text": [
      "→ Total P&L: $1048.82  |  Avg daily P&L: $0.4374\n",
      "\n",
      "-----------------------------------\n",
      "Generate actions per day...\n",
      "Simulate and compute average daily P&L...\n"
     ]
    },
    {
     "name": "stderr",
     "output_type": "stream",
     "text": [
      "[I 2025-08-02 15:50:48,056] Trial 123 finished with value: 0.44014303586321935 and parameters: {'pred_threshold': 0.29650255262679454, 'trailing_stop_pred': 0.032838903154626745}. Best is trial 108 with value: 0.44213010842368644.\n"
     ]
    },
    {
     "name": "stdout",
     "output_type": "stream",
     "text": [
      "→ Total P&L: $1055.46  |  Avg daily P&L: $0.4401\n",
      "\n",
      "-----------------------------------\n",
      "Generate actions per day...\n",
      "Simulate and compute average daily P&L...\n"
     ]
    },
    {
     "name": "stderr",
     "output_type": "stream",
     "text": [
      "[I 2025-08-02 15:51:50,194] Trial 124 finished with value: 0.41213344453711426 and parameters: {'pred_threshold': 0.25630668422891667, 'trailing_stop_pred': 0.041174517154141096}. Best is trial 108 with value: 0.44213010842368644.\n"
     ]
    },
    {
     "name": "stdout",
     "output_type": "stream",
     "text": [
      "→ Total P&L: $988.30  |  Avg daily P&L: $0.4121\n",
      "\n",
      "-----------------------------------\n",
      "Generate actions per day...\n",
      "Simulate and compute average daily P&L...\n"
     ]
    },
    {
     "name": "stderr",
     "output_type": "stream",
     "text": [
      "[I 2025-08-02 15:52:52,216] Trial 125 finished with value: 0.43849582985821517 and parameters: {'pred_threshold': 0.27636674144210815, 'trailing_stop_pred': 0.01852354879977096}. Best is trial 108 with value: 0.44213010842368644.\n"
     ]
    },
    {
     "name": "stdout",
     "output_type": "stream",
     "text": [
      "→ Total P&L: $1051.51  |  Avg daily P&L: $0.4385\n",
      "\n",
      "-----------------------------------\n",
      "Generate actions per day...\n",
      "Simulate and compute average daily P&L...\n"
     ]
    },
    {
     "name": "stderr",
     "output_type": "stream",
     "text": [
      "[I 2025-08-02 15:53:55,542] Trial 126 finished with value: 0.4389699749791493 and parameters: {'pred_threshold': 0.2753307135864816, 'trailing_stop_pred': 0.0171513684307722}. Best is trial 108 with value: 0.44213010842368644.\n"
     ]
    },
    {
     "name": "stdout",
     "output_type": "stream",
     "text": [
      "→ Total P&L: $1052.65  |  Avg daily P&L: $0.4390\n",
      "\n",
      "-----------------------------------\n",
      "Generate actions per day...\n",
      "Simulate and compute average daily P&L...\n"
     ]
    },
    {
     "name": "stderr",
     "output_type": "stream",
     "text": [
      "[I 2025-08-02 15:54:58,134] Trial 127 finished with value: 0.43999624687239364 and parameters: {'pred_threshold': 0.2790122400725433, 'trailing_stop_pred': 0.010222288656847683}. Best is trial 108 with value: 0.44213010842368644.\n"
     ]
    },
    {
     "name": "stdout",
     "output_type": "stream",
     "text": [
      "→ Total P&L: $1055.11  |  Avg daily P&L: $0.4400\n",
      "\n",
      "-----------------------------------\n",
      "Generate actions per day...\n",
      "Simulate and compute average daily P&L...\n"
     ]
    },
    {
     "name": "stderr",
     "output_type": "stream",
     "text": [
      "[I 2025-08-02 15:56:00,714] Trial 128 finished with value: 0.3110283569641368 and parameters: {'pred_threshold': 0.24350572485833857, 'trailing_stop_pred': 0.38278949433665754}. Best is trial 108 with value: 0.44213010842368644.\n"
     ]
    },
    {
     "name": "stdout",
     "output_type": "stream",
     "text": [
      "→ Total P&L: $745.85  |  Avg daily P&L: $0.3110\n",
      "\n",
      "-----------------------------------\n",
      "Generate actions per day...\n",
      "Simulate and compute average daily P&L...\n"
     ]
    },
    {
     "name": "stderr",
     "output_type": "stream",
     "text": [
      "[I 2025-08-02 15:57:02,396] Trial 129 finished with value: 0.43124228523769814 and parameters: {'pred_threshold': 0.26850062550703463, 'trailing_stop_pred': 0.010160702952048715}. Best is trial 108 with value: 0.44213010842368644.\n"
     ]
    },
    {
     "name": "stdout",
     "output_type": "stream",
     "text": [
      "→ Total P&L: $1034.12  |  Avg daily P&L: $0.4312\n",
      "\n",
      "-----------------------------------\n",
      "Generate actions per day...\n",
      "Simulate and compute average daily P&L...\n"
     ]
    },
    {
     "name": "stderr",
     "output_type": "stream",
     "text": [
      "[I 2025-08-02 15:58:04,531] Trial 130 finished with value: 0.31620350291909927 and parameters: {'pred_threshold': 0.5230602346668003, 'trailing_stop_pred': 0.02619976955715872}. Best is trial 108 with value: 0.44213010842368644.\n"
     ]
    },
    {
     "name": "stdout",
     "output_type": "stream",
     "text": [
      "→ Total P&L: $758.26  |  Avg daily P&L: $0.3162\n",
      "\n",
      "-----------------------------------\n",
      "Generate actions per day...\n",
      "Simulate and compute average daily P&L...\n"
     ]
    },
    {
     "name": "stderr",
     "output_type": "stream",
     "text": [
      "[I 2025-08-02 15:59:06,671] Trial 131 finished with value: 0.4409307756463719 and parameters: {'pred_threshold': 0.28791714981361916, 'trailing_stop_pred': 0.02187426455502104}. Best is trial 108 with value: 0.44213010842368644.\n"
     ]
    },
    {
     "name": "stdout",
     "output_type": "stream",
     "text": [
      "→ Total P&L: $1057.35  |  Avg daily P&L: $0.4409\n",
      "\n",
      "-----------------------------------\n",
      "Generate actions per day...\n",
      "Simulate and compute average daily P&L...\n"
     ]
    },
    {
     "name": "stderr",
     "output_type": "stream",
     "text": [
      "[I 2025-08-02 16:00:08,412] Trial 132 finished with value: 0.4378869891576313 and parameters: {'pred_threshold': 0.2848548549392783, 'trailing_stop_pred': 0.016946753224309198}. Best is trial 108 with value: 0.44213010842368644.\n"
     ]
    },
    {
     "name": "stdout",
     "output_type": "stream",
     "text": [
      "→ Total P&L: $1050.05  |  Avg daily P&L: $0.4379\n",
      "\n",
      "-----------------------------------\n",
      "Generate actions per day...\n",
      "Simulate and compute average daily P&L...\n"
     ]
    },
    {
     "name": "stderr",
     "output_type": "stream",
     "text": [
      "[I 2025-08-02 16:01:10,134] Trial 133 finished with value: 0.4301855713094244 and parameters: {'pred_threshold': 0.3213964110340457, 'trailing_stop_pred': 0.04794457933023251}. Best is trial 108 with value: 0.44213010842368644.\n"
     ]
    },
    {
     "name": "stdout",
     "output_type": "stream",
     "text": [
      "→ Total P&L: $1031.58  |  Avg daily P&L: $0.4302\n",
      "\n",
      "-----------------------------------\n",
      "Generate actions per day...\n",
      "Simulate and compute average daily P&L...\n"
     ]
    },
    {
     "name": "stderr",
     "output_type": "stream",
     "text": [
      "[I 2025-08-02 16:02:11,576] Trial 134 finished with value: 0.4210854879065888 and parameters: {'pred_threshold': 0.2609840597506016, 'trailing_stop_pred': 0.02706140802498024}. Best is trial 108 with value: 0.44213010842368644.\n"
     ]
    },
    {
     "name": "stdout",
     "output_type": "stream",
     "text": [
      "→ Total P&L: $1009.76  |  Avg daily P&L: $0.4211\n",
      "\n",
      "-----------------------------------\n",
      "Generate actions per day...\n",
      "Simulate and compute average daily P&L...\n"
     ]
    },
    {
     "name": "stderr",
     "output_type": "stream",
     "text": [
      "[I 2025-08-02 16:03:12,915] Trial 135 finished with value: 0.440267306088407 and parameters: {'pred_threshold': 0.27816460321594444, 'trailing_stop_pred': 0.010842448577837914}. Best is trial 108 with value: 0.44213010842368644.\n"
     ]
    },
    {
     "name": "stdout",
     "output_type": "stream",
     "text": [
      "→ Total P&L: $1055.76  |  Avg daily P&L: $0.4403\n",
      "\n",
      "-----------------------------------\n",
      "Generate actions per day...\n",
      "Simulate and compute average daily P&L...\n"
     ]
    },
    {
     "name": "stderr",
     "output_type": "stream",
     "text": [
      "[I 2025-08-02 16:04:15,167] Trial 136 finished with value: 0.44234028356964133 and parameters: {'pred_threshold': 0.28802610798206696, 'trailing_stop_pred': 0.010145673112793312}. Best is trial 136 with value: 0.44234028356964133.\n"
     ]
    },
    {
     "name": "stdout",
     "output_type": "stream",
     "text": [
      "→ Total P&L: $1060.73  |  Avg daily P&L: $0.4423\n",
      "\n",
      "-----------------------------------\n",
      "Generate actions per day...\n",
      "Simulate and compute average daily P&L...\n"
     ]
    },
    {
     "name": "stderr",
     "output_type": "stream",
     "text": [
      "[I 2025-08-02 16:05:20,335] Trial 137 finished with value: 0.3890871559633028 and parameters: {'pred_threshold': 0.290102286844206, 'trailing_stop_pred': 0.29822824530446523}. Best is trial 136 with value: 0.44234028356964133.\n"
     ]
    },
    {
     "name": "stdout",
     "output_type": "stream",
     "text": [
      "→ Total P&L: $933.03  |  Avg daily P&L: $0.3891\n",
      "\n",
      "-----------------------------------\n",
      "Generate actions per day...\n",
      "Simulate and compute average daily P&L...\n"
     ]
    },
    {
     "name": "stderr",
     "output_type": "stream",
     "text": [
      "[I 2025-08-02 16:06:21,534] Trial 138 finished with value: 0.43116680567139287 and parameters: {'pred_threshold': 0.31729115650585327, 'trailing_stop_pred': 0.028215256285303948}. Best is trial 136 with value: 0.44234028356964133.\n"
     ]
    },
    {
     "name": "stdout",
     "output_type": "stream",
     "text": [
      "→ Total P&L: $1033.94  |  Avg daily P&L: $0.4312\n",
      "\n",
      "-----------------------------------\n",
      "Generate actions per day...\n",
      "Simulate and compute average daily P&L...\n"
     ]
    },
    {
     "name": "stderr",
     "output_type": "stream",
     "text": [
      "[I 2025-08-02 16:07:23,462] Trial 139 finished with value: 0.3534833194328607 and parameters: {'pred_threshold': 0.22993493234806056, 'trailing_stop_pred': 0.047412802672746814}. Best is trial 136 with value: 0.44234028356964133.\n"
     ]
    },
    {
     "name": "stdout",
     "output_type": "stream",
     "text": [
      "→ Total P&L: $847.65  |  Avg daily P&L: $0.3535\n",
      "\n",
      "-----------------------------------\n",
      "Generate actions per day...\n",
      "Simulate and compute average daily P&L...\n",
      "→ Total P&L: $976.41  |  Avg daily P&L: $0.4072\n",
      "\n"
     ]
    },
    {
     "name": "stderr",
     "output_type": "stream",
     "text": [
      "[I 2025-08-02 16:08:27,962] Trial 140 finished with value: 0.40717806505421184 and parameters: {'pred_threshold': 0.2530117682573141, 'trailing_stop_pred': 0.03356201651163818}. Best is trial 136 with value: 0.44234028356964133.\n"
     ]
    },
    {
     "name": "stdout",
     "output_type": "stream",
     "text": [
      "-----------------------------------\n",
      "Generate actions per day...\n",
      "Simulate and compute average daily P&L...\n"
     ]
    },
    {
     "name": "stderr",
     "output_type": "stream",
     "text": [
      "[I 2025-08-02 16:09:31,993] Trial 141 finished with value: 0.4382143452877398 and parameters: {'pred_threshold': 0.280798054167142, 'trailing_stop_pred': 0.01887864707704808}. Best is trial 136 with value: 0.44234028356964133.\n"
     ]
    },
    {
     "name": "stdout",
     "output_type": "stream",
     "text": [
      "→ Total P&L: $1050.84  |  Avg daily P&L: $0.4382\n",
      "\n",
      "-----------------------------------\n",
      "Generate actions per day...\n",
      "Simulate and compute average daily P&L...\n"
     ]
    },
    {
     "name": "stderr",
     "output_type": "stream",
     "text": [
      "[I 2025-08-02 16:10:34,941] Trial 142 finished with value: 0.42896997497914935 and parameters: {'pred_threshold': 0.3468031793395783, 'trailing_stop_pred': 0.01101589272228495}. Best is trial 136 with value: 0.44234028356964133.\n"
     ]
    },
    {
     "name": "stdout",
     "output_type": "stream",
     "text": [
      "→ Total P&L: $1028.67  |  Avg daily P&L: $0.4290\n",
      "\n",
      "-----------------------------------\n",
      "Generate actions per day...\n",
      "Simulate and compute average daily P&L...\n"
     ]
    }
   ],
   "source": [
    "pruner = optuna.pruners.MedianPruner(n_startup_trials=6, n_warmup_steps=12)\n",
    "storage = RDBStorage(\n",
    "    url=\"sqlite:///optuna_study.db\",\n",
    "    engine_kwargs={\"connect_args\": {\"timeout\": 20, \"check_same_thread\": False}}\n",
    ")\n",
    "study = optuna.create_study(\n",
    "    storage        = storage,\n",
    "    load_if_exists = True,\n",
    "    direction      = \"maximize\",\n",
    "    pruner         = pruner,\n",
    ")\n",
    "study.optimize(\n",
    "    objective,\n",
    "    n_trials          = n_trials,\n",
    "    n_jobs            = n_jobs,\n",
    "    callbacks         = [plots.cleanup_callback, plots.lightweight_plot_callback],\n",
    "    gc_after_trial    = True,\n",
    "    show_progress_bar = False,\n",
    "    catch              = (MemoryError,),\n",
    ")\n",
    "\n",
    "# Final plots & JSON dump\n",
    "fig = plot_optimization_history(study)\n",
    "fig.set_size_inches(8, 4)\n",
    "fig.axes[0].set_title(\"Optuna Optimization History\")\n",
    "plt.show()\n",
    "\n",
    "print(\"Best Parameters       :\", study.best_params)\n",
    "print(\"Best Average Daily P&L:\", study.best_value)\n",
    "\n",
    "importances = get_param_importances(study)\n",
    "print(\"\\nHyperparameter importances (higher ⇒ more impact):\")\n",
    "for name, score in sorted(importances.items(), key=lambda x: x[1], reverse=True):\n",
    "    print(f\"  {name:20s}: {score:.3f}\")\n",
    "\n",
    "first_day  = df_train_val.index.normalize().min().strftime(\"%Y%m%d\")\n",
    "last_day   = df_train_val.index.normalize().max().strftime(\"%Y%m%d\")\n",
    "file_name  = f\"{params.ticker}_{first_day}-{last_day}_optuna_predsig_pars.json\"\n",
    "file_path  = os.path.join(params.optuna_folder, file_name)\n",
    "\n",
    "with open(file_path, \"w\") as f:\n",
    "    json.dump({\n",
    "        \"best_params\": study.best_params,\n",
    "        \"best_value\" : study.best_value,\n",
    "        \"importances\": importances,\n",
    "        \"trials\": [\n",
    "            {\"number\": t.number, \"value\": t.value, \"params\": t.params, \"state\": t.state.name}\n",
    "            for t in study.trials\n",
    "        ],\n",
    "    }, f, indent=4)\n",
    "\n",
    "print(f\"\\nOptuna results (and importances) saved to: {file_path}\")\n"
   ]
  },
  {
   "cell_type": "code",
   "execution_count": null,
   "id": "5899a08d-ebdf-4c1c-bb2c-d445da44cee2",
   "metadata": {},
   "outputs": [],
   "source": [
    "."
   ]
  },
  {
   "cell_type": "code",
   "execution_count": null,
   "id": "0f9f919a-ddf0-4fcd-a8b9-3baa5cf8b7a5",
   "metadata": {},
   "outputs": [],
   "source": [
    "# Compute Descriptive Statistics\n",
    "# Statistics show whether your model systematically over/under-estimates (compare means) and how tightly it tracks (std & correlation).\n",
    "\n",
    "# assume df is your DataFrame\n",
    "stats = df_test[['signal_smooth','pred_signal']].describe().T\n",
    "\n",
    "# add range and error\n",
    "stats['range'] = stats['max'] - stats['min']\n",
    "corr = df_test['signal_smooth'].corr(df_test['pred_signal'])\n",
    "stats['pearson_r_with_other'] = [corr, corr]\n",
    "\n",
    "print(stats)"
   ]
  },
  {
   "cell_type": "code",
   "execution_count": null,
   "id": "afaafb9d-df9d-43f5-9b3d-1ca0b5c74d6c",
   "metadata": {},
   "outputs": [],
   "source": [
    "# Distribution Overlay\n",
    "# Histogram overlay reveals any bias or mismatched shape in the two distributions.\n",
    "\n",
    "plt.figure(figsize=(8,4))\n",
    "sns.histplot(df_test['signal_smooth'], color='C0', alpha=0.5, bins=50, label='signal_smooth')\n",
    "sns.histplot(df_test['pred_signal'],   color='C1', alpha=0.5, bins=50, label='pred_signal')\n",
    "plt.legend()\n",
    "plt.xlabel('Signal Value')\n",
    "plt.ylabel('Count')\n",
    "plt.title('Histogram of signal_smooth vs. pred_signal')\n",
    "plt.show()"
   ]
  },
  {
   "cell_type": "code",
   "execution_count": null,
   "id": "af62b6a4-d566-4425-afee-25289d9397d5",
   "metadata": {},
   "outputs": [],
   "source": [
    "# Scatter Plot: Relationship\n",
    "# Scatter against the 45° line instantly shows under/over‐prediction regions and non‐linear errors.\n",
    "\n",
    "plt.figure(figsize=(5,5))\n",
    "plt.scatter(df_test['signal_smooth'], df_test['pred_signal'],\n",
    "            s=5, alpha=0.3, color='C2')\n",
    "plt.plot([0,1],[0,1], 'k--', linewidth=1)  # 45° reference line\n",
    "plt.xlabel('signal_smooth')\n",
    "plt.ylabel('pred_signal')\n",
    "plt.title('pred_signal vs. signal_smooth')\n",
    "plt.axis('equal')\n",
    "plt.show()"
   ]
  },
  {
   "cell_type": "code",
   "execution_count": null,
   "id": "eddbeb73-c57c-415b-8172-d1fba5f117cb",
   "metadata": {},
   "outputs": [],
   "source": [
    "# Time-Series Comparison (Sample)\n",
    "# Time‐series plots let you see if the model lags or leads the smoothed signal on a given day.\n",
    "\n",
    "# pick a single day or time span\n",
    "day = df_test.index.normalize().unique()[-1]\n",
    "mask = df_test.index.normalize() == day\n",
    "\n",
    "plt.figure(figsize=(10,3))\n",
    "plt.plot(df_test.index[mask], df_test.loc[mask,'signal_smooth'], label='signal_smooth')\n",
    "plt.plot(df_test.index[mask], df_test.loc[mask,'pred_signal'],   label='pred_signal')\n",
    "plt.legend(loc='upper left')\n",
    "plt.title(f'Signals on {day.date()}')\n",
    "plt.xlabel('Time')\n",
    "plt.ylabel('Signal')\n",
    "plt.xticks(rotation=45)\n",
    "plt.tight_layout()\n",
    "plt.show()"
   ]
  },
  {
   "cell_type": "code",
   "execution_count": null,
   "id": "b086846a-45f7-48c5-8a71-c9ed215a3230",
   "metadata": {},
   "outputs": [],
   "source": [
    "# Error Analysis \n",
    "# Error plots quantify where and when the model struggles most, guiding you to fix lag, amplitude scaling, or threshold issues.\n",
    "\n",
    "# create error column\n",
    "df_test['error'] = df_test['pred_signal'] - df_test['signal_smooth']\n",
    "\n",
    "# Distribution of prediction error\n",
    "plt.figure(figsize=(6,3))\n",
    "sns.histplot(df_test['error'], bins=50, color='C3', kde=True)\n",
    "plt.xlabel('Prediction Error')\n",
    "plt.title('Error Distribution: pred_signal − signal_smooth')\n",
    "plt.show()\n",
    "\n",
    "# Time evolution of error on that same sample day\n",
    "plt.figure(figsize=(10,3))\n",
    "plt.plot(df_test.index[mask], df_test.loc[mask,'error'], color='C4')\n",
    "plt.axhline(0, color='k', linestyle='--', linewidth=1)\n",
    "plt.title(f'Prediction Error over time on {day.date()}')\n",
    "plt.xlabel('Time')\n",
    "plt.ylabel('Error')\n",
    "plt.xticks(rotation=45)\n",
    "plt.tight_layout()\n",
    "plt.show()\n"
   ]
  },
  {
   "cell_type": "code",
   "execution_count": null,
   "id": "4b0b957c-f93a-41b6-bce1-08806c2b0906",
   "metadata": {},
   "outputs": [],
   "source": [
    "print('generating sim_results as a dict: { date → (df_sim, trades_list, perf_stats) } ...')\n",
    "\n",
    "# Run the simulator on your DataFrame of predictions/actions\n",
    "sim_results = trades.simulate_trading(\n",
    "    results_by_day_sign = df_train_val,              # DF with pred_action\n",
    "    col_action          = \"pred_action\",              # name of the discrete action column\n",
    "    regular_start       = params.regular_start,   \n",
    "    regular_end         = params.regular_end,         \n",
    "    ticker              = params.ticker\n",
    ")\n"
   ]
  },
  {
   "cell_type": "code",
   "execution_count": null,
   "id": "08efbd70-ae18-4653-a023-aa7f2cc81b82",
   "metadata": {},
   "outputs": [],
   "source": [
    "importlib.reload(params)\n",
    "# month to inspect (YYYY-MM)\n",
    "date_to_test = params.date_to_test\n",
    "\n",
    "year, month = map(int, date_to_test.split(\"-\"))\n",
    "\n",
    "# 1) Build lists of days in that month + accumulate ALL days\n",
    "days_in_month = []\n",
    "performance_month = []\n",
    "performance_all   = []\n",
    "\n",
    "for day, (df_sim, trades_list, perf_stats) in sim_results.items():\n",
    "    # always collect for the global summary\n",
    "    performance_all.append(perf_stats)\n",
    "\n",
    "    # pick out this month for plotting\n",
    "    if day.year == year and day.month == month:\n",
    "        days_in_month.append(day)\n",
    "        performance_month.append(perf_stats)\n",
    "\n",
    "# 2) Plot & print per-day stats for the month\n",
    "if not days_in_month:\n",
    "    print(f\"No simulation data for {date_to_test}\")\n",
    "else:\n",
    "    print(f\"\\nPlotting days in {date_to_test}:\")\n",
    "    for day in days_in_month:\n",
    "        df_sim, trades_list, perf_stats = sim_results[day]\n",
    "        plots.plot_trades(\n",
    "            df                = df_sim,\n",
    "            col_signal1       = \"pred_signal\",\n",
    "            col_signal2       = \"signal_smooth\",\n",
    "            col_action        = \"pred_action\",\n",
    "            trades            = trades_list,\n",
    "            buy_threshold     = params.pred_threshold_tick,\n",
    "            performance_stats = perf_stats\n",
    "        )\n",
    "        \n",
    "        print(f\"\\n=== Performance for {day} ===\")\n",
    "        for k, v in perf_stats.items():\n",
    "            print(f\"{k}: {v}\")\n",
    "\n",
    "# 3) Monthly summary\n",
    "df_month = df_test[df_test.index.to_period(\"M\") == date_to_test]\n",
    "monthly_summary = plots.aggregate_performance(performance_month, df_month)\n",
    "pprint(monthly_summary)\n",
    "\n",
    "# 4) Overall summary across ALL days, with date range\n",
    "overall_summary = plots.aggregate_performance(performance_all, df_test)\n",
    "pprint(overall_summary)\n"
   ]
  },
  {
   "cell_type": "code",
   "execution_count": null,
   "id": "0faef3ed-01a8-4eb5-96a6-e85ec41ec4ab",
   "metadata": {},
   "outputs": [],
   "source": []
  },
  {
   "cell_type": "code",
   "execution_count": null,
   "id": "749a6f11-54e4-4778-ac70-903606897ea3",
   "metadata": {},
   "outputs": [],
   "source": []
  },
  {
   "cell_type": "code",
   "execution_count": null,
   "id": "06cee26d-0227-49cc-8d3d-6da977a39753",
   "metadata": {},
   "outputs": [],
   "source": []
  }
 ],
 "metadata": {
  "kernelspec": {
   "display_name": "Python 3 (ipykernel)",
   "language": "python",
   "name": "python3"
  },
  "language_info": {
   "codemirror_mode": {
    "name": "ipython",
    "version": 3
   },
   "file_extension": ".py",
   "mimetype": "text/x-python",
   "name": "python",
   "nbconvert_exporter": "python",
   "pygments_lexer": "ipython3",
   "version": "3.12.3"
  }
 },
 "nbformat": 4,
 "nbformat_minor": 5
}
