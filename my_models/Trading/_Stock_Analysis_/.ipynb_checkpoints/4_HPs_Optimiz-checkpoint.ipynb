{
 "cells": [
  {
   "cell_type": "code",
   "execution_count": 1,
   "id": "8d702d5b-d0fb-48ab-9a48-134bb847bab5",
   "metadata": {},
   "outputs": [],
   "source": [
    "# 1) Wipe out all Python variables\n",
    "%reset -f\n",
    "# 2) Force Python’s garbage collector to run\n",
    "import gc\n",
    "gc.collect()\n",
    "\n",
    "import importlib\n",
    "from libs import trades, plots, params, models\n",
    "importlib.reload(trades)\n",
    "importlib.reload(plots)\n",
    "importlib.reload(params)\n",
    "importlib.reload(models)\n",
    "\n",
    "import os\n",
    "import json\n",
    "import numpy as np\n",
    "import pandas as pd\n",
    "import datetime as dt\n",
    "from pathlib import Path\n",
    "import matplotlib.pyplot as plt\n",
    "\n",
    "import torch\n",
    "from torch import nn\n",
    "from torch.utils.data import DataLoader, TensorDataset\n",
    "from torch.optim import AdamW\n",
    "from torch.optim.lr_scheduler import ReduceLROnPlateau, CosineAnnealingWarmRestarts\n",
    "from torch.cuda.amp import GradScaler, autocast\n",
    "\n",
    "import optuna\n",
    "from optuna.pruners import MedianPruner\n",
    "from optuna.exceptions import TrialPruned\n",
    "from optuna.importance import get_param_importances\n",
    "\n",
    "from tqdm.auto import tqdm\n"
   ]
  },
  {
   "cell_type": "code",
   "execution_count": 2,
   "id": "a9498b30-9abb-4123-87f1-0ed191478e49",
   "metadata": {},
   "outputs": [
    {
     "name": "stdout",
     "output_type": "stream",
     "text": [
      "Using device: cuda\n"
     ]
    },
    {
     "data": {
      "text/html": [
       "<div>\n",
       "<style scoped>\n",
       "    .dataframe tbody tr th:only-of-type {\n",
       "        vertical-align: middle;\n",
       "    }\n",
       "\n",
       "    .dataframe tbody tr th {\n",
       "        vertical-align: top;\n",
       "    }\n",
       "\n",
       "    .dataframe thead th {\n",
       "        text-align: right;\n",
       "    }\n",
       "</style>\n",
       "<table border=\"1\" class=\"dataframe\">\n",
       "  <thead>\n",
       "    <tr style=\"text-align: right;\">\n",
       "      <th></th>\n",
       "      <th>open</th>\n",
       "      <th>high</th>\n",
       "      <th>low</th>\n",
       "      <th>close</th>\n",
       "      <th>atr_14</th>\n",
       "      <th>vwap_dev</th>\n",
       "      <th>ma_20</th>\n",
       "      <th>macd_12_26</th>\n",
       "      <th>obv</th>\n",
       "      <th>hour</th>\n",
       "      <th>month</th>\n",
       "      <th>bid</th>\n",
       "      <th>ask</th>\n",
       "      <th>signal_smooth</th>\n",
       "    </tr>\n",
       "  </thead>\n",
       "  <tbody>\n",
       "    <tr>\n",
       "      <th>2014-04-03 08:49:00</th>\n",
       "      <td>28.650</td>\n",
       "      <td>28.6500</td>\n",
       "      <td>28.650</td>\n",
       "      <td>28.6500</td>\n",
       "      <td>0.000000</td>\n",
       "      <td>1.240040e-16</td>\n",
       "      <td>28.650000</td>\n",
       "      <td>0.000000</td>\n",
       "      <td>0.000000e+00</td>\n",
       "      <td>8</td>\n",
       "      <td>4</td>\n",
       "      <td>28.641405</td>\n",
       "      <td>28.658595</td>\n",
       "      <td>0.219822</td>\n",
       "    </tr>\n",
       "    <tr>\n",
       "      <th>2014-04-03 08:50:00</th>\n",
       "      <td>28.650</td>\n",
       "      <td>28.6500</td>\n",
       "      <td>28.650</td>\n",
       "      <td>28.6500</td>\n",
       "      <td>0.000000</td>\n",
       "      <td>1.240040e-16</td>\n",
       "      <td>28.650000</td>\n",
       "      <td>0.000000</td>\n",
       "      <td>0.000000e+00</td>\n",
       "      <td>8</td>\n",
       "      <td>4</td>\n",
       "      <td>28.641405</td>\n",
       "      <td>28.658595</td>\n",
       "      <td>0.220376</td>\n",
       "    </tr>\n",
       "    <tr>\n",
       "      <th>2014-04-03 08:51:00</th>\n",
       "      <td>28.650</td>\n",
       "      <td>28.6500</td>\n",
       "      <td>28.650</td>\n",
       "      <td>28.6500</td>\n",
       "      <td>0.000000</td>\n",
       "      <td>1.240040e-16</td>\n",
       "      <td>28.650000</td>\n",
       "      <td>0.000000</td>\n",
       "      <td>0.000000e+00</td>\n",
       "      <td>8</td>\n",
       "      <td>4</td>\n",
       "      <td>28.641405</td>\n",
       "      <td>28.658595</td>\n",
       "      <td>0.220931</td>\n",
       "    </tr>\n",
       "    <tr>\n",
       "      <th>2014-04-03 08:52:00</th>\n",
       "      <td>28.650</td>\n",
       "      <td>28.6500</td>\n",
       "      <td>28.650</td>\n",
       "      <td>28.6500</td>\n",
       "      <td>0.000000</td>\n",
       "      <td>1.240040e-16</td>\n",
       "      <td>28.650000</td>\n",
       "      <td>0.000000</td>\n",
       "      <td>0.000000e+00</td>\n",
       "      <td>8</td>\n",
       "      <td>4</td>\n",
       "      <td>28.641405</td>\n",
       "      <td>28.658595</td>\n",
       "      <td>0.221487</td>\n",
       "    </tr>\n",
       "    <tr>\n",
       "      <th>2014-04-03 08:53:00</th>\n",
       "      <td>28.650</td>\n",
       "      <td>28.6500</td>\n",
       "      <td>28.650</td>\n",
       "      <td>28.6500</td>\n",
       "      <td>0.000000</td>\n",
       "      <td>1.240040e-16</td>\n",
       "      <td>28.650000</td>\n",
       "      <td>0.000000</td>\n",
       "      <td>0.000000e+00</td>\n",
       "      <td>8</td>\n",
       "      <td>4</td>\n",
       "      <td>28.641405</td>\n",
       "      <td>28.658595</td>\n",
       "      <td>0.222044</td>\n",
       "    </tr>\n",
       "    <tr>\n",
       "      <th>...</th>\n",
       "      <td>...</td>\n",
       "      <td>...</td>\n",
       "      <td>...</td>\n",
       "      <td>...</td>\n",
       "      <td>...</td>\n",
       "      <td>...</td>\n",
       "      <td>...</td>\n",
       "      <td>...</td>\n",
       "      <td>...</td>\n",
       "      <td>...</td>\n",
       "      <td>...</td>\n",
       "      <td>...</td>\n",
       "      <td>...</td>\n",
       "      <td>...</td>\n",
       "    </tr>\n",
       "    <tr>\n",
       "      <th>2025-06-18 20:56:00</th>\n",
       "      <td>173.375</td>\n",
       "      <td>173.6771</td>\n",
       "      <td>173.215</td>\n",
       "      <td>173.5650</td>\n",
       "      <td>0.304529</td>\n",
       "      <td>1.257638e+00</td>\n",
       "      <td>174.838390</td>\n",
       "      <td>-0.422065</td>\n",
       "      <td>4.758230e+08</td>\n",
       "      <td>20</td>\n",
       "      <td>6</td>\n",
       "      <td>173.512900</td>\n",
       "      <td>173.617100</td>\n",
       "      <td>0.002995</td>\n",
       "    </tr>\n",
       "    <tr>\n",
       "      <th>2025-06-18 20:57:00</th>\n",
       "      <td>173.565</td>\n",
       "      <td>173.5900</td>\n",
       "      <td>173.240</td>\n",
       "      <td>173.3800</td>\n",
       "      <td>0.317029</td>\n",
       "      <td>1.255215e+00</td>\n",
       "      <td>174.736890</td>\n",
       "      <td>-0.466939</td>\n",
       "      <td>4.751988e+08</td>\n",
       "      <td>20</td>\n",
       "      <td>6</td>\n",
       "      <td>173.328000</td>\n",
       "      <td>173.432000</td>\n",
       "      <td>0.002906</td>\n",
       "    </tr>\n",
       "    <tr>\n",
       "      <th>2025-06-18 20:58:00</th>\n",
       "      <td>173.390</td>\n",
       "      <td>173.4100</td>\n",
       "      <td>173.200</td>\n",
       "      <td>173.3100</td>\n",
       "      <td>0.323814</td>\n",
       "      <td>1.254293e+00</td>\n",
       "      <td>174.634390</td>\n",
       "      <td>-0.502359</td>\n",
       "      <td>4.747443e+08</td>\n",
       "      <td>20</td>\n",
       "      <td>6</td>\n",
       "      <td>173.258000</td>\n",
       "      <td>173.362000</td>\n",
       "      <td>0.005611</td>\n",
       "    </tr>\n",
       "    <tr>\n",
       "      <th>2025-06-18 20:59:00</th>\n",
       "      <td>173.315</td>\n",
       "      <td>173.4000</td>\n",
       "      <td>173.230</td>\n",
       "      <td>173.2800</td>\n",
       "      <td>0.322743</td>\n",
       "      <td>1.253874e+00</td>\n",
       "      <td>174.527890</td>\n",
       "      <td>-0.526778</td>\n",
       "      <td>4.736496e+08</td>\n",
       "      <td>20</td>\n",
       "      <td>6</td>\n",
       "      <td>173.228000</td>\n",
       "      <td>173.332000</td>\n",
       "      <td>0.006685</td>\n",
       "    </tr>\n",
       "    <tr>\n",
       "      <th>2025-06-18 21:00:00</th>\n",
       "      <td>173.300</td>\n",
       "      <td>174.0500</td>\n",
       "      <td>173.170</td>\n",
       "      <td>173.6097</td>\n",
       "      <td>0.374521</td>\n",
       "      <td>1.257962e+00</td>\n",
       "      <td>174.442375</td>\n",
       "      <td>-0.513606</td>\n",
       "      <td>4.812994e+08</td>\n",
       "      <td>21</td>\n",
       "      <td>6</td>\n",
       "      <td>173.557600</td>\n",
       "      <td>173.661800</td>\n",
       "      <td>0.003506</td>\n",
       "    </tr>\n",
       "  </tbody>\n",
       "</table>\n",
       "<p>2117801 rows × 14 columns</p>\n",
       "</div>"
      ],
      "text/plain": [
       "                        open      high      low     close    atr_14  \\\n",
       "2014-04-03 08:49:00   28.650   28.6500   28.650   28.6500  0.000000   \n",
       "2014-04-03 08:50:00   28.650   28.6500   28.650   28.6500  0.000000   \n",
       "2014-04-03 08:51:00   28.650   28.6500   28.650   28.6500  0.000000   \n",
       "2014-04-03 08:52:00   28.650   28.6500   28.650   28.6500  0.000000   \n",
       "2014-04-03 08:53:00   28.650   28.6500   28.650   28.6500  0.000000   \n",
       "...                      ...       ...      ...       ...       ...   \n",
       "2025-06-18 20:56:00  173.375  173.6771  173.215  173.5650  0.304529   \n",
       "2025-06-18 20:57:00  173.565  173.5900  173.240  173.3800  0.317029   \n",
       "2025-06-18 20:58:00  173.390  173.4100  173.200  173.3100  0.323814   \n",
       "2025-06-18 20:59:00  173.315  173.4000  173.230  173.2800  0.322743   \n",
       "2025-06-18 21:00:00  173.300  174.0500  173.170  173.6097  0.374521   \n",
       "\n",
       "                         vwap_dev       ma_20  macd_12_26           obv  hour  \\\n",
       "2014-04-03 08:49:00  1.240040e-16   28.650000    0.000000  0.000000e+00     8   \n",
       "2014-04-03 08:50:00  1.240040e-16   28.650000    0.000000  0.000000e+00     8   \n",
       "2014-04-03 08:51:00  1.240040e-16   28.650000    0.000000  0.000000e+00     8   \n",
       "2014-04-03 08:52:00  1.240040e-16   28.650000    0.000000  0.000000e+00     8   \n",
       "2014-04-03 08:53:00  1.240040e-16   28.650000    0.000000  0.000000e+00     8   \n",
       "...                           ...         ...         ...           ...   ...   \n",
       "2025-06-18 20:56:00  1.257638e+00  174.838390   -0.422065  4.758230e+08    20   \n",
       "2025-06-18 20:57:00  1.255215e+00  174.736890   -0.466939  4.751988e+08    20   \n",
       "2025-06-18 20:58:00  1.254293e+00  174.634390   -0.502359  4.747443e+08    20   \n",
       "2025-06-18 20:59:00  1.253874e+00  174.527890   -0.526778  4.736496e+08    20   \n",
       "2025-06-18 21:00:00  1.257962e+00  174.442375   -0.513606  4.812994e+08    21   \n",
       "\n",
       "                     month         bid         ask  signal_smooth  \n",
       "2014-04-03 08:49:00      4   28.641405   28.658595       0.219822  \n",
       "2014-04-03 08:50:00      4   28.641405   28.658595       0.220376  \n",
       "2014-04-03 08:51:00      4   28.641405   28.658595       0.220931  \n",
       "2014-04-03 08:52:00      4   28.641405   28.658595       0.221487  \n",
       "2014-04-03 08:53:00      4   28.641405   28.658595       0.222044  \n",
       "...                    ...         ...         ...            ...  \n",
       "2025-06-18 20:56:00      6  173.512900  173.617100       0.002995  \n",
       "2025-06-18 20:57:00      6  173.328000  173.432000       0.002906  \n",
       "2025-06-18 20:58:00      6  173.258000  173.362000       0.005611  \n",
       "2025-06-18 20:59:00      6  173.228000  173.332000       0.006685  \n",
       "2025-06-18 21:00:00      6  173.557600  173.661800       0.003506  \n",
       "\n",
       "[2117801 rows x 14 columns]"
      ]
     },
     "execution_count": 2,
     "metadata": {},
     "output_type": "execute_result"
    }
   ],
   "source": [
    "ticker         = params.ticker\n",
    "look_back      = params.look_back_tick\n",
    "features_cols  = params.features_cols\n",
    "label_col      = params.label_col\n",
    "\n",
    "save_path = params.save_path\n",
    "in_path   = save_path / f\"{ticker}_ready.csv\"\n",
    "out_path  = save_path / f\"{ticker}_final.csv\"\n",
    "\n",
    "# USE GPU if available, otherwise fallback to CPU\n",
    "device = params.device\n",
    "print(\"Using device:\", device)\n",
    "\n",
    "df_raw = pd.read_csv(in_path, index_col=0, parse_dates=True)\n",
    "df = models.feature_engineering(df_raw, features_cols, label_col)\n",
    "df.to_csv(out_path)\n",
    "df"
   ]
  },
  {
   "cell_type": "code",
   "execution_count": 3,
   "id": "e5463b8a-3346-40be-8079-9892d8c97b75",
   "metadata": {},
   "outputs": [
    {
     "name": "stdout",
     "output_type": "stream",
     "text": [
      "Shapes:\n",
      "  X         = torch.Size([1610201, 180, 11]) (samples, look_back, features)\n",
      "  y         = torch.Size([1610201]) (samples,)\n",
      "  raw_close = torch.Size([1610201])\n",
      "  raw_bid   = torch.Size([1610201])\n",
      "  raw_ask   = torch.Size([1610201])\n"
     ]
    }
   ],
   "source": [
    "# ──────────────────────────────────────────────────────────────────────────────\n",
    "# Build LSTM input tensors (disk-backed memmaps)\n",
    "#    Returns five tensors on `device`:\n",
    "#      X        : (N, look_back, F)\n",
    "#      y        : (N,)\n",
    "#      raw_close: (N,)\n",
    "#      raw_bid  : (N,)\n",
    "#      raw_ask  : (N,)\n",
    "# ──────────────────────────────────────────────────────────────────────────────\n",
    "X, y, raw_close, raw_bid, raw_ask = models.build_lstm_tensors(\n",
    "    df             = df,\n",
    "    look_back      = look_back,\n",
    "    features_cols  = params.features_cols,\n",
    "    label_col      = params.label_col,\n",
    "    regular_start  = params.regular_start_pred\n",
    ")\n",
    "\n",
    "print(\"Shapes:\")\n",
    "print(\"  X         =\", X.shape,    \"(samples, look_back, features)\")\n",
    "print(\"  y         =\", y.shape,    \"(samples,)\")\n",
    "print(\"  raw_close =\", raw_close.shape)\n",
    "print(\"  raw_bid   =\", raw_bid.shape)\n",
    "print(\"  raw_ask   =\", raw_ask.shape)"
   ]
  },
  {
   "cell_type": "code",
   "execution_count": 4,
   "id": "df3c973a-29f1-4c75-abc6-ebc8c2d27f92",
   "metadata": {},
   "outputs": [
    {
     "name": "stdout",
     "output_type": "stream",
     "text": [
      "Shapes:\n",
      "  X_tr        = torch.Size([1132845, 180, 11])\n",
      "  y_tr        = torch.Size([1132845])\n",
      "  raw_close_te= torch.Size([240962])\n",
      "  raw_bid_te  = torch.Size([240962])\n",
      "  raw_ask_te  = torch.Size([240962])\n"
     ]
    }
   ],
   "source": [
    "# ──────────────────────────────────────────────────────────────────────────────\n",
    "#    (We use the helper `chronological_split` that returns)\n",
    "#      (X_tr, y_tr),\n",
    "#      (X_val, y_val),\n",
    "#      (X_te, y_te, raw_close_te, raw_bid_te, raw_ask_te)\n",
    "# ──────────────────────────────────────────────────────────────────────────────\n",
    "(X_tr, y_tr), \\\n",
    "(X_val, y_val), \\\n",
    "(X_te, y_te, raw_close_te, raw_bid_te, raw_ask_te), \\\n",
    "samples_per_day, day_id_tr, day_id_val, day_id_te = models.chronological_split(\n",
    "    X, y, raw_close, raw_bid, raw_ask, df,\n",
    "    look_back       = look_back,\n",
    "    regular_start   = params.regular_start_pred,\n",
    "    train_prop      = params.train_prop,\n",
    "    val_prop        = params.val_prop,\n",
    "    train_batch     = params.hparams['TRAIN_BATCH']\n",
    ")\n",
    "\n",
    "print(\"Shapes:\")\n",
    "print(\"  X_tr        =\", X_tr.shape)\n",
    "print(\"  y_tr        =\", y_tr.shape)\n",
    "print(\"  raw_close_te=\", raw_close_te.shape)\n",
    "print(\"  raw_bid_te  =\", raw_bid_te.shape)\n",
    "print(\"  raw_ask_te  =\", raw_ask_te.shape)\n"
   ]
  },
  {
   "cell_type": "code",
   "execution_count": 5,
   "id": "6824f1a4-92dd-4952-80c6-db456d7907ef",
   "metadata": {},
   "outputs": [
    {
     "name": "stdout",
     "output_type": "stream",
     "text": [
      "▶️ Entered split_to_day_datasets\n",
      "1) building weekday arrays\n",
      "   Weekdays counts → tr=1132845, val=236394, te=240962\n",
      "2) moving all splits to CPU\n",
      "   CPU casts done\n",
      "3) zero-bas­ing day_id for val & test\n",
      "   val_day_id ∈ [0..413], total days=414\n",
      "   te_day_id  ∈ [0..421], total days=422\n",
      "4) instantiating DayWindowDatasets\n",
      "   ds_tr days: 1984\n",
      "   ds_val days: 414\n",
      "   ds_te days: 422\n",
      "5) building DataLoaders\n",
      "   train_loader ready\n",
      "   val_loader ready\n",
      "   test_loader ready\n",
      "\n",
      "Baseline (zero‐forecast) RMSE on validation = 0.518012\n"
     ]
    }
   ],
   "source": [
    "# -----------------------------------------------------------------------------\n",
    "#  Build DataLoaders over calendar‐days\n",
    "# -----------------------------------------------------------------------------\n",
    "train_loader, val_loader, test_loader = models.split_to_day_datasets(\n",
    "    # Training split arrays (from chronological_split)\n",
    "    X_tr, y_tr, day_id_tr,\n",
    "    # Validation split arrays\n",
    "    X_val, y_val, day_id_val,\n",
    "    # Test split arrays + raw prices for post‐tracking\n",
    "    X_te, y_te, day_id_te, raw_close_te, raw_bid_te, raw_ask_te,\n",
    "    # Original minute‐bar DataFrame for weekday mapping\n",
    "    df=df,\n",
    "    train_batch=params.hparams['TRAIN_BATCH'],\n",
    "    train_workers=params.hparams['NUM_WORKERS']\n",
    ")\n",
    "\n",
    "baseline_val_rmse = models.naive_rmse(val_loader)\n",
    "print(f\"\\nBaseline (zero‐forecast) RMSE on validation = {baseline_val_rmse:.6f}\")"
   ]
  },
  {
   "cell_type": "code",
   "execution_count": 6,
   "id": "fdb4612b-f5bb-4e4a-8784-6d5689de67c2",
   "metadata": {},
   "outputs": [],
   "source": [
    "# ──────────────────────────────────────────────────────────────────────────────\n",
    "# Optuna objective definition\n",
    "# ──────────────────────────────────────────────────────────────────────────────\n",
    "def objective_train(trial):\n",
    "\n",
    "    hp = {\n",
    "        # ── Architecture ───────────────────────────────────────────────\n",
    "        # explore a tight grid around current best dropouts:\n",
    "        \"DROPOUT_SHORT\": trial.suggest_float(\n",
    "            \"DROPOUT_SHORT\", 0.10, 0.30\n",
    "        ),\n",
    "        \"DROPOUT_LONG\": trial.suggest_float(\n",
    "            \"DROPOUT_LONG\", 0.25, 0.40\n",
    "        ),\n",
    "        \"ATT_DROPOUT\": trial.suggest_float(\n",
    "            \"ATT_DROPOUT\", 0.15, 0.35\n",
    "        ),\n",
    "    \n",
    "        # ── Optimizer & Scheduler ─────────────────────────────────────\n",
    "        \"INITIAL_LR\": trial.suggest_float(\n",
    "            \"INITIAL_LR\", 5e-4, 9e-4\n",
    "        ),\n",
    "        \"ETA_MIN\": trial.suggest_float(\n",
    "            \"ETA_MIN\", 9e-6, 3e-5\n",
    "        ),\n",
    "        \"WEIGHT_DECAY\": trial.suggest_float(\n",
    "            \"WEIGHT_DECAY\", 2e-5, 7e-5\n",
    "        ),\n",
    "    \n",
    "        \"CLIPNORM\": trial.suggest_float(\n",
    "            \"CLIPNORM\", 0.3, 1.7\n",
    "        )\n",
    "    }\n",
    " \n",
    "    print(f\"\\n▶ Trial {trial.number} starting with:\\n{hp}\\n\")\n",
    "\n",
    "    # Build model\n",
    "    model = models.DualMemoryLSTM(\n",
    "        n_feats       = len(params.features_cols),\n",
    "        short_units   = params.hparams[\"SHORT_UNITS\"],\n",
    "        long_units    = params.hparams[\"LONG_UNITS\"],\n",
    "        dropout_short = hp[\"DROPOUT_SHORT\"],\n",
    "        dropout_long  = hp[\"DROPOUT_LONG\"],\n",
    "        att_drop      = hp[\"ATT_DROPOUT\"],\n",
    "    ).to(device)\n",
    "\n",
    "    # Build optimizer + schedulers + scaler\n",
    "    optimizer, plateau_sched, _ , scaler, clipnorm = \\\n",
    "        models.make_optimizer_and_scheduler(\n",
    "            model            = model,\n",
    "            initial_lr       = hp[\"INITIAL_LR\"],\n",
    "            weight_decay     = hp[\"WEIGHT_DECAY\"],\n",
    "            clipnorm         = hp[\"CLIPNORM\"]\n",
    "        )\n",
    "\n",
    "    cosine_sched = CosineAnnealingWarmRestarts(\n",
    "        optimizer, \n",
    "        T_0=params.hparams['T_0'], \n",
    "        T_mult=params.hparams['T_MULT'], \n",
    "        eta_min=hp['ETA_MIN']\n",
    "    )\n",
    "\n",
    "    # Run training & return best validation RMSE\n",
    "    best_rmse = models.custom_stateful_training_loop(\n",
    "        model               = model,\n",
    "        optimizer           = optimizer,\n",
    "        cosine_sched        = cosine_sched,\n",
    "        plateau_sched       = plateau_sched,\n",
    "        scaler              = scaler,\n",
    "        train_loader        = train_loader,\n",
    "        val_loader          = val_loader,\n",
    "        max_epochs          = params.hparams[\"MAX_EPOCHS\"],\n",
    "        early_stop_patience = params.hparams[\"EARLY_STOP_PATIENCE\"],\n",
    "        baseline_val_rmse   = baseline_val_rmse,\n",
    "        clipnorm            = clipnorm,\n",
    "        device              = device,\n",
    "    )\n",
    "\n",
    "    del model\n",
    "    del optimizer\n",
    "    del plateau_sched\n",
    "    del cosine_sched\n",
    "    del scaler\n",
    "\n",
    "    gc.collect()\n",
    "    if torch.cuda.is_available():\n",
    "        torch.cuda.empty_cache()\n",
    "    \n",
    "    return best_rmse\n",
    "\n"
   ]
  },
  {
   "cell_type": "code",
   "execution_count": 7,
   "id": "1ce185de-1d62-49f9-9a96-00385e813521",
   "metadata": {},
   "outputs": [
    {
     "data": {
      "image/png": "[encoded data removed]",
      "text/plain": [
       "<Figure size 700x300 with 1 Axes>"
      ]
     },
     "metadata": {},
     "output_type": "display_data"
    }
   ],
   "source": [
    "# ----------------------------------------------------------\n",
    "# create ONE figure\n",
    "# ----------------------------------------------------------\n",
    "# build blank figure & line\n",
    "fig, ax = plt.subplots(figsize=(7,3))\n",
    "line, = ax.plot([], [], \"bo-\")\n",
    "ax.set(xlabel=\"Trial #\", ylabel=\"Objective\",\n",
    "       title=\"Optuna optimization progress\")\n",
    "ax.grid(True)\n",
    "\n",
    "# display once and grab the handle\n",
    "handle = display(fig, display_id=True)\n",
    "plt.close(fig)\n",
    "\n",
    "# ask plots.py for a callback bound to these objects\n",
    "live_cb = plots.make_live_plot_callback(fig, ax, line, handle)"
   ]
  },
  {
   "cell_type": "code",
   "execution_count": null,
   "id": "7658050b-a604-4331-ac64-72b2c7fd3689",
   "metadata": {},
   "outputs": [
    {
     "name": "stderr",
     "output_type": "stream",
     "text": [
      "[I 2025-07-31 08:17:20,279] A new study created in RDB with name: no-name-52e0b9dd-c3d1-498f-beb1-3ba10470a477\n"
     ]
    },
    {
     "name": "stdout",
     "output_type": "stream",
     "text": [
      "\n",
      "▶ Trial 0 starting with:\n",
      "{'DROPOUT_SHORT': 0.1728108117497306, 'DROPOUT_LONG': 0.16952232752891505, 'ATT_DROPOUT': 0.09665802152352321, 'INITIAL_LR': 0.0006334645746959482, 'ETA_MIN': 4.343057639292358e-05, 'WEIGHT_DECAY': 3.959475423797761e-05, 'CLIPNORM': 0.8783674827883836}\n",
      "\n"
     ]
    },
    {
     "data": {
      "image/png": "[encoded data removed]",
      "text/plain": [
       "<Figure size 660x440 with 1 Axes>"
      ]
     },
     "metadata": {},
     "output_type": "display_data"
    },
    {
     "data": {
      "application/vnd.jupyter.widget-view+json": {
       "model_id": "da9cf06dcda84b8889d6154f882dab88",
       "version_major": 2,
       "version_minor": 0
      },
      "text/plain": [
       "Epoch 1:   0%|          | 0/62 [00:00<?, ?bundle/s]"
      ]
     },
     "metadata": {},
     "output_type": "display_data"
    },
    {
     "name": "stdout",
     "output_type": "stream",
     "text": [
      "Epoch 001 • train=0.2943 • val=0.2634 • lr=6.33e-04\n"
     ]
    },
    {
     "data": {
      "application/vnd.jupyter.widget-view+json": {
       "model_id": "4c4b78d60c8c46f5801da922d2598bb7",
       "version_major": 2,
       "version_minor": 0
      },
      "text/plain": [
       "Epoch 2:   0%|          | 0/62 [00:00<?, ?bundle/s]"
      ]
     },
     "metadata": {},
     "output_type": "display_data"
    },
    {
     "name": "stdout",
     "output_type": "stream",
     "text": [
      "Epoch 002 • train=0.2139 • val=0.2513 • lr=6.32e-04\n"
     ]
    },
    {
     "data": {
      "application/vnd.jupyter.widget-view+json": {
       "model_id": "595d99a658af427b912b9656df580d20",
       "version_major": 2,
       "version_minor": 0
      },
      "text/plain": [
       "Epoch 3:   0%|          | 0/62 [00:00<?, ?bundle/s]"
      ]
     },
     "metadata": {},
     "output_type": "display_data"
    },
    {
     "name": "stdout",
     "output_type": "stream",
     "text": [
      "Epoch 003 • train=0.2111 • val=0.2613 • lr=6.30e-04\n"
     ]
    },
    {
     "data": {
      "application/vnd.jupyter.widget-view+json": {
       "model_id": "04b3ad16b15541ac9fea05597ee926c4",
       "version_major": 2,
       "version_minor": 0
      },
      "text/plain": [
       "Epoch 4:   0%|          | 0/62 [00:00<?, ?bundle/s]"
      ]
     },
     "metadata": {},
     "output_type": "display_data"
    },
    {
     "name": "stdout",
     "output_type": "stream",
     "text": [
      "Epoch 004 • train=0.2050 • val=0.2548 • lr=6.27e-04\n"
     ]
    },
    {
     "data": {
      "application/vnd.jupyter.widget-view+json": {
       "model_id": "ddffab21085847b1b103081f1eb60310",
       "version_major": 2,
       "version_minor": 0
      },
      "text/plain": [
       "Epoch 5:   0%|          | 0/62 [00:00<?, ?bundle/s]"
      ]
     },
     "metadata": {},
     "output_type": "display_data"
    },
    {
     "name": "stdout",
     "output_type": "stream",
     "text": [
      "Epoch 005 • train=0.2119 • val=0.2512 • lr=6.23e-04\n"
     ]
    },
    {
     "data": {
      "application/vnd.jupyter.widget-view+json": {
       "model_id": "362b92de78474cdd9c8873e213d58e4c",
       "version_major": 2,
       "version_minor": 0
      },
      "text/plain": [
       "Epoch 6:   0%|          | 0/62 [00:00<?, ?bundle/s]"
      ]
     },
     "metadata": {},
     "output_type": "display_data"
    },
    {
     "name": "stdout",
     "output_type": "stream",
     "text": [
      "Epoch 006 • train=0.2260 • val=0.2606 • lr=6.19e-04\n"
     ]
    },
    {
     "data": {
      "application/vnd.jupyter.widget-view+json": {
       "model_id": "435630eeed8a44a886c65372c758b12c",
       "version_major": 2,
       "version_minor": 0
      },
      "text/plain": [
       "Epoch 7:   0%|          | 0/62 [00:00<?, ?bundle/s]"
      ]
     },
     "metadata": {},
     "output_type": "display_data"
    },
    {
     "name": "stdout",
     "output_type": "stream",
     "text": [
      "Epoch 007 • train=0.2326 • val=0.2573 • lr=6.14e-04\n"
     ]
    },
    {
     "data": {
      "application/vnd.jupyter.widget-view+json": {
       "model_id": "292252571ba74992906558a9e9aeefd8",
       "version_major": 2,
       "version_minor": 0
      },
      "text/plain": [
       "Epoch 8:   0%|          | 0/62 [00:00<?, ?bundle/s]"
      ]
     },
     "metadata": {},
     "output_type": "display_data"
    },
    {
     "name": "stdout",
     "output_type": "stream",
     "text": [
      "Epoch 008 • train=0.2317 • val=0.2682 • lr=6.08e-04\n"
     ]
    },
    {
     "data": {
      "application/vnd.jupyter.widget-view+json": {
       "model_id": "c94d8cd65b3a48388e876e6faa6e436b",
       "version_major": 2,
       "version_minor": 0
      },
      "text/plain": [
       "Epoch 9:   0%|          | 0/62 [00:00<?, ?bundle/s]"
      ]
     },
     "metadata": {},
     "output_type": "display_data"
    },
    {
     "name": "stdout",
     "output_type": "stream",
     "text": [
      "Epoch 009 • train=0.2270 • val=0.2500 • lr=6.01e-04\n"
     ]
    },
    {
     "data": {
      "application/vnd.jupyter.widget-view+json": {
       "model_id": "d64df0ff68d84357a6e9c650e2cf83ce",
       "version_major": 2,
       "version_minor": 0
      },
      "text/plain": [
       "Epoch 10:   0%|          | 0/62 [00:00<?, ?bundle/s]"
      ]
     },
     "metadata": {},
     "output_type": "display_data"
    },
    {
     "name": "stdout",
     "output_type": "stream",
     "text": [
      "Epoch 010 • train=0.2341 • val=0.2737 • lr=5.94e-04\n"
     ]
    },
    {
     "data": {
      "application/vnd.jupyter.widget-view+json": {
       "model_id": "1923433f4d2f480fa927340bfaafe018",
       "version_major": 2,
       "version_minor": 0
      },
      "text/plain": [
       "Epoch 11:   0%|          | 0/62 [00:00<?, ?bundle/s]"
      ]
     },
     "metadata": {},
     "output_type": "display_data"
    },
    {
     "name": "stdout",
     "output_type": "stream",
     "text": [
      "Epoch 011 • train=0.2308 • val=0.2525 • lr=5.86e-04\n"
     ]
    },
    {
     "data": {
      "application/vnd.jupyter.widget-view+json": {
       "model_id": "7da7c7d38165424c9cd7a26adc9f166e",
       "version_major": 2,
       "version_minor": 0
      },
      "text/plain": [
       "Epoch 12:   0%|          | 0/62 [00:00<?, ?bundle/s]"
      ]
     },
     "metadata": {},
     "output_type": "display_data"
    },
    {
     "name": "stdout",
     "output_type": "stream",
     "text": [
      "Epoch 012 • train=0.2269 • val=0.2578 • lr=5.77e-04\n"
     ]
    },
    {
     "data": {
      "application/vnd.jupyter.widget-view+json": {
       "model_id": "195154536d3844d5989e351216049912",
       "version_major": 2,
       "version_minor": 0
      },
      "text/plain": [
       "Epoch 13:   0%|          | 0/62 [00:00<?, ?bundle/s]"
      ]
     },
     "metadata": {},
     "output_type": "display_data"
    },
    {
     "name": "stdout",
     "output_type": "stream",
     "text": [
      "Epoch 013 • train=0.2334 • val=0.2528 • lr=5.68e-04\n"
     ]
    },
    {
     "data": {
      "application/vnd.jupyter.widget-view+json": {
       "model_id": "e072abe4dfb54c62bca227f2dda092d4",
       "version_major": 2,
       "version_minor": 0
      },
      "text/plain": [
       "Epoch 14:   0%|          | 0/62 [00:00<?, ?bundle/s]"
      ]
     },
     "metadata": {},
     "output_type": "display_data"
    },
    {
     "name": "stdout",
     "output_type": "stream",
     "text": [
      "Epoch 014 • train=0.2322 • val=0.2525 • lr=5.58e-04\n"
     ]
    },
    {
     "data": {
      "application/vnd.jupyter.widget-view+json": {
       "model_id": "974b384fb54e41be82fc865d86d59b6c",
       "version_major": 2,
       "version_minor": 0
      },
      "text/plain": [
       "Epoch 15:   0%|          | 0/62 [00:00<?, ?bundle/s]"
      ]
     },
     "metadata": {},
     "output_type": "display_data"
    },
    {
     "name": "stdout",
     "output_type": "stream",
     "text": [
      "Epoch 015 • train=0.2333 • val=0.2525 • lr=5.47e-04\n"
     ]
    },
    {
     "data": {
      "application/vnd.jupyter.widget-view+json": {
       "model_id": "da3288ca23c54f68a85c9a2dd33567bb",
       "version_major": 2,
       "version_minor": 0
      },
      "text/plain": [
       "Epoch 16:   0%|          | 0/62 [00:00<?, ?bundle/s]"
      ]
     },
     "metadata": {},
     "output_type": "display_data"
    },
    {
     "name": "stdout",
     "output_type": "stream",
     "text": [
      "Epoch 016 • train=0.2391 • val=0.2523 • lr=5.36e-04\n"
     ]
    },
    {
     "data": {
      "application/vnd.jupyter.widget-view+json": {
       "model_id": "0938ef1f32fa4e048d76da749fa31d9e",
       "version_major": 2,
       "version_minor": 0
      },
      "text/plain": [
       "Epoch 17:   0%|          | 0/62 [00:00<?, ?bundle/s]"
      ]
     },
     "metadata": {},
     "output_type": "display_data"
    },
    {
     "name": "stdout",
     "output_type": "stream",
     "text": [
      "Epoch 017 • train=0.2380 • val=0.2556 • lr=5.24e-04\n"
     ]
    },
    {
     "data": {
      "application/vnd.jupyter.widget-view+json": {
       "model_id": "89c52e59c9ec455782f2c4a3c466dc0e",
       "version_major": 2,
       "version_minor": 0
      },
      "text/plain": [
       "Epoch 18:   0%|          | 0/62 [00:00<?, ?bundle/s]"
      ]
     },
     "metadata": {},
     "output_type": "display_data"
    },
    {
     "name": "stdout",
     "output_type": "stream",
     "text": [
      "Epoch 018 • train=0.2483 • val=0.2539 • lr=5.12e-04\n",
      "Early stopping at epoch 18\n"
     ]
    },
    {
     "name": "stderr",
     "output_type": "stream",
     "text": [
      "[I 2025-07-31 08:34:51,126] Trial 0 finished with value: 0.24999574858877646 and parameters: {'DROPOUT_SHORT': 0.1728108117497306, 'DROPOUT_LONG': 0.16952232752891505, 'ATT_DROPOUT': 0.09665802152352321, 'INITIAL_LR': 0.0006334645746959482, 'ETA_MIN': 4.343057639292358e-05, 'WEIGHT_DECAY': 3.959475423797761e-05, 'CLIPNORM': 0.8783674827883836}. Best is trial 0 with value: 0.24999574858877646.\n"
     ]
    },
    {
     "name": "stdout",
     "output_type": "stream",
     "text": [
      "\n",
      "▶ Trial 1 starting with:\n",
      "{'DROPOUT_SHORT': 0.1266879113324131, 'DROPOUT_LONG': 0.41317940670292874, 'ATT_DROPOUT': 0.1840550937745345, 'INITIAL_LR': 0.0009352530223730498, 'ETA_MIN': 3.8581597739584834e-05, 'WEIGHT_DECAY': 7.738165895283479e-05, 'CLIPNORM': 0.8553055160027396}\n",
      "\n"
     ]
    },
    {
     "data": {
      "image/png": "[encoded data removed]",
      "text/plain": [
       "<Figure size 660x440 with 1 Axes>"
      ]
     },
     "metadata": {},
     "output_type": "display_data"
    },
    {
     "data": {
      "application/vnd.jupyter.widget-view+json": {
       "model_id": "cc0ab8f6dd85408cbfef68de0e9ecb63",
       "version_major": 2,
       "version_minor": 0
      },
      "text/plain": [
       "Epoch 1:   0%|          | 0/62 [00:00<?, ?bundle/s]"
      ]
     },
     "metadata": {},
     "output_type": "display_data"
    },
    {
     "name": "stdout",
     "output_type": "stream",
     "text": [
      "Epoch 001 • train=0.2679 • val=0.2876 • lr=9.35e-04\n"
     ]
    },
    {
     "data": {
      "application/vnd.jupyter.widget-view+json": {
       "model_id": "ab96b76b2d7545daa4ef195d928f1e88",
       "version_major": 2,
       "version_minor": 0
      },
      "text/plain": [
       "Epoch 2:   0%|          | 0/62 [00:00<?, ?bundle/s]"
      ]
     },
     "metadata": {},
     "output_type": "display_data"
    },
    {
     "name": "stdout",
     "output_type": "stream",
     "text": [
      "Epoch 002 • train=0.2105 • val=0.2498 • lr=9.33e-04\n"
     ]
    },
    {
     "data": {
      "application/vnd.jupyter.widget-view+json": {
       "model_id": "8dfc57747b2b48218fe4afd65d0416ce",
       "version_major": 2,
       "version_minor": 0
      },
      "text/plain": [
       "Epoch 3:   0%|          | 0/62 [00:00<?, ?bundle/s]"
      ]
     },
     "metadata": {},
     "output_type": "display_data"
    },
    {
     "name": "stdout",
     "output_type": "stream",
     "text": [
      "Epoch 003 • train=0.2049 • val=0.2810 • lr=9.30e-04\n"
     ]
    },
    {
     "data": {
      "application/vnd.jupyter.widget-view+json": {
       "model_id": "06e0ac93d0204312a5de145701abfe4b",
       "version_major": 2,
       "version_minor": 0
      },
      "text/plain": [
       "Epoch 4:   0%|          | 0/62 [00:00<?, ?bundle/s]"
      ]
     },
     "metadata": {},
     "output_type": "display_data"
    },
    {
     "name": "stdout",
     "output_type": "stream",
     "text": [
      "Epoch 004 • train=0.2118 • val=0.2618 • lr=9.26e-04\n"
     ]
    },
    {
     "data": {
      "application/vnd.jupyter.widget-view+json": {
       "model_id": "33a78ff8eea443dc9323b800bd53c72e",
       "version_major": 2,
       "version_minor": 0
      },
      "text/plain": [
       "Epoch 5:   0%|          | 0/62 [00:00<?, ?bundle/s]"
      ]
     },
     "metadata": {},
     "output_type": "display_data"
    },
    {
     "name": "stdout",
     "output_type": "stream",
     "text": [
      "Epoch 005 • train=0.2258 • val=0.2775 • lr=9.20e-04\n"
     ]
    },
    {
     "data": {
      "application/vnd.jupyter.widget-view+json": {
       "model_id": "b85994f31b764269accc3daac304cd26",
       "version_major": 2,
       "version_minor": 0
      },
      "text/plain": [
       "Epoch 6:   0%|          | 0/62 [00:00<?, ?bundle/s]"
      ]
     },
     "metadata": {},
     "output_type": "display_data"
    },
    {
     "name": "stdout",
     "output_type": "stream",
     "text": [
      "Epoch 006 • train=0.2387 • val=0.2635 • lr=9.13e-04\n"
     ]
    },
    {
     "data": {
      "application/vnd.jupyter.widget-view+json": {
       "model_id": "da2ce5aafa614b35a56f79839204b89f",
       "version_major": 2,
       "version_minor": 0
      },
      "text/plain": [
       "Epoch 7:   0%|          | 0/62 [00:00<?, ?bundle/s]"
      ]
     },
     "metadata": {},
     "output_type": "display_data"
    },
    {
     "name": "stdout",
     "output_type": "stream",
     "text": [
      "Epoch 007 • train=0.2296 • val=0.2820 • lr=9.06e-04\n"
     ]
    },
    {
     "data": {
      "application/vnd.jupyter.widget-view+json": {
       "model_id": "ae9466e6d21a452b908c2b12939c5edb",
       "version_major": 2,
       "version_minor": 0
      },
      "text/plain": [
       "Epoch 8:   0%|          | 0/62 [00:00<?, ?bundle/s]"
      ]
     },
     "metadata": {},
     "output_type": "display_data"
    },
    {
     "name": "stdout",
     "output_type": "stream",
     "text": [
      "Epoch 008 • train=0.2243 • val=0.2933 • lr=8.97e-04\n"
     ]
    },
    {
     "data": {
      "application/vnd.jupyter.widget-view+json": {
       "model_id": "f524de79790b4d1f85326449a2e186c3",
       "version_major": 2,
       "version_minor": 0
      },
      "text/plain": [
       "Epoch 9:   0%|          | 0/62 [00:00<?, ?bundle/s]"
      ]
     },
     "metadata": {},
     "output_type": "display_data"
    },
    {
     "name": "stdout",
     "output_type": "stream",
     "text": [
      "Epoch 009 • train=0.2244 • val=0.2721 • lr=8.87e-04\n"
     ]
    },
    {
     "data": {
      "application/vnd.jupyter.widget-view+json": {
       "model_id": "3187edd7a926433fa2ec9550a536c682",
       "version_major": 2,
       "version_minor": 0
      },
      "text/plain": [
       "Epoch 10:   0%|          | 0/62 [00:00<?, ?bundle/s]"
      ]
     },
     "metadata": {},
     "output_type": "display_data"
    },
    {
     "name": "stdout",
     "output_type": "stream",
     "text": [
      "Epoch 010 • train=0.2358 • val=0.2613 • lr=8.75e-04\n"
     ]
    },
    {
     "data": {
      "application/vnd.jupyter.widget-view+json": {
       "model_id": "12f8c063314b4a87b94e4a8f499684a5",
       "version_major": 2,
       "version_minor": 0
      },
      "text/plain": [
       "Epoch 11:   0%|          | 0/62 [00:00<?, ?bundle/s]"
      ]
     },
     "metadata": {},
     "output_type": "display_data"
    },
    {
     "name": "stdout",
     "output_type": "stream",
     "text": [
      "Epoch 011 • train=0.2261 • val=0.2708 • lr=8.63e-04\n",
      "Early stopping at epoch 11\n"
     ]
    },
    {
     "name": "stderr",
     "output_type": "stream",
     "text": [
      "[I 2025-07-31 08:45:29,002] Trial 1 finished with value: 0.24978095655441668 and parameters: {'DROPOUT_SHORT': 0.1266879113324131, 'DROPOUT_LONG': 0.41317940670292874, 'ATT_DROPOUT': 0.1840550937745345, 'INITIAL_LR': 0.0009352530223730498, 'ETA_MIN': 3.8581597739584834e-05, 'WEIGHT_DECAY': 7.738165895283479e-05, 'CLIPNORM': 0.8553055160027396}. Best is trial 1 with value: 0.24978095655441668.\n"
     ]
    },
    {
     "name": "stdout",
     "output_type": "stream",
     "text": [
      "\n",
      "▶ Trial 2 starting with:\n",
      "{'DROPOUT_SHORT': 0.2919981589688026, 'DROPOUT_LONG': 0.4305480518754006, 'ATT_DROPOUT': 0.3236165522881391, 'INITIAL_LR': 0.0006019840900165514, 'ETA_MIN': 1.235673165547665e-05, 'WEIGHT_DECAY': 2.740584306775699e-05, 'CLIPNORM': 0.7332887871998806}\n",
      "\n"
     ]
    },
    {
     "data": {
      "image/png": "[encoded data removed]",
      "text/plain": [
       "<Figure size 660x440 with 1 Axes>"
      ]
     },
     "metadata": {},
     "output_type": "display_data"
    },
    {
     "data": {
      "application/vnd.jupyter.widget-view+json": {
       "model_id": "36d91d2a8e2d46478495b56b40effb13",
       "version_major": 2,
       "version_minor": 0
      },
      "text/plain": [
       "Epoch 1:   0%|          | 0/62 [00:00<?, ?bundle/s]"
      ]
     },
     "metadata": {},
     "output_type": "display_data"
    },
    {
     "name": "stdout",
     "output_type": "stream",
     "text": [
      "Epoch 001 • train=0.2888 • val=0.2572 • lr=6.02e-04\n"
     ]
    },
    {
     "data": {
      "application/vnd.jupyter.widget-view+json": {
       "model_id": "dab672abf4b8469e85efd2011be5f921",
       "version_major": 2,
       "version_minor": 0
      },
      "text/plain": [
       "Epoch 2:   0%|          | 0/62 [00:00<?, ?bundle/s]"
      ]
     },
     "metadata": {},
     "output_type": "display_data"
    },
    {
     "name": "stdout",
     "output_type": "stream",
     "text": [
      "Epoch 002 • train=0.2129 • val=0.2832 • lr=6.00e-04\n"
     ]
    },
    {
     "data": {
      "application/vnd.jupyter.widget-view+json": {
       "model_id": "c98b2be24cfa473d81d3eb22fb4b694e",
       "version_major": 2,
       "version_minor": 0
      },
      "text/plain": [
       "Epoch 3:   0%|          | 0/62 [00:00<?, ?bundle/s]"
      ]
     },
     "metadata": {},
     "output_type": "display_data"
    },
    {
     "name": "stdout",
     "output_type": "stream",
     "text": [
      "Epoch 003 • train=0.2214 • val=0.2683 • lr=5.98e-04\n"
     ]
    },
    {
     "data": {
      "application/vnd.jupyter.widget-view+json": {
       "model_id": "b7c79a5fd4914dbfa812a05109f565d2",
       "version_major": 2,
       "version_minor": 0
      },
      "text/plain": [
       "Epoch 4:   0%|          | 0/62 [00:00<?, ?bundle/s]"
      ]
     },
     "metadata": {},
     "output_type": "display_data"
    },
    {
     "name": "stdout",
     "output_type": "stream",
     "text": [
      "Epoch 004 • train=0.2188 • val=0.2721 • lr=5.96e-04\n"
     ]
    },
    {
     "data": {
      "application/vnd.jupyter.widget-view+json": {
       "model_id": "a52ca8a211414f0ebec64c20251dfe22",
       "version_major": 2,
       "version_minor": 0
      },
      "text/plain": [
       "Epoch 5:   0%|          | 0/62 [00:00<?, ?bundle/s]"
      ]
     },
     "metadata": {},
     "output_type": "display_data"
    },
    {
     "name": "stdout",
     "output_type": "stream",
     "text": [
      "Epoch 005 • train=0.2229 • val=0.2719 • lr=5.92e-04\n"
     ]
    },
    {
     "data": {
      "application/vnd.jupyter.widget-view+json": {
       "model_id": "3a4c87f89341403fbfc909ff4d52214a",
       "version_major": 2,
       "version_minor": 0
      },
      "text/plain": [
       "Epoch 6:   0%|          | 0/62 [00:00<?, ?bundle/s]"
      ]
     },
     "metadata": {},
     "output_type": "display_data"
    },
    {
     "name": "stdout",
     "output_type": "stream",
     "text": [
      "Epoch 006 • train=0.2330 • val=0.2727 • lr=5.88e-04\n"
     ]
    },
    {
     "data": {
      "application/vnd.jupyter.widget-view+json": {
       "model_id": "b97254dd259540c1bf8889ab867d42e6",
       "version_major": 2,
       "version_minor": 0
      },
      "text/plain": [
       "Epoch 7:   0%|          | 0/62 [00:00<?, ?bundle/s]"
      ]
     },
     "metadata": {},
     "output_type": "display_data"
    },
    {
     "name": "stdout",
     "output_type": "stream",
     "text": [
      "Epoch 007 • train=0.2484 • val=0.2978 • lr=5.82e-04\n"
     ]
    },
    {
     "data": {
      "application/vnd.jupyter.widget-view+json": {
       "model_id": "b551fe2933c94eba952a9177d2ff6d26",
       "version_major": 2,
       "version_minor": 0
      },
      "text/plain": [
       "Epoch 8:   0%|          | 0/62 [00:00<?, ?bundle/s]"
      ]
     },
     "metadata": {},
     "output_type": "display_data"
    },
    {
     "name": "stdout",
     "output_type": "stream",
     "text": [
      "Epoch 008 • train=0.2240 • val=0.2676 • lr=5.77e-04\n"
     ]
    },
    {
     "data": {
      "application/vnd.jupyter.widget-view+json": {
       "model_id": "d0b06af124bf462bb715324090105cd8",
       "version_major": 2,
       "version_minor": 0
      },
      "text/plain": [
       "Epoch 9:   0%|          | 0/62 [00:00<?, ?bundle/s]"
      ]
     },
     "metadata": {},
     "output_type": "display_data"
    },
    {
     "name": "stdout",
     "output_type": "stream",
     "text": [
      "Epoch 009 • train=0.2443 • val=0.2798 • lr=5.70e-04\n"
     ]
    },
    {
     "data": {
      "application/vnd.jupyter.widget-view+json": {
       "model_id": "1f04adff38354ec3948d54cf46098d7c",
       "version_major": 2,
       "version_minor": 0
      },
      "text/plain": [
       "Epoch 10:   0%|          | 0/62 [00:00<?, ?bundle/s]"
      ]
     },
     "metadata": {},
     "output_type": "display_data"
    },
    {
     "name": "stdout",
     "output_type": "stream",
     "text": [
      "Epoch 010 • train=0.2401 • val=0.2766 • lr=5.63e-04\n",
      "Early stopping at epoch 10\n"
     ]
    },
    {
     "name": "stderr",
     "output_type": "stream",
     "text": [
      "[I 2025-07-31 08:55:05,467] Trial 2 finished with value: 0.25720613757972827 and parameters: {'DROPOUT_SHORT': 0.2919981589688026, 'DROPOUT_LONG': 0.4305480518754006, 'ATT_DROPOUT': 0.3236165522881391, 'INITIAL_LR': 0.0006019840900165514, 'ETA_MIN': 1.235673165547665e-05, 'WEIGHT_DECAY': 2.740584306775699e-05, 'CLIPNORM': 0.7332887871998806}. Best is trial 1 with value: 0.24978095655441668.\n"
     ]
    },
    {
     "name": "stdout",
     "output_type": "stream",
     "text": [
      "\n",
      "▶ Trial 3 starting with:\n",
      "{'DROPOUT_SHORT': 0.10250342400220992, 'DROPOUT_LONG': 0.38255685614270557, 'ATT_DROPOUT': 0.19560763791585856, 'INITIAL_LR': 0.0007971738901749537, 'ETA_MIN': 1.66927107110019e-05, 'WEIGHT_DECAY': 3.761096263326112e-05, 'CLIPNORM': 0.4152224400276785}\n",
      "\n"
     ]
    },
    {
     "data": {
      "image/png": "[encoded data removed]",
      "text/plain": [
       "<Figure size 660x440 with 1 Axes>"
      ]
     },
     "metadata": {},
     "output_type": "display_data"
    },
    {
     "data": {
      "application/vnd.jupyter.widget-view+json": {
       "model_id": "c58776f97fe7448895cfa712de9711fd",
       "version_major": 2,
       "version_minor": 0
      },
      "text/plain": [
       "Epoch 1:   0%|          | 0/62 [00:00<?, ?bundle/s]"
      ]
     },
     "metadata": {},
     "output_type": "display_data"
    },
    {
     "name": "stdout",
     "output_type": "stream",
     "text": [
      "Epoch 001 • train=0.2801 • val=0.2778 • lr=7.97e-04\n"
     ]
    },
    {
     "data": {
      "application/vnd.jupyter.widget-view+json": {
       "model_id": "04f32932b1414f0f8e1855d3e3c96887",
       "version_major": 2,
       "version_minor": 0
      },
      "text/plain": [
       "Epoch 2:   0%|          | 0/62 [00:00<?, ?bundle/s]"
      ]
     },
     "metadata": {},
     "output_type": "display_data"
    },
    {
     "name": "stdout",
     "output_type": "stream",
     "text": [
      "Epoch 002 • train=0.2297 • val=0.2859 • lr=7.95e-04\n"
     ]
    },
    {
     "data": {
      "application/vnd.jupyter.widget-view+json": {
       "model_id": "ebab844510dd407db8120017ac207311",
       "version_major": 2,
       "version_minor": 0
      },
      "text/plain": [
       "Epoch 3:   0%|          | 0/62 [00:00<?, ?bundle/s]"
      ]
     },
     "metadata": {},
     "output_type": "display_data"
    },
    {
     "name": "stdout",
     "output_type": "stream",
     "text": [
      "Epoch 003 • train=0.2159 • val=0.2655 • lr=7.92e-04\n"
     ]
    },
    {
     "data": {
      "application/vnd.jupyter.widget-view+json": {
       "model_id": "019e293638f540f68ea673bc388c2415",
       "version_major": 2,
       "version_minor": 0
      },
      "text/plain": [
       "Epoch 4:   0%|          | 0/62 [00:00<?, ?bundle/s]"
      ]
     },
     "metadata": {},
     "output_type": "display_data"
    },
    {
     "name": "stdout",
     "output_type": "stream",
     "text": [
      "Epoch 004 • train=0.2190 • val=0.2684 • lr=7.89e-04\n"
     ]
    },
    {
     "data": {
      "application/vnd.jupyter.widget-view+json": {
       "model_id": "a4c9a97896a04bac9261d77ad0bf8419",
       "version_major": 2,
       "version_minor": 0
      },
      "text/plain": [
       "Epoch 5:   0%|          | 0/62 [00:00<?, ?bundle/s]"
      ]
     },
     "metadata": {},
     "output_type": "display_data"
    },
    {
     "name": "stdout",
     "output_type": "stream",
     "text": [
      "Epoch 005 • train=0.2220 • val=0.2609 • lr=7.84e-04\n"
     ]
    },
    {
     "data": {
      "application/vnd.jupyter.widget-view+json": {
       "model_id": "ff774e059f3f4c9eae2fbe273f0a7073",
       "version_major": 2,
       "version_minor": 0
      },
      "text/plain": [
       "Epoch 6:   0%|          | 0/62 [00:00<?, ?bundle/s]"
      ]
     },
     "metadata": {},
     "output_type": "display_data"
    },
    {
     "name": "stdout",
     "output_type": "stream",
     "text": [
      "Epoch 006 • train=0.2252 • val=0.2665 • lr=7.78e-04\n"
     ]
    },
    {
     "data": {
      "application/vnd.jupyter.widget-view+json": {
       "model_id": "6606d06d6eac478d9bea6cdce5431d97",
       "version_major": 2,
       "version_minor": 0
      },
      "text/plain": [
       "Epoch 7:   0%|          | 0/62 [00:00<?, ?bundle/s]"
      ]
     },
     "metadata": {},
     "output_type": "display_data"
    },
    {
     "name": "stdout",
     "output_type": "stream",
     "text": [
      "Epoch 007 • train=0.2269 • val=0.2660 • lr=7.71e-04\n"
     ]
    },
    {
     "data": {
      "application/vnd.jupyter.widget-view+json": {
       "model_id": "e51666dbcee345a2a554a6d78bba1ef5",
       "version_major": 2,
       "version_minor": 0
      },
      "text/plain": [
       "Epoch 8:   0%|          | 0/62 [00:00<?, ?bundle/s]"
      ]
     },
     "metadata": {},
     "output_type": "display_data"
    },
    {
     "name": "stdout",
     "output_type": "stream",
     "text": [
      "Epoch 008 • train=0.2240 • val=0.2571 • lr=7.64e-04\n"
     ]
    },
    {
     "data": {
      "application/vnd.jupyter.widget-view+json": {
       "model_id": "0d43149dfa264c19b47a8bedcf357a72",
       "version_major": 2,
       "version_minor": 0
      },
      "text/plain": [
       "Epoch 9:   0%|          | 0/62 [00:00<?, ?bundle/s]"
      ]
     },
     "metadata": {},
     "output_type": "display_data"
    },
    {
     "name": "stdout",
     "output_type": "stream",
     "text": [
      "Epoch 009 • train=0.2201 • val=0.2701 • lr=7.55e-04\n"
     ]
    },
    {
     "data": {
      "application/vnd.jupyter.widget-view+json": {
       "model_id": "b43f29f066a04cb4a87f3e20b4cd4b6d",
       "version_major": 2,
       "version_minor": 0
      },
      "text/plain": [
       "Epoch 10:   0%|          | 0/62 [00:00<?, ?bundle/s]"
      ]
     },
     "metadata": {},
     "output_type": "display_data"
    },
    {
     "name": "stdout",
     "output_type": "stream",
     "text": [
      "Epoch 010 • train=0.2380 • val=0.2719 • lr=7.45e-04\n"
     ]
    },
    {
     "data": {
      "application/vnd.jupyter.widget-view+json": {
       "model_id": "aee8c56b60834653a462ddf752e7e34e",
       "version_major": 2,
       "version_minor": 0
      },
      "text/plain": [
       "Epoch 11:   0%|          | 0/62 [00:00<?, ?bundle/s]"
      ]
     },
     "metadata": {},
     "output_type": "display_data"
    },
    {
     "name": "stdout",
     "output_type": "stream",
     "text": [
      "Epoch 011 • train=0.2385 • val=0.2776 • lr=7.34e-04\n"
     ]
    },
    {
     "data": {
      "application/vnd.jupyter.widget-view+json": {
       "model_id": "6dc073a8ef8d40ca96aa269518f9f88a",
       "version_major": 2,
       "version_minor": 0
      },
      "text/plain": [
       "Epoch 12:   0%|          | 0/62 [00:00<?, ?bundle/s]"
      ]
     },
     "metadata": {},
     "output_type": "display_data"
    },
    {
     "name": "stdout",
     "output_type": "stream",
     "text": [
      "Epoch 012 • train=0.2413 • val=0.2672 • lr=7.23e-04\n"
     ]
    },
    {
     "data": {
      "application/vnd.jupyter.widget-view+json": {
       "model_id": "b39403e00cef45ec80cb9c159227345b",
       "version_major": 2,
       "version_minor": 0
      },
      "text/plain": [
       "Epoch 13:   0%|          | 0/62 [00:00<?, ?bundle/s]"
      ]
     },
     "metadata": {},
     "output_type": "display_data"
    },
    {
     "name": "stdout",
     "output_type": "stream",
     "text": [
      "Epoch 013 • train=0.2427 • val=0.2661 • lr=7.10e-04\n"
     ]
    },
    {
     "data": {
      "application/vnd.jupyter.widget-view+json": {
       "model_id": "95c15fe0cb5349e0b83eddc7b9365fd1",
       "version_major": 2,
       "version_minor": 0
      },
      "text/plain": [
       "Epoch 14:   0%|          | 0/62 [00:00<?, ?bundle/s]"
      ]
     },
     "metadata": {},
     "output_type": "display_data"
    },
    {
     "name": "stdout",
     "output_type": "stream",
     "text": [
      "Epoch 014 • train=0.2487 • val=0.2658 • lr=6.97e-04\n"
     ]
    },
    {
     "data": {
      "application/vnd.jupyter.widget-view+json": {
       "model_id": "315fc64d61ce43cf8f24ce74b23a5ce1",
       "version_major": 2,
       "version_minor": 0
      },
      "text/plain": [
       "Epoch 15:   0%|          | 0/62 [00:00<?, ?bundle/s]"
      ]
     },
     "metadata": {},
     "output_type": "display_data"
    },
    {
     "name": "stdout",
     "output_type": "stream",
     "text": [
      "Epoch 015 • train=0.2443 • val=0.2649 • lr=6.83e-04\n"
     ]
    },
    {
     "data": {
      "application/vnd.jupyter.widget-view+json": {
       "model_id": "8ce215c99a034b1e988d9ad84b4b857e",
       "version_major": 2,
       "version_minor": 0
      },
      "text/plain": [
       "Epoch 16:   0%|          | 0/62 [00:00<?, ?bundle/s]"
      ]
     },
     "metadata": {},
     "output_type": "display_data"
    },
    {
     "name": "stdout",
     "output_type": "stream",
     "text": [
      "Epoch 016 • train=0.2412 • val=0.2619 • lr=6.68e-04\n"
     ]
    },
    {
     "data": {
      "application/vnd.jupyter.widget-view+json": {
       "model_id": "1d72353bf6bb4847b3befaae99ea19cf",
       "version_major": 2,
       "version_minor": 0
      },
      "text/plain": [
       "Epoch 17:   0%|          | 0/62 [00:00<?, ?bundle/s]"
      ]
     },
     "metadata": {},
     "output_type": "display_data"
    },
    {
     "name": "stdout",
     "output_type": "stream",
     "text": [
      "Epoch 017 • train=0.2377 • val=0.2560 • lr=6.53e-04\n"
     ]
    },
    {
     "data": {
      "application/vnd.jupyter.widget-view+json": {
       "model_id": "5c569af2eef94d21b05a752d1b1a9d8a",
       "version_major": 2,
       "version_minor": 0
      },
      "text/plain": [
       "Epoch 18:   0%|          | 0/62 [00:00<?, ?bundle/s]"
      ]
     },
     "metadata": {},
     "output_type": "display_data"
    },
    {
     "name": "stdout",
     "output_type": "stream",
     "text": [
      "Epoch 018 • train=0.2400 • val=0.2606 • lr=6.37e-04\n"
     ]
    },
    {
     "data": {
      "application/vnd.jupyter.widget-view+json": {
       "model_id": "17f7c408066a4b68b438cd8ee5eea03a",
       "version_major": 2,
       "version_minor": 0
      },
      "text/plain": [
       "Epoch 19:   0%|          | 0/62 [00:00<?, ?bundle/s]"
      ]
     },
     "metadata": {},
     "output_type": "display_data"
    },
    {
     "name": "stdout",
     "output_type": "stream",
     "text": [
      "Epoch 019 • train=0.2379 • val=0.2540 • lr=6.20e-04\n"
     ]
    },
    {
     "data": {
      "application/vnd.jupyter.widget-view+json": {
       "model_id": "bb991a83dfba422190f98db5b2f333d1",
       "version_major": 2,
       "version_minor": 0
      },
      "text/plain": [
       "Epoch 20:   0%|          | 0/62 [00:00<?, ?bundle/s]"
      ]
     },
     "metadata": {},
     "output_type": "display_data"
    },
    {
     "name": "stdout",
     "output_type": "stream",
     "text": [
      "Epoch 020 • train=0.2454 • val=0.2594 • lr=6.02e-04\n"
     ]
    },
    {
     "data": {
      "application/vnd.jupyter.widget-view+json": {
       "model_id": "904c02cb4d8540a6aec344e1b9a4025c",
       "version_major": 2,
       "version_minor": 0
      },
      "text/plain": [
       "Epoch 21:   0%|          | 0/62 [00:00<?, ?bundle/s]"
      ]
     },
     "metadata": {},
     "output_type": "display_data"
    },
    {
     "name": "stdout",
     "output_type": "stream",
     "text": [
      "Epoch 021 • train=0.2332 • val=0.2509 • lr=5.84e-04\n"
     ]
    },
    {
     "data": {
      "application/vnd.jupyter.widget-view+json": {
       "model_id": "c61e0d730c694651a423acff96aa2356",
       "version_major": 2,
       "version_minor": 0
      },
      "text/plain": [
       "Epoch 22:   0%|          | 0/62 [00:00<?, ?bundle/s]"
      ]
     },
     "metadata": {},
     "output_type": "display_data"
    },
    {
     "name": "stdout",
     "output_type": "stream",
     "text": [
      "Epoch 022 • train=0.2439 • val=0.2563 • lr=5.66e-04\n"
     ]
    },
    {
     "data": {
      "application/vnd.jupyter.widget-view+json": {
       "model_id": "30f16b6071824917af1d93678bbeb3e1",
       "version_major": 2,
       "version_minor": 0
      },
      "text/plain": [
       "Epoch 23:   0%|          | 0/62 [00:00<?, ?bundle/s]"
      ]
     },
     "metadata": {},
     "output_type": "display_data"
    },
    {
     "name": "stdout",
     "output_type": "stream",
     "text": [
      "Epoch 023 • train=0.2395 • val=0.2550 • lr=5.47e-04\n"
     ]
    },
    {
     "data": {
      "application/vnd.jupyter.widget-view+json": {
       "model_id": "bc18f8bc6c26472096bda528b12a66cc",
       "version_major": 2,
       "version_minor": 0
      },
      "text/plain": [
       "Epoch 24:   0%|          | 0/62 [00:00<?, ?bundle/s]"
      ]
     },
     "metadata": {},
     "output_type": "display_data"
    },
    {
     "name": "stdout",
     "output_type": "stream",
     "text": [
      "Epoch 024 • train=0.2386 • val=0.2527 • lr=5.28e-04\n"
     ]
    },
    {
     "data": {
      "application/vnd.jupyter.widget-view+json": {
       "model_id": "345b0139f38248d99e63ef449a153aa2",
       "version_major": 2,
       "version_minor": 0
      },
      "text/plain": [
       "Epoch 25:   0%|          | 0/62 [00:00<?, ?bundle/s]"
      ]
     },
     "metadata": {},
     "output_type": "display_data"
    },
    {
     "name": "stdout",
     "output_type": "stream",
     "text": [
      "Epoch 025 • train=0.2407 • val=0.2533 • lr=5.08e-04\n"
     ]
    },
    {
     "data": {
      "application/vnd.jupyter.widget-view+json": {
       "model_id": "cdaf0e493c58425580727ccbb4d10633",
       "version_major": 2,
       "version_minor": 0
      },
      "text/plain": [
       "Epoch 26:   0%|          | 0/62 [00:00<?, ?bundle/s]"
      ]
     },
     "metadata": {},
     "output_type": "display_data"
    },
    {
     "name": "stdout",
     "output_type": "stream",
     "text": [
      "Epoch 026 • train=0.2383 • val=0.2522 • lr=4.88e-04\n"
     ]
    },
    {
     "data": {
      "application/vnd.jupyter.widget-view+json": {
       "model_id": "636ca9596d464b48a2bf99e7b2cfb308",
       "version_major": 2,
       "version_minor": 0
      },
      "text/plain": [
       "Epoch 27:   0%|          | 0/62 [00:00<?, ?bundle/s]"
      ]
     },
     "metadata": {},
     "output_type": "display_data"
    },
    {
     "name": "stdout",
     "output_type": "stream",
     "text": [
      "Epoch 027 • train=0.2336 • val=0.2520 • lr=4.68e-04\n"
     ]
    },
    {
     "data": {
      "application/vnd.jupyter.widget-view+json": {
       "model_id": "aae34fe0178a40eba05efca198c9ed25",
       "version_major": 2,
       "version_minor": 0
      },
      "text/plain": [
       "Epoch 28:   0%|          | 0/62 [00:00<?, ?bundle/s]"
      ]
     },
     "metadata": {},
     "output_type": "display_data"
    },
    {
     "name": "stdout",
     "output_type": "stream",
     "text": [
      "Epoch 028 • train=0.2304 • val=0.2511 • lr=4.48e-04\n"
     ]
    },
    {
     "data": {
      "application/vnd.jupyter.widget-view+json": {
       "model_id": "c8b47619209647048df87406c4f2ebe2",
       "version_major": 2,
       "version_minor": 0
      },
      "text/plain": [
       "Epoch 29:   0%|          | 0/62 [00:00<?, ?bundle/s]"
      ]
     },
     "metadata": {},
     "output_type": "display_data"
    },
    {
     "name": "stdout",
     "output_type": "stream",
     "text": [
      "Epoch 029 • train=0.2280 • val=0.2511 • lr=4.28e-04\n"
     ]
    },
    {
     "data": {
      "application/vnd.jupyter.widget-view+json": {
       "model_id": "525d4207c2f54e488a03391435c8ffe2",
       "version_major": 2,
       "version_minor": 0
      },
      "text/plain": [
       "Epoch 30:   0%|          | 0/62 [00:00<?, ?bundle/s]"
      ]
     },
     "metadata": {},
     "output_type": "display_data"
    },
    {
     "name": "stdout",
     "output_type": "stream",
     "text": [
      "Epoch 030 • train=0.2258 • val=0.2520 • lr=4.07e-04\n",
      "Early stopping at epoch 30\n"
     ]
    },
    {
     "name": "stderr",
     "output_type": "stream",
     "text": [
      "[I 2025-07-31 09:23:55,554] Trial 3 finished with value: 0.2509264168876855 and parameters: {'DROPOUT_SHORT': 0.10250342400220992, 'DROPOUT_LONG': 0.38255685614270557, 'ATT_DROPOUT': 0.19560763791585856, 'INITIAL_LR': 0.0007971738901749537, 'ETA_MIN': 1.66927107110019e-05, 'WEIGHT_DECAY': 3.761096263326112e-05, 'CLIPNORM': 0.4152224400276785}. Best is trial 1 with value: 0.24978095655441668.\n"
     ]
    },
    {
     "name": "stdout",
     "output_type": "stream",
     "text": [
      "\n",
      "▶ Trial 4 starting with:\n",
      "{'DROPOUT_SHORT': 0.2833164212601635, 'DROPOUT_LONG': 0.3256846120542137, 'ATT_DROPOUT': 0.1870097170316376, 'INITIAL_LR': 0.0006239758871360168, 'ETA_MIN': 1.010899261246253e-05, 'WEIGHT_DECAY': 8.16133581074254e-05, 'CLIPNORM': 0.33035908527876484}\n",
      "\n"
     ]
    },
    {
     "data": {
      "image/png": "[encoded data removed]",
      "text/plain": [
       "<Figure size 660x440 with 1 Axes>"
      ]
     },
     "metadata": {},
     "output_type": "display_data"
    },
    {
     "data": {
      "application/vnd.jupyter.widget-view+json": {
       "model_id": "e14442eaba7347e09c815f4ba73264bd",
       "version_major": 2,
       "version_minor": 0
      },
      "text/plain": [
       "Epoch 1:   0%|          | 0/62 [00:00<?, ?bundle/s]"
      ]
     },
     "metadata": {},
     "output_type": "display_data"
    },
    {
     "name": "stdout",
     "output_type": "stream",
     "text": [
      "Epoch 001 • train=0.2789 • val=0.2563 • lr=6.24e-04\n"
     ]
    },
    {
     "data": {
      "application/vnd.jupyter.widget-view+json": {
       "model_id": "be65b5835cf242c186f168581370c869",
       "version_major": 2,
       "version_minor": 0
      },
      "text/plain": [
       "Epoch 2:   0%|          | 0/62 [00:00<?, ?bundle/s]"
      ]
     },
     "metadata": {},
     "output_type": "display_data"
    },
    {
     "name": "stdout",
     "output_type": "stream",
     "text": [
      "Epoch 002 • train=0.2186 • val=0.2842 • lr=6.22e-04\n"
     ]
    },
    {
     "data": {
      "application/vnd.jupyter.widget-view+json": {
       "model_id": "65258822b0de4d2497fcfe8e53c0ab9c",
       "version_major": 2,
       "version_minor": 0
      },
      "text/plain": [
       "Epoch 3:   0%|          | 0/62 [00:00<?, ?bundle/s]"
      ]
     },
     "metadata": {},
     "output_type": "display_data"
    },
    {
     "name": "stdout",
     "output_type": "stream",
     "text": [
      "Epoch 003 • train=0.2139 • val=0.2819 • lr=6.20e-04\n"
     ]
    },
    {
     "data": {
      "application/vnd.jupyter.widget-view+json": {
       "model_id": "ca3ef59072f546098e232180687ddd39",
       "version_major": 2,
       "version_minor": 0
      },
      "text/plain": [
       "Epoch 4:   0%|          | 0/62 [00:00<?, ?bundle/s]"
      ]
     },
     "metadata": {},
     "output_type": "display_data"
    },
    {
     "name": "stdout",
     "output_type": "stream",
     "text": [
      "Epoch 004 • train=0.2247 • val=0.2714 • lr=6.17e-04\n"
     ]
    },
    {
     "data": {
      "application/vnd.jupyter.widget-view+json": {
       "model_id": "405fb066ec764dcdaa99e8de784915c5",
       "version_major": 2,
       "version_minor": 0
      },
      "text/plain": [
       "Epoch 5:   0%|          | 0/62 [00:00<?, ?bundle/s]"
      ]
     },
     "metadata": {},
     "output_type": "display_data"
    },
    {
     "name": "stdout",
     "output_type": "stream",
     "text": [
      "Epoch 005 • train=0.2392 • val=0.2691 • lr=6.14e-04\n"
     ]
    },
    {
     "data": {
      "application/vnd.jupyter.widget-view+json": {
       "model_id": "431ae2dd19034d37b698cdfb76c148a1",
       "version_major": 2,
       "version_minor": 0
      },
      "text/plain": [
       "Epoch 6:   0%|          | 0/62 [00:00<?, ?bundle/s]"
      ]
     },
     "metadata": {},
     "output_type": "display_data"
    },
    {
     "name": "stdout",
     "output_type": "stream",
     "text": [
      "Epoch 006 • train=0.2393 • val=0.2784 • lr=6.09e-04\n"
     ]
    },
    {
     "data": {
      "application/vnd.jupyter.widget-view+json": {
       "model_id": "68390d5e814f4e3e93b57df247cfd8bf",
       "version_major": 2,
       "version_minor": 0
      },
      "text/plain": [
       "Epoch 7:   0%|          | 0/62 [00:00<?, ?bundle/s]"
      ]
     },
     "metadata": {},
     "output_type": "display_data"
    },
    {
     "name": "stdout",
     "output_type": "stream",
     "text": [
      "Epoch 007 • train=0.2313 • val=0.2801 • lr=6.04e-04\n"
     ]
    },
    {
     "data": {
      "application/vnd.jupyter.widget-view+json": {
       "model_id": "b891889665104f59bad5406cb4b6d3d7",
       "version_major": 2,
       "version_minor": 0
      },
      "text/plain": [
       "Epoch 8:   0%|          | 0/62 [00:00<?, ?bundle/s]"
      ]
     },
     "metadata": {},
     "output_type": "display_data"
    },
    {
     "name": "stdout",
     "output_type": "stream",
     "text": [
      "Epoch 008 • train=0.2346 • val=0.2706 • lr=5.98e-04\n"
     ]
    },
    {
     "data": {
      "application/vnd.jupyter.widget-view+json": {
       "model_id": "2ceb5c3e584f429db5e9fa290b95b3f8",
       "version_major": 2,
       "version_minor": 0
      },
      "text/plain": [
       "Epoch 9:   0%|          | 0/62 [00:00<?, ?bundle/s]"
      ]
     },
     "metadata": {},
     "output_type": "display_data"
    },
    {
     "name": "stdout",
     "output_type": "stream",
     "text": [
      "Epoch 009 • train=0.2544 • val=0.2654 • lr=5.91e-04\n"
     ]
    },
    {
     "data": {
      "application/vnd.jupyter.widget-view+json": {
       "model_id": "322827b8c0aa446fa94422ce67bada91",
       "version_major": 2,
       "version_minor": 0
      },
      "text/plain": [
       "Epoch 10:   0%|          | 0/62 [00:00<?, ?bundle/s]"
      ]
     },
     "metadata": {},
     "output_type": "display_data"
    },
    {
     "name": "stdout",
     "output_type": "stream",
     "text": [
      "Epoch 010 • train=0.2407 • val=0.2600 • lr=5.83e-04\n",
      "Early stopping at epoch 10\n"
     ]
    },
    {
     "name": "stderr",
     "output_type": "stream",
     "text": [
      "[I 2025-07-31 09:33:32,761] Trial 4 finished with value: 0.2563380485482298 and parameters: {'DROPOUT_SHORT': 0.2833164212601635, 'DROPOUT_LONG': 0.3256846120542137, 'ATT_DROPOUT': 0.1870097170316376, 'INITIAL_LR': 0.0006239758871360168, 'ETA_MIN': 1.010899261246253e-05, 'WEIGHT_DECAY': 8.16133581074254e-05, 'CLIPNORM': 0.33035908527876484}. Best is trial 1 with value: 0.24978095655441668.\n"
     ]
    },
    {
     "name": "stdout",
     "output_type": "stream",
     "text": [
      "\n",
      "▶ Trial 5 starting with:\n",
      "{'DROPOUT_SHORT': 0.39140000463653524, 'DROPOUT_LONG': 0.3789879245756789, 'ATT_DROPOUT': 0.12159966503520481, 'INITIAL_LR': 0.0006977373410658373, 'ETA_MIN': 2.8140693906376862e-05, 'WEIGHT_DECAY': 5.859160937842408e-05, 'CLIPNORM': 0.4571614187251979}\n",
      "\n"
     ]
    },
    {
     "data": {
      "image/png": "[encoded data removed]",
      "text/plain": [
       "<Figure size 660x440 with 1 Axes>"
      ]
     },
     "metadata": {},
     "output_type": "display_data"
    },
    {
     "data": {
      "application/vnd.jupyter.widget-view+json": {
       "model_id": "87e3521f5af34f478baf7c544fcc3909",
       "version_major": 2,
       "version_minor": 0
      },
      "text/plain": [
       "Epoch 1:   0%|          | 0/62 [00:00<?, ?bundle/s]"
      ]
     },
     "metadata": {},
     "output_type": "display_data"
    },
    {
     "name": "stdout",
     "output_type": "stream",
     "text": [
      "Epoch 001 • train=0.2980 • val=0.2631 • lr=6.97e-04\n"
     ]
    },
    {
     "data": {
      "application/vnd.jupyter.widget-view+json": {
       "model_id": "b3411cf7286f460eb7773b193ac81fbf",
       "version_major": 2,
       "version_minor": 0
      },
      "text/plain": [
       "Epoch 2:   0%|          | 0/62 [00:00<?, ?bundle/s]"
      ]
     },
     "metadata": {},
     "output_type": "display_data"
    },
    {
     "name": "stdout",
     "output_type": "stream",
     "text": [
      "Epoch 002 • train=0.2120 • val=0.2763 • lr=6.96e-04\n"
     ]
    },
    {
     "data": {
      "application/vnd.jupyter.widget-view+json": {
       "model_id": "731a356af3224c3b984e1963077ece50",
       "version_major": 2,
       "version_minor": 0
      },
      "text/plain": [
       "Epoch 3:   0%|          | 0/62 [00:00<?, ?bundle/s]"
      ]
     },
     "metadata": {},
     "output_type": "display_data"
    },
    {
     "name": "stdout",
     "output_type": "stream",
     "text": [
      "Epoch 003 • train=0.2140 • val=0.2631 • lr=6.94e-04\n"
     ]
    },
    {
     "data": {
      "application/vnd.jupyter.widget-view+json": {
       "model_id": "f6478cdccb3c490bb17bcd8b192c9523",
       "version_major": 2,
       "version_minor": 0
      },
      "text/plain": [
       "Epoch 4:   0%|          | 0/62 [00:00<?, ?bundle/s]"
      ]
     },
     "metadata": {},
     "output_type": "display_data"
    },
    {
     "name": "stdout",
     "output_type": "stream",
     "text": [
      "Epoch 004 • train=0.2216 • val=0.2636 • lr=6.90e-04\n"
     ]
    },
    {
     "data": {
      "application/vnd.jupyter.widget-view+json": {
       "model_id": "5055f3ca11bb42988a43e5fc90b1e5a4",
       "version_major": 2,
       "version_minor": 0
      },
      "text/plain": [
       "Epoch 5:   0%|          | 0/62 [00:00<?, ?bundle/s]"
      ]
     },
     "metadata": {},
     "output_type": "display_data"
    },
    {
     "name": "stdout",
     "output_type": "stream",
     "text": [
      "Epoch 005 • train=0.2309 • val=0.2599 • lr=6.86e-04\n"
     ]
    },
    {
     "data": {
      "application/vnd.jupyter.widget-view+json": {
       "model_id": "e0d55f04e3a94d3eaa8604eac4c29307",
       "version_major": 2,
       "version_minor": 0
      },
      "text/plain": [
       "Epoch 6:   0%|          | 0/62 [00:00<?, ?bundle/s]"
      ]
     },
     "metadata": {},
     "output_type": "display_data"
    },
    {
     "name": "stdout",
     "output_type": "stream",
     "text": [
      "Epoch 006 • train=0.2358 • val=0.2525 • lr=6.81e-04\n"
     ]
    },
    {
     "data": {
      "application/vnd.jupyter.widget-view+json": {
       "model_id": "84a8b905ccf2476aa100d50374faf5dc",
       "version_major": 2,
       "version_minor": 0
      },
      "text/plain": [
       "Epoch 7:   0%|          | 0/62 [00:00<?, ?bundle/s]"
      ]
     },
     "metadata": {},
     "output_type": "display_data"
    },
    {
     "name": "stdout",
     "output_type": "stream",
     "text": [
      "Epoch 007 • train=0.2444 • val=0.2749 • lr=6.76e-04\n"
     ]
    },
    {
     "data": {
      "application/vnd.jupyter.widget-view+json": {
       "model_id": "289232a09f044bd8a5955cc51ea8f8cc",
       "version_major": 2,
       "version_minor": 0
      },
      "text/plain": [
       "Epoch 8:   0%|          | 0/62 [00:00<?, ?bundle/s]"
      ]
     },
     "metadata": {},
     "output_type": "display_data"
    },
    {
     "name": "stdout",
     "output_type": "stream",
     "text": [
      "Epoch 008 • train=0.2293 • val=0.2520 • lr=6.69e-04\n"
     ]
    },
    {
     "data": {
      "application/vnd.jupyter.widget-view+json": {
       "model_id": "9d5d59dfc3e446e3bf65679bfa0b1b3e",
       "version_major": 2,
       "version_minor": 0
      },
      "text/plain": [
       "Epoch 9:   0%|          | 0/62 [00:00<?, ?bundle/s]"
      ]
     },
     "metadata": {},
     "output_type": "display_data"
    },
    {
     "name": "stdout",
     "output_type": "stream",
     "text": [
      "Epoch 009 • train=0.2473 • val=0.2722 • lr=6.61e-04\n"
     ]
    },
    {
     "data": {
      "application/vnd.jupyter.widget-view+json": {
       "model_id": "e51cd7ac773d4cf981f25eb185fc97dc",
       "version_major": 2,
       "version_minor": 0
      },
      "text/plain": [
       "Epoch 10:   0%|          | 0/62 [00:00<?, ?bundle/s]"
      ]
     },
     "metadata": {},
     "output_type": "display_data"
    },
    {
     "name": "stdout",
     "output_type": "stream",
     "text": [
      "Epoch 010 • train=0.2329 • val=0.2560 • lr=6.53e-04\n"
     ]
    },
    {
     "data": {
      "application/vnd.jupyter.widget-view+json": {
       "model_id": "d31cb07748544ef5a5749cba978308c0",
       "version_major": 2,
       "version_minor": 0
      },
      "text/plain": [
       "Epoch 11:   0%|          | 0/62 [00:00<?, ?bundle/s]"
      ]
     },
     "metadata": {},
     "output_type": "display_data"
    },
    {
     "name": "stdout",
     "output_type": "stream",
     "text": [
      "Epoch 011 • train=0.2371 • val=0.2597 • lr=6.44e-04\n"
     ]
    },
    {
     "data": {
      "application/vnd.jupyter.widget-view+json": {
       "model_id": "66c2bf29c503456d9c9d081163ff6e5b",
       "version_major": 2,
       "version_minor": 0
      },
      "text/plain": [
       "Epoch 12:   0%|          | 0/62 [00:00<?, ?bundle/s]"
      ]
     },
     "metadata": {},
     "output_type": "display_data"
    },
    {
     "name": "stdout",
     "output_type": "stream",
     "text": [
      "Epoch 012 • train=0.2340 • val=0.2514 • lr=6.34e-04\n"
     ]
    },
    {
     "data": {
      "application/vnd.jupyter.widget-view+json": {
       "model_id": "e8e07348ec1b49c9a10dc452224b3695",
       "version_major": 2,
       "version_minor": 0
      },
      "text/plain": [
       "Epoch 13:   0%|          | 0/62 [00:00<?, ?bundle/s]"
      ]
     },
     "metadata": {},
     "output_type": "display_data"
    },
    {
     "name": "stdout",
     "output_type": "stream",
     "text": [
      "Epoch 013 • train=0.2390 • val=0.2537 • lr=6.23e-04\n"
     ]
    },
    {
     "data": {
      "application/vnd.jupyter.widget-view+json": {
       "model_id": "44954c97beb94871bc80b14425299796",
       "version_major": 2,
       "version_minor": 0
      },
      "text/plain": [
       "Epoch 14:   0%|          | 0/62 [00:00<?, ?bundle/s]"
      ]
     },
     "metadata": {},
     "output_type": "display_data"
    },
    {
     "name": "stdout",
     "output_type": "stream",
     "text": [
      "Epoch 014 • train=0.2362 • val=0.2522 • lr=6.12e-04\n"
     ]
    },
    {
     "data": {
      "application/vnd.jupyter.widget-view+json": {
       "model_id": "ee6526f9ed3147b5b099eb517210eb9e",
       "version_major": 2,
       "version_minor": 0
      },
      "text/plain": [
       "Epoch 15:   0%|          | 0/62 [00:00<?, ?bundle/s]"
      ]
     },
     "metadata": {},
     "output_type": "display_data"
    },
    {
     "name": "stdout",
     "output_type": "stream",
     "text": [
      "Epoch 015 • train=0.2400 • val=0.2522 • lr=6.00e-04\n"
     ]
    },
    {
     "data": {
      "application/vnd.jupyter.widget-view+json": {
       "model_id": "43164966c4814a039a7122f99307f2d1",
       "version_major": 2,
       "version_minor": 0
      },
      "text/plain": [
       "Epoch 16:   0%|          | 0/62 [00:00<?, ?bundle/s]"
      ]
     },
     "metadata": {},
     "output_type": "display_data"
    },
    {
     "name": "stdout",
     "output_type": "stream",
     "text": [
      "Epoch 016 • train=0.2430 • val=0.2526 • lr=5.87e-04\n"
     ]
    },
    {
     "data": {
      "application/vnd.jupyter.widget-view+json": {
       "model_id": "07a6be9f551941b1b50177494c05ce60",
       "version_major": 2,
       "version_minor": 0
      },
      "text/plain": [
       "Epoch 17:   0%|          | 0/62 [00:00<?, ?bundle/s]"
      ]
     },
     "metadata": {},
     "output_type": "display_data"
    },
    {
     "name": "stdout",
     "output_type": "stream",
     "text": [
      "Epoch 017 • train=0.2409 • val=0.2580 • lr=5.74e-04\n"
     ]
    },
    {
     "data": {
      "application/vnd.jupyter.widget-view+json": {
       "model_id": "ef9d9ffaae154f40b65d0fd3ef12fd32",
       "version_major": 2,
       "version_minor": 0
      },
      "text/plain": [
       "Epoch 18:   0%|          | 0/62 [00:00<?, ?bundle/s]"
      ]
     },
     "metadata": {},
     "output_type": "display_data"
    },
    {
     "name": "stdout",
     "output_type": "stream",
     "text": [
      "Epoch 018 • train=0.2408 • val=0.2602 • lr=5.60e-04\n"
     ]
    },
    {
     "data": {
      "application/vnd.jupyter.widget-view+json": {
       "model_id": "7f13734235984d5b901fa2a259cc2863",
       "version_major": 2,
       "version_minor": 0
      },
      "text/plain": [
       "Epoch 19:   0%|          | 0/62 [00:00<?, ?bundle/s]"
      ]
     },
     "metadata": {},
     "output_type": "display_data"
    },
    {
     "name": "stdout",
     "output_type": "stream",
     "text": [
      "Epoch 019 • train=0.2377 • val=0.2595 • lr=5.46e-04\n"
     ]
    },
    {
     "data": {
      "application/vnd.jupyter.widget-view+json": {
       "model_id": "2053b0c00e344e64b475168613f05752",
       "version_major": 2,
       "version_minor": 0
      },
      "text/plain": [
       "Epoch 20:   0%|          | 0/62 [00:00<?, ?bundle/s]"
      ]
     },
     "metadata": {},
     "output_type": "display_data"
    },
    {
     "name": "stdout",
     "output_type": "stream",
     "text": [
      "Epoch 020 • train=0.2286 • val=0.2587 • lr=5.31e-04\n"
     ]
    },
    {
     "data": {
      "application/vnd.jupyter.widget-view+json": {
       "model_id": "23785659de26447fa8a4b1f4e37c8de7",
       "version_major": 2,
       "version_minor": 0
      },
      "text/plain": [
       "Epoch 21:   0%|          | 0/62 [00:00<?, ?bundle/s]"
      ]
     },
     "metadata": {},
     "output_type": "display_data"
    },
    {
     "name": "stdout",
     "output_type": "stream",
     "text": [
      "Epoch 021 • train=0.2294 • val=0.2559 • lr=5.15e-04\n",
      "Early stopping at epoch 21\n"
     ]
    },
    {
     "name": "stderr",
     "output_type": "stream",
     "text": [
      "[I 2025-07-31 09:53:46,851] Trial 5 finished with value: 0.2513954715439017 and parameters: {'DROPOUT_SHORT': 0.39140000463653524, 'DROPOUT_LONG': 0.3789879245756789, 'ATT_DROPOUT': 0.12159966503520481, 'INITIAL_LR': 0.0006977373410658373, 'ETA_MIN': 2.8140693906376862e-05, 'WEIGHT_DECAY': 5.859160937842408e-05, 'CLIPNORM': 0.4571614187251979}. Best is trial 1 with value: 0.24978095655441668.\n"
     ]
    },
    {
     "name": "stdout",
     "output_type": "stream",
     "text": [
      "\n",
      "▶ Trial 6 starting with:\n",
      "{'DROPOUT_SHORT': 0.24124468233092444, 'DROPOUT_LONG': 0.19895905667606972, 'ATT_DROPOUT': 0.22832392342826363, 'INITIAL_LR': 0.000979762860094173, 'ETA_MIN': 3.6668610255038785e-05, 'WEIGHT_DECAY': 7.140245807636776e-05, 'CLIPNORM': 1.1234749543304066}\n",
      "\n"
     ]
    },
    {
     "data": {
      "image/png": "[encoded data removed]",
      "text/plain": [
       "<Figure size 660x440 with 1 Axes>"
      ]
     },
     "metadata": {},
     "output_type": "display_data"
    },
    {
     "data": {
      "application/vnd.jupyter.widget-view+json": {
       "model_id": "7818523d34114cd983b43920c81732d2",
       "version_major": 2,
       "version_minor": 0
      },
      "text/plain": [
       "Epoch 1:   0%|          | 0/62 [00:00<?, ?bundle/s]"
      ]
     },
     "metadata": {},
     "output_type": "display_data"
    },
    {
     "name": "stdout",
     "output_type": "stream",
     "text": [
      "Epoch 001 • train=0.2901 • val=0.2766 • lr=9.79e-04\n"
     ]
    },
    {
     "data": {
      "application/vnd.jupyter.widget-view+json": {
       "model_id": "537e762c58584de1b05328419a4dd6b0",
       "version_major": 2,
       "version_minor": 0
      },
      "text/plain": [
       "Epoch 2:   0%|          | 0/62 [00:00<?, ?bundle/s]"
      ]
     },
     "metadata": {},
     "output_type": "display_data"
    },
    {
     "name": "stdout",
     "output_type": "stream",
     "text": [
      "Epoch 002 • train=0.2384 • val=0.2696 • lr=9.77e-04\n"
     ]
    },
    {
     "data": {
      "application/vnd.jupyter.widget-view+json": {
       "model_id": "b56b83124c6448a982f1a6b4c22cbb16",
       "version_major": 2,
       "version_minor": 0
      },
      "text/plain": [
       "Epoch 3:   0%|          | 0/62 [00:00<?, ?bundle/s]"
      ]
     },
     "metadata": {},
     "output_type": "display_data"
    },
    {
     "name": "stdout",
     "output_type": "stream",
     "text": [
      "Epoch 003 • train=0.2139 • val=0.2553 • lr=9.74e-04\n"
     ]
    },
    {
     "data": {
      "application/vnd.jupyter.widget-view+json": {
       "model_id": "e55babe4a7054aa5b15a7835077eefd1",
       "version_major": 2,
       "version_minor": 0
      },
      "text/plain": [
       "Epoch 4:   0%|          | 0/62 [00:00<?, ?bundle/s]"
      ]
     },
     "metadata": {},
     "output_type": "display_data"
    },
    {
     "name": "stdout",
     "output_type": "stream",
     "text": [
      "Epoch 004 • train=0.2170 • val=0.2523 • lr=9.70e-04\n"
     ]
    },
    {
     "data": {
      "application/vnd.jupyter.widget-view+json": {
       "model_id": "f060bc8b1a3142d8b94aff7d8b7bd728",
       "version_major": 2,
       "version_minor": 0
      },
      "text/plain": [
       "Epoch 5:   0%|          | 0/62 [00:00<?, ?bundle/s]"
      ]
     },
     "metadata": {},
     "output_type": "display_data"
    },
    {
     "name": "stdout",
     "output_type": "stream",
     "text": [
      "Epoch 005 • train=0.2122 • val=0.2509 • lr=9.64e-04\n"
     ]
    },
    {
     "data": {
      "application/vnd.jupyter.widget-view+json": {
       "model_id": "befa228261e641e191cfa4236e7a3218",
       "version_major": 2,
       "version_minor": 0
      },
      "text/plain": [
       "Epoch 6:   0%|          | 0/62 [00:00<?, ?bundle/s]"
      ]
     },
     "metadata": {},
     "output_type": "display_data"
    },
    {
     "name": "stdout",
     "output_type": "stream",
     "text": [
      "Epoch 006 • train=0.2158 • val=0.2500 • lr=9.57e-04\n"
     ]
    },
    {
     "data": {
      "application/vnd.jupyter.widget-view+json": {
       "model_id": "b4a1b928eea34ed88d9ddc678a59247e",
       "version_major": 2,
       "version_minor": 0
      },
      "text/plain": [
       "Epoch 7:   0%|          | 0/62 [00:00<?, ?bundle/s]"
      ]
     },
     "metadata": {},
     "output_type": "display_data"
    },
    {
     "name": "stdout",
     "output_type": "stream",
     "text": [
      "Epoch 007 • train=0.2144 • val=0.2492 • lr=9.49e-04\n"
     ]
    },
    {
     "data": {
      "application/vnd.jupyter.widget-view+json": {
       "model_id": "ec1affc2988b43c580fe16e7eb6d06d6",
       "version_major": 2,
       "version_minor": 0
      },
      "text/plain": [
       "Epoch 8:   0%|          | 0/62 [00:00<?, ?bundle/s]"
      ]
     },
     "metadata": {},
     "output_type": "display_data"
    },
    {
     "name": "stdout",
     "output_type": "stream",
     "text": [
      "Epoch 008 • train=0.2142 • val=0.2499 • lr=9.39e-04\n"
     ]
    },
    {
     "data": {
      "application/vnd.jupyter.widget-view+json": {
       "model_id": "fdd383a76d9b44fc9e76b7fd1e4d696a",
       "version_major": 2,
       "version_minor": 0
      },
      "text/plain": [
       "Epoch 9:   0%|          | 0/62 [00:00<?, ?bundle/s]"
      ]
     },
     "metadata": {},
     "output_type": "display_data"
    },
    {
     "name": "stdout",
     "output_type": "stream",
     "text": [
      "Epoch 009 • train=0.2161 • val=0.2524 • lr=9.29e-04\n"
     ]
    },
    {
     "data": {
      "application/vnd.jupyter.widget-view+json": {
       "model_id": "202d5797461f41978a6dfffbc20e3f77",
       "version_major": 2,
       "version_minor": 0
      },
      "text/plain": [
       "Epoch 10:   0%|          | 0/62 [00:00<?, ?bundle/s]"
      ]
     },
     "metadata": {},
     "output_type": "display_data"
    },
    {
     "name": "stdout",
     "output_type": "stream",
     "text": [
      "Epoch 010 • train=0.2197 • val=0.2500 • lr=9.17e-04\n"
     ]
    },
    {
     "data": {
      "application/vnd.jupyter.widget-view+json": {
       "model_id": "1d613dff901340e9bff44e402f8962f1",
       "version_major": 2,
       "version_minor": 0
      },
      "text/plain": [
       "Epoch 11:   0%|          | 0/62 [00:00<?, ?bundle/s]"
      ]
     },
     "metadata": {},
     "output_type": "display_data"
    },
    {
     "name": "stdout",
     "output_type": "stream",
     "text": [
      "Epoch 011 • train=0.2149 • val=0.2462 • lr=9.04e-04\n"
     ]
    },
    {
     "data": {
      "application/vnd.jupyter.widget-view+json": {
       "model_id": "b53700d561b048fdbea276fc3b9e4b57",
       "version_major": 2,
       "version_minor": 0
      },
      "text/plain": [
       "Epoch 12:   0%|          | 0/62 [00:00<?, ?bundle/s]"
      ]
     },
     "metadata": {},
     "output_type": "display_data"
    },
    {
     "name": "stdout",
     "output_type": "stream",
     "text": [
      "Epoch 012 • train=0.2156 • val=0.2461 • lr=8.90e-04\n"
     ]
    },
    {
     "data": {
      "application/vnd.jupyter.widget-view+json": {
       "model_id": "e36ea77d80cb4426b14e9db23ba14460",
       "version_major": 2,
       "version_minor": 0
      },
      "text/plain": [
       "Epoch 13:   0%|          | 0/62 [00:00<?, ?bundle/s]"
      ]
     },
     "metadata": {},
     "output_type": "display_data"
    },
    {
     "name": "stdout",
     "output_type": "stream",
     "text": [
      "Epoch 013 • train=0.2235 • val=0.2549 • lr=8.75e-04\n"
     ]
    },
    {
     "data": {
      "application/vnd.jupyter.widget-view+json": {
       "model_id": "34e9d3151e874bec8d79c1cec465ca60",
       "version_major": 2,
       "version_minor": 0
      },
      "text/plain": [
       "Epoch 14:   0%|          | 0/62 [00:00<?, ?bundle/s]"
      ]
     },
     "metadata": {},
     "output_type": "display_data"
    },
    {
     "name": "stdout",
     "output_type": "stream",
     "text": [
      "Epoch 014 • train=0.2271 • val=0.2613 • lr=8.59e-04\n"
     ]
    },
    {
     "data": {
      "application/vnd.jupyter.widget-view+json": {
       "model_id": "2d478d1123f64a5baa8c9db1b0438de9",
       "version_major": 2,
       "version_minor": 0
      },
      "text/plain": [
       "Epoch 15:   0%|          | 0/62 [00:00<?, ?bundle/s]"
      ]
     },
     "metadata": {},
     "output_type": "display_data"
    },
    {
     "name": "stdout",
     "output_type": "stream",
     "text": [
      "Epoch 015 • train=0.2165 • val=0.2528 • lr=8.42e-04\n"
     ]
    },
    {
     "data": {
      "application/vnd.jupyter.widget-view+json": {
       "model_id": "beda2ed422794d9293bda7efaca0801a",
       "version_major": 2,
       "version_minor": 0
      },
      "text/plain": [
       "Epoch 16:   0%|          | 0/62 [00:00<?, ?bundle/s]"
      ]
     },
     "metadata": {},
     "output_type": "display_data"
    },
    {
     "name": "stdout",
     "output_type": "stream",
     "text": [
      "Epoch 016 • train=0.2277 • val=0.2624 • lr=8.24e-04\n"
     ]
    },
    {
     "data": {
      "application/vnd.jupyter.widget-view+json": {
       "model_id": "73c2e19df31443e580fcce52d0fe042c",
       "version_major": 2,
       "version_minor": 0
      },
      "text/plain": [
       "Epoch 17:   0%|          | 0/62 [00:00<?, ?bundle/s]"
      ]
     },
     "metadata": {},
     "output_type": "display_data"
    },
    {
     "name": "stdout",
     "output_type": "stream",
     "text": [
      "Epoch 017 • train=0.2385 • val=0.2655 • lr=8.05e-04\n"
     ]
    },
    {
     "data": {
      "application/vnd.jupyter.widget-view+json": {
       "model_id": "3a751ed4c57b405093fbdb353aef6a35",
       "version_major": 2,
       "version_minor": 0
      },
      "text/plain": [
       "Epoch 18:   0%|          | 0/62 [00:00<?, ?bundle/s]"
      ]
     },
     "metadata": {},
     "output_type": "display_data"
    },
    {
     "name": "stdout",
     "output_type": "stream",
     "text": [
      "Epoch 018 • train=0.2225 • val=0.2420 • lr=7.86e-04\n"
     ]
    },
    {
     "data": {
      "application/vnd.jupyter.widget-view+json": {
       "model_id": "9d49817d96764454bae4d14db80b943d",
       "version_major": 2,
       "version_minor": 0
      },
      "text/plain": [
       "Epoch 19:   0%|          | 0/62 [00:00<?, ?bundle/s]"
      ]
     },
     "metadata": {},
     "output_type": "display_data"
    },
    {
     "name": "stdout",
     "output_type": "stream",
     "text": [
      "Epoch 019 • train=0.2297 • val=0.2709 • lr=7.65e-04\n"
     ]
    },
    {
     "data": {
      "application/vnd.jupyter.widget-view+json": {
       "model_id": "4bfdf57a9f084c7381194065a3dcb4ec",
       "version_major": 2,
       "version_minor": 0
      },
      "text/plain": [
       "Epoch 20:   0%|          | 0/62 [00:00<?, ?bundle/s]"
      ]
     },
     "metadata": {},
     "output_type": "display_data"
    },
    {
     "name": "stdout",
     "output_type": "stream",
     "text": [
      "Epoch 020 • train=0.2350 • val=0.2553 • lr=7.44e-04\n"
     ]
    },
    {
     "data": {
      "application/vnd.jupyter.widget-view+json": {
       "model_id": "ffcc4e5669524f138f61e62324151f2a",
       "version_major": 2,
       "version_minor": 0
      },
      "text/plain": [
       "Epoch 21:   0%|          | 0/62 [00:00<?, ?bundle/s]"
      ]
     },
     "metadata": {},
     "output_type": "display_data"
    },
    {
     "name": "stdout",
     "output_type": "stream",
     "text": [
      "Epoch 021 • train=0.2333 • val=0.2567 • lr=7.23e-04\n"
     ]
    },
    {
     "data": {
      "application/vnd.jupyter.widget-view+json": {
       "model_id": "37a57bb1d210445ab18c547f4d4c90c8",
       "version_major": 2,
       "version_minor": 0
      },
      "text/plain": [
       "Epoch 22:   0%|          | 0/62 [00:00<?, ?bundle/s]"
      ]
     },
     "metadata": {},
     "output_type": "display_data"
    },
    {
     "name": "stdout",
     "output_type": "stream",
     "text": [
      "Epoch 022 • train=0.2376 • val=0.2544 • lr=7.00e-04\n"
     ]
    },
    {
     "data": {
      "application/vnd.jupyter.widget-view+json": {
       "model_id": "fd96d6ca3dd84f85b8ee9a3cd099e618",
       "version_major": 2,
       "version_minor": 0
      },
      "text/plain": [
       "Epoch 23:   0%|          | 0/62 [00:00<?, ?bundle/s]"
      ]
     },
     "metadata": {},
     "output_type": "display_data"
    },
    {
     "name": "stdout",
     "output_type": "stream",
     "text": [
      "Epoch 023 • train=0.2383 • val=0.2562 • lr=6.78e-04\n"
     ]
    },
    {
     "data": {
      "application/vnd.jupyter.widget-view+json": {
       "model_id": "192a9ce1d7334e629b1d11c8ea483485",
       "version_major": 2,
       "version_minor": 0
      },
      "text/plain": [
       "Epoch 24:   0%|          | 0/62 [00:00<?, ?bundle/s]"
      ]
     },
     "metadata": {},
     "output_type": "display_data"
    },
    {
     "name": "stdout",
     "output_type": "stream",
     "text": [
      "Epoch 024 • train=0.2458 • val=0.2476 • lr=6.54e-04\n"
     ]
    },
    {
     "data": {
      "application/vnd.jupyter.widget-view+json": {
       "model_id": "3471c6c3c3444530aad07508d1082190",
       "version_major": 2,
       "version_minor": 0
      },
      "text/plain": [
       "Epoch 25:   0%|          | 0/62 [00:00<?, ?bundle/s]"
      ]
     },
     "metadata": {},
     "output_type": "display_data"
    },
    {
     "name": "stdout",
     "output_type": "stream",
     "text": [
      "Epoch 025 • train=0.2308 • val=0.2532 • lr=6.31e-04\n"
     ]
    },
    {
     "data": {
      "application/vnd.jupyter.widget-view+json": {
       "model_id": "8f6737f1c772495c9a62fcfa9fa5e173",
       "version_major": 2,
       "version_minor": 0
      },
      "text/plain": [
       "Epoch 26:   0%|          | 0/62 [00:00<?, ?bundle/s]"
      ]
     },
     "metadata": {},
     "output_type": "display_data"
    },
    {
     "name": "stdout",
     "output_type": "stream",
     "text": [
      "Epoch 026 • train=0.2388 • val=0.2487 • lr=6.07e-04\n"
     ]
    },
    {
     "data": {
      "application/vnd.jupyter.widget-view+json": {
       "model_id": "be9bbc25aa1645198713eff2258142e8",
       "version_major": 2,
       "version_minor": 0
      },
      "text/plain": [
       "Epoch 27:   0%|          | 0/62 [00:00<?, ?bundle/s]"
      ]
     },
     "metadata": {},
     "output_type": "display_data"
    },
    {
     "name": "stdout",
     "output_type": "stream",
     "text": [
      "Epoch 027 • train=0.2370 • val=0.2514 • lr=5.82e-04\n",
      "Early stopping at epoch 27\n",
      "Saved final best model and training plot: GOOGL_0.2420.pth\n"
     ]
    },
    {
     "name": "stderr",
     "output_type": "stream",
     "text": [
      "[I 2025-07-31 10:19:44,913] Trial 6 finished with value: 0.24204569516800017 and parameters: {'DROPOUT_SHORT': 0.24124468233092444, 'DROPOUT_LONG': 0.19895905667606972, 'ATT_DROPOUT': 0.22832392342826363, 'INITIAL_LR': 0.000979762860094173, 'ETA_MIN': 3.6668610255038785e-05, 'WEIGHT_DECAY': 7.140245807636776e-05, 'CLIPNORM': 1.1234749543304066}. Best is trial 6 with value: 0.24204569516800017.\n"
     ]
    },
    {
     "name": "stdout",
     "output_type": "stream",
     "text": [
      "\n",
      "▶ Trial 7 starting with:\n",
      "{'DROPOUT_SHORT': 0.2360184392161507, 'DROPOUT_LONG': 0.3400700802495498, 'ATT_DROPOUT': 0.3091576841256586, 'INITIAL_LR': 0.0005873732265991671, 'ETA_MIN': 1.3370962922140752e-05, 'WEIGHT_DECAY': 5.881055528312216e-05, 'CLIPNORM': 1.4480294269303498}\n",
      "\n"
     ]
    },
    {
     "data": {
      "image/png": "[encoded data removed]",
      "text/plain": [
       "<Figure size 660x440 with 1 Axes>"
      ]
     },
     "metadata": {},
     "output_type": "display_data"
    },
    {
     "data": {
      "application/vnd.jupyter.widget-view+json": {
       "model_id": "50f541f9b6a445b39a5703d25ef8d9a2",
       "version_major": 2,
       "version_minor": 0
      },
      "text/plain": [
       "Epoch 1:   0%|          | 0/62 [00:00<?, ?bundle/s]"
      ]
     },
     "metadata": {},
     "output_type": "display_data"
    },
    {
     "name": "stdout",
     "output_type": "stream",
     "text": [
      "Epoch 001 • train=0.2670 • val=0.2619 • lr=5.87e-04\n"
     ]
    },
    {
     "data": {
      "application/vnd.jupyter.widget-view+json": {
       "model_id": "9493382479614b909c4852450fa0def4",
       "version_major": 2,
       "version_minor": 0
      },
      "text/plain": [
       "Epoch 2:   0%|          | 0/62 [00:00<?, ?bundle/s]"
      ]
     },
     "metadata": {},
     "output_type": "display_data"
    },
    {
     "name": "stdout",
     "output_type": "stream",
     "text": [
      "Epoch 002 • train=0.2235 • val=0.2694 • lr=5.86e-04\n"
     ]
    },
    {
     "data": {
      "application/vnd.jupyter.widget-view+json": {
       "model_id": "28cabad486d74773995fc0b7252c1948",
       "version_major": 2,
       "version_minor": 0
      },
      "text/plain": [
       "Epoch 3:   0%|          | 0/62 [00:00<?, ?bundle/s]"
      ]
     },
     "metadata": {},
     "output_type": "display_data"
    },
    {
     "name": "stdout",
     "output_type": "stream",
     "text": [
      "Epoch 003 • train=0.2173 • val=0.2699 • lr=5.84e-04\n"
     ]
    },
    {
     "data": {
      "application/vnd.jupyter.widget-view+json": {
       "model_id": "7138a82528f9461b84ec62ba11592120",
       "version_major": 2,
       "version_minor": 0
      },
      "text/plain": [
       "Epoch 4:   0%|          | 0/62 [00:00<?, ?bundle/s]"
      ]
     },
     "metadata": {},
     "output_type": "display_data"
    },
    {
     "name": "stdout",
     "output_type": "stream",
     "text": [
      "Epoch 004 • train=0.2225 • val=0.2770 • lr=5.81e-04\n"
     ]
    },
    {
     "data": {
      "application/vnd.jupyter.widget-view+json": {
       "model_id": "fd8b43799e4140d69e44e17a6c6b84ee",
       "version_major": 2,
       "version_minor": 0
      },
      "text/plain": [
       "Epoch 5:   0%|          | 0/62 [00:00<?, ?bundle/s]"
      ]
     },
     "metadata": {},
     "output_type": "display_data"
    },
    {
     "name": "stdout",
     "output_type": "stream",
     "text": [
      "Epoch 005 • train=0.2346 • val=0.2777 • lr=5.78e-04\n"
     ]
    },
    {
     "data": {
      "application/vnd.jupyter.widget-view+json": {
       "model_id": "c552820ff0ec4ab3aad0529a187adca4",
       "version_major": 2,
       "version_minor": 0
      },
      "text/plain": [
       "Epoch 6:   0%|          | 0/62 [00:00<?, ?bundle/s]"
      ]
     },
     "metadata": {},
     "output_type": "display_data"
    },
    {
     "name": "stdout",
     "output_type": "stream",
     "text": [
      "Epoch 006 • train=0.2377 • val=0.2739 • lr=5.73e-04\n"
     ]
    },
    {
     "data": {
      "application/vnd.jupyter.widget-view+json": {
       "model_id": "79aebf59f3e54a87a70521dbdc0eb803",
       "version_major": 2,
       "version_minor": 0
      },
      "text/plain": [
       "Epoch 7:   0%|          | 0/62 [00:00<?, ?bundle/s]"
      ]
     },
     "metadata": {},
     "output_type": "display_data"
    },
    {
     "name": "stdout",
     "output_type": "stream",
     "text": [
      "Epoch 007 • train=0.2280 • val=0.2735 • lr=5.68e-04\n"
     ]
    },
    {
     "data": {
      "application/vnd.jupyter.widget-view+json": {
       "model_id": "7a63c6567c844a6f8cdd35b71998ee16",
       "version_major": 2,
       "version_minor": 0
      },
      "text/plain": [
       "Epoch 8:   0%|          | 0/62 [00:00<?, ?bundle/s]"
      ]
     },
     "metadata": {},
     "output_type": "display_data"
    },
    {
     "name": "stdout",
     "output_type": "stream",
     "text": [
      "Epoch 008 • train=0.2335 • val=0.2705 • lr=5.63e-04\n"
     ]
    },
    {
     "data": {
      "application/vnd.jupyter.widget-view+json": {
       "model_id": "0b7983b980924e869457037d850455ea",
       "version_major": 2,
       "version_minor": 0
      },
      "text/plain": [
       "Epoch 9:   0%|          | 0/62 [00:00<?, ?bundle/s]"
      ]
     },
     "metadata": {},
     "output_type": "display_data"
    },
    {
     "name": "stdout",
     "output_type": "stream",
     "text": [
      "Epoch 009 • train=0.2412 • val=0.2610 • lr=5.56e-04\n"
     ]
    },
    {
     "data": {
      "application/vnd.jupyter.widget-view+json": {
       "model_id": "e65d0506a7ec4a53ba10893c140de2fa",
       "version_major": 2,
       "version_minor": 0
      },
      "text/plain": [
       "Epoch 10:   0%|          | 0/62 [00:00<?, ?bundle/s]"
      ]
     },
     "metadata": {},
     "output_type": "display_data"
    },
    {
     "name": "stdout",
     "output_type": "stream",
     "text": [
      "Epoch 010 • train=0.2481 • val=0.2697 • lr=5.49e-04\n"
     ]
    },
    {
     "data": {
      "application/vnd.jupyter.widget-view+json": {
       "model_id": "59ceae0884c34e1abc4d530145049cfd",
       "version_major": 2,
       "version_minor": 0
      },
      "text/plain": [
       "Epoch 11:   0%|          | 0/62 [00:00<?, ?bundle/s]"
      ]
     },
     "metadata": {},
     "output_type": "display_data"
    },
    {
     "name": "stdout",
     "output_type": "stream",
     "text": [
      "Epoch 011 • train=0.2345 • val=0.2616 • lr=5.41e-04\n"
     ]
    },
    {
     "data": {
      "application/vnd.jupyter.widget-view+json": {
       "model_id": "24b803e8fd1e4436a634839d4ddaf5ee",
       "version_major": 2,
       "version_minor": 0
      },
      "text/plain": [
       "Epoch 12:   0%|          | 0/62 [00:00<?, ?bundle/s]"
      ]
     },
     "metadata": {},
     "output_type": "display_data"
    },
    {
     "name": "stdout",
     "output_type": "stream",
     "text": [
      "Epoch 012 • train=0.2394 • val=0.2598 • lr=5.33e-04\n"
     ]
    },
    {
     "data": {
      "application/vnd.jupyter.widget-view+json": {
       "model_id": "467a8cf94d004e7896223564484de9df",
       "version_major": 2,
       "version_minor": 0
      },
      "text/plain": [
       "Epoch 13:   0%|          | 0/62 [00:00<?, ?bundle/s]"
      ]
     },
     "metadata": {},
     "output_type": "display_data"
    },
    {
     "name": "stdout",
     "output_type": "stream",
     "text": [
      "Epoch 013 • train=0.2351 • val=0.2597 • lr=5.24e-04\n"
     ]
    },
    {
     "data": {
      "application/vnd.jupyter.widget-view+json": {
       "model_id": "ab6ca80e19c64459b31b8ec86588a142",
       "version_major": 2,
       "version_minor": 0
      },
      "text/plain": [
       "Epoch 14:   0%|          | 0/62 [00:00<?, ?bundle/s]"
      ]
     },
     "metadata": {},
     "output_type": "display_data"
    },
    {
     "name": "stdout",
     "output_type": "stream",
     "text": [
      "Epoch 014 • train=0.2362 • val=0.2577 • lr=5.14e-04\n"
     ]
    },
    {
     "data": {
      "application/vnd.jupyter.widget-view+json": {
       "model_id": "54ece87445214e6eb9e075105b2c8021",
       "version_major": 2,
       "version_minor": 0
      },
      "text/plain": [
       "Epoch 15:   0%|          | 0/62 [00:00<?, ?bundle/s]"
      ]
     },
     "metadata": {},
     "output_type": "display_data"
    },
    {
     "name": "stdout",
     "output_type": "stream",
     "text": [
      "Epoch 015 • train=0.2392 • val=0.2590 • lr=5.03e-04\n"
     ]
    },
    {
     "data": {
      "application/vnd.jupyter.widget-view+json": {
       "model_id": "1fb6c9ba9c8942eca16648f597a76b8e",
       "version_major": 2,
       "version_minor": 0
      },
      "text/plain": [
       "Epoch 16:   0%|          | 0/62 [00:00<?, ?bundle/s]"
      ]
     },
     "metadata": {},
     "output_type": "display_data"
    },
    {
     "name": "stdout",
     "output_type": "stream",
     "text": [
      "Epoch 016 • train=0.2395 • val=0.2542 • lr=4.93e-04\n"
     ]
    },
    {
     "data": {
      "application/vnd.jupyter.widget-view+json": {
       "model_id": "e92d1f93dcb44584a808f35060d6a634",
       "version_major": 2,
       "version_minor": 0
      },
      "text/plain": [
       "Epoch 17:   0%|          | 0/62 [00:00<?, ?bundle/s]"
      ]
     },
     "metadata": {},
     "output_type": "display_data"
    },
    {
     "name": "stdout",
     "output_type": "stream",
     "text": [
      "Epoch 017 • train=0.2358 • val=0.2572 • lr=4.81e-04\n"
     ]
    },
    {
     "data": {
      "application/vnd.jupyter.widget-view+json": {
       "model_id": "fd8bc90ad61a45bbbb43ef70c2733977",
       "version_major": 2,
       "version_minor": 0
      },
      "text/plain": [
       "Epoch 18:   0%|          | 0/62 [00:00<?, ?bundle/s]"
      ]
     },
     "metadata": {},
     "output_type": "display_data"
    },
    {
     "name": "stdout",
     "output_type": "stream",
     "text": [
      "Epoch 018 • train=0.2385 • val=0.2522 • lr=4.69e-04\n"
     ]
    },
    {
     "data": {
      "application/vnd.jupyter.widget-view+json": {
       "model_id": "22715bd93d844d5d9e52ff427e70da94",
       "version_major": 2,
       "version_minor": 0
      },
      "text/plain": [
       "Epoch 19:   0%|          | 0/62 [00:00<?, ?bundle/s]"
      ]
     },
     "metadata": {},
     "output_type": "display_data"
    },
    {
     "name": "stdout",
     "output_type": "stream",
     "text": [
      "Epoch 019 • train=0.2358 • val=0.2573 • lr=4.57e-04\n"
     ]
    },
    {
     "data": {
      "application/vnd.jupyter.widget-view+json": {
       "model_id": "788a927acccc41f88630ea734bd67240",
       "version_major": 2,
       "version_minor": 0
      },
      "text/plain": [
       "Epoch 20:   0%|          | 0/62 [00:00<?, ?bundle/s]"
      ]
     },
     "metadata": {},
     "output_type": "display_data"
    },
    {
     "name": "stdout",
     "output_type": "stream",
     "text": [
      "Epoch 020 • train=0.2347 • val=0.2488 • lr=4.44e-04\n"
     ]
    },
    {
     "data": {
      "application/vnd.jupyter.widget-view+json": {
       "model_id": "81fc65f24d73411fbdc8a4d8fde12b1d",
       "version_major": 2,
       "version_minor": 0
      },
      "text/plain": [
       "Epoch 21:   0%|          | 0/62 [00:00<?, ?bundle/s]"
      ]
     },
     "metadata": {},
     "output_type": "display_data"
    },
    {
     "name": "stdout",
     "output_type": "stream",
     "text": [
      "Epoch 021 • train=0.2366 • val=0.2539 • lr=4.31e-04\n"
     ]
    },
    {
     "data": {
      "application/vnd.jupyter.widget-view+json": {
       "model_id": "c90d4b63c2e541089de9396c95fc1fe3",
       "version_major": 2,
       "version_minor": 0
      },
      "text/plain": [
       "Epoch 22:   0%|          | 0/62 [00:00<?, ?bundle/s]"
      ]
     },
     "metadata": {},
     "output_type": "display_data"
    },
    {
     "name": "stdout",
     "output_type": "stream",
     "text": [
      "Epoch 022 • train=0.2384 • val=0.2513 • lr=4.17e-04\n"
     ]
    },
    {
     "data": {
      "application/vnd.jupyter.widget-view+json": {
       "model_id": "56c66cb52de1486b9c39e213c2dbf469",
       "version_major": 2,
       "version_minor": 0
      },
      "text/plain": [
       "Epoch 23:   0%|          | 0/62 [00:00<?, ?bundle/s]"
      ]
     },
     "metadata": {},
     "output_type": "display_data"
    },
    {
     "name": "stdout",
     "output_type": "stream",
     "text": [
      "Epoch 023 • train=0.2382 • val=0.2514 • lr=4.03e-04\n"
     ]
    },
    {
     "data": {
      "application/vnd.jupyter.widget-view+json": {
       "model_id": "a01be65ba6cb4d74bbb4ef60b43857ec",
       "version_major": 2,
       "version_minor": 0
      },
      "text/plain": [
       "Epoch 24:   0%|          | 0/62 [00:00<?, ?bundle/s]"
      ]
     },
     "metadata": {},
     "output_type": "display_data"
    },
    {
     "name": "stdout",
     "output_type": "stream",
     "text": [
      "Epoch 024 • train=0.2414 • val=0.2482 • lr=3.89e-04\n"
     ]
    },
    {
     "data": {
      "application/vnd.jupyter.widget-view+json": {
       "model_id": "3fe0a847c19e41e3816a5e516df3024f",
       "version_major": 2,
       "version_minor": 0
      },
      "text/plain": [
       "Epoch 25:   0%|          | 0/62 [00:00<?, ?bundle/s]"
      ]
     },
     "metadata": {},
     "output_type": "display_data"
    },
    {
     "name": "stdout",
     "output_type": "stream",
     "text": [
      "Epoch 025 • train=0.2402 • val=0.2498 • lr=3.75e-04\n"
     ]
    },
    {
     "data": {
      "application/vnd.jupyter.widget-view+json": {
       "model_id": "cf0f04ec4b3f4f6e8aeacb7eb9a34283",
       "version_major": 2,
       "version_minor": 0
      },
      "text/plain": [
       "Epoch 26:   0%|          | 0/62 [00:00<?, ?bundle/s]"
      ]
     },
     "metadata": {},
     "output_type": "display_data"
    },
    {
     "name": "stdout",
     "output_type": "stream",
     "text": [
      "Epoch 026 • train=0.2459 • val=0.2496 • lr=3.60e-04\n"
     ]
    },
    {
     "data": {
      "application/vnd.jupyter.widget-view+json": {
       "model_id": "0087c57593194a1e9a043301dc37a639",
       "version_major": 2,
       "version_minor": 0
      },
      "text/plain": [
       "Epoch 27:   0%|          | 0/62 [00:00<?, ?bundle/s]"
      ]
     },
     "metadata": {},
     "output_type": "display_data"
    },
    {
     "name": "stdout",
     "output_type": "stream",
     "text": [
      "Epoch 027 • train=0.2394 • val=0.2455 • lr=3.46e-04\n"
     ]
    },
    {
     "data": {
      "application/vnd.jupyter.widget-view+json": {
       "model_id": "bbf264992c604bedab5fe1b85425a19c",
       "version_major": 2,
       "version_minor": 0
      },
      "text/plain": [
       "Epoch 28:   0%|          | 0/62 [00:00<?, ?bundle/s]"
      ]
     },
     "metadata": {},
     "output_type": "display_data"
    },
    {
     "name": "stdout",
     "output_type": "stream",
     "text": [
      "Epoch 028 • train=0.2383 • val=0.2453 • lr=3.31e-04\n"
     ]
    },
    {
     "data": {
      "application/vnd.jupyter.widget-view+json": {
       "model_id": "dd5f0c6af0eb43349dd75220a52cb6ca",
       "version_major": 2,
       "version_minor": 0
      },
      "text/plain": [
       "Epoch 29:   0%|          | 0/62 [00:00<?, ?bundle/s]"
      ]
     },
     "metadata": {},
     "output_type": "display_data"
    },
    {
     "name": "stdout",
     "output_type": "stream",
     "text": [
      "Epoch 029 • train=0.2354 • val=0.2454 • lr=3.16e-04\n"
     ]
    },
    {
     "data": {
      "application/vnd.jupyter.widget-view+json": {
       "model_id": "4bfc3cb3da594616b1839f2df3c4ca73",
       "version_major": 2,
       "version_minor": 0
      },
      "text/plain": [
       "Epoch 30:   0%|          | 0/62 [00:00<?, ?bundle/s]"
      ]
     },
     "metadata": {},
     "output_type": "display_data"
    },
    {
     "name": "stdout",
     "output_type": "stream",
     "text": [
      "Epoch 030 • train=0.2331 • val=0.2475 • lr=3.01e-04\n"
     ]
    },
    {
     "data": {
      "application/vnd.jupyter.widget-view+json": {
       "model_id": "a8f58f01e46a4b86abd3888526db7181",
       "version_major": 2,
       "version_minor": 0
      },
      "text/plain": [
       "Epoch 31:   0%|          | 0/62 [00:00<?, ?bundle/s]"
      ]
     },
     "metadata": {},
     "output_type": "display_data"
    },
    {
     "name": "stdout",
     "output_type": "stream",
     "text": [
      "Epoch 031 • train=0.2297 • val=0.2493 • lr=2.86e-04\n"
     ]
    },
    {
     "data": {
      "application/vnd.jupyter.widget-view+json": {
       "model_id": "7249b867915c44f29917b1cbd035af52",
       "version_major": 2,
       "version_minor": 0
      },
      "text/plain": [
       "Epoch 32:   0%|          | 0/62 [00:00<?, ?bundle/s]"
      ]
     },
     "metadata": {},
     "output_type": "display_data"
    },
    {
     "name": "stdout",
     "output_type": "stream",
     "text": [
      "Epoch 032 • train=0.2266 • val=0.2513 • lr=2.71e-04\n"
     ]
    },
    {
     "data": {
      "application/vnd.jupyter.widget-view+json": {
       "model_id": "4b4e9438e3bf4b7181f5246236c25559",
       "version_major": 2,
       "version_minor": 0
      },
      "text/plain": [
       "Epoch 33:   0%|          | 0/62 [00:00<?, ?bundle/s]"
      ]
     },
     "metadata": {},
     "output_type": "display_data"
    },
    {
     "name": "stdout",
     "output_type": "stream",
     "text": [
      "Epoch 033 • train=0.2240 • val=0.2576 • lr=2.56e-04\n"
     ]
    },
    {
     "data": {
      "application/vnd.jupyter.widget-view+json": {
       "model_id": "ca3ac0785730492a91240492dc036750",
       "version_major": 2,
       "version_minor": 0
      },
      "text/plain": [
       "Epoch 34:   0%|          | 0/62 [00:00<?, ?bundle/s]"
      ]
     },
     "metadata": {},
     "output_type": "display_data"
    },
    {
     "name": "stdout",
     "output_type": "stream",
     "text": [
      "Epoch 034 • train=0.2179 • val=0.2570 • lr=2.41e-04\n"
     ]
    },
    {
     "data": {
      "application/vnd.jupyter.widget-view+json": {
       "model_id": "07ff1813ed684182999b61b7cf56ded1",
       "version_major": 2,
       "version_minor": 0
      },
      "text/plain": [
       "Epoch 35:   0%|          | 0/62 [00:00<?, ?bundle/s]"
      ]
     },
     "metadata": {},
     "output_type": "display_data"
    },
    {
     "name": "stdout",
     "output_type": "stream",
     "text": [
      "Epoch 035 • train=0.2178 • val=0.2592 • lr=2.26e-04\n"
     ]
    },
    {
     "data": {
      "application/vnd.jupyter.widget-view+json": {
       "model_id": "0bddde41d429451cb5da008e4ba6d3f5",
       "version_major": 2,
       "version_minor": 0
      },
      "text/plain": [
       "Epoch 36:   0%|          | 0/62 [00:00<?, ?bundle/s]"
      ]
     },
     "metadata": {},
     "output_type": "display_data"
    },
    {
     "name": "stdout",
     "output_type": "stream",
     "text": [
      "Epoch 036 • train=0.2158 • val=0.2622 • lr=2.12e-04\n"
     ]
    },
    {
     "data": {
      "application/vnd.jupyter.widget-view+json": {
       "model_id": "aa3fde35b2674283afe8f956dd2e4b58",
       "version_major": 2,
       "version_minor": 0
      },
      "text/plain": [
       "Epoch 37:   0%|          | 0/62 [00:00<?, ?bundle/s]"
      ]
     },
     "metadata": {},
     "output_type": "display_data"
    },
    {
     "name": "stdout",
     "output_type": "stream",
     "text": [
      "Epoch 037 • train=0.2137 • val=0.2653 • lr=1.98e-04\n",
      "Early stopping at epoch 37\n",
      "Saved final best model and training plot: GOOGL_0.2453.pth\n"
     ]
    },
    {
     "name": "stderr",
     "output_type": "stream",
     "text": [
      "[I 2025-07-31 10:56:53,719] Trial 7 finished with value: 0.24534500508866416 and parameters: {'DROPOUT_SHORT': 0.2360184392161507, 'DROPOUT_LONG': 0.3400700802495498, 'ATT_DROPOUT': 0.3091576841256586, 'INITIAL_LR': 0.0005873732265991671, 'ETA_MIN': 1.3370962922140752e-05, 'WEIGHT_DECAY': 5.881055528312216e-05, 'CLIPNORM': 1.4480294269303498}. Best is trial 6 with value: 0.24204569516800017.\n"
     ]
    },
    {
     "name": "stdout",
     "output_type": "stream",
     "text": [
      "\n",
      "▶ Trial 8 starting with:\n",
      "{'DROPOUT_SHORT': 0.17766360277888185, 'DROPOUT_LONG': 0.23073321238441263, 'ATT_DROPOUT': 0.3166221723719222, 'INITIAL_LR': 0.0009651607627940296, 'ETA_MIN': 1.6291804164410745e-05, 'WEIGHT_DECAY': 1.421345785602163e-05, 'CLIPNORM': 0.9006787805221901}\n",
      "\n"
     ]
    },
    {
     "data": {
      "image/png": "[encoded data removed]",
      "text/plain": [
       "<Figure size 660x440 with 1 Axes>"
      ]
     },
     "metadata": {},
     "output_type": "display_data"
    },
    {
     "data": {
      "application/vnd.jupyter.widget-view+json": {
       "model_id": "9ed4d8d9a6bc40bea347de250fdd1704",
       "version_major": 2,
       "version_minor": 0
      },
      "text/plain": [
       "Epoch 1:   0%|          | 0/62 [00:00<?, ?bundle/s]"
      ]
     },
     "metadata": {},
     "output_type": "display_data"
    },
    {
     "name": "stdout",
     "output_type": "stream",
     "text": [
      "Epoch 001 • train=0.2768 • val=0.2842 • lr=9.65e-04\n"
     ]
    },
    {
     "data": {
      "application/vnd.jupyter.widget-view+json": {
       "model_id": "a8d0d9a7183043d28fc562ff281049c7",
       "version_major": 2,
       "version_minor": 0
      },
      "text/plain": [
       "Epoch 2:   0%|          | 0/62 [00:00<?, ?bundle/s]"
      ]
     },
     "metadata": {},
     "output_type": "display_data"
    },
    {
     "name": "stdout",
     "output_type": "stream",
     "text": [
      "Epoch 002 • train=0.2351 • val=0.3052 • lr=9.63e-04\n"
     ]
    },
    {
     "data": {
      "application/vnd.jupyter.widget-view+json": {
       "model_id": "659716792be244fda22e1c1d8856357b",
       "version_major": 2,
       "version_minor": 0
      },
      "text/plain": [
       "Epoch 3:   0%|          | 0/62 [00:00<?, ?bundle/s]"
      ]
     },
     "metadata": {},
     "output_type": "display_data"
    },
    {
     "name": "stdout",
     "output_type": "stream",
     "text": [
      "Epoch 003 • train=0.1950 • val=0.2515 • lr=9.59e-04\n"
     ]
    },
    {
     "data": {
      "application/vnd.jupyter.widget-view+json": {
       "model_id": "3e7b55b1cb2e46a399c4f0090bdb7328",
       "version_major": 2,
       "version_minor": 0
      },
      "text/plain": [
       "Epoch 4:   0%|          | 0/62 [00:00<?, ?bundle/s]"
      ]
     },
     "metadata": {},
     "output_type": "display_data"
    },
    {
     "name": "stdout",
     "output_type": "stream",
     "text": [
      "Epoch 004 • train=0.2096 • val=0.2489 • lr=9.55e-04\n"
     ]
    },
    {
     "data": {
      "application/vnd.jupyter.widget-view+json": {
       "model_id": "23b8eb949515454798f4d72cb2f16206",
       "version_major": 2,
       "version_minor": 0
      },
      "text/plain": [
       "Epoch 5:   0%|          | 0/62 [00:00<?, ?bundle/s]"
      ]
     },
     "metadata": {},
     "output_type": "display_data"
    },
    {
     "name": "stdout",
     "output_type": "stream",
     "text": [
      "Epoch 005 • train=0.2233 • val=0.2491 • lr=9.49e-04\n"
     ]
    },
    {
     "data": {
      "application/vnd.jupyter.widget-view+json": {
       "model_id": "e2880fa0cfe1441b9a9fdf6d4ee829cb",
       "version_major": 2,
       "version_minor": 0
      },
      "text/plain": [
       "Epoch 6:   0%|          | 0/62 [00:00<?, ?bundle/s]"
      ]
     },
     "metadata": {},
     "output_type": "display_data"
    },
    {
     "name": "stdout",
     "output_type": "stream",
     "text": [
      "Epoch 006 • train=0.2190 • val=0.2497 • lr=9.42e-04\n"
     ]
    },
    {
     "data": {
      "application/vnd.jupyter.widget-view+json": {
       "model_id": "14e2beef4d7549cd81c5f661daef52cc",
       "version_major": 2,
       "version_minor": 0
      },
      "text/plain": [
       "Epoch 7:   0%|          | 0/62 [00:00<?, ?bundle/s]"
      ]
     },
     "metadata": {},
     "output_type": "display_data"
    },
    {
     "name": "stdout",
     "output_type": "stream",
     "text": [
      "Epoch 007 • train=0.2161 • val=0.2484 • lr=9.34e-04\n"
     ]
    },
    {
     "data": {
      "application/vnd.jupyter.widget-view+json": {
       "model_id": "e16e029451264fdd9716706754bb2c3e",
       "version_major": 2,
       "version_minor": 0
      },
      "text/plain": [
       "Epoch 8:   0%|          | 0/62 [00:00<?, ?bundle/s]"
      ]
     },
     "metadata": {},
     "output_type": "display_data"
    },
    {
     "name": "stdout",
     "output_type": "stream",
     "text": [
      "Epoch 008 • train=0.2183 • val=0.2430 • lr=9.24e-04\n"
     ]
    },
    {
     "data": {
      "application/vnd.jupyter.widget-view+json": {
       "model_id": "592300f500cc4e33becc69c58af327c8",
       "version_major": 2,
       "version_minor": 0
      },
      "text/plain": [
       "Epoch 9:   0%|          | 0/62 [00:00<?, ?bundle/s]"
      ]
     },
     "metadata": {},
     "output_type": "display_data"
    },
    {
     "name": "stdout",
     "output_type": "stream",
     "text": [
      "Epoch 009 • train=0.2234 • val=0.2523 • lr=9.14e-04\n"
     ]
    },
    {
     "data": {
      "application/vnd.jupyter.widget-view+json": {
       "model_id": "c119bdb7278c488ca10101046a95007f",
       "version_major": 2,
       "version_minor": 0
      },
      "text/plain": [
       "Epoch 10:   0%|          | 0/62 [00:00<?, ?bundle/s]"
      ]
     },
     "metadata": {},
     "output_type": "display_data"
    },
    {
     "name": "stdout",
     "output_type": "stream",
     "text": [
      "Epoch 010 • train=0.2301 • val=0.2583 • lr=9.02e-04\n"
     ]
    },
    {
     "data": {
      "application/vnd.jupyter.widget-view+json": {
       "model_id": "5c78c60cad584d49968225b615e8c813",
       "version_major": 2,
       "version_minor": 0
      },
      "text/plain": [
       "Epoch 11:   0%|          | 0/62 [00:00<?, ?bundle/s]"
      ]
     },
     "metadata": {},
     "output_type": "display_data"
    },
    {
     "name": "stdout",
     "output_type": "stream",
     "text": [
      "Epoch 011 • train=0.2353 • val=0.2579 • lr=8.89e-04\n"
     ]
    },
    {
     "data": {
      "application/vnd.jupyter.widget-view+json": {
       "model_id": "03f4f1d283e54538b25f6f1d2a2110da",
       "version_major": 2,
       "version_minor": 0
      },
      "text/plain": [
       "Epoch 12:   0%|          | 0/62 [00:00<?, ?bundle/s]"
      ]
     },
     "metadata": {},
     "output_type": "display_data"
    },
    {
     "name": "stdout",
     "output_type": "stream",
     "text": [
      "Epoch 012 • train=0.2266 • val=0.2582 • lr=8.75e-04\n"
     ]
    },
    {
     "data": {
      "application/vnd.jupyter.widget-view+json": {
       "model_id": "e9588f6a7c2b45f080502dd82e7c8ae6",
       "version_major": 2,
       "version_minor": 0
      },
      "text/plain": [
       "Epoch 13:   0%|          | 0/62 [00:00<?, ?bundle/s]"
      ]
     },
     "metadata": {},
     "output_type": "display_data"
    },
    {
     "name": "stdout",
     "output_type": "stream",
     "text": [
      "Epoch 013 • train=0.2365 • val=0.2624 • lr=8.60e-04\n"
     ]
    },
    {
     "data": {
      "application/vnd.jupyter.widget-view+json": {
       "model_id": "6449ff81d742400bb80bfbab9a0b2c75",
       "version_major": 2,
       "version_minor": 0
      },
      "text/plain": [
       "Epoch 14:   0%|          | 0/62 [00:00<?, ?bundle/s]"
      ]
     },
     "metadata": {},
     "output_type": "display_data"
    },
    {
     "name": "stdout",
     "output_type": "stream",
     "text": [
      "Epoch 014 • train=0.2373 • val=0.2678 • lr=8.44e-04\n"
     ]
    },
    {
     "data": {
      "application/vnd.jupyter.widget-view+json": {
       "model_id": "4aad6d9effc74d94830cb2ee9affd4dd",
       "version_major": 2,
       "version_minor": 0
      },
      "text/plain": [
       "Epoch 15:   0%|          | 0/62 [00:00<?, ?bundle/s]"
      ]
     },
     "metadata": {},
     "output_type": "display_data"
    },
    {
     "name": "stdout",
     "output_type": "stream",
     "text": [
      "Epoch 015 • train=0.2351 • val=0.2536 • lr=8.26e-04\n"
     ]
    },
    {
     "data": {
      "application/vnd.jupyter.widget-view+json": {
       "model_id": "b072050e20ec4a70b3aa4b714d09d13a",
       "version_major": 2,
       "version_minor": 0
      },
      "text/plain": [
       "Epoch 16:   0%|          | 0/62 [00:00<?, ?bundle/s]"
      ]
     },
     "metadata": {},
     "output_type": "display_data"
    },
    {
     "name": "stdout",
     "output_type": "stream",
     "text": [
      "Epoch 016 • train=0.2233 • val=0.2544 • lr=8.08e-04\n"
     ]
    },
    {
     "data": {
      "application/vnd.jupyter.widget-view+json": {
       "model_id": "7027a430bf134b5db04b98d798ed720a",
       "version_major": 2,
       "version_minor": 0
      },
      "text/plain": [
       "Epoch 17:   0%|          | 0/62 [00:00<?, ?bundle/s]"
      ]
     },
     "metadata": {},
     "output_type": "display_data"
    },
    {
     "name": "stdout",
     "output_type": "stream",
     "text": [
      "Epoch 017 • train=0.2347 • val=0.2572 • lr=7.90e-04\n",
      "Early stopping at epoch 17\n",
      "Saved final best model and training plot: GOOGL_0.2430.pth\n"
     ]
    },
    {
     "name": "stderr",
     "output_type": "stream",
     "text": [
      "[I 2025-07-31 11:14:06,586] Trial 8 finished with value: 0.24299525021184776 and parameters: {'DROPOUT_SHORT': 0.17766360277888185, 'DROPOUT_LONG': 0.23073321238441263, 'ATT_DROPOUT': 0.3166221723719222, 'INITIAL_LR': 0.0009651607627940296, 'ETA_MIN': 1.6291804164410745e-05, 'WEIGHT_DECAY': 1.421345785602163e-05, 'CLIPNORM': 0.9006787805221901}. Best is trial 6 with value: 0.24204569516800017.\n"
     ]
    },
    {
     "name": "stdout",
     "output_type": "stream",
     "text": [
      "\n",
      "▶ Trial 9 starting with:\n",
      "{'DROPOUT_SHORT': 0.13013789584165852, 'DROPOUT_LONG': 0.36736608680700145, 'ATT_DROPOUT': 0.22048414081601259, 'INITIAL_LR': 0.0008834651209151101, 'ETA_MIN': 3.294069059718714e-05, 'WEIGHT_DECAY': 2.6553771365314804e-05, 'CLIPNORM': 0.7352751816850819}\n",
      "\n"
     ]
    },
    {
     "data": {
      "image/png": "[encoded data removed]",
      "text/plain": [
       "<Figure size 660x440 with 1 Axes>"
      ]
     },
     "metadata": {},
     "output_type": "display_data"
    },
    {
     "data": {
      "application/vnd.jupyter.widget-view+json": {
       "model_id": "1c73ebeccf8046538591f7af3f39903c",
       "version_major": 2,
       "version_minor": 0
      },
      "text/plain": [
       "Epoch 1:   0%|          | 0/62 [00:00<?, ?bundle/s]"
      ]
     },
     "metadata": {},
     "output_type": "display_data"
    },
    {
     "name": "stdout",
     "output_type": "stream",
     "text": [
      "Epoch 001 • train=0.2757 • val=0.2731 • lr=8.83e-04\n"
     ]
    },
    {
     "data": {
      "application/vnd.jupyter.widget-view+json": {
       "model_id": "34d1c172c4f94b4d9348b0fc5bb12f0e",
       "version_major": 2,
       "version_minor": 0
      },
      "text/plain": [
       "Epoch 2:   0%|          | 0/62 [00:00<?, ?bundle/s]"
      ]
     },
     "metadata": {},
     "output_type": "display_data"
    },
    {
     "name": "stdout",
     "output_type": "stream",
     "text": [
      "Epoch 002 • train=0.2218 • val=0.2580 • lr=8.81e-04\n"
     ]
    },
    {
     "data": {
      "application/vnd.jupyter.widget-view+json": {
       "model_id": "ded78ef0bb2b45c1bb53a1e7a4647f9c",
       "version_major": 2,
       "version_minor": 0
      },
      "text/plain": [
       "Epoch 3:   0%|          | 0/62 [00:00<?, ?bundle/s]"
      ]
     },
     "metadata": {},
     "output_type": "display_data"
    },
    {
     "name": "stdout",
     "output_type": "stream",
     "text": [
      "Epoch 003 • train=0.2134 • val=0.2602 • lr=8.78e-04\n"
     ]
    },
    {
     "data": {
      "application/vnd.jupyter.widget-view+json": {
       "model_id": "a914332c497c4ee99ac9261011fb3ae6",
       "version_major": 2,
       "version_minor": 0
      },
      "text/plain": [
       "Epoch 4:   0%|          | 0/62 [00:00<?, ?bundle/s]"
      ]
     },
     "metadata": {},
     "output_type": "display_data"
    },
    {
     "name": "stdout",
     "output_type": "stream",
     "text": [
      "Epoch 004 • train=0.2192 • val=0.2900 • lr=8.74e-04\n"
     ]
    },
    {
     "data": {
      "application/vnd.jupyter.widget-view+json": {
       "model_id": "ed29c04928604fefad24809475859731",
       "version_major": 2,
       "version_minor": 0
      },
      "text/plain": [
       "Epoch 5:   0%|          | 0/62 [00:00<?, ?bundle/s]"
      ]
     },
     "metadata": {},
     "output_type": "display_data"
    },
    {
     "name": "stdout",
     "output_type": "stream",
     "text": [
      "Epoch 005 • train=0.2210 • val=0.2630 • lr=8.69e-04\n"
     ]
    },
    {
     "data": {
      "application/vnd.jupyter.widget-view+json": {
       "model_id": "be8a11368c2c4341b2ddd23b9ea8e434",
       "version_major": 2,
       "version_minor": 0
      },
      "text/plain": [
       "Epoch 6:   0%|          | 0/62 [00:00<?, ?bundle/s]"
      ]
     },
     "metadata": {},
     "output_type": "display_data"
    },
    {
     "name": "stdout",
     "output_type": "stream",
     "text": [
      "Epoch 006 • train=0.2212 • val=0.2601 • lr=8.63e-04\n"
     ]
    },
    {
     "data": {
      "application/vnd.jupyter.widget-view+json": {
       "model_id": "5b051eea6251454aa021fb1217beebb0",
       "version_major": 2,
       "version_minor": 0
      },
      "text/plain": [
       "Epoch 7:   0%|          | 0/62 [00:00<?, ?bundle/s]"
      ]
     },
     "metadata": {},
     "output_type": "display_data"
    },
    {
     "name": "stdout",
     "output_type": "stream",
     "text": [
      "Epoch 007 • train=0.2290 • val=0.2626 • lr=8.55e-04\n"
     ]
    },
    {
     "data": {
      "application/vnd.jupyter.widget-view+json": {
       "model_id": "2863d5d14517420cb846ebe0529d9ddd",
       "version_major": 2,
       "version_minor": 0
      },
      "text/plain": [
       "Epoch 8:   0%|          | 0/62 [00:00<?, ?bundle/s]"
      ]
     },
     "metadata": {},
     "output_type": "display_data"
    },
    {
     "name": "stdout",
     "output_type": "stream",
     "text": [
      "Epoch 008 • train=0.2167 • val=0.2579 • lr=8.47e-04\n"
     ]
    },
    {
     "data": {
      "application/vnd.jupyter.widget-view+json": {
       "model_id": "0fe03c84a94a4813a1e96ed9c4ccc378",
       "version_major": 2,
       "version_minor": 0
      },
      "text/plain": [
       "Epoch 9:   0%|          | 0/62 [00:00<?, ?bundle/s]"
      ]
     },
     "metadata": {},
     "output_type": "display_data"
    },
    {
     "name": "stdout",
     "output_type": "stream",
     "text": [
      "Epoch 009 • train=0.2252 • val=0.2761 • lr=8.37e-04\n"
     ]
    },
    {
     "data": {
      "application/vnd.jupyter.widget-view+json": {
       "model_id": "fec21f83fcb94004b0f9e964bdaf3245",
       "version_major": 2,
       "version_minor": 0
      },
      "text/plain": [
       "Epoch 10:   0%|          | 0/62 [00:00<?, ?bundle/s]"
      ]
     },
     "metadata": {},
     "output_type": "display_data"
    },
    {
     "name": "stdout",
     "output_type": "stream",
     "text": [
      "Epoch 010 • train=0.2321 • val=0.2621 • lr=8.27e-04\n"
     ]
    },
    {
     "data": {
      "application/vnd.jupyter.widget-view+json": {
       "model_id": "67373556cdaa4cd48089fb1a65754b98",
       "version_major": 2,
       "version_minor": 0
      },
      "text/plain": [
       "Epoch 11:   0%|          | 0/62 [00:00<?, ?bundle/s]"
      ]
     },
     "metadata": {},
     "output_type": "display_data"
    },
    {
     "name": "stdout",
     "output_type": "stream",
     "text": [
      "Epoch 011 • train=0.2453 • val=0.2790 • lr=8.15e-04\n"
     ]
    },
    {
     "data": {
      "application/vnd.jupyter.widget-view+json": {
       "model_id": "3b7028a8a60846c4a67d8379d2598bfe",
       "version_major": 2,
       "version_minor": 0
      },
      "text/plain": [
       "Epoch 12:   0%|          | 0/62 [00:00<?, ?bundle/s]"
      ]
     },
     "metadata": {},
     "output_type": "display_data"
    },
    {
     "name": "stdout",
     "output_type": "stream",
     "text": [
      "Epoch 012 • train=0.2290 • val=0.2635 • lr=8.02e-04\n"
     ]
    },
    {
     "data": {
      "application/vnd.jupyter.widget-view+json": {
       "model_id": "f368f5be1e99412c9d325d92e7dc7267",
       "version_major": 2,
       "version_minor": 0
      },
      "text/plain": [
       "Epoch 13:   0%|          | 0/62 [00:00<?, ?bundle/s]"
      ]
     },
     "metadata": {},
     "output_type": "display_data"
    },
    {
     "name": "stdout",
     "output_type": "stream",
     "text": [
      "Epoch 013 • train=0.2323 • val=0.2688 • lr=7.89e-04\n"
     ]
    },
    {
     "data": {
      "application/vnd.jupyter.widget-view+json": {
       "model_id": "6838e36f0ad6480e83db8e96c85e4be3",
       "version_major": 2,
       "version_minor": 0
      },
      "text/plain": [
       "Epoch 14:   0%|          | 0/62 [00:00<?, ?bundle/s]"
      ]
     },
     "metadata": {},
     "output_type": "display_data"
    },
    {
     "name": "stdout",
     "output_type": "stream",
     "text": [
      "Epoch 014 • train=0.2292 • val=0.2684 • lr=7.74e-04\n"
     ]
    },
    {
     "data": {
      "application/vnd.jupyter.widget-view+json": {
       "model_id": "c127c3e9eda64d1ba57634c336eb9f0f",
       "version_major": 2,
       "version_minor": 0
      },
      "text/plain": [
       "Epoch 15:   0%|          | 0/62 [00:00<?, ?bundle/s]"
      ]
     },
     "metadata": {},
     "output_type": "display_data"
    },
    {
     "name": "stdout",
     "output_type": "stream",
     "text": [
      "Epoch 015 • train=0.2311 • val=0.2579 • lr=7.59e-04\n"
     ]
    },
    {
     "data": {
      "application/vnd.jupyter.widget-view+json": {
       "model_id": "c0c5bb18a415467b8d7e50d308ea5d55",
       "version_major": 2,
       "version_minor": 0
      },
      "text/plain": [
       "Epoch 16:   0%|          | 0/62 [00:00<?, ?bundle/s]"
      ]
     },
     "metadata": {},
     "output_type": "display_data"
    },
    {
     "name": "stdout",
     "output_type": "stream",
     "text": [
      "Epoch 016 • train=0.2276 • val=0.2582 • lr=7.43e-04\n"
     ]
    },
    {
     "data": {
      "application/vnd.jupyter.widget-view+json": {
       "model_id": "bb28a9b96b47423a856517d670b5fd0d",
       "version_major": 2,
       "version_minor": 0
      },
      "text/plain": [
       "Epoch 17:   0%|          | 0/62 [00:00<?, ?bundle/s]"
      ]
     },
     "metadata": {},
     "output_type": "display_data"
    },
    {
     "name": "stdout",
     "output_type": "stream",
     "text": [
      "Epoch 017 • train=0.2373 • val=0.2575 • lr=7.26e-04\n"
     ]
    },
    {
     "data": {
      "application/vnd.jupyter.widget-view+json": {
       "model_id": "b78e9bf92d1a42389d6dc4abcc17d5e2",
       "version_major": 2,
       "version_minor": 0
      },
      "text/plain": [
       "Epoch 18:   0%|          | 0/62 [00:00<?, ?bundle/s]"
      ]
     },
     "metadata": {},
     "output_type": "display_data"
    },
    {
     "name": "stdout",
     "output_type": "stream",
     "text": [
      "Epoch 018 • train=0.2330 • val=0.2589 • lr=7.08e-04\n"
     ]
    },
    {
     "data": {
      "application/vnd.jupyter.widget-view+json": {
       "model_id": "02a91dc56639490ca35427a7474042c9",
       "version_major": 2,
       "version_minor": 0
      },
      "text/plain": [
       "Epoch 19:   0%|          | 0/62 [00:00<?, ?bundle/s]"
      ]
     },
     "metadata": {},
     "output_type": "display_data"
    },
    {
     "name": "stdout",
     "output_type": "stream",
     "text": [
      "Epoch 019 • train=0.2364 • val=0.2573 • lr=6.90e-04\n"
     ]
    },
    {
     "data": {
      "application/vnd.jupyter.widget-view+json": {
       "model_id": "094dafb0ccc148a9aa5b95b0dcf46c7c",
       "version_major": 2,
       "version_minor": 0
      },
      "text/plain": [
       "Epoch 20:   0%|          | 0/62 [00:00<?, ?bundle/s]"
      ]
     },
     "metadata": {},
     "output_type": "display_data"
    },
    {
     "name": "stdout",
     "output_type": "stream",
     "text": [
      "Epoch 020 • train=0.2405 • val=0.2571 • lr=6.71e-04\n"
     ]
    },
    {
     "data": {
      "application/vnd.jupyter.widget-view+json": {
       "model_id": "3ff8bdff79594f42a2c7d0f00c4acd53",
       "version_major": 2,
       "version_minor": 0
      },
      "text/plain": [
       "Epoch 21:   0%|          | 0/62 [00:00<?, ?bundle/s]"
      ]
     },
     "metadata": {},
     "output_type": "display_data"
    },
    {
     "name": "stdout",
     "output_type": "stream",
     "text": [
      "Epoch 021 • train=0.2413 • val=0.2568 • lr=6.52e-04\n"
     ]
    },
    {
     "data": {
      "application/vnd.jupyter.widget-view+json": {
       "model_id": "57b6a73be47e466cb97cd62850d010a1",
       "version_major": 2,
       "version_minor": 0
      },
      "text/plain": [
       "Epoch 22:   0%|          | 0/62 [00:00<?, ?bundle/s]"
      ]
     },
     "metadata": {},
     "output_type": "display_data"
    },
    {
     "name": "stdout",
     "output_type": "stream",
     "text": [
      "Epoch 022 • train=0.2401 • val=0.2534 • lr=6.32e-04\n"
     ]
    },
    {
     "data": {
      "application/vnd.jupyter.widget-view+json": {
       "model_id": "f6486e0bd37f4b73839bd1ff05a87d7a",
       "version_major": 2,
       "version_minor": 0
      },
      "text/plain": [
       "Epoch 23:   0%|          | 0/62 [00:00<?, ?bundle/s]"
      ]
     },
     "metadata": {},
     "output_type": "display_data"
    },
    {
     "name": "stdout",
     "output_type": "stream",
     "text": [
      "Epoch 023 • train=0.2381 • val=0.2552 • lr=6.11e-04\n"
     ]
    },
    {
     "data": {
      "application/vnd.jupyter.widget-view+json": {
       "model_id": "a9fbe25b83cb497bb686e5adc6b8bc72",
       "version_major": 2,
       "version_minor": 0
      },
      "text/plain": [
       "Epoch 24:   0%|          | 0/62 [00:00<?, ?bundle/s]"
      ]
     },
     "metadata": {},
     "output_type": "display_data"
    },
    {
     "name": "stdout",
     "output_type": "stream",
     "text": [
      "Epoch 024 • train=0.2400 • val=0.2577 • lr=5.90e-04\n"
     ]
    },
    {
     "data": {
      "application/vnd.jupyter.widget-view+json": {
       "model_id": "49be7a3cfd8d4400b8910a13e9565fe8",
       "version_major": 2,
       "version_minor": 0
      },
      "text/plain": [
       "Epoch 25:   0%|          | 0/62 [00:00<?, ?bundle/s]"
      ]
     },
     "metadata": {},
     "output_type": "display_data"
    },
    {
     "name": "stdout",
     "output_type": "stream",
     "text": [
      "Epoch 025 • train=0.2439 • val=0.2511 • lr=5.69e-04\n"
     ]
    },
    {
     "data": {
      "application/vnd.jupyter.widget-view+json": {
       "model_id": "ccf86c7195bb43e2b166d1804266ff4b",
       "version_major": 2,
       "version_minor": 0
      },
      "text/plain": [
       "Epoch 26:   0%|          | 0/62 [00:00<?, ?bundle/s]"
      ]
     },
     "metadata": {},
     "output_type": "display_data"
    },
    {
     "name": "stdout",
     "output_type": "stream",
     "text": [
      "Epoch 026 • train=0.2397 • val=0.2506 • lr=5.47e-04\n"
     ]
    },
    {
     "data": {
      "application/vnd.jupyter.widget-view+json": {
       "model_id": "9a1c01610fdd49c58d0b8cf3a88c5ea8",
       "version_major": 2,
       "version_minor": 0
      },
      "text/plain": [
       "Epoch 27:   0%|          | 0/62 [00:00<?, ?bundle/s]"
      ]
     },
     "metadata": {},
     "output_type": "display_data"
    },
    {
     "name": "stdout",
     "output_type": "stream",
     "text": [
      "Epoch 027 • train=0.2360 • val=0.2535 • lr=5.25e-04\n"
     ]
    },
    {
     "data": {
      "application/vnd.jupyter.widget-view+json": {
       "model_id": "4a4075d620894a518031deccadbd810b",
       "version_major": 2,
       "version_minor": 0
      },
      "text/plain": [
       "Epoch 28:   0%|          | 0/62 [00:00<?, ?bundle/s]"
      ]
     },
     "metadata": {},
     "output_type": "display_data"
    },
    {
     "name": "stdout",
     "output_type": "stream",
     "text": [
      "Epoch 028 • train=0.2273 • val=0.2505 • lr=5.03e-04\n"
     ]
    },
    {
     "data": {
      "application/vnd.jupyter.widget-view+json": {
       "model_id": "dd0dba7690b043adbd9223a92e46a984",
       "version_major": 2,
       "version_minor": 0
      },
      "text/plain": [
       "Epoch 29:   0%|          | 0/62 [00:00<?, ?bundle/s]"
      ]
     },
     "metadata": {},
     "output_type": "display_data"
    },
    {
     "name": "stdout",
     "output_type": "stream",
     "text": [
      "Epoch 029 • train=0.2325 • val=0.2520 • lr=4.81e-04\n"
     ]
    },
    {
     "data": {
      "application/vnd.jupyter.widget-view+json": {
       "model_id": "0d1aec16988940d2ae1fb6f7e48c945a",
       "version_major": 2,
       "version_minor": 0
      },
      "text/plain": [
       "Epoch 30:   0%|          | 0/62 [00:00<?, ?bundle/s]"
      ]
     },
     "metadata": {},
     "output_type": "display_data"
    },
    {
     "name": "stdout",
     "output_type": "stream",
     "text": [
      "Epoch 030 • train=0.2321 • val=0.2537 • lr=4.59e-04\n"
     ]
    },
    {
     "data": {
      "application/vnd.jupyter.widget-view+json": {
       "model_id": "5aa3db7fb50b44dca44b02e9510f784c",
       "version_major": 2,
       "version_minor": 0
      },
      "text/plain": [
       "Epoch 31:   0%|          | 0/62 [00:00<?, ?bundle/s]"
      ]
     },
     "metadata": {},
     "output_type": "display_data"
    },
    {
     "name": "stdout",
     "output_type": "stream",
     "text": [
      "Epoch 031 • train=0.2272 • val=0.2541 • lr=4.36e-04\n"
     ]
    },
    {
     "data": {
      "application/vnd.jupyter.widget-view+json": {
       "model_id": "3b7928f0c3c44665b5dfe0bd37472d64",
       "version_major": 2,
       "version_minor": 0
      },
      "text/plain": [
       "Epoch 32:   0%|          | 0/62 [00:00<?, ?bundle/s]"
      ]
     },
     "metadata": {},
     "output_type": "display_data"
    },
    {
     "name": "stdout",
     "output_type": "stream",
     "text": [
      "Epoch 032 • train=0.2252 • val=0.2577 • lr=4.14e-04\n"
     ]
    },
    {
     "data": {
      "application/vnd.jupyter.widget-view+json": {
       "model_id": "e71b6c6364fa4f34bdfdf320b488e6b6",
       "version_major": 2,
       "version_minor": 0
      },
      "text/plain": [
       "Epoch 33:   0%|          | 0/62 [00:00<?, ?bundle/s]"
      ]
     },
     "metadata": {},
     "output_type": "display_data"
    },
    {
     "name": "stdout",
     "output_type": "stream",
     "text": [
      "Epoch 033 • train=0.2206 • val=0.2594 • lr=3.92e-04\n"
     ]
    },
    {
     "data": {
      "application/vnd.jupyter.widget-view+json": {
       "model_id": "ed68f604ae574c68873c63fe0b4c2c97",
       "version_major": 2,
       "version_minor": 0
      },
      "text/plain": [
       "Epoch 34:   0%|          | 0/62 [00:00<?, ?bundle/s]"
      ]
     },
     "metadata": {},
     "output_type": "display_data"
    },
    {
     "name": "stdout",
     "output_type": "stream",
     "text": [
      "Epoch 034 • train=0.2176 • val=0.2628 • lr=3.70e-04\n"
     ]
    },
    {
     "data": {
      "application/vnd.jupyter.widget-view+json": {
       "model_id": "e2060d45f59e4a3a8c52704224a23307",
       "version_major": 2,
       "version_minor": 0
      },
      "text/plain": [
       "Epoch 35:   0%|          | 0/62 [00:00<?, ?bundle/s]"
      ]
     },
     "metadata": {},
     "output_type": "display_data"
    },
    {
     "name": "stdout",
     "output_type": "stream",
     "text": [
      "Epoch 035 • train=0.2159 • val=0.2656 • lr=3.48e-04\n"
     ]
    },
    {
     "data": {
      "application/vnd.jupyter.widget-view+json": {
       "model_id": "d3e03279305e4aceb6233c5bd703c6a2",
       "version_major": 2,
       "version_minor": 0
      },
      "text/plain": [
       "Epoch 36:   0%|          | 0/62 [00:00<?, ?bundle/s]"
      ]
     },
     "metadata": {},
     "output_type": "display_data"
    },
    {
     "name": "stdout",
     "output_type": "stream",
     "text": [
      "Epoch 036 • train=0.2137 • val=0.2698 • lr=3.27e-04\n"
     ]
    },
    {
     "data": {
      "application/vnd.jupyter.widget-view+json": {
       "model_id": "9d08b439d4de452d9bcdab7fb629eb6a",
       "version_major": 2,
       "version_minor": 0
      },
      "text/plain": [
       "Epoch 37:   0%|          | 0/62 [00:00<?, ?bundle/s]"
      ]
     },
     "metadata": {},
     "output_type": "display_data"
    },
    {
     "name": "stdout",
     "output_type": "stream",
     "text": [
      "Epoch 037 • train=0.2110 • val=0.2713 • lr=3.06e-04\n",
      "Early stopping at epoch 37\n"
     ]
    },
    {
     "name": "stderr",
     "output_type": "stream",
     "text": [
      "[I 2025-07-31 11:52:09,081] Trial 9 finished with value: 0.2505126089209274 and parameters: {'DROPOUT_SHORT': 0.13013789584165852, 'DROPOUT_LONG': 0.36736608680700145, 'ATT_DROPOUT': 0.22048414081601259, 'INITIAL_LR': 0.0008834651209151101, 'ETA_MIN': 3.294069059718714e-05, 'WEIGHT_DECAY': 2.6553771365314804e-05, 'CLIPNORM': 0.7352751816850819}. Best is trial 6 with value: 0.24204569516800017.\n"
     ]
    },
    {
     "name": "stdout",
     "output_type": "stream",
     "text": [
      "\n",
      "▶ Trial 10 starting with:\n",
      "{'DROPOUT_SHORT': 0.3605491425552138, 'DROPOUT_LONG': 0.26117743992116155, 'ATT_DROPOUT': 0.25519288359080183, 'INITIAL_LR': 0.000824648761484558, 'ETA_MIN': 4.960849202861401e-05, 'WEIGHT_DECAY': 9.288105031502387e-05, 'CLIPNORM': 1.2976058754438116}\n",
      "\n"
     ]
    },
    {
     "data": {
      "image/png": "[encoded data removed]",
      "text/plain": [
       "<Figure size 660x440 with 1 Axes>"
      ]
     },
     "metadata": {},
     "output_type": "display_data"
    },
    {
     "data": {
      "application/vnd.jupyter.widget-view+json": {
       "model_id": "1e52736e05484ecca2f5418de91aff6a",
       "version_major": 2,
       "version_minor": 0
      },
      "text/plain": [
       "Epoch 1:   0%|          | 0/62 [00:00<?, ?bundle/s]"
      ]
     },
     "metadata": {},
     "output_type": "display_data"
    },
    {
     "name": "stdout",
     "output_type": "stream",
     "text": [
      "Epoch 001 • train=0.2621 • val=0.2631 • lr=8.24e-04\n"
     ]
    },
    {
     "data": {
      "application/vnd.jupyter.widget-view+json": {
       "model_id": "4c1b0f724cbc4636bc03ff9101b00a8f",
       "version_major": 2,
       "version_minor": 0
      },
      "text/plain": [
       "Epoch 2:   0%|          | 0/62 [00:00<?, ?bundle/s]"
      ]
     },
     "metadata": {},
     "output_type": "display_data"
    },
    {
     "name": "stdout",
     "output_type": "stream",
     "text": [
      "Epoch 002 • train=0.2302 • val=0.2685 • lr=8.23e-04\n"
     ]
    },
    {
     "data": {
      "application/vnd.jupyter.widget-view+json": {
       "model_id": "02a1cb98b5894db58f5acca71fe86d5c",
       "version_major": 2,
       "version_minor": 0
      },
      "text/plain": [
       "Epoch 3:   0%|          | 0/62 [00:00<?, ?bundle/s]"
      ]
     },
     "metadata": {},
     "output_type": "display_data"
    },
    {
     "name": "stdout",
     "output_type": "stream",
     "text": [
      "Epoch 003 • train=0.2041 • val=0.2660 • lr=8.20e-04\n"
     ]
    },
    {
     "data": {
      "application/vnd.jupyter.widget-view+json": {
       "model_id": "347c1fc64fc94b14833998d6751ad761",
       "version_major": 2,
       "version_minor": 0
      },
      "text/plain": [
       "Epoch 4:   0%|          | 0/62 [00:00<?, ?bundle/s]"
      ]
     },
     "metadata": {},
     "output_type": "display_data"
    },
    {
     "name": "stdout",
     "output_type": "stream",
     "text": [
      "Epoch 004 • train=0.2086 • val=0.2523 • lr=8.16e-04\n"
     ]
    },
    {
     "data": {
      "application/vnd.jupyter.widget-view+json": {
       "model_id": "e3665221c9fe442984dc0d915ef8dbd1",
       "version_major": 2,
       "version_minor": 0
      },
      "text/plain": [
       "Epoch 5:   0%|          | 0/62 [00:00<?, ?bundle/s]"
      ]
     },
     "metadata": {},
     "output_type": "display_data"
    },
    {
     "name": "stdout",
     "output_type": "stream",
     "text": [
      "Epoch 005 • train=0.2235 • val=0.2667 • lr=8.12e-04\n"
     ]
    },
    {
     "data": {
      "application/vnd.jupyter.widget-view+json": {
       "model_id": "5ab67bf28ff24063bf365a25fa2f7ee8",
       "version_major": 2,
       "version_minor": 0
      },
      "text/plain": [
       "Epoch 6:   0%|          | 0/62 [00:00<?, ?bundle/s]"
      ]
     },
     "metadata": {},
     "output_type": "display_data"
    },
    {
     "name": "stdout",
     "output_type": "stream",
     "text": [
      "Epoch 006 • train=0.2435 • val=0.2499 • lr=8.06e-04\n"
     ]
    },
    {
     "data": {
      "application/vnd.jupyter.widget-view+json": {
       "model_id": "fc19eb3d4606498cbdb31af687fe98ab",
       "version_major": 2,
       "version_minor": 0
      },
      "text/plain": [
       "Epoch 7:   0%|          | 0/62 [00:00<?, ?bundle/s]"
      ]
     },
     "metadata": {},
     "output_type": "display_data"
    },
    {
     "name": "stdout",
     "output_type": "stream",
     "text": [
      "Epoch 007 • train=0.2363 • val=0.2579 • lr=7.99e-04\n"
     ]
    },
    {
     "data": {
      "application/vnd.jupyter.widget-view+json": {
       "model_id": "b7f39beadc9d4382b09a772bbfb134e0",
       "version_major": 2,
       "version_minor": 0
      },
      "text/plain": [
       "Epoch 8:   0%|          | 0/62 [00:00<?, ?bundle/s]"
      ]
     },
     "metadata": {},
     "output_type": "display_data"
    },
    {
     "name": "stdout",
     "output_type": "stream",
     "text": [
      "Epoch 008 • train=0.2252 • val=0.2524 • lr=7.91e-04\n"
     ]
    },
    {
     "data": {
      "application/vnd.jupyter.widget-view+json": {
       "model_id": "6f969181377f41edbc84e733e45620a6",
       "version_major": 2,
       "version_minor": 0
      },
      "text/plain": [
       "Epoch 9:   0%|          | 0/62 [00:00<?, ?bundle/s]"
      ]
     },
     "metadata": {},
     "output_type": "display_data"
    },
    {
     "name": "stdout",
     "output_type": "stream",
     "text": [
      "Epoch 009 • train=0.2262 • val=0.2485 • lr=7.83e-04\n"
     ]
    },
    {
     "data": {
      "application/vnd.jupyter.widget-view+json": {
       "model_id": "c031331738324f6d8e1adec10bdbb92e",
       "version_major": 2,
       "version_minor": 0
      },
      "text/plain": [
       "Epoch 10:   0%|          | 0/62 [00:00<?, ?bundle/s]"
      ]
     },
     "metadata": {},
     "output_type": "display_data"
    },
    {
     "name": "stdout",
     "output_type": "stream",
     "text": [
      "Epoch 010 • train=0.2251 • val=0.2533 • lr=7.73e-04\n"
     ]
    },
    {
     "data": {
      "application/vnd.jupyter.widget-view+json": {
       "model_id": "ffb3c0b2315d4c37b4a120a9e6cee54c",
       "version_major": 2,
       "version_minor": 0
      },
      "text/plain": [
       "Epoch 11:   0%|          | 0/62 [00:00<?, ?bundle/s]"
      ]
     },
     "metadata": {},
     "output_type": "display_data"
    },
    {
     "name": "stdout",
     "output_type": "stream",
     "text": [
      "Epoch 011 • train=0.2336 • val=0.2722 • lr=7.62e-04\n"
     ]
    },
    {
     "data": {
      "application/vnd.jupyter.widget-view+json": {
       "model_id": "67182154e28d479ea03303e031307f2a",
       "version_major": 2,
       "version_minor": 0
      },
      "text/plain": [
       "Epoch 12:   0%|          | 0/62 [00:00<?, ?bundle/s]"
      ]
     },
     "metadata": {},
     "output_type": "display_data"
    }
   ],
   "source": [
    "# ──────────────────────────────────────────────────────────────────────────────\n",
    "#  Create Optuna study and run optimization\n",
    "# ──────────────────────────────────────────────────────────────────────────────\n",
    "\n",
    "study = optuna.create_study(\n",
    "    storage=\"sqlite:///optuna_study.db\",    # Point it at an SQLite file so it writes out each result immediately instead of buffering in RAM\n",
    "    load_if_exists=True,\n",
    "    direction=\"minimize\",\n",
    "    pruner=MedianPruner(n_startup_trials=6, n_warmup_steps=12),\n",
    ")\n",
    "\n",
    "def cleanup_cb(study, trial):\n",
    "    # Python‐side\n",
    "    gc.collect()\n",
    "    # CUDA‐side (no‐op on CPU only)\n",
    "    if torch.cuda.is_available():\n",
    "        torch.cuda.empty_cache()\n",
    "        \n",
    "study.optimize(\n",
    "    objective_train,\n",
    "    n_trials = 120,\n",
    "    n_jobs   = 1,\n",
    "    callbacks=[live_cb, cleanup_cb],\n",
    ")\n",
    "\n",
    "# ──────────────────────────────────────────────────────────────────────────────\n",
    "#  Print out the best hyperparameters & result\n",
    "# ──────────────────────────────────────────────────────────────────────────────\n",
    "print(\"Best hyperparameters:\", study.best_params)\n",
    "print(\"Best validation RMSE:\", study.best_value)\n",
    "\n",
    "# ──────────────────────────────────────────────────────────────────────────────\n",
    "#  Compute and print parameter importances\n",
    "# ──────────────────────────────────────────────────────────────────────────────\n",
    "imps = get_param_importances(study)\n",
    "print(\"\\nHyperparameter importances (higher ⇒ more impact on RMSE):\")\n",
    "for name, score in sorted(imps.items(), key=lambda x: x[1], reverse=True):\n",
    "    print(f\"  {name:20s} : {score:.3f}\")\n",
    "\n",
    "# ──────────────────────────────────────────────────────────────────────────────\n",
    "#  Dump study results to JSON\n",
    "# ──────────────────────────────────────────────────────────────────────────────\n",
    "# 1) Build your session‐only DataFrame once\n",
    "session_df = df.between_time(params.regular_start,\n",
    "                             params.regular_end)\n",
    "\n",
    "# 2) Derive the trading‐day boundaries\n",
    "first_day = session_df.index.normalize().min()\n",
    "last_day  = session_df.index.normalize().max()\n",
    "\n",
    "# 3) Format your file name\n",
    "start_date = first_day.strftime(\"%Y%m%d\")\n",
    "end_date   = last_day.strftime(\"%Y%m%d\")\n",
    "file_name  = f\"{ticker}_{start_date}-{end_date}_optuna_model_hpars.json\"\n",
    "file_path  = os.path.join(results_folder, file_name)\n",
    "\n",
    "\n",
    "# ------------------------------------------------------------------\n",
    "# Dump study results (including importances)\n",
    "# ------------------------------------------------------------------\n",
    "\n",
    "with open(file_path, \"w\") as f:\n",
    "    json.dump(\n",
    "        {\n",
    "            \"best_params\": study.best_params,\n",
    "            \"best_value\" : study.best_value,\n",
    "            \"importances\": imps,\n",
    "            \"trials\": [\n",
    "                {\"number\": t.number, \"value\": t.value, \"params\": t.params, \n",
    "                 \"state\": t.state.name}\n",
    "                for t in study.trials\n",
    "            ],\n",
    "        },\n",
    "        f,\n",
    "        indent=4,\n",
    "    )\n",
    "\n",
    "print(f\"\\nOptuna results (and importances) saved to: {file_path}\")\n"
   ]
  },
  {
   "cell_type": "code",
   "execution_count": null,
   "id": "6865782e-fc07-4354-a5b9-2cdeed1ebad9",
   "metadata": {},
   "outputs": [],
   "source": []
  },
  {
   "cell_type": "code",
   "execution_count": null,
   "id": "cbaa9fb2-411b-4d9f-9a33-e6f6c59de7dd",
   "metadata": {},
   "outputs": [],
   "source": []
  }
 ],
 "metadata": {
  "kernelspec": {
   "display_name": "Python 3 (ipykernel)",
   "language": "python",
   "name": "python3"
  },
  "language_info": {
   "codemirror_mode": {
    "name": "ipython",
    "version": 3
   },
   "file_extension": ".py",
   "mimetype": "text/x-python",
   "name": "python",
   "nbconvert_exporter": "python",
   "pygments_lexer": "ipython3",
   "version": "3.12.3"
  }
 },
 "nbformat": 4,
 "nbformat_minor": 5
}
