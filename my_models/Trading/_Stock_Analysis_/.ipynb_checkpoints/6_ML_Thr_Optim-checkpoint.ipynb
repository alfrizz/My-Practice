{
 "cells": [
  {
   "cell_type": "code",
   "execution_count": 1,
   "id": "db53f869-3ce8-4b85-9c38-ba83b86b51b9",
   "metadata": {},
   "outputs": [],
   "source": [
    "# 1) Wipe out all Python variables\n",
    "%reset -f\n",
    "# 2) Force Python’s garbage collector to run\n",
    "import gc\n",
    "gc.collect()\n",
    "\n",
    "import importlib\n",
    "from libs import trades, plots, params, models\n",
    "importlib.reload(trades)\n",
    "importlib.reload(plots)\n",
    "importlib.reload(params)\n",
    "importlib.reload(models)\n",
    "\n",
    "import pandas as pd\n",
    "import numpy as np\n",
    "import math\n",
    "from typing import Tuple\n",
    "\n",
    "from pathlib import Path\n",
    "import pickle\n",
    "import datetime as dt\n",
    "from datetime import datetime\n",
    "from datetime import time\n",
    "\n",
    "import matplotlib.pyplot as plt   \n",
    "import seaborn as sns\n",
    "from pprint import pprint\n",
    "\n",
    "import torch\n",
    "import torch.nn.functional as Funct\n",
    "from torch.utils.data import Dataset, DataLoader\n",
    "torch.serialization.add_safe_globals([models.DayWindowDataset])\n",
    "\n",
    "from tqdm.auto import tqdm\n",
    "\n",
    "import io\n",
    "from PIL import Image\n",
    "import IPython.display as disp\n",
    "\n",
    "import optuna\n",
    "from optuna.trial import TrialState\n",
    "from optuna.importance import get_param_importances\n",
    "from optuna.visualization.matplotlib import plot_optimization_history\n",
    "from optuna.storages import RDBStorage"
   ]
  },
  {
   "cell_type": "code",
   "execution_count": 2,
   "id": "1c9b44fb-0cf5-4b31-8cdf-39d8d587234e",
   "metadata": {},
   "outputs": [],
   "source": [
    "device               = params.device\n",
    "ticker               = params.ticker\n",
    "save_path            = params.save_path\n",
    "pred_threshold       = params.pred_threshold_tick\n",
    "regular_start        = params.regular_start\n",
    "regular_start_pred   = params.regular_start_pred\n",
    "regular_start_shifted= params.regular_start_shifted\n",
    "regular_end          = params.regular_end\n",
    "look_back            = params.look_back_tick\n",
    "trailing_stop_thresh = params.trailing_stop_thresh_tick\n",
    "\n",
    "n_trials = 150\n",
    "n_jobs = 1"
   ]
  },
  {
   "cell_type": "code",
   "execution_count": 3,
   "id": "71fcfa66-3fa8-4cb4-a040-4e0b5b1804fd",
   "metadata": {},
   "outputs": [
    {
     "data": {
      "text/html": [
       "<div>\n",
       "<style scoped>\n",
       "    .dataframe tbody tr th:only-of-type {\n",
       "        vertical-align: middle;\n",
       "    }\n",
       "\n",
       "    .dataframe tbody tr th {\n",
       "        vertical-align: top;\n",
       "    }\n",
       "\n",
       "    .dataframe thead th {\n",
       "        text-align: right;\n",
       "    }\n",
       "</style>\n",
       "<table border=\"1\" class=\"dataframe\">\n",
       "  <thead>\n",
       "    <tr style=\"text-align: right;\">\n",
       "      <th></th>\n",
       "      <th>open</th>\n",
       "      <th>high</th>\n",
       "      <th>low</th>\n",
       "      <th>close</th>\n",
       "      <th>atr_14</th>\n",
       "      <th>vwap_dev</th>\n",
       "      <th>bb_width_20</th>\n",
       "      <th>ma_5</th>\n",
       "      <th>ma_20</th>\n",
       "      <th>macd_12_26</th>\n",
       "      <th>obv</th>\n",
       "      <th>in_trading</th>\n",
       "      <th>hour</th>\n",
       "      <th>bid</th>\n",
       "      <th>ask</th>\n",
       "      <th>signal_smooth</th>\n",
       "    </tr>\n",
       "  </thead>\n",
       "  <tbody>\n",
       "    <tr>\n",
       "      <th>2014-04-03 10:49:00</th>\n",
       "      <td>28.650</td>\n",
       "      <td>28.6500</td>\n",
       "      <td>28.650</td>\n",
       "      <td>28.6500</td>\n",
       "      <td>0.000000</td>\n",
       "      <td>1.240040e-16</td>\n",
       "      <td>0.000000</td>\n",
       "      <td>28.65000</td>\n",
       "      <td>28.650000</td>\n",
       "      <td>0.000000</td>\n",
       "      <td>0.000000e+00</td>\n",
       "      <td>0</td>\n",
       "      <td>10</td>\n",
       "      <td>28.641405</td>\n",
       "      <td>28.658595</td>\n",
       "      <td>0.131792</td>\n",
       "    </tr>\n",
       "    <tr>\n",
       "      <th>2014-04-03 10:50:00</th>\n",
       "      <td>28.650</td>\n",
       "      <td>28.6500</td>\n",
       "      <td>28.650</td>\n",
       "      <td>28.6500</td>\n",
       "      <td>0.000000</td>\n",
       "      <td>1.240040e-16</td>\n",
       "      <td>0.000000</td>\n",
       "      <td>28.65000</td>\n",
       "      <td>28.650000</td>\n",
       "      <td>0.000000</td>\n",
       "      <td>0.000000e+00</td>\n",
       "      <td>0</td>\n",
       "      <td>10</td>\n",
       "      <td>28.641405</td>\n",
       "      <td>28.658595</td>\n",
       "      <td>0.132326</td>\n",
       "    </tr>\n",
       "    <tr>\n",
       "      <th>2014-04-03 10:51:00</th>\n",
       "      <td>28.650</td>\n",
       "      <td>28.6500</td>\n",
       "      <td>28.650</td>\n",
       "      <td>28.6500</td>\n",
       "      <td>0.000000</td>\n",
       "      <td>1.240040e-16</td>\n",
       "      <td>0.000000</td>\n",
       "      <td>28.65000</td>\n",
       "      <td>28.650000</td>\n",
       "      <td>0.000000</td>\n",
       "      <td>0.000000e+00</td>\n",
       "      <td>0</td>\n",
       "      <td>10</td>\n",
       "      <td>28.641405</td>\n",
       "      <td>28.658595</td>\n",
       "      <td>0.132862</td>\n",
       "    </tr>\n",
       "    <tr>\n",
       "      <th>2014-04-03 10:52:00</th>\n",
       "      <td>28.650</td>\n",
       "      <td>28.6500</td>\n",
       "      <td>28.650</td>\n",
       "      <td>28.6500</td>\n",
       "      <td>0.000000</td>\n",
       "      <td>1.240040e-16</td>\n",
       "      <td>0.000000</td>\n",
       "      <td>28.65000</td>\n",
       "      <td>28.650000</td>\n",
       "      <td>0.000000</td>\n",
       "      <td>0.000000e+00</td>\n",
       "      <td>0</td>\n",
       "      <td>10</td>\n",
       "      <td>28.641405</td>\n",
       "      <td>28.658595</td>\n",
       "      <td>0.133399</td>\n",
       "    </tr>\n",
       "    <tr>\n",
       "      <th>2014-04-03 10:53:00</th>\n",
       "      <td>28.650</td>\n",
       "      <td>28.6500</td>\n",
       "      <td>28.650</td>\n",
       "      <td>28.6500</td>\n",
       "      <td>0.000000</td>\n",
       "      <td>1.240040e-16</td>\n",
       "      <td>0.000000</td>\n",
       "      <td>28.65000</td>\n",
       "      <td>28.650000</td>\n",
       "      <td>0.000000</td>\n",
       "      <td>0.000000e+00</td>\n",
       "      <td>0</td>\n",
       "      <td>10</td>\n",
       "      <td>28.641405</td>\n",
       "      <td>28.658595</td>\n",
       "      <td>0.133939</td>\n",
       "    </tr>\n",
       "    <tr>\n",
       "      <th>...</th>\n",
       "      <td>...</td>\n",
       "      <td>...</td>\n",
       "      <td>...</td>\n",
       "      <td>...</td>\n",
       "      <td>...</td>\n",
       "      <td>...</td>\n",
       "      <td>...</td>\n",
       "      <td>...</td>\n",
       "      <td>...</td>\n",
       "      <td>...</td>\n",
       "      <td>...</td>\n",
       "      <td>...</td>\n",
       "      <td>...</td>\n",
       "      <td>...</td>\n",
       "      <td>...</td>\n",
       "      <td>...</td>\n",
       "    </tr>\n",
       "    <tr>\n",
       "      <th>2025-06-18 20:56:00</th>\n",
       "      <td>173.375</td>\n",
       "      <td>173.6771</td>\n",
       "      <td>173.215</td>\n",
       "      <td>173.5650</td>\n",
       "      <td>0.304529</td>\n",
       "      <td>1.249034e+00</td>\n",
       "      <td>0.014819</td>\n",
       "      <td>173.91300</td>\n",
       "      <td>174.838390</td>\n",
       "      <td>-0.422065</td>\n",
       "      <td>3.294477e+08</td>\n",
       "      <td>1</td>\n",
       "      <td>20</td>\n",
       "      <td>173.512900</td>\n",
       "      <td>173.617100</td>\n",
       "      <td>0.001063</td>\n",
       "    </tr>\n",
       "    <tr>\n",
       "      <th>2025-06-18 20:57:00</th>\n",
       "      <td>173.565</td>\n",
       "      <td>173.5900</td>\n",
       "      <td>173.240</td>\n",
       "      <td>173.3800</td>\n",
       "      <td>0.317029</td>\n",
       "      <td>1.246621e+00</td>\n",
       "      <td>0.016242</td>\n",
       "      <td>173.73700</td>\n",
       "      <td>174.736890</td>\n",
       "      <td>-0.466939</td>\n",
       "      <td>3.288235e+08</td>\n",
       "      <td>1</td>\n",
       "      <td>20</td>\n",
       "      <td>173.328000</td>\n",
       "      <td>173.432000</td>\n",
       "      <td>0.005465</td>\n",
       "    </tr>\n",
       "    <tr>\n",
       "      <th>2025-06-18 20:58:00</th>\n",
       "      <td>173.390</td>\n",
       "      <td>173.4100</td>\n",
       "      <td>173.200</td>\n",
       "      <td>173.3100</td>\n",
       "      <td>0.323814</td>\n",
       "      <td>1.245701e+00</td>\n",
       "      <td>0.017430</td>\n",
       "      <td>173.53500</td>\n",
       "      <td>174.634390</td>\n",
       "      <td>-0.502359</td>\n",
       "      <td>3.283690e+08</td>\n",
       "      <td>1</td>\n",
       "      <td>20</td>\n",
       "      <td>173.258000</td>\n",
       "      <td>173.362000</td>\n",
       "      <td>0.007152</td>\n",
       "    </tr>\n",
       "    <tr>\n",
       "      <th>2025-06-18 20:59:00</th>\n",
       "      <td>173.315</td>\n",
       "      <td>173.4000</td>\n",
       "      <td>173.230</td>\n",
       "      <td>173.2800</td>\n",
       "      <td>0.322743</td>\n",
       "      <td>1.245284e+00</td>\n",
       "      <td>0.018221</td>\n",
       "      <td>173.38100</td>\n",
       "      <td>174.527890</td>\n",
       "      <td>-0.526778</td>\n",
       "      <td>3.272742e+08</td>\n",
       "      <td>1</td>\n",
       "      <td>20</td>\n",
       "      <td>173.228000</td>\n",
       "      <td>173.332000</td>\n",
       "      <td>0.007898</td>\n",
       "    </tr>\n",
       "    <tr>\n",
       "      <th>2025-06-18 21:00:00</th>\n",
       "      <td>173.300</td>\n",
       "      <td>174.0500</td>\n",
       "      <td>173.170</td>\n",
       "      <td>173.6097</td>\n",
       "      <td>0.374521</td>\n",
       "      <td>1.249352e+00</td>\n",
       "      <td>0.018282</td>\n",
       "      <td>173.42894</td>\n",
       "      <td>174.442375</td>\n",
       "      <td>-0.513606</td>\n",
       "      <td>3.349241e+08</td>\n",
       "      <td>0</td>\n",
       "      <td>21</td>\n",
       "      <td>173.557600</td>\n",
       "      <td>173.661800</td>\n",
       "      <td>0.000000</td>\n",
       "    </tr>\n",
       "  </tbody>\n",
       "</table>\n",
       "<p>1779401 rows × 16 columns</p>\n",
       "</div>"
      ],
      "text/plain": [
       "                        open      high      low     close    atr_14  \\\n",
       "2014-04-03 10:49:00   28.650   28.6500   28.650   28.6500  0.000000   \n",
       "2014-04-03 10:50:00   28.650   28.6500   28.650   28.6500  0.000000   \n",
       "2014-04-03 10:51:00   28.650   28.6500   28.650   28.6500  0.000000   \n",
       "2014-04-03 10:52:00   28.650   28.6500   28.650   28.6500  0.000000   \n",
       "2014-04-03 10:53:00   28.650   28.6500   28.650   28.6500  0.000000   \n",
       "...                      ...       ...      ...       ...       ...   \n",
       "2025-06-18 20:56:00  173.375  173.6771  173.215  173.5650  0.304529   \n",
       "2025-06-18 20:57:00  173.565  173.5900  173.240  173.3800  0.317029   \n",
       "2025-06-18 20:58:00  173.390  173.4100  173.200  173.3100  0.323814   \n",
       "2025-06-18 20:59:00  173.315  173.4000  173.230  173.2800  0.322743   \n",
       "2025-06-18 21:00:00  173.300  174.0500  173.170  173.6097  0.374521   \n",
       "\n",
       "                         vwap_dev  bb_width_20       ma_5       ma_20  \\\n",
       "2014-04-03 10:49:00  1.240040e-16     0.000000   28.65000   28.650000   \n",
       "2014-04-03 10:50:00  1.240040e-16     0.000000   28.65000   28.650000   \n",
       "2014-04-03 10:51:00  1.240040e-16     0.000000   28.65000   28.650000   \n",
       "2014-04-03 10:52:00  1.240040e-16     0.000000   28.65000   28.650000   \n",
       "2014-04-03 10:53:00  1.240040e-16     0.000000   28.65000   28.650000   \n",
       "...                           ...          ...        ...         ...   \n",
       "2025-06-18 20:56:00  1.249034e+00     0.014819  173.91300  174.838390   \n",
       "2025-06-18 20:57:00  1.246621e+00     0.016242  173.73700  174.736890   \n",
       "2025-06-18 20:58:00  1.245701e+00     0.017430  173.53500  174.634390   \n",
       "2025-06-18 20:59:00  1.245284e+00     0.018221  173.38100  174.527890   \n",
       "2025-06-18 21:00:00  1.249352e+00     0.018282  173.42894  174.442375   \n",
       "\n",
       "                     macd_12_26           obv  in_trading  hour         bid  \\\n",
       "2014-04-03 10:49:00    0.000000  0.000000e+00           0    10   28.641405   \n",
       "2014-04-03 10:50:00    0.000000  0.000000e+00           0    10   28.641405   \n",
       "2014-04-03 10:51:00    0.000000  0.000000e+00           0    10   28.641405   \n",
       "2014-04-03 10:52:00    0.000000  0.000000e+00           0    10   28.641405   \n",
       "2014-04-03 10:53:00    0.000000  0.000000e+00           0    10   28.641405   \n",
       "...                         ...           ...         ...   ...         ...   \n",
       "2025-06-18 20:56:00   -0.422065  3.294477e+08           1    20  173.512900   \n",
       "2025-06-18 20:57:00   -0.466939  3.288235e+08           1    20  173.328000   \n",
       "2025-06-18 20:58:00   -0.502359  3.283690e+08           1    20  173.258000   \n",
       "2025-06-18 20:59:00   -0.526778  3.272742e+08           1    20  173.228000   \n",
       "2025-06-18 21:00:00   -0.513606  3.349241e+08           0    21  173.557600   \n",
       "\n",
       "                            ask  signal_smooth  \n",
       "2014-04-03 10:49:00   28.658595       0.131792  \n",
       "2014-04-03 10:50:00   28.658595       0.132326  \n",
       "2014-04-03 10:51:00   28.658595       0.132862  \n",
       "2014-04-03 10:52:00   28.658595       0.133399  \n",
       "2014-04-03 10:53:00   28.658595       0.133939  \n",
       "...                         ...            ...  \n",
       "2025-06-18 20:56:00  173.617100       0.001063  \n",
       "2025-06-18 20:57:00  173.432000       0.005465  \n",
       "2025-06-18 20:58:00  173.362000       0.007152  \n",
       "2025-06-18 20:59:00  173.332000       0.007898  \n",
       "2025-06-18 21:00:00  173.661800       0.000000  \n",
       "\n",
       "[1779401 rows x 16 columns]"
      ]
     },
     "execution_count": 3,
     "metadata": {},
     "output_type": "execute_result"
    }
   ],
   "source": [
    "df = pd.read_csv(params.final_csv, index_col=0, parse_dates=True)\n",
    "df"
   ]
  },
  {
   "cell_type": "code",
   "execution_count": 4,
   "id": "3daba10b-3212-4a06-b607-748995bdc51b",
   "metadata": {},
   "outputs": [
    {
     "name": "stdout",
     "output_type": "stream",
     "text": [
      "{'ATT_DROPOUT': 0.3,\n",
      " 'ATT_HEADS': 8,\n",
      " 'CLIPNORM': 1,\n",
      " 'DROPOUT_LONG': 0.35,\n",
      " 'DROPOUT_SHORT': 0.25,\n",
      " 'EARLY_STOP_PATIENCE': 10,\n",
      " 'ETA_MIN': 2e-05,\n",
      " 'INITIAL_LR': 0.0007,\n",
      " 'LONG_UNITS': 128,\n",
      " 'LR_EPOCHS_WARMUP': 1,\n",
      " 'MAX_EPOCHS': 60,\n",
      " 'MIN_LR': 1e-06,\n",
      " 'NUM_WORKERS': 2,\n",
      " 'PLATEAU_FACTOR': 0.9,\n",
      " 'PLATEAU_PATIENCE': 0,\n",
      " 'PLAT_EPOCHS_WARMUP': 999,\n",
      " 'SHORT_UNITS': 96,\n",
      " 'TRAIN_BATCH': 32,\n",
      " 'TRAIN_PREFETCH_FACTOR': 1,\n",
      " 'T_0': 60,\n",
      " 'T_MULT': 1,\n",
      " 'VAL_BATCH': 1,\n",
      " 'WEIGHT_DECAY': 0.0001}\n"
     ]
    },
    {
     "data": {
      "image/png": "[encoded data removed]",
      "text/plain": [
       "<PIL.PngImagePlugin.PngImageFile image mode=RGBA size=660x440>"
      ]
     },
     "metadata": {},
     "output_type": "display_data"
    },
    {
     "data": {
      "text/plain": [
       "DualMemoryLSTM(\n",
       "  (short_lstm): LSTM(13, 96, batch_first=True)\n",
       "  (attn): MultiheadAttention(\n",
       "    (out_proj): NonDynamicallyQuantizableLinear(in_features=96, out_features=96, bias=True)\n",
       "  )\n",
       "  (do_short): Dropout(p=0.2399271376034191, inplace=False)\n",
       "  (ln_short): LayerNorm((96,), eps=1e-05, elementwise_affine=True)\n",
       "  (long_lstm): LSTM(96, 128, batch_first=True)\n",
       "  (do_long): Dropout(p=0.2549328387263775, inplace=False)\n",
       "  (ln_long): LayerNorm((128,), eps=1e-05, elementwise_affine=True)\n",
       "  (pred): Linear(in_features=128, out_features=1, bias=True)\n",
       ")"
      ]
     },
     "execution_count": 4,
     "metadata": {},
     "output_type": "execute_result"
    }
   ],
   "source": [
    "# Load the entire model object (architecture + weights)# 1) load your checkpoint dict\n",
    "ckpt = torch.load(params.model_path, map_location=device, weights_only=False)\n",
    "\n",
    "# 2) grab the full model object you saved\n",
    "model_best = ckpt[\"model_obj\"]\n",
    "\n",
    "# 3) move to device and set eval mode\n",
    "model_best = model_best.to(device).eval()\n",
    "\n",
    "# 4) show parameters, training plot, and model\n",
    "saved_hparams = ckpt[\"hparams\"]\n",
    "pprint(saved_hparams)\n",
    "\n",
    "png_bytes = ckpt.get(\"train_plot_png\")\n",
    "img = Image.open(io.BytesIO(png_bytes))\n",
    "disp.display(img)\n",
    "\n",
    "model_best\n"
   ]
  },
  {
   "cell_type": "code",
   "execution_count": 5,
   "id": "c93385fa-870a-4259-ad0c-05d68180afcf",
   "metadata": {},
   "outputs": [
    {
     "name": "stdout",
     "output_type": "stream",
     "text": [
      "executing <build_lstm_tensors>...\n",
      "executing <chronological_split>...\n",
      "executing <split_to_day_datasets>...\n",
      "▶️ Entered split_to_day_datasets\n",
      "1) building weekday arrays\n",
      "   Weekdays counts → tr=1013805, val=211554, te=215642\n",
      "2) moving all splits to CPU\n",
      "   CPU casts done\n",
      "3) zero-bas­ing day_id for val & test\n",
      "   val_day_id ∈ [0..413], total days=414\n",
      "   te_day_id  ∈ [0..421], total days=422\n",
      "4) instantiating DayWindowDatasets\n",
      "   ds_tr days: 1984\n",
      "   ds_val days: 414\n",
      "   ds_te days: 422\n",
      "5) building DataLoaders\n",
      "   train_loader ready\n",
      "   val_loader ready\n",
      "   test_loader ready\n",
      "dataloaders generated!\n"
     ]
    }
   ],
   "source": [
    "print('executing <build_lstm_tensors>...')\n",
    "X, y, raw_close, raw_bid, raw_ask = models.build_lstm_tensors(\n",
    "    df=df,\n",
    "    look_back=look_back,\n",
    "    features_cols=params.features_cols,\n",
    "    label_col=params.label_col,\n",
    "    regular_start=regular_start_pred \n",
    ")\n",
    "\n",
    "print('executing <chronological_split>...')\n",
    "(X_tr, y_tr), \\\n",
    "(X_val, y_val), \\\n",
    "(X_te, y_te, raw_close_te, raw_bid_te, raw_ask_te), \\\n",
    "samples_per_day, day_id_tr, day_id_val, day_id_te = models.chronological_split(\n",
    "    X, y, raw_close, raw_bid, raw_ask, df,\n",
    "    look_back    = look_back,\n",
    "    regular_start=regular_start_pred, \n",
    "    train_prop   = params.train_prop,\n",
    "    val_prop     = params.val_prop,\n",
    "    train_batch  = params.hparams['TRAIN_BATCH']\n",
    ")\n",
    "\n",
    "print('executing <split_to_day_datasets>...')\n",
    "train_loader, val_loader, test_loader = models.split_to_day_datasets(\n",
    "    # Training split arrays (from chronological_split)\n",
    "    X_tr, y_tr, day_id_tr,\n",
    "    # Validation split arrays\n",
    "    X_val, y_val, day_id_val,\n",
    "    # Test split arrays + raw prices for post‐tracking\n",
    "    X_te, y_te, day_id_te, raw_close_te, raw_bid_te, raw_ask_te,\n",
    "    # Original minute‐bar DataFrame for weekday mapping\n",
    "    df=df,\n",
    "    train_batch=params.hparams['TRAIN_BATCH'],\n",
    "    train_workers=params.hparams['NUM_WORKERS']\n",
    ")\n",
    "\n",
    "print('dataloaders generated!')"
   ]
  },
  {
   "cell_type": "code",
   "execution_count": 6,
   "id": "9cc3bb61-a03f-466d-9fde-ed65753fc6b2",
   "metadata": {},
   "outputs": [
    {
     "name": "stdout",
     "output_type": "stream",
     "text": [
      "Val zero‐forecast baseline RMSE  = 0.46607\n",
      "Test zero‐forecast baseline RMSE = 0.51381\n"
     ]
    }
   ],
   "source": [
    "# zero‐forecast baseline on val vs test\n",
    "# √( mean( (yᵢ – 0)² ) )\n",
    "\n",
    "val_baseline  = models.naive_rmse(val_loader)\n",
    "test_baseline = models.naive_rmse(test_loader)\n",
    "\n",
    "print(f\"Val zero‐forecast baseline RMSE  = {val_baseline:.5f}\")\n",
    "print(f\"Test zero‐forecast baseline RMSE = {test_baseline:.5f}\")"
   ]
  },
  {
   "cell_type": "code",
   "execution_count": 7,
   "id": "ce154412-6773-4774-bc9f-7bc5f74f981d",
   "metadata": {},
   "outputs": [
    {
     "name": "stdout",
     "output_type": "stream",
     "text": [
      "std val: 0.30977806\n",
      "std test: 0.32248157\n"
     ]
    },
    {
     "data": {
      "image/png": "[encoded data removed]",
      "text/plain": [
       "<Figure size 640x480 with 1 Axes>"
      ]
     },
     "metadata": {},
     "output_type": "display_data"
    }
   ],
   "source": [
    "# to confirm the baseline proportions, calculate the STD\n",
    "# σ = √( mean( (yᵢ – ȳ)² ) )\n",
    "\n",
    "y_vals = np.concatenate([batch[1].view(-1).numpy()\n",
    "                         for batch in val_loader])\n",
    "y_tes  = np.concatenate([batch[1].view(-1).numpy()\n",
    "                         for batch in test_loader])\n",
    "print(\"std val:\", np.std(y_vals))\n",
    "print(\"std test:\", np.std(y_tes))\n",
    "\n",
    "plt.hist(y_vals, bins=100, alpha=0.5, label=\"val\")\n",
    "plt.hist(y_tes,  bins=100, alpha=0.5, label=\"test\")\n",
    "plt.legend(); plt.show()"
   ]
  },
  {
   "cell_type": "code",
   "execution_count": 8,
   "id": "2e3fd008-4a5d-44fd-9bb4-c4e70e4c8ea0",
   "metadata": {},
   "outputs": [],
   "source": [
    "def evaluate_model(\n",
    "    model: torch.nn.Module,\n",
    "    loader: torch.utils.data.DataLoader,\n",
    "    device: torch.device,\n",
    "    split_name: str\n",
    ") -> Tuple[float, np.ndarray]:\n",
    "    \"\"\"\n",
    "    Fast per-day RMSE + preds, exactly matching  val‐phase logic:\n",
    "\n",
    "    • Expects each batch from `loader` to be a tuple of at least\n",
    "      (xb_batch, yb_batch, day_id_batch, …). We only use the first 3.\n",
    "    • xb_batch: Tensor(B, W, look_back, F)\n",
    "    • yb_batch: Tensor(B, W)\n",
    "    • day_id_batch: Tensor(B,) or (B, W) weekday/day‐id\n",
    "    \"\"\"\n",
    "\n",
    "    model.to(device).eval()\n",
    "    model.h_short = model.h_long = None\n",
    "\n",
    "    prev_day_id   = None\n",
    "    total_sq_err  = 0.0\n",
    "    total_windows = 0\n",
    "    all_preds     = []\n",
    "\n",
    "    with torch.no_grad():\n",
    "        for batch in tqdm(loader, desc=split_name, unit=\"batch\"):\n",
    "            # grab only the first three outputs, ignore raw_close/raw_bid/etc.\n",
    "            xb_batch, yb_batch, day_id_batch = batch[:3]\n",
    "\n",
    "            # move to device once\n",
    "            xb_batch     = xb_batch.to(device, non_blocking=True)\n",
    "            yb_batch     = yb_batch.to(device, non_blocking=True)\n",
    "            day_id_batch = day_id_batch.to(device, non_blocking=True)\n",
    "\n",
    "            # if we got one day_id per window, reduce to one/day\n",
    "            if day_id_batch.dim() > 1:\n",
    "                day_id_batch = day_id_batch[:, 0]\n",
    "\n",
    "            B, W = xb_batch.shape[0], xb_batch.shape[1]\n",
    "\n",
    "            for i in range(B):\n",
    "                x_day  = xb_batch[i]             # (W, look_back, F)\n",
    "                y_day  = yb_batch[i].view(-1)    # (W,)\n",
    "                day_id = int(day_id_batch[i].item())\n",
    "\n",
    "                # reset LSTM states exactly as in val loop\n",
    "                model.reset_short()\n",
    "                if prev_day_id is not None and day_id < prev_day_id:\n",
    "                    model.reset_long()\n",
    "                prev_day_id = day_id\n",
    "\n",
    "                out      = model(x_day)          # (W, look_back, 1)\n",
    "                pred_day = out[:, -1, 0]         # (W,)\n",
    "\n",
    "                total_sq_err  += (pred_day - y_day).pow(2).sum().item()\n",
    "                total_windows += y_day.numel()\n",
    "                all_preds.append(pred_day.cpu().numpy())\n",
    "\n",
    "    rmse  = math.sqrt(total_sq_err / total_windows)\n",
    "    preds = np.concatenate(all_preds, axis=0)\n",
    "\n",
    "    print(f\"\\n{split_name} RMSE over {total_windows} windows = {rmse:.5f}\")\n",
    "    return rmse, preds\n"
   ]
  },
  {
   "cell_type": "code",
   "execution_count": 9,
   "id": "d557c7f6-8653-4b5c-afc2-e16ba8daf319",
   "metadata": {},
   "outputs": [
    {
     "data": {
      "application/vnd.jupyter.widget-view+json": {
       "model_id": "2f64b68550584c739217f6f77e990fe6",
       "version_major": 2,
       "version_minor": 0
      },
      "text/plain": [
       "Train:   0%|          | 0/62 [00:00<?, ?batch/s]"
      ]
     },
     "metadata": {},
     "output_type": "display_data"
    },
    {
     "name": "stdout",
     "output_type": "stream",
     "text": [
      "\n",
      "Train RMSE over 1013824 windows = 0.28489\n"
     ]
    },
    {
     "data": {
      "application/vnd.jupyter.widget-view+json": {
       "model_id": "b18e8cb425ee4a9f891f5b16e8ebf2c3",
       "version_major": 2,
       "version_minor": 0
      },
      "text/plain": [
       "Validation:   0%|          | 0/414 [00:00<?, ?batch/s]"
      ]
     },
     "metadata": {},
     "output_type": "display_data"
    },
    {
     "name": "stdout",
     "output_type": "stream",
     "text": [
      "\n",
      "Validation RMSE over 211554 windows = 0.24320\n"
     ]
    },
    {
     "data": {
      "application/vnd.jupyter.widget-view+json": {
       "model_id": "c6a83c1549dc40698a51ba4b1c5cfeaf",
       "version_major": 2,
       "version_minor": 0
      },
      "text/plain": [
       "Test:   0%|          | 0/422 [00:00<?, ?batch/s]"
      ]
     },
     "metadata": {},
     "output_type": "display_data"
    },
    {
     "name": "stdout",
     "output_type": "stream",
     "text": [
      "\n",
      "Test RMSE over 215642 windows = 0.26929\n",
      "Train preds: 1013824\n",
      "Val   preds: 211554\n",
      "Test  preds: 215642\n"
     ]
    }
   ],
   "source": [
    "train_rmse, train_preds = evaluate_model(\n",
    "    model_best, train_loader, device,\n",
    "    split_name=\"Train\"\n",
    ")\n",
    "val_rmse, val_preds     = evaluate_model(\n",
    "    model_best, val_loader,   device,\n",
    "    split_name=\"Validation\"\n",
    ")\n",
    "test_rmse, test_preds   = evaluate_model(\n",
    "    model_best, test_loader,  device,\n",
    "    split_name=\"Test\"\n",
    ")\n",
    "\n",
    "print(\"Train preds:\", len(train_preds))\n",
    "print(\"Val   preds:\", len(val_preds))\n",
    "print(\"Test  preds:\", len(test_preds))"
   ]
  },
  {
   "cell_type": "code",
   "execution_count": 10,
   "id": "562d6d29-9f71-45ac-b17a-f6180ff2c4b1",
   "metadata": {},
   "outputs": [],
   "source": [
    "def add_pred_and_split(\n",
    "    df: pd.DataFrame,\n",
    "    train_preds: np.ndarray,\n",
    "    val_preds: np.ndarray,\n",
    "    test_preds: np.ndarray,\n",
    "    day_id_tr: np.ndarray,\n",
    "    day_id_val: np.ndarray,\n",
    "    day_id_te: np.ndarray\n",
    ") -> Tuple[pd.DataFrame, pd.DataFrame]:\n",
    "    \"\"\"\n",
    "    Stamp pred_signal for every bar from regular_start_pred onward,\n",
    "    then simulate actions from regular_start\n",
    "    \"\"\"\n",
    "    # 1) Prepare the output DataFrame\n",
    "    df_out = df.copy()\n",
    "    df_out[\"pred_signal\"] = np.nan\n",
    "    df_out[\"pred_action\"] = 0\n",
    "\n",
    "    # 2) Map day-id arrays → calendar dates\n",
    "    all_days = sorted(df_out.index.normalize().unique())\n",
    "    tr_days  = [all_days[i] for i in np.unique(day_id_tr).astype(int)]\n",
    "    val_days = [all_days[i] for i in np.unique(day_id_val).astype(int)]\n",
    "    te_days  = [all_days[i] for i in np.unique(day_id_te).astype(int)]\n",
    "\n",
    "    # 3) Generic function to stamp preds on each split\n",
    "    def stamp_split(days, preds, name):\n",
    "        mask = (\n",
    "            df_out.index.normalize().isin(days)\n",
    "            & (df_out.index.time >= regular_start_pred)\n",
    "        )\n",
    "        idx = df_out.loc[mask].index\n",
    "        if len(idx) != len(preds):\n",
    "            raise ValueError(\n",
    "                f\"{name}: expected {len(idx)} slots, got {len(preds)} preds\"\n",
    "            )\n",
    "        df_out.loc[idx, \"pred_signal\"] = preds\n",
    "\n",
    "    # 4) Stamp Train, Val, Test\n",
    "    stamp_split(tr_days, train_preds, name=\"Train\")\n",
    "    stamp_split(val_days, val_preds,   name=\"Val\")\n",
    "    stamp_split(te_days,  test_preds,  name=\"Test\")\n",
    "\n",
    "    train_val_days = set(tr_days + val_days)\n",
    "    df_train_val  = df_out[df_out.index.normalize().isin(train_val_days)].copy()\n",
    "    df_test       = df_out[df_out.index.normalize().isin(te_days)].copy()\n",
    "\n",
    "    return df_train_val, train_val_days, df_test, te_days\n"
   ]
  },
  {
   "cell_type": "code",
   "execution_count": 11,
   "id": "3ba6b01a-609f-4680-ae10-cbce10f0eaf4",
   "metadata": {},
   "outputs": [
    {
     "data": {
      "text/html": [
       "<div>\n",
       "<style scoped>\n",
       "    .dataframe tbody tr th:only-of-type {\n",
       "        vertical-align: middle;\n",
       "    }\n",
       "\n",
       "    .dataframe tbody tr th {\n",
       "        vertical-align: top;\n",
       "    }\n",
       "\n",
       "    .dataframe thead th {\n",
       "        text-align: right;\n",
       "    }\n",
       "</style>\n",
       "<table border=\"1\" class=\"dataframe\">\n",
       "  <thead>\n",
       "    <tr style=\"text-align: right;\">\n",
       "      <th></th>\n",
       "      <th>open</th>\n",
       "      <th>high</th>\n",
       "      <th>low</th>\n",
       "      <th>close</th>\n",
       "      <th>atr_14</th>\n",
       "      <th>vwap_dev</th>\n",
       "      <th>bb_width_20</th>\n",
       "      <th>ma_5</th>\n",
       "      <th>ma_20</th>\n",
       "      <th>macd_12_26</th>\n",
       "      <th>obv</th>\n",
       "      <th>in_trading</th>\n",
       "      <th>hour</th>\n",
       "      <th>bid</th>\n",
       "      <th>ask</th>\n",
       "      <th>signal_smooth</th>\n",
       "      <th>pred_signal</th>\n",
       "      <th>pred_action</th>\n",
       "    </tr>\n",
       "  </thead>\n",
       "  <tbody>\n",
       "    <tr>\n",
       "      <th>2014-04-03 10:49:00</th>\n",
       "      <td>28.650</td>\n",
       "      <td>28.65</td>\n",
       "      <td>28.650</td>\n",
       "      <td>28.650</td>\n",
       "      <td>0.000000</td>\n",
       "      <td>1.240040e-16</td>\n",
       "      <td>0.000000</td>\n",
       "      <td>28.650</td>\n",
       "      <td>28.65000</td>\n",
       "      <td>0.000000</td>\n",
       "      <td>0.000000e+00</td>\n",
       "      <td>0</td>\n",
       "      <td>10</td>\n",
       "      <td>28.641405</td>\n",
       "      <td>28.658595</td>\n",
       "      <td>0.131792</td>\n",
       "      <td>NaN</td>\n",
       "      <td>0</td>\n",
       "    </tr>\n",
       "    <tr>\n",
       "      <th>2014-04-03 10:50:00</th>\n",
       "      <td>28.650</td>\n",
       "      <td>28.65</td>\n",
       "      <td>28.650</td>\n",
       "      <td>28.650</td>\n",
       "      <td>0.000000</td>\n",
       "      <td>1.240040e-16</td>\n",
       "      <td>0.000000</td>\n",
       "      <td>28.650</td>\n",
       "      <td>28.65000</td>\n",
       "      <td>0.000000</td>\n",
       "      <td>0.000000e+00</td>\n",
       "      <td>0</td>\n",
       "      <td>10</td>\n",
       "      <td>28.641405</td>\n",
       "      <td>28.658595</td>\n",
       "      <td>0.132326</td>\n",
       "      <td>NaN</td>\n",
       "      <td>0</td>\n",
       "    </tr>\n",
       "    <tr>\n",
       "      <th>2014-04-03 10:51:00</th>\n",
       "      <td>28.650</td>\n",
       "      <td>28.65</td>\n",
       "      <td>28.650</td>\n",
       "      <td>28.650</td>\n",
       "      <td>0.000000</td>\n",
       "      <td>1.240040e-16</td>\n",
       "      <td>0.000000</td>\n",
       "      <td>28.650</td>\n",
       "      <td>28.65000</td>\n",
       "      <td>0.000000</td>\n",
       "      <td>0.000000e+00</td>\n",
       "      <td>0</td>\n",
       "      <td>10</td>\n",
       "      <td>28.641405</td>\n",
       "      <td>28.658595</td>\n",
       "      <td>0.132862</td>\n",
       "      <td>NaN</td>\n",
       "      <td>0</td>\n",
       "    </tr>\n",
       "    <tr>\n",
       "      <th>2014-04-03 10:52:00</th>\n",
       "      <td>28.650</td>\n",
       "      <td>28.65</td>\n",
       "      <td>28.650</td>\n",
       "      <td>28.650</td>\n",
       "      <td>0.000000</td>\n",
       "      <td>1.240040e-16</td>\n",
       "      <td>0.000000</td>\n",
       "      <td>28.650</td>\n",
       "      <td>28.65000</td>\n",
       "      <td>0.000000</td>\n",
       "      <td>0.000000e+00</td>\n",
       "      <td>0</td>\n",
       "      <td>10</td>\n",
       "      <td>28.641405</td>\n",
       "      <td>28.658595</td>\n",
       "      <td>0.133399</td>\n",
       "      <td>NaN</td>\n",
       "      <td>0</td>\n",
       "    </tr>\n",
       "    <tr>\n",
       "      <th>2014-04-03 10:53:00</th>\n",
       "      <td>28.650</td>\n",
       "      <td>28.65</td>\n",
       "      <td>28.650</td>\n",
       "      <td>28.650</td>\n",
       "      <td>0.000000</td>\n",
       "      <td>1.240040e-16</td>\n",
       "      <td>0.000000</td>\n",
       "      <td>28.650</td>\n",
       "      <td>28.65000</td>\n",
       "      <td>0.000000</td>\n",
       "      <td>0.000000e+00</td>\n",
       "      <td>0</td>\n",
       "      <td>10</td>\n",
       "      <td>28.641405</td>\n",
       "      <td>28.658595</td>\n",
       "      <td>0.133939</td>\n",
       "      <td>NaN</td>\n",
       "      <td>0</td>\n",
       "    </tr>\n",
       "    <tr>\n",
       "      <th>...</th>\n",
       "      <td>...</td>\n",
       "      <td>...</td>\n",
       "      <td>...</td>\n",
       "      <td>...</td>\n",
       "      <td>...</td>\n",
       "      <td>...</td>\n",
       "      <td>...</td>\n",
       "      <td>...</td>\n",
       "      <td>...</td>\n",
       "      <td>...</td>\n",
       "      <td>...</td>\n",
       "      <td>...</td>\n",
       "      <td>...</td>\n",
       "      <td>...</td>\n",
       "      <td>...</td>\n",
       "      <td>...</td>\n",
       "      <td>...</td>\n",
       "      <td>...</td>\n",
       "    </tr>\n",
       "    <tr>\n",
       "      <th>2023-10-11 20:56:00</th>\n",
       "      <td>140.510</td>\n",
       "      <td>140.62</td>\n",
       "      <td>140.505</td>\n",
       "      <td>140.610</td>\n",
       "      <td>0.105893</td>\n",
       "      <td>1.165021e+00</td>\n",
       "      <td>0.002115</td>\n",
       "      <td>140.546</td>\n",
       "      <td>140.52549</td>\n",
       "      <td>0.040273</td>\n",
       "      <td>3.336946e+08</td>\n",
       "      <td>1</td>\n",
       "      <td>20</td>\n",
       "      <td>140.567800</td>\n",
       "      <td>140.652200</td>\n",
       "      <td>0.000000</td>\n",
       "      <td>0.315324</td>\n",
       "      <td>0</td>\n",
       "    </tr>\n",
       "    <tr>\n",
       "      <th>2023-10-11 20:57:00</th>\n",
       "      <td>140.610</td>\n",
       "      <td>140.66</td>\n",
       "      <td>140.530</td>\n",
       "      <td>140.550</td>\n",
       "      <td>0.112493</td>\n",
       "      <td>1.164094e+00</td>\n",
       "      <td>0.001804</td>\n",
       "      <td>140.544</td>\n",
       "      <td>140.53499</td>\n",
       "      <td>0.038238</td>\n",
       "      <td>3.335539e+08</td>\n",
       "      <td>1</td>\n",
       "      <td>20</td>\n",
       "      <td>140.507800</td>\n",
       "      <td>140.592200</td>\n",
       "      <td>0.000000</td>\n",
       "      <td>0.315321</td>\n",
       "      <td>0</td>\n",
       "    </tr>\n",
       "    <tr>\n",
       "      <th>2023-10-11 20:58:00</th>\n",
       "      <td>140.550</td>\n",
       "      <td>140.60</td>\n",
       "      <td>140.530</td>\n",
       "      <td>140.585</td>\n",
       "      <td>0.111071</td>\n",
       "      <td>1.164628e+00</td>\n",
       "      <td>0.001544</td>\n",
       "      <td>140.548</td>\n",
       "      <td>140.54474</td>\n",
       "      <td>0.039000</td>\n",
       "      <td>3.336994e+08</td>\n",
       "      <td>1</td>\n",
       "      <td>20</td>\n",
       "      <td>140.542800</td>\n",
       "      <td>140.627200</td>\n",
       "      <td>0.000000</td>\n",
       "      <td>0.314707</td>\n",
       "      <td>0</td>\n",
       "    </tr>\n",
       "    <tr>\n",
       "      <th>2023-10-11 20:59:00</th>\n",
       "      <td>140.580</td>\n",
       "      <td>140.62</td>\n",
       "      <td>140.520</td>\n",
       "      <td>140.565</td>\n",
       "      <td>0.112571</td>\n",
       "      <td>1.164309e+00</td>\n",
       "      <td>0.001464</td>\n",
       "      <td>140.564</td>\n",
       "      <td>140.54949</td>\n",
       "      <td>0.037557</td>\n",
       "      <td>3.332814e+08</td>\n",
       "      <td>1</td>\n",
       "      <td>20</td>\n",
       "      <td>140.522800</td>\n",
       "      <td>140.607200</td>\n",
       "      <td>0.000000</td>\n",
       "      <td>0.313636</td>\n",
       "      <td>0</td>\n",
       "    </tr>\n",
       "    <tr>\n",
       "      <th>2023-10-11 21:00:00</th>\n",
       "      <td>140.565</td>\n",
       "      <td>140.62</td>\n",
       "      <td>140.500</td>\n",
       "      <td>140.570</td>\n",
       "      <td>0.115429</td>\n",
       "      <td>1.164235e+00</td>\n",
       "      <td>0.001451</td>\n",
       "      <td>140.576</td>\n",
       "      <td>140.55224</td>\n",
       "      <td>0.036397</td>\n",
       "      <td>3.388172e+08</td>\n",
       "      <td>0</td>\n",
       "      <td>21</td>\n",
       "      <td>140.527800</td>\n",
       "      <td>140.612200</td>\n",
       "      <td>0.000000</td>\n",
       "      <td>0.312544</td>\n",
       "      <td>0</td>\n",
       "    </tr>\n",
       "  </tbody>\n",
       "</table>\n",
       "<p>1513119 rows × 18 columns</p>\n",
       "</div>"
      ],
      "text/plain": [
       "                        open    high      low    close    atr_14  \\\n",
       "2014-04-03 10:49:00   28.650   28.65   28.650   28.650  0.000000   \n",
       "2014-04-03 10:50:00   28.650   28.65   28.650   28.650  0.000000   \n",
       "2014-04-03 10:51:00   28.650   28.65   28.650   28.650  0.000000   \n",
       "2014-04-03 10:52:00   28.650   28.65   28.650   28.650  0.000000   \n",
       "2014-04-03 10:53:00   28.650   28.65   28.650   28.650  0.000000   \n",
       "...                      ...     ...      ...      ...       ...   \n",
       "2023-10-11 20:56:00  140.510  140.62  140.505  140.610  0.105893   \n",
       "2023-10-11 20:57:00  140.610  140.66  140.530  140.550  0.112493   \n",
       "2023-10-11 20:58:00  140.550  140.60  140.530  140.585  0.111071   \n",
       "2023-10-11 20:59:00  140.580  140.62  140.520  140.565  0.112571   \n",
       "2023-10-11 21:00:00  140.565  140.62  140.500  140.570  0.115429   \n",
       "\n",
       "                         vwap_dev  bb_width_20     ma_5      ma_20  \\\n",
       "2014-04-03 10:49:00  1.240040e-16     0.000000   28.650   28.65000   \n",
       "2014-04-03 10:50:00  1.240040e-16     0.000000   28.650   28.65000   \n",
       "2014-04-03 10:51:00  1.240040e-16     0.000000   28.650   28.65000   \n",
       "2014-04-03 10:52:00  1.240040e-16     0.000000   28.650   28.65000   \n",
       "2014-04-03 10:53:00  1.240040e-16     0.000000   28.650   28.65000   \n",
       "...                           ...          ...      ...        ...   \n",
       "2023-10-11 20:56:00  1.165021e+00     0.002115  140.546  140.52549   \n",
       "2023-10-11 20:57:00  1.164094e+00     0.001804  140.544  140.53499   \n",
       "2023-10-11 20:58:00  1.164628e+00     0.001544  140.548  140.54474   \n",
       "2023-10-11 20:59:00  1.164309e+00     0.001464  140.564  140.54949   \n",
       "2023-10-11 21:00:00  1.164235e+00     0.001451  140.576  140.55224   \n",
       "\n",
       "                     macd_12_26           obv  in_trading  hour         bid  \\\n",
       "2014-04-03 10:49:00    0.000000  0.000000e+00           0    10   28.641405   \n",
       "2014-04-03 10:50:00    0.000000  0.000000e+00           0    10   28.641405   \n",
       "2014-04-03 10:51:00    0.000000  0.000000e+00           0    10   28.641405   \n",
       "2014-04-03 10:52:00    0.000000  0.000000e+00           0    10   28.641405   \n",
       "2014-04-03 10:53:00    0.000000  0.000000e+00           0    10   28.641405   \n",
       "...                         ...           ...         ...   ...         ...   \n",
       "2023-10-11 20:56:00    0.040273  3.336946e+08           1    20  140.567800   \n",
       "2023-10-11 20:57:00    0.038238  3.335539e+08           1    20  140.507800   \n",
       "2023-10-11 20:58:00    0.039000  3.336994e+08           1    20  140.542800   \n",
       "2023-10-11 20:59:00    0.037557  3.332814e+08           1    20  140.522800   \n",
       "2023-10-11 21:00:00    0.036397  3.388172e+08           0    21  140.527800   \n",
       "\n",
       "                            ask  signal_smooth  pred_signal  pred_action  \n",
       "2014-04-03 10:49:00   28.658595       0.131792          NaN            0  \n",
       "2014-04-03 10:50:00   28.658595       0.132326          NaN            0  \n",
       "2014-04-03 10:51:00   28.658595       0.132862          NaN            0  \n",
       "2014-04-03 10:52:00   28.658595       0.133399          NaN            0  \n",
       "2014-04-03 10:53:00   28.658595       0.133939          NaN            0  \n",
       "...                         ...            ...          ...          ...  \n",
       "2023-10-11 20:56:00  140.652200       0.000000     0.315324            0  \n",
       "2023-10-11 20:57:00  140.592200       0.000000     0.315321            0  \n",
       "2023-10-11 20:58:00  140.627200       0.000000     0.314707            0  \n",
       "2023-10-11 20:59:00  140.607200       0.000000     0.313636            0  \n",
       "2023-10-11 21:00:00  140.612200       0.000000     0.312544            0  \n",
       "\n",
       "[1513119 rows x 18 columns]"
      ]
     },
     "execution_count": 11,
     "metadata": {},
     "output_type": "execute_result"
    }
   ],
   "source": [
    "df_train_val, train_val_days, df_test, te_days = add_pred_and_split(\n",
    "                                                                    df=df, \n",
    "                                                                    train_preds=train_preds,\n",
    "                                                                    val_preds=val_preds,\n",
    "                                                                    test_preds=test_preds, \n",
    "                                                                    day_id_tr=day_id_tr,\n",
    "                                                                    day_id_val=day_id_val,\n",
    "                                                                    day_id_te=day_id_te\n",
    "                                                                    )\n",
    "\n",
    "df_train_val"
   ]
  },
  {
   "cell_type": "code",
   "execution_count": 15,
   "id": "1e9c482d-5e53-456b-98a8-bdcec7065edc",
   "metadata": {},
   "outputs": [],
   "source": [
    "# raw NumPy arrays\n",
    "signals    = df_train_val[\"pred_signal\"].values.astype(float)\n",
    "closes     = df_train_val[\"close\"].values.astype(float)\n",
    "bids       = df_train_val[\"bid\"].values.astype(float)\n",
    "asks       = df_train_val[\"ask\"].values.astype(float)\n",
    "timestamps = df_train_val.index.values.astype(\"datetime64[ns]\")\n",
    "\n",
    "# map each day → positions\n",
    "day_positions = {\n",
    "    day: np.flatnonzero(df_train_val.index.normalize().values == day)\n",
    "    for day in train_val_days\n",
    "}\n",
    "\n",
    "# PRE-BUILD each day’s mini-DataFrame once, outside the objective\n",
    "day_dfs = {\n",
    "    day: pd.DataFrame({\n",
    "        \"pred_signal\": signals[idxs],\n",
    "        \"close\"      : closes[idxs]\n",
    "    }, index=pd.DatetimeIndex(timestamps[idxs]))\n",
    "    for day, idxs in day_positions.items()\n",
    "}\n",
    "\n",
    "# master DataFrame with empty action col\n",
    "df_master = pd.DataFrame({\n",
    "    \"pred_signal\": signals,\n",
    "    \"close\"      : closes,\n",
    "    \"bid\"        : bids,\n",
    "    \"ask\"        : asks,\n",
    "}, index=pd.DatetimeIndex(timestamps))\n",
    "df_master[\"pred_action\"] = 0\n",
    "\n",
    "\n"
   ]
  },
  {
   "cell_type": "code",
   "execution_count": 16,
   "id": "3637fbaf-8ede-4ab4-a2d3-2adedb3bcdd0",
   "metadata": {},
   "outputs": [],
   "source": [
    "\n",
    "def objective(trial):\n",
    "    # —————— 1) Clean slate for this trial ——————\n",
    "    df_master[\"pred_action\"].values[:] = 0\n",
    "\n",
    "    # —————— 2) Hyper-parameter suggestions ——————\n",
    "    pred_threshold     = trial.suggest_float(\"pred_threshold\",     0.03, 0.66)\n",
    "    trailing_stop_pred = trial.suggest_float(\"trailing_stop_pred\", 0.01, 0.5)\n",
    "\n",
    "    # —————— 3) Generate actions per day ——————\n",
    "    print('-----------------------------------')\n",
    "    print(\"Generate actions per day...\")\n",
    "    for day, idxs in day_positions.items():\n",
    "        day_df = day_dfs[day]\n",
    "        day_act = trades.generate_trade_actions(\n",
    "            df=day_df,\n",
    "            col_signal=\"pred_signal\",\n",
    "            col_action=\"pred_action\",\n",
    "            buy_threshold=pred_threshold,\n",
    "            trailing_stop_thresh=trailing_stop_pred,\n",
    "            regular_start=params.regular_start\n",
    "        )[\"pred_action\"].fillna(0).astype(np.int8).values\n",
    "        df_master[\"pred_action\"].values[idxs] = day_act\n",
    "\n",
    "    # —————— 4) Simulate & score ——————\n",
    "    print(\"Simulate and compute average daily P&L...\")\n",
    "    sim_results = trades.simulate_trading(\n",
    "        results_by_day_sign=df_master,\n",
    "        col_action=\"pred_action\",\n",
    "        regular_start=params.regular_start,\n",
    "        regular_end=params.regular_end,\n",
    "        ticker=params.ticker\n",
    "    )\n",
    "\n",
    "    # — include all actual trading days in the average —\n",
    "    all_stats       = [stats for _, (_, _, stats) in sim_results.items()]\n",
    "    num_trade_days  = trades.count_trading_days(\n",
    "        df_master, params.regular_start, params.regular_end\n",
    "    )\n",
    "\n",
    "    daily_returns = [s[\"Strategy Return ($)\"] for s in all_stats]\n",
    "    total_pnl     = float(np.sum(daily_returns))\n",
    "    avg_daily_pnl = total_pnl / num_trade_days if num_trade_days else 0.0\n",
    "\n",
    "    total_trades  = sum(len(s[\"Trades Returns ($)\"]) for s in all_stats)\n",
    "    avg_per_trade = total_pnl / total_trades if total_trades else 0.0\n",
    "\n",
    "    print(f\"→ Total return across {num_trade_days} trading days: ${total_pnl:.2f}\")\n",
    "    print(f\"→ Avg daily return (all days)             : ${avg_daily_pnl:.4f}\")\n",
    "    print(f\"→ Total trades                            : {total_trades}\")\n",
    "    print(f\"→ Avg return per trade                    : ${avg_per_trade:.4f}\\n\")\n",
    "\n",
    "    return avg_daily_pnl\n"
   ]
  },
  {
   "cell_type": "code",
   "execution_count": null,
   "id": "bd926c51-3501-42ab-897f-6496b3eec1f5",
   "metadata": {},
   "outputs": [
    {
     "name": "stderr",
     "output_type": "stream",
     "text": [
      "[I 2025-08-03 15:44:21,011] A new study created in RDB with name: no-name-0c1a014d-f9e9-448c-88d4-8afda83c06ca\n"
     ]
    },
    {
     "name": "stdout",
     "output_type": "stream",
     "text": [
      "-----------------------------------\n",
      "Generate actions per day...\n",
      "Simulate and compute average daily P&L...\n"
     ]
    },
    {
     "name": "stderr",
     "output_type": "stream",
     "text": [
      "[I 2025-08-03 15:45:21,095] Trial 0 finished with value: -0.020602168473728106 and parameters: {'pred_threshold': 0.03764622752591453, 'trailing_stop_pred': 0.01242114090908031}. Best is trial 0 with value: -0.020602168473728106.\n"
     ]
    },
    {
     "name": "stdout",
     "output_type": "stream",
     "text": [
      "→ Total return across 2398 trading days: $-49.40\n",
      "→ Avg daily return (all days)             : $-0.0206\n",
      "→ Total trades                            : 2399\n",
      "→ Avg return per trade                    : $-0.0206\n",
      "\n"
     ]
    },
    {
     "data": {
      "image/png": "[encoded data removed]",
      "text/plain": [
       "<Figure size 700x300 with 1 Axes>"
      ]
     },
     "metadata": {},
     "output_type": "display_data"
    },
    {
     "name": "stdout",
     "output_type": "stream",
     "text": [
      "-----------------------------------\n",
      "Generate actions per day...\n",
      "Simulate and compute average daily P&L...\n",
      "→ Total return across 2398 trading days: $-49.61\n",
      "→ Avg daily return (all days)             : $-0.0207\n",
      "→ Total trades                            : 2399\n",
      "→ Avg return per trade                    : $-0.0207\n",
      "\n"
     ]
    },
    {
     "name": "stderr",
     "output_type": "stream",
     "text": [
      "[I 2025-08-03 15:46:21,019] Trial 1 finished with value: -0.020686822351959965 and parameters: {'pred_threshold': 0.1466530607629183, 'trailing_stop_pred': 0.17576753983418802}. Best is trial 0 with value: -0.020602168473728106.\n"
     ]
    },
    {
     "name": "stdout",
     "output_type": "stream",
     "text": [
      "-----------------------------------\n",
      "Generate actions per day...\n",
      "Simulate and compute average daily P&L...\n",
      "→ Total return across 2398 trading days: $476.14\n",
      "→ Avg daily return (all days)             : $0.1986\n",
      "→ Total trades                            : 1639\n",
      "→ Avg return per trade                    : $0.2905\n",
      "\n"
     ]
    },
    {
     "name": "stderr",
     "output_type": "stream",
     "text": [
      "[I 2025-08-03 15:47:20,031] Trial 2 finished with value: 0.1985554628857381 and parameters: {'pred_threshold': 0.6089887102188906, 'trailing_stop_pred': 0.05009449146875948}. Best is trial 2 with value: 0.1985554628857381.\n"
     ]
    },
    {
     "name": "stdout",
     "output_type": "stream",
     "text": [
      "-----------------------------------\n",
      "Generate actions per day...\n",
      "Simulate and compute average daily P&L...\n",
      "→ Total return across 2398 trading days: $-49.39\n",
      "→ Avg daily return (all days)             : $-0.0206\n",
      "→ Total trades                            : 2398\n",
      "→ Avg return per trade                    : $-0.0206\n",
      "\n"
     ]
    },
    {
     "name": "stderr",
     "output_type": "stream",
     "text": [
      "[I 2025-08-03 15:48:19,969] Trial 3 finished with value: -0.02059466221851543 and parameters: {'pred_threshold': 0.1367602079928232, 'trailing_stop_pred': 0.3143335426599917}. Best is trial 2 with value: 0.1985554628857381.\n"
     ]
    },
    {
     "name": "stdout",
     "output_type": "stream",
     "text": [
      "-----------------------------------\n",
      "Generate actions per day...\n",
      "Simulate and compute average daily P&L...\n",
      "→ Total return across 2398 trading days: $-49.70\n",
      "→ Avg daily return (all days)             : $-0.0207\n",
      "→ Total trades                            : 2399\n",
      "→ Avg return per trade                    : $-0.0207\n",
      "\n"
     ]
    },
    {
     "name": "stderr",
     "output_type": "stream",
     "text": [
      "[I 2025-08-03 15:49:20,140] Trial 4 finished with value: -0.020726855713094246 and parameters: {'pred_threshold': 0.15582997427759504, 'trailing_stop_pred': 0.48758563314333603}. Best is trial 2 with value: 0.1985554628857381.\n"
     ]
    },
    {
     "name": "stdout",
     "output_type": "stream",
     "text": [
      "-----------------------------------\n",
      "Generate actions per day...\n",
      "Simulate and compute average daily P&L...\n",
      "→ Total return across 2398 trading days: $785.62\n",
      "→ Avg daily return (all days)             : $0.3276\n",
      "→ Total trades                            : 2756\n",
      "→ Avg return per trade                    : $0.2851\n",
      "\n"
     ]
    },
    {
     "name": "stderr",
     "output_type": "stream",
     "text": [
      "[I 2025-08-03 15:50:16,224] Trial 5 finished with value: 0.3276163469557965 and parameters: {'pred_threshold': 0.4889163270361676, 'trailing_stop_pred': 0.07605364906453338}. Best is trial 5 with value: 0.3276163469557965.\n"
     ]
    },
    {
     "name": "stdout",
     "output_type": "stream",
     "text": [
      "-----------------------------------\n",
      "Generate actions per day...\n",
      "Simulate and compute average daily P&L...\n",
      "→ Total return across 2398 trading days: $594.53\n",
      "→ Avg daily return (all days)             : $0.2479\n",
      "→ Total trades                            : 2071\n",
      "→ Avg return per trade                    : $0.2871\n",
      "\n"
     ]
    },
    {
     "name": "stderr",
     "output_type": "stream",
     "text": [
      "[I 2025-08-03 15:51:12,499] Trial 6 finished with value: 0.24792869057547956 and parameters: {'pred_threshold': 0.5631120881233772, 'trailing_stop_pred': 0.023283267609171023}. Best is trial 5 with value: 0.3276163469557965.\n"
     ]
    },
    {
     "name": "stdout",
     "output_type": "stream",
     "text": [
      "-----------------------------------\n",
      "Generate actions per day...\n",
      "Simulate and compute average daily P&L...\n"
     ]
    },
    {
     "name": "stderr",
     "output_type": "stream",
     "text": [
      "[I 2025-08-03 15:52:10,489] Trial 7 finished with value: 0.4174937447873228 and parameters: {'pred_threshold': 0.3047951165596191, 'trailing_stop_pred': 0.10861706027776191}. Best is trial 7 with value: 0.4174937447873228.\n"
     ]
    },
    {
     "name": "stdout",
     "output_type": "stream",
     "text": [
      "→ Total return across 2398 trading days: $1001.15\n",
      "→ Avg daily return (all days)             : $0.4175\n",
      "→ Total trades                            : 6091\n",
      "→ Avg return per trade                    : $0.1644\n",
      "\n",
      "-----------------------------------\n",
      "Generate actions per day...\n",
      "Simulate and compute average daily P&L...\n",
      "→ Total return across 2398 trading days: $778.33\n",
      "→ Avg daily return (all days)             : $0.3246\n",
      "→ Total trades                            : 2315\n",
      "→ Avg return per trade                    : $0.3362\n",
      "\n"
     ]
    },
    {
     "name": "stderr",
     "output_type": "stream",
     "text": [
      "[I 2025-08-03 15:53:08,653] Trial 8 finished with value: 0.32457297748123437 and parameters: {'pred_threshold': 0.4990652306366513, 'trailing_stop_pred': 0.2024179485163073}. Best is trial 7 with value: 0.4174937447873228.\n"
     ]
    },
    {
     "name": "stdout",
     "output_type": "stream",
     "text": [
      "-----------------------------------\n",
      "Generate actions per day...\n",
      "Simulate and compute average daily P&L...\n",
      "→ Total return across 2398 trading days: $904.85\n",
      "→ Avg daily return (all days)             : $0.3773\n",
      "→ Total trades                            : 4012\n",
      "→ Avg return per trade                    : $0.2255\n",
      "\n"
     ]
    },
    {
     "name": "stderr",
     "output_type": "stream",
     "text": [
      "[I 2025-08-03 15:54:11,001] Trial 9 finished with value: 0.37733486238532105 and parameters: {'pred_threshold': 0.32124751905682103, 'trailing_stop_pred': 0.3977716499227382}. Best is trial 7 with value: 0.4174937447873228.\n"
     ]
    },
    {
     "name": "stdout",
     "output_type": "stream",
     "text": [
      "-----------------------------------\n",
      "Generate actions per day...\n",
      "Simulate and compute average daily P&L...\n",
      "→ Total return across 2398 trading days: $1007.28\n",
      "→ Avg daily return (all days)             : $0.4201\n",
      "→ Total trades                            : 5009\n",
      "→ Avg return per trade                    : $0.2011\n",
      "\n"
     ]
    },
    {
     "name": "stderr",
     "output_type": "stream",
     "text": [
      "[I 2025-08-03 15:55:10,646] Trial 10 finished with value: 0.4200517097581317 and parameters: {'pred_threshold': 0.34004651087011695, 'trailing_stop_pred': 0.14279351912636482}. Best is trial 10 with value: 0.4200517097581317.\n"
     ]
    },
    {
     "name": "stdout",
     "output_type": "stream",
     "text": [
      "-----------------------------------\n",
      "Generate actions per day...\n",
      "Simulate and compute average daily P&L...\n",
      "→ Total return across 2398 trading days: $1003.82\n",
      "→ Avg daily return (all days)             : $0.4186\n",
      "→ Total trades                            : 4892\n",
      "→ Avg return per trade                    : $0.2052\n",
      "\n"
     ]
    },
    {
     "name": "stderr",
     "output_type": "stream",
     "text": [
      "[I 2025-08-03 15:56:08,652] Trial 11 finished with value: 0.41860884070058385 and parameters: {'pred_threshold': 0.34614060631183247, 'trailing_stop_pred': 0.14048885478088266}. Best is trial 10 with value: 0.4200517097581317.\n"
     ]
    },
    {
     "name": "stdout",
     "output_type": "stream",
     "text": [
      "-----------------------------------\n",
      "Generate actions per day...\n",
      "Simulate and compute average daily P&L...\n",
      "→ Total return across 2398 trading days: $957.57\n",
      "→ Avg daily return (all days)             : $0.3993\n",
      "→ Total trades                            : 3763\n",
      "→ Avg return per trade                    : $0.2545\n",
      "\n"
     ]
    },
    {
     "name": "stderr",
     "output_type": "stream",
     "text": [
      "[I 2025-08-03 15:57:04,308] Trial 12 finished with value: 0.3993194328607172 and parameters: {'pred_threshold': 0.4009169810374357, 'trailing_stop_pred': 0.1626636790125503}. Best is trial 10 with value: 0.4200517097581317.\n"
     ]
    },
    {
     "name": "stdout",
     "output_type": "stream",
     "text": [
      "-----------------------------------\n",
      "Generate actions per day...\n",
      "Simulate and compute average daily P&L...\n"
     ]
    },
    {
     "name": "stderr",
     "output_type": "stream",
     "text": [
      "[I 2025-08-03 15:58:03,570] Trial 13 finished with value: 0.28278398665554627 and parameters: {'pred_threshold': 0.2520790671784702, 'trailing_stop_pred': 0.2618134272232492}. Best is trial 10 with value: 0.4200517097581317.\n"
     ]
    },
    {
     "name": "stdout",
     "output_type": "stream",
     "text": [
      "→ Total return across 2398 trading days: $678.12\n",
      "→ Avg daily return (all days)             : $0.2828\n",
      "→ Total trades                            : 5552\n",
      "→ Avg return per trade                    : $0.1221\n",
      "\n",
      "-----------------------------------\n",
      "Generate actions per day...\n",
      "Simulate and compute average daily P&L...\n",
      "→ Total return across 2398 trading days: $912.07\n",
      "→ Avg daily return (all days)             : $0.3803\n",
      "→ Total trades                            : 3511\n",
      "→ Avg return per trade                    : $0.2598\n",
      "\n"
     ]
    },
    {
     "name": "stderr",
     "output_type": "stream",
     "text": [
      "[I 2025-08-03 15:59:09,796] Trial 14 finished with value: 0.3803469557964971 and parameters: {'pred_threshold': 0.4270341312236412, 'trailing_stop_pred': 0.12546630062939593}. Best is trial 10 with value: 0.4200517097581317.\n"
     ]
    },
    {
     "name": "stdout",
     "output_type": "stream",
     "text": [
      "-----------------------------------\n",
      "Generate actions per day...\n",
      "Simulate and compute average daily P&L...\n",
      "→ Total return across 2398 trading days: $572.97\n",
      "→ Avg daily return (all days)             : $0.2389\n",
      "→ Total trades                            : 3795\n",
      "→ Avg return per trade                    : $0.1510\n",
      "\n"
     ]
    },
    {
     "name": "stderr",
     "output_type": "stream",
     "text": [
      "[I 2025-08-03 16:00:24,948] Trial 15 finished with value: 0.23893744787322768 and parameters: {'pred_threshold': 0.23556768351576193, 'trailing_stop_pred': 0.2594843303392712}. Best is trial 10 with value: 0.4200517097581317.\n"
     ]
    },
    {
     "name": "stdout",
     "output_type": "stream",
     "text": [
      "-----------------------------------\n",
      "Generate actions per day...\n",
      "Simulate and compute average daily P&L...\n",
      "→ Total return across 2398 trading days: $967.64\n",
      "→ Avg daily return (all days)             : $0.4035\n",
      "→ Total trades                            : 3746\n",
      "→ Avg return per trade                    : $0.2583\n",
      "\n"
     ]
    },
    {
     "name": "stderr",
     "output_type": "stream",
     "text": [
      "[I 2025-08-03 16:01:36,151] Trial 16 finished with value: 0.4035208507089241 and parameters: {'pred_threshold': 0.38978850908171486, 'trailing_stop_pred': 0.20582616337047138}. Best is trial 10 with value: 0.4200517097581317.\n"
     ]
    },
    {
     "name": "stdout",
     "output_type": "stream",
     "text": [
      "-----------------------------------\n",
      "Generate actions per day...\n",
      "Simulate and compute average daily P&L...\n",
      "→ Total return across 2398 trading days: $663.12\n",
      "→ Avg daily return (all days)             : $0.2765\n",
      "→ Total trades                            : 5165\n",
      "→ Avg return per trade                    : $0.1284\n",
      "\n"
     ]
    },
    {
     "name": "stderr",
     "output_type": "stream",
     "text": [
      "[I 2025-08-03 16:02:38,738] Trial 17 finished with value: 0.27653044203502924 and parameters: {'pred_threshold': 0.2532945917567174, 'trailing_stop_pred': 0.3414128303590336}. Best is trial 10 with value: 0.4200517097581317.\n"
     ]
    },
    {
     "name": "stdout",
     "output_type": "stream",
     "text": [
      "-----------------------------------\n",
      "Generate actions per day...\n",
      "Simulate and compute average daily P&L...\n",
      "→ Total return across 2398 trading days: $841.62\n",
      "→ Avg daily return (all days)             : $0.3510\n",
      "→ Total trades                            : 2926\n",
      "→ Avg return per trade                    : $0.2876\n",
      "\n"
     ]
    },
    {
     "name": "stderr",
     "output_type": "stream",
     "text": [
      "[I 2025-08-03 16:03:34,902] Trial 18 finished with value: 0.350965387823186 and parameters: {'pred_threshold': 0.46316542949842837, 'trailing_stop_pred': 0.12106597259544154}. Best is trial 10 with value: 0.4200517097581317.\n"
     ]
    },
    {
     "name": "stdout",
     "output_type": "stream",
     "text": [
      "-----------------------------------\n",
      "Generate actions per day...\n",
      "Simulate and compute average daily P&L...\n"
     ]
    },
    {
     "name": "stderr",
     "output_type": "stream",
     "text": [
      "[I 2025-08-03 16:04:33,519] Trial 19 finished with value: 0.4239566305254379 and parameters: {'pred_threshold': 0.3452884548951535, 'trailing_stop_pred': 0.09669702949628861}. Best is trial 19 with value: 0.4239566305254379.\n"
     ]
    },
    {
     "name": "stdout",
     "output_type": "stream",
     "text": [
      "→ Total return across 2398 trading days: $1016.65\n",
      "→ Avg daily return (all days)             : $0.4240\n",
      "→ Total trades                            : 5165\n",
      "→ Avg return per trade                    : $0.1968\n",
      "\n",
      "-----------------------------------\n",
      "Generate actions per day...\n",
      "Simulate and compute average daily P&L...\n"
     ]
    },
    {
     "name": "stderr",
     "output_type": "stream",
     "text": [
      "[I 2025-08-03 16:05:29,122] Trial 20 finished with value: 0.262767306088407 and parameters: {'pred_threshold': 0.5559962594503784, 'trailing_stop_pred': 0.08425829154971931}. Best is trial 19 with value: 0.4239566305254379.\n"
     ]
    },
    {
     "name": "stdout",
     "output_type": "stream",
     "text": [
      "→ Total return across 2398 trading days: $630.12\n",
      "→ Avg daily return (all days)             : $0.2628\n",
      "→ Total trades                            : 2048\n",
      "→ Avg return per trade                    : $0.3077\n",
      "\n",
      "-----------------------------------\n",
      "Generate actions per day...\n",
      "Simulate and compute average daily P&L...\n",
      "→ Total return across 2398 trading days: $994.14\n",
      "→ Avg daily return (all days)             : $0.4146\n",
      "→ Total trades                            : 4632\n",
      "→ Avg return per trade                    : $0.2146\n",
      "\n"
     ]
    },
    {
     "name": "stderr",
     "output_type": "stream",
     "text": [
      "[I 2025-08-03 16:06:24,839] Trial 21 finished with value: 0.414570058381985 and parameters: {'pred_threshold': 0.35446068661441305, 'trailing_stop_pred': 0.1542920550330841}. Best is trial 19 with value: 0.4239566305254379.\n"
     ]
    },
    {
     "name": "stdout",
     "output_type": "stream",
     "text": [
      "-----------------------------------\n",
      "Generate actions per day...\n",
      "Simulate and compute average daily P&L...\n",
      "→ Total return across 2398 trading days: $956.22\n",
      "→ Avg daily return (all days)             : $0.3988\n",
      "→ Total trades                            : 5377\n",
      "→ Avg return per trade                    : $0.1778\n",
      "\n"
     ]
    },
    {
     "name": "stderr",
     "output_type": "stream",
     "text": [
      "[I 2025-08-03 16:07:20,965] Trial 22 finished with value: 0.39875896580483733 and parameters: {'pred_threshold': 0.30388278419634385, 'trailing_stop_pred': 0.20417672387832095}. Best is trial 19 with value: 0.4239566305254379.\n"
     ]
    },
    {
     "name": "stdout",
     "output_type": "stream",
     "text": [
      "-----------------------------------\n",
      "Generate actions per day...\n",
      "Simulate and compute average daily P&L...\n",
      "→ Total return across 2398 trading days: $1011.76\n",
      "→ Avg daily return (all days)             : $0.4219\n",
      "→ Total trades                            : 5127\n",
      "→ Avg return per trade                    : $0.1973\n",
      "\n"
     ]
    },
    {
     "name": "stderr",
     "output_type": "stream",
     "text": [
      "[I 2025-08-03 16:08:16,320] Trial 23 finished with value: 0.42191701417848204 and parameters: {'pred_threshold': 0.3552550948869689, 'trailing_stop_pred': 0.057614348590023026}. Best is trial 19 with value: 0.4239566305254379.\n"
     ]
    },
    {
     "name": "stdout",
     "output_type": "stream",
     "text": [
      "-----------------------------------\n",
      "Generate actions per day...\n",
      "Simulate and compute average daily P&L...\n",
      "→ Total return across 2398 trading days: $213.93\n",
      "→ Avg daily return (all days)             : $0.0892\n",
      "→ Total trades                            : 3436\n",
      "→ Avg return per trade                    : $0.0623\n",
      "\n"
     ]
    },
    {
     "name": "stderr",
     "output_type": "stream",
     "text": [
      "[I 2025-08-03 16:09:13,792] Trial 24 finished with value: 0.08921142618849041 and parameters: {'pred_threshold': 0.20356351660733085, 'trailing_stop_pred': 0.07332517323462454}. Best is trial 19 with value: 0.4239566305254379.\n"
     ]
    },
    {
     "name": "stdout",
     "output_type": "stream",
     "text": [
      "-----------------------------------\n",
      "Generate actions per day...\n",
      "Simulate and compute average daily P&L...\n",
      "→ Total return across 2398 trading days: $894.85\n",
      "→ Avg daily return (all days)             : $0.3732\n",
      "→ Total trades                            : 3582\n",
      "→ Avg return per trade                    : $0.2498\n",
      "\n"
     ]
    },
    {
     "name": "stderr",
     "output_type": "stream",
     "text": [
      "[I 2025-08-03 16:10:08,374] Trial 25 finished with value: 0.37316388657214344 and parameters: {'pred_threshold': 0.43562748999970635, 'trailing_stop_pred': 0.04166606339395919}. Best is trial 19 with value: 0.4239566305254379.\n"
     ]
    },
    {
     "name": "stdout",
     "output_type": "stream",
     "text": [
      "-----------------------------------\n",
      "Generate actions per day...\n",
      "Simulate and compute average daily P&L...\n"
     ]
    },
    {
     "name": "stderr",
     "output_type": "stream",
     "text": [
      "[I 2025-08-03 16:11:02,950] Trial 26 finished with value: 0.4087527105921602 and parameters: {'pred_threshold': 0.38536690534158413, 'trailing_stop_pred': 0.09671359201156869}. Best is trial 19 with value: 0.4239566305254379.\n"
     ]
    },
    {
     "name": "stdout",
     "output_type": "stream",
     "text": [
      "→ Total return across 2398 trading days: $980.19\n",
      "→ Avg daily return (all days)             : $0.4088\n",
      "→ Total trades                            : 4354\n",
      "→ Avg return per trade                    : $0.2251\n",
      "\n",
      "-----------------------------------\n",
      "Generate actions per day...\n",
      "Simulate and compute average daily P&L...\n",
      "→ Total return across 2398 trading days: $978.28\n",
      "→ Avg daily return (all days)             : $0.4080\n",
      "→ Total trades                            : 6790\n",
      "→ Avg return per trade                    : $0.1441\n",
      "\n"
     ]
    },
    {
     "name": "stderr",
     "output_type": "stream",
     "text": [
      "[I 2025-08-03 16:11:58,254] Trial 27 finished with value: 0.40795704753961637 and parameters: {'pred_threshold': 0.2834728457667866, 'trailing_stop_pred': 0.06264742276216362}. Best is trial 19 with value: 0.4239566305254379.\n"
     ]
    },
    {
     "name": "stdout",
     "output_type": "stream",
     "text": [
      "-----------------------------------\n",
      "Generate actions per day...\n",
      "Simulate and compute average daily P&L...\n",
      "→ Total return across 2398 trading days: $92.87\n",
      "→ Avg daily return (all days)             : $0.0387\n",
      "→ Total trades                            : 2916\n",
      "→ Avg return per trade                    : $0.0318\n",
      "\n"
     ]
    },
    {
     "name": "stderr",
     "output_type": "stream",
     "text": [
      "[I 2025-08-03 16:12:54,684] Trial 28 finished with value: 0.03872935779816513 and parameters: {'pred_threshold': 0.19902260767568822, 'trailing_stop_pred': 0.22809571580036175}. Best is trial 19 with value: 0.4239566305254379.\n"
     ]
    },
    {
     "name": "stdout",
     "output_type": "stream",
     "text": [
      "-----------------------------------\n",
      "Generate actions per day...\n",
      "Simulate and compute average daily P&L...\n"
     ]
    },
    {
     "name": "stderr",
     "output_type": "stream",
     "text": [
      "[I 2025-08-03 16:13:51,346] Trial 29 finished with value: -0.02060300250208507 and parameters: {'pred_threshold': 0.054336754668733556, 'trailing_stop_pred': 0.017121527199374598}. Best is trial 19 with value: 0.4239566305254379.\n"
     ]
    },
    {
     "name": "stdout",
     "output_type": "stream",
     "text": [
      "→ Total return across 2398 trading days: $-49.41\n",
      "→ Avg daily return (all days)             : $-0.0206\n",
      "→ Total trades                            : 2399\n",
      "→ Avg return per trade                    : $-0.0206\n",
      "\n",
      "-----------------------------------\n",
      "Generate actions per day...\n",
      "Simulate and compute average daily P&L...\n",
      "→ Total return across 2398 trading days: $990.26\n",
      "→ Avg daily return (all days)             : $0.4130\n",
      "→ Total trades                            : 4413\n",
      "→ Avg return per trade                    : $0.2244\n",
      "\n"
     ]
    },
    {
     "name": "stderr",
     "output_type": "stream",
     "text": [
      "[I 2025-08-03 16:14:46,186] Trial 30 finished with value: 0.4129512093411176 and parameters: {'pred_threshold': 0.35960084685469, 'trailing_stop_pred': 0.17836564917556771}. Best is trial 19 with value: 0.4239566305254379.\n"
     ]
    },
    {
     "name": "stdout",
     "output_type": "stream",
     "text": [
      "-----------------------------------\n",
      "Generate actions per day...\n",
      "Simulate and compute average daily P&L...\n"
     ]
    },
    {
     "name": "stderr",
     "output_type": "stream",
     "text": [
      "[I 2025-08-03 16:15:41,156] Trial 31 finished with value: 0.41995454545454547 and parameters: {'pred_threshold': 0.343916282753551, 'trailing_stop_pred': 0.1482527469486848}. Best is trial 19 with value: 0.4239566305254379.\n"
     ]
    },
    {
     "name": "stdout",
     "output_type": "stream",
     "text": [
      "→ Total return across 2398 trading days: $1007.05\n",
      "→ Avg daily return (all days)             : $0.4200\n",
      "→ Total trades                            : 4881\n",
      "→ Avg return per trade                    : $0.2063\n",
      "\n",
      "-----------------------------------\n",
      "Generate actions per day...\n",
      "Simulate and compute average daily P&L...\n"
     ]
    },
    {
     "name": "stderr",
     "output_type": "stream",
     "text": [
      "[I 2025-08-03 16:16:36,852] Trial 32 finished with value: 0.39824562135112596 and parameters: {'pred_threshold': 0.2789130410059576, 'trailing_stop_pred': 0.1090923421012357}. Best is trial 19 with value: 0.4239566305254379.\n"
     ]
    },
    {
     "name": "stdout",
     "output_type": "stream",
     "text": [
      "→ Total return across 2398 trading days: $954.99\n",
      "→ Avg daily return (all days)             : $0.3982\n",
      "→ Total trades                            : 6493\n",
      "→ Avg return per trade                    : $0.1471\n",
      "\n",
      "-----------------------------------\n",
      "Generate actions per day...\n",
      "Simulate and compute average daily P&L...\n"
     ]
    },
    {
     "name": "stderr",
     "output_type": "stream",
     "text": [
      "[I 2025-08-03 16:17:31,748] Trial 33 finished with value: 0.43343077564637206 and parameters: {'pred_threshold': 0.3352383100472897, 'trailing_stop_pred': 0.04386770807190412}. Best is trial 33 with value: 0.43343077564637206.\n"
     ]
    },
    {
     "name": "stdout",
     "output_type": "stream",
     "text": [
      "→ Total return across 2398 trading days: $1039.37\n",
      "→ Avg daily return (all days)             : $0.4334\n",
      "→ Total trades                            : 5659\n",
      "→ Avg return per trade                    : $0.1837\n",
      "\n",
      "-----------------------------------\n",
      "Generate actions per day...\n",
      "Simulate and compute average daily P&L...\n"
     ]
    },
    {
     "name": "stderr",
     "output_type": "stream",
     "text": [
      "[I 2025-08-03 16:18:25,999] Trial 34 finished with value: 0.3650175145954963 and parameters: {'pred_threshold': 0.4433206930929151, 'trailing_stop_pred': 0.010943833921472496}. Best is trial 33 with value: 0.43343077564637206.\n"
     ]
    },
    {
     "name": "stdout",
     "output_type": "stream",
     "text": [
      "→ Total return across 2398 trading days: $875.31\n",
      "→ Avg daily return (all days)             : $0.3650\n",
      "→ Total trades                            : 3510\n",
      "→ Avg return per trade                    : $0.2494\n",
      "\n",
      "-----------------------------------\n",
      "Generate actions per day...\n",
      "Simulate and compute average daily P&L...\n"
     ]
    },
    {
     "name": "stderr",
     "output_type": "stream",
     "text": [
      "[I 2025-08-03 16:19:20,515] Trial 35 finished with value: 0.40874979149291074 and parameters: {'pred_threshold': 0.3941321949586277, 'trailing_stop_pred': 0.06355973767072298}. Best is trial 33 with value: 0.43343077564637206.\n"
     ]
    },
    {
     "name": "stdout",
     "output_type": "stream",
     "text": [
      "→ Total return across 2398 trading days: $980.18\n",
      "→ Avg daily return (all days)             : $0.4087\n",
      "→ Total trades                            : 4289\n",
      "→ Avg return per trade                    : $0.2285\n",
      "\n",
      "-----------------------------------\n",
      "Generate actions per day...\n",
      "Simulate and compute average daily P&L...\n",
      "→ Total return across 2398 trading days: $1039.59\n",
      "→ Avg daily return (all days)             : $0.4335\n",
      "→ Total trades                            : 5907\n",
      "→ Avg return per trade                    : $0.1760\n",
      "\n"
     ]
    },
    {
     "name": "stderr",
     "output_type": "stream",
     "text": [
      "[I 2025-08-03 16:20:15,705] Trial 36 finished with value: 0.433522518765638 and parameters: {'pred_threshold': 0.32416355955642395, 'trailing_stop_pred': 0.050561983201430565}. Best is trial 36 with value: 0.433522518765638.\n"
     ]
    },
    {
     "name": "stdout",
     "output_type": "stream",
     "text": [
      "-----------------------------------\n",
      "Generate actions per day...\n",
      "Simulate and compute average daily P&L...\n"
     ]
    },
    {
     "name": "stderr",
     "output_type": "stream",
     "text": [
      "[I 2025-08-03 16:21:13,325] Trial 37 finished with value: -0.00036822351959966157 and parameters: {'pred_threshold': 0.19336070927153604, 'trailing_stop_pred': 0.04025002414571337}. Best is trial 36 with value: 0.433522518765638.\n"
     ]
    },
    {
     "name": "stdout",
     "output_type": "stream",
     "text": [
      "→ Total return across 2398 trading days: $-0.88\n",
      "→ Avg daily return (all days)             : $-0.0004\n",
      "→ Total trades                            : 2631\n",
      "→ Avg return per trade                    : $-0.0003\n",
      "\n",
      "-----------------------------------\n",
      "Generate actions per day...\n",
      "Simulate and compute average daily P&L...\n",
      "→ Total return across 2398 trading days: $751.17\n",
      "→ Avg daily return (all days)             : $0.3132\n",
      "→ Total trades                            : 2644\n",
      "→ Avg return per trade                    : $0.2841\n",
      "\n"
     ]
    },
    {
     "name": "stderr",
     "output_type": "stream",
     "text": [
      "[I 2025-08-03 16:22:07,177] Trial 38 finished with value: 0.31324895746455383 and parameters: {'pred_threshold': 0.5037791787854985, 'trailing_stop_pred': 0.03829396361854279}. Best is trial 36 with value: 0.433522518765638.\n"
     ]
    },
    {
     "name": "stdout",
     "output_type": "stream",
     "text": [
      "-----------------------------------\n",
      "Generate actions per day...\n",
      "Simulate and compute average daily P&L...\n"
     ]
    },
    {
     "name": "stderr",
     "output_type": "stream",
     "text": [
      "[I 2025-08-03 16:23:03,674] Trial 39 finished with value: -0.02061301084236864 and parameters: {'pred_threshold': 0.11292912399134367, 'trailing_stop_pred': 0.09149865609504841}. Best is trial 36 with value: 0.433522518765638.\n"
     ]
    },
    {
     "name": "stdout",
     "output_type": "stream",
     "text": [
      "→ Total return across 2398 trading days: $-49.43\n",
      "→ Avg daily return (all days)             : $-0.0206\n",
      "→ Total trades                            : 2399\n",
      "→ Avg return per trade                    : $-0.0206\n",
      "\n",
      "-----------------------------------\n",
      "Generate actions per day...\n",
      "Simulate and compute average daily P&L...\n"
     ]
    },
    {
     "name": "stderr",
     "output_type": "stream",
     "text": [
      "[I 2025-08-03 16:24:02,625] Trial 40 finished with value: 0.33740867389491236 and parameters: {'pred_threshold': 0.28108481687988246, 'trailing_stop_pred': 0.42147808576909784}. Best is trial 36 with value: 0.433522518765638.\n"
     ]
    },
    {
     "name": "stdout",
     "output_type": "stream",
     "text": [
      "→ Total return across 2398 trading days: $809.11\n",
      "→ Avg daily return (all days)             : $0.3374\n",
      "→ Total trades                            : 4430\n",
      "→ Avg return per trade                    : $0.1826\n",
      "\n",
      "-----------------------------------\n",
      "Generate actions per day...\n",
      "Simulate and compute average daily P&L...\n"
     ]
    }
   ],
   "source": [
    "# rest of your Optuna setup & study.optimize() \n",
    "pruner = optuna.pruners.MedianPruner(n_startup_trials=6, n_warmup_steps=12)\n",
    "storage = RDBStorage(\n",
    "    url=\"sqlite:///optuna_study.db\",\n",
    "    engine_kwargs={\"connect_args\": {\"timeout\": 20, \"check_same_thread\": False}}\n",
    ")\n",
    "study = optuna.create_study(\n",
    "    storage        = storage,\n",
    "    load_if_exists = True,\n",
    "    direction      = \"maximize\",\n",
    "    pruner         = pruner,\n",
    ")\n",
    "study.optimize(\n",
    "    objective,\n",
    "    n_trials          = n_trials,\n",
    "    n_jobs            = n_jobs,\n",
    "    callbacks         = [plots.cleanup_callback, plots.lightweight_plot_callback],\n",
    "    gc_after_trial    = True,\n",
    "    show_progress_bar = False,\n",
    "    catch             = (MemoryError,),\n",
    ")\n",
    "\n",
    "# Final plots & JSON dump (unchanged)...\n",
    "ax = plot_optimization_history(study)\n",
    "ax.figure.set_size_inches(8, 4)\n",
    "plt.show()\n",
    "\n",
    "print(\"Best Parameters       :\", study.best_params)\n",
    "print(\"Best Average Daily P&L:\", study.best_value)\n",
    "\n",
    "importances = get_param_importances(study)\n",
    "print(\"\\nHyperparameter importances (higher ⇒ more impact):\")\n",
    "for name, score in sorted(importances.items(), key=lambda x: x[1], reverse=True):\n",
    "    print(f\"  {name:20s}: {score:.3f}\")\n",
    "\n",
    "first_day = df_train_val.index.normalize().min().strftime(\"%Y%m%d\")\n",
    "last_day  = df_train_val.index.normalize().max().strftime(\"%Y%m%d\")\n",
    "file_name = f\"{params.ticker}_{first_day}-{last_day}_optuna_predsig_pars.json\"\n",
    "file_path = os.path.join(params.optuna_folder, file_name)\n",
    "\n",
    "with open(file_path, \"w\") as f:\n",
    "    json.dump({\n",
    "        \"best_params\": study.best_params,\n",
    "        \"best_value\" : study.best_value,\n",
    "        \"importances\": importances,\n",
    "        \"trials\": [\n",
    "            {\"number\": t.number, \"value\": t.value, \"params\": t.params, \"state\": t.state.name}\n",
    "            for t in study.trials\n",
    "        ],\n",
    "    }, f, indent=4)\n",
    "\n",
    "print(f\"\\nOptuna results (and importances) saved to: {file_path}\")\n"
   ]
  },
  {
   "cell_type": "code",
   "execution_count": null,
   "id": "0f9f919a-ddf0-4fcd-a8b9-3baa5cf8b7a5",
   "metadata": {},
   "outputs": [],
   "source": [
    "# Compute Descriptive Statistics\n",
    "# Statistics show whether your model systematically over/under-estimates (compare means) and how tightly it tracks (std & correlation).\n",
    "\n",
    "# assume df is your DataFrame\n",
    "stats = df_test[['signal_smooth','pred_signal']].describe().T\n",
    "\n",
    "# add range and error\n",
    "stats['range'] = stats['max'] - stats['min']\n",
    "corr = df_test['signal_smooth'].corr(df_test['pred_signal'])\n",
    "stats['pearson_r_with_other'] = [corr, corr]\n",
    "\n",
    "print(stats)"
   ]
  },
  {
   "cell_type": "code",
   "execution_count": null,
   "id": "afaafb9d-df9d-43f5-9b3d-1ca0b5c74d6c",
   "metadata": {},
   "outputs": [],
   "source": [
    "# Distribution Overlay\n",
    "# Histogram overlay reveals any bias or mismatched shape in the two distributions.\n",
    "\n",
    "plt.figure(figsize=(8,4))\n",
    "sns.histplot(df_test['signal_smooth'], color='C0', alpha=0.5, bins=50, label='signal_smooth')\n",
    "sns.histplot(df_test['pred_signal'],   color='C1', alpha=0.5, bins=50, label='pred_signal')\n",
    "plt.legend()\n",
    "plt.xlabel('Signal Value')\n",
    "plt.ylabel('Count')\n",
    "plt.title('Histogram of signal_smooth vs. pred_signal')\n",
    "plt.show()"
   ]
  },
  {
   "cell_type": "code",
   "execution_count": null,
   "id": "af62b6a4-d566-4425-afee-25289d9397d5",
   "metadata": {},
   "outputs": [],
   "source": [
    "# Scatter Plot: Relationship\n",
    "# Scatter against the 45° line instantly shows under/over‐prediction regions and non‐linear errors.\n",
    "\n",
    "plt.figure(figsize=(5,5))\n",
    "plt.scatter(df_test['signal_smooth'], df_test['pred_signal'],\n",
    "            s=5, alpha=0.3, color='C2')\n",
    "plt.plot([0,1],[0,1], 'k--', linewidth=1)  # 45° reference line\n",
    "plt.xlabel('signal_smooth')\n",
    "plt.ylabel('pred_signal')\n",
    "plt.title('pred_signal vs. signal_smooth')\n",
    "plt.axis('equal')\n",
    "plt.show()"
   ]
  },
  {
   "cell_type": "code",
   "execution_count": null,
   "id": "eddbeb73-c57c-415b-8172-d1fba5f117cb",
   "metadata": {},
   "outputs": [],
   "source": [
    "# Time-Series Comparison (Sample)\n",
    "# Time‐series plots let you see if the model lags or leads the smoothed signal on a given day.\n",
    "\n",
    "# pick a single day or time span\n",
    "day = df_test.index.normalize().unique()[-1]\n",
    "mask = df_test.index.normalize() == day\n",
    "\n",
    "plt.figure(figsize=(10,3))\n",
    "plt.plot(df_test.index[mask], df_test.loc[mask,'signal_smooth'], label='signal_smooth')\n",
    "plt.plot(df_test.index[mask], df_test.loc[mask,'pred_signal'],   label='pred_signal')\n",
    "plt.legend(loc='upper left')\n",
    "plt.title(f'Signals on {day.date()}')\n",
    "plt.xlabel('Time')\n",
    "plt.ylabel('Signal')\n",
    "plt.xticks(rotation=45)\n",
    "plt.tight_layout()\n",
    "plt.show()"
   ]
  },
  {
   "cell_type": "code",
   "execution_count": null,
   "id": "b086846a-45f7-48c5-8a71-c9ed215a3230",
   "metadata": {},
   "outputs": [],
   "source": [
    "# Error Analysis \n",
    "# Error plots quantify where and when the model struggles most, guiding you to fix lag, amplitude scaling, or threshold issues.\n",
    "\n",
    "# create error column\n",
    "df_test['error'] = df_test['pred_signal'] - df_test['signal_smooth']\n",
    "\n",
    "# Distribution of prediction error\n",
    "plt.figure(figsize=(6,3))\n",
    "sns.histplot(df_test['error'], bins=50, color='C3', kde=True)\n",
    "plt.xlabel('Prediction Error')\n",
    "plt.title('Error Distribution: pred_signal − signal_smooth')\n",
    "plt.show()\n",
    "\n",
    "# Time evolution of error on that same sample day\n",
    "plt.figure(figsize=(10,3))\n",
    "plt.plot(df_test.index[mask], df_test.loc[mask,'error'], color='C4')\n",
    "plt.axhline(0, color='k', linestyle='--', linewidth=1)\n",
    "plt.title(f'Prediction Error over time on {day.date()}')\n",
    "plt.xlabel('Time')\n",
    "plt.ylabel('Error')\n",
    "plt.xticks(rotation=45)\n",
    "plt.tight_layout()\n",
    "plt.show()\n"
   ]
  },
  {
   "cell_type": "code",
   "execution_count": null,
   "id": "4b0b957c-f93a-41b6-bce1-08806c2b0906",
   "metadata": {},
   "outputs": [],
   "source": [
    "print('generating sim_results as a dict: { date → (df_sim, trades_list, perf_stats) } ...')\n",
    "\n",
    "# Run the simulator on your DataFrame of predictions/actions\n",
    "sim_results = trades.simulate_trading(\n",
    "    results_by_day_sign = df_train_val,              # DF with pred_action\n",
    "    col_action          = \"pred_action\",              # name of the discrete action column\n",
    "    regular_start       = params.regular_start,   \n",
    "    regular_end         = params.regular_end,         \n",
    "    ticker              = params.ticker\n",
    ")\n"
   ]
  },
  {
   "cell_type": "code",
   "execution_count": null,
   "id": "08efbd70-ae18-4653-a023-aa7f2cc81b82",
   "metadata": {},
   "outputs": [],
   "source": [
    "importlib.reload(params)\n",
    "# month to inspect (YYYY-MM)\n",
    "date_to_test = params.date_to_test\n",
    "\n",
    "year, month = map(int, date_to_test.split(\"-\"))\n",
    "\n",
    "# 1) Build lists of days in that month + accumulate ALL days\n",
    "days_in_month = []\n",
    "performance_month = []\n",
    "performance_all   = []\n",
    "\n",
    "for day, (df_sim, trades_list, perf_stats) in sim_results.items():\n",
    "    # always collect for the global summary\n",
    "    performance_all.append(perf_stats)\n",
    "\n",
    "    # pick out this month for plotting\n",
    "    if day.year == year and day.month == month:\n",
    "        days_in_month.append(day)\n",
    "        performance_month.append(perf_stats)\n",
    "\n",
    "# 2) Plot & print per-day stats for the month\n",
    "if not days_in_month:\n",
    "    print(f\"No simulation data for {date_to_test}\")\n",
    "else:\n",
    "    print(f\"\\nPlotting days in {date_to_test}:\")\n",
    "    for day in days_in_month:\n",
    "        df_sim, trades_list, perf_stats = sim_results[day]\n",
    "        plots.plot_trades(\n",
    "            df                = df_sim,\n",
    "            col_signal1       = \"pred_signal\",\n",
    "            col_signal2       = \"signal_smooth\",\n",
    "            col_action        = \"pred_action\",\n",
    "            trades            = trades_list,\n",
    "            buy_threshold     = params.pred_threshold_tick,\n",
    "            performance_stats = perf_stats\n",
    "        )\n",
    "        \n",
    "        print(f\"\\n=== Performance for {day} ===\")\n",
    "        for k, v in perf_stats.items():\n",
    "            print(f\"{k}: {v}\")\n",
    "\n",
    "# 3) Monthly summary\n",
    "df_month = df_test[df_test.index.to_period(\"M\") == date_to_test]\n",
    "plots.aggregate_performance(performance_month, df_month)\n",
    "\n",
    "# 4) Overall summary across ALL days, with date range\n",
    "plots.aggregate_performance(performance_all, df_test)\n"
   ]
  },
  {
   "cell_type": "code",
   "execution_count": null,
   "id": "749a6f11-54e4-4778-ac70-903606897ea3",
   "metadata": {},
   "outputs": [],
   "source": []
  },
  {
   "cell_type": "code",
   "execution_count": null,
   "id": "06cee26d-0227-49cc-8d3d-6da977a39753",
   "metadata": {},
   "outputs": [],
   "source": []
  }
 ],
 "metadata": {
  "kernelspec": {
   "display_name": "Python 3 (ipykernel)",
   "language": "python",
   "name": "python3"
  },
  "language_info": {
   "codemirror_mode": {
    "name": "ipython",
    "version": 3
   },
   "file_extension": ".py",
   "mimetype": "text/x-python",
   "name": "python",
   "nbconvert_exporter": "python",
   "pygments_lexer": "ipython3",
   "version": "3.12.3"
  }
 },
 "nbformat": 4,
 "nbformat_minor": 5
}
