{
 "cells": [
  {
   "cell_type": "code",
   "execution_count": 1,
   "id": "fed6c184-8438-497e-8ae7-82cc35ac4819",
   "metadata": {},
   "outputs": [
    {
     "data": {
      "text/plain": [
       "<module 'libs.models' from '/workspace/my_models/Trading/_Stock_Analysis_/libs/models.py'>"
      ]
     },
     "execution_count": 1,
     "metadata": {},
     "output_type": "execute_result"
    }
   ],
   "source": [
    "%matplotlib inline\n",
    "\n",
    "\n",
    "# 1) Wipe out your namespace\n",
    "%reset -f\n",
    "\n",
    "# 2) Clear Jupyter’s stored outputs (and inputs if you like)\n",
    "try:\n",
    "    Out.clear()\n",
    "except NameError:\n",
    "    pass\n",
    "\n",
    "try:\n",
    "    In.clear()\n",
    "except NameError:\n",
    "    pass\n",
    "\n",
    "# 3) Force Python GC\n",
    "import gc\n",
    "gc.collect()\n",
    "\n",
    "# 4) Free any GPU buffers\n",
    "import torch\n",
    "if torch.cuda.is_available():\n",
    "    torch.cuda.empty_cache()\n",
    "\n",
    "\n",
    "import importlib\n",
    "from libs import trades, plots, params, models\n",
    "importlib.reload(trades)\n",
    "importlib.reload(plots)\n",
    "importlib.reload(params)\n",
    "importlib.reload(models)"
   ]
  },
  {
   "cell_type": "code",
   "execution_count": 2,
   "id": "4c868158-e6bb-4d56-bbdd-8e8103f0b9e4",
   "metadata": {},
   "outputs": [],
   "source": [
    "import pandas as pd\n",
    "pd.set_option('display.max_columns', None)\n",
    "\n",
    "import numpy  as np\n",
    "import math\n",
    "import matplotlib.pyplot as plt\n",
    "\n",
    "import datetime as dt\n",
    "import os\n",
    "from typing import Sequence, List, Tuple, Optional, Union\n",
    "\n",
    "import torch.nn as nn\n",
    "import torch.nn.functional as Funct\n",
    "from torch_lr_finder import LRFinder\n",
    "from torch.utils.data import DataLoader, TensorDataset\n",
    "\n",
    "from tqdm import tqdm"
   ]
  },
  {
   "cell_type": "code",
   "execution_count": 3,
   "id": "7b98406a",
   "metadata": {},
   "outputs": [
    {
     "data": {
      "text/html": [
       "<div>\n",
       "<style scoped>\n",
       "    .dataframe tbody tr th:only-of-type {\n",
       "        vertical-align: middle;\n",
       "    }\n",
       "\n",
       "    .dataframe tbody tr th {\n",
       "        vertical-align: top;\n",
       "    }\n",
       "\n",
       "    .dataframe thead th {\n",
       "        text-align: right;\n",
       "    }\n",
       "</style>\n",
       "<table border=\"1\" class=\"dataframe\">\n",
       "  <thead>\n",
       "    <tr style=\"text-align: right;\">\n",
       "      <th></th>\n",
       "      <th>vwap_dev_15</th>\n",
       "      <th>vol_15</th>\n",
       "      <th>rsi_15</th>\n",
       "      <th>bb_width_15</th>\n",
       "      <th>r_30</th>\n",
       "      <th>r_15</th>\n",
       "      <th>bb_hband_15</th>\n",
       "      <th>sma_30</th>\n",
       "      <th>bb_lband_15</th>\n",
       "      <th>sma_15</th>\n",
       "      <th>ema_7</th>\n",
       "      <th>stoch_d_3</th>\n",
       "      <th>stoch_k_15</th>\n",
       "      <th>bid</th>\n",
       "      <th>ask</th>\n",
       "      <th>signal</th>\n",
       "    </tr>\n",
       "  </thead>\n",
       "  <tbody>\n",
       "    <tr>\n",
       "      <th>2004-01-02 13:09:00</th>\n",
       "      <td>-0.040178</td>\n",
       "      <td>-1.470597</td>\n",
       "      <td>-2.557298</td>\n",
       "      <td>-1.574415</td>\n",
       "      <td>-0.018856</td>\n",
       "      <td>-0.025470</td>\n",
       "      <td>-0.594094</td>\n",
       "      <td>-1.165607</td>\n",
       "      <td>-0.593601</td>\n",
       "      <td>-1.165606</td>\n",
       "      <td>-1.165607</td>\n",
       "      <td>-1.876805</td>\n",
       "      <td>-1.785354</td>\n",
       "      <td>0.763664</td>\n",
       "      <td>0.764807</td>\n",
       "      <td>0.021536</td>\n",
       "    </tr>\n",
       "    <tr>\n",
       "      <th>2004-01-02 13:10:00</th>\n",
       "      <td>-0.048980</td>\n",
       "      <td>-1.466297</td>\n",
       "      <td>-2.557298</td>\n",
       "      <td>-1.545814</td>\n",
       "      <td>-0.024582</td>\n",
       "      <td>-0.033444</td>\n",
       "      <td>-0.594093</td>\n",
       "      <td>-1.165607</td>\n",
       "      <td>-0.593602</td>\n",
       "      <td>-1.165607</td>\n",
       "      <td>-1.165608</td>\n",
       "      <td>-1.876805</td>\n",
       "      <td>-1.785354</td>\n",
       "      <td>0.763647</td>\n",
       "      <td>0.764790</td>\n",
       "      <td>0.023284</td>\n",
       "    </tr>\n",
       "    <tr>\n",
       "      <th>2004-01-02 13:11:00</th>\n",
       "      <td>-0.056140</td>\n",
       "      <td>-1.463327</td>\n",
       "      <td>-2.557298</td>\n",
       "      <td>-1.516045</td>\n",
       "      <td>-0.030308</td>\n",
       "      <td>-0.041417</td>\n",
       "      <td>-0.594093</td>\n",
       "      <td>-1.165607</td>\n",
       "      <td>-0.593603</td>\n",
       "      <td>-1.165607</td>\n",
       "      <td>-1.165609</td>\n",
       "      <td>-1.876805</td>\n",
       "      <td>-1.785354</td>\n",
       "      <td>0.763631</td>\n",
       "      <td>0.764773</td>\n",
       "      <td>0.025175</td>\n",
       "    </tr>\n",
       "    <tr>\n",
       "      <th>2004-01-02 13:12:00</th>\n",
       "      <td>-0.061878</td>\n",
       "      <td>-1.461447</td>\n",
       "      <td>-2.557298</td>\n",
       "      <td>-1.485916</td>\n",
       "      <td>-0.036035</td>\n",
       "      <td>-0.049391</td>\n",
       "      <td>-0.594093</td>\n",
       "      <td>-1.165607</td>\n",
       "      <td>-0.593604</td>\n",
       "      <td>-1.165608</td>\n",
       "      <td>-1.165610</td>\n",
       "      <td>-1.876805</td>\n",
       "      <td>-1.785354</td>\n",
       "      <td>0.763614</td>\n",
       "      <td>0.764757</td>\n",
       "      <td>0.027222</td>\n",
       "    </tr>\n",
       "    <tr>\n",
       "      <th>2004-01-02 13:13:00</th>\n",
       "      <td>-0.066452</td>\n",
       "      <td>-1.460532</td>\n",
       "      <td>-2.557298</td>\n",
       "      <td>-1.456142</td>\n",
       "      <td>-0.041762</td>\n",
       "      <td>-0.057365</td>\n",
       "      <td>-0.594092</td>\n",
       "      <td>-1.165608</td>\n",
       "      <td>-0.593605</td>\n",
       "      <td>-1.165608</td>\n",
       "      <td>-1.165611</td>\n",
       "      <td>-1.876805</td>\n",
       "      <td>-1.785354</td>\n",
       "      <td>0.763597</td>\n",
       "      <td>0.764740</td>\n",
       "      <td>0.029436</td>\n",
       "    </tr>\n",
       "    <tr>\n",
       "      <th>...</th>\n",
       "      <td>...</td>\n",
       "      <td>...</td>\n",
       "      <td>...</td>\n",
       "      <td>...</td>\n",
       "      <td>...</td>\n",
       "      <td>...</td>\n",
       "      <td>...</td>\n",
       "      <td>...</td>\n",
       "      <td>...</td>\n",
       "      <td>...</td>\n",
       "      <td>...</td>\n",
       "      <td>...</td>\n",
       "      <td>...</td>\n",
       "      <td>...</td>\n",
       "      <td>...</td>\n",
       "      <td>...</td>\n",
       "    </tr>\n",
       "    <tr>\n",
       "      <th>2025-06-18 20:56:00</th>\n",
       "      <td>1.066747</td>\n",
       "      <td>0.884708</td>\n",
       "      <td>0.726751</td>\n",
       "      <td>0.844220</td>\n",
       "      <td>1.054542</td>\n",
       "      <td>1.323284</td>\n",
       "      <td>8.036307</td>\n",
       "      <td>12.644104</td>\n",
       "      <td>8.016463</td>\n",
       "      <td>12.657129</td>\n",
       "      <td>12.671316</td>\n",
       "      <td>0.445263</td>\n",
       "      <td>0.700633</td>\n",
       "      <td>196.667400</td>\n",
       "      <td>196.962600</td>\n",
       "      <td>0.684908</td>\n",
       "    </tr>\n",
       "    <tr>\n",
       "      <th>2025-06-18 20:57:00</th>\n",
       "      <td>0.436767</td>\n",
       "      <td>0.942109</td>\n",
       "      <td>0.484027</td>\n",
       "      <td>0.825992</td>\n",
       "      <td>1.142149</td>\n",
       "      <td>1.119932</td>\n",
       "      <td>8.037852</td>\n",
       "      <td>12.646131</td>\n",
       "      <td>8.018473</td>\n",
       "      <td>12.659979</td>\n",
       "      <td>12.673227</td>\n",
       "      <td>0.508794</td>\n",
       "      <td>0.361998</td>\n",
       "      <td>196.527500</td>\n",
       "      <td>196.822500</td>\n",
       "      <td>0.612206</td>\n",
       "    </tr>\n",
       "    <tr>\n",
       "      <th>2025-06-18 20:58:00</th>\n",
       "      <td>0.331541</td>\n",
       "      <td>0.919047</td>\n",
       "      <td>0.475468</td>\n",
       "      <td>0.848628</td>\n",
       "      <td>1.381234</td>\n",
       "      <td>0.832284</td>\n",
       "      <td>8.039467</td>\n",
       "      <td>12.648581</td>\n",
       "      <td>8.019501</td>\n",
       "      <td>12.662099</td>\n",
       "      <td>12.674571</td>\n",
       "      <td>0.471436</td>\n",
       "      <td>0.340989</td>\n",
       "      <td>196.522500</td>\n",
       "      <td>196.817500</td>\n",
       "      <td>0.610468</td>\n",
       "    </tr>\n",
       "    <tr>\n",
       "      <th>2025-06-18 20:59:00</th>\n",
       "      <td>-1.002846</td>\n",
       "      <td>1.231640</td>\n",
       "      <td>-0.145922</td>\n",
       "      <td>0.866409</td>\n",
       "      <td>0.797727</td>\n",
       "      <td>-0.094278</td>\n",
       "      <td>8.039552</td>\n",
       "      <td>12.649994</td>\n",
       "      <td>8.019122</td>\n",
       "      <td>12.661864</td>\n",
       "      <td>12.667983</td>\n",
       "      <td>-0.037350</td>\n",
       "      <td>-0.857130</td>\n",
       "      <td>196.092800</td>\n",
       "      <td>196.387200</td>\n",
       "      <td>0.477090</td>\n",
       "    </tr>\n",
       "    <tr>\n",
       "      <th>2025-06-18 21:00:00</th>\n",
       "      <td>0.302116</td>\n",
       "      <td>1.316801</td>\n",
       "      <td>0.193492</td>\n",
       "      <td>0.800014</td>\n",
       "      <td>0.996128</td>\n",
       "      <td>0.665797</td>\n",
       "      <td>8.039759</td>\n",
       "      <td>12.651761</td>\n",
       "      <td>8.021033</td>\n",
       "      <td>12.663560</td>\n",
       "      <td>12.668342</td>\n",
       "      <td>-0.166493</td>\n",
       "      <td>0.028185</td>\n",
       "      <td>196.392600</td>\n",
       "      <td>196.687400</td>\n",
       "      <td>0.350968</td>\n",
       "    </tr>\n",
       "  </tbody>\n",
       "</table>\n",
       "<p>3605295 rows × 16 columns</p>\n",
       "</div>"
      ],
      "text/plain": [
       "                     vwap_dev_15    vol_15    rsi_15  bb_width_15      r_30  \\\n",
       "2004-01-02 13:09:00    -0.040178 -1.470597 -2.557298    -1.574415 -0.018856   \n",
       "2004-01-02 13:10:00    -0.048980 -1.466297 -2.557298    -1.545814 -0.024582   \n",
       "2004-01-02 13:11:00    -0.056140 -1.463327 -2.557298    -1.516045 -0.030308   \n",
       "2004-01-02 13:12:00    -0.061878 -1.461447 -2.557298    -1.485916 -0.036035   \n",
       "2004-01-02 13:13:00    -0.066452 -1.460532 -2.557298    -1.456142 -0.041762   \n",
       "...                          ...       ...       ...          ...       ...   \n",
       "2025-06-18 20:56:00     1.066747  0.884708  0.726751     0.844220  1.054542   \n",
       "2025-06-18 20:57:00     0.436767  0.942109  0.484027     0.825992  1.142149   \n",
       "2025-06-18 20:58:00     0.331541  0.919047  0.475468     0.848628  1.381234   \n",
       "2025-06-18 20:59:00    -1.002846  1.231640 -0.145922     0.866409  0.797727   \n",
       "2025-06-18 21:00:00     0.302116  1.316801  0.193492     0.800014  0.996128   \n",
       "\n",
       "                         r_15  bb_hband_15     sma_30  bb_lband_15     sma_15  \\\n",
       "2004-01-02 13:09:00 -0.025470    -0.594094  -1.165607    -0.593601  -1.165606   \n",
       "2004-01-02 13:10:00 -0.033444    -0.594093  -1.165607    -0.593602  -1.165607   \n",
       "2004-01-02 13:11:00 -0.041417    -0.594093  -1.165607    -0.593603  -1.165607   \n",
       "2004-01-02 13:12:00 -0.049391    -0.594093  -1.165607    -0.593604  -1.165608   \n",
       "2004-01-02 13:13:00 -0.057365    -0.594092  -1.165608    -0.593605  -1.165608   \n",
       "...                       ...          ...        ...          ...        ...   \n",
       "2025-06-18 20:56:00  1.323284     8.036307  12.644104     8.016463  12.657129   \n",
       "2025-06-18 20:57:00  1.119932     8.037852  12.646131     8.018473  12.659979   \n",
       "2025-06-18 20:58:00  0.832284     8.039467  12.648581     8.019501  12.662099   \n",
       "2025-06-18 20:59:00 -0.094278     8.039552  12.649994     8.019122  12.661864   \n",
       "2025-06-18 21:00:00  0.665797     8.039759  12.651761     8.021033  12.663560   \n",
       "\n",
       "                         ema_7  stoch_d_3  stoch_k_15         bid         ask  \\\n",
       "2004-01-02 13:09:00  -1.165607  -1.876805   -1.785354    0.763664    0.764807   \n",
       "2004-01-02 13:10:00  -1.165608  -1.876805   -1.785354    0.763647    0.764790   \n",
       "2004-01-02 13:11:00  -1.165609  -1.876805   -1.785354    0.763631    0.764773   \n",
       "2004-01-02 13:12:00  -1.165610  -1.876805   -1.785354    0.763614    0.764757   \n",
       "2004-01-02 13:13:00  -1.165611  -1.876805   -1.785354    0.763597    0.764740   \n",
       "...                        ...        ...         ...         ...         ...   \n",
       "2025-06-18 20:56:00  12.671316   0.445263    0.700633  196.667400  196.962600   \n",
       "2025-06-18 20:57:00  12.673227   0.508794    0.361998  196.527500  196.822500   \n",
       "2025-06-18 20:58:00  12.674571   0.471436    0.340989  196.522500  196.817500   \n",
       "2025-06-18 20:59:00  12.667983  -0.037350   -0.857130  196.092800  196.387200   \n",
       "2025-06-18 21:00:00  12.668342  -0.166493    0.028185  196.392600  196.687400   \n",
       "\n",
       "                       signal  \n",
       "2004-01-02 13:09:00  0.021536  \n",
       "2004-01-02 13:10:00  0.023284  \n",
       "2004-01-02 13:11:00  0.025175  \n",
       "2004-01-02 13:12:00  0.027222  \n",
       "2004-01-02 13:13:00  0.029436  \n",
       "...                       ...  \n",
       "2025-06-18 20:56:00  0.684908  \n",
       "2025-06-18 20:57:00  0.612206  \n",
       "2025-06-18 20:58:00  0.610468  \n",
       "2025-06-18 20:59:00  0.477090  \n",
       "2025-06-18 21:00:00  0.350968  \n",
       "\n",
       "[3605295 rows x 16 columns]"
      ]
     },
     "execution_count": 3,
     "metadata": {},
     "output_type": "execute_result"
    }
   ],
   "source": [
    "df_feat_sel = pd.read_csv(params.feat_all_csv, index_col=0, parse_dates=True)[params.features_cols_tick + ['bid','ask'] + [params.label_col]]\n",
    "    \n",
    "df_feat_sel"
   ]
  },
  {
   "cell_type": "code",
   "execution_count": 4,
   "id": "b805fa9c",
   "metadata": {},
   "outputs": [
    {
     "name": "stdout",
     "output_type": "stream",
     "text": [
      "Inside build_lstm_tensors, using: ['vwap_dev_15', 'vol_15', 'rsi_15', 'bb_width_15', 'r_30', 'r_15', 'bb_hband_15', 'sma_30', 'bb_lband_15', 'sma_15', 'ema_7', 'stoch_d_3', 'stoch_k_15']\n"
     ]
    },
    {
     "data": {
      "application/vnd.jupyter.widget-view+json": {
       "model_id": "4f626efa983e467fb411aa2cc7185c2a",
       "version_major": 2,
       "version_minor": 0
      },
      "text/plain": [
       "Counting windows:   0%|          | 0/5400 [00:00<?, ?it/s]"
      ]
     },
     "metadata": {},
     "output_type": "display_data"
    },
    {
     "data": {
      "application/vnd.jupyter.widget-view+json": {
       "model_id": "a06d69b45e474ce5ba595990a3cddadb",
       "version_major": 2,
       "version_minor": 0
      },
      "text/plain": [
       "Writing memmaps:   0%|          | 0/5400 [00:00<?, ?it/s]"
      ]
     },
     "metadata": {},
     "output_type": "display_data"
    },
    {
     "name": "stdout",
     "output_type": "stream",
     "text": [
      "Shapes:\n",
      "  X         = torch.Size([2419779, 60, 13]) (samples, look_back, features)\n",
      "  y_sig     = torch.Size([2419779]) (samples,)\n",
      "  y_ret     = torch.Size([2419779]) (samples,)\n",
      "  raw_close = torch.Size([2419779])\n",
      "  raw_bid   = torch.Size([2419779])\n",
      "  raw_ask   = torch.Size([2419779])\n",
      "  end_times = (2419779,)\n"
     ]
    }
   ],
   "source": [
    "# Build LSTM input tensors (disk-backed memmaps)\n",
    "X, y_sig, y_ret, raw_close, raw_bid, raw_ask, end_times = models.build_lstm_tensors(\n",
    "    df            = df_feat_sel,\n",
    "    sess_start    = params.sess_start_pred_tick \n",
    ")\n",
    "\n",
    "# quick shapes\n",
    "print(\"Shapes:\")\n",
    "print(\"  X         =\", X.shape,    \"(samples, look_back, features)\")\n",
    "print(\"  y_sig     =\", y_sig.shape, \"(samples,)\")\n",
    "print(\"  y_ret     =\", y_ret.shape, \"(samples,)\")\n",
    "print(\"  raw_close =\", raw_close.shape)\n",
    "print(\"  raw_bid   =\", raw_bid.shape)\n",
    "print(\"  raw_ask   =\", raw_ask.shape)\n",
    "print(\"  end_times =\", end_times.shape)\n"
   ]
  },
  {
   "cell_type": "code",
   "execution_count": 5,
   "id": "7b4f1ac4",
   "metadata": {},
   "outputs": [
    {
     "name": "stdout",
     "output_type": "stream",
     "text": [
      "Shapes:\n",
      "  X_tr  = torch.Size([1716386, 60, 13])\n",
      "  y_sig_tr, y_ret_tr = torch.Size([1716386]) torch.Size([1716386])\n",
      "  X_val = torch.Size([338701, 60, 13])\n",
      "  y_sig_val, y_ret_val = torch.Size([338701]) torch.Size([338701])\n",
      "  X_te  = torch.Size([364692, 60, 13])\n",
      "  y_sig_te, y_ret_te = torch.Size([364692]) torch.Size([364692])\n"
     ]
    }
   ],
   "source": [
    "# Split into train/val/test by calendar day\n",
    "(\n",
    "(X_tr,  y_sig_tr,  y_ret_tr),\n",
    "(X_val, y_sig_val, y_ret_val),\n",
    "(X_te,  y_sig_te,  y_ret_te,  raw_close_te, raw_bid_te, raw_ask_te),\n",
    "samples_per_day,\n",
    "day_id_tr, day_id_val, day_id_te\n",
    ") = models.chronological_split(\n",
    "    X, y_sig, y_ret,\n",
    "    raw_close, raw_bid, raw_ask,\n",
    "    end_times   = end_times,\n",
    "    train_prop  = params.train_prop,\n",
    "    val_prop    = params.val_prop,\n",
    "    train_batch = params.hparams['TRAIN_BATCH']\n",
    ")\n",
    "\n",
    "# Print shapes of all tensors\n",
    "print(\"Shapes:\")\n",
    "print(\"  X_tr  =\", X_tr.shape)\n",
    "print(\"  y_sig_tr, y_ret_tr =\", y_sig_tr.shape, y_ret_tr.shape)\n",
    "print(\"  X_val =\", X_val.shape)\n",
    "print(\"  y_sig_val, y_ret_val =\", y_sig_val.shape, y_ret_val.shape)\n",
    "print(\"  X_te  =\", X_te.shape)\n",
    "print(\"  y_sig_te, y_ret_te =\", y_sig_te.shape, y_ret_te.shape)\n"
   ]
  },
  {
   "cell_type": "code",
   "execution_count": 6,
   "id": "1ad9b6c4-3d79-45c0-b2c0-c4f46f1ad866",
   "metadata": {},
   "outputs": [
    {
     "data": {
      "application/vnd.jupyter.widget-view+json": {
       "model_id": "52b09b33a1214f7fbfdbc53e8a6519c2",
       "version_major": 2,
       "version_minor": 0
      },
      "text/plain": [
       "Creating DayWindowDatasets:   0%|          | 0/3 [00:00<?, ?split/s]"
      ]
     },
     "metadata": {},
     "output_type": "display_data"
    },
    {
     "name": "stdout",
     "output_type": "stream",
     "text": [
      "Days  → train=3840, val=751, test=809\n",
      "Batches → train=60,   val=751,   test=809\n"
     ]
    }
   ],
   "source": [
    "# carve `end_times` into the same three splits:\n",
    "n_tr  = day_id_tr .shape[0] \n",
    "n_val = day_id_val.shape[0]\n",
    "i_tr  = n_tr\n",
    "i_val = n_tr + n_val\n",
    "\n",
    "end_times_tr  = end_times[:i_tr]\n",
    "end_times_val = end_times[i_tr:i_val]\n",
    "end_times_te  = end_times[i_val:]\n",
    "\n",
    "# -----------------------------------------------------------------------------\n",
    "#  Build DataLoaders over calendar‐days\n",
    "# -----------------------------------------------------------------------------\n",
    "train_loader, val_loader, test_loader = models.split_to_day_datasets(\n",
    "    # train split:   \n",
    "    X_tr,            y_sig_tr,     y_ret_tr,   end_times_tr,\n",
    "    # val split:\n",
    "    X_val,           y_sig_val,    y_ret_val,  end_times_val,\n",
    "    # test split + raw‐prices\n",
    "    X_te,            y_sig_te,     y_ret_te,   end_times_te,\n",
    "    raw_close_te, raw_bid_te, raw_ask_te,\n",
    "    \n",
    "    sess_start_time       = params.sess_start_pred_tick,\n",
    "    signal_thresh         = params.best_optuna_params[\"buy_threshold\"],\n",
    "    return_thresh         = 0.01,  # flat‐zone threshold for returns (to tune)\n",
    "    train_batch           = params.hparams[\"TRAIN_BATCH\"],\n",
    "    train_workers         = params.hparams[\"NUM_WORKERS\"],\n",
    "    train_prefetch_factor = params.hparams[\"TRAIN_PREFETCH_FACTOR\"]\n",
    ")\n",
    "\n",
    "print(f\"Days  → train={len(train_loader.dataset)}, val={len(val_loader.dataset)}, test={len(test_loader.dataset)}\")\n",
    "print(f\"Batches → train={len(train_loader)},   val={len(val_loader)},   test={len(test_loader)}\")"
   ]
  },
  {
   "cell_type": "code",
   "execution_count": 7,
   "id": "eeec031f-6c8f-455f-9c72-ae411e03ba34",
   "metadata": {},
   "outputs": [
    {
     "data": {
      "text/plain": [
       "DualMemoryLSTM(\n",
       "  (conv): Conv1d(13, 13, kernel_size=(3,), stride=(1,), padding=(1,))\n",
       "  (short_lstm): LSTM(13, 48, batch_first=True, bidirectional=True)\n",
       "  (attn): MultiheadAttention(\n",
       "    (out_proj): NonDynamicallyQuantizableLinear(in_features=96, out_features=96, bias=True)\n",
       "  )\n",
       "  (do_short): Dropout(p=0.25, inplace=False)\n",
       "  (ln_short): LayerNorm((96,), eps=1e-05, elementwise_affine=True)\n",
       "  (long_lstm): LSTM(96, 48, batch_first=True, bidirectional=True)\n",
       "  (do_long): Dropout(p=0.25, inplace=False)\n",
       "  (ln_long): LayerNorm((96,), eps=1e-05, elementwise_affine=True)\n",
       "  (pred): Linear(in_features=96, out_features=1, bias=True)\n",
       "  (cls_head): Linear(in_features=96, out_features=1, bias=True)\n",
       "  (cls_ter): Linear(in_features=96, out_features=3, bias=True)\n",
       ")"
      ]
     },
     "execution_count": 7,
     "metadata": {},
     "output_type": "execute_result"
    }
   ],
   "source": [
    "# -----------------------------------------------------------------------------\n",
    "# Instantiate the stateful DualMemoryLSTM & move to device\n",
    "# -----------------------------------------------------------------------------\n",
    "model = models.DualMemoryLSTM(\n",
    "    n_feats        = X.shape[-1],                          \n",
    "    short_units    = params.hparams['SHORT_UNITS'],    \n",
    "    long_units     = params.hparams['LONG_UNITS'],     \n",
    "    dropout_short  = params.hparams['DROPOUT_SHORT'],  \n",
    "    dropout_long   = params.hparams['DROPOUT_LONG'],   \n",
    "    att_heads      = params.hparams['ATT_HEADS'],\n",
    "    att_drop       = params.hparams['ATT_DROPOUT']\n",
    ")\n",
    "model.to(params.device)  \n",
    "\n",
    "model"
   ]
  },
  {
   "cell_type": "code",
   "execution_count": 8,
   "id": "5512a0dd-d2c8-418e-bfca-4580fb4be995",
   "metadata": {},
   "outputs": [
    {
     "data": {
      "text/plain": [
       "AdamW (\n",
       "Parameter Group 0\n",
       "    amsgrad: False\n",
       "    betas: (0.9, 0.999)\n",
       "    capturable: False\n",
       "    decoupled_weight_decay: True\n",
       "    differentiable: False\n",
       "    eps: 1e-08\n",
       "    foreach: None\n",
       "    fused: None\n",
       "    initial_lr: 5e-05\n",
       "    lr: 5e-05\n",
       "    maximize: False\n",
       "    weight_decay: 9e-05\n",
       ")"
      ]
     },
     "execution_count": 8,
     "metadata": {},
     "output_type": "execute_result"
    }
   ],
   "source": [
    "# -----------------------------------------------------------------------------\n",
    "# Build optimizer, LR scheduler, AMP scaler, and gradient‐clip norm\n",
    "# -----------------------------------------------------------------------------\n",
    "optimizer, plateau_sched, cosine_sched, scaler, clipnorm = models.make_optimizer_and_scheduler(\n",
    "    model,\n",
    "    initial_lr        = params.hparams['INITIAL_LR'],       \n",
    "    weight_decay      = params.hparams['WEIGHT_DECAY'],     \n",
    "    clipnorm          = params.hparams['CLIPNORM']   \n",
    ")\n",
    "\n",
    "optimizer"
   ]
  },
  {
   "cell_type": "code",
   "execution_count": 9,
   "id": "e9c5fc27-f31d-4adc-a247-5468674f83fc",
   "metadata": {},
   "outputs": [
    {
     "name": "stdout",
     "output_type": "stream",
     "text": [
      "Zero‐forecast RMSE (predict 0): train = 0.404006,  val = 0.409382\n",
      "\n",
      "Train target stats:\n",
      "  mean = 0.2811,  var = 0.0842,  std = 0.2901\n",
      "Train mean‐predictor baseline:\n",
      "  RMSE_baseline = 0.290139\n",
      "  R²_baseline   = 0.00\n",
      "\n",
      "Validation target stats:\n",
      "  mean = 0.2919,  var = 0.0824,  std = 0.2870\n",
      "Validation mean‐predictor baseline:\n",
      "  RMSE_baseline = 0.287012\n",
      "  R²_baseline   = 0.00\n",
      "\n"
     ]
    }
   ],
   "source": [
    "# -----------------------------------------------------------------------------\n",
    "# Helper: extract the true “signal” values from any loader into a flat array\n",
    "# -----------------------------------------------------------------------------\n",
    "def extract_y(loader):\n",
    "    return np.concatenate([batch[1].cpu().numpy().ravel() for batch in loader])\n",
    "\n",
    "# Pull out train & validation targets\n",
    "y_train = extract_y(train_loader)\n",
    "y_val   = extract_y(val_loader)\n",
    "\n",
    "# -----------------------------------------------------------------------------\n",
    "# 1) Zero‐forecast baseline RMSE (predict 0 always)\n",
    "#    RMSE_zero = √(mean(y²))\n",
    "# -----------------------------------------------------------------------------\n",
    "rmse_zero_train = np.sqrt(np.mean(y_train**2))\n",
    "rmse_zero_val   = np.sqrt(np.mean(y_val**2))\n",
    "print(f\"Zero‐forecast RMSE (predict 0): train = {rmse_zero_train:.6f},  val = {rmse_zero_val:.6f}\\n\")\n",
    "\n",
    "# -----------------------------------------------------------------------------\n",
    "# 2) Compute mean, variance & std for train/validation targets\n",
    "#    and derive the mean‐predictor baseline (R² = 0)\n",
    "# -----------------------------------------------------------------------------\n",
    "for split, y in [(\"Train\", y_train), (\"Validation\", y_val)]:\n",
    "    mean_y    = y.mean()\n",
    "    std_y     = y.std(ddof=0)     # population std = √variance\n",
    "    var_y     = std_y**2\n",
    "    rmse_mean = std_y            # RMSE_baseline = std(target)\n",
    "\n",
    "    print(f\"{split} target stats:\")\n",
    "    print(f\"  mean = {mean_y:.4f},  var = {var_y:.4f},  std = {std_y:.4f}\")\n",
    "    print(f\"{split} mean‐predictor baseline:\")\n",
    "    print(f\"  RMSE_baseline = {rmse_mean:.6f}\")\n",
    "    print(\"  R²_baseline   = 0.00\\n\")\n",
    "\n",
    "    if split == \"Validation\":\n",
    "        rmse_mean_val = rmse_mean # used afterwards for the final reporting\n",
    "        \n"
   ]
  },
  {
   "cell_type": "code",
   "execution_count": 10,
   "id": "a8f7ec8c-5882-486b-bdfd-371b8db260f9",
   "metadata": {},
   "outputs": [
    {
     "data": {
      "image/png": "[encoded data removed]",
      "text/plain": [
       "<Figure size 640x480 with 1 Axes>"
      ]
     },
     "metadata": {},
     "output_type": "display_data"
    }
   ],
   "source": [
    "# Visualize the true‐signal distributions on train vs. validation\n",
    "plt.hist(y_train, bins=100, alpha=0.5, label=\"train true\")\n",
    "plt.hist(y_val,   bins=100, alpha=0.5, label=\"val true\")\n",
    "plt.xlabel(\"Signal value\")\n",
    "plt.ylabel(\"Count\")\n",
    "plt.title(\"True Signal Distribution: Train vs. Validation\")\n",
    "plt.legend()\n",
    "plt.tight_layout()\n",
    "plt.show()\n"
   ]
  },
  {
   "cell_type": "code",
   "execution_count": 11,
   "id": "7bf94780-a876-4bf4-ad27-6abc2da1fc0a",
   "metadata": {},
   "outputs": [
    {
     "name": "stdout",
     "output_type": "stream",
     "text": [
      "Training sees 3840 unique trading days per epoch.\n",
      "\n"
     ]
    },
    {
     "data": {
      "image/png": "[encoded data removed]",
      "text/plain": [
       "<Figure size 660x440 with 1 Axes>"
      ]
     },
     "metadata": {},
     "output_type": "display_data"
    },
    {
     "data": {
      "application/vnd.jupyter.widget-view+json": {
       "model_id": "a8138fbda56d4d948204865936776cce",
       "version_major": 2,
       "version_minor": 0
      },
      "text/plain": [
       "Epoch 1:   0%|          | 0/60 [00:00<?, ?batch/s]"
      ]
     },
     "metadata": {},
     "output_type": "display_data"
    },
    {
     "name": "stdout",
     "output_type": "stream",
     "text": [
      "Epoch 001\n",
      "TRAIN→ \"R\": RMSE=0.3037 MAE=0.2406 R2=-0.0950 | \"B\": Acc=0.4426 Prec=0.2902 Rec=0.7017 F1=0.4105 AUROC=0.5376\n",
      "VALID→ \"R\": RMSE=0.2808 MAE=0.2154 R2=0.0428 | \"B\": Acc=0.6521 Prec=0.3679 Rec=0.2938 F1=0.3267 AUROC=0.5568\n"
     ]
    },
    {
     "data": {
      "application/vnd.jupyter.widget-view+json": {
       "model_id": "71b4c09466014c959cb3f358fde5a222",
       "version_major": 2,
       "version_minor": 0
      },
      "text/plain": [
       "Epoch 2:   0%|          | 0/60 [00:00<?, ?batch/s]"
      ]
     },
     "metadata": {},
     "output_type": "display_data"
    },
    {
     "name": "stdout",
     "output_type": "stream",
     "text": [
      "Epoch 002\n",
      "TRAIN→ \"R\": RMSE=0.2719 MAE=0.2081 R2=0.1222 | \"B\": Acc=0.4899 Prec=0.2962 Rec=0.6130 F1=0.3994 AUROC=0.5423\n",
      "VALID→ \"R\": RMSE=0.2714 MAE=0.2128 R2=0.1061 | \"B\": Acc=0.6634 Prec=0.4073 Rec=0.3772 F1=0.3916 AUROC=0.5895\n"
     ]
    },
    {
     "data": {
      "application/vnd.jupyter.widget-view+json": {
       "model_id": "884826f8ccc641689787eab3a9c834b5",
       "version_major": 2,
       "version_minor": 0
      },
      "text/plain": [
       "Epoch 3:   0%|          | 0/60 [00:00<?, ?batch/s]"
      ]
     },
     "metadata": {},
     "output_type": "display_data"
    },
    {
     "name": "stdout",
     "output_type": "stream",
     "text": [
      "Epoch 003\n",
      "TRAIN→ \"R\": RMSE=0.2658 MAE=0.2010 R2=0.1609 | \"B\": Acc=0.4908 Prec=0.2990 Rec=0.6255 F1=0.4046 AUROC=0.5510\n",
      "VALID→ \"R\": RMSE=0.2650 MAE=0.2033 R2=0.1477 | \"B\": Acc=0.6754 Prec=0.4240 Rec=0.3622 F1=0.3907 AUROC=0.6041\n"
     ]
    },
    {
     "data": {
      "application/vnd.jupyter.widget-view+json": {
       "model_id": "f9c4a35a400d49c384bab1534a8c7f09",
       "version_major": 2,
       "version_minor": 0
      },
      "text/plain": [
       "Epoch 4:   0%|          | 0/60 [00:00<?, ?batch/s]"
      ]
     },
     "metadata": {},
     "output_type": "display_data"
    },
    {
     "name": "stdout",
     "output_type": "stream",
     "text": [
      "Epoch 004\n",
      "TRAIN→ \"R\": RMSE=0.2627 MAE=0.2000 R2=0.1807 | \"B\": Acc=0.4787 Prec=0.3009 Rec=0.6684 F1=0.4150 AUROC=0.5627\n",
      "VALID→ \"R\": RMSE=0.2642 MAE=0.2028 R2=0.1524 | \"B\": Acc=0.6916 Prec=0.4512 Rec=0.3397 F1=0.3876 AUROC=0.6184\n"
     ]
    },
    {
     "data": {
      "application/vnd.jupyter.widget-view+json": {
       "model_id": "b7e0ed43805945f682fe44dba8a9b3b9",
       "version_major": 2,
       "version_minor": 0
      },
      "text/plain": [
       "Epoch 5:   0%|          | 0/60 [00:00<?, ?batch/s]"
      ]
     },
     "metadata": {},
     "output_type": "display_data"
    },
    {
     "name": "stdout",
     "output_type": "stream",
     "text": [
      "Epoch 005\n",
      "TRAIN→ \"R\": RMSE=0.2608 MAE=0.1991 R2=0.1927 | \"B\": Acc=0.4814 Prec=0.3059 Rec=0.6894 F1=0.4238 AUROC=0.5770\n",
      "VALID→ \"R\": RMSE=0.2620 MAE=0.2010 R2=0.1669 | \"B\": Acc=0.7086 Prec=0.4869 Rec=0.2681 F1=0.3458 AUROC=0.6314\n"
     ]
    },
    {
     "data": {
      "application/vnd.jupyter.widget-view+json": {
       "model_id": "426bcc28c037414ebdbdee94a23abd4a",
       "version_major": 2,
       "version_minor": 0
      },
      "text/plain": [
       "Epoch 6:   0%|          | 0/60 [00:00<?, ?batch/s]"
      ]
     },
     "metadata": {},
     "output_type": "display_data"
    },
    {
     "name": "stdout",
     "output_type": "stream",
     "text": [
      "Epoch 006\n",
      "TRAIN→ \"R\": RMSE=0.2595 MAE=0.1980 R2=0.2007 | \"B\": Acc=0.4901 Prec=0.3114 Rec=0.6958 F1=0.4302 AUROC=0.5886\n",
      "VALID→ \"R\": RMSE=0.2607 MAE=0.2009 R2=0.1752 | \"B\": Acc=0.7127 Prec=0.5000 Rec=0.2377 F1=0.3222 AUROC=0.6419\n"
     ]
    },
    {
     "data": {
      "application/vnd.jupyter.widget-view+json": {
       "model_id": "c1c5ea50e7744ebfa6f6033d2466726d",
       "version_major": 2,
       "version_minor": 0
      },
      "text/plain": [
       "Epoch 7:   0%|          | 0/60 [00:00<?, ?batch/s]"
      ]
     },
     "metadata": {},
     "output_type": "display_data"
    },
    {
     "name": "stdout",
     "output_type": "stream",
     "text": [
      "Epoch 007\n",
      "TRAIN→ \"R\": RMSE=0.2584 MAE=0.1973 R2=0.2072 | \"B\": Acc=0.4980 Prec=0.3156 Rec=0.6975 F1=0.4346 AUROC=0.5975\n",
      "VALID→ \"R\": RMSE=0.2595 MAE=0.2002 R2=0.1823 | \"B\": Acc=0.7141 Prec=0.5055 Rec=0.2190 F1=0.3056 AUROC=0.6483\n"
     ]
    },
    {
     "data": {
      "application/vnd.jupyter.widget-view+json": {
       "model_id": "e7b58dd7e8fb42fab79e945176779284",
       "version_major": 2,
       "version_minor": 0
      },
      "text/plain": [
       "Epoch 8:   0%|          | 0/60 [00:00<?, ?batch/s]"
      ]
     },
     "metadata": {},
     "output_type": "display_data"
    },
    {
     "name": "stdout",
     "output_type": "stream",
     "text": [
      "Epoch 008\n",
      "TRAIN→ \"R\": RMSE=0.2575 MAE=0.1966 R2=0.2127 | \"B\": Acc=0.5072 Prec=0.3203 Rec=0.6967 F1=0.4389 AUROC=0.6049\n",
      "VALID→ \"R\": RMSE=0.2582 MAE=0.1989 R2=0.1905 | \"B\": Acc=0.7146 Prec=0.5084 Rec=0.1958 F1=0.2827 AUROC=0.6517\n"
     ]
    },
    {
     "data": {
      "application/vnd.jupyter.widget-view+json": {
       "model_id": "653db75dad7d45f79c30bf8a8eac7997",
       "version_major": 2,
       "version_minor": 0
      },
      "text/plain": [
       "Epoch 9:   0%|          | 0/60 [00:00<?, ?batch/s]"
      ]
     },
     "metadata": {},
     "output_type": "display_data"
    },
    {
     "name": "stdout",
     "output_type": "stream",
     "text": [
      "Epoch 009\n",
      "TRAIN→ \"R\": RMSE=0.2568 MAE=0.1960 R2=0.2168 | \"B\": Acc=0.5180 Prec=0.3252 Rec=0.6910 F1=0.4423 AUROC=0.6114\n",
      "VALID→ \"R\": RMSE=0.2574 MAE=0.1978 R2=0.1957 | \"B\": Acc=0.7149 Prec=0.5104 Rec=0.1915 F1=0.2785 AUROC=0.6544\n"
     ]
    },
    {
     "data": {
      "application/vnd.jupyter.widget-view+json": {
       "model_id": "d5884c5d231b4789a83f93a3d0d64311",
       "version_major": 2,
       "version_minor": 0
      },
      "text/plain": [
       "Epoch 10:   0%|          | 0/60 [00:00<?, ?batch/s]"
      ]
     },
     "metadata": {},
     "output_type": "display_data"
    },
    {
     "name": "stdout",
     "output_type": "stream",
     "text": [
      "Epoch 010\n",
      "TRAIN→ \"R\": RMSE=0.2563 MAE=0.1951 R2=0.2200 | \"B\": Acc=0.5214 Prec=0.3273 Rec=0.6917 F1=0.4443 AUROC=0.6155\n",
      "VALID→ \"R\": RMSE=0.2569 MAE=0.1978 R2=0.1989 | \"B\": Acc=0.7148 Prec=0.5096 Rec=0.1953 F1=0.2824 AUROC=0.6559\n"
     ]
    },
    {
     "data": {
      "application/vnd.jupyter.widget-view+json": {
       "model_id": "59186d234eb5474185909603551e1dbb",
       "version_major": 2,
       "version_minor": 0
      },
      "text/plain": [
       "Epoch 11:   0%|          | 0/60 [00:00<?, ?batch/s]"
      ]
     },
     "metadata": {},
     "output_type": "display_data"
    },
    {
     "name": "stdout",
     "output_type": "stream",
     "text": [
      "Epoch 011\n",
      "TRAIN→ \"R\": RMSE=0.2558 MAE=0.1945 R2=0.2230 | \"B\": Acc=0.5278 Prec=0.3307 Rec=0.6904 F1=0.4472 AUROC=0.6207\n",
      "VALID→ \"R\": RMSE=0.2571 MAE=0.1987 R2=0.1979 | \"B\": Acc=0.7150 Prec=0.5108 Rec=0.1911 F1=0.2782 AUROC=0.6564\n"
     ]
    },
    {
     "data": {
      "application/vnd.jupyter.widget-view+json": {
       "model_id": "62ed797b4ce04a75b53534869e4b0c31",
       "version_major": 2,
       "version_minor": 0
      },
      "text/plain": [
       "Epoch 12:   0%|          | 0/60 [00:00<?, ?batch/s]"
      ]
     },
     "metadata": {},
     "output_type": "display_data"
    },
    {
     "name": "stdout",
     "output_type": "stream",
     "text": [
      "Epoch 012\n",
      "TRAIN→ \"R\": RMSE=0.2553 MAE=0.1941 R2=0.2260 | \"B\": Acc=0.5341 Prec=0.3336 Rec=0.6858 F1=0.4489 AUROC=0.6236\n",
      "VALID→ \"R\": RMSE=0.2567 MAE=0.1983 R2=0.2003 | \"B\": Acc=0.7149 Prec=0.5107 Rec=0.1854 F1=0.2721 AUROC=0.6569\n"
     ]
    },
    {
     "data": {
      "application/vnd.jupyter.widget-view+json": {
       "model_id": "2f7fd588966d44e78298a7db2b06c0b5",
       "version_major": 2,
       "version_minor": 0
      },
      "text/plain": [
       "Epoch 13:   0%|          | 0/60 [00:00<?, ?batch/s]"
      ]
     },
     "metadata": {},
     "output_type": "display_data"
    },
    {
     "name": "stdout",
     "output_type": "stream",
     "text": [
      "Epoch 013\n",
      "TRAIN→ \"R\": RMSE=0.2550 MAE=0.1937 R2=0.2279 | \"B\": Acc=0.5423 Prec=0.3370 Rec=0.6765 F1=0.4499 AUROC=0.6268\n",
      "VALID→ \"R\": RMSE=0.2562 MAE=0.1978 R2=0.2031 | \"B\": Acc=0.7146 Prec=0.5090 Rec=0.1898 F1=0.2765 AUROC=0.6575\n"
     ]
    },
    {
     "data": {
      "application/vnd.jupyter.widget-view+json": {
       "model_id": "0f8bf085ec5445c1855013211227b9d3",
       "version_major": 2,
       "version_minor": 0
      },
      "text/plain": [
       "Epoch 14:   0%|          | 0/60 [00:00<?, ?batch/s]"
      ]
     },
     "metadata": {},
     "output_type": "display_data"
    },
    {
     "name": "stdout",
     "output_type": "stream",
     "text": [
      "Epoch 014\n",
      "TRAIN→ \"R\": RMSE=0.2548 MAE=0.1933 R2=0.2294 | \"B\": Acc=0.5459 Prec=0.3392 Rec=0.6766 F1=0.4519 AUROC=0.6302\n",
      "VALID→ \"R\": RMSE=0.2562 MAE=0.1983 R2=0.2031 | \"B\": Acc=0.7138 Prec=0.5051 Rec=0.1937 F1=0.2800 AUROC=0.6581\n"
     ]
    },
    {
     "data": {
      "application/vnd.jupyter.widget-view+json": {
       "model_id": "79e338a9c04d425b9a429ad2c73ac4eb",
       "version_major": 2,
       "version_minor": 0
      },
      "text/plain": [
       "Epoch 15:   0%|          | 0/60 [00:00<?, ?batch/s]"
      ]
     },
     "metadata": {},
     "output_type": "display_data"
    },
    {
     "name": "stdout",
     "output_type": "stream",
     "text": [
      "Epoch 015\n",
      "TRAIN→ \"R\": RMSE=0.2544 MAE=0.1931 R2=0.2315 | \"B\": Acc=0.5509 Prec=0.3417 Rec=0.6725 F1=0.4531 AUROC=0.6322\n",
      "VALID→ \"R\": RMSE=0.2561 MAE=0.1985 R2=0.2036 | \"B\": Acc=0.7143 Prec=0.5075 Rec=0.1914 F1=0.2780 AUROC=0.6572\n"
     ]
    },
    {
     "data": {
      "application/vnd.jupyter.widget-view+json": {
       "model_id": "f6e00ecdae41411f9aa01e3120a6763b",
       "version_major": 2,
       "version_minor": 0
      },
      "text/plain": [
       "Epoch 16:   0%|          | 0/60 [00:00<?, ?batch/s]"
      ]
     },
     "metadata": {},
     "output_type": "display_data"
    },
    {
     "name": "stdout",
     "output_type": "stream",
     "text": [
      "Epoch 016\n",
      "TRAIN→ \"R\": RMSE=0.2540 MAE=0.1929 R2=0.2340 | \"B\": Acc=0.5569 Prec=0.3448 Rec=0.6681 F1=0.4548 AUROC=0.6357\n",
      "VALID→ \"R\": RMSE=0.2557 MAE=0.1978 R2=0.2062 | \"B\": Acc=0.7136 Prec=0.5040 Rec=0.1917 F1=0.2777 AUROC=0.6574\n"
     ]
    },
    {
     "data": {
      "application/vnd.jupyter.widget-view+json": {
       "model_id": "2e90fe0ef23a4f9c983a36a99598b793",
       "version_major": 2,
       "version_minor": 0
      },
      "text/plain": [
       "Epoch 17:   0%|          | 0/60 [00:00<?, ?batch/s]"
      ]
     },
     "metadata": {},
     "output_type": "display_data"
    },
    {
     "name": "stdout",
     "output_type": "stream",
     "text": [
      "Epoch 017\n",
      "TRAIN→ \"R\": RMSE=0.2538 MAE=0.1925 R2=0.2352 | \"B\": Acc=0.5574 Prec=0.3454 Rec=0.6704 F1=0.4560 AUROC=0.6375\n",
      "VALID→ \"R\": RMSE=0.2557 MAE=0.1981 R2=0.2065 | \"B\": Acc=0.7138 Prec=0.5050 Rec=0.1960 F1=0.2823 AUROC=0.6605\n"
     ]
    },
    {
     "data": {
      "application/vnd.jupyter.widget-view+json": {
       "model_id": "b2528178e011496ba7bce61983147596",
       "version_major": 2,
       "version_minor": 0
      },
      "text/plain": [
       "Epoch 18:   0%|          | 0/60 [00:00<?, ?batch/s]"
      ]
     },
     "metadata": {},
     "output_type": "display_data"
    },
    {
     "name": "stdout",
     "output_type": "stream",
     "text": [
      "Epoch 018\n",
      "TRAIN→ \"R\": RMSE=0.2536 MAE=0.1924 R2=0.2362 | \"B\": Acc=0.5654 Prec=0.3494 Rec=0.6625 F1=0.4575 AUROC=0.6399\n",
      "VALID→ \"R\": RMSE=0.2555 MAE=0.1980 R2=0.2077 | \"B\": Acc=0.7152 Prec=0.5120 Rec=0.1861 F1=0.2730 AUROC=0.6627\n"
     ]
    },
    {
     "data": {
      "application/vnd.jupyter.widget-view+json": {
       "model_id": "a7d3dbeced4642c5a5f4ec2ad2600de9",
       "version_major": 2,
       "version_minor": 0
      },
      "text/plain": [
       "Epoch 19:   0%|          | 0/60 [00:00<?, ?batch/s]"
      ]
     },
     "metadata": {},
     "output_type": "display_data"
    },
    {
     "name": "stdout",
     "output_type": "stream",
     "text": [
      "Epoch 019\n",
      "TRAIN→ \"R\": RMSE=0.2534 MAE=0.1921 R2=0.2376 | \"B\": Acc=0.5705 Prec=0.3516 Rec=0.6544 F1=0.4574 AUROC=0.6406\n",
      "VALID→ \"R\": RMSE=0.2552 MAE=0.1979 R2=0.2093 | \"B\": Acc=0.7150 Prec=0.5107 Rec=0.1904 F1=0.2774 AUROC=0.6672\n"
     ]
    },
    {
     "data": {
      "application/vnd.jupyter.widget-view+json": {
       "model_id": "15792d5a2784444fb8fd111f6453a16a",
       "version_major": 2,
       "version_minor": 0
      },
      "text/plain": [
       "Epoch 20:   0%|          | 0/60 [00:00<?, ?batch/s]"
      ]
     },
     "metadata": {},
     "output_type": "display_data"
    },
    {
     "name": "stdout",
     "output_type": "stream",
     "text": [
      "Epoch 020\n",
      "TRAIN→ \"R\": RMSE=0.2533 MAE=0.1921 R2=0.2385 | \"B\": Acc=0.5743 Prec=0.3540 Rec=0.6535 F1=0.4593 AUROC=0.6430\n",
      "VALID→ \"R\": RMSE=0.2552 MAE=0.1979 R2=0.2094 | \"B\": Acc=0.7152 Prec=0.5115 Rec=0.1896 F1=0.2767 AUROC=0.6711\n"
     ]
    },
    {
     "data": {
      "application/vnd.jupyter.widget-view+json": {
       "model_id": "570598e50170443dbdd65fa4fdbf368d",
       "version_major": 2,
       "version_minor": 0
      },
      "text/plain": [
       "Epoch 21:   0%|          | 0/60 [00:00<?, ?batch/s]"
      ]
     },
     "metadata": {},
     "output_type": "display_data"
    },
    {
     "name": "stdout",
     "output_type": "stream",
     "text": [
      "Epoch 021\n",
      "TRAIN→ \"R\": RMSE=0.2530 MAE=0.1918 R2=0.2399 | \"B\": Acc=0.5750 Prec=0.3548 Rec=0.6548 F1=0.4602 AUROC=0.6446\n",
      "VALID→ \"R\": RMSE=0.2549 MAE=0.1974 R2=0.2114 | \"B\": Acc=0.7152 Prec=0.5113 Rec=0.1973 F1=0.2847 AUROC=0.6739\n"
     ]
    },
    {
     "data": {
      "application/vnd.jupyter.widget-view+json": {
       "model_id": "be96db5b8ad04b4f9f6c683c985bda66",
       "version_major": 2,
       "version_minor": 0
      },
      "text/plain": [
       "Epoch 22:   0%|          | 0/60 [00:00<?, ?batch/s]"
      ]
     },
     "metadata": {},
     "output_type": "display_data"
    },
    {
     "name": "stdout",
     "output_type": "stream",
     "text": [
      "Epoch 022\n",
      "TRAIN→ \"R\": RMSE=0.2529 MAE=0.1917 R2=0.2405 | \"B\": Acc=0.5760 Prec=0.3562 Rec=0.6598 F1=0.4626 AUROC=0.6471\n",
      "VALID→ \"R\": RMSE=0.2546 MAE=0.1972 R2=0.2132 | \"B\": Acc=0.7147 Prec=0.5086 Rec=0.2027 F1=0.2899 AUROC=0.6759\n"
     ]
    },
    {
     "data": {
      "application/vnd.jupyter.widget-view+json": {
       "model_id": "702dd256023440d2a499be7d920b31f7",
       "version_major": 2,
       "version_minor": 0
      },
      "text/plain": [
       "Epoch 23:   0%|          | 0/60 [00:00<?, ?batch/s]"
      ]
     },
     "metadata": {},
     "output_type": "display_data"
    },
    {
     "name": "stdout",
     "output_type": "stream",
     "text": [
      "Epoch 023\n",
      "TRAIN→ \"R\": RMSE=0.2528 MAE=0.1917 R2=0.2415 | \"B\": Acc=0.5756 Prec=0.3560 Rec=0.6607 F1=0.4627 AUROC=0.6473\n",
      "VALID→ \"R\": RMSE=0.2545 MAE=0.1970 R2=0.2140 | \"B\": Acc=0.7152 Prec=0.5112 Rec=0.2012 F1=0.2887 AUROC=0.6775\n"
     ]
    },
    {
     "data": {
      "application/vnd.jupyter.widget-view+json": {
       "model_id": "0f8d87356e4f4e58a64cd2be86fbe244",
       "version_major": 2,
       "version_minor": 0
      },
      "text/plain": [
       "Epoch 24:   0%|          | 0/60 [00:00<?, ?batch/s]"
      ]
     },
     "metadata": {},
     "output_type": "display_data"
    },
    {
     "name": "stdout",
     "output_type": "stream",
     "text": [
      "Epoch 024\n",
      "TRAIN→ \"R\": RMSE=0.2526 MAE=0.1915 R2=0.2425 | \"B\": Acc=0.5796 Prec=0.3586 Rec=0.6587 F1=0.4644 AUROC=0.6502\n",
      "VALID→ \"R\": RMSE=0.2542 MAE=0.1967 R2=0.2156 | \"B\": Acc=0.7157 Prec=0.5134 Rec=0.2003 F1=0.2881 AUROC=0.6804\n"
     ]
    },
    {
     "data": {
      "application/vnd.jupyter.widget-view+json": {
       "model_id": "23598ad3a6fb43a688df58f088f8a88f",
       "version_major": 2,
       "version_minor": 0
      },
      "text/plain": [
       "Epoch 25:   0%|          | 0/60 [00:00<?, ?batch/s]"
      ]
     },
     "metadata": {},
     "output_type": "display_data"
    },
    {
     "name": "stdout",
     "output_type": "stream",
     "text": [
      "Epoch 025\n",
      "TRAIN→ \"R\": RMSE=0.2524 MAE=0.1914 R2=0.2435 | \"B\": Acc=0.5841 Prec=0.3613 Rec=0.6560 F1=0.4660 AUROC=0.6517\n",
      "VALID→ \"R\": RMSE=0.2541 MAE=0.1967 R2=0.2163 | \"B\": Acc=0.7158 Prec=0.5135 Rec=0.2036 F1=0.2916 AUROC=0.6824\n"
     ]
    },
    {
     "data": {
      "application/vnd.jupyter.widget-view+json": {
       "model_id": "a673d8255d8a4938ab3266fbabbeaf0b",
       "version_major": 2,
       "version_minor": 0
      },
      "text/plain": [
       "Epoch 26:   0%|          | 0/60 [00:00<?, ?batch/s]"
      ]
     },
     "metadata": {},
     "output_type": "display_data"
    },
    {
     "name": "stdout",
     "output_type": "stream",
     "text": [
      "Epoch 026\n",
      "TRAIN→ \"R\": RMSE=0.2524 MAE=0.1914 R2=0.2438 | \"B\": Acc=0.5840 Prec=0.3609 Rec=0.6539 F1=0.4651 AUROC=0.6517\n",
      "VALID→ \"R\": RMSE=0.2541 MAE=0.1969 R2=0.2164 | \"B\": Acc=0.7157 Prec=0.5132 Rec=0.2042 F1=0.2921 AUROC=0.6843\n"
     ]
    },
    {
     "data": {
      "application/vnd.jupyter.widget-view+json": {
       "model_id": "258b054f5caa4cf9a8a4e85e47045a65",
       "version_major": 2,
       "version_minor": 0
      },
      "text/plain": [
       "Epoch 27:   0%|          | 0/60 [00:00<?, ?batch/s]"
      ]
     },
     "metadata": {},
     "output_type": "display_data"
    },
    {
     "name": "stdout",
     "output_type": "stream",
     "text": [
      "Epoch 027\n",
      "TRAIN→ \"R\": RMSE=0.2522 MAE=0.1912 R2=0.2449 | \"B\": Acc=0.5870 Prec=0.3629 Rec=0.6524 F1=0.4663 AUROC=0.6534\n",
      "VALID→ \"R\": RMSE=0.2541 MAE=0.1971 R2=0.2164 | \"B\": Acc=0.7166 Prec=0.5170 Rec=0.2060 F1=0.2946 AUROC=0.6871\n"
     ]
    },
    {
     "data": {
      "application/vnd.jupyter.widget-view+json": {
       "model_id": "a3a47c77dd9449738f505f3e390d34ab",
       "version_major": 2,
       "version_minor": 0
      },
      "text/plain": [
       "Epoch 28:   0%|          | 0/60 [00:00<?, ?batch/s]"
      ]
     },
     "metadata": {},
     "output_type": "display_data"
    },
    {
     "name": "stdout",
     "output_type": "stream",
     "text": [
      "Epoch 028\n",
      "TRAIN→ \"R\": RMSE=0.2520 MAE=0.1911 R2=0.2458 | \"B\": Acc=0.5885 Prec=0.3642 Rec=0.6538 F1=0.4678 AUROC=0.6555\n",
      "VALID→ \"R\": RMSE=0.2541 MAE=0.1976 R2=0.2165 | \"B\": Acc=0.7165 Prec=0.5164 Rec=0.2108 F1=0.2994 AUROC=0.6889\n"
     ]
    },
    {
     "data": {
      "application/vnd.jupyter.widget-view+json": {
       "model_id": "082a3e24b8304c81b9d7ea26f7afa777",
       "version_major": 2,
       "version_minor": 0
      },
      "text/plain": [
       "Epoch 29:   0%|          | 0/60 [00:00<?, ?batch/s]"
      ]
     },
     "metadata": {},
     "output_type": "display_data"
    },
    {
     "name": "stdout",
     "output_type": "stream",
     "text": [
      "Epoch 029\n",
      "TRAIN→ \"R\": RMSE=0.2520 MAE=0.1911 R2=0.2460 | \"B\": Acc=0.5903 Prec=0.3654 Rec=0.6534 F1=0.4687 AUROC=0.6566\n",
      "VALID→ \"R\": RMSE=0.2541 MAE=0.1977 R2=0.2164 | \"B\": Acc=0.7172 Prec=0.5189 Rec=0.2140 F1=0.3030 AUROC=0.6918\n"
     ]
    },
    {
     "data": {
      "application/vnd.jupyter.widget-view+json": {
       "model_id": "be6359f645584a878213d4aca157ac7c",
       "version_major": 2,
       "version_minor": 0
      },
      "text/plain": [
       "Epoch 30:   0%|          | 0/60 [00:00<?, ?batch/s]"
      ]
     },
     "metadata": {},
     "output_type": "display_data"
    },
    {
     "name": "stdout",
     "output_type": "stream",
     "text": [
      "Epoch 030\n",
      "TRAIN→ \"R\": RMSE=0.2518 MAE=0.1911 R2=0.2471 | \"B\": Acc=0.5939 Prec=0.3680 Rec=0.6526 F1=0.4706 AUROC=0.6582\n",
      "VALID→ \"R\": RMSE=0.2540 MAE=0.1978 R2=0.2167 | \"B\": Acc=0.7181 Prec=0.5233 Rec=0.2103 F1=0.3001 AUROC=0.6950\n"
     ]
    },
    {
     "data": {
      "application/vnd.jupyter.widget-view+json": {
       "model_id": "c9df7d758a024d51a4744c0be3eec575",
       "version_major": 2,
       "version_minor": 0
      },
      "text/plain": [
       "Epoch 31:   0%|          | 0/60 [00:00<?, ?batch/s]"
      ]
     },
     "metadata": {},
     "output_type": "display_data"
    },
    {
     "name": "stdout",
     "output_type": "stream",
     "text": [
      "Epoch 031\n",
      "TRAIN→ \"R\": RMSE=0.2517 MAE=0.1910 R2=0.2475 | \"B\": Acc=0.5994 Prec=0.3713 Rec=0.6465 F1=0.4717 AUROC=0.6604\n",
      "VALID→ \"R\": RMSE=0.2539 MAE=0.1977 R2=0.2172 | \"B\": Acc=0.7182 Prec=0.5233 Rec=0.2130 F1=0.3028 AUROC=0.6967\n"
     ]
    },
    {
     "data": {
      "application/vnd.jupyter.widget-view+json": {
       "model_id": "34b181f1e3cd4baca7362f02db911d20",
       "version_major": 2,
       "version_minor": 0
      },
      "text/plain": [
       "Epoch 32:   0%|          | 0/60 [00:00<?, ?batch/s]"
      ]
     },
     "metadata": {},
     "output_type": "display_data"
    },
    {
     "name": "stdout",
     "output_type": "stream",
     "text": [
      "Epoch 032\n",
      "TRAIN→ \"R\": RMSE=0.2517 MAE=0.1911 R2=0.2480 | \"B\": Acc=0.5984 Prec=0.3709 Rec=0.6486 F1=0.4719 AUROC=0.6606\n",
      "VALID→ \"R\": RMSE=0.2539 MAE=0.1978 R2=0.2174 | \"B\": Acc=0.7173 Prec=0.5186 Rec=0.2225 F1=0.3114 AUROC=0.6965\n"
     ]
    },
    {
     "data": {
      "application/vnd.jupyter.widget-view+json": {
       "model_id": "0f63d34464864905a7abaf7ba321b167",
       "version_major": 2,
       "version_minor": 0
      },
      "text/plain": [
       "Epoch 33:   0%|          | 0/60 [00:00<?, ?batch/s]"
      ]
     },
     "metadata": {},
     "output_type": "display_data"
    },
    {
     "name": "stdout",
     "output_type": "stream",
     "text": [
      "Epoch 033\n",
      "TRAIN→ \"R\": RMSE=0.2515 MAE=0.1910 R2=0.2488 | \"B\": Acc=0.5948 Prec=0.3695 Rec=0.6578 F1=0.4732 AUROC=0.6617\n",
      "VALID→ \"R\": RMSE=0.2538 MAE=0.1979 R2=0.2179 | \"B\": Acc=0.7182 Prec=0.5221 Rec=0.2275 F1=0.3169 AUROC=0.6979\n"
     ]
    },
    {
     "data": {
      "application/vnd.jupyter.widget-view+json": {
       "model_id": "2a0c51bb146840deb7afabc916a26342",
       "version_major": 2,
       "version_minor": 0
      },
      "text/plain": [
       "Epoch 34:   0%|          | 0/60 [00:00<?, ?batch/s]"
      ]
     },
     "metadata": {},
     "output_type": "display_data"
    },
    {
     "name": "stdout",
     "output_type": "stream",
     "text": [
      "Epoch 034\n",
      "TRAIN→ \"R\": RMSE=0.2515 MAE=0.1909 R2=0.2489 | \"B\": Acc=0.5998 Prec=0.3725 Rec=0.6522 F1=0.4742 AUROC=0.6635\n",
      "VALID→ \"R\": RMSE=0.2539 MAE=0.1983 R2=0.2173 | \"B\": Acc=0.7189 Prec=0.5246 Rec=0.2294 F1=0.3192 AUROC=0.7006\n"
     ]
    },
    {
     "data": {
      "application/vnd.jupyter.widget-view+json": {
       "model_id": "3c4ea63d5f1848b5b46856880d5374b2",
       "version_major": 2,
       "version_minor": 0
      },
      "text/plain": [
       "Epoch 35:   0%|          | 0/60 [00:00<?, ?batch/s]"
      ]
     },
     "metadata": {},
     "output_type": "display_data"
    },
    {
     "name": "stdout",
     "output_type": "stream",
     "text": [
      "Epoch 035\n",
      "TRAIN→ \"R\": RMSE=0.2514 MAE=0.1910 R2=0.2495 | \"B\": Acc=0.6020 Prec=0.3737 Rec=0.6491 F1=0.4743 AUROC=0.6638\n",
      "VALID→ \"R\": RMSE=0.2542 MAE=0.1990 R2=0.2157 | \"B\": Acc=0.7199 Prec=0.5283 Rec=0.2338 F1=0.3241 AUROC=0.7033\n"
     ]
    },
    {
     "data": {
      "application/vnd.jupyter.widget-view+json": {
       "model_id": "d393a15c658440399772a0becac063a9",
       "version_major": 2,
       "version_minor": 0
      },
      "text/plain": [
       "Epoch 36:   0%|          | 0/60 [00:00<?, ?batch/s]"
      ]
     },
     "metadata": {},
     "output_type": "display_data"
    },
    {
     "name": "stdout",
     "output_type": "stream",
     "text": [
      "Epoch 036\n",
      "TRAIN→ \"R\": RMSE=0.2513 MAE=0.1909 R2=0.2502 | \"B\": Acc=0.6068 Prec=0.3769 Rec=0.6449 F1=0.4757 AUROC=0.6657\n",
      "VALID→ \"R\": RMSE=0.2544 MAE=0.1996 R2=0.2143 | \"B\": Acc=0.7207 Prec=0.5317 Rec=0.2347 F1=0.3257 AUROC=0.7044\n"
     ]
    },
    {
     "data": {
      "application/vnd.jupyter.widget-view+json": {
       "model_id": "a8e19757b0a14e4181bc328daaa20506",
       "version_major": 2,
       "version_minor": 0
      },
      "text/plain": [
       "Epoch 37:   0%|          | 0/60 [00:00<?, ?batch/s]"
      ]
     },
     "metadata": {},
     "output_type": "display_data"
    },
    {
     "name": "stdout",
     "output_type": "stream",
     "text": [
      "Epoch 037\n",
      "TRAIN→ \"R\": RMSE=0.2512 MAE=0.1908 R2=0.2505 | \"B\": Acc=0.6072 Prec=0.3770 Rec=0.6432 F1=0.4754 AUROC=0.6654\n",
      "VALID→ \"R\": RMSE=0.2544 MAE=0.1995 R2=0.2145 | \"B\": Acc=0.7204 Prec=0.5306 Rec=0.2325 F1=0.3233 AUROC=0.7047\n"
     ]
    },
    {
     "data": {
      "application/vnd.jupyter.widget-view+json": {
       "model_id": "df621de0e3504fcfb63b494004b813f1",
       "version_major": 2,
       "version_minor": 0
      },
      "text/plain": [
       "Epoch 38:   0%|          | 0/60 [00:00<?, ?batch/s]"
      ]
     },
     "metadata": {},
     "output_type": "display_data"
    },
    {
     "name": "stdout",
     "output_type": "stream",
     "text": [
      "Epoch 038\n",
      "TRAIN→ \"R\": RMSE=0.2512 MAE=0.1908 R2=0.2508 | \"B\": Acc=0.6085 Prec=0.3781 Rec=0.6442 F1=0.4765 AUROC=0.6666\n",
      "VALID→ \"R\": RMSE=0.2542 MAE=0.1994 R2=0.2153 | \"B\": Acc=0.7200 Prec=0.5286 Rec=0.2356 F1=0.3259 AUROC=0.7049\n"
     ]
    },
    {
     "data": {
      "application/vnd.jupyter.widget-view+json": {
       "model_id": "611c14ebadac4e8c817216438fa6497a",
       "version_major": 2,
       "version_minor": 0
      },
      "text/plain": [
       "Epoch 39:   0%|          | 0/60 [00:00<?, ?batch/s]"
      ]
     },
     "metadata": {},
     "output_type": "display_data"
    },
    {
     "ename": "KeyboardInterrupt",
     "evalue": "",
     "output_type": "error",
     "traceback": [
      "\u001b[0;31m---------------------------------------------------------------------------\u001b[0m",
      "\u001b[0;31mKeyboardInterrupt\u001b[0m                         Traceback (most recent call last)",
      "Cell \u001b[0;32mIn[11], line 8\u001b[0m\n\u001b[1;32m      3\u001b[0m \u001b[38;5;28mprint\u001b[39m(\u001b[38;5;124mf\u001b[39m\u001b[38;5;124m\"\u001b[39m\u001b[38;5;124mTraining sees \u001b[39m\u001b[38;5;132;01m{\u001b[39;00mn_days\u001b[38;5;132;01m}\u001b[39;00m\u001b[38;5;124m unique trading days per epoch.\u001b[39m\u001b[38;5;130;01m\\n\u001b[39;00m\u001b[38;5;124m\"\u001b[39m)\n\u001b[1;32m      5\u001b[0m \u001b[38;5;66;03m# -----------------------------------------------------------------------------\u001b[39;00m\n\u001b[1;32m      6\u001b[0m \u001b[38;5;66;03m# Run the custom stateful training loop\u001b[39;00m\n\u001b[1;32m      7\u001b[0m \u001b[38;5;66;03m# -----------------------------------------------------------------------------\u001b[39;00m\n\u001b[0;32m----> 8\u001b[0m best_val_rmse  \u001b[38;5;241m=\u001b[39m \u001b[43mmodels\u001b[49m\u001b[38;5;241;43m.\u001b[39;49m\u001b[43mcustom_stateful_training_loop\u001b[49m\u001b[43m(\u001b[49m\n\u001b[1;32m      9\u001b[0m \u001b[43m    \u001b[49m\u001b[43mmodel\u001b[49m\u001b[43m               \u001b[49m\u001b[38;5;241;43m=\u001b[39;49m\u001b[43m \u001b[49m\u001b[43mmodel\u001b[49m\u001b[43m,\u001b[49m\n\u001b[1;32m     10\u001b[0m \u001b[43m    \u001b[49m\u001b[43moptimizer\u001b[49m\u001b[43m           \u001b[49m\u001b[38;5;241;43m=\u001b[39;49m\u001b[43m \u001b[49m\u001b[43moptimizer\u001b[49m\u001b[43m,\u001b[49m\n\u001b[1;32m     11\u001b[0m \u001b[43m    \u001b[49m\u001b[43mcosine_sched\u001b[49m\u001b[43m        \u001b[49m\u001b[38;5;241;43m=\u001b[39;49m\u001b[43m \u001b[49m\u001b[43mcosine_sched\u001b[49m\u001b[43m,\u001b[49m\n\u001b[1;32m     12\u001b[0m \u001b[43m    \u001b[49m\u001b[43mplateau_sched\u001b[49m\u001b[43m       \u001b[49m\u001b[38;5;241;43m=\u001b[39;49m\u001b[43m \u001b[49m\u001b[43mplateau_sched\u001b[49m\u001b[43m,\u001b[49m\n\u001b[1;32m     13\u001b[0m \u001b[43m    \u001b[49m\u001b[43mscaler\u001b[49m\u001b[43m              \u001b[49m\u001b[38;5;241;43m=\u001b[39;49m\u001b[43m \u001b[49m\u001b[43mscaler\u001b[49m\u001b[43m,\u001b[49m\n\u001b[1;32m     14\u001b[0m \u001b[43m    \u001b[49m\u001b[43mtrain_loader\u001b[49m\u001b[43m        \u001b[49m\u001b[38;5;241;43m=\u001b[39;49m\u001b[43m \u001b[49m\u001b[43mtrain_loader\u001b[49m\u001b[43m,\u001b[49m\n\u001b[1;32m     15\u001b[0m \u001b[43m    \u001b[49m\u001b[43mval_loader\u001b[49m\u001b[43m          \u001b[49m\u001b[38;5;241;43m=\u001b[39;49m\u001b[43m \u001b[49m\u001b[43mval_loader\u001b[49m\u001b[43m,\u001b[49m\n\u001b[1;32m     16\u001b[0m \u001b[43m    \u001b[49m\u001b[43mmax_epochs\u001b[49m\u001b[43m          \u001b[49m\u001b[38;5;241;43m=\u001b[39;49m\u001b[43m \u001b[49m\u001b[43mparams\u001b[49m\u001b[38;5;241;43m.\u001b[39;49m\u001b[43mhparams\u001b[49m\u001b[43m[\u001b[49m\u001b[38;5;124;43m'\u001b[39;49m\u001b[38;5;124;43mMAX_EPOCHS\u001b[39;49m\u001b[38;5;124;43m'\u001b[39;49m\u001b[43m]\u001b[49m\u001b[43m,\u001b[49m\n\u001b[1;32m     17\u001b[0m \u001b[43m    \u001b[49m\u001b[43mearly_stop_patience\u001b[49m\u001b[43m \u001b[49m\u001b[38;5;241;43m=\u001b[39;49m\u001b[43m \u001b[49m\u001b[43mparams\u001b[49m\u001b[38;5;241;43m.\u001b[39;49m\u001b[43mhparams\u001b[49m\u001b[43m[\u001b[49m\u001b[38;5;124;43m'\u001b[39;49m\u001b[38;5;124;43mEARLY_STOP_PATIENCE\u001b[39;49m\u001b[38;5;124;43m'\u001b[39;49m\u001b[43m]\u001b[49m\u001b[43m,\u001b[49m\n\u001b[1;32m     18\u001b[0m \u001b[43m    \u001b[49m\u001b[43mclipnorm\u001b[49m\u001b[43m            \u001b[49m\u001b[38;5;241;43m=\u001b[39;49m\u001b[43m \u001b[49m\u001b[43mclipnorm\u001b[49m\u001b[43m,\u001b[49m\n\u001b[1;32m     19\u001b[0m \u001b[43m    \u001b[49m\u001b[43mdevice\u001b[49m\u001b[43m              \u001b[49m\u001b[38;5;241;43m=\u001b[39;49m\u001b[43m \u001b[49m\u001b[43mparams\u001b[49m\u001b[38;5;241;43m.\u001b[39;49m\u001b[43mdevice\u001b[49m\n\u001b[1;32m     20\u001b[0m \u001b[43m)\u001b[49m\n\u001b[1;32m     22\u001b[0m \u001b[38;5;66;03m# -----------------------------------------------------------------------------\u001b[39;00m\n\u001b[1;32m     23\u001b[0m \u001b[38;5;66;03m# Final reporting: best RMSE and relative improvement\u001b[39;00m\n\u001b[1;32m     24\u001b[0m \u001b[38;5;66;03m# -----------------------------------------------------------------------------\u001b[39;00m\n\u001b[1;32m     25\u001b[0m \u001b[38;5;28mprint\u001b[39m(\u001b[38;5;124mf\u001b[39m\u001b[38;5;124m\"\u001b[39m\u001b[38;5;130;01m\\n\u001b[39;00m\u001b[38;5;124mChampion validation RMSE = \u001b[39m\u001b[38;5;132;01m{\u001b[39;00mbest_val_rmse\u001b[38;5;132;01m:\u001b[39;00m\u001b[38;5;124m.6f\u001b[39m\u001b[38;5;132;01m}\u001b[39;00m\u001b[38;5;124m\"\u001b[39m)\n",
      "File \u001b[0;32m/workspace/my_models/Trading/_Stock_Analysis_/libs/models.py:917\u001b[0m, in \u001b[0;36mcustom_stateful_training_loop\u001b[0;34m(model, optimizer, cosine_sched, plateau_sched, scaler, train_loader, val_loader, max_epochs, early_stop_patience, clipnorm, device)\u001b[0m\n\u001b[1;32m    915\u001b[0m \u001b[38;5;28;01mwith\u001b[39;00m torch\u001b[38;5;241m.\u001b[39mno_grad():\n\u001b[1;32m    916\u001b[0m     prev_day \u001b[38;5;241m=\u001b[39m \u001b[38;5;28;01mNone\u001b[39;00m\n\u001b[0;32m--> 917\u001b[0m \u001b[43m    \u001b[49m\u001b[38;5;28;43;01mfor\u001b[39;49;00m\u001b[43m \u001b[49m\u001b[43mbatch\u001b[49m\u001b[43m \u001b[49m\u001b[38;5;129;43;01min\u001b[39;49;00m\u001b[43m \u001b[49m\u001b[43mval_loader\u001b[49m\u001b[43m:\u001b[49m\n\u001b[1;32m    918\u001b[0m \u001b[43m        \u001b[49m\u001b[43mxb_day\u001b[49m\u001b[43m,\u001b[49m\u001b[43m \u001b[49m\u001b[43my_sig_day\u001b[49m\u001b[43m,\u001b[49m\u001b[43m \u001b[49m\u001b[43my_sig_cls_day\u001b[49m\u001b[43m,\u001b[49m\u001b[43m \u001b[49m\u001b[43mret_day\u001b[49m\u001b[43m,\u001b[49m\u001b[43m \u001b[49m\u001b[43my_ret_ter_day\u001b[49m\u001b[43m,\u001b[49m\u001b[43m \u001b[49m\u001b[43mwd\u001b[49m\u001b[43m,\u001b[49m\u001b[43m \u001b[49m\u001b[43mts_list\u001b[49m\u001b[43m,\u001b[49m\u001b[43m \u001b[49m\u001b[43mlengths\u001b[49m\u001b[43m \u001b[49m\u001b[38;5;241;43m=\u001b[39;49m\u001b[43m \u001b[49m\u001b[43mbatch\u001b[49m\n\u001b[1;32m    920\u001b[0m \u001b[43m        \u001b[49m\u001b[43mW\u001b[49m\u001b[43m      \u001b[49m\u001b[38;5;241;43m=\u001b[39;49m\u001b[43m \u001b[49m\u001b[43mlengths\u001b[49m\u001b[43m[\u001b[49m\u001b[38;5;241;43m0\u001b[39;49m\u001b[43m]\u001b[49m\n",
      "File \u001b[0;32m/usr/local/lib/python3.12/dist-packages/torch/utils/data/dataloader.py:708\u001b[0m, in \u001b[0;36m_BaseDataLoaderIter.__next__\u001b[0;34m(self)\u001b[0m\n\u001b[1;32m    705\u001b[0m \u001b[38;5;28;01mif\u001b[39;00m \u001b[38;5;28mself\u001b[39m\u001b[38;5;241m.\u001b[39m_sampler_iter \u001b[38;5;129;01mis\u001b[39;00m \u001b[38;5;28;01mNone\u001b[39;00m:\n\u001b[1;32m    706\u001b[0m     \u001b[38;5;66;03m# TODO(https://github.com/pytorch/pytorch/issues/76750)\u001b[39;00m\n\u001b[1;32m    707\u001b[0m     \u001b[38;5;28mself\u001b[39m\u001b[38;5;241m.\u001b[39m_reset()  \u001b[38;5;66;03m# type: ignore[call-arg]\u001b[39;00m\n\u001b[0;32m--> 708\u001b[0m data \u001b[38;5;241m=\u001b[39m \u001b[38;5;28;43mself\u001b[39;49m\u001b[38;5;241;43m.\u001b[39;49m\u001b[43m_next_data\u001b[49m\u001b[43m(\u001b[49m\u001b[43m)\u001b[49m\n\u001b[1;32m    709\u001b[0m \u001b[38;5;28mself\u001b[39m\u001b[38;5;241m.\u001b[39m_num_yielded \u001b[38;5;241m+\u001b[39m\u001b[38;5;241m=\u001b[39m \u001b[38;5;241m1\u001b[39m\n\u001b[1;32m    710\u001b[0m \u001b[38;5;28;01mif\u001b[39;00m (\n\u001b[1;32m    711\u001b[0m     \u001b[38;5;28mself\u001b[39m\u001b[38;5;241m.\u001b[39m_dataset_kind \u001b[38;5;241m==\u001b[39m _DatasetKind\u001b[38;5;241m.\u001b[39mIterable\n\u001b[1;32m    712\u001b[0m     \u001b[38;5;129;01mand\u001b[39;00m \u001b[38;5;28mself\u001b[39m\u001b[38;5;241m.\u001b[39m_IterableDataset_len_called \u001b[38;5;129;01mis\u001b[39;00m \u001b[38;5;129;01mnot\u001b[39;00m \u001b[38;5;28;01mNone\u001b[39;00m\n\u001b[1;32m    713\u001b[0m     \u001b[38;5;129;01mand\u001b[39;00m \u001b[38;5;28mself\u001b[39m\u001b[38;5;241m.\u001b[39m_num_yielded \u001b[38;5;241m>\u001b[39m \u001b[38;5;28mself\u001b[39m\u001b[38;5;241m.\u001b[39m_IterableDataset_len_called\n\u001b[1;32m    714\u001b[0m ):\n",
      "File \u001b[0;32m/usr/local/lib/python3.12/dist-packages/torch/utils/data/dataloader.py:764\u001b[0m, in \u001b[0;36m_SingleProcessDataLoaderIter._next_data\u001b[0;34m(self)\u001b[0m\n\u001b[1;32m    762\u001b[0m \u001b[38;5;28;01mdef\u001b[39;00m\u001b[38;5;250m \u001b[39m\u001b[38;5;21m_next_data\u001b[39m(\u001b[38;5;28mself\u001b[39m):\n\u001b[1;32m    763\u001b[0m     index \u001b[38;5;241m=\u001b[39m \u001b[38;5;28mself\u001b[39m\u001b[38;5;241m.\u001b[39m_next_index()  \u001b[38;5;66;03m# may raise StopIteration\u001b[39;00m\n\u001b[0;32m--> 764\u001b[0m     data \u001b[38;5;241m=\u001b[39m \u001b[38;5;28;43mself\u001b[39;49m\u001b[38;5;241;43m.\u001b[39;49m\u001b[43m_dataset_fetcher\u001b[49m\u001b[38;5;241;43m.\u001b[39;49m\u001b[43mfetch\u001b[49m\u001b[43m(\u001b[49m\u001b[43mindex\u001b[49m\u001b[43m)\u001b[49m  \u001b[38;5;66;03m# may raise StopIteration\u001b[39;00m\n\u001b[1;32m    765\u001b[0m     \u001b[38;5;28;01mif\u001b[39;00m \u001b[38;5;28mself\u001b[39m\u001b[38;5;241m.\u001b[39m_pin_memory:\n\u001b[1;32m    766\u001b[0m         data \u001b[38;5;241m=\u001b[39m _utils\u001b[38;5;241m.\u001b[39mpin_memory\u001b[38;5;241m.\u001b[39mpin_memory(data, \u001b[38;5;28mself\u001b[39m\u001b[38;5;241m.\u001b[39m_pin_memory_device)\n",
      "File \u001b[0;32m/usr/local/lib/python3.12/dist-packages/torch/utils/data/_utils/fetch.py:55\u001b[0m, in \u001b[0;36m_MapDatasetFetcher.fetch\u001b[0;34m(self, possibly_batched_index)\u001b[0m\n\u001b[1;32m     53\u001b[0m \u001b[38;5;28;01melse\u001b[39;00m:\n\u001b[1;32m     54\u001b[0m     data \u001b[38;5;241m=\u001b[39m \u001b[38;5;28mself\u001b[39m\u001b[38;5;241m.\u001b[39mdataset[possibly_batched_index]\n\u001b[0;32m---> 55\u001b[0m \u001b[38;5;28;01mreturn\u001b[39;00m \u001b[38;5;28;43mself\u001b[39;49m\u001b[38;5;241;43m.\u001b[39;49m\u001b[43mcollate_fn\u001b[49m\u001b[43m(\u001b[49m\u001b[43mdata\u001b[49m\u001b[43m)\u001b[49m\n",
      "File \u001b[0;32m/workspace/my_models/Trading/_Stock_Analysis_/libs/models.py:415\u001b[0m, in \u001b[0;36mpad_collate\u001b[0;34m(batch)\u001b[0m\n\u001b[1;32m    412\u001b[0m lengths \u001b[38;5;241m=\u001b[39m [x\u001b[38;5;241m.\u001b[39msize(\u001b[38;5;241m0\u001b[39m) \u001b[38;5;28;01mfor\u001b[39;00m x \u001b[38;5;129;01min\u001b[39;00m xs]          \u001b[38;5;66;03m# true W_i per day\u001b[39;00m\n\u001b[1;32m    414\u001b[0m \u001b[38;5;66;03m# pad along time-axis\u001b[39;00m\n\u001b[0;32m--> 415\u001b[0m x_pad    \u001b[38;5;241m=\u001b[39m \u001b[43mpad_sequence\u001b[49m\u001b[43m(\u001b[49m\u001b[43mxs\u001b[49m\u001b[43m,\u001b[49m\u001b[43m   \u001b[49m\u001b[43mbatch_first\u001b[49m\u001b[38;5;241;43m=\u001b[39;49m\u001b[38;5;28;43;01mTrue\u001b[39;49;00m\u001b[43m)\u001b[49m\n\u001b[1;32m    416\u001b[0m y_pad    \u001b[38;5;241m=\u001b[39m pad_sequence(ys,   batch_first\u001b[38;5;241m=\u001b[39m\u001b[38;5;28;01mTrue\u001b[39;00m)\n\u001b[1;32m    417\u001b[0m ysig_pad \u001b[38;5;241m=\u001b[39m pad_sequence(ysig, batch_first\u001b[38;5;241m=\u001b[39m\u001b[38;5;28;01mTrue\u001b[39;00m)\n",
      "File \u001b[0;32m/usr/local/lib/python3.12/dist-packages/torch/nn/utils/rnn.py:481\u001b[0m, in \u001b[0;36mpad_sequence\u001b[0;34m(sequences, batch_first, padding_value, padding_side)\u001b[0m\n\u001b[1;32m    477\u001b[0m         sequences \u001b[38;5;241m=\u001b[39m sequences\u001b[38;5;241m.\u001b[39munbind(\u001b[38;5;241m0\u001b[39m)  \u001b[38;5;66;03m# type: ignore[assignment]\u001b[39;00m\n\u001b[1;32m    479\u001b[0m \u001b[38;5;66;03m# assuming trailing dimensions and type of all the Tensors\u001b[39;00m\n\u001b[1;32m    480\u001b[0m \u001b[38;5;66;03m# in sequences are same and fetching those from sequences[0]\u001b[39;00m\n\u001b[0;32m--> 481\u001b[0m \u001b[38;5;28;01mreturn\u001b[39;00m \u001b[43mtorch\u001b[49m\u001b[38;5;241;43m.\u001b[39;49m\u001b[43m_C\u001b[49m\u001b[38;5;241;43m.\u001b[39;49m\u001b[43m_nn\u001b[49m\u001b[38;5;241;43m.\u001b[39;49m\u001b[43mpad_sequence\u001b[49m\u001b[43m(\u001b[49m\n\u001b[1;32m    482\u001b[0m \u001b[43m    \u001b[49m\u001b[43msequences\u001b[49m\u001b[43m,\u001b[49m\u001b[43m \u001b[49m\u001b[43mbatch_first\u001b[49m\u001b[43m,\u001b[49m\u001b[43m \u001b[49m\u001b[43mpadding_value\u001b[49m\u001b[43m,\u001b[49m\u001b[43m \u001b[49m\u001b[43mpadding_side\u001b[49m\u001b[43m  \u001b[49m\u001b[38;5;66;43;03m# type: ignore[arg-type]\u001b[39;49;00m\n\u001b[1;32m    483\u001b[0m \u001b[43m\u001b[49m\u001b[43m)\u001b[49m\n",
      "\u001b[0;31mKeyboardInterrupt\u001b[0m: "
     ]
    },
    {
     "data": {
      "image/png": "[encoded data removed]",
      "text/plain": [
       "<Figure size 660x440 with 1 Axes>"
      ]
     },
     "metadata": {},
     "output_type": "display_data"
    }
   ],
   "source": [
    "# How many unique trading days does each epoch see?\n",
    "n_days = len(train_loader.dataset)\n",
    "print(f\"Training sees {n_days} unique trading days per epoch.\\n\")\n",
    "\n",
    "# -----------------------------------------------------------------------------\n",
    "# Run the custom stateful training loop\n",
    "# -----------------------------------------------------------------------------\n",
    "best_val_rmse  = models.custom_stateful_training_loop(\n",
    "    model               = model,\n",
    "    optimizer           = optimizer,\n",
    "    cosine_sched        = cosine_sched,\n",
    "    plateau_sched       = plateau_sched,\n",
    "    scaler              = scaler,\n",
    "    train_loader        = train_loader,\n",
    "    val_loader          = val_loader,\n",
    "    max_epochs          = params.hparams['MAX_EPOCHS'],\n",
    "    early_stop_patience = params.hparams['EARLY_STOP_PATIENCE'],\n",
    "    clipnorm            = clipnorm,\n",
    "    device              = params.device\n",
    ")\n",
    "\n",
    "# -----------------------------------------------------------------------------\n",
    "# Final reporting: best RMSE and relative improvement\n",
    "# -----------------------------------------------------------------------------\n",
    "print(f\"\\nChampion validation RMSE = {best_val_rmse:.6f}\")\n",
    "\n",
    "improvement_zero = 100.0 * (1.0 - best_val_rmse / rmse_zero_val)\n",
    "print(f\"Improvement over zero‐baseline = {improvement_zero:5.1f}%\")\n",
    "\n",
    "improvement_mean = 100.0 * (1.0 - best_val_rmse / rmse_mean_val)\n",
    "print(f\"Improvement over mean‐baseline = {improvement_mean:5.1f}%\")\n",
    "\n"
   ]
  },
  {
   "cell_type": "code",
   "execution_count": null,
   "id": "22b25c89-05c3-4a16-b013-97143f173e08",
   "metadata": {},
   "outputs": [],
   "source": []
  },
  {
   "cell_type": "code",
   "execution_count": null,
   "id": "5935ccf4-d4ec-44de-827b-b520c8e76561",
   "metadata": {},
   "outputs": [],
   "source": []
  }
 ],
 "metadata": {
  "kernelspec": {
   "display_name": "Python 3 (ipykernel)",
   "language": "python",
   "name": "python3"
  },
  "language_info": {
   "codemirror_mode": {
    "name": "ipython",
    "version": 3
   },
   "file_extension": ".py",
   "mimetype": "text/x-python",
   "name": "python",
   "nbconvert_exporter": "python",
   "pygments_lexer": "ipython3",
   "version": "3.12.3"
  }
 },
 "nbformat": 4,
 "nbformat_minor": 5
}
