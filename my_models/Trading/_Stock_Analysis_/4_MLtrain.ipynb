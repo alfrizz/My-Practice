{
 "cells": [
  {
   "cell_type": "code",
   "execution_count": 1,
   "id": "73f06a4f-691a-4a84-a305-e7212eb879bf",
   "metadata": {},
   "outputs": [],
   "source": [
    "# %matplotlib widget\n",
    "%matplotlib inline"
   ]
  },
  {
   "cell_type": "code",
   "execution_count": 2,
   "id": "4c868158-e6bb-4d56-bbdd-8e8103f0b9e4",
   "metadata": {},
   "outputs": [],
   "source": [
    "# 1) Wipe out all Python variables\n",
    "%reset -f\n",
    "# 2) Force Python’s garbage collector to run\n",
    "import gc\n",
    "gc.collect()\n",
    "\n",
    "import importlib\n",
    "from libs import trades, plots, params, models\n",
    "importlib.reload(trades)\n",
    "importlib.reload(plots)\n",
    "importlib.reload(params)\n",
    "importlib.reload(models)\n",
    "\n",
    "import pandas as pd\n",
    "import numpy  as np\n",
    "import math\n",
    "\n",
    "import datetime as dt\n",
    "import os\n",
    "from typing import Sequence, List, Tuple, Optional, Union\n",
    "\n",
    "import torch\n",
    "import torch.nn as nn\n",
    "import torch.nn.functional as Funct\n",
    "from torch_lr_finder import LRFinder\n",
    "from torch.utils.data import DataLoader, TensorDataset\n",
    "\n",
    "from tqdm import tqdm"
   ]
  },
  {
   "cell_type": "code",
   "execution_count": 3,
   "id": "7b98406a",
   "metadata": {},
   "outputs": [
    {
     "data": {
      "text/html": [
       "<div>\n",
       "<style scoped>\n",
       "    .dataframe tbody tr th:only-of-type {\n",
       "        vertical-align: middle;\n",
       "    }\n",
       "\n",
       "    .dataframe tbody tr th {\n",
       "        vertical-align: top;\n",
       "    }\n",
       "\n",
       "    .dataframe thead th {\n",
       "        text-align: right;\n",
       "    }\n",
       "</style>\n",
       "<table border=\"1\" class=\"dataframe\">\n",
       "  <thead>\n",
       "    <tr style=\"text-align: right;\">\n",
       "      <th></th>\n",
       "      <th>vol_15</th>\n",
       "      <th>ma_5</th>\n",
       "      <th>ma_20</th>\n",
       "      <th>close</th>\n",
       "      <th>hour</th>\n",
       "      <th>bb_width_20</th>\n",
       "      <th>high</th>\n",
       "      <th>low</th>\n",
       "      <th>open</th>\n",
       "      <th>vwap_dev</th>\n",
       "      <th>atr_14</th>\n",
       "      <th>r_5</th>\n",
       "      <th>r_1</th>\n",
       "      <th>r_15</th>\n",
       "      <th>obv</th>\n",
       "      <th>signal</th>\n",
       "      <th>ask</th>\n",
       "      <th>bid</th>\n",
       "    </tr>\n",
       "  </thead>\n",
       "  <tbody>\n",
       "    <tr>\n",
       "      <th>2004-01-02 13:09:00</th>\n",
       "      <td>-0.966783</td>\n",
       "      <td>-0.185561</td>\n",
       "      <td>-0.282361</td>\n",
       "      <td>-0.193762</td>\n",
       "      <td>0.493</td>\n",
       "      <td>-0.929333</td>\n",
       "      <td>-0.317313</td>\n",
       "      <td>-0.028125</td>\n",
       "      <td>-0.193147</td>\n",
       "      <td>-0.032030</td>\n",
       "      <td>-1.435516</td>\n",
       "      <td>-0.040971</td>\n",
       "      <td>-0.029212</td>\n",
       "      <td>-0.025534</td>\n",
       "      <td>11.535427</td>\n",
       "      <td>0.005593</td>\n",
       "      <td>0.764807</td>\n",
       "      <td>0.763664</td>\n",
       "    </tr>\n",
       "    <tr>\n",
       "      <th>2004-01-02 13:10:00</th>\n",
       "      <td>-0.965007</td>\n",
       "      <td>-0.192087</td>\n",
       "      <td>-0.284115</td>\n",
       "      <td>-0.201725</td>\n",
       "      <td>0.493</td>\n",
       "      <td>-0.921566</td>\n",
       "      <td>-0.324262</td>\n",
       "      <td>-0.037500</td>\n",
       "      <td>-0.201085</td>\n",
       "      <td>-0.036171</td>\n",
       "      <td>-1.432540</td>\n",
       "      <td>-0.054390</td>\n",
       "      <td>-0.029213</td>\n",
       "      <td>-0.033477</td>\n",
       "      <td>11.491025</td>\n",
       "      <td>0.006095</td>\n",
       "      <td>0.764790</td>\n",
       "      <td>0.763647</td>\n",
       "    </tr>\n",
       "    <tr>\n",
       "      <th>2004-01-02 13:11:00</th>\n",
       "      <td>-0.963779</td>\n",
       "      <td>-0.200245</td>\n",
       "      <td>-0.286307</td>\n",
       "      <td>-0.209688</td>\n",
       "      <td>0.493</td>\n",
       "      <td>-0.913246</td>\n",
       "      <td>-0.331210</td>\n",
       "      <td>-0.046875</td>\n",
       "      <td>-0.209022</td>\n",
       "      <td>-0.040262</td>\n",
       "      <td>-1.429563</td>\n",
       "      <td>-0.067809</td>\n",
       "      <td>-0.029214</td>\n",
       "      <td>-0.041420</td>\n",
       "      <td>11.441197</td>\n",
       "      <td>0.006642</td>\n",
       "      <td>0.764773</td>\n",
       "      <td>0.763631</td>\n",
       "    </tr>\n",
       "    <tr>\n",
       "      <th>2004-01-02 13:12:00</th>\n",
       "      <td>-0.963001</td>\n",
       "      <td>-0.208402</td>\n",
       "      <td>-0.288939</td>\n",
       "      <td>-0.217651</td>\n",
       "      <td>0.493</td>\n",
       "      <td>-0.904541</td>\n",
       "      <td>-0.338159</td>\n",
       "      <td>-0.056250</td>\n",
       "      <td>-0.216960</td>\n",
       "      <td>-0.044296</td>\n",
       "      <td>-1.426587</td>\n",
       "      <td>-0.067810</td>\n",
       "      <td>-0.029214</td>\n",
       "      <td>-0.049363</td>\n",
       "      <td>11.385942</td>\n",
       "      <td>0.007239</td>\n",
       "      <td>0.764757</td>\n",
       "      <td>0.763614</td>\n",
       "    </tr>\n",
       "    <tr>\n",
       "      <th>2004-01-02 13:13:00</th>\n",
       "      <td>-0.962622</td>\n",
       "      <td>-0.216560</td>\n",
       "      <td>-0.292008</td>\n",
       "      <td>-0.225614</td>\n",
       "      <td>0.493</td>\n",
       "      <td>-0.895592</td>\n",
       "      <td>-0.345107</td>\n",
       "      <td>-0.065625</td>\n",
       "      <td>-0.224897</td>\n",
       "      <td>-0.048268</td>\n",
       "      <td>-1.423611</td>\n",
       "      <td>-0.067812</td>\n",
       "      <td>-0.029215</td>\n",
       "      <td>-0.057307</td>\n",
       "      <td>11.325262</td>\n",
       "      <td>0.007889</td>\n",
       "      <td>0.764740</td>\n",
       "      <td>0.763597</td>\n",
       "    </tr>\n",
       "    <tr>\n",
       "      <th>...</th>\n",
       "      <td>...</td>\n",
       "      <td>...</td>\n",
       "      <td>...</td>\n",
       "      <td>...</td>\n",
       "      <td>...</td>\n",
       "      <td>...</td>\n",
       "      <td>...</td>\n",
       "      <td>...</td>\n",
       "      <td>...</td>\n",
       "      <td>...</td>\n",
       "      <td>...</td>\n",
       "      <td>...</td>\n",
       "      <td>...</td>\n",
       "      <td>...</td>\n",
       "      <td>...</td>\n",
       "      <td>...</td>\n",
       "      <td>...</td>\n",
       "      <td>...</td>\n",
       "    </tr>\n",
       "    <tr>\n",
       "      <th>2025-06-18 20:56:00</th>\n",
       "      <td>0.507307</td>\n",
       "      <td>0.367023</td>\n",
       "      <td>-0.130453</td>\n",
       "      <td>0.705997</td>\n",
       "      <td>-0.939</td>\n",
       "      <td>0.122381</td>\n",
       "      <td>0.704918</td>\n",
       "      <td>0.500000</td>\n",
       "      <td>0.475806</td>\n",
       "      <td>0.407906</td>\n",
       "      <td>2.024482</td>\n",
       "      <td>1.742521</td>\n",
       "      <td>0.837991</td>\n",
       "      <td>1.317936</td>\n",
       "      <td>0.839704</td>\n",
       "      <td>0.000000</td>\n",
       "      <td>196.962600</td>\n",
       "      <td>196.667400</td>\n",
       "    </tr>\n",
       "    <tr>\n",
       "      <th>2025-06-18 20:57:00</th>\n",
       "      <td>0.566581</td>\n",
       "      <td>0.460866</td>\n",
       "      <td>-0.093452</td>\n",
       "      <td>0.478780</td>\n",
       "      <td>-0.939</td>\n",
       "      <td>0.187641</td>\n",
       "      <td>0.836066</td>\n",
       "      <td>0.387097</td>\n",
       "      <td>0.685484</td>\n",
       "      <td>0.263954</td>\n",
       "      <td>2.207440</td>\n",
       "      <td>0.887590</td>\n",
       "      <td>-0.939239</td>\n",
       "      <td>1.115397</td>\n",
       "      <td>0.647913</td>\n",
       "      <td>0.000000</td>\n",
       "      <td>196.822500</td>\n",
       "      <td>196.527500</td>\n",
       "    </tr>\n",
       "    <tr>\n",
       "      <th>2025-06-18 20:58:00</th>\n",
       "      <td>0.542508</td>\n",
       "      <td>0.497086</td>\n",
       "      <td>-0.060109</td>\n",
       "      <td>0.470665</td>\n",
       "      <td>-0.939</td>\n",
       "      <td>0.241322</td>\n",
       "      <td>0.508197</td>\n",
       "      <td>0.500000</td>\n",
       "      <td>0.467742</td>\n",
       "      <td>0.254269</td>\n",
       "      <td>2.216153</td>\n",
       "      <td>0.341995</td>\n",
       "      <td>-0.033854</td>\n",
       "      <td>0.828890</td>\n",
       "      <td>0.429218</td>\n",
       "      <td>0.000000</td>\n",
       "      <td>196.817500</td>\n",
       "      <td>196.522500</td>\n",
       "    </tr>\n",
       "    <tr>\n",
       "      <th>2025-06-18 20:59:00</th>\n",
       "      <td>0.903328</td>\n",
       "      <td>0.408182</td>\n",
       "      <td>-0.062549</td>\n",
       "      <td>-0.227217</td>\n",
       "      <td>-0.939</td>\n",
       "      <td>0.245429</td>\n",
       "      <td>0.524590</td>\n",
       "      <td>-0.129032</td>\n",
       "      <td>0.475806</td>\n",
       "      <td>-0.173638</td>\n",
       "      <td>2.487280</td>\n",
       "      <td>-0.842944</td>\n",
       "      <td>-2.888426</td>\n",
       "      <td>-0.094079</td>\n",
       "      <td>-0.434952</td>\n",
       "      <td>0.043551</td>\n",
       "      <td>196.387200</td>\n",
       "      <td>196.092800</td>\n",
       "    </tr>\n",
       "    <tr>\n",
       "      <th>2025-06-18 21:00:00</th>\n",
       "      <td>1.017126</td>\n",
       "      <td>0.358792</td>\n",
       "      <td>-0.032866</td>\n",
       "      <td>0.259677</td>\n",
       "      <td>-0.960</td>\n",
       "      <td>0.236868</td>\n",
       "      <td>0.360656</td>\n",
       "      <td>-0.387097</td>\n",
       "      <td>0.314516</td>\n",
       "      <td>0.115538</td>\n",
       "      <td>2.861997</td>\n",
       "      <td>-0.468049</td>\n",
       "      <td>2.015324</td>\n",
       "      <td>0.663058</td>\n",
       "      <td>6.060628</td>\n",
       "      <td>0.000000</td>\n",
       "      <td>196.687400</td>\n",
       "      <td>196.392600</td>\n",
       "    </tr>\n",
       "  </tbody>\n",
       "</table>\n",
       "<p>3601230 rows × 18 columns</p>\n",
       "</div>"
      ],
      "text/plain": [
       "                       vol_15      ma_5     ma_20     close   hour  \\\n",
       "2004-01-02 13:09:00 -0.966783 -0.185561 -0.282361 -0.193762  0.493   \n",
       "2004-01-02 13:10:00 -0.965007 -0.192087 -0.284115 -0.201725  0.493   \n",
       "2004-01-02 13:11:00 -0.963779 -0.200245 -0.286307 -0.209688  0.493   \n",
       "2004-01-02 13:12:00 -0.963001 -0.208402 -0.288939 -0.217651  0.493   \n",
       "2004-01-02 13:13:00 -0.962622 -0.216560 -0.292008 -0.225614  0.493   \n",
       "...                       ...       ...       ...       ...    ...   \n",
       "2025-06-18 20:56:00  0.507307  0.367023 -0.130453  0.705997 -0.939   \n",
       "2025-06-18 20:57:00  0.566581  0.460866 -0.093452  0.478780 -0.939   \n",
       "2025-06-18 20:58:00  0.542508  0.497086 -0.060109  0.470665 -0.939   \n",
       "2025-06-18 20:59:00  0.903328  0.408182 -0.062549 -0.227217 -0.939   \n",
       "2025-06-18 21:00:00  1.017126  0.358792 -0.032866  0.259677 -0.960   \n",
       "\n",
       "                     bb_width_20      high       low      open  vwap_dev  \\\n",
       "2004-01-02 13:09:00    -0.929333 -0.317313 -0.028125 -0.193147 -0.032030   \n",
       "2004-01-02 13:10:00    -0.921566 -0.324262 -0.037500 -0.201085 -0.036171   \n",
       "2004-01-02 13:11:00    -0.913246 -0.331210 -0.046875 -0.209022 -0.040262   \n",
       "2004-01-02 13:12:00    -0.904541 -0.338159 -0.056250 -0.216960 -0.044296   \n",
       "2004-01-02 13:13:00    -0.895592 -0.345107 -0.065625 -0.224897 -0.048268   \n",
       "...                          ...       ...       ...       ...       ...   \n",
       "2025-06-18 20:56:00     0.122381  0.704918  0.500000  0.475806  0.407906   \n",
       "2025-06-18 20:57:00     0.187641  0.836066  0.387097  0.685484  0.263954   \n",
       "2025-06-18 20:58:00     0.241322  0.508197  0.500000  0.467742  0.254269   \n",
       "2025-06-18 20:59:00     0.245429  0.524590 -0.129032  0.475806 -0.173638   \n",
       "2025-06-18 21:00:00     0.236868  0.360656 -0.387097  0.314516  0.115538   \n",
       "\n",
       "                       atr_14       r_5       r_1      r_15        obv  \\\n",
       "2004-01-02 13:09:00 -1.435516 -0.040971 -0.029212 -0.025534  11.535427   \n",
       "2004-01-02 13:10:00 -1.432540 -0.054390 -0.029213 -0.033477  11.491025   \n",
       "2004-01-02 13:11:00 -1.429563 -0.067809 -0.029214 -0.041420  11.441197   \n",
       "2004-01-02 13:12:00 -1.426587 -0.067810 -0.029214 -0.049363  11.385942   \n",
       "2004-01-02 13:13:00 -1.423611 -0.067812 -0.029215 -0.057307  11.325262   \n",
       "...                       ...       ...       ...       ...        ...   \n",
       "2025-06-18 20:56:00  2.024482  1.742521  0.837991  1.317936   0.839704   \n",
       "2025-06-18 20:57:00  2.207440  0.887590 -0.939239  1.115397   0.647913   \n",
       "2025-06-18 20:58:00  2.216153  0.341995 -0.033854  0.828890   0.429218   \n",
       "2025-06-18 20:59:00  2.487280 -0.842944 -2.888426 -0.094079  -0.434952   \n",
       "2025-06-18 21:00:00  2.861997 -0.468049  2.015324  0.663058   6.060628   \n",
       "\n",
       "                       signal         ask         bid  \n",
       "2004-01-02 13:09:00  0.005593    0.764807    0.763664  \n",
       "2004-01-02 13:10:00  0.006095    0.764790    0.763647  \n",
       "2004-01-02 13:11:00  0.006642    0.764773    0.763631  \n",
       "2004-01-02 13:12:00  0.007239    0.764757    0.763614  \n",
       "2004-01-02 13:13:00  0.007889    0.764740    0.763597  \n",
       "...                       ...         ...         ...  \n",
       "2025-06-18 20:56:00  0.000000  196.962600  196.667400  \n",
       "2025-06-18 20:57:00  0.000000  196.822500  196.527500  \n",
       "2025-06-18 20:58:00  0.000000  196.817500  196.522500  \n",
       "2025-06-18 20:59:00  0.043551  196.387200  196.092800  \n",
       "2025-06-18 21:00:00  0.000000  196.687400  196.392600  \n",
       "\n",
       "[3601230 rows x 18 columns]"
      ]
     },
     "execution_count": 3,
     "metadata": {},
     "output_type": "execute_result"
    }
   ],
   "source": [
    "look_back      = params.look_back_tick \n",
    "features_cols  = params.features_cols_tick\n",
    "label_col      = params.label_col\n",
    "device         = params.device\n",
    "\n",
    "df_feat = pd.read_csv(params.feat_csv, index_col=0, parse_dates=True)\n",
    "\n",
    "df_features = df_feat[features_cols + ['signal','ask','bid']]\n",
    "df_features "
   ]
  },
  {
   "cell_type": "code",
   "execution_count": 4,
   "id": "b805fa9c",
   "metadata": {},
   "outputs": [
    {
     "data": {
      "application/vnd.jupyter.widget-view+json": {
       "model_id": "19443220dac84f6189eed71b2db14773",
       "version_major": 2,
       "version_minor": 0
      },
      "text/plain": [
       "Counting windows:   0%|          | 0/5400 [00:00<?, ?it/s]"
      ]
     },
     "metadata": {},
     "output_type": "display_data"
    },
    {
     "data": {
      "application/vnd.jupyter.widget-view+json": {
       "model_id": "07f908f0b7274996b5dda3a61d7b6413",
       "version_major": 2,
       "version_minor": 0
      },
      "text/plain": [
       "Writing memmaps:   0%|          | 0/5400 [00:00<?, ?it/s]"
      ]
     },
     "metadata": {},
     "output_type": "display_data"
    },
    {
     "name": "stdout",
     "output_type": "stream",
     "text": [
      "Shapes:\n",
      "  X         = torch.Size([2270503, 30, 15]) (samples, look_back, features)\n",
      "  y_sig     = torch.Size([2270503]) (samples,)\n",
      "  y_ret     = torch.Size([2270503]) (samples,)\n",
      "  raw_close = torch.Size([2270503])\n",
      "  raw_bid   = torch.Size([2270503])\n",
      "  raw_ask   = torch.Size([2270503])\n",
      "  end_times = (2270503,)\n"
     ]
    }
   ],
   "source": [
    "X, y_sig, y_ret, raw_close, raw_bid, raw_ask, end_times = models.build_lstm_tensors(\n",
    "    df            = df_feat,\n",
    "    look_back     = params.look_back_tick,\n",
    "    features_cols = params.features_cols_tick,\n",
    "    label_col     = params.label_col,\n",
    "    return_col    = params.return_col,\n",
    "    sess_start    = params.sess_start_pred_tick \n",
    ")\n",
    "\n",
    "# quick shapes\n",
    "print(\"Shapes:\")\n",
    "print(\"  X         =\", X.shape,    \"(samples, look_back, features)\")\n",
    "print(\"  y_sig     =\", y_sig.shape,    \"(samples,)\")\n",
    "print(\"  y_ret     =\", y_ret.shape,    \"(samples,)\")\n",
    "print(\"  raw_close =\", raw_close.shape)\n",
    "print(\"  raw_bid   =\", raw_bid.shape)\n",
    "print(\"  raw_ask   =\", raw_ask.shape)\n",
    "print(\"  end_times =\", end_times.shape)\n"
   ]
  },
  {
   "cell_type": "code",
   "execution_count": 5,
   "id": "7b4f1ac4",
   "metadata": {},
   "outputs": [
    {
     "name": "stdout",
     "output_type": "stream",
     "text": [
      "Shapes:\n",
      "  X_tr  = torch.Size([1600443, 30, 15])\n",
      "  y_sig_tr, y_ret_tr = torch.Size([1600443]) torch.Size([1600443])\n",
      "  X_val = torch.Size([329639, 30, 15])\n",
      "  y_sig_val, y_ret_val = torch.Size([329639]) torch.Size([329639])\n",
      "  X_te  = torch.Size([340421, 30, 15])\n",
      "  y_sig_te, y_ret_te = torch.Size([340421]) torch.Size([340421])\n"
     ]
    }
   ],
   "source": [
    "# Split into train/val/test by calendar day\n",
    "(\n",
    "(X_tr,  y_sig_tr,  y_ret_tr),\n",
    "(X_val, y_sig_val, y_ret_val),\n",
    "(X_te,  y_sig_te,  y_ret_te,  raw_close_te, raw_bid_te, raw_ask_te),\n",
    "samples_per_day,\n",
    "day_id_tr, day_id_val, day_id_te\n",
    ") = models.chronological_split(\n",
    "    X, y_sig, y_ret,\n",
    "    raw_close, raw_bid, raw_ask,\n",
    "    end_times   = end_times,\n",
    "    train_prop  = params.train_prop,\n",
    "    val_prop    = params.val_prop,\n",
    "    train_batch = params.hparams['TRAIN_BATCH']\n",
    ")\n",
    "\n",
    "# Print shapes of all tensors\n",
    "print(\"Shapes:\")\n",
    "print(\"  X_tr  =\", X_tr.shape)\n",
    "print(\"  y_sig_tr, y_ret_tr =\", y_sig_tr.shape, y_ret_tr.shape)\n",
    "print(\"  X_val =\", X_val.shape)\n",
    "print(\"  y_sig_val, y_ret_val =\", y_sig_val.shape, y_ret_val.shape)\n",
    "print(\"  X_te  =\", X_te.shape)\n",
    "print(\"  y_sig_te, y_ret_te =\", y_sig_te.shape, y_ret_te.shape)\n"
   ]
  },
  {
   "cell_type": "code",
   "execution_count": 6,
   "id": "1ad9b6c4-3d79-45c0-b2c0-c4f46f1ad866",
   "metadata": {},
   "outputs": [
    {
     "name": "stdout",
     "output_type": "stream",
     "text": [
      "Days  → train=3808, val=783, test=809\n",
      "Batches → train=119,   val=783,   test=809\n"
     ]
    }
   ],
   "source": [
    "# carve `end_times` into the same three splits:\n",
    "n_tr  = day_id_tr .shape[0] \n",
    "n_val = day_id_val.shape[0]\n",
    "i_tr  = n_tr\n",
    "i_val = n_tr + n_val\n",
    "\n",
    "end_times_tr  = end_times[:i_tr]\n",
    "end_times_val = end_times[i_tr:i_val]\n",
    "end_times_te  = end_times[i_val:]\n",
    "\n",
    "# -----------------------------------------------------------------------------\n",
    "#  Build DataLoaders over calendar‐days\n",
    "# -----------------------------------------------------------------------------\n",
    "train_loader, val_loader, test_loader = models.split_to_day_datasets(\n",
    "    # train split:   \n",
    "    X_tr,            y_sig_tr,     y_ret_tr,   end_times_tr,\n",
    "    # val split:\n",
    "    X_val,           y_sig_val,    y_ret_val,  end_times_val,\n",
    "    # test split + raw‐prices\n",
    "    X_te,            y_sig_te,     y_ret_te,   end_times_te,\n",
    "    raw_close_te, raw_bid_te, raw_ask_te,\n",
    "    \n",
    "    sess_start_time       = params.sess_start_pred_tick,\n",
    "    signal_thresh         = params.best_optuna_params[\"buy_threshold\"],\n",
    "    return_thresh         = 0.01,  # flat‐zone threshold for returns\n",
    "    train_batch           = params.hparams[\"TRAIN_BATCH\"],\n",
    "    train_workers         = params.hparams[\"NUM_WORKERS\"],\n",
    "    train_prefetch_factor = params.hparams[\"TRAIN_PREFETCH_FACTOR\"]\n",
    ")\n",
    "\n",
    "print(f\"Days  → train={len(train_loader.dataset)}, val={len(val_loader.dataset)}, test={len(test_loader.dataset)}\")\n",
    "print(f\"Batches → train={len(train_loader)},   val={len(val_loader)},   test={len(test_loader)}\")"
   ]
  },
  {
   "cell_type": "code",
   "execution_count": 7,
   "id": "eeec031f-6c8f-455f-9c72-ae411e03ba34",
   "metadata": {},
   "outputs": [
    {
     "data": {
      "text/plain": [
       "DualMemoryLSTM(\n",
       "  (conv): Conv1d(15, 15, kernel_size=(3,), stride=(1,), padding=(1,))\n",
       "  (short_lstm): LSTM(15, 64, batch_first=True, bidirectional=True)\n",
       "  (attn): MultiheadAttention(\n",
       "    (out_proj): NonDynamicallyQuantizableLinear(in_features=128, out_features=128, bias=True)\n",
       "  )\n",
       "  (do_short): Dropout(p=0.2, inplace=False)\n",
       "  (ln_short): LayerNorm((128,), eps=1e-05, elementwise_affine=True)\n",
       "  (long_lstm): LSTM(128, 64, batch_first=True, bidirectional=True)\n",
       "  (do_long): Dropout(p=0.2, inplace=False)\n",
       "  (ln_long): LayerNorm((128,), eps=1e-05, elementwise_affine=True)\n",
       "  (pred): Linear(in_features=128, out_features=1, bias=True)\n",
       "  (cls_head): Linear(in_features=128, out_features=1, bias=True)\n",
       "  (cls_ter): Linear(in_features=128, out_features=3, bias=True)\n",
       ")"
      ]
     },
     "execution_count": 7,
     "metadata": {},
     "output_type": "execute_result"
    }
   ],
   "source": [
    "# -----------------------------------------------------------------------------\n",
    "# Instantiate the stateful DualMemoryLSTM & move to device\n",
    "# -----------------------------------------------------------------------------\n",
    "model = models.DualMemoryLSTM(\n",
    "    n_feats        = len(features_cols),                          \n",
    "    short_units    = params.hparams['SHORT_UNITS'],    \n",
    "    long_units     = params.hparams['LONG_UNITS'],     \n",
    "    dropout_short  = params.hparams['DROPOUT_SHORT'],  \n",
    "    dropout_long   = params.hparams['DROPOUT_LONG'],   \n",
    "    att_heads      = params.hparams['ATT_HEADS'],\n",
    "    att_drop       = params.hparams['ATT_DROPOUT']\n",
    ")\n",
    "model.to(device)   # place model parameters on GPU or CPU as specified\n",
    "\n",
    "model"
   ]
  },
  {
   "cell_type": "code",
   "execution_count": 8,
   "id": "5512a0dd-d2c8-418e-bfca-4580fb4be995",
   "metadata": {},
   "outputs": [
    {
     "data": {
      "text/plain": [
       "AdamW (\n",
       "Parameter Group 0\n",
       "    amsgrad: False\n",
       "    betas: (0.9, 0.999)\n",
       "    capturable: False\n",
       "    decoupled_weight_decay: True\n",
       "    differentiable: False\n",
       "    eps: 1e-08\n",
       "    foreach: None\n",
       "    fused: None\n",
       "    initial_lr: 0.001\n",
       "    lr: 0.001\n",
       "    maximize: False\n",
       "    weight_decay: 0.0001\n",
       ")"
      ]
     },
     "execution_count": 8,
     "metadata": {},
     "output_type": "execute_result"
    }
   ],
   "source": [
    "# -----------------------------------------------------------------------------\n",
    "# Compute plateau_sched timing parameters\n",
    "# -----------------------------------------------------------------------------\n",
    "# Total training samples = total windows in X_tr (one window per row)\n",
    "n_train_samples = X_tr.shape[0]\n",
    "\n",
    "# How many optimizer steps (day‐bundles) constitute one epoch?\n",
    "steps_per_epoch = len(train_loader)\n",
    "\n",
    "\n",
    "# -----------------------------------------------------------------------------\n",
    "# Build optimizer, LR scheduler, AMP scaler, and gradient‐clip norm\n",
    "# -----------------------------------------------------------------------------\n",
    "optimizer, plateau_sched, cosine_sched, scaler, clipnorm = models.make_optimizer_and_scheduler(\n",
    "    model,\n",
    "    initial_lr        = params.hparams['INITIAL_LR'],       \n",
    "    weight_decay      = params.hparams['WEIGHT_DECAY'],     \n",
    "    clipnorm          = params.hparams['CLIPNORM']   \n",
    ")\n",
    "\n",
    "optimizer"
   ]
  },
  {
   "cell_type": "code",
   "execution_count": 9,
   "id": "e9c5fc27-f31d-4adc-a247-5468674f83fc",
   "metadata": {},
   "outputs": [
    {
     "name": "stdout",
     "output_type": "stream",
     "text": [
      "Training sees 3808 calendar days per epoch\n",
      "\n",
      "Baseline (zero‐forecast) RMSE on validation = 0.285996\n"
     ]
    }
   ],
   "source": [
    "# -----------------------------------------------------------------------------\n",
    "# Count how many calendar days we see each epoch and Compute baseline RMSE on validation (zero forecast)\n",
    "# -----------------------------------------------------------------------------\n",
    "n_train_days = len(train_loader.dataset)  # dataset length = # unique days\n",
    "print(f\"Training sees {n_train_days} calendar days per epoch\\n\")\n",
    "\n",
    "baseline_val_rmse = models.naive_rmse(val_loader)\n",
    "print(f\"Baseline (zero‐forecast) RMSE on validation = {baseline_val_rmse:.6f}\")"
   ]
  },
  {
   "cell_type": "code",
   "execution_count": 10,
   "id": "7bf94780-a876-4bf4-ad27-6abc2da1fc0a",
   "metadata": {},
   "outputs": [
    {
     "data": {
      "image/png": "[encoded data removed]",
      "text/plain": [
       "<Figure size 660x440 with 1 Axes>"
      ]
     },
     "metadata": {},
     "output_type": "display_data"
    },
    {
     "data": {
      "application/vnd.jupyter.widget-view+json": {
       "model_id": "ff4deff36f5b4f06bde75280f00d628c",
       "version_major": 2,
       "version_minor": 0
      },
      "text/plain": [
       "Epoch 1:   0%|          | 0/119 [00:01<?, ?bundle/s]"
      ]
     },
     "metadata": {},
     "output_type": "display_data"
    },
    {
     "name": "stdout",
     "output_type": "stream",
     "text": [
      "Epoch 001\n",
      "TRAIN→ \"R\": RMSE=0.2779 MAE=0.1962 R2=-0.5404 | \"B\": Acc=0.7930 Prec=0.4146 Rec=0.1492 F1=0.2194 AUROC=0.7337 | \"T\": Acc=0.3514 Prec=0.3855 Rec=0.3514 F1=0.3525 AUROC=0.5823\n",
      "VALID→ \"R\": RMSE=0.1967 MAE=0.1549 R2=0.1576 | \"B\": Acc=0.8163 Prec=0.6853 Rec=0.0543 F1=0.1006 AUROC=0.7730 | \"T\": Acc=0.3638 Prec=0.6044 Rec=0.3638 F1=0.3724 AUROC=0.5814\n"
     ]
    },
    {
     "data": {
      "application/vnd.jupyter.widget-view+json": {
       "model_id": "dcfb3ae8870e4a64b0f90dfaa91c81b2",
       "version_major": 2,
       "version_minor": 0
      },
      "text/plain": [
       "Epoch 2:   0%|          | 0/119 [00:00<?, ?bundle/s]"
      ]
     },
     "metadata": {},
     "output_type": "display_data"
    },
    {
     "name": "stdout",
     "output_type": "stream",
     "text": [
      "Epoch 002\n",
      "TRAIN→ \"R\": RMSE=0.2039 MAE=0.1484 R2=0.1706 | \"B\": Acc=0.8120 Prec=0.5667 Rec=0.1533 F1=0.2414 AUROC=0.7666 | \"T\": Acc=0.3500 Prec=0.4705 Rec=0.3500 F1=0.3430 AUROC=0.5724\n",
      "VALID→ \"R\": RMSE=0.1885 MAE=0.1420 R2=0.2259 | \"B\": Acc=0.8196 Prec=0.6676 Rec=0.0941 F1=0.1649 AUROC=0.7829 | \"T\": Acc=0.3615 Prec=0.5767 Rec=0.3615 F1=0.3640 AUROC=0.5850\n"
     ]
    },
    {
     "data": {
      "application/vnd.jupyter.widget-view+json": {
       "model_id": "db0435c3592c4779af09c247db26995c",
       "version_major": 2,
       "version_minor": 0
      },
      "text/plain": [
       "Epoch 3:   0%|          | 0/119 [00:00<?, ?bundle/s]"
      ]
     },
     "metadata": {},
     "output_type": "display_data"
    },
    {
     "name": "stdout",
     "output_type": "stream",
     "text": [
      "Epoch 003\n",
      "TRAIN→ \"R\": RMSE=0.2012 MAE=0.1460 R2=0.1924 | \"B\": Acc=0.8142 Prec=0.5782 Rec=0.1744 F1=0.2680 AUROC=0.7711 | \"T\": Acc=0.3535 Prec=0.4825 Rec=0.3535 F1=0.3470 AUROC=0.5742\n",
      "VALID→ \"R\": RMSE=0.1868 MAE=0.1384 R2=0.2402 | \"B\": Acc=0.8199 Prec=0.6771 Rec=0.0930 F1=0.1636 AUROC=0.7853 | \"T\": Acc=0.3624 Prec=0.5847 Rec=0.3624 F1=0.3609 AUROC=0.5881\n"
     ]
    },
    {
     "data": {
      "application/vnd.jupyter.widget-view+json": {
       "model_id": "74390f9cd3cb46cea43542c5db7faa8b",
       "version_major": 2,
       "version_minor": 0
      },
      "text/plain": [
       "Epoch 4:   0%|          | 0/119 [00:00<?, ?bundle/s]"
      ]
     },
     "metadata": {},
     "output_type": "display_data"
    },
    {
     "name": "stdout",
     "output_type": "stream",
     "text": [
      "Epoch 004\n",
      "TRAIN→ \"R\": RMSE=0.2000 MAE=0.1445 R2=0.2022 | \"B\": Acc=0.8148 Prec=0.5790 Rec=0.1853 F1=0.2808 AUROC=0.7746 | \"T\": Acc=0.3540 Prec=0.4817 Rec=0.3540 F1=0.3479 AUROC=0.5763\n",
      "VALID→ \"R\": RMSE=0.1860 MAE=0.1367 R2=0.2464 | \"B\": Acc=0.8210 Prec=0.6799 Rec=0.1033 F1=0.1793 AUROC=0.7886 | \"T\": Acc=0.3625 Prec=0.5871 Rec=0.3625 F1=0.3615 AUROC=0.5878\n"
     ]
    },
    {
     "data": {
      "application/vnd.jupyter.widget-view+json": {
       "model_id": "1427f3d479ef45018a1fd0cc87e7646d",
       "version_major": 2,
       "version_minor": 0
      },
      "text/plain": [
       "Epoch 5:   0%|          | 0/119 [00:00<?, ?bundle/s]"
      ]
     },
     "metadata": {},
     "output_type": "display_data"
    },
    {
     "name": "stdout",
     "output_type": "stream",
     "text": [
      "Epoch 005\n",
      "TRAIN→ \"R\": RMSE=0.1984 MAE=0.1434 R2=0.2150 | \"B\": Acc=0.8166 Prec=0.5907 Rec=0.1945 F1=0.2926 AUROC=0.7791 | \"T\": Acc=0.3564 Prec=0.4890 Rec=0.3564 F1=0.3515 AUROC=0.5746\n",
      "VALID→ \"R\": RMSE=0.1835 MAE=0.1349 R2=0.2664 | \"B\": Acc=0.8277 Prec=0.6654 Rec=0.1805 F1=0.2839 AUROC=0.7956 | \"T\": Acc=0.3618 Prec=0.5862 Rec=0.3618 F1=0.3620 AUROC=0.5886\n"
     ]
    },
    {
     "data": {
      "application/vnd.jupyter.widget-view+json": {
       "model_id": "7e2d71f182354379ada484bd464ff33c",
       "version_major": 2,
       "version_minor": 0
      },
      "text/plain": [
       "Epoch 6:   0%|          | 0/119 [00:00<?, ?bundle/s]"
      ]
     },
     "metadata": {},
     "output_type": "display_data"
    },
    {
     "name": "stdout",
     "output_type": "stream",
     "text": [
      "Epoch 006\n",
      "TRAIN→ \"R\": RMSE=0.1977 MAE=0.1427 R2=0.2206 | \"B\": Acc=0.8178 Prec=0.5944 Rec=0.2067 F1=0.3067 AUROC=0.7821 | \"T\": Acc=0.3569 Prec=0.4969 Rec=0.3569 F1=0.3521 AUROC=0.5726\n",
      "VALID→ \"R\": RMSE=0.1827 MAE=0.1332 R2=0.2733 | \"B\": Acc=0.8272 Prec=0.6750 Rec=0.1685 F1=0.2696 AUROC=0.7963 | \"T\": Acc=0.3628 Prec=0.6088 Rec=0.3628 F1=0.3661 AUROC=0.5899\n"
     ]
    },
    {
     "data": {
      "application/vnd.jupyter.widget-view+json": {
       "model_id": "4526e01839e847da83ed522e1ac9724d",
       "version_major": 2,
       "version_minor": 0
      },
      "text/plain": [
       "Epoch 7:   0%|          | 0/119 [00:00<?, ?bundle/s]"
      ]
     },
     "metadata": {},
     "output_type": "display_data"
    },
    {
     "name": "stdout",
     "output_type": "stream",
     "text": [
      "Epoch 007\n",
      "TRAIN→ \"R\": RMSE=0.1967 MAE=0.1419 R2=0.2285 | \"B\": Acc=0.8188 Prec=0.6011 Rec=0.2110 F1=0.3124 AUROC=0.7840 | \"T\": Acc=0.3573 Prec=0.5040 Rec=0.3573 F1=0.3526 AUROC=0.5738\n",
      "VALID→ \"R\": RMSE=0.1831 MAE=0.1362 R2=0.2699 | \"B\": Acc=0.8268 Prec=0.6756 Rec=0.1638 F1=0.2637 AUROC=0.7975 | \"T\": Acc=0.3617 Prec=0.6140 Rec=0.3617 F1=0.3585 AUROC=0.5903\n"
     ]
    },
    {
     "data": {
      "application/vnd.jupyter.widget-view+json": {
       "model_id": "c08d5d6f99d64cfba3e71d92b2c0e69a",
       "version_major": 2,
       "version_minor": 0
      },
      "text/plain": [
       "Epoch 8:   0%|          | 0/119 [00:00<?, ?bundle/s]"
      ]
     },
     "metadata": {},
     "output_type": "display_data"
    },
    {
     "name": "stdout",
     "output_type": "stream",
     "text": [
      "Epoch 008\n",
      "TRAIN→ \"R\": RMSE=0.1962 MAE=0.1418 R2=0.2326 | \"B\": Acc=0.8190 Prec=0.6022 Rec=0.2119 F1=0.3134 AUROC=0.7853 | \"T\": Acc=0.3564 Prec=0.4986 Rec=0.3564 F1=0.3509 AUROC=0.5726\n",
      "VALID→ \"R\": RMSE=0.1826 MAE=0.1325 R2=0.2737 | \"B\": Acc=0.8272 Prec=0.6634 Rec=0.1768 F1=0.2792 AUROC=0.7979 | \"T\": Acc=0.3632 Prec=0.6164 Rec=0.3632 F1=0.3665 AUROC=0.5904\n"
     ]
    },
    {
     "data": {
      "application/vnd.jupyter.widget-view+json": {
       "model_id": "f81bc73188f64d5cb972a4cd91b5abaa",
       "version_major": 2,
       "version_minor": 0
      },
      "text/plain": [
       "Epoch 9:   0%|          | 0/119 [00:00<?, ?bundle/s]"
      ]
     },
     "metadata": {},
     "output_type": "display_data"
    },
    {
     "name": "stdout",
     "output_type": "stream",
     "text": [
      "Epoch 009\n",
      "TRAIN→ \"R\": RMSE=0.1961 MAE=0.1414 R2=0.2329 | \"B\": Acc=0.8193 Prec=0.6046 Rec=0.2132 F1=0.3152 AUROC=0.7859 | \"T\": Acc=0.3574 Prec=0.4973 Rec=0.3574 F1=0.3520 AUROC=0.5722\n",
      "VALID→ \"R\": RMSE=0.1822 MAE=0.1347 R2=0.2769 | \"B\": Acc=0.8287 Prec=0.6718 Rec=0.1858 F1=0.2911 AUROC=0.7985 | \"T\": Acc=0.3628 Prec=0.6165 Rec=0.3628 F1=0.3646 AUROC=0.5909\n"
     ]
    },
    {
     "data": {
      "application/vnd.jupyter.widget-view+json": {
       "model_id": "4acbafe78e2c4f5db6cb35129134b2d3",
       "version_major": 2,
       "version_minor": 0
      },
      "text/plain": [
       "Epoch 10:   0%|          | 0/119 [00:00<?, ?bundle/s]"
      ]
     },
     "metadata": {},
     "output_type": "display_data"
    },
    {
     "name": "stdout",
     "output_type": "stream",
     "text": [
      "Epoch 010\n",
      "TRAIN→ \"R\": RMSE=0.1959 MAE=0.1414 R2=0.2350 | \"B\": Acc=0.8196 Prec=0.6053 Rec=0.2157 F1=0.3181 AUROC=0.7867 | \"T\": Acc=0.3575 Prec=0.5026 Rec=0.3575 F1=0.3522 AUROC=0.5714\n",
      "VALID→ \"R\": RMSE=0.1819 MAE=0.1337 R2=0.2798 | \"B\": Acc=0.8294 Prec=0.6750 Rec=0.1906 F1=0.2972 AUROC=0.7988 | \"T\": Acc=0.3637 Prec=0.6170 Rec=0.3637 F1=0.3692 AUROC=0.5912\n"
     ]
    },
    {
     "data": {
      "application/vnd.jupyter.widget-view+json": {
       "model_id": "f9be1f7c893648169f929d8f604a0694",
       "version_major": 2,
       "version_minor": 0
      },
      "text/plain": [
       "Epoch 11:   0%|          | 0/119 [00:00<?, ?bundle/s]"
      ]
     },
     "metadata": {},
     "output_type": "display_data"
    },
    {
     "name": "stdout",
     "output_type": "stream",
     "text": [
      "Epoch 011\n",
      "TRAIN→ \"R\": RMSE=0.1958 MAE=0.1412 R2=0.2352 | \"B\": Acc=0.8196 Prec=0.6051 Rec=0.2165 F1=0.3189 AUROC=0.7873 | \"T\": Acc=0.3580 Prec=0.5004 Rec=0.3580 F1=0.3525 AUROC=0.5711\n",
      "VALID→ \"R\": RMSE=0.1816 MAE=0.1321 R2=0.2820 | \"B\": Acc=0.8296 Prec=0.6794 Rec=0.1888 F1=0.2954 AUROC=0.7992 | \"T\": Acc=0.3635 Prec=0.6190 Rec=0.3635 F1=0.3700 AUROC=0.5914\n"
     ]
    },
    {
     "data": {
      "application/vnd.jupyter.widget-view+json": {
       "model_id": "a9a3c01ce2f44a2a8c4a43491c6af9b4",
       "version_major": 2,
       "version_minor": 0
      },
      "text/plain": [
       "Epoch 12:   0%|          | 0/119 [00:00<?, ?bundle/s]"
      ]
     },
     "metadata": {},
     "output_type": "display_data"
    },
    {
     "name": "stdout",
     "output_type": "stream",
     "text": [
      "Epoch 012\n",
      "TRAIN→ \"R\": RMSE=0.1959 MAE=0.1409 R2=0.2345 | \"B\": Acc=0.8196 Prec=0.6064 Rec=0.2135 F1=0.3159 AUROC=0.7877 | \"T\": Acc=0.3575 Prec=0.5032 Rec=0.3575 F1=0.3517 AUROC=0.5684\n",
      "VALID→ \"R\": RMSE=0.1816 MAE=0.1335 R2=0.2821 | \"B\": Acc=0.8296 Prec=0.6806 Rec=0.1883 F1=0.2950 AUROC=0.7993 | \"T\": Acc=0.3633 Prec=0.6216 Rec=0.3633 F1=0.3690 AUROC=0.5910\n"
     ]
    },
    {
     "data": {
      "application/vnd.jupyter.widget-view+json": {
       "model_id": "fa804f8a5b464eca81de13da3b55eaf9",
       "version_major": 2,
       "version_minor": 0
      },
      "text/plain": [
       "Epoch 13:   0%|          | 0/119 [00:00<?, ?bundle/s]"
      ]
     },
     "metadata": {},
     "output_type": "display_data"
    },
    {
     "name": "stdout",
     "output_type": "stream",
     "text": [
      "Epoch 013\n",
      "TRAIN→ \"R\": RMSE=0.1956 MAE=0.1408 R2=0.2370 | \"B\": Acc=0.8199 Prec=0.6074 Rec=0.2169 F1=0.3197 AUROC=0.7884 | \"T\": Acc=0.3583 Prec=0.5038 Rec=0.3583 F1=0.3532 AUROC=0.5696\n",
      "VALID→ \"R\": RMSE=0.1815 MAE=0.1324 R2=0.2823 | \"B\": Acc=0.8299 Prec=0.6701 Rec=0.1994 F1=0.3074 AUROC=0.7993 | \"T\": Acc=0.3623 Prec=0.6237 Rec=0.3623 F1=0.3677 AUROC=0.5911\n"
     ]
    },
    {
     "data": {
      "application/vnd.jupyter.widget-view+json": {
       "model_id": "32e293d4e15f49bbb08b46e3414d73f0",
       "version_major": 2,
       "version_minor": 0
      },
      "text/plain": [
       "Epoch 14:   0%|          | 0/119 [00:00<?, ?bundle/s]"
      ]
     },
     "metadata": {},
     "output_type": "display_data"
    },
    {
     "name": "stdout",
     "output_type": "stream",
     "text": [
      "Epoch 014\n",
      "TRAIN→ \"R\": RMSE=0.1960 MAE=0.1406 R2=0.2337 | \"B\": Acc=0.8198 Prec=0.6051 Rec=0.2186 F1=0.3211 AUROC=0.7881 | \"T\": Acc=0.3586 Prec=0.5107 Rec=0.3586 F1=0.3536 AUROC=0.5672\n",
      "VALID→ \"R\": RMSE=0.1812 MAE=0.1314 R2=0.2849 | \"B\": Acc=0.8310 Prec=0.6642 Rec=0.2165 F1=0.3265 AUROC=0.7997 | \"T\": Acc=0.3615 Prec=0.5924 Rec=0.3615 F1=0.3642 AUROC=0.5914\n"
     ]
    },
    {
     "data": {
      "application/vnd.jupyter.widget-view+json": {
       "model_id": "815bce4dbfbe49cd8fd56de2b708e1c0",
       "version_major": 2,
       "version_minor": 0
      },
      "text/plain": [
       "Epoch 15:   0%|          | 0/119 [00:00<?, ?bundle/s]"
      ]
     },
     "metadata": {},
     "output_type": "display_data"
    },
    {
     "name": "stdout",
     "output_type": "stream",
     "text": [
      "Epoch 015\n",
      "TRAIN→ \"R\": RMSE=0.1957 MAE=0.1404 R2=0.2361 | \"B\": Acc=0.8202 Prec=0.6090 Rec=0.2184 F1=0.3216 AUROC=0.7887 | \"T\": Acc=0.3588 Prec=0.5095 Rec=0.3588 F1=0.3539 AUROC=0.5671\n",
      "VALID→ \"R\": RMSE=0.1812 MAE=0.1318 R2=0.2853 | \"B\": Acc=0.8313 Prec=0.6552 Rec=0.2301 F1=0.3406 AUROC=0.7995 | \"T\": Acc=0.3626 Prec=0.6204 Rec=0.3626 F1=0.3645 AUROC=0.5915\n"
     ]
    },
    {
     "data": {
      "application/vnd.jupyter.widget-view+json": {
       "model_id": "d97d1aa6a38e43a1929f6f1addb00ab6",
       "version_major": 2,
       "version_minor": 0
      },
      "text/plain": [
       "Epoch 16:   0%|          | 0/119 [00:00<?, ?bundle/s]"
      ]
     },
     "metadata": {},
     "output_type": "display_data"
    },
    {
     "name": "stdout",
     "output_type": "stream",
     "text": [
      "Epoch 016\n",
      "TRAIN→ \"R\": RMSE=0.1960 MAE=0.1405 R2=0.2341 | \"B\": Acc=0.8203 Prec=0.6088 Rec=0.2196 F1=0.3228 AUROC=0.7887 | \"T\": Acc=0.3595 Prec=0.5031 Rec=0.3595 F1=0.3546 AUROC=0.5683\n",
      "VALID→ \"R\": RMSE=0.1811 MAE=0.1312 R2=0.2854 | \"B\": Acc=0.8313 Prec=0.6552 Rec=0.2296 F1=0.3401 AUROC=0.7993 | \"T\": Acc=0.3628 Prec=0.6240 Rec=0.3628 F1=0.3660 AUROC=0.5908\n"
     ]
    },
    {
     "data": {
      "application/vnd.jupyter.widget-view+json": {
       "model_id": "43f362936c514e4792ae7fcfc2a412e0",
       "version_major": 2,
       "version_minor": 0
      },
      "text/plain": [
       "Epoch 17:   0%|          | 0/119 [00:00<?, ?bundle/s]"
      ]
     },
     "metadata": {},
     "output_type": "display_data"
    },
    {
     "name": "stdout",
     "output_type": "stream",
     "text": [
      "Epoch 017\n",
      "TRAIN→ \"R\": RMSE=0.1958 MAE=0.1403 R2=0.2354 | \"B\": Acc=0.8205 Prec=0.6096 Rec=0.2223 F1=0.3258 AUROC=0.7892 | \"T\": Acc=0.3598 Prec=0.5059 Rec=0.3598 F1=0.3552 AUROC=0.5689\n",
      "VALID→ \"R\": RMSE=0.1816 MAE=0.1313 R2=0.2818 | \"B\": Acc=0.8312 Prec=0.6508 Rec=0.2335 F1=0.3437 AUROC=0.7987 | \"T\": Acc=0.3615 Prec=0.6080 Rec=0.3615 F1=0.3629 AUROC=0.5913\n"
     ]
    },
    {
     "data": {
      "application/vnd.jupyter.widget-view+json": {
       "model_id": "43eca93eb7ad49428ba0ff15bab2f00a",
       "version_major": 2,
       "version_minor": 0
      },
      "text/plain": [
       "Epoch 18:   0%|          | 0/119 [00:00<?, ?bundle/s]"
      ]
     },
     "metadata": {},
     "output_type": "display_data"
    },
    {
     "name": "stdout",
     "output_type": "stream",
     "text": [
      "Epoch 018\n",
      "TRAIN→ \"R\": RMSE=0.1955 MAE=0.1402 R2=0.2375 | \"B\": Acc=0.8208 Prec=0.6102 Rec=0.2247 F1=0.3284 AUROC=0.7895 | \"T\": Acc=0.3598 Prec=0.5170 Rec=0.3598 F1=0.3554 AUROC=0.5690\n",
      "VALID→ \"R\": RMSE=0.1814 MAE=0.1320 R2=0.2834 | \"B\": Acc=0.8313 Prec=0.6451 Rec=0.2422 F1=0.3521 AUROC=0.7990 | \"T\": Acc=0.3645 Prec=0.5893 Rec=0.3645 F1=0.3696 AUROC=0.5903\n"
     ]
    },
    {
     "data": {
      "application/vnd.jupyter.widget-view+json": {
       "model_id": "a4c3de3affb4478ab72f506ff5bb7627",
       "version_major": 2,
       "version_minor": 0
      },
      "text/plain": [
       "Epoch 19:   0%|          | 0/119 [00:00<?, ?bundle/s]"
      ]
     },
     "metadata": {},
     "output_type": "display_data"
    },
    {
     "name": "stdout",
     "output_type": "stream",
     "text": [
      "Epoch 019\n",
      "TRAIN→ \"R\": RMSE=0.1954 MAE=0.1403 R2=0.2384 | \"B\": Acc=0.8208 Prec=0.6098 Rec=0.2263 F1=0.3300 AUROC=0.7897 | \"T\": Acc=0.3598 Prec=0.5100 Rec=0.3598 F1=0.3550 AUROC=0.5690\n",
      "VALID→ \"R\": RMSE=0.1813 MAE=0.1331 R2=0.2839 | \"B\": Acc=0.8314 Prec=0.6374 Rec=0.2533 F1=0.3625 AUROC=0.7990 | \"T\": Acc=0.3623 Prec=0.6139 Rec=0.3623 F1=0.3618 AUROC=0.5889\n"
     ]
    },
    {
     "data": {
      "application/vnd.jupyter.widget-view+json": {
       "model_id": "814c049ac3e94bf7ab99eeab8fd8cd2b",
       "version_major": 2,
       "version_minor": 0
      },
      "text/plain": [
       "Epoch 20:   0%|          | 0/119 [00:00<?, ?bundle/s]"
      ]
     },
     "metadata": {},
     "output_type": "display_data"
    },
    {
     "name": "stdout",
     "output_type": "stream",
     "text": [
      "Epoch 020\n",
      "TRAIN→ \"R\": RMSE=0.1954 MAE=0.1401 R2=0.2387 | \"B\": Acc=0.8209 Prec=0.6086 Rec=0.2285 F1=0.3322 AUROC=0.7899 | \"T\": Acc=0.3607 Prec=0.5135 Rec=0.3607 F1=0.3560 AUROC=0.5694\n",
      "VALID→ \"R\": RMSE=0.1813 MAE=0.1320 R2=0.2845 | \"B\": Acc=0.8312 Prec=0.6518 Rec=0.2321 F1=0.3423 AUROC=0.7985 | \"T\": Acc=0.3617 Prec=0.6222 Rec=0.3617 F1=0.3639 AUROC=0.5909\n"
     ]
    },
    {
     "data": {
      "application/vnd.jupyter.widget-view+json": {
       "model_id": "c5ee088a3d964aa8bbc6be7fa5b7947c",
       "version_major": 2,
       "version_minor": 0
      },
      "text/plain": [
       "Epoch 21:   0%|          | 0/119 [00:00<?, ?bundle/s]"
      ]
     },
     "metadata": {},
     "output_type": "display_data"
    },
    {
     "name": "stdout",
     "output_type": "stream",
     "text": [
      "Epoch 021\n",
      "TRAIN→ \"R\": RMSE=0.1953 MAE=0.1401 R2=0.2394 | \"B\": Acc=0.8212 Prec=0.6109 Rec=0.2295 F1=0.3336 AUROC=0.7901 | \"T\": Acc=0.3601 Prec=0.5122 Rec=0.3601 F1=0.3556 AUROC=0.5675\n",
      "VALID→ \"R\": RMSE=0.1820 MAE=0.1316 R2=0.2788 | \"B\": Acc=0.8311 Prec=0.6320 Rec=0.2576 F1=0.3660 AUROC=0.7983 | \"T\": Acc=0.3594 Prec=0.6025 Rec=0.3594 F1=0.3568 AUROC=0.5905\n"
     ]
    },
    {
     "data": {
      "application/vnd.jupyter.widget-view+json": {
       "model_id": "99f3e6239d6d4a2db19b4735e8598f64",
       "version_major": 2,
       "version_minor": 0
      },
      "text/plain": [
       "Epoch 22:   0%|          | 0/119 [00:00<?, ?bundle/s]"
      ]
     },
     "metadata": {},
     "output_type": "display_data"
    },
    {
     "name": "stdout",
     "output_type": "stream",
     "text": [
      "Epoch 022\n",
      "TRAIN→ \"R\": RMSE=0.1955 MAE=0.1402 R2=0.2375 | \"B\": Acc=0.8210 Prec=0.6095 Rec=0.2289 F1=0.3328 AUROC=0.7900 | \"T\": Acc=0.3606 Prec=0.5075 Rec=0.3606 F1=0.3561 AUROC=0.5680\n",
      "VALID→ \"R\": RMSE=0.1823 MAE=0.1341 R2=0.2764 | \"B\": Acc=0.8313 Prec=0.6332 Rec=0.2582 F1=0.3668 AUROC=0.7987 | \"T\": Acc=0.3626 Prec=0.6153 Rec=0.3626 F1=0.3613 AUROC=0.5908\n"
     ]
    },
    {
     "data": {
      "application/vnd.jupyter.widget-view+json": {
       "model_id": "a0460d318d34426e8e5de7ff44e83bfe",
       "version_major": 2,
       "version_minor": 0
      },
      "text/plain": [
       "Epoch 23:   0%|          | 0/119 [00:00<?, ?bundle/s]"
      ]
     },
     "metadata": {},
     "output_type": "display_data"
    },
    {
     "name": "stdout",
     "output_type": "stream",
     "text": [
      "Epoch 023\n",
      "TRAIN→ \"R\": RMSE=0.1955 MAE=0.1402 R2=0.2380 | \"B\": Acc=0.8208 Prec=0.6073 Rec=0.2305 F1=0.3342 AUROC=0.7900 | \"T\": Acc=0.3613 Prec=0.5103 Rec=0.3613 F1=0.3570 AUROC=0.5692\n",
      "VALID→ \"R\": RMSE=0.1821 MAE=0.1336 R2=0.2775 | \"B\": Acc=0.8309 Prec=0.6269 Rec=0.2632 F1=0.3708 AUROC=0.7986 | \"T\": Acc=0.3625 Prec=0.6153 Rec=0.3625 F1=0.3620 AUROC=0.5898\n"
     ]
    },
    {
     "data": {
      "application/vnd.jupyter.widget-view+json": {
       "model_id": "e0a485ed493f40f8a8e4b0f594387639",
       "version_major": 2,
       "version_minor": 0
      },
      "text/plain": [
       "Epoch 24:   0%|          | 0/119 [00:00<?, ?bundle/s]"
      ]
     },
     "metadata": {},
     "output_type": "display_data"
    },
    {
     "name": "stdout",
     "output_type": "stream",
     "text": [
      "Epoch 024\n",
      "TRAIN→ \"R\": RMSE=0.1955 MAE=0.1403 R2=0.2380 | \"B\": Acc=0.8209 Prec=0.6086 Rec=0.2285 F1=0.3323 AUROC=0.7901 | \"T\": Acc=0.3625 Prec=0.5284 Rec=0.3625 F1=0.3588 AUROC=0.5684\n",
      "VALID→ \"R\": RMSE=0.1828 MAE=0.1359 R2=0.2726 | \"B\": Acc=0.8305 Prec=0.6110 Rec=0.2874 F1=0.3909 AUROC=0.7985 | \"T\": Acc=0.3631 Prec=0.6066 Rec=0.3631 F1=0.3629 AUROC=0.5905\n"
     ]
    },
    {
     "data": {
      "application/vnd.jupyter.widget-view+json": {
       "model_id": "59dea8098715439980590574f800ecea",
       "version_major": 2,
       "version_minor": 0
      },
      "text/plain": [
       "Epoch 25:   0%|          | 0/119 [00:00<?, ?bundle/s]"
      ]
     },
     "metadata": {},
     "output_type": "display_data"
    },
    {
     "name": "stdout",
     "output_type": "stream",
     "text": [
      "Epoch 025\n",
      "TRAIN→ \"R\": RMSE=0.1954 MAE=0.1404 R2=0.2386 | \"B\": Acc=0.8210 Prec=0.6076 Rec=0.2324 F1=0.3362 AUROC=0.7904 | \"T\": Acc=0.3617 Prec=0.5270 Rec=0.3617 F1=0.3577 AUROC=0.5702\n",
      "VALID→ \"R\": RMSE=0.1834 MAE=0.1385 R2=0.2678 | \"B\": Acc=0.8308 Prec=0.6189 Rec=0.2769 F1=0.3826 AUROC=0.7983 | \"T\": Acc=0.3624 Prec=0.6194 Rec=0.3624 F1=0.3578 AUROC=0.5894\n"
     ]
    },
    {
     "data": {
      "application/vnd.jupyter.widget-view+json": {
       "model_id": "d03e45e2c0b14868b9a47ae7eb6609df",
       "version_major": 2,
       "version_minor": 0
      },
      "text/plain": [
       "Epoch 26:   0%|          | 0/119 [00:00<?, ?bundle/s]"
      ]
     },
     "metadata": {},
     "output_type": "display_data"
    },
    {
     "name": "stdout",
     "output_type": "stream",
     "text": [
      "Epoch 026\n",
      "TRAIN→ \"R\": RMSE=0.1951 MAE=0.1403 R2=0.2413 | \"B\": Acc=0.8211 Prec=0.6097 Rec=0.2303 F1=0.3343 AUROC=0.7903 | \"T\": Acc=0.3634 Prec=0.5286 Rec=0.3634 F1=0.3603 AUROC=0.5718\n",
      "VALID→ \"R\": RMSE=0.1834 MAE=0.1386 R2=0.2674 | \"B\": Acc=0.8304 Prec=0.6094 Rec=0.2900 F1=0.3930 AUROC=0.7990 | \"T\": Acc=0.3625 Prec=0.6187 Rec=0.3625 F1=0.3589 AUROC=0.5899\n"
     ]
    },
    {
     "data": {
      "application/vnd.jupyter.widget-view+json": {
       "model_id": "0d93bfeb0e884209958ced66430bf18f",
       "version_major": 2,
       "version_minor": 0
      },
      "text/plain": [
       "Epoch 27:   0%|          | 0/119 [00:00<?, ?bundle/s]"
      ]
     },
     "metadata": {},
     "output_type": "display_data"
    },
    {
     "name": "stdout",
     "output_type": "stream",
     "text": [
      "Epoch 027\n",
      "TRAIN→ \"R\": RMSE=0.1948 MAE=0.1401 R2=0.2430 | \"B\": Acc=0.8213 Prec=0.6088 Rec=0.2341 F1=0.3382 AUROC=0.7906 | \"T\": Acc=0.3640 Prec=0.5352 Rec=0.3640 F1=0.3613 AUROC=0.5717\n",
      "VALID→ \"R\": RMSE=0.1843 MAE=0.1399 R2=0.2599 | \"B\": Acc=0.8303 Prec=0.6097 Rec=0.2874 F1=0.3906 AUROC=0.7980 | \"T\": Acc=0.3614 Prec=0.6099 Rec=0.3614 F1=0.3597 AUROC=0.5896\n"
     ]
    },
    {
     "data": {
      "application/vnd.jupyter.widget-view+json": {
       "model_id": "082d6f3df2f34183909c9abe3be65e01",
       "version_major": 2,
       "version_minor": 0
      },
      "text/plain": [
       "Epoch 28:   0%|          | 0/119 [00:00<?, ?bundle/s]"
      ]
     },
     "metadata": {},
     "output_type": "display_data"
    },
    {
     "name": "stdout",
     "output_type": "stream",
     "text": [
      "Epoch 028\n",
      "TRAIN→ \"R\": RMSE=0.1945 MAE=0.1400 R2=0.2453 | \"B\": Acc=0.8217 Prec=0.6126 Rec=0.2328 F1=0.3374 AUROC=0.7913 | \"T\": Acc=0.3634 Prec=0.5259 Rec=0.3634 F1=0.3601 AUROC=0.5710\n",
      "VALID→ \"R\": RMSE=0.1836 MAE=0.1387 R2=0.2659 | \"B\": Acc=0.8307 Prec=0.6169 Rec=0.2784 F1=0.3837 AUROC=0.7983 | \"T\": Acc=0.3623 Prec=0.6279 Rec=0.3623 F1=0.3626 AUROC=0.5895\n"
     ]
    },
    {
     "data": {
      "application/vnd.jupyter.widget-view+json": {
       "model_id": "4af30cdda7f44cc88fa2fd633714f4a4",
       "version_major": 2,
       "version_minor": 0
      },
      "text/plain": [
       "Epoch 29:   0%|          | 0/119 [00:00<?, ?bundle/s]"
      ]
     },
     "metadata": {},
     "output_type": "display_data"
    },
    {
     "name": "stdout",
     "output_type": "stream",
     "text": [
      "Epoch 029\n",
      "TRAIN→ \"R\": RMSE=0.1942 MAE=0.1398 R2=0.2482 | \"B\": Acc=0.8220 Prec=0.6141 Rec=0.2349 F1=0.3399 AUROC=0.7914 | \"T\": Acc=0.3636 Prec=0.5255 Rec=0.3636 F1=0.3602 AUROC=0.5702\n",
      "VALID→ \"R\": RMSE=0.1833 MAE=0.1376 R2=0.2682 | \"B\": Acc=0.8309 Prec=0.6170 Rec=0.2809 F1=0.3861 AUROC=0.7983 | \"T\": Acc=0.3617 Prec=0.6279 Rec=0.3617 F1=0.3606 AUROC=0.5893\n"
     ]
    },
    {
     "data": {
      "application/vnd.jupyter.widget-view+json": {
       "model_id": "84b4db0aec3c4d89b7de52d8e43258fa",
       "version_major": 2,
       "version_minor": 0
      },
      "text/plain": [
       "Epoch 30:   0%|          | 0/119 [00:00<?, ?bundle/s]"
      ]
     },
     "metadata": {},
     "output_type": "display_data"
    },
    {
     "name": "stdout",
     "output_type": "stream",
     "text": [
      "Epoch 030\n",
      "TRAIN→ \"R\": RMSE=0.1941 MAE=0.1398 R2=0.2485 | \"B\": Acc=0.8219 Prec=0.6151 Rec=0.2325 F1=0.3374 AUROC=0.7915 | \"T\": Acc=0.3641 Prec=0.5332 Rec=0.3641 F1=0.3607 AUROC=0.5708\n",
      "VALID→ \"R\": RMSE=0.1832 MAE=0.1371 R2=0.2687 | \"B\": Acc=0.8312 Prec=0.6212 Rec=0.2771 F1=0.3832 AUROC=0.7994 | \"T\": Acc=0.3633 Prec=0.6281 Rec=0.3633 F1=0.3637 AUROC=0.5894\n"
     ]
    },
    {
     "data": {
      "application/vnd.jupyter.widget-view+json": {
       "model_id": "1c24af33db634eebaceb22d25e7eb449",
       "version_major": 2,
       "version_minor": 0
      },
      "text/plain": [
       "Epoch 31:   0%|          | 0/119 [00:00<?, ?bundle/s]"
      ]
     },
     "metadata": {},
     "output_type": "display_data"
    },
    {
     "name": "stdout",
     "output_type": "stream",
     "text": [
      "Epoch 031\n",
      "TRAIN→ \"R\": RMSE=0.1940 MAE=0.1396 R2=0.2498 | \"B\": Acc=0.8222 Prec=0.6161 Rec=0.2341 F1=0.3392 AUROC=0.7920 | \"T\": Acc=0.3642 Prec=0.5295 Rec=0.3642 F1=0.3610 AUROC=0.5715\n",
      "VALID→ \"R\": RMSE=0.1830 MAE=0.1362 R2=0.2704 | \"B\": Acc=0.8305 Prec=0.6154 Rec=0.2788 F1=0.3838 AUROC=0.7992 | \"T\": Acc=0.3631 Prec=0.6271 Rec=0.3631 F1=0.3640 AUROC=0.5892\n",
      "Early stopping at epoch 31\n",
      "\n",
      "Champion validation RMSE = 0.181146\n",
      "Improvement over zero‐baseline =  36.7%\n"
     ]
    },
    {
     "data": {
      "image/png": "[encoded data removed]",
      "text/plain": [
       "<Figure size 660x440 with 1 Axes>"
      ]
     },
     "metadata": {},
     "output_type": "display_data"
    }
   ],
   "source": [
    "# -----------------------------------------------------------------------------\n",
    "# Run the custom stateful training loop\n",
    "# -----------------------------------------------------------------------------\n",
    "best_val_rmse  = models.custom_stateful_training_loop(\n",
    "    model               = model,\n",
    "    optimizer           = optimizer,\n",
    "    cosine_sched        = cosine_sched,\n",
    "    plateau_sched       = plateau_sched,\n",
    "    scaler              = scaler,\n",
    "    train_loader        = train_loader,\n",
    "    val_loader          = val_loader,\n",
    "    max_epochs          = params.hparams['MAX_EPOCHS'],\n",
    "    early_stop_patience = params.hparams['EARLY_STOP_PATIENCE'],\n",
    "    baseline_val_rmse   = baseline_val_rmse,\n",
    "    clipnorm            = clipnorm,\n",
    "    device              = device\n",
    ")\n",
    "\n",
    "# -----------------------------------------------------------------------------\n",
    "# Final reporting: best RMSE and relative improvement\n",
    "# -----------------------------------------------------------------------------\n",
    "print(f\"\\nChampion validation RMSE = {best_val_rmse:.6f}\")\n",
    "\n",
    "improvement = 100.0 * (1.0 - best_val_rmse / baseline_val_rmse)\n",
    "print(f\"Improvement over zero‐baseline = {improvement:5.1f}%\")\n"
   ]
  },
  {
   "cell_type": "code",
   "execution_count": null,
   "id": "4c8660dd-d2db-434a-aa59-17814d343fbe",
   "metadata": {},
   "outputs": [],
   "source": []
  },
  {
   "cell_type": "code",
   "execution_count": null,
   "id": "138c3b45-e00a-4a85-860d-4f87b71cbbbc",
   "metadata": {},
   "outputs": [],
   "source": []
  }
 ],
 "metadata": {
  "kernelspec": {
   "display_name": "Python 3 (ipykernel)",
   "language": "python",
   "name": "python3"
  },
  "language_info": {
   "codemirror_mode": {
    "name": "ipython",
    "version": 3
   },
   "file_extension": ".py",
   "mimetype": "text/x-python",
   "name": "python",
   "nbconvert_exporter": "python",
   "pygments_lexer": "ipython3",
   "version": "3.12.3"
  }
 },
 "nbformat": 4,
 "nbformat_minor": 5
}
