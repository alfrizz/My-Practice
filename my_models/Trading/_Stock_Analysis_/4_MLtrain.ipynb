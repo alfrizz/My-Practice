{
 "cells": [
  {
   "cell_type": "code",
   "execution_count": 1,
   "id": "73f06a4f-691a-4a84-a305-e7212eb879bf",
   "metadata": {},
   "outputs": [],
   "source": [
    "# %matplotlib widget\n",
    "%matplotlib inline"
   ]
  },
  {
   "cell_type": "code",
   "execution_count": 2,
   "id": "4c868158-e6bb-4d56-bbdd-8e8103f0b9e4",
   "metadata": {},
   "outputs": [],
   "source": [
    "# 1) Wipe out all Python variables\n",
    "%reset -f\n",
    "# 2) Force Python’s garbage collector to run\n",
    "import gc\n",
    "gc.collect()\n",
    "\n",
    "import importlib\n",
    "from libs import trades, plots, params, models\n",
    "importlib.reload(trades)\n",
    "importlib.reload(plots)\n",
    "importlib.reload(params)\n",
    "importlib.reload(models)\n",
    "\n",
    "import pandas as pd\n",
    "pd.set_option('display.max_columns', None)\n",
    "\n",
    "import numpy  as np\n",
    "import math\n",
    "import matplotlib.pyplot as plt\n",
    "\n",
    "import datetime as dt\n",
    "import os\n",
    "from typing import Sequence, List, Tuple, Optional, Union\n",
    "\n",
    "import torch\n",
    "import torch.nn as nn\n",
    "import torch.nn.functional as Funct\n",
    "from torch_lr_finder import LRFinder\n",
    "from torch.utils.data import DataLoader, TensorDataset\n",
    "\n",
    "from tqdm import tqdm"
   ]
  },
  {
   "cell_type": "code",
   "execution_count": 3,
   "id": "7b98406a",
   "metadata": {},
   "outputs": [
    {
     "data": {
      "text/html": [
       "<div>\n",
       "<style scoped>\n",
       "    .dataframe tbody tr th:only-of-type {\n",
       "        vertical-align: middle;\n",
       "    }\n",
       "\n",
       "    .dataframe tbody tr th {\n",
       "        vertical-align: top;\n",
       "    }\n",
       "\n",
       "    .dataframe thead th {\n",
       "        text-align: right;\n",
       "    }\n",
       "</style>\n",
       "<table border=\"1\" class=\"dataframe\">\n",
       "  <thead>\n",
       "    <tr style=\"text-align: right;\">\n",
       "      <th></th>\n",
       "      <th>atr_ratio</th>\n",
       "      <th>atr_ratio_sma</th>\n",
       "      <th>vol_15</th>\n",
       "      <th>bb_width_20</th>\n",
       "      <th>r_15</th>\n",
       "      <th>rsi</th>\n",
       "      <th>stoch_k_14</th>\n",
       "      <th>eng_ma</th>\n",
       "      <th>bid</th>\n",
       "      <th>ask</th>\n",
       "      <th>signal</th>\n",
       "    </tr>\n",
       "  </thead>\n",
       "  <tbody>\n",
       "    <tr>\n",
       "      <th>2004-01-02 13:07:00</th>\n",
       "      <td>-0.996380</td>\n",
       "      <td>-0.987015</td>\n",
       "      <td>-1.005076</td>\n",
       "      <td>-0.943230</td>\n",
       "      <td>-0.009476</td>\n",
       "      <td>-2.476841</td>\n",
       "      <td>-1.552562</td>\n",
       "      <td>-0.001209</td>\n",
       "      <td>0.763698</td>\n",
       "      <td>0.764840</td>\n",
       "      <td>0.014975</td>\n",
       "    </tr>\n",
       "    <tr>\n",
       "      <th>2004-01-02 13:08:00</th>\n",
       "      <td>-0.994579</td>\n",
       "      <td>-0.986828</td>\n",
       "      <td>-1.001603</td>\n",
       "      <td>-0.937271</td>\n",
       "      <td>-0.017401</td>\n",
       "      <td>-2.476841</td>\n",
       "      <td>-1.552562</td>\n",
       "      <td>-0.001209</td>\n",
       "      <td>0.763681</td>\n",
       "      <td>0.764824</td>\n",
       "      <td>0.016217</td>\n",
       "    </tr>\n",
       "    <tr>\n",
       "      <th>2004-01-02 13:09:00</th>\n",
       "      <td>-0.992906</td>\n",
       "      <td>-0.986557</td>\n",
       "      <td>-0.999187</td>\n",
       "      <td>-0.930276</td>\n",
       "      <td>-0.025327</td>\n",
       "      <td>-2.476841</td>\n",
       "      <td>-1.552562</td>\n",
       "      <td>-0.001209</td>\n",
       "      <td>0.763664</td>\n",
       "      <td>0.764807</td>\n",
       "      <td>0.017566</td>\n",
       "    </tr>\n",
       "    <tr>\n",
       "      <th>2004-01-02 13:10:00</th>\n",
       "      <td>-0.991353</td>\n",
       "      <td>-0.986209</td>\n",
       "      <td>-0.997370</td>\n",
       "      <td>-0.922523</td>\n",
       "      <td>-0.033253</td>\n",
       "      <td>-2.476841</td>\n",
       "      <td>-1.552562</td>\n",
       "      <td>-0.001209</td>\n",
       "      <td>0.763647</td>\n",
       "      <td>0.764790</td>\n",
       "      <td>0.019028</td>\n",
       "    </tr>\n",
       "    <tr>\n",
       "      <th>2004-01-02 13:11:00</th>\n",
       "      <td>-0.989911</td>\n",
       "      <td>-0.985789</td>\n",
       "      <td>-0.995973</td>\n",
       "      <td>-0.914218</td>\n",
       "      <td>-0.041178</td>\n",
       "      <td>-2.476841</td>\n",
       "      <td>-1.552562</td>\n",
       "      <td>-0.001209</td>\n",
       "      <td>0.763631</td>\n",
       "      <td>0.764773</td>\n",
       "      <td>0.020611</td>\n",
       "    </tr>\n",
       "    <tr>\n",
       "      <th>...</th>\n",
       "      <td>...</td>\n",
       "      <td>...</td>\n",
       "      <td>...</td>\n",
       "      <td>...</td>\n",
       "      <td>...</td>\n",
       "      <td>...</td>\n",
       "      <td>...</td>\n",
       "      <td>...</td>\n",
       "      <td>...</td>\n",
       "      <td>...</td>\n",
       "      <td>...</td>\n",
       "    </tr>\n",
       "    <tr>\n",
       "      <th>2025-06-18 20:56:00</th>\n",
       "      <td>0.582507</td>\n",
       "      <td>0.182057</td>\n",
       "      <td>0.348747</td>\n",
       "      <td>0.119570</td>\n",
       "      <td>1.315228</td>\n",
       "      <td>0.811095</td>\n",
       "      <td>0.354296</td>\n",
       "      <td>12.115664</td>\n",
       "      <td>196.667400</td>\n",
       "      <td>196.962600</td>\n",
       "      <td>0.305243</td>\n",
       "    </tr>\n",
       "    <tr>\n",
       "      <th>2025-06-18 20:57:00</th>\n",
       "      <td>0.641713</td>\n",
       "      <td>0.207647</td>\n",
       "      <td>0.391507</td>\n",
       "      <td>0.184714</td>\n",
       "      <td>1.113128</td>\n",
       "      <td>0.539711</td>\n",
       "      <td>0.426843</td>\n",
       "      <td>12.401440</td>\n",
       "      <td>196.527500</td>\n",
       "      <td>196.822500</td>\n",
       "      <td>0.093820</td>\n",
       "    </tr>\n",
       "    <tr>\n",
       "      <th>2025-06-18 20:58:00</th>\n",
       "      <td>0.574130</td>\n",
       "      <td>0.230765</td>\n",
       "      <td>0.392142</td>\n",
       "      <td>0.238300</td>\n",
       "      <td>0.827243</td>\n",
       "      <td>0.530165</td>\n",
       "      <td>0.381683</td>\n",
       "      <td>12.401440</td>\n",
       "      <td>196.522500</td>\n",
       "      <td>196.817500</td>\n",
       "      <td>0.000061</td>\n",
       "    </tr>\n",
       "    <tr>\n",
       "      <th>2025-06-18 20:59:00</th>\n",
       "      <td>0.695123</td>\n",
       "      <td>0.261866</td>\n",
       "      <td>0.692251</td>\n",
       "      <td>0.242399</td>\n",
       "      <td>-0.093724</td>\n",
       "      <td>-0.151391</td>\n",
       "      <td>-0.182061</td>\n",
       "      <td>9.257911</td>\n",
       "      <td>196.092800</td>\n",
       "      <td>196.387200</td>\n",
       "      <td>0.000076</td>\n",
       "    </tr>\n",
       "    <tr>\n",
       "      <th>2025-06-18 21:00:00</th>\n",
       "      <td>0.828554</td>\n",
       "      <td>0.300607</td>\n",
       "      <td>0.794598</td>\n",
       "      <td>0.233854</td>\n",
       "      <td>0.661771</td>\n",
       "      <td>0.222017</td>\n",
       "      <td>-0.321780</td>\n",
       "      <td>8.514895</td>\n",
       "      <td>196.392600</td>\n",
       "      <td>196.687400</td>\n",
       "      <td>0.000101</td>\n",
       "    </tr>\n",
       "  </tbody>\n",
       "</table>\n",
       "<p>3563215 rows × 11 columns</p>\n",
       "</div>"
      ],
      "text/plain": [
       "                     atr_ratio  atr_ratio_sma    vol_15  bb_width_20  \\\n",
       "2004-01-02 13:07:00  -0.996380      -0.987015 -1.005076    -0.943230   \n",
       "2004-01-02 13:08:00  -0.994579      -0.986828 -1.001603    -0.937271   \n",
       "2004-01-02 13:09:00  -0.992906      -0.986557 -0.999187    -0.930276   \n",
       "2004-01-02 13:10:00  -0.991353      -0.986209 -0.997370    -0.922523   \n",
       "2004-01-02 13:11:00  -0.989911      -0.985789 -0.995973    -0.914218   \n",
       "...                        ...            ...       ...          ...   \n",
       "2025-06-18 20:56:00   0.582507       0.182057  0.348747     0.119570   \n",
       "2025-06-18 20:57:00   0.641713       0.207647  0.391507     0.184714   \n",
       "2025-06-18 20:58:00   0.574130       0.230765  0.392142     0.238300   \n",
       "2025-06-18 20:59:00   0.695123       0.261866  0.692251     0.242399   \n",
       "2025-06-18 21:00:00   0.828554       0.300607  0.794598     0.233854   \n",
       "\n",
       "                         r_15       rsi  stoch_k_14     eng_ma         bid  \\\n",
       "2004-01-02 13:07:00 -0.009476 -2.476841   -1.552562  -0.001209    0.763698   \n",
       "2004-01-02 13:08:00 -0.017401 -2.476841   -1.552562  -0.001209    0.763681   \n",
       "2004-01-02 13:09:00 -0.025327 -2.476841   -1.552562  -0.001209    0.763664   \n",
       "2004-01-02 13:10:00 -0.033253 -2.476841   -1.552562  -0.001209    0.763647   \n",
       "2004-01-02 13:11:00 -0.041178 -2.476841   -1.552562  -0.001209    0.763631   \n",
       "...                       ...       ...         ...        ...         ...   \n",
       "2025-06-18 20:56:00  1.315228  0.811095    0.354296  12.115664  196.667400   \n",
       "2025-06-18 20:57:00  1.113128  0.539711    0.426843  12.401440  196.527500   \n",
       "2025-06-18 20:58:00  0.827243  0.530165    0.381683  12.401440  196.522500   \n",
       "2025-06-18 20:59:00 -0.093724 -0.151391   -0.182061   9.257911  196.092800   \n",
       "2025-06-18 21:00:00  0.661771  0.222017   -0.321780   8.514895  196.392600   \n",
       "\n",
       "                            ask    signal  \n",
       "2004-01-02 13:07:00    0.764840  0.014975  \n",
       "2004-01-02 13:08:00    0.764824  0.016217  \n",
       "2004-01-02 13:09:00    0.764807  0.017566  \n",
       "2004-01-02 13:10:00    0.764790  0.019028  \n",
       "2004-01-02 13:11:00    0.764773  0.020611  \n",
       "...                         ...       ...  \n",
       "2025-06-18 20:56:00  196.962600  0.305243  \n",
       "2025-06-18 20:57:00  196.822500  0.093820  \n",
       "2025-06-18 20:58:00  196.817500  0.000061  \n",
       "2025-06-18 20:59:00  196.387200  0.000076  \n",
       "2025-06-18 21:00:00  196.687400  0.000101  \n",
       "\n",
       "[3563215 rows x 11 columns]"
      ]
     },
     "execution_count": 3,
     "metadata": {},
     "output_type": "execute_result"
    }
   ],
   "source": [
    "if params.feat_sel == 'auto': # automatic feature selection, based on feature importance notebook\n",
    "    \n",
    "    df_feat_sel = pd.read_csv(params.feat_sel_auto_csv, index_col=0, parse_dates=True)\n",
    "    \n",
    "elif params.feat_sel == 'man': # alternative manual feature selection, based on the features selected in the params.py\n",
    "    \n",
    "    df_feat_sel = pd.read_csv(params.feat_all_csv, index_col=0, parse_dates=True)[params.features_cols_tick + ['bid','ask'] + [params.label_col]]\n",
    "    \n",
    "df_feat_sel"
   ]
  },
  {
   "cell_type": "code",
   "execution_count": 4,
   "id": "b805fa9c",
   "metadata": {},
   "outputs": [
    {
     "name": "stdout",
     "output_type": "stream",
     "text": [
      "Inside build_lstm_tensors, using: ['atr_ratio', 'atr_ratio_sma', 'vol_15', 'bb_width_20', 'r_15', 'rsi', 'stoch_k_14', 'eng_ma']\n"
     ]
    },
    {
     "data": {
      "application/vnd.jupyter.widget-view+json": {
       "model_id": "1546384d41784b3eb7118e16eb944b60",
       "version_major": 2,
       "version_minor": 0
      },
      "text/plain": [
       "Counting windows:   0%|          | 0/5400 [00:00<?, ?it/s]"
      ]
     },
     "metadata": {},
     "output_type": "display_data"
    },
    {
     "data": {
      "application/vnd.jupyter.widget-view+json": {
       "model_id": "d7a1593b8e2f4199ab35195cf56592de",
       "version_major": 2,
       "version_minor": 0
      },
      "text/plain": [
       "Writing memmaps:   0%|          | 0/5400 [00:00<?, ?it/s]"
      ]
     },
     "metadata": {},
     "output_type": "display_data"
    },
    {
     "name": "stdout",
     "output_type": "stream",
     "text": [
      "Shapes:\n",
      "  X         = torch.Size([2414427, 60, 8]) (samples, look_back, features)\n",
      "  y_sig     = torch.Size([2414427]) (samples,)\n",
      "  y_ret     = torch.Size([2414427]) (samples,)\n",
      "  raw_close = torch.Size([2414427])\n",
      "  raw_bid   = torch.Size([2414427])\n",
      "  raw_ask   = torch.Size([2414427])\n",
      "  end_times = (2414427,)\n"
     ]
    }
   ],
   "source": [
    "# Build LSTM input tensors (disk-backed memmaps)\n",
    "X, y_sig, y_ret, raw_close, raw_bid, raw_ask, end_times = models.build_lstm_tensors(\n",
    "    df            = df_feat_sel,\n",
    "    sess_start    = params.sess_start_pred_tick \n",
    ")\n",
    "\n",
    "# quick shapes\n",
    "print(\"Shapes:\")\n",
    "print(\"  X         =\", X.shape,    \"(samples, look_back, features)\")\n",
    "print(\"  y_sig     =\", y_sig.shape, \"(samples,)\")\n",
    "print(\"  y_ret     =\", y_ret.shape, \"(samples,)\")\n",
    "print(\"  raw_close =\", raw_close.shape)\n",
    "print(\"  raw_bid   =\", raw_bid.shape)\n",
    "print(\"  raw_ask   =\", raw_ask.shape)\n",
    "print(\"  end_times =\", end_times.shape)\n"
   ]
  },
  {
   "cell_type": "code",
   "execution_count": 5,
   "id": "7b4f1ac4",
   "metadata": {},
   "outputs": [
    {
     "name": "stdout",
     "output_type": "stream",
     "text": [
      "Shapes:\n",
      "  X_tr  = torch.Size([1696435, 60, 8])\n",
      "  y_sig_tr, y_ret_tr = torch.Size([1696435]) torch.Size([1696435])\n",
      "  X_val = torch.Size([353133, 60, 8])\n",
      "  y_sig_val, y_ret_val = torch.Size([353133]) torch.Size([353133])\n",
      "  X_te  = torch.Size([364859, 60, 8])\n",
      "  y_sig_te, y_ret_te = torch.Size([364859]) torch.Size([364859])\n"
     ]
    }
   ],
   "source": [
    "# Split into train/val/test by calendar day\n",
    "(\n",
    "(X_tr,  y_sig_tr,  y_ret_tr),\n",
    "(X_val, y_sig_val, y_ret_val),\n",
    "(X_te,  y_sig_te,  y_ret_te,  raw_close_te, raw_bid_te, raw_ask_te),\n",
    "samples_per_day,\n",
    "day_id_tr, day_id_val, day_id_te\n",
    ") = models.chronological_split(\n",
    "    X, y_sig, y_ret,\n",
    "    raw_close, raw_bid, raw_ask,\n",
    "    end_times   = end_times,\n",
    "    train_prop  = params.train_prop,\n",
    "    val_prop    = params.val_prop,\n",
    "    train_batch = params.hparams['TRAIN_BATCH']\n",
    ")\n",
    "\n",
    "# Print shapes of all tensors\n",
    "print(\"Shapes:\")\n",
    "print(\"  X_tr  =\", X_tr.shape)\n",
    "print(\"  y_sig_tr, y_ret_tr =\", y_sig_tr.shape, y_ret_tr.shape)\n",
    "print(\"  X_val =\", X_val.shape)\n",
    "print(\"  y_sig_val, y_ret_val =\", y_sig_val.shape, y_ret_val.shape)\n",
    "print(\"  X_te  =\", X_te.shape)\n",
    "print(\"  y_sig_te, y_ret_te =\", y_sig_te.shape, y_ret_te.shape)\n"
   ]
  },
  {
   "cell_type": "code",
   "execution_count": 6,
   "id": "1ad9b6c4-3d79-45c0-b2c0-c4f46f1ad866",
   "metadata": {},
   "outputs": [
    {
     "data": {
      "application/vnd.jupyter.widget-view+json": {
       "model_id": "501f10ffbd8d4acbb51e39a7d4a9f6ce",
       "version_major": 2,
       "version_minor": 0
      },
      "text/plain": [
       "Creating DayWindowDatasets:   0%|          | 0/3 [00:00<?, ?split/s]"
      ]
     },
     "metadata": {},
     "output_type": "display_data"
    },
    {
     "name": "stdout",
     "output_type": "stream",
     "text": [
      "Days  → train=3808, val=783, test=809\n",
      "Batches → train=119,   val=783,   test=809\n"
     ]
    }
   ],
   "source": [
    "# carve `end_times` into the same three splits:\n",
    "n_tr  = day_id_tr .shape[0] \n",
    "n_val = day_id_val.shape[0]\n",
    "i_tr  = n_tr\n",
    "i_val = n_tr + n_val\n",
    "\n",
    "end_times_tr  = end_times[:i_tr]\n",
    "end_times_val = end_times[i_tr:i_val]\n",
    "end_times_te  = end_times[i_val:]\n",
    "\n",
    "# -----------------------------------------------------------------------------\n",
    "#  Build DataLoaders over calendar‐days\n",
    "# -----------------------------------------------------------------------------\n",
    "train_loader, val_loader, test_loader = models.split_to_day_datasets(\n",
    "    # train split:   \n",
    "    X_tr,            y_sig_tr,     y_ret_tr,   end_times_tr,\n",
    "    # val split:\n",
    "    X_val,           y_sig_val,    y_ret_val,  end_times_val,\n",
    "    # test split + raw‐prices\n",
    "    X_te,            y_sig_te,     y_ret_te,   end_times_te,\n",
    "    raw_close_te, raw_bid_te, raw_ask_te,\n",
    "    \n",
    "    sess_start_time       = params.sess_start_pred_tick,\n",
    "    signal_thresh         = params.best_optuna_params[\"buy_threshold\"],\n",
    "    return_thresh         = 0.01,  # flat‐zone threshold for returns (to tune)\n",
    "    train_batch           = params.hparams[\"TRAIN_BATCH\"],\n",
    "    train_workers         = params.hparams[\"NUM_WORKERS\"],\n",
    "    train_prefetch_factor = params.hparams[\"TRAIN_PREFETCH_FACTOR\"]\n",
    ")\n",
    "\n",
    "print(f\"Days  → train={len(train_loader.dataset)}, val={len(val_loader.dataset)}, test={len(test_loader.dataset)}\")\n",
    "print(f\"Batches → train={len(train_loader)},   val={len(val_loader)},   test={len(test_loader)}\")"
   ]
  },
  {
   "cell_type": "code",
   "execution_count": 7,
   "id": "eeec031f-6c8f-455f-9c72-ae411e03ba34",
   "metadata": {},
   "outputs": [
    {
     "data": {
      "text/plain": [
       "DualMemoryLSTM(\n",
       "  (conv): Conv1d(8, 8, kernel_size=(3,), stride=(1,), padding=(1,))\n",
       "  (short_lstm): LSTM(8, 48, batch_first=True, bidirectional=True)\n",
       "  (attn): MultiheadAttention(\n",
       "    (out_proj): NonDynamicallyQuantizableLinear(in_features=96, out_features=96, bias=True)\n",
       "  )\n",
       "  (do_short): Dropout(p=0.2, inplace=False)\n",
       "  (ln_short): LayerNorm((96,), eps=1e-05, elementwise_affine=True)\n",
       "  (long_lstm): LSTM(96, 64, batch_first=True, bidirectional=True)\n",
       "  (do_long): Dropout(p=0.25, inplace=False)\n",
       "  (ln_long): LayerNorm((128,), eps=1e-05, elementwise_affine=True)\n",
       "  (pred): Linear(in_features=128, out_features=1, bias=True)\n",
       "  (cls_head): Linear(in_features=128, out_features=1, bias=True)\n",
       "  (cls_ter): Linear(in_features=128, out_features=3, bias=True)\n",
       ")"
      ]
     },
     "execution_count": 7,
     "metadata": {},
     "output_type": "execute_result"
    }
   ],
   "source": [
    "# -----------------------------------------------------------------------------\n",
    "# Instantiate the stateful DualMemoryLSTM & move to device\n",
    "# -----------------------------------------------------------------------------\n",
    "model = models.DualMemoryLSTM(\n",
    "    n_feats        = X.shape[-1],                          \n",
    "    short_units    = params.hparams['SHORT_UNITS'],    \n",
    "    long_units     = params.hparams['LONG_UNITS'],     \n",
    "    dropout_short  = params.hparams['DROPOUT_SHORT'],  \n",
    "    dropout_long   = params.hparams['DROPOUT_LONG'],   \n",
    "    att_heads      = params.hparams['ATT_HEADS'],\n",
    "    att_drop       = params.hparams['ATT_DROPOUT']\n",
    ")\n",
    "model.to(params.device)  \n",
    "\n",
    "model"
   ]
  },
  {
   "cell_type": "code",
   "execution_count": 8,
   "id": "5512a0dd-d2c8-418e-bfca-4580fb4be995",
   "metadata": {},
   "outputs": [
    {
     "data": {
      "text/plain": [
       "AdamW (\n",
       "Parameter Group 0\n",
       "    amsgrad: False\n",
       "    betas: (0.9, 0.999)\n",
       "    capturable: False\n",
       "    decoupled_weight_decay: True\n",
       "    differentiable: False\n",
       "    eps: 1e-08\n",
       "    foreach: None\n",
       "    fused: None\n",
       "    initial_lr: 0.0001\n",
       "    lr: 0.0001\n",
       "    maximize: False\n",
       "    weight_decay: 0.0001\n",
       ")"
      ]
     },
     "execution_count": 8,
     "metadata": {},
     "output_type": "execute_result"
    }
   ],
   "source": [
    "# # -----------------------------------------------------------------------------\n",
    "# # Compute plateau_sched timing parameters\n",
    "# # -----------------------------------------------------------------------------\n",
    "# # Total training samples = total windows in X_tr (one window per row)\n",
    "# n_train_samples = X_tr.shape[0]\n",
    "\n",
    "# # How many optimizer steps (day‐bundles) constitute one epoch?\n",
    "# steps_per_epoch = len(train_loader)\n",
    "\n",
    "\n",
    "# -----------------------------------------------------------------------------\n",
    "# Build optimizer, LR scheduler, AMP scaler, and gradient‐clip norm\n",
    "# -----------------------------------------------------------------------------\n",
    "optimizer, plateau_sched, cosine_sched, scaler, clipnorm = models.make_optimizer_and_scheduler(\n",
    "    model,\n",
    "    initial_lr        = params.hparams['INITIAL_LR'],       \n",
    "    weight_decay      = params.hparams['WEIGHT_DECAY'],     \n",
    "    clipnorm          = params.hparams['CLIPNORM']   \n",
    ")\n",
    "\n",
    "optimizer"
   ]
  },
  {
   "cell_type": "code",
   "execution_count": 9,
   "id": "e9c5fc27-f31d-4adc-a247-5468674f83fc",
   "metadata": {},
   "outputs": [
    {
     "name": "stdout",
     "output_type": "stream",
     "text": [
      "Zero‐forecast RMSE (predict 0): train = 0.418458,  val = 0.411622\n",
      "\n",
      "Train target stats:\n",
      "  mean = 0.2851,  var = 0.0938,  std = 0.3063\n",
      "Train mean‐predictor baseline:\n",
      "  RMSE_baseline = 0.306326\n",
      "  R²_baseline   = 0.00\n",
      "\n",
      "Validation target stats:\n",
      "  mean = 0.2855,  var = 0.0879,  std = 0.2965\n",
      "Validation mean‐predictor baseline:\n",
      "  RMSE_baseline = 0.296508\n",
      "  R²_baseline   = 0.00\n",
      "\n"
     ]
    }
   ],
   "source": [
    "# -----------------------------------------------------------------------------\n",
    "# Helper: extract the true “signal” values from any loader into a flat array\n",
    "# -----------------------------------------------------------------------------\n",
    "def extract_y(loader):\n",
    "    return np.concatenate([batch[1].cpu().numpy().ravel() for batch in loader])\n",
    "\n",
    "# Pull out train & validation targets\n",
    "y_train = extract_y(train_loader)\n",
    "y_val   = extract_y(val_loader)\n",
    "\n",
    "# -----------------------------------------------------------------------------\n",
    "# 1) Zero‐forecast baseline RMSE (predict 0 always)\n",
    "#    RMSE_zero = √(mean(y²))\n",
    "# -----------------------------------------------------------------------------\n",
    "rmse_zero_train = np.sqrt(np.mean(y_train**2))\n",
    "rmse_zero_val   = np.sqrt(np.mean(y_val**2))\n",
    "print(f\"Zero‐forecast RMSE (predict 0): train = {rmse_zero_train:.6f},  val = {rmse_zero_val:.6f}\\n\")\n",
    "\n",
    "# -----------------------------------------------------------------------------\n",
    "# 2) Compute mean, variance & std for train/validation targets\n",
    "#    and derive the mean‐predictor baseline (R² = 0)\n",
    "# -----------------------------------------------------------------------------\n",
    "for split, y in [(\"Train\", y_train), (\"Validation\", y_val)]:\n",
    "    mean_y    = y.mean()\n",
    "    std_y     = y.std(ddof=0)     # population std = √variance\n",
    "    var_y     = std_y**2\n",
    "    rmse_mean = std_y            # RMSE_baseline = std(target)\n",
    "\n",
    "    print(f\"{split} target stats:\")\n",
    "    print(f\"  mean = {mean_y:.4f},  var = {var_y:.4f},  std = {std_y:.4f}\")\n",
    "    print(f\"{split} mean‐predictor baseline:\")\n",
    "    print(f\"  RMSE_baseline = {rmse_mean:.6f}\")\n",
    "    print(\"  R²_baseline   = 0.00\\n\")\n",
    "\n",
    "    if split == \"Validation\":\n",
    "        rmse_mean_val = rmse_mean # used afterwards for the final reporting\n",
    "        \n"
   ]
  },
  {
   "cell_type": "code",
   "execution_count": 10,
   "id": "a8f7ec8c-5882-486b-bdfd-371b8db260f9",
   "metadata": {},
   "outputs": [
    {
     "data": {
      "image/png": "[encoded data removed]",
      "text/plain": [
       "<Figure size 640x480 with 1 Axes>"
      ]
     },
     "metadata": {},
     "output_type": "display_data"
    }
   ],
   "source": [
    "# Visualize the true‐signal distributions on train vs. validation\n",
    "plt.hist(y_train, bins=100, alpha=0.5, label=\"train true\")\n",
    "plt.hist(y_val,   bins=100, alpha=0.5, label=\"val true\")\n",
    "plt.xlabel(\"Signal value\")\n",
    "plt.ylabel(\"Count\")\n",
    "plt.title(\"True Signal Distribution: Train vs. Validation\")\n",
    "plt.legend()\n",
    "plt.tight_layout()\n",
    "plt.show()\n"
   ]
  },
  {
   "cell_type": "code",
   "execution_count": 11,
   "id": "7bf94780-a876-4bf4-ad27-6abc2da1fc0a",
   "metadata": {},
   "outputs": [
    {
     "name": "stdout",
     "output_type": "stream",
     "text": [
      "Training sees 3808 unique trading days per epoch.\n",
      "\n"
     ]
    },
    {
     "data": {
      "image/png": "[encoded data removed]",
      "text/plain": [
       "<Figure size 660x440 with 1 Axes>"
      ]
     },
     "metadata": {},
     "output_type": "display_data"
    },
    {
     "data": {
      "application/vnd.jupyter.widget-view+json": {
       "model_id": "eeaab4555d854300aa807f77a4f34777",
       "version_major": 2,
       "version_minor": 0
      },
      "text/plain": [
       "Epoch 1:   0%|          | 0/119 [00:00<?, ?batch/s]"
      ]
     },
     "metadata": {},
     "output_type": "display_data"
    },
    {
     "name": "stdout",
     "output_type": "stream",
     "text": [
      "Epoch 001\n",
      "TRAIN→ \"R\": RMSE=0.2923 MAE=0.2315 R2=0.0903 | \"B\": Acc=0.2462 Prec=0.2352 Rec=0.9865 F1=0.3799 AUROC=0.5451\n",
      "VALID→ \"R\": RMSE=0.2799 MAE=0.2162 R2=0.1092 | \"B\": Acc=0.2266 Prec=0.2248 Rec=0.9842 F1=0.3661 AUROC=0.5006\n"
     ]
    },
    {
     "data": {
      "application/vnd.jupyter.widget-view+json": {
       "model_id": "6687fccd84cb452bb346cb9974efecb2",
       "version_major": 2,
       "version_minor": 0
      },
      "text/plain": [
       "Epoch 2:   0%|          | 0/119 [00:00<?, ?batch/s]"
      ]
     },
     "metadata": {},
     "output_type": "display_data"
    },
    {
     "name": "stdout",
     "output_type": "stream",
     "text": [
      "Epoch 002\n",
      "TRAIN→ \"R\": RMSE=0.2877 MAE=0.2289 R2=0.1189 | \"B\": Acc=0.2523 Prec=0.2366 Rec=0.9854 F1=0.3815 AUROC=0.5840\n",
      "VALID→ \"R\": RMSE=0.2785 MAE=0.2157 R2=0.1175 | \"B\": Acc=0.2273 Prec=0.2262 Rec=0.9939 F1=0.3685 AUROC=0.5357\n"
     ]
    },
    {
     "data": {
      "application/vnd.jupyter.widget-view+json": {
       "model_id": "e42acfd61b514f93baa96431490855e5",
       "version_major": 2,
       "version_minor": 0
      },
      "text/plain": [
       "Epoch 3:   0%|          | 0/119 [00:00<?, ?batch/s]"
      ]
     },
     "metadata": {},
     "output_type": "display_data"
    },
    {
     "name": "stdout",
     "output_type": "stream",
     "text": [
      "Epoch 003\n",
      "TRAIN→ \"R\": RMSE=0.2860 MAE=0.2274 R2=0.1291 | \"B\": Acc=0.2526 Prec=0.2368 Rec=0.9867 F1=0.3820 AUROC=0.5916\n",
      "VALID→ \"R\": RMSE=0.2782 MAE=0.2158 R2=0.1198 | \"B\": Acc=0.2275 Prec=0.2269 Rec=0.9990 F1=0.3698 AUROC=0.5418\n"
     ]
    },
    {
     "data": {
      "application/vnd.jupyter.widget-view+json": {
       "model_id": "f8cc7b535b0c4512851b002151fdd874",
       "version_major": 2,
       "version_minor": 0
      },
      "text/plain": [
       "Epoch 4:   0%|          | 0/119 [00:00<?, ?batch/s]"
      ]
     },
     "metadata": {},
     "output_type": "display_data"
    },
    {
     "name": "stdout",
     "output_type": "stream",
     "text": [
      "Epoch 004\n",
      "TRAIN→ \"R\": RMSE=0.2849 MAE=0.2262 R2=0.1360 | \"B\": Acc=0.2544 Prec=0.2371 Rec=0.9853 F1=0.3822 AUROC=0.5943\n",
      "VALID→ \"R\": RMSE=0.2772 MAE=0.2156 R2=0.1259 | \"B\": Acc=0.2276 Prec=0.2270 Rec=0.9998 F1=0.3700 AUROC=0.5501\n"
     ]
    },
    {
     "data": {
      "application/vnd.jupyter.widget-view+json": {
       "model_id": "9291f31e99984567af4391c4b9f0a2bd",
       "version_major": 2,
       "version_minor": 0
      },
      "text/plain": [
       "Epoch 5:   0%|          | 0/119 [00:00<?, ?batch/s]"
      ]
     },
     "metadata": {},
     "output_type": "display_data"
    },
    {
     "name": "stdout",
     "output_type": "stream",
     "text": [
      "Epoch 005\n",
      "TRAIN→ \"R\": RMSE=0.2840 MAE=0.2254 R2=0.1412 | \"B\": Acc=0.2563 Prec=0.2375 Rec=0.9848 F1=0.3826 AUROC=0.5917\n",
      "VALID→ \"R\": RMSE=0.2765 MAE=0.2150 R2=0.1306 | \"B\": Acc=0.2277 Prec=0.2270 Rec=0.9999 F1=0.3701 AUROC=0.5516\n"
     ]
    },
    {
     "data": {
      "application/vnd.jupyter.widget-view+json": {
       "model_id": "d9e8c0b38400487d84a28f0bedb15c02",
       "version_major": 2,
       "version_minor": 0
      },
      "text/plain": [
       "Epoch 6:   0%|          | 0/119 [00:00<?, ?batch/s]"
      ]
     },
     "metadata": {},
     "output_type": "display_data"
    },
    {
     "name": "stdout",
     "output_type": "stream",
     "text": [
      "Epoch 006\n",
      "TRAIN→ \"R\": RMSE=0.2834 MAE=0.2247 R2=0.1449 | \"B\": Acc=0.2585 Prec=0.2378 Rec=0.9832 F1=0.3830 AUROC=0.5943\n",
      "VALID→ \"R\": RMSE=0.2760 MAE=0.2145 R2=0.1334 | \"B\": Acc=0.2277 Prec=0.2270 Rec=0.9998 F1=0.3700 AUROC=0.5626\n"
     ]
    },
    {
     "data": {
      "application/vnd.jupyter.widget-view+json": {
       "model_id": "5126d29c502b49d0b1d19fe0be342252",
       "version_major": 2,
       "version_minor": 0
      },
      "text/plain": [
       "Epoch 7:   0%|          | 0/119 [00:00<?, ?batch/s]"
      ]
     },
     "metadata": {},
     "output_type": "display_data"
    },
    {
     "name": "stdout",
     "output_type": "stream",
     "text": [
      "Epoch 007\n",
      "TRAIN→ \"R\": RMSE=0.2829 MAE=0.2242 R2=0.1480 | \"B\": Acc=0.2610 Prec=0.2382 Rec=0.9816 F1=0.3834 AUROC=0.5962\n",
      "VALID→ \"R\": RMSE=0.2757 MAE=0.2141 R2=0.1356 | \"B\": Acc=0.2276 Prec=0.2268 Rec=0.9978 F1=0.3695 AUROC=0.5739\n"
     ]
    },
    {
     "data": {
      "application/vnd.jupyter.widget-view+json": {
       "model_id": "cc11f1d54d7046c184698cb3e305b8f4",
       "version_major": 2,
       "version_minor": 0
      },
      "text/plain": [
       "Epoch 8:   0%|          | 0/119 [00:00<?, ?batch/s]"
      ]
     },
     "metadata": {},
     "output_type": "display_data"
    },
    {
     "name": "stdout",
     "output_type": "stream",
     "text": [
      "Epoch 008\n",
      "TRAIN→ \"R\": RMSE=0.2825 MAE=0.2238 R2=0.1504 | \"B\": Acc=0.2647 Prec=0.2387 Rec=0.9785 F1=0.3838 AUROC=0.5980\n",
      "VALID→ \"R\": RMSE=0.2755 MAE=0.2139 R2=0.1364 | \"B\": Acc=0.2275 Prec=0.2264 Rec=0.9954 F1=0.3689 AUROC=0.5779\n"
     ]
    },
    {
     "data": {
      "application/vnd.jupyter.widget-view+json": {
       "model_id": "bdf1c6570f6e4f9bba77a2ffd07dbd34",
       "version_major": 2,
       "version_minor": 0
      },
      "text/plain": [
       "Epoch 9:   0%|          | 0/119 [00:00<?, ?batch/s]"
      ]
     },
     "metadata": {},
     "output_type": "display_data"
    },
    {
     "name": "stdout",
     "output_type": "stream",
     "text": [
      "Epoch 009\n",
      "TRAIN→ \"R\": RMSE=0.2821 MAE=0.2234 R2=0.1524 | \"B\": Acc=0.2703 Prec=0.2398 Rec=0.9760 F1=0.3850 AUROC=0.6044\n",
      "VALID→ \"R\": RMSE=0.2753 MAE=0.2136 R2=0.1381 | \"B\": Acc=0.2274 Prec=0.2261 Rec=0.9930 F1=0.3684 AUROC=0.5843\n"
     ]
    },
    {
     "data": {
      "application/vnd.jupyter.widget-view+json": {
       "model_id": "23d2232dd68c49e499e03745021a9e13",
       "version_major": 2,
       "version_minor": 0
      },
      "text/plain": [
       "Epoch 10:   0%|          | 0/119 [00:00<?, ?batch/s]"
      ]
     },
     "metadata": {},
     "output_type": "display_data"
    },
    {
     "name": "stdout",
     "output_type": "stream",
     "text": [
      "Epoch 010\n",
      "TRAIN→ \"R\": RMSE=0.2819 MAE=0.2232 R2=0.1538 | \"B\": Acc=0.2702 Prec=0.2397 Rec=0.9753 F1=0.3848 AUROC=0.6022\n",
      "VALID→ \"R\": RMSE=0.2751 MAE=0.2132 R2=0.1394 | \"B\": Acc=0.2274 Prec=0.2260 Rec=0.9920 F1=0.3681 AUROC=0.5903\n"
     ]
    },
    {
     "data": {
      "application/vnd.jupyter.widget-view+json": {
       "model_id": "bcdd946e21c34fa6a9b0f85a828289ba",
       "version_major": 2,
       "version_minor": 0
      },
      "text/plain": [
       "Epoch 11:   0%|          | 0/119 [00:00<?, ?batch/s]"
      ]
     },
     "metadata": {},
     "output_type": "display_data"
    },
    {
     "name": "stdout",
     "output_type": "stream",
     "text": [
      "Epoch 011\n",
      "TRAIN→ \"R\": RMSE=0.2817 MAE=0.2230 R2=0.1549 | \"B\": Acc=0.2744 Prec=0.2405 Rec=0.9730 F1=0.3857 AUROC=0.6075\n",
      "VALID→ \"R\": RMSE=0.2748 MAE=0.2129 R2=0.1410 | \"B\": Acc=0.2273 Prec=0.2257 Rec=0.9900 F1=0.3676 AUROC=0.5907\n"
     ]
    },
    {
     "data": {
      "application/vnd.jupyter.widget-view+json": {
       "model_id": "d8be324beb51491e8186191827e592a4",
       "version_major": 2,
       "version_minor": 0
      },
      "text/plain": [
       "Epoch 12:   0%|          | 0/119 [00:00<?, ?batch/s]"
      ]
     },
     "metadata": {},
     "output_type": "display_data"
    },
    {
     "name": "stdout",
     "output_type": "stream",
     "text": [
      "Epoch 012\n",
      "TRAIN→ \"R\": RMSE=0.2815 MAE=0.2229 R2=0.1563 | \"B\": Acc=0.2799 Prec=0.2415 Rec=0.9701 F1=0.3867 AUROC=0.6125\n",
      "VALID→ \"R\": RMSE=0.2747 MAE=0.2129 R2=0.1414 | \"B\": Acc=0.2273 Prec=0.2255 Rec=0.9886 F1=0.3673 AUROC=0.5924\n"
     ]
    },
    {
     "data": {
      "application/vnd.jupyter.widget-view+json": {
       "model_id": "757ac3b67af44d7bb5f544342a2fa1d3",
       "version_major": 2,
       "version_minor": 0
      },
      "text/plain": [
       "Epoch 13:   0%|          | 0/119 [00:00<?, ?batch/s]"
      ]
     },
     "metadata": {},
     "output_type": "display_data"
    },
    {
     "name": "stdout",
     "output_type": "stream",
     "text": [
      "Epoch 013\n",
      "TRAIN→ \"R\": RMSE=0.2813 MAE=0.2228 R2=0.1571 | \"B\": Acc=0.2792 Prec=0.2413 Rec=0.9698 F1=0.3865 AUROC=0.6113\n",
      "VALID→ \"R\": RMSE=0.2746 MAE=0.2126 R2=0.1421 | \"B\": Acc=0.2273 Prec=0.2254 Rec=0.9875 F1=0.3670 AUROC=0.5958\n"
     ]
    },
    {
     "data": {
      "application/vnd.jupyter.widget-view+json": {
       "model_id": "63985bc21e824228a1bc9855b97bcb5f",
       "version_major": 2,
       "version_minor": 0
      },
      "text/plain": [
       "Epoch 14:   0%|          | 0/119 [00:00<?, ?batch/s]"
      ]
     },
     "metadata": {},
     "output_type": "display_data"
    },
    {
     "name": "stdout",
     "output_type": "stream",
     "text": [
      "Epoch 014\n",
      "TRAIN→ \"R\": RMSE=0.2812 MAE=0.2226 R2=0.1580 | \"B\": Acc=0.2851 Prec=0.2425 Rec=0.9673 F1=0.3878 AUROC=0.6149\n",
      "VALID→ \"R\": RMSE=0.2744 MAE=0.2124 R2=0.1435 | \"B\": Acc=0.2272 Prec=0.2252 Rec=0.9857 F1=0.3666 AUROC=0.5971\n"
     ]
    },
    {
     "data": {
      "application/vnd.jupyter.widget-view+json": {
       "model_id": "d2d6d2b2392d4d66a8e7b15946bfb336",
       "version_major": 2,
       "version_minor": 0
      },
      "text/plain": [
       "Epoch 15:   0%|          | 0/119 [00:00<?, ?batch/s]"
      ]
     },
     "metadata": {},
     "output_type": "display_data"
    },
    {
     "name": "stdout",
     "output_type": "stream",
     "text": [
      "Epoch 015\n",
      "TRAIN→ \"R\": RMSE=0.2811 MAE=0.2225 R2=0.1587 | \"B\": Acc=0.2914 Prec=0.2435 Rec=0.9624 F1=0.3887 AUROC=0.6173\n",
      "VALID→ \"R\": RMSE=0.2743 MAE=0.2122 R2=0.1440 | \"B\": Acc=0.2274 Prec=0.2249 Rec=0.9834 F1=0.3661 AUROC=0.5966\n"
     ]
    },
    {
     "data": {
      "application/vnd.jupyter.widget-view+json": {
       "model_id": "74fb0cfbda994e769a32b05df0de762e",
       "version_major": 2,
       "version_minor": 0
      },
      "text/plain": [
       "Epoch 16:   0%|          | 0/119 [00:00<?, ?batch/s]"
      ]
     },
     "metadata": {},
     "output_type": "display_data"
    },
    {
     "name": "stdout",
     "output_type": "stream",
     "text": [
      "Epoch 016\n",
      "TRAIN→ \"R\": RMSE=0.2810 MAE=0.2224 R2=0.1595 | \"B\": Acc=0.2926 Prec=0.2435 Rec=0.9600 F1=0.3885 AUROC=0.6168\n",
      "VALID→ \"R\": RMSE=0.2743 MAE=0.2122 R2=0.1442 | \"B\": Acc=0.2273 Prec=0.2246 Rec=0.9814 F1=0.3656 AUROC=0.5909\n"
     ]
    },
    {
     "data": {
      "application/vnd.jupyter.widget-view+json": {
       "model_id": "34ce66a1e0f84d12b0d1150a921be942",
       "version_major": 2,
       "version_minor": 0
      },
      "text/plain": [
       "Epoch 17:   0%|          | 0/119 [00:00<?, ?batch/s]"
      ]
     },
     "metadata": {},
     "output_type": "display_data"
    },
    {
     "name": "stdout",
     "output_type": "stream",
     "text": [
      "Epoch 017\n",
      "TRAIN→ \"R\": RMSE=0.2808 MAE=0.2222 R2=0.1602 | \"B\": Acc=0.2937 Prec=0.2438 Rec=0.9601 F1=0.3889 AUROC=0.6188\n",
      "VALID→ \"R\": RMSE=0.2741 MAE=0.2121 R2=0.1452 | \"B\": Acc=0.2276 Prec=0.2243 Rec=0.9783 F1=0.3649 AUROC=0.5897\n"
     ]
    },
    {
     "data": {
      "application/vnd.jupyter.widget-view+json": {
       "model_id": "7242f51361c941f5a4f3a5d836e477f2",
       "version_major": 2,
       "version_minor": 0
      },
      "text/plain": [
       "Epoch 18:   0%|          | 0/119 [00:00<?, ?batch/s]"
      ]
     },
     "metadata": {},
     "output_type": "display_data"
    },
    {
     "name": "stdout",
     "output_type": "stream",
     "text": [
      "Epoch 018\n",
      "TRAIN→ \"R\": RMSE=0.2807 MAE=0.2221 R2=0.1608 | \"B\": Acc=0.2995 Prec=0.2450 Rec=0.9574 F1=0.3902 AUROC=0.6216\n",
      "VALID→ \"R\": RMSE=0.2739 MAE=0.2118 R2=0.1466 | \"B\": Acc=0.2280 Prec=0.2241 Rec=0.9761 F1=0.3646 AUROC=0.5908\n"
     ]
    },
    {
     "data": {
      "application/vnd.jupyter.widget-view+json": {
       "model_id": "95aee06531e94658989cd075b7201c0e",
       "version_major": 2,
       "version_minor": 0
      },
      "text/plain": [
       "Epoch 19:   0%|          | 0/119 [00:00<?, ?batch/s]"
      ]
     },
     "metadata": {},
     "output_type": "display_data"
    },
    {
     "name": "stdout",
     "output_type": "stream",
     "text": [
      "Epoch 019\n",
      "TRAIN→ \"R\": RMSE=0.2806 MAE=0.2220 R2=0.1615 | \"B\": Acc=0.3005 Prec=0.2450 Rec=0.9556 F1=0.3901 AUROC=0.6193\n",
      "VALID→ \"R\": RMSE=0.2738 MAE=0.2115 R2=0.1471 | \"B\": Acc=0.2274 Prec=0.2236 Rec=0.9727 F1=0.3636 AUROC=0.5830\n"
     ]
    },
    {
     "data": {
      "application/vnd.jupyter.widget-view+json": {
       "model_id": "add9e523632a4aa99309f34e2d055f4d",
       "version_major": 2,
       "version_minor": 0
      },
      "text/plain": [
       "Epoch 20:   0%|          | 0/119 [00:00<?, ?batch/s]"
      ]
     },
     "metadata": {},
     "output_type": "display_data"
    },
    {
     "name": "stdout",
     "output_type": "stream",
     "text": [
      "Epoch 020\n",
      "TRAIN→ \"R\": RMSE=0.2806 MAE=0.2219 R2=0.1618 | \"B\": Acc=0.2981 Prec=0.2443 Rec=0.9551 F1=0.3891 AUROC=0.6159\n",
      "VALID→ \"R\": RMSE=0.2736 MAE=0.2112 R2=0.1485 | \"B\": Acc=0.2284 Prec=0.2230 Rec=0.9661 F1=0.3623 AUROC=0.5805\n"
     ]
    },
    {
     "data": {
      "application/vnd.jupyter.widget-view+json": {
       "model_id": "d83457ac36d44bec9696c82efab3c32d",
       "version_major": 2,
       "version_minor": 0
      },
      "text/plain": [
       "Epoch 21:   0%|          | 0/119 [00:00<?, ?batch/s]"
      ]
     },
     "metadata": {},
     "output_type": "display_data"
    },
    {
     "name": "stdout",
     "output_type": "stream",
     "text": [
      "Epoch 021\n",
      "TRAIN→ \"R\": RMSE=0.2805 MAE=0.2217 R2=0.1624 | \"B\": Acc=0.3088 Prec=0.2464 Rec=0.9487 F1=0.3911 AUROC=0.6187\n",
      "VALID→ \"R\": RMSE=0.2737 MAE=0.2110 R2=0.1481 | \"B\": Acc=0.2313 Prec=0.2235 Rec=0.9654 F1=0.3630 AUROC=0.5836\n"
     ]
    },
    {
     "data": {
      "application/vnd.jupyter.widget-view+json": {
       "model_id": "8c2bc103c3654411a90d136b87fa8dbb",
       "version_major": 2,
       "version_minor": 0
      },
      "text/plain": [
       "Epoch 22:   0%|          | 0/119 [00:00<?, ?batch/s]"
      ]
     },
     "metadata": {},
     "output_type": "display_data"
    },
    {
     "name": "stdout",
     "output_type": "stream",
     "text": [
      "Epoch 022\n",
      "TRAIN→ \"R\": RMSE=0.2804 MAE=0.2216 R2=0.1630 | \"B\": Acc=0.3129 Prec=0.2470 Rec=0.9447 F1=0.3916 AUROC=0.6187\n",
      "VALID→ \"R\": RMSE=0.2736 MAE=0.2109 R2=0.1488 | \"B\": Acc=0.2318 Prec=0.2228 Rec=0.9591 F1=0.3616 AUROC=0.5751\n"
     ]
    },
    {
     "data": {
      "application/vnd.jupyter.widget-view+json": {
       "model_id": "a236f4a16d4f4172a0c573864713a4c7",
       "version_major": 2,
       "version_minor": 0
      },
      "text/plain": [
       "Epoch 23:   0%|          | 0/119 [00:00<?, ?batch/s]"
      ]
     },
     "metadata": {},
     "output_type": "display_data"
    },
    {
     "name": "stdout",
     "output_type": "stream",
     "text": [
      "Epoch 023\n",
      "TRAIN→ \"R\": RMSE=0.2803 MAE=0.2216 R2=0.1634 | \"B\": Acc=0.3117 Prec=0.2468 Rec=0.9460 F1=0.3915 AUROC=0.6178\n",
      "VALID→ \"R\": RMSE=0.2735 MAE=0.2107 R2=0.1490 | \"B\": Acc=0.2307 Prec=0.2232 Rec=0.9640 F1=0.3625 AUROC=0.5800\n"
     ]
    },
    {
     "data": {
      "application/vnd.jupyter.widget-view+json": {
       "model_id": "d91e1569430e43dab7aea89781bd0d47",
       "version_major": 2,
       "version_minor": 0
      },
      "text/plain": [
       "Epoch 24:   0%|          | 0/119 [00:00<?, ?batch/s]"
      ]
     },
     "metadata": {},
     "output_type": "display_data"
    },
    {
     "name": "stdout",
     "output_type": "stream",
     "text": [
      "Epoch 024\n",
      "TRAIN→ \"R\": RMSE=0.2802 MAE=0.2215 R2=0.1638 | \"B\": Acc=0.3089 Prec=0.2462 Rec=0.9471 F1=0.3908 AUROC=0.6160\n",
      "VALID→ \"R\": RMSE=0.2736 MAE=0.2106 R2=0.1483 | \"B\": Acc=0.2309 Prec=0.2225 Rec=0.9583 F1=0.3612 AUROC=0.5699\n"
     ]
    },
    {
     "data": {
      "application/vnd.jupyter.widget-view+json": {
       "model_id": "7a738edd84bc4bb2aeeaeb77548101f2",
       "version_major": 2,
       "version_minor": 0
      },
      "text/plain": [
       "Epoch 25:   0%|          | 0/119 [00:00<?, ?batch/s]"
      ]
     },
     "metadata": {},
     "output_type": "display_data"
    },
    {
     "name": "stdout",
     "output_type": "stream",
     "text": [
      "Epoch 025\n",
      "TRAIN→ \"R\": RMSE=0.2802 MAE=0.2214 R2=0.1641 | \"B\": Acc=0.3073 Prec=0.2456 Rec=0.9456 F1=0.3899 AUROC=0.6124\n",
      "VALID→ \"R\": RMSE=0.2735 MAE=0.2105 R2=0.1490 | \"B\": Acc=0.2311 Prec=0.2217 Rec=0.9516 F1=0.3596 AUROC=0.5636\n"
     ]
    },
    {
     "data": {
      "application/vnd.jupyter.widget-view+json": {
       "model_id": "501b17d961ec4b66a24bcd56f910b834",
       "version_major": 2,
       "version_minor": 0
      },
      "text/plain": [
       "Epoch 26:   0%|          | 0/119 [00:00<?, ?batch/s]"
      ]
     },
     "metadata": {},
     "output_type": "display_data"
    },
    {
     "name": "stdout",
     "output_type": "stream",
     "text": [
      "Epoch 026\n",
      "TRAIN→ \"R\": RMSE=0.2801 MAE=0.2214 R2=0.1647 | \"B\": Acc=0.3099 Prec=0.2458 Rec=0.9422 F1=0.3899 AUROC=0.6108\n",
      "VALID→ \"R\": RMSE=0.2736 MAE=0.2102 R2=0.1486 | \"B\": Acc=0.2320 Prec=0.2206 Rec=0.9413 F1=0.3574 AUROC=0.5549\n"
     ]
    },
    {
     "data": {
      "application/vnd.jupyter.widget-view+json": {
       "model_id": "1bf736da0bda4aab821fef5698ab6a7c",
       "version_major": 2,
       "version_minor": 0
      },
      "text/plain": [
       "Epoch 27:   0%|          | 0/119 [00:00<?, ?batch/s]"
      ]
     },
     "metadata": {},
     "output_type": "display_data"
    },
    {
     "name": "stdout",
     "output_type": "stream",
     "text": [
      "Epoch 027\n",
      "TRAIN→ \"R\": RMSE=0.2800 MAE=0.2213 R2=0.1651 | \"B\": Acc=0.3012 Prec=0.2442 Rec=0.9476 F1=0.3883 AUROC=0.6053\n",
      "VALID→ \"R\": RMSE=0.2736 MAE=0.2102 R2=0.1485 | \"B\": Acc=0.2309 Prec=0.2202 Rec=0.9403 F1=0.3568 AUROC=0.5499\n"
     ]
    },
    {
     "data": {
      "application/vnd.jupyter.widget-view+json": {
       "model_id": "f7ec98cd4f0440edbe77a6b60bf05b2a",
       "version_major": 2,
       "version_minor": 0
      },
      "text/plain": [
       "Epoch 28:   0%|          | 0/119 [00:00<?, ?batch/s]"
      ]
     },
     "metadata": {},
     "output_type": "display_data"
    },
    {
     "name": "stdout",
     "output_type": "stream",
     "text": [
      "Epoch 028\n",
      "TRAIN→ \"R\": RMSE=0.2799 MAE=0.2212 R2=0.1657 | \"B\": Acc=0.3058 Prec=0.2449 Rec=0.9435 F1=0.3888 AUROC=0.6053\n",
      "VALID→ \"R\": RMSE=0.2735 MAE=0.2101 R2=0.1490 | \"B\": Acc=0.2333 Prec=0.2193 Rec=0.9292 F1=0.3548 AUROC=0.5489\n"
     ]
    },
    {
     "data": {
      "application/vnd.jupyter.widget-view+json": {
       "model_id": "a8c8e32e40ea447da8b2013b8804f0cf",
       "version_major": 2,
       "version_minor": 0
      },
      "text/plain": [
       "Epoch 29:   0%|          | 0/119 [00:00<?, ?batch/s]"
      ]
     },
     "metadata": {},
     "output_type": "display_data"
    },
    {
     "name": "stdout",
     "output_type": "stream",
     "text": [
      "Epoch 029\n",
      "TRAIN→ \"R\": RMSE=0.2798 MAE=0.2211 R2=0.1662 | \"B\": Acc=0.3080 Prec=0.2453 Rec=0.9422 F1=0.3893 AUROC=0.6058\n",
      "VALID→ \"R\": RMSE=0.2736 MAE=0.2097 R2=0.1485 | \"B\": Acc=0.2339 Prec=0.2195 Rec=0.9298 F1=0.3551 AUROC=0.5492\n"
     ]
    },
    {
     "data": {
      "application/vnd.jupyter.widget-view+json": {
       "model_id": "61db0dc7d33848de9d3e1640037e7b61",
       "version_major": 2,
       "version_minor": 0
      },
      "text/plain": [
       "Epoch 30:   0%|          | 0/119 [00:00<?, ?batch/s]"
      ]
     },
     "metadata": {},
     "output_type": "display_data"
    },
    {
     "name": "stdout",
     "output_type": "stream",
     "text": [
      "Epoch 030\n",
      "TRAIN→ \"R\": RMSE=0.2798 MAE=0.2211 R2=0.1663 | \"B\": Acc=0.3084 Prec=0.2451 Rec=0.9398 F1=0.3888 AUROC=0.6048\n",
      "VALID→ \"R\": RMSE=0.2736 MAE=0.2097 R2=0.1486 | \"B\": Acc=0.2326 Prec=0.2187 Rec=0.9265 F1=0.3539 AUROC=0.5439\n"
     ]
    },
    {
     "data": {
      "application/vnd.jupyter.widget-view+json": {
       "model_id": "cedd81290653420e8a278f9df9dc2705",
       "version_major": 2,
       "version_minor": 0
      },
      "text/plain": [
       "Epoch 31:   0%|          | 0/119 [00:00<?, ?batch/s]"
      ]
     },
     "metadata": {},
     "output_type": "display_data"
    },
    {
     "name": "stdout",
     "output_type": "stream",
     "text": [
      "Epoch 031\n",
      "TRAIN→ \"R\": RMSE=0.2797 MAE=0.2210 R2=0.1667 | \"B\": Acc=0.3079 Prec=0.2450 Rec=0.9401 F1=0.3887 AUROC=0.6043\n",
      "VALID→ \"R\": RMSE=0.2738 MAE=0.2096 R2=0.1474 | \"B\": Acc=0.2335 Prec=0.2189 Rec=0.9260 F1=0.3541 AUROC=0.5467\n",
      "Early stopping at epoch 31\n",
      "\n",
      "Champion validation RMSE = 0.273524\n",
      "Improvement over zero‐baseline =  33.5%\n",
      "Improvement over mean‐baseline =   7.8%\n"
     ]
    },
    {
     "data": {
      "image/png": "[encoded data removed]",
      "text/plain": [
       "<Figure size 660x440 with 1 Axes>"
      ]
     },
     "metadata": {},
     "output_type": "display_data"
    }
   ],
   "source": [
    "# How many unique trading days does each epoch see?\n",
    "n_days = len(train_loader.dataset)\n",
    "print(f\"Training sees {n_days} unique trading days per epoch.\\n\")\n",
    "\n",
    "# -----------------------------------------------------------------------------\n",
    "# Run the custom stateful training loop\n",
    "# -----------------------------------------------------------------------------\n",
    "best_val_rmse  = models.custom_stateful_training_loop(\n",
    "    model               = model,\n",
    "    optimizer           = optimizer,\n",
    "    cosine_sched        = cosine_sched,\n",
    "    plateau_sched       = plateau_sched,\n",
    "    scaler              = scaler,\n",
    "    train_loader        = train_loader,\n",
    "    val_loader          = val_loader,\n",
    "    max_epochs          = params.hparams['MAX_EPOCHS'],\n",
    "    early_stop_patience = params.hparams['EARLY_STOP_PATIENCE'],\n",
    "    clipnorm            = clipnorm,\n",
    "    device              = params.device\n",
    ")\n",
    "\n",
    "# -----------------------------------------------------------------------------\n",
    "# Final reporting: best RMSE and relative improvement\n",
    "# -----------------------------------------------------------------------------\n",
    "print(f\"\\nChampion validation RMSE = {best_val_rmse:.6f}\")\n",
    "\n",
    "improvement_zero = 100.0 * (1.0 - best_val_rmse / rmse_zero_val)\n",
    "print(f\"Improvement over zero‐baseline = {improvement_zero:5.1f}%\")\n",
    "\n",
    "improvement_mean = 100.0 * (1.0 - best_val_rmse / rmse_mean_val)\n",
    "print(f\"Improvement over mean‐baseline = {improvement_mean:5.1f}%\")\n",
    "\n"
   ]
  },
  {
   "cell_type": "code",
   "execution_count": null,
   "id": "22b25c89-05c3-4a16-b013-97143f173e08",
   "metadata": {},
   "outputs": [],
   "source": []
  }
 ],
 "metadata": {
  "kernelspec": {
   "display_name": "Python 3 (ipykernel)",
   "language": "python",
   "name": "python3"
  },
  "language_info": {
   "codemirror_mode": {
    "name": "ipython",
    "version": 3
   },
   "file_extension": ".py",
   "mimetype": "text/x-python",
   "name": "python",
   "nbconvert_exporter": "python",
   "pygments_lexer": "ipython3",
   "version": "3.12.3"
  }
 },
 "nbformat": 4,
 "nbformat_minor": 5
}
