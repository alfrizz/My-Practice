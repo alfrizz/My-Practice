{
 "cells": [
  {
   "cell_type": "code",
   "execution_count": 1,
   "id": "fed6c184-8438-497e-8ae7-82cc35ac4819",
   "metadata": {},
   "outputs": [
    {
     "data": {
      "text/plain": [
       "<module 'libs.models_core' from '/workspace/my_models/Trading/_Stock_Analysis_/libs/models_core.py'>"
      ]
     },
     "execution_count": 1,
     "metadata": {},
     "output_type": "execute_result"
    }
   ],
   "source": [
    "%matplotlib inline\n",
    "\n",
    "\n",
    "# 1) Wipe out your namespace\n",
    "%reset -f\n",
    "\n",
    "# 2) Clear Jupyter’s stored outputs (and inputs if you like)\n",
    "try:\n",
    "    Out.clear()\n",
    "except NameError:\n",
    "    pass\n",
    "\n",
    "try:\n",
    "    In.clear()\n",
    "except NameError:\n",
    "    pass\n",
    "\n",
    "# 3) Force Python GC\n",
    "import gc\n",
    "gc.collect()\n",
    "\n",
    "# 4) Free any GPU buffers\n",
    "import torch\n",
    "if torch.cuda.is_available():\n",
    "    torch.cuda.empty_cache()\n",
    "\n",
    "\n",
    "import importlib\n",
    "from libs import params, trades, feats, plots, models_core\n",
    "importlib.reload(params)\n",
    "importlib.reload(trades)\n",
    "importlib.reload(feats)\n",
    "importlib.reload(plots)\n",
    "importlib.reload(models_core)"
   ]
  },
  {
   "cell_type": "code",
   "execution_count": 2,
   "id": "4c868158-e6bb-4d56-bbdd-8e8103f0b9e4",
   "metadata": {},
   "outputs": [],
   "source": [
    "import pandas as pd\n",
    "pd.set_option('display.max_columns', None)\n",
    "\n",
    "import numpy  as np\n",
    "import math\n",
    "import matplotlib.pyplot as plt\n",
    "\n",
    "import datetime as dt\n",
    "import os\n",
    "from typing import Sequence, List, Tuple, Optional, Union\n",
    "\n",
    "import torch.nn as nn\n",
    "import torch.nn.functional as Funct\n",
    "from torch_lr_finder import LRFinder\n",
    "from torch.utils.data import DataLoader, TensorDataset\n",
    "\n",
    "from tqdm import tqdm"
   ]
  },
  {
   "cell_type": "code",
   "execution_count": 3,
   "id": "7b98406a",
   "metadata": {},
   "outputs": [
    {
     "data": {
      "text/html": [
       "<div>\n",
       "<style scoped>\n",
       "    .dataframe tbody tr th:only-of-type {\n",
       "        vertical-align: middle;\n",
       "    }\n",
       "\n",
       "    .dataframe tbody tr th {\n",
       "        vertical-align: top;\n",
       "    }\n",
       "\n",
       "    .dataframe thead th {\n",
       "        text-align: right;\n",
       "    }\n",
       "</style>\n",
       "<table border=\"1\" class=\"dataframe\">\n",
       "  <thead>\n",
       "    <tr style=\"text-align: right;\">\n",
       "      <th></th>\n",
       "      <th>sma_pct_14</th>\n",
       "      <th>atr_pct_14</th>\n",
       "      <th>rsi_14</th>\n",
       "      <th>bb_w_20</th>\n",
       "      <th>plus_di_14</th>\n",
       "      <th>range_pct</th>\n",
       "      <th>eng_ma</th>\n",
       "      <th>minus_di_14</th>\n",
       "      <th>macd_diff_12_26_9</th>\n",
       "      <th>ret</th>\n",
       "      <th>eng_macd</th>\n",
       "      <th>macd_line_12_26_9</th>\n",
       "      <th>obv_diff_14</th>\n",
       "      <th>eng_atr_div</th>\n",
       "      <th>eng_adx</th>\n",
       "      <th>hour</th>\n",
       "      <th>adx_14</th>\n",
       "      <th>close_raw</th>\n",
       "      <th>signal</th>\n",
       "    </tr>\n",
       "  </thead>\n",
       "  <tbody>\n",
       "    <tr>\n",
       "      <th>2004-01-02 09:33:00</th>\n",
       "      <td>0.499798</td>\n",
       "      <td>0.000000</td>\n",
       "      <td>1.000000</td>\n",
       "      <td>0.000000</td>\n",
       "      <td>0.000000</td>\n",
       "      <td>0.000000</td>\n",
       "      <td>0.516453</td>\n",
       "      <td>0.000000</td>\n",
       "      <td>0.506696</td>\n",
       "      <td>0.499891</td>\n",
       "      <td>0.624765</td>\n",
       "      <td>0.489532</td>\n",
       "      <td>0.488177</td>\n",
       "      <td>0.353456</td>\n",
       "      <td>0.519392</td>\n",
       "      <td>1.002425</td>\n",
       "      <td>0.000000</td>\n",
       "      <td>0.764286</td>\n",
       "      <td>1.301415e-09</td>\n",
       "    </tr>\n",
       "    <tr>\n",
       "      <th>2004-01-02 09:34:00</th>\n",
       "      <td>0.499798</td>\n",
       "      <td>0.000000</td>\n",
       "      <td>1.000000</td>\n",
       "      <td>0.000000</td>\n",
       "      <td>0.000000</td>\n",
       "      <td>0.000000</td>\n",
       "      <td>0.516453</td>\n",
       "      <td>0.000000</td>\n",
       "      <td>0.506696</td>\n",
       "      <td>0.499891</td>\n",
       "      <td>0.624765</td>\n",
       "      <td>0.489532</td>\n",
       "      <td>0.488177</td>\n",
       "      <td>0.353456</td>\n",
       "      <td>0.519392</td>\n",
       "      <td>1.002425</td>\n",
       "      <td>0.000000</td>\n",
       "      <td>0.764286</td>\n",
       "      <td>1.405474e-09</td>\n",
       "    </tr>\n",
       "    <tr>\n",
       "      <th>2004-01-02 09:35:00</th>\n",
       "      <td>0.499798</td>\n",
       "      <td>0.000000</td>\n",
       "      <td>1.000000</td>\n",
       "      <td>0.000000</td>\n",
       "      <td>0.000000</td>\n",
       "      <td>0.000000</td>\n",
       "      <td>0.516453</td>\n",
       "      <td>0.000000</td>\n",
       "      <td>0.506696</td>\n",
       "      <td>0.499891</td>\n",
       "      <td>0.624765</td>\n",
       "      <td>0.489532</td>\n",
       "      <td>0.488177</td>\n",
       "      <td>0.353456</td>\n",
       "      <td>0.519392</td>\n",
       "      <td>1.002425</td>\n",
       "      <td>0.000000</td>\n",
       "      <td>0.764286</td>\n",
       "      <td>1.517855e-09</td>\n",
       "    </tr>\n",
       "    <tr>\n",
       "      <th>2004-01-02 09:36:00</th>\n",
       "      <td>0.499798</td>\n",
       "      <td>0.000000</td>\n",
       "      <td>1.000000</td>\n",
       "      <td>0.000000</td>\n",
       "      <td>0.000000</td>\n",
       "      <td>0.000000</td>\n",
       "      <td>0.516453</td>\n",
       "      <td>0.000000</td>\n",
       "      <td>0.506696</td>\n",
       "      <td>0.499891</td>\n",
       "      <td>0.624765</td>\n",
       "      <td>0.489532</td>\n",
       "      <td>0.488177</td>\n",
       "      <td>0.353456</td>\n",
       "      <td>0.519392</td>\n",
       "      <td>1.002425</td>\n",
       "      <td>0.000000</td>\n",
       "      <td>0.764286</td>\n",
       "      <td>1.639221e-09</td>\n",
       "    </tr>\n",
       "    <tr>\n",
       "      <th>2004-01-02 09:37:00</th>\n",
       "      <td>0.499798</td>\n",
       "      <td>0.000000</td>\n",
       "      <td>1.000000</td>\n",
       "      <td>0.000000</td>\n",
       "      <td>0.000000</td>\n",
       "      <td>0.000000</td>\n",
       "      <td>0.516453</td>\n",
       "      <td>0.000000</td>\n",
       "      <td>0.506696</td>\n",
       "      <td>0.499891</td>\n",
       "      <td>0.624765</td>\n",
       "      <td>0.489532</td>\n",
       "      <td>0.488177</td>\n",
       "      <td>0.353456</td>\n",
       "      <td>0.519392</td>\n",
       "      <td>1.002425</td>\n",
       "      <td>0.000000</td>\n",
       "      <td>0.764286</td>\n",
       "      <td>1.770291e-09</td>\n",
       "    </tr>\n",
       "    <tr>\n",
       "      <th>...</th>\n",
       "      <td>...</td>\n",
       "      <td>...</td>\n",
       "      <td>...</td>\n",
       "      <td>...</td>\n",
       "      <td>...</td>\n",
       "      <td>...</td>\n",
       "      <td>...</td>\n",
       "      <td>...</td>\n",
       "      <td>...</td>\n",
       "      <td>...</td>\n",
       "      <td>...</td>\n",
       "      <td>...</td>\n",
       "      <td>...</td>\n",
       "      <td>...</td>\n",
       "      <td>...</td>\n",
       "      <td>...</td>\n",
       "      <td>...</td>\n",
       "      <td>...</td>\n",
       "      <td>...</td>\n",
       "    </tr>\n",
       "    <tr>\n",
       "      <th>2025-06-18 20:56:00</th>\n",
       "      <td>0.751690</td>\n",
       "      <td>0.323886</td>\n",
       "      <td>0.672166</td>\n",
       "      <td>0.273759</td>\n",
       "      <td>0.363125</td>\n",
       "      <td>0.254109</td>\n",
       "      <td>0.532431</td>\n",
       "      <td>0.074852</td>\n",
       "      <td>0.888941</td>\n",
       "      <td>0.642346</td>\n",
       "      <td>0.634772</td>\n",
       "      <td>0.971125</td>\n",
       "      <td>1.000000</td>\n",
       "      <td>0.664288</td>\n",
       "      <td>0.537709</td>\n",
       "      <td>-0.975989</td>\n",
       "      <td>0.301944</td>\n",
       "      <td>196.815000</td>\n",
       "      <td>6.849078e-01</td>\n",
       "    </tr>\n",
       "    <tr>\n",
       "      <th>2025-06-18 20:57:00</th>\n",
       "      <td>0.650094</td>\n",
       "      <td>0.336016</td>\n",
       "      <td>0.616686</td>\n",
       "      <td>0.290460</td>\n",
       "      <td>0.347207</td>\n",
       "      <td>0.420131</td>\n",
       "      <td>0.532016</td>\n",
       "      <td>0.067044</td>\n",
       "      <td>0.840741</td>\n",
       "      <td>0.340442</td>\n",
       "      <td>0.633511</td>\n",
       "      <td>0.981544</td>\n",
       "      <td>0.000000</td>\n",
       "      <td>0.676887</td>\n",
       "      <td>0.541855</td>\n",
       "      <td>-0.975989</td>\n",
       "      <td>0.328685</td>\n",
       "      <td>196.675000</td>\n",
       "      <td>6.122057e-01</td>\n",
       "    </tr>\n",
       "    <tr>\n",
       "      <th>2025-06-18 20:58:00</th>\n",
       "      <td>0.631153</td>\n",
       "      <td>0.322169</td>\n",
       "      <td>0.614734</td>\n",
       "      <td>0.304199</td>\n",
       "      <td>0.336272</td>\n",
       "      <td>0.121620</td>\n",
       "      <td>0.531618</td>\n",
       "      <td>0.064933</td>\n",
       "      <td>0.777896</td>\n",
       "      <td>0.494192</td>\n",
       "      <td>0.631866</td>\n",
       "      <td>0.983006</td>\n",
       "      <td>0.000000</td>\n",
       "      <td>0.584662</td>\n",
       "      <td>0.545337</td>\n",
       "      <td>-0.975989</td>\n",
       "      <td>0.353515</td>\n",
       "      <td>196.670000</td>\n",
       "      <td>6.104678e-01</td>\n",
       "    </tr>\n",
       "    <tr>\n",
       "      <th>2025-06-18 20:59:00</th>\n",
       "      <td>0.375519</td>\n",
       "      <td>0.346959</td>\n",
       "      <td>0.475401</td>\n",
       "      <td>0.305249</td>\n",
       "      <td>0.290578</td>\n",
       "      <td>0.565110</td>\n",
       "      <td>0.531157</td>\n",
       "      <td>0.160021</td>\n",
       "      <td>0.456523</td>\n",
       "      <td>0.009795</td>\n",
       "      <td>0.623450</td>\n",
       "      <td>0.884486</td>\n",
       "      <td>0.000000</td>\n",
       "      <td>0.645760</td>\n",
       "      <td>0.531521</td>\n",
       "      <td>-0.975989</td>\n",
       "      <td>0.348960</td>\n",
       "      <td>196.240000</td>\n",
       "      <td>4.770902e-01</td>\n",
       "    </tr>\n",
       "    <tr>\n",
       "      <th>2025-06-18 21:00:00</th>\n",
       "      <td>0.535073</td>\n",
       "      <td>0.374297</td>\n",
       "      <td>0.551738</td>\n",
       "      <td>0.303059</td>\n",
       "      <td>0.249733</td>\n",
       "      <td>0.630630</td>\n",
       "      <td>0.531913</td>\n",
       "      <td>0.176984</td>\n",
       "      <td>0.422962</td>\n",
       "      <td>0.842567</td>\n",
       "      <td>0.622570</td>\n",
       "      <td>0.868408</td>\n",
       "      <td>1.000000</td>\n",
       "      <td>0.708780</td>\n",
       "      <td>0.525575</td>\n",
       "      <td>-0.993518</td>\n",
       "      <td>0.336212</td>\n",
       "      <td>196.540000</td>\n",
       "      <td>3.509684e-01</td>\n",
       "    </tr>\n",
       "  </tbody>\n",
       "</table>\n",
       "<p>3715200 rows × 19 columns</p>\n",
       "</div>"
      ],
      "text/plain": [
       "                     sma_pct_14  atr_pct_14    rsi_14   bb_w_20  plus_di_14  \\\n",
       "2004-01-02 09:33:00    0.499798    0.000000  1.000000  0.000000    0.000000   \n",
       "2004-01-02 09:34:00    0.499798    0.000000  1.000000  0.000000    0.000000   \n",
       "2004-01-02 09:35:00    0.499798    0.000000  1.000000  0.000000    0.000000   \n",
       "2004-01-02 09:36:00    0.499798    0.000000  1.000000  0.000000    0.000000   \n",
       "2004-01-02 09:37:00    0.499798    0.000000  1.000000  0.000000    0.000000   \n",
       "...                         ...         ...       ...       ...         ...   \n",
       "2025-06-18 20:56:00    0.751690    0.323886  0.672166  0.273759    0.363125   \n",
       "2025-06-18 20:57:00    0.650094    0.336016  0.616686  0.290460    0.347207   \n",
       "2025-06-18 20:58:00    0.631153    0.322169  0.614734  0.304199    0.336272   \n",
       "2025-06-18 20:59:00    0.375519    0.346959  0.475401  0.305249    0.290578   \n",
       "2025-06-18 21:00:00    0.535073    0.374297  0.551738  0.303059    0.249733   \n",
       "\n",
       "                     range_pct    eng_ma  minus_di_14  macd_diff_12_26_9  \\\n",
       "2004-01-02 09:33:00   0.000000  0.516453     0.000000           0.506696   \n",
       "2004-01-02 09:34:00   0.000000  0.516453     0.000000           0.506696   \n",
       "2004-01-02 09:35:00   0.000000  0.516453     0.000000           0.506696   \n",
       "2004-01-02 09:36:00   0.000000  0.516453     0.000000           0.506696   \n",
       "2004-01-02 09:37:00   0.000000  0.516453     0.000000           0.506696   \n",
       "...                        ...       ...          ...                ...   \n",
       "2025-06-18 20:56:00   0.254109  0.532431     0.074852           0.888941   \n",
       "2025-06-18 20:57:00   0.420131  0.532016     0.067044           0.840741   \n",
       "2025-06-18 20:58:00   0.121620  0.531618     0.064933           0.777896   \n",
       "2025-06-18 20:59:00   0.565110  0.531157     0.160021           0.456523   \n",
       "2025-06-18 21:00:00   0.630630  0.531913     0.176984           0.422962   \n",
       "\n",
       "                          ret  eng_macd  macd_line_12_26_9  obv_diff_14  \\\n",
       "2004-01-02 09:33:00  0.499891  0.624765           0.489532     0.488177   \n",
       "2004-01-02 09:34:00  0.499891  0.624765           0.489532     0.488177   \n",
       "2004-01-02 09:35:00  0.499891  0.624765           0.489532     0.488177   \n",
       "2004-01-02 09:36:00  0.499891  0.624765           0.489532     0.488177   \n",
       "2004-01-02 09:37:00  0.499891  0.624765           0.489532     0.488177   \n",
       "...                       ...       ...                ...          ...   \n",
       "2025-06-18 20:56:00  0.642346  0.634772           0.971125     1.000000   \n",
       "2025-06-18 20:57:00  0.340442  0.633511           0.981544     0.000000   \n",
       "2025-06-18 20:58:00  0.494192  0.631866           0.983006     0.000000   \n",
       "2025-06-18 20:59:00  0.009795  0.623450           0.884486     0.000000   \n",
       "2025-06-18 21:00:00  0.842567  0.622570           0.868408     1.000000   \n",
       "\n",
       "                     eng_atr_div   eng_adx      hour    adx_14   close_raw  \\\n",
       "2004-01-02 09:33:00     0.353456  0.519392  1.002425  0.000000    0.764286   \n",
       "2004-01-02 09:34:00     0.353456  0.519392  1.002425  0.000000    0.764286   \n",
       "2004-01-02 09:35:00     0.353456  0.519392  1.002425  0.000000    0.764286   \n",
       "2004-01-02 09:36:00     0.353456  0.519392  1.002425  0.000000    0.764286   \n",
       "2004-01-02 09:37:00     0.353456  0.519392  1.002425  0.000000    0.764286   \n",
       "...                          ...       ...       ...       ...         ...   \n",
       "2025-06-18 20:56:00     0.664288  0.537709 -0.975989  0.301944  196.815000   \n",
       "2025-06-18 20:57:00     0.676887  0.541855 -0.975989  0.328685  196.675000   \n",
       "2025-06-18 20:58:00     0.584662  0.545337 -0.975989  0.353515  196.670000   \n",
       "2025-06-18 20:59:00     0.645760  0.531521 -0.975989  0.348960  196.240000   \n",
       "2025-06-18 21:00:00     0.708780  0.525575 -0.993518  0.336212  196.540000   \n",
       "\n",
       "                           signal  \n",
       "2004-01-02 09:33:00  1.301415e-09  \n",
       "2004-01-02 09:34:00  1.405474e-09  \n",
       "2004-01-02 09:35:00  1.517855e-09  \n",
       "2004-01-02 09:36:00  1.639221e-09  \n",
       "2004-01-02 09:37:00  1.770291e-09  \n",
       "...                           ...  \n",
       "2025-06-18 20:56:00  6.849078e-01  \n",
       "2025-06-18 20:57:00  6.122057e-01  \n",
       "2025-06-18 20:58:00  6.104678e-01  \n",
       "2025-06-18 20:59:00  4.770902e-01  \n",
       "2025-06-18 21:00:00  3.509684e-01  \n",
       "\n",
       "[3715200 rows x 19 columns]"
      ]
     },
     "execution_count": 3,
     "metadata": {},
     "output_type": "execute_result"
    }
   ],
   "source": [
    "df_feat_sel = pd.read_csv(params.feat_all_csv, index_col=0, parse_dates=True)[params.features_cols_tick + ['close_raw'] + [params.label_col]]\n",
    "    \n",
    "df_feat_sel"
   ]
  },
  {
   "cell_type": "code",
   "execution_count": 4,
   "id": "b805fa9c",
   "metadata": {},
   "outputs": [
    {
     "name": "stdout",
     "output_type": "stream",
     "text": [
      "Inside build_tensors, features: ['sma_pct_14', 'atr_pct_14', 'rsi_14', 'bb_w_20', 'plus_di_14', 'range_pct', 'eng_ma', 'minus_di_14', 'macd_diff_12_26_9', 'ret', 'eng_macd', 'macd_line_12_26_9', 'obv_diff_14', 'eng_atr_div', 'eng_adx', 'hour', 'adx_14']\n"
     ]
    },
    {
     "data": {
      "application/vnd.jupyter.widget-view+json": {
       "model_id": "194fc1a38a6141b98452807663623297",
       "version_major": 2,
       "version_minor": 0
      },
      "text/plain": [
       "Preparing days:   0%|          | 0/5400 [00:00<?, ?it/s]"
      ]
     },
     "metadata": {},
     "output_type": "display_data"
    },
    {
     "data": {
      "application/vnd.jupyter.widget-view+json": {
       "model_id": "8c338d9f3419426086dbf7086faa402e",
       "version_major": 2,
       "version_minor": 0
      },
      "text/plain": [
       "Writing days:   0%|          | 0/5400 [00:00<?, ?it/s]"
      ]
     },
     "metadata": {},
     "output_type": "display_data"
    },
    {
     "data": {
      "application/vnd.jupyter.widget-view+json": {
       "model_id": "f80c73fc947149b7ba34904df079020b",
       "version_major": 2,
       "version_minor": 0
      },
      "text/plain": [
       "Creating DayWindowDatasets:   0%|          | 0/3 [00:00<?, ?split/s]"
      ]
     },
     "metadata": {},
     "output_type": "display_data"
    },
    {
     "name": "stdout",
     "output_type": "stream",
     "text": [
      "--- TRAIN ---\n",
      " calendar days : 3840  (2004-01-02 → 2019-04-04)\n",
      " windows       : 1731840  (per-day min=451, max=451, mean=451.0)\n",
      " window shape  : look_back=60, n_features=17\n",
      " dataloader    : batches= 60, batch_size=64, workers=12, pin_memory=True\n",
      "\n",
      "--- VAL ---\n",
      " calendar days : 751  (2019-04-05 → 2022-03-28)\n",
      " windows       : 338701  (per-day min=451, max=451, mean=451.0)\n",
      " window shape  : look_back=60, n_features=17\n",
      " dataloader    : batches=751, batch_size=1, workers=0, pin_memory=True\n",
      "\n",
      "--- TEST ---\n",
      " calendar days : 809  (2022-03-29 → 2025-06-18)\n",
      " windows       : 364859  (per-day min=451, max=451, mean=451.0)\n",
      " window shape  : look_back=60, n_features=17\n",
      " dataloader    : batches=809, batch_size=1, workers=0, pin_memory=True\n",
      "\n"
     ]
    }
   ],
   "source": [
    "train_loader, val_loader, test_loader, end_times_tr, end_times_val, end_times_te = models_core.model_core_pipeline(\n",
    "    df             = df_feat_sel,\n",
    "    look_back      = params.look_back_tick,\n",
    "    sess_start     = params.sess_start_pred_tick,\n",
    "    train_prop     = params.train_prop,\n",
    "    val_prop       = params.val_prop,\n",
    "    train_batch    = params.hparams[\"TRAIN_BATCH\"],\n",
    "    num_workers    = params.hparams[\"NUM_WORKERS\"],\n",
    "    prefetch_factor= params.hparams[\"TRAIN_PREFETCH_FACTOR\"],\n",
    "    signal_thresh  = params.best_optuna_params[\"buy_threshold\"],\n",
    "    return_thresh  = 0.01  # flat‐zone threshold for returns\n",
    ")\n",
    "\n",
    "for name, ld, tm in zip(\n",
    "    [\"train\",\"val\",\"test\"],\n",
    "    [train_loader, val_loader, test_loader],\n",
    "    [end_times_tr, end_times_val, end_times_te]\n",
    "):\n",
    "    models_core.summarize_split(name, ld, tm)\n"
   ]
  },
  {
   "cell_type": "code",
   "execution_count": 5,
   "id": "eeec031f-6c8f-455f-9c72-ae411e03ba34",
   "metadata": {},
   "outputs": [
    {
     "data": {
      "text/plain": [
       "ModelClass(\n",
       "  (conv): Conv1d(17, 17, kernel_size=(3,), stride=(1,), padding=(1,))\n",
       "  (bn): BatchNorm1d(17, eps=1e-05, momentum=0.1, affine=True, track_running_stats=True)\n",
       "  (short_lstm): LSTM(17, 48, batch_first=True, bidirectional=True)\n",
       "  (attn): MultiheadAttention(\n",
       "    (out_proj): NonDynamicallyQuantizableLinear(in_features=96, out_features=96, bias=True)\n",
       "  )\n",
       "  (ln_short): LayerNorm((96,), eps=1e-05, elementwise_affine=True)\n",
       "  (do_short): Dropout(p=0.05, inplace=False)\n",
       "  (long_lstm): LSTM(96, 64, batch_first=True, bidirectional=True)\n",
       "  (short2long): Linear(in_features=96, out_features=128, bias=True)\n",
       "  (ln_long): LayerNorm((128,), eps=1e-05, elementwise_affine=True)\n",
       "  (do_long): Dropout(p=0.1, inplace=False)\n",
       "  (pred): Linear(in_features=128, out_features=1, bias=True)\n",
       "  (cls_head): Linear(in_features=128, out_features=1, bias=True)\n",
       "  (cls_ter): Linear(in_features=128, out_features=3, bias=True)\n",
       "  (smoother): Conv1d(1, 1, kernel_size=(5,), stride=(1,), padding=(8,), dilation=(2,), bias=False)\n",
       ")"
      ]
     },
     "execution_count": 5,
     "metadata": {},
     "output_type": "execute_result"
    }
   ],
   "source": [
    "# -----------------------------------------------------------------------------\n",
    "# Instantiate the ModelClass & move to device\n",
    "# -----------------------------------------------------------------------------\n",
    "\n",
    "model = params.model_selected.ModelClass(\n",
    "    n_feats        = len(params.features_cols_tick),                          \n",
    "    short_units    = params.hparams['SHORT_UNITS'],    \n",
    "    long_units     = params.hparams['LONG_UNITS'],     \n",
    "    dropout_short  = params.hparams['DROPOUT_SHORT'],  \n",
    "    dropout_long   = params.hparams['DROPOUT_LONG'],   \n",
    "    att_heads      = params.hparams['ATT_HEADS'],\n",
    "    att_drop       = params.hparams['ATT_DROPOUT'],\n",
    "    conv_k         = params.hparams['CONV_K'],\n",
    "    conv_dilation  = params.hparams['CONV_DILATION'],\n",
    "    smooth_k         = params.hparams['SMOOTH_K'],\n",
    "    smooth_dilation  = params.hparams['SMOOTH_DILATION']\n",
    ")\n",
    "model.to(params.device)  \n",
    "\n",
    "model"
   ]
  },
  {
   "cell_type": "code",
   "execution_count": 6,
   "id": "5512a0dd-d2c8-418e-bfca-4580fb4be995",
   "metadata": {},
   "outputs": [
    {
     "data": {
      "text/plain": [
       "AdamW (\n",
       "Parameter Group 0\n",
       "    amsgrad: False\n",
       "    betas: (0.9, 0.999)\n",
       "    capturable: False\n",
       "    decoupled_weight_decay: True\n",
       "    differentiable: False\n",
       "    eps: 1e-08\n",
       "    foreach: None\n",
       "    fused: None\n",
       "    initial_lr: 5e-05\n",
       "    lr: 5e-05\n",
       "    maximize: False\n",
       "    weight_decay: 1e-05\n",
       ")"
      ]
     },
     "execution_count": 6,
     "metadata": {},
     "output_type": "execute_result"
    }
   ],
   "source": [
    "# -----------------------------------------------------------------------------\n",
    "# Build optimizer, LR scheduler, AMP scaler, and gradient‐clip norm\n",
    "# -----------------------------------------------------------------------------\n",
    "optimizer, plateau_sched, cosine_sched, scaler, clipnorm = models_core.make_optimizer_and_scheduler(\n",
    "    model,\n",
    "    initial_lr        = params.hparams['INITIAL_LR'],       \n",
    "    weight_decay      = params.hparams['WEIGHT_DECAY'],     \n",
    "    clipnorm          = params.hparams['CLIPNORM']   \n",
    ")\n",
    "\n",
    "optimizer"
   ]
  },
  {
   "cell_type": "code",
   "execution_count": 7,
   "id": "e9c5fc27-f31d-4adc-a247-5468674f83fc",
   "metadata": {},
   "outputs": [
    {
     "name": "stdout",
     "output_type": "stream",
     "text": [
      "Zero‐forecast RMSE (predict 0): train = 0.405952,  val = 0.409382\n",
      "\n",
      "Train target stats:\n",
      "  mean = 0.2836,  var = 0.0844,  std = 0.2905\n",
      "Train mean‐predictor baseline:\n",
      "  RMSE_baseline = 0.290471\n",
      "  R²_baseline   = 0.00\n",
      "\n",
      "Validation target stats:\n",
      "  mean = 0.2919,  var = 0.0824,  std = 0.2870\n",
      "Validation mean‐predictor baseline:\n",
      "  RMSE_baseline = 0.287012\n",
      "  R²_baseline   = 0.00\n",
      "\n"
     ]
    }
   ],
   "source": [
    "# -----------------------------------------------------------------------------\n",
    "# Helper: extract the true “signal” values from any loader into a flat array\n",
    "# -----------------------------------------------------------------------------\n",
    "def extract_y(loader):\n",
    "    return np.concatenate([batch[1].cpu().numpy().ravel() for batch in loader])\n",
    "\n",
    "# Pull out train & validation targets\n",
    "y_train = extract_y(train_loader)\n",
    "y_val   = extract_y(val_loader)\n",
    "\n",
    "# -----------------------------------------------------------------------------\n",
    "# 1) Zero‐forecast baseline RMSE (predict 0 always)\n",
    "#    RMSE_zero = √(mean(y²))\n",
    "# -----------------------------------------------------------------------------\n",
    "rmse_zero_train = np.sqrt(np.mean(y_train**2))\n",
    "rmse_zero_val   = np.sqrt(np.mean(y_val**2))\n",
    "print(f\"Zero‐forecast RMSE (predict 0): train = {rmse_zero_train:.6f},  val = {rmse_zero_val:.6f}\\n\")\n",
    "\n",
    "# -----------------------------------------------------------------------------\n",
    "# 2) Compute mean, variance & std for train/validation targets\n",
    "#    and derive the mean‐predictor baseline (R² = 0)\n",
    "# -----------------------------------------------------------------------------\n",
    "for split, y in [(\"Train\", y_train), (\"Validation\", y_val)]:\n",
    "    mean_y    = y.mean()\n",
    "    std_y     = y.std(ddof=0)     # population std = √variance\n",
    "    var_y     = std_y**2\n",
    "    rmse_mean = std_y            # RMSE_baseline = std(target)\n",
    "\n",
    "    print(f\"{split} target stats:\")\n",
    "    print(f\"  mean = {mean_y:.4f},  var = {var_y:.4f},  std = {std_y:.4f}\")\n",
    "    print(f\"{split} mean‐predictor baseline:\")\n",
    "    print(f\"  RMSE_baseline = {rmse_mean:.6f}\")\n",
    "    print(\"  R²_baseline   = 0.00\\n\")\n",
    "\n",
    "    if split == \"Validation\":\n",
    "        rmse_mean_val = rmse_mean # used afterwards for the final reporting\n",
    "        \n"
   ]
  },
  {
   "cell_type": "code",
   "execution_count": 8,
   "id": "a8f7ec8c-5882-486b-bdfd-371b8db260f9",
   "metadata": {},
   "outputs": [
    {
     "data": {
      "image/png": "[encoded data removed]",
      "text/plain": [
       "<Figure size 640x480 with 1 Axes>"
      ]
     },
     "metadata": {},
     "output_type": "display_data"
    }
   ],
   "source": [
    "# Visualize the true‐signal distributions on train vs. validation\n",
    "plt.hist(y_train, bins=100, alpha=0.5, label=\"train true\")\n",
    "plt.hist(y_val,   bins=100, alpha=0.5, label=\"val true\")\n",
    "plt.xlabel(\"Signal value\")\n",
    "plt.ylabel(\"Count\")\n",
    "plt.title(\"True Signal Distribution: Train vs. Validation\")\n",
    "plt.legend()\n",
    "plt.tight_layout()\n",
    "plt.show()\n"
   ]
  },
  {
   "cell_type": "code",
   "execution_count": null,
   "id": "7bf94780-a876-4bf4-ad27-6abc2da1fc0a",
   "metadata": {},
   "outputs": [
    {
     "name": "stdout",
     "output_type": "stream",
     "text": [
      "Training sees 3840 unique trading days per epoch.\n",
      "\n",
      "Using HyperParameters:\n",
      " \"look_back\": 60 {'SHORT_UNITS': 96, 'LONG_UNITS': 128, 'DROPOUT_SHORT': 0.05, 'DROPOUT_LONG': 0.1, 'ATT_HEADS': 6, 'ATT_DROPOUT': 0.0, 'WEIGHT_DECAY': 1e-05, 'CONV_K': 3, 'CONV_DILATION': 1, 'SMOOTH_K': 5, 'SMOOTH_DILATION': 2, 'TRAIN_BATCH': 64, 'VAL_BATCH': 1, 'NUM_WORKERS': 12, 'TRAIN_PREFETCH_FACTOR': 4, 'MAX_EPOCHS': 100, 'EARLY_STOP_PATIENCE': 7, 'LR_EPOCHS_WARMUP': 3, 'INITIAL_LR': 5e-05, 'CLIPNORM': 0.5, 'ETA_MIN': 1e-06, 'T_0': 100, 'T_MULT': 1, 'DIFF1_WEIGHT': 1.0, 'DIFF2_WEIGHT': 0.2, 'SMOOTH_ALPHA': 0.005, 'SMOOTH_BETA': 20.0, 'SMOOTH_DELTA': 0.01, 'HUBER_BETA': 0.1, 'CLS_LOSS_WEIGHT': 0.05, 'PLATEAU_FACTOR': 0.9, 'PLATEAU_PATIENCE': 0, 'MIN_LR': 1e-06, 'PLAT_EPOCHS_WARMUP': 999}\n"
     ]
    },
    {
     "data": {
      "image/png": "[encoded data removed]",
      "text/plain": [
       "<Figure size 660x440 with 1 Axes>"
      ]
     },
     "metadata": {},
     "output_type": "display_data"
    },
    {
     "data": {
      "application/vnd.jupyter.widget-view+json": {
       "model_id": "e6efa69c5fb546cd8d92ee36226d5c33",
       "version_major": 2,
       "version_minor": 0
      },
      "text/plain": [
       "Epoch 1:   0%|          | 0/60 [00:00<?, ?batch/s]"
      ]
     },
     "metadata": {},
     "output_type": "display_data"
    },
    {
     "data": {
      "application/vnd.jupyter.widget-view+json": {
       "model_id": "ca0845867d1c4dbf949ec32a4b1ed681",
       "version_major": 2,
       "version_minor": 0
      },
      "text/plain": [
       "eval:   0%|          | 0/751 [00:00<?, ?batch/s]"
      ]
     },
     "metadata": {},
     "output_type": "display_data"
    },
    {
     "name": "stdout",
     "output_type": "stream",
     "text": [
      "Epoch 001\n",
      "TRAIN→ RMSE=0.29191 MAE=0.24406 R2=-0.00992 | Acc=0.89453 Prec=0.12500 Rec=0.00251 F1=0.00491 AUROC=0.55196\n",
      "VALID→ RMSE=0.27342 MAE=0.20523 R2=0.09247 | Acc=0.71215 Prec=0.00000 Rec=0.00000 F1=0.00000 AUROC=0.65007\n"
     ]
    },
    {
     "data": {
      "application/vnd.jupyter.widget-view+json": {
       "model_id": "d9b977527bdc4312993801fc6d200555",
       "version_major": 2,
       "version_minor": 0
      },
      "text/plain": [
       "Epoch 2:   0%|          | 0/60 [00:00<?, ?batch/s]"
      ]
     },
     "metadata": {},
     "output_type": "display_data"
    },
    {
     "data": {
      "application/vnd.jupyter.widget-view+json": {
       "model_id": "e41476740fa34ae5aa94e56ad5fd7485",
       "version_major": 2,
       "version_minor": 0
      },
      "text/plain": [
       "eval:   0%|          | 0/751 [00:00<?, ?batch/s]"
      ]
     },
     "metadata": {},
     "output_type": "display_data"
    },
    {
     "name": "stdout",
     "output_type": "stream",
     "text": [
      "Epoch 002\n",
      "TRAIN→ RMSE=0.29226 MAE=0.24514 R2=-0.01233 | Acc=0.89609 Prec=0.50000 Rec=0.00752 F1=0.01481 AUROC=0.54996\n",
      "VALID→ RMSE=0.26511 MAE=0.19827 R2=0.14677 | Acc=0.71196 Prec=0.00000 Rec=0.00000 F1=0.00000 AUROC=0.67580\n"
     ]
    },
    {
     "data": {
      "application/vnd.jupyter.widget-view+json": {
       "model_id": "9c752c3d4a504e8e88bbdb6bf0f41661",
       "version_major": 2,
       "version_minor": 0
      },
      "text/plain": [
       "Epoch 3:   0%|          | 0/60 [00:00<?, ?batch/s]"
      ]
     },
     "metadata": {},
     "output_type": "display_data"
    },
    {
     "data": {
      "application/vnd.jupyter.widget-view+json": {
       "model_id": "09244f2cf6aa4ff3bef4878ee6ccf5f3",
       "version_major": 2,
       "version_minor": 0
      },
      "text/plain": [
       "eval:   0%|          | 0/751 [00:00<?, ?batch/s]"
      ]
     },
     "metadata": {},
     "output_type": "display_data"
    },
    {
     "name": "stdout",
     "output_type": "stream",
     "text": [
      "Epoch 003\n",
      "TRAIN→ RMSE=0.28805 MAE=0.24116 R2=0.01657 | Acc=0.89609 Prec=0.50000 Rec=0.01253 F1=0.02445 AUROC=0.64380\n",
      "VALID→ RMSE=0.25880 MAE=0.19516 R2=0.18691 | Acc=0.71183 Prec=0.01629 Rec=0.00005 F1=0.00010 AUROC=0.69461\n"
     ]
    },
    {
     "data": {
      "application/vnd.jupyter.widget-view+json": {
       "model_id": "fa1e2e8256064b85a28997d6c40cf43a",
       "version_major": 2,
       "version_minor": 0
      },
      "text/plain": [
       "Epoch 4:   0%|          | 0/60 [00:00<?, ?batch/s]"
      ]
     },
     "metadata": {},
     "output_type": "display_data"
    },
    {
     "data": {
      "application/vnd.jupyter.widget-view+json": {
       "model_id": "6a5b4fbdbccf4a8aaf09aa0cab4ec5d6",
       "version_major": 2,
       "version_minor": 0
      },
      "text/plain": [
       "eval:   0%|          | 0/751 [00:00<?, ?batch/s]"
      ]
     },
     "metadata": {},
     "output_type": "display_data"
    },
    {
     "name": "stdout",
     "output_type": "stream",
     "text": [
      "Epoch 004\n",
      "TRAIN→ RMSE=0.28444 MAE=0.23884 R2=0.04112 | Acc=0.89661 Prec=0.54545 Rec=0.03008 F1=0.05701 AUROC=0.68828\n",
      "VALID→ RMSE=0.25435 MAE=0.19312 R2=0.21462 | Acc=0.71188 Prec=0.20954 Rec=0.00104 F1=0.00207 AUROC=0.70782\n"
     ]
    },
    {
     "data": {
      "application/vnd.jupyter.widget-view+json": {
       "model_id": "75d785a923e24e47bc79432f40d06794",
       "version_major": 2,
       "version_minor": 0
      },
      "text/plain": [
       "Epoch 5:   0%|          | 0/60 [00:00<?, ?batch/s]"
      ]
     },
     "metadata": {},
     "output_type": "display_data"
    },
    {
     "data": {
      "application/vnd.jupyter.widget-view+json": {
       "model_id": "ff0d3ffcd7b54d3891f20b7741c8a58d",
       "version_major": 2,
       "version_minor": 0
      },
      "text/plain": [
       "eval:   0%|          | 0/751 [00:00<?, ?batch/s]"
      ]
     },
     "metadata": {},
     "output_type": "display_data"
    },
    {
     "name": "stdout",
     "output_type": "stream",
     "text": [
      "Epoch 005\n",
      "TRAIN→ RMSE=0.28104 MAE=0.23666 R2=0.06389 | Acc=0.89505 Prec=0.47297 Rec=0.08772 F1=0.14799 AUROC=0.73496\n",
      "VALID→ RMSE=0.25115 MAE=0.19167 R2=0.23427 | Acc=0.71284 Prec=0.52348 Rec=0.00538 F1=0.01066 AUROC=0.71692\n"
     ]
    },
    {
     "data": {
      "application/vnd.jupyter.widget-view+json": {
       "model_id": "be29661ffddc4f31b8b160ed32e424cf",
       "version_major": 2,
       "version_minor": 0
      },
      "text/plain": [
       "Epoch 6:   0%|          | 0/60 [00:00<?, ?batch/s]"
      ]
     },
     "metadata": {},
     "output_type": "display_data"
    },
    {
     "data": {
      "application/vnd.jupyter.widget-view+json": {
       "model_id": "29858fe426f24172b0d3cd046cccc285",
       "version_major": 2,
       "version_minor": 0
      },
      "text/plain": [
       "eval:   0%|          | 0/751 [00:00<?, ?batch/s]"
      ]
     },
     "metadata": {},
     "output_type": "display_data"
    },
    {
     "name": "stdout",
     "output_type": "stream",
     "text": [
      "Epoch 006\n",
      "TRAIN→ RMSE=0.27806 MAE=0.23477 R2=0.08362 | Acc=0.89427 Prec=0.47107 Rec=0.14286 F1=0.21923 AUROC=0.77368\n",
      "VALID→ RMSE=0.24871 MAE=0.19108 R2=0.24907 | Acc=0.71630 Prec=0.72572 Rec=0.02012 F1=0.03916 AUROC=0.72347\n"
     ]
    },
    {
     "data": {
      "application/vnd.jupyter.widget-view+json": {
       "model_id": "50e742986bcf489fafa14a026f9f8f47",
       "version_major": 2,
       "version_minor": 0
      },
      "text/plain": [
       "Epoch 7:   0%|          | 0/60 [00:00<?, ?batch/s]"
      ]
     },
     "metadata": {},
     "output_type": "display_data"
    },
    {
     "data": {
      "application/vnd.jupyter.widget-view+json": {
       "model_id": "ce91cdbca8624f3eb5f2f7401289164c",
       "version_major": 2,
       "version_minor": 0
      },
      "text/plain": [
       "eval:   0%|          | 0/751 [00:00<?, ?batch/s]"
      ]
     },
     "metadata": {},
     "output_type": "display_data"
    },
    {
     "name": "stdout",
     "output_type": "stream",
     "text": [
      "Epoch 007\n",
      "TRAIN→ RMSE=0.27461 MAE=0.23233 R2=0.10622 | Acc=0.89297 Prec=0.47115 Rec=0.24561 F1=0.32290 AUROC=0.79981\n",
      "VALID→ RMSE=0.24639 MAE=0.19088 R2=0.26301 | Acc=0.72120 Prec=0.77136 Rec=0.04202 F1=0.07970 AUROC=0.72845\n"
     ]
    },
    {
     "data": {
      "application/vnd.jupyter.widget-view+json": {
       "model_id": "8a097e1a763f4352840282a2362cafbc",
       "version_major": 2,
       "version_minor": 0
      },
      "text/plain": [
       "Epoch 8:   0%|          | 0/60 [00:00<?, ?batch/s]"
      ]
     },
     "metadata": {},
     "output_type": "display_data"
    },
    {
     "data": {
      "application/vnd.jupyter.widget-view+json": {
       "model_id": "b98892f90ef04cbfad17575d9f1a9d18",
       "version_major": 2,
       "version_minor": 0
      },
      "text/plain": [
       "eval:   0%|          | 0/751 [00:00<?, ?batch/s]"
      ]
     },
     "metadata": {},
     "output_type": "display_data"
    },
    {
     "name": "stdout",
     "output_type": "stream",
     "text": [
      "Epoch 008\n",
      "TRAIN→ RMSE=0.27104 MAE=0.22968 R2=0.12932 | Acc=0.89635 Prec=0.50177 Rec=0.35589 F1=0.41642 AUROC=0.81934\n",
      "VALID→ RMSE=0.24418 MAE=0.19069 R2=0.27617 | Acc=0.72595 Prec=0.77555 Rec=0.06488 F1=0.11974 AUROC=0.73214\n"
     ]
    },
    {
     "data": {
      "application/vnd.jupyter.widget-view+json": {
       "model_id": "689081490926417f9a80445e6f66ff66",
       "version_major": 2,
       "version_minor": 0
      },
      "text/plain": [
       "Epoch 9:   0%|          | 0/60 [00:00<?, ?batch/s]"
      ]
     },
     "metadata": {},
     "output_type": "display_data"
    },
    {
     "data": {
      "application/vnd.jupyter.widget-view+json": {
       "model_id": "e3ea17d59acf45c4a616f74b6a35dd02",
       "version_major": 2,
       "version_minor": 0
      },
      "text/plain": [
       "eval:   0%|          | 0/751 [00:00<?, ?batch/s]"
      ]
     },
     "metadata": {},
     "output_type": "display_data"
    },
    {
     "name": "stdout",
     "output_type": "stream",
     "text": [
      "Epoch 009\n",
      "TRAIN→ RMSE=0.26905 MAE=0.22873 R2=0.14206 | Acc=0.89948 Prec=0.52025 Rec=0.41855 F1=0.46389 AUROC=0.84255\n",
      "VALID→ RMSE=0.24253 MAE=0.19056 R2=0.28594 | Acc=0.72986 Prec=0.77197 Rec=0.08475 F1=0.15273 AUROC=0.73501\n"
     ]
    },
    {
     "data": {
      "application/vnd.jupyter.widget-view+json": {
       "model_id": "d48af87b6f1a42bdbe748ad31c9dbbba",
       "version_major": 2,
       "version_minor": 0
      },
      "text/plain": [
       "Epoch 10:   0%|          | 0/60 [00:00<?, ?batch/s]"
      ]
     },
     "metadata": {},
     "output_type": "display_data"
    },
    {
     "data": {
      "application/vnd.jupyter.widget-view+json": {
       "model_id": "12a5edd7fbab47358c9d554262553f59",
       "version_major": 2,
       "version_minor": 0
      },
      "text/plain": [
       "eval:   0%|          | 0/751 [00:00<?, ?batch/s]"
      ]
     },
     "metadata": {},
     "output_type": "display_data"
    },
    {
     "name": "stdout",
     "output_type": "stream",
     "text": [
      "Epoch 010\n",
      "TRAIN→ RMSE=0.26696 MAE=0.22737 R2=0.15533 | Acc=0.89245 Prec=0.48293 Rec=0.49624 F1=0.48949 AUROC=0.84498\n",
      "VALID→ RMSE=0.24118 MAE=0.19055 R2=0.29390 | Acc=0.73320 Prec=0.76537 Rec=0.10288 F1=0.18138 AUROC=0.73740\n"
     ]
    },
    {
     "data": {
      "application/vnd.jupyter.widget-view+json": {
       "model_id": "4f526fe9a8a34a99ad7e506b09360822",
       "version_major": 2,
       "version_minor": 0
      },
      "text/plain": [
       "Epoch 11:   0%|          | 0/60 [00:00<?, ?batch/s]"
      ]
     },
     "metadata": {},
     "output_type": "display_data"
    },
    {
     "data": {
      "application/vnd.jupyter.widget-view+json": {
       "model_id": "ee4776d747f74816b0674715b5fef024",
       "version_major": 2,
       "version_minor": 0
      },
      "text/plain": [
       "eval:   0%|          | 0/751 [00:00<?, ?batch/s]"
      ]
     },
     "metadata": {},
     "output_type": "display_data"
    },
    {
     "name": "stdout",
     "output_type": "stream",
     "text": [
      "Epoch 011\n",
      "TRAIN→ RMSE=0.26526 MAE=0.22614 R2=0.16607 | Acc=0.89193 Prec=0.48238 Rec=0.54887 F1=0.51348 AUROC=0.86793\n",
      "VALID→ RMSE=0.24021 MAE=0.19095 R2=0.29956 | Acc=0.73611 Prec=0.75750 Rec=0.11984 F1=0.20694 AUROC=0.73917\n"
     ]
    },
    {
     "data": {
      "application/vnd.jupyter.widget-view+json": {
       "model_id": "228a64cdc5af4f889e2d433936cbc1b8",
       "version_major": 2,
       "version_minor": 0
      },
      "text/plain": [
       "Epoch 12:   0%|          | 0/60 [00:00<?, ?batch/s]"
      ]
     },
     "metadata": {},
     "output_type": "display_data"
    },
    {
     "data": {
      "application/vnd.jupyter.widget-view+json": {
       "model_id": "ab4e10c4836748b0b0537834bda576cd",
       "version_major": 2,
       "version_minor": 0
      },
      "text/plain": [
       "eval:   0%|          | 0/751 [00:00<?, ?batch/s]"
      ]
     },
     "metadata": {},
     "output_type": "display_data"
    },
    {
     "name": "stdout",
     "output_type": "stream",
     "text": [
      "Epoch 012\n",
      "TRAIN→ RMSE=0.26356 MAE=0.22461 R2=0.17670 | Acc=0.88854 Prec=0.47082 Rec=0.58647 F1=0.52232 AUROC=0.87680\n",
      "VALID→ RMSE=0.23951 MAE=0.19126 R2=0.30361 | Acc=0.73814 Prec=0.75273 Rec=0.13186 F1=0.22441 AUROC=0.74088\n"
     ]
    },
    {
     "data": {
      "application/vnd.jupyter.widget-view+json": {
       "model_id": "38a184b8d60d4da3a100e57dc36c2035",
       "version_major": 2,
       "version_minor": 0
      },
      "text/plain": [
       "Epoch 13:   0%|          | 0/60 [00:00<?, ?batch/s]"
      ]
     },
     "metadata": {},
     "output_type": "display_data"
    },
    {
     "data": {
      "application/vnd.jupyter.widget-view+json": {
       "model_id": "8dd270af935a43aeae7b43ebf93262f0",
       "version_major": 2,
       "version_minor": 0
      },
      "text/plain": [
       "eval:   0%|          | 0/751 [00:00<?, ?batch/s]"
      ]
     },
     "metadata": {},
     "output_type": "display_data"
    },
    {
     "name": "stdout",
     "output_type": "stream",
     "text": [
      "Epoch 013\n",
      "TRAIN→ RMSE=0.26155 MAE=0.22244 R2=0.18920 | Acc=0.88958 Prec=0.47637 Rec=0.63158 F1=0.54310 AUROC=0.88449\n",
      "VALID→ RMSE=0.23886 MAE=0.19154 R2=0.30739 | Acc=0.73969 Prec=0.74861 Rec=0.14145 F1=0.23794 AUROC=0.74187\n"
     ]
    },
    {
     "data": {
      "application/vnd.jupyter.widget-view+json": {
       "model_id": "3cad8550d5fd4fc59a98ea001b8066b6",
       "version_major": 2,
       "version_minor": 0
      },
      "text/plain": [
       "Epoch 14:   0%|          | 0/60 [00:00<?, ?batch/s]"
      ]
     },
     "metadata": {},
     "output_type": "display_data"
    },
    {
     "data": {
      "application/vnd.jupyter.widget-view+json": {
       "model_id": "45f8604db49a44438082e23fd2a9a1c7",
       "version_major": 2,
       "version_minor": 0
      },
      "text/plain": [
       "eval:   0%|          | 0/751 [00:00<?, ?batch/s]"
      ]
     },
     "metadata": {},
     "output_type": "display_data"
    },
    {
     "name": "stdout",
     "output_type": "stream",
     "text": [
      "Epoch 014\n",
      "TRAIN→ RMSE=0.26011 MAE=0.22110 R2=0.19810 | Acc=0.88750 Prec=0.47005 Rec=0.64912 F1=0.54526 AUROC=0.88768\n",
      "VALID→ RMSE=0.23849 MAE=0.19195 R2=0.30952 | Acc=0.74109 Prec=0.74166 Rec=0.15164 F1=0.25180 AUROC=0.74220\n"
     ]
    },
    {
     "data": {
      "application/vnd.jupyter.widget-view+json": {
       "model_id": "ca1ac5c5939446c2befe68cd9e5fa287",
       "version_major": 2,
       "version_minor": 0
      },
      "text/plain": [
       "Epoch 15:   0%|          | 0/60 [00:00<?, ?batch/s]"
      ]
     },
     "metadata": {},
     "output_type": "display_data"
    },
    {
     "data": {
      "application/vnd.jupyter.widget-view+json": {
       "model_id": "3c9148b452cc48f38303bbdde442ef8d",
       "version_major": 2,
       "version_minor": 0
      },
      "text/plain": [
       "eval:   0%|          | 0/751 [00:00<?, ?batch/s]"
      ]
     },
     "metadata": {},
     "output_type": "display_data"
    },
    {
     "name": "stdout",
     "output_type": "stream",
     "text": [
      "Epoch 015\n",
      "TRAIN→ RMSE=0.25867 MAE=0.21970 R2=0.20699 | Acc=0.88828 Prec=0.47312 Rec=0.66165 F1=0.55172 AUROC=0.89582\n",
      "VALID→ RMSE=0.23789 MAE=0.19116 R2=0.31300 | Acc=0.74225 Prec=0.73833 Rec=0.15931 F1=0.26207 AUROC=0.74243\n"
     ]
    },
    {
     "data": {
      "application/vnd.jupyter.widget-view+json": {
       "model_id": "40989beffe4145b5934c8637b9ec462a",
       "version_major": 2,
       "version_minor": 0
      },
      "text/plain": [
       "Epoch 16:   0%|          | 0/60 [00:00<?, ?batch/s]"
      ]
     },
     "metadata": {},
     "output_type": "display_data"
    },
    {
     "data": {
      "application/vnd.jupyter.widget-view+json": {
       "model_id": "b6a7c3ae382b4b9c8f1b7c63862394b6",
       "version_major": 2,
       "version_minor": 0
      },
      "text/plain": [
       "eval:   0%|          | 0/751 [00:00<?, ?batch/s]"
      ]
     },
     "metadata": {},
     "output_type": "display_data"
    }
   ],
   "source": [
    "importlib.reload(params.model_selected) #############\n",
    "\n",
    "# How many unique trading days does each epoch see?\n",
    "n_days = len(train_loader.dataset)\n",
    "print(f\"Training sees {n_days} unique trading days per epoch.\\n\")\n",
    "\n",
    "print('Using HyperParameters:\\n \"look_back\":', params.look_back_tick, params.hparams)\n",
    "\n",
    "# -----------------------------------------------------------------------------\n",
    "# Run the custom stateful training loop\n",
    "# -----------------------------------------------------------------------------\n",
    "best_val_rmse  = params.model_selected.model_training_loop(\n",
    "    model               = model,\n",
    "    optimizer           = optimizer,\n",
    "    cosine_sched        = cosine_sched,\n",
    "    plateau_sched       = plateau_sched,\n",
    "    scaler              = scaler,\n",
    "    train_loader        = train_loader,\n",
    "    val_loader          = val_loader,\n",
    "    max_epochs          = params.hparams['MAX_EPOCHS'],\n",
    "    early_stop_patience = params.hparams['EARLY_STOP_PATIENCE'],\n",
    "    clipnorm            = clipnorm,\n",
    "    device              = params.device,\n",
    "    cls_loss_weight     = params.hparams['CLS_LOSS_WEIGHT'],\n",
    "    smooth_alpha        = params.hparams['SMOOTH_ALPHA'],\n",
    "    smooth_beta         = params.hparams['SMOOTH_BETA'],\n",
    "    smooth_delta        = params.hparams['SMOOTH_DELTA'],\n",
    "    diff1_weight        = params.hparams['DIFF1_WEIGHT'],\n",
    "    diff2_weight        = params.hparams['DIFF2_WEIGHT'],\n",
    ")\n"
   ]
  },
  {
   "cell_type": "code",
   "execution_count": null,
   "id": "22b25c89-05c3-4a16-b013-97143f173e08",
   "metadata": {},
   "outputs": [],
   "source": [
    "# -----------------------------------------------------------------------------\n",
    "# Final reporting: best RMSE and relative improvement\n",
    "# -----------------------------------------------------------------------------\n",
    "print(f\"\\nChampion validation RMSE = {best_val_rmse:.6f}\")\n",
    "\n",
    "improvement_zero = 100.0 * (1.0 - best_val_rmse / rmse_zero_val)\n",
    "print(f\"Improvement over zero‐baseline = {improvement_zero:5.1f}%\")\n",
    "\n",
    "improvement_mean = 100.0 * (1.0 - best_val_rmse / rmse_mean_val)\n",
    "print(f\"Improvement over mean‐baseline = {improvement_mean:5.1f}%\")\n"
   ]
  },
  {
   "cell_type": "code",
   "execution_count": null,
   "id": "5935ccf4-d4ec-44de-827b-b520c8e76561",
   "metadata": {},
   "outputs": [],
   "source": []
  },
  {
   "cell_type": "code",
   "execution_count": null,
   "id": "099d6337-c4d3-4316-9f5d-3232276ba227",
   "metadata": {},
   "outputs": [],
   "source": []
  }
 ],
 "metadata": {
  "kernelspec": {
   "display_name": "Python 3 (ipykernel)",
   "language": "python",
   "name": "python3"
  },
  "language_info": {
   "codemirror_mode": {
    "name": "ipython",
    "version": 3
   },
   "file_extension": ".py",
   "mimetype": "text/x-python",
   "name": "python",
   "nbconvert_exporter": "python",
   "pygments_lexer": "ipython3",
   "version": "3.12.3"
  }
 },
 "nbformat": 4,
 "nbformat_minor": 5
}
