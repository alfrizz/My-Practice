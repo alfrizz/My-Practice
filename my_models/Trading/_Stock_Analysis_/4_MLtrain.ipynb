{
 "cells": [
  {
   "cell_type": "code",
   "execution_count": 1,
   "id": "fed6c184-8438-497e-8ae7-82cc35ac4819",
   "metadata": {},
   "outputs": [
    {
     "data": {
      "text/plain": [
       "<module 'libs.models_core' from '/workspace/my_models/Trading/_Stock_Analysis_/libs/models_core.py'>"
      ]
     },
     "execution_count": 1,
     "metadata": {},
     "output_type": "execute_result"
    }
   ],
   "source": [
    "%matplotlib inline\n",
    "\n",
    "\n",
    "# 1) Wipe out your namespace\n",
    "%reset -f\n",
    "\n",
    "# 2) Clear Jupyter’s stored outputs (and inputs if you like)\n",
    "try:\n",
    "    Out.clear()\n",
    "except NameError:\n",
    "    pass\n",
    "\n",
    "try:\n",
    "    In.clear()\n",
    "except NameError:\n",
    "    pass\n",
    "\n",
    "# 3) Force Python GC\n",
    "import gc\n",
    "gc.collect()\n",
    "\n",
    "# 4) Free any GPU buffers\n",
    "import torch\n",
    "if torch.cuda.is_available():\n",
    "    torch.cuda.empty_cache()\n",
    "\n",
    "\n",
    "import importlib\n",
    "from libs import params, trades, feats, plots, models_core\n",
    "importlib.reload(params)\n",
    "importlib.reload(trades)\n",
    "importlib.reload(feats)\n",
    "importlib.reload(plots)\n",
    "importlib.reload(models_core)"
   ]
  },
  {
   "cell_type": "code",
   "execution_count": 2,
   "id": "4c868158-e6bb-4d56-bbdd-8e8103f0b9e4",
   "metadata": {},
   "outputs": [],
   "source": [
    "import pandas as pd\n",
    "pd.set_option('display.max_columns', None)\n",
    "\n",
    "import numpy  as np\n",
    "import math\n",
    "import matplotlib.pyplot as plt\n",
    "\n",
    "import datetime as dt\n",
    "import os\n",
    "from typing import Sequence, List, Tuple, Optional, Union\n",
    "\n",
    "import torch.nn as nn\n",
    "import torch.nn.functional as Funct\n",
    "from torch_lr_finder import LRFinder\n",
    "from torch.utils.data import DataLoader, TensorDataset\n",
    "\n",
    "from tqdm import tqdm"
   ]
  },
  {
   "cell_type": "code",
   "execution_count": 3,
   "id": "7b98406a",
   "metadata": {},
   "outputs": [
    {
     "data": {
      "text/html": [
       "<div>\n",
       "<style scoped>\n",
       "    .dataframe tbody tr th:only-of-type {\n",
       "        vertical-align: middle;\n",
       "    }\n",
       "\n",
       "    .dataframe tbody tr th {\n",
       "        vertical-align: top;\n",
       "    }\n",
       "\n",
       "    .dataframe thead th {\n",
       "        text-align: right;\n",
       "    }\n",
       "</style>\n",
       "<table border=\"1\" class=\"dataframe\">\n",
       "  <thead>\n",
       "    <tr style=\"text-align: right;\">\n",
       "      <th></th>\n",
       "      <th>sma_pct_14</th>\n",
       "      <th>atr_pct_14</th>\n",
       "      <th>rsi_14</th>\n",
       "      <th>bb_w_20</th>\n",
       "      <th>plus_di_14</th>\n",
       "      <th>range_pct</th>\n",
       "      <th>eng_ma</th>\n",
       "      <th>minus_di_14</th>\n",
       "      <th>macd_diff_12_26_9</th>\n",
       "      <th>ret</th>\n",
       "      <th>eng_macd</th>\n",
       "      <th>macd_line_12_26_9</th>\n",
       "      <th>obv_diff_14</th>\n",
       "      <th>eng_atr_div</th>\n",
       "      <th>eng_adx</th>\n",
       "      <th>hour</th>\n",
       "      <th>adx_14</th>\n",
       "      <th>close_raw</th>\n",
       "      <th>signal</th>\n",
       "    </tr>\n",
       "  </thead>\n",
       "  <tbody>\n",
       "    <tr>\n",
       "      <th>2004-01-02 09:33:00</th>\n",
       "      <td>0.499798</td>\n",
       "      <td>0.000000</td>\n",
       "      <td>1.000000</td>\n",
       "      <td>0.000000</td>\n",
       "      <td>0.000000</td>\n",
       "      <td>0.000000</td>\n",
       "      <td>0.516453</td>\n",
       "      <td>0.000000</td>\n",
       "      <td>0.506696</td>\n",
       "      <td>0.499891</td>\n",
       "      <td>0.624765</td>\n",
       "      <td>0.489532</td>\n",
       "      <td>0.488177</td>\n",
       "      <td>0.353456</td>\n",
       "      <td>0.519392</td>\n",
       "      <td>1.002425</td>\n",
       "      <td>0.000000</td>\n",
       "      <td>0.764286</td>\n",
       "      <td>1.301415e-09</td>\n",
       "    </tr>\n",
       "    <tr>\n",
       "      <th>2004-01-02 09:34:00</th>\n",
       "      <td>0.499798</td>\n",
       "      <td>0.000000</td>\n",
       "      <td>1.000000</td>\n",
       "      <td>0.000000</td>\n",
       "      <td>0.000000</td>\n",
       "      <td>0.000000</td>\n",
       "      <td>0.516453</td>\n",
       "      <td>0.000000</td>\n",
       "      <td>0.506696</td>\n",
       "      <td>0.499891</td>\n",
       "      <td>0.624765</td>\n",
       "      <td>0.489532</td>\n",
       "      <td>0.488177</td>\n",
       "      <td>0.353456</td>\n",
       "      <td>0.519392</td>\n",
       "      <td>1.002425</td>\n",
       "      <td>0.000000</td>\n",
       "      <td>0.764286</td>\n",
       "      <td>1.405474e-09</td>\n",
       "    </tr>\n",
       "    <tr>\n",
       "      <th>2004-01-02 09:35:00</th>\n",
       "      <td>0.499798</td>\n",
       "      <td>0.000000</td>\n",
       "      <td>1.000000</td>\n",
       "      <td>0.000000</td>\n",
       "      <td>0.000000</td>\n",
       "      <td>0.000000</td>\n",
       "      <td>0.516453</td>\n",
       "      <td>0.000000</td>\n",
       "      <td>0.506696</td>\n",
       "      <td>0.499891</td>\n",
       "      <td>0.624765</td>\n",
       "      <td>0.489532</td>\n",
       "      <td>0.488177</td>\n",
       "      <td>0.353456</td>\n",
       "      <td>0.519392</td>\n",
       "      <td>1.002425</td>\n",
       "      <td>0.000000</td>\n",
       "      <td>0.764286</td>\n",
       "      <td>1.517855e-09</td>\n",
       "    </tr>\n",
       "    <tr>\n",
       "      <th>2004-01-02 09:36:00</th>\n",
       "      <td>0.499798</td>\n",
       "      <td>0.000000</td>\n",
       "      <td>1.000000</td>\n",
       "      <td>0.000000</td>\n",
       "      <td>0.000000</td>\n",
       "      <td>0.000000</td>\n",
       "      <td>0.516453</td>\n",
       "      <td>0.000000</td>\n",
       "      <td>0.506696</td>\n",
       "      <td>0.499891</td>\n",
       "      <td>0.624765</td>\n",
       "      <td>0.489532</td>\n",
       "      <td>0.488177</td>\n",
       "      <td>0.353456</td>\n",
       "      <td>0.519392</td>\n",
       "      <td>1.002425</td>\n",
       "      <td>0.000000</td>\n",
       "      <td>0.764286</td>\n",
       "      <td>1.639221e-09</td>\n",
       "    </tr>\n",
       "    <tr>\n",
       "      <th>2004-01-02 09:37:00</th>\n",
       "      <td>0.499798</td>\n",
       "      <td>0.000000</td>\n",
       "      <td>1.000000</td>\n",
       "      <td>0.000000</td>\n",
       "      <td>0.000000</td>\n",
       "      <td>0.000000</td>\n",
       "      <td>0.516453</td>\n",
       "      <td>0.000000</td>\n",
       "      <td>0.506696</td>\n",
       "      <td>0.499891</td>\n",
       "      <td>0.624765</td>\n",
       "      <td>0.489532</td>\n",
       "      <td>0.488177</td>\n",
       "      <td>0.353456</td>\n",
       "      <td>0.519392</td>\n",
       "      <td>1.002425</td>\n",
       "      <td>0.000000</td>\n",
       "      <td>0.764286</td>\n",
       "      <td>1.770291e-09</td>\n",
       "    </tr>\n",
       "    <tr>\n",
       "      <th>...</th>\n",
       "      <td>...</td>\n",
       "      <td>...</td>\n",
       "      <td>...</td>\n",
       "      <td>...</td>\n",
       "      <td>...</td>\n",
       "      <td>...</td>\n",
       "      <td>...</td>\n",
       "      <td>...</td>\n",
       "      <td>...</td>\n",
       "      <td>...</td>\n",
       "      <td>...</td>\n",
       "      <td>...</td>\n",
       "      <td>...</td>\n",
       "      <td>...</td>\n",
       "      <td>...</td>\n",
       "      <td>...</td>\n",
       "      <td>...</td>\n",
       "      <td>...</td>\n",
       "      <td>...</td>\n",
       "    </tr>\n",
       "    <tr>\n",
       "      <th>2025-06-18 20:56:00</th>\n",
       "      <td>0.751690</td>\n",
       "      <td>0.323886</td>\n",
       "      <td>0.672166</td>\n",
       "      <td>0.273759</td>\n",
       "      <td>0.363125</td>\n",
       "      <td>0.254109</td>\n",
       "      <td>0.532431</td>\n",
       "      <td>0.074852</td>\n",
       "      <td>0.888941</td>\n",
       "      <td>0.642346</td>\n",
       "      <td>0.634772</td>\n",
       "      <td>0.971125</td>\n",
       "      <td>1.000000</td>\n",
       "      <td>0.664288</td>\n",
       "      <td>0.537709</td>\n",
       "      <td>-0.975989</td>\n",
       "      <td>0.301944</td>\n",
       "      <td>196.815000</td>\n",
       "      <td>6.849078e-01</td>\n",
       "    </tr>\n",
       "    <tr>\n",
       "      <th>2025-06-18 20:57:00</th>\n",
       "      <td>0.650094</td>\n",
       "      <td>0.336016</td>\n",
       "      <td>0.616686</td>\n",
       "      <td>0.290460</td>\n",
       "      <td>0.347207</td>\n",
       "      <td>0.420131</td>\n",
       "      <td>0.532016</td>\n",
       "      <td>0.067044</td>\n",
       "      <td>0.840741</td>\n",
       "      <td>0.340442</td>\n",
       "      <td>0.633511</td>\n",
       "      <td>0.981544</td>\n",
       "      <td>0.000000</td>\n",
       "      <td>0.676887</td>\n",
       "      <td>0.541855</td>\n",
       "      <td>-0.975989</td>\n",
       "      <td>0.328685</td>\n",
       "      <td>196.675000</td>\n",
       "      <td>6.122057e-01</td>\n",
       "    </tr>\n",
       "    <tr>\n",
       "      <th>2025-06-18 20:58:00</th>\n",
       "      <td>0.631153</td>\n",
       "      <td>0.322169</td>\n",
       "      <td>0.614734</td>\n",
       "      <td>0.304199</td>\n",
       "      <td>0.336272</td>\n",
       "      <td>0.121620</td>\n",
       "      <td>0.531618</td>\n",
       "      <td>0.064933</td>\n",
       "      <td>0.777896</td>\n",
       "      <td>0.494192</td>\n",
       "      <td>0.631866</td>\n",
       "      <td>0.983006</td>\n",
       "      <td>0.000000</td>\n",
       "      <td>0.584662</td>\n",
       "      <td>0.545337</td>\n",
       "      <td>-0.975989</td>\n",
       "      <td>0.353515</td>\n",
       "      <td>196.670000</td>\n",
       "      <td>6.104678e-01</td>\n",
       "    </tr>\n",
       "    <tr>\n",
       "      <th>2025-06-18 20:59:00</th>\n",
       "      <td>0.375519</td>\n",
       "      <td>0.346959</td>\n",
       "      <td>0.475401</td>\n",
       "      <td>0.305249</td>\n",
       "      <td>0.290578</td>\n",
       "      <td>0.565110</td>\n",
       "      <td>0.531157</td>\n",
       "      <td>0.160021</td>\n",
       "      <td>0.456523</td>\n",
       "      <td>0.009795</td>\n",
       "      <td>0.623450</td>\n",
       "      <td>0.884486</td>\n",
       "      <td>0.000000</td>\n",
       "      <td>0.645760</td>\n",
       "      <td>0.531521</td>\n",
       "      <td>-0.975989</td>\n",
       "      <td>0.348960</td>\n",
       "      <td>196.240000</td>\n",
       "      <td>4.770902e-01</td>\n",
       "    </tr>\n",
       "    <tr>\n",
       "      <th>2025-06-18 21:00:00</th>\n",
       "      <td>0.535073</td>\n",
       "      <td>0.374297</td>\n",
       "      <td>0.551738</td>\n",
       "      <td>0.303059</td>\n",
       "      <td>0.249733</td>\n",
       "      <td>0.630630</td>\n",
       "      <td>0.531913</td>\n",
       "      <td>0.176984</td>\n",
       "      <td>0.422962</td>\n",
       "      <td>0.842567</td>\n",
       "      <td>0.622570</td>\n",
       "      <td>0.868408</td>\n",
       "      <td>1.000000</td>\n",
       "      <td>0.708780</td>\n",
       "      <td>0.525575</td>\n",
       "      <td>-0.993518</td>\n",
       "      <td>0.336212</td>\n",
       "      <td>196.540000</td>\n",
       "      <td>3.509684e-01</td>\n",
       "    </tr>\n",
       "  </tbody>\n",
       "</table>\n",
       "<p>3715200 rows × 19 columns</p>\n",
       "</div>"
      ],
      "text/plain": [
       "                     sma_pct_14  atr_pct_14    rsi_14   bb_w_20  plus_di_14  \\\n",
       "2004-01-02 09:33:00    0.499798    0.000000  1.000000  0.000000    0.000000   \n",
       "2004-01-02 09:34:00    0.499798    0.000000  1.000000  0.000000    0.000000   \n",
       "2004-01-02 09:35:00    0.499798    0.000000  1.000000  0.000000    0.000000   \n",
       "2004-01-02 09:36:00    0.499798    0.000000  1.000000  0.000000    0.000000   \n",
       "2004-01-02 09:37:00    0.499798    0.000000  1.000000  0.000000    0.000000   \n",
       "...                         ...         ...       ...       ...         ...   \n",
       "2025-06-18 20:56:00    0.751690    0.323886  0.672166  0.273759    0.363125   \n",
       "2025-06-18 20:57:00    0.650094    0.336016  0.616686  0.290460    0.347207   \n",
       "2025-06-18 20:58:00    0.631153    0.322169  0.614734  0.304199    0.336272   \n",
       "2025-06-18 20:59:00    0.375519    0.346959  0.475401  0.305249    0.290578   \n",
       "2025-06-18 21:00:00    0.535073    0.374297  0.551738  0.303059    0.249733   \n",
       "\n",
       "                     range_pct    eng_ma  minus_di_14  macd_diff_12_26_9  \\\n",
       "2004-01-02 09:33:00   0.000000  0.516453     0.000000           0.506696   \n",
       "2004-01-02 09:34:00   0.000000  0.516453     0.000000           0.506696   \n",
       "2004-01-02 09:35:00   0.000000  0.516453     0.000000           0.506696   \n",
       "2004-01-02 09:36:00   0.000000  0.516453     0.000000           0.506696   \n",
       "2004-01-02 09:37:00   0.000000  0.516453     0.000000           0.506696   \n",
       "...                        ...       ...          ...                ...   \n",
       "2025-06-18 20:56:00   0.254109  0.532431     0.074852           0.888941   \n",
       "2025-06-18 20:57:00   0.420131  0.532016     0.067044           0.840741   \n",
       "2025-06-18 20:58:00   0.121620  0.531618     0.064933           0.777896   \n",
       "2025-06-18 20:59:00   0.565110  0.531157     0.160021           0.456523   \n",
       "2025-06-18 21:00:00   0.630630  0.531913     0.176984           0.422962   \n",
       "\n",
       "                          ret  eng_macd  macd_line_12_26_9  obv_diff_14  \\\n",
       "2004-01-02 09:33:00  0.499891  0.624765           0.489532     0.488177   \n",
       "2004-01-02 09:34:00  0.499891  0.624765           0.489532     0.488177   \n",
       "2004-01-02 09:35:00  0.499891  0.624765           0.489532     0.488177   \n",
       "2004-01-02 09:36:00  0.499891  0.624765           0.489532     0.488177   \n",
       "2004-01-02 09:37:00  0.499891  0.624765           0.489532     0.488177   \n",
       "...                       ...       ...                ...          ...   \n",
       "2025-06-18 20:56:00  0.642346  0.634772           0.971125     1.000000   \n",
       "2025-06-18 20:57:00  0.340442  0.633511           0.981544     0.000000   \n",
       "2025-06-18 20:58:00  0.494192  0.631866           0.983006     0.000000   \n",
       "2025-06-18 20:59:00  0.009795  0.623450           0.884486     0.000000   \n",
       "2025-06-18 21:00:00  0.842567  0.622570           0.868408     1.000000   \n",
       "\n",
       "                     eng_atr_div   eng_adx      hour    adx_14   close_raw  \\\n",
       "2004-01-02 09:33:00     0.353456  0.519392  1.002425  0.000000    0.764286   \n",
       "2004-01-02 09:34:00     0.353456  0.519392  1.002425  0.000000    0.764286   \n",
       "2004-01-02 09:35:00     0.353456  0.519392  1.002425  0.000000    0.764286   \n",
       "2004-01-02 09:36:00     0.353456  0.519392  1.002425  0.000000    0.764286   \n",
       "2004-01-02 09:37:00     0.353456  0.519392  1.002425  0.000000    0.764286   \n",
       "...                          ...       ...       ...       ...         ...   \n",
       "2025-06-18 20:56:00     0.664288  0.537709 -0.975989  0.301944  196.815000   \n",
       "2025-06-18 20:57:00     0.676887  0.541855 -0.975989  0.328685  196.675000   \n",
       "2025-06-18 20:58:00     0.584662  0.545337 -0.975989  0.353515  196.670000   \n",
       "2025-06-18 20:59:00     0.645760  0.531521 -0.975989  0.348960  196.240000   \n",
       "2025-06-18 21:00:00     0.708780  0.525575 -0.993518  0.336212  196.540000   \n",
       "\n",
       "                           signal  \n",
       "2004-01-02 09:33:00  1.301415e-09  \n",
       "2004-01-02 09:34:00  1.405474e-09  \n",
       "2004-01-02 09:35:00  1.517855e-09  \n",
       "2004-01-02 09:36:00  1.639221e-09  \n",
       "2004-01-02 09:37:00  1.770291e-09  \n",
       "...                           ...  \n",
       "2025-06-18 20:56:00  6.849078e-01  \n",
       "2025-06-18 20:57:00  6.122057e-01  \n",
       "2025-06-18 20:58:00  6.104678e-01  \n",
       "2025-06-18 20:59:00  4.770902e-01  \n",
       "2025-06-18 21:00:00  3.509684e-01  \n",
       "\n",
       "[3715200 rows x 19 columns]"
      ]
     },
     "execution_count": 3,
     "metadata": {},
     "output_type": "execute_result"
    }
   ],
   "source": [
    "df_feat_sel = pd.read_csv(params.feat_all_csv, index_col=0, parse_dates=True)[params.features_cols_tick + ['close_raw'] + [params.label_col]]\n",
    "    \n",
    "df_feat_sel"
   ]
  },
  {
   "cell_type": "code",
   "execution_count": 4,
   "id": "e5a8d933-8402-45de-a838-4335b2a37d48",
   "metadata": {},
   "outputs": [
    {
     "name": "stdout",
     "output_type": "stream",
     "text": [
      "Inside build_tensors, features: ['sma_pct_14', 'atr_pct_14', 'rsi_14', 'bb_w_20', 'plus_di_14', 'range_pct', 'eng_ma', 'minus_di_14', 'macd_diff_12_26_9', 'ret', 'eng_macd', 'macd_line_12_26_9', 'obv_diff_14', 'eng_atr_div', 'eng_adx', 'hour', 'adx_14']\n"
     ]
    },
    {
     "data": {
      "application/vnd.jupyter.widget-view+json": {
       "model_id": "7a8aa4b6000941c2b0dbac6138329076",
       "version_major": 2,
       "version_minor": 0
      },
      "text/plain": [
       "Preparing days:   0%|          | 0/5400 [00:00<?, ?it/s]"
      ]
     },
     "metadata": {},
     "output_type": "display_data"
    },
    {
     "data": {
      "application/vnd.jupyter.widget-view+json": {
       "model_id": "4b13202cc5f841859b971432f21b2af4",
       "version_major": 2,
       "version_minor": 0
      },
      "text/plain": [
       "Writing days:   0%|          | 0/5400 [00:00<?, ?it/s]"
      ]
     },
     "metadata": {},
     "output_type": "display_data"
    },
    {
     "data": {
      "application/vnd.jupyter.widget-view+json": {
       "model_id": "020245e891b84f26bfb63df127ae1c32",
       "version_major": 2,
       "version_minor": 0
      },
      "text/plain": [
       "Creating DayWindowDatasets:   0%|          | 0/3 [00:00<?, ?split/s]"
      ]
     },
     "metadata": {},
     "output_type": "display_data"
    },
    {
     "name": "stdout",
     "output_type": "stream",
     "text": [
      "--- TRAIN ---\n",
      " calendar days : 3840  (2004-01-02 → 2019-04-04)\n",
      " windows       : 1731840  (per-day min=451, max=451, mean=451.0)\n",
      " window shape  : look_back=60, n_features=17\n",
      " dataloader    : batches= 60, batch_size=64, workers=12, pin_memory=True\n",
      "\n",
      "--- VAL ---\n",
      " calendar days : 751  (2019-04-05 → 2022-03-28)\n",
      " windows       : 338701  (per-day min=451, max=451, mean=451.0)\n",
      " window shape  : look_back=60, n_features=17\n",
      " dataloader    : batches=751, batch_size=1, workers=0, pin_memory=True\n",
      "\n",
      "--- TEST ---\n",
      " calendar days : 809  (2022-03-29 → 2025-06-18)\n",
      " windows       : 364859  (per-day min=451, max=451, mean=451.0)\n",
      " window shape  : look_back=60, n_features=17\n",
      " dataloader    : batches=809, batch_size=1, workers=0, pin_memory=True\n",
      "\n"
     ]
    }
   ],
   "source": [
    "train_loader, val_loader, test_loader, end_times_tr, end_times_val, end_times_te = models_core.model_core_pipeline(\n",
    "    df             = df_feat_sel,\n",
    "    look_back      = params.look_back_tick,\n",
    "    sess_start     = params.sess_start_pred_tick,\n",
    "    train_prop     = params.train_prop,\n",
    "    val_prop       = params.val_prop,\n",
    "    train_batch    = params.hparams[\"TRAIN_BATCH\"],\n",
    "    num_workers    = params.hparams[\"NUM_WORKERS\"],\n",
    "    prefetch_factor= params.hparams[\"TRAIN_PREFETCH_FACTOR\"],\n",
    "    signal_thresh  = params.best_optuna_params[\"buy_threshold\"],\n",
    "    return_thresh  = params.return_threshold_tick\n",
    ")\n",
    "\n",
    "for name, ld, tm in zip(\n",
    "    [\"train\",\"val\",\"test\"],\n",
    "    [train_loader, val_loader, test_loader],\n",
    "    [end_times_tr, end_times_val, end_times_te]\n",
    "):\n",
    "    models_core.summarize_split(name, ld, tm)"
   ]
  },
  {
   "cell_type": "code",
   "execution_count": 5,
   "id": "eeec031f-6c8f-455f-9c72-ae411e03ba34",
   "metadata": {},
   "outputs": [
    {
     "data": {
      "text/plain": [
       "ModelClass(\n",
       "  (conv): Conv1d(17, 17, kernel_size=(3,), stride=(1,), padding=(1,))\n",
       "  (bn): BatchNorm1d(17, eps=1e-05, momentum=0.1, affine=True, track_running_stats=True)\n",
       "  (short_lstm): LSTM(17, 64, batch_first=True, bidirectional=True)\n",
       "  (ln_short): LayerNorm((128,), eps=1e-05, elementwise_affine=True)\n",
       "  (do_short): Dropout(p=0.25, inplace=False)\n",
       "  (short2long): Linear(in_features=128, out_features=128, bias=True)\n",
       "  (ln_long): LayerNorm((128,), eps=1e-05, elementwise_affine=True)\n",
       "  (do_long): Dropout(p=0.35, inplace=False)\n",
       "  (pred): Linear(in_features=128, out_features=1, bias=True)\n",
       ")"
      ]
     },
     "execution_count": 5,
     "metadata": {},
     "output_type": "execute_result"
    }
   ],
   "source": [
    "# -----------------------------------------------------------------------------\n",
    "# Instantiate the ModelClass & move to device\n",
    "# -----------------------------------------------------------------------------\n",
    "\n",
    "model = params.model_selected.ModelClass(\n",
    "    n_feats          = len(params.features_cols_tick),                          \n",
    "    short_units      = params.hparams['SHORT_UNITS'],    \n",
    "    long_units       = params.hparams['LONG_UNITS'],     \n",
    "    dropout_short    = params.hparams['DROPOUT_SHORT'],  \n",
    "    dropout_long     = params.hparams['DROPOUT_LONG'],   \n",
    "    att_heads        = params.hparams['ATT_HEADS'],\n",
    "    att_drop         = params.hparams['ATT_DROPOUT'],\n",
    "    conv_k           = params.hparams['CONV_K'],\n",
    "    conv_dilation    = params.hparams['CONV_DILATION'],\n",
    "    # smooth_k         = params.hparams['SMOOTH_K'],\n",
    "    # smooth_dilation  = params.hparams['SMOOTH_DILATION']\n",
    ")\n",
    "model.to(params.device)  \n",
    "\n",
    "model"
   ]
  },
  {
   "cell_type": "code",
   "execution_count": 6,
   "id": "5512a0dd-d2c8-418e-bfca-4580fb4be995",
   "metadata": {},
   "outputs": [
    {
     "data": {
      "text/plain": [
       "AdamW (\n",
       "Parameter Group 0\n",
       "    amsgrad: False\n",
       "    betas: (0.9, 0.999)\n",
       "    capturable: False\n",
       "    decoupled_weight_decay: True\n",
       "    differentiable: False\n",
       "    eps: 1e-08\n",
       "    foreach: None\n",
       "    fused: None\n",
       "    initial_lr: 0.0001\n",
       "    lr: 0.0001\n",
       "    maximize: False\n",
       "    weight_decay: 5e-05\n",
       ")"
      ]
     },
     "execution_count": 6,
     "metadata": {},
     "output_type": "execute_result"
    }
   ],
   "source": [
    "# -----------------------------------------------------------------------------\n",
    "# Build optimizer, LR scheduler, AMP scaler, and gradient‐clip norm\n",
    "# -----------------------------------------------------------------------------\n",
    "optimizer, plateau_sched, cosine_sched, scaler, clipnorm = models_core.make_optimizer_and_scheduler(\n",
    "    model,\n",
    "    initial_lr        = params.hparams['INITIAL_LR'],       \n",
    "    weight_decay      = params.hparams['WEIGHT_DECAY'],     \n",
    "    clipnorm          = params.hparams['CLIPNORM']   \n",
    ")\n",
    "\n",
    "optimizer"
   ]
  },
  {
   "cell_type": "code",
   "execution_count": 7,
   "id": "e9c5fc27-f31d-4adc-a247-5468674f83fc",
   "metadata": {},
   "outputs": [
    {
     "name": "stdout",
     "output_type": "stream",
     "text": [
      "Zero‐forecast RMSE (predict 0): train = 0.405952,  val = 0.409382\n",
      "\n",
      "Train target stats:\n",
      "  mean = 0.2836,  var = 0.0844,  std = 0.2905\n",
      "Train mean‐predictor baseline:\n",
      "  RMSE_baseline = 0.290471\n",
      "  R²_baseline   = 0.00\n",
      "\n",
      "Validation target stats:\n",
      "  mean = 0.2919,  var = 0.0824,  std = 0.2870\n",
      "Validation mean‐predictor baseline:\n",
      "  RMSE_baseline = 0.287012\n",
      "  R²_baseline   = 0.00\n",
      "\n"
     ]
    }
   ],
   "source": [
    "# -----------------------------------------------------------------------------\n",
    "# Helper: extract the true “signal” values from any loader into a flat array\n",
    "# -----------------------------------------------------------------------------\n",
    "def extract_y(loader):\n",
    "    return np.concatenate([batch[1].cpu().numpy().ravel() for batch in loader])\n",
    "\n",
    "# Pull out train & validation targets\n",
    "y_train = extract_y(train_loader)\n",
    "y_val   = extract_y(val_loader)\n",
    "\n",
    "# -----------------------------------------------------------------------------\n",
    "# 1) Zero‐forecast baseline RMSE (predict 0 always)\n",
    "#    RMSE_zero = √(mean(y²))\n",
    "# -----------------------------------------------------------------------------\n",
    "rmse_zero_train = np.sqrt(np.mean(y_train**2))\n",
    "rmse_zero_val   = np.sqrt(np.mean(y_val**2))\n",
    "print(f\"Zero‐forecast RMSE (predict 0): train = {rmse_zero_train:.6f},  val = {rmse_zero_val:.6f}\\n\")\n",
    "\n",
    "# -----------------------------------------------------------------------------\n",
    "# 2) Compute mean, variance & std for train/validation targets\n",
    "#    and derive the mean‐predictor baseline (R² = 0)\n",
    "# -----------------------------------------------------------------------------\n",
    "for split, y in [(\"Train\", y_train), (\"Validation\", y_val)]:\n",
    "    mean_y    = y.mean()\n",
    "    std_y     = y.std(ddof=0)     # population std = √variance\n",
    "    var_y     = std_y**2\n",
    "    rmse_mean = std_y            # RMSE_baseline = std(target)\n",
    "\n",
    "    print(f\"{split} target stats:\")\n",
    "    print(f\"  mean = {mean_y:.4f},  var = {var_y:.4f},  std = {std_y:.4f}\")\n",
    "    print(f\"{split} mean‐predictor baseline:\")\n",
    "    print(f\"  RMSE_baseline = {rmse_mean:.6f}\")\n",
    "    print(\"  R²_baseline   = 0.00\\n\")\n",
    "\n",
    "    if split == \"Validation\":\n",
    "        rmse_mean_val = rmse_mean # used afterwards for the final reporting\n",
    "        \n"
   ]
  },
  {
   "cell_type": "code",
   "execution_count": 8,
   "id": "a8f7ec8c-5882-486b-bdfd-371b8db260f9",
   "metadata": {},
   "outputs": [
    {
     "data": {
      "image/png": "[encoded data removed]",
      "text/plain": [
       "<Figure size 640x480 with 1 Axes>"
      ]
     },
     "metadata": {},
     "output_type": "display_data"
    }
   ],
   "source": [
    "# Visualize the true‐signal distributions on train vs. validation\n",
    "plt.hist(y_train, bins=100, alpha=0.5, label=\"train true\")\n",
    "plt.hist(y_val,   bins=100, alpha=0.5, label=\"val true\")\n",
    "plt.xlabel(\"Signal value\")\n",
    "plt.ylabel(\"Count\")\n",
    "plt.title(\"True Signal Distribution: Train vs. Validation\")\n",
    "plt.legend()\n",
    "plt.tight_layout()\n",
    "plt.show()\n"
   ]
  },
  {
   "cell_type": "code",
   "execution_count": 9,
   "id": "7bf94780-a876-4bf4-ad27-6abc2da1fc0a",
   "metadata": {},
   "outputs": [
    {
     "name": "stdout",
     "output_type": "stream",
     "text": [
      "Training sees 3840 unique trading days per epoch.\n",
      "\n",
      "Using HyperParameters:\n",
      " \"look_back\": 60 {'SHORT_UNITS': 128, 'LONG_UNITS': 128, 'DROPOUT_SHORT': 0.25, 'DROPOUT_LONG': 0.35, 'ATT_HEADS': 6, 'ATT_DROPOUT': 0.15, 'CONV_K': 3, 'CONV_DILATION': 1, 'SMOOTH_K': 3, 'SMOOTH_DILATION': 1, 'DIFF1_WEIGHT': 1.0, 'DIFF2_WEIGHT': 2, 'SMOOTH_ALPHA': 0.05, 'SMOOTH_BETA': 100, 'SMOOTH_DELTA': 0.02, 'CLS_LOSS_WEIGHT': 0.1, 'LR_EPOCHS_WARMUP': 1, 'INITIAL_LR': 0.0001, 'WEIGHT_DECAY': 5e-05, 'CLIPNORM': 1, 'ETA_MIN': 1e-06, 'T_0': 100, 'T_MULT': 1, 'TRAIN_BATCH': 64, 'VAL_BATCH': 1, 'NUM_WORKERS': 12, 'TRAIN_PREFETCH_FACTOR': 4, 'MAX_EPOCHS': 100, 'EARLY_STOP_PATIENCE': 7, 'PLATEAU_FACTOR': 0.9, 'PLATEAU_PATIENCE': 0, 'MIN_LR': 1e-06, 'PLAT_EPOCHS_WARMUP': 999}\n"
     ]
    },
    {
     "data": {
      "image/png": "[encoded data removed]",
      "text/plain": [
       "<Figure size 660x440 with 1 Axes>"
      ]
     },
     "metadata": {},
     "output_type": "display_data"
    },
    {
     "data": {
      "application/vnd.jupyter.widget-view+json": {
       "model_id": "ad1ed22682ba4b9a9c3ca896f8f39899",
       "version_major": 2,
       "version_minor": 0
      },
      "text/plain": [
       "Epoch 1:   0%|          | 0/60 [00:00<?, ?batch/s]"
      ]
     },
     "metadata": {},
     "output_type": "display_data"
    },
    {
     "data": {
      "application/vnd.jupyter.widget-view+json": {
       "model_id": "d830cae2e83a449c9430befed9fd80cb",
       "version_major": 2,
       "version_minor": 0
      },
      "text/plain": [
       "eval:   0%|          | 0/751 [00:00<?, ?batch/s]"
      ]
     },
     "metadata": {},
     "output_type": "display_data"
    },
    {
     "name": "stdout",
     "output_type": "stream",
     "text": [
      "Epoch 001\n",
      "TRAIN→ RMSE=0.29621 MAE=0.22504 R2=-0.03993 | Acc=0.72337 Prec=0.00000 Rec=0.00000 F1=0.00000 AUROC=0.50000 | T_ACC=0.33333 T_P=0.00004 T_R=0.33333 T_F1=0.00007 T_AUC=0.50000\n",
      "VALID→ RMSE=0.26985 MAE=0.18373 R2=0.11601 | Acc=0.71270 Prec=0.00000 Rec=0.00000 F1=0.00000 AUROC=0.50000 | T_ACC=0.33333 T_P=0.00004 T_R=0.33333 T_F1=0.00007 T_AUC=0.50000\n"
     ]
    },
    {
     "data": {
      "application/vnd.jupyter.widget-view+json": {
       "model_id": "8ff12b6ec6c6485d97d78eeeade8be5a",
       "version_major": 2,
       "version_minor": 0
      },
      "text/plain": [
       "Epoch 2:   0%|          | 0/60 [00:00<?, ?batch/s]"
      ]
     },
     "metadata": {},
     "output_type": "display_data"
    },
    {
     "data": {
      "application/vnd.jupyter.widget-view+json": {
       "model_id": "a14408f788f44d18a0f6400a41591674",
       "version_major": 2,
       "version_minor": 0
      },
      "text/plain": [
       "eval:   0%|          | 0/751 [00:00<?, ?batch/s]"
      ]
     },
     "metadata": {},
     "output_type": "display_data"
    },
    {
     "name": "stdout",
     "output_type": "stream",
     "text": [
      "Epoch 002\n",
      "TRAIN→ RMSE=0.28373 MAE=0.21144 R2=0.04585 | Acc=0.72337 Prec=0.00000 Rec=0.00000 F1=0.00000 AUROC=0.50000 | T_ACC=0.33333 T_P=0.00004 T_R=0.33333 T_F1=0.00007 T_AUC=0.50000\n",
      "VALID→ RMSE=0.26203 MAE=0.18216 R2=0.16651 | Acc=0.71270 Prec=0.00000 Rec=0.00000 F1=0.00000 AUROC=0.50000 | T_ACC=0.33333 T_P=0.00004 T_R=0.33333 T_F1=0.00007 T_AUC=0.50000\n"
     ]
    },
    {
     "data": {
      "application/vnd.jupyter.widget-view+json": {
       "model_id": "70652e86db2b41978bdd26f2881e34bb",
       "version_major": 2,
       "version_minor": 0
      },
      "text/plain": [
       "Epoch 3:   0%|          | 0/60 [00:00<?, ?batch/s]"
      ]
     },
     "metadata": {},
     "output_type": "display_data"
    },
    {
     "data": {
      "application/vnd.jupyter.widget-view+json": {
       "model_id": "2d0863298d1f4e7e9e7009605a7ea7dc",
       "version_major": 2,
       "version_minor": 0
      },
      "text/plain": [
       "eval:   0%|          | 0/751 [00:00<?, ?batch/s]"
      ]
     },
     "metadata": {},
     "output_type": "display_data"
    },
    {
     "name": "stdout",
     "output_type": "stream",
     "text": [
      "Epoch 003\n",
      "TRAIN→ RMSE=0.27643 MAE=0.20740 R2=0.09432 | Acc=0.72337 Prec=0.00000 Rec=0.00000 F1=0.00000 AUROC=0.50000 | T_ACC=0.33333 T_P=0.00004 T_R=0.33333 T_F1=0.00007 T_AUC=0.50000\n",
      "VALID→ RMSE=0.25835 MAE=0.18248 R2=0.18977 | Acc=0.71270 Prec=0.00000 Rec=0.00000 F1=0.00000 AUROC=0.50000 | T_ACC=0.33333 T_P=0.00004 T_R=0.33333 T_F1=0.00007 T_AUC=0.50000\n"
     ]
    },
    {
     "data": {
      "application/vnd.jupyter.widget-view+json": {
       "model_id": "70f5576a07704e819bf35a99a7514788",
       "version_major": 2,
       "version_minor": 0
      },
      "text/plain": [
       "Epoch 4:   0%|          | 0/60 [00:00<?, ?batch/s]"
      ]
     },
     "metadata": {},
     "output_type": "display_data"
    },
    {
     "data": {
      "application/vnd.jupyter.widget-view+json": {
       "model_id": "2e0f07c4b9374aa2bceb02f62008164f",
       "version_major": 2,
       "version_minor": 0
      },
      "text/plain": [
       "eval:   0%|          | 0/751 [00:00<?, ?batch/s]"
      ]
     },
     "metadata": {},
     "output_type": "display_data"
    },
    {
     "name": "stdout",
     "output_type": "stream",
     "text": [
      "Epoch 004\n",
      "TRAIN→ RMSE=0.27138 MAE=0.20465 R2=0.12713 | Acc=0.72337 Prec=0.00000 Rec=0.00000 F1=0.00000 AUROC=0.50000 | T_ACC=0.33333 T_P=0.00004 T_R=0.33333 T_F1=0.00007 T_AUC=0.50000\n",
      "VALID→ RMSE=0.25598 MAE=0.18329 R2=0.20455 | Acc=0.71270 Prec=0.00000 Rec=0.00000 F1=0.00000 AUROC=0.50000 | T_ACC=0.33333 T_P=0.00004 T_R=0.33333 T_F1=0.00007 T_AUC=0.50000\n"
     ]
    },
    {
     "data": {
      "application/vnd.jupyter.widget-view+json": {
       "model_id": "7ea0323c98ef4ef19e8adb17834ef3dc",
       "version_major": 2,
       "version_minor": 0
      },
      "text/plain": [
       "Epoch 5:   0%|          | 0/60 [00:00<?, ?batch/s]"
      ]
     },
     "metadata": {},
     "output_type": "display_data"
    },
    {
     "data": {
      "application/vnd.jupyter.widget-view+json": {
       "model_id": "8a67f722b2f84de395fc707b7ca35862",
       "version_major": 2,
       "version_minor": 0
      },
      "text/plain": [
       "eval:   0%|          | 0/751 [00:00<?, ?batch/s]"
      ]
     },
     "metadata": {},
     "output_type": "display_data"
    },
    {
     "name": "stdout",
     "output_type": "stream",
     "text": [
      "Epoch 005\n",
      "TRAIN→ RMSE=0.26758 MAE=0.20251 R2=0.15142 | Acc=0.72337 Prec=0.00000 Rec=0.00000 F1=0.00000 AUROC=0.50000 | T_ACC=0.33333 T_P=0.00004 T_R=0.33333 T_F1=0.00007 T_AUC=0.50000\n",
      "VALID→ RMSE=0.25437 MAE=0.18427 R2=0.21450 | Acc=0.71270 Prec=0.00000 Rec=0.00000 F1=0.00000 AUROC=0.50000 | T_ACC=0.33333 T_P=0.00004 T_R=0.33333 T_F1=0.00007 T_AUC=0.50000\n"
     ]
    },
    {
     "data": {
      "application/vnd.jupyter.widget-view+json": {
       "model_id": "7fd26e961c4b474a90bd6f8597f30982",
       "version_major": 2,
       "version_minor": 0
      },
      "text/plain": [
       "Epoch 6:   0%|          | 0/60 [00:00<?, ?batch/s]"
      ]
     },
     "metadata": {},
     "output_type": "display_data"
    },
    {
     "data": {
      "application/vnd.jupyter.widget-view+json": {
       "model_id": "8fa4eb96b32745419082c21047d6b5ac",
       "version_major": 2,
       "version_minor": 0
      },
      "text/plain": [
       "eval:   0%|          | 0/751 [00:00<?, ?batch/s]"
      ]
     },
     "metadata": {},
     "output_type": "display_data"
    },
    {
     "name": "stdout",
     "output_type": "stream",
     "text": [
      "Epoch 006\n",
      "TRAIN→ RMSE=0.26464 MAE=0.20072 R2=0.16997 | Acc=0.72337 Prec=0.00000 Rec=0.00000 F1=0.00000 AUROC=0.50000 | T_ACC=0.33333 T_P=0.00004 T_R=0.33333 T_F1=0.00007 T_AUC=0.50000\n",
      "VALID→ RMSE=0.25315 MAE=0.18536 R2=0.22205 | Acc=0.71270 Prec=0.00000 Rec=0.00000 F1=0.00000 AUROC=0.50000 | T_ACC=0.33333 T_P=0.00004 T_R=0.33333 T_F1=0.00007 T_AUC=0.50000\n"
     ]
    },
    {
     "data": {
      "application/vnd.jupyter.widget-view+json": {
       "model_id": "841f8c17352d4eb5b7772e3ba62e8205",
       "version_major": 2,
       "version_minor": 0
      },
      "text/plain": [
       "Epoch 7:   0%|          | 0/60 [00:00<?, ?batch/s]"
      ]
     },
     "metadata": {},
     "output_type": "display_data"
    },
    {
     "data": {
      "application/vnd.jupyter.widget-view+json": {
       "model_id": "c7c680616a7d49429c2131f867aa6224",
       "version_major": 2,
       "version_minor": 0
      },
      "text/plain": [
       "eval:   0%|          | 0/751 [00:00<?, ?batch/s]"
      ]
     },
     "metadata": {},
     "output_type": "display_data"
    },
    {
     "name": "stdout",
     "output_type": "stream",
     "text": [
      "Epoch 007\n",
      "TRAIN→ RMSE=0.26239 MAE=0.19941 R2=0.18403 | Acc=0.72337 Prec=0.00000 Rec=0.00000 F1=0.00000 AUROC=0.50000 | T_ACC=0.33333 T_P=0.00004 T_R=0.33333 T_F1=0.00007 T_AUC=0.50000\n",
      "VALID→ RMSE=0.25228 MAE=0.18633 R2=0.22740 | Acc=0.71270 Prec=0.00000 Rec=0.00000 F1=0.00000 AUROC=0.50000 | T_ACC=0.33333 T_P=0.00004 T_R=0.33333 T_F1=0.00007 T_AUC=0.50000\n"
     ]
    },
    {
     "data": {
      "application/vnd.jupyter.widget-view+json": {
       "model_id": "d954b79985eb48d7b4808a599a484ecb",
       "version_major": 2,
       "version_minor": 0
      },
      "text/plain": [
       "Epoch 8:   0%|          | 0/60 [00:00<?, ?batch/s]"
      ]
     },
     "metadata": {},
     "output_type": "display_data"
    },
    {
     "data": {
      "application/vnd.jupyter.widget-view+json": {
       "model_id": "a2d296f3ecdf4b6e82f3988dba3bb25e",
       "version_major": 2,
       "version_minor": 0
      },
      "text/plain": [
       "eval:   0%|          | 0/751 [00:00<?, ?batch/s]"
      ]
     },
     "metadata": {},
     "output_type": "display_data"
    },
    {
     "name": "stdout",
     "output_type": "stream",
     "text": [
      "Epoch 008\n",
      "TRAIN→ RMSE=0.26068 MAE=0.19833 R2=0.19460 | Acc=0.72337 Prec=0.00000 Rec=0.00000 F1=0.00000 AUROC=0.50000 | T_ACC=0.33333 T_P=0.00004 T_R=0.33333 T_F1=0.00007 T_AUC=0.50000\n",
      "VALID→ RMSE=0.25157 MAE=0.18723 R2=0.23174 | Acc=0.71270 Prec=0.00000 Rec=0.00000 F1=0.00000 AUROC=0.50000 | T_ACC=0.33333 T_P=0.00004 T_R=0.33333 T_F1=0.00007 T_AUC=0.50000\n"
     ]
    },
    {
     "data": {
      "application/vnd.jupyter.widget-view+json": {
       "model_id": "ed145baec9ab41e6a4d4c5e0633fc2d6",
       "version_major": 2,
       "version_minor": 0
      },
      "text/plain": [
       "Epoch 9:   0%|          | 0/60 [00:00<?, ?batch/s]"
      ]
     },
     "metadata": {},
     "output_type": "display_data"
    },
    {
     "data": {
      "application/vnd.jupyter.widget-view+json": {
       "model_id": "4691953705e04ec2aeed835b1bb5272e",
       "version_major": 2,
       "version_minor": 0
      },
      "text/plain": [
       "eval:   0%|          | 0/751 [00:00<?, ?batch/s]"
      ]
     },
     "metadata": {},
     "output_type": "display_data"
    },
    {
     "name": "stdout",
     "output_type": "stream",
     "text": [
      "Epoch 009\n",
      "TRAIN→ RMSE=0.25932 MAE=0.19745 R2=0.20298 | Acc=0.72337 Prec=0.00000 Rec=0.00000 F1=0.00000 AUROC=0.50000 | T_ACC=0.33333 T_P=0.00004 T_R=0.33333 T_F1=0.00007 T_AUC=0.50000\n",
      "VALID→ RMSE=0.25106 MAE=0.18795 R2=0.23483 | Acc=0.71270 Prec=0.00000 Rec=0.00000 F1=0.00000 AUROC=0.50000 | T_ACC=0.33333 T_P=0.00004 T_R=0.33333 T_F1=0.00007 T_AUC=0.50000\n"
     ]
    },
    {
     "data": {
      "application/vnd.jupyter.widget-view+json": {
       "model_id": "0f9848f7184e4641b00829f07a42f0f4",
       "version_major": 2,
       "version_minor": 0
      },
      "text/plain": [
       "Epoch 10:   0%|          | 0/60 [00:00<?, ?batch/s]"
      ]
     },
     "metadata": {},
     "output_type": "display_data"
    },
    {
     "data": {
      "application/vnd.jupyter.widget-view+json": {
       "model_id": "9ff6cf40217c4e78b3fe0c16669fc33e",
       "version_major": 2,
       "version_minor": 0
      },
      "text/plain": [
       "eval:   0%|          | 0/751 [00:00<?, ?batch/s]"
      ]
     },
     "metadata": {},
     "output_type": "display_data"
    },
    {
     "name": "stdout",
     "output_type": "stream",
     "text": [
      "Epoch 010\n",
      "TRAIN→ RMSE=0.25835 MAE=0.19686 R2=0.20892 | Acc=0.72337 Prec=0.00000 Rec=0.00000 F1=0.00000 AUROC=0.50000 | T_ACC=0.33333 T_P=0.00004 T_R=0.33333 T_F1=0.00007 T_AUC=0.50000\n",
      "VALID→ RMSE=0.25065 MAE=0.18853 R2=0.23731 | Acc=0.71270 Prec=0.00000 Rec=0.00000 F1=0.00000 AUROC=0.50000 | T_ACC=0.33333 T_P=0.00004 T_R=0.33333 T_F1=0.00007 T_AUC=0.50000\n"
     ]
    },
    {
     "data": {
      "application/vnd.jupyter.widget-view+json": {
       "model_id": "c2995aec1e524bd0a11a5a842f364577",
       "version_major": 2,
       "version_minor": 0
      },
      "text/plain": [
       "Epoch 11:   0%|          | 0/60 [00:00<?, ?batch/s]"
      ]
     },
     "metadata": {},
     "output_type": "display_data"
    },
    {
     "data": {
      "application/vnd.jupyter.widget-view+json": {
       "model_id": "7f0ed6c6ba4e490fbfb5a9a33a3576f3",
       "version_major": 2,
       "version_minor": 0
      },
      "text/plain": [
       "eval:   0%|          | 0/751 [00:00<?, ?batch/s]"
      ]
     },
     "metadata": {},
     "output_type": "display_data"
    },
    {
     "name": "stdout",
     "output_type": "stream",
     "text": [
      "Epoch 011\n",
      "TRAIN→ RMSE=0.25738 MAE=0.19614 R2=0.21485 | Acc=0.72337 Prec=0.00000 Rec=0.00000 F1=0.00000 AUROC=0.50000 | T_ACC=0.33333 T_P=0.00004 T_R=0.33333 T_F1=0.00007 T_AUC=0.50000\n",
      "VALID→ RMSE=0.25031 MAE=0.18903 R2=0.23942 | Acc=0.71270 Prec=0.00000 Rec=0.00000 F1=0.00000 AUROC=0.50000 | T_ACC=0.33333 T_P=0.00004 T_R=0.33333 T_F1=0.00007 T_AUC=0.50000\n"
     ]
    },
    {
     "data": {
      "application/vnd.jupyter.widget-view+json": {
       "model_id": "2c234d9dfe88440fa58c2914e2390a5f",
       "version_major": 2,
       "version_minor": 0
      },
      "text/plain": [
       "Epoch 12:   0%|          | 0/60 [00:00<?, ?batch/s]"
      ]
     },
     "metadata": {},
     "output_type": "display_data"
    },
    {
     "data": {
      "application/vnd.jupyter.widget-view+json": {
       "model_id": "d10390f1645e47c581d5a2be07667141",
       "version_major": 2,
       "version_minor": 0
      },
      "text/plain": [
       "eval:   0%|          | 0/751 [00:00<?, ?batch/s]"
      ]
     },
     "metadata": {},
     "output_type": "display_data"
    },
    {
     "name": "stdout",
     "output_type": "stream",
     "text": [
      "🔖 Saved folder‐best checkpoint (_chp): AAPL_0.25005_chp.pth\n",
      "Epoch 012\n",
      "TRAIN→ RMSE=0.25670 MAE=0.19569 R2=0.21901 | Acc=0.72337 Prec=0.00000 Rec=0.00000 F1=0.00000 AUROC=0.50000 | T_ACC=0.33333 T_P=0.00004 T_R=0.33333 T_F1=0.00007 T_AUC=0.50000\n",
      "VALID→ RMSE=0.25005 MAE=0.18940 R2=0.24097 | Acc=0.71270 Prec=0.00000 Rec=0.00000 F1=0.00000 AUROC=0.50000 | T_ACC=0.33333 T_P=0.00004 T_R=0.33333 T_F1=0.00007 T_AUC=0.50000\n"
     ]
    },
    {
     "data": {
      "application/vnd.jupyter.widget-view+json": {
       "model_id": "4e082eb553a04f498c19370f1641d90f",
       "version_major": 2,
       "version_minor": 0
      },
      "text/plain": [
       "Epoch 13:   0%|          | 0/60 [00:00<?, ?batch/s]"
      ]
     },
     "metadata": {},
     "output_type": "display_data"
    },
    {
     "data": {
      "application/vnd.jupyter.widget-view+json": {
       "model_id": "36fa6927410f428490109c4e95cfd2bd",
       "version_major": 2,
       "version_minor": 0
      },
      "text/plain": [
       "eval:   0%|          | 0/751 [00:00<?, ?batch/s]"
      ]
     },
     "metadata": {},
     "output_type": "display_data"
    },
    {
     "name": "stdout",
     "output_type": "stream",
     "text": [
      "🔖 Saved folder‐best checkpoint (_chp): AAPL_0.24981_chp.pth\n",
      "Epoch 013\n",
      "TRAIN→ RMSE=0.25610 MAE=0.19528 R2=0.22268 | Acc=0.72337 Prec=0.00000 Rec=0.00000 F1=0.00000 AUROC=0.50000 | T_ACC=0.33333 T_P=0.00004 T_R=0.33333 T_F1=0.00007 T_AUC=0.50000\n",
      "VALID→ RMSE=0.24981 MAE=0.18975 R2=0.24244 | Acc=0.71270 Prec=0.00000 Rec=0.00000 F1=0.00000 AUROC=0.50000 | T_ACC=0.33333 T_P=0.00004 T_R=0.33333 T_F1=0.00007 T_AUC=0.50000\n"
     ]
    },
    {
     "data": {
      "application/vnd.jupyter.widget-view+json": {
       "model_id": "823e40eb5b594ca892a197d8ccfa728b",
       "version_major": 2,
       "version_minor": 0
      },
      "text/plain": [
       "Epoch 14:   0%|          | 0/60 [00:00<?, ?batch/s]"
      ]
     },
     "metadata": {},
     "output_type": "display_data"
    },
    {
     "data": {
      "application/vnd.jupyter.widget-view+json": {
       "model_id": "8b2d2c04c71c46d3a584b37e63b6cfca",
       "version_major": 2,
       "version_minor": 0
      },
      "text/plain": [
       "eval:   0%|          | 0/751 [00:00<?, ?batch/s]"
      ]
     },
     "metadata": {},
     "output_type": "display_data"
    },
    {
     "name": "stdout",
     "output_type": "stream",
     "text": [
      "🔖 Saved folder‐best checkpoint (_chp): AAPL_0.24966_chp.pth\n",
      "Epoch 014\n",
      "TRAIN→ RMSE=0.25551 MAE=0.19483 R2=0.22624 | Acc=0.72337 Prec=0.00000 Rec=0.00000 F1=0.00000 AUROC=0.50000 | T_ACC=0.33333 T_P=0.00004 T_R=0.33333 T_F1=0.00007 T_AUC=0.50000\n",
      "VALID→ RMSE=0.24966 MAE=0.19009 R2=0.24335 | Acc=0.71270 Prec=0.00000 Rec=0.00000 F1=0.00000 AUROC=0.50000 | T_ACC=0.33333 T_P=0.00004 T_R=0.33333 T_F1=0.00007 T_AUC=0.50000\n"
     ]
    },
    {
     "data": {
      "application/vnd.jupyter.widget-view+json": {
       "model_id": "11b62aa78c8d4798b8bfe955ecc71026",
       "version_major": 2,
       "version_minor": 0
      },
      "text/plain": [
       "Epoch 15:   0%|          | 0/60 [00:00<?, ?batch/s]"
      ]
     },
     "metadata": {},
     "output_type": "display_data"
    },
    {
     "data": {
      "application/vnd.jupyter.widget-view+json": {
       "model_id": "819445640b2244fea833e8d65cc79b0d",
       "version_major": 2,
       "version_minor": 0
      },
      "text/plain": [
       "eval:   0%|          | 0/751 [00:00<?, ?batch/s]"
      ]
     },
     "metadata": {},
     "output_type": "display_data"
    },
    {
     "name": "stdout",
     "output_type": "stream",
     "text": [
      "🔖 Saved folder‐best checkpoint (_chp): AAPL_0.24953_chp.pth\n",
      "Epoch 015\n",
      "TRAIN→ RMSE=0.25504 MAE=0.19451 R2=0.22907 | Acc=0.72337 Prec=0.00000 Rec=0.00000 F1=0.00000 AUROC=0.50000 | T_ACC=0.33333 T_P=0.00004 T_R=0.33333 T_F1=0.00007 T_AUC=0.50000\n",
      "VALID→ RMSE=0.24953 MAE=0.19037 R2=0.24416 | Acc=0.71270 Prec=0.00000 Rec=0.00000 F1=0.00000 AUROC=0.50000 | T_ACC=0.33333 T_P=0.00004 T_R=0.33333 T_F1=0.00007 T_AUC=0.50000\n"
     ]
    },
    {
     "data": {
      "application/vnd.jupyter.widget-view+json": {
       "model_id": "79910d2fc9274e20b8d1913e9559504e",
       "version_major": 2,
       "version_minor": 0
      },
      "text/plain": [
       "Epoch 16:   0%|          | 0/60 [00:00<?, ?batch/s]"
      ]
     },
     "metadata": {},
     "output_type": "display_data"
    },
    {
     "data": {
      "application/vnd.jupyter.widget-view+json": {
       "model_id": "96b6111eb8fc4a9db6056f91518f1815",
       "version_major": 2,
       "version_minor": 0
      },
      "text/plain": [
       "eval:   0%|          | 0/751 [00:00<?, ?batch/s]"
      ]
     },
     "metadata": {},
     "output_type": "display_data"
    },
    {
     "name": "stdout",
     "output_type": "stream",
     "text": [
      "🔖 Saved folder‐best checkpoint (_chp): AAPL_0.24943_chp.pth\n",
      "Epoch 016\n",
      "TRAIN→ RMSE=0.25462 MAE=0.19417 R2=0.23159 | Acc=0.72337 Prec=0.00000 Rec=0.00000 F1=0.00000 AUROC=0.50000 | T_ACC=0.33333 T_P=0.00004 T_R=0.33333 T_F1=0.00007 T_AUC=0.50000\n",
      "VALID→ RMSE=0.24943 MAE=0.19061 R2=0.24473 | Acc=0.71270 Prec=0.00000 Rec=0.00000 F1=0.00000 AUROC=0.50000 | T_ACC=0.33333 T_P=0.00004 T_R=0.33333 T_F1=0.00007 T_AUC=0.50000\n"
     ]
    },
    {
     "data": {
      "application/vnd.jupyter.widget-view+json": {
       "model_id": "0a4af53a585c4feab4cf7887b0622a15",
       "version_major": 2,
       "version_minor": 0
      },
      "text/plain": [
       "Epoch 17:   0%|          | 0/60 [00:00<?, ?batch/s]"
      ]
     },
     "metadata": {},
     "output_type": "display_data"
    },
    {
     "data": {
      "application/vnd.jupyter.widget-view+json": {
       "model_id": "1e4286ec651f4b289c9b867a9726c50d",
       "version_major": 2,
       "version_minor": 0
      },
      "text/plain": [
       "eval:   0%|          | 0/751 [00:00<?, ?batch/s]"
      ]
     },
     "metadata": {},
     "output_type": "display_data"
    },
    {
     "name": "stdout",
     "output_type": "stream",
     "text": [
      "🔖 Saved folder‐best checkpoint (_chp): AAPL_0.24936_chp.pth\n",
      "Epoch 017\n",
      "TRAIN→ RMSE=0.25419 MAE=0.19385 R2=0.23420 | Acc=0.72337 Prec=0.00000 Rec=0.00000 F1=0.00000 AUROC=0.50000 | T_ACC=0.33333 T_P=0.00004 T_R=0.33333 T_F1=0.00007 T_AUC=0.50000\n",
      "VALID→ RMSE=0.24936 MAE=0.19080 R2=0.24517 | Acc=0.71270 Prec=0.00000 Rec=0.00000 F1=0.00000 AUROC=0.50000 | T_ACC=0.33333 T_P=0.00004 T_R=0.33333 T_F1=0.00007 T_AUC=0.50000\n"
     ]
    },
    {
     "data": {
      "application/vnd.jupyter.widget-view+json": {
       "model_id": "14f3dea5e36140ccaa923a5b302beb2c",
       "version_major": 2,
       "version_minor": 0
      },
      "text/plain": [
       "Epoch 18:   0%|          | 0/60 [00:00<?, ?batch/s]"
      ]
     },
     "metadata": {},
     "output_type": "display_data"
    },
    {
     "data": {
      "application/vnd.jupyter.widget-view+json": {
       "model_id": "7ac71adea2bb4fc6944558fd8c1b1b9c",
       "version_major": 2,
       "version_minor": 0
      },
      "text/plain": [
       "eval:   0%|          | 0/751 [00:00<?, ?batch/s]"
      ]
     },
     "metadata": {},
     "output_type": "display_data"
    },
    {
     "name": "stdout",
     "output_type": "stream",
     "text": [
      "🔖 Saved folder‐best checkpoint (_chp): AAPL_0.24934_chp.pth\n",
      "Epoch 018\n",
      "TRAIN→ RMSE=0.25386 MAE=0.19358 R2=0.23617 | Acc=0.72337 Prec=0.00000 Rec=0.00000 F1=0.00000 AUROC=0.50000 | T_ACC=0.33333 T_P=0.00004 T_R=0.33333 T_F1=0.00007 T_AUC=0.50000\n",
      "VALID→ RMSE=0.24934 MAE=0.19104 R2=0.24531 | Acc=0.71270 Prec=0.00000 Rec=0.00000 F1=0.00000 AUROC=0.50000 | T_ACC=0.33333 T_P=0.00004 T_R=0.33333 T_F1=0.00007 T_AUC=0.50000\n"
     ]
    },
    {
     "data": {
      "application/vnd.jupyter.widget-view+json": {
       "model_id": "60916272dbfa455ea943bd749f9a7b3c",
       "version_major": 2,
       "version_minor": 0
      },
      "text/plain": [
       "Epoch 19:   0%|          | 0/60 [00:00<?, ?batch/s]"
      ]
     },
     "metadata": {},
     "output_type": "display_data"
    },
    {
     "data": {
      "application/vnd.jupyter.widget-view+json": {
       "model_id": "d6306bbbc6d74f7c80aadd6727f22446",
       "version_major": 2,
       "version_minor": 0
      },
      "text/plain": [
       "eval:   0%|          | 0/751 [00:00<?, ?batch/s]"
      ]
     },
     "metadata": {},
     "output_type": "display_data"
    },
    {
     "name": "stdout",
     "output_type": "stream",
     "text": [
      "🔖 Saved folder‐best checkpoint (_chp): AAPL_0.24930_chp.pth\n",
      "Epoch 019\n",
      "TRAIN→ RMSE=0.25350 MAE=0.19333 R2=0.23834 | Acc=0.72337 Prec=0.00000 Rec=0.00000 F1=0.00000 AUROC=0.50000 | T_ACC=0.33333 T_P=0.00004 T_R=0.33333 T_F1=0.00007 T_AUC=0.50000\n",
      "VALID→ RMSE=0.24930 MAE=0.19127 R2=0.24553 | Acc=0.71270 Prec=0.00000 Rec=0.00000 F1=0.00000 AUROC=0.50000 | T_ACC=0.33333 T_P=0.00004 T_R=0.33333 T_F1=0.00007 T_AUC=0.50000\n"
     ]
    },
    {
     "data": {
      "application/vnd.jupyter.widget-view+json": {
       "model_id": "71b164fcb1d54f5091f6ca1731a1f655",
       "version_major": 2,
       "version_minor": 0
      },
      "text/plain": [
       "Epoch 20:   0%|          | 0/60 [00:00<?, ?batch/s]"
      ]
     },
     "metadata": {},
     "output_type": "display_data"
    },
    {
     "data": {
      "application/vnd.jupyter.widget-view+json": {
       "model_id": "b2b74bc9a696410d8222ec313a6bb5cc",
       "version_major": 2,
       "version_minor": 0
      },
      "text/plain": [
       "eval:   0%|          | 0/751 [00:00<?, ?batch/s]"
      ]
     },
     "metadata": {},
     "output_type": "display_data"
    },
    {
     "name": "stdout",
     "output_type": "stream",
     "text": [
      "Epoch 020\n",
      "TRAIN→ RMSE=0.25319 MAE=0.19307 R2=0.24023 | Acc=0.72337 Prec=0.00000 Rec=0.00000 F1=0.00000 AUROC=0.50000 | T_ACC=0.33333 T_P=0.00004 T_R=0.33333 T_F1=0.00007 T_AUC=0.50000\n",
      "VALID→ RMSE=0.24930 MAE=0.19144 R2=0.24552 | Acc=0.71270 Prec=0.00000 Rec=0.00000 F1=0.00000 AUROC=0.50000 | T_ACC=0.33333 T_P=0.00004 T_R=0.33333 T_F1=0.00007 T_AUC=0.50000\n"
     ]
    },
    {
     "data": {
      "application/vnd.jupyter.widget-view+json": {
       "model_id": "6c857d0d711b4798ac6b7b96854f0336",
       "version_major": 2,
       "version_minor": 0
      },
      "text/plain": [
       "Epoch 21:   0%|          | 0/60 [00:00<?, ?batch/s]"
      ]
     },
     "metadata": {},
     "output_type": "display_data"
    },
    {
     "data": {
      "application/vnd.jupyter.widget-view+json": {
       "model_id": "a1e192cc2ef445afa35d3e100b5b9f68",
       "version_major": 2,
       "version_minor": 0
      },
      "text/plain": [
       "eval:   0%|          | 0/751 [00:00<?, ?batch/s]"
      ]
     },
     "metadata": {},
     "output_type": "display_data"
    },
    {
     "name": "stdout",
     "output_type": "stream",
     "text": [
      "🔖 Saved folder‐best checkpoint (_chp): AAPL_0.24927_chp.pth\n",
      "Epoch 021\n",
      "TRAIN→ RMSE=0.25292 MAE=0.19289 R2=0.24182 | Acc=0.72337 Prec=0.00000 Rec=0.00000 F1=0.00000 AUROC=0.50000 | T_ACC=0.33333 T_P=0.00004 T_R=0.33333 T_F1=0.00007 T_AUC=0.50000\n",
      "VALID→ RMSE=0.24927 MAE=0.19158 R2=0.24569 | Acc=0.71270 Prec=0.00000 Rec=0.00000 F1=0.00000 AUROC=0.50000 | T_ACC=0.33333 T_P=0.00004 T_R=0.33333 T_F1=0.00007 T_AUC=0.50000\n"
     ]
    },
    {
     "data": {
      "application/vnd.jupyter.widget-view+json": {
       "model_id": "7594603a45fe405581bdbbd3a69375be",
       "version_major": 2,
       "version_minor": 0
      },
      "text/plain": [
       "Epoch 22:   0%|          | 0/60 [00:00<?, ?batch/s]"
      ]
     },
     "metadata": {},
     "output_type": "display_data"
    },
    {
     "data": {
      "application/vnd.jupyter.widget-view+json": {
       "model_id": "61aca81192b54e1aafb90925043fad3b",
       "version_major": 2,
       "version_minor": 0
      },
      "text/plain": [
       "eval:   0%|          | 0/751 [00:00<?, ?batch/s]"
      ]
     },
     "metadata": {},
     "output_type": "display_data"
    },
    {
     "name": "stdout",
     "output_type": "stream",
     "text": [
      "Epoch 022\n",
      "TRAIN→ RMSE=0.25253 MAE=0.19254 R2=0.24418 | Acc=0.72337 Prec=0.00000 Rec=0.00000 F1=0.00000 AUROC=0.50000 | T_ACC=0.33333 T_P=0.00004 T_R=0.33333 T_F1=0.00007 T_AUC=0.50000\n",
      "VALID→ RMSE=0.24928 MAE=0.19170 R2=0.24564 | Acc=0.71270 Prec=0.00000 Rec=0.00000 F1=0.00000 AUROC=0.50000 | T_ACC=0.33333 T_P=0.00004 T_R=0.33333 T_F1=0.00007 T_AUC=0.50000\n"
     ]
    },
    {
     "data": {
      "application/vnd.jupyter.widget-view+json": {
       "model_id": "70bd4b757bf14a95bd5ca4ec6adbdafa",
       "version_major": 2,
       "version_minor": 0
      },
      "text/plain": [
       "Epoch 23:   0%|          | 0/60 [00:00<?, ?batch/s]"
      ]
     },
     "metadata": {},
     "output_type": "display_data"
    },
    {
     "data": {
      "application/vnd.jupyter.widget-view+json": {
       "model_id": "8511ea21905e4a5ebbb9727748f22107",
       "version_major": 2,
       "version_minor": 0
      },
      "text/plain": [
       "eval:   0%|          | 0/751 [00:00<?, ?batch/s]"
      ]
     },
     "metadata": {},
     "output_type": "display_data"
    },
    {
     "name": "stdout",
     "output_type": "stream",
     "text": [
      "Epoch 023\n",
      "TRAIN→ RMSE=0.25229 MAE=0.19235 R2=0.24562 | Acc=0.72337 Prec=0.00000 Rec=0.00000 F1=0.00000 AUROC=0.50000 | T_ACC=0.33333 T_P=0.00004 T_R=0.33333 T_F1=0.00007 T_AUC=0.50000\n",
      "VALID→ RMSE=0.24930 MAE=0.19185 R2=0.24556 | Acc=0.71270 Prec=0.00000 Rec=0.00000 F1=0.00000 AUROC=0.50000 | T_ACC=0.33333 T_P=0.00004 T_R=0.33333 T_F1=0.00007 T_AUC=0.50000\n"
     ]
    },
    {
     "data": {
      "application/vnd.jupyter.widget-view+json": {
       "model_id": "fe330d05285b407b9e297eb09452f6aa",
       "version_major": 2,
       "version_minor": 0
      },
      "text/plain": [
       "Epoch 24:   0%|          | 0/60 [00:00<?, ?batch/s]"
      ]
     },
     "metadata": {},
     "output_type": "display_data"
    },
    {
     "data": {
      "application/vnd.jupyter.widget-view+json": {
       "model_id": "3aa3201e2dd846b7a1f8400bf29581f5",
       "version_major": 2,
       "version_minor": 0
      },
      "text/plain": [
       "eval:   0%|          | 0/751 [00:00<?, ?batch/s]"
      ]
     },
     "metadata": {},
     "output_type": "display_data"
    },
    {
     "name": "stdout",
     "output_type": "stream",
     "text": [
      "Epoch 024\n",
      "TRAIN→ RMSE=0.25205 MAE=0.19220 R2=0.24702 | Acc=0.72337 Prec=0.00000 Rec=0.00000 F1=0.00000 AUROC=0.50000 | T_ACC=0.33333 T_P=0.00004 T_R=0.33333 T_F1=0.00007 T_AUC=0.50000\n",
      "VALID→ RMSE=0.24931 MAE=0.19195 R2=0.24549 | Acc=0.71270 Prec=0.00000 Rec=0.00000 F1=0.00000 AUROC=0.50000 | T_ACC=0.33333 T_P=0.00004 T_R=0.33333 T_F1=0.00007 T_AUC=0.50000\n"
     ]
    },
    {
     "data": {
      "application/vnd.jupyter.widget-view+json": {
       "model_id": "6a9224938cef4e3b8a6bfd1b1bc0d07a",
       "version_major": 2,
       "version_minor": 0
      },
      "text/plain": [
       "Epoch 25:   0%|          | 0/60 [00:00<?, ?batch/s]"
      ]
     },
     "metadata": {},
     "output_type": "display_data"
    },
    {
     "data": {
      "application/vnd.jupyter.widget-view+json": {
       "model_id": "1529b9ab04b1496e9b058c13121a6f28",
       "version_major": 2,
       "version_minor": 0
      },
      "text/plain": [
       "eval:   0%|          | 0/751 [00:00<?, ?batch/s]"
      ]
     },
     "metadata": {},
     "output_type": "display_data"
    },
    {
     "name": "stdout",
     "output_type": "stream",
     "text": [
      "Epoch 025\n",
      "TRAIN→ RMSE=0.25173 MAE=0.19189 R2=0.24898 | Acc=0.72337 Prec=0.00000 Rec=0.00000 F1=0.00000 AUROC=0.50000 | T_ACC=0.33333 T_P=0.00004 T_R=0.33333 T_F1=0.00007 T_AUC=0.50000\n",
      "VALID→ RMSE=0.24932 MAE=0.19203 R2=0.24543 | Acc=0.71270 Prec=0.00000 Rec=0.00000 F1=0.00000 AUROC=0.50000 | T_ACC=0.33333 T_P=0.00004 T_R=0.33333 T_F1=0.00007 T_AUC=0.50000\n"
     ]
    },
    {
     "data": {
      "application/vnd.jupyter.widget-view+json": {
       "model_id": "2a073d7bc63f43d6b215faff0b01edca",
       "version_major": 2,
       "version_minor": 0
      },
      "text/plain": [
       "Epoch 26:   0%|          | 0/60 [00:00<?, ?batch/s]"
      ]
     },
     "metadata": {},
     "output_type": "display_data"
    },
    {
     "data": {
      "application/vnd.jupyter.widget-view+json": {
       "model_id": "3c77afebccb6414d9835a3c7d25e87fd",
       "version_major": 2,
       "version_minor": 0
      },
      "text/plain": [
       "eval:   0%|          | 0/751 [00:00<?, ?batch/s]"
      ]
     },
     "metadata": {},
     "output_type": "display_data"
    },
    {
     "name": "stdout",
     "output_type": "stream",
     "text": [
      "Epoch 026\n",
      "TRAIN→ RMSE=0.25154 MAE=0.19176 R2=0.25012 | Acc=0.72337 Prec=0.00000 Rec=0.00000 F1=0.00000 AUROC=0.50000 | T_ACC=0.33333 T_P=0.00004 T_R=0.33333 T_F1=0.00007 T_AUC=0.50000\n",
      "VALID→ RMSE=0.24936 MAE=0.19211 R2=0.24519 | Acc=0.71270 Prec=0.00000 Rec=0.00000 F1=0.00000 AUROC=0.50000 | T_ACC=0.33333 T_P=0.00004 T_R=0.33333 T_F1=0.00007 T_AUC=0.50000\n"
     ]
    },
    {
     "data": {
      "application/vnd.jupyter.widget-view+json": {
       "model_id": "6fab4c94d945436b8c4b70c6274c0541",
       "version_major": 2,
       "version_minor": 0
      },
      "text/plain": [
       "Epoch 27:   0%|          | 0/60 [00:00<?, ?batch/s]"
      ]
     },
     "metadata": {},
     "output_type": "display_data"
    },
    {
     "data": {
      "application/vnd.jupyter.widget-view+json": {
       "model_id": "db376e137fe84916a879c2c386692919",
       "version_major": 2,
       "version_minor": 0
      },
      "text/plain": [
       "eval:   0%|          | 0/751 [00:00<?, ?batch/s]"
      ]
     },
     "metadata": {},
     "output_type": "display_data"
    },
    {
     "name": "stdout",
     "output_type": "stream",
     "text": [
      "Epoch 027\n",
      "TRAIN→ RMSE=0.25126 MAE=0.19153 R2=0.25176 | Acc=0.72337 Prec=0.00000 Rec=0.00000 F1=0.00000 AUROC=0.50000 | T_ACC=0.33333 T_P=0.00004 T_R=0.33333 T_F1=0.00007 T_AUC=0.50000\n",
      "VALID→ RMSE=0.24938 MAE=0.19222 R2=0.24503 | Acc=0.71270 Prec=0.00000 Rec=0.00000 F1=0.00000 AUROC=0.50000 | T_ACC=0.33333 T_P=0.00004 T_R=0.33333 T_F1=0.00007 T_AUC=0.50000\n"
     ]
    },
    {
     "data": {
      "application/vnd.jupyter.widget-view+json": {
       "model_id": "a8e8e8590cb143168adb82c5e3899060",
       "version_major": 2,
       "version_minor": 0
      },
      "text/plain": [
       "Epoch 28:   0%|          | 0/60 [00:00<?, ?batch/s]"
      ]
     },
     "metadata": {},
     "output_type": "display_data"
    },
    {
     "data": {
      "application/vnd.jupyter.widget-view+json": {
       "model_id": "92cc69f89df846d3b965d5fe8fef4235",
       "version_major": 2,
       "version_minor": 0
      },
      "text/plain": [
       "eval:   0%|          | 0/751 [00:00<?, ?batch/s]"
      ]
     },
     "metadata": {},
     "output_type": "display_data"
    },
    {
     "name": "stdout",
     "output_type": "stream",
     "text": [
      "Early stopping at epoch 28\n",
      "✅ Final‐best model saved: AAPL_0.24927_fin.pth\n"
     ]
    },
    {
     "data": {
      "image/png": "[encoded data removed]",
      "text/plain": [
       "<Figure size 660x440 with 1 Axes>"
      ]
     },
     "metadata": {},
     "output_type": "display_data"
    }
   ],
   "source": [
    "importlib.reload(params.model_selected) #############\n",
    "\n",
    "# How many unique trading days does each epoch see?\n",
    "n_days = len(train_loader.dataset)\n",
    "print(f\"Training sees {n_days} unique trading days per epoch.\\n\")\n",
    "\n",
    "print('Using HyperParameters:\\n \"look_back\":', params.look_back_tick, params.hparams)\n",
    "\n",
    "# -----------------------------------------------------------------------------\n",
    "# Run the custom stateful training loop\n",
    "# -----------------------------------------------------------------------------\n",
    "best_val_rmse  = params.model_selected.model_training_loop(\n",
    "    model               = model,\n",
    "    optimizer           = optimizer,\n",
    "    cosine_sched        = cosine_sched,\n",
    "    plateau_sched       = plateau_sched,\n",
    "    scaler              = scaler,\n",
    "    train_loader        = train_loader,\n",
    "    val_loader          = val_loader,\n",
    "    max_epochs          = params.hparams['MAX_EPOCHS'],\n",
    "    early_stop_patience = params.hparams['EARLY_STOP_PATIENCE'],\n",
    "    clipnorm            = clipnorm,\n",
    "    device              = params.device,\n",
    "    cls_loss_weight     = params.hparams['CLS_LOSS_WEIGHT'],\n",
    "    smooth_alpha        = params.hparams['SMOOTH_ALPHA'],\n",
    "    smooth_beta         = params.hparams['SMOOTH_BETA'],\n",
    "    smooth_delta        = params.hparams['SMOOTH_DELTA'],\n",
    "    diff1_weight        = params.hparams['DIFF1_WEIGHT'],\n",
    "    diff2_weight        = params.hparams['DIFF2_WEIGHT'],\n",
    ")\n"
   ]
  },
  {
   "cell_type": "code",
   "execution_count": 10,
   "id": "22b25c89-05c3-4a16-b013-97143f173e08",
   "metadata": {},
   "outputs": [
    {
     "name": "stdout",
     "output_type": "stream",
     "text": [
      "\n",
      "Champion validation RMSE = 0.249273\n",
      "Improvement over zero‐baseline =  39.1%\n",
      "Improvement over mean‐baseline =  13.1%\n"
     ]
    }
   ],
   "source": [
    "# -----------------------------------------------------------------------------\n",
    "# Final reporting: best RMSE and relative improvement\n",
    "# -----------------------------------------------------------------------------\n",
    "print(f\"\\nChampion validation RMSE = {best_val_rmse:.6f}\")\n",
    "\n",
    "improvement_zero = 100.0 * (1.0 - best_val_rmse / rmse_zero_val)\n",
    "print(f\"Improvement over zero‐baseline = {improvement_zero:5.1f}%\")\n",
    "\n",
    "improvement_mean = 100.0 * (1.0 - best_val_rmse / rmse_mean_val)\n",
    "print(f\"Improvement over mean‐baseline = {improvement_mean:5.1f}%\")\n"
   ]
  },
  {
   "cell_type": "code",
   "execution_count": 11,
   "id": "5935ccf4-d4ec-44de-827b-b520c8e76561",
   "metadata": {},
   "outputs": [
    {
     "name": "stdout",
     "output_type": "stream",
     "text": [
      "[('conv.weight', Parameter containing:\n",
      "tensor([[[ 6.7904e-02, -7.6095e-02,  6.3943e-02],\n",
      "         [ 1.1004e-01,  3.4873e-02, -2.2121e-02],\n",
      "         [ 5.0256e-02,  1.2964e-01, -5.8697e-03],\n",
      "         [-3.5813e-02, -7.6563e-02,  8.3840e-02],\n",
      "         [ 6.4093e-02,  2.2862e-02, -9.7935e-02],\n",
      "         [-1.1100e-01,  8.2527e-02,  1.1221e-01],\n",
      "         [ 1.2580e-01, -3.1666e-02, -8.5748e-02],\n",
      "         [ 1.4179e-01, -6.9564e-03, -1.4956e-01],\n",
      "         [ 5.9734e-02, -3.0292e-02, -7.8979e-02],\n",
      "         [ 7.4548e-02,  5.6852e-02, -8.4013e-02],\n",
      "         [ 1.9071e-02,  1.1266e-01,  6.8859e-02],\n",
      "         [-5.7999e-02, -3.7994e-02, -9.1588e-02],\n",
      "         [ 1.3064e-01,  1.2454e-01,  4.3358e-02],\n",
      "         [-1.3218e-01,  6.7533e-02, -3.6021e-02],\n",
      "         [ 9.6856e-02, -7.0432e-02, -5.4351e-02],\n",
      "         [-6.4015e-02, -1.8121e-02,  1.1994e-01],\n",
      "         [ 1.4834e-01, -9.0579e-02, -1.0978e-01]],\n",
      "\n",
      "        [[ 9.4921e-06, -9.8578e-03, -1.3864e-01],\n",
      "         [ 6.0491e-02, -1.3023e-01,  8.1452e-02],\n",
      "         [ 5.5177e-02,  1.5978e-02, -1.7592e-02],\n",
      "         [-8.5456e-02,  9.4384e-02,  4.2110e-02],\n",
      "         [ 4.0375e-02,  6.9674e-02,  7.6305e-02],\n",
      "         [ 5.9378e-02,  4.7847e-02, -1.5018e-01],\n",
      "         [-1.0410e-01,  1.0507e-01,  1.3589e-02],\n",
      "         [-9.0630e-02, -6.0086e-02,  6.5108e-02],\n",
      "         [ 6.0739e-02, -2.5569e-02, -3.0928e-02],\n",
      "         [-2.2422e-02, -1.7769e-01,  1.0537e-01],\n",
      "         [-1.2638e-01,  1.0768e-01,  1.0544e-01],\n",
      "         [-8.9883e-02, -5.4222e-02,  1.0012e-01],\n",
      "         [-1.2498e-01,  7.5050e-02, -4.1056e-02],\n",
      "         [ 2.1634e-02,  1.4002e-01, -4.2638e-02],\n",
      "         [-3.1739e-02,  9.7095e-02, -1.3876e-01],\n",
      "         [-4.1062e-02,  4.6860e-02, -1.0433e-01],\n",
      "         [ 2.4758e-02, -5.6229e-02,  4.9600e-02]],\n",
      "\n",
      "        [[ 3.5864e-03, -9.7554e-02,  5.7846e-03],\n",
      "         [-4.0719e-03, -1.0352e-01, -9.9816e-02],\n",
      "         [-1.1978e-01,  6.4126e-02,  8.5716e-02],\n",
      "         [ 1.2755e-01,  1.2801e-01,  2.0987e-02],\n",
      "         [-7.6536e-02, -1.1253e-02,  3.5696e-03],\n",
      "         [-1.7472e-01, -7.1118e-02,  1.3127e-03],\n",
      "         [-6.2349e-02, -5.6407e-02,  3.2308e-03],\n",
      "         [ 8.3052e-02,  4.6202e-02, -6.2826e-02],\n",
      "         [-1.3375e-01, -7.7783e-02, -1.2332e-01],\n",
      "         [ 1.3421e-01, -1.5008e-01,  3.8167e-03],\n",
      "         [ 3.9142e-02,  8.6250e-02,  1.0294e-02],\n",
      "         [ 1.1262e-01,  1.0462e-01,  3.5527e-05],\n",
      "         [-3.8778e-02, -1.3116e-01,  8.9140e-02],\n",
      "         [ 8.7797e-02,  1.4291e-02, -9.3288e-02],\n",
      "         [-3.9949e-02, -1.3237e-02, -1.0551e-01],\n",
      "         [ 2.1647e-02, -3.4726e-02, -1.0136e-01],\n",
      "         [-4.0425e-02, -6.7339e-02,  5.1525e-02]],\n",
      "\n",
      "        [[-2.7418e-02, -7.2682e-02, -9.9482e-02],\n",
      "         [-1.2709e-01, -1.3969e-01, -6.9523e-02],\n",
      "         [ 1.7945e-02, -1.4224e-02,  9.5575e-02],\n",
      "         [-5.9106e-03,  8.3305e-02,  6.4016e-02],\n",
      "         [-1.1958e-02, -5.2576e-02,  1.2670e-01],\n",
      "         [-4.8918e-02,  1.2182e-02,  8.6810e-02],\n",
      "         [ 9.1306e-02, -6.2668e-02,  9.6942e-02],\n",
      "         [ 8.8109e-02,  2.0111e-02,  8.8032e-03],\n",
      "         [-1.6148e-02,  1.1007e-01, -1.0419e-03],\n",
      "         [-8.5038e-02, -6.6445e-02, -1.0790e-01],\n",
      "         [ 5.4787e-03,  7.0155e-02, -1.0055e-01],\n",
      "         [-9.1935e-02, -7.0785e-02, -7.0532e-02],\n",
      "         [-1.0313e-01,  9.6974e-03, -1.0803e-01],\n",
      "         [ 4.7219e-02,  5.5615e-03,  1.2215e-03],\n",
      "         [ 1.3737e-01, -1.1308e-01,  2.8371e-02],\n",
      "         [ 1.1490e-01, -3.9455e-02,  1.0470e-01],\n",
      "         [-5.2480e-02,  9.6314e-02, -8.8704e-02]],\n",
      "\n",
      "        [[-1.1348e-01, -5.6057e-02, -6.9533e-02],\n",
      "         [-1.8460e-02,  3.9729e-02, -3.5003e-02],\n",
      "         [ 4.6576e-02,  4.2518e-02, -1.1008e-02],\n",
      "         [-1.4033e-01,  2.2127e-02, -1.0895e-01],\n",
      "         [ 8.6474e-02,  3.1740e-02,  2.8430e-02],\n",
      "         [-1.2754e-01, -1.3889e-01,  2.2593e-02],\n",
      "         [-1.0368e-01, -1.8318e-01, -6.3595e-03],\n",
      "         [ 7.8774e-02,  1.3252e-03,  3.5155e-02],\n",
      "         [ 3.7127e-02,  9.4137e-02, -5.1957e-02],\n",
      "         [-9.6568e-02, -1.1360e-01,  5.1214e-03],\n",
      "         [-3.6606e-02, -6.7605e-04, -2.9837e-02],\n",
      "         [-5.9366e-02, -1.6007e-01,  2.9546e-02],\n",
      "         [-9.0600e-02, -6.9424e-02, -1.2297e-01],\n",
      "         [-1.0324e-01, -1.3695e-01,  9.9240e-02],\n",
      "         [-1.4065e-01,  9.7718e-02, -8.6136e-02],\n",
      "         [-2.8130e-02, -4.6921e-02,  6.8396e-02],\n",
      "         [ 1.2345e-01,  9.2796e-02, -1.2410e-01]],\n",
      "\n",
      "        [[-6.6499e-02,  1.4039e-01,  1.3767e-01],\n",
      "         [ 6.5912e-02,  6.7215e-03, -1.5824e-02],\n",
      "         [ 1.2070e-01, -5.5444e-02, -7.3595e-02],\n",
      "         [-6.3492e-02, -9.6490e-02, -3.9234e-02],\n",
      "         [-2.2141e-02,  1.5083e-01, -6.5595e-02],\n",
      "         [ 8.4684e-02, -4.4556e-02,  4.0643e-02],\n",
      "         [ 1.7020e-01, -3.2075e-02, -1.1533e-01],\n",
      "         [ 1.0530e-01,  9.0509e-02,  5.3687e-03],\n",
      "         [-1.1068e-01,  2.4385e-02, -6.5100e-02],\n",
      "         [-2.9753e-02, -4.9254e-02,  1.7800e-02],\n",
      "         [-8.9669e-03, -2.2854e-02,  1.1760e-01],\n",
      "         [ 1.1993e-01,  4.3517e-02,  4.4082e-02],\n",
      "         [ 5.6416e-02,  9.0427e-02,  6.9731e-02],\n",
      "         [-1.5355e-01, -1.4605e-01,  1.0145e-01],\n",
      "         [ 6.4451e-02, -6.9256e-02,  1.0426e-01],\n",
      "         [ 3.4648e-02,  7.8168e-02, -9.1743e-02],\n",
      "         [-1.2217e-01, -6.3743e-02,  8.3217e-02]],\n",
      "\n",
      "        [[-1.0065e-01, -6.6580e-02, -3.4656e-02],\n",
      "         [ 9.7432e-03,  1.5138e-01, -9.6216e-02],\n",
      "         [-9.8035e-02, -9.4303e-02, -1.2278e-01],\n",
      "         [ 7.6238e-02, -8.4817e-02, -5.3648e-02],\n",
      "         [ 2.8259e-03, -7.5689e-02, -9.9972e-02],\n",
      "         [ 6.2870e-02, -3.5617e-02,  8.4419e-02],\n",
      "         [-3.5625e-02, -1.8059e-01, -1.3422e-01],\n",
      "         [ 6.8753e-02, -3.4603e-02,  6.4209e-02],\n",
      "         [ 6.0514e-02,  6.5619e-02, -2.3708e-02],\n",
      "         [ 3.1159e-02, -1.1261e-01, -1.2168e-02],\n",
      "         [-9.1158e-02,  1.5072e-02, -4.0417e-02],\n",
      "         [-1.6270e-01, -1.1282e-01,  3.3160e-02],\n",
      "         [ 2.2390e-02, -3.8708e-02,  1.0635e-01],\n",
      "         [ 2.4102e-02, -8.4219e-02,  8.6935e-02],\n",
      "         [ 7.1213e-03, -7.3747e-02,  8.9492e-02],\n",
      "         [ 6.2208e-02,  1.1987e-02,  1.0624e-01],\n",
      "         [ 1.1212e-02, -4.7611e-02,  5.4198e-02]],\n",
      "\n",
      "        [[ 5.1490e-02,  8.6836e-02, -1.3843e-01],\n",
      "         [ 6.1869e-02,  9.8305e-02, -6.4296e-02],\n",
      "         [-5.3961e-02, -3.3320e-02,  1.1714e-01],\n",
      "         [-1.9699e-03,  2.2749e-02, -3.3752e-02],\n",
      "         [-6.6354e-02,  6.2755e-02,  3.5426e-02],\n",
      "         [-1.1546e-01,  4.1585e-02, -6.6984e-02],\n",
      "         [-1.7158e-02,  1.3066e-01,  5.5115e-02],\n",
      "         [ 1.8997e-03, -1.1416e-01,  8.3024e-02],\n",
      "         [ 8.3717e-02, -7.2189e-02,  8.9194e-02],\n",
      "         [ 1.0790e-01,  1.3693e-01, -6.4815e-02],\n",
      "         [-1.1504e-01,  1.3967e-01,  1.1216e-01],\n",
      "         [-1.1370e-01,  7.4652e-02,  6.2038e-02],\n",
      "         [ 1.1719e-01,  2.5580e-02,  6.6530e-03],\n",
      "         [ 9.5904e-02, -2.0941e-02,  1.0361e-02],\n",
      "         [-9.6401e-02, -6.6764e-02, -4.1288e-02],\n",
      "         [-1.3971e-02, -2.9759e-02,  9.3927e-03],\n",
      "         [ 1.1676e-01,  3.8752e-02, -2.2481e-02]],\n",
      "\n",
      "        [[-1.3001e-01,  7.9393e-02,  1.1558e-01],\n",
      "         [ 9.1449e-02, -8.5603e-02, -1.0176e-01],\n",
      "         [-8.7731e-02, -5.8037e-03, -1.3296e-02],\n",
      "         [-6.8238e-02, -5.9054e-02, -3.0825e-02],\n",
      "         [-5.3729e-02,  1.0497e-01, -1.3931e-01],\n",
      "         [-6.4716e-02, -6.3817e-02, -5.4463e-02],\n",
      "         [-9.2685e-02, -7.6584e-02,  1.2730e-01],\n",
      "         [-5.2847e-02, -4.9409e-02,  3.9031e-02],\n",
      "         [ 9.8423e-02,  1.0654e-01,  1.1681e-01],\n",
      "         [ 7.8277e-03,  6.7302e-02,  2.6553e-03],\n",
      "         [-8.0020e-02,  2.5837e-03,  6.9675e-02],\n",
      "         [-1.0642e-01, -7.5009e-02,  3.4771e-02],\n",
      "         [-9.8237e-02, -1.3999e-01,  1.3481e-01],\n",
      "         [-7.5151e-02, -7.1568e-02, -6.6563e-02],\n",
      "         [ 8.9498e-02, -1.1426e-02, -2.3126e-02],\n",
      "         [ 5.6660e-02, -1.0138e-01,  9.1963e-02],\n",
      "         [-6.0633e-02, -5.6379e-02,  4.4571e-03]],\n",
      "\n",
      "        [[-1.0324e-01, -8.8672e-02,  6.0994e-02],\n",
      "         [ 7.5600e-02,  1.2601e-01, -8.8346e-02],\n",
      "         [-3.8518e-02, -1.2165e-01, -4.8405e-02],\n",
      "         [-7.6294e-02,  1.0695e-01, -1.3949e-01],\n",
      "         [-6.6154e-02, -9.4584e-02, -8.9517e-03],\n",
      "         [ 4.6080e-02,  4.6140e-02,  1.2085e-01],\n",
      "         [-2.2068e-02, -9.6163e-02,  8.4894e-02],\n",
      "         [-6.4858e-03,  1.3993e-01, -1.1568e-01],\n",
      "         [-9.9924e-02, -2.4867e-02, -9.4642e-02],\n",
      "         [ 2.6675e-03, -9.9767e-02, -1.4730e-02],\n",
      "         [-2.2669e-02,  1.1339e-01,  1.1229e-01],\n",
      "         [ 3.6515e-02, -3.9799e-02,  8.0440e-02],\n",
      "         [ 4.2420e-02,  2.5444e-02, -4.3326e-02],\n",
      "         [-1.1027e-01,  4.4871e-02,  1.7258e-02],\n",
      "         [ 2.7182e-02, -8.6058e-03, -5.3306e-02],\n",
      "         [-5.3060e-02,  1.0816e-01, -2.0124e-02],\n",
      "         [-7.2796e-02,  7.9510e-02,  6.6956e-02]],\n",
      "\n",
      "        [[ 2.2073e-02, -1.2814e-02, -1.0058e-01],\n",
      "         [-1.9166e-02,  4.0756e-02,  5.3544e-02],\n",
      "         [-1.0412e-01, -9.5088e-02,  6.9167e-02],\n",
      "         [ 5.1192e-02,  1.2515e-01,  1.4287e-01],\n",
      "         [-8.2778e-02, -5.3690e-03,  1.3523e-02],\n",
      "         [-6.7040e-02, -8.0664e-02,  7.1062e-02],\n",
      "         [ 1.8640e-02,  9.9848e-02,  2.2326e-02],\n",
      "         [-5.6001e-02, -1.3793e-01, -6.4246e-02],\n",
      "         [ 8.4115e-02,  2.3382e-02,  6.4136e-02],\n",
      "         [-4.3508e-02, -8.7138e-02, -7.1689e-03],\n",
      "         [ 7.7833e-02, -1.7295e-01, -5.2974e-02],\n",
      "         [-1.9048e-02,  4.9037e-03, -6.6817e-02],\n",
      "         [ 5.0724e-02, -9.8950e-02,  8.9241e-02],\n",
      "         [-1.1852e-01, -8.9077e-03,  1.1682e-01],\n",
      "         [-7.7646e-02, -3.3705e-02, -3.7271e-02],\n",
      "         [ 1.0757e-01,  7.9607e-02,  9.7109e-02],\n",
      "         [-6.2193e-02, -7.5383e-02, -5.2518e-02]],\n",
      "\n",
      "        [[ 1.1097e-01, -8.6187e-02,  5.6123e-02],\n",
      "         [ 7.3789e-02,  1.0956e-01,  1.0149e-02],\n",
      "         [ 2.1082e-02,  3.6831e-02, -1.7149e-03],\n",
      "         [ 1.3538e-01, -7.3817e-02, -1.3201e-01],\n",
      "         [ 5.3806e-02, -3.2065e-02,  1.5761e-02],\n",
      "         [ 1.6954e-02, -1.3678e-02,  2.3471e-02],\n",
      "         [ 5.0837e-02, -2.3096e-02, -8.0016e-02],\n",
      "         [ 1.3828e-01, -8.8701e-02, -7.7444e-02],\n",
      "         [-2.6206e-02, -5.2680e-02,  1.6632e-02],\n",
      "         [ 4.3423e-02,  2.1969e-03,  1.1469e-01],\n",
      "         [ 3.1849e-03,  4.3576e-05,  9.4356e-02],\n",
      "         [ 1.6059e-02, -8.3406e-02,  6.5746e-02],\n",
      "         [ 2.6412e-02,  1.3123e-01,  3.5584e-02],\n",
      "         [-2.7725e-02,  4.1363e-02,  8.4850e-02],\n",
      "         [ 1.2944e-01,  3.2538e-02, -4.1264e-02],\n",
      "         [ 1.8689e-02,  8.9278e-02, -4.1911e-02],\n",
      "         [-4.3379e-02,  1.5209e-01, -1.1047e-01]],\n",
      "\n",
      "        [[-1.2136e-02, -6.7455e-02, -1.2771e-01],\n",
      "         [-3.4479e-04, -1.0196e-01, -8.6719e-02],\n",
      "         [-5.3784e-03,  1.3191e-01,  2.3732e-02],\n",
      "         [-7.7983e-02, -1.1232e-01, -1.0871e-01],\n",
      "         [ 4.3166e-02,  3.2329e-02, -9.1132e-02],\n",
      "         [-6.9549e-02,  1.3307e-01, -2.0911e-02],\n",
      "         [-2.4934e-02, -2.4357e-02,  1.0505e-01],\n",
      "         [ 8.0227e-02,  9.2533e-02, -1.1417e-01],\n",
      "         [-2.5623e-03,  6.5267e-02, -1.1170e-01],\n",
      "         [ 1.3402e-01, -3.7695e-02, -8.7972e-02],\n",
      "         [ 7.2416e-02,  4.2539e-02,  7.8800e-02],\n",
      "         [-1.0005e-01,  1.0404e-02,  9.4715e-02],\n",
      "         [ 8.4429e-02,  8.1130e-02,  6.1065e-02],\n",
      "         [ 1.1286e-01,  1.0068e-01,  1.2527e-01],\n",
      "         [ 3.0680e-02,  6.6086e-03, -1.0623e-01],\n",
      "         [ 8.5732e-02, -4.1553e-02,  1.6990e-02],\n",
      "         [ 9.2497e-02,  1.0253e-02,  1.5274e-02]],\n",
      "\n",
      "        [[-8.1000e-02,  5.3397e-02,  1.2805e-01],\n",
      "         [ 3.4423e-02, -5.1271e-02,  1.2176e-02],\n",
      "         [-1.7058e-01, -1.0591e-01,  4.6953e-03],\n",
      "         [-8.1969e-02,  9.2073e-02, -4.0004e-02],\n",
      "         [-3.0821e-02, -9.0873e-03,  1.9579e-02],\n",
      "         [-5.3863e-02, -4.0637e-02,  6.1855e-02],\n",
      "         [ 5.3360e-02, -8.9567e-02, -4.1237e-02],\n",
      "         [-2.2787e-02,  5.5706e-02, -4.3918e-02],\n",
      "         [ 1.8886e-02, -4.3522e-02,  1.0170e-01],\n",
      "         [-5.2943e-02,  4.8235e-02, -8.3970e-02],\n",
      "         [-2.5332e-02, -1.2533e-02, -1.1300e-01],\n",
      "         [ 8.8409e-02, -1.2855e-02,  1.3295e-01],\n",
      "         [ 5.7033e-02, -1.1793e-02, -7.3559e-02],\n",
      "         [ 7.7909e-02,  9.7509e-02,  6.3854e-02],\n",
      "         [ 1.8066e-02,  1.2651e-02, -6.7019e-05],\n",
      "         [-1.0141e-02, -5.8306e-02,  1.0962e-01],\n",
      "         [-3.8733e-03, -7.1310e-02, -1.3528e-01]],\n",
      "\n",
      "        [[-1.0487e-01,  4.1485e-03, -8.3580e-02],\n",
      "         [ 8.3905e-02, -7.5389e-02, -1.9751e-02],\n",
      "         [-6.9800e-02, -1.3447e-01, -6.3425e-02],\n",
      "         [-1.4091e-02, -1.2418e-01, -1.2899e-01],\n",
      "         [ 6.6349e-02, -1.2403e-01, -1.3133e-02],\n",
      "         [-5.4021e-02, -2.8560e-02,  1.3899e-02],\n",
      "         [-5.5127e-02, -4.5971e-02, -2.0347e-02],\n",
      "         [-3.1492e-02,  9.8025e-02, -9.3507e-02],\n",
      "         [ 1.6248e-02, -8.7809e-03,  9.9386e-02],\n",
      "         [-1.0899e-01,  6.7236e-02,  9.7272e-02],\n",
      "         [-9.0237e-02, -4.4496e-03, -8.1338e-02],\n",
      "         [-4.1252e-02, -3.9715e-02, -1.0090e-01],\n",
      "         [ 9.6510e-02, -3.7255e-02,  1.3872e-02],\n",
      "         [ 1.3703e-02,  2.4036e-02,  1.1689e-01],\n",
      "         [ 6.9709e-02, -2.1229e-02, -9.7312e-02],\n",
      "         [ 4.0872e-02, -1.4758e-01, -1.0788e-01],\n",
      "         [-2.1367e-03, -2.7320e-02,  1.2546e-01]],\n",
      "\n",
      "        [[ 9.1130e-02,  1.4816e-01, -4.8877e-02],\n",
      "         [-1.2704e-01, -6.9888e-02, -1.4936e-01],\n",
      "         [ 1.0293e-01,  3.4727e-02,  6.7578e-02],\n",
      "         [-4.4726e-02,  2.1165e-02, -1.1590e-01],\n",
      "         [-1.2935e-02,  1.0419e-01, -5.1746e-02],\n",
      "         [ 1.1327e-01,  7.5572e-02, -1.1807e-01],\n",
      "         [ 4.9987e-02,  6.0287e-02, -4.6619e-02],\n",
      "         [ 1.0921e-01,  7.0982e-02, -1.1618e-01],\n",
      "         [-1.2408e-01,  1.0786e-01, -2.5432e-02],\n",
      "         [ 1.3139e-01,  7.6617e-02,  2.2694e-02],\n",
      "         [ 7.1471e-02,  6.7692e-02,  9.5781e-02],\n",
      "         [ 1.4783e-02,  7.8655e-02,  8.8351e-02],\n",
      "         [-4.9009e-02,  4.0679e-02, -7.0149e-02],\n",
      "         [-1.5242e-01, -2.9643e-02,  6.9016e-03],\n",
      "         [ 7.7653e-02,  3.8591e-02,  5.4642e-02],\n",
      "         [ 1.5201e-02, -3.0686e-02,  3.4750e-02],\n",
      "         [ 4.8686e-02,  1.1161e-02, -1.1265e-01]],\n",
      "\n",
      "        [[-2.0241e-02, -1.1159e-01, -5.9312e-02],\n",
      "         [-2.9937e-02, -9.7420e-02,  1.1740e-01],\n",
      "         [-3.7052e-02, -1.2789e-01,  2.4546e-02],\n",
      "         [-1.1162e-01, -1.1408e-01, -6.2784e-02],\n",
      "         [-1.0483e-01,  5.7500e-02, -6.6895e-02],\n",
      "         [ 6.3413e-02,  1.7186e-02,  1.1157e-01],\n",
      "         [-6.1140e-02, -1.3806e-02, -2.0964e-02],\n",
      "         [ 7.0768e-02,  3.7511e-03, -1.1126e-01],\n",
      "         [-9.2874e-02, -3.1801e-02, -8.7296e-02],\n",
      "         [ 6.4105e-02, -1.0274e-01, -9.9558e-02],\n",
      "         [-1.7038e-03, -1.4973e-01, -8.6632e-02],\n",
      "         [ 3.8320e-02, -1.2588e-01,  3.3890e-02],\n",
      "         [ 1.2634e-02,  3.3012e-02,  4.9558e-02],\n",
      "         [ 6.1170e-02, -9.7735e-02, -1.1340e-01],\n",
      "         [-9.1561e-02,  1.2542e-01, -6.1922e-03],\n",
      "         [-8.1322e-02,  7.4671e-02,  4.3640e-02],\n",
      "         [-9.6068e-03,  1.3233e-02,  7.4866e-03]]], device='cuda:0',\n",
      "       requires_grad=True)), ('conv.bias', Parameter containing:\n",
      "tensor([-0.0582, -0.1240, -0.0080, -0.0395,  0.0522, -0.0269,  0.1189,  0.0262,\n",
      "         0.0269,  0.0016, -0.1232, -0.1101, -0.0523, -0.0868,  0.1238,  0.0737,\n",
      "         0.0502], device='cuda:0', requires_grad=True)), ('bn.weight', Parameter containing:\n",
      "tensor([0.9997, 1.0018, 0.9879, 1.0003, 0.9803, 1.0073, 1.0027, 1.0034, 0.9955,\n",
      "        0.9998, 0.9975, 1.0017, 1.0089, 1.0028, 1.0011, 1.0105, 1.0118],\n",
      "       device='cuda:0', requires_grad=True)), ('bn.bias', Parameter containing:\n",
      "tensor([ 0.0049,  0.0131, -0.0050,  0.0028, -0.0131,  0.0097, -0.0009,  0.0101,\n",
      "        -0.0042, -0.0024,  0.0008,  0.0021,  0.0176, -0.0042, -0.0012,  0.0110,\n",
      "        -0.0029], device='cuda:0', requires_grad=True)), ('short_lstm.weight_ih_l0', Parameter containing:\n",
      "tensor([[-0.0669, -0.0718,  0.1502,  ..., -0.1046, -0.0200,  0.1187],\n",
      "        [-0.0987,  0.1033,  0.0590,  ..., -0.0261,  0.0786,  0.0177],\n",
      "        [ 0.0606,  0.1319, -0.0297,  ...,  0.0079,  0.0567, -0.1242],\n",
      "        ...,\n",
      "        [-0.0526,  0.1015, -0.1221,  ...,  0.0840, -0.0407, -0.0868],\n",
      "        [-0.1102,  0.0618, -0.0665,  ...,  0.0216, -0.0059, -0.0661],\n",
      "        [ 0.0316, -0.0573,  0.1061,  ..., -0.0731, -0.0068, -0.0336]],\n",
      "       device='cuda:0', requires_grad=True)), ('short_lstm.weight_hh_l0', Parameter containing:\n",
      "tensor([[-0.0759,  0.0305, -0.0106,  ..., -0.0778, -0.0595,  0.1028],\n",
      "        [-0.0150,  0.0572,  0.1201,  ...,  0.0800, -0.0994,  0.1171],\n",
      "        [ 0.0887, -0.1120,  0.0339,  ...,  0.0621,  0.0596,  0.0694],\n",
      "        ...,\n",
      "        [-0.0122, -0.1296, -0.0590,  ...,  0.1027,  0.0564,  0.0486],\n",
      "        [-0.0772,  0.0218,  0.0044,  ...,  0.0453, -0.0955,  0.0538],\n",
      "        [ 0.0606, -0.0583, -0.1101,  ..., -0.0857, -0.0872,  0.1092]],\n",
      "       device='cuda:0', requires_grad=True)), ('short_lstm.bias_ih_l0', Parameter containing:\n",
      "tensor([ 0.0441,  0.0987, -0.1244, -0.1161,  0.1015,  0.0005, -0.0307,  0.0770,\n",
      "        -0.1045, -0.0463, -0.0716,  0.0476,  0.0567,  0.0886,  0.0431, -0.0628,\n",
      "        -0.0789,  0.0732,  0.0149,  0.0596,  0.0012,  0.0600,  0.1107, -0.1094,\n",
      "        -0.0192, -0.0203, -0.0153, -0.0802,  0.0494,  0.0088, -0.1189,  0.1106,\n",
      "         0.0729, -0.0903, -0.0249,  0.0057, -0.0681, -0.0509, -0.0456, -0.0770,\n",
      "         0.0007, -0.1154, -0.0818,  0.0245,  0.0367, -0.0191,  0.0630,  0.0691,\n",
      "         0.0189, -0.0130,  0.0453,  0.0661,  0.0674,  0.0104,  0.0320, -0.1121,\n",
      "         0.0575,  0.0364, -0.0103, -0.0109,  0.1068,  0.1152, -0.1196,  0.0172,\n",
      "        -0.0884,  0.0386, -0.0210, -0.0357, -0.0542,  0.0164,  0.0342, -0.0951,\n",
      "        -0.0565, -0.0477,  0.0357,  0.0833,  0.0414, -0.1186,  0.0656, -0.0423,\n",
      "         0.0571, -0.1257,  0.0199, -0.0168,  0.0460,  0.0259,  0.1238, -0.0499,\n",
      "         0.0512, -0.1012,  0.1170, -0.0390, -0.1144,  0.1080,  0.0835, -0.0663,\n",
      "        -0.0564,  0.0536, -0.0923,  0.0152,  0.0253,  0.0106,  0.0690, -0.0953,\n",
      "        -0.1156,  0.1161,  0.0544, -0.0171, -0.0983, -0.0720, -0.0631,  0.0518,\n",
      "        -0.0374, -0.0986, -0.0166,  0.0746, -0.0337, -0.0953, -0.0856, -0.1013,\n",
      "        -0.0286, -0.0057, -0.0837,  0.0686, -0.0227,  0.1130,  0.1063, -0.0272,\n",
      "         0.0695,  0.1162,  0.0776, -0.0347,  0.0866,  0.1164,  0.0423,  0.0614,\n",
      "         0.0626, -0.0106,  0.0720,  0.0733, -0.0191,  0.0067, -0.0800,  0.0886,\n",
      "        -0.0264, -0.0717,  0.0739,  0.1235, -0.0764, -0.0082, -0.0629,  0.0425,\n",
      "        -0.0221,  0.0992,  0.0138, -0.0878,  0.0117, -0.0657, -0.0010,  0.0301,\n",
      "         0.0002,  0.0723,  0.0213,  0.1080, -0.0516,  0.0039,  0.0971,  0.0245,\n",
      "        -0.0064, -0.1249, -0.0969,  0.0507, -0.0704,  0.1092, -0.0788,  0.0858,\n",
      "         0.0700,  0.0305,  0.0835, -0.1126, -0.0687, -0.0346,  0.0579,  0.1129,\n",
      "         0.0457,  0.0803,  0.0755, -0.0732, -0.0193,  0.0647,  0.1250, -0.0564,\n",
      "         0.0144,  0.0070,  0.0720,  0.0477, -0.0652,  0.0520,  0.1125, -0.0226,\n",
      "        -0.0471, -0.0997, -0.0161,  0.0906,  0.0874, -0.0069,  0.0830,  0.0679,\n",
      "         0.0357, -0.1265, -0.0452,  0.0906,  0.0128, -0.0812, -0.0737, -0.0323,\n",
      "         0.0992, -0.0507, -0.0411,  0.0814, -0.0276, -0.1109, -0.0996,  0.0512,\n",
      "         0.1214, -0.0273, -0.0625,  0.0830,  0.1054, -0.0144, -0.0020, -0.0788,\n",
      "        -0.0825,  0.0750,  0.0806,  0.1173,  0.0484, -0.1042, -0.0516,  0.0663,\n",
      "         0.0985,  0.0848,  0.0065,  0.0462,  0.0213, -0.0383, -0.0101,  0.0727,\n",
      "         0.0358,  0.0095,  0.1243,  0.0676,  0.0589, -0.0283, -0.0558, -0.0031],\n",
      "       device='cuda:0', requires_grad=True)), ('short_lstm.bias_hh_l0', Parameter containing:\n",
      "tensor([ 0.1118, -0.0526, -0.0257,  0.0757, -0.0892,  0.0514,  0.0097, -0.1189,\n",
      "         0.0303, -0.1160, -0.0952, -0.0500, -0.0669, -0.0424,  0.0186,  0.0259,\n",
      "         0.0851,  0.0581, -0.0225,  0.0710, -0.1242,  0.1172, -0.0694, -0.1096,\n",
      "        -0.0622,  0.0284, -0.1088,  0.0109,  0.0702, -0.1014, -0.0344,  0.0045,\n",
      "         0.0751, -0.0719, -0.0661, -0.0905,  0.0259, -0.0144,  0.0209,  0.0270,\n",
      "        -0.0801, -0.0555,  0.0189, -0.0921,  0.0175,  0.1066,  0.0823, -0.0199,\n",
      "        -0.0853,  0.0010, -0.0487, -0.1045,  0.0770,  0.0323,  0.1189, -0.0810,\n",
      "        -0.0980,  0.0820,  0.1104, -0.0426, -0.0453, -0.0519,  0.0616, -0.0455,\n",
      "        -0.0130, -0.0785,  0.0240, -0.0724, -0.0865, -0.0243,  0.0401, -0.0150,\n",
      "        -0.0929, -0.0465, -0.0781,  0.0374, -0.0789, -0.0662, -0.1067, -0.0480,\n",
      "        -0.0541,  0.0820, -0.0098,  0.0716, -0.0790,  0.0017,  0.1019, -0.0846,\n",
      "        -0.0421, -0.1513, -0.0298,  0.0460, -0.0735, -0.0654,  0.0235,  0.0475,\n",
      "         0.0979, -0.0153, -0.0116, -0.0327, -0.1026, -0.0960, -0.0193,  0.0902,\n",
      "         0.0592,  0.0198,  0.0458,  0.0522, -0.0424,  0.0895,  0.1031,  0.0499,\n",
      "         0.1072,  0.1097,  0.0997, -0.0827, -0.0086, -0.0016,  0.1227,  0.0440,\n",
      "         0.1091, -0.0231,  0.0548, -0.1184, -0.0200,  0.0129,  0.0012,  0.0106,\n",
      "         0.0013, -0.0090, -0.0733, -0.0889,  0.0377,  0.0403, -0.0228,  0.0115,\n",
      "        -0.0524, -0.0494,  0.0367,  0.1031, -0.0028,  0.1138, -0.0021,  0.0980,\n",
      "         0.1155, -0.0005, -0.1175,  0.0159, -0.0707, -0.0336,  0.0038, -0.0379,\n",
      "         0.0864, -0.0309, -0.0847,  0.0341, -0.0999, -0.0363,  0.0533,  0.0891,\n",
      "        -0.0699, -0.0166, -0.0420,  0.0954, -0.0693, -0.0918,  0.0128, -0.0603,\n",
      "        -0.1090, -0.0564,  0.0494,  0.0359, -0.0506, -0.0892,  0.0450, -0.0748,\n",
      "        -0.0411,  0.0799,  0.0867,  0.0016, -0.0389,  0.0165, -0.0995, -0.0541,\n",
      "         0.0764, -0.0498,  0.1247, -0.0633, -0.0245,  0.0226, -0.0926,  0.0185,\n",
      "         0.0364,  0.1058, -0.1068,  0.1117, -0.0669,  0.0780, -0.1098, -0.0821,\n",
      "        -0.0690,  0.0637,  0.0239, -0.0450,  0.0110,  0.1035, -0.0199, -0.0739,\n",
      "         0.0087,  0.0798, -0.0667, -0.0231, -0.0362,  0.0114,  0.0118, -0.0064,\n",
      "        -0.0174,  0.1189, -0.1200, -0.1075,  0.0123,  0.0485, -0.0982,  0.0936,\n",
      "         0.0302, -0.0249, -0.0188, -0.1096,  0.0096,  0.0958,  0.0008, -0.0578,\n",
      "         0.1231, -0.0248,  0.0976,  0.1102, -0.0610,  0.0246, -0.0046, -0.0239,\n",
      "         0.0204,  0.0402, -0.1014,  0.0752, -0.1176, -0.1230,  0.0495,  0.1325,\n",
      "        -0.0676, -0.0478, -0.0767,  0.1077,  0.0020,  0.1127,  0.0237,  0.0397],\n",
      "       device='cuda:0', requires_grad=True)), ('short_lstm.weight_ih_l0_reverse', Parameter containing:\n",
      "tensor([[-0.0743, -0.0503, -0.0465,  ...,  0.0424,  0.0924,  0.0022],\n",
      "        [-0.0019, -0.0432,  0.0850,  ..., -0.0003,  0.0145,  0.0168],\n",
      "        [ 0.0198,  0.0596,  0.1225,  ...,  0.0921,  0.0754,  0.0069],\n",
      "        ...,\n",
      "        [ 0.0170, -0.0495,  0.0773,  ..., -0.0685, -0.1381, -0.1101],\n",
      "        [-0.0309,  0.1004,  0.0225,  ...,  0.0949,  0.1227, -0.0281],\n",
      "        [ 0.0456,  0.0557,  0.0058,  ..., -0.0317,  0.0357,  0.0983]],\n",
      "       device='cuda:0', requires_grad=True)), ('short_lstm.weight_hh_l0_reverse', Parameter containing:\n",
      "tensor([[-0.1064, -0.0706, -0.1041,  ..., -0.0461,  0.0206, -0.0256],\n",
      "        [-0.0986,  0.0632,  0.0122,  ..., -0.0722, -0.1150,  0.0738],\n",
      "        [ 0.0879, -0.0883,  0.1243,  ...,  0.0070,  0.0973, -0.0703],\n",
      "        ...,\n",
      "        [ 0.0260, -0.0260,  0.0323,  ..., -0.0021, -0.0018, -0.0269],\n",
      "        [-0.0840, -0.0121, -0.0672,  ..., -0.1179,  0.0593,  0.1080],\n",
      "        [-0.0370,  0.0094, -0.0812,  ..., -0.0380,  0.0612,  0.0718]],\n",
      "       device='cuda:0', requires_grad=True)), ('short_lstm.bias_ih_l0_reverse', Parameter containing:\n",
      "tensor([-7.0540e-02,  1.2955e-01,  7.7811e-02, -9.7390e-02,  2.8478e-02,\n",
      "         5.6175e-02,  8.1826e-02,  1.5597e-01, -1.2388e-01,  4.9586e-02,\n",
      "        -1.1961e-01, -4.2223e-02,  6.2205e-02, -1.9697e-02,  5.0880e-02,\n",
      "        -1.3582e-02, -8.8788e-02, -1.1944e-01,  1.2802e-01, -9.1573e-02,\n",
      "        -7.7888e-02, -4.0788e-02,  1.2059e-01, -3.5452e-02,  2.7428e-02,\n",
      "         6.5177e-03,  1.1212e-02,  7.0514e-02,  9.9066e-02,  1.5807e-02,\n",
      "        -9.8305e-03,  1.0345e-01,  2.1267e-02, -2.1359e-02, -6.0543e-02,\n",
      "         1.0131e-01,  1.0088e-01, -1.2154e-01,  1.1707e-01, -8.8785e-02,\n",
      "         1.6760e-02,  1.1837e-01, -8.0259e-02,  5.6940e-02,  1.6181e-02,\n",
      "         6.3240e-02,  1.0711e-01, -6.1020e-02,  7.7318e-02, -7.0035e-02,\n",
      "         9.1514e-03, -1.3850e-02, -1.4293e-02,  1.2328e-01,  1.3324e-02,\n",
      "        -4.1993e-02, -1.2231e-02, -1.1800e-02,  7.4659e-02, -8.2731e-02,\n",
      "         3.8780e-02, -2.2492e-02, -1.1565e-01, -6.3996e-02, -1.0782e-01,\n",
      "        -3.1671e-02, -8.7273e-03, -9.1164e-02, -5.4347e-02,  3.6554e-02,\n",
      "        -1.2337e-01, -5.9106e-02,  4.6003e-03,  2.4164e-02,  1.2283e-01,\n",
      "         1.2231e-01,  9.4173e-02, -6.8058e-02,  1.3980e-04, -7.0248e-02,\n",
      "        -4.4595e-02,  1.0934e-01,  6.1969e-02,  8.5661e-02,  3.5422e-02,\n",
      "         9.4041e-02,  5.7684e-02,  6.0400e-02, -4.8077e-02, -8.7858e-02,\n",
      "        -5.1883e-02,  9.8061e-02, -5.7474e-02, -1.0086e-01, -7.2388e-02,\n",
      "         4.6280e-02,  3.3769e-02, -6.5030e-03, -4.0088e-03, -2.7217e-02,\n",
      "        -2.8294e-02, -9.6984e-02, -1.1532e-02,  3.7793e-02,  8.2673e-02,\n",
      "        -4.7381e-02, -2.1648e-02,  4.3842e-02,  2.7202e-02, -8.6114e-02,\n",
      "        -5.7889e-02, -1.6783e-02, -1.1011e-01,  2.6666e-02, -6.9309e-02,\n",
      "        -9.7326e-02,  8.6967e-02, -1.0583e-01,  6.9599e-02, -7.9052e-02,\n",
      "        -5.3397e-02,  8.2080e-02,  4.6806e-02,  1.1084e-02, -1.0202e-01,\n",
      "         5.0749e-02,  4.5218e-02, -7.9572e-02, -1.2923e-02,  9.7380e-02,\n",
      "         9.7197e-03,  8.4785e-02, -5.0535e-02,  1.1880e-02, -2.9350e-02,\n",
      "        -1.3395e-01, -5.4122e-02,  7.2036e-02,  1.0147e-01,  9.4250e-03,\n",
      "        -1.3498e-02,  2.0556e-02,  7.0826e-02,  4.6174e-03,  5.6032e-02,\n",
      "        -3.9970e-02, -1.1816e-01,  1.1227e-01,  2.4939e-02, -6.1314e-02,\n",
      "        -2.6011e-03,  1.2399e-01,  1.1611e-01, -1.0187e-01,  3.7573e-02,\n",
      "        -2.7475e-02, -3.2282e-02,  7.6528e-02, -1.1506e-01, -8.4964e-02,\n",
      "        -4.5621e-02,  2.8023e-02,  2.8405e-03,  1.2062e-01, -1.0828e-01,\n",
      "         3.9601e-02, -8.4730e-02, -7.1127e-02,  1.2117e-01, -1.0547e-01,\n",
      "         2.8073e-02, -7.2928e-02,  2.8225e-02, -1.0018e-01,  9.8708e-02,\n",
      "         7.6219e-02,  9.8153e-02, -7.7276e-02,  9.5043e-02, -3.4351e-03,\n",
      "        -1.9258e-02,  2.8096e-02,  9.4372e-02,  3.1662e-02, -5.5408e-02,\n",
      "        -2.6624e-02, -1.1127e-01, -2.4786e-02,  1.8419e-02,  1.3389e-02,\n",
      "         1.0008e-01, -5.2942e-02, -2.9091e-02, -2.6993e-02,  1.1247e-01,\n",
      "        -2.1100e-02,  1.3136e-02,  1.0392e-01, -1.2101e-01,  1.2557e-01,\n",
      "         9.6881e-02, -2.0575e-02, -1.1526e-01, -8.2694e-02, -1.0734e-01,\n",
      "         1.2525e-01,  1.0821e-01,  7.0885e-03, -6.1148e-02, -6.7606e-03,\n",
      "        -1.5656e-03, -4.3558e-02, -3.6336e-02,  2.9131e-03,  3.6977e-02,\n",
      "        -1.0262e-01,  6.2644e-02, -1.3336e-01,  2.1422e-02,  1.0885e-01,\n",
      "         8.3124e-02, -4.9670e-02,  2.9825e-02,  2.9559e-02,  1.6771e-02,\n",
      "        -6.1215e-02,  8.8000e-02, -1.1868e-01, -1.1631e-01,  1.1454e-01,\n",
      "        -1.0914e-01,  3.1912e-02,  8.4481e-02, -5.3915e-03, -6.1519e-02,\n",
      "        -4.6289e-02,  1.1434e-01, -2.9228e-02,  1.0984e-01,  1.8282e-02,\n",
      "         1.4186e-01,  7.0602e-02,  1.0362e-01, -8.1114e-02,  6.2872e-02,\n",
      "         1.4833e-02,  1.0316e-01, -4.9376e-03,  2.0890e-02,  4.0460e-02,\n",
      "         1.5630e-03, -6.0478e-03,  8.9385e-02, -9.5994e-02, -1.0976e-01,\n",
      "        -5.6282e-02], device='cuda:0', requires_grad=True)), ('short_lstm.bias_hh_l0_reverse', Parameter containing:\n",
      "tensor([-0.1108, -0.0153,  0.0145, -0.0556,  0.0725,  0.0531, -0.0377, -0.0744,\n",
      "         0.0079,  0.0006, -0.1099,  0.0959, -0.0196, -0.0068, -0.0363,  0.0392,\n",
      "         0.0550,  0.0247, -0.0919,  0.1206, -0.0108,  0.1195, -0.0266,  0.0735,\n",
      "         0.1040, -0.0307, -0.1141, -0.0572,  0.0310,  0.0319,  0.0664, -0.0848,\n",
      "        -0.0854,  0.0644, -0.0085,  0.0669, -0.0066, -0.1078,  0.1318, -0.0356,\n",
      "        -0.0839,  0.0394,  0.1172, -0.0051, -0.0345,  0.0181, -0.0531, -0.0502,\n",
      "        -0.0803, -0.0747,  0.1011, -0.0036, -0.0255,  0.0580,  0.0531, -0.0813,\n",
      "        -0.0746,  0.0519,  0.0789, -0.1070,  0.0605,  0.0504, -0.1180,  0.0918,\n",
      "        -0.1212, -0.0459,  0.0667, -0.0900, -0.0496,  0.0274,  0.1168, -0.0846,\n",
      "        -0.0469,  0.0652,  0.0008, -0.0373,  0.0563, -0.1010,  0.0438,  0.1193,\n",
      "        -0.0471,  0.0067,  0.0211,  0.0034, -0.1249,  0.0027,  0.0159,  0.0056,\n",
      "        -0.0263,  0.0340, -0.1057, -0.0269, -0.0508,  0.0288, -0.0980,  0.0285,\n",
      "         0.0485,  0.0660,  0.0923, -0.0746,  0.0513, -0.0156, -0.0340,  0.0827,\n",
      "        -0.0958, -0.0686,  0.0409, -0.0894,  0.0655,  0.1140,  0.1142,  0.0723,\n",
      "         0.0713,  0.0257,  0.0632, -0.1023, -0.0841,  0.1080,  0.0015,  0.0547,\n",
      "         0.0977,  0.0127,  0.0475, -0.0932, -0.0041,  0.0817,  0.0514,  0.0672,\n",
      "         0.0723,  0.0363, -0.1023,  0.1256,  0.0110,  0.0661, -0.1127, -0.0817,\n",
      "        -0.0453,  0.0841, -0.1188,  0.0695, -0.1077,  0.1189,  0.0307, -0.0812,\n",
      "        -0.0779, -0.0061,  0.0123, -0.1186, -0.0737,  0.0471,  0.0134,  0.1118,\n",
      "         0.0582,  0.0075, -0.1050, -0.0220, -0.0395,  0.1056,  0.0358, -0.0896,\n",
      "        -0.0254, -0.0359,  0.0199,  0.0882, -0.1096, -0.0894, -0.0097, -0.1166,\n",
      "        -0.0454,  0.0658, -0.0892, -0.0316,  0.0010,  0.1261, -0.1116, -0.0451,\n",
      "         0.0533, -0.0834, -0.0342, -0.0306,  0.0393,  0.0467, -0.0112,  0.0706,\n",
      "         0.1034,  0.0203,  0.0194,  0.0444,  0.0078, -0.0351, -0.0615,  0.0962,\n",
      "        -0.1137, -0.1015,  0.0104, -0.1010, -0.1124, -0.1138,  0.0900, -0.0931,\n",
      "        -0.1181, -0.0343,  0.0786, -0.0080,  0.0388,  0.1052, -0.0887,  0.0628,\n",
      "         0.0592, -0.0870, -0.0015, -0.1118,  0.1126, -0.0167,  0.0161, -0.0336,\n",
      "         0.0846, -0.0413, -0.0421,  0.1086, -0.0561, -0.0028,  0.0110,  0.0832,\n",
      "        -0.1013, -0.0015, -0.0134, -0.0232,  0.0227, -0.0828, -0.0872, -0.1125,\n",
      "         0.0312, -0.0520,  0.1079,  0.0172,  0.1032,  0.0797,  0.0163, -0.1073,\n",
      "         0.0005, -0.0620, -0.0478, -0.0415, -0.0379,  0.0109, -0.0915,  0.1008,\n",
      "         0.1089,  0.0705, -0.1062, -0.0129, -0.1056,  0.0176, -0.0138, -0.0052],\n",
      "       device='cuda:0', requires_grad=True)), ('ln_short.weight', Parameter containing:\n",
      "tensor([1.0110, 1.0032, 1.0004, 1.0062, 1.0173, 0.9995, 1.0073, 0.9970, 1.0026,\n",
      "        1.0029, 0.9996, 1.0068, 1.0071, 1.0023, 0.9945, 1.0046, 0.9933, 0.9942,\n",
      "        1.0041, 1.0208, 1.0046, 0.9975, 1.0198, 1.0023, 1.0208, 1.0152, 0.9944,\n",
      "        0.9998, 0.9993, 1.0009, 0.9991, 0.9933, 1.0032, 0.9973, 0.9944, 0.9938,\n",
      "        0.9979, 1.0014, 0.9897, 1.0083, 1.0069, 1.0016, 0.9987, 0.9963, 0.9947,\n",
      "        1.0037, 0.9968, 0.9879, 1.0022, 1.0073, 1.0068, 1.0030, 0.9997, 1.0041,\n",
      "        1.0319, 1.0124, 0.9929, 1.0003, 1.0399, 0.9986, 0.9966, 0.9952, 1.0009,\n",
      "        0.9920, 1.0048, 1.0086, 0.9986, 1.0027, 1.0011, 0.9986, 0.9937, 1.0366,\n",
      "        0.9995, 1.0394, 0.9982, 1.0044, 1.0012, 1.0203, 0.9969, 1.0203, 1.0193,\n",
      "        0.9998, 1.0081, 1.0098, 0.9987, 1.0075, 1.0050, 1.0013, 0.9997, 0.9920,\n",
      "        0.9937, 1.0037, 1.0092, 1.0105, 1.0075, 0.9974, 1.0002, 0.9968, 1.0038,\n",
      "        1.0039, 0.9969, 1.0056, 1.0140, 0.9974, 1.0225, 1.0037, 1.0168, 1.0125,\n",
      "        0.9912, 1.0104, 1.0031, 1.0003, 1.0176, 0.9932, 1.0443, 0.9969, 1.0018,\n",
      "        1.0019, 1.0062, 0.9931, 1.0136, 0.9983, 0.9807, 0.9954, 0.9941, 0.9875,\n",
      "        1.0118, 0.9973], device='cuda:0', requires_grad=True)), ('ln_short.bias', Parameter containing:\n",
      "tensor([-5.4892e-03, -4.9931e-03, -3.0885e-03, -2.1271e-03,  7.9919e-03,\n",
      "        -3.0132e-03, -1.1993e-03, -3.2260e-03,  1.1219e-03,  8.7106e-04,\n",
      "        -1.5890e-03, -1.3399e-03, -4.2185e-04,  2.9605e-04,  7.7626e-03,\n",
      "        -1.9334e-03,  3.1074e-03, -3.9917e-03, -6.1087e-03,  9.2417e-03,\n",
      "        -4.6680e-03,  2.1554e-03, -1.3678e-02,  6.6116e-03,  7.4617e-03,\n",
      "        -1.5939e-03,  9.0499e-04, -7.4138e-05, -2.7297e-03,  1.0755e-03,\n",
      "        -4.3813e-03, -4.4988e-03, -3.0694e-03,  3.6477e-03, -2.4926e-03,\n",
      "        -1.0261e-02, -1.1514e-02, -1.4455e-03, -8.8516e-03,  3.9823e-04,\n",
      "        -1.7773e-03, -2.4587e-03, -4.3265e-03, -5.8705e-03,  2.2874e-03,\n",
      "         4.3779e-03, -4.8830e-03,  6.0434e-03, -6.0670e-03,  1.7209e-03,\n",
      "         5.1535e-03,  8.3243e-04, -1.4154e-03, -2.3027e-03, -1.8673e-02,\n",
      "         6.4166e-04, -5.0466e-03,  1.8736e-05,  3.0230e-03,  8.7150e-04,\n",
      "         1.5965e-03, -9.0839e-03,  1.8906e-03,  8.9471e-03, -1.4471e-03,\n",
      "         2.1079e-03,  4.0402e-03,  4.9633e-03,  2.1149e-03,  1.6377e-03,\n",
      "         5.1540e-03, -1.4229e-02, -2.5177e-03,  8.1877e-03, -1.0478e-04,\n",
      "        -3.7940e-03, -1.7631e-03, -6.0092e-03, -3.1999e-03, -1.0690e-02,\n",
      "        -4.4432e-03,  7.4626e-03, -1.9557e-03, -5.0650e-03, -1.1927e-03,\n",
      "         1.0216e-03,  5.5517e-03,  5.2241e-03,  2.4443e-03,  4.3715e-03,\n",
      "        -1.3326e-02, -6.6465e-04, -7.0671e-05, -5.6172e-03, -2.5663e-03,\n",
      "         2.6712e-03, -3.7816e-03,  2.2489e-03, -2.8724e-03,  3.7824e-03,\n",
      "         6.5430e-03,  1.0713e-03, -1.1027e-03, -1.9695e-03,  9.2420e-03,\n",
      "         3.5877e-03, -8.8936e-03, -8.7963e-03, -2.7546e-03,  6.1486e-03,\n",
      "        -5.1953e-03,  1.8803e-03,  6.5670e-04,  6.1018e-03,  1.0876e-02,\n",
      "        -2.8722e-03,  1.0059e-02, -7.5978e-04,  3.2867e-04,  4.4822e-03,\n",
      "        -3.2573e-03, -1.1026e-03, -2.7002e-02,  2.8522e-03, -2.2227e-03,\n",
      "         1.1323e-02, -5.2064e-03, -3.2392e-03], device='cuda:0',\n",
      "       requires_grad=True)), ('short2long.weight', Parameter containing:\n",
      "tensor([[-0.0655,  0.0421, -0.0397,  ...,  0.0544,  0.0548, -0.0092],\n",
      "        [ 0.0329,  0.0294, -0.0857,  ...,  0.0658, -0.0939,  0.0233],\n",
      "        [-0.0579, -0.0547,  0.0794,  ..., -0.0229,  0.0758,  0.0721],\n",
      "        ...,\n",
      "        [ 0.0384,  0.0354, -0.0479,  ...,  0.0623,  0.0480,  0.0210],\n",
      "        [ 0.0357,  0.0417,  0.0730,  ...,  0.0267, -0.0668, -0.0327],\n",
      "        [-0.0411, -0.0303, -0.0534,  ...,  0.0051,  0.0031,  0.0418]],\n",
      "       device='cuda:0', requires_grad=True)), ('short2long.bias', Parameter containing:\n",
      "tensor([ 0.0149,  0.0477,  0.0714, -0.1120,  0.0584,  0.0756, -0.0864,  0.0183,\n",
      "         0.0206, -0.0342,  0.0855, -0.0621,  0.0181,  0.0092,  0.0921, -0.0674,\n",
      "        -0.0187,  0.0623,  0.0117, -0.0187,  0.0309,  0.0179, -0.0882,  0.0187,\n",
      "         0.0634, -0.0272,  0.0777,  0.0515,  0.0359,  0.0716,  0.0512, -0.0091,\n",
      "        -0.0403, -0.0416,  0.1024, -0.0044, -0.0824,  0.0462, -0.0563, -0.0425,\n",
      "        -0.0336, -0.0808, -0.0357,  0.0789,  0.0106,  0.0395,  0.0551, -0.0552,\n",
      "         0.0446,  0.0077, -0.0592, -0.0400, -0.0662, -0.0465,  0.0383, -0.0256,\n",
      "        -0.0222, -0.0309,  0.0388, -0.0152,  0.0771, -0.0581, -0.0455, -0.1067,\n",
      "         0.0734,  0.0829,  0.0126, -0.0097, -0.0206, -0.0586,  0.0194, -0.0367,\n",
      "        -0.0223, -0.0226,  0.0803,  0.0419, -0.0836, -0.0426, -0.0356, -0.0506,\n",
      "        -0.0999, -0.0185, -0.0466,  0.0395,  0.0042, -0.0366,  0.0759, -0.0815,\n",
      "        -0.0460, -0.0597, -0.0358,  0.0862, -0.0156, -0.0013, -0.0704,  0.0305,\n",
      "         0.0145,  0.0182, -0.0624, -0.0413, -0.0456, -0.0176, -0.0357, -0.0495,\n",
      "         0.0142,  0.0481,  0.0705,  0.0520, -0.0826,  0.0692,  0.0759,  0.0091,\n",
      "         0.0485,  0.0105, -0.0202,  0.0204,  0.0237, -0.0174, -0.0721,  0.0611,\n",
      "         0.0744,  0.0170,  0.0348, -0.0600, -0.0521,  0.0477, -0.0614, -0.0128],\n",
      "       device='cuda:0', requires_grad=True)), ('ln_long.weight', Parameter containing:\n",
      "tensor([0.9905, 1.0017, 0.9983, 0.9924, 0.9868, 0.9905, 0.9894, 0.9950, 0.9892,\n",
      "        0.9740, 0.9838, 0.9952, 0.9838, 0.9786, 0.9914, 0.9927, 0.9920, 0.9953,\n",
      "        0.9934, 0.9891, 0.9799, 0.9926, 0.9824, 0.9892, 0.9932, 0.9899, 0.9855,\n",
      "        0.9934, 0.9977, 0.9912, 0.9894, 0.9916, 0.9896, 1.0006, 0.9933, 1.0015,\n",
      "        0.9895, 0.9921, 0.9921, 1.0045, 0.9928, 0.9833, 0.9945, 0.9890, 1.0059,\n",
      "        0.9965, 0.9941, 0.9993, 0.9920, 0.9955, 0.9956, 0.9936, 0.9892, 0.9982,\n",
      "        0.9901, 1.0008, 1.0002, 0.9911, 0.9831, 1.0049, 0.9934, 0.9984, 0.9895,\n",
      "        0.9975, 0.9924, 0.9719, 0.9903, 0.9797, 0.9868, 0.9940, 0.9921, 0.9960,\n",
      "        0.9894, 1.0009, 0.9949, 0.9922, 0.9912, 0.9967, 0.9967, 0.9873, 0.9920,\n",
      "        0.9995, 0.9954, 0.9901, 0.9819, 0.9924, 0.9818, 0.9946, 0.9936, 0.9742,\n",
      "        0.9863, 0.9950, 0.9972, 0.9945, 0.9840, 0.9957, 0.9895, 0.9951, 0.9983,\n",
      "        0.9971, 1.0015, 0.9950, 0.9901, 0.9806, 0.9958, 0.9952, 1.0027, 0.9949,\n",
      "        0.9965, 0.9919, 0.9777, 0.9958, 1.0015, 1.0026, 0.9870, 0.9981, 0.9905,\n",
      "        0.9958, 0.9948, 0.9897, 0.9780, 0.9820, 1.0007, 0.9892, 0.9953, 0.9835,\n",
      "        0.9928, 0.9945], device='cuda:0', requires_grad=True)), ('ln_long.bias', Parameter containing:\n",
      "tensor([ 4.3400e-03,  1.1247e-03, -3.9296e-03,  3.0502e-03,  4.9517e-03,\n",
      "        -2.5939e-03, -2.1072e-03, -9.3895e-03,  5.1205e-03, -1.6576e-03,\n",
      "        -4.2332e-03,  8.9192e-03, -2.7375e-03,  2.7146e-04,  8.0217e-03,\n",
      "         3.6792e-03, -6.6313e-03,  3.5484e-03,  4.5595e-03,  6.8437e-03,\n",
      "        -5.5522e-04,  3.9875e-03, -2.1880e-03,  2.5479e-03,  1.7013e-03,\n",
      "         8.3863e-03,  2.0616e-03, -1.4335e-04, -1.9613e-03,  1.5450e-03,\n",
      "        -5.9587e-03, -3.3293e-03,  8.7749e-03, -3.0724e-03, -4.5134e-03,\n",
      "         2.7128e-03, -5.9121e-03, -8.5762e-03, -1.1890e-02,  4.3881e-04,\n",
      "        -6.1946e-03,  2.8767e-03, -5.0024e-03, -3.1514e-03,  1.1491e-03,\n",
      "        -5.8081e-03, -6.4569e-03, -1.3966e-03, -2.6109e-03, -5.8466e-03,\n",
      "        -7.9742e-03, -3.1301e-03,  3.3801e-03,  2.6734e-03,  1.4440e-03,\n",
      "         5.8095e-03, -4.8489e-03,  3.9358e-03, -3.4015e-03,  4.7620e-03,\n",
      "        -5.0951e-03,  4.1331e-03,  1.1959e-03,  2.4942e-03,  7.5036e-03,\n",
      "        -8.6618e-04, -2.7969e-03, -1.0273e-03, -1.0255e-03, -6.9000e-03,\n",
      "        -4.3055e-03, -7.1097e-04, -5.8214e-04,  4.9692e-04,  2.4458e-04,\n",
      "        -1.1747e-02,  4.9163e-03, -1.0392e-03, -3.0951e-04, -3.0952e-03,\n",
      "         3.4267e-03, -2.0631e-03, -1.9565e-03,  1.7947e-03,  9.2024e-03,\n",
      "         4.3171e-03,  3.8018e-03,  1.0442e-03,  4.2914e-03,  7.1962e-04,\n",
      "        -3.2021e-03, -1.8221e-04, -5.9462e-03,  1.1230e-04,  1.3430e-03,\n",
      "         4.1093e-03,  2.1870e-03,  7.1377e-03,  1.4291e-03, -5.3068e-03,\n",
      "         4.7340e-03,  4.8433e-03, -4.2620e-03, -1.7642e-03, -1.8216e-03,\n",
      "        -7.5130e-03,  1.6085e-03, -4.6041e-03, -4.4491e-03,  4.9878e-03,\n",
      "        -2.0579e-03, -4.9856e-03,  3.7569e-03, -1.2501e-05,  1.6781e-03,\n",
      "        -3.9300e-03, -8.3085e-03, -2.3554e-03, -6.1121e-03,  2.0490e-03,\n",
      "         1.3454e-03, -3.0754e-03,  4.6846e-03,  7.8685e-03, -1.7491e-03,\n",
      "         3.9800e-03,  1.0141e-03,  9.8749e-04], device='cuda:0',\n",
      "       requires_grad=True)), ('pred.weight', Parameter containing:\n",
      "tensor([[ 0.0498,  0.0352,  0.0173,  0.0023, -0.0542,  0.0488,  0.0331, -0.0663,\n",
      "          0.0658,  0.0562,  0.0365, -0.0488,  0.0508, -0.0487, -0.0623, -0.0079,\n",
      "          0.0419,  0.0671,  0.0040, -0.0542,  0.0563,  0.0047,  0.0605,  0.0468,\n",
      "          0.0341, -0.0268,  0.0687,  0.0586, -0.0075,  0.0724,  0.0376,  0.0310,\n",
      "          0.0614,  0.0302, -0.0027,  0.0714,  0.0135,  0.0491, -0.0795,  0.0106,\n",
      "          0.0780, -0.0450, -0.0005, -0.0688, -0.0139, -0.0003,  0.0130,  0.0383,\n",
      "         -0.0410,  0.0170, -0.0352,  0.0056,  0.0733, -0.0311,  0.0748,  0.0226,\n",
      "         -0.0220,  0.0107, -0.0666, -0.0106,  0.0381,  0.0328,  0.0735,  0.0031,\n",
      "         -0.0700,  0.0537,  0.0347, -0.0478, -0.0451, -0.0397,  0.0345, -0.0497,\n",
      "         -0.0601,  0.0301,  0.0417,  0.0400, -0.0706,  0.0081, -0.0134, -0.0666,\n",
      "          0.0032, -0.0432, -0.0098, -0.0452, -0.0545,  0.0044, -0.0307,  0.0566,\n",
      "          0.0346, -0.0475, -0.0699, -0.0163, -0.0195, -0.0061, -0.0629, -0.0341,\n",
      "         -0.0222,  0.0202, -0.0101,  0.0700, -0.0069, -0.0258, -0.0029,  0.0510,\n",
      "         -0.0666,  0.0429,  0.0179, -0.0376, -0.0284,  0.0473,  0.0620, -0.0008,\n",
      "         -0.0223, -0.0466, -0.0290, -0.0301,  0.0122,  0.0768,  0.0041, -0.0478,\n",
      "         -0.0430,  0.0364, -0.0196, -0.0758, -0.0277, -0.0687,  0.0425,  0.0210]],\n",
      "       device='cuda:0', requires_grad=True)), ('pred.bias', Parameter containing:\n",
      "tensor([0.0206], device='cuda:0', requires_grad=True))]\n"
     ]
    }
   ],
   "source": [
    "print(list(model.named_parameters()))"
   ]
  },
  {
   "cell_type": "code",
   "execution_count": null,
   "id": "099d6337-c4d3-4316-9f5d-3232276ba227",
   "metadata": {},
   "outputs": [],
   "source": []
  }
 ],
 "metadata": {
  "kernelspec": {
   "display_name": "Python 3 (ipykernel)",
   "language": "python",
   "name": "python3"
  },
  "language_info": {
   "codemirror_mode": {
    "name": "ipython",
    "version": 3
   },
   "file_extension": ".py",
   "mimetype": "text/x-python",
   "name": "python",
   "nbconvert_exporter": "python",
   "pygments_lexer": "ipython3",
   "version": "3.12.3"
  }
 },
 "nbformat": 4,
 "nbformat_minor": 5
}
