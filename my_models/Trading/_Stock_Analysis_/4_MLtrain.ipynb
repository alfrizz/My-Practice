{
 "cells": [
  {
   "cell_type": "code",
   "execution_count": 1,
   "id": "73f06a4f-691a-4a84-a305-e7212eb879bf",
   "metadata": {},
   "outputs": [],
   "source": [
    "# %matplotlib widget\n",
    "%matplotlib inline"
   ]
  },
  {
   "cell_type": "code",
   "execution_count": 2,
   "id": "4c868158-e6bb-4d56-bbdd-8e8103f0b9e4",
   "metadata": {},
   "outputs": [],
   "source": [
    "# 1) Wipe out all Python variables\n",
    "%reset -f\n",
    "# 2) Force Python’s garbage collector to run\n",
    "import gc\n",
    "gc.collect()\n",
    "\n",
    "import importlib\n",
    "from libs import trades, plots, params, models\n",
    "importlib.reload(trades)\n",
    "importlib.reload(plots)\n",
    "importlib.reload(params)\n",
    "importlib.reload(models)\n",
    "\n",
    "import pandas as pd\n",
    "pd.set_option('display.max_columns', None)\n",
    "\n",
    "import numpy  as np\n",
    "import math\n",
    "\n",
    "import datetime as dt\n",
    "import os\n",
    "from typing import Sequence, List, Tuple, Optional, Union\n",
    "\n",
    "import torch\n",
    "import torch.nn as nn\n",
    "import torch.nn.functional as Funct\n",
    "from torch_lr_finder import LRFinder\n",
    "from torch.utils.data import DataLoader, TensorDataset\n",
    "\n",
    "from tqdm import tqdm"
   ]
  },
  {
   "cell_type": "code",
   "execution_count": 3,
   "id": "7b98406a",
   "metadata": {},
   "outputs": [
    {
     "data": {
      "text/html": [
       "<div>\n",
       "<style scoped>\n",
       "    .dataframe tbody tr th:only-of-type {\n",
       "        vertical-align: middle;\n",
       "    }\n",
       "\n",
       "    .dataframe tbody tr th {\n",
       "        vertical-align: top;\n",
       "    }\n",
       "\n",
       "    .dataframe thead th {\n",
       "        text-align: right;\n",
       "    }\n",
       "</style>\n",
       "<table border=\"1\" class=\"dataframe\">\n",
       "  <thead>\n",
       "    <tr style=\"text-align: right;\">\n",
       "      <th></th>\n",
       "      <th>r_5</th>\n",
       "      <th>r_15</th>\n",
       "      <th>vol_15</th>\n",
       "      <th>bb_width_20</th>\n",
       "      <th>rsi_14</th>\n",
       "      <th>stoch_k_14</th>\n",
       "      <th>stoch_d_3</th>\n",
       "      <th>hour</th>\n",
       "      <th>macd_12_26</th>\n",
       "      <th>vwap_dev</th>\n",
       "      <th>atr_14</th>\n",
       "      <th>ma_20</th>\n",
       "      <th>bid</th>\n",
       "      <th>ask</th>\n",
       "      <th>signal</th>\n",
       "    </tr>\n",
       "  </thead>\n",
       "  <tbody>\n",
       "    <tr>\n",
       "      <th>2004-01-02 13:09:00</th>\n",
       "      <td>-0.040971</td>\n",
       "      <td>-0.025534</td>\n",
       "      <td>-0.966783</td>\n",
       "      <td>-0.929333</td>\n",
       "      <td>-1.995735</td>\n",
       "      <td>-1.481580</td>\n",
       "      <td>-1.561625</td>\n",
       "      <td>0.493</td>\n",
       "      <td>0.000000</td>\n",
       "      <td>-0.032030</td>\n",
       "      <td>0.000000</td>\n",
       "      <td>0.000000</td>\n",
       "      <td>0.763664</td>\n",
       "      <td>0.764807</td>\n",
       "      <td>0.077619</td>\n",
       "    </tr>\n",
       "    <tr>\n",
       "      <th>2004-01-02 13:10:00</th>\n",
       "      <td>-0.054390</td>\n",
       "      <td>-0.033477</td>\n",
       "      <td>-0.965007</td>\n",
       "      <td>-0.921566</td>\n",
       "      <td>-1.995735</td>\n",
       "      <td>-1.481580</td>\n",
       "      <td>-1.561625</td>\n",
       "      <td>0.493</td>\n",
       "      <td>-1.000000</td>\n",
       "      <td>-0.036171</td>\n",
       "      <td>1.000000</td>\n",
       "      <td>-1.000000</td>\n",
       "      <td>0.763647</td>\n",
       "      <td>0.764790</td>\n",
       "      <td>0.082208</td>\n",
       "    </tr>\n",
       "    <tr>\n",
       "      <th>2004-01-02 13:11:00</th>\n",
       "      <td>-0.067809</td>\n",
       "      <td>-0.041420</td>\n",
       "      <td>-0.963779</td>\n",
       "      <td>-0.913246</td>\n",
       "      <td>-1.995735</td>\n",
       "      <td>-1.481580</td>\n",
       "      <td>-1.561625</td>\n",
       "      <td>0.493</td>\n",
       "      <td>-1.052039</td>\n",
       "      <td>-0.040262</td>\n",
       "      <td>1.000000</td>\n",
       "      <td>-1.111111</td>\n",
       "      <td>0.763631</td>\n",
       "      <td>0.764773</td>\n",
       "      <td>0.087074</td>\n",
       "    </tr>\n",
       "    <tr>\n",
       "      <th>2004-01-02 13:12:00</th>\n",
       "      <td>-0.067810</td>\n",
       "      <td>-0.049363</td>\n",
       "      <td>-0.963001</td>\n",
       "      <td>-0.904541</td>\n",
       "      <td>-1.995735</td>\n",
       "      <td>-1.481580</td>\n",
       "      <td>-1.561625</td>\n",
       "      <td>0.493</td>\n",
       "      <td>-1.049817</td>\n",
       "      <td>-0.044296</td>\n",
       "      <td>1.000000</td>\n",
       "      <td>-1.133333</td>\n",
       "      <td>0.763614</td>\n",
       "      <td>0.764757</td>\n",
       "      <td>0.092235</td>\n",
       "    </tr>\n",
       "    <tr>\n",
       "      <th>2004-01-02 13:13:00</th>\n",
       "      <td>-0.067812</td>\n",
       "      <td>-0.057307</td>\n",
       "      <td>-0.962622</td>\n",
       "      <td>-0.895592</td>\n",
       "      <td>-1.995735</td>\n",
       "      <td>-1.481580</td>\n",
       "      <td>-1.561625</td>\n",
       "      <td>0.493</td>\n",
       "      <td>-1.051188</td>\n",
       "      <td>-0.048268</td>\n",
       "      <td>1.000000</td>\n",
       "      <td>-1.181818</td>\n",
       "      <td>0.763597</td>\n",
       "      <td>0.764740</td>\n",
       "      <td>0.097706</td>\n",
       "    </tr>\n",
       "    <tr>\n",
       "      <th>...</th>\n",
       "      <td>...</td>\n",
       "      <td>...</td>\n",
       "      <td>...</td>\n",
       "      <td>...</td>\n",
       "      <td>...</td>\n",
       "      <td>...</td>\n",
       "      <td>...</td>\n",
       "      <td>...</td>\n",
       "      <td>...</td>\n",
       "      <td>...</td>\n",
       "      <td>...</td>\n",
       "      <td>...</td>\n",
       "      <td>...</td>\n",
       "      <td>...</td>\n",
       "      <td>...</td>\n",
       "    </tr>\n",
       "    <tr>\n",
       "      <th>2025-06-18 20:56:00</th>\n",
       "      <td>1.742521</td>\n",
       "      <td>1.317936</td>\n",
       "      <td>0.507307</td>\n",
       "      <td>0.122381</td>\n",
       "      <td>0.750521</td>\n",
       "      <td>0.619888</td>\n",
       "      <td>0.342752</td>\n",
       "      <td>-0.939</td>\n",
       "      <td>1.966827</td>\n",
       "      <td>0.407906</td>\n",
       "      <td>2.101234</td>\n",
       "      <td>-0.132433</td>\n",
       "      <td>196.667400</td>\n",
       "      <td>196.962600</td>\n",
       "      <td>0.417935</td>\n",
       "    </tr>\n",
       "    <tr>\n",
       "      <th>2025-06-18 20:57:00</th>\n",
       "      <td>0.887590</td>\n",
       "      <td>1.115397</td>\n",
       "      <td>0.566581</td>\n",
       "      <td>0.187641</td>\n",
       "      <td>0.451158</td>\n",
       "      <td>0.223810</td>\n",
       "      <td>0.415204</td>\n",
       "      <td>-0.939</td>\n",
       "      <td>2.007157</td>\n",
       "      <td>0.263954</td>\n",
       "      <td>2.263666</td>\n",
       "      <td>-0.095682</td>\n",
       "      <td>196.527500</td>\n",
       "      <td>196.822500</td>\n",
       "      <td>0.368513</td>\n",
       "    </tr>\n",
       "    <tr>\n",
       "      <th>2025-06-18 20:58:00</th>\n",
       "      <td>0.341995</td>\n",
       "      <td>0.828890</td>\n",
       "      <td>0.542508</td>\n",
       "      <td>0.241322</td>\n",
       "      <td>0.386888</td>\n",
       "      <td>0.209943</td>\n",
       "      <td>0.370103</td>\n",
       "      <td>-0.939</td>\n",
       "      <td>2.010664</td>\n",
       "      <td>0.254269</td>\n",
       "      <td>2.242849</td>\n",
       "      <td>-0.061664</td>\n",
       "      <td>196.522500</td>\n",
       "      <td>196.817500</td>\n",
       "      <td>0.365417</td>\n",
       "    </tr>\n",
       "    <tr>\n",
       "      <th>2025-06-18 20:59:00</th>\n",
       "      <td>-0.842944</td>\n",
       "      <td>-0.094079</td>\n",
       "      <td>0.903328</td>\n",
       "      <td>0.245429</td>\n",
       "      <td>0.030308</td>\n",
       "      <td>-0.982637</td>\n",
       "      <td>-0.192907</td>\n",
       "      <td>-0.939</td>\n",
       "      <td>1.616873</td>\n",
       "      <td>-0.173638</td>\n",
       "      <td>2.504253</td>\n",
       "      <td>-0.063324</td>\n",
       "      <td>196.092800</td>\n",
       "      <td>196.387200</td>\n",
       "      <td>0.280949</td>\n",
       "    </tr>\n",
       "    <tr>\n",
       "      <th>2025-06-18 21:00:00</th>\n",
       "      <td>-0.468049</td>\n",
       "      <td>0.663058</td>\n",
       "      <td>1.017126</td>\n",
       "      <td>0.236868</td>\n",
       "      <td>0.308515</td>\n",
       "      <td>-0.173363</td>\n",
       "      <td>-0.332445</td>\n",
       "      <td>-0.960</td>\n",
       "      <td>1.550358</td>\n",
       "      <td>0.115538</td>\n",
       "      <td>2.861997</td>\n",
       "      <td>-0.032866</td>\n",
       "      <td>196.392600</td>\n",
       "      <td>196.687400</td>\n",
       "      <td>0.202951</td>\n",
       "    </tr>\n",
       "  </tbody>\n",
       "</table>\n",
       "<p>3601230 rows × 15 columns</p>\n",
       "</div>"
      ],
      "text/plain": [
       "                          r_5      r_15    vol_15  bb_width_20    rsi_14  \\\n",
       "2004-01-02 13:09:00 -0.040971 -0.025534 -0.966783    -0.929333 -1.995735   \n",
       "2004-01-02 13:10:00 -0.054390 -0.033477 -0.965007    -0.921566 -1.995735   \n",
       "2004-01-02 13:11:00 -0.067809 -0.041420 -0.963779    -0.913246 -1.995735   \n",
       "2004-01-02 13:12:00 -0.067810 -0.049363 -0.963001    -0.904541 -1.995735   \n",
       "2004-01-02 13:13:00 -0.067812 -0.057307 -0.962622    -0.895592 -1.995735   \n",
       "...                       ...       ...       ...          ...       ...   \n",
       "2025-06-18 20:56:00  1.742521  1.317936  0.507307     0.122381  0.750521   \n",
       "2025-06-18 20:57:00  0.887590  1.115397  0.566581     0.187641  0.451158   \n",
       "2025-06-18 20:58:00  0.341995  0.828890  0.542508     0.241322  0.386888   \n",
       "2025-06-18 20:59:00 -0.842944 -0.094079  0.903328     0.245429  0.030308   \n",
       "2025-06-18 21:00:00 -0.468049  0.663058  1.017126     0.236868  0.308515   \n",
       "\n",
       "                     stoch_k_14  stoch_d_3   hour  macd_12_26  vwap_dev  \\\n",
       "2004-01-02 13:09:00   -1.481580  -1.561625  0.493    0.000000 -0.032030   \n",
       "2004-01-02 13:10:00   -1.481580  -1.561625  0.493   -1.000000 -0.036171   \n",
       "2004-01-02 13:11:00   -1.481580  -1.561625  0.493   -1.052039 -0.040262   \n",
       "2004-01-02 13:12:00   -1.481580  -1.561625  0.493   -1.049817 -0.044296   \n",
       "2004-01-02 13:13:00   -1.481580  -1.561625  0.493   -1.051188 -0.048268   \n",
       "...                         ...        ...    ...         ...       ...   \n",
       "2025-06-18 20:56:00    0.619888   0.342752 -0.939    1.966827  0.407906   \n",
       "2025-06-18 20:57:00    0.223810   0.415204 -0.939    2.007157  0.263954   \n",
       "2025-06-18 20:58:00    0.209943   0.370103 -0.939    2.010664  0.254269   \n",
       "2025-06-18 20:59:00   -0.982637  -0.192907 -0.939    1.616873 -0.173638   \n",
       "2025-06-18 21:00:00   -0.173363  -0.332445 -0.960    1.550358  0.115538   \n",
       "\n",
       "                       atr_14     ma_20         bid         ask    signal  \n",
       "2004-01-02 13:09:00  0.000000  0.000000    0.763664    0.764807  0.077619  \n",
       "2004-01-02 13:10:00  1.000000 -1.000000    0.763647    0.764790  0.082208  \n",
       "2004-01-02 13:11:00  1.000000 -1.111111    0.763631    0.764773  0.087074  \n",
       "2004-01-02 13:12:00  1.000000 -1.133333    0.763614    0.764757  0.092235  \n",
       "2004-01-02 13:13:00  1.000000 -1.181818    0.763597    0.764740  0.097706  \n",
       "...                       ...       ...         ...         ...       ...  \n",
       "2025-06-18 20:56:00  2.101234 -0.132433  196.667400  196.962600  0.417935  \n",
       "2025-06-18 20:57:00  2.263666 -0.095682  196.527500  196.822500  0.368513  \n",
       "2025-06-18 20:58:00  2.242849 -0.061664  196.522500  196.817500  0.365417  \n",
       "2025-06-18 20:59:00  2.504253 -0.063324  196.092800  196.387200  0.280949  \n",
       "2025-06-18 21:00:00  2.861997 -0.032866  196.392600  196.687400  0.202951  \n",
       "\n",
       "[3601230 rows x 15 columns]"
      ]
     },
     "execution_count": 3,
     "metadata": {},
     "output_type": "execute_result"
    }
   ],
   "source": [
    "df_feat_sel = pd.read_csv(params.feat_sel_csv, index_col=0, parse_dates=True)\n",
    "df_feat_sel"
   ]
  },
  {
   "cell_type": "code",
   "execution_count": 4,
   "id": "b805fa9c",
   "metadata": {},
   "outputs": [
    {
     "data": {
      "application/vnd.jupyter.widget-view+json": {
       "model_id": "1c38ee61432d4f47b14567f27ae97489",
       "version_major": 2,
       "version_minor": 0
      },
      "text/plain": [
       "Counting windows:   0%|          | 0/5400 [00:00<?, ?it/s]"
      ]
     },
     "metadata": {},
     "output_type": "display_data"
    },
    {
     "data": {
      "application/vnd.jupyter.widget-view+json": {
       "model_id": "300942d9cac349a0a8a5c4b1614e967d",
       "version_major": 2,
       "version_minor": 0
      },
      "text/plain": [
       "Writing memmaps:   0%|          | 0/5400 [00:00<?, ?it/s]"
      ]
     },
     "metadata": {},
     "output_type": "display_data"
    },
    {
     "name": "stdout",
     "output_type": "stream",
     "text": [
      "Shapes:\n",
      "  X         = torch.Size([2412342, 60, 12]) (samples, look_back, features)\n",
      "  y_sig     = torch.Size([2412342]) (samples,)\n",
      "  y_ret     = torch.Size([2412342]) (samples,)\n",
      "  raw_close = torch.Size([2412342])\n",
      "  raw_bid   = torch.Size([2412342])\n",
      "  raw_ask   = torch.Size([2412342])\n",
      "  end_times = (2412342,)\n"
     ]
    }
   ],
   "source": [
    "X, y_sig, y_ret, raw_close, raw_bid, raw_ask, end_times = models.build_lstm_tensors(\n",
    "    df            = df_feat_sel,\n",
    "    sess_start    = params.sess_start_pred_tick \n",
    ")\n",
    "\n",
    "# quick shapes\n",
    "print(\"Shapes:\")\n",
    "print(\"  X         =\", X.shape,    \"(samples, look_back, features)\")\n",
    "print(\"  y_sig     =\", y_sig.shape, \"(samples,)\")\n",
    "print(\"  y_ret     =\", y_ret.shape, \"(samples,)\")\n",
    "print(\"  raw_close =\", raw_close.shape)\n",
    "print(\"  raw_bid   =\", raw_bid.shape)\n",
    "print(\"  raw_ask   =\", raw_ask.shape)\n",
    "print(\"  end_times =\", end_times.shape)\n"
   ]
  },
  {
   "cell_type": "code",
   "execution_count": 5,
   "id": "7b4f1ac4",
   "metadata": {},
   "outputs": [
    {
     "name": "stdout",
     "output_type": "stream",
     "text": [
      "Shapes:\n",
      "  X_tr  = torch.Size([1694522, 60, 12])\n",
      "  y_sig_tr, y_ret_tr = torch.Size([1694522]) torch.Size([1694522])\n",
      "  X_val = torch.Size([353129, 60, 12])\n",
      "  y_sig_val, y_ret_val = torch.Size([353129]) torch.Size([353129])\n",
      "  X_te  = torch.Size([364691, 60, 12])\n",
      "  y_sig_te, y_ret_te = torch.Size([364691]) torch.Size([364691])\n"
     ]
    }
   ],
   "source": [
    "# Split into train/val/test by calendar day\n",
    "(\n",
    "(X_tr,  y_sig_tr,  y_ret_tr),\n",
    "(X_val, y_sig_val, y_ret_val),\n",
    "(X_te,  y_sig_te,  y_ret_te,  raw_close_te, raw_bid_te, raw_ask_te),\n",
    "samples_per_day,\n",
    "day_id_tr, day_id_val, day_id_te\n",
    ") = models.chronological_split(\n",
    "    X, y_sig, y_ret,\n",
    "    raw_close, raw_bid, raw_ask,\n",
    "    end_times   = end_times,\n",
    "    train_prop  = params.train_prop,\n",
    "    val_prop    = params.val_prop,\n",
    "    train_batch = params.hparams['TRAIN_BATCH']\n",
    ")\n",
    "\n",
    "# Print shapes of all tensors\n",
    "print(\"Shapes:\")\n",
    "print(\"  X_tr  =\", X_tr.shape)\n",
    "print(\"  y_sig_tr, y_ret_tr =\", y_sig_tr.shape, y_ret_tr.shape)\n",
    "print(\"  X_val =\", X_val.shape)\n",
    "print(\"  y_sig_val, y_ret_val =\", y_sig_val.shape, y_ret_val.shape)\n",
    "print(\"  X_te  =\", X_te.shape)\n",
    "print(\"  y_sig_te, y_ret_te =\", y_sig_te.shape, y_ret_te.shape)\n"
   ]
  },
  {
   "cell_type": "code",
   "execution_count": 6,
   "id": "1ad9b6c4-3d79-45c0-b2c0-c4f46f1ad866",
   "metadata": {},
   "outputs": [
    {
     "data": {
      "application/vnd.jupyter.widget-view+json": {
       "model_id": "0594020817454301abb9bcd21ca9b306",
       "version_major": 2,
       "version_minor": 0
      },
      "text/plain": [
       "Creating DayWindowDatasets:   0%|          | 0/3 [00:00<?, ?split/s]"
      ]
     },
     "metadata": {},
     "output_type": "display_data"
    },
    {
     "name": "stdout",
     "output_type": "stream",
     "text": [
      "Days  → train=3808, val=783, test=809\n",
      "Batches → train=119,   val=783,   test=809\n"
     ]
    }
   ],
   "source": [
    "# carve `end_times` into the same three splits:\n",
    "n_tr  = day_id_tr .shape[0] \n",
    "n_val = day_id_val.shape[0]\n",
    "i_tr  = n_tr\n",
    "i_val = n_tr + n_val\n",
    "\n",
    "end_times_tr  = end_times[:i_tr]\n",
    "end_times_val = end_times[i_tr:i_val]\n",
    "end_times_te  = end_times[i_val:]\n",
    "\n",
    "# -----------------------------------------------------------------------------\n",
    "#  Build DataLoaders over calendar‐days\n",
    "# -----------------------------------------------------------------------------\n",
    "train_loader, val_loader, test_loader = models.split_to_day_datasets(\n",
    "    # train split:   \n",
    "    X_tr,            y_sig_tr,     y_ret_tr,   end_times_tr,\n",
    "    # val split:\n",
    "    X_val,           y_sig_val,    y_ret_val,  end_times_val,\n",
    "    # test split + raw‐prices\n",
    "    X_te,            y_sig_te,     y_ret_te,   end_times_te,\n",
    "    raw_close_te, raw_bid_te, raw_ask_te,\n",
    "    \n",
    "    sess_start_time       = params.sess_start_pred_tick,\n",
    "    signal_thresh         = params.best_optuna_params[\"buy_threshold\"],\n",
    "    return_thresh         = 0.01,  # flat‐zone threshold for returns (to tune)\n",
    "    train_batch           = params.hparams[\"TRAIN_BATCH\"],\n",
    "    train_workers         = params.hparams[\"NUM_WORKERS\"],\n",
    "    train_prefetch_factor = params.hparams[\"TRAIN_PREFETCH_FACTOR\"]\n",
    ")\n",
    "\n",
    "print(f\"Days  → train={len(train_loader.dataset)}, val={len(val_loader.dataset)}, test={len(test_loader.dataset)}\")\n",
    "print(f\"Batches → train={len(train_loader)},   val={len(val_loader)},   test={len(test_loader)}\")"
   ]
  },
  {
   "cell_type": "code",
   "execution_count": 7,
   "id": "eeec031f-6c8f-455f-9c72-ae411e03ba34",
   "metadata": {},
   "outputs": [
    {
     "data": {
      "text/plain": [
       "DualMemoryLSTM(\n",
       "  (conv): Conv1d(12, 12, kernel_size=(3,), stride=(1,), padding=(1,))\n",
       "  (short_lstm): LSTM(12, 48, batch_first=True, bidirectional=True)\n",
       "  (attn): MultiheadAttention(\n",
       "    (out_proj): NonDynamicallyQuantizableLinear(in_features=96, out_features=96, bias=True)\n",
       "  )\n",
       "  (do_short): Dropout(p=0.25, inplace=False)\n",
       "  (ln_short): LayerNorm((96,), eps=1e-05, elementwise_affine=True)\n",
       "  (long_lstm): LSTM(96, 64, batch_first=True, bidirectional=True)\n",
       "  (do_long): Dropout(p=0.3, inplace=False)\n",
       "  (ln_long): LayerNorm((128,), eps=1e-05, elementwise_affine=True)\n",
       "  (pred): Linear(in_features=128, out_features=1, bias=True)\n",
       "  (cls_head): Linear(in_features=128, out_features=1, bias=True)\n",
       "  (cls_ter): Linear(in_features=128, out_features=3, bias=True)\n",
       ")"
      ]
     },
     "execution_count": 7,
     "metadata": {},
     "output_type": "execute_result"
    }
   ],
   "source": [
    "# -----------------------------------------------------------------------------\n",
    "# Instantiate the stateful DualMemoryLSTM & move to device\n",
    "# -----------------------------------------------------------------------------\n",
    "model = models.DualMemoryLSTM(\n",
    "    n_feats        = X.shape[-1],                          \n",
    "    short_units    = params.hparams['SHORT_UNITS'],    \n",
    "    long_units     = params.hparams['LONG_UNITS'],     \n",
    "    dropout_short  = params.hparams['DROPOUT_SHORT'],  \n",
    "    dropout_long   = params.hparams['DROPOUT_LONG'],   \n",
    "    att_heads      = params.hparams['ATT_HEADS'],\n",
    "    att_drop       = params.hparams['ATT_DROPOUT']\n",
    ")\n",
    "model.to(params.device)  \n",
    "\n",
    "model"
   ]
  },
  {
   "cell_type": "code",
   "execution_count": 8,
   "id": "5512a0dd-d2c8-418e-bfca-4580fb4be995",
   "metadata": {},
   "outputs": [
    {
     "data": {
      "text/plain": [
       "AdamW (\n",
       "Parameter Group 0\n",
       "    amsgrad: False\n",
       "    betas: (0.9, 0.999)\n",
       "    capturable: False\n",
       "    decoupled_weight_decay: True\n",
       "    differentiable: False\n",
       "    eps: 1e-08\n",
       "    foreach: None\n",
       "    fused: None\n",
       "    initial_lr: 5e-05\n",
       "    lr: 5e-05\n",
       "    maximize: False\n",
       "    weight_decay: 0.001\n",
       ")"
      ]
     },
     "execution_count": 8,
     "metadata": {},
     "output_type": "execute_result"
    }
   ],
   "source": [
    "# -----------------------------------------------------------------------------\n",
    "# Compute plateau_sched timing parameters\n",
    "# -----------------------------------------------------------------------------\n",
    "# Total training samples = total windows in X_tr (one window per row)\n",
    "n_train_samples = X_tr.shape[0]\n",
    "\n",
    "# How many optimizer steps (day‐bundles) constitute one epoch?\n",
    "steps_per_epoch = len(train_loader)\n",
    "\n",
    "\n",
    "# -----------------------------------------------------------------------------\n",
    "# Build optimizer, LR scheduler, AMP scaler, and gradient‐clip norm\n",
    "# -----------------------------------------------------------------------------\n",
    "optimizer, plateau_sched, cosine_sched, scaler, clipnorm = models.make_optimizer_and_scheduler(\n",
    "    model,\n",
    "    initial_lr        = params.hparams['INITIAL_LR'],       \n",
    "    weight_decay      = params.hparams['WEIGHT_DECAY'],     \n",
    "    clipnorm          = params.hparams['CLIPNORM']   \n",
    ")\n",
    "\n",
    "optimizer"
   ]
  },
  {
   "cell_type": "code",
   "execution_count": 9,
   "id": "e9c5fc27-f31d-4adc-a247-5468674f83fc",
   "metadata": {},
   "outputs": [
    {
     "name": "stdout",
     "output_type": "stream",
     "text": [
      "Training sees 3808 calendar days per epoch\n",
      "\n",
      "Baseline (zero‐forecast) RMSE on validation = 0.414885\n"
     ]
    }
   ],
   "source": [
    "# -----------------------------------------------------------------------------\n",
    "# Count how many calendar days we see each epoch and Compute baseline RMSE on validation (zero forecast)\n",
    "# -----------------------------------------------------------------------------\n",
    "n_train_days = len(train_loader.dataset)  # dataset length = # unique days\n",
    "print(f\"Training sees {n_train_days} calendar days per epoch\\n\")\n",
    "\n",
    "baseline_val_rmse = models.naive_rmse(val_loader)\n",
    "print(f\"Baseline (zero‐forecast) RMSE on validation = {baseline_val_rmse:.6f}\")"
   ]
  },
  {
   "cell_type": "code",
   "execution_count": 10,
   "id": "4e8b0100-3e19-4fb9-a428-22860dc29c17",
   "metadata": {},
   "outputs": [],
   "source": [
    "# # grab one batch from the train loader\n",
    "# batch = next(iter(train_loader))\n",
    "\n",
    "# # unpack it\n",
    "# x_seq, y_sig_seq, y_ret_seq, *rest = batch\n",
    "\n",
    "# print(\"x_seq shape   \", x_seq.shape)\n",
    "# print(\"y_sig_seq     \", y_sig_seq.shape, \" NaNs? \", torch.isnan(y_sig_seq).any().item())\n",
    "# print(\"y_ret_seq     \", y_ret_seq.shape, \" NaNs? \", torch.isnan(y_ret_seq).any().item())\n",
    "\n",
    "\n",
    "# # move to device\n",
    "# x_seq = x_seq.to(params.device)\n",
    "# y_sig_seq = y_sig_seq.to(params.device)\n",
    "# y_ret_seq = y_ret_seq.to(params.device)\n",
    "\n",
    "# # forward‐only (no backward yet)\n",
    "# with torch.no_grad():\n",
    "#     pr, pc, _ = model(x_seq)\n",
    "\n",
    "# print(\"pr shape       \", pr.shape)\n",
    "# print(\"pc shape       \", pc.shape)\n",
    "# print(\"any NaN in pr? \", torch.isnan(pr).any().item())\n",
    "# print(\"any NaN in pc? \", torch.isnan(pc).any().item())\n"
   ]
  },
  {
   "cell_type": "code",
   "execution_count": 11,
   "id": "b045e55a-46d2-40d5-927e-e3f32a7fc4eb",
   "metadata": {},
   "outputs": [],
   "source": [
    "# import torch.nn as nn\n",
    "\n",
    "# # 1) recreate your losses (use the same β, weights, thresholds)\n",
    "# huber   = nn.SmoothL1Loss(beta=params.hparams[\"HUBER_BETA\"])\n",
    "# bce     = nn.BCEWithLogitsLoss()\n",
    "# ce      = nn.CrossEntropyLoss()\n",
    "# alpha   = params.hparams[\"CLS_LOSS_WEIGHT\"]\n",
    "# ret_thr = 0.01                # or your return_thresh\n",
    "\n",
    "# # 2) flatten batch×window dims to match pr/pc\n",
    "# #    pr,pc shapes: (batch*W, seq_len, heads)\n",
    "# #    we take the last time‐step along seq_len\n",
    "# pr_last = pr[:, -1, 0]        # (batch*W,)\n",
    "# pc_last = pc[:, -1, :]        # (batch*W, #classes or 1)\n",
    "\n",
    "# # 3) regression loss\n",
    "# sig_true  = y_sig_seq.reshape(-1).to(pr.device)  # (batch*W,)\n",
    "# sig_hat   = torch.sigmoid(pr_last)\n",
    "# reg_loss  = huber(sig_hat, sig_true)\n",
    "\n",
    "# # 4) binary‐cls loss\n",
    "# cls_logits = pc[:, -1, 0]     # same dim as pr_last\n",
    "# cls_true   = (sig_true > params.best_optuna_params[\"buy_threshold\"]).float()\n",
    "# cls_loss   = bce(cls_logits, cls_true)\n",
    "\n",
    "# # 5) ternary‐return loss\n",
    "# ret_true   = y_ret_seq.reshape(-1).to(pr.device)\n",
    "# ter_true   = torch.ones_like(ret_true, dtype=torch.long)\n",
    "# ter_true[ ret_true >  ret_thr] = 2\n",
    "# ter_true[ ret_true < -ret_thr] = 0\n",
    "# ter_loss   = ce(pc_last, ter_true)\n",
    "\n",
    "# # 6) total\n",
    "# loss = reg_loss + alpha*cls_loss + ter_loss\n",
    "\n",
    "# print(\"reg_loss:\", reg_loss.item())\n",
    "# print(\"cls_loss:\", cls_loss.item())\n",
    "# print(\"ter_loss:\", ter_loss.item())\n",
    "# print(\"total_loss:\", loss.item())\n",
    "# assert not torch.isnan(loss), \"▶️ Loss is NaN here!\"\n"
   ]
  },
  {
   "cell_type": "code",
   "execution_count": 12,
   "id": "7bf94780-a876-4bf4-ad27-6abc2da1fc0a",
   "metadata": {},
   "outputs": [
    {
     "data": {
      "image/png": "[encoded data removed]",
      "text/plain": [
       "<Figure size 660x440 with 1 Axes>"
      ]
     },
     "metadata": {},
     "output_type": "display_data"
    },
    {
     "data": {
      "application/vnd.jupyter.widget-view+json": {
       "model_id": "eb4c4c002a75428aa968bc7bd855ba54",
       "version_major": 2,
       "version_minor": 0
      },
      "text/plain": [
       "Epoch 1:   0%|          | 0/119 [00:00<?, ?batch/s]"
      ]
     },
     "metadata": {},
     "output_type": "display_data"
    },
    {
     "name": "stdout",
     "output_type": "stream",
     "text": [
      "Epoch 001\n",
      "TRAIN→ \"R\": RMSE=0.2769 MAE=0.2053 R2=0.0649 | \"B\": Acc=0.6875 Prec=0.4509 Rec=0.2010 F1=0.2781 AUROC=0.6390\n",
      "VALID→ \"R\": RMSE=0.3052 MAE=0.2093 R2=-0.2272 | \"B\": Acc=0.7128 Prec=0.8043 Rec=0.0270 F1=0.0522 AUROC=0.6839\n"
     ]
    },
    {
     "data": {
      "application/vnd.jupyter.widget-view+json": {
       "model_id": "7a33f13693514d488ee117b3b4374ce7",
       "version_major": 2,
       "version_minor": 0
      },
      "text/plain": [
       "Epoch 2:   0%|          | 0/119 [00:00<?, ?batch/s]"
      ]
     },
     "metadata": {},
     "output_type": "display_data"
    },
    {
     "name": "stdout",
     "output_type": "stream",
     "text": [
      "Epoch 002\n",
      "TRAIN→ \"R\": RMSE=0.2698 MAE=0.1971 R2=0.1121 | \"B\": Acc=0.7109 Prec=0.5556 Rec=0.1722 F1=0.2630 AUROC=0.6474\n",
      "VALID→ \"R\": RMSE=0.2904 MAE=0.1997 R2=-0.1109 | \"B\": Acc=0.7241 Prec=0.7518 Rec=0.0878 F1=0.1572 AUROC=0.7075\n"
     ]
    },
    {
     "data": {
      "application/vnd.jupyter.widget-view+json": {
       "model_id": "de4c204b0beb4d4883c098a9fb1a224c",
       "version_major": 2,
       "version_minor": 0
      },
      "text/plain": [
       "Epoch 3:   0%|          | 0/119 [00:00<?, ?batch/s]"
      ]
     },
     "metadata": {},
     "output_type": "display_data"
    },
    {
     "name": "stdout",
     "output_type": "stream",
     "text": [
      "Epoch 003\n",
      "TRAIN→ \"R\": RMSE=0.2632 MAE=0.1922 R2=0.1546 | \"B\": Acc=0.7215 Prec=0.5852 Rec=0.2399 F1=0.3403 AUROC=0.6846\n",
      "VALID→ \"R\": RMSE=0.2777 MAE=0.1920 R2=-0.0159 | \"B\": Acc=0.7328 Prec=0.7267 Rec=0.1422 F1=0.2379 AUROC=0.7247\n"
     ]
    },
    {
     "data": {
      "application/vnd.jupyter.widget-view+json": {
       "model_id": "1e74f8ca7fd04611bae798928724efa7",
       "version_major": 2,
       "version_minor": 0
      },
      "text/plain": [
       "Epoch 4:   0%|          | 0/119 [00:00<?, ?batch/s]"
      ]
     },
     "metadata": {},
     "output_type": "display_data"
    },
    {
     "name": "stdout",
     "output_type": "stream",
     "text": [
      "Epoch 004\n",
      "TRAIN→ \"R\": RMSE=0.2598 MAE=0.1894 R2=0.1769 | \"B\": Acc=0.7298 Prec=0.6054 Rec=0.2800 F1=0.3829 AUROC=0.7083\n",
      "VALID→ \"R\": RMSE=0.2703 MAE=0.1875 R2=0.0376 | \"B\": Acc=0.7415 Prec=0.7168 Rec=0.1958 F1=0.3076 AUROC=0.7375\n"
     ]
    },
    {
     "data": {
      "application/vnd.jupyter.widget-view+json": {
       "model_id": "15ad5cf9bbe64f2293d296da258f9036",
       "version_major": 2,
       "version_minor": 0
      },
      "text/plain": [
       "Epoch 5:   0%|          | 0/119 [00:00<?, ?batch/s]"
      ]
     },
     "metadata": {},
     "output_type": "display_data"
    },
    {
     "name": "stdout",
     "output_type": "stream",
     "text": [
      "Epoch 005\n",
      "TRAIN→ \"R\": RMSE=0.2580 MAE=0.1882 R2=0.1877 | \"B\": Acc=0.7351 Prec=0.6162 Rec=0.3057 F1=0.4087 AUROC=0.7222\n",
      "VALID→ \"R\": RMSE=0.2671 MAE=0.1854 R2=0.0603 | \"B\": Acc=0.7468 Prec=0.7037 Rec=0.2353 F1=0.3527 AUROC=0.7457\n"
     ]
    },
    {
     "data": {
      "application/vnd.jupyter.widget-view+json": {
       "model_id": "5f3a20b5290a4ed0a48935241221880c",
       "version_major": 2,
       "version_minor": 0
      },
      "text/plain": [
       "Epoch 6:   0%|          | 0/119 [00:00<?, ?batch/s]"
      ]
     },
     "metadata": {},
     "output_type": "display_data"
    },
    {
     "name": "stdout",
     "output_type": "stream",
     "text": [
      "Epoch 006\n",
      "TRAIN→ \"R\": RMSE=0.2568 MAE=0.1871 R2=0.1956 | \"B\": Acc=0.7383 Prec=0.6215 Rec=0.3221 F1=0.4243 AUROC=0.7305\n",
      "VALID→ \"R\": RMSE=0.2645 MAE=0.1837 R2=0.0783 | \"B\": Acc=0.7496 Prec=0.6951 Rec=0.2599 F1=0.3784 AUROC=0.7507\n"
     ]
    },
    {
     "data": {
      "application/vnd.jupyter.widget-view+json": {
       "model_id": "46e57a28231c4337af37e26bb931d20d",
       "version_major": 2,
       "version_minor": 0
      },
      "text/plain": [
       "Epoch 7:   0%|          | 0/119 [00:00<?, ?batch/s]"
      ]
     },
     "metadata": {},
     "output_type": "display_data"
    },
    {
     "name": "stdout",
     "output_type": "stream",
     "text": [
      "Epoch 007\n",
      "TRAIN→ \"R\": RMSE=0.2561 MAE=0.1865 R2=0.2001 | \"B\": Acc=0.7397 Prec=0.6227 Rec=0.3313 F1=0.4325 AUROC=0.7354\n",
      "VALID→ \"R\": RMSE=0.2627 MAE=0.1825 R2=0.0906 | \"B\": Acc=0.7512 Prec=0.6920 Rec=0.2730 F1=0.3915 AUROC=0.7543\n"
     ]
    },
    {
     "data": {
      "application/vnd.jupyter.widget-view+json": {
       "model_id": "311c92e44d2d4754a3a2781e1a4f3b3f",
       "version_major": 2,
       "version_minor": 0
      },
      "text/plain": [
       "Epoch 8:   0%|          | 0/119 [00:00<?, ?batch/s]"
      ]
     },
     "metadata": {},
     "output_type": "display_data"
    },
    {
     "name": "stdout",
     "output_type": "stream",
     "text": [
      "Epoch 008\n",
      "TRAIN→ \"R\": RMSE=0.2553 MAE=0.1858 R2=0.2049 | \"B\": Acc=0.7414 Prec=0.6261 Rec=0.3381 F1=0.4391 AUROC=0.7396\n",
      "VALID→ \"R\": RMSE=0.2616 MAE=0.1818 R2=0.0983 | \"B\": Acc=0.7525 Prec=0.6870 Rec=0.2860 F1=0.4039 AUROC=0.7568\n"
     ]
    },
    {
     "data": {
      "application/vnd.jupyter.widget-view+json": {
       "model_id": "2fadd41930ca466ab15af3edbc40def9",
       "version_major": 2,
       "version_minor": 0
      },
      "text/plain": [
       "Epoch 9:   0%|          | 0/119 [00:00<?, ?batch/s]"
      ]
     },
     "metadata": {},
     "output_type": "display_data"
    },
    {
     "name": "stdout",
     "output_type": "stream",
     "text": [
      "Epoch 009\n",
      "TRAIN→ \"R\": RMSE=0.2548 MAE=0.1854 R2=0.2082 | \"B\": Acc=0.7420 Prec=0.6256 Rec=0.3440 F1=0.4439 AUROC=0.7421\n",
      "VALID→ \"R\": RMSE=0.2605 MAE=0.1810 R2=0.1059 | \"B\": Acc=0.7532 Prec=0.6855 Rec=0.2925 F1=0.4101 AUROC=0.7588\n"
     ]
    },
    {
     "data": {
      "application/vnd.jupyter.widget-view+json": {
       "model_id": "e98aaf9eb38241ac956c9253c0c416ad",
       "version_major": 2,
       "version_minor": 0
      },
      "text/plain": [
       "Epoch 10:   0%|          | 0/119 [00:00<?, ?batch/s]"
      ]
     },
     "metadata": {},
     "output_type": "display_data"
    },
    {
     "name": "stdout",
     "output_type": "stream",
     "text": [
      "Epoch 010\n",
      "TRAIN→ \"R\": RMSE=0.2541 MAE=0.1849 R2=0.2122 | \"B\": Acc=0.7431 Prec=0.6282 Rec=0.3474 F1=0.4474 AUROC=0.7448\n",
      "VALID→ \"R\": RMSE=0.2594 MAE=0.1802 R2=0.1136 | \"B\": Acc=0.7537 Prec=0.6846 Rec=0.2966 F1=0.4139 AUROC=0.7604\n"
     ]
    },
    {
     "data": {
      "application/vnd.jupyter.widget-view+json": {
       "model_id": "4732eab06ca04e5e92395fefbae6482d",
       "version_major": 2,
       "version_minor": 0
      },
      "text/plain": [
       "Epoch 11:   0%|          | 0/119 [00:00<?, ?batch/s]"
      ]
     },
     "metadata": {},
     "output_type": "display_data"
    },
    {
     "name": "stdout",
     "output_type": "stream",
     "text": [
      "Epoch 011\n",
      "TRAIN→ \"R\": RMSE=0.2538 MAE=0.1845 R2=0.2142 | \"B\": Acc=0.7434 Prec=0.6289 Rec=0.3482 F1=0.4482 AUROC=0.7464\n",
      "VALID→ \"R\": RMSE=0.2585 MAE=0.1796 R2=0.1200 | \"B\": Acc=0.7543 Prec=0.6836 Rec=0.3012 F1=0.4181 AUROC=0.7617\n"
     ]
    },
    {
     "data": {
      "application/vnd.jupyter.widget-view+json": {
       "model_id": "89dfa7bc60d943e89e434a2980d9aba6",
       "version_major": 2,
       "version_minor": 0
      },
      "text/plain": [
       "Epoch 12:   0%|          | 0/119 [00:00<?, ?batch/s]"
      ]
     },
     "metadata": {},
     "output_type": "display_data"
    },
    {
     "name": "stdout",
     "output_type": "stream",
     "text": [
      "Epoch 012\n",
      "TRAIN→ \"R\": RMSE=0.2534 MAE=0.1841 R2=0.2166 | \"B\": Acc=0.7441 Prec=0.6303 Rec=0.3513 F1=0.4511 AUROC=0.7483\n",
      "VALID→ \"R\": RMSE=0.2576 MAE=0.1790 R2=0.1255 | \"B\": Acc=0.7548 Prec=0.6826 Rec=0.3058 F1=0.4223 AUROC=0.7627\n"
     ]
    },
    {
     "data": {
      "application/vnd.jupyter.widget-view+json": {
       "model_id": "b2d22d99f08348bf8dfc4112b4aece3a",
       "version_major": 2,
       "version_minor": 0
      },
      "text/plain": [
       "Epoch 13:   0%|          | 0/119 [00:00<?, ?batch/s]"
      ]
     },
     "metadata": {},
     "output_type": "display_data"
    },
    {
     "name": "stdout",
     "output_type": "stream",
     "text": [
      "Epoch 013\n",
      "TRAIN→ \"R\": RMSE=0.2532 MAE=0.1838 R2=0.2181 | \"B\": Acc=0.7447 Prec=0.6316 Rec=0.3530 F1=0.4529 AUROC=0.7498\n",
      "VALID→ \"R\": RMSE=0.2574 MAE=0.1788 R2=0.1275 | \"B\": Acc=0.7553 Prec=0.6819 Rec=0.3097 F1=0.4260 AUROC=0.7637\n"
     ]
    },
    {
     "data": {
      "application/vnd.jupyter.widget-view+json": {
       "model_id": "58c0fe50dac64a07b4d8e1d6a92ed36a",
       "version_major": 2,
       "version_minor": 0
      },
      "text/plain": [
       "Epoch 14:   0%|          | 0/119 [00:00<?, ?batch/s]"
      ]
     },
     "metadata": {},
     "output_type": "display_data"
    },
    {
     "name": "stdout",
     "output_type": "stream",
     "text": [
      "Epoch 014\n",
      "TRAIN→ \"R\": RMSE=0.2529 MAE=0.1835 R2=0.2201 | \"B\": Acc=0.7451 Prec=0.6326 Rec=0.3547 F1=0.4545 AUROC=0.7510\n",
      "VALID→ \"R\": RMSE=0.2568 MAE=0.1784 R2=0.1311 | \"B\": Acc=0.7556 Prec=0.6827 Rec=0.3106 F1=0.4269 AUROC=0.7645\n"
     ]
    },
    {
     "data": {
      "application/vnd.jupyter.widget-view+json": {
       "model_id": "c1ddeb925aae4c3288a2c56c83ef383f",
       "version_major": 2,
       "version_minor": 0
      },
      "text/plain": [
       "Epoch 15:   0%|          | 0/119 [00:00<?, ?batch/s]"
      ]
     },
     "metadata": {},
     "output_type": "display_data"
    },
    {
     "name": "stdout",
     "output_type": "stream",
     "text": [
      "Epoch 015\n",
      "TRAIN→ \"R\": RMSE=0.2527 MAE=0.1833 R2=0.2211 | \"B\": Acc=0.7455 Prec=0.6338 Rec=0.3551 F1=0.4552 AUROC=0.7523\n",
      "VALID→ \"R\": RMSE=0.2566 MAE=0.1782 R2=0.1325 | \"B\": Acc=0.7558 Prec=0.6834 Rec=0.3116 F1=0.4281 AUROC=0.7652\n"
     ]
    },
    {
     "data": {
      "application/vnd.jupyter.widget-view+json": {
       "model_id": "b796ee73074041568c50ccb0d083a77f",
       "version_major": 2,
       "version_minor": 0
      },
      "text/plain": [
       "Epoch 16:   0%|          | 0/119 [00:00<?, ?batch/s]"
      ]
     },
     "metadata": {},
     "output_type": "display_data"
    },
    {
     "name": "stdout",
     "output_type": "stream",
     "text": [
      "Epoch 016\n",
      "TRAIN→ \"R\": RMSE=0.2525 MAE=0.1831 R2=0.2220 | \"B\": Acc=0.7457 Prec=0.6350 Rec=0.3545 F1=0.4550 AUROC=0.7530\n",
      "VALID→ \"R\": RMSE=0.2564 MAE=0.1780 R2=0.1340 | \"B\": Acc=0.7561 Prec=0.6849 Rec=0.3112 F1=0.4279 AUROC=0.7658\n"
     ]
    },
    {
     "data": {
      "application/vnd.jupyter.widget-view+json": {
       "model_id": "6a33a7de4f264bb1b7ff105531e55457",
       "version_major": 2,
       "version_minor": 0
      },
      "text/plain": [
       "Epoch 17:   0%|          | 0/119 [00:00<?, ?batch/s]"
      ]
     },
     "metadata": {},
     "output_type": "display_data"
    },
    {
     "name": "stdout",
     "output_type": "stream",
     "text": [
      "Epoch 017\n",
      "TRAIN→ \"R\": RMSE=0.2524 MAE=0.1828 R2=0.2231 | \"B\": Acc=0.7463 Prec=0.6361 Rec=0.3564 F1=0.4569 AUROC=0.7543\n",
      "VALID→ \"R\": RMSE=0.2558 MAE=0.1776 R2=0.1376 | \"B\": Acc=0.7564 Prec=0.6843 Rec=0.3140 F1=0.4305 AUROC=0.7664\n"
     ]
    },
    {
     "data": {
      "application/vnd.jupyter.widget-view+json": {
       "model_id": "e7a83aad04174c9485d436da8c089a9f",
       "version_major": 2,
       "version_minor": 0
      },
      "text/plain": [
       "Epoch 18:   0%|          | 0/119 [00:00<?, ?batch/s]"
      ]
     },
     "metadata": {},
     "output_type": "display_data"
    },
    {
     "name": "stdout",
     "output_type": "stream",
     "text": [
      "Epoch 018\n",
      "TRAIN→ \"R\": RMSE=0.2522 MAE=0.1826 R2=0.2242 | \"B\": Acc=0.7468 Prec=0.6382 Rec=0.3564 F1=0.4574 AUROC=0.7553\n",
      "VALID→ \"R\": RMSE=0.2558 MAE=0.1775 R2=0.1382 | \"B\": Acc=0.7567 Prec=0.6840 Rec=0.3164 F1=0.4327 AUROC=0.7669\n"
     ]
    },
    {
     "data": {
      "application/vnd.jupyter.widget-view+json": {
       "model_id": "f422f025a570429cad73d1281232160f",
       "version_major": 2,
       "version_minor": 0
      },
      "text/plain": [
       "Epoch 19:   0%|          | 0/119 [00:00<?, ?batch/s]"
      ]
     },
     "metadata": {},
     "output_type": "display_data"
    },
    {
     "name": "stdout",
     "output_type": "stream",
     "text": [
      "Epoch 019\n",
      "TRAIN→ \"R\": RMSE=0.2521 MAE=0.1825 R2=0.2246 | \"B\": Acc=0.7466 Prec=0.6377 Rec=0.3556 F1=0.4566 AUROC=0.7557\n",
      "VALID→ \"R\": RMSE=0.2552 MAE=0.1772 R2=0.1419 | \"B\": Acc=0.7570 Prec=0.6838 Rec=0.3182 F1=0.4343 AUROC=0.7673\n"
     ]
    },
    {
     "data": {
      "application/vnd.jupyter.widget-view+json": {
       "model_id": "b3ccc7ef10bf47cfbeb6241aa9eefcc9",
       "version_major": 2,
       "version_minor": 0
      },
      "text/plain": [
       "Epoch 20:   0%|          | 0/119 [00:00<?, ?batch/s]"
      ]
     },
     "metadata": {},
     "output_type": "display_data"
    },
    {
     "name": "stdout",
     "output_type": "stream",
     "text": [
      "Epoch 020\n",
      "TRAIN→ \"R\": RMSE=0.2520 MAE=0.1823 R2=0.2253 | \"B\": Acc=0.7471 Prec=0.6394 Rec=0.3561 F1=0.4575 AUROC=0.7565\n",
      "VALID→ \"R\": RMSE=0.2552 MAE=0.1771 R2=0.1423 | \"B\": Acc=0.7570 Prec=0.6850 Rec=0.3170 F1=0.4334 AUROC=0.7677\n"
     ]
    },
    {
     "data": {
      "application/vnd.jupyter.widget-view+json": {
       "model_id": "aecdcc8f48904d7387d84267d0e5be60",
       "version_major": 2,
       "version_minor": 0
      },
      "text/plain": [
       "Epoch 21:   0%|          | 0/119 [00:00<?, ?batch/s]"
      ]
     },
     "metadata": {},
     "output_type": "display_data"
    },
    {
     "name": "stdout",
     "output_type": "stream",
     "text": [
      "Epoch 021\n",
      "TRAIN→ \"R\": RMSE=0.2519 MAE=0.1822 R2=0.2259 | \"B\": Acc=0.7474 Prec=0.6414 Rec=0.3545 F1=0.4567 AUROC=0.7571\n",
      "VALID→ \"R\": RMSE=0.2549 MAE=0.1769 R2=0.1439 | \"B\": Acc=0.7571 Prec=0.6853 Rec=0.3170 F1=0.4335 AUROC=0.7681\n"
     ]
    },
    {
     "data": {
      "application/vnd.jupyter.widget-view+json": {
       "model_id": "5bdf70f651bc41cb932e4eaea807dc76",
       "version_major": 2,
       "version_minor": 0
      },
      "text/plain": [
       "Epoch 22:   0%|          | 0/119 [00:00<?, ?batch/s]"
      ]
     },
     "metadata": {},
     "output_type": "display_data"
    },
    {
     "name": "stdout",
     "output_type": "stream",
     "text": [
      "Epoch 022\n",
      "TRAIN→ \"R\": RMSE=0.2517 MAE=0.1821 R2=0.2269 | \"B\": Acc=0.7478 Prec=0.6419 Rec=0.3562 F1=0.4581 AUROC=0.7579\n",
      "VALID→ \"R\": RMSE=0.2548 MAE=0.1768 R2=0.1448 | \"B\": Acc=0.7573 Prec=0.6854 Rec=0.3185 F1=0.4349 AUROC=0.7684\n"
     ]
    },
    {
     "data": {
      "application/vnd.jupyter.widget-view+json": {
       "model_id": "b1e1b9f03b9d41f8bf27a4cb8fcb7a03",
       "version_major": 2,
       "version_minor": 0
      },
      "text/plain": [
       "Epoch 23:   0%|          | 0/119 [00:00<?, ?batch/s]"
      ]
     },
     "metadata": {},
     "output_type": "display_data"
    },
    {
     "name": "stdout",
     "output_type": "stream",
     "text": [
      "Epoch 023\n",
      "TRAIN→ \"R\": RMSE=0.2516 MAE=0.1819 R2=0.2276 | \"B\": Acc=0.7481 Prec=0.6435 Rec=0.3558 F1=0.4582 AUROC=0.7584\n",
      "VALID→ \"R\": RMSE=0.2546 MAE=0.1766 R2=0.1462 | \"B\": Acc=0.7575 Prec=0.6858 Rec=0.3189 F1=0.4354 AUROC=0.7687\n"
     ]
    },
    {
     "data": {
      "application/vnd.jupyter.widget-view+json": {
       "model_id": "2543a0e3a1c24714955016433eddaa1a",
       "version_major": 2,
       "version_minor": 0
      },
      "text/plain": [
       "Epoch 24:   0%|          | 0/119 [00:00<?, ?batch/s]"
      ]
     },
     "metadata": {},
     "output_type": "display_data"
    },
    {
     "name": "stdout",
     "output_type": "stream",
     "text": [
      "Epoch 024\n",
      "TRAIN→ \"R\": RMSE=0.2516 MAE=0.1818 R2=0.2275 | \"B\": Acc=0.7482 Prec=0.6438 Rec=0.3557 F1=0.4582 AUROC=0.7589\n",
      "VALID→ \"R\": RMSE=0.2543 MAE=0.1764 R2=0.1483 | \"B\": Acc=0.7575 Prec=0.6853 Rec=0.3197 F1=0.4360 AUROC=0.7690\n"
     ]
    },
    {
     "data": {
      "application/vnd.jupyter.widget-view+json": {
       "model_id": "c0f6579031b14c27ad36b92950e64a54",
       "version_major": 2,
       "version_minor": 0
      },
      "text/plain": [
       "Epoch 25:   0%|          | 0/119 [00:00<?, ?batch/s]"
      ]
     },
     "metadata": {},
     "output_type": "display_data"
    },
    {
     "name": "stdout",
     "output_type": "stream",
     "text": [
      "Epoch 025\n",
      "TRAIN→ \"R\": RMSE=0.2516 MAE=0.1817 R2=0.2280 | \"B\": Acc=0.7485 Prec=0.6452 Rec=0.3554 F1=0.4584 AUROC=0.7593\n",
      "VALID→ \"R\": RMSE=0.2543 MAE=0.1764 R2=0.1481 | \"B\": Acc=0.7576 Prec=0.6853 Rec=0.3203 F1=0.4366 AUROC=0.7692\n"
     ]
    },
    {
     "data": {
      "application/vnd.jupyter.widget-view+json": {
       "model_id": "4435baed7c214c8cbcee111a90619ae5",
       "version_major": 2,
       "version_minor": 0
      },
      "text/plain": [
       "Epoch 26:   0%|          | 0/119 [00:00<?, ?batch/s]"
      ]
     },
     "metadata": {},
     "output_type": "display_data"
    },
    {
     "name": "stdout",
     "output_type": "stream",
     "text": [
      "Epoch 026\n",
      "TRAIN→ \"R\": RMSE=0.2515 MAE=0.1816 R2=0.2284 | \"B\": Acc=0.7488 Prec=0.6463 Rec=0.3556 F1=0.4588 AUROC=0.7598\n",
      "VALID→ \"R\": RMSE=0.2540 MAE=0.1762 R2=0.1500 | \"B\": Acc=0.7577 Prec=0.6847 Rec=0.3218 F1=0.4378 AUROC=0.7694\n"
     ]
    },
    {
     "data": {
      "application/vnd.jupyter.widget-view+json": {
       "model_id": "198d320c149d47039745c674a4435b07",
       "version_major": 2,
       "version_minor": 0
      },
      "text/plain": [
       "Epoch 27:   0%|          | 0/119 [00:00<?, ?batch/s]"
      ]
     },
     "metadata": {},
     "output_type": "display_data"
    },
    {
     "name": "stdout",
     "output_type": "stream",
     "text": [
      "Epoch 027\n",
      "TRAIN→ \"R\": RMSE=0.2514 MAE=0.1815 R2=0.2288 | \"B\": Acc=0.7488 Prec=0.6464 Rec=0.3550 F1=0.4583 AUROC=0.7603\n",
      "VALID→ \"R\": RMSE=0.2539 MAE=0.1761 R2=0.1504 | \"B\": Acc=0.7578 Prec=0.6856 Rec=0.3213 F1=0.4375 AUROC=0.7697\n"
     ]
    },
    {
     "data": {
      "application/vnd.jupyter.widget-view+json": {
       "model_id": "5f878e4fb565470a806a502a5d9da484",
       "version_major": 2,
       "version_minor": 0
      },
      "text/plain": [
       "Epoch 28:   0%|          | 0/119 [00:00<?, ?batch/s]"
      ]
     },
     "metadata": {},
     "output_type": "display_data"
    },
    {
     "name": "stdout",
     "output_type": "stream",
     "text": [
      "Epoch 028\n",
      "TRAIN→ \"R\": RMSE=0.2514 MAE=0.1814 R2=0.2290 | \"B\": Acc=0.7490 Prec=0.6477 Rec=0.3544 F1=0.4581 AUROC=0.7606\n",
      "VALID→ \"R\": RMSE=0.2537 MAE=0.1760 R2=0.1520 | \"B\": Acc=0.7580 Prec=0.6857 Rec=0.3220 F1=0.4382 AUROC=0.7699\n"
     ]
    },
    {
     "data": {
      "application/vnd.jupyter.widget-view+json": {
       "model_id": "d87330fdd3fb42669f65db585559d1ce",
       "version_major": 2,
       "version_minor": 0
      },
      "text/plain": [
       "Epoch 29:   0%|          | 0/119 [00:00<?, ?batch/s]"
      ]
     },
     "metadata": {},
     "output_type": "display_data"
    },
    {
     "name": "stdout",
     "output_type": "stream",
     "text": [
      "Epoch 029\n",
      "TRAIN→ \"R\": RMSE=0.2513 MAE=0.1814 R2=0.2295 | \"B\": Acc=0.7492 Prec=0.6483 Rec=0.3548 F1=0.4586 AUROC=0.7608\n",
      "VALID→ \"R\": RMSE=0.2537 MAE=0.1759 R2=0.1523 | \"B\": Acc=0.7580 Prec=0.6858 Rec=0.3222 F1=0.4384 AUROC=0.7701\n"
     ]
    },
    {
     "data": {
      "application/vnd.jupyter.widget-view+json": {
       "model_id": "1591e14e26fd4b2b93bffcbc9f079da5",
       "version_major": 2,
       "version_minor": 0
      },
      "text/plain": [
       "Epoch 30:   0%|          | 0/119 [00:00<?, ?batch/s]"
      ]
     },
     "metadata": {},
     "output_type": "display_data"
    },
    {
     "name": "stdout",
     "output_type": "stream",
     "text": [
      "Epoch 030\n",
      "TRAIN→ \"R\": RMSE=0.2513 MAE=0.1813 R2=0.2295 | \"B\": Acc=0.7495 Prec=0.6500 Rec=0.3539 F1=0.4583 AUROC=0.7613\n",
      "VALID→ \"R\": RMSE=0.2534 MAE=0.1758 R2=0.1541 | \"B\": Acc=0.7580 Prec=0.6847 Rec=0.3237 F1=0.4396 AUROC=0.7703\n"
     ]
    },
    {
     "data": {
      "application/vnd.jupyter.widget-view+json": {
       "model_id": "1a78b26e5ad54f2b8a740ce831c08fec",
       "version_major": 2,
       "version_minor": 0
      },
      "text/plain": [
       "Epoch 31:   0%|          | 0/119 [00:00<?, ?batch/s]"
      ]
     },
     "metadata": {},
     "output_type": "display_data"
    },
    {
     "name": "stdout",
     "output_type": "stream",
     "text": [
      "Epoch 031\n",
      "TRAIN→ \"R\": RMSE=0.2513 MAE=0.1812 R2=0.2299 | \"B\": Acc=0.7496 Prec=0.6500 Rec=0.3542 F1=0.4585 AUROC=0.7616\n",
      "VALID→ \"R\": RMSE=0.2535 MAE=0.1758 R2=0.1534 | \"B\": Acc=0.7580 Prec=0.6863 Rec=0.3216 F1=0.4379 AUROC=0.7704\n"
     ]
    },
    {
     "data": {
      "application/vnd.jupyter.widget-view+json": {
       "model_id": "22361275bece44539086dbe15ccd9951",
       "version_major": 2,
       "version_minor": 0
      },
      "text/plain": [
       "Epoch 32:   0%|          | 0/119 [00:00<?, ?batch/s]"
      ]
     },
     "metadata": {},
     "output_type": "display_data"
    },
    {
     "name": "stdout",
     "output_type": "stream",
     "text": [
      "Epoch 032\n",
      "TRAIN→ \"R\": RMSE=0.2512 MAE=0.1811 R2=0.2300 | \"B\": Acc=0.7498 Prec=0.6514 Rec=0.3531 F1=0.4580 AUROC=0.7619\n",
      "VALID→ \"R\": RMSE=0.2533 MAE=0.1757 R2=0.1549 | \"B\": Acc=0.7581 Prec=0.6855 Rec=0.3233 F1=0.4393 AUROC=0.7706\n"
     ]
    },
    {
     "data": {
      "application/vnd.jupyter.widget-view+json": {
       "model_id": "f6c102348fe94515994c65227dee8ba4",
       "version_major": 2,
       "version_minor": 0
      },
      "text/plain": [
       "Epoch 33:   0%|          | 0/119 [00:00<?, ?batch/s]"
      ]
     },
     "metadata": {},
     "output_type": "display_data"
    },
    {
     "name": "stdout",
     "output_type": "stream",
     "text": [
      "Epoch 033\n",
      "TRAIN→ \"R\": RMSE=0.2512 MAE=0.1811 R2=0.2301 | \"B\": Acc=0.7496 Prec=0.6508 Rec=0.3528 F1=0.4576 AUROC=0.7619\n",
      "VALID→ \"R\": RMSE=0.2534 MAE=0.1757 R2=0.1543 | \"B\": Acc=0.7582 Prec=0.6867 Rec=0.3222 F1=0.4386 AUROC=0.7708\n"
     ]
    },
    {
     "data": {
      "application/vnd.jupyter.widget-view+json": {
       "model_id": "19aeb62e9e824eee8ea3f31d2a8350e5",
       "version_major": 2,
       "version_minor": 0
      },
      "text/plain": [
       "Epoch 34:   0%|          | 0/119 [00:00<?, ?batch/s]"
      ]
     },
     "metadata": {},
     "output_type": "display_data"
    },
    {
     "name": "stdout",
     "output_type": "stream",
     "text": [
      "Epoch 034\n",
      "TRAIN→ \"R\": RMSE=0.2512 MAE=0.1810 R2=0.2303 | \"B\": Acc=0.7499 Prec=0.6520 Rec=0.3527 F1=0.4578 AUROC=0.7624\n",
      "VALID→ \"R\": RMSE=0.2533 MAE=0.1756 R2=0.1550 | \"B\": Acc=0.7582 Prec=0.6863 Rec=0.3227 F1=0.4390 AUROC=0.7709\n"
     ]
    },
    {
     "data": {
      "application/vnd.jupyter.widget-view+json": {
       "model_id": "0ac9c5f9e5244cf3be7c5587e3564290",
       "version_major": 2,
       "version_minor": 0
      },
      "text/plain": [
       "Epoch 35:   0%|          | 0/119 [00:00<?, ?batch/s]"
      ]
     },
     "metadata": {},
     "output_type": "display_data"
    },
    {
     "name": "stdout",
     "output_type": "stream",
     "text": [
      "Epoch 035\n",
      "TRAIN→ \"R\": RMSE=0.2511 MAE=0.1810 R2=0.2306 | \"B\": Acc=0.7501 Prec=0.6527 Rec=0.3530 F1=0.4582 AUROC=0.7627\n",
      "VALID→ \"R\": RMSE=0.2530 MAE=0.1755 R2=0.1567 | \"B\": Acc=0.7583 Prec=0.6859 Rec=0.3240 F1=0.4401 AUROC=0.7710\n"
     ]
    },
    {
     "data": {
      "application/vnd.jupyter.widget-view+json": {
       "model_id": "b2e3103d59e8446db7d8a9c9850bcf37",
       "version_major": 2,
       "version_minor": 0
      },
      "text/plain": [
       "Epoch 36:   0%|          | 0/119 [00:00<?, ?batch/s]"
      ]
     },
     "metadata": {},
     "output_type": "display_data"
    },
    {
     "name": "stdout",
     "output_type": "stream",
     "text": [
      "Epoch 036\n",
      "TRAIN→ \"R\": RMSE=0.2512 MAE=0.1809 R2=0.2304 | \"B\": Acc=0.7500 Prec=0.6530 Rec=0.3520 F1=0.4574 AUROC=0.7628\n",
      "VALID→ \"R\": RMSE=0.2529 MAE=0.1754 R2=0.1571 | \"B\": Acc=0.7583 Prec=0.6867 Rec=0.3230 F1=0.4394 AUROC=0.7712\n"
     ]
    },
    {
     "data": {
      "application/vnd.jupyter.widget-view+json": {
       "model_id": "916cc6b7c8484f339b2d37dc85e1dc18",
       "version_major": 2,
       "version_minor": 0
      },
      "text/plain": [
       "Epoch 37:   0%|          | 0/119 [00:00<?, ?batch/s]"
      ]
     },
     "metadata": {},
     "output_type": "display_data"
    },
    {
     "name": "stdout",
     "output_type": "stream",
     "text": [
      "Epoch 037\n",
      "TRAIN→ \"R\": RMSE=0.2511 MAE=0.1809 R2=0.2307 | \"B\": Acc=0.7501 Prec=0.6532 Rec=0.3519 F1=0.4574 AUROC=0.7632\n",
      "VALID→ \"R\": RMSE=0.2529 MAE=0.1754 R2=0.1577 | \"B\": Acc=0.7585 Prec=0.6854 Rec=0.3257 F1=0.4416 AUROC=0.7713\n"
     ]
    },
    {
     "data": {
      "application/vnd.jupyter.widget-view+json": {
       "model_id": "eac6487810ce436bab607193179ec456",
       "version_major": 2,
       "version_minor": 0
      },
      "text/plain": [
       "Epoch 38:   0%|          | 0/119 [00:00<?, ?batch/s]"
      ]
     },
     "metadata": {},
     "output_type": "display_data"
    },
    {
     "name": "stdout",
     "output_type": "stream",
     "text": [
      "Epoch 038\n",
      "TRAIN→ \"R\": RMSE=0.2511 MAE=0.1808 R2=0.2309 | \"B\": Acc=0.7504 Prec=0.6546 Rec=0.3522 F1=0.4580 AUROC=0.7634\n",
      "VALID→ \"R\": RMSE=0.2529 MAE=0.1753 R2=0.1577 | \"B\": Acc=0.7584 Prec=0.6867 Rec=0.3238 F1=0.4401 AUROC=0.7714\n"
     ]
    },
    {
     "data": {
      "application/vnd.jupyter.widget-view+json": {
       "model_id": "239bbb4a390647c58126c07c83c9d6b5",
       "version_major": 2,
       "version_minor": 0
      },
      "text/plain": [
       "Epoch 39:   0%|          | 0/119 [00:00<?, ?batch/s]"
      ]
     },
     "metadata": {},
     "output_type": "display_data"
    },
    {
     "name": "stdout",
     "output_type": "stream",
     "text": [
      "Epoch 039\n",
      "TRAIN→ \"R\": RMSE=0.2510 MAE=0.1808 R2=0.2313 | \"B\": Acc=0.7507 Prec=0.6557 Rec=0.3524 F1=0.4584 AUROC=0.7636\n",
      "VALID→ \"R\": RMSE=0.2528 MAE=0.1753 R2=0.1583 | \"B\": Acc=0.7585 Prec=0.6859 Rec=0.3255 F1=0.4415 AUROC=0.7715\n"
     ]
    },
    {
     "data": {
      "application/vnd.jupyter.widget-view+json": {
       "model_id": "d6222911563b469faaabed077b49ee22",
       "version_major": 2,
       "version_minor": 0
      },
      "text/plain": [
       "Epoch 40:   0%|          | 0/119 [00:00<?, ?batch/s]"
      ]
     },
     "metadata": {},
     "output_type": "display_data"
    },
    {
     "name": "stdout",
     "output_type": "stream",
     "text": [
      "Epoch 040\n",
      "TRAIN→ \"R\": RMSE=0.2510 MAE=0.1807 R2=0.2312 | \"B\": Acc=0.7506 Prec=0.6550 Rec=0.3528 F1=0.4585 AUROC=0.7637\n",
      "VALID→ \"R\": RMSE=0.2526 MAE=0.1752 R2=0.1592 | \"B\": Acc=0.7586 Prec=0.6864 Rec=0.3254 F1=0.4415 AUROC=0.7716\n"
     ]
    },
    {
     "data": {
      "application/vnd.jupyter.widget-view+json": {
       "model_id": "eb0daa71960644d3a4ea30f8a8bbbc6c",
       "version_major": 2,
       "version_minor": 0
      },
      "text/plain": [
       "Epoch 41:   0%|          | 0/119 [00:00<?, ?batch/s]"
      ]
     },
     "metadata": {},
     "output_type": "display_data"
    },
    {
     "name": "stdout",
     "output_type": "stream",
     "text": [
      "Epoch 041\n",
      "TRAIN→ \"R\": RMSE=0.2510 MAE=0.1807 R2=0.2312 | \"B\": Acc=0.7504 Prec=0.6551 Rec=0.3508 F1=0.4569 AUROC=0.7638\n",
      "VALID→ \"R\": RMSE=0.2526 MAE=0.1752 R2=0.1593 | \"B\": Acc=0.7585 Prec=0.6870 Rec=0.3239 F1=0.4402 AUROC=0.7717\n"
     ]
    },
    {
     "data": {
      "application/vnd.jupyter.widget-view+json": {
       "model_id": "7c07fd867a7a4897b8c80161a03b1349",
       "version_major": 2,
       "version_minor": 0
      },
      "text/plain": [
       "Epoch 42:   0%|          | 0/119 [00:00<?, ?batch/s]"
      ]
     },
     "metadata": {},
     "output_type": "display_data"
    },
    {
     "name": "stdout",
     "output_type": "stream",
     "text": [
      "Epoch 042\n",
      "TRAIN→ \"R\": RMSE=0.2510 MAE=0.1806 R2=0.2315 | \"B\": Acc=0.7507 Prec=0.6565 Rec=0.3510 F1=0.4575 AUROC=0.7641\n",
      "VALID→ \"R\": RMSE=0.2525 MAE=0.1751 R2=0.1600 | \"B\": Acc=0.7587 Prec=0.6864 Rec=0.3256 F1=0.4417 AUROC=0.7718\n"
     ]
    },
    {
     "data": {
      "application/vnd.jupyter.widget-view+json": {
       "model_id": "b3d5004f9b8349899c07ca0c9d644c52",
       "version_major": 2,
       "version_minor": 0
      },
      "text/plain": [
       "Epoch 43:   0%|          | 0/119 [00:00<?, ?batch/s]"
      ]
     },
     "metadata": {},
     "output_type": "display_data"
    },
    {
     "name": "stdout",
     "output_type": "stream",
     "text": [
      "Epoch 043\n",
      "TRAIN→ \"R\": RMSE=0.2510 MAE=0.1806 R2=0.2312 | \"B\": Acc=0.7507 Prec=0.6564 Rec=0.3511 F1=0.4575 AUROC=0.7641\n",
      "VALID→ \"R\": RMSE=0.2526 MAE=0.1751 R2=0.1595 | \"B\": Acc=0.7586 Prec=0.6866 Rec=0.3252 F1=0.4413 AUROC=0.7719\n"
     ]
    },
    {
     "data": {
      "application/vnd.jupyter.widget-view+json": {
       "model_id": "46bcb3c807c249ffa2452d3194328755",
       "version_major": 2,
       "version_minor": 0
      },
      "text/plain": [
       "Epoch 44:   0%|          | 0/119 [00:00<?, ?batch/s]"
      ]
     },
     "metadata": {},
     "output_type": "display_data"
    },
    {
     "name": "stdout",
     "output_type": "stream",
     "text": [
      "Epoch 044\n",
      "TRAIN→ \"R\": RMSE=0.2510 MAE=0.1806 R2=0.2314 | \"B\": Acc=0.7508 Prec=0.6567 Rec=0.3511 F1=0.4576 AUROC=0.7643\n",
      "VALID→ \"R\": RMSE=0.2524 MAE=0.1750 R2=0.1606 | \"B\": Acc=0.7587 Prec=0.6868 Rec=0.3253 F1=0.4415 AUROC=0.7720\n"
     ]
    },
    {
     "data": {
      "application/vnd.jupyter.widget-view+json": {
       "model_id": "7455cf76fd2c488088ca0b7423954507",
       "version_major": 2,
       "version_minor": 0
      },
      "text/plain": [
       "Epoch 45:   0%|          | 0/119 [00:00<?, ?batch/s]"
      ]
     },
     "metadata": {},
     "output_type": "display_data"
    },
    {
     "name": "stdout",
     "output_type": "stream",
     "text": [
      "Epoch 045\n",
      "TRAIN→ \"R\": RMSE=0.2509 MAE=0.1805 R2=0.2320 | \"B\": Acc=0.7509 Prec=0.6574 Rec=0.3509 F1=0.4575 AUROC=0.7646\n",
      "VALID→ \"R\": RMSE=0.2524 MAE=0.1750 R2=0.1609 | \"B\": Acc=0.7587 Prec=0.6866 Rec=0.3257 F1=0.4418 AUROC=0.7720\n"
     ]
    },
    {
     "data": {
      "application/vnd.jupyter.widget-view+json": {
       "model_id": "76689eb6adf8482182b95f508e0f9c72",
       "version_major": 2,
       "version_minor": 0
      },
      "text/plain": [
       "Epoch 46:   0%|          | 0/119 [00:00<?, ?batch/s]"
      ]
     },
     "metadata": {},
     "output_type": "display_data"
    },
    {
     "name": "stdout",
     "output_type": "stream",
     "text": [
      "Epoch 046\n",
      "TRAIN→ \"R\": RMSE=0.2510 MAE=0.1805 R2=0.2317 | \"B\": Acc=0.7509 Prec=0.6576 Rec=0.3504 F1=0.4572 AUROC=0.7647\n",
      "VALID→ \"R\": RMSE=0.2524 MAE=0.1750 R2=0.1610 | \"B\": Acc=0.7587 Prec=0.6873 Rec=0.3250 F1=0.4413 AUROC=0.7721\n"
     ]
    },
    {
     "data": {
      "application/vnd.jupyter.widget-view+json": {
       "model_id": "840d6c7310a34d4d8ae92bb888915b80",
       "version_major": 2,
       "version_minor": 0
      },
      "text/plain": [
       "Epoch 47:   0%|          | 0/119 [00:00<?, ?batch/s]"
      ]
     },
     "metadata": {},
     "output_type": "display_data"
    },
    {
     "name": "stdout",
     "output_type": "stream",
     "text": [
      "Epoch 047\n",
      "TRAIN→ \"R\": RMSE=0.2509 MAE=0.1805 R2=0.2318 | \"B\": Acc=0.7510 Prec=0.6579 Rec=0.3506 F1=0.4574 AUROC=0.7646\n",
      "VALID→ \"R\": RMSE=0.2523 MAE=0.1749 R2=0.1613 | \"B\": Acc=0.7588 Prec=0.6875 Rec=0.3251 F1=0.4414 AUROC=0.7722\n"
     ]
    },
    {
     "data": {
      "application/vnd.jupyter.widget-view+json": {
       "model_id": "4d15e26dffff43a99a53b4bd6b8ecc4f",
       "version_major": 2,
       "version_minor": 0
      },
      "text/plain": [
       "Epoch 48:   0%|          | 0/119 [00:00<?, ?batch/s]"
      ]
     },
     "metadata": {},
     "output_type": "display_data"
    },
    {
     "name": "stdout",
     "output_type": "stream",
     "text": [
      "Epoch 048\n",
      "TRAIN→ \"R\": RMSE=0.2510 MAE=0.1805 R2=0.2317 | \"B\": Acc=0.7511 Prec=0.6581 Rec=0.3507 F1=0.4576 AUROC=0.7648\n",
      "VALID→ \"R\": RMSE=0.2523 MAE=0.1749 R2=0.1611 | \"B\": Acc=0.7588 Prec=0.6868 Rec=0.3259 F1=0.4420 AUROC=0.7722\n"
     ]
    },
    {
     "data": {
      "application/vnd.jupyter.widget-view+json": {
       "model_id": "fefc8dd91b5a4754ae2d11ca7af5bf08",
       "version_major": 2,
       "version_minor": 0
      },
      "text/plain": [
       "Epoch 49:   0%|          | 0/119 [00:00<?, ?batch/s]"
      ]
     },
     "metadata": {},
     "output_type": "display_data"
    },
    {
     "name": "stdout",
     "output_type": "stream",
     "text": [
      "Epoch 049\n",
      "TRAIN→ \"R\": RMSE=0.2509 MAE=0.1804 R2=0.2322 | \"B\": Acc=0.7510 Prec=0.6578 Rec=0.3506 F1=0.4574 AUROC=0.7650\n",
      "VALID→ \"R\": RMSE=0.2523 MAE=0.1749 R2=0.1613 | \"B\": Acc=0.7589 Prec=0.6868 Rec=0.3264 F1=0.4425 AUROC=0.7723\n"
     ]
    },
    {
     "data": {
      "application/vnd.jupyter.widget-view+json": {
       "model_id": "43c36d249d1146b59bd5d64cce88a2d6",
       "version_major": 2,
       "version_minor": 0
      },
      "text/plain": [
       "Epoch 50:   0%|          | 0/119 [00:00<?, ?batch/s]"
      ]
     },
     "metadata": {},
     "output_type": "display_data"
    },
    {
     "name": "stdout",
     "output_type": "stream",
     "text": [
      "Epoch 050\n",
      "TRAIN→ \"R\": RMSE=0.2509 MAE=0.1805 R2=0.2319 | \"B\": Acc=0.7510 Prec=0.6575 Rec=0.3508 F1=0.4575 AUROC=0.7650\n",
      "VALID→ \"R\": RMSE=0.2523 MAE=0.1749 R2=0.1613 | \"B\": Acc=0.7589 Prec=0.6877 Rec=0.3256 F1=0.4419 AUROC=0.7724\n"
     ]
    },
    {
     "data": {
      "application/vnd.jupyter.widget-view+json": {
       "model_id": "e7eea0f264f94d88a581a0f421e5bf3b",
       "version_major": 2,
       "version_minor": 0
      },
      "text/plain": [
       "Epoch 51:   0%|          | 0/119 [00:00<?, ?batch/s]"
      ]
     },
     "metadata": {},
     "output_type": "display_data"
    },
    {
     "name": "stdout",
     "output_type": "stream",
     "text": [
      "Epoch 051\n",
      "TRAIN→ \"R\": RMSE=0.2509 MAE=0.1804 R2=0.2320 | \"B\": Acc=0.7513 Prec=0.6592 Rec=0.3508 F1=0.4579 AUROC=0.7652\n",
      "VALID→ \"R\": RMSE=0.2522 MAE=0.1748 R2=0.1620 | \"B\": Acc=0.7590 Prec=0.6877 Rec=0.3260 F1=0.4423 AUROC=0.7724\n"
     ]
    },
    {
     "data": {
      "application/vnd.jupyter.widget-view+json": {
       "model_id": "7565c32390d54ca3bb8326f275ac3e29",
       "version_major": 2,
       "version_minor": 0
      },
      "text/plain": [
       "Epoch 52:   0%|          | 0/119 [00:00<?, ?batch/s]"
      ]
     },
     "metadata": {},
     "output_type": "display_data"
    },
    {
     "name": "stdout",
     "output_type": "stream",
     "text": [
      "Epoch 052\n",
      "TRAIN→ \"R\": RMSE=0.2509 MAE=0.1804 R2=0.2322 | \"B\": Acc=0.7513 Prec=0.6593 Rec=0.3500 F1=0.4572 AUROC=0.7652\n",
      "VALID→ \"R\": RMSE=0.2523 MAE=0.1749 R2=0.1611 | \"B\": Acc=0.7590 Prec=0.6885 Rec=0.3248 F1=0.4414 AUROC=0.7725\n"
     ]
    },
    {
     "data": {
      "application/vnd.jupyter.widget-view+json": {
       "model_id": "27f1566739d54f06a6de90aa5425bb7a",
       "version_major": 2,
       "version_minor": 0
      },
      "text/plain": [
       "Epoch 53:   0%|          | 0/119 [00:00<?, ?batch/s]"
      ]
     },
     "metadata": {},
     "output_type": "display_data"
    },
    {
     "name": "stdout",
     "output_type": "stream",
     "text": [
      "Epoch 053\n",
      "TRAIN→ \"R\": RMSE=0.2508 MAE=0.1803 R2=0.2324 | \"B\": Acc=0.7515 Prec=0.6602 Rec=0.3504 F1=0.4578 AUROC=0.7654\n",
      "VALID→ \"R\": RMSE=0.2523 MAE=0.1749 R2=0.1612 | \"B\": Acc=0.7590 Prec=0.6886 Rec=0.3252 F1=0.4418 AUROC=0.7725\n"
     ]
    },
    {
     "data": {
      "application/vnd.jupyter.widget-view+json": {
       "model_id": "31927baa0b3a483aa3bf10b0b0047c10",
       "version_major": 2,
       "version_minor": 0
      },
      "text/plain": [
       "Epoch 54:   0%|          | 0/119 [00:00<?, ?batch/s]"
      ]
     },
     "metadata": {},
     "output_type": "display_data"
    },
    {
     "name": "stdout",
     "output_type": "stream",
     "text": [
      "Epoch 054\n",
      "TRAIN→ \"R\": RMSE=0.2509 MAE=0.1803 R2=0.2323 | \"B\": Acc=0.7513 Prec=0.6596 Rec=0.3499 F1=0.4573 AUROC=0.7655\n",
      "VALID→ \"R\": RMSE=0.2524 MAE=0.1749 R2=0.1610 | \"B\": Acc=0.7590 Prec=0.6884 Rec=0.3252 F1=0.4417 AUROC=0.7726\n",
      "Early stopping at epoch 54\n",
      "\n",
      "Champion validation RMSE = 0.252215\n",
      "Improvement over zero‐baseline =  39.2%\n"
     ]
    },
    {
     "data": {
      "image/png": "[encoded data removed]",
      "text/plain": [
       "<Figure size 660x440 with 1 Axes>"
      ]
     },
     "metadata": {},
     "output_type": "display_data"
    }
   ],
   "source": [
    "# -----------------------------------------------------------------------------\n",
    "# Run the custom stateful training loop\n",
    "# -----------------------------------------------------------------------------\n",
    "best_val_rmse  = models.custom_stateful_training_loop(\n",
    "    model               = model,\n",
    "    optimizer           = optimizer,\n",
    "    cosine_sched        = cosine_sched,\n",
    "    plateau_sched       = plateau_sched,\n",
    "    scaler              = scaler,\n",
    "    train_loader        = train_loader,\n",
    "    val_loader          = val_loader,\n",
    "    max_epochs          = params.hparams['MAX_EPOCHS'],\n",
    "    early_stop_patience = params.hparams['EARLY_STOP_PATIENCE'],\n",
    "    baseline_val_rmse   = baseline_val_rmse,\n",
    "    clipnorm            = clipnorm,\n",
    "    device              = params.device\n",
    ")\n",
    "\n",
    "# -----------------------------------------------------------------------------\n",
    "# Final reporting: best RMSE and relative improvement\n",
    "# -----------------------------------------------------------------------------\n",
    "print(f\"\\nChampion validation RMSE = {best_val_rmse:.6f}\")\n",
    "\n",
    "improvement = 100.0 * (1.0 - best_val_rmse / baseline_val_rmse)\n",
    "print(f\"Improvement over zero‐baseline = {improvement:5.1f}%\")\n"
   ]
  },
  {
   "cell_type": "code",
   "execution_count": 13,
   "id": "138c3b45-e00a-4a85-860d-4f87b71cbbbc",
   "metadata": {},
   "outputs": [],
   "source": [
    "# print(\"Any NaN in X?   \", torch.isnan(X).any().item())\n",
    "# print(\"All finite in X? \", torch.isfinite(X).all().item())\n",
    "# print(\"Any NaN in y_sig?\", torch.isnan(y_sig).any().item())\n",
    "# print(\"Any NaN in y_ret?\", torch.isnan(y_ret).any().item())\n"
   ]
  },
  {
   "cell_type": "code",
   "execution_count": null,
   "id": "22b25c89-05c3-4a16-b013-97143f173e08",
   "metadata": {},
   "outputs": [],
   "source": []
  }
 ],
 "metadata": {
  "kernelspec": {
   "display_name": "Python 3 (ipykernel)",
   "language": "python",
   "name": "python3"
  },
  "language_info": {
   "codemirror_mode": {
    "name": "ipython",
    "version": 3
   },
   "file_extension": ".py",
   "mimetype": "text/x-python",
   "name": "python",
   "nbconvert_exporter": "python",
   "pygments_lexer": "ipython3",
   "version": "3.12.3"
  }
 },
 "nbformat": 4,
 "nbformat_minor": 5
}
