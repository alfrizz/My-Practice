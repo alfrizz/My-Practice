{
 "cells": [
  {
   "cell_type": "code",
   "execution_count": 1,
   "id": "73f06a4f-691a-4a84-a305-e7212eb879bf",
   "metadata": {},
   "outputs": [],
   "source": [
    "# %matplotlib widget\n",
    "%matplotlib inline"
   ]
  },
  {
   "cell_type": "code",
   "execution_count": 2,
   "id": "4c868158-e6bb-4d56-bbdd-8e8103f0b9e4",
   "metadata": {},
   "outputs": [],
   "source": [
    "# 1) Wipe out all Python variables\n",
    "%reset -f\n",
    "# 2) Force Python’s garbage collector to run\n",
    "import gc\n",
    "gc.collect()\n",
    "\n",
    "import importlib\n",
    "from libs import trades, plots, params, models\n",
    "importlib.reload(trades)\n",
    "importlib.reload(plots)\n",
    "importlib.reload(params)\n",
    "importlib.reload(models)\n",
    "\n",
    "import pandas as pd\n",
    "import numpy  as np\n",
    "import math\n",
    "\n",
    "import datetime as dt\n",
    "import os\n",
    "from typing import Sequence, List, Tuple, Optional, Union\n",
    "\n",
    "import torch\n",
    "import torch.nn as nn\n",
    "import torch.nn.functional as Funct\n",
    "from torch_lr_finder import LRFinder\n",
    "from torch.utils.data import DataLoader, TensorDataset\n",
    "\n",
    "from tqdm import tqdm"
   ]
  },
  {
   "cell_type": "code",
   "execution_count": 3,
   "id": "7b98406a",
   "metadata": {},
   "outputs": [
    {
     "data": {
      "text/html": [
       "<div>\n",
       "<style scoped>\n",
       "    .dataframe tbody tr th:only-of-type {\n",
       "        vertical-align: middle;\n",
       "    }\n",
       "\n",
       "    .dataframe tbody tr th {\n",
       "        vertical-align: top;\n",
       "    }\n",
       "\n",
       "    .dataframe thead th {\n",
       "        text-align: right;\n",
       "    }\n",
       "</style>\n",
       "<table border=\"1\" class=\"dataframe\">\n",
       "  <thead>\n",
       "    <tr style=\"text-align: right;\">\n",
       "      <th></th>\n",
       "      <th>vol_15</th>\n",
       "      <th>ma_5</th>\n",
       "      <th>ma_20</th>\n",
       "      <th>close</th>\n",
       "      <th>hour</th>\n",
       "      <th>bb_width_20</th>\n",
       "      <th>high</th>\n",
       "      <th>low</th>\n",
       "      <th>open</th>\n",
       "      <th>vwap_dev</th>\n",
       "      <th>atr_14</th>\n",
       "      <th>r_5</th>\n",
       "      <th>r_1</th>\n",
       "      <th>r_15</th>\n",
       "      <th>obv</th>\n",
       "      <th>signal</th>\n",
       "      <th>ask</th>\n",
       "      <th>bid</th>\n",
       "    </tr>\n",
       "  </thead>\n",
       "  <tbody>\n",
       "    <tr>\n",
       "      <th>2004-01-02 13:09:00</th>\n",
       "      <td>-0.966783</td>\n",
       "      <td>-0.185561</td>\n",
       "      <td>-0.282361</td>\n",
       "      <td>-0.193762</td>\n",
       "      <td>0.493</td>\n",
       "      <td>-0.929333</td>\n",
       "      <td>-0.317313</td>\n",
       "      <td>-0.028125</td>\n",
       "      <td>-0.193147</td>\n",
       "      <td>-0.032030</td>\n",
       "      <td>-1.435516</td>\n",
       "      <td>-0.040971</td>\n",
       "      <td>-0.029212</td>\n",
       "      <td>-0.025534</td>\n",
       "      <td>11.535427</td>\n",
       "      <td>0.005593</td>\n",
       "      <td>0.764807</td>\n",
       "      <td>0.763664</td>\n",
       "    </tr>\n",
       "    <tr>\n",
       "      <th>2004-01-02 13:10:00</th>\n",
       "      <td>-0.965007</td>\n",
       "      <td>-0.192087</td>\n",
       "      <td>-0.284115</td>\n",
       "      <td>-0.201725</td>\n",
       "      <td>0.493</td>\n",
       "      <td>-0.921566</td>\n",
       "      <td>-0.324262</td>\n",
       "      <td>-0.037500</td>\n",
       "      <td>-0.201085</td>\n",
       "      <td>-0.036171</td>\n",
       "      <td>-1.432540</td>\n",
       "      <td>-0.054390</td>\n",
       "      <td>-0.029213</td>\n",
       "      <td>-0.033477</td>\n",
       "      <td>11.491025</td>\n",
       "      <td>0.006095</td>\n",
       "      <td>0.764790</td>\n",
       "      <td>0.763647</td>\n",
       "    </tr>\n",
       "    <tr>\n",
       "      <th>2004-01-02 13:11:00</th>\n",
       "      <td>-0.963779</td>\n",
       "      <td>-0.200245</td>\n",
       "      <td>-0.286307</td>\n",
       "      <td>-0.209688</td>\n",
       "      <td>0.493</td>\n",
       "      <td>-0.913246</td>\n",
       "      <td>-0.331210</td>\n",
       "      <td>-0.046875</td>\n",
       "      <td>-0.209022</td>\n",
       "      <td>-0.040262</td>\n",
       "      <td>-1.429563</td>\n",
       "      <td>-0.067809</td>\n",
       "      <td>-0.029214</td>\n",
       "      <td>-0.041420</td>\n",
       "      <td>11.441197</td>\n",
       "      <td>0.006642</td>\n",
       "      <td>0.764773</td>\n",
       "      <td>0.763631</td>\n",
       "    </tr>\n",
       "    <tr>\n",
       "      <th>2004-01-02 13:12:00</th>\n",
       "      <td>-0.963001</td>\n",
       "      <td>-0.208402</td>\n",
       "      <td>-0.288939</td>\n",
       "      <td>-0.217651</td>\n",
       "      <td>0.493</td>\n",
       "      <td>-0.904541</td>\n",
       "      <td>-0.338159</td>\n",
       "      <td>-0.056250</td>\n",
       "      <td>-0.216960</td>\n",
       "      <td>-0.044296</td>\n",
       "      <td>-1.426587</td>\n",
       "      <td>-0.067810</td>\n",
       "      <td>-0.029214</td>\n",
       "      <td>-0.049363</td>\n",
       "      <td>11.385942</td>\n",
       "      <td>0.007239</td>\n",
       "      <td>0.764757</td>\n",
       "      <td>0.763614</td>\n",
       "    </tr>\n",
       "    <tr>\n",
       "      <th>2004-01-02 13:13:00</th>\n",
       "      <td>-0.962622</td>\n",
       "      <td>-0.216560</td>\n",
       "      <td>-0.292008</td>\n",
       "      <td>-0.225614</td>\n",
       "      <td>0.493</td>\n",
       "      <td>-0.895592</td>\n",
       "      <td>-0.345107</td>\n",
       "      <td>-0.065625</td>\n",
       "      <td>-0.224897</td>\n",
       "      <td>-0.048268</td>\n",
       "      <td>-1.423611</td>\n",
       "      <td>-0.067812</td>\n",
       "      <td>-0.029215</td>\n",
       "      <td>-0.057307</td>\n",
       "      <td>11.325262</td>\n",
       "      <td>0.007889</td>\n",
       "      <td>0.764740</td>\n",
       "      <td>0.763597</td>\n",
       "    </tr>\n",
       "    <tr>\n",
       "      <th>...</th>\n",
       "      <td>...</td>\n",
       "      <td>...</td>\n",
       "      <td>...</td>\n",
       "      <td>...</td>\n",
       "      <td>...</td>\n",
       "      <td>...</td>\n",
       "      <td>...</td>\n",
       "      <td>...</td>\n",
       "      <td>...</td>\n",
       "      <td>...</td>\n",
       "      <td>...</td>\n",
       "      <td>...</td>\n",
       "      <td>...</td>\n",
       "      <td>...</td>\n",
       "      <td>...</td>\n",
       "      <td>...</td>\n",
       "      <td>...</td>\n",
       "      <td>...</td>\n",
       "    </tr>\n",
       "    <tr>\n",
       "      <th>2025-06-18 20:56:00</th>\n",
       "      <td>0.507307</td>\n",
       "      <td>0.367023</td>\n",
       "      <td>-0.130453</td>\n",
       "      <td>0.705997</td>\n",
       "      <td>-0.939</td>\n",
       "      <td>0.122381</td>\n",
       "      <td>0.704918</td>\n",
       "      <td>0.500000</td>\n",
       "      <td>0.475806</td>\n",
       "      <td>0.407906</td>\n",
       "      <td>2.024482</td>\n",
       "      <td>1.742521</td>\n",
       "      <td>0.837991</td>\n",
       "      <td>1.317936</td>\n",
       "      <td>0.839704</td>\n",
       "      <td>0.000000</td>\n",
       "      <td>196.962600</td>\n",
       "      <td>196.667400</td>\n",
       "    </tr>\n",
       "    <tr>\n",
       "      <th>2025-06-18 20:57:00</th>\n",
       "      <td>0.566581</td>\n",
       "      <td>0.460866</td>\n",
       "      <td>-0.093452</td>\n",
       "      <td>0.478780</td>\n",
       "      <td>-0.939</td>\n",
       "      <td>0.187641</td>\n",
       "      <td>0.836066</td>\n",
       "      <td>0.387097</td>\n",
       "      <td>0.685484</td>\n",
       "      <td>0.263954</td>\n",
       "      <td>2.207440</td>\n",
       "      <td>0.887590</td>\n",
       "      <td>-0.939239</td>\n",
       "      <td>1.115397</td>\n",
       "      <td>0.647913</td>\n",
       "      <td>0.000000</td>\n",
       "      <td>196.822500</td>\n",
       "      <td>196.527500</td>\n",
       "    </tr>\n",
       "    <tr>\n",
       "      <th>2025-06-18 20:58:00</th>\n",
       "      <td>0.542508</td>\n",
       "      <td>0.497086</td>\n",
       "      <td>-0.060109</td>\n",
       "      <td>0.470665</td>\n",
       "      <td>-0.939</td>\n",
       "      <td>0.241322</td>\n",
       "      <td>0.508197</td>\n",
       "      <td>0.500000</td>\n",
       "      <td>0.467742</td>\n",
       "      <td>0.254269</td>\n",
       "      <td>2.216153</td>\n",
       "      <td>0.341995</td>\n",
       "      <td>-0.033854</td>\n",
       "      <td>0.828890</td>\n",
       "      <td>0.429218</td>\n",
       "      <td>0.000000</td>\n",
       "      <td>196.817500</td>\n",
       "      <td>196.522500</td>\n",
       "    </tr>\n",
       "    <tr>\n",
       "      <th>2025-06-18 20:59:00</th>\n",
       "      <td>0.903328</td>\n",
       "      <td>0.408182</td>\n",
       "      <td>-0.062549</td>\n",
       "      <td>-0.227217</td>\n",
       "      <td>-0.939</td>\n",
       "      <td>0.245429</td>\n",
       "      <td>0.524590</td>\n",
       "      <td>-0.129032</td>\n",
       "      <td>0.475806</td>\n",
       "      <td>-0.173638</td>\n",
       "      <td>2.487280</td>\n",
       "      <td>-0.842944</td>\n",
       "      <td>-2.888426</td>\n",
       "      <td>-0.094079</td>\n",
       "      <td>-0.434952</td>\n",
       "      <td>0.043551</td>\n",
       "      <td>196.387200</td>\n",
       "      <td>196.092800</td>\n",
       "    </tr>\n",
       "    <tr>\n",
       "      <th>2025-06-18 21:00:00</th>\n",
       "      <td>1.017126</td>\n",
       "      <td>0.358792</td>\n",
       "      <td>-0.032866</td>\n",
       "      <td>0.259677</td>\n",
       "      <td>-0.960</td>\n",
       "      <td>0.236868</td>\n",
       "      <td>0.360656</td>\n",
       "      <td>-0.387097</td>\n",
       "      <td>0.314516</td>\n",
       "      <td>0.115538</td>\n",
       "      <td>2.861997</td>\n",
       "      <td>-0.468049</td>\n",
       "      <td>2.015324</td>\n",
       "      <td>0.663058</td>\n",
       "      <td>6.060628</td>\n",
       "      <td>0.000000</td>\n",
       "      <td>196.687400</td>\n",
       "      <td>196.392600</td>\n",
       "    </tr>\n",
       "  </tbody>\n",
       "</table>\n",
       "<p>3601230 rows × 18 columns</p>\n",
       "</div>"
      ],
      "text/plain": [
       "                       vol_15      ma_5     ma_20     close   hour  \\\n",
       "2004-01-02 13:09:00 -0.966783 -0.185561 -0.282361 -0.193762  0.493   \n",
       "2004-01-02 13:10:00 -0.965007 -0.192087 -0.284115 -0.201725  0.493   \n",
       "2004-01-02 13:11:00 -0.963779 -0.200245 -0.286307 -0.209688  0.493   \n",
       "2004-01-02 13:12:00 -0.963001 -0.208402 -0.288939 -0.217651  0.493   \n",
       "2004-01-02 13:13:00 -0.962622 -0.216560 -0.292008 -0.225614  0.493   \n",
       "...                       ...       ...       ...       ...    ...   \n",
       "2025-06-18 20:56:00  0.507307  0.367023 -0.130453  0.705997 -0.939   \n",
       "2025-06-18 20:57:00  0.566581  0.460866 -0.093452  0.478780 -0.939   \n",
       "2025-06-18 20:58:00  0.542508  0.497086 -0.060109  0.470665 -0.939   \n",
       "2025-06-18 20:59:00  0.903328  0.408182 -0.062549 -0.227217 -0.939   \n",
       "2025-06-18 21:00:00  1.017126  0.358792 -0.032866  0.259677 -0.960   \n",
       "\n",
       "                     bb_width_20      high       low      open  vwap_dev  \\\n",
       "2004-01-02 13:09:00    -0.929333 -0.317313 -0.028125 -0.193147 -0.032030   \n",
       "2004-01-02 13:10:00    -0.921566 -0.324262 -0.037500 -0.201085 -0.036171   \n",
       "2004-01-02 13:11:00    -0.913246 -0.331210 -0.046875 -0.209022 -0.040262   \n",
       "2004-01-02 13:12:00    -0.904541 -0.338159 -0.056250 -0.216960 -0.044296   \n",
       "2004-01-02 13:13:00    -0.895592 -0.345107 -0.065625 -0.224897 -0.048268   \n",
       "...                          ...       ...       ...       ...       ...   \n",
       "2025-06-18 20:56:00     0.122381  0.704918  0.500000  0.475806  0.407906   \n",
       "2025-06-18 20:57:00     0.187641  0.836066  0.387097  0.685484  0.263954   \n",
       "2025-06-18 20:58:00     0.241322  0.508197  0.500000  0.467742  0.254269   \n",
       "2025-06-18 20:59:00     0.245429  0.524590 -0.129032  0.475806 -0.173638   \n",
       "2025-06-18 21:00:00     0.236868  0.360656 -0.387097  0.314516  0.115538   \n",
       "\n",
       "                       atr_14       r_5       r_1      r_15        obv  \\\n",
       "2004-01-02 13:09:00 -1.435516 -0.040971 -0.029212 -0.025534  11.535427   \n",
       "2004-01-02 13:10:00 -1.432540 -0.054390 -0.029213 -0.033477  11.491025   \n",
       "2004-01-02 13:11:00 -1.429563 -0.067809 -0.029214 -0.041420  11.441197   \n",
       "2004-01-02 13:12:00 -1.426587 -0.067810 -0.029214 -0.049363  11.385942   \n",
       "2004-01-02 13:13:00 -1.423611 -0.067812 -0.029215 -0.057307  11.325262   \n",
       "...                       ...       ...       ...       ...        ...   \n",
       "2025-06-18 20:56:00  2.024482  1.742521  0.837991  1.317936   0.839704   \n",
       "2025-06-18 20:57:00  2.207440  0.887590 -0.939239  1.115397   0.647913   \n",
       "2025-06-18 20:58:00  2.216153  0.341995 -0.033854  0.828890   0.429218   \n",
       "2025-06-18 20:59:00  2.487280 -0.842944 -2.888426 -0.094079  -0.434952   \n",
       "2025-06-18 21:00:00  2.861997 -0.468049  2.015324  0.663058   6.060628   \n",
       "\n",
       "                       signal         ask         bid  \n",
       "2004-01-02 13:09:00  0.005593    0.764807    0.763664  \n",
       "2004-01-02 13:10:00  0.006095    0.764790    0.763647  \n",
       "2004-01-02 13:11:00  0.006642    0.764773    0.763631  \n",
       "2004-01-02 13:12:00  0.007239    0.764757    0.763614  \n",
       "2004-01-02 13:13:00  0.007889    0.764740    0.763597  \n",
       "...                       ...         ...         ...  \n",
       "2025-06-18 20:56:00  0.000000  196.962600  196.667400  \n",
       "2025-06-18 20:57:00  0.000000  196.822500  196.527500  \n",
       "2025-06-18 20:58:00  0.000000  196.817500  196.522500  \n",
       "2025-06-18 20:59:00  0.043551  196.387200  196.092800  \n",
       "2025-06-18 21:00:00  0.000000  196.687400  196.392600  \n",
       "\n",
       "[3601230 rows x 18 columns]"
      ]
     },
     "execution_count": 3,
     "metadata": {},
     "output_type": "execute_result"
    }
   ],
   "source": [
    "look_back      = params.look_back_tick \n",
    "features_cols  = params.features_cols_tick\n",
    "label_col      = params.label_col\n",
    "device         = params.device\n",
    "\n",
    "df_feat = pd.read_csv(params.feat_csv, index_col=0, parse_dates=True)\n",
    "\n",
    "df_features = df_feat[features_cols + ['signal','ask','bid']]\n",
    "df_features "
   ]
  },
  {
   "cell_type": "code",
   "execution_count": 4,
   "id": "b805fa9c",
   "metadata": {},
   "outputs": [
    {
     "data": {
      "application/vnd.jupyter.widget-view+json": {
       "model_id": "5997d836a5a042858a20af33894e4eef",
       "version_major": 2,
       "version_minor": 0
      },
      "text/plain": [
       "Counting windows:   0%|          | 0/5400 [00:00<?, ?it/s]"
      ]
     },
     "metadata": {},
     "output_type": "display_data"
    },
    {
     "data": {
      "application/vnd.jupyter.widget-view+json": {
       "model_id": "fd868fa461194a37b1edb639568c6630",
       "version_major": 2,
       "version_minor": 0
      },
      "text/plain": [
       "Writing memmaps:   0%|          | 0/5400 [00:00<?, ?it/s]"
      ]
     },
     "metadata": {},
     "output_type": "display_data"
    },
    {
     "name": "stdout",
     "output_type": "stream",
     "text": [
      "Shapes:\n",
      "  X         = torch.Size([2270503, 30, 15]) (samples, look_back, features)\n",
      "  y_sig     = torch.Size([2270503]) (samples,)\n",
      "  y_ret     = torch.Size([2270503]) (samples,)\n",
      "  raw_close = torch.Size([2270503])\n",
      "  raw_bid   = torch.Size([2270503])\n",
      "  raw_ask   = torch.Size([2270503])\n",
      "  end_times = (2270503,)\n"
     ]
    }
   ],
   "source": [
    "X, y_sig, y_ret, raw_close, raw_bid, raw_ask, end_times = models.build_lstm_tensors(\n",
    "    df            = df_feat,\n",
    "    look_back     = params.look_back_tick,\n",
    "    features_cols = params.features_cols_tick,\n",
    "    label_col     = params.label_col,\n",
    "    return_col    = params.return_col,\n",
    "    sess_start    = params.sess_start_pred_tick \n",
    ")\n",
    "\n",
    "# quick shapes\n",
    "print(\"Shapes:\")\n",
    "print(\"  X         =\", X.shape,    \"(samples, look_back, features)\")\n",
    "print(\"  y_sig     =\", y_sig.shape,    \"(samples,)\")\n",
    "print(\"  y_ret     =\", y_ret.shape,    \"(samples,)\")\n",
    "print(\"  raw_close =\", raw_close.shape)\n",
    "print(\"  raw_bid   =\", raw_bid.shape)\n",
    "print(\"  raw_ask   =\", raw_ask.shape)\n",
    "print(\"  end_times =\", end_times.shape)\n"
   ]
  },
  {
   "cell_type": "code",
   "execution_count": 5,
   "id": "7b4f1ac4",
   "metadata": {},
   "outputs": [
    {
     "name": "stdout",
     "output_type": "stream",
     "text": [
      "Shapes:\n",
      "  X_tr  = torch.Size([1600443, 30, 15])\n",
      "  y_sig_tr, y_ret_tr = torch.Size([1600443]) torch.Size([1600443])\n",
      "  X_val = torch.Size([329639, 30, 15])\n",
      "  y_sig_val, y_ret_val = torch.Size([329639]) torch.Size([329639])\n",
      "  X_te  = torch.Size([340421, 30, 15])\n",
      "  y_sig_te, y_ret_te = torch.Size([340421]) torch.Size([340421])\n"
     ]
    }
   ],
   "source": [
    "# Split into train/val/test by calendar day\n",
    "(\n",
    "(X_tr,  y_sig_tr,  y_ret_tr),\n",
    "(X_val, y_sig_val, y_ret_val),\n",
    "(X_te,  y_sig_te,  y_ret_te,  raw_close_te, raw_bid_te, raw_ask_te),\n",
    "samples_per_day,\n",
    "day_id_tr, day_id_val, day_id_te\n",
    ") = models.chronological_split(\n",
    "    X, y_sig, y_ret,\n",
    "    raw_close, raw_bid, raw_ask,\n",
    "    end_times   = end_times,\n",
    "    train_prop  = params.train_prop,\n",
    "    val_prop    = params.val_prop,\n",
    "    train_batch = params.hparams['TRAIN_BATCH']\n",
    ")\n",
    "\n",
    "# Print shapes of all tensors\n",
    "print(\"Shapes:\")\n",
    "print(\"  X_tr  =\", X_tr.shape)\n",
    "print(\"  y_sig_tr, y_ret_tr =\", y_sig_tr.shape, y_ret_tr.shape)\n",
    "print(\"  X_val =\", X_val.shape)\n",
    "print(\"  y_sig_val, y_ret_val =\", y_sig_val.shape, y_ret_val.shape)\n",
    "print(\"  X_te  =\", X_te.shape)\n",
    "print(\"  y_sig_te, y_ret_te =\", y_sig_te.shape, y_ret_te.shape)\n"
   ]
  },
  {
   "cell_type": "code",
   "execution_count": 6,
   "id": "1ad9b6c4-3d79-45c0-b2c0-c4f46f1ad866",
   "metadata": {},
   "outputs": [
    {
     "name": "stdout",
     "output_type": "stream",
     "text": [
      "Days  → train=3808, val=783, test=809\n",
      "Batches → train=119,   val=783,   test=809\n"
     ]
    }
   ],
   "source": [
    "# carve `end_times` into the same three splits:\n",
    "n_tr  = day_id_tr .shape[0] \n",
    "n_val = day_id_val.shape[0]\n",
    "i_tr  = n_tr\n",
    "i_val = n_tr + n_val\n",
    "\n",
    "end_times_tr  = end_times[:i_tr]\n",
    "end_times_val = end_times[i_tr:i_val]\n",
    "end_times_te  = end_times[i_val:]\n",
    "\n",
    "# -----------------------------------------------------------------------------\n",
    "#  Build DataLoaders over calendar‐days\n",
    "# -----------------------------------------------------------------------------\n",
    "train_loader, val_loader, test_loader = models.split_to_day_datasets(\n",
    "    # train split:   \n",
    "    X_tr,            y_sig_tr,     y_ret_tr,   end_times_tr,\n",
    "    # val split:\n",
    "    X_val,           y_sig_val,    y_ret_val,  end_times_val,\n",
    "    # test split + raw‐prices\n",
    "    X_te,            y_sig_te,     y_ret_te,   end_times_te,\n",
    "    raw_close_te, raw_bid_te, raw_ask_te,\n",
    "    \n",
    "    sess_start_time       = params.sess_start_pred_tick,\n",
    "    signal_thresh         = params.best_optuna_params[\"buy_threshold\"],\n",
    "    return_thresh         = 0.01,  # flat‐zone threshold for returns\n",
    "    train_batch           = params.hparams[\"TRAIN_BATCH\"],\n",
    "    train_workers         = params.hparams[\"NUM_WORKERS\"],\n",
    "    train_prefetch_factor = params.hparams[\"TRAIN_PREFETCH_FACTOR\"]\n",
    ")\n",
    "\n",
    "print(f\"Days  → train={len(train_loader.dataset)}, val={len(val_loader.dataset)}, test={len(test_loader.dataset)}\")\n",
    "print(f\"Batches → train={len(train_loader)},   val={len(val_loader)},   test={len(test_loader)}\")"
   ]
  },
  {
   "cell_type": "code",
   "execution_count": 7,
   "id": "eeec031f-6c8f-455f-9c72-ae411e03ba34",
   "metadata": {},
   "outputs": [
    {
     "data": {
      "text/plain": [
       "DualMemoryLSTM(\n",
       "  (conv): Conv1d(15, 15, kernel_size=(3,), stride=(1,), padding=(1,))\n",
       "  (short_lstm): LSTM(15, 32, batch_first=True, bidirectional=True)\n",
       "  (attn): MultiheadAttention(\n",
       "    (out_proj): NonDynamicallyQuantizableLinear(in_features=64, out_features=64, bias=True)\n",
       "  )\n",
       "  (do_short): Dropout(p=0.15, inplace=False)\n",
       "  (ln_short): LayerNorm((64,), eps=1e-05, elementwise_affine=True)\n",
       "  (long_lstm): LSTM(64, 64, batch_first=True, bidirectional=True)\n",
       "  (do_long): Dropout(p=0.2, inplace=False)\n",
       "  (ln_long): LayerNorm((128,), eps=1e-05, elementwise_affine=True)\n",
       "  (pred): Linear(in_features=128, out_features=1, bias=True)\n",
       "  (cls_head): Linear(in_features=128, out_features=1, bias=True)\n",
       "  (cls_ter): Linear(in_features=128, out_features=3, bias=True)\n",
       ")"
      ]
     },
     "execution_count": 7,
     "metadata": {},
     "output_type": "execute_result"
    }
   ],
   "source": [
    "# -----------------------------------------------------------------------------\n",
    "# Instantiate the stateful DualMemoryLSTM & move to device\n",
    "# -----------------------------------------------------------------------------\n",
    "model = models.DualMemoryLSTM(\n",
    "    n_feats        = len(features_cols),                          \n",
    "    short_units    = params.hparams['SHORT_UNITS'],    \n",
    "    long_units     = params.hparams['LONG_UNITS'],     \n",
    "    dropout_short  = params.hparams['DROPOUT_SHORT'],  \n",
    "    dropout_long   = params.hparams['DROPOUT_LONG'],   \n",
    "    att_heads      = params.hparams['ATT_HEADS'],\n",
    "    att_drop       = params.hparams['ATT_DROPOUT']\n",
    ")\n",
    "model.to(device)   # place model parameters on GPU or CPU as specified\n",
    "\n",
    "model"
   ]
  },
  {
   "cell_type": "code",
   "execution_count": 8,
   "id": "5512a0dd-d2c8-418e-bfca-4580fb4be995",
   "metadata": {},
   "outputs": [
    {
     "data": {
      "text/plain": [
       "AdamW (\n",
       "Parameter Group 0\n",
       "    amsgrad: False\n",
       "    betas: (0.9, 0.999)\n",
       "    capturable: False\n",
       "    decoupled_weight_decay: True\n",
       "    differentiable: False\n",
       "    eps: 1e-08\n",
       "    foreach: None\n",
       "    fused: None\n",
       "    initial_lr: 0.001\n",
       "    lr: 0.001\n",
       "    maximize: False\n",
       "    weight_decay: 0.0001\n",
       ")"
      ]
     },
     "execution_count": 8,
     "metadata": {},
     "output_type": "execute_result"
    }
   ],
   "source": [
    "# -----------------------------------------------------------------------------\n",
    "# Compute plateau_sched timing parameters\n",
    "# -----------------------------------------------------------------------------\n",
    "# Total training samples = total windows in X_tr (one window per row)\n",
    "n_train_samples = X_tr.shape[0]\n",
    "\n",
    "# How many optimizer steps (day‐bundles) constitute one epoch?\n",
    "steps_per_epoch = len(train_loader)\n",
    "\n",
    "\n",
    "# -----------------------------------------------------------------------------\n",
    "# Build optimizer, LR scheduler, AMP scaler, and gradient‐clip norm\n",
    "# -----------------------------------------------------------------------------\n",
    "optimizer, plateau_sched, cosine_sched, scaler, clipnorm = models.make_optimizer_and_scheduler(\n",
    "    model,\n",
    "    initial_lr        = params.hparams['INITIAL_LR'],       \n",
    "    weight_decay      = params.hparams['WEIGHT_DECAY'],     \n",
    "    clipnorm          = params.hparams['CLIPNORM']   \n",
    ")\n",
    "\n",
    "optimizer"
   ]
  },
  {
   "cell_type": "code",
   "execution_count": 9,
   "id": "e9c5fc27-f31d-4adc-a247-5468674f83fc",
   "metadata": {},
   "outputs": [
    {
     "name": "stdout",
     "output_type": "stream",
     "text": [
      "Training sees 3808 calendar days per epoch\n",
      "\n",
      "Baseline (zero‐forecast) RMSE on validation = 0.285996\n"
     ]
    }
   ],
   "source": [
    "# -----------------------------------------------------------------------------\n",
    "# Count how many calendar days we see each epoch and Compute baseline RMSE on validation (zero forecast)\n",
    "# -----------------------------------------------------------------------------\n",
    "n_train_days = len(train_loader.dataset)  # dataset length = # unique days\n",
    "print(f\"Training sees {n_train_days} calendar days per epoch\\n\")\n",
    "\n",
    "baseline_val_rmse = models.naive_rmse(val_loader)\n",
    "print(f\"Baseline (zero‐forecast) RMSE on validation = {baseline_val_rmse:.6f}\")"
   ]
  },
  {
   "cell_type": "code",
   "execution_count": 10,
   "id": "7bf94780-a876-4bf4-ad27-6abc2da1fc0a",
   "metadata": {},
   "outputs": [
    {
     "data": {
      "image/png": "[encoded data removed]",
      "text/plain": [
       "<Figure size 660x440 with 1 Axes>"
      ]
     },
     "metadata": {},
     "output_type": "display_data"
    },
    {
     "data": {
      "application/vnd.jupyter.widget-view+json": {
       "model_id": "05d6ddad8b394809a0c3eda2e25df4ca",
       "version_major": 2,
       "version_minor": 0
      },
      "text/plain": [
       "Epoch 1:   0%|          | 0/119 [00:00<?, ?bundle/s]"
      ]
     },
     "metadata": {},
     "output_type": "display_data"
    },
    {
     "name": "stdout",
     "output_type": "stream",
     "text": [
      "Epoch 001\n",
      "TRAIN→ \"R\": RMSE=0.2736 MAE=0.1973 R2=-0.4933 | \"B\": Acc=0.7953 Prec=0.4404 Rec=0.1822 F1=0.2577 AUROC=0.7392 | \"T\": Acc=0.3640 Prec=0.3924 Rec=0.3640 F1=0.3703 AUROC=0.5801\n",
      "VALID→ \"R\": RMSE=0.1921 MAE=0.1398 R2=0.1962 | \"B\": Acc=0.8170 Prec=0.6802 Rec=0.0631 F1=0.1155 AUROC=0.7769 | \"T\": Acc=0.3608 Prec=0.6063 Rec=0.3608 F1=0.3606 AUROC=0.5751\n"
     ]
    },
    {
     "data": {
      "application/vnd.jupyter.widget-view+json": {
       "model_id": "987d9fdc752d4cbfad205b8d8f0c804a",
       "version_major": 2,
       "version_minor": 0
      },
      "text/plain": [
       "Epoch 2:   0%|          | 0/119 [00:00<?, ?bundle/s]"
      ]
     },
     "metadata": {},
     "output_type": "display_data"
    },
    {
     "name": "stdout",
     "output_type": "stream",
     "text": [
      "Epoch 002\n",
      "TRAIN→ \"R\": RMSE=0.2068 MAE=0.1470 R2=0.1472 | \"B\": Acc=0.8110 Prec=0.5560 Rec=0.1540 F1=0.2412 AUROC=0.7657 | \"T\": Acc=0.3485 Prec=0.4582 Rec=0.3485 F1=0.3415 AUROC=0.5687\n",
      "VALID→ \"R\": RMSE=0.1903 MAE=0.1345 R2=0.2117 | \"B\": Acc=0.8177 Prec=0.7077 Rec=0.0631 F1=0.1159 AUROC=0.7828 | \"T\": Acc=0.3586 Prec=0.5714 Rec=0.3586 F1=0.3659 AUROC=0.5806\n"
     ]
    },
    {
     "data": {
      "application/vnd.jupyter.widget-view+json": {
       "model_id": "5bc3096b3d994d5786579cddbbb116f9",
       "version_major": 2,
       "version_minor": 0
      },
      "text/plain": [
       "Epoch 3:   0%|          | 0/119 [00:00<?, ?bundle/s]"
      ]
     },
     "metadata": {},
     "output_type": "display_data"
    },
    {
     "name": "stdout",
     "output_type": "stream",
     "text": [
      "Epoch 003\n",
      "TRAIN→ \"R\": RMSE=0.2016 MAE=0.1436 R2=0.1892 | \"B\": Acc=0.8135 Prec=0.5734 Rec=0.1706 F1=0.2629 AUROC=0.7708 | \"T\": Acc=0.3531 Prec=0.4806 Rec=0.3531 F1=0.3474 AUROC=0.5731\n",
      "VALID→ \"R\": RMSE=0.1904 MAE=0.1331 R2=0.2105 | \"B\": Acc=0.8208 Prec=0.6812 Rec=0.1008 F1=0.1757 AUROC=0.7844 | \"T\": Acc=0.3608 Prec=0.5663 Rec=0.3608 F1=0.3655 AUROC=0.5839\n"
     ]
    },
    {
     "data": {
      "application/vnd.jupyter.widget-view+json": {
       "model_id": "f8a4045bf5ee41dc91912465f3c4da5c",
       "version_major": 2,
       "version_minor": 0
      },
      "text/plain": [
       "Epoch 4:   0%|          | 0/119 [00:00<?, ?bundle/s]"
      ]
     },
     "metadata": {},
     "output_type": "display_data"
    },
    {
     "name": "stdout",
     "output_type": "stream",
     "text": [
      "Epoch 004\n",
      "TRAIN→ \"R\": RMSE=0.2004 MAE=0.1424 R2=0.1990 | \"B\": Acc=0.8145 Prec=0.5812 Rec=0.1746 F1=0.2685 AUROC=0.7733 | \"T\": Acc=0.3553 Prec=0.4938 Rec=0.3553 F1=0.3497 AUROC=0.5757\n",
      "VALID→ \"R\": RMSE=0.1899 MAE=0.1320 R2=0.2144 | \"B\": Acc=0.8221 Prec=0.6614 Rec=0.1231 F1=0.2075 AUROC=0.7862 | \"T\": Acc=0.3636 Prec=0.5847 Rec=0.3636 F1=0.3691 AUROC=0.5857\n"
     ]
    },
    {
     "data": {
      "application/vnd.jupyter.widget-view+json": {
       "model_id": "fd32d0c88cc54340b3fabf62f5b806f9",
       "version_major": 2,
       "version_minor": 0
      },
      "text/plain": [
       "Epoch 5:   0%|          | 0/119 [00:00<?, ?bundle/s]"
      ]
     },
     "metadata": {},
     "output_type": "display_data"
    },
    {
     "name": "stdout",
     "output_type": "stream",
     "text": [
      "Epoch 005\n",
      "TRAIN→ \"R\": RMSE=0.1998 MAE=0.1418 R2=0.2037 | \"B\": Acc=0.8151 Prec=0.5867 Rec=0.1767 F1=0.2716 AUROC=0.7745 | \"T\": Acc=0.3567 Prec=0.5089 Rec=0.3567 F1=0.3511 AUROC=0.5765\n",
      "VALID→ \"R\": RMSE=0.1892 MAE=0.1318 R2=0.2204 | \"B\": Acc=0.8225 Prec=0.6588 Rec=0.1290 F1=0.2157 AUROC=0.7870 | \"T\": Acc=0.3632 Prec=0.5765 Rec=0.3632 F1=0.3692 AUROC=0.5861\n"
     ]
    },
    {
     "data": {
      "application/vnd.jupyter.widget-view+json": {
       "model_id": "7fef04b367584aea93f63e83237cc6a6",
       "version_major": 2,
       "version_minor": 0
      },
      "text/plain": [
       "Epoch 6:   0%|          | 0/119 [00:00<?, ?bundle/s]"
      ]
     },
     "metadata": {},
     "output_type": "display_data"
    },
    {
     "name": "stdout",
     "output_type": "stream",
     "text": [
      "Epoch 006\n",
      "TRAIN→ \"R\": RMSE=0.1994 MAE=0.1415 R2=0.2074 | \"B\": Acc=0.8153 Prec=0.5884 Rec=0.1773 F1=0.2725 AUROC=0.7755 | \"T\": Acc=0.3578 Prec=0.5099 Rec=0.3578 F1=0.3528 AUROC=0.5760\n",
      "VALID→ \"R\": RMSE=0.1886 MAE=0.1320 R2=0.2252 | \"B\": Acc=0.8226 Prec=0.6608 Rec=0.1294 F1=0.2164 AUROC=0.7876 | \"T\": Acc=0.3636 Prec=0.5794 Rec=0.3636 F1=0.3704 AUROC=0.5862\n"
     ]
    },
    {
     "data": {
      "application/vnd.jupyter.widget-view+json": {
       "model_id": "dbdb2e391e464f4dada3fad577ba9802",
       "version_major": 2,
       "version_minor": 0
      },
      "text/plain": [
       "Epoch 7:   0%|          | 0/119 [00:00<?, ?bundle/s]"
      ]
     },
     "metadata": {},
     "output_type": "display_data"
    },
    {
     "name": "stdout",
     "output_type": "stream",
     "text": [
      "Epoch 007\n",
      "TRAIN→ \"R\": RMSE=0.1992 MAE=0.1412 R2=0.2088 | \"B\": Acc=0.8156 Prec=0.5916 Rec=0.1770 F1=0.2725 AUROC=0.7762 | \"T\": Acc=0.3582 Prec=0.5130 Rec=0.3582 F1=0.3534 AUROC=0.5763\n",
      "VALID→ \"R\": RMSE=0.1877 MAE=0.1318 R2=0.2329 | \"B\": Acc=0.8238 Prec=0.6526 Rec=0.1477 F1=0.2408 AUROC=0.7884 | \"T\": Acc=0.3631 Prec=0.5808 Rec=0.3631 F1=0.3681 AUROC=0.5869\n"
     ]
    },
    {
     "data": {
      "application/vnd.jupyter.widget-view+json": {
       "model_id": "d9f90fc3207f4fc69b5caa5ea1844a2c",
       "version_major": 2,
       "version_minor": 0
      },
      "text/plain": [
       "Epoch 8:   0%|          | 0/119 [00:00<?, ?bundle/s]"
      ]
     },
     "metadata": {},
     "output_type": "display_data"
    },
    {
     "name": "stdout",
     "output_type": "stream",
     "text": [
      "Epoch 008\n",
      "TRAIN→ \"R\": RMSE=0.1991 MAE=0.1411 R2=0.2098 | \"B\": Acc=0.8160 Prec=0.5939 Rec=0.1791 F1=0.2752 AUROC=0.7768 | \"T\": Acc=0.3579 Prec=0.5161 Rec=0.3579 F1=0.3530 AUROC=0.5742\n",
      "VALID→ \"R\": RMSE=0.1873 MAE=0.1319 R2=0.2364 | \"B\": Acc=0.8238 Prec=0.6482 Rec=0.1509 F1=0.2448 AUROC=0.7892 | \"T\": Acc=0.3635 Prec=0.5819 Rec=0.3635 F1=0.3695 AUROC=0.5871\n"
     ]
    },
    {
     "data": {
      "application/vnd.jupyter.widget-view+json": {
       "model_id": "4638feed0ed94a46b1f3a7c70b08988c",
       "version_major": 2,
       "version_minor": 0
      },
      "text/plain": [
       "Epoch 9:   0%|          | 0/119 [00:00<?, ?bundle/s]"
      ]
     },
     "metadata": {},
     "output_type": "display_data"
    },
    {
     "name": "stdout",
     "output_type": "stream",
     "text": [
      "Epoch 009\n",
      "TRAIN→ \"R\": RMSE=0.1988 MAE=0.1408 R2=0.2122 | \"B\": Acc=0.8161 Prec=0.5935 Rec=0.1819 F1=0.2784 AUROC=0.7775 | \"T\": Acc=0.3582 Prec=0.5154 Rec=0.3582 F1=0.3535 AUROC=0.5736\n",
      "VALID→ \"R\": RMSE=0.1868 MAE=0.1316 R2=0.2400 | \"B\": Acc=0.8247 Prec=0.6483 Rec=0.1623 F1=0.2596 AUROC=0.7904 | \"T\": Acc=0.3644 Prec=0.5840 Rec=0.3644 F1=0.3714 AUROC=0.5875\n"
     ]
    },
    {
     "data": {
      "application/vnd.jupyter.widget-view+json": {
       "model_id": "a033d8dd2cd14dff809afe998a223787",
       "version_major": 2,
       "version_minor": 0
      },
      "text/plain": [
       "Epoch 10:   0%|          | 0/119 [00:00<?, ?bundle/s]"
      ]
     },
     "metadata": {},
     "output_type": "display_data"
    },
    {
     "name": "stdout",
     "output_type": "stream",
     "text": [
      "Epoch 010\n",
      "TRAIN→ \"R\": RMSE=0.1988 MAE=0.1408 R2=0.2121 | \"B\": Acc=0.8163 Prec=0.5913 Rec=0.1876 F1=0.2848 AUROC=0.7782 | \"T\": Acc=0.3578 Prec=0.5069 Rec=0.3578 F1=0.3525 AUROC=0.5727\n",
      "VALID→ \"R\": RMSE=0.1858 MAE=0.1310 R2=0.2485 | \"B\": Acc=0.8268 Prec=0.6443 Rec=0.1895 F1=0.2928 AUROC=0.7923 | \"T\": Acc=0.3651 Prec=0.5879 Rec=0.3651 F1=0.3744 AUROC=0.5884\n"
     ]
    },
    {
     "data": {
      "application/vnd.jupyter.widget-view+json": {
       "model_id": "d5541c378b07406e8438789cc4de672e",
       "version_major": 2,
       "version_minor": 0
      },
      "text/plain": [
       "Epoch 11:   0%|          | 0/119 [00:00<?, ?bundle/s]"
      ]
     },
     "metadata": {},
     "output_type": "display_data"
    },
    {
     "name": "stdout",
     "output_type": "stream",
     "text": [
      "Epoch 011\n",
      "TRAIN→ \"R\": RMSE=0.1984 MAE=0.1405 R2=0.2151 | \"B\": Acc=0.8171 Prec=0.5931 Rec=0.1992 F1=0.2982 AUROC=0.7807 | \"T\": Acc=0.3588 Prec=0.5010 Rec=0.3588 F1=0.3542 AUROC=0.5729\n",
      "VALID→ \"R\": RMSE=0.1865 MAE=0.1302 R2=0.2424 | \"B\": Acc=0.8274 Prec=0.6630 Rec=0.1790 F1=0.2819 AUROC=0.7952 | \"T\": Acc=0.3635 Prec=0.5846 Rec=0.3635 F1=0.3718 AUROC=0.5877\n"
     ]
    },
    {
     "data": {
      "application/vnd.jupyter.widget-view+json": {
       "model_id": "af0b5f2c7d9c4d98973ed1cdafd4d745",
       "version_major": 2,
       "version_minor": 0
      },
      "text/plain": [
       "Epoch 12:   0%|          | 0/119 [00:00<?, ?bundle/s]"
      ]
     },
     "metadata": {},
     "output_type": "display_data"
    },
    {
     "name": "stdout",
     "output_type": "stream",
     "text": [
      "Epoch 012\n",
      "TRAIN→ \"R\": RMSE=0.1978 MAE=0.1400 R2=0.2201 | \"B\": Acc=0.8179 Prec=0.5962 Rec=0.2051 F1=0.3052 AUROC=0.7831 | \"T\": Acc=0.3586 Prec=0.5074 Rec=0.3586 F1=0.3540 AUROC=0.5742\n",
      "VALID→ \"R\": RMSE=0.1853 MAE=0.1299 R2=0.2522 | \"B\": Acc=0.8279 Prec=0.6391 Rec=0.2088 F1=0.3148 AUROC=0.7965 | \"T\": Acc=0.3624 Prec=0.5990 Rec=0.3624 F1=0.3674 AUROC=0.5872\n"
     ]
    },
    {
     "data": {
      "application/vnd.jupyter.widget-view+json": {
       "model_id": "691ec51c58de4c4d9a25cd1489a02908",
       "version_major": 2,
       "version_minor": 0
      },
      "text/plain": [
       "Epoch 13:   0%|          | 0/119 [00:00<?, ?bundle/s]"
      ]
     },
     "metadata": {},
     "output_type": "display_data"
    },
    {
     "name": "stdout",
     "output_type": "stream",
     "text": [
      "Epoch 013\n",
      "TRAIN→ \"R\": RMSE=0.1974 MAE=0.1397 R2=0.2232 | \"B\": Acc=0.8185 Prec=0.5981 Rec=0.2115 F1=0.3125 AUROC=0.7843 | \"T\": Acc=0.3597 Prec=0.5115 Rec=0.3597 F1=0.3556 AUROC=0.5738\n",
      "VALID→ \"R\": RMSE=0.1850 MAE=0.1301 R2=0.2549 | \"B\": Acc=0.8277 Prec=0.6253 Rec=0.2239 F1=0.3297 AUROC=0.7961 | \"T\": Acc=0.3631 Prec=0.6016 Rec=0.3631 F1=0.3700 AUROC=0.5890\n"
     ]
    },
    {
     "data": {
      "application/vnd.jupyter.widget-view+json": {
       "model_id": "9079d63b309744658aca27ccff39f46b",
       "version_major": 2,
       "version_minor": 0
      },
      "text/plain": [
       "Epoch 14:   0%|          | 0/119 [00:00<?, ?bundle/s]"
      ]
     },
     "metadata": {},
     "output_type": "display_data"
    },
    {
     "name": "stdout",
     "output_type": "stream",
     "text": [
      "Epoch 014\n",
      "TRAIN→ \"R\": RMSE=0.1975 MAE=0.1397 R2=0.2222 | \"B\": Acc=0.8187 Prec=0.5989 Rec=0.2127 F1=0.3139 AUROC=0.7851 | \"T\": Acc=0.3603 Prec=0.5181 Rec=0.3603 F1=0.3566 AUROC=0.5732\n",
      "VALID→ \"R\": RMSE=0.1848 MAE=0.1298 R2=0.2564 | \"B\": Acc=0.8284 Prec=0.6376 Rec=0.2170 F1=0.3238 AUROC=0.7978 | \"T\": Acc=0.3635 Prec=0.5899 Rec=0.3635 F1=0.3712 AUROC=0.5891\n"
     ]
    },
    {
     "data": {
      "application/vnd.jupyter.widget-view+json": {
       "model_id": "08cbec0a22a84a9bb59b1812c3c5c7f7",
       "version_major": 2,
       "version_minor": 0
      },
      "text/plain": [
       "Epoch 15:   0%|          | 0/119 [00:00<?, ?bundle/s]"
      ]
     },
     "metadata": {},
     "output_type": "display_data"
    },
    {
     "name": "stdout",
     "output_type": "stream",
     "text": [
      "Epoch 015\n",
      "TRAIN→ \"R\": RMSE=0.1972 MAE=0.1396 R2=0.2247 | \"B\": Acc=0.8188 Prec=0.5987 Rec=0.2148 F1=0.3162 AUROC=0.7858 | \"T\": Acc=0.3607 Prec=0.5139 Rec=0.3607 F1=0.3573 AUROC=0.5720\n",
      "VALID→ \"R\": RMSE=0.1843 MAE=0.1295 R2=0.2605 | \"B\": Acc=0.8292 Prec=0.6392 Rec=0.2249 F1=0.3327 AUROC=0.7982 | \"T\": Acc=0.3631 Prec=0.5969 Rec=0.3631 F1=0.3702 AUROC=0.5890\n"
     ]
    },
    {
     "data": {
      "application/vnd.jupyter.widget-view+json": {
       "model_id": "5609a68d1b7d4c7f8dce105777a9795d",
       "version_major": 2,
       "version_minor": 0
      },
      "text/plain": [
       "Epoch 16:   0%|          | 0/119 [00:00<?, ?bundle/s]"
      ]
     },
     "metadata": {},
     "output_type": "display_data"
    },
    {
     "name": "stdout",
     "output_type": "stream",
     "text": [
      "Epoch 016\n",
      "TRAIN→ \"R\": RMSE=0.1971 MAE=0.1394 R2=0.2254 | \"B\": Acc=0.8192 Prec=0.6019 Rec=0.2154 F1=0.3173 AUROC=0.7862 | \"T\": Acc=0.3613 Prec=0.5149 Rec=0.3613 F1=0.3580 AUROC=0.5714\n",
      "VALID→ \"R\": RMSE=0.1842 MAE=0.1296 R2=0.2614 | \"B\": Acc=0.8291 Prec=0.6439 Rec=0.2177 F1=0.3254 AUROC=0.7983 | \"T\": Acc=0.3630 Prec=0.5973 Rec=0.3630 F1=0.3700 AUROC=0.5884\n"
     ]
    },
    {
     "data": {
      "application/vnd.jupyter.widget-view+json": {
       "model_id": "ef8de1e904394f799175dacdd582ee0f",
       "version_major": 2,
       "version_minor": 0
      },
      "text/plain": [
       "Epoch 17:   0%|          | 0/119 [00:00<?, ?bundle/s]"
      ]
     },
     "metadata": {},
     "output_type": "display_data"
    },
    {
     "name": "stdout",
     "output_type": "stream",
     "text": [
      "Epoch 017\n",
      "TRAIN→ \"R\": RMSE=0.1969 MAE=0.1393 R2=0.2269 | \"B\": Acc=0.8194 Prec=0.6033 Rec=0.2167 F1=0.3188 AUROC=0.7869 | \"T\": Acc=0.3615 Prec=0.5165 Rec=0.3615 F1=0.3585 AUROC=0.5703\n",
      "VALID→ \"R\": RMSE=0.1838 MAE=0.1294 R2=0.2646 | \"B\": Acc=0.8297 Prec=0.6430 Rec=0.2259 F1=0.3343 AUROC=0.7985 | \"T\": Acc=0.3624 Prec=0.6006 Rec=0.3624 F1=0.3670 AUROC=0.5888\n"
     ]
    },
    {
     "data": {
      "application/vnd.jupyter.widget-view+json": {
       "model_id": "0d9a0e39c025439ba867d61d2788ba49",
       "version_major": 2,
       "version_minor": 0
      },
      "text/plain": [
       "Epoch 18:   0%|          | 0/119 [00:00<?, ?bundle/s]"
      ]
     },
     "metadata": {},
     "output_type": "display_data"
    },
    {
     "name": "stdout",
     "output_type": "stream",
     "text": [
      "Epoch 018\n",
      "TRAIN→ \"R\": RMSE=0.1969 MAE=0.1393 R2=0.2270 | \"B\": Acc=0.8194 Prec=0.6023 Rec=0.2183 F1=0.3204 AUROC=0.7872 | \"T\": Acc=0.3617 Prec=0.5187 Rec=0.3617 F1=0.3589 AUROC=0.5698\n",
      "VALID→ \"R\": RMSE=0.1833 MAE=0.1296 R2=0.2679 | \"B\": Acc=0.8299 Prec=0.6439 Rec=0.2271 F1=0.3358 AUROC=0.7991 | \"T\": Acc=0.3630 Prec=0.5898 Rec=0.3630 F1=0.3668 AUROC=0.5899\n"
     ]
    },
    {
     "data": {
      "application/vnd.jupyter.widget-view+json": {
       "model_id": "29affbef1cc3475394f1f2a2956c75f1",
       "version_major": 2,
       "version_minor": 0
      },
      "text/plain": [
       "Epoch 19:   0%|          | 0/119 [00:00<?, ?bundle/s]"
      ]
     },
     "metadata": {},
     "output_type": "display_data"
    },
    {
     "name": "stdout",
     "output_type": "stream",
     "text": [
      "Epoch 019\n",
      "TRAIN→ \"R\": RMSE=0.1972 MAE=0.1395 R2=0.2243 | \"B\": Acc=0.8194 Prec=0.6021 Rec=0.2179 F1=0.3200 AUROC=0.7870 | \"T\": Acc=0.3618 Prec=0.5251 Rec=0.3618 F1=0.3589 AUROC=0.5684\n",
      "VALID→ \"R\": RMSE=0.1833 MAE=0.1297 R2=0.2684 | \"B\": Acc=0.8297 Prec=0.6434 Rec=0.2257 F1=0.3342 AUROC=0.7989 | \"T\": Acc=0.3628 Prec=0.6004 Rec=0.3628 F1=0.3669 AUROC=0.5891\n"
     ]
    },
    {
     "data": {
      "application/vnd.jupyter.widget-view+json": {
       "model_id": "9aab0b81435a4202b307e87de6806b5c",
       "version_major": 2,
       "version_minor": 0
      },
      "text/plain": [
       "Epoch 20:   0%|          | 0/119 [00:00<?, ?bundle/s]"
      ]
     },
     "metadata": {},
     "output_type": "display_data"
    },
    {
     "name": "stdout",
     "output_type": "stream",
     "text": [
      "Epoch 020\n",
      "TRAIN→ \"R\": RMSE=0.1972 MAE=0.1395 R2=0.2245 | \"B\": Acc=0.8196 Prec=0.6030 Rec=0.2190 F1=0.3214 AUROC=0.7875 | \"T\": Acc=0.3620 Prec=0.5254 Rec=0.3620 F1=0.3590 AUROC=0.5685\n",
      "VALID→ \"R\": RMSE=0.1830 MAE=0.1304 R2=0.2709 | \"B\": Acc=0.8300 Prec=0.6455 Rec=0.2267 F1=0.3356 AUROC=0.7990 | \"T\": Acc=0.3633 Prec=0.6001 Rec=0.3633 F1=0.3691 AUROC=0.5895\n"
     ]
    },
    {
     "data": {
      "application/vnd.jupyter.widget-view+json": {
       "model_id": "5072033d31cd41319aa46d0a0f9c6c71",
       "version_major": 2,
       "version_minor": 0
      },
      "text/plain": [
       "Epoch 21:   0%|          | 0/119 [00:00<?, ?bundle/s]"
      ]
     },
     "metadata": {},
     "output_type": "display_data"
    },
    {
     "name": "stdout",
     "output_type": "stream",
     "text": [
      "Epoch 021\n",
      "TRAIN→ \"R\": RMSE=0.1970 MAE=0.1393 R2=0.2262 | \"B\": Acc=0.8197 Prec=0.6047 Rec=0.2184 F1=0.3209 AUROC=0.7875 | \"T\": Acc=0.3625 Prec=0.5331 Rec=0.3625 F1=0.3599 AUROC=0.5684\n",
      "VALID→ \"R\": RMSE=0.1825 MAE=0.1307 R2=0.2744 | \"B\": Acc=0.8308 Prec=0.6447 Rec=0.2372 F1=0.3468 AUROC=0.7991 | \"T\": Acc=0.3636 Prec=0.5968 Rec=0.3636 F1=0.3674 AUROC=0.5902\n"
     ]
    },
    {
     "data": {
      "application/vnd.jupyter.widget-view+json": {
       "model_id": "1899d3a5faf24dabbc8364edbf9b04df",
       "version_major": 2,
       "version_minor": 0
      },
      "text/plain": [
       "Epoch 22:   0%|          | 0/119 [00:00<?, ?bundle/s]"
      ]
     },
     "metadata": {},
     "output_type": "display_data"
    },
    {
     "name": "stdout",
     "output_type": "stream",
     "text": [
      "Epoch 022\n",
      "TRAIN→ \"R\": RMSE=0.1968 MAE=0.1393 R2=0.2273 | \"B\": Acc=0.8198 Prec=0.6040 Rec=0.2206 F1=0.3231 AUROC=0.7878 | \"T\": Acc=0.3622 Prec=0.5302 Rec=0.3622 F1=0.3593 AUROC=0.5685\n",
      "VALID→ \"R\": RMSE=0.1825 MAE=0.1315 R2=0.2743 | \"B\": Acc=0.8307 Prec=0.6518 Rec=0.2272 F1=0.3370 AUROC=0.7991 | \"T\": Acc=0.3630 Prec=0.5915 Rec=0.3630 F1=0.3649 AUROC=0.5908\n"
     ]
    },
    {
     "data": {
      "application/vnd.jupyter.widget-view+json": {
       "model_id": "10ed139abc5b4e248a64da3167b741af",
       "version_major": 2,
       "version_minor": 0
      },
      "text/plain": [
       "Epoch 23:   0%|          | 0/119 [00:00<?, ?bundle/s]"
      ]
     },
     "metadata": {},
     "output_type": "display_data"
    },
    {
     "name": "stdout",
     "output_type": "stream",
     "text": [
      "Epoch 023\n",
      "TRAIN→ \"R\": RMSE=0.1966 MAE=0.1391 R2=0.2296 | \"B\": Acc=0.8198 Prec=0.6046 Rec=0.2201 F1=0.3227 AUROC=0.7879 | \"T\": Acc=0.3634 Prec=0.5354 Rec=0.3634 F1=0.3607 AUROC=0.5686\n",
      "VALID→ \"R\": RMSE=0.1826 MAE=0.1311 R2=0.2741 | \"B\": Acc=0.8308 Prec=0.6470 Rec=0.2337 F1=0.3434 AUROC=0.7989 | \"T\": Acc=0.3635 Prec=0.5955 Rec=0.3635 F1=0.3663 AUROC=0.5910\n"
     ]
    },
    {
     "data": {
      "application/vnd.jupyter.widget-view+json": {
       "model_id": "7adf0a20bc9047afabfb2faf5ee214c0",
       "version_major": 2,
       "version_minor": 0
      },
      "text/plain": [
       "Epoch 24:   0%|          | 0/119 [00:00<?, ?bundle/s]"
      ]
     },
     "metadata": {},
     "output_type": "display_data"
    },
    {
     "name": "stdout",
     "output_type": "stream",
     "text": [
      "Epoch 024\n",
      "TRAIN→ \"R\": RMSE=0.1965 MAE=0.1391 R2=0.2302 | \"B\": Acc=0.8200 Prec=0.6047 Rec=0.2222 F1=0.3250 AUROC=0.7883 | \"T\": Acc=0.3630 Prec=0.5410 Rec=0.3630 F1=0.3601 AUROC=0.5690\n",
      "VALID→ \"R\": RMSE=0.1824 MAE=0.1317 R2=0.2757 | \"B\": Acc=0.8307 Prec=0.6443 Rec=0.2364 F1=0.3459 AUROC=0.7987 | \"T\": Acc=0.3637 Prec=0.5797 Rec=0.3637 F1=0.3656 AUROC=0.5913\n"
     ]
    },
    {
     "data": {
      "application/vnd.jupyter.widget-view+json": {
       "model_id": "5d6c1787cdd146bb827c9d3948185136",
       "version_major": 2,
       "version_minor": 0
      },
      "text/plain": [
       "Epoch 25:   0%|          | 0/119 [00:00<?, ?bundle/s]"
      ]
     },
     "metadata": {},
     "output_type": "display_data"
    },
    {
     "name": "stdout",
     "output_type": "stream",
     "text": [
      "Epoch 025\n",
      "TRAIN→ \"R\": RMSE=0.1963 MAE=0.1390 R2=0.2314 | \"B\": Acc=0.8201 Prec=0.6053 Rec=0.2231 F1=0.3261 AUROC=0.7883 | \"T\": Acc=0.3630 Prec=0.5349 Rec=0.3630 F1=0.3600 AUROC=0.5687\n",
      "VALID→ \"R\": RMSE=0.1825 MAE=0.1310 R2=0.2743 | \"B\": Acc=0.8309 Prec=0.6432 Rec=0.2393 F1=0.3489 AUROC=0.7981 | \"T\": Acc=0.3633 Prec=0.5803 Rec=0.3633 F1=0.3639 AUROC=0.5911\n"
     ]
    },
    {
     "data": {
      "application/vnd.jupyter.widget-view+json": {
       "model_id": "adbcfb41607e4f83b54e71b12c71aba1",
       "version_major": 2,
       "version_minor": 0
      },
      "text/plain": [
       "Epoch 26:   0%|          | 0/119 [00:00<?, ?bundle/s]"
      ]
     },
     "metadata": {},
     "output_type": "display_data"
    },
    {
     "name": "stdout",
     "output_type": "stream",
     "text": [
      "Epoch 026\n",
      "TRAIN→ \"R\": RMSE=0.1961 MAE=0.1390 R2=0.2328 | \"B\": Acc=0.8202 Prec=0.6054 Rec=0.2249 F1=0.3280 AUROC=0.7886 | \"T\": Acc=0.3634 Prec=0.5448 Rec=0.3634 F1=0.3607 AUROC=0.5681\n",
      "VALID→ \"R\": RMSE=0.1825 MAE=0.1312 R2=0.2747 | \"B\": Acc=0.8310 Prec=0.6404 Rec=0.2447 F1=0.3541 AUROC=0.7981 | \"T\": Acc=0.3637 Prec=0.5826 Rec=0.3637 F1=0.3636 AUROC=0.5917\n"
     ]
    },
    {
     "data": {
      "application/vnd.jupyter.widget-view+json": {
       "model_id": "93667e4102ce4a6197a1011774f884f1",
       "version_major": 2,
       "version_minor": 0
      },
      "text/plain": [
       "Epoch 27:   0%|          | 0/119 [00:00<?, ?bundle/s]"
      ]
     },
     "metadata": {},
     "output_type": "display_data"
    },
    {
     "name": "stdout",
     "output_type": "stream",
     "text": [
      "Epoch 027\n",
      "TRAIN→ \"R\": RMSE=0.1958 MAE=0.1387 R2=0.2357 | \"B\": Acc=0.8204 Prec=0.6056 Rec=0.2269 F1=0.3301 AUROC=0.7890 | \"T\": Acc=0.3634 Prec=0.5446 Rec=0.3634 F1=0.3605 AUROC=0.5691\n",
      "VALID→ \"R\": RMSE=0.1827 MAE=0.1313 R2=0.2730 | \"B\": Acc=0.8308 Prec=0.6405 Rec=0.2426 F1=0.3519 AUROC=0.7982 | \"T\": Acc=0.3641 Prec=0.5846 Rec=0.3641 F1=0.3651 AUROC=0.5919\n"
     ]
    },
    {
     "data": {
      "application/vnd.jupyter.widget-view+json": {
       "model_id": "f945426fd9c348a3a03e1076cab9e0e2",
       "version_major": 2,
       "version_minor": 0
      },
      "text/plain": [
       "Epoch 28:   0%|          | 0/119 [00:00<?, ?bundle/s]"
      ]
     },
     "metadata": {},
     "output_type": "display_data"
    },
    {
     "name": "stdout",
     "output_type": "stream",
     "text": [
      "Epoch 028\n",
      "TRAIN→ \"R\": RMSE=0.1958 MAE=0.1388 R2=0.2356 | \"B\": Acc=0.8203 Prec=0.6050 Rec=0.2265 F1=0.3297 AUROC=0.7884 | \"T\": Acc=0.3639 Prec=0.5395 Rec=0.3639 F1=0.3614 AUROC=0.5692\n",
      "VALID→ \"R\": RMSE=0.1829 MAE=0.1308 R2=0.2718 | \"B\": Acc=0.8307 Prec=0.6403 Rec=0.2411 F1=0.3503 AUROC=0.7983 | \"T\": Acc=0.3637 Prec=0.6055 Rec=0.3637 F1=0.3660 AUROC=0.5916\n"
     ]
    },
    {
     "data": {
      "application/vnd.jupyter.widget-view+json": {
       "model_id": "eae137ef48fd4ba68c5d14b0754a3bd5",
       "version_major": 2,
       "version_minor": 0
      },
      "text/plain": [
       "Epoch 29:   0%|          | 0/119 [00:00<?, ?bundle/s]"
      ]
     },
     "metadata": {},
     "output_type": "display_data"
    },
    {
     "name": "stdout",
     "output_type": "stream",
     "text": [
      "Epoch 029\n",
      "TRAIN→ \"R\": RMSE=0.1954 MAE=0.1384 R2=0.2386 | \"B\": Acc=0.8208 Prec=0.6088 Rec=0.2267 F1=0.3304 AUROC=0.7893 | \"T\": Acc=0.3633 Prec=0.5396 Rec=0.3633 F1=0.3603 AUROC=0.5699\n",
      "VALID→ \"R\": RMSE=0.1827 MAE=0.1315 R2=0.2733 | \"B\": Acc=0.8308 Prec=0.6373 Rec=0.2462 F1=0.3551 AUROC=0.7983 | \"T\": Acc=0.3623 Prec=0.5803 Rec=0.3623 F1=0.3633 AUROC=0.5912\n",
      "Early stopping at epoch 29\n",
      "\n",
      "Champion validation RMSE = 0.182361\n",
      "Improvement over zero‐baseline =  36.2%\n"
     ]
    },
    {
     "data": {
      "image/png": "[encoded data removed]",
      "text/plain": [
       "<Figure size 660x440 with 1 Axes>"
      ]
     },
     "metadata": {},
     "output_type": "display_data"
    }
   ],
   "source": [
    "# -----------------------------------------------------------------------------\n",
    "# Run the custom stateful training loop\n",
    "# -----------------------------------------------------------------------------\n",
    "best_val_rmse  = models.custom_stateful_training_loop(\n",
    "    model               = model,\n",
    "    optimizer           = optimizer,\n",
    "    cosine_sched        = cosine_sched,\n",
    "    plateau_sched       = plateau_sched,\n",
    "    scaler              = scaler,\n",
    "    train_loader        = train_loader,\n",
    "    val_loader          = val_loader,\n",
    "    max_epochs          = params.hparams['MAX_EPOCHS'],\n",
    "    early_stop_patience = params.hparams['EARLY_STOP_PATIENCE'],\n",
    "    baseline_val_rmse   = baseline_val_rmse,\n",
    "    clipnorm            = clipnorm,\n",
    "    device              = device\n",
    ")\n",
    "\n",
    "# -----------------------------------------------------------------------------\n",
    "# Final reporting: best RMSE and relative improvement\n",
    "# -----------------------------------------------------------------------------\n",
    "print(f\"\\nChampion validation RMSE = {best_val_rmse:.6f}\")\n",
    "\n",
    "improvement = 100.0 * (1.0 - best_val_rmse / baseline_val_rmse)\n",
    "print(f\"Improvement over zero‐baseline = {improvement:5.1f}%\")\n"
   ]
  },
  {
   "cell_type": "code",
   "execution_count": null,
   "id": "4c8660dd-d2db-434a-aa59-17814d343fbe",
   "metadata": {},
   "outputs": [],
   "source": []
  },
  {
   "cell_type": "code",
   "execution_count": null,
   "id": "138c3b45-e00a-4a85-860d-4f87b71cbbbc",
   "metadata": {},
   "outputs": [],
   "source": []
  }
 ],
 "metadata": {
  "kernelspec": {
   "display_name": "Python 3 (ipykernel)",
   "language": "python",
   "name": "python3"
  },
  "language_info": {
   "codemirror_mode": {
    "name": "ipython",
    "version": 3
   },
   "file_extension": ".py",
   "mimetype": "text/x-python",
   "name": "python",
   "nbconvert_exporter": "python",
   "pygments_lexer": "ipython3",
   "version": "3.12.3"
  }
 },
 "nbformat": 4,
 "nbformat_minor": 5
}
