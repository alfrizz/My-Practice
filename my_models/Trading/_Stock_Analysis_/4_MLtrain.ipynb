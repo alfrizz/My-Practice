{
 "cells": [
  {
   "cell_type": "code",
   "execution_count": 1,
   "id": "fed6c184-8438-497e-8ae7-82cc35ac4819",
   "metadata": {},
   "outputs": [
    {
     "data": {
      "text/plain": [
       "<module 'libs.models_core' from '/workspace/my_models/Trading/_Stock_Analysis_/libs/models_core.py'>"
      ]
     },
     "execution_count": 1,
     "metadata": {},
     "output_type": "execute_result"
    }
   ],
   "source": [
    "%matplotlib inline\n",
    "\n",
    "\n",
    "# 1) Wipe out your namespace\n",
    "%reset -f\n",
    "\n",
    "# 2) Clear Jupyter’s stored outputs (and inputs if you like)\n",
    "try:\n",
    "    Out.clear()\n",
    "except NameError:\n",
    "    pass\n",
    "\n",
    "try:\n",
    "    In.clear()\n",
    "except NameError:\n",
    "    pass\n",
    "\n",
    "# 3) Force Python GC\n",
    "import gc\n",
    "gc.collect()\n",
    "\n",
    "# 4) Free any GPU buffers\n",
    "import torch\n",
    "if torch.cuda.is_available():\n",
    "    torch.cuda.empty_cache()\n",
    "\n",
    "\n",
    "import importlib\n",
    "from libs import params, trades, feats, plots, models_core\n",
    "importlib.reload(params)\n",
    "importlib.reload(trades)\n",
    "importlib.reload(feats)\n",
    "importlib.reload(plots)\n",
    "importlib.reload(models_core)"
   ]
  },
  {
   "cell_type": "code",
   "execution_count": 2,
   "id": "4c868158-e6bb-4d56-bbdd-8e8103f0b9e4",
   "metadata": {},
   "outputs": [],
   "source": [
    "import pandas as pd\n",
    "pd.set_option('display.max_columns', None)\n",
    "\n",
    "import numpy  as np\n",
    "import math\n",
    "import matplotlib.pyplot as plt\n",
    "\n",
    "import datetime as dt\n",
    "import os\n",
    "from typing import Sequence, List, Tuple, Optional, Union\n",
    "\n",
    "import torch.nn as nn\n",
    "import torch.nn.functional as Funct\n",
    "from torch_lr_finder import LRFinder\n",
    "from torch.utils.data import DataLoader, TensorDataset\n",
    "\n",
    "from tqdm import tqdm"
   ]
  },
  {
   "cell_type": "code",
   "execution_count": 3,
   "id": "7b98406a",
   "metadata": {},
   "outputs": [
    {
     "data": {
      "text/html": [
       "<div>\n",
       "<style scoped>\n",
       "    .dataframe tbody tr th:only-of-type {\n",
       "        vertical-align: middle;\n",
       "    }\n",
       "\n",
       "    .dataframe tbody tr th {\n",
       "        vertical-align: top;\n",
       "    }\n",
       "\n",
       "    .dataframe thead th {\n",
       "        text-align: right;\n",
       "    }\n",
       "</style>\n",
       "<table border=\"1\" class=\"dataframe\">\n",
       "  <thead>\n",
       "    <tr style=\"text-align: right;\">\n",
       "      <th></th>\n",
       "      <th>sma_pct_14</th>\n",
       "      <th>atr_pct_14</th>\n",
       "      <th>rsi_14</th>\n",
       "      <th>bb_w_20</th>\n",
       "      <th>plus_di_14</th>\n",
       "      <th>range_pct</th>\n",
       "      <th>eng_ma</th>\n",
       "      <th>minus_di_14</th>\n",
       "      <th>macd_diff_12_26_9</th>\n",
       "      <th>ret</th>\n",
       "      <th>eng_macd</th>\n",
       "      <th>macd_line_12_26_9</th>\n",
       "      <th>obv_diff_14</th>\n",
       "      <th>eng_atr_div</th>\n",
       "      <th>eng_adx</th>\n",
       "      <th>hour</th>\n",
       "      <th>adx_14</th>\n",
       "      <th>close_raw</th>\n",
       "      <th>signal</th>\n",
       "    </tr>\n",
       "  </thead>\n",
       "  <tbody>\n",
       "    <tr>\n",
       "      <th>2004-01-02 09:33:00</th>\n",
       "      <td>0.499798</td>\n",
       "      <td>0.000000</td>\n",
       "      <td>1.000000</td>\n",
       "      <td>0.000000</td>\n",
       "      <td>0.000000</td>\n",
       "      <td>0.000000</td>\n",
       "      <td>0.516453</td>\n",
       "      <td>0.000000</td>\n",
       "      <td>0.506696</td>\n",
       "      <td>0.499891</td>\n",
       "      <td>0.624765</td>\n",
       "      <td>0.489532</td>\n",
       "      <td>0.488177</td>\n",
       "      <td>0.353456</td>\n",
       "      <td>0.519392</td>\n",
       "      <td>1.002425</td>\n",
       "      <td>0.000000</td>\n",
       "      <td>0.764286</td>\n",
       "      <td>1.301415e-09</td>\n",
       "    </tr>\n",
       "    <tr>\n",
       "      <th>2004-01-02 09:34:00</th>\n",
       "      <td>0.499798</td>\n",
       "      <td>0.000000</td>\n",
       "      <td>1.000000</td>\n",
       "      <td>0.000000</td>\n",
       "      <td>0.000000</td>\n",
       "      <td>0.000000</td>\n",
       "      <td>0.516453</td>\n",
       "      <td>0.000000</td>\n",
       "      <td>0.506696</td>\n",
       "      <td>0.499891</td>\n",
       "      <td>0.624765</td>\n",
       "      <td>0.489532</td>\n",
       "      <td>0.488177</td>\n",
       "      <td>0.353456</td>\n",
       "      <td>0.519392</td>\n",
       "      <td>1.002425</td>\n",
       "      <td>0.000000</td>\n",
       "      <td>0.764286</td>\n",
       "      <td>1.405474e-09</td>\n",
       "    </tr>\n",
       "    <tr>\n",
       "      <th>2004-01-02 09:35:00</th>\n",
       "      <td>0.499798</td>\n",
       "      <td>0.000000</td>\n",
       "      <td>1.000000</td>\n",
       "      <td>0.000000</td>\n",
       "      <td>0.000000</td>\n",
       "      <td>0.000000</td>\n",
       "      <td>0.516453</td>\n",
       "      <td>0.000000</td>\n",
       "      <td>0.506696</td>\n",
       "      <td>0.499891</td>\n",
       "      <td>0.624765</td>\n",
       "      <td>0.489532</td>\n",
       "      <td>0.488177</td>\n",
       "      <td>0.353456</td>\n",
       "      <td>0.519392</td>\n",
       "      <td>1.002425</td>\n",
       "      <td>0.000000</td>\n",
       "      <td>0.764286</td>\n",
       "      <td>1.517855e-09</td>\n",
       "    </tr>\n",
       "    <tr>\n",
       "      <th>2004-01-02 09:36:00</th>\n",
       "      <td>0.499798</td>\n",
       "      <td>0.000000</td>\n",
       "      <td>1.000000</td>\n",
       "      <td>0.000000</td>\n",
       "      <td>0.000000</td>\n",
       "      <td>0.000000</td>\n",
       "      <td>0.516453</td>\n",
       "      <td>0.000000</td>\n",
       "      <td>0.506696</td>\n",
       "      <td>0.499891</td>\n",
       "      <td>0.624765</td>\n",
       "      <td>0.489532</td>\n",
       "      <td>0.488177</td>\n",
       "      <td>0.353456</td>\n",
       "      <td>0.519392</td>\n",
       "      <td>1.002425</td>\n",
       "      <td>0.000000</td>\n",
       "      <td>0.764286</td>\n",
       "      <td>1.639221e-09</td>\n",
       "    </tr>\n",
       "    <tr>\n",
       "      <th>2004-01-02 09:37:00</th>\n",
       "      <td>0.499798</td>\n",
       "      <td>0.000000</td>\n",
       "      <td>1.000000</td>\n",
       "      <td>0.000000</td>\n",
       "      <td>0.000000</td>\n",
       "      <td>0.000000</td>\n",
       "      <td>0.516453</td>\n",
       "      <td>0.000000</td>\n",
       "      <td>0.506696</td>\n",
       "      <td>0.499891</td>\n",
       "      <td>0.624765</td>\n",
       "      <td>0.489532</td>\n",
       "      <td>0.488177</td>\n",
       "      <td>0.353456</td>\n",
       "      <td>0.519392</td>\n",
       "      <td>1.002425</td>\n",
       "      <td>0.000000</td>\n",
       "      <td>0.764286</td>\n",
       "      <td>1.770291e-09</td>\n",
       "    </tr>\n",
       "    <tr>\n",
       "      <th>...</th>\n",
       "      <td>...</td>\n",
       "      <td>...</td>\n",
       "      <td>...</td>\n",
       "      <td>...</td>\n",
       "      <td>...</td>\n",
       "      <td>...</td>\n",
       "      <td>...</td>\n",
       "      <td>...</td>\n",
       "      <td>...</td>\n",
       "      <td>...</td>\n",
       "      <td>...</td>\n",
       "      <td>...</td>\n",
       "      <td>...</td>\n",
       "      <td>...</td>\n",
       "      <td>...</td>\n",
       "      <td>...</td>\n",
       "      <td>...</td>\n",
       "      <td>...</td>\n",
       "      <td>...</td>\n",
       "    </tr>\n",
       "    <tr>\n",
       "      <th>2025-06-18 20:56:00</th>\n",
       "      <td>0.751690</td>\n",
       "      <td>0.323886</td>\n",
       "      <td>0.672166</td>\n",
       "      <td>0.273759</td>\n",
       "      <td>0.363125</td>\n",
       "      <td>0.254109</td>\n",
       "      <td>0.532431</td>\n",
       "      <td>0.074852</td>\n",
       "      <td>0.888941</td>\n",
       "      <td>0.642346</td>\n",
       "      <td>0.634772</td>\n",
       "      <td>0.971125</td>\n",
       "      <td>1.000000</td>\n",
       "      <td>0.664288</td>\n",
       "      <td>0.537709</td>\n",
       "      <td>-0.975989</td>\n",
       "      <td>0.301944</td>\n",
       "      <td>196.815000</td>\n",
       "      <td>6.849078e-01</td>\n",
       "    </tr>\n",
       "    <tr>\n",
       "      <th>2025-06-18 20:57:00</th>\n",
       "      <td>0.650094</td>\n",
       "      <td>0.336016</td>\n",
       "      <td>0.616686</td>\n",
       "      <td>0.290460</td>\n",
       "      <td>0.347207</td>\n",
       "      <td>0.420131</td>\n",
       "      <td>0.532016</td>\n",
       "      <td>0.067044</td>\n",
       "      <td>0.840741</td>\n",
       "      <td>0.340442</td>\n",
       "      <td>0.633511</td>\n",
       "      <td>0.981544</td>\n",
       "      <td>0.000000</td>\n",
       "      <td>0.676887</td>\n",
       "      <td>0.541855</td>\n",
       "      <td>-0.975989</td>\n",
       "      <td>0.328685</td>\n",
       "      <td>196.675000</td>\n",
       "      <td>6.122057e-01</td>\n",
       "    </tr>\n",
       "    <tr>\n",
       "      <th>2025-06-18 20:58:00</th>\n",
       "      <td>0.631153</td>\n",
       "      <td>0.322169</td>\n",
       "      <td>0.614734</td>\n",
       "      <td>0.304199</td>\n",
       "      <td>0.336272</td>\n",
       "      <td>0.121620</td>\n",
       "      <td>0.531618</td>\n",
       "      <td>0.064933</td>\n",
       "      <td>0.777896</td>\n",
       "      <td>0.494192</td>\n",
       "      <td>0.631866</td>\n",
       "      <td>0.983006</td>\n",
       "      <td>0.000000</td>\n",
       "      <td>0.584662</td>\n",
       "      <td>0.545337</td>\n",
       "      <td>-0.975989</td>\n",
       "      <td>0.353515</td>\n",
       "      <td>196.670000</td>\n",
       "      <td>6.104678e-01</td>\n",
       "    </tr>\n",
       "    <tr>\n",
       "      <th>2025-06-18 20:59:00</th>\n",
       "      <td>0.375519</td>\n",
       "      <td>0.346959</td>\n",
       "      <td>0.475401</td>\n",
       "      <td>0.305249</td>\n",
       "      <td>0.290578</td>\n",
       "      <td>0.565110</td>\n",
       "      <td>0.531157</td>\n",
       "      <td>0.160021</td>\n",
       "      <td>0.456523</td>\n",
       "      <td>0.009795</td>\n",
       "      <td>0.623450</td>\n",
       "      <td>0.884486</td>\n",
       "      <td>0.000000</td>\n",
       "      <td>0.645760</td>\n",
       "      <td>0.531521</td>\n",
       "      <td>-0.975989</td>\n",
       "      <td>0.348960</td>\n",
       "      <td>196.240000</td>\n",
       "      <td>4.770902e-01</td>\n",
       "    </tr>\n",
       "    <tr>\n",
       "      <th>2025-06-18 21:00:00</th>\n",
       "      <td>0.535073</td>\n",
       "      <td>0.374297</td>\n",
       "      <td>0.551738</td>\n",
       "      <td>0.303059</td>\n",
       "      <td>0.249733</td>\n",
       "      <td>0.630630</td>\n",
       "      <td>0.531913</td>\n",
       "      <td>0.176984</td>\n",
       "      <td>0.422962</td>\n",
       "      <td>0.842567</td>\n",
       "      <td>0.622570</td>\n",
       "      <td>0.868408</td>\n",
       "      <td>1.000000</td>\n",
       "      <td>0.708780</td>\n",
       "      <td>0.525575</td>\n",
       "      <td>-0.993518</td>\n",
       "      <td>0.336212</td>\n",
       "      <td>196.540000</td>\n",
       "      <td>3.509684e-01</td>\n",
       "    </tr>\n",
       "  </tbody>\n",
       "</table>\n",
       "<p>3715200 rows × 19 columns</p>\n",
       "</div>"
      ],
      "text/plain": [
       "                     sma_pct_14  atr_pct_14    rsi_14   bb_w_20  plus_di_14  \\\n",
       "2004-01-02 09:33:00    0.499798    0.000000  1.000000  0.000000    0.000000   \n",
       "2004-01-02 09:34:00    0.499798    0.000000  1.000000  0.000000    0.000000   \n",
       "2004-01-02 09:35:00    0.499798    0.000000  1.000000  0.000000    0.000000   \n",
       "2004-01-02 09:36:00    0.499798    0.000000  1.000000  0.000000    0.000000   \n",
       "2004-01-02 09:37:00    0.499798    0.000000  1.000000  0.000000    0.000000   \n",
       "...                         ...         ...       ...       ...         ...   \n",
       "2025-06-18 20:56:00    0.751690    0.323886  0.672166  0.273759    0.363125   \n",
       "2025-06-18 20:57:00    0.650094    0.336016  0.616686  0.290460    0.347207   \n",
       "2025-06-18 20:58:00    0.631153    0.322169  0.614734  0.304199    0.336272   \n",
       "2025-06-18 20:59:00    0.375519    0.346959  0.475401  0.305249    0.290578   \n",
       "2025-06-18 21:00:00    0.535073    0.374297  0.551738  0.303059    0.249733   \n",
       "\n",
       "                     range_pct    eng_ma  minus_di_14  macd_diff_12_26_9  \\\n",
       "2004-01-02 09:33:00   0.000000  0.516453     0.000000           0.506696   \n",
       "2004-01-02 09:34:00   0.000000  0.516453     0.000000           0.506696   \n",
       "2004-01-02 09:35:00   0.000000  0.516453     0.000000           0.506696   \n",
       "2004-01-02 09:36:00   0.000000  0.516453     0.000000           0.506696   \n",
       "2004-01-02 09:37:00   0.000000  0.516453     0.000000           0.506696   \n",
       "...                        ...       ...          ...                ...   \n",
       "2025-06-18 20:56:00   0.254109  0.532431     0.074852           0.888941   \n",
       "2025-06-18 20:57:00   0.420131  0.532016     0.067044           0.840741   \n",
       "2025-06-18 20:58:00   0.121620  0.531618     0.064933           0.777896   \n",
       "2025-06-18 20:59:00   0.565110  0.531157     0.160021           0.456523   \n",
       "2025-06-18 21:00:00   0.630630  0.531913     0.176984           0.422962   \n",
       "\n",
       "                          ret  eng_macd  macd_line_12_26_9  obv_diff_14  \\\n",
       "2004-01-02 09:33:00  0.499891  0.624765           0.489532     0.488177   \n",
       "2004-01-02 09:34:00  0.499891  0.624765           0.489532     0.488177   \n",
       "2004-01-02 09:35:00  0.499891  0.624765           0.489532     0.488177   \n",
       "2004-01-02 09:36:00  0.499891  0.624765           0.489532     0.488177   \n",
       "2004-01-02 09:37:00  0.499891  0.624765           0.489532     0.488177   \n",
       "...                       ...       ...                ...          ...   \n",
       "2025-06-18 20:56:00  0.642346  0.634772           0.971125     1.000000   \n",
       "2025-06-18 20:57:00  0.340442  0.633511           0.981544     0.000000   \n",
       "2025-06-18 20:58:00  0.494192  0.631866           0.983006     0.000000   \n",
       "2025-06-18 20:59:00  0.009795  0.623450           0.884486     0.000000   \n",
       "2025-06-18 21:00:00  0.842567  0.622570           0.868408     1.000000   \n",
       "\n",
       "                     eng_atr_div   eng_adx      hour    adx_14   close_raw  \\\n",
       "2004-01-02 09:33:00     0.353456  0.519392  1.002425  0.000000    0.764286   \n",
       "2004-01-02 09:34:00     0.353456  0.519392  1.002425  0.000000    0.764286   \n",
       "2004-01-02 09:35:00     0.353456  0.519392  1.002425  0.000000    0.764286   \n",
       "2004-01-02 09:36:00     0.353456  0.519392  1.002425  0.000000    0.764286   \n",
       "2004-01-02 09:37:00     0.353456  0.519392  1.002425  0.000000    0.764286   \n",
       "...                          ...       ...       ...       ...         ...   \n",
       "2025-06-18 20:56:00     0.664288  0.537709 -0.975989  0.301944  196.815000   \n",
       "2025-06-18 20:57:00     0.676887  0.541855 -0.975989  0.328685  196.675000   \n",
       "2025-06-18 20:58:00     0.584662  0.545337 -0.975989  0.353515  196.670000   \n",
       "2025-06-18 20:59:00     0.645760  0.531521 -0.975989  0.348960  196.240000   \n",
       "2025-06-18 21:00:00     0.708780  0.525575 -0.993518  0.336212  196.540000   \n",
       "\n",
       "                           signal  \n",
       "2004-01-02 09:33:00  1.301415e-09  \n",
       "2004-01-02 09:34:00  1.405474e-09  \n",
       "2004-01-02 09:35:00  1.517855e-09  \n",
       "2004-01-02 09:36:00  1.639221e-09  \n",
       "2004-01-02 09:37:00  1.770291e-09  \n",
       "...                           ...  \n",
       "2025-06-18 20:56:00  6.849078e-01  \n",
       "2025-06-18 20:57:00  6.122057e-01  \n",
       "2025-06-18 20:58:00  6.104678e-01  \n",
       "2025-06-18 20:59:00  4.770902e-01  \n",
       "2025-06-18 21:00:00  3.509684e-01  \n",
       "\n",
       "[3715200 rows x 19 columns]"
      ]
     },
     "execution_count": 3,
     "metadata": {},
     "output_type": "execute_result"
    }
   ],
   "source": [
    "df_feat_sel = pd.read_csv(params.feat_all_csv, index_col=0, parse_dates=True)[params.features_cols_tick + ['close_raw'] + [params.label_col]]\n",
    "    \n",
    "df_feat_sel"
   ]
  },
  {
   "cell_type": "code",
   "execution_count": 4,
   "id": "e5a8d933-8402-45de-a838-4335b2a37d48",
   "metadata": {},
   "outputs": [
    {
     "name": "stdout",
     "output_type": "stream",
     "text": [
      "Inside build_tensors, features: ['sma_pct_14', 'atr_pct_14', 'rsi_14', 'bb_w_20', 'plus_di_14', 'range_pct', 'eng_ma', 'minus_di_14', 'macd_diff_12_26_9', 'ret', 'eng_macd', 'macd_line_12_26_9', 'obv_diff_14', 'eng_atr_div', 'eng_adx', 'hour', 'adx_14']\n"
     ]
    },
    {
     "data": {
      "application/vnd.jupyter.widget-view+json": {
       "model_id": "f5803a92724040ba89a790c38aecfb77",
       "version_major": 2,
       "version_minor": 0
      },
      "text/plain": [
       "Preparing days:   0%|          | 0/5400 [00:00<?, ?it/s]"
      ]
     },
     "metadata": {},
     "output_type": "display_data"
    },
    {
     "data": {
      "application/vnd.jupyter.widget-view+json": {
       "model_id": "c542c84207c649beb58202bc87929567",
       "version_major": 2,
       "version_minor": 0
      },
      "text/plain": [
       "Writing days:   0%|          | 0/5400 [00:00<?, ?it/s]"
      ]
     },
     "metadata": {},
     "output_type": "display_data"
    },
    {
     "data": {
      "application/vnd.jupyter.widget-view+json": {
       "model_id": "dd1e1d480966489db3bf1ef3787bcb67",
       "version_major": 2,
       "version_minor": 0
      },
      "text/plain": [
       "Creating DayWindowDatasets:   0%|          | 0/3 [00:00<?, ?split/s]"
      ]
     },
     "metadata": {},
     "output_type": "display_data"
    },
    {
     "name": "stdout",
     "output_type": "stream",
     "text": [
      "--- TRAIN ---\n",
      " calendar days : 3840  (2004-01-02 → 2019-04-04)\n",
      " windows       : 1731840  (per-day min=451, max=451, mean=451.0)\n",
      " window shape  : look_back=60, n_features=17\n",
      " dataloader    : batches= 60, batch_size=64, workers=12, pin_memory=True\n",
      "\n",
      "--- VAL ---\n",
      " calendar days : 751  (2019-04-05 → 2022-03-28)\n",
      " windows       : 338701  (per-day min=451, max=451, mean=451.0)\n",
      " window shape  : look_back=60, n_features=17\n",
      " dataloader    : batches=751, batch_size=1, workers=0, pin_memory=True\n",
      "\n",
      "--- TEST ---\n",
      " calendar days : 809  (2022-03-29 → 2025-06-18)\n",
      " windows       : 364859  (per-day min=451, max=451, mean=451.0)\n",
      " window shape  : look_back=60, n_features=17\n",
      " dataloader    : batches=809, batch_size=1, workers=0, pin_memory=True\n",
      "\n"
     ]
    }
   ],
   "source": [
    "train_loader, val_loader, test_loader, end_times_tr, end_times_val, end_times_te = models_core.model_core_pipeline(\n",
    "    df             = df_feat_sel,\n",
    "    look_back      = params.look_back_tick,\n",
    "    sess_start     = params.sess_start_pred_tick,\n",
    "    train_prop     = params.train_prop,\n",
    "    val_prop       = params.val_prop,\n",
    "    train_batch    = params.hparams[\"TRAIN_BATCH\"],\n",
    "    num_workers    = params.hparams[\"NUM_WORKERS\"],\n",
    "    prefetch_factor= params.hparams[\"TRAIN_PREFETCH_FACTOR\"],\n",
    "    signal_thresh  = params.best_optuna_params[\"buy_threshold\"],\n",
    "    return_thresh  = params.return_threshold_tick\n",
    ")\n",
    "\n",
    "for name, ld, tm in zip(\n",
    "    [\"train\",\"val\",\"test\"],\n",
    "    [train_loader, val_loader, test_loader],\n",
    "    [end_times_tr, end_times_val, end_times_te]\n",
    "):\n",
    "    models_core.summarize_split(name, ld, tm)"
   ]
  },
  {
   "cell_type": "code",
   "execution_count": 5,
   "id": "eeec031f-6c8f-455f-9c72-ae411e03ba34",
   "metadata": {},
   "outputs": [
    {
     "data": {
      "text/plain": [
       "ModelClass(\n",
       "  (conv): Conv1d(17, 17, kernel_size=(3,), stride=(1,), padding=(1,))\n",
       "  (bn): BatchNorm1d(17, eps=1e-05, momentum=0.1, affine=True, track_running_stats=True)\n",
       "  (short_lstm): LSTM(17, 64, batch_first=True, bidirectional=True)\n",
       "  (ln_short): LayerNorm((128,), eps=1e-05, elementwise_affine=True)\n",
       "  (do_short): Dropout(p=0.3, inplace=False)\n",
       "  (short2long): Linear(in_features=128, out_features=256, bias=True)\n",
       "  (ln_long): LayerNorm((256,), eps=1e-05, elementwise_affine=True)\n",
       "  (do_long): Dropout(p=0.3, inplace=False)\n",
       "  (pred): Sequential(\n",
       "    (0): Linear(in_features=256, out_features=128, bias=True)\n",
       "    (1): ReLU(inplace=True)\n",
       "    (2): Linear(in_features=128, out_features=1, bias=True)\n",
       "  )\n",
       ")"
      ]
     },
     "execution_count": 5,
     "metadata": {},
     "output_type": "execute_result"
    }
   ],
   "source": [
    "# importlib.reload(params.model_selected) #############\n",
    "\n",
    "# -----------------------------------------------------------------------------\n",
    "# Instantiate the ModelClass & move to device\n",
    "# -----------------------------------------------------------------------------\n",
    "\n",
    "model = params.model_selected.ModelClass(\n",
    "    n_feats          = len(params.features_cols_tick),                          \n",
    "    short_units      = params.hparams['SHORT_UNITS'],    \n",
    "    long_units       = params.hparams['LONG_UNITS'],     \n",
    "    dropout_short    = params.hparams['DROPOUT_SHORT'],  \n",
    "    dropout_long     = params.hparams['DROPOUT_LONG'],   \n",
    "    # att_heads        = params.hparams['ATT_HEADS'],\n",
    "    # att_drop         = params.hparams['ATT_DROPOUT'],\n",
    "    conv_k           = params.hparams['CONV_K'],\n",
    "    conv_dilation    = params.hparams['CONV_DILATION'],\n",
    "    # smooth_k         = params.hparams['SMOOTH_K'],\n",
    "    # smooth_dilation  = params.hparams['SMOOTH_DILATION']\n",
    "    pred_hidden      = params.hparams['PRED_HIDDEN'],\n",
    ")\n",
    "model.to(params.device)  \n",
    "\n",
    "model"
   ]
  },
  {
   "cell_type": "code",
   "execution_count": 6,
   "id": "5512a0dd-d2c8-418e-bfca-4580fb4be995",
   "metadata": {},
   "outputs": [
    {
     "data": {
      "text/plain": [
       "AdamW (\n",
       "Parameter Group 0\n",
       "    amsgrad: False\n",
       "    betas: (0.9, 0.999)\n",
       "    capturable: False\n",
       "    decoupled_weight_decay: True\n",
       "    differentiable: False\n",
       "    eps: 1e-08\n",
       "    foreach: None\n",
       "    fused: None\n",
       "    initial_lr: 5e-06\n",
       "    lr: 5e-06\n",
       "    maximize: False\n",
       "    weight_decay: 0.0003\n",
       ")"
      ]
     },
     "execution_count": 6,
     "metadata": {},
     "output_type": "execute_result"
    }
   ],
   "source": [
    "# -----------------------------------------------------------------------------\n",
    "# Build optimizer, LR scheduler, AMP scaler, and gradient‐clip norm\n",
    "# -----------------------------------------------------------------------------\n",
    "optimizer, plateau_sched, cosine_sched, scaler, clipnorm = models_core.make_optimizer_and_scheduler(\n",
    "    model,\n",
    "    initial_lr        = params.hparams['INITIAL_LR'],       \n",
    "    weight_decay      = params.hparams['WEIGHT_DECAY'],     \n",
    "    clipnorm          = params.hparams['CLIPNORM']   \n",
    ")\n",
    "\n",
    "optimizer"
   ]
  },
  {
   "cell_type": "code",
   "execution_count": 7,
   "id": "e9c5fc27-f31d-4adc-a247-5468674f83fc",
   "metadata": {},
   "outputs": [
    {
     "name": "stdout",
     "output_type": "stream",
     "text": [
      "Zero‐forecast RMSE (predict 0): train = 0.405952,  val = 0.409382\n",
      "\n",
      "Train target stats:\n",
      "  mean = 0.2836,  var = 0.0844,  std = 0.2905\n",
      "Train mean‐predictor baseline:\n",
      "  RMSE_baseline = 0.290471\n",
      "  R²_baseline   = 0.00\n",
      "\n",
      "Validation target stats:\n",
      "  mean = 0.2919,  var = 0.0824,  std = 0.2870\n",
      "Validation mean‐predictor baseline:\n",
      "  RMSE_baseline = 0.287012\n",
      "  R²_baseline   = 0.00\n",
      "\n"
     ]
    }
   ],
   "source": [
    "# -----------------------------------------------------------------------------\n",
    "# Helper: extract the true “signal” values from any loader into a flat array\n",
    "# -----------------------------------------------------------------------------\n",
    "def extract_y(loader):\n",
    "    return np.concatenate([batch[1].cpu().numpy().ravel() for batch in loader])\n",
    "\n",
    "# Pull out train & validation targets\n",
    "y_train = extract_y(train_loader)\n",
    "y_val   = extract_y(val_loader)\n",
    "\n",
    "# -----------------------------------------------------------------------------\n",
    "# 1) Zero‐forecast baseline RMSE (predict 0 always)\n",
    "#    RMSE_zero = √(mean(y²))\n",
    "# -----------------------------------------------------------------------------\n",
    "rmse_zero_train = np.sqrt(np.mean(y_train**2))\n",
    "rmse_zero_val   = np.sqrt(np.mean(y_val**2))\n",
    "print(f\"Zero‐forecast RMSE (predict 0): train = {rmse_zero_train:.6f},  val = {rmse_zero_val:.6f}\\n\")\n",
    "\n",
    "# -----------------------------------------------------------------------------\n",
    "# 2) Compute mean, variance & std for train/validation targets\n",
    "#    and derive the mean‐predictor baseline (R² = 0)\n",
    "# -----------------------------------------------------------------------------\n",
    "for split, y in [(\"Train\", y_train), (\"Validation\", y_val)]:\n",
    "    mean_y    = y.mean()\n",
    "    std_y     = y.std(ddof=0)     # population std = √variance\n",
    "    var_y     = std_y**2\n",
    "    rmse_mean = std_y            # RMSE_baseline = std(target)\n",
    "\n",
    "    print(f\"{split} target stats:\")\n",
    "    print(f\"  mean = {mean_y:.4f},  var = {var_y:.4f},  std = {std_y:.4f}\")\n",
    "    print(f\"{split} mean‐predictor baseline:\")\n",
    "    print(f\"  RMSE_baseline = {rmse_mean:.6f}\")\n",
    "    print(\"  R²_baseline   = 0.00\\n\")\n",
    "\n",
    "    if split == \"Validation\":\n",
    "        rmse_mean_val = rmse_mean # used afterwards for the final reporting\n",
    "        \n"
   ]
  },
  {
   "cell_type": "code",
   "execution_count": 8,
   "id": "a8f7ec8c-5882-486b-bdfd-371b8db260f9",
   "metadata": {},
   "outputs": [
    {
     "data": {
      "image/png": "[encoded data removed]",
      "text/plain": [
       "<Figure size 640x480 with 1 Axes>"
      ]
     },
     "metadata": {},
     "output_type": "display_data"
    }
   ],
   "source": [
    "# Visualize the true‐signal distributions on train vs. validation\n",
    "plt.hist(y_train, bins=100, alpha=0.5, label=\"train true\")\n",
    "plt.hist(y_val,   bins=100, alpha=0.5, label=\"val true\")\n",
    "plt.xlabel(\"Signal value\")\n",
    "plt.ylabel(\"Count\")\n",
    "plt.title(\"True Signal Distribution: Train vs. Validation\")\n",
    "plt.legend()\n",
    "plt.tight_layout()\n",
    "plt.show()\n"
   ]
  },
  {
   "cell_type": "code",
   "execution_count": 9,
   "id": "7bf94780-a876-4bf4-ad27-6abc2da1fc0a",
   "metadata": {},
   "outputs": [
    {
     "name": "stdout",
     "output_type": "stream",
     "text": [
      "Training sees 3840 unique trading days per epoch.\n",
      "\n",
      "Using HyperParameters:\n",
      " \"look_back\": 60 {'CONV_K': 3, 'CONV_DILATION': 1, 'SHORT_UNITS': 128, 'DROPOUT_SHORT': 0.3, 'LONG_UNITS': 256, 'PRED_HIDDEN': 128, 'DROPOUT_LONG': 0.3, 'DIFF1_WEIGHT': 1.0, 'DIFF2_WEIGHT': 2.0, 'SMOOTH_ALPHA': 0.05, 'SMOOTH_BETA': 100.0, 'SMOOTH_DELTA': 0.02, 'LR_EPOCHS_WARMUP': 1, 'INITIAL_LR': 5e-06, 'WEIGHT_DECAY': 0.0003, 'CLIPNORM': 1.0, 'ETA_MIN': 1e-07, 'T_0': 100, 'T_MULT': 1, 'TRAIN_BATCH': 64, 'VAL_BATCH': 1, 'NUM_WORKERS': 12, 'TRAIN_PREFETCH_FACTOR': 4, 'MAX_EPOCHS': 100, 'EARLY_STOP_PATIENCE': 7, 'PLATEAU_FACTOR': 0.9, 'PLATEAU_PATIENCE': 0, 'MIN_LR': 1e-06, 'PLAT_EPOCHS_WARMUP': 999}\n"
     ]
    },
    {
     "data": {
      "image/png": "[encoded data removed]",
      "text/plain": [
       "<Figure size 660x440 with 1 Axes>"
      ]
     },
     "metadata": {},
     "output_type": "display_data"
    },
    {
     "data": {
      "application/vnd.jupyter.widget-view+json": {
       "model_id": "fea7aba285c7464b8617bbf28e63160e",
       "version_major": 2,
       "version_minor": 0
      },
      "text/plain": [
       "Epoch 1 ▶ Train:   0%|          | 0/60 [00:00<?, ?it/s]"
      ]
     },
     "metadata": {},
     "output_type": "display_data"
    },
    {
     "data": {
      "application/vnd.jupyter.widget-view+json": {
       "model_id": "4392d6a561a0417ebf0f948a43b94327",
       "version_major": 2,
       "version_minor": 0
      },
      "text/plain": [
       "Epoch 1 ▶ Valid:   0%|          | 0/751 [00:00<?, ?it/s]"
      ]
     },
     "metadata": {},
     "output_type": "display_data"
    },
    {
     "name": "stdout",
     "output_type": "stream",
     "text": [
      "Epoch 01  TRAIN RMSE=0.3429  VALID RMSE=0.2347\n"
     ]
    },
    {
     "data": {
      "application/vnd.jupyter.widget-view+json": {
       "model_id": "91870169aa1e456090aecfe9cfa02710",
       "version_major": 2,
       "version_minor": 0
      },
      "text/plain": [
       "Epoch 2 ▶ Train:   0%|          | 0/60 [00:00<?, ?it/s]"
      ]
     },
     "metadata": {},
     "output_type": "display_data"
    },
    {
     "data": {
      "application/vnd.jupyter.widget-view+json": {
       "model_id": "aa52d95bfd2249e7ae904926a43f97f1",
       "version_major": 2,
       "version_minor": 0
      },
      "text/plain": [
       "Epoch 2 ▶ Valid:   0%|          | 0/751 [00:00<?, ?it/s]"
      ]
     },
     "metadata": {},
     "output_type": "display_data"
    },
    {
     "name": "stdout",
     "output_type": "stream",
     "text": [
      "Epoch 02  TRAIN RMSE=0.2630  VALID RMSE=0.2472\n"
     ]
    },
    {
     "data": {
      "application/vnd.jupyter.widget-view+json": {
       "model_id": "6091cca342c74458a4da48fcef7d34b7",
       "version_major": 2,
       "version_minor": 0
      },
      "text/plain": [
       "Epoch 3 ▶ Train:   0%|          | 0/60 [00:00<?, ?it/s]"
      ]
     },
     "metadata": {},
     "output_type": "display_data"
    },
    {
     "data": {
      "application/vnd.jupyter.widget-view+json": {
       "model_id": "1f3c3bea7b834badab990755040c3e18",
       "version_major": 2,
       "version_minor": 0
      },
      "text/plain": [
       "Epoch 3 ▶ Valid:   0%|          | 0/751 [00:00<?, ?it/s]"
      ]
     },
     "metadata": {},
     "output_type": "display_data"
    },
    {
     "name": "stdout",
     "output_type": "stream",
     "text": [
      "Epoch 03  TRAIN RMSE=0.2482  VALID RMSE=0.2455\n"
     ]
    },
    {
     "data": {
      "application/vnd.jupyter.widget-view+json": {
       "model_id": "73c19b2498f34d9bb2caa21d78834ce9",
       "version_major": 2,
       "version_minor": 0
      },
      "text/plain": [
       "Epoch 4 ▶ Train:   0%|          | 0/60 [00:00<?, ?it/s]"
      ]
     },
     "metadata": {},
     "output_type": "display_data"
    },
    {
     "data": {
      "application/vnd.jupyter.widget-view+json": {
       "model_id": "d9ac08ed269f4e64b1becfeb98d45665",
       "version_major": 2,
       "version_minor": 0
      },
      "text/plain": [
       "Epoch 4 ▶ Valid:   0%|          | 0/751 [00:00<?, ?it/s]"
      ]
     },
     "metadata": {},
     "output_type": "display_data"
    },
    {
     "name": "stdout",
     "output_type": "stream",
     "text": [
      "Epoch 04  TRAIN RMSE=0.2424  VALID RMSE=0.2396\n"
     ]
    },
    {
     "data": {
      "application/vnd.jupyter.widget-view+json": {
       "model_id": "f6c0d9d8380241c3a1b400d84a217a85",
       "version_major": 2,
       "version_minor": 0
      },
      "text/plain": [
       "Epoch 5 ▶ Train:   0%|          | 0/60 [00:00<?, ?it/s]"
      ]
     },
     "metadata": {},
     "output_type": "display_data"
    },
    {
     "data": {
      "application/vnd.jupyter.widget-view+json": {
       "model_id": "93163371a9014e43a32c72e60cdac7a6",
       "version_major": 2,
       "version_minor": 0
      },
      "text/plain": [
       "Epoch 5 ▶ Valid:   0%|          | 0/751 [00:00<?, ?it/s]"
      ]
     },
     "metadata": {},
     "output_type": "display_data"
    },
    {
     "name": "stdout",
     "output_type": "stream",
     "text": [
      "Epoch 05  TRAIN RMSE=0.2428  VALID RMSE=0.2366\n"
     ]
    },
    {
     "data": {
      "application/vnd.jupyter.widget-view+json": {
       "model_id": "203949380453437894b556ed6412b6b8",
       "version_major": 2,
       "version_minor": 0
      },
      "text/plain": [
       "Epoch 6 ▶ Train:   0%|          | 0/60 [00:00<?, ?it/s]"
      ]
     },
     "metadata": {},
     "output_type": "display_data"
    },
    {
     "data": {
      "application/vnd.jupyter.widget-view+json": {
       "model_id": "a4053d428f714faf8d2183416a2b3fb6",
       "version_major": 2,
       "version_minor": 0
      },
      "text/plain": [
       "Epoch 6 ▶ Valid:   0%|          | 0/751 [00:00<?, ?it/s]"
      ]
     },
     "metadata": {},
     "output_type": "display_data"
    },
    {
     "name": "stdout",
     "output_type": "stream",
     "text": [
      "Epoch 06  TRAIN RMSE=0.2364  VALID RMSE=0.2367\n"
     ]
    },
    {
     "data": {
      "application/vnd.jupyter.widget-view+json": {
       "model_id": "c00e8e0476604dda8fc64017103154fa",
       "version_major": 2,
       "version_minor": 0
      },
      "text/plain": [
       "Epoch 7 ▶ Train:   0%|          | 0/60 [00:00<?, ?it/s]"
      ]
     },
     "metadata": {},
     "output_type": "display_data"
    },
    {
     "data": {
      "application/vnd.jupyter.widget-view+json": {
       "model_id": "4590d18714c44754af80128c172502a8",
       "version_major": 2,
       "version_minor": 0
      },
      "text/plain": [
       "Epoch 7 ▶ Valid:   0%|          | 0/751 [00:00<?, ?it/s]"
      ]
     },
     "metadata": {},
     "output_type": "display_data"
    },
    {
     "name": "stdout",
     "output_type": "stream",
     "text": [
      "Epoch 07  TRAIN RMSE=0.2299  VALID RMSE=0.2245\n"
     ]
    },
    {
     "data": {
      "application/vnd.jupyter.widget-view+json": {
       "model_id": "4523d1cf3ec9404b9903be520cf47eb2",
       "version_major": 2,
       "version_minor": 0
      },
      "text/plain": [
       "Epoch 8 ▶ Train:   0%|          | 0/60 [00:00<?, ?it/s]"
      ]
     },
     "metadata": {},
     "output_type": "display_data"
    },
    {
     "data": {
      "application/vnd.jupyter.widget-view+json": {
       "model_id": "00e1d65303f54d1a97a254106567abcc",
       "version_major": 2,
       "version_minor": 0
      },
      "text/plain": [
       "Epoch 8 ▶ Valid:   0%|          | 0/751 [00:00<?, ?it/s]"
      ]
     },
     "metadata": {},
     "output_type": "display_data"
    },
    {
     "name": "stdout",
     "output_type": "stream",
     "text": [
      "Epoch 08  TRAIN RMSE=0.2250  VALID RMSE=0.2210\n"
     ]
    },
    {
     "data": {
      "application/vnd.jupyter.widget-view+json": {
       "model_id": "a806b17b82884267a93bbf3f1a099ae5",
       "version_major": 2,
       "version_minor": 0
      },
      "text/plain": [
       "Epoch 9 ▶ Train:   0%|          | 0/60 [00:00<?, ?it/s]"
      ]
     },
     "metadata": {},
     "output_type": "display_data"
    },
    {
     "data": {
      "application/vnd.jupyter.widget-view+json": {
       "model_id": "eaed11b15d3e4e75901f17c1e4a285e0",
       "version_major": 2,
       "version_minor": 0
      },
      "text/plain": [
       "Epoch 9 ▶ Valid:   0%|          | 0/751 [00:00<?, ?it/s]"
      ]
     },
     "metadata": {},
     "output_type": "display_data"
    },
    {
     "name": "stdout",
     "output_type": "stream",
     "text": [
      "Epoch 09  TRAIN RMSE=0.2218  VALID RMSE=0.2153\n"
     ]
    },
    {
     "data": {
      "application/vnd.jupyter.widget-view+json": {
       "model_id": "c7c1e4c95fba41a0af2003bf794c3cc6",
       "version_major": 2,
       "version_minor": 0
      },
      "text/plain": [
       "Epoch 10 ▶ Train:   0%|          | 0/60 [00:00<?, ?it/s]"
      ]
     },
     "metadata": {},
     "output_type": "display_data"
    },
    {
     "data": {
      "application/vnd.jupyter.widget-view+json": {
       "model_id": "ea9b4acded78458bae5bb0f54e1ffa66",
       "version_major": 2,
       "version_minor": 0
      },
      "text/plain": [
       "Epoch 10 ▶ Valid:   0%|          | 0/751 [00:00<?, ?it/s]"
      ]
     },
     "metadata": {},
     "output_type": "display_data"
    },
    {
     "name": "stdout",
     "output_type": "stream",
     "text": [
      "Epoch 10  TRAIN RMSE=0.2214  VALID RMSE=0.2175\n"
     ]
    },
    {
     "data": {
      "application/vnd.jupyter.widget-view+json": {
       "model_id": "f179fcab19394221a79636a0746651a1",
       "version_major": 2,
       "version_minor": 0
      },
      "text/plain": [
       "Epoch 11 ▶ Train:   0%|          | 0/60 [00:00<?, ?it/s]"
      ]
     },
     "metadata": {},
     "output_type": "display_data"
    },
    {
     "data": {
      "application/vnd.jupyter.widget-view+json": {
       "model_id": "566267f65b74424b96f91f4d6a51ca65",
       "version_major": 2,
       "version_minor": 0
      },
      "text/plain": [
       "Epoch 11 ▶ Valid:   0%|          | 0/751 [00:00<?, ?it/s]"
      ]
     },
     "metadata": {},
     "output_type": "display_data"
    },
    {
     "name": "stdout",
     "output_type": "stream",
     "text": [
      "Epoch 11  TRAIN RMSE=0.2151  VALID RMSE=0.2116\n"
     ]
    },
    {
     "data": {
      "application/vnd.jupyter.widget-view+json": {
       "model_id": "1e444535dfa74c4aa5e691cb7875461e",
       "version_major": 2,
       "version_minor": 0
      },
      "text/plain": [
       "Epoch 12 ▶ Train:   0%|          | 0/60 [00:00<?, ?it/s]"
      ]
     },
     "metadata": {},
     "output_type": "display_data"
    },
    {
     "data": {
      "application/vnd.jupyter.widget-view+json": {
       "model_id": "4628a669980146b29036989ed3380096",
       "version_major": 2,
       "version_minor": 0
      },
      "text/plain": [
       "Epoch 12 ▶ Valid:   0%|          | 0/751 [00:00<?, ?it/s]"
      ]
     },
     "metadata": {},
     "output_type": "display_data"
    },
    {
     "name": "stdout",
     "output_type": "stream",
     "text": [
      "Epoch 12  TRAIN RMSE=0.2149  VALID RMSE=0.2100\n"
     ]
    },
    {
     "data": {
      "application/vnd.jupyter.widget-view+json": {
       "model_id": "c723904534ae4a9ba0a0af91c7854443",
       "version_major": 2,
       "version_minor": 0
      },
      "text/plain": [
       "Epoch 13 ▶ Train:   0%|          | 0/60 [00:00<?, ?it/s]"
      ]
     },
     "metadata": {},
     "output_type": "display_data"
    },
    {
     "data": {
      "application/vnd.jupyter.widget-view+json": {
       "model_id": "61f8bdd9ab6a4dea8647fbd9acf1848f",
       "version_major": 2,
       "version_minor": 0
      },
      "text/plain": [
       "Epoch 13 ▶ Valid:   0%|          | 0/751 [00:00<?, ?it/s]"
      ]
     },
     "metadata": {},
     "output_type": "display_data"
    },
    {
     "name": "stdout",
     "output_type": "stream",
     "text": [
      "Epoch 13  TRAIN RMSE=0.2147  VALID RMSE=0.2065\n"
     ]
    },
    {
     "data": {
      "application/vnd.jupyter.widget-view+json": {
       "model_id": "602a7cc6a3454da3af996464c8818a81",
       "version_major": 2,
       "version_minor": 0
      },
      "text/plain": [
       "Epoch 14 ▶ Train:   0%|          | 0/60 [00:00<?, ?it/s]"
      ]
     },
     "metadata": {},
     "output_type": "display_data"
    },
    {
     "data": {
      "application/vnd.jupyter.widget-view+json": {
       "model_id": "75c197e2bb1e497fb288329951cf93f6",
       "version_major": 2,
       "version_minor": 0
      },
      "text/plain": [
       "Epoch 14 ▶ Valid:   0%|          | 0/751 [00:00<?, ?it/s]"
      ]
     },
     "metadata": {},
     "output_type": "display_data"
    },
    {
     "name": "stdout",
     "output_type": "stream",
     "text": [
      "Epoch 14  TRAIN RMSE=0.2110  VALID RMSE=0.2049\n"
     ]
    },
    {
     "data": {
      "application/vnd.jupyter.widget-view+json": {
       "model_id": "6f339a8aa9894348ab35cedeacb338a5",
       "version_major": 2,
       "version_minor": 0
      },
      "text/plain": [
       "Epoch 15 ▶ Train:   0%|          | 0/60 [00:00<?, ?it/s]"
      ]
     },
     "metadata": {},
     "output_type": "display_data"
    },
    {
     "data": {
      "application/vnd.jupyter.widget-view+json": {
       "model_id": "665fa1503ee74d92a95dd3a2be9fe076",
       "version_major": 2,
       "version_minor": 0
      },
      "text/plain": [
       "Epoch 15 ▶ Valid:   0%|          | 0/751 [00:00<?, ?it/s]"
      ]
     },
     "metadata": {},
     "output_type": "display_data"
    },
    {
     "name": "stdout",
     "output_type": "stream",
     "text": [
      "Epoch 15  TRAIN RMSE=0.2062  VALID RMSE=0.2010\n"
     ]
    },
    {
     "data": {
      "application/vnd.jupyter.widget-view+json": {
       "model_id": "1667c20dee2841f39e9291d811094a6a",
       "version_major": 2,
       "version_minor": 0
      },
      "text/plain": [
       "Epoch 16 ▶ Train:   0%|          | 0/60 [00:00<?, ?it/s]"
      ]
     },
     "metadata": {},
     "output_type": "display_data"
    },
    {
     "data": {
      "application/vnd.jupyter.widget-view+json": {
       "model_id": "8705fbc95144479ea1db462d4edfdf23",
       "version_major": 2,
       "version_minor": 0
      },
      "text/plain": [
       "Epoch 16 ▶ Valid:   0%|          | 0/751 [00:00<?, ?it/s]"
      ]
     },
     "metadata": {},
     "output_type": "display_data"
    },
    {
     "name": "stdout",
     "output_type": "stream",
     "text": [
      "Epoch 16  TRAIN RMSE=0.2046  VALID RMSE=0.1971\n"
     ]
    },
    {
     "data": {
      "application/vnd.jupyter.widget-view+json": {
       "model_id": "596f626c0e3f4ef98d5db1c5571ca5a9",
       "version_major": 2,
       "version_minor": 0
      },
      "text/plain": [
       "Epoch 17 ▶ Train:   0%|          | 0/60 [00:00<?, ?it/s]"
      ]
     },
     "metadata": {},
     "output_type": "display_data"
    },
    {
     "data": {
      "application/vnd.jupyter.widget-view+json": {
       "model_id": "0458a91b575148cba53013f29c0d06b7",
       "version_major": 2,
       "version_minor": 0
      },
      "text/plain": [
       "Epoch 17 ▶ Valid:   0%|          | 0/751 [00:00<?, ?it/s]"
      ]
     },
     "metadata": {},
     "output_type": "display_data"
    },
    {
     "name": "stdout",
     "output_type": "stream",
     "text": [
      "Epoch 17  TRAIN RMSE=0.2041  VALID RMSE=0.1963\n"
     ]
    },
    {
     "data": {
      "application/vnd.jupyter.widget-view+json": {
       "model_id": "cf88586e330d4a568b3403a3a05b2346",
       "version_major": 2,
       "version_minor": 0
      },
      "text/plain": [
       "Epoch 18 ▶ Train:   0%|          | 0/60 [00:00<?, ?it/s]"
      ]
     },
     "metadata": {},
     "output_type": "display_data"
    },
    {
     "data": {
      "application/vnd.jupyter.widget-view+json": {
       "model_id": "af48007ecc804e97b213544763a52f5e",
       "version_major": 2,
       "version_minor": 0
      },
      "text/plain": [
       "Epoch 18 ▶ Valid:   0%|          | 0/751 [00:00<?, ?it/s]"
      ]
     },
     "metadata": {},
     "output_type": "display_data"
    },
    {
     "name": "stdout",
     "output_type": "stream",
     "text": [
      "Epoch 18  TRAIN RMSE=0.2038  VALID RMSE=0.1941\n"
     ]
    },
    {
     "data": {
      "application/vnd.jupyter.widget-view+json": {
       "model_id": "167d54dea0cf43c9ae8765aad467f4c9",
       "version_major": 2,
       "version_minor": 0
      },
      "text/plain": [
       "Epoch 19 ▶ Train:   0%|          | 0/60 [00:00<?, ?it/s]"
      ]
     },
     "metadata": {},
     "output_type": "display_data"
    },
    {
     "data": {
      "application/vnd.jupyter.widget-view+json": {
       "model_id": "9f2835eb941f4281abaa144ea5f91747",
       "version_major": 2,
       "version_minor": 0
      },
      "text/plain": [
       "Epoch 19 ▶ Valid:   0%|          | 0/751 [00:00<?, ?it/s]"
      ]
     },
     "metadata": {},
     "output_type": "display_data"
    },
    {
     "name": "stdout",
     "output_type": "stream",
     "text": [
      "Epoch 19  TRAIN RMSE=0.2016  VALID RMSE=0.1940\n"
     ]
    },
    {
     "data": {
      "application/vnd.jupyter.widget-view+json": {
       "model_id": "200596f663134bd7a8cf0754846c5bd9",
       "version_major": 2,
       "version_minor": 0
      },
      "text/plain": [
       "Epoch 20 ▶ Train:   0%|          | 0/60 [00:00<?, ?it/s]"
      ]
     },
     "metadata": {},
     "output_type": "display_data"
    },
    {
     "data": {
      "application/vnd.jupyter.widget-view+json": {
       "model_id": "0ae69b81393b499ba3a9cfd1db75d909",
       "version_major": 2,
       "version_minor": 0
      },
      "text/plain": [
       "Epoch 20 ▶ Valid:   0%|          | 0/751 [00:00<?, ?it/s]"
      ]
     },
     "metadata": {},
     "output_type": "display_data"
    },
    {
     "name": "stdout",
     "output_type": "stream",
     "text": [
      "Epoch 20  TRAIN RMSE=0.1979  VALID RMSE=0.1905\n"
     ]
    },
    {
     "data": {
      "application/vnd.jupyter.widget-view+json": {
       "model_id": "7d2de6c8491147a9aefa948450d47a1b",
       "version_major": 2,
       "version_minor": 0
      },
      "text/plain": [
       "Epoch 21 ▶ Train:   0%|          | 0/60 [00:00<?, ?it/s]"
      ]
     },
     "metadata": {},
     "output_type": "display_data"
    },
    {
     "data": {
      "application/vnd.jupyter.widget-view+json": {
       "model_id": "ddb5a2c1e36f4acaa8b737158979b274",
       "version_major": 2,
       "version_minor": 0
      },
      "text/plain": [
       "Epoch 21 ▶ Valid:   0%|          | 0/751 [00:00<?, ?it/s]"
      ]
     },
     "metadata": {},
     "output_type": "display_data"
    },
    {
     "name": "stdout",
     "output_type": "stream",
     "text": [
      "Epoch 21  TRAIN RMSE=0.1969  VALID RMSE=0.1889\n"
     ]
    },
    {
     "data": {
      "application/vnd.jupyter.widget-view+json": {
       "model_id": "650d85dc6c1d4031b56c51aff761ae1e",
       "version_major": 2,
       "version_minor": 0
      },
      "text/plain": [
       "Epoch 22 ▶ Train:   0%|          | 0/60 [00:00<?, ?it/s]"
      ]
     },
     "metadata": {},
     "output_type": "display_data"
    },
    {
     "data": {
      "application/vnd.jupyter.widget-view+json": {
       "model_id": "b3af83a1bdd04b659f5deb2a197db39b",
       "version_major": 2,
       "version_minor": 0
      },
      "text/plain": [
       "Epoch 22 ▶ Valid:   0%|          | 0/751 [00:00<?, ?it/s]"
      ]
     },
     "metadata": {},
     "output_type": "display_data"
    },
    {
     "name": "stdout",
     "output_type": "stream",
     "text": [
      "Epoch 22  TRAIN RMSE=0.1970  VALID RMSE=0.1876\n"
     ]
    },
    {
     "data": {
      "application/vnd.jupyter.widget-view+json": {
       "model_id": "c5751781091746f49fe3a05ee95378b8",
       "version_major": 2,
       "version_minor": 0
      },
      "text/plain": [
       "Epoch 23 ▶ Train:   0%|          | 0/60 [00:00<?, ?it/s]"
      ]
     },
     "metadata": {},
     "output_type": "display_data"
    },
    {
     "data": {
      "application/vnd.jupyter.widget-view+json": {
       "model_id": "bf6d5a4fa2ec4c2c856bbffe58053e20",
       "version_major": 2,
       "version_minor": 0
      },
      "text/plain": [
       "Epoch 23 ▶ Valid:   0%|          | 0/751 [00:00<?, ?it/s]"
      ]
     },
     "metadata": {},
     "output_type": "display_data"
    },
    {
     "name": "stdout",
     "output_type": "stream",
     "text": [
      "Epoch 23  TRAIN RMSE=0.1954  VALID RMSE=0.1865\n"
     ]
    },
    {
     "data": {
      "application/vnd.jupyter.widget-view+json": {
       "model_id": "fa958b6cc35a474e9fd25138db3e7631",
       "version_major": 2,
       "version_minor": 0
      },
      "text/plain": [
       "Epoch 24 ▶ Train:   0%|          | 0/60 [00:00<?, ?it/s]"
      ]
     },
     "metadata": {},
     "output_type": "display_data"
    },
    {
     "data": {
      "application/vnd.jupyter.widget-view+json": {
       "model_id": "307696c44968472da8d8cf33f52ea786",
       "version_major": 2,
       "version_minor": 0
      },
      "text/plain": [
       "Epoch 24 ▶ Valid:   0%|          | 0/751 [00:00<?, ?it/s]"
      ]
     },
     "metadata": {},
     "output_type": "display_data"
    },
    {
     "name": "stdout",
     "output_type": "stream",
     "text": [
      "Epoch 24  TRAIN RMSE=0.1929  VALID RMSE=0.1855\n"
     ]
    },
    {
     "data": {
      "application/vnd.jupyter.widget-view+json": {
       "model_id": "9ed5027432504fe38f52af9fc260926b",
       "version_major": 2,
       "version_minor": 0
      },
      "text/plain": [
       "Epoch 25 ▶ Train:   0%|          | 0/60 [00:00<?, ?it/s]"
      ]
     },
     "metadata": {},
     "output_type": "display_data"
    },
    {
     "data": {
      "application/vnd.jupyter.widget-view+json": {
       "model_id": "a97905b6a4014de58173aea07b62b433",
       "version_major": 2,
       "version_minor": 0
      },
      "text/plain": [
       "Epoch 25 ▶ Valid:   0%|          | 0/751 [00:00<?, ?it/s]"
      ]
     },
     "metadata": {},
     "output_type": "display_data"
    },
    {
     "name": "stdout",
     "output_type": "stream",
     "text": [
      "Epoch 25  TRAIN RMSE=0.1927  VALID RMSE=0.1855\n"
     ]
    },
    {
     "data": {
      "application/vnd.jupyter.widget-view+json": {
       "model_id": "189f34ee29fb46b1b5c0f0c75746845e",
       "version_major": 2,
       "version_minor": 0
      },
      "text/plain": [
       "Epoch 26 ▶ Train:   0%|          | 0/60 [00:00<?, ?it/s]"
      ]
     },
     "metadata": {},
     "output_type": "display_data"
    },
    {
     "data": {
      "application/vnd.jupyter.widget-view+json": {
       "model_id": "273a92010d574f44a4d731fab039354c",
       "version_major": 2,
       "version_minor": 0
      },
      "text/plain": [
       "Epoch 26 ▶ Valid:   0%|          | 0/751 [00:00<?, ?it/s]"
      ]
     },
     "metadata": {},
     "output_type": "display_data"
    },
    {
     "name": "stdout",
     "output_type": "stream",
     "text": [
      "Epoch 26  TRAIN RMSE=0.1941  VALID RMSE=0.1831\n"
     ]
    },
    {
     "data": {
      "application/vnd.jupyter.widget-view+json": {
       "model_id": "dd188ce89b1b44a1a84b11646c5b53f5",
       "version_major": 2,
       "version_minor": 0
      },
      "text/plain": [
       "Epoch 27 ▶ Train:   0%|          | 0/60 [00:00<?, ?it/s]"
      ]
     },
     "metadata": {},
     "output_type": "display_data"
    },
    {
     "data": {
      "application/vnd.jupyter.widget-view+json": {
       "model_id": "68130a4c79bf4c7e995e3ccef0a0bb43",
       "version_major": 2,
       "version_minor": 0
      },
      "text/plain": [
       "Epoch 27 ▶ Valid:   0%|          | 0/751 [00:00<?, ?it/s]"
      ]
     },
     "metadata": {},
     "output_type": "display_data"
    },
    {
     "name": "stdout",
     "output_type": "stream",
     "text": [
      "Epoch 27  TRAIN RMSE=0.1942  VALID RMSE=0.1826\n"
     ]
    },
    {
     "data": {
      "application/vnd.jupyter.widget-view+json": {
       "model_id": "71b0a700ec0e423bbc757e3a2f90abee",
       "version_major": 2,
       "version_minor": 0
      },
      "text/plain": [
       "Epoch 28 ▶ Train:   0%|          | 0/60 [00:00<?, ?it/s]"
      ]
     },
     "metadata": {},
     "output_type": "display_data"
    },
    {
     "data": {
      "application/vnd.jupyter.widget-view+json": {
       "model_id": "93e083b06c004067bc284241491577de",
       "version_major": 2,
       "version_minor": 0
      },
      "text/plain": [
       "Epoch 28 ▶ Valid:   0%|          | 0/751 [00:00<?, ?it/s]"
      ]
     },
     "metadata": {},
     "output_type": "display_data"
    },
    {
     "name": "stdout",
     "output_type": "stream",
     "text": [
      "Epoch 28  TRAIN RMSE=0.1930  VALID RMSE=0.1824\n"
     ]
    },
    {
     "data": {
      "application/vnd.jupyter.widget-view+json": {
       "model_id": "9e89f450b50a4afbbba5674b9f893c95",
       "version_major": 2,
       "version_minor": 0
      },
      "text/plain": [
       "Epoch 29 ▶ Train:   0%|          | 0/60 [00:00<?, ?it/s]"
      ]
     },
     "metadata": {},
     "output_type": "display_data"
    },
    {
     "data": {
      "application/vnd.jupyter.widget-view+json": {
       "model_id": "7d7b847bc69240e38cbafd73e334f78d",
       "version_major": 2,
       "version_minor": 0
      },
      "text/plain": [
       "Epoch 29 ▶ Valid:   0%|          | 0/751 [00:00<?, ?it/s]"
      ]
     },
     "metadata": {},
     "output_type": "display_data"
    },
    {
     "name": "stdout",
     "output_type": "stream",
     "text": [
      "Epoch 29  TRAIN RMSE=0.1914  VALID RMSE=0.1793\n"
     ]
    },
    {
     "data": {
      "application/vnd.jupyter.widget-view+json": {
       "model_id": "5fe239824f7e4b1eb055150af5d02a02",
       "version_major": 2,
       "version_minor": 0
      },
      "text/plain": [
       "Epoch 30 ▶ Train:   0%|          | 0/60 [00:00<?, ?it/s]"
      ]
     },
     "metadata": {},
     "output_type": "display_data"
    },
    {
     "data": {
      "application/vnd.jupyter.widget-view+json": {
       "model_id": "59b7259b9bc74ef693de5e1b9ec15aa8",
       "version_major": 2,
       "version_minor": 0
      },
      "text/plain": [
       "Epoch 30 ▶ Valid:   0%|          | 0/751 [00:00<?, ?it/s]"
      ]
     },
     "metadata": {},
     "output_type": "display_data"
    },
    {
     "name": "stdout",
     "output_type": "stream",
     "text": [
      "Epoch 30  TRAIN RMSE=0.1908  VALID RMSE=0.1796\n"
     ]
    },
    {
     "data": {
      "application/vnd.jupyter.widget-view+json": {
       "model_id": "df6e8707f75e4fa3b6fcd2039ab16b5e",
       "version_major": 2,
       "version_minor": 0
      },
      "text/plain": [
       "Epoch 31 ▶ Train:   0%|          | 0/60 [00:00<?, ?it/s]"
      ]
     },
     "metadata": {},
     "output_type": "display_data"
    },
    {
     "data": {
      "application/vnd.jupyter.widget-view+json": {
       "model_id": "b9274e255d7447bab3d539981e8faef2",
       "version_major": 2,
       "version_minor": 0
      },
      "text/plain": [
       "Epoch 31 ▶ Valid:   0%|          | 0/751 [00:00<?, ?it/s]"
      ]
     },
     "metadata": {},
     "output_type": "display_data"
    },
    {
     "name": "stdout",
     "output_type": "stream",
     "text": [
      "Epoch 31  TRAIN RMSE=0.1889  VALID RMSE=0.1771\n"
     ]
    },
    {
     "data": {
      "application/vnd.jupyter.widget-view+json": {
       "model_id": "87f80bd47c634e7490b68043c64d0e9d",
       "version_major": 2,
       "version_minor": 0
      },
      "text/plain": [
       "Epoch 32 ▶ Train:   0%|          | 0/60 [00:00<?, ?it/s]"
      ]
     },
     "metadata": {},
     "output_type": "display_data"
    },
    {
     "data": {
      "application/vnd.jupyter.widget-view+json": {
       "model_id": "02b420212b59421ca30b12260af8d47a",
       "version_major": 2,
       "version_minor": 0
      },
      "text/plain": [
       "Epoch 32 ▶ Valid:   0%|          | 0/751 [00:00<?, ?it/s]"
      ]
     },
     "metadata": {},
     "output_type": "display_data"
    },
    {
     "name": "stdout",
     "output_type": "stream",
     "text": [
      "Epoch 32  TRAIN RMSE=0.1876  VALID RMSE=0.1760\n"
     ]
    },
    {
     "data": {
      "application/vnd.jupyter.widget-view+json": {
       "model_id": "1ac66600f2a64bb0a1bf8a92f976a8af",
       "version_major": 2,
       "version_minor": 0
      },
      "text/plain": [
       "Epoch 33 ▶ Train:   0%|          | 0/60 [00:00<?, ?it/s]"
      ]
     },
     "metadata": {},
     "output_type": "display_data"
    },
    {
     "data": {
      "application/vnd.jupyter.widget-view+json": {
       "model_id": "1e2cf0ae655a4808b4f9f2440a34153e",
       "version_major": 2,
       "version_minor": 0
      },
      "text/plain": [
       "Epoch 33 ▶ Valid:   0%|          | 0/751 [00:00<?, ?it/s]"
      ]
     },
     "metadata": {},
     "output_type": "display_data"
    },
    {
     "name": "stdout",
     "output_type": "stream",
     "text": [
      "Epoch 33  TRAIN RMSE=0.1857  VALID RMSE=0.1773\n"
     ]
    },
    {
     "data": {
      "application/vnd.jupyter.widget-view+json": {
       "model_id": "7450b8228d3c4fc9b01a010b88765eea",
       "version_major": 2,
       "version_minor": 0
      },
      "text/plain": [
       "Epoch 34 ▶ Train:   0%|          | 0/60 [00:00<?, ?it/s]"
      ]
     },
     "metadata": {},
     "output_type": "display_data"
    },
    {
     "data": {
      "application/vnd.jupyter.widget-view+json": {
       "model_id": "2043049631ec45e1982122e4fa2099ee",
       "version_major": 2,
       "version_minor": 0
      },
      "text/plain": [
       "Epoch 34 ▶ Valid:   0%|          | 0/751 [00:00<?, ?it/s]"
      ]
     },
     "metadata": {},
     "output_type": "display_data"
    },
    {
     "name": "stdout",
     "output_type": "stream",
     "text": [
      "Epoch 34  TRAIN RMSE=0.1872  VALID RMSE=0.1750\n"
     ]
    },
    {
     "data": {
      "application/vnd.jupyter.widget-view+json": {
       "model_id": "9f391d41bc25489082a529d5080e07f3",
       "version_major": 2,
       "version_minor": 0
      },
      "text/plain": [
       "Epoch 35 ▶ Train:   0%|          | 0/60 [00:00<?, ?it/s]"
      ]
     },
     "metadata": {},
     "output_type": "display_data"
    },
    {
     "data": {
      "application/vnd.jupyter.widget-view+json": {
       "model_id": "9244358501f74ff39f26d08fd67459c6",
       "version_major": 2,
       "version_minor": 0
      },
      "text/plain": [
       "Epoch 35 ▶ Valid:   0%|          | 0/751 [00:00<?, ?it/s]"
      ]
     },
     "metadata": {},
     "output_type": "display_data"
    },
    {
     "name": "stdout",
     "output_type": "stream",
     "text": [
      "Epoch 35  TRAIN RMSE=0.1834  VALID RMSE=0.1743\n"
     ]
    },
    {
     "data": {
      "application/vnd.jupyter.widget-view+json": {
       "model_id": "a575412c627e4833a3fe379c02a7d4a1",
       "version_major": 2,
       "version_minor": 0
      },
      "text/plain": [
       "Epoch 36 ▶ Train:   0%|          | 0/60 [00:00<?, ?it/s]"
      ]
     },
     "metadata": {},
     "output_type": "display_data"
    },
    {
     "data": {
      "application/vnd.jupyter.widget-view+json": {
       "model_id": "26625f2cc8ac423585701e172dd551d5",
       "version_major": 2,
       "version_minor": 0
      },
      "text/plain": [
       "Epoch 36 ▶ Valid:   0%|          | 0/751 [00:00<?, ?it/s]"
      ]
     },
     "metadata": {},
     "output_type": "display_data"
    },
    {
     "name": "stdout",
     "output_type": "stream",
     "text": [
      "Epoch 36  TRAIN RMSE=0.1870  VALID RMSE=0.1732\n"
     ]
    },
    {
     "data": {
      "application/vnd.jupyter.widget-view+json": {
       "model_id": "32720016130e4d32baf9a589700310bf",
       "version_major": 2,
       "version_minor": 0
      },
      "text/plain": [
       "Epoch 37 ▶ Train:   0%|          | 0/60 [00:00<?, ?it/s]"
      ]
     },
     "metadata": {},
     "output_type": "display_data"
    },
    {
     "data": {
      "application/vnd.jupyter.widget-view+json": {
       "model_id": "a182972c498149b19d7c9fec8ce9aba1",
       "version_major": 2,
       "version_minor": 0
      },
      "text/plain": [
       "Epoch 37 ▶ Valid:   0%|          | 0/751 [00:00<?, ?it/s]"
      ]
     },
     "metadata": {},
     "output_type": "display_data"
    },
    {
     "name": "stdout",
     "output_type": "stream",
     "text": [
      "Epoch 37  TRAIN RMSE=0.1853  VALID RMSE=0.1726\n"
     ]
    },
    {
     "data": {
      "application/vnd.jupyter.widget-view+json": {
       "model_id": "03b4955501a449bf9ca49b713139a550",
       "version_major": 2,
       "version_minor": 0
      },
      "text/plain": [
       "Epoch 38 ▶ Train:   0%|          | 0/60 [00:00<?, ?it/s]"
      ]
     },
     "metadata": {},
     "output_type": "display_data"
    },
    {
     "data": {
      "application/vnd.jupyter.widget-view+json": {
       "model_id": "fca97e8404844a2cac239545cd20adf5",
       "version_major": 2,
       "version_minor": 0
      },
      "text/plain": [
       "Epoch 38 ▶ Valid:   0%|          | 0/751 [00:00<?, ?it/s]"
      ]
     },
     "metadata": {},
     "output_type": "display_data"
    },
    {
     "name": "stdout",
     "output_type": "stream",
     "text": [
      "Epoch 38  TRAIN RMSE=0.1833  VALID RMSE=0.1719\n"
     ]
    },
    {
     "data": {
      "application/vnd.jupyter.widget-view+json": {
       "model_id": "76bc36d101384f54a778657aae2301b8",
       "version_major": 2,
       "version_minor": 0
      },
      "text/plain": [
       "Epoch 39 ▶ Train:   0%|          | 0/60 [00:00<?, ?it/s]"
      ]
     },
     "metadata": {},
     "output_type": "display_data"
    },
    {
     "data": {
      "application/vnd.jupyter.widget-view+json": {
       "model_id": "d60990eedcdf4ba3822b7cc6f68b81d7",
       "version_major": 2,
       "version_minor": 0
      },
      "text/plain": [
       "Epoch 39 ▶ Valid:   0%|          | 0/751 [00:00<?, ?it/s]"
      ]
     },
     "metadata": {},
     "output_type": "display_data"
    },
    {
     "name": "stdout",
     "output_type": "stream",
     "text": [
      "Epoch 39  TRAIN RMSE=0.1827  VALID RMSE=0.1714\n"
     ]
    },
    {
     "data": {
      "application/vnd.jupyter.widget-view+json": {
       "model_id": "9ab7476cb2934b50824c01205759d382",
       "version_major": 2,
       "version_minor": 0
      },
      "text/plain": [
       "Epoch 40 ▶ Train:   0%|          | 0/60 [00:00<?, ?it/s]"
      ]
     },
     "metadata": {},
     "output_type": "display_data"
    },
    {
     "data": {
      "application/vnd.jupyter.widget-view+json": {
       "model_id": "2807a22d1518493e8aeec707944bb9d9",
       "version_major": 2,
       "version_minor": 0
      },
      "text/plain": [
       "Epoch 40 ▶ Valid:   0%|          | 0/751 [00:00<?, ?it/s]"
      ]
     },
     "metadata": {},
     "output_type": "display_data"
    },
    {
     "name": "stdout",
     "output_type": "stream",
     "text": [
      "Epoch 40  TRAIN RMSE=0.1849  VALID RMSE=0.1710\n"
     ]
    },
    {
     "data": {
      "application/vnd.jupyter.widget-view+json": {
       "model_id": "a3996ad780204783826943f4924fa2b2",
       "version_major": 2,
       "version_minor": 0
      },
      "text/plain": [
       "Epoch 41 ▶ Train:   0%|          | 0/60 [00:00<?, ?it/s]"
      ]
     },
     "metadata": {},
     "output_type": "display_data"
    },
    {
     "data": {
      "application/vnd.jupyter.widget-view+json": {
       "model_id": "9c18853d768d4ba8a89a9a4700a9e978",
       "version_major": 2,
       "version_minor": 0
      },
      "text/plain": [
       "Epoch 41 ▶ Valid:   0%|          | 0/751 [00:00<?, ?it/s]"
      ]
     },
     "metadata": {},
     "output_type": "display_data"
    },
    {
     "name": "stdout",
     "output_type": "stream",
     "text": [
      "Epoch 41  TRAIN RMSE=0.1837  VALID RMSE=0.1706\n"
     ]
    },
    {
     "data": {
      "application/vnd.jupyter.widget-view+json": {
       "model_id": "2d4241f2b0664d099aa0205def69f1c5",
       "version_major": 2,
       "version_minor": 0
      },
      "text/plain": [
       "Epoch 42 ▶ Train:   0%|          | 0/60 [00:00<?, ?it/s]"
      ]
     },
     "metadata": {},
     "output_type": "display_data"
    },
    {
     "data": {
      "application/vnd.jupyter.widget-view+json": {
       "model_id": "f319d4d6db114eabbcdfae1e0f99d785",
       "version_major": 2,
       "version_minor": 0
      },
      "text/plain": [
       "Epoch 42 ▶ Valid:   0%|          | 0/751 [00:00<?, ?it/s]"
      ]
     },
     "metadata": {},
     "output_type": "display_data"
    },
    {
     "name": "stdout",
     "output_type": "stream",
     "text": [
      "Epoch 42  TRAIN RMSE=0.1843  VALID RMSE=0.1697\n"
     ]
    },
    {
     "data": {
      "application/vnd.jupyter.widget-view+json": {
       "model_id": "62a5d6a20d7f4f049a1106b0819d97fc",
       "version_major": 2,
       "version_minor": 0
      },
      "text/plain": [
       "Epoch 43 ▶ Train:   0%|          | 0/60 [00:00<?, ?it/s]"
      ]
     },
     "metadata": {},
     "output_type": "display_data"
    },
    {
     "data": {
      "application/vnd.jupyter.widget-view+json": {
       "model_id": "cb9c948e68c943a4b94e1fc8ffc0caac",
       "version_major": 2,
       "version_minor": 0
      },
      "text/plain": [
       "Epoch 43 ▶ Valid:   0%|          | 0/751 [00:00<?, ?it/s]"
      ]
     },
     "metadata": {},
     "output_type": "display_data"
    },
    {
     "name": "stdout",
     "output_type": "stream",
     "text": [
      "Epoch 43  TRAIN RMSE=0.1826  VALID RMSE=0.1700\n"
     ]
    },
    {
     "data": {
      "application/vnd.jupyter.widget-view+json": {
       "model_id": "38d640d538cf4e10bbce231313fd8d5a",
       "version_major": 2,
       "version_minor": 0
      },
      "text/plain": [
       "Epoch 44 ▶ Train:   0%|          | 0/60 [00:00<?, ?it/s]"
      ]
     },
     "metadata": {},
     "output_type": "display_data"
    },
    {
     "data": {
      "application/vnd.jupyter.widget-view+json": {
       "model_id": "fcef181b19504a459ac91db2cf992c56",
       "version_major": 2,
       "version_minor": 0
      },
      "text/plain": [
       "Epoch 44 ▶ Valid:   0%|          | 0/751 [00:00<?, ?it/s]"
      ]
     },
     "metadata": {},
     "output_type": "display_data"
    },
    {
     "name": "stdout",
     "output_type": "stream",
     "text": [
      "Epoch 44  TRAIN RMSE=0.1826  VALID RMSE=0.1689\n"
     ]
    },
    {
     "data": {
      "application/vnd.jupyter.widget-view+json": {
       "model_id": "ba3aa5df0d6a4d829bfbbd97204f26ef",
       "version_major": 2,
       "version_minor": 0
      },
      "text/plain": [
       "Epoch 45 ▶ Train:   0%|          | 0/60 [00:00<?, ?it/s]"
      ]
     },
     "metadata": {},
     "output_type": "display_data"
    },
    {
     "data": {
      "application/vnd.jupyter.widget-view+json": {
       "model_id": "762d3a630fd941da9849094c0e4f12a0",
       "version_major": 2,
       "version_minor": 0
      },
      "text/plain": [
       "Epoch 45 ▶ Valid:   0%|          | 0/751 [00:00<?, ?it/s]"
      ]
     },
     "metadata": {},
     "output_type": "display_data"
    },
    {
     "name": "stdout",
     "output_type": "stream",
     "text": [
      "Epoch 45  TRAIN RMSE=0.1821  VALID RMSE=0.1692\n"
     ]
    },
    {
     "data": {
      "application/vnd.jupyter.widget-view+json": {
       "model_id": "8f4a51d1c21341da8d4d478252c6b4bb",
       "version_major": 2,
       "version_minor": 0
      },
      "text/plain": [
       "Epoch 46 ▶ Train:   0%|          | 0/60 [00:00<?, ?it/s]"
      ]
     },
     "metadata": {},
     "output_type": "display_data"
    },
    {
     "data": {
      "application/vnd.jupyter.widget-view+json": {
       "model_id": "ee4921b0bbe548f5bbd2a5eb117b35f2",
       "version_major": 2,
       "version_minor": 0
      },
      "text/plain": [
       "Epoch 46 ▶ Valid:   0%|          | 0/751 [00:00<?, ?it/s]"
      ]
     },
     "metadata": {},
     "output_type": "display_data"
    },
    {
     "name": "stdout",
     "output_type": "stream",
     "text": [
      "Epoch 46  TRAIN RMSE=0.1802  VALID RMSE=0.1689\n"
     ]
    },
    {
     "data": {
      "application/vnd.jupyter.widget-view+json": {
       "model_id": "b065ff84ffdc428e9d7327aecc0806f9",
       "version_major": 2,
       "version_minor": 0
      },
      "text/plain": [
       "Epoch 47 ▶ Train:   0%|          | 0/60 [00:00<?, ?it/s]"
      ]
     },
     "metadata": {},
     "output_type": "display_data"
    },
    {
     "data": {
      "application/vnd.jupyter.widget-view+json": {
       "model_id": "2ec22ec8019c48d8bdd95be4dd5e61fa",
       "version_major": 2,
       "version_minor": 0
      },
      "text/plain": [
       "Epoch 47 ▶ Valid:   0%|          | 0/751 [00:00<?, ?it/s]"
      ]
     },
     "metadata": {},
     "output_type": "display_data"
    },
    {
     "name": "stdout",
     "output_type": "stream",
     "text": [
      "Epoch 47  TRAIN RMSE=0.1803  VALID RMSE=0.1686\n"
     ]
    },
    {
     "data": {
      "application/vnd.jupyter.widget-view+json": {
       "model_id": "2a8e6ef84ffb420f931c51ea2958995f",
       "version_major": 2,
       "version_minor": 0
      },
      "text/plain": [
       "Epoch 48 ▶ Train:   0%|          | 0/60 [00:00<?, ?it/s]"
      ]
     },
     "metadata": {},
     "output_type": "display_data"
    },
    {
     "data": {
      "application/vnd.jupyter.widget-view+json": {
       "model_id": "40d5c51f002747c68f0f2c7171bb4882",
       "version_major": 2,
       "version_minor": 0
      },
      "text/plain": [
       "Epoch 48 ▶ Valid:   0%|          | 0/751 [00:00<?, ?it/s]"
      ]
     },
     "metadata": {},
     "output_type": "display_data"
    },
    {
     "name": "stdout",
     "output_type": "stream",
     "text": [
      "Epoch 48  TRAIN RMSE=0.1825  VALID RMSE=0.1672\n"
     ]
    },
    {
     "data": {
      "application/vnd.jupyter.widget-view+json": {
       "model_id": "d7286215c6c14c8791ea066607b32843",
       "version_major": 2,
       "version_minor": 0
      },
      "text/plain": [
       "Epoch 49 ▶ Train:   0%|          | 0/60 [00:00<?, ?it/s]"
      ]
     },
     "metadata": {},
     "output_type": "display_data"
    },
    {
     "data": {
      "application/vnd.jupyter.widget-view+json": {
       "model_id": "59618d02d8474c9284ef3a57b62a9cc1",
       "version_major": 2,
       "version_minor": 0
      },
      "text/plain": [
       "Epoch 49 ▶ Valid:   0%|          | 0/751 [00:00<?, ?it/s]"
      ]
     },
     "metadata": {},
     "output_type": "display_data"
    },
    {
     "name": "stdout",
     "output_type": "stream",
     "text": [
      "Epoch 49  TRAIN RMSE=0.1790  VALID RMSE=0.1674\n"
     ]
    },
    {
     "data": {
      "application/vnd.jupyter.widget-view+json": {
       "model_id": "5cc82f99415e450c9a699950a45cafcb",
       "version_major": 2,
       "version_minor": 0
      },
      "text/plain": [
       "Epoch 50 ▶ Train:   0%|          | 0/60 [00:00<?, ?it/s]"
      ]
     },
     "metadata": {},
     "output_type": "display_data"
    },
    {
     "data": {
      "application/vnd.jupyter.widget-view+json": {
       "model_id": "55c184f08706432ead187ab1db702a72",
       "version_major": 2,
       "version_minor": 0
      },
      "text/plain": [
       "Epoch 50 ▶ Valid:   0%|          | 0/751 [00:00<?, ?it/s]"
      ]
     },
     "metadata": {},
     "output_type": "display_data"
    },
    {
     "name": "stdout",
     "output_type": "stream",
     "text": [
      "Epoch 50  TRAIN RMSE=0.1794  VALID RMSE=0.1679\n"
     ]
    },
    {
     "data": {
      "application/vnd.jupyter.widget-view+json": {
       "model_id": "fbab2a36c92340249f388d02635df0f5",
       "version_major": 2,
       "version_minor": 0
      },
      "text/plain": [
       "Epoch 51 ▶ Train:   0%|          | 0/60 [00:00<?, ?it/s]"
      ]
     },
     "metadata": {},
     "output_type": "display_data"
    },
    {
     "data": {
      "application/vnd.jupyter.widget-view+json": {
       "model_id": "97179d4a47b44116b4b03572e2c005b4",
       "version_major": 2,
       "version_minor": 0
      },
      "text/plain": [
       "Epoch 51 ▶ Valid:   0%|          | 0/751 [00:00<?, ?it/s]"
      ]
     },
     "metadata": {},
     "output_type": "display_data"
    },
    {
     "name": "stdout",
     "output_type": "stream",
     "text": [
      "Epoch 51  TRAIN RMSE=0.1806  VALID RMSE=0.1669\n"
     ]
    },
    {
     "data": {
      "application/vnd.jupyter.widget-view+json": {
       "model_id": "c76d15804fb34c48a85c59cb60976dec",
       "version_major": 2,
       "version_minor": 0
      },
      "text/plain": [
       "Epoch 52 ▶ Train:   0%|          | 0/60 [00:00<?, ?it/s]"
      ]
     },
     "metadata": {},
     "output_type": "display_data"
    },
    {
     "data": {
      "application/vnd.jupyter.widget-view+json": {
       "model_id": "e16ceb2c465049b38481d177d508c725",
       "version_major": 2,
       "version_minor": 0
      },
      "text/plain": [
       "Epoch 52 ▶ Valid:   0%|          | 0/751 [00:00<?, ?it/s]"
      ]
     },
     "metadata": {},
     "output_type": "display_data"
    },
    {
     "name": "stdout",
     "output_type": "stream",
     "text": [
      "Epoch 52  TRAIN RMSE=0.1789  VALID RMSE=0.1670\n"
     ]
    },
    {
     "data": {
      "application/vnd.jupyter.widget-view+json": {
       "model_id": "50cf824aa92a44afa38402610729d2fd",
       "version_major": 2,
       "version_minor": 0
      },
      "text/plain": [
       "Epoch 53 ▶ Train:   0%|          | 0/60 [00:00<?, ?it/s]"
      ]
     },
     "metadata": {},
     "output_type": "display_data"
    },
    {
     "data": {
      "application/vnd.jupyter.widget-view+json": {
       "model_id": "cb6bd0d75a754872b55795826f27ae51",
       "version_major": 2,
       "version_minor": 0
      },
      "text/plain": [
       "Epoch 53 ▶ Valid:   0%|          | 0/751 [00:00<?, ?it/s]"
      ]
     },
     "metadata": {},
     "output_type": "display_data"
    },
    {
     "name": "stdout",
     "output_type": "stream",
     "text": [
      "Epoch 53  TRAIN RMSE=0.1796  VALID RMSE=0.1667\n"
     ]
    },
    {
     "data": {
      "application/vnd.jupyter.widget-view+json": {
       "model_id": "30c28a3702334dcf8ea65ee5482b7d86",
       "version_major": 2,
       "version_minor": 0
      },
      "text/plain": [
       "Epoch 54 ▶ Train:   0%|          | 0/60 [00:00<?, ?it/s]"
      ]
     },
     "metadata": {},
     "output_type": "display_data"
    },
    {
     "data": {
      "application/vnd.jupyter.widget-view+json": {
       "model_id": "11e4c6ca73514874a77bf6cbf53e6000",
       "version_major": 2,
       "version_minor": 0
      },
      "text/plain": [
       "Epoch 54 ▶ Valid:   0%|          | 0/751 [00:00<?, ?it/s]"
      ]
     },
     "metadata": {},
     "output_type": "display_data"
    },
    {
     "name": "stdout",
     "output_type": "stream",
     "text": [
      "Epoch 54  TRAIN RMSE=0.1772  VALID RMSE=0.1665\n"
     ]
    },
    {
     "data": {
      "application/vnd.jupyter.widget-view+json": {
       "model_id": "a5a50498a07c45598693846d42729bfb",
       "version_major": 2,
       "version_minor": 0
      },
      "text/plain": [
       "Epoch 55 ▶ Train:   0%|          | 0/60 [00:00<?, ?it/s]"
      ]
     },
     "metadata": {},
     "output_type": "display_data"
    },
    {
     "data": {
      "application/vnd.jupyter.widget-view+json": {
       "model_id": "e0bd29539c214fc8a65a3d479460ddbd",
       "version_major": 2,
       "version_minor": 0
      },
      "text/plain": [
       "Epoch 55 ▶ Valid:   0%|          | 0/751 [00:00<?, ?it/s]"
      ]
     },
     "metadata": {},
     "output_type": "display_data"
    },
    {
     "name": "stdout",
     "output_type": "stream",
     "text": [
      "Epoch 55  TRAIN RMSE=0.1783  VALID RMSE=0.1656\n"
     ]
    },
    {
     "data": {
      "application/vnd.jupyter.widget-view+json": {
       "model_id": "d81075c9d7994ad196b38bc17f24fdcc",
       "version_major": 2,
       "version_minor": 0
      },
      "text/plain": [
       "Epoch 56 ▶ Train:   0%|          | 0/60 [00:00<?, ?it/s]"
      ]
     },
     "metadata": {},
     "output_type": "display_data"
    },
    {
     "data": {
      "application/vnd.jupyter.widget-view+json": {
       "model_id": "40d0e32fee014ecc85071b963eb56a98",
       "version_major": 2,
       "version_minor": 0
      },
      "text/plain": [
       "Epoch 56 ▶ Valid:   0%|          | 0/751 [00:00<?, ?it/s]"
      ]
     },
     "metadata": {},
     "output_type": "display_data"
    },
    {
     "name": "stdout",
     "output_type": "stream",
     "text": [
      "Epoch 56  TRAIN RMSE=0.1756  VALID RMSE=0.1656\n"
     ]
    },
    {
     "data": {
      "application/vnd.jupyter.widget-view+json": {
       "model_id": "e8214ed5135549f381ec756384f2ecc3",
       "version_major": 2,
       "version_minor": 0
      },
      "text/plain": [
       "Epoch 57 ▶ Train:   0%|          | 0/60 [00:00<?, ?it/s]"
      ]
     },
     "metadata": {},
     "output_type": "display_data"
    },
    {
     "data": {
      "application/vnd.jupyter.widget-view+json": {
       "model_id": "9232518c195142329c23609f87b5d8dd",
       "version_major": 2,
       "version_minor": 0
      },
      "text/plain": [
       "Epoch 57 ▶ Valid:   0%|          | 0/751 [00:00<?, ?it/s]"
      ]
     },
     "metadata": {},
     "output_type": "display_data"
    },
    {
     "name": "stdout",
     "output_type": "stream",
     "text": [
      "Epoch 57  TRAIN RMSE=0.1750  VALID RMSE=0.1659\n"
     ]
    },
    {
     "data": {
      "application/vnd.jupyter.widget-view+json": {
       "model_id": "9d00acc37789451ea76645280dc3b4ba",
       "version_major": 2,
       "version_minor": 0
      },
      "text/plain": [
       "Epoch 58 ▶ Train:   0%|          | 0/60 [00:00<?, ?it/s]"
      ]
     },
     "metadata": {},
     "output_type": "display_data"
    },
    {
     "data": {
      "application/vnd.jupyter.widget-view+json": {
       "model_id": "670fe40e8433452fa7a0e17883a2446a",
       "version_major": 2,
       "version_minor": 0
      },
      "text/plain": [
       "Epoch 58 ▶ Valid:   0%|          | 0/751 [00:00<?, ?it/s]"
      ]
     },
     "metadata": {},
     "output_type": "display_data"
    },
    {
     "name": "stdout",
     "output_type": "stream",
     "text": [
      "Epoch 58  TRAIN RMSE=0.1775  VALID RMSE=0.1657\n"
     ]
    },
    {
     "data": {
      "application/vnd.jupyter.widget-view+json": {
       "model_id": "192f766ef9a14d0bb8f7fcde4159a6df",
       "version_major": 2,
       "version_minor": 0
      },
      "text/plain": [
       "Epoch 59 ▶ Train:   0%|          | 0/60 [00:00<?, ?it/s]"
      ]
     },
     "metadata": {},
     "output_type": "display_data"
    },
    {
     "data": {
      "application/vnd.jupyter.widget-view+json": {
       "model_id": "a62682e3faf24b6a8ce4a62a886eb737",
       "version_major": 2,
       "version_minor": 0
      },
      "text/plain": [
       "Epoch 59 ▶ Valid:   0%|          | 0/751 [00:00<?, ?it/s]"
      ]
     },
     "metadata": {},
     "output_type": "display_data"
    },
    {
     "name": "stdout",
     "output_type": "stream",
     "text": [
      "Epoch 59  TRAIN RMSE=0.1782  VALID RMSE=0.1658\n"
     ]
    },
    {
     "data": {
      "application/vnd.jupyter.widget-view+json": {
       "model_id": "68c87afaf9df44c3a2581c33b8534431",
       "version_major": 2,
       "version_minor": 0
      },
      "text/plain": [
       "Epoch 60 ▶ Train:   0%|          | 0/60 [00:00<?, ?it/s]"
      ]
     },
     "metadata": {},
     "output_type": "display_data"
    },
    {
     "data": {
      "application/vnd.jupyter.widget-view+json": {
       "model_id": "f2ebe218621248d189b640d60a4ce56a",
       "version_major": 2,
       "version_minor": 0
      },
      "text/plain": [
       "Epoch 60 ▶ Valid:   0%|          | 0/751 [00:00<?, ?it/s]"
      ]
     },
     "metadata": {},
     "output_type": "display_data"
    },
    {
     "name": "stdout",
     "output_type": "stream",
     "text": [
      "Epoch 60  TRAIN RMSE=0.1806  VALID RMSE=0.1651\n"
     ]
    },
    {
     "data": {
      "application/vnd.jupyter.widget-view+json": {
       "model_id": "16c3cc220a7140c9b51061d308bba045",
       "version_major": 2,
       "version_minor": 0
      },
      "text/plain": [
       "Epoch 61 ▶ Train:   0%|          | 0/60 [00:00<?, ?it/s]"
      ]
     },
     "metadata": {},
     "output_type": "display_data"
    },
    {
     "data": {
      "application/vnd.jupyter.widget-view+json": {
       "model_id": "a1dfa9386ba346a0a44d2ef0bd86012c",
       "version_major": 2,
       "version_minor": 0
      },
      "text/plain": [
       "Epoch 61 ▶ Valid:   0%|          | 0/751 [00:00<?, ?it/s]"
      ]
     },
     "metadata": {},
     "output_type": "display_data"
    },
    {
     "name": "stdout",
     "output_type": "stream",
     "text": [
      "Epoch 61  TRAIN RMSE=0.1780  VALID RMSE=0.1651\n"
     ]
    },
    {
     "data": {
      "application/vnd.jupyter.widget-view+json": {
       "model_id": "7968bade35ca49bc8d589b9cfae55b41",
       "version_major": 2,
       "version_minor": 0
      },
      "text/plain": [
       "Epoch 62 ▶ Train:   0%|          | 0/60 [00:00<?, ?it/s]"
      ]
     },
     "metadata": {},
     "output_type": "display_data"
    },
    {
     "data": {
      "application/vnd.jupyter.widget-view+json": {
       "model_id": "57de9304df2c448ab9ed7a29e3458dbc",
       "version_major": 2,
       "version_minor": 0
      },
      "text/plain": [
       "Epoch 62 ▶ Valid:   0%|          | 0/751 [00:00<?, ?it/s]"
      ]
     },
     "metadata": {},
     "output_type": "display_data"
    },
    {
     "name": "stdout",
     "output_type": "stream",
     "text": [
      "Epoch 62  TRAIN RMSE=0.1782  VALID RMSE=0.1647\n"
     ]
    },
    {
     "data": {
      "application/vnd.jupyter.widget-view+json": {
       "model_id": "8ed4c522bda34a0f8be67baf88ca8fe8",
       "version_major": 2,
       "version_minor": 0
      },
      "text/plain": [
       "Epoch 63 ▶ Train:   0%|          | 0/60 [00:00<?, ?it/s]"
      ]
     },
     "metadata": {},
     "output_type": "display_data"
    },
    {
     "data": {
      "application/vnd.jupyter.widget-view+json": {
       "model_id": "307fd08a2c47476991528d0ab377c0e3",
       "version_major": 2,
       "version_minor": 0
      },
      "text/plain": [
       "Epoch 63 ▶ Valid:   0%|          | 0/751 [00:00<?, ?it/s]"
      ]
     },
     "metadata": {},
     "output_type": "display_data"
    },
    {
     "name": "stdout",
     "output_type": "stream",
     "text": [
      "Epoch 63  TRAIN RMSE=0.1786  VALID RMSE=0.1645\n"
     ]
    },
    {
     "data": {
      "application/vnd.jupyter.widget-view+json": {
       "model_id": "339906c7dc7841abb082d2913003ad19",
       "version_major": 2,
       "version_minor": 0
      },
      "text/plain": [
       "Epoch 64 ▶ Train:   0%|          | 0/60 [00:00<?, ?it/s]"
      ]
     },
     "metadata": {},
     "output_type": "display_data"
    },
    {
     "data": {
      "application/vnd.jupyter.widget-view+json": {
       "model_id": "a76caa78821248089a0078200c35e160",
       "version_major": 2,
       "version_minor": 0
      },
      "text/plain": [
       "Epoch 64 ▶ Valid:   0%|          | 0/751 [00:00<?, ?it/s]"
      ]
     },
     "metadata": {},
     "output_type": "display_data"
    },
    {
     "name": "stdout",
     "output_type": "stream",
     "text": [
      "Epoch 64  TRAIN RMSE=0.1748  VALID RMSE=0.1647\n"
     ]
    },
    {
     "data": {
      "application/vnd.jupyter.widget-view+json": {
       "model_id": "10f33b19e62e452ba71d91f94b3a1622",
       "version_major": 2,
       "version_minor": 0
      },
      "text/plain": [
       "Epoch 65 ▶ Train:   0%|          | 0/60 [00:00<?, ?it/s]"
      ]
     },
     "metadata": {},
     "output_type": "display_data"
    },
    {
     "data": {
      "application/vnd.jupyter.widget-view+json": {
       "model_id": "a9e97dbdfee54084ad861f00168f5bca",
       "version_major": 2,
       "version_minor": 0
      },
      "text/plain": [
       "Epoch 65 ▶ Valid:   0%|          | 0/751 [00:00<?, ?it/s]"
      ]
     },
     "metadata": {},
     "output_type": "display_data"
    },
    {
     "name": "stdout",
     "output_type": "stream",
     "text": [
      "Epoch 65  TRAIN RMSE=0.1776  VALID RMSE=0.1642\n"
     ]
    },
    {
     "data": {
      "application/vnd.jupyter.widget-view+json": {
       "model_id": "50ebf335820a40538edcb3597d13a480",
       "version_major": 2,
       "version_minor": 0
      },
      "text/plain": [
       "Epoch 66 ▶ Train:   0%|          | 0/60 [00:00<?, ?it/s]"
      ]
     },
     "metadata": {},
     "output_type": "display_data"
    },
    {
     "data": {
      "application/vnd.jupyter.widget-view+json": {
       "model_id": "0944f9548ca241afad1afe5e16dd312b",
       "version_major": 2,
       "version_minor": 0
      },
      "text/plain": [
       "Epoch 66 ▶ Valid:   0%|          | 0/751 [00:00<?, ?it/s]"
      ]
     },
     "metadata": {},
     "output_type": "display_data"
    },
    {
     "name": "stdout",
     "output_type": "stream",
     "text": [
      "Epoch 66  TRAIN RMSE=0.1755  VALID RMSE=0.1644\n"
     ]
    },
    {
     "data": {
      "application/vnd.jupyter.widget-view+json": {
       "model_id": "9171a8fbd6094266b5882bcf34c88af0",
       "version_major": 2,
       "version_minor": 0
      },
      "text/plain": [
       "Epoch 67 ▶ Train:   0%|          | 0/60 [00:00<?, ?it/s]"
      ]
     },
     "metadata": {},
     "output_type": "display_data"
    },
    {
     "data": {
      "application/vnd.jupyter.widget-view+json": {
       "model_id": "da4cab38a8ab44849fed2236150f4c13",
       "version_major": 2,
       "version_minor": 0
      },
      "text/plain": [
       "Epoch 67 ▶ Valid:   0%|          | 0/751 [00:00<?, ?it/s]"
      ]
     },
     "metadata": {},
     "output_type": "display_data"
    },
    {
     "name": "stdout",
     "output_type": "stream",
     "text": [
      "Epoch 67  TRAIN RMSE=0.1738  VALID RMSE=0.1640\n"
     ]
    },
    {
     "data": {
      "application/vnd.jupyter.widget-view+json": {
       "model_id": "e290bf318a2644238973a213a078d767",
       "version_major": 2,
       "version_minor": 0
      },
      "text/plain": [
       "Epoch 68 ▶ Train:   0%|          | 0/60 [00:00<?, ?it/s]"
      ]
     },
     "metadata": {},
     "output_type": "display_data"
    },
    {
     "data": {
      "application/vnd.jupyter.widget-view+json": {
       "model_id": "1e01b07e937d43a58d20fd0ea8572074",
       "version_major": 2,
       "version_minor": 0
      },
      "text/plain": [
       "Epoch 68 ▶ Valid:   0%|          | 0/751 [00:00<?, ?it/s]"
      ]
     },
     "metadata": {},
     "output_type": "display_data"
    },
    {
     "name": "stdout",
     "output_type": "stream",
     "text": [
      "Epoch 68  TRAIN RMSE=0.1770  VALID RMSE=0.1639\n"
     ]
    },
    {
     "data": {
      "application/vnd.jupyter.widget-view+json": {
       "model_id": "d21e0ea8716b41738e96d85b9bfb47cb",
       "version_major": 2,
       "version_minor": 0
      },
      "text/plain": [
       "Epoch 69 ▶ Train:   0%|          | 0/60 [00:00<?, ?it/s]"
      ]
     },
     "metadata": {},
     "output_type": "display_data"
    },
    {
     "data": {
      "application/vnd.jupyter.widget-view+json": {
       "model_id": "e23cab1fc0dd43a6bd0ca85f966b7e0f",
       "version_major": 2,
       "version_minor": 0
      },
      "text/plain": [
       "Epoch 69 ▶ Valid:   0%|          | 0/751 [00:00<?, ?it/s]"
      ]
     },
     "metadata": {},
     "output_type": "display_data"
    },
    {
     "name": "stdout",
     "output_type": "stream",
     "text": [
      "Epoch 69  TRAIN RMSE=0.1747  VALID RMSE=0.1640\n"
     ]
    },
    {
     "data": {
      "application/vnd.jupyter.widget-view+json": {
       "model_id": "bf08279fb2f2480c83a81c9fc2577e02",
       "version_major": 2,
       "version_minor": 0
      },
      "text/plain": [
       "Epoch 70 ▶ Train:   0%|          | 0/60 [00:00<?, ?it/s]"
      ]
     },
     "metadata": {},
     "output_type": "display_data"
    },
    {
     "data": {
      "application/vnd.jupyter.widget-view+json": {
       "model_id": "61a8cc70f10d4fbc81a0c255a6aa09f3",
       "version_major": 2,
       "version_minor": 0
      },
      "text/plain": [
       "Epoch 70 ▶ Valid:   0%|          | 0/751 [00:00<?, ?it/s]"
      ]
     },
     "metadata": {},
     "output_type": "display_data"
    },
    {
     "name": "stdout",
     "output_type": "stream",
     "text": [
      "Epoch 70  TRAIN RMSE=0.1753  VALID RMSE=0.1638\n"
     ]
    },
    {
     "data": {
      "application/vnd.jupyter.widget-view+json": {
       "model_id": "910d3c3cb4af467ba46528d385782f67",
       "version_major": 2,
       "version_minor": 0
      },
      "text/plain": [
       "Epoch 71 ▶ Train:   0%|          | 0/60 [00:00<?, ?it/s]"
      ]
     },
     "metadata": {},
     "output_type": "display_data"
    },
    {
     "data": {
      "application/vnd.jupyter.widget-view+json": {
       "model_id": "e9f080df54ca4d2496cd40c5dd8c9013",
       "version_major": 2,
       "version_minor": 0
      },
      "text/plain": [
       "Epoch 71 ▶ Valid:   0%|          | 0/751 [00:00<?, ?it/s]"
      ]
     },
     "metadata": {},
     "output_type": "display_data"
    },
    {
     "name": "stdout",
     "output_type": "stream",
     "text": [
      "Epoch 71  TRAIN RMSE=0.1767  VALID RMSE=0.1637\n"
     ]
    },
    {
     "data": {
      "application/vnd.jupyter.widget-view+json": {
       "model_id": "b31500c88ca64ab2a8512e75106752f8",
       "version_major": 2,
       "version_minor": 0
      },
      "text/plain": [
       "Epoch 72 ▶ Train:   0%|          | 0/60 [00:00<?, ?it/s]"
      ]
     },
     "metadata": {},
     "output_type": "display_data"
    },
    {
     "data": {
      "application/vnd.jupyter.widget-view+json": {
       "model_id": "8536b6f0acd24a9b9a9f7b4d7cf828d4",
       "version_major": 2,
       "version_minor": 0
      },
      "text/plain": [
       "Epoch 72 ▶ Valid:   0%|          | 0/751 [00:00<?, ?it/s]"
      ]
     },
     "metadata": {},
     "output_type": "display_data"
    },
    {
     "name": "stdout",
     "output_type": "stream",
     "text": [
      "Epoch 72  TRAIN RMSE=0.1762  VALID RMSE=0.1637\n"
     ]
    },
    {
     "data": {
      "application/vnd.jupyter.widget-view+json": {
       "model_id": "42584abfc1074a51836b46ee4d04ab74",
       "version_major": 2,
       "version_minor": 0
      },
      "text/plain": [
       "Epoch 73 ▶ Train:   0%|          | 0/60 [00:00<?, ?it/s]"
      ]
     },
     "metadata": {},
     "output_type": "display_data"
    },
    {
     "data": {
      "application/vnd.jupyter.widget-view+json": {
       "model_id": "add777bd6c414f65916760cdb6ffa834",
       "version_major": 2,
       "version_minor": 0
      },
      "text/plain": [
       "Epoch 73 ▶ Valid:   0%|          | 0/751 [00:00<?, ?it/s]"
      ]
     },
     "metadata": {},
     "output_type": "display_data"
    },
    {
     "name": "stdout",
     "output_type": "stream",
     "text": [
      "Epoch 73  TRAIN RMSE=0.1775  VALID RMSE=0.1637\n"
     ]
    },
    {
     "data": {
      "application/vnd.jupyter.widget-view+json": {
       "model_id": "43ee2702433b4f04972e0635ce3f8192",
       "version_major": 2,
       "version_minor": 0
      },
      "text/plain": [
       "Epoch 74 ▶ Train:   0%|          | 0/60 [00:00<?, ?it/s]"
      ]
     },
     "metadata": {},
     "output_type": "display_data"
    },
    {
     "data": {
      "application/vnd.jupyter.widget-view+json": {
       "model_id": "ee27c484b32a410589df636aec89ba9d",
       "version_major": 2,
       "version_minor": 0
      },
      "text/plain": [
       "Epoch 74 ▶ Valid:   0%|          | 0/751 [00:00<?, ?it/s]"
      ]
     },
     "metadata": {},
     "output_type": "display_data"
    },
    {
     "name": "stdout",
     "output_type": "stream",
     "text": [
      "Epoch 74  TRAIN RMSE=0.1750  VALID RMSE=0.1637\n"
     ]
    },
    {
     "data": {
      "application/vnd.jupyter.widget-view+json": {
       "model_id": "0afe0e6fe3af4e00a6b24b61d00615b5",
       "version_major": 2,
       "version_minor": 0
      },
      "text/plain": [
       "Epoch 75 ▶ Train:   0%|          | 0/60 [00:00<?, ?it/s]"
      ]
     },
     "metadata": {},
     "output_type": "display_data"
    },
    {
     "data": {
      "application/vnd.jupyter.widget-view+json": {
       "model_id": "4cb0217a3d8a4ae1a82f2e2314f7cf7b",
       "version_major": 2,
       "version_minor": 0
      },
      "text/plain": [
       "Epoch 75 ▶ Valid:   0%|          | 0/751 [00:00<?, ?it/s]"
      ]
     },
     "metadata": {},
     "output_type": "display_data"
    },
    {
     "name": "stdout",
     "output_type": "stream",
     "text": [
      "Epoch 75  TRAIN RMSE=0.1742  VALID RMSE=0.1634\n"
     ]
    },
    {
     "data": {
      "application/vnd.jupyter.widget-view+json": {
       "model_id": "5b57204644bf49638cc03de3c2fb01d4",
       "version_major": 2,
       "version_minor": 0
      },
      "text/plain": [
       "Epoch 76 ▶ Train:   0%|          | 0/60 [00:00<?, ?it/s]"
      ]
     },
     "metadata": {},
     "output_type": "display_data"
    },
    {
     "data": {
      "application/vnd.jupyter.widget-view+json": {
       "model_id": "ef9ff134223645cd9eedb372c30af323",
       "version_major": 2,
       "version_minor": 0
      },
      "text/plain": [
       "Epoch 76 ▶ Valid:   0%|          | 0/751 [00:00<?, ?it/s]"
      ]
     },
     "metadata": {},
     "output_type": "display_data"
    },
    {
     "name": "stdout",
     "output_type": "stream",
     "text": [
      "Epoch 76  TRAIN RMSE=0.1756  VALID RMSE=0.1634\n"
     ]
    },
    {
     "data": {
      "application/vnd.jupyter.widget-view+json": {
       "model_id": "9213cafe1c0f41d6bf4af16434f17223",
       "version_major": 2,
       "version_minor": 0
      },
      "text/plain": [
       "Epoch 77 ▶ Train:   0%|          | 0/60 [00:00<?, ?it/s]"
      ]
     },
     "metadata": {},
     "output_type": "display_data"
    },
    {
     "data": {
      "application/vnd.jupyter.widget-view+json": {
       "model_id": "56c9ded412bf486c90e8335b6efd89bd",
       "version_major": 2,
       "version_minor": 0
      },
      "text/plain": [
       "Epoch 77 ▶ Valid:   0%|          | 0/751 [00:00<?, ?it/s]"
      ]
     },
     "metadata": {},
     "output_type": "display_data"
    },
    {
     "name": "stdout",
     "output_type": "stream",
     "text": [
      "Epoch 77  TRAIN RMSE=0.1754  VALID RMSE=0.1633\n"
     ]
    },
    {
     "data": {
      "application/vnd.jupyter.widget-view+json": {
       "model_id": "e62bf52539394a9ba472770e32e7e309",
       "version_major": 2,
       "version_minor": 0
      },
      "text/plain": [
       "Epoch 78 ▶ Train:   0%|          | 0/60 [00:00<?, ?it/s]"
      ]
     },
     "metadata": {},
     "output_type": "display_data"
    },
    {
     "data": {
      "application/vnd.jupyter.widget-view+json": {
       "model_id": "46cd1dea9db3411d8443579301872ac0",
       "version_major": 2,
       "version_minor": 0
      },
      "text/plain": [
       "Epoch 78 ▶ Valid:   0%|          | 0/751 [00:00<?, ?it/s]"
      ]
     },
     "metadata": {},
     "output_type": "display_data"
    },
    {
     "name": "stdout",
     "output_type": "stream",
     "text": [
      "Epoch 78  TRAIN RMSE=0.1751  VALID RMSE=0.1633\n"
     ]
    },
    {
     "data": {
      "application/vnd.jupyter.widget-view+json": {
       "model_id": "41e136b0091849c5b8eeed9dfc3abf62",
       "version_major": 2,
       "version_minor": 0
      },
      "text/plain": [
       "Epoch 79 ▶ Train:   0%|          | 0/60 [00:00<?, ?it/s]"
      ]
     },
     "metadata": {},
     "output_type": "display_data"
    },
    {
     "data": {
      "application/vnd.jupyter.widget-view+json": {
       "model_id": "c1030a36de17401aa53e3365901a6af3",
       "version_major": 2,
       "version_minor": 0
      },
      "text/plain": [
       "Epoch 79 ▶ Valid:   0%|          | 0/751 [00:00<?, ?it/s]"
      ]
     },
     "metadata": {},
     "output_type": "display_data"
    },
    {
     "name": "stdout",
     "output_type": "stream",
     "text": [
      "Epoch 79  TRAIN RMSE=0.1737  VALID RMSE=0.1632\n"
     ]
    },
    {
     "data": {
      "application/vnd.jupyter.widget-view+json": {
       "model_id": "3138c29c8184431ba72e93f194ae5e98",
       "version_major": 2,
       "version_minor": 0
      },
      "text/plain": [
       "Epoch 80 ▶ Train:   0%|          | 0/60 [00:00<?, ?it/s]"
      ]
     },
     "metadata": {},
     "output_type": "display_data"
    },
    {
     "data": {
      "application/vnd.jupyter.widget-view+json": {
       "model_id": "05160e67e19d410bbaace7008150ee9f",
       "version_major": 2,
       "version_minor": 0
      },
      "text/plain": [
       "Epoch 80 ▶ Valid:   0%|          | 0/751 [00:00<?, ?it/s]"
      ]
     },
     "metadata": {},
     "output_type": "display_data"
    },
    {
     "name": "stdout",
     "output_type": "stream",
     "text": [
      "Epoch 80  TRAIN RMSE=0.1763  VALID RMSE=0.1631\n"
     ]
    },
    {
     "data": {
      "application/vnd.jupyter.widget-view+json": {
       "model_id": "4f765e463e984414b1b1890bccd1c080",
       "version_major": 2,
       "version_minor": 0
      },
      "text/plain": [
       "Epoch 81 ▶ Train:   0%|          | 0/60 [00:00<?, ?it/s]"
      ]
     },
     "metadata": {},
     "output_type": "display_data"
    },
    {
     "data": {
      "application/vnd.jupyter.widget-view+json": {
       "model_id": "eb6b60c830784b1587ba00a4e4b65155",
       "version_major": 2,
       "version_minor": 0
      },
      "text/plain": [
       "Epoch 81 ▶ Valid:   0%|          | 0/751 [00:00<?, ?it/s]"
      ]
     },
     "metadata": {},
     "output_type": "display_data"
    },
    {
     "name": "stdout",
     "output_type": "stream",
     "text": [
      "Epoch 81  TRAIN RMSE=0.1747  VALID RMSE=0.1631\n"
     ]
    },
    {
     "data": {
      "application/vnd.jupyter.widget-view+json": {
       "model_id": "0cd734a506dc4c19a8df2086493b4bc9",
       "version_major": 2,
       "version_minor": 0
      },
      "text/plain": [
       "Epoch 82 ▶ Train:   0%|          | 0/60 [00:00<?, ?it/s]"
      ]
     },
     "metadata": {},
     "output_type": "display_data"
    },
    {
     "data": {
      "application/vnd.jupyter.widget-view+json": {
       "model_id": "12db74c040464297802107394cd71cf8",
       "version_major": 2,
       "version_minor": 0
      },
      "text/plain": [
       "Epoch 82 ▶ Valid:   0%|          | 0/751 [00:00<?, ?it/s]"
      ]
     },
     "metadata": {},
     "output_type": "display_data"
    },
    {
     "name": "stdout",
     "output_type": "stream",
     "text": [
      "Epoch 82  TRAIN RMSE=0.1731  VALID RMSE=0.1630\n"
     ]
    },
    {
     "data": {
      "application/vnd.jupyter.widget-view+json": {
       "model_id": "b2aee358559e434fbb105b812f0c201d",
       "version_major": 2,
       "version_minor": 0
      },
      "text/plain": [
       "Epoch 83 ▶ Train:   0%|          | 0/60 [00:00<?, ?it/s]"
      ]
     },
     "metadata": {},
     "output_type": "display_data"
    },
    {
     "data": {
      "application/vnd.jupyter.widget-view+json": {
       "model_id": "107ac10baf314a3e9267e991d989a67c",
       "version_major": 2,
       "version_minor": 0
      },
      "text/plain": [
       "Epoch 83 ▶ Valid:   0%|          | 0/751 [00:00<?, ?it/s]"
      ]
     },
     "metadata": {},
     "output_type": "display_data"
    },
    {
     "name": "stdout",
     "output_type": "stream",
     "text": [
      "Epoch 83  TRAIN RMSE=0.1728  VALID RMSE=0.1630\n"
     ]
    },
    {
     "data": {
      "application/vnd.jupyter.widget-view+json": {
       "model_id": "8543ccdfba9949cc99dd914b6e7b0d54",
       "version_major": 2,
       "version_minor": 0
      },
      "text/plain": [
       "Epoch 84 ▶ Train:   0%|          | 0/60 [00:00<?, ?it/s]"
      ]
     },
     "metadata": {},
     "output_type": "display_data"
    },
    {
     "data": {
      "application/vnd.jupyter.widget-view+json": {
       "model_id": "7e08067e34444237868a06e69657423e",
       "version_major": 2,
       "version_minor": 0
      },
      "text/plain": [
       "Epoch 84 ▶ Valid:   0%|          | 0/751 [00:00<?, ?it/s]"
      ]
     },
     "metadata": {},
     "output_type": "display_data"
    },
    {
     "name": "stdout",
     "output_type": "stream",
     "text": [
      "Epoch 84  TRAIN RMSE=0.1748  VALID RMSE=0.1630\n"
     ]
    },
    {
     "data": {
      "application/vnd.jupyter.widget-view+json": {
       "model_id": "0d3305cdd45a4718926ff9ee34aaf07d",
       "version_major": 2,
       "version_minor": 0
      },
      "text/plain": [
       "Epoch 85 ▶ Train:   0%|          | 0/60 [00:00<?, ?it/s]"
      ]
     },
     "metadata": {},
     "output_type": "display_data"
    },
    {
     "data": {
      "application/vnd.jupyter.widget-view+json": {
       "model_id": "a8a5dd8df7254a8c93f58e311b569120",
       "version_major": 2,
       "version_minor": 0
      },
      "text/plain": [
       "Epoch 85 ▶ Valid:   0%|          | 0/751 [00:00<?, ?it/s]"
      ]
     },
     "metadata": {},
     "output_type": "display_data"
    },
    {
     "name": "stdout",
     "output_type": "stream",
     "text": [
      "Epoch 85  TRAIN RMSE=0.1737  VALID RMSE=0.1630\n"
     ]
    },
    {
     "data": {
      "application/vnd.jupyter.widget-view+json": {
       "model_id": "65064ad6cc154df39f8609f7d5e1a96b",
       "version_major": 2,
       "version_minor": 0
      },
      "text/plain": [
       "Epoch 86 ▶ Train:   0%|          | 0/60 [00:00<?, ?it/s]"
      ]
     },
     "metadata": {},
     "output_type": "display_data"
    },
    {
     "data": {
      "application/vnd.jupyter.widget-view+json": {
       "model_id": "2b1350a5fe7f48e9970ef3aa96ac148e",
       "version_major": 2,
       "version_minor": 0
      },
      "text/plain": [
       "Epoch 86 ▶ Valid:   0%|          | 0/751 [00:00<?, ?it/s]"
      ]
     },
     "metadata": {},
     "output_type": "display_data"
    },
    {
     "name": "stdout",
     "output_type": "stream",
     "text": [
      "Epoch 86  TRAIN RMSE=0.1750  VALID RMSE=0.1629\n"
     ]
    },
    {
     "data": {
      "application/vnd.jupyter.widget-view+json": {
       "model_id": "ad0219cd02b94c67b137467d0958969d",
       "version_major": 2,
       "version_minor": 0
      },
      "text/plain": [
       "Epoch 87 ▶ Train:   0%|          | 0/60 [00:00<?, ?it/s]"
      ]
     },
     "metadata": {},
     "output_type": "display_data"
    },
    {
     "data": {
      "application/vnd.jupyter.widget-view+json": {
       "model_id": "7a510d8c448f46bca815a1295dbfb681",
       "version_major": 2,
       "version_minor": 0
      },
      "text/plain": [
       "Epoch 87 ▶ Valid:   0%|          | 0/751 [00:00<?, ?it/s]"
      ]
     },
     "metadata": {},
     "output_type": "display_data"
    },
    {
     "name": "stdout",
     "output_type": "stream",
     "text": [
      "Epoch 87  TRAIN RMSE=0.1761  VALID RMSE=0.1629\n"
     ]
    },
    {
     "data": {
      "application/vnd.jupyter.widget-view+json": {
       "model_id": "2946124fe66d439d8fac0b2c2183c345",
       "version_major": 2,
       "version_minor": 0
      },
      "text/plain": [
       "Epoch 88 ▶ Train:   0%|          | 0/60 [00:00<?, ?it/s]"
      ]
     },
     "metadata": {},
     "output_type": "display_data"
    },
    {
     "data": {
      "application/vnd.jupyter.widget-view+json": {
       "model_id": "107495e4dadd4c57983cac233e201544",
       "version_major": 2,
       "version_minor": 0
      },
      "text/plain": [
       "Epoch 88 ▶ Valid:   0%|          | 0/751 [00:00<?, ?it/s]"
      ]
     },
     "metadata": {},
     "output_type": "display_data"
    },
    {
     "name": "stdout",
     "output_type": "stream",
     "text": [
      "Epoch 88  TRAIN RMSE=0.1752  VALID RMSE=0.1630\n"
     ]
    },
    {
     "data": {
      "application/vnd.jupyter.widget-view+json": {
       "model_id": "e9a3a5d14e2e4a3ab56a1ee809b9acee",
       "version_major": 2,
       "version_minor": 0
      },
      "text/plain": [
       "Epoch 89 ▶ Train:   0%|          | 0/60 [00:00<?, ?it/s]"
      ]
     },
     "metadata": {},
     "output_type": "display_data"
    },
    {
     "data": {
      "application/vnd.jupyter.widget-view+json": {
       "model_id": "945325a2c1c442e5b812d03e5a89139e",
       "version_major": 2,
       "version_minor": 0
      },
      "text/plain": [
       "Epoch 89 ▶ Valid:   0%|          | 0/751 [00:00<?, ?it/s]"
      ]
     },
     "metadata": {},
     "output_type": "display_data"
    },
    {
     "name": "stdout",
     "output_type": "stream",
     "text": [
      "Epoch 89  TRAIN RMSE=0.1756  VALID RMSE=0.1630\n"
     ]
    },
    {
     "data": {
      "application/vnd.jupyter.widget-view+json": {
       "model_id": "40604e6761ea4ffd8508328759ddddbc",
       "version_major": 2,
       "version_minor": 0
      },
      "text/plain": [
       "Epoch 90 ▶ Train:   0%|          | 0/60 [00:00<?, ?it/s]"
      ]
     },
     "metadata": {},
     "output_type": "display_data"
    },
    {
     "data": {
      "application/vnd.jupyter.widget-view+json": {
       "model_id": "94bac8e6b6d7477eaa3a8c958fe6a02a",
       "version_major": 2,
       "version_minor": 0
      },
      "text/plain": [
       "Epoch 90 ▶ Valid:   0%|          | 0/751 [00:00<?, ?it/s]"
      ]
     },
     "metadata": {},
     "output_type": "display_data"
    },
    {
     "name": "stdout",
     "output_type": "stream",
     "text": [
      "Epoch 90  TRAIN RMSE=0.1746  VALID RMSE=0.1629\n"
     ]
    },
    {
     "data": {
      "application/vnd.jupyter.widget-view+json": {
       "model_id": "e942fd14af5947fb9ed8365ea53324b6",
       "version_major": 2,
       "version_minor": 0
      },
      "text/plain": [
       "Epoch 91 ▶ Train:   0%|          | 0/60 [00:00<?, ?it/s]"
      ]
     },
     "metadata": {},
     "output_type": "display_data"
    },
    {
     "data": {
      "application/vnd.jupyter.widget-view+json": {
       "model_id": "5a7c9e1b92b04541a04bebac6f7c1c9b",
       "version_major": 2,
       "version_minor": 0
      },
      "text/plain": [
       "Epoch 91 ▶ Valid:   0%|          | 0/751 [00:00<?, ?it/s]"
      ]
     },
     "metadata": {},
     "output_type": "display_data"
    },
    {
     "name": "stdout",
     "output_type": "stream",
     "text": [
      "Epoch 91  TRAIN RMSE=0.1733  VALID RMSE=0.1629\n"
     ]
    },
    {
     "data": {
      "application/vnd.jupyter.widget-view+json": {
       "model_id": "56d8904c607c4658ac8b0cf251ef2ab3",
       "version_major": 2,
       "version_minor": 0
      },
      "text/plain": [
       "Epoch 92 ▶ Train:   0%|          | 0/60 [00:00<?, ?it/s]"
      ]
     },
     "metadata": {},
     "output_type": "display_data"
    },
    {
     "data": {
      "application/vnd.jupyter.widget-view+json": {
       "model_id": "f2df127c753f45e18ec5002e9d8193fd",
       "version_major": 2,
       "version_minor": 0
      },
      "text/plain": [
       "Epoch 92 ▶ Valid:   0%|          | 0/751 [00:00<?, ?it/s]"
      ]
     },
     "metadata": {},
     "output_type": "display_data"
    },
    {
     "name": "stdout",
     "output_type": "stream",
     "text": [
      "Epoch 92  TRAIN RMSE=0.1752  VALID RMSE=0.1629\n"
     ]
    },
    {
     "data": {
      "application/vnd.jupyter.widget-view+json": {
       "model_id": "a6a0837caef44a01b75c3bddb3f18a62",
       "version_major": 2,
       "version_minor": 0
      },
      "text/plain": [
       "Epoch 93 ▶ Train:   0%|          | 0/60 [00:00<?, ?it/s]"
      ]
     },
     "metadata": {},
     "output_type": "display_data"
    },
    {
     "data": {
      "application/vnd.jupyter.widget-view+json": {
       "model_id": "cc2b333c96d543ce8bbea257f4e7e85f",
       "version_major": 2,
       "version_minor": 0
      },
      "text/plain": [
       "Epoch 93 ▶ Valid:   0%|          | 0/751 [00:00<?, ?it/s]"
      ]
     },
     "metadata": {},
     "output_type": "display_data"
    },
    {
     "name": "stdout",
     "output_type": "stream",
     "text": [
      "Epoch 93  TRAIN RMSE=0.1754  VALID RMSE=0.1628\n"
     ]
    },
    {
     "data": {
      "application/vnd.jupyter.widget-view+json": {
       "model_id": "5b11505ad46c4069ba680042e4562a31",
       "version_major": 2,
       "version_minor": 0
      },
      "text/plain": [
       "Epoch 94 ▶ Train:   0%|          | 0/60 [00:00<?, ?it/s]"
      ]
     },
     "metadata": {},
     "output_type": "display_data"
    },
    {
     "data": {
      "application/vnd.jupyter.widget-view+json": {
       "model_id": "1df591db5a9148f69e549ceeb9ec8b81",
       "version_major": 2,
       "version_minor": 0
      },
      "text/plain": [
       "Epoch 94 ▶ Valid:   0%|          | 0/751 [00:00<?, ?it/s]"
      ]
     },
     "metadata": {},
     "output_type": "display_data"
    },
    {
     "name": "stdout",
     "output_type": "stream",
     "text": [
      "Epoch 94  TRAIN RMSE=0.1725  VALID RMSE=0.1628\n"
     ]
    },
    {
     "data": {
      "application/vnd.jupyter.widget-view+json": {
       "model_id": "9919acefad87473bb58462f6f2035f39",
       "version_major": 2,
       "version_minor": 0
      },
      "text/plain": [
       "Epoch 95 ▶ Train:   0%|          | 0/60 [00:00<?, ?it/s]"
      ]
     },
     "metadata": {},
     "output_type": "display_data"
    },
    {
     "data": {
      "application/vnd.jupyter.widget-view+json": {
       "model_id": "650abee7dba64d2ebebfef111d00d70f",
       "version_major": 2,
       "version_minor": 0
      },
      "text/plain": [
       "Epoch 95 ▶ Valid:   0%|          | 0/751 [00:00<?, ?it/s]"
      ]
     },
     "metadata": {},
     "output_type": "display_data"
    },
    {
     "name": "stdout",
     "output_type": "stream",
     "text": [
      "Epoch 95  TRAIN RMSE=0.1741  VALID RMSE=0.1628\n"
     ]
    },
    {
     "data": {
      "application/vnd.jupyter.widget-view+json": {
       "model_id": "c8de580a7d2c41abbb5f562225527399",
       "version_major": 2,
       "version_minor": 0
      },
      "text/plain": [
       "Epoch 96 ▶ Train:   0%|          | 0/60 [00:00<?, ?it/s]"
      ]
     },
     "metadata": {},
     "output_type": "display_data"
    },
    {
     "data": {
      "application/vnd.jupyter.widget-view+json": {
       "model_id": "0a41afa580e64d17abfac59c792ad155",
       "version_major": 2,
       "version_minor": 0
      },
      "text/plain": [
       "Epoch 96 ▶ Valid:   0%|          | 0/751 [00:00<?, ?it/s]"
      ]
     },
     "metadata": {},
     "output_type": "display_data"
    },
    {
     "name": "stdout",
     "output_type": "stream",
     "text": [
      "Epoch 96  TRAIN RMSE=0.1752  VALID RMSE=0.1628\n"
     ]
    },
    {
     "data": {
      "application/vnd.jupyter.widget-view+json": {
       "model_id": "ee167949e5f04368917b60861689cf78",
       "version_major": 2,
       "version_minor": 0
      },
      "text/plain": [
       "Epoch 97 ▶ Train:   0%|          | 0/60 [00:00<?, ?it/s]"
      ]
     },
     "metadata": {},
     "output_type": "display_data"
    },
    {
     "data": {
      "application/vnd.jupyter.widget-view+json": {
       "model_id": "24ae149c6d794832a18c7a9567309f50",
       "version_major": 2,
       "version_minor": 0
      },
      "text/plain": [
       "Epoch 97 ▶ Valid:   0%|          | 0/751 [00:00<?, ?it/s]"
      ]
     },
     "metadata": {},
     "output_type": "display_data"
    },
    {
     "name": "stdout",
     "output_type": "stream",
     "text": [
      "Epoch 97  TRAIN RMSE=0.1748  VALID RMSE=0.1628\n"
     ]
    },
    {
     "data": {
      "application/vnd.jupyter.widget-view+json": {
       "model_id": "577585b081e84126a23e2d22752a3587",
       "version_major": 2,
       "version_minor": 0
      },
      "text/plain": [
       "Epoch 98 ▶ Train:   0%|          | 0/60 [00:00<?, ?it/s]"
      ]
     },
     "metadata": {},
     "output_type": "display_data"
    },
    {
     "data": {
      "application/vnd.jupyter.widget-view+json": {
       "model_id": "682693629a9a4c9680eab2d140a8c682",
       "version_major": 2,
       "version_minor": 0
      },
      "text/plain": [
       "Epoch 98 ▶ Valid:   0%|          | 0/751 [00:00<?, ?it/s]"
      ]
     },
     "metadata": {},
     "output_type": "display_data"
    },
    {
     "name": "stdout",
     "output_type": "stream",
     "text": [
      "Epoch 98  TRAIN RMSE=0.1758  VALID RMSE=0.1627\n"
     ]
    },
    {
     "data": {
      "application/vnd.jupyter.widget-view+json": {
       "model_id": "2f7340261291431f8201d5a0ed2cb217",
       "version_major": 2,
       "version_minor": 0
      },
      "text/plain": [
       "Epoch 99 ▶ Train:   0%|          | 0/60 [00:00<?, ?it/s]"
      ]
     },
     "metadata": {},
     "output_type": "display_data"
    },
    {
     "data": {
      "application/vnd.jupyter.widget-view+json": {
       "model_id": "682323ce75fb44bda7971f02e5a096cd",
       "version_major": 2,
       "version_minor": 0
      },
      "text/plain": [
       "Epoch 99 ▶ Valid:   0%|          | 0/751 [00:00<?, ?it/s]"
      ]
     },
     "metadata": {},
     "output_type": "display_data"
    },
    {
     "name": "stdout",
     "output_type": "stream",
     "text": [
      "Epoch 99  TRAIN RMSE=0.1734  VALID RMSE=0.1627\n"
     ]
    },
    {
     "data": {
      "application/vnd.jupyter.widget-view+json": {
       "model_id": "9696eb1f7f0d449e809dd3e28cab5f26",
       "version_major": 2,
       "version_minor": 0
      },
      "text/plain": [
       "Epoch 100 ▶ Train:   0%|          | 0/60 [00:00<?, ?it/s]"
      ]
     },
     "metadata": {},
     "output_type": "display_data"
    },
    {
     "data": {
      "application/vnd.jupyter.widget-view+json": {
       "model_id": "6132d7e2fcb2470aa9ba422de935c25f",
       "version_major": 2,
       "version_minor": 0
      },
      "text/plain": [
       "Epoch 100 ▶ Valid:   0%|          | 0/751 [00:00<?, ?it/s]"
      ]
     },
     "metadata": {},
     "output_type": "display_data"
    },
    {
     "name": "stdout",
     "output_type": "stream",
     "text": [
      "Epoch 100  TRAIN RMSE=0.1749  VALID RMSE=0.1627\n",
      "✅ Final‐best model saved: AAPL_0.16273_fin.pth\n"
     ]
    },
    {
     "data": {
      "image/png": "[encoded data removed]",
      "text/plain": [
       "<Figure size 660x440 with 1 Axes>"
      ]
     },
     "metadata": {},
     "output_type": "display_data"
    }
   ],
   "source": [
    "importlib.reload(params.model_selected) #############\n",
    "importlib.reload(models_core) #############\n",
    "\n",
    "# How many unique trading days does each epoch see?\n",
    "n_days = len(train_loader.dataset)\n",
    "print(f\"Training sees {n_days} unique trading days per epoch.\\n\")\n",
    "\n",
    "print('Using HyperParameters:\\n \"look_back\":', params.look_back_tick, params.hparams)\n",
    "\n",
    "# -----------------------------------------------------------------------------\n",
    "# Run the custom stateful training loop\n",
    "# -----------------------------------------------------------------------------\n",
    "best_val_rmse  = params.model_selected.model_training_loop(\n",
    "    model               = model,\n",
    "    optimizer           = optimizer,\n",
    "    cosine_sched        = cosine_sched,\n",
    "    plateau_sched       = plateau_sched,\n",
    "    scaler              = scaler,\n",
    "    train_loader        = train_loader,\n",
    "    val_loader          = val_loader,\n",
    "    max_epochs          = params.hparams['MAX_EPOCHS'],\n",
    "    early_stop_patience = params.hparams['EARLY_STOP_PATIENCE'],\n",
    "    clipnorm            = clipnorm,\n",
    "    device              = params.device,\n",
    "    # cls_loss_weight     = params.hparams['CLS_LOSS_WEIGHT'],\n",
    "    # smooth_alpha        = params.hparams['SMOOTH_ALPHA'],\n",
    "    # smooth_beta         = params.hparams['SMOOTH_BETA'],\n",
    "    # smooth_delta        = params.hparams['SMOOTH_DELTA'],\n",
    "    # diff1_weight        = params.hparams['DIFF1_WEIGHT'],\n",
    "    # diff2_weight        = params.hparams['DIFF2_WEIGHT'],\n",
    ")\n"
   ]
  },
  {
   "cell_type": "code",
   "execution_count": 10,
   "id": "22b25c89-05c3-4a16-b013-97143f173e08",
   "metadata": {},
   "outputs": [
    {
     "name": "stdout",
     "output_type": "stream",
     "text": [
      "\n",
      "Champion validation RMSE = 0.162734\n",
      "Improvement over zero‐baseline =  60.2%\n",
      "Improvement over mean‐baseline =  43.3%\n"
     ]
    }
   ],
   "source": [
    "# -----------------------------------------------------------------------------\n",
    "# Final reporting: best RMSE and relative improvement\n",
    "# -----------------------------------------------------------------------------\n",
    "print(f\"\\nChampion validation RMSE = {best_val_rmse:.6f}\")\n",
    "\n",
    "improvement_zero = 100.0 * (1.0 - best_val_rmse / rmse_zero_val)\n",
    "print(f\"Improvement over zero‐baseline = {improvement_zero:5.1f}%\")\n",
    "\n",
    "improvement_mean = 100.0 * (1.0 - best_val_rmse / rmse_mean_val)\n",
    "print(f\"Improvement over mean‐baseline = {improvement_mean:5.1f}%\")\n"
   ]
  },
  {
   "cell_type": "code",
   "execution_count": null,
   "id": "099d6337-c4d3-4316-9f5d-3232276ba227",
   "metadata": {},
   "outputs": [],
   "source": []
  }
 ],
 "metadata": {
  "kernelspec": {
   "display_name": "Python 3 (ipykernel)",
   "language": "python",
   "name": "python3"
  },
  "language_info": {
   "codemirror_mode": {
    "name": "ipython",
    "version": 3
   },
   "file_extension": ".py",
   "mimetype": "text/x-python",
   "name": "python",
   "nbconvert_exporter": "python",
   "pygments_lexer": "ipython3",
   "version": "3.12.3"
  }
 },
 "nbformat": 4,
 "nbformat_minor": 5
}
