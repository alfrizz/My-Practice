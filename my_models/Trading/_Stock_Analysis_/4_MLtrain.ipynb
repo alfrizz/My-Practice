{
 "cells": [
  {
   "cell_type": "code",
   "execution_count": 1,
   "id": "73f06a4f-691a-4a84-a305-e7212eb879bf",
   "metadata": {},
   "outputs": [],
   "source": [
    "# %matplotlib widget\n",
    "%matplotlib inline"
   ]
  },
  {
   "cell_type": "code",
   "execution_count": 2,
   "id": "4c868158-e6bb-4d56-bbdd-8e8103f0b9e4",
   "metadata": {},
   "outputs": [],
   "source": [
    "# 1) Wipe out all Python variables\n",
    "%reset -f\n",
    "# 2) Force Python’s garbage collector to run\n",
    "import gc\n",
    "gc.collect()\n",
    "\n",
    "import importlib\n",
    "from libs import trades, plots, params, models\n",
    "# importlib.reload(trades)\n",
    "# importlib.reload(plots)\n",
    "# importlib.reload(params)\n",
    "# importlib.reload(models)\n",
    "\n",
    "import pandas as pd\n",
    "import numpy  as np\n",
    "import math\n",
    "\n",
    "import datetime as dt\n",
    "import os\n",
    "from typing import Sequence, List, Tuple, Optional, Union\n",
    "\n",
    "import torch\n",
    "import torch.nn as nn\n",
    "import torch.nn.functional as Funct\n",
    "from torch_lr_finder import LRFinder\n",
    "from torch.utils.data import DataLoader, TensorDataset\n",
    "\n",
    "from tqdm import tqdm"
   ]
  },
  {
   "cell_type": "code",
   "execution_count": 3,
   "id": "7b98406a",
   "metadata": {},
   "outputs": [
    {
     "data": {
      "text/html": [
       "<div>\n",
       "<style scoped>\n",
       "    .dataframe tbody tr th:only-of-type {\n",
       "        vertical-align: middle;\n",
       "    }\n",
       "\n",
       "    .dataframe tbody tr th {\n",
       "        vertical-align: top;\n",
       "    }\n",
       "\n",
       "    .dataframe thead th {\n",
       "        text-align: right;\n",
       "    }\n",
       "</style>\n",
       "<table border=\"1\" class=\"dataframe\">\n",
       "  <thead>\n",
       "    <tr style=\"text-align: right;\">\n",
       "      <th></th>\n",
       "      <th>vol_15</th>\n",
       "      <th>ma_5</th>\n",
       "      <th>ma_20</th>\n",
       "      <th>close</th>\n",
       "      <th>hour</th>\n",
       "      <th>bb_width_20</th>\n",
       "      <th>high</th>\n",
       "      <th>low</th>\n",
       "      <th>open</th>\n",
       "      <th>vwap_dev</th>\n",
       "      <th>atr_14</th>\n",
       "      <th>r_5</th>\n",
       "      <th>r_1</th>\n",
       "      <th>r_15</th>\n",
       "      <th>obv</th>\n",
       "      <th>signal</th>\n",
       "      <th>ask</th>\n",
       "      <th>bid</th>\n",
       "    </tr>\n",
       "  </thead>\n",
       "  <tbody>\n",
       "    <tr>\n",
       "      <th>2004-01-02 13:09:00</th>\n",
       "      <td>-0.966783</td>\n",
       "      <td>-0.185561</td>\n",
       "      <td>-0.282361</td>\n",
       "      <td>-0.193762</td>\n",
       "      <td>0.493</td>\n",
       "      <td>-0.929333</td>\n",
       "      <td>-0.317313</td>\n",
       "      <td>-0.028125</td>\n",
       "      <td>-0.193147</td>\n",
       "      <td>-0.032030</td>\n",
       "      <td>-1.435516</td>\n",
       "      <td>-0.040971</td>\n",
       "      <td>-0.029212</td>\n",
       "      <td>-0.025534</td>\n",
       "      <td>11.535427</td>\n",
       "      <td>0.005593</td>\n",
       "      <td>0.764807</td>\n",
       "      <td>0.763664</td>\n",
       "    </tr>\n",
       "    <tr>\n",
       "      <th>2004-01-02 13:10:00</th>\n",
       "      <td>-0.965007</td>\n",
       "      <td>-0.192087</td>\n",
       "      <td>-0.284115</td>\n",
       "      <td>-0.201725</td>\n",
       "      <td>0.493</td>\n",
       "      <td>-0.921566</td>\n",
       "      <td>-0.324262</td>\n",
       "      <td>-0.037500</td>\n",
       "      <td>-0.201085</td>\n",
       "      <td>-0.036171</td>\n",
       "      <td>-1.432540</td>\n",
       "      <td>-0.054390</td>\n",
       "      <td>-0.029213</td>\n",
       "      <td>-0.033477</td>\n",
       "      <td>11.491025</td>\n",
       "      <td>0.006095</td>\n",
       "      <td>0.764790</td>\n",
       "      <td>0.763647</td>\n",
       "    </tr>\n",
       "    <tr>\n",
       "      <th>2004-01-02 13:11:00</th>\n",
       "      <td>-0.963779</td>\n",
       "      <td>-0.200245</td>\n",
       "      <td>-0.286307</td>\n",
       "      <td>-0.209688</td>\n",
       "      <td>0.493</td>\n",
       "      <td>-0.913246</td>\n",
       "      <td>-0.331210</td>\n",
       "      <td>-0.046875</td>\n",
       "      <td>-0.209022</td>\n",
       "      <td>-0.040262</td>\n",
       "      <td>-1.429563</td>\n",
       "      <td>-0.067809</td>\n",
       "      <td>-0.029214</td>\n",
       "      <td>-0.041420</td>\n",
       "      <td>11.441197</td>\n",
       "      <td>0.006642</td>\n",
       "      <td>0.764773</td>\n",
       "      <td>0.763631</td>\n",
       "    </tr>\n",
       "    <tr>\n",
       "      <th>2004-01-02 13:12:00</th>\n",
       "      <td>-0.963001</td>\n",
       "      <td>-0.208402</td>\n",
       "      <td>-0.288939</td>\n",
       "      <td>-0.217651</td>\n",
       "      <td>0.493</td>\n",
       "      <td>-0.904541</td>\n",
       "      <td>-0.338159</td>\n",
       "      <td>-0.056250</td>\n",
       "      <td>-0.216960</td>\n",
       "      <td>-0.044296</td>\n",
       "      <td>-1.426587</td>\n",
       "      <td>-0.067810</td>\n",
       "      <td>-0.029214</td>\n",
       "      <td>-0.049363</td>\n",
       "      <td>11.385942</td>\n",
       "      <td>0.007239</td>\n",
       "      <td>0.764757</td>\n",
       "      <td>0.763614</td>\n",
       "    </tr>\n",
       "    <tr>\n",
       "      <th>2004-01-02 13:13:00</th>\n",
       "      <td>-0.962622</td>\n",
       "      <td>-0.216560</td>\n",
       "      <td>-0.292008</td>\n",
       "      <td>-0.225614</td>\n",
       "      <td>0.493</td>\n",
       "      <td>-0.895592</td>\n",
       "      <td>-0.345107</td>\n",
       "      <td>-0.065625</td>\n",
       "      <td>-0.224897</td>\n",
       "      <td>-0.048268</td>\n",
       "      <td>-1.423611</td>\n",
       "      <td>-0.067812</td>\n",
       "      <td>-0.029215</td>\n",
       "      <td>-0.057307</td>\n",
       "      <td>11.325262</td>\n",
       "      <td>0.007889</td>\n",
       "      <td>0.764740</td>\n",
       "      <td>0.763597</td>\n",
       "    </tr>\n",
       "    <tr>\n",
       "      <th>...</th>\n",
       "      <td>...</td>\n",
       "      <td>...</td>\n",
       "      <td>...</td>\n",
       "      <td>...</td>\n",
       "      <td>...</td>\n",
       "      <td>...</td>\n",
       "      <td>...</td>\n",
       "      <td>...</td>\n",
       "      <td>...</td>\n",
       "      <td>...</td>\n",
       "      <td>...</td>\n",
       "      <td>...</td>\n",
       "      <td>...</td>\n",
       "      <td>...</td>\n",
       "      <td>...</td>\n",
       "      <td>...</td>\n",
       "      <td>...</td>\n",
       "      <td>...</td>\n",
       "    </tr>\n",
       "    <tr>\n",
       "      <th>2025-06-18 20:56:00</th>\n",
       "      <td>0.507307</td>\n",
       "      <td>0.367023</td>\n",
       "      <td>-0.130453</td>\n",
       "      <td>0.705997</td>\n",
       "      <td>-0.939</td>\n",
       "      <td>0.122381</td>\n",
       "      <td>0.704918</td>\n",
       "      <td>0.500000</td>\n",
       "      <td>0.475806</td>\n",
       "      <td>0.407906</td>\n",
       "      <td>2.024482</td>\n",
       "      <td>1.742521</td>\n",
       "      <td>0.837991</td>\n",
       "      <td>1.317936</td>\n",
       "      <td>0.839704</td>\n",
       "      <td>0.000000</td>\n",
       "      <td>196.962600</td>\n",
       "      <td>196.667400</td>\n",
       "    </tr>\n",
       "    <tr>\n",
       "      <th>2025-06-18 20:57:00</th>\n",
       "      <td>0.566581</td>\n",
       "      <td>0.460866</td>\n",
       "      <td>-0.093452</td>\n",
       "      <td>0.478780</td>\n",
       "      <td>-0.939</td>\n",
       "      <td>0.187641</td>\n",
       "      <td>0.836066</td>\n",
       "      <td>0.387097</td>\n",
       "      <td>0.685484</td>\n",
       "      <td>0.263954</td>\n",
       "      <td>2.207440</td>\n",
       "      <td>0.887590</td>\n",
       "      <td>-0.939239</td>\n",
       "      <td>1.115397</td>\n",
       "      <td>0.647913</td>\n",
       "      <td>0.000000</td>\n",
       "      <td>196.822500</td>\n",
       "      <td>196.527500</td>\n",
       "    </tr>\n",
       "    <tr>\n",
       "      <th>2025-06-18 20:58:00</th>\n",
       "      <td>0.542508</td>\n",
       "      <td>0.497086</td>\n",
       "      <td>-0.060109</td>\n",
       "      <td>0.470665</td>\n",
       "      <td>-0.939</td>\n",
       "      <td>0.241322</td>\n",
       "      <td>0.508197</td>\n",
       "      <td>0.500000</td>\n",
       "      <td>0.467742</td>\n",
       "      <td>0.254269</td>\n",
       "      <td>2.216153</td>\n",
       "      <td>0.341995</td>\n",
       "      <td>-0.033854</td>\n",
       "      <td>0.828890</td>\n",
       "      <td>0.429218</td>\n",
       "      <td>0.000000</td>\n",
       "      <td>196.817500</td>\n",
       "      <td>196.522500</td>\n",
       "    </tr>\n",
       "    <tr>\n",
       "      <th>2025-06-18 20:59:00</th>\n",
       "      <td>0.903328</td>\n",
       "      <td>0.408182</td>\n",
       "      <td>-0.062549</td>\n",
       "      <td>-0.227217</td>\n",
       "      <td>-0.939</td>\n",
       "      <td>0.245429</td>\n",
       "      <td>0.524590</td>\n",
       "      <td>-0.129032</td>\n",
       "      <td>0.475806</td>\n",
       "      <td>-0.173638</td>\n",
       "      <td>2.487280</td>\n",
       "      <td>-0.842944</td>\n",
       "      <td>-2.888426</td>\n",
       "      <td>-0.094079</td>\n",
       "      <td>-0.434952</td>\n",
       "      <td>0.043551</td>\n",
       "      <td>196.387200</td>\n",
       "      <td>196.092800</td>\n",
       "    </tr>\n",
       "    <tr>\n",
       "      <th>2025-06-18 21:00:00</th>\n",
       "      <td>1.017126</td>\n",
       "      <td>0.358792</td>\n",
       "      <td>-0.032866</td>\n",
       "      <td>0.259677</td>\n",
       "      <td>-0.960</td>\n",
       "      <td>0.236868</td>\n",
       "      <td>0.360656</td>\n",
       "      <td>-0.387097</td>\n",
       "      <td>0.314516</td>\n",
       "      <td>0.115538</td>\n",
       "      <td>2.861997</td>\n",
       "      <td>-0.468049</td>\n",
       "      <td>2.015324</td>\n",
       "      <td>0.663058</td>\n",
       "      <td>6.060628</td>\n",
       "      <td>0.000000</td>\n",
       "      <td>196.687400</td>\n",
       "      <td>196.392600</td>\n",
       "    </tr>\n",
       "  </tbody>\n",
       "</table>\n",
       "<p>3601230 rows × 18 columns</p>\n",
       "</div>"
      ],
      "text/plain": [
       "                       vol_15      ma_5     ma_20     close   hour  \\\n",
       "2004-01-02 13:09:00 -0.966783 -0.185561 -0.282361 -0.193762  0.493   \n",
       "2004-01-02 13:10:00 -0.965007 -0.192087 -0.284115 -0.201725  0.493   \n",
       "2004-01-02 13:11:00 -0.963779 -0.200245 -0.286307 -0.209688  0.493   \n",
       "2004-01-02 13:12:00 -0.963001 -0.208402 -0.288939 -0.217651  0.493   \n",
       "2004-01-02 13:13:00 -0.962622 -0.216560 -0.292008 -0.225614  0.493   \n",
       "...                       ...       ...       ...       ...    ...   \n",
       "2025-06-18 20:56:00  0.507307  0.367023 -0.130453  0.705997 -0.939   \n",
       "2025-06-18 20:57:00  0.566581  0.460866 -0.093452  0.478780 -0.939   \n",
       "2025-06-18 20:58:00  0.542508  0.497086 -0.060109  0.470665 -0.939   \n",
       "2025-06-18 20:59:00  0.903328  0.408182 -0.062549 -0.227217 -0.939   \n",
       "2025-06-18 21:00:00  1.017126  0.358792 -0.032866  0.259677 -0.960   \n",
       "\n",
       "                     bb_width_20      high       low      open  vwap_dev  \\\n",
       "2004-01-02 13:09:00    -0.929333 -0.317313 -0.028125 -0.193147 -0.032030   \n",
       "2004-01-02 13:10:00    -0.921566 -0.324262 -0.037500 -0.201085 -0.036171   \n",
       "2004-01-02 13:11:00    -0.913246 -0.331210 -0.046875 -0.209022 -0.040262   \n",
       "2004-01-02 13:12:00    -0.904541 -0.338159 -0.056250 -0.216960 -0.044296   \n",
       "2004-01-02 13:13:00    -0.895592 -0.345107 -0.065625 -0.224897 -0.048268   \n",
       "...                          ...       ...       ...       ...       ...   \n",
       "2025-06-18 20:56:00     0.122381  0.704918  0.500000  0.475806  0.407906   \n",
       "2025-06-18 20:57:00     0.187641  0.836066  0.387097  0.685484  0.263954   \n",
       "2025-06-18 20:58:00     0.241322  0.508197  0.500000  0.467742  0.254269   \n",
       "2025-06-18 20:59:00     0.245429  0.524590 -0.129032  0.475806 -0.173638   \n",
       "2025-06-18 21:00:00     0.236868  0.360656 -0.387097  0.314516  0.115538   \n",
       "\n",
       "                       atr_14       r_5       r_1      r_15        obv  \\\n",
       "2004-01-02 13:09:00 -1.435516 -0.040971 -0.029212 -0.025534  11.535427   \n",
       "2004-01-02 13:10:00 -1.432540 -0.054390 -0.029213 -0.033477  11.491025   \n",
       "2004-01-02 13:11:00 -1.429563 -0.067809 -0.029214 -0.041420  11.441197   \n",
       "2004-01-02 13:12:00 -1.426587 -0.067810 -0.029214 -0.049363  11.385942   \n",
       "2004-01-02 13:13:00 -1.423611 -0.067812 -0.029215 -0.057307  11.325262   \n",
       "...                       ...       ...       ...       ...        ...   \n",
       "2025-06-18 20:56:00  2.024482  1.742521  0.837991  1.317936   0.839704   \n",
       "2025-06-18 20:57:00  2.207440  0.887590 -0.939239  1.115397   0.647913   \n",
       "2025-06-18 20:58:00  2.216153  0.341995 -0.033854  0.828890   0.429218   \n",
       "2025-06-18 20:59:00  2.487280 -0.842944 -2.888426 -0.094079  -0.434952   \n",
       "2025-06-18 21:00:00  2.861997 -0.468049  2.015324  0.663058   6.060628   \n",
       "\n",
       "                       signal         ask         bid  \n",
       "2004-01-02 13:09:00  0.005593    0.764807    0.763664  \n",
       "2004-01-02 13:10:00  0.006095    0.764790    0.763647  \n",
       "2004-01-02 13:11:00  0.006642    0.764773    0.763631  \n",
       "2004-01-02 13:12:00  0.007239    0.764757    0.763614  \n",
       "2004-01-02 13:13:00  0.007889    0.764740    0.763597  \n",
       "...                       ...         ...         ...  \n",
       "2025-06-18 20:56:00  0.000000  196.962600  196.667400  \n",
       "2025-06-18 20:57:00  0.000000  196.822500  196.527500  \n",
       "2025-06-18 20:58:00  0.000000  196.817500  196.522500  \n",
       "2025-06-18 20:59:00  0.043551  196.387200  196.092800  \n",
       "2025-06-18 21:00:00  0.000000  196.687400  196.392600  \n",
       "\n",
       "[3601230 rows x 18 columns]"
      ]
     },
     "execution_count": 3,
     "metadata": {},
     "output_type": "execute_result"
    }
   ],
   "source": [
    "look_back      = params.look_back_tick \n",
    "features_cols  = params.features_cols_tick\n",
    "label_col      = params.label_col\n",
    "device         = params.device\n",
    "\n",
    "df_feat = pd.read_csv(params.feat_csv, index_col=0, parse_dates=True)\n",
    "\n",
    "df_features = df_feat[features_cols + ['signal','ask','bid']]\n",
    "df_features "
   ]
  },
  {
   "cell_type": "code",
   "execution_count": 4,
   "id": "b805fa9c",
   "metadata": {},
   "outputs": [
    {
     "data": {
      "application/vnd.jupyter.widget-view+json": {
       "model_id": "fd34c8c468ea4e97b41edd01d8de122f",
       "version_major": 2,
       "version_minor": 0
      },
      "text/plain": [
       "Counting windows:   0%|          | 0/5400 [00:00<?, ?it/s]"
      ]
     },
     "metadata": {},
     "output_type": "display_data"
    },
    {
     "data": {
      "application/vnd.jupyter.widget-view+json": {
       "model_id": "8238dff4542a4b72ba7c95a3940a4700",
       "version_major": 2,
       "version_minor": 0
      },
      "text/plain": [
       "Writing memmaps:   0%|          | 0/5400 [00:00<?, ?it/s]"
      ]
     },
     "metadata": {},
     "output_type": "display_data"
    },
    {
     "name": "stdout",
     "output_type": "stream",
     "text": [
      "Shapes:\n",
      "  X         = torch.Size([2137603, 5, 15]) (samples, look_back, features)\n",
      "  y_sig     = torch.Size([2137603]) (samples,)\n",
      "  y_ret     = torch.Size([2137603]) (samples,)\n",
      "  raw_close = torch.Size([2137603])\n",
      "  raw_bid   = torch.Size([2137603])\n",
      "  raw_ask   = torch.Size([2137603])\n",
      "  end_times = (2137603,)\n"
     ]
    }
   ],
   "source": [
    "X, y_sig, y_ret, raw_close, raw_bid, raw_ask, end_times = models.build_lstm_tensors(\n",
    "    df            = df_feat,\n",
    "    look_back     = params.look_back_tick,\n",
    "    features_cols = params.features_cols_tick,\n",
    "    label_col     = params.label_col,\n",
    "    return_col    = params.return_col,\n",
    "    sess_start    = params.sess_start_pred_tick \n",
    ")\n",
    "\n",
    "# quick shapes\n",
    "print(\"Shapes:\")\n",
    "print(\"  X         =\", X.shape,    \"(samples, look_back, features)\")\n",
    "print(\"  y_sig     =\", y_sig.shape,    \"(samples,)\")\n",
    "print(\"  y_ret     =\", y_ret.shape,    \"(samples,)\")\n",
    "print(\"  raw_close =\", raw_close.shape)\n",
    "print(\"  raw_bid   =\", raw_bid.shape)\n",
    "print(\"  raw_ask   =\", raw_ask.shape)\n",
    "print(\"  end_times =\", end_times.shape)\n"
   ]
  },
  {
   "cell_type": "code",
   "execution_count": 5,
   "id": "7b4f1ac4",
   "metadata": {},
   "outputs": [
    {
     "name": "stdout",
     "output_type": "stream",
     "text": [
      "Shapes:\n",
      "  X_tr  = torch.Size([1507343, 5, 15])\n",
      "  y_sig_tr, y_ret_tr = torch.Size([1507343]) torch.Size([1507343])\n",
      "  X_val = torch.Size([310064, 5, 15])\n",
      "  y_sig_val, y_ret_val = torch.Size([310064]) torch.Size([310064])\n",
      "  X_te  = torch.Size([320196, 5, 15])\n",
      "  y_sig_te, y_ret_te = torch.Size([320196]) torch.Size([320196])\n"
     ]
    }
   ],
   "source": [
    "# Split into train/val/test by calendar day\n",
    "(\n",
    "(X_tr,  y_sig_tr,  y_ret_tr),\n",
    "(X_val, y_sig_val, y_ret_val),\n",
    "(X_te,  y_sig_te,  y_ret_te,  raw_close_te, raw_bid_te, raw_ask_te),\n",
    "samples_per_day,\n",
    "day_id_tr, day_id_val, day_id_te\n",
    ") = models.chronological_split(\n",
    "    X, y_sig, y_ret,\n",
    "    raw_close, raw_bid, raw_ask,\n",
    "    end_times   = end_times,\n",
    "    train_prop  = params.train_prop,\n",
    "    val_prop    = params.val_prop,\n",
    "    train_batch = params.hparams['TRAIN_BATCH']\n",
    ")\n",
    "\n",
    "# Print shapes of all tensors\n",
    "print(\"Shapes:\")\n",
    "print(\"  X_tr  =\", X_tr.shape)\n",
    "print(\"  y_sig_tr, y_ret_tr =\", y_sig_tr.shape, y_ret_tr.shape)\n",
    "print(\"  X_val =\", X_val.shape)\n",
    "print(\"  y_sig_val, y_ret_val =\", y_sig_val.shape, y_ret_val.shape)\n",
    "print(\"  X_te  =\", X_te.shape)\n",
    "print(\"  y_sig_te, y_ret_te =\", y_sig_te.shape, y_ret_te.shape)\n"
   ]
  },
  {
   "cell_type": "code",
   "execution_count": 6,
   "id": "1ad9b6c4-3d79-45c0-b2c0-c4f46f1ad866",
   "metadata": {},
   "outputs": [
    {
     "name": "stdout",
     "output_type": "stream",
     "text": [
      "Days  → train=3808, val=783, test=809\n",
      "Batches → train=119,   val=783,   test=809\n"
     ]
    }
   ],
   "source": [
    "# carve `end_times` into the same three splits:\n",
    "n_tr  = day_id_tr .shape[0] \n",
    "n_val = day_id_val.shape[0]\n",
    "i_tr  = n_tr\n",
    "i_val = n_tr + n_val\n",
    "\n",
    "end_times_tr  = end_times[:i_tr]\n",
    "end_times_val = end_times[i_tr:i_val]\n",
    "end_times_te  = end_times[i_val:]\n",
    "\n",
    "# -----------------------------------------------------------------------------\n",
    "#  Build DataLoaders over calendar‐days\n",
    "# -----------------------------------------------------------------------------\n",
    "train_loader, val_loader, test_loader = models.split_to_day_datasets(\n",
    "    # train split:   \n",
    "    X_tr,            y_sig_tr,     y_ret_tr,   end_times_tr,\n",
    "    # val split:\n",
    "    X_val,           y_sig_val,    y_ret_val,  end_times_val,\n",
    "    # test split + raw‐prices\n",
    "    X_te,            y_sig_te,     y_ret_te,   end_times_te,\n",
    "    raw_close_te, raw_bid_te, raw_ask_te,\n",
    "    \n",
    "    sess_start_time       = params.sess_start_pred_tick,\n",
    "    signal_thresh         = params.best_optuna_params[\"buy_threshold\"],\n",
    "    return_thresh         = 0.01,  # flat‐zone threshold for returns\n",
    "    train_batch           = params.hparams[\"TRAIN_BATCH\"],\n",
    "    train_workers         = params.hparams[\"NUM_WORKERS\"],\n",
    "    train_prefetch_factor = params.hparams[\"TRAIN_PREFETCH_FACTOR\"]\n",
    ")\n",
    "\n",
    "print(f\"Days  → train={len(train_loader.dataset)}, val={len(val_loader.dataset)}, test={len(test_loader.dataset)}\")\n",
    "print(f\"Batches → train={len(train_loader)},   val={len(val_loader)},   test={len(test_loader)}\")"
   ]
  },
  {
   "cell_type": "code",
   "execution_count": 7,
   "id": "eeec031f-6c8f-455f-9c72-ae411e03ba34",
   "metadata": {},
   "outputs": [
    {
     "data": {
      "text/plain": [
       "DualMemoryLSTM(\n",
       "  (conv): Conv1d(15, 15, kernel_size=(3,), stride=(1,), padding=(1,))\n",
       "  (short_lstm): LSTM(15, 48, batch_first=True, bidirectional=True)\n",
       "  (attn): MultiheadAttention(\n",
       "    (out_proj): NonDynamicallyQuantizableLinear(in_features=96, out_features=96, bias=True)\n",
       "  )\n",
       "  (do_short): Dropout(p=0.05, inplace=False)\n",
       "  (ln_short): LayerNorm((96,), eps=1e-05, elementwise_affine=True)\n",
       "  (long_lstm): LSTM(96, 64, batch_first=True, bidirectional=True)\n",
       "  (do_long): Dropout(p=0.15, inplace=False)\n",
       "  (ln_long): LayerNorm((128,), eps=1e-05, elementwise_affine=True)\n",
       "  (pred): Linear(in_features=128, out_features=1, bias=True)\n",
       "  (cls_head): Linear(in_features=128, out_features=1, bias=True)\n",
       "  (cls_ter): Linear(in_features=128, out_features=3, bias=True)\n",
       ")"
      ]
     },
     "execution_count": 7,
     "metadata": {},
     "output_type": "execute_result"
    }
   ],
   "source": [
    "# -----------------------------------------------------------------------------\n",
    "# Instantiate the stateful DualMemoryLSTM & move to device\n",
    "# -----------------------------------------------------------------------------\n",
    "model = models.DualMemoryLSTM(\n",
    "    n_feats        = len(features_cols),                          \n",
    "    short_units    = params.hparams['SHORT_UNITS'],    \n",
    "    long_units     = params.hparams['LONG_UNITS'],     \n",
    "    dropout_short  = params.hparams['DROPOUT_SHORT'],  \n",
    "    dropout_long   = params.hparams['DROPOUT_LONG'],   \n",
    "    att_heads      = params.hparams['ATT_HEADS'],\n",
    "    att_drop       = params.hparams['ATT_DROPOUT']\n",
    ")\n",
    "model.to(device)   # place model parameters on GPU or CPU as specified\n",
    "\n",
    "model"
   ]
  },
  {
   "cell_type": "code",
   "execution_count": 8,
   "id": "5512a0dd-d2c8-418e-bfca-4580fb4be995",
   "metadata": {},
   "outputs": [
    {
     "data": {
      "text/plain": [
       "AdamW (\n",
       "Parameter Group 0\n",
       "    amsgrad: False\n",
       "    betas: (0.9, 0.999)\n",
       "    capturable: False\n",
       "    decoupled_weight_decay: True\n",
       "    differentiable: False\n",
       "    eps: 1e-08\n",
       "    foreach: None\n",
       "    fused: None\n",
       "    initial_lr: 0.001\n",
       "    lr: 0.001\n",
       "    maximize: False\n",
       "    weight_decay: 0.0001\n",
       ")"
      ]
     },
     "execution_count": 8,
     "metadata": {},
     "output_type": "execute_result"
    }
   ],
   "source": [
    "# -----------------------------------------------------------------------------\n",
    "# Compute plateau_sched timing parameters\n",
    "# -----------------------------------------------------------------------------\n",
    "# Total training samples = total windows in X_tr (one window per row)\n",
    "n_train_samples = X_tr.shape[0]\n",
    "\n",
    "# How many optimizer steps (day‐bundles) constitute one epoch?\n",
    "steps_per_epoch = len(train_loader)\n",
    "\n",
    "\n",
    "# -----------------------------------------------------------------------------\n",
    "# Build optimizer, LR scheduler, AMP scaler, and gradient‐clip norm\n",
    "# -----------------------------------------------------------------------------\n",
    "optimizer, plateau_sched, cosine_sched, scaler, clipnorm = models.make_optimizer_and_scheduler(\n",
    "    model,\n",
    "    initial_lr        = params.hparams['INITIAL_LR'],       \n",
    "    weight_decay      = params.hparams['WEIGHT_DECAY'],     \n",
    "    clipnorm          = params.hparams['CLIPNORM']   \n",
    ")\n",
    "\n",
    "optimizer"
   ]
  },
  {
   "cell_type": "code",
   "execution_count": 9,
   "id": "e9c5fc27-f31d-4adc-a247-5468674f83fc",
   "metadata": {},
   "outputs": [
    {
     "name": "stdout",
     "output_type": "stream",
     "text": [
      "Training sees 3808 calendar days per epoch\n",
      "\n",
      "Baseline (zero‐forecast) RMSE on validation = 0.284245\n"
     ]
    }
   ],
   "source": [
    "# -----------------------------------------------------------------------------\n",
    "# Count how many calendar days we see each epoch and Compute baseline RMSE on validation (zero forecast)\n",
    "# -----------------------------------------------------------------------------\n",
    "n_train_days = len(train_loader.dataset)  # dataset length = # unique days\n",
    "print(f\"Training sees {n_train_days} calendar days per epoch\\n\")\n",
    "\n",
    "baseline_val_rmse = models.naive_rmse(val_loader)\n",
    "print(f\"Baseline (zero‐forecast) RMSE on validation = {baseline_val_rmse:.6f}\")"
   ]
  },
  {
   "cell_type": "code",
   "execution_count": 10,
   "id": "7bf94780-a876-4bf4-ad27-6abc2da1fc0a",
   "metadata": {},
   "outputs": [
    {
     "data": {
      "image/png": "[encoded data removed]",
      "text/plain": [
       "<Figure size 660x440 with 1 Axes>"
      ]
     },
     "metadata": {},
     "output_type": "display_data"
    },
    {
     "data": {
      "application/vnd.jupyter.widget-view+json": {
       "model_id": "cbaa6946546b4d87a9fe65945c715721",
       "version_major": 2,
       "version_minor": 0
      },
      "text/plain": [
       "Epoch 1:   0%|          | 0/119 [00:00<?, ?bundle/s]"
      ]
     },
     "metadata": {},
     "output_type": "display_data"
    },
    {
     "name": "stdout",
     "output_type": "stream",
     "text": [
      "Epoch 001\n",
      "TRAIN→ \"R\": RMSE=0.2259 MAE=0.1620 R2=-0.0110 | \"B\": Acc=0.8057 Prec=0.5054 Rec=0.1630 F1=0.2465 AUROC=0.7430 | \"T\": Acc=0.3780 Prec=0.4013 Rec=0.3780 F1=0.3854 AUROC=0.5841\n",
      "VALID→ \"R\": RMSE=0.1892 MAE=0.1341 R2=0.2173 | \"B\": Acc=0.8175 Prec=0.7181 Rec=0.0379 F1=0.0719 AUROC=0.7786 | \"T\": Acc=0.3546 Prec=0.6687 Rec=0.3546 F1=0.3316 AUROC=0.5608\n"
     ]
    },
    {
     "data": {
      "application/vnd.jupyter.widget-view+json": {
       "model_id": "4eccb58f0e9d4629b7c5987c25c23d0f",
       "version_major": 2,
       "version_minor": 0
      },
      "text/plain": [
       "Epoch 2:   0%|          | 0/119 [00:00<?, ?bundle/s]"
      ]
     },
     "metadata": {},
     "output_type": "display_data"
    },
    {
     "name": "stdout",
     "output_type": "stream",
     "text": [
      "Epoch 002\n",
      "TRAIN→ \"R\": RMSE=0.2038 MAE=0.1478 R2=0.1770 | \"B\": Acc=0.8140 Prec=0.5787 Rec=0.1697 F1=0.2625 AUROC=0.7688 | \"T\": Acc=0.3509 Prec=0.5002 Rec=0.3509 F1=0.3439 AUROC=0.5722\n",
      "VALID→ \"R\": RMSE=0.1857 MAE=0.1339 R2=0.2458 | \"B\": Acc=0.8236 Prec=0.7039 Rec=0.0962 F1=0.1693 AUROC=0.7847 | \"T\": Acc=0.3721 Prec=0.6118 Rec=0.3721 F1=0.3725 AUROC=0.5792\n"
     ]
    },
    {
     "data": {
      "application/vnd.jupyter.widget-view+json": {
       "model_id": "1ccdcdfb1c8a4a5b9015b20cd7c4c18b",
       "version_major": 2,
       "version_minor": 0
      },
      "text/plain": [
       "Epoch 3:   0%|          | 0/119 [00:00<?, ?bundle/s]"
      ]
     },
     "metadata": {},
     "output_type": "display_data"
    },
    {
     "name": "stdout",
     "output_type": "stream",
     "text": [
      "Epoch 003\n",
      "TRAIN→ \"R\": RMSE=0.2031 MAE=0.1476 R2=0.1824 | \"B\": Acc=0.8154 Prec=0.5818 Rec=0.1898 F1=0.2862 AUROC=0.7740 | \"T\": Acc=0.3542 Prec=0.5218 Rec=0.3542 F1=0.3483 AUROC=0.5704\n",
      "VALID→ \"R\": RMSE=0.1849 MAE=0.1343 R2=0.2520 | \"B\": Acc=0.8257 Prec=0.6911 Rec=0.1216 F1=0.2068 AUROC=0.7861 | \"T\": Acc=0.3748 Prec=0.6071 Rec=0.3748 F1=0.3923 AUROC=0.5788\n"
     ]
    },
    {
     "data": {
      "application/vnd.jupyter.widget-view+json": {
       "model_id": "f3bccec8e6a24e849ad8c2385ee95de3",
       "version_major": 2,
       "version_minor": 0
      },
      "text/plain": [
       "Epoch 4:   0%|          | 0/119 [00:00<?, ?bundle/s]"
      ]
     },
     "metadata": {},
     "output_type": "display_data"
    },
    {
     "name": "stdout",
     "output_type": "stream",
     "text": [
      "Epoch 004\n",
      "TRAIN→ \"R\": RMSE=0.2021 MAE=0.1467 R2=0.1904 | \"B\": Acc=0.8164 Prec=0.5885 Rec=0.1945 F1=0.2923 AUROC=0.7767 | \"T\": Acc=0.3546 Prec=0.5094 Rec=0.3546 F1=0.3486 AUROC=0.5711\n",
      "VALID→ \"R\": RMSE=0.1845 MAE=0.1345 R2=0.2556 | \"B\": Acc=0.8264 Prec=0.6859 Rec=0.1307 F1=0.2196 AUROC=0.7875 | \"T\": Acc=0.3730 Prec=0.6099 Rec=0.3730 F1=0.3879 AUROC=0.5801\n"
     ]
    },
    {
     "data": {
      "application/vnd.jupyter.widget-view+json": {
       "model_id": "af803c479ced4e4d9c6ef42b2f151a8b",
       "version_major": 2,
       "version_minor": 0
      },
      "text/plain": [
       "Epoch 5:   0%|          | 0/119 [00:00<?, ?bundle/s]"
      ]
     },
     "metadata": {},
     "output_type": "display_data"
    },
    {
     "name": "stdout",
     "output_type": "stream",
     "text": [
      "Epoch 005\n",
      "TRAIN→ \"R\": RMSE=0.2021 MAE=0.1463 R2=0.1906 | \"B\": Acc=0.8169 Prec=0.5935 Rec=0.1942 F1=0.2926 AUROC=0.7782 | \"T\": Acc=0.3570 Prec=0.5307 Rec=0.3570 F1=0.3519 AUROC=0.5680\n",
      "VALID→ \"R\": RMSE=0.1845 MAE=0.1347 R2=0.2555 | \"B\": Acc=0.8277 Prec=0.6721 Rec=0.1513 F1=0.2470 AUROC=0.7882 | \"T\": Acc=0.3683 Prec=0.5977 Rec=0.3683 F1=0.3796 AUROC=0.5800\n"
     ]
    },
    {
     "data": {
      "application/vnd.jupyter.widget-view+json": {
       "model_id": "6875f5df02e14d82a1b82303bfd17a2e",
       "version_major": 2,
       "version_minor": 0
      },
      "text/plain": [
       "Epoch 6:   0%|          | 0/119 [00:00<?, ?bundle/s]"
      ]
     },
     "metadata": {},
     "output_type": "display_data"
    },
    {
     "name": "stdout",
     "output_type": "stream",
     "text": [
      "Epoch 006\n",
      "TRAIN→ \"R\": RMSE=0.2021 MAE=0.1462 R2=0.1907 | \"B\": Acc=0.8173 Prec=0.5960 Rec=0.1955 F1=0.2944 AUROC=0.7791 | \"T\": Acc=0.3571 Prec=0.5434 Rec=0.3571 F1=0.3522 AUROC=0.5673\n",
      "VALID→ \"R\": RMSE=0.1848 MAE=0.1349 R2=0.2534 | \"B\": Acc=0.8289 Prec=0.6552 Rec=0.1778 F1=0.2796 AUROC=0.7885 | \"T\": Acc=0.3682 Prec=0.5901 Rec=0.3682 F1=0.3795 AUROC=0.5804\n"
     ]
    },
    {
     "data": {
      "application/vnd.jupyter.widget-view+json": {
       "model_id": "1fc8ec81d31a4feaa1c0183a0d3a7446",
       "version_major": 2,
       "version_minor": 0
      },
      "text/plain": [
       "Epoch 7:   0%|          | 0/119 [00:00<?, ?bundle/s]"
      ]
     },
     "metadata": {},
     "output_type": "display_data"
    },
    {
     "name": "stdout",
     "output_type": "stream",
     "text": [
      "Epoch 007\n",
      "TRAIN→ \"R\": RMSE=0.2019 MAE=0.1458 R2=0.1925 | \"B\": Acc=0.8178 Prec=0.5988 Rec=0.1980 F1=0.2976 AUROC=0.7796 | \"T\": Acc=0.3583 Prec=0.5482 Rec=0.3583 F1=0.3538 AUROC=0.5656\n",
      "VALID→ \"R\": RMSE=0.1848 MAE=0.1344 R2=0.2532 | \"B\": Acc=0.8295 Prec=0.6498 Rec=0.1900 F1=0.2940 AUROC=0.7890 | \"T\": Acc=0.3678 Prec=0.5856 Rec=0.3678 F1=0.3791 AUROC=0.5804\n",
      "Early stopping at epoch 7\n",
      "\n",
      "Champion validation RMSE = 0.184502\n",
      "Improvement over zero‐baseline =  35.1%\n"
     ]
    },
    {
     "data": {
      "image/png": "[encoded data removed]",
      "text/plain": [
       "<Figure size 660x440 with 1 Axes>"
      ]
     },
     "metadata": {},
     "output_type": "display_data"
    }
   ],
   "source": [
    "# -----------------------------------------------------------------------------\n",
    "# Run the custom stateful training loop\n",
    "# -----------------------------------------------------------------------------\n",
    "best_val_rmse  = models.custom_stateful_training_loop(\n",
    "    model               = model,\n",
    "    optimizer           = optimizer,\n",
    "    cosine_sched        = cosine_sched,\n",
    "    plateau_sched       = plateau_sched,\n",
    "    scaler              = scaler,\n",
    "    train_loader        = train_loader,\n",
    "    val_loader          = val_loader,\n",
    "    max_epochs          = params.hparams['MAX_EPOCHS'],\n",
    "    early_stop_patience = params.hparams['EARLY_STOP_PATIENCE'],\n",
    "    baseline_val_rmse   = baseline_val_rmse,\n",
    "    clipnorm            = clipnorm,\n",
    "    device              = device\n",
    ")\n",
    "\n",
    "# -----------------------------------------------------------------------------\n",
    "# Final reporting: best RMSE and relative improvement\n",
    "# -----------------------------------------------------------------------------\n",
    "print(f\"\\nChampion validation RMSE = {best_val_rmse:.6f}\")\n",
    "\n",
    "improvement = 100.0 * (1.0 - best_val_rmse / baseline_val_rmse)\n",
    "print(f\"Improvement over zero‐baseline = {improvement:5.1f}%\")\n"
   ]
  },
  {
   "cell_type": "code",
   "execution_count": null,
   "id": "4c8660dd-d2db-434a-aa59-17814d343fbe",
   "metadata": {},
   "outputs": [],
   "source": []
  },
  {
   "cell_type": "code",
   "execution_count": null,
   "id": "138c3b45-e00a-4a85-860d-4f87b71cbbbc",
   "metadata": {},
   "outputs": [],
   "source": []
  }
 ],
 "metadata": {
  "kernelspec": {
   "display_name": "Python 3 (ipykernel)",
   "language": "python",
   "name": "python3"
  },
  "language_info": {
   "codemirror_mode": {
    "name": "ipython",
    "version": 3
   },
   "file_extension": ".py",
   "mimetype": "text/x-python",
   "name": "python",
   "nbconvert_exporter": "python",
   "pygments_lexer": "ipython3",
   "version": "3.12.3"
  }
 },
 "nbformat": 4,
 "nbformat_minor": 5
}
