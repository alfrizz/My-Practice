{
 "cells": [
  {
   "cell_type": "code",
   "execution_count": 1,
   "id": "fed6c184-8438-497e-8ae7-82cc35ac4819",
   "metadata": {},
   "outputs": [
    {
     "data": {
      "text/plain": [
       "<module 'libs.models' from '/workspace/my_models/Trading/_Stock_Analysis_/libs/models.py'>"
      ]
     },
     "execution_count": 1,
     "metadata": {},
     "output_type": "execute_result"
    }
   ],
   "source": [
    "%matplotlib inline\n",
    "\n",
    "\n",
    "# 1) Wipe out your namespace\n",
    "%reset -f\n",
    "\n",
    "# 2) Clear Jupyter’s stored outputs (and inputs if you like)\n",
    "try:\n",
    "    Out.clear()\n",
    "except NameError:\n",
    "    pass\n",
    "\n",
    "try:\n",
    "    In.clear()\n",
    "except NameError:\n",
    "    pass\n",
    "\n",
    "# 3) Force Python GC\n",
    "import gc\n",
    "gc.collect()\n",
    "\n",
    "# 4) Free any GPU buffers\n",
    "import torch\n",
    "if torch.cuda.is_available():\n",
    "    torch.cuda.empty_cache()\n",
    "\n",
    "\n",
    "import importlib\n",
    "from libs import trades, plots, params, models\n",
    "importlib.reload(trades)\n",
    "importlib.reload(plots)\n",
    "importlib.reload(params)\n",
    "importlib.reload(models)"
   ]
  },
  {
   "cell_type": "code",
   "execution_count": 2,
   "id": "4c868158-e6bb-4d56-bbdd-8e8103f0b9e4",
   "metadata": {},
   "outputs": [],
   "source": [
    "import pandas as pd\n",
    "pd.set_option('display.max_columns', None)\n",
    "\n",
    "import numpy  as np\n",
    "import math\n",
    "import matplotlib.pyplot as plt\n",
    "\n",
    "import datetime as dt\n",
    "import os\n",
    "from typing import Sequence, List, Tuple, Optional, Union\n",
    "\n",
    "import torch.nn as nn\n",
    "import torch.nn.functional as Funct\n",
    "from torch_lr_finder import LRFinder\n",
    "from torch.utils.data import DataLoader, TensorDataset\n",
    "\n",
    "from tqdm import tqdm"
   ]
  },
  {
   "cell_type": "code",
   "execution_count": 3,
   "id": "7b98406a",
   "metadata": {},
   "outputs": [
    {
     "data": {
      "text/html": [
       "<div>\n",
       "<style scoped>\n",
       "    .dataframe tbody tr th:only-of-type {\n",
       "        vertical-align: middle;\n",
       "    }\n",
       "\n",
       "    .dataframe tbody tr th {\n",
       "        vertical-align: top;\n",
       "    }\n",
       "\n",
       "    .dataframe thead th {\n",
       "        text-align: right;\n",
       "    }\n",
       "</style>\n",
       "<table border=\"1\" class=\"dataframe\">\n",
       "  <thead>\n",
       "    <tr style=\"text-align: right;\">\n",
       "      <th></th>\n",
       "      <th>rsi_14</th>\n",
       "      <th>minus_di_15</th>\n",
       "      <th>eng_adx</th>\n",
       "      <th>eng_atr_div</th>\n",
       "      <th>adx_14</th>\n",
       "      <th>sma_100</th>\n",
       "      <th>vol_spike_14</th>\n",
       "      <th>macd_line_12_26_9</th>\n",
       "      <th>sma_20</th>\n",
       "      <th>bid</th>\n",
       "      <th>ask</th>\n",
       "      <th>signal</th>\n",
       "    </tr>\n",
       "  </thead>\n",
       "  <tbody>\n",
       "    <tr>\n",
       "      <th>2004-01-02 13:09:00</th>\n",
       "      <td>0.00000</td>\n",
       "      <td>0.000000</td>\n",
       "      <td>0.000000</td>\n",
       "      <td>0.000279</td>\n",
       "      <td>0.625459</td>\n",
       "      <td>0.00000</td>\n",
       "      <td>0.528843</td>\n",
       "      <td>0.00000</td>\n",
       "      <td>0.00000</td>\n",
       "      <td>0.763664</td>\n",
       "      <td>0.764807</td>\n",
       "      <td>0.021536</td>\n",
       "    </tr>\n",
       "    <tr>\n",
       "      <th>2004-01-02 13:10:00</th>\n",
       "      <td>0.00000</td>\n",
       "      <td>0.000000</td>\n",
       "      <td>0.000000</td>\n",
       "      <td>0.000310</td>\n",
       "      <td>0.625379</td>\n",
       "      <td>0.00000</td>\n",
       "      <td>0.528775</td>\n",
       "      <td>0.00000</td>\n",
       "      <td>0.00000</td>\n",
       "      <td>0.763647</td>\n",
       "      <td>0.764790</td>\n",
       "      <td>0.023284</td>\n",
       "    </tr>\n",
       "    <tr>\n",
       "      <th>2004-01-02 13:11:00</th>\n",
       "      <td>0.00000</td>\n",
       "      <td>0.000000</td>\n",
       "      <td>0.000000</td>\n",
       "      <td>0.000341</td>\n",
       "      <td>0.625318</td>\n",
       "      <td>0.00000</td>\n",
       "      <td>0.528707</td>\n",
       "      <td>0.00000</td>\n",
       "      <td>0.00000</td>\n",
       "      <td>0.763631</td>\n",
       "      <td>0.764773</td>\n",
       "      <td>0.025175</td>\n",
       "    </tr>\n",
       "    <tr>\n",
       "      <th>2004-01-02 13:12:00</th>\n",
       "      <td>0.00000</td>\n",
       "      <td>0.000000</td>\n",
       "      <td>0.000000</td>\n",
       "      <td>0.000341</td>\n",
       "      <td>0.625263</td>\n",
       "      <td>0.00000</td>\n",
       "      <td>0.528641</td>\n",
       "      <td>0.00000</td>\n",
       "      <td>0.00000</td>\n",
       "      <td>0.763614</td>\n",
       "      <td>0.764757</td>\n",
       "      <td>0.027222</td>\n",
       "    </tr>\n",
       "    <tr>\n",
       "      <th>2004-01-02 13:13:00</th>\n",
       "      <td>0.00000</td>\n",
       "      <td>0.000000</td>\n",
       "      <td>0.000000</td>\n",
       "      <td>0.000341</td>\n",
       "      <td>0.625227</td>\n",
       "      <td>0.00000</td>\n",
       "      <td>0.528573</td>\n",
       "      <td>0.00000</td>\n",
       "      <td>0.00000</td>\n",
       "      <td>0.763597</td>\n",
       "      <td>0.764740</td>\n",
       "      <td>0.029436</td>\n",
       "    </tr>\n",
       "    <tr>\n",
       "      <th>...</th>\n",
       "      <td>...</td>\n",
       "      <td>...</td>\n",
       "      <td>...</td>\n",
       "      <td>...</td>\n",
       "      <td>...</td>\n",
       "      <td>...</td>\n",
       "      <td>...</td>\n",
       "      <td>...</td>\n",
       "      <td>...</td>\n",
       "      <td>...</td>\n",
       "      <td>...</td>\n",
       "      <td>...</td>\n",
       "    </tr>\n",
       "    <tr>\n",
       "      <th>2025-06-18 20:56:00</th>\n",
       "      <td>0.67217</td>\n",
       "      <td>0.024691</td>\n",
       "      <td>0.023121</td>\n",
       "      <td>0.024910</td>\n",
       "      <td>0.635234</td>\n",
       "      <td>0.73661</td>\n",
       "      <td>0.541606</td>\n",
       "      <td>0.36312</td>\n",
       "      <td>0.66709</td>\n",
       "      <td>196.667400</td>\n",
       "      <td>196.962600</td>\n",
       "      <td>0.684908</td>\n",
       "    </tr>\n",
       "    <tr>\n",
       "      <th>2025-06-18 20:57:00</th>\n",
       "      <td>0.61669</td>\n",
       "      <td>0.024691</td>\n",
       "      <td>0.023121</td>\n",
       "      <td>0.025902</td>\n",
       "      <td>0.629672</td>\n",
       "      <td>0.58962</td>\n",
       "      <td>0.542649</td>\n",
       "      <td>0.34721</td>\n",
       "      <td>0.61512</td>\n",
       "      <td>196.527500</td>\n",
       "      <td>196.822500</td>\n",
       "      <td>0.612206</td>\n",
       "    </tr>\n",
       "    <tr>\n",
       "      <th>2025-06-18 20:58:00</th>\n",
       "      <td>0.61473</td>\n",
       "      <td>0.030864</td>\n",
       "      <td>0.023121</td>\n",
       "      <td>0.025499</td>\n",
       "      <td>0.628744</td>\n",
       "      <td>0.58091</td>\n",
       "      <td>0.545497</td>\n",
       "      <td>0.33627</td>\n",
       "      <td>0.61329</td>\n",
       "      <td>196.522500</td>\n",
       "      <td>196.817500</td>\n",
       "      <td>0.610468</td>\n",
       "    </tr>\n",
       "    <tr>\n",
       "      <th>2025-06-18 20:59:00</th>\n",
       "      <td>0.47540</td>\n",
       "      <td>0.030864</td>\n",
       "      <td>0.023121</td>\n",
       "      <td>0.031509</td>\n",
       "      <td>0.616953</td>\n",
       "      <td>0.17135</td>\n",
       "      <td>0.538547</td>\n",
       "      <td>0.29058</td>\n",
       "      <td>0.48143</td>\n",
       "      <td>196.092800</td>\n",
       "      <td>196.387200</td>\n",
       "      <td>0.477090</td>\n",
       "    </tr>\n",
       "    <tr>\n",
       "      <th>2025-06-18 21:00:00</th>\n",
       "      <td>0.55174</td>\n",
       "      <td>0.030864</td>\n",
       "      <td>0.023121</td>\n",
       "      <td>0.033399</td>\n",
       "      <td>0.628481</td>\n",
       "      <td>0.45709</td>\n",
       "      <td>0.540908</td>\n",
       "      <td>0.24973</td>\n",
       "      <td>0.55324</td>\n",
       "      <td>196.392600</td>\n",
       "      <td>196.687400</td>\n",
       "      <td>0.350968</td>\n",
       "    </tr>\n",
       "  </tbody>\n",
       "</table>\n",
       "<p>3591238 rows × 12 columns</p>\n",
       "</div>"
      ],
      "text/plain": [
       "                      rsi_14  minus_di_15   eng_adx  eng_atr_div    adx_14  \\\n",
       "2004-01-02 13:09:00  0.00000     0.000000  0.000000     0.000279  0.625459   \n",
       "2004-01-02 13:10:00  0.00000     0.000000  0.000000     0.000310  0.625379   \n",
       "2004-01-02 13:11:00  0.00000     0.000000  0.000000     0.000341  0.625318   \n",
       "2004-01-02 13:12:00  0.00000     0.000000  0.000000     0.000341  0.625263   \n",
       "2004-01-02 13:13:00  0.00000     0.000000  0.000000     0.000341  0.625227   \n",
       "...                      ...          ...       ...          ...       ...   \n",
       "2025-06-18 20:56:00  0.67217     0.024691  0.023121     0.024910  0.635234   \n",
       "2025-06-18 20:57:00  0.61669     0.024691  0.023121     0.025902  0.629672   \n",
       "2025-06-18 20:58:00  0.61473     0.030864  0.023121     0.025499  0.628744   \n",
       "2025-06-18 20:59:00  0.47540     0.030864  0.023121     0.031509  0.616953   \n",
       "2025-06-18 21:00:00  0.55174     0.030864  0.023121     0.033399  0.628481   \n",
       "\n",
       "                     sma_100  vol_spike_14  macd_line_12_26_9   sma_20  \\\n",
       "2004-01-02 13:09:00  0.00000      0.528843            0.00000  0.00000   \n",
       "2004-01-02 13:10:00  0.00000      0.528775            0.00000  0.00000   \n",
       "2004-01-02 13:11:00  0.00000      0.528707            0.00000  0.00000   \n",
       "2004-01-02 13:12:00  0.00000      0.528641            0.00000  0.00000   \n",
       "2004-01-02 13:13:00  0.00000      0.528573            0.00000  0.00000   \n",
       "...                      ...           ...                ...      ...   \n",
       "2025-06-18 20:56:00  0.73661      0.541606            0.36312  0.66709   \n",
       "2025-06-18 20:57:00  0.58962      0.542649            0.34721  0.61512   \n",
       "2025-06-18 20:58:00  0.58091      0.545497            0.33627  0.61329   \n",
       "2025-06-18 20:59:00  0.17135      0.538547            0.29058  0.48143   \n",
       "2025-06-18 21:00:00  0.45709      0.540908            0.24973  0.55324   \n",
       "\n",
       "                            bid         ask    signal  \n",
       "2004-01-02 13:09:00    0.763664    0.764807  0.021536  \n",
       "2004-01-02 13:10:00    0.763647    0.764790  0.023284  \n",
       "2004-01-02 13:11:00    0.763631    0.764773  0.025175  \n",
       "2004-01-02 13:12:00    0.763614    0.764757  0.027222  \n",
       "2004-01-02 13:13:00    0.763597    0.764740  0.029436  \n",
       "...                         ...         ...       ...  \n",
       "2025-06-18 20:56:00  196.667400  196.962600  0.684908  \n",
       "2025-06-18 20:57:00  196.527500  196.822500  0.612206  \n",
       "2025-06-18 20:58:00  196.522500  196.817500  0.610468  \n",
       "2025-06-18 20:59:00  196.092800  196.387200  0.477090  \n",
       "2025-06-18 21:00:00  196.392600  196.687400  0.350968  \n",
       "\n",
       "[3591238 rows x 12 columns]"
      ]
     },
     "execution_count": 3,
     "metadata": {},
     "output_type": "execute_result"
    }
   ],
   "source": [
    "df_feat_sel = pd.read_csv(params.feat_all_csv, index_col=0, parse_dates=True)[params.features_cols_tick + ['bid','ask'] + [params.label_col]]\n",
    "    \n",
    "df_feat_sel"
   ]
  },
  {
   "cell_type": "code",
   "execution_count": 4,
   "id": "b805fa9c",
   "metadata": {},
   "outputs": [
    {
     "name": "stdout",
     "output_type": "stream",
     "text": [
      "Inside build_lstm_tensors, using: ['rsi_14', 'minus_di_15', 'eng_adx', 'eng_atr_div', 'adx_14', 'sma_100', 'vol_spike_14', 'macd_line_12_26_9', 'sma_20']\n"
     ]
    },
    {
     "data": {
      "application/vnd.jupyter.widget-view+json": {
       "model_id": "024d75eee817486090d1f5f980ed241e",
       "version_major": 2,
       "version_minor": 0
      },
      "text/plain": [
       "Counting windows:   0%|          | 0/5400 [00:00<?, ?it/s]"
      ]
     },
     "metadata": {},
     "output_type": "display_data"
    },
    {
     "data": {
      "application/vnd.jupyter.widget-view+json": {
       "model_id": "8f7fa95c4b3a4892abfb4d27d4ab29dc",
       "version_major": 2,
       "version_minor": 0
      },
      "text/plain": [
       "Writing memmaps:   0%|          | 0/5400 [00:00<?, ?it/s]"
      ]
     },
     "metadata": {},
     "output_type": "display_data"
    },
    {
     "name": "stdout",
     "output_type": "stream",
     "text": [
      "Shapes:\n",
      "  X         = torch.Size([2419779, 60, 9]) (samples, look_back, features)\n",
      "  y_sig     = torch.Size([2419779]) (samples,)\n",
      "  y_ret     = torch.Size([2419779]) (samples,)\n",
      "  raw_close = torch.Size([2419779])\n",
      "  raw_bid   = torch.Size([2419779])\n",
      "  raw_ask   = torch.Size([2419779])\n",
      "  end_times = (2419779,)\n"
     ]
    }
   ],
   "source": [
    "# Build LSTM input tensors (disk-backed memmaps)\n",
    "X, y_sig, y_ret, raw_close, raw_bid, raw_ask, end_times = models.build_lstm_tensors(\n",
    "    df            = df_feat_sel,\n",
    "    sess_start    = params.sess_start_pred_tick \n",
    ")\n",
    "\n",
    "# quick shapes\n",
    "print(\"Shapes:\")\n",
    "print(\"  X         =\", X.shape,    \"(samples, look_back, features)\")\n",
    "print(\"  y_sig     =\", y_sig.shape, \"(samples,)\")\n",
    "print(\"  y_ret     =\", y_ret.shape, \"(samples,)\")\n",
    "print(\"  raw_close =\", raw_close.shape)\n",
    "print(\"  raw_bid   =\", raw_bid.shape)\n",
    "print(\"  raw_ask   =\", raw_ask.shape)\n",
    "print(\"  end_times =\", end_times.shape)\n"
   ]
  },
  {
   "cell_type": "code",
   "execution_count": 5,
   "id": "7b4f1ac4",
   "metadata": {},
   "outputs": [
    {
     "name": "stdout",
     "output_type": "stream",
     "text": [
      "Shapes:\n",
      "  X_tr  = torch.Size([1716386, 60, 9])\n",
      "  y_sig_tr, y_ret_tr = torch.Size([1716386]) torch.Size([1716386])\n",
      "  X_val = torch.Size([338701, 60, 9])\n",
      "  y_sig_val, y_ret_val = torch.Size([338701]) torch.Size([338701])\n",
      "  X_te  = torch.Size([364692, 60, 9])\n",
      "  y_sig_te, y_ret_te = torch.Size([364692]) torch.Size([364692])\n"
     ]
    }
   ],
   "source": [
    "# Split into train/val/test by calendar day\n",
    "(\n",
    "(X_tr,  y_sig_tr,  y_ret_tr),\n",
    "(X_val, y_sig_val, y_ret_val),\n",
    "(X_te,  y_sig_te,  y_ret_te,  raw_close_te, raw_bid_te, raw_ask_te),\n",
    "samples_per_day,\n",
    "day_id_tr, day_id_val, day_id_te\n",
    ") = models.chronological_split(\n",
    "    X, y_sig, y_ret,\n",
    "    raw_close, raw_bid, raw_ask,\n",
    "    end_times   = end_times,\n",
    "    train_prop  = params.train_prop,\n",
    "    val_prop    = params.val_prop,\n",
    "    train_batch = params.hparams['TRAIN_BATCH']\n",
    ")\n",
    "\n",
    "# Print shapes of all tensors\n",
    "print(\"Shapes:\")\n",
    "print(\"  X_tr  =\", X_tr.shape)\n",
    "print(\"  y_sig_tr, y_ret_tr =\", y_sig_tr.shape, y_ret_tr.shape)\n",
    "print(\"  X_val =\", X_val.shape)\n",
    "print(\"  y_sig_val, y_ret_val =\", y_sig_val.shape, y_ret_val.shape)\n",
    "print(\"  X_te  =\", X_te.shape)\n",
    "print(\"  y_sig_te, y_ret_te =\", y_sig_te.shape, y_ret_te.shape)\n"
   ]
  },
  {
   "cell_type": "code",
   "execution_count": 6,
   "id": "1ad9b6c4-3d79-45c0-b2c0-c4f46f1ad866",
   "metadata": {},
   "outputs": [
    {
     "data": {
      "application/vnd.jupyter.widget-view+json": {
       "model_id": "e73bdd7c1c1e438cba3263c7a2daf648",
       "version_major": 2,
       "version_minor": 0
      },
      "text/plain": [
       "Creating DayWindowDatasets:   0%|          | 0/3 [00:00<?, ?split/s]"
      ]
     },
     "metadata": {},
     "output_type": "display_data"
    },
    {
     "name": "stdout",
     "output_type": "stream",
     "text": [
      "Days  → train=3840, val=751, test=809\n",
      "Batches → train=60,   val=751,   test=809\n"
     ]
    }
   ],
   "source": [
    "# carve `end_times` into the same three splits:\n",
    "n_tr  = day_id_tr .shape[0] \n",
    "n_val = day_id_val.shape[0]\n",
    "i_tr  = n_tr\n",
    "i_val = n_tr + n_val\n",
    "\n",
    "end_times_tr  = end_times[:i_tr]\n",
    "end_times_val = end_times[i_tr:i_val]\n",
    "end_times_te  = end_times[i_val:]\n",
    "\n",
    "# -----------------------------------------------------------------------------\n",
    "#  Build DataLoaders over calendar‐days\n",
    "# -----------------------------------------------------------------------------\n",
    "train_loader, val_loader, test_loader = models.split_to_day_datasets(\n",
    "    # train split:   \n",
    "    X_tr,            y_sig_tr,     y_ret_tr,   end_times_tr,\n",
    "    # val split:\n",
    "    X_val,           y_sig_val,    y_ret_val,  end_times_val,\n",
    "    # test split + raw‐prices\n",
    "    X_te,            y_sig_te,     y_ret_te,   end_times_te,\n",
    "    raw_close_te, raw_bid_te, raw_ask_te,\n",
    "    \n",
    "    sess_start_time       = params.sess_start_pred_tick,\n",
    "    signal_thresh         = params.best_optuna_params[\"buy_threshold\"],\n",
    "    return_thresh         = 0.01,  # flat‐zone threshold for returns (to tune)\n",
    "    train_batch           = params.hparams[\"TRAIN_BATCH\"],\n",
    "    train_workers         = params.hparams[\"NUM_WORKERS\"],\n",
    "    train_prefetch_factor = params.hparams[\"TRAIN_PREFETCH_FACTOR\"]\n",
    ")\n",
    "\n",
    "print(f\"Days  → train={len(train_loader.dataset)}, val={len(val_loader.dataset)}, test={len(test_loader.dataset)}\")\n",
    "print(f\"Batches → train={len(train_loader)},   val={len(val_loader)},   test={len(test_loader)}\")"
   ]
  },
  {
   "cell_type": "code",
   "execution_count": 7,
   "id": "eeec031f-6c8f-455f-9c72-ae411e03ba34",
   "metadata": {},
   "outputs": [
    {
     "data": {
      "text/plain": [
       "DualMemoryLSTM(\n",
       "  (conv): Conv1d(9, 9, kernel_size=(3,), stride=(1,), padding=(1,))\n",
       "  (short_lstm): LSTM(9, 48, batch_first=True, bidirectional=True)\n",
       "  (attn): MultiheadAttention(\n",
       "    (out_proj): NonDynamicallyQuantizableLinear(in_features=96, out_features=96, bias=True)\n",
       "  )\n",
       "  (do_short): Dropout(p=0.15, inplace=False)\n",
       "  (ln_short): LayerNorm((96,), eps=1e-05, elementwise_affine=True)\n",
       "  (long_lstm): LSTM(96, 64, batch_first=True, bidirectional=True)\n",
       "  (do_long): Dropout(p=0.15, inplace=False)\n",
       "  (ln_long): LayerNorm((128,), eps=1e-05, elementwise_affine=True)\n",
       "  (pred): Linear(in_features=128, out_features=1, bias=True)\n",
       "  (cls_head): Linear(in_features=128, out_features=1, bias=True)\n",
       "  (cls_ter): Linear(in_features=128, out_features=3, bias=True)\n",
       ")"
      ]
     },
     "execution_count": 7,
     "metadata": {},
     "output_type": "execute_result"
    }
   ],
   "source": [
    "# -----------------------------------------------------------------------------\n",
    "# Instantiate the stateful DualMemoryLSTM & move to device\n",
    "# -----------------------------------------------------------------------------\n",
    "model = models.DualMemoryLSTM(\n",
    "    n_feats        = X.shape[-1],                          \n",
    "    short_units    = params.hparams['SHORT_UNITS'],    \n",
    "    long_units     = params.hparams['LONG_UNITS'],     \n",
    "    dropout_short  = params.hparams['DROPOUT_SHORT'],  \n",
    "    dropout_long   = params.hparams['DROPOUT_LONG'],   \n",
    "    att_heads      = params.hparams['ATT_HEADS'],\n",
    "    att_drop       = params.hparams['ATT_DROPOUT']\n",
    ")\n",
    "model.to(params.device)  \n",
    "\n",
    "model"
   ]
  },
  {
   "cell_type": "code",
   "execution_count": 8,
   "id": "5512a0dd-d2c8-418e-bfca-4580fb4be995",
   "metadata": {},
   "outputs": [
    {
     "data": {
      "text/plain": [
       "AdamW (\n",
       "Parameter Group 0\n",
       "    amsgrad: False\n",
       "    betas: (0.9, 0.999)\n",
       "    capturable: False\n",
       "    decoupled_weight_decay: True\n",
       "    differentiable: False\n",
       "    eps: 1e-08\n",
       "    foreach: None\n",
       "    fused: None\n",
       "    initial_lr: 7e-05\n",
       "    lr: 7e-05\n",
       "    maximize: False\n",
       "    weight_decay: 0.001\n",
       ")"
      ]
     },
     "execution_count": 8,
     "metadata": {},
     "output_type": "execute_result"
    }
   ],
   "source": [
    "# -----------------------------------------------------------------------------\n",
    "# Build optimizer, LR scheduler, AMP scaler, and gradient‐clip norm\n",
    "# -----------------------------------------------------------------------------\n",
    "optimizer, plateau_sched, cosine_sched, scaler, clipnorm = models.make_optimizer_and_scheduler(\n",
    "    model,\n",
    "    initial_lr        = params.hparams['INITIAL_LR'],       \n",
    "    weight_decay      = params.hparams['WEIGHT_DECAY'],     \n",
    "    clipnorm          = params.hparams['CLIPNORM']   \n",
    ")\n",
    "\n",
    "optimizer"
   ]
  },
  {
   "cell_type": "code",
   "execution_count": 9,
   "id": "e9c5fc27-f31d-4adc-a247-5468674f83fc",
   "metadata": {},
   "outputs": [
    {
     "name": "stdout",
     "output_type": "stream",
     "text": [
      "Zero‐forecast RMSE (predict 0): train = 0.404006,  val = 0.409382\n",
      "\n",
      "Train target stats:\n",
      "  mean = 0.2811,  var = 0.0842,  std = 0.2901\n",
      "Train mean‐predictor baseline:\n",
      "  RMSE_baseline = 0.290139\n",
      "  R²_baseline   = 0.00\n",
      "\n",
      "Validation target stats:\n",
      "  mean = 0.2919,  var = 0.0824,  std = 0.2870\n",
      "Validation mean‐predictor baseline:\n",
      "  RMSE_baseline = 0.287012\n",
      "  R²_baseline   = 0.00\n",
      "\n"
     ]
    }
   ],
   "source": [
    "# -----------------------------------------------------------------------------\n",
    "# Helper: extract the true “signal” values from any loader into a flat array\n",
    "# -----------------------------------------------------------------------------\n",
    "def extract_y(loader):\n",
    "    return np.concatenate([batch[1].cpu().numpy().ravel() for batch in loader])\n",
    "\n",
    "# Pull out train & validation targets\n",
    "y_train = extract_y(train_loader)\n",
    "y_val   = extract_y(val_loader)\n",
    "\n",
    "# -----------------------------------------------------------------------------\n",
    "# 1) Zero‐forecast baseline RMSE (predict 0 always)\n",
    "#    RMSE_zero = √(mean(y²))\n",
    "# -----------------------------------------------------------------------------\n",
    "rmse_zero_train = np.sqrt(np.mean(y_train**2))\n",
    "rmse_zero_val   = np.sqrt(np.mean(y_val**2))\n",
    "print(f\"Zero‐forecast RMSE (predict 0): train = {rmse_zero_train:.6f},  val = {rmse_zero_val:.6f}\\n\")\n",
    "\n",
    "# -----------------------------------------------------------------------------\n",
    "# 2) Compute mean, variance & std for train/validation targets\n",
    "#    and derive the mean‐predictor baseline (R² = 0)\n",
    "# -----------------------------------------------------------------------------\n",
    "for split, y in [(\"Train\", y_train), (\"Validation\", y_val)]:\n",
    "    mean_y    = y.mean()\n",
    "    std_y     = y.std(ddof=0)     # population std = √variance\n",
    "    var_y     = std_y**2\n",
    "    rmse_mean = std_y            # RMSE_baseline = std(target)\n",
    "\n",
    "    print(f\"{split} target stats:\")\n",
    "    print(f\"  mean = {mean_y:.4f},  var = {var_y:.4f},  std = {std_y:.4f}\")\n",
    "    print(f\"{split} mean‐predictor baseline:\")\n",
    "    print(f\"  RMSE_baseline = {rmse_mean:.6f}\")\n",
    "    print(\"  R²_baseline   = 0.00\\n\")\n",
    "\n",
    "    if split == \"Validation\":\n",
    "        rmse_mean_val = rmse_mean # used afterwards for the final reporting\n",
    "        \n"
   ]
  },
  {
   "cell_type": "code",
   "execution_count": 10,
   "id": "a8f7ec8c-5882-486b-bdfd-371b8db260f9",
   "metadata": {},
   "outputs": [
    {
     "data": {
      "image/png": "[encoded data removed]",
      "text/plain": [
       "<Figure size 640x480 with 1 Axes>"
      ]
     },
     "metadata": {},
     "output_type": "display_data"
    }
   ],
   "source": [
    "# Visualize the true‐signal distributions on train vs. validation\n",
    "plt.hist(y_train, bins=100, alpha=0.5, label=\"train true\")\n",
    "plt.hist(y_val,   bins=100, alpha=0.5, label=\"val true\")\n",
    "plt.xlabel(\"Signal value\")\n",
    "plt.ylabel(\"Count\")\n",
    "plt.title(\"True Signal Distribution: Train vs. Validation\")\n",
    "plt.legend()\n",
    "plt.tight_layout()\n",
    "plt.show()\n"
   ]
  },
  {
   "cell_type": "code",
   "execution_count": 11,
   "id": "7bf94780-a876-4bf4-ad27-6abc2da1fc0a",
   "metadata": {},
   "outputs": [
    {
     "name": "stdout",
     "output_type": "stream",
     "text": [
      "Training sees 3840 unique trading days per epoch.\n",
      "\n"
     ]
    },
    {
     "data": {
      "image/png": "[encoded data removed]",
      "text/plain": [
       "<Figure size 660x440 with 1 Axes>"
      ]
     },
     "metadata": {},
     "output_type": "display_data"
    },
    {
     "data": {
      "application/vnd.jupyter.widget-view+json": {
       "model_id": "cddae55bd16343adbfd834ee41676f7e",
       "version_major": 2,
       "version_minor": 0
      },
      "text/plain": [
       "Epoch 1:   0%|          | 0/60 [00:00<?, ?batch/s]"
      ]
     },
     "metadata": {},
     "output_type": "display_data"
    },
    {
     "name": "stdout",
     "output_type": "stream",
     "text": [
      "Epoch 001\n",
      "TRAIN→ \"R\": RMSE=0.2945 MAE=0.2307 R2=-0.0298 | \"B\": Acc=0.7023 Prec=0.2809 Rec=0.0488 F1=0.0832 AUROC=0.5011\n",
      "VALID→ \"R\": RMSE=0.3038 MAE=0.2067 R2=-0.1207 | \"B\": Acc=0.7127 Prec=0.0000 Rec=0.0000 F1=0.0000 AUROC=0.5915\n"
     ]
    },
    {
     "data": {
      "application/vnd.jupyter.widget-view+json": {
       "model_id": "1eae56a34c904a07b41cec885b83f5bb",
       "version_major": 2,
       "version_minor": 0
      },
      "text/plain": [
       "Epoch 2:   0%|          | 0/60 [00:00<?, ?batch/s]"
      ]
     },
     "metadata": {},
     "output_type": "display_data"
    },
    {
     "name": "stdout",
     "output_type": "stream",
     "text": [
      "Epoch 002\n",
      "TRAIN→ \"R\": RMSE=0.2937 MAE=0.2316 R2=-0.0246 | \"B\": Acc=0.6856 Prec=0.3008 Rec=0.1031 F1=0.1535 AUROC=0.5188\n",
      "VALID→ \"R\": RMSE=0.2981 MAE=0.2050 R2=-0.0784 | \"B\": Acc=0.7127 Prec=0.0000 Rec=0.0000 F1=0.0000 AUROC=0.5999\n"
     ]
    },
    {
     "data": {
      "application/vnd.jupyter.widget-view+json": {
       "model_id": "d3a034e8549f4febaed7fd59091a2388",
       "version_major": 2,
       "version_minor": 0
      },
      "text/plain": [
       "Epoch 3:   0%|          | 0/60 [00:00<?, ?batch/s]"
      ]
     },
     "metadata": {},
     "output_type": "display_data"
    },
    {
     "name": "stdout",
     "output_type": "stream",
     "text": [
      "Epoch 003\n",
      "TRAIN→ \"R\": RMSE=0.2913 MAE=0.2319 R2=-0.0075 | \"B\": Acc=0.6630 Prec=0.2938 Rec=0.1554 F1=0.2033 AUROC=0.5138\n",
      "VALID→ \"R\": RMSE=0.3009 MAE=0.2040 R2=-0.0991 | \"B\": Acc=0.7127 Prec=0.0000 Rec=0.0000 F1=0.0000 AUROC=0.6036\n"
     ]
    },
    {
     "data": {
      "application/vnd.jupyter.widget-view+json": {
       "model_id": "0a0ab4f9e4ed41f8890e03ef097feba5",
       "version_major": 2,
       "version_minor": 0
      },
      "text/plain": [
       "Epoch 4:   0%|          | 0/60 [00:00<?, ?batch/s]"
      ]
     },
     "metadata": {},
     "output_type": "display_data"
    },
    {
     "name": "stdout",
     "output_type": "stream",
     "text": [
      "Epoch 004\n",
      "TRAIN→ \"R\": RMSE=0.2919 MAE=0.2317 R2=-0.0117 | \"B\": Acc=0.6749 Prec=0.2934 Rec=0.1245 F1=0.1748 AUROC=0.5148\n",
      "VALID→ \"R\": RMSE=0.2985 MAE=0.2026 R2=-0.0814 | \"B\": Acc=0.7127 Prec=0.0000 Rec=0.0000 F1=0.0000 AUROC=0.6083\n"
     ]
    },
    {
     "data": {
      "application/vnd.jupyter.widget-view+json": {
       "model_id": "f2d9b5aeb1c24d95869db4b65b35de8f",
       "version_major": 2,
       "version_minor": 0
      },
      "text/plain": [
       "Epoch 5:   0%|          | 0/60 [00:00<?, ?batch/s]"
      ]
     },
     "metadata": {},
     "output_type": "display_data"
    },
    {
     "name": "stdout",
     "output_type": "stream",
     "text": [
      "Epoch 005\n",
      "TRAIN→ \"R\": RMSE=0.2896 MAE=0.2300 R2=0.0038 | \"B\": Acc=0.6723 Prec=0.2957 Rec=0.1335 F1=0.1840 AUROC=0.5158\n",
      "VALID→ \"R\": RMSE=0.2981 MAE=0.2017 R2=-0.0786 | \"B\": Acc=0.7127 Prec=0.0000 Rec=0.0000 F1=0.0000 AUROC=0.6084\n"
     ]
    },
    {
     "data": {
      "application/vnd.jupyter.widget-view+json": {
       "model_id": "e8c0949473264a209278e99d4254ea2c",
       "version_major": 2,
       "version_minor": 0
      },
      "text/plain": [
       "Epoch 6:   0%|          | 0/60 [00:00<?, ?batch/s]"
      ]
     },
     "metadata": {},
     "output_type": "display_data"
    },
    {
     "name": "stdout",
     "output_type": "stream",
     "text": [
      "Epoch 006\n",
      "TRAIN→ \"R\": RMSE=0.2886 MAE=0.2281 R2=0.0113 | \"B\": Acc=0.6803 Prec=0.2898 Rec=0.1074 F1=0.1568 AUROC=0.5101\n",
      "VALID→ \"R\": RMSE=0.2964 MAE=0.2010 R2=-0.0667 | \"B\": Acc=0.7127 Prec=0.0000 Rec=0.0000 F1=0.0000 AUROC=0.6086\n"
     ]
    },
    {
     "data": {
      "application/vnd.jupyter.widget-view+json": {
       "model_id": "fb3f467dace94be2896bb9bce8d569a4",
       "version_major": 2,
       "version_minor": 0
      },
      "text/plain": [
       "Epoch 7:   0%|          | 0/60 [00:00<?, ?batch/s]"
      ]
     },
     "metadata": {},
     "output_type": "display_data"
    },
    {
     "name": "stdout",
     "output_type": "stream",
     "text": [
      "Epoch 007\n",
      "TRAIN→ \"R\": RMSE=0.2876 MAE=0.2274 R2=0.0177 | \"B\": Acc=0.6875 Prec=0.2976 Rec=0.0953 F1=0.1443 AUROC=0.5132\n",
      "VALID→ \"R\": RMSE=0.2960 MAE=0.2005 R2=-0.0634 | \"B\": Acc=0.7127 Prec=0.0000 Rec=0.0000 F1=0.0000 AUROC=0.6084\n"
     ]
    },
    {
     "data": {
      "application/vnd.jupyter.widget-view+json": {
       "model_id": "83b4226a545647e7898dd1b0ad547852",
       "version_major": 2,
       "version_minor": 0
      },
      "text/plain": [
       "Epoch 8:   0%|          | 0/60 [00:00<?, ?batch/s]"
      ]
     },
     "metadata": {},
     "output_type": "display_data"
    },
    {
     "name": "stdout",
     "output_type": "stream",
     "text": [
      "Epoch 008\n",
      "TRAIN→ \"R\": RMSE=0.2869 MAE=0.2266 R2=0.0228 | \"B\": Acc=0.6909 Prec=0.2925 Rec=0.0827 F1=0.1290 AUROC=0.5113\n",
      "VALID→ \"R\": RMSE=0.2956 MAE=0.2000 R2=-0.0606 | \"B\": Acc=0.7127 Prec=0.0000 Rec=0.0000 F1=0.0000 AUROC=0.6259\n"
     ]
    },
    {
     "data": {
      "application/vnd.jupyter.widget-view+json": {
       "model_id": "5ac0e0a5b034434a9125bb5b48de6042",
       "version_major": 2,
       "version_minor": 0
      },
      "text/plain": [
       "Epoch 9:   0%|          | 0/60 [00:00<?, ?batch/s]"
      ]
     },
     "metadata": {},
     "output_type": "display_data"
    },
    {
     "name": "stdout",
     "output_type": "stream",
     "text": [
      "Epoch 009\n",
      "TRAIN→ \"R\": RMSE=0.2874 MAE=0.2285 R2=0.0190 | \"B\": Acc=0.6916 Prec=0.2988 Rec=0.0852 F1=0.1326 AUROC=0.5157\n",
      "VALID→ \"R\": RMSE=0.2984 MAE=0.2001 R2=-0.0811 | \"B\": Acc=0.7127 Prec=0.0000 Rec=0.0000 F1=0.0000 AUROC=0.6355\n"
     ]
    },
    {
     "data": {
      "application/vnd.jupyter.widget-view+json": {
       "model_id": "89a6b1335dee4fc5bee548dfc86740a2",
       "version_major": 2,
       "version_minor": 0
      },
      "text/plain": [
       "Epoch 10:   0%|          | 0/60 [00:00<?, ?batch/s]"
      ]
     },
     "metadata": {},
     "output_type": "display_data"
    },
    {
     "name": "stdout",
     "output_type": "stream",
     "text": [
      "Epoch 010\n",
      "TRAIN→ \"R\": RMSE=0.2887 MAE=0.2282 R2=0.0104 | \"B\": Acc=0.6941 Prec=0.3059 Rec=0.0833 F1=0.1309 AUROC=0.5208\n",
      "VALID→ \"R\": RMSE=0.3008 MAE=0.2003 R2=-0.0981 | \"B\": Acc=0.7127 Prec=0.0000 Rec=0.0000 F1=0.0000 AUROC=0.6347\n"
     ]
    },
    {
     "data": {
      "application/vnd.jupyter.widget-view+json": {
       "model_id": "2649f243a80b4d89b6abd4eb284ec5ea",
       "version_major": 2,
       "version_minor": 0
      },
      "text/plain": [
       "Epoch 11:   0%|          | 0/60 [00:00<?, ?batch/s]"
      ]
     },
     "metadata": {},
     "output_type": "display_data"
    },
    {
     "name": "stdout",
     "output_type": "stream",
     "text": [
      "Epoch 011\n",
      "TRAIN→ \"R\": RMSE=0.2882 MAE=0.2260 R2=0.0139 | \"B\": Acc=0.6968 Prec=0.3055 Rec=0.0755 F1=0.1211 AUROC=0.5215\n",
      "VALID→ \"R\": RMSE=0.3005 MAE=0.2000 R2=-0.0960 | \"B\": Acc=0.7127 Prec=0.0000 Rec=0.0000 F1=0.0000 AUROC=0.6335\n"
     ]
    },
    {
     "data": {
      "application/vnd.jupyter.widget-view+json": {
       "model_id": "db4c0c441de6477ba505f8daeb723108",
       "version_major": 2,
       "version_minor": 0
      },
      "text/plain": [
       "Epoch 12:   0%|          | 0/60 [00:00<?, ?batch/s]"
      ]
     },
     "metadata": {},
     "output_type": "display_data"
    },
    {
     "name": "stdout",
     "output_type": "stream",
     "text": [
      "Epoch 012\n",
      "TRAIN→ \"R\": RMSE=0.2882 MAE=0.2257 R2=0.0138 | \"B\": Acc=0.7001 Prec=0.3124 Rec=0.0701 F1=0.1146 AUROC=0.5226\n",
      "VALID→ \"R\": RMSE=0.3003 MAE=0.1997 R2=-0.0950 | \"B\": Acc=0.7127 Prec=0.0000 Rec=0.0000 F1=0.0000 AUROC=0.6351\n"
     ]
    },
    {
     "data": {
      "application/vnd.jupyter.widget-view+json": {
       "model_id": "edbda532229e4a3a8c43c4a1d281c53d",
       "version_major": 2,
       "version_minor": 0
      },
      "text/plain": [
       "Epoch 13:   0%|          | 0/60 [00:00<?, ?batch/s]"
      ]
     },
     "metadata": {},
     "output_type": "display_data"
    },
    {
     "name": "stdout",
     "output_type": "stream",
     "text": [
      "Epoch 013\n",
      "TRAIN→ \"R\": RMSE=0.2869 MAE=0.2242 R2=0.0226 | \"B\": Acc=0.6975 Prec=0.3112 Rec=0.0770 F1=0.1235 AUROC=0.5243\n",
      "VALID→ \"R\": RMSE=0.2996 MAE=0.1993 R2=-0.0898 | \"B\": Acc=0.7127 Prec=0.0000 Rec=0.0000 F1=0.0000 AUROC=0.6358\n"
     ]
    },
    {
     "data": {
      "application/vnd.jupyter.widget-view+json": {
       "model_id": "e767c12bf9fe4987a49690ff60496e56",
       "version_major": 2,
       "version_minor": 0
      },
      "text/plain": [
       "Epoch 14:   0%|          | 0/60 [00:00<?, ?batch/s]"
      ]
     },
     "metadata": {},
     "output_type": "display_data"
    },
    {
     "name": "stdout",
     "output_type": "stream",
     "text": [
      "Epoch 014\n",
      "TRAIN→ \"R\": RMSE=0.2889 MAE=0.2271 R2=0.0093 | \"B\": Acc=0.7023 Prec=0.3142 Rec=0.0646 F1=0.1071 AUROC=0.5244\n",
      "VALID→ \"R\": RMSE=0.3034 MAE=0.2004 R2=-0.1178 | \"B\": Acc=0.7127 Prec=0.0000 Rec=0.0000 F1=0.0000 AUROC=0.6250\n",
      "Early stopping at epoch 14\n",
      "\n",
      "Champion validation RMSE = 0.295576\n",
      "Improvement over zero‐baseline =  27.8%\n",
      "Improvement over mean‐baseline =  -3.0%\n"
     ]
    },
    {
     "data": {
      "image/png": "[encoded data removed]",
      "text/plain": [
       "<Figure size 660x440 with 1 Axes>"
      ]
     },
     "metadata": {},
     "output_type": "display_data"
    }
   ],
   "source": [
    "# How many unique trading days does each epoch see?\n",
    "n_days = len(train_loader.dataset)\n",
    "print(f\"Training sees {n_days} unique trading days per epoch.\\n\")\n",
    "\n",
    "# -----------------------------------------------------------------------------\n",
    "# Run the custom stateful training loop\n",
    "# -----------------------------------------------------------------------------\n",
    "best_val_rmse  = models.custom_stateful_training_loop(\n",
    "    model               = model,\n",
    "    optimizer           = optimizer,\n",
    "    cosine_sched        = cosine_sched,\n",
    "    plateau_sched       = plateau_sched,\n",
    "    scaler              = scaler,\n",
    "    train_loader        = train_loader,\n",
    "    val_loader          = val_loader,\n",
    "    max_epochs          = params.hparams['MAX_EPOCHS'],\n",
    "    early_stop_patience = params.hparams['EARLY_STOP_PATIENCE'],\n",
    "    clipnorm            = clipnorm,\n",
    "    device              = params.device\n",
    ")\n",
    "\n",
    "# -----------------------------------------------------------------------------\n",
    "# Final reporting: best RMSE and relative improvement\n",
    "# -----------------------------------------------------------------------------\n",
    "print(f\"\\nChampion validation RMSE = {best_val_rmse:.6f}\")\n",
    "\n",
    "improvement_zero = 100.0 * (1.0 - best_val_rmse / rmse_zero_val)\n",
    "print(f\"Improvement over zero‐baseline = {improvement_zero:5.1f}%\")\n",
    "\n",
    "improvement_mean = 100.0 * (1.0 - best_val_rmse / rmse_mean_val)\n",
    "print(f\"Improvement over mean‐baseline = {improvement_mean:5.1f}%\")\n",
    "\n"
   ]
  },
  {
   "cell_type": "code",
   "execution_count": null,
   "id": "22b25c89-05c3-4a16-b013-97143f173e08",
   "metadata": {},
   "outputs": [],
   "source": []
  },
  {
   "cell_type": "code",
   "execution_count": null,
   "id": "5935ccf4-d4ec-44de-827b-b520c8e76561",
   "metadata": {},
   "outputs": [],
   "source": []
  }
 ],
 "metadata": {
  "kernelspec": {
   "display_name": "Python 3 (ipykernel)",
   "language": "python",
   "name": "python3"
  },
  "language_info": {
   "codemirror_mode": {
    "name": "ipython",
    "version": 3
   },
   "file_extension": ".py",
   "mimetype": "text/x-python",
   "name": "python",
   "nbconvert_exporter": "python",
   "pygments_lexer": "ipython3",
   "version": "3.12.3"
  }
 },
 "nbformat": 4,
 "nbformat_minor": 5
}
