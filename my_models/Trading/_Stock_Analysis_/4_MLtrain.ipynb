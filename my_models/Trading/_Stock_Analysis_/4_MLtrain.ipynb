{
 "cells": [
  {
   "cell_type": "code",
   "execution_count": 1,
   "id": "73f06a4f-691a-4a84-a305-e7212eb879bf",
   "metadata": {},
   "outputs": [],
   "source": [
    "# %matplotlib widget\n",
    "%matplotlib inline"
   ]
  },
  {
   "cell_type": "code",
   "execution_count": 2,
   "id": "4c868158-e6bb-4d56-bbdd-8e8103f0b9e4",
   "metadata": {},
   "outputs": [],
   "source": [
    "# 1) Wipe out all Python variables\n",
    "%reset -f\n",
    "# 2) Force Python’s garbage collector to run\n",
    "import gc\n",
    "gc.collect()\n",
    "\n",
    "import importlib\n",
    "from libs import trades, plots, params, models\n",
    "importlib.reload(trades)\n",
    "importlib.reload(plots)\n",
    "importlib.reload(params)\n",
    "importlib.reload(models)\n",
    "\n",
    "import pandas as pd\n",
    "pd.set_option('display.max_columns', None)\n",
    "\n",
    "import numpy  as np\n",
    "import math\n",
    "import matplotlib.pyplot as plt\n",
    "\n",
    "import datetime as dt\n",
    "import os\n",
    "from typing import Sequence, List, Tuple, Optional, Union\n",
    "\n",
    "import torch\n",
    "import torch.nn as nn\n",
    "import torch.nn.functional as Funct\n",
    "from torch_lr_finder import LRFinder\n",
    "from torch.utils.data import DataLoader, TensorDataset\n",
    "\n",
    "from tqdm import tqdm"
   ]
  },
  {
   "cell_type": "code",
   "execution_count": 3,
   "id": "7b98406a",
   "metadata": {},
   "outputs": [
    {
     "data": {
      "text/html": [
       "<div>\n",
       "<style scoped>\n",
       "    .dataframe tbody tr th:only-of-type {\n",
       "        vertical-align: middle;\n",
       "    }\n",
       "\n",
       "    .dataframe tbody tr th {\n",
       "        vertical-align: top;\n",
       "    }\n",
       "\n",
       "    .dataframe thead th {\n",
       "        text-align: right;\n",
       "    }\n",
       "</style>\n",
       "<table border=\"1\" class=\"dataframe\">\n",
       "  <thead>\n",
       "    <tr style=\"text-align: right;\">\n",
       "      <th></th>\n",
       "      <th>atr_ratio</th>\n",
       "      <th>atr_ratio_sma</th>\n",
       "      <th>vol_15</th>\n",
       "      <th>bb_width_20</th>\n",
       "      <th>r_5</th>\n",
       "      <th>r_15</th>\n",
       "      <th>rsi</th>\n",
       "      <th>stoch_d_3</th>\n",
       "      <th>stoch_k_14</th>\n",
       "      <th>hour</th>\n",
       "      <th>eng_adx</th>\n",
       "      <th>eng_obv</th>\n",
       "      <th>eng_ma</th>\n",
       "      <th>bid</th>\n",
       "      <th>ask</th>\n",
       "      <th>signal</th>\n",
       "    </tr>\n",
       "  </thead>\n",
       "  <tbody>\n",
       "    <tr>\n",
       "      <th>2004-01-02 13:07:00</th>\n",
       "      <td>-0.996380</td>\n",
       "      <td>-0.987015</td>\n",
       "      <td>-1.005076</td>\n",
       "      <td>-0.943230</td>\n",
       "      <td>-0.014129</td>\n",
       "      <td>-0.009476</td>\n",
       "      <td>-2.476841</td>\n",
       "      <td>-1.585648</td>\n",
       "      <td>-1.552562</td>\n",
       "      <td>0.507</td>\n",
       "      <td>-0.027995</td>\n",
       "      <td>-0.021099</td>\n",
       "      <td>-0.001209</td>\n",
       "      <td>0.763698</td>\n",
       "      <td>0.764840</td>\n",
       "      <td>0.032891</td>\n",
       "    </tr>\n",
       "    <tr>\n",
       "      <th>2004-01-02 13:08:00</th>\n",
       "      <td>-0.994579</td>\n",
       "      <td>-0.986828</td>\n",
       "      <td>-1.001603</td>\n",
       "      <td>-0.937271</td>\n",
       "      <td>-0.027502</td>\n",
       "      <td>-0.017401</td>\n",
       "      <td>-2.476841</td>\n",
       "      <td>-1.585648</td>\n",
       "      <td>-1.552562</td>\n",
       "      <td>0.507</td>\n",
       "      <td>-0.027995</td>\n",
       "      <td>-0.029567</td>\n",
       "      <td>-0.001209</td>\n",
       "      <td>0.763681</td>\n",
       "      <td>0.764824</td>\n",
       "      <td>0.035206</td>\n",
       "    </tr>\n",
       "    <tr>\n",
       "      <th>2004-01-02 13:09:00</th>\n",
       "      <td>-0.992906</td>\n",
       "      <td>-0.986557</td>\n",
       "      <td>-0.999187</td>\n",
       "      <td>-0.930276</td>\n",
       "      <td>-0.040876</td>\n",
       "      <td>-0.025327</td>\n",
       "      <td>-2.476841</td>\n",
       "      <td>-1.585648</td>\n",
       "      <td>-1.552562</td>\n",
       "      <td>0.507</td>\n",
       "      <td>-0.027995</td>\n",
       "      <td>-0.039000</td>\n",
       "      <td>-0.001209</td>\n",
       "      <td>0.763664</td>\n",
       "      <td>0.764807</td>\n",
       "      <td>0.037683</td>\n",
       "    </tr>\n",
       "    <tr>\n",
       "      <th>2004-01-02 13:10:00</th>\n",
       "      <td>-0.991353</td>\n",
       "      <td>-0.986209</td>\n",
       "      <td>-0.997370</td>\n",
       "      <td>-0.922523</td>\n",
       "      <td>-0.054250</td>\n",
       "      <td>-0.033253</td>\n",
       "      <td>-2.476841</td>\n",
       "      <td>-1.585648</td>\n",
       "      <td>-1.552562</td>\n",
       "      <td>0.507</td>\n",
       "      <td>-0.027995</td>\n",
       "      <td>-0.049325</td>\n",
       "      <td>-0.001209</td>\n",
       "      <td>0.763647</td>\n",
       "      <td>0.764790</td>\n",
       "      <td>0.040335</td>\n",
       "    </tr>\n",
       "    <tr>\n",
       "      <th>2004-01-02 13:11:00</th>\n",
       "      <td>-0.989911</td>\n",
       "      <td>-0.985789</td>\n",
       "      <td>-0.995973</td>\n",
       "      <td>-0.914218</td>\n",
       "      <td>-0.067624</td>\n",
       "      <td>-0.041178</td>\n",
       "      <td>-2.476841</td>\n",
       "      <td>-1.585648</td>\n",
       "      <td>-1.552562</td>\n",
       "      <td>0.507</td>\n",
       "      <td>-0.027995</td>\n",
       "      <td>-0.060465</td>\n",
       "      <td>-0.001209</td>\n",
       "      <td>0.763631</td>\n",
       "      <td>0.764773</td>\n",
       "      <td>0.043173</td>\n",
       "    </tr>\n",
       "    <tr>\n",
       "      <th>...</th>\n",
       "      <td>...</td>\n",
       "      <td>...</td>\n",
       "      <td>...</td>\n",
       "      <td>...</td>\n",
       "      <td>...</td>\n",
       "      <td>...</td>\n",
       "      <td>...</td>\n",
       "      <td>...</td>\n",
       "      <td>...</td>\n",
       "      <td>...</td>\n",
       "      <td>...</td>\n",
       "      <td>...</td>\n",
       "      <td>...</td>\n",
       "      <td>...</td>\n",
       "      <td>...</td>\n",
       "      <td>...</td>\n",
       "    </tr>\n",
       "    <tr>\n",
       "      <th>2025-06-18 20:56:00</th>\n",
       "      <td>0.582507</td>\n",
       "      <td>0.182057</td>\n",
       "      <td>0.348747</td>\n",
       "      <td>0.119570</td>\n",
       "      <td>1.736669</td>\n",
       "      <td>1.315228</td>\n",
       "      <td>0.811095</td>\n",
       "      <td>0.172658</td>\n",
       "      <td>0.354296</td>\n",
       "      <td>-0.941</td>\n",
       "      <td>0.348383</td>\n",
       "      <td>0.234328</td>\n",
       "      <td>12.115664</td>\n",
       "      <td>196.667400</td>\n",
       "      <td>196.962600</td>\n",
       "      <td>0.146250</td>\n",
       "    </tr>\n",
       "    <tr>\n",
       "      <th>2025-06-18 20:57:00</th>\n",
       "      <td>0.641713</td>\n",
       "      <td>0.207647</td>\n",
       "      <td>0.391507</td>\n",
       "      <td>0.184714</td>\n",
       "      <td>0.884588</td>\n",
       "      <td>1.113128</td>\n",
       "      <td>0.539711</td>\n",
       "      <td>0.332103</td>\n",
       "      <td>0.426843</td>\n",
       "      <td>-0.941</td>\n",
       "      <td>0.447111</td>\n",
       "      <td>0.120971</td>\n",
       "      <td>12.401440</td>\n",
       "      <td>196.527500</td>\n",
       "      <td>196.822500</td>\n",
       "      <td>0.000000</td>\n",
       "    </tr>\n",
       "    <tr>\n",
       "      <th>2025-06-18 20:58:00</th>\n",
       "      <td>0.574130</td>\n",
       "      <td>0.230765</td>\n",
       "      <td>0.392142</td>\n",
       "      <td>0.238300</td>\n",
       "      <td>0.340813</td>\n",
       "      <td>0.827243</td>\n",
       "      <td>0.530165</td>\n",
       "      <td>0.396310</td>\n",
       "      <td>0.381683</td>\n",
       "      <td>-0.941</td>\n",
       "      <td>0.538824</td>\n",
       "      <td>0.000337</td>\n",
       "      <td>12.401440</td>\n",
       "      <td>196.522500</td>\n",
       "      <td>196.817500</td>\n",
       "      <td>0.013456</td>\n",
       "    </tr>\n",
       "    <tr>\n",
       "      <th>2025-06-18 20:59:00</th>\n",
       "      <td>0.695123</td>\n",
       "      <td>0.261866</td>\n",
       "      <td>0.692251</td>\n",
       "      <td>0.242399</td>\n",
       "      <td>-0.840175</td>\n",
       "      <td>-0.093724</td>\n",
       "      <td>-0.151391</td>\n",
       "      <td>0.213673</td>\n",
       "      <td>-0.182061</td>\n",
       "      <td>-0.941</td>\n",
       "      <td>0.236622</td>\n",
       "      <td>-0.445174</td>\n",
       "      <td>9.257911</td>\n",
       "      <td>196.092800</td>\n",
       "      <td>196.387200</td>\n",
       "      <td>0.013456</td>\n",
       "    </tr>\n",
       "    <tr>\n",
       "      <th>2025-06-18 21:00:00</th>\n",
       "      <td>0.828554</td>\n",
       "      <td>0.300607</td>\n",
       "      <td>0.794598</td>\n",
       "      <td>0.233854</td>\n",
       "      <td>-0.466530</td>\n",
       "      <td>0.661771</td>\n",
       "      <td>0.222017</td>\n",
       "      <td>-0.041243</td>\n",
       "      <td>-0.321780</td>\n",
       "      <td>-0.967</td>\n",
       "      <td>0.106843</td>\n",
       "      <td>2.914292</td>\n",
       "      <td>8.514895</td>\n",
       "      <td>196.392600</td>\n",
       "      <td>196.687400</td>\n",
       "      <td>0.020184</td>\n",
       "    </tr>\n",
       "  </tbody>\n",
       "</table>\n",
       "<p>3563215 rows × 16 columns</p>\n",
       "</div>"
      ],
      "text/plain": [
       "                     atr_ratio  atr_ratio_sma    vol_15  bb_width_20  \\\n",
       "2004-01-02 13:07:00  -0.996380      -0.987015 -1.005076    -0.943230   \n",
       "2004-01-02 13:08:00  -0.994579      -0.986828 -1.001603    -0.937271   \n",
       "2004-01-02 13:09:00  -0.992906      -0.986557 -0.999187    -0.930276   \n",
       "2004-01-02 13:10:00  -0.991353      -0.986209 -0.997370    -0.922523   \n",
       "2004-01-02 13:11:00  -0.989911      -0.985789 -0.995973    -0.914218   \n",
       "...                        ...            ...       ...          ...   \n",
       "2025-06-18 20:56:00   0.582507       0.182057  0.348747     0.119570   \n",
       "2025-06-18 20:57:00   0.641713       0.207647  0.391507     0.184714   \n",
       "2025-06-18 20:58:00   0.574130       0.230765  0.392142     0.238300   \n",
       "2025-06-18 20:59:00   0.695123       0.261866  0.692251     0.242399   \n",
       "2025-06-18 21:00:00   0.828554       0.300607  0.794598     0.233854   \n",
       "\n",
       "                          r_5      r_15       rsi  stoch_d_3  stoch_k_14  \\\n",
       "2004-01-02 13:07:00 -0.014129 -0.009476 -2.476841  -1.585648   -1.552562   \n",
       "2004-01-02 13:08:00 -0.027502 -0.017401 -2.476841  -1.585648   -1.552562   \n",
       "2004-01-02 13:09:00 -0.040876 -0.025327 -2.476841  -1.585648   -1.552562   \n",
       "2004-01-02 13:10:00 -0.054250 -0.033253 -2.476841  -1.585648   -1.552562   \n",
       "2004-01-02 13:11:00 -0.067624 -0.041178 -2.476841  -1.585648   -1.552562   \n",
       "...                       ...       ...       ...        ...         ...   \n",
       "2025-06-18 20:56:00  1.736669  1.315228  0.811095   0.172658    0.354296   \n",
       "2025-06-18 20:57:00  0.884588  1.113128  0.539711   0.332103    0.426843   \n",
       "2025-06-18 20:58:00  0.340813  0.827243  0.530165   0.396310    0.381683   \n",
       "2025-06-18 20:59:00 -0.840175 -0.093724 -0.151391   0.213673   -0.182061   \n",
       "2025-06-18 21:00:00 -0.466530  0.661771  0.222017  -0.041243   -0.321780   \n",
       "\n",
       "                      hour   eng_adx   eng_obv     eng_ma         bid  \\\n",
       "2004-01-02 13:07:00  0.507 -0.027995 -0.021099  -0.001209    0.763698   \n",
       "2004-01-02 13:08:00  0.507 -0.027995 -0.029567  -0.001209    0.763681   \n",
       "2004-01-02 13:09:00  0.507 -0.027995 -0.039000  -0.001209    0.763664   \n",
       "2004-01-02 13:10:00  0.507 -0.027995 -0.049325  -0.001209    0.763647   \n",
       "2004-01-02 13:11:00  0.507 -0.027995 -0.060465  -0.001209    0.763631   \n",
       "...                    ...       ...       ...        ...         ...   \n",
       "2025-06-18 20:56:00 -0.941  0.348383  0.234328  12.115664  196.667400   \n",
       "2025-06-18 20:57:00 -0.941  0.447111  0.120971  12.401440  196.527500   \n",
       "2025-06-18 20:58:00 -0.941  0.538824  0.000337  12.401440  196.522500   \n",
       "2025-06-18 20:59:00 -0.941  0.236622 -0.445174   9.257911  196.092800   \n",
       "2025-06-18 21:00:00 -0.967  0.106843  2.914292   8.514895  196.392600   \n",
       "\n",
       "                            ask    signal  \n",
       "2004-01-02 13:07:00    0.764840  0.032891  \n",
       "2004-01-02 13:08:00    0.764824  0.035206  \n",
       "2004-01-02 13:09:00    0.764807  0.037683  \n",
       "2004-01-02 13:10:00    0.764790  0.040335  \n",
       "2004-01-02 13:11:00    0.764773  0.043173  \n",
       "...                         ...       ...  \n",
       "2025-06-18 20:56:00  196.962600  0.146250  \n",
       "2025-06-18 20:57:00  196.822500  0.000000  \n",
       "2025-06-18 20:58:00  196.817500  0.013456  \n",
       "2025-06-18 20:59:00  196.387200  0.013456  \n",
       "2025-06-18 21:00:00  196.687400  0.020184  \n",
       "\n",
       "[3563215 rows x 16 columns]"
      ]
     },
     "execution_count": 3,
     "metadata": {},
     "output_type": "execute_result"
    }
   ],
   "source": [
    "if params.feat_sel == 'auto': # automatic feature selection, based on feature importance notebook\n",
    "    \n",
    "    df_feat_sel = pd.read_csv(params.feat_sel_auto_csv, index_col=0, parse_dates=True)\n",
    "    \n",
    "elif params.feat_sel == 'man': # alternative manual feature selection, based on the features selected in the params.py\n",
    "    \n",
    "    df_feat_sel = pd.read_csv(params.feat_all_csv, index_col=0, parse_dates=True)[params.features_cols_tick + ['bid','ask'] + [params.label_col]]\n",
    "    \n",
    "df_feat_sel"
   ]
  },
  {
   "cell_type": "code",
   "execution_count": 4,
   "id": "b805fa9c",
   "metadata": {},
   "outputs": [
    {
     "name": "stdout",
     "output_type": "stream",
     "text": [
      "Inside build_lstm_tensors, using: ['atr_ratio', 'atr_ratio_sma', 'vol_15', 'bb_width_20', 'r_5', 'r_15', 'rsi', 'stoch_d_3', 'stoch_k_14', 'hour', 'eng_adx', 'eng_obv', 'eng_ma']\n"
     ]
    },
    {
     "data": {
      "application/vnd.jupyter.widget-view+json": {
       "model_id": "851034c7b1bb4835a2f48486abefc76d",
       "version_major": 2,
       "version_minor": 0
      },
      "text/plain": [
       "Counting windows:   0%|          | 0/5400 [00:00<?, ?it/s]"
      ]
     },
     "metadata": {},
     "output_type": "display_data"
    },
    {
     "data": {
      "application/vnd.jupyter.widget-view+json": {
       "model_id": "79f1f8fbf22b4f699af2ead511c76995",
       "version_major": 2,
       "version_minor": 0
      },
      "text/plain": [
       "Writing memmaps:   0%|          | 0/5400 [00:00<?, ?it/s]"
      ]
     },
     "metadata": {},
     "output_type": "display_data"
    },
    {
     "name": "stdout",
     "output_type": "stream",
     "text": [
      "Shapes:\n",
      "  X         = torch.Size([2414427, 60, 13]) (samples, look_back, features)\n",
      "  y_sig     = torch.Size([2414427]) (samples,)\n",
      "  y_ret     = torch.Size([2414427]) (samples,)\n",
      "  raw_close = torch.Size([2414427])\n",
      "  raw_bid   = torch.Size([2414427])\n",
      "  raw_ask   = torch.Size([2414427])\n",
      "  end_times = (2414427,)\n"
     ]
    }
   ],
   "source": [
    "# Build LSTM input tensors (disk-backed memmaps)\n",
    "X, y_sig, y_ret, raw_close, raw_bid, raw_ask, end_times = models.build_lstm_tensors(\n",
    "    df            = df_feat_sel,\n",
    "    sess_start    = params.sess_start_pred_tick \n",
    ")\n",
    "\n",
    "# quick shapes\n",
    "print(\"Shapes:\")\n",
    "print(\"  X         =\", X.shape,    \"(samples, look_back, features)\")\n",
    "print(\"  y_sig     =\", y_sig.shape, \"(samples,)\")\n",
    "print(\"  y_ret     =\", y_ret.shape, \"(samples,)\")\n",
    "print(\"  raw_close =\", raw_close.shape)\n",
    "print(\"  raw_bid   =\", raw_bid.shape)\n",
    "print(\"  raw_ask   =\", raw_ask.shape)\n",
    "print(\"  end_times =\", end_times.shape)\n"
   ]
  },
  {
   "cell_type": "code",
   "execution_count": 5,
   "id": "7b4f1ac4",
   "metadata": {},
   "outputs": [
    {
     "name": "stdout",
     "output_type": "stream",
     "text": [
      "Shapes:\n",
      "  X_tr  = torch.Size([1696435, 60, 13])\n",
      "  y_sig_tr, y_ret_tr = torch.Size([1696435]) torch.Size([1696435])\n",
      "  X_val = torch.Size([353133, 60, 13])\n",
      "  y_sig_val, y_ret_val = torch.Size([353133]) torch.Size([353133])\n",
      "  X_te  = torch.Size([364859, 60, 13])\n",
      "  y_sig_te, y_ret_te = torch.Size([364859]) torch.Size([364859])\n"
     ]
    }
   ],
   "source": [
    "# Split into train/val/test by calendar day\n",
    "(\n",
    "(X_tr,  y_sig_tr,  y_ret_tr),\n",
    "(X_val, y_sig_val, y_ret_val),\n",
    "(X_te,  y_sig_te,  y_ret_te,  raw_close_te, raw_bid_te, raw_ask_te),\n",
    "samples_per_day,\n",
    "day_id_tr, day_id_val, day_id_te\n",
    ") = models.chronological_split(\n",
    "    X, y_sig, y_ret,\n",
    "    raw_close, raw_bid, raw_ask,\n",
    "    end_times   = end_times,\n",
    "    train_prop  = params.train_prop,\n",
    "    val_prop    = params.val_prop,\n",
    "    train_batch = params.hparams['TRAIN_BATCH']\n",
    ")\n",
    "\n",
    "# Print shapes of all tensors\n",
    "print(\"Shapes:\")\n",
    "print(\"  X_tr  =\", X_tr.shape)\n",
    "print(\"  y_sig_tr, y_ret_tr =\", y_sig_tr.shape, y_ret_tr.shape)\n",
    "print(\"  X_val =\", X_val.shape)\n",
    "print(\"  y_sig_val, y_ret_val =\", y_sig_val.shape, y_ret_val.shape)\n",
    "print(\"  X_te  =\", X_te.shape)\n",
    "print(\"  y_sig_te, y_ret_te =\", y_sig_te.shape, y_ret_te.shape)\n"
   ]
  },
  {
   "cell_type": "code",
   "execution_count": 6,
   "id": "1ad9b6c4-3d79-45c0-b2c0-c4f46f1ad866",
   "metadata": {},
   "outputs": [
    {
     "data": {
      "application/vnd.jupyter.widget-view+json": {
       "model_id": "6b5e8885594b416da8b4cdf768942d42",
       "version_major": 2,
       "version_minor": 0
      },
      "text/plain": [
       "Creating DayWindowDatasets:   0%|          | 0/3 [00:00<?, ?split/s]"
      ]
     },
     "metadata": {},
     "output_type": "display_data"
    },
    {
     "name": "stdout",
     "output_type": "stream",
     "text": [
      "Days  → train=3808, val=783, test=809\n",
      "Batches → train=119,   val=783,   test=809\n"
     ]
    }
   ],
   "source": [
    "# carve `end_times` into the same three splits:\n",
    "n_tr  = day_id_tr .shape[0] \n",
    "n_val = day_id_val.shape[0]\n",
    "i_tr  = n_tr\n",
    "i_val = n_tr + n_val\n",
    "\n",
    "end_times_tr  = end_times[:i_tr]\n",
    "end_times_val = end_times[i_tr:i_val]\n",
    "end_times_te  = end_times[i_val:]\n",
    "\n",
    "# -----------------------------------------------------------------------------\n",
    "#  Build DataLoaders over calendar‐days\n",
    "# -----------------------------------------------------------------------------\n",
    "train_loader, val_loader, test_loader = models.split_to_day_datasets(\n",
    "    # train split:   \n",
    "    X_tr,            y_sig_tr,     y_ret_tr,   end_times_tr,\n",
    "    # val split:\n",
    "    X_val,           y_sig_val,    y_ret_val,  end_times_val,\n",
    "    # test split + raw‐prices\n",
    "    X_te,            y_sig_te,     y_ret_te,   end_times_te,\n",
    "    raw_close_te, raw_bid_te, raw_ask_te,\n",
    "    \n",
    "    sess_start_time       = params.sess_start_pred_tick,\n",
    "    signal_thresh         = params.best_optuna_params[\"buy_threshold\"],\n",
    "    return_thresh         = 0.01,  # flat‐zone threshold for returns (to tune)\n",
    "    train_batch           = params.hparams[\"TRAIN_BATCH\"],\n",
    "    train_workers         = params.hparams[\"NUM_WORKERS\"],\n",
    "    train_prefetch_factor = params.hparams[\"TRAIN_PREFETCH_FACTOR\"]\n",
    ")\n",
    "\n",
    "print(f\"Days  → train={len(train_loader.dataset)}, val={len(val_loader.dataset)}, test={len(test_loader.dataset)}\")\n",
    "print(f\"Batches → train={len(train_loader)},   val={len(val_loader)},   test={len(test_loader)}\")"
   ]
  },
  {
   "cell_type": "code",
   "execution_count": 7,
   "id": "eeec031f-6c8f-455f-9c72-ae411e03ba34",
   "metadata": {},
   "outputs": [
    {
     "data": {
      "text/plain": [
       "DualMemoryLSTM(\n",
       "  (conv): Conv1d(13, 13, kernel_size=(3,), stride=(1,), padding=(1,))\n",
       "  (short_lstm): LSTM(13, 48, batch_first=True, bidirectional=True)\n",
       "  (attn): MultiheadAttention(\n",
       "    (out_proj): NonDynamicallyQuantizableLinear(in_features=96, out_features=96, bias=True)\n",
       "  )\n",
       "  (do_short): Dropout(p=0.2, inplace=False)\n",
       "  (ln_short): LayerNorm((96,), eps=1e-05, elementwise_affine=True)\n",
       "  (long_lstm): LSTM(96, 64, batch_first=True, bidirectional=True)\n",
       "  (do_long): Dropout(p=0.25, inplace=False)\n",
       "  (ln_long): LayerNorm((128,), eps=1e-05, elementwise_affine=True)\n",
       "  (pred): Linear(in_features=128, out_features=1, bias=True)\n",
       "  (cls_head): Linear(in_features=128, out_features=1, bias=True)\n",
       "  (cls_ter): Linear(in_features=128, out_features=3, bias=True)\n",
       ")"
      ]
     },
     "execution_count": 7,
     "metadata": {},
     "output_type": "execute_result"
    }
   ],
   "source": [
    "# -----------------------------------------------------------------------------\n",
    "# Instantiate the stateful DualMemoryLSTM & move to device\n",
    "# -----------------------------------------------------------------------------\n",
    "model = models.DualMemoryLSTM(\n",
    "    n_feats        = X.shape[-1],                          \n",
    "    short_units    = params.hparams['SHORT_UNITS'],    \n",
    "    long_units     = params.hparams['LONG_UNITS'],     \n",
    "    dropout_short  = params.hparams['DROPOUT_SHORT'],  \n",
    "    dropout_long   = params.hparams['DROPOUT_LONG'],   \n",
    "    att_heads      = params.hparams['ATT_HEADS'],\n",
    "    att_drop       = params.hparams['ATT_DROPOUT']\n",
    ")\n",
    "model.to(params.device)  \n",
    "\n",
    "model"
   ]
  },
  {
   "cell_type": "code",
   "execution_count": 8,
   "id": "5512a0dd-d2c8-418e-bfca-4580fb4be995",
   "metadata": {},
   "outputs": [
    {
     "data": {
      "text/plain": [
       "AdamW (\n",
       "Parameter Group 0\n",
       "    amsgrad: False\n",
       "    betas: (0.9, 0.999)\n",
       "    capturable: False\n",
       "    decoupled_weight_decay: True\n",
       "    differentiable: False\n",
       "    eps: 1e-08\n",
       "    foreach: None\n",
       "    fused: None\n",
       "    initial_lr: 0.0001\n",
       "    lr: 0.0001\n",
       "    maximize: False\n",
       "    weight_decay: 0.0001\n",
       ")"
      ]
     },
     "execution_count": 8,
     "metadata": {},
     "output_type": "execute_result"
    }
   ],
   "source": [
    "# # -----------------------------------------------------------------------------\n",
    "# # Compute plateau_sched timing parameters\n",
    "# # -----------------------------------------------------------------------------\n",
    "# # Total training samples = total windows in X_tr (one window per row)\n",
    "# n_train_samples = X_tr.shape[0]\n",
    "\n",
    "# # How many optimizer steps (day‐bundles) constitute one epoch?\n",
    "# steps_per_epoch = len(train_loader)\n",
    "\n",
    "\n",
    "# -----------------------------------------------------------------------------\n",
    "# Build optimizer, LR scheduler, AMP scaler, and gradient‐clip norm\n",
    "# -----------------------------------------------------------------------------\n",
    "optimizer, plateau_sched, cosine_sched, scaler, clipnorm = models.make_optimizer_and_scheduler(\n",
    "    model,\n",
    "    initial_lr        = params.hparams['INITIAL_LR'],       \n",
    "    weight_decay      = params.hparams['WEIGHT_DECAY'],     \n",
    "    clipnorm          = params.hparams['CLIPNORM']   \n",
    ")\n",
    "\n",
    "optimizer"
   ]
  },
  {
   "cell_type": "code",
   "execution_count": 9,
   "id": "e9c5fc27-f31d-4adc-a247-5468674f83fc",
   "metadata": {},
   "outputs": [
    {
     "name": "stdout",
     "output_type": "stream",
     "text": [
      "Zero‐forecast RMSE (predict 0): train = 0.406297,  val = 0.405632\n",
      "\n",
      "Train target stats:\n",
      "  mean = 0.2725,  var = 0.0908,  std = 0.3014\n",
      "Train mean‐predictor baseline:\n",
      "  RMSE_baseline = 0.301357\n",
      "  R²_baseline   = 0.00\n",
      "\n",
      "Validation target stats:\n",
      "  mean = 0.2775,  var = 0.0875,  std = 0.2959\n",
      "Validation mean‐predictor baseline:\n",
      "  RMSE_baseline = 0.295883\n",
      "  R²_baseline   = 0.00\n",
      "\n"
     ]
    }
   ],
   "source": [
    "# -----------------------------------------------------------------------------\n",
    "# Helper: extract the true “signal” values from any loader into a flat array\n",
    "# -----------------------------------------------------------------------------\n",
    "def extract_y(loader):\n",
    "    return np.concatenate([batch[1].cpu().numpy().ravel() for batch in loader])\n",
    "\n",
    "# Pull out train & validation targets\n",
    "y_train = extract_y(train_loader)\n",
    "y_val   = extract_y(val_loader)\n",
    "\n",
    "# -----------------------------------------------------------------------------\n",
    "# 1) Zero‐forecast baseline RMSE (predict 0 always)\n",
    "#    RMSE_zero = √(mean(y²))\n",
    "# -----------------------------------------------------------------------------\n",
    "rmse_zero_train = np.sqrt(np.mean(y_train**2))\n",
    "rmse_zero_val   = np.sqrt(np.mean(y_val**2))\n",
    "print(f\"Zero‐forecast RMSE (predict 0): train = {rmse_zero_train:.6f},  val = {rmse_zero_val:.6f}\\n\")\n",
    "\n",
    "# -----------------------------------------------------------------------------\n",
    "# 2) Compute mean, variance & std for train/validation targets\n",
    "#    and derive the mean‐predictor baseline (R² = 0)\n",
    "# -----------------------------------------------------------------------------\n",
    "for split, y in [(\"Train\", y_train), (\"Validation\", y_val)]:\n",
    "    mean_y    = y.mean()\n",
    "    std_y     = y.std(ddof=0)     # population std = √variance\n",
    "    var_y     = std_y**2\n",
    "    rmse_mean = std_y            # RMSE_baseline = std(target)\n",
    "\n",
    "    print(f\"{split} target stats:\")\n",
    "    print(f\"  mean = {mean_y:.4f},  var = {var_y:.4f},  std = {std_y:.4f}\")\n",
    "    print(f\"{split} mean‐predictor baseline:\")\n",
    "    print(f\"  RMSE_baseline = {rmse_mean:.6f}\")\n",
    "    print(\"  R²_baseline   = 0.00\\n\")\n",
    "\n",
    "    if split == \"Validation\":\n",
    "        rmse_mean_val = rmse_mean # used afterwards for the final reporting\n",
    "        \n"
   ]
  },
  {
   "cell_type": "code",
   "execution_count": 10,
   "id": "a8f7ec8c-5882-486b-bdfd-371b8db260f9",
   "metadata": {},
   "outputs": [
    {
     "data": {
      "image/png": "[encoded data removed]",
      "text/plain": [
       "<Figure size 640x480 with 1 Axes>"
      ]
     },
     "metadata": {},
     "output_type": "display_data"
    }
   ],
   "source": [
    "# Visualize the true‐signal distributions on train vs. validation\n",
    "plt.hist(y_train, bins=100, alpha=0.5, label=\"train true\")\n",
    "plt.hist(y_val,   bins=100, alpha=0.5, label=\"val true\")\n",
    "plt.xlabel(\"Signal value\")\n",
    "plt.ylabel(\"Count\")\n",
    "plt.title(\"True Signal Distribution: Train vs. Validation\")\n",
    "plt.legend()\n",
    "plt.tight_layout()\n",
    "plt.show()\n"
   ]
  },
  {
   "cell_type": "code",
   "execution_count": null,
   "id": "7bf94780-a876-4bf4-ad27-6abc2da1fc0a",
   "metadata": {},
   "outputs": [
    {
     "name": "stdout",
     "output_type": "stream",
     "text": [
      "Training sees 3808 unique trading days per epoch.\n",
      "\n"
     ]
    },
    {
     "data": {
      "image/png": "[encoded data removed]",
      "text/plain": [
       "<Figure size 660x440 with 1 Axes>"
      ]
     },
     "metadata": {},
     "output_type": "display_data"
    },
    {
     "data": {
      "application/vnd.jupyter.widget-view+json": {
       "model_id": "4fad3cc33d0e43fa8e81d4864f82b6a3",
       "version_major": 2,
       "version_minor": 0
      },
      "text/plain": [
       "Epoch 1:   0%|          | 0/119 [00:00<?, ?batch/s]"
      ]
     },
     "metadata": {},
     "output_type": "display_data"
    },
    {
     "name": "stdout",
     "output_type": "stream",
     "text": [
      "Epoch 001\n",
      "TRAIN→ \"R\": RMSE=0.2942 MAE=0.2301 R2=0.0479 | \"B\": Acc=0.6749 Prec=0.3544 Rec=0.2228 F1=0.2736 AUROC=0.5594\n",
      "VALID→ \"R\": RMSE=0.2850 MAE=0.2207 R2=0.0722 | \"B\": Acc=0.6685 Prec=0.4137 Rec=0.4615 F1=0.4363 AUROC=0.6479\n"
     ]
    },
    {
     "data": {
      "application/vnd.jupyter.widget-view+json": {
       "model_id": "27c7552c264946b8b6897c872528a0e4",
       "version_major": 2,
       "version_minor": 0
      },
      "text/plain": [
       "Epoch 2:   0%|          | 0/119 [00:00<?, ?batch/s]"
      ]
     },
     "metadata": {},
     "output_type": "display_data"
    },
    {
     "name": "stdout",
     "output_type": "stream",
     "text": [
      "Epoch 002\n",
      "TRAIN→ \"R\": RMSE=0.2856 MAE=0.2233 R2=0.1026 | \"B\": Acc=0.6398 Prec=0.3440 Rec=0.3426 F1=0.3433 AUROC=0.5690\n",
      "VALID→ \"R\": RMSE=0.2824 MAE=0.2179 R2=0.0892 | \"B\": Acc=0.6176 Prec=0.3786 Rec=0.5854 F1=0.4598 AUROC=0.6449\n"
     ]
    },
    {
     "data": {
      "application/vnd.jupyter.widget-view+json": {
       "model_id": "24b0d2e54fae40d0a343d3a0aecc0bbf",
       "version_major": 2,
       "version_minor": 0
      },
      "text/plain": [
       "Epoch 3:   0%|          | 0/119 [00:00<?, ?batch/s]"
      ]
     },
     "metadata": {},
     "output_type": "display_data"
    }
   ],
   "source": [
    "# How many unique trading days does each epoch see?\n",
    "n_days = len(train_loader.dataset)\n",
    "print(f\"Training sees {n_days} unique trading days per epoch.\\n\")\n",
    "\n",
    "# -----------------------------------------------------------------------------\n",
    "# Run the custom stateful training loop\n",
    "# -----------------------------------------------------------------------------\n",
    "best_val_rmse  = models.custom_stateful_training_loop(\n",
    "    model               = model,\n",
    "    optimizer           = optimizer,\n",
    "    cosine_sched        = cosine_sched,\n",
    "    plateau_sched       = plateau_sched,\n",
    "    scaler              = scaler,\n",
    "    train_loader        = train_loader,\n",
    "    val_loader          = val_loader,\n",
    "    max_epochs          = params.hparams['MAX_EPOCHS'],\n",
    "    early_stop_patience = params.hparams['EARLY_STOP_PATIENCE'],\n",
    "    clipnorm            = clipnorm,\n",
    "    device              = params.device\n",
    ")\n",
    "\n",
    "# -----------------------------------------------------------------------------\n",
    "# Final reporting: best RMSE and relative improvement\n",
    "# -----------------------------------------------------------------------------\n",
    "print(f\"\\nChampion validation RMSE = {best_val_rmse:.6f}\")\n",
    "\n",
    "improvement_zero = 100.0 * (1.0 - best_val_rmse / rmse_zero_val)\n",
    "print(f\"Improvement over zero‐baseline = {improvement_zero:5.1f}%\")\n",
    "\n",
    "improvement_mean = 100.0 * (1.0 - best_val_rmse / rmse_mean_val)\n",
    "print(f\"Improvement over mean‐baseline = {improvement_mean:5.1f}%\")\n",
    "\n"
   ]
  },
  {
   "cell_type": "code",
   "execution_count": null,
   "id": "22b25c89-05c3-4a16-b013-97143f173e08",
   "metadata": {},
   "outputs": [],
   "source": []
  }
 ],
 "metadata": {
  "kernelspec": {
   "display_name": "Python 3 (ipykernel)",
   "language": "python",
   "name": "python3"
  },
  "language_info": {
   "codemirror_mode": {
    "name": "ipython",
    "version": 3
   },
   "file_extension": ".py",
   "mimetype": "text/x-python",
   "name": "python",
   "nbconvert_exporter": "python",
   "pygments_lexer": "ipython3",
   "version": "3.12.3"
  }
 },
 "nbformat": 4,
 "nbformat_minor": 5
}
