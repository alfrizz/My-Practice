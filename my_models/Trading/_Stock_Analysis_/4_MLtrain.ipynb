{
 "cells": [
  {
   "cell_type": "code",
   "execution_count": 1,
   "id": "73f06a4f-691a-4a84-a305-e7212eb879bf",
   "metadata": {},
   "outputs": [],
   "source": [
    "# %matplotlib widget\n",
    "%matplotlib inline"
   ]
  },
  {
   "cell_type": "code",
   "execution_count": 2,
   "id": "4c868158-e6bb-4d56-bbdd-8e8103f0b9e4",
   "metadata": {},
   "outputs": [],
   "source": [
    "# 1) Wipe out all Python variables\n",
    "%reset -f\n",
    "# 2) Force Python’s garbage collector to run\n",
    "import gc\n",
    "gc.collect()\n",
    "\n",
    "import importlib\n",
    "from libs import trades, plots, params, models\n",
    "importlib.reload(trades)\n",
    "importlib.reload(plots)\n",
    "importlib.reload(params)\n",
    "importlib.reload(models)\n",
    "\n",
    "import pandas as pd\n",
    "pd.set_option('display.max_columns', None)\n",
    "\n",
    "import numpy  as np\n",
    "import math\n",
    "\n",
    "import datetime as dt\n",
    "import os\n",
    "from typing import Sequence, List, Tuple, Optional, Union\n",
    "\n",
    "import torch\n",
    "import torch.nn as nn\n",
    "import torch.nn.functional as Funct\n",
    "from torch_lr_finder import LRFinder\n",
    "from torch.utils.data import DataLoader, TensorDataset\n",
    "\n",
    "from tqdm import tqdm"
   ]
  },
  {
   "cell_type": "code",
   "execution_count": 3,
   "id": "7b98406a",
   "metadata": {},
   "outputs": [],
   "source": [
    "if params.feat_sel == 'auto': # automatic feature selection, based on feature importance notebook\n",
    "    \n",
    "    df_feat_sel = pd.read_csv(params.feat_sel_auto_csv, index_col=0, parse_dates=True)\n",
    "    df_feat_sel\n",
    "    \n",
    "elif params.feat_sel == 'man': # alternative manual feature selection, based on the features selected in the params.py\n",
    "    \n",
    "    df_feat_sel = pd.read_csv(params.feat_sel_man_csv, index_col=0, parse_dates=True)\n",
    "    df_feat_sel"
   ]
  },
  {
   "cell_type": "code",
   "execution_count": 5,
   "id": "b805fa9c",
   "metadata": {},
   "outputs": [
    {
     "data": {
      "application/vnd.jupyter.widget-view+json": {
       "model_id": "0daecfd243634dc39118db4ad712f394",
       "version_major": 2,
       "version_minor": 0
      },
      "text/plain": [
       "Counting windows:   0%|          | 0/5400 [00:00<?, ?it/s]"
      ]
     },
     "metadata": {},
     "output_type": "display_data"
    },
    {
     "data": {
      "application/vnd.jupyter.widget-view+json": {
       "model_id": "af23f864b0824b5e8ac474b81dbffadb",
       "version_major": 2,
       "version_minor": 0
      },
      "text/plain": [
       "Writing memmaps:   0%|          | 0/5400 [00:00<?, ?it/s]"
      ]
     },
     "metadata": {},
     "output_type": "display_data"
    },
    {
     "name": "stdout",
     "output_type": "stream",
     "text": [
      "Shapes:\n",
      "  X         = torch.Size([2412342, 60, 4]) (samples, look_back, features)\n",
      "  y_sig     = torch.Size([2412342]) (samples,)\n",
      "  y_ret     = torch.Size([2412342]) (samples,)\n",
      "  raw_close = torch.Size([2412342])\n",
      "  raw_bid   = torch.Size([2412342])\n",
      "  raw_ask   = torch.Size([2412342])\n",
      "  end_times = (2412342,)\n"
     ]
    }
   ],
   "source": [
    "X, y_sig, y_ret, raw_close, raw_bid, raw_ask, end_times = models.build_lstm_tensors(\n",
    "    df            = df_feat_sel,\n",
    "    sess_start    = params.sess_start_pred_tick \n",
    ")\n",
    "\n",
    "# quick shapes\n",
    "print(\"Shapes:\")\n",
    "print(\"  X         =\", X.shape,    \"(samples, look_back, features)\")\n",
    "print(\"  y_sig     =\", y_sig.shape, \"(samples,)\")\n",
    "print(\"  y_ret     =\", y_ret.shape, \"(samples,)\")\n",
    "print(\"  raw_close =\", raw_close.shape)\n",
    "print(\"  raw_bid   =\", raw_bid.shape)\n",
    "print(\"  raw_ask   =\", raw_ask.shape)\n",
    "print(\"  end_times =\", end_times.shape)\n"
   ]
  },
  {
   "cell_type": "code",
   "execution_count": 6,
   "id": "7b4f1ac4",
   "metadata": {},
   "outputs": [
    {
     "name": "stdout",
     "output_type": "stream",
     "text": [
      "Shapes:\n",
      "  X_tr  = torch.Size([1694522, 60, 4])\n",
      "  y_sig_tr, y_ret_tr = torch.Size([1694522]) torch.Size([1694522])\n",
      "  X_val = torch.Size([353129, 60, 4])\n",
      "  y_sig_val, y_ret_val = torch.Size([353129]) torch.Size([353129])\n",
      "  X_te  = torch.Size([364691, 60, 4])\n",
      "  y_sig_te, y_ret_te = torch.Size([364691]) torch.Size([364691])\n"
     ]
    }
   ],
   "source": [
    "# Split into train/val/test by calendar day\n",
    "(\n",
    "(X_tr,  y_sig_tr,  y_ret_tr),\n",
    "(X_val, y_sig_val, y_ret_val),\n",
    "(X_te,  y_sig_te,  y_ret_te,  raw_close_te, raw_bid_te, raw_ask_te),\n",
    "samples_per_day,\n",
    "day_id_tr, day_id_val, day_id_te\n",
    ") = models.chronological_split(\n",
    "    X, y_sig, y_ret,\n",
    "    raw_close, raw_bid, raw_ask,\n",
    "    end_times   = end_times,\n",
    "    train_prop  = params.train_prop,\n",
    "    val_prop    = params.val_prop,\n",
    "    train_batch = params.hparams['TRAIN_BATCH']\n",
    ")\n",
    "\n",
    "# Print shapes of all tensors\n",
    "print(\"Shapes:\")\n",
    "print(\"  X_tr  =\", X_tr.shape)\n",
    "print(\"  y_sig_tr, y_ret_tr =\", y_sig_tr.shape, y_ret_tr.shape)\n",
    "print(\"  X_val =\", X_val.shape)\n",
    "print(\"  y_sig_val, y_ret_val =\", y_sig_val.shape, y_ret_val.shape)\n",
    "print(\"  X_te  =\", X_te.shape)\n",
    "print(\"  y_sig_te, y_ret_te =\", y_sig_te.shape, y_ret_te.shape)\n"
   ]
  },
  {
   "cell_type": "code",
   "execution_count": 7,
   "id": "1ad9b6c4-3d79-45c0-b2c0-c4f46f1ad866",
   "metadata": {},
   "outputs": [
    {
     "data": {
      "application/vnd.jupyter.widget-view+json": {
       "model_id": "c9d3da62d85e4554a9de71ce2a58665d",
       "version_major": 2,
       "version_minor": 0
      },
      "text/plain": [
       "Creating DayWindowDatasets:   0%|          | 0/3 [00:00<?, ?split/s]"
      ]
     },
     "metadata": {},
     "output_type": "display_data"
    },
    {
     "name": "stdout",
     "output_type": "stream",
     "text": [
      "Days  → train=3808, val=783, test=809\n",
      "Batches → train=119,   val=783,   test=809\n"
     ]
    }
   ],
   "source": [
    "# carve `end_times` into the same three splits:\n",
    "n_tr  = day_id_tr .shape[0] \n",
    "n_val = day_id_val.shape[0]\n",
    "i_tr  = n_tr\n",
    "i_val = n_tr + n_val\n",
    "\n",
    "end_times_tr  = end_times[:i_tr]\n",
    "end_times_val = end_times[i_tr:i_val]\n",
    "end_times_te  = end_times[i_val:]\n",
    "\n",
    "# -----------------------------------------------------------------------------\n",
    "#  Build DataLoaders over calendar‐days\n",
    "# -----------------------------------------------------------------------------\n",
    "train_loader, val_loader, test_loader = models.split_to_day_datasets(\n",
    "    # train split:   \n",
    "    X_tr,            y_sig_tr,     y_ret_tr,   end_times_tr,\n",
    "    # val split:\n",
    "    X_val,           y_sig_val,    y_ret_val,  end_times_val,\n",
    "    # test split + raw‐prices\n",
    "    X_te,            y_sig_te,     y_ret_te,   end_times_te,\n",
    "    raw_close_te, raw_bid_te, raw_ask_te,\n",
    "    \n",
    "    sess_start_time       = params.sess_start_pred_tick,\n",
    "    signal_thresh         = params.best_optuna_params[\"buy_threshold\"],\n",
    "    return_thresh         = 0.01,  # flat‐zone threshold for returns (to tune)\n",
    "    train_batch           = params.hparams[\"TRAIN_BATCH\"],\n",
    "    train_workers         = params.hparams[\"NUM_WORKERS\"],\n",
    "    train_prefetch_factor = params.hparams[\"TRAIN_PREFETCH_FACTOR\"]\n",
    ")\n",
    "\n",
    "print(f\"Days  → train={len(train_loader.dataset)}, val={len(val_loader.dataset)}, test={len(test_loader.dataset)}\")\n",
    "print(f\"Batches → train={len(train_loader)},   val={len(val_loader)},   test={len(test_loader)}\")"
   ]
  },
  {
   "cell_type": "code",
   "execution_count": 8,
   "id": "eeec031f-6c8f-455f-9c72-ae411e03ba34",
   "metadata": {},
   "outputs": [
    {
     "data": {
      "text/plain": [
       "DualMemoryLSTM(\n",
       "  (conv): Conv1d(4, 4, kernel_size=(3,), stride=(1,), padding=(1,))\n",
       "  (short_lstm): LSTM(4, 48, batch_first=True, bidirectional=True)\n",
       "  (attn): MultiheadAttention(\n",
       "    (out_proj): NonDynamicallyQuantizableLinear(in_features=96, out_features=96, bias=True)\n",
       "  )\n",
       "  (do_short): Dropout(p=0.25, inplace=False)\n",
       "  (ln_short): LayerNorm((96,), eps=1e-05, elementwise_affine=True)\n",
       "  (long_lstm): LSTM(96, 64, batch_first=True, bidirectional=True)\n",
       "  (do_long): Dropout(p=0.3, inplace=False)\n",
       "  (ln_long): LayerNorm((128,), eps=1e-05, elementwise_affine=True)\n",
       "  (pred): Linear(in_features=128, out_features=1, bias=True)\n",
       "  (cls_head): Linear(in_features=128, out_features=1, bias=True)\n",
       "  (cls_ter): Linear(in_features=128, out_features=3, bias=True)\n",
       ")"
      ]
     },
     "execution_count": 8,
     "metadata": {},
     "output_type": "execute_result"
    }
   ],
   "source": [
    "# -----------------------------------------------------------------------------\n",
    "# Instantiate the stateful DualMemoryLSTM & move to device\n",
    "# -----------------------------------------------------------------------------\n",
    "model = models.DualMemoryLSTM(\n",
    "    n_feats        = X.shape[-1],                          \n",
    "    short_units    = params.hparams['SHORT_UNITS'],    \n",
    "    long_units     = params.hparams['LONG_UNITS'],     \n",
    "    dropout_short  = params.hparams['DROPOUT_SHORT'],  \n",
    "    dropout_long   = params.hparams['DROPOUT_LONG'],   \n",
    "    att_heads      = params.hparams['ATT_HEADS'],\n",
    "    att_drop       = params.hparams['ATT_DROPOUT']\n",
    ")\n",
    "model.to(params.device)  \n",
    "\n",
    "model"
   ]
  },
  {
   "cell_type": "code",
   "execution_count": 9,
   "id": "5512a0dd-d2c8-418e-bfca-4580fb4be995",
   "metadata": {},
   "outputs": [
    {
     "data": {
      "text/plain": [
       "AdamW (\n",
       "Parameter Group 0\n",
       "    amsgrad: False\n",
       "    betas: (0.9, 0.999)\n",
       "    capturable: False\n",
       "    decoupled_weight_decay: True\n",
       "    differentiable: False\n",
       "    eps: 1e-08\n",
       "    foreach: None\n",
       "    fused: None\n",
       "    initial_lr: 5e-05\n",
       "    lr: 5e-05\n",
       "    maximize: False\n",
       "    weight_decay: 0.001\n",
       ")"
      ]
     },
     "execution_count": 9,
     "metadata": {},
     "output_type": "execute_result"
    }
   ],
   "source": [
    "# -----------------------------------------------------------------------------\n",
    "# Compute plateau_sched timing parameters\n",
    "# -----------------------------------------------------------------------------\n",
    "# Total training samples = total windows in X_tr (one window per row)\n",
    "n_train_samples = X_tr.shape[0]\n",
    "\n",
    "# How many optimizer steps (day‐bundles) constitute one epoch?\n",
    "steps_per_epoch = len(train_loader)\n",
    "\n",
    "\n",
    "# -----------------------------------------------------------------------------\n",
    "# Build optimizer, LR scheduler, AMP scaler, and gradient‐clip norm\n",
    "# -----------------------------------------------------------------------------\n",
    "optimizer, plateau_sched, cosine_sched, scaler, clipnorm = models.make_optimizer_and_scheduler(\n",
    "    model,\n",
    "    initial_lr        = params.hparams['INITIAL_LR'],       \n",
    "    weight_decay      = params.hparams['WEIGHT_DECAY'],     \n",
    "    clipnorm          = params.hparams['CLIPNORM']   \n",
    ")\n",
    "\n",
    "optimizer"
   ]
  },
  {
   "cell_type": "code",
   "execution_count": 10,
   "id": "e9c5fc27-f31d-4adc-a247-5468674f83fc",
   "metadata": {},
   "outputs": [
    {
     "name": "stdout",
     "output_type": "stream",
     "text": [
      "Training sees 3808 calendar days per epoch\n",
      "\n",
      "Baseline (zero‐forecast) RMSE on validation = 0.414885\n"
     ]
    }
   ],
   "source": [
    "# -----------------------------------------------------------------------------\n",
    "# Count how many calendar days we see each epoch and Compute baseline RMSE on validation (zero forecast)\n",
    "# -----------------------------------------------------------------------------\n",
    "n_train_days = len(train_loader.dataset)  # dataset length = # unique days\n",
    "print(f\"Training sees {n_train_days} calendar days per epoch\\n\")\n",
    "\n",
    "baseline_val_rmse = models.naive_rmse(val_loader)\n",
    "print(f\"Baseline (zero‐forecast) RMSE on validation = {baseline_val_rmse:.6f}\")"
   ]
  },
  {
   "cell_type": "code",
   "execution_count": 11,
   "id": "7bf94780-a876-4bf4-ad27-6abc2da1fc0a",
   "metadata": {},
   "outputs": [
    {
     "data": {
      "image/png": "[encoded data removed]",
      "text/plain": [
       "<Figure size 660x440 with 1 Axes>"
      ]
     },
     "metadata": {},
     "output_type": "display_data"
    },
    {
     "data": {
      "application/vnd.jupyter.widget-view+json": {
       "model_id": "ebdc20f04bcf4f638586c70c5af0b23c",
       "version_major": 2,
       "version_minor": 0
      },
      "text/plain": [
       "Epoch 1:   0%|          | 0/119 [00:00<?, ?batch/s]"
      ]
     },
     "metadata": {},
     "output_type": "display_data"
    },
    {
     "name": "stdout",
     "output_type": "stream",
     "text": [
      "Epoch 001\n",
      "TRAIN→ \"R\": RMSE=0.2944 MAE=0.2166 R2=-0.0573 | \"B\": Acc=0.7094 Prec=0.4041 Rec=0.0581 F1=0.1017 AUROC=0.6029\n",
      "VALID→ \"R\": RMSE=0.3173 MAE=0.2153 R2=-0.3260 | \"B\": Acc=0.7247 Prec=0.7536 Rec=0.0005 F1=0.0011 AUROC=0.7073\n"
     ]
    },
    {
     "data": {
      "application/vnd.jupyter.widget-view+json": {
       "model_id": "9fd67bc3226547e5b28cb9dfd84cdac5",
       "version_major": 2,
       "version_minor": 0
      },
      "text/plain": [
       "Epoch 2:   0%|          | 0/119 [00:00<?, ?batch/s]"
      ]
     },
     "metadata": {},
     "output_type": "display_data"
    },
    {
     "name": "stdout",
     "output_type": "stream",
     "text": [
      "Epoch 002\n",
      "TRAIN→ \"R\": RMSE=0.2804 MAE=0.2037 R2=0.0407 | \"B\": Acc=0.7195 Prec=0.5367 Rec=0.0603 F1=0.1084 AUROC=0.6286\n",
      "VALID→ \"R\": RMSE=0.2795 MAE=0.1939 R2=-0.0290 | \"B\": Acc=0.7296 Prec=0.7446 Rec=0.0274 F1=0.0529 AUROC=0.7190\n"
     ]
    },
    {
     "data": {
      "application/vnd.jupyter.widget-view+json": {
       "model_id": "a2c547ecb74d40bca22d53d27ea47e1a",
       "version_major": 2,
       "version_minor": 0
      },
      "text/plain": [
       "Epoch 3:   0%|          | 0/119 [00:00<?, ?batch/s]"
      ]
     },
     "metadata": {},
     "output_type": "display_data"
    },
    {
     "name": "stdout",
     "output_type": "stream",
     "text": [
      "Epoch 003\n",
      "TRAIN→ \"R\": RMSE=0.2708 MAE=0.1984 R2=0.1056 | \"B\": Acc=0.7257 Prec=0.5598 Rec=0.1402 F1=0.2242 AUROC=0.6745\n",
      "VALID→ \"R\": RMSE=0.2667 MAE=0.1875 R2=0.0631 | \"B\": Acc=0.7399 Prec=0.6868 Rec=0.1019 F1=0.1774 AUROC=0.7287\n"
     ]
    },
    {
     "data": {
      "application/vnd.jupyter.widget-view+json": {
       "model_id": "874fcb2ff03446689f485e2a50797816",
       "version_major": 2,
       "version_minor": 0
      },
      "text/plain": [
       "Epoch 4:   0%|          | 0/119 [00:00<?, ?batch/s]"
      ]
     },
     "metadata": {},
     "output_type": "display_data"
    },
    {
     "name": "stdout",
     "output_type": "stream",
     "text": [
      "Epoch 004\n",
      "TRAIN→ \"R\": RMSE=0.2655 MAE=0.1947 R2=0.1403 | \"B\": Acc=0.7319 Prec=0.5775 Rec=0.1935 F1=0.2898 AUROC=0.6957\n",
      "VALID→ \"R\": RMSE=0.2631 MAE=0.1854 R2=0.0881 | \"B\": Acc=0.7464 Prec=0.6723 Rec=0.1542 F1=0.2509 AUROC=0.7353\n"
     ]
    },
    {
     "data": {
      "application/vnd.jupyter.widget-view+json": {
       "model_id": "86e37bad8bd34b78ac5a57bc507b1f41",
       "version_major": 2,
       "version_minor": 0
      },
      "text/plain": [
       "Epoch 5:   0%|          | 0/119 [00:00<?, ?batch/s]"
      ]
     },
     "metadata": {},
     "output_type": "display_data"
    },
    {
     "name": "stdout",
     "output_type": "stream",
     "text": [
      "Epoch 005\n",
      "TRAIN→ \"R\": RMSE=0.2627 MAE=0.1927 R2=0.1581 | \"B\": Acc=0.7365 Prec=0.5856 Rec=0.2339 F1=0.3343 AUROC=0.7094\n",
      "VALID→ \"R\": RMSE=0.2626 MAE=0.1849 R2=0.0915 | \"B\": Acc=0.7512 Prec=0.6549 Rec=0.2042 F1=0.3113 AUROC=0.7397\n"
     ]
    },
    {
     "data": {
      "application/vnd.jupyter.widget-view+json": {
       "model_id": "435ac84ea3b34dd88c1be33c307e7b1a",
       "version_major": 2,
       "version_minor": 0
      },
      "text/plain": [
       "Epoch 6:   0%|          | 0/119 [00:00<?, ?batch/s]"
      ]
     },
     "metadata": {},
     "output_type": "display_data"
    },
    {
     "name": "stdout",
     "output_type": "stream",
     "text": [
      "Epoch 006\n",
      "TRAIN→ \"R\": RMSE=0.2615 MAE=0.1915 R2=0.1656 | \"B\": Acc=0.7399 Prec=0.5910 Rec=0.2612 F1=0.3623 AUROC=0.7173\n",
      "VALID→ \"R\": RMSE=0.2627 MAE=0.1846 R2=0.0909 | \"B\": Acc=0.7537 Prec=0.6472 Rec=0.2323 F1=0.3419 AUROC=0.7423\n"
     ]
    },
    {
     "data": {
      "application/vnd.jupyter.widget-view+json": {
       "model_id": "48db03b296904201aea5251a1310eba1",
       "version_major": 2,
       "version_minor": 0
      },
      "text/plain": [
       "Epoch 7:   0%|          | 0/119 [00:00<?, ?batch/s]"
      ]
     },
     "metadata": {},
     "output_type": "display_data"
    },
    {
     "name": "stdout",
     "output_type": "stream",
     "text": [
      "Epoch 007\n",
      "TRAIN→ \"R\": RMSE=0.2608 MAE=0.1908 R2=0.1704 | \"B\": Acc=0.7417 Prec=0.5922 Rec=0.2781 F1=0.3784 AUROC=0.7216\n",
      "VALID→ \"R\": RMSE=0.2626 MAE=0.1844 R2=0.0912 | \"B\": Acc=0.7552 Prec=0.6425 Rec=0.2503 F1=0.3602 AUROC=0.7439\n"
     ]
    },
    {
     "data": {
      "application/vnd.jupyter.widget-view+json": {
       "model_id": "8a8487d988b2432685e215c61e0836c2",
       "version_major": 2,
       "version_minor": 0
      },
      "text/plain": [
       "Epoch 8:   0%|          | 0/119 [00:00<?, ?batch/s]"
      ]
     },
     "metadata": {},
     "output_type": "display_data"
    },
    {
     "name": "stdout",
     "output_type": "stream",
     "text": [
      "Epoch 008\n",
      "TRAIN→ \"R\": RMSE=0.2603 MAE=0.1902 R2=0.1734 | \"B\": Acc=0.7430 Prec=0.5938 Rec=0.2890 F1=0.3887 AUROC=0.7255\n",
      "VALID→ \"R\": RMSE=0.2630 MAE=0.1843 R2=0.0890 | \"B\": Acc=0.7563 Prec=0.6433 Rec=0.2582 F1=0.3685 AUROC=0.7451\n",
      "Early stopping at epoch 8\n",
      "\n",
      "Champion validation RMSE = 0.262599\n",
      "Improvement over zero‐baseline =  36.7%\n"
     ]
    },
    {
     "data": {
      "image/png": "[encoded data removed]",
      "text/plain": [
       "<Figure size 660x440 with 1 Axes>"
      ]
     },
     "metadata": {},
     "output_type": "display_data"
    }
   ],
   "source": [
    "# -----------------------------------------------------------------------------\n",
    "# Run the custom stateful training loop\n",
    "# -----------------------------------------------------------------------------\n",
    "best_val_rmse  = models.custom_stateful_training_loop(\n",
    "    model               = model,\n",
    "    optimizer           = optimizer,\n",
    "    cosine_sched        = cosine_sched,\n",
    "    plateau_sched       = plateau_sched,\n",
    "    scaler              = scaler,\n",
    "    train_loader        = train_loader,\n",
    "    val_loader          = val_loader,\n",
    "    max_epochs          = params.hparams['MAX_EPOCHS'],\n",
    "    early_stop_patience = params.hparams['EARLY_STOP_PATIENCE'],\n",
    "    baseline_val_rmse   = baseline_val_rmse,\n",
    "    clipnorm            = clipnorm,\n",
    "    device              = params.device\n",
    ")\n",
    "\n",
    "# -----------------------------------------------------------------------------\n",
    "# Final reporting: best RMSE and relative improvement\n",
    "# -----------------------------------------------------------------------------\n",
    "print(f\"\\nChampion validation RMSE = {best_val_rmse:.6f}\")\n",
    "\n",
    "improvement = 100.0 * (1.0 - best_val_rmse / baseline_val_rmse)\n",
    "print(f\"Improvement over zero‐baseline = {improvement:5.1f}%\")\n"
   ]
  },
  {
   "cell_type": "code",
   "execution_count": null,
   "id": "22b25c89-05c3-4a16-b013-97143f173e08",
   "metadata": {},
   "outputs": [],
   "source": []
  }
 ],
 "metadata": {
  "kernelspec": {
   "display_name": "Python 3 (ipykernel)",
   "language": "python",
   "name": "python3"
  },
  "language_info": {
   "codemirror_mode": {
    "name": "ipython",
    "version": 3
   },
   "file_extension": ".py",
   "mimetype": "text/x-python",
   "name": "python",
   "nbconvert_exporter": "python",
   "pygments_lexer": "ipython3",
   "version": "3.12.3"
  }
 },
 "nbformat": 4,
 "nbformat_minor": 5
}
