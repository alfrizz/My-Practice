{
 "cells": [
  {
   "cell_type": "code",
   "execution_count": 1,
   "id": "73f06a4f-691a-4a84-a305-e7212eb879bf",
   "metadata": {},
   "outputs": [],
   "source": [
    "# %matplotlib widget\n",
    "%matplotlib inline"
   ]
  },
  {
   "cell_type": "code",
   "execution_count": 2,
   "id": "4c868158-e6bb-4d56-bbdd-8e8103f0b9e4",
   "metadata": {},
   "outputs": [],
   "source": [
    "# 1) Wipe out all Python variables\n",
    "%reset -f\n",
    "# 2) Force Python’s garbage collector to run\n",
    "import gc\n",
    "gc.collect()\n",
    "\n",
    "import importlib\n",
    "from libs import trades, plots, params, models\n",
    "importlib.reload(trades)\n",
    "importlib.reload(plots)\n",
    "importlib.reload(params)\n",
    "importlib.reload(models)\n",
    "\n",
    "import pandas as pd\n",
    "pd.set_option('display.max_columns', None)\n",
    "\n",
    "import numpy  as np\n",
    "import math\n",
    "import matplotlib.pyplot as plt\n",
    "\n",
    "import datetime as dt\n",
    "import os\n",
    "from typing import Sequence, List, Tuple, Optional, Union\n",
    "\n",
    "import torch\n",
    "import torch.nn as nn\n",
    "import torch.nn.functional as Funct\n",
    "from torch_lr_finder import LRFinder\n",
    "from torch.utils.data import DataLoader, TensorDataset\n",
    "\n",
    "from tqdm import tqdm"
   ]
  },
  {
   "cell_type": "code",
   "execution_count": 3,
   "id": "7b98406a",
   "metadata": {},
   "outputs": [
    {
     "data": {
      "text/html": [
       "<div>\n",
       "<style scoped>\n",
       "    .dataframe tbody tr th:only-of-type {\n",
       "        vertical-align: middle;\n",
       "    }\n",
       "\n",
       "    .dataframe tbody tr th {\n",
       "        vertical-align: top;\n",
       "    }\n",
       "\n",
       "    .dataframe thead th {\n",
       "        text-align: right;\n",
       "    }\n",
       "</style>\n",
       "<table border=\"1\" class=\"dataframe\">\n",
       "  <thead>\n",
       "    <tr style=\"text-align: right;\">\n",
       "      <th></th>\n",
       "      <th>atr_ratio</th>\n",
       "      <th>atr_ratio_sma</th>\n",
       "      <th>vol_15</th>\n",
       "      <th>bb_width_20</th>\n",
       "      <th>r_15</th>\n",
       "      <th>rsi</th>\n",
       "      <th>stoch_k_14</th>\n",
       "      <th>eng_ma</th>\n",
       "      <th>bid</th>\n",
       "      <th>ask</th>\n",
       "      <th>signal</th>\n",
       "    </tr>\n",
       "  </thead>\n",
       "  <tbody>\n",
       "    <tr>\n",
       "      <th>2004-01-02 13:20:00</th>\n",
       "      <td>-0.989424</td>\n",
       "      <td>-0.997100</td>\n",
       "      <td>-0.997659</td>\n",
       "      <td>-0.838876</td>\n",
       "      <td>-0.112602</td>\n",
       "      <td>-2.494214</td>\n",
       "      <td>-1.555525</td>\n",
       "      <td>-0.001454</td>\n",
       "      <td>0.763480</td>\n",
       "      <td>0.764623</td>\n",
       "      <td>0.700958</td>\n",
       "    </tr>\n",
       "    <tr>\n",
       "      <th>2004-01-02 13:21:00</th>\n",
       "      <td>-0.988729</td>\n",
       "      <td>-0.996170</td>\n",
       "      <td>-0.998730</td>\n",
       "      <td>-0.832336</td>\n",
       "      <td>-0.120543</td>\n",
       "      <td>-2.494214</td>\n",
       "      <td>-1.555525</td>\n",
       "      <td>-0.001454</td>\n",
       "      <td>0.763463</td>\n",
       "      <td>0.764606</td>\n",
       "      <td>0.723180</td>\n",
       "    </tr>\n",
       "    <tr>\n",
       "      <th>2004-01-02 13:22:00</th>\n",
       "      <td>-0.988084</td>\n",
       "      <td>-0.995208</td>\n",
       "      <td>-1.000130</td>\n",
       "      <td>-0.826683</td>\n",
       "      <td>-0.120546</td>\n",
       "      <td>-2.494214</td>\n",
       "      <td>-1.555525</td>\n",
       "      <td>-0.001454</td>\n",
       "      <td>0.763446</td>\n",
       "      <td>0.764589</td>\n",
       "      <td>0.746114</td>\n",
       "    </tr>\n",
       "    <tr>\n",
       "      <th>2004-01-02 13:23:00</th>\n",
       "      <td>-0.987484</td>\n",
       "      <td>-0.994215</td>\n",
       "      <td>-1.001950</td>\n",
       "      <td>-0.822092</td>\n",
       "      <td>-0.120548</td>\n",
       "      <td>-2.494214</td>\n",
       "      <td>-1.555525</td>\n",
       "      <td>-0.001454</td>\n",
       "      <td>0.763430</td>\n",
       "      <td>0.764573</td>\n",
       "      <td>0.769783</td>\n",
       "    </tr>\n",
       "    <tr>\n",
       "      <th>2004-01-02 13:24:00</th>\n",
       "      <td>-0.986928</td>\n",
       "      <td>-0.993195</td>\n",
       "      <td>-1.004371</td>\n",
       "      <td>-0.818764</td>\n",
       "      <td>-0.120551</td>\n",
       "      <td>-2.494214</td>\n",
       "      <td>-1.555525</td>\n",
       "      <td>-0.001454</td>\n",
       "      <td>0.763413</td>\n",
       "      <td>0.764556</td>\n",
       "      <td>0.794212</td>\n",
       "    </tr>\n",
       "    <tr>\n",
       "      <th>...</th>\n",
       "      <td>...</td>\n",
       "      <td>...</td>\n",
       "      <td>...</td>\n",
       "      <td>...</td>\n",
       "      <td>...</td>\n",
       "      <td>...</td>\n",
       "      <td>...</td>\n",
       "      <td>...</td>\n",
       "      <td>...</td>\n",
       "      <td>...</td>\n",
       "      <td>...</td>\n",
       "    </tr>\n",
       "    <tr>\n",
       "      <th>2025-06-18 20:56:00</th>\n",
       "      <td>0.590045</td>\n",
       "      <td>0.188423</td>\n",
       "      <td>0.348646</td>\n",
       "      <td>0.119859</td>\n",
       "      <td>1.317454</td>\n",
       "      <td>0.817330</td>\n",
       "      <td>0.354270</td>\n",
       "      <td>12.076104</td>\n",
       "      <td>196.667400</td>\n",
       "      <td>196.962600</td>\n",
       "      <td>0.589796</td>\n",
       "    </tr>\n",
       "    <tr>\n",
       "      <th>2025-06-18 20:57:00</th>\n",
       "      <td>0.649863</td>\n",
       "      <td>0.214541</td>\n",
       "      <td>0.391490</td>\n",
       "      <td>0.185120</td>\n",
       "      <td>1.115028</td>\n",
       "      <td>0.543997</td>\n",
       "      <td>0.426928</td>\n",
       "      <td>12.360953</td>\n",
       "      <td>196.527500</td>\n",
       "      <td>196.822500</td>\n",
       "      <td>0.590466</td>\n",
       "    </tr>\n",
       "    <tr>\n",
       "      <th>2025-06-18 20:58:00</th>\n",
       "      <td>0.581581</td>\n",
       "      <td>0.238137</td>\n",
       "      <td>0.392127</td>\n",
       "      <td>0.238802</td>\n",
       "      <td>0.828680</td>\n",
       "      <td>0.534383</td>\n",
       "      <td>0.381698</td>\n",
       "      <td>12.360953</td>\n",
       "      <td>196.522500</td>\n",
       "      <td>196.817500</td>\n",
       "      <td>0.586079</td>\n",
       "    </tr>\n",
       "    <tr>\n",
       "      <th>2025-06-18 20:59:00</th>\n",
       "      <td>0.703827</td>\n",
       "      <td>0.269879</td>\n",
       "      <td>0.692828</td>\n",
       "      <td>0.242909</td>\n",
       "      <td>-0.093777</td>\n",
       "      <td>-0.152067</td>\n",
       "      <td>-0.182913</td>\n",
       "      <td>9.227624</td>\n",
       "      <td>196.092800</td>\n",
       "      <td>196.387200</td>\n",
       "      <td>0.576345</td>\n",
       "    </tr>\n",
       "    <tr>\n",
       "      <th>2025-06-18 21:00:00</th>\n",
       "      <td>0.838639</td>\n",
       "      <td>0.309419</td>\n",
       "      <td>0.795378</td>\n",
       "      <td>0.234348</td>\n",
       "      <td>0.662940</td>\n",
       "      <td>0.224022</td>\n",
       "      <td>-0.322848</td>\n",
       "      <td>8.487019</td>\n",
       "      <td>196.392600</td>\n",
       "      <td>196.687400</td>\n",
       "      <td>0.565350</td>\n",
       "    </tr>\n",
       "  </tbody>\n",
       "</table>\n",
       "<p>3551120 rows × 11 columns</p>\n",
       "</div>"
      ],
      "text/plain": [
       "                     atr_ratio  atr_ratio_sma    vol_15  bb_width_20  \\\n",
       "2004-01-02 13:20:00  -0.989424      -0.997100 -0.997659    -0.838876   \n",
       "2004-01-02 13:21:00  -0.988729      -0.996170 -0.998730    -0.832336   \n",
       "2004-01-02 13:22:00  -0.988084      -0.995208 -1.000130    -0.826683   \n",
       "2004-01-02 13:23:00  -0.987484      -0.994215 -1.001950    -0.822092   \n",
       "2004-01-02 13:24:00  -0.986928      -0.993195 -1.004371    -0.818764   \n",
       "...                        ...            ...       ...          ...   \n",
       "2025-06-18 20:56:00   0.590045       0.188423  0.348646     0.119859   \n",
       "2025-06-18 20:57:00   0.649863       0.214541  0.391490     0.185120   \n",
       "2025-06-18 20:58:00   0.581581       0.238137  0.392127     0.238802   \n",
       "2025-06-18 20:59:00   0.703827       0.269879  0.692828     0.242909   \n",
       "2025-06-18 21:00:00   0.838639       0.309419  0.795378     0.234348   \n",
       "\n",
       "                         r_15       rsi  stoch_k_14     eng_ma         bid  \\\n",
       "2004-01-02 13:20:00 -0.112602 -2.494214   -1.555525  -0.001454    0.763480   \n",
       "2004-01-02 13:21:00 -0.120543 -2.494214   -1.555525  -0.001454    0.763463   \n",
       "2004-01-02 13:22:00 -0.120546 -2.494214   -1.555525  -0.001454    0.763446   \n",
       "2004-01-02 13:23:00 -0.120548 -2.494214   -1.555525  -0.001454    0.763430   \n",
       "2004-01-02 13:24:00 -0.120551 -2.494214   -1.555525  -0.001454    0.763413   \n",
       "...                       ...       ...         ...        ...         ...   \n",
       "2025-06-18 20:56:00  1.317454  0.817330    0.354270  12.076104  196.667400   \n",
       "2025-06-18 20:57:00  1.115028  0.543997    0.426928  12.360953  196.527500   \n",
       "2025-06-18 20:58:00  0.828680  0.534383    0.381698  12.360953  196.522500   \n",
       "2025-06-18 20:59:00 -0.093777 -0.152067   -0.182913   9.227624  196.092800   \n",
       "2025-06-18 21:00:00  0.662940  0.224022   -0.322848   8.487019  196.392600   \n",
       "\n",
       "                            ask    signal  \n",
       "2004-01-02 13:20:00    0.764623  0.700958  \n",
       "2004-01-02 13:21:00    0.764606  0.723180  \n",
       "2004-01-02 13:22:00    0.764589  0.746114  \n",
       "2004-01-02 13:23:00    0.764573  0.769783  \n",
       "2004-01-02 13:24:00    0.764556  0.794212  \n",
       "...                         ...       ...  \n",
       "2025-06-18 20:56:00  196.962600  0.589796  \n",
       "2025-06-18 20:57:00  196.822500  0.590466  \n",
       "2025-06-18 20:58:00  196.817500  0.586079  \n",
       "2025-06-18 20:59:00  196.387200  0.576345  \n",
       "2025-06-18 21:00:00  196.687400  0.565350  \n",
       "\n",
       "[3551120 rows x 11 columns]"
      ]
     },
     "execution_count": 3,
     "metadata": {},
     "output_type": "execute_result"
    }
   ],
   "source": [
    "if params.feat_sel == 'auto': # automatic feature selection, based on feature importance notebook\n",
    "    \n",
    "    df_feat_sel = pd.read_csv(params.feat_sel_auto_csv, index_col=0, parse_dates=True)\n",
    "    \n",
    "elif params.feat_sel == 'man': # alternative manual feature selection, based on the features selected in the params.py\n",
    "    \n",
    "    df_feat_sel = pd.read_csv(params.feat_all_csv, index_col=0, parse_dates=True)[params.features_cols_tick + ['bid','ask'] + [params.label_col]]\n",
    "    \n",
    "df_feat_sel"
   ]
  },
  {
   "cell_type": "code",
   "execution_count": 4,
   "id": "b805fa9c",
   "metadata": {},
   "outputs": [
    {
     "name": "stdout",
     "output_type": "stream",
     "text": [
      "Inside build_lstm_tensors, using: ['atr_ratio', 'atr_ratio_sma', 'vol_15', 'bb_width_20', 'r_15', 'rsi', 'stoch_k_14', 'eng_ma']\n"
     ]
    },
    {
     "data": {
      "application/vnd.jupyter.widget-view+json": {
       "model_id": "32a54a9d7c404a61bab35ae218acba54",
       "version_major": 2,
       "version_minor": 0
      },
      "text/plain": [
       "Counting windows:   0%|          | 0/5400 [00:00<?, ?it/s]"
      ]
     },
     "metadata": {},
     "output_type": "display_data"
    },
    {
     "data": {
      "application/vnd.jupyter.widget-view+json": {
       "model_id": "a5fad82648f94f30820b47fcf40610f7",
       "version_major": 2,
       "version_minor": 0
      },
      "text/plain": [
       "Writing memmaps:   0%|          | 0/5400 [00:00<?, ?it/s]"
      ]
     },
     "metadata": {},
     "output_type": "display_data"
    },
    {
     "name": "stdout",
     "output_type": "stream",
     "text": [
      "Shapes:\n",
      "  X         = torch.Size([2407243, 60, 8]) (samples, look_back, features)\n",
      "  y_sig     = torch.Size([2407243]) (samples,)\n",
      "  y_ret     = torch.Size([2407243]) (samples,)\n",
      "  raw_close = torch.Size([2407243])\n",
      "  raw_bid   = torch.Size([2407243])\n",
      "  raw_ask   = torch.Size([2407243])\n",
      "  end_times = (2407243,)\n"
     ]
    }
   ],
   "source": [
    "X, y_sig, y_ret, raw_close, raw_bid, raw_ask, end_times = models.build_lstm_tensors(\n",
    "    df            = df_feat_sel,\n",
    "    sess_start    = params.sess_start_pred_tick \n",
    ")\n",
    "\n",
    "# quick shapes\n",
    "print(\"Shapes:\")\n",
    "print(\"  X         =\", X.shape,    \"(samples, look_back, features)\")\n",
    "print(\"  y_sig     =\", y_sig.shape, \"(samples,)\")\n",
    "print(\"  y_ret     =\", y_ret.shape, \"(samples,)\")\n",
    "print(\"  raw_close =\", raw_close.shape)\n",
    "print(\"  raw_bid   =\", raw_bid.shape)\n",
    "print(\"  raw_ask   =\", raw_ask.shape)\n",
    "print(\"  end_times =\", end_times.shape)\n"
   ]
  },
  {
   "cell_type": "code",
   "execution_count": 5,
   "id": "7b4f1ac4",
   "metadata": {},
   "outputs": [
    {
     "name": "stdout",
     "output_type": "stream",
     "text": [
      "Shapes:\n",
      "  X_tr  = torch.Size([1689251, 60, 8])\n",
      "  y_sig_tr, y_ret_tr = torch.Size([1689251]) torch.Size([1689251])\n",
      "  X_val = torch.Size([353133, 60, 8])\n",
      "  y_sig_val, y_ret_val = torch.Size([353133]) torch.Size([353133])\n",
      "  X_te  = torch.Size([364859, 60, 8])\n",
      "  y_sig_te, y_ret_te = torch.Size([364859]) torch.Size([364859])\n"
     ]
    }
   ],
   "source": [
    "# Split into train/val/test by calendar day\n",
    "(\n",
    "(X_tr,  y_sig_tr,  y_ret_tr),\n",
    "(X_val, y_sig_val, y_ret_val),\n",
    "(X_te,  y_sig_te,  y_ret_te,  raw_close_te, raw_bid_te, raw_ask_te),\n",
    "samples_per_day,\n",
    "day_id_tr, day_id_val, day_id_te\n",
    ") = models.chronological_split(\n",
    "    X, y_sig, y_ret,\n",
    "    raw_close, raw_bid, raw_ask,\n",
    "    end_times   = end_times,\n",
    "    train_prop  = params.train_prop,\n",
    "    val_prop    = params.val_prop,\n",
    "    train_batch = params.hparams['TRAIN_BATCH']\n",
    ")\n",
    "\n",
    "# Print shapes of all tensors\n",
    "print(\"Shapes:\")\n",
    "print(\"  X_tr  =\", X_tr.shape)\n",
    "print(\"  y_sig_tr, y_ret_tr =\", y_sig_tr.shape, y_ret_tr.shape)\n",
    "print(\"  X_val =\", X_val.shape)\n",
    "print(\"  y_sig_val, y_ret_val =\", y_sig_val.shape, y_ret_val.shape)\n",
    "print(\"  X_te  =\", X_te.shape)\n",
    "print(\"  y_sig_te, y_ret_te =\", y_sig_te.shape, y_ret_te.shape)\n"
   ]
  },
  {
   "cell_type": "code",
   "execution_count": 6,
   "id": "1ad9b6c4-3d79-45c0-b2c0-c4f46f1ad866",
   "metadata": {},
   "outputs": [
    {
     "data": {
      "application/vnd.jupyter.widget-view+json": {
       "model_id": "6ef55b6cacfd48f885eb5974a925b967",
       "version_major": 2,
       "version_minor": 0
      },
      "text/plain": [
       "Creating DayWindowDatasets:   0%|          | 0/3 [00:00<?, ?split/s]"
      ]
     },
     "metadata": {},
     "output_type": "display_data"
    },
    {
     "name": "stdout",
     "output_type": "stream",
     "text": [
      "Days  → train=3808, val=783, test=809\n",
      "Batches → train=119,   val=783,   test=809\n"
     ]
    }
   ],
   "source": [
    "# carve `end_times` into the same three splits:\n",
    "n_tr  = day_id_tr .shape[0] \n",
    "n_val = day_id_val.shape[0]\n",
    "i_tr  = n_tr\n",
    "i_val = n_tr + n_val\n",
    "\n",
    "end_times_tr  = end_times[:i_tr]\n",
    "end_times_val = end_times[i_tr:i_val]\n",
    "end_times_te  = end_times[i_val:]\n",
    "\n",
    "# -----------------------------------------------------------------------------\n",
    "#  Build DataLoaders over calendar‐days\n",
    "# -----------------------------------------------------------------------------\n",
    "train_loader, val_loader, test_loader = models.split_to_day_datasets(\n",
    "    # train split:   \n",
    "    X_tr,            y_sig_tr,     y_ret_tr,   end_times_tr,\n",
    "    # val split:\n",
    "    X_val,           y_sig_val,    y_ret_val,  end_times_val,\n",
    "    # test split + raw‐prices\n",
    "    X_te,            y_sig_te,     y_ret_te,   end_times_te,\n",
    "    raw_close_te, raw_bid_te, raw_ask_te,\n",
    "    \n",
    "    sess_start_time       = params.sess_start_pred_tick,\n",
    "    signal_thresh         = params.best_optuna_params[\"buy_threshold\"],\n",
    "    return_thresh         = 0.01,  # flat‐zone threshold for returns (to tune)\n",
    "    train_batch           = params.hparams[\"TRAIN_BATCH\"],\n",
    "    train_workers         = params.hparams[\"NUM_WORKERS\"],\n",
    "    train_prefetch_factor = params.hparams[\"TRAIN_PREFETCH_FACTOR\"]\n",
    ")\n",
    "\n",
    "print(f\"Days  → train={len(train_loader.dataset)}, val={len(val_loader.dataset)}, test={len(test_loader.dataset)}\")\n",
    "print(f\"Batches → train={len(train_loader)},   val={len(val_loader)},   test={len(test_loader)}\")"
   ]
  },
  {
   "cell_type": "code",
   "execution_count": 7,
   "id": "eeec031f-6c8f-455f-9c72-ae411e03ba34",
   "metadata": {},
   "outputs": [
    {
     "data": {
      "text/plain": [
       "DualMemoryLSTM(\n",
       "  (conv): Conv1d(8, 8, kernel_size=(3,), stride=(1,), padding=(1,))\n",
       "  (short_lstm): LSTM(8, 64, batch_first=True, bidirectional=True)\n",
       "  (attn): MultiheadAttention(\n",
       "    (out_proj): NonDynamicallyQuantizableLinear(in_features=128, out_features=128, bias=True)\n",
       "  )\n",
       "  (do_short): Dropout(p=0.15, inplace=False)\n",
       "  (ln_short): LayerNorm((128,), eps=1e-05, elementwise_affine=True)\n",
       "  (long_lstm): LSTM(128, 64, batch_first=True, bidirectional=True)\n",
       "  (do_long): Dropout(p=0.15, inplace=False)\n",
       "  (ln_long): LayerNorm((128,), eps=1e-05, elementwise_affine=True)\n",
       "  (pred): Linear(in_features=128, out_features=1, bias=True)\n",
       "  (cls_head): Linear(in_features=128, out_features=1, bias=True)\n",
       "  (cls_ter): Linear(in_features=128, out_features=3, bias=True)\n",
       ")"
      ]
     },
     "execution_count": 7,
     "metadata": {},
     "output_type": "execute_result"
    }
   ],
   "source": [
    "# -----------------------------------------------------------------------------\n",
    "# Instantiate the stateful DualMemoryLSTM & move to device\n",
    "# -----------------------------------------------------------------------------\n",
    "model = models.DualMemoryLSTM(\n",
    "    n_feats        = X.shape[-1],                          \n",
    "    short_units    = params.hparams['SHORT_UNITS'],    \n",
    "    long_units     = params.hparams['LONG_UNITS'],     \n",
    "    dropout_short  = params.hparams['DROPOUT_SHORT'],  \n",
    "    dropout_long   = params.hparams['DROPOUT_LONG'],   \n",
    "    att_heads      = params.hparams['ATT_HEADS'],\n",
    "    att_drop       = params.hparams['ATT_DROPOUT']\n",
    ")\n",
    "model.to(params.device)  \n",
    "\n",
    "model"
   ]
  },
  {
   "cell_type": "code",
   "execution_count": 8,
   "id": "5512a0dd-d2c8-418e-bfca-4580fb4be995",
   "metadata": {},
   "outputs": [
    {
     "data": {
      "text/plain": [
       "AdamW (\n",
       "Parameter Group 0\n",
       "    amsgrad: False\n",
       "    betas: (0.9, 0.999)\n",
       "    capturable: False\n",
       "    decoupled_weight_decay: True\n",
       "    differentiable: False\n",
       "    eps: 1e-08\n",
       "    foreach: None\n",
       "    fused: None\n",
       "    initial_lr: 0.0001\n",
       "    lr: 0.0001\n",
       "    maximize: False\n",
       "    weight_decay: 1e-05\n",
       ")"
      ]
     },
     "execution_count": 8,
     "metadata": {},
     "output_type": "execute_result"
    }
   ],
   "source": [
    "# -----------------------------------------------------------------------------\n",
    "# Compute plateau_sched timing parameters\n",
    "# -----------------------------------------------------------------------------\n",
    "# Total training samples = total windows in X_tr (one window per row)\n",
    "n_train_samples = X_tr.shape[0]\n",
    "\n",
    "# How many optimizer steps (day‐bundles) constitute one epoch?\n",
    "steps_per_epoch = len(train_loader)\n",
    "\n",
    "\n",
    "# -----------------------------------------------------------------------------\n",
    "# Build optimizer, LR scheduler, AMP scaler, and gradient‐clip norm\n",
    "# -----------------------------------------------------------------------------\n",
    "optimizer, plateau_sched, cosine_sched, scaler, clipnorm = models.make_optimizer_and_scheduler(\n",
    "    model,\n",
    "    initial_lr        = params.hparams['INITIAL_LR'],       \n",
    "    weight_decay      = params.hparams['WEIGHT_DECAY'],     \n",
    "    clipnorm          = params.hparams['CLIPNORM']   \n",
    ")\n",
    "\n",
    "optimizer"
   ]
  },
  {
   "cell_type": "code",
   "execution_count": 9,
   "id": "e9c5fc27-f31d-4adc-a247-5468674f83fc",
   "metadata": {},
   "outputs": [
    {
     "name": "stdout",
     "output_type": "stream",
     "text": [
      "Zero‐forecast RMSE (predict 0): train = 0.430599,  val = 0.426187\n",
      "\n",
      "Train target stats:\n",
      "  mean = 0.3352,  var = 0.0731,  std = 0.2703\n",
      "Train mean‐predictor baseline:\n",
      "  RMSE_baseline = 0.270312\n",
      "  R²_baseline   = 0.00\n",
      "\n",
      "Validation target stats:\n",
      "  mean = 0.3396,  var = 0.0663,  std = 0.2575\n",
      "Validation mean‐predictor baseline:\n",
      "  RMSE_baseline = 0.257504\n",
      "  R²_baseline   = 0.00\n",
      "\n"
     ]
    }
   ],
   "source": [
    "# -----------------------------------------------------------------------------\n",
    "# Helper: extract the true “signal” values from any loader into a flat array\n",
    "# -----------------------------------------------------------------------------\n",
    "def extract_y(loader):\n",
    "    return np.concatenate([batch[1].cpu().numpy().ravel() for batch in loader])\n",
    "\n",
    "# Pull out train & validation targets\n",
    "y_train = extract_y(train_loader)\n",
    "y_val   = extract_y(val_loader)\n",
    "\n",
    "# -----------------------------------------------------------------------------\n",
    "# 1) Zero‐forecast baseline RMSE (predict 0 always)\n",
    "#    RMSE_zero = √(mean(y²))\n",
    "# -----------------------------------------------------------------------------\n",
    "rmse_zero_train = np.sqrt(np.mean(y_train**2))\n",
    "rmse_zero_val   = np.sqrt(np.mean(y_val**2))\n",
    "print(f\"Zero‐forecast RMSE (predict 0): train = {rmse_zero_train:.6f},  val = {rmse_zero_val:.6f}\\n\")\n",
    "\n",
    "# -----------------------------------------------------------------------------\n",
    "# 2) Compute mean, variance & std for train/validation targets\n",
    "#    and derive the mean‐predictor baseline (R² = 0)\n",
    "# -----------------------------------------------------------------------------\n",
    "for split, y in [(\"Train\", y_train), (\"Validation\", y_val)]:\n",
    "    mean_y    = y.mean()\n",
    "    std_y     = y.std(ddof=0)     # population std = √variance\n",
    "    var_y     = std_y**2\n",
    "    rmse_mean = std_y            # RMSE_baseline = std(target)\n",
    "\n",
    "    print(f\"{split} target stats:\")\n",
    "    print(f\"  mean = {mean_y:.4f},  var = {var_y:.4f},  std = {std_y:.4f}\")\n",
    "    print(f\"{split} mean‐predictor baseline:\")\n",
    "    print(f\"  RMSE_baseline = {rmse_mean:.6f}\")\n",
    "    print(\"  R²_baseline   = 0.00\\n\")\n",
    "\n",
    "    if split == \"Validation\":\n",
    "        rmse_mean_val = rmse_mean # used afterwards for the final reporting\n",
    "        \n"
   ]
  },
  {
   "cell_type": "code",
   "execution_count": 10,
   "id": "a8f7ec8c-5882-486b-bdfd-371b8db260f9",
   "metadata": {},
   "outputs": [
    {
     "data": {
      "image/png": "[encoded data removed]",
      "text/plain": [
       "<Figure size 640x480 with 1 Axes>"
      ]
     },
     "metadata": {},
     "output_type": "display_data"
    }
   ],
   "source": [
    "# Visualize the true‐signal distributions on train vs. validation\n",
    "plt.hist(y_train, bins=100, alpha=0.5, label=\"train true\")\n",
    "plt.hist(y_val,   bins=100, alpha=0.5, label=\"val true\")\n",
    "plt.xlabel(\"Signal value\")\n",
    "plt.ylabel(\"Count\")\n",
    "plt.title(\"True Signal Distribution: Train vs. Validation\")\n",
    "plt.legend()\n",
    "plt.tight_layout()\n",
    "plt.show()\n"
   ]
  },
  {
   "cell_type": "code",
   "execution_count": null,
   "id": "7bf94780-a876-4bf4-ad27-6abc2da1fc0a",
   "metadata": {},
   "outputs": [
    {
     "name": "stdout",
     "output_type": "stream",
     "text": [
      "Training sees 3808 unique trading days per epoch.\n",
      "\n"
     ]
    },
    {
     "data": {
      "image/png": "[encoded data removed]",
      "text/plain": [
       "<Figure size 660x440 with 1 Axes>"
      ]
     },
     "metadata": {},
     "output_type": "display_data"
    },
    {
     "data": {
      "application/vnd.jupyter.widget-view+json": {
       "model_id": "19fa414d17f34ea18c792437e384f411",
       "version_major": 2,
       "version_minor": 0
      },
      "text/plain": [
       "Epoch 1:   0%|          | 0/119 [00:00<?, ?batch/s]"
      ]
     },
     "metadata": {},
     "output_type": "display_data"
    }
   ],
   "source": [
    "# How many unique trading days does each epoch see?\n",
    "n_days = len(train_loader.dataset)\n",
    "print(f\"Training sees {n_days} unique trading days per epoch.\\n\")\n",
    "\n",
    "# -----------------------------------------------------------------------------\n",
    "# Run the custom stateful training loop\n",
    "# -----------------------------------------------------------------------------\n",
    "best_val_rmse  = models.custom_stateful_training_loop(\n",
    "    model               = model,\n",
    "    optimizer           = optimizer,\n",
    "    cosine_sched        = cosine_sched,\n",
    "    plateau_sched       = plateau_sched,\n",
    "    scaler              = scaler,\n",
    "    train_loader        = train_loader,\n",
    "    val_loader          = val_loader,\n",
    "    max_epochs          = params.hparams['MAX_EPOCHS'],\n",
    "    early_stop_patience = params.hparams['EARLY_STOP_PATIENCE'],\n",
    "    clipnorm            = clipnorm,\n",
    "    device              = params.device\n",
    ")\n",
    "\n",
    "# -----------------------------------------------------------------------------\n",
    "# Final reporting: best RMSE and relative improvement\n",
    "# -----------------------------------------------------------------------------\n",
    "print(f\"\\nChampion validation RMSE = {best_val_rmse:.6f}\")\n",
    "\n",
    "improvement_zero = 100.0 * (1.0 - best_val_rmse / rmse_zero_val)\n",
    "print(f\"Improvement over zero‐baseline = {improvement_zero:5.1f}%\")\n",
    "\n",
    "improvement_mean = 100.0 * (1.0 - best_val_rmse / rmse_mean_val)\n",
    "print(f\"Improvement over zero‐baseline = {improvement_mean:5.1f}%\")\n",
    "\n"
   ]
  },
  {
   "cell_type": "code",
   "execution_count": null,
   "id": "22b25c89-05c3-4a16-b013-97143f173e08",
   "metadata": {},
   "outputs": [],
   "source": []
  }
 ],
 "metadata": {
  "kernelspec": {
   "display_name": "Python 3 (ipykernel)",
   "language": "python",
   "name": "python3"
  },
  "language_info": {
   "codemirror_mode": {
    "name": "ipython",
    "version": 3
   },
   "file_extension": ".py",
   "mimetype": "text/x-python",
   "name": "python",
   "nbconvert_exporter": "python",
   "pygments_lexer": "ipython3",
   "version": "3.12.3"
  }
 },
 "nbformat": 4,
 "nbformat_minor": 5
}
