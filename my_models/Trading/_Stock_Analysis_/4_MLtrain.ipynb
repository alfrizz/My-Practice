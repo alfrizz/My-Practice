{
 "cells": [
  {
   "cell_type": "code",
   "execution_count": 1,
   "id": "fed6c184-8438-497e-8ae7-82cc35ac4819",
   "metadata": {},
   "outputs": [
    {
     "data": {
      "text/plain": [
       "<module 'libs.models_core' from '/workspace/my_models/Trading/_Stock_Analysis_/libs/models_core.py'>"
      ]
     },
     "execution_count": 1,
     "metadata": {},
     "output_type": "execute_result"
    }
   ],
   "source": [
    "%matplotlib inline \n",
    "\n",
    "# 1) Wipe out your namespace\n",
    "%reset -f\n",
    "\n",
    "# 2) Clear Jupyter’s stored outputs (and inputs if you like)\n",
    "try:\n",
    "    Out.clear()\n",
    "except NameError:\n",
    "    pass\n",
    "\n",
    "try:\n",
    "    In.clear()\n",
    "except NameError:\n",
    "    pass\n",
    "\n",
    "# 3) Force Python GC\n",
    "import gc\n",
    "gc.collect()\n",
    "\n",
    "# 4) Free any GPU buffers\n",
    "import torch\n",
    "if torch.cuda.is_available():\n",
    "    torch.cuda.empty_cache()\n",
    "\n",
    "import importlib\n",
    "from libs import params, trades, feats, plots, models_core\n",
    "importlib.reload(params)\n",
    "importlib.reload(trades)\n",
    "importlib.reload(feats)\n",
    "importlib.reload(plots)\n",
    "importlib.reload(models_core)"
   ]
  },
  {
   "cell_type": "code",
   "execution_count": 2,
   "id": "4c868158-e6bb-4d56-bbdd-8e8103f0b9e4",
   "metadata": {},
   "outputs": [],
   "source": [
    "import pandas as pd\n",
    "pd.set_option('display.max_columns', None)\n",
    "\n",
    "import numpy  as np\n",
    "import math\n",
    "import matplotlib.pyplot as plt\n",
    "\n",
    "import datetime as dt\n",
    "import os\n",
    "from typing import Sequence, List, Tuple, Optional, Union\n",
    "\n",
    "import torch.nn as nn\n",
    "from torch.nn import MSELoss, Dropout\n",
    "import torch.nn.functional as Funct\n",
    "from torch_lr_finder import LRFinder\n",
    "from torch.utils.data import DataLoader, TensorDataset\n",
    "from torch.optim import AdamW\n",
    "from torch.optim.lr_scheduler import CosineAnnealingWarmRestarts, ReduceLROnPlateau, OneCycleLR\n",
    "from torch.amp import GradScaler\n",
    "\n",
    "from tqdm import tqdm"
   ]
  },
  {
   "cell_type": "code",
   "execution_count": 3,
   "id": "7b98406a",
   "metadata": {},
   "outputs": [
    {
     "data": {
      "text/html": [
       "<div>\n",
       "<style scoped>\n",
       "    .dataframe tbody tr th:only-of-type {\n",
       "        vertical-align: middle;\n",
       "    }\n",
       "\n",
       "    .dataframe tbody tr th {\n",
       "        vertical-align: top;\n",
       "    }\n",
       "\n",
       "    .dataframe thead th {\n",
       "        text-align: right;\n",
       "    }\n",
       "</style>\n",
       "<table border=\"1\" class=\"dataframe\">\n",
       "  <thead>\n",
       "    <tr style=\"text-align: right;\">\n",
       "      <th></th>\n",
       "      <th>sma_pct_14</th>\n",
       "      <th>atr_pct_14</th>\n",
       "      <th>rsi_14</th>\n",
       "      <th>bb_w_20</th>\n",
       "      <th>plus_di_14</th>\n",
       "      <th>range_pct</th>\n",
       "      <th>eng_ma</th>\n",
       "      <th>minus_di_14</th>\n",
       "      <th>eng_macd</th>\n",
       "      <th>macd_diff_12_26_9</th>\n",
       "      <th>body_pct</th>\n",
       "      <th>macd_line_12_26_9</th>\n",
       "      <th>volume</th>\n",
       "      <th>obv_diff_14</th>\n",
       "      <th>eng_rsi</th>\n",
       "      <th>eng_atr_div</th>\n",
       "      <th>eng_adx</th>\n",
       "      <th>adx_14</th>\n",
       "      <th>hour</th>\n",
       "      <th>body</th>\n",
       "      <th>close_raw</th>\n",
       "      <th>signal</th>\n",
       "    </tr>\n",
       "  </thead>\n",
       "  <tbody>\n",
       "    <tr>\n",
       "      <th>2004-01-02 09:33:00</th>\n",
       "      <td>0.499798</td>\n",
       "      <td>0.000000</td>\n",
       "      <td>1.000000</td>\n",
       "      <td>0.000000</td>\n",
       "      <td>0.000000</td>\n",
       "      <td>0.000000</td>\n",
       "      <td>0.516453</td>\n",
       "      <td>0.000000</td>\n",
       "      <td>0.624765</td>\n",
       "      <td>0.506696</td>\n",
       "      <td>0.499412</td>\n",
       "      <td>0.489532</td>\n",
       "      <td>0.020724</td>\n",
       "      <td>0.488177</td>\n",
       "      <td>1.0</td>\n",
       "      <td>0.353456</td>\n",
       "      <td>0.519392</td>\n",
       "      <td>0.000000</td>\n",
       "      <td>1.002425</td>\n",
       "      <td>0.506538</td>\n",
       "      <td>0.764286</td>\n",
       "      <td>6.967909e-09</td>\n",
       "    </tr>\n",
       "    <tr>\n",
       "      <th>2004-01-02 09:34:00</th>\n",
       "      <td>0.499798</td>\n",
       "      <td>0.000000</td>\n",
       "      <td>1.000000</td>\n",
       "      <td>0.000000</td>\n",
       "      <td>0.000000</td>\n",
       "      <td>0.000000</td>\n",
       "      <td>0.516453</td>\n",
       "      <td>0.000000</td>\n",
       "      <td>0.624765</td>\n",
       "      <td>0.506696</td>\n",
       "      <td>0.499412</td>\n",
       "      <td>0.489532</td>\n",
       "      <td>0.020724</td>\n",
       "      <td>0.488177</td>\n",
       "      <td>1.0</td>\n",
       "      <td>0.353456</td>\n",
       "      <td>0.519392</td>\n",
       "      <td>0.000000</td>\n",
       "      <td>1.002425</td>\n",
       "      <td>0.506538</td>\n",
       "      <td>0.764286</td>\n",
       "      <td>7.448270e-09</td>\n",
       "    </tr>\n",
       "    <tr>\n",
       "      <th>2004-01-02 09:35:00</th>\n",
       "      <td>0.499798</td>\n",
       "      <td>0.000000</td>\n",
       "      <td>1.000000</td>\n",
       "      <td>0.000000</td>\n",
       "      <td>0.000000</td>\n",
       "      <td>0.000000</td>\n",
       "      <td>0.516453</td>\n",
       "      <td>0.000000</td>\n",
       "      <td>0.624765</td>\n",
       "      <td>0.506696</td>\n",
       "      <td>0.499412</td>\n",
       "      <td>0.489532</td>\n",
       "      <td>0.020724</td>\n",
       "      <td>0.488177</td>\n",
       "      <td>1.0</td>\n",
       "      <td>0.353456</td>\n",
       "      <td>0.519392</td>\n",
       "      <td>0.000000</td>\n",
       "      <td>1.002425</td>\n",
       "      <td>0.506538</td>\n",
       "      <td>0.764286</td>\n",
       "      <td>7.961747e-09</td>\n",
       "    </tr>\n",
       "    <tr>\n",
       "      <th>2004-01-02 09:36:00</th>\n",
       "      <td>0.499798</td>\n",
       "      <td>0.000000</td>\n",
       "      <td>1.000000</td>\n",
       "      <td>0.000000</td>\n",
       "      <td>0.000000</td>\n",
       "      <td>0.000000</td>\n",
       "      <td>0.516453</td>\n",
       "      <td>0.000000</td>\n",
       "      <td>0.624765</td>\n",
       "      <td>0.506696</td>\n",
       "      <td>0.499412</td>\n",
       "      <td>0.489532</td>\n",
       "      <td>0.020724</td>\n",
       "      <td>0.488177</td>\n",
       "      <td>1.0</td>\n",
       "      <td>0.353456</td>\n",
       "      <td>0.519392</td>\n",
       "      <td>0.000000</td>\n",
       "      <td>1.002425</td>\n",
       "      <td>0.506538</td>\n",
       "      <td>0.764286</td>\n",
       "      <td>8.510623e-09</td>\n",
       "    </tr>\n",
       "    <tr>\n",
       "      <th>2004-01-02 09:37:00</th>\n",
       "      <td>0.499798</td>\n",
       "      <td>0.000000</td>\n",
       "      <td>1.000000</td>\n",
       "      <td>0.000000</td>\n",
       "      <td>0.000000</td>\n",
       "      <td>0.000000</td>\n",
       "      <td>0.516453</td>\n",
       "      <td>0.000000</td>\n",
       "      <td>0.624765</td>\n",
       "      <td>0.506696</td>\n",
       "      <td>0.499412</td>\n",
       "      <td>0.489532</td>\n",
       "      <td>0.020724</td>\n",
       "      <td>0.488177</td>\n",
       "      <td>1.0</td>\n",
       "      <td>0.353456</td>\n",
       "      <td>0.519392</td>\n",
       "      <td>0.000000</td>\n",
       "      <td>1.002425</td>\n",
       "      <td>0.506538</td>\n",
       "      <td>0.764286</td>\n",
       "      <td>9.097338e-09</td>\n",
       "    </tr>\n",
       "    <tr>\n",
       "      <th>...</th>\n",
       "      <td>...</td>\n",
       "      <td>...</td>\n",
       "      <td>...</td>\n",
       "      <td>...</td>\n",
       "      <td>...</td>\n",
       "      <td>...</td>\n",
       "      <td>...</td>\n",
       "      <td>...</td>\n",
       "      <td>...</td>\n",
       "      <td>...</td>\n",
       "      <td>...</td>\n",
       "      <td>...</td>\n",
       "      <td>...</td>\n",
       "      <td>...</td>\n",
       "      <td>...</td>\n",
       "      <td>...</td>\n",
       "      <td>...</td>\n",
       "      <td>...</td>\n",
       "      <td>...</td>\n",
       "      <td>...</td>\n",
       "      <td>...</td>\n",
       "      <td>...</td>\n",
       "    </tr>\n",
       "    <tr>\n",
       "      <th>2025-06-18 20:56:00</th>\n",
       "      <td>0.751690</td>\n",
       "      <td>0.323886</td>\n",
       "      <td>0.672166</td>\n",
       "      <td>0.273759</td>\n",
       "      <td>0.363125</td>\n",
       "      <td>0.254109</td>\n",
       "      <td>0.532431</td>\n",
       "      <td>0.074852</td>\n",
       "      <td>0.634772</td>\n",
       "      <td>0.888941</td>\n",
       "      <td>0.624850</td>\n",
       "      <td>0.971125</td>\n",
       "      <td>0.362651</td>\n",
       "      <td>1.000000</td>\n",
       "      <td>0.0</td>\n",
       "      <td>0.664288</td>\n",
       "      <td>0.537709</td>\n",
       "      <td>0.301944</td>\n",
       "      <td>-0.975989</td>\n",
       "      <td>0.854984</td>\n",
       "      <td>196.815000</td>\n",
       "      <td>1.654708e-01</td>\n",
       "    </tr>\n",
       "    <tr>\n",
       "      <th>2025-06-18 20:57:00</th>\n",
       "      <td>0.650094</td>\n",
       "      <td>0.336016</td>\n",
       "      <td>0.616686</td>\n",
       "      <td>0.290460</td>\n",
       "      <td>0.347207</td>\n",
       "      <td>0.420131</td>\n",
       "      <td>0.532016</td>\n",
       "      <td>0.067044</td>\n",
       "      <td>0.633511</td>\n",
       "      <td>0.840741</td>\n",
       "      <td>0.374057</td>\n",
       "      <td>0.981544</td>\n",
       "      <td>0.434283</td>\n",
       "      <td>0.000000</td>\n",
       "      <td>0.0</td>\n",
       "      <td>0.676887</td>\n",
       "      <td>0.541855</td>\n",
       "      <td>0.328685</td>\n",
       "      <td>-0.975989</td>\n",
       "      <td>0.158091</td>\n",
       "      <td>196.675000</td>\n",
       "      <td>1.484384e-01</td>\n",
       "    </tr>\n",
       "    <tr>\n",
       "      <th>2025-06-18 20:58:00</th>\n",
       "      <td>0.631153</td>\n",
       "      <td>0.322169</td>\n",
       "      <td>0.614734</td>\n",
       "      <td>0.304199</td>\n",
       "      <td>0.336272</td>\n",
       "      <td>0.121620</td>\n",
       "      <td>0.531618</td>\n",
       "      <td>0.064933</td>\n",
       "      <td>0.631866</td>\n",
       "      <td>0.777896</td>\n",
       "      <td>0.494766</td>\n",
       "      <td>0.983006</td>\n",
       "      <td>0.496049</td>\n",
       "      <td>0.000000</td>\n",
       "      <td>0.0</td>\n",
       "      <td>0.584662</td>\n",
       "      <td>0.545337</td>\n",
       "      <td>0.353515</td>\n",
       "      <td>-0.975989</td>\n",
       "      <td>0.493632</td>\n",
       "      <td>196.670000</td>\n",
       "      <td>1.477119e-01</td>\n",
       "    </tr>\n",
       "    <tr>\n",
       "      <th>2025-06-18 20:59:00</th>\n",
       "      <td>0.375519</td>\n",
       "      <td>0.346959</td>\n",
       "      <td>0.475401</td>\n",
       "      <td>0.305249</td>\n",
       "      <td>0.290578</td>\n",
       "      <td>0.565110</td>\n",
       "      <td>0.531157</td>\n",
       "      <td>0.160021</td>\n",
       "      <td>0.623450</td>\n",
       "      <td>0.456523</td>\n",
       "      <td>0.090577</td>\n",
       "      <td>0.884486</td>\n",
       "      <td>1.000000</td>\n",
       "      <td>0.000000</td>\n",
       "      <td>0.0</td>\n",
       "      <td>0.645760</td>\n",
       "      <td>0.531521</td>\n",
       "      <td>0.348960</td>\n",
       "      <td>-0.975989</td>\n",
       "      <td>0.000000</td>\n",
       "      <td>196.240000</td>\n",
       "      <td>1.166764e-01</td>\n",
       "    </tr>\n",
       "    <tr>\n",
       "      <th>2025-06-18 21:00:00</th>\n",
       "      <td>0.535073</td>\n",
       "      <td>0.374297</td>\n",
       "      <td>0.551738</td>\n",
       "      <td>0.303059</td>\n",
       "      <td>0.249733</td>\n",
       "      <td>0.630630</td>\n",
       "      <td>0.531913</td>\n",
       "      <td>0.176984</td>\n",
       "      <td>0.622570</td>\n",
       "      <td>0.422962</td>\n",
       "      <td>0.462226</td>\n",
       "      <td>0.868408</td>\n",
       "      <td>1.000000</td>\n",
       "      <td>1.000000</td>\n",
       "      <td>0.0</td>\n",
       "      <td>0.708780</td>\n",
       "      <td>0.525575</td>\n",
       "      <td>0.336212</td>\n",
       "      <td>-0.993518</td>\n",
       "      <td>0.403294</td>\n",
       "      <td>196.540000</td>\n",
       "      <td>8.667170e-02</td>\n",
       "    </tr>\n",
       "  </tbody>\n",
       "</table>\n",
       "<p>3715200 rows × 22 columns</p>\n",
       "</div>"
      ],
      "text/plain": [
       "                     sma_pct_14  atr_pct_14    rsi_14   bb_w_20  plus_di_14  \\\n",
       "2004-01-02 09:33:00    0.499798    0.000000  1.000000  0.000000    0.000000   \n",
       "2004-01-02 09:34:00    0.499798    0.000000  1.000000  0.000000    0.000000   \n",
       "2004-01-02 09:35:00    0.499798    0.000000  1.000000  0.000000    0.000000   \n",
       "2004-01-02 09:36:00    0.499798    0.000000  1.000000  0.000000    0.000000   \n",
       "2004-01-02 09:37:00    0.499798    0.000000  1.000000  0.000000    0.000000   \n",
       "...                         ...         ...       ...       ...         ...   \n",
       "2025-06-18 20:56:00    0.751690    0.323886  0.672166  0.273759    0.363125   \n",
       "2025-06-18 20:57:00    0.650094    0.336016  0.616686  0.290460    0.347207   \n",
       "2025-06-18 20:58:00    0.631153    0.322169  0.614734  0.304199    0.336272   \n",
       "2025-06-18 20:59:00    0.375519    0.346959  0.475401  0.305249    0.290578   \n",
       "2025-06-18 21:00:00    0.535073    0.374297  0.551738  0.303059    0.249733   \n",
       "\n",
       "                     range_pct    eng_ma  minus_di_14  eng_macd  \\\n",
       "2004-01-02 09:33:00   0.000000  0.516453     0.000000  0.624765   \n",
       "2004-01-02 09:34:00   0.000000  0.516453     0.000000  0.624765   \n",
       "2004-01-02 09:35:00   0.000000  0.516453     0.000000  0.624765   \n",
       "2004-01-02 09:36:00   0.000000  0.516453     0.000000  0.624765   \n",
       "2004-01-02 09:37:00   0.000000  0.516453     0.000000  0.624765   \n",
       "...                        ...       ...          ...       ...   \n",
       "2025-06-18 20:56:00   0.254109  0.532431     0.074852  0.634772   \n",
       "2025-06-18 20:57:00   0.420131  0.532016     0.067044  0.633511   \n",
       "2025-06-18 20:58:00   0.121620  0.531618     0.064933  0.631866   \n",
       "2025-06-18 20:59:00   0.565110  0.531157     0.160021  0.623450   \n",
       "2025-06-18 21:00:00   0.630630  0.531913     0.176984  0.622570   \n",
       "\n",
       "                     macd_diff_12_26_9  body_pct  macd_line_12_26_9    volume  \\\n",
       "2004-01-02 09:33:00           0.506696  0.499412           0.489532  0.020724   \n",
       "2004-01-02 09:34:00           0.506696  0.499412           0.489532  0.020724   \n",
       "2004-01-02 09:35:00           0.506696  0.499412           0.489532  0.020724   \n",
       "2004-01-02 09:36:00           0.506696  0.499412           0.489532  0.020724   \n",
       "2004-01-02 09:37:00           0.506696  0.499412           0.489532  0.020724   \n",
       "...                                ...       ...                ...       ...   \n",
       "2025-06-18 20:56:00           0.888941  0.624850           0.971125  0.362651   \n",
       "2025-06-18 20:57:00           0.840741  0.374057           0.981544  0.434283   \n",
       "2025-06-18 20:58:00           0.777896  0.494766           0.983006  0.496049   \n",
       "2025-06-18 20:59:00           0.456523  0.090577           0.884486  1.000000   \n",
       "2025-06-18 21:00:00           0.422962  0.462226           0.868408  1.000000   \n",
       "\n",
       "                     obv_diff_14  eng_rsi  eng_atr_div   eng_adx    adx_14  \\\n",
       "2004-01-02 09:33:00     0.488177      1.0     0.353456  0.519392  0.000000   \n",
       "2004-01-02 09:34:00     0.488177      1.0     0.353456  0.519392  0.000000   \n",
       "2004-01-02 09:35:00     0.488177      1.0     0.353456  0.519392  0.000000   \n",
       "2004-01-02 09:36:00     0.488177      1.0     0.353456  0.519392  0.000000   \n",
       "2004-01-02 09:37:00     0.488177      1.0     0.353456  0.519392  0.000000   \n",
       "...                          ...      ...          ...       ...       ...   \n",
       "2025-06-18 20:56:00     1.000000      0.0     0.664288  0.537709  0.301944   \n",
       "2025-06-18 20:57:00     0.000000      0.0     0.676887  0.541855  0.328685   \n",
       "2025-06-18 20:58:00     0.000000      0.0     0.584662  0.545337  0.353515   \n",
       "2025-06-18 20:59:00     0.000000      0.0     0.645760  0.531521  0.348960   \n",
       "2025-06-18 21:00:00     1.000000      0.0     0.708780  0.525575  0.336212   \n",
       "\n",
       "                         hour      body   close_raw        signal  \n",
       "2004-01-02 09:33:00  1.002425  0.506538    0.764286  6.967909e-09  \n",
       "2004-01-02 09:34:00  1.002425  0.506538    0.764286  7.448270e-09  \n",
       "2004-01-02 09:35:00  1.002425  0.506538    0.764286  7.961747e-09  \n",
       "2004-01-02 09:36:00  1.002425  0.506538    0.764286  8.510623e-09  \n",
       "2004-01-02 09:37:00  1.002425  0.506538    0.764286  9.097338e-09  \n",
       "...                       ...       ...         ...           ...  \n",
       "2025-06-18 20:56:00 -0.975989  0.854984  196.815000  1.654708e-01  \n",
       "2025-06-18 20:57:00 -0.975989  0.158091  196.675000  1.484384e-01  \n",
       "2025-06-18 20:58:00 -0.975989  0.493632  196.670000  1.477119e-01  \n",
       "2025-06-18 20:59:00 -0.975989  0.000000  196.240000  1.166764e-01  \n",
       "2025-06-18 21:00:00 -0.993518  0.403294  196.540000  8.667170e-02  \n",
       "\n",
       "[3715200 rows x 22 columns]"
      ]
     },
     "execution_count": 3,
     "metadata": {},
     "output_type": "execute_result"
    }
   ],
   "source": [
    "df_feat_sel = pd.read_csv(params.feat_all_csv, index_col=0, parse_dates=True)[params.features_cols_tick + ['close_raw'] + [params.label_col]]\n",
    "    \n",
    "df_feat_sel"
   ]
  },
  {
   "cell_type": "code",
   "execution_count": 4,
   "id": "e5a8d933-8402-45de-a838-4335b2a37d48",
   "metadata": {},
   "outputs": [
    {
     "name": "stdout",
     "output_type": "stream",
     "text": [
      "Inside build_tensors, features: ['sma_pct_14', 'atr_pct_14', 'rsi_14', 'bb_w_20', 'plus_di_14', 'range_pct', 'eng_ma', 'minus_di_14', 'eng_macd', 'macd_diff_12_26_9', 'body_pct', 'macd_line_12_26_9', 'volume', 'obv_diff_14', 'eng_rsi', 'eng_atr_div', 'eng_adx', 'adx_14', 'hour', 'body']\n"
     ]
    },
    {
     "data": {
      "application/vnd.jupyter.widget-view+json": {
       "model_id": "4bf85f8a0927465999d5833885e1a2a0",
       "version_major": 2,
       "version_minor": 0
      },
      "text/plain": [
       "Preparing days:   0%|          | 0/5400 [00:00<?, ?it/s]"
      ]
     },
     "metadata": {},
     "output_type": "display_data"
    },
    {
     "data": {
      "application/vnd.jupyter.widget-view+json": {
       "model_id": "61035ec494bb43caa8f0f90e7fbe2533",
       "version_major": 2,
       "version_minor": 0
      },
      "text/plain": [
       "Writing days:   0%|          | 0/5400 [00:00<?, ?it/s]"
      ]
     },
     "metadata": {},
     "output_type": "display_data"
    },
    {
     "data": {
      "application/vnd.jupyter.widget-view+json": {
       "model_id": "763c70a064264532b8ccf65ab782cdd0",
       "version_major": 2,
       "version_minor": 0
      },
      "text/plain": [
       "Creating DayWindowDatasets:   0%|          | 0/3 [00:00<?, ?split/s]"
      ]
     },
     "metadata": {},
     "output_type": "display_data"
    },
    {
     "name": "stdout",
     "output_type": "stream",
     "text": [
      "--- TRAIN ---\n",
      " calendar days : 3840  (2004-01-02 → 2019-04-04)\n",
      " windows       : 1731840  (per-day min=451, max=451, mean=451.0)\n",
      " window shape  : look_back=60, n_features=20\n",
      " dataloader    : batches= 60, batch_size=64, workers=8, pin_memory=True\n",
      "\n",
      "--- VAL ---\n",
      " calendar days : 751  (2019-04-05 → 2022-03-28)\n",
      " windows       : 338701  (per-day min=451, max=451, mean=451.0)\n",
      " window shape  : look_back=60, n_features=20\n",
      " dataloader    : batches=751, batch_size=1, workers=0, pin_memory=True\n",
      "\n",
      "--- TEST ---\n",
      " calendar days : 809  (2022-03-29 → 2025-06-18)\n",
      " windows       : 364859  (per-day min=451, max=451, mean=451.0)\n",
      " window shape  : look_back=60, n_features=20\n",
      " dataloader    : batches=809, batch_size=1, workers=0, pin_memory=True\n",
      "\n"
     ]
    }
   ],
   "source": [
    "train_loader, val_loader, test_loader, end_times_tr, end_times_val, end_times_te = models_core.model_core_pipeline(\n",
    "    df             = df_feat_sel,\n",
    "    look_back      = params.hparams[\"LOOK_BACK\"],\n",
    "    sess_start     = params.sess_start_pred_tick,\n",
    "    train_prop     = params.train_prop,\n",
    "    val_prop       = params.val_prop,\n",
    "    train_batch    = params.hparams[\"TRAIN_BATCH\"],\n",
    "    train_workers  = params.hparams[\"TRAIN_WORKERS\"],\n",
    "    prefetch_factor= params.hparams[\"TRAIN_PREFETCH_FACTOR\"],\n",
    "    signal_thresh  = params.best_optuna_params[\"buy_threshold\"],\n",
    "    return_thresh  = params.return_threshold_tick\n",
    ")\n",
    "\n",
    "for name, ld, tm in zip(\n",
    "    [\"train\",\"val\",\"test\"],\n",
    "    [train_loader, val_loader, test_loader],\n",
    "    [end_times_tr, end_times_val, end_times_te]\n",
    "):\n",
    "    models_core.summarize_split(name, ld, tm)"
   ]
  },
  {
   "cell_type": "code",
   "execution_count": 5,
   "id": "eeec031f-6c8f-455f-9c72-ae411e03ba34",
   "metadata": {},
   "outputs": [
    {
     "name": "stderr",
     "output_type": "stream",
     "text": [
      "/usr/local/lib/python3.12/dist-packages/torch/nn/modules/transformer.py:375: UserWarning: enable_nested_tensor is True, but self.use_nested_tensor is False because encoder_layer.self_attn.batch_first was not True(use batch_first for better inference performance)\n",
      "  warnings.warn(\n"
     ]
    },
    {
     "data": {
      "text/plain": [
       "ModelClass(\n",
       "  (aux_head): ParametrizedLinear(\n",
       "    in_features=64, out_features=1, bias=True\n",
       "    (parametrizations): ModuleDict(\n",
       "      (weight): ParametrizationList(\n",
       "        (0): _WeightNorm()\n",
       "      )\n",
       "    )\n",
       "  )\n",
       "  (conv): Identity()\n",
       "  (bn): Identity()\n",
       "  (relu): ReLU()\n",
       "  (tcn): Identity()\n",
       "  (short_lstm): LSTM(20, 32, batch_first=True, bidirectional=True)\n",
       "  (ln_short): LayerNorm((64,), eps=1e-05, elementwise_affine=True)\n",
       "  (do_short): Dropout(p=0.0, inplace=False)\n",
       "  (feature_proj): Linear(in_features=64, out_features=64, bias=True)\n",
       "  (pos_enc): PositionalEncoding(\n",
       "    (dropout): Dropout(p=0.0, inplace=False)\n",
       "  )\n",
       "  (transformer): TransformerEncoder(\n",
       "    (layers): ModuleList(\n",
       "      (0): TransformerEncoderLayer(\n",
       "        (self_attn): MultiheadAttention(\n",
       "          (out_proj): NonDynamicallyQuantizableLinear(in_features=64, out_features=64, bias=True)\n",
       "        )\n",
       "        (linear1): Linear(in_features=64, out_features=256, bias=True)\n",
       "        (dropout): Dropout(p=0.0, inplace=False)\n",
       "        (linear2): Linear(in_features=256, out_features=64, bias=True)\n",
       "        (norm1): LayerNorm((64,), eps=1e-05, elementwise_affine=True)\n",
       "        (norm2): LayerNorm((64,), eps=1e-05, elementwise_affine=True)\n",
       "        (dropout1): Dropout(p=0.0, inplace=False)\n",
       "        (dropout2): Dropout(p=0.0, inplace=False)\n",
       "      )\n",
       "    )\n",
       "  )\n",
       "  (short2long): Linear(in_features=64, out_features=64, bias=True)\n",
       "  (ln_proj): LayerNorm((64,), eps=1e-05, elementwise_affine=True)\n",
       "  (do_proj): Dropout(p=0.0, inplace=False)\n",
       "  (ln_long): Identity()\n",
       "  (do_long): Identity()\n",
       "  (ln_flat): LayerNorm((64,), eps=1e-05, elementwise_affine=True)\n",
       "  (head_flat): Sequential(\n",
       "    (0): ParametrizedLinear(\n",
       "      in_features=64, out_features=64, bias=True\n",
       "      (parametrizations): ModuleDict(\n",
       "        (weight): ParametrizationList(\n",
       "          (0): _WeightNorm()\n",
       "        )\n",
       "      )\n",
       "    )\n",
       "    (1): ReLU()\n",
       "    (2): ParametrizedLinear(\n",
       "      in_features=64, out_features=1, bias=True\n",
       "      (parametrizations): ModuleDict(\n",
       "        (weight): ParametrizationList(\n",
       "          (0): _WeightNorm()\n",
       "        )\n",
       "      )\n",
       "    )\n",
       "  )\n",
       ")"
      ]
     },
     "execution_count": 5,
     "metadata": {},
     "output_type": "execute_result"
    }
   ],
   "source": [
    "# importlib.reload(params.model_selected) #############\n",
    "\n",
    "# -----------------------------------------------------------------------------\n",
    "# Instantiate the ModelClass & move to device\n",
    "# -----------------------------------------------------------------------------\n",
    "\n",
    "model = params.model_selected.ModelClass(\n",
    "    n_feats         = len(params.features_cols_tick),\n",
    "    short_units     = params.hparams[\"SHORT_UNITS\"],\n",
    "    long_units      = params.hparams[\"LONG_UNITS\"],\n",
    "    dropout_short   = params.hparams[\"DROPOUT_SHORT\"],\n",
    "    dropout_long    = params.hparams[\"DROPOUT_LONG\"],\n",
    "    pred_hidden     = params.hparams[\"PRED_HIDDEN\"],\n",
    "    window_len      = params.hparams[\"LOOK_BACK\"],\n",
    "\n",
    "    # Gating flags\n",
    "    use_conv          = params.hparams[\"USE_CONV\"],\n",
    "    use_tcn           = params.hparams[\"USE_TCN\"],\n",
    "    use_short_lstm    = params.hparams[\"USE_SHORT_LSTM\"],\n",
    "    use_transformer   = params.hparams[\"USE_TRANSFORMER\"],\n",
    "    use_long_lstm     = params.hparams[\"USE_LONG_LSTM\"],\n",
    "    flatten_mode      = params.hparams[\"FLATTEN_MODE\"]\n",
    ")\n",
    "\n",
    "model.to(params.device)  \n",
    "\n",
    "model"
   ]
  },
  {
   "cell_type": "code",
   "execution_count": 6,
   "id": "60683d75-5de6-4685-9593-f451788ebbea",
   "metadata": {},
   "outputs": [],
   "source": [
    "# # model check: overfit one batch: force your model to train on the exact same small set of examples over and over.\n",
    "# # You should see loss → 0 in a few dozen steps on a single batch.\n",
    "\n",
    "# # 1) Grab a single batch (no shuffle issues)\n",
    "# batch = next(iter(train_loader))\n",
    "# x_pad, y_sig, *_, lengths = batch\n",
    "\n",
    "# # 2) Move to device\n",
    "# device = next(model.parameters()).device\n",
    "# x_pad = x_pad.to(device)\n",
    "# y_sig = y_sig.to(device)\n",
    "\n",
    "# # 3) Extract just the first day’s valid windows\n",
    "# #    lengths[0] might be a tensor or int\n",
    "# W = lengths[0].item() if isinstance(lengths[0], torch.Tensor) else lengths[0]\n",
    "# x_day = x_pad[0, :W]       # shape (W, features…)\n",
    "# y_day = y_sig[0, :W]       # shape (W,)\n",
    "\n",
    "# # 4) Our single target is the last tick of that day\n",
    "# target_val = y_day[-1].unsqueeze(0)   # shape (1,)\n",
    "\n",
    "# # 5) Turn off dropout so we can memorize perfectly\n",
    "# for m in model.modules():\n",
    "#     if isinstance(m, Dropout):\n",
    "#         m.p = 0.0\n",
    "\n",
    "# # 6) Clear any saved LSTM state (if your model uses h_short/h_long)\n",
    "# if hasattr(model, \"h_short\"): model.h_short = None\n",
    "# if hasattr(model, \"h_long\"):  model.h_long  = None\n",
    "\n",
    "# # 7) Set up optimizer & loss\n",
    "# optimizer = AdamW(model.parameters(), lr=1e-3, weight_decay=0.0)\n",
    "# criterion = MSELoss()\n",
    "\n",
    "# # 8) Overfit loop: reset state every pass, predict last‐tick, compare scalar→scalar\n",
    "# model.train()\n",
    "# for step in range(100):\n",
    "#     optimizer.zero_grad()\n",
    "\n",
    "#     # reset hidden state each iteration\n",
    "#     if hasattr(model, \"h_short\"): model.h_short = None\n",
    "#     if hasattr(model, \"h_long\"):  model.h_long  = None\n",
    "\n",
    "#     # forward on the full day sequence\n",
    "#     raw_out = model(x_day)  \n",
    "#     raw_reg = raw_out[0] if isinstance(raw_out, (tuple, list)) else raw_out\n",
    "\n",
    "#     # collapse to shape (W,)\n",
    "#     if raw_reg.dim() == 3:\n",
    "#         raw_reg = raw_reg[0].squeeze(-1)\n",
    "#     elif raw_reg.dim() == 2:\n",
    "#         raw_reg = raw_reg.squeeze(-1)\n",
    "\n",
    "#     # take *only* the final-tick prediction → scalar\n",
    "#     pred_val = raw_reg[-1].unsqueeze(0)   # shape (1,)\n",
    "\n",
    "#     # compute scalar loss\n",
    "#     loss = criterion(pred_val, target_val)\n",
    "#     loss.backward()\n",
    "#     optimizer.step()\n",
    "\n",
    "#     if (step + 1) % 10 == 0 or step == 0:\n",
    "#         print(f\"Step {step+1:02d}  loss={loss.item():.6f}\")\n"
   ]
  },
  {
   "cell_type": "code",
   "execution_count": 7,
   "id": "a8f7ec8c-5882-486b-bdfd-371b8db260f9",
   "metadata": {},
   "outputs": [
    {
     "data": {
      "image/png": "[encoded data removed]",
      "text/plain": [
       "<Figure size 640x480 with 1 Axes>"
      ]
     },
     "metadata": {},
     "output_type": "display_data"
    }
   ],
   "source": [
    "y_train = np.concatenate([batch[1].cpu().numpy().ravel() for batch in train_loader])\n",
    "y_val = np.concatenate([batch[1].cpu().numpy().ravel() for batch in val_loader])\n",
    "\n",
    "# Visualize the true‐signal distributions on train vs. validation\n",
    "plt.hist(y_train, bins=50, alpha=0.5, label=\"train true\")\n",
    "plt.hist(y_val,   bins=50, alpha=0.5, label=\"val true\")\n",
    "plt.xlabel(\"Signal value\")\n",
    "plt.ylabel(\"Count\")\n",
    "plt.title(\"True Signal Distribution: Train vs. Validation\")\n",
    "plt.legend()\n",
    "plt.tight_layout()\n",
    "plt.show()\n"
   ]
  },
  {
   "cell_type": "code",
   "execution_count": null,
   "id": "7bf94780-a876-4bf4-ad27-6abc2da1fc0a",
   "metadata": {},
   "outputs": [
    {
     "name": "stdout",
     "output_type": "stream",
     "text": [
      "Training sees 3840 unique trading days per epoch.\n",
      "\n",
      "Using HyperParameters:\n",
      " {'LOOK_BACK': 60, 'USE_CONV': False, 'CONV_K': 3, 'CONV_DILATION': 1, 'USE_TCN': False, 'TCN_LAYERS': 2, 'TCN_KERNEL': 3, 'USE_SHORT_LSTM': True, 'SHORT_UNITS': 64, 'DROPOUT_SHORT': 0.0, 'USE_TRANSFORMER': True, 'TRANSFORMER_LAYERS': 1, 'TRANSFORMER_HEADS': 4, 'TRANSFORMER_FF_MULT': 4, 'DROPOUT_LONG': 0.0, 'USE_LONG_LSTM': False, 'LONG_UNITS': 64, 'FLATTEN_MODE': 'last', 'PRED_HIDDEN': 64, 'ALPHA_SMOOTH': 0.0, 'MAX_EPOCHS': 90, 'EARLY_STOP_PATIENCE': 9, 'WEIGHT_DECAY': 1e-05, 'CLIPNORM': 10, 'ONECYCLE_MAX_LR': 0.001, 'ONECYCLE_DIV_FACTOR': 10, 'ONECYCLE_FINAL_DIV': 50, 'ONECYCLE_PCT_START': 0.2, 'ONECYCLE_STRATEGY': 'cos', 'FREEZE_TILL': 5, 'TRAIN_BATCH': 64, 'VAL_BATCH': 1, 'TRAIN_WORKERS': 8, 'TRAIN_PREFETCH_FACTOR': 4, 'MICRO_EXTRA': True, 'MICRO_SAMPLE_K': 16}\n"
     ]
    },
    {
     "data": {
      "image/png": "[encoded data removed]",
      "text/plain": [
       "<Figure size 660x440 with 1 Axes>"
      ]
     },
     "metadata": {},
     "output_type": "display_data"
    },
    {
     "data": {
      "application/vnd.jupyter.widget-view+json": {
       "model_id": "2ca21186f4ac40889c00e7a71881bbd6",
       "version_major": 2,
       "version_minor": 0
      },
      "text/plain": [
       "Epoch 1 ▶ Train:   0%|          | 0/60 [00:00<?, ?it/s]"
      ]
     },
     "metadata": {},
     "output_type": "display_data"
    },
    {
     "data": {
      "application/vnd.jupyter.widget-view+json": {
       "model_id": "e96b28b1b452448a8fa52eb6d2059816",
       "version_major": 2,
       "version_minor": 0
      },
      "text/plain": [
       "eval:   0%|          | 0/751 [00:00<?, ?it/s]"
      ]
     },
     "metadata": {},
     "output_type": "display_data"
    },
    {
     "name": "stdout",
     "output_type": "stream",
     "text": [
      "Epoch 01  TRAIN→ RMSE=0.11881, R²=-0.095 |  VALID→ RMSE=0.10985, R²=-0.002 |  lr=1.07e-04 |  improved=True |  loss_main=1.41166e-02, loss_aux=0.00000e+00\n"
     ]
    },
    {
     "data": {
      "application/vnd.jupyter.widget-view+json": {
       "model_id": "69cdf927db6f43b78d78914537033b85",
       "version_major": 2,
       "version_minor": 0
      },
      "text/plain": [
       "Epoch 2 ▶ Train:   0%|          | 0/60 [00:00<?, ?it/s]"
      ]
     },
     "metadata": {},
     "output_type": "display_data"
    },
    {
     "data": {
      "application/vnd.jupyter.widget-view+json": {
       "model_id": "363a62a8e5c14f0e8b56c02b690346e4",
       "version_major": 2,
       "version_minor": 0
      },
      "text/plain": [
       "eval:   0%|          | 0/751 [00:00<?, ?it/s]"
      ]
     },
     "metadata": {},
     "output_type": "display_data"
    },
    {
     "name": "stdout",
     "output_type": "stream",
     "text": [
      "Epoch 02  TRAIN→ RMSE=0.10697, R²=0.112 |  VALID→ RMSE=0.10236, R²=0.130 |  lr=1.27e-04 |  improved=True |  loss_main=1.14423e-02, loss_aux=0.00000e+00\n"
     ]
    },
    {
     "data": {
      "application/vnd.jupyter.widget-view+json": {
       "model_id": "52b3faf586684399b4459a453fb9cc47",
       "version_major": 2,
       "version_minor": 0
      },
      "text/plain": [
       "Epoch 3 ▶ Train:   0%|          | 0/60 [00:00<?, ?it/s]"
      ]
     },
     "metadata": {},
     "output_type": "display_data"
    },
    {
     "data": {
      "application/vnd.jupyter.widget-view+json": {
       "model_id": "35b840983dd844d0bf3a4209f7043397",
       "version_major": 2,
       "version_minor": 0
      },
      "text/plain": [
       "eval:   0%|          | 0/751 [00:00<?, ?it/s]"
      ]
     },
     "metadata": {},
     "output_type": "display_data"
    },
    {
     "name": "stdout",
     "output_type": "stream",
     "text": [
      "Epoch 03  TRAIN→ RMSE=0.10425, R²=0.157 |  VALID→ RMSE=0.10000, R²=0.169 |  lr=1.60e-04 |  improved=True |  loss_main=1.08673e-02, loss_aux=0.00000e+00\n"
     ]
    },
    {
     "data": {
      "application/vnd.jupyter.widget-view+json": {
       "model_id": "63fbb242945f4a5ab815a4e4e94a5f27",
       "version_major": 2,
       "version_minor": 0
      },
      "text/plain": [
       "Epoch 4 ▶ Train:   0%|          | 0/60 [00:00<?, ?it/s]"
      ]
     },
     "metadata": {},
     "output_type": "display_data"
    },
    {
     "data": {
      "application/vnd.jupyter.widget-view+json": {
       "model_id": "bee198fa756a46e19b1b534bf6e2c723",
       "version_major": 2,
       "version_minor": 0
      },
      "text/plain": [
       "eval:   0%|          | 0/751 [00:00<?, ?it/s]"
      ]
     },
     "metadata": {},
     "output_type": "display_data"
    },
    {
     "name": "stdout",
     "output_type": "stream",
     "text": [
      "Epoch 04  TRAIN→ RMSE=0.10241, R²=0.186 |  VALID→ RMSE=0.09888, R²=0.188 |  lr=2.05e-04 |  improved=True |  loss_main=1.04873e-02, loss_aux=0.00000e+00\n"
     ]
    },
    {
     "data": {
      "application/vnd.jupyter.widget-view+json": {
       "model_id": "8782be78c8b54f23870f32aa8cea6bcc",
       "version_major": 2,
       "version_minor": 0
      },
      "text/plain": [
       "Epoch 5 ▶ Train:   0%|          | 0/60 [00:00<?, ?it/s]"
      ]
     },
     "metadata": {},
     "output_type": "display_data"
    },
    {
     "data": {
      "application/vnd.jupyter.widget-view+json": {
       "model_id": "7b384bc91cb0404388310b2076e162a5",
       "version_major": 2,
       "version_minor": 0
      },
      "text/plain": [
       "eval:   0%|          | 0/751 [00:00<?, ?it/s]"
      ]
     },
     "metadata": {},
     "output_type": "display_data"
    },
    {
     "name": "stdout",
     "output_type": "stream",
     "text": [
      "Epoch 05  TRAIN→ RMSE=0.10214, R²=0.190 |  VALID→ RMSE=0.10092, R²=0.154 |  lr=2.61e-04 |  improved=False |  loss_main=1.04331e-02, loss_aux=0.00000e+00\n"
     ]
    },
    {
     "data": {
      "application/vnd.jupyter.widget-view+json": {
       "model_id": "ca31724a51814db49bcfbabae7e755e2",
       "version_major": 2,
       "version_minor": 0
      },
      "text/plain": [
       "Epoch 6 ▶ Train:   0%|          | 0/60 [00:00<?, ?it/s]"
      ]
     },
     "metadata": {},
     "output_type": "display_data"
    },
    {
     "data": {
      "application/vnd.jupyter.widget-view+json": {
       "model_id": "3658871a87564767a4a82273fc28db0f",
       "version_major": 2,
       "version_minor": 0
      },
      "text/plain": [
       "eval:   0%|          | 0/751 [00:00<?, ?it/s]"
      ]
     },
     "metadata": {},
     "output_type": "display_data"
    },
    {
     "name": "stdout",
     "output_type": "stream",
     "text": [
      "Epoch 06  TRAIN→ RMSE=0.10075, R²=0.212 |  VALID→ RMSE=0.09718, R²=0.216 |  lr=3.25e-04 |  improved=True |  loss_main=1.01515e-02, loss_aux=0.00000e+00\n"
     ]
    },
    {
     "data": {
      "application/vnd.jupyter.widget-view+json": {
       "model_id": "4bd98ef5fdc946cdbaa9ea28d641e8fd",
       "version_major": 2,
       "version_minor": 0
      },
      "text/plain": [
       "Epoch 7 ▶ Train:   0%|          | 0/60 [00:00<?, ?it/s]"
      ]
     },
     "metadata": {},
     "output_type": "display_data"
    },
    {
     "data": {
      "application/vnd.jupyter.widget-view+json": {
       "model_id": "4ea4bc1fd28f40f38b413c10884d8b7a",
       "version_major": 2,
       "version_minor": 0
      },
      "text/plain": [
       "eval:   0%|          | 0/751 [00:00<?, ?it/s]"
      ]
     },
     "metadata": {},
     "output_type": "display_data"
    },
    {
     "name": "stdout",
     "output_type": "stream",
     "text": [
      "Epoch 07  TRAIN→ RMSE=0.10034, R²=0.219 |  VALID→ RMSE=0.09667, R²=0.224 |  lr=3.97e-04 |  improved=True |  loss_main=1.00685e-02, loss_aux=0.00000e+00\n"
     ]
    },
    {
     "data": {
      "application/vnd.jupyter.widget-view+json": {
       "model_id": "f8af963b20cc42c2b1452c8b8bb43ff4",
       "version_major": 2,
       "version_minor": 0
      },
      "text/plain": [
       "Epoch 8 ▶ Train:   0%|          | 0/60 [00:00<?, ?it/s]"
      ]
     },
     "metadata": {},
     "output_type": "display_data"
    },
    {
     "data": {
      "application/vnd.jupyter.widget-view+json": {
       "model_id": "7dd93b874f6244a297dc6c664460abf7",
       "version_major": 2,
       "version_minor": 0
      },
      "text/plain": [
       "eval:   0%|          | 0/751 [00:00<?, ?it/s]"
      ]
     },
     "metadata": {},
     "output_type": "display_data"
    },
    {
     "name": "stdout",
     "output_type": "stream",
     "text": [
      "Epoch 08  TRAIN→ RMSE=0.10035, R²=0.219 |  VALID→ RMSE=0.09649, R²=0.227 |  lr=4.72e-04 |  improved=True |  loss_main=1.00700e-02, loss_aux=0.00000e+00\n"
     ]
    },
    {
     "data": {
      "application/vnd.jupyter.widget-view+json": {
       "model_id": "662fa924bea44a5baeed6909eface6a3",
       "version_major": 2,
       "version_minor": 0
      },
      "text/plain": [
       "Epoch 9 ▶ Train:   0%|          | 0/60 [00:00<?, ?it/s]"
      ]
     },
     "metadata": {},
     "output_type": "display_data"
    },
    {
     "data": {
      "application/vnd.jupyter.widget-view+json": {
       "model_id": "2100f53572fa4ec5bb2cd77a1c46650f",
       "version_major": 2,
       "version_minor": 0
      },
      "text/plain": [
       "eval:   0%|          | 0/751 [00:00<?, ?it/s]"
      ]
     },
     "metadata": {},
     "output_type": "display_data"
    },
    {
     "name": "stdout",
     "output_type": "stream",
     "text": [
      "Epoch 09  TRAIN→ RMSE=0.10007, R²=0.223 |  VALID→ RMSE=0.09586, R²=0.237 |  lr=5.51e-04 |  improved=True |  loss_main=1.00146e-02, loss_aux=0.00000e+00\n"
     ]
    },
    {
     "data": {
      "application/vnd.jupyter.widget-view+json": {
       "model_id": "52f6513b56b245df9a98cdfb417cae10",
       "version_major": 2,
       "version_minor": 0
      },
      "text/plain": [
       "Epoch 10 ▶ Train:   0%|          | 0/60 [00:00<?, ?it/s]"
      ]
     },
     "metadata": {},
     "output_type": "display_data"
    },
    {
     "data": {
      "application/vnd.jupyter.widget-view+json": {
       "model_id": "b37d0f11e86d488f83364093fe31e02e",
       "version_major": 2,
       "version_minor": 0
      },
      "text/plain": [
       "eval:   0%|          | 0/751 [00:00<?, ?it/s]"
      ]
     },
     "metadata": {},
     "output_type": "display_data"
    },
    {
     "name": "stdout",
     "output_type": "stream",
     "text": [
      "Epoch 10  TRAIN→ RMSE=0.10002, R²=0.224 |  VALID→ RMSE=0.09610, R²=0.233 |  lr=6.29e-04 |  improved=False |  loss_main=1.00035e-02, loss_aux=0.00000e+00\n"
     ]
    },
    {
     "data": {
      "application/vnd.jupyter.widget-view+json": {
       "model_id": "142028f14f9a4cf7bfa93180745c7da4",
       "version_major": 2,
       "version_minor": 0
      },
      "text/plain": [
       "Epoch 11 ▶ Train:   0%|          | 0/60 [00:00<?, ?it/s]"
      ]
     },
     "metadata": {},
     "output_type": "display_data"
    },
    {
     "data": {
      "application/vnd.jupyter.widget-view+json": {
       "model_id": "b3e8dc803c384b5894deccd8e4df91db",
       "version_major": 2,
       "version_minor": 0
      },
      "text/plain": [
       "eval:   0%|          | 0/751 [00:00<?, ?it/s]"
      ]
     },
     "metadata": {},
     "output_type": "display_data"
    },
    {
     "name": "stdout",
     "output_type": "stream",
     "text": [
      "Epoch 11  TRAIN→ RMSE=0.09967, R²=0.229 |  VALID→ RMSE=0.09625, R²=0.231 |  lr=7.05e-04 |  improved=False |  loss_main=9.93472e-03, loss_aux=0.00000e+00\n"
     ]
    },
    {
     "data": {
      "application/vnd.jupyter.widget-view+json": {
       "model_id": "f1eaa80e02cc4a5681e9809eb3300d00",
       "version_major": 2,
       "version_minor": 0
      },
      "text/plain": [
       "Epoch 12 ▶ Train:   0%|          | 0/60 [00:00<?, ?it/s]"
      ]
     },
     "metadata": {},
     "output_type": "display_data"
    },
    {
     "data": {
      "application/vnd.jupyter.widget-view+json": {
       "model_id": "81c0ca76aea7473282c699bfefd9dda0",
       "version_major": 2,
       "version_minor": 0
      },
      "text/plain": [
       "eval:   0%|          | 0/751 [00:00<?, ?it/s]"
      ]
     },
     "metadata": {},
     "output_type": "display_data"
    },
    {
     "name": "stdout",
     "output_type": "stream",
     "text": [
      "Epoch 12  TRAIN→ RMSE=0.09949, R²=0.232 |  VALID→ RMSE=0.09608, R²=0.233 |  lr=7.76e-04 |  improved=False |  loss_main=9.89746e-03, loss_aux=0.00000e+00\n"
     ]
    },
    {
     "data": {
      "application/vnd.jupyter.widget-view+json": {
       "model_id": "0468c15112704fbcb5e93ce17ab87828",
       "version_major": 2,
       "version_minor": 0
      },
      "text/plain": [
       "Epoch 13 ▶ Train:   0%|          | 0/60 [00:00<?, ?it/s]"
      ]
     },
     "metadata": {},
     "output_type": "display_data"
    },
    {
     "data": {
      "application/vnd.jupyter.widget-view+json": {
       "model_id": "3e632b9bc1634cbc9977d90b6213a438",
       "version_major": 2,
       "version_minor": 0
      },
      "text/plain": [
       "eval:   0%|          | 0/751 [00:00<?, ?it/s]"
      ]
     },
     "metadata": {},
     "output_type": "display_data"
    },
    {
     "name": "stdout",
     "output_type": "stream",
     "text": [
      "Epoch 13  TRAIN→ RMSE=0.09917, R²=0.237 |  VALID→ RMSE=0.09546, R²=0.243 |  lr=8.40e-04 |  improved=True |  loss_main=9.83528e-03, loss_aux=0.00000e+00\n"
     ]
    },
    {
     "data": {
      "application/vnd.jupyter.widget-view+json": {
       "model_id": "faf48dcc84f64a8fa4c95aa3e45d4d7d",
       "version_major": 2,
       "version_minor": 0
      },
      "text/plain": [
       "Epoch 14 ▶ Train:   0%|          | 0/60 [00:00<?, ?it/s]"
      ]
     },
     "metadata": {},
     "output_type": "display_data"
    },
    {
     "data": {
      "application/vnd.jupyter.widget-view+json": {
       "model_id": "faf5891813da4b6a8dba48581f8acf8b",
       "version_major": 2,
       "version_minor": 0
      },
      "text/plain": [
       "eval:   0%|          | 0/751 [00:00<?, ?it/s]"
      ]
     },
     "metadata": {},
     "output_type": "display_data"
    },
    {
     "name": "stdout",
     "output_type": "stream",
     "text": [
      "Epoch 14  TRAIN→ RMSE=0.09895, R²=0.240 |  VALID→ RMSE=0.09527, R²=0.246 |  lr=8.95e-04 |  improved=True |  loss_main=9.79138e-03, loss_aux=0.00000e+00\n"
     ]
    },
    {
     "data": {
      "application/vnd.jupyter.widget-view+json": {
       "model_id": "a1f8b3a42bb149eb82824ce4524572ed",
       "version_major": 2,
       "version_minor": 0
      },
      "text/plain": [
       "Epoch 15 ▶ Train:   0%|          | 0/60 [00:00<?, ?it/s]"
      ]
     },
     "metadata": {},
     "output_type": "display_data"
    },
    {
     "data": {
      "application/vnd.jupyter.widget-view+json": {
       "model_id": "9fb724a6b8d84f0ab2b9680f5ebbba64",
       "version_major": 2,
       "version_minor": 0
      },
      "text/plain": [
       "eval:   0%|          | 0/751 [00:00<?, ?it/s]"
      ]
     },
     "metadata": {},
     "output_type": "display_data"
    },
    {
     "name": "stdout",
     "output_type": "stream",
     "text": [
      "Epoch 15  TRAIN→ RMSE=0.09896, R²=0.240 |  VALID→ RMSE=0.09520, R²=0.247 |  lr=9.40e-04 |  improved=True |  loss_main=9.79234e-03, loss_aux=0.00000e+00\n"
     ]
    },
    {
     "data": {
      "application/vnd.jupyter.widget-view+json": {
       "model_id": "c0ce01c3f9d74356ac53eb527c792388",
       "version_major": 2,
       "version_minor": 0
      },
      "text/plain": [
       "Epoch 16 ▶ Train:   0%|          | 0/60 [00:00<?, ?it/s]"
      ]
     },
     "metadata": {},
     "output_type": "display_data"
    },
    {
     "data": {
      "application/vnd.jupyter.widget-view+json": {
       "model_id": "4a4833e298094984ae7cd5974cb59e2b",
       "version_major": 2,
       "version_minor": 0
      },
      "text/plain": [
       "eval:   0%|          | 0/751 [00:00<?, ?it/s]"
      ]
     },
     "metadata": {},
     "output_type": "display_data"
    },
    {
     "name": "stdout",
     "output_type": "stream",
     "text": [
      "Epoch 16  TRAIN→ RMSE=0.09858, R²=0.246 |  VALID→ RMSE=0.09483, R²=0.253 |  lr=9.73e-04 |  improved=True |  loss_main=9.71784e-03, loss_aux=0.00000e+00\n"
     ]
    },
    {
     "data": {
      "application/vnd.jupyter.widget-view+json": {
       "model_id": "5142e1fbfa214533b01d8a7ff40bbc55",
       "version_major": 2,
       "version_minor": 0
      },
      "text/plain": [
       "Epoch 17 ▶ Train:   0%|          | 0/60 [00:00<?, ?it/s]"
      ]
     },
     "metadata": {},
     "output_type": "display_data"
    },
    {
     "data": {
      "application/vnd.jupyter.widget-view+json": {
       "model_id": "27b6343de5ac488daf7cd767a6ecc71f",
       "version_major": 2,
       "version_minor": 0
      },
      "text/plain": [
       "eval:   0%|          | 0/751 [00:00<?, ?it/s]"
      ]
     },
     "metadata": {},
     "output_type": "display_data"
    },
    {
     "name": "stdout",
     "output_type": "stream",
     "text": [
      "Epoch 17  TRAIN→ RMSE=0.09836, R²=0.249 |  VALID→ RMSE=0.09470, R²=0.255 |  lr=9.93e-04 |  improved=True |  loss_main=9.67374e-03, loss_aux=0.00000e+00\n"
     ]
    },
    {
     "data": {
      "application/vnd.jupyter.widget-view+json": {
       "model_id": "a96e9c84c4e1441f81fa77429c336182",
       "version_major": 2,
       "version_minor": 0
      },
      "text/plain": [
       "Epoch 18 ▶ Train:   0%|          | 0/60 [00:00<?, ?it/s]"
      ]
     },
     "metadata": {},
     "output_type": "display_data"
    },
    {
     "data": {
      "application/vnd.jupyter.widget-view+json": {
       "model_id": "ab4f4079c11b4d2283d0572d1d9ecea0",
       "version_major": 2,
       "version_minor": 0
      },
      "text/plain": [
       "eval:   0%|          | 0/751 [00:00<?, ?it/s]"
      ]
     },
     "metadata": {},
     "output_type": "display_data"
    },
    {
     "name": "stdout",
     "output_type": "stream",
     "text": [
      "Epoch 18  TRAIN→ RMSE=0.09813, R²=0.253 |  VALID→ RMSE=0.09441, R²=0.260 |  lr=1.00e-03 |  improved=True |  loss_main=9.63043e-03, loss_aux=0.00000e+00\n"
     ]
    },
    {
     "data": {
      "application/vnd.jupyter.widget-view+json": {
       "model_id": "39661aa5ca454dc4bc5bd25e0592d356",
       "version_major": 2,
       "version_minor": 0
      },
      "text/plain": [
       "Epoch 19 ▶ Train:   0%|          | 0/60 [00:00<?, ?it/s]"
      ]
     },
     "metadata": {},
     "output_type": "display_data"
    },
    {
     "data": {
      "application/vnd.jupyter.widget-view+json": {
       "model_id": "b98dbaab4fcc43a1999a779919e412aa",
       "version_major": 2,
       "version_minor": 0
      },
      "text/plain": [
       "eval:   0%|          | 0/751 [00:00<?, ?it/s]"
      ]
     },
     "metadata": {},
     "output_type": "display_data"
    },
    {
     "name": "stdout",
     "output_type": "stream",
     "text": [
      "Epoch 19  TRAIN→ RMSE=0.09809, R²=0.253 |  VALID→ RMSE=0.09433, R²=0.261 |  lr=1.00e-03 |  improved=True |  loss_main=9.62113e-03, loss_aux=0.00000e+00\n"
     ]
    },
    {
     "data": {
      "application/vnd.jupyter.widget-view+json": {
       "model_id": "23e7f4fc979d48ca93786f70d135d322",
       "version_major": 2,
       "version_minor": 0
      },
      "text/plain": [
       "Epoch 20 ▶ Train:   0%|          | 0/60 [00:00<?, ?it/s]"
      ]
     },
     "metadata": {},
     "output_type": "display_data"
    }
   ],
   "source": [
    "# importlib.reload(params) #############\n",
    "importlib.reload(params.model_selected) #############\n",
    "importlib.reload(models_core) #############\n",
    "\n",
    "# How many unique trading days does each epoch see?\n",
    "n_days = len(train_loader.dataset)\n",
    "print(f\"Training sees {n_days} unique trading days per epoch.\\n\")\n",
    "\n",
    "print('Using HyperParameters:\\n', params.hparams)\n",
    "\n",
    "optimizer = AdamW(\n",
    "  model.parameters(),\n",
    "  lr           = params.hparams[\"ONECYCLE_MAX_LR\"],\n",
    "  weight_decay = params.hparams[\"WEIGHT_DECAY\"]\n",
    ")\n",
    "\n",
    "scheduler = OneCycleLR(\n",
    "  optimizer,\n",
    "  max_lr           = params.hparams[\"ONECYCLE_MAX_LR\"],\n",
    "  total_steps      = len(train_loader)*params.hparams[\"MAX_EPOCHS\"], # batches × epochs\n",
    "  pct_start        = params.hparams[\"ONECYCLE_PCT_START\"],\n",
    "  div_factor       = params.hparams[\"ONECYCLE_DIV_FACTOR\"],\n",
    "  final_div_factor = params.hparams[\"ONECYCLE_FINAL_DIV\"],\n",
    "  anneal_strategy  = params.hparams[\"ONECYCLE_STRATEGY\"],\n",
    ")\n",
    "\n",
    "globals()[\"collect_or_run_forward_micro_snapshot\"] = models_core.collect_or_run_forward_micro_snapshot\n",
    "if hasattr(model, \"_micro_snapshot\"):\n",
    "    delattr(model, \"_micro_snapshot\")\n",
    "\n",
    "# -----------------------------------------------------------------------------\n",
    "# Run the custom stateful training loop\n",
    "# -----------------------------------------------------------------------------\n",
    "best_val_rmse  = params.model_selected.model_training_loop(\n",
    "    model               = model,\n",
    "    optimizer           = optimizer,\n",
    "    scheduler           = scheduler,\n",
    "    scaler              = GradScaler(),\n",
    "    train_loader        = train_loader,\n",
    "    val_loader          = val_loader,\n",
    "    max_epochs          = params.hparams['MAX_EPOCHS'],\n",
    "    early_stop_patience = params.hparams['EARLY_STOP_PATIENCE'],\n",
    "    clipnorm            = params.hparams['CLIPNORM'],\n",
    "    alpha_smooth        = params.hparams['ALPHA_SMOOTH']\n",
    ")"
   ]
  }
 ],
 "metadata": {
  "kernelspec": {
   "display_name": "Python 3 (ipykernel)",
   "language": "python",
   "name": "python3"
  },
  "language_info": {
   "codemirror_mode": {
    "name": "ipython",
    "version": 3
   },
   "file_extension": ".py",
   "mimetype": "text/x-python",
   "name": "python",
   "nbconvert_exporter": "python",
   "pygments_lexer": "ipython3",
   "version": "3.12.3"
  }
 },
 "nbformat": 4,
 "nbformat_minor": 5
}
