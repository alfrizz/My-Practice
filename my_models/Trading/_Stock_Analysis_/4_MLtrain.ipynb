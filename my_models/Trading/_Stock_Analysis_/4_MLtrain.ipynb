{
 "cells": [
  {
   "cell_type": "code",
   "execution_count": 1,
   "id": "fed6c184-8438-497e-8ae7-82cc35ac4819",
   "metadata": {},
   "outputs": [
    {
     "data": {
      "text/plain": [
       "<module 'libs.models_core' from '/workspace/my_models/Trading/_Stock_Analysis_/libs/models_core.py'>"
      ]
     },
     "execution_count": 1,
     "metadata": {},
     "output_type": "execute_result"
    }
   ],
   "source": [
    "%matplotlib inline\n",
    "\n",
    "\n",
    "# 1) Wipe out your namespace\n",
    "%reset -f\n",
    "\n",
    "# 2) Clear Jupyter’s stored outputs (and inputs if you like)\n",
    "try:\n",
    "    Out.clear()\n",
    "except NameError:\n",
    "    pass\n",
    "\n",
    "try:\n",
    "    In.clear()\n",
    "except NameError:\n",
    "    pass\n",
    "\n",
    "# 3) Force Python GC\n",
    "import gc\n",
    "gc.collect()\n",
    "\n",
    "# 4) Free any GPU buffers\n",
    "import torch\n",
    "if torch.cuda.is_available():\n",
    "    torch.cuda.empty_cache()\n",
    "\n",
    "\n",
    "import importlib\n",
    "from libs import params, trades, feats, plots, models_core\n",
    "importlib.reload(params)\n",
    "importlib.reload(trades)\n",
    "importlib.reload(feats)\n",
    "importlib.reload(plots)\n",
    "importlib.reload(models_core)"
   ]
  },
  {
   "cell_type": "code",
   "execution_count": 2,
   "id": "4c868158-e6bb-4d56-bbdd-8e8103f0b9e4",
   "metadata": {},
   "outputs": [],
   "source": [
    "import pandas as pd\n",
    "pd.set_option('display.max_columns', None)\n",
    "\n",
    "import numpy  as np\n",
    "import math\n",
    "import matplotlib.pyplot as plt\n",
    "\n",
    "import datetime as dt\n",
    "import os\n",
    "from typing import Sequence, List, Tuple, Optional, Union\n",
    "\n",
    "import torch.nn as nn\n",
    "import torch.nn.functional as Funct\n",
    "from torch_lr_finder import LRFinder\n",
    "from torch.utils.data import DataLoader, TensorDataset\n",
    "\n",
    "from tqdm import tqdm"
   ]
  },
  {
   "cell_type": "code",
   "execution_count": 3,
   "id": "7b98406a",
   "metadata": {},
   "outputs": [
    {
     "data": {
      "text/html": [
       "<div>\n",
       "<style scoped>\n",
       "    .dataframe tbody tr th:only-of-type {\n",
       "        vertical-align: middle;\n",
       "    }\n",
       "\n",
       "    .dataframe tbody tr th {\n",
       "        vertical-align: top;\n",
       "    }\n",
       "\n",
       "    .dataframe thead th {\n",
       "        text-align: right;\n",
       "    }\n",
       "</style>\n",
       "<table border=\"1\" class=\"dataframe\">\n",
       "  <thead>\n",
       "    <tr style=\"text-align: right;\">\n",
       "      <th></th>\n",
       "      <th>sma_pct_14</th>\n",
       "      <th>atr_pct_14</th>\n",
       "      <th>rsi_14</th>\n",
       "      <th>bb_w_20</th>\n",
       "      <th>plus_di_14</th>\n",
       "      <th>range_pct</th>\n",
       "      <th>eng_ma</th>\n",
       "      <th>minus_di_14</th>\n",
       "      <th>macd_diff_12_26_9</th>\n",
       "      <th>ret</th>\n",
       "      <th>eng_macd</th>\n",
       "      <th>macd_line_12_26_9</th>\n",
       "      <th>obv_diff_14</th>\n",
       "      <th>eng_atr_div</th>\n",
       "      <th>eng_adx</th>\n",
       "      <th>hour</th>\n",
       "      <th>adx_14</th>\n",
       "      <th>close_raw</th>\n",
       "      <th>signal</th>\n",
       "    </tr>\n",
       "  </thead>\n",
       "  <tbody>\n",
       "    <tr>\n",
       "      <th>2004-01-02 09:33:00</th>\n",
       "      <td>0.499798</td>\n",
       "      <td>0.000000</td>\n",
       "      <td>1.000000</td>\n",
       "      <td>0.000000</td>\n",
       "      <td>0.000000</td>\n",
       "      <td>0.000000</td>\n",
       "      <td>0.516453</td>\n",
       "      <td>0.000000</td>\n",
       "      <td>0.506696</td>\n",
       "      <td>0.499891</td>\n",
       "      <td>0.624765</td>\n",
       "      <td>0.489532</td>\n",
       "      <td>0.488177</td>\n",
       "      <td>0.353456</td>\n",
       "      <td>0.519392</td>\n",
       "      <td>1.002425</td>\n",
       "      <td>0.000000</td>\n",
       "      <td>0.764286</td>\n",
       "      <td>1.301415e-09</td>\n",
       "    </tr>\n",
       "    <tr>\n",
       "      <th>2004-01-02 09:34:00</th>\n",
       "      <td>0.499798</td>\n",
       "      <td>0.000000</td>\n",
       "      <td>1.000000</td>\n",
       "      <td>0.000000</td>\n",
       "      <td>0.000000</td>\n",
       "      <td>0.000000</td>\n",
       "      <td>0.516453</td>\n",
       "      <td>0.000000</td>\n",
       "      <td>0.506696</td>\n",
       "      <td>0.499891</td>\n",
       "      <td>0.624765</td>\n",
       "      <td>0.489532</td>\n",
       "      <td>0.488177</td>\n",
       "      <td>0.353456</td>\n",
       "      <td>0.519392</td>\n",
       "      <td>1.002425</td>\n",
       "      <td>0.000000</td>\n",
       "      <td>0.764286</td>\n",
       "      <td>1.405474e-09</td>\n",
       "    </tr>\n",
       "    <tr>\n",
       "      <th>2004-01-02 09:35:00</th>\n",
       "      <td>0.499798</td>\n",
       "      <td>0.000000</td>\n",
       "      <td>1.000000</td>\n",
       "      <td>0.000000</td>\n",
       "      <td>0.000000</td>\n",
       "      <td>0.000000</td>\n",
       "      <td>0.516453</td>\n",
       "      <td>0.000000</td>\n",
       "      <td>0.506696</td>\n",
       "      <td>0.499891</td>\n",
       "      <td>0.624765</td>\n",
       "      <td>0.489532</td>\n",
       "      <td>0.488177</td>\n",
       "      <td>0.353456</td>\n",
       "      <td>0.519392</td>\n",
       "      <td>1.002425</td>\n",
       "      <td>0.000000</td>\n",
       "      <td>0.764286</td>\n",
       "      <td>1.517855e-09</td>\n",
       "    </tr>\n",
       "    <tr>\n",
       "      <th>2004-01-02 09:36:00</th>\n",
       "      <td>0.499798</td>\n",
       "      <td>0.000000</td>\n",
       "      <td>1.000000</td>\n",
       "      <td>0.000000</td>\n",
       "      <td>0.000000</td>\n",
       "      <td>0.000000</td>\n",
       "      <td>0.516453</td>\n",
       "      <td>0.000000</td>\n",
       "      <td>0.506696</td>\n",
       "      <td>0.499891</td>\n",
       "      <td>0.624765</td>\n",
       "      <td>0.489532</td>\n",
       "      <td>0.488177</td>\n",
       "      <td>0.353456</td>\n",
       "      <td>0.519392</td>\n",
       "      <td>1.002425</td>\n",
       "      <td>0.000000</td>\n",
       "      <td>0.764286</td>\n",
       "      <td>1.639221e-09</td>\n",
       "    </tr>\n",
       "    <tr>\n",
       "      <th>2004-01-02 09:37:00</th>\n",
       "      <td>0.499798</td>\n",
       "      <td>0.000000</td>\n",
       "      <td>1.000000</td>\n",
       "      <td>0.000000</td>\n",
       "      <td>0.000000</td>\n",
       "      <td>0.000000</td>\n",
       "      <td>0.516453</td>\n",
       "      <td>0.000000</td>\n",
       "      <td>0.506696</td>\n",
       "      <td>0.499891</td>\n",
       "      <td>0.624765</td>\n",
       "      <td>0.489532</td>\n",
       "      <td>0.488177</td>\n",
       "      <td>0.353456</td>\n",
       "      <td>0.519392</td>\n",
       "      <td>1.002425</td>\n",
       "      <td>0.000000</td>\n",
       "      <td>0.764286</td>\n",
       "      <td>1.770291e-09</td>\n",
       "    </tr>\n",
       "    <tr>\n",
       "      <th>...</th>\n",
       "      <td>...</td>\n",
       "      <td>...</td>\n",
       "      <td>...</td>\n",
       "      <td>...</td>\n",
       "      <td>...</td>\n",
       "      <td>...</td>\n",
       "      <td>...</td>\n",
       "      <td>...</td>\n",
       "      <td>...</td>\n",
       "      <td>...</td>\n",
       "      <td>...</td>\n",
       "      <td>...</td>\n",
       "      <td>...</td>\n",
       "      <td>...</td>\n",
       "      <td>...</td>\n",
       "      <td>...</td>\n",
       "      <td>...</td>\n",
       "      <td>...</td>\n",
       "      <td>...</td>\n",
       "    </tr>\n",
       "    <tr>\n",
       "      <th>2025-06-18 20:56:00</th>\n",
       "      <td>0.751690</td>\n",
       "      <td>0.323886</td>\n",
       "      <td>0.672166</td>\n",
       "      <td>0.273759</td>\n",
       "      <td>0.363125</td>\n",
       "      <td>0.254109</td>\n",
       "      <td>0.532431</td>\n",
       "      <td>0.074852</td>\n",
       "      <td>0.888941</td>\n",
       "      <td>0.642346</td>\n",
       "      <td>0.634772</td>\n",
       "      <td>0.971125</td>\n",
       "      <td>1.000000</td>\n",
       "      <td>0.664288</td>\n",
       "      <td>0.537709</td>\n",
       "      <td>-0.975989</td>\n",
       "      <td>0.301944</td>\n",
       "      <td>196.815000</td>\n",
       "      <td>6.849078e-01</td>\n",
       "    </tr>\n",
       "    <tr>\n",
       "      <th>2025-06-18 20:57:00</th>\n",
       "      <td>0.650094</td>\n",
       "      <td>0.336016</td>\n",
       "      <td>0.616686</td>\n",
       "      <td>0.290460</td>\n",
       "      <td>0.347207</td>\n",
       "      <td>0.420131</td>\n",
       "      <td>0.532016</td>\n",
       "      <td>0.067044</td>\n",
       "      <td>0.840741</td>\n",
       "      <td>0.340442</td>\n",
       "      <td>0.633511</td>\n",
       "      <td>0.981544</td>\n",
       "      <td>0.000000</td>\n",
       "      <td>0.676887</td>\n",
       "      <td>0.541855</td>\n",
       "      <td>-0.975989</td>\n",
       "      <td>0.328685</td>\n",
       "      <td>196.675000</td>\n",
       "      <td>6.122057e-01</td>\n",
       "    </tr>\n",
       "    <tr>\n",
       "      <th>2025-06-18 20:58:00</th>\n",
       "      <td>0.631153</td>\n",
       "      <td>0.322169</td>\n",
       "      <td>0.614734</td>\n",
       "      <td>0.304199</td>\n",
       "      <td>0.336272</td>\n",
       "      <td>0.121620</td>\n",
       "      <td>0.531618</td>\n",
       "      <td>0.064933</td>\n",
       "      <td>0.777896</td>\n",
       "      <td>0.494192</td>\n",
       "      <td>0.631866</td>\n",
       "      <td>0.983006</td>\n",
       "      <td>0.000000</td>\n",
       "      <td>0.584662</td>\n",
       "      <td>0.545337</td>\n",
       "      <td>-0.975989</td>\n",
       "      <td>0.353515</td>\n",
       "      <td>196.670000</td>\n",
       "      <td>6.104678e-01</td>\n",
       "    </tr>\n",
       "    <tr>\n",
       "      <th>2025-06-18 20:59:00</th>\n",
       "      <td>0.375519</td>\n",
       "      <td>0.346959</td>\n",
       "      <td>0.475401</td>\n",
       "      <td>0.305249</td>\n",
       "      <td>0.290578</td>\n",
       "      <td>0.565110</td>\n",
       "      <td>0.531157</td>\n",
       "      <td>0.160021</td>\n",
       "      <td>0.456523</td>\n",
       "      <td>0.009795</td>\n",
       "      <td>0.623450</td>\n",
       "      <td>0.884486</td>\n",
       "      <td>0.000000</td>\n",
       "      <td>0.645760</td>\n",
       "      <td>0.531521</td>\n",
       "      <td>-0.975989</td>\n",
       "      <td>0.348960</td>\n",
       "      <td>196.240000</td>\n",
       "      <td>4.770902e-01</td>\n",
       "    </tr>\n",
       "    <tr>\n",
       "      <th>2025-06-18 21:00:00</th>\n",
       "      <td>0.535073</td>\n",
       "      <td>0.374297</td>\n",
       "      <td>0.551738</td>\n",
       "      <td>0.303059</td>\n",
       "      <td>0.249733</td>\n",
       "      <td>0.630630</td>\n",
       "      <td>0.531913</td>\n",
       "      <td>0.176984</td>\n",
       "      <td>0.422962</td>\n",
       "      <td>0.842567</td>\n",
       "      <td>0.622570</td>\n",
       "      <td>0.868408</td>\n",
       "      <td>1.000000</td>\n",
       "      <td>0.708780</td>\n",
       "      <td>0.525575</td>\n",
       "      <td>-0.993518</td>\n",
       "      <td>0.336212</td>\n",
       "      <td>196.540000</td>\n",
       "      <td>3.509684e-01</td>\n",
       "    </tr>\n",
       "  </tbody>\n",
       "</table>\n",
       "<p>3715200 rows × 19 columns</p>\n",
       "</div>"
      ],
      "text/plain": [
       "                     sma_pct_14  atr_pct_14    rsi_14   bb_w_20  plus_di_14  \\\n",
       "2004-01-02 09:33:00    0.499798    0.000000  1.000000  0.000000    0.000000   \n",
       "2004-01-02 09:34:00    0.499798    0.000000  1.000000  0.000000    0.000000   \n",
       "2004-01-02 09:35:00    0.499798    0.000000  1.000000  0.000000    0.000000   \n",
       "2004-01-02 09:36:00    0.499798    0.000000  1.000000  0.000000    0.000000   \n",
       "2004-01-02 09:37:00    0.499798    0.000000  1.000000  0.000000    0.000000   \n",
       "...                         ...         ...       ...       ...         ...   \n",
       "2025-06-18 20:56:00    0.751690    0.323886  0.672166  0.273759    0.363125   \n",
       "2025-06-18 20:57:00    0.650094    0.336016  0.616686  0.290460    0.347207   \n",
       "2025-06-18 20:58:00    0.631153    0.322169  0.614734  0.304199    0.336272   \n",
       "2025-06-18 20:59:00    0.375519    0.346959  0.475401  0.305249    0.290578   \n",
       "2025-06-18 21:00:00    0.535073    0.374297  0.551738  0.303059    0.249733   \n",
       "\n",
       "                     range_pct    eng_ma  minus_di_14  macd_diff_12_26_9  \\\n",
       "2004-01-02 09:33:00   0.000000  0.516453     0.000000           0.506696   \n",
       "2004-01-02 09:34:00   0.000000  0.516453     0.000000           0.506696   \n",
       "2004-01-02 09:35:00   0.000000  0.516453     0.000000           0.506696   \n",
       "2004-01-02 09:36:00   0.000000  0.516453     0.000000           0.506696   \n",
       "2004-01-02 09:37:00   0.000000  0.516453     0.000000           0.506696   \n",
       "...                        ...       ...          ...                ...   \n",
       "2025-06-18 20:56:00   0.254109  0.532431     0.074852           0.888941   \n",
       "2025-06-18 20:57:00   0.420131  0.532016     0.067044           0.840741   \n",
       "2025-06-18 20:58:00   0.121620  0.531618     0.064933           0.777896   \n",
       "2025-06-18 20:59:00   0.565110  0.531157     0.160021           0.456523   \n",
       "2025-06-18 21:00:00   0.630630  0.531913     0.176984           0.422962   \n",
       "\n",
       "                          ret  eng_macd  macd_line_12_26_9  obv_diff_14  \\\n",
       "2004-01-02 09:33:00  0.499891  0.624765           0.489532     0.488177   \n",
       "2004-01-02 09:34:00  0.499891  0.624765           0.489532     0.488177   \n",
       "2004-01-02 09:35:00  0.499891  0.624765           0.489532     0.488177   \n",
       "2004-01-02 09:36:00  0.499891  0.624765           0.489532     0.488177   \n",
       "2004-01-02 09:37:00  0.499891  0.624765           0.489532     0.488177   \n",
       "...                       ...       ...                ...          ...   \n",
       "2025-06-18 20:56:00  0.642346  0.634772           0.971125     1.000000   \n",
       "2025-06-18 20:57:00  0.340442  0.633511           0.981544     0.000000   \n",
       "2025-06-18 20:58:00  0.494192  0.631866           0.983006     0.000000   \n",
       "2025-06-18 20:59:00  0.009795  0.623450           0.884486     0.000000   \n",
       "2025-06-18 21:00:00  0.842567  0.622570           0.868408     1.000000   \n",
       "\n",
       "                     eng_atr_div   eng_adx      hour    adx_14   close_raw  \\\n",
       "2004-01-02 09:33:00     0.353456  0.519392  1.002425  0.000000    0.764286   \n",
       "2004-01-02 09:34:00     0.353456  0.519392  1.002425  0.000000    0.764286   \n",
       "2004-01-02 09:35:00     0.353456  0.519392  1.002425  0.000000    0.764286   \n",
       "2004-01-02 09:36:00     0.353456  0.519392  1.002425  0.000000    0.764286   \n",
       "2004-01-02 09:37:00     0.353456  0.519392  1.002425  0.000000    0.764286   \n",
       "...                          ...       ...       ...       ...         ...   \n",
       "2025-06-18 20:56:00     0.664288  0.537709 -0.975989  0.301944  196.815000   \n",
       "2025-06-18 20:57:00     0.676887  0.541855 -0.975989  0.328685  196.675000   \n",
       "2025-06-18 20:58:00     0.584662  0.545337 -0.975989  0.353515  196.670000   \n",
       "2025-06-18 20:59:00     0.645760  0.531521 -0.975989  0.348960  196.240000   \n",
       "2025-06-18 21:00:00     0.708780  0.525575 -0.993518  0.336212  196.540000   \n",
       "\n",
       "                           signal  \n",
       "2004-01-02 09:33:00  1.301415e-09  \n",
       "2004-01-02 09:34:00  1.405474e-09  \n",
       "2004-01-02 09:35:00  1.517855e-09  \n",
       "2004-01-02 09:36:00  1.639221e-09  \n",
       "2004-01-02 09:37:00  1.770291e-09  \n",
       "...                           ...  \n",
       "2025-06-18 20:56:00  6.849078e-01  \n",
       "2025-06-18 20:57:00  6.122057e-01  \n",
       "2025-06-18 20:58:00  6.104678e-01  \n",
       "2025-06-18 20:59:00  4.770902e-01  \n",
       "2025-06-18 21:00:00  3.509684e-01  \n",
       "\n",
       "[3715200 rows x 19 columns]"
      ]
     },
     "execution_count": 3,
     "metadata": {},
     "output_type": "execute_result"
    }
   ],
   "source": [
    "df_feat_sel = pd.read_csv(params.feat_all_csv, index_col=0, parse_dates=True)[params.features_cols_tick + ['close_raw'] + [params.label_col]]\n",
    "    \n",
    "df_feat_sel"
   ]
  },
  {
   "cell_type": "code",
   "execution_count": 4,
   "id": "b805fa9c",
   "metadata": {},
   "outputs": [
    {
     "name": "stdout",
     "output_type": "stream",
     "text": [
      "Inside build_tensors, features: ['sma_pct_14', 'atr_pct_14', 'rsi_14', 'bb_w_20', 'plus_di_14', 'range_pct', 'eng_ma', 'minus_di_14', 'macd_diff_12_26_9', 'ret', 'eng_macd', 'macd_line_12_26_9', 'obv_diff_14', 'eng_atr_div', 'eng_adx', 'hour', 'adx_14']\n"
     ]
    },
    {
     "data": {
      "application/vnd.jupyter.widget-view+json": {
       "model_id": "05cef01f56334219ae1702c46525c2f0",
       "version_major": 2,
       "version_minor": 0
      },
      "text/plain": [
       "Preparing days:   0%|          | 0/5400 [00:00<?, ?it/s]"
      ]
     },
     "metadata": {},
     "output_type": "display_data"
    },
    {
     "data": {
      "application/vnd.jupyter.widget-view+json": {
       "model_id": "9129f60087bd45fb8eddb261dec1c125",
       "version_major": 2,
       "version_minor": 0
      },
      "text/plain": [
       "Writing days:   0%|          | 0/5400 [00:00<?, ?it/s]"
      ]
     },
     "metadata": {},
     "output_type": "display_data"
    },
    {
     "data": {
      "application/vnd.jupyter.widget-view+json": {
       "model_id": "61cb362b4bca407e9918fdb0f9a01e72",
       "version_major": 2,
       "version_minor": 0
      },
      "text/plain": [
       "Creating DayWindowDatasets:   0%|          | 0/3 [00:00<?, ?split/s]"
      ]
     },
     "metadata": {},
     "output_type": "display_data"
    },
    {
     "name": "stdout",
     "output_type": "stream",
     "text": [
      "--- TRAIN ---\n",
      " calendar days : 3840  (2004-01-02 → 2019-04-04)\n",
      " windows       : 1731840  (per-day min=451, max=451, mean=451.0)\n",
      " window shape  : look_back=60, n_features=17\n",
      " dataloader    : batches= 60, batch_size=64, workers=12, pin_memory=True\n",
      "\n",
      "--- VAL ---\n",
      " calendar days : 751  (2019-04-05 → 2022-03-28)\n",
      " windows       : 338701  (per-day min=451, max=451, mean=451.0)\n",
      " window shape  : look_back=60, n_features=17\n",
      " dataloader    : batches=751, batch_size=1, workers=0, pin_memory=True\n",
      "\n",
      "--- TEST ---\n",
      " calendar days : 809  (2022-03-29 → 2025-06-18)\n",
      " windows       : 364859  (per-day min=451, max=451, mean=451.0)\n",
      " window shape  : look_back=60, n_features=17\n",
      " dataloader    : batches=809, batch_size=1, workers=0, pin_memory=True\n",
      "\n"
     ]
    }
   ],
   "source": [
    "train_loader, val_loader, test_loader, end_times_tr, end_times_val, end_times_te = models_core.model_core_pipeline(\n",
    "    df             = df_feat_sel,\n",
    "    look_back      = params.look_back_tick,\n",
    "    sess_start     = params.sess_start_pred_tick,\n",
    "    train_prop     = params.train_prop,\n",
    "    val_prop       = params.val_prop,\n",
    "    train_batch    = params.hparams[\"TRAIN_BATCH\"],\n",
    "    num_workers    = params.hparams[\"NUM_WORKERS\"],\n",
    "    prefetch_factor= params.hparams[\"TRAIN_PREFETCH_FACTOR\"],\n",
    "    signal_thresh  = params.best_optuna_params[\"buy_threshold\"],\n",
    "    return_thresh  = 0.01  # flat‐zone threshold for returns\n",
    ")\n",
    "\n",
    "for name, ld, tm in zip(\n",
    "    [\"train\",\"val\",\"test\"],\n",
    "    [train_loader, val_loader, test_loader],\n",
    "    [end_times_tr, end_times_val, end_times_te]\n",
    "):\n",
    "    models_core.summarize_split(name, ld, tm)\n"
   ]
  },
  {
   "cell_type": "code",
   "execution_count": 5,
   "id": "eeec031f-6c8f-455f-9c72-ae411e03ba34",
   "metadata": {},
   "outputs": [
    {
     "data": {
      "text/plain": [
       "ModelClass(\n",
       "  (conv): Conv1d(17, 17, kernel_size=(3,), stride=(1,), padding=(1,))\n",
       "  (bn): BatchNorm1d(17, eps=1e-05, momentum=0.1, affine=True, track_running_stats=True)\n",
       "  (short_lstm): LSTM(17, 64, batch_first=True, bidirectional=True)\n",
       "  (attn): MultiheadAttention(\n",
       "    (out_proj): NonDynamicallyQuantizableLinear(in_features=128, out_features=128, bias=True)\n",
       "  )\n",
       "  (ln_short): LayerNorm((128,), eps=1e-05, elementwise_affine=True)\n",
       "  (do_short): Dropout(p=0.25, inplace=False)\n",
       "  (long_lstm): LSTM(128, 64, batch_first=True, bidirectional=True)\n",
       "  (short2long): Linear(in_features=128, out_features=128, bias=True)\n",
       "  (ln_long): LayerNorm((128,), eps=1e-05, elementwise_affine=True)\n",
       "  (do_long): Dropout(p=0.3, inplace=False)\n",
       "  (pred): Linear(in_features=128, out_features=1, bias=True)\n",
       "  (cls_head): Linear(in_features=128, out_features=1, bias=True)\n",
       "  (cls_ter): Linear(in_features=128, out_features=3, bias=True)\n",
       "  (smoother): Conv1d(1, 1, kernel_size=(3,), stride=(1,), bias=False)\n",
       ")"
      ]
     },
     "execution_count": 5,
     "metadata": {},
     "output_type": "execute_result"
    }
   ],
   "source": [
    "# -----------------------------------------------------------------------------\n",
    "# Instantiate the ModelClass & move to device\n",
    "# -----------------------------------------------------------------------------\n",
    "\n",
    "model = params.model_selected.ModelClass(\n",
    "    n_feats        = len(params.features_cols_tick),                          \n",
    "    short_units    = params.hparams['SHORT_UNITS'],    \n",
    "    long_units     = params.hparams['LONG_UNITS'],     \n",
    "    dropout_short  = params.hparams['DROPOUT_SHORT'],  \n",
    "    dropout_long   = params.hparams['DROPOUT_LONG'],   \n",
    "    att_heads      = params.hparams['ATT_HEADS'],\n",
    "    att_drop       = params.hparams['ATT_DROPOUT'],\n",
    "    conv_k         = params.hparams['CONV_K'],\n",
    "    conv_dilation  = params.hparams['CONV_DILATION'],\n",
    "    smooth_k         = params.hparams['SMOOTH_K'],\n",
    "    smooth_dilation  = params.hparams['SMOOTH_DILATION']\n",
    ")\n",
    "model.to(params.device)  \n",
    "\n",
    "model"
   ]
  },
  {
   "cell_type": "code",
   "execution_count": 6,
   "id": "5512a0dd-d2c8-418e-bfca-4580fb4be995",
   "metadata": {},
   "outputs": [
    {
     "data": {
      "text/plain": [
       "AdamW (\n",
       "Parameter Group 0\n",
       "    amsgrad: False\n",
       "    betas: (0.9, 0.999)\n",
       "    capturable: False\n",
       "    decoupled_weight_decay: True\n",
       "    differentiable: False\n",
       "    eps: 1e-08\n",
       "    foreach: None\n",
       "    fused: None\n",
       "    initial_lr: 0.0002\n",
       "    lr: 0.0002\n",
       "    maximize: False\n",
       "    weight_decay: 0.003\n",
       ")"
      ]
     },
     "execution_count": 6,
     "metadata": {},
     "output_type": "execute_result"
    }
   ],
   "source": [
    "# -----------------------------------------------------------------------------\n",
    "# Build optimizer, LR scheduler, AMP scaler, and gradient‐clip norm\n",
    "# -----------------------------------------------------------------------------\n",
    "optimizer, plateau_sched, cosine_sched, scaler, clipnorm = models_core.make_optimizer_and_scheduler(\n",
    "    model,\n",
    "    initial_lr        = params.hparams['INITIAL_LR'],       \n",
    "    weight_decay      = params.hparams['WEIGHT_DECAY'],     \n",
    "    clipnorm          = params.hparams['CLIPNORM']   \n",
    ")\n",
    "\n",
    "optimizer"
   ]
  },
  {
   "cell_type": "code",
   "execution_count": 7,
   "id": "e9c5fc27-f31d-4adc-a247-5468674f83fc",
   "metadata": {},
   "outputs": [
    {
     "name": "stdout",
     "output_type": "stream",
     "text": [
      "Zero‐forecast RMSE (predict 0): train = 0.405952,  val = 0.409382\n",
      "\n",
      "Train target stats:\n",
      "  mean = 0.2836,  var = 0.0844,  std = 0.2905\n",
      "Train mean‐predictor baseline:\n",
      "  RMSE_baseline = 0.290471\n",
      "  R²_baseline   = 0.00\n",
      "\n",
      "Validation target stats:\n",
      "  mean = 0.2919,  var = 0.0824,  std = 0.2870\n",
      "Validation mean‐predictor baseline:\n",
      "  RMSE_baseline = 0.287012\n",
      "  R²_baseline   = 0.00\n",
      "\n"
     ]
    }
   ],
   "source": [
    "# -----------------------------------------------------------------------------\n",
    "# Helper: extract the true “signal” values from any loader into a flat array\n",
    "# -----------------------------------------------------------------------------\n",
    "def extract_y(loader):\n",
    "    return np.concatenate([batch[1].cpu().numpy().ravel() for batch in loader])\n",
    "\n",
    "# Pull out train & validation targets\n",
    "y_train = extract_y(train_loader)\n",
    "y_val   = extract_y(val_loader)\n",
    "\n",
    "# -----------------------------------------------------------------------------\n",
    "# 1) Zero‐forecast baseline RMSE (predict 0 always)\n",
    "#    RMSE_zero = √(mean(y²))\n",
    "# -----------------------------------------------------------------------------\n",
    "rmse_zero_train = np.sqrt(np.mean(y_train**2))\n",
    "rmse_zero_val   = np.sqrt(np.mean(y_val**2))\n",
    "print(f\"Zero‐forecast RMSE (predict 0): train = {rmse_zero_train:.6f},  val = {rmse_zero_val:.6f}\\n\")\n",
    "\n",
    "# -----------------------------------------------------------------------------\n",
    "# 2) Compute mean, variance & std for train/validation targets\n",
    "#    and derive the mean‐predictor baseline (R² = 0)\n",
    "# -----------------------------------------------------------------------------\n",
    "for split, y in [(\"Train\", y_train), (\"Validation\", y_val)]:\n",
    "    mean_y    = y.mean()\n",
    "    std_y     = y.std(ddof=0)     # population std = √variance\n",
    "    var_y     = std_y**2\n",
    "    rmse_mean = std_y            # RMSE_baseline = std(target)\n",
    "\n",
    "    print(f\"{split} target stats:\")\n",
    "    print(f\"  mean = {mean_y:.4f},  var = {var_y:.4f},  std = {std_y:.4f}\")\n",
    "    print(f\"{split} mean‐predictor baseline:\")\n",
    "    print(f\"  RMSE_baseline = {rmse_mean:.6f}\")\n",
    "    print(\"  R²_baseline   = 0.00\\n\")\n",
    "\n",
    "    if split == \"Validation\":\n",
    "        rmse_mean_val = rmse_mean # used afterwards for the final reporting\n",
    "        \n"
   ]
  },
  {
   "cell_type": "code",
   "execution_count": 8,
   "id": "a8f7ec8c-5882-486b-bdfd-371b8db260f9",
   "metadata": {},
   "outputs": [
    {
     "data": {
      "image/png": "[encoded data removed]",
      "text/plain": [
       "<Figure size 640x480 with 1 Axes>"
      ]
     },
     "metadata": {},
     "output_type": "display_data"
    }
   ],
   "source": [
    "# Visualize the true‐signal distributions on train vs. validation\n",
    "plt.hist(y_train, bins=100, alpha=0.5, label=\"train true\")\n",
    "plt.hist(y_val,   bins=100, alpha=0.5, label=\"val true\")\n",
    "plt.xlabel(\"Signal value\")\n",
    "plt.ylabel(\"Count\")\n",
    "plt.title(\"True Signal Distribution: Train vs. Validation\")\n",
    "plt.legend()\n",
    "plt.tight_layout()\n",
    "plt.show()\n"
   ]
  },
  {
   "cell_type": "code",
   "execution_count": 9,
   "id": "7bf94780-a876-4bf4-ad27-6abc2da1fc0a",
   "metadata": {},
   "outputs": [
    {
     "name": "stdout",
     "output_type": "stream",
     "text": [
      "Training sees 3840 unique trading days per epoch.\n",
      "\n",
      "Using HyperParameters:\n",
      " \"look_back\": 60 {'SHORT_UNITS': 128, 'LONG_UNITS': 128, 'DROPOUT_SHORT': 0.25, 'DROPOUT_LONG': 0.3, 'ATT_HEADS': 8, 'ATT_DROPOUT': 0.2, 'WEIGHT_DECAY': 0.003, 'CONV_K': 3, 'CONV_DILATION': 1, 'SMOOTH_K': 3, 'SMOOTH_DILATION': 1, 'TRAIN_BATCH': 64, 'VAL_BATCH': 1, 'NUM_WORKERS': 12, 'TRAIN_PREFETCH_FACTOR': 4, 'MAX_EPOCHS': 100, 'EARLY_STOP_PATIENCE': 7, 'LR_EPOCHS_WARMUP': 3, 'INITIAL_LR': 0.0002, 'CLIPNORM': 3, 'ETA_MIN': 1e-06, 'T_0': 100, 'T_MULT': 1, 'DIFF1_WEIGHT': 1.0, 'DIFF2_WEIGHT': 0.2, 'SMOOTH_ALPHA': 0.05, 'SMOOTH_BETA': 15.0, 'SMOOTH_DELTA': 0.005, 'HUBER_BETA': 0.1, 'CLS_LOSS_WEIGHT': 0.1, 'PLATEAU_FACTOR': 0.9, 'PLATEAU_PATIENCE': 0, 'MIN_LR': 1e-06, 'PLAT_EPOCHS_WARMUP': 999}\n"
     ]
    },
    {
     "data": {
      "image/png": "[encoded data removed]",
      "text/plain": [
       "<Figure size 660x440 with 1 Axes>"
      ]
     },
     "metadata": {},
     "output_type": "display_data"
    },
    {
     "data": {
      "application/vnd.jupyter.widget-view+json": {
       "model_id": "81d0e2eaebb94b76b836a322e7996064",
       "version_major": 2,
       "version_minor": 0
      },
      "text/plain": [
       "Epoch 1:   0%|          | 0/60 [00:00<?, ?batch/s]"
      ]
     },
     "metadata": {},
     "output_type": "display_data"
    },
    {
     "data": {
      "application/vnd.jupyter.widget-view+json": {
       "model_id": "6ed6d11cc3094fc2bf529152ba8e1c57",
       "version_major": 2,
       "version_minor": 0
      },
      "text/plain": [
       "eval:   0%|          | 0/751 [00:00<?, ?batch/s]"
      ]
     },
     "metadata": {},
     "output_type": "display_data"
    },
    {
     "name": "stdout",
     "output_type": "stream",
     "text": [
      "🔖 Saved folder-best checkpoint (_chp): AAPL_0.25491_chp.pth\n",
      "Epoch 001\n",
      "TRAIN→ RMSE=0.28964 MAE=0.23783 R2=0.00569 | Acc=0.69778 Prec=0.34237 Rec=0.10042 F1=0.15530 AUROC=0.58169 | T_ACC=0.34249 T_P=0.34181 T_R=0.34249 T_F1=0.33759 T_AUC=0.52013\n",
      "VALID→ RMSE=0.25491 MAE=0.19464 R2=0.21120 | Acc=0.72974 Prec=0.78818 Rec=0.08110 F1=0.14707 AUROC=0.73019 | T_ACC=0.34524 T_P=0.33611 T_R=0.34524 T_F1=0.33418 T_AUC=0.59354\n"
     ]
    },
    {
     "data": {
      "application/vnd.jupyter.widget-view+json": {
       "model_id": "b1896435fbfa46afbc93fa996888cb41",
       "version_major": 2,
       "version_minor": 0
      },
      "text/plain": [
       "Epoch 2:   0%|          | 0/60 [00:00<?, ?batch/s]"
      ]
     },
     "metadata": {},
     "output_type": "display_data"
    },
    {
     "data": {
      "application/vnd.jupyter.widget-view+json": {
       "model_id": "f15974e82e9b4c908f3cf75252d58a6e",
       "version_major": 2,
       "version_minor": 0
      },
      "text/plain": [
       "eval:   0%|          | 0/751 [00:00<?, ?batch/s]"
      ]
     },
     "metadata": {},
     "output_type": "display_data"
    },
    {
     "name": "stdout",
     "output_type": "stream",
     "text": [
      "🔖 Saved folder-best checkpoint (_chp): AAPL_0.25302_chp.pth\n",
      "Epoch 002\n",
      "TRAIN→ RMSE=0.27976 MAE=0.23220 R2=0.07238 | Acc=0.73622 Prec=0.55003 Rec=0.25534 F1=0.34877 AUROC=0.68430 | T_ACC=0.34736 T_P=0.34679 T_R=0.34736 T_F1=0.34474 T_AUC=0.53205\n",
      "VALID→ RMSE=0.25302 MAE=0.19765 R2=0.22283 | Acc=0.75224 Prec=0.70266 Rec=0.23860 F1=0.35624 AUROC=0.74619 | T_ACC=0.40040 T_P=0.33451 T_R=0.40040 T_F1=0.32602 T_AUC=0.67583\n"
     ]
    },
    {
     "data": {
      "application/vnd.jupyter.widget-view+json": {
       "model_id": "83cfb2a9b0864ea59540797fb1311ad4",
       "version_major": 2,
       "version_minor": 0
      },
      "text/plain": [
       "Epoch 3:   0%|          | 0/60 [00:00<?, ?batch/s]"
      ]
     },
     "metadata": {},
     "output_type": "display_data"
    },
    {
     "data": {
      "application/vnd.jupyter.widget-view+json": {
       "model_id": "1054236024d6426e87530d27c060f257",
       "version_major": 2,
       "version_minor": 0
      },
      "text/plain": [
       "eval:   0%|          | 0/751 [00:00<?, ?batch/s]"
      ]
     },
     "metadata": {},
     "output_type": "display_data"
    },
    {
     "name": "stdout",
     "output_type": "stream",
     "text": [
      "Epoch 003\n",
      "TRAIN→ RMSE=0.27519 MAE=0.22989 R2=0.10248 | Acc=0.74932 Prec=0.59105 Rec=0.30454 F1=0.40197 AUROC=0.71537 | T_ACC=0.35273 T_P=0.35184 T_R=0.35273 T_F1=0.35210 T_AUC=0.54528\n",
      "VALID→ RMSE=0.25332 MAE=0.19910 R2=0.22100 | Acc=0.75493 Prec=0.68657 Rec=0.27047 F1=0.38807 AUROC=0.74978 | T_ACC=0.41877 T_P=0.33409 T_R=0.41877 T_F1=0.32500 T_AUC=0.70360\n"
     ]
    },
    {
     "data": {
      "application/vnd.jupyter.widget-view+json": {
       "model_id": "5d8a3142fa6741d79d70cc182ff3e303",
       "version_major": 2,
       "version_minor": 0
      },
      "text/plain": [
       "Epoch 4:   0%|          | 0/60 [00:00<?, ?batch/s]"
      ]
     },
     "metadata": {},
     "output_type": "display_data"
    },
    {
     "data": {
      "application/vnd.jupyter.widget-view+json": {
       "model_id": "93956d8bb87647d2b8d50cea72fe53f3",
       "version_major": 2,
       "version_minor": 0
      },
      "text/plain": [
       "eval:   0%|          | 0/751 [00:00<?, ?batch/s]"
      ]
     },
     "metadata": {},
     "output_type": "display_data"
    },
    {
     "name": "stdout",
     "output_type": "stream",
     "text": [
      "🔖 Saved folder-best checkpoint (_chp): AAPL_0.25282_chp.pth\n",
      "Epoch 004\n",
      "TRAIN→ RMSE=0.27032 MAE=0.22609 R2=0.13396 | Acc=0.75536 Prec=0.61014 Rec=0.32038 F1=0.42014 AUROC=0.73283 | T_ACC=0.35500 T_P=0.35469 T_R=0.35500 T_F1=0.35464 T_AUC=0.55174\n",
      "VALID→ RMSE=0.25282 MAE=0.19923 R2=0.22407 | Acc=0.75644 Prec=0.67199 Rec=0.29741 F1=0.41233 AUROC=0.75096 | T_ACC=0.41653 T_P=0.33418 T_R=0.41653 T_F1=0.32442 T_AUC=0.70194\n"
     ]
    },
    {
     "data": {
      "application/vnd.jupyter.widget-view+json": {
       "model_id": "85797cb271c0498ca6af01b81fdb0308",
       "version_major": 2,
       "version_minor": 0
      },
      "text/plain": [
       "Epoch 5:   0%|          | 0/60 [00:00<?, ?batch/s]"
      ]
     },
     "metadata": {},
     "output_type": "display_data"
    },
    {
     "data": {
      "application/vnd.jupyter.widget-view+json": {
       "model_id": "4e7f7765e5ed40f08a311c6fce720237",
       "version_major": 2,
       "version_minor": 0
      },
      "text/plain": [
       "eval:   0%|          | 0/751 [00:00<?, ?batch/s]"
      ]
     },
     "metadata": {},
     "output_type": "display_data"
    },
    {
     "name": "stdout",
     "output_type": "stream",
     "text": [
      "Epoch 005\n",
      "TRAIN→ RMSE=0.26492 MAE=0.22068 R2=0.16818 | Acc=0.75854 Prec=0.62380 Rec=0.32033 F1=0.42330 AUROC=0.74382 | T_ACC=0.35503 T_P=0.35545 T_R=0.35503 T_F1=0.35449 T_AUC=0.55353\n",
      "VALID→ RMSE=0.25319 MAE=0.20282 R2=0.22177 | Acc=0.75503 Prec=0.63297 Rec=0.35063 F1=0.45128 AUROC=0.75008 | T_ACC=0.39676 T_P=0.33387 T_R=0.39676 T_F1=0.32286 T_AUC=0.69612\n"
     ]
    },
    {
     "data": {
      "application/vnd.jupyter.widget-view+json": {
       "model_id": "2f1322bde0834e618b1ced94114ebd77",
       "version_major": 2,
       "version_minor": 0
      },
      "text/plain": [
       "Epoch 6:   0%|          | 0/60 [00:00<?, ?batch/s]"
      ]
     },
     "metadata": {},
     "output_type": "display_data"
    },
    {
     "data": {
      "application/vnd.jupyter.widget-view+json": {
       "model_id": "eca90c4cfb3b4f5aad95c5f7d8756c69",
       "version_major": 2,
       "version_minor": 0
      },
      "text/plain": [
       "eval:   0%|          | 0/751 [00:00<?, ?batch/s]"
      ]
     },
     "metadata": {},
     "output_type": "display_data"
    },
    {
     "name": "stdout",
     "output_type": "stream",
     "text": [
      "Epoch 006\n",
      "TRAIN→ RMSE=0.26228 MAE=0.21851 R2=0.18471 | Acc=0.75980 Prec=0.62646 Rec=0.32620 F1=0.42902 AUROC=0.74978 | T_ACC=0.35338 T_P=0.35355 T_R=0.35338 T_F1=0.35226 T_AUC=0.55031\n",
      "VALID→ RMSE=0.25676 MAE=0.21073 R2=0.19973 | Acc=0.74989 Prec=0.59982 Rec=0.38895 F1=0.47190 AUROC=0.74732 | T_ACC=0.38526 T_P=0.33374 T_R=0.38526 T_F1=0.32170 T_AUC=0.68889\n"
     ]
    },
    {
     "data": {
      "application/vnd.jupyter.widget-view+json": {
       "model_id": "e305e6f4f42a43f59d9ce766ed58b14b",
       "version_major": 2,
       "version_minor": 0
      },
      "text/plain": [
       "Epoch 7:   0%|          | 0/60 [00:00<?, ?batch/s]"
      ]
     },
     "metadata": {},
     "output_type": "display_data"
    },
    {
     "data": {
      "application/vnd.jupyter.widget-view+json": {
       "model_id": "b7e923f5b95b45368274d39209883d8d",
       "version_major": 2,
       "version_minor": 0
      },
      "text/plain": [
       "eval:   0%|          | 0/751 [00:00<?, ?batch/s]"
      ]
     },
     "metadata": {},
     "output_type": "display_data"
    },
    {
     "name": "stdout",
     "output_type": "stream",
     "text": [
      "Epoch 007\n",
      "TRAIN→ RMSE=0.26136 MAE=0.21821 R2=0.19039 | Acc=0.76139 Prec=0.62705 Rec=0.33916 F1=0.44021 AUROC=0.75473 | T_ACC=0.35365 T_P=0.35351 T_R=0.35365 T_F1=0.35190 T_AUC=0.55326\n",
      "VALID→ RMSE=0.25887 MAE=0.21318 R2=0.18652 | Acc=0.74782 Prec=0.59324 Rec=0.38892 F1=0.46983 AUROC=0.74520 | T_ACC=0.38674 T_P=0.33373 T_R=0.38674 T_F1=0.32249 T_AUC=0.69233\n"
     ]
    },
    {
     "data": {
      "application/vnd.jupyter.widget-view+json": {
       "model_id": "f69e90d511ac4ef0bf7b76cb2c75d766",
       "version_major": 2,
       "version_minor": 0
      },
      "text/plain": [
       "Epoch 8:   0%|          | 0/60 [00:00<?, ?batch/s]"
      ]
     },
     "metadata": {},
     "output_type": "display_data"
    },
    {
     "data": {
      "application/vnd.jupyter.widget-view+json": {
       "model_id": "83104e2bbe6a4979b731e3048646713a",
       "version_major": 2,
       "version_minor": 0
      },
      "text/plain": [
       "eval:   0%|          | 0/751 [00:00<?, ?batch/s]"
      ]
     },
     "metadata": {},
     "output_type": "display_data"
    },
    {
     "name": "stdout",
     "output_type": "stream",
     "text": [
      "Epoch 008\n",
      "TRAIN→ RMSE=0.26018 MAE=0.21730 R2=0.19769 | Acc=0.76300 Prec=0.63050 Rec=0.34609 F1=0.44688 AUROC=0.75939 | T_ACC=0.35324 T_P=0.35326 T_R=0.35324 T_F1=0.35113 T_AUC=0.55226\n",
      "VALID→ RMSE=0.26083 MAE=0.21466 R2=0.17415 | Acc=0.74531 Prec=0.58666 Rec=0.38420 F1=0.46432 AUROC=0.74136 | T_ACC=0.37866 T_P=0.33355 T_R=0.37866 T_F1=0.32263 T_AUC=0.69481\n"
     ]
    },
    {
     "data": {
      "application/vnd.jupyter.widget-view+json": {
       "model_id": "afe60b49d5734481ab475c31e867d652",
       "version_major": 2,
       "version_minor": 0
      },
      "text/plain": [
       "Epoch 9:   0%|          | 0/60 [00:00<?, ?batch/s]"
      ]
     },
     "metadata": {},
     "output_type": "display_data"
    },
    {
     "data": {
      "application/vnd.jupyter.widget-view+json": {
       "model_id": "09a3981b93a3449db9b3caf4e7c94805",
       "version_major": 2,
       "version_minor": 0
      },
      "text/plain": [
       "eval:   0%|          | 0/751 [00:00<?, ?batch/s]"
      ]
     },
     "metadata": {},
     "output_type": "display_data"
    },
    {
     "name": "stdout",
     "output_type": "stream",
     "text": [
      "Epoch 009\n",
      "TRAIN→ RMSE=0.25950 MAE=0.21687 R2=0.20188 | Acc=0.76481 Prec=0.63281 Rec=0.35688 F1=0.45638 AUROC=0.76382 | T_ACC=0.35372 T_P=0.35287 T_R=0.35372 T_F1=0.35049 T_AUC=0.55202\n",
      "VALID→ RMSE=0.26236 MAE=0.21564 R2=0.16444 | Acc=0.74168 Prec=0.57589 Rec=0.38269 F1=0.45982 AUROC=0.73761 | T_ACC=0.38797 T_P=0.33359 T_R=0.38797 T_F1=0.32286 T_AUC=0.69119\n"
     ]
    },
    {
     "data": {
      "application/vnd.jupyter.widget-view+json": {
       "model_id": "35977d416bea4133a283eba8d1aae1d9",
       "version_major": 2,
       "version_minor": 0
      },
      "text/plain": [
       "Epoch 10:   0%|          | 0/60 [00:00<?, ?batch/s]"
      ]
     },
     "metadata": {},
     "output_type": "display_data"
    },
    {
     "data": {
      "application/vnd.jupyter.widget-view+json": {
       "model_id": "a02208425be844579c7ce5e4111516fb",
       "version_major": 2,
       "version_minor": 0
      },
      "text/plain": [
       "eval:   0%|          | 0/751 [00:00<?, ?batch/s]"
      ]
     },
     "metadata": {},
     "output_type": "display_data"
    },
    {
     "name": "stdout",
     "output_type": "stream",
     "text": [
      "Epoch 010\n",
      "TRAIN→ RMSE=0.25875 MAE=0.21643 R2=0.20649 | Acc=0.76616 Prec=0.63314 Rec=0.36786 F1=0.46535 AUROC=0.76799 | T_ACC=0.35524 T_P=0.35363 T_R=0.35524 T_F1=0.35131 T_AUC=0.55260\n",
      "VALID→ RMSE=0.26372 MAE=0.21689 R2=0.15574 | Acc=0.73581 Prec=0.55613 Rec=0.39850 F1=0.46430 AUROC=0.73451 | T_ACC=0.39681 T_P=0.33368 T_R=0.39681 T_F1=0.32337 T_AUC=0.67716\n"
     ]
    },
    {
     "data": {
      "application/vnd.jupyter.widget-view+json": {
       "model_id": "01909a8392e74229af832ded7dc98c33",
       "version_major": 2,
       "version_minor": 0
      },
      "text/plain": [
       "Epoch 11:   0%|          | 0/60 [00:00<?, ?batch/s]"
      ]
     },
     "metadata": {},
     "output_type": "display_data"
    },
    {
     "data": {
      "application/vnd.jupyter.widget-view+json": {
       "model_id": "8aff4a7dbcac44d8b74c856e9610294e",
       "version_major": 2,
       "version_minor": 0
      },
      "text/plain": [
       "eval:   0%|          | 0/751 [00:00<?, ?batch/s]"
      ]
     },
     "metadata": {},
     "output_type": "display_data"
    },
    {
     "name": "stdout",
     "output_type": "stream",
     "text": [
      "Early stopping at epoch 11\n",
      "✅ Final best model saved: AAPL_0.25282_fin.pth\n"
     ]
    },
    {
     "data": {
      "image/png": "[encoded data removed]",
      "text/plain": [
       "<Figure size 660x440 with 1 Axes>"
      ]
     },
     "metadata": {},
     "output_type": "display_data"
    }
   ],
   "source": [
    "importlib.reload(params.model_selected) #############\n",
    "\n",
    "# How many unique trading days does each epoch see?\n",
    "n_days = len(train_loader.dataset)\n",
    "print(f\"Training sees {n_days} unique trading days per epoch.\\n\")\n",
    "\n",
    "print('Using HyperParameters:\\n \"look_back\":', params.look_back_tick, params.hparams)\n",
    "\n",
    "# -----------------------------------------------------------------------------\n",
    "# Run the custom stateful training loop\n",
    "# -----------------------------------------------------------------------------\n",
    "best_val_rmse  = params.model_selected.model_training_loop(\n",
    "    model               = model,\n",
    "    optimizer           = optimizer,\n",
    "    cosine_sched        = cosine_sched,\n",
    "    plateau_sched       = plateau_sched,\n",
    "    scaler              = scaler,\n",
    "    train_loader        = train_loader,\n",
    "    val_loader          = val_loader,\n",
    "    max_epochs          = params.hparams['MAX_EPOCHS'],\n",
    "    early_stop_patience = params.hparams['EARLY_STOP_PATIENCE'],\n",
    "    clipnorm            = clipnorm,\n",
    "    device              = params.device,\n",
    "    cls_loss_weight     = params.hparams['CLS_LOSS_WEIGHT'],\n",
    "    smooth_alpha        = params.hparams['SMOOTH_ALPHA'],\n",
    "    smooth_beta         = params.hparams['SMOOTH_BETA'],\n",
    "    smooth_delta        = params.hparams['SMOOTH_DELTA'],\n",
    "    diff1_weight        = params.hparams['DIFF1_WEIGHT'],\n",
    "    diff2_weight        = params.hparams['DIFF2_WEIGHT'],\n",
    ")\n"
   ]
  },
  {
   "cell_type": "code",
   "execution_count": 10,
   "id": "22b25c89-05c3-4a16-b013-97143f173e08",
   "metadata": {},
   "outputs": [
    {
     "name": "stdout",
     "output_type": "stream",
     "text": [
      "\n",
      "Champion validation RMSE = 0.252821\n",
      "Improvement over zero‐baseline =  38.2%\n",
      "Improvement over mean‐baseline =  11.9%\n"
     ]
    }
   ],
   "source": [
    "# -----------------------------------------------------------------------------\n",
    "# Final reporting: best RMSE and relative improvement\n",
    "# -----------------------------------------------------------------------------\n",
    "print(f\"\\nChampion validation RMSE = {best_val_rmse:.6f}\")\n",
    "\n",
    "improvement_zero = 100.0 * (1.0 - best_val_rmse / rmse_zero_val)\n",
    "print(f\"Improvement over zero‐baseline = {improvement_zero:5.1f}%\")\n",
    "\n",
    "improvement_mean = 100.0 * (1.0 - best_val_rmse / rmse_mean_val)\n",
    "print(f\"Improvement over mean‐baseline = {improvement_mean:5.1f}%\")\n"
   ]
  },
  {
   "cell_type": "code",
   "execution_count": null,
   "id": "5935ccf4-d4ec-44de-827b-b520c8e76561",
   "metadata": {},
   "outputs": [],
   "source": []
  },
  {
   "cell_type": "code",
   "execution_count": null,
   "id": "099d6337-c4d3-4316-9f5d-3232276ba227",
   "metadata": {},
   "outputs": [],
   "source": []
  }
 ],
 "metadata": {
  "kernelspec": {
   "display_name": "Python 3 (ipykernel)",
   "language": "python",
   "name": "python3"
  },
  "language_info": {
   "codemirror_mode": {
    "name": "ipython",
    "version": 3
   },
   "file_extension": ".py",
   "mimetype": "text/x-python",
   "name": "python",
   "nbconvert_exporter": "python",
   "pygments_lexer": "ipython3",
   "version": "3.12.3"
  }
 },
 "nbformat": 4,
 "nbformat_minor": 5
}
