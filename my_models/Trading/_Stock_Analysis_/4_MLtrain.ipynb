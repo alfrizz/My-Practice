{
 "cells": [
  {
   "cell_type": "code",
   "execution_count": 1,
   "id": "fed6c184-8438-497e-8ae7-82cc35ac4819",
   "metadata": {},
   "outputs": [
    {
     "data": {
      "text/plain": [
       "<module 'libs.models.dual_lstm' from '/workspace/my_models/Trading/_Stock_Analysis_/libs/models/dual_lstm.py'>"
      ]
     },
     "execution_count": 1,
     "metadata": {},
     "output_type": "execute_result"
    }
   ],
   "source": [
    "%matplotlib inline\n",
    "\n",
    "\n",
    "# 1) Wipe out your namespace\n",
    "%reset -f\n",
    "\n",
    "# 2) Clear Jupyter’s stored outputs (and inputs if you like)\n",
    "try:\n",
    "    Out.clear()\n",
    "except NameError:\n",
    "    pass\n",
    "\n",
    "try:\n",
    "    In.clear()\n",
    "except NameError:\n",
    "    pass\n",
    "\n",
    "# 3) Force Python GC\n",
    "import gc\n",
    "gc.collect()\n",
    "\n",
    "# 4) Free any GPU buffers\n",
    "import torch\n",
    "if torch.cuda.is_available():\n",
    "    torch.cuda.empty_cache()\n",
    "\n",
    "\n",
    "import importlib\n",
    "from libs import params, trades, feats, plots, models_core\n",
    "from libs.models import dual_lstm\n",
    "importlib.reload(params)\n",
    "importlib.reload(trades)\n",
    "importlib.reload(feats)\n",
    "importlib.reload(plots)\n",
    "importlib.reload(models_core)\n",
    "importlib.reload(dual_lstm)"
   ]
  },
  {
   "cell_type": "code",
   "execution_count": 2,
   "id": "4c868158-e6bb-4d56-bbdd-8e8103f0b9e4",
   "metadata": {},
   "outputs": [],
   "source": [
    "import pandas as pd\n",
    "pd.set_option('display.max_columns', None)\n",
    "\n",
    "import numpy  as np\n",
    "import math\n",
    "import matplotlib.pyplot as plt\n",
    "\n",
    "import datetime as dt\n",
    "import os\n",
    "from typing import Sequence, List, Tuple, Optional, Union\n",
    "\n",
    "import torch.nn as nn\n",
    "import torch.nn.functional as Funct\n",
    "from torch_lr_finder import LRFinder\n",
    "from torch.utils.data import DataLoader, TensorDataset\n",
    "\n",
    "from tqdm import tqdm"
   ]
  },
  {
   "cell_type": "code",
   "execution_count": 3,
   "id": "7b98406a",
   "metadata": {},
   "outputs": [
    {
     "data": {
      "text/html": [
       "<div>\n",
       "<style scoped>\n",
       "    .dataframe tbody tr th:only-of-type {\n",
       "        vertical-align: middle;\n",
       "    }\n",
       "\n",
       "    .dataframe tbody tr th {\n",
       "        vertical-align: top;\n",
       "    }\n",
       "\n",
       "    .dataframe thead th {\n",
       "        text-align: right;\n",
       "    }\n",
       "</style>\n",
       "<table border=\"1\" class=\"dataframe\">\n",
       "  <thead>\n",
       "    <tr style=\"text-align: right;\">\n",
       "      <th></th>\n",
       "      <th>sma_pct_14</th>\n",
       "      <th>atr_pct_14</th>\n",
       "      <th>rsi_14</th>\n",
       "      <th>bb_w_20</th>\n",
       "      <th>plus_di_14</th>\n",
       "      <th>range_pct</th>\n",
       "      <th>eng_ma</th>\n",
       "      <th>minus_di_14</th>\n",
       "      <th>macd_diff_12_26_9</th>\n",
       "      <th>ret</th>\n",
       "      <th>eng_macd</th>\n",
       "      <th>macd_line_12_26_9</th>\n",
       "      <th>obv_diff_14</th>\n",
       "      <th>eng_atr_div</th>\n",
       "      <th>eng_adx</th>\n",
       "      <th>hour</th>\n",
       "      <th>adx_14</th>\n",
       "      <th>bid</th>\n",
       "      <th>ask</th>\n",
       "      <th>signal</th>\n",
       "    </tr>\n",
       "  </thead>\n",
       "  <tbody>\n",
       "    <tr>\n",
       "      <th>2004-01-02 09:33:00</th>\n",
       "      <td>0.499798</td>\n",
       "      <td>0.000000</td>\n",
       "      <td>1.000000</td>\n",
       "      <td>0.000000</td>\n",
       "      <td>0.000000</td>\n",
       "      <td>0.000000</td>\n",
       "      <td>0.516453</td>\n",
       "      <td>0.000000</td>\n",
       "      <td>0.506696</td>\n",
       "      <td>0.499891</td>\n",
       "      <td>0.624765</td>\n",
       "      <td>0.489532</td>\n",
       "      <td>0.488177</td>\n",
       "      <td>0.353456</td>\n",
       "      <td>0.519392</td>\n",
       "      <td>1.002425</td>\n",
       "      <td>0.000000</td>\n",
       "      <td>0.763714</td>\n",
       "      <td>0.764857</td>\n",
       "      <td>1.301415e-09</td>\n",
       "    </tr>\n",
       "    <tr>\n",
       "      <th>2004-01-02 09:34:00</th>\n",
       "      <td>0.499798</td>\n",
       "      <td>0.000000</td>\n",
       "      <td>1.000000</td>\n",
       "      <td>0.000000</td>\n",
       "      <td>0.000000</td>\n",
       "      <td>0.000000</td>\n",
       "      <td>0.516453</td>\n",
       "      <td>0.000000</td>\n",
       "      <td>0.506696</td>\n",
       "      <td>0.499891</td>\n",
       "      <td>0.624765</td>\n",
       "      <td>0.489532</td>\n",
       "      <td>0.488177</td>\n",
       "      <td>0.353456</td>\n",
       "      <td>0.519392</td>\n",
       "      <td>1.002425</td>\n",
       "      <td>0.000000</td>\n",
       "      <td>0.763714</td>\n",
       "      <td>0.764857</td>\n",
       "      <td>1.405474e-09</td>\n",
       "    </tr>\n",
       "    <tr>\n",
       "      <th>2004-01-02 09:35:00</th>\n",
       "      <td>0.499798</td>\n",
       "      <td>0.000000</td>\n",
       "      <td>1.000000</td>\n",
       "      <td>0.000000</td>\n",
       "      <td>0.000000</td>\n",
       "      <td>0.000000</td>\n",
       "      <td>0.516453</td>\n",
       "      <td>0.000000</td>\n",
       "      <td>0.506696</td>\n",
       "      <td>0.499891</td>\n",
       "      <td>0.624765</td>\n",
       "      <td>0.489532</td>\n",
       "      <td>0.488177</td>\n",
       "      <td>0.353456</td>\n",
       "      <td>0.519392</td>\n",
       "      <td>1.002425</td>\n",
       "      <td>0.000000</td>\n",
       "      <td>0.763714</td>\n",
       "      <td>0.764857</td>\n",
       "      <td>1.517855e-09</td>\n",
       "    </tr>\n",
       "    <tr>\n",
       "      <th>2004-01-02 09:36:00</th>\n",
       "      <td>0.499798</td>\n",
       "      <td>0.000000</td>\n",
       "      <td>1.000000</td>\n",
       "      <td>0.000000</td>\n",
       "      <td>0.000000</td>\n",
       "      <td>0.000000</td>\n",
       "      <td>0.516453</td>\n",
       "      <td>0.000000</td>\n",
       "      <td>0.506696</td>\n",
       "      <td>0.499891</td>\n",
       "      <td>0.624765</td>\n",
       "      <td>0.489532</td>\n",
       "      <td>0.488177</td>\n",
       "      <td>0.353456</td>\n",
       "      <td>0.519392</td>\n",
       "      <td>1.002425</td>\n",
       "      <td>0.000000</td>\n",
       "      <td>0.763714</td>\n",
       "      <td>0.764857</td>\n",
       "      <td>1.639221e-09</td>\n",
       "    </tr>\n",
       "    <tr>\n",
       "      <th>2004-01-02 09:37:00</th>\n",
       "      <td>0.499798</td>\n",
       "      <td>0.000000</td>\n",
       "      <td>1.000000</td>\n",
       "      <td>0.000000</td>\n",
       "      <td>0.000000</td>\n",
       "      <td>0.000000</td>\n",
       "      <td>0.516453</td>\n",
       "      <td>0.000000</td>\n",
       "      <td>0.506696</td>\n",
       "      <td>0.499891</td>\n",
       "      <td>0.624765</td>\n",
       "      <td>0.489532</td>\n",
       "      <td>0.488177</td>\n",
       "      <td>0.353456</td>\n",
       "      <td>0.519392</td>\n",
       "      <td>1.002425</td>\n",
       "      <td>0.000000</td>\n",
       "      <td>0.763714</td>\n",
       "      <td>0.764857</td>\n",
       "      <td>1.770291e-09</td>\n",
       "    </tr>\n",
       "    <tr>\n",
       "      <th>...</th>\n",
       "      <td>...</td>\n",
       "      <td>...</td>\n",
       "      <td>...</td>\n",
       "      <td>...</td>\n",
       "      <td>...</td>\n",
       "      <td>...</td>\n",
       "      <td>...</td>\n",
       "      <td>...</td>\n",
       "      <td>...</td>\n",
       "      <td>...</td>\n",
       "      <td>...</td>\n",
       "      <td>...</td>\n",
       "      <td>...</td>\n",
       "      <td>...</td>\n",
       "      <td>...</td>\n",
       "      <td>...</td>\n",
       "      <td>...</td>\n",
       "      <td>...</td>\n",
       "      <td>...</td>\n",
       "      <td>...</td>\n",
       "    </tr>\n",
       "    <tr>\n",
       "      <th>2025-06-18 20:56:00</th>\n",
       "      <td>0.751690</td>\n",
       "      <td>0.323886</td>\n",
       "      <td>0.672166</td>\n",
       "      <td>0.273759</td>\n",
       "      <td>0.363125</td>\n",
       "      <td>0.254109</td>\n",
       "      <td>0.532431</td>\n",
       "      <td>0.074852</td>\n",
       "      <td>0.888941</td>\n",
       "      <td>0.642346</td>\n",
       "      <td>0.634772</td>\n",
       "      <td>0.971125</td>\n",
       "      <td>1.000000</td>\n",
       "      <td>0.664288</td>\n",
       "      <td>0.537709</td>\n",
       "      <td>-0.975989</td>\n",
       "      <td>0.301944</td>\n",
       "      <td>196.667400</td>\n",
       "      <td>196.962600</td>\n",
       "      <td>6.849078e-01</td>\n",
       "    </tr>\n",
       "    <tr>\n",
       "      <th>2025-06-18 20:57:00</th>\n",
       "      <td>0.650094</td>\n",
       "      <td>0.336016</td>\n",
       "      <td>0.616686</td>\n",
       "      <td>0.290460</td>\n",
       "      <td>0.347207</td>\n",
       "      <td>0.420131</td>\n",
       "      <td>0.532016</td>\n",
       "      <td>0.067044</td>\n",
       "      <td>0.840741</td>\n",
       "      <td>0.340442</td>\n",
       "      <td>0.633511</td>\n",
       "      <td>0.981544</td>\n",
       "      <td>0.000000</td>\n",
       "      <td>0.676887</td>\n",
       "      <td>0.541855</td>\n",
       "      <td>-0.975989</td>\n",
       "      <td>0.328685</td>\n",
       "      <td>196.527500</td>\n",
       "      <td>196.822500</td>\n",
       "      <td>6.122057e-01</td>\n",
       "    </tr>\n",
       "    <tr>\n",
       "      <th>2025-06-18 20:58:00</th>\n",
       "      <td>0.631153</td>\n",
       "      <td>0.322169</td>\n",
       "      <td>0.614734</td>\n",
       "      <td>0.304199</td>\n",
       "      <td>0.336272</td>\n",
       "      <td>0.121620</td>\n",
       "      <td>0.531618</td>\n",
       "      <td>0.064933</td>\n",
       "      <td>0.777896</td>\n",
       "      <td>0.494192</td>\n",
       "      <td>0.631866</td>\n",
       "      <td>0.983006</td>\n",
       "      <td>0.000000</td>\n",
       "      <td>0.584662</td>\n",
       "      <td>0.545337</td>\n",
       "      <td>-0.975989</td>\n",
       "      <td>0.353515</td>\n",
       "      <td>196.522500</td>\n",
       "      <td>196.817500</td>\n",
       "      <td>6.104678e-01</td>\n",
       "    </tr>\n",
       "    <tr>\n",
       "      <th>2025-06-18 20:59:00</th>\n",
       "      <td>0.375519</td>\n",
       "      <td>0.346959</td>\n",
       "      <td>0.475401</td>\n",
       "      <td>0.305249</td>\n",
       "      <td>0.290578</td>\n",
       "      <td>0.565110</td>\n",
       "      <td>0.531157</td>\n",
       "      <td>0.160021</td>\n",
       "      <td>0.456523</td>\n",
       "      <td>0.009795</td>\n",
       "      <td>0.623450</td>\n",
       "      <td>0.884486</td>\n",
       "      <td>0.000000</td>\n",
       "      <td>0.645760</td>\n",
       "      <td>0.531521</td>\n",
       "      <td>-0.975989</td>\n",
       "      <td>0.348960</td>\n",
       "      <td>196.092800</td>\n",
       "      <td>196.387200</td>\n",
       "      <td>4.770902e-01</td>\n",
       "    </tr>\n",
       "    <tr>\n",
       "      <th>2025-06-18 21:00:00</th>\n",
       "      <td>0.535073</td>\n",
       "      <td>0.374297</td>\n",
       "      <td>0.551738</td>\n",
       "      <td>0.303059</td>\n",
       "      <td>0.249733</td>\n",
       "      <td>0.630630</td>\n",
       "      <td>0.531913</td>\n",
       "      <td>0.176984</td>\n",
       "      <td>0.422962</td>\n",
       "      <td>0.842567</td>\n",
       "      <td>0.622570</td>\n",
       "      <td>0.868408</td>\n",
       "      <td>1.000000</td>\n",
       "      <td>0.708780</td>\n",
       "      <td>0.525575</td>\n",
       "      <td>-0.993518</td>\n",
       "      <td>0.336212</td>\n",
       "      <td>196.392600</td>\n",
       "      <td>196.687400</td>\n",
       "      <td>3.509684e-01</td>\n",
       "    </tr>\n",
       "  </tbody>\n",
       "</table>\n",
       "<p>3715200 rows × 20 columns</p>\n",
       "</div>"
      ],
      "text/plain": [
       "                     sma_pct_14  atr_pct_14    rsi_14   bb_w_20  plus_di_14  \\\n",
       "2004-01-02 09:33:00    0.499798    0.000000  1.000000  0.000000    0.000000   \n",
       "2004-01-02 09:34:00    0.499798    0.000000  1.000000  0.000000    0.000000   \n",
       "2004-01-02 09:35:00    0.499798    0.000000  1.000000  0.000000    0.000000   \n",
       "2004-01-02 09:36:00    0.499798    0.000000  1.000000  0.000000    0.000000   \n",
       "2004-01-02 09:37:00    0.499798    0.000000  1.000000  0.000000    0.000000   \n",
       "...                         ...         ...       ...       ...         ...   \n",
       "2025-06-18 20:56:00    0.751690    0.323886  0.672166  0.273759    0.363125   \n",
       "2025-06-18 20:57:00    0.650094    0.336016  0.616686  0.290460    0.347207   \n",
       "2025-06-18 20:58:00    0.631153    0.322169  0.614734  0.304199    0.336272   \n",
       "2025-06-18 20:59:00    0.375519    0.346959  0.475401  0.305249    0.290578   \n",
       "2025-06-18 21:00:00    0.535073    0.374297  0.551738  0.303059    0.249733   \n",
       "\n",
       "                     range_pct    eng_ma  minus_di_14  macd_diff_12_26_9  \\\n",
       "2004-01-02 09:33:00   0.000000  0.516453     0.000000           0.506696   \n",
       "2004-01-02 09:34:00   0.000000  0.516453     0.000000           0.506696   \n",
       "2004-01-02 09:35:00   0.000000  0.516453     0.000000           0.506696   \n",
       "2004-01-02 09:36:00   0.000000  0.516453     0.000000           0.506696   \n",
       "2004-01-02 09:37:00   0.000000  0.516453     0.000000           0.506696   \n",
       "...                        ...       ...          ...                ...   \n",
       "2025-06-18 20:56:00   0.254109  0.532431     0.074852           0.888941   \n",
       "2025-06-18 20:57:00   0.420131  0.532016     0.067044           0.840741   \n",
       "2025-06-18 20:58:00   0.121620  0.531618     0.064933           0.777896   \n",
       "2025-06-18 20:59:00   0.565110  0.531157     0.160021           0.456523   \n",
       "2025-06-18 21:00:00   0.630630  0.531913     0.176984           0.422962   \n",
       "\n",
       "                          ret  eng_macd  macd_line_12_26_9  obv_diff_14  \\\n",
       "2004-01-02 09:33:00  0.499891  0.624765           0.489532     0.488177   \n",
       "2004-01-02 09:34:00  0.499891  0.624765           0.489532     0.488177   \n",
       "2004-01-02 09:35:00  0.499891  0.624765           0.489532     0.488177   \n",
       "2004-01-02 09:36:00  0.499891  0.624765           0.489532     0.488177   \n",
       "2004-01-02 09:37:00  0.499891  0.624765           0.489532     0.488177   \n",
       "...                       ...       ...                ...          ...   \n",
       "2025-06-18 20:56:00  0.642346  0.634772           0.971125     1.000000   \n",
       "2025-06-18 20:57:00  0.340442  0.633511           0.981544     0.000000   \n",
       "2025-06-18 20:58:00  0.494192  0.631866           0.983006     0.000000   \n",
       "2025-06-18 20:59:00  0.009795  0.623450           0.884486     0.000000   \n",
       "2025-06-18 21:00:00  0.842567  0.622570           0.868408     1.000000   \n",
       "\n",
       "                     eng_atr_div   eng_adx      hour    adx_14         bid  \\\n",
       "2004-01-02 09:33:00     0.353456  0.519392  1.002425  0.000000    0.763714   \n",
       "2004-01-02 09:34:00     0.353456  0.519392  1.002425  0.000000    0.763714   \n",
       "2004-01-02 09:35:00     0.353456  0.519392  1.002425  0.000000    0.763714   \n",
       "2004-01-02 09:36:00     0.353456  0.519392  1.002425  0.000000    0.763714   \n",
       "2004-01-02 09:37:00     0.353456  0.519392  1.002425  0.000000    0.763714   \n",
       "...                          ...       ...       ...       ...         ...   \n",
       "2025-06-18 20:56:00     0.664288  0.537709 -0.975989  0.301944  196.667400   \n",
       "2025-06-18 20:57:00     0.676887  0.541855 -0.975989  0.328685  196.527500   \n",
       "2025-06-18 20:58:00     0.584662  0.545337 -0.975989  0.353515  196.522500   \n",
       "2025-06-18 20:59:00     0.645760  0.531521 -0.975989  0.348960  196.092800   \n",
       "2025-06-18 21:00:00     0.708780  0.525575 -0.993518  0.336212  196.392600   \n",
       "\n",
       "                            ask        signal  \n",
       "2004-01-02 09:33:00    0.764857  1.301415e-09  \n",
       "2004-01-02 09:34:00    0.764857  1.405474e-09  \n",
       "2004-01-02 09:35:00    0.764857  1.517855e-09  \n",
       "2004-01-02 09:36:00    0.764857  1.639221e-09  \n",
       "2004-01-02 09:37:00    0.764857  1.770291e-09  \n",
       "...                         ...           ...  \n",
       "2025-06-18 20:56:00  196.962600  6.849078e-01  \n",
       "2025-06-18 20:57:00  196.822500  6.122057e-01  \n",
       "2025-06-18 20:58:00  196.817500  6.104678e-01  \n",
       "2025-06-18 20:59:00  196.387200  4.770902e-01  \n",
       "2025-06-18 21:00:00  196.687400  3.509684e-01  \n",
       "\n",
       "[3715200 rows x 20 columns]"
      ]
     },
     "execution_count": 3,
     "metadata": {},
     "output_type": "execute_result"
    }
   ],
   "source": [
    "df_feat_sel = pd.read_csv(params.feat_all_csv, index_col=0, parse_dates=True)[params.features_cols_tick + ['bid','ask'] + [params.label_col]]\n",
    "    \n",
    "df_feat_sel"
   ]
  },
  {
   "cell_type": "code",
   "execution_count": 4,
   "id": "b805fa9c",
   "metadata": {},
   "outputs": [
    {
     "name": "stdout",
     "output_type": "stream",
     "text": [
      "Inside build_tensors, features: ['sma_pct_14', 'atr_pct_14', 'rsi_14', 'bb_w_20', 'plus_di_14', 'range_pct', 'eng_ma', 'minus_di_14', 'macd_diff_12_26_9', 'ret', 'eng_macd', 'macd_line_12_26_9', 'obv_diff_14', 'eng_atr_div', 'eng_adx', 'hour', 'adx_14']\n"
     ]
    },
    {
     "data": {
      "application/vnd.jupyter.widget-view+json": {
       "model_id": "09d7135dac4d4fb2b7dc04266a8a3dde",
       "version_major": 2,
       "version_minor": 0
      },
      "text/plain": [
       "Counting windows:   0%|          | 0/5400 [00:00<?, ?it/s]"
      ]
     },
     "metadata": {},
     "output_type": "display_data"
    },
    {
     "data": {
      "application/vnd.jupyter.widget-view+json": {
       "model_id": "2f4d5f682a824a38b9b1bf9ea4e41967",
       "version_major": 2,
       "version_minor": 0
      },
      "text/plain": [
       "Writing memmaps:   0%|          | 0/5400 [00:00<?, ?it/s]"
      ]
     },
     "metadata": {},
     "output_type": "display_data"
    },
    {
     "name": "stdout",
     "output_type": "stream",
     "text": [
      "Shapes:\n",
      "  X         = torch.Size([2435400, 60, 17]) (samples, look_back, features)\n",
      "  y_sig     = torch.Size([2435400]) (samples,)\n",
      "  y_ret     = torch.Size([2435400]) (samples,)\n",
      "  raw_close = torch.Size([2435400])\n",
      "  raw_bid   = torch.Size([2435400])\n",
      "  raw_ask   = torch.Size([2435400])\n",
      "  end_times = (2435400,)\n"
     ]
    }
   ],
   "source": [
    "# Build LSTM input tensors (disk-backed memmaps)\n",
    "X, y_sig, y_ret, raw_close, raw_bid, raw_ask, end_times = models_core.build_tensors(\n",
    "    df            = df_feat_sel,\n",
    "    sess_start    = params.sess_start_pred_tick \n",
    ")\n",
    "\n",
    "# quick shapes\n",
    "print(\"Shapes:\")\n",
    "print(\"  X         =\", X.shape,    \"(samples, look_back, features)\")\n",
    "print(\"  y_sig     =\", y_sig.shape, \"(samples,)\")\n",
    "print(\"  y_ret     =\", y_ret.shape, \"(samples,)\")\n",
    "print(\"  raw_close =\", raw_close.shape)\n",
    "print(\"  raw_bid   =\", raw_bid.shape)\n",
    "print(\"  raw_ask   =\", raw_ask.shape)\n",
    "print(\"  end_times =\", end_times.shape)\n"
   ]
  },
  {
   "cell_type": "code",
   "execution_count": 5,
   "id": "7b4f1ac4",
   "metadata": {},
   "outputs": [
    {
     "name": "stdout",
     "output_type": "stream",
     "text": [
      "Shapes:\n",
      "  X_tr  = torch.Size([1731840, 60, 17])\n",
      "  y_sig_tr, y_ret_tr = torch.Size([1731840]) torch.Size([1731840])\n",
      "  X_val = torch.Size([338701, 60, 17])\n",
      "  y_sig_val, y_ret_val = torch.Size([338701]) torch.Size([338701])\n",
      "  X_te  = torch.Size([364859, 60, 17])\n",
      "  y_sig_te, y_ret_te = torch.Size([364859]) torch.Size([364859])\n"
     ]
    }
   ],
   "source": [
    "# Split into train/val/test by calendar day\n",
    "(\n",
    "(X_tr,  y_sig_tr,  y_ret_tr),\n",
    "(X_val, y_sig_val, y_ret_val),\n",
    "(X_te,  y_sig_te,  y_ret_te,  raw_close_te, raw_bid_te, raw_ask_te),\n",
    "samples_per_day,\n",
    "day_id_tr, day_id_val, day_id_te\n",
    ") = models_core.chronological_split(\n",
    "    X, y_sig, y_ret,\n",
    "    raw_close, raw_bid, raw_ask,\n",
    "    end_times   = end_times,\n",
    "    train_prop  = params.train_prop,\n",
    "    val_prop    = params.val_prop,\n",
    "    train_batch = params.hparams['TRAIN_BATCH']\n",
    ")\n",
    "\n",
    "# Print shapes of all tensors\n",
    "print(\"Shapes:\")\n",
    "print(\"  X_tr  =\", X_tr.shape)\n",
    "print(\"  y_sig_tr, y_ret_tr =\", y_sig_tr.shape, y_ret_tr.shape)\n",
    "print(\"  X_val =\", X_val.shape)\n",
    "print(\"  y_sig_val, y_ret_val =\", y_sig_val.shape, y_ret_val.shape)\n",
    "print(\"  X_te  =\", X_te.shape)\n",
    "print(\"  y_sig_te, y_ret_te =\", y_sig_te.shape, y_ret_te.shape)\n"
   ]
  },
  {
   "cell_type": "code",
   "execution_count": 6,
   "id": "1ad9b6c4-3d79-45c0-b2c0-c4f46f1ad866",
   "metadata": {},
   "outputs": [
    {
     "data": {
      "application/vnd.jupyter.widget-view+json": {
       "model_id": "5edf3161c3814fb4976091a496d2ae25",
       "version_major": 2,
       "version_minor": 0
      },
      "text/plain": [
       "Creating DayWindowDatasets:   0%|          | 0/3 [00:00<?, ?split/s]"
      ]
     },
     "metadata": {},
     "output_type": "display_data"
    },
    {
     "name": "stdout",
     "output_type": "stream",
     "text": [
      "Days  → train=3840, val=751, test=809\n",
      "Batches → train=60,   val=751,   test=809\n"
     ]
    }
   ],
   "source": [
    "# carve `end_times` into the same three splits:\n",
    "n_tr  = day_id_tr .shape[0] \n",
    "n_val = day_id_val.shape[0]\n",
    "i_tr  = n_tr\n",
    "i_val = n_tr + n_val\n",
    "\n",
    "end_times_tr  = end_times[:i_tr]\n",
    "end_times_val = end_times[i_tr:i_val]\n",
    "end_times_te  = end_times[i_val:]\n",
    "\n",
    "# -----------------------------------------------------------------------------\n",
    "#  Build DataLoaders over calendar‐days\n",
    "# -----------------------------------------------------------------------------\n",
    "train_loader, val_loader, test_loader = models_core.split_to_day_datasets(\n",
    "    # train split:   \n",
    "    X_tr,            y_sig_tr,     y_ret_tr,   end_times_tr,\n",
    "    # val split:\n",
    "    X_val,           y_sig_val,    y_ret_val,  end_times_val,\n",
    "    # test split + raw‐prices\n",
    "    X_te,            y_sig_te,     y_ret_te,   end_times_te,\n",
    "    raw_close_te, raw_bid_te, raw_ask_te,\n",
    "    \n",
    "    sess_start_time       = params.sess_start_pred_tick,\n",
    "    signal_thresh         = params.best_optuna_params[\"buy_threshold\"],\n",
    "    return_thresh         = 0.01,  # flat‐zone threshold for returns (to tune)\n",
    "    train_batch           = params.hparams[\"TRAIN_BATCH\"],\n",
    "    train_workers         = params.hparams[\"NUM_WORKERS\"],\n",
    "    train_prefetch_factor = params.hparams[\"TRAIN_PREFETCH_FACTOR\"]\n",
    ")\n",
    "\n",
    "print(f\"Days  → train={len(train_loader.dataset)}, val={len(val_loader.dataset)}, test={len(test_loader.dataset)}\")\n",
    "print(f\"Batches → train={len(train_loader)},   val={len(val_loader)},   test={len(test_loader)}\")"
   ]
  },
  {
   "cell_type": "code",
   "execution_count": 7,
   "id": "eeec031f-6c8f-455f-9c72-ae411e03ba34",
   "metadata": {},
   "outputs": [
    {
     "data": {
      "text/plain": [
       "DualMemoryLSTM(\n",
       "  (conv): Conv1d(17, 17, kernel_size=(3,), stride=(1,), padding=(1,))\n",
       "  (short_lstm): LSTM(17, 32, batch_first=True, bidirectional=True)\n",
       "  (attn): MultiheadAttention(\n",
       "    (out_proj): NonDynamicallyQuantizableLinear(in_features=64, out_features=64, bias=True)\n",
       "  )\n",
       "  (do_short): Dropout(p=0.15, inplace=False)\n",
       "  (ln_short): LayerNorm((64,), eps=1e-05, elementwise_affine=True)\n",
       "  (long_lstm): LSTM(64, 48, batch_first=True, bidirectional=True)\n",
       "  (do_long): Dropout(p=0.15, inplace=False)\n",
       "  (ln_long): LayerNorm((96,), eps=1e-05, elementwise_affine=True)\n",
       "  (pred): Linear(in_features=96, out_features=1, bias=True)\n",
       "  (cls_head): Linear(in_features=96, out_features=1, bias=True)\n",
       "  (cls_ter): Linear(in_features=96, out_features=3, bias=True)\n",
       ")"
      ]
     },
     "execution_count": 7,
     "metadata": {},
     "output_type": "execute_result"
    }
   ],
   "source": [
    "# -----------------------------------------------------------------------------\n",
    "# Instantiate the stateful DualMemoryLSTM & move to device\n",
    "# -----------------------------------------------------------------------------\n",
    "model = dual_lstm.DualMemoryLSTM(\n",
    "    n_feats        = X.shape[-1],                          \n",
    "    short_units    = params.hparams['SHORT_UNITS'],    \n",
    "    long_units     = params.hparams['LONG_UNITS'],     \n",
    "    dropout_short  = params.hparams['DROPOUT_SHORT'],  \n",
    "    dropout_long   = params.hparams['DROPOUT_LONG'],   \n",
    "    att_heads      = params.hparams['ATT_HEADS'],\n",
    "    att_drop       = params.hparams['ATT_DROPOUT']\n",
    ")\n",
    "model.to(params.device)  \n",
    "\n",
    "model"
   ]
  },
  {
   "cell_type": "code",
   "execution_count": 8,
   "id": "5512a0dd-d2c8-418e-bfca-4580fb4be995",
   "metadata": {},
   "outputs": [
    {
     "data": {
      "text/plain": [
       "AdamW (\n",
       "Parameter Group 0\n",
       "    amsgrad: False\n",
       "    betas: (0.9, 0.999)\n",
       "    capturable: False\n",
       "    decoupled_weight_decay: True\n",
       "    differentiable: False\n",
       "    eps: 1e-08\n",
       "    foreach: None\n",
       "    fused: None\n",
       "    initial_lr: 0.0001\n",
       "    lr: 0.0001\n",
       "    maximize: False\n",
       "    weight_decay: 0.0005\n",
       ")"
      ]
     },
     "execution_count": 8,
     "metadata": {},
     "output_type": "execute_result"
    }
   ],
   "source": [
    "# -----------------------------------------------------------------------------\n",
    "# Build optimizer, LR scheduler, AMP scaler, and gradient‐clip norm\n",
    "# -----------------------------------------------------------------------------\n",
    "optimizer, plateau_sched, cosine_sched, scaler, clipnorm = models_core.make_optimizer_and_scheduler(\n",
    "    model,\n",
    "    initial_lr        = params.hparams['INITIAL_LR'],       \n",
    "    weight_decay      = params.hparams['WEIGHT_DECAY'],     \n",
    "    clipnorm          = params.hparams['CLIPNORM']   \n",
    ")\n",
    "\n",
    "optimizer"
   ]
  },
  {
   "cell_type": "code",
   "execution_count": 9,
   "id": "e9c5fc27-f31d-4adc-a247-5468674f83fc",
   "metadata": {},
   "outputs": [
    {
     "name": "stdout",
     "output_type": "stream",
     "text": [
      "Zero‐forecast RMSE (predict 0): train = 0.405952,  val = 0.409382\n",
      "\n",
      "Train target stats:\n",
      "  mean = 0.2836,  var = 0.0844,  std = 0.2905\n",
      "Train mean‐predictor baseline:\n",
      "  RMSE_baseline = 0.290471\n",
      "  R²_baseline   = 0.00\n",
      "\n",
      "Validation target stats:\n",
      "  mean = 0.2919,  var = 0.0824,  std = 0.2870\n",
      "Validation mean‐predictor baseline:\n",
      "  RMSE_baseline = 0.287012\n",
      "  R²_baseline   = 0.00\n",
      "\n"
     ]
    }
   ],
   "source": [
    "# -----------------------------------------------------------------------------\n",
    "# Helper: extract the true “signal” values from any loader into a flat array\n",
    "# -----------------------------------------------------------------------------\n",
    "def extract_y(loader):\n",
    "    return np.concatenate([batch[1].cpu().numpy().ravel() for batch in loader])\n",
    "\n",
    "# Pull out train & validation targets\n",
    "y_train = extract_y(train_loader)\n",
    "y_val   = extract_y(val_loader)\n",
    "\n",
    "# -----------------------------------------------------------------------------\n",
    "# 1) Zero‐forecast baseline RMSE (predict 0 always)\n",
    "#    RMSE_zero = √(mean(y²))\n",
    "# -----------------------------------------------------------------------------\n",
    "rmse_zero_train = np.sqrt(np.mean(y_train**2))\n",
    "rmse_zero_val   = np.sqrt(np.mean(y_val**2))\n",
    "print(f\"Zero‐forecast RMSE (predict 0): train = {rmse_zero_train:.6f},  val = {rmse_zero_val:.6f}\\n\")\n",
    "\n",
    "# -----------------------------------------------------------------------------\n",
    "# 2) Compute mean, variance & std for train/validation targets\n",
    "#    and derive the mean‐predictor baseline (R² = 0)\n",
    "# -----------------------------------------------------------------------------\n",
    "for split, y in [(\"Train\", y_train), (\"Validation\", y_val)]:\n",
    "    mean_y    = y.mean()\n",
    "    std_y     = y.std(ddof=0)     # population std = √variance\n",
    "    var_y     = std_y**2\n",
    "    rmse_mean = std_y            # RMSE_baseline = std(target)\n",
    "\n",
    "    print(f\"{split} target stats:\")\n",
    "    print(f\"  mean = {mean_y:.4f},  var = {var_y:.4f},  std = {std_y:.4f}\")\n",
    "    print(f\"{split} mean‐predictor baseline:\")\n",
    "    print(f\"  RMSE_baseline = {rmse_mean:.6f}\")\n",
    "    print(\"  R²_baseline   = 0.00\\n\")\n",
    "\n",
    "    if split == \"Validation\":\n",
    "        rmse_mean_val = rmse_mean # used afterwards for the final reporting\n",
    "        \n"
   ]
  },
  {
   "cell_type": "code",
   "execution_count": 10,
   "id": "a8f7ec8c-5882-486b-bdfd-371b8db260f9",
   "metadata": {},
   "outputs": [
    {
     "data": {
      "image/png": "[encoded data removed]",
      "text/plain": [
       "<Figure size 640x480 with 1 Axes>"
      ]
     },
     "metadata": {},
     "output_type": "display_data"
    }
   ],
   "source": [
    "# Visualize the true‐signal distributions on train vs. validation\n",
    "plt.hist(y_train, bins=100, alpha=0.5, label=\"train true\")\n",
    "plt.hist(y_val,   bins=100, alpha=0.5, label=\"val true\")\n",
    "plt.xlabel(\"Signal value\")\n",
    "plt.ylabel(\"Count\")\n",
    "plt.title(\"True Signal Distribution: Train vs. Validation\")\n",
    "plt.legend()\n",
    "plt.tight_layout()\n",
    "plt.show()\n"
   ]
  },
  {
   "cell_type": "code",
   "execution_count": null,
   "id": "7bf94780-a876-4bf4-ad27-6abc2da1fc0a",
   "metadata": {},
   "outputs": [
    {
     "name": "stdout",
     "output_type": "stream",
     "text": [
      "Training sees 3840 unique trading days per epoch.\n",
      "\n",
      "Using HyperParameters:\n",
      " \"look_back\": 60 {'SHORT_UNITS': 64, 'LONG_UNITS': 96, 'DROPOUT_SHORT': 0.15, 'DROPOUT_LONG': 0.15, 'ATT_HEADS': 4, 'ATT_DROPOUT': 0.15, 'WEIGHT_DECAY': 0.0005, 'TRAIN_BATCH': 64, 'VAL_BATCH': 1, 'NUM_WORKERS': 4, 'TRAIN_PREFETCH_FACTOR': 2, 'MAX_EPOCHS': 100, 'EARLY_STOP_PATIENCE': 7, 'LR_EPOCHS_WARMUP': 3, 'INITIAL_LR': 0.0001, 'CLIPNORM': 0.5, 'ETA_MIN': 1e-06, 'T_0': 100, 'T_MULT': 1, 'HUBER_BETA': 0.1, 'CLS_LOSS_WEIGHT': 0.05, 'PLATEAU_FACTOR': 0.9, 'PLATEAU_PATIENCE': 0, 'MIN_LR': 1e-06, 'PLAT_EPOCHS_WARMUP': 999}\n"
     ]
    },
    {
     "data": {
      "image/png": "[encoded data removed]",
      "text/plain": [
       "<Figure size 660x440 with 1 Axes>"
      ]
     },
     "metadata": {},
     "output_type": "display_data"
    },
    {
     "data": {
      "application/vnd.jupyter.widget-view+json": {
       "model_id": "c6f7b8290ae34811a7ceac42e81166d4",
       "version_major": 2,
       "version_minor": 0
      },
      "text/plain": [
       "Epoch 1:   0%|          | 0/60 [00:00<?, ?batch/s]"
      ]
     },
     "metadata": {},
     "output_type": "display_data"
    },
    {
     "name": "stdout",
     "output_type": "stream",
     "text": [
      "Epoch 001\n",
      "TRAIN→ \"R\": RMSE=0.2877 MAE=0.2269 R2=0.0188 | \"B\": Acc=0.5982 Prec=0.3146 Rec=0.3841 F1=0.3459 AUROC=0.5474\n",
      "VALID→ \"R\": RMSE=0.2821 MAE=0.1968 R2=0.0340 | \"B\": Acc=0.6677 Prec=0.3987 Rec=0.3083 F1=0.3477 AUROC=0.6129\n"
     ]
    },
    {
     "data": {
      "application/vnd.jupyter.widget-view+json": {
       "model_id": "794be283f31f44b0976bf200f99729e6",
       "version_major": 2,
       "version_minor": 0
      },
      "text/plain": [
       "Epoch 2:   0%|          | 0/60 [00:00<?, ?batch/s]"
      ]
     },
     "metadata": {},
     "output_type": "display_data"
    },
    {
     "name": "stdout",
     "output_type": "stream",
     "text": [
      "Epoch 002\n",
      "TRAIN→ \"R\": RMSE=0.2706 MAE=0.2085 R2=0.1320 | \"B\": Acc=0.6092 Prec=0.3449 Rec=0.4590 F1=0.3939 AUROC=0.5900\n",
      "VALID→ \"R\": RMSE=0.2714 MAE=0.1886 R2=0.1059 | \"B\": Acc=0.6903 Prec=0.4424 Rec=0.2996 F1=0.3573 AUROC=0.6227\n"
     ]
    },
    {
     "data": {
      "application/vnd.jupyter.widget-view+json": {
       "model_id": "fcfce5a691a947508f3e349116ea1936",
       "version_major": 2,
       "version_minor": 0
      },
      "text/plain": [
       "Epoch 3:   0%|          | 0/60 [00:00<?, ?batch/s]"
      ]
     },
     "metadata": {},
     "output_type": "display_data"
    },
    {
     "name": "stdout",
     "output_type": "stream",
     "text": [
      "Epoch 003\n",
      "TRAIN→ \"R\": RMSE=0.2653 MAE=0.2030 R2=0.1660 | \"B\": Acc=0.6098 Prec=0.3509 Rec=0.4828 F1=0.4064 AUROC=0.5994\n",
      "VALID→ \"R\": RMSE=0.2560 MAE=0.1889 R2=0.2043 | \"B\": Acc=0.6501 Prec=0.4064 Rec=0.4730 F1=0.4372 AUROC=0.6395\n"
     ]
    },
    {
     "data": {
      "application/vnd.jupyter.widget-view+json": {
       "model_id": "86d8fe9cf2aa4f81a17627f611fafdf8",
       "version_major": 2,
       "version_minor": 0
      },
      "text/plain": [
       "Epoch 4:   0%|          | 0/60 [00:00<?, ?batch/s]"
      ]
     },
     "metadata": {},
     "output_type": "display_data"
    },
    {
     "name": "stdout",
     "output_type": "stream",
     "text": [
      "Epoch 004\n",
      "TRAIN→ \"R\": RMSE=0.2634 MAE=0.2020 R2=0.1775 | \"B\": Acc=0.6043 Prec=0.3523 Rec=0.5131 F1=0.4177 AUROC=0.6044\n",
      "VALID→ \"R\": RMSE=0.2631 MAE=0.1839 R2=0.1599 | \"B\": Acc=0.6686 Prec=0.4219 Rec=0.4144 F1=0.4181 AUROC=0.6430\n"
     ]
    },
    {
     "data": {
      "application/vnd.jupyter.widget-view+json": {
       "model_id": "b0d4dbbb96d04541b0132163d943bbe6",
       "version_major": 2,
       "version_minor": 0
      },
      "text/plain": [
       "Epoch 5:   0%|          | 0/60 [00:00<?, ?batch/s]"
      ]
     },
     "metadata": {},
     "output_type": "display_data"
    },
    {
     "name": "stdout",
     "output_type": "stream",
     "text": [
      "Epoch 005\n",
      "TRAIN→ \"R\": RMSE=0.2614 MAE=0.2002 R2=0.1899 | \"B\": Acc=0.6179 Prec=0.3584 Rec=0.4827 F1=0.4114 AUROC=0.6041\n",
      "VALID→ \"R\": RMSE=0.2570 MAE=0.1842 R2=0.1985 | \"B\": Acc=0.6467 Prec=0.4040 Rec=0.4830 F1=0.4400 AUROC=0.6335\n"
     ]
    },
    {
     "data": {
      "application/vnd.jupyter.widget-view+json": {
       "model_id": "0929bfc1d8474586802c99c069fa86c5",
       "version_major": 2,
       "version_minor": 0
      },
      "text/plain": [
       "Epoch 6:   0%|          | 0/60 [00:00<?, ?batch/s]"
      ]
     },
     "metadata": {},
     "output_type": "display_data"
    },
    {
     "name": "stdout",
     "output_type": "stream",
     "text": [
      "Epoch 006\n",
      "TRAIN→ \"R\": RMSE=0.2607 MAE=0.2011 R2=0.1946 | \"B\": Acc=0.5819 Prec=0.3410 Rec=0.5485 F1=0.4206 AUROC=0.5965\n",
      "VALID→ \"R\": RMSE=0.2593 MAE=0.1824 R2=0.1836 | \"B\": Acc=0.6478 Prec=0.4021 Rec=0.4641 F1=0.4309 AUROC=0.6229\n"
     ]
    },
    {
     "data": {
      "application/vnd.jupyter.widget-view+json": {
       "model_id": "44caa1c98a1c4298a7d9322e62a32353",
       "version_major": 2,
       "version_minor": 0
      },
      "text/plain": [
       "Epoch 7:   0%|          | 0/60 [00:00<?, ?batch/s]"
      ]
     },
     "metadata": {},
     "output_type": "display_data"
    },
    {
     "name": "stdout",
     "output_type": "stream",
     "text": [
      "Epoch 007\n",
      "TRAIN→ \"R\": RMSE=0.2588 MAE=0.1978 R2=0.2059 | \"B\": Acc=0.5910 Prec=0.3445 Rec=0.5297 F1=0.4174 AUROC=0.5966\n",
      "VALID→ \"R\": RMSE=0.2560 MAE=0.1825 R2=0.2044 | \"B\": Acc=0.6369 Prec=0.3938 Rec=0.4892 F1=0.4363 AUROC=0.6191\n"
     ]
    },
    {
     "data": {
      "application/vnd.jupyter.widget-view+json": {
       "model_id": "715d1330c2ba475298b4801894c9b1c1",
       "version_major": 2,
       "version_minor": 0
      },
      "text/plain": [
       "Epoch 8:   0%|          | 0/60 [00:00<?, ?batch/s]"
      ]
     },
     "metadata": {},
     "output_type": "display_data"
    },
    {
     "name": "stdout",
     "output_type": "stream",
     "text": [
      "Epoch 008\n",
      "TRAIN→ \"R\": RMSE=0.2585 MAE=0.1990 R2=0.2078 | \"B\": Acc=0.5732 Prec=0.3370 Rec=0.5614 F1=0.4212 AUROC=0.5922\n",
      "VALID→ \"R\": RMSE=0.2573 MAE=0.1813 R2=0.1965 | \"B\": Acc=0.6255 Prec=0.3882 Rec=0.5271 F1=0.4471 AUROC=0.6237\n"
     ]
    },
    {
     "data": {
      "application/vnd.jupyter.widget-view+json": {
       "model_id": "2fa6d48b2f7149c6925a3c01b4403242",
       "version_major": 2,
       "version_minor": 0
      },
      "text/plain": [
       "Epoch 9:   0%|          | 0/60 [00:00<?, ?batch/s]"
      ]
     },
     "metadata": {},
     "output_type": "display_data"
    },
    {
     "name": "stdout",
     "output_type": "stream",
     "text": [
      "Epoch 009\n",
      "TRAIN→ \"R\": RMSE=0.2571 MAE=0.1976 R2=0.2165 | \"B\": Acc=0.5530 Prec=0.3325 Rec=0.6110 F1=0.4306 AUROC=0.5954\n",
      "VALID→ \"R\": RMSE=0.2547 MAE=0.1812 R2=0.2123 | \"B\": Acc=0.6220 Prec=0.3870 Rec=0.5409 F1=0.4512 AUROC=0.6286\n"
     ]
    },
    {
     "data": {
      "application/vnd.jupyter.widget-view+json": {
       "model_id": "260a70acfbbe49b4b5da3aec3bac8d4b",
       "version_major": 2,
       "version_minor": 0
      },
      "text/plain": [
       "Epoch 10:   0%|          | 0/60 [00:00<?, ?batch/s]"
      ]
     },
     "metadata": {},
     "output_type": "display_data"
    },
    {
     "name": "stdout",
     "output_type": "stream",
     "text": [
      "Epoch 010\n",
      "TRAIN→ \"R\": RMSE=0.2563 MAE=0.1959 R2=0.2216 | \"B\": Acc=0.5630 Prec=0.3375 Rec=0.6019 F1=0.4325 AUROC=0.6011\n",
      "VALID→ \"R\": RMSE=0.2540 MAE=0.1810 R2=0.2165 | \"B\": Acc=0.6223 Prec=0.3888 Rec=0.5499 F1=0.4555 AUROC=0.6390\n"
     ]
    },
    {
     "data": {
      "application/vnd.jupyter.widget-view+json": {
       "model_id": "42d85fe6bc9e44399648b8bdb4f47f09",
       "version_major": 2,
       "version_minor": 0
      },
      "text/plain": [
       "Epoch 11:   0%|          | 0/60 [00:00<?, ?batch/s]"
      ]
     },
     "metadata": {},
     "output_type": "display_data"
    },
    {
     "name": "stdout",
     "output_type": "stream",
     "text": [
      "Epoch 011\n",
      "TRAIN→ \"R\": RMSE=0.2555 MAE=0.1953 R2=0.2261 | \"B\": Acc=0.5719 Prec=0.3410 Rec=0.5872 F1=0.4315 AUROC=0.6027\n",
      "VALID→ \"R\": RMSE=0.2517 MAE=0.1819 R2=0.2312 | \"B\": Acc=0.6178 Prec=0.3868 Rec=0.5644 F1=0.4590 AUROC=0.6395\n"
     ]
    },
    {
     "data": {
      "application/vnd.jupyter.widget-view+json": {
       "model_id": "2b6af5ace3894b7b944fce62cd57e41d",
       "version_major": 2,
       "version_minor": 0
      },
      "text/plain": [
       "Epoch 12:   0%|          | 0/60 [00:00<?, ?batch/s]"
      ]
     },
     "metadata": {},
     "output_type": "display_data"
    },
    {
     "name": "stdout",
     "output_type": "stream",
     "text": [
      "Epoch 012\n",
      "TRAIN→ \"R\": RMSE=0.2551 MAE=0.1953 R2=0.2290 | \"B\": Acc=0.5669 Prec=0.3399 Rec=0.6004 F1=0.4341 AUROC=0.6038\n",
      "VALID→ \"R\": RMSE=0.2513 MAE=0.1817 R2=0.2334 | \"B\": Acc=0.6127 Prec=0.3864 Rec=0.5916 F1=0.4675 AUROC=0.6473\n"
     ]
    },
    {
     "data": {
      "application/vnd.jupyter.widget-view+json": {
       "model_id": "c8b8b409a61e4f0d916bc5ed498a46df",
       "version_major": 2,
       "version_minor": 0
      },
      "text/plain": [
       "Epoch 13:   0%|          | 0/60 [00:00<?, ?batch/s]"
      ]
     },
     "metadata": {},
     "output_type": "display_data"
    },
    {
     "name": "stdout",
     "output_type": "stream",
     "text": [
      "Epoch 013\n",
      "TRAIN→ \"R\": RMSE=0.2544 MAE=0.1945 R2=0.2329 | \"B\": Acc=0.5687 Prec=0.3403 Rec=0.5956 F1=0.4332 AUROC=0.6040\n",
      "VALID→ \"R\": RMSE=0.2504 MAE=0.1820 R2=0.2388 | \"B\": Acc=0.6107 Prec=0.3855 Rec=0.5978 F1=0.4688 AUROC=0.6488\n"
     ]
    },
    {
     "data": {
      "application/vnd.jupyter.widget-view+json": {
       "model_id": "ba5f4f8c1e64477fa652fbb63ffdb45b",
       "version_major": 2,
       "version_minor": 0
      },
      "text/plain": [
       "Epoch 14:   0%|          | 0/60 [00:00<?, ?batch/s]"
      ]
     },
     "metadata": {},
     "output_type": "display_data"
    },
    {
     "name": "stdout",
     "output_type": "stream",
     "text": [
      "Epoch 014\n",
      "TRAIN→ \"R\": RMSE=0.2540 MAE=0.1943 R2=0.2354 | \"B\": Acc=0.5699 Prec=0.3414 Rec=0.5973 F1=0.4345 AUROC=0.6055\n",
      "VALID→ \"R\": RMSE=0.2494 MAE=0.1829 R2=0.2451 | \"B\": Acc=0.6070 Prec=0.3848 Rec=0.6146 F1=0.4733 AUROC=0.6505\n"
     ]
    },
    {
     "data": {
      "application/vnd.jupyter.widget-view+json": {
       "model_id": "319369114d464371981b21b331983732",
       "version_major": 2,
       "version_minor": 0
      },
      "text/plain": [
       "Epoch 15:   0%|          | 0/60 [00:00<?, ?batch/s]"
      ]
     },
     "metadata": {},
     "output_type": "display_data"
    },
    {
     "name": "stdout",
     "output_type": "stream",
     "text": [
      "Epoch 015\n",
      "TRAIN→ \"R\": RMSE=0.2537 MAE=0.1942 R2=0.2372 | \"B\": Acc=0.5653 Prec=0.3400 Rec=0.6070 F1=0.4358 AUROC=0.6046\n",
      "VALID→ \"R\": RMSE=0.2490 MAE=0.1829 R2=0.2474 | \"B\": Acc=0.6011 Prec=0.3835 Rec=0.6395 F1=0.4795 AUROC=0.6535\n"
     ]
    },
    {
     "data": {
      "application/vnd.jupyter.widget-view+json": {
       "model_id": "3929d85a45c94588909972f6a8728902",
       "version_major": 2,
       "version_minor": 0
      },
      "text/plain": [
       "Epoch 16:   0%|          | 0/60 [00:00<?, ?batch/s]"
      ]
     },
     "metadata": {},
     "output_type": "display_data"
    },
    {
     "name": "stdout",
     "output_type": "stream",
     "text": [
      "Epoch 016\n",
      "TRAIN→ \"R\": RMSE=0.2532 MAE=0.1937 R2=0.2399 | \"B\": Acc=0.5740 Prec=0.3425 Rec=0.5872 F1=0.4327 AUROC=0.6048\n",
      "VALID→ \"R\": RMSE=0.2486 MAE=0.1829 R2=0.2495 | \"B\": Acc=0.6090 Prec=0.3865 Rec=0.6146 F1=0.4746 AUROC=0.6511\n"
     ]
    },
    {
     "data": {
      "application/vnd.jupyter.widget-view+json": {
       "model_id": "c84805d30ba847f7b4282527408b0599",
       "version_major": 2,
       "version_minor": 0
      },
      "text/plain": [
       "Epoch 17:   0%|          | 0/60 [00:00<?, ?batch/s]"
      ]
     },
     "metadata": {},
     "output_type": "display_data"
    },
    {
     "name": "stdout",
     "output_type": "stream",
     "text": [
      "Epoch 017\n",
      "TRAIN→ \"R\": RMSE=0.2529 MAE=0.1933 R2=0.2418 | \"B\": Acc=0.5808 Prec=0.3436 Rec=0.5661 F1=0.4276 AUROC=0.6030\n",
      "VALID→ \"R\": RMSE=0.2485 MAE=0.1824 R2=0.2501 | \"B\": Acc=0.6159 Prec=0.3894 Rec=0.5932 F1=0.4702 AUROC=0.6499\n"
     ]
    },
    {
     "data": {
      "application/vnd.jupyter.widget-view+json": {
       "model_id": "74713e9bfb244865a3e8f18179ea248c",
       "version_major": 2,
       "version_minor": 0
      },
      "text/plain": [
       "Epoch 18:   0%|          | 0/60 [00:00<?, ?batch/s]"
      ]
     },
     "metadata": {},
     "output_type": "display_data"
    },
    {
     "name": "stdout",
     "output_type": "stream",
     "text": [
      "Epoch 018\n",
      "TRAIN→ \"R\": RMSE=0.2526 MAE=0.1932 R2=0.2438 | \"B\": Acc=0.5889 Prec=0.3454 Rec=0.5429 F1=0.4222 AUROC=0.6018\n",
      "VALID→ \"R\": RMSE=0.2479 MAE=0.1830 R2=0.2539 | \"B\": Acc=0.6212 Prec=0.3911 Rec=0.5717 F1=0.4644 AUROC=0.6487\n"
     ]
    },
    {
     "data": {
      "application/vnd.jupyter.widget-view+json": {
       "model_id": "b8d8f1e28568446eabbcc70624caaa8c",
       "version_major": 2,
       "version_minor": 0
      },
      "text/plain": [
       "Epoch 19:   0%|          | 0/60 [00:00<?, ?batch/s]"
      ]
     },
     "metadata": {},
     "output_type": "display_data"
    },
    {
     "name": "stdout",
     "output_type": "stream",
     "text": [
      "Epoch 019\n",
      "TRAIN→ \"R\": RMSE=0.2522 MAE=0.1928 R2=0.2459 | \"B\": Acc=0.5995 Prec=0.3472 Rec=0.5086 F1=0.4126 AUROC=0.6002\n",
      "VALID→ \"R\": RMSE=0.2477 MAE=0.1826 R2=0.2549 | \"B\": Acc=0.6260 Prec=0.3910 Rec=0.5409 F1=0.4539 AUROC=0.6429\n"
     ]
    },
    {
     "data": {
      "application/vnd.jupyter.widget-view+json": {
       "model_id": "1ecdde6e632d4e5ead01410a468f419a",
       "version_major": 2,
       "version_minor": 0
      },
      "text/plain": [
       "Epoch 20:   0%|          | 0/60 [00:00<?, ?batch/s]"
      ]
     },
     "metadata": {},
     "output_type": "display_data"
    },
    {
     "name": "stdout",
     "output_type": "stream",
     "text": [
      "Epoch 020\n",
      "TRAIN→ \"R\": RMSE=0.2520 MAE=0.1928 R2=0.2471 | \"B\": Acc=0.6037 Prec=0.3464 Rec=0.4878 F1=0.4051 AUROC=0.5974\n",
      "VALID→ \"R\": RMSE=0.2472 MAE=0.1831 R2=0.2580 | \"B\": Acc=0.6302 Prec=0.3926 Rec=0.5244 F1=0.4490 AUROC=0.6435\n"
     ]
    },
    {
     "data": {
      "application/vnd.jupyter.widget-view+json": {
       "model_id": "2f2c543f213c4ab1a282b1f22bf45930",
       "version_major": 2,
       "version_minor": 0
      },
      "text/plain": [
       "Epoch 21:   0%|          | 0/60 [00:00<?, ?batch/s]"
      ]
     },
     "metadata": {},
     "output_type": "display_data"
    },
    {
     "name": "stdout",
     "output_type": "stream",
     "text": [
      "Epoch 021\n",
      "TRAIN→ \"R\": RMSE=0.2517 MAE=0.1924 R2=0.2492 | \"B\": Acc=0.6077 Prec=0.3462 Rec=0.4702 F1=0.3988 AUROC=0.5954\n",
      "VALID→ \"R\": RMSE=0.2469 MAE=0.1832 R2=0.2602 | \"B\": Acc=0.6354 Prec=0.3925 Rec=0.4911 F1=0.4363 AUROC=0.6398\n"
     ]
    },
    {
     "data": {
      "application/vnd.jupyter.widget-view+json": {
       "model_id": "2667c620cfbe46998b2c37473eba3039",
       "version_major": 2,
       "version_minor": 0
      },
      "text/plain": [
       "Epoch 22:   0%|          | 0/60 [00:00<?, ?batch/s]"
      ]
     },
     "metadata": {},
     "output_type": "display_data"
    },
    {
     "name": "stdout",
     "output_type": "stream",
     "text": [
      "Epoch 022\n",
      "TRAIN→ \"R\": RMSE=0.2514 MAE=0.1922 R2=0.2508 | \"B\": Acc=0.6137 Prec=0.3470 Rec=0.4497 F1=0.3917 AUROC=0.5950\n",
      "VALID→ \"R\": RMSE=0.2466 MAE=0.1832 R2=0.2616 | \"B\": Acc=0.6377 Prec=0.3922 Rec=0.4748 F1=0.4296 AUROC=0.6379\n"
     ]
    },
    {
     "data": {
      "application/vnd.jupyter.widget-view+json": {
       "model_id": "a94c682fd4a540c38d35e49ffee486ab",
       "version_major": 2,
       "version_minor": 0
      },
      "text/plain": [
       "Epoch 23:   0%|          | 0/60 [00:00<?, ?batch/s]"
      ]
     },
     "metadata": {},
     "output_type": "display_data"
    },
    {
     "name": "stdout",
     "output_type": "stream",
     "text": [
      "Epoch 023\n",
      "TRAIN→ \"R\": RMSE=0.2512 MAE=0.1920 R2=0.2521 | \"B\": Acc=0.6176 Prec=0.3479 Rec=0.4376 F1=0.3876 AUROC=0.5943\n",
      "VALID→ \"R\": RMSE=0.2465 MAE=0.1829 R2=0.2624 | \"B\": Acc=0.6437 Prec=0.3929 Rec=0.4403 F1=0.4152 AUROC=0.6378\n"
     ]
    },
    {
     "data": {
      "application/vnd.jupyter.widget-view+json": {
       "model_id": "9782fd817e59485e8585180bf5e35f6f",
       "version_major": 2,
       "version_minor": 0
      },
      "text/plain": [
       "Epoch 24:   0%|          | 0/60 [00:00<?, ?batch/s]"
      ]
     },
     "metadata": {},
     "output_type": "display_data"
    },
    {
     "name": "stdout",
     "output_type": "stream",
     "text": [
      "Epoch 024\n",
      "TRAIN→ \"R\": RMSE=0.2510 MAE=0.1919 R2=0.2531 | \"B\": Acc=0.6240 Prec=0.3490 Rec=0.4150 F1=0.3791 AUROC=0.5946\n",
      "VALID→ \"R\": RMSE=0.2460 MAE=0.1837 R2=0.2653 | \"B\": Acc=0.6469 Prec=0.3930 Rec=0.4203 F1=0.4062 AUROC=0.6370\n"
     ]
    },
    {
     "data": {
      "application/vnd.jupyter.widget-view+json": {
       "model_id": "6b7830eaa05b45a9afefdefdf247466a",
       "version_major": 2,
       "version_minor": 0
      },
      "text/plain": [
       "Epoch 25:   0%|          | 0/60 [00:00<?, ?batch/s]"
      ]
     },
     "metadata": {},
     "output_type": "display_data"
    },
    {
     "name": "stdout",
     "output_type": "stream",
     "text": [
      "Epoch 025\n",
      "TRAIN→ \"R\": RMSE=0.2508 MAE=0.1917 R2=0.2544 | \"B\": Acc=0.6323 Prec=0.3522 Rec=0.3922 F1=0.3711 AUROC=0.5960\n",
      "VALID→ \"R\": RMSE=0.2459 MAE=0.1834 R2=0.2658 | \"B\": Acc=0.6499 Prec=0.3932 Rec=0.4023 F1=0.3977 AUROC=0.6370\n"
     ]
    },
    {
     "data": {
      "application/vnd.jupyter.widget-view+json": {
       "model_id": "3f14aed2d53c42a59e2c22bedf6e8767",
       "version_major": 2,
       "version_minor": 0
      },
      "text/plain": [
       "Epoch 26:   0%|          | 0/60 [00:00<?, ?batch/s]"
      ]
     },
     "metadata": {},
     "output_type": "display_data"
    },
    {
     "name": "stdout",
     "output_type": "stream",
     "text": [
      "Epoch 026\n",
      "TRAIN→ \"R\": RMSE=0.2507 MAE=0.1916 R2=0.2553 | \"B\": Acc=0.6320 Prec=0.3507 Rec=0.3879 F1=0.3684 AUROC=0.5952\n",
      "VALID→ \"R\": RMSE=0.2457 MAE=0.1837 R2=0.2674 | \"B\": Acc=0.6499 Prec=0.3925 Rec=0.3988 F1=0.3956 AUROC=0.6362\n"
     ]
    },
    {
     "data": {
      "application/vnd.jupyter.widget-view+json": {
       "model_id": "bad8ff867f0d43ebbc6cec308444e32f",
       "version_major": 2,
       "version_minor": 0
      },
      "text/plain": [
       "Epoch 27:   0%|          | 0/60 [00:00<?, ?batch/s]"
      ]
     },
     "metadata": {},
     "output_type": "display_data"
    },
    {
     "name": "stdout",
     "output_type": "stream",
     "text": [
      "Epoch 027\n",
      "TRAIN→ \"R\": RMSE=0.2504 MAE=0.1914 R2=0.2567 | \"B\": Acc=0.6342 Prec=0.3523 Rec=0.3843 F1=0.3676 AUROC=0.5967\n",
      "VALID→ \"R\": RMSE=0.2457 MAE=0.1830 R2=0.2672 | \"B\": Acc=0.6559 Prec=0.3952 Rec=0.3729 F1=0.3837 AUROC=0.6399\n"
     ]
    },
    {
     "data": {
      "application/vnd.jupyter.widget-view+json": {
       "model_id": "f4a1f94a8ec0442391d49d7e31a68b69",
       "version_major": 2,
       "version_minor": 0
      },
      "text/plain": [
       "Epoch 28:   0%|          | 0/60 [00:00<?, ?batch/s]"
      ]
     },
     "metadata": {},
     "output_type": "display_data"
    },
    {
     "name": "stdout",
     "output_type": "stream",
     "text": [
      "Epoch 028\n",
      "TRAIN→ \"R\": RMSE=0.2504 MAE=0.1914 R2=0.2570 | \"B\": Acc=0.6405 Prec=0.3559 Rec=0.3701 F1=0.3629 AUROC=0.5988\n",
      "VALID→ \"R\": RMSE=0.2454 MAE=0.1833 R2=0.2687 | \"B\": Acc=0.6586 Prec=0.3964 Rec=0.3607 F1=0.3777 AUROC=0.6420\n"
     ]
    },
    {
     "data": {
      "application/vnd.jupyter.widget-view+json": {
       "model_id": "3aa0662daf0a46c4b64275582f66431c",
       "version_major": 2,
       "version_minor": 0
      },
      "text/plain": [
       "Epoch 29:   0%|          | 0/60 [00:00<?, ?batch/s]"
      ]
     },
     "metadata": {},
     "output_type": "display_data"
    },
    {
     "name": "stdout",
     "output_type": "stream",
     "text": [
      "Epoch 029\n",
      "TRAIN→ \"R\": RMSE=0.2501 MAE=0.1912 R2=0.2585 | \"B\": Acc=0.6432 Prec=0.3568 Rec=0.3610 F1=0.3589 AUROC=0.5994\n",
      "VALID→ \"R\": RMSE=0.2453 MAE=0.1834 R2=0.2695 | \"B\": Acc=0.6587 Prec=0.3960 Rec=0.3583 F1=0.3762 AUROC=0.6419\n"
     ]
    },
    {
     "data": {
      "application/vnd.jupyter.widget-view+json": {
       "model_id": "5ad2ce8589e54ed6a885b22aac953625",
       "version_major": 2,
       "version_minor": 0
      },
      "text/plain": [
       "Epoch 30:   0%|          | 0/60 [00:00<?, ?batch/s]"
      ]
     },
     "metadata": {},
     "output_type": "display_data"
    },
    {
     "name": "stdout",
     "output_type": "stream",
     "text": [
      "Epoch 030\n",
      "TRAIN→ \"R\": RMSE=0.2500 MAE=0.1911 R2=0.2590 | \"B\": Acc=0.6435 Prec=0.3580 Rec=0.3640 F1=0.3609 AUROC=0.5989\n",
      "VALID→ \"R\": RMSE=0.2453 MAE=0.1833 R2=0.2697 | \"B\": Acc=0.6602 Prec=0.3967 Rec=0.3509 F1=0.3724 AUROC=0.6437\n"
     ]
    },
    {
     "data": {
      "application/vnd.jupyter.widget-view+json": {
       "model_id": "87455b83a4474c958ebc7bf9cbd4cbdd",
       "version_major": 2,
       "version_minor": 0
      },
      "text/plain": [
       "Epoch 31:   0%|          | 0/60 [00:00<?, ?batch/s]"
      ]
     },
     "metadata": {},
     "output_type": "display_data"
    },
    {
     "name": "stdout",
     "output_type": "stream",
     "text": [
      "Epoch 031\n",
      "TRAIN→ \"R\": RMSE=0.2499 MAE=0.1911 R2=0.2597 | \"B\": Acc=0.6485 Prec=0.3606 Rec=0.3501 F1=0.3553 AUROC=0.6018\n",
      "VALID→ \"R\": RMSE=0.2452 MAE=0.1833 R2=0.2703 | \"B\": Acc=0.6629 Prec=0.3963 Rec=0.3309 F1=0.3607 AUROC=0.6449\n"
     ]
    },
    {
     "data": {
      "application/vnd.jupyter.widget-view+json": {
       "model_id": "f351e95c3d69426db6a08076b26f7c36",
       "version_major": 2,
       "version_minor": 0
      },
      "text/plain": [
       "Epoch 32:   0%|          | 0/60 [00:00<?, ?batch/s]"
      ]
     },
     "metadata": {},
     "output_type": "display_data"
    },
    {
     "name": "stdout",
     "output_type": "stream",
     "text": [
      "Epoch 032\n",
      "TRAIN→ \"R\": RMSE=0.2498 MAE=0.1911 R2=0.2606 | \"B\": Acc=0.6520 Prec=0.3624 Rec=0.3397 F1=0.3507 AUROC=0.6027\n",
      "VALID→ \"R\": RMSE=0.2452 MAE=0.1828 R2=0.2699 | \"B\": Acc=0.6644 Prec=0.3974 Rec=0.3258 F1=0.3580 AUROC=0.6474\n"
     ]
    },
    {
     "data": {
      "application/vnd.jupyter.widget-view+json": {
       "model_id": "926cb539d8f64ef88221f96ef6e00fd2",
       "version_major": 2,
       "version_minor": 0
      },
      "text/plain": [
       "Epoch 33:   0%|          | 0/60 [00:00<?, ?batch/s]"
      ]
     },
     "metadata": {},
     "output_type": "display_data"
    },
    {
     "name": "stdout",
     "output_type": "stream",
     "text": [
      "Epoch 033\n",
      "TRAIN→ \"R\": RMSE=0.2497 MAE=0.1910 R2=0.2610 | \"B\": Acc=0.6525 Prec=0.3636 Rec=0.3417 F1=0.3523 AUROC=0.6035\n",
      "VALID→ \"R\": RMSE=0.2452 MAE=0.1828 R2=0.2704 | \"B\": Acc=0.6659 Prec=0.3977 Rec=0.3169 F1=0.3527 AUROC=0.6492\n"
     ]
    },
    {
     "data": {
      "application/vnd.jupyter.widget-view+json": {
       "model_id": "a096000540e246628f8198c582b4de89",
       "version_major": 2,
       "version_minor": 0
      },
      "text/plain": [
       "Epoch 34:   0%|          | 0/60 [00:00<?, ?batch/s]"
      ]
     },
     "metadata": {},
     "output_type": "display_data"
    },
    {
     "name": "stdout",
     "output_type": "stream",
     "text": [
      "Epoch 034\n",
      "TRAIN→ \"R\": RMSE=0.2495 MAE=0.1909 R2=0.2619 | \"B\": Acc=0.6586 Prec=0.3685 Rec=0.3283 F1=0.3473 AUROC=0.6073\n",
      "VALID→ \"R\": RMSE=0.2450 MAE=0.1829 R2=0.2711 | \"B\": Acc=0.6672 Prec=0.4000 Rec=0.3167 F1=0.3535 AUROC=0.6535\n"
     ]
    },
    {
     "data": {
      "application/vnd.jupyter.widget-view+json": {
       "model_id": "6039906a5b4e4287ab34c1333bba22fe",
       "version_major": 2,
       "version_minor": 0
      },
      "text/plain": [
       "Epoch 35:   0%|          | 0/60 [00:00<?, ?batch/s]"
      ]
     },
     "metadata": {},
     "output_type": "display_data"
    },
    {
     "name": "stdout",
     "output_type": "stream",
     "text": [
      "Epoch 035\n",
      "TRAIN→ \"R\": RMSE=0.2494 MAE=0.1908 R2=0.2627 | \"B\": Acc=0.6612 Prec=0.3718 Rec=0.3259 F1=0.3474 AUROC=0.6092\n",
      "VALID→ \"R\": RMSE=0.2450 MAE=0.1827 R2=0.2711 | \"B\": Acc=0.6679 Prec=0.3990 Rec=0.3080 F1=0.3476 AUROC=0.6529\n"
     ]
    },
    {
     "data": {
      "application/vnd.jupyter.widget-view+json": {
       "model_id": "4fdf565c4747438aadb4893886549e33",
       "version_major": 2,
       "version_minor": 0
      },
      "text/plain": [
       "Epoch 36:   0%|          | 0/60 [00:00<?, ?batch/s]"
      ]
     },
     "metadata": {},
     "output_type": "display_data"
    },
    {
     "name": "stdout",
     "output_type": "stream",
     "text": [
      "Epoch 036\n",
      "TRAIN→ \"R\": RMSE=0.2493 MAE=0.1907 R2=0.2631 | \"B\": Acc=0.6612 Prec=0.3707 Rec=0.3220 F1=0.3446 AUROC=0.6081\n",
      "VALID→ \"R\": RMSE=0.2451 MAE=0.1824 R2=0.2709 | \"B\": Acc=0.6693 Prec=0.4002 Rec=0.3026 F1=0.3446 AUROC=0.6549\n"
     ]
    },
    {
     "data": {
      "application/vnd.jupyter.widget-view+json": {
       "model_id": "5478a87e65e2499d866f8e5d78e6c429",
       "version_major": 2,
       "version_minor": 0
      },
      "text/plain": [
       "Epoch 37:   0%|          | 0/60 [00:00<?, ?batch/s]"
      ]
     },
     "metadata": {},
     "output_type": "display_data"
    },
    {
     "name": "stdout",
     "output_type": "stream",
     "text": [
      "Epoch 037\n",
      "TRAIN→ \"R\": RMSE=0.2493 MAE=0.1906 R2=0.2637 | \"B\": Acc=0.6638 Prec=0.3742 Rec=0.3200 F1=0.3450 AUROC=0.6108\n",
      "VALID→ \"R\": RMSE=0.2450 MAE=0.1824 R2=0.2711 | \"B\": Acc=0.6703 Prec=0.4017 Rec=0.3015 F1=0.3445 AUROC=0.6571\n"
     ]
    },
    {
     "data": {
      "application/vnd.jupyter.widget-view+json": {
       "model_id": "cb02f57adfa74cee90d4b016bc630890",
       "version_major": 2,
       "version_minor": 0
      },
      "text/plain": [
       "Epoch 38:   0%|          | 0/60 [00:00<?, ?batch/s]"
      ]
     },
     "metadata": {},
     "output_type": "display_data"
    },
    {
     "name": "stdout",
     "output_type": "stream",
     "text": [
      "Epoch 038\n",
      "TRAIN→ \"R\": RMSE=0.2491 MAE=0.1905 R2=0.2645 | \"B\": Acc=0.6638 Prec=0.3747 Rec=0.3218 F1=0.3462 AUROC=0.6112\n",
      "VALID→ \"R\": RMSE=0.2451 MAE=0.1820 R2=0.2706 | \"B\": Acc=0.6719 Prec=0.4039 Rec=0.2983 F1=0.3432 AUROC=0.6596\n"
     ]
    },
    {
     "data": {
      "application/vnd.jupyter.widget-view+json": {
       "model_id": "43805289b6ab46159697348bd2b6b9ba",
       "version_major": 2,
       "version_minor": 0
      },
      "text/plain": [
       "Epoch 39:   0%|          | 0/60 [00:00<?, ?batch/s]"
      ]
     },
     "metadata": {},
     "output_type": "display_data"
    },
    {
     "name": "stdout",
     "output_type": "stream",
     "text": [
      "Epoch 039\n",
      "TRAIN→ \"R\": RMSE=0.2490 MAE=0.1903 R2=0.2652 | \"B\": Acc=0.6676 Prec=0.3798 Rec=0.3188 F1=0.3466 AUROC=0.6153\n",
      "VALID→ \"R\": RMSE=0.2451 MAE=0.1816 R2=0.2705 | \"B\": Acc=0.6738 Prec=0.4053 Rec=0.2896 F1=0.3378 AUROC=0.6608\n"
     ]
    },
    {
     "data": {
      "application/vnd.jupyter.widget-view+json": {
       "model_id": "6fc5b84072b64f96a0d28f380b1a68cb",
       "version_major": 2,
       "version_minor": 0
      },
      "text/plain": [
       "Epoch 40:   0%|          | 0/60 [00:00<?, ?batch/s]"
      ]
     },
     "metadata": {},
     "output_type": "display_data"
    },
    {
     "name": "stdout",
     "output_type": "stream",
     "text": [
      "Epoch 040\n",
      "TRAIN→ \"R\": RMSE=0.2488 MAE=0.1902 R2=0.2661 | \"B\": Acc=0.6690 Prec=0.3805 Rec=0.3126 F1=0.3432 AUROC=0.6155\n",
      "VALID→ \"R\": RMSE=0.2452 MAE=0.1815 R2=0.2702 | \"B\": Acc=0.6763 Prec=0.4102 Rec=0.2893 F1=0.3393 AUROC=0.6647\n"
     ]
    },
    {
     "data": {
      "application/vnd.jupyter.widget-view+json": {
       "model_id": "c61fa12af20346f8959ee8340f243d1c",
       "version_major": 2,
       "version_minor": 0
      },
      "text/plain": [
       "Epoch 41:   0%|          | 0/60 [00:00<?, ?batch/s]"
      ]
     },
     "metadata": {},
     "output_type": "display_data"
    },
    {
     "name": "stdout",
     "output_type": "stream",
     "text": [
      "Epoch 041\n",
      "TRAIN→ \"R\": RMSE=0.2486 MAE=0.1896 R2=0.2673 | \"B\": Acc=0.6737 Prec=0.3868 Rec=0.3070 F1=0.3423 AUROC=0.6204\n",
      "VALID→ \"R\": RMSE=0.2451 MAE=0.1814 R2=0.2705 | \"B\": Acc=0.6760 Prec=0.4104 Rec=0.2927 F1=0.3417 AUROC=0.6658\n"
     ]
    },
    {
     "data": {
      "application/vnd.jupyter.widget-view+json": {
       "model_id": "7b077118321d4e458d450a34fa685360",
       "version_major": 2,
       "version_minor": 0
      },
      "text/plain": [
       "Epoch 42:   0%|          | 0/60 [00:00<?, ?batch/s]"
      ]
     },
     "metadata": {},
     "output_type": "display_data"
    },
    {
     "name": "stdout",
     "output_type": "stream",
     "text": [
      "Epoch 042\n",
      "TRAIN→ \"R\": RMSE=0.2485 MAE=0.1896 R2=0.2679 | \"B\": Acc=0.6744 Prec=0.3875 Rec=0.3047 F1=0.3411 AUROC=0.6205\n",
      "VALID→ \"R\": RMSE=0.2450 MAE=0.1817 R2=0.2715 | \"B\": Acc=0.6749 Prec=0.4089 Rec=0.2954 F1=0.3430 AUROC=0.6648\n"
     ]
    },
    {
     "data": {
      "application/vnd.jupyter.widget-view+json": {
       "model_id": "fed0552c2fef4ba7bb9b98f504772216",
       "version_major": 2,
       "version_minor": 0
      },
      "text/plain": [
       "Epoch 43:   0%|          | 0/60 [00:00<?, ?batch/s]"
      ]
     },
     "metadata": {},
     "output_type": "display_data"
    },
    {
     "name": "stdout",
     "output_type": "stream",
     "text": [
      "Epoch 043\n",
      "TRAIN→ \"R\": RMSE=0.2484 MAE=0.1894 R2=0.2685 | \"B\": Acc=0.6739 Prec=0.3871 Rec=0.3065 F1=0.3421 AUROC=0.6205\n",
      "VALID→ \"R\": RMSE=0.2450 MAE=0.1816 R2=0.2713 | \"B\": Acc=0.6765 Prec=0.4126 Rec=0.2974 F1=0.3457 AUROC=0.6663\n"
     ]
    },
    {
     "data": {
      "application/vnd.jupyter.widget-view+json": {
       "model_id": "a719909a54c448a7ad4ffa753d534d6e",
       "version_major": 2,
       "version_minor": 0
      },
      "text/plain": [
       "Epoch 44:   0%|          | 0/60 [00:00<?, ?batch/s]"
      ]
     },
     "metadata": {},
     "output_type": "display_data"
    },
    {
     "name": "stdout",
     "output_type": "stream",
     "text": [
      "Epoch 044\n",
      "TRAIN→ \"R\": RMSE=0.2483 MAE=0.1894 R2=0.2691 | \"B\": Acc=0.6755 Prec=0.3886 Rec=0.3022 F1=0.3400 AUROC=0.6208\n",
      "VALID→ \"R\": RMSE=0.2450 MAE=0.1815 R2=0.2715 | \"B\": Acc=0.6780 Prec=0.4142 Rec=0.2918 F1=0.3424 AUROC=0.6669\n"
     ]
    },
    {
     "data": {
      "application/vnd.jupyter.widget-view+json": {
       "model_id": "035d31149ef941f296722ef9db2f45b4",
       "version_major": 2,
       "version_minor": 0
      },
      "text/plain": [
       "Epoch 45:   0%|          | 0/60 [00:00<?, ?batch/s]"
      ]
     },
     "metadata": {},
     "output_type": "display_data"
    },
    {
     "name": "stdout",
     "output_type": "stream",
     "text": [
      "Epoch 045\n",
      "TRAIN→ \"R\": RMSE=0.2482 MAE=0.1893 R2=0.2696 | \"B\": Acc=0.6769 Prec=0.3920 Rec=0.3047 F1=0.3429 AUROC=0.6242\n",
      "VALID→ \"R\": RMSE=0.2449 MAE=0.1817 R2=0.2720 | \"B\": Acc=0.6799 Prec=0.4177 Rec=0.2897 F1=0.3421 AUROC=0.6678\n"
     ]
    },
    {
     "data": {
      "application/vnd.jupyter.widget-view+json": {
       "model_id": "ebec3784570b45e0b7de5e392396a790",
       "version_major": 2,
       "version_minor": 0
      },
      "text/plain": [
       "Epoch 46:   0%|          | 0/60 [00:00<?, ?batch/s]"
      ]
     },
     "metadata": {},
     "output_type": "display_data"
    },
    {
     "name": "stdout",
     "output_type": "stream",
     "text": [
      "Epoch 046\n",
      "TRAIN→ \"R\": RMSE=0.2482 MAE=0.1893 R2=0.2700 | \"B\": Acc=0.6796 Prec=0.3946 Rec=0.2960 F1=0.3383 AUROC=0.6248\n",
      "VALID→ \"R\": RMSE=0.2449 MAE=0.1817 R2=0.2718 | \"B\": Acc=0.6842 Prec=0.4248 Rec=0.2798 F1=0.3374 AUROC=0.6694\n"
     ]
    },
    {
     "data": {
      "application/vnd.jupyter.widget-view+json": {
       "model_id": "63aa76c0478a4fe3ae8c7e23631a7688",
       "version_major": 2,
       "version_minor": 0
      },
      "text/plain": [
       "Epoch 47:   0%|          | 0/60 [00:00<?, ?batch/s]"
      ]
     },
     "metadata": {},
     "output_type": "display_data"
    },
    {
     "name": "stdout",
     "output_type": "stream",
     "text": [
      "Epoch 047\n",
      "TRAIN→ \"R\": RMSE=0.2481 MAE=0.1891 R2=0.2705 | \"B\": Acc=0.6824 Prec=0.3985 Rec=0.2906 F1=0.3361 AUROC=0.6275\n",
      "VALID→ \"R\": RMSE=0.2448 MAE=0.1820 R2=0.2724 | \"B\": Acc=0.6860 Prec=0.4274 Rec=0.2739 F1=0.3338 AUROC=0.6706\n"
     ]
    },
    {
     "data": {
      "application/vnd.jupyter.widget-view+json": {
       "model_id": "a876bd784858421698b94f1cc5982150",
       "version_major": 2,
       "version_minor": 0
      },
      "text/plain": [
       "Epoch 48:   0%|          | 0/60 [00:00<?, ?batch/s]"
      ]
     },
     "metadata": {},
     "output_type": "display_data"
    },
    {
     "name": "stdout",
     "output_type": "stream",
     "text": [
      "Epoch 048\n",
      "TRAIN→ \"R\": RMSE=0.2480 MAE=0.1891 R2=0.2708 | \"B\": Acc=0.6834 Prec=0.3988 Rec=0.2849 F1=0.3323 AUROC=0.6272\n",
      "VALID→ \"R\": RMSE=0.2449 MAE=0.1817 R2=0.2720 | \"B\": Acc=0.6867 Prec=0.4289 Rec=0.2729 F1=0.3336 AUROC=0.6701\n"
     ]
    },
    {
     "data": {
      "application/vnd.jupyter.widget-view+json": {
       "model_id": "870c80c110b64100a15d07fe7ea810e6",
       "version_major": 2,
       "version_minor": 0
      },
      "text/plain": [
       "Epoch 49:   0%|          | 0/60 [00:00<?, ?batch/s]"
      ]
     },
     "metadata": {},
     "output_type": "display_data"
    },
    {
     "name": "stdout",
     "output_type": "stream",
     "text": [
      "Epoch 049\n",
      "TRAIN→ \"R\": RMSE=0.2480 MAE=0.1890 R2=0.2712 | \"B\": Acc=0.6846 Prec=0.4019 Rec=0.2869 F1=0.3348 AUROC=0.6287\n",
      "VALID→ \"R\": RMSE=0.2448 MAE=0.1819 R2=0.2725 | \"B\": Acc=0.6903 Prec=0.4353 Rec=0.2617 F1=0.3269 AUROC=0.6700\n"
     ]
    },
    {
     "data": {
      "application/vnd.jupyter.widget-view+json": {
       "model_id": "f6a63df7d7644273ad0228ada9c25eb1",
       "version_major": 2,
       "version_minor": 0
      },
      "text/plain": [
       "Epoch 50:   0%|          | 0/60 [00:00<?, ?batch/s]"
      ]
     },
     "metadata": {},
     "output_type": "display_data"
    },
    {
     "name": "stdout",
     "output_type": "stream",
     "text": [
      "Epoch 050\n",
      "TRAIN→ \"R\": RMSE=0.2478 MAE=0.1889 R2=0.2721 | \"B\": Acc=0.6864 Prec=0.4021 Rec=0.2744 F1=0.3262 AUROC=0.6276\n",
      "VALID→ \"R\": RMSE=0.2448 MAE=0.1818 R2=0.2724 | \"B\": Acc=0.6896 Prec=0.4331 Rec=0.2599 F1=0.3248 AUROC=0.6679\n"
     ]
    },
    {
     "data": {
      "application/vnd.jupyter.widget-view+json": {
       "model_id": "8cd8aaf8e1ec4f74b3010de9a0feec72",
       "version_major": 2,
       "version_minor": 0
      },
      "text/plain": [
       "Epoch 51:   0%|          | 0/60 [00:00<?, ?batch/s]"
      ]
     },
     "metadata": {},
     "output_type": "display_data"
    },
    {
     "name": "stdout",
     "output_type": "stream",
     "text": [
      "Epoch 051\n",
      "TRAIN→ \"R\": RMSE=0.2478 MAE=0.1890 R2=0.2720 | \"B\": Acc=0.6890 Prec=0.4063 Rec=0.2695 F1=0.3241 AUROC=0.6288\n",
      "VALID→ \"R\": RMSE=0.2448 MAE=0.1819 R2=0.2726 | \"B\": Acc=0.6936 Prec=0.4417 Rec=0.2519 F1=0.3208 AUROC=0.6675\n"
     ]
    },
    {
     "data": {
      "application/vnd.jupyter.widget-view+json": {
       "model_id": "b4a57e366ef3470ab381fd1505c8bbda",
       "version_major": 2,
       "version_minor": 0
      },
      "text/plain": [
       "Epoch 52:   0%|          | 0/60 [00:00<?, ?batch/s]"
      ]
     },
     "metadata": {},
     "output_type": "display_data"
    },
    {
     "name": "stdout",
     "output_type": "stream",
     "text": [
      "Epoch 052\n",
      "TRAIN→ \"R\": RMSE=0.2477 MAE=0.1888 R2=0.2726 | \"B\": Acc=0.6880 Prec=0.4042 Rec=0.2698 F1=0.3236 AUROC=0.6273\n",
      "VALID→ \"R\": RMSE=0.2448 MAE=0.1821 R2=0.2728 | \"B\": Acc=0.6936 Prec=0.4421 Rec=0.2539 F1=0.3226 AUROC=0.6677\n"
     ]
    },
    {
     "data": {
      "application/vnd.jupyter.widget-view+json": {
       "model_id": "924a961724544137a79a458306bdc148",
       "version_major": 2,
       "version_minor": 0
      },
      "text/plain": [
       "Epoch 53:   0%|          | 0/60 [00:00<?, ?batch/s]"
      ]
     },
     "metadata": {},
     "output_type": "display_data"
    },
    {
     "name": "stdout",
     "output_type": "stream",
     "text": [
      "Epoch 053\n",
      "TRAIN→ \"R\": RMSE=0.2477 MAE=0.1888 R2=0.2729 | \"B\": Acc=0.6881 Prec=0.4050 Rec=0.2714 F1=0.3250 AUROC=0.6274\n",
      "VALID→ \"R\": RMSE=0.2449 MAE=0.1818 R2=0.2721 | \"B\": Acc=0.6942 Prec=0.4439 Rec=0.2552 F1=0.3241 AUROC=0.6675\n"
     ]
    },
    {
     "data": {
      "application/vnd.jupyter.widget-view+json": {
       "model_id": "1c6be11ca0534d7c8701ee7cebf2739d",
       "version_major": 2,
       "version_minor": 0
      },
      "text/plain": [
       "Epoch 54:   0%|          | 0/60 [00:00<?, ?batch/s]"
      ]
     },
     "metadata": {},
     "output_type": "display_data"
    },
    {
     "name": "stdout",
     "output_type": "stream",
     "text": [
      "Epoch 054\n",
      "TRAIN→ \"R\": RMSE=0.2477 MAE=0.1889 R2=0.2729 | \"B\": Acc=0.6878 Prec=0.4057 Rec=0.2763 F1=0.3287 AUROC=0.6282\n",
      "VALID→ \"R\": RMSE=0.2449 MAE=0.1817 R2=0.2719 | \"B\": Acc=0.6952 Prec=0.4463 Rec=0.2537 F1=0.3235 AUROC=0.6673\n"
     ]
    },
    {
     "data": {
      "application/vnd.jupyter.widget-view+json": {
       "model_id": "1e61fe8f65074a0dadc7f136c4c6cf65",
       "version_major": 2,
       "version_minor": 0
      },
      "text/plain": [
       "Epoch 55:   0%|          | 0/60 [00:00<?, ?batch/s]"
      ]
     },
     "metadata": {},
     "output_type": "display_data"
    }
   ],
   "source": [
    "# How many unique trading days does each epoch see?\n",
    "n_days = len(train_loader.dataset)\n",
    "print(f\"Training sees {n_days} unique trading days per epoch.\\n\")\n",
    "\n",
    "print('Using HyperParameters:\\n \"look_back\":', params.look_back_tick, params.hparams)\n",
    "\n",
    "# -----------------------------------------------------------------------------\n",
    "# Run the custom stateful training loop\n",
    "# -----------------------------------------------------------------------------\n",
    "best_val_rmse  = dual_lstm.lstm_training_loop(\n",
    "    model               = model,\n",
    "    optimizer           = optimizer,\n",
    "    cosine_sched        = cosine_sched,\n",
    "    plateau_sched       = plateau_sched,\n",
    "    scaler              = scaler,\n",
    "    train_loader        = train_loader,\n",
    "    val_loader          = val_loader,\n",
    "    max_epochs          = params.hparams['MAX_EPOCHS'],\n",
    "    early_stop_patience = params.hparams['EARLY_STOP_PATIENCE'],\n",
    "    clipnorm            = clipnorm,\n",
    "    device              = params.device\n",
    ")\n"
   ]
  },
  {
   "cell_type": "code",
   "execution_count": null,
   "id": "22b25c89-05c3-4a16-b013-97143f173e08",
   "metadata": {},
   "outputs": [],
   "source": [
    "# -----------------------------------------------------------------------------\n",
    "# Final reporting: best RMSE and relative improvement\n",
    "# -----------------------------------------------------------------------------\n",
    "print(f\"\\nChampion validation RMSE = {best_val_rmse:.6f}\")\n",
    "\n",
    "improvement_zero = 100.0 * (1.0 - best_val_rmse / rmse_zero_val)\n",
    "print(f\"Improvement over zero‐baseline = {improvement_zero:5.1f}%\")\n",
    "\n",
    "improvement_mean = 100.0 * (1.0 - best_val_rmse / rmse_mean_val)\n",
    "print(f\"Improvement over mean‐baseline = {improvement_mean:5.1f}%\")\n"
   ]
  },
  {
   "cell_type": "code",
   "execution_count": null,
   "id": "5935ccf4-d4ec-44de-827b-b520c8e76561",
   "metadata": {},
   "outputs": [],
   "source": []
  }
 ],
 "metadata": {
  "kernelspec": {
   "display_name": "Python 3 (ipykernel)",
   "language": "python",
   "name": "python3"
  },
  "language_info": {
   "codemirror_mode": {
    "name": "ipython",
    "version": 3
   },
   "file_extension": ".py",
   "mimetype": "text/x-python",
   "name": "python",
   "nbconvert_exporter": "python",
   "pygments_lexer": "ipython3",
   "version": "3.12.3"
  }
 },
 "nbformat": 4,
 "nbformat_minor": 5
}
