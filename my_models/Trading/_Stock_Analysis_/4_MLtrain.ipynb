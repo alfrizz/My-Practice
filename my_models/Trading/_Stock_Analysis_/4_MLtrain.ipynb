{
 "cells": [
  {
   "cell_type": "code",
   "execution_count": 1,
   "id": "fed6c184-8438-497e-8ae7-82cc35ac4819",
   "metadata": {},
   "outputs": [
    {
     "data": {
      "text/plain": [
       "<module 'libs.models.dual_lstm' from '/workspace/my_models/Trading/_Stock_Analysis_/libs/models/dual_lstm.py'>"
      ]
     },
     "execution_count": 1,
     "metadata": {},
     "output_type": "execute_result"
    }
   ],
   "source": [
    "%matplotlib inline\n",
    "\n",
    "\n",
    "# 1) Wipe out your namespace\n",
    "%reset -f\n",
    "\n",
    "# 2) Clear Jupyter’s stored outputs (and inputs if you like)\n",
    "try:\n",
    "    Out.clear()\n",
    "except NameError:\n",
    "    pass\n",
    "\n",
    "try:\n",
    "    In.clear()\n",
    "except NameError:\n",
    "    pass\n",
    "\n",
    "# 3) Force Python GC\n",
    "import gc\n",
    "gc.collect()\n",
    "\n",
    "# 4) Free any GPU buffers\n",
    "import torch\n",
    "if torch.cuda.is_available():\n",
    "    torch.cuda.empty_cache()\n",
    "\n",
    "\n",
    "import importlib\n",
    "from libs import params, trades, feats, plots, models_core\n",
    "from libs.models import dual_lstm\n",
    "importlib.reload(params)\n",
    "importlib.reload(trades)\n",
    "importlib.reload(feats)\n",
    "importlib.reload(plots)\n",
    "importlib.reload(models_core)\n",
    "importlib.reload(dual_lstm)"
   ]
  },
  {
   "cell_type": "code",
   "execution_count": 2,
   "id": "4c868158-e6bb-4d56-bbdd-8e8103f0b9e4",
   "metadata": {},
   "outputs": [],
   "source": [
    "import pandas as pd\n",
    "pd.set_option('display.max_columns', None)\n",
    "\n",
    "import numpy  as np\n",
    "import math\n",
    "import matplotlib.pyplot as plt\n",
    "\n",
    "import datetime as dt\n",
    "import os\n",
    "from typing import Sequence, List, Tuple, Optional, Union\n",
    "\n",
    "import torch.nn as nn\n",
    "import torch.nn.functional as Funct\n",
    "from torch_lr_finder import LRFinder\n",
    "from torch.utils.data import DataLoader, TensorDataset\n",
    "\n",
    "from tqdm import tqdm"
   ]
  },
  {
   "cell_type": "code",
   "execution_count": 3,
   "id": "7b98406a",
   "metadata": {},
   "outputs": [
    {
     "data": {
      "text/html": [
       "<div>\n",
       "<style scoped>\n",
       "    .dataframe tbody tr th:only-of-type {\n",
       "        vertical-align: middle;\n",
       "    }\n",
       "\n",
       "    .dataframe tbody tr th {\n",
       "        vertical-align: top;\n",
       "    }\n",
       "\n",
       "    .dataframe thead th {\n",
       "        text-align: right;\n",
       "    }\n",
       "</style>\n",
       "<table border=\"1\" class=\"dataframe\">\n",
       "  <thead>\n",
       "    <tr style=\"text-align: right;\">\n",
       "      <th></th>\n",
       "      <th>sma_pct_14</th>\n",
       "      <th>atr_pct_14</th>\n",
       "      <th>rsi_14</th>\n",
       "      <th>bb_w_20</th>\n",
       "      <th>plus_di_14</th>\n",
       "      <th>range_pct</th>\n",
       "      <th>eng_ma</th>\n",
       "      <th>minus_di_14</th>\n",
       "      <th>macd_diff_12_26_9</th>\n",
       "      <th>ret</th>\n",
       "      <th>eng_macd</th>\n",
       "      <th>macd_line_12_26_9</th>\n",
       "      <th>obv_diff_14</th>\n",
       "      <th>eng_atr_div</th>\n",
       "      <th>eng_adx</th>\n",
       "      <th>hour</th>\n",
       "      <th>adx_14</th>\n",
       "      <th>close_raw</th>\n",
       "      <th>signal</th>\n",
       "    </tr>\n",
       "  </thead>\n",
       "  <tbody>\n",
       "    <tr>\n",
       "      <th>2004-01-02 09:33:00</th>\n",
       "      <td>0.499798</td>\n",
       "      <td>0.000000</td>\n",
       "      <td>1.000000</td>\n",
       "      <td>0.000000</td>\n",
       "      <td>0.000000</td>\n",
       "      <td>0.000000</td>\n",
       "      <td>0.516453</td>\n",
       "      <td>0.000000</td>\n",
       "      <td>0.506696</td>\n",
       "      <td>0.499891</td>\n",
       "      <td>0.624765</td>\n",
       "      <td>0.489532</td>\n",
       "      <td>0.488177</td>\n",
       "      <td>0.353456</td>\n",
       "      <td>0.519392</td>\n",
       "      <td>1.002425</td>\n",
       "      <td>0.000000</td>\n",
       "      <td>0.764286</td>\n",
       "      <td>1.301415e-09</td>\n",
       "    </tr>\n",
       "    <tr>\n",
       "      <th>2004-01-02 09:34:00</th>\n",
       "      <td>0.499798</td>\n",
       "      <td>0.000000</td>\n",
       "      <td>1.000000</td>\n",
       "      <td>0.000000</td>\n",
       "      <td>0.000000</td>\n",
       "      <td>0.000000</td>\n",
       "      <td>0.516453</td>\n",
       "      <td>0.000000</td>\n",
       "      <td>0.506696</td>\n",
       "      <td>0.499891</td>\n",
       "      <td>0.624765</td>\n",
       "      <td>0.489532</td>\n",
       "      <td>0.488177</td>\n",
       "      <td>0.353456</td>\n",
       "      <td>0.519392</td>\n",
       "      <td>1.002425</td>\n",
       "      <td>0.000000</td>\n",
       "      <td>0.764286</td>\n",
       "      <td>1.405474e-09</td>\n",
       "    </tr>\n",
       "    <tr>\n",
       "      <th>2004-01-02 09:35:00</th>\n",
       "      <td>0.499798</td>\n",
       "      <td>0.000000</td>\n",
       "      <td>1.000000</td>\n",
       "      <td>0.000000</td>\n",
       "      <td>0.000000</td>\n",
       "      <td>0.000000</td>\n",
       "      <td>0.516453</td>\n",
       "      <td>0.000000</td>\n",
       "      <td>0.506696</td>\n",
       "      <td>0.499891</td>\n",
       "      <td>0.624765</td>\n",
       "      <td>0.489532</td>\n",
       "      <td>0.488177</td>\n",
       "      <td>0.353456</td>\n",
       "      <td>0.519392</td>\n",
       "      <td>1.002425</td>\n",
       "      <td>0.000000</td>\n",
       "      <td>0.764286</td>\n",
       "      <td>1.517855e-09</td>\n",
       "    </tr>\n",
       "    <tr>\n",
       "      <th>2004-01-02 09:36:00</th>\n",
       "      <td>0.499798</td>\n",
       "      <td>0.000000</td>\n",
       "      <td>1.000000</td>\n",
       "      <td>0.000000</td>\n",
       "      <td>0.000000</td>\n",
       "      <td>0.000000</td>\n",
       "      <td>0.516453</td>\n",
       "      <td>0.000000</td>\n",
       "      <td>0.506696</td>\n",
       "      <td>0.499891</td>\n",
       "      <td>0.624765</td>\n",
       "      <td>0.489532</td>\n",
       "      <td>0.488177</td>\n",
       "      <td>0.353456</td>\n",
       "      <td>0.519392</td>\n",
       "      <td>1.002425</td>\n",
       "      <td>0.000000</td>\n",
       "      <td>0.764286</td>\n",
       "      <td>1.639221e-09</td>\n",
       "    </tr>\n",
       "    <tr>\n",
       "      <th>2004-01-02 09:37:00</th>\n",
       "      <td>0.499798</td>\n",
       "      <td>0.000000</td>\n",
       "      <td>1.000000</td>\n",
       "      <td>0.000000</td>\n",
       "      <td>0.000000</td>\n",
       "      <td>0.000000</td>\n",
       "      <td>0.516453</td>\n",
       "      <td>0.000000</td>\n",
       "      <td>0.506696</td>\n",
       "      <td>0.499891</td>\n",
       "      <td>0.624765</td>\n",
       "      <td>0.489532</td>\n",
       "      <td>0.488177</td>\n",
       "      <td>0.353456</td>\n",
       "      <td>0.519392</td>\n",
       "      <td>1.002425</td>\n",
       "      <td>0.000000</td>\n",
       "      <td>0.764286</td>\n",
       "      <td>1.770291e-09</td>\n",
       "    </tr>\n",
       "    <tr>\n",
       "      <th>...</th>\n",
       "      <td>...</td>\n",
       "      <td>...</td>\n",
       "      <td>...</td>\n",
       "      <td>...</td>\n",
       "      <td>...</td>\n",
       "      <td>...</td>\n",
       "      <td>...</td>\n",
       "      <td>...</td>\n",
       "      <td>...</td>\n",
       "      <td>...</td>\n",
       "      <td>...</td>\n",
       "      <td>...</td>\n",
       "      <td>...</td>\n",
       "      <td>...</td>\n",
       "      <td>...</td>\n",
       "      <td>...</td>\n",
       "      <td>...</td>\n",
       "      <td>...</td>\n",
       "      <td>...</td>\n",
       "    </tr>\n",
       "    <tr>\n",
       "      <th>2025-06-18 20:56:00</th>\n",
       "      <td>0.751690</td>\n",
       "      <td>0.323886</td>\n",
       "      <td>0.672166</td>\n",
       "      <td>0.273759</td>\n",
       "      <td>0.363125</td>\n",
       "      <td>0.254109</td>\n",
       "      <td>0.532431</td>\n",
       "      <td>0.074852</td>\n",
       "      <td>0.888941</td>\n",
       "      <td>0.642346</td>\n",
       "      <td>0.634772</td>\n",
       "      <td>0.971125</td>\n",
       "      <td>1.000000</td>\n",
       "      <td>0.664288</td>\n",
       "      <td>0.537709</td>\n",
       "      <td>-0.975989</td>\n",
       "      <td>0.301944</td>\n",
       "      <td>196.815000</td>\n",
       "      <td>6.849078e-01</td>\n",
       "    </tr>\n",
       "    <tr>\n",
       "      <th>2025-06-18 20:57:00</th>\n",
       "      <td>0.650094</td>\n",
       "      <td>0.336016</td>\n",
       "      <td>0.616686</td>\n",
       "      <td>0.290460</td>\n",
       "      <td>0.347207</td>\n",
       "      <td>0.420131</td>\n",
       "      <td>0.532016</td>\n",
       "      <td>0.067044</td>\n",
       "      <td>0.840741</td>\n",
       "      <td>0.340442</td>\n",
       "      <td>0.633511</td>\n",
       "      <td>0.981544</td>\n",
       "      <td>0.000000</td>\n",
       "      <td>0.676887</td>\n",
       "      <td>0.541855</td>\n",
       "      <td>-0.975989</td>\n",
       "      <td>0.328685</td>\n",
       "      <td>196.675000</td>\n",
       "      <td>6.122057e-01</td>\n",
       "    </tr>\n",
       "    <tr>\n",
       "      <th>2025-06-18 20:58:00</th>\n",
       "      <td>0.631153</td>\n",
       "      <td>0.322169</td>\n",
       "      <td>0.614734</td>\n",
       "      <td>0.304199</td>\n",
       "      <td>0.336272</td>\n",
       "      <td>0.121620</td>\n",
       "      <td>0.531618</td>\n",
       "      <td>0.064933</td>\n",
       "      <td>0.777896</td>\n",
       "      <td>0.494192</td>\n",
       "      <td>0.631866</td>\n",
       "      <td>0.983006</td>\n",
       "      <td>0.000000</td>\n",
       "      <td>0.584662</td>\n",
       "      <td>0.545337</td>\n",
       "      <td>-0.975989</td>\n",
       "      <td>0.353515</td>\n",
       "      <td>196.670000</td>\n",
       "      <td>6.104678e-01</td>\n",
       "    </tr>\n",
       "    <tr>\n",
       "      <th>2025-06-18 20:59:00</th>\n",
       "      <td>0.375519</td>\n",
       "      <td>0.346959</td>\n",
       "      <td>0.475401</td>\n",
       "      <td>0.305249</td>\n",
       "      <td>0.290578</td>\n",
       "      <td>0.565110</td>\n",
       "      <td>0.531157</td>\n",
       "      <td>0.160021</td>\n",
       "      <td>0.456523</td>\n",
       "      <td>0.009795</td>\n",
       "      <td>0.623450</td>\n",
       "      <td>0.884486</td>\n",
       "      <td>0.000000</td>\n",
       "      <td>0.645760</td>\n",
       "      <td>0.531521</td>\n",
       "      <td>-0.975989</td>\n",
       "      <td>0.348960</td>\n",
       "      <td>196.240000</td>\n",
       "      <td>4.770902e-01</td>\n",
       "    </tr>\n",
       "    <tr>\n",
       "      <th>2025-06-18 21:00:00</th>\n",
       "      <td>0.535073</td>\n",
       "      <td>0.374297</td>\n",
       "      <td>0.551738</td>\n",
       "      <td>0.303059</td>\n",
       "      <td>0.249733</td>\n",
       "      <td>0.630630</td>\n",
       "      <td>0.531913</td>\n",
       "      <td>0.176984</td>\n",
       "      <td>0.422962</td>\n",
       "      <td>0.842567</td>\n",
       "      <td>0.622570</td>\n",
       "      <td>0.868408</td>\n",
       "      <td>1.000000</td>\n",
       "      <td>0.708780</td>\n",
       "      <td>0.525575</td>\n",
       "      <td>-0.993518</td>\n",
       "      <td>0.336212</td>\n",
       "      <td>196.540000</td>\n",
       "      <td>3.509684e-01</td>\n",
       "    </tr>\n",
       "  </tbody>\n",
       "</table>\n",
       "<p>3715200 rows × 19 columns</p>\n",
       "</div>"
      ],
      "text/plain": [
       "                     sma_pct_14  atr_pct_14    rsi_14   bb_w_20  plus_di_14  \\\n",
       "2004-01-02 09:33:00    0.499798    0.000000  1.000000  0.000000    0.000000   \n",
       "2004-01-02 09:34:00    0.499798    0.000000  1.000000  0.000000    0.000000   \n",
       "2004-01-02 09:35:00    0.499798    0.000000  1.000000  0.000000    0.000000   \n",
       "2004-01-02 09:36:00    0.499798    0.000000  1.000000  0.000000    0.000000   \n",
       "2004-01-02 09:37:00    0.499798    0.000000  1.000000  0.000000    0.000000   \n",
       "...                         ...         ...       ...       ...         ...   \n",
       "2025-06-18 20:56:00    0.751690    0.323886  0.672166  0.273759    0.363125   \n",
       "2025-06-18 20:57:00    0.650094    0.336016  0.616686  0.290460    0.347207   \n",
       "2025-06-18 20:58:00    0.631153    0.322169  0.614734  0.304199    0.336272   \n",
       "2025-06-18 20:59:00    0.375519    0.346959  0.475401  0.305249    0.290578   \n",
       "2025-06-18 21:00:00    0.535073    0.374297  0.551738  0.303059    0.249733   \n",
       "\n",
       "                     range_pct    eng_ma  minus_di_14  macd_diff_12_26_9  \\\n",
       "2004-01-02 09:33:00   0.000000  0.516453     0.000000           0.506696   \n",
       "2004-01-02 09:34:00   0.000000  0.516453     0.000000           0.506696   \n",
       "2004-01-02 09:35:00   0.000000  0.516453     0.000000           0.506696   \n",
       "2004-01-02 09:36:00   0.000000  0.516453     0.000000           0.506696   \n",
       "2004-01-02 09:37:00   0.000000  0.516453     0.000000           0.506696   \n",
       "...                        ...       ...          ...                ...   \n",
       "2025-06-18 20:56:00   0.254109  0.532431     0.074852           0.888941   \n",
       "2025-06-18 20:57:00   0.420131  0.532016     0.067044           0.840741   \n",
       "2025-06-18 20:58:00   0.121620  0.531618     0.064933           0.777896   \n",
       "2025-06-18 20:59:00   0.565110  0.531157     0.160021           0.456523   \n",
       "2025-06-18 21:00:00   0.630630  0.531913     0.176984           0.422962   \n",
       "\n",
       "                          ret  eng_macd  macd_line_12_26_9  obv_diff_14  \\\n",
       "2004-01-02 09:33:00  0.499891  0.624765           0.489532     0.488177   \n",
       "2004-01-02 09:34:00  0.499891  0.624765           0.489532     0.488177   \n",
       "2004-01-02 09:35:00  0.499891  0.624765           0.489532     0.488177   \n",
       "2004-01-02 09:36:00  0.499891  0.624765           0.489532     0.488177   \n",
       "2004-01-02 09:37:00  0.499891  0.624765           0.489532     0.488177   \n",
       "...                       ...       ...                ...          ...   \n",
       "2025-06-18 20:56:00  0.642346  0.634772           0.971125     1.000000   \n",
       "2025-06-18 20:57:00  0.340442  0.633511           0.981544     0.000000   \n",
       "2025-06-18 20:58:00  0.494192  0.631866           0.983006     0.000000   \n",
       "2025-06-18 20:59:00  0.009795  0.623450           0.884486     0.000000   \n",
       "2025-06-18 21:00:00  0.842567  0.622570           0.868408     1.000000   \n",
       "\n",
       "                     eng_atr_div   eng_adx      hour    adx_14   close_raw  \\\n",
       "2004-01-02 09:33:00     0.353456  0.519392  1.002425  0.000000    0.764286   \n",
       "2004-01-02 09:34:00     0.353456  0.519392  1.002425  0.000000    0.764286   \n",
       "2004-01-02 09:35:00     0.353456  0.519392  1.002425  0.000000    0.764286   \n",
       "2004-01-02 09:36:00     0.353456  0.519392  1.002425  0.000000    0.764286   \n",
       "2004-01-02 09:37:00     0.353456  0.519392  1.002425  0.000000    0.764286   \n",
       "...                          ...       ...       ...       ...         ...   \n",
       "2025-06-18 20:56:00     0.664288  0.537709 -0.975989  0.301944  196.815000   \n",
       "2025-06-18 20:57:00     0.676887  0.541855 -0.975989  0.328685  196.675000   \n",
       "2025-06-18 20:58:00     0.584662  0.545337 -0.975989  0.353515  196.670000   \n",
       "2025-06-18 20:59:00     0.645760  0.531521 -0.975989  0.348960  196.240000   \n",
       "2025-06-18 21:00:00     0.708780  0.525575 -0.993518  0.336212  196.540000   \n",
       "\n",
       "                           signal  \n",
       "2004-01-02 09:33:00  1.301415e-09  \n",
       "2004-01-02 09:34:00  1.405474e-09  \n",
       "2004-01-02 09:35:00  1.517855e-09  \n",
       "2004-01-02 09:36:00  1.639221e-09  \n",
       "2004-01-02 09:37:00  1.770291e-09  \n",
       "...                           ...  \n",
       "2025-06-18 20:56:00  6.849078e-01  \n",
       "2025-06-18 20:57:00  6.122057e-01  \n",
       "2025-06-18 20:58:00  6.104678e-01  \n",
       "2025-06-18 20:59:00  4.770902e-01  \n",
       "2025-06-18 21:00:00  3.509684e-01  \n",
       "\n",
       "[3715200 rows x 19 columns]"
      ]
     },
     "execution_count": 3,
     "metadata": {},
     "output_type": "execute_result"
    }
   ],
   "source": [
    "df_feat_sel = pd.read_csv(params.feat_all_csv, index_col=0, parse_dates=True)[params.features_cols_tick + ['close_raw'] + [params.label_col]]\n",
    "    \n",
    "df_feat_sel"
   ]
  },
  {
   "cell_type": "code",
   "execution_count": 4,
   "id": "b805fa9c",
   "metadata": {},
   "outputs": [
    {
     "name": "stdout",
     "output_type": "stream",
     "text": [
      "Inside build_tensors, features: ['sma_pct_14', 'atr_pct_14', 'rsi_14', 'bb_w_20', 'plus_di_14', 'range_pct', 'eng_ma', 'minus_di_14', 'macd_diff_12_26_9', 'ret', 'eng_macd', 'macd_line_12_26_9', 'obv_diff_14', 'eng_atr_div', 'eng_adx', 'hour', 'adx_14']\n"
     ]
    },
    {
     "data": {
      "application/vnd.jupyter.widget-view+json": {
       "model_id": "16a2f4fa320f45b5983f765dbdec287e",
       "version_major": 2,
       "version_minor": 0
      },
      "text/plain": [
       "Preparing days:   0%|          | 0/5400 [00:00<?, ?it/s]"
      ]
     },
     "metadata": {},
     "output_type": "display_data"
    },
    {
     "data": {
      "application/vnd.jupyter.widget-view+json": {
       "model_id": "d93538317a7742169e5c8186b12c2dd3",
       "version_major": 2,
       "version_minor": 0
      },
      "text/plain": [
       "Writing days:   0%|          | 0/5400 [00:00<?, ?it/s]"
      ]
     },
     "metadata": {},
     "output_type": "display_data"
    },
    {
     "name": "stdout",
     "output_type": "stream",
     "text": [
      "Shapes:\n",
      "  X         = torch.Size([2435400, 60, 17]) (samples, look_back, features)\n",
      "  y_sig     = torch.Size([2435400]) (samples,)\n",
      "  y_ret     = torch.Size([2435400]) (samples,)\n",
      "  raw_close = torch.Size([2435400])\n",
      "  end_times = (2435400,)\n"
     ]
    }
   ],
   "source": [
    "# Build LSTM input tensors (disk-backed memmaps)\n",
    "X, y_sig, y_ret, raw_close, end_times = models_core.build_tensors(\n",
    "    df            = df_feat_sel,\n",
    "    sess_start    = params.sess_start_pred_tick \n",
    ")\n",
    "\n",
    "# quick shapes\n",
    "print(\"Shapes:\")\n",
    "print(\"  X         =\", X.shape,    \"(samples, look_back, features)\")\n",
    "print(\"  y_sig     =\", y_sig.shape, \"(samples,)\")\n",
    "print(\"  y_ret     =\", y_ret.shape, \"(samples,)\")\n",
    "print(\"  raw_close =\", raw_close.shape)\n",
    "print(\"  end_times =\", end_times.shape)\n"
   ]
  },
  {
   "cell_type": "code",
   "execution_count": 5,
   "id": "7b4f1ac4",
   "metadata": {},
   "outputs": [
    {
     "name": "stdout",
     "output_type": "stream",
     "text": [
      "Shapes:\n",
      "  X_tr  = torch.Size([1731840, 60, 17])\n",
      "  y_sig_tr, y_ret_tr = torch.Size([1731840]) torch.Size([1731840])\n",
      "  X_val = torch.Size([338701, 60, 17])\n",
      "  y_sig_val, y_ret_val = torch.Size([338701]) torch.Size([338701])\n",
      "  X_te  = torch.Size([364859, 60, 17])\n",
      "  y_sig_te, y_ret_te = torch.Size([364859]) torch.Size([364859])\n"
     ]
    }
   ],
   "source": [
    "# Split into train/val/test by calendar day\n",
    "(\n",
    "(X_tr,  y_sig_tr,  y_ret_tr),\n",
    "(X_val, y_sig_val, y_ret_val),\n",
    "(X_te,  y_sig_te,  y_ret_te,  raw_close_te),\n",
    "samples_per_day,\n",
    "day_id_tr, day_id_val, day_id_te\n",
    ") = models_core.chronological_split(\n",
    "    X, y_sig, y_ret, raw_close,\n",
    "    end_times   = end_times,\n",
    "    train_prop  = params.train_prop,\n",
    "    val_prop    = params.val_prop,\n",
    "    train_batch = params.hparams['TRAIN_BATCH']\n",
    ")\n",
    "\n",
    "# Print shapes of all tensors\n",
    "print(\"Shapes:\")\n",
    "print(\"  X_tr  =\", X_tr.shape)\n",
    "print(\"  y_sig_tr, y_ret_tr =\", y_sig_tr.shape, y_ret_tr.shape)\n",
    "print(\"  X_val =\", X_val.shape)\n",
    "print(\"  y_sig_val, y_ret_val =\", y_sig_val.shape, y_ret_val.shape)\n",
    "print(\"  X_te  =\", X_te.shape)\n",
    "print(\"  y_sig_te, y_ret_te =\", y_sig_te.shape, y_ret_te.shape)\n"
   ]
  },
  {
   "cell_type": "code",
   "execution_count": 6,
   "id": "1ad9b6c4-3d79-45c0-b2c0-c4f46f1ad866",
   "metadata": {},
   "outputs": [
    {
     "data": {
      "application/vnd.jupyter.widget-view+json": {
       "model_id": "40cff44857a748b99fc05c6589992472",
       "version_major": 2,
       "version_minor": 0
      },
      "text/plain": [
       "Creating DayWindowDatasets:   0%|          | 0/3 [00:00<?, ?split/s]"
      ]
     },
     "metadata": {},
     "output_type": "display_data"
    },
    {
     "name": "stdout",
     "output_type": "stream",
     "text": [
      "Days  → train=3840, val=751, test=809\n",
      "Batches → train=60,   val=751,   test=809\n"
     ]
    }
   ],
   "source": [
    "# carve `end_times` into the same three splits:\n",
    "n_tr  = day_id_tr .shape[0] \n",
    "n_val = day_id_val.shape[0]\n",
    "i_tr  = n_tr\n",
    "i_val = n_tr + n_val\n",
    "\n",
    "end_times_tr  = end_times[:i_tr]\n",
    "end_times_val = end_times[i_tr:i_val]\n",
    "end_times_te  = end_times[i_val:]\n",
    "\n",
    "# -----------------------------------------------------------------------------\n",
    "#  Build DataLoaders over calendar‐days\n",
    "# -----------------------------------------------------------------------------\n",
    "train_loader, val_loader, test_loader = models_core.split_to_day_datasets(\n",
    "    # train split:   \n",
    "    X_tr,       y_sig_tr,     y_ret_tr,   end_times_tr,\n",
    "    # val split:\n",
    "    X_val,      y_sig_val,    y_ret_val,  end_times_val,\n",
    "    # test split + raw‐prices\n",
    "    X_te,       y_sig_te,     y_ret_te,   end_times_te,     raw_close_te,\n",
    "    \n",
    "    sess_start_time       = params.sess_start_pred_tick,\n",
    "    signal_thresh         = params.best_optuna_params[\"buy_threshold\"],\n",
    "    return_thresh         = 0.01,  # flat‐zone threshold for returns (to tune)\n",
    "    train_batch           = params.hparams[\"TRAIN_BATCH\"],\n",
    "    train_workers         = params.hparams[\"NUM_WORKERS\"],\n",
    "    train_prefetch_factor = params.hparams[\"TRAIN_PREFETCH_FACTOR\"]\n",
    ")\n",
    "\n",
    "print(f\"Days  → train={len(train_loader.dataset)}, val={len(val_loader.dataset)}, test={len(test_loader.dataset)}\")\n",
    "print(f\"Batches → train={len(train_loader)},   val={len(val_loader)},   test={len(test_loader)}\")"
   ]
  },
  {
   "cell_type": "code",
   "execution_count": 7,
   "id": "eeec031f-6c8f-455f-9c72-ae411e03ba34",
   "metadata": {},
   "outputs": [
    {
     "data": {
      "text/plain": [
       "DualMemoryLSTM(\n",
       "  (conv): Conv1d(17, 17, kernel_size=(3,), stride=(1,), padding=(1,))\n",
       "  (bn): BatchNorm1d(17, eps=1e-05, momentum=0.1, affine=True, track_running_stats=True)\n",
       "  (short_lstm): LSTM(17, 48, batch_first=True, bidirectional=True)\n",
       "  (attn): MultiheadAttention(\n",
       "    (out_proj): NonDynamicallyQuantizableLinear(in_features=96, out_features=96, bias=True)\n",
       "  )\n",
       "  (ln_short): LayerNorm((96,), eps=1e-05, elementwise_affine=True)\n",
       "  (do_short): Dropout(p=0.25, inplace=False)\n",
       "  (long_lstm): LSTM(96, 64, batch_first=True, bidirectional=True)\n",
       "  (short2long): Linear(in_features=96, out_features=128, bias=True)\n",
       "  (ln_long): LayerNorm((128,), eps=1e-05, elementwise_affine=True)\n",
       "  (do_long): Dropout(p=0.3, inplace=False)\n",
       "  (pred): Linear(in_features=128, out_features=1, bias=True)\n",
       "  (cls_head): Linear(in_features=128, out_features=1, bias=True)\n",
       "  (cls_ter): Linear(in_features=128, out_features=3, bias=True)\n",
       ")"
      ]
     },
     "execution_count": 7,
     "metadata": {},
     "output_type": "execute_result"
    }
   ],
   "source": [
    "# -----------------------------------------------------------------------------\n",
    "# Instantiate the stateful DualMemoryLSTM & move to device\n",
    "# -----------------------------------------------------------------------------\n",
    "model = dual_lstm.DualMemoryLSTM(\n",
    "    n_feats        = X.shape[-1],                          \n",
    "    short_units    = params.hparams['SHORT_UNITS'],    \n",
    "    long_units     = params.hparams['LONG_UNITS'],     \n",
    "    dropout_short  = params.hparams['DROPOUT_SHORT'],  \n",
    "    dropout_long   = params.hparams['DROPOUT_LONG'],   \n",
    "    att_heads      = params.hparams['ATT_HEADS'],\n",
    "    att_drop       = params.hparams['ATT_DROPOUT'],\n",
    "    conv_k         = params.hparams['CONV_K'],\n",
    "    conv_dilation  = params.hparams['CONV_DILATION']\n",
    ")\n",
    "model.to(params.device)  \n",
    "\n",
    "model"
   ]
  },
  {
   "cell_type": "code",
   "execution_count": 8,
   "id": "5512a0dd-d2c8-418e-bfca-4580fb4be995",
   "metadata": {},
   "outputs": [
    {
     "data": {
      "text/plain": [
       "AdamW (\n",
       "Parameter Group 0\n",
       "    amsgrad: False\n",
       "    betas: (0.9, 0.999)\n",
       "    capturable: False\n",
       "    decoupled_weight_decay: True\n",
       "    differentiable: False\n",
       "    eps: 1e-08\n",
       "    foreach: None\n",
       "    fused: None\n",
       "    initial_lr: 0.0001\n",
       "    lr: 0.0001\n",
       "    maximize: False\n",
       "    weight_decay: 0.001\n",
       ")"
      ]
     },
     "execution_count": 8,
     "metadata": {},
     "output_type": "execute_result"
    }
   ],
   "source": [
    "# -----------------------------------------------------------------------------\n",
    "# Build optimizer, LR scheduler, AMP scaler, and gradient‐clip norm\n",
    "# -----------------------------------------------------------------------------\n",
    "optimizer, plateau_sched, cosine_sched, scaler, clipnorm = models_core.make_optimizer_and_scheduler(\n",
    "    model,\n",
    "    initial_lr        = params.hparams['INITIAL_LR'],       \n",
    "    weight_decay      = params.hparams['WEIGHT_DECAY'],     \n",
    "    clipnorm          = params.hparams['CLIPNORM']   \n",
    ")\n",
    "\n",
    "optimizer"
   ]
  },
  {
   "cell_type": "code",
   "execution_count": 9,
   "id": "e9c5fc27-f31d-4adc-a247-5468674f83fc",
   "metadata": {},
   "outputs": [
    {
     "name": "stdout",
     "output_type": "stream",
     "text": [
      "Zero‐forecast RMSE (predict 0): train = 0.405952,  val = 0.409382\n",
      "\n",
      "Train target stats:\n",
      "  mean = 0.2836,  var = 0.0844,  std = 0.2905\n",
      "Train mean‐predictor baseline:\n",
      "  RMSE_baseline = 0.290471\n",
      "  R²_baseline   = 0.00\n",
      "\n",
      "Validation target stats:\n",
      "  mean = 0.2919,  var = 0.0824,  std = 0.2870\n",
      "Validation mean‐predictor baseline:\n",
      "  RMSE_baseline = 0.287012\n",
      "  R²_baseline   = 0.00\n",
      "\n"
     ]
    }
   ],
   "source": [
    "# -----------------------------------------------------------------------------\n",
    "# Helper: extract the true “signal” values from any loader into a flat array\n",
    "# -----------------------------------------------------------------------------\n",
    "def extract_y(loader):\n",
    "    return np.concatenate([batch[1].cpu().numpy().ravel() for batch in loader])\n",
    "\n",
    "# Pull out train & validation targets\n",
    "y_train = extract_y(train_loader)\n",
    "y_val   = extract_y(val_loader)\n",
    "\n",
    "# -----------------------------------------------------------------------------\n",
    "# 1) Zero‐forecast baseline RMSE (predict 0 always)\n",
    "#    RMSE_zero = √(mean(y²))\n",
    "# -----------------------------------------------------------------------------\n",
    "rmse_zero_train = np.sqrt(np.mean(y_train**2))\n",
    "rmse_zero_val   = np.sqrt(np.mean(y_val**2))\n",
    "print(f\"Zero‐forecast RMSE (predict 0): train = {rmse_zero_train:.6f},  val = {rmse_zero_val:.6f}\\n\")\n",
    "\n",
    "# -----------------------------------------------------------------------------\n",
    "# 2) Compute mean, variance & std for train/validation targets\n",
    "#    and derive the mean‐predictor baseline (R² = 0)\n",
    "# -----------------------------------------------------------------------------\n",
    "for split, y in [(\"Train\", y_train), (\"Validation\", y_val)]:\n",
    "    mean_y    = y.mean()\n",
    "    std_y     = y.std(ddof=0)     # population std = √variance\n",
    "    var_y     = std_y**2\n",
    "    rmse_mean = std_y            # RMSE_baseline = std(target)\n",
    "\n",
    "    print(f\"{split} target stats:\")\n",
    "    print(f\"  mean = {mean_y:.4f},  var = {var_y:.4f},  std = {std_y:.4f}\")\n",
    "    print(f\"{split} mean‐predictor baseline:\")\n",
    "    print(f\"  RMSE_baseline = {rmse_mean:.6f}\")\n",
    "    print(\"  R²_baseline   = 0.00\\n\")\n",
    "\n",
    "    if split == \"Validation\":\n",
    "        rmse_mean_val = rmse_mean # used afterwards for the final reporting\n",
    "        \n"
   ]
  },
  {
   "cell_type": "code",
   "execution_count": 10,
   "id": "a8f7ec8c-5882-486b-bdfd-371b8db260f9",
   "metadata": {},
   "outputs": [
    {
     "data": {
      "image/png": "[encoded data removed]",
      "text/plain": [
       "<Figure size 640x480 with 1 Axes>"
      ]
     },
     "metadata": {},
     "output_type": "display_data"
    }
   ],
   "source": [
    "# Visualize the true‐signal distributions on train vs. validation\n",
    "plt.hist(y_train, bins=100, alpha=0.5, label=\"train true\")\n",
    "plt.hist(y_val,   bins=100, alpha=0.5, label=\"val true\")\n",
    "plt.xlabel(\"Signal value\")\n",
    "plt.ylabel(\"Count\")\n",
    "plt.title(\"True Signal Distribution: Train vs. Validation\")\n",
    "plt.legend()\n",
    "plt.tight_layout()\n",
    "plt.show()\n"
   ]
  },
  {
   "cell_type": "code",
   "execution_count": 11,
   "id": "7bf94780-a876-4bf4-ad27-6abc2da1fc0a",
   "metadata": {},
   "outputs": [
    {
     "name": "stdout",
     "output_type": "stream",
     "text": [
      "Training sees 3840 unique trading days per epoch.\n",
      "\n",
      "Using HyperParameters:\n",
      " \"look_back\": 60 {'SHORT_UNITS': 96, 'LONG_UNITS': 128, 'DROPOUT_SHORT': 0.25, 'DROPOUT_LONG': 0.3, 'ATT_HEADS': 6, 'ATT_DROPOUT': 0.2, 'WEIGHT_DECAY': 0.001, 'CONV_K': 3, 'CONV_DILATION': 1, 'TRAIN_BATCH': 64, 'VAL_BATCH': 1, 'NUM_WORKERS': 12, 'TRAIN_PREFETCH_FACTOR': 4, 'MAX_EPOCHS': 100, 'EARLY_STOP_PATIENCE': 7, 'LR_EPOCHS_WARMUP': 3, 'INITIAL_LR': 0.0001, 'CLIPNORM': 0.5, 'ETA_MIN': 1e-06, 'T_0': 100, 'T_MULT': 1, 'HUBER_BETA': 0.1, 'CLS_LOSS_WEIGHT': 0.05, 'PLATEAU_FACTOR': 0.9, 'PLATEAU_PATIENCE': 0, 'MIN_LR': 1e-06, 'PLAT_EPOCHS_WARMUP': 999}\n"
     ]
    },
    {
     "data": {
      "image/png": "[encoded data removed]",
      "text/plain": [
       "<Figure size 660x440 with 1 Axes>"
      ]
     },
     "metadata": {},
     "output_type": "display_data"
    },
    {
     "data": {
      "application/vnd.jupyter.widget-view+json": {
       "model_id": "cddc749ad7124906979623139a9b4d8a",
       "version_major": 2,
       "version_minor": 0
      },
      "text/plain": [
       "Epoch 1:   0%|          | 0/60 [00:00<?, ?batch/s]"
      ]
     },
     "metadata": {},
     "output_type": "display_data"
    },
    {
     "name": "stdout",
     "output_type": "stream",
     "text": [
      "Epoch 001\n",
      "TRAIN→ RMSE=0.2890 MAE=0.2222 R2=0.0103 | Acc=0.7117 Prec=0.3955 Rec=0.0795 F1=0.1324 AUROC=0.5878\n",
      "VALID→ RMSE=0.2657 MAE=0.1849 R2=0.1427 | Acc=0.7125 Prec=0.0656 Rec=0.0000 F1=0.0001 AUROC=0.7266\n"
     ]
    },
    {
     "data": {
      "application/vnd.jupyter.widget-view+json": {
       "model_id": "d4b4750d9ad347a8a154b7b8ce3cfff5",
       "version_major": 2,
       "version_minor": 0
      },
      "text/plain": [
       "Epoch 2:   0%|          | 0/60 [00:00<?, ?batch/s]"
      ]
     },
     "metadata": {},
     "output_type": "display_data"
    },
    {
     "name": "stdout",
     "output_type": "stream",
     "text": [
      "Epoch 002\n",
      "TRAIN→ RMSE=0.2757 MAE=0.2107 R2=0.0990 | Acc=0.7130 Prec=0.4590 Rec=0.2092 F1=0.2874 AUROC=0.6276\n",
      "VALID→ RMSE=0.2586 MAE=0.1842 R2=0.1885 | Acc=0.7308 Prec=0.7827 Rec=0.0870 F1=0.1565 AUROC=0.7423\n"
     ]
    },
    {
     "data": {
      "application/vnd.jupyter.widget-view+json": {
       "model_id": "5d0b7624c6d74e1c93c6e64e9649359b",
       "version_major": 2,
       "version_minor": 0
      },
      "text/plain": [
       "Epoch 3:   0%|          | 0/60 [00:00<?, ?batch/s]"
      ]
     },
     "metadata": {},
     "output_type": "display_data"
    },
    {
     "name": "stdout",
     "output_type": "stream",
     "text": [
      "Epoch 003\n",
      "TRAIN→ RMSE=0.2676 MAE=0.2048 R2=0.1510 | Acc=0.7314 Prec=0.5308 Rec=0.2496 F1=0.3396 AUROC=0.6660\n",
      "VALID→ RMSE=0.2552 MAE=0.1846 R2=0.2097 | Acc=0.7445 Prec=0.7224 Rec=0.1795 F1=0.2876 AUROC=0.7457\n"
     ]
    },
    {
     "data": {
      "application/vnd.jupyter.widget-view+json": {
       "model_id": "572b821c465440f48f784cb253900ebd",
       "version_major": 2,
       "version_minor": 0
      },
      "text/plain": [
       "Epoch 4:   0%|          | 0/60 [00:00<?, ?batch/s]"
      ]
     },
     "metadata": {},
     "output_type": "display_data"
    },
    {
     "ename": "KeyboardInterrupt",
     "evalue": "",
     "output_type": "error",
     "traceback": [
      "\u001b[0;31m---------------------------------------------------------------------------\u001b[0m",
      "\u001b[0;31mKeyboardInterrupt\u001b[0m                         Traceback (most recent call last)",
      "Cell \u001b[0;32mIn[11], line 12\u001b[0m\n\u001b[1;32m      7\u001b[0m \u001b[38;5;28mprint\u001b[39m(\u001b[38;5;124m'\u001b[39m\u001b[38;5;124mUsing HyperParameters:\u001b[39m\u001b[38;5;130;01m\\n\u001b[39;00m\u001b[38;5;124m \u001b[39m\u001b[38;5;124m\"\u001b[39m\u001b[38;5;124mlook_back\u001b[39m\u001b[38;5;124m\"\u001b[39m\u001b[38;5;124m:\u001b[39m\u001b[38;5;124m'\u001b[39m, params\u001b[38;5;241m.\u001b[39mlook_back_tick, params\u001b[38;5;241m.\u001b[39mhparams)\n\u001b[1;32m      9\u001b[0m \u001b[38;5;66;03m# -----------------------------------------------------------------------------\u001b[39;00m\n\u001b[1;32m     10\u001b[0m \u001b[38;5;66;03m# Run the custom stateful training loop\u001b[39;00m\n\u001b[1;32m     11\u001b[0m \u001b[38;5;66;03m# -----------------------------------------------------------------------------\u001b[39;00m\n\u001b[0;32m---> 12\u001b[0m best_val_rmse  \u001b[38;5;241m=\u001b[39m \u001b[43mdual_lstm\u001b[49m\u001b[38;5;241;43m.\u001b[39;49m\u001b[43mlstm_training_loop\u001b[49m\u001b[43m(\u001b[49m\n\u001b[1;32m     13\u001b[0m \u001b[43m    \u001b[49m\u001b[43mmodel\u001b[49m\u001b[43m               \u001b[49m\u001b[38;5;241;43m=\u001b[39;49m\u001b[43m \u001b[49m\u001b[43mmodel\u001b[49m\u001b[43m,\u001b[49m\n\u001b[1;32m     14\u001b[0m \u001b[43m    \u001b[49m\u001b[43moptimizer\u001b[49m\u001b[43m           \u001b[49m\u001b[38;5;241;43m=\u001b[39;49m\u001b[43m \u001b[49m\u001b[43moptimizer\u001b[49m\u001b[43m,\u001b[49m\n\u001b[1;32m     15\u001b[0m \u001b[43m    \u001b[49m\u001b[43mcosine_sched\u001b[49m\u001b[43m        \u001b[49m\u001b[38;5;241;43m=\u001b[39;49m\u001b[43m \u001b[49m\u001b[43mcosine_sched\u001b[49m\u001b[43m,\u001b[49m\n\u001b[1;32m     16\u001b[0m \u001b[43m    \u001b[49m\u001b[43mplateau_sched\u001b[49m\u001b[43m       \u001b[49m\u001b[38;5;241;43m=\u001b[39;49m\u001b[43m \u001b[49m\u001b[43mplateau_sched\u001b[49m\u001b[43m,\u001b[49m\n\u001b[1;32m     17\u001b[0m \u001b[43m    \u001b[49m\u001b[43mscaler\u001b[49m\u001b[43m              \u001b[49m\u001b[38;5;241;43m=\u001b[39;49m\u001b[43m \u001b[49m\u001b[43mscaler\u001b[49m\u001b[43m,\u001b[49m\n\u001b[1;32m     18\u001b[0m \u001b[43m    \u001b[49m\u001b[43mtrain_loader\u001b[49m\u001b[43m        \u001b[49m\u001b[38;5;241;43m=\u001b[39;49m\u001b[43m \u001b[49m\u001b[43mtrain_loader\u001b[49m\u001b[43m,\u001b[49m\n\u001b[1;32m     19\u001b[0m \u001b[43m    \u001b[49m\u001b[43mval_loader\u001b[49m\u001b[43m          \u001b[49m\u001b[38;5;241;43m=\u001b[39;49m\u001b[43m \u001b[49m\u001b[43mval_loader\u001b[49m\u001b[43m,\u001b[49m\n\u001b[1;32m     20\u001b[0m \u001b[43m    \u001b[49m\u001b[43mmax_epochs\u001b[49m\u001b[43m          \u001b[49m\u001b[38;5;241;43m=\u001b[39;49m\u001b[43m \u001b[49m\u001b[43mparams\u001b[49m\u001b[38;5;241;43m.\u001b[39;49m\u001b[43mhparams\u001b[49m\u001b[43m[\u001b[49m\u001b[38;5;124;43m'\u001b[39;49m\u001b[38;5;124;43mMAX_EPOCHS\u001b[39;49m\u001b[38;5;124;43m'\u001b[39;49m\u001b[43m]\u001b[49m\u001b[43m,\u001b[49m\n\u001b[1;32m     21\u001b[0m \u001b[43m    \u001b[49m\u001b[43mearly_stop_patience\u001b[49m\u001b[43m \u001b[49m\u001b[38;5;241;43m=\u001b[39;49m\u001b[43m \u001b[49m\u001b[43mparams\u001b[49m\u001b[38;5;241;43m.\u001b[39;49m\u001b[43mhparams\u001b[49m\u001b[43m[\u001b[49m\u001b[38;5;124;43m'\u001b[39;49m\u001b[38;5;124;43mEARLY_STOP_PATIENCE\u001b[39;49m\u001b[38;5;124;43m'\u001b[39;49m\u001b[43m]\u001b[49m\u001b[43m,\u001b[49m\n\u001b[1;32m     22\u001b[0m \u001b[43m    \u001b[49m\u001b[43mclipnorm\u001b[49m\u001b[43m            \u001b[49m\u001b[38;5;241;43m=\u001b[39;49m\u001b[43m \u001b[49m\u001b[43mclipnorm\u001b[49m\u001b[43m,\u001b[49m\n\u001b[1;32m     23\u001b[0m \u001b[43m    \u001b[49m\u001b[43mdevice\u001b[49m\u001b[43m              \u001b[49m\u001b[38;5;241;43m=\u001b[39;49m\u001b[43m \u001b[49m\u001b[43mparams\u001b[49m\u001b[38;5;241;43m.\u001b[39;49m\u001b[43mdevice\u001b[49m\n\u001b[1;32m     24\u001b[0m \u001b[43m)\u001b[49m\n",
      "File \u001b[0;32m/workspace/my_models/Trading/_Stock_Analysis_/libs/models/dual_lstm.py:320\u001b[0m, in \u001b[0;36mlstm_training_loop\u001b[0;34m(model, optimizer, cosine_sched, plateau_sched, scaler, train_loader, val_loader, max_epochs, early_stop_patience, clipnorm, device)\u001b[0m\n\u001b[1;32m    317\u001b[0m     model\u001b[38;5;241m.\u001b[39mreset_long()\n\u001b[1;32m    318\u001b[0m prev_day \u001b[38;5;241m=\u001b[39m day_id\n\u001b[0;32m--> 320\u001b[0m pr, pc, _ \u001b[38;5;241m=\u001b[39m \u001b[43mmodel\u001b[49m\u001b[43m(\u001b[49m\u001b[43mx_seq\u001b[49m\u001b[43m)\u001b[49m\n\u001b[1;32m    322\u001b[0m \u001b[38;5;28;01mwith\u001b[39;00m autocast(device_type\u001b[38;5;241m=\u001b[39mdevice\u001b[38;5;241m.\u001b[39mtype):\n\u001b[1;32m    323\u001b[0m     lr_logits   \u001b[38;5;241m=\u001b[39m pr[\u001b[38;5;241m.\u001b[39m\u001b[38;5;241m.\u001b[39m\u001b[38;5;241m.\u001b[39m, \u001b[38;5;241m-\u001b[39m\u001b[38;5;241m1\u001b[39m, \u001b[38;5;241m0\u001b[39m]\n",
      "File \u001b[0;32m/usr/local/lib/python3.12/dist-packages/torch/nn/modules/module.py:1739\u001b[0m, in \u001b[0;36mModule._wrapped_call_impl\u001b[0;34m(self, *args, **kwargs)\u001b[0m\n\u001b[1;32m   1737\u001b[0m     \u001b[38;5;28;01mreturn\u001b[39;00m \u001b[38;5;28mself\u001b[39m\u001b[38;5;241m.\u001b[39m_compiled_call_impl(\u001b[38;5;241m*\u001b[39margs, \u001b[38;5;241m*\u001b[39m\u001b[38;5;241m*\u001b[39mkwargs)  \u001b[38;5;66;03m# type: ignore[misc]\u001b[39;00m\n\u001b[1;32m   1738\u001b[0m \u001b[38;5;28;01melse\u001b[39;00m:\n\u001b[0;32m-> 1739\u001b[0m     \u001b[38;5;28;01mreturn\u001b[39;00m \u001b[38;5;28;43mself\u001b[39;49m\u001b[38;5;241;43m.\u001b[39;49m\u001b[43m_call_impl\u001b[49m\u001b[43m(\u001b[49m\u001b[38;5;241;43m*\u001b[39;49m\u001b[43margs\u001b[49m\u001b[43m,\u001b[49m\u001b[43m \u001b[49m\u001b[38;5;241;43m*\u001b[39;49m\u001b[38;5;241;43m*\u001b[39;49m\u001b[43mkwargs\u001b[49m\u001b[43m)\u001b[49m\n",
      "File \u001b[0;32m/usr/local/lib/python3.12/dist-packages/torch/nn/modules/module.py:1750\u001b[0m, in \u001b[0;36mModule._call_impl\u001b[0;34m(self, *args, **kwargs)\u001b[0m\n\u001b[1;32m   1745\u001b[0m \u001b[38;5;66;03m# If we don't have any hooks, we want to skip the rest of the logic in\u001b[39;00m\n\u001b[1;32m   1746\u001b[0m \u001b[38;5;66;03m# this function, and just call forward.\u001b[39;00m\n\u001b[1;32m   1747\u001b[0m \u001b[38;5;28;01mif\u001b[39;00m \u001b[38;5;129;01mnot\u001b[39;00m (\u001b[38;5;28mself\u001b[39m\u001b[38;5;241m.\u001b[39m_backward_hooks \u001b[38;5;129;01mor\u001b[39;00m \u001b[38;5;28mself\u001b[39m\u001b[38;5;241m.\u001b[39m_backward_pre_hooks \u001b[38;5;129;01mor\u001b[39;00m \u001b[38;5;28mself\u001b[39m\u001b[38;5;241m.\u001b[39m_forward_hooks \u001b[38;5;129;01mor\u001b[39;00m \u001b[38;5;28mself\u001b[39m\u001b[38;5;241m.\u001b[39m_forward_pre_hooks\n\u001b[1;32m   1748\u001b[0m         \u001b[38;5;129;01mor\u001b[39;00m _global_backward_pre_hooks \u001b[38;5;129;01mor\u001b[39;00m _global_backward_hooks\n\u001b[1;32m   1749\u001b[0m         \u001b[38;5;129;01mor\u001b[39;00m _global_forward_hooks \u001b[38;5;129;01mor\u001b[39;00m _global_forward_pre_hooks):\n\u001b[0;32m-> 1750\u001b[0m     \u001b[38;5;28;01mreturn\u001b[39;00m \u001b[43mforward_call\u001b[49m\u001b[43m(\u001b[49m\u001b[38;5;241;43m*\u001b[39;49m\u001b[43margs\u001b[49m\u001b[43m,\u001b[49m\u001b[43m \u001b[49m\u001b[38;5;241;43m*\u001b[39;49m\u001b[38;5;241;43m*\u001b[39;49m\u001b[43mkwargs\u001b[49m\u001b[43m)\u001b[49m\n\u001b[1;32m   1752\u001b[0m result \u001b[38;5;241m=\u001b[39m \u001b[38;5;28;01mNone\u001b[39;00m\n\u001b[1;32m   1753\u001b[0m called_always_called_hooks \u001b[38;5;241m=\u001b[39m \u001b[38;5;28mset\u001b[39m()\n",
      "File \u001b[0;32m/workspace/my_models/Trading/_Stock_Analysis_/libs/models/dual_lstm.py:203\u001b[0m, in \u001b[0;36mDualMemoryLSTM.forward\u001b[0;34m(self, x)\u001b[0m\n\u001b[1;32m    201\u001b[0m \u001b[38;5;66;03m# 6) Time‐distributed heads\u001b[39;00m\n\u001b[1;32m    202\u001b[0m raw_reg \u001b[38;5;241m=\u001b[39m \u001b[38;5;28mself\u001b[39m\u001b[38;5;241m.\u001b[39mpred(out_long)     \u001b[38;5;66;03m# (W, S, 1)\u001b[39;00m\n\u001b[0;32m--> 203\u001b[0m raw_cls \u001b[38;5;241m=\u001b[39m \u001b[38;5;28;43mself\u001b[39;49m\u001b[38;5;241;43m.\u001b[39;49m\u001b[43mcls_head\u001b[49m\u001b[43m(\u001b[49m\u001b[43mout_long\u001b[49m\u001b[43m)\u001b[49m \u001b[38;5;66;03m# (W, S, 1)\u001b[39;00m\n\u001b[1;32m    204\u001b[0m raw_ter \u001b[38;5;241m=\u001b[39m \u001b[38;5;28mself\u001b[39m\u001b[38;5;241m.\u001b[39mcls_ter(out_long)  \u001b[38;5;66;03m# (W, S, 3)\u001b[39;00m\n\u001b[1;32m    206\u001b[0m \u001b[38;5;28;01mreturn\u001b[39;00m raw_reg, raw_cls, raw_ter\n",
      "File \u001b[0;32m/usr/local/lib/python3.12/dist-packages/torch/nn/modules/module.py:1739\u001b[0m, in \u001b[0;36mModule._wrapped_call_impl\u001b[0;34m(self, *args, **kwargs)\u001b[0m\n\u001b[1;32m   1737\u001b[0m     \u001b[38;5;28;01mreturn\u001b[39;00m \u001b[38;5;28mself\u001b[39m\u001b[38;5;241m.\u001b[39m_compiled_call_impl(\u001b[38;5;241m*\u001b[39margs, \u001b[38;5;241m*\u001b[39m\u001b[38;5;241m*\u001b[39mkwargs)  \u001b[38;5;66;03m# type: ignore[misc]\u001b[39;00m\n\u001b[1;32m   1738\u001b[0m \u001b[38;5;28;01melse\u001b[39;00m:\n\u001b[0;32m-> 1739\u001b[0m     \u001b[38;5;28;01mreturn\u001b[39;00m \u001b[38;5;28;43mself\u001b[39;49m\u001b[38;5;241;43m.\u001b[39;49m\u001b[43m_call_impl\u001b[49m\u001b[43m(\u001b[49m\u001b[38;5;241;43m*\u001b[39;49m\u001b[43margs\u001b[49m\u001b[43m,\u001b[49m\u001b[43m \u001b[49m\u001b[38;5;241;43m*\u001b[39;49m\u001b[38;5;241;43m*\u001b[39;49m\u001b[43mkwargs\u001b[49m\u001b[43m)\u001b[49m\n",
      "File \u001b[0;32m/usr/local/lib/python3.12/dist-packages/torch/nn/modules/module.py:1750\u001b[0m, in \u001b[0;36mModule._call_impl\u001b[0;34m(self, *args, **kwargs)\u001b[0m\n\u001b[1;32m   1745\u001b[0m \u001b[38;5;66;03m# If we don't have any hooks, we want to skip the rest of the logic in\u001b[39;00m\n\u001b[1;32m   1746\u001b[0m \u001b[38;5;66;03m# this function, and just call forward.\u001b[39;00m\n\u001b[1;32m   1747\u001b[0m \u001b[38;5;28;01mif\u001b[39;00m \u001b[38;5;129;01mnot\u001b[39;00m (\u001b[38;5;28mself\u001b[39m\u001b[38;5;241m.\u001b[39m_backward_hooks \u001b[38;5;129;01mor\u001b[39;00m \u001b[38;5;28mself\u001b[39m\u001b[38;5;241m.\u001b[39m_backward_pre_hooks \u001b[38;5;129;01mor\u001b[39;00m \u001b[38;5;28mself\u001b[39m\u001b[38;5;241m.\u001b[39m_forward_hooks \u001b[38;5;129;01mor\u001b[39;00m \u001b[38;5;28mself\u001b[39m\u001b[38;5;241m.\u001b[39m_forward_pre_hooks\n\u001b[1;32m   1748\u001b[0m         \u001b[38;5;129;01mor\u001b[39;00m _global_backward_pre_hooks \u001b[38;5;129;01mor\u001b[39;00m _global_backward_hooks\n\u001b[1;32m   1749\u001b[0m         \u001b[38;5;129;01mor\u001b[39;00m _global_forward_hooks \u001b[38;5;129;01mor\u001b[39;00m _global_forward_pre_hooks):\n\u001b[0;32m-> 1750\u001b[0m     \u001b[38;5;28;01mreturn\u001b[39;00m \u001b[43mforward_call\u001b[49m\u001b[43m(\u001b[49m\u001b[38;5;241;43m*\u001b[39;49m\u001b[43margs\u001b[49m\u001b[43m,\u001b[49m\u001b[43m \u001b[49m\u001b[38;5;241;43m*\u001b[39;49m\u001b[38;5;241;43m*\u001b[39;49m\u001b[43mkwargs\u001b[49m\u001b[43m)\u001b[49m\n\u001b[1;32m   1752\u001b[0m result \u001b[38;5;241m=\u001b[39m \u001b[38;5;28;01mNone\u001b[39;00m\n\u001b[1;32m   1753\u001b[0m called_always_called_hooks \u001b[38;5;241m=\u001b[39m \u001b[38;5;28mset\u001b[39m()\n",
      "File \u001b[0;32m/usr/local/lib/python3.12/dist-packages/torch/nn/modules/linear.py:125\u001b[0m, in \u001b[0;36mLinear.forward\u001b[0;34m(self, input)\u001b[0m\n\u001b[1;32m    124\u001b[0m \u001b[38;5;28;01mdef\u001b[39;00m\u001b[38;5;250m \u001b[39m\u001b[38;5;21mforward\u001b[39m(\u001b[38;5;28mself\u001b[39m, \u001b[38;5;28minput\u001b[39m: Tensor) \u001b[38;5;241m-\u001b[39m\u001b[38;5;241m>\u001b[39m Tensor:\n\u001b[0;32m--> 125\u001b[0m     \u001b[38;5;28;01mreturn\u001b[39;00m \u001b[43mF\u001b[49m\u001b[38;5;241;43m.\u001b[39;49m\u001b[43mlinear\u001b[49m\u001b[43m(\u001b[49m\u001b[38;5;28;43minput\u001b[39;49m\u001b[43m,\u001b[49m\u001b[43m \u001b[49m\u001b[38;5;28;43mself\u001b[39;49m\u001b[38;5;241;43m.\u001b[39;49m\u001b[43mweight\u001b[49m\u001b[43m,\u001b[49m\u001b[43m \u001b[49m\u001b[38;5;28;43mself\u001b[39;49m\u001b[38;5;241;43m.\u001b[39;49m\u001b[43mbias\u001b[49m\u001b[43m)\u001b[49m\n",
      "\u001b[0;31mKeyboardInterrupt\u001b[0m: "
     ]
    },
    {
     "data": {
      "image/png": "[encoded data removed]",
      "text/plain": [
       "<Figure size 660x440 with 1 Axes>"
      ]
     },
     "metadata": {},
     "output_type": "display_data"
    }
   ],
   "source": [
    "importlib.reload(dual_lstm) #############\n",
    "\n",
    "# How many unique trading days does each epoch see?\n",
    "n_days = len(train_loader.dataset)\n",
    "print(f\"Training sees {n_days} unique trading days per epoch.\\n\")\n",
    "\n",
    "print('Using HyperParameters:\\n \"look_back\":', params.look_back_tick, params.hparams)\n",
    "\n",
    "# -----------------------------------------------------------------------------\n",
    "# Run the custom stateful training loop\n",
    "# -----------------------------------------------------------------------------\n",
    "best_val_rmse  = dual_lstm.lstm_training_loop(\n",
    "    model               = model,\n",
    "    optimizer           = optimizer,\n",
    "    cosine_sched        = cosine_sched,\n",
    "    plateau_sched       = plateau_sched,\n",
    "    scaler              = scaler,\n",
    "    train_loader        = train_loader,\n",
    "    val_loader          = val_loader,\n",
    "    max_epochs          = params.hparams['MAX_EPOCHS'],\n",
    "    early_stop_patience = params.hparams['EARLY_STOP_PATIENCE'],\n",
    "    clipnorm            = clipnorm,\n",
    "    device              = params.device\n",
    ")\n"
   ]
  },
  {
   "cell_type": "code",
   "execution_count": null,
   "id": "22b25c89-05c3-4a16-b013-97143f173e08",
   "metadata": {},
   "outputs": [],
   "source": [
    "# -----------------------------------------------------------------------------\n",
    "# Final reporting: best RMSE and relative improvement\n",
    "# -----------------------------------------------------------------------------\n",
    "print(f\"\\nChampion validation RMSE = {best_val_rmse:.6f}\")\n",
    "\n",
    "improvement_zero = 100.0 * (1.0 - best_val_rmse / rmse_zero_val)\n",
    "print(f\"Improvement over zero‐baseline = {improvement_zero:5.1f}%\")\n",
    "\n",
    "improvement_mean = 100.0 * (1.0 - best_val_rmse / rmse_mean_val)\n",
    "print(f\"Improvement over mean‐baseline = {improvement_mean:5.1f}%\")\n"
   ]
  },
  {
   "cell_type": "code",
   "execution_count": null,
   "id": "5935ccf4-d4ec-44de-827b-b520c8e76561",
   "metadata": {},
   "outputs": [],
   "source": []
  }
 ],
 "metadata": {
  "kernelspec": {
   "display_name": "Python 3 (ipykernel)",
   "language": "python",
   "name": "python3"
  },
  "language_info": {
   "codemirror_mode": {
    "name": "ipython",
    "version": 3
   },
   "file_extension": ".py",
   "mimetype": "text/x-python",
   "name": "python",
   "nbconvert_exporter": "python",
   "pygments_lexer": "ipython3",
   "version": "3.12.3"
  }
 },
 "nbformat": 4,
 "nbformat_minor": 5
}
