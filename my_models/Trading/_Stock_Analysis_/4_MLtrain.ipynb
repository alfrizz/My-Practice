{
 "cells": [
  {
   "cell_type": "code",
   "execution_count": 1,
   "id": "73f06a4f-691a-4a84-a305-e7212eb879bf",
   "metadata": {},
   "outputs": [],
   "source": [
    "# %matplotlib widget\n",
    "%matplotlib inline"
   ]
  },
  {
   "cell_type": "code",
   "execution_count": 2,
   "id": "4c868158-e6bb-4d56-bbdd-8e8103f0b9e4",
   "metadata": {},
   "outputs": [],
   "source": [
    "# 1) Wipe out all Python variables\n",
    "%reset -f\n",
    "# 2) Force Python’s garbage collector to run\n",
    "import gc\n",
    "gc.collect()\n",
    "\n",
    "import importlib\n",
    "from libs import trades, plots, params, models\n",
    "importlib.reload(trades)\n",
    "importlib.reload(plots)\n",
    "importlib.reload(params)\n",
    "importlib.reload(models)\n",
    "\n",
    "import pandas as pd\n",
    "pd.set_option('display.max_columns', None)\n",
    "\n",
    "import numpy  as np\n",
    "import math\n",
    "import matplotlib.pyplot as plt\n",
    "\n",
    "import datetime as dt\n",
    "import os\n",
    "from typing import Sequence, List, Tuple, Optional, Union\n",
    "\n",
    "import torch\n",
    "import torch.nn as nn\n",
    "import torch.nn.functional as Funct\n",
    "from torch_lr_finder import LRFinder\n",
    "from torch.utils.data import DataLoader, TensorDataset\n",
    "\n",
    "from tqdm import tqdm"
   ]
  },
  {
   "cell_type": "code",
   "execution_count": 3,
   "id": "7b98406a",
   "metadata": {},
   "outputs": [
    {
     "data": {
      "text/html": [
       "<div>\n",
       "<style scoped>\n",
       "    .dataframe tbody tr th:only-of-type {\n",
       "        vertical-align: middle;\n",
       "    }\n",
       "\n",
       "    .dataframe tbody tr th {\n",
       "        vertical-align: top;\n",
       "    }\n",
       "\n",
       "    .dataframe thead th {\n",
       "        text-align: right;\n",
       "    }\n",
       "</style>\n",
       "<table border=\"1\" class=\"dataframe\">\n",
       "  <thead>\n",
       "    <tr style=\"text-align: right;\">\n",
       "      <th></th>\n",
       "      <th>atr_ratio</th>\n",
       "      <th>atr_ratio_sma</th>\n",
       "      <th>vol_15</th>\n",
       "      <th>bb_width_20</th>\n",
       "      <th>r_15</th>\n",
       "      <th>rsi</th>\n",
       "      <th>stoch_k_14</th>\n",
       "      <th>eng_ma</th>\n",
       "      <th>bid</th>\n",
       "      <th>ask</th>\n",
       "      <th>signal</th>\n",
       "    </tr>\n",
       "  </thead>\n",
       "  <tbody>\n",
       "    <tr>\n",
       "      <th>2004-01-02 13:07:00</th>\n",
       "      <td>-0.996380</td>\n",
       "      <td>-0.987015</td>\n",
       "      <td>-1.005076</td>\n",
       "      <td>-0.943230</td>\n",
       "      <td>-0.009476</td>\n",
       "      <td>-2.476841</td>\n",
       "      <td>-1.552562</td>\n",
       "      <td>-0.001209</td>\n",
       "      <td>0.763698</td>\n",
       "      <td>0.764840</td>\n",
       "      <td>0.069210</td>\n",
       "    </tr>\n",
       "    <tr>\n",
       "      <th>2004-01-02 13:08:00</th>\n",
       "      <td>-0.994579</td>\n",
       "      <td>-0.986828</td>\n",
       "      <td>-1.001603</td>\n",
       "      <td>-0.937271</td>\n",
       "      <td>-0.017401</td>\n",
       "      <td>-2.476841</td>\n",
       "      <td>-1.552562</td>\n",
       "      <td>-0.001209</td>\n",
       "      <td>0.763681</td>\n",
       "      <td>0.764824</td>\n",
       "      <td>0.073291</td>\n",
       "    </tr>\n",
       "    <tr>\n",
       "      <th>2004-01-02 13:09:00</th>\n",
       "      <td>-0.992906</td>\n",
       "      <td>-0.986557</td>\n",
       "      <td>-0.999187</td>\n",
       "      <td>-0.930276</td>\n",
       "      <td>-0.025327</td>\n",
       "      <td>-2.476841</td>\n",
       "      <td>-1.552562</td>\n",
       "      <td>-0.001209</td>\n",
       "      <td>0.763664</td>\n",
       "      <td>0.764807</td>\n",
       "      <td>0.077619</td>\n",
       "    </tr>\n",
       "    <tr>\n",
       "      <th>2004-01-02 13:10:00</th>\n",
       "      <td>-0.991353</td>\n",
       "      <td>-0.986209</td>\n",
       "      <td>-0.997370</td>\n",
       "      <td>-0.922523</td>\n",
       "      <td>-0.033253</td>\n",
       "      <td>-2.476841</td>\n",
       "      <td>-1.552562</td>\n",
       "      <td>-0.001209</td>\n",
       "      <td>0.763647</td>\n",
       "      <td>0.764790</td>\n",
       "      <td>0.082208</td>\n",
       "    </tr>\n",
       "    <tr>\n",
       "      <th>2004-01-02 13:11:00</th>\n",
       "      <td>-0.989911</td>\n",
       "      <td>-0.985789</td>\n",
       "      <td>-0.995973</td>\n",
       "      <td>-0.914218</td>\n",
       "      <td>-0.041178</td>\n",
       "      <td>-2.476841</td>\n",
       "      <td>-1.552562</td>\n",
       "      <td>-0.001209</td>\n",
       "      <td>0.763631</td>\n",
       "      <td>0.764773</td>\n",
       "      <td>0.087074</td>\n",
       "    </tr>\n",
       "    <tr>\n",
       "      <th>...</th>\n",
       "      <td>...</td>\n",
       "      <td>...</td>\n",
       "      <td>...</td>\n",
       "      <td>...</td>\n",
       "      <td>...</td>\n",
       "      <td>...</td>\n",
       "      <td>...</td>\n",
       "      <td>...</td>\n",
       "      <td>...</td>\n",
       "      <td>...</td>\n",
       "      <td>...</td>\n",
       "    </tr>\n",
       "    <tr>\n",
       "      <th>2025-06-18 20:56:00</th>\n",
       "      <td>0.582507</td>\n",
       "      <td>0.182057</td>\n",
       "      <td>0.348747</td>\n",
       "      <td>0.119570</td>\n",
       "      <td>1.315228</td>\n",
       "      <td>0.811095</td>\n",
       "      <td>0.354296</td>\n",
       "      <td>12.115664</td>\n",
       "      <td>196.667400</td>\n",
       "      <td>196.962600</td>\n",
       "      <td>0.417935</td>\n",
       "    </tr>\n",
       "    <tr>\n",
       "      <th>2025-06-18 20:57:00</th>\n",
       "      <td>0.641713</td>\n",
       "      <td>0.207647</td>\n",
       "      <td>0.391507</td>\n",
       "      <td>0.184714</td>\n",
       "      <td>1.113128</td>\n",
       "      <td>0.539711</td>\n",
       "      <td>0.426843</td>\n",
       "      <td>12.401440</td>\n",
       "      <td>196.527500</td>\n",
       "      <td>196.822500</td>\n",
       "      <td>0.368513</td>\n",
       "    </tr>\n",
       "    <tr>\n",
       "      <th>2025-06-18 20:58:00</th>\n",
       "      <td>0.574130</td>\n",
       "      <td>0.230765</td>\n",
       "      <td>0.392142</td>\n",
       "      <td>0.238300</td>\n",
       "      <td>0.827243</td>\n",
       "      <td>0.530165</td>\n",
       "      <td>0.381683</td>\n",
       "      <td>12.401440</td>\n",
       "      <td>196.522500</td>\n",
       "      <td>196.817500</td>\n",
       "      <td>0.365417</td>\n",
       "    </tr>\n",
       "    <tr>\n",
       "      <th>2025-06-18 20:59:00</th>\n",
       "      <td>0.695123</td>\n",
       "      <td>0.261866</td>\n",
       "      <td>0.692251</td>\n",
       "      <td>0.242399</td>\n",
       "      <td>-0.093724</td>\n",
       "      <td>-0.151391</td>\n",
       "      <td>-0.182061</td>\n",
       "      <td>9.257911</td>\n",
       "      <td>196.092800</td>\n",
       "      <td>196.387200</td>\n",
       "      <td>0.280949</td>\n",
       "    </tr>\n",
       "    <tr>\n",
       "      <th>2025-06-18 21:00:00</th>\n",
       "      <td>0.828554</td>\n",
       "      <td>0.300607</td>\n",
       "      <td>0.794598</td>\n",
       "      <td>0.233854</td>\n",
       "      <td>0.661771</td>\n",
       "      <td>0.222017</td>\n",
       "      <td>-0.321780</td>\n",
       "      <td>8.514895</td>\n",
       "      <td>196.392600</td>\n",
       "      <td>196.687400</td>\n",
       "      <td>0.202951</td>\n",
       "    </tr>\n",
       "  </tbody>\n",
       "</table>\n",
       "<p>3563215 rows × 11 columns</p>\n",
       "</div>"
      ],
      "text/plain": [
       "                     atr_ratio  atr_ratio_sma    vol_15  bb_width_20  \\\n",
       "2004-01-02 13:07:00  -0.996380      -0.987015 -1.005076    -0.943230   \n",
       "2004-01-02 13:08:00  -0.994579      -0.986828 -1.001603    -0.937271   \n",
       "2004-01-02 13:09:00  -0.992906      -0.986557 -0.999187    -0.930276   \n",
       "2004-01-02 13:10:00  -0.991353      -0.986209 -0.997370    -0.922523   \n",
       "2004-01-02 13:11:00  -0.989911      -0.985789 -0.995973    -0.914218   \n",
       "...                        ...            ...       ...          ...   \n",
       "2025-06-18 20:56:00   0.582507       0.182057  0.348747     0.119570   \n",
       "2025-06-18 20:57:00   0.641713       0.207647  0.391507     0.184714   \n",
       "2025-06-18 20:58:00   0.574130       0.230765  0.392142     0.238300   \n",
       "2025-06-18 20:59:00   0.695123       0.261866  0.692251     0.242399   \n",
       "2025-06-18 21:00:00   0.828554       0.300607  0.794598     0.233854   \n",
       "\n",
       "                         r_15       rsi  stoch_k_14     eng_ma         bid  \\\n",
       "2004-01-02 13:07:00 -0.009476 -2.476841   -1.552562  -0.001209    0.763698   \n",
       "2004-01-02 13:08:00 -0.017401 -2.476841   -1.552562  -0.001209    0.763681   \n",
       "2004-01-02 13:09:00 -0.025327 -2.476841   -1.552562  -0.001209    0.763664   \n",
       "2004-01-02 13:10:00 -0.033253 -2.476841   -1.552562  -0.001209    0.763647   \n",
       "2004-01-02 13:11:00 -0.041178 -2.476841   -1.552562  -0.001209    0.763631   \n",
       "...                       ...       ...         ...        ...         ...   \n",
       "2025-06-18 20:56:00  1.315228  0.811095    0.354296  12.115664  196.667400   \n",
       "2025-06-18 20:57:00  1.113128  0.539711    0.426843  12.401440  196.527500   \n",
       "2025-06-18 20:58:00  0.827243  0.530165    0.381683  12.401440  196.522500   \n",
       "2025-06-18 20:59:00 -0.093724 -0.151391   -0.182061   9.257911  196.092800   \n",
       "2025-06-18 21:00:00  0.661771  0.222017   -0.321780   8.514895  196.392600   \n",
       "\n",
       "                            ask    signal  \n",
       "2004-01-02 13:07:00    0.764840  0.069210  \n",
       "2004-01-02 13:08:00    0.764824  0.073291  \n",
       "2004-01-02 13:09:00    0.764807  0.077619  \n",
       "2004-01-02 13:10:00    0.764790  0.082208  \n",
       "2004-01-02 13:11:00    0.764773  0.087074  \n",
       "...                         ...       ...  \n",
       "2025-06-18 20:56:00  196.962600  0.417935  \n",
       "2025-06-18 20:57:00  196.822500  0.368513  \n",
       "2025-06-18 20:58:00  196.817500  0.365417  \n",
       "2025-06-18 20:59:00  196.387200  0.280949  \n",
       "2025-06-18 21:00:00  196.687400  0.202951  \n",
       "\n",
       "[3563215 rows x 11 columns]"
      ]
     },
     "execution_count": 3,
     "metadata": {},
     "output_type": "execute_result"
    }
   ],
   "source": [
    "if params.feat_sel == 'auto': # automatic feature selection, based on feature importance notebook\n",
    "    \n",
    "    df_feat_sel = pd.read_csv(params.feat_sel_auto_csv, index_col=0, parse_dates=True)\n",
    "    \n",
    "elif params.feat_sel == 'man': # alternative manual feature selection, based on the features selected in the params.py\n",
    "    \n",
    "    df_feat_sel = pd.read_csv(params.feat_all_csv, index_col=0, parse_dates=True)[params.features_cols_tick + ['bid','ask'] + [params.label_col]]\n",
    "    \n",
    "df_feat_sel"
   ]
  },
  {
   "cell_type": "code",
   "execution_count": 4,
   "id": "b805fa9c",
   "metadata": {},
   "outputs": [
    {
     "name": "stdout",
     "output_type": "stream",
     "text": [
      "Inside build_lstm_tensors, using: ['atr_ratio', 'atr_ratio_sma', 'vol_15', 'bb_width_20', 'r_15', 'rsi', 'stoch_k_14', 'eng_ma']\n"
     ]
    },
    {
     "data": {
      "application/vnd.jupyter.widget-view+json": {
       "model_id": "9bac3402afb34aa698c6bb68894e067a",
       "version_major": 2,
       "version_minor": 0
      },
      "text/plain": [
       "Counting windows:   0%|          | 0/5400 [00:00<?, ?it/s]"
      ]
     },
     "metadata": {},
     "output_type": "display_data"
    },
    {
     "data": {
      "application/vnd.jupyter.widget-view+json": {
       "model_id": "1bf5000d3a0d4283a52f85c4afbd8339",
       "version_major": 2,
       "version_minor": 0
      },
      "text/plain": [
       "Writing memmaps:   0%|          | 0/5400 [00:00<?, ?it/s]"
      ]
     },
     "metadata": {},
     "output_type": "display_data"
    },
    {
     "name": "stdout",
     "output_type": "stream",
     "text": [
      "Shapes:\n",
      "  X         = torch.Size([2414427, 60, 8]) (samples, look_back, features)\n",
      "  y_sig     = torch.Size([2414427]) (samples,)\n",
      "  y_ret     = torch.Size([2414427]) (samples,)\n",
      "  raw_close = torch.Size([2414427])\n",
      "  raw_bid   = torch.Size([2414427])\n",
      "  raw_ask   = torch.Size([2414427])\n",
      "  end_times = (2414427,)\n"
     ]
    }
   ],
   "source": [
    "# Build LSTM input tensors (disk-backed memmaps)\n",
    "X, y_sig, y_ret, raw_close, raw_bid, raw_ask, end_times = models.build_lstm_tensors(\n",
    "    df            = df_feat_sel,\n",
    "    sess_start    = params.sess_start_pred_tick \n",
    ")\n",
    "\n",
    "# quick shapes\n",
    "print(\"Shapes:\")\n",
    "print(\"  X         =\", X.shape,    \"(samples, look_back, features)\")\n",
    "print(\"  y_sig     =\", y_sig.shape, \"(samples,)\")\n",
    "print(\"  y_ret     =\", y_ret.shape, \"(samples,)\")\n",
    "print(\"  raw_close =\", raw_close.shape)\n",
    "print(\"  raw_bid   =\", raw_bid.shape)\n",
    "print(\"  raw_ask   =\", raw_ask.shape)\n",
    "print(\"  end_times =\", end_times.shape)\n"
   ]
  },
  {
   "cell_type": "code",
   "execution_count": 5,
   "id": "7b4f1ac4",
   "metadata": {},
   "outputs": [
    {
     "name": "stdout",
     "output_type": "stream",
     "text": [
      "Shapes:\n",
      "  X_tr  = torch.Size([1696435, 60, 8])\n",
      "  y_sig_tr, y_ret_tr = torch.Size([1696435]) torch.Size([1696435])\n",
      "  X_val = torch.Size([353133, 60, 8])\n",
      "  y_sig_val, y_ret_val = torch.Size([353133]) torch.Size([353133])\n",
      "  X_te  = torch.Size([364859, 60, 8])\n",
      "  y_sig_te, y_ret_te = torch.Size([364859]) torch.Size([364859])\n"
     ]
    }
   ],
   "source": [
    "# Split into train/val/test by calendar day\n",
    "(\n",
    "(X_tr,  y_sig_tr,  y_ret_tr),\n",
    "(X_val, y_sig_val, y_ret_val),\n",
    "(X_te,  y_sig_te,  y_ret_te,  raw_close_te, raw_bid_te, raw_ask_te),\n",
    "samples_per_day,\n",
    "day_id_tr, day_id_val, day_id_te\n",
    ") = models.chronological_split(\n",
    "    X, y_sig, y_ret,\n",
    "    raw_close, raw_bid, raw_ask,\n",
    "    end_times   = end_times,\n",
    "    train_prop  = params.train_prop,\n",
    "    val_prop    = params.val_prop,\n",
    "    train_batch = params.hparams['TRAIN_BATCH']\n",
    ")\n",
    "\n",
    "# Print shapes of all tensors\n",
    "print(\"Shapes:\")\n",
    "print(\"  X_tr  =\", X_tr.shape)\n",
    "print(\"  y_sig_tr, y_ret_tr =\", y_sig_tr.shape, y_ret_tr.shape)\n",
    "print(\"  X_val =\", X_val.shape)\n",
    "print(\"  y_sig_val, y_ret_val =\", y_sig_val.shape, y_ret_val.shape)\n",
    "print(\"  X_te  =\", X_te.shape)\n",
    "print(\"  y_sig_te, y_ret_te =\", y_sig_te.shape, y_ret_te.shape)\n"
   ]
  },
  {
   "cell_type": "code",
   "execution_count": 6,
   "id": "1ad9b6c4-3d79-45c0-b2c0-c4f46f1ad866",
   "metadata": {},
   "outputs": [
    {
     "data": {
      "application/vnd.jupyter.widget-view+json": {
       "model_id": "32164ed10ce54560b31fbb2087bfb314",
       "version_major": 2,
       "version_minor": 0
      },
      "text/plain": [
       "Creating DayWindowDatasets:   0%|          | 0/3 [00:00<?, ?split/s]"
      ]
     },
     "metadata": {},
     "output_type": "display_data"
    },
    {
     "name": "stdout",
     "output_type": "stream",
     "text": [
      "Days  → train=3808, val=783, test=809\n",
      "Batches → train=119,   val=783,   test=809\n"
     ]
    }
   ],
   "source": [
    "# carve `end_times` into the same three splits:\n",
    "n_tr  = day_id_tr .shape[0] \n",
    "n_val = day_id_val.shape[0]\n",
    "i_tr  = n_tr\n",
    "i_val = n_tr + n_val\n",
    "\n",
    "end_times_tr  = end_times[:i_tr]\n",
    "end_times_val = end_times[i_tr:i_val]\n",
    "end_times_te  = end_times[i_val:]\n",
    "\n",
    "# -----------------------------------------------------------------------------\n",
    "#  Build DataLoaders over calendar‐days\n",
    "# -----------------------------------------------------------------------------\n",
    "train_loader, val_loader, test_loader = models.split_to_day_datasets(\n",
    "    # train split:   \n",
    "    X_tr,            y_sig_tr,     y_ret_tr,   end_times_tr,\n",
    "    # val split:\n",
    "    X_val,           y_sig_val,    y_ret_val,  end_times_val,\n",
    "    # test split + raw‐prices\n",
    "    X_te,            y_sig_te,     y_ret_te,   end_times_te,\n",
    "    raw_close_te, raw_bid_te, raw_ask_te,\n",
    "    \n",
    "    sess_start_time       = params.sess_start_pred_tick,\n",
    "    signal_thresh         = params.best_optuna_params[\"buy_threshold\"],\n",
    "    return_thresh         = 0.01,  # flat‐zone threshold for returns (to tune)\n",
    "    train_batch           = params.hparams[\"TRAIN_BATCH\"],\n",
    "    train_workers         = params.hparams[\"NUM_WORKERS\"],\n",
    "    train_prefetch_factor = params.hparams[\"TRAIN_PREFETCH_FACTOR\"]\n",
    ")\n",
    "\n",
    "print(f\"Days  → train={len(train_loader.dataset)}, val={len(val_loader.dataset)}, test={len(test_loader.dataset)}\")\n",
    "print(f\"Batches → train={len(train_loader)},   val={len(val_loader)},   test={len(test_loader)}\")"
   ]
  },
  {
   "cell_type": "code",
   "execution_count": 7,
   "id": "eeec031f-6c8f-455f-9c72-ae411e03ba34",
   "metadata": {},
   "outputs": [
    {
     "data": {
      "text/plain": [
       "DualMemoryLSTM(\n",
       "  (conv): Conv1d(8, 8, kernel_size=(3,), stride=(1,), padding=(1,))\n",
       "  (short_lstm): LSTM(8, 24, batch_first=True, bidirectional=True)\n",
       "  (attn): MultiheadAttention(\n",
       "    (out_proj): NonDynamicallyQuantizableLinear(in_features=48, out_features=48, bias=True)\n",
       "  )\n",
       "  (do_short): Dropout(p=0.25, inplace=False)\n",
       "  (ln_short): LayerNorm((48,), eps=1e-05, elementwise_affine=True)\n",
       "  (long_lstm): LSTM(48, 32, batch_first=True, bidirectional=True)\n",
       "  (do_long): Dropout(p=0.3, inplace=False)\n",
       "  (ln_long): LayerNorm((64,), eps=1e-05, elementwise_affine=True)\n",
       "  (pred): Linear(in_features=64, out_features=1, bias=True)\n",
       "  (cls_head): Linear(in_features=64, out_features=1, bias=True)\n",
       "  (cls_ter): Linear(in_features=64, out_features=3, bias=True)\n",
       ")"
      ]
     },
     "execution_count": 7,
     "metadata": {},
     "output_type": "execute_result"
    }
   ],
   "source": [
    "# -----------------------------------------------------------------------------\n",
    "# Instantiate the stateful DualMemoryLSTM & move to device\n",
    "# -----------------------------------------------------------------------------\n",
    "model = models.DualMemoryLSTM(\n",
    "    n_feats        = X.shape[-1],                          \n",
    "    short_units    = params.hparams['SHORT_UNITS'],    \n",
    "    long_units     = params.hparams['LONG_UNITS'],     \n",
    "    dropout_short  = params.hparams['DROPOUT_SHORT'],  \n",
    "    dropout_long   = params.hparams['DROPOUT_LONG'],   \n",
    "    att_heads      = params.hparams['ATT_HEADS'],\n",
    "    att_drop       = params.hparams['ATT_DROPOUT']\n",
    ")\n",
    "model.to(params.device)  \n",
    "\n",
    "model"
   ]
  },
  {
   "cell_type": "code",
   "execution_count": 8,
   "id": "5512a0dd-d2c8-418e-bfca-4580fb4be995",
   "metadata": {},
   "outputs": [
    {
     "data": {
      "text/plain": [
       "AdamW (\n",
       "Parameter Group 0\n",
       "    amsgrad: False\n",
       "    betas: (0.9, 0.999)\n",
       "    capturable: False\n",
       "    decoupled_weight_decay: True\n",
       "    differentiable: False\n",
       "    eps: 1e-08\n",
       "    foreach: None\n",
       "    fused: None\n",
       "    initial_lr: 0.0001\n",
       "    lr: 0.0001\n",
       "    maximize: False\n",
       "    weight_decay: 0.001\n",
       ")"
      ]
     },
     "execution_count": 8,
     "metadata": {},
     "output_type": "execute_result"
    }
   ],
   "source": [
    "# # -----------------------------------------------------------------------------\n",
    "# # Compute plateau_sched timing parameters\n",
    "# # -----------------------------------------------------------------------------\n",
    "# # Total training samples = total windows in X_tr (one window per row)\n",
    "# n_train_samples = X_tr.shape[0]\n",
    "\n",
    "# # How many optimizer steps (day‐bundles) constitute one epoch?\n",
    "# steps_per_epoch = len(train_loader)\n",
    "\n",
    "\n",
    "# -----------------------------------------------------------------------------\n",
    "# Build optimizer, LR scheduler, AMP scaler, and gradient‐clip norm\n",
    "# -----------------------------------------------------------------------------\n",
    "optimizer, plateau_sched, cosine_sched, scaler, clipnorm = models.make_optimizer_and_scheduler(\n",
    "    model,\n",
    "    initial_lr        = params.hparams['INITIAL_LR'],       \n",
    "    weight_decay      = params.hparams['WEIGHT_DECAY'],     \n",
    "    clipnorm          = params.hparams['CLIPNORM']   \n",
    ")\n",
    "\n",
    "optimizer"
   ]
  },
  {
   "cell_type": "code",
   "execution_count": 9,
   "id": "e9c5fc27-f31d-4adc-a247-5468674f83fc",
   "metadata": {},
   "outputs": [
    {
     "name": "stdout",
     "output_type": "stream",
     "text": [
      "Zero‐forecast RMSE (predict 0): train = 0.422203,  val = 0.414883\n",
      "\n",
      "Train target stats:\n",
      "  mean = 0.3101,  var = 0.0821,  std = 0.2865\n",
      "Train mean‐predictor baseline:\n",
      "  RMSE_baseline = 0.286539\n",
      "  R²_baseline   = 0.00\n",
      "\n",
      "Validation target stats:\n",
      "  mean = 0.3102,  var = 0.0759,  std = 0.2755\n",
      "Validation mean‐predictor baseline:\n",
      "  RMSE_baseline = 0.275513\n",
      "  R²_baseline   = 0.00\n",
      "\n"
     ]
    }
   ],
   "source": [
    "# -----------------------------------------------------------------------------\n",
    "# Helper: extract the true “signal” values from any loader into a flat array\n",
    "# -----------------------------------------------------------------------------\n",
    "def extract_y(loader):\n",
    "    return np.concatenate([batch[1].cpu().numpy().ravel() for batch in loader])\n",
    "\n",
    "# Pull out train & validation targets\n",
    "y_train = extract_y(train_loader)\n",
    "y_val   = extract_y(val_loader)\n",
    "\n",
    "# -----------------------------------------------------------------------------\n",
    "# 1) Zero‐forecast baseline RMSE (predict 0 always)\n",
    "#    RMSE_zero = √(mean(y²))\n",
    "# -----------------------------------------------------------------------------\n",
    "rmse_zero_train = np.sqrt(np.mean(y_train**2))\n",
    "rmse_zero_val   = np.sqrt(np.mean(y_val**2))\n",
    "print(f\"Zero‐forecast RMSE (predict 0): train = {rmse_zero_train:.6f},  val = {rmse_zero_val:.6f}\\n\")\n",
    "\n",
    "# -----------------------------------------------------------------------------\n",
    "# 2) Compute mean, variance & std for train/validation targets\n",
    "#    and derive the mean‐predictor baseline (R² = 0)\n",
    "# -----------------------------------------------------------------------------\n",
    "for split, y in [(\"Train\", y_train), (\"Validation\", y_val)]:\n",
    "    mean_y    = y.mean()\n",
    "    std_y     = y.std(ddof=0)     # population std = √variance\n",
    "    var_y     = std_y**2\n",
    "    rmse_mean = std_y            # RMSE_baseline = std(target)\n",
    "\n",
    "    print(f\"{split} target stats:\")\n",
    "    print(f\"  mean = {mean_y:.4f},  var = {var_y:.4f},  std = {std_y:.4f}\")\n",
    "    print(f\"{split} mean‐predictor baseline:\")\n",
    "    print(f\"  RMSE_baseline = {rmse_mean:.6f}\")\n",
    "    print(\"  R²_baseline   = 0.00\\n\")\n",
    "\n",
    "    if split == \"Validation\":\n",
    "        rmse_mean_val = rmse_mean # used afterwards for the final reporting\n",
    "        \n"
   ]
  },
  {
   "cell_type": "code",
   "execution_count": 10,
   "id": "a8f7ec8c-5882-486b-bdfd-371b8db260f9",
   "metadata": {},
   "outputs": [
    {
     "data": {
      "image/png": "[encoded data removed]",
      "text/plain": [
       "<Figure size 640x480 with 1 Axes>"
      ]
     },
     "metadata": {},
     "output_type": "display_data"
    }
   ],
   "source": [
    "# Visualize the true‐signal distributions on train vs. validation\n",
    "plt.hist(y_train, bins=100, alpha=0.5, label=\"train true\")\n",
    "plt.hist(y_val,   bins=100, alpha=0.5, label=\"val true\")\n",
    "plt.xlabel(\"Signal value\")\n",
    "plt.ylabel(\"Count\")\n",
    "plt.title(\"True Signal Distribution: Train vs. Validation\")\n",
    "plt.legend()\n",
    "plt.tight_layout()\n",
    "plt.show()\n"
   ]
  },
  {
   "cell_type": "code",
   "execution_count": 11,
   "id": "7bf94780-a876-4bf4-ad27-6abc2da1fc0a",
   "metadata": {},
   "outputs": [
    {
     "name": "stdout",
     "output_type": "stream",
     "text": [
      "Training sees 3808 unique trading days per epoch.\n",
      "\n"
     ]
    },
    {
     "data": {
      "image/png": "[encoded data removed]",
      "text/plain": [
       "<Figure size 660x440 with 1 Axes>"
      ]
     },
     "metadata": {},
     "output_type": "display_data"
    },
    {
     "data": {
      "application/vnd.jupyter.widget-view+json": {
       "model_id": "7a93fa3264d847f0a2f26dc206073b66",
       "version_major": 2,
       "version_minor": 0
      },
      "text/plain": [
       "Epoch 1:   0%|          | 0/119 [00:00<?, ?batch/s]"
      ]
     },
     "metadata": {},
     "output_type": "display_data"
    },
    {
     "name": "stdout",
     "output_type": "stream",
     "text": [
      "Epoch 001\n",
      "TRAIN→ \"R\": RMSE=0.2699 MAE=0.2127 R2=0.1115 | \"B\": Acc=0.6966 Prec=0.3171 Rec=0.1994 F1=0.2449 AUROC=0.5394\n",
      "VALID→ \"R\": RMSE=0.2540 MAE=0.1865 R2=0.1501 | \"B\": Acc=0.6979 Prec=0.3591 Rec=0.3497 F1=0.3544 AUROC=0.6004\n"
     ]
    },
    {
     "data": {
      "application/vnd.jupyter.widget-view+json": {
       "model_id": "24432f23715743c59cdb849fd25434fe",
       "version_major": 2,
       "version_minor": 0
      },
      "text/plain": [
       "Epoch 2:   0%|          | 0/119 [00:00<?, ?batch/s]"
      ]
     },
     "metadata": {},
     "output_type": "display_data"
    },
    {
     "name": "stdout",
     "output_type": "stream",
     "text": [
      "Epoch 002\n",
      "TRAIN→ \"R\": RMSE=0.2605 MAE=0.2033 R2=0.1724 | \"B\": Acc=0.6589 Prec=0.3026 Rec=0.2934 F1=0.2979 AUROC=0.5520\n",
      "VALID→ \"R\": RMSE=0.2517 MAE=0.1847 R2=0.1654 | \"B\": Acc=0.6807 Prec=0.3580 Rec=0.4373 F1=0.3937 AUROC=0.6294\n"
     ]
    },
    {
     "data": {
      "application/vnd.jupyter.widget-view+json": {
       "model_id": "1794189344c64bd9889c9189c865d328",
       "version_major": 2,
       "version_minor": 0
      },
      "text/plain": [
       "Epoch 3:   0%|          | 0/119 [00:00<?, ?batch/s]"
      ]
     },
     "metadata": {},
     "output_type": "display_data"
    },
    {
     "name": "stdout",
     "output_type": "stream",
     "text": [
      "Epoch 003\n",
      "TRAIN→ \"R\": RMSE=0.2579 MAE=0.2013 R2=0.1890 | \"B\": Acc=0.6396 Prec=0.3080 Rec=0.3698 F1=0.3361 AUROC=0.5705\n",
      "VALID→ \"R\": RMSE=0.2505 MAE=0.1834 R2=0.1736 | \"B\": Acc=0.6724 Prec=0.3579 Rec=0.4808 F1=0.4103 AUROC=0.6439\n"
     ]
    },
    {
     "data": {
      "application/vnd.jupyter.widget-view+json": {
       "model_id": "2def4b17c25145e4b89df7f38f3ab30f",
       "version_major": 2,
       "version_minor": 0
      },
      "text/plain": [
       "Epoch 4:   0%|          | 0/119 [00:00<?, ?batch/s]"
      ]
     },
     "metadata": {},
     "output_type": "display_data"
    },
    {
     "name": "stdout",
     "output_type": "stream",
     "text": [
      "Epoch 004\n",
      "TRAIN→ \"R\": RMSE=0.2564 MAE=0.2001 R2=0.1984 | \"B\": Acc=0.6322 Prec=0.3104 Rec=0.4022 F1=0.3504 AUROC=0.5786\n",
      "VALID→ \"R\": RMSE=0.2496 MAE=0.1824 R2=0.1792 | \"B\": Acc=0.6620 Prec=0.3559 Rec=0.5253 F1=0.4243 AUROC=0.6512\n"
     ]
    },
    {
     "data": {
      "application/vnd.jupyter.widget-view+json": {
       "model_id": "728d8ee09a044b56a8f9cd970aaabd6c",
       "version_major": 2,
       "version_minor": 0
      },
      "text/plain": [
       "Epoch 5:   0%|          | 0/119 [00:00<?, ?batch/s]"
      ]
     },
     "metadata": {},
     "output_type": "display_data"
    },
    {
     "name": "stdout",
     "output_type": "stream",
     "text": [
      "Epoch 005\n",
      "TRAIN→ \"R\": RMSE=0.2552 MAE=0.1991 R2=0.2057 | \"B\": Acc=0.6342 Prec=0.3170 Rec=0.4184 F1=0.3607 AUROC=0.5877\n",
      "VALID→ \"R\": RMSE=0.2488 MAE=0.1814 R2=0.1846 | \"B\": Acc=0.6633 Prec=0.3587 Rec=0.5333 F1=0.4289 AUROC=0.6556\n"
     ]
    },
    {
     "data": {
      "application/vnd.jupyter.widget-view+json": {
       "model_id": "0de986f43c1a452d89843d2a71339d37",
       "version_major": 2,
       "version_minor": 0
      },
      "text/plain": [
       "Epoch 6:   0%|          | 0/119 [00:00<?, ?batch/s]"
      ]
     },
     "metadata": {},
     "output_type": "display_data"
    },
    {
     "name": "stdout",
     "output_type": "stream",
     "text": [
      "Epoch 006\n",
      "TRAIN→ \"R\": RMSE=0.2542 MAE=0.1982 R2=0.2120 | \"B\": Acc=0.6353 Prec=0.3194 Rec=0.4234 F1=0.3641 AUROC=0.5909\n",
      "VALID→ \"R\": RMSE=0.2483 MAE=0.1804 R2=0.1880 | \"B\": Acc=0.6583 Prec=0.3558 Rec=0.5441 F1=0.4302 AUROC=0.6549\n"
     ]
    },
    {
     "data": {
      "application/vnd.jupyter.widget-view+json": {
       "model_id": "ff8a3286be854f8a8a509764b9afea18",
       "version_major": 2,
       "version_minor": 0
      },
      "text/plain": [
       "Epoch 7:   0%|          | 0/119 [00:00<?, ?batch/s]"
      ]
     },
     "metadata": {},
     "output_type": "display_data"
    },
    {
     "name": "stdout",
     "output_type": "stream",
     "text": [
      "Epoch 007\n",
      "TRAIN→ \"R\": RMSE=0.2534 MAE=0.1974 R2=0.2171 | \"B\": Acc=0.6390 Prec=0.3218 Rec=0.4185 F1=0.3638 AUROC=0.5933\n",
      "VALID→ \"R\": RMSE=0.2479 MAE=0.1795 R2=0.1902 | \"B\": Acc=0.6562 Prec=0.3533 Rec=0.5420 F1=0.4278 AUROC=0.6514\n"
     ]
    },
    {
     "data": {
      "application/vnd.jupyter.widget-view+json": {
       "model_id": "4664541a502f46df9bbb7366f428e1c6",
       "version_major": 2,
       "version_minor": 0
      },
      "text/plain": [
       "Epoch 8:   0%|          | 0/119 [00:00<?, ?batch/s]"
      ]
     },
     "metadata": {},
     "output_type": "display_data"
    },
    {
     "name": "stdout",
     "output_type": "stream",
     "text": [
      "Epoch 008\n",
      "TRAIN→ \"R\": RMSE=0.2526 MAE=0.1967 R2=0.2221 | \"B\": Acc=0.6422 Prec=0.3236 Rec=0.4132 F1=0.3630 AUROC=0.5933\n",
      "VALID→ \"R\": RMSE=0.2476 MAE=0.1787 R2=0.1925 | \"B\": Acc=0.6506 Prec=0.3487 Rec=0.5458 F1=0.4255 AUROC=0.6473\n"
     ]
    },
    {
     "data": {
      "application/vnd.jupyter.widget-view+json": {
       "model_id": "ef20020bd4d847e7b4fc3b9f8dc8982c",
       "version_major": 2,
       "version_minor": 0
      },
      "text/plain": [
       "Epoch 9:   0%|          | 0/119 [00:00<?, ?batch/s]"
      ]
     },
     "metadata": {},
     "output_type": "display_data"
    },
    {
     "name": "stdout",
     "output_type": "stream",
     "text": [
      "Epoch 009\n",
      "TRAIN→ \"R\": RMSE=0.2519 MAE=0.1961 R2=0.2265 | \"B\": Acc=0.6373 Prec=0.3208 Rec=0.4210 F1=0.3641 AUROC=0.5918\n",
      "VALID→ \"R\": RMSE=0.2472 MAE=0.1780 R2=0.1947 | \"B\": Acc=0.6526 Prec=0.3483 Rec=0.5339 F1=0.4216 AUROC=0.6449\n"
     ]
    },
    {
     "data": {
      "application/vnd.jupyter.widget-view+json": {
       "model_id": "2ef285fd24e44a85aa32736037b2252a",
       "version_major": 2,
       "version_minor": 0
      },
      "text/plain": [
       "Epoch 10:   0%|          | 0/119 [00:00<?, ?batch/s]"
      ]
     },
     "metadata": {},
     "output_type": "display_data"
    },
    {
     "name": "stdout",
     "output_type": "stream",
     "text": [
      "Epoch 010\n",
      "TRAIN→ \"R\": RMSE=0.2512 MAE=0.1955 R2=0.2307 | \"B\": Acc=0.6344 Prec=0.3171 Rec=0.4181 F1=0.3607 AUROC=0.5884\n",
      "VALID→ \"R\": RMSE=0.2471 MAE=0.1775 R2=0.1956 | \"B\": Acc=0.6633 Prec=0.3503 Rec=0.4916 F1=0.4091 AUROC=0.6439\n"
     ]
    },
    {
     "data": {
      "application/vnd.jupyter.widget-view+json": {
       "model_id": "9d12313c9977489ea70f38e6eedbda79",
       "version_major": 2,
       "version_minor": 0
      },
      "text/plain": [
       "Epoch 11:   0%|          | 0/119 [00:00<?, ?batch/s]"
      ]
     },
     "metadata": {},
     "output_type": "display_data"
    },
    {
     "name": "stdout",
     "output_type": "stream",
     "text": [
      "Epoch 011\n",
      "TRAIN→ \"R\": RMSE=0.2505 MAE=0.1949 R2=0.2348 | \"B\": Acc=0.6394 Prec=0.3199 Rec=0.4104 F1=0.3596 AUROC=0.5896\n",
      "VALID→ \"R\": RMSE=0.2467 MAE=0.1770 R2=0.1984 | \"B\": Acc=0.6585 Prec=0.3426 Rec=0.4791 F1=0.3995 AUROC=0.6393\n"
     ]
    },
    {
     "data": {
      "application/vnd.jupyter.widget-view+json": {
       "model_id": "6492fc086d26462f8ebc38ad0cbca924",
       "version_major": 2,
       "version_minor": 0
      },
      "text/plain": [
       "Epoch 12:   0%|          | 0/119 [00:00<?, ?batch/s]"
      ]
     },
     "metadata": {},
     "output_type": "display_data"
    },
    {
     "name": "stdout",
     "output_type": "stream",
     "text": [
      "Epoch 012\n",
      "TRAIN→ \"R\": RMSE=0.2499 MAE=0.1944 R2=0.2385 | \"B\": Acc=0.6322 Prec=0.3133 Rec=0.4123 F1=0.3561 AUROC=0.5830\n",
      "VALID→ \"R\": RMSE=0.2461 MAE=0.1765 R2=0.2019 | \"B\": Acc=0.6596 Prec=0.3377 Rec=0.4533 F1=0.3870 AUROC=0.6336\n"
     ]
    },
    {
     "data": {
      "application/vnd.jupyter.widget-view+json": {
       "model_id": "4dc7a1ac45464be685e9ab96c8af3e6c",
       "version_major": 2,
       "version_minor": 0
      },
      "text/plain": [
       "Epoch 13:   0%|          | 0/119 [00:00<?, ?batch/s]"
      ]
     },
     "metadata": {},
     "output_type": "display_data"
    },
    {
     "name": "stdout",
     "output_type": "stream",
     "text": [
      "Epoch 013\n",
      "TRAIN→ \"R\": RMSE=0.2493 MAE=0.1938 R2=0.2421 | \"B\": Acc=0.6295 Prec=0.3094 Rec=0.4073 F1=0.3516 AUROC=0.5792\n",
      "VALID→ \"R\": RMSE=0.2452 MAE=0.1760 R2=0.2077 | \"B\": Acc=0.6578 Prec=0.3356 Rec=0.4527 F1=0.3855 AUROC=0.6324\n"
     ]
    },
    {
     "data": {
      "application/vnd.jupyter.widget-view+json": {
       "model_id": "113ee3056094495bab06bd9c4d4b6cf6",
       "version_major": 2,
       "version_minor": 0
      },
      "text/plain": [
       "Epoch 14:   0%|          | 0/119 [00:00<?, ?batch/s]"
      ]
     },
     "metadata": {},
     "output_type": "display_data"
    },
    {
     "name": "stdout",
     "output_type": "stream",
     "text": [
      "Epoch 014\n",
      "TRAIN→ \"R\": RMSE=0.2488 MAE=0.1933 R2=0.2453 | \"B\": Acc=0.6273 Prec=0.3082 Rec=0.4106 F1=0.3521 AUROC=0.5778\n",
      "VALID→ \"R\": RMSE=0.2445 MAE=0.1757 R2=0.2122 | \"B\": Acc=0.6578 Prec=0.3377 Rec=0.4613 F1=0.3900 AUROC=0.6352\n"
     ]
    },
    {
     "data": {
      "application/vnd.jupyter.widget-view+json": {
       "model_id": "9e6a06eb031f48689aec4ab40450da93",
       "version_major": 2,
       "version_minor": 0
      },
      "text/plain": [
       "Epoch 15:   0%|          | 0/119 [00:00<?, ?batch/s]"
      ]
     },
     "metadata": {},
     "output_type": "display_data"
    },
    {
     "name": "stdout",
     "output_type": "stream",
     "text": [
      "Epoch 015\n",
      "TRAIN→ \"R\": RMSE=0.2484 MAE=0.1929 R2=0.2476 | \"B\": Acc=0.6246 Prec=0.3078 Rec=0.4178 F1=0.3544 AUROC=0.5780\n",
      "VALID→ \"R\": RMSE=0.2438 MAE=0.1755 R2=0.2167 | \"B\": Acc=0.6488 Prec=0.3356 Rec=0.4910 F1=0.3987 AUROC=0.6379\n"
     ]
    },
    {
     "data": {
      "application/vnd.jupyter.widget-view+json": {
       "model_id": "2e6113c7d69647dc9f5a5daa5aa778b1",
       "version_major": 2,
       "version_minor": 0
      },
      "text/plain": [
       "Epoch 16:   0%|          | 0/119 [00:00<?, ?batch/s]"
      ]
     },
     "metadata": {},
     "output_type": "display_data"
    },
    {
     "name": "stdout",
     "output_type": "stream",
     "text": [
      "Epoch 016\n",
      "TRAIN→ \"R\": RMSE=0.2480 MAE=0.1926 R2=0.2501 | \"B\": Acc=0.6239 Prec=0.3088 Rec=0.4239 F1=0.3573 AUROC=0.5806\n",
      "VALID→ \"R\": RMSE=0.2430 MAE=0.1753 R2=0.2219 | \"B\": Acc=0.6595 Prec=0.3439 Rec=0.4803 F1=0.4008 AUROC=0.6448\n"
     ]
    },
    {
     "data": {
      "application/vnd.jupyter.widget-view+json": {
       "model_id": "3912364019ef4b229fc7acc83a72b5ab",
       "version_major": 2,
       "version_minor": 0
      },
      "text/plain": [
       "Epoch 17:   0%|          | 0/119 [00:00<?, ?batch/s]"
      ]
     },
     "metadata": {},
     "output_type": "display_data"
    },
    {
     "name": "stdout",
     "output_type": "stream",
     "text": [
      "Epoch 017\n",
      "TRAIN→ \"R\": RMSE=0.2477 MAE=0.1923 R2=0.2518 | \"B\": Acc=0.6299 Prec=0.3129 Rec=0.4182 F1=0.3579 AUROC=0.5844\n",
      "VALID→ \"R\": RMSE=0.2424 MAE=0.1752 R2=0.2259 | \"B\": Acc=0.6572 Prec=0.3461 Rec=0.5016 F1=0.4096 AUROC=0.6498\n"
     ]
    },
    {
     "data": {
      "application/vnd.jupyter.widget-view+json": {
       "model_id": "86928cf385eb40f18bef810bcaf8e7f7",
       "version_major": 2,
       "version_minor": 0
      },
      "text/plain": [
       "Epoch 18:   0%|          | 0/119 [00:00<?, ?batch/s]"
      ]
     },
     "metadata": {},
     "output_type": "display_data"
    },
    {
     "name": "stdout",
     "output_type": "stream",
     "text": [
      "Epoch 018\n",
      "TRAIN→ \"R\": RMSE=0.2474 MAE=0.1920 R2=0.2535 | \"B\": Acc=0.6216 Prec=0.3105 Rec=0.4374 F1=0.3632 AUROC=0.5845\n",
      "VALID→ \"R\": RMSE=0.2421 MAE=0.1752 R2=0.2280 | \"B\": Acc=0.6518 Prec=0.3464 Rec=0.5288 F1=0.4186 AUROC=0.6531\n"
     ]
    },
    {
     "data": {
      "application/vnd.jupyter.widget-view+json": {
       "model_id": "34d0ee3e707e4621996853700f9e6414",
       "version_major": 2,
       "version_minor": 0
      },
      "text/plain": [
       "Epoch 19:   0%|          | 0/119 [00:00<?, ?batch/s]"
      ]
     },
     "metadata": {},
     "output_type": "display_data"
    },
    {
     "name": "stdout",
     "output_type": "stream",
     "text": [
      "Epoch 019\n",
      "TRAIN→ \"R\": RMSE=0.2472 MAE=0.1917 R2=0.2550 | \"B\": Acc=0.6244 Prec=0.3129 Rec=0.4373 F1=0.3648 AUROC=0.5871\n",
      "VALID→ \"R\": RMSE=0.2417 MAE=0.1752 R2=0.2301 | \"B\": Acc=0.6557 Prec=0.3496 Rec=0.5254 F1=0.4198 AUROC=0.6556\n"
     ]
    },
    {
     "data": {
      "application/vnd.jupyter.widget-view+json": {
       "model_id": "15bd4cd18b78476498d7f3d10cfcea75",
       "version_major": 2,
       "version_minor": 0
      },
      "text/plain": [
       "Epoch 20:   0%|          | 0/119 [00:00<?, ?batch/s]"
      ]
     },
     "metadata": {},
     "output_type": "display_data"
    },
    {
     "name": "stdout",
     "output_type": "stream",
     "text": [
      "Epoch 020\n",
      "TRAIN→ \"R\": RMSE=0.2470 MAE=0.1915 R2=0.2563 | \"B\": Acc=0.6272 Prec=0.3167 Rec=0.4420 F1=0.3690 AUROC=0.5912\n",
      "VALID→ \"R\": RMSE=0.2414 MAE=0.1752 R2=0.2324 | \"B\": Acc=0.6637 Prec=0.3590 Rec=0.5328 F1=0.4290 AUROC=0.6643\n"
     ]
    },
    {
     "data": {
      "application/vnd.jupyter.widget-view+json": {
       "model_id": "c13c1ea2ae4843cb92a67b2bdce39fdb",
       "version_major": 2,
       "version_minor": 0
      },
      "text/plain": [
       "Epoch 21:   0%|          | 0/119 [00:00<?, ?batch/s]"
      ]
     },
     "metadata": {},
     "output_type": "display_data"
    },
    {
     "name": "stdout",
     "output_type": "stream",
     "text": [
      "Epoch 021\n",
      "TRAIN→ \"R\": RMSE=0.2467 MAE=0.1913 R2=0.2576 | \"B\": Acc=0.6316 Prec=0.3209 Rec=0.4422 F1=0.3719 AUROC=0.5954\n",
      "VALID→ \"R\": RMSE=0.2411 MAE=0.1753 R2=0.2345 | \"B\": Acc=0.6602 Prec=0.3589 Rec=0.5508 F1=0.4346 AUROC=0.6672\n"
     ]
    },
    {
     "data": {
      "application/vnd.jupyter.widget-view+json": {
       "model_id": "37a2d194012245718f7045c7deaa9a1e",
       "version_major": 2,
       "version_minor": 0
      },
      "text/plain": [
       "Epoch 22:   0%|          | 0/119 [00:00<?, ?batch/s]"
      ]
     },
     "metadata": {},
     "output_type": "display_data"
    },
    {
     "name": "stdout",
     "output_type": "stream",
     "text": [
      "Epoch 022\n",
      "TRAIN→ \"R\": RMSE=0.2465 MAE=0.1911 R2=0.2588 | \"B\": Acc=0.6330 Prec=0.3238 Rec=0.4486 F1=0.3761 AUROC=0.5996\n",
      "VALID→ \"R\": RMSE=0.2408 MAE=0.1754 R2=0.2361 | \"B\": Acc=0.6655 Prec=0.3640 Rec=0.5497 F1=0.4380 AUROC=0.6707\n"
     ]
    },
    {
     "data": {
      "application/vnd.jupyter.widget-view+json": {
       "model_id": "39b2050b816d4cf59e11cea917833887",
       "version_major": 2,
       "version_minor": 0
      },
      "text/plain": [
       "Epoch 23:   0%|          | 0/119 [00:00<?, ?batch/s]"
      ]
     },
     "metadata": {},
     "output_type": "display_data"
    },
    {
     "name": "stdout",
     "output_type": "stream",
     "text": [
      "Epoch 023\n",
      "TRAIN→ \"R\": RMSE=0.2464 MAE=0.1909 R2=0.2597 | \"B\": Acc=0.6338 Prec=0.3245 Rec=0.4480 F1=0.3764 AUROC=0.5993\n",
      "VALID→ \"R\": RMSE=0.2407 MAE=0.1755 R2=0.2369 | \"B\": Acc=0.6614 Prec=0.3626 Rec=0.5653 F1=0.4418 AUROC=0.6722\n"
     ]
    },
    {
     "data": {
      "application/vnd.jupyter.widget-view+json": {
       "model_id": "47288b5c2a6747eca288191b2422e965",
       "version_major": 2,
       "version_minor": 0
      },
      "text/plain": [
       "Epoch 24:   0%|          | 0/119 [00:00<?, ?batch/s]"
      ]
     },
     "metadata": {},
     "output_type": "display_data"
    },
    {
     "name": "stdout",
     "output_type": "stream",
     "text": [
      "Epoch 024\n",
      "TRAIN→ \"R\": RMSE=0.2463 MAE=0.1909 R2=0.2602 | \"B\": Acc=0.6354 Prec=0.3280 Rec=0.4562 F1=0.3816 AUROC=0.6045\n",
      "VALID→ \"R\": RMSE=0.2405 MAE=0.1756 R2=0.2378 | \"B\": Acc=0.6586 Prec=0.3626 Rec=0.5807 F1=0.4464 AUROC=0.6756\n"
     ]
    },
    {
     "data": {
      "application/vnd.jupyter.widget-view+json": {
       "model_id": "02a028ef4ee74546ba6c9f73c8fbe41f",
       "version_major": 2,
       "version_minor": 0
      },
      "text/plain": [
       "Epoch 25:   0%|          | 0/119 [00:00<?, ?batch/s]"
      ]
     },
     "metadata": {},
     "output_type": "display_data"
    },
    {
     "name": "stdout",
     "output_type": "stream",
     "text": [
      "Epoch 025\n",
      "TRAIN→ \"R\": RMSE=0.2462 MAE=0.1907 R2=0.2609 | \"B\": Acc=0.6373 Prec=0.3308 Rec=0.4598 F1=0.3848 AUROC=0.6081\n",
      "VALID→ \"R\": RMSE=0.2404 MAE=0.1757 R2=0.2387 | \"B\": Acc=0.6614 Prec=0.3647 Rec=0.5765 F1=0.4467 AUROC=0.6767\n"
     ]
    },
    {
     "data": {
      "application/vnd.jupyter.widget-view+json": {
       "model_id": "a6c149ba984446039922531ae0acab21",
       "version_major": 2,
       "version_minor": 0
      },
      "text/plain": [
       "Epoch 26:   0%|          | 0/119 [00:00<?, ?batch/s]"
      ]
     },
     "metadata": {},
     "output_type": "display_data"
    },
    {
     "name": "stdout",
     "output_type": "stream",
     "text": [
      "Epoch 026\n",
      "TRAIN→ \"R\": RMSE=0.2461 MAE=0.1907 R2=0.2614 | \"B\": Acc=0.6361 Prec=0.3301 Rec=0.4616 F1=0.3849 AUROC=0.6071\n",
      "VALID→ \"R\": RMSE=0.2403 MAE=0.1758 R2=0.2390 | \"B\": Acc=0.6590 Prec=0.3645 Rec=0.5896 F1=0.4505 AUROC=0.6793\n"
     ]
    },
    {
     "data": {
      "application/vnd.jupyter.widget-view+json": {
       "model_id": "2acae6f61a244d8f9b2abf2f0eae01c8",
       "version_major": 2,
       "version_minor": 0
      },
      "text/plain": [
       "Epoch 27:   0%|          | 0/119 [00:00<?, ?batch/s]"
      ]
     },
     "metadata": {},
     "output_type": "display_data"
    },
    {
     "name": "stdout",
     "output_type": "stream",
     "text": [
      "Epoch 027\n",
      "TRAIN→ \"R\": RMSE=0.2459 MAE=0.1905 R2=0.2625 | \"B\": Acc=0.6413 Prec=0.3345 Rec=0.4594 F1=0.3872 AUROC=0.6123\n",
      "VALID→ \"R\": RMSE=0.2403 MAE=0.1760 R2=0.2390 | \"B\": Acc=0.6611 Prec=0.3659 Rec=0.5862 F1=0.4506 AUROC=0.6798\n"
     ]
    },
    {
     "data": {
      "application/vnd.jupyter.widget-view+json": {
       "model_id": "345e2f902fde4faabfd549469eab9b7d",
       "version_major": 2,
       "version_minor": 0
      },
      "text/plain": [
       "Epoch 28:   0%|          | 0/119 [00:00<?, ?batch/s]"
      ]
     },
     "metadata": {},
     "output_type": "display_data"
    },
    {
     "name": "stdout",
     "output_type": "stream",
     "text": [
      "Epoch 028\n",
      "TRAIN→ \"R\": RMSE=0.2458 MAE=0.1904 R2=0.2631 | \"B\": Acc=0.6379 Prec=0.3315 Rec=0.4606 F1=0.3855 AUROC=0.6091\n",
      "VALID→ \"R\": RMSE=0.2402 MAE=0.1761 R2=0.2397 | \"B\": Acc=0.6586 Prec=0.3647 Rec=0.5928 F1=0.4516 AUROC=0.6805\n"
     ]
    },
    {
     "data": {
      "application/vnd.jupyter.widget-view+json": {
       "model_id": "71cea1dd01534661bac356ddc72125e2",
       "version_major": 2,
       "version_minor": 0
      },
      "text/plain": [
       "Epoch 29:   0%|          | 0/119 [00:00<?, ?batch/s]"
      ]
     },
     "metadata": {},
     "output_type": "display_data"
    },
    {
     "name": "stdout",
     "output_type": "stream",
     "text": [
      "Epoch 029\n",
      "TRAIN→ \"R\": RMSE=0.2457 MAE=0.1903 R2=0.2636 | \"B\": Acc=0.6404 Prec=0.3357 Rec=0.4681 F1=0.3910 AUROC=0.6146\n",
      "VALID→ \"R\": RMSE=0.2402 MAE=0.1763 R2=0.2401 | \"B\": Acc=0.6585 Prec=0.3664 Rec=0.6041 F1=0.4561 AUROC=0.6842\n"
     ]
    },
    {
     "data": {
      "application/vnd.jupyter.widget-view+json": {
       "model_id": "528393f3648c4d5d9e49064a797f81ac",
       "version_major": 2,
       "version_minor": 0
      },
      "text/plain": [
       "Epoch 30:   0%|          | 0/119 [00:00<?, ?batch/s]"
      ]
     },
     "metadata": {},
     "output_type": "display_data"
    },
    {
     "name": "stdout",
     "output_type": "stream",
     "text": [
      "Epoch 030\n",
      "TRAIN→ \"R\": RMSE=0.2457 MAE=0.1903 R2=0.2640 | \"B\": Acc=0.6381 Prec=0.3348 Rec=0.4736 F1=0.3923 AUROC=0.6149\n",
      "VALID→ \"R\": RMSE=0.2402 MAE=0.1763 R2=0.2397 | \"B\": Acc=0.6559 Prec=0.3647 Rec=0.6084 F1=0.4560 AUROC=0.6841\n"
     ]
    },
    {
     "data": {
      "application/vnd.jupyter.widget-view+json": {
       "model_id": "2a37eda3369346ce98d905fa853e0cfd",
       "version_major": 2,
       "version_minor": 0
      },
      "text/plain": [
       "Epoch 31:   0%|          | 0/119 [00:00<?, ?batch/s]"
      ]
     },
     "metadata": {},
     "output_type": "display_data"
    },
    {
     "name": "stdout",
     "output_type": "stream",
     "text": [
      "Epoch 031\n",
      "TRAIN→ \"R\": RMSE=0.2456 MAE=0.1902 R2=0.2646 | \"B\": Acc=0.6369 Prec=0.3348 Rec=0.4785 F1=0.3940 AUROC=0.6164\n",
      "VALID→ \"R\": RMSE=0.2402 MAE=0.1764 R2=0.2398 | \"B\": Acc=0.6569 Prec=0.3666 Rec=0.6142 F1=0.4591 AUROC=0.6862\n"
     ]
    },
    {
     "data": {
      "application/vnd.jupyter.widget-view+json": {
       "model_id": "cb441b14300d4c168b5a4a58c952356b",
       "version_major": 2,
       "version_minor": 0
      },
      "text/plain": [
       "Epoch 32:   0%|          | 0/119 [00:00<?, ?batch/s]"
      ]
     },
     "metadata": {},
     "output_type": "display_data"
    },
    {
     "name": "stdout",
     "output_type": "stream",
     "text": [
      "Epoch 032\n",
      "TRAIN→ \"R\": RMSE=0.2455 MAE=0.1900 R2=0.2650 | \"B\": Acc=0.6417 Prec=0.3381 Rec=0.4727 F1=0.3942 AUROC=0.6183\n",
      "VALID→ \"R\": RMSE=0.2402 MAE=0.1766 R2=0.2399 | \"B\": Acc=0.6618 Prec=0.3706 Rec=0.6108 F1=0.4613 AUROC=0.6890\n"
     ]
    },
    {
     "data": {
      "application/vnd.jupyter.widget-view+json": {
       "model_id": "5a856e4f186b402ca971c8d310fde4b1",
       "version_major": 2,
       "version_minor": 0
      },
      "text/plain": [
       "Epoch 33:   0%|          | 0/119 [00:00<?, ?batch/s]"
      ]
     },
     "metadata": {},
     "output_type": "display_data"
    },
    {
     "name": "stdout",
     "output_type": "stream",
     "text": [
      "Epoch 033\n",
      "TRAIN→ \"R\": RMSE=0.2455 MAE=0.1901 R2=0.2654 | \"B\": Acc=0.6441 Prec=0.3393 Rec=0.4675 F1=0.3932 AUROC=0.6186\n",
      "VALID→ \"R\": RMSE=0.2402 MAE=0.1766 R2=0.2401 | \"B\": Acc=0.6605 Prec=0.3692 Rec=0.6092 F1=0.4598 AUROC=0.6877\n"
     ]
    },
    {
     "data": {
      "application/vnd.jupyter.widget-view+json": {
       "model_id": "4417f446d8e243beab239484edfb898b",
       "version_major": 2,
       "version_minor": 0
      },
      "text/plain": [
       "Epoch 34:   0%|          | 0/119 [00:00<?, ?batch/s]"
      ]
     },
     "metadata": {},
     "output_type": "display_data"
    },
    {
     "name": "stdout",
     "output_type": "stream",
     "text": [
      "Epoch 034\n",
      "TRAIN→ \"R\": RMSE=0.2454 MAE=0.1899 R2=0.2659 | \"B\": Acc=0.6443 Prec=0.3397 Rec=0.4683 F1=0.3937 AUROC=0.6189\n",
      "VALID→ \"R\": RMSE=0.2402 MAE=0.1767 R2=0.2397 | \"B\": Acc=0.6605 Prec=0.3693 Rec=0.6106 F1=0.4603 AUROC=0.6883\n"
     ]
    },
    {
     "data": {
      "application/vnd.jupyter.widget-view+json": {
       "model_id": "3e8f2efed8ae439d9a8ddb6127bd0186",
       "version_major": 2,
       "version_minor": 0
      },
      "text/plain": [
       "Epoch 35:   0%|          | 0/119 [00:00<?, ?batch/s]"
      ]
     },
     "metadata": {},
     "output_type": "display_data"
    },
    {
     "name": "stdout",
     "output_type": "stream",
     "text": [
      "Epoch 035\n",
      "TRAIN→ \"R\": RMSE=0.2453 MAE=0.1899 R2=0.2664 | \"B\": Acc=0.6448 Prec=0.3404 Rec=0.4694 F1=0.3946 AUROC=0.6198\n",
      "VALID→ \"R\": RMSE=0.2403 MAE=0.1767 R2=0.2392 | \"B\": Acc=0.6621 Prec=0.3719 Rec=0.6174 F1=0.4642 AUROC=0.6922\n"
     ]
    },
    {
     "data": {
      "application/vnd.jupyter.widget-view+json": {
       "model_id": "08269efff91b4abba54912ef7e8656d9",
       "version_major": 2,
       "version_minor": 0
      },
      "text/plain": [
       "Epoch 36:   0%|          | 0/119 [00:00<?, ?batch/s]"
      ]
     },
     "metadata": {},
     "output_type": "display_data"
    },
    {
     "name": "stdout",
     "output_type": "stream",
     "text": [
      "Epoch 036\n",
      "TRAIN→ \"R\": RMSE=0.2452 MAE=0.1898 R2=0.2668 | \"B\": Acc=0.6461 Prec=0.3429 Rec=0.4748 F1=0.3982 AUROC=0.6232\n",
      "VALID→ \"R\": RMSE=0.2404 MAE=0.1767 R2=0.2388 | \"B\": Acc=0.6563 Prec=0.3680 Rec=0.6269 F1=0.4638 AUROC=0.6915\n"
     ]
    },
    {
     "data": {
      "application/vnd.jupyter.widget-view+json": {
       "model_id": "069fa3343bc74fa38f8ccac808a5aff5",
       "version_major": 2,
       "version_minor": 0
      },
      "text/plain": [
       "Epoch 37:   0%|          | 0/119 [00:00<?, ?batch/s]"
      ]
     },
     "metadata": {},
     "output_type": "display_data"
    },
    {
     "name": "stdout",
     "output_type": "stream",
     "text": [
      "Epoch 037\n",
      "TRAIN→ \"R\": RMSE=0.2451 MAE=0.1897 R2=0.2674 | \"B\": Acc=0.6411 Prec=0.3392 Rec=0.4804 F1=0.3977 AUROC=0.6215\n",
      "VALID→ \"R\": RMSE=0.2403 MAE=0.1768 R2=0.2390 | \"B\": Acc=0.6512 Prec=0.3642 Rec=0.6318 F1=0.4620 AUROC=0.6903\n"
     ]
    },
    {
     "data": {
      "application/vnd.jupyter.widget-view+json": {
       "model_id": "8671effa2fc24c4ab76c66779f7b40ff",
       "version_major": 2,
       "version_minor": 0
      },
      "text/plain": [
       "Epoch 38:   0%|          | 0/119 [00:00<?, ?batch/s]"
      ]
     },
     "metadata": {},
     "output_type": "display_data"
    },
    {
     "name": "stdout",
     "output_type": "stream",
     "text": [
      "Epoch 038\n",
      "TRAIN→ \"R\": RMSE=0.2451 MAE=0.1896 R2=0.2677 | \"B\": Acc=0.6426 Prec=0.3400 Rec=0.4772 F1=0.3971 AUROC=0.6221\n",
      "VALID→ \"R\": RMSE=0.2404 MAE=0.1768 R2=0.2388 | \"B\": Acc=0.6596 Prec=0.3706 Rec=0.6241 F1=0.4651 AUROC=0.6934\n"
     ]
    },
    {
     "data": {
      "application/vnd.jupyter.widget-view+json": {
       "model_id": "23104db078f6405f887f1801e2fdac21",
       "version_major": 2,
       "version_minor": 0
      },
      "text/plain": [
       "Epoch 39:   0%|          | 0/119 [00:00<?, ?batch/s]"
      ]
     },
     "metadata": {},
     "output_type": "display_data"
    },
    {
     "name": "stdout",
     "output_type": "stream",
     "text": [
      "Epoch 039\n",
      "TRAIN→ \"R\": RMSE=0.2451 MAE=0.1896 R2=0.2677 | \"B\": Acc=0.6475 Prec=0.3450 Rec=0.4778 F1=0.4007 AUROC=0.6267\n",
      "VALID→ \"R\": RMSE=0.2404 MAE=0.1769 R2=0.2387 | \"B\": Acc=0.6558 Prec=0.3687 Rec=0.6343 F1=0.4664 AUROC=0.6942\n",
      "Early stopping at epoch 39\n",
      "\n",
      "Champion validation RMSE = 0.240170\n",
      "Improvement over zero‐baseline =  42.1%\n",
      "Improvement over mean‐baseline =  12.8%\n"
     ]
    },
    {
     "data": {
      "image/png": "[encoded data removed]",
      "text/plain": [
       "<Figure size 660x440 with 1 Axes>"
      ]
     },
     "metadata": {},
     "output_type": "display_data"
    }
   ],
   "source": [
    "# How many unique trading days does each epoch see?\n",
    "n_days = len(train_loader.dataset)\n",
    "print(f\"Training sees {n_days} unique trading days per epoch.\\n\")\n",
    "\n",
    "# -----------------------------------------------------------------------------\n",
    "# Run the custom stateful training loop\n",
    "# -----------------------------------------------------------------------------\n",
    "best_val_rmse  = models.custom_stateful_training_loop(\n",
    "    model               = model,\n",
    "    optimizer           = optimizer,\n",
    "    cosine_sched        = cosine_sched,\n",
    "    plateau_sched       = plateau_sched,\n",
    "    scaler              = scaler,\n",
    "    train_loader        = train_loader,\n",
    "    val_loader          = val_loader,\n",
    "    max_epochs          = params.hparams['MAX_EPOCHS'],\n",
    "    early_stop_patience = params.hparams['EARLY_STOP_PATIENCE'],\n",
    "    clipnorm            = clipnorm,\n",
    "    device              = params.device\n",
    ")\n",
    "\n",
    "# -----------------------------------------------------------------------------\n",
    "# Final reporting: best RMSE and relative improvement\n",
    "# -----------------------------------------------------------------------------\n",
    "print(f\"\\nChampion validation RMSE = {best_val_rmse:.6f}\")\n",
    "\n",
    "improvement_zero = 100.0 * (1.0 - best_val_rmse / rmse_zero_val)\n",
    "print(f\"Improvement over zero‐baseline = {improvement_zero:5.1f}%\")\n",
    "\n",
    "improvement_mean = 100.0 * (1.0 - best_val_rmse / rmse_mean_val)\n",
    "print(f\"Improvement over mean‐baseline = {improvement_mean:5.1f}%\")\n",
    "\n"
   ]
  },
  {
   "cell_type": "code",
   "execution_count": null,
   "id": "22b25c89-05c3-4a16-b013-97143f173e08",
   "metadata": {},
   "outputs": [],
   "source": []
  }
 ],
 "metadata": {
  "kernelspec": {
   "display_name": "Python 3 (ipykernel)",
   "language": "python",
   "name": "python3"
  },
  "language_info": {
   "codemirror_mode": {
    "name": "ipython",
    "version": 3
   },
   "file_extension": ".py",
   "mimetype": "text/x-python",
   "name": "python",
   "nbconvert_exporter": "python",
   "pygments_lexer": "ipython3",
   "version": "3.12.3"
  }
 },
 "nbformat": 4,
 "nbformat_minor": 5
}
