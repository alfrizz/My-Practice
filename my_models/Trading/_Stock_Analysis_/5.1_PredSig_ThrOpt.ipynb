{
 "cells": [
  {
   "cell_type": "code",
   "execution_count": 1,
   "id": "db53f869-3ce8-4b85-9c38-ba83b86b51b9",
   "metadata": {},
   "outputs": [
    {
     "data": {
      "text/plain": [
       "<module 'libs.models' from '/workspace/my_models/Trading/_Stock_Analysis_/libs/models.py'>"
      ]
     },
     "execution_count": 1,
     "metadata": {},
     "output_type": "execute_result"
    }
   ],
   "source": [
    "# 1) Wipe out all Python variables\n",
    "%reset -f\n",
    "# 2) Force Python’s garbage collector to run\n",
    "import gc\n",
    "gc.collect()\n",
    "\n",
    "import os\n",
    "os.environ[\"OMP_NUM_THREADS\"] = \"1\"\n",
    "os.environ[\"OPENBLAS_NUM_THREADS\"] = \"1\"\n",
    "os.environ[\"MKL_NUM_THREADS\"] = \"1\"\n",
    "os.environ[\"BLIS_NUM_THREADS\"] = \"1\"\n",
    "os.environ[\"VECLIB_MAXIMUM_THREADS\"] = \"1\"\n",
    "os.environ[\"NUMEXPR_NUM_THREADS\"] = \"1\"\n",
    "os.environ[\"OMP_WAIT_POLICY\"] = \"PASSIVE\"\n",
    "\n",
    "import importlib\n",
    "from libs import trades, plots, params, models\n",
    "importlib.reload(trades)\n",
    "importlib.reload(plots)\n",
    "importlib.reload(params)\n",
    "importlib.reload(models)"
   ]
  },
  {
   "cell_type": "code",
   "execution_count": 2,
   "id": "c17c661b-bcae-4bdb-9bd4-6f8018a38d8d",
   "metadata": {},
   "outputs": [],
   "source": [
    "# Turn off interactive plotting globally (we’ll manage our own display)\n",
    "import matplotlib\n",
    "import matplotlib.pyplot as plt\n",
    "plt.ioff()\n",
    "\n",
    "import pandas as pd\n",
    "import numpy as np\n",
    "import math\n",
    "\n",
    "from pathlib import Path\n",
    "import pickle\n",
    "import datetime as dt\n",
    "from datetime import datetime\n",
    "from datetime import time\n",
    "\n",
    "import seaborn as sns\n",
    "from pprint import pprint\n",
    "\n",
    "import torch\n",
    "import torch.nn.functional as Funct\n",
    "from torch.utils.data import Dataset, DataLoader\n",
    "torch.serialization.add_safe_globals([models.DayWindowDataset])\n",
    "\n",
    "from tqdm.auto import tqdm\n",
    "\n",
    "import io\n",
    "import json\n",
    "from PIL import Image\n",
    "import IPython.display as disp\n",
    "\n",
    "import optuna\n",
    "from optuna.trial import TrialState\n",
    "from optuna.importance import get_param_importances\n",
    "from optuna.visualization.matplotlib import plot_optimization_history\n",
    "from optuna.storages import RDBStorage"
   ]
  },
  {
   "cell_type": "code",
   "execution_count": 3,
   "id": "1c9b44fb-0cf5-4b31-8cdf-39d8d587234e",
   "metadata": {},
   "outputs": [],
   "source": [
    "device               = params.device\n",
    "ticker               = params.ticker\n",
    "save_path            = params.save_path\n",
    "\n",
    "sess_start           = params.sess_start\n",
    "sess_end             = params.sess_end\n",
    "\n",
    "n_trials = 200\n",
    "n_jobs = 1"
   ]
  },
  {
   "cell_type": "code",
   "execution_count": 4,
   "id": "71fcfa66-3fa8-4cb4-a040-4e0b5b1804fd",
   "metadata": {},
   "outputs": [
    {
     "data": {
      "text/html": [
       "<div>\n",
       "<style scoped>\n",
       "    .dataframe tbody tr th:only-of-type {\n",
       "        vertical-align: middle;\n",
       "    }\n",
       "\n",
       "    .dataframe tbody tr th {\n",
       "        vertical-align: top;\n",
       "    }\n",
       "\n",
       "    .dataframe thead th {\n",
       "        text-align: right;\n",
       "    }\n",
       "</style>\n",
       "<table border=\"1\" class=\"dataframe\">\n",
       "  <thead>\n",
       "    <tr style=\"text-align: right;\">\n",
       "      <th></th>\n",
       "      <th>open</th>\n",
       "      <th>high</th>\n",
       "      <th>low</th>\n",
       "      <th>close</th>\n",
       "      <th>volume</th>\n",
       "      <th>atr_14</th>\n",
       "      <th>ma_5</th>\n",
       "      <th>ma_20</th>\n",
       "      <th>ma_diff</th>\n",
       "      <th>macd_12_26</th>\n",
       "      <th>...</th>\n",
       "      <th>stoch_d_3</th>\n",
       "      <th>in_trading</th>\n",
       "      <th>hour</th>\n",
       "      <th>day_of_week</th>\n",
       "      <th>month</th>\n",
       "      <th>bid</th>\n",
       "      <th>ask</th>\n",
       "      <th>signal</th>\n",
       "      <th>pred_signal</th>\n",
       "      <th>pred_action</th>\n",
       "    </tr>\n",
       "  </thead>\n",
       "  <tbody>\n",
       "    <tr>\n",
       "      <th>2004-01-02 14:00:00</th>\n",
       "      <td>-0.597963</td>\n",
       "      <td>-0.671685</td>\n",
       "      <td>-0.506250</td>\n",
       "      <td>-0.599867</td>\n",
       "      <td>1.488767</td>\n",
       "      <td>-1.402778</td>\n",
       "      <td>-0.599973</td>\n",
       "      <td>-0.670029</td>\n",
       "      <td>-1.242828e-13</td>\n",
       "      <td>-0.063516</td>\n",
       "      <td>...</td>\n",
       "      <td>-1.561625</td>\n",
       "      <td>0</td>\n",
       "      <td>0.247</td>\n",
       "      <td>-0.976</td>\n",
       "      <td>0.351</td>\n",
       "      <td>0.762810</td>\n",
       "      <td>0.763953</td>\n",
       "      <td>0.448429</td>\n",
       "      <td>0.219018</td>\n",
       "      <td>1</td>\n",
       "    </tr>\n",
       "    <tr>\n",
       "      <th>2004-01-02 14:01:00</th>\n",
       "      <td>-0.605900</td>\n",
       "      <td>-0.678633</td>\n",
       "      <td>-0.515625</td>\n",
       "      <td>-0.607830</td>\n",
       "      <td>1.524218</td>\n",
       "      <td>-1.402778</td>\n",
       "      <td>-0.608131</td>\n",
       "      <td>-0.678800</td>\n",
       "      <td>0.000000e+00</td>\n",
       "      <td>-0.064115</td>\n",
       "      <td>...</td>\n",
       "      <td>-1.561625</td>\n",
       "      <td>0</td>\n",
       "      <td>0.247</td>\n",
       "      <td>-0.976</td>\n",
       "      <td>0.351</td>\n",
       "      <td>0.762794</td>\n",
       "      <td>0.763936</td>\n",
       "      <td>0.488664</td>\n",
       "      <td>0.227014</td>\n",
       "      <td>1</td>\n",
       "    </tr>\n",
       "    <tr>\n",
       "      <th>2004-01-02 14:02:00</th>\n",
       "      <td>-0.613838</td>\n",
       "      <td>-0.685582</td>\n",
       "      <td>-0.525000</td>\n",
       "      <td>-0.615793</td>\n",
       "      <td>1.559669</td>\n",
       "      <td>-1.402778</td>\n",
       "      <td>-0.616288</td>\n",
       "      <td>-0.687570</td>\n",
       "      <td>0.000000e+00</td>\n",
       "      <td>-0.064671</td>\n",
       "      <td>...</td>\n",
       "      <td>-1.561625</td>\n",
       "      <td>0</td>\n",
       "      <td>0.247</td>\n",
       "      <td>-0.976</td>\n",
       "      <td>0.351</td>\n",
       "      <td>0.762777</td>\n",
       "      <td>0.763920</td>\n",
       "      <td>0.532508</td>\n",
       "      <td>0.231574</td>\n",
       "      <td>1</td>\n",
       "    </tr>\n",
       "    <tr>\n",
       "      <th>2004-01-02 14:03:00</th>\n",
       "      <td>-0.621775</td>\n",
       "      <td>-0.692530</td>\n",
       "      <td>-0.534375</td>\n",
       "      <td>-0.623756</td>\n",
       "      <td>1.595119</td>\n",
       "      <td>-1.402778</td>\n",
       "      <td>-0.624446</td>\n",
       "      <td>-0.696341</td>\n",
       "      <td>-1.242828e-13</td>\n",
       "      <td>-0.065186</td>\n",
       "      <td>...</td>\n",
       "      <td>-1.561625</td>\n",
       "      <td>0</td>\n",
       "      <td>0.247</td>\n",
       "      <td>-0.976</td>\n",
       "      <td>0.351</td>\n",
       "      <td>0.762760</td>\n",
       "      <td>0.763903</td>\n",
       "      <td>0.580285</td>\n",
       "      <td>0.239660</td>\n",
       "      <td>1</td>\n",
       "    </tr>\n",
       "    <tr>\n",
       "      <th>2004-01-02 14:04:00</th>\n",
       "      <td>-0.629713</td>\n",
       "      <td>-0.699479</td>\n",
       "      <td>-0.543750</td>\n",
       "      <td>-0.631719</td>\n",
       "      <td>1.630570</td>\n",
       "      <td>-1.402778</td>\n",
       "      <td>-0.632604</td>\n",
       "      <td>-0.705112</td>\n",
       "      <td>-1.242828e-13</td>\n",
       "      <td>-0.065663</td>\n",
       "      <td>...</td>\n",
       "      <td>-1.561625</td>\n",
       "      <td>0</td>\n",
       "      <td>0.247</td>\n",
       "      <td>-0.976</td>\n",
       "      <td>0.351</td>\n",
       "      <td>0.762743</td>\n",
       "      <td>0.763886</td>\n",
       "      <td>0.632348</td>\n",
       "      <td>0.250895</td>\n",
       "      <td>1</td>\n",
       "    </tr>\n",
       "    <tr>\n",
       "      <th>...</th>\n",
       "      <td>...</td>\n",
       "      <td>...</td>\n",
       "      <td>...</td>\n",
       "      <td>...</td>\n",
       "      <td>...</td>\n",
       "      <td>...</td>\n",
       "      <td>...</td>\n",
       "      <td>...</td>\n",
       "      <td>...</td>\n",
       "      <td>...</td>\n",
       "      <td>...</td>\n",
       "      <td>...</td>\n",
       "      <td>...</td>\n",
       "      <td>...</td>\n",
       "      <td>...</td>\n",
       "      <td>...</td>\n",
       "      <td>...</td>\n",
       "      <td>...</td>\n",
       "      <td>...</td>\n",
       "      <td>...</td>\n",
       "      <td>...</td>\n",
       "    </tr>\n",
       "    <tr>\n",
       "      <th>2022-03-28 20:56:00</th>\n",
       "      <td>0.736230</td>\n",
       "      <td>0.747917</td>\n",
       "      <td>0.784043</td>\n",
       "      <td>0.790310</td>\n",
       "      <td>2.263197</td>\n",
       "      <td>0.652514</td>\n",
       "      <td>0.741828</td>\n",
       "      <td>0.738415</td>\n",
       "      <td>2.744130e-01</td>\n",
       "      <td>0.321477</td>\n",
       "      <td>...</td>\n",
       "      <td>1.211724</td>\n",
       "      <td>1</td>\n",
       "      <td>-0.939</td>\n",
       "      <td>0.973</td>\n",
       "      <td>0.979</td>\n",
       "      <td>175.238500</td>\n",
       "      <td>175.501500</td>\n",
       "      <td>0.318801</td>\n",
       "      <td>0.168294</td>\n",
       "      <td>1</td>\n",
       "    </tr>\n",
       "    <tr>\n",
       "      <th>2022-03-28 20:57:00</th>\n",
       "      <td>0.786714</td>\n",
       "      <td>0.797917</td>\n",
       "      <td>0.841489</td>\n",
       "      <td>0.822932</td>\n",
       "      <td>3.136585</td>\n",
       "      <td>0.765180</td>\n",
       "      <td>0.784641</td>\n",
       "      <td>0.743795</td>\n",
       "      <td>7.438394e-01</td>\n",
       "      <td>0.520116</td>\n",
       "      <td>...</td>\n",
       "      <td>1.289475</td>\n",
       "      <td>1</td>\n",
       "      <td>-0.939</td>\n",
       "      <td>0.973</td>\n",
       "      <td>0.979</td>\n",
       "      <td>175.316000</td>\n",
       "      <td>175.579200</td>\n",
       "      <td>0.224585</td>\n",
       "      <td>0.192748</td>\n",
       "      <td>1</td>\n",
       "    </tr>\n",
       "    <tr>\n",
       "      <th>2022-03-28 20:58:00</th>\n",
       "      <td>0.824577</td>\n",
       "      <td>0.839583</td>\n",
       "      <td>0.881915</td>\n",
       "      <td>0.880694</td>\n",
       "      <td>3.910116</td>\n",
       "      <td>0.836338</td>\n",
       "      <td>0.825969</td>\n",
       "      <td>0.753591</td>\n",
       "      <td>1.139913e+00</td>\n",
       "      <td>0.770887</td>\n",
       "      <td>...</td>\n",
       "      <td>1.438055</td>\n",
       "      <td>1</td>\n",
       "      <td>-0.939</td>\n",
       "      <td>0.973</td>\n",
       "      <td>0.979</td>\n",
       "      <td>175.453300</td>\n",
       "      <td>175.716700</td>\n",
       "      <td>0.008583</td>\n",
       "      <td>0.200804</td>\n",
       "      <td>1</td>\n",
       "    </tr>\n",
       "    <tr>\n",
       "      <th>2022-03-28 20:59:00</th>\n",
       "      <td>0.881372</td>\n",
       "      <td>0.897917</td>\n",
       "      <td>0.911702</td>\n",
       "      <td>0.882796</td>\n",
       "      <td>9.226442</td>\n",
       "      <td>0.943074</td>\n",
       "      <td>0.855498</td>\n",
       "      <td>0.762535</td>\n",
       "      <td>1.398787e+00</td>\n",
       "      <td>0.960884</td>\n",
       "      <td>...</td>\n",
       "      <td>1.284055</td>\n",
       "      <td>1</td>\n",
       "      <td>-0.939</td>\n",
       "      <td>0.973</td>\n",
       "      <td>0.979</td>\n",
       "      <td>175.458300</td>\n",
       "      <td>175.721700</td>\n",
       "      <td>0.000000</td>\n",
       "      <td>0.217608</td>\n",
       "      <td>1</td>\n",
       "    </tr>\n",
       "    <tr>\n",
       "      <th>2022-03-28 21:00:00</th>\n",
       "      <td>0.887683</td>\n",
       "      <td>0.843750</td>\n",
       "      <td>0.911702</td>\n",
       "      <td>0.865980</td>\n",
       "      <td>4.323623</td>\n",
       "      <td>0.788899</td>\n",
       "      <td>0.882260</td>\n",
       "      <td>0.773077</td>\n",
       "      <td>1.603213e+00</td>\n",
       "      <td>1.067536</td>\n",
       "      <td>...</td>\n",
       "      <td>1.148916</td>\n",
       "      <td>0</td>\n",
       "      <td>-0.960</td>\n",
       "      <td>0.973</td>\n",
       "      <td>0.979</td>\n",
       "      <td>175.418300</td>\n",
       "      <td>175.681700</td>\n",
       "      <td>0.000000</td>\n",
       "      <td>0.205236</td>\n",
       "      <td>1</td>\n",
       "    </tr>\n",
       "  </tbody>\n",
       "</table>\n",
       "<p>1930082 rows × 31 columns</p>\n",
       "</div>"
      ],
      "text/plain": [
       "                         open      high       low     close    volume  \\\n",
       "2004-01-02 14:00:00 -0.597963 -0.671685 -0.506250 -0.599867  1.488767   \n",
       "2004-01-02 14:01:00 -0.605900 -0.678633 -0.515625 -0.607830  1.524218   \n",
       "2004-01-02 14:02:00 -0.613838 -0.685582 -0.525000 -0.615793  1.559669   \n",
       "2004-01-02 14:03:00 -0.621775 -0.692530 -0.534375 -0.623756  1.595119   \n",
       "2004-01-02 14:04:00 -0.629713 -0.699479 -0.543750 -0.631719  1.630570   \n",
       "...                       ...       ...       ...       ...       ...   \n",
       "2022-03-28 20:56:00  0.736230  0.747917  0.784043  0.790310  2.263197   \n",
       "2022-03-28 20:57:00  0.786714  0.797917  0.841489  0.822932  3.136585   \n",
       "2022-03-28 20:58:00  0.824577  0.839583  0.881915  0.880694  3.910116   \n",
       "2022-03-28 20:59:00  0.881372  0.897917  0.911702  0.882796  9.226442   \n",
       "2022-03-28 21:00:00  0.887683  0.843750  0.911702  0.865980  4.323623   \n",
       "\n",
       "                       atr_14      ma_5     ma_20       ma_diff  macd_12_26  \\\n",
       "2004-01-02 14:00:00 -1.402778 -0.599973 -0.670029 -1.242828e-13   -0.063516   \n",
       "2004-01-02 14:01:00 -1.402778 -0.608131 -0.678800  0.000000e+00   -0.064115   \n",
       "2004-01-02 14:02:00 -1.402778 -0.616288 -0.687570  0.000000e+00   -0.064671   \n",
       "2004-01-02 14:03:00 -1.402778 -0.624446 -0.696341 -1.242828e-13   -0.065186   \n",
       "2004-01-02 14:04:00 -1.402778 -0.632604 -0.705112 -1.242828e-13   -0.065663   \n",
       "...                       ...       ...       ...           ...         ...   \n",
       "2022-03-28 20:56:00  0.652514  0.741828  0.738415  2.744130e-01    0.321477   \n",
       "2022-03-28 20:57:00  0.765180  0.784641  0.743795  7.438394e-01    0.520116   \n",
       "2022-03-28 20:58:00  0.836338  0.825969  0.753591  1.139913e+00    0.770887   \n",
       "2022-03-28 20:59:00  0.943074  0.855498  0.762535  1.398787e+00    0.960884   \n",
       "2022-03-28 21:00:00  0.788899  0.882260  0.773077  1.603213e+00    1.067536   \n",
       "\n",
       "                     ...  stoch_d_3  in_trading   hour  day_of_week  month  \\\n",
       "2004-01-02 14:00:00  ...  -1.561625           0  0.247       -0.976  0.351   \n",
       "2004-01-02 14:01:00  ...  -1.561625           0  0.247       -0.976  0.351   \n",
       "2004-01-02 14:02:00  ...  -1.561625           0  0.247       -0.976  0.351   \n",
       "2004-01-02 14:03:00  ...  -1.561625           0  0.247       -0.976  0.351   \n",
       "2004-01-02 14:04:00  ...  -1.561625           0  0.247       -0.976  0.351   \n",
       "...                  ...        ...         ...    ...          ...    ...   \n",
       "2022-03-28 20:56:00  ...   1.211724           1 -0.939        0.973  0.979   \n",
       "2022-03-28 20:57:00  ...   1.289475           1 -0.939        0.973  0.979   \n",
       "2022-03-28 20:58:00  ...   1.438055           1 -0.939        0.973  0.979   \n",
       "2022-03-28 20:59:00  ...   1.284055           1 -0.939        0.973  0.979   \n",
       "2022-03-28 21:00:00  ...   1.148916           0 -0.960        0.973  0.979   \n",
       "\n",
       "                            bid         ask    signal  pred_signal  \\\n",
       "2004-01-02 14:00:00    0.762810    0.763953  0.448429     0.219018   \n",
       "2004-01-02 14:01:00    0.762794    0.763936  0.488664     0.227014   \n",
       "2004-01-02 14:02:00    0.762777    0.763920  0.532508     0.231574   \n",
       "2004-01-02 14:03:00    0.762760    0.763903  0.580285     0.239660   \n",
       "2004-01-02 14:04:00    0.762743    0.763886  0.632348     0.250895   \n",
       "...                         ...         ...       ...          ...   \n",
       "2022-03-28 20:56:00  175.238500  175.501500  0.318801     0.168294   \n",
       "2022-03-28 20:57:00  175.316000  175.579200  0.224585     0.192748   \n",
       "2022-03-28 20:58:00  175.453300  175.716700  0.008583     0.200804   \n",
       "2022-03-28 20:59:00  175.458300  175.721700  0.000000     0.217608   \n",
       "2022-03-28 21:00:00  175.418300  175.681700  0.000000     0.205236   \n",
       "\n",
       "                     pred_action  \n",
       "2004-01-02 14:00:00            1  \n",
       "2004-01-02 14:01:00            1  \n",
       "2004-01-02 14:02:00            1  \n",
       "2004-01-02 14:03:00            1  \n",
       "2004-01-02 14:04:00            1  \n",
       "...                          ...  \n",
       "2022-03-28 20:56:00            1  \n",
       "2022-03-28 20:57:00            1  \n",
       "2022-03-28 20:58:00            1  \n",
       "2022-03-28 20:59:00            1  \n",
       "2022-03-28 21:00:00            1  \n",
       "\n",
       "[1930082 rows x 31 columns]"
      ]
     },
     "execution_count": 4,
     "metadata": {},
     "output_type": "execute_result"
    }
   ],
   "source": [
    "df_trainval = pd.read_csv(params.trainval_csv, index_col=0, parse_dates=True)\n",
    "df_trainval"
   ]
  },
  {
   "cell_type": "code",
   "execution_count": 5,
   "id": "be4dba81-a36a-4516-9fec-8f12bf448841",
   "metadata": {},
   "outputs": [],
   "source": [
    "# Flatten out pandas so we can index by numpy arrays\n",
    "signals    = df_trainval[\"pred_signal\"].to_numpy(dtype=float)\n",
    "closes     = df_trainval[\"close\"].to_numpy(dtype=float)\n",
    "bids       = df_trainval[\"bid\"].to_numpy(float)  \n",
    "asks       = df_trainval[\"ask\"].to_numpy(float)  \n",
    "timestamps = df_trainval.index.to_numpy(dtype=\"datetime64[ns]\")\n",
    "\n",
    "# Build a list of (day, positions) for fast slicing\n",
    "normed      = df_trainval.index.normalize().to_numpy(dtype=\"datetime64[ns]\")\n",
    "unique_days = np.unique(normed)\n",
    "day_positions = [\n",
    "    (day, np.flatnonzero(normed == day))\n",
    "    for day in unique_days\n",
    "]"
   ]
  },
  {
   "cell_type": "code",
   "execution_count": 6,
   "id": "c6928790-e921-4f21-ba20-65fb08282adb",
   "metadata": {},
   "outputs": [],
   "source": [
    "def objective(trial):\n",
    "    # 1) Suggest your hyperparameters\n",
    "    pred_threshold     = trial.suggest_float(\"pred_threshold\",     0.05, 0.95)\n",
    "    trailing_stop_pred = trial.suggest_float(\"trailing_stop_pred\", 0.01, 0.1)\n",
    "    stats_list = []\n",
    "\n",
    "    # 2) Loop day by day, report intermediate P&L to Optuna\n",
    "    for step, (day, idxs) in enumerate(tqdm(day_positions, desc=\"Gen+Sim\", leave=False), start=1):\n",
    "        # Slice out one day of signals & closes\n",
    "        df_day = pd.DataFrame(\n",
    "            {\n",
    "                \"pred_signal\": signals[idxs],\n",
    "                \"close\"      : closes[idxs],\n",
    "                \"bid\"        : bids[idxs],    \n",
    "                \"ask\"        : asks[idxs]\n",
    "            },\n",
    "            index=pd.DatetimeIndex(timestamps[idxs])\n",
    "        )\n",
    "\n",
    "        # Generate actions and simulate\n",
    "        df_actions = trades.generate_trade_actions(\n",
    "            df               = df_day,\n",
    "            col_signal       = \"pred_signal\",\n",
    "            col_action       = \"pred_action\",\n",
    "            buy_threshold    = pred_threshold,\n",
    "            trailing_stop_pct= trailing_stop_pred,\n",
    "            sess_start       = params.sess_start\n",
    "        )\n",
    "        one_day_res = trades.simulate_trading(\n",
    "            results_by_day_sign={day: (df_actions, [])},\n",
    "            col_action         =\"pred_action\",\n",
    "            sess_start         = params.sess_start,\n",
    "            sess_end           = params.sess_end,\n",
    "            ticker             = params.ticker\n",
    "        )\n",
    "\n",
    "        # Extract stats\n",
    "        _, _, stats = next(iter(one_day_res.values()))\n",
    "        stats_list.append(stats)\n",
    "\n",
    "        # Report day’s P&L for pruning (optional)\n",
    "        day_pnl = stats[\"Strategy Return ($)\"]\n",
    "        trial.report(day_pnl, step)\n",
    "        if trial.should_prune():\n",
    "            raise optuna.TrialPruned()\n",
    "\n",
    "    # 3) Aggregate metrics\n",
    "    returns      = [s[\"Strategy Return ($)\"] for s in stats_list]\n",
    "    total_pnl    = sum(returns)\n",
    "    avg_daily_pnl= total_pnl / len(returns) if returns else 0.0\n",
    "\n",
    "    return avg_daily_pnl\n"
   ]
  },
  {
   "cell_type": "code",
   "execution_count": 7,
   "id": "5b3f29cf-54e9-4d2d-95ca-9325f20c0c81",
   "metadata": {},
   "outputs": [
    {
     "name": "stderr",
     "output_type": "stream",
     "text": [
      "[I 2025-08-25 10:50:34,794] A new study created in RDB with name: no-name-2422508f-d3ce-4d7c-96f9-d640a7d6483b\n"
     ]
    },
    {
     "data": {
      "application/vnd.jupyter.widget-view+json": {
       "model_id": "f4ca741ef6b54e77911d83c609194df6",
       "version_major": 2,
       "version_minor": 0
      },
      "text/plain": [
       "Gen+Sim:   0%|          | 0/4591 [00:00<?, ?it/s]"
      ]
     },
     "metadata": {},
     "output_type": "display_data"
    },
    {
     "name": "stderr",
     "output_type": "stream",
     "text": [
      "[I 2025-08-25 10:56:27,679] Trial 0 finished with value: -0.01931823132215207 and parameters: {'pred_threshold': 0.2767016676383925, 'trailing_stop_pred': 0.04061589670604261}. Best is trial 0 with value: -0.01931823132215207.\n"
     ]
    },
    {
     "data": {
      "image/png": "[encoded data removed]",
      "text/plain": [
       "<Figure size 700x300 with 1 Axes>"
      ]
     },
     "metadata": {},
     "output_type": "display_data"
    },
    {
     "data": {
      "application/vnd.jupyter.widget-view+json": {
       "model_id": "0c429fb7b186488e9563b3767596a7a6",
       "version_major": 2,
       "version_minor": 0
      },
      "text/plain": [
       "Gen+Sim:   0%|          | 0/4591 [00:00<?, ?it/s]"
      ]
     },
     "metadata": {},
     "output_type": "display_data"
    },
    {
     "name": "stderr",
     "output_type": "stream",
     "text": [
      "[I 2025-08-25 11:02:08,574] Trial 1 finished with value: -0.006322805489000182 and parameters: {'pred_threshold': 0.326017479568615, 'trailing_stop_pred': 0.0567797557050633}. Best is trial 1 with value: -0.006322805489000182.\n"
     ]
    },
    {
     "data": {
      "application/vnd.jupyter.widget-view+json": {
       "model_id": "6acdc43e09fc405ba3a003e6df656c96",
       "version_major": 2,
       "version_minor": 0
      },
      "text/plain": [
       "Gen+Sim:   0%|          | 0/4591 [00:00<?, ?it/s]"
      ]
     },
     "metadata": {},
     "output_type": "display_data"
    },
    {
     "name": "stderr",
     "output_type": "stream",
     "text": [
      "[I 2025-08-25 11:07:51,330] Trial 2 finished with value: -0.007368547157482003 and parameters: {'pred_threshold': 0.334327750777924, 'trailing_stop_pred': 0.06801419472700902}. Best is trial 1 with value: -0.006322805489000182.\n"
     ]
    },
    {
     "data": {
      "application/vnd.jupyter.widget-view+json": {
       "model_id": "930db0256b0748bea531d140e9736e7c",
       "version_major": 2,
       "version_minor": 0
      },
      "text/plain": [
       "Gen+Sim:   0%|          | 0/4591 [00:00<?, ?it/s]"
      ]
     },
     "metadata": {},
     "output_type": "display_data"
    },
    {
     "name": "stderr",
     "output_type": "stream",
     "text": [
      "[I 2025-08-25 11:13:54,334] Trial 3 finished with value: -0.12256523633195388 and parameters: {'pred_threshold': 0.18541574525001603, 'trailing_stop_pred': 0.07224373847714283}. Best is trial 1 with value: -0.006322805489000182.\n"
     ]
    },
    {
     "data": {
      "application/vnd.jupyter.widget-view+json": {
       "model_id": "91142887cd4d46ef9ed52f8de51a2920",
       "version_major": 2,
       "version_minor": 0
      },
      "text/plain": [
       "Gen+Sim:   0%|          | 0/4591 [00:00<?, ?it/s]"
      ]
     },
     "metadata": {},
     "output_type": "display_data"
    },
    {
     "name": "stderr",
     "output_type": "stream",
     "text": [
      "Exception ignored in: <bound method IPythonKernel._clean_thread_parent_frames of <ipykernel.ipkernel.IPythonKernel object at 0x7b3f144924b0>>\n",
      "Traceback (most recent call last):\n",
      "  File \"/usr/local/lib/python3.12/dist-packages/ipykernel/ipkernel.py\", line 775, in _clean_thread_parent_frames\n",
      "    def _clean_thread_parent_frames(\n",
      "\n",
      "KeyboardInterrupt: \n",
      "[I 2025-08-25 11:19:56,196] Trial 4 finished with value: 0.0030705728599433636 and parameters: {'pred_threshold': 0.5378948616061014, 'trailing_stop_pred': 0.07261187294635023}. Best is trial 4 with value: 0.0030705728599433636.\n"
     ]
    },
    {
     "data": {
      "application/vnd.jupyter.widget-view+json": {
       "model_id": "4f7a458879dc47cca60f6dca2bb22ce2",
       "version_major": 2,
       "version_minor": 0
      },
      "text/plain": [
       "Gen+Sim:   0%|          | 0/4591 [00:00<?, ?it/s]"
      ]
     },
     "metadata": {},
     "output_type": "display_data"
    },
    {
     "name": "stderr",
     "output_type": "stream",
     "text": [
      "[I 2025-08-25 11:25:41,599] Trial 5 finished with value: 0.0035828795469396695 and parameters: {'pred_threshold': 0.6851005774083047, 'trailing_stop_pred': 0.040989997426626706}. Best is trial 5 with value: 0.0035828795469396695.\n"
     ]
    },
    {
     "data": {
      "application/vnd.jupyter.widget-view+json": {
       "model_id": "a242d4b898e8442f8075a7e4d8b1561a",
       "version_major": 2,
       "version_minor": 0
      },
      "text/plain": [
       "Gen+Sim:   0%|          | 0/4591 [00:00<?, ?it/s]"
      ]
     },
     "metadata": {},
     "output_type": "display_data"
    },
    {
     "name": "stderr",
     "output_type": "stream",
     "text": [
      "[I 2025-08-25 11:25:48,266] Trial 6 pruned. \n"
     ]
    },
    {
     "data": {
      "application/vnd.jupyter.widget-view+json": {
       "model_id": "91cfaffe97b34b42b5321def318b7644",
       "version_major": 2,
       "version_minor": 0
      },
      "text/plain": [
       "Gen+Sim:   0%|          | 0/4591 [00:00<?, ?it/s]"
      ]
     },
     "metadata": {},
     "output_type": "display_data"
    },
    {
     "name": "stderr",
     "output_type": "stream",
     "text": [
      "[I 2025-08-25 11:25:49,175] Trial 7 pruned. \n"
     ]
    },
    {
     "data": {
      "application/vnd.jupyter.widget-view+json": {
       "model_id": "ea11a2ceb0134a01b3f97b051483881c",
       "version_major": 2,
       "version_minor": 0
      },
      "text/plain": [
       "Gen+Sim:   0%|          | 0/4591 [00:00<?, ?it/s]"
      ]
     },
     "metadata": {},
     "output_type": "display_data"
    },
    {
     "name": "stderr",
     "output_type": "stream",
     "text": [
      "[I 2025-08-25 11:27:32,993] Trial 8 pruned. \n"
     ]
    },
    {
     "data": {
      "application/vnd.jupyter.widget-view+json": {
       "model_id": "caad86f8c48e46ebb732260ed6793a59",
       "version_major": 2,
       "version_minor": 0
      },
      "text/plain": [
       "Gen+Sim:   0%|          | 0/4591 [00:00<?, ?it/s]"
      ]
     },
     "metadata": {},
     "output_type": "display_data"
    },
    {
     "name": "stderr",
     "output_type": "stream",
     "text": [
      "[I 2025-08-25 11:27:33,959] Trial 9 pruned. \n"
     ]
    },
    {
     "data": {
      "application/vnd.jupyter.widget-view+json": {
       "model_id": "6c4a458a631d41b7bf55a299deafc327",
       "version_major": 2,
       "version_minor": 0
      },
      "text/plain": [
       "Gen+Sim:   0%|          | 0/4591 [00:00<?, ?it/s]"
      ]
     },
     "metadata": {},
     "output_type": "display_data"
    },
    {
     "name": "stderr",
     "output_type": "stream",
     "text": [
      "[I 2025-08-25 11:27:34,868] Trial 10 pruned. \n"
     ]
    },
    {
     "data": {
      "application/vnd.jupyter.widget-view+json": {
       "model_id": "1f6208d5d21a457eaa736fc19a46fd76",
       "version_major": 2,
       "version_minor": 0
      },
      "text/plain": [
       "Gen+Sim:   0%|          | 0/4591 [00:00<?, ?it/s]"
      ]
     },
     "metadata": {},
     "output_type": "display_data"
    },
    {
     "name": "stderr",
     "output_type": "stream",
     "text": [
      "[I 2025-08-25 11:27:35,735] Trial 11 pruned. \n"
     ]
    },
    {
     "data": {
      "application/vnd.jupyter.widget-view+json": {
       "model_id": "67cf590f7a854708928b281c2e73956d",
       "version_major": 2,
       "version_minor": 0
      },
      "text/plain": [
       "Gen+Sim:   0%|          | 0/4591 [00:00<?, ?it/s]"
      ]
     },
     "metadata": {},
     "output_type": "display_data"
    },
    {
     "name": "stderr",
     "output_type": "stream",
     "text": [
      "[I 2025-08-25 11:27:36,630] Trial 12 pruned. \n"
     ]
    },
    {
     "data": {
      "application/vnd.jupyter.widget-view+json": {
       "model_id": "95fdaff1714a4f409df148fdfd0531e2",
       "version_major": 2,
       "version_minor": 0
      },
      "text/plain": [
       "Gen+Sim:   0%|          | 0/4591 [00:00<?, ?it/s]"
      ]
     },
     "metadata": {},
     "output_type": "display_data"
    },
    {
     "name": "stderr",
     "output_type": "stream",
     "text": [
      "[I 2025-08-25 11:27:37,563] Trial 13 pruned. \n"
     ]
    },
    {
     "data": {
      "application/vnd.jupyter.widget-view+json": {
       "model_id": "15c3929128454522b51d5387329765f5",
       "version_major": 2,
       "version_minor": 0
      },
      "text/plain": [
       "Gen+Sim:   0%|          | 0/4591 [00:00<?, ?it/s]"
      ]
     },
     "metadata": {},
     "output_type": "display_data"
    },
    {
     "name": "stderr",
     "output_type": "stream",
     "text": [
      "[I 2025-08-25 11:27:38,638] Trial 14 pruned. \n"
     ]
    },
    {
     "data": {
      "application/vnd.jupyter.widget-view+json": {
       "model_id": "86837f16dfc946f69937d355b6eb7303",
       "version_major": 2,
       "version_minor": 0
      },
      "text/plain": [
       "Gen+Sim:   0%|          | 0/4591 [00:00<?, ?it/s]"
      ]
     },
     "metadata": {},
     "output_type": "display_data"
    },
    {
     "name": "stderr",
     "output_type": "stream",
     "text": [
      "[I 2025-08-25 11:28:18,761] Trial 15 pruned. \n"
     ]
    },
    {
     "data": {
      "application/vnd.jupyter.widget-view+json": {
       "model_id": "637a3d58d21848d799bd7d86b5ee8be5",
       "version_major": 2,
       "version_minor": 0
      },
      "text/plain": [
       "Gen+Sim:   0%|          | 0/4591 [00:00<?, ?it/s]"
      ]
     },
     "metadata": {},
     "output_type": "display_data"
    },
    {
     "name": "stderr",
     "output_type": "stream",
     "text": [
      "[I 2025-08-25 11:28:19,592] Trial 16 pruned. \n"
     ]
    },
    {
     "data": {
      "application/vnd.jupyter.widget-view+json": {
       "model_id": "119ebc01bb784211a069cd1df712d0f8",
       "version_major": 2,
       "version_minor": 0
      },
      "text/plain": [
       "Gen+Sim:   0%|          | 0/4591 [00:00<?, ?it/s]"
      ]
     },
     "metadata": {},
     "output_type": "display_data"
    },
    {
     "name": "stderr",
     "output_type": "stream",
     "text": [
      "[I 2025-08-25 11:28:20,492] Trial 17 pruned. \n"
     ]
    },
    {
     "data": {
      "application/vnd.jupyter.widget-view+json": {
       "model_id": "879efd5078f94474bbac92342cfaaa7a",
       "version_major": 2,
       "version_minor": 0
      },
      "text/plain": [
       "Gen+Sim:   0%|          | 0/4591 [00:00<?, ?it/s]"
      ]
     },
     "metadata": {},
     "output_type": "display_data"
    },
    {
     "name": "stderr",
     "output_type": "stream",
     "text": [
      "[I 2025-08-25 11:28:21,384] Trial 18 pruned. \n"
     ]
    },
    {
     "data": {
      "application/vnd.jupyter.widget-view+json": {
       "model_id": "af885b784e034418a44fa2d9e3698e7e",
       "version_major": 2,
       "version_minor": 0
      },
      "text/plain": [
       "Gen+Sim:   0%|          | 0/4591 [00:00<?, ?it/s]"
      ]
     },
     "metadata": {},
     "output_type": "display_data"
    },
    {
     "name": "stderr",
     "output_type": "stream",
     "text": [
      "[I 2025-08-25 11:28:22,414] Trial 19 pruned. \n"
     ]
    },
    {
     "data": {
      "application/vnd.jupyter.widget-view+json": {
       "model_id": "02a1f88049384348892d41c730c18d92",
       "version_major": 2,
       "version_minor": 0
      },
      "text/plain": [
       "Gen+Sim:   0%|          | 0/4591 [00:00<?, ?it/s]"
      ]
     },
     "metadata": {},
     "output_type": "display_data"
    },
    {
     "name": "stderr",
     "output_type": "stream",
     "text": [
      "[I 2025-08-25 11:28:23,293] Trial 20 pruned. \n"
     ]
    },
    {
     "data": {
      "application/vnd.jupyter.widget-view+json": {
       "model_id": "f6b51ca1fb7f4f1392cdcfebfe886432",
       "version_major": 2,
       "version_minor": 0
      },
      "text/plain": [
       "Gen+Sim:   0%|          | 0/4591 [00:00<?, ?it/s]"
      ]
     },
     "metadata": {},
     "output_type": "display_data"
    },
    {
     "name": "stderr",
     "output_type": "stream",
     "text": [
      "[I 2025-08-25 11:28:30,871] Trial 21 pruned. \n"
     ]
    },
    {
     "data": {
      "application/vnd.jupyter.widget-view+json": {
       "model_id": "bb3d1f6082624e218e5f5114e8ddd6ec",
       "version_major": 2,
       "version_minor": 0
      },
      "text/plain": [
       "Gen+Sim:   0%|          | 0/4591 [00:00<?, ?it/s]"
      ]
     },
     "metadata": {},
     "output_type": "display_data"
    },
    {
     "name": "stderr",
     "output_type": "stream",
     "text": [
      "[I 2025-08-25 11:28:31,717] Trial 22 pruned. \n"
     ]
    },
    {
     "data": {
      "application/vnd.jupyter.widget-view+json": {
       "model_id": "0fbaa42562d04b138a9e6e3d9351d0ad",
       "version_major": 2,
       "version_minor": 0
      },
      "text/plain": [
       "Gen+Sim:   0%|          | 0/4591 [00:00<?, ?it/s]"
      ]
     },
     "metadata": {},
     "output_type": "display_data"
    },
    {
     "name": "stderr",
     "output_type": "stream",
     "text": [
      "[I 2025-08-25 11:28:32,624] Trial 23 pruned. \n"
     ]
    },
    {
     "data": {
      "application/vnd.jupyter.widget-view+json": {
       "model_id": "7133559ce76f4318a09aebfad99ba4f0",
       "version_major": 2,
       "version_minor": 0
      },
      "text/plain": [
       "Gen+Sim:   0%|          | 0/4591 [00:00<?, ?it/s]"
      ]
     },
     "metadata": {},
     "output_type": "display_data"
    },
    {
     "name": "stderr",
     "output_type": "stream",
     "text": [
      "[I 2025-08-25 11:28:39,363] Trial 24 pruned. \n"
     ]
    },
    {
     "data": {
      "application/vnd.jupyter.widget-view+json": {
       "model_id": "aca79f92b80b47b1a81c2c7601f4ee87",
       "version_major": 2,
       "version_minor": 0
      },
      "text/plain": [
       "Gen+Sim:   0%|          | 0/4591 [00:00<?, ?it/s]"
      ]
     },
     "metadata": {},
     "output_type": "display_data"
    },
    {
     "name": "stderr",
     "output_type": "stream",
     "text": [
      "[I 2025-08-25 11:29:16,872] Trial 25 pruned. \n"
     ]
    },
    {
     "data": {
      "application/vnd.jupyter.widget-view+json": {
       "model_id": "f7320e73e99d4930ab0c7d6cd5f06ac3",
       "version_major": 2,
       "version_minor": 0
      },
      "text/plain": [
       "Gen+Sim:   0%|          | 0/4591 [00:00<?, ?it/s]"
      ]
     },
     "metadata": {},
     "output_type": "display_data"
    },
    {
     "name": "stderr",
     "output_type": "stream",
     "text": [
      "[I 2025-08-25 11:29:17,760] Trial 26 pruned. \n"
     ]
    },
    {
     "data": {
      "application/vnd.jupyter.widget-view+json": {
       "model_id": "b298321694f8497987c729722b1fcab5",
       "version_major": 2,
       "version_minor": 0
      },
      "text/plain": [
       "Gen+Sim:   0%|          | 0/4591 [00:00<?, ?it/s]"
      ]
     },
     "metadata": {},
     "output_type": "display_data"
    },
    {
     "name": "stderr",
     "output_type": "stream",
     "text": [
      "[I 2025-08-25 11:29:58,456] Trial 27 pruned. \n"
     ]
    },
    {
     "data": {
      "application/vnd.jupyter.widget-view+json": {
       "model_id": "a7ebc63b5a5144228b2a0f0f621e4538",
       "version_major": 2,
       "version_minor": 0
      },
      "text/plain": [
       "Gen+Sim:   0%|          | 0/4591 [00:00<?, ?it/s]"
      ]
     },
     "metadata": {},
     "output_type": "display_data"
    },
    {
     "name": "stderr",
     "output_type": "stream",
     "text": [
      "Exception ignored in: <bound method IPythonKernel._clean_thread_parent_frames of <ipykernel.ipkernel.IPythonKernel object at 0x7b3f144924b0>>\n",
      "Traceback (most recent call last):\n",
      "  File \"/usr/local/lib/python3.12/dist-packages/ipykernel/ipkernel.py\", line 775, in _clean_thread_parent_frames\n",
      "    def _clean_thread_parent_frames(\n",
      "\n",
      "KeyboardInterrupt: \n"
     ]
    },
    {
     "ename": "UnboundLocalError",
     "evalue": "cannot access local variable 'frozen_trial' where it is not associated with a value",
     "output_type": "error",
     "traceback": [
      "\u001b[0;31m---------------------------------------------------------------------------\u001b[0m",
      "\u001b[0;31mOperationalError\u001b[0m                          Traceback (most recent call last)",
      "File \u001b[0;32m/usr/local/lib/python3.12/dist-packages/sqlalchemy/engine/base.py:1139\u001b[0m, in \u001b[0;36mConnection._commit_impl\u001b[0;34m(self)\u001b[0m\n\u001b[1;32m   1138\u001b[0m \u001b[38;5;28;01mtry\u001b[39;00m:\n\u001b[0;32m-> 1139\u001b[0m     \u001b[38;5;28;43mself\u001b[39;49m\u001b[38;5;241;43m.\u001b[39;49m\u001b[43mengine\u001b[49m\u001b[38;5;241;43m.\u001b[39;49m\u001b[43mdialect\u001b[49m\u001b[38;5;241;43m.\u001b[39;49m\u001b[43mdo_commit\u001b[49m\u001b[43m(\u001b[49m\u001b[38;5;28;43mself\u001b[39;49m\u001b[38;5;241;43m.\u001b[39;49m\u001b[43mconnection\u001b[49m\u001b[43m)\u001b[49m\n\u001b[1;32m   1140\u001b[0m \u001b[38;5;28;01mexcept\u001b[39;00m \u001b[38;5;167;01mBaseException\u001b[39;00m \u001b[38;5;28;01mas\u001b[39;00m e:\n",
      "File \u001b[0;32m/usr/local/lib/python3.12/dist-packages/sqlalchemy/engine/default.py:707\u001b[0m, in \u001b[0;36mDefaultDialect.do_commit\u001b[0;34m(self, dbapi_connection)\u001b[0m\n\u001b[1;32m    706\u001b[0m \u001b[38;5;28;01mdef\u001b[39;00m\u001b[38;5;250m \u001b[39m\u001b[38;5;21mdo_commit\u001b[39m(\u001b[38;5;28mself\u001b[39m, dbapi_connection):\n\u001b[0;32m--> 707\u001b[0m     \u001b[43mdbapi_connection\u001b[49m\u001b[38;5;241;43m.\u001b[39;49m\u001b[43mcommit\u001b[49m\u001b[43m(\u001b[49m\u001b[43m)\u001b[49m\n",
      "\u001b[0;31mOperationalError\u001b[0m: database is locked",
      "\nDuring handling of the above exception, another exception occurred:\n",
      "\u001b[0;31mKeyboardInterrupt\u001b[0m                         Traceback (most recent call last)",
      "File \u001b[0;32m/usr/local/lib/python3.12/dist-packages/optuna/study/_optimize.py:213\u001b[0m, in \u001b[0;36m_run_trial\u001b[0;34m(study, func, catch)\u001b[0m\n\u001b[1;32m    212\u001b[0m \u001b[38;5;28;01mtry\u001b[39;00m:\n\u001b[0;32m--> 213\u001b[0m     frozen_trial, warning_message \u001b[38;5;241m=\u001b[39m \u001b[43m_tell_with_warning\u001b[49m\u001b[43m(\u001b[49m\n\u001b[1;32m    214\u001b[0m \u001b[43m        \u001b[49m\u001b[43mstudy\u001b[49m\u001b[38;5;241;43m=\u001b[39;49m\u001b[43mstudy\u001b[49m\u001b[43m,\u001b[49m\n\u001b[1;32m    215\u001b[0m \u001b[43m        \u001b[49m\u001b[43mtrial\u001b[49m\u001b[38;5;241;43m=\u001b[39;49m\u001b[43mtrial\u001b[49m\u001b[43m,\u001b[49m\n\u001b[1;32m    216\u001b[0m \u001b[43m        \u001b[49m\u001b[43mvalue_or_values\u001b[49m\u001b[38;5;241;43m=\u001b[39;49m\u001b[43mvalue_or_values\u001b[49m\u001b[43m,\u001b[49m\n\u001b[1;32m    217\u001b[0m \u001b[43m        \u001b[49m\u001b[43mstate\u001b[49m\u001b[38;5;241;43m=\u001b[39;49m\u001b[43mstate\u001b[49m\u001b[43m,\u001b[49m\n\u001b[1;32m    218\u001b[0m \u001b[43m        \u001b[49m\u001b[43msuppress_warning\u001b[49m\u001b[38;5;241;43m=\u001b[39;49m\u001b[38;5;28;43;01mTrue\u001b[39;49;00m\u001b[43m,\u001b[49m\n\u001b[1;32m    219\u001b[0m \u001b[43m    \u001b[49m\u001b[43m)\u001b[49m\n\u001b[1;32m    220\u001b[0m \u001b[38;5;28;01mexcept\u001b[39;00m \u001b[38;5;167;01mException\u001b[39;00m:\n",
      "File \u001b[0;32m/usr/local/lib/python3.12/dist-packages/optuna/study/_tell.py:175\u001b[0m, in \u001b[0;36m_tell_with_warning\u001b[0;34m(study, trial, value_or_values, state, skip_if_finished, suppress_warning)\u001b[0m\n\u001b[1;32m    174\u001b[0m \u001b[38;5;28;01mfinally\u001b[39;00m:\n\u001b[0;32m--> 175\u001b[0m     \u001b[43mstudy\u001b[49m\u001b[38;5;241;43m.\u001b[39;49m\u001b[43m_storage\u001b[49m\u001b[38;5;241;43m.\u001b[39;49m\u001b[43mset_trial_state_values\u001b[49m\u001b[43m(\u001b[49m\u001b[43mfrozen_trial\u001b[49m\u001b[38;5;241;43m.\u001b[39;49m\u001b[43m_trial_id\u001b[49m\u001b[43m,\u001b[49m\u001b[43m \u001b[49m\u001b[43mstate\u001b[49m\u001b[43m,\u001b[49m\u001b[43m \u001b[49m\u001b[43mvalues\u001b[49m\u001b[43m)\u001b[49m\n\u001b[1;32m    177\u001b[0m frozen_trial \u001b[38;5;241m=\u001b[39m study\u001b[38;5;241m.\u001b[39m_storage\u001b[38;5;241m.\u001b[39mget_trial(frozen_trial\u001b[38;5;241m.\u001b[39m_trial_id)\n",
      "File \u001b[0;32m/usr/local/lib/python3.12/dist-packages/optuna/storages/_cached_storage.py:185\u001b[0m, in \u001b[0;36m_CachedStorage.set_trial_state_values\u001b[0;34m(self, trial_id, state, values)\u001b[0m\n\u001b[1;32m    182\u001b[0m \u001b[38;5;28;01mdef\u001b[39;00m\u001b[38;5;250m \u001b[39m\u001b[38;5;21mset_trial_state_values\u001b[39m(\n\u001b[1;32m    183\u001b[0m     \u001b[38;5;28mself\u001b[39m, trial_id: \u001b[38;5;28mint\u001b[39m, state: TrialState, values: Sequence[\u001b[38;5;28mfloat\u001b[39m] \u001b[38;5;241m|\u001b[39m \u001b[38;5;28;01mNone\u001b[39;00m \u001b[38;5;241m=\u001b[39m \u001b[38;5;28;01mNone\u001b[39;00m\n\u001b[1;32m    184\u001b[0m ) \u001b[38;5;241m-\u001b[39m\u001b[38;5;241m>\u001b[39m \u001b[38;5;28mbool\u001b[39m:\n\u001b[0;32m--> 185\u001b[0m     \u001b[38;5;28;01mreturn\u001b[39;00m \u001b[38;5;28;43mself\u001b[39;49m\u001b[38;5;241;43m.\u001b[39;49m\u001b[43m_backend\u001b[49m\u001b[38;5;241;43m.\u001b[39;49m\u001b[43mset_trial_state_values\u001b[49m\u001b[43m(\u001b[49m\u001b[43mtrial_id\u001b[49m\u001b[43m,\u001b[49m\u001b[43m \u001b[49m\u001b[43mstate\u001b[49m\u001b[38;5;241;43m=\u001b[39;49m\u001b[43mstate\u001b[49m\u001b[43m,\u001b[49m\u001b[43m \u001b[49m\u001b[43mvalues\u001b[49m\u001b[38;5;241;43m=\u001b[39;49m\u001b[43mvalues\u001b[49m\u001b[43m)\u001b[49m\n",
      "File \u001b[0;32m/usr/local/lib/python3.12/dist-packages/optuna/storages/_rdb/storage.py:624\u001b[0m, in \u001b[0;36mRDBStorage.set_trial_state_values\u001b[0;34m(self, trial_id, state, values)\u001b[0m\n\u001b[1;32m    623\u001b[0m \u001b[38;5;28;01mtry\u001b[39;00m:\n\u001b[0;32m--> 624\u001b[0m \u001b[43m    \u001b[49m\u001b[38;5;28;43;01mwith\u001b[39;49;00m\u001b[43m \u001b[49m\u001b[43m_create_scoped_session\u001b[49m\u001b[43m(\u001b[49m\u001b[38;5;28;43mself\u001b[39;49m\u001b[38;5;241;43m.\u001b[39;49m\u001b[43mscoped_session\u001b[49m\u001b[43m)\u001b[49m\u001b[43m \u001b[49m\u001b[38;5;28;43;01mas\u001b[39;49;00m\u001b[43m \u001b[49m\u001b[43msession\u001b[49m\u001b[43m:\u001b[49m\n\u001b[1;32m    625\u001b[0m \u001b[43m        \u001b[49m\u001b[43mtrial\u001b[49m\u001b[43m \u001b[49m\u001b[38;5;241;43m=\u001b[39;49m\u001b[43m \u001b[49m\u001b[43mmodels\u001b[49m\u001b[38;5;241;43m.\u001b[39;49m\u001b[43mTrialModel\u001b[49m\u001b[38;5;241;43m.\u001b[39;49m\u001b[43mfind_or_raise_by_id\u001b[49m\u001b[43m(\u001b[49m\u001b[43mtrial_id\u001b[49m\u001b[43m,\u001b[49m\u001b[43m \u001b[49m\u001b[43msession\u001b[49m\u001b[43m,\u001b[49m\u001b[43m \u001b[49m\u001b[43mfor_update\u001b[49m\u001b[38;5;241;43m=\u001b[39;49m\u001b[38;5;28;43;01mTrue\u001b[39;49;00m\u001b[43m)\u001b[49m\n",
      "File \u001b[0;32m/usr/lib/python3.12/contextlib.py:144\u001b[0m, in \u001b[0;36m_GeneratorContextManager.__exit__\u001b[0;34m(self, typ, value, traceback)\u001b[0m\n\u001b[1;32m    143\u001b[0m \u001b[38;5;28;01mtry\u001b[39;00m:\n\u001b[0;32m--> 144\u001b[0m     \u001b[38;5;28;43mnext\u001b[39;49m\u001b[43m(\u001b[49m\u001b[38;5;28;43mself\u001b[39;49m\u001b[38;5;241;43m.\u001b[39;49m\u001b[43mgen\u001b[49m\u001b[43m)\u001b[49m\n\u001b[1;32m    145\u001b[0m \u001b[38;5;28;01mexcept\u001b[39;00m \u001b[38;5;167;01mStopIteration\u001b[39;00m:\n",
      "File \u001b[0;32m/usr/local/lib/python3.12/dist-packages/optuna/storages/_rdb/storage.py:78\u001b[0m, in \u001b[0;36m_create_scoped_session\u001b[0;34m(scoped_session, ignore_integrity_error)\u001b[0m\n\u001b[1;32m     77\u001b[0m     \u001b[38;5;28;01myield\u001b[39;00m session\n\u001b[0;32m---> 78\u001b[0m     \u001b[43msession\u001b[49m\u001b[38;5;241;43m.\u001b[39;49m\u001b[43mcommit\u001b[49m\u001b[43m(\u001b[49m\u001b[43m)\u001b[49m\n\u001b[1;32m     79\u001b[0m \u001b[38;5;28;01mexcept\u001b[39;00m sqlalchemy_exc\u001b[38;5;241m.\u001b[39mIntegrityError \u001b[38;5;28;01mas\u001b[39;00m e:\n",
      "File \u001b[0;32m/usr/local/lib/python3.12/dist-packages/sqlalchemy/orm/session.py:2032\u001b[0m, in \u001b[0;36mSession.commit\u001b[0;34m(self)\u001b[0m\n\u001b[1;32m   2030\u001b[0m     trans \u001b[38;5;241m=\u001b[39m \u001b[38;5;28mself\u001b[39m\u001b[38;5;241m.\u001b[39m_autobegin_t()\n\u001b[0;32m-> 2032\u001b[0m \u001b[43mtrans\u001b[49m\u001b[38;5;241;43m.\u001b[39;49m\u001b[43mcommit\u001b[49m\u001b[43m(\u001b[49m\u001b[43m_to_root\u001b[49m\u001b[38;5;241;43m=\u001b[39;49m\u001b[38;5;28;43;01mTrue\u001b[39;49;00m\u001b[43m)\u001b[49m\n",
      "File \u001b[0;32m<string>:2\u001b[0m, in \u001b[0;36mcommit\u001b[0;34m(self, _to_root)\u001b[0m\n",
      "File \u001b[0;32m/usr/local/lib/python3.12/dist-packages/sqlalchemy/orm/state_changes.py:137\u001b[0m, in \u001b[0;36m_StateChange.declare_states.<locals>._go\u001b[0;34m(fn, self, *arg, **kw)\u001b[0m\n\u001b[1;32m    136\u001b[0m \u001b[38;5;28;01mtry\u001b[39;00m:\n\u001b[0;32m--> 137\u001b[0m     ret_value \u001b[38;5;241m=\u001b[39m \u001b[43mfn\u001b[49m\u001b[43m(\u001b[49m\u001b[38;5;28;43mself\u001b[39;49m\u001b[43m,\u001b[49m\u001b[43m \u001b[49m\u001b[38;5;241;43m*\u001b[39;49m\u001b[43marg\u001b[49m\u001b[43m,\u001b[49m\u001b[43m \u001b[49m\u001b[38;5;241;43m*\u001b[39;49m\u001b[38;5;241;43m*\u001b[39;49m\u001b[43mkw\u001b[49m\u001b[43m)\u001b[49m\n\u001b[1;32m    138\u001b[0m \u001b[38;5;28;01mexcept\u001b[39;00m:\n",
      "File \u001b[0;32m/usr/local/lib/python3.12/dist-packages/sqlalchemy/orm/session.py:1320\u001b[0m, in \u001b[0;36mSessionTransaction.commit\u001b[0;34m(self, _to_root)\u001b[0m\n\u001b[1;32m   1319\u001b[0m     \u001b[38;5;28;01mif\u001b[39;00m should_commit:\n\u001b[0;32m-> 1320\u001b[0m         \u001b[43mtrans\u001b[49m\u001b[38;5;241;43m.\u001b[39;49m\u001b[43mcommit\u001b[49m\u001b[43m(\u001b[49m\u001b[43m)\u001b[49m\n\u001b[1;32m   1322\u001b[0m \u001b[38;5;28mself\u001b[39m\u001b[38;5;241m.\u001b[39m_state \u001b[38;5;241m=\u001b[39m SessionTransactionState\u001b[38;5;241m.\u001b[39mCOMMITTED\n",
      "File \u001b[0;32m/usr/local/lib/python3.12/dist-packages/sqlalchemy/engine/base.py:2626\u001b[0m, in \u001b[0;36mTransaction.commit\u001b[0;34m(self)\u001b[0m\n\u001b[1;32m   2625\u001b[0m \u001b[38;5;28;01mtry\u001b[39;00m:\n\u001b[0;32m-> 2626\u001b[0m     \u001b[38;5;28;43mself\u001b[39;49m\u001b[38;5;241;43m.\u001b[39;49m\u001b[43m_do_commit\u001b[49m\u001b[43m(\u001b[49m\u001b[43m)\u001b[49m\n\u001b[1;32m   2627\u001b[0m \u001b[38;5;28;01mfinally\u001b[39;00m:\n",
      "File \u001b[0;32m/usr/local/lib/python3.12/dist-packages/sqlalchemy/engine/base.py:2731\u001b[0m, in \u001b[0;36mRootTransaction._do_commit\u001b[0;34m(self)\u001b[0m\n\u001b[1;32m   2730\u001b[0m \u001b[38;5;28;01mtry\u001b[39;00m:\n\u001b[0;32m-> 2731\u001b[0m     \u001b[38;5;28;43mself\u001b[39;49m\u001b[38;5;241;43m.\u001b[39;49m\u001b[43m_connection_commit_impl\u001b[49m\u001b[43m(\u001b[49m\u001b[43m)\u001b[49m\n\u001b[1;32m   2732\u001b[0m \u001b[38;5;28;01mfinally\u001b[39;00m:\n\u001b[1;32m   2733\u001b[0m     \u001b[38;5;66;03m# whether or not commit succeeds, cancel any\u001b[39;00m\n\u001b[1;32m   2734\u001b[0m     \u001b[38;5;66;03m# nested transactions, make this transaction \"inactive\"\u001b[39;00m\n\u001b[1;32m   2735\u001b[0m     \u001b[38;5;66;03m# and remove it as a reset agent\u001b[39;00m\n",
      "File \u001b[0;32m/usr/local/lib/python3.12/dist-packages/sqlalchemy/engine/base.py:2702\u001b[0m, in \u001b[0;36mRootTransaction._connection_commit_impl\u001b[0;34m(self)\u001b[0m\n\u001b[1;32m   2701\u001b[0m \u001b[38;5;28;01mdef\u001b[39;00m\u001b[38;5;250m \u001b[39m\u001b[38;5;21m_connection_commit_impl\u001b[39m(\u001b[38;5;28mself\u001b[39m) \u001b[38;5;241m-\u001b[39m\u001b[38;5;241m>\u001b[39m \u001b[38;5;28;01mNone\u001b[39;00m:\n\u001b[0;32m-> 2702\u001b[0m     \u001b[38;5;28;43mself\u001b[39;49m\u001b[38;5;241;43m.\u001b[39;49m\u001b[43mconnection\u001b[49m\u001b[38;5;241;43m.\u001b[39;49m\u001b[43m_commit_impl\u001b[49m\u001b[43m(\u001b[49m\u001b[43m)\u001b[49m\n",
      "File \u001b[0;32m/usr/local/lib/python3.12/dist-packages/sqlalchemy/engine/base.py:1141\u001b[0m, in \u001b[0;36mConnection._commit_impl\u001b[0;34m(self)\u001b[0m\n\u001b[1;32m   1140\u001b[0m \u001b[38;5;28;01mexcept\u001b[39;00m \u001b[38;5;167;01mBaseException\u001b[39;00m \u001b[38;5;28;01mas\u001b[39;00m e:\n\u001b[0;32m-> 1141\u001b[0m     \u001b[38;5;28;43mself\u001b[39;49m\u001b[38;5;241;43m.\u001b[39;49m\u001b[43m_handle_dbapi_exception\u001b[49m\u001b[43m(\u001b[49m\u001b[43me\u001b[49m\u001b[43m,\u001b[49m\u001b[43m \u001b[49m\u001b[38;5;28;43;01mNone\u001b[39;49;00m\u001b[43m,\u001b[49m\u001b[43m \u001b[49m\u001b[38;5;28;43;01mNone\u001b[39;49;00m\u001b[43m,\u001b[49m\u001b[43m \u001b[49m\u001b[38;5;28;43;01mNone\u001b[39;49;00m\u001b[43m,\u001b[49m\u001b[43m \u001b[49m\u001b[38;5;28;43;01mNone\u001b[39;49;00m\u001b[43m)\u001b[49m\n",
      "File \u001b[0;32m/usr/local/lib/python3.12/dist-packages/sqlalchemy/engine/base.py:2219\u001b[0m, in \u001b[0;36mConnection._handle_dbapi_exception\u001b[0;34m(self, e, statement, parameters, cursor, context, is_sub_exec)\u001b[0m\n\u001b[1;32m   2217\u001b[0m _is_disconnect \u001b[38;5;241m=\u001b[39m \u001b[38;5;28;01mFalse\u001b[39;00m\n\u001b[0;32m-> 2219\u001b[0m \u001b[38;5;28;01mdef\u001b[39;00m\u001b[38;5;250m \u001b[39m\u001b[38;5;21m_handle_dbapi_exception\u001b[39m(\n\u001b[1;32m   2220\u001b[0m     \u001b[38;5;28mself\u001b[39m,\n\u001b[1;32m   2221\u001b[0m     e: \u001b[38;5;167;01mBaseException\u001b[39;00m,\n\u001b[1;32m   2222\u001b[0m     statement: Optional[\u001b[38;5;28mstr\u001b[39m],\n\u001b[1;32m   2223\u001b[0m     parameters: Optional[_AnyExecuteParams],\n\u001b[1;32m   2224\u001b[0m     cursor: Optional[DBAPICursor],\n\u001b[1;32m   2225\u001b[0m     context: Optional[ExecutionContext],\n\u001b[1;32m   2226\u001b[0m     is_sub_exec: \u001b[38;5;28mbool\u001b[39m \u001b[38;5;241m=\u001b[39m \u001b[38;5;28;01mFalse\u001b[39;00m,\n\u001b[1;32m   2227\u001b[0m ) \u001b[38;5;241m-\u001b[39m\u001b[38;5;241m>\u001b[39m NoReturn:\n\u001b[1;32m   2228\u001b[0m     exc_info \u001b[38;5;241m=\u001b[39m sys\u001b[38;5;241m.\u001b[39mexc_info()\n",
      "\u001b[0;31mKeyboardInterrupt\u001b[0m: ",
      "\nDuring handling of the above exception, another exception occurred:\n",
      "\u001b[0;31mUnboundLocalError\u001b[0m                         Traceback (most recent call last)",
      "Cell \u001b[0;32mIn[7], line 11\u001b[0m\n\u001b[1;32m      1\u001b[0m study \u001b[38;5;241m=\u001b[39m optuna\u001b[38;5;241m.\u001b[39mcreate_study(\n\u001b[1;32m      2\u001b[0m     direction      \u001b[38;5;241m=\u001b[39m \u001b[38;5;124m\"\u001b[39m\u001b[38;5;124mmaximize\u001b[39m\u001b[38;5;124m\"\u001b[39m,\n\u001b[1;32m      3\u001b[0m     pruner         \u001b[38;5;241m=\u001b[39m optuna\u001b[38;5;241m.\u001b[39mpruners\u001b[38;5;241m.\u001b[39mMedianPruner(n_startup_trials\u001b[38;5;241m=\u001b[39m\u001b[38;5;241m6\u001b[39m, n_warmup_steps\u001b[38;5;241m=\u001b[39m\u001b[38;5;241m12\u001b[39m),\n\u001b[0;32m   (...)\u001b[0m\n\u001b[1;32m      8\u001b[0m     load_if_exists \u001b[38;5;241m=\u001b[39m \u001b[38;5;28;01mFalse\u001b[39;00m\n\u001b[1;32m      9\u001b[0m )\n\u001b[0;32m---> 11\u001b[0m \u001b[43mstudy\u001b[49m\u001b[38;5;241;43m.\u001b[39;49m\u001b[43moptimize\u001b[49m\u001b[43m(\u001b[49m\n\u001b[1;32m     12\u001b[0m \u001b[43m    \u001b[49m\u001b[43mobjective\u001b[49m\u001b[43m,\u001b[49m\n\u001b[1;32m     13\u001b[0m \u001b[43m    \u001b[49m\u001b[43mn_trials\u001b[49m\u001b[43m          \u001b[49m\u001b[38;5;241;43m=\u001b[39;49m\u001b[43m \u001b[49m\u001b[43mn_trials\u001b[49m\u001b[43m,\u001b[49m\n\u001b[1;32m     14\u001b[0m \u001b[43m    \u001b[49m\u001b[43mn_jobs\u001b[49m\u001b[43m            \u001b[49m\u001b[38;5;241;43m=\u001b[39;49m\u001b[43m \u001b[49m\u001b[43mn_jobs\u001b[49m\u001b[43m,\u001b[49m\n\u001b[1;32m     15\u001b[0m \u001b[43m    \u001b[49m\u001b[43mcallbacks\u001b[49m\u001b[38;5;241;43m=\u001b[39;49m\u001b[43m[\u001b[49m\u001b[43mplots\u001b[49m\u001b[38;5;241;43m.\u001b[39;49m\u001b[43mcleanup_callback\u001b[49m\u001b[43m,\u001b[49m\u001b[43m \u001b[49m\u001b[43mplots\u001b[49m\u001b[38;5;241;43m.\u001b[39;49m\u001b[43mlightweight_plot_callback\u001b[49m\u001b[43m]\u001b[49m\u001b[43m,\u001b[49m\n\u001b[1;32m     16\u001b[0m \u001b[43m    \u001b[49m\u001b[43mgc_after_trial\u001b[49m\u001b[43m    \u001b[49m\u001b[38;5;241;43m=\u001b[39;49m\u001b[43m \u001b[49m\u001b[38;5;28;43;01mTrue\u001b[39;49;00m\u001b[43m,\u001b[49m\n\u001b[1;32m     17\u001b[0m \u001b[43m)\u001b[49m\n",
      "File \u001b[0;32m/usr/local/lib/python3.12/dist-packages/optuna/study/study.py:489\u001b[0m, in \u001b[0;36mStudy.optimize\u001b[0;34m(self, func, n_trials, timeout, n_jobs, catch, callbacks, gc_after_trial, show_progress_bar)\u001b[0m\n\u001b[1;32m    387\u001b[0m \u001b[38;5;28;01mdef\u001b[39;00m\u001b[38;5;250m \u001b[39m\u001b[38;5;21moptimize\u001b[39m(\n\u001b[1;32m    388\u001b[0m     \u001b[38;5;28mself\u001b[39m,\n\u001b[1;32m    389\u001b[0m     func: ObjectiveFuncType,\n\u001b[0;32m   (...)\u001b[0m\n\u001b[1;32m    396\u001b[0m     show_progress_bar: \u001b[38;5;28mbool\u001b[39m \u001b[38;5;241m=\u001b[39m \u001b[38;5;28;01mFalse\u001b[39;00m,\n\u001b[1;32m    397\u001b[0m ) \u001b[38;5;241m-\u001b[39m\u001b[38;5;241m>\u001b[39m \u001b[38;5;28;01mNone\u001b[39;00m:\n\u001b[1;32m    398\u001b[0m \u001b[38;5;250m    \u001b[39m\u001b[38;5;124;03m\"\"\"Optimize an objective function.\u001b[39;00m\n\u001b[1;32m    399\u001b[0m \n\u001b[1;32m    400\u001b[0m \u001b[38;5;124;03m    Optimization is done by choosing a suitable set of hyperparameter values from a given\u001b[39;00m\n\u001b[0;32m   (...)\u001b[0m\n\u001b[1;32m    487\u001b[0m \u001b[38;5;124;03m            If nested invocation of this method occurs.\u001b[39;00m\n\u001b[1;32m    488\u001b[0m \u001b[38;5;124;03m    \"\"\"\u001b[39;00m\n\u001b[0;32m--> 489\u001b[0m     \u001b[43m_optimize\u001b[49m\u001b[43m(\u001b[49m\n\u001b[1;32m    490\u001b[0m \u001b[43m        \u001b[49m\u001b[43mstudy\u001b[49m\u001b[38;5;241;43m=\u001b[39;49m\u001b[38;5;28;43mself\u001b[39;49m\u001b[43m,\u001b[49m\n\u001b[1;32m    491\u001b[0m \u001b[43m        \u001b[49m\u001b[43mfunc\u001b[49m\u001b[38;5;241;43m=\u001b[39;49m\u001b[43mfunc\u001b[49m\u001b[43m,\u001b[49m\n\u001b[1;32m    492\u001b[0m \u001b[43m        \u001b[49m\u001b[43mn_trials\u001b[49m\u001b[38;5;241;43m=\u001b[39;49m\u001b[43mn_trials\u001b[49m\u001b[43m,\u001b[49m\n\u001b[1;32m    493\u001b[0m \u001b[43m        \u001b[49m\u001b[43mtimeout\u001b[49m\u001b[38;5;241;43m=\u001b[39;49m\u001b[43mtimeout\u001b[49m\u001b[43m,\u001b[49m\n\u001b[1;32m    494\u001b[0m \u001b[43m        \u001b[49m\u001b[43mn_jobs\u001b[49m\u001b[38;5;241;43m=\u001b[39;49m\u001b[43mn_jobs\u001b[49m\u001b[43m,\u001b[49m\n\u001b[1;32m    495\u001b[0m \u001b[43m        \u001b[49m\u001b[43mcatch\u001b[49m\u001b[38;5;241;43m=\u001b[39;49m\u001b[38;5;28;43mtuple\u001b[39;49m\u001b[43m(\u001b[49m\u001b[43mcatch\u001b[49m\u001b[43m)\u001b[49m\u001b[43m \u001b[49m\u001b[38;5;28;43;01mif\u001b[39;49;00m\u001b[43m \u001b[49m\u001b[38;5;28;43misinstance\u001b[39;49m\u001b[43m(\u001b[49m\u001b[43mcatch\u001b[49m\u001b[43m,\u001b[49m\u001b[43m \u001b[49m\u001b[43mIterable\u001b[49m\u001b[43m)\u001b[49m\u001b[43m \u001b[49m\u001b[38;5;28;43;01melse\u001b[39;49;00m\u001b[43m \u001b[49m\u001b[43m(\u001b[49m\u001b[43mcatch\u001b[49m\u001b[43m,\u001b[49m\u001b[43m)\u001b[49m\u001b[43m,\u001b[49m\n\u001b[1;32m    496\u001b[0m \u001b[43m        \u001b[49m\u001b[43mcallbacks\u001b[49m\u001b[38;5;241;43m=\u001b[39;49m\u001b[43mcallbacks\u001b[49m\u001b[43m,\u001b[49m\n\u001b[1;32m    497\u001b[0m \u001b[43m        \u001b[49m\u001b[43mgc_after_trial\u001b[49m\u001b[38;5;241;43m=\u001b[39;49m\u001b[43mgc_after_trial\u001b[49m\u001b[43m,\u001b[49m\n\u001b[1;32m    498\u001b[0m \u001b[43m        \u001b[49m\u001b[43mshow_progress_bar\u001b[49m\u001b[38;5;241;43m=\u001b[39;49m\u001b[43mshow_progress_bar\u001b[49m\u001b[43m,\u001b[49m\n\u001b[1;32m    499\u001b[0m \u001b[43m    \u001b[49m\u001b[43m)\u001b[49m\n",
      "File \u001b[0;32m/usr/local/lib/python3.12/dist-packages/optuna/study/_optimize.py:64\u001b[0m, in \u001b[0;36m_optimize\u001b[0;34m(study, func, n_trials, timeout, n_jobs, catch, callbacks, gc_after_trial, show_progress_bar)\u001b[0m\n\u001b[1;32m     62\u001b[0m \u001b[38;5;28;01mtry\u001b[39;00m:\n\u001b[1;32m     63\u001b[0m     \u001b[38;5;28;01mif\u001b[39;00m n_jobs \u001b[38;5;241m==\u001b[39m \u001b[38;5;241m1\u001b[39m:\n\u001b[0;32m---> 64\u001b[0m         \u001b[43m_optimize_sequential\u001b[49m\u001b[43m(\u001b[49m\n\u001b[1;32m     65\u001b[0m \u001b[43m            \u001b[49m\u001b[43mstudy\u001b[49m\u001b[43m,\u001b[49m\n\u001b[1;32m     66\u001b[0m \u001b[43m            \u001b[49m\u001b[43mfunc\u001b[49m\u001b[43m,\u001b[49m\n\u001b[1;32m     67\u001b[0m \u001b[43m            \u001b[49m\u001b[43mn_trials\u001b[49m\u001b[43m,\u001b[49m\n\u001b[1;32m     68\u001b[0m \u001b[43m            \u001b[49m\u001b[43mtimeout\u001b[49m\u001b[43m,\u001b[49m\n\u001b[1;32m     69\u001b[0m \u001b[43m            \u001b[49m\u001b[43mcatch\u001b[49m\u001b[43m,\u001b[49m\n\u001b[1;32m     70\u001b[0m \u001b[43m            \u001b[49m\u001b[43mcallbacks\u001b[49m\u001b[43m,\u001b[49m\n\u001b[1;32m     71\u001b[0m \u001b[43m            \u001b[49m\u001b[43mgc_after_trial\u001b[49m\u001b[43m,\u001b[49m\n\u001b[1;32m     72\u001b[0m \u001b[43m            \u001b[49m\u001b[43mreseed_sampler_rng\u001b[49m\u001b[38;5;241;43m=\u001b[39;49m\u001b[38;5;28;43;01mFalse\u001b[39;49;00m\u001b[43m,\u001b[49m\n\u001b[1;32m     73\u001b[0m \u001b[43m            \u001b[49m\u001b[43mtime_start\u001b[49m\u001b[38;5;241;43m=\u001b[39;49m\u001b[38;5;28;43;01mNone\u001b[39;49;00m\u001b[43m,\u001b[49m\n\u001b[1;32m     74\u001b[0m \u001b[43m            \u001b[49m\u001b[43mprogress_bar\u001b[49m\u001b[38;5;241;43m=\u001b[39;49m\u001b[43mprogress_bar\u001b[49m\u001b[43m,\u001b[49m\n\u001b[1;32m     75\u001b[0m \u001b[43m        \u001b[49m\u001b[43m)\u001b[49m\n\u001b[1;32m     76\u001b[0m     \u001b[38;5;28;01melse\u001b[39;00m:\n\u001b[1;32m     77\u001b[0m         \u001b[38;5;28;01mif\u001b[39;00m n_jobs \u001b[38;5;241m==\u001b[39m \u001b[38;5;241m-\u001b[39m\u001b[38;5;241m1\u001b[39m:\n",
      "File \u001b[0;32m/usr/local/lib/python3.12/dist-packages/optuna/study/_optimize.py:161\u001b[0m, in \u001b[0;36m_optimize_sequential\u001b[0;34m(study, func, n_trials, timeout, catch, callbacks, gc_after_trial, reseed_sampler_rng, time_start, progress_bar)\u001b[0m\n\u001b[1;32m    158\u001b[0m         \u001b[38;5;28;01mbreak\u001b[39;00m\n\u001b[1;32m    160\u001b[0m \u001b[38;5;28;01mtry\u001b[39;00m:\n\u001b[0;32m--> 161\u001b[0m     frozen_trial \u001b[38;5;241m=\u001b[39m \u001b[43m_run_trial\u001b[49m\u001b[43m(\u001b[49m\u001b[43mstudy\u001b[49m\u001b[43m,\u001b[49m\u001b[43m \u001b[49m\u001b[43mfunc\u001b[49m\u001b[43m,\u001b[49m\u001b[43m \u001b[49m\u001b[43mcatch\u001b[49m\u001b[43m)\u001b[49m\n\u001b[1;32m    162\u001b[0m \u001b[38;5;28;01mfinally\u001b[39;00m:\n\u001b[1;32m    163\u001b[0m     \u001b[38;5;66;03m# The following line mitigates memory problems that can be occurred in some\u001b[39;00m\n\u001b[1;32m    164\u001b[0m     \u001b[38;5;66;03m# environments (e.g., services that use computing containers such as GitHub Actions).\u001b[39;00m\n\u001b[1;32m    165\u001b[0m     \u001b[38;5;66;03m# Please refer to the following PR for further details:\u001b[39;00m\n\u001b[1;32m    166\u001b[0m     \u001b[38;5;66;03m# https://github.com/optuna/optuna/pull/325.\u001b[39;00m\n\u001b[1;32m    167\u001b[0m     \u001b[38;5;28;01mif\u001b[39;00m gc_after_trial:\n",
      "File \u001b[0;32m/usr/local/lib/python3.12/dist-packages/optuna/study/_optimize.py:225\u001b[0m, in \u001b[0;36m_run_trial\u001b[0;34m(study, func, catch)\u001b[0m\n\u001b[1;32m    223\u001b[0m     \u001b[38;5;28;01mraise\u001b[39;00m\n\u001b[1;32m    224\u001b[0m \u001b[38;5;28;01mfinally\u001b[39;00m:\n\u001b[0;32m--> 225\u001b[0m     \u001b[38;5;28;01mif\u001b[39;00m \u001b[43mfrozen_trial\u001b[49m\u001b[38;5;241m.\u001b[39mstate \u001b[38;5;241m==\u001b[39m TrialState\u001b[38;5;241m.\u001b[39mCOMPLETE:\n\u001b[1;32m    226\u001b[0m         study\u001b[38;5;241m.\u001b[39m_log_completed_trial(frozen_trial)\n\u001b[1;32m    227\u001b[0m     \u001b[38;5;28;01melif\u001b[39;00m frozen_trial\u001b[38;5;241m.\u001b[39mstate \u001b[38;5;241m==\u001b[39m TrialState\u001b[38;5;241m.\u001b[39mPRUNED:\n",
      "\u001b[0;31mUnboundLocalError\u001b[0m: cannot access local variable 'frozen_trial' where it is not associated with a value"
     ]
    }
   ],
   "source": [
    "study = optuna.create_study(\n",
    "    direction      = \"maximize\",\n",
    "    pruner         = optuna.pruners.MedianPruner(n_startup_trials=6, n_warmup_steps=12),\n",
    "    storage        = RDBStorage(\n",
    "        url=\"sqlite:///optuna_study.db\",\n",
    "        engine_kwargs={\"connect_args\": {\"timeout\": 20, \"check_same_thread\": False}}\n",
    "    ),\n",
    "    load_if_exists = False\n",
    ")\n",
    "\n",
    "study.optimize(\n",
    "    objective,\n",
    "    n_trials          = n_trials,\n",
    "    n_jobs            = n_jobs,\n",
    "    callbacks=[plots.cleanup_callback, plots.lightweight_plot_callback],\n",
    "    gc_after_trial    = True,\n",
    ")\n"
   ]
  },
  {
   "cell_type": "code",
   "execution_count": null,
   "id": "58134eda-1dfe-421a-a2e4-a4c78f4f4efa",
   "metadata": {},
   "outputs": [],
   "source": [
    "# Final plots & JSON dump (unchanged)...\n",
    "ax = plot_optimization_history(study)\n",
    "ax.figure.set_size_inches(8, 4)\n",
    "plt.show()\n",
    "\n",
    "print(\"Best Parameters       :\", study.best_params)\n",
    "print(\"Best Average Daily P&L:\", study.best_value)\n",
    "\n",
    "importances = get_param_importances(study)\n",
    "print(\"\\nHyperparameter importances (higher ⇒ more impact):\")\n",
    "for name, score in sorted(importances.items(), key=lambda x: x[1], reverse=True):\n",
    "    print(f\"  {name:20s}: {score:.3f}\")\n",
    "\n",
    "first_day = df_trainval.index.normalize().min().strftime(\"%Y%m%d\")\n",
    "last_day  = df_trainval.index.normalize().max().strftime(\"%Y%m%d\")\n",
    "file_name = f\"{params.ticker}_{first_day}-{last_day}_optuna_predsig_pars_{study.best_value}_{params.model_path}.json\"\n",
    "file_path = os.path.join(params.optuna_folder, file_name)\n",
    "\n",
    "with open(file_path, \"w\") as f:\n",
    "    json.dump({\n",
    "        \"best_params\": study.best_params,\n",
    "        \"best_value\" : study.best_value,\n",
    "        \"importances\": importances,\n",
    "        \"trials\": [\n",
    "            {\"number\": t.number, \"value\": t.value, \"params\": t.params, \"state\": t.state.name}\n",
    "            for t in study.trials\n",
    "        ],\n",
    "    }, f, indent=4)\n",
    "\n",
    "print(f\"\\nOptuna results (and importances) saved to: {file_path}\")"
   ]
  },
  {
   "cell_type": "code",
   "execution_count": null,
   "id": "749a6f11-54e4-4778-ac70-903606897ea3",
   "metadata": {},
   "outputs": [],
   "source": []
  },
  {
   "cell_type": "code",
   "execution_count": null,
   "id": "06cee26d-0227-49cc-8d3d-6da977a39753",
   "metadata": {},
   "outputs": [],
   "source": []
  }
 ],
 "metadata": {
  "kernelspec": {
   "display_name": "Python 3 (ipykernel)",
   "language": "python",
   "name": "python3"
  },
  "language_info": {
   "codemirror_mode": {
    "name": "ipython",
    "version": 3
   },
   "file_extension": ".py",
   "mimetype": "text/x-python",
   "name": "python",
   "nbconvert_exporter": "python",
   "pygments_lexer": "ipython3",
   "version": "3.12.3"
  }
 },
 "nbformat": 4,
 "nbformat_minor": 5
}
