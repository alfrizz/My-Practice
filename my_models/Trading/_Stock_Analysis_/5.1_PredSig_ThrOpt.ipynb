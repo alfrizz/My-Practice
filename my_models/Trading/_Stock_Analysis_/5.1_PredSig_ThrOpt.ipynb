{
 "cells": [
  {
   "cell_type": "code",
   "execution_count": 1,
   "id": "bfb885e5-3512-4897-943b-58fcf6757c44",
   "metadata": {},
   "outputs": [
    {
     "data": {
      "text/plain": [
       "<module 'libs.models' from '/workspace/my_models/Trading/_Stock_Analysis_/libs/models.py'>"
      ]
     },
     "execution_count": 1,
     "metadata": {},
     "output_type": "execute_result"
    }
   ],
   "source": [
    "# %matplotlib inline\n",
    "\n",
    "\n",
    "# 1) Wipe out your namespace\n",
    "%reset -f\n",
    "\n",
    "# 2) Clear Jupyter’s stored outputs (and inputs if you like)\n",
    "try:\n",
    "    Out.clear()\n",
    "except NameError:\n",
    "    pass\n",
    "\n",
    "try:\n",
    "    In.clear()\n",
    "except NameError:\n",
    "    pass\n",
    "\n",
    "# 3) Force Python GC\n",
    "import gc\n",
    "gc.collect()\n",
    "\n",
    "# 4) Free any GPU buffers\n",
    "import torch\n",
    "if torch.cuda.is_available():\n",
    "    torch.cuda.empty_cache()\n",
    "\n",
    "\n",
    "import importlib\n",
    "from libs import trades, plots, params, models\n",
    "importlib.reload(trades)\n",
    "importlib.reload(plots)\n",
    "importlib.reload(params)\n",
    "importlib.reload(models)"
   ]
  },
  {
   "cell_type": "code",
   "execution_count": 2,
   "id": "c17c661b-bcae-4bdb-9bd4-6f8018a38d8d",
   "metadata": {},
   "outputs": [],
   "source": [
    "# Turn off interactive plotting globally (we’ll manage our own display)\n",
    "import matplotlib\n",
    "import matplotlib.pyplot as plt\n",
    "plt.ioff()\n",
    "\n",
    "import pandas as pd\n",
    "import numpy as np\n",
    "import math\n",
    "\n",
    "from pathlib import Path\n",
    "import pickle\n",
    "import datetime as dt\n",
    "from datetime import datetime\n",
    "from datetime import time\n",
    "\n",
    "import seaborn as sns\n",
    "from pprint import pprint\n",
    "\n",
    "import torch.nn.functional as Funct\n",
    "from torch.utils.data import Dataset, DataLoader\n",
    "torch.serialization.add_safe_globals([models.DayWindowDataset])\n",
    "\n",
    "from tqdm.auto import tqdm\n",
    "\n",
    "import io\n",
    "import os\n",
    "import json\n",
    "from PIL import Image\n",
    "import IPython.display as disp\n",
    "\n",
    "import optuna\n",
    "from optuna.trial import TrialState\n",
    "from optuna.importance import get_param_importances\n",
    "from optuna.visualization.matplotlib import plot_optimization_history\n",
    "from optuna.storages import RDBStorage"
   ]
  },
  {
   "cell_type": "code",
   "execution_count": 3,
   "id": "71fcfa66-3fa8-4cb4-a040-4e0b5b1804fd",
   "metadata": {},
   "outputs": [
    {
     "data": {
      "text/html": [
       "<div>\n",
       "<style scoped>\n",
       "    .dataframe tbody tr th:only-of-type {\n",
       "        vertical-align: middle;\n",
       "    }\n",
       "\n",
       "    .dataframe tbody tr th {\n",
       "        vertical-align: top;\n",
       "    }\n",
       "\n",
       "    .dataframe thead th {\n",
       "        text-align: right;\n",
       "    }\n",
       "</style>\n",
       "<table border=\"1\" class=\"dataframe\">\n",
       "  <thead>\n",
       "    <tr style=\"text-align: right;\">\n",
       "      <th></th>\n",
       "      <th>atr_ratio</th>\n",
       "      <th>atr_ratio_sma</th>\n",
       "      <th>vol_15</th>\n",
       "      <th>bb_width_20</th>\n",
       "      <th>r_5</th>\n",
       "      <th>r_15</th>\n",
       "      <th>rsi</th>\n",
       "      <th>stoch_d_3</th>\n",
       "      <th>stoch_k_14</th>\n",
       "      <th>hour</th>\n",
       "      <th>eng_adx</th>\n",
       "      <th>eng_obv</th>\n",
       "      <th>eng_ma</th>\n",
       "      <th>bid</th>\n",
       "      <th>ask</th>\n",
       "      <th>signal</th>\n",
       "      <th>pred_signal</th>\n",
       "      <th>close_mid</th>\n",
       "    </tr>\n",
       "  </thead>\n",
       "  <tbody>\n",
       "    <tr>\n",
       "      <th>2004-01-02 14:07:00</th>\n",
       "      <td>-0.971426</td>\n",
       "      <td>-0.960594</td>\n",
       "      <td>-1.014295</td>\n",
       "      <td>-0.815439</td>\n",
       "      <td>-0.067706</td>\n",
       "      <td>-0.120566</td>\n",
       "      <td>-2.476841</td>\n",
       "      <td>-1.585648</td>\n",
       "      <td>-1.552562</td>\n",
       "      <td>0.263</td>\n",
       "      <td>-2.981712</td>\n",
       "      <td>-0.861562</td>\n",
       "      <td>-0.001209</td>\n",
       "      <td>0.762693</td>\n",
       "      <td>0.763836</td>\n",
       "      <td>1.000000</td>\n",
       "      <td>0.149151</td>\n",
       "      <td>0.763265</td>\n",
       "    </tr>\n",
       "    <tr>\n",
       "      <th>2004-01-02 14:08:00</th>\n",
       "      <td>-0.971405</td>\n",
       "      <td>-0.960547</td>\n",
       "      <td>-1.014295</td>\n",
       "      <td>-0.815436</td>\n",
       "      <td>-0.067708</td>\n",
       "      <td>-0.120569</td>\n",
       "      <td>-2.476841</td>\n",
       "      <td>-1.585648</td>\n",
       "      <td>-1.552562</td>\n",
       "      <td>0.263</td>\n",
       "      <td>-2.981712</td>\n",
       "      <td>-0.875888</td>\n",
       "      <td>-0.001209</td>\n",
       "      <td>0.762676</td>\n",
       "      <td>0.763819</td>\n",
       "      <td>1.000000</td>\n",
       "      <td>0.148588</td>\n",
       "      <td>0.763248</td>\n",
       "    </tr>\n",
       "    <tr>\n",
       "      <th>2004-01-02 14:09:00</th>\n",
       "      <td>-0.971384</td>\n",
       "      <td>-0.960503</td>\n",
       "      <td>-1.014295</td>\n",
       "      <td>-0.815434</td>\n",
       "      <td>-0.067709</td>\n",
       "      <td>-0.120571</td>\n",
       "      <td>-2.476841</td>\n",
       "      <td>-1.585648</td>\n",
       "      <td>-1.552562</td>\n",
       "      <td>0.263</td>\n",
       "      <td>-2.981712</td>\n",
       "      <td>-0.890215</td>\n",
       "      <td>-0.001209</td>\n",
       "      <td>0.762660</td>\n",
       "      <td>0.763802</td>\n",
       "      <td>1.000000</td>\n",
       "      <td>0.148033</td>\n",
       "      <td>0.763231</td>\n",
       "    </tr>\n",
       "    <tr>\n",
       "      <th>2004-01-02 14:10:00</th>\n",
       "      <td>-0.971366</td>\n",
       "      <td>-0.960462</td>\n",
       "      <td>-1.014295</td>\n",
       "      <td>-0.815431</td>\n",
       "      <td>-0.067711</td>\n",
       "      <td>-0.120574</td>\n",
       "      <td>-2.476841</td>\n",
       "      <td>-1.585648</td>\n",
       "      <td>-1.552562</td>\n",
       "      <td>0.263</td>\n",
       "      <td>-2.981712</td>\n",
       "      <td>-0.904541</td>\n",
       "      <td>-0.001209</td>\n",
       "      <td>0.762643</td>\n",
       "      <td>0.763786</td>\n",
       "      <td>1.000000</td>\n",
       "      <td>0.147489</td>\n",
       "      <td>0.763214</td>\n",
       "    </tr>\n",
       "    <tr>\n",
       "      <th>2004-01-02 14:11:00</th>\n",
       "      <td>-0.923613</td>\n",
       "      <td>-0.958038</td>\n",
       "      <td>-0.768664</td>\n",
       "      <td>-0.799708</td>\n",
       "      <td>0.288413</td>\n",
       "      <td>0.090469</td>\n",
       "      <td>0.776847</td>\n",
       "      <td>-1.236847</td>\n",
       "      <td>-0.528223</td>\n",
       "      <td>0.263</td>\n",
       "      <td>0.889356</td>\n",
       "      <td>-0.731059</td>\n",
       "      <td>-0.001209</td>\n",
       "      <td>0.763071</td>\n",
       "      <td>0.764215</td>\n",
       "      <td>1.000000</td>\n",
       "      <td>0.146952</td>\n",
       "      <td>0.763643</td>\n",
       "    </tr>\n",
       "    <tr>\n",
       "      <th>...</th>\n",
       "      <td>...</td>\n",
       "      <td>...</td>\n",
       "      <td>...</td>\n",
       "      <td>...</td>\n",
       "      <td>...</td>\n",
       "      <td>...</td>\n",
       "      <td>...</td>\n",
       "      <td>...</td>\n",
       "      <td>...</td>\n",
       "      <td>...</td>\n",
       "      <td>...</td>\n",
       "      <td>...</td>\n",
       "      <td>...</td>\n",
       "      <td>...</td>\n",
       "      <td>...</td>\n",
       "      <td>...</td>\n",
       "      <td>...</td>\n",
       "      <td>...</td>\n",
       "    </tr>\n",
       "    <tr>\n",
       "      <th>2022-03-28 20:56:00</th>\n",
       "      <td>-0.030164</td>\n",
       "      <td>-0.214860</td>\n",
       "      <td>0.189349</td>\n",
       "      <td>-0.261620</td>\n",
       "      <td>1.428264</td>\n",
       "      <td>0.648909</td>\n",
       "      <td>0.631314</td>\n",
       "      <td>0.927657</td>\n",
       "      <td>1.224401</td>\n",
       "      <td>-0.941</td>\n",
       "      <td>-0.027995</td>\n",
       "      <td>0.178939</td>\n",
       "      <td>2.227838</td>\n",
       "      <td>175.238500</td>\n",
       "      <td>175.501500</td>\n",
       "      <td>0.148736</td>\n",
       "      <td>0.324245</td>\n",
       "      <td>175.370000</td>\n",
       "    </tr>\n",
       "    <tr>\n",
       "      <th>2022-03-28 20:57:00</th>\n",
       "      <td>-0.026538</td>\n",
       "      <td>-0.202050</td>\n",
       "      <td>0.178457</td>\n",
       "      <td>-0.130963</td>\n",
       "      <td>1.768150</td>\n",
       "      <td>0.788302</td>\n",
       "      <td>0.754476</td>\n",
       "      <td>1.199615</td>\n",
       "      <td>1.302253</td>\n",
       "      <td>-0.941</td>\n",
       "      <td>-0.019207</td>\n",
       "      <td>0.300146</td>\n",
       "      <td>4.171111</td>\n",
       "      <td>175.316000</td>\n",
       "      <td>175.579200</td>\n",
       "      <td>0.148383</td>\n",
       "      <td>0.435784</td>\n",
       "      <td>175.447600</td>\n",
       "    </tr>\n",
       "    <tr>\n",
       "      <th>2022-03-28 20:58:00</th>\n",
       "      <td>-0.021015</td>\n",
       "      <td>-0.188697</td>\n",
       "      <td>0.194997</td>\n",
       "      <td>0.077383</td>\n",
       "      <td>1.705393</td>\n",
       "      <td>1.050869</td>\n",
       "      <td>0.947666</td>\n",
       "      <td>1.354806</td>\n",
       "      <td>1.451027</td>\n",
       "      <td>-0.941</td>\n",
       "      <td>0.040347</td>\n",
       "      <td>0.438921</td>\n",
       "      <td>6.571623</td>\n",
       "      <td>175.453300</td>\n",
       "      <td>175.716700</td>\n",
       "      <td>0.147892</td>\n",
       "      <td>0.532184</td>\n",
       "      <td>175.585000</td>\n",
       "    </tr>\n",
       "    <tr>\n",
       "      <th>2022-03-28 20:59:00</th>\n",
       "      <td>0.020089</td>\n",
       "      <td>-0.173398</td>\n",
       "      <td>0.194389</td>\n",
       "      <td>0.237859</td>\n",
       "      <td>1.217749</td>\n",
       "      <td>1.112840</td>\n",
       "      <td>0.954325</td>\n",
       "      <td>1.379467</td>\n",
       "      <td>1.296826</td>\n",
       "      <td>-0.941</td>\n",
       "      <td>0.116959</td>\n",
       "      <td>0.758549</td>\n",
       "      <td>8.457740</td>\n",
       "      <td>175.458300</td>\n",
       "      <td>175.721700</td>\n",
       "      <td>0.147240</td>\n",
       "      <td>0.621951</td>\n",
       "      <td>175.590000</td>\n",
       "    </tr>\n",
       "    <tr>\n",
       "      <th>2022-03-28 21:00:00</th>\n",
       "      <td>-0.007045</td>\n",
       "      <td>-0.160474</td>\n",
       "      <td>0.155838</td>\n",
       "      <td>0.334853</td>\n",
       "      <td>1.103739</td>\n",
       "      <td>1.246049</td>\n",
       "      <td>0.825185</td>\n",
       "      <td>1.331543</td>\n",
       "      <td>1.161511</td>\n",
       "      <td>-0.967</td>\n",
       "      <td>0.188070</td>\n",
       "      <td>0.543217</td>\n",
       "      <td>9.829462</td>\n",
       "      <td>175.418300</td>\n",
       "      <td>175.681700</td>\n",
       "      <td>0.145704</td>\n",
       "      <td>0.659934</td>\n",
       "      <td>175.550000</td>\n",
       "    </tr>\n",
       "  </tbody>\n",
       "</table>\n",
       "<p>2049568 rows × 18 columns</p>\n",
       "</div>"
      ],
      "text/plain": [
       "                     atr_ratio  atr_ratio_sma    vol_15  bb_width_20  \\\n",
       "2004-01-02 14:07:00  -0.971426      -0.960594 -1.014295    -0.815439   \n",
       "2004-01-02 14:08:00  -0.971405      -0.960547 -1.014295    -0.815436   \n",
       "2004-01-02 14:09:00  -0.971384      -0.960503 -1.014295    -0.815434   \n",
       "2004-01-02 14:10:00  -0.971366      -0.960462 -1.014295    -0.815431   \n",
       "2004-01-02 14:11:00  -0.923613      -0.958038 -0.768664    -0.799708   \n",
       "...                        ...            ...       ...          ...   \n",
       "2022-03-28 20:56:00  -0.030164      -0.214860  0.189349    -0.261620   \n",
       "2022-03-28 20:57:00  -0.026538      -0.202050  0.178457    -0.130963   \n",
       "2022-03-28 20:58:00  -0.021015      -0.188697  0.194997     0.077383   \n",
       "2022-03-28 20:59:00   0.020089      -0.173398  0.194389     0.237859   \n",
       "2022-03-28 21:00:00  -0.007045      -0.160474  0.155838     0.334853   \n",
       "\n",
       "                          r_5      r_15       rsi  stoch_d_3  stoch_k_14  \\\n",
       "2004-01-02 14:07:00 -0.067706 -0.120566 -2.476841  -1.585648   -1.552562   \n",
       "2004-01-02 14:08:00 -0.067708 -0.120569 -2.476841  -1.585648   -1.552562   \n",
       "2004-01-02 14:09:00 -0.067709 -0.120571 -2.476841  -1.585648   -1.552562   \n",
       "2004-01-02 14:10:00 -0.067711 -0.120574 -2.476841  -1.585648   -1.552562   \n",
       "2004-01-02 14:11:00  0.288413  0.090469  0.776847  -1.236847   -0.528223   \n",
       "...                       ...       ...       ...        ...         ...   \n",
       "2022-03-28 20:56:00  1.428264  0.648909  0.631314   0.927657    1.224401   \n",
       "2022-03-28 20:57:00  1.768150  0.788302  0.754476   1.199615    1.302253   \n",
       "2022-03-28 20:58:00  1.705393  1.050869  0.947666   1.354806    1.451027   \n",
       "2022-03-28 20:59:00  1.217749  1.112840  0.954325   1.379467    1.296826   \n",
       "2022-03-28 21:00:00  1.103739  1.246049  0.825185   1.331543    1.161511   \n",
       "\n",
       "                      hour   eng_adx   eng_obv    eng_ma         bid  \\\n",
       "2004-01-02 14:07:00  0.263 -2.981712 -0.861562 -0.001209    0.762693   \n",
       "2004-01-02 14:08:00  0.263 -2.981712 -0.875888 -0.001209    0.762676   \n",
       "2004-01-02 14:09:00  0.263 -2.981712 -0.890215 -0.001209    0.762660   \n",
       "2004-01-02 14:10:00  0.263 -2.981712 -0.904541 -0.001209    0.762643   \n",
       "2004-01-02 14:11:00  0.263  0.889356 -0.731059 -0.001209    0.763071   \n",
       "...                    ...       ...       ...       ...         ...   \n",
       "2022-03-28 20:56:00 -0.941 -0.027995  0.178939  2.227838  175.238500   \n",
       "2022-03-28 20:57:00 -0.941 -0.019207  0.300146  4.171111  175.316000   \n",
       "2022-03-28 20:58:00 -0.941  0.040347  0.438921  6.571623  175.453300   \n",
       "2022-03-28 20:59:00 -0.941  0.116959  0.758549  8.457740  175.458300   \n",
       "2022-03-28 21:00:00 -0.967  0.188070  0.543217  9.829462  175.418300   \n",
       "\n",
       "                            ask    signal  pred_signal   close_mid  \n",
       "2004-01-02 14:07:00    0.763836  1.000000     0.149151    0.763265  \n",
       "2004-01-02 14:08:00    0.763819  1.000000     0.148588    0.763248  \n",
       "2004-01-02 14:09:00    0.763802  1.000000     0.148033    0.763231  \n",
       "2004-01-02 14:10:00    0.763786  1.000000     0.147489    0.763214  \n",
       "2004-01-02 14:11:00    0.764215  1.000000     0.146952    0.763643  \n",
       "...                         ...       ...          ...         ...  \n",
       "2022-03-28 20:56:00  175.501500  0.148736     0.324245  175.370000  \n",
       "2022-03-28 20:57:00  175.579200  0.148383     0.435784  175.447600  \n",
       "2022-03-28 20:58:00  175.716700  0.147892     0.532184  175.585000  \n",
       "2022-03-28 20:59:00  175.721700  0.147240     0.621951  175.590000  \n",
       "2022-03-28 21:00:00  175.681700  0.145704     0.659934  175.550000  \n",
       "\n",
       "[2049568 rows x 18 columns]"
      ]
     },
     "execution_count": 3,
     "metadata": {},
     "output_type": "execute_result"
    }
   ],
   "source": [
    "df_trainval = pd.read_csv(params.trainval_csv, index_col=0, parse_dates=True)\n",
    "df_trainval"
   ]
  },
  {
   "cell_type": "code",
   "execution_count": 4,
   "id": "c6928790-e921-4f21-ba20-65fb08282adb",
   "metadata": {},
   "outputs": [],
   "source": [
    "# Pre-compute per-day slices once\n",
    "groups = list(df_trainval.groupby(df_trainval.index.normalize()))\n",
    "\n",
    "def objective(trial: optuna.Trial) -> float:\n",
    "    \"\"\"\n",
    "    Optuna objective:\n",
    "      1) Suggest pred_threshold, trailing_stop_pred, smoothing_window\n",
    "      2) For each day:\n",
    "         a) Causally smooth `pred_signal` over the last `smoothing_window` minutes\n",
    "         b) Generate discrete actions on the smoothed signal\n",
    "         c) Run 1‐day backtest, collect P&L\n",
    "      3) Report daily P&L for pruning, return average daily P&L\n",
    "    \"\"\"\n",
    "\n",
    "    print('Processing hyperparameters, generate actions on the smoothed predicted signal, and simulate trading......')\n",
    "    \n",
    "    smoothing_window   = trial.suggest_categorical(\"smoothing_window\", [1])\n",
    "    pred_threshold     = trial.suggest_float(\"pred_threshold\",     0.10, 0.80)\n",
    "    trailing_stop_pred = trial.suggest_float(\"trailing_stop_pred\", 0.01, 0.08)\n",
    "\n",
    "    daily_pnls: List[float] = []\n",
    "\n",
    "    print('')\n",
    "    for step, (day, df_day) in enumerate(\n",
    "        tqdm(groups, desc=f\"Trial {trial.number}\", leave=False), 1\n",
    "    ):\n",
    "        # Causal smoothing of the raw pred_signal\n",
    "        df_proc = df_day.copy()\n",
    "        df_proc[\"pred_signal_smoothed\"] = (\n",
    "            df_proc[\"pred_signal\"]\n",
    "              .rolling(window=smoothing_window, min_periods=1)\n",
    "              .mean()\n",
    "        )\n",
    "\n",
    "        # Generate actions on the smoothed column\n",
    "        df_actions = trades.generate_trade_actions(\n",
    "            df                = df_proc,\n",
    "            col_signal        = \"pred_signal_smoothed\",\n",
    "            col_action        = \"pred_action\",\n",
    "            buy_threshold     = pred_threshold,\n",
    "            trailing_stop_pct = trailing_stop_pred,\n",
    "            sess_start        = params.sess_start,\n",
    "            col_close         = \"close_mid\",\n",
    "        )\n",
    "\n",
    "        # Simulate 1-day P&L\n",
    "        sim = trades.simulate_trading(\n",
    "            results_by_day_sign = {day.date(): (df_actions, [])},\n",
    "            col_action          = \"pred_action\",\n",
    "            sess_start          = params.sess_start,\n",
    "            sess_end            = params.sess_end\n",
    "        )\n",
    "        _, _, stats = next(iter(sim.values()))\n",
    "        daily_pnls.append(stats[\"Strategy Return ($)\"])\n",
    "\n",
    "        # Explicitly delete large locals at the end of each trial\n",
    "        del df_proc, df_actions, sim, stats\n",
    "        gc.collect()\n",
    "        torch.cuda.empty_cache()\n",
    "\n",
    "        # Rreport for pruning\n",
    "        trial.report(daily_pnls[-1], step)\n",
    "        if trial.should_prune():\n",
    "            raise optuna.TrialPruned()\n",
    "\n",
    "    # Average daily P&L\n",
    "    return float(np.mean(daily_pnls))\n"
   ]
  },
  {
   "cell_type": "code",
   "execution_count": 5,
   "id": "5b3f29cf-54e9-4d2d-95ca-9325f20c0c81",
   "metadata": {},
   "outputs": [
    {
     "name": "stderr",
     "output_type": "stream",
     "text": [
      "[I 2025-09-08 21:07:22,918] A new study created in RDB with name: no-name-05b84bca-75d3-4d60-875a-8fbad274a2cf\n"
     ]
    },
    {
     "name": "stdout",
     "output_type": "stream",
     "text": [
      "Processing hyperparameters, generate actions on the smoothed predicted signal, and simulate trading......\n",
      "\n"
     ]
    },
    {
     "data": {
      "application/vnd.jupyter.widget-view+json": {
       "model_id": "f4eba49c8481401a9ee583b7ab53d168",
       "version_major": 2,
       "version_minor": 0
      },
      "text/plain": [
       "Trial 0:   0%|          | 0/4591 [00:00<?, ?it/s]"
      ]
     },
     "metadata": {},
     "output_type": "display_data"
    },
    {
     "name": "stderr",
     "output_type": "stream",
     "text": [
      "[I 2025-09-08 21:27:36,523] Trial 0 finished with value: -0.07353452406883033 and parameters: {'smoothing_window': 59, 'pred_threshold': 0.18242062486349273, 'trailing_stop_pred': 0.06652638272391301}. Best is trial 0 with value: -0.07353452406883033.\n"
     ]
    },
    {
     "data": {
      "image/png": "[encoded data removed]",
      "text/plain": [
       "<Figure size 700x300 with 1 Axes>"
      ]
     },
     "metadata": {},
     "output_type": "display_data"
    },
    {
     "name": "stdout",
     "output_type": "stream",
     "text": [
      "Processing hyperparameters, generate actions on the smoothed predicted signal, and simulate trading......\n",
      "\n"
     ]
    },
    {
     "data": {
      "application/vnd.jupyter.widget-view+json": {
       "model_id": "3e60e64ec2e041af8acf21e31221ba08",
       "version_major": 2,
       "version_minor": 0
      },
      "text/plain": [
       "Trial 1:   0%|          | 0/4591 [00:00<?, ?it/s]"
      ]
     },
     "metadata": {},
     "output_type": "display_data"
    },
    {
     "name": "stderr",
     "output_type": "stream",
     "text": [
      "[I 2025-09-08 21:46:38,220] Trial 1 finished with value: -0.0233106077107384 and parameters: {'smoothing_window': 52, 'pred_threshold': 0.5394702516024457, 'trailing_stop_pred': 0.05324601900447869}. Best is trial 1 with value: -0.0233106077107384.\n"
     ]
    },
    {
     "name": "stdout",
     "output_type": "stream",
     "text": [
      "Processing hyperparameters, generate actions on the smoothed predicted signal, and simulate trading......\n",
      "\n"
     ]
    },
    {
     "data": {
      "application/vnd.jupyter.widget-view+json": {
       "model_id": "e685ff9f94654135a77936072d97da59",
       "version_major": 2,
       "version_minor": 0
      },
      "text/plain": [
       "Trial 2:   0%|          | 0/4591 [00:00<?, ?it/s]"
      ]
     },
     "metadata": {},
     "output_type": "display_data"
    },
    {
     "name": "stderr",
     "output_type": "stream",
     "text": [
      "[I 2025-09-08 22:08:38,754] Trial 2 finished with value: -0.006636244826835114 and parameters: {'smoothing_window': 48, 'pred_threshold': 0.735178478209677, 'trailing_stop_pred': 0.04257608590930402}. Best is trial 2 with value: -0.006636244826835114.\n"
     ]
    },
    {
     "name": "stdout",
     "output_type": "stream",
     "text": [
      "Processing hyperparameters, generate actions on the smoothed predicted signal, and simulate trading......\n",
      "\n"
     ]
    },
    {
     "data": {
      "application/vnd.jupyter.widget-view+json": {
       "model_id": "d617dd85d5274705b9cf1682c00dcb18",
       "version_major": 2,
       "version_minor": 0
      },
      "text/plain": [
       "Trial 3:   0%|          | 0/4591 [00:00<?, ?it/s]"
      ]
     },
     "metadata": {},
     "output_type": "display_data"
    },
    {
     "name": "stderr",
     "output_type": "stream",
     "text": [
      "[I 2025-09-08 22:30:52,287] Trial 3 finished with value: -0.015382923110433456 and parameters: {'smoothing_window': 18, 'pred_threshold': 0.7727538940979046, 'trailing_stop_pred': 0.06788509062592231}. Best is trial 2 with value: -0.006636244826835114.\n"
     ]
    },
    {
     "name": "stdout",
     "output_type": "stream",
     "text": [
      "Processing hyperparameters, generate actions on the smoothed predicted signal, and simulate trading......\n",
      "\n"
     ]
    },
    {
     "data": {
      "application/vnd.jupyter.widget-view+json": {
       "model_id": "d1b0aa1cfa8048709a9036081a1f54a5",
       "version_major": 2,
       "version_minor": 0
      },
      "text/plain": [
       "Trial 4:   0%|          | 0/4591 [00:00<?, ?it/s]"
      ]
     },
     "metadata": {},
     "output_type": "display_data"
    },
    {
     "name": "stderr",
     "output_type": "stream",
     "text": [
      "[I 2025-09-08 22:49:33,885] Trial 4 finished with value: -0.0017728163798736661 and parameters: {'smoothing_window': 58, 'pred_threshold': 0.7832934755550622, 'trailing_stop_pred': 0.06718003552847071}. Best is trial 4 with value: -0.0017728163798736661.\n"
     ]
    },
    {
     "name": "stdout",
     "output_type": "stream",
     "text": [
      "Processing hyperparameters, generate actions on the smoothed predicted signal, and simulate trading......\n",
      "\n"
     ]
    },
    {
     "data": {
      "application/vnd.jupyter.widget-view+json": {
       "model_id": "abe4b72ae508446fb2c7a0deeeb3c2ff",
       "version_major": 2,
       "version_minor": 0
      },
      "text/plain": [
       "Trial 5:   0%|          | 0/4591 [00:00<?, ?it/s]"
      ]
     },
     "metadata": {},
     "output_type": "display_data"
    },
    {
     "name": "stderr",
     "output_type": "stream",
     "text": [
      "[I 2025-09-08 23:08:07,068] Trial 5 finished with value: -0.01473469832280549 and parameters: {'smoothing_window': 60, 'pred_threshold': 0.5786935715388957, 'trailing_stop_pred': 0.05848112624963474}. Best is trial 4 with value: -0.0017728163798736661.\n"
     ]
    },
    {
     "name": "stdout",
     "output_type": "stream",
     "text": [
      "Processing hyperparameters, generate actions on the smoothed predicted signal, and simulate trading......\n",
      "\n"
     ]
    },
    {
     "data": {
      "application/vnd.jupyter.widget-view+json": {
       "model_id": "883cbbed2be54610aa9c9ec26a286ddf",
       "version_major": 2,
       "version_minor": 0
      },
      "text/plain": [
       "Trial 6:   0%|          | 0/4591 [00:00<?, ?it/s]"
      ]
     },
     "metadata": {},
     "output_type": "display_data"
    },
    {
     "name": "stderr",
     "output_type": "stream",
     "text": [
      "[I 2025-09-08 23:25:26,065] Trial 6 finished with value: -0.12550381180570683 and parameters: {'smoothing_window': 16, 'pred_threshold': 0.40566989093323447, 'trailing_stop_pred': 0.04379303701498723}. Best is trial 4 with value: -0.0017728163798736661.\n"
     ]
    },
    {
     "name": "stdout",
     "output_type": "stream",
     "text": [
      "Processing hyperparameters, generate actions on the smoothed predicted signal, and simulate trading......\n",
      "\n"
     ]
    },
    {
     "data": {
      "application/vnd.jupyter.widget-view+json": {
       "model_id": "4139baca86504db59f685f5724632562",
       "version_major": 2,
       "version_minor": 0
      },
      "text/plain": [
       "Trial 7:   0%|          | 0/4591 [00:00<?, ?it/s]"
      ]
     },
     "metadata": {},
     "output_type": "display_data"
    },
    {
     "name": "stderr",
     "output_type": "stream",
     "text": [
      "[I 2025-09-08 23:28:05,727] Trial 7 pruned. \n"
     ]
    },
    {
     "name": "stdout",
     "output_type": "stream",
     "text": [
      "Processing hyperparameters, generate actions on the smoothed predicted signal, and simulate trading......\n",
      "\n"
     ]
    },
    {
     "data": {
      "application/vnd.jupyter.widget-view+json": {
       "model_id": "73a55764a31544519e1d5535e60582a4",
       "version_major": 2,
       "version_minor": 0
      },
      "text/plain": [
       "Trial 8:   0%|          | 0/4591 [00:00<?, ?it/s]"
      ]
     },
     "metadata": {},
     "output_type": "display_data"
    },
    {
     "name": "stderr",
     "output_type": "stream",
     "text": [
      "[I 2025-09-08 23:45:24,294] Trial 8 finished with value: -0.12367174907427576 and parameters: {'smoothing_window': 17, 'pred_threshold': 0.1395082963705655, 'trailing_stop_pred': 0.06800244419452538}. Best is trial 4 with value: -0.0017728163798736661.\n"
     ]
    },
    {
     "name": "stdout",
     "output_type": "stream",
     "text": [
      "Processing hyperparameters, generate actions on the smoothed predicted signal, and simulate trading......\n",
      "\n"
     ]
    },
    {
     "data": {
      "application/vnd.jupyter.widget-view+json": {
       "model_id": "f36b879d228142a492e5e71d14d79b0e",
       "version_major": 2,
       "version_minor": 0
      },
      "text/plain": [
       "Trial 9:   0%|          | 0/4591 [00:00<?, ?it/s]"
      ]
     },
     "metadata": {},
     "output_type": "display_data"
    },
    {
     "name": "stderr",
     "output_type": "stream",
     "text": [
      "[I 2025-09-08 23:48:04,936] Trial 9 pruned. \n"
     ]
    },
    {
     "name": "stdout",
     "output_type": "stream",
     "text": [
      "Processing hyperparameters, generate actions on the smoothed predicted signal, and simulate trading......\n",
      "\n"
     ]
    },
    {
     "data": {
      "application/vnd.jupyter.widget-view+json": {
       "model_id": "02f57a6ad2104a26a74251dc5f5f08d4",
       "version_major": 2,
       "version_minor": 0
      },
      "text/plain": [
       "Trial 10:   0%|          | 0/4591 [00:00<?, ?it/s]"
      ]
     },
     "metadata": {},
     "output_type": "display_data"
    },
    {
     "name": "stderr",
     "output_type": "stream",
     "text": [
      "[I 2025-09-09 00:05:20,510] Trial 10 finished with value: -0.08765410585928991 and parameters: {'smoothing_window': 34, 'pred_threshold': 0.3620892382357629, 'trailing_stop_pred': 0.02129657685438582}. Best is trial 4 with value: -0.0017728163798736661.\n"
     ]
    },
    {
     "name": "stdout",
     "output_type": "stream",
     "text": [
      "Processing hyperparameters, generate actions on the smoothed predicted signal, and simulate trading......\n",
      "\n"
     ]
    },
    {
     "data": {
      "application/vnd.jupyter.widget-view+json": {
       "model_id": "5895a5e807034c4996f04f5716bf3cf9",
       "version_major": 2,
       "version_minor": 0
      },
      "text/plain": [
       "Trial 11:   0%|          | 0/4591 [00:00<?, ?it/s]"
      ]
     },
     "metadata": {},
     "output_type": "display_data"
    },
    {
     "name": "stderr",
     "output_type": "stream",
     "text": [
      "[I 2025-09-09 00:07:07,419] Trial 11 pruned. \n"
     ]
    },
    {
     "name": "stdout",
     "output_type": "stream",
     "text": [
      "Processing hyperparameters, generate actions on the smoothed predicted signal, and simulate trading......\n",
      "\n"
     ]
    },
    {
     "data": {
      "application/vnd.jupyter.widget-view+json": {
       "model_id": "f52904ec40a7476496c8f0cb7256f6a1",
       "version_major": 2,
       "version_minor": 0
      },
      "text/plain": [
       "Trial 12:   0%|          | 0/4591 [00:00<?, ?it/s]"
      ]
     },
     "metadata": {},
     "output_type": "display_data"
    },
    {
     "name": "stderr",
     "output_type": "stream",
     "text": [
      "[I 2025-09-09 00:08:55,518] Trial 12 pruned. \n"
     ]
    },
    {
     "name": "stdout",
     "output_type": "stream",
     "text": [
      "Processing hyperparameters, generate actions on the smoothed predicted signal, and simulate trading......\n",
      "\n"
     ]
    },
    {
     "data": {
      "application/vnd.jupyter.widget-view+json": {
       "model_id": "977486cc8c364727b2d1e5d28b17cb82",
       "version_major": 2,
       "version_minor": 0
      },
      "text/plain": [
       "Trial 13:   0%|          | 0/4591 [00:00<?, ?it/s]"
      ]
     },
     "metadata": {},
     "output_type": "display_data"
    },
    {
     "name": "stderr",
     "output_type": "stream",
     "text": [
      "[I 2025-09-09 00:11:37,943] Trial 13 pruned. \n"
     ]
    },
    {
     "name": "stdout",
     "output_type": "stream",
     "text": [
      "Processing hyperparameters, generate actions on the smoothed predicted signal, and simulate trading......\n",
      "\n"
     ]
    },
    {
     "data": {
      "application/vnd.jupyter.widget-view+json": {
       "model_id": "226e0b50d7d747f5a298a96192936a48",
       "version_major": 2,
       "version_minor": 0
      },
      "text/plain": [
       "Trial 14:   0%|          | 0/4591 [00:00<?, ?it/s]"
      ]
     },
     "metadata": {},
     "output_type": "display_data"
    },
    {
     "name": "stderr",
     "output_type": "stream",
     "text": [
      "[I 2025-09-09 00:28:56,311] Trial 14 finished with value: -0.11332106294924851 and parameters: {'smoothing_window': 31, 'pred_threshold': 0.27554802953371144, 'trailing_stop_pred': 0.012576950944335766}. Best is trial 4 with value: -0.0017728163798736661.\n"
     ]
    },
    {
     "name": "stdout",
     "output_type": "stream",
     "text": [
      "Processing hyperparameters, generate actions on the smoothed predicted signal, and simulate trading......\n",
      "\n"
     ]
    },
    {
     "data": {
      "application/vnd.jupyter.widget-view+json": {
       "model_id": "295c4171b9934f489470899b15e16549",
       "version_major": 2,
       "version_minor": 0
      },
      "text/plain": [
       "Trial 15:   0%|          | 0/4591 [00:00<?, ?it/s]"
      ]
     },
     "metadata": {},
     "output_type": "display_data"
    },
    {
     "name": "stderr",
     "output_type": "stream",
     "text": [
      "[I 2025-09-09 00:30:43,094] Trial 15 pruned. \n"
     ]
    },
    {
     "name": "stdout",
     "output_type": "stream",
     "text": [
      "Processing hyperparameters, generate actions on the smoothed predicted signal, and simulate trading......\n",
      "\n"
     ]
    },
    {
     "data": {
      "application/vnd.jupyter.widget-view+json": {
       "model_id": "ae2b03c063d648658f0fe103e38afd40",
       "version_major": 2,
       "version_minor": 0
      },
      "text/plain": [
       "Trial 16:   0%|          | 0/4591 [00:00<?, ?it/s]"
      ]
     },
     "metadata": {},
     "output_type": "display_data"
    },
    {
     "name": "stderr",
     "output_type": "stream",
     "text": [
      "[I 2025-09-09 00:32:30,654] Trial 16 pruned. \n"
     ]
    },
    {
     "name": "stdout",
     "output_type": "stream",
     "text": [
      "Processing hyperparameters, generate actions on the smoothed predicted signal, and simulate trading......\n",
      "\n"
     ]
    },
    {
     "data": {
      "application/vnd.jupyter.widget-view+json": {
       "model_id": "a8554f9ba28049c4a3426b4e63349f88",
       "version_major": 2,
       "version_minor": 0
      },
      "text/plain": [
       "Trial 17:   0%|          | 0/4591 [00:00<?, ?it/s]"
      ]
     },
     "metadata": {},
     "output_type": "display_data"
    },
    {
     "name": "stderr",
     "output_type": "stream",
     "text": [
      "[I 2025-09-09 00:36:07,284] Trial 17 pruned. \n"
     ]
    },
    {
     "name": "stdout",
     "output_type": "stream",
     "text": [
      "Processing hyperparameters, generate actions on the smoothed predicted signal, and simulate trading......\n",
      "\n"
     ]
    },
    {
     "data": {
      "application/vnd.jupyter.widget-view+json": {
       "model_id": "32ec9712207e44c893897d88550757fd",
       "version_major": 2,
       "version_minor": 0
      },
      "text/plain": [
       "Trial 18:   0%|          | 0/4591 [00:00<?, ?it/s]"
      ]
     },
     "metadata": {},
     "output_type": "display_data"
    },
    {
     "name": "stderr",
     "output_type": "stream",
     "text": [
      "[I 2025-09-09 00:37:54,993] Trial 18 pruned. \n"
     ]
    },
    {
     "name": "stdout",
     "output_type": "stream",
     "text": [
      "Processing hyperparameters, generate actions on the smoothed predicted signal, and simulate trading......\n",
      "\n"
     ]
    },
    {
     "data": {
      "application/vnd.jupyter.widget-view+json": {
       "model_id": "be86331c98fb4dbea92657c1fcf61a2a",
       "version_major": 2,
       "version_minor": 0
      },
      "text/plain": [
       "Trial 19:   0%|          | 0/4591 [00:00<?, ?it/s]"
      ]
     },
     "metadata": {},
     "output_type": "display_data"
    },
    {
     "name": "stderr",
     "output_type": "stream",
     "text": [
      "[I 2025-09-09 00:40:36,628] Trial 19 pruned. \n"
     ]
    },
    {
     "name": "stdout",
     "output_type": "stream",
     "text": [
      "Processing hyperparameters, generate actions on the smoothed predicted signal, and simulate trading......\n",
      "\n"
     ]
    },
    {
     "data": {
      "application/vnd.jupyter.widget-view+json": {
       "model_id": "d56b187f35e04a68943950f0465be625",
       "version_major": 2,
       "version_minor": 0
      },
      "text/plain": [
       "Trial 20:   0%|          | 0/4591 [00:00<?, ?it/s]"
      ]
     },
     "metadata": {},
     "output_type": "display_data"
    },
    {
     "name": "stderr",
     "output_type": "stream",
     "text": [
      "[I 2025-09-09 00:42:23,718] Trial 20 pruned. \n"
     ]
    },
    {
     "name": "stdout",
     "output_type": "stream",
     "text": [
      "Processing hyperparameters, generate actions on the smoothed predicted signal, and simulate trading......\n",
      "\n"
     ]
    },
    {
     "data": {
      "application/vnd.jupyter.widget-view+json": {
       "model_id": "f0292252eda94770b1f8abc6342ad3ae",
       "version_major": 2,
       "version_minor": 0
      },
      "text/plain": [
       "Trial 21:   0%|          | 0/4591 [00:00<?, ?it/s]"
      ]
     },
     "metadata": {},
     "output_type": "display_data"
    },
    {
     "name": "stderr",
     "output_type": "stream",
     "text": [
      "[I 2025-09-09 00:44:11,083] Trial 21 pruned. \n"
     ]
    },
    {
     "name": "stdout",
     "output_type": "stream",
     "text": [
      "Processing hyperparameters, generate actions on the smoothed predicted signal, and simulate trading......\n",
      "\n"
     ]
    },
    {
     "data": {
      "application/vnd.jupyter.widget-view+json": {
       "model_id": "aa4aedbef5074d61a87e6494a5ff5c5e",
       "version_major": 2,
       "version_minor": 0
      },
      "text/plain": [
       "Trial 22:   0%|          | 0/4591 [00:00<?, ?it/s]"
      ]
     },
     "metadata": {},
     "output_type": "display_data"
    },
    {
     "name": "stderr",
     "output_type": "stream",
     "text": [
      "[I 2025-09-09 00:46:52,682] Trial 22 pruned. \n"
     ]
    },
    {
     "name": "stdout",
     "output_type": "stream",
     "text": [
      "Processing hyperparameters, generate actions on the smoothed predicted signal, and simulate trading......\n",
      "\n"
     ]
    },
    {
     "data": {
      "application/vnd.jupyter.widget-view+json": {
       "model_id": "faa5306a3e4445849549eff06d9b8c98",
       "version_major": 2,
       "version_minor": 0
      },
      "text/plain": [
       "Trial 23:   0%|          | 0/4591 [00:00<?, ?it/s]"
      ]
     },
     "metadata": {},
     "output_type": "display_data"
    },
    {
     "name": "stderr",
     "output_type": "stream",
     "text": [
      "[I 2025-09-09 00:48:40,368] Trial 23 pruned. \n"
     ]
    },
    {
     "name": "stdout",
     "output_type": "stream",
     "text": [
      "Processing hyperparameters, generate actions on the smoothed predicted signal, and simulate trading......\n",
      "\n"
     ]
    },
    {
     "data": {
      "application/vnd.jupyter.widget-view+json": {
       "model_id": "cdd9e1a805ce4c66a20a0e5faad0806a",
       "version_major": 2,
       "version_minor": 0
      },
      "text/plain": [
       "Trial 24:   0%|          | 0/4591 [00:00<?, ?it/s]"
      ]
     },
     "metadata": {},
     "output_type": "display_data"
    },
    {
     "name": "stderr",
     "output_type": "stream",
     "text": [
      "[I 2025-09-09 00:51:21,541] Trial 24 pruned. \n"
     ]
    },
    {
     "name": "stdout",
     "output_type": "stream",
     "text": [
      "Processing hyperparameters, generate actions on the smoothed predicted signal, and simulate trading......\n",
      "\n"
     ]
    },
    {
     "data": {
      "application/vnd.jupyter.widget-view+json": {
       "model_id": "62dfb616941b4594adf5cc8e92d9ab2b",
       "version_major": 2,
       "version_minor": 0
      },
      "text/plain": [
       "Trial 25:   0%|          | 0/4591 [00:00<?, ?it/s]"
      ]
     },
     "metadata": {},
     "output_type": "display_data"
    },
    {
     "name": "stderr",
     "output_type": "stream",
     "text": [
      "[I 2025-09-09 00:53:09,304] Trial 25 pruned. \n"
     ]
    },
    {
     "name": "stdout",
     "output_type": "stream",
     "text": [
      "Processing hyperparameters, generate actions on the smoothed predicted signal, and simulate trading......\n",
      "\n"
     ]
    },
    {
     "data": {
      "application/vnd.jupyter.widget-view+json": {
       "model_id": "6e626a1f7a4b4d51ae116adc3db8c5a5",
       "version_major": 2,
       "version_minor": 0
      },
      "text/plain": [
       "Trial 26:   0%|          | 0/4591 [00:00<?, ?it/s]"
      ]
     },
     "metadata": {},
     "output_type": "display_data"
    },
    {
     "name": "stderr",
     "output_type": "stream",
     "text": [
      "[I 2025-09-09 00:54:57,655] Trial 26 pruned. \n"
     ]
    },
    {
     "name": "stdout",
     "output_type": "stream",
     "text": [
      "Processing hyperparameters, generate actions on the smoothed predicted signal, and simulate trading......\n",
      "\n"
     ]
    },
    {
     "data": {
      "application/vnd.jupyter.widget-view+json": {
       "model_id": "1b9d5211955e439fb660afcf77e25abb",
       "version_major": 2,
       "version_minor": 0
      },
      "text/plain": [
       "Trial 27:   0%|          | 0/4591 [00:00<?, ?it/s]"
      ]
     },
     "metadata": {},
     "output_type": "display_data"
    },
    {
     "name": "stderr",
     "output_type": "stream",
     "text": [
      "[I 2025-09-09 00:56:45,848] Trial 27 pruned. \n"
     ]
    },
    {
     "name": "stdout",
     "output_type": "stream",
     "text": [
      "Processing hyperparameters, generate actions on the smoothed predicted signal, and simulate trading......\n",
      "\n"
     ]
    },
    {
     "data": {
      "application/vnd.jupyter.widget-view+json": {
       "model_id": "961d23371b9547b0b1f43d61d5223147",
       "version_major": 2,
       "version_minor": 0
      },
      "text/plain": [
       "Trial 28:   0%|          | 0/4591 [00:00<?, ?it/s]"
      ]
     },
     "metadata": {},
     "output_type": "display_data"
    },
    {
     "name": "stderr",
     "output_type": "stream",
     "text": [
      "[I 2025-09-09 00:59:27,672] Trial 28 pruned. \n"
     ]
    },
    {
     "name": "stdout",
     "output_type": "stream",
     "text": [
      "Processing hyperparameters, generate actions on the smoothed predicted signal, and simulate trading......\n",
      "\n"
     ]
    },
    {
     "data": {
      "application/vnd.jupyter.widget-view+json": {
       "model_id": "22b24c683fad48fb8d692654f7a9bbe3",
       "version_major": 2,
       "version_minor": 0
      },
      "text/plain": [
       "Trial 29:   0%|          | 0/4591 [00:00<?, ?it/s]"
      ]
     },
     "metadata": {},
     "output_type": "display_data"
    },
    {
     "name": "stderr",
     "output_type": "stream",
     "text": [
      "[I 2025-09-09 01:03:05,024] Trial 29 pruned. \n"
     ]
    },
    {
     "name": "stdout",
     "output_type": "stream",
     "text": [
      "Processing hyperparameters, generate actions on the smoothed predicted signal, and simulate trading......\n",
      "\n"
     ]
    },
    {
     "data": {
      "application/vnd.jupyter.widget-view+json": {
       "model_id": "2bd1c608525c4d4c97d5cea25d02a2c1",
       "version_major": 2,
       "version_minor": 0
      },
      "text/plain": [
       "Trial 30:   0%|          | 0/4591 [00:00<?, ?it/s]"
      ]
     },
     "metadata": {},
     "output_type": "display_data"
    },
    {
     "name": "stderr",
     "output_type": "stream",
     "text": [
      "[I 2025-09-09 01:20:35,004] Trial 30 finished with value: -0.07585972554998911 and parameters: {'smoothing_window': 58, 'pred_threshold': 0.25518262401631164, 'trailing_stop_pred': 0.06347461404293288}. Best is trial 4 with value: -0.0017728163798736661.\n"
     ]
    },
    {
     "name": "stdout",
     "output_type": "stream",
     "text": [
      "Processing hyperparameters, generate actions on the smoothed predicted signal, and simulate trading......\n",
      "\n"
     ]
    },
    {
     "data": {
      "application/vnd.jupyter.widget-view+json": {
       "model_id": "1be92c6385474971940bacb3772274a4",
       "version_major": 2,
       "version_minor": 0
      },
      "text/plain": [
       "Trial 31:   0%|          | 0/4591 [00:00<?, ?it/s]"
      ]
     },
     "metadata": {},
     "output_type": "display_data"
    },
    {
     "name": "stderr",
     "output_type": "stream",
     "text": [
      "[I 2025-09-09 01:22:23,146] Trial 31 pruned. \n"
     ]
    },
    {
     "name": "stdout",
     "output_type": "stream",
     "text": [
      "Processing hyperparameters, generate actions on the smoothed predicted signal, and simulate trading......\n",
      "\n"
     ]
    },
    {
     "data": {
      "application/vnd.jupyter.widget-view+json": {
       "model_id": "57c36954ad6e44adaa847a6fbd0006cf",
       "version_major": 2,
       "version_minor": 0
      },
      "text/plain": [
       "Trial 32:   0%|          | 0/4591 [00:00<?, ?it/s]"
      ]
     },
     "metadata": {},
     "output_type": "display_data"
    },
    {
     "name": "stderr",
     "output_type": "stream",
     "text": [
      "[I 2025-09-09 01:24:11,719] Trial 32 pruned. \n"
     ]
    },
    {
     "name": "stdout",
     "output_type": "stream",
     "text": [
      "Processing hyperparameters, generate actions on the smoothed predicted signal, and simulate trading......\n",
      "\n"
     ]
    },
    {
     "data": {
      "application/vnd.jupyter.widget-view+json": {
       "model_id": "6a58b1bd2d16449e944e89969455a368",
       "version_major": 2,
       "version_minor": 0
      },
      "text/plain": [
       "Trial 33:   0%|          | 0/4591 [00:00<?, ?it/s]"
      ]
     },
     "metadata": {},
     "output_type": "display_data"
    },
    {
     "name": "stderr",
     "output_type": "stream",
     "text": [
      "[I 2025-09-09 01:25:59,049] Trial 33 pruned. \n"
     ]
    },
    {
     "name": "stdout",
     "output_type": "stream",
     "text": [
      "Processing hyperparameters, generate actions on the smoothed predicted signal, and simulate trading......\n",
      "\n"
     ]
    },
    {
     "data": {
      "application/vnd.jupyter.widget-view+json": {
       "model_id": "8bc61f36297645dc8b8df2de503aeeed",
       "version_major": 2,
       "version_minor": 0
      },
      "text/plain": [
       "Trial 34:   0%|          | 0/4591 [00:00<?, ?it/s]"
      ]
     },
     "metadata": {},
     "output_type": "display_data"
    },
    {
     "name": "stderr",
     "output_type": "stream",
     "text": [
      "[I 2025-09-09 01:27:47,779] Trial 34 pruned. \n"
     ]
    },
    {
     "name": "stdout",
     "output_type": "stream",
     "text": [
      "Processing hyperparameters, generate actions on the smoothed predicted signal, and simulate trading......\n",
      "\n"
     ]
    },
    {
     "data": {
      "application/vnd.jupyter.widget-view+json": {
       "model_id": "19436e38a2e4434ab8f59e34805c19c1",
       "version_major": 2,
       "version_minor": 0
      },
      "text/plain": [
       "Trial 35:   0%|          | 0/4591 [00:00<?, ?it/s]"
      ]
     },
     "metadata": {},
     "output_type": "display_data"
    },
    {
     "name": "stderr",
     "output_type": "stream",
     "text": [
      "[I 2025-09-09 01:29:35,436] Trial 35 pruned. \n"
     ]
    },
    {
     "name": "stdout",
     "output_type": "stream",
     "text": [
      "Processing hyperparameters, generate actions on the smoothed predicted signal, and simulate trading......\n",
      "\n"
     ]
    },
    {
     "data": {
      "application/vnd.jupyter.widget-view+json": {
       "model_id": "ab1f17a955fc42c79cf435b4f05a8107",
       "version_major": 2,
       "version_minor": 0
      },
      "text/plain": [
       "Trial 36:   0%|          | 0/4591 [00:00<?, ?it/s]"
      ]
     },
     "metadata": {},
     "output_type": "display_data"
    },
    {
     "name": "stderr",
     "output_type": "stream",
     "text": [
      "[I 2025-09-09 01:31:23,555] Trial 36 pruned. \n"
     ]
    },
    {
     "name": "stdout",
     "output_type": "stream",
     "text": [
      "Processing hyperparameters, generate actions on the smoothed predicted signal, and simulate trading......\n",
      "\n"
     ]
    },
    {
     "data": {
      "application/vnd.jupyter.widget-view+json": {
       "model_id": "1f545e52bcfa4c2f824a28018bc3b87b",
       "version_major": 2,
       "version_minor": 0
      },
      "text/plain": [
       "Trial 37:   0%|          | 0/4591 [00:00<?, ?it/s]"
      ]
     },
     "metadata": {},
     "output_type": "display_data"
    },
    {
     "name": "stderr",
     "output_type": "stream",
     "text": [
      "[I 2025-09-09 01:33:12,867] Trial 37 pruned. \n"
     ]
    },
    {
     "name": "stdout",
     "output_type": "stream",
     "text": [
      "Processing hyperparameters, generate actions on the smoothed predicted signal, and simulate trading......\n",
      "\n"
     ]
    },
    {
     "data": {
      "application/vnd.jupyter.widget-view+json": {
       "model_id": "1aa403e4e4d449b1b7ac899003ddcf7a",
       "version_major": 2,
       "version_minor": 0
      },
      "text/plain": [
       "Trial 38:   0%|          | 0/4591 [00:00<?, ?it/s]"
      ]
     },
     "metadata": {},
     "output_type": "display_data"
    },
    {
     "name": "stderr",
     "output_type": "stream",
     "text": [
      "[I 2025-09-09 01:35:01,192] Trial 38 pruned. \n"
     ]
    },
    {
     "name": "stdout",
     "output_type": "stream",
     "text": [
      "Processing hyperparameters, generate actions on the smoothed predicted signal, and simulate trading......\n",
      "\n"
     ]
    },
    {
     "data": {
      "application/vnd.jupyter.widget-view+json": {
       "model_id": "f3c6002f4a8f435da6770a86ecc985d8",
       "version_major": 2,
       "version_minor": 0
      },
      "text/plain": [
       "Trial 39:   0%|          | 0/4591 [00:00<?, ?it/s]"
      ]
     },
     "metadata": {},
     "output_type": "display_data"
    },
    {
     "name": "stderr",
     "output_type": "stream",
     "text": [
      "[I 2025-09-09 01:36:50,545] Trial 39 pruned. \n"
     ]
    },
    {
     "name": "stdout",
     "output_type": "stream",
     "text": [
      "Processing hyperparameters, generate actions on the smoothed predicted signal, and simulate trading......\n",
      "\n"
     ]
    },
    {
     "data": {
      "application/vnd.jupyter.widget-view+json": {
       "model_id": "f71bb57dd66540e490ad4bebece958ab",
       "version_major": 2,
       "version_minor": 0
      },
      "text/plain": [
       "Trial 40:   0%|          | 0/4591 [00:00<?, ?it/s]"
      ]
     },
     "metadata": {},
     "output_type": "display_data"
    },
    {
     "name": "stderr",
     "output_type": "stream",
     "text": [
      "[I 2025-09-09 01:54:31,185] Trial 40 finished with value: -0.09027031147898062 and parameters: {'smoothing_window': 12, 'pred_threshold': 0.10044227039769499, 'trailing_stop_pred': 0.04285392852389115}. Best is trial 4 with value: -0.0017728163798736661.\n"
     ]
    },
    {
     "name": "stdout",
     "output_type": "stream",
     "text": [
      "Processing hyperparameters, generate actions on the smoothed predicted signal, and simulate trading......\n",
      "\n"
     ]
    },
    {
     "data": {
      "application/vnd.jupyter.widget-view+json": {
       "model_id": "8e84b24d34714aca92086881122a9f44",
       "version_major": 2,
       "version_minor": 0
      },
      "text/plain": [
       "Trial 41:   0%|          | 0/4591 [00:00<?, ?it/s]"
      ]
     },
     "metadata": {},
     "output_type": "display_data"
    },
    {
     "name": "stderr",
     "output_type": "stream",
     "text": [
      "[I 2025-09-09 01:56:20,782] Trial 41 pruned. \n"
     ]
    },
    {
     "name": "stdout",
     "output_type": "stream",
     "text": [
      "Processing hyperparameters, generate actions on the smoothed predicted signal, and simulate trading......\n",
      "\n"
     ]
    },
    {
     "data": {
      "application/vnd.jupyter.widget-view+json": {
       "model_id": "622eb457e5654ef78d69e8d789412bcb",
       "version_major": 2,
       "version_minor": 0
      },
      "text/plain": [
       "Trial 42:   0%|          | 0/4591 [00:00<?, ?it/s]"
      ]
     },
     "metadata": {},
     "output_type": "display_data"
    },
    {
     "name": "stderr",
     "output_type": "stream",
     "text": [
      "[I 2025-09-09 01:58:10,937] Trial 42 pruned. \n"
     ]
    },
    {
     "name": "stdout",
     "output_type": "stream",
     "text": [
      "Processing hyperparameters, generate actions on the smoothed predicted signal, and simulate trading......\n",
      "\n"
     ]
    },
    {
     "data": {
      "application/vnd.jupyter.widget-view+json": {
       "model_id": "2dc7af777eef412a8c0875788205b96f",
       "version_major": 2,
       "version_minor": 0
      },
      "text/plain": [
       "Trial 43:   0%|          | 0/4591 [00:00<?, ?it/s]"
      ]
     },
     "metadata": {},
     "output_type": "display_data"
    },
    {
     "name": "stderr",
     "output_type": "stream",
     "text": [
      "[I 2025-09-09 02:00:00,369] Trial 43 pruned. \n"
     ]
    },
    {
     "name": "stdout",
     "output_type": "stream",
     "text": [
      "Processing hyperparameters, generate actions on the smoothed predicted signal, and simulate trading......\n",
      "\n"
     ]
    },
    {
     "data": {
      "application/vnd.jupyter.widget-view+json": {
       "model_id": "b547429883c944f59da9d86ebf762efd",
       "version_major": 2,
       "version_minor": 0
      },
      "text/plain": [
       "Trial 44:   0%|          | 0/4591 [00:00<?, ?it/s]"
      ]
     },
     "metadata": {},
     "output_type": "display_data"
    },
    {
     "name": "stderr",
     "output_type": "stream",
     "text": [
      "[I 2025-09-09 02:01:50,343] Trial 44 pruned. \n"
     ]
    },
    {
     "name": "stdout",
     "output_type": "stream",
     "text": [
      "Processing hyperparameters, generate actions on the smoothed predicted signal, and simulate trading......\n",
      "\n"
     ]
    },
    {
     "data": {
      "application/vnd.jupyter.widget-view+json": {
       "model_id": "f03790b54c284251a554480542f6fe57",
       "version_major": 2,
       "version_minor": 0
      },
      "text/plain": [
       "Trial 45:   0%|          | 0/4591 [00:00<?, ?it/s]"
      ]
     },
     "metadata": {},
     "output_type": "display_data"
    },
    {
     "name": "stderr",
     "output_type": "stream",
     "text": [
      "[I 2025-09-09 02:03:39,585] Trial 45 pruned. \n"
     ]
    },
    {
     "name": "stdout",
     "output_type": "stream",
     "text": [
      "Processing hyperparameters, generate actions on the smoothed predicted signal, and simulate trading......\n",
      "\n"
     ]
    },
    {
     "data": {
      "application/vnd.jupyter.widget-view+json": {
       "model_id": "8b558943ad024454b7c3abe1a2fe2507",
       "version_major": 2,
       "version_minor": 0
      },
      "text/plain": [
       "Trial 46:   0%|          | 0/4591 [00:00<?, ?it/s]"
      ]
     },
     "metadata": {},
     "output_type": "display_data"
    },
    {
     "name": "stderr",
     "output_type": "stream",
     "text": [
      "[I 2025-09-09 02:05:28,237] Trial 46 pruned. \n"
     ]
    },
    {
     "name": "stdout",
     "output_type": "stream",
     "text": [
      "Processing hyperparameters, generate actions on the smoothed predicted signal, and simulate trading......\n",
      "\n"
     ]
    },
    {
     "data": {
      "application/vnd.jupyter.widget-view+json": {
       "model_id": "bc3d76cb026a4d1a8d98394baba5e843",
       "version_major": 2,
       "version_minor": 0
      },
      "text/plain": [
       "Trial 47:   0%|          | 0/4591 [00:00<?, ?it/s]"
      ]
     },
     "metadata": {},
     "output_type": "display_data"
    },
    {
     "name": "stderr",
     "output_type": "stream",
     "text": [
      "[I 2025-09-09 02:07:18,555] Trial 47 pruned. \n"
     ]
    },
    {
     "name": "stdout",
     "output_type": "stream",
     "text": [
      "Processing hyperparameters, generate actions on the smoothed predicted signal, and simulate trading......\n",
      "\n"
     ]
    },
    {
     "data": {
      "application/vnd.jupyter.widget-view+json": {
       "model_id": "6e7982e341f84b7880dbb4b931823950",
       "version_major": 2,
       "version_minor": 0
      },
      "text/plain": [
       "Trial 48:   0%|          | 0/4591 [00:00<?, ?it/s]"
      ]
     },
     "metadata": {},
     "output_type": "display_data"
    },
    {
     "name": "stderr",
     "output_type": "stream",
     "text": [
      "[I 2025-09-09 02:09:08,537] Trial 48 pruned. \n"
     ]
    },
    {
     "name": "stdout",
     "output_type": "stream",
     "text": [
      "Processing hyperparameters, generate actions on the smoothed predicted signal, and simulate trading......\n",
      "\n"
     ]
    },
    {
     "data": {
      "application/vnd.jupyter.widget-view+json": {
       "model_id": "8cbe49a0eadb4aadbe0413b9c6ce887d",
       "version_major": 2,
       "version_minor": 0
      },
      "text/plain": [
       "Trial 49:   0%|          | 0/4591 [00:00<?, ?it/s]"
      ]
     },
     "metadata": {},
     "output_type": "display_data"
    },
    {
     "name": "stderr",
     "output_type": "stream",
     "text": [
      "[I 2025-09-09 02:10:57,501] Trial 49 pruned. \n"
     ]
    },
    {
     "name": "stdout",
     "output_type": "stream",
     "text": [
      "Processing hyperparameters, generate actions on the smoothed predicted signal, and simulate trading......\n",
      "\n"
     ]
    },
    {
     "data": {
      "application/vnd.jupyter.widget-view+json": {
       "model_id": "c90cb60e140c4766a95d8b2365c3aed3",
       "version_major": 2,
       "version_minor": 0
      },
      "text/plain": [
       "Trial 50:   0%|          | 0/4591 [00:00<?, ?it/s]"
      ]
     },
     "metadata": {},
     "output_type": "display_data"
    },
    {
     "name": "stderr",
     "output_type": "stream",
     "text": [
      "[I 2025-09-09 02:12:47,967] Trial 50 pruned. \n"
     ]
    },
    {
     "name": "stdout",
     "output_type": "stream",
     "text": [
      "Processing hyperparameters, generate actions on the smoothed predicted signal, and simulate trading......\n",
      "\n"
     ]
    },
    {
     "data": {
      "application/vnd.jupyter.widget-view+json": {
       "model_id": "363ea561ba584593a6a9e2aa012cad2d",
       "version_major": 2,
       "version_minor": 0
      },
      "text/plain": [
       "Trial 51:   0%|          | 0/4591 [00:00<?, ?it/s]"
      ]
     },
     "metadata": {},
     "output_type": "display_data"
    },
    {
     "name": "stderr",
     "output_type": "stream",
     "text": [
      "[I 2025-09-09 02:14:37,759] Trial 51 pruned. \n"
     ]
    },
    {
     "name": "stdout",
     "output_type": "stream",
     "text": [
      "Processing hyperparameters, generate actions on the smoothed predicted signal, and simulate trading......\n",
      "\n"
     ]
    },
    {
     "data": {
      "application/vnd.jupyter.widget-view+json": {
       "model_id": "107ab957d9bd489396125aabdcf28d62",
       "version_major": 2,
       "version_minor": 0
      },
      "text/plain": [
       "Trial 52:   0%|          | 0/4591 [00:00<?, ?it/s]"
      ]
     },
     "metadata": {},
     "output_type": "display_data"
    },
    {
     "name": "stderr",
     "output_type": "stream",
     "text": [
      "[I 2025-09-09 02:32:19,155] Trial 52 finished with value: -0.08030668699629712 and parameters: {'smoothing_window': 54, 'pred_threshold': 0.23291853777000338, 'trailing_stop_pred': 0.07079636515772303}. Best is trial 4 with value: -0.0017728163798736661.\n"
     ]
    },
    {
     "name": "stdout",
     "output_type": "stream",
     "text": [
      "Processing hyperparameters, generate actions on the smoothed predicted signal, and simulate trading......\n",
      "\n"
     ]
    },
    {
     "data": {
      "application/vnd.jupyter.widget-view+json": {
       "model_id": "5cd0292857ea463985e718a6051d7411",
       "version_major": 2,
       "version_minor": 0
      },
      "text/plain": [
       "Trial 53:   0%|          | 0/4591 [00:00<?, ?it/s]"
      ]
     },
     "metadata": {},
     "output_type": "display_data"
    },
    {
     "name": "stderr",
     "output_type": "stream",
     "text": [
      "[I 2025-09-09 02:34:08,994] Trial 53 pruned. \n"
     ]
    },
    {
     "name": "stdout",
     "output_type": "stream",
     "text": [
      "Processing hyperparameters, generate actions on the smoothed predicted signal, and simulate trading......\n",
      "\n"
     ]
    },
    {
     "data": {
      "application/vnd.jupyter.widget-view+json": {
       "model_id": "c9f2cc1e857347d3978e1af32b158f03",
       "version_major": 2,
       "version_minor": 0
      },
      "text/plain": [
       "Trial 54:   0%|          | 0/4591 [00:00<?, ?it/s]"
      ]
     },
     "metadata": {},
     "output_type": "display_data"
    },
    {
     "name": "stderr",
     "output_type": "stream",
     "text": [
      "[I 2025-09-09 02:51:50,961] Trial 54 finished with value: -0.07979350903942496 and parameters: {'smoothing_window': 56, 'pred_threshold': 0.20285778886511496, 'trailing_stop_pred': 0.07682803386398177}. Best is trial 4 with value: -0.0017728163798736661.\n"
     ]
    },
    {
     "name": "stdout",
     "output_type": "stream",
     "text": [
      "Processing hyperparameters, generate actions on the smoothed predicted signal, and simulate trading......\n",
      "\n"
     ]
    },
    {
     "data": {
      "application/vnd.jupyter.widget-view+json": {
       "model_id": "f0f0893802704d06b95399e2cff79844",
       "version_major": 2,
       "version_minor": 0
      },
      "text/plain": [
       "Trial 55:   0%|          | 0/4591 [00:00<?, ?it/s]"
      ]
     },
     "metadata": {},
     "output_type": "display_data"
    },
    {
     "name": "stderr",
     "output_type": "stream",
     "text": [
      "[I 2025-09-09 02:53:39,967] Trial 55 pruned. \n"
     ]
    },
    {
     "name": "stdout",
     "output_type": "stream",
     "text": [
      "Processing hyperparameters, generate actions on the smoothed predicted signal, and simulate trading......\n",
      "\n"
     ]
    },
    {
     "data": {
      "application/vnd.jupyter.widget-view+json": {
       "model_id": "dc784051f0d344e9ae7234771fd9c7dd",
       "version_major": 2,
       "version_minor": 0
      },
      "text/plain": [
       "Trial 56:   0%|          | 0/4591 [00:00<?, ?it/s]"
      ]
     },
     "metadata": {},
     "output_type": "display_data"
    },
    {
     "name": "stderr",
     "output_type": "stream",
     "text": [
      "[I 2025-09-09 03:11:27,425] Trial 56 finished with value: -0.08428534088433891 and parameters: {'smoothing_window': 45, 'pred_threshold': 0.16650542747814703, 'trailing_stop_pred': 0.060191485628972745}. Best is trial 4 with value: -0.0017728163798736661.\n"
     ]
    },
    {
     "name": "stdout",
     "output_type": "stream",
     "text": [
      "Processing hyperparameters, generate actions on the smoothed predicted signal, and simulate trading......\n",
      "\n"
     ]
    },
    {
     "data": {
      "application/vnd.jupyter.widget-view+json": {
       "model_id": "e5c8032f88c04f948c42416cb54583b8",
       "version_major": 2,
       "version_minor": 0
      },
      "text/plain": [
       "Trial 57:   0%|          | 0/4591 [00:00<?, ?it/s]"
      ]
     },
     "metadata": {},
     "output_type": "display_data"
    },
    {
     "name": "stderr",
     "output_type": "stream",
     "text": [
      "[I 2025-09-09 03:13:17,807] Trial 57 pruned. \n"
     ]
    },
    {
     "name": "stdout",
     "output_type": "stream",
     "text": [
      "Processing hyperparameters, generate actions on the smoothed predicted signal, and simulate trading......\n",
      "\n"
     ]
    },
    {
     "data": {
      "application/vnd.jupyter.widget-view+json": {
       "model_id": "afca02e7289d43b787f5d574ce672e54",
       "version_major": 2,
       "version_minor": 0
      },
      "text/plain": [
       "Trial 58:   0%|          | 0/4591 [00:00<?, ?it/s]"
      ]
     },
     "metadata": {},
     "output_type": "display_data"
    },
    {
     "name": "stderr",
     "output_type": "stream",
     "text": [
      "[I 2025-09-09 03:15:08,664] Trial 58 pruned. \n"
     ]
    },
    {
     "name": "stdout",
     "output_type": "stream",
     "text": [
      "Processing hyperparameters, generate actions on the smoothed predicted signal, and simulate trading......\n",
      "\n"
     ]
    },
    {
     "data": {
      "application/vnd.jupyter.widget-view+json": {
       "model_id": "41244864d4ad4e17b5aa8d505eacca9b",
       "version_major": 2,
       "version_minor": 0
      },
      "text/plain": [
       "Trial 59:   0%|          | 0/4591 [00:00<?, ?it/s]"
      ]
     },
     "metadata": {},
     "output_type": "display_data"
    },
    {
     "name": "stderr",
     "output_type": "stream",
     "text": [
      "[I 2025-09-09 03:16:57,795] Trial 59 pruned. \n"
     ]
    },
    {
     "name": "stdout",
     "output_type": "stream",
     "text": [
      "Processing hyperparameters, generate actions on the smoothed predicted signal, and simulate trading......\n",
      "\n"
     ]
    },
    {
     "data": {
      "application/vnd.jupyter.widget-view+json": {
       "model_id": "e3b9af7ef3b049d9bc71a5e7f1050af9",
       "version_major": 2,
       "version_minor": 0
      },
      "text/plain": [
       "Trial 60:   0%|          | 0/4591 [00:00<?, ?it/s]"
      ]
     },
     "metadata": {},
     "output_type": "display_data"
    },
    {
     "name": "stderr",
     "output_type": "stream",
     "text": [
      "[I 2025-09-09 03:18:47,444] Trial 60 pruned. \n"
     ]
    },
    {
     "name": "stdout",
     "output_type": "stream",
     "text": [
      "Processing hyperparameters, generate actions on the smoothed predicted signal, and simulate trading......\n",
      "\n"
     ]
    },
    {
     "data": {
      "application/vnd.jupyter.widget-view+json": {
       "model_id": "9a603caf76d443b0a1ca1baf81192c51",
       "version_major": 2,
       "version_minor": 0
      },
      "text/plain": [
       "Trial 61:   0%|          | 0/4591 [00:00<?, ?it/s]"
      ]
     },
     "metadata": {},
     "output_type": "display_data"
    },
    {
     "name": "stderr",
     "output_type": "stream",
     "text": [
      "[I 2025-09-09 03:36:30,953] Trial 61 finished with value: -0.07803267262034413 and parameters: {'smoothing_window': 58, 'pred_threshold': 0.2174474918631003, 'trailing_stop_pred': 0.06312201365729526}. Best is trial 4 with value: -0.0017728163798736661.\n"
     ]
    },
    {
     "name": "stdout",
     "output_type": "stream",
     "text": [
      "Processing hyperparameters, generate actions on the smoothed predicted signal, and simulate trading......\n",
      "\n"
     ]
    },
    {
     "data": {
      "application/vnd.jupyter.widget-view+json": {
       "model_id": "d32be9f1ef7d4f85a4f012ac0e3ceaef",
       "version_major": 2,
       "version_minor": 0
      },
      "text/plain": [
       "Trial 62:   0%|          | 0/4591 [00:00<?, ?it/s]"
      ]
     },
     "metadata": {},
     "output_type": "display_data"
    },
    {
     "name": "stderr",
     "output_type": "stream",
     "text": [
      "[I 2025-09-09 03:54:21,193] Trial 62 finished with value: -0.07094794162491833 and parameters: {'smoothing_window': 57, 'pred_threshold': 0.15518168968176643, 'trailing_stop_pred': 0.06569028531530909}. Best is trial 4 with value: -0.0017728163798736661.\n"
     ]
    },
    {
     "name": "stdout",
     "output_type": "stream",
     "text": [
      "Processing hyperparameters, generate actions on the smoothed predicted signal, and simulate trading......\n",
      "\n"
     ]
    },
    {
     "data": {
      "application/vnd.jupyter.widget-view+json": {
       "model_id": "416b36d4363a4b81873c32ca86903d81",
       "version_major": 2,
       "version_minor": 0
      },
      "text/plain": [
       "Trial 63:   0%|          | 0/4591 [00:00<?, ?it/s]"
      ]
     },
     "metadata": {},
     "output_type": "display_data"
    },
    {
     "name": "stderr",
     "output_type": "stream",
     "text": [
      "[I 2025-09-09 04:12:08,493] Trial 63 finished with value: -0.06264169026355915 and parameters: {'smoothing_window': 50, 'pred_threshold': 0.12601599470185382, 'trailing_stop_pred': 0.057628806240532154}. Best is trial 4 with value: -0.0017728163798736661.\n"
     ]
    },
    {
     "name": "stdout",
     "output_type": "stream",
     "text": [
      "Processing hyperparameters, generate actions on the smoothed predicted signal, and simulate trading......\n",
      "\n"
     ]
    },
    {
     "data": {
      "application/vnd.jupyter.widget-view+json": {
       "model_id": "a14019fcac5f495bb2de8a49af306880",
       "version_major": 2,
       "version_minor": 0
      },
      "text/plain": [
       "Trial 64:   0%|          | 0/4591 [00:00<?, ?it/s]"
      ]
     },
     "metadata": {},
     "output_type": "display_data"
    },
    {
     "name": "stderr",
     "output_type": "stream",
     "text": [
      "[I 2025-09-09 04:29:57,863] Trial 64 finished with value: -0.058869309518623396 and parameters: {'smoothing_window': 50, 'pred_threshold': 0.1126806282823889, 'trailing_stop_pred': 0.05781715184463083}. Best is trial 4 with value: -0.0017728163798736661.\n"
     ]
    },
    {
     "name": "stdout",
     "output_type": "stream",
     "text": [
      "Processing hyperparameters, generate actions on the smoothed predicted signal, and simulate trading......\n",
      "\n"
     ]
    },
    {
     "data": {
      "application/vnd.jupyter.widget-view+json": {
       "model_id": "f94e56043fbb4a32aa8180dd4288107b",
       "version_major": 2,
       "version_minor": 0
      },
      "text/plain": [
       "Trial 65:   0%|          | 0/4591 [00:00<?, ?it/s]"
      ]
     },
     "metadata": {},
     "output_type": "display_data"
    },
    {
     "name": "stderr",
     "output_type": "stream",
     "text": [
      "[I 2025-09-09 04:31:48,948] Trial 65 pruned. \n"
     ]
    },
    {
     "name": "stdout",
     "output_type": "stream",
     "text": [
      "Processing hyperparameters, generate actions on the smoothed predicted signal, and simulate trading......\n",
      "\n"
     ]
    },
    {
     "data": {
      "application/vnd.jupyter.widget-view+json": {
       "model_id": "e3574e82a66342968a00270e31e1b45f",
       "version_major": 2,
       "version_minor": 0
      },
      "text/plain": [
       "Trial 66:   0%|          | 0/4591 [00:00<?, ?it/s]"
      ]
     },
     "metadata": {},
     "output_type": "display_data"
    },
    {
     "name": "stderr",
     "output_type": "stream",
     "text": [
      "[I 2025-09-09 04:49:36,343] Trial 66 finished with value: -0.060836854715748206 and parameters: {'smoothing_window': 50, 'pred_threshold': 0.11982194967661547, 'trailing_stop_pred': 0.04722509301635718}. Best is trial 4 with value: -0.0017728163798736661.\n"
     ]
    },
    {
     "name": "stdout",
     "output_type": "stream",
     "text": [
      "Processing hyperparameters, generate actions on the smoothed predicted signal, and simulate trading......\n",
      "\n"
     ]
    },
    {
     "data": {
      "application/vnd.jupyter.widget-view+json": {
       "model_id": "9246be69c8cb464fa823622f1c4f9f59",
       "version_major": 2,
       "version_minor": 0
      },
      "text/plain": [
       "Trial 67:   0%|          | 0/4591 [00:00<?, ?it/s]"
      ]
     },
     "metadata": {},
     "output_type": "display_data"
    },
    {
     "name": "stderr",
     "output_type": "stream",
     "text": [
      "[I 2025-09-09 05:07:30,600] Trial 67 finished with value: -0.057664778915269 and parameters: {'smoothing_window': 38, 'pred_threshold': 0.1010198313545709, 'trailing_stop_pred': 0.04720214383241497}. Best is trial 4 with value: -0.0017728163798736661.\n"
     ]
    },
    {
     "name": "stdout",
     "output_type": "stream",
     "text": [
      "Processing hyperparameters, generate actions on the smoothed predicted signal, and simulate trading......\n",
      "\n"
     ]
    },
    {
     "data": {
      "application/vnd.jupyter.widget-view+json": {
       "model_id": "e8ec6e11ba6f4a71b8be6befb32f084b",
       "version_major": 2,
       "version_minor": 0
      },
      "text/plain": [
       "Trial 68:   0%|          | 0/4591 [00:00<?, ?it/s]"
      ]
     },
     "metadata": {},
     "output_type": "display_data"
    },
    {
     "name": "stderr",
     "output_type": "stream",
     "text": [
      "[I 2025-09-09 05:09:20,105] Trial 68 pruned. \n"
     ]
    },
    {
     "name": "stdout",
     "output_type": "stream",
     "text": [
      "Processing hyperparameters, generate actions on the smoothed predicted signal, and simulate trading......\n",
      "\n"
     ]
    },
    {
     "data": {
      "application/vnd.jupyter.widget-view+json": {
       "model_id": "c09a783518de4132a7bb92796eacf219",
       "version_major": 2,
       "version_minor": 0
      },
      "text/plain": [
       "Trial 69:   0%|          | 0/4591 [00:00<?, ?it/s]"
      ]
     },
     "metadata": {},
     "output_type": "display_data"
    },
    {
     "name": "stderr",
     "output_type": "stream",
     "text": [
      "[I 2025-09-09 05:25:30,999] Trial 69 pruned. \n"
     ]
    },
    {
     "name": "stdout",
     "output_type": "stream",
     "text": [
      "Processing hyperparameters, generate actions on the smoothed predicted signal, and simulate trading......\n",
      "\n"
     ]
    },
    {
     "data": {
      "application/vnd.jupyter.widget-view+json": {
       "model_id": "93eea7a7b9fc4d43aa1bdbf11ffcb051",
       "version_major": 2,
       "version_minor": 0
      },
      "text/plain": [
       "Trial 70:   0%|          | 0/4591 [00:00<?, ?it/s]"
      ]
     },
     "metadata": {},
     "output_type": "display_data"
    },
    {
     "name": "stderr",
     "output_type": "stream",
     "text": [
      "[I 2025-09-09 05:27:19,659] Trial 70 pruned. \n"
     ]
    },
    {
     "name": "stdout",
     "output_type": "stream",
     "text": [
      "Processing hyperparameters, generate actions on the smoothed predicted signal, and simulate trading......\n",
      "\n"
     ]
    },
    {
     "data": {
      "application/vnd.jupyter.widget-view+json": {
       "model_id": "7fe3037181264417ac5f365b2e6b1128",
       "version_major": 2,
       "version_minor": 0
      },
      "text/plain": [
       "Trial 71:   0%|          | 0/4591 [00:00<?, ?it/s]"
      ]
     },
     "metadata": {},
     "output_type": "display_data"
    },
    {
     "name": "stderr",
     "output_type": "stream",
     "text": [
      "[I 2025-09-09 05:45:16,113] Trial 71 finished with value: -0.07001023742104116 and parameters: {'smoothing_window': 39, 'pred_threshold': 0.12326817216768828, 'trailing_stop_pred': 0.047190073066464076}. Best is trial 4 with value: -0.0017728163798736661.\n"
     ]
    },
    {
     "name": "stdout",
     "output_type": "stream",
     "text": [
      "Processing hyperparameters, generate actions on the smoothed predicted signal, and simulate trading......\n",
      "\n"
     ]
    },
    {
     "data": {
      "application/vnd.jupyter.widget-view+json": {
       "model_id": "0abdb1cae83640cda018874ae7194225",
       "version_major": 2,
       "version_minor": 0
      },
      "text/plain": [
       "Trial 72:   0%|          | 0/4591 [00:00<?, ?it/s]"
      ]
     },
     "metadata": {},
     "output_type": "display_data"
    },
    {
     "name": "stderr",
     "output_type": "stream",
     "text": [
      "[I 2025-09-09 06:03:12,070] Trial 72 finished with value: -0.06040622957961228 and parameters: {'smoothing_window': 37, 'pred_threshold': 0.10435893905695352, 'trailing_stop_pred': 0.040562942340646606}. Best is trial 4 with value: -0.0017728163798736661.\n"
     ]
    },
    {
     "name": "stdout",
     "output_type": "stream",
     "text": [
      "Processing hyperparameters, generate actions on the smoothed predicted signal, and simulate trading......\n",
      "\n"
     ]
    },
    {
     "data": {
      "application/vnd.jupyter.widget-view+json": {
       "model_id": "e392408030f14642ade7a4bfcd1cbb88",
       "version_major": 2,
       "version_minor": 0
      },
      "text/plain": [
       "Trial 73:   0%|          | 0/4591 [00:00<?, ?it/s]"
      ]
     },
     "metadata": {},
     "output_type": "display_data"
    },
    {
     "name": "stderr",
     "output_type": "stream",
     "text": [
      "[I 2025-09-09 06:21:04,988] Trial 73 finished with value: -0.08903397952515793 and parameters: {'smoothing_window': 34, 'pred_threshold': 0.14862830912231734, 'trailing_stop_pred': 0.04038703040569155}. Best is trial 4 with value: -0.0017728163798736661.\n"
     ]
    },
    {
     "name": "stdout",
     "output_type": "stream",
     "text": [
      "Processing hyperparameters, generate actions on the smoothed predicted signal, and simulate trading......\n",
      "\n"
     ]
    },
    {
     "data": {
      "application/vnd.jupyter.widget-view+json": {
       "model_id": "e078d5ebdb0e4c648eeac2b47b44d2e2",
       "version_major": 2,
       "version_minor": 0
      },
      "text/plain": [
       "Trial 74:   0%|          | 0/4591 [00:00<?, ?it/s]"
      ]
     },
     "metadata": {},
     "output_type": "display_data"
    },
    {
     "name": "stderr",
     "output_type": "stream",
     "text": [
      "[I 2025-09-09 06:39:02,510] Trial 74 finished with value: -0.06261380962753213 and parameters: {'smoothing_window': 36, 'pred_threshold': 0.10589217625115849, 'trailing_stop_pred': 0.033923615878805255}. Best is trial 4 with value: -0.0017728163798736661.\n"
     ]
    },
    {
     "name": "stdout",
     "output_type": "stream",
     "text": [
      "Processing hyperparameters, generate actions on the smoothed predicted signal, and simulate trading......\n",
      "\n"
     ]
    },
    {
     "data": {
      "application/vnd.jupyter.widget-view+json": {
       "model_id": "304987cd12634008bd79bcab1dce14e8",
       "version_major": 2,
       "version_minor": 0
      },
      "text/plain": [
       "Trial 75:   0%|          | 0/4591 [00:00<?, ?it/s]"
      ]
     },
     "metadata": {},
     "output_type": "display_data"
    },
    {
     "name": "stderr",
     "output_type": "stream",
     "text": [
      "[I 2025-09-09 06:56:51,119] Trial 75 finished with value: -0.07968743193204095 and parameters: {'smoothing_window': 41, 'pred_threshold': 0.1425151875421747, 'trailing_stop_pred': 0.03785934302551768}. Best is trial 4 with value: -0.0017728163798736661.\n"
     ]
    },
    {
     "name": "stdout",
     "output_type": "stream",
     "text": [
      "Processing hyperparameters, generate actions on the smoothed predicted signal, and simulate trading......\n",
      "\n"
     ]
    },
    {
     "data": {
      "application/vnd.jupyter.widget-view+json": {
       "model_id": "a0e919c3673d48188402dc3b86b4a93e",
       "version_major": 2,
       "version_minor": 0
      },
      "text/plain": [
       "Trial 76:   0%|          | 0/4591 [00:00<?, ?it/s]"
      ]
     },
     "metadata": {},
     "output_type": "display_data"
    },
    {
     "name": "stderr",
     "output_type": "stream",
     "text": [
      "[I 2025-09-09 06:58:40,239] Trial 76 pruned. \n"
     ]
    },
    {
     "name": "stdout",
     "output_type": "stream",
     "text": [
      "Processing hyperparameters, generate actions on the smoothed predicted signal, and simulate trading......\n",
      "\n"
     ]
    },
    {
     "data": {
      "application/vnd.jupyter.widget-view+json": {
       "model_id": "64c759f87d6642fba5876bef9c7592a8",
       "version_major": 2,
       "version_minor": 0
      },
      "text/plain": [
       "Trial 77:   0%|          | 0/4591 [00:00<?, ?it/s]"
      ]
     },
     "metadata": {},
     "output_type": "display_data"
    },
    {
     "name": "stderr",
     "output_type": "stream",
     "text": [
      "[I 2025-09-09 07:06:30,595] Trial 77 pruned. \n"
     ]
    },
    {
     "name": "stdout",
     "output_type": "stream",
     "text": [
      "Processing hyperparameters, generate actions on the smoothed predicted signal, and simulate trading......\n",
      "\n"
     ]
    },
    {
     "data": {
      "application/vnd.jupyter.widget-view+json": {
       "model_id": "177ded94558e4b5ead12ef6566a9bc7d",
       "version_major": 2,
       "version_minor": 0
      },
      "text/plain": [
       "Trial 78:   0%|          | 0/4591 [00:00<?, ?it/s]"
      ]
     },
     "metadata": {},
     "output_type": "display_data"
    },
    {
     "name": "stderr",
     "output_type": "stream",
     "text": [
      "[I 2025-09-09 07:08:20,094] Trial 78 pruned. \n"
     ]
    },
    {
     "name": "stdout",
     "output_type": "stream",
     "text": [
      "Processing hyperparameters, generate actions on the smoothed predicted signal, and simulate trading......\n",
      "\n"
     ]
    },
    {
     "data": {
      "application/vnd.jupyter.widget-view+json": {
       "model_id": "ef07b55b4c224c7cad156dd9e63611cb",
       "version_major": 2,
       "version_minor": 0
      },
      "text/plain": [
       "Trial 79:   0%|          | 0/4591 [00:00<?, ?it/s]"
      ]
     },
     "metadata": {},
     "output_type": "display_data"
    },
    {
     "name": "stderr",
     "output_type": "stream",
     "text": [
      "[I 2025-09-09 07:10:10,882] Trial 79 pruned. \n"
     ]
    },
    {
     "name": "stdout",
     "output_type": "stream",
     "text": [
      "Processing hyperparameters, generate actions on the smoothed predicted signal, and simulate trading......\n",
      "\n"
     ]
    },
    {
     "data": {
      "application/vnd.jupyter.widget-view+json": {
       "model_id": "0705689247cf4fd797a99c995ada0ac5",
       "version_major": 2,
       "version_minor": 0
      },
      "text/plain": [
       "Trial 80:   0%|          | 0/4591 [00:00<?, ?it/s]"
      ]
     },
     "metadata": {},
     "output_type": "display_data"
    },
    {
     "name": "stderr",
     "output_type": "stream",
     "text": [
      "[I 2025-09-09 07:12:02,023] Trial 80 pruned. \n"
     ]
    },
    {
     "name": "stdout",
     "output_type": "stream",
     "text": [
      "Processing hyperparameters, generate actions on the smoothed predicted signal, and simulate trading......\n",
      "\n"
     ]
    },
    {
     "data": {
      "application/vnd.jupyter.widget-view+json": {
       "model_id": "bed5e74ad95d46d59fda5aaa47d1f833",
       "version_major": 2,
       "version_minor": 0
      },
      "text/plain": [
       "Trial 81:   0%|          | 0/4591 [00:00<?, ?it/s]"
      ]
     },
     "metadata": {},
     "output_type": "display_data"
    },
    {
     "name": "stderr",
     "output_type": "stream",
     "text": [
      "[W 2025-09-09 07:23:05,953] Trial 81 failed with parameters: {'smoothing_window': 49, 'pred_threshold': 0.113757400574168, 'trailing_stop_pred': 0.04869118617321089} because of the following error: KeyboardInterrupt().\n",
      "Traceback (most recent call last):\n",
      "  File \"/usr/local/lib/python3.12/dist-packages/optuna/study/_optimize.py\", line 201, in _run_trial\n",
      "    value_or_values = func(trial)\n",
      "                      ^^^^^^^^^^^\n",
      "  File \"/tmp/ipykernel_2085/3449028383.py\", line 63, in objective\n",
      "    if trial.should_prune():\n",
      "       ^^^^^^^^^^^^^^^^^^^^\n",
      "  File \"/usr/local/lib/python3.12/dist-packages/optuna/trial/_trial.py\", line 539, in should_prune\n",
      "    return self.study.pruner.prune(self.study, trial)\n",
      "           ^^^^^^^^^^^^^^^^^^^^^^^^^^^^^^^^^^^^^^^^^^\n",
      "  File \"/usr/local/lib/python3.12/dist-packages/optuna/pruners/_percentile.py\", line 190, in prune\n",
      "    if not _is_first_in_interval_step(\n",
      "           ^^^^^^^^^^^^^^^^^^^^^^^^^^^\n",
      "  File \"/usr/local/lib/python3.12/dist-packages/optuna/pruners/_percentile.py\", line 61, in _is_first_in_interval_step\n",
      "    second_last_step = functools.reduce(\n",
      "                       ^^^^^^^^^^^^^^^^^\n",
      "  File \"/usr/local/lib/python3.12/dist-packages/optuna/pruners/_percentile.py\", line 62, in <lambda>\n",
      "    lambda second_last_step, s: s if s > second_last_step and s != step else second_last_step,\n",
      "    \n",
      "KeyboardInterrupt\n",
      "[W 2025-09-09 07:23:05,959] Trial 81 failed with value None.\n"
     ]
    },
    {
     "ename": "KeyboardInterrupt",
     "evalue": "",
     "output_type": "error",
     "traceback": [
      "\u001b[0;31m---------------------------------------------------------------------------\u001b[0m",
      "\u001b[0;31mKeyboardInterrupt\u001b[0m                         Traceback (most recent call last)",
      "Cell \u001b[0;32mIn[5], line 13\u001b[0m\n\u001b[1;32m      4\u001b[0m pruner \u001b[38;5;241m=\u001b[39m optuna\u001b[38;5;241m.\u001b[39mpruners\u001b[38;5;241m.\u001b[39mMedianPruner(n_startup_trials\u001b[38;5;241m=\u001b[39m\u001b[38;5;241m5\u001b[39m, n_warmup_steps\u001b[38;5;241m=\u001b[39m\u001b[38;5;241m500\u001b[39m)\n\u001b[1;32m      6\u001b[0m study \u001b[38;5;241m=\u001b[39m optuna\u001b[38;5;241m.\u001b[39mcreate_study( \u001b[38;5;66;03m# Point it at an SQLite file so it writes out each result immediately instead of buffering in RAM\u001b[39;00m\n\u001b[1;32m      7\u001b[0m     storage\u001b[38;5;241m=\u001b[39m\u001b[38;5;124mf\u001b[39m\u001b[38;5;124m\"\u001b[39m\u001b[38;5;124msqlite:///\u001b[39m\u001b[38;5;132;01m{\u001b[39;00mos\u001b[38;5;241m.\u001b[39mpath\u001b[38;5;241m.\u001b[39mjoin(params\u001b[38;5;241m.\u001b[39moptuna_folder,\u001b[38;5;250m \u001b[39m\u001b[38;5;124m\"\u001b[39m\u001b[38;5;124moptuna_study_predicted.db\u001b[39m\u001b[38;5;124m\"\u001b[39m)\u001b[38;5;132;01m}\u001b[39;00m\u001b[38;5;124m\"\u001b[39m, \n\u001b[1;32m      8\u001b[0m     load_if_exists\u001b[38;5;241m=\u001b[39m\u001b[38;5;28;01mTrue\u001b[39;00m,\n\u001b[1;32m      9\u001b[0m     direction\u001b[38;5;241m=\u001b[39m\u001b[38;5;124m\"\u001b[39m\u001b[38;5;124mmaximize\u001b[39m\u001b[38;5;124m\"\u001b[39m,\n\u001b[1;32m     10\u001b[0m     pruner\u001b[38;5;241m=\u001b[39mpruner,\n\u001b[1;32m     11\u001b[0m )\n\u001b[0;32m---> 13\u001b[0m \u001b[43mstudy\u001b[49m\u001b[38;5;241;43m.\u001b[39;49m\u001b[43moptimize\u001b[49m\u001b[43m(\u001b[49m\n\u001b[1;32m     14\u001b[0m \u001b[43m    \u001b[49m\u001b[43mobjective\u001b[49m\u001b[43m,\u001b[49m\n\u001b[1;32m     15\u001b[0m \u001b[43m    \u001b[49m\u001b[43mn_trials\u001b[49m\u001b[43m          \u001b[49m\u001b[38;5;241;43m=\u001b[39;49m\u001b[43m \u001b[49m\u001b[43mn_trials\u001b[49m\u001b[43m,\u001b[49m\n\u001b[1;32m     16\u001b[0m \u001b[43m    \u001b[49m\u001b[43mn_jobs\u001b[49m\u001b[43m            \u001b[49m\u001b[38;5;241;43m=\u001b[39;49m\u001b[43m \u001b[49m\u001b[43mn_jobs\u001b[49m\u001b[43m,\u001b[49m\n\u001b[1;32m     17\u001b[0m \u001b[43m    \u001b[49m\u001b[43mcallbacks\u001b[49m\u001b[38;5;241;43m=\u001b[39;49m\u001b[43m[\u001b[49m\u001b[43mplots\u001b[49m\u001b[38;5;241;43m.\u001b[39;49m\u001b[43mcleanup_callback\u001b[49m\u001b[43m,\u001b[49m\u001b[43m \u001b[49m\u001b[43mplots\u001b[49m\u001b[38;5;241;43m.\u001b[39;49m\u001b[43mlightweight_plot_callback\u001b[49m\u001b[43m,\u001b[49m\u001b[43m \u001b[49m\u001b[43mplots\u001b[49m\u001b[38;5;241;43m.\u001b[39;49m\u001b[43msave_results_callback\u001b[49m\u001b[43m]\u001b[49m\u001b[43m,\u001b[49m\n\u001b[1;32m     18\u001b[0m \u001b[43m    \u001b[49m\u001b[43mgc_after_trial\u001b[49m\u001b[43m    \u001b[49m\u001b[38;5;241;43m=\u001b[39;49m\u001b[43m \u001b[49m\u001b[38;5;28;43;01mTrue\u001b[39;49;00m\u001b[43m,\u001b[49m\n\u001b[1;32m     19\u001b[0m \u001b[43m)\u001b[49m\n\u001b[1;32m     21\u001b[0m plt\u001b[38;5;241m.\u001b[39mclose(\u001b[38;5;124m'\u001b[39m\u001b[38;5;124mall\u001b[39m\u001b[38;5;124m'\u001b[39m)   \u001b[38;5;66;03m# safe here; the final image remains displayed in the notebook output\u001b[39;00m\n\u001b[1;32m     22\u001b[0m gc\u001b[38;5;241m.\u001b[39mcollect()       \u001b[38;5;66;03m# optional extra sweep\u001b[39;00m\n",
      "File \u001b[0;32m/usr/local/lib/python3.12/dist-packages/optuna/study/study.py:489\u001b[0m, in \u001b[0;36mStudy.optimize\u001b[0;34m(self, func, n_trials, timeout, n_jobs, catch, callbacks, gc_after_trial, show_progress_bar)\u001b[0m\n\u001b[1;32m    387\u001b[0m \u001b[38;5;28;01mdef\u001b[39;00m\u001b[38;5;250m \u001b[39m\u001b[38;5;21moptimize\u001b[39m(\n\u001b[1;32m    388\u001b[0m     \u001b[38;5;28mself\u001b[39m,\n\u001b[1;32m    389\u001b[0m     func: ObjectiveFuncType,\n\u001b[0;32m   (...)\u001b[0m\n\u001b[1;32m    396\u001b[0m     show_progress_bar: \u001b[38;5;28mbool\u001b[39m \u001b[38;5;241m=\u001b[39m \u001b[38;5;28;01mFalse\u001b[39;00m,\n\u001b[1;32m    397\u001b[0m ) \u001b[38;5;241m-\u001b[39m\u001b[38;5;241m>\u001b[39m \u001b[38;5;28;01mNone\u001b[39;00m:\n\u001b[1;32m    398\u001b[0m \u001b[38;5;250m    \u001b[39m\u001b[38;5;124;03m\"\"\"Optimize an objective function.\u001b[39;00m\n\u001b[1;32m    399\u001b[0m \n\u001b[1;32m    400\u001b[0m \u001b[38;5;124;03m    Optimization is done by choosing a suitable set of hyperparameter values from a given\u001b[39;00m\n\u001b[0;32m   (...)\u001b[0m\n\u001b[1;32m    487\u001b[0m \u001b[38;5;124;03m            If nested invocation of this method occurs.\u001b[39;00m\n\u001b[1;32m    488\u001b[0m \u001b[38;5;124;03m    \"\"\"\u001b[39;00m\n\u001b[0;32m--> 489\u001b[0m     \u001b[43m_optimize\u001b[49m\u001b[43m(\u001b[49m\n\u001b[1;32m    490\u001b[0m \u001b[43m        \u001b[49m\u001b[43mstudy\u001b[49m\u001b[38;5;241;43m=\u001b[39;49m\u001b[38;5;28;43mself\u001b[39;49m\u001b[43m,\u001b[49m\n\u001b[1;32m    491\u001b[0m \u001b[43m        \u001b[49m\u001b[43mfunc\u001b[49m\u001b[38;5;241;43m=\u001b[39;49m\u001b[43mfunc\u001b[49m\u001b[43m,\u001b[49m\n\u001b[1;32m    492\u001b[0m \u001b[43m        \u001b[49m\u001b[43mn_trials\u001b[49m\u001b[38;5;241;43m=\u001b[39;49m\u001b[43mn_trials\u001b[49m\u001b[43m,\u001b[49m\n\u001b[1;32m    493\u001b[0m \u001b[43m        \u001b[49m\u001b[43mtimeout\u001b[49m\u001b[38;5;241;43m=\u001b[39;49m\u001b[43mtimeout\u001b[49m\u001b[43m,\u001b[49m\n\u001b[1;32m    494\u001b[0m \u001b[43m        \u001b[49m\u001b[43mn_jobs\u001b[49m\u001b[38;5;241;43m=\u001b[39;49m\u001b[43mn_jobs\u001b[49m\u001b[43m,\u001b[49m\n\u001b[1;32m    495\u001b[0m \u001b[43m        \u001b[49m\u001b[43mcatch\u001b[49m\u001b[38;5;241;43m=\u001b[39;49m\u001b[38;5;28;43mtuple\u001b[39;49m\u001b[43m(\u001b[49m\u001b[43mcatch\u001b[49m\u001b[43m)\u001b[49m\u001b[43m \u001b[49m\u001b[38;5;28;43;01mif\u001b[39;49;00m\u001b[43m \u001b[49m\u001b[38;5;28;43misinstance\u001b[39;49m\u001b[43m(\u001b[49m\u001b[43mcatch\u001b[49m\u001b[43m,\u001b[49m\u001b[43m \u001b[49m\u001b[43mIterable\u001b[49m\u001b[43m)\u001b[49m\u001b[43m \u001b[49m\u001b[38;5;28;43;01melse\u001b[39;49;00m\u001b[43m \u001b[49m\u001b[43m(\u001b[49m\u001b[43mcatch\u001b[49m\u001b[43m,\u001b[49m\u001b[43m)\u001b[49m\u001b[43m,\u001b[49m\n\u001b[1;32m    496\u001b[0m \u001b[43m        \u001b[49m\u001b[43mcallbacks\u001b[49m\u001b[38;5;241;43m=\u001b[39;49m\u001b[43mcallbacks\u001b[49m\u001b[43m,\u001b[49m\n\u001b[1;32m    497\u001b[0m \u001b[43m        \u001b[49m\u001b[43mgc_after_trial\u001b[49m\u001b[38;5;241;43m=\u001b[39;49m\u001b[43mgc_after_trial\u001b[49m\u001b[43m,\u001b[49m\n\u001b[1;32m    498\u001b[0m \u001b[43m        \u001b[49m\u001b[43mshow_progress_bar\u001b[49m\u001b[38;5;241;43m=\u001b[39;49m\u001b[43mshow_progress_bar\u001b[49m\u001b[43m,\u001b[49m\n\u001b[1;32m    499\u001b[0m \u001b[43m    \u001b[49m\u001b[43m)\u001b[49m\n",
      "File \u001b[0;32m/usr/local/lib/python3.12/dist-packages/optuna/study/_optimize.py:64\u001b[0m, in \u001b[0;36m_optimize\u001b[0;34m(study, func, n_trials, timeout, n_jobs, catch, callbacks, gc_after_trial, show_progress_bar)\u001b[0m\n\u001b[1;32m     62\u001b[0m \u001b[38;5;28;01mtry\u001b[39;00m:\n\u001b[1;32m     63\u001b[0m     \u001b[38;5;28;01mif\u001b[39;00m n_jobs \u001b[38;5;241m==\u001b[39m \u001b[38;5;241m1\u001b[39m:\n\u001b[0;32m---> 64\u001b[0m         \u001b[43m_optimize_sequential\u001b[49m\u001b[43m(\u001b[49m\n\u001b[1;32m     65\u001b[0m \u001b[43m            \u001b[49m\u001b[43mstudy\u001b[49m\u001b[43m,\u001b[49m\n\u001b[1;32m     66\u001b[0m \u001b[43m            \u001b[49m\u001b[43mfunc\u001b[49m\u001b[43m,\u001b[49m\n\u001b[1;32m     67\u001b[0m \u001b[43m            \u001b[49m\u001b[43mn_trials\u001b[49m\u001b[43m,\u001b[49m\n\u001b[1;32m     68\u001b[0m \u001b[43m            \u001b[49m\u001b[43mtimeout\u001b[49m\u001b[43m,\u001b[49m\n\u001b[1;32m     69\u001b[0m \u001b[43m            \u001b[49m\u001b[43mcatch\u001b[49m\u001b[43m,\u001b[49m\n\u001b[1;32m     70\u001b[0m \u001b[43m            \u001b[49m\u001b[43mcallbacks\u001b[49m\u001b[43m,\u001b[49m\n\u001b[1;32m     71\u001b[0m \u001b[43m            \u001b[49m\u001b[43mgc_after_trial\u001b[49m\u001b[43m,\u001b[49m\n\u001b[1;32m     72\u001b[0m \u001b[43m            \u001b[49m\u001b[43mreseed_sampler_rng\u001b[49m\u001b[38;5;241;43m=\u001b[39;49m\u001b[38;5;28;43;01mFalse\u001b[39;49;00m\u001b[43m,\u001b[49m\n\u001b[1;32m     73\u001b[0m \u001b[43m            \u001b[49m\u001b[43mtime_start\u001b[49m\u001b[38;5;241;43m=\u001b[39;49m\u001b[38;5;28;43;01mNone\u001b[39;49;00m\u001b[43m,\u001b[49m\n\u001b[1;32m     74\u001b[0m \u001b[43m            \u001b[49m\u001b[43mprogress_bar\u001b[49m\u001b[38;5;241;43m=\u001b[39;49m\u001b[43mprogress_bar\u001b[49m\u001b[43m,\u001b[49m\n\u001b[1;32m     75\u001b[0m \u001b[43m        \u001b[49m\u001b[43m)\u001b[49m\n\u001b[1;32m     76\u001b[0m     \u001b[38;5;28;01melse\u001b[39;00m:\n\u001b[1;32m     77\u001b[0m         \u001b[38;5;28;01mif\u001b[39;00m n_jobs \u001b[38;5;241m==\u001b[39m \u001b[38;5;241m-\u001b[39m\u001b[38;5;241m1\u001b[39m:\n",
      "File \u001b[0;32m/usr/local/lib/python3.12/dist-packages/optuna/study/_optimize.py:161\u001b[0m, in \u001b[0;36m_optimize_sequential\u001b[0;34m(study, func, n_trials, timeout, catch, callbacks, gc_after_trial, reseed_sampler_rng, time_start, progress_bar)\u001b[0m\n\u001b[1;32m    158\u001b[0m         \u001b[38;5;28;01mbreak\u001b[39;00m\n\u001b[1;32m    160\u001b[0m \u001b[38;5;28;01mtry\u001b[39;00m:\n\u001b[0;32m--> 161\u001b[0m     frozen_trial \u001b[38;5;241m=\u001b[39m \u001b[43m_run_trial\u001b[49m\u001b[43m(\u001b[49m\u001b[43mstudy\u001b[49m\u001b[43m,\u001b[49m\u001b[43m \u001b[49m\u001b[43mfunc\u001b[49m\u001b[43m,\u001b[49m\u001b[43m \u001b[49m\u001b[43mcatch\u001b[49m\u001b[43m)\u001b[49m\n\u001b[1;32m    162\u001b[0m \u001b[38;5;28;01mfinally\u001b[39;00m:\n\u001b[1;32m    163\u001b[0m     \u001b[38;5;66;03m# The following line mitigates memory problems that can be occurred in some\u001b[39;00m\n\u001b[1;32m    164\u001b[0m     \u001b[38;5;66;03m# environments (e.g., services that use computing containers such as GitHub Actions).\u001b[39;00m\n\u001b[1;32m    165\u001b[0m     \u001b[38;5;66;03m# Please refer to the following PR for further details:\u001b[39;00m\n\u001b[1;32m    166\u001b[0m     \u001b[38;5;66;03m# https://github.com/optuna/optuna/pull/325.\u001b[39;00m\n\u001b[1;32m    167\u001b[0m     \u001b[38;5;28;01mif\u001b[39;00m gc_after_trial:\n",
      "File \u001b[0;32m/usr/local/lib/python3.12/dist-packages/optuna/study/_optimize.py:253\u001b[0m, in \u001b[0;36m_run_trial\u001b[0;34m(study, func, catch)\u001b[0m\n\u001b[1;32m    246\u001b[0m         \u001b[38;5;28;01massert\u001b[39;00m \u001b[38;5;28;01mFalse\u001b[39;00m, \u001b[38;5;124m\"\u001b[39m\u001b[38;5;124mShould not reach.\u001b[39m\u001b[38;5;124m\"\u001b[39m\n\u001b[1;32m    248\u001b[0m \u001b[38;5;28;01mif\u001b[39;00m (\n\u001b[1;32m    249\u001b[0m     frozen_trial\u001b[38;5;241m.\u001b[39mstate \u001b[38;5;241m==\u001b[39m TrialState\u001b[38;5;241m.\u001b[39mFAIL\n\u001b[1;32m    250\u001b[0m     \u001b[38;5;129;01mand\u001b[39;00m func_err \u001b[38;5;129;01mis\u001b[39;00m \u001b[38;5;129;01mnot\u001b[39;00m \u001b[38;5;28;01mNone\u001b[39;00m\n\u001b[1;32m    251\u001b[0m     \u001b[38;5;129;01mand\u001b[39;00m \u001b[38;5;129;01mnot\u001b[39;00m \u001b[38;5;28misinstance\u001b[39m(func_err, catch)\n\u001b[1;32m    252\u001b[0m ):\n\u001b[0;32m--> 253\u001b[0m     \u001b[38;5;28;01mraise\u001b[39;00m func_err\n\u001b[1;32m    254\u001b[0m \u001b[38;5;28;01mreturn\u001b[39;00m frozen_trial\n",
      "File \u001b[0;32m/usr/local/lib/python3.12/dist-packages/optuna/study/_optimize.py:201\u001b[0m, in \u001b[0;36m_run_trial\u001b[0;34m(study, func, catch)\u001b[0m\n\u001b[1;32m    199\u001b[0m \u001b[38;5;28;01mwith\u001b[39;00m get_heartbeat_thread(trial\u001b[38;5;241m.\u001b[39m_trial_id, study\u001b[38;5;241m.\u001b[39m_storage):\n\u001b[1;32m    200\u001b[0m     \u001b[38;5;28;01mtry\u001b[39;00m:\n\u001b[0;32m--> 201\u001b[0m         value_or_values \u001b[38;5;241m=\u001b[39m \u001b[43mfunc\u001b[49m\u001b[43m(\u001b[49m\u001b[43mtrial\u001b[49m\u001b[43m)\u001b[49m\n\u001b[1;32m    202\u001b[0m     \u001b[38;5;28;01mexcept\u001b[39;00m exceptions\u001b[38;5;241m.\u001b[39mTrialPruned \u001b[38;5;28;01mas\u001b[39;00m e:\n\u001b[1;32m    203\u001b[0m         \u001b[38;5;66;03m# TODO(mamu): Handle multi-objective cases.\u001b[39;00m\n\u001b[1;32m    204\u001b[0m         state \u001b[38;5;241m=\u001b[39m TrialState\u001b[38;5;241m.\u001b[39mPRUNED\n",
      "Cell \u001b[0;32mIn[4], line 63\u001b[0m, in \u001b[0;36mobjective\u001b[0;34m(trial)\u001b[0m\n\u001b[1;32m     61\u001b[0m     \u001b[38;5;66;03m# Rreport for pruning\u001b[39;00m\n\u001b[1;32m     62\u001b[0m     trial\u001b[38;5;241m.\u001b[39mreport(daily_pnls[\u001b[38;5;241m-\u001b[39m\u001b[38;5;241m1\u001b[39m], step)\n\u001b[0;32m---> 63\u001b[0m     \u001b[38;5;28;01mif\u001b[39;00m \u001b[43mtrial\u001b[49m\u001b[38;5;241;43m.\u001b[39;49m\u001b[43mshould_prune\u001b[49m\u001b[43m(\u001b[49m\u001b[43m)\u001b[49m:\n\u001b[1;32m     64\u001b[0m         \u001b[38;5;28;01mraise\u001b[39;00m optuna\u001b[38;5;241m.\u001b[39mTrialPruned()\n\u001b[1;32m     66\u001b[0m \u001b[38;5;66;03m# Average daily P&L\u001b[39;00m\n",
      "File \u001b[0;32m/usr/local/lib/python3.12/dist-packages/optuna/trial/_trial.py:539\u001b[0m, in \u001b[0;36mTrial.should_prune\u001b[0;34m(self)\u001b[0m\n\u001b[1;32m    534\u001b[0m     \u001b[38;5;28;01mraise\u001b[39;00m \u001b[38;5;167;01mNotImplementedError\u001b[39;00m(\n\u001b[1;32m    535\u001b[0m         \u001b[38;5;124m\"\u001b[39m\u001b[38;5;124mTrial.should_prune is not supported for multi-objective optimization.\u001b[39m\u001b[38;5;124m\"\u001b[39m\n\u001b[1;32m    536\u001b[0m     )\n\u001b[1;32m    538\u001b[0m trial \u001b[38;5;241m=\u001b[39m \u001b[38;5;28mself\u001b[39m\u001b[38;5;241m.\u001b[39m_get_latest_trial()\n\u001b[0;32m--> 539\u001b[0m \u001b[38;5;28;01mreturn\u001b[39;00m \u001b[38;5;28;43mself\u001b[39;49m\u001b[38;5;241;43m.\u001b[39;49m\u001b[43mstudy\u001b[49m\u001b[38;5;241;43m.\u001b[39;49m\u001b[43mpruner\u001b[49m\u001b[38;5;241;43m.\u001b[39;49m\u001b[43mprune\u001b[49m\u001b[43m(\u001b[49m\u001b[38;5;28;43mself\u001b[39;49m\u001b[38;5;241;43m.\u001b[39;49m\u001b[43mstudy\u001b[49m\u001b[43m,\u001b[49m\u001b[43m \u001b[49m\u001b[43mtrial\u001b[49m\u001b[43m)\u001b[49m\n",
      "File \u001b[0;32m/usr/local/lib/python3.12/dist-packages/optuna/pruners/_percentile.py:190\u001b[0m, in \u001b[0;36mPercentilePruner.prune\u001b[0;34m(self, study, trial)\u001b[0m\n\u001b[1;32m    187\u001b[0m \u001b[38;5;28;01mif\u001b[39;00m step \u001b[38;5;241m<\u001b[39m n_warmup_steps:\n\u001b[1;32m    188\u001b[0m     \u001b[38;5;28;01mreturn\u001b[39;00m \u001b[38;5;28;01mFalse\u001b[39;00m\n\u001b[0;32m--> 190\u001b[0m \u001b[38;5;28;01mif\u001b[39;00m \u001b[38;5;129;01mnot\u001b[39;00m \u001b[43m_is_first_in_interval_step\u001b[49m\u001b[43m(\u001b[49m\n\u001b[1;32m    191\u001b[0m \u001b[43m    \u001b[49m\u001b[43mstep\u001b[49m\u001b[43m,\u001b[49m\u001b[43m \u001b[49m\u001b[43mtrial\u001b[49m\u001b[38;5;241;43m.\u001b[39;49m\u001b[43mintermediate_values\u001b[49m\u001b[38;5;241;43m.\u001b[39;49m\u001b[43mkeys\u001b[49m\u001b[43m(\u001b[49m\u001b[43m)\u001b[49m\u001b[43m,\u001b[49m\u001b[43m \u001b[49m\u001b[43mn_warmup_steps\u001b[49m\u001b[43m,\u001b[49m\u001b[43m \u001b[49m\u001b[38;5;28;43mself\u001b[39;49m\u001b[38;5;241;43m.\u001b[39;49m\u001b[43m_interval_steps\u001b[49m\n\u001b[1;32m    192\u001b[0m \u001b[43m\u001b[49m\u001b[43m)\u001b[49m:\n\u001b[1;32m    193\u001b[0m     \u001b[38;5;28;01mreturn\u001b[39;00m \u001b[38;5;28;01mFalse\u001b[39;00m\n\u001b[1;32m    195\u001b[0m direction \u001b[38;5;241m=\u001b[39m study\u001b[38;5;241m.\u001b[39mdirection\n",
      "File \u001b[0;32m/usr/local/lib/python3.12/dist-packages/optuna/pruners/_percentile.py:61\u001b[0m, in \u001b[0;36m_is_first_in_interval_step\u001b[0;34m(step, intermediate_steps, n_warmup_steps, interval_steps)\u001b[0m\n\u001b[1;32m     58\u001b[0m \u001b[38;5;28;01massert\u001b[39;00m nearest_lower_pruning_step \u001b[38;5;241m>\u001b[39m\u001b[38;5;241m=\u001b[39m \u001b[38;5;241m0\u001b[39m\n\u001b[1;32m     60\u001b[0m \u001b[38;5;66;03m# `intermediate_steps` may not be sorted so we must go through all elements.\u001b[39;00m\n\u001b[0;32m---> 61\u001b[0m second_last_step \u001b[38;5;241m=\u001b[39m \u001b[43mfunctools\u001b[49m\u001b[38;5;241;43m.\u001b[39;49m\u001b[43mreduce\u001b[49m\u001b[43m(\u001b[49m\n\u001b[1;32m     62\u001b[0m \u001b[43m    \u001b[49m\u001b[38;5;28;43;01mlambda\u001b[39;49;00m\u001b[43m \u001b[49m\u001b[43msecond_last_step\u001b[49m\u001b[43m,\u001b[49m\u001b[43m \u001b[49m\u001b[43ms\u001b[49m\u001b[43m:\u001b[49m\u001b[43m \u001b[49m\u001b[43ms\u001b[49m\u001b[43m \u001b[49m\u001b[38;5;28;43;01mif\u001b[39;49;00m\u001b[43m \u001b[49m\u001b[43ms\u001b[49m\u001b[43m \u001b[49m\u001b[38;5;241;43m>\u001b[39;49m\u001b[43m \u001b[49m\u001b[43msecond_last_step\u001b[49m\u001b[43m \u001b[49m\u001b[38;5;129;43;01mand\u001b[39;49;00m\u001b[43m \u001b[49m\u001b[43ms\u001b[49m\u001b[43m \u001b[49m\u001b[38;5;241;43m!=\u001b[39;49m\u001b[43m \u001b[49m\u001b[43mstep\u001b[49m\u001b[43m \u001b[49m\u001b[38;5;28;43;01melse\u001b[39;49;00m\u001b[43m \u001b[49m\u001b[43msecond_last_step\u001b[49m\u001b[43m,\u001b[49m\n\u001b[1;32m     63\u001b[0m \u001b[43m    \u001b[49m\u001b[43mintermediate_steps\u001b[49m\u001b[43m,\u001b[49m\n\u001b[1;32m     64\u001b[0m \u001b[43m    \u001b[49m\u001b[38;5;241;43m-\u001b[39;49m\u001b[38;5;241;43m1\u001b[39;49m\u001b[43m,\u001b[49m\n\u001b[1;32m     65\u001b[0m \u001b[43m\u001b[49m\u001b[43m)\u001b[49m\n\u001b[1;32m     67\u001b[0m \u001b[38;5;28;01mreturn\u001b[39;00m second_last_step \u001b[38;5;241m<\u001b[39m nearest_lower_pruning_step\n",
      "File \u001b[0;32m/usr/local/lib/python3.12/dist-packages/optuna/pruners/_percentile.py:62\u001b[0m, in \u001b[0;36m_is_first_in_interval_step.<locals>.<lambda>\u001b[0;34m(second_last_step, s)\u001b[0m\n\u001b[1;32m     58\u001b[0m \u001b[38;5;28;01massert\u001b[39;00m nearest_lower_pruning_step \u001b[38;5;241m>\u001b[39m\u001b[38;5;241m=\u001b[39m \u001b[38;5;241m0\u001b[39m\n\u001b[1;32m     60\u001b[0m \u001b[38;5;66;03m# `intermediate_steps` may not be sorted so we must go through all elements.\u001b[39;00m\n\u001b[1;32m     61\u001b[0m second_last_step \u001b[38;5;241m=\u001b[39m functools\u001b[38;5;241m.\u001b[39mreduce(\n\u001b[0;32m---> 62\u001b[0m     \u001b[38;5;28;01mlambda\u001b[39;00m second_last_step, s: s \u001b[38;5;28;01mif\u001b[39;00m s \u001b[38;5;241m>\u001b[39m second_last_step \u001b[38;5;129;01mand\u001b[39;00m s \u001b[38;5;241m!=\u001b[39m step \u001b[38;5;28;01melse\u001b[39;00m second_last_step,\n\u001b[1;32m     63\u001b[0m     intermediate_steps,\n\u001b[1;32m     64\u001b[0m     \u001b[38;5;241m-\u001b[39m\u001b[38;5;241m1\u001b[39m,\n\u001b[1;32m     65\u001b[0m )\n\u001b[1;32m     67\u001b[0m \u001b[38;5;28;01mreturn\u001b[39;00m second_last_step \u001b[38;5;241m<\u001b[39m nearest_lower_pruning_step\n",
      "\u001b[0;31mKeyboardInterrupt\u001b[0m: "
     ]
    }
   ],
   "source": [
    "n_trials = 500\n",
    "n_jobs = 1\n",
    "\n",
    "pruner = optuna.pruners.MedianPruner(n_startup_trials=5, n_warmup_steps=500)\n",
    "\n",
    "study = optuna.create_study( # Point it at an SQLite file so it writes out each result immediately instead of buffering in RAM\n",
    "    storage=f\"sqlite:///{os.path.join(params.optuna_folder, \"optuna_study_predicted.db\")}\", \n",
    "    load_if_exists=True,\n",
    "    direction=\"maximize\",\n",
    "    pruner=pruner,\n",
    ")\n",
    "\n",
    "study.optimize(\n",
    "    objective,\n",
    "    n_trials          = n_trials,\n",
    "    n_jobs            = n_jobs,\n",
    "    callbacks=[plots.cleanup_callback, plots.lightweight_plot_callback, plots.save_results_callback],\n",
    "    gc_after_trial    = True,\n",
    ")\n",
    "\n",
    "plt.close('all')   # safe here; the final image remains displayed in the notebook output\n",
    "gc.collect()       # optional extra sweep"
   ]
  },
  {
   "cell_type": "code",
   "execution_count": null,
   "id": "58134eda-1dfe-421a-a2e4-a4c78f4f4efa",
   "metadata": {},
   "outputs": [],
   "source": [
    "# Final plots & JSON dump \n",
    "ax = plot_optimization_history(study)\n",
    "ax.figure.set_size_inches(8, 4)\n",
    "plt.show()\n",
    "\n",
    "print(\"Best Parameters       :\", study.best_params)\n",
    "print(\"Best Average Daily P&L:\", study.best_value)\n",
    "\n",
    "importances = get_param_importances(study)\n",
    "print(\"\\nHyperparameter importances (higher ⇒ more impact):\")\n",
    "for name, score in sorted(importances.items(), key=lambda x: x[1], reverse=True):\n",
    "    print(f\"  {name:20s}: {score:.3f}\")\n",
    "\n",
    "first_day = df_trainval.index.normalize().min().strftime(\"%Y%m%d\")\n",
    "last_day  = df_trainval.index.normalize().max().strftime(\"%Y%m%d\")\n",
    "file_name = f\"{params.ticker}_{first_day}-{last_day}_optuna_predicted_{study.best_value}_{params.model_path}.json\"\n",
    "file_path = os.path.join(params.optuna_folder, file_name)\n",
    "\n",
    "with open(file_path, \"w\") as f:\n",
    "    json.dump({\n",
    "        \"best_params\": study.best_params,\n",
    "        \"best_value\" : study.best_value,\n",
    "        \"importances\": importances,\n",
    "        \"trials\": [\n",
    "            {\"number\": t.number, \"value\": t.value, \"params\": t.params, \"state\": t.state.name}\n",
    "            for t in study.trials\n",
    "        ],\n",
    "    }, f, indent=4)\n",
    "\n",
    "print(f\"\\nOptuna results (and importances) saved to: {file_path}\")"
   ]
  },
  {
   "cell_type": "code",
   "execution_count": null,
   "id": "749a6f11-54e4-4778-ac70-903606897ea3",
   "metadata": {},
   "outputs": [],
   "source": []
  },
  {
   "cell_type": "code",
   "execution_count": null,
   "id": "06cee26d-0227-49cc-8d3d-6da977a39753",
   "metadata": {},
   "outputs": [],
   "source": []
  }
 ],
 "metadata": {
  "kernelspec": {
   "display_name": "Python 3 (ipykernel)",
   "language": "python",
   "name": "python3"
  },
  "language_info": {
   "codemirror_mode": {
    "name": "ipython",
    "version": 3
   },
   "file_extension": ".py",
   "mimetype": "text/x-python",
   "name": "python",
   "nbconvert_exporter": "python",
   "pygments_lexer": "ipython3",
   "version": "3.12.3"
  }
 },
 "nbformat": 4,
 "nbformat_minor": 5
}
