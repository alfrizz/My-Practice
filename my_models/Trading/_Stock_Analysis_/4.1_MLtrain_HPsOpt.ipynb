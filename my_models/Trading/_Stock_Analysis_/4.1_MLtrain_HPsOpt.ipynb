{
 "cells": [
  {
   "cell_type": "code",
   "execution_count": 1,
   "id": "457f3994-6d3b-4a52-9d2e-35e0e29924f0",
   "metadata": {},
   "outputs": [
    {
     "data": {
      "text/plain": [
       "<module 'libs.models.dual_lstm' from '/workspace/my_models/Trading/_Stock_Analysis_/libs/models/dual_lstm.py'>"
      ]
     },
     "execution_count": 1,
     "metadata": {},
     "output_type": "execute_result"
    }
   ],
   "source": [
    "%matplotlib inline\n",
    "\n",
    "\n",
    "# 1) Wipe out your namespace\n",
    "%reset -f\n",
    "\n",
    "# 2) Clear Jupyter’s stored outputs (and inputs if you like)\n",
    "try:\n",
    "    Out.clear()\n",
    "except NameError:\n",
    "    pass\n",
    "\n",
    "try:\n",
    "    In.clear()\n",
    "except NameError:\n",
    "    pass\n",
    "\n",
    "# 3) Force Python GC\n",
    "import gc\n",
    "gc.collect()\n",
    "\n",
    "# 4) Free any GPU buffers\n",
    "import torch\n",
    "if torch.cuda.is_available():\n",
    "    torch.cuda.empty_cache()\n",
    "\n",
    "\n",
    "import importlib\n",
    "from libs import params, trades, feats, plots, models_core\n",
    "from libs.models import dual_lstm\n",
    "importlib.reload(params)\n",
    "importlib.reload(trades)\n",
    "importlib.reload(feats)\n",
    "importlib.reload(plots)\n",
    "importlib.reload(models_core)\n",
    "importlib.reload(dual_lstm)"
   ]
  },
  {
   "cell_type": "code",
   "execution_count": 2,
   "id": "2366b422-dfac-4830-8f50-db7b522f2769",
   "metadata": {},
   "outputs": [],
   "source": [
    "# Turn off interactive plotting globally (we’ll manage our own display)\n",
    "import matplotlib\n",
    "matplotlib.use(\"Agg\")  # safe, headless-friendly\n",
    "import matplotlib.pyplot as plt\n",
    "plt.ioff()\n",
    "\n",
    "import os\n",
    "import json\n",
    "import numpy as np\n",
    "import pandas as pd\n",
    "import datetime as dt\n",
    "from pathlib import Path\n",
    "\n",
    "from torch import nn\n",
    "from torch.optim import AdamW\n",
    "from torch.optim.lr_scheduler import ReduceLROnPlateau, CosineAnnealingWarmRestarts\n",
    "from torch.cuda.amp import GradScaler, autocast\n",
    "\n",
    "import optuna\n",
    "from optuna.pruners import MedianPruner\n",
    "from optuna.exceptions import TrialPruned\n",
    "from optuna.importance import get_param_importances\n",
    "\n",
    "from tqdm.auto import tqdm\n"
   ]
  },
  {
   "cell_type": "code",
   "execution_count": 3,
   "id": "a9498b30-9abb-4123-87f1-0ed191478e49",
   "metadata": {},
   "outputs": [
    {
     "data": {
      "text/html": [
       "<div>\n",
       "<style scoped>\n",
       "    .dataframe tbody tr th:only-of-type {\n",
       "        vertical-align: middle;\n",
       "    }\n",
       "\n",
       "    .dataframe tbody tr th {\n",
       "        vertical-align: top;\n",
       "    }\n",
       "\n",
       "    .dataframe thead th {\n",
       "        text-align: right;\n",
       "    }\n",
       "</style>\n",
       "<table border=\"1\" class=\"dataframe\">\n",
       "  <thead>\n",
       "    <tr style=\"text-align: right;\">\n",
       "      <th></th>\n",
       "      <th>rsi_14</th>\n",
       "      <th>minus_di_15</th>\n",
       "      <th>eng_adx</th>\n",
       "      <th>eng_atr_div</th>\n",
       "      <th>adx_14</th>\n",
       "      <th>sma_100</th>\n",
       "      <th>vol_spike_14</th>\n",
       "      <th>macd_line_12_26_9</th>\n",
       "      <th>sma_20</th>\n",
       "      <th>bid</th>\n",
       "      <th>ask</th>\n",
       "      <th>signal</th>\n",
       "    </tr>\n",
       "  </thead>\n",
       "  <tbody>\n",
       "    <tr>\n",
       "      <th>2004-01-02 13:09:00</th>\n",
       "      <td>0.00000</td>\n",
       "      <td>0.000000</td>\n",
       "      <td>0.000000</td>\n",
       "      <td>0.000279</td>\n",
       "      <td>0.625459</td>\n",
       "      <td>0.00000</td>\n",
       "      <td>0.528843</td>\n",
       "      <td>0.00000</td>\n",
       "      <td>0.00000</td>\n",
       "      <td>0.763664</td>\n",
       "      <td>0.764807</td>\n",
       "      <td>0.021536</td>\n",
       "    </tr>\n",
       "    <tr>\n",
       "      <th>2004-01-02 13:10:00</th>\n",
       "      <td>0.00000</td>\n",
       "      <td>0.000000</td>\n",
       "      <td>0.000000</td>\n",
       "      <td>0.000310</td>\n",
       "      <td>0.625379</td>\n",
       "      <td>0.00000</td>\n",
       "      <td>0.528775</td>\n",
       "      <td>0.00000</td>\n",
       "      <td>0.00000</td>\n",
       "      <td>0.763647</td>\n",
       "      <td>0.764790</td>\n",
       "      <td>0.023284</td>\n",
       "    </tr>\n",
       "    <tr>\n",
       "      <th>2004-01-02 13:11:00</th>\n",
       "      <td>0.00000</td>\n",
       "      <td>0.000000</td>\n",
       "      <td>0.000000</td>\n",
       "      <td>0.000341</td>\n",
       "      <td>0.625318</td>\n",
       "      <td>0.00000</td>\n",
       "      <td>0.528707</td>\n",
       "      <td>0.00000</td>\n",
       "      <td>0.00000</td>\n",
       "      <td>0.763631</td>\n",
       "      <td>0.764773</td>\n",
       "      <td>0.025175</td>\n",
       "    </tr>\n",
       "    <tr>\n",
       "      <th>2004-01-02 13:12:00</th>\n",
       "      <td>0.00000</td>\n",
       "      <td>0.000000</td>\n",
       "      <td>0.000000</td>\n",
       "      <td>0.000341</td>\n",
       "      <td>0.625263</td>\n",
       "      <td>0.00000</td>\n",
       "      <td>0.528641</td>\n",
       "      <td>0.00000</td>\n",
       "      <td>0.00000</td>\n",
       "      <td>0.763614</td>\n",
       "      <td>0.764757</td>\n",
       "      <td>0.027222</td>\n",
       "    </tr>\n",
       "    <tr>\n",
       "      <th>2004-01-02 13:13:00</th>\n",
       "      <td>0.00000</td>\n",
       "      <td>0.000000</td>\n",
       "      <td>0.000000</td>\n",
       "      <td>0.000341</td>\n",
       "      <td>0.625227</td>\n",
       "      <td>0.00000</td>\n",
       "      <td>0.528573</td>\n",
       "      <td>0.00000</td>\n",
       "      <td>0.00000</td>\n",
       "      <td>0.763597</td>\n",
       "      <td>0.764740</td>\n",
       "      <td>0.029436</td>\n",
       "    </tr>\n",
       "    <tr>\n",
       "      <th>...</th>\n",
       "      <td>...</td>\n",
       "      <td>...</td>\n",
       "      <td>...</td>\n",
       "      <td>...</td>\n",
       "      <td>...</td>\n",
       "      <td>...</td>\n",
       "      <td>...</td>\n",
       "      <td>...</td>\n",
       "      <td>...</td>\n",
       "      <td>...</td>\n",
       "      <td>...</td>\n",
       "      <td>...</td>\n",
       "    </tr>\n",
       "    <tr>\n",
       "      <th>2025-06-18 20:56:00</th>\n",
       "      <td>0.67217</td>\n",
       "      <td>0.024691</td>\n",
       "      <td>0.023121</td>\n",
       "      <td>0.024910</td>\n",
       "      <td>0.635234</td>\n",
       "      <td>0.73661</td>\n",
       "      <td>0.541606</td>\n",
       "      <td>0.36312</td>\n",
       "      <td>0.66709</td>\n",
       "      <td>196.667400</td>\n",
       "      <td>196.962600</td>\n",
       "      <td>0.684908</td>\n",
       "    </tr>\n",
       "    <tr>\n",
       "      <th>2025-06-18 20:57:00</th>\n",
       "      <td>0.61669</td>\n",
       "      <td>0.024691</td>\n",
       "      <td>0.023121</td>\n",
       "      <td>0.025902</td>\n",
       "      <td>0.629672</td>\n",
       "      <td>0.58962</td>\n",
       "      <td>0.542649</td>\n",
       "      <td>0.34721</td>\n",
       "      <td>0.61512</td>\n",
       "      <td>196.527500</td>\n",
       "      <td>196.822500</td>\n",
       "      <td>0.612206</td>\n",
       "    </tr>\n",
       "    <tr>\n",
       "      <th>2025-06-18 20:58:00</th>\n",
       "      <td>0.61473</td>\n",
       "      <td>0.030864</td>\n",
       "      <td>0.023121</td>\n",
       "      <td>0.025499</td>\n",
       "      <td>0.628744</td>\n",
       "      <td>0.58091</td>\n",
       "      <td>0.545497</td>\n",
       "      <td>0.33627</td>\n",
       "      <td>0.61329</td>\n",
       "      <td>196.522500</td>\n",
       "      <td>196.817500</td>\n",
       "      <td>0.610468</td>\n",
       "    </tr>\n",
       "    <tr>\n",
       "      <th>2025-06-18 20:59:00</th>\n",
       "      <td>0.47540</td>\n",
       "      <td>0.030864</td>\n",
       "      <td>0.023121</td>\n",
       "      <td>0.031509</td>\n",
       "      <td>0.616953</td>\n",
       "      <td>0.17135</td>\n",
       "      <td>0.538547</td>\n",
       "      <td>0.29058</td>\n",
       "      <td>0.48143</td>\n",
       "      <td>196.092800</td>\n",
       "      <td>196.387200</td>\n",
       "      <td>0.477090</td>\n",
       "    </tr>\n",
       "    <tr>\n",
       "      <th>2025-06-18 21:00:00</th>\n",
       "      <td>0.55174</td>\n",
       "      <td>0.030864</td>\n",
       "      <td>0.023121</td>\n",
       "      <td>0.033399</td>\n",
       "      <td>0.628481</td>\n",
       "      <td>0.45709</td>\n",
       "      <td>0.540908</td>\n",
       "      <td>0.24973</td>\n",
       "      <td>0.55324</td>\n",
       "      <td>196.392600</td>\n",
       "      <td>196.687400</td>\n",
       "      <td>0.350968</td>\n",
       "    </tr>\n",
       "  </tbody>\n",
       "</table>\n",
       "<p>3591238 rows × 12 columns</p>\n",
       "</div>"
      ],
      "text/plain": [
       "                      rsi_14  minus_di_15   eng_adx  eng_atr_div    adx_14  \\\n",
       "2004-01-02 13:09:00  0.00000     0.000000  0.000000     0.000279  0.625459   \n",
       "2004-01-02 13:10:00  0.00000     0.000000  0.000000     0.000310  0.625379   \n",
       "2004-01-02 13:11:00  0.00000     0.000000  0.000000     0.000341  0.625318   \n",
       "2004-01-02 13:12:00  0.00000     0.000000  0.000000     0.000341  0.625263   \n",
       "2004-01-02 13:13:00  0.00000     0.000000  0.000000     0.000341  0.625227   \n",
       "...                      ...          ...       ...          ...       ...   \n",
       "2025-06-18 20:56:00  0.67217     0.024691  0.023121     0.024910  0.635234   \n",
       "2025-06-18 20:57:00  0.61669     0.024691  0.023121     0.025902  0.629672   \n",
       "2025-06-18 20:58:00  0.61473     0.030864  0.023121     0.025499  0.628744   \n",
       "2025-06-18 20:59:00  0.47540     0.030864  0.023121     0.031509  0.616953   \n",
       "2025-06-18 21:00:00  0.55174     0.030864  0.023121     0.033399  0.628481   \n",
       "\n",
       "                     sma_100  vol_spike_14  macd_line_12_26_9   sma_20  \\\n",
       "2004-01-02 13:09:00  0.00000      0.528843            0.00000  0.00000   \n",
       "2004-01-02 13:10:00  0.00000      0.528775            0.00000  0.00000   \n",
       "2004-01-02 13:11:00  0.00000      0.528707            0.00000  0.00000   \n",
       "2004-01-02 13:12:00  0.00000      0.528641            0.00000  0.00000   \n",
       "2004-01-02 13:13:00  0.00000      0.528573            0.00000  0.00000   \n",
       "...                      ...           ...                ...      ...   \n",
       "2025-06-18 20:56:00  0.73661      0.541606            0.36312  0.66709   \n",
       "2025-06-18 20:57:00  0.58962      0.542649            0.34721  0.61512   \n",
       "2025-06-18 20:58:00  0.58091      0.545497            0.33627  0.61329   \n",
       "2025-06-18 20:59:00  0.17135      0.538547            0.29058  0.48143   \n",
       "2025-06-18 21:00:00  0.45709      0.540908            0.24973  0.55324   \n",
       "\n",
       "                            bid         ask    signal  \n",
       "2004-01-02 13:09:00    0.763664    0.764807  0.021536  \n",
       "2004-01-02 13:10:00    0.763647    0.764790  0.023284  \n",
       "2004-01-02 13:11:00    0.763631    0.764773  0.025175  \n",
       "2004-01-02 13:12:00    0.763614    0.764757  0.027222  \n",
       "2004-01-02 13:13:00    0.763597    0.764740  0.029436  \n",
       "...                         ...         ...       ...  \n",
       "2025-06-18 20:56:00  196.667400  196.962600  0.684908  \n",
       "2025-06-18 20:57:00  196.527500  196.822500  0.612206  \n",
       "2025-06-18 20:58:00  196.522500  196.817500  0.610468  \n",
       "2025-06-18 20:59:00  196.092800  196.387200  0.477090  \n",
       "2025-06-18 21:00:00  196.392600  196.687400  0.350968  \n",
       "\n",
       "[3591238 rows x 12 columns]"
      ]
     },
     "execution_count": 3,
     "metadata": {},
     "output_type": "execute_result"
    }
   ],
   "source": [
    "df_feat_sel = pd.read_csv(params.feat_all_csv, index_col=0, parse_dates=True)[params.features_cols_tick + ['bid','ask'] + [params.label_col]]\n",
    "    \n",
    "df_feat_sel"
   ]
  },
  {
   "cell_type": "code",
   "execution_count": 4,
   "id": "d9a2e58b-3140-4a76-9473-1fab56c18d8f",
   "metadata": {},
   "outputs": [
    {
     "data": {
      "text/plain": [
       "[30, 60, 90, 120]"
      ]
     },
     "execution_count": 4,
     "metadata": {},
     "output_type": "execute_result"
    }
   ],
   "source": [
    "# calculate look_backs under half the interval between the day’s first and sess_start\n",
    "\n",
    "first_time = (\n",
    "    df_feat_sel.index\n",
    "        .to_series()\n",
    "        .groupby(df_feat_sel.index.normalize())\n",
    "        .min()\n",
    "        .dt.time\n",
    "        .mode()[0]\n",
    ")\n",
    "\n",
    "# convert both times to minutes since midnight\n",
    "fm = first_time.hour * 60 + first_time.minute\n",
    "sm = params.sess_start.hour * 60 + params.sess_start.minute\n",
    "\n",
    "# half the difference, count full 30-min slots, and build multiples\n",
    "n_steps    = int(((sm - fm) / 2) // 30)      # e.g. floor(165/30) = 5\n",
    "look_backs = [30 * i for i in range(1, n_steps + 1)]\n",
    "look_backs\n"
   ]
  },
  {
   "cell_type": "code",
   "execution_count": 5,
   "id": "fdb4612b-f5bb-4e4a-8784-6d5689de67c2",
   "metadata": {},
   "outputs": [],
   "source": [
    "# ──────────────────────────────────────────────────────────────────────────────\n",
    "# Optuna objective definition\n",
    "# ──────────────────────────────────────────────────────────────────────────────\n",
    "\n",
    "# look_backs = [30, 45, 60, 75, 90] ################################\n",
    "\n",
    "def objective(trial):\n",
    "    \n",
    "    hp = {\n",
    "    # ── Architecture ────────────────────────────────────────────────\n",
    "    \"look_back\"    : trial.suggest_categorical(\"look_back\", look_backs),\n",
    "    \"DROPOUT_SHORT\": trial.suggest_float(\"DROPOUT_SHORT\", 0.05, 0.35),\n",
    "    \"DROPOUT_LONG\":  trial.suggest_float(\"DROPOUT_LONG\",  0.05, 0.35),\n",
    "    \"ATT_DROPOUT\":   trial.suggest_float(\"ATT_DROPOUT\",   0.05, 0.35),\n",
    "    \n",
    "    # ── Optimizer & Scheduler ──────────────────────────────────────\n",
    "    \"INITIAL_LR\":    trial.suggest_float(\"INITIAL_LR\",    1e-5, 1e-3,   log=True),\n",
    "    \"ETA_MIN\":       trial.suggest_float(\"ETA_MIN\",       1e-6, 1e-5,   log=True),\n",
    "    \"WEIGHT_DECAY\":  trial.suggest_float(\"WEIGHT_DECAY\",  1e-5, 1e-2,  log=True),\n",
    "    \"CLIPNORM\":      trial.suggest_float(\"CLIPNORM\",      0.1, 10),\n",
    "    }\n",
    "\n",
    "    print(f\"\\n▶ Trial {trial.number} starting with:\\n{hp}\\n\")\n",
    "\n",
    "    sess_start_pred = dt.time(*divmod((params.sess_start.hour * 60 + params.sess_start.minute) - hp[\"look_back\"], 60))\n",
    "    \n",
    "    print('Build LSTM input tensors (disk-backed memmaps)...')\n",
    "    X, y_sig, y_ret, raw_close, raw_bid, raw_ask, end_times = models_core.build_tensors(\n",
    "        df            = df_feat_sel,\n",
    "        sess_start    = sess_start_pred \n",
    "    )\n",
    "    \n",
    "    print('Split into train/val/test by calendar day...')\n",
    "    (\n",
    "    (X_tr,  y_sig_tr,  y_ret_tr),\n",
    "    (X_val, y_sig_val, y_ret_val),\n",
    "    (X_te,  y_sig_te,  y_ret_te,  raw_close_te, raw_bid_te, raw_ask_te),\n",
    "    samples_per_day,\n",
    "    day_id_tr, day_id_val, day_id_te\n",
    "    ) = models_core.chronological_split(\n",
    "        X, y_sig, y_ret,\n",
    "        raw_close, raw_bid, raw_ask,\n",
    "        end_times   = end_times,\n",
    "        train_prop  = params.train_prop,\n",
    "        val_prop    = params.val_prop,\n",
    "        train_batch = params.hparams['TRAIN_BATCH']\n",
    "    )\n",
    "\n",
    "    print('Carve `end_times` into the same three splits...')\n",
    "    n_tr  = day_id_tr .shape[0] \n",
    "    n_val = day_id_val.shape[0]\n",
    "    i_tr  = n_tr\n",
    "    i_val = n_tr + n_val\n",
    "    \n",
    "    end_times_tr  = end_times[:i_tr]\n",
    "    end_times_val = end_times[i_tr:i_val]\n",
    "    end_times_te  = end_times[i_val:]\n",
    "    \n",
    "    print('Build DataLoaders over calendar‐days...')\n",
    "    train_loader, val_loader, test_loader = models_core.split_to_day_datasets(\n",
    "        # train split:   \n",
    "        X_tr,            y_sig_tr,     y_ret_tr,   end_times_tr,\n",
    "        # val split:\n",
    "        X_val,           y_sig_val,    y_ret_val,  end_times_val,\n",
    "        # test split + raw‐prices\n",
    "        X_te,            y_sig_te,     y_ret_te,   end_times_te,\n",
    "        raw_close_te, raw_bid_te, raw_ask_te,\n",
    "        \n",
    "        sess_start_time       = sess_start_pred,\n",
    "        signal_thresh         = params.best_optuna_params[\"buy_threshold\"],\n",
    "        return_thresh         = 0.01,  # flat‐zone threshold for returns (to tune)\n",
    "        train_batch           = params.hparams[\"TRAIN_BATCH\"],\n",
    "        train_workers         = params.hparams[\"NUM_WORKERS\"],\n",
    "        train_prefetch_factor = params.hparams[\"TRAIN_PREFETCH_FACTOR\"]\n",
    "    )\n",
    "\n",
    "    print('Instantiate the stateful DualMemoryLSTM...')\n",
    "    model = dual_lstm.DualMemoryLSTM(\n",
    "        n_feats        = X.shape[-1],                          \n",
    "        short_units    = params.hparams['SHORT_UNITS'],    \n",
    "        long_units     = params.hparams['LONG_UNITS'],     \n",
    "        dropout_short  = hp[\"DROPOUT_SHORT\"],  \n",
    "        dropout_long   = hp[\"DROPOUT_LONG\"],   \n",
    "        att_heads      = params.hparams['ATT_HEADS'],\n",
    "        att_drop       = hp['ATT_DROPOUT']\n",
    "    )\n",
    "    model.to(params.device)  \n",
    "\n",
    "    print('Build optimizer, LR scheduler, AMP scaler, and gradient‐clip norm...')\n",
    "    optimizer, plateau_sched, _ , scaler, clipnorm = \\\n",
    "        models_core.make_optimizer_and_scheduler(\n",
    "            model            = model,\n",
    "            initial_lr       = hp[\"INITIAL_LR\"],\n",
    "            weight_decay     = hp[\"WEIGHT_DECAY\"],\n",
    "            clipnorm         = hp[\"CLIPNORM\"]\n",
    "        )\n",
    "    cosine_sched = CosineAnnealingWarmRestarts(\n",
    "        optimizer, \n",
    "        T_0=params.hparams['T_0'], \n",
    "        T_mult=params.hparams['T_MULT'], \n",
    "        eta_min=hp['ETA_MIN']\n",
    "    )\n",
    "    \n",
    "    print('Run the custom stateful training loop...')\n",
    "    best_val_rmse  = dual_lstm.lstm_training_loop(\n",
    "        model               = model,\n",
    "        optimizer           = optimizer,\n",
    "        cosine_sched        = cosine_sched,\n",
    "        plateau_sched       = plateau_sched,\n",
    "        scaler              = scaler,\n",
    "        train_loader        = train_loader,\n",
    "        val_loader          = val_loader,\n",
    "        max_epochs          = params.hparams['MAX_EPOCHS'],\n",
    "        early_stop_patience = params.hparams['EARLY_STOP_PATIENCE'],\n",
    "        clipnorm            = hp[\"CLIPNORM\"],\n",
    "        device              = params.device\n",
    "    )\n",
    "\n",
    "    print('Delete variables to free memory...')\n",
    "    del model, optimizer, plateau_sched, cosine_sched, scaler\n",
    "    del X, y_sig, y_ret, raw_close, raw_bid, raw_ask\n",
    "    del X_tr,  y_sig_tr,  y_ret_tr, X_val, y_sig_val, y_ret_val, X_te,  y_sig_te,  y_ret_te\n",
    "    del raw_close_te, raw_bid_te, raw_ask_te\n",
    "    del train_loader, val_loader, test_loader\n",
    "\n",
    "    gc.collect()\n",
    "    if torch.cuda.is_available():\n",
    "        torch.cuda.empty_cache()\n",
    "    \n",
    "    return best_val_rmse\n"
   ]
  },
  {
   "cell_type": "code",
   "execution_count": 6,
   "id": "1ce185de-1d62-49f9-9a96-00385e813521",
   "metadata": {},
   "outputs": [
    {
     "data": {
      "image/png": "[encoded data removed]",
      "text/plain": [
       "<Figure size 700x300 with 1 Axes>"
      ]
     },
     "metadata": {},
     "output_type": "display_data"
    }
   ],
   "source": [
    "# build blank figure & line\n",
    "fig, ax = plt.subplots(figsize=(7,3))\n",
    "line, = ax.plot([], [], \"bo-\")\n",
    "ax.set(xlabel=\"Trial #\", ylabel=\"Objective\",\n",
    "       title=\"Optuna optimization progress\")\n",
    "ax.grid(True)\n",
    "\n",
    "# display once and grab the handle\n",
    "handle = display(fig, display_id=True)\n",
    "plt.close(fig)\n",
    "\n",
    "# ask plots.py for a callback bound to these objects\n",
    "live_cb = plots.make_live_plot_callback(fig, ax, line, handle)"
   ]
  },
  {
   "cell_type": "code",
   "execution_count": 7,
   "id": "7658050b-a604-4331-ac64-72b2c7fd3689",
   "metadata": {},
   "outputs": [
    {
     "name": "stderr",
     "output_type": "stream",
     "text": [
      "[I 2025-09-17 12:07:42,148] A new study created in RDB with name: no-name-6d07a592-472a-4409-ba0f-6752ebea96cf\n"
     ]
    },
    {
     "name": "stdout",
     "output_type": "stream",
     "text": [
      "\n",
      "▶ Trial 0 starting with:\n",
      "{'look_back': 60, 'DROPOUT_SHORT': 0.07958527397282814, 'DROPOUT_LONG': 0.19779471993318465, 'ATT_DROPOUT': 0.07401858275897479, 'INITIAL_LR': 0.00015099222423095652, 'ETA_MIN': 1.9955240846996957e-06, 'WEIGHT_DECAY': 0.0004540457240965803, 'CLIPNORM': 2.4546284037356485}\n",
      "\n",
      "Build LSTM input tensors (disk-backed memmaps)...\n",
      "Inside build_tensors, features: ['rsi_14', 'minus_di_15', 'eng_adx', 'eng_atr_div', 'adx_14', 'sma_100', 'vol_spike_14', 'macd_line_12_26_9', 'sma_20']\n"
     ]
    },
    {
     "data": {
      "application/vnd.jupyter.widget-view+json": {
       "model_id": "7887dae8d44242a6a5e651f46ef8e285",
       "version_major": 2,
       "version_minor": 0
      },
      "text/plain": [
       "Counting windows:   0%|          | 0/5400 [00:00<?, ?it/s]"
      ]
     },
     "metadata": {},
     "output_type": "display_data"
    },
    {
     "data": {
      "application/vnd.jupyter.widget-view+json": {
       "model_id": "0bdd69974cc341d7838d21f459472270",
       "version_major": 2,
       "version_minor": 0
      },
      "text/plain": [
       "Writing memmaps:   0%|          | 0/5400 [00:00<?, ?it/s]"
      ]
     },
     "metadata": {},
     "output_type": "display_data"
    },
    {
     "name": "stdout",
     "output_type": "stream",
     "text": [
      "Split into train/val/test by calendar day...\n",
      "Carve `end_times` into the same three splits...\n",
      "Build DataLoaders over calendar‐days...\n"
     ]
    },
    {
     "data": {
      "application/vnd.jupyter.widget-view+json": {
       "model_id": "ac129d0f07f245a59caa001e37f1db74",
       "version_major": 2,
       "version_minor": 0
      },
      "text/plain": [
       "Creating DayWindowDatasets:   0%|          | 0/3 [00:00<?, ?split/s]"
      ]
     },
     "metadata": {},
     "output_type": "display_data"
    },
    {
     "name": "stdout",
     "output_type": "stream",
     "text": [
      "Instantiate the stateful DualMemoryLSTM...\n",
      "Build optimizer, LR scheduler, AMP scaler, and gradient‐clip norm...\n",
      "Run the custom stateful training loop...\n"
     ]
    },
    {
     "data": {
      "image/png": "[encoded data removed]",
      "text/plain": [
       "<Figure size 660x440 with 1 Axes>"
      ]
     },
     "metadata": {},
     "output_type": "display_data"
    },
    {
     "data": {
      "application/vnd.jupyter.widget-view+json": {
       "model_id": "9b48777d26254e21a7b043e4c6b69538",
       "version_major": 2,
       "version_minor": 0
      },
      "text/plain": [
       "Epoch 1:   0%|          | 0/60 [00:00<?, ?batch/s]"
      ]
     },
     "metadata": {},
     "output_type": "display_data"
    },
    {
     "name": "stdout",
     "output_type": "stream",
     "text": [
      "Epoch 001\n",
      "TRAIN→ \"R\": RMSE=0.2882 MAE=0.2229 R2=0.0093 | \"B\": Acc=0.2839 Prec=0.2748 Rec=0.9752 F1=0.4287 AUROC=0.4792\n",
      "VALID→ \"R\": RMSE=0.3003 MAE=0.2049 R2=-0.0945 | \"B\": Acc=0.2873 Prec=0.2873 Rec=1.0000 F1=0.4464 AUROC=0.5804\n",
      "🔖 Saved folder‐best checkpoint (_chp): AAPL_0.30027_chp.pth\n"
     ]
    },
    {
     "data": {
      "application/vnd.jupyter.widget-view+json": {
       "model_id": "bb00022d6b5e4a92aaac305b8082426c",
       "version_major": 2,
       "version_minor": 0
      },
      "text/plain": [
       "Epoch 2:   0%|          | 0/60 [00:00<?, ?batch/s]"
      ]
     },
     "metadata": {},
     "output_type": "display_data"
    },
    {
     "name": "stdout",
     "output_type": "stream",
     "text": [
      "Epoch 002\n",
      "TRAIN→ \"R\": RMSE=0.2846 MAE=0.2245 R2=0.0340 | \"B\": Acc=0.2768 Prec=0.2756 Rec=0.9974 F1=0.4318 AUROC=0.4956\n",
      "VALID→ \"R\": RMSE=0.2944 MAE=0.2013 R2=-0.0523 | \"B\": Acc=0.2873 Prec=0.2873 Rec=1.0000 F1=0.4464 AUROC=0.6131\n",
      "🔖 Saved folder‐best checkpoint (_chp): AAPL_0.29443_chp.pth\n"
     ]
    },
    {
     "data": {
      "application/vnd.jupyter.widget-view+json": {
       "model_id": "f29bf30849884924a4d281d585372ac3",
       "version_major": 2,
       "version_minor": 0
      },
      "text/plain": [
       "Epoch 3:   0%|          | 0/60 [00:00<?, ?batch/s]"
      ]
     },
     "metadata": {},
     "output_type": "display_data"
    },
    {
     "name": "stdout",
     "output_type": "stream",
     "text": [
      "Epoch 003\n",
      "TRAIN→ \"R\": RMSE=0.2821 MAE=0.2221 R2=0.0510 | \"B\": Acc=0.2762 Prec=0.2756 Rec=0.9989 F1=0.4320 AUROC=0.5165\n",
      "VALID→ \"R\": RMSE=0.2931 MAE=0.1996 R2=-0.0429 | \"B\": Acc=0.2873 Prec=0.2873 Rec=1.0000 F1=0.4464 AUROC=0.6267\n",
      "🔖 Saved folder‐best checkpoint (_chp): AAPL_0.29310_chp.pth\n"
     ]
    },
    {
     "data": {
      "application/vnd.jupyter.widget-view+json": {
       "model_id": "42bcfb1c104b4d0fa1b775c320601219",
       "version_major": 2,
       "version_minor": 0
      },
      "text/plain": [
       "Epoch 4:   0%|          | 0/60 [00:00<?, ?batch/s]"
      ]
     },
     "metadata": {},
     "output_type": "display_data"
    },
    {
     "name": "stdout",
     "output_type": "stream",
     "text": [
      "Epoch 004\n",
      "TRAIN→ \"R\": RMSE=0.2812 MAE=0.2206 R2=0.0573 | \"B\": Acc=0.2763 Prec=0.2756 Rec=0.9990 F1=0.4321 AUROC=0.5401\n",
      "VALID→ \"R\": RMSE=0.2903 MAE=0.1980 R2=-0.0228 | \"B\": Acc=0.2873 Prec=0.2873 Rec=1.0000 F1=0.4464 AUROC=0.6249\n",
      "🔖 Saved folder‐best checkpoint (_chp): AAPL_0.29027_chp.pth\n"
     ]
    },
    {
     "data": {
      "application/vnd.jupyter.widget-view+json": {
       "model_id": "ae97ee44a76145e1b1c8053b661b84ef",
       "version_major": 2,
       "version_minor": 0
      },
      "text/plain": [
       "Epoch 5:   0%|          | 0/60 [00:00<?, ?batch/s]"
      ]
     },
     "metadata": {},
     "output_type": "display_data"
    },
    {
     "name": "stdout",
     "output_type": "stream",
     "text": [
      "Epoch 005\n",
      "TRAIN→ \"R\": RMSE=0.2781 MAE=0.2179 R2=0.0780 | \"B\": Acc=0.2775 Prec=0.2758 Rec=0.9976 F1=0.4321 AUROC=0.5398\n",
      "VALID→ \"R\": RMSE=0.2887 MAE=0.1965 R2=-0.0116 | \"B\": Acc=0.2873 Prec=0.2873 Rec=1.0000 F1=0.4464 AUROC=0.6345\n",
      "🔖 Saved folder‐best checkpoint (_chp): AAPL_0.28867_chp.pth\n"
     ]
    },
    {
     "data": {
      "application/vnd.jupyter.widget-view+json": {
       "model_id": "a5000f47adaf4630a8c3887da3d77d7b",
       "version_major": 2,
       "version_minor": 0
      },
      "text/plain": [
       "Epoch 6:   0%|          | 0/60 [00:00<?, ?batch/s]"
      ]
     },
     "metadata": {},
     "output_type": "display_data"
    },
    {
     "name": "stdout",
     "output_type": "stream",
     "text": [
      "Epoch 006\n",
      "TRAIN→ \"R\": RMSE=0.2765 MAE=0.2170 R2=0.0881 | \"B\": Acc=0.2795 Prec=0.2759 Rec=0.9942 F1=0.4320 AUROC=0.5328\n",
      "VALID→ \"R\": RMSE=0.2911 MAE=0.1957 R2=-0.0289 | \"B\": Acc=0.2873 Prec=0.2873 Rec=1.0000 F1=0.4464 AUROC=0.6467\n"
     ]
    },
    {
     "data": {
      "application/vnd.jupyter.widget-view+json": {
       "model_id": "f1fe810ff6694b1f89da26c3ac0f3251",
       "version_major": 2,
       "version_minor": 0
      },
      "text/plain": [
       "Epoch 7:   0%|          | 0/60 [00:00<?, ?batch/s]"
      ]
     },
     "metadata": {},
     "output_type": "display_data"
    },
    {
     "name": "stdout",
     "output_type": "stream",
     "text": [
      "Epoch 007\n",
      "TRAIN→ \"R\": RMSE=0.2750 MAE=0.2135 R2=0.0984 | \"B\": Acc=0.2820 Prec=0.2761 Rec=0.9902 F1=0.4318 AUROC=0.5342\n",
      "VALID→ \"R\": RMSE=0.2821 MAE=0.1928 R2=0.0339 | \"B\": Acc=0.2873 Prec=0.2873 Rec=1.0000 F1=0.4464 AUROC=0.6503\n",
      "🔖 Saved folder‐best checkpoint (_chp): AAPL_0.28211_chp.pth\n"
     ]
    },
    {
     "data": {
      "application/vnd.jupyter.widget-view+json": {
       "model_id": "479bc9856807409caaa40871e027bbfc",
       "version_major": 2,
       "version_minor": 0
      },
      "text/plain": [
       "Epoch 8:   0%|          | 0/60 [00:00<?, ?batch/s]"
      ]
     },
     "metadata": {},
     "output_type": "display_data"
    },
    {
     "name": "stdout",
     "output_type": "stream",
     "text": [
      "Epoch 008\n",
      "TRAIN→ \"R\": RMSE=0.2698 MAE=0.2083 R2=0.1323 | \"B\": Acc=0.2847 Prec=0.2767 Rec=0.9887 F1=0.4324 AUROC=0.5553\n",
      "VALID→ \"R\": RMSE=0.2835 MAE=0.1910 R2=0.0245 | \"B\": Acc=0.2873 Prec=0.2873 Rec=1.0000 F1=0.4464 AUROC=0.6687\n"
     ]
    },
    {
     "data": {
      "application/vnd.jupyter.widget-view+json": {
       "model_id": "d8e69c3125f046eb8c4c58df82882637",
       "version_major": 2,
       "version_minor": 0
      },
      "text/plain": [
       "Epoch 9:   0%|          | 0/60 [00:00<?, ?batch/s]"
      ]
     },
     "metadata": {},
     "output_type": "display_data"
    },
    {
     "name": "stdout",
     "output_type": "stream",
     "text": [
      "Epoch 009\n",
      "TRAIN→ \"R\": RMSE=0.2683 MAE=0.2093 R2=0.1414 | \"B\": Acc=0.2864 Prec=0.2769 Rec=0.9863 F1=0.4324 AUROC=0.5607\n",
      "VALID→ \"R\": RMSE=0.2726 MAE=0.1879 R2=0.0978 | \"B\": Acc=0.2873 Prec=0.2873 Rec=1.0000 F1=0.4464 AUROC=0.6721\n",
      "🔖 Saved folder‐best checkpoint (_chp): AAPL_0.27261_chp.pth\n"
     ]
    },
    {
     "data": {
      "application/vnd.jupyter.widget-view+json": {
       "model_id": "a29bcee4318847d6aa6065267bbf5fee",
       "version_major": 2,
       "version_minor": 0
      },
      "text/plain": [
       "Epoch 10:   0%|          | 0/60 [00:00<?, ?batch/s]"
      ]
     },
     "metadata": {},
     "output_type": "display_data"
    },
    {
     "name": "stdout",
     "output_type": "stream",
     "text": [
      "Epoch 010\n",
      "TRAIN→ \"R\": RMSE=0.2647 MAE=0.2029 R2=0.1647 | \"B\": Acc=0.2906 Prec=0.2778 Rec=0.9839 F1=0.4332 AUROC=0.5703\n",
      "VALID→ \"R\": RMSE=0.2735 MAE=0.1859 R2=0.0919 | \"B\": Acc=0.2873 Prec=0.2873 Rec=1.0000 F1=0.4464 AUROC=0.6851\n"
     ]
    },
    {
     "data": {
      "application/vnd.jupyter.widget-view+json": {
       "model_id": "62094cfab12043bca8df2e72eba745f2",
       "version_major": 2,
       "version_minor": 0
      },
      "text/plain": [
       "Epoch 11:   0%|          | 0/60 [00:00<?, ?batch/s]"
      ]
     },
     "metadata": {},
     "output_type": "display_data"
    },
    {
     "name": "stdout",
     "output_type": "stream",
     "text": [
      "Epoch 011\n",
      "TRAIN→ \"R\": RMSE=0.2632 MAE=0.1996 R2=0.1737 | \"B\": Acc=0.2965 Prec=0.2788 Rec=0.9789 F1=0.4340 AUROC=0.5796\n",
      "VALID→ \"R\": RMSE=0.2625 MAE=0.1833 R2=0.1632 | \"B\": Acc=0.2873 Prec=0.2873 Rec=1.0000 F1=0.4464 AUROC=0.6914\n",
      "🔖 Saved folder‐best checkpoint (_chp): AAPL_0.26254_chp.pth\n"
     ]
    },
    {
     "data": {
      "application/vnd.jupyter.widget-view+json": {
       "model_id": "e963b260259d4ed88ddedf1e2a850642",
       "version_major": 2,
       "version_minor": 0
      },
      "text/plain": [
       "Epoch 12:   0%|          | 0/60 [00:00<?, ?batch/s]"
      ]
     },
     "metadata": {},
     "output_type": "display_data"
    },
    {
     "name": "stdout",
     "output_type": "stream",
     "text": [
      "Epoch 012\n",
      "TRAIN→ \"R\": RMSE=0.2608 MAE=0.2006 R2=0.1887 | \"B\": Acc=0.3034 Prec=0.2799 Rec=0.9715 F1=0.4346 AUROC=0.5788\n",
      "VALID→ \"R\": RMSE=0.2535 MAE=0.1850 R2=0.2200 | \"B\": Acc=0.2873 Prec=0.2873 Rec=1.0000 F1=0.4464 AUROC=0.6803\n",
      "🔖 Saved folder‐best checkpoint (_chp): AAPL_0.25349_chp.pth\n"
     ]
    },
    {
     "data": {
      "application/vnd.jupyter.widget-view+json": {
       "model_id": "9445657a96c247c48b6cec88a11da9b5",
       "version_major": 2,
       "version_minor": 0
      },
      "text/plain": [
       "Epoch 13:   0%|          | 0/60 [00:00<?, ?batch/s]"
      ]
     },
     "metadata": {},
     "output_type": "display_data"
    },
    {
     "name": "stdout",
     "output_type": "stream",
     "text": [
      "Epoch 013\n",
      "TRAIN→ \"R\": RMSE=0.2575 MAE=0.1977 R2=0.2093 | \"B\": Acc=0.3087 Prec=0.2799 Rec=0.9591 F1=0.4333 AUROC=0.5637\n",
      "VALID→ \"R\": RMSE=0.2503 MAE=0.1911 R2=0.2394 | \"B\": Acc=0.2873 Prec=0.2873 Rec=1.0000 F1=0.4464 AUROC=0.6673\n",
      "🔖 Saved folder‐best checkpoint (_chp): AAPL_0.25031_chp.pth\n"
     ]
    },
    {
     "data": {
      "application/vnd.jupyter.widget-view+json": {
       "model_id": "7165b2fd25b740d98e41938be80880da",
       "version_major": 2,
       "version_minor": 0
      },
      "text/plain": [
       "Epoch 14:   0%|          | 0/60 [00:00<?, ?batch/s]"
      ]
     },
     "metadata": {},
     "output_type": "display_data"
    },
    {
     "name": "stdout",
     "output_type": "stream",
     "text": [
      "Epoch 014\n",
      "TRAIN→ \"R\": RMSE=0.2580 MAE=0.1985 R2=0.2065 | \"B\": Acc=0.3237 Prec=0.2811 Rec=0.9334 F1=0.4320 AUROC=0.5533\n",
      "VALID→ \"R\": RMSE=0.2576 MAE=0.1810 R2=0.1942 | \"B\": Acc=0.2873 Prec=0.2873 Rec=1.0000 F1=0.4464 AUROC=0.6898\n"
     ]
    },
    {
     "data": {
      "application/vnd.jupyter.widget-view+json": {
       "model_id": "efeb539ac43c416c81f19ad168a226c0",
       "version_major": 2,
       "version_minor": 0
      },
      "text/plain": [
       "Epoch 15:   0%|          | 0/60 [00:00<?, ?batch/s]"
      ]
     },
     "metadata": {},
     "output_type": "display_data"
    },
    {
     "name": "stdout",
     "output_type": "stream",
     "text": [
      "Epoch 015\n",
      "TRAIN→ \"R\": RMSE=0.2582 MAE=0.1991 R2=0.2052 | \"B\": Acc=0.3198 Prec=0.2803 Rec=0.9370 F1=0.4315 AUROC=0.5498\n",
      "VALID→ \"R\": RMSE=0.2505 MAE=0.1848 R2=0.2382 | \"B\": Acc=0.2873 Prec=0.2873 Rec=1.0000 F1=0.4464 AUROC=0.6812\n"
     ]
    },
    {
     "data": {
      "application/vnd.jupyter.widget-view+json": {
       "model_id": "640228c2e53e41e39ad064e69096ff4b",
       "version_major": 2,
       "version_minor": 0
      },
      "text/plain": [
       "Epoch 16:   0%|          | 0/60 [00:00<?, ?batch/s]"
      ]
     },
     "metadata": {},
     "output_type": "display_data"
    },
    {
     "name": "stdout",
     "output_type": "stream",
     "text": [
      "Epoch 016\n",
      "TRAIN→ \"R\": RMSE=0.2559 MAE=0.1960 R2=0.2189 | \"B\": Acc=0.3427 Prec=0.2836 Rec=0.9078 F1=0.4322 AUROC=0.5564\n",
      "VALID→ \"R\": RMSE=0.2514 MAE=0.1834 R2=0.2328 | \"B\": Acc=0.2873 Prec=0.2873 Rec=1.0000 F1=0.4464 AUROC=0.6743\n"
     ]
    },
    {
     "data": {
      "application/vnd.jupyter.widget-view+json": {
       "model_id": "e67cd8e20bdc42ad82d3be776fc943b1",
       "version_major": 2,
       "version_minor": 0
      },
      "text/plain": [
       "Epoch 17:   0%|          | 0/60 [00:00<?, ?batch/s]"
      ]
     },
     "metadata": {},
     "output_type": "display_data"
    },
    {
     "name": "stdout",
     "output_type": "stream",
     "text": [
      "Epoch 017\n",
      "TRAIN→ \"R\": RMSE=0.2559 MAE=0.1948 R2=0.2193 | \"B\": Acc=0.3644 Prec=0.2858 Rec=0.8714 F1=0.4304 AUROC=0.5539\n",
      "VALID→ \"R\": RMSE=0.2542 MAE=0.1808 R2=0.2157 | \"B\": Acc=0.2873 Prec=0.2873 Rec=1.0000 F1=0.4464 AUROC=0.6810\n"
     ]
    },
    {
     "data": {
      "application/vnd.jupyter.widget-view+json": {
       "model_id": "6963670516e940f6a3070123521fc45c",
       "version_major": 2,
       "version_minor": 0
      },
      "text/plain": [
       "Epoch 18:   0%|          | 0/60 [00:00<?, ?batch/s]"
      ]
     },
     "metadata": {},
     "output_type": "display_data"
    },
    {
     "name": "stdout",
     "output_type": "stream",
     "text": [
      "Epoch 018\n",
      "TRAIN→ \"R\": RMSE=0.2564 MAE=0.1966 R2=0.2157 | \"B\": Acc=0.3701 Prec=0.2856 Rec=0.8568 F1=0.4285 AUROC=0.5494\n",
      "VALID→ \"R\": RMSE=0.2608 MAE=0.1798 R2=0.1742 | \"B\": Acc=0.2874 Prec=0.2873 Rec=1.0000 F1=0.4464 AUROC=0.6730\n"
     ]
    },
    {
     "data": {
      "application/vnd.jupyter.widget-view+json": {
       "model_id": "e02a6ed649a9452ebe636009399339a0",
       "version_major": 2,
       "version_minor": 0
      },
      "text/plain": [
       "Epoch 19:   0%|          | 0/60 [00:00<?, ?batch/s]"
      ]
     },
     "metadata": {},
     "output_type": "display_data"
    },
    {
     "name": "stdout",
     "output_type": "stream",
     "text": [
      "Epoch 019\n",
      "TRAIN→ \"R\": RMSE=0.2543 MAE=0.1937 R2=0.2288 | \"B\": Acc=0.3865 Prec=0.2859 Rec=0.8191 F1=0.4239 AUROC=0.5391\n",
      "VALID→ \"R\": RMSE=0.2584 MAE=0.1798 R2=0.1895 | \"B\": Acc=0.2875 Prec=0.2874 Rec=1.0000 F1=0.4464 AUROC=0.6555\n",
      "Early stopping at epoch 19\n",
      "✅ Final best model (_fin) saved: AAPL_0.25031_fin.pth\n",
      "Delete variables to free memory...\n"
     ]
    },
    {
     "name": "stderr",
     "output_type": "stream",
     "text": [
      "[I 2025-09-17 12:25:12,942] Trial 0 finished with value: 0.25030624866485596 and parameters: {'look_back': 60, 'DROPOUT_SHORT': 0.07958527397282814, 'DROPOUT_LONG': 0.19779471993318465, 'ATT_DROPOUT': 0.07401858275897479, 'INITIAL_LR': 0.00015099222423095652, 'ETA_MIN': 1.9955240846996957e-06, 'WEIGHT_DECAY': 0.0004540457240965803, 'CLIPNORM': 2.4546284037356485}. Best is trial 0 with value: 0.25030624866485596.\n"
     ]
    },
    {
     "name": "stdout",
     "output_type": "stream",
     "text": [
      "\n",
      "▶ Trial 1 starting with:\n",
      "{'look_back': 60, 'DROPOUT_SHORT': 0.07700009456215443, 'DROPOUT_LONG': 0.30246123604964786, 'ATT_DROPOUT': 0.2015086303834806, 'INITIAL_LR': 0.0002718174721671645, 'ETA_MIN': 1.6706829720983285e-06, 'WEIGHT_DECAY': 0.0034201355008973717, 'CLIPNORM': 9.461547240569047}\n",
      "\n",
      "Build LSTM input tensors (disk-backed memmaps)...\n",
      "Inside build_tensors, features: ['rsi_14', 'minus_di_15', 'eng_adx', 'eng_atr_div', 'adx_14', 'sma_100', 'vol_spike_14', 'macd_line_12_26_9', 'sma_20']\n"
     ]
    },
    {
     "data": {
      "application/vnd.jupyter.widget-view+json": {
       "model_id": "4894435c9e6d48518fca553266b8edf0",
       "version_major": 2,
       "version_minor": 0
      },
      "text/plain": [
       "Counting windows:   0%|          | 0/5400 [00:00<?, ?it/s]"
      ]
     },
     "metadata": {},
     "output_type": "display_data"
    },
    {
     "data": {
      "application/vnd.jupyter.widget-view+json": {
       "model_id": "010f5dd6c183485b81c0fa03a6e1a1b2",
       "version_major": 2,
       "version_minor": 0
      },
      "text/plain": [
       "Writing memmaps:   0%|          | 0/5400 [00:00<?, ?it/s]"
      ]
     },
     "metadata": {},
     "output_type": "display_data"
    },
    {
     "name": "stdout",
     "output_type": "stream",
     "text": [
      "Split into train/val/test by calendar day...\n",
      "Carve `end_times` into the same three splits...\n",
      "Build DataLoaders over calendar‐days...\n"
     ]
    },
    {
     "data": {
      "application/vnd.jupyter.widget-view+json": {
       "model_id": "313f5fe3e6a9434181043965ed8d9803",
       "version_major": 2,
       "version_minor": 0
      },
      "text/plain": [
       "Creating DayWindowDatasets:   0%|          | 0/3 [00:00<?, ?split/s]"
      ]
     },
     "metadata": {},
     "output_type": "display_data"
    },
    {
     "name": "stdout",
     "output_type": "stream",
     "text": [
      "Instantiate the stateful DualMemoryLSTM...\n",
      "Build optimizer, LR scheduler, AMP scaler, and gradient‐clip norm...\n",
      "Run the custom stateful training loop...\n"
     ]
    },
    {
     "data": {
      "image/png": "[encoded data removed]",
      "text/plain": [
       "<Figure size 660x440 with 1 Axes>"
      ]
     },
     "metadata": {},
     "output_type": "display_data"
    },
    {
     "data": {
      "application/vnd.jupyter.widget-view+json": {
       "model_id": "7c32f12b31574256abdad7b55289f1b1",
       "version_major": 2,
       "version_minor": 0
      },
      "text/plain": [
       "Epoch 1:   0%|          | 0/60 [00:01<?, ?batch/s]"
      ]
     },
     "metadata": {},
     "output_type": "display_data"
    },
    {
     "name": "stdout",
     "output_type": "stream",
     "text": [
      "Epoch 001\n",
      "TRAIN→ \"R\": RMSE=0.2925 MAE=0.2288 R2=-0.0201 | \"B\": Acc=0.6830 Prec=0.3136 Rec=0.1267 F1=0.1805 AUROC=0.5319\n",
      "VALID→ \"R\": RMSE=0.3073 MAE=0.2061 R2=-0.1466 | \"B\": Acc=0.7127 Prec=0.0000 Rec=0.0000 F1=0.0000 AUROC=0.6824\n"
     ]
    },
    {
     "data": {
      "application/vnd.jupyter.widget-view+json": {
       "model_id": "11c920298e214ad1b2045a1b190351b7",
       "version_major": 2,
       "version_minor": 0
      },
      "text/plain": [
       "Epoch 2:   0%|          | 0/60 [00:00<?, ?batch/s]"
      ]
     },
     "metadata": {},
     "output_type": "display_data"
    },
    {
     "name": "stdout",
     "output_type": "stream",
     "text": [
      "Epoch 002\n",
      "TRAIN→ \"R\": RMSE=0.2853 MAE=0.2250 R2=0.0295 | \"B\": Acc=0.6985 Prec=0.3407 Rec=0.1008 F1=0.1556 AUROC=0.5507\n",
      "VALID→ \"R\": RMSE=0.2987 MAE=0.2003 R2=-0.0831 | \"B\": Acc=0.7127 Prec=0.0000 Rec=0.0000 F1=0.0000 AUROC=0.6813\n"
     ]
    },
    {
     "data": {
      "application/vnd.jupyter.widget-view+json": {
       "model_id": "7447e856edc2406798eabfd481156f83",
       "version_major": 2,
       "version_minor": 0
      },
      "text/plain": [
       "Epoch 3:   0%|          | 0/60 [00:00<?, ?batch/s]"
      ]
     },
     "metadata": {},
     "output_type": "display_data"
    },
    {
     "name": "stdout",
     "output_type": "stream",
     "text": [
      "Epoch 003\n",
      "TRAIN→ \"R\": RMSE=0.2793 MAE=0.2189 R2=0.0696 | \"B\": Acc=0.7109 Prec=0.3865 Rec=0.0839 F1=0.1379 AUROC=0.5784\n",
      "VALID→ \"R\": RMSE=0.2937 MAE=0.1966 R2=-0.0474 | \"B\": Acc=0.7127 Prec=0.0000 Rec=0.0000 F1=0.0000 AUROC=0.6829\n"
     ]
    },
    {
     "data": {
      "application/vnd.jupyter.widget-view+json": {
       "model_id": "59b57fa5d84c46afb8441cc17a5f5444",
       "version_major": 2,
       "version_minor": 0
      },
      "text/plain": [
       "Epoch 4:   0%|          | 0/60 [00:00<?, ?batch/s]"
      ]
     },
     "metadata": {},
     "output_type": "display_data"
    },
    {
     "name": "stdout",
     "output_type": "stream",
     "text": [
      "Epoch 004\n",
      "TRAIN→ \"R\": RMSE=0.2750 MAE=0.2139 R2=0.0981 | \"B\": Acc=0.7201 Prec=0.4396 Rec=0.0571 F1=0.1011 AUROC=0.5934\n",
      "VALID→ \"R\": RMSE=0.2918 MAE=0.1951 R2=-0.0339 | \"B\": Acc=0.7127 Prec=0.0000 Rec=0.0000 F1=0.0000 AUROC=0.6868\n"
     ]
    },
    {
     "data": {
      "application/vnd.jupyter.widget-view+json": {
       "model_id": "1ce691454a9c4c5f8ad94fd35c007a8e",
       "version_major": 2,
       "version_minor": 0
      },
      "text/plain": [
       "Epoch 5:   0%|          | 0/60 [00:00<?, ?batch/s]"
      ]
     },
     "metadata": {},
     "output_type": "display_data"
    },
    {
     "name": "stdout",
     "output_type": "stream",
     "text": [
      "Epoch 005\n",
      "TRAIN→ \"R\": RMSE=0.2726 MAE=0.2114 R2=0.1137 | \"B\": Acc=0.7237 Prec=0.4794 Rec=0.0338 F1=0.0631 AUROC=0.5953\n",
      "VALID→ \"R\": RMSE=0.2892 MAE=0.1935 R2=-0.0156 | \"B\": Acc=0.7127 Prec=0.0000 Rec=0.0000 F1=0.0000 AUROC=0.6886\n"
     ]
    },
    {
     "data": {
      "application/vnd.jupyter.widget-view+json": {
       "model_id": "d666e2a6cdaf4b72a75dc7c1cb53edca",
       "version_major": 2,
       "version_minor": 0
      },
      "text/plain": [
       "Epoch 6:   0%|          | 0/60 [00:00<?, ?batch/s]"
      ]
     },
     "metadata": {},
     "output_type": "display_data"
    },
    {
     "name": "stdout",
     "output_type": "stream",
     "text": [
      "Epoch 006\n",
      "TRAIN→ \"R\": RMSE=0.2704 MAE=0.2089 R2=0.1284 | \"B\": Acc=0.7250 Prec=0.5208 Rec=0.0245 F1=0.0468 AUROC=0.5994\n",
      "VALID→ \"R\": RMSE=0.2867 MAE=0.1919 R2=0.0019 | \"B\": Acc=0.7127 Prec=0.0000 Rec=0.0000 F1=0.0000 AUROC=0.6875\n"
     ]
    },
    {
     "data": {
      "application/vnd.jupyter.widget-view+json": {
       "model_id": "d20bc95f3d35474dad43603033d4eee6",
       "version_major": 2,
       "version_minor": 0
      },
      "text/plain": [
       "Epoch 7:   0%|          | 0/60 [00:00<?, ?batch/s]"
      ]
     },
     "metadata": {},
     "output_type": "display_data"
    },
    {
     "name": "stdout",
     "output_type": "stream",
     "text": [
      "Epoch 007\n",
      "TRAIN→ \"R\": RMSE=0.2683 MAE=0.2074 R2=0.1417 | \"B\": Acc=0.7256 Prec=0.5608 Rec=0.0198 F1=0.0383 AUROC=0.6005\n",
      "VALID→ \"R\": RMSE=0.2828 MAE=0.1898 R2=0.0294 | \"B\": Acc=0.7127 Prec=0.0000 Rec=0.0000 F1=0.0000 AUROC=0.6866\n"
     ]
    },
    {
     "data": {
      "application/vnd.jupyter.widget-view+json": {
       "model_id": "f33d747ec9d240a4bed9524d879e037f",
       "version_major": 2,
       "version_minor": 0
      },
      "text/plain": [
       "Epoch 8:   0%|          | 0/60 [00:00<?, ?batch/s]"
      ]
     },
     "metadata": {},
     "output_type": "display_data"
    },
    {
     "name": "stdout",
     "output_type": "stream",
     "text": [
      "Epoch 008\n",
      "TRAIN→ \"R\": RMSE=0.2650 MAE=0.2025 R2=0.1626 | \"B\": Acc=0.7259 Prec=0.5875 Rec=0.0171 F1=0.0331 AUROC=0.5991\n",
      "VALID→ \"R\": RMSE=0.2754 MAE=0.1868 R2=0.0796 | \"B\": Acc=0.7127 Prec=0.0000 Rec=0.0000 F1=0.0000 AUROC=0.6949\n"
     ]
    },
    {
     "data": {
      "application/vnd.jupyter.widget-view+json": {
       "model_id": "602e6fadf6bd46779e46948a3e1d87a9",
       "version_major": 2,
       "version_minor": 0
      },
      "text/plain": [
       "Epoch 9:   0%|          | 0/60 [00:00<?, ?batch/s]"
      ]
     },
     "metadata": {},
     "output_type": "display_data"
    },
    {
     "name": "stdout",
     "output_type": "stream",
     "text": [
      "Epoch 009\n",
      "TRAIN→ \"R\": RMSE=0.2631 MAE=0.2012 R2=0.1744 | \"B\": Acc=0.7260 Prec=0.6016 Rec=0.0171 F1=0.0333 AUROC=0.6006\n",
      "VALID→ \"R\": RMSE=0.2709 MAE=0.1849 R2=0.1091 | \"B\": Acc=0.7127 Prec=0.0000 Rec=0.0000 F1=0.0000 AUROC=0.6996\n"
     ]
    },
    {
     "data": {
      "application/vnd.jupyter.widget-view+json": {
       "model_id": "540e4673e579456699b685aca4b51f55",
       "version_major": 2,
       "version_minor": 0
      },
      "text/plain": [
       "Epoch 10:   0%|          | 0/60 [00:00<?, ?batch/s]"
      ]
     },
     "metadata": {},
     "output_type": "display_data"
    },
    {
     "name": "stdout",
     "output_type": "stream",
     "text": [
      "Epoch 010\n",
      "TRAIN→ \"R\": RMSE=0.2624 MAE=0.2027 R2=0.1789 | \"B\": Acc=0.7262 Prec=0.6000 Rec=0.0190 F1=0.0367 AUROC=0.6005\n",
      "VALID→ \"R\": RMSE=0.2691 MAE=0.1836 R2=0.1210 | \"B\": Acc=0.7127 Prec=0.0000 Rec=0.0000 F1=0.0000 AUROC=0.7077\n"
     ]
    },
    {
     "data": {
      "application/vnd.jupyter.widget-view+json": {
       "model_id": "5fba9c242a6f45c2bded7c2ca785ca30",
       "version_major": 2,
       "version_minor": 0
      },
      "text/plain": [
       "Epoch 11:   0%|          | 0/60 [00:00<?, ?batch/s]"
      ]
     },
     "metadata": {},
     "output_type": "display_data"
    },
    {
     "name": "stdout",
     "output_type": "stream",
     "text": [
      "Epoch 011\n",
      "TRAIN→ \"R\": RMSE=0.2605 MAE=0.2016 R2=0.1906 | \"B\": Acc=0.7268 Prec=0.6090 Rec=0.0237 F1=0.0457 AUROC=0.6104\n",
      "VALID→ \"R\": RMSE=0.2557 MAE=0.1861 R2=0.2065 | \"B\": Acc=0.7127 Prec=0.0000 Rec=0.0000 F1=0.0000 AUROC=0.7241\n"
     ]
    },
    {
     "data": {
      "application/vnd.jupyter.widget-view+json": {
       "model_id": "fbeb06ea365b4b4d973ff531542e2ef8",
       "version_major": 2,
       "version_minor": 0
      },
      "text/plain": [
       "Epoch 12:   0%|          | 0/60 [00:00<?, ?batch/s]"
      ]
     },
     "metadata": {},
     "output_type": "display_data"
    },
    {
     "name": "stdout",
     "output_type": "stream",
     "text": [
      "Epoch 012\n",
      "TRAIN→ \"R\": RMSE=0.2586 MAE=0.2001 R2=0.2025 | \"B\": Acc=0.7267 Prec=0.5933 Rec=0.0264 F1=0.0506 AUROC=0.6119\n",
      "VALID→ \"R\": RMSE=0.2583 MAE=0.1818 R2=0.1900 | \"B\": Acc=0.7127 Prec=0.0000 Rec=0.0000 F1=0.0000 AUROC=0.7219\n"
     ]
    },
    {
     "data": {
      "application/vnd.jupyter.widget-view+json": {
       "model_id": "7ab9f82ab77848f8b9098ad122a651fd",
       "version_major": 2,
       "version_minor": 0
      },
      "text/plain": [
       "Epoch 13:   0%|          | 0/60 [00:00<?, ?batch/s]"
      ]
     },
     "metadata": {},
     "output_type": "display_data"
    },
    {
     "name": "stdout",
     "output_type": "stream",
     "text": [
      "Epoch 013\n",
      "TRAIN→ \"R\": RMSE=0.2581 MAE=0.1989 R2=0.2059 | \"B\": Acc=0.7268 Prec=0.5979 Rec=0.0255 F1=0.0490 AUROC=0.6098\n",
      "VALID→ \"R\": RMSE=0.2598 MAE=0.1811 R2=0.1809 | \"B\": Acc=0.7127 Prec=0.0000 Rec=0.0000 F1=0.0000 AUROC=0.7229\n"
     ]
    },
    {
     "data": {
      "application/vnd.jupyter.widget-view+json": {
       "model_id": "006921fdabb54575be8f168c2f590599",
       "version_major": 2,
       "version_minor": 0
      },
      "text/plain": [
       "Epoch 14:   0%|          | 0/60 [00:00<?, ?batch/s]"
      ]
     },
     "metadata": {},
     "output_type": "display_data"
    },
    {
     "name": "stdout",
     "output_type": "stream",
     "text": [
      "Epoch 014\n",
      "TRAIN→ \"R\": RMSE=0.2570 MAE=0.1977 R2=0.2125 | \"B\": Acc=0.7270 Prec=0.6004 Rec=0.0280 F1=0.0535 AUROC=0.6124\n",
      "VALID→ \"R\": RMSE=0.2561 MAE=0.1819 R2=0.2039 | \"B\": Acc=0.7127 Prec=0.0000 Rec=0.0000 F1=0.0000 AUROC=0.7256\n"
     ]
    },
    {
     "data": {
      "application/vnd.jupyter.widget-view+json": {
       "model_id": "d909f5efb7fd4b17954f1d3b02dcf372",
       "version_major": 2,
       "version_minor": 0
      },
      "text/plain": [
       "Epoch 15:   0%|          | 0/60 [00:00<?, ?batch/s]"
      ]
     },
     "metadata": {},
     "output_type": "display_data"
    },
    {
     "name": "stdout",
     "output_type": "stream",
     "text": [
      "Epoch 015\n",
      "TRAIN→ \"R\": RMSE=0.2563 MAE=0.1960 R2=0.2164 | \"B\": Acc=0.7272 Prec=0.5999 Rec=0.0305 F1=0.0580 AUROC=0.6110\n",
      "VALID→ \"R\": RMSE=0.2528 MAE=0.1852 R2=0.2239 | \"B\": Acc=0.7128 Prec=0.8750 Rec=0.0005 F1=0.0010 AUROC=0.7306\n"
     ]
    },
    {
     "data": {
      "application/vnd.jupyter.widget-view+json": {
       "model_id": "0677d1828f674793a0b6fb2108ac24ff",
       "version_major": 2,
       "version_minor": 0
      },
      "text/plain": [
       "Epoch 16:   0%|          | 0/60 [00:00<?, ?batch/s]"
      ]
     },
     "metadata": {},
     "output_type": "display_data"
    },
    {
     "name": "stdout",
     "output_type": "stream",
     "text": [
      "Epoch 016\n",
      "TRAIN→ \"R\": RMSE=0.2561 MAE=0.1970 R2=0.2177 | \"B\": Acc=0.7276 Prec=0.6032 Rec=0.0330 F1=0.0625 AUROC=0.6130\n",
      "VALID→ \"R\": RMSE=0.2546 MAE=0.1821 R2=0.2131 | \"B\": Acc=0.7129 Prec=0.8608 Rec=0.0007 F1=0.0014 AUROC=0.7281\n"
     ]
    },
    {
     "data": {
      "application/vnd.jupyter.widget-view+json": {
       "model_id": "0026fe43607c4fd6875e1394c01bddfb",
       "version_major": 2,
       "version_minor": 0
      },
      "text/plain": [
       "Epoch 17:   0%|          | 0/60 [00:00<?, ?batch/s]"
      ]
     },
     "metadata": {},
     "output_type": "display_data"
    },
    {
     "name": "stdout",
     "output_type": "stream",
     "text": [
      "Epoch 017\n",
      "TRAIN→ \"R\": RMSE=0.2549 MAE=0.1947 R2=0.2249 | \"B\": Acc=0.7276 Prec=0.6010 Rec=0.0343 F1=0.0649 AUROC=0.6140\n",
      "VALID→ \"R\": RMSE=0.2549 MAE=0.1810 R2=0.2113 | \"B\": Acc=0.7129 Prec=0.8713 Rec=0.0009 F1=0.0018 AUROC=0.7280\n"
     ]
    },
    {
     "data": {
      "application/vnd.jupyter.widget-view+json": {
       "model_id": "249eece4caad41ea9eb7dd4dbe1582a4",
       "version_major": 2,
       "version_minor": 0
      },
      "text/plain": [
       "Epoch 18:   0%|          | 0/60 [00:00<?, ?batch/s]"
      ]
     },
     "metadata": {},
     "output_type": "display_data"
    },
    {
     "name": "stdout",
     "output_type": "stream",
     "text": [
      "Epoch 018\n",
      "TRAIN→ \"R\": RMSE=0.2551 MAE=0.1943 R2=0.2242 | \"B\": Acc=0.7278 Prec=0.6010 Rec=0.0361 F1=0.0681 AUROC=0.6122\n",
      "VALID→ \"R\": RMSE=0.2508 MAE=0.1849 R2=0.2362 | \"B\": Acc=0.7132 Prec=0.8656 Rec=0.0023 F1=0.0045 AUROC=0.7355\n"
     ]
    },
    {
     "data": {
      "application/vnd.jupyter.widget-view+json": {
       "model_id": "f29f5aac0bf14d6691597a491f3a8345",
       "version_major": 2,
       "version_minor": 0
      },
      "text/plain": [
       "Epoch 19:   0%|          | 0/60 [00:00<?, ?batch/s]"
      ]
     },
     "metadata": {},
     "output_type": "display_data"
    },
    {
     "name": "stdout",
     "output_type": "stream",
     "text": [
      "Epoch 019\n",
      "TRAIN→ \"R\": RMSE=0.2550 MAE=0.1948 R2=0.2248 | \"B\": Acc=0.7278 Prec=0.6044 Rec=0.0355 F1=0.0670 AUROC=0.6090\n",
      "VALID→ \"R\": RMSE=0.2514 MAE=0.1833 R2=0.2329 | \"B\": Acc=0.7129 Prec=0.8632 Rec=0.0008 F1=0.0017 AUROC=0.7341\n"
     ]
    },
    {
     "data": {
      "application/vnd.jupyter.widget-view+json": {
       "model_id": "97add554f51349e3985e2bead1928ff2",
       "version_major": 2,
       "version_minor": 0
      },
      "text/plain": [
       "Epoch 20:   0%|          | 0/60 [00:00<?, ?batch/s]"
      ]
     },
     "metadata": {},
     "output_type": "display_data"
    },
    {
     "name": "stdout",
     "output_type": "stream",
     "text": [
      "Epoch 020\n",
      "TRAIN→ \"R\": RMSE=0.2544 MAE=0.1943 R2=0.2283 | \"B\": Acc=0.7283 Prec=0.6132 Rec=0.0378 F1=0.0712 AUROC=0.6140\n",
      "VALID→ \"R\": RMSE=0.2507 MAE=0.1839 R2=0.2368 | \"B\": Acc=0.7132 Prec=0.8522 Rec=0.0020 F1=0.0040 AUROC=0.7359\n"
     ]
    },
    {
     "data": {
      "application/vnd.jupyter.widget-view+json": {
       "model_id": "d04004cd37534cc7acc8356cb495fbac",
       "version_major": 2,
       "version_minor": 0
      },
      "text/plain": [
       "Epoch 21:   0%|          | 0/60 [00:00<?, ?batch/s]"
      ]
     },
     "metadata": {},
     "output_type": "display_data"
    },
    {
     "name": "stdout",
     "output_type": "stream",
     "text": [
      "Epoch 021\n",
      "TRAIN→ \"R\": RMSE=0.2545 MAE=0.1945 R2=0.2273 | \"B\": Acc=0.7285 Prec=0.6201 Rec=0.0381 F1=0.0718 AUROC=0.6127\n",
      "VALID→ \"R\": RMSE=0.2511 MAE=0.1827 R2=0.2348 | \"B\": Acc=0.7134 Prec=0.8815 Rec=0.0030 F1=0.0059 AUROC=0.7329\n"
     ]
    },
    {
     "data": {
      "application/vnd.jupyter.widget-view+json": {
       "model_id": "e7ee5dcfe6544ab18e4745778435592b",
       "version_major": 2,
       "version_minor": 0
      },
      "text/plain": [
       "Epoch 22:   0%|          | 0/60 [00:00<?, ?batch/s]"
      ]
     },
     "metadata": {},
     "output_type": "display_data"
    },
    {
     "name": "stdout",
     "output_type": "stream",
     "text": [
      "Epoch 022\n",
      "TRAIN→ \"R\": RMSE=0.2542 MAE=0.1933 R2=0.2294 | \"B\": Acc=0.7286 Prec=0.6411 Rec=0.0345 F1=0.0654 AUROC=0.6105\n",
      "VALID→ \"R\": RMSE=0.2533 MAE=0.1808 R2=0.2214 | \"B\": Acc=0.7129 Prec=0.8320 Rec=0.0011 F1=0.0021 AUROC=0.7259\n"
     ]
    },
    {
     "data": {
      "application/vnd.jupyter.widget-view+json": {
       "model_id": "009a036440ff4a5abf37b23238c78d6b",
       "version_major": 2,
       "version_minor": 0
      },
      "text/plain": [
       "Epoch 23:   0%|          | 0/60 [00:00<?, ?batch/s]"
      ]
     },
     "metadata": {},
     "output_type": "display_data"
    },
    {
     "name": "stdout",
     "output_type": "stream",
     "text": [
      "Epoch 023\n",
      "TRAIN→ \"R\": RMSE=0.2541 MAE=0.1935 R2=0.2300 | \"B\": Acc=0.7287 Prec=0.6392 Rec=0.0355 F1=0.0672 AUROC=0.6114\n",
      "VALID→ \"R\": RMSE=0.2497 MAE=0.1847 R2=0.2433 | \"B\": Acc=0.7130 Prec=0.8424 Rec=0.0014 F1=0.0029 AUROC=0.7332\n",
      "🔖 Saved folder‐best checkpoint (_chp): AAPL_0.24966_chp.pth\n"
     ]
    },
    {
     "data": {
      "application/vnd.jupyter.widget-view+json": {
       "model_id": "518dad3b11814a2faf4f5077214c5d11",
       "version_major": 2,
       "version_minor": 0
      },
      "text/plain": [
       "Epoch 24:   0%|          | 0/60 [00:00<?, ?batch/s]"
      ]
     },
     "metadata": {},
     "output_type": "display_data"
    },
    {
     "name": "stdout",
     "output_type": "stream",
     "text": [
      "Epoch 024\n",
      "TRAIN→ \"R\": RMSE=0.2541 MAE=0.1951 R2=0.2297 | \"B\": Acc=0.7291 Prec=0.6355 Rec=0.0396 F1=0.0746 AUROC=0.6126\n",
      "VALID→ \"R\": RMSE=0.2572 MAE=0.1794 R2=0.1972 | \"B\": Acc=0.7135 Prec=0.8787 Rec=0.0031 F1=0.0061 AUROC=0.7170\n"
     ]
    },
    {
     "data": {
      "application/vnd.jupyter.widget-view+json": {
       "model_id": "7eb911367e554ac9865f3d20c0ec634d",
       "version_major": 2,
       "version_minor": 0
      },
      "text/plain": [
       "Epoch 25:   0%|          | 0/60 [00:00<?, ?batch/s]"
      ]
     },
     "metadata": {},
     "output_type": "display_data"
    },
    {
     "name": "stdout",
     "output_type": "stream",
     "text": [
      "Epoch 025\n",
      "TRAIN→ \"R\": RMSE=0.2540 MAE=0.1946 R2=0.2304 | \"B\": Acc=0.7296 Prec=0.6471 Rec=0.0413 F1=0.0776 AUROC=0.6139\n",
      "VALID→ \"R\": RMSE=0.2526 MAE=0.1805 R2=0.2256 | \"B\": Acc=0.7131 Prec=0.8763 Rec=0.0017 F1=0.0033 AUROC=0.7204\n"
     ]
    },
    {
     "data": {
      "application/vnd.jupyter.widget-view+json": {
       "model_id": "96a48dd3188244e482a9458879bff37f",
       "version_major": 2,
       "version_minor": 0
      },
      "text/plain": [
       "Epoch 26:   0%|          | 0/60 [00:00<?, ?batch/s]"
      ]
     },
     "metadata": {},
     "output_type": "display_data"
    },
    {
     "name": "stdout",
     "output_type": "stream",
     "text": [
      "Epoch 026\n",
      "TRAIN→ \"R\": RMSE=0.2538 MAE=0.1947 R2=0.2321 | \"B\": Acc=0.7294 Prec=0.6375 Rec=0.0416 F1=0.0782 AUROC=0.6145\n",
      "VALID→ \"R\": RMSE=0.2561 MAE=0.1793 R2=0.2038 | \"B\": Acc=0.7138 Prec=0.8822 Rec=0.0042 F1=0.0084 AUROC=0.7176\n"
     ]
    },
    {
     "data": {
      "application/vnd.jupyter.widget-view+json": {
       "model_id": "20cf775d94e240f3919ab0655c5d42df",
       "version_major": 2,
       "version_minor": 0
      },
      "text/plain": [
       "Epoch 27:   0%|          | 0/60 [00:00<?, ?batch/s]"
      ]
     },
     "metadata": {},
     "output_type": "display_data"
    },
    {
     "name": "stdout",
     "output_type": "stream",
     "text": [
      "Epoch 027\n",
      "TRAIN→ \"R\": RMSE=0.2535 MAE=0.1942 R2=0.2338 | \"B\": Acc=0.7297 Prec=0.6660 Rec=0.0379 F1=0.0717 AUROC=0.6133\n",
      "VALID→ \"R\": RMSE=0.2542 MAE=0.1796 R2=0.2155 | \"B\": Acc=0.7138 Prec=0.8905 Rec=0.0045 F1=0.0090 AUROC=0.7165\n"
     ]
    },
    {
     "data": {
      "application/vnd.jupyter.widget-view+json": {
       "model_id": "5a4206ee42a14b4791859e4e7f173deb",
       "version_major": 2,
       "version_minor": 0
      },
      "text/plain": [
       "Epoch 28:   0%|          | 0/60 [00:00<?, ?batch/s]"
      ]
     },
     "metadata": {},
     "output_type": "display_data"
    },
    {
     "name": "stdout",
     "output_type": "stream",
     "text": [
      "Epoch 028\n",
      "TRAIN→ \"R\": RMSE=0.2534 MAE=0.1943 R2=0.2346 | \"B\": Acc=0.7307 Prec=0.6635 Rec=0.0461 F1=0.0862 AUROC=0.6150\n",
      "VALID→ \"R\": RMSE=0.2560 MAE=0.1792 R2=0.2045 | \"B\": Acc=0.7150 Prec=0.9028 Rec=0.0090 F1=0.0178 AUROC=0.7136\n"
     ]
    },
    {
     "data": {
      "application/vnd.jupyter.widget-view+json": {
       "model_id": "b540f0c68b8041d384557b0d48ac20f1",
       "version_major": 2,
       "version_minor": 0
      },
      "text/plain": [
       "Epoch 29:   0%|          | 0/60 [00:00<?, ?batch/s]"
      ]
     },
     "metadata": {},
     "output_type": "display_data"
    },
    {
     "name": "stdout",
     "output_type": "stream",
     "text": [
      "Epoch 029\n",
      "TRAIN→ \"R\": RMSE=0.2531 MAE=0.1941 R2=0.2358 | \"B\": Acc=0.7315 Prec=0.6518 Rec=0.0552 F1=0.1017 AUROC=0.6190\n",
      "VALID→ \"R\": RMSE=0.2536 MAE=0.1796 R2=0.2193 | \"B\": Acc=0.7167 Prec=0.9031 Rec=0.0155 F1=0.0305 AUROC=0.7198\n",
      "Early stopping at epoch 29\n",
      "✅ Final best model (_fin) saved: AAPL_0.24966_fin.pth\n",
      "Delete variables to free memory...\n"
     ]
    },
    {
     "name": "stderr",
     "output_type": "stream",
     "text": [
      "[I 2025-09-17 12:50:39,296] Trial 1 finished with value: 0.24966204166412354 and parameters: {'look_back': 60, 'DROPOUT_SHORT': 0.07700009456215443, 'DROPOUT_LONG': 0.30246123604964786, 'ATT_DROPOUT': 0.2015086303834806, 'INITIAL_LR': 0.0002718174721671645, 'ETA_MIN': 1.6706829720983285e-06, 'WEIGHT_DECAY': 0.0034201355008973717, 'CLIPNORM': 9.461547240569047}. Best is trial 1 with value: 0.24966204166412354.\n"
     ]
    },
    {
     "name": "stdout",
     "output_type": "stream",
     "text": [
      "\n",
      "▶ Trial 2 starting with:\n",
      "{'look_back': 120, 'DROPOUT_SHORT': 0.3422906468038359, 'DROPOUT_LONG': 0.32958988536566536, 'ATT_DROPOUT': 0.07203196318724112, 'INITIAL_LR': 0.00016470426735111453, 'ETA_MIN': 1.265386143733995e-06, 'WEIGHT_DECAY': 0.0027811867644050195, 'CLIPNORM': 7.108102429294761}\n",
      "\n",
      "Build LSTM input tensors (disk-backed memmaps)...\n",
      "Inside build_tensors, features: ['rsi_14', 'minus_di_15', 'eng_adx', 'eng_atr_div', 'adx_14', 'sma_100', 'vol_spike_14', 'macd_line_12_26_9', 'sma_20']\n"
     ]
    },
    {
     "data": {
      "application/vnd.jupyter.widget-view+json": {
       "model_id": "397d18e9425a47f98e1288dcb4c180d3",
       "version_major": 2,
       "version_minor": 0
      },
      "text/plain": [
       "Counting windows:   0%|          | 0/5400 [00:00<?, ?it/s]"
      ]
     },
     "metadata": {},
     "output_type": "display_data"
    },
    {
     "data": {
      "application/vnd.jupyter.widget-view+json": {
       "model_id": "22885106ac9e46a88c5ef83406d11293",
       "version_major": 2,
       "version_minor": 0
      },
      "text/plain": [
       "Writing memmaps:   0%|          | 0/5400 [00:00<?, ?it/s]"
      ]
     },
     "metadata": {},
     "output_type": "display_data"
    },
    {
     "name": "stdout",
     "output_type": "stream",
     "text": [
      "Split into train/val/test by calendar day...\n",
      "Carve `end_times` into the same three splits...\n",
      "Build DataLoaders over calendar‐days...\n"
     ]
    },
    {
     "data": {
      "application/vnd.jupyter.widget-view+json": {
       "model_id": "51b4b363ee81436bae9c7f8fb3bd2deb",
       "version_major": 2,
       "version_minor": 0
      },
      "text/plain": [
       "Creating DayWindowDatasets:   0%|          | 0/3 [00:00<?, ?split/s]"
      ]
     },
     "metadata": {},
     "output_type": "display_data"
    },
    {
     "name": "stdout",
     "output_type": "stream",
     "text": [
      "Instantiate the stateful DualMemoryLSTM...\n",
      "Build optimizer, LR scheduler, AMP scaler, and gradient‐clip norm...\n",
      "Run the custom stateful training loop...\n"
     ]
    },
    {
     "data": {
      "image/png": "[encoded data removed]",
      "text/plain": [
       "<Figure size 660x440 with 1 Axes>"
      ]
     },
     "metadata": {},
     "output_type": "display_data"
    },
    {
     "data": {
      "application/vnd.jupyter.widget-view+json": {
       "model_id": "08cac19f8f934431ba45e8a195d93f31",
       "version_major": 2,
       "version_minor": 0
      },
      "text/plain": [
       "Epoch 1:   0%|          | 0/60 [00:01<?, ?batch/s]"
      ]
     },
     "metadata": {},
     "output_type": "display_data"
    },
    {
     "name": "stdout",
     "output_type": "stream",
     "text": [
      "Epoch 001\n",
      "TRAIN→ \"R\": RMSE=0.2936 MAE=0.2303 R2=-0.0303 | \"B\": Acc=0.4066 Prec=0.2692 Rec=0.7017 F1=0.3891 AUROC=0.5006\n",
      "VALID→ \"R\": RMSE=0.3109 MAE=0.2037 R2=-0.2053 | \"B\": Acc=0.2735 Prec=0.2735 Rec=1.0000 F1=0.4295 AUROC=0.6458\n"
     ]
    },
    {
     "data": {
      "application/vnd.jupyter.widget-view+json": {
       "model_id": "56cb4afeabd64a7fa945d35380c190b0",
       "version_major": 2,
       "version_minor": 0
      },
      "text/plain": [
       "Epoch 2:   0%|          | 0/60 [00:00<?, ?batch/s]"
      ]
     },
     "metadata": {},
     "output_type": "display_data"
    },
    {
     "name": "stdout",
     "output_type": "stream",
     "text": [
      "Epoch 002\n",
      "TRAIN→ \"R\": RMSE=0.2943 MAE=0.2353 R2=-0.0354 | \"B\": Acc=0.3769 Prec=0.2691 Rec=0.7656 F1=0.3983 AUROC=0.4995\n",
      "VALID→ \"R\": RMSE=0.3168 MAE=0.2054 R2=-0.2514 | \"B\": Acc=0.2735 Prec=0.2735 Rec=1.0000 F1=0.4295 AUROC=0.6664\n"
     ]
    },
    {
     "data": {
      "application/vnd.jupyter.widget-view+json": {
       "model_id": "36988141d0b84b2aaf73f3dd3c084961",
       "version_major": 2,
       "version_minor": 0
      },
      "text/plain": [
       "Epoch 3:   0%|          | 0/60 [00:00<?, ?batch/s]"
      ]
     },
     "metadata": {},
     "output_type": "display_data"
    },
    {
     "name": "stdout",
     "output_type": "stream",
     "text": [
      "Epoch 003\n",
      "TRAIN→ \"R\": RMSE=0.2938 MAE=0.2329 R2=-0.0315 | \"B\": Acc=0.3501 Prec=0.2707 Rec=0.8337 F1=0.4087 AUROC=0.5039\n",
      "VALID→ \"R\": RMSE=0.3155 MAE=0.2047 R2=-0.2408 | \"B\": Acc=0.2735 Prec=0.2735 Rec=1.0000 F1=0.4295 AUROC=0.6637\n"
     ]
    },
    {
     "data": {
      "application/vnd.jupyter.widget-view+json": {
       "model_id": "28bbf4be74a3461f995c67baa50028e1",
       "version_major": 2,
       "version_minor": 0
      },
      "text/plain": [
       "Epoch 4:   0%|          | 0/60 [00:00<?, ?batch/s]"
      ]
     },
     "metadata": {},
     "output_type": "display_data"
    },
    {
     "name": "stdout",
     "output_type": "stream",
     "text": [
      "Epoch 004\n",
      "TRAIN→ \"R\": RMSE=0.2911 MAE=0.2256 R2=-0.0126 | \"B\": Acc=0.3498 Prec=0.2708 Rec=0.8350 F1=0.4089 AUROC=0.5058\n",
      "VALID→ \"R\": RMSE=0.3120 MAE=0.2029 R2=-0.2141 | \"B\": Acc=0.2735 Prec=0.2735 Rec=1.0000 F1=0.4295 AUROC=0.6717\n"
     ]
    },
    {
     "data": {
      "application/vnd.jupyter.widget-view+json": {
       "model_id": "7026563f167f4207b8cc83b3e74f1b5d",
       "version_major": 2,
       "version_minor": 0
      },
      "text/plain": [
       "Epoch 5:   0%|          | 0/60 [00:00<?, ?batch/s]"
      ]
     },
     "metadata": {},
     "output_type": "display_data"
    },
    {
     "name": "stdout",
     "output_type": "stream",
     "text": [
      "Epoch 005\n",
      "TRAIN→ \"R\": RMSE=0.2897 MAE=0.2261 R2=-0.0031 | \"B\": Acc=0.3462 Prec=0.2715 Rec=0.8479 F1=0.4113 AUROC=0.5085\n",
      "VALID→ \"R\": RMSE=0.3098 MAE=0.2014 R2=-0.1967 | \"B\": Acc=0.2735 Prec=0.2735 Rec=1.0000 F1=0.4295 AUROC=0.6700\n"
     ]
    },
    {
     "data": {
      "application/vnd.jupyter.widget-view+json": {
       "model_id": "8b7e50771dd94eb7bbe141044a25ba5a",
       "version_major": 2,
       "version_minor": 0
      },
      "text/plain": [
       "Epoch 6:   0%|          | 0/60 [00:00<?, ?batch/s]"
      ]
     },
     "metadata": {},
     "output_type": "display_data"
    },
    {
     "name": "stdout",
     "output_type": "stream",
     "text": [
      "Epoch 006\n",
      "TRAIN→ \"R\": RMSE=0.2879 MAE=0.2248 R2=0.0092 | \"B\": Acc=0.3431 Prec=0.2729 Rec=0.8648 F1=0.4149 AUROC=0.5158\n",
      "VALID→ \"R\": RMSE=0.3079 MAE=0.1999 R2=-0.1824 | \"B\": Acc=0.2743 Prec=0.2737 Rec=1.0000 F1=0.4298 AUROC=0.6741\n"
     ]
    },
    {
     "data": {
      "application/vnd.jupyter.widget-view+json": {
       "model_id": "9d5b36ab119d43c3a45f74f6cb364133",
       "version_major": 2,
       "version_minor": 0
      },
      "text/plain": [
       "Epoch 7:   0%|          | 0/60 [00:00<?, ?batch/s]"
      ]
     },
     "metadata": {},
     "output_type": "display_data"
    },
    {
     "name": "stdout",
     "output_type": "stream",
     "text": [
      "Epoch 007\n",
      "TRAIN→ \"R\": RMSE=0.2870 MAE=0.2250 R2=0.0155 | \"B\": Acc=0.3597 Prec=0.2730 Rec=0.8282 F1=0.4107 AUROC=0.5137\n",
      "VALID→ \"R\": RMSE=0.3058 MAE=0.1986 R2=-0.1661 | \"B\": Acc=0.2746 Prec=0.2738 Rec=1.0000 F1=0.4298 AUROC=0.6751\n"
     ]
    },
    {
     "data": {
      "application/vnd.jupyter.widget-view+json": {
       "model_id": "e00f732d540341a6996cbebc8ad8666c",
       "version_major": 2,
       "version_minor": 0
      },
      "text/plain": [
       "Epoch 8:   0%|          | 0/60 [00:00<?, ?batch/s]"
      ]
     },
     "metadata": {},
     "output_type": "display_data"
    },
    {
     "name": "stdout",
     "output_type": "stream",
     "text": [
      "Epoch 008\n",
      "TRAIN→ \"R\": RMSE=0.2851 MAE=0.2228 R2=0.0288 | \"B\": Acc=0.3527 Prec=0.2757 Rec=0.8625 F1=0.4178 AUROC=0.5270\n",
      "VALID→ \"R\": RMSE=0.3039 MAE=0.1975 R2=-0.1514 | \"B\": Acc=0.2835 Prec=0.2757 Rec=0.9959 F1=0.4319 AUROC=0.6778\n"
     ]
    },
    {
     "data": {
      "application/vnd.jupyter.widget-view+json": {
       "model_id": "5896b21e1660469da6761a725b00cc8d",
       "version_major": 2,
       "version_minor": 0
      },
      "text/plain": [
       "Epoch 9:   0%|          | 0/60 [00:00<?, ?batch/s]"
      ]
     },
     "metadata": {},
     "output_type": "display_data"
    },
    {
     "name": "stdout",
     "output_type": "stream",
     "text": [
      "Epoch 009\n",
      "TRAIN→ \"R\": RMSE=0.2839 MAE=0.2216 R2=0.0370 | \"B\": Acc=0.3777 Prec=0.2762 Rec=0.8085 F1=0.4117 AUROC=0.5234\n",
      "VALID→ \"R\": RMSE=0.3021 MAE=0.1965 R2=-0.1376 | \"B\": Acc=0.2893 Prec=0.2771 Rec=0.9937 F1=0.4334 AUROC=0.6806\n"
     ]
    },
    {
     "data": {
      "application/vnd.jupyter.widget-view+json": {
       "model_id": "f3155ce6abd0404b911b66c5d97a5c11",
       "version_major": 2,
       "version_minor": 0
      },
      "text/plain": [
       "Epoch 10:   0%|          | 0/60 [00:00<?, ?batch/s]"
      ]
     },
     "metadata": {},
     "output_type": "display_data"
    },
    {
     "name": "stdout",
     "output_type": "stream",
     "text": [
      "Epoch 010\n",
      "TRAIN→ \"R\": RMSE=0.2827 MAE=0.2206 R2=0.0451 | \"B\": Acc=0.3609 Prec=0.2771 Rec=0.8530 F1=0.4183 AUROC=0.5310\n",
      "VALID→ \"R\": RMSE=0.3003 MAE=0.1956 R2=-0.1247 | \"B\": Acc=0.2941 Prec=0.2782 Rec=0.9919 F1=0.4345 AUROC=0.6829\n"
     ]
    },
    {
     "data": {
      "application/vnd.jupyter.widget-view+json": {
       "model_id": "789b3ae9adf5405f958ebfc4e1275bdc",
       "version_major": 2,
       "version_minor": 0
      },
      "text/plain": [
       "Epoch 11:   0%|          | 0/60 [00:00<?, ?batch/s]"
      ]
     },
     "metadata": {},
     "output_type": "display_data"
    },
    {
     "name": "stdout",
     "output_type": "stream",
     "text": [
      "Epoch 011\n",
      "TRAIN→ \"R\": RMSE=0.2810 MAE=0.2180 R2=0.0563 | \"B\": Acc=0.3849 Prec=0.2773 Rec=0.7996 F1=0.4118 AUROC=0.5267\n",
      "VALID→ \"R\": RMSE=0.2979 MAE=0.1944 R2=-0.1066 | \"B\": Acc=0.3002 Prec=0.2796 Rec=0.9889 F1=0.4359 AUROC=0.6858\n"
     ]
    },
    {
     "data": {
      "application/vnd.jupyter.widget-view+json": {
       "model_id": "2a67e6cd585c4ef083678300812977d2",
       "version_major": 2,
       "version_minor": 0
      },
      "text/plain": [
       "Epoch 12:   0%|          | 0/60 [00:00<?, ?batch/s]"
      ]
     },
     "metadata": {},
     "output_type": "display_data"
    },
    {
     "name": "stdout",
     "output_type": "stream",
     "text": [
      "Epoch 012\n",
      "TRAIN→ \"R\": RMSE=0.2801 MAE=0.2182 R2=0.0626 | \"B\": Acc=0.3734 Prec=0.2783 Rec=0.8328 F1=0.4172 AUROC=0.5343\n",
      "VALID→ \"R\": RMSE=0.2970 MAE=0.1937 R2=-0.0996 | \"B\": Acc=0.2936 Prec=0.2781 Rec=0.9924 F1=0.4345 AUROC=0.6877\n"
     ]
    },
    {
     "data": {
      "application/vnd.jupyter.widget-view+json": {
       "model_id": "6122dfc33c314447a795d14a4c6f2ac0",
       "version_major": 2,
       "version_minor": 0
      },
      "text/plain": [
       "Epoch 13:   0%|          | 0/60 [00:00<?, ?batch/s]"
      ]
     },
     "metadata": {},
     "output_type": "display_data"
    },
    {
     "name": "stdout",
     "output_type": "stream",
     "text": [
      "Epoch 013\n",
      "TRAIN→ \"R\": RMSE=0.2789 MAE=0.2166 R2=0.0704 | \"B\": Acc=0.3898 Prec=0.2785 Rec=0.7957 F1=0.4126 AUROC=0.5316\n",
      "VALID→ \"R\": RMSE=0.2942 MAE=0.1924 R2=-0.0796 | \"B\": Acc=0.3081 Prec=0.2815 Rec=0.9853 F1=0.4378 AUROC=0.6895\n"
     ]
    },
    {
     "data": {
      "application/vnd.jupyter.widget-view+json": {
       "model_id": "31f252b250814be386a58f4b8957bef2",
       "version_major": 2,
       "version_minor": 0
      },
      "text/plain": [
       "Epoch 14:   0%|          | 0/60 [00:00<?, ?batch/s]"
      ]
     },
     "metadata": {},
     "output_type": "display_data"
    },
    {
     "name": "stdout",
     "output_type": "stream",
     "text": [
      "Epoch 014\n",
      "TRAIN→ \"R\": RMSE=0.2778 MAE=0.2166 R2=0.0776 | \"B\": Acc=0.3853 Prec=0.2787 Rec=0.8074 F1=0.4144 AUROC=0.5321\n",
      "VALID→ \"R\": RMSE=0.2928 MAE=0.1914 R2=-0.0692 | \"B\": Acc=0.2856 Prec=0.2763 Rec=0.9960 F1=0.4326 AUROC=0.6907\n"
     ]
    },
    {
     "data": {
      "application/vnd.jupyter.widget-view+json": {
       "model_id": "0eff3cc1286f44e69036528ee48f26a5",
       "version_major": 2,
       "version_minor": 0
      },
      "text/plain": [
       "Epoch 15:   0%|          | 0/60 [00:00<?, ?batch/s]"
      ]
     },
     "metadata": {},
     "output_type": "display_data"
    },
    {
     "name": "stdout",
     "output_type": "stream",
     "text": [
      "Epoch 015\n",
      "TRAIN→ \"R\": RMSE=0.2768 MAE=0.2159 R2=0.0842 | \"B\": Acc=0.3943 Prec=0.2781 Rec=0.7823 F1=0.4103 AUROC=0.5281\n",
      "VALID→ \"R\": RMSE=0.2895 MAE=0.1898 R2=-0.0452 | \"B\": Acc=0.3010 Prec=0.2799 Rec=0.9897 F1=0.4364 AUROC=0.6932\n"
     ]
    },
    {
     "data": {
      "application/vnd.jupyter.widget-view+json": {
       "model_id": "fa9903878f314139bbcf09f42108dc99",
       "version_major": 2,
       "version_minor": 0
      },
      "text/plain": [
       "Epoch 16:   0%|          | 0/60 [00:00<?, ?batch/s]"
      ]
     },
     "metadata": {},
     "output_type": "display_data"
    },
    {
     "name": "stdout",
     "output_type": "stream",
     "text": [
      "Epoch 016\n",
      "TRAIN→ \"R\": RMSE=0.2746 MAE=0.2143 R2=0.0989 | \"B\": Acc=0.3957 Prec=0.2802 Rec=0.7927 F1=0.4141 AUROC=0.5353\n",
      "VALID→ \"R\": RMSE=0.2838 MAE=0.1872 R2=-0.0040 | \"B\": Acc=0.2841 Prec=0.2760 Rec=0.9968 F1=0.4323 AUROC=0.6980\n"
     ]
    },
    {
     "data": {
      "application/vnd.jupyter.widget-view+json": {
       "model_id": "40f126db35494fb5a94b072c686b747b",
       "version_major": 2,
       "version_minor": 0
      },
      "text/plain": [
       "Epoch 17:   0%|          | 0/60 [00:00<?, ?batch/s]"
      ]
     },
     "metadata": {},
     "output_type": "display_data"
    },
    {
     "name": "stdout",
     "output_type": "stream",
     "text": [
      "Epoch 017\n",
      "TRAIN→ \"R\": RMSE=0.2695 MAE=0.2088 R2=0.1319 | \"B\": Acc=0.4064 Prec=0.2791 Rec=0.7606 F1=0.4084 AUROC=0.5295\n",
      "VALID→ \"R\": RMSE=0.2688 MAE=0.1835 R2=0.0988 | \"B\": Acc=0.2846 Prec=0.2761 Rec=0.9968 F1=0.4325 AUROC=0.6995\n"
     ]
    },
    {
     "data": {
      "application/vnd.jupyter.widget-view+json": {
       "model_id": "95b04ae971ae4e5da8fe104102d96e5a",
       "version_major": 2,
       "version_minor": 0
      },
      "text/plain": [
       "Epoch 18:   0%|          | 0/60 [00:00<?, ?batch/s]"
      ]
     },
     "metadata": {},
     "output_type": "display_data"
    },
    {
     "name": "stderr",
     "output_type": "stream",
     "text": [
      "[W 2025-09-17 13:07:27,068] Trial 2 failed with parameters: {'look_back': 120, 'DROPOUT_SHORT': 0.3422906468038359, 'DROPOUT_LONG': 0.32958988536566536, 'ATT_DROPOUT': 0.07203196318724112, 'INITIAL_LR': 0.00016470426735111453, 'ETA_MIN': 1.265386143733995e-06, 'WEIGHT_DECAY': 0.0027811867644050195, 'CLIPNORM': 7.108102429294761} because of the following error: KeyboardInterrupt().\n",
      "Traceback (most recent call last):\n",
      "  File \"/usr/local/lib/python3.12/dist-packages/optuna/study/_optimize.py\", line 201, in _run_trial\n",
      "    value_or_values = func(trial)\n",
      "                      ^^^^^^^^^^^\n",
      "  File \"/tmp/ipykernel_163/2195990082.py\", line 105, in objective\n",
      "    best_val_rmse  = dual_lstm.lstm_training_loop(\n",
      "                     ^^^^^^^^^^^^^^^^^^^^^^^^^^^^^\n",
      "  File \"/workspace/my_models/Trading/_Stock_Analysis_/libs/models/dual_lstm.py\", line 332, in lstm_training_loop\n",
      "    train_rec .update(probs, cls_seq)\n",
      "  File \"/usr/local/lib/python3.12/dist-packages/torchmetrics/metric.py\", line 549, in wrapped_func\n",
      "    update(*args, **kwargs)\n",
      "  File \"/usr/local/lib/python3.12/dist-packages/torchmetrics/classification/stat_scores.py\", line 187, in update\n",
      "    _binary_stat_scores_tensor_validation(preds, target, self.multidim_average, self.ignore_index)\n",
      "  File \"/usr/local/lib/python3.12/dist-packages/torchmetrics/functional/classification/stat_scores.py\", line 83, in _binary_stat_scores_tensor_validation\n",
      "    if not preds.is_floating_point():\n",
      "           ^^^^^^^^^^^^^^^^^^^^^^^^^\n",
      "KeyboardInterrupt\n",
      "[W 2025-09-17 13:07:27,080] Trial 2 failed with value None.\n"
     ]
    },
    {
     "ename": "KeyboardInterrupt",
     "evalue": "",
     "output_type": "error",
     "traceback": [
      "\u001b[0;31m---------------------------------------------------------------------------\u001b[0m",
      "\u001b[0;31mKeyboardInterrupt\u001b[0m                         Traceback (most recent call last)",
      "Cell \u001b[0;32mIn[7], line 13\u001b[0m\n\u001b[1;32m      1\u001b[0m \u001b[38;5;66;03m# ──────────────────────────────────────────────────────────────────────────────\u001b[39;00m\n\u001b[1;32m      2\u001b[0m \u001b[38;5;66;03m#  Create Optuna study and run optimization\u001b[39;00m\n\u001b[1;32m      3\u001b[0m \u001b[38;5;66;03m# ──────────────────────────────────────────────────────────────────────────────\u001b[39;00m\n\u001b[1;32m      5\u001b[0m study \u001b[38;5;241m=\u001b[39m optuna\u001b[38;5;241m.\u001b[39mcreate_study(\n\u001b[1;32m      6\u001b[0m     storage\u001b[38;5;241m=\u001b[39m\u001b[38;5;124m\"\u001b[39m\u001b[38;5;124msqlite:///optuna_study.db\u001b[39m\u001b[38;5;124m\"\u001b[39m,    \u001b[38;5;66;03m# Point it at an SQLite file so it writes out each result immediately instead of buffering in RAM\u001b[39;00m\n\u001b[1;32m      7\u001b[0m     load_if_exists\u001b[38;5;241m=\u001b[39m\u001b[38;5;28;01mTrue\u001b[39;00m,\n\u001b[1;32m      8\u001b[0m     direction\u001b[38;5;241m=\u001b[39m\u001b[38;5;124m\"\u001b[39m\u001b[38;5;124mminimize\u001b[39m\u001b[38;5;124m\"\u001b[39m,\n\u001b[1;32m      9\u001b[0m     pruner\u001b[38;5;241m=\u001b[39mMedianPruner(n_startup_trials\u001b[38;5;241m=\u001b[39m\u001b[38;5;241m6\u001b[39m, n_warmup_steps\u001b[38;5;241m=\u001b[39m\u001b[38;5;241m12\u001b[39m),\n\u001b[1;32m     10\u001b[0m )\n\u001b[0;32m---> 13\u001b[0m \u001b[43mstudy\u001b[49m\u001b[38;5;241;43m.\u001b[39;49m\u001b[43moptimize\u001b[49m\u001b[43m(\u001b[49m\n\u001b[1;32m     14\u001b[0m \u001b[43m    \u001b[49m\u001b[43mobjective\u001b[49m\u001b[43m,\u001b[49m\n\u001b[1;32m     15\u001b[0m \u001b[43m    \u001b[49m\u001b[43mn_trials\u001b[49m\u001b[43m \u001b[49m\u001b[38;5;241;43m=\u001b[39;49m\u001b[43m \u001b[49m\u001b[38;5;241;43m100\u001b[39;49m\u001b[43m,\u001b[49m\n\u001b[1;32m     16\u001b[0m \u001b[43m    \u001b[49m\u001b[43mn_jobs\u001b[49m\u001b[43m   \u001b[49m\u001b[38;5;241;43m=\u001b[39;49m\u001b[43m \u001b[49m\u001b[38;5;241;43m1\u001b[39;49m\u001b[43m,\u001b[49m\n\u001b[1;32m     17\u001b[0m \u001b[43m    \u001b[49m\u001b[43mcallbacks\u001b[49m\u001b[38;5;241;43m=\u001b[39;49m\u001b[43m[\u001b[49m\u001b[43mlive_cb\u001b[49m\u001b[43m,\u001b[49m\u001b[43m \u001b[49m\u001b[43mplots\u001b[49m\u001b[38;5;241;43m.\u001b[39;49m\u001b[43mcleanup_callback\u001b[49m\u001b[43m]\u001b[49m\u001b[43m,\u001b[49m\n\u001b[1;32m     18\u001b[0m \u001b[43m)\u001b[49m\n\u001b[1;32m     20\u001b[0m plt\u001b[38;5;241m.\u001b[39mclose(\u001b[38;5;124m'\u001b[39m\u001b[38;5;124mall\u001b[39m\u001b[38;5;124m'\u001b[39m)   \u001b[38;5;66;03m# safe here; the final image remains displayed in the notebook output\u001b[39;00m\n\u001b[1;32m     21\u001b[0m gc\u001b[38;5;241m.\u001b[39mcollect()       \u001b[38;5;66;03m# optional extra sweep\u001b[39;00m\n",
      "File \u001b[0;32m/usr/local/lib/python3.12/dist-packages/optuna/study/study.py:489\u001b[0m, in \u001b[0;36mStudy.optimize\u001b[0;34m(self, func, n_trials, timeout, n_jobs, catch, callbacks, gc_after_trial, show_progress_bar)\u001b[0m\n\u001b[1;32m    387\u001b[0m \u001b[38;5;28;01mdef\u001b[39;00m\u001b[38;5;250m \u001b[39m\u001b[38;5;21moptimize\u001b[39m(\n\u001b[1;32m    388\u001b[0m     \u001b[38;5;28mself\u001b[39m,\n\u001b[1;32m    389\u001b[0m     func: ObjectiveFuncType,\n\u001b[0;32m   (...)\u001b[0m\n\u001b[1;32m    396\u001b[0m     show_progress_bar: \u001b[38;5;28mbool\u001b[39m \u001b[38;5;241m=\u001b[39m \u001b[38;5;28;01mFalse\u001b[39;00m,\n\u001b[1;32m    397\u001b[0m ) \u001b[38;5;241m-\u001b[39m\u001b[38;5;241m>\u001b[39m \u001b[38;5;28;01mNone\u001b[39;00m:\n\u001b[1;32m    398\u001b[0m \u001b[38;5;250m    \u001b[39m\u001b[38;5;124;03m\"\"\"Optimize an objective function.\u001b[39;00m\n\u001b[1;32m    399\u001b[0m \n\u001b[1;32m    400\u001b[0m \u001b[38;5;124;03m    Optimization is done by choosing a suitable set of hyperparameter values from a given\u001b[39;00m\n\u001b[0;32m   (...)\u001b[0m\n\u001b[1;32m    487\u001b[0m \u001b[38;5;124;03m            If nested invocation of this method occurs.\u001b[39;00m\n\u001b[1;32m    488\u001b[0m \u001b[38;5;124;03m    \"\"\"\u001b[39;00m\n\u001b[0;32m--> 489\u001b[0m     \u001b[43m_optimize\u001b[49m\u001b[43m(\u001b[49m\n\u001b[1;32m    490\u001b[0m \u001b[43m        \u001b[49m\u001b[43mstudy\u001b[49m\u001b[38;5;241;43m=\u001b[39;49m\u001b[38;5;28;43mself\u001b[39;49m\u001b[43m,\u001b[49m\n\u001b[1;32m    491\u001b[0m \u001b[43m        \u001b[49m\u001b[43mfunc\u001b[49m\u001b[38;5;241;43m=\u001b[39;49m\u001b[43mfunc\u001b[49m\u001b[43m,\u001b[49m\n\u001b[1;32m    492\u001b[0m \u001b[43m        \u001b[49m\u001b[43mn_trials\u001b[49m\u001b[38;5;241;43m=\u001b[39;49m\u001b[43mn_trials\u001b[49m\u001b[43m,\u001b[49m\n\u001b[1;32m    493\u001b[0m \u001b[43m        \u001b[49m\u001b[43mtimeout\u001b[49m\u001b[38;5;241;43m=\u001b[39;49m\u001b[43mtimeout\u001b[49m\u001b[43m,\u001b[49m\n\u001b[1;32m    494\u001b[0m \u001b[43m        \u001b[49m\u001b[43mn_jobs\u001b[49m\u001b[38;5;241;43m=\u001b[39;49m\u001b[43mn_jobs\u001b[49m\u001b[43m,\u001b[49m\n\u001b[1;32m    495\u001b[0m \u001b[43m        \u001b[49m\u001b[43mcatch\u001b[49m\u001b[38;5;241;43m=\u001b[39;49m\u001b[38;5;28;43mtuple\u001b[39;49m\u001b[43m(\u001b[49m\u001b[43mcatch\u001b[49m\u001b[43m)\u001b[49m\u001b[43m \u001b[49m\u001b[38;5;28;43;01mif\u001b[39;49;00m\u001b[43m \u001b[49m\u001b[38;5;28;43misinstance\u001b[39;49m\u001b[43m(\u001b[49m\u001b[43mcatch\u001b[49m\u001b[43m,\u001b[49m\u001b[43m \u001b[49m\u001b[43mIterable\u001b[49m\u001b[43m)\u001b[49m\u001b[43m \u001b[49m\u001b[38;5;28;43;01melse\u001b[39;49;00m\u001b[43m \u001b[49m\u001b[43m(\u001b[49m\u001b[43mcatch\u001b[49m\u001b[43m,\u001b[49m\u001b[43m)\u001b[49m\u001b[43m,\u001b[49m\n\u001b[1;32m    496\u001b[0m \u001b[43m        \u001b[49m\u001b[43mcallbacks\u001b[49m\u001b[38;5;241;43m=\u001b[39;49m\u001b[43mcallbacks\u001b[49m\u001b[43m,\u001b[49m\n\u001b[1;32m    497\u001b[0m \u001b[43m        \u001b[49m\u001b[43mgc_after_trial\u001b[49m\u001b[38;5;241;43m=\u001b[39;49m\u001b[43mgc_after_trial\u001b[49m\u001b[43m,\u001b[49m\n\u001b[1;32m    498\u001b[0m \u001b[43m        \u001b[49m\u001b[43mshow_progress_bar\u001b[49m\u001b[38;5;241;43m=\u001b[39;49m\u001b[43mshow_progress_bar\u001b[49m\u001b[43m,\u001b[49m\n\u001b[1;32m    499\u001b[0m \u001b[43m    \u001b[49m\u001b[43m)\u001b[49m\n",
      "File \u001b[0;32m/usr/local/lib/python3.12/dist-packages/optuna/study/_optimize.py:64\u001b[0m, in \u001b[0;36m_optimize\u001b[0;34m(study, func, n_trials, timeout, n_jobs, catch, callbacks, gc_after_trial, show_progress_bar)\u001b[0m\n\u001b[1;32m     62\u001b[0m \u001b[38;5;28;01mtry\u001b[39;00m:\n\u001b[1;32m     63\u001b[0m     \u001b[38;5;28;01mif\u001b[39;00m n_jobs \u001b[38;5;241m==\u001b[39m \u001b[38;5;241m1\u001b[39m:\n\u001b[0;32m---> 64\u001b[0m         \u001b[43m_optimize_sequential\u001b[49m\u001b[43m(\u001b[49m\n\u001b[1;32m     65\u001b[0m \u001b[43m            \u001b[49m\u001b[43mstudy\u001b[49m\u001b[43m,\u001b[49m\n\u001b[1;32m     66\u001b[0m \u001b[43m            \u001b[49m\u001b[43mfunc\u001b[49m\u001b[43m,\u001b[49m\n\u001b[1;32m     67\u001b[0m \u001b[43m            \u001b[49m\u001b[43mn_trials\u001b[49m\u001b[43m,\u001b[49m\n\u001b[1;32m     68\u001b[0m \u001b[43m            \u001b[49m\u001b[43mtimeout\u001b[49m\u001b[43m,\u001b[49m\n\u001b[1;32m     69\u001b[0m \u001b[43m            \u001b[49m\u001b[43mcatch\u001b[49m\u001b[43m,\u001b[49m\n\u001b[1;32m     70\u001b[0m \u001b[43m            \u001b[49m\u001b[43mcallbacks\u001b[49m\u001b[43m,\u001b[49m\n\u001b[1;32m     71\u001b[0m \u001b[43m            \u001b[49m\u001b[43mgc_after_trial\u001b[49m\u001b[43m,\u001b[49m\n\u001b[1;32m     72\u001b[0m \u001b[43m            \u001b[49m\u001b[43mreseed_sampler_rng\u001b[49m\u001b[38;5;241;43m=\u001b[39;49m\u001b[38;5;28;43;01mFalse\u001b[39;49;00m\u001b[43m,\u001b[49m\n\u001b[1;32m     73\u001b[0m \u001b[43m            \u001b[49m\u001b[43mtime_start\u001b[49m\u001b[38;5;241;43m=\u001b[39;49m\u001b[38;5;28;43;01mNone\u001b[39;49;00m\u001b[43m,\u001b[49m\n\u001b[1;32m     74\u001b[0m \u001b[43m            \u001b[49m\u001b[43mprogress_bar\u001b[49m\u001b[38;5;241;43m=\u001b[39;49m\u001b[43mprogress_bar\u001b[49m\u001b[43m,\u001b[49m\n\u001b[1;32m     75\u001b[0m \u001b[43m        \u001b[49m\u001b[43m)\u001b[49m\n\u001b[1;32m     76\u001b[0m     \u001b[38;5;28;01melse\u001b[39;00m:\n\u001b[1;32m     77\u001b[0m         \u001b[38;5;28;01mif\u001b[39;00m n_jobs \u001b[38;5;241m==\u001b[39m \u001b[38;5;241m-\u001b[39m\u001b[38;5;241m1\u001b[39m:\n",
      "File \u001b[0;32m/usr/local/lib/python3.12/dist-packages/optuna/study/_optimize.py:161\u001b[0m, in \u001b[0;36m_optimize_sequential\u001b[0;34m(study, func, n_trials, timeout, catch, callbacks, gc_after_trial, reseed_sampler_rng, time_start, progress_bar)\u001b[0m\n\u001b[1;32m    158\u001b[0m         \u001b[38;5;28;01mbreak\u001b[39;00m\n\u001b[1;32m    160\u001b[0m \u001b[38;5;28;01mtry\u001b[39;00m:\n\u001b[0;32m--> 161\u001b[0m     frozen_trial \u001b[38;5;241m=\u001b[39m \u001b[43m_run_trial\u001b[49m\u001b[43m(\u001b[49m\u001b[43mstudy\u001b[49m\u001b[43m,\u001b[49m\u001b[43m \u001b[49m\u001b[43mfunc\u001b[49m\u001b[43m,\u001b[49m\u001b[43m \u001b[49m\u001b[43mcatch\u001b[49m\u001b[43m)\u001b[49m\n\u001b[1;32m    162\u001b[0m \u001b[38;5;28;01mfinally\u001b[39;00m:\n\u001b[1;32m    163\u001b[0m     \u001b[38;5;66;03m# The following line mitigates memory problems that can be occurred in some\u001b[39;00m\n\u001b[1;32m    164\u001b[0m     \u001b[38;5;66;03m# environments (e.g., services that use computing containers such as GitHub Actions).\u001b[39;00m\n\u001b[1;32m    165\u001b[0m     \u001b[38;5;66;03m# Please refer to the following PR for further details:\u001b[39;00m\n\u001b[1;32m    166\u001b[0m     \u001b[38;5;66;03m# https://github.com/optuna/optuna/pull/325.\u001b[39;00m\n\u001b[1;32m    167\u001b[0m     \u001b[38;5;28;01mif\u001b[39;00m gc_after_trial:\n",
      "File \u001b[0;32m/usr/local/lib/python3.12/dist-packages/optuna/study/_optimize.py:253\u001b[0m, in \u001b[0;36m_run_trial\u001b[0;34m(study, func, catch)\u001b[0m\n\u001b[1;32m    246\u001b[0m         \u001b[38;5;28;01massert\u001b[39;00m \u001b[38;5;28;01mFalse\u001b[39;00m, \u001b[38;5;124m\"\u001b[39m\u001b[38;5;124mShould not reach.\u001b[39m\u001b[38;5;124m\"\u001b[39m\n\u001b[1;32m    248\u001b[0m \u001b[38;5;28;01mif\u001b[39;00m (\n\u001b[1;32m    249\u001b[0m     frozen_trial\u001b[38;5;241m.\u001b[39mstate \u001b[38;5;241m==\u001b[39m TrialState\u001b[38;5;241m.\u001b[39mFAIL\n\u001b[1;32m    250\u001b[0m     \u001b[38;5;129;01mand\u001b[39;00m func_err \u001b[38;5;129;01mis\u001b[39;00m \u001b[38;5;129;01mnot\u001b[39;00m \u001b[38;5;28;01mNone\u001b[39;00m\n\u001b[1;32m    251\u001b[0m     \u001b[38;5;129;01mand\u001b[39;00m \u001b[38;5;129;01mnot\u001b[39;00m \u001b[38;5;28misinstance\u001b[39m(func_err, catch)\n\u001b[1;32m    252\u001b[0m ):\n\u001b[0;32m--> 253\u001b[0m     \u001b[38;5;28;01mraise\u001b[39;00m func_err\n\u001b[1;32m    254\u001b[0m \u001b[38;5;28;01mreturn\u001b[39;00m frozen_trial\n",
      "File \u001b[0;32m/usr/local/lib/python3.12/dist-packages/optuna/study/_optimize.py:201\u001b[0m, in \u001b[0;36m_run_trial\u001b[0;34m(study, func, catch)\u001b[0m\n\u001b[1;32m    199\u001b[0m \u001b[38;5;28;01mwith\u001b[39;00m get_heartbeat_thread(trial\u001b[38;5;241m.\u001b[39m_trial_id, study\u001b[38;5;241m.\u001b[39m_storage):\n\u001b[1;32m    200\u001b[0m     \u001b[38;5;28;01mtry\u001b[39;00m:\n\u001b[0;32m--> 201\u001b[0m         value_or_values \u001b[38;5;241m=\u001b[39m \u001b[43mfunc\u001b[49m\u001b[43m(\u001b[49m\u001b[43mtrial\u001b[49m\u001b[43m)\u001b[49m\n\u001b[1;32m    202\u001b[0m     \u001b[38;5;28;01mexcept\u001b[39;00m exceptions\u001b[38;5;241m.\u001b[39mTrialPruned \u001b[38;5;28;01mas\u001b[39;00m e:\n\u001b[1;32m    203\u001b[0m         \u001b[38;5;66;03m# TODO(mamu): Handle multi-objective cases.\u001b[39;00m\n\u001b[1;32m    204\u001b[0m         state \u001b[38;5;241m=\u001b[39m TrialState\u001b[38;5;241m.\u001b[39mPRUNED\n",
      "Cell \u001b[0;32mIn[5], line 105\u001b[0m, in \u001b[0;36mobjective\u001b[0;34m(trial)\u001b[0m\n\u001b[1;32m     97\u001b[0m cosine_sched \u001b[38;5;241m=\u001b[39m CosineAnnealingWarmRestarts(\n\u001b[1;32m     98\u001b[0m     optimizer, \n\u001b[1;32m     99\u001b[0m     T_0\u001b[38;5;241m=\u001b[39mparams\u001b[38;5;241m.\u001b[39mhparams[\u001b[38;5;124m'\u001b[39m\u001b[38;5;124mT_0\u001b[39m\u001b[38;5;124m'\u001b[39m], \n\u001b[1;32m    100\u001b[0m     T_mult\u001b[38;5;241m=\u001b[39mparams\u001b[38;5;241m.\u001b[39mhparams[\u001b[38;5;124m'\u001b[39m\u001b[38;5;124mT_MULT\u001b[39m\u001b[38;5;124m'\u001b[39m], \n\u001b[1;32m    101\u001b[0m     eta_min\u001b[38;5;241m=\u001b[39mhp[\u001b[38;5;124m'\u001b[39m\u001b[38;5;124mETA_MIN\u001b[39m\u001b[38;5;124m'\u001b[39m]\n\u001b[1;32m    102\u001b[0m )\n\u001b[1;32m    104\u001b[0m \u001b[38;5;28mprint\u001b[39m(\u001b[38;5;124m'\u001b[39m\u001b[38;5;124mRun the custom stateful training loop...\u001b[39m\u001b[38;5;124m'\u001b[39m)\n\u001b[0;32m--> 105\u001b[0m best_val_rmse  \u001b[38;5;241m=\u001b[39m \u001b[43mdual_lstm\u001b[49m\u001b[38;5;241;43m.\u001b[39;49m\u001b[43mlstm_training_loop\u001b[49m\u001b[43m(\u001b[49m\n\u001b[1;32m    106\u001b[0m \u001b[43m    \u001b[49m\u001b[43mmodel\u001b[49m\u001b[43m               \u001b[49m\u001b[38;5;241;43m=\u001b[39;49m\u001b[43m \u001b[49m\u001b[43mmodel\u001b[49m\u001b[43m,\u001b[49m\n\u001b[1;32m    107\u001b[0m \u001b[43m    \u001b[49m\u001b[43moptimizer\u001b[49m\u001b[43m           \u001b[49m\u001b[38;5;241;43m=\u001b[39;49m\u001b[43m \u001b[49m\u001b[43moptimizer\u001b[49m\u001b[43m,\u001b[49m\n\u001b[1;32m    108\u001b[0m \u001b[43m    \u001b[49m\u001b[43mcosine_sched\u001b[49m\u001b[43m        \u001b[49m\u001b[38;5;241;43m=\u001b[39;49m\u001b[43m \u001b[49m\u001b[43mcosine_sched\u001b[49m\u001b[43m,\u001b[49m\n\u001b[1;32m    109\u001b[0m \u001b[43m    \u001b[49m\u001b[43mplateau_sched\u001b[49m\u001b[43m       \u001b[49m\u001b[38;5;241;43m=\u001b[39;49m\u001b[43m \u001b[49m\u001b[43mplateau_sched\u001b[49m\u001b[43m,\u001b[49m\n\u001b[1;32m    110\u001b[0m \u001b[43m    \u001b[49m\u001b[43mscaler\u001b[49m\u001b[43m              \u001b[49m\u001b[38;5;241;43m=\u001b[39;49m\u001b[43m \u001b[49m\u001b[43mscaler\u001b[49m\u001b[43m,\u001b[49m\n\u001b[1;32m    111\u001b[0m \u001b[43m    \u001b[49m\u001b[43mtrain_loader\u001b[49m\u001b[43m        \u001b[49m\u001b[38;5;241;43m=\u001b[39;49m\u001b[43m \u001b[49m\u001b[43mtrain_loader\u001b[49m\u001b[43m,\u001b[49m\n\u001b[1;32m    112\u001b[0m \u001b[43m    \u001b[49m\u001b[43mval_loader\u001b[49m\u001b[43m          \u001b[49m\u001b[38;5;241;43m=\u001b[39;49m\u001b[43m \u001b[49m\u001b[43mval_loader\u001b[49m\u001b[43m,\u001b[49m\n\u001b[1;32m    113\u001b[0m \u001b[43m    \u001b[49m\u001b[43mmax_epochs\u001b[49m\u001b[43m          \u001b[49m\u001b[38;5;241;43m=\u001b[39;49m\u001b[43m \u001b[49m\u001b[43mparams\u001b[49m\u001b[38;5;241;43m.\u001b[39;49m\u001b[43mhparams\u001b[49m\u001b[43m[\u001b[49m\u001b[38;5;124;43m'\u001b[39;49m\u001b[38;5;124;43mMAX_EPOCHS\u001b[39;49m\u001b[38;5;124;43m'\u001b[39;49m\u001b[43m]\u001b[49m\u001b[43m,\u001b[49m\n\u001b[1;32m    114\u001b[0m \u001b[43m    \u001b[49m\u001b[43mearly_stop_patience\u001b[49m\u001b[43m \u001b[49m\u001b[38;5;241;43m=\u001b[39;49m\u001b[43m \u001b[49m\u001b[43mparams\u001b[49m\u001b[38;5;241;43m.\u001b[39;49m\u001b[43mhparams\u001b[49m\u001b[43m[\u001b[49m\u001b[38;5;124;43m'\u001b[39;49m\u001b[38;5;124;43mEARLY_STOP_PATIENCE\u001b[39;49m\u001b[38;5;124;43m'\u001b[39;49m\u001b[43m]\u001b[49m\u001b[43m,\u001b[49m\n\u001b[1;32m    115\u001b[0m \u001b[43m    \u001b[49m\u001b[43mclipnorm\u001b[49m\u001b[43m            \u001b[49m\u001b[38;5;241;43m=\u001b[39;49m\u001b[43m \u001b[49m\u001b[43mhp\u001b[49m\u001b[43m[\u001b[49m\u001b[38;5;124;43m\"\u001b[39;49m\u001b[38;5;124;43mCLIPNORM\u001b[39;49m\u001b[38;5;124;43m\"\u001b[39;49m\u001b[43m]\u001b[49m\u001b[43m,\u001b[49m\n\u001b[1;32m    116\u001b[0m \u001b[43m    \u001b[49m\u001b[43mdevice\u001b[49m\u001b[43m              \u001b[49m\u001b[38;5;241;43m=\u001b[39;49m\u001b[43m \u001b[49m\u001b[43mparams\u001b[49m\u001b[38;5;241;43m.\u001b[39;49m\u001b[43mdevice\u001b[49m\n\u001b[1;32m    117\u001b[0m \u001b[43m\u001b[49m\u001b[43m)\u001b[49m\n\u001b[1;32m    119\u001b[0m \u001b[38;5;28mprint\u001b[39m(\u001b[38;5;124m'\u001b[39m\u001b[38;5;124mDelete variables to free memory...\u001b[39m\u001b[38;5;124m'\u001b[39m)\n\u001b[1;32m    120\u001b[0m \u001b[38;5;28;01mdel\u001b[39;00m model, optimizer, plateau_sched, cosine_sched, scaler\n",
      "File \u001b[0;32m/workspace/my_models/Trading/_Stock_Analysis_/libs/models/dual_lstm.py:332\u001b[0m, in \u001b[0;36mlstm_training_loop\u001b[0;34m(model, optimizer, cosine_sched, plateau_sched, scaler, train_loader, val_loader, max_epochs, early_stop_patience, clipnorm, device)\u001b[0m\n\u001b[1;32m    330\u001b[0m train_acc \u001b[38;5;241m.\u001b[39mupdate(probs, cls_seq)\n\u001b[1;32m    331\u001b[0m train_prec\u001b[38;5;241m.\u001b[39mupdate(probs, cls_seq)\n\u001b[0;32m--> 332\u001b[0m \u001b[43mtrain_rec\u001b[49m\u001b[43m \u001b[49m\u001b[38;5;241;43m.\u001b[39;49m\u001b[43mupdate\u001b[49m\u001b[43m(\u001b[49m\u001b[43mprobs\u001b[49m\u001b[43m,\u001b[49m\u001b[43m \u001b[49m\u001b[43mcls_seq\u001b[49m\u001b[43m)\u001b[49m\n\u001b[1;32m    333\u001b[0m train_f1  \u001b[38;5;241m.\u001b[39mupdate(probs, cls_seq)\n\u001b[1;32m    334\u001b[0m train_auc \u001b[38;5;241m.\u001b[39mupdate(probs, cls_seq)\n",
      "File \u001b[0;32m/usr/local/lib/python3.12/dist-packages/torchmetrics/metric.py:549\u001b[0m, in \u001b[0;36mMetric._wrap_update.<locals>.wrapped_func\u001b[0;34m(*args, **kwargs)\u001b[0m\n\u001b[1;32m    547\u001b[0m \u001b[38;5;28;01mwith\u001b[39;00m torch\u001b[38;5;241m.\u001b[39mset_grad_enabled(\u001b[38;5;28mself\u001b[39m\u001b[38;5;241m.\u001b[39m_enable_grad):\n\u001b[1;32m    548\u001b[0m     \u001b[38;5;28;01mtry\u001b[39;00m:\n\u001b[0;32m--> 549\u001b[0m         \u001b[43mupdate\u001b[49m\u001b[43m(\u001b[49m\u001b[38;5;241;43m*\u001b[39;49m\u001b[43margs\u001b[49m\u001b[43m,\u001b[49m\u001b[43m \u001b[49m\u001b[38;5;241;43m*\u001b[39;49m\u001b[38;5;241;43m*\u001b[39;49m\u001b[43mkwargs\u001b[49m\u001b[43m)\u001b[49m\n\u001b[1;32m    550\u001b[0m     \u001b[38;5;28;01mexcept\u001b[39;00m \u001b[38;5;167;01mRuntimeError\u001b[39;00m \u001b[38;5;28;01mas\u001b[39;00m err:\n\u001b[1;32m    551\u001b[0m         \u001b[38;5;28;01mif\u001b[39;00m \u001b[38;5;124m\"\u001b[39m\u001b[38;5;124mExpected all tensors to be on\u001b[39m\u001b[38;5;124m\"\u001b[39m \u001b[38;5;129;01min\u001b[39;00m \u001b[38;5;28mstr\u001b[39m(err):\n",
      "File \u001b[0;32m/usr/local/lib/python3.12/dist-packages/torchmetrics/classification/stat_scores.py:187\u001b[0m, in \u001b[0;36mBinaryStatScores.update\u001b[0;34m(self, preds, target)\u001b[0m\n\u001b[1;32m    185\u001b[0m \u001b[38;5;250m\u001b[39m\u001b[38;5;124;03m\"\"\"Update state with predictions and targets.\"\"\"\u001b[39;00m\n\u001b[1;32m    186\u001b[0m \u001b[38;5;28;01mif\u001b[39;00m \u001b[38;5;28mself\u001b[39m\u001b[38;5;241m.\u001b[39mvalidate_args:\n\u001b[0;32m--> 187\u001b[0m     \u001b[43m_binary_stat_scores_tensor_validation\u001b[49m\u001b[43m(\u001b[49m\u001b[43mpreds\u001b[49m\u001b[43m,\u001b[49m\u001b[43m \u001b[49m\u001b[43mtarget\u001b[49m\u001b[43m,\u001b[49m\u001b[43m \u001b[49m\u001b[38;5;28;43mself\u001b[39;49m\u001b[38;5;241;43m.\u001b[39;49m\u001b[43mmultidim_average\u001b[49m\u001b[43m,\u001b[49m\u001b[43m \u001b[49m\u001b[38;5;28;43mself\u001b[39;49m\u001b[38;5;241;43m.\u001b[39;49m\u001b[43mignore_index\u001b[49m\u001b[43m)\u001b[49m\n\u001b[1;32m    188\u001b[0m preds, target \u001b[38;5;241m=\u001b[39m _binary_stat_scores_format(preds, target, \u001b[38;5;28mself\u001b[39m\u001b[38;5;241m.\u001b[39mthreshold, \u001b[38;5;28mself\u001b[39m\u001b[38;5;241m.\u001b[39mignore_index)\n\u001b[1;32m    189\u001b[0m tp, fp, tn, fn \u001b[38;5;241m=\u001b[39m _binary_stat_scores_update(preds, target, \u001b[38;5;28mself\u001b[39m\u001b[38;5;241m.\u001b[39mmultidim_average)\n",
      "File \u001b[0;32m/usr/local/lib/python3.12/dist-packages/torchmetrics/functional/classification/stat_scores.py:83\u001b[0m, in \u001b[0;36m_binary_stat_scores_tensor_validation\u001b[0;34m(preds, target, multidim_average, ignore_index)\u001b[0m\n\u001b[1;32m     77\u001b[0m     \u001b[38;5;28;01mraise\u001b[39;00m \u001b[38;5;167;01mRuntimeError\u001b[39;00m(\n\u001b[1;32m     78\u001b[0m         \u001b[38;5;124mf\u001b[39m\u001b[38;5;124m\"\u001b[39m\u001b[38;5;124mDetected the following values in `target`: \u001b[39m\u001b[38;5;132;01m{\u001b[39;00munique_values\u001b[38;5;132;01m}\u001b[39;00m\u001b[38;5;124m but expected only\u001b[39m\u001b[38;5;124m\"\u001b[39m\n\u001b[1;32m     79\u001b[0m         \u001b[38;5;124mf\u001b[39m\u001b[38;5;124m\"\u001b[39m\u001b[38;5;124m the following values \u001b[39m\u001b[38;5;132;01m{\u001b[39;00m[\u001b[38;5;241m0\u001b[39m,\u001b[38;5;250m \u001b[39m\u001b[38;5;241m1\u001b[39m]\u001b[38;5;250m \u001b[39m\u001b[38;5;28;01mif\u001b[39;00m\u001b[38;5;250m \u001b[39mignore_index\u001b[38;5;250m \u001b[39m\u001b[38;5;129;01mis\u001b[39;00m\u001b[38;5;250m \u001b[39m\u001b[38;5;28;01mNone\u001b[39;00m\u001b[38;5;250m \u001b[39m\u001b[38;5;28;01melse\u001b[39;00m\u001b[38;5;250m \u001b[39m[ignore_index]\u001b[38;5;132;01m}\u001b[39;00m\u001b[38;5;124m.\u001b[39m\u001b[38;5;124m\"\u001b[39m\n\u001b[1;32m     80\u001b[0m     )\n\u001b[1;32m     82\u001b[0m \u001b[38;5;66;03m# If preds is label tensor, also check that it only contains [0,1] values\u001b[39;00m\n\u001b[0;32m---> 83\u001b[0m \u001b[38;5;28;01mif\u001b[39;00m \u001b[38;5;129;01mnot\u001b[39;00m \u001b[43mpreds\u001b[49m\u001b[38;5;241;43m.\u001b[39;49m\u001b[43mis_floating_point\u001b[49m\u001b[43m(\u001b[49m\u001b[43m)\u001b[49m:\n\u001b[1;32m     84\u001b[0m     unique_values \u001b[38;5;241m=\u001b[39m torch\u001b[38;5;241m.\u001b[39munique(preds, dim\u001b[38;5;241m=\u001b[39m\u001b[38;5;28;01mNone\u001b[39;00m)\n\u001b[1;32m     85\u001b[0m     \u001b[38;5;28;01mif\u001b[39;00m torch\u001b[38;5;241m.\u001b[39many((unique_values \u001b[38;5;241m!=\u001b[39m \u001b[38;5;241m0\u001b[39m) \u001b[38;5;241m&\u001b[39m (unique_values \u001b[38;5;241m!=\u001b[39m \u001b[38;5;241m1\u001b[39m)):\n",
      "\u001b[0;31mKeyboardInterrupt\u001b[0m: "
     ]
    }
   ],
   "source": [
    "# ──────────────────────────────────────────────────────────────────────────────\n",
    "#  Create Optuna study and run optimization\n",
    "# ──────────────────────────────────────────────────────────────────────────────\n",
    "\n",
    "study = optuna.create_study(\n",
    "    storage=\"sqlite:///optuna_study.db\",    # Point it at an SQLite file so it writes out each result immediately instead of buffering in RAM\n",
    "    load_if_exists=True,\n",
    "    direction=\"minimize\",\n",
    "    pruner=MedianPruner(n_startup_trials=6, n_warmup_steps=12),\n",
    ")\n",
    "\n",
    "        \n",
    "study.optimize(\n",
    "    objective,\n",
    "    n_trials = 100,\n",
    "    n_jobs   = 1,\n",
    "    callbacks=[live_cb, plots.cleanup_callback],\n",
    ")\n",
    "\n",
    "plt.close('all')   # safe here; the final image remains displayed in the notebook output\n",
    "gc.collect()       # optional extra sweep\n",
    "\n"
   ]
  },
  {
   "cell_type": "code",
   "execution_count": null,
   "id": "4312366c-7f12-4c10-9f34-0647d6be022e",
   "metadata": {},
   "outputs": [],
   "source": [
    "# ──────────────────────────────────────────────────────────────────────────────\n",
    "#  Print out the best hyperparameters & result\n",
    "# ──────────────────────────────────────────────────────────────────────────────\n",
    "print(\"Best hyperparameters:\", study.best_params)\n",
    "print(\"Best validation RMSE:\", study.best_value)\n",
    "\n",
    "# ──────────────────────────────────────────────────────────────────────────────\n",
    "#  Compute and print parameter importances\n",
    "# ──────────────────────────────────────────────────────────────────────────────\n",
    "imps = get_param_importances(study)\n",
    "print(\"\\nHyperparameter importances (higher ⇒ more impact on RMSE):\")\n",
    "for name, score in sorted(imps.items(), key=lambda x: x[1], reverse=True):\n",
    "    print(f\"  {name:20s} : {score:.3f}\")\n",
    "\n",
    "# ──────────────────────────────────────────────────────────────────────────────\n",
    "#  Dump study results to JSON\n",
    "# ──────────────────────────────────────────────────────────────────────────────\n",
    "# 1) Build your session‐only DataFrame once\n",
    "session_df = df.between_time(params.regular_start,\n",
    "                             params.regular_end)\n",
    "\n",
    "# 2) Derive the trading‐day boundaries\n",
    "first_day = session_df.index.normalize().min()\n",
    "last_day  = session_df.index.normalize().max()\n",
    "\n",
    "# 3) Format your file name\n",
    "start_date = first_day.strftime(\"%Y%m%d\")\n",
    "end_date   = last_day.strftime(\"%Y%m%d\")\n",
    "file_name  = f\"{params.ticker}_{start_date}-{end_date}_optuna_model_hpars.json\"\n",
    "file_path  = os.path.join(results_folder, file_name)\n",
    "\n",
    "\n",
    "# ------------------------------------------------------------------\n",
    "# Dump study results (including importances)\n",
    "# ------------------------------------------------------------------\n",
    "\n",
    "with open(file_path, \"w\") as f:\n",
    "    json.dump(\n",
    "        {\n",
    "            \"best_params\": study.best_params,\n",
    "            \"best_value\" : study.best_value,\n",
    "            \"importances\": imps,\n",
    "            \"trials\": [\n",
    "                {\"number\": t.number, \"value\": t.value, \"params\": t.params, \n",
    "                 \"state\": t.state.name}\n",
    "                for t in study.trials\n",
    "            ],\n",
    "        },\n",
    "        f,\n",
    "        indent=4,\n",
    "    )\n",
    "\n",
    "print(f\"\\nOptuna results (and importances) saved to: {file_path}\")\n"
   ]
  },
  {
   "cell_type": "code",
   "execution_count": null,
   "id": "9c97c435-e800-483e-b2ab-f9412ef6954e",
   "metadata": {},
   "outputs": [],
   "source": []
  },
  {
   "cell_type": "code",
   "execution_count": null,
   "id": "6865782e-fc07-4354-a5b9-2cdeed1ebad9",
   "metadata": {},
   "outputs": [],
   "source": []
  },
  {
   "cell_type": "code",
   "execution_count": null,
   "id": "cbaa9fb2-411b-4d9f-9a33-e6f6c59de7dd",
   "metadata": {},
   "outputs": [],
   "source": []
  }
 ],
 "metadata": {
  "kernelspec": {
   "display_name": "Python 3 (ipykernel)",
   "language": "python",
   "name": "python3"
  },
  "language_info": {
   "codemirror_mode": {
    "name": "ipython",
    "version": 3
   },
   "file_extension": ".py",
   "mimetype": "text/x-python",
   "name": "python",
   "nbconvert_exporter": "python",
   "pygments_lexer": "ipython3",
   "version": "3.12.3"
  }
 },
 "nbformat": 4,
 "nbformat_minor": 5
}
