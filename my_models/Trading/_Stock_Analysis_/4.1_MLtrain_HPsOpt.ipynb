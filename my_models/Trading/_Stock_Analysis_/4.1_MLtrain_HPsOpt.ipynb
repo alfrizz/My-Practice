{
 "cells": [
  {
   "cell_type": "code",
   "execution_count": 1,
   "id": "457f3994-6d3b-4a52-9d2e-35e0e29924f0",
   "metadata": {},
   "outputs": [
    {
     "data": {
      "text/plain": [
       "<module 'libs.feats' from '/workspace/my_models/Trading/_Stock_Analysis_/libs/feats.py'>"
      ]
     },
     "execution_count": 1,
     "metadata": {},
     "output_type": "execute_result"
    }
   ],
   "source": [
    "%matplotlib inline\n",
    "\n",
    "\n",
    "# 1) Wipe out your namespace\n",
    "%reset -f\n",
    "\n",
    "# 2) Clear Jupyter’s stored outputs (and inputs if you like)\n",
    "try:\n",
    "    Out.clear()\n",
    "except NameError:\n",
    "    pass\n",
    "\n",
    "try:\n",
    "    In.clear()\n",
    "except NameError:\n",
    "    pass\n",
    "\n",
    "# 3) Force Python GC\n",
    "import gc\n",
    "gc.collect()\n",
    "\n",
    "# 4) Free any GPU buffers\n",
    "import torch\n",
    "if torch.cuda.is_available():\n",
    "    torch.cuda.empty_cache()\n",
    "\n",
    "\n",
    "import importlib\n",
    "from libs import plots, params, models, feats\n",
    "importlib.reload(plots)\n",
    "importlib.reload(params)\n",
    "importlib.reload(models)\n",
    "importlib.reload(feats)"
   ]
  },
  {
   "cell_type": "code",
   "execution_count": 2,
   "id": "2366b422-dfac-4830-8f50-db7b522f2769",
   "metadata": {},
   "outputs": [],
   "source": [
    "# Turn off interactive plotting globally (we’ll manage our own display)\n",
    "import matplotlib\n",
    "matplotlib.use(\"Agg\")  # safe, headless-friendly\n",
    "import matplotlib.pyplot as plt\n",
    "plt.ioff()\n",
    "\n",
    "import os\n",
    "import json\n",
    "import numpy as np\n",
    "import pandas as pd\n",
    "import datetime as dt\n",
    "from pathlib import Path\n",
    "\n",
    "from torch import nn\n",
    "from torch.optim import AdamW\n",
    "from torch.optim.lr_scheduler import ReduceLROnPlateau, CosineAnnealingWarmRestarts\n",
    "from torch.cuda.amp import GradScaler, autocast\n",
    "\n",
    "import optuna\n",
    "from optuna.pruners import MedianPruner\n",
    "from optuna.exceptions import TrialPruned\n",
    "from optuna.importance import get_param_importances\n",
    "\n",
    "from tqdm.auto import tqdm\n"
   ]
  },
  {
   "cell_type": "code",
   "execution_count": 3,
   "id": "a9498b30-9abb-4123-87f1-0ed191478e49",
   "metadata": {},
   "outputs": [
    {
     "data": {
      "text/html": [
       "<div>\n",
       "<style scoped>\n",
       "    .dataframe tbody tr th:only-of-type {\n",
       "        vertical-align: middle;\n",
       "    }\n",
       "\n",
       "    .dataframe tbody tr th {\n",
       "        vertical-align: top;\n",
       "    }\n",
       "\n",
       "    .dataframe thead th {\n",
       "        text-align: right;\n",
       "    }\n",
       "</style>\n",
       "<table border=\"1\" class=\"dataframe\">\n",
       "  <thead>\n",
       "    <tr style=\"text-align: right;\">\n",
       "      <th></th>\n",
       "      <th>rsi_14</th>\n",
       "      <th>minus_di_15</th>\n",
       "      <th>eng_adx</th>\n",
       "      <th>eng_atr_div</th>\n",
       "      <th>adx_14</th>\n",
       "      <th>sma_100</th>\n",
       "      <th>vol_spike_14</th>\n",
       "      <th>macd_line_12_26_9</th>\n",
       "      <th>sma_20</th>\n",
       "      <th>bid</th>\n",
       "      <th>ask</th>\n",
       "      <th>signal</th>\n",
       "    </tr>\n",
       "  </thead>\n",
       "  <tbody>\n",
       "    <tr>\n",
       "      <th>2004-01-02 13:09:00</th>\n",
       "      <td>0.00000</td>\n",
       "      <td>0.000000</td>\n",
       "      <td>0.000000</td>\n",
       "      <td>0.000279</td>\n",
       "      <td>0.625459</td>\n",
       "      <td>0.00000</td>\n",
       "      <td>0.528843</td>\n",
       "      <td>0.00000</td>\n",
       "      <td>0.00000</td>\n",
       "      <td>0.763664</td>\n",
       "      <td>0.764807</td>\n",
       "      <td>0.021536</td>\n",
       "    </tr>\n",
       "    <tr>\n",
       "      <th>2004-01-02 13:10:00</th>\n",
       "      <td>0.00000</td>\n",
       "      <td>0.000000</td>\n",
       "      <td>0.000000</td>\n",
       "      <td>0.000310</td>\n",
       "      <td>0.625379</td>\n",
       "      <td>0.00000</td>\n",
       "      <td>0.528775</td>\n",
       "      <td>0.00000</td>\n",
       "      <td>0.00000</td>\n",
       "      <td>0.763647</td>\n",
       "      <td>0.764790</td>\n",
       "      <td>0.023284</td>\n",
       "    </tr>\n",
       "    <tr>\n",
       "      <th>2004-01-02 13:11:00</th>\n",
       "      <td>0.00000</td>\n",
       "      <td>0.000000</td>\n",
       "      <td>0.000000</td>\n",
       "      <td>0.000341</td>\n",
       "      <td>0.625318</td>\n",
       "      <td>0.00000</td>\n",
       "      <td>0.528707</td>\n",
       "      <td>0.00000</td>\n",
       "      <td>0.00000</td>\n",
       "      <td>0.763631</td>\n",
       "      <td>0.764773</td>\n",
       "      <td>0.025175</td>\n",
       "    </tr>\n",
       "    <tr>\n",
       "      <th>2004-01-02 13:12:00</th>\n",
       "      <td>0.00000</td>\n",
       "      <td>0.000000</td>\n",
       "      <td>0.000000</td>\n",
       "      <td>0.000341</td>\n",
       "      <td>0.625263</td>\n",
       "      <td>0.00000</td>\n",
       "      <td>0.528641</td>\n",
       "      <td>0.00000</td>\n",
       "      <td>0.00000</td>\n",
       "      <td>0.763614</td>\n",
       "      <td>0.764757</td>\n",
       "      <td>0.027222</td>\n",
       "    </tr>\n",
       "    <tr>\n",
       "      <th>2004-01-02 13:13:00</th>\n",
       "      <td>0.00000</td>\n",
       "      <td>0.000000</td>\n",
       "      <td>0.000000</td>\n",
       "      <td>0.000341</td>\n",
       "      <td>0.625227</td>\n",
       "      <td>0.00000</td>\n",
       "      <td>0.528573</td>\n",
       "      <td>0.00000</td>\n",
       "      <td>0.00000</td>\n",
       "      <td>0.763597</td>\n",
       "      <td>0.764740</td>\n",
       "      <td>0.029436</td>\n",
       "    </tr>\n",
       "    <tr>\n",
       "      <th>...</th>\n",
       "      <td>...</td>\n",
       "      <td>...</td>\n",
       "      <td>...</td>\n",
       "      <td>...</td>\n",
       "      <td>...</td>\n",
       "      <td>...</td>\n",
       "      <td>...</td>\n",
       "      <td>...</td>\n",
       "      <td>...</td>\n",
       "      <td>...</td>\n",
       "      <td>...</td>\n",
       "      <td>...</td>\n",
       "    </tr>\n",
       "    <tr>\n",
       "      <th>2025-06-18 20:56:00</th>\n",
       "      <td>0.67217</td>\n",
       "      <td>0.024691</td>\n",
       "      <td>0.023121</td>\n",
       "      <td>0.024910</td>\n",
       "      <td>0.635234</td>\n",
       "      <td>0.73661</td>\n",
       "      <td>0.541606</td>\n",
       "      <td>0.36312</td>\n",
       "      <td>0.66709</td>\n",
       "      <td>196.667400</td>\n",
       "      <td>196.962600</td>\n",
       "      <td>0.684908</td>\n",
       "    </tr>\n",
       "    <tr>\n",
       "      <th>2025-06-18 20:57:00</th>\n",
       "      <td>0.61669</td>\n",
       "      <td>0.024691</td>\n",
       "      <td>0.023121</td>\n",
       "      <td>0.025902</td>\n",
       "      <td>0.629672</td>\n",
       "      <td>0.58962</td>\n",
       "      <td>0.542649</td>\n",
       "      <td>0.34721</td>\n",
       "      <td>0.61512</td>\n",
       "      <td>196.527500</td>\n",
       "      <td>196.822500</td>\n",
       "      <td>0.612206</td>\n",
       "    </tr>\n",
       "    <tr>\n",
       "      <th>2025-06-18 20:58:00</th>\n",
       "      <td>0.61473</td>\n",
       "      <td>0.030864</td>\n",
       "      <td>0.023121</td>\n",
       "      <td>0.025499</td>\n",
       "      <td>0.628744</td>\n",
       "      <td>0.58091</td>\n",
       "      <td>0.545497</td>\n",
       "      <td>0.33627</td>\n",
       "      <td>0.61329</td>\n",
       "      <td>196.522500</td>\n",
       "      <td>196.817500</td>\n",
       "      <td>0.610468</td>\n",
       "    </tr>\n",
       "    <tr>\n",
       "      <th>2025-06-18 20:59:00</th>\n",
       "      <td>0.47540</td>\n",
       "      <td>0.030864</td>\n",
       "      <td>0.023121</td>\n",
       "      <td>0.031509</td>\n",
       "      <td>0.616953</td>\n",
       "      <td>0.17135</td>\n",
       "      <td>0.538547</td>\n",
       "      <td>0.29058</td>\n",
       "      <td>0.48143</td>\n",
       "      <td>196.092800</td>\n",
       "      <td>196.387200</td>\n",
       "      <td>0.477090</td>\n",
       "    </tr>\n",
       "    <tr>\n",
       "      <th>2025-06-18 21:00:00</th>\n",
       "      <td>0.55174</td>\n",
       "      <td>0.030864</td>\n",
       "      <td>0.023121</td>\n",
       "      <td>0.033399</td>\n",
       "      <td>0.628481</td>\n",
       "      <td>0.45709</td>\n",
       "      <td>0.540908</td>\n",
       "      <td>0.24973</td>\n",
       "      <td>0.55324</td>\n",
       "      <td>196.392600</td>\n",
       "      <td>196.687400</td>\n",
       "      <td>0.350968</td>\n",
       "    </tr>\n",
       "  </tbody>\n",
       "</table>\n",
       "<p>3591238 rows × 12 columns</p>\n",
       "</div>"
      ],
      "text/plain": [
       "                      rsi_14  minus_di_15   eng_adx  eng_atr_div    adx_14  \\\n",
       "2004-01-02 13:09:00  0.00000     0.000000  0.000000     0.000279  0.625459   \n",
       "2004-01-02 13:10:00  0.00000     0.000000  0.000000     0.000310  0.625379   \n",
       "2004-01-02 13:11:00  0.00000     0.000000  0.000000     0.000341  0.625318   \n",
       "2004-01-02 13:12:00  0.00000     0.000000  0.000000     0.000341  0.625263   \n",
       "2004-01-02 13:13:00  0.00000     0.000000  0.000000     0.000341  0.625227   \n",
       "...                      ...          ...       ...          ...       ...   \n",
       "2025-06-18 20:56:00  0.67217     0.024691  0.023121     0.024910  0.635234   \n",
       "2025-06-18 20:57:00  0.61669     0.024691  0.023121     0.025902  0.629672   \n",
       "2025-06-18 20:58:00  0.61473     0.030864  0.023121     0.025499  0.628744   \n",
       "2025-06-18 20:59:00  0.47540     0.030864  0.023121     0.031509  0.616953   \n",
       "2025-06-18 21:00:00  0.55174     0.030864  0.023121     0.033399  0.628481   \n",
       "\n",
       "                     sma_100  vol_spike_14  macd_line_12_26_9   sma_20  \\\n",
       "2004-01-02 13:09:00  0.00000      0.528843            0.00000  0.00000   \n",
       "2004-01-02 13:10:00  0.00000      0.528775            0.00000  0.00000   \n",
       "2004-01-02 13:11:00  0.00000      0.528707            0.00000  0.00000   \n",
       "2004-01-02 13:12:00  0.00000      0.528641            0.00000  0.00000   \n",
       "2004-01-02 13:13:00  0.00000      0.528573            0.00000  0.00000   \n",
       "...                      ...           ...                ...      ...   \n",
       "2025-06-18 20:56:00  0.73661      0.541606            0.36312  0.66709   \n",
       "2025-06-18 20:57:00  0.58962      0.542649            0.34721  0.61512   \n",
       "2025-06-18 20:58:00  0.58091      0.545497            0.33627  0.61329   \n",
       "2025-06-18 20:59:00  0.17135      0.538547            0.29058  0.48143   \n",
       "2025-06-18 21:00:00  0.45709      0.540908            0.24973  0.55324   \n",
       "\n",
       "                            bid         ask    signal  \n",
       "2004-01-02 13:09:00    0.763664    0.764807  0.021536  \n",
       "2004-01-02 13:10:00    0.763647    0.764790  0.023284  \n",
       "2004-01-02 13:11:00    0.763631    0.764773  0.025175  \n",
       "2004-01-02 13:12:00    0.763614    0.764757  0.027222  \n",
       "2004-01-02 13:13:00    0.763597    0.764740  0.029436  \n",
       "...                         ...         ...       ...  \n",
       "2025-06-18 20:56:00  196.667400  196.962600  0.684908  \n",
       "2025-06-18 20:57:00  196.527500  196.822500  0.612206  \n",
       "2025-06-18 20:58:00  196.522500  196.817500  0.610468  \n",
       "2025-06-18 20:59:00  196.092800  196.387200  0.477090  \n",
       "2025-06-18 21:00:00  196.392600  196.687400  0.350968  \n",
       "\n",
       "[3591238 rows x 12 columns]"
      ]
     },
     "execution_count": 3,
     "metadata": {},
     "output_type": "execute_result"
    }
   ],
   "source": [
    "df_feat_sel = pd.read_csv(params.feat_all_csv, index_col=0, parse_dates=True)[params.features_cols_tick + ['bid','ask'] + [params.label_col]]\n",
    "    \n",
    "df_feat_sel"
   ]
  },
  {
   "cell_type": "code",
   "execution_count": 4,
   "id": "d9a2e58b-3140-4a76-9473-1fab56c18d8f",
   "metadata": {},
   "outputs": [
    {
     "data": {
      "text/plain": [
       "[30, 60, 90, 120]"
      ]
     },
     "execution_count": 4,
     "metadata": {},
     "output_type": "execute_result"
    }
   ],
   "source": [
    "# calculate look_backs under half the interval between the day’s first and sess_start\n",
    "\n",
    "first_time = (\n",
    "    df_feat_sel.index\n",
    "        .to_series()\n",
    "        .groupby(df_feat_sel.index.normalize())\n",
    "        .min()\n",
    "        .dt.time\n",
    "        .mode()[0]\n",
    ")\n",
    "\n",
    "# convert both times to minutes since midnight\n",
    "fm = first_time.hour * 60 + first_time.minute\n",
    "sm = params.sess_start.hour * 60 + params.sess_start.minute\n",
    "\n",
    "# half the difference, count full 30-min slots, and build multiples\n",
    "n_steps    = int(((sm - fm) / 2) // 30)      # e.g. floor(165/30) = 5\n",
    "look_backs = [30 * i for i in range(1, n_steps + 1)]\n",
    "look_backs\n"
   ]
  },
  {
   "cell_type": "code",
   "execution_count": 5,
   "id": "fdb4612b-f5bb-4e4a-8784-6d5689de67c2",
   "metadata": {},
   "outputs": [],
   "source": [
    "# ──────────────────────────────────────────────────────────────────────────────\n",
    "# Optuna objective definition\n",
    "# ──────────────────────────────────────────────────────────────────────────────\n",
    "\n",
    "# look_backs = [30, 45, 60, 75, 90] ################################\n",
    "\n",
    "def objective(trial):\n",
    "    \n",
    "    hp = {\n",
    "    # ── Architecture ────────────────────────────────────────────────\n",
    "    \"look_back\"    : trial.suggest_categorical(\"look_back\", look_backs),\n",
    "    \"DROPOUT_SHORT\": trial.suggest_float(\"DROPOUT_SHORT\", 0.05, 0.35),\n",
    "    \"DROPOUT_LONG\":  trial.suggest_float(\"DROPOUT_LONG\",  0.05, 0.35),\n",
    "    \"ATT_DROPOUT\":   trial.suggest_float(\"ATT_DROPOUT\",   0.05, 0.35),\n",
    "    \n",
    "    # ── Optimizer & Scheduler ──────────────────────────────────────\n",
    "    \"INITIAL_LR\":    trial.suggest_float(\"INITIAL_LR\",    1e-5, 1e-3,   log=True),\n",
    "    \"ETA_MIN\":       trial.suggest_float(\"ETA_MIN\",       1e-6, 1e-5,   log=True),\n",
    "    \"WEIGHT_DECAY\":  trial.suggest_float(\"WEIGHT_DECAY\",  1e-5, 1e-2,  log=True),\n",
    "    \"CLIPNORM\":      trial.suggest_float(\"CLIPNORM\",      0.1, 10),\n",
    "    }\n",
    "\n",
    "    print(f\"\\n▶ Trial {trial.number} starting with:\\n{hp}\\n\")\n",
    "\n",
    "    sess_start_pred = dt.time(*divmod((params.sess_start.hour * 60 + params.sess_start.minute) - hp[\"look_back\"], 60))\n",
    "    \n",
    "    print('Build LSTM input tensors (disk-backed memmaps)...')\n",
    "    X, y_sig, y_ret, raw_close, raw_bid, raw_ask, end_times = models.build_lstm_tensors(\n",
    "        df            = df_feat_sel,\n",
    "        sess_start    = sess_start_pred \n",
    "    )\n",
    "    \n",
    "    print('Split into train/val/test by calendar day...')\n",
    "    (\n",
    "    (X_tr,  y_sig_tr,  y_ret_tr),\n",
    "    (X_val, y_sig_val, y_ret_val),\n",
    "    (X_te,  y_sig_te,  y_ret_te,  raw_close_te, raw_bid_te, raw_ask_te),\n",
    "    samples_per_day,\n",
    "    day_id_tr, day_id_val, day_id_te\n",
    "    ) = models.chronological_split(\n",
    "        X, y_sig, y_ret,\n",
    "        raw_close, raw_bid, raw_ask,\n",
    "        end_times   = end_times,\n",
    "        train_prop  = params.train_prop,\n",
    "        val_prop    = params.val_prop,\n",
    "        train_batch = params.hparams['TRAIN_BATCH']\n",
    "    )\n",
    "\n",
    "    print('Carve `end_times` into the same three splits...')\n",
    "    n_tr  = day_id_tr .shape[0] \n",
    "    n_val = day_id_val.shape[0]\n",
    "    i_tr  = n_tr\n",
    "    i_val = n_tr + n_val\n",
    "    \n",
    "    end_times_tr  = end_times[:i_tr]\n",
    "    end_times_val = end_times[i_tr:i_val]\n",
    "    end_times_te  = end_times[i_val:]\n",
    "    \n",
    "    print('Build DataLoaders over calendar‐days...')\n",
    "    train_loader, val_loader, test_loader = models.split_to_day_datasets(\n",
    "        # train split:   \n",
    "        X_tr,            y_sig_tr,     y_ret_tr,   end_times_tr,\n",
    "        # val split:\n",
    "        X_val,           y_sig_val,    y_ret_val,  end_times_val,\n",
    "        # test split + raw‐prices\n",
    "        X_te,            y_sig_te,     y_ret_te,   end_times_te,\n",
    "        raw_close_te, raw_bid_te, raw_ask_te,\n",
    "        \n",
    "        sess_start_time       = sess_start_pred,\n",
    "        signal_thresh         = params.best_optuna_params[\"buy_threshold\"],\n",
    "        return_thresh         = 0.01,  # flat‐zone threshold for returns (to tune)\n",
    "        train_batch           = params.hparams[\"TRAIN_BATCH\"],\n",
    "        train_workers         = params.hparams[\"NUM_WORKERS\"],\n",
    "        train_prefetch_factor = params.hparams[\"TRAIN_PREFETCH_FACTOR\"]\n",
    "    )\n",
    "\n",
    "    print('Instantiate the stateful DualMemoryLSTM...')\n",
    "    model = models.DualMemoryLSTM(\n",
    "        n_feats        = X.shape[-1],                          \n",
    "        short_units    = params.hparams['SHORT_UNITS'],    \n",
    "        long_units     = params.hparams['LONG_UNITS'],     \n",
    "        dropout_short  = hp[\"DROPOUT_SHORT\"],  \n",
    "        dropout_long   = hp[\"DROPOUT_LONG\"],   \n",
    "        att_heads      = params.hparams['ATT_HEADS'],\n",
    "        att_drop       = hp['ATT_DROPOUT']\n",
    "    )\n",
    "    model.to(params.device)  \n",
    "\n",
    "    print('Build optimizer, LR scheduler, AMP scaler, and gradient‐clip norm...')\n",
    "    optimizer, plateau_sched, _ , scaler, clipnorm = \\\n",
    "        models.make_optimizer_and_scheduler(\n",
    "            model            = model,\n",
    "            initial_lr       = hp[\"INITIAL_LR\"],\n",
    "            weight_decay     = hp[\"WEIGHT_DECAY\"],\n",
    "            clipnorm         = hp[\"CLIPNORM\"]\n",
    "        )\n",
    "    cosine_sched = CosineAnnealingWarmRestarts(\n",
    "        optimizer, \n",
    "        T_0=params.hparams['T_0'], \n",
    "        T_mult=params.hparams['T_MULT'], \n",
    "        eta_min=hp['ETA_MIN']\n",
    "    )\n",
    "    \n",
    "    print('Run the custom stateful training loop...')\n",
    "    best_val_rmse  = models.custom_stateful_training_loop(\n",
    "        model               = model,\n",
    "        optimizer           = optimizer,\n",
    "        cosine_sched        = cosine_sched,\n",
    "        plateau_sched       = plateau_sched,\n",
    "        scaler              = scaler,\n",
    "        train_loader        = train_loader,\n",
    "        val_loader          = val_loader,\n",
    "        max_epochs          = params.hparams['MAX_EPOCHS'],\n",
    "        early_stop_patience = params.hparams['EARLY_STOP_PATIENCE'],\n",
    "        clipnorm            = hp[\"CLIPNORM\"],\n",
    "        device              = params.device\n",
    "    )\n",
    "\n",
    "    print('Delete variables to free memory...')\n",
    "    del model, optimizer, plateau_sched, cosine_sched, scaler\n",
    "    del X, y_sig, y_ret, raw_close, raw_bid, raw_ask\n",
    "    del X_tr,  y_sig_tr,  y_ret_tr, X_val, y_sig_val, y_ret_val, X_te,  y_sig_te,  y_ret_te\n",
    "    del raw_close_te, raw_bid_te, raw_ask_te\n",
    "    del train_loader, val_loader, test_loader\n",
    "\n",
    "    gc.collect()\n",
    "    if torch.cuda.is_available():\n",
    "        torch.cuda.empty_cache()\n",
    "    \n",
    "    return best_val_rmse\n"
   ]
  },
  {
   "cell_type": "code",
   "execution_count": 6,
   "id": "1ce185de-1d62-49f9-9a96-00385e813521",
   "metadata": {},
   "outputs": [
    {
     "data": {
      "image/png": "[encoded data removed]",
      "text/plain": [
       "<Figure size 700x300 with 1 Axes>"
      ]
     },
     "metadata": {},
     "output_type": "display_data"
    }
   ],
   "source": [
    "# build blank figure & line\n",
    "fig, ax = plt.subplots(figsize=(7,3))\n",
    "line, = ax.plot([], [], \"bo-\")\n",
    "ax.set(xlabel=\"Trial #\", ylabel=\"Objective\",\n",
    "       title=\"Optuna optimization progress\")\n",
    "ax.grid(True)\n",
    "\n",
    "# display once and grab the handle\n",
    "handle = display(fig, display_id=True)\n",
    "plt.close(fig)\n",
    "\n",
    "# ask plots.py for a callback bound to these objects\n",
    "live_cb = plots.make_live_plot_callback(fig, ax, line, handle)"
   ]
  },
  {
   "cell_type": "code",
   "execution_count": null,
   "id": "7658050b-a604-4331-ac64-72b2c7fd3689",
   "metadata": {},
   "outputs": [
    {
     "name": "stderr",
     "output_type": "stream",
     "text": [
      "[I 2025-09-13 23:13:58,497] A new study created in RDB with name: no-name-6eb516c2-717f-4b3d-ab2c-e26d332c6602\n"
     ]
    },
    {
     "name": "stdout",
     "output_type": "stream",
     "text": [
      "\n",
      "▶ Trial 0 starting with:\n",
      "{'look_back': 30, 'DROPOUT_SHORT': 0.16443797328765586, 'DROPOUT_LONG': 0.28669890223170574, 'ATT_DROPOUT': 0.14969892363165863, 'INITIAL_LR': 3.397632783120249e-05, 'ETA_MIN': 1.6921662099700969e-06, 'WEIGHT_DECAY': 0.00038462709802545, 'CLIPNORM': 5.069274031098703}\n",
      "\n",
      "Build LSTM input tensors (disk-backed memmaps)...\n",
      "Inside build_lstm_tensors, using: ['rsi_14', 'minus_di_15', 'eng_adx', 'eng_atr_div', 'adx_14', 'sma_100', 'vol_spike_14', 'macd_line_12_26_9', 'sma_20']\n"
     ]
    },
    {
     "data": {
      "application/vnd.jupyter.widget-view+json": {
       "model_id": "f67cb0c94b8f4f7ab07bccb52bb82e6e",
       "version_major": 2,
       "version_minor": 0
      },
      "text/plain": [
       "Counting windows:   0%|          | 0/5400 [00:00<?, ?it/s]"
      ]
     },
     "metadata": {},
     "output_type": "display_data"
    },
    {
     "data": {
      "application/vnd.jupyter.widget-view+json": {
       "model_id": "b20869a8564348f5a61f2262fae79933",
       "version_major": 2,
       "version_minor": 0
      },
      "text/plain": [
       "Writing memmaps:   0%|          | 0/5400 [00:00<?, ?it/s]"
      ]
     },
     "metadata": {},
     "output_type": "display_data"
    },
    {
     "name": "stdout",
     "output_type": "stream",
     "text": [
      "Split into train/val/test by calendar day...\n",
      "Carve `end_times` into the same three splits...\n",
      "Build DataLoaders over calendar‐days...\n"
     ]
    },
    {
     "data": {
      "application/vnd.jupyter.widget-view+json": {
       "model_id": "2f96af0f977e4f4494d3c2ccc6927cb1",
       "version_major": 2,
       "version_minor": 0
      },
      "text/plain": [
       "Creating DayWindowDatasets:   0%|          | 0/3 [00:00<?, ?split/s]"
      ]
     },
     "metadata": {},
     "output_type": "display_data"
    },
    {
     "name": "stdout",
     "output_type": "stream",
     "text": [
      "Instantiate the stateful DualMemoryLSTM...\n",
      "Build optimizer, LR scheduler, AMP scaler, and gradient‐clip norm...\n",
      "Run the custom stateful training loop...\n"
     ]
    },
    {
     "data": {
      "image/png": "[encoded data removed]",
      "text/plain": [
       "<Figure size 660x440 with 1 Axes>"
      ]
     },
     "metadata": {},
     "output_type": "display_data"
    },
    {
     "data": {
      "application/vnd.jupyter.widget-view+json": {
       "model_id": "2b75ede9b606446ab90b6cb02b7e3aea",
       "version_major": 2,
       "version_minor": 0
      },
      "text/plain": [
       "Epoch 1:   0%|          | 0/60 [00:00<?, ?batch/s]"
      ]
     },
     "metadata": {},
     "output_type": "display_data"
    },
    {
     "name": "stdout",
     "output_type": "stream",
     "text": [
      "Epoch 001\n",
      "TRAIN→ \"R\": RMSE=0.3056 MAE=0.2462 R2=-0.0969 | \"B\": Acc=0.3926 Prec=0.2796 Rec=0.7336 F1=0.4049 AUROC=0.4938\n",
      "VALID→ \"R\": RMSE=0.3239 MAE=0.2140 R2=-0.2560 | \"B\": Acc=0.2951 Prec=0.2951 Rec=1.0000 F1=0.4557 AUROC=0.5977\n"
     ]
    },
    {
     "data": {
      "application/vnd.jupyter.widget-view+json": {
       "model_id": "a09e85760fa0419db9b65f2b4b562c56",
       "version_major": 2,
       "version_minor": 0
      },
      "text/plain": [
       "Epoch 2:   0%|          | 0/60 [00:00<?, ?batch/s]"
      ]
     },
     "metadata": {},
     "output_type": "display_data"
    },
    {
     "name": "stdout",
     "output_type": "stream",
     "text": [
      "Epoch 002\n",
      "TRAIN→ \"R\": RMSE=0.2966 MAE=0.2267 R2=-0.0333 | \"B\": Acc=0.3736 Prec=0.2821 Rec=0.7924 F1=0.4161 AUROC=0.5016\n",
      "VALID→ \"R\": RMSE=0.3185 MAE=0.2108 R2=-0.2147 | \"B\": Acc=0.2951 Prec=0.2951 Rec=1.0000 F1=0.4557 AUROC=0.5728\n"
     ]
    },
    {
     "data": {
      "application/vnd.jupyter.widget-view+json": {
       "model_id": "1ad7344ba07e451f85d7e9a5ba2a9d5b",
       "version_major": 2,
       "version_minor": 0
      },
      "text/plain": [
       "Epoch 3:   0%|          | 0/60 [00:00<?, ?batch/s]"
      ]
     },
     "metadata": {},
     "output_type": "display_data"
    },
    {
     "name": "stdout",
     "output_type": "stream",
     "text": [
      "Epoch 003\n",
      "TRAIN→ \"R\": RMSE=0.2938 MAE=0.2240 R2=-0.0137 | \"B\": Acc=0.3670 Prec=0.2820 Rec=0.8067 F1=0.4179 AUROC=0.5009\n",
      "VALID→ \"R\": RMSE=0.3145 MAE=0.2085 R2=-0.1838 | \"B\": Acc=0.2951 Prec=0.2951 Rec=1.0000 F1=0.4557 AUROC=0.5502\n"
     ]
    },
    {
     "data": {
      "application/vnd.jupyter.widget-view+json": {
       "model_id": "02c4598dbfec4d65b11234cf5794d4c1",
       "version_major": 2,
       "version_minor": 0
      },
      "text/plain": [
       "Epoch 4:   0%|          | 0/60 [00:00<?, ?batch/s]"
      ]
     },
     "metadata": {},
     "output_type": "display_data"
    },
    {
     "name": "stdout",
     "output_type": "stream",
     "text": [
      "Epoch 004\n",
      "TRAIN→ \"R\": RMSE=0.2916 MAE=0.2231 R2=0.0016 | \"B\": Acc=0.3669 Prec=0.2819 Rec=0.8066 F1=0.4178 AUROC=0.4994\n",
      "VALID→ \"R\": RMSE=0.3122 MAE=0.2072 R2=-0.1668 | \"B\": Acc=0.2951 Prec=0.2951 Rec=1.0000 F1=0.4557 AUROC=0.5320\n"
     ]
    },
    {
     "data": {
      "application/vnd.jupyter.widget-view+json": {
       "model_id": "33f5fd252e0e4cda881e56a721527e86",
       "version_major": 2,
       "version_minor": 0
      },
      "text/plain": [
       "Epoch 5:   0%|          | 0/60 [00:00<?, ?batch/s]"
      ]
     },
     "metadata": {},
     "output_type": "display_data"
    },
    {
     "name": "stdout",
     "output_type": "stream",
     "text": [
      "Epoch 005\n",
      "TRAIN→ \"R\": RMSE=0.2901 MAE=0.2219 R2=0.0113 | \"B\": Acc=0.3685 Prec=0.2816 Rec=0.8011 F1=0.4167 AUROC=0.4980\n",
      "VALID→ \"R\": RMSE=0.3107 MAE=0.2063 R2=-0.1554 | \"B\": Acc=0.2951 Prec=0.2951 Rec=1.0000 F1=0.4557 AUROC=0.5184\n"
     ]
    },
    {
     "data": {
      "application/vnd.jupyter.widget-view+json": {
       "model_id": "026ef5cccc144bd9bd97d8aa4915842e",
       "version_major": 2,
       "version_minor": 0
      },
      "text/plain": [
       "Epoch 6:   0%|          | 0/60 [00:00<?, ?batch/s]"
      ]
     },
     "metadata": {},
     "output_type": "display_data"
    },
    {
     "name": "stdout",
     "output_type": "stream",
     "text": [
      "Epoch 006\n",
      "TRAIN→ \"R\": RMSE=0.2889 MAE=0.2208 R2=0.0194 | \"B\": Acc=0.3724 Prec=0.2811 Rec=0.7888 F1=0.4145 AUROC=0.4969\n",
      "VALID→ \"R\": RMSE=0.3092 MAE=0.2055 R2=-0.1442 | \"B\": Acc=0.2951 Prec=0.2951 Rec=1.0000 F1=0.4557 AUROC=0.5029\n"
     ]
    },
    {
     "data": {
      "application/vnd.jupyter.widget-view+json": {
       "model_id": "16c47169f7ed469fa4ca771421104cd0",
       "version_major": 2,
       "version_minor": 0
      },
      "text/plain": [
       "Epoch 7:   0%|          | 0/60 [00:00<?, ?batch/s]"
      ]
     },
     "metadata": {},
     "output_type": "display_data"
    },
    {
     "name": "stdout",
     "output_type": "stream",
     "text": [
      "Epoch 007\n",
      "TRAIN→ \"R\": RMSE=0.2880 MAE=0.2199 R2=0.0259 | \"B\": Acc=0.3729 Prec=0.2810 Rec=0.7868 F1=0.4141 AUROC=0.4961\n",
      "VALID→ \"R\": RMSE=0.3078 MAE=0.2048 R2=-0.1343 | \"B\": Acc=0.2951 Prec=0.2951 Rec=1.0000 F1=0.4557 AUROC=0.4893\n"
     ]
    },
    {
     "data": {
      "application/vnd.jupyter.widget-view+json": {
       "model_id": "c3f47d65572347e18eae7e5596298928",
       "version_major": 2,
       "version_minor": 0
      },
      "text/plain": [
       "Epoch 8:   0%|          | 0/60 [00:00<?, ?batch/s]"
      ]
     },
     "metadata": {},
     "output_type": "display_data"
    },
    {
     "name": "stdout",
     "output_type": "stream",
     "text": [
      "Epoch 008\n",
      "TRAIN→ \"R\": RMSE=0.2871 MAE=0.2190 R2=0.0317 | \"B\": Acc=0.3739 Prec=0.2808 Rec=0.7836 F1=0.4135 AUROC=0.4955\n",
      "VALID→ \"R\": RMSE=0.3067 MAE=0.2042 R2=-0.1262 | \"B\": Acc=0.2951 Prec=0.2951 Rec=1.0000 F1=0.4557 AUROC=0.4704\n"
     ]
    },
    {
     "data": {
      "application/vnd.jupyter.widget-view+json": {
       "model_id": "41f958600f014cd4b0dabc6893acf41f",
       "version_major": 2,
       "version_minor": 0
      },
      "text/plain": [
       "Epoch 9:   0%|          | 0/60 [00:00<?, ?batch/s]"
      ]
     },
     "metadata": {},
     "output_type": "display_data"
    },
    {
     "name": "stdout",
     "output_type": "stream",
     "text": [
      "Epoch 009\n",
      "TRAIN→ \"R\": RMSE=0.2864 MAE=0.2184 R2=0.0364 | \"B\": Acc=0.3738 Prec=0.2802 Rec=0.7800 F1=0.4123 AUROC=0.4938\n",
      "VALID→ \"R\": RMSE=0.3055 MAE=0.2037 R2=-0.1174 | \"B\": Acc=0.2951 Prec=0.2951 Rec=1.0000 F1=0.4557 AUROC=0.4512\n"
     ]
    },
    {
     "data": {
      "application/vnd.jupyter.widget-view+json": {
       "model_id": "e51e269b51c54e0c87e4bf2314dfbd2e",
       "version_major": 2,
       "version_minor": 0
      },
      "text/plain": [
       "Epoch 10:   0%|          | 0/60 [00:00<?, ?batch/s]"
      ]
     },
     "metadata": {},
     "output_type": "display_data"
    },
    {
     "name": "stdout",
     "output_type": "stream",
     "text": [
      "Epoch 010\n",
      "TRAIN→ \"R\": RMSE=0.2858 MAE=0.2178 R2=0.0409 | \"B\": Acc=0.3745 Prec=0.2801 Rec=0.7776 F1=0.4118 AUROC=0.4926\n",
      "VALID→ \"R\": RMSE=0.3045 MAE=0.2032 R2=-0.1098 | \"B\": Acc=0.2951 Prec=0.2951 Rec=1.0000 F1=0.4557 AUROC=0.4330\n"
     ]
    },
    {
     "data": {
      "application/vnd.jupyter.widget-view+json": {
       "model_id": "06b16a255027477b8fbb14cf37aba0b7",
       "version_major": 2,
       "version_minor": 0
      },
      "text/plain": [
       "Epoch 11:   0%|          | 0/60 [00:00<?, ?batch/s]"
      ]
     },
     "metadata": {},
     "output_type": "display_data"
    },
    {
     "name": "stdout",
     "output_type": "stream",
     "text": [
      "Epoch 011\n",
      "TRAIN→ \"R\": RMSE=0.2852 MAE=0.2172 R2=0.0445 | \"B\": Acc=0.3729 Prec=0.2799 Rec=0.7803 F1=0.4120 AUROC=0.4919\n",
      "VALID→ \"R\": RMSE=0.3035 MAE=0.2028 R2=-0.1029 | \"B\": Acc=0.2951 Prec=0.2951 Rec=1.0000 F1=0.4557 AUROC=0.4178\n"
     ]
    },
    {
     "data": {
      "application/vnd.jupyter.widget-view+json": {
       "model_id": "b7b587b052aa4ac48f29f6cd79eb667b",
       "version_major": 2,
       "version_minor": 0
      },
      "text/plain": [
       "Epoch 12:   0%|          | 0/60 [00:00<?, ?batch/s]"
      ]
     },
     "metadata": {},
     "output_type": "display_data"
    },
    {
     "name": "stdout",
     "output_type": "stream",
     "text": [
      "Epoch 012\n",
      "TRAIN→ \"R\": RMSE=0.2846 MAE=0.2168 R2=0.0484 | \"B\": Acc=0.3714 Prec=0.2798 Rec=0.7829 F1=0.4123 AUROC=0.4920\n",
      "VALID→ \"R\": RMSE=0.3023 MAE=0.2023 R2=-0.0943 | \"B\": Acc=0.2951 Prec=0.2951 Rec=1.0000 F1=0.4557 AUROC=0.4071\n"
     ]
    },
    {
     "data": {
      "application/vnd.jupyter.widget-view+json": {
       "model_id": "6a296436a743491eb0a6f972299ce657",
       "version_major": 2,
       "version_minor": 0
      },
      "text/plain": [
       "Epoch 13:   0%|          | 0/60 [00:00<?, ?batch/s]"
      ]
     },
     "metadata": {},
     "output_type": "display_data"
    },
    {
     "name": "stdout",
     "output_type": "stream",
     "text": [
      "Epoch 013\n",
      "TRAIN→ \"R\": RMSE=0.2842 MAE=0.2163 R2=0.0516 | \"B\": Acc=0.3701 Prec=0.2800 Rec=0.7866 F1=0.4129 AUROC=0.4920\n",
      "VALID→ \"R\": RMSE=0.3016 MAE=0.2020 R2=-0.0887 | \"B\": Acc=0.2951 Prec=0.2951 Rec=1.0000 F1=0.4557 AUROC=0.3941\n"
     ]
    },
    {
     "data": {
      "application/vnd.jupyter.widget-view+json": {
       "model_id": "a934070966134cb8829a38d56a742fb0",
       "version_major": 2,
       "version_minor": 0
      },
      "text/plain": [
       "Epoch 14:   0%|          | 0/60 [00:00<?, ?batch/s]"
      ]
     },
     "metadata": {},
     "output_type": "display_data"
    },
    {
     "name": "stdout",
     "output_type": "stream",
     "text": [
      "Epoch 014\n",
      "TRAIN→ \"R\": RMSE=0.2836 MAE=0.2159 R2=0.0551 | \"B\": Acc=0.3676 Prec=0.2795 Rec=0.7894 F1=0.4128 AUROC=0.4907\n",
      "VALID→ \"R\": RMSE=0.3007 MAE=0.2016 R2=-0.0821 | \"B\": Acc=0.2951 Prec=0.2951 Rec=1.0000 F1=0.4557 AUROC=0.3834\n"
     ]
    },
    {
     "data": {
      "application/vnd.jupyter.widget-view+json": {
       "model_id": "b4af5cb85a0f448c8c292a222925ae1b",
       "version_major": 2,
       "version_minor": 0
      },
      "text/plain": [
       "Epoch 15:   0%|          | 0/60 [00:00<?, ?batch/s]"
      ]
     },
     "metadata": {},
     "output_type": "display_data"
    },
    {
     "name": "stdout",
     "output_type": "stream",
     "text": [
      "Epoch 015\n",
      "TRAIN→ \"R\": RMSE=0.2832 MAE=0.2155 R2=0.0580 | \"B\": Acc=0.3662 Prec=0.2793 Rec=0.7914 F1=0.4129 AUROC=0.4909\n",
      "VALID→ \"R\": RMSE=0.3000 MAE=0.2013 R2=-0.0771 | \"B\": Acc=0.2951 Prec=0.2951 Rec=1.0000 F1=0.4557 AUROC=0.3750\n"
     ]
    },
    {
     "data": {
      "application/vnd.jupyter.widget-view+json": {
       "model_id": "60b5e27f9f4f4b019ce0c428faedfee1",
       "version_major": 2,
       "version_minor": 0
      },
      "text/plain": [
       "Epoch 16:   0%|          | 0/60 [00:00<?, ?batch/s]"
      ]
     },
     "metadata": {},
     "output_type": "display_data"
    },
    {
     "name": "stdout",
     "output_type": "stream",
     "text": [
      "Epoch 016\n",
      "TRAIN→ \"R\": RMSE=0.2827 MAE=0.2151 R2=0.0610 | \"B\": Acc=0.3641 Prec=0.2791 Rec=0.7949 F1=0.4132 AUROC=0.4891\n",
      "VALID→ \"R\": RMSE=0.2990 MAE=0.2009 R2=-0.0702 | \"B\": Acc=0.2951 Prec=0.2951 Rec=1.0000 F1=0.4557 AUROC=0.3689\n"
     ]
    },
    {
     "data": {
      "application/vnd.jupyter.widget-view+json": {
       "model_id": "6d65ea64e2864f0b9a881b771575881b",
       "version_major": 2,
       "version_minor": 0
      },
      "text/plain": [
       "Epoch 17:   0%|          | 0/60 [00:00<?, ?batch/s]"
      ]
     },
     "metadata": {},
     "output_type": "display_data"
    },
    {
     "name": "stdout",
     "output_type": "stream",
     "text": [
      "Epoch 017\n",
      "TRAIN→ \"R\": RMSE=0.2824 MAE=0.2149 R2=0.0633 | \"B\": Acc=0.3617 Prec=0.2791 Rec=0.8000 F1=0.4138 AUROC=0.4883\n",
      "VALID→ \"R\": RMSE=0.2984 MAE=0.2006 R2=-0.0660 | \"B\": Acc=0.2951 Prec=0.2951 Rec=1.0000 F1=0.4557 AUROC=0.3604\n"
     ]
    },
    {
     "data": {
      "application/vnd.jupyter.widget-view+json": {
       "model_id": "85040a333c2e4616960bf661533f7c13",
       "version_major": 2,
       "version_minor": 0
      },
      "text/plain": [
       "Epoch 18:   0%|          | 0/60 [00:00<?, ?batch/s]"
      ]
     },
     "metadata": {},
     "output_type": "display_data"
    },
    {
     "name": "stdout",
     "output_type": "stream",
     "text": [
      "Epoch 018\n",
      "TRAIN→ \"R\": RMSE=0.2819 MAE=0.2144 R2=0.0666 | \"B\": Acc=0.3595 Prec=0.2791 Rec=0.8048 F1=0.4144 AUROC=0.4875\n",
      "VALID→ \"R\": RMSE=0.2976 MAE=0.2003 R2=-0.0604 | \"B\": Acc=0.2951 Prec=0.2951 Rec=1.0000 F1=0.4557 AUROC=0.3555\n"
     ]
    },
    {
     "data": {
      "application/vnd.jupyter.widget-view+json": {
       "model_id": "96c8a81558c544e493fa1c11180e4fa8",
       "version_major": 2,
       "version_minor": 0
      },
      "text/plain": [
       "Epoch 19:   0%|          | 0/60 [00:00<?, ?batch/s]"
      ]
     },
     "metadata": {},
     "output_type": "display_data"
    },
    {
     "name": "stdout",
     "output_type": "stream",
     "text": [
      "Epoch 019\n",
      "TRAIN→ \"R\": RMSE=0.2816 MAE=0.2142 R2=0.0687 | \"B\": Acc=0.3567 Prec=0.2788 Rec=0.8090 F1=0.4146 AUROC=0.4865\n",
      "VALID→ \"R\": RMSE=0.2971 MAE=0.2000 R2=-0.0566 | \"B\": Acc=0.2951 Prec=0.2951 Rec=1.0000 F1=0.4557 AUROC=0.3501\n"
     ]
    },
    {
     "data": {
      "application/vnd.jupyter.widget-view+json": {
       "model_id": "444cc36a193a461b8a6358136e146ed9",
       "version_major": 2,
       "version_minor": 0
      },
      "text/plain": [
       "Epoch 20:   0%|          | 0/60 [00:00<?, ?batch/s]"
      ]
     },
     "metadata": {},
     "output_type": "display_data"
    },
    {
     "name": "stdout",
     "output_type": "stream",
     "text": [
      "Epoch 020\n",
      "TRAIN→ \"R\": RMSE=0.2812 MAE=0.2139 R2=0.0710 | \"B\": Acc=0.3542 Prec=0.2788 Rec=0.8151 F1=0.4155 AUROC=0.4853\n",
      "VALID→ \"R\": RMSE=0.2965 MAE=0.1997 R2=-0.0523 | \"B\": Acc=0.2951 Prec=0.2951 Rec=1.0000 F1=0.4557 AUROC=0.3484\n"
     ]
    },
    {
     "data": {
      "application/vnd.jupyter.widget-view+json": {
       "model_id": "c1cb11b1a80846d4b7771f1ea6ff2a11",
       "version_major": 2,
       "version_minor": 0
      },
      "text/plain": [
       "Epoch 21:   0%|          | 0/60 [00:00<?, ?batch/s]"
      ]
     },
     "metadata": {},
     "output_type": "display_data"
    },
    {
     "name": "stdout",
     "output_type": "stream",
     "text": [
      "Epoch 021\n",
      "TRAIN→ \"R\": RMSE=0.2809 MAE=0.2135 R2=0.0733 | \"B\": Acc=0.3520 Prec=0.2785 Rec=0.8178 F1=0.4155 AUROC=0.4845\n",
      "VALID→ \"R\": RMSE=0.2962 MAE=0.1996 R2=-0.0503 | \"B\": Acc=0.2951 Prec=0.2951 Rec=1.0000 F1=0.4557 AUROC=0.3486\n"
     ]
    },
    {
     "data": {
      "application/vnd.jupyter.widget-view+json": {
       "model_id": "5ba38fb890d6413193a4194fd6351e7f",
       "version_major": 2,
       "version_minor": 0
      },
      "text/plain": [
       "Epoch 22:   0%|          | 0/60 [00:00<?, ?batch/s]"
      ]
     },
     "metadata": {},
     "output_type": "display_data"
    },
    {
     "name": "stdout",
     "output_type": "stream",
     "text": [
      "Epoch 022\n",
      "TRAIN→ \"R\": RMSE=0.2806 MAE=0.2132 R2=0.0754 | \"B\": Acc=0.3508 Prec=0.2785 Rec=0.8203 F1=0.4158 AUROC=0.4840\n",
      "VALID→ \"R\": RMSE=0.2956 MAE=0.1993 R2=-0.0461 | \"B\": Acc=0.2951 Prec=0.2951 Rec=1.0000 F1=0.4557 AUROC=0.3505\n"
     ]
    },
    {
     "data": {
      "application/vnd.jupyter.widget-view+json": {
       "model_id": "0618fd4b489645b1850d64821131e361",
       "version_major": 2,
       "version_minor": 0
      },
      "text/plain": [
       "Epoch 23:   0%|          | 0/60 [00:00<?, ?batch/s]"
      ]
     },
     "metadata": {},
     "output_type": "display_data"
    },
    {
     "name": "stdout",
     "output_type": "stream",
     "text": [
      "Epoch 023\n",
      "TRAIN→ \"R\": RMSE=0.2802 MAE=0.2128 R2=0.0776 | \"B\": Acc=0.3498 Prec=0.2785 Rec=0.8225 F1=0.4161 AUROC=0.4836\n",
      "VALID→ \"R\": RMSE=0.2951 MAE=0.1990 R2=-0.0421 | \"B\": Acc=0.2951 Prec=0.2951 Rec=1.0000 F1=0.4557 AUROC=0.3537\n"
     ]
    },
    {
     "data": {
      "application/vnd.jupyter.widget-view+json": {
       "model_id": "54c15445323e412c97dcde6a4f9a9992",
       "version_major": 2,
       "version_minor": 0
      },
      "text/plain": [
       "Epoch 24:   0%|          | 0/60 [00:00<?, ?batch/s]"
      ]
     },
     "metadata": {},
     "output_type": "display_data"
    },
    {
     "name": "stdout",
     "output_type": "stream",
     "text": [
      "Epoch 024\n",
      "TRAIN→ \"R\": RMSE=0.2799 MAE=0.2126 R2=0.0795 | \"B\": Acc=0.3468 Prec=0.2787 Rec=0.8304 F1=0.4173 AUROC=0.4839\n",
      "VALID→ \"R\": RMSE=0.2947 MAE=0.1988 R2=-0.0397 | \"B\": Acc=0.2951 Prec=0.2951 Rec=1.0000 F1=0.4557 AUROC=0.3593\n"
     ]
    },
    {
     "data": {
      "application/vnd.jupyter.widget-view+json": {
       "model_id": "c2739450a6f84a9c92aef99f90e97a86",
       "version_major": 2,
       "version_minor": 0
      },
      "text/plain": [
       "Epoch 25:   0%|          | 0/60 [00:00<?, ?batch/s]"
      ]
     },
     "metadata": {},
     "output_type": "display_data"
    },
    {
     "name": "stdout",
     "output_type": "stream",
     "text": [
      "Epoch 025\n",
      "TRAIN→ \"R\": RMSE=0.2796 MAE=0.2123 R2=0.0817 | \"B\": Acc=0.3474 Prec=0.2787 Rec=0.8293 F1=0.4172 AUROC=0.4842\n",
      "VALID→ \"R\": RMSE=0.2944 MAE=0.1986 R2=-0.0374 | \"B\": Acc=0.2951 Prec=0.2951 Rec=1.0000 F1=0.4557 AUROC=0.3644\n"
     ]
    },
    {
     "data": {
      "application/vnd.jupyter.widget-view+json": {
       "model_id": "f0a68a07dbad4d9baae2fd09ae7af3d8",
       "version_major": 2,
       "version_minor": 0
      },
      "text/plain": [
       "Epoch 26:   0%|          | 0/60 [00:00<?, ?batch/s]"
      ]
     },
     "metadata": {},
     "output_type": "display_data"
    },
    {
     "name": "stdout",
     "output_type": "stream",
     "text": [
      "Epoch 026\n",
      "TRAIN→ \"R\": RMSE=0.2793 MAE=0.2119 R2=0.0835 | \"B\": Acc=0.3463 Prec=0.2788 Rec=0.8329 F1=0.4178 AUROC=0.4849\n",
      "VALID→ \"R\": RMSE=0.2940 MAE=0.1984 R2=-0.0348 | \"B\": Acc=0.2951 Prec=0.2951 Rec=1.0000 F1=0.4557 AUROC=0.3703\n"
     ]
    },
    {
     "data": {
      "application/vnd.jupyter.widget-view+json": {
       "model_id": "b37912a1e3574e6c8b5e553bc61e272c",
       "version_major": 2,
       "version_minor": 0
      },
      "text/plain": [
       "Epoch 27:   0%|          | 0/60 [00:00<?, ?batch/s]"
      ]
     },
     "metadata": {},
     "output_type": "display_data"
    },
    {
     "name": "stdout",
     "output_type": "stream",
     "text": [
      "Epoch 027\n",
      "TRAIN→ \"R\": RMSE=0.2790 MAE=0.2116 R2=0.0857 | \"B\": Acc=0.3457 Prec=0.2789 Rec=0.8343 F1=0.4180 AUROC=0.4846\n",
      "VALID→ \"R\": RMSE=0.2937 MAE=0.1982 R2=-0.0323 | \"B\": Acc=0.2951 Prec=0.2951 Rec=1.0000 F1=0.4557 AUROC=0.3781\n"
     ]
    },
    {
     "data": {
      "application/vnd.jupyter.widget-view+json": {
       "model_id": "7c34799de9b74d07a39c281da3869582",
       "version_major": 2,
       "version_minor": 0
      },
      "text/plain": [
       "Epoch 28:   0%|          | 0/60 [00:00<?, ?batch/s]"
      ]
     },
     "metadata": {},
     "output_type": "display_data"
    },
    {
     "name": "stdout",
     "output_type": "stream",
     "text": [
      "Epoch 028\n",
      "TRAIN→ \"R\": RMSE=0.2787 MAE=0.2114 R2=0.0874 | \"B\": Acc=0.3447 Prec=0.2789 Rec=0.8368 F1=0.4184 AUROC=0.4850\n",
      "VALID→ \"R\": RMSE=0.2933 MAE=0.1980 R2=-0.0296 | \"B\": Acc=0.2951 Prec=0.2951 Rec=1.0000 F1=0.4557 AUROC=0.3844\n"
     ]
    },
    {
     "data": {
      "application/vnd.jupyter.widget-view+json": {
       "model_id": "4e0a2f52853847ccbffafb2cdbaa5dc9",
       "version_major": 2,
       "version_minor": 0
      },
      "text/plain": [
       "Epoch 29:   0%|          | 0/60 [00:00<?, ?batch/s]"
      ]
     },
     "metadata": {},
     "output_type": "display_data"
    },
    {
     "name": "stdout",
     "output_type": "stream",
     "text": [
      "Epoch 029\n",
      "TRAIN→ \"R\": RMSE=0.2784 MAE=0.2112 R2=0.0897 | \"B\": Acc=0.3435 Prec=0.2792 Rec=0.8416 F1=0.4193 AUROC=0.4868\n",
      "VALID→ \"R\": RMSE=0.2931 MAE=0.1978 R2=-0.0282 | \"B\": Acc=0.2951 Prec=0.2951 Rec=1.0000 F1=0.4557 AUROC=0.3949\n"
     ]
    },
    {
     "data": {
      "application/vnd.jupyter.widget-view+json": {
       "model_id": "7951bb816896404386f9f39db0f45607",
       "version_major": 2,
       "version_minor": 0
      },
      "text/plain": [
       "Epoch 30:   0%|          | 0/60 [00:00<?, ?batch/s]"
      ]
     },
     "metadata": {},
     "output_type": "display_data"
    },
    {
     "name": "stdout",
     "output_type": "stream",
     "text": [
      "Epoch 030\n",
      "TRAIN→ \"R\": RMSE=0.2781 MAE=0.2108 R2=0.0913 | \"B\": Acc=0.3436 Prec=0.2794 Rec=0.8423 F1=0.4196 AUROC=0.4872\n",
      "VALID→ \"R\": RMSE=0.2927 MAE=0.1976 R2=-0.0254 | \"B\": Acc=0.2951 Prec=0.2951 Rec=1.0000 F1=0.4557 AUROC=0.3998\n"
     ]
    },
    {
     "data": {
      "application/vnd.jupyter.widget-view+json": {
       "model_id": "b4bec74fa7f8435fa285708aec0e87d2",
       "version_major": 2,
       "version_minor": 0
      },
      "text/plain": [
       "Epoch 31:   0%|          | 0/60 [00:00<?, ?batch/s]"
      ]
     },
     "metadata": {},
     "output_type": "display_data"
    },
    {
     "name": "stdout",
     "output_type": "stream",
     "text": [
      "Epoch 031\n",
      "TRAIN→ \"R\": RMSE=0.2778 MAE=0.2106 R2=0.0938 | \"B\": Acc=0.3416 Prec=0.2791 Rec=0.8449 F1=0.4195 AUROC=0.4852\n",
      "VALID→ \"R\": RMSE=0.2924 MAE=0.1973 R2=-0.0234 | \"B\": Acc=0.2951 Prec=0.2951 Rec=1.0000 F1=0.4557 AUROC=0.4050\n"
     ]
    },
    {
     "data": {
      "application/vnd.jupyter.widget-view+json": {
       "model_id": "c6577947d1a847ffa71e4e76c1ebc49c",
       "version_major": 2,
       "version_minor": 0
      },
      "text/plain": [
       "Epoch 32:   0%|          | 0/60 [00:00<?, ?batch/s]"
      ]
     },
     "metadata": {},
     "output_type": "display_data"
    },
    {
     "name": "stdout",
     "output_type": "stream",
     "text": [
      "Epoch 032\n",
      "TRAIN→ \"R\": RMSE=0.2775 MAE=0.2103 R2=0.0955 | \"B\": Acc=0.3423 Prec=0.2793 Rec=0.8452 F1=0.4199 AUROC=0.4867\n",
      "VALID→ \"R\": RMSE=0.2923 MAE=0.1972 R2=-0.0226 | \"B\": Acc=0.2951 Prec=0.2951 Rec=1.0000 F1=0.4557 AUROC=0.4111\n"
     ]
    },
    {
     "data": {
      "application/vnd.jupyter.widget-view+json": {
       "model_id": "dfa703004960402d859ab4607bc673e1",
       "version_major": 2,
       "version_minor": 0
      },
      "text/plain": [
       "Epoch 33:   0%|          | 0/60 [00:00<?, ?batch/s]"
      ]
     },
     "metadata": {},
     "output_type": "display_data"
    },
    {
     "name": "stdout",
     "output_type": "stream",
     "text": [
      "Epoch 033\n",
      "TRAIN→ \"R\": RMSE=0.2772 MAE=0.2100 R2=0.0974 | \"B\": Acc=0.3416 Prec=0.2793 Rec=0.8466 F1=0.4201 AUROC=0.4865\n",
      "VALID→ \"R\": RMSE=0.2918 MAE=0.1969 R2=-0.0190 | \"B\": Acc=0.2951 Prec=0.2951 Rec=1.0000 F1=0.4557 AUROC=0.4159\n"
     ]
    },
    {
     "data": {
      "application/vnd.jupyter.widget-view+json": {
       "model_id": "d022dad554aa4ee9bea21541f560a152",
       "version_major": 2,
       "version_minor": 0
      },
      "text/plain": [
       "Epoch 34:   0%|          | 0/60 [00:00<?, ?batch/s]"
      ]
     },
     "metadata": {},
     "output_type": "display_data"
    },
    {
     "name": "stdout",
     "output_type": "stream",
     "text": [
      "Epoch 034\n",
      "TRAIN→ \"R\": RMSE=0.2768 MAE=0.2097 R2=0.1002 | \"B\": Acc=0.3399 Prec=0.2792 Rec=0.8493 F1=0.4202 AUROC=0.4857\n",
      "VALID→ \"R\": RMSE=0.2913 MAE=0.1966 R2=-0.0156 | \"B\": Acc=0.2951 Prec=0.2951 Rec=1.0000 F1=0.4557 AUROC=0.4183\n"
     ]
    },
    {
     "data": {
      "application/vnd.jupyter.widget-view+json": {
       "model_id": "5fd4d9c0af5940b29ed88a192d891475",
       "version_major": 2,
       "version_minor": 0
      },
      "text/plain": [
       "Epoch 35:   0%|          | 0/60 [00:00<?, ?batch/s]"
      ]
     },
     "metadata": {},
     "output_type": "display_data"
    },
    {
     "name": "stdout",
     "output_type": "stream",
     "text": [
      "Epoch 035\n",
      "TRAIN→ \"R\": RMSE=0.2763 MAE=0.2093 R2=0.1030 | \"B\": Acc=0.3387 Prec=0.2788 Rec=0.8497 F1=0.4199 AUROC=0.4848\n",
      "VALID→ \"R\": RMSE=0.2909 MAE=0.1964 R2=-0.0131 | \"B\": Acc=0.2951 Prec=0.2951 Rec=1.0000 F1=0.4557 AUROC=0.4201\n"
     ]
    },
    {
     "data": {
      "application/vnd.jupyter.widget-view+json": {
       "model_id": "68232beea19d421ab57a07be898768c6",
       "version_major": 2,
       "version_minor": 0
      },
      "text/plain": [
       "Epoch 36:   0%|          | 0/60 [00:00<?, ?batch/s]"
      ]
     },
     "metadata": {},
     "output_type": "display_data"
    },
    {
     "name": "stdout",
     "output_type": "stream",
     "text": [
      "Epoch 036\n",
      "TRAIN→ \"R\": RMSE=0.2760 MAE=0.2091 R2=0.1053 | \"B\": Acc=0.3385 Prec=0.2793 Rec=0.8532 F1=0.4208 AUROC=0.4853\n",
      "VALID→ \"R\": RMSE=0.2904 MAE=0.1961 R2=-0.0098 | \"B\": Acc=0.2951 Prec=0.2951 Rec=1.0000 F1=0.4557 AUROC=0.4203\n"
     ]
    },
    {
     "data": {
      "application/vnd.jupyter.widget-view+json": {
       "model_id": "6a71aab055e84d68aa276c684cfe8485",
       "version_major": 2,
       "version_minor": 0
      },
      "text/plain": [
       "Epoch 37:   0%|          | 0/60 [00:00<?, ?batch/s]"
      ]
     },
     "metadata": {},
     "output_type": "display_data"
    },
    {
     "name": "stdout",
     "output_type": "stream",
     "text": [
      "Epoch 037\n",
      "TRAIN→ \"R\": RMSE=0.2757 MAE=0.2088 R2=0.1074 | \"B\": Acc=0.3370 Prec=0.2788 Rec=0.8531 F1=0.4202 AUROC=0.4835\n",
      "VALID→ \"R\": RMSE=0.2903 MAE=0.1959 R2=-0.0091 | \"B\": Acc=0.2951 Prec=0.2951 Rec=1.0000 F1=0.4557 AUROC=0.4228\n"
     ]
    },
    {
     "data": {
      "application/vnd.jupyter.widget-view+json": {
       "model_id": "95fe0a5968074b6cbdd6597029ad366c",
       "version_major": 2,
       "version_minor": 0
      },
      "text/plain": [
       "Epoch 38:   0%|          | 0/60 [00:00<?, ?batch/s]"
      ]
     },
     "metadata": {},
     "output_type": "display_data"
    },
    {
     "name": "stdout",
     "output_type": "stream",
     "text": [
      "Epoch 038\n",
      "TRAIN→ \"R\": RMSE=0.2753 MAE=0.2085 R2=0.1099 | \"B\": Acc=0.3369 Prec=0.2788 Rec=0.8534 F1=0.4203 AUROC=0.4843\n",
      "VALID→ \"R\": RMSE=0.2896 MAE=0.1956 R2=-0.0042 | \"B\": Acc=0.2951 Prec=0.2951 Rec=1.0000 F1=0.4557 AUROC=0.4241\n"
     ]
    },
    {
     "data": {
      "application/vnd.jupyter.widget-view+json": {
       "model_id": "86d9eb1fbb774739aa8c90a15ae20760",
       "version_major": 2,
       "version_minor": 0
      },
      "text/plain": [
       "Epoch 39:   0%|          | 0/60 [00:00<?, ?batch/s]"
      ]
     },
     "metadata": {},
     "output_type": "display_data"
    },
    {
     "name": "stdout",
     "output_type": "stream",
     "text": [
      "Epoch 039\n",
      "TRAIN→ \"R\": RMSE=0.2748 MAE=0.2083 R2=0.1127 | \"B\": Acc=0.3351 Prec=0.2787 Rec=0.8566 F1=0.4205 AUROC=0.4830\n",
      "VALID→ \"R\": RMSE=0.2895 MAE=0.1954 R2=-0.0030 | \"B\": Acc=0.2951 Prec=0.2951 Rec=1.0000 F1=0.4557 AUROC=0.4256\n"
     ]
    },
    {
     "data": {
      "application/vnd.jupyter.widget-view+json": {
       "model_id": "bd8f2a0fa3574eb280f7cb09a0f030c6",
       "version_major": 2,
       "version_minor": 0
      },
      "text/plain": [
       "Epoch 40:   0%|          | 0/60 [00:00<?, ?batch/s]"
      ]
     },
     "metadata": {},
     "output_type": "display_data"
    },
    {
     "name": "stdout",
     "output_type": "stream",
     "text": [
      "Epoch 040\n",
      "TRAIN→ \"R\": RMSE=0.2745 MAE=0.2079 R2=0.1149 | \"B\": Acc=0.3346 Prec=0.2786 Rec=0.8575 F1=0.4206 AUROC=0.4827\n",
      "VALID→ \"R\": RMSE=0.2892 MAE=0.1952 R2=-0.0012 | \"B\": Acc=0.2951 Prec=0.2951 Rec=1.0000 F1=0.4557 AUROC=0.4265\n"
     ]
    },
    {
     "data": {
      "application/vnd.jupyter.widget-view+json": {
       "model_id": "0ce8401912f74d4ca817fae77b9636cc",
       "version_major": 2,
       "version_minor": 0
      },
      "text/plain": [
       "Epoch 41:   0%|          | 0/60 [00:00<?, ?batch/s]"
      ]
     },
     "metadata": {},
     "output_type": "display_data"
    },
    {
     "name": "stdout",
     "output_type": "stream",
     "text": [
      "Epoch 041\n",
      "TRAIN→ \"R\": RMSE=0.2741 MAE=0.2076 R2=0.1174 | \"B\": Acc=0.3337 Prec=0.2784 Rec=0.8583 F1=0.4205 AUROC=0.4818\n",
      "VALID→ \"R\": RMSE=0.2885 MAE=0.1948 R2=0.0037 | \"B\": Acc=0.2951 Prec=0.2951 Rec=0.9999 F1=0.4557 AUROC=0.4264\n"
     ]
    },
    {
     "data": {
      "application/vnd.jupyter.widget-view+json": {
       "model_id": "201e2b85d1fd4979879ccfd8054c0568",
       "version_major": 2,
       "version_minor": 0
      },
      "text/plain": [
       "Epoch 42:   0%|          | 0/60 [00:00<?, ?batch/s]"
      ]
     },
     "metadata": {},
     "output_type": "display_data"
    },
    {
     "name": "stdout",
     "output_type": "stream",
     "text": [
      "Epoch 042\n",
      "TRAIN→ \"R\": RMSE=0.2736 MAE=0.2074 R2=0.1208 | \"B\": Acc=0.3323 Prec=0.2782 Rec=0.8598 F1=0.4204 AUROC=0.4812\n",
      "VALID→ \"R\": RMSE=0.2882 MAE=0.1946 R2=0.0060 | \"B\": Acc=0.2951 Prec=0.2951 Rec=0.9999 F1=0.4557 AUROC=0.4228\n"
     ]
    },
    {
     "data": {
      "application/vnd.jupyter.widget-view+json": {
       "model_id": "40fa6d773e93496f87b0b7d3ac276e06",
       "version_major": 2,
       "version_minor": 0
      },
      "text/plain": [
       "Epoch 43:   0%|          | 0/60 [00:00<?, ?batch/s]"
      ]
     },
     "metadata": {},
     "output_type": "display_data"
    },
    {
     "name": "stdout",
     "output_type": "stream",
     "text": [
      "Epoch 043\n",
      "TRAIN→ \"R\": RMSE=0.2732 MAE=0.2070 R2=0.1233 | \"B\": Acc=0.3318 Prec=0.2781 Rec=0.8602 F1=0.4204 AUROC=0.4797\n",
      "VALID→ \"R\": RMSE=0.2878 MAE=0.1943 R2=0.0087 | \"B\": Acc=0.2951 Prec=0.2951 Rec=0.9998 F1=0.4557 AUROC=0.4228\n"
     ]
    },
    {
     "data": {
      "application/vnd.jupyter.widget-view+json": {
       "model_id": "8660c28f42854328a111be4a139f3122",
       "version_major": 2,
       "version_minor": 0
      },
      "text/plain": [
       "Epoch 44:   0%|          | 0/60 [00:00<?, ?batch/s]"
      ]
     },
     "metadata": {},
     "output_type": "display_data"
    },
    {
     "name": "stdout",
     "output_type": "stream",
     "text": [
      "Epoch 044\n",
      "TRAIN→ \"R\": RMSE=0.2728 MAE=0.2067 R2=0.1259 | \"B\": Acc=0.3303 Prec=0.2781 Rec=0.8632 F1=0.4206 AUROC=0.4802\n",
      "VALID→ \"R\": RMSE=0.2872 MAE=0.1940 R2=0.0125 | \"B\": Acc=0.2950 Prec=0.2950 Rec=0.9996 F1=0.4556 AUROC=0.4249\n"
     ]
    },
    {
     "data": {
      "application/vnd.jupyter.widget-view+json": {
       "model_id": "c1a1ad792797496c90215cfed1c3f0d6",
       "version_major": 2,
       "version_minor": 0
      },
      "text/plain": [
       "Epoch 45:   0%|          | 0/60 [00:00<?, ?batch/s]"
      ]
     },
     "metadata": {},
     "output_type": "display_data"
    },
    {
     "name": "stdout",
     "output_type": "stream",
     "text": [
      "Epoch 045\n",
      "TRAIN→ \"R\": RMSE=0.2723 MAE=0.2065 R2=0.1291 | \"B\": Acc=0.3298 Prec=0.2779 Rec=0.8632 F1=0.4204 AUROC=0.4793\n",
      "VALID→ \"R\": RMSE=0.2867 MAE=0.1936 R2=0.0159 | \"B\": Acc=0.2950 Prec=0.2950 Rec=0.9995 F1=0.4556 AUROC=0.4233\n"
     ]
    },
    {
     "data": {
      "application/vnd.jupyter.widget-view+json": {
       "model_id": "2e2ec1f4ffb04f4ebd90e5c200be98ea",
       "version_major": 2,
       "version_minor": 0
      },
      "text/plain": [
       "Epoch 46:   0%|          | 0/60 [00:00<?, ?batch/s]"
      ]
     },
     "metadata": {},
     "output_type": "display_data"
    },
    {
     "name": "stdout",
     "output_type": "stream",
     "text": [
      "Epoch 046\n",
      "TRAIN→ \"R\": RMSE=0.2718 MAE=0.2060 R2=0.1326 | \"B\": Acc=0.3292 Prec=0.2781 Rec=0.8658 F1=0.4210 AUROC=0.4790\n",
      "VALID→ \"R\": RMSE=0.2860 MAE=0.1932 R2=0.0209 | \"B\": Acc=0.2950 Prec=0.2950 Rec=0.9994 F1=0.4555 AUROC=0.4206\n"
     ]
    },
    {
     "data": {
      "application/vnd.jupyter.widget-view+json": {
       "model_id": "72f738bbedd74085ae729af490015385",
       "version_major": 2,
       "version_minor": 0
      },
      "text/plain": [
       "Epoch 47:   0%|          | 0/60 [00:00<?, ?batch/s]"
      ]
     },
     "metadata": {},
     "output_type": "display_data"
    },
    {
     "name": "stdout",
     "output_type": "stream",
     "text": [
      "Epoch 047\n",
      "TRAIN→ \"R\": RMSE=0.2711 MAE=0.2057 R2=0.1366 | \"B\": Acc=0.3278 Prec=0.2779 Rec=0.8677 F1=0.4210 AUROC=0.4780\n",
      "VALID→ \"R\": RMSE=0.2855 MAE=0.1929 R2=0.0243 | \"B\": Acc=0.2949 Prec=0.2949 Rec=0.9991 F1=0.4554 AUROC=0.4166\n"
     ]
    },
    {
     "data": {
      "application/vnd.jupyter.widget-view+json": {
       "model_id": "93beb5357c1a40c7842548beba353119",
       "version_major": 2,
       "version_minor": 0
      },
      "text/plain": [
       "Epoch 48:   0%|          | 0/60 [00:00<?, ?batch/s]"
      ]
     },
     "metadata": {},
     "output_type": "display_data"
    },
    {
     "name": "stdout",
     "output_type": "stream",
     "text": [
      "Epoch 048\n",
      "TRAIN→ \"R\": RMSE=0.2707 MAE=0.2054 R2=0.1393 | \"B\": Acc=0.3272 Prec=0.2779 Rec=0.8689 F1=0.4211 AUROC=0.4771\n",
      "VALID→ \"R\": RMSE=0.2847 MAE=0.1925 R2=0.0294 | \"B\": Acc=0.2948 Prec=0.2949 Rec=0.9989 F1=0.4553 AUROC=0.4139\n"
     ]
    },
    {
     "data": {
      "application/vnd.jupyter.widget-view+json": {
       "model_id": "536a670aa19249d9a01d24b3c9a640a7",
       "version_major": 2,
       "version_minor": 0
      },
      "text/plain": [
       "Epoch 49:   0%|          | 0/60 [00:00<?, ?batch/s]"
      ]
     },
     "metadata": {},
     "output_type": "display_data"
    },
    {
     "name": "stdout",
     "output_type": "stream",
     "text": [
      "Epoch 049\n",
      "TRAIN→ \"R\": RMSE=0.2701 MAE=0.2050 R2=0.1432 | \"B\": Acc=0.3266 Prec=0.2778 Rec=0.8693 F1=0.4210 AUROC=0.4762\n",
      "VALID→ \"R\": RMSE=0.2839 MAE=0.1920 R2=0.0351 | \"B\": Acc=0.2948 Prec=0.2949 Rec=0.9987 F1=0.4553 AUROC=0.4146\n"
     ]
    },
    {
     "data": {
      "application/vnd.jupyter.widget-view+json": {
       "model_id": "45416c61ae7347be9a8023952bb0a09e",
       "version_major": 2,
       "version_minor": 0
      },
      "text/plain": [
       "Epoch 50:   0%|          | 0/60 [00:00<?, ?batch/s]"
      ]
     },
     "metadata": {},
     "output_type": "display_data"
    },
    {
     "name": "stdout",
     "output_type": "stream",
     "text": [
      "Epoch 050\n",
      "TRAIN→ \"R\": RMSE=0.2694 MAE=0.2046 R2=0.1478 | \"B\": Acc=0.3255 Prec=0.2775 Rec=0.8699 F1=0.4208 AUROC=0.4753\n",
      "VALID→ \"R\": RMSE=0.2831 MAE=0.1916 R2=0.0405 | \"B\": Acc=0.2947 Prec=0.2948 Rec=0.9984 F1=0.4552 AUROC=0.4104\n"
     ]
    },
    {
     "data": {
      "application/vnd.jupyter.widget-view+json": {
       "model_id": "da18e647aa6346b2b3487ee1eb47b5b7",
       "version_major": 2,
       "version_minor": 0
      },
      "text/plain": [
       "Epoch 51:   0%|          | 0/60 [00:00<?, ?batch/s]"
      ]
     },
     "metadata": {},
     "output_type": "display_data"
    },
    {
     "name": "stdout",
     "output_type": "stream",
     "text": [
      "Epoch 051\n",
      "TRAIN→ \"R\": RMSE=0.2687 MAE=0.2041 R2=0.1518 | \"B\": Acc=0.3255 Prec=0.2778 Rec=0.8719 F1=0.4213 AUROC=0.4752\n",
      "VALID→ \"R\": RMSE=0.2823 MAE=0.1911 R2=0.0462 | \"B\": Acc=0.2947 Prec=0.2948 Rec=0.9983 F1=0.4551 AUROC=0.4071\n"
     ]
    },
    {
     "data": {
      "application/vnd.jupyter.widget-view+json": {
       "model_id": "327110369001464fbb46dd27ca1f23a1",
       "version_major": 2,
       "version_minor": 0
      },
      "text/plain": [
       "Epoch 52:   0%|          | 0/60 [00:00<?, ?batch/s]"
      ]
     },
     "metadata": {},
     "output_type": "display_data"
    },
    {
     "name": "stdout",
     "output_type": "stream",
     "text": [
      "Epoch 052\n",
      "TRAIN→ \"R\": RMSE=0.2681 MAE=0.2038 R2=0.1558 | \"B\": Acc=0.3237 Prec=0.2776 Rec=0.8744 F1=0.4214 AUROC=0.4736\n",
      "VALID→ \"R\": RMSE=0.2817 MAE=0.1907 R2=0.0504 | \"B\": Acc=0.2946 Prec=0.2947 Rec=0.9980 F1=0.4550 AUROC=0.4049\n"
     ]
    },
    {
     "data": {
      "application/vnd.jupyter.widget-view+json": {
       "model_id": "46e4e07de77348caa744c39964cd46bf",
       "version_major": 2,
       "version_minor": 0
      },
      "text/plain": [
       "Epoch 53:   0%|          | 0/60 [00:00<?, ?batch/s]"
      ]
     },
     "metadata": {},
     "output_type": "display_data"
    },
    {
     "name": "stdout",
     "output_type": "stream",
     "text": [
      "Epoch 053\n",
      "TRAIN→ \"R\": RMSE=0.2675 MAE=0.2033 R2=0.1596 | \"B\": Acc=0.3237 Prec=0.2773 Rec=0.8729 F1=0.4209 AUROC=0.4729\n",
      "VALID→ \"R\": RMSE=0.2806 MAE=0.1902 R2=0.0572 | \"B\": Acc=0.2945 Prec=0.2947 Rec=0.9979 F1=0.4550 AUROC=0.4023\n"
     ]
    },
    {
     "data": {
      "application/vnd.jupyter.widget-view+json": {
       "model_id": "ff24cdd0677f49a48fd68a497b2b6d62",
       "version_major": 2,
       "version_minor": 0
      },
      "text/plain": [
       "Epoch 54:   0%|          | 0/60 [00:00<?, ?batch/s]"
      ]
     },
     "metadata": {},
     "output_type": "display_data"
    },
    {
     "name": "stdout",
     "output_type": "stream",
     "text": [
      "Epoch 054\n",
      "TRAIN→ \"R\": RMSE=0.2669 MAE=0.2029 R2=0.1634 | \"B\": Acc=0.3220 Prec=0.2774 Rec=0.8769 F1=0.4215 AUROC=0.4724\n",
      "VALID→ \"R\": RMSE=0.2801 MAE=0.1899 R2=0.0611 | \"B\": Acc=0.2945 Prec=0.2947 Rec=0.9977 F1=0.4549 AUROC=0.4023\n"
     ]
    },
    {
     "data": {
      "application/vnd.jupyter.widget-view+json": {
       "model_id": "b6d2aa276a904e428de853af2b7f8554",
       "version_major": 2,
       "version_minor": 0
      },
      "text/plain": [
       "Epoch 55:   0%|          | 0/60 [00:00<?, ?batch/s]"
      ]
     },
     "metadata": {},
     "output_type": "display_data"
    },
    {
     "name": "stdout",
     "output_type": "stream",
     "text": [
      "Epoch 055\n",
      "TRAIN→ \"R\": RMSE=0.2664 MAE=0.2025 R2=0.1667 | \"B\": Acc=0.3216 Prec=0.2772 Rec=0.8766 F1=0.4212 AUROC=0.4717\n",
      "VALID→ \"R\": RMSE=0.2792 MAE=0.1895 R2=0.0671 | \"B\": Acc=0.2944 Prec=0.2946 Rec=0.9973 F1=0.4548 AUROC=0.3999\n"
     ]
    },
    {
     "data": {
      "application/vnd.jupyter.widget-view+json": {
       "model_id": "2ca3abf8e4444359bcc7191211eedb89",
       "version_major": 2,
       "version_minor": 0
      },
      "text/plain": [
       "Epoch 56:   0%|          | 0/60 [00:00<?, ?batch/s]"
      ]
     },
     "metadata": {},
     "output_type": "display_data"
    },
    {
     "name": "stdout",
     "output_type": "stream",
     "text": [
      "Epoch 056\n",
      "TRAIN→ \"R\": RMSE=0.2658 MAE=0.2021 R2=0.1702 | \"B\": Acc=0.3209 Prec=0.2770 Rec=0.8767 F1=0.4210 AUROC=0.4707\n",
      "VALID→ \"R\": RMSE=0.2784 MAE=0.1890 R2=0.0722 | \"B\": Acc=0.2944 Prec=0.2946 Rec=0.9973 F1=0.4548 AUROC=0.3988\n"
     ]
    },
    {
     "data": {
      "application/vnd.jupyter.widget-view+json": {
       "model_id": "827d65eb5942474a89e8a07970e950fc",
       "version_major": 2,
       "version_minor": 0
      },
      "text/plain": [
       "Epoch 57:   0%|          | 0/60 [00:00<?, ?batch/s]"
      ]
     },
     "metadata": {},
     "output_type": "display_data"
    },
    {
     "name": "stdout",
     "output_type": "stream",
     "text": [
      "Epoch 057\n",
      "TRAIN→ \"R\": RMSE=0.2652 MAE=0.2018 R2=0.1736 | \"B\": Acc=0.3203 Prec=0.2771 Rec=0.8786 F1=0.4213 AUROC=0.4710\n",
      "VALID→ \"R\": RMSE=0.2777 MAE=0.1887 R2=0.0768 | \"B\": Acc=0.2943 Prec=0.2945 Rec=0.9970 F1=0.4547 AUROC=0.3968\n"
     ]
    },
    {
     "data": {
      "application/vnd.jupyter.widget-view+json": {
       "model_id": "fa3268895f3248aa945406551b39967e",
       "version_major": 2,
       "version_minor": 0
      },
      "text/plain": [
       "Epoch 58:   0%|          | 0/60 [00:00<?, ?batch/s]"
      ]
     },
     "metadata": {},
     "output_type": "display_data"
    },
    {
     "name": "stdout",
     "output_type": "stream",
     "text": [
      "Epoch 058\n",
      "TRAIN→ \"R\": RMSE=0.2647 MAE=0.2014 R2=0.1767 | \"B\": Acc=0.3198 Prec=0.2768 Rec=0.8774 F1=0.4208 AUROC=0.4698\n",
      "VALID→ \"R\": RMSE=0.2770 MAE=0.1883 R2=0.0813 | \"B\": Acc=0.2942 Prec=0.2945 Rec=0.9968 F1=0.4546 AUROC=0.3946\n"
     ]
    },
    {
     "data": {
      "application/vnd.jupyter.widget-view+json": {
       "model_id": "f56bf8ce71254939ae43a108822152e9",
       "version_major": 2,
       "version_minor": 0
      },
      "text/plain": [
       "Epoch 59:   0%|          | 0/60 [00:00<?, ?batch/s]"
      ]
     },
     "metadata": {},
     "output_type": "display_data"
    },
    {
     "name": "stdout",
     "output_type": "stream",
     "text": [
      "Epoch 059\n",
      "TRAIN→ \"R\": RMSE=0.2643 MAE=0.2010 R2=0.1798 | \"B\": Acc=0.3195 Prec=0.2767 Rec=0.8777 F1=0.4208 AUROC=0.4685\n",
      "VALID→ \"R\": RMSE=0.2762 MAE=0.1879 R2=0.0867 | \"B\": Acc=0.2941 Prec=0.2944 Rec=0.9965 F1=0.4545 AUROC=0.3925\n"
     ]
    },
    {
     "data": {
      "application/vnd.jupyter.widget-view+json": {
       "model_id": "df084a67e51e4f25818071d1d87e7371",
       "version_major": 2,
       "version_minor": 0
      },
      "text/plain": [
       "Epoch 60:   0%|          | 0/60 [00:00<?, ?batch/s]"
      ]
     },
     "metadata": {},
     "output_type": "display_data"
    },
    {
     "name": "stdout",
     "output_type": "stream",
     "text": [
      "Epoch 060\n",
      "TRAIN→ \"R\": RMSE=0.2638 MAE=0.2008 R2=0.1824 | \"B\": Acc=0.3202 Prec=0.2768 Rec=0.8766 F1=0.4207 AUROC=0.4682\n",
      "VALID→ \"R\": RMSE=0.2756 MAE=0.1876 R2=0.0906 | \"B\": Acc=0.2941 Prec=0.2943 Rec=0.9961 F1=0.4544 AUROC=0.3919\n"
     ]
    },
    {
     "data": {
      "application/vnd.jupyter.widget-view+json": {
       "model_id": "f08ac77ece9d4956aca5d4f717350473",
       "version_major": 2,
       "version_minor": 0
      },
      "text/plain": [
       "Epoch 61:   0%|          | 0/60 [00:00<?, ?batch/s]"
      ]
     },
     "metadata": {},
     "output_type": "display_data"
    },
    {
     "name": "stdout",
     "output_type": "stream",
     "text": [
      "Epoch 061\n",
      "TRAIN→ \"R\": RMSE=0.2635 MAE=0.2005 R2=0.1844 | \"B\": Acc=0.3202 Prec=0.2767 Rec=0.8757 F1=0.4205 AUROC=0.4687\n",
      "VALID→ \"R\": RMSE=0.2746 MAE=0.1873 R2=0.0973 | \"B\": Acc=0.2940 Prec=0.2943 Rec=0.9959 F1=0.4543 AUROC=0.3912\n"
     ]
    },
    {
     "data": {
      "application/vnd.jupyter.widget-view+json": {
       "model_id": "f274e213dcfe42299eb594dc7c22f86b",
       "version_major": 2,
       "version_minor": 0
      },
      "text/plain": [
       "Epoch 62:   0%|          | 0/60 [00:00<?, ?batch/s]"
      ]
     },
     "metadata": {},
     "output_type": "display_data"
    },
    {
     "name": "stdout",
     "output_type": "stream",
     "text": [
      "Epoch 062\n",
      "TRAIN→ \"R\": RMSE=0.2631 MAE=0.2003 R2=0.1871 | \"B\": Acc=0.3196 Prec=0.2766 Rec=0.8766 F1=0.4205 AUROC=0.4686\n",
      "VALID→ \"R\": RMSE=0.2742 MAE=0.1870 R2=0.1000 | \"B\": Acc=0.2940 Prec=0.2943 Rec=0.9959 F1=0.4543 AUROC=0.3928\n"
     ]
    },
    {
     "data": {
      "application/vnd.jupyter.widget-view+json": {
       "model_id": "c442315bfa2f46c3b978024f57e795c7",
       "version_major": 2,
       "version_minor": 0
      },
      "text/plain": [
       "Epoch 63:   0%|          | 0/60 [00:00<?, ?batch/s]"
      ]
     },
     "metadata": {},
     "output_type": "display_data"
    },
    {
     "name": "stdout",
     "output_type": "stream",
     "text": [
      "Epoch 063\n",
      "TRAIN→ \"R\": RMSE=0.2628 MAE=0.2000 R2=0.1890 | \"B\": Acc=0.3193 Prec=0.2767 Rec=0.8777 F1=0.4207 AUROC=0.4682\n",
      "VALID→ \"R\": RMSE=0.2737 MAE=0.1868 R2=0.1033 | \"B\": Acc=0.2939 Prec=0.2942 Rec=0.9955 F1=0.4542 AUROC=0.3924\n"
     ]
    },
    {
     "data": {
      "application/vnd.jupyter.widget-view+json": {
       "model_id": "9b670b86dbc84a2b9da7178a20d4159d",
       "version_major": 2,
       "version_minor": 0
      },
      "text/plain": [
       "Epoch 64:   0%|          | 0/60 [00:00<?, ?batch/s]"
      ]
     },
     "metadata": {},
     "output_type": "display_data"
    },
    {
     "name": "stdout",
     "output_type": "stream",
     "text": [
      "Epoch 064\n",
      "TRAIN→ \"R\": RMSE=0.2625 MAE=0.1998 R2=0.1904 | \"B\": Acc=0.3197 Prec=0.2766 Rec=0.8765 F1=0.4205 AUROC=0.4684\n",
      "VALID→ \"R\": RMSE=0.2730 MAE=0.1865 R2=0.1081 | \"B\": Acc=0.2938 Prec=0.2942 Rec=0.9952 F1=0.4541 AUROC=0.3924\n"
     ]
    },
    {
     "data": {
      "application/vnd.jupyter.widget-view+json": {
       "model_id": "47f6cee3735e4618a43e9d3e6fd708de",
       "version_major": 2,
       "version_minor": 0
      },
      "text/plain": [
       "Epoch 65:   0%|          | 0/60 [00:00<?, ?batch/s]"
      ]
     },
     "metadata": {},
     "output_type": "display_data"
    },
    {
     "name": "stdout",
     "output_type": "stream",
     "text": [
      "Epoch 065\n",
      "TRAIN→ \"R\": RMSE=0.2622 MAE=0.1996 R2=0.1925 | \"B\": Acc=0.3195 Prec=0.2768 Rec=0.8783 F1=0.4209 AUROC=0.4684\n",
      "VALID→ \"R\": RMSE=0.2727 MAE=0.1863 R2=0.1100 | \"B\": Acc=0.2939 Prec=0.2942 Rec=0.9954 F1=0.4542 AUROC=0.3941\n"
     ]
    },
    {
     "data": {
      "application/vnd.jupyter.widget-view+json": {
       "model_id": "e8a3e6cc243a4b228226238c2f82025d",
       "version_major": 2,
       "version_minor": 0
      },
      "text/plain": [
       "Epoch 66:   0%|          | 0/60 [00:00<?, ?batch/s]"
      ]
     },
     "metadata": {},
     "output_type": "display_data"
    },
    {
     "name": "stdout",
     "output_type": "stream",
     "text": [
      "Epoch 066\n",
      "TRAIN→ \"R\": RMSE=0.2620 MAE=0.1993 R2=0.1938 | \"B\": Acc=0.3186 Prec=0.2765 Rec=0.8782 F1=0.4206 AUROC=0.4674\n",
      "VALID→ \"R\": RMSE=0.2719 MAE=0.1860 R2=0.1151 | \"B\": Acc=0.2939 Prec=0.2942 Rec=0.9955 F1=0.4542 AUROC=0.3940\n"
     ]
    },
    {
     "data": {
      "application/vnd.jupyter.widget-view+json": {
       "model_id": "ca21d4fb82ae484f87918bb1721e93e3",
       "version_major": 2,
       "version_minor": 0
      },
      "text/plain": [
       "Epoch 67:   0%|          | 0/60 [00:00<?, ?batch/s]"
      ]
     },
     "metadata": {},
     "output_type": "display_data"
    },
    {
     "name": "stdout",
     "output_type": "stream",
     "text": [
      "Epoch 067\n",
      "TRAIN→ \"R\": RMSE=0.2617 MAE=0.1991 R2=0.1957 | \"B\": Acc=0.3190 Prec=0.2769 Rec=0.8798 F1=0.4212 AUROC=0.4683\n",
      "VALID→ \"R\": RMSE=0.2711 MAE=0.1858 R2=0.1204 | \"B\": Acc=0.2937 Prec=0.2941 Rec=0.9949 F1=0.4540 AUROC=0.3923\n"
     ]
    },
    {
     "data": {
      "application/vnd.jupyter.widget-view+json": {
       "model_id": "cd68323060454d00a5e6bc4dcfc0c2ef",
       "version_major": 2,
       "version_minor": 0
      },
      "text/plain": [
       "Epoch 68:   0%|          | 0/60 [00:00<?, ?batch/s]"
      ]
     },
     "metadata": {},
     "output_type": "display_data"
    },
    {
     "name": "stdout",
     "output_type": "stream",
     "text": [
      "Epoch 068\n",
      "TRAIN→ \"R\": RMSE=0.2614 MAE=0.1988 R2=0.1975 | \"B\": Acc=0.3190 Prec=0.2766 Rec=0.8779 F1=0.4206 AUROC=0.4679\n",
      "VALID→ \"R\": RMSE=0.2703 MAE=0.1856 R2=0.1252 | \"B\": Acc=0.2938 Prec=0.2941 Rec=0.9950 F1=0.4540 AUROC=0.3942\n"
     ]
    },
    {
     "data": {
      "application/vnd.jupyter.widget-view+json": {
       "model_id": "d54c59f4d40d4cfc8e26e30fe7c18699",
       "version_major": 2,
       "version_minor": 0
      },
      "text/plain": [
       "Epoch 69:   0%|          | 0/60 [00:00<?, ?batch/s]"
      ]
     },
     "metadata": {},
     "output_type": "display_data"
    },
    {
     "name": "stdout",
     "output_type": "stream",
     "text": [
      "Epoch 069\n",
      "TRAIN→ \"R\": RMSE=0.2611 MAE=0.1986 R2=0.1993 | \"B\": Acc=0.3185 Prec=0.2767 Rec=0.8794 F1=0.4209 AUROC=0.4683\n",
      "VALID→ \"R\": RMSE=0.2698 MAE=0.1854 R2=0.1283 | \"B\": Acc=0.2937 Prec=0.2941 Rec=0.9949 F1=0.4540 AUROC=0.3941\n"
     ]
    },
    {
     "data": {
      "application/vnd.jupyter.widget-view+json": {
       "model_id": "07c4a74313da4d5c915fa9b66b4e41e6",
       "version_major": 2,
       "version_minor": 0
      },
      "text/plain": [
       "Epoch 70:   0%|          | 0/60 [00:00<?, ?batch/s]"
      ]
     },
     "metadata": {},
     "output_type": "display_data"
    },
    {
     "name": "stdout",
     "output_type": "stream",
     "text": [
      "Epoch 070\n",
      "TRAIN→ \"R\": RMSE=0.2608 MAE=0.1982 R2=0.2011 | \"B\": Acc=0.3184 Prec=0.2766 Rec=0.8794 F1=0.4209 AUROC=0.4681\n",
      "VALID→ \"R\": RMSE=0.2689 MAE=0.1852 R2=0.1342 | \"B\": Acc=0.2937 Prec=0.2941 Rec=0.9948 F1=0.4539 AUROC=0.3944\n"
     ]
    },
    {
     "data": {
      "application/vnd.jupyter.widget-view+json": {
       "model_id": "c4771f00dca644a29eee257b901fa759",
       "version_major": 2,
       "version_minor": 0
      },
      "text/plain": [
       "Epoch 71:   0%|          | 0/60 [00:00<?, ?batch/s]"
      ]
     },
     "metadata": {},
     "output_type": "display_data"
    },
    {
     "name": "stdout",
     "output_type": "stream",
     "text": [
      "Epoch 071\n",
      "TRAIN→ \"R\": RMSE=0.2605 MAE=0.1982 R2=0.2028 | \"B\": Acc=0.3189 Prec=0.2770 Rec=0.8808 F1=0.4215 AUROC=0.4693\n",
      "VALID→ \"R\": RMSE=0.2684 MAE=0.1850 R2=0.1378 | \"B\": Acc=0.2937 Prec=0.2940 Rec=0.9945 F1=0.4539 AUROC=0.3948\n"
     ]
    },
    {
     "data": {
      "application/vnd.jupyter.widget-view+json": {
       "model_id": "7f3cbbb7a3514513a4fefbe48b651b45",
       "version_major": 2,
       "version_minor": 0
      },
      "text/plain": [
       "Epoch 72:   0%|          | 0/60 [00:00<?, ?batch/s]"
      ]
     },
     "metadata": {},
     "output_type": "display_data"
    },
    {
     "name": "stdout",
     "output_type": "stream",
     "text": [
      "Epoch 072\n",
      "TRAIN→ \"R\": RMSE=0.2604 MAE=0.1981 R2=0.2035 | \"B\": Acc=0.3189 Prec=0.2769 Rec=0.8806 F1=0.4214 AUROC=0.4688\n",
      "VALID→ \"R\": RMSE=0.2676 MAE=0.1849 R2=0.1428 | \"B\": Acc=0.2936 Prec=0.2940 Rec=0.9944 F1=0.4538 AUROC=0.3951\n"
     ]
    },
    {
     "data": {
      "application/vnd.jupyter.widget-view+json": {
       "model_id": "189cad1ab0044305bac9b1cf24642f6d",
       "version_major": 2,
       "version_minor": 0
      },
      "text/plain": [
       "Epoch 73:   0%|          | 0/60 [00:00<?, ?batch/s]"
      ]
     },
     "metadata": {},
     "output_type": "display_data"
    },
    {
     "name": "stdout",
     "output_type": "stream",
     "text": [
      "Epoch 073\n",
      "TRAIN→ \"R\": RMSE=0.2601 MAE=0.1979 R2=0.2053 | \"B\": Acc=0.3188 Prec=0.2769 Rec=0.8805 F1=0.4213 AUROC=0.4683\n",
      "VALID→ \"R\": RMSE=0.2669 MAE=0.1848 R2=0.1475 | \"B\": Acc=0.2935 Prec=0.2939 Rec=0.9940 F1=0.4537 AUROC=0.3946\n"
     ]
    },
    {
     "data": {
      "application/vnd.jupyter.widget-view+json": {
       "model_id": "d17286561dd24b12b0eb0689ddbdea53",
       "version_major": 2,
       "version_minor": 0
      },
      "text/plain": [
       "Epoch 74:   0%|          | 0/60 [00:00<?, ?batch/s]"
      ]
     },
     "metadata": {},
     "output_type": "display_data"
    },
    {
     "name": "stdout",
     "output_type": "stream",
     "text": [
      "Epoch 074\n",
      "TRAIN→ \"R\": RMSE=0.2599 MAE=0.1979 R2=0.2064 | \"B\": Acc=0.3192 Prec=0.2769 Rec=0.8792 F1=0.4211 AUROC=0.4693\n",
      "VALID→ \"R\": RMSE=0.2661 MAE=0.1846 R2=0.1526 | \"B\": Acc=0.2934 Prec=0.2938 Rec=0.9936 F1=0.4535 AUROC=0.3931\n"
     ]
    },
    {
     "data": {
      "application/vnd.jupyter.widget-view+json": {
       "model_id": "86f3c47364c246539f5a8c5c3b79d6c5",
       "version_major": 2,
       "version_minor": 0
      },
      "text/plain": [
       "Epoch 75:   0%|          | 0/60 [00:00<?, ?batch/s]"
      ]
     },
     "metadata": {},
     "output_type": "display_data"
    },
    {
     "name": "stdout",
     "output_type": "stream",
     "text": [
      "Epoch 075\n",
      "TRAIN→ \"R\": RMSE=0.2598 MAE=0.1977 R2=0.2071 | \"B\": Acc=0.3194 Prec=0.2769 Rec=0.8793 F1=0.4212 AUROC=0.4691\n",
      "VALID→ \"R\": RMSE=0.2653 MAE=0.1845 R2=0.1573 | \"B\": Acc=0.2934 Prec=0.2938 Rec=0.9936 F1=0.4535 AUROC=0.3951\n"
     ]
    },
    {
     "data": {
      "application/vnd.jupyter.widget-view+json": {
       "model_id": "dc09cf07ceb24b15b2394f5cbef5abb6",
       "version_major": 2,
       "version_minor": 0
      },
      "text/plain": [
       "Epoch 76:   0%|          | 0/60 [00:00<?, ?batch/s]"
      ]
     },
     "metadata": {},
     "output_type": "display_data"
    },
    {
     "name": "stdout",
     "output_type": "stream",
     "text": [
      "Epoch 076\n",
      "TRAIN→ \"R\": RMSE=0.2597 MAE=0.1977 R2=0.2079 | \"B\": Acc=0.3190 Prec=0.2770 Rec=0.8808 F1=0.4215 AUROC=0.4694\n",
      "VALID→ \"R\": RMSE=0.2649 MAE=0.1845 R2=0.1599 | \"B\": Acc=0.2934 Prec=0.2938 Rec=0.9936 F1=0.4535 AUROC=0.3966\n"
     ]
    },
    {
     "data": {
      "application/vnd.jupyter.widget-view+json": {
       "model_id": "6015ce05bc07401195a4be43f503c273",
       "version_major": 2,
       "version_minor": 0
      },
      "text/plain": [
       "Epoch 77:   0%|          | 0/60 [00:00<?, ?batch/s]"
      ]
     },
     "metadata": {},
     "output_type": "display_data"
    },
    {
     "name": "stdout",
     "output_type": "stream",
     "text": [
      "Epoch 077\n",
      "TRAIN→ \"R\": RMSE=0.2595 MAE=0.1975 R2=0.2089 | \"B\": Acc=0.3196 Prec=0.2772 Rec=0.8805 F1=0.4216 AUROC=0.4701\n",
      "VALID→ \"R\": RMSE=0.2644 MAE=0.1844 R2=0.1631 | \"B\": Acc=0.2934 Prec=0.2938 Rec=0.9934 F1=0.4535 AUROC=0.3980\n"
     ]
    },
    {
     "data": {
      "application/vnd.jupyter.widget-view+json": {
       "model_id": "fc516e3f064c4c708791889f84f9f7ce",
       "version_major": 2,
       "version_minor": 0
      },
      "text/plain": [
       "Epoch 78:   0%|          | 0/60 [00:00<?, ?batch/s]"
      ]
     },
     "metadata": {},
     "output_type": "display_data"
    },
    {
     "name": "stdout",
     "output_type": "stream",
     "text": [
      "Epoch 078\n",
      "TRAIN→ \"R\": RMSE=0.2594 MAE=0.1974 R2=0.2099 | \"B\": Acc=0.3195 Prec=0.2773 Rec=0.8815 F1=0.4218 AUROC=0.4698\n",
      "VALID→ \"R\": RMSE=0.2639 MAE=0.1844 R2=0.1666 | \"B\": Acc=0.2934 Prec=0.2938 Rec=0.9934 F1=0.4535 AUROC=0.3997\n"
     ]
    },
    {
     "data": {
      "application/vnd.jupyter.widget-view+json": {
       "model_id": "1e365025d52a4353ae3721b3ba41c1ed",
       "version_major": 2,
       "version_minor": 0
      },
      "text/plain": [
       "Epoch 79:   0%|          | 0/60 [00:00<?, ?batch/s]"
      ]
     },
     "metadata": {},
     "output_type": "display_data"
    },
    {
     "name": "stdout",
     "output_type": "stream",
     "text": [
      "Epoch 079\n",
      "TRAIN→ \"R\": RMSE=0.2593 MAE=0.1975 R2=0.2105 | \"B\": Acc=0.3193 Prec=0.2772 Rec=0.8812 F1=0.4217 AUROC=0.4706\n",
      "VALID→ \"R\": RMSE=0.2636 MAE=0.1844 R2=0.1682 | \"B\": Acc=0.2933 Prec=0.2937 Rec=0.9931 F1=0.4534 AUROC=0.3996\n"
     ]
    },
    {
     "data": {
      "application/vnd.jupyter.widget-view+json": {
       "model_id": "ff319e37a304454daa5f78bb9fd3fa84",
       "version_major": 2,
       "version_minor": 0
      },
      "text/plain": [
       "Epoch 80:   0%|          | 0/60 [00:00<?, ?batch/s]"
      ]
     },
     "metadata": {},
     "output_type": "display_data"
    },
    {
     "name": "stdout",
     "output_type": "stream",
     "text": [
      "Epoch 080\n",
      "TRAIN→ \"R\": RMSE=0.2592 MAE=0.1974 R2=0.2108 | \"B\": Acc=0.3191 Prec=0.2770 Rec=0.8808 F1=0.4215 AUROC=0.4703\n",
      "VALID→ \"R\": RMSE=0.2631 MAE=0.1843 R2=0.1716 | \"B\": Acc=0.2933 Prec=0.2937 Rec=0.9931 F1=0.4534 AUROC=0.4008\n"
     ]
    },
    {
     "data": {
      "application/vnd.jupyter.widget-view+json": {
       "model_id": "f605e2ced0d24e2bbe48edac6cf70bad",
       "version_major": 2,
       "version_minor": 0
      },
      "text/plain": [
       "Epoch 81:   0%|          | 0/60 [00:00<?, ?batch/s]"
      ]
     },
     "metadata": {},
     "output_type": "display_data"
    },
    {
     "name": "stdout",
     "output_type": "stream",
     "text": [
      "Epoch 081\n",
      "TRAIN→ \"R\": RMSE=0.2591 MAE=0.1974 R2=0.2115 | \"B\": Acc=0.3195 Prec=0.2771 Rec=0.8806 F1=0.4216 AUROC=0.4706\n",
      "VALID→ \"R\": RMSE=0.2627 MAE=0.1843 R2=0.1741 | \"B\": Acc=0.2933 Prec=0.2937 Rec=0.9930 F1=0.4533 AUROC=0.4005\n"
     ]
    },
    {
     "data": {
      "application/vnd.jupyter.widget-view+json": {
       "model_id": "0392233b5db045e8967007cd3f12ffbb",
       "version_major": 2,
       "version_minor": 0
      },
      "text/plain": [
       "Epoch 82:   0%|          | 0/60 [00:00<?, ?batch/s]"
      ]
     },
     "metadata": {},
     "output_type": "display_data"
    },
    {
     "name": "stdout",
     "output_type": "stream",
     "text": [
      "Epoch 082\n",
      "TRAIN→ \"R\": RMSE=0.2591 MAE=0.1975 R2=0.2117 | \"B\": Acc=0.3195 Prec=0.2772 Rec=0.8810 F1=0.4217 AUROC=0.4696\n",
      "VALID→ \"R\": RMSE=0.2623 MAE=0.1843 R2=0.1765 | \"B\": Acc=0.2932 Prec=0.2937 Rec=0.9928 F1=0.4533 AUROC=0.4007\n"
     ]
    },
    {
     "data": {
      "application/vnd.jupyter.widget-view+json": {
       "model_id": "d942d799258a4cc4991bd9bf011c8589",
       "version_major": 2,
       "version_minor": 0
      },
      "text/plain": [
       "Epoch 83:   0%|          | 0/60 [00:00<?, ?batch/s]"
      ]
     },
     "metadata": {},
     "output_type": "display_data"
    },
    {
     "name": "stdout",
     "output_type": "stream",
     "text": [
      "Epoch 083\n",
      "TRAIN→ \"R\": RMSE=0.2590 MAE=0.1974 R2=0.2120 | \"B\": Acc=0.3195 Prec=0.2770 Rec=0.8793 F1=0.4212 AUROC=0.4699\n",
      "VALID→ \"R\": RMSE=0.2619 MAE=0.1843 R2=0.1791 | \"B\": Acc=0.2932 Prec=0.2937 Rec=0.9927 F1=0.4532 AUROC=0.3999\n"
     ]
    },
    {
     "data": {
      "application/vnd.jupyter.widget-view+json": {
       "model_id": "f5de7b18df074cfaba44e12a5588e1c5",
       "version_major": 2,
       "version_minor": 0
      },
      "text/plain": [
       "Epoch 84:   0%|          | 0/60 [00:00<?, ?batch/s]"
      ]
     },
     "metadata": {},
     "output_type": "display_data"
    },
    {
     "name": "stdout",
     "output_type": "stream",
     "text": [
      "Epoch 084\n",
      "TRAIN→ \"R\": RMSE=0.2589 MAE=0.1975 R2=0.2128 | \"B\": Acc=0.3197 Prec=0.2771 Rec=0.8802 F1=0.4216 AUROC=0.4694\n",
      "VALID→ \"R\": RMSE=0.2617 MAE=0.1843 R2=0.1804 | \"B\": Acc=0.2931 Prec=0.2936 Rec=0.9925 F1=0.4532 AUROC=0.4001\n"
     ]
    },
    {
     "data": {
      "application/vnd.jupyter.widget-view+json": {
       "model_id": "554243c4e7fc4d75a0f007fff6d08d9a",
       "version_major": 2,
       "version_minor": 0
      },
      "text/plain": [
       "Epoch 85:   0%|          | 0/60 [00:00<?, ?batch/s]"
      ]
     },
     "metadata": {},
     "output_type": "display_data"
    },
    {
     "name": "stdout",
     "output_type": "stream",
     "text": [
      "Epoch 085\n",
      "TRAIN→ \"R\": RMSE=0.2589 MAE=0.1974 R2=0.2129 | \"B\": Acc=0.3196 Prec=0.2771 Rec=0.8800 F1=0.4215 AUROC=0.4711\n",
      "VALID→ \"R\": RMSE=0.2614 MAE=0.1843 R2=0.1821 | \"B\": Acc=0.2931 Prec=0.2936 Rec=0.9924 F1=0.4531 AUROC=0.4002\n"
     ]
    },
    {
     "data": {
      "application/vnd.jupyter.widget-view+json": {
       "model_id": "784094a86f7f4f75aa0253c45679ebee",
       "version_major": 2,
       "version_minor": 0
      },
      "text/plain": [
       "Epoch 86:   0%|          | 0/60 [00:00<?, ?batch/s]"
      ]
     },
     "metadata": {},
     "output_type": "display_data"
    },
    {
     "name": "stdout",
     "output_type": "stream",
     "text": [
      "Epoch 086\n",
      "TRAIN→ \"R\": RMSE=0.2588 MAE=0.1973 R2=0.2134 | \"B\": Acc=0.3199 Prec=0.2770 Rec=0.8788 F1=0.4212 AUROC=0.4700\n",
      "VALID→ \"R\": RMSE=0.2612 MAE=0.1843 R2=0.1833 | \"B\": Acc=0.2931 Prec=0.2936 Rec=0.9923 F1=0.4531 AUROC=0.3999\n"
     ]
    },
    {
     "data": {
      "application/vnd.jupyter.widget-view+json": {
       "model_id": "c6a4b78615db4a62ad429c4a51ae4c4d",
       "version_major": 2,
       "version_minor": 0
      },
      "text/plain": [
       "Epoch 87:   0%|          | 0/60 [00:00<?, ?batch/s]"
      ]
     },
     "metadata": {},
     "output_type": "display_data"
    },
    {
     "name": "stdout",
     "output_type": "stream",
     "text": [
      "Epoch 087\n",
      "TRAIN→ \"R\": RMSE=0.2587 MAE=0.1973 R2=0.2138 | \"B\": Acc=0.3205 Prec=0.2772 Rec=0.8786 F1=0.4214 AUROC=0.4700\n",
      "VALID→ \"R\": RMSE=0.2610 MAE=0.1843 R2=0.1842 | \"B\": Acc=0.2930 Prec=0.2935 Rec=0.9921 F1=0.4530 AUROC=0.3997\n"
     ]
    },
    {
     "data": {
      "application/vnd.jupyter.widget-view+json": {
       "model_id": "d909165d4d48411d9dfc1a7e5308114d",
       "version_major": 2,
       "version_minor": 0
      },
      "text/plain": [
       "Epoch 88:   0%|          | 0/60 [00:00<?, ?batch/s]"
      ]
     },
     "metadata": {},
     "output_type": "display_data"
    },
    {
     "name": "stdout",
     "output_type": "stream",
     "text": [
      "Epoch 088\n",
      "TRAIN→ \"R\": RMSE=0.2587 MAE=0.1972 R2=0.2141 | \"B\": Acc=0.3201 Prec=0.2770 Rec=0.8783 F1=0.4212 AUROC=0.4702\n",
      "VALID→ \"R\": RMSE=0.2611 MAE=0.1843 R2=0.1838 | \"B\": Acc=0.2930 Prec=0.2936 Rec=0.9922 F1=0.4531 AUROC=0.4010\n"
     ]
    },
    {
     "data": {
      "application/vnd.jupyter.widget-view+json": {
       "model_id": "faab20091cf8441893a867af8c46efe1",
       "version_major": 2,
       "version_minor": 0
      },
      "text/plain": [
       "Epoch 89:   0%|          | 0/60 [00:00<?, ?batch/s]"
      ]
     },
     "metadata": {},
     "output_type": "display_data"
    },
    {
     "name": "stdout",
     "output_type": "stream",
     "text": [
      "Epoch 089\n",
      "TRAIN→ \"R\": RMSE=0.2586 MAE=0.1972 R2=0.2144 | \"B\": Acc=0.3203 Prec=0.2772 Rec=0.8792 F1=0.4215 AUROC=0.4703\n",
      "VALID→ \"R\": RMSE=0.2611 MAE=0.1843 R2=0.1841 | \"B\": Acc=0.2930 Prec=0.2935 Rec=0.9921 F1=0.4530 AUROC=0.4017\n"
     ]
    },
    {
     "data": {
      "application/vnd.jupyter.widget-view+json": {
       "model_id": "76a8d1ff08af4d9b8610953931593a84",
       "version_major": 2,
       "version_minor": 0
      },
      "text/plain": [
       "Epoch 90:   0%|          | 0/60 [00:00<?, ?batch/s]"
      ]
     },
     "metadata": {},
     "output_type": "display_data"
    },
    {
     "name": "stdout",
     "output_type": "stream",
     "text": [
      "Epoch 090\n",
      "TRAIN→ \"R\": RMSE=0.2586 MAE=0.1971 R2=0.2148 | \"B\": Acc=0.3204 Prec=0.2773 Rec=0.8798 F1=0.4217 AUROC=0.4711\n",
      "VALID→ \"R\": RMSE=0.2611 MAE=0.1842 R2=0.1839 | \"B\": Acc=0.2930 Prec=0.2935 Rec=0.9919 F1=0.4530 AUROC=0.4023\n",
      "Delete variables to free memory...\n"
     ]
    },
    {
     "name": "stderr",
     "output_type": "stream",
     "text": [
      "[I 2025-09-14 00:20:33,178] Trial 0 finished with value: 0.2610495984554291 and parameters: {'look_back': 30, 'DROPOUT_SHORT': 0.16443797328765586, 'DROPOUT_LONG': 0.28669890223170574, 'ATT_DROPOUT': 0.14969892363165863, 'INITIAL_LR': 3.397632783120249e-05, 'ETA_MIN': 1.6921662099700969e-06, 'WEIGHT_DECAY': 0.00038462709802545, 'CLIPNORM': 5.069274031098703}. Best is trial 0 with value: 0.2610495984554291.\n"
     ]
    },
    {
     "name": "stdout",
     "output_type": "stream",
     "text": [
      "\n",
      "▶ Trial 1 starting with:\n",
      "{'look_back': 30, 'DROPOUT_SHORT': 0.24806879039019447, 'DROPOUT_LONG': 0.26499339776072267, 'ATT_DROPOUT': 0.0734486699250516, 'INITIAL_LR': 0.0002970247060606314, 'ETA_MIN': 2.2479873660930364e-06, 'WEIGHT_DECAY': 0.0015236987134836686, 'CLIPNORM': 4.705373349051482}\n",
      "\n",
      "Build LSTM input tensors (disk-backed memmaps)...\n",
      "Inside build_lstm_tensors, using: ['rsi_14', 'minus_di_15', 'eng_adx', 'eng_atr_div', 'adx_14', 'sma_100', 'vol_spike_14', 'macd_line_12_26_9', 'sma_20']\n"
     ]
    },
    {
     "data": {
      "application/vnd.jupyter.widget-view+json": {
       "model_id": "7a6c6f35d61d490e93708f3e4bf88675",
       "version_major": 2,
       "version_minor": 0
      },
      "text/plain": [
       "Counting windows:   0%|          | 0/5400 [00:00<?, ?it/s]"
      ]
     },
     "metadata": {},
     "output_type": "display_data"
    },
    {
     "data": {
      "application/vnd.jupyter.widget-view+json": {
       "model_id": "22c7e6d794584d978543b38e71b1fef5",
       "version_major": 2,
       "version_minor": 0
      },
      "text/plain": [
       "Writing memmaps:   0%|          | 0/5400 [00:00<?, ?it/s]"
      ]
     },
     "metadata": {},
     "output_type": "display_data"
    },
    {
     "name": "stdout",
     "output_type": "stream",
     "text": [
      "Split into train/val/test by calendar day...\n",
      "Carve `end_times` into the same three splits...\n",
      "Build DataLoaders over calendar‐days...\n"
     ]
    },
    {
     "data": {
      "application/vnd.jupyter.widget-view+json": {
       "model_id": "8f9527250d8d4a36bd811b5c62ebe443",
       "version_major": 2,
       "version_minor": 0
      },
      "text/plain": [
       "Creating DayWindowDatasets:   0%|          | 0/3 [00:00<?, ?split/s]"
      ]
     },
     "metadata": {},
     "output_type": "display_data"
    },
    {
     "name": "stdout",
     "output_type": "stream",
     "text": [
      "Instantiate the stateful DualMemoryLSTM...\n",
      "Build optimizer, LR scheduler, AMP scaler, and gradient‐clip norm...\n",
      "Run the custom stateful training loop...\n"
     ]
    },
    {
     "data": {
      "image/png": "[encoded data removed]",
      "text/plain": [
       "<Figure size 660x440 with 1 Axes>"
      ]
     },
     "metadata": {},
     "output_type": "display_data"
    },
    {
     "data": {
      "application/vnd.jupyter.widget-view+json": {
       "model_id": "978d1d67f5674dbc912e8187ba64ded0",
       "version_major": 2,
       "version_minor": 0
      },
      "text/plain": [
       "Epoch 1:   0%|          | 0/60 [00:00<?, ?batch/s]"
      ]
     },
     "metadata": {},
     "output_type": "display_data"
    },
    {
     "name": "stdout",
     "output_type": "stream",
     "text": [
      "Epoch 001\n",
      "TRAIN→ \"R\": RMSE=0.2984 MAE=0.2370 R2=-0.0459 | \"B\": Acc=0.4781 Prec=0.2925 Rec=0.6015 F1=0.3936 AUROC=0.5222\n",
      "VALID→ \"R\": RMSE=0.3104 MAE=0.2080 R2=-0.1534 | \"B\": Acc=0.5869 Prec=0.3821 Rec=0.6474 F1=0.4805 AUROC=0.6500\n"
     ]
    },
    {
     "data": {
      "application/vnd.jupyter.widget-view+json": {
       "model_id": "a99d93dce11a41dc92f628291dc4bcbe",
       "version_major": 2,
       "version_minor": 0
      },
      "text/plain": [
       "Epoch 2:   0%|          | 0/60 [00:00<?, ?batch/s]"
      ]
     },
     "metadata": {},
     "output_type": "display_data"
    },
    {
     "name": "stdout",
     "output_type": "stream",
     "text": [
      "Epoch 002\n",
      "TRAIN→ \"R\": RMSE=0.2869 MAE=0.2254 R2=0.0332 | \"B\": Acc=0.5387 Prec=0.3207 Rec=0.5705 F1=0.4105 AUROC=0.5670\n",
      "VALID→ \"R\": RMSE=0.3122 MAE=0.2066 R2=-0.1670 | \"B\": Acc=0.7239 Prec=0.5784 Rec=0.2382 F1=0.3375 AUROC=0.6592\n"
     ]
    },
    {
     "data": {
      "application/vnd.jupyter.widget-view+json": {
       "model_id": "ef72ab472d3a4b22998a586ac62698a2",
       "version_major": 2,
       "version_minor": 0
      },
      "text/plain": [
       "Epoch 3:   0%|          | 0/60 [00:00<?, ?batch/s]"
      ]
     },
     "metadata": {},
     "output_type": "display_data"
    },
    {
     "name": "stdout",
     "output_type": "stream",
     "text": [
      "Epoch 003\n",
      "TRAIN→ \"R\": RMSE=0.2824 MAE=0.2186 R2=0.0633 | \"B\": Acc=0.6094 Prec=0.3476 Rec=0.4413 F1=0.3889 AUROC=0.5856\n",
      "VALID→ \"R\": RMSE=0.3030 MAE=0.2021 R2=-0.0993 | \"B\": Acc=0.7252 Prec=0.5721 Rec=0.2728 F1=0.3694 AUROC=0.6720\n"
     ]
    },
    {
     "data": {
      "application/vnd.jupyter.widget-view+json": {
       "model_id": "3fd9f8de071648e5a4e288c598452365",
       "version_major": 2,
       "version_minor": 0
      },
      "text/plain": [
       "Epoch 4:   0%|          | 0/60 [00:00<?, ?batch/s]"
      ]
     },
     "metadata": {},
     "output_type": "display_data"
    },
    {
     "name": "stdout",
     "output_type": "stream",
     "text": [
      "Epoch 004\n",
      "TRAIN→ \"R\": RMSE=0.2788 MAE=0.2152 R2=0.0872 | \"B\": Acc=0.6346 Prec=0.3703 Rec=0.4245 F1=0.3956 AUROC=0.6039\n",
      "VALID→ \"R\": RMSE=0.3019 MAE=0.2003 R2=-0.0909 | \"B\": Acc=0.7312 Prec=0.6118 Rec=0.2441 F1=0.3490 AUROC=0.6908\n"
     ]
    },
    {
     "data": {
      "application/vnd.jupyter.widget-view+json": {
       "model_id": "1cdb7de4dd5847e68e4b93ef6fcf5ec6",
       "version_major": 2,
       "version_minor": 0
      },
      "text/plain": [
       "Epoch 5:   0%|          | 0/60 [00:00<?, ?batch/s]"
      ]
     },
     "metadata": {},
     "output_type": "display_data"
    },
    {
     "name": "stdout",
     "output_type": "stream",
     "text": [
      "Epoch 005\n",
      "TRAIN→ \"R\": RMSE=0.2750 MAE=0.2132 R2=0.1120 | \"B\": Acc=0.6520 Prec=0.3915 Rec=0.4252 F1=0.4076 AUROC=0.6232\n",
      "VALID→ \"R\": RMSE=0.2923 MAE=0.1946 R2=-0.0230 | \"B\": Acc=0.7374 Prec=0.6306 Rec=0.2663 F1=0.3745 AUROC=0.7177\n"
     ]
    },
    {
     "data": {
      "application/vnd.jupyter.widget-view+json": {
       "model_id": "258cf9d891da4e2a88fbd5ac5b5f3b5a",
       "version_major": 2,
       "version_minor": 0
      },
      "text/plain": [
       "Epoch 6:   0%|          | 0/60 [00:00<?, ?batch/s]"
      ]
     },
     "metadata": {},
     "output_type": "display_data"
    },
    {
     "name": "stdout",
     "output_type": "stream",
     "text": [
      "Epoch 006\n",
      "TRAIN→ \"R\": RMSE=0.2681 MAE=0.2073 R2=0.1560 | \"B\": Acc=0.6720 Prec=0.4206 Rec=0.4358 F1=0.4281 AUROC=0.6481\n",
      "VALID→ \"R\": RMSE=0.2589 MAE=0.1897 R2=0.1977 | \"B\": Acc=0.7167 Prec=0.5193 Rec=0.5388 F1=0.5289 AUROC=0.7368\n"
     ]
    },
    {
     "data": {
      "application/vnd.jupyter.widget-view+json": {
       "model_id": "cb6f4f125c3043fc96e87320af9be247",
       "version_major": 2,
       "version_minor": 0
      },
      "text/plain": [
       "Epoch 7:   0%|          | 0/60 [00:00<?, ?batch/s]"
      ]
     },
     "metadata": {},
     "output_type": "display_data"
    },
    {
     "name": "stdout",
     "output_type": "stream",
     "text": [
      "Epoch 007\n",
      "TRAIN→ \"R\": RMSE=0.2573 MAE=0.1963 R2=0.2222 | \"B\": Acc=0.6959 Prec=0.4609 Rec=0.4702 F1=0.4655 AUROC=0.6861\n",
      "VALID→ \"R\": RMSE=0.2661 MAE=0.2154 R2=0.1523 | \"B\": Acc=0.6358 Prec=0.4336 Rec=0.7645 F1=0.5533 AUROC=0.7455\n"
     ]
    },
    {
     "data": {
      "application/vnd.jupyter.widget-view+json": {
       "model_id": "a81b1d09208b471e8c9d9252e9dd15b0",
       "version_major": 2,
       "version_minor": 0
      },
      "text/plain": [
       "Epoch 8:   0%|          | 0/60 [00:00<?, ?batch/s]"
      ]
     },
     "metadata": {},
     "output_type": "display_data"
    },
    {
     "name": "stdout",
     "output_type": "stream",
     "text": [
      "Epoch 008\n",
      "TRAIN→ \"R\": RMSE=0.2582 MAE=0.1988 R2=0.2172 | \"B\": Acc=0.6913 Prec=0.4567 Rec=0.5077 F1=0.4809 AUROC=0.6927\n",
      "VALID→ \"R\": RMSE=0.2533 MAE=0.1938 R2=0.2321 | \"B\": Acc=0.6991 Prec=0.4923 Rec=0.6322 F1=0.5535 AUROC=0.7467\n"
     ]
    },
    {
     "data": {
      "application/vnd.jupyter.widget-view+json": {
       "model_id": "22a941d642fc475aad0a03493bc748bd",
       "version_major": 2,
       "version_minor": 0
      },
      "text/plain": [
       "Epoch 9:   0%|          | 0/60 [00:00<?, ?batch/s]"
      ]
     },
     "metadata": {},
     "output_type": "display_data"
    },
    {
     "name": "stdout",
     "output_type": "stream",
     "text": [
      "Epoch 009\n",
      "TRAIN→ \"R\": RMSE=0.2593 MAE=0.2004 R2=0.2103 | \"B\": Acc=0.6932 Prec=0.4581 Rec=0.4884 F1=0.4728 AUROC=0.6892\n",
      "VALID→ \"R\": RMSE=0.2526 MAE=0.1899 R2=0.2359 | \"B\": Acc=0.7170 Prec=0.5182 Rec=0.5821 F1=0.5483 AUROC=0.7489\n"
     ]
    },
    {
     "data": {
      "application/vnd.jupyter.widget-view+json": {
       "model_id": "9a1c286fcd2f4199b575384a02aa3497",
       "version_major": 2,
       "version_minor": 0
      },
      "text/plain": [
       "Epoch 10:   0%|          | 0/60 [00:00<?, ?batch/s]"
      ]
     },
     "metadata": {},
     "output_type": "display_data"
    },
    {
     "name": "stdout",
     "output_type": "stream",
     "text": [
      "Epoch 010\n",
      "TRAIN→ \"R\": RMSE=0.2555 MAE=0.1957 R2=0.2334 | \"B\": Acc=0.7082 Prec=0.4814 Rec=0.4685 F1=0.4748 AUROC=0.7013\n",
      "VALID→ \"R\": RMSE=0.2534 MAE=0.1980 R2=0.2312 | \"B\": Acc=0.6999 Prec=0.4934 Rec=0.6390 F1=0.5569 AUROC=0.7487\n"
     ]
    },
    {
     "data": {
      "application/vnd.jupyter.widget-view+json": {
       "model_id": "0c3af71b529a431f82cc2f63bff0acd9",
       "version_major": 2,
       "version_minor": 0
      },
      "text/plain": [
       "Epoch 11:   0%|          | 0/60 [00:00<?, ?batch/s]"
      ]
     },
     "metadata": {},
     "output_type": "display_data"
    },
    {
     "name": "stdout",
     "output_type": "stream",
     "text": [
      "Epoch 011\n",
      "TRAIN→ \"R\": RMSE=0.2589 MAE=0.1995 R2=0.2129 | \"B\": Acc=0.7123 Prec=0.4876 Rec=0.4232 F1=0.4531 AUROC=0.6918\n",
      "VALID→ \"R\": RMSE=0.2533 MAE=0.1920 R2=0.2320 | \"B\": Acc=0.7262 Prec=0.5354 Rec=0.5461 F1=0.5407 AUROC=0.7499\n"
     ]
    },
    {
     "data": {
      "application/vnd.jupyter.widget-view+json": {
       "model_id": "25b47e1637474ba0aab0f141b2101ab7",
       "version_major": 2,
       "version_minor": 0
      },
      "text/plain": [
       "Epoch 12:   0%|          | 0/60 [00:00<?, ?batch/s]"
      ]
     },
     "metadata": {},
     "output_type": "display_data"
    },
    {
     "name": "stdout",
     "output_type": "stream",
     "text": [
      "Epoch 012\n",
      "TRAIN→ \"R\": RMSE=0.2579 MAE=0.2005 R2=0.2189 | \"B\": Acc=0.7135 Prec=0.4902 Rec=0.4313 F1=0.4589 AUROC=0.6945\n",
      "VALID→ \"R\": RMSE=0.2670 MAE=0.1828 R2=0.1463 | \"B\": Acc=0.7468 Prec=0.6658 Rec=0.2848 F1=0.3990 AUROC=0.7505\n"
     ]
    },
    {
     "data": {
      "application/vnd.jupyter.widget-view+json": {
       "model_id": "411ab7b648d34b2495914a1eeeebb3b7",
       "version_major": 2,
       "version_minor": 0
      },
      "text/plain": [
       "Epoch 13:   0%|          | 0/60 [00:00<?, ?batch/s]"
      ]
     },
     "metadata": {},
     "output_type": "display_data"
    },
    {
     "name": "stdout",
     "output_type": "stream",
     "text": [
      "Epoch 013\n",
      "TRAIN→ \"R\": RMSE=0.2560 MAE=0.1966 R2=0.2300 | \"B\": Acc=0.7212 Prec=0.5062 Rec=0.4153 F1=0.4563 AUROC=0.7007\n",
      "VALID→ \"R\": RMSE=0.2590 MAE=0.1818 R2=0.1970 | \"B\": Acc=0.7478 Prec=0.6322 Rec=0.3473 F1=0.4484 AUROC=0.7509\n"
     ]
    },
    {
     "data": {
      "application/vnd.jupyter.widget-view+json": {
       "model_id": "5c4ec87887af447facf7f5bce60360b0",
       "version_major": 2,
       "version_minor": 0
      },
      "text/plain": [
       "Epoch 14:   0%|          | 0/60 [00:00<?, ?batch/s]"
      ]
     },
     "metadata": {},
     "output_type": "display_data"
    },
    {
     "name": "stdout",
     "output_type": "stream",
     "text": [
      "Epoch 014\n",
      "TRAIN→ \"R\": RMSE=0.2559 MAE=0.1966 R2=0.2308 | \"B\": Acc=0.7282 Prec=0.5238 Rec=0.3830 F1=0.4425 AUROC=0.7008\n",
      "VALID→ \"R\": RMSE=0.2567 MAE=0.1824 R2=0.2115 | \"B\": Acc=0.7478 Prec=0.6247 Rec=0.3642 F1=0.4601 AUROC=0.7508\n"
     ]
    },
    {
     "data": {
      "application/vnd.jupyter.widget-view+json": {
       "model_id": "ae6cd1bf3b1244709d0d7b76352470af",
       "version_major": 2,
       "version_minor": 0
      },
      "text/plain": [
       "Epoch 15:   0%|          | 0/60 [00:00<?, ?batch/s]"
      ]
     },
     "metadata": {},
     "output_type": "display_data"
    },
    {
     "name": "stdout",
     "output_type": "stream",
     "text": [
      "Epoch 015\n",
      "TRAIN→ \"R\": RMSE=0.2561 MAE=0.1982 R2=0.2297 | \"B\": Acc=0.7273 Prec=0.5210 Rec=0.3927 F1=0.4479 AUROC=0.7012\n",
      "VALID→ \"R\": RMSE=0.2579 MAE=0.1819 R2=0.2036 | \"B\": Acc=0.7480 Prec=0.6407 Rec=0.3326 F1=0.4379 AUROC=0.7507\n",
      "Early stopping at epoch 15\n",
      "Delete variables to free memory...\n"
     ]
    },
    {
     "name": "stderr",
     "output_type": "stream",
     "text": [
      "[I 2025-09-14 00:32:20,164] Trial 1 finished with value: 0.25264817476272583 and parameters: {'look_back': 30, 'DROPOUT_SHORT': 0.24806879039019447, 'DROPOUT_LONG': 0.26499339776072267, 'ATT_DROPOUT': 0.0734486699250516, 'INITIAL_LR': 0.0002970247060606314, 'ETA_MIN': 2.2479873660930364e-06, 'WEIGHT_DECAY': 0.0015236987134836686, 'CLIPNORM': 4.705373349051482}. Best is trial 1 with value: 0.25264817476272583.\n"
     ]
    },
    {
     "name": "stdout",
     "output_type": "stream",
     "text": [
      "\n",
      "▶ Trial 2 starting with:\n",
      "{'look_back': 120, 'DROPOUT_SHORT': 0.23692976369526964, 'DROPOUT_LONG': 0.16354695065301827, 'ATT_DROPOUT': 0.27010157688308367, 'INITIAL_LR': 0.0003037559303138773, 'ETA_MIN': 1.8196388345522165e-06, 'WEIGHT_DECAY': 0.004362570500682019, 'CLIPNORM': 7.43717625926685}\n",
      "\n",
      "Build LSTM input tensors (disk-backed memmaps)...\n",
      "Inside build_lstm_tensors, using: ['rsi_14', 'minus_di_15', 'eng_adx', 'eng_atr_div', 'adx_14', 'sma_100', 'vol_spike_14', 'macd_line_12_26_9', 'sma_20']\n"
     ]
    },
    {
     "data": {
      "application/vnd.jupyter.widget-view+json": {
       "model_id": "91fedcfaac8c401999573834362cfeb5",
       "version_major": 2,
       "version_minor": 0
      },
      "text/plain": [
       "Counting windows:   0%|          | 0/5400 [00:00<?, ?it/s]"
      ]
     },
     "metadata": {},
     "output_type": "display_data"
    },
    {
     "data": {
      "application/vnd.jupyter.widget-view+json": {
       "model_id": "bf1502afb3464d79ada06674ff531789",
       "version_major": 2,
       "version_minor": 0
      },
      "text/plain": [
       "Writing memmaps:   0%|          | 0/5400 [00:00<?, ?it/s]"
      ]
     },
     "metadata": {},
     "output_type": "display_data"
    },
    {
     "name": "stdout",
     "output_type": "stream",
     "text": [
      "Split into train/val/test by calendar day...\n",
      "Carve `end_times` into the same three splits...\n",
      "Build DataLoaders over calendar‐days...\n"
     ]
    },
    {
     "data": {
      "application/vnd.jupyter.widget-view+json": {
       "model_id": "aeb0c5f7a1a649a580d9cd18e2dd3bdf",
       "version_major": 2,
       "version_minor": 0
      },
      "text/plain": [
       "Creating DayWindowDatasets:   0%|          | 0/3 [00:00<?, ?split/s]"
      ]
     },
     "metadata": {},
     "output_type": "display_data"
    },
    {
     "name": "stdout",
     "output_type": "stream",
     "text": [
      "Instantiate the stateful DualMemoryLSTM...\n",
      "Build optimizer, LR scheduler, AMP scaler, and gradient‐clip norm...\n",
      "Run the custom stateful training loop...\n"
     ]
    },
    {
     "data": {
      "image/png": "[encoded data removed]",
      "text/plain": [
       "<Figure size 660x440 with 1 Axes>"
      ]
     },
     "metadata": {},
     "output_type": "display_data"
    },
    {
     "data": {
      "application/vnd.jupyter.widget-view+json": {
       "model_id": "7b450ee8029c47f7bca3ace49e526923",
       "version_major": 2,
       "version_minor": 0
      },
      "text/plain": [
       "Epoch 1:   0%|          | 0/60 [00:00<?, ?batch/s]"
      ]
     },
     "metadata": {},
     "output_type": "display_data"
    },
    {
     "name": "stdout",
     "output_type": "stream",
     "text": [
      "Epoch 001\n",
      "TRAIN→ \"R\": RMSE=0.2989 MAE=0.2357 R2=-0.0628 | \"B\": Acc=0.3909 Prec=0.2506 Rec=0.6292 F1=0.3584 AUROC=0.4520\n",
      "VALID→ \"R\": RMSE=0.3012 MAE=0.2025 R2=-0.1313 | \"B\": Acc=0.2735 Prec=0.2735 Rec=1.0000 F1=0.4295 AUROC=0.6110\n"
     ]
    },
    {
     "data": {
      "application/vnd.jupyter.widget-view+json": {
       "model_id": "6c25f549d2ef48aeb47a5803fd200832",
       "version_major": 2,
       "version_minor": 0
      },
      "text/plain": [
       "Epoch 2:   0%|          | 0/60 [00:00<?, ?batch/s]"
      ]
     },
     "metadata": {},
     "output_type": "display_data"
    },
    {
     "name": "stdout",
     "output_type": "stream",
     "text": [
      "Epoch 002\n",
      "TRAIN→ \"R\": RMSE=0.2890 MAE=0.2290 R2=0.0063 | \"B\": Acc=0.3192 Prec=0.2705 Rec=0.8941 F1=0.4153 AUROC=0.4999\n",
      "VALID→ \"R\": RMSE=0.2895 MAE=0.1964 R2=-0.0450 | \"B\": Acc=0.2735 Prec=0.2735 Rec=1.0000 F1=0.4295 AUROC=0.4409\n"
     ]
    },
    {
     "data": {
      "application/vnd.jupyter.widget-view+json": {
       "model_id": "6a14557f88aa4e50ad5860ab405417e7",
       "version_major": 2,
       "version_minor": 0
      },
      "text/plain": [
       "Epoch 3:   0%|          | 0/60 [00:00<?, ?batch/s]"
      ]
     },
     "metadata": {},
     "output_type": "display_data"
    },
    {
     "name": "stdout",
     "output_type": "stream",
     "text": [
      "Epoch 003\n",
      "TRAIN→ \"R\": RMSE=0.2806 MAE=0.2176 R2=0.0631 | \"B\": Acc=0.3431 Prec=0.2665 Rec=0.8158 F1=0.4018 AUROC=0.4809\n",
      "VALID→ \"R\": RMSE=0.2868 MAE=0.1931 R2=-0.0257 | \"B\": Acc=0.2735 Prec=0.2735 Rec=1.0000 F1=0.4295 AUROC=0.4352\n"
     ]
    },
    {
     "data": {
      "application/vnd.jupyter.widget-view+json": {
       "model_id": "f9c14c2af33a4c868dde1177835bc27f",
       "version_major": 2,
       "version_minor": 0
      },
      "text/plain": [
       "Epoch 4:   0%|          | 0/60 [00:00<?, ?batch/s]"
      ]
     },
     "metadata": {},
     "output_type": "display_data"
    },
    {
     "name": "stdout",
     "output_type": "stream",
     "text": [
      "Epoch 004\n",
      "TRAIN→ \"R\": RMSE=0.2784 MAE=0.2165 R2=0.0774 | \"B\": Acc=0.3222 Prec=0.2666 Rec=0.8603 F1=0.4070 AUROC=0.4773\n",
      "VALID→ \"R\": RMSE=0.2844 MAE=0.1917 R2=-0.0086 | \"B\": Acc=0.2735 Prec=0.2735 Rec=1.0000 F1=0.4295 AUROC=0.4198\n"
     ]
    },
    {
     "data": {
      "application/vnd.jupyter.widget-view+json": {
       "model_id": "26dff62f985940998302ca9fb4b68941",
       "version_major": 2,
       "version_minor": 0
      },
      "text/plain": [
       "Epoch 5:   0%|          | 0/60 [00:00<?, ?batch/s]"
      ]
     },
     "metadata": {},
     "output_type": "display_data"
    },
    {
     "name": "stdout",
     "output_type": "stream",
     "text": [
      "Epoch 005\n",
      "TRAIN→ \"R\": RMSE=0.2778 MAE=0.2171 R2=0.0821 | \"B\": Acc=0.3158 Prec=0.2670 Rec=0.8769 F1=0.4094 AUROC=0.4783\n",
      "VALID→ \"R\": RMSE=0.2820 MAE=0.1904 R2=0.0087 | \"B\": Acc=0.2735 Prec=0.2735 Rec=1.0000 F1=0.4295 AUROC=0.3936\n"
     ]
    },
    {
     "data": {
      "application/vnd.jupyter.widget-view+json": {
       "model_id": "e957986ff24643728ce7b6ba57b6b803",
       "version_major": 2,
       "version_minor": 0
      },
      "text/plain": [
       "Epoch 6:   0%|          | 0/60 [00:00<?, ?batch/s]"
      ]
     },
     "metadata": {},
     "output_type": "display_data"
    },
    {
     "name": "stdout",
     "output_type": "stream",
     "text": [
      "Epoch 006\n",
      "TRAIN→ \"R\": RMSE=0.2768 MAE=0.2168 R2=0.0885 | \"B\": Acc=0.3185 Prec=0.2646 Rec=0.8546 F1=0.4041 AUROC=0.4674\n",
      "VALID→ \"R\": RMSE=0.2791 MAE=0.1890 R2=0.0289 | \"B\": Acc=0.2733 Prec=0.2734 Rec=0.9996 F1=0.4293 AUROC=0.4287\n"
     ]
    },
    {
     "data": {
      "application/vnd.jupyter.widget-view+json": {
       "model_id": "72c33407df544625b57a90d8ad9af03a",
       "version_major": 2,
       "version_minor": 0
      },
      "text/plain": [
       "Epoch 7:   0%|          | 0/60 [00:00<?, ?batch/s]"
      ]
     },
     "metadata": {},
     "output_type": "display_data"
    },
    {
     "name": "stdout",
     "output_type": "stream",
     "text": [
      "Epoch 007\n",
      "TRAIN→ \"R\": RMSE=0.2749 MAE=0.2149 R2=0.1006 | \"B\": Acc=0.3138 Prec=0.2665 Rec=0.8774 F1=0.4088 AUROC=0.4765\n",
      "VALID→ \"R\": RMSE=0.2763 MAE=0.1875 R2=0.0481 | \"B\": Acc=0.2733 Prec=0.2733 Rec=0.9992 F1=0.4292 AUROC=0.3753\n"
     ]
    },
    {
     "data": {
      "application/vnd.jupyter.widget-view+json": {
       "model_id": "70787bc09ab449b799343598d8e15014",
       "version_major": 2,
       "version_minor": 0
      },
      "text/plain": [
       "Epoch 8:   0%|          | 0/60 [00:00<?, ?batch/s]"
      ]
     },
     "metadata": {},
     "output_type": "display_data"
    },
    {
     "name": "stdout",
     "output_type": "stream",
     "text": [
      "Epoch 008\n",
      "TRAIN→ \"R\": RMSE=0.2726 MAE=0.2127 R2=0.1156 | \"B\": Acc=0.3256 Prec=0.2616 Rec=0.8193 F1=0.3965 AUROC=0.4586\n",
      "VALID→ \"R\": RMSE=0.2730 MAE=0.1856 R2=0.0704 | \"B\": Acc=0.2728 Prec=0.2729 Rec=0.9971 F1=0.4285 AUROC=0.4678\n"
     ]
    },
    {
     "data": {
      "application/vnd.jupyter.widget-view+json": {
       "model_id": "329b60b01c6e44f08b6f17833ac550a1",
       "version_major": 2,
       "version_minor": 0
      },
      "text/plain": [
       "Epoch 9:   0%|          | 0/60 [00:00<?, ?batch/s]"
      ]
     },
     "metadata": {},
     "output_type": "display_data"
    },
    {
     "name": "stdout",
     "output_type": "stream",
     "text": [
      "Epoch 009\n",
      "TRAIN→ \"R\": RMSE=0.2684 MAE=0.2061 R2=0.1429 | \"B\": Acc=0.3107 Prec=0.2658 Rec=0.8789 F1=0.4081 AUROC=0.4763\n",
      "VALID→ \"R\": RMSE=0.2687 MAE=0.1834 R2=0.0998 | \"B\": Acc=0.2716 Prec=0.2719 Rec=0.9916 F1=0.4268 AUROC=0.3573\n"
     ]
    },
    {
     "data": {
      "application/vnd.jupyter.widget-view+json": {
       "model_id": "9956d42175c4456f992fe13527fc81e4",
       "version_major": 2,
       "version_minor": 0
      },
      "text/plain": [
       "Epoch 10:   0%|          | 0/60 [00:00<?, ?batch/s]"
      ]
     },
     "metadata": {},
     "output_type": "display_data"
    },
    {
     "name": "stdout",
     "output_type": "stream",
     "text": [
      "Epoch 010\n",
      "TRAIN→ \"R\": RMSE=0.2658 MAE=0.2023 R2=0.1596 | \"B\": Acc=0.3132 Prec=0.2609 Rec=0.8399 F1=0.3981 AUROC=0.4520\n",
      "VALID→ \"R\": RMSE=0.2627 MAE=0.1816 R2=0.1394 | \"B\": Acc=0.2708 Prec=0.2711 Rec=0.9873 F1=0.4254 AUROC=0.3868\n"
     ]
    },
    {
     "data": {
      "application/vnd.jupyter.widget-view+json": {
       "model_id": "dbbffaee549e4c4d80c5b210cb48037f",
       "version_major": 2,
       "version_minor": 0
      },
      "text/plain": [
       "Epoch 11:   0%|          | 0/60 [00:00<?, ?batch/s]"
      ]
     },
     "metadata": {},
     "output_type": "display_data"
    },
    {
     "name": "stdout",
     "output_type": "stream",
     "text": [
      "Epoch 011\n",
      "TRAIN→ \"R\": RMSE=0.2640 MAE=0.2035 R2=0.1706 | \"B\": Acc=0.3101 Prec=0.2608 Rec=0.8461 F1=0.3988 AUROC=0.4524\n",
      "VALID→ \"R\": RMSE=0.2569 MAE=0.1810 R2=0.1769 | \"B\": Acc=0.2663 Prec=0.2668 Rec=0.9624 F1=0.4177 AUROC=0.3045\n"
     ]
    },
    {
     "data": {
      "application/vnd.jupyter.widget-view+json": {
       "model_id": "55a7261c7fa24df399ea10e576719773",
       "version_major": 2,
       "version_minor": 0
      },
      "text/plain": [
       "Epoch 12:   0%|          | 0/60 [00:00<?, ?batch/s]"
      ]
     },
     "metadata": {},
     "output_type": "display_data"
    },
    {
     "name": "stdout",
     "output_type": "stream",
     "text": [
      "Epoch 012\n",
      "TRAIN→ \"R\": RMSE=0.2611 MAE=0.2014 R2=0.1888 | \"B\": Acc=0.3081 Prec=0.2572 Rec=0.8256 F1=0.3922 AUROC=0.4349\n",
      "VALID→ \"R\": RMSE=0.2521 MAE=0.1856 R2=0.2074 | \"B\": Acc=0.2639 Prec=0.2643 Rec=0.9486 F1=0.4134 AUROC=0.2758\n"
     ]
    },
    {
     "data": {
      "application/vnd.jupyter.widget-view+json": {
       "model_id": "46cb1e52edd548f39fc5494d50d71998",
       "version_major": 2,
       "version_minor": 0
      },
      "text/plain": [
       "Epoch 13:   0%|          | 0/60 [00:00<?, ?batch/s]"
      ]
     },
     "metadata": {},
     "output_type": "display_data"
    },
    {
     "name": "stdout",
     "output_type": "stream",
     "text": [
      "Epoch 013\n",
      "TRAIN→ \"R\": RMSE=0.2600 MAE=0.2004 R2=0.1958 | \"B\": Acc=0.3019 Prec=0.2561 Rec=0.8305 F1=0.3915 AUROC=0.4284\n",
      "VALID→ \"R\": RMSE=0.2536 MAE=0.1786 R2=0.1983 | \"B\": Acc=0.2664 Prec=0.2669 Rec=0.9631 F1=0.4180 AUROC=0.3127\n"
     ]
    },
    {
     "data": {
      "application/vnd.jupyter.widget-view+json": {
       "model_id": "29d3e980ee294dff86c9ee29579db3f2",
       "version_major": 2,
       "version_minor": 0
      },
      "text/plain": [
       "Epoch 14:   0%|          | 0/60 [00:00<?, ?batch/s]"
      ]
     },
     "metadata": {},
     "output_type": "display_data"
    },
    {
     "name": "stdout",
     "output_type": "stream",
     "text": [
      "Epoch 014\n",
      "TRAIN→ \"R\": RMSE=0.2592 MAE=0.1992 R2=0.2006 | \"B\": Acc=0.2975 Prec=0.2573 Rec=0.8470 F1=0.3947 AUROC=0.4286\n",
      "VALID→ \"R\": RMSE=0.2508 MAE=0.1841 R2=0.2156 | \"B\": Acc=0.2643 Prec=0.2648 Rec=0.9515 F1=0.4143 AUROC=0.2810\n"
     ]
    },
    {
     "data": {
      "application/vnd.jupyter.widget-view+json": {
       "model_id": "d985119538d545b795a90e61d4f936a0",
       "version_major": 2,
       "version_minor": 0
      },
      "text/plain": [
       "Epoch 15:   0%|          | 0/60 [00:00<?, ?batch/s]"
      ]
     },
     "metadata": {},
     "output_type": "display_data"
    },
    {
     "name": "stdout",
     "output_type": "stream",
     "text": [
      "Epoch 015\n",
      "TRAIN→ \"R\": RMSE=0.2581 MAE=0.1984 R2=0.2074 | \"B\": Acc=0.2963 Prec=0.2561 Rec=0.8411 F1=0.3926 AUROC=0.4244\n",
      "VALID→ \"R\": RMSE=0.2503 MAE=0.1833 R2=0.2187 | \"B\": Acc=0.2634 Prec=0.2639 Rec=0.9465 F1=0.4127 AUROC=0.2774\n"
     ]
    },
    {
     "data": {
      "application/vnd.jupyter.widget-view+json": {
       "model_id": "641d9641f1d147d59361207af2947af9",
       "version_major": 2,
       "version_minor": 0
      },
      "text/plain": [
       "Epoch 16:   0%|          | 0/60 [00:00<?, ?batch/s]"
      ]
     },
     "metadata": {},
     "output_type": "display_data"
    },
    {
     "name": "stdout",
     "output_type": "stream",
     "text": [
      "Epoch 016\n",
      "TRAIN→ \"R\": RMSE=0.2570 MAE=0.1960 R2=0.2143 | \"B\": Acc=0.2943 Prec=0.2557 Rec=0.8422 F1=0.3923 AUROC=0.4204\n",
      "VALID→ \"R\": RMSE=0.2488 MAE=0.1830 R2=0.2282 | \"B\": Acc=0.2646 Prec=0.2652 Rec=0.9539 F1=0.4150 AUROC=0.2741\n"
     ]
    },
    {
     "data": {
      "application/vnd.jupyter.widget-view+json": {
       "model_id": "0ec0de19f7a54b5bba4276a4a2414050",
       "version_major": 2,
       "version_minor": 0
      },
      "text/plain": [
       "Epoch 17:   0%|          | 0/60 [00:00<?, ?batch/s]"
      ]
     },
     "metadata": {},
     "output_type": "display_data"
    },
    {
     "name": "stdout",
     "output_type": "stream",
     "text": [
      "Epoch 017\n",
      "TRAIN→ \"R\": RMSE=0.2570 MAE=0.1969 R2=0.2142 | \"B\": Acc=0.2906 Prec=0.2559 Rec=0.8510 F1=0.3935 AUROC=0.4195\n",
      "VALID→ \"R\": RMSE=0.2493 MAE=0.1822 R2=0.2253 | \"B\": Acc=0.2655 Prec=0.2661 Rec=0.9592 F1=0.4167 AUROC=0.2854\n"
     ]
    },
    {
     "data": {
      "application/vnd.jupyter.widget-view+json": {
       "model_id": "8dfb1ab41e254182962dcc4237e95a40",
       "version_major": 2,
       "version_minor": 0
      },
      "text/plain": [
       "Epoch 18:   0%|          | 0/60 [00:00<?, ?batch/s]"
      ]
     },
     "metadata": {},
     "output_type": "display_data"
    },
    {
     "name": "stdout",
     "output_type": "stream",
     "text": [
      "Epoch 018\n",
      "TRAIN→ \"R\": RMSE=0.2560 MAE=0.1953 R2=0.2203 | \"B\": Acc=0.2884 Prec=0.2566 Rec=0.8601 F1=0.3953 AUROC=0.4217\n",
      "VALID→ \"R\": RMSE=0.2481 MAE=0.1807 R2=0.2327 | \"B\": Acc=0.2657 Prec=0.2665 Rec=0.9616 F1=0.4173 AUROC=0.2913\n"
     ]
    },
    {
     "data": {
      "application/vnd.jupyter.widget-view+json": {
       "model_id": "fc4999233eb144b7a7908e6f188c0914",
       "version_major": 2,
       "version_minor": 0
      },
      "text/plain": [
       "Epoch 19:   0%|          | 0/60 [00:00<?, ?batch/s]"
      ]
     },
     "metadata": {},
     "output_type": "display_data"
    },
    {
     "name": "stdout",
     "output_type": "stream",
     "text": [
      "Epoch 019\n",
      "TRAIN→ \"R\": RMSE=0.2556 MAE=0.1949 R2=0.2224 | \"B\": Acc=0.2849 Prec=0.2563 Rec=0.8651 F1=0.3955 AUROC=0.4194\n",
      "VALID→ \"R\": RMSE=0.2485 MAE=0.1790 R2=0.2302 | \"B\": Acc=0.2660 Prec=0.2669 Rec=0.9640 F1=0.4180 AUROC=0.3134\n"
     ]
    },
    {
     "data": {
      "application/vnd.jupyter.widget-view+json": {
       "model_id": "bb32a27c44924566b7ba6da90a4ea526",
       "version_major": 2,
       "version_minor": 0
      },
      "text/plain": [
       "Epoch 20:   0%|          | 0/60 [00:00<?, ?batch/s]"
      ]
     },
     "metadata": {},
     "output_type": "display_data"
    },
    {
     "name": "stdout",
     "output_type": "stream",
     "text": [
      "Epoch 020\n",
      "TRAIN→ \"R\": RMSE=0.2558 MAE=0.1954 R2=0.2212 | \"B\": Acc=0.2831 Prec=0.2571 Rec=0.8738 F1=0.3973 AUROC=0.4248\n",
      "VALID→ \"R\": RMSE=0.2474 MAE=0.1803 R2=0.2367 | \"B\": Acc=0.2651 Prec=0.2661 Rec=0.9600 F1=0.4167 AUROC=0.3148\n"
     ]
    },
    {
     "data": {
      "application/vnd.jupyter.widget-view+json": {
       "model_id": "44e768e05d8143039127e1b286189b08",
       "version_major": 2,
       "version_minor": 0
      },
      "text/plain": [
       "Epoch 21:   0%|          | 0/60 [00:00<?, ?batch/s]"
      ]
     },
     "metadata": {},
     "output_type": "display_data"
    },
    {
     "name": "stdout",
     "output_type": "stream",
     "text": [
      "Epoch 021\n",
      "TRAIN→ \"R\": RMSE=0.2555 MAE=0.1957 R2=0.2230 | \"B\": Acc=0.2820 Prec=0.2584 Rec=0.8849 F1=0.3999 AUROC=0.4328\n",
      "VALID→ \"R\": RMSE=0.2465 MAE=0.1819 R2=0.2423 | \"B\": Acc=0.2649 Prec=0.2660 Rec=0.9598 F1=0.4166 AUROC=0.3453\n"
     ]
    },
    {
     "data": {
      "application/vnd.jupyter.widget-view+json": {
       "model_id": "6034339f15dd4bfdb5366bac44ce0b31",
       "version_major": 2,
       "version_minor": 0
      },
      "text/plain": [
       "Epoch 22:   0%|          | 0/60 [00:00<?, ?batch/s]"
      ]
     },
     "metadata": {},
     "output_type": "display_data"
    },
    {
     "name": "stdout",
     "output_type": "stream",
     "text": [
      "Epoch 022\n",
      "TRAIN→ \"R\": RMSE=0.2553 MAE=0.1943 R2=0.2245 | \"B\": Acc=0.2849 Prec=0.2601 Rec=0.8915 F1=0.4027 AUROC=0.4496\n",
      "VALID→ \"R\": RMSE=0.2473 MAE=0.1786 R2=0.2377 | \"B\": Acc=0.2662 Prec=0.2674 Rec=0.9673 F1=0.4189 AUROC=0.4163\n"
     ]
    },
    {
     "data": {
      "application/vnd.jupyter.widget-view+json": {
       "model_id": "94163ec3ebe9422895334b40d1333267",
       "version_major": 2,
       "version_minor": 0
      },
      "text/plain": [
       "Epoch 23:   0%|          | 0/60 [00:00<?, ?batch/s]"
      ]
     },
     "metadata": {},
     "output_type": "display_data"
    },
    {
     "name": "stdout",
     "output_type": "stream",
     "text": [
      "Epoch 023\n",
      "TRAIN→ \"R\": RMSE=0.2549 MAE=0.1935 R2=0.2267 | \"B\": Acc=0.2888 Prec=0.2609 Rec=0.8895 F1=0.4035 AUROC=0.4596\n",
      "VALID→ \"R\": RMSE=0.2474 MAE=0.1794 R2=0.2371 | \"B\": Acc=0.2665 Prec=0.2676 Rec=0.9682 F1=0.4193 AUROC=0.4058\n"
     ]
    },
    {
     "data": {
      "application/vnd.jupyter.widget-view+json": {
       "model_id": "2fd0a327674e4bba84b5010b2e407375",
       "version_major": 2,
       "version_minor": 0
      },
      "text/plain": [
       "Epoch 24:   0%|          | 0/60 [00:00<?, ?batch/s]"
      ]
     },
     "metadata": {},
     "output_type": "display_data"
    },
    {
     "name": "stdout",
     "output_type": "stream",
     "text": [
      "Epoch 024\n",
      "TRAIN→ \"R\": RMSE=0.2544 MAE=0.1933 R2=0.2297 | \"B\": Acc=0.2902 Prec=0.2597 Rec=0.8777 F1=0.4008 AUROC=0.4551\n",
      "VALID→ \"R\": RMSE=0.2471 MAE=0.1805 R2=0.2388 | \"B\": Acc=0.2653 Prec=0.2664 Rec=0.9620 F1=0.4173 AUROC=0.3938\n"
     ]
    },
    {
     "data": {
      "application/vnd.jupyter.widget-view+json": {
       "model_id": "2cc64c4806ae40249595196ec418ebb4",
       "version_major": 2,
       "version_minor": 0
      },
      "text/plain": [
       "Epoch 25:   0%|          | 0/60 [00:00<?, ?batch/s]"
      ]
     },
     "metadata": {},
     "output_type": "display_data"
    },
    {
     "name": "stdout",
     "output_type": "stream",
     "text": [
      "Epoch 025\n",
      "TRAIN→ \"R\": RMSE=0.2542 MAE=0.1931 R2=0.2312 | \"B\": Acc=0.2889 Prec=0.2588 Rec=0.8742 F1=0.3994 AUROC=0.4546\n",
      "VALID→ \"R\": RMSE=0.2475 MAE=0.1789 R2=0.2365 | \"B\": Acc=0.2664 Prec=0.2676 Rec=0.9684 F1=0.4193 AUROC=0.3947\n"
     ]
    },
    {
     "data": {
      "application/vnd.jupyter.widget-view+json": {
       "model_id": "231529209b10418e9469ef5ae31ccc6f",
       "version_major": 2,
       "version_minor": 0
      },
      "text/plain": [
       "Epoch 26:   0%|          | 0/60 [00:00<?, ?batch/s]"
      ]
     },
     "metadata": {},
     "output_type": "display_data"
    },
    {
     "name": "stdout",
     "output_type": "stream",
     "text": [
      "Epoch 026\n",
      "TRAIN→ \"R\": RMSE=0.2538 MAE=0.1933 R2=0.2333 | \"B\": Acc=0.2868 Prec=0.2599 Rec=0.8862 F1=0.4019 AUROC=0.4552\n",
      "VALID→ \"R\": RMSE=0.2456 MAE=0.1805 R2=0.2476 | \"B\": Acc=0.2634 Prec=0.2643 Rec=0.9493 F1=0.4134 AUROC=0.4066\n"
     ]
    },
    {
     "data": {
      "application/vnd.jupyter.widget-view+json": {
       "model_id": "5b1ac3a228514776aefa27bc8e301538",
       "version_major": 2,
       "version_minor": 0
      },
      "text/plain": [
       "Epoch 27:   0%|          | 0/60 [00:00<?, ?batch/s]"
      ]
     },
     "metadata": {},
     "output_type": "display_data"
    },
    {
     "name": "stdout",
     "output_type": "stream",
     "text": [
      "Epoch 027\n",
      "TRAIN→ \"R\": RMSE=0.2539 MAE=0.1945 R2=0.2329 | \"B\": Acc=0.2948 Prec=0.2614 Rec=0.8810 F1=0.4032 AUROC=0.4676\n",
      "VALID→ \"R\": RMSE=0.2457 MAE=0.1798 R2=0.2473 | \"B\": Acc=0.2614 Prec=0.2632 Rec=0.9453 F1=0.4118 AUROC=0.4218\n"
     ]
    },
    {
     "data": {
      "application/vnd.jupyter.widget-view+json": {
       "model_id": "3506db40802649dd8111b9ad4a46268f",
       "version_major": 2,
       "version_minor": 0
      },
      "text/plain": [
       "Epoch 28:   0%|          | 0/60 [00:00<?, ?batch/s]"
      ]
     },
     "metadata": {},
     "output_type": "display_data"
    },
    {
     "name": "stdout",
     "output_type": "stream",
     "text": [
      "Epoch 028\n",
      "TRAIN→ \"R\": RMSE=0.2537 MAE=0.1940 R2=0.2343 | \"B\": Acc=0.2959 Prec=0.2617 Rec=0.8805 F1=0.4034 AUROC=0.4704\n",
      "VALID→ \"R\": RMSE=0.2455 MAE=0.1795 R2=0.2482 | \"B\": Acc=0.2624 Prec=0.2640 Rec=0.9494 F1=0.4131 AUROC=0.4548\n"
     ]
    },
    {
     "data": {
      "application/vnd.jupyter.widget-view+json": {
       "model_id": "479f9a97f0134a9e8ce7b96bbf254ce5",
       "version_major": 2,
       "version_minor": 0
      },
      "text/plain": [
       "Epoch 29:   0%|          | 0/60 [00:00<?, ?batch/s]"
      ]
     },
     "metadata": {},
     "output_type": "display_data"
    },
    {
     "name": "stdout",
     "output_type": "stream",
     "text": [
      "Epoch 029\n",
      "TRAIN→ \"R\": RMSE=0.2534 MAE=0.1938 R2=0.2359 | \"B\": Acc=0.2977 Prec=0.2618 Rec=0.8774 F1=0.4032 AUROC=0.4721\n",
      "VALID→ \"R\": RMSE=0.2457 MAE=0.1781 R2=0.2471 | \"B\": Acc=0.2640 Prec=0.2655 Rec=0.9573 F1=0.4157 AUROC=0.4621\n"
     ]
    },
    {
     "data": {
      "application/vnd.jupyter.widget-view+json": {
       "model_id": "79586705fdd244a49bd9727a198c3db4",
       "version_major": 2,
       "version_minor": 0
      },
      "text/plain": [
       "Epoch 30:   0%|          | 0/60 [00:00<?, ?batch/s]"
      ]
     },
     "metadata": {},
     "output_type": "display_data"
    },
    {
     "name": "stdout",
     "output_type": "stream",
     "text": [
      "Epoch 030\n",
      "TRAIN→ \"R\": RMSE=0.2532 MAE=0.1936 R2=0.2371 | \"B\": Acc=0.2964 Prec=0.2619 Rec=0.8808 F1=0.4037 AUROC=0.4718\n",
      "VALID→ \"R\": RMSE=0.2457 MAE=0.1777 R2=0.2471 | \"B\": Acc=0.2631 Prec=0.2647 Rec=0.9529 F1=0.4143 AUROC=0.4594\n"
     ]
    },
    {
     "data": {
      "application/vnd.jupyter.widget-view+json": {
       "model_id": "a931bd80d2624464adbbd48cce9a310c",
       "version_major": 2,
       "version_minor": 0
      },
      "text/plain": [
       "Epoch 31:   0%|          | 0/60 [00:00<?, ?batch/s]"
      ]
     },
     "metadata": {},
     "output_type": "display_data"
    },
    {
     "name": "stdout",
     "output_type": "stream",
     "text": [
      "Epoch 031\n",
      "TRAIN→ \"R\": RMSE=0.2531 MAE=0.1935 R2=0.2375 | \"B\": Acc=0.2974 Prec=0.2618 Rec=0.8785 F1=0.4034 AUROC=0.4718\n",
      "VALID→ \"R\": RMSE=0.2465 MAE=0.1763 R2=0.2422 | \"B\": Acc=0.2639 Prec=0.2653 Rec=0.9564 F1=0.4154 AUROC=0.4860\n"
     ]
    },
    {
     "data": {
      "application/vnd.jupyter.widget-view+json": {
       "model_id": "4fe48bf479294b518b2838a3021c7063",
       "version_major": 2,
       "version_minor": 0
      },
      "text/plain": [
       "Epoch 32:   0%|          | 0/60 [00:00<?, ?batch/s]"
      ]
     },
     "metadata": {},
     "output_type": "display_data"
    },
    {
     "name": "stdout",
     "output_type": "stream",
     "text": [
      "Epoch 032\n",
      "TRAIN→ \"R\": RMSE=0.2530 MAE=0.1932 R2=0.2382 | \"B\": Acc=0.2956 Prec=0.2599 Rec=0.8684 F1=0.4000 AUROC=0.4638\n",
      "VALID→ \"R\": RMSE=0.2464 MAE=0.1761 R2=0.2428 | \"B\": Acc=0.2636 Prec=0.2651 Rec=0.9551 F1=0.4150 AUROC=0.4840\n"
     ]
    },
    {
     "data": {
      "application/vnd.jupyter.widget-view+json": {
       "model_id": "b458d25bbf1e4cb4a1f4f8a78a49c2cf",
       "version_major": 2,
       "version_minor": 0
      },
      "text/plain": [
       "Epoch 33:   0%|          | 0/60 [00:00<?, ?batch/s]"
      ]
     },
     "metadata": {},
     "output_type": "display_data"
    },
    {
     "name": "stdout",
     "output_type": "stream",
     "text": [
      "Epoch 033\n",
      "TRAIN→ \"R\": RMSE=0.2529 MAE=0.1930 R2=0.2391 | \"B\": Acc=0.2974 Prec=0.2622 Rec=0.8815 F1=0.4042 AUROC=0.4758\n",
      "VALID→ \"R\": RMSE=0.2463 MAE=0.1759 R2=0.2433 | \"B\": Acc=0.2631 Prec=0.2645 Rec=0.9516 F1=0.4139 AUROC=0.4836\n"
     ]
    },
    {
     "data": {
      "application/vnd.jupyter.widget-view+json": {
       "model_id": "1d8a803e7cac40b5a1f2d10f992d8619",
       "version_major": 2,
       "version_minor": 0
      },
      "text/plain": [
       "Epoch 34:   0%|          | 0/60 [00:00<?, ?batch/s]"
      ]
     },
     "metadata": {},
     "output_type": "display_data"
    },
    {
     "name": "stdout",
     "output_type": "stream",
     "text": [
      "Epoch 034\n",
      "TRAIN→ \"R\": RMSE=0.2527 MAE=0.1929 R2=0.2400 | \"B\": Acc=0.2952 Prec=0.2607 Rec=0.8750 F1=0.4017 AUROC=0.4657\n",
      "VALID→ \"R\": RMSE=0.2465 MAE=0.1756 R2=0.2422 | \"B\": Acc=0.2624 Prec=0.2639 Rec=0.9487 F1=0.4129 AUROC=0.4709\n",
      "Early stopping at epoch 34\n",
      "Delete variables to free memory...\n"
     ]
    },
    {
     "name": "stderr",
     "output_type": "stream",
     "text": [
      "[I 2025-09-14 01:00:54,295] Trial 2 finished with value: 0.24554027616977692 and parameters: {'look_back': 120, 'DROPOUT_SHORT': 0.23692976369526964, 'DROPOUT_LONG': 0.16354695065301827, 'ATT_DROPOUT': 0.27010157688308367, 'INITIAL_LR': 0.0003037559303138773, 'ETA_MIN': 1.8196388345522165e-06, 'WEIGHT_DECAY': 0.004362570500682019, 'CLIPNORM': 7.43717625926685}. Best is trial 2 with value: 0.24554027616977692.\n"
     ]
    },
    {
     "name": "stdout",
     "output_type": "stream",
     "text": [
      "\n",
      "▶ Trial 3 starting with:\n",
      "{'look_back': 120, 'DROPOUT_SHORT': 0.33025415619455517, 'DROPOUT_LONG': 0.0735552839458876, 'ATT_DROPOUT': 0.08872658718168452, 'INITIAL_LR': 1.0113977320775313e-05, 'ETA_MIN': 5.050961461471322e-06, 'WEIGHT_DECAY': 7.573622155920434e-05, 'CLIPNORM': 2.652509190966554}\n",
      "\n",
      "Build LSTM input tensors (disk-backed memmaps)...\n",
      "Inside build_lstm_tensors, using: ['rsi_14', 'minus_di_15', 'eng_adx', 'eng_atr_div', 'adx_14', 'sma_100', 'vol_spike_14', 'macd_line_12_26_9', 'sma_20']\n"
     ]
    },
    {
     "data": {
      "application/vnd.jupyter.widget-view+json": {
       "model_id": "b41fc37f313e427dbc620a0c6d611424",
       "version_major": 2,
       "version_minor": 0
      },
      "text/plain": [
       "Counting windows:   0%|          | 0/5400 [00:00<?, ?it/s]"
      ]
     },
     "metadata": {},
     "output_type": "display_data"
    },
    {
     "data": {
      "application/vnd.jupyter.widget-view+json": {
       "model_id": "ba1efd8fefec44f38b4e4e540bf94ac3",
       "version_major": 2,
       "version_minor": 0
      },
      "text/plain": [
       "Writing memmaps:   0%|          | 0/5400 [00:00<?, ?it/s]"
      ]
     },
     "metadata": {},
     "output_type": "display_data"
    },
    {
     "name": "stdout",
     "output_type": "stream",
     "text": [
      "Split into train/val/test by calendar day...\n",
      "Carve `end_times` into the same three splits...\n",
      "Build DataLoaders over calendar‐days...\n"
     ]
    },
    {
     "data": {
      "application/vnd.jupyter.widget-view+json": {
       "model_id": "f925cb493ded44aabd5180273b005b36",
       "version_major": 2,
       "version_minor": 0
      },
      "text/plain": [
       "Creating DayWindowDatasets:   0%|          | 0/3 [00:00<?, ?split/s]"
      ]
     },
     "metadata": {},
     "output_type": "display_data"
    },
    {
     "name": "stdout",
     "output_type": "stream",
     "text": [
      "Instantiate the stateful DualMemoryLSTM...\n",
      "Build optimizer, LR scheduler, AMP scaler, and gradient‐clip norm...\n",
      "Run the custom stateful training loop...\n"
     ]
    },
    {
     "data": {
      "image/png": "[encoded data removed]",
      "text/plain": [
       "<Figure size 660x440 with 1 Axes>"
      ]
     },
     "metadata": {},
     "output_type": "display_data"
    },
    {
     "data": {
      "application/vnd.jupyter.widget-view+json": {
       "model_id": "8f883ee1ee3c49cb855287c2dcfb4de9",
       "version_major": 2,
       "version_minor": 0
      },
      "text/plain": [
       "Epoch 1:   0%|          | 0/60 [00:00<?, ?batch/s]"
      ]
     },
     "metadata": {},
     "output_type": "display_data"
    },
    {
     "name": "stdout",
     "output_type": "stream",
     "text": [
      "Epoch 001\n",
      "TRAIN→ \"R\": RMSE=0.4138 MAE=0.3777 R2=-1.0375 | \"B\": Acc=0.7135 Prec=0.2782 Rec=0.0373 F1=0.0658 AUROC=0.5063\n",
      "VALID→ \"R\": RMSE=0.3318 MAE=0.3010 R2=-0.3729 | \"B\": Acc=0.7265 Prec=0.0000 Rec=0.0000 F1=0.0000 AUROC=0.6158\n"
     ]
    },
    {
     "data": {
      "application/vnd.jupyter.widget-view+json": {
       "model_id": "4b198e8a27ea4e639c18e3db04327af1",
       "version_major": 2,
       "version_minor": 0
      },
      "text/plain": [
       "Epoch 2:   0%|          | 0/60 [00:00<?, ?batch/s]"
      ]
     },
     "metadata": {},
     "output_type": "display_data"
    },
    {
     "name": "stdout",
     "output_type": "stream",
     "text": [
      "Epoch 002\n",
      "TRAIN→ \"R\": RMSE=0.3077 MAE=0.2620 R2=-0.1266 | \"B\": Acc=0.7130 Prec=0.2729 Rec=0.0368 F1=0.0649 AUROC=0.5049\n",
      "VALID→ \"R\": RMSE=0.2860 MAE=0.2119 R2=-0.0198 | \"B\": Acc=0.7265 Prec=0.0000 Rec=0.0000 F1=0.0000 AUROC=0.6334\n"
     ]
    },
    {
     "data": {
      "application/vnd.jupyter.widget-view+json": {
       "model_id": "6ee49bfd7a22400d877f6eff2b56178e",
       "version_major": 2,
       "version_minor": 0
      },
      "text/plain": [
       "Epoch 3:   0%|          | 0/60 [00:00<?, ?batch/s]"
      ]
     },
     "metadata": {},
     "output_type": "display_data"
    },
    {
     "name": "stdout",
     "output_type": "stream",
     "text": [
      "Epoch 003\n",
      "TRAIN→ \"R\": RMSE=0.2951 MAE=0.2312 R2=-0.0365 | \"B\": Acc=0.7126 Prec=0.2751 Rec=0.0385 F1=0.0675 AUROC=0.5033\n",
      "VALID→ \"R\": RMSE=0.2923 MAE=0.2061 R2=-0.0650 | \"B\": Acc=0.7265 Prec=0.0000 Rec=0.0000 F1=0.0000 AUROC=0.6367\n"
     ]
    },
    {
     "data": {
      "application/vnd.jupyter.widget-view+json": {
       "model_id": "6249e1ff73f043a08e505bdaa244bd75",
       "version_major": 2,
       "version_minor": 0
      },
      "text/plain": [
       "Epoch 4:   0%|          | 0/60 [00:00<?, ?batch/s]"
      ]
     },
     "metadata": {},
     "output_type": "display_data"
    },
    {
     "name": "stdout",
     "output_type": "stream",
     "text": [
      "Epoch 004\n",
      "TRAIN→ \"R\": RMSE=0.2954 MAE=0.2244 R2=-0.0386 | \"B\": Acc=0.7120 Prec=0.2769 Rec=0.0404 F1=0.0705 AUROC=0.5043\n",
      "VALID→ \"R\": RMSE=0.2933 MAE=0.2051 R2=-0.0729 | \"B\": Acc=0.7265 Prec=0.0000 Rec=0.0000 F1=0.0000 AUROC=0.6376\n"
     ]
    },
    {
     "data": {
      "application/vnd.jupyter.widget-view+json": {
       "model_id": "6e08075bf82b4c10afb0ffe18c99942d",
       "version_major": 2,
       "version_minor": 0
      },
      "text/plain": [
       "Epoch 5:   0%|          | 0/60 [00:00<?, ?batch/s]"
      ]
     },
     "metadata": {},
     "output_type": "display_data"
    },
    {
     "name": "stdout",
     "output_type": "stream",
     "text": [
      "Epoch 005\n",
      "TRAIN→ \"R\": RMSE=0.2950 MAE=0.2229 R2=-0.0353 | \"B\": Acc=0.7118 Prec=0.2778 Rec=0.0412 F1=0.0718 AUROC=0.5056\n",
      "VALID→ \"R\": RMSE=0.2923 MAE=0.2048 R2=-0.0655 | \"B\": Acc=0.7265 Prec=0.0000 Rec=0.0000 F1=0.0000 AUROC=0.6365\n"
     ]
    },
    {
     "data": {
      "application/vnd.jupyter.widget-view+json": {
       "model_id": "aa3aa77d5e5b413abe87f66f7582c60f",
       "version_major": 2,
       "version_minor": 0
      },
      "text/plain": [
       "Epoch 6:   0%|          | 0/60 [00:00<?, ?batch/s]"
      ]
     },
     "metadata": {},
     "output_type": "display_data"
    },
    {
     "name": "stdout",
     "output_type": "stream",
     "text": [
      "Epoch 006\n",
      "TRAIN→ \"R\": RMSE=0.2941 MAE=0.2224 R2=-0.0291 | \"B\": Acc=0.7117 Prec=0.2775 Rec=0.0413 F1=0.0719 AUROC=0.5048\n",
      "VALID→ \"R\": RMSE=0.2912 MAE=0.2046 R2=-0.0570 | \"B\": Acc=0.7265 Prec=0.0000 Rec=0.0000 F1=0.0000 AUROC=0.6334\n"
     ]
    },
    {
     "data": {
      "application/vnd.jupyter.widget-view+json": {
       "model_id": "576de52a79e345faa5ec2b9d099aa581",
       "version_major": 2,
       "version_minor": 0
      },
      "text/plain": [
       "Epoch 7:   0%|          | 0/60 [00:00<?, ?batch/s]"
      ]
     },
     "metadata": {},
     "output_type": "display_data"
    },
    {
     "name": "stdout",
     "output_type": "stream",
     "text": [
      "Epoch 007\n",
      "TRAIN→ \"R\": RMSE=0.2932 MAE=0.2219 R2=-0.0232 | \"B\": Acc=0.7123 Prec=0.2789 Rec=0.0403 F1=0.0705 AUROC=0.5042\n",
      "VALID→ \"R\": RMSE=0.2902 MAE=0.2043 R2=-0.0499 | \"B\": Acc=0.7265 Prec=0.0000 Rec=0.0000 F1=0.0000 AUROC=0.6288\n"
     ]
    },
    {
     "data": {
      "application/vnd.jupyter.widget-view+json": {
       "model_id": "8e0234a274754b2daf3b859f71e3c172",
       "version_major": 2,
       "version_minor": 0
      },
      "text/plain": [
       "Epoch 8:   0%|          | 0/60 [00:00<?, ?batch/s]"
      ]
     },
     "metadata": {},
     "output_type": "display_data"
    },
    {
     "name": "stdout",
     "output_type": "stream",
     "text": [
      "Epoch 008\n",
      "TRAIN→ \"R\": RMSE=0.2925 MAE=0.2216 R2=-0.0180 | \"B\": Acc=0.7133 Prec=0.2776 Rec=0.0376 F1=0.0662 AUROC=0.5056\n",
      "VALID→ \"R\": RMSE=0.2892 MAE=0.2040 R2=-0.0426 | \"B\": Acc=0.7265 Prec=0.0000 Rec=0.0000 F1=0.0000 AUROC=0.6217\n",
      "Early stopping at epoch 8\n",
      "Delete variables to free memory...\n"
     ]
    },
    {
     "name": "stderr",
     "output_type": "stream",
     "text": [
      "[I 2025-09-14 01:08:19,891] Trial 3 finished with value: 0.28598344326019287 and parameters: {'look_back': 120, 'DROPOUT_SHORT': 0.33025415619455517, 'DROPOUT_LONG': 0.0735552839458876, 'ATT_DROPOUT': 0.08872658718168452, 'INITIAL_LR': 1.0113977320775313e-05, 'ETA_MIN': 5.050961461471322e-06, 'WEIGHT_DECAY': 7.573622155920434e-05, 'CLIPNORM': 2.652509190966554}. Best is trial 2 with value: 0.24554027616977692.\n"
     ]
    },
    {
     "name": "stdout",
     "output_type": "stream",
     "text": [
      "\n",
      "▶ Trial 4 starting with:\n",
      "{'look_back': 120, 'DROPOUT_SHORT': 0.14934742065459877, 'DROPOUT_LONG': 0.16219466338835561, 'ATT_DROPOUT': 0.15454007876917714, 'INITIAL_LR': 1.8736488912026368e-05, 'ETA_MIN': 4.959631351549178e-06, 'WEIGHT_DECAY': 0.0003874020861010938, 'CLIPNORM': 9.133234474251395}\n",
      "\n",
      "Build LSTM input tensors (disk-backed memmaps)...\n",
      "Inside build_lstm_tensors, using: ['rsi_14', 'minus_di_15', 'eng_adx', 'eng_atr_div', 'adx_14', 'sma_100', 'vol_spike_14', 'macd_line_12_26_9', 'sma_20']\n"
     ]
    },
    {
     "data": {
      "application/vnd.jupyter.widget-view+json": {
       "model_id": "e27142201ed8476fba4955274742aeff",
       "version_major": 2,
       "version_minor": 0
      },
      "text/plain": [
       "Counting windows:   0%|          | 0/5400 [00:00<?, ?it/s]"
      ]
     },
     "metadata": {},
     "output_type": "display_data"
    },
    {
     "data": {
      "application/vnd.jupyter.widget-view+json": {
       "model_id": "02bb725f08fc47efbfbe8ee7ef66ad62",
       "version_major": 2,
       "version_minor": 0
      },
      "text/plain": [
       "Writing memmaps:   0%|          | 0/5400 [00:00<?, ?it/s]"
      ]
     },
     "metadata": {},
     "output_type": "display_data"
    },
    {
     "name": "stdout",
     "output_type": "stream",
     "text": [
      "Split into train/val/test by calendar day...\n",
      "Carve `end_times` into the same three splits...\n",
      "Build DataLoaders over calendar‐days...\n"
     ]
    },
    {
     "data": {
      "application/vnd.jupyter.widget-view+json": {
       "model_id": "84251f76537c480b96fec19002da6c4f",
       "version_major": 2,
       "version_minor": 0
      },
      "text/plain": [
       "Creating DayWindowDatasets:   0%|          | 0/3 [00:00<?, ?split/s]"
      ]
     },
     "metadata": {},
     "output_type": "display_data"
    },
    {
     "name": "stdout",
     "output_type": "stream",
     "text": [
      "Instantiate the stateful DualMemoryLSTM...\n",
      "Build optimizer, LR scheduler, AMP scaler, and gradient‐clip norm...\n",
      "Run the custom stateful training loop...\n"
     ]
    },
    {
     "data": {
      "image/png": "[encoded data removed]",
      "text/plain": [
       "<Figure size 660x440 with 1 Axes>"
      ]
     },
     "metadata": {},
     "output_type": "display_data"
    },
    {
     "data": {
      "application/vnd.jupyter.widget-view+json": {
       "model_id": "fe8d02f4d73242bd8cb930f685bad813",
       "version_major": 2,
       "version_minor": 0
      },
      "text/plain": [
       "Epoch 1:   0%|          | 0/60 [00:00<?, ?batch/s]"
      ]
     },
     "metadata": {},
     "output_type": "display_data"
    },
    {
     "name": "stdout",
     "output_type": "stream",
     "text": [
      "Epoch 001\n",
      "TRAIN→ \"R\": RMSE=0.2921 MAE=0.2300 R2=-0.0150 | \"B\": Acc=0.4220 Prec=0.2619 Rec=0.6257 F1=0.3693 AUROC=0.4784\n",
      "VALID→ \"R\": RMSE=0.3039 MAE=0.2030 R2=-0.1518 | \"B\": Acc=0.2735 Prec=0.2735 Rec=1.0000 F1=0.4295 AUROC=0.3761\n"
     ]
    },
    {
     "data": {
      "application/vnd.jupyter.widget-view+json": {
       "model_id": "58f01c29045a4dac864a8290762c4424",
       "version_major": 2,
       "version_minor": 0
      },
      "text/plain": [
       "Epoch 2:   0%|          | 0/60 [00:00<?, ?batch/s]"
      ]
     },
     "metadata": {},
     "output_type": "display_data"
    },
    {
     "name": "stdout",
     "output_type": "stream",
     "text": [
      "Epoch 002\n",
      "TRAIN→ \"R\": RMSE=0.2943 MAE=0.2228 R2=-0.0303 | \"B\": Acc=0.4208 Prec=0.2686 Rec=0.6626 F1=0.3822 AUROC=0.4950\n",
      "VALID→ \"R\": RMSE=0.3001 MAE=0.2008 R2=-0.1231 | \"B\": Acc=0.2735 Prec=0.2735 Rec=1.0000 F1=0.4295 AUROC=0.3739\n"
     ]
    },
    {
     "data": {
      "application/vnd.jupyter.widget-view+json": {
       "model_id": "09a6c970ebb04b4cb73161a12fb7ca89",
       "version_major": 2,
       "version_minor": 0
      },
      "text/plain": [
       "Epoch 3:   0%|          | 0/60 [00:00<?, ?batch/s]"
      ]
     },
     "metadata": {},
     "output_type": "display_data"
    },
    {
     "name": "stdout",
     "output_type": "stream",
     "text": [
      "Epoch 003\n",
      "TRAIN→ \"R\": RMSE=0.2921 MAE=0.2208 R2=-0.0150 | \"B\": Acc=0.4156 Prec=0.2684 Rec=0.6728 F1=0.3837 AUROC=0.4945\n",
      "VALID→ \"R\": RMSE=0.2973 MAE=0.1993 R2=-0.1022 | \"B\": Acc=0.2735 Prec=0.2735 Rec=1.0000 F1=0.4295 AUROC=0.3736\n"
     ]
    },
    {
     "data": {
      "application/vnd.jupyter.widget-view+json": {
       "model_id": "f069014b6c054acd9f029002e234e2a1",
       "version_major": 2,
       "version_minor": 0
      },
      "text/plain": [
       "Epoch 4:   0%|          | 0/60 [00:00<?, ?batch/s]"
      ]
     },
     "metadata": {},
     "output_type": "display_data"
    },
    {
     "name": "stdout",
     "output_type": "stream",
     "text": [
      "Epoch 004\n",
      "TRAIN→ \"R\": RMSE=0.2904 MAE=0.2196 R2=-0.0032 | \"B\": Acc=0.4159 Prec=0.2692 Rec=0.6763 F1=0.3851 AUROC=0.4962\n",
      "VALID→ \"R\": RMSE=0.2956 MAE=0.1983 R2=-0.0892 | \"B\": Acc=0.2735 Prec=0.2735 Rec=1.0000 F1=0.4295 AUROC=0.3747\n"
     ]
    },
    {
     "data": {
      "application/vnd.jupyter.widget-view+json": {
       "model_id": "c2e5f8cf25e64c62a26edda056f82355",
       "version_major": 2,
       "version_minor": 0
      },
      "text/plain": [
       "Epoch 5:   0%|          | 0/60 [00:00<?, ?batch/s]"
      ]
     },
     "metadata": {},
     "output_type": "display_data"
    },
    {
     "name": "stdout",
     "output_type": "stream",
     "text": [
      "Epoch 005\n",
      "TRAIN→ \"R\": RMSE=0.2894 MAE=0.2187 R2=0.0038 | \"B\": Acc=0.4200 Prec=0.2692 Rec=0.6678 F1=0.3837 AUROC=0.4969\n",
      "VALID→ \"R\": RMSE=0.2944 MAE=0.1976 R2=-0.0804 | \"B\": Acc=0.2735 Prec=0.2735 Rec=1.0000 F1=0.4295 AUROC=0.3765\n"
     ]
    },
    {
     "data": {
      "application/vnd.jupyter.widget-view+json": {
       "model_id": "3439b4c52d9046fdb80af99e8e481e17",
       "version_major": 2,
       "version_minor": 0
      },
      "text/plain": [
       "Epoch 6:   0%|          | 0/60 [00:00<?, ?batch/s]"
      ]
     },
     "metadata": {},
     "output_type": "display_data"
    },
    {
     "name": "stdout",
     "output_type": "stream",
     "text": [
      "Epoch 006\n",
      "TRAIN→ \"R\": RMSE=0.2885 MAE=0.2179 R2=0.0094 | \"B\": Acc=0.4297 Prec=0.2696 Rec=0.6490 F1=0.3809 AUROC=0.4979\n",
      "VALID→ \"R\": RMSE=0.2934 MAE=0.1971 R2=-0.0736 | \"B\": Acc=0.2735 Prec=0.2735 Rec=1.0000 F1=0.4295 AUROC=0.3792\n"
     ]
    },
    {
     "data": {
      "application/vnd.jupyter.widget-view+json": {
       "model_id": "1dab7bc1dfb54a95b5a478f1bb430550",
       "version_major": 2,
       "version_minor": 0
      },
      "text/plain": [
       "Epoch 7:   0%|          | 0/60 [00:00<?, ?batch/s]"
      ]
     },
     "metadata": {},
     "output_type": "display_data"
    },
    {
     "name": "stdout",
     "output_type": "stream",
     "text": [
      "Epoch 007\n",
      "TRAIN→ \"R\": RMSE=0.2880 MAE=0.2174 R2=0.0133 | \"B\": Acc=0.4397 Prec=0.2698 Rec=0.6283 F1=0.3775 AUROC=0.4983\n",
      "VALID→ \"R\": RMSE=0.2926 MAE=0.1967 R2=-0.0676 | \"B\": Acc=0.2735 Prec=0.2735 Rec=1.0000 F1=0.4295 AUROC=0.3844\n"
     ]
    },
    {
     "data": {
      "application/vnd.jupyter.widget-view+json": {
       "model_id": "0b6eeee6b7404067a259f56809c0bcac",
       "version_major": 2,
       "version_minor": 0
      },
      "text/plain": [
       "Epoch 8:   0%|          | 0/60 [00:00<?, ?batch/s]"
      ]
     },
     "metadata": {},
     "output_type": "display_data"
    },
    {
     "name": "stdout",
     "output_type": "stream",
     "text": [
      "Epoch 008\n",
      "TRAIN→ \"R\": RMSE=0.2874 MAE=0.2168 R2=0.0169 | \"B\": Acc=0.4532 Prec=0.2704 Rec=0.6020 F1=0.3732 AUROC=0.4998\n",
      "VALID→ \"R\": RMSE=0.2919 MAE=0.1964 R2=-0.0626 | \"B\": Acc=0.2735 Prec=0.2735 Rec=1.0000 F1=0.4295 AUROC=0.3945\n"
     ]
    },
    {
     "data": {
      "application/vnd.jupyter.widget-view+json": {
       "model_id": "833575a3223449cdb3133040705bf8e6",
       "version_major": 2,
       "version_minor": 0
      },
      "text/plain": [
       "Epoch 9:   0%|          | 0/60 [00:00<?, ?batch/s]"
      ]
     },
     "metadata": {},
     "output_type": "display_data"
    },
    {
     "name": "stdout",
     "output_type": "stream",
     "text": [
      "Epoch 009\n",
      "TRAIN→ \"R\": RMSE=0.2871 MAE=0.2164 R2=0.0192 | \"B\": Acc=0.4676 Prec=0.2710 Rec=0.5733 F1=0.3680 AUROC=0.5008\n",
      "VALID→ \"R\": RMSE=0.2912 MAE=0.1961 R2=-0.0571 | \"B\": Acc=0.2737 Prec=0.2735 Rec=1.0000 F1=0.4296 AUROC=0.4096\n"
     ]
    },
    {
     "data": {
      "application/vnd.jupyter.widget-view+json": {
       "model_id": "b90c4f01df27488193530df10c4a38a4",
       "version_major": 2,
       "version_minor": 0
      },
      "text/plain": [
       "Epoch 10:   0%|          | 0/60 [00:00<?, ?batch/s]"
      ]
     },
     "metadata": {},
     "output_type": "display_data"
    },
    {
     "name": "stdout",
     "output_type": "stream",
     "text": [
      "Epoch 010\n",
      "TRAIN→ \"R\": RMSE=0.2866 MAE=0.2161 R2=0.0225 | \"B\": Acc=0.4821 Prec=0.2712 Rec=0.5422 F1=0.3615 AUROC=0.5017\n",
      "VALID→ \"R\": RMSE=0.2907 MAE=0.1959 R2=-0.0536 | \"B\": Acc=0.2758 Prec=0.2738 Rec=0.9978 F1=0.4297 AUROC=0.4295\n"
     ]
    },
    {
     "data": {
      "application/vnd.jupyter.widget-view+json": {
       "model_id": "53b0f3c850d54138b5af2f134547f61b",
       "version_major": 2,
       "version_minor": 0
      },
      "text/plain": [
       "Epoch 11:   0%|          | 0/60 [00:00<?, ?batch/s]"
      ]
     },
     "metadata": {},
     "output_type": "display_data"
    },
    {
     "name": "stdout",
     "output_type": "stream",
     "text": [
      "Epoch 011\n",
      "TRAIN→ \"R\": RMSE=0.2863 MAE=0.2157 R2=0.0250 | \"B\": Acc=0.4970 Prec=0.2715 Rec=0.5109 F1=0.3546 AUROC=0.5019\n",
      "VALID→ \"R\": RMSE=0.2900 MAE=0.1957 R2=-0.0484 | \"B\": Acc=0.3095 Prec=0.2686 Rec=0.8855 F1=0.4122 AUROC=0.4527\n"
     ]
    },
    {
     "data": {
      "application/vnd.jupyter.widget-view+json": {
       "model_id": "1cab76dfb81041918d7003678ca832ca",
       "version_major": 2,
       "version_minor": 0
      },
      "text/plain": [
       "Epoch 12:   0%|          | 0/60 [00:00<?, ?batch/s]"
      ]
     },
     "metadata": {},
     "output_type": "display_data"
    },
    {
     "name": "stdout",
     "output_type": "stream",
     "text": [
      "Epoch 012\n",
      "TRAIN→ \"R\": RMSE=0.2859 MAE=0.2155 R2=0.0272 | \"B\": Acc=0.5103 Prec=0.2723 Rec=0.4847 F1=0.3487 AUROC=0.5035\n",
      "VALID→ \"R\": RMSE=0.2894 MAE=0.1955 R2=-0.0445 | \"B\": Acc=0.5099 Prec=0.2563 Rec=0.4164 F1=0.3173 AUROC=0.4743\n"
     ]
    },
    {
     "data": {
      "application/vnd.jupyter.widget-view+json": {
       "model_id": "7bbf6d57376f4053a66c20a46347019e",
       "version_major": 2,
       "version_minor": 0
      },
      "text/plain": [
       "Epoch 13:   0%|          | 0/60 [00:00<?, ?batch/s]"
      ]
     },
     "metadata": {},
     "output_type": "display_data"
    },
    {
     "name": "stdout",
     "output_type": "stream",
     "text": [
      "Epoch 013\n",
      "TRAIN→ \"R\": RMSE=0.2856 MAE=0.2152 R2=0.0296 | \"B\": Acc=0.5221 Prec=0.2724 Rec=0.4592 F1=0.3420 AUROC=0.5031\n",
      "VALID→ \"R\": RMSE=0.2888 MAE=0.1954 R2=-0.0398 | \"B\": Acc=0.6791 Prec=0.2767 Rec=0.1075 F1=0.1549 AUROC=0.4951\n"
     ]
    },
    {
     "data": {
      "application/vnd.jupyter.widget-view+json": {
       "model_id": "07457cadb201486da7c7218f30c904d7",
       "version_major": 2,
       "version_minor": 0
      },
      "text/plain": [
       "Epoch 14:   0%|          | 0/60 [00:00<?, ?batch/s]"
      ]
     },
     "metadata": {},
     "output_type": "display_data"
    },
    {
     "name": "stdout",
     "output_type": "stream",
     "text": [
      "Epoch 014\n",
      "TRAIN→ \"R\": RMSE=0.2853 MAE=0.2150 R2=0.0318 | \"B\": Acc=0.5336 Prec=0.2724 Rec=0.4337 F1=0.3346 AUROC=0.5033\n",
      "VALID→ \"R\": RMSE=0.2882 MAE=0.1952 R2=-0.0359 | \"B\": Acc=0.7187 Prec=0.3262 Rec=0.0268 F1=0.0496 AUROC=0.5083\n"
     ]
    },
    {
     "data": {
      "application/vnd.jupyter.widget-view+json": {
       "model_id": "971c2b5608ed433986e0c7e7f91ea4db",
       "version_major": 2,
       "version_minor": 0
      },
      "text/plain": [
       "Epoch 15:   0%|          | 0/60 [00:00<?, ?batch/s]"
      ]
     },
     "metadata": {},
     "output_type": "display_data"
    },
    {
     "name": "stdout",
     "output_type": "stream",
     "text": [
      "Epoch 015\n",
      "TRAIN→ \"R\": RMSE=0.2850 MAE=0.2148 R2=0.0338 | \"B\": Acc=0.5432 Prec=0.2728 Rec=0.4138 F1=0.3288 AUROC=0.5041\n",
      "VALID→ \"R\": RMSE=0.2878 MAE=0.1951 R2=-0.0330 | \"B\": Acc=0.7247 Prec=0.3676 Rec=0.0092 F1=0.0180 AUROC=0.5177\n"
     ]
    },
    {
     "data": {
      "application/vnd.jupyter.widget-view+json": {
       "model_id": "83abf3537e4145feba1c00927dfd82a0",
       "version_major": 2,
       "version_minor": 0
      },
      "text/plain": [
       "Epoch 16:   0%|          | 0/60 [00:00<?, ?batch/s]"
      ]
     },
     "metadata": {},
     "output_type": "display_data"
    },
    {
     "name": "stdout",
     "output_type": "stream",
     "text": [
      "Epoch 016\n",
      "TRAIN→ \"R\": RMSE=0.2847 MAE=0.2146 R2=0.0355 | \"B\": Acc=0.5518 Prec=0.2740 Rec=0.3987 F1=0.3248 AUROC=0.5046\n",
      "VALID→ \"R\": RMSE=0.2873 MAE=0.1950 R2=-0.0291 | \"B\": Acc=0.7259 Prec=0.3450 Rec=0.0026 F1=0.0052 AUROC=0.5278\n"
     ]
    },
    {
     "data": {
      "application/vnd.jupyter.widget-view+json": {
       "model_id": "981ba0fad4b74f8ca3f69d5b863dee0b",
       "version_major": 2,
       "version_minor": 0
      },
      "text/plain": [
       "Epoch 17:   0%|          | 0/60 [00:00<?, ?batch/s]"
      ]
     },
     "metadata": {},
     "output_type": "display_data"
    },
    {
     "name": "stdout",
     "output_type": "stream",
     "text": [
      "Epoch 017\n",
      "TRAIN→ \"R\": RMSE=0.2845 MAE=0.2144 R2=0.0369 | \"B\": Acc=0.5590 Prec=0.2739 Rec=0.3822 F1=0.3191 AUROC=0.5047\n",
      "VALID→ \"R\": RMSE=0.2869 MAE=0.1949 R2=-0.0261 | \"B\": Acc=0.7259 Prec=0.2368 Rec=0.0010 F1=0.0020 AUROC=0.5317\n"
     ]
    },
    {
     "data": {
      "application/vnd.jupyter.widget-view+json": {
       "model_id": "21af7c09146f4fe2bb0a28ff580b4ccb",
       "version_major": 2,
       "version_minor": 0
      },
      "text/plain": [
       "Epoch 18:   0%|          | 0/60 [00:00<?, ?batch/s]"
      ]
     },
     "metadata": {},
     "output_type": "display_data"
    },
    {
     "name": "stdout",
     "output_type": "stream",
     "text": [
      "Epoch 018\n",
      "TRAIN→ \"R\": RMSE=0.2842 MAE=0.2141 R2=0.0391 | \"B\": Acc=0.5644 Prec=0.2740 Rec=0.3702 F1=0.3149 AUROC=0.5045\n",
      "VALID→ \"R\": RMSE=0.2864 MAE=0.1948 R2=-0.0230 | \"B\": Acc=0.7259 Prec=0.1765 Rec=0.0006 F1=0.0012 AUROC=0.5332\n"
     ]
    },
    {
     "data": {
      "application/vnd.jupyter.widget-view+json": {
       "model_id": "33096ec4ce12457f83cb283fdaa36ab3",
       "version_major": 2,
       "version_minor": 0
      },
      "text/plain": [
       "Epoch 19:   0%|          | 0/60 [00:00<?, ?batch/s]"
      ]
     },
     "metadata": {},
     "output_type": "display_data"
    },
    {
     "name": "stdout",
     "output_type": "stream",
     "text": [
      "Epoch 019\n",
      "TRAIN→ \"R\": RMSE=0.2839 MAE=0.2140 R2=0.0407 | \"B\": Acc=0.5690 Prec=0.2739 Rec=0.3597 F1=0.3110 AUROC=0.5045\n",
      "VALID→ \"R\": RMSE=0.2860 MAE=0.1947 R2=-0.0200 | \"B\": Acc=0.7259 Prec=0.1527 Rec=0.0005 F1=0.0010 AUROC=0.5342\n"
     ]
    },
    {
     "data": {
      "application/vnd.jupyter.widget-view+json": {
       "model_id": "8ff6ef345c0343fa991ca054f26ea93a",
       "version_major": 2,
       "version_minor": 0
      },
      "text/plain": [
       "Epoch 20:   0%|          | 0/60 [00:00<?, ?batch/s]"
      ]
     },
     "metadata": {},
     "output_type": "display_data"
    },
    {
     "name": "stdout",
     "output_type": "stream",
     "text": [
      "Epoch 020\n",
      "TRAIN→ \"R\": RMSE=0.2837 MAE=0.2138 R2=0.0422 | \"B\": Acc=0.5723 Prec=0.2736 Rec=0.3514 F1=0.3076 AUROC=0.5036\n",
      "VALID→ \"R\": RMSE=0.2855 MAE=0.1945 R2=-0.0167 | \"B\": Acc=0.7260 Prec=0.1469 Rec=0.0004 F1=0.0009 AUROC=0.5343\n"
     ]
    },
    {
     "data": {
      "application/vnd.jupyter.widget-view+json": {
       "model_id": "5672a1eba4ea4620b4c8efe4c04d8d82",
       "version_major": 2,
       "version_minor": 0
      },
      "text/plain": [
       "Epoch 21:   0%|          | 0/60 [00:00<?, ?batch/s]"
      ]
     },
     "metadata": {},
     "output_type": "display_data"
    },
    {
     "name": "stdout",
     "output_type": "stream",
     "text": [
      "Epoch 021\n",
      "TRAIN→ \"R\": RMSE=0.2835 MAE=0.2137 R2=0.0437 | \"B\": Acc=0.5760 Prec=0.2741 Rec=0.3445 F1=0.3053 AUROC=0.5045\n",
      "VALID→ \"R\": RMSE=0.2851 MAE=0.1944 R2=-0.0136 | \"B\": Acc=0.7260 Prec=0.1483 Rec=0.0004 F1=0.0009 AUROC=0.5312\n"
     ]
    },
    {
     "data": {
      "application/vnd.jupyter.widget-view+json": {
       "model_id": "9632f24c1b264ccdba38aa8ce088958d",
       "version_major": 2,
       "version_minor": 0
      },
      "text/plain": [
       "Epoch 22:   0%|          | 0/60 [00:00<?, ?batch/s]"
      ]
     },
     "metadata": {},
     "output_type": "display_data"
    },
    {
     "name": "stdout",
     "output_type": "stream",
     "text": [
      "Epoch 022\n",
      "TRAIN→ \"R\": RMSE=0.2833 MAE=0.2135 R2=0.0452 | \"B\": Acc=0.5779 Prec=0.2734 Rec=0.3385 F1=0.3025 AUROC=0.5036\n",
      "VALID→ \"R\": RMSE=0.2847 MAE=0.1943 R2=-0.0106 | \"B\": Acc=0.7260 Prec=0.1497 Rec=0.0004 F1=0.0009 AUROC=0.5295\n"
     ]
    },
    {
     "data": {
      "application/vnd.jupyter.widget-view+json": {
       "model_id": "d5043a77e7ba4552bad7824a91c93388",
       "version_major": 2,
       "version_minor": 0
      },
      "text/plain": [
       "Epoch 23:   0%|          | 0/60 [00:00<?, ?batch/s]"
      ]
     },
     "metadata": {},
     "output_type": "display_data"
    },
    {
     "name": "stdout",
     "output_type": "stream",
     "text": [
      "Epoch 023\n",
      "TRAIN→ \"R\": RMSE=0.2831 MAE=0.2133 R2=0.0466 | \"B\": Acc=0.5811 Prec=0.2745 Rec=0.3341 F1=0.3014 AUROC=0.5042\n",
      "VALID→ \"R\": RMSE=0.2842 MAE=0.1942 R2=-0.0072 | \"B\": Acc=0.7260 Prec=0.1546 Rec=0.0005 F1=0.0009 AUROC=0.5323\n"
     ]
    },
    {
     "data": {
      "application/vnd.jupyter.widget-view+json": {
       "model_id": "4eed45f8addd403d95b58c00c6d23c7d",
       "version_major": 2,
       "version_minor": 0
      },
      "text/plain": [
       "Epoch 24:   0%|          | 0/60 [00:00<?, ?batch/s]"
      ]
     },
     "metadata": {},
     "output_type": "display_data"
    },
    {
     "name": "stdout",
     "output_type": "stream",
     "text": [
      "Epoch 024\n",
      "TRAIN→ \"R\": RMSE=0.2828 MAE=0.2131 R2=0.0485 | \"B\": Acc=0.5832 Prec=0.2751 Rec=0.3312 F1=0.3006 AUROC=0.5050\n",
      "VALID→ \"R\": RMSE=0.2836 MAE=0.1940 R2=-0.0030 | \"B\": Acc=0.7260 Prec=0.1594 Rec=0.0005 F1=0.0010 AUROC=0.5351\n"
     ]
    },
    {
     "data": {
      "application/vnd.jupyter.widget-view+json": {
       "model_id": "4d267a82ead64bc99c07eebf91928d37",
       "version_major": 2,
       "version_minor": 0
      },
      "text/plain": [
       "Epoch 25:   0%|          | 0/60 [00:00<?, ?batch/s]"
      ]
     },
     "metadata": {},
     "output_type": "display_data"
    },
    {
     "name": "stdout",
     "output_type": "stream",
     "text": [
      "Epoch 025\n",
      "TRAIN→ \"R\": RMSE=0.2825 MAE=0.2129 R2=0.0506 | \"B\": Acc=0.5861 Prec=0.2753 Rec=0.3249 F1=0.2980 AUROC=0.5051\n",
      "VALID→ \"R\": RMSE=0.2832 MAE=0.1939 R2=-0.0002 | \"B\": Acc=0.7260 Prec=0.1604 Rec=0.0005 F1=0.0010 AUROC=0.5361\n"
     ]
    },
    {
     "data": {
      "application/vnd.jupyter.widget-view+json": {
       "model_id": "4caf3d8321fd433698cd685917a063fc",
       "version_major": 2,
       "version_minor": 0
      },
      "text/plain": [
       "Epoch 26:   0%|          | 0/60 [00:00<?, ?batch/s]"
      ]
     },
     "metadata": {},
     "output_type": "display_data"
    },
    {
     "name": "stdout",
     "output_type": "stream",
     "text": [
      "Epoch 026\n",
      "TRAIN→ \"R\": RMSE=0.2822 MAE=0.2127 R2=0.0521 | \"B\": Acc=0.5889 Prec=0.2752 Rec=0.3184 F1=0.2952 AUROC=0.5058\n",
      "VALID→ \"R\": RMSE=0.2827 MAE=0.1938 R2=0.0038 | \"B\": Acc=0.7260 Prec=0.1635 Rec=0.0005 F1=0.0010 AUROC=0.5362\n"
     ]
    },
    {
     "data": {
      "application/vnd.jupyter.widget-view+json": {
       "model_id": "9c18a99182344298b913cf5fcccbac33",
       "version_major": 2,
       "version_minor": 0
      },
      "text/plain": [
       "Epoch 27:   0%|          | 0/60 [00:00<?, ?batch/s]"
      ]
     },
     "metadata": {},
     "output_type": "display_data"
    },
    {
     "name": "stdout",
     "output_type": "stream",
     "text": [
      "Epoch 027\n",
      "TRAIN→ \"R\": RMSE=0.2819 MAE=0.2125 R2=0.0543 | \"B\": Acc=0.5917 Prec=0.2760 Rec=0.3141 F1=0.2938 AUROC=0.5061\n",
      "VALID→ \"R\": RMSE=0.2822 MAE=0.1936 R2=0.0068 | \"B\": Acc=0.7260 Prec=0.1755 Rec=0.0005 F1=0.0011 AUROC=0.5386\n"
     ]
    },
    {
     "data": {
      "application/vnd.jupyter.widget-view+json": {
       "model_id": "704576f552144b968bd3d7216f18d143",
       "version_major": 2,
       "version_minor": 0
      },
      "text/plain": [
       "Epoch 28:   0%|          | 0/60 [00:00<?, ?batch/s]"
      ]
     },
     "metadata": {},
     "output_type": "display_data"
    },
    {
     "name": "stdout",
     "output_type": "stream",
     "text": [
      "Epoch 028\n",
      "TRAIN→ \"R\": RMSE=0.2818 MAE=0.2123 R2=0.0553 | \"B\": Acc=0.5932 Prec=0.2759 Rec=0.3106 F1=0.2922 AUROC=0.5062\n",
      "VALID→ \"R\": RMSE=0.2817 MAE=0.1935 R2=0.0108 | \"B\": Acc=0.7260 Prec=0.1915 Rec=0.0006 F1=0.0012 AUROC=0.5386\n"
     ]
    },
    {
     "data": {
      "application/vnd.jupyter.widget-view+json": {
       "model_id": "062bd390e3654658aab4c4c11271ab25",
       "version_major": 2,
       "version_minor": 0
      },
      "text/plain": [
       "Epoch 29:   0%|          | 0/60 [00:00<?, ?batch/s]"
      ]
     },
     "metadata": {},
     "output_type": "display_data"
    },
    {
     "name": "stdout",
     "output_type": "stream",
     "text": [
      "Epoch 029\n",
      "TRAIN→ \"R\": RMSE=0.2815 MAE=0.2122 R2=0.0571 | \"B\": Acc=0.5938 Prec=0.2756 Rec=0.3084 F1=0.2911 AUROC=0.5052\n",
      "VALID→ \"R\": RMSE=0.2813 MAE=0.1934 R2=0.0134 | \"B\": Acc=0.7260 Prec=0.1970 Rec=0.0006 F1=0.0012 AUROC=0.5388\n"
     ]
    },
    {
     "data": {
      "application/vnd.jupyter.widget-view+json": {
       "model_id": "79fa86df49e846ee87283c055ee750ab",
       "version_major": 2,
       "version_minor": 0
      },
      "text/plain": [
       "Epoch 30:   0%|          | 0/60 [00:00<?, ?batch/s]"
      ]
     },
     "metadata": {},
     "output_type": "display_data"
    },
    {
     "name": "stdout",
     "output_type": "stream",
     "text": [
      "Epoch 030\n",
      "TRAIN→ \"R\": RMSE=0.2813 MAE=0.2119 R2=0.0585 | \"B\": Acc=0.5944 Prec=0.2754 Rec=0.3065 F1=0.2901 AUROC=0.5052\n",
      "VALID→ \"R\": RMSE=0.2809 MAE=0.1933 R2=0.0165 | \"B\": Acc=0.7260 Prec=0.1994 Rec=0.0006 F1=0.0013 AUROC=0.5370\n"
     ]
    },
    {
     "data": {
      "application/vnd.jupyter.widget-view+json": {
       "model_id": "c4089271bf4b4da0a916ae541c083ffa",
       "version_major": 2,
       "version_minor": 0
      },
      "text/plain": [
       "Epoch 31:   0%|          | 0/60 [00:00<?, ?batch/s]"
      ]
     },
     "metadata": {},
     "output_type": "display_data"
    },
    {
     "name": "stdout",
     "output_type": "stream",
     "text": [
      "Epoch 031\n",
      "TRAIN→ \"R\": RMSE=0.2810 MAE=0.2118 R2=0.0602 | \"B\": Acc=0.5962 Prec=0.2754 Rec=0.3027 F1=0.2884 AUROC=0.5057\n",
      "VALID→ \"R\": RMSE=0.2804 MAE=0.1932 R2=0.0194 | \"B\": Acc=0.7260 Prec=0.2042 Rec=0.0006 F1=0.0013 AUROC=0.5355\n"
     ]
    },
    {
     "data": {
      "application/vnd.jupyter.widget-view+json": {
       "model_id": "b99c79e6f9b04d8b855f6bc9a2f0a93d",
       "version_major": 2,
       "version_minor": 0
      },
      "text/plain": [
       "Epoch 32:   0%|          | 0/60 [00:00<?, ?batch/s]"
      ]
     },
     "metadata": {},
     "output_type": "display_data"
    },
    {
     "name": "stdout",
     "output_type": "stream",
     "text": [
      "Epoch 032\n",
      "TRAIN→ \"R\": RMSE=0.2808 MAE=0.2116 R2=0.0618 | \"B\": Acc=0.5967 Prec=0.2752 Rec=0.3009 F1=0.2875 AUROC=0.5043\n",
      "VALID→ \"R\": RMSE=0.2800 MAE=0.1931 R2=0.0226 | \"B\": Acc=0.7261 Prec=0.2351 Rec=0.0008 F1=0.0016 AUROC=0.5330\n"
     ]
    },
    {
     "data": {
      "application/vnd.jupyter.widget-view+json": {
       "model_id": "964666f44d874e4c9dda87c46ddb2e70",
       "version_major": 2,
       "version_minor": 0
      },
      "text/plain": [
       "Epoch 33:   0%|          | 0/60 [00:00<?, ?batch/s]"
      ]
     },
     "metadata": {},
     "output_type": "display_data"
    },
    {
     "name": "stdout",
     "output_type": "stream",
     "text": [
      "Epoch 033\n",
      "TRAIN→ \"R\": RMSE=0.2805 MAE=0.2114 R2=0.0635 | \"B\": Acc=0.5948 Prec=0.2755 Rec=0.3058 F1=0.2898 AUROC=0.5049\n",
      "VALID→ \"R\": RMSE=0.2795 MAE=0.1930 R2=0.0260 | \"B\": Acc=0.7261 Prec=0.2554 Rec=0.0009 F1=0.0018 AUROC=0.5322\n"
     ]
    },
    {
     "data": {
      "application/vnd.jupyter.widget-view+json": {
       "model_id": "550f4cfbea4a4cb6b9825b4ddd625357",
       "version_major": 2,
       "version_minor": 0
      },
      "text/plain": [
       "Epoch 34:   0%|          | 0/60 [00:00<?, ?batch/s]"
      ]
     },
     "metadata": {},
     "output_type": "display_data"
    },
    {
     "name": "stdout",
     "output_type": "stream",
     "text": [
      "Epoch 034\n",
      "TRAIN→ \"R\": RMSE=0.2804 MAE=0.2113 R2=0.0642 | \"B\": Acc=0.5933 Prec=0.2741 Rec=0.3058 F1=0.2891 AUROC=0.5036\n",
      "VALID→ \"R\": RMSE=0.2792 MAE=0.1930 R2=0.0283 | \"B\": Acc=0.7261 Prec=0.2985 Rec=0.0011 F1=0.0023 AUROC=0.5301\n"
     ]
    },
    {
     "data": {
      "application/vnd.jupyter.widget-view+json": {
       "model_id": "4e7eed3f78ab4338a9f6e92cb36d284f",
       "version_major": 2,
       "version_minor": 0
      },
      "text/plain": [
       "Epoch 35:   0%|          | 0/60 [00:00<?, ?batch/s]"
      ]
     },
     "metadata": {},
     "output_type": "display_data"
    },
    {
     "name": "stdout",
     "output_type": "stream",
     "text": [
      "Epoch 035\n",
      "TRAIN→ \"R\": RMSE=0.2802 MAE=0.2112 R2=0.0658 | \"B\": Acc=0.5907 Prec=0.2739 Rec=0.3111 F1=0.2913 AUROC=0.5035\n",
      "VALID→ \"R\": RMSE=0.2787 MAE=0.1929 R2=0.0314 | \"B\": Acc=0.7261 Prec=0.3088 Rec=0.0012 F1=0.0025 AUROC=0.5274\n"
     ]
    },
    {
     "data": {
      "application/vnd.jupyter.widget-view+json": {
       "model_id": "fdae35d5adb24664841f29aaed4c4310",
       "version_major": 2,
       "version_minor": 0
      },
      "text/plain": [
       "Epoch 36:   0%|          | 0/60 [00:00<?, ?batch/s]"
      ]
     },
     "metadata": {},
     "output_type": "display_data"
    },
    {
     "name": "stdout",
     "output_type": "stream",
     "text": [
      "Epoch 036\n",
      "TRAIN→ \"R\": RMSE=0.2800 MAE=0.2111 R2=0.0671 | \"B\": Acc=0.5902 Prec=0.2743 Rec=0.3131 F1=0.2924 AUROC=0.5036\n",
      "VALID→ \"R\": RMSE=0.2783 MAE=0.1928 R2=0.0341 | \"B\": Acc=0.7261 Prec=0.3214 Rec=0.0015 F1=0.0029 AUROC=0.5228\n"
     ]
    },
    {
     "data": {
      "application/vnd.jupyter.widget-view+json": {
       "model_id": "78f369a5f62b435bb0888f6e97cedefe",
       "version_major": 2,
       "version_minor": 0
      },
      "text/plain": [
       "Epoch 37:   0%|          | 0/60 [00:00<?, ?batch/s]"
      ]
     },
     "metadata": {},
     "output_type": "display_data"
    },
    {
     "name": "stdout",
     "output_type": "stream",
     "text": [
      "Epoch 037\n",
      "TRAIN→ \"R\": RMSE=0.2798 MAE=0.2109 R2=0.0686 | \"B\": Acc=0.5895 Prec=0.2738 Rec=0.3136 F1=0.2924 AUROC=0.5027\n",
      "VALID→ \"R\": RMSE=0.2780 MAE=0.1927 R2=0.0365 | \"B\": Acc=0.7261 Prec=0.3257 Rec=0.0016 F1=0.0032 AUROC=0.5188\n"
     ]
    },
    {
     "data": {
      "application/vnd.jupyter.widget-view+json": {
       "model_id": "91055acd3a024518acda7007bdbacf14",
       "version_major": 2,
       "version_minor": 0
      },
      "text/plain": [
       "Epoch 38:   0%|          | 0/60 [00:00<?, ?batch/s]"
      ]
     },
     "metadata": {},
     "output_type": "display_data"
    },
    {
     "name": "stdout",
     "output_type": "stream",
     "text": [
      "Epoch 038\n",
      "TRAIN→ \"R\": RMSE=0.2796 MAE=0.2108 R2=0.0697 | \"B\": Acc=0.5884 Prec=0.2722 Rec=0.3121 F1=0.2908 AUROC=0.5013\n",
      "VALID→ \"R\": RMSE=0.2776 MAE=0.1927 R2=0.0388 | \"B\": Acc=0.7260 Prec=0.3189 Rec=0.0018 F1=0.0035 AUROC=0.5145\n"
     ]
    },
    {
     "data": {
      "application/vnd.jupyter.widget-view+json": {
       "model_id": "3de3dcc98f8644f5819bd88c5e9c74ba",
       "version_major": 2,
       "version_minor": 0
      },
      "text/plain": [
       "Epoch 39:   0%|          | 0/60 [00:00<?, ?batch/s]"
      ]
     },
     "metadata": {},
     "output_type": "display_data"
    },
    {
     "name": "stdout",
     "output_type": "stream",
     "text": [
      "Epoch 039\n",
      "TRAIN→ \"R\": RMSE=0.2794 MAE=0.2106 R2=0.0713 | \"B\": Acc=0.5874 Prec=0.2723 Rec=0.3143 F1=0.2918 AUROC=0.5012\n",
      "VALID→ \"R\": RMSE=0.2773 MAE=0.1926 R2=0.0414 | \"B\": Acc=0.7259 Prec=0.3325 Rec=0.0025 F1=0.0050 AUROC=0.5110\n"
     ]
    },
    {
     "data": {
      "application/vnd.jupyter.widget-view+json": {
       "model_id": "2c3015c6418c4ce2a69f5406f39c3035",
       "version_major": 2,
       "version_minor": 0
      },
      "text/plain": [
       "Epoch 40:   0%|          | 0/60 [00:00<?, ?batch/s]"
      ]
     },
     "metadata": {},
     "output_type": "display_data"
    },
    {
     "name": "stdout",
     "output_type": "stream",
     "text": [
      "Epoch 040\n",
      "TRAIN→ \"R\": RMSE=0.2792 MAE=0.2105 R2=0.0725 | \"B\": Acc=0.5852 Prec=0.2718 Rec=0.3179 F1=0.2931 AUROC=0.5004\n",
      "VALID→ \"R\": RMSE=0.2768 MAE=0.1925 R2=0.0444 | \"B\": Acc=0.7256 Prec=0.3207 Rec=0.0032 F1=0.0062 AUROC=0.5061\n"
     ]
    },
    {
     "data": {
      "application/vnd.jupyter.widget-view+json": {
       "model_id": "56284890cc734727ba47864c290ddf40",
       "version_major": 2,
       "version_minor": 0
      },
      "text/plain": [
       "Epoch 41:   0%|          | 0/60 [00:00<?, ?batch/s]"
      ]
     },
     "metadata": {},
     "output_type": "display_data"
    },
    {
     "name": "stdout",
     "output_type": "stream",
     "text": [
      "Epoch 041\n",
      "TRAIN→ \"R\": RMSE=0.2790 MAE=0.2104 R2=0.0736 | \"B\": Acc=0.5827 Prec=0.2706 Rec=0.3203 F1=0.2933 AUROC=0.4995\n",
      "VALID→ \"R\": RMSE=0.2765 MAE=0.1925 R2=0.0466 | \"B\": Acc=0.7253 Prec=0.3181 Rec=0.0038 F1=0.0076 AUROC=0.5024\n"
     ]
    },
    {
     "data": {
      "application/vnd.jupyter.widget-view+json": {
       "model_id": "2c665c7f3b0940df9fff3525f2b4d7b9",
       "version_major": 2,
       "version_minor": 0
      },
      "text/plain": [
       "Epoch 42:   0%|          | 0/60 [00:00<?, ?batch/s]"
      ]
     },
     "metadata": {},
     "output_type": "display_data"
    },
    {
     "name": "stdout",
     "output_type": "stream",
     "text": [
      "Epoch 042\n",
      "TRAIN→ \"R\": RMSE=0.2788 MAE=0.2103 R2=0.0748 | \"B\": Acc=0.5818 Prec=0.2711 Rec=0.3238 F1=0.2952 AUROC=0.4997\n",
      "VALID→ \"R\": RMSE=0.2762 MAE=0.1924 R2=0.0490 | \"B\": Acc=0.7249 Prec=0.3082 Rec=0.0050 F1=0.0098 AUROC=0.4990\n"
     ]
    },
    {
     "data": {
      "application/vnd.jupyter.widget-view+json": {
       "model_id": "a23a6e871527418e8447207ffcffc1f2",
       "version_major": 2,
       "version_minor": 0
      },
      "text/plain": [
       "Epoch 43:   0%|          | 0/60 [00:00<?, ?batch/s]"
      ]
     },
     "metadata": {},
     "output_type": "display_data"
    },
    {
     "name": "stdout",
     "output_type": "stream",
     "text": [
      "Epoch 043\n",
      "TRAIN→ \"R\": RMSE=0.2787 MAE=0.2102 R2=0.0758 | \"B\": Acc=0.5795 Prec=0.2709 Rec=0.3281 F1=0.2968 AUROC=0.4992\n",
      "VALID→ \"R\": RMSE=0.2758 MAE=0.1923 R2=0.0514 | \"B\": Acc=0.7242 Prec=0.3122 Rec=0.0071 F1=0.0139 AUROC=0.4960\n"
     ]
    },
    {
     "data": {
      "application/vnd.jupyter.widget-view+json": {
       "model_id": "0bba409a68c94d6fb303ae8faa130866",
       "version_major": 2,
       "version_minor": 0
      },
      "text/plain": [
       "Epoch 44:   0%|          | 0/60 [00:00<?, ?batch/s]"
      ]
     },
     "metadata": {},
     "output_type": "display_data"
    },
    {
     "name": "stdout",
     "output_type": "stream",
     "text": [
      "Epoch 044\n",
      "TRAIN→ \"R\": RMSE=0.2785 MAE=0.2101 R2=0.0771 | \"B\": Acc=0.5762 Prec=0.2701 Rec=0.3330 F1=0.2983 AUROC=0.4984\n",
      "VALID→ \"R\": RMSE=0.2755 MAE=0.1923 R2=0.0536 | \"B\": Acc=0.7232 Prec=0.3004 Rec=0.0091 F1=0.0177 AUROC=0.4922\n"
     ]
    },
    {
     "data": {
      "application/vnd.jupyter.widget-view+json": {
       "model_id": "d8c1facee1fb482090ea2a1f612f96c6",
       "version_major": 2,
       "version_minor": 0
      },
      "text/plain": [
       "Epoch 45:   0%|          | 0/60 [00:00<?, ?batch/s]"
      ]
     },
     "metadata": {},
     "output_type": "display_data"
    },
    {
     "name": "stdout",
     "output_type": "stream",
     "text": [
      "Epoch 045\n",
      "TRAIN→ \"R\": RMSE=0.2783 MAE=0.2100 R2=0.0782 | \"B\": Acc=0.5730 Prec=0.2688 Rec=0.3366 F1=0.2989 AUROC=0.4971\n",
      "VALID→ \"R\": RMSE=0.2752 MAE=0.1922 R2=0.0554 | \"B\": Acc=0.7215 Prec=0.2928 Rec=0.0129 F1=0.0248 AUROC=0.4871\n"
     ]
    },
    {
     "data": {
      "application/vnd.jupyter.widget-view+json": {
       "model_id": "5c167b01972e4956a5dbb01be2bc6b92",
       "version_major": 2,
       "version_minor": 0
      },
      "text/plain": [
       "Epoch 46:   0%|          | 0/60 [00:00<?, ?batch/s]"
      ]
     },
     "metadata": {},
     "output_type": "display_data"
    },
    {
     "name": "stdout",
     "output_type": "stream",
     "text": [
      "Epoch 046\n",
      "TRAIN→ \"R\": RMSE=0.2782 MAE=0.2099 R2=0.0791 | \"B\": Acc=0.5721 Prec=0.2700 Rec=0.3418 F1=0.3017 AUROC=0.4984\n",
      "VALID→ \"R\": RMSE=0.2749 MAE=0.1922 R2=0.0578 | \"B\": Acc=0.7198 Prec=0.2884 Rec=0.0169 F1=0.0319 AUROC=0.4855\n"
     ]
    },
    {
     "data": {
      "application/vnd.jupyter.widget-view+json": {
       "model_id": "d3beec5243974e64b746440c0f56f4fb",
       "version_major": 2,
       "version_minor": 0
      },
      "text/plain": [
       "Epoch 47:   0%|          | 0/60 [00:00<?, ?batch/s]"
      ]
     },
     "metadata": {},
     "output_type": "display_data"
    },
    {
     "name": "stdout",
     "output_type": "stream",
     "text": [
      "Epoch 047\n",
      "TRAIN→ \"R\": RMSE=0.2780 MAE=0.2097 R2=0.0802 | \"B\": Acc=0.5691 Prec=0.2684 Rec=0.3438 F1=0.3015 AUROC=0.4965\n",
      "VALID→ \"R\": RMSE=0.2745 MAE=0.1921 R2=0.0601 | \"B\": Acc=0.7176 Prec=0.2743 Rec=0.0199 F1=0.0372 AUROC=0.4815\n"
     ]
    },
    {
     "data": {
      "application/vnd.jupyter.widget-view+json": {
       "model_id": "a97ce534db814cceb51bc02f34a5229e",
       "version_major": 2,
       "version_minor": 0
      },
      "text/plain": [
       "Epoch 48:   0%|          | 0/60 [00:00<?, ?batch/s]"
      ]
     },
     "metadata": {},
     "output_type": "display_data"
    },
    {
     "name": "stdout",
     "output_type": "stream",
     "text": [
      "Epoch 048\n",
      "TRAIN→ \"R\": RMSE=0.2779 MAE=0.2097 R2=0.0813 | \"B\": Acc=0.5674 Prec=0.2676 Rec=0.3452 F1=0.3015 AUROC=0.4952\n",
      "VALID→ \"R\": RMSE=0.2743 MAE=0.1921 R2=0.0620 | \"B\": Acc=0.7134 Prec=0.2579 Rec=0.0257 F1=0.0467 AUROC=0.4774\n"
     ]
    },
    {
     "data": {
      "application/vnd.jupyter.widget-view+json": {
       "model_id": "df63a965041b4a24bdef914f0a3601bd",
       "version_major": 2,
       "version_minor": 0
      },
      "text/plain": [
       "Epoch 49:   0%|          | 0/60 [00:00<?, ?batch/s]"
      ]
     },
     "metadata": {},
     "output_type": "display_data"
    },
    {
     "name": "stdout",
     "output_type": "stream",
     "text": [
      "Epoch 049\n",
      "TRAIN→ \"R\": RMSE=0.2777 MAE=0.2095 R2=0.0825 | \"B\": Acc=0.5643 Prec=0.2668 Rec=0.3496 F1=0.3027 AUROC=0.4944\n",
      "VALID→ \"R\": RMSE=0.2739 MAE=0.1920 R2=0.0643 | \"B\": Acc=0.7089 Prec=0.2472 Rec=0.0315 F1=0.0558 AUROC=0.4737\n"
     ]
    },
    {
     "data": {
      "application/vnd.jupyter.widget-view+json": {
       "model_id": "21d6238490af45f8a974af0e57bd91f3",
       "version_major": 2,
       "version_minor": 0
      },
      "text/plain": [
       "Epoch 50:   0%|          | 0/60 [00:00<?, ?batch/s]"
      ]
     },
     "metadata": {},
     "output_type": "display_data"
    },
    {
     "name": "stdout",
     "output_type": "stream",
     "text": [
      "Epoch 050\n",
      "TRAIN→ \"R\": RMSE=0.2775 MAE=0.2094 R2=0.0838 | \"B\": Acc=0.5631 Prec=0.2662 Rec=0.3505 F1=0.3026 AUROC=0.4939\n",
      "VALID→ \"R\": RMSE=0.2736 MAE=0.1920 R2=0.0664 | \"B\": Acc=0.7043 Prec=0.2377 Rec=0.0368 F1=0.0637 AUROC=0.4699\n"
     ]
    },
    {
     "data": {
      "application/vnd.jupyter.widget-view+json": {
       "model_id": "44eb119ce02f44f79766880c77518f82",
       "version_major": 2,
       "version_minor": 0
      },
      "text/plain": [
       "Epoch 51:   0%|          | 0/60 [00:00<?, ?batch/s]"
      ]
     },
     "metadata": {},
     "output_type": "display_data"
    },
    {
     "name": "stdout",
     "output_type": "stream",
     "text": [
      "Epoch 051\n",
      "TRAIN→ \"R\": RMSE=0.2774 MAE=0.2094 R2=0.0846 | \"B\": Acc=0.5612 Prec=0.2662 Rec=0.3544 F1=0.3040 AUROC=0.4933\n",
      "VALID→ \"R\": RMSE=0.2733 MAE=0.1919 R2=0.0685 | \"B\": Acc=0.7000 Prec=0.2339 Rec=0.0427 F1=0.0722 AUROC=0.4673\n"
     ]
    },
    {
     "data": {
      "application/vnd.jupyter.widget-view+json": {
       "model_id": "2d8be7a3f3e84c1db9c0337a25e044bf",
       "version_major": 2,
       "version_minor": 0
      },
      "text/plain": [
       "Epoch 52:   0%|          | 0/60 [00:00<?, ?batch/s]"
      ]
     },
     "metadata": {},
     "output_type": "display_data"
    },
    {
     "name": "stdout",
     "output_type": "stream",
     "text": [
      "Epoch 052\n",
      "TRAIN→ \"R\": RMSE=0.2772 MAE=0.2093 R2=0.0858 | \"B\": Acc=0.5601 Prec=0.2656 Rec=0.3551 F1=0.3039 AUROC=0.4929\n",
      "VALID→ \"R\": RMSE=0.2730 MAE=0.1918 R2=0.0705 | \"B\": Acc=0.6950 Prec=0.2288 Rec=0.0486 F1=0.0802 AUROC=0.4636\n"
     ]
    },
    {
     "data": {
      "application/vnd.jupyter.widget-view+json": {
       "model_id": "226d50e789a94d4588d573b381a5536a",
       "version_major": 2,
       "version_minor": 0
      },
      "text/plain": [
       "Epoch 53:   0%|          | 0/60 [00:00<?, ?batch/s]"
      ]
     },
     "metadata": {},
     "output_type": "display_data"
    },
    {
     "name": "stdout",
     "output_type": "stream",
     "text": [
      "Epoch 053\n",
      "TRAIN→ \"R\": RMSE=0.2770 MAE=0.2092 R2=0.0869 | \"B\": Acc=0.5591 Prec=0.2653 Rec=0.3565 F1=0.3042 AUROC=0.4920\n",
      "VALID→ \"R\": RMSE=0.2727 MAE=0.1918 R2=0.0726 | \"B\": Acc=0.6882 Prec=0.2231 Rec=0.0565 F1=0.0902 AUROC=0.4596\n"
     ]
    },
    {
     "data": {
      "application/vnd.jupyter.widget-view+json": {
       "model_id": "1f84eaeb6b034e5eaf05b7a564560441",
       "version_major": 2,
       "version_minor": 0
      },
      "text/plain": [
       "Epoch 54:   0%|          | 0/60 [00:00<?, ?batch/s]"
      ]
     },
     "metadata": {},
     "output_type": "display_data"
    },
    {
     "name": "stdout",
     "output_type": "stream",
     "text": [
      "Epoch 054\n",
      "TRAIN→ \"R\": RMSE=0.2768 MAE=0.2091 R2=0.0881 | \"B\": Acc=0.5571 Prec=0.2642 Rec=0.3573 F1=0.3037 AUROC=0.4908\n",
      "VALID→ \"R\": RMSE=0.2725 MAE=0.1918 R2=0.0742 | \"B\": Acc=0.6833 Prec=0.2203 Rec=0.0622 F1=0.0970 AUROC=0.4573\n"
     ]
    },
    {
     "data": {
      "application/vnd.jupyter.widget-view+json": {
       "model_id": "12f2dc0ee090437bafeb4807837bd810",
       "version_major": 2,
       "version_minor": 0
      },
      "text/plain": [
       "Epoch 55:   0%|          | 0/60 [00:00<?, ?batch/s]"
      ]
     },
     "metadata": {},
     "output_type": "display_data"
    },
    {
     "name": "stdout",
     "output_type": "stream",
     "text": [
      "Epoch 055\n",
      "TRAIN→ \"R\": RMSE=0.2767 MAE=0.2090 R2=0.0892 | \"B\": Acc=0.5550 Prec=0.2634 Rec=0.3593 F1=0.3039 AUROC=0.4894\n",
      "VALID→ \"R\": RMSE=0.2722 MAE=0.1917 R2=0.0760 | \"B\": Acc=0.6748 Prec=0.2166 Rec=0.0724 F1=0.1085 AUROC=0.4530\n"
     ]
    },
    {
     "data": {
      "application/vnd.jupyter.widget-view+json": {
       "model_id": "3331f5fb53cf470d927a1d77816db0e0",
       "version_major": 2,
       "version_minor": 0
      },
      "text/plain": [
       "Epoch 56:   0%|          | 0/60 [00:00<?, ?batch/s]"
      ]
     },
     "metadata": {},
     "output_type": "display_data"
    },
    {
     "name": "stdout",
     "output_type": "stream",
     "text": [
      "Epoch 056\n",
      "TRAIN→ \"R\": RMSE=0.2766 MAE=0.2090 R2=0.0897 | \"B\": Acc=0.5513 Prec=0.2620 Rec=0.3629 F1=0.3043 AUROC=0.4880\n",
      "VALID→ \"R\": RMSE=0.2719 MAE=0.1917 R2=0.0783 | \"B\": Acc=0.6644 Prec=0.2137 Rec=0.0849 F1=0.1215 AUROC=0.4497\n"
     ]
    },
    {
     "data": {
      "application/vnd.jupyter.widget-view+json": {
       "model_id": "ca8547161a8a401194c7beb0510472f4",
       "version_major": 2,
       "version_minor": 0
      },
      "text/plain": [
       "Epoch 57:   0%|          | 0/60 [00:00<?, ?batch/s]"
      ]
     },
     "metadata": {},
     "output_type": "display_data"
    },
    {
     "name": "stdout",
     "output_type": "stream",
     "text": [
      "Epoch 057\n",
      "TRAIN→ \"R\": RMSE=0.2764 MAE=0.2089 R2=0.0913 | \"B\": Acc=0.5496 Prec=0.2621 Rec=0.3666 F1=0.3056 AUROC=0.4876\n",
      "VALID→ \"R\": RMSE=0.2716 MAE=0.1916 R2=0.0800 | \"B\": Acc=0.6586 Prec=0.2117 Rec=0.0912 F1=0.1275 AUROC=0.4466\n"
     ]
    },
    {
     "data": {
      "application/vnd.jupyter.widget-view+json": {
       "model_id": "369bf38d643249de92ff9ed7c93ea910",
       "version_major": 2,
       "version_minor": 0
      },
      "text/plain": [
       "Epoch 58:   0%|          | 0/60 [00:00<?, ?batch/s]"
      ]
     },
     "metadata": {},
     "output_type": "display_data"
    },
    {
     "name": "stdout",
     "output_type": "stream",
     "text": [
      "Epoch 058\n",
      "TRAIN→ \"R\": RMSE=0.2762 MAE=0.2088 R2=0.0921 | \"B\": Acc=0.5490 Prec=0.2622 Rec=0.3681 F1=0.3062 AUROC=0.4875\n",
      "VALID→ \"R\": RMSE=0.2714 MAE=0.1916 R2=0.0813 | \"B\": Acc=0.6525 Prec=0.2106 Rec=0.0985 F1=0.1342 AUROC=0.4442\n"
     ]
    },
    {
     "data": {
      "application/vnd.jupyter.widget-view+json": {
       "model_id": "32ff2ded7c9e4c5c88b06f1a047bfa23",
       "version_major": 2,
       "version_minor": 0
      },
      "text/plain": [
       "Epoch 59:   0%|          | 0/60 [00:00<?, ?batch/s]"
      ]
     },
     "metadata": {},
     "output_type": "display_data"
    },
    {
     "name": "stdout",
     "output_type": "stream",
     "text": [
      "Epoch 059\n",
      "TRAIN→ \"R\": RMSE=0.2762 MAE=0.2087 R2=0.0926 | \"B\": Acc=0.5469 Prec=0.2609 Rec=0.3686 F1=0.3055 AUROC=0.4860\n",
      "VALID→ \"R\": RMSE=0.2712 MAE=0.1916 R2=0.0832 | \"B\": Acc=0.6424 Prec=0.2079 Rec=0.1095 F1=0.1435 AUROC=0.4403\n"
     ]
    },
    {
     "data": {
      "application/vnd.jupyter.widget-view+json": {
       "model_id": "97f1ed64c4914080a0c18b9bb4ce736d",
       "version_major": 2,
       "version_minor": 0
      },
      "text/plain": [
       "Epoch 60:   0%|          | 0/60 [00:00<?, ?batch/s]"
      ]
     },
     "metadata": {},
     "output_type": "display_data"
    },
    {
     "name": "stdout",
     "output_type": "stream",
     "text": [
      "Epoch 060\n",
      "TRAIN→ \"R\": RMSE=0.2760 MAE=0.2087 R2=0.0938 | \"B\": Acc=0.5462 Prec=0.2612 Rec=0.3710 F1=0.3066 AUROC=0.4862\n",
      "VALID→ \"R\": RMSE=0.2709 MAE=0.1915 R2=0.0848 | \"B\": Acc=0.6386 Prec=0.2067 Rec=0.1134 F1=0.1464 AUROC=0.4376\n"
     ]
    },
    {
     "data": {
      "application/vnd.jupyter.widget-view+json": {
       "model_id": "ee2deb52912047d6bc0cd0f2737a22b4",
       "version_major": 2,
       "version_minor": 0
      },
      "text/plain": [
       "Epoch 61:   0%|          | 0/60 [00:00<?, ?batch/s]"
      ]
     },
     "metadata": {},
     "output_type": "display_data"
    },
    {
     "name": "stdout",
     "output_type": "stream",
     "text": [
      "Epoch 061\n",
      "TRAIN→ \"R\": RMSE=0.2758 MAE=0.2086 R2=0.0948 | \"B\": Acc=0.5436 Prec=0.2594 Rec=0.3709 F1=0.3053 AUROC=0.4838\n",
      "VALID→ \"R\": RMSE=0.2707 MAE=0.1915 R2=0.0864 | \"B\": Acc=0.6264 Prec=0.2053 Rec=0.1276 F1=0.1574 AUROC=0.4337\n"
     ]
    },
    {
     "data": {
      "application/vnd.jupyter.widget-view+json": {
       "model_id": "5b511769d0024d72bc566a53f11db48d",
       "version_major": 2,
       "version_minor": 0
      },
      "text/plain": [
       "Epoch 62:   0%|          | 0/60 [00:00<?, ?batch/s]"
      ]
     },
     "metadata": {},
     "output_type": "display_data"
    },
    {
     "name": "stdout",
     "output_type": "stream",
     "text": [
      "Epoch 062\n",
      "TRAIN→ \"R\": RMSE=0.2757 MAE=0.2085 R2=0.0959 | \"B\": Acc=0.5433 Prec=0.2601 Rec=0.3735 F1=0.3067 AUROC=0.4844\n",
      "VALID→ \"R\": RMSE=0.2705 MAE=0.1914 R2=0.0877 | \"B\": Acc=0.6217 Prec=0.2043 Rec=0.1324 F1=0.1607 AUROC=0.4309\n"
     ]
    },
    {
     "data": {
      "application/vnd.jupyter.widget-view+json": {
       "model_id": "5252c72629704136bcac1d586dd8ab5e",
       "version_major": 2,
       "version_minor": 0
      },
      "text/plain": [
       "Epoch 63:   0%|          | 0/60 [00:00<?, ?batch/s]"
      ]
     },
     "metadata": {},
     "output_type": "display_data"
    },
    {
     "name": "stdout",
     "output_type": "stream",
     "text": [
      "Epoch 063\n",
      "TRAIN→ \"R\": RMSE=0.2755 MAE=0.2084 R2=0.0966 | \"B\": Acc=0.5414 Prec=0.2584 Rec=0.3722 F1=0.3050 AUROC=0.4825\n",
      "VALID→ \"R\": RMSE=0.2703 MAE=0.1914 R2=0.0893 | \"B\": Acc=0.6146 Prec=0.2030 Rec=0.1400 F1=0.1657 AUROC=0.4288\n"
     ]
    },
    {
     "data": {
      "application/vnd.jupyter.widget-view+json": {
       "model_id": "118a9209953445ceae681ba8ad5126df",
       "version_major": 2,
       "version_minor": 0
      },
      "text/plain": [
       "Epoch 64:   0%|          | 0/60 [00:00<?, ?batch/s]"
      ]
     },
     "metadata": {},
     "output_type": "display_data"
    },
    {
     "name": "stdout",
     "output_type": "stream",
     "text": [
      "Epoch 064\n",
      "TRAIN→ \"R\": RMSE=0.2754 MAE=0.2083 R2=0.0974 | \"B\": Acc=0.5400 Prec=0.2581 Rec=0.3739 F1=0.3054 AUROC=0.4813\n",
      "VALID→ \"R\": RMSE=0.2700 MAE=0.1914 R2=0.0909 | \"B\": Acc=0.6044 Prec=0.2021 Rec=0.1516 F1=0.1732 AUROC=0.4259\n"
     ]
    },
    {
     "data": {
      "application/vnd.jupyter.widget-view+json": {
       "model_id": "07f05f1f286f450498f532faff05fe6e",
       "version_major": 2,
       "version_minor": 0
      },
      "text/plain": [
       "Epoch 65:   0%|          | 0/60 [00:00<?, ?batch/s]"
      ]
     },
     "metadata": {},
     "output_type": "display_data"
    },
    {
     "name": "stdout",
     "output_type": "stream",
     "text": [
      "Epoch 065\n",
      "TRAIN→ \"R\": RMSE=0.2753 MAE=0.2083 R2=0.0984 | \"B\": Acc=0.5374 Prec=0.2572 Rec=0.3763 F1=0.3055 AUROC=0.4800\n",
      "VALID→ \"R\": RMSE=0.2698 MAE=0.1913 R2=0.0922 | \"B\": Acc=0.5955 Prec=0.2010 Rec=0.1610 F1=0.1788 AUROC=0.4229\n"
     ]
    },
    {
     "data": {
      "application/vnd.jupyter.widget-view+json": {
       "model_id": "a7b39b2fe35a49b1b3063a98954fc1e2",
       "version_major": 2,
       "version_minor": 0
      },
      "text/plain": [
       "Epoch 66:   0%|          | 0/60 [00:00<?, ?batch/s]"
      ]
     },
     "metadata": {},
     "output_type": "display_data"
    },
    {
     "name": "stdout",
     "output_type": "stream",
     "text": [
      "Epoch 066\n",
      "TRAIN→ \"R\": RMSE=0.2751 MAE=0.2082 R2=0.0993 | \"B\": Acc=0.5356 Prec=0.2567 Rec=0.3785 F1=0.3059 AUROC=0.4791\n",
      "VALID→ \"R\": RMSE=0.2696 MAE=0.1913 R2=0.0934 | \"B\": Acc=0.5903 Prec=0.2006 Rec=0.1669 F1=0.1822 AUROC=0.4211\n"
     ]
    },
    {
     "data": {
      "application/vnd.jupyter.widget-view+json": {
       "model_id": "670679e887dd4ce285ef97064244ce69",
       "version_major": 2,
       "version_minor": 0
      },
      "text/plain": [
       "Epoch 67:   0%|          | 0/60 [00:00<?, ?batch/s]"
      ]
     },
     "metadata": {},
     "output_type": "display_data"
    },
    {
     "name": "stdout",
     "output_type": "stream",
     "text": [
      "Epoch 067\n",
      "TRAIN→ \"R\": RMSE=0.2750 MAE=0.2081 R2=0.1002 | \"B\": Acc=0.5355 Prec=0.2559 Rec=0.3764 F1=0.3047 AUROC=0.4779\n",
      "VALID→ \"R\": RMSE=0.2694 MAE=0.1912 R2=0.0948 | \"B\": Acc=0.5868 Prec=0.2002 Rec=0.1706 F1=0.1842 AUROC=0.4188\n"
     ]
    },
    {
     "data": {
      "application/vnd.jupyter.widget-view+json": {
       "model_id": "536b179369594e49b0fd7788e08a759b",
       "version_major": 2,
       "version_minor": 0
      },
      "text/plain": [
       "Epoch 68:   0%|          | 0/60 [00:00<?, ?batch/s]"
      ]
     },
     "metadata": {},
     "output_type": "display_data"
    },
    {
     "name": "stdout",
     "output_type": "stream",
     "text": [
      "Epoch 068\n",
      "TRAIN→ \"R\": RMSE=0.2749 MAE=0.2080 R2=0.1010 | \"B\": Acc=0.5342 Prec=0.2551 Rec=0.3763 F1=0.3041 AUROC=0.4767\n",
      "VALID→ \"R\": RMSE=0.2692 MAE=0.1912 R2=0.0962 | \"B\": Acc=0.5773 Prec=0.1993 Rec=0.1809 F1=0.1897 AUROC=0.4166\n"
     ]
    },
    {
     "data": {
      "application/vnd.jupyter.widget-view+json": {
       "model_id": "c5626d3f609644188ac15da09652b77c",
       "version_major": 2,
       "version_minor": 0
      },
      "text/plain": [
       "Epoch 69:   0%|          | 0/60 [00:00<?, ?batch/s]"
      ]
     },
     "metadata": {},
     "output_type": "display_data"
    },
    {
     "name": "stdout",
     "output_type": "stream",
     "text": [
      "Epoch 069\n",
      "TRAIN→ \"R\": RMSE=0.2748 MAE=0.2079 R2=0.1017 | \"B\": Acc=0.5314 Prec=0.2543 Rec=0.3794 F1=0.3045 AUROC=0.4762\n",
      "VALID→ \"R\": RMSE=0.2690 MAE=0.1912 R2=0.0976 | \"B\": Acc=0.5702 Prec=0.1994 Rec=0.1896 F1=0.1943 AUROC=0.4149\n"
     ]
    },
    {
     "data": {
      "application/vnd.jupyter.widget-view+json": {
       "model_id": "59f40bdc523649af9df52dee9e604841",
       "version_major": 2,
       "version_minor": 0
      },
      "text/plain": [
       "Epoch 70:   0%|          | 0/60 [00:00<?, ?batch/s]"
      ]
     },
     "metadata": {},
     "output_type": "display_data"
    },
    {
     "name": "stdout",
     "output_type": "stream",
     "text": [
      "Epoch 070\n",
      "TRAIN→ \"R\": RMSE=0.2747 MAE=0.2079 R2=0.1024 | \"B\": Acc=0.5304 Prec=0.2537 Rec=0.3795 F1=0.3041 AUROC=0.4748\n",
      "VALID→ \"R\": RMSE=0.2689 MAE=0.1911 R2=0.0986 | \"B\": Acc=0.5640 Prec=0.1992 Rec=0.1968 F1=0.1980 AUROC=0.4137\n"
     ]
    },
    {
     "data": {
      "application/vnd.jupyter.widget-view+json": {
       "model_id": "f5c3cc8f6df642148a58f7f7129975e9",
       "version_major": 2,
       "version_minor": 0
      },
      "text/plain": [
       "Epoch 71:   0%|          | 0/60 [00:00<?, ?batch/s]"
      ]
     },
     "metadata": {},
     "output_type": "display_data"
    },
    {
     "name": "stdout",
     "output_type": "stream",
     "text": [
      "Epoch 071\n",
      "TRAIN→ \"R\": RMSE=0.2745 MAE=0.2078 R2=0.1033 | \"B\": Acc=0.5284 Prec=0.2537 Rec=0.3831 F1=0.3052 AUROC=0.4744\n",
      "VALID→ \"R\": RMSE=0.2687 MAE=0.1911 R2=0.1000 | \"B\": Acc=0.5525 Prec=0.1987 Rec=0.2098 F1=0.2041 AUROC=0.4117\n"
     ]
    },
    {
     "data": {
      "application/vnd.jupyter.widget-view+json": {
       "model_id": "fde55c96623f45bdbd96a2521278e0f3",
       "version_major": 2,
       "version_minor": 0
      },
      "text/plain": [
       "Epoch 72:   0%|          | 0/60 [00:00<?, ?batch/s]"
      ]
     },
     "metadata": {},
     "output_type": "display_data"
    },
    {
     "name": "stdout",
     "output_type": "stream",
     "text": [
      "Epoch 072\n",
      "TRAIN→ \"R\": RMSE=0.2744 MAE=0.2078 R2=0.1040 | \"B\": Acc=0.5260 Prec=0.2525 Rec=0.3840 F1=0.3047 AUROC=0.4730\n",
      "VALID→ \"R\": RMSE=0.2685 MAE=0.1911 R2=0.1013 | \"B\": Acc=0.5465 Prec=0.1988 Rec=0.2171 F1=0.2075 AUROC=0.4102\n"
     ]
    },
    {
     "data": {
      "application/vnd.jupyter.widget-view+json": {
       "model_id": "796d26abf962412fbe334f9a6f6ad18d",
       "version_major": 2,
       "version_minor": 0
      },
      "text/plain": [
       "Epoch 73:   0%|          | 0/60 [00:00<?, ?batch/s]"
      ]
     },
     "metadata": {},
     "output_type": "display_data"
    },
    {
     "name": "stdout",
     "output_type": "stream",
     "text": [
      "Epoch 073\n",
      "TRAIN→ \"R\": RMSE=0.2742 MAE=0.2076 R2=0.1054 | \"B\": Acc=0.5253 Prec=0.2528 Rec=0.3861 F1=0.3055 AUROC=0.4731\n",
      "VALID→ \"R\": RMSE=0.2683 MAE=0.1910 R2=0.1023 | \"B\": Acc=0.5401 Prec=0.1987 Rec=0.2248 F1=0.2109 AUROC=0.4084\n"
     ]
    },
    {
     "data": {
      "application/vnd.jupyter.widget-view+json": {
       "model_id": "af33abcf3034462db132b52259fcdee7",
       "version_major": 2,
       "version_minor": 0
      },
      "text/plain": [
       "Epoch 74:   0%|          | 0/60 [00:00<?, ?batch/s]"
      ]
     },
     "metadata": {},
     "output_type": "display_data"
    },
    {
     "name": "stdout",
     "output_type": "stream",
     "text": [
      "Epoch 074\n",
      "TRAIN→ \"R\": RMSE=0.2742 MAE=0.2076 R2=0.1054 | \"B\": Acc=0.5230 Prec=0.2514 Rec=0.3863 F1=0.3046 AUROC=0.4710\n",
      "VALID→ \"R\": RMSE=0.2682 MAE=0.1910 R2=0.1033 | \"B\": Acc=0.5350 Prec=0.1984 Rec=0.2304 F1=0.2132 AUROC=0.4066\n"
     ]
    },
    {
     "data": {
      "application/vnd.jupyter.widget-view+json": {
       "model_id": "61510f4ce681484b9299daab434e64ba",
       "version_major": 2,
       "version_minor": 0
      },
      "text/plain": [
       "Epoch 75:   0%|          | 0/60 [00:00<?, ?batch/s]"
      ]
     },
     "metadata": {},
     "output_type": "display_data"
    },
    {
     "name": "stdout",
     "output_type": "stream",
     "text": [
      "Epoch 075\n",
      "TRAIN→ \"R\": RMSE=0.2741 MAE=0.2076 R2=0.1059 | \"B\": Acc=0.5225 Prec=0.2515 Rec=0.3875 F1=0.3050 AUROC=0.4707\n",
      "VALID→ \"R\": RMSE=0.2680 MAE=0.1909 R2=0.1043 | \"B\": Acc=0.5295 Prec=0.1985 Rec=0.2372 F1=0.2162 AUROC=0.4056\n"
     ]
    },
    {
     "data": {
      "application/vnd.jupyter.widget-view+json": {
       "model_id": "3c572a592e3f495cbcc44fc1db3e7b3d",
       "version_major": 2,
       "version_minor": 0
      },
      "text/plain": [
       "Epoch 76:   0%|          | 0/60 [00:00<?, ?batch/s]"
      ]
     },
     "metadata": {},
     "output_type": "display_data"
    },
    {
     "name": "stdout",
     "output_type": "stream",
     "text": [
      "Epoch 076\n",
      "TRAIN→ \"R\": RMSE=0.2739 MAE=0.2075 R2=0.1070 | \"B\": Acc=0.5209 Prec=0.2511 Rec=0.3894 F1=0.3053 AUROC=0.4701\n",
      "VALID→ \"R\": RMSE=0.2678 MAE=0.1909 R2=0.1055 | \"B\": Acc=0.5228 Prec=0.1987 Rec=0.2458 F1=0.2198 AUROC=0.4041\n"
     ]
    },
    {
     "data": {
      "application/vnd.jupyter.widget-view+json": {
       "model_id": "02c5053dc10e4d87b941953fc7fac2c3",
       "version_major": 2,
       "version_minor": 0
      },
      "text/plain": [
       "Epoch 77:   0%|          | 0/60 [00:00<?, ?batch/s]"
      ]
     },
     "metadata": {},
     "output_type": "display_data"
    },
    {
     "name": "stdout",
     "output_type": "stream",
     "text": [
      "Epoch 077\n",
      "TRAIN→ \"R\": RMSE=0.2738 MAE=0.2074 R2=0.1077 | \"B\": Acc=0.5194 Prec=0.2508 Rec=0.3911 F1=0.3056 AUROC=0.4696\n",
      "VALID→ \"R\": RMSE=0.2677 MAE=0.1909 R2=0.1064 | \"B\": Acc=0.5203 Prec=0.1989 Rec=0.2492 F1=0.2212 AUROC=0.4032\n"
     ]
    },
    {
     "data": {
      "application/vnd.jupyter.widget-view+json": {
       "model_id": "0e9de2538139438fa711eba70443bfd2",
       "version_major": 2,
       "version_minor": 0
      },
      "text/plain": [
       "Epoch 78:   0%|          | 0/60 [00:00<?, ?batch/s]"
      ]
     },
     "metadata": {},
     "output_type": "display_data"
    },
    {
     "name": "stdout",
     "output_type": "stream",
     "text": [
      "Epoch 078\n",
      "TRAIN→ \"R\": RMSE=0.2737 MAE=0.2073 R2=0.1085 | \"B\": Acc=0.5187 Prec=0.2499 Rec=0.3898 F1=0.3046 AUROC=0.4680\n",
      "VALID→ \"R\": RMSE=0.2676 MAE=0.1908 R2=0.1072 | \"B\": Acc=0.5156 Prec=0.1988 Rec=0.2547 F1=0.2233 AUROC=0.4024\n"
     ]
    },
    {
     "data": {
      "application/vnd.jupyter.widget-view+json": {
       "model_id": "1cb7b78c9ec04c3caa8203b26d44a08f",
       "version_major": 2,
       "version_minor": 0
      },
      "text/plain": [
       "Epoch 79:   0%|          | 0/60 [00:00<?, ?batch/s]"
      ]
     },
     "metadata": {},
     "output_type": "display_data"
    },
    {
     "name": "stdout",
     "output_type": "stream",
     "text": [
      "Epoch 079\n",
      "TRAIN→ \"R\": RMSE=0.2736 MAE=0.2073 R2=0.1090 | \"B\": Acc=0.5168 Prec=0.2490 Rec=0.3905 F1=0.3041 AUROC=0.4666\n",
      "VALID→ \"R\": RMSE=0.2674 MAE=0.1908 R2=0.1083 | \"B\": Acc=0.5112 Prec=0.1993 Rec=0.2609 F1=0.2259 AUROC=0.4015\n"
     ]
    },
    {
     "data": {
      "application/vnd.jupyter.widget-view+json": {
       "model_id": "5042e9c149e443518af89320d11325b0",
       "version_major": 2,
       "version_minor": 0
      },
      "text/plain": [
       "Epoch 80:   0%|          | 0/60 [00:00<?, ?batch/s]"
      ]
     },
     "metadata": {},
     "output_type": "display_data"
    },
    {
     "name": "stdout",
     "output_type": "stream",
     "text": [
      "Epoch 080\n",
      "TRAIN→ \"R\": RMSE=0.2735 MAE=0.2072 R2=0.1100 | \"B\": Acc=0.5164 Prec=0.2491 Rec=0.3915 F1=0.3045 AUROC=0.4664\n",
      "VALID→ \"R\": RMSE=0.2673 MAE=0.1907 R2=0.1092 | \"B\": Acc=0.5103 Prec=0.1995 Rec=0.2624 F1=0.2266 AUROC=0.4009\n"
     ]
    },
    {
     "data": {
      "application/vnd.jupyter.widget-view+json": {
       "model_id": "a481378b1c464a6794e2573226dcc7aa",
       "version_major": 2,
       "version_minor": 0
      },
      "text/plain": [
       "Epoch 81:   0%|          | 0/60 [00:00<?, ?batch/s]"
      ]
     },
     "metadata": {},
     "output_type": "display_data"
    },
    {
     "name": "stdout",
     "output_type": "stream",
     "text": [
      "Epoch 081\n",
      "TRAIN→ \"R\": RMSE=0.2735 MAE=0.2072 R2=0.1102 | \"B\": Acc=0.5151 Prec=0.2478 Rec=0.3898 F1=0.3030 AUROC=0.4650\n",
      "VALID→ \"R\": RMSE=0.2672 MAE=0.1906 R2=0.1097 | \"B\": Acc=0.5077 Prec=0.1992 Rec=0.2650 F1=0.2275 AUROC=0.3999\n"
     ]
    },
    {
     "data": {
      "application/vnd.jupyter.widget-view+json": {
       "model_id": "f306234682cf4154a7ef4b09320d4ec4",
       "version_major": 2,
       "version_minor": 0
      },
      "text/plain": [
       "Epoch 82:   0%|          | 0/60 [00:00<?, ?batch/s]"
      ]
     },
     "metadata": {},
     "output_type": "display_data"
    },
    {
     "name": "stdout",
     "output_type": "stream",
     "text": [
      "Epoch 082\n",
      "TRAIN→ \"R\": RMSE=0.2733 MAE=0.2071 R2=0.1110 | \"B\": Acc=0.5151 Prec=0.2480 Rec=0.3902 F1=0.3032 AUROC=0.4645\n",
      "VALID→ \"R\": RMSE=0.2671 MAE=0.1906 R2=0.1106 | \"B\": Acc=0.5056 Prec=0.1993 Rec=0.2678 F1=0.2285 AUROC=0.3990\n"
     ]
    },
    {
     "data": {
      "application/vnd.jupyter.widget-view+json": {
       "model_id": "3635b4e36dec4057bd313c0096c59270",
       "version_major": 2,
       "version_minor": 0
      },
      "text/plain": [
       "Epoch 83:   0%|          | 0/60 [00:00<?, ?batch/s]"
      ]
     },
     "metadata": {},
     "output_type": "display_data"
    },
    {
     "name": "stdout",
     "output_type": "stream",
     "text": [
      "Epoch 083\n",
      "TRAIN→ \"R\": RMSE=0.2733 MAE=0.2070 R2=0.1114 | \"B\": Acc=0.5143 Prec=0.2474 Rec=0.3899 F1=0.3027 AUROC=0.4639\n",
      "VALID→ \"R\": RMSE=0.2670 MAE=0.1905 R2=0.1111 | \"B\": Acc=0.5033 Prec=0.1995 Rec=0.2711 F1=0.2299 AUROC=0.3984\n"
     ]
    },
    {
     "data": {
      "application/vnd.jupyter.widget-view+json": {
       "model_id": "686291e5cbc745809cb5002757cb05b0",
       "version_major": 2,
       "version_minor": 0
      },
      "text/plain": [
       "Epoch 84:   0%|          | 0/60 [00:00<?, ?batch/s]"
      ]
     },
     "metadata": {},
     "output_type": "display_data"
    },
    {
     "name": "stdout",
     "output_type": "stream",
     "text": [
      "Epoch 084\n",
      "TRAIN→ \"R\": RMSE=0.2732 MAE=0.2069 R2=0.1122 | \"B\": Acc=0.5138 Prec=0.2468 Rec=0.3890 F1=0.3020 AUROC=0.4631\n",
      "VALID→ \"R\": RMSE=0.2669 MAE=0.1904 R2=0.1119 | \"B\": Acc=0.5044 Prec=0.1997 Rec=0.2702 F1=0.2297 AUROC=0.3982\n"
     ]
    },
    {
     "data": {
      "application/vnd.jupyter.widget-view+json": {
       "model_id": "24cc4a8a345e48438d07f12766bc819f",
       "version_major": 2,
       "version_minor": 0
      },
      "text/plain": [
       "Epoch 85:   0%|          | 0/60 [00:00<?, ?batch/s]"
      ]
     },
     "metadata": {},
     "output_type": "display_data"
    },
    {
     "name": "stdout",
     "output_type": "stream",
     "text": [
      "Epoch 085\n",
      "TRAIN→ \"R\": RMSE=0.2730 MAE=0.2068 R2=0.1129 | \"B\": Acc=0.5131 Prec=0.2455 Rec=0.3862 F1=0.3002 AUROC=0.4615\n",
      "VALID→ \"R\": RMSE=0.2668 MAE=0.1904 R2=0.1125 | \"B\": Acc=0.5021 Prec=0.2001 Rec=0.2737 F1=0.2312 AUROC=0.3979\n"
     ]
    },
    {
     "data": {
      "application/vnd.jupyter.widget-view+json": {
       "model_id": "9d8e4aaf035a49319c03afdd555e5dcb",
       "version_major": 2,
       "version_minor": 0
      },
      "text/plain": [
       "Epoch 86:   0%|          | 0/60 [00:00<?, ?batch/s]"
      ]
     },
     "metadata": {},
     "output_type": "display_data"
    },
    {
     "name": "stdout",
     "output_type": "stream",
     "text": [
      "Epoch 086\n",
      "TRAIN→ \"R\": RMSE=0.2730 MAE=0.2068 R2=0.1132 | \"B\": Acc=0.5124 Prec=0.2454 Rec=0.3872 F1=0.3004 AUROC=0.4610\n",
      "VALID→ \"R\": RMSE=0.2667 MAE=0.1903 R2=0.1129 | \"B\": Acc=0.5008 Prec=0.2000 Rec=0.2752 F1=0.2317 AUROC=0.3972\n"
     ]
    },
    {
     "data": {
      "application/vnd.jupyter.widget-view+json": {
       "model_id": "f3340c0b524b43bbb977f7582522be4c",
       "version_major": 2,
       "version_minor": 0
      },
      "text/plain": [
       "Epoch 87:   0%|          | 0/60 [00:00<?, ?batch/s]"
      ]
     },
     "metadata": {},
     "output_type": "display_data"
    },
    {
     "name": "stdout",
     "output_type": "stream",
     "text": [
      "Epoch 087\n",
      "TRAIN→ \"R\": RMSE=0.2729 MAE=0.2067 R2=0.1139 | \"B\": Acc=0.5115 Prec=0.2451 Rec=0.3877 F1=0.3003 AUROC=0.4600\n",
      "VALID→ \"R\": RMSE=0.2666 MAE=0.1902 R2=0.1135 | \"B\": Acc=0.4975 Prec=0.2002 Rec=0.2797 F1=0.2334 AUROC=0.3967\n"
     ]
    },
    {
     "data": {
      "application/vnd.jupyter.widget-view+json": {
       "model_id": "dc25d858db644415897108bfbed6f697",
       "version_major": 2,
       "version_minor": 0
      },
      "text/plain": [
       "Epoch 88:   0%|          | 0/60 [00:00<?, ?batch/s]"
      ]
     },
     "metadata": {},
     "output_type": "display_data"
    },
    {
     "name": "stdout",
     "output_type": "stream",
     "text": [
      "Epoch 088\n",
      "TRAIN→ \"R\": RMSE=0.2728 MAE=0.2067 R2=0.1144 | \"B\": Acc=0.5101 Prec=0.2444 Rec=0.3882 F1=0.3000 AUROC=0.4598\n",
      "VALID→ \"R\": RMSE=0.2665 MAE=0.1901 R2=0.1142 | \"B\": Acc=0.4938 Prec=0.2004 Rec=0.2847 F1=0.2352 AUROC=0.3962\n"
     ]
    },
    {
     "data": {
      "application/vnd.jupyter.widget-view+json": {
       "model_id": "cbf46947cf874464a3dc929f6d58e77e",
       "version_major": 2,
       "version_minor": 0
      },
      "text/plain": [
       "Epoch 89:   0%|          | 0/60 [00:00<?, ?batch/s]"
      ]
     },
     "metadata": {},
     "output_type": "display_data"
    },
    {
     "name": "stdout",
     "output_type": "stream",
     "text": [
      "Epoch 089\n",
      "TRAIN→ \"R\": RMSE=0.2727 MAE=0.2066 R2=0.1153 | \"B\": Acc=0.5098 Prec=0.2445 Rec=0.3888 F1=0.3002 AUROC=0.4594\n",
      "VALID→ \"R\": RMSE=0.2664 MAE=0.1901 R2=0.1148 | \"B\": Acc=0.4922 Prec=0.2008 Rec=0.2875 F1=0.2365 AUROC=0.3959\n"
     ]
    },
    {
     "data": {
      "application/vnd.jupyter.widget-view+json": {
       "model_id": "bee2a61c447c4e708be68e628e48883b",
       "version_major": 2,
       "version_minor": 0
      },
      "text/plain": [
       "Epoch 90:   0%|          | 0/60 [00:00<?, ?batch/s]"
      ]
     },
     "metadata": {},
     "output_type": "display_data"
    },
    {
     "name": "stdout",
     "output_type": "stream",
     "text": [
      "Epoch 090\n",
      "TRAIN→ \"R\": RMSE=0.2726 MAE=0.2065 R2=0.1155 | \"B\": Acc=0.5090 Prec=0.2442 Rec=0.3893 F1=0.3001 AUROC=0.4584\n",
      "VALID→ \"R\": RMSE=0.2664 MAE=0.1900 R2=0.1154 | \"B\": Acc=0.4907 Prec=0.2011 Rec=0.2901 F1=0.2375 AUROC=0.3957\n",
      "Delete variables to free memory...\n"
     ]
    },
    {
     "name": "stderr",
     "output_type": "stream",
     "text": [
      "[I 2025-09-14 02:22:45,909] Trial 4 finished with value: 0.2663553059101105 and parameters: {'look_back': 120, 'DROPOUT_SHORT': 0.14934742065459877, 'DROPOUT_LONG': 0.16219466338835561, 'ATT_DROPOUT': 0.15454007876917714, 'INITIAL_LR': 1.8736488912026368e-05, 'ETA_MIN': 4.959631351549178e-06, 'WEIGHT_DECAY': 0.0003874020861010938, 'CLIPNORM': 9.133234474251395}. Best is trial 2 with value: 0.24554027616977692.\n"
     ]
    },
    {
     "name": "stdout",
     "output_type": "stream",
     "text": [
      "\n",
      "▶ Trial 5 starting with:\n",
      "{'look_back': 90, 'DROPOUT_SHORT': 0.25286061888156336, 'DROPOUT_LONG': 0.07272219450456563, 'ATT_DROPOUT': 0.32783528922256283, 'INITIAL_LR': 1.3153303174000354e-05, 'ETA_MIN': 2.1212385026300958e-06, 'WEIGHT_DECAY': 0.008738425719306137, 'CLIPNORM': 9.701142157640648}\n",
      "\n",
      "Build LSTM input tensors (disk-backed memmaps)...\n",
      "Inside build_lstm_tensors, using: ['rsi_14', 'minus_di_15', 'eng_adx', 'eng_atr_div', 'adx_14', 'sma_100', 'vol_spike_14', 'macd_line_12_26_9', 'sma_20']\n"
     ]
    },
    {
     "data": {
      "application/vnd.jupyter.widget-view+json": {
       "model_id": "555336af332d416e9aacdb4f97ebd035",
       "version_major": 2,
       "version_minor": 0
      },
      "text/plain": [
       "Counting windows:   0%|          | 0/5400 [00:00<?, ?it/s]"
      ]
     },
     "metadata": {},
     "output_type": "display_data"
    },
    {
     "data": {
      "application/vnd.jupyter.widget-view+json": {
       "model_id": "7ea869efcd6e44a3a53f43cbaf4f9070",
       "version_major": 2,
       "version_minor": 0
      },
      "text/plain": [
       "Writing memmaps:   0%|          | 0/5400 [00:00<?, ?it/s]"
      ]
     },
     "metadata": {},
     "output_type": "display_data"
    },
    {
     "name": "stdout",
     "output_type": "stream",
     "text": [
      "Split into train/val/test by calendar day...\n",
      "Carve `end_times` into the same three splits...\n",
      "Build DataLoaders over calendar‐days...\n"
     ]
    },
    {
     "data": {
      "application/vnd.jupyter.widget-view+json": {
       "model_id": "dd7af5128496477db19d4bca4eea5773",
       "version_major": 2,
       "version_minor": 0
      },
      "text/plain": [
       "Creating DayWindowDatasets:   0%|          | 0/3 [00:00<?, ?split/s]"
      ]
     },
     "metadata": {},
     "output_type": "display_data"
    },
    {
     "name": "stdout",
     "output_type": "stream",
     "text": [
      "Instantiate the stateful DualMemoryLSTM...\n",
      "Build optimizer, LR scheduler, AMP scaler, and gradient‐clip norm...\n",
      "Run the custom stateful training loop...\n"
     ]
    },
    {
     "data": {
      "image/png": "[encoded data removed]",
      "text/plain": [
       "<Figure size 660x440 with 1 Axes>"
      ]
     },
     "metadata": {},
     "output_type": "display_data"
    },
    {
     "data": {
      "application/vnd.jupyter.widget-view+json": {
       "model_id": "1a02936d58434d7cae43190ab2c258cf",
       "version_major": 2,
       "version_minor": 0
      },
      "text/plain": [
       "Epoch 1:   0%|          | 0/60 [00:00<?, ?batch/s]"
      ]
     },
     "metadata": {},
     "output_type": "display_data"
    },
    {
     "name": "stdout",
     "output_type": "stream",
     "text": [
      "Epoch 001\n",
      "TRAIN→ \"R\": RMSE=0.2915 MAE=0.2360 R2=-0.0128 | \"B\": Acc=0.3927 Prec=0.2735 Rec=0.7377 F1=0.3991 AUROC=0.5007\n",
      "VALID→ \"R\": RMSE=0.2948 MAE=0.2052 R2=-0.0698 | \"B\": Acc=0.2812 Prec=0.2806 Rec=0.9995 F1=0.4381 AUROC=0.4989\n"
     ]
    },
    {
     "data": {
      "application/vnd.jupyter.widget-view+json": {
       "model_id": "ed08fd2c09b84207b4c3347cfc87d102",
       "version_major": 2,
       "version_minor": 0
      },
      "text/plain": [
       "Epoch 2:   0%|          | 0/60 [00:00<?, ?batch/s]"
      ]
     },
     "metadata": {},
     "output_type": "display_data"
    },
    {
     "name": "stdout",
     "output_type": "stream",
     "text": [
      "Epoch 002\n",
      "TRAIN→ \"R\": RMSE=0.2927 MAE=0.2222 R2=-0.0210 | \"B\": Acc=0.3837 Prec=0.2731 Rec=0.7545 F1=0.4010 AUROC=0.5007\n",
      "VALID→ \"R\": RMSE=0.2949 MAE=0.2040 R2=-0.0706 | \"B\": Acc=0.2805 Prec=0.2804 Rec=0.9999 F1=0.4380 AUROC=0.4859\n"
     ]
    },
    {
     "data": {
      "application/vnd.jupyter.widget-view+json": {
       "model_id": "925e01a28cad495f9bd3fce6467baee6",
       "version_major": 2,
       "version_minor": 0
      },
      "text/plain": [
       "Epoch 3:   0%|          | 0/60 [00:00<?, ?batch/s]"
      ]
     },
     "metadata": {},
     "output_type": "display_data"
    },
    {
     "name": "stdout",
     "output_type": "stream",
     "text": [
      "Epoch 003\n",
      "TRAIN→ \"R\": RMSE=0.2915 MAE=0.2212 R2=-0.0124 | \"B\": Acc=0.3744 Prec=0.2729 Rec=0.7742 F1=0.4036 AUROC=0.5001\n",
      "VALID→ \"R\": RMSE=0.2936 MAE=0.2031 R2=-0.0608 | \"B\": Acc=0.2804 Prec=0.2804 Rec=1.0000 F1=0.4380 AUROC=0.4694\n"
     ]
    },
    {
     "data": {
      "application/vnd.jupyter.widget-view+json": {
       "model_id": "d8e3f87dd91340598185607b5d03cd30",
       "version_major": 2,
       "version_minor": 0
      },
      "text/plain": [
       "Epoch 4:   0%|          | 0/60 [00:00<?, ?batch/s]"
      ]
     },
     "metadata": {},
     "output_type": "display_data"
    },
    {
     "name": "stdout",
     "output_type": "stream",
     "text": [
      "Epoch 004\n",
      "TRAIN→ \"R\": RMSE=0.2904 MAE=0.2205 R2=-0.0047 | \"B\": Acc=0.3629 Prec=0.2730 Rec=0.7997 F1=0.4070 AUROC=0.4993\n",
      "VALID→ \"R\": RMSE=0.2926 MAE=0.2023 R2=-0.0534 | \"B\": Acc=0.2804 Prec=0.2804 Rec=1.0000 F1=0.4380 AUROC=0.4573\n"
     ]
    },
    {
     "data": {
      "application/vnd.jupyter.widget-view+json": {
       "model_id": "21a8556c90494f08b7d464d4eb170e3c",
       "version_major": 2,
       "version_minor": 0
      },
      "text/plain": [
       "Epoch 5:   0%|          | 0/60 [00:00<?, ?batch/s]"
      ]
     },
     "metadata": {},
     "output_type": "display_data"
    },
    {
     "name": "stdout",
     "output_type": "stream",
     "text": [
      "Epoch 005\n",
      "TRAIN→ \"R\": RMSE=0.2893 MAE=0.2198 R2=0.0022 | \"B\": Acc=0.3548 Prec=0.2735 Rec=0.8209 F1=0.4103 AUROC=0.5005\n",
      "VALID→ \"R\": RMSE=0.2917 MAE=0.2016 R2=-0.0476 | \"B\": Acc=0.2804 Prec=0.2804 Rec=1.0000 F1=0.4380 AUROC=0.4509\n"
     ]
    },
    {
     "data": {
      "application/vnd.jupyter.widget-view+json": {
       "model_id": "5543471ffc57440ab2165185f2016da7",
       "version_major": 2,
       "version_minor": 0
      },
      "text/plain": [
       "Epoch 6:   0%|          | 0/60 [00:00<?, ?batch/s]"
      ]
     },
     "metadata": {},
     "output_type": "display_data"
    },
    {
     "name": "stdout",
     "output_type": "stream",
     "text": [
      "Epoch 006\n",
      "TRAIN→ \"R\": RMSE=0.2884 MAE=0.2192 R2=0.0087 | \"B\": Acc=0.3486 Prec=0.2731 Rec=0.8321 F1=0.4113 AUROC=0.4998\n",
      "VALID→ \"R\": RMSE=0.2912 MAE=0.2009 R2=-0.0439 | \"B\": Acc=0.2804 Prec=0.2804 Rec=1.0000 F1=0.4380 AUROC=0.4504\n"
     ]
    },
    {
     "data": {
      "application/vnd.jupyter.widget-view+json": {
       "model_id": "2bba0e7f5e674645b65d229cdd375085",
       "version_major": 2,
       "version_minor": 0
      },
      "text/plain": [
       "Epoch 7:   0%|          | 0/60 [00:00<?, ?batch/s]"
      ]
     },
     "metadata": {},
     "output_type": "display_data"
    },
    {
     "name": "stdout",
     "output_type": "stream",
     "text": [
      "Epoch 007\n",
      "TRAIN→ \"R\": RMSE=0.2877 MAE=0.2185 R2=0.0138 | \"B\": Acc=0.3473 Prec=0.2734 Rec=0.8367 F1=0.4121 AUROC=0.5005\n",
      "VALID→ \"R\": RMSE=0.2908 MAE=0.2003 R2=-0.0408 | \"B\": Acc=0.2804 Prec=0.2804 Rec=1.0000 F1=0.4380 AUROC=0.4535\n"
     ]
    },
    {
     "data": {
      "application/vnd.jupyter.widget-view+json": {
       "model_id": "07c05888a7ba4af58da369c072d68b3c",
       "version_major": 2,
       "version_minor": 0
      },
      "text/plain": [
       "Epoch 8:   0%|          | 0/60 [00:00<?, ?batch/s]"
      ]
     },
     "metadata": {},
     "output_type": "display_data"
    },
    {
     "name": "stdout",
     "output_type": "stream",
     "text": [
      "Epoch 008\n",
      "TRAIN→ \"R\": RMSE=0.2870 MAE=0.2179 R2=0.0185 | \"B\": Acc=0.3464 Prec=0.2732 Rec=0.8379 F1=0.4121 AUROC=0.5005\n",
      "VALID→ \"R\": RMSE=0.2904 MAE=0.1997 R2=-0.0376 | \"B\": Acc=0.2804 Prec=0.2804 Rec=1.0000 F1=0.4380 AUROC=0.4586\n"
     ]
    },
    {
     "data": {
      "application/vnd.jupyter.widget-view+json": {
       "model_id": "ce90cd17b23f4466a4abbd797a94d54a",
       "version_major": 2,
       "version_minor": 0
      },
      "text/plain": [
       "Epoch 9:   0%|          | 0/60 [00:00<?, ?batch/s]"
      ]
     },
     "metadata": {},
     "output_type": "display_data"
    },
    {
     "name": "stdout",
     "output_type": "stream",
     "text": [
      "Epoch 009\n",
      "TRAIN→ \"R\": RMSE=0.2863 MAE=0.2173 R2=0.0234 | \"B\": Acc=0.3459 Prec=0.2730 Rec=0.8375 F1=0.4118 AUROC=0.4999\n",
      "VALID→ \"R\": RMSE=0.2900 MAE=0.1992 R2=-0.0347 | \"B\": Acc=0.2804 Prec=0.2804 Rec=1.0000 F1=0.4380 AUROC=0.4651\n"
     ]
    },
    {
     "data": {
      "application/vnd.jupyter.widget-view+json": {
       "model_id": "0cc924233a0048bfb99bb62c96a5f0f7",
       "version_major": 2,
       "version_minor": 0
      },
      "text/plain": [
       "Epoch 10:   0%|          | 0/60 [00:00<?, ?batch/s]"
      ]
     },
     "metadata": {},
     "output_type": "display_data"
    },
    {
     "name": "stdout",
     "output_type": "stream",
     "text": [
      "Epoch 010\n",
      "TRAIN→ \"R\": RMSE=0.2856 MAE=0.2167 R2=0.0280 | \"B\": Acc=0.3463 Prec=0.2733 Rec=0.8382 F1=0.4121 AUROC=0.5003\n",
      "VALID→ \"R\": RMSE=0.2897 MAE=0.1987 R2=-0.0328 | \"B\": Acc=0.2804 Prec=0.2804 Rec=1.0000 F1=0.4380 AUROC=0.4734\n"
     ]
    },
    {
     "data": {
      "application/vnd.jupyter.widget-view+json": {
       "model_id": "08d0a57f074244c18822025dd295578a",
       "version_major": 2,
       "version_minor": 0
      },
      "text/plain": [
       "Epoch 11:   0%|          | 0/60 [00:00<?, ?batch/s]"
      ]
     },
     "metadata": {},
     "output_type": "display_data"
    },
    {
     "name": "stdout",
     "output_type": "stream",
     "text": [
      "Epoch 011\n",
      "TRAIN→ \"R\": RMSE=0.2850 MAE=0.2162 R2=0.0318 | \"B\": Acc=0.3464 Prec=0.2728 Rec=0.8348 F1=0.4112 AUROC=0.4996\n",
      "VALID→ \"R\": RMSE=0.2894 MAE=0.1982 R2=-0.0310 | \"B\": Acc=0.2804 Prec=0.2804 Rec=1.0000 F1=0.4380 AUROC=0.4828\n"
     ]
    },
    {
     "data": {
      "application/vnd.jupyter.widget-view+json": {
       "model_id": "4579b28a744e4f0cae889185d4993231",
       "version_major": 2,
       "version_minor": 0
      },
      "text/plain": [
       "Epoch 12:   0%|          | 0/60 [00:00<?, ?batch/s]"
      ]
     },
     "metadata": {},
     "output_type": "display_data"
    },
    {
     "name": "stdout",
     "output_type": "stream",
     "text": [
      "Epoch 012\n",
      "TRAIN→ \"R\": RMSE=0.2844 MAE=0.2157 R2=0.0361 | \"B\": Acc=0.3469 Prec=0.2729 Rec=0.8346 F1=0.4113 AUROC=0.5006\n",
      "VALID→ \"R\": RMSE=0.2892 MAE=0.1978 R2=-0.0291 | \"B\": Acc=0.2804 Prec=0.2804 Rec=1.0000 F1=0.4380 AUROC=0.4906\n"
     ]
    },
    {
     "data": {
      "application/vnd.jupyter.widget-view+json": {
       "model_id": "ae96c1c539954c35942591303e5bbc46",
       "version_major": 2,
       "version_minor": 0
      },
      "text/plain": [
       "Epoch 13:   0%|          | 0/60 [00:00<?, ?batch/s]"
      ]
     },
     "metadata": {},
     "output_type": "display_data"
    },
    {
     "name": "stdout",
     "output_type": "stream",
     "text": [
      "Epoch 013\n",
      "TRAIN→ \"R\": RMSE=0.2839 MAE=0.2152 R2=0.0396 | \"B\": Acc=0.3502 Prec=0.2730 Rec=0.8281 F1=0.4107 AUROC=0.5004\n",
      "VALID→ \"R\": RMSE=0.2888 MAE=0.1974 R2=-0.0267 | \"B\": Acc=0.2804 Prec=0.2804 Rec=1.0000 F1=0.4380 AUROC=0.4978\n"
     ]
    },
    {
     "data": {
      "application/vnd.jupyter.widget-view+json": {
       "model_id": "7c77d93a8478451b82829f2c121c4857",
       "version_major": 2,
       "version_minor": 0
      },
      "text/plain": [
       "Epoch 14:   0%|          | 0/60 [00:00<?, ?batch/s]"
      ]
     },
     "metadata": {},
     "output_type": "display_data"
    },
    {
     "name": "stdout",
     "output_type": "stream",
     "text": [
      "Epoch 014\n",
      "TRAIN→ \"R\": RMSE=0.2834 MAE=0.2148 R2=0.0431 | \"B\": Acc=0.3501 Prec=0.2726 Rec=0.8252 F1=0.4098 AUROC=0.4994\n",
      "VALID→ \"R\": RMSE=0.2887 MAE=0.1971 R2=-0.0258 | \"B\": Acc=0.2805 Prec=0.2804 Rec=1.0000 F1=0.4380 AUROC=0.5102\n"
     ]
    },
    {
     "data": {
      "application/vnd.jupyter.widget-view+json": {
       "model_id": "511e93cc05d943448199a54214dabc38",
       "version_major": 2,
       "version_minor": 0
      },
      "text/plain": [
       "Epoch 15:   0%|          | 0/60 [00:00<?, ?batch/s]"
      ]
     },
     "metadata": {},
     "output_type": "display_data"
    },
    {
     "name": "stdout",
     "output_type": "stream",
     "text": [
      "Epoch 015\n",
      "TRAIN→ \"R\": RMSE=0.2829 MAE=0.2144 R2=0.0465 | \"B\": Acc=0.3507 Prec=0.2728 Rec=0.8252 F1=0.4100 AUROC=0.5002\n",
      "VALID→ \"R\": RMSE=0.2885 MAE=0.1967 R2=-0.0247 | \"B\": Acc=0.2806 Prec=0.2805 Rec=1.0000 F1=0.4381 AUROC=0.5173\n"
     ]
    },
    {
     "data": {
      "application/vnd.jupyter.widget-view+json": {
       "model_id": "19f51610a90d4652a69eeb37df96c26e",
       "version_major": 2,
       "version_minor": 0
      },
      "text/plain": [
       "Epoch 16:   0%|          | 0/60 [00:00<?, ?batch/s]"
      ]
     },
     "metadata": {},
     "output_type": "display_data"
    },
    {
     "name": "stdout",
     "output_type": "stream",
     "text": [
      "Epoch 016\n",
      "TRAIN→ \"R\": RMSE=0.2824 MAE=0.2140 R2=0.0495 | \"B\": Acc=0.3525 Prec=0.2727 Rec=0.8208 F1=0.4094 AUROC=0.5010\n",
      "VALID→ \"R\": RMSE=0.2882 MAE=0.1964 R2=-0.0226 | \"B\": Acc=0.2807 Prec=0.2805 Rec=0.9999 F1=0.4381 AUROC=0.5225\n"
     ]
    },
    {
     "data": {
      "application/vnd.jupyter.widget-view+json": {
       "model_id": "f62783ba14b34d0baa0c5eac2fcc98ab",
       "version_major": 2,
       "version_minor": 0
      },
      "text/plain": [
       "Epoch 17:   0%|          | 0/60 [00:00<?, ?batch/s]"
      ]
     },
     "metadata": {},
     "output_type": "display_data"
    },
    {
     "name": "stdout",
     "output_type": "stream",
     "text": [
      "Epoch 017\n",
      "TRAIN→ \"R\": RMSE=0.2819 MAE=0.2136 R2=0.0531 | \"B\": Acc=0.3566 Prec=0.2730 Rec=0.8141 F1=0.4089 AUROC=0.5013\n",
      "VALID→ \"R\": RMSE=0.2881 MAE=0.1961 R2=-0.0214 | \"B\": Acc=0.2809 Prec=0.2805 Rec=0.9995 F1=0.4381 AUROC=0.5279\n"
     ]
    },
    {
     "data": {
      "application/vnd.jupyter.widget-view+json": {
       "model_id": "a9b5f8a783b04e08b6e647b4087f6421",
       "version_major": 2,
       "version_minor": 0
      },
      "text/plain": [
       "Epoch 18:   0%|          | 0/60 [00:00<?, ?batch/s]"
      ]
     },
     "metadata": {},
     "output_type": "display_data"
    },
    {
     "name": "stdout",
     "output_type": "stream",
     "text": [
      "Epoch 018\n",
      "TRAIN→ \"R\": RMSE=0.2814 MAE=0.2132 R2=0.0560 | \"B\": Acc=0.3562 Prec=0.2725 Rec=0.8114 F1=0.4080 AUROC=0.5006\n",
      "VALID→ \"R\": RMSE=0.2877 MAE=0.1958 R2=-0.0188 | \"B\": Acc=0.2811 Prec=0.2804 Rec=0.9981 F1=0.4378 AUROC=0.5315\n"
     ]
    },
    {
     "data": {
      "application/vnd.jupyter.widget-view+json": {
       "model_id": "17a0a1098b6a469aafc88278554b7130",
       "version_major": 2,
       "version_minor": 0
      },
      "text/plain": [
       "Epoch 19:   0%|          | 0/60 [00:00<?, ?batch/s]"
      ]
     },
     "metadata": {},
     "output_type": "display_data"
    },
    {
     "name": "stdout",
     "output_type": "stream",
     "text": [
      "Epoch 019\n",
      "TRAIN→ \"R\": RMSE=0.2809 MAE=0.2128 R2=0.0594 | \"B\": Acc=0.3600 Prec=0.2727 Rec=0.8047 F1=0.4074 AUROC=0.5010\n",
      "VALID→ \"R\": RMSE=0.2875 MAE=0.1956 R2=-0.0175 | \"B\": Acc=0.2812 Prec=0.2802 Rec=0.9964 F1=0.4374 AUROC=0.5434\n"
     ]
    },
    {
     "data": {
      "application/vnd.jupyter.widget-view+json": {
       "model_id": "d6ac767212c34bd3a17d1ff353f3d2f2",
       "version_major": 2,
       "version_minor": 0
      },
      "text/plain": [
       "Epoch 20:   0%|          | 0/60 [00:00<?, ?batch/s]"
      ]
     },
     "metadata": {},
     "output_type": "display_data"
    },
    {
     "name": "stdout",
     "output_type": "stream",
     "text": [
      "Epoch 020\n",
      "TRAIN→ \"R\": RMSE=0.2805 MAE=0.2125 R2=0.0622 | \"B\": Acc=0.3604 Prec=0.2727 Rec=0.8035 F1=0.4072 AUROC=0.5015\n",
      "VALID→ \"R\": RMSE=0.2873 MAE=0.1953 R2=-0.0159 | \"B\": Acc=0.2812 Prec=0.2792 Rec=0.9882 F1=0.4354 AUROC=0.5447\n"
     ]
    },
    {
     "data": {
      "application/vnd.jupyter.widget-view+json": {
       "model_id": "747ec92669ce43c8a0744f8e44a98200",
       "version_major": 2,
       "version_minor": 0
      },
      "text/plain": [
       "Epoch 21:   0%|          | 0/60 [00:00<?, ?batch/s]"
      ]
     },
     "metadata": {},
     "output_type": "display_data"
    },
    {
     "name": "stdout",
     "output_type": "stream",
     "text": [
      "Epoch 021\n",
      "TRAIN→ \"R\": RMSE=0.2800 MAE=0.2121 R2=0.0655 | \"B\": Acc=0.3643 Prec=0.2727 Rec=0.7948 F1=0.4060 AUROC=0.5018\n",
      "VALID→ \"R\": RMSE=0.2870 MAE=0.1951 R2=-0.0141 | \"B\": Acc=0.2811 Prec=0.2774 Rec=0.9745 F1=0.4319 AUROC=0.5466\n"
     ]
    },
    {
     "data": {
      "application/vnd.jupyter.widget-view+json": {
       "model_id": "e743192eb6ae4f1eb90cfd3c2e5e04ad",
       "version_major": 2,
       "version_minor": 0
      },
      "text/plain": [
       "Epoch 22:   0%|          | 0/60 [00:00<?, ?batch/s]"
      ]
     },
     "metadata": {},
     "output_type": "display_data"
    },
    {
     "name": "stdout",
     "output_type": "stream",
     "text": [
      "Epoch 022\n",
      "TRAIN→ \"R\": RMSE=0.2796 MAE=0.2117 R2=0.0682 | \"B\": Acc=0.3685 Prec=0.2726 Rec=0.7849 F1=0.4046 AUROC=0.5013\n",
      "VALID→ \"R\": RMSE=0.2867 MAE=0.1948 R2=-0.0115 | \"B\": Acc=0.2810 Prec=0.2755 Rec=0.9599 F1=0.4282 AUROC=0.5495\n"
     ]
    },
    {
     "data": {
      "application/vnd.jupyter.widget-view+json": {
       "model_id": "352e0068fd6146359bae1c9e0e8955d4",
       "version_major": 2,
       "version_minor": 0
      },
      "text/plain": [
       "Epoch 23:   0%|          | 0/60 [00:00<?, ?batch/s]"
      ]
     },
     "metadata": {},
     "output_type": "display_data"
    },
    {
     "name": "stdout",
     "output_type": "stream",
     "text": [
      "Epoch 023\n",
      "TRAIN→ \"R\": RMSE=0.2792 MAE=0.2115 R2=0.0712 | \"B\": Acc=0.3713 Prec=0.2724 Rec=0.7777 F1=0.4035 AUROC=0.5019\n",
      "VALID→ \"R\": RMSE=0.2865 MAE=0.1946 R2=-0.0102 | \"B\": Acc=0.2815 Prec=0.2737 Rec=0.9448 F1=0.4245 AUROC=0.5513\n"
     ]
    },
    {
     "data": {
      "application/vnd.jupyter.widget-view+json": {
       "model_id": "1ae59b53cd3645e79aaba2aab533dd89",
       "version_major": 2,
       "version_minor": 0
      },
      "text/plain": [
       "Epoch 24:   0%|          | 0/60 [00:00<?, ?batch/s]"
      ]
     },
     "metadata": {},
     "output_type": "display_data"
    },
    {
     "name": "stdout",
     "output_type": "stream",
     "text": [
      "Epoch 024\n",
      "TRAIN→ \"R\": RMSE=0.2787 MAE=0.2110 R2=0.0743 | \"B\": Acc=0.3752 Prec=0.2725 Rec=0.7698 F1=0.4025 AUROC=0.5020\n",
      "VALID→ \"R\": RMSE=0.2860 MAE=0.1942 R2=-0.0066 | \"B\": Acc=0.2828 Prec=0.2719 Rec=0.9280 F1=0.4205 AUROC=0.5521\n"
     ]
    },
    {
     "data": {
      "application/vnd.jupyter.widget-view+json": {
       "model_id": "dc97da4af8ac4de285a4ff5a61ac9e83",
       "version_major": 2,
       "version_minor": 0
      },
      "text/plain": [
       "Epoch 25:   0%|          | 0/60 [00:00<?, ?batch/s]"
      ]
     },
     "metadata": {},
     "output_type": "display_data"
    },
    {
     "name": "stdout",
     "output_type": "stream",
     "text": [
      "Epoch 025\n",
      "TRAIN→ \"R\": RMSE=0.2783 MAE=0.2108 R2=0.0772 | \"B\": Acc=0.3786 Prec=0.2726 Rec=0.7626 F1=0.4016 AUROC=0.5023\n",
      "VALID→ \"R\": RMSE=0.2858 MAE=0.1940 R2=-0.0056 | \"B\": Acc=0.2850 Prec=0.2699 Rec=0.9087 F1=0.4161 AUROC=0.5509\n"
     ]
    },
    {
     "data": {
      "application/vnd.jupyter.widget-view+json": {
       "model_id": "17607325e55d4ac5b6752cbd82472eb8",
       "version_major": 2,
       "version_minor": 0
      },
      "text/plain": [
       "Epoch 26:   0%|          | 0/60 [00:00<?, ?batch/s]"
      ]
     },
     "metadata": {},
     "output_type": "display_data"
    },
    {
     "name": "stdout",
     "output_type": "stream",
     "text": [
      "Epoch 026\n",
      "TRAIN→ \"R\": RMSE=0.2778 MAE=0.2104 R2=0.0801 | \"B\": Acc=0.3831 Prec=0.2728 Rec=0.7542 F1=0.4007 AUROC=0.5033\n",
      "VALID→ \"R\": RMSE=0.2855 MAE=0.1938 R2=-0.0034 | \"B\": Acc=0.2869 Prec=0.2694 Rec=0.9015 F1=0.4148 AUROC=0.5569\n"
     ]
    },
    {
     "data": {
      "application/vnd.jupyter.widget-view+json": {
       "model_id": "6cfb6fde24154f0d945287bffc3b0804",
       "version_major": 2,
       "version_minor": 0
      },
      "text/plain": [
       "Epoch 27:   0%|          | 0/60 [00:00<?, ?batch/s]"
      ]
     },
     "metadata": {},
     "output_type": "display_data"
    },
    {
     "name": "stdout",
     "output_type": "stream",
     "text": [
      "Epoch 027\n",
      "TRAIN→ \"R\": RMSE=0.2774 MAE=0.2101 R2=0.0829 | \"B\": Acc=0.3843 Prec=0.2731 Rec=0.7536 F1=0.4009 AUROC=0.5044\n",
      "VALID→ \"R\": RMSE=0.2850 MAE=0.1935 R2=0.0002 | \"B\": Acc=0.2910 Prec=0.2679 Rec=0.8823 F1=0.4111 AUROC=0.5559\n"
     ]
    },
    {
     "data": {
      "application/vnd.jupyter.widget-view+json": {
       "model_id": "3d3e3790ae4e4140be818dfda7324cd1",
       "version_major": 2,
       "version_minor": 0
      },
      "text/plain": [
       "Epoch 28:   0%|          | 0/60 [00:00<?, ?batch/s]"
      ]
     },
     "metadata": {},
     "output_type": "display_data"
    },
    {
     "name": "stdout",
     "output_type": "stream",
     "text": [
      "Epoch 028\n",
      "TRAIN→ \"R\": RMSE=0.2769 MAE=0.2098 R2=0.0863 | \"B\": Acc=0.3886 Prec=0.2728 Rec=0.7425 F1=0.3991 AUROC=0.5038\n",
      "VALID→ \"R\": RMSE=0.2848 MAE=0.1933 R2=0.0016 | \"B\": Acc=0.2957 Prec=0.2666 Rec=0.8635 F1=0.4074 AUROC=0.5548\n"
     ]
    },
    {
     "data": {
      "application/vnd.jupyter.widget-view+json": {
       "model_id": "7af1c861f8714029a8de0ffd7a53ad54",
       "version_major": 2,
       "version_minor": 0
      },
      "text/plain": [
       "Epoch 29:   0%|          | 0/60 [00:00<?, ?batch/s]"
      ]
     },
     "metadata": {},
     "output_type": "display_data"
    },
    {
     "name": "stdout",
     "output_type": "stream",
     "text": [
      "Epoch 029\n",
      "TRAIN→ \"R\": RMSE=0.2765 MAE=0.2094 R2=0.0888 | \"B\": Acc=0.3920 Prec=0.2730 Rec=0.7360 F1=0.3983 AUROC=0.5048\n",
      "VALID→ \"R\": RMSE=0.2843 MAE=0.1930 R2=0.0049 | \"B\": Acc=0.3021 Prec=0.2658 Rec=0.8450 F1=0.4044 AUROC=0.5544\n"
     ]
    },
    {
     "data": {
      "application/vnd.jupyter.widget-view+json": {
       "model_id": "b3ccdeb982e140f0939febc2a1185595",
       "version_major": 2,
       "version_minor": 0
      },
      "text/plain": [
       "Epoch 30:   0%|          | 0/60 [00:00<?, ?batch/s]"
      ]
     },
     "metadata": {},
     "output_type": "display_data"
    },
    {
     "name": "stdout",
     "output_type": "stream",
     "text": [
      "Epoch 030\n",
      "TRAIN→ \"R\": RMSE=0.2760 MAE=0.2091 R2=0.0923 | \"B\": Acc=0.3951 Prec=0.2730 Rec=0.7293 F1=0.3973 AUROC=0.5051\n",
      "VALID→ \"R\": RMSE=0.2838 MAE=0.1927 R2=0.0089 | \"B\": Acc=0.3125 Prec=0.2654 Rec=0.8213 F1=0.4012 AUROC=0.5526\n"
     ]
    },
    {
     "data": {
      "application/vnd.jupyter.widget-view+json": {
       "model_id": "7d5320aa37ee441e8a99b3caa9e32d02",
       "version_major": 2,
       "version_minor": 0
      },
      "text/plain": [
       "Epoch 31:   0%|          | 0/60 [00:00<?, ?batch/s]"
      ]
     },
     "metadata": {},
     "output_type": "display_data"
    },
    {
     "name": "stdout",
     "output_type": "stream",
     "text": [
      "Epoch 031\n",
      "TRAIN→ \"R\": RMSE=0.2755 MAE=0.2088 R2=0.0952 | \"B\": Acc=0.3998 Prec=0.2735 Rec=0.7215 F1=0.3966 AUROC=0.5060\n",
      "VALID→ \"R\": RMSE=0.2836 MAE=0.1924 R2=0.0103 | \"B\": Acc=0.3275 Prec=0.2661 Rec=0.7953 F1=0.3988 AUROC=0.5512\n"
     ]
    },
    {
     "data": {
      "application/vnd.jupyter.widget-view+json": {
       "model_id": "1c1d302ea9f2433894742af53a54c626",
       "version_major": 2,
       "version_minor": 0
      },
      "text/plain": [
       "Epoch 32:   0%|          | 0/60 [00:00<?, ?batch/s]"
      ]
     },
     "metadata": {},
     "output_type": "display_data"
    },
    {
     "name": "stdout",
     "output_type": "stream",
     "text": [
      "Epoch 032\n",
      "TRAIN→ \"R\": RMSE=0.2751 MAE=0.2084 R2=0.0982 | \"B\": Acc=0.4028 Prec=0.2735 Rec=0.7149 F1=0.3956 AUROC=0.5059\n",
      "VALID→ \"R\": RMSE=0.2829 MAE=0.1921 R2=0.0149 | \"B\": Acc=0.3411 Prec=0.2678 Rec=0.7780 F1=0.3984 AUROC=0.5527\n"
     ]
    },
    {
     "data": {
      "application/vnd.jupyter.widget-view+json": {
       "model_id": "76297f1a88ab4220a575faa700d824cb",
       "version_major": 2,
       "version_minor": 0
      },
      "text/plain": [
       "Epoch 33:   0%|          | 0/60 [00:00<?, ?batch/s]"
      ]
     },
     "metadata": {},
     "output_type": "display_data"
    },
    {
     "name": "stdout",
     "output_type": "stream",
     "text": [
      "Epoch 033\n",
      "TRAIN→ \"R\": RMSE=0.2746 MAE=0.2081 R2=0.1012 | \"B\": Acc=0.4057 Prec=0.2742 Rec=0.7125 F1=0.3960 AUROC=0.5082\n",
      "VALID→ \"R\": RMSE=0.2825 MAE=0.1918 R2=0.0175 | \"B\": Acc=0.3614 Prec=0.2714 Rec=0.7581 F1=0.3997 AUROC=0.5555\n"
     ]
    },
    {
     "data": {
      "application/vnd.jupyter.widget-view+json": {
       "model_id": "7db2c5c735c24c8ca12f25081c8a7aff",
       "version_major": 2,
       "version_minor": 0
      },
      "text/plain": [
       "Epoch 34:   0%|          | 0/60 [00:00<?, ?batch/s]"
      ]
     },
     "metadata": {},
     "output_type": "display_data"
    },
    {
     "name": "stdout",
     "output_type": "stream",
     "text": [
      "Epoch 034\n",
      "TRAIN→ \"R\": RMSE=0.2742 MAE=0.2078 R2=0.1041 | \"B\": Acc=0.4077 Prec=0.2743 Rec=0.7090 F1=0.3956 AUROC=0.5086\n",
      "VALID→ \"R\": RMSE=0.2820 MAE=0.1915 R2=0.0213 | \"B\": Acc=0.3771 Prec=0.2750 Rec=0.7462 F1=0.4019 AUROC=0.5594\n"
     ]
    },
    {
     "data": {
      "application/vnd.jupyter.widget-view+json": {
       "model_id": "b6ff9905efb44481a7e86ee61dd95e94",
       "version_major": 2,
       "version_minor": 0
      },
      "text/plain": [
       "Epoch 35:   0%|          | 0/60 [00:00<?, ?batch/s]"
      ]
     },
     "metadata": {},
     "output_type": "display_data"
    },
    {
     "name": "stdout",
     "output_type": "stream",
     "text": [
      "Epoch 035\n",
      "TRAIN→ \"R\": RMSE=0.2736 MAE=0.2075 R2=0.1076 | \"B\": Acc=0.4088 Prec=0.2748 Rec=0.7093 F1=0.3961 AUROC=0.5105\n",
      "VALID→ \"R\": RMSE=0.2816 MAE=0.1912 R2=0.0238 | \"B\": Acc=0.4025 Prec=0.2796 Rec=0.7171 F1=0.4023 AUROC=0.5591\n"
     ]
    },
    {
     "data": {
      "application/vnd.jupyter.widget-view+json": {
       "model_id": "f65f2c34c69a4a0fa4d1aa9444331a6b",
       "version_major": 2,
       "version_minor": 0
      },
      "text/plain": [
       "Epoch 36:   0%|          | 0/60 [00:00<?, ?batch/s]"
      ]
     },
     "metadata": {},
     "output_type": "display_data"
    },
    {
     "name": "stdout",
     "output_type": "stream",
     "text": [
      "Epoch 036\n",
      "TRAIN→ \"R\": RMSE=0.2733 MAE=0.2071 R2=0.1098 | \"B\": Acc=0.4099 Prec=0.2744 Rec=0.7047 F1=0.3950 AUROC=0.5095\n",
      "VALID→ \"R\": RMSE=0.2811 MAE=0.1909 R2=0.0272 | \"B\": Acc=0.4204 Prec=0.2841 Rec=0.7020 F1=0.4045 AUROC=0.5612\n"
     ]
    },
    {
     "data": {
      "application/vnd.jupyter.widget-view+json": {
       "model_id": "1eecca1609f548d2b18f76129f20c848",
       "version_major": 2,
       "version_minor": 0
      },
      "text/plain": [
       "Epoch 37:   0%|          | 0/60 [00:00<?, ?batch/s]"
      ]
     },
     "metadata": {},
     "output_type": "display_data"
    },
    {
     "name": "stdout",
     "output_type": "stream",
     "text": [
      "Epoch 037\n",
      "TRAIN→ \"R\": RMSE=0.2727 MAE=0.2068 R2=0.1137 | \"B\": Acc=0.4135 Prec=0.2755 Rec=0.7028 F1=0.3958 AUROC=0.5122\n",
      "VALID→ \"R\": RMSE=0.2805 MAE=0.1905 R2=0.0315 | \"B\": Acc=0.4556 Prec=0.2903 Rec=0.6518 F1=0.4017 AUROC=0.5560\n"
     ]
    },
    {
     "data": {
      "application/vnd.jupyter.widget-view+json": {
       "model_id": "527c4fdab6f94972971d6e13e24ee99e",
       "version_major": 2,
       "version_minor": 0
      },
      "text/plain": [
       "Epoch 38:   0%|          | 0/60 [00:00<?, ?batch/s]"
      ]
     },
     "metadata": {},
     "output_type": "display_data"
    },
    {
     "name": "stdout",
     "output_type": "stream",
     "text": [
      "Epoch 038\n",
      "TRAIN→ \"R\": RMSE=0.2723 MAE=0.2064 R2=0.1165 | \"B\": Acc=0.4183 Prec=0.2757 Rec=0.6931 F1=0.3945 AUROC=0.5118\n",
      "VALID→ \"R\": RMSE=0.2800 MAE=0.1902 R2=0.0351 | \"B\": Acc=0.4743 Prec=0.2963 Rec=0.6364 F1=0.4043 AUROC=0.5592\n"
     ]
    },
    {
     "data": {
      "application/vnd.jupyter.widget-view+json": {
       "model_id": "3edaee6b01fe4188b87f180691bb4b2a",
       "version_major": 2,
       "version_minor": 0
      },
      "text/plain": [
       "Epoch 39:   0%|          | 0/60 [00:00<?, ?batch/s]"
      ]
     },
     "metadata": {},
     "output_type": "display_data"
    },
    {
     "name": "stdout",
     "output_type": "stream",
     "text": [
      "Epoch 039\n",
      "TRAIN→ \"R\": RMSE=0.2717 MAE=0.2061 R2=0.1202 | \"B\": Acc=0.4199 Prec=0.2765 Rec=0.6937 F1=0.3954 AUROC=0.5144\n",
      "VALID→ \"R\": RMSE=0.2796 MAE=0.1899 R2=0.0380 | \"B\": Acc=0.5063 Prec=0.3045 Rec=0.5923 F1=0.4022 AUROC=0.5555\n"
     ]
    },
    {
     "data": {
      "application/vnd.jupyter.widget-view+json": {
       "model_id": "823ac4e00b6f4ac6808d89c8d8cffaa8",
       "version_major": 2,
       "version_minor": 0
      },
      "text/plain": [
       "Epoch 40:   0%|          | 0/60 [00:00<?, ?batch/s]"
      ]
     },
     "metadata": {},
     "output_type": "display_data"
    }
   ],
   "source": [
    "# ──────────────────────────────────────────────────────────────────────────────\n",
    "#  Create Optuna study and run optimization\n",
    "# ──────────────────────────────────────────────────────────────────────────────\n",
    "\n",
    "study = optuna.create_study(\n",
    "    storage=\"sqlite:///optuna_study.db\",    # Point it at an SQLite file so it writes out each result immediately instead of buffering in RAM\n",
    "    load_if_exists=True,\n",
    "    direction=\"minimize\",\n",
    "    pruner=MedianPruner(n_startup_trials=6, n_warmup_steps=12),\n",
    ")\n",
    "\n",
    "        \n",
    "study.optimize(\n",
    "    objective,\n",
    "    n_trials = 100,\n",
    "    n_jobs   = 1,\n",
    "    callbacks=[live_cb, plots.cleanup_callback],\n",
    ")\n",
    "\n",
    "plt.close('all')   # safe here; the final image remains displayed in the notebook output\n",
    "gc.collect()       # optional extra sweep\n",
    "\n"
   ]
  },
  {
   "cell_type": "code",
   "execution_count": null,
   "id": "4312366c-7f12-4c10-9f34-0647d6be022e",
   "metadata": {},
   "outputs": [],
   "source": [
    "# ──────────────────────────────────────────────────────────────────────────────\n",
    "#  Print out the best hyperparameters & result\n",
    "# ──────────────────────────────────────────────────────────────────────────────\n",
    "print(\"Best hyperparameters:\", study.best_params)\n",
    "print(\"Best validation RMSE:\", study.best_value)\n",
    "\n",
    "# ──────────────────────────────────────────────────────────────────────────────\n",
    "#  Compute and print parameter importances\n",
    "# ──────────────────────────────────────────────────────────────────────────────\n",
    "imps = get_param_importances(study)\n",
    "print(\"\\nHyperparameter importances (higher ⇒ more impact on RMSE):\")\n",
    "for name, score in sorted(imps.items(), key=lambda x: x[1], reverse=True):\n",
    "    print(f\"  {name:20s} : {score:.3f}\")\n",
    "\n",
    "# ──────────────────────────────────────────────────────────────────────────────\n",
    "#  Dump study results to JSON\n",
    "# ──────────────────────────────────────────────────────────────────────────────\n",
    "# 1) Build your session‐only DataFrame once\n",
    "session_df = df.between_time(params.regular_start,\n",
    "                             params.regular_end)\n",
    "\n",
    "# 2) Derive the trading‐day boundaries\n",
    "first_day = session_df.index.normalize().min()\n",
    "last_day  = session_df.index.normalize().max()\n",
    "\n",
    "# 3) Format your file name\n",
    "start_date = first_day.strftime(\"%Y%m%d\")\n",
    "end_date   = last_day.strftime(\"%Y%m%d\")\n",
    "file_name  = f\"{params.ticker}_{start_date}-{end_date}_optuna_model_hpars.json\"\n",
    "file_path  = os.path.join(results_folder, file_name)\n",
    "\n",
    "\n",
    "# ------------------------------------------------------------------\n",
    "# Dump study results (including importances)\n",
    "# ------------------------------------------------------------------\n",
    "\n",
    "with open(file_path, \"w\") as f:\n",
    "    json.dump(\n",
    "        {\n",
    "            \"best_params\": study.best_params,\n",
    "            \"best_value\" : study.best_value,\n",
    "            \"importances\": imps,\n",
    "            \"trials\": [\n",
    "                {\"number\": t.number, \"value\": t.value, \"params\": t.params, \n",
    "                 \"state\": t.state.name}\n",
    "                for t in study.trials\n",
    "            ],\n",
    "        },\n",
    "        f,\n",
    "        indent=4,\n",
    "    )\n",
    "\n",
    "print(f\"\\nOptuna results (and importances) saved to: {file_path}\")\n"
   ]
  },
  {
   "cell_type": "code",
   "execution_count": null,
   "id": "9c97c435-e800-483e-b2ab-f9412ef6954e",
   "metadata": {},
   "outputs": [],
   "source": []
  },
  {
   "cell_type": "code",
   "execution_count": null,
   "id": "6865782e-fc07-4354-a5b9-2cdeed1ebad9",
   "metadata": {},
   "outputs": [],
   "source": []
  },
  {
   "cell_type": "code",
   "execution_count": null,
   "id": "cbaa9fb2-411b-4d9f-9a33-e6f6c59de7dd",
   "metadata": {},
   "outputs": [],
   "source": []
  }
 ],
 "metadata": {
  "kernelspec": {
   "display_name": "Python 3 (ipykernel)",
   "language": "python",
   "name": "python3"
  },
  "language_info": {
   "codemirror_mode": {
    "name": "ipython",
    "version": 3
   },
   "file_extension": ".py",
   "mimetype": "text/x-python",
   "name": "python",
   "nbconvert_exporter": "python",
   "pygments_lexer": "ipython3",
   "version": "3.12.3"
  }
 },
 "nbformat": 4,
 "nbformat_minor": 5
}
