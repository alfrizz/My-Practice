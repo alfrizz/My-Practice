{
 "cells": [
  {
   "cell_type": "code",
   "execution_count": 1,
   "id": "457f3994-6d3b-4a52-9d2e-35e0e29924f0",
   "metadata": {},
   "outputs": [
    {
     "data": {
      "text/plain": [
       "<module 'libs.models.dual_lstm' from '/workspace/my_models/Trading/_Stock_Analysis_/libs/models/dual_lstm.py'>"
      ]
     },
     "execution_count": 1,
     "metadata": {},
     "output_type": "execute_result"
    }
   ],
   "source": [
    "%matplotlib inline\n",
    "\n",
    "\n",
    "# 1) Wipe out your namespace\n",
    "%reset -f\n",
    "\n",
    "# 2) Clear Jupyter’s stored outputs (and inputs if you like)\n",
    "try:\n",
    "    Out.clear()\n",
    "except NameError:\n",
    "    pass\n",
    "\n",
    "try:\n",
    "    In.clear()\n",
    "except NameError:\n",
    "    pass\n",
    "\n",
    "# 3) Force Python GC\n",
    "import gc\n",
    "gc.collect()\n",
    "\n",
    "# 4) Free any GPU buffers\n",
    "import torch\n",
    "if torch.cuda.is_available():\n",
    "    torch.cuda.empty_cache()\n",
    "\n",
    "\n",
    "import importlib\n",
    "from libs import params, trades, feats, plots, models_core\n",
    "from libs.models import dual_lstm\n",
    "importlib.reload(params)\n",
    "importlib.reload(trades)\n",
    "importlib.reload(feats)\n",
    "importlib.reload(plots)\n",
    "importlib.reload(models_core)\n",
    "importlib.reload(dual_lstm)"
   ]
  },
  {
   "cell_type": "code",
   "execution_count": 2,
   "id": "2366b422-dfac-4830-8f50-db7b522f2769",
   "metadata": {},
   "outputs": [],
   "source": [
    "# Turn off interactive plotting globally (we’ll manage our own display)\n",
    "import matplotlib\n",
    "matplotlib.use(\"Agg\")  # safe, headless-friendly\n",
    "import matplotlib.pyplot as plt\n",
    "plt.ioff()\n",
    "\n",
    "import os\n",
    "import json\n",
    "import numpy as np\n",
    "import pandas as pd\n",
    "import datetime as dt\n",
    "from pathlib import Path\n",
    "\n",
    "from torch import nn\n",
    "from torch.optim import AdamW\n",
    "from torch.optim.lr_scheduler import ReduceLROnPlateau, CosineAnnealingWarmRestarts\n",
    "from torch.cuda.amp import GradScaler, autocast\n",
    "\n",
    "import optuna\n",
    "from optuna.pruners import MedianPruner\n",
    "from optuna.exceptions import TrialPruned\n",
    "from optuna.importance import get_param_importances\n",
    "\n",
    "from tqdm.auto import tqdm\n"
   ]
  },
  {
   "cell_type": "code",
   "execution_count": 3,
   "id": "a9498b30-9abb-4123-87f1-0ed191478e49",
   "metadata": {},
   "outputs": [
    {
     "data": {
      "text/html": [
       "<div>\n",
       "<style scoped>\n",
       "    .dataframe tbody tr th:only-of-type {\n",
       "        vertical-align: middle;\n",
       "    }\n",
       "\n",
       "    .dataframe tbody tr th {\n",
       "        vertical-align: top;\n",
       "    }\n",
       "\n",
       "    .dataframe thead th {\n",
       "        text-align: right;\n",
       "    }\n",
       "</style>\n",
       "<table border=\"1\" class=\"dataframe\">\n",
       "  <thead>\n",
       "    <tr style=\"text-align: right;\">\n",
       "      <th></th>\n",
       "      <th>adx_14</th>\n",
       "      <th>atr_14</th>\n",
       "      <th>ret</th>\n",
       "      <th>atr_pct_14</th>\n",
       "      <th>log_ret</th>\n",
       "      <th>macd_signal_12_26_9</th>\n",
       "      <th>bb_hband_20</th>\n",
       "      <th>body</th>\n",
       "      <th>bb_w_20</th>\n",
       "      <th>eng_vwap</th>\n",
       "      <th>...</th>\n",
       "      <th>eng_obv</th>\n",
       "      <th>vol_spike_14</th>\n",
       "      <th>macd_diff_12_26_9</th>\n",
       "      <th>sma_28</th>\n",
       "      <th>eng_sma_long</th>\n",
       "      <th>obv_pct_14</th>\n",
       "      <th>eng_macd</th>\n",
       "      <th>bid</th>\n",
       "      <th>ask</th>\n",
       "      <th>signal</th>\n",
       "    </tr>\n",
       "  </thead>\n",
       "  <tbody>\n",
       "    <tr>\n",
       "      <th>2004-01-02 09:33:00</th>\n",
       "      <td>0.485142</td>\n",
       "      <td>0.000000</td>\n",
       "      <td>1.000000</td>\n",
       "      <td>0.000000</td>\n",
       "      <td>0.000000</td>\n",
       "      <td>0.000000</td>\n",
       "      <td>0.520116</td>\n",
       "      <td>0.000000</td>\n",
       "      <td>0.631765</td>\n",
       "      <td>0.494368</td>\n",
       "      <td>...</td>\n",
       "      <td>0.000153</td>\n",
       "      <td>0.256079</td>\n",
       "      <td>0.463814</td>\n",
       "      <td>0.525817</td>\n",
       "      <td>0.0</td>\n",
       "      <td>0.814286</td>\n",
       "      <td>0.0</td>\n",
       "      <td>0.763714</td>\n",
       "      <td>0.764857</td>\n",
       "      <td>1.301415e-09</td>\n",
       "    </tr>\n",
       "    <tr>\n",
       "      <th>2004-01-02 09:34:00</th>\n",
       "      <td>0.485142</td>\n",
       "      <td>0.000000</td>\n",
       "      <td>1.000000</td>\n",
       "      <td>0.000000</td>\n",
       "      <td>0.000000</td>\n",
       "      <td>0.000000</td>\n",
       "      <td>0.520116</td>\n",
       "      <td>0.000000</td>\n",
       "      <td>0.631765</td>\n",
       "      <td>0.494368</td>\n",
       "      <td>...</td>\n",
       "      <td>0.000153</td>\n",
       "      <td>0.256079</td>\n",
       "      <td>0.463814</td>\n",
       "      <td>0.525817</td>\n",
       "      <td>0.0</td>\n",
       "      <td>0.814966</td>\n",
       "      <td>0.0</td>\n",
       "      <td>0.763714</td>\n",
       "      <td>0.764857</td>\n",
       "      <td>1.405474e-09</td>\n",
       "    </tr>\n",
       "    <tr>\n",
       "      <th>2004-01-02 09:35:00</th>\n",
       "      <td>0.485142</td>\n",
       "      <td>0.000000</td>\n",
       "      <td>1.000000</td>\n",
       "      <td>0.000000</td>\n",
       "      <td>0.000000</td>\n",
       "      <td>0.000000</td>\n",
       "      <td>0.520116</td>\n",
       "      <td>0.000000</td>\n",
       "      <td>0.631765</td>\n",
       "      <td>0.494368</td>\n",
       "      <td>...</td>\n",
       "      <td>0.000153</td>\n",
       "      <td>0.256079</td>\n",
       "      <td>0.463814</td>\n",
       "      <td>0.525817</td>\n",
       "      <td>0.0</td>\n",
       "      <td>0.815627</td>\n",
       "      <td>0.0</td>\n",
       "      <td>0.763714</td>\n",
       "      <td>0.764857</td>\n",
       "      <td>1.517855e-09</td>\n",
       "    </tr>\n",
       "    <tr>\n",
       "      <th>2004-01-02 09:36:00</th>\n",
       "      <td>0.485142</td>\n",
       "      <td>0.000000</td>\n",
       "      <td>1.000000</td>\n",
       "      <td>0.000000</td>\n",
       "      <td>0.000000</td>\n",
       "      <td>0.000000</td>\n",
       "      <td>0.520116</td>\n",
       "      <td>0.000000</td>\n",
       "      <td>0.631765</td>\n",
       "      <td>0.494368</td>\n",
       "      <td>...</td>\n",
       "      <td>0.000153</td>\n",
       "      <td>0.256079</td>\n",
       "      <td>0.463814</td>\n",
       "      <td>0.525817</td>\n",
       "      <td>0.0</td>\n",
       "      <td>0.816271</td>\n",
       "      <td>0.0</td>\n",
       "      <td>0.763714</td>\n",
       "      <td>0.764857</td>\n",
       "      <td>1.639221e-09</td>\n",
       "    </tr>\n",
       "    <tr>\n",
       "      <th>2004-01-02 09:37:00</th>\n",
       "      <td>0.485142</td>\n",
       "      <td>0.000000</td>\n",
       "      <td>1.000000</td>\n",
       "      <td>0.000000</td>\n",
       "      <td>0.000000</td>\n",
       "      <td>0.000000</td>\n",
       "      <td>0.520116</td>\n",
       "      <td>0.000000</td>\n",
       "      <td>0.631765</td>\n",
       "      <td>0.494368</td>\n",
       "      <td>...</td>\n",
       "      <td>0.000153</td>\n",
       "      <td>0.256079</td>\n",
       "      <td>0.463814</td>\n",
       "      <td>0.525817</td>\n",
       "      <td>0.0</td>\n",
       "      <td>0.816896</td>\n",
       "      <td>0.0</td>\n",
       "      <td>0.763714</td>\n",
       "      <td>0.764857</td>\n",
       "      <td>1.770291e-09</td>\n",
       "    </tr>\n",
       "    <tr>\n",
       "      <th>...</th>\n",
       "      <td>...</td>\n",
       "      <td>...</td>\n",
       "      <td>...</td>\n",
       "      <td>...</td>\n",
       "      <td>...</td>\n",
       "      <td>...</td>\n",
       "      <td>...</td>\n",
       "      <td>...</td>\n",
       "      <td>...</td>\n",
       "      <td>...</td>\n",
       "      <td>...</td>\n",
       "      <td>...</td>\n",
       "      <td>...</td>\n",
       "      <td>...</td>\n",
       "      <td>...</td>\n",
       "      <td>...</td>\n",
       "      <td>...</td>\n",
       "      <td>...</td>\n",
       "      <td>...</td>\n",
       "      <td>...</td>\n",
       "      <td>...</td>\n",
       "    </tr>\n",
       "    <tr>\n",
       "      <th>2025-06-18 20:56:00</th>\n",
       "      <td>0.471818</td>\n",
       "      <td>0.621793</td>\n",
       "      <td>0.672166</td>\n",
       "      <td>0.551616</td>\n",
       "      <td>0.363125</td>\n",
       "      <td>0.603598</td>\n",
       "      <td>0.538263</td>\n",
       "      <td>0.074852</td>\n",
       "      <td>0.631765</td>\n",
       "      <td>0.772017</td>\n",
       "      <td>...</td>\n",
       "      <td>1.000000</td>\n",
       "      <td>0.358865</td>\n",
       "      <td>0.778924</td>\n",
       "      <td>0.663654</td>\n",
       "      <td>1.0</td>\n",
       "      <td>0.849580</td>\n",
       "      <td>1.0</td>\n",
       "      <td>196.667400</td>\n",
       "      <td>196.962600</td>\n",
       "      <td>6.849078e-01</td>\n",
       "    </tr>\n",
       "    <tr>\n",
       "      <th>2025-06-18 20:57:00</th>\n",
       "      <td>0.477293</td>\n",
       "      <td>0.635309</td>\n",
       "      <td>0.616686</td>\n",
       "      <td>0.572985</td>\n",
       "      <td>0.347207</td>\n",
       "      <td>0.783314</td>\n",
       "      <td>0.538263</td>\n",
       "      <td>0.067044</td>\n",
       "      <td>0.631765</td>\n",
       "      <td>0.781272</td>\n",
       "      <td>...</td>\n",
       "      <td>1.000000</td>\n",
       "      <td>0.375525</td>\n",
       "      <td>0.786119</td>\n",
       "      <td>0.646633</td>\n",
       "      <td>0.0</td>\n",
       "      <td>0.846909</td>\n",
       "      <td>1.0</td>\n",
       "      <td>196.527500</td>\n",
       "      <td>196.822500</td>\n",
       "      <td>6.122057e-01</td>\n",
       "    </tr>\n",
       "    <tr>\n",
       "      <th>2025-06-18 20:58:00</th>\n",
       "      <td>0.478505</td>\n",
       "      <td>0.619840</td>\n",
       "      <td>0.614734</td>\n",
       "      <td>0.589792</td>\n",
       "      <td>0.336272</td>\n",
       "      <td>0.357899</td>\n",
       "      <td>0.538263</td>\n",
       "      <td>0.064933</td>\n",
       "      <td>0.631765</td>\n",
       "      <td>0.697977</td>\n",
       "      <td>...</td>\n",
       "      <td>1.000000</td>\n",
       "      <td>0.380516</td>\n",
       "      <td>0.787130</td>\n",
       "      <td>0.624288</td>\n",
       "      <td>0.0</td>\n",
       "      <td>0.843439</td>\n",
       "      <td>1.0</td>\n",
       "      <td>196.522500</td>\n",
       "      <td>196.817500</td>\n",
       "      <td>6.104678e-01</td>\n",
       "    </tr>\n",
       "    <tr>\n",
       "      <th>2025-06-18 20:59:00</th>\n",
       "      <td>0.491731</td>\n",
       "      <td>0.647087</td>\n",
       "      <td>0.475401</td>\n",
       "      <td>0.591050</td>\n",
       "      <td>0.290578</td>\n",
       "      <td>0.872081</td>\n",
       "      <td>0.538263</td>\n",
       "      <td>0.160021</td>\n",
       "      <td>0.631765</td>\n",
       "      <td>0.753507</td>\n",
       "      <td>...</td>\n",
       "      <td>1.000000</td>\n",
       "      <td>0.650190</td>\n",
       "      <td>0.719700</td>\n",
       "      <td>0.507225</td>\n",
       "      <td>0.0</td>\n",
       "      <td>0.820132</td>\n",
       "      <td>1.0</td>\n",
       "      <td>196.092800</td>\n",
       "      <td>196.387200</td>\n",
       "      <td>4.770902e-01</td>\n",
       "    </tr>\n",
       "    <tr>\n",
       "      <th>2025-06-18 21:00:00</th>\n",
       "      <td>0.483337</td>\n",
       "      <td>0.674872</td>\n",
       "      <td>0.551738</td>\n",
       "      <td>0.588423</td>\n",
       "      <td>0.249733</td>\n",
       "      <td>0.899181</td>\n",
       "      <td>0.538263</td>\n",
       "      <td>0.176984</td>\n",
       "      <td>0.631765</td>\n",
       "      <td>0.809037</td>\n",
       "      <td>...</td>\n",
       "      <td>1.000000</td>\n",
       "      <td>0.890887</td>\n",
       "      <td>0.708830</td>\n",
       "      <td>0.494722</td>\n",
       "      <td>0.0</td>\n",
       "      <td>0.881689</td>\n",
       "      <td>1.0</td>\n",
       "      <td>196.392600</td>\n",
       "      <td>196.687400</td>\n",
       "      <td>3.509684e-01</td>\n",
       "    </tr>\n",
       "  </tbody>\n",
       "</table>\n",
       "<p>3715200 rows × 23 columns</p>\n",
       "</div>"
      ],
      "text/plain": [
       "                       adx_14    atr_14       ret  atr_pct_14   log_ret  \\\n",
       "2004-01-02 09:33:00  0.485142  0.000000  1.000000    0.000000  0.000000   \n",
       "2004-01-02 09:34:00  0.485142  0.000000  1.000000    0.000000  0.000000   \n",
       "2004-01-02 09:35:00  0.485142  0.000000  1.000000    0.000000  0.000000   \n",
       "2004-01-02 09:36:00  0.485142  0.000000  1.000000    0.000000  0.000000   \n",
       "2004-01-02 09:37:00  0.485142  0.000000  1.000000    0.000000  0.000000   \n",
       "...                       ...       ...       ...         ...       ...   \n",
       "2025-06-18 20:56:00  0.471818  0.621793  0.672166    0.551616  0.363125   \n",
       "2025-06-18 20:57:00  0.477293  0.635309  0.616686    0.572985  0.347207   \n",
       "2025-06-18 20:58:00  0.478505  0.619840  0.614734    0.589792  0.336272   \n",
       "2025-06-18 20:59:00  0.491731  0.647087  0.475401    0.591050  0.290578   \n",
       "2025-06-18 21:00:00  0.483337  0.674872  0.551738    0.588423  0.249733   \n",
       "\n",
       "                     macd_signal_12_26_9  bb_hband_20      body   bb_w_20  \\\n",
       "2004-01-02 09:33:00             0.000000     0.520116  0.000000  0.631765   \n",
       "2004-01-02 09:34:00             0.000000     0.520116  0.000000  0.631765   \n",
       "2004-01-02 09:35:00             0.000000     0.520116  0.000000  0.631765   \n",
       "2004-01-02 09:36:00             0.000000     0.520116  0.000000  0.631765   \n",
       "2004-01-02 09:37:00             0.000000     0.520116  0.000000  0.631765   \n",
       "...                                  ...          ...       ...       ...   \n",
       "2025-06-18 20:56:00             0.603598     0.538263  0.074852  0.631765   \n",
       "2025-06-18 20:57:00             0.783314     0.538263  0.067044  0.631765   \n",
       "2025-06-18 20:58:00             0.357899     0.538263  0.064933  0.631765   \n",
       "2025-06-18 20:59:00             0.872081     0.538263  0.160021  0.631765   \n",
       "2025-06-18 21:00:00             0.899181     0.538263  0.176984  0.631765   \n",
       "\n",
       "                     eng_vwap  ...   eng_obv  vol_spike_14  macd_diff_12_26_9  \\\n",
       "2004-01-02 09:33:00  0.494368  ...  0.000153      0.256079           0.463814   \n",
       "2004-01-02 09:34:00  0.494368  ...  0.000153      0.256079           0.463814   \n",
       "2004-01-02 09:35:00  0.494368  ...  0.000153      0.256079           0.463814   \n",
       "2004-01-02 09:36:00  0.494368  ...  0.000153      0.256079           0.463814   \n",
       "2004-01-02 09:37:00  0.494368  ...  0.000153      0.256079           0.463814   \n",
       "...                       ...  ...       ...           ...                ...   \n",
       "2025-06-18 20:56:00  0.772017  ...  1.000000      0.358865           0.778924   \n",
       "2025-06-18 20:57:00  0.781272  ...  1.000000      0.375525           0.786119   \n",
       "2025-06-18 20:58:00  0.697977  ...  1.000000      0.380516           0.787130   \n",
       "2025-06-18 20:59:00  0.753507  ...  1.000000      0.650190           0.719700   \n",
       "2025-06-18 21:00:00  0.809037  ...  1.000000      0.890887           0.708830   \n",
       "\n",
       "                       sma_28  eng_sma_long  obv_pct_14  eng_macd         bid  \\\n",
       "2004-01-02 09:33:00  0.525817           0.0    0.814286       0.0    0.763714   \n",
       "2004-01-02 09:34:00  0.525817           0.0    0.814966       0.0    0.763714   \n",
       "2004-01-02 09:35:00  0.525817           0.0    0.815627       0.0    0.763714   \n",
       "2004-01-02 09:36:00  0.525817           0.0    0.816271       0.0    0.763714   \n",
       "2004-01-02 09:37:00  0.525817           0.0    0.816896       0.0    0.763714   \n",
       "...                       ...           ...         ...       ...         ...   \n",
       "2025-06-18 20:56:00  0.663654           1.0    0.849580       1.0  196.667400   \n",
       "2025-06-18 20:57:00  0.646633           0.0    0.846909       1.0  196.527500   \n",
       "2025-06-18 20:58:00  0.624288           0.0    0.843439       1.0  196.522500   \n",
       "2025-06-18 20:59:00  0.507225           0.0    0.820132       1.0  196.092800   \n",
       "2025-06-18 21:00:00  0.494722           0.0    0.881689       1.0  196.392600   \n",
       "\n",
       "                            ask        signal  \n",
       "2004-01-02 09:33:00    0.764857  1.301415e-09  \n",
       "2004-01-02 09:34:00    0.764857  1.405474e-09  \n",
       "2004-01-02 09:35:00    0.764857  1.517855e-09  \n",
       "2004-01-02 09:36:00    0.764857  1.639221e-09  \n",
       "2004-01-02 09:37:00    0.764857  1.770291e-09  \n",
       "...                         ...           ...  \n",
       "2025-06-18 20:56:00  196.962600  6.849078e-01  \n",
       "2025-06-18 20:57:00  196.822500  6.122057e-01  \n",
       "2025-06-18 20:58:00  196.817500  6.104678e-01  \n",
       "2025-06-18 20:59:00  196.387200  4.770902e-01  \n",
       "2025-06-18 21:00:00  196.687400  3.509684e-01  \n",
       "\n",
       "[3715200 rows x 23 columns]"
      ]
     },
     "execution_count": 3,
     "metadata": {},
     "output_type": "execute_result"
    }
   ],
   "source": [
    "df_feat_sel = pd.read_csv(params.feat_all_csv, index_col=0, parse_dates=True)[params.features_cols_tick + ['bid','ask'] + [params.label_col]]\n",
    "    \n",
    "df_feat_sel"
   ]
  },
  {
   "cell_type": "code",
   "execution_count": 4,
   "id": "d9a2e58b-3140-4a76-9473-1fab56c18d8f",
   "metadata": {},
   "outputs": [
    {
     "data": {
      "text/plain": [
       "[30, 60, 90, 120]"
      ]
     },
     "execution_count": 4,
     "metadata": {},
     "output_type": "execute_result"
    }
   ],
   "source": [
    "# calculate look_backs under half the interval between the day’s first and sess_start\n",
    "\n",
    "first_time = (\n",
    "    df_feat_sel.index\n",
    "        .to_series()\n",
    "        .groupby(df_feat_sel.index.normalize())\n",
    "        .min()\n",
    "        .dt.time\n",
    "        .mode()[0]\n",
    ")\n",
    "\n",
    "# convert both times to minutes since midnight\n",
    "fm = first_time.hour * 60 + first_time.minute\n",
    "sm = params.sess_start.hour * 60 + params.sess_start.minute\n",
    "\n",
    "# half the difference, count full 30-min slots, and build multiples\n",
    "n_steps    = int(((sm - fm) / 2) // 30)      # e.g. floor(165/30) = 5\n",
    "look_backs = [30 * i for i in range(1, n_steps + 1)]\n",
    "look_backs\n"
   ]
  },
  {
   "cell_type": "code",
   "execution_count": 5,
   "id": "fdb4612b-f5bb-4e4a-8784-6d5689de67c2",
   "metadata": {},
   "outputs": [],
   "source": [
    "# ──────────────────────────────────────────────────────────────────────────────\n",
    "# Optuna objective definition\n",
    "# ──────────────────────────────────────────────────────────────────────────────\n",
    "\n",
    "# look_backs = [30, 45, 60, 75, 90] ################################\n",
    "\n",
    "def objective(trial):\n",
    "    \n",
    "    hp = {\n",
    "    # ── Architecture ────────────────────────────────────────────────\n",
    "    \"look_back\"    : trial.suggest_categorical(\"look_back\", look_backs),\n",
    "    \"DROPOUT_SHORT\": trial.suggest_float(\"DROPOUT_SHORT\", 0.05, 0.35),\n",
    "    \"DROPOUT_LONG\":  trial.suggest_float(\"DROPOUT_LONG\",  0.05, 0.35),\n",
    "    \"ATT_DROPOUT\":   trial.suggest_float(\"ATT_DROPOUT\",   0.05, 0.35),\n",
    "    \n",
    "    # ── Optimizer & Scheduler ──────────────────────────────────────\n",
    "    \"INITIAL_LR\":    trial.suggest_float(\"INITIAL_LR\",    1e-5, 1e-3,   log=True),\n",
    "    \"ETA_MIN\":       trial.suggest_float(\"ETA_MIN\",       1e-6, 1e-5,   log=True),\n",
    "    \"WEIGHT_DECAY\":  trial.suggest_float(\"WEIGHT_DECAY\",  1e-5, 1e-2,  log=True),\n",
    "    \"CLIPNORM\":      trial.suggest_float(\"CLIPNORM\",      0.1, 10),\n",
    "    }\n",
    "\n",
    "    print(f\"\\n▶ Trial {trial.number} starting with:\\n{hp}\\n\")\n",
    "\n",
    "    sess_start_pred = dt.time(*divmod((params.sess_start.hour * 60 + params.sess_start.minute) - hp[\"look_back\"], 60))\n",
    "    \n",
    "    print('Build LSTM input tensors (disk-backed memmaps)...')\n",
    "    X, y_sig, y_ret, raw_close, raw_bid, raw_ask, end_times = models_core.build_tensors(\n",
    "        df            = df_feat_sel,\n",
    "        sess_start    = sess_start_pred \n",
    "    )\n",
    "    \n",
    "    print('Split into train/val/test by calendar day...')\n",
    "    (\n",
    "    (X_tr,  y_sig_tr,  y_ret_tr),\n",
    "    (X_val, y_sig_val, y_ret_val),\n",
    "    (X_te,  y_sig_te,  y_ret_te,  raw_close_te, raw_bid_te, raw_ask_te),\n",
    "    samples_per_day,\n",
    "    day_id_tr, day_id_val, day_id_te\n",
    "    ) = models_core.chronological_split(\n",
    "        X, y_sig, y_ret,\n",
    "        raw_close, raw_bid, raw_ask,\n",
    "        end_times   = end_times,\n",
    "        train_prop  = params.train_prop,\n",
    "        val_prop    = params.val_prop,\n",
    "        train_batch = params.hparams['TRAIN_BATCH']\n",
    "    )\n",
    "\n",
    "    print('Carve `end_times` into the same three splits...')\n",
    "    n_tr  = day_id_tr .shape[0] \n",
    "    n_val = day_id_val.shape[0]\n",
    "    i_tr  = n_tr\n",
    "    i_val = n_tr + n_val\n",
    "    \n",
    "    end_times_tr  = end_times[:i_tr]\n",
    "    end_times_val = end_times[i_tr:i_val]\n",
    "    end_times_te  = end_times[i_val:]\n",
    "    \n",
    "    print('Build DataLoaders over calendar‐days...')\n",
    "    train_loader, val_loader, test_loader = models_core.split_to_day_datasets(\n",
    "        # train split:   \n",
    "        X_tr,            y_sig_tr,     y_ret_tr,   end_times_tr,\n",
    "        # val split:\n",
    "        X_val,           y_sig_val,    y_ret_val,  end_times_val,\n",
    "        # test split + raw‐prices\n",
    "        X_te,            y_sig_te,     y_ret_te,   end_times_te,\n",
    "        raw_close_te, raw_bid_te, raw_ask_te,\n",
    "        \n",
    "        sess_start_time       = sess_start_pred,\n",
    "        signal_thresh         = params.best_optuna_params[\"buy_threshold\"],\n",
    "        return_thresh         = 0.01,  # flat‐zone threshold for returns (to tune)\n",
    "        train_batch           = params.hparams[\"TRAIN_BATCH\"],\n",
    "        train_workers         = params.hparams[\"NUM_WORKERS\"],\n",
    "        train_prefetch_factor = params.hparams[\"TRAIN_PREFETCH_FACTOR\"]\n",
    "    )\n",
    "\n",
    "    print('Instantiate the stateful DualMemoryLSTM...')\n",
    "    model = dual_lstm.DualMemoryLSTM(\n",
    "        n_feats        = X.shape[-1],                          \n",
    "        short_units    = params.hparams['SHORT_UNITS'],    \n",
    "        long_units     = params.hparams['LONG_UNITS'],     \n",
    "        dropout_short  = hp[\"DROPOUT_SHORT\"],  \n",
    "        dropout_long   = hp[\"DROPOUT_LONG\"],   \n",
    "        att_heads      = params.hparams['ATT_HEADS'],\n",
    "        att_drop       = hp['ATT_DROPOUT']\n",
    "    )\n",
    "    model.to(params.device)  \n",
    "\n",
    "    print('Build optimizer, LR scheduler, AMP scaler, and gradient‐clip norm...')\n",
    "    optimizer, plateau_sched, _ , scaler, clipnorm = \\\n",
    "        models_core.make_optimizer_and_scheduler(\n",
    "            model            = model,\n",
    "            initial_lr       = hp[\"INITIAL_LR\"],\n",
    "            weight_decay     = hp[\"WEIGHT_DECAY\"],\n",
    "            clipnorm         = hp[\"CLIPNORM\"]\n",
    "        )\n",
    "    cosine_sched = CosineAnnealingWarmRestarts(\n",
    "        optimizer, \n",
    "        T_0=params.hparams['T_0'], \n",
    "        T_mult=params.hparams['T_MULT'], \n",
    "        eta_min=hp['ETA_MIN']\n",
    "    )\n",
    "    \n",
    "    print('Run the custom stateful training loop...')\n",
    "    best_val_rmse  = dual_lstm.lstm_training_loop(\n",
    "        model               = model,\n",
    "        optimizer           = optimizer,\n",
    "        cosine_sched        = cosine_sched,\n",
    "        plateau_sched       = plateau_sched,\n",
    "        scaler              = scaler,\n",
    "        train_loader        = train_loader,\n",
    "        val_loader          = val_loader,\n",
    "        max_epochs          = params.hparams['MAX_EPOCHS'],\n",
    "        early_stop_patience = params.hparams['EARLY_STOP_PATIENCE'],\n",
    "        clipnorm            = hp[\"CLIPNORM\"],\n",
    "        device              = params.device\n",
    "    )\n",
    "\n",
    "    print('Delete variables to free memory...')\n",
    "    del model, optimizer, plateau_sched, cosine_sched, scaler\n",
    "    del X, y_sig, y_ret, raw_close, raw_bid, raw_ask\n",
    "    del X_tr,  y_sig_tr,  y_ret_tr, X_val, y_sig_val, y_ret_val, X_te,  y_sig_te,  y_ret_te\n",
    "    del raw_close_te, raw_bid_te, raw_ask_te\n",
    "    del train_loader, val_loader, test_loader\n",
    "\n",
    "    gc.collect()\n",
    "    if torch.cuda.is_available():\n",
    "        torch.cuda.empty_cache()\n",
    "    \n",
    "    return best_val_rmse\n"
   ]
  },
  {
   "cell_type": "code",
   "execution_count": 6,
   "id": "1ce185de-1d62-49f9-9a96-00385e813521",
   "metadata": {},
   "outputs": [
    {
     "data": {
      "image/png": "[encoded data removed]",
      "text/plain": [
       "<Figure size 700x300 with 1 Axes>"
      ]
     },
     "metadata": {},
     "output_type": "display_data"
    }
   ],
   "source": [
    "# build blank figure & line\n",
    "fig, ax = plt.subplots(figsize=(7,3))\n",
    "line, = ax.plot([], [], \"bo-\")\n",
    "ax.set(xlabel=\"Trial #\", ylabel=\"Objective\",\n",
    "       title=\"Optuna optimization progress\")\n",
    "ax.grid(True)\n",
    "\n",
    "# display once and grab the handle\n",
    "handle = display(fig, display_id=True)\n",
    "plt.close(fig)\n",
    "\n",
    "# ask plots.py for a callback bound to these objects\n",
    "live_cb = plots.make_live_plot_callback(fig, ax, line, handle)"
   ]
  },
  {
   "cell_type": "code",
   "execution_count": null,
   "id": "7658050b-a604-4331-ac64-72b2c7fd3689",
   "metadata": {},
   "outputs": [
    {
     "name": "stderr",
     "output_type": "stream",
     "text": [
      "[I 2025-09-18 17:38:37,786] A new study created in RDB with name: no-name-79356e77-a9a8-4870-9e58-b60f00163c50\n"
     ]
    },
    {
     "name": "stdout",
     "output_type": "stream",
     "text": [
      "\n",
      "▶ Trial 0 starting with:\n",
      "{'look_back': 90, 'DROPOUT_SHORT': 0.13626787384035308, 'DROPOUT_LONG': 0.06693235970416676, 'ATT_DROPOUT': 0.31333116343680306, 'INITIAL_LR': 2.901300724822737e-05, 'ETA_MIN': 5.370967771887404e-06, 'WEIGHT_DECAY': 0.002317375143493553, 'CLIPNORM': 7.324156614347733}\n",
      "\n",
      "Build LSTM input tensors (disk-backed memmaps)...\n",
      "Inside build_tensors, features: ['adx_14', 'atr_14', 'ret', 'atr_pct_14', 'log_ret', 'macd_signal_12_26_9', 'bb_hband_20', 'body', 'bb_w_20', 'eng_vwap', 'minus_di_14', 'body_pct', 'hour', 'eng_obv', 'vol_spike_14', 'macd_diff_12_26_9', 'sma_28', 'eng_sma_long', 'obv_pct_14', 'eng_macd']\n"
     ]
    },
    {
     "data": {
      "application/vnd.jupyter.widget-view+json": {
       "model_id": "046aa7db92cb4fcf8a11ed2b233b4aba",
       "version_major": 2,
       "version_minor": 0
      },
      "text/plain": [
       "Counting windows:   0%|          | 0/5400 [00:00<?, ?it/s]"
      ]
     },
     "metadata": {},
     "output_type": "display_data"
    },
    {
     "data": {
      "application/vnd.jupyter.widget-view+json": {
       "model_id": "0ae3311c71d7485391e84c95c263659c",
       "version_major": 2,
       "version_minor": 0
      },
      "text/plain": [
       "Writing memmaps:   0%|          | 0/5400 [00:00<?, ?it/s]"
      ]
     },
     "metadata": {},
     "output_type": "display_data"
    },
    {
     "name": "stdout",
     "output_type": "stream",
     "text": [
      "Split into train/val/test by calendar day...\n",
      "Carve `end_times` into the same three splits...\n",
      "Build DataLoaders over calendar‐days...\n"
     ]
    },
    {
     "data": {
      "application/vnd.jupyter.widget-view+json": {
       "model_id": "d1cad8d0ffd3444885c59e8c5e01f574",
       "version_major": 2,
       "version_minor": 0
      },
      "text/plain": [
       "Creating DayWindowDatasets:   0%|          | 0/3 [00:00<?, ?split/s]"
      ]
     },
     "metadata": {},
     "output_type": "display_data"
    },
    {
     "name": "stdout",
     "output_type": "stream",
     "text": [
      "Instantiate the stateful DualMemoryLSTM...\n",
      "Build optimizer, LR scheduler, AMP scaler, and gradient‐clip norm...\n",
      "Run the custom stateful training loop...\n"
     ]
    },
    {
     "data": {
      "image/png": "[encoded data removed]",
      "text/plain": [
       "<Figure size 660x440 with 1 Axes>"
      ]
     },
     "metadata": {},
     "output_type": "display_data"
    },
    {
     "data": {
      "application/vnd.jupyter.widget-view+json": {
       "model_id": "96bd226e8c024adb9a8fb1922a3859d4",
       "version_major": 2,
       "version_minor": 0
      },
      "text/plain": [
       "Epoch 1:   0%|          | 0/60 [00:05<?, ?batch/s]"
      ]
     },
     "metadata": {},
     "output_type": "display_data"
    },
    {
     "name": "stdout",
     "output_type": "stream",
     "text": [
      "Epoch 001\n",
      "TRAIN→ \"R\": RMSE=0.3186 MAE=0.2731 R2=-0.2080 | \"B\": Acc=0.5419 Prec=0.3343 Rec=0.6863 F1=0.4496 AUROC=0.6225\n",
      "VALID→ \"R\": RMSE=0.2947 MAE=0.2101 R2=-0.0692 | \"B\": Acc=0.6682 Prec=0.4283 Rec=0.5471 F1=0.4805 AUROC=0.6774\n"
     ]
    },
    {
     "data": {
      "application/vnd.jupyter.widget-view+json": {
       "model_id": "346a14fd8546457fbd0b7a0731eada61",
       "version_major": 2,
       "version_minor": 0
      },
      "text/plain": [
       "Epoch 2:   0%|          | 0/60 [00:00<?, ?batch/s]"
      ]
     },
     "metadata": {},
     "output_type": "display_data"
    },
    {
     "name": "stdout",
     "output_type": "stream",
     "text": [
      "Epoch 002\n",
      "TRAIN→ \"R\": RMSE=0.2911 MAE=0.2225 R2=-0.0088 | \"B\": Acc=0.4966 Prec=0.3223 Rec=0.7675 F1=0.4540 AUROC=0.6264\n",
      "VALID→ \"R\": RMSE=0.2868 MAE=0.2042 R2=-0.0125 | \"B\": Acc=0.5366 Prec=0.3546 Rec=0.7953 F1=0.4905 AUROC=0.6829\n"
     ]
    },
    {
     "data": {
      "application/vnd.jupyter.widget-view+json": {
       "model_id": "cf151001fa184ecb9762d6e85a45942f",
       "version_major": 2,
       "version_minor": 0
      },
      "text/plain": [
       "Epoch 3:   0%|          | 0/60 [00:00<?, ?batch/s]"
      ]
     },
     "metadata": {},
     "output_type": "display_data"
    },
    {
     "name": "stdout",
     "output_type": "stream",
     "text": [
      "Epoch 003\n",
      "TRAIN→ \"R\": RMSE=0.2845 MAE=0.2171 R2=0.0365 | \"B\": Acc=0.4585 Prec=0.3162 Rec=0.8480 F1=0.4606 AUROC=0.6449\n",
      "VALID→ \"R\": RMSE=0.2782 MAE=0.2009 R2=0.0477 | \"B\": Acc=0.5120 Prec=0.3460 Rec=0.8318 F1=0.4887 AUROC=0.6892\n"
     ]
    },
    {
     "data": {
      "application/vnd.jupyter.widget-view+json": {
       "model_id": "69d1ef09d4c14caf8d3b51b3e2037a8f",
       "version_major": 2,
       "version_minor": 0
      },
      "text/plain": [
       "Epoch 4:   0%|          | 0/60 [00:00<?, ?batch/s]"
      ]
     },
     "metadata": {},
     "output_type": "display_data"
    },
    {
     "name": "stdout",
     "output_type": "stream",
     "text": [
      "Epoch 004\n",
      "TRAIN→ \"R\": RMSE=0.2785 MAE=0.2153 R2=0.0768 | \"B\": Acc=0.4622 Prec=0.3195 Rec=0.8610 F1=0.4661 AUROC=0.6596\n",
      "VALID→ \"R\": RMSE=0.2711 MAE=0.2002 R2=0.0957 | \"B\": Acc=0.5021 Prec=0.3429 Rec=0.8466 F1=0.4881 AUROC=0.6924\n"
     ]
    },
    {
     "data": {
      "application/vnd.jupyter.widget-view+json": {
       "model_id": "4759465547bc414ea9c19de4c984722a",
       "version_major": 2,
       "version_minor": 0
      },
      "text/plain": [
       "Epoch 5:   0%|          | 0/60 [00:00<?, ?batch/s]"
      ]
     },
     "metadata": {},
     "output_type": "display_data"
    },
    {
     "name": "stdout",
     "output_type": "stream",
     "text": [
      "Epoch 005\n",
      "TRAIN→ \"R\": RMSE=0.2743 MAE=0.2137 R2=0.1045 | \"B\": Acc=0.4858 Prec=0.3282 Rec=0.8458 F1=0.4728 AUROC=0.6709\n",
      "VALID→ \"R\": RMSE=0.2664 MAE=0.2010 R2=0.1265 | \"B\": Acc=0.5089 Prec=0.3458 Rec=0.8427 F1=0.4904 AUROC=0.6946\n"
     ]
    },
    {
     "data": {
      "application/vnd.jupyter.widget-view+json": {
       "model_id": "a65a566b2c8b44b992dccb9b5d8837e8",
       "version_major": 2,
       "version_minor": 0
      },
      "text/plain": [
       "Epoch 6:   0%|          | 0/60 [00:00<?, ?batch/s]"
      ]
     },
     "metadata": {},
     "output_type": "display_data"
    },
    {
     "name": "stdout",
     "output_type": "stream",
     "text": [
      "Epoch 006\n",
      "TRAIN→ \"R\": RMSE=0.2708 MAE=0.2104 R2=0.1274 | \"B\": Acc=0.5265 Prec=0.3434 Rec=0.8077 F1=0.4819 AUROC=0.6805\n",
      "VALID→ \"R\": RMSE=0.2637 MAE=0.2025 R2=0.1442 | \"B\": Acc=0.5237 Prec=0.3519 Rec=0.8299 F1=0.4942 AUROC=0.6974\n"
     ]
    },
    {
     "data": {
      "application/vnd.jupyter.widget-view+json": {
       "model_id": "a87c8f94d2044112902ed9ad72cbb112",
       "version_major": 2,
       "version_minor": 0
      },
      "text/plain": [
       "Epoch 7:   0%|          | 0/60 [00:00<?, ?batch/s]"
      ]
     },
     "metadata": {},
     "output_type": "display_data"
    },
    {
     "name": "stdout",
     "output_type": "stream",
     "text": [
      "Epoch 007\n",
      "TRAIN→ \"R\": RMSE=0.2683 MAE=0.2078 R2=0.1432 | \"B\": Acc=0.5597 Prec=0.3574 Rec=0.7704 F1=0.4883 AUROC=0.6869\n",
      "VALID→ \"R\": RMSE=0.2621 MAE=0.2012 R2=0.1544 | \"B\": Acc=0.5486 Prec=0.3627 Rec=0.8056 F1=0.5002 AUROC=0.7007\n",
      "🔖 Saved folder‐best checkpoint (_chp): AAPL_0.26211_chp.pth\n"
     ]
    },
    {
     "data": {
      "application/vnd.jupyter.widget-view+json": {
       "model_id": "1e96af7edfb044d194dfe37cef407c5e",
       "version_major": 2,
       "version_minor": 0
      },
      "text/plain": [
       "Epoch 8:   0%|          | 0/60 [00:00<?, ?batch/s]"
      ]
     },
     "metadata": {},
     "output_type": "display_data"
    },
    {
     "name": "stdout",
     "output_type": "stream",
     "text": [
      "Epoch 008\n",
      "TRAIN→ \"R\": RMSE=0.2668 MAE=0.2059 R2=0.1529 | \"B\": Acc=0.5850 Prec=0.3694 Rec=0.7383 F1=0.4924 AUROC=0.6905\n",
      "VALID→ \"R\": RMSE=0.2608 MAE=0.1999 R2=0.1626 | \"B\": Acc=0.5711 Prec=0.3735 Rec=0.7818 F1=0.5055 AUROC=0.7042\n",
      "🔖 Saved folder‐best checkpoint (_chp): AAPL_0.26084_chp.pth\n"
     ]
    },
    {
     "data": {
      "application/vnd.jupyter.widget-view+json": {
       "model_id": "ff12fb81843146828bfd78a69fe27dba",
       "version_major": 2,
       "version_minor": 0
      },
      "text/plain": [
       "Epoch 9:   0%|          | 0/60 [00:00<?, ?batch/s]"
      ]
     },
     "metadata": {},
     "output_type": "display_data"
    },
    {
     "name": "stdout",
     "output_type": "stream",
     "text": [
      "Epoch 009\n",
      "TRAIN→ \"R\": RMSE=0.2654 MAE=0.2047 R2=0.1617 | \"B\": Acc=0.6043 Prec=0.3798 Rec=0.7130 F1=0.4956 AUROC=0.6937\n",
      "VALID→ \"R\": RMSE=0.2599 MAE=0.1978 R2=0.1687 | \"B\": Acc=0.5940 Prec=0.3858 Rec=0.7569 F1=0.5111 AUROC=0.7076\n",
      "🔖 Saved folder‐best checkpoint (_chp): AAPL_0.25989_chp.pth\n"
     ]
    },
    {
     "data": {
      "application/vnd.jupyter.widget-view+json": {
       "model_id": "eebf79ee56064637be05affab8091a51",
       "version_major": 2,
       "version_minor": 0
      },
      "text/plain": [
       "Epoch 10:   0%|          | 0/60 [00:00<?, ?batch/s]"
      ]
     },
     "metadata": {},
     "output_type": "display_data"
    },
    {
     "name": "stdout",
     "output_type": "stream",
     "text": [
      "Epoch 010\n",
      "TRAIN→ \"R\": RMSE=0.2643 MAE=0.2035 R2=0.1687 | \"B\": Acc=0.6206 Prec=0.3894 Rec=0.6893 F1=0.4976 AUROC=0.6966\n",
      "VALID→ \"R\": RMSE=0.2591 MAE=0.1962 R2=0.1737 | \"B\": Acc=0.6130 Prec=0.3974 Rec=0.7357 F1=0.5160 AUROC=0.7106\n",
      "🔖 Saved folder‐best checkpoint (_chp): AAPL_0.25911_chp.pth\n"
     ]
    },
    {
     "data": {
      "application/vnd.jupyter.widget-view+json": {
       "model_id": "cc57f1d7cf884037a1b0ae46e7b8881c",
       "version_major": 2,
       "version_minor": 0
      },
      "text/plain": [
       "Epoch 11:   0%|          | 0/60 [00:00<?, ?batch/s]"
      ]
     },
     "metadata": {},
     "output_type": "display_data"
    },
    {
     "name": "stdout",
     "output_type": "stream",
     "text": [
      "Epoch 011\n",
      "TRAIN→ \"R\": RMSE=0.2634 MAE=0.2027 R2=0.1741 | \"B\": Acc=0.6315 Prec=0.3966 Rec=0.6746 F1=0.4995 AUROC=0.6987\n",
      "VALID→ \"R\": RMSE=0.2585 MAE=0.1950 R2=0.1773 | \"B\": Acc=0.6256 Prec=0.4058 Rec=0.7214 F1=0.5194 AUROC=0.7132\n",
      "🔖 Saved folder‐best checkpoint (_chp): AAPL_0.25855_chp.pth\n"
     ]
    },
    {
     "data": {
      "application/vnd.jupyter.widget-view+json": {
       "model_id": "bc4d2dacb1b6476db0639a2e5314d57e",
       "version_major": 2,
       "version_minor": 0
      },
      "text/plain": [
       "Epoch 12:   0%|          | 0/60 [00:00<?, ?batch/s]"
      ]
     },
     "metadata": {},
     "output_type": "display_data"
    },
    {
     "name": "stdout",
     "output_type": "stream",
     "text": [
      "Epoch 012\n",
      "TRAIN→ \"R\": RMSE=0.2628 MAE=0.2022 R2=0.1779 | \"B\": Acc=0.6395 Prec=0.4021 Rec=0.6618 F1=0.5003 AUROC=0.7002\n",
      "VALID→ \"R\": RMSE=0.2580 MAE=0.1941 R2=0.1805 | \"B\": Acc=0.6358 Prec=0.4130 Rec=0.7091 F1=0.5220 AUROC=0.7154\n",
      "🔖 Saved folder‐best checkpoint (_chp): AAPL_0.25804_chp.pth\n"
     ]
    },
    {
     "data": {
      "application/vnd.jupyter.widget-view+json": {
       "model_id": "7aa8da19769e4cfd8198bdf11c8e4980",
       "version_major": 2,
       "version_minor": 0
      },
      "text/plain": [
       "Epoch 13:   0%|          | 0/60 [00:00<?, ?batch/s]"
      ]
     },
     "metadata": {},
     "output_type": "display_data"
    },
    {
     "name": "stdout",
     "output_type": "stream",
     "text": [
      "Epoch 013\n",
      "TRAIN→ \"R\": RMSE=0.2622 MAE=0.2016 R2=0.1816 | \"B\": Acc=0.6471 Prec=0.4077 Rec=0.6502 F1=0.5012 AUROC=0.7016\n",
      "VALID→ \"R\": RMSE=0.2576 MAE=0.1935 R2=0.1832 | \"B\": Acc=0.6448 Prec=0.4197 Rec=0.6962 F1=0.5237 AUROC=0.7173\n",
      "🔖 Saved folder‐best checkpoint (_chp): AAPL_0.25761_chp.pth\n"
     ]
    },
    {
     "data": {
      "application/vnd.jupyter.widget-view+json": {
       "model_id": "41e48216ca8c4c3cbb156ad774357436",
       "version_major": 2,
       "version_minor": 0
      },
      "text/plain": [
       "Epoch 14:   0%|          | 0/60 [00:00<?, ?batch/s]"
      ]
     },
     "metadata": {},
     "output_type": "display_data"
    },
    {
     "name": "stdout",
     "output_type": "stream",
     "text": [
      "Epoch 014\n",
      "TRAIN→ \"R\": RMSE=0.2617 MAE=0.2011 R2=0.1845 | \"B\": Acc=0.6548 Prec=0.4135 Rec=0.6364 F1=0.5013 AUROC=0.7029\n",
      "VALID→ \"R\": RMSE=0.2572 MAE=0.1930 R2=0.1858 | \"B\": Acc=0.6520 Prec=0.4252 Rec=0.6853 F1=0.5248 AUROC=0.7189\n",
      "🔖 Saved folder‐best checkpoint (_chp): AAPL_0.25721_chp.pth\n"
     ]
    },
    {
     "data": {
      "application/vnd.jupyter.widget-view+json": {
       "model_id": "3a982ebb1ff445bc80116e7905ba9650",
       "version_major": 2,
       "version_minor": 0
      },
      "text/plain": [
       "Epoch 15:   0%|          | 0/60 [00:00<?, ?batch/s]"
      ]
     },
     "metadata": {},
     "output_type": "display_data"
    },
    {
     "name": "stdout",
     "output_type": "stream",
     "text": [
      "Epoch 015\n",
      "TRAIN→ \"R\": RMSE=0.2613 MAE=0.2004 R2=0.1870 | \"B\": Acc=0.6597 Prec=0.4173 Rec=0.6265 F1=0.5010 AUROC=0.7030\n",
      "VALID→ \"R\": RMSE=0.2569 MAE=0.1925 R2=0.1880 | \"B\": Acc=0.6583 Prec=0.4303 Rec=0.6744 F1=0.5254 AUROC=0.7204\n",
      "🔖 Saved folder‐best checkpoint (_chp): AAPL_0.25686_chp.pth\n"
     ]
    },
    {
     "data": {
      "application/vnd.jupyter.widget-view+json": {
       "model_id": "37b084b3a83e4556b60f20c973bf4d6e",
       "version_major": 2,
       "version_minor": 0
      },
      "text/plain": [
       "Epoch 16:   0%|          | 0/60 [00:00<?, ?batch/s]"
      ]
     },
     "metadata": {},
     "output_type": "display_data"
    },
    {
     "name": "stdout",
     "output_type": "stream",
     "text": [
      "Epoch 016\n",
      "TRAIN→ \"R\": RMSE=0.2610 MAE=0.2000 R2=0.1894 | \"B\": Acc=0.6654 Prec=0.4222 Rec=0.6170 F1=0.5013 AUROC=0.7047\n",
      "VALID→ \"R\": RMSE=0.2565 MAE=0.1921 R2=0.1901 | \"B\": Acc=0.6640 Prec=0.4351 Rec=0.6634 F1=0.5255 AUROC=0.7216\n",
      "🔖 Saved folder‐best checkpoint (_chp): AAPL_0.25652_chp.pth\n"
     ]
    },
    {
     "data": {
      "application/vnd.jupyter.widget-view+json": {
       "model_id": "a41310134098459fb150c07f26e56cfa",
       "version_major": 2,
       "version_minor": 0
      },
      "text/plain": [
       "Epoch 17:   0%|          | 0/60 [00:00<?, ?batch/s]"
      ]
     },
     "metadata": {},
     "output_type": "display_data"
    },
    {
     "name": "stdout",
     "output_type": "stream",
     "text": [
      "Epoch 017\n",
      "TRAIN→ \"R\": RMSE=0.2606 MAE=0.1996 R2=0.1916 | \"B\": Acc=0.6698 Prec=0.4261 Rec=0.6082 F1=0.5011 AUROC=0.7054\n",
      "VALID→ \"R\": RMSE=0.2562 MAE=0.1918 R2=0.1922 | \"B\": Acc=0.6713 Prec=0.4415 Rec=0.6496 F1=0.5257 AUROC=0.7227\n",
      "🔖 Saved folder‐best checkpoint (_chp): AAPL_0.25619_chp.pth\n"
     ]
    },
    {
     "data": {
      "application/vnd.jupyter.widget-view+json": {
       "model_id": "2c05058158e342edb3d34da6b32decca",
       "version_major": 2,
       "version_minor": 0
      },
      "text/plain": [
       "Epoch 18:   0%|          | 0/60 [00:00<?, ?batch/s]"
      ]
     },
     "metadata": {},
     "output_type": "display_data"
    },
    {
     "name": "stdout",
     "output_type": "stream",
     "text": [
      "Epoch 018\n",
      "TRAIN→ \"R\": RMSE=0.2602 MAE=0.1993 R2=0.1939 | \"B\": Acc=0.6749 Prec=0.4306 Rec=0.5963 F1=0.5001 AUROC=0.7059\n",
      "VALID→ \"R\": RMSE=0.2559 MAE=0.1915 R2=0.1940 | \"B\": Acc=0.6772 Prec=0.4471 Rec=0.6382 F1=0.5258 AUROC=0.7237\n",
      "🔖 Saved folder‐best checkpoint (_chp): AAPL_0.25591_chp.pth\n"
     ]
    },
    {
     "data": {
      "application/vnd.jupyter.widget-view+json": {
       "model_id": "5f8b3e07ac034f7898ea7a2f80242da7",
       "version_major": 2,
       "version_minor": 0
      },
      "text/plain": [
       "Epoch 19:   0%|          | 0/60 [00:00<?, ?batch/s]"
      ]
     },
     "metadata": {},
     "output_type": "display_data"
    },
    {
     "name": "stdout",
     "output_type": "stream",
     "text": [
      "Epoch 019\n",
      "TRAIN→ \"R\": RMSE=0.2600 MAE=0.1990 R2=0.1954 | \"B\": Acc=0.6807 Prec=0.4360 Rec=0.5833 F1=0.4990 AUROC=0.7065\n",
      "VALID→ \"R\": RMSE=0.2556 MAE=0.1913 R2=0.1959 | \"B\": Acc=0.6841 Prec=0.4540 Rec=0.6237 F1=0.5255 AUROC=0.7246\n",
      "🔖 Saved folder‐best checkpoint (_chp): AAPL_0.25560_chp.pth\n"
     ]
    },
    {
     "data": {
      "application/vnd.jupyter.widget-view+json": {
       "model_id": "310079494ef64a8a91d8542b177f5af4",
       "version_major": 2,
       "version_minor": 0
      },
      "text/plain": [
       "Epoch 20:   0%|          | 0/60 [00:00<?, ?batch/s]"
      ]
     },
     "metadata": {},
     "output_type": "display_data"
    },
    {
     "name": "stdout",
     "output_type": "stream",
     "text": [
      "Epoch 020\n",
      "TRAIN→ \"R\": RMSE=0.2596 MAE=0.1987 R2=0.1976 | \"B\": Acc=0.6860 Prec=0.4413 Rec=0.5698 F1=0.4974 AUROC=0.7071\n",
      "VALID→ \"R\": RMSE=0.2554 MAE=0.1909 R2=0.1974 | \"B\": Acc=0.6899 Prec=0.4600 Rec=0.6093 F1=0.5242 AUROC=0.7253\n",
      "🔖 Saved folder‐best checkpoint (_chp): AAPL_0.25536_chp.pth\n"
     ]
    },
    {
     "data": {
      "application/vnd.jupyter.widget-view+json": {
       "model_id": "b701e4567c6d45df93aaf6426d963ee5",
       "version_major": 2,
       "version_minor": 0
      },
      "text/plain": [
       "Epoch 21:   0%|          | 0/60 [00:00<?, ?batch/s]"
      ]
     },
     "metadata": {},
     "output_type": "display_data"
    },
    {
     "name": "stdout",
     "output_type": "stream",
     "text": [
      "Epoch 021\n",
      "TRAIN→ \"R\": RMSE=0.2594 MAE=0.1984 R2=0.1992 | \"B\": Acc=0.6905 Prec=0.4458 Rec=0.5565 F1=0.4951 AUROC=0.7071\n",
      "VALID→ \"R\": RMSE=0.2551 MAE=0.1907 R2=0.1988 | \"B\": Acc=0.6953 Prec=0.4661 Rec=0.5950 F1=0.5227 AUROC=0.7260\n",
      "🔖 Saved folder‐best checkpoint (_chp): AAPL_0.25514_chp.pth\n"
     ]
    },
    {
     "data": {
      "application/vnd.jupyter.widget-view+json": {
       "model_id": "c0a05e00ffd64025ad1cb0c908f98cbd",
       "version_major": 2,
       "version_minor": 0
      },
      "text/plain": [
       "Epoch 22:   0%|          | 0/60 [00:00<?, ?batch/s]"
      ]
     },
     "metadata": {},
     "output_type": "display_data"
    },
    {
     "name": "stdout",
     "output_type": "stream",
     "text": [
      "Epoch 022\n",
      "TRAIN→ \"R\": RMSE=0.2591 MAE=0.1982 R2=0.2008 | \"B\": Acc=0.6960 Prec=0.4522 Rec=0.5430 F1=0.4934 AUROC=0.7079\n",
      "VALID→ \"R\": RMSE=0.2549 MAE=0.1905 R2=0.2003 | \"B\": Acc=0.7004 Prec=0.4723 Rec=0.5806 F1=0.5209 AUROC=0.7265\n",
      "🔖 Saved folder‐best checkpoint (_chp): AAPL_0.25490_chp.pth\n"
     ]
    },
    {
     "data": {
      "application/vnd.jupyter.widget-view+json": {
       "model_id": "8461af8c98ee42a8864f8eb885f02435",
       "version_major": 2,
       "version_minor": 0
      },
      "text/plain": [
       "Epoch 23:   0%|          | 0/60 [00:00<?, ?batch/s]"
      ]
     },
     "metadata": {},
     "output_type": "display_data"
    },
    {
     "name": "stdout",
     "output_type": "stream",
     "text": [
      "Epoch 023\n",
      "TRAIN→ \"R\": RMSE=0.2588 MAE=0.1979 R2=0.2025 | \"B\": Acc=0.7000 Prec=0.4568 Rec=0.5311 F1=0.4912 AUROC=0.7076\n",
      "VALID→ \"R\": RMSE=0.2547 MAE=0.1903 R2=0.2016 | \"B\": Acc=0.7049 Prec=0.4780 Rec=0.5681 F1=0.5192 AUROC=0.7271\n",
      "🔖 Saved folder‐best checkpoint (_chp): AAPL_0.25470_chp.pth\n"
     ]
    },
    {
     "data": {
      "application/vnd.jupyter.widget-view+json": {
       "model_id": "f0796e01fe0442e9a901b6bb4dc54512",
       "version_major": 2,
       "version_minor": 0
      },
      "text/plain": [
       "Epoch 24:   0%|          | 0/60 [00:00<?, ?batch/s]"
      ]
     },
     "metadata": {},
     "output_type": "display_data"
    },
    {
     "name": "stdout",
     "output_type": "stream",
     "text": [
      "Epoch 024\n",
      "TRAIN→ \"R\": RMSE=0.2586 MAE=0.1977 R2=0.2041 | \"B\": Acc=0.7045 Prec=0.4625 Rec=0.5167 F1=0.4881 AUROC=0.7082\n",
      "VALID→ \"R\": RMSE=0.2545 MAE=0.1901 R2=0.2028 | \"B\": Acc=0.7104 Prec=0.4856 Rec=0.5525 F1=0.5169 AUROC=0.7277\n",
      "🔖 Saved folder‐best checkpoint (_chp): AAPL_0.25450_chp.pth\n"
     ]
    },
    {
     "data": {
      "application/vnd.jupyter.widget-view+json": {
       "model_id": "faed50096c8a4195ae3ae17b81cb7ef1",
       "version_major": 2,
       "version_minor": 0
      },
      "text/plain": [
       "Epoch 25:   0%|          | 0/60 [00:00<?, ?batch/s]"
      ]
     },
     "metadata": {},
     "output_type": "display_data"
    },
    {
     "name": "stdout",
     "output_type": "stream",
     "text": [
      "Epoch 025\n",
      "TRAIN→ \"R\": RMSE=0.2583 MAE=0.1976 R2=0.2055 | \"B\": Acc=0.7078 Prec=0.4669 Rec=0.5048 F1=0.4851 AUROC=0.7080\n",
      "VALID→ \"R\": RMSE=0.2543 MAE=0.1899 R2=0.2040 | \"B\": Acc=0.7143 Prec=0.4914 Rec=0.5401 F1=0.5146 AUROC=0.7279\n",
      "🔖 Saved folder‐best checkpoint (_chp): AAPL_0.25430_chp.pth\n"
     ]
    },
    {
     "data": {
      "application/vnd.jupyter.widget-view+json": {
       "model_id": "54df039a8a154a78bc468926f645f67c",
       "version_major": 2,
       "version_minor": 0
      },
      "text/plain": [
       "Epoch 26:   0%|          | 0/60 [00:00<?, ?batch/s]"
      ]
     },
     "metadata": {},
     "output_type": "display_data"
    },
    {
     "name": "stdout",
     "output_type": "stream",
     "text": [
      "Epoch 026\n",
      "TRAIN→ \"R\": RMSE=0.2582 MAE=0.1974 R2=0.2064 | \"B\": Acc=0.7116 Prec=0.4723 Rec=0.4930 F1=0.4824 AUROC=0.7080\n",
      "VALID→ \"R\": RMSE=0.2541 MAE=0.1897 R2=0.2051 | \"B\": Acc=0.7182 Prec=0.4977 Rec=0.5262 F1=0.5116 AUROC=0.7284\n",
      "🔖 Saved folder‐best checkpoint (_chp): AAPL_0.25413_chp.pth\n"
     ]
    },
    {
     "data": {
      "application/vnd.jupyter.widget-view+json": {
       "model_id": "dad4e01c92f548c7a539b16c00045ed0",
       "version_major": 2,
       "version_minor": 0
      },
      "text/plain": [
       "Epoch 27:   0%|          | 0/60 [00:00<?, ?batch/s]"
      ]
     },
     "metadata": {},
     "output_type": "display_data"
    },
    {
     "name": "stdout",
     "output_type": "stream",
     "text": [
      "Epoch 027\n",
      "TRAIN→ \"R\": RMSE=0.2579 MAE=0.1972 R2=0.2081 | \"B\": Acc=0.7144 Prec=0.4766 Rec=0.4816 F1=0.4791 AUROC=0.7084\n",
      "VALID→ \"R\": RMSE=0.2540 MAE=0.1896 R2=0.2062 | \"B\": Acc=0.7220 Prec=0.5042 Rec=0.5127 F1=0.5084 AUROC=0.7286\n",
      "🔖 Saved folder‐best checkpoint (_chp): AAPL_0.25396_chp.pth\n"
     ]
    },
    {
     "data": {
      "application/vnd.jupyter.widget-view+json": {
       "model_id": "a31c02e772594d5ab860b4f79f7e177f",
       "version_major": 2,
       "version_minor": 0
      },
      "text/plain": [
       "Epoch 28:   0%|          | 0/60 [00:00<?, ?batch/s]"
      ]
     },
     "metadata": {},
     "output_type": "display_data"
    },
    {
     "name": "stdout",
     "output_type": "stream",
     "text": [
      "Epoch 028\n",
      "TRAIN→ \"R\": RMSE=0.2577 MAE=0.1970 R2=0.2095 | \"B\": Acc=0.7180 Prec=0.4823 Rec=0.4663 F1=0.4742 AUROC=0.7083\n",
      "VALID→ \"R\": RMSE=0.2538 MAE=0.1894 R2=0.2072 | \"B\": Acc=0.7255 Prec=0.5107 Rec=0.4994 F1=0.5050 AUROC=0.7290\n",
      "🔖 Saved folder‐best checkpoint (_chp): AAPL_0.25380_chp.pth\n"
     ]
    },
    {
     "data": {
      "application/vnd.jupyter.widget-view+json": {
       "model_id": "7948fada727143e9b34928637fb98e71",
       "version_major": 2,
       "version_minor": 0
      },
      "text/plain": [
       "Epoch 29:   0%|          | 0/60 [00:00<?, ?batch/s]"
      ]
     },
     "metadata": {},
     "output_type": "display_data"
    },
    {
     "name": "stdout",
     "output_type": "stream",
     "text": [
      "Epoch 029\n",
      "TRAIN→ \"R\": RMSE=0.2575 MAE=0.1969 R2=0.2106 | \"B\": Acc=0.7205 Prec=0.4866 Rec=0.4577 F1=0.4717 AUROC=0.7085\n",
      "VALID→ \"R\": RMSE=0.2536 MAE=0.1893 R2=0.2084 | \"B\": Acc=0.7280 Prec=0.5158 Rec=0.4882 F1=0.5016 AUROC=0.7294\n",
      "🔖 Saved folder‐best checkpoint (_chp): AAPL_0.25361_chp.pth\n"
     ]
    },
    {
     "data": {
      "application/vnd.jupyter.widget-view+json": {
       "model_id": "696e4de6f91943dab0c4bf87239ea555",
       "version_major": 2,
       "version_minor": 0
      },
      "text/plain": [
       "Epoch 30:   0%|          | 0/60 [00:00<?, ?batch/s]"
      ]
     },
     "metadata": {},
     "output_type": "display_data"
    },
    {
     "name": "stdout",
     "output_type": "stream",
     "text": [
      "Epoch 030\n",
      "TRAIN→ \"R\": RMSE=0.2573 MAE=0.1966 R2=0.2120 | \"B\": Acc=0.7227 Prec=0.4907 Rec=0.4474 F1=0.4681 AUROC=0.7083\n",
      "VALID→ \"R\": RMSE=0.2535 MAE=0.1891 R2=0.2090 | \"B\": Acc=0.7308 Prec=0.5220 Rec=0.4737 F1=0.4967 AUROC=0.7298\n",
      "🔖 Saved folder‐best checkpoint (_chp): AAPL_0.25350_chp.pth\n"
     ]
    },
    {
     "data": {
      "application/vnd.jupyter.widget-view+json": {
       "model_id": "7be033603c46480d8f91cfe30dd2fd43",
       "version_major": 2,
       "version_minor": 0
      },
      "text/plain": [
       "Epoch 31:   0%|          | 0/60 [00:00<?, ?batch/s]"
      ]
     },
     "metadata": {},
     "output_type": "display_data"
    },
    {
     "name": "stdout",
     "output_type": "stream",
     "text": [
      "Epoch 031\n",
      "TRAIN→ \"R\": RMSE=0.2572 MAE=0.1965 R2=0.2127 | \"B\": Acc=0.7253 Prec=0.4957 Rec=0.4354 F1=0.4636 AUROC=0.7086\n",
      "VALID→ \"R\": RMSE=0.2534 MAE=0.1890 R2=0.2100 | \"B\": Acc=0.7339 Prec=0.5296 Rec=0.4587 F1=0.4916 AUROC=0.7302\n",
      "🔖 Saved folder‐best checkpoint (_chp): AAPL_0.25335_chp.pth\n"
     ]
    },
    {
     "data": {
      "application/vnd.jupyter.widget-view+json": {
       "model_id": "47b22d6b7dc54654b551351b7697d3d6",
       "version_major": 2,
       "version_minor": 0
      },
      "text/plain": [
       "Epoch 32:   0%|          | 0/60 [00:00<?, ?batch/s]"
      ]
     },
     "metadata": {},
     "output_type": "display_data"
    },
    {
     "name": "stdout",
     "output_type": "stream",
     "text": [
      "Epoch 032\n",
      "TRAIN→ \"R\": RMSE=0.2570 MAE=0.1964 R2=0.2139 | \"B\": Acc=0.7277 Prec=0.5009 Rec=0.4202 F1=0.4570 AUROC=0.7082\n",
      "VALID→ \"R\": RMSE=0.2532 MAE=0.1889 R2=0.2111 | \"B\": Acc=0.7362 Prec=0.5358 Rec=0.4429 F1=0.4850 AUROC=0.7305\n",
      "🔖 Saved folder‐best checkpoint (_chp): AAPL_0.25317_chp.pth\n"
     ]
    },
    {
     "data": {
      "application/vnd.jupyter.widget-view+json": {
       "model_id": "f983e89464f84f3aac25aed7135fe16a",
       "version_major": 2,
       "version_minor": 0
      },
      "text/plain": [
       "Epoch 33:   0%|          | 0/60 [00:00<?, ?batch/s]"
      ]
     },
     "metadata": {},
     "output_type": "display_data"
    },
    {
     "name": "stdout",
     "output_type": "stream",
     "text": [
      "Epoch 033\n",
      "TRAIN→ \"R\": RMSE=0.2568 MAE=0.1962 R2=0.2147 | \"B\": Acc=0.7299 Prec=0.5058 Rec=0.4126 F1=0.4545 AUROC=0.7084\n",
      "VALID→ \"R\": RMSE=0.2531 MAE=0.1887 R2=0.2119 | \"B\": Acc=0.7377 Prec=0.5405 Rec=0.4323 F1=0.4804 AUROC=0.7307\n",
      "🔖 Saved folder‐best checkpoint (_chp): AAPL_0.25305_chp.pth\n"
     ]
    },
    {
     "data": {
      "application/vnd.jupyter.widget-view+json": {
       "model_id": "b26ebfce915f4fc58bc07988264b40d8",
       "version_major": 2,
       "version_minor": 0
      },
      "text/plain": [
       "Epoch 34:   0%|          | 0/60 [00:00<?, ?batch/s]"
      ]
     },
     "metadata": {},
     "output_type": "display_data"
    },
    {
     "name": "stdout",
     "output_type": "stream",
     "text": [
      "Epoch 034\n",
      "TRAIN→ \"R\": RMSE=0.2567 MAE=0.1961 R2=0.2158 | \"B\": Acc=0.7319 Prec=0.5106 Rec=0.4020 F1=0.4498 AUROC=0.7084\n",
      "VALID→ \"R\": RMSE=0.2529 MAE=0.1886 R2=0.2126 | \"B\": Acc=0.7403 Prec=0.5492 Rec=0.4119 F1=0.4707 AUROC=0.7311\n",
      "🔖 Saved folder‐best checkpoint (_chp): AAPL_0.25293_chp.pth\n"
     ]
    },
    {
     "data": {
      "application/vnd.jupyter.widget-view+json": {
       "model_id": "7400a0bea5bf47798cae1769eec367c9",
       "version_major": 2,
       "version_minor": 0
      },
      "text/plain": [
       "Epoch 35:   0%|          | 0/60 [00:00<?, ?batch/s]"
      ]
     },
     "metadata": {},
     "output_type": "display_data"
    },
    {
     "name": "stdout",
     "output_type": "stream",
     "text": [
      "Epoch 035\n",
      "TRAIN→ \"R\": RMSE=0.2565 MAE=0.1959 R2=0.2170 | \"B\": Acc=0.7338 Prec=0.5156 Rec=0.3875 F1=0.4425 AUROC=0.7080\n",
      "VALID→ \"R\": RMSE=0.2528 MAE=0.1885 R2=0.2133 | \"B\": Acc=0.7419 Prec=0.5553 Rec=0.3990 F1=0.4644 AUROC=0.7313\n",
      "🔖 Saved folder‐best checkpoint (_chp): AAPL_0.25281_chp.pth\n"
     ]
    },
    {
     "data": {
      "application/vnd.jupyter.widget-view+json": {
       "model_id": "2eca97a5c3774ae296af673a363f94b7",
       "version_major": 2,
       "version_minor": 0
      },
      "text/plain": [
       "Epoch 36:   0%|          | 0/60 [00:00<?, ?batch/s]"
      ]
     },
     "metadata": {},
     "output_type": "display_data"
    },
    {
     "name": "stdout",
     "output_type": "stream",
     "text": [
      "Epoch 036\n",
      "TRAIN→ \"R\": RMSE=0.2564 MAE=0.1958 R2=0.2177 | \"B\": Acc=0.7353 Prec=0.5201 Rec=0.3765 F1=0.4368 AUROC=0.7077\n",
      "VALID→ \"R\": RMSE=0.2527 MAE=0.1885 R2=0.2141 | \"B\": Acc=0.7431 Prec=0.5605 Rec=0.3881 F1=0.4586 AUROC=0.7313\n",
      "🔖 Saved folder‐best checkpoint (_chp): AAPL_0.25268_chp.pth\n"
     ]
    },
    {
     "data": {
      "application/vnd.jupyter.widget-view+json": {
       "model_id": "19d28b8c69ee47209770b37e8f00946f",
       "version_major": 2,
       "version_minor": 0
      },
      "text/plain": [
       "Epoch 37:   0%|          | 0/60 [00:00<?, ?batch/s]"
      ]
     },
     "metadata": {},
     "output_type": "display_data"
    },
    {
     "name": "stdout",
     "output_type": "stream",
     "text": [
      "Epoch 037\n",
      "TRAIN→ \"R\": RMSE=0.2562 MAE=0.1956 R2=0.2188 | \"B\": Acc=0.7365 Prec=0.5240 Rec=0.3674 F1=0.4319 AUROC=0.7081\n",
      "VALID→ \"R\": RMSE=0.2526 MAE=0.1884 R2=0.2148 | \"B\": Acc=0.7439 Prec=0.5653 Rec=0.3749 F1=0.4508 AUROC=0.7314\n",
      "🔖 Saved folder‐best checkpoint (_chp): AAPL_0.25258_chp.pth\n"
     ]
    },
    {
     "data": {
      "application/vnd.jupyter.widget-view+json": {
       "model_id": "bdaf898ddc2f4b58ab406b2c5a87b6ac",
       "version_major": 2,
       "version_minor": 0
      },
      "text/plain": [
       "Epoch 38:   0%|          | 0/60 [00:00<?, ?batch/s]"
      ]
     },
     "metadata": {},
     "output_type": "display_data"
    },
    {
     "name": "stdout",
     "output_type": "stream",
     "text": [
      "Epoch 038\n",
      "TRAIN→ \"R\": RMSE=0.2561 MAE=0.1955 R2=0.2193 | \"B\": Acc=0.7381 Prec=0.5293 Rec=0.3552 F1=0.4251 AUROC=0.7072\n",
      "VALID→ \"R\": RMSE=0.2524 MAE=0.1883 R2=0.2157 | \"B\": Acc=0.7452 Prec=0.5724 Rec=0.3617 F1=0.4433 AUROC=0.7316\n",
      "🔖 Saved folder‐best checkpoint (_chp): AAPL_0.25244_chp.pth\n"
     ]
    },
    {
     "data": {
      "application/vnd.jupyter.widget-view+json": {
       "model_id": "30dcc8938ec44152901fd9536a028e37",
       "version_major": 2,
       "version_minor": 0
      },
      "text/plain": [
       "Epoch 39:   0%|          | 0/60 [00:00<?, ?batch/s]"
      ]
     },
     "metadata": {},
     "output_type": "display_data"
    },
    {
     "name": "stdout",
     "output_type": "stream",
     "text": [
      "Epoch 039\n",
      "TRAIN→ \"R\": RMSE=0.2560 MAE=0.1953 R2=0.2201 | \"B\": Acc=0.7390 Prec=0.5328 Rec=0.3474 F1=0.4206 AUROC=0.7068\n",
      "VALID→ \"R\": RMSE=0.2523 MAE=0.1882 R2=0.2164 | \"B\": Acc=0.7462 Prec=0.5784 Rec=0.3504 F1=0.4364 AUROC=0.7319\n",
      "🔖 Saved folder‐best checkpoint (_chp): AAPL_0.25233_chp.pth\n"
     ]
    },
    {
     "data": {
      "application/vnd.jupyter.widget-view+json": {
       "model_id": "42a901e8b78243149c25992913d32de3",
       "version_major": 2,
       "version_minor": 0
      },
      "text/plain": [
       "Epoch 40:   0%|          | 0/60 [00:00<?, ?batch/s]"
      ]
     },
     "metadata": {},
     "output_type": "display_data"
    },
    {
     "name": "stdout",
     "output_type": "stream",
     "text": [
      "Epoch 040\n",
      "TRAIN→ \"R\": RMSE=0.2558 MAE=0.1951 R2=0.2210 | \"B\": Acc=0.7401 Prec=0.5369 Rec=0.3409 F1=0.4170 AUROC=0.7071\n",
      "VALID→ \"R\": RMSE=0.2522 MAE=0.1881 R2=0.2169 | \"B\": Acc=0.7469 Prec=0.5838 Rec=0.3397 F1=0.4295 AUROC=0.7318\n",
      "🔖 Saved folder‐best checkpoint (_chp): AAPL_0.25224_chp.pth\n"
     ]
    },
    {
     "data": {
      "application/vnd.jupyter.widget-view+json": {
       "model_id": "ff359080a7a249bb974ea03f874953d9",
       "version_major": 2,
       "version_minor": 0
      },
      "text/plain": [
       "Epoch 41:   0%|          | 0/60 [00:00<?, ?batch/s]"
      ]
     },
     "metadata": {},
     "output_type": "display_data"
    },
    {
     "name": "stdout",
     "output_type": "stream",
     "text": [
      "Epoch 041\n",
      "TRAIN→ \"R\": RMSE=0.2558 MAE=0.1950 R2=0.2213 | \"B\": Acc=0.7406 Prec=0.5395 Rec=0.3313 F1=0.4105 AUROC=0.7065\n",
      "VALID→ \"R\": RMSE=0.2521 MAE=0.1880 R2=0.2176 | \"B\": Acc=0.7476 Prec=0.5893 Rec=0.3295 F1=0.4227 AUROC=0.7318\n",
      "🔖 Saved folder‐best checkpoint (_chp): AAPL_0.25212_chp.pth\n"
     ]
    },
    {
     "data": {
      "application/vnd.jupyter.widget-view+json": {
       "model_id": "9277929cce154c85ba383f191269e745",
       "version_major": 2,
       "version_minor": 0
      },
      "text/plain": [
       "Epoch 42:   0%|          | 0/60 [00:00<?, ?batch/s]"
      ]
     },
     "metadata": {},
     "output_type": "display_data"
    },
    {
     "name": "stdout",
     "output_type": "stream",
     "text": [
      "Epoch 042\n",
      "TRAIN→ \"R\": RMSE=0.2556 MAE=0.1949 R2=0.2225 | \"B\": Acc=0.7418 Prec=0.5445 Rec=0.3234 F1=0.4058 AUROC=0.7059\n",
      "VALID→ \"R\": RMSE=0.2520 MAE=0.1879 R2=0.2183 | \"B\": Acc=0.7481 Prec=0.5965 Rec=0.3139 F1=0.4113 AUROC=0.7318\n",
      "🔖 Saved folder‐best checkpoint (_chp): AAPL_0.25202_chp.pth\n"
     ]
    },
    {
     "data": {
      "application/vnd.jupyter.widget-view+json": {
       "model_id": "1c1e895e3a7b4200b98d7b5179349c5f",
       "version_major": 2,
       "version_minor": 0
      },
      "text/plain": [
       "Epoch 43:   0%|          | 0/60 [00:00<?, ?batch/s]"
      ]
     },
     "metadata": {},
     "output_type": "display_data"
    },
    {
     "name": "stdout",
     "output_type": "stream",
     "text": [
      "Epoch 043\n",
      "TRAIN→ \"R\": RMSE=0.2555 MAE=0.1947 R2=0.2229 | \"B\": Acc=0.7428 Prec=0.5502 Rec=0.3100 F1=0.3966 AUROC=0.7054\n",
      "VALID→ \"R\": RMSE=0.2519 MAE=0.1879 R2=0.2187 | \"B\": Acc=0.7485 Prec=0.6029 Rec=0.3018 F1=0.4022 AUROC=0.7319\n",
      "🔖 Saved folder‐best checkpoint (_chp): AAPL_0.25194_chp.pth\n"
     ]
    },
    {
     "data": {
      "application/vnd.jupyter.widget-view+json": {
       "model_id": "b2962285fdee4d7cb12050b3e24c9036",
       "version_major": 2,
       "version_minor": 0
      },
      "text/plain": [
       "Epoch 44:   0%|          | 0/60 [00:00<?, ?batch/s]"
      ]
     },
     "metadata": {},
     "output_type": "display_data"
    },
    {
     "name": "stdout",
     "output_type": "stream",
     "text": [
      "Epoch 044\n",
      "TRAIN→ \"R\": RMSE=0.2554 MAE=0.1946 R2=0.2234 | \"B\": Acc=0.7431 Prec=0.5528 Rec=0.3023 F1=0.3909 AUROC=0.7052\n",
      "VALID→ \"R\": RMSE=0.2519 MAE=0.1878 R2=0.2192 | \"B\": Acc=0.7488 Prec=0.6095 Rec=0.2899 F1=0.3929 AUROC=0.7318\n",
      "🔖 Saved folder‐best checkpoint (_chp): AAPL_0.25187_chp.pth\n"
     ]
    },
    {
     "data": {
      "application/vnd.jupyter.widget-view+json": {
       "model_id": "5d40b16ee53b4eca9e9e1b5e4d781a54",
       "version_major": 2,
       "version_minor": 0
      },
      "text/plain": [
       "Epoch 45:   0%|          | 0/60 [00:00<?, ?batch/s]"
      ]
     },
     "metadata": {},
     "output_type": "display_data"
    },
    {
     "name": "stdout",
     "output_type": "stream",
     "text": [
      "Epoch 045\n",
      "TRAIN→ \"R\": RMSE=0.2554 MAE=0.1945 R2=0.2237 | \"B\": Acc=0.7440 Prec=0.5581 Rec=0.2932 F1=0.3844 AUROC=0.7048\n",
      "VALID→ \"R\": RMSE=0.2518 MAE=0.1878 R2=0.2199 | \"B\": Acc=0.7490 Prec=0.6167 Rec=0.2767 F1=0.3820 AUROC=0.7318\n",
      "🔖 Saved folder‐best checkpoint (_chp): AAPL_0.25176_chp.pth\n"
     ]
    },
    {
     "data": {
      "application/vnd.jupyter.widget-view+json": {
       "model_id": "e61ddcaab0f64b39939c66b0a70e0cf3",
       "version_major": 2,
       "version_minor": 0
      },
      "text/plain": [
       "Epoch 46:   0%|          | 0/60 [00:00<?, ?batch/s]"
      ]
     },
     "metadata": {},
     "output_type": "display_data"
    },
    {
     "name": "stdout",
     "output_type": "stream",
     "text": [
      "Epoch 046\n",
      "TRAIN→ \"R\": RMSE=0.2553 MAE=0.1943 R2=0.2244 | \"B\": Acc=0.7444 Prec=0.5611 Rec=0.2867 F1=0.3795 AUROC=0.7038\n",
      "VALID→ \"R\": RMSE=0.2517 MAE=0.1878 R2=0.2205 | \"B\": Acc=0.7490 Prec=0.6211 Rec=0.2694 F1=0.3758 AUROC=0.7316\n",
      "🔖 Saved folder‐best checkpoint (_chp): AAPL_0.25166_chp.pth\n"
     ]
    },
    {
     "data": {
      "application/vnd.jupyter.widget-view+json": {
       "model_id": "1f8ac80932a94520955f71699fc4b0e9",
       "version_major": 2,
       "version_minor": 0
      },
      "text/plain": [
       "Epoch 47:   0%|          | 0/60 [00:00<?, ?batch/s]"
      ]
     },
     "metadata": {},
     "output_type": "display_data"
    },
    {
     "name": "stdout",
     "output_type": "stream",
     "text": [
      "Epoch 047\n",
      "TRAIN→ \"R\": RMSE=0.2552 MAE=0.1942 R2=0.2249 | \"B\": Acc=0.7448 Prec=0.5644 Rec=0.2798 F1=0.3742 AUROC=0.7037\n",
      "VALID→ \"R\": RMSE=0.2516 MAE=0.1877 R2=0.2210 | \"B\": Acc=0.7490 Prec=0.6276 Rec=0.2581 F1=0.3658 AUROC=0.7317\n",
      "🔖 Saved folder‐best checkpoint (_chp): AAPL_0.25158_chp.pth\n"
     ]
    },
    {
     "data": {
      "application/vnd.jupyter.widget-view+json": {
       "model_id": "0f9f0fc5488449c3b3c0eec88025d6ef",
       "version_major": 2,
       "version_minor": 0
      },
      "text/plain": [
       "Epoch 48:   0%|          | 0/60 [00:00<?, ?batch/s]"
      ]
     },
     "metadata": {},
     "output_type": "display_data"
    },
    {
     "name": "stdout",
     "output_type": "stream",
     "text": [
      "Epoch 048\n",
      "TRAIN→ \"R\": RMSE=0.2551 MAE=0.1942 R2=0.2256 | \"B\": Acc=0.7451 Prec=0.5672 Rec=0.2746 F1=0.3700 AUROC=0.7033\n",
      "VALID→ \"R\": RMSE=0.2515 MAE=0.1876 R2=0.2214 | \"B\": Acc=0.7492 Prec=0.6352 Rec=0.2479 F1=0.3566 AUROC=0.7316\n",
      "🔖 Saved folder‐best checkpoint (_chp): AAPL_0.25151_chp.pth\n"
     ]
    },
    {
     "data": {
      "application/vnd.jupyter.widget-view+json": {
       "model_id": "397b4e7e2f72477480dd8d3bca9f2464",
       "version_major": 2,
       "version_minor": 0
      },
      "text/plain": [
       "Epoch 49:   0%|          | 0/60 [00:00<?, ?batch/s]"
      ]
     },
     "metadata": {},
     "output_type": "display_data"
    },
    {
     "name": "stdout",
     "output_type": "stream",
     "text": [
      "Epoch 049\n",
      "TRAIN→ \"R\": RMSE=0.2550 MAE=0.1941 R2=0.2259 | \"B\": Acc=0.7451 Prec=0.5687 Rec=0.2694 F1=0.3656 AUROC=0.7023\n",
      "VALID→ \"R\": RMSE=0.2514 MAE=0.1876 R2=0.2219 | \"B\": Acc=0.7492 Prec=0.6392 Rec=0.2429 F1=0.3520 AUROC=0.7315\n",
      "🔖 Saved folder‐best checkpoint (_chp): AAPL_0.25143_chp.pth\n"
     ]
    },
    {
     "data": {
      "application/vnd.jupyter.widget-view+json": {
       "model_id": "b32b13398c694092900ba9ab7020570e",
       "version_major": 2,
       "version_minor": 0
      },
      "text/plain": [
       "Epoch 50:   0%|          | 0/60 [00:00<?, ?batch/s]"
      ]
     },
     "metadata": {},
     "output_type": "display_data"
    },
    {
     "name": "stdout",
     "output_type": "stream",
     "text": [
      "Epoch 050\n",
      "TRAIN→ \"R\": RMSE=0.2549 MAE=0.1940 R2=0.2266 | \"B\": Acc=0.7449 Prec=0.5685 Rec=0.2671 F1=0.3635 AUROC=0.7021\n",
      "VALID→ \"R\": RMSE=0.2514 MAE=0.1875 R2=0.2221 | \"B\": Acc=0.7489 Prec=0.6460 Rec=0.2315 F1=0.3409 AUROC=0.7315\n",
      "🔖 Saved folder‐best checkpoint (_chp): AAPL_0.25139_chp.pth\n"
     ]
    },
    {
     "data": {
      "application/vnd.jupyter.widget-view+json": {
       "model_id": "652752041afd4093b309a2e24ed1c284",
       "version_major": 2,
       "version_minor": 0
      },
      "text/plain": [
       "Epoch 51:   0%|          | 0/60 [00:00<?, ?batch/s]"
      ]
     },
     "metadata": {},
     "output_type": "display_data"
    },
    {
     "name": "stdout",
     "output_type": "stream",
     "text": [
      "Epoch 051\n",
      "TRAIN→ \"R\": RMSE=0.2548 MAE=0.1939 R2=0.2274 | \"B\": Acc=0.7454 Prec=0.5729 Rec=0.2607 F1=0.3583 AUROC=0.7016\n",
      "VALID→ \"R\": RMSE=0.2513 MAE=0.1875 R2=0.2225 | \"B\": Acc=0.7485 Prec=0.6512 Rec=0.2220 F1=0.3311 AUROC=0.7313\n",
      "🔖 Saved folder‐best checkpoint (_chp): AAPL_0.25133_chp.pth\n"
     ]
    },
    {
     "data": {
      "application/vnd.jupyter.widget-view+json": {
       "model_id": "d3ffb05d1f664ca283c6e6a8234d8ad9",
       "version_major": 2,
       "version_minor": 0
      },
      "text/plain": [
       "Epoch 52:   0%|          | 0/60 [00:00<?, ?batch/s]"
      ]
     },
     "metadata": {},
     "output_type": "display_data"
    },
    {
     "name": "stdout",
     "output_type": "stream",
     "text": [
      "Epoch 052\n",
      "TRAIN→ \"R\": RMSE=0.2547 MAE=0.1939 R2=0.2276 | \"B\": Acc=0.7457 Prec=0.5764 Rec=0.2534 F1=0.3520 AUROC=0.7008\n",
      "VALID→ \"R\": RMSE=0.2513 MAE=0.1874 R2=0.2229 | \"B\": Acc=0.7481 Prec=0.6559 Rec=0.2138 F1=0.3224 AUROC=0.7310\n",
      "🔖 Saved folder‐best checkpoint (_chp): AAPL_0.25127_chp.pth\n"
     ]
    },
    {
     "data": {
      "application/vnd.jupyter.widget-view+json": {
       "model_id": "926fde9eca6b49efbc8fc901dec7a940",
       "version_major": 2,
       "version_minor": 0
      },
      "text/plain": [
       "Epoch 53:   0%|          | 0/60 [00:00<?, ?batch/s]"
      ]
     },
     "metadata": {},
     "output_type": "display_data"
    },
    {
     "name": "stdout",
     "output_type": "stream",
     "text": [
      "Epoch 053\n",
      "TRAIN→ \"R\": RMSE=0.2547 MAE=0.1938 R2=0.2280 | \"B\": Acc=0.7461 Prec=0.5798 Rec=0.2499 F1=0.3493 AUROC=0.7009\n",
      "VALID→ \"R\": RMSE=0.2512 MAE=0.1875 R2=0.2235 | \"B\": Acc=0.7478 Prec=0.6597 Rec=0.2078 F1=0.3160 AUROC=0.7310\n",
      "🔖 Saved folder‐best checkpoint (_chp): AAPL_0.25118_chp.pth\n"
     ]
    },
    {
     "data": {
      "application/vnd.jupyter.widget-view+json": {
       "model_id": "056ae053dfc1439d892a099ed90fb197",
       "version_major": 2,
       "version_minor": 0
      },
      "text/plain": [
       "Epoch 54:   0%|          | 0/60 [00:00<?, ?batch/s]"
      ]
     },
     "metadata": {},
     "output_type": "display_data"
    },
    {
     "name": "stdout",
     "output_type": "stream",
     "text": [
      "Epoch 054\n",
      "TRAIN→ \"R\": RMSE=0.2546 MAE=0.1938 R2=0.2283 | \"B\": Acc=0.7461 Prec=0.5824 Rec=0.2429 F1=0.3428 AUROC=0.6998\n",
      "VALID→ \"R\": RMSE=0.2512 MAE=0.1874 R2=0.2236 | \"B\": Acc=0.7473 Prec=0.6676 Rec=0.1971 F1=0.3043 AUROC=0.7308\n",
      "🔖 Saved folder‐best checkpoint (_chp): AAPL_0.25116_chp.pth\n"
     ]
    },
    {
     "data": {
      "application/vnd.jupyter.widget-view+json": {
       "model_id": "dd0a105aaac642bfbed892eda80aee6f",
       "version_major": 2,
       "version_minor": 0
      },
      "text/plain": [
       "Epoch 55:   0%|          | 0/60 [00:00<?, ?batch/s]"
      ]
     },
     "metadata": {},
     "output_type": "display_data"
    },
    {
     "name": "stdout",
     "output_type": "stream",
     "text": [
      "Epoch 055\n",
      "TRAIN→ \"R\": RMSE=0.2545 MAE=0.1937 R2=0.2290 | \"B\": Acc=0.7463 Prec=0.5856 Rec=0.2376 F1=0.3380 AUROC=0.6990\n",
      "VALID→ \"R\": RMSE=0.2511 MAE=0.1873 R2=0.2238 | \"B\": Acc=0.7470 Prec=0.6717 Rec=0.1909 F1=0.2973 AUROC=0.7304\n",
      "🔖 Saved folder‐best checkpoint (_chp): AAPL_0.25113_chp.pth\n"
     ]
    },
    {
     "data": {
      "application/vnd.jupyter.widget-view+json": {
       "model_id": "927fab3a6d574e5a9d0d06a0c3e9d1f8",
       "version_major": 2,
       "version_minor": 0
      },
      "text/plain": [
       "Epoch 56:   0%|          | 0/60 [00:00<?, ?batch/s]"
      ]
     },
     "metadata": {},
     "output_type": "display_data"
    },
    {
     "name": "stdout",
     "output_type": "stream",
     "text": [
      "Epoch 056\n",
      "TRAIN→ \"R\": RMSE=0.2544 MAE=0.1936 R2=0.2296 | \"B\": Acc=0.7459 Prec=0.5852 Rec=0.2342 F1=0.3345 AUROC=0.6983\n",
      "VALID→ \"R\": RMSE=0.2511 MAE=0.1873 R2=0.2241 | \"B\": Acc=0.7463 Prec=0.6767 Rec=0.1828 F1=0.2878 AUROC=0.7301\n",
      "🔖 Saved folder‐best checkpoint (_chp): AAPL_0.25108_chp.pth\n"
     ]
    },
    {
     "data": {
      "application/vnd.jupyter.widget-view+json": {
       "model_id": "2f9d9166e71a4cf29f4f6567288c1daf",
       "version_major": 2,
       "version_minor": 0
      },
      "text/plain": [
       "Epoch 57:   0%|          | 0/60 [00:00<?, ?batch/s]"
      ]
     },
     "metadata": {},
     "output_type": "display_data"
    },
    {
     "name": "stdout",
     "output_type": "stream",
     "text": [
      "Epoch 057\n",
      "TRAIN→ \"R\": RMSE=0.2543 MAE=0.1936 R2=0.2301 | \"B\": Acc=0.7460 Prec=0.5861 Rec=0.2325 F1=0.3329 AUROC=0.6980\n",
      "VALID→ \"R\": RMSE=0.2510 MAE=0.1873 R2=0.2245 | \"B\": Acc=0.7459 Prec=0.6786 Rec=0.1785 F1=0.2827 AUROC=0.7300\n",
      "🔖 Saved folder‐best checkpoint (_chp): AAPL_0.25101_chp.pth\n"
     ]
    },
    {
     "data": {
      "application/vnd.jupyter.widget-view+json": {
       "model_id": "87484a446f2c47cd8b81957e06ad7648",
       "version_major": 2,
       "version_minor": 0
      },
      "text/plain": [
       "Epoch 58:   0%|          | 0/60 [00:00<?, ?batch/s]"
      ]
     },
     "metadata": {},
     "output_type": "display_data"
    },
    {
     "name": "stdout",
     "output_type": "stream",
     "text": [
      "Epoch 058\n",
      "TRAIN→ \"R\": RMSE=0.2543 MAE=0.1935 R2=0.2301 | \"B\": Acc=0.7461 Prec=0.5886 Rec=0.2287 F1=0.3294 AUROC=0.6974\n",
      "VALID→ \"R\": RMSE=0.2510 MAE=0.1873 R2=0.2247 | \"B\": Acc=0.7454 Prec=0.6830 Rec=0.1721 F1=0.2749 AUROC=0.7297\n",
      "🔖 Saved folder‐best checkpoint (_chp): AAPL_0.25098_chp.pth\n"
     ]
    },
    {
     "data": {
      "application/vnd.jupyter.widget-view+json": {
       "model_id": "1de9473a26044317acc0159d52971c73",
       "version_major": 2,
       "version_minor": 0
      },
      "text/plain": [
       "Epoch 59:   0%|          | 0/60 [00:00<?, ?batch/s]"
      ]
     },
     "metadata": {},
     "output_type": "display_data"
    },
    {
     "name": "stdout",
     "output_type": "stream",
     "text": [
      "Epoch 059\n",
      "TRAIN→ \"R\": RMSE=0.2542 MAE=0.1935 R2=0.2308 | \"B\": Acc=0.7462 Prec=0.5908 Rec=0.2248 F1=0.3257 AUROC=0.6977\n",
      "VALID→ \"R\": RMSE=0.2509 MAE=0.1872 R2=0.2249 | \"B\": Acc=0.7448 Prec=0.6857 Rec=0.1659 F1=0.2671 AUROC=0.7294\n",
      "🔖 Saved folder‐best checkpoint (_chp): AAPL_0.25095_chp.pth\n"
     ]
    },
    {
     "data": {
      "application/vnd.jupyter.widget-view+json": {
       "model_id": "fab1f0da08b7405c921530acf89b989e",
       "version_major": 2,
       "version_minor": 0
      },
      "text/plain": [
       "Epoch 60:   0%|          | 0/60 [00:00<?, ?batch/s]"
      ]
     },
     "metadata": {},
     "output_type": "display_data"
    },
    {
     "name": "stdout",
     "output_type": "stream",
     "text": [
      "Epoch 060\n",
      "TRAIN→ \"R\": RMSE=0.2541 MAE=0.1934 R2=0.2312 | \"B\": Acc=0.7462 Prec=0.5918 Rec=0.2226 F1=0.3235 AUROC=0.6969\n",
      "VALID→ \"R\": RMSE=0.2509 MAE=0.1872 R2=0.2251 | \"B\": Acc=0.7444 Prec=0.6873 Rec=0.1624 F1=0.2628 AUROC=0.7292\n",
      "🔖 Saved folder‐best checkpoint (_chp): AAPL_0.25091_chp.pth\n"
     ]
    },
    {
     "data": {
      "application/vnd.jupyter.widget-view+json": {
       "model_id": "eddc3caa9e0d403798feb65437d0f073",
       "version_major": 2,
       "version_minor": 0
      },
      "text/plain": [
       "Epoch 61:   0%|          | 0/60 [00:00<?, ?batch/s]"
      ]
     },
     "metadata": {},
     "output_type": "display_data"
    },
    {
     "name": "stdout",
     "output_type": "stream",
     "text": [
      "Epoch 061\n",
      "TRAIN→ \"R\": RMSE=0.2541 MAE=0.1934 R2=0.2317 | \"B\": Acc=0.7464 Prec=0.5937 Rec=0.2213 F1=0.3225 AUROC=0.6969\n",
      "VALID→ \"R\": RMSE=0.2509 MAE=0.1871 R2=0.2252 | \"B\": Acc=0.7439 Prec=0.6913 Rec=0.1567 F1=0.2555 AUROC=0.7289\n",
      "🔖 Saved folder‐best checkpoint (_chp): AAPL_0.25090_chp.pth\n"
     ]
    },
    {
     "data": {
      "application/vnd.jupyter.widget-view+json": {
       "model_id": "480a4c120495492c99a5286a86ee2cdf",
       "version_major": 2,
       "version_minor": 0
      },
      "text/plain": [
       "Epoch 62:   0%|          | 0/60 [00:00<?, ?batch/s]"
      ]
     },
     "metadata": {},
     "output_type": "display_data"
    },
    {
     "name": "stdout",
     "output_type": "stream",
     "text": [
      "Epoch 062\n",
      "TRAIN→ \"R\": RMSE=0.2540 MAE=0.1933 R2=0.2322 | \"B\": Acc=0.7464 Prec=0.5957 Rec=0.2176 F1=0.3188 AUROC=0.6959\n",
      "VALID→ \"R\": RMSE=0.2509 MAE=0.1871 R2=0.2255 | \"B\": Acc=0.7433 Prec=0.6958 Rec=0.1505 F1=0.2475 AUROC=0.7285\n",
      "🔖 Saved folder‐best checkpoint (_chp): AAPL_0.25085_chp.pth\n"
     ]
    },
    {
     "data": {
      "application/vnd.jupyter.widget-view+json": {
       "model_id": "1ca6d8c351794d8dae330f4228613876",
       "version_major": 2,
       "version_minor": 0
      },
      "text/plain": [
       "Epoch 63:   0%|          | 0/60 [00:00<?, ?batch/s]"
      ]
     },
     "metadata": {},
     "output_type": "display_data"
    },
    {
     "name": "stdout",
     "output_type": "stream",
     "text": [
      "Epoch 063\n",
      "TRAIN→ \"R\": RMSE=0.2540 MAE=0.1934 R2=0.2321 | \"B\": Acc=0.7464 Prec=0.5973 Rec=0.2141 F1=0.3153 AUROC=0.6952\n",
      "VALID→ \"R\": RMSE=0.2508 MAE=0.1870 R2=0.2257 | \"B\": Acc=0.7427 Prec=0.6990 Rec=0.1448 F1=0.2399 AUROC=0.7281\n",
      "🔖 Saved folder‐best checkpoint (_chp): AAPL_0.25082_chp.pth\n"
     ]
    },
    {
     "data": {
      "application/vnd.jupyter.widget-view+json": {
       "model_id": "f0090a2378164d01b95a991f3185f7dd",
       "version_major": 2,
       "version_minor": 0
      },
      "text/plain": [
       "Epoch 64:   0%|          | 0/60 [00:00<?, ?batch/s]"
      ]
     },
     "metadata": {},
     "output_type": "display_data"
    },
    {
     "name": "stdout",
     "output_type": "stream",
     "text": [
      "Epoch 064\n",
      "TRAIN→ \"R\": RMSE=0.2539 MAE=0.1933 R2=0.2325 | \"B\": Acc=0.7463 Prec=0.5987 Rec=0.2105 F1=0.3115 AUROC=0.6948\n",
      "VALID→ \"R\": RMSE=0.2508 MAE=0.1869 R2=0.2257 | \"B\": Acc=0.7422 Prec=0.7009 Rec=0.1407 F1=0.2343 AUROC=0.7277\n",
      "🔖 Saved folder‐best checkpoint (_chp): AAPL_0.25082_chp.pth\n"
     ]
    },
    {
     "data": {
      "application/vnd.jupyter.widget-view+json": {
       "model_id": "5670508036934ed99d698757e828e8e7",
       "version_major": 2,
       "version_minor": 0
      },
      "text/plain": [
       "Epoch 65:   0%|          | 0/60 [00:00<?, ?batch/s]"
      ]
     },
     "metadata": {},
     "output_type": "display_data"
    },
    {
     "name": "stdout",
     "output_type": "stream",
     "text": [
      "Epoch 065\n",
      "TRAIN→ \"R\": RMSE=0.2538 MAE=0.1933 R2=0.2332 | \"B\": Acc=0.7464 Prec=0.6004 Rec=0.2088 F1=0.3099 AUROC=0.6945\n",
      "VALID→ \"R\": RMSE=0.2507 MAE=0.1870 R2=0.2262 | \"B\": Acc=0.7419 Prec=0.7025 Rec=0.1378 F1=0.2304 AUROC=0.7273\n",
      "🔖 Saved folder‐best checkpoint (_chp): AAPL_0.25074_chp.pth\n"
     ]
    },
    {
     "data": {
      "application/vnd.jupyter.widget-view+json": {
       "model_id": "5a6b8f5c13c2419ea0d90d1120303bb8",
       "version_major": 2,
       "version_minor": 0
      },
      "text/plain": [
       "Epoch 66:   0%|          | 0/60 [00:00<?, ?batch/s]"
      ]
     },
     "metadata": {},
     "output_type": "display_data"
    },
    {
     "name": "stdout",
     "output_type": "stream",
     "text": [
      "Epoch 066\n",
      "TRAIN→ \"R\": RMSE=0.2537 MAE=0.1932 R2=0.2336 | \"B\": Acc=0.7463 Prec=0.6009 Rec=0.2070 F1=0.3080 AUROC=0.6941\n",
      "VALID→ \"R\": RMSE=0.2507 MAE=0.1870 R2=0.2264 | \"B\": Acc=0.7415 Prec=0.7059 Rec=0.1337 F1=0.2248 AUROC=0.7270\n",
      "🔖 Saved folder‐best checkpoint (_chp): AAPL_0.25071_chp.pth\n"
     ]
    },
    {
     "data": {
      "application/vnd.jupyter.widget-view+json": {
       "model_id": "5332b02e62aa4f60882d9b6eaa2580eb",
       "version_major": 2,
       "version_minor": 0
      },
      "text/plain": [
       "Epoch 67:   0%|          | 0/60 [00:00<?, ?batch/s]"
      ]
     },
     "metadata": {},
     "output_type": "display_data"
    },
    {
     "name": "stdout",
     "output_type": "stream",
     "text": [
      "Epoch 067\n",
      "TRAIN→ \"R\": RMSE=0.2537 MAE=0.1932 R2=0.2337 | \"B\": Acc=0.7461 Prec=0.6017 Rec=0.2036 F1=0.3043 AUROC=0.6933\n",
      "VALID→ \"R\": RMSE=0.2507 MAE=0.1869 R2=0.2265 | \"B\": Acc=0.7410 Prec=0.7078 Rec=0.1303 F1=0.2201 AUROC=0.7265\n",
      "🔖 Saved folder‐best checkpoint (_chp): AAPL_0.25069_chp.pth\n"
     ]
    },
    {
     "data": {
      "application/vnd.jupyter.widget-view+json": {
       "model_id": "d74fb7744ef648489f7290c4e5623037",
       "version_major": 2,
       "version_minor": 0
      },
      "text/plain": [
       "Epoch 68:   0%|          | 0/60 [00:00<?, ?batch/s]"
      ]
     },
     "metadata": {},
     "output_type": "display_data"
    },
    {
     "name": "stdout",
     "output_type": "stream",
     "text": [
      "Epoch 068\n",
      "TRAIN→ \"R\": RMSE=0.2537 MAE=0.1932 R2=0.2340 | \"B\": Acc=0.7459 Prec=0.6019 Rec=0.2012 F1=0.3016 AUROC=0.6925\n",
      "VALID→ \"R\": RMSE=0.2507 MAE=0.1869 R2=0.2266 | \"B\": Acc=0.7407 Prec=0.7093 Rec=0.1279 F1=0.2167 AUROC=0.7258\n",
      "🔖 Saved folder‐best checkpoint (_chp): AAPL_0.25067_chp.pth\n"
     ]
    },
    {
     "data": {
      "application/vnd.jupyter.widget-view+json": {
       "model_id": "00975d951cba4d77b4bf6e51a3810dd2",
       "version_major": 2,
       "version_minor": 0
      },
      "text/plain": [
       "Epoch 69:   0%|          | 0/60 [00:00<?, ?batch/s]"
      ]
     },
     "metadata": {},
     "output_type": "display_data"
    },
    {
     "name": "stdout",
     "output_type": "stream",
     "text": [
      "Epoch 069\n",
      "TRAIN→ \"R\": RMSE=0.2536 MAE=0.1932 R2=0.2345 | \"B\": Acc=0.7461 Prec=0.6031 Rec=0.2011 F1=0.3017 AUROC=0.6920\n",
      "VALID→ \"R\": RMSE=0.2507 MAE=0.1868 R2=0.2267 | \"B\": Acc=0.7404 Prec=0.7112 Rec=0.1253 F1=0.2130 AUROC=0.7255\n",
      "🔖 Saved folder‐best checkpoint (_chp): AAPL_0.25066_chp.pth\n"
     ]
    },
    {
     "data": {
      "application/vnd.jupyter.widget-view+json": {
       "model_id": "4cb8590c3eaa42af82126836ddb4f1cb",
       "version_major": 2,
       "version_minor": 0
      },
      "text/plain": [
       "Epoch 70:   0%|          | 0/60 [00:00<?, ?batch/s]"
      ]
     },
     "metadata": {},
     "output_type": "display_data"
    },
    {
     "name": "stdout",
     "output_type": "stream",
     "text": [
      "Epoch 070\n",
      "TRAIN→ \"R\": RMSE=0.2536 MAE=0.1931 R2=0.2344 | \"B\": Acc=0.7459 Prec=0.6032 Rec=0.1987 F1=0.2989 AUROC=0.6917\n",
      "VALID→ \"R\": RMSE=0.2506 MAE=0.1868 R2=0.2268 | \"B\": Acc=0.7397 Prec=0.7126 Rec=0.1205 F1=0.2061 AUROC=0.7251\n",
      "🔖 Saved folder‐best checkpoint (_chp): AAPL_0.25064_chp.pth\n"
     ]
    },
    {
     "data": {
      "application/vnd.jupyter.widget-view+json": {
       "model_id": "dbcf9b1cf4684da79c89d4f3e0ff1565",
       "version_major": 2,
       "version_minor": 0
      },
      "text/plain": [
       "Epoch 71:   0%|          | 0/60 [00:00<?, ?batch/s]"
      ]
     },
     "metadata": {},
     "output_type": "display_data"
    },
    {
     "name": "stdout",
     "output_type": "stream",
     "text": [
      "Epoch 071\n",
      "TRAIN→ \"R\": RMSE=0.2536 MAE=0.1931 R2=0.2348 | \"B\": Acc=0.7459 Prec=0.6051 Rec=0.1959 F1=0.2960 AUROC=0.6913\n",
      "VALID→ \"R\": RMSE=0.2506 MAE=0.1869 R2=0.2271 | \"B\": Acc=0.7395 Prec=0.7148 Rec=0.1184 F1=0.2032 AUROC=0.7250\n",
      "🔖 Saved folder‐best checkpoint (_chp): AAPL_0.25059_chp.pth\n"
     ]
    },
    {
     "data": {
      "application/vnd.jupyter.widget-view+json": {
       "model_id": "eb6bd7c514ce4e6db1bd0b6238c03084",
       "version_major": 2,
       "version_minor": 0
      },
      "text/plain": [
       "Epoch 72:   0%|          | 0/60 [00:00<?, ?batch/s]"
      ]
     },
     "metadata": {},
     "output_type": "display_data"
    },
    {
     "name": "stdout",
     "output_type": "stream",
     "text": [
      "Epoch 072\n",
      "TRAIN→ \"R\": RMSE=0.2535 MAE=0.1931 R2=0.2353 | \"B\": Acc=0.7459 Prec=0.6069 Rec=0.1936 F1=0.2935 AUROC=0.6910\n",
      "VALID→ \"R\": RMSE=0.2506 MAE=0.1868 R2=0.2272 | \"B\": Acc=0.7392 Prec=0.7175 Rec=0.1152 F1=0.1985 AUROC=0.7246\n",
      "🔖 Saved folder‐best checkpoint (_chp): AAPL_0.25058_chp.pth\n"
     ]
    },
    {
     "data": {
      "application/vnd.jupyter.widget-view+json": {
       "model_id": "33a6dce115bb43c6b66963bd7c919741",
       "version_major": 2,
       "version_minor": 0
      },
      "text/plain": [
       "Epoch 73:   0%|          | 0/60 [00:00<?, ?batch/s]"
      ]
     },
     "metadata": {},
     "output_type": "display_data"
    },
    {
     "name": "stdout",
     "output_type": "stream",
     "text": [
      "Epoch 073\n",
      "TRAIN→ \"R\": RMSE=0.2534 MAE=0.1930 R2=0.2355 | \"B\": Acc=0.7462 Prec=0.6094 Rec=0.1921 F1=0.2921 AUROC=0.6903\n",
      "VALID→ \"R\": RMSE=0.2506 MAE=0.1868 R2=0.2273 | \"B\": Acc=0.7389 Prec=0.7195 Rec=0.1128 F1=0.1950 AUROC=0.7244\n",
      "🔖 Saved folder‐best checkpoint (_chp): AAPL_0.25056_chp.pth\n"
     ]
    },
    {
     "data": {
      "application/vnd.jupyter.widget-view+json": {
       "model_id": "4787af57054e4c7eb044e0a2c4ac549e",
       "version_major": 2,
       "version_minor": 0
      },
      "text/plain": [
       "Epoch 74:   0%|          | 0/60 [00:00<?, ?batch/s]"
      ]
     },
     "metadata": {},
     "output_type": "display_data"
    },
    {
     "name": "stdout",
     "output_type": "stream",
     "text": [
      "Epoch 074\n",
      "TRAIN→ \"R\": RMSE=0.2534 MAE=0.1930 R2=0.2357 | \"B\": Acc=0.7458 Prec=0.6080 Rec=0.1904 F1=0.2900 AUROC=0.6904\n",
      "VALID→ \"R\": RMSE=0.2505 MAE=0.1867 R2=0.2274 | \"B\": Acc=0.7386 Prec=0.7204 Rec=0.1108 F1=0.1920 AUROC=0.7239\n",
      "🔖 Saved folder‐best checkpoint (_chp): AAPL_0.25054_chp.pth\n"
     ]
    },
    {
     "data": {
      "application/vnd.jupyter.widget-view+json": {
       "model_id": "0ce7b9859c334fd1902c0f3f8a6d0714",
       "version_major": 2,
       "version_minor": 0
      },
      "text/plain": [
       "Epoch 75:   0%|          | 0/60 [00:00<?, ?batch/s]"
      ]
     },
     "metadata": {},
     "output_type": "display_data"
    },
    {
     "name": "stdout",
     "output_type": "stream",
     "text": [
      "Epoch 075\n",
      "TRAIN→ \"R\": RMSE=0.2534 MAE=0.1930 R2=0.2356 | \"B\": Acc=0.7457 Prec=0.6079 Rec=0.1895 F1=0.2889 AUROC=0.6894\n",
      "VALID→ \"R\": RMSE=0.2505 MAE=0.1868 R2=0.2276 | \"B\": Acc=0.7383 Prec=0.7217 Rec=0.1085 F1=0.1886 AUROC=0.7236\n",
      "🔖 Saved folder‐best checkpoint (_chp): AAPL_0.25052_chp.pth\n"
     ]
    },
    {
     "data": {
      "application/vnd.jupyter.widget-view+json": {
       "model_id": "6f1c0e1e4c6c40a2800510f65cb23683",
       "version_major": 2,
       "version_minor": 0
      },
      "text/plain": [
       "Epoch 76:   0%|          | 0/60 [00:00<?, ?batch/s]"
      ]
     },
     "metadata": {},
     "output_type": "display_data"
    },
    {
     "name": "stdout",
     "output_type": "stream",
     "text": [
      "Epoch 076\n",
      "TRAIN→ \"R\": RMSE=0.2533 MAE=0.1930 R2=0.2363 | \"B\": Acc=0.7456 Prec=0.6084 Rec=0.1877 F1=0.2869 AUROC=0.6892\n",
      "VALID→ \"R\": RMSE=0.2505 MAE=0.1867 R2=0.2277 | \"B\": Acc=0.7380 Prec=0.7234 Rec=0.1062 F1=0.1852 AUROC=0.7231\n",
      "🔖 Saved folder‐best checkpoint (_chp): AAPL_0.25050_chp.pth\n"
     ]
    },
    {
     "data": {
      "application/vnd.jupyter.widget-view+json": {
       "model_id": "6beabd528c9a46eeb6d8d708a21ed464",
       "version_major": 2,
       "version_minor": 0
      },
      "text/plain": [
       "Epoch 77:   0%|          | 0/60 [00:00<?, ?batch/s]"
      ]
     },
     "metadata": {},
     "output_type": "display_data"
    },
    {
     "name": "stdout",
     "output_type": "stream",
     "text": [
      "Epoch 077\n",
      "TRAIN→ \"R\": RMSE=0.2533 MAE=0.1930 R2=0.2363 | \"B\": Acc=0.7458 Prec=0.6106 Rec=0.1871 F1=0.2865 AUROC=0.6889\n",
      "VALID→ \"R\": RMSE=0.2505 MAE=0.1867 R2=0.2278 | \"B\": Acc=0.7378 Prec=0.7247 Rec=0.1049 F1=0.1833 AUROC=0.7229\n",
      "🔖 Saved folder‐best checkpoint (_chp): AAPL_0.25048_chp.pth\n"
     ]
    },
    {
     "data": {
      "application/vnd.jupyter.widget-view+json": {
       "model_id": "e90583936bc349b58b8ea937af1fb6b2",
       "version_major": 2,
       "version_minor": 0
      },
      "text/plain": [
       "Epoch 78:   0%|          | 0/60 [00:00<?, ?batch/s]"
      ]
     },
     "metadata": {},
     "output_type": "display_data"
    },
    {
     "name": "stdout",
     "output_type": "stream",
     "text": [
      "Epoch 078\n",
      "TRAIN→ \"R\": RMSE=0.2533 MAE=0.1929 R2=0.2365 | \"B\": Acc=0.7457 Prec=0.6101 Rec=0.1869 F1=0.2861 AUROC=0.6883\n",
      "VALID→ \"R\": RMSE=0.2505 MAE=0.1866 R2=0.2278 | \"B\": Acc=0.7377 Prec=0.7256 Rec=0.1038 F1=0.1816 AUROC=0.7225\n",
      "🔖 Saved folder‐best checkpoint (_chp): AAPL_0.25048_chp.pth\n"
     ]
    },
    {
     "data": {
      "application/vnd.jupyter.widget-view+json": {
       "model_id": "5adf59c7759f4611b928e2e7e23796ef",
       "version_major": 2,
       "version_minor": 0
      },
      "text/plain": [
       "Epoch 79:   0%|          | 0/60 [00:00<?, ?batch/s]"
      ]
     },
     "metadata": {},
     "output_type": "display_data"
    },
    {
     "name": "stdout",
     "output_type": "stream",
     "text": [
      "Epoch 079\n",
      "TRAIN→ \"R\": RMSE=0.2532 MAE=0.1929 R2=0.2366 | \"B\": Acc=0.7455 Prec=0.6093 Rec=0.1856 F1=0.2845 AUROC=0.6881\n",
      "VALID→ \"R\": RMSE=0.2504 MAE=0.1867 R2=0.2281 | \"B\": Acc=0.7375 Prec=0.7269 Rec=0.1025 F1=0.1796 AUROC=0.7222\n",
      "🔖 Saved folder‐best checkpoint (_chp): AAPL_0.25044_chp.pth\n"
     ]
    },
    {
     "data": {
      "application/vnd.jupyter.widget-view+json": {
       "model_id": "e93e931147b542a6ab7b89b9dafb7889",
       "version_major": 2,
       "version_minor": 0
      },
      "text/plain": [
       "Epoch 80:   0%|          | 0/60 [00:00<?, ?batch/s]"
      ]
     },
     "metadata": {},
     "output_type": "display_data"
    },
    {
     "name": "stdout",
     "output_type": "stream",
     "text": [
      "Epoch 080\n",
      "TRAIN→ \"R\": RMSE=0.2532 MAE=0.1929 R2=0.2368 | \"B\": Acc=0.7454 Prec=0.6087 Rec=0.1854 F1=0.2842 AUROC=0.6881\n",
      "VALID→ \"R\": RMSE=0.2504 MAE=0.1866 R2=0.2281 | \"B\": Acc=0.7374 Prec=0.7272 Rec=0.1015 F1=0.1781 AUROC=0.7221\n",
      "🔖 Saved folder‐best checkpoint (_chp): AAPL_0.25043_chp.pth\n"
     ]
    },
    {
     "data": {
      "application/vnd.jupyter.widget-view+json": {
       "model_id": "d5c0fafc8ebc46da89509e6889551a96",
       "version_major": 2,
       "version_minor": 0
      },
      "text/plain": [
       "Epoch 81:   0%|          | 0/60 [00:00<?, ?batch/s]"
      ]
     },
     "metadata": {},
     "output_type": "display_data"
    },
    {
     "name": "stdout",
     "output_type": "stream",
     "text": [
      "Epoch 081\n",
      "TRAIN→ \"R\": RMSE=0.2532 MAE=0.1929 R2=0.2371 | \"B\": Acc=0.7453 Prec=0.6084 Rec=0.1852 F1=0.2839 AUROC=0.6873\n",
      "VALID→ \"R\": RMSE=0.2504 MAE=0.1866 R2=0.2282 | \"B\": Acc=0.7372 Prec=0.7274 Rec=0.1002 F1=0.1762 AUROC=0.7217\n",
      "🔖 Saved folder‐best checkpoint (_chp): AAPL_0.25042_chp.pth\n"
     ]
    },
    {
     "data": {
      "application/vnd.jupyter.widget-view+json": {
       "model_id": "68eabf10e3a343a8b1a1d0431fc077c5",
       "version_major": 2,
       "version_minor": 0
      },
      "text/plain": [
       "Epoch 82:   0%|          | 0/60 [00:00<?, ?batch/s]"
      ]
     },
     "metadata": {},
     "output_type": "display_data"
    },
    {
     "name": "stdout",
     "output_type": "stream",
     "text": [
      "Epoch 082\n",
      "TRAIN→ \"R\": RMSE=0.2531 MAE=0.1929 R2=0.2372 | \"B\": Acc=0.7453 Prec=0.6089 Rec=0.1845 F1=0.2832 AUROC=0.6870\n",
      "VALID→ \"R\": RMSE=0.2504 MAE=0.1866 R2=0.2282 | \"B\": Acc=0.7369 Prec=0.7289 Rec=0.0982 F1=0.1731 AUROC=0.7212\n",
      "🔖 Saved folder‐best checkpoint (_chp): AAPL_0.25041_chp.pth\n"
     ]
    },
    {
     "data": {
      "application/vnd.jupyter.widget-view+json": {
       "model_id": "9fb24cb96aa94ea9b2d88aa32cf7683f",
       "version_major": 2,
       "version_minor": 0
      },
      "text/plain": [
       "Epoch 83:   0%|          | 0/60 [00:00<?, ?batch/s]"
      ]
     },
     "metadata": {},
     "output_type": "display_data"
    },
    {
     "name": "stdout",
     "output_type": "stream",
     "text": [
      "Epoch 083\n",
      "TRAIN→ \"R\": RMSE=0.2531 MAE=0.1929 R2=0.2373 | \"B\": Acc=0.7455 Prec=0.6101 Rec=0.1842 F1=0.2830 AUROC=0.6868\n",
      "VALID→ \"R\": RMSE=0.2504 MAE=0.1866 R2=0.2284 | \"B\": Acc=0.7366 Prec=0.7293 Rec=0.0964 F1=0.1703 AUROC=0.7209\n",
      "🔖 Saved folder‐best checkpoint (_chp): AAPL_0.25038_chp.pth\n"
     ]
    },
    {
     "data": {
      "application/vnd.jupyter.widget-view+json": {
       "model_id": "70cae4d6c2724b96894f9cd7cc526b27",
       "version_major": 2,
       "version_minor": 0
      },
      "text/plain": [
       "Epoch 84:   0%|          | 0/60 [00:00<?, ?batch/s]"
      ]
     },
     "metadata": {},
     "output_type": "display_data"
    },
    {
     "name": "stdout",
     "output_type": "stream",
     "text": [
      "Epoch 084\n",
      "TRAIN→ \"R\": RMSE=0.2531 MAE=0.1928 R2=0.2375 | \"B\": Acc=0.7452 Prec=0.6096 Rec=0.1826 F1=0.2810 AUROC=0.6864\n",
      "VALID→ \"R\": RMSE=0.2504 MAE=0.1866 R2=0.2285 | \"B\": Acc=0.7363 Prec=0.7304 Rec=0.0948 F1=0.1678 AUROC=0.7203\n",
      "🔖 Saved folder‐best checkpoint (_chp): AAPL_0.25037_chp.pth\n"
     ]
    },
    {
     "data": {
      "application/vnd.jupyter.widget-view+json": {
       "model_id": "4362ece53c7846078c8da2d9d2bfc1bb",
       "version_major": 2,
       "version_minor": 0
      },
      "text/plain": [
       "Epoch 85:   0%|          | 0/60 [00:00<?, ?batch/s]"
      ]
     },
     "metadata": {},
     "output_type": "display_data"
    },
    {
     "name": "stdout",
     "output_type": "stream",
     "text": [
      "Epoch 085\n",
      "TRAIN→ \"R\": RMSE=0.2530 MAE=0.1928 R2=0.2380 | \"B\": Acc=0.7452 Prec=0.6095 Rec=0.1817 F1=0.2799 AUROC=0.6864\n",
      "VALID→ \"R\": RMSE=0.2504 MAE=0.1866 R2=0.2286 | \"B\": Acc=0.7361 Prec=0.7310 Rec=0.0934 F1=0.1657 AUROC=0.7198\n",
      "🔖 Saved folder‐best checkpoint (_chp): AAPL_0.25035_chp.pth\n"
     ]
    },
    {
     "data": {
      "application/vnd.jupyter.widget-view+json": {
       "model_id": "19a04d198b6349b3b3d4573914d1d279",
       "version_major": 2,
       "version_minor": 0
      },
      "text/plain": [
       "Epoch 86:   0%|          | 0/60 [00:00<?, ?batch/s]"
      ]
     },
     "metadata": {},
     "output_type": "display_data"
    },
    {
     "name": "stdout",
     "output_type": "stream",
     "text": [
      "Epoch 086\n",
      "TRAIN→ \"R\": RMSE=0.2530 MAE=0.1928 R2=0.2380 | \"B\": Acc=0.7453 Prec=0.6111 Rec=0.1813 F1=0.2796 AUROC=0.6851\n",
      "VALID→ \"R\": RMSE=0.2503 MAE=0.1865 R2=0.2286 | \"B\": Acc=0.7359 Prec=0.7320 Rec=0.0917 F1=0.1630 AUROC=0.7194\n",
      "🔖 Saved folder‐best checkpoint (_chp): AAPL_0.25034_chp.pth\n"
     ]
    },
    {
     "data": {
      "application/vnd.jupyter.widget-view+json": {
       "model_id": "a5ac48956ad64fcf8cfafe5c061924b1",
       "version_major": 2,
       "version_minor": 0
      },
      "text/plain": [
       "Epoch 87:   0%|          | 0/60 [00:00<?, ?batch/s]"
      ]
     },
     "metadata": {},
     "output_type": "display_data"
    },
    {
     "name": "stdout",
     "output_type": "stream",
     "text": [
      "Epoch 087\n",
      "TRAIN→ \"R\": RMSE=0.2529 MAE=0.1928 R2=0.2384 | \"B\": Acc=0.7455 Prec=0.6130 Rec=0.1803 F1=0.2786 AUROC=0.6857\n",
      "VALID→ \"R\": RMSE=0.2503 MAE=0.1866 R2=0.2288 | \"B\": Acc=0.7357 Prec=0.7326 Rec=0.0904 F1=0.1610 AUROC=0.7190\n",
      "🔖 Saved folder‐best checkpoint (_chp): AAPL_0.25032_chp.pth\n"
     ]
    },
    {
     "data": {
      "application/vnd.jupyter.widget-view+json": {
       "model_id": "d7f529048dd6435bbb3dc2f60ad1d206",
       "version_major": 2,
       "version_minor": 0
      },
      "text/plain": [
       "Epoch 88:   0%|          | 0/60 [00:00<?, ?batch/s]"
      ]
     },
     "metadata": {},
     "output_type": "display_data"
    },
    {
     "name": "stdout",
     "output_type": "stream",
     "text": [
      "Epoch 088\n",
      "TRAIN→ \"R\": RMSE=0.2529 MAE=0.1927 R2=0.2384 | \"B\": Acc=0.7452 Prec=0.6125 Rec=0.1783 F1=0.2762 AUROC=0.6849\n",
      "VALID→ \"R\": RMSE=0.2503 MAE=0.1865 R2=0.2288 | \"B\": Acc=0.7354 Prec=0.7327 Rec=0.0891 F1=0.1589 AUROC=0.7187\n",
      "🔖 Saved folder‐best checkpoint (_chp): AAPL_0.25031_chp.pth\n"
     ]
    },
    {
     "data": {
      "application/vnd.jupyter.widget-view+json": {
       "model_id": "7cae90b204894e61820905dd7849bcc6",
       "version_major": 2,
       "version_minor": 0
      },
      "text/plain": [
       "Epoch 89:   0%|          | 0/60 [00:00<?, ?batch/s]"
      ]
     },
     "metadata": {},
     "output_type": "display_data"
    },
    {
     "name": "stdout",
     "output_type": "stream",
     "text": [
      "Epoch 089\n",
      "TRAIN→ \"R\": RMSE=0.2530 MAE=0.1928 R2=0.2383 | \"B\": Acc=0.7449 Prec=0.6108 Rec=0.1773 F1=0.2749 AUROC=0.6844\n",
      "VALID→ \"R\": RMSE=0.2503 MAE=0.1865 R2=0.2290 | \"B\": Acc=0.7354 Prec=0.7331 Rec=0.0886 F1=0.1580 AUROC=0.7183\n",
      "🔖 Saved folder‐best checkpoint (_chp): AAPL_0.25029_chp.pth\n"
     ]
    },
    {
     "data": {
      "application/vnd.jupyter.widget-view+json": {
       "model_id": "25896cc114404f4fb05a18f2bc72790e",
       "version_major": 2,
       "version_minor": 0
      },
      "text/plain": [
       "Epoch 90:   0%|          | 0/60 [00:00<?, ?batch/s]"
      ]
     },
     "metadata": {},
     "output_type": "display_data"
    },
    {
     "name": "stdout",
     "output_type": "stream",
     "text": [
      "Epoch 090\n",
      "TRAIN→ \"R\": RMSE=0.2529 MAE=0.1927 R2=0.2388 | \"B\": Acc=0.7449 Prec=0.6113 Rec=0.1767 F1=0.2742 AUROC=0.6844\n",
      "VALID→ \"R\": RMSE=0.2503 MAE=0.1865 R2=0.2290 | \"B\": Acc=0.7352 Prec=0.7339 Rec=0.0877 F1=0.1566 AUROC=0.7180\n",
      "🔖 Saved folder‐best checkpoint (_chp): AAPL_0.25029_chp.pth\n",
      "✅ Final best model (_fin) saved: AAPL_0.25029_fin.pth\n",
      "Delete variables to free memory...\n"
     ]
    },
    {
     "name": "stderr",
     "output_type": "stream",
     "text": [
      "[I 2025-09-18 19:12:33,520] Trial 0 finished with value: 0.25028756260871887 and parameters: {'look_back': 90, 'DROPOUT_SHORT': 0.13626787384035308, 'DROPOUT_LONG': 0.06693235970416676, 'ATT_DROPOUT': 0.31333116343680306, 'INITIAL_LR': 2.901300724822737e-05, 'ETA_MIN': 5.370967771887404e-06, 'WEIGHT_DECAY': 0.002317375143493553, 'CLIPNORM': 7.324156614347733}. Best is trial 0 with value: 0.25028756260871887.\n"
     ]
    },
    {
     "name": "stdout",
     "output_type": "stream",
     "text": [
      "\n",
      "▶ Trial 1 starting with:\n",
      "{'look_back': 90, 'DROPOUT_SHORT': 0.13086041365374274, 'DROPOUT_LONG': 0.16965873863642492, 'ATT_DROPOUT': 0.07573988360973218, 'INITIAL_LR': 0.00038936908999260997, 'ETA_MIN': 6.706829819819508e-06, 'WEIGHT_DECAY': 0.006118864071633351, 'CLIPNORM': 0.5348697391669399}\n",
      "\n",
      "Build LSTM input tensors (disk-backed memmaps)...\n",
      "Inside build_tensors, features: ['adx_14', 'atr_14', 'ret', 'atr_pct_14', 'log_ret', 'macd_signal_12_26_9', 'bb_hband_20', 'body', 'bb_w_20', 'eng_vwap', 'minus_di_14', 'body_pct', 'hour', 'eng_obv', 'vol_spike_14', 'macd_diff_12_26_9', 'sma_28', 'eng_sma_long', 'obv_pct_14', 'eng_macd']\n"
     ]
    },
    {
     "data": {
      "application/vnd.jupyter.widget-view+json": {
       "model_id": "d29dcd951b324955b2bcc0b7f37f82d0",
       "version_major": 2,
       "version_minor": 0
      },
      "text/plain": [
       "Counting windows:   0%|          | 0/5400 [00:00<?, ?it/s]"
      ]
     },
     "metadata": {},
     "output_type": "display_data"
    },
    {
     "data": {
      "application/vnd.jupyter.widget-view+json": {
       "model_id": "a22c1205a5094ec7bd4c78b3296682d9",
       "version_major": 2,
       "version_minor": 0
      },
      "text/plain": [
       "Writing memmaps:   0%|          | 0/5400 [00:00<?, ?it/s]"
      ]
     },
     "metadata": {},
     "output_type": "display_data"
    },
    {
     "name": "stdout",
     "output_type": "stream",
     "text": [
      "Split into train/val/test by calendar day...\n",
      "Carve `end_times` into the same three splits...\n",
      "Build DataLoaders over calendar‐days...\n"
     ]
    },
    {
     "data": {
      "application/vnd.jupyter.widget-view+json": {
       "model_id": "9c36a1753179437a89c400728ef12751",
       "version_major": 2,
       "version_minor": 0
      },
      "text/plain": [
       "Creating DayWindowDatasets:   0%|          | 0/3 [00:00<?, ?split/s]"
      ]
     },
     "metadata": {},
     "output_type": "display_data"
    },
    {
     "name": "stdout",
     "output_type": "stream",
     "text": [
      "Instantiate the stateful DualMemoryLSTM...\n",
      "Build optimizer, LR scheduler, AMP scaler, and gradient‐clip norm...\n",
      "Run the custom stateful training loop...\n"
     ]
    },
    {
     "data": {
      "image/png": "[encoded data removed]",
      "text/plain": [
       "<Figure size 660x440 with 1 Axes>"
      ]
     },
     "metadata": {},
     "output_type": "display_data"
    },
    {
     "data": {
      "application/vnd.jupyter.widget-view+json": {
       "model_id": "fd0d70f13ec148318e5369ce954af200",
       "version_major": 2,
       "version_minor": 0
      },
      "text/plain": [
       "Epoch 1:   0%|          | 0/60 [00:01<?, ?batch/s]"
      ]
     },
     "metadata": {},
     "output_type": "display_data"
    },
    {
     "name": "stdout",
     "output_type": "stream",
     "text": [
      "Epoch 001\n",
      "TRAIN→ \"R\": RMSE=0.2910 MAE=0.2277 R2=-0.0082 | \"B\": Acc=0.7067 Prec=0.1896 Rec=0.0232 F1=0.0413 AUROC=0.4666\n",
      "VALID→ \"R\": RMSE=0.2635 MAE=0.2040 R2=0.1455 | \"B\": Acc=0.6675 Prec=0.1737 Rec=0.0495 F1=0.0770 AUROC=0.4089\n"
     ]
    },
    {
     "data": {
      "application/vnd.jupyter.widget-view+json": {
       "model_id": "51bfac1233f04812b8645a4305fe7b82",
       "version_major": 2,
       "version_minor": 0
      },
      "text/plain": [
       "Epoch 2:   0%|          | 0/60 [00:00<?, ?batch/s]"
      ]
     },
     "metadata": {},
     "output_type": "display_data"
    },
    {
     "name": "stdout",
     "output_type": "stream",
     "text": [
      "Epoch 002\n",
      "TRAIN→ \"R\": RMSE=0.2671 MAE=0.2060 R2=0.1511 | \"B\": Acc=0.6384 Prec=0.1934 Rec=0.1029 F1=0.1344 AUROC=0.4223\n",
      "VALID→ \"R\": RMSE=0.2537 MAE=0.1914 R2=0.2080 | \"B\": Acc=0.6830 Prec=0.1306 Rec=0.0230 F1=0.0392 AUROC=0.3782\n"
     ]
    },
    {
     "data": {
      "application/vnd.jupyter.widget-view+json": {
       "model_id": "2260df87d07b4bdf93b3be26df491828",
       "version_major": 2,
       "version_minor": 0
      },
      "text/plain": [
       "Epoch 3:   0%|          | 0/60 [00:00<?, ?batch/s]"
      ]
     },
     "metadata": {},
     "output_type": "display_data"
    },
    {
     "name": "stdout",
     "output_type": "stream",
     "text": [
      "Epoch 003\n",
      "TRAIN→ \"R\": RMSE=0.2619 MAE=0.2015 R2=0.1832 | \"B\": Acc=0.6240 Prec=0.1837 Rec=0.1100 F1=0.1376 AUROC=0.4071\n",
      "VALID→ \"R\": RMSE=0.2596 MAE=0.1818 R2=0.1706 | \"B\": Acc=0.5072 Prec=0.1844 Rec=0.2213 F1=0.2012 AUROC=0.3612\n"
     ]
    },
    {
     "data": {
      "application/vnd.jupyter.widget-view+json": {
       "model_id": "3f1584c594f94c1fbdd4e149e617640d",
       "version_major": 2,
       "version_minor": 0
      },
      "text/plain": [
       "Epoch 4:   0%|          | 0/60 [00:00<?, ?batch/s]"
      ]
     },
     "metadata": {},
     "output_type": "display_data"
    },
    {
     "name": "stdout",
     "output_type": "stream",
     "text": [
      "Epoch 004\n",
      "TRAIN→ \"R\": RMSE=0.2605 MAE=0.2004 R2=0.1923 | \"B\": Acc=0.5805 Prec=0.2025 Rec=0.1833 F1=0.1924 AUROC=0.4144\n",
      "VALID→ \"R\": RMSE=0.2506 MAE=0.1960 R2=0.2269 | \"B\": Acc=0.5506 Prec=0.1524 Rec=0.1322 F1=0.1416 AUROC=0.3278\n"
     ]
    },
    {
     "data": {
      "application/vnd.jupyter.widget-view+json": {
       "model_id": "f61587c16ca845b4a693a8f6048e3769",
       "version_major": 2,
       "version_minor": 0
      },
      "text/plain": [
       "Epoch 5:   0%|          | 0/60 [00:00<?, ?batch/s]"
      ]
     },
     "metadata": {},
     "output_type": "display_data"
    },
    {
     "name": "stdout",
     "output_type": "stream",
     "text": [
      "Epoch 005\n",
      "TRAIN→ \"R\": RMSE=0.2597 MAE=0.1992 R2=0.1972 | \"B\": Acc=0.5712 Prec=0.1903 Rec=0.1760 F1=0.1829 AUROC=0.3940\n",
      "VALID→ \"R\": RMSE=0.2486 MAE=0.1895 R2=0.2396 | \"B\": Acc=0.5175 Prec=0.1680 Rec=0.1823 F1=0.1748 AUROC=0.3431\n",
      "🔖 Saved folder‐best checkpoint (_chp): AAPL_0.24856_chp.pth\n"
     ]
    },
    {
     "data": {
      "application/vnd.jupyter.widget-view+json": {
       "model_id": "a880eb9927ea49d4bd241d1fc1cf63f5",
       "version_major": 2,
       "version_minor": 0
      },
      "text/plain": [
       "Epoch 6:   0%|          | 0/60 [00:00<?, ?batch/s]"
      ]
     },
     "metadata": {},
     "output_type": "display_data"
    },
    {
     "name": "stdout",
     "output_type": "stream",
     "text": [
      "Epoch 006\n",
      "TRAIN→ \"R\": RMSE=0.2610 MAE=0.1991 R2=0.1894 | \"B\": Acc=0.5550 Prec=0.1922 Rec=0.1973 F1=0.1947 AUROC=0.3900\n",
      "VALID→ \"R\": RMSE=0.2543 MAE=0.1803 R2=0.2039 | \"B\": Acc=0.4414 Prec=0.1713 Rec=0.2585 F1=0.2061 AUROC=0.3253\n"
     ]
    },
    {
     "data": {
      "application/vnd.jupyter.widget-view+json": {
       "model_id": "c488c7bf2ae94822b64f1c18fe0d528d",
       "version_major": 2,
       "version_minor": 0
      },
      "text/plain": [
       "Epoch 7:   0%|          | 0/60 [00:00<?, ?batch/s]"
      ]
     },
     "metadata": {},
     "output_type": "display_data"
    },
    {
     "name": "stdout",
     "output_type": "stream",
     "text": [
      "Epoch 007\n",
      "TRAIN→ \"R\": RMSE=0.2574 MAE=0.1971 R2=0.2113 | \"B\": Acc=0.5493 Prec=0.1842 Rec=0.1904 F1=0.1872 AUROC=0.3744\n",
      "VALID→ \"R\": RMSE=0.2494 MAE=0.1958 R2=0.2346 | \"B\": Acc=0.3947 Prec=0.2005 Rec=0.3879 F1=0.2644 AUROC=0.3438\n"
     ]
    },
    {
     "data": {
      "application/vnd.jupyter.widget-view+json": {
       "model_id": "da9b857f7c714f5888c32f3bcc4f5ad7",
       "version_major": 2,
       "version_minor": 0
      },
      "text/plain": [
       "Epoch 8:   0%|          | 0/60 [00:00<?, ?batch/s]"
      ]
     },
     "metadata": {},
     "output_type": "display_data"
    },
    {
     "name": "stdout",
     "output_type": "stream",
     "text": [
      "Epoch 008\n",
      "TRAIN→ \"R\": RMSE=0.2575 MAE=0.1956 R2=0.2105 | \"B\": Acc=0.5249 Prec=0.2032 Rec=0.2541 F1=0.2258 AUROC=0.3935\n",
      "VALID→ \"R\": RMSE=0.2482 MAE=0.1854 R2=0.2417 | \"B\": Acc=0.3471 Prec=0.2075 Rec=0.4713 F1=0.2882 AUROC=0.3368\n",
      "🔖 Saved folder‐best checkpoint (_chp): AAPL_0.24821_chp.pth\n"
     ]
    },
    {
     "data": {
      "application/vnd.jupyter.widget-view+json": {
       "model_id": "8851831b63b443518f48777d56f96f22",
       "version_major": 2,
       "version_minor": 0
      },
      "text/plain": [
       "Epoch 9:   0%|          | 0/60 [00:00<?, ?batch/s]"
      ]
     },
     "metadata": {},
     "output_type": "display_data"
    },
    {
     "name": "stdout",
     "output_type": "stream",
     "text": [
      "Epoch 009\n",
      "TRAIN→ \"R\": RMSE=0.2574 MAE=0.1975 R2=0.2111 | \"B\": Acc=0.5155 Prec=0.1905 Rec=0.2392 F1=0.2121 AUROC=0.3751\n",
      "VALID→ \"R\": RMSE=0.2495 MAE=0.1962 R2=0.2340 | \"B\": Acc=0.3137 Prec=0.2084 Rec=0.5172 F1=0.2971 AUROC=0.3173\n"
     ]
    },
    {
     "data": {
      "application/vnd.jupyter.widget-view+json": {
       "model_id": "2081cc7a1a4143518a1b8fad91295726",
       "version_major": 2,
       "version_minor": 0
      },
      "text/plain": [
       "Epoch 10:   0%|          | 0/60 [00:00<?, ?batch/s]"
      ]
     },
     "metadata": {},
     "output_type": "display_data"
    },
    {
     "name": "stdout",
     "output_type": "stream",
     "text": [
      "Epoch 010\n",
      "TRAIN→ \"R\": RMSE=0.2542 MAE=0.1939 R2=0.2307 | \"B\": Acc=0.4818 Prec=0.1971 Rec=0.2931 F1=0.2357 AUROC=0.3746\n",
      "VALID→ \"R\": RMSE=0.2474 MAE=0.1925 R2=0.2469 | \"B\": Acc=0.3211 Prec=0.2034 Rec=0.4872 F1=0.2870 AUROC=0.3124\n",
      "🔖 Saved folder‐best checkpoint (_chp): AAPL_0.24737_chp.pth\n"
     ]
    },
    {
     "data": {
      "application/vnd.jupyter.widget-view+json": {
       "model_id": "4d39dbc7dde44ca58e039e812285777c",
       "version_major": 2,
       "version_minor": 0
      },
      "text/plain": [
       "Epoch 11:   0%|          | 0/60 [00:00<?, ?batch/s]"
      ]
     },
     "metadata": {},
     "output_type": "display_data"
    },
    {
     "name": "stdout",
     "output_type": "stream",
     "text": [
      "Epoch 011\n",
      "TRAIN→ \"R\": RMSE=0.2547 MAE=0.1931 R2=0.2280 | \"B\": Acc=0.4581 Prec=0.2016 Rec=0.3336 F1=0.2514 AUROC=0.3756\n",
      "VALID→ \"R\": RMSE=0.2490 MAE=0.1935 R2=0.2371 | \"B\": Acc=0.2999 Prec=0.2029 Rec=0.5112 F1=0.2905 AUROC=0.3027\n"
     ]
    },
    {
     "data": {
      "application/vnd.jupyter.widget-view+json": {
       "model_id": "0a999fa51c6440c7a648ff2a53085a4a",
       "version_major": 2,
       "version_minor": 0
      },
      "text/plain": [
       "Epoch 12:   0%|          | 0/60 [00:00<?, ?batch/s]"
      ]
     },
     "metadata": {},
     "output_type": "display_data"
    },
    {
     "name": "stdout",
     "output_type": "stream",
     "text": [
      "Epoch 012\n",
      "TRAIN→ \"R\": RMSE=0.2543 MAE=0.1938 R2=0.2304 | \"B\": Acc=0.4547 Prec=0.1923 Rec=0.3125 F1=0.2381 AUROC=0.3614\n",
      "VALID→ \"R\": RMSE=0.2472 MAE=0.1912 R2=0.2480 | \"B\": Acc=0.2640 Prec=0.2254 Rec=0.6666 F1=0.3369 AUROC=0.2978\n",
      "🔖 Saved folder‐best checkpoint (_chp): AAPL_0.24718_chp.pth\n"
     ]
    },
    {
     "data": {
      "application/vnd.jupyter.widget-view+json": {
       "model_id": "cfde77f41a6947b3b94d22edef0b245e",
       "version_major": 2,
       "version_minor": 0
      },
      "text/plain": [
       "Epoch 13:   0%|          | 0/60 [00:00<?, ?batch/s]"
      ]
     },
     "metadata": {},
     "output_type": "display_data"
    },
    {
     "name": "stdout",
     "output_type": "stream",
     "text": [
      "Epoch 013\n",
      "TRAIN→ \"R\": RMSE=0.2521 MAE=0.1916 R2=0.2436 | \"B\": Acc=0.4078 Prec=0.1991 Rec=0.3876 F1=0.2630 AUROC=0.3570\n",
      "VALID→ \"R\": RMSE=0.2463 MAE=0.1828 R2=0.2536 | \"B\": Acc=0.2623 Prec=0.2353 Rec=0.7245 F1=0.3552 AUROC=0.3020\n",
      "🔖 Saved folder‐best checkpoint (_chp): AAPL_0.24626_chp.pth\n"
     ]
    },
    {
     "data": {
      "application/vnd.jupyter.widget-view+json": {
       "model_id": "7a032f9565b24a49a92049bc7f23ef72",
       "version_major": 2,
       "version_minor": 0
      },
      "text/plain": [
       "Epoch 14:   0%|          | 0/60 [00:00<?, ?batch/s]"
      ]
     },
     "metadata": {},
     "output_type": "display_data"
    },
    {
     "name": "stdout",
     "output_type": "stream",
     "text": [
      "Epoch 014\n",
      "TRAIN→ \"R\": RMSE=0.2523 MAE=0.1911 R2=0.2426 | \"B\": Acc=0.3976 Prec=0.2055 Rec=0.4218 F1=0.2763 AUROC=0.3637\n",
      "VALID→ \"R\": RMSE=0.2459 MAE=0.1915 R2=0.2555 | \"B\": Acc=0.2596 Prec=0.2288 Rec=0.6917 F1=0.3438 AUROC=0.2868\n",
      "🔖 Saved folder‐best checkpoint (_chp): AAPL_0.24595_chp.pth\n"
     ]
    },
    {
     "data": {
      "application/vnd.jupyter.widget-view+json": {
       "model_id": "6cfc2ed430a9414c9b40b6c6ebb6499a",
       "version_major": 2,
       "version_minor": 0
      },
      "text/plain": [
       "Epoch 15:   0%|          | 0/60 [00:00<?, ?batch/s]"
      ]
     },
     "metadata": {},
     "output_type": "display_data"
    },
    {
     "name": "stdout",
     "output_type": "stream",
     "text": [
      "Epoch 015\n",
      "TRAIN→ \"R\": RMSE=0.2522 MAE=0.1908 R2=0.2426 | \"B\": Acc=0.4017 Prec=0.1994 Rec=0.3962 F1=0.2653 AUROC=0.3569\n",
      "VALID→ \"R\": RMSE=0.2458 MAE=0.1893 R2=0.2566 | \"B\": Acc=0.2813 Prec=0.2018 Rec=0.5289 F1=0.2921 AUROC=0.2988\n",
      "🔖 Saved folder‐best checkpoint (_chp): AAPL_0.24576_chp.pth\n"
     ]
    },
    {
     "data": {
      "application/vnd.jupyter.widget-view+json": {
       "model_id": "8768ebe67dbd4855b0acb643eb675b83",
       "version_major": 2,
       "version_minor": 0
      },
      "text/plain": [
       "Epoch 16:   0%|          | 0/60 [00:00<?, ?batch/s]"
      ]
     },
     "metadata": {},
     "output_type": "display_data"
    },
    {
     "name": "stdout",
     "output_type": "stream",
     "text": [
      "Epoch 016\n",
      "TRAIN→ \"R\": RMSE=0.2511 MAE=0.1916 R2=0.2498 | \"B\": Acc=0.4201 Prec=0.1897 Rec=0.3446 F1=0.2447 AUROC=0.3479\n",
      "VALID→ \"R\": RMSE=0.2454 MAE=0.1824 R2=0.2586 | \"B\": Acc=0.2592 Prec=0.2224 Rec=0.6575 F1=0.3324 AUROC=0.2937\n",
      "🔖 Saved folder‐best checkpoint (_chp): AAPL_0.24544_chp.pth\n"
     ]
    },
    {
     "data": {
      "application/vnd.jupyter.widget-view+json": {
       "model_id": "81098316d5034a46bd5a38f923bf1b2d",
       "version_major": 2,
       "version_minor": 0
      },
      "text/plain": [
       "Epoch 17:   0%|          | 0/60 [00:00<?, ?batch/s]"
      ]
     },
     "metadata": {},
     "output_type": "display_data"
    },
    {
     "name": "stdout",
     "output_type": "stream",
     "text": [
      "Epoch 017\n",
      "TRAIN→ \"R\": RMSE=0.2507 MAE=0.1902 R2=0.2520 | \"B\": Acc=0.4055 Prec=0.1920 Rec=0.3681 F1=0.2524 AUROC=0.3466\n",
      "VALID→ \"R\": RMSE=0.2466 MAE=0.1806 R2=0.2516 | \"B\": Acc=0.2712 Prec=0.1987 Rec=0.5272 F1=0.2886 AUROC=0.2891\n"
     ]
    },
    {
     "data": {
      "application/vnd.jupyter.widget-view+json": {
       "model_id": "e842b960f62c4eb9a0860783312b0c68",
       "version_major": 2,
       "version_minor": 0
      },
      "text/plain": [
       "Epoch 18:   0%|          | 0/60 [00:00<?, ?batch/s]"
      ]
     },
     "metadata": {},
     "output_type": "display_data"
    },
    {
     "name": "stdout",
     "output_type": "stream",
     "text": [
      "Epoch 018\n",
      "TRAIN→ \"R\": RMSE=0.2503 MAE=0.1901 R2=0.2541 | \"B\": Acc=0.4025 Prec=0.1923 Rec=0.3723 F1=0.2536 AUROC=0.3468\n",
      "VALID→ \"R\": RMSE=0.2466 MAE=0.1797 R2=0.2517 | \"B\": Acc=0.2604 Prec=0.2097 Rec=0.5915 F1=0.3097 AUROC=0.2932\n"
     ]
    },
    {
     "data": {
      "application/vnd.jupyter.widget-view+json": {
       "model_id": "ed60a473b9364024b01e0a1fdd45666c",
       "version_major": 2,
       "version_minor": 0
      },
      "text/plain": [
       "Epoch 19:   0%|          | 0/60 [00:00<?, ?batch/s]"
      ]
     },
     "metadata": {},
     "output_type": "display_data"
    },
    {
     "name": "stdout",
     "output_type": "stream",
     "text": [
      "Epoch 019\n",
      "TRAIN→ \"R\": RMSE=0.2504 MAE=0.1899 R2=0.2536 | \"B\": Acc=0.3912 Prec=0.1949 Rec=0.3937 F1=0.2607 AUROC=0.3471\n",
      "VALID→ \"R\": RMSE=0.2453 MAE=0.1926 R2=0.2595 | \"B\": Acc=0.2891 Prec=0.1823 Rec=0.4403 F1=0.2578 AUROC=0.2867\n",
      "🔖 Saved folder‐best checkpoint (_chp): AAPL_0.24528_chp.pth\n"
     ]
    },
    {
     "data": {
      "application/vnd.jupyter.widget-view+json": {
       "model_id": "0129a69f023844ebbb58bfe10c84ba73",
       "version_major": 2,
       "version_minor": 0
      },
      "text/plain": [
       "Epoch 20:   0%|          | 0/60 [00:00<?, ?batch/s]"
      ]
     },
     "metadata": {},
     "output_type": "display_data"
    },
    {
     "name": "stdout",
     "output_type": "stream",
     "text": [
      "Epoch 020\n",
      "TRAIN→ \"R\": RMSE=0.2511 MAE=0.1915 R2=0.2495 | \"B\": Acc=0.4098 Prec=0.1867 Rec=0.3469 F1=0.2427 AUROC=0.3408\n",
      "VALID→ \"R\": RMSE=0.2451 MAE=0.1919 R2=0.2606 | \"B\": Acc=0.2914 Prec=0.1921 Rec=0.4763 F1=0.2738 AUROC=0.3003\n",
      "🔖 Saved folder‐best checkpoint (_chp): AAPL_0.24510_chp.pth\n"
     ]
    },
    {
     "data": {
      "application/vnd.jupyter.widget-view+json": {
       "model_id": "017cf7e7ce4444398acfdca9e1b10082",
       "version_major": 2,
       "version_minor": 0
      },
      "text/plain": [
       "Epoch 21:   0%|          | 0/60 [00:00<?, ?batch/s]"
      ]
     },
     "metadata": {},
     "output_type": "display_data"
    },
    {
     "name": "stdout",
     "output_type": "stream",
     "text": [
      "Epoch 021\n",
      "TRAIN→ \"R\": RMSE=0.2497 MAE=0.1903 R2=0.2579 | \"B\": Acc=0.4085 Prec=0.1892 Rec=0.3559 F1=0.2471 AUROC=0.3452\n",
      "VALID→ \"R\": RMSE=0.2439 MAE=0.1836 R2=0.2676 | \"B\": Acc=0.2643 Prec=0.2041 Rec=0.5599 F1=0.2991 AUROC=0.2944\n",
      "🔖 Saved folder‐best checkpoint (_chp): AAPL_0.24394_chp.pth\n"
     ]
    },
    {
     "data": {
      "application/vnd.jupyter.widget-view+json": {
       "model_id": "543802691e7d43e9ad39f3ed58021377",
       "version_major": 2,
       "version_minor": 0
      },
      "text/plain": [
       "Epoch 22:   0%|          | 0/60 [00:00<?, ?batch/s]"
      ]
     },
     "metadata": {},
     "output_type": "display_data"
    },
    {
     "name": "stdout",
     "output_type": "stream",
     "text": [
      "Epoch 022\n",
      "TRAIN→ \"R\": RMSE=0.2496 MAE=0.1892 R2=0.2584 | \"B\": Acc=0.3794 Prec=0.1885 Rec=0.3862 F1=0.2533 AUROC=0.3348\n",
      "VALID→ \"R\": RMSE=0.2439 MAE=0.1867 R2=0.2681 | \"B\": Acc=0.2730 Prec=0.1962 Rec=0.5142 F1=0.2840 AUROC=0.2958\n",
      "🔖 Saved folder‐best checkpoint (_chp): AAPL_0.24385_chp.pth\n"
     ]
    },
    {
     "data": {
      "application/vnd.jupyter.widget-view+json": {
       "model_id": "6fdf4884bec84c82b4f12b7ae80d4e44",
       "version_major": 2,
       "version_minor": 0
      },
      "text/plain": [
       "Epoch 23:   0%|          | 0/60 [00:00<?, ?batch/s]"
      ]
     },
     "metadata": {},
     "output_type": "display_data"
    },
    {
     "name": "stdout",
     "output_type": "stream",
     "text": [
      "Epoch 023\n",
      "TRAIN→ \"R\": RMSE=0.2495 MAE=0.1882 R2=0.2589 | \"B\": Acc=0.3761 Prec=0.1948 Rec=0.4112 F1=0.2644 AUROC=0.3440\n",
      "VALID→ \"R\": RMSE=0.2451 MAE=0.1913 R2=0.2608 | \"B\": Acc=0.3088 Prec=0.1784 Rec=0.4062 F1=0.2479 AUROC=0.2967\n"
     ]
    },
    {
     "data": {
      "application/vnd.jupyter.widget-view+json": {
       "model_id": "a25b3e4ed3674decb05bfb62d9831ad1",
       "version_major": 2,
       "version_minor": 0
      },
      "text/plain": [
       "Epoch 24:   0%|          | 0/60 [00:00<?, ?batch/s]"
      ]
     },
     "metadata": {},
     "output_type": "display_data"
    },
    {
     "name": "stdout",
     "output_type": "stream",
     "text": [
      "Epoch 024\n",
      "TRAIN→ \"R\": RMSE=0.2498 MAE=0.1905 R2=0.2573 | \"B\": Acc=0.4017 Prec=0.1843 Rec=0.3487 F1=0.2412 AUROC=0.3359\n",
      "VALID→ \"R\": RMSE=0.2440 MAE=0.1841 R2=0.2671 | \"B\": Acc=0.2684 Prec=0.1996 Rec=0.5344 F1=0.2906 AUROC=0.2972\n"
     ]
    },
    {
     "data": {
      "application/vnd.jupyter.widget-view+json": {
       "model_id": "44db2724780048e797cbdbec25bb12a9",
       "version_major": 2,
       "version_minor": 0
      },
      "text/plain": [
       "Epoch 25:   0%|          | 0/60 [00:00<?, ?batch/s]"
      ]
     },
     "metadata": {},
     "output_type": "display_data"
    },
    {
     "name": "stdout",
     "output_type": "stream",
     "text": [
      "Epoch 025\n",
      "TRAIN→ \"R\": RMSE=0.2489 MAE=0.1883 R2=0.2627 | \"B\": Acc=0.3815 Prec=0.1881 Rec=0.3826 F1=0.2522 AUROC=0.3359\n",
      "VALID→ \"R\": RMSE=0.2436 MAE=0.1877 R2=0.2698 | \"B\": Acc=0.2876 Prec=0.1861 Rec=0.4568 F1=0.2645 AUROC=0.2959\n",
      "🔖 Saved folder‐best checkpoint (_chp): AAPL_0.24357_chp.pth\n"
     ]
    },
    {
     "data": {
      "application/vnd.jupyter.widget-view+json": {
       "model_id": "45eeeec01bd8477fb619514f1482629d",
       "version_major": 2,
       "version_minor": 0
      },
      "text/plain": [
       "Epoch 26:   0%|          | 0/60 [00:00<?, ?batch/s]"
      ]
     },
     "metadata": {},
     "output_type": "display_data"
    },
    {
     "name": "stdout",
     "output_type": "stream",
     "text": [
      "Epoch 026\n",
      "TRAIN→ \"R\": RMSE=0.2486 MAE=0.1884 R2=0.2642 | \"B\": Acc=0.3847 Prec=0.1878 Rec=0.3780 F1=0.2509 AUROC=0.3369\n",
      "VALID→ \"R\": RMSE=0.2460 MAE=0.1946 R2=0.2551 | \"B\": Acc=0.3047 Prec=0.1775 Rec=0.4070 F1=0.2472 AUROC=0.2921\n"
     ]
    },
    {
     "data": {
      "application/vnd.jupyter.widget-view+json": {
       "model_id": "8c849af83cdf4ff9843ae216af889b80",
       "version_major": 2,
       "version_minor": 0
      },
      "text/plain": [
       "Epoch 27:   0%|          | 0/60 [00:00<?, ?batch/s]"
      ]
     },
     "metadata": {},
     "output_type": "display_data"
    },
    {
     "name": "stdout",
     "output_type": "stream",
     "text": [
      "Epoch 027\n",
      "TRAIN→ \"R\": RMSE=0.2502 MAE=0.1910 R2=0.2548 | \"B\": Acc=0.3987 Prec=0.1927 Rec=0.3781 F1=0.2553 AUROC=0.3480\n",
      "VALID→ \"R\": RMSE=0.2455 MAE=0.1794 R2=0.2582 | \"B\": Acc=0.2667 Prec=0.2053 Rec=0.5623 F1=0.3007 AUROC=0.3067\n"
     ]
    },
    {
     "data": {
      "application/vnd.jupyter.widget-view+json": {
       "model_id": "a4bec99a2fd14c82a8a2ed8c8efd3e9f",
       "version_major": 2,
       "version_minor": 0
      },
      "text/plain": [
       "Epoch 28:   0%|          | 0/60 [00:00<?, ?batch/s]"
      ]
     },
     "metadata": {},
     "output_type": "display_data"
    },
    {
     "name": "stdout",
     "output_type": "stream",
     "text": [
      "Epoch 028\n",
      "TRAIN→ \"R\": RMSE=0.2511 MAE=0.1915 R2=0.2494 | \"B\": Acc=0.4018 Prec=0.1805 Rec=0.3372 F1=0.2351 AUROC=0.3319\n",
      "VALID→ \"R\": RMSE=0.2441 MAE=0.1887 R2=0.2668 | \"B\": Acc=0.2831 Prec=0.1891 Rec=0.4734 F1=0.2703 AUROC=0.2860\n"
     ]
    },
    {
     "data": {
      "application/vnd.jupyter.widget-view+json": {
       "model_id": "d5be851de18c4345a43631823e3088db",
       "version_major": 2,
       "version_minor": 0
      },
      "text/plain": [
       "Epoch 29:   0%|          | 0/60 [00:00<?, ?batch/s]"
      ]
     },
     "metadata": {},
     "output_type": "display_data"
    },
    {
     "name": "stdout",
     "output_type": "stream",
     "text": [
      "Epoch 029\n",
      "TRAIN→ \"R\": RMSE=0.2485 MAE=0.1882 R2=0.2648 | \"B\": Acc=0.3916 Prec=0.1799 Rec=0.3460 F1=0.2367 AUROC=0.3280\n",
      "VALID→ \"R\": RMSE=0.2439 MAE=0.1886 R2=0.2680 | \"B\": Acc=0.3001 Prec=0.1779 Rec=0.4132 F1=0.2487 AUROC=0.2846\n"
     ]
    },
    {
     "data": {
      "application/vnd.jupyter.widget-view+json": {
       "model_id": "fed446bf845c48cdb392328651d2aed5",
       "version_major": 2,
       "version_minor": 0
      },
      "text/plain": [
       "Epoch 30:   0%|          | 0/60 [00:00<?, ?batch/s]"
      ]
     },
     "metadata": {},
     "output_type": "display_data"
    },
    {
     "name": "stdout",
     "output_type": "stream",
     "text": [
      "Epoch 030\n",
      "TRAIN→ \"R\": RMSE=0.2501 MAE=0.1908 R2=0.2553 | \"B\": Acc=0.3891 Prec=0.1824 Rec=0.3561 F1=0.2412 AUROC=0.3317\n",
      "VALID→ \"R\": RMSE=0.2433 MAE=0.1817 R2=0.2716 | \"B\": Acc=0.2836 Prec=0.1892 Rec=0.4733 F1=0.2703 AUROC=0.2986\n",
      "🔖 Saved folder‐best checkpoint (_chp): AAPL_0.24327_chp.pth\n"
     ]
    },
    {
     "data": {
      "application/vnd.jupyter.widget-view+json": {
       "model_id": "cbaa663d69c749ffbfdb8e463c81644f",
       "version_major": 2,
       "version_minor": 0
      },
      "text/plain": [
       "Epoch 31:   0%|          | 0/60 [00:00<?, ?batch/s]"
      ]
     },
     "metadata": {},
     "output_type": "display_data"
    },
    {
     "name": "stdout",
     "output_type": "stream",
     "text": [
      "Epoch 031\n",
      "TRAIN→ \"R\": RMSE=0.2503 MAE=0.1903 R2=0.2545 | \"B\": Acc=0.4219 Prec=0.1794 Rec=0.3135 F1=0.2282 AUROC=0.3371\n",
      "VALID→ \"R\": RMSE=0.2427 MAE=0.1824 R2=0.2753 | \"B\": Acc=0.2877 Prec=0.1867 Rec=0.4590 F1=0.2654 AUROC=0.2973\n",
      "🔖 Saved folder‐best checkpoint (_chp): AAPL_0.24266_chp.pth\n"
     ]
    },
    {
     "data": {
      "application/vnd.jupyter.widget-view+json": {
       "model_id": "f6865fcc93954bce9186bf2652512487",
       "version_major": 2,
       "version_minor": 0
      },
      "text/plain": [
       "Epoch 32:   0%|          | 0/60 [00:00<?, ?batch/s]"
      ]
     },
     "metadata": {},
     "output_type": "display_data"
    },
    {
     "name": "stdout",
     "output_type": "stream",
     "text": [
      "Epoch 032\n",
      "TRAIN→ \"R\": RMSE=0.2495 MAE=0.1901 R2=0.2588 | \"B\": Acc=0.4200 Prec=0.1785 Rec=0.3129 F1=0.2273 AUROC=0.3355\n",
      "VALID→ \"R\": RMSE=0.2432 MAE=0.1815 R2=0.2718 | \"B\": Acc=0.2811 Prec=0.1932 Rec=0.4925 F1=0.2775 AUROC=0.3054\n"
     ]
    },
    {
     "data": {
      "application/vnd.jupyter.widget-view+json": {
       "model_id": "13231bb80ce04115aa85f0c6f29a588f",
       "version_major": 2,
       "version_minor": 0
      },
      "text/plain": [
       "Epoch 33:   0%|          | 0/60 [00:00<?, ?batch/s]"
      ]
     },
     "metadata": {},
     "output_type": "display_data"
    },
    {
     "name": "stdout",
     "output_type": "stream",
     "text": [
      "Epoch 033\n",
      "TRAIN→ \"R\": RMSE=0.2501 MAE=0.1903 R2=0.2553 | \"B\": Acc=0.4125 Prec=0.1811 Rec=0.3280 F1=0.2334 AUROC=0.3373\n",
      "VALID→ \"R\": RMSE=0.2427 MAE=0.1804 R2=0.2747 | \"B\": Acc=0.2754 Prec=0.1962 Rec=0.5116 F1=0.2837 AUROC=0.3042\n"
     ]
    },
    {
     "data": {
      "application/vnd.jupyter.widget-view+json": {
       "model_id": "1710081465ca42c192f592ec328520af",
       "version_major": 2,
       "version_minor": 0
      },
      "text/plain": [
       "Epoch 34:   0%|          | 0/60 [00:00<?, ?batch/s]"
      ]
     },
     "metadata": {},
     "output_type": "display_data"
    },
    {
     "name": "stdout",
     "output_type": "stream",
     "text": [
      "Epoch 034\n",
      "TRAIN→ \"R\": RMSE=0.2497 MAE=0.1895 R2=0.2576 | \"B\": Acc=0.4092 Prec=0.1808 Rec=0.3303 F1=0.2337 AUROC=0.3360\n",
      "VALID→ \"R\": RMSE=0.2432 MAE=0.1800 R2=0.2722 | \"B\": Acc=0.2743 Prec=0.1980 Rec=0.5206 F1=0.2869 AUROC=0.3041\n"
     ]
    },
    {
     "data": {
      "application/vnd.jupyter.widget-view+json": {
       "model_id": "06142d65bf394499b26cdd4ec14ea1b8",
       "version_major": 2,
       "version_minor": 0
      },
      "text/plain": [
       "Epoch 35:   0%|          | 0/60 [00:00<?, ?batch/s]"
      ]
     },
     "metadata": {},
     "output_type": "display_data"
    },
    {
     "name": "stdout",
     "output_type": "stream",
     "text": [
      "Epoch 035\n",
      "TRAIN→ \"R\": RMSE=0.2496 MAE=0.1897 R2=0.2583 | \"B\": Acc=0.4166 Prec=0.1818 Rec=0.3255 F1=0.2332 AUROC=0.3391\n",
      "VALID→ \"R\": RMSE=0.2423 MAE=0.1804 R2=0.2773 | \"B\": Acc=0.2826 Prec=0.1940 Rec=0.4940 F1=0.2786 AUROC=0.3055\n",
      "🔖 Saved folder‐best checkpoint (_chp): AAPL_0.24233_chp.pth\n"
     ]
    },
    {
     "data": {
      "application/vnd.jupyter.widget-view+json": {
       "model_id": "e3293e974e7f4441bbf06935f7848040",
       "version_major": 2,
       "version_minor": 0
      },
      "text/plain": [
       "Epoch 36:   0%|          | 0/60 [00:00<?, ?batch/s]"
      ]
     },
     "metadata": {},
     "output_type": "display_data"
    },
    {
     "name": "stdout",
     "output_type": "stream",
     "text": [
      "Epoch 036\n",
      "TRAIN→ \"R\": RMSE=0.2491 MAE=0.1887 R2=0.2614 | \"B\": Acc=0.4061 Prec=0.1829 Rec=0.3397 F1=0.2378 AUROC=0.3381\n",
      "VALID→ \"R\": RMSE=0.2424 MAE=0.1818 R2=0.2766 | \"B\": Acc=0.2780 Prec=0.1967 Rec=0.5107 F1=0.2840 AUROC=0.3048\n"
     ]
    },
    {
     "data": {
      "application/vnd.jupyter.widget-view+json": {
       "model_id": "61fff88f15be458185d21a509f11a44f",
       "version_major": 2,
       "version_minor": 0
      },
      "text/plain": [
       "Epoch 37:   0%|          | 0/60 [00:00<?, ?batch/s]"
      ]
     },
     "metadata": {},
     "output_type": "display_data"
    },
    {
     "name": "stdout",
     "output_type": "stream",
     "text": [
      "Epoch 037\n",
      "TRAIN→ \"R\": RMSE=0.2491 MAE=0.1892 R2=0.2612 | \"B\": Acc=0.4112 Prec=0.1829 Rec=0.3345 F1=0.2365 AUROC=0.3406\n",
      "VALID→ \"R\": RMSE=0.2418 MAE=0.1799 R2=0.2803 | \"B\": Acc=0.2832 Prec=0.1957 Rec=0.5002 F1=0.2813 AUROC=0.3085\n",
      "🔖 Saved folder‐best checkpoint (_chp): AAPL_0.24182_chp.pth\n"
     ]
    },
    {
     "data": {
      "application/vnd.jupyter.widget-view+json": {
       "model_id": "79add7b81d594560bd3dd4e75e16d30c",
       "version_major": 2,
       "version_minor": 0
      },
      "text/plain": [
       "Epoch 38:   0%|          | 0/60 [00:00<?, ?batch/s]"
      ]
     },
     "metadata": {},
     "output_type": "display_data"
    },
    {
     "name": "stdout",
     "output_type": "stream",
     "text": [
      "Epoch 038\n",
      "TRAIN→ \"R\": RMSE=0.2488 MAE=0.1885 R2=0.2631 | \"B\": Acc=0.4154 Prec=0.1818 Rec=0.3269 F1=0.2336 AUROC=0.3404\n",
      "VALID→ \"R\": RMSE=0.2421 MAE=0.1806 R2=0.2786 | \"B\": Acc=0.2767 Prec=0.1984 Rec=0.5195 F1=0.2872 AUROC=0.3063\n"
     ]
    },
    {
     "data": {
      "application/vnd.jupyter.widget-view+json": {
       "model_id": "970353f77f634031b9f8c94c0c7df270",
       "version_major": 2,
       "version_minor": 0
      },
      "text/plain": [
       "Epoch 39:   0%|          | 0/60 [00:00<?, ?batch/s]"
      ]
     },
     "metadata": {},
     "output_type": "display_data"
    },
    {
     "name": "stdout",
     "output_type": "stream",
     "text": [
      "Epoch 039\n",
      "TRAIN→ \"R\": RMSE=0.2488 MAE=0.1886 R2=0.2634 | \"B\": Acc=0.4111 Prec=0.1837 Rec=0.3369 F1=0.2378 AUROC=0.3419\n",
      "VALID→ \"R\": RMSE=0.2416 MAE=0.1804 R2=0.2818 | \"B\": Acc=0.2875 Prec=0.1947 Rec=0.4912 F1=0.2789 AUROC=0.3084\n",
      "🔖 Saved folder‐best checkpoint (_chp): AAPL_0.24156_chp.pth\n"
     ]
    },
    {
     "data": {
      "application/vnd.jupyter.widget-view+json": {
       "model_id": "a62acdcf620b46058108a778cea1217d",
       "version_major": 2,
       "version_minor": 0
      },
      "text/plain": [
       "Epoch 40:   0%|          | 0/60 [00:00<?, ?batch/s]"
      ]
     },
     "metadata": {},
     "output_type": "display_data"
    },
    {
     "name": "stdout",
     "output_type": "stream",
     "text": [
      "Epoch 040\n",
      "TRAIN→ \"R\": RMSE=0.2485 MAE=0.1882 R2=0.2650 | \"B\": Acc=0.4217 Prec=0.1844 Rec=0.3274 F1=0.2359 AUROC=0.3455\n",
      "VALID→ \"R\": RMSE=0.2417 MAE=0.1809 R2=0.2809 | \"B\": Acc=0.2850 Prec=0.1950 Rec=0.4953 F1=0.2798 AUROC=0.3057\n"
     ]
    },
    {
     "data": {
      "application/vnd.jupyter.widget-view+json": {
       "model_id": "c7135f788bbb4313bf33d9ebb6dccc83",
       "version_major": 2,
       "version_minor": 0
      },
      "text/plain": [
       "Epoch 41:   0%|          | 0/60 [00:00<?, ?batch/s]"
      ]
     },
     "metadata": {},
     "output_type": "display_data"
    },
    {
     "name": "stdout",
     "output_type": "stream",
     "text": [
      "Epoch 041\n",
      "TRAIN→ \"R\": RMSE=0.2482 MAE=0.1881 R2=0.2665 | \"B\": Acc=0.4085 Prec=0.1838 Rec=0.3399 F1=0.2386 AUROC=0.3418\n",
      "VALID→ \"R\": RMSE=0.2416 MAE=0.1809 R2=0.2818 | \"B\": Acc=0.2870 Prec=0.1965 Rec=0.4995 F1=0.2821 AUROC=0.3096\n",
      "🔖 Saved folder‐best checkpoint (_chp): AAPL_0.24156_chp.pth\n"
     ]
    },
    {
     "data": {
      "application/vnd.jupyter.widget-view+json": {
       "model_id": "db06743dff524feb9712f433f4815f59",
       "version_major": 2,
       "version_minor": 0
      },
      "text/plain": [
       "Epoch 42:   0%|          | 0/60 [00:00<?, ?batch/s]"
      ]
     },
     "metadata": {},
     "output_type": "display_data"
    },
    {
     "name": "stdout",
     "output_type": "stream",
     "text": [
      "Epoch 042\n",
      "TRAIN→ \"R\": RMSE=0.2481 MAE=0.1875 R2=0.2675 | \"B\": Acc=0.4072 Prec=0.1854 Rec=0.3461 F1=0.2415 AUROC=0.3438\n",
      "VALID→ \"R\": RMSE=0.2421 MAE=0.1791 R2=0.2788 | \"B\": Acc=0.2841 Prec=0.2001 Rec=0.5179 F1=0.2886 AUROC=0.3127\n"
     ]
    },
    {
     "data": {
      "application/vnd.jupyter.widget-view+json": {
       "model_id": "b7415defd9324a1481f45904729b91ca",
       "version_major": 2,
       "version_minor": 0
      },
      "text/plain": [
       "Epoch 43:   0%|          | 0/60 [00:00<?, ?batch/s]"
      ]
     },
     "metadata": {},
     "output_type": "display_data"
    },
    {
     "name": "stdout",
     "output_type": "stream",
     "text": [
      "Epoch 043\n",
      "TRAIN→ \"R\": RMSE=0.2481 MAE=0.1869 R2=0.2672 | \"B\": Acc=0.4064 Prec=0.1855 Rec=0.3471 F1=0.2418 AUROC=0.3434\n",
      "VALID→ \"R\": RMSE=0.2410 MAE=0.1810 R2=0.2853 | \"B\": Acc=0.2925 Prec=0.1923 Rec=0.4759 F1=0.2739 AUROC=0.3046\n",
      "🔖 Saved folder‐best checkpoint (_chp): AAPL_0.24098_chp.pth\n"
     ]
    },
    {
     "data": {
      "application/vnd.jupyter.widget-view+json": {
       "model_id": "a6c1ddf78a644105a59cdbe484153054",
       "version_major": 2,
       "version_minor": 0
      },
      "text/plain": [
       "Epoch 44:   0%|          | 0/60 [00:00<?, ?batch/s]"
      ]
     },
     "metadata": {},
     "output_type": "display_data"
    },
    {
     "name": "stdout",
     "output_type": "stream",
     "text": [
      "Epoch 044\n",
      "TRAIN→ \"R\": RMSE=0.2477 MAE=0.1886 R2=0.2698 | \"B\": Acc=0.4093 Prec=0.1830 Rec=0.3368 F1=0.2372 AUROC=0.3412\n",
      "VALID→ \"R\": RMSE=0.2410 MAE=0.1788 R2=0.2854 | \"B\": Acc=0.2884 Prec=0.1939 Rec=0.4872 F1=0.2774 AUROC=0.3030\n",
      "🔖 Saved folder‐best checkpoint (_chp): AAPL_0.24095_chp.pth\n"
     ]
    },
    {
     "data": {
      "application/vnd.jupyter.widget-view+json": {
       "model_id": "22675010a25a4d2b8bd92b3b1e1f1a2e",
       "version_major": 2,
       "version_minor": 0
      },
      "text/plain": [
       "Epoch 45:   0%|          | 0/60 [00:00<?, ?batch/s]"
      ]
     },
     "metadata": {},
     "output_type": "display_data"
    },
    {
     "name": "stdout",
     "output_type": "stream",
     "text": [
      "Epoch 045\n",
      "TRAIN→ \"R\": RMSE=0.2474 MAE=0.1876 R2=0.2715 | \"B\": Acc=0.4178 Prec=0.1801 Rec=0.3197 F1=0.2304 AUROC=0.3400\n",
      "VALID→ \"R\": RMSE=0.2411 MAE=0.1794 R2=0.2848 | \"B\": Acc=0.2913 Prec=0.1940 Rec=0.4840 F1=0.2769 AUROC=0.3049\n"
     ]
    },
    {
     "data": {
      "application/vnd.jupyter.widget-view+json": {
       "model_id": "6a68140ab7674fde917bb14034f3e00a",
       "version_major": 2,
       "version_minor": 0
      },
      "text/plain": [
       "Epoch 46:   0%|          | 0/60 [00:00<?, ?batch/s]"
      ]
     },
     "metadata": {},
     "output_type": "display_data"
    },
    {
     "name": "stdout",
     "output_type": "stream",
     "text": [
      "Epoch 046\n",
      "TRAIN→ \"R\": RMSE=0.2473 MAE=0.1867 R2=0.2723 | \"B\": Acc=0.4134 Prec=0.1817 Rec=0.3287 F1=0.2341 AUROC=0.3414\n",
      "VALID→ \"R\": RMSE=0.2407 MAE=0.1807 R2=0.2868 | \"B\": Acc=0.2944 Prec=0.1921 Rec=0.4731 F1=0.2733 AUROC=0.3039\n",
      "🔖 Saved folder‐best checkpoint (_chp): AAPL_0.24072_chp.pth\n"
     ]
    },
    {
     "data": {
      "application/vnd.jupyter.widget-view+json": {
       "model_id": "d8961d3dd8ef4eeeacf7138460f87aea",
       "version_major": 2,
       "version_minor": 0
      },
      "text/plain": [
       "Epoch 47:   0%|          | 0/60 [00:00<?, ?batch/s]"
      ]
     },
     "metadata": {},
     "output_type": "display_data"
    },
    {
     "name": "stdout",
     "output_type": "stream",
     "text": [
      "Epoch 047\n",
      "TRAIN→ \"R\": RMSE=0.2473 MAE=0.1880 R2=0.2718 | \"B\": Acc=0.4069 Prec=0.1795 Rec=0.3292 F1=0.2324 AUROC=0.3367\n",
      "VALID→ \"R\": RMSE=0.2413 MAE=0.1778 R2=0.2833 | \"B\": Acc=0.2951 Prec=0.1866 Rec=0.4504 F1=0.2638 AUROC=0.2984\n"
     ]
    },
    {
     "data": {
      "application/vnd.jupyter.widget-view+json": {
       "model_id": "0cacab903b634b6dbe5f1972c5e2688c",
       "version_major": 2,
       "version_minor": 0
      },
      "text/plain": [
       "Epoch 48:   0%|          | 0/60 [00:00<?, ?batch/s]"
      ]
     },
     "metadata": {},
     "output_type": "display_data"
    },
    {
     "name": "stdout",
     "output_type": "stream",
     "text": [
      "Epoch 048\n",
      "TRAIN→ \"R\": RMSE=0.2474 MAE=0.1868 R2=0.2713 | \"B\": Acc=0.4217 Prec=0.1765 Rec=0.3057 F1=0.2238 AUROC=0.3363\n",
      "VALID→ \"R\": RMSE=0.2404 MAE=0.1813 R2=0.2887 | \"B\": Acc=0.3045 Prec=0.1825 Rec=0.4254 F1=0.2554 AUROC=0.2966\n",
      "🔖 Saved folder‐best checkpoint (_chp): AAPL_0.24039_chp.pth\n"
     ]
    },
    {
     "data": {
      "application/vnd.jupyter.widget-view+json": {
       "model_id": "57ddd96c10244812a08d046f3c90697b",
       "version_major": 2,
       "version_minor": 0
      },
      "text/plain": [
       "Epoch 49:   0%|          | 0/60 [00:00<?, ?batch/s]"
      ]
     },
     "metadata": {},
     "output_type": "display_data"
    },
    {
     "name": "stdout",
     "output_type": "stream",
     "text": [
      "Epoch 049\n",
      "TRAIN→ \"R\": RMSE=0.2468 MAE=0.1877 R2=0.2752 | \"B\": Acc=0.4084 Prec=0.1795 Rec=0.3275 F1=0.2319 AUROC=0.3363\n",
      "VALID→ \"R\": RMSE=0.2408 MAE=0.1785 R2=0.2865 | \"B\": Acc=0.2968 Prec=0.1873 Rec=0.4516 F1=0.2648 AUROC=0.2965\n"
     ]
    },
    {
     "data": {
      "application/vnd.jupyter.widget-view+json": {
       "model_id": "efac6aab125946348743e920745f7eaa",
       "version_major": 2,
       "version_minor": 0
      },
      "text/plain": [
       "Epoch 50:   0%|          | 0/60 [00:00<?, ?batch/s]"
      ]
     },
     "metadata": {},
     "output_type": "display_data"
    },
    {
     "name": "stdout",
     "output_type": "stream",
     "text": [
      "Epoch 050\n",
      "TRAIN→ \"R\": RMSE=0.2467 MAE=0.1865 R2=0.2755 | \"B\": Acc=0.4096 Prec=0.1801 Rec=0.3280 F1=0.2325 AUROC=0.3378\n",
      "VALID→ \"R\": RMSE=0.2409 MAE=0.1784 R2=0.2855 | \"B\": Acc=0.2871 Prec=0.1937 Rec=0.4876 F1=0.2772 AUROC=0.2993\n"
     ]
    },
    {
     "data": {
      "application/vnd.jupyter.widget-view+json": {
       "model_id": "920d012c4f5246ba8df4c5c4013c7c29",
       "version_major": 2,
       "version_minor": 0
      },
      "text/plain": [
       "Epoch 51:   0%|          | 0/60 [00:00<?, ?batch/s]"
      ]
     },
     "metadata": {},
     "output_type": "display_data"
    },
    {
     "name": "stdout",
     "output_type": "stream",
     "text": [
      "Epoch 051\n",
      "TRAIN→ \"R\": RMSE=0.2465 MAE=0.1867 R2=0.2770 | \"B\": Acc=0.4020 Prec=0.1805 Rec=0.3370 F1=0.2350 AUROC=0.3368\n",
      "VALID→ \"R\": RMSE=0.2412 MAE=0.1783 R2=0.2842 | \"B\": Acc=0.2935 Prec=0.1890 Rec=0.4618 F1=0.2683 AUROC=0.2975\n"
     ]
    },
    {
     "data": {
      "application/vnd.jupyter.widget-view+json": {
       "model_id": "3f97e4df24214a90941cf5a82a6aa4fa",
       "version_major": 2,
       "version_minor": 0
      },
      "text/plain": [
       "Epoch 52:   0%|          | 0/60 [00:00<?, ?batch/s]"
      ]
     },
     "metadata": {},
     "output_type": "display_data"
    },
    {
     "name": "stdout",
     "output_type": "stream",
     "text": [
      "Epoch 052\n",
      "TRAIN→ \"R\": RMSE=0.2465 MAE=0.1860 R2=0.2769 | \"B\": Acc=0.4009 Prec=0.1794 Rec=0.3350 F1=0.2337 AUROC=0.3345\n",
      "VALID→ \"R\": RMSE=0.2406 MAE=0.1795 R2=0.2877 | \"B\": Acc=0.3002 Prec=0.1873 Rec=0.4481 F1=0.2642 AUROC=0.3001\n"
     ]
    },
    {
     "data": {
      "application/vnd.jupyter.widget-view+json": {
       "model_id": "1c8c45734fd944fbab0f198da587bb59",
       "version_major": 2,
       "version_minor": 0
      },
      "text/plain": [
       "Epoch 53:   0%|          | 0/60 [00:00<?, ?batch/s]"
      ]
     },
     "metadata": {},
     "output_type": "display_data"
    },
    {
     "name": "stdout",
     "output_type": "stream",
     "text": [
      "Epoch 053\n",
      "TRAIN→ \"R\": RMSE=0.2463 MAE=0.1867 R2=0.2781 | \"B\": Acc=0.3991 Prec=0.1822 Rec=0.3450 F1=0.2384 AUROC=0.3370\n",
      "VALID→ \"R\": RMSE=0.2412 MAE=0.1781 R2=0.2841 | \"B\": Acc=0.2960 Prec=0.1880 Rec=0.4550 F1=0.2661 AUROC=0.2976\n"
     ]
    },
    {
     "data": {
      "application/vnd.jupyter.widget-view+json": {
       "model_id": "ab4f803d77d24470ac99997a186bcc0f",
       "version_major": 2,
       "version_minor": 0
      },
      "text/plain": [
       "Epoch 54:   0%|          | 0/60 [00:00<?, ?batch/s]"
      ]
     },
     "metadata": {},
     "output_type": "display_data"
    },
    {
     "name": "stdout",
     "output_type": "stream",
     "text": [
      "Epoch 054\n",
      "TRAIN→ \"R\": RMSE=0.2463 MAE=0.1864 R2=0.2777 | \"B\": Acc=0.4016 Prec=0.1786 Rec=0.3320 F1=0.2323 AUROC=0.3336\n",
      "VALID→ \"R\": RMSE=0.2406 MAE=0.1794 R2=0.2875 | \"B\": Acc=0.3028 Prec=0.1838 Rec=0.4318 F1=0.2578 AUROC=0.2972\n",
      "Early stopping at epoch 54\n",
      "✅ Final best model (_fin) saved: AAPL_0.24039_fin.pth\n",
      "Delete variables to free memory...\n"
     ]
    },
    {
     "name": "stderr",
     "output_type": "stream",
     "text": [
      "[I 2025-09-18 20:13:06,810] Trial 1 finished with value: 0.24039407074451447 and parameters: {'look_back': 90, 'DROPOUT_SHORT': 0.13086041365374274, 'DROPOUT_LONG': 0.16965873863642492, 'ATT_DROPOUT': 0.07573988360973218, 'INITIAL_LR': 0.00038936908999260997, 'ETA_MIN': 6.706829819819508e-06, 'WEIGHT_DECAY': 0.006118864071633351, 'CLIPNORM': 0.5348697391669399}. Best is trial 1 with value: 0.24039407074451447.\n"
     ]
    },
    {
     "name": "stdout",
     "output_type": "stream",
     "text": [
      "\n",
      "▶ Trial 2 starting with:\n",
      "{'look_back': 90, 'DROPOUT_SHORT': 0.33170857213912447, 'DROPOUT_LONG': 0.3024892715686228, 'ATT_DROPOUT': 0.07868937748133675, 'INITIAL_LR': 1.0812832487300233e-05, 'ETA_MIN': 6.717152906291489e-06, 'WEIGHT_DECAY': 0.0012530703694162708, 'CLIPNORM': 2.1297849257576766}\n",
      "\n",
      "Build LSTM input tensors (disk-backed memmaps)...\n",
      "Inside build_tensors, features: ['adx_14', 'atr_14', 'ret', 'atr_pct_14', 'log_ret', 'macd_signal_12_26_9', 'bb_hband_20', 'body', 'bb_w_20', 'eng_vwap', 'minus_di_14', 'body_pct', 'hour', 'eng_obv', 'vol_spike_14', 'macd_diff_12_26_9', 'sma_28', 'eng_sma_long', 'obv_pct_14', 'eng_macd']\n"
     ]
    },
    {
     "data": {
      "application/vnd.jupyter.widget-view+json": {
       "model_id": "84ec88a452dc4ff79533c8eaa41a6db8",
       "version_major": 2,
       "version_minor": 0
      },
      "text/plain": [
       "Counting windows:   0%|          | 0/5400 [00:00<?, ?it/s]"
      ]
     },
     "metadata": {},
     "output_type": "display_data"
    },
    {
     "data": {
      "application/vnd.jupyter.widget-view+json": {
       "model_id": "6e3b98d544bd461d8e239425ae6be596",
       "version_major": 2,
       "version_minor": 0
      },
      "text/plain": [
       "Writing memmaps:   0%|          | 0/5400 [00:00<?, ?it/s]"
      ]
     },
     "metadata": {},
     "output_type": "display_data"
    },
    {
     "name": "stdout",
     "output_type": "stream",
     "text": [
      "Split into train/val/test by calendar day...\n",
      "Carve `end_times` into the same three splits...\n",
      "Build DataLoaders over calendar‐days...\n"
     ]
    },
    {
     "data": {
      "application/vnd.jupyter.widget-view+json": {
       "model_id": "2d5f29ed738246f6ac1d7e6547b0fa54",
       "version_major": 2,
       "version_minor": 0
      },
      "text/plain": [
       "Creating DayWindowDatasets:   0%|          | 0/3 [00:00<?, ?split/s]"
      ]
     },
     "metadata": {},
     "output_type": "display_data"
    },
    {
     "name": "stdout",
     "output_type": "stream",
     "text": [
      "Instantiate the stateful DualMemoryLSTM...\n",
      "Build optimizer, LR scheduler, AMP scaler, and gradient‐clip norm...\n",
      "Run the custom stateful training loop...\n"
     ]
    },
    {
     "data": {
      "image/png": "[encoded data removed]",
      "text/plain": [
       "<Figure size 660x440 with 1 Axes>"
      ]
     },
     "metadata": {},
     "output_type": "display_data"
    },
    {
     "data": {
      "application/vnd.jupyter.widget-view+json": {
       "model_id": "20371ae1cf9049569955441fa65b6ae5",
       "version_major": 2,
       "version_minor": 0
      },
      "text/plain": [
       "Epoch 1:   0%|          | 0/60 [00:01<?, ?batch/s]"
      ]
     },
     "metadata": {},
     "output_type": "display_data"
    },
    {
     "name": "stdout",
     "output_type": "stream",
     "text": [
      "Epoch 001\n",
      "TRAIN→ \"R\": RMSE=0.3529 MAE=0.3156 R2=-0.4826 | \"B\": Acc=0.4369 Prec=0.2668 Rec=0.6093 F1=0.3711 AUROC=0.4871\n",
      "VALID→ \"R\": RMSE=0.2894 MAE=0.2360 R2=-0.0312 | \"B\": Acc=0.2804 Prec=0.2804 Rec=1.0000 F1=0.4380 AUROC=0.5548\n"
     ]
    },
    {
     "data": {
      "application/vnd.jupyter.widget-view+json": {
       "model_id": "42f75e20710b4caba47e3aa74e7856ba",
       "version_major": 2,
       "version_minor": 0
      },
      "text/plain": [
       "Epoch 2:   0%|          | 0/60 [00:00<?, ?batch/s]"
      ]
     },
     "metadata": {},
     "output_type": "display_data"
    },
    {
     "name": "stdout",
     "output_type": "stream",
     "text": [
      "Epoch 002\n",
      "TRAIN→ \"R\": RMSE=0.3080 MAE=0.2601 R2=-0.1291 | \"B\": Acc=0.3705 Prec=0.2707 Rec=0.7724 F1=0.4009 AUROC=0.4927\n",
      "VALID→ \"R\": RMSE=0.2954 MAE=0.2103 R2=-0.0738 | \"B\": Acc=0.2804 Prec=0.2804 Rec=1.0000 F1=0.4380 AUROC=0.5144\n"
     ]
    },
    {
     "data": {
      "application/vnd.jupyter.widget-view+json": {
       "model_id": "895cb59abc75416ab437c124b4fb5c18",
       "version_major": 2,
       "version_minor": 0
      },
      "text/plain": [
       "Epoch 3:   0%|          | 0/60 [00:00<?, ?batch/s]"
      ]
     },
     "metadata": {},
     "output_type": "display_data"
    },
    {
     "name": "stdout",
     "output_type": "stream",
     "text": [
      "Epoch 003\n",
      "TRAIN→ \"R\": RMSE=0.2970 MAE=0.2367 R2=-0.0502 | \"B\": Acc=0.3449 Prec=0.2724 Rec=0.8392 F1=0.4113 AUROC=0.4979\n",
      "VALID→ \"R\": RMSE=0.3054 MAE=0.2076 R2=-0.1483 | \"B\": Acc=0.2804 Prec=0.2804 Rec=1.0000 F1=0.4380 AUROC=0.4693\n"
     ]
    },
    {
     "data": {
      "application/vnd.jupyter.widget-view+json": {
       "model_id": "ee5456e8e7a04568921766a7966b6e3b",
       "version_major": 2,
       "version_minor": 0
      },
      "text/plain": [
       "Epoch 4:   0%|          | 0/60 [00:00<?, ?batch/s]"
      ]
     },
     "metadata": {},
     "output_type": "display_data"
    },
    {
     "name": "stdout",
     "output_type": "stream",
     "text": [
      "Epoch 004\n",
      "TRAIN→ \"R\": RMSE=0.2961 MAE=0.2294 R2=-0.0440 | \"B\": Acc=0.3377 Prec=0.2725 Rec=0.8559 F1=0.4134 AUROC=0.4998\n",
      "VALID→ \"R\": RMSE=0.3078 MAE=0.2075 R2=-0.1657 | \"B\": Acc=0.2804 Prec=0.2804 Rec=1.0000 F1=0.4380 AUROC=0.4644\n"
     ]
    },
    {
     "data": {
      "application/vnd.jupyter.widget-view+json": {
       "model_id": "302e28031b814ed586b161ac3432a944",
       "version_major": 2,
       "version_minor": 0
      },
      "text/plain": [
       "Epoch 5:   0%|          | 0/60 [00:00<?, ?batch/s]"
      ]
     },
     "metadata": {},
     "output_type": "display_data"
    },
    {
     "name": "stdout",
     "output_type": "stream",
     "text": [
      "Epoch 005\n",
      "TRAIN→ \"R\": RMSE=0.2956 MAE=0.2265 R2=-0.0404 | \"B\": Acc=0.3372 Prec=0.2726 Rec=0.8579 F1=0.4138 AUROC=0.5001\n",
      "VALID→ \"R\": RMSE=0.3086 MAE=0.2073 R2=-0.1722 | \"B\": Acc=0.2804 Prec=0.2804 Rec=1.0000 F1=0.4380 AUROC=0.4626\n"
     ]
    },
    {
     "data": {
      "application/vnd.jupyter.widget-view+json": {
       "model_id": "f1d3f6431b9240a5806a909e017ffa24",
       "version_major": 2,
       "version_minor": 0
      },
      "text/plain": [
       "Epoch 6:   0%|          | 0/60 [00:00<?, ?batch/s]"
      ]
     },
     "metadata": {},
     "output_type": "display_data"
    },
    {
     "name": "stdout",
     "output_type": "stream",
     "text": [
      "Epoch 006\n",
      "TRAIN→ \"R\": RMSE=0.2951 MAE=0.2249 R2=-0.0369 | \"B\": Acc=0.3391 Prec=0.2728 Rec=0.8552 F1=0.4137 AUROC=0.5004\n",
      "VALID→ \"R\": RMSE=0.3084 MAE=0.2071 R2=-0.1705 | \"B\": Acc=0.2804 Prec=0.2804 Rec=1.0000 F1=0.4380 AUROC=0.4612\n"
     ]
    },
    {
     "data": {
      "application/vnd.jupyter.widget-view+json": {
       "model_id": "f21bbbe776df4fc1a676f118ed56e9b2",
       "version_major": 2,
       "version_minor": 0
      },
      "text/plain": [
       "Epoch 7:   0%|          | 0/60 [00:00<?, ?batch/s]"
      ]
     },
     "metadata": {},
     "output_type": "display_data"
    },
    {
     "name": "stdout",
     "output_type": "stream",
     "text": [
      "Epoch 007\n",
      "TRAIN→ \"R\": RMSE=0.2945 MAE=0.2240 R2=-0.0322 | \"B\": Acc=0.3416 Prec=0.2724 Rec=0.8465 F1=0.4122 AUROC=0.4986\n",
      "VALID→ \"R\": RMSE=0.3075 MAE=0.2068 R2=-0.1639 | \"B\": Acc=0.2804 Prec=0.2804 Rec=1.0000 F1=0.4380 AUROC=0.4580\n",
      "Early stopping at epoch 7\n",
      "✅ Final best model (_fin) saved: AAPL_0.28945_fin.pth\n",
      "Delete variables to free memory...\n"
     ]
    },
    {
     "name": "stderr",
     "output_type": "stream",
     "text": [
      "[I 2025-09-18 20:26:18,700] Trial 2 finished with value: 0.2894492447376251 and parameters: {'look_back': 90, 'DROPOUT_SHORT': 0.33170857213912447, 'DROPOUT_LONG': 0.3024892715686228, 'ATT_DROPOUT': 0.07868937748133675, 'INITIAL_LR': 1.0812832487300233e-05, 'ETA_MIN': 6.717152906291489e-06, 'WEIGHT_DECAY': 0.0012530703694162708, 'CLIPNORM': 2.1297849257576766}. Best is trial 1 with value: 0.24039407074451447.\n"
     ]
    },
    {
     "name": "stdout",
     "output_type": "stream",
     "text": [
      "\n",
      "▶ Trial 3 starting with:\n",
      "{'look_back': 60, 'DROPOUT_SHORT': 0.19972960093106967, 'DROPOUT_LONG': 0.29165243303083405, 'ATT_DROPOUT': 0.13242372250905166, 'INITIAL_LR': 8.912597472476992e-05, 'ETA_MIN': 2.1069357381732355e-06, 'WEIGHT_DECAY': 9.149246671922074e-05, 'CLIPNORM': 8.887892717513264}\n",
      "\n",
      "Build LSTM input tensors (disk-backed memmaps)...\n",
      "Inside build_tensors, features: ['adx_14', 'atr_14', 'ret', 'atr_pct_14', 'log_ret', 'macd_signal_12_26_9', 'bb_hband_20', 'body', 'bb_w_20', 'eng_vwap', 'minus_di_14', 'body_pct', 'hour', 'eng_obv', 'vol_spike_14', 'macd_diff_12_26_9', 'sma_28', 'eng_sma_long', 'obv_pct_14', 'eng_macd']\n"
     ]
    },
    {
     "data": {
      "application/vnd.jupyter.widget-view+json": {
       "model_id": "cb6d77112fdb4abf8edd547a30edfb7a",
       "version_major": 2,
       "version_minor": 0
      },
      "text/plain": [
       "Counting windows:   0%|          | 0/5400 [00:00<?, ?it/s]"
      ]
     },
     "metadata": {},
     "output_type": "display_data"
    },
    {
     "data": {
      "application/vnd.jupyter.widget-view+json": {
       "model_id": "3d88d3243355487eb4a2dccaa368e8f7",
       "version_major": 2,
       "version_minor": 0
      },
      "text/plain": [
       "Writing memmaps:   0%|          | 0/5400 [00:00<?, ?it/s]"
      ]
     },
     "metadata": {},
     "output_type": "display_data"
    },
    {
     "name": "stdout",
     "output_type": "stream",
     "text": [
      "Split into train/val/test by calendar day...\n",
      "Carve `end_times` into the same three splits...\n",
      "Build DataLoaders over calendar‐days...\n"
     ]
    },
    {
     "data": {
      "application/vnd.jupyter.widget-view+json": {
       "model_id": "285a6a2eeb03434e9424cefd6fc7bbc3",
       "version_major": 2,
       "version_minor": 0
      },
      "text/plain": [
       "Creating DayWindowDatasets:   0%|          | 0/3 [00:00<?, ?split/s]"
      ]
     },
     "metadata": {},
     "output_type": "display_data"
    },
    {
     "name": "stdout",
     "output_type": "stream",
     "text": [
      "Instantiate the stateful DualMemoryLSTM...\n",
      "Build optimizer, LR scheduler, AMP scaler, and gradient‐clip norm...\n",
      "Run the custom stateful training loop...\n"
     ]
    },
    {
     "data": {
      "image/png": "[encoded data removed]",
      "text/plain": [
       "<Figure size 660x440 with 1 Axes>"
      ]
     },
     "metadata": {},
     "output_type": "display_data"
    },
    {
     "data": {
      "application/vnd.jupyter.widget-view+json": {
       "model_id": "8ca4c550e3934669805b4f2aa1e17c54",
       "version_major": 2,
       "version_minor": 0
      },
      "text/plain": [
       "Epoch 1:   0%|          | 0/60 [00:02<?, ?batch/s]"
      ]
     },
     "metadata": {},
     "output_type": "display_data"
    },
    {
     "name": "stdout",
     "output_type": "stream",
     "text": [
      "Epoch 001\n",
      "TRAIN→ \"R\": RMSE=0.2943 MAE=0.2288 R2=-0.0264 | \"B\": Acc=0.6143 Prec=0.2744 Rec=0.2397 F1=0.2558 AUROC=0.4956\n",
      "VALID→ \"R\": RMSE=0.3011 MAE=0.2056 R2=-0.1004 | \"B\": Acc=0.7117 Prec=0.4855 Rec=0.0609 F1=0.1082 AUROC=0.6308\n"
     ]
    },
    {
     "data": {
      "application/vnd.jupyter.widget-view+json": {
       "model_id": "8c0627a0c8544a949472d483ce5095fe",
       "version_major": 2,
       "version_minor": 0
      },
      "text/plain": [
       "Epoch 2:   0%|          | 0/60 [00:00<?, ?batch/s]"
      ]
     },
     "metadata": {},
     "output_type": "display_data"
    },
    {
     "name": "stdout",
     "output_type": "stream",
     "text": [
      "Epoch 002\n",
      "TRAIN→ \"R\": RMSE=0.2963 MAE=0.2355 R2=-0.0406 | \"B\": Acc=0.5609 Prec=0.2821 Rec=0.3801 F1=0.3238 AUROC=0.5070\n",
      "VALID→ \"R\": RMSE=0.3027 MAE=0.2044 R2=-0.1123 | \"B\": Acc=0.7106 Prec=0.4890 Rec=0.1633 F1=0.2448 AUROC=0.6429\n"
     ]
    },
    {
     "data": {
      "application/vnd.jupyter.widget-view+json": {
       "model_id": "27559dad4e28450abcd407799a5d8aee",
       "version_major": 2,
       "version_minor": 0
      },
      "text/plain": [
       "Epoch 3:   0%|          | 0/60 [00:00<?, ?batch/s]"
      ]
     },
     "metadata": {},
     "output_type": "display_data"
    },
    {
     "name": "stdout",
     "output_type": "stream",
     "text": [
      "Epoch 003\n",
      "TRAIN→ \"R\": RMSE=0.2922 MAE=0.2269 R2=-0.0118 | \"B\": Acc=0.5450 Prec=0.2822 Rec=0.4177 F1=0.3368 AUROC=0.5078\n",
      "VALID→ \"R\": RMSE=0.2946 MAE=0.2023 R2=-0.0538 | \"B\": Acc=0.6909 Prec=0.4538 Rec=0.3722 F1=0.4089 AUROC=0.6556\n"
     ]
    },
    {
     "data": {
      "application/vnd.jupyter.widget-view+json": {
       "model_id": "26ed2027741242d4ae17755df68e0751",
       "version_major": 2,
       "version_minor": 0
      },
      "text/plain": [
       "Epoch 4:   0%|          | 0/60 [00:00<?, ?batch/s]"
      ]
     },
     "metadata": {},
     "output_type": "display_data"
    },
    {
     "name": "stdout",
     "output_type": "stream",
     "text": [
      "Epoch 004\n",
      "TRAIN→ \"R\": RMSE=0.2889 MAE=0.2250 R2=0.0108 | \"B\": Acc=0.5381 Prec=0.2865 Rec=0.4495 F1=0.3499 AUROC=0.5154\n",
      "VALID→ \"R\": RMSE=0.2875 MAE=0.2004 R2=-0.0033 | \"B\": Acc=0.6699 Prec=0.4334 Rec=0.4851 F1=0.4578 AUROC=0.6647\n"
     ]
    },
    {
     "data": {
      "application/vnd.jupyter.widget-view+json": {
       "model_id": "ac7779bc9af84c9693cfe9313e605434",
       "version_major": 2,
       "version_minor": 0
      },
      "text/plain": [
       "Epoch 5:   0%|          | 0/60 [00:00<?, ?batch/s]"
      ]
     },
     "metadata": {},
     "output_type": "display_data"
    },
    {
     "name": "stdout",
     "output_type": "stream",
     "text": [
      "Epoch 005\n",
      "TRAIN→ \"R\": RMSE=0.2860 MAE=0.2241 R2=0.0307 | \"B\": Acc=0.5396 Prec=0.2880 Rec=0.4513 F1=0.3517 AUROC=0.5177\n",
      "VALID→ \"R\": RMSE=0.2800 MAE=0.1989 R2=0.0485 | \"B\": Acc=0.6333 Prec=0.4064 Rec=0.6001 F1=0.4846 AUROC=0.6704\n"
     ]
    },
    {
     "data": {
      "application/vnd.jupyter.widget-view+json": {
       "model_id": "f2724d73dbe042479da8f3aeecc8f2cd",
       "version_major": 2,
       "version_minor": 0
      },
      "text/plain": [
       "Epoch 6:   0%|          | 0/60 [00:00<?, ?batch/s]"
      ]
     },
     "metadata": {},
     "output_type": "display_data"
    },
    {
     "name": "stdout",
     "output_type": "stream",
     "text": [
      "Epoch 006\n",
      "TRAIN→ \"R\": RMSE=0.2816 MAE=0.2208 R2=0.0601 | \"B\": Acc=0.5413 Prec=0.2939 Rec=0.4693 F1=0.3615 AUROC=0.5269\n",
      "VALID→ \"R\": RMSE=0.2710 MAE=0.1995 R2=0.1087 | \"B\": Acc=0.6121 Prec=0.3946 Rec=0.6561 F1=0.4929 AUROC=0.6744\n"
     ]
    },
    {
     "data": {
      "application/vnd.jupyter.widget-view+json": {
       "model_id": "74d2d5f236a542f0ab6aa0f8cbea5df8",
       "version_major": 2,
       "version_minor": 0
      },
      "text/plain": [
       "Epoch 7:   0%|          | 0/60 [00:00<?, ?batch/s]"
      ]
     },
     "metadata": {},
     "output_type": "display_data"
    },
    {
     "name": "stdout",
     "output_type": "stream",
     "text": [
      "Epoch 007\n",
      "TRAIN→ \"R\": RMSE=0.2736 MAE=0.2123 R2=0.1130 | \"B\": Acc=0.5544 Prec=0.2984 Rec=0.4520 F1=0.3595 AUROC=0.5321\n",
      "VALID→ \"R\": RMSE=0.2671 MAE=0.2045 R2=0.1342 | \"B\": Acc=0.5860 Prec=0.3822 Rec=0.7157 F1=0.4983 AUROC=0.6758\n"
     ]
    },
    {
     "data": {
      "application/vnd.jupyter.widget-view+json": {
       "model_id": "e7852b7b72064a9983d476c24bff00e1",
       "version_major": 2,
       "version_minor": 0
      },
      "text/plain": [
       "Epoch 8:   0%|          | 0/60 [00:00<?, ?batch/s]"
      ]
     },
     "metadata": {},
     "output_type": "display_data"
    },
    {
     "name": "stdout",
     "output_type": "stream",
     "text": [
      "Epoch 008\n",
      "TRAIN→ \"R\": RMSE=0.2689 MAE=0.2070 R2=0.1432 | \"B\": Acc=0.5750 Prec=0.3056 Rec=0.4215 F1=0.3543 AUROC=0.5387\n",
      "VALID→ \"R\": RMSE=0.2654 MAE=0.1990 R2=0.1450 | \"B\": Acc=0.6242 Prec=0.4041 Rec=0.6497 F1=0.4983 AUROC=0.6816\n"
     ]
    },
    {
     "data": {
      "application/vnd.jupyter.widget-view+json": {
       "model_id": "a82628b87a1e420b8bdd414bad6c3fbb",
       "version_major": 2,
       "version_minor": 0
      },
      "text/plain": [
       "Epoch 9:   0%|          | 0/60 [00:00<?, ?batch/s]"
      ]
     },
     "metadata": {},
     "output_type": "display_data"
    },
    {
     "name": "stdout",
     "output_type": "stream",
     "text": [
      "Epoch 009\n",
      "TRAIN→ \"R\": RMSE=0.2658 MAE=0.2039 R2=0.1628 | \"B\": Acc=0.5910 Prec=0.3072 Rec=0.3812 F1=0.3402 AUROC=0.5363\n",
      "VALID→ \"R\": RMSE=0.2626 MAE=0.1955 R2=0.1628 | \"B\": Acc=0.6321 Prec=0.4093 Rec=0.6333 F1=0.4973 AUROC=0.6832\n"
     ]
    },
    {
     "data": {
      "application/vnd.jupyter.widget-view+json": {
       "model_id": "1beda0b42a974d2996aa40e6ceb6d9f5",
       "version_major": 2,
       "version_minor": 0
      },
      "text/plain": [
       "Epoch 10:   0%|          | 0/60 [00:00<?, ?batch/s]"
      ]
     },
     "metadata": {},
     "output_type": "display_data"
    },
    {
     "name": "stdout",
     "output_type": "stream",
     "text": [
      "Epoch 010\n",
      "TRAIN→ \"R\": RMSE=0.2635 MAE=0.2028 R2=0.1769 | \"B\": Acc=0.5877 Prec=0.3015 Rec=0.3725 F1=0.3333 AUROC=0.5290\n",
      "VALID→ \"R\": RMSE=0.2607 MAE=0.1928 R2=0.1750 | \"B\": Acc=0.6296 Prec=0.4078 Rec=0.6391 F1=0.4979 AUROC=0.6848\n"
     ]
    },
    {
     "data": {
      "application/vnd.jupyter.widget-view+json": {
       "model_id": "0d8a2e09649643df8ea6f60ef8c2eeb8",
       "version_major": 2,
       "version_minor": 0
      },
      "text/plain": [
       "Epoch 11:   0%|          | 0/60 [00:00<?, ?batch/s]"
      ]
     },
     "metadata": {},
     "output_type": "display_data"
    },
    {
     "name": "stdout",
     "output_type": "stream",
     "text": [
      "Epoch 011\n",
      "TRAIN→ \"R\": RMSE=0.2621 MAE=0.2016 R2=0.1858 | \"B\": Acc=0.5823 Prec=0.2985 Rec=0.3778 F1=0.3335 AUROC=0.5259\n",
      "VALID→ \"R\": RMSE=0.2594 MAE=0.1910 R2=0.1832 | \"B\": Acc=0.6111 Prec=0.3968 Rec=0.6805 F1=0.5013 AUROC=0.6848\n"
     ]
    },
    {
     "data": {
      "application/vnd.jupyter.widget-view+json": {
       "model_id": "59f8f23f8c3b44ac9ee0f3bb9bdf3ecb",
       "version_major": 2,
       "version_minor": 0
      },
      "text/plain": [
       "Epoch 12:   0%|          | 0/60 [00:00<?, ?batch/s]"
      ]
     },
     "metadata": {},
     "output_type": "display_data"
    },
    {
     "name": "stdout",
     "output_type": "stream",
     "text": [
      "Epoch 012\n",
      "TRAIN→ \"R\": RMSE=0.2609 MAE=0.2006 R2=0.1931 | \"B\": Acc=0.5732 Prec=0.2962 Rec=0.3944 F1=0.3383 AUROC=0.5241\n",
      "VALID→ \"R\": RMSE=0.2583 MAE=0.1899 R2=0.1902 | \"B\": Acc=0.5870 Prec=0.3831 Rec=0.7165 F1=0.4992 AUROC=0.6825\n"
     ]
    },
    {
     "data": {
      "application/vnd.jupyter.widget-view+json": {
       "model_id": "ac2496f6938645f99be5443fcead6ec4",
       "version_major": 2,
       "version_minor": 0
      },
      "text/plain": [
       "Epoch 13:   0%|          | 0/60 [00:00<?, ?batch/s]"
      ]
     },
     "metadata": {},
     "output_type": "display_data"
    },
    {
     "name": "stdout",
     "output_type": "stream",
     "text": [
      "Epoch 013\n",
      "TRAIN→ \"R\": RMSE=0.2601 MAE=0.1998 R2=0.1982 | \"B\": Acc=0.5684 Prec=0.2933 Rec=0.3974 F1=0.3375 AUROC=0.5206\n",
      "VALID→ \"R\": RMSE=0.2575 MAE=0.1889 R2=0.1953 | \"B\": Acc=0.5736 Prec=0.3760 Rec=0.7345 F1=0.4974 AUROC=0.6802\n"
     ]
    },
    {
     "data": {
      "application/vnd.jupyter.widget-view+json": {
       "model_id": "f9b348d8148e4bc3aaf8c0612518804e",
       "version_major": 2,
       "version_minor": 0
      },
      "text/plain": [
       "Epoch 14:   0%|          | 0/60 [00:00<?, ?batch/s]"
      ]
     },
     "metadata": {},
     "output_type": "display_data"
    },
    {
     "name": "stdout",
     "output_type": "stream",
     "text": [
      "Epoch 014\n",
      "TRAIN→ \"R\": RMSE=0.2593 MAE=0.1990 R2=0.2031 | \"B\": Acc=0.5667 Prec=0.2903 Rec=0.3920 F1=0.3336 AUROC=0.5170\n",
      "VALID→ \"R\": RMSE=0.2567 MAE=0.1882 R2=0.2002 | \"B\": Acc=0.5650 Prec=0.3715 Rec=0.7434 F1=0.4955 AUROC=0.6772\n"
     ]
    },
    {
     "data": {
      "application/vnd.jupyter.widget-view+json": {
       "model_id": "dc38cceeee424de59680d9b170f21010",
       "version_major": 2,
       "version_minor": 0
      },
      "text/plain": [
       "Epoch 15:   0%|          | 0/60 [00:00<?, ?batch/s]"
      ]
     },
     "metadata": {},
     "output_type": "display_data"
    },
    {
     "name": "stdout",
     "output_type": "stream",
     "text": [
      "Epoch 015\n",
      "TRAIN→ \"R\": RMSE=0.2588 MAE=0.1985 R2=0.2065 | \"B\": Acc=0.5634 Prec=0.2889 Rec=0.3956 F1=0.3339 AUROC=0.5151\n",
      "VALID→ \"R\": RMSE=0.2561 MAE=0.1874 R2=0.2035 | \"B\": Acc=0.5528 Prec=0.3667 Rec=0.7659 F1=0.4960 AUROC=0.6777\n"
     ]
    },
    {
     "data": {
      "application/vnd.jupyter.widget-view+json": {
       "model_id": "ebea5276cf6445f3b269881d53b74c15",
       "version_major": 2,
       "version_minor": 0
      },
      "text/plain": [
       "Epoch 16:   0%|          | 0/60 [00:00<?, ?batch/s]"
      ]
     },
     "metadata": {},
     "output_type": "display_data"
    },
    {
     "name": "stdout",
     "output_type": "stream",
     "text": [
      "Epoch 016\n",
      "TRAIN→ \"R\": RMSE=0.2582 MAE=0.1978 R2=0.2098 | \"B\": Acc=0.5612 Prec=0.2872 Rec=0.3958 F1=0.3329 AUROC=0.5131\n",
      "VALID→ \"R\": RMSE=0.2555 MAE=0.1869 R2=0.2078 | \"B\": Acc=0.5385 Prec=0.3602 Rec=0.7814 F1=0.4931 AUROC=0.6742\n"
     ]
    },
    {
     "data": {
      "application/vnd.jupyter.widget-view+json": {
       "model_id": "eeaf88eb9bbc46c88a8819a1e8cfa016",
       "version_major": 2,
       "version_minor": 0
      },
      "text/plain": [
       "Epoch 17:   0%|          | 0/60 [00:00<?, ?batch/s]"
      ]
     },
     "metadata": {},
     "output_type": "display_data"
    },
    {
     "name": "stdout",
     "output_type": "stream",
     "text": [
      "Epoch 017\n",
      "TRAIN→ \"R\": RMSE=0.2576 MAE=0.1973 R2=0.2132 | \"B\": Acc=0.5580 Prec=0.2851 Rec=0.3965 F1=0.3317 AUROC=0.5096\n",
      "VALID→ \"R\": RMSE=0.2550 MAE=0.1862 R2=0.2105 | \"B\": Acc=0.5264 Prec=0.3544 Rec=0.7892 F1=0.4892 AUROC=0.6691\n"
     ]
    },
    {
     "data": {
      "application/vnd.jupyter.widget-view+json": {
       "model_id": "dca77233a9a742c4bb3c3150f11744bc",
       "version_major": 2,
       "version_minor": 0
      },
      "text/plain": [
       "Epoch 18:   0%|          | 0/60 [00:00<?, ?batch/s]"
      ]
     },
     "metadata": {},
     "output_type": "display_data"
    },
    {
     "name": "stdout",
     "output_type": "stream",
     "text": [
      "Epoch 018\n",
      "TRAIN→ \"R\": RMSE=0.2572 MAE=0.1968 R2=0.2159 | \"B\": Acc=0.5571 Prec=0.2842 Rec=0.3956 F1=0.3307 AUROC=0.5086\n",
      "VALID→ \"R\": RMSE=0.2546 MAE=0.1856 R2=0.2133 | \"B\": Acc=0.5316 Prec=0.3557 Rec=0.7773 F1=0.4881 AUROC=0.6659\n"
     ]
    },
    {
     "data": {
      "application/vnd.jupyter.widget-view+json": {
       "model_id": "c7eac4feee1c44bf94a7beaf9b196bc5",
       "version_major": 2,
       "version_minor": 0
      },
      "text/plain": [
       "Epoch 19:   0%|          | 0/60 [00:00<?, ?batch/s]"
      ]
     },
     "metadata": {},
     "output_type": "display_data"
    },
    {
     "name": "stdout",
     "output_type": "stream",
     "text": [
      "Epoch 019\n",
      "TRAIN→ \"R\": RMSE=0.2568 MAE=0.1964 R2=0.2183 | \"B\": Acc=0.5594 Prec=0.2832 Rec=0.3871 F1=0.3271 AUROC=0.5074\n",
      "VALID→ \"R\": RMSE=0.2541 MAE=0.1852 R2=0.2163 | \"B\": Acc=0.5289 Prec=0.3533 Rec=0.7706 F1=0.4845 AUROC=0.6595\n"
     ]
    },
    {
     "data": {
      "application/vnd.jupyter.widget-view+json": {
       "model_id": "b7b9ac554ee449828e0d60faf0c6686a",
       "version_major": 2,
       "version_minor": 0
      },
      "text/plain": [
       "Epoch 20:   0%|          | 0/60 [00:00<?, ?batch/s]"
      ]
     },
     "metadata": {},
     "output_type": "display_data"
    },
    {
     "name": "stdout",
     "output_type": "stream",
     "text": [
      "Epoch 020\n",
      "TRAIN→ \"R\": RMSE=0.2564 MAE=0.1961 R2=0.2209 | \"B\": Acc=0.5594 Prec=0.2821 Rec=0.3837 F1=0.3251 AUROC=0.5051\n",
      "VALID→ \"R\": RMSE=0.2537 MAE=0.1848 R2=0.2188 | \"B\": Acc=0.5188 Prec=0.3484 Rec=0.7752 F1=0.4807 AUROC=0.6531\n"
     ]
    },
    {
     "data": {
      "application/vnd.jupyter.widget-view+json": {
       "model_id": "326e93b6ae4142b8912384dd4e78cdf4",
       "version_major": 2,
       "version_minor": 0
      },
      "text/plain": [
       "Epoch 21:   0%|          | 0/60 [00:00<?, ?batch/s]"
      ]
     },
     "metadata": {},
     "output_type": "display_data"
    },
    {
     "name": "stdout",
     "output_type": "stream",
     "text": [
      "Epoch 021\n",
      "TRAIN→ \"R\": RMSE=0.2560 MAE=0.1957 R2=0.2233 | \"B\": Acc=0.5528 Prec=0.2793 Rec=0.3901 F1=0.3255 AUROC=0.5013\n",
      "VALID→ \"R\": RMSE=0.2533 MAE=0.1843 R2=0.2208 | \"B\": Acc=0.5014 Prec=0.3410 Rec=0.7886 F1=0.4761 AUROC=0.6464\n"
     ]
    },
    {
     "data": {
      "application/vnd.jupyter.widget-view+json": {
       "model_id": "ab604f53b2bf4eb69b96370483e2e749",
       "version_major": 2,
       "version_minor": 0
      },
      "text/plain": [
       "Epoch 22:   0%|          | 0/60 [00:00<?, ?batch/s]"
      ]
     },
     "metadata": {},
     "output_type": "display_data"
    },
    {
     "name": "stdout",
     "output_type": "stream",
     "text": [
      "Epoch 022\n",
      "TRAIN→ \"R\": RMSE=0.2557 MAE=0.1954 R2=0.2250 | \"B\": Acc=0.5524 Prec=0.2804 Rec=0.3946 F1=0.3278 AUROC=0.5036\n",
      "VALID→ \"R\": RMSE=0.2531 MAE=0.1839 R2=0.2225 | \"B\": Acc=0.5050 Prec=0.3400 Rec=0.7681 F1=0.4714 AUROC=0.6355\n"
     ]
    },
    {
     "data": {
      "application/vnd.jupyter.widget-view+json": {
       "model_id": "2048f66289fd4879ad6a39e711a584ce",
       "version_major": 2,
       "version_minor": 0
      },
      "text/plain": [
       "Epoch 23:   0%|          | 0/60 [00:00<?, ?batch/s]"
      ]
     },
     "metadata": {},
     "output_type": "display_data"
    },
    {
     "name": "stdout",
     "output_type": "stream",
     "text": [
      "Epoch 023\n",
      "TRAIN→ \"R\": RMSE=0.2555 MAE=0.1952 R2=0.2265 | \"B\": Acc=0.5487 Prec=0.2777 Rec=0.3943 F1=0.3259 AUROC=0.4989\n",
      "VALID→ \"R\": RMSE=0.2529 MAE=0.1836 R2=0.2238 | \"B\": Acc=0.4914 Prec=0.3355 Rec=0.7855 F1=0.4702 AUROC=0.6355\n"
     ]
    },
    {
     "data": {
      "application/vnd.jupyter.widget-view+json": {
       "model_id": "dba7a650aa1444f5a23f27ca28ab8d71",
       "version_major": 2,
       "version_minor": 0
      },
      "text/plain": [
       "Epoch 24:   0%|          | 0/60 [00:00<?, ?batch/s]"
      ]
     },
     "metadata": {},
     "output_type": "display_data"
    },
    {
     "name": "stdout",
     "output_type": "stream",
     "text": [
      "Epoch 024\n",
      "TRAIN→ \"R\": RMSE=0.2552 MAE=0.1948 R2=0.2283 | \"B\": Acc=0.5468 Prec=0.2795 Rec=0.4045 F1=0.3306 AUROC=0.5018\n",
      "VALID→ \"R\": RMSE=0.2527 MAE=0.1832 R2=0.2248 | \"B\": Acc=0.4953 Prec=0.3349 Rec=0.7672 F1=0.4662 AUROC=0.6272\n"
     ]
    },
    {
     "data": {
      "application/vnd.jupyter.widget-view+json": {
       "model_id": "bc315ec46ce748eea297ffa2eab35d88",
       "version_major": 2,
       "version_minor": 0
      },
      "text/plain": [
       "Epoch 25:   0%|          | 0/60 [00:00<?, ?batch/s]"
      ]
     },
     "metadata": {},
     "output_type": "display_data"
    },
    {
     "name": "stdout",
     "output_type": "stream",
     "text": [
      "Epoch 025\n",
      "TRAIN→ \"R\": RMSE=0.2549 MAE=0.1947 R2=0.2300 | \"B\": Acc=0.5456 Prec=0.2774 Rec=0.4005 F1=0.3278 AUROC=0.4987\n",
      "VALID→ \"R\": RMSE=0.2525 MAE=0.1830 R2=0.2261 | \"B\": Acc=0.4898 Prec=0.3316 Rec=0.7635 F1=0.4624 AUROC=0.6195\n"
     ]
    },
    {
     "data": {
      "application/vnd.jupyter.widget-view+json": {
       "model_id": "8968d799fb65491a84f88ced9efedc33",
       "version_major": 2,
       "version_minor": 0
      },
      "text/plain": [
       "Epoch 26:   0%|          | 0/60 [00:00<?, ?batch/s]"
      ]
     },
     "metadata": {},
     "output_type": "display_data"
    },
    {
     "name": "stdout",
     "output_type": "stream",
     "text": [
      "Epoch 026\n",
      "TRAIN→ \"R\": RMSE=0.2547 MAE=0.1944 R2=0.2310 | \"B\": Acc=0.5442 Prec=0.2781 Rec=0.4061 F1=0.3302 AUROC=0.4996\n",
      "VALID→ \"R\": RMSE=0.2524 MAE=0.1827 R2=0.2269 | \"B\": Acc=0.4829 Prec=0.3294 Rec=0.7721 F1=0.4617 AUROC=0.6196\n"
     ]
    },
    {
     "data": {
      "application/vnd.jupyter.widget-view+json": {
       "model_id": "b751f5a500a948ceaceb54820ce0b30d",
       "version_major": 2,
       "version_minor": 0
      },
      "text/plain": [
       "Epoch 27:   0%|          | 0/60 [00:00<?, ?batch/s]"
      ]
     },
     "metadata": {},
     "output_type": "display_data"
    },
    {
     "name": "stdout",
     "output_type": "stream",
     "text": [
      "Epoch 027\n",
      "TRAIN→ \"R\": RMSE=0.2544 MAE=0.1942 R2=0.2327 | \"B\": Acc=0.5417 Prec=0.2780 Rec=0.4111 F1=0.3317 AUROC=0.4994\n",
      "VALID→ \"R\": RMSE=0.2523 MAE=0.1825 R2=0.2274 | \"B\": Acc=0.4802 Prec=0.3285 Rec=0.7749 F1=0.4614 AUROC=0.6190\n"
     ]
    },
    {
     "data": {
      "application/vnd.jupyter.widget-view+json": {
       "model_id": "d5a4204ddb03488496352965b2edb01a",
       "version_major": 2,
       "version_minor": 0
      },
      "text/plain": [
       "Epoch 28:   0%|          | 0/60 [00:00<?, ?batch/s]"
      ]
     },
     "metadata": {},
     "output_type": "display_data"
    },
    {
     "name": "stdout",
     "output_type": "stream",
     "text": [
      "Epoch 028\n",
      "TRAIN→ \"R\": RMSE=0.2543 MAE=0.1941 R2=0.2336 | \"B\": Acc=0.5434 Prec=0.2800 Rec=0.4140 F1=0.3341 AUROC=0.5028\n",
      "VALID→ \"R\": RMSE=0.2522 MAE=0.1823 R2=0.2280 | \"B\": Acc=0.4907 Prec=0.3320 Rec=0.7639 F1=0.4629 AUROC=0.6207\n"
     ]
    },
    {
     "data": {
      "application/vnd.jupyter.widget-view+json": {
       "model_id": "994094bef0824d4cb88796593df3de21",
       "version_major": 2,
       "version_minor": 0
      },
      "text/plain": [
       "Epoch 29:   0%|          | 0/60 [00:00<?, ?batch/s]"
      ]
     },
     "metadata": {},
     "output_type": "display_data"
    },
    {
     "name": "stdout",
     "output_type": "stream",
     "text": [
      "Epoch 029\n",
      "TRAIN→ \"R\": RMSE=0.2541 MAE=0.1939 R2=0.2350 | \"B\": Acc=0.5420 Prec=0.2786 Rec=0.4127 F1=0.3327 AUROC=0.5008\n",
      "VALID→ \"R\": RMSE=0.2520 MAE=0.1822 R2=0.2293 | \"B\": Acc=0.4736 Prec=0.3256 Rec=0.7767 F1=0.4588 AUROC=0.6141\n"
     ]
    },
    {
     "data": {
      "application/vnd.jupyter.widget-view+json": {
       "model_id": "a7045b31d5934a09bb5ea274705ac1d1",
       "version_major": 2,
       "version_minor": 0
      },
      "text/plain": [
       "Epoch 30:   0%|          | 0/60 [00:00<?, ?batch/s]"
      ]
     },
     "metadata": {},
     "output_type": "display_data"
    },
    {
     "name": "stdout",
     "output_type": "stream",
     "text": [
      "Epoch 030\n",
      "TRAIN→ \"R\": RMSE=0.2539 MAE=0.1937 R2=0.2362 | \"B\": Acc=0.5380 Prec=0.2776 Rec=0.4182 F1=0.3337 AUROC=0.4991\n",
      "VALID→ \"R\": RMSE=0.2518 MAE=0.1820 R2=0.2302 | \"B\": Acc=0.4699 Prec=0.3246 Rec=0.7822 F1=0.4588 AUROC=0.6148\n"
     ]
    },
    {
     "data": {
      "application/vnd.jupyter.widget-view+json": {
       "model_id": "652ba76cd4a84547bb7c1a3046d98ac4",
       "version_major": 2,
       "version_minor": 0
      },
      "text/plain": [
       "Epoch 31:   0%|          | 0/60 [00:00<?, ?batch/s]"
      ]
     },
     "metadata": {},
     "output_type": "display_data"
    },
    {
     "name": "stdout",
     "output_type": "stream",
     "text": [
      "Epoch 031\n",
      "TRAIN→ \"R\": RMSE=0.2537 MAE=0.1937 R2=0.2369 | \"B\": Acc=0.5375 Prec=0.2793 Rec=0.4252 F1=0.3371 AUROC=0.5020\n",
      "VALID→ \"R\": RMSE=0.2517 MAE=0.1819 R2=0.2310 | \"B\": Acc=0.4737 Prec=0.3264 Rec=0.7817 F1=0.4605 AUROC=0.6175\n"
     ]
    },
    {
     "data": {
      "application/vnd.jupyter.widget-view+json": {
       "model_id": "297d28fe69a042f9a61f5f1bde01ac89",
       "version_major": 2,
       "version_minor": 0
      },
      "text/plain": [
       "Epoch 32:   0%|          | 0/60 [00:00<?, ?batch/s]"
      ]
     },
     "metadata": {},
     "output_type": "display_data"
    },
    {
     "name": "stdout",
     "output_type": "stream",
     "text": [
      "Epoch 032\n",
      "TRAIN→ \"R\": RMSE=0.2535 MAE=0.1936 R2=0.2381 | \"B\": Acc=0.5366 Prec=0.2799 Rec=0.4293 F1=0.3389 AUROC=0.5028\n",
      "VALID→ \"R\": RMSE=0.2514 MAE=0.1819 R2=0.2325 | \"B\": Acc=0.4613 Prec=0.3225 Rec=0.7947 F1=0.4588 AUROC=0.6161\n"
     ]
    },
    {
     "data": {
      "application/vnd.jupyter.widget-view+json": {
       "model_id": "9a9311c92d0b4e4baa6fee295147fcdb",
       "version_major": 2,
       "version_minor": 0
      },
      "text/plain": [
       "Epoch 33:   0%|          | 0/60 [00:00<?, ?batch/s]"
      ]
     },
     "metadata": {},
     "output_type": "display_data"
    },
    {
     "name": "stdout",
     "output_type": "stream",
     "text": [
      "Epoch 033\n",
      "TRAIN→ \"R\": RMSE=0.2534 MAE=0.1935 R2=0.2388 | \"B\": Acc=0.5339 Prec=0.2806 Rec=0.4378 F1=0.3420 AUROC=0.5051\n",
      "VALID→ \"R\": RMSE=0.2514 MAE=0.1817 R2=0.2327 | \"B\": Acc=0.4637 Prec=0.3244 Rec=0.8003 F1=0.4616 AUROC=0.6214\n"
     ]
    },
    {
     "data": {
      "application/vnd.jupyter.widget-view+json": {
       "model_id": "018867607a8543d69bfd58801b8db9b3",
       "version_major": 2,
       "version_minor": 0
      },
      "text/plain": [
       "Epoch 34:   0%|          | 0/60 [00:00<?, ?batch/s]"
      ]
     },
     "metadata": {},
     "output_type": "display_data"
    },
    {
     "name": "stdout",
     "output_type": "stream",
     "text": [
      "Epoch 034\n",
      "TRAIN→ \"R\": RMSE=0.2533 MAE=0.1934 R2=0.2398 | \"B\": Acc=0.5378 Prec=0.2820 Rec=0.4341 F1=0.3419 AUROC=0.5066\n",
      "VALID→ \"R\": RMSE=0.2513 MAE=0.1816 R2=0.2334 | \"B\": Acc=0.4632 Prec=0.3239 Rec=0.7985 F1=0.4608 AUROC=0.6199\n"
     ]
    },
    {
     "data": {
      "application/vnd.jupyter.widget-view+json": {
       "model_id": "aae671e0c5da4a0a9dc15fcaaf3066a1",
       "version_major": 2,
       "version_minor": 0
      },
      "text/plain": [
       "Epoch 35:   0%|          | 0/60 [00:00<?, ?batch/s]"
      ]
     },
     "metadata": {},
     "output_type": "display_data"
    },
    {
     "name": "stdout",
     "output_type": "stream",
     "text": [
      "Epoch 035\n",
      "TRAIN→ \"R\": RMSE=0.2531 MAE=0.1932 R2=0.2406 | \"B\": Acc=0.5340 Prec=0.2807 Rec=0.4380 F1=0.3422 AUROC=0.5051\n",
      "VALID→ \"R\": RMSE=0.2512 MAE=0.1815 R2=0.2340 | \"B\": Acc=0.4506 Prec=0.3196 Rec=0.8083 F1=0.4581 AUROC=0.6163\n"
     ]
    },
    {
     "data": {
      "application/vnd.jupyter.widget-view+json": {
       "model_id": "72d9a1b1718045f2a439662bf2be6b4a",
       "version_major": 2,
       "version_minor": 0
      },
      "text/plain": [
       "Epoch 36:   0%|          | 0/60 [00:00<?, ?batch/s]"
      ]
     },
     "metadata": {},
     "output_type": "display_data"
    },
    {
     "name": "stdout",
     "output_type": "stream",
     "text": [
      "Epoch 036\n",
      "TRAIN→ \"R\": RMSE=0.2530 MAE=0.1931 R2=0.2415 | \"B\": Acc=0.5320 Prec=0.2806 Rec=0.4425 F1=0.3435 AUROC=0.5046\n",
      "VALID→ \"R\": RMSE=0.2511 MAE=0.1814 R2=0.2347 | \"B\": Acc=0.4488 Prec=0.3209 Rec=0.8229 F1=0.4617 AUROC=0.6233\n"
     ]
    },
    {
     "data": {
      "application/vnd.jupyter.widget-view+json": {
       "model_id": "d599ec2ef494464d90d9c751bf5d1147",
       "version_major": 2,
       "version_minor": 0
      },
      "text/plain": [
       "Epoch 37:   0%|          | 0/60 [00:00<?, ?batch/s]"
      ]
     },
     "metadata": {},
     "output_type": "display_data"
    },
    {
     "name": "stdout",
     "output_type": "stream",
     "text": [
      "Epoch 037\n",
      "TRAIN→ \"R\": RMSE=0.2528 MAE=0.1930 R2=0.2425 | \"B\": Acc=0.5324 Prec=0.2822 Rec=0.4471 F1=0.3460 AUROC=0.5072\n",
      "VALID→ \"R\": RMSE=0.2511 MAE=0.1813 R2=0.2344 | \"B\": Acc=0.4573 Prec=0.3230 Rec=0.8112 F1=0.4621 AUROC=0.6225\n"
     ]
    },
    {
     "data": {
      "application/vnd.jupyter.widget-view+json": {
       "model_id": "b4edca37b9dc4ade90dc8300b0d49e06",
       "version_major": 2,
       "version_minor": 0
      },
      "text/plain": [
       "Epoch 38:   0%|          | 0/60 [00:00<?, ?batch/s]"
      ]
     },
     "metadata": {},
     "output_type": "display_data"
    },
    {
     "name": "stdout",
     "output_type": "stream",
     "text": [
      "Epoch 038\n",
      "TRAIN→ \"R\": RMSE=0.2527 MAE=0.1928 R2=0.2430 | \"B\": Acc=0.5333 Prec=0.2816 Rec=0.4430 F1=0.3443 AUROC=0.5066\n",
      "VALID→ \"R\": RMSE=0.2510 MAE=0.1812 R2=0.2354 | \"B\": Acc=0.4517 Prec=0.3214 Rec=0.8172 F1=0.4613 AUROC=0.6211\n"
     ]
    },
    {
     "data": {
      "application/vnd.jupyter.widget-view+json": {
       "model_id": "5885b80e579d4948892f2cf543e8e3ca",
       "version_major": 2,
       "version_minor": 0
      },
      "text/plain": [
       "Epoch 39:   0%|          | 0/60 [00:00<?, ?batch/s]"
      ]
     },
     "metadata": {},
     "output_type": "display_data"
    },
    {
     "name": "stdout",
     "output_type": "stream",
     "text": [
      "Epoch 039\n",
      "TRAIN→ \"R\": RMSE=0.2526 MAE=0.1927 R2=0.2438 | \"B\": Acc=0.5321 Prec=0.2832 Rec=0.4517 F1=0.3481 AUROC=0.5089\n",
      "VALID→ \"R\": RMSE=0.2510 MAE=0.1811 R2=0.2354 | \"B\": Acc=0.4524 Prec=0.3215 Rec=0.8161 F1=0.4613 AUROC=0.6213\n"
     ]
    },
    {
     "data": {
      "application/vnd.jupyter.widget-view+json": {
       "model_id": "c39aa9aca73b4a2ab50e298a01edba76",
       "version_major": 2,
       "version_minor": 0
      },
      "text/plain": [
       "Epoch 40:   0%|          | 0/60 [00:00<?, ?batch/s]"
      ]
     },
     "metadata": {},
     "output_type": "display_data"
    },
    {
     "name": "stdout",
     "output_type": "stream",
     "text": [
      "Epoch 040\n",
      "TRAIN→ \"R\": RMSE=0.2525 MAE=0.1925 R2=0.2445 | \"B\": Acc=0.5326 Prec=0.2829 Rec=0.4494 F1=0.3472 AUROC=0.5082\n",
      "VALID→ \"R\": RMSE=0.2509 MAE=0.1811 R2=0.2358 | \"B\": Acc=0.4519 Prec=0.3214 Rec=0.8167 F1=0.4613 AUROC=0.6209\n"
     ]
    },
    {
     "data": {
      "application/vnd.jupyter.widget-view+json": {
       "model_id": "4803900fb7f94c8b9c95f08b82d33c44",
       "version_major": 2,
       "version_minor": 0
      },
      "text/plain": [
       "Epoch 41:   0%|          | 0/60 [00:00<?, ?batch/s]"
      ]
     },
     "metadata": {},
     "output_type": "display_data"
    },
    {
     "name": "stdout",
     "output_type": "stream",
     "text": [
      "Epoch 041\n",
      "TRAIN→ \"R\": RMSE=0.2523 MAE=0.1925 R2=0.2454 | \"B\": Acc=0.5311 Prec=0.2836 Rec=0.4552 F1=0.3494 AUROC=0.5094\n",
      "VALID→ \"R\": RMSE=0.2510 MAE=0.1808 R2=0.2350 | \"B\": Acc=0.4522 Prec=0.3213 Rec=0.8152 F1=0.4609 AUROC=0.6198\n"
     ]
    },
    {
     "data": {
      "application/vnd.jupyter.widget-view+json": {
       "model_id": "f182a5ea67e54dc2a5a642a9ef1fc69f",
       "version_major": 2,
       "version_minor": 0
      },
      "text/plain": [
       "Epoch 42:   0%|          | 0/60 [00:00<?, ?batch/s]"
      ]
     },
     "metadata": {},
     "output_type": "display_data"
    },
    {
     "name": "stdout",
     "output_type": "stream",
     "text": [
      "Epoch 042\n",
      "TRAIN→ \"R\": RMSE=0.2522 MAE=0.1923 R2=0.2461 | \"B\": Acc=0.5319 Prec=0.2833 Rec=0.4526 F1=0.3485 AUROC=0.5090\n",
      "VALID→ \"R\": RMSE=0.2509 MAE=0.1809 R2=0.2359 | \"B\": Acc=0.4538 Prec=0.3224 Rec=0.8182 F1=0.4626 AUROC=0.6223\n"
     ]
    },
    {
     "data": {
      "application/vnd.jupyter.widget-view+json": {
       "model_id": "e48c8d155e8745fb910b10b38efd4f6a",
       "version_major": 2,
       "version_minor": 0
      },
      "text/plain": [
       "Epoch 43:   0%|          | 0/60 [00:00<?, ?batch/s]"
      ]
     },
     "metadata": {},
     "output_type": "display_data"
    },
    {
     "name": "stdout",
     "output_type": "stream",
     "text": [
      "Epoch 043\n",
      "TRAIN→ \"R\": RMSE=0.2521 MAE=0.1923 R2=0.2465 | \"B\": Acc=0.5313 Prec=0.2832 Rec=0.4536 F1=0.3487 AUROC=0.5093\n",
      "VALID→ \"R\": RMSE=0.2509 MAE=0.1808 R2=0.2357 | \"B\": Acc=0.4552 Prec=0.3221 Rec=0.8115 F1=0.4612 AUROC=0.6198\n"
     ]
    },
    {
     "data": {
      "application/vnd.jupyter.widget-view+json": {
       "model_id": "f720186062db45aa99774ddb183b0b34",
       "version_major": 2,
       "version_minor": 0
      },
      "text/plain": [
       "Epoch 44:   0%|          | 0/60 [00:00<?, ?batch/s]"
      ]
     },
     "metadata": {},
     "output_type": "display_data"
    },
    {
     "name": "stdout",
     "output_type": "stream",
     "text": [
      "Epoch 044\n",
      "TRAIN→ \"R\": RMSE=0.2520 MAE=0.1922 R2=0.2472 | \"B\": Acc=0.5317 Prec=0.2821 Rec=0.4486 F1=0.3464 AUROC=0.5076\n",
      "VALID→ \"R\": RMSE=0.2509 MAE=0.1807 R2=0.2361 | \"B\": Acc=0.4573 Prec=0.3230 Rec=0.8112 F1=0.4620 AUROC=0.6208\n"
     ]
    },
    {
     "data": {
      "application/vnd.jupyter.widget-view+json": {
       "model_id": "929f7128b310443587d99d6b86037838",
       "version_major": 2,
       "version_minor": 0
      },
      "text/plain": [
       "Epoch 45:   0%|          | 0/60 [00:00<?, ?batch/s]"
      ]
     },
     "metadata": {},
     "output_type": "display_data"
    },
    {
     "name": "stdout",
     "output_type": "stream",
     "text": [
      "Epoch 045\n",
      "TRAIN→ \"R\": RMSE=0.2519 MAE=0.1921 R2=0.2478 | \"B\": Acc=0.5312 Prec=0.2838 Rec=0.4558 F1=0.3498 AUROC=0.5099\n",
      "VALID→ \"R\": RMSE=0.2508 MAE=0.1806 R2=0.2361 | \"B\": Acc=0.4555 Prec=0.3225 Rec=0.8136 F1=0.4619 AUROC=0.6205\n"
     ]
    },
    {
     "data": {
      "application/vnd.jupyter.widget-view+json": {
       "model_id": "5e1e850eceb74770ad829b731eb195c6",
       "version_major": 2,
       "version_minor": 0
      },
      "text/plain": [
       "Epoch 46:   0%|          | 0/60 [00:00<?, ?batch/s]"
      ]
     },
     "metadata": {},
     "output_type": "display_data"
    },
    {
     "name": "stdout",
     "output_type": "stream",
     "text": [
      "Epoch 046\n",
      "TRAIN→ \"R\": RMSE=0.2518 MAE=0.1921 R2=0.2485 | \"B\": Acc=0.5335 Prec=0.2834 Rec=0.4491 F1=0.3475 AUROC=0.5092\n",
      "VALID→ \"R\": RMSE=0.2508 MAE=0.1805 R2=0.2362 | \"B\": Acc=0.4594 Prec=0.3230 Rec=0.8047 F1=0.4610 AUROC=0.6184\n"
     ]
    },
    {
     "data": {
      "application/vnd.jupyter.widget-view+json": {
       "model_id": "fb40b210ada94948a7bb99deb0c9d474",
       "version_major": 2,
       "version_minor": 0
      },
      "text/plain": [
       "Epoch 47:   0%|          | 0/60 [00:00<?, ?batch/s]"
      ]
     },
     "metadata": {},
     "output_type": "display_data"
    },
    {
     "name": "stdout",
     "output_type": "stream",
     "text": [
      "Epoch 047\n",
      "TRAIN→ \"R\": RMSE=0.2517 MAE=0.1920 R2=0.2491 | \"B\": Acc=0.5304 Prec=0.2835 Rec=0.4567 F1=0.3498 AUROC=0.5090\n",
      "VALID→ \"R\": RMSE=0.2510 MAE=0.1804 R2=0.2353 | \"B\": Acc=0.4510 Prec=0.3213 Rec=0.8185 F1=0.4614 AUROC=0.6204\n"
     ]
    },
    {
     "data": {
      "application/vnd.jupyter.widget-view+json": {
       "model_id": "4de06fd5b9f246a89a725612eb659117",
       "version_major": 2,
       "version_minor": 0
      },
      "text/plain": [
       "Epoch 48:   0%|          | 0/60 [00:00<?, ?batch/s]"
      ]
     },
     "metadata": {},
     "output_type": "display_data"
    },
    {
     "name": "stdout",
     "output_type": "stream",
     "text": [
      "Epoch 048\n",
      "TRAIN→ \"R\": RMSE=0.2517 MAE=0.1919 R2=0.2494 | \"B\": Acc=0.5298 Prec=0.2839 Rec=0.4595 F1=0.3509 AUROC=0.5103\n",
      "VALID→ \"R\": RMSE=0.2510 MAE=0.1803 R2=0.2350 | \"B\": Acc=0.4570 Prec=0.3229 Rec=0.8115 F1=0.4620 AUROC=0.6203\n"
     ]
    },
    {
     "data": {
      "application/vnd.jupyter.widget-view+json": {
       "model_id": "4e12b2eb6f5949cd954892a836e371f9",
       "version_major": 2,
       "version_minor": 0
      },
      "text/plain": [
       "Epoch 49:   0%|          | 0/60 [00:00<?, ?batch/s]"
      ]
     },
     "metadata": {},
     "output_type": "display_data"
    },
    {
     "name": "stdout",
     "output_type": "stream",
     "text": [
      "Epoch 049\n",
      "TRAIN→ \"R\": RMSE=0.2516 MAE=0.1918 R2=0.2500 | \"B\": Acc=0.5285 Prec=0.2828 Rec=0.4587 F1=0.3499 AUROC=0.5089\n",
      "VALID→ \"R\": RMSE=0.2510 MAE=0.1802 R2=0.2351 | \"B\": Acc=0.4532 Prec=0.3226 Rec=0.8213 F1=0.4632 AUROC=0.6237\n"
     ]
    },
    {
     "data": {
      "application/vnd.jupyter.widget-view+json": {
       "model_id": "afdcf3d3efb548afbeb77bab637878ae",
       "version_major": 2,
       "version_minor": 0
      },
      "text/plain": [
       "Epoch 50:   0%|          | 0/60 [00:00<?, ?batch/s]"
      ]
     },
     "metadata": {},
     "output_type": "display_data"
    },
    {
     "name": "stdout",
     "output_type": "stream",
     "text": [
      "Epoch 050\n",
      "TRAIN→ \"R\": RMSE=0.2515 MAE=0.1918 R2=0.2506 | \"B\": Acc=0.5287 Prec=0.2839 Rec=0.4623 F1=0.3517 AUROC=0.5106\n",
      "VALID→ \"R\": RMSE=0.2510 MAE=0.1802 R2=0.2355 | \"B\": Acc=0.4571 Prec=0.3230 Rec=0.8116 F1=0.4621 AUROC=0.6204\n"
     ]
    },
    {
     "data": {
      "application/vnd.jupyter.widget-view+json": {
       "model_id": "7f6865cdd42b405b835f9829959f53d4",
       "version_major": 2,
       "version_minor": 0
      },
      "text/plain": [
       "Epoch 51:   0%|          | 0/60 [00:00<?, ?batch/s]"
      ]
     },
     "metadata": {},
     "output_type": "display_data"
    },
    {
     "name": "stdout",
     "output_type": "stream",
     "text": [
      "Epoch 051\n",
      "TRAIN→ \"R\": RMSE=0.2514 MAE=0.1918 R2=0.2510 | \"B\": Acc=0.5307 Prec=0.2845 Rec=0.4596 F1=0.3514 AUROC=0.5106\n",
      "VALID→ \"R\": RMSE=0.2509 MAE=0.1802 R2=0.2357 | \"B\": Acc=0.4632 Prec=0.3251 Rec=0.8074 F1=0.4636 AUROC=0.6235\n"
     ]
    },
    {
     "data": {
      "application/vnd.jupyter.widget-view+json": {
       "model_id": "ed11c99017f34f868317221d68d9ba87",
       "version_major": 2,
       "version_minor": 0
      },
      "text/plain": [
       "Epoch 52:   0%|          | 0/60 [00:00<?, ?batch/s]"
      ]
     },
     "metadata": {},
     "output_type": "display_data"
    },
    {
     "name": "stdout",
     "output_type": "stream",
     "text": [
      "Epoch 052\n",
      "TRAIN→ \"R\": RMSE=0.2513 MAE=0.1917 R2=0.2515 | \"B\": Acc=0.5312 Prec=0.2845 Rec=0.4584 F1=0.3511 AUROC=0.5110\n",
      "VALID→ \"R\": RMSE=0.2510 MAE=0.1801 R2=0.2355 | \"B\": Acc=0.4610 Prec=0.3248 Rec=0.8123 F1=0.4641 AUROC=0.6243\n",
      "Early stopping at epoch 52\n",
      "✅ Final best model (_fin) saved: AAPL_0.25084_fin.pth\n",
      "Delete variables to free memory...\n"
     ]
    },
    {
     "name": "stderr",
     "output_type": "stream",
     "text": [
      "[I 2025-09-18 21:19:05,784] Trial 3 finished with value: 0.2508428692817688 and parameters: {'look_back': 60, 'DROPOUT_SHORT': 0.19972960093106967, 'DROPOUT_LONG': 0.29165243303083405, 'ATT_DROPOUT': 0.13242372250905166, 'INITIAL_LR': 8.912597472476992e-05, 'ETA_MIN': 2.1069357381732355e-06, 'WEIGHT_DECAY': 9.149246671922074e-05, 'CLIPNORM': 8.887892717513264}. Best is trial 1 with value: 0.24039407074451447.\n"
     ]
    },
    {
     "name": "stdout",
     "output_type": "stream",
     "text": [
      "\n",
      "▶ Trial 4 starting with:\n",
      "{'look_back': 90, 'DROPOUT_SHORT': 0.08294983544607068, 'DROPOUT_LONG': 0.3262779546625068, 'ATT_DROPOUT': 0.15760948441688413, 'INITIAL_LR': 2.366323161074841e-05, 'ETA_MIN': 3.4169559661323754e-06, 'WEIGHT_DECAY': 5.2523740587890315e-05, 'CLIPNORM': 5.441612036024297}\n",
      "\n",
      "Build LSTM input tensors (disk-backed memmaps)...\n",
      "Inside build_tensors, features: ['adx_14', 'atr_14', 'ret', 'atr_pct_14', 'log_ret', 'macd_signal_12_26_9', 'bb_hband_20', 'body', 'bb_w_20', 'eng_vwap', 'minus_di_14', 'body_pct', 'hour', 'eng_obv', 'vol_spike_14', 'macd_diff_12_26_9', 'sma_28', 'eng_sma_long', 'obv_pct_14', 'eng_macd']\n"
     ]
    },
    {
     "data": {
      "application/vnd.jupyter.widget-view+json": {
       "model_id": "5a52d5715cc1458fa4a9f58891467ead",
       "version_major": 2,
       "version_minor": 0
      },
      "text/plain": [
       "Counting windows:   0%|          | 0/5400 [00:00<?, ?it/s]"
      ]
     },
     "metadata": {},
     "output_type": "display_data"
    },
    {
     "data": {
      "application/vnd.jupyter.widget-view+json": {
       "model_id": "ee76901aa50a475e857df5beb41aead2",
       "version_major": 2,
       "version_minor": 0
      },
      "text/plain": [
       "Writing memmaps:   0%|          | 0/5400 [00:00<?, ?it/s]"
      ]
     },
     "metadata": {},
     "output_type": "display_data"
    },
    {
     "name": "stdout",
     "output_type": "stream",
     "text": [
      "Split into train/val/test by calendar day...\n",
      "Carve `end_times` into the same three splits...\n",
      "Build DataLoaders over calendar‐days...\n"
     ]
    },
    {
     "data": {
      "application/vnd.jupyter.widget-view+json": {
       "model_id": "5f35b1a6f5234f5a82f652d1eb73679c",
       "version_major": 2,
       "version_minor": 0
      },
      "text/plain": [
       "Creating DayWindowDatasets:   0%|          | 0/3 [00:00<?, ?split/s]"
      ]
     },
     "metadata": {},
     "output_type": "display_data"
    },
    {
     "name": "stdout",
     "output_type": "stream",
     "text": [
      "Instantiate the stateful DualMemoryLSTM...\n",
      "Build optimizer, LR scheduler, AMP scaler, and gradient‐clip norm...\n",
      "Run the custom stateful training loop...\n"
     ]
    },
    {
     "data": {
      "image/png": "[encoded data removed]",
      "text/plain": [
       "<Figure size 660x440 with 1 Axes>"
      ]
     },
     "metadata": {},
     "output_type": "display_data"
    },
    {
     "data": {
      "application/vnd.jupyter.widget-view+json": {
       "model_id": "16ee78303cd84016b356fc06c0945e9b",
       "version_major": 2,
       "version_minor": 0
      },
      "text/plain": [
       "Epoch 1:   0%|          | 0/60 [00:01<?, ?batch/s]"
      ]
     },
     "metadata": {},
     "output_type": "display_data"
    },
    {
     "name": "stdout",
     "output_type": "stream",
     "text": [
      "Epoch 001\n",
      "TRAIN→ \"R\": RMSE=0.3461 MAE=0.2980 R2=-0.4257 | \"B\": Acc=0.5733 Prec=0.2803 Rec=0.3604 F1=0.3154 AUROC=0.5094\n",
      "VALID→ \"R\": RMSE=0.3077 MAE=0.2101 R2=-0.1649 | \"B\": Acc=0.7196 Prec=0.0000 Rec=0.0000 F1=0.0000 AUROC=0.3892\n"
     ]
    },
    {
     "data": {
      "application/vnd.jupyter.widget-view+json": {
       "model_id": "94512b02f2404e27bf0d4c93c556c87b",
       "version_major": 2,
       "version_minor": 0
      },
      "text/plain": [
       "Epoch 2:   0%|          | 0/60 [00:00<?, ?batch/s]"
      ]
     },
     "metadata": {},
     "output_type": "display_data"
    },
    {
     "name": "stdout",
     "output_type": "stream",
     "text": [
      "Epoch 002\n",
      "TRAIN→ \"R\": RMSE=0.2984 MAE=0.2293 R2=-0.0600 | \"B\": Acc=0.6363 Prec=0.2576 Rec=0.1775 F1=0.2101 AUROC=0.4832\n",
      "VALID→ \"R\": RMSE=0.3187 MAE=0.2102 R2=-0.2502 | \"B\": Acc=0.7196 Prec=0.0000 Rec=0.0000 F1=0.0000 AUROC=0.3871\n"
     ]
    },
    {
     "data": {
      "application/vnd.jupyter.widget-view+json": {
       "model_id": "cef21484d94046118fdec718d497e419",
       "version_major": 2,
       "version_minor": 0
      },
      "text/plain": [
       "Epoch 3:   0%|          | 0/60 [00:00<?, ?batch/s]"
      ]
     },
     "metadata": {},
     "output_type": "display_data"
    },
    {
     "name": "stdout",
     "output_type": "stream",
     "text": [
      "Epoch 003\n",
      "TRAIN→ \"R\": RMSE=0.2971 MAE=0.2247 R2=-0.0504 | \"B\": Acc=0.6246 Prec=0.2561 Rec=0.1979 F1=0.2233 AUROC=0.4826\n",
      "VALID→ \"R\": RMSE=0.3125 MAE=0.2077 R2=-0.2019 | \"B\": Acc=0.7196 Prec=0.0000 Rec=0.0000 F1=0.0000 AUROC=0.3912\n"
     ]
    },
    {
     "data": {
      "application/vnd.jupyter.widget-view+json": {
       "model_id": "fdca0aff7c1d4e04a91ca9243df1bf02",
       "version_major": 2,
       "version_minor": 0
      },
      "text/plain": [
       "Epoch 4:   0%|          | 0/60 [00:00<?, ?batch/s]"
      ]
     },
     "metadata": {},
     "output_type": "display_data"
    },
    {
     "name": "stdout",
     "output_type": "stream",
     "text": [
      "Epoch 004\n",
      "TRAIN→ \"R\": RMSE=0.2939 MAE=0.2235 R2=-0.0284 | \"B\": Acc=0.6043 Prec=0.2626 Rec=0.2496 F1=0.2560 AUROC=0.4882\n",
      "VALID→ \"R\": RMSE=0.3090 MAE=0.2062 R2=-0.1750 | \"B\": Acc=0.7196 Prec=0.0000 Rec=0.0000 F1=0.0000 AUROC=0.4036\n"
     ]
    },
    {
     "data": {
      "application/vnd.jupyter.widget-view+json": {
       "model_id": "37aad87caf5e452ca86a5dee1c9f59b1",
       "version_major": 2,
       "version_minor": 0
      },
      "text/plain": [
       "Epoch 5:   0%|          | 0/60 [00:00<?, ?batch/s]"
      ]
     },
     "metadata": {},
     "output_type": "display_data"
    },
    {
     "name": "stdout",
     "output_type": "stream",
     "text": [
      "Epoch 005\n",
      "TRAIN→ \"R\": RMSE=0.2913 MAE=0.2217 R2=-0.0098 | \"B\": Acc=0.5865 Prec=0.2686 Rec=0.2998 F1=0.2833 AUROC=0.4948\n",
      "VALID→ \"R\": RMSE=0.3063 MAE=0.2047 R2=-0.1545 | \"B\": Acc=0.7196 Prec=0.0000 Rec=0.0000 F1=0.0000 AUROC=0.4346\n"
     ]
    },
    {
     "data": {
      "application/vnd.jupyter.widget-view+json": {
       "model_id": "ef2d141ebc9b41cc81687d6a825fa08f",
       "version_major": 2,
       "version_minor": 0
      },
      "text/plain": [
       "Epoch 6:   0%|          | 0/60 [00:00<?, ?batch/s]"
      ]
     },
     "metadata": {},
     "output_type": "display_data"
    },
    {
     "name": "stdout",
     "output_type": "stream",
     "text": [
      "Epoch 006\n",
      "TRAIN→ \"R\": RMSE=0.2883 MAE=0.2196 R2=0.0109 | \"B\": Acc=0.5723 Prec=0.2756 Rec=0.3493 F1=0.3081 AUROC=0.5042\n",
      "VALID→ \"R\": RMSE=0.3033 MAE=0.2029 R2=-0.1323 | \"B\": Acc=0.7196 Prec=0.0000 Rec=0.0000 F1=0.0000 AUROC=0.4896\n"
     ]
    },
    {
     "data": {
      "application/vnd.jupyter.widget-view+json": {
       "model_id": "8e294536a40947f4bbbe9f6b528bf1a3",
       "version_major": 2,
       "version_minor": 0
      },
      "text/plain": [
       "Epoch 7:   0%|          | 0/60 [00:00<?, ?batch/s]"
      ]
     },
     "metadata": {},
     "output_type": "display_data"
    },
    {
     "name": "stdout",
     "output_type": "stream",
     "text": [
      "Epoch 007\n",
      "TRAIN→ \"R\": RMSE=0.2848 MAE=0.2175 R2=0.0342 | \"B\": Acc=0.5615 Prec=0.2830 Rec=0.3966 F1=0.3303 AUROC=0.5148\n",
      "VALID→ \"R\": RMSE=0.2972 MAE=0.2001 R2=-0.0868 | \"B\": Acc=0.7195 Prec=0.1852 Rec=0.0000 F1=0.0001 AUROC=0.5576\n"
     ]
    },
    {
     "data": {
      "application/vnd.jupyter.widget-view+json": {
       "model_id": "38dc8567c3ab4b02a729c58bc2cab399",
       "version_major": 2,
       "version_minor": 0
      },
      "text/plain": [
       "Epoch 8:   0%|          | 0/60 [00:00<?, ?batch/s]"
      ]
     },
     "metadata": {},
     "output_type": "display_data"
    },
    {
     "name": "stdout",
     "output_type": "stream",
     "text": [
      "Epoch 008\n",
      "TRAIN→ \"R\": RMSE=0.2817 MAE=0.2181 R2=0.0557 | \"B\": Acc=0.5463 Prec=0.2915 Rec=0.4642 F1=0.3581 AUROC=0.5289\n",
      "VALID→ \"R\": RMSE=0.2911 MAE=0.1975 R2=-0.0428 | \"B\": Acc=0.7198 Prec=0.5418 Rec=0.0059 F1=0.0116 AUROC=0.6053\n"
     ]
    },
    {
     "data": {
      "application/vnd.jupyter.widget-view+json": {
       "model_id": "7c7c9705072b415a8fc98ab387987368",
       "version_major": 2,
       "version_minor": 0
      },
      "text/plain": [
       "Epoch 9:   0%|          | 0/60 [00:00<?, ?batch/s]"
      ]
     },
     "metadata": {},
     "output_type": "display_data"
    },
    {
     "name": "stdout",
     "output_type": "stream",
     "text": [
      "Epoch 009\n",
      "TRAIN→ \"R\": RMSE=0.2782 MAE=0.2157 R2=0.0786 | \"B\": Acc=0.5413 Prec=0.2988 Rec=0.5069 F1=0.3760 AUROC=0.5424\n",
      "VALID→ \"R\": RMSE=0.2801 MAE=0.1949 R2=0.0342 | \"B\": Acc=0.7231 Prec=0.5513 Rec=0.0669 F1=0.1193 AUROC=0.6417\n"
     ]
    },
    {
     "data": {
      "application/vnd.jupyter.widget-view+json": {
       "model_id": "640b2ef47ff84c1eb7e92b6123c3179d",
       "version_major": 2,
       "version_minor": 0
      },
      "text/plain": [
       "Epoch 10:   0%|          | 0/60 [00:00<?, ?batch/s]"
      ]
     },
     "metadata": {},
     "output_type": "display_data"
    },
    {
     "name": "stdout",
     "output_type": "stream",
     "text": [
      "Epoch 010\n",
      "TRAIN→ \"R\": RMSE=0.2752 MAE=0.2136 R2=0.0985 | \"B\": Acc=0.5355 Prec=0.3049 Rec=0.5500 F1=0.3923 AUROC=0.5560\n",
      "VALID→ \"R\": RMSE=0.2707 MAE=0.1940 R2=0.0979 | \"B\": Acc=0.7217 Prec=0.5084 Rec=0.2255 F1=0.3124 AUROC=0.6636\n"
     ]
    },
    {
     "data": {
      "application/vnd.jupyter.widget-view+json": {
       "model_id": "a9bb1b9c4faa40b48e84924971c89c5a",
       "version_major": 2,
       "version_minor": 0
      },
      "text/plain": [
       "Epoch 11:   0%|          | 0/60 [00:00<?, ?batch/s]"
      ]
     },
     "metadata": {},
     "output_type": "display_data"
    },
    {
     "name": "stdout",
     "output_type": "stream",
     "text": [
      "Epoch 011\n",
      "TRAIN→ \"R\": RMSE=0.2727 MAE=0.2108 R2=0.1145 | \"B\": Acc=0.5294 Prec=0.3085 Rec=0.5845 F1=0.4038 AUROC=0.5651\n",
      "VALID→ \"R\": RMSE=0.2672 MAE=0.1927 R2=0.1211 | \"B\": Acc=0.7144 Prec=0.4875 Rec=0.3575 F1=0.4125 AUROC=0.6791\n"
     ]
    },
    {
     "data": {
      "application/vnd.jupyter.widget-view+json": {
       "model_id": "302e4dbfdbae4e33a0ca5ce8716c84e5",
       "version_major": 2,
       "version_minor": 0
      },
      "text/plain": [
       "Epoch 12:   0%|          | 0/60 [00:00<?, ?batch/s]"
      ]
     },
     "metadata": {},
     "output_type": "display_data"
    },
    {
     "name": "stdout",
     "output_type": "stream",
     "text": [
      "Epoch 012\n",
      "TRAIN→ \"R\": RMSE=0.2714 MAE=0.2089 R2=0.1231 | \"B\": Acc=0.5224 Prec=0.3107 Rec=0.6166 F1=0.4132 AUROC=0.5728\n",
      "VALID→ \"R\": RMSE=0.2648 MAE=0.1920 R2=0.1373 | \"B\": Acc=0.7030 Prec=0.4689 Rec=0.4463 F1=0.4573 AUROC=0.6896\n"
     ]
    },
    {
     "data": {
      "application/vnd.jupyter.widget-view+json": {
       "model_id": "143d2c88b40b4b108e269271f0b1460d",
       "version_major": 2,
       "version_minor": 0
      },
      "text/plain": [
       "Epoch 13:   0%|          | 0/60 [00:00<?, ?batch/s]"
      ]
     },
     "metadata": {},
     "output_type": "display_data"
    },
    {
     "name": "stdout",
     "output_type": "stream",
     "text": [
      "Epoch 013\n",
      "TRAIN→ \"R\": RMSE=0.2700 MAE=0.2077 R2=0.1323 | \"B\": Acc=0.5160 Prec=0.3108 Rec=0.6366 F1=0.4176 AUROC=0.5765\n",
      "VALID→ \"R\": RMSE=0.2639 MAE=0.1906 R2=0.1427 | \"B\": Acc=0.6982 Prec=0.4639 Rec=0.4897 F1=0.4764 AUROC=0.6981\n"
     ]
    },
    {
     "data": {
      "application/vnd.jupyter.widget-view+json": {
       "model_id": "16170c9dc1204c56bdf0c089df6778bc",
       "version_major": 2,
       "version_minor": 0
      },
      "text/plain": [
       "Epoch 14:   0%|          | 0/60 [00:00<?, ?batch/s]"
      ]
     },
     "metadata": {},
     "output_type": "display_data"
    },
    {
     "name": "stdout",
     "output_type": "stream",
     "text": [
      "Epoch 014\n",
      "TRAIN→ \"R\": RMSE=0.2691 MAE=0.2067 R2=0.1382 | \"B\": Acc=0.5142 Prec=0.3123 Rec=0.6505 F1=0.4220 AUROC=0.5811\n",
      "VALID→ \"R\": RMSE=0.2621 MAE=0.1902 R2=0.1544 | \"B\": Acc=0.6917 Prec=0.4573 Rec=0.5320 F1=0.4918 AUROC=0.7041\n"
     ]
    },
    {
     "data": {
      "application/vnd.jupyter.widget-view+json": {
       "model_id": "b6f924c795ea45208619d55be5d890f7",
       "version_major": 2,
       "version_minor": 0
      },
      "text/plain": [
       "Epoch 15:   0%|          | 0/60 [00:00<?, ?batch/s]"
      ]
     },
     "metadata": {},
     "output_type": "display_data"
    },
    {
     "name": "stdout",
     "output_type": "stream",
     "text": [
      "Epoch 015\n",
      "TRAIN→ \"R\": RMSE=0.2680 MAE=0.2060 R2=0.1452 | \"B\": Acc=0.5090 Prec=0.3114 Rec=0.6607 F1=0.4233 AUROC=0.5819\n",
      "VALID→ \"R\": RMSE=0.2619 MAE=0.1888 R2=0.1556 | \"B\": Acc=0.6858 Prec=0.4519 Rec=0.5670 F1=0.5030 AUROC=0.7083\n"
     ]
    },
    {
     "data": {
      "application/vnd.jupyter.widget-view+json": {
       "model_id": "ca919890d35548958ff3e3683325678a",
       "version_major": 2,
       "version_minor": 0
      },
      "text/plain": [
       "Epoch 16:   0%|          | 0/60 [00:00<?, ?batch/s]"
      ]
     },
     "metadata": {},
     "output_type": "display_data"
    },
    {
     "name": "stdout",
     "output_type": "stream",
     "text": [
      "Epoch 016\n",
      "TRAIN→ \"R\": RMSE=0.2671 MAE=0.2050 R2=0.1507 | \"B\": Acc=0.5066 Prec=0.3114 Rec=0.6683 F1=0.4248 AUROC=0.5833\n",
      "VALID→ \"R\": RMSE=0.2604 MAE=0.1886 R2=0.1652 | \"B\": Acc=0.6779 Prec=0.4450 Rec=0.6016 F1=0.5116 AUROC=0.7110\n"
     ]
    },
    {
     "data": {
      "application/vnd.jupyter.widget-view+json": {
       "model_id": "71cd7599f09e4fa282467d9680b59466",
       "version_major": 2,
       "version_minor": 0
      },
      "text/plain": [
       "Epoch 17:   0%|          | 0/60 [00:00<?, ?batch/s]"
      ]
     },
     "metadata": {},
     "output_type": "display_data"
    },
    {
     "name": "stdout",
     "output_type": "stream",
     "text": [
      "Epoch 017\n",
      "TRAIN→ \"R\": RMSE=0.2662 MAE=0.2043 R2=0.1564 | \"B\": Acc=0.5038 Prec=0.3108 Rec=0.6732 F1=0.4252 AUROC=0.5836\n",
      "VALID→ \"R\": RMSE=0.2602 MAE=0.1876 R2=0.1668 | \"B\": Acc=0.6770 Prec=0.4445 Rec=0.6080 F1=0.5135 AUROC=0.7126\n"
     ]
    },
    {
     "data": {
      "application/vnd.jupyter.widget-view+json": {
       "model_id": "a3f63dbfc5174d16a7d2a152021349fc",
       "version_major": 2,
       "version_minor": 0
      },
      "text/plain": [
       "Epoch 18:   0%|          | 0/60 [00:00<?, ?batch/s]"
      ]
     },
     "metadata": {},
     "output_type": "display_data"
    },
    {
     "name": "stdout",
     "output_type": "stream",
     "text": [
      "Epoch 018\n",
      "TRAIN→ \"R\": RMSE=0.2655 MAE=0.2036 R2=0.1612 | \"B\": Acc=0.5012 Prec=0.3105 Rec=0.6794 F1=0.4262 AUROC=0.5839\n",
      "VALID→ \"R\": RMSE=0.2595 MAE=0.1871 R2=0.1714 | \"B\": Acc=0.6691 Prec=0.4377 Rec=0.6328 F1=0.5175 AUROC=0.7137\n"
     ]
    },
    {
     "data": {
      "application/vnd.jupyter.widget-view+json": {
       "model_id": "23413b22089544df830f0feb997f0273",
       "version_major": 2,
       "version_minor": 0
      },
      "text/plain": [
       "Epoch 19:   0%|          | 0/60 [00:00<?, ?batch/s]"
      ]
     },
     "metadata": {},
     "output_type": "display_data"
    },
    {
     "name": "stdout",
     "output_type": "stream",
     "text": [
      "Epoch 019\n",
      "TRAIN→ \"R\": RMSE=0.2647 MAE=0.2029 R2=0.1660 | \"B\": Acc=0.5041 Prec=0.3111 Rec=0.6739 F1=0.4256 AUROC=0.5841\n",
      "VALID→ \"R\": RMSE=0.2589 MAE=0.1866 R2=0.1749 | \"B\": Acc=0.6704 Prec=0.4388 Rec=0.6290 F1=0.5170 AUROC=0.7138\n"
     ]
    },
    {
     "data": {
      "application/vnd.jupyter.widget-view+json": {
       "model_id": "261f17cb93d54ff1a37fd20c97495e98",
       "version_major": 2,
       "version_minor": 0
      },
      "text/plain": [
       "Epoch 20:   0%|          | 0/60 [00:00<?, ?batch/s]"
      ]
     },
     "metadata": {},
     "output_type": "display_data"
    },
    {
     "name": "stdout",
     "output_type": "stream",
     "text": [
      "Epoch 020\n",
      "TRAIN→ \"R\": RMSE=0.2641 MAE=0.2024 R2=0.1695 | \"B\": Acc=0.5041 Prec=0.3109 Rec=0.6730 F1=0.4253 AUROC=0.5839\n",
      "VALID→ \"R\": RMSE=0.2585 MAE=0.1862 R2=0.1774 | \"B\": Acc=0.6661 Prec=0.4350 Rec=0.6382 F1=0.5174 AUROC=0.7135\n"
     ]
    },
    {
     "data": {
      "application/vnd.jupyter.widget-view+json": {
       "model_id": "9fb764b313164af495451d75b7ad4038",
       "version_major": 2,
       "version_minor": 0
      },
      "text/plain": [
       "Epoch 21:   0%|          | 0/60 [00:00<?, ?batch/s]"
      ]
     },
     "metadata": {},
     "output_type": "display_data"
    },
    {
     "name": "stdout",
     "output_type": "stream",
     "text": [
      "Epoch 021\n",
      "TRAIN→ \"R\": RMSE=0.2636 MAE=0.2018 R2=0.1730 | \"B\": Acc=0.5051 Prec=0.3108 Rec=0.6693 F1=0.4245 AUROC=0.5830\n",
      "VALID→ \"R\": RMSE=0.2580 MAE=0.1860 R2=0.1806 | \"B\": Acc=0.6719 Prec=0.4396 Rec=0.6190 F1=0.5141 AUROC=0.7125\n"
     ]
    },
    {
     "data": {
      "application/vnd.jupyter.widget-view+json": {
       "model_id": "96db4f5a82674c0da0fe78608dd2cecb",
       "version_major": 2,
       "version_minor": 0
      },
      "text/plain": [
       "Epoch 22:   0%|          | 0/60 [00:00<?, ?batch/s]"
      ]
     },
     "metadata": {},
     "output_type": "display_data"
    },
    {
     "name": "stdout",
     "output_type": "stream",
     "text": [
      "Epoch 022\n",
      "TRAIN→ \"R\": RMSE=0.2630 MAE=0.2012 R2=0.1766 | \"B\": Acc=0.5069 Prec=0.3107 Rec=0.6635 F1=0.4232 AUROC=0.5818\n",
      "VALID→ \"R\": RMSE=0.2577 MAE=0.1857 R2=0.1827 | \"B\": Acc=0.6724 Prec=0.4399 Rec=0.6153 F1=0.5130 AUROC=0.7116\n"
     ]
    },
    {
     "data": {
      "application/vnd.jupyter.widget-view+json": {
       "model_id": "3591a96eaa014e11a647fd282a934f10",
       "version_major": 2,
       "version_minor": 0
      },
      "text/plain": [
       "Epoch 23:   0%|          | 0/60 [00:00<?, ?batch/s]"
      ]
     },
     "metadata": {},
     "output_type": "display_data"
    },
    {
     "name": "stdout",
     "output_type": "stream",
     "text": [
      "Epoch 023\n",
      "TRAIN→ \"R\": RMSE=0.2626 MAE=0.2009 R2=0.1793 | \"B\": Acc=0.5085 Prec=0.3104 Rec=0.6567 F1=0.4215 AUROC=0.5802\n",
      "VALID→ \"R\": RMSE=0.2573 MAE=0.1855 R2=0.1850 | \"B\": Acc=0.6720 Prec=0.4390 Rec=0.6116 F1=0.5112 AUROC=0.7101\n"
     ]
    },
    {
     "data": {
      "application/vnd.jupyter.widget-view+json": {
       "model_id": "ec2bf22967cd49128d706e8e115aa93b",
       "version_major": 2,
       "version_minor": 0
      },
      "text/plain": [
       "Epoch 24:   0%|          | 0/60 [00:00<?, ?batch/s]"
      ]
     },
     "metadata": {},
     "output_type": "display_data"
    },
    {
     "name": "stdout",
     "output_type": "stream",
     "text": [
      "Epoch 024\n",
      "TRAIN→ \"R\": RMSE=0.2621 MAE=0.2005 R2=0.1821 | \"B\": Acc=0.5104 Prec=0.3102 Rec=0.6501 F1=0.4200 AUROC=0.5783\n",
      "VALID→ \"R\": RMSE=0.2572 MAE=0.1852 R2=0.1859 | \"B\": Acc=0.6742 Prec=0.4405 Rec=0.5987 F1=0.5075 AUROC=0.7079\n"
     ]
    },
    {
     "data": {
      "application/vnd.jupyter.widget-view+json": {
       "model_id": "043f8228bed44fb4977214b98c7c98e3",
       "version_major": 2,
       "version_minor": 0
      },
      "text/plain": [
       "Epoch 25:   0%|          | 0/60 [00:00<?, ?batch/s]"
      ]
     },
     "metadata": {},
     "output_type": "display_data"
    },
    {
     "name": "stdout",
     "output_type": "stream",
     "text": [
      "Epoch 025\n",
      "TRAIN→ \"R\": RMSE=0.2617 MAE=0.2002 R2=0.1846 | \"B\": Acc=0.5115 Prec=0.3097 Rec=0.6442 F1=0.4183 AUROC=0.5766\n",
      "VALID→ \"R\": RMSE=0.2569 MAE=0.1851 R2=0.1876 | \"B\": Acc=0.6751 Prec=0.4407 Rec=0.5898 F1=0.5045 AUROC=0.7055\n"
     ]
    },
    {
     "data": {
      "application/vnd.jupyter.widget-view+json": {
       "model_id": "4a897491aad34839a9f21de5e16e48c6",
       "version_major": 2,
       "version_minor": 0
      },
      "text/plain": [
       "Epoch 26:   0%|          | 0/60 [00:00<?, ?batch/s]"
      ]
     },
     "metadata": {},
     "output_type": "display_data"
    },
    {
     "name": "stdout",
     "output_type": "stream",
     "text": [
      "Epoch 026\n",
      "TRAIN→ \"R\": RMSE=0.2613 MAE=0.1999 R2=0.1871 | \"B\": Acc=0.5082 Prec=0.3073 Rec=0.6408 F1=0.4154 AUROC=0.5726\n",
      "VALID→ \"R\": RMSE=0.2567 MAE=0.1849 R2=0.1887 | \"B\": Acc=0.6706 Prec=0.4361 Rec=0.5966 F1=0.5039 AUROC=0.7034\n"
     ]
    },
    {
     "data": {
      "application/vnd.jupyter.widget-view+json": {
       "model_id": "41a5be40e16342e5ac1f30293bd58938",
       "version_major": 2,
       "version_minor": 0
      },
      "text/plain": [
       "Epoch 27:   0%|          | 0/60 [00:00<?, ?batch/s]"
      ]
     },
     "metadata": {},
     "output_type": "display_data"
    },
    {
     "name": "stdout",
     "output_type": "stream",
     "text": [
      "Epoch 027\n",
      "TRAIN→ \"R\": RMSE=0.2610 MAE=0.1995 R2=0.1893 | \"B\": Acc=0.5088 Prec=0.3064 Rec=0.6340 F1=0.4131 AUROC=0.5699\n",
      "VALID→ \"R\": RMSE=0.2564 MAE=0.1848 R2=0.1911 | \"B\": Acc=0.6740 Prec=0.4385 Rec=0.5801 F1=0.4995 AUROC=0.7005\n"
     ]
    },
    {
     "data": {
      "application/vnd.jupyter.widget-view+json": {
       "model_id": "d4a90d9389b9470c8fca0253825c6088",
       "version_major": 2,
       "version_minor": 0
      },
      "text/plain": [
       "Epoch 28:   0%|          | 0/60 [00:00<?, ?batch/s]"
      ]
     },
     "metadata": {},
     "output_type": "display_data"
    },
    {
     "name": "stdout",
     "output_type": "stream",
     "text": [
      "Epoch 028\n",
      "TRAIN→ \"R\": RMSE=0.2607 MAE=0.1993 R2=0.1910 | \"B\": Acc=0.5092 Prec=0.3054 Rec=0.6277 F1=0.4109 AUROC=0.5671\n",
      "VALID→ \"R\": RMSE=0.2562 MAE=0.1847 R2=0.1920 | \"B\": Acc=0.6757 Prec=0.4392 Rec=0.5652 F1=0.4943 AUROC=0.6972\n"
     ]
    },
    {
     "data": {
      "application/vnd.jupyter.widget-view+json": {
       "model_id": "156dc7ca10394e618bce92a44fdfcb4c",
       "version_major": 2,
       "version_minor": 0
      },
      "text/plain": [
       "Epoch 29:   0%|          | 0/60 [00:00<?, ?batch/s]"
      ]
     },
     "metadata": {},
     "output_type": "display_data"
    },
    {
     "name": "stdout",
     "output_type": "stream",
     "text": [
      "Epoch 029\n",
      "TRAIN→ \"R\": RMSE=0.2604 MAE=0.1991 R2=0.1930 | \"B\": Acc=0.5089 Prec=0.3045 Rec=0.6239 F1=0.4092 AUROC=0.5651\n",
      "VALID→ \"R\": RMSE=0.2561 MAE=0.1845 R2=0.1926 | \"B\": Acc=0.6770 Prec=0.4392 Rec=0.5487 F1=0.4879 AUROC=0.6930\n"
     ]
    },
    {
     "data": {
      "application/vnd.jupyter.widget-view+json": {
       "model_id": "b40469dcbfe34062b37e8b213c9a64da",
       "version_major": 2,
       "version_minor": 0
      },
      "text/plain": [
       "Epoch 30:   0%|          | 0/60 [00:00<?, ?batch/s]"
      ]
     },
     "metadata": {},
     "output_type": "display_data"
    },
    {
     "name": "stdout",
     "output_type": "stream",
     "text": [
      "Epoch 030\n",
      "TRAIN→ \"R\": RMSE=0.2601 MAE=0.1988 R2=0.1949 | \"B\": Acc=0.5095 Prec=0.3029 Rec=0.6142 F1=0.4058 AUROC=0.5612\n",
      "VALID→ \"R\": RMSE=0.2559 MAE=0.1843 R2=0.1938 | \"B\": Acc=0.6773 Prec=0.4381 Rec=0.5336 F1=0.4812 AUROC=0.6891\n"
     ]
    },
    {
     "data": {
      "application/vnd.jupyter.widget-view+json": {
       "model_id": "08f169a6cb0043268cb221ac47310c14",
       "version_major": 2,
       "version_minor": 0
      },
      "text/plain": [
       "Epoch 31:   0%|          | 0/60 [00:00<?, ?batch/s]"
      ]
     },
     "metadata": {},
     "output_type": "display_data"
    },
    {
     "name": "stdout",
     "output_type": "stream",
     "text": [
      "Epoch 031\n",
      "TRAIN→ \"R\": RMSE=0.2599 MAE=0.1987 R2=0.1962 | \"B\": Acc=0.5065 Prec=0.3015 Rec=0.6152 F1=0.4047 AUROC=0.5585\n",
      "VALID→ \"R\": RMSE=0.2558 MAE=0.1842 R2=0.1946 | \"B\": Acc=0.6749 Prec=0.4345 Rec=0.5289 F1=0.4771 AUROC=0.6854\n"
     ]
    },
    {
     "data": {
      "application/vnd.jupyter.widget-view+json": {
       "model_id": "7aeb6d6ea12541bc8499ac83a930ec3c",
       "version_major": 2,
       "version_minor": 0
      },
      "text/plain": [
       "Epoch 32:   0%|          | 0/60 [00:00<?, ?batch/s]"
      ]
     },
     "metadata": {},
     "output_type": "display_data"
    },
    {
     "name": "stdout",
     "output_type": "stream",
     "text": [
      "Epoch 032\n",
      "TRAIN→ \"R\": RMSE=0.2596 MAE=0.1985 R2=0.1976 | \"B\": Acc=0.5043 Prec=0.3001 Rec=0.6143 F1=0.4032 AUROC=0.5559\n",
      "VALID→ \"R\": RMSE=0.2554 MAE=0.1843 R2=0.1969 | \"B\": Acc=0.6708 Prec=0.4294 Rec=0.5284 F1=0.4738 AUROC=0.6813\n"
     ]
    },
    {
     "data": {
      "application/vnd.jupyter.widget-view+json": {
       "model_id": "6c01681a2eee44688d74dbd03c91afe2",
       "version_major": 2,
       "version_minor": 0
      },
      "text/plain": [
       "Epoch 33:   0%|          | 0/60 [00:00<?, ?batch/s]"
      ]
     },
     "metadata": {},
     "output_type": "display_data"
    },
    {
     "name": "stdout",
     "output_type": "stream",
     "text": [
      "Epoch 033\n",
      "TRAIN→ \"R\": RMSE=0.2594 MAE=0.1983 R2=0.1991 | \"B\": Acc=0.5017 Prec=0.2986 Rec=0.6135 F1=0.4017 AUROC=0.5535\n",
      "VALID→ \"R\": RMSE=0.2554 MAE=0.1841 R2=0.1972 | \"B\": Acc=0.6651 Prec=0.4226 Rec=0.5304 F1=0.4704 AUROC=0.6770\n"
     ]
    },
    {
     "data": {
      "application/vnd.jupyter.widget-view+json": {
       "model_id": "76f8d7119a074ae289c941cf353cd7d6",
       "version_major": 2,
       "version_minor": 0
      },
      "text/plain": [
       "Epoch 34:   0%|          | 0/60 [00:00<?, ?batch/s]"
      ]
     },
     "metadata": {},
     "output_type": "display_data"
    },
    {
     "name": "stdout",
     "output_type": "stream",
     "text": [
      "Epoch 034\n",
      "TRAIN→ \"R\": RMSE=0.2592 MAE=0.1982 R2=0.2006 | \"B\": Acc=0.5021 Prec=0.2984 Rec=0.6114 F1=0.4010 AUROC=0.5530\n",
      "VALID→ \"R\": RMSE=0.2552 MAE=0.1840 R2=0.1982 | \"B\": Acc=0.6688 Prec=0.4228 Rec=0.4955 F1=0.4563 AUROC=0.6718\n"
     ]
    },
    {
     "data": {
      "application/vnd.jupyter.widget-view+json": {
       "model_id": "4ea6f3736e694f0cab41944a7f7abe0c",
       "version_major": 2,
       "version_minor": 0
      },
      "text/plain": [
       "Epoch 35:   0%|          | 0/60 [00:00<?, ?batch/s]"
      ]
     },
     "metadata": {},
     "output_type": "display_data"
    },
    {
     "name": "stdout",
     "output_type": "stream",
     "text": [
      "Epoch 035\n",
      "TRAIN→ \"R\": RMSE=0.2589 MAE=0.1980 R2=0.2020 | \"B\": Acc=0.5010 Prec=0.2971 Rec=0.6079 F1=0.3991 AUROC=0.5498\n",
      "VALID→ \"R\": RMSE=0.2552 MAE=0.1838 R2=0.1984 | \"B\": Acc=0.6620 Prec=0.4146 Rec=0.4982 F1=0.4525 AUROC=0.6669\n"
     ]
    },
    {
     "data": {
      "application/vnd.jupyter.widget-view+json": {
       "model_id": "44cab1ab34454a809883c0c200587a71",
       "version_major": 2,
       "version_minor": 0
      },
      "text/plain": [
       "Epoch 36:   0%|          | 0/60 [00:00<?, ?batch/s]"
      ]
     },
     "metadata": {},
     "output_type": "display_data"
    },
    {
     "name": "stdout",
     "output_type": "stream",
     "text": [
      "Epoch 036\n",
      "TRAIN→ \"R\": RMSE=0.2588 MAE=0.1978 R2=0.2030 | \"B\": Acc=0.4981 Prec=0.2961 Rec=0.6106 F1=0.3989 AUROC=0.5486\n",
      "VALID→ \"R\": RMSE=0.2550 MAE=0.1838 R2=0.1997 | \"B\": Acc=0.6589 Prec=0.4093 Rec=0.4883 F1=0.4453 AUROC=0.6619\n"
     ]
    },
    {
     "data": {
      "application/vnd.jupyter.widget-view+json": {
       "model_id": "d7b4a6bc816349c1a29ffdab19c8a54e",
       "version_major": 2,
       "version_minor": 0
      },
      "text/plain": [
       "Epoch 37:   0%|          | 0/60 [00:00<?, ?batch/s]"
      ]
     },
     "metadata": {},
     "output_type": "display_data"
    },
    {
     "name": "stdout",
     "output_type": "stream",
     "text": [
      "Epoch 037\n",
      "TRAIN→ \"R\": RMSE=0.2586 MAE=0.1977 R2=0.2040 | \"B\": Acc=0.4972 Prec=0.2953 Rec=0.6091 F1=0.3978 AUROC=0.5469\n",
      "VALID→ \"R\": RMSE=0.2549 MAE=0.1837 R2=0.2005 | \"B\": Acc=0.6580 Prec=0.4052 Rec=0.4696 F1=0.4351 AUROC=0.6564\n"
     ]
    },
    {
     "data": {
      "application/vnd.jupyter.widget-view+json": {
       "model_id": "7914c0f89ddc42d5bf7fe47424611607",
       "version_major": 2,
       "version_minor": 0
      },
      "text/plain": [
       "Epoch 38:   0%|          | 0/60 [00:00<?, ?batch/s]"
      ]
     },
     "metadata": {},
     "output_type": "display_data"
    },
    {
     "name": "stdout",
     "output_type": "stream",
     "text": [
      "Epoch 038\n",
      "TRAIN→ \"R\": RMSE=0.2584 MAE=0.1975 R2=0.2052 | \"B\": Acc=0.4970 Prec=0.2945 Rec=0.6053 F1=0.3962 AUROC=0.5449\n",
      "VALID→ \"R\": RMSE=0.2547 MAE=0.1836 R2=0.2014 | \"B\": Acc=0.6583 Prec=0.4003 Rec=0.4391 F1=0.4188 AUROC=0.6503\n"
     ]
    },
    {
     "data": {
      "application/vnd.jupyter.widget-view+json": {
       "model_id": "fdcd0a630c5d496e9fb5a900e1bae4f8",
       "version_major": 2,
       "version_minor": 0
      },
      "text/plain": [
       "Epoch 39:   0%|          | 0/60 [00:00<?, ?batch/s]"
      ]
     },
     "metadata": {},
     "output_type": "display_data"
    },
    {
     "name": "stdout",
     "output_type": "stream",
     "text": [
      "Epoch 039\n",
      "TRAIN→ \"R\": RMSE=0.2582 MAE=0.1975 R2=0.2064 | \"B\": Acc=0.5002 Prec=0.2943 Rec=0.5962 F1=0.3941 AUROC=0.5438\n",
      "VALID→ \"R\": RMSE=0.2546 MAE=0.1835 R2=0.2020 | \"B\": Acc=0.6617 Prec=0.3959 Rec=0.3924 F1=0.3941 AUROC=0.6435\n"
     ]
    },
    {
     "data": {
      "application/vnd.jupyter.widget-view+json": {
       "model_id": "78ed960a79ea46b294e885e088307c04",
       "version_major": 2,
       "version_minor": 0
      },
      "text/plain": [
       "Epoch 40:   0%|          | 0/60 [00:00<?, ?batch/s]"
      ]
     },
     "metadata": {},
     "output_type": "display_data"
    },
    {
     "name": "stdout",
     "output_type": "stream",
     "text": [
      "Epoch 040\n",
      "TRAIN→ \"R\": RMSE=0.2581 MAE=0.1973 R2=0.2073 | \"B\": Acc=0.5001 Prec=0.2930 Rec=0.5900 F1=0.3916 AUROC=0.5413\n",
      "VALID→ \"R\": RMSE=0.2545 MAE=0.1835 R2=0.2030 | \"B\": Acc=0.6596 Prec=0.3918 Rec=0.3873 F1=0.3895 AUROC=0.6402\n"
     ]
    },
    {
     "data": {
      "application/vnd.jupyter.widget-view+json": {
       "model_id": "eaeadfea6aac442882a4bf18ee8451c0",
       "version_major": 2,
       "version_minor": 0
      },
      "text/plain": [
       "Epoch 41:   0%|          | 0/60 [00:00<?, ?batch/s]"
      ]
     },
     "metadata": {},
     "output_type": "display_data"
    },
    {
     "name": "stdout",
     "output_type": "stream",
     "text": [
      "Epoch 041\n",
      "TRAIN→ \"R\": RMSE=0.2579 MAE=0.1972 R2=0.2084 | \"B\": Acc=0.4977 Prec=0.2926 Rec=0.5942 F1=0.3921 AUROC=0.5410\n",
      "VALID→ \"R\": RMSE=0.2544 MAE=0.1834 R2=0.2037 | \"B\": Acc=0.6548 Prec=0.3856 Rec=0.3894 F1=0.3875 AUROC=0.6359\n"
     ]
    },
    {
     "data": {
      "application/vnd.jupyter.widget-view+json": {
       "model_id": "10c97646126a4cd4995719c498494867",
       "version_major": 2,
       "version_minor": 0
      },
      "text/plain": [
       "Epoch 42:   0%|          | 0/60 [00:00<?, ?batch/s]"
      ]
     },
     "metadata": {},
     "output_type": "display_data"
    },
    {
     "name": "stdout",
     "output_type": "stream",
     "text": [
      "Epoch 042\n",
      "TRAIN→ \"R\": RMSE=0.2578 MAE=0.1971 R2=0.2091 | \"B\": Acc=0.4987 Prec=0.2926 Rec=0.5915 F1=0.3915 AUROC=0.5403\n",
      "VALID→ \"R\": RMSE=0.2543 MAE=0.1833 R2=0.2043 | \"B\": Acc=0.6559 Prec=0.3810 Rec=0.3636 F1=0.3721 AUROC=0.6299\n"
     ]
    },
    {
     "data": {
      "application/vnd.jupyter.widget-view+json": {
       "model_id": "2abc33fade4240ac94ed0b62006cab20",
       "version_major": 2,
       "version_minor": 0
      },
      "text/plain": [
       "Epoch 43:   0%|          | 0/60 [00:00<?, ?batch/s]"
      ]
     },
     "metadata": {},
     "output_type": "display_data"
    },
    {
     "name": "stdout",
     "output_type": "stream",
     "text": [
      "Epoch 043\n",
      "TRAIN→ \"R\": RMSE=0.2577 MAE=0.1971 R2=0.2093 | \"B\": Acc=0.4972 Prec=0.2912 Rec=0.5886 F1=0.3896 AUROC=0.5376\n",
      "VALID→ \"R\": RMSE=0.2541 MAE=0.1833 R2=0.2051 | \"B\": Acc=0.6517 Prec=0.3767 Rec=0.3699 F1=0.3733 AUROC=0.6268\n"
     ]
    },
    {
     "data": {
      "application/vnd.jupyter.widget-view+json": {
       "model_id": "a4495559ecc34ac0bad758815a70bfc0",
       "version_major": 2,
       "version_minor": 0
      },
      "text/plain": [
       "Epoch 44:   0%|          | 0/60 [00:00<?, ?batch/s]"
      ]
     },
     "metadata": {},
     "output_type": "display_data"
    },
    {
     "name": "stdout",
     "output_type": "stream",
     "text": [
      "Epoch 044\n",
      "TRAIN→ \"R\": RMSE=0.2576 MAE=0.1969 R2=0.2103 | \"B\": Acc=0.4961 Prec=0.2905 Rec=0.5882 F1=0.3890 AUROC=0.5371\n",
      "VALID→ \"R\": RMSE=0.2541 MAE=0.1831 R2=0.2052 | \"B\": Acc=0.6497 Prec=0.3701 Rec=0.3550 F1=0.3624 AUROC=0.6205\n"
     ]
    },
    {
     "data": {
      "application/vnd.jupyter.widget-view+json": {
       "model_id": "8ccfd4e4f5b343128ab87e289d757f24",
       "version_major": 2,
       "version_minor": 0
      },
      "text/plain": [
       "Epoch 45:   0%|          | 0/60 [00:00<?, ?batch/s]"
      ]
     },
     "metadata": {},
     "output_type": "display_data"
    },
    {
     "name": "stdout",
     "output_type": "stream",
     "text": [
      "Epoch 045\n",
      "TRAIN→ \"R\": RMSE=0.2574 MAE=0.1969 R2=0.2111 | \"B\": Acc=0.4946 Prec=0.2897 Rec=0.5878 F1=0.3881 AUROC=0.5352\n",
      "VALID→ \"R\": RMSE=0.2540 MAE=0.1832 R2=0.2062 | \"B\": Acc=0.6485 Prec=0.3657 Rec=0.3451 F1=0.3551 AUROC=0.6156\n"
     ]
    },
    {
     "data": {
      "application/vnd.jupyter.widget-view+json": {
       "model_id": "6db8039253bb437fbfe7eab1501df5a2",
       "version_major": 2,
       "version_minor": 0
      },
      "text/plain": [
       "Epoch 46:   0%|          | 0/60 [00:00<?, ?batch/s]"
      ]
     },
     "metadata": {},
     "output_type": "display_data"
    },
    {
     "name": "stdout",
     "output_type": "stream",
     "text": [
      "Epoch 046\n",
      "TRAIN→ \"R\": RMSE=0.2573 MAE=0.1966 R2=0.2122 | \"B\": Acc=0.4946 Prec=0.2895 Rec=0.5872 F1=0.3878 AUROC=0.5346\n",
      "VALID→ \"R\": RMSE=0.2539 MAE=0.1831 R2=0.2067 | \"B\": Acc=0.6472 Prec=0.3607 Rec=0.3341 F1=0.3469 AUROC=0.6099\n"
     ]
    },
    {
     "data": {
      "application/vnd.jupyter.widget-view+json": {
       "model_id": "240d8d6f91d94bfdb89d44f8b4a17990",
       "version_major": 2,
       "version_minor": 0
      },
      "text/plain": [
       "Epoch 47:   0%|          | 0/60 [00:00<?, ?batch/s]"
      ]
     },
     "metadata": {},
     "output_type": "display_data"
    },
    {
     "name": "stdout",
     "output_type": "stream",
     "text": [
      "Epoch 047\n",
      "TRAIN→ \"R\": RMSE=0.2572 MAE=0.1966 R2=0.2126 | \"B\": Acc=0.4945 Prec=0.2888 Rec=0.5842 F1=0.3866 AUROC=0.5333\n",
      "VALID→ \"R\": RMSE=0.2538 MAE=0.1830 R2=0.2073 | \"B\": Acc=0.6466 Prec=0.3570 Rec=0.3252 F1=0.3404 AUROC=0.6055\n"
     ]
    },
    {
     "data": {
      "application/vnd.jupyter.widget-view+json": {
       "model_id": "6278b64ee9784d7aabd92b00e6cd7c85",
       "version_major": 2,
       "version_minor": 0
      },
      "text/plain": [
       "Epoch 48:   0%|          | 0/60 [00:00<?, ?batch/s]"
      ]
     },
     "metadata": {},
     "output_type": "display_data"
    },
    {
     "name": "stdout",
     "output_type": "stream",
     "text": [
      "Epoch 048\n",
      "TRAIN→ \"R\": RMSE=0.2571 MAE=0.1966 R2=0.2131 | \"B\": Acc=0.4942 Prec=0.2887 Rec=0.5844 F1=0.3865 AUROC=0.5327\n",
      "VALID→ \"R\": RMSE=0.2538 MAE=0.1829 R2=0.2074 | \"B\": Acc=0.6489 Prec=0.3531 Rec=0.3031 F1=0.3262 AUROC=0.5996\n"
     ]
    },
    {
     "data": {
      "application/vnd.jupyter.widget-view+json": {
       "model_id": "1519bf1ff9894f29b89c5ce34170200f",
       "version_major": 2,
       "version_minor": 0
      },
      "text/plain": [
       "Epoch 49:   0%|          | 0/60 [00:00<?, ?batch/s]"
      ]
     },
     "metadata": {},
     "output_type": "display_data"
    },
    {
     "name": "stdout",
     "output_type": "stream",
     "text": [
      "Epoch 049\n",
      "TRAIN→ \"R\": RMSE=0.2570 MAE=0.1965 R2=0.2137 | \"B\": Acc=0.4952 Prec=0.2875 Rec=0.5762 F1=0.3836 AUROC=0.5304\n",
      "VALID→ \"R\": RMSE=0.2536 MAE=0.1829 R2=0.2086 | \"B\": Acc=0.6487 Prec=0.3495 Rec=0.2932 F1=0.3189 AUROC=0.5955\n"
     ]
    },
    {
     "data": {
      "application/vnd.jupyter.widget-view+json": {
       "model_id": "348099096fb848c19ef0bd18b4465645",
       "version_major": 2,
       "version_minor": 0
      },
      "text/plain": [
       "Epoch 50:   0%|          | 0/60 [00:00<?, ?batch/s]"
      ]
     },
     "metadata": {},
     "output_type": "display_data"
    },
    {
     "name": "stdout",
     "output_type": "stream",
     "text": [
      "Epoch 050\n",
      "TRAIN→ \"R\": RMSE=0.2569 MAE=0.1963 R2=0.2145 | \"B\": Acc=0.4953 Prec=0.2871 Rec=0.5737 F1=0.3827 AUROC=0.5296\n",
      "VALID→ \"R\": RMSE=0.2536 MAE=0.1828 R2=0.2084 | \"B\": Acc=0.6487 Prec=0.3459 Rec=0.2835 F1=0.3116 AUROC=0.5912\n"
     ]
    },
    {
     "data": {
      "application/vnd.jupyter.widget-view+json": {
       "model_id": "8a7cc884065e42fc97a2232342b63bb2",
       "version_major": 2,
       "version_minor": 0
      },
      "text/plain": [
       "Epoch 51:   0%|          | 0/60 [00:00<?, ?batch/s]"
      ]
     },
     "metadata": {},
     "output_type": "display_data"
    },
    {
     "name": "stdout",
     "output_type": "stream",
     "text": [
      "Epoch 051\n",
      "TRAIN→ \"R\": RMSE=0.2568 MAE=0.1962 R2=0.2150 | \"B\": Acc=0.4966 Prec=0.2872 Rec=0.5711 F1=0.3822 AUROC=0.5297\n",
      "VALID→ \"R\": RMSE=0.2535 MAE=0.1828 R2=0.2090 | \"B\": Acc=0.6510 Prec=0.3443 Rec=0.2703 F1=0.3029 AUROC=0.5880\n"
     ]
    },
    {
     "data": {
      "application/vnd.jupyter.widget-view+json": {
       "model_id": "04c05df0c37940a1af476d7fac37f18a",
       "version_major": 2,
       "version_minor": 0
      },
      "text/plain": [
       "Epoch 52:   0%|          | 0/60 [00:00<?, ?batch/s]"
      ]
     },
     "metadata": {},
     "output_type": "display_data"
    },
    {
     "name": "stdout",
     "output_type": "stream",
     "text": [
      "Epoch 052\n",
      "TRAIN→ \"R\": RMSE=0.2567 MAE=0.1961 R2=0.2158 | \"B\": Acc=0.4957 Prec=0.2860 Rec=0.5676 F1=0.3803 AUROC=0.5270\n",
      "VALID→ \"R\": RMSE=0.2535 MAE=0.1827 R2=0.2093 | \"B\": Acc=0.6486 Prec=0.3400 Rec=0.2690 F1=0.3004 AUROC=0.5834\n"
     ]
    },
    {
     "data": {
      "application/vnd.jupyter.widget-view+json": {
       "model_id": "d45d532af0f0452bb9b12b2a8e7dd6c1",
       "version_major": 2,
       "version_minor": 0
      },
      "text/plain": [
       "Epoch 53:   0%|          | 0/60 [00:00<?, ?batch/s]"
      ]
     },
     "metadata": {},
     "output_type": "display_data"
    },
    {
     "name": "stdout",
     "output_type": "stream",
     "text": [
      "Epoch 053\n",
      "TRAIN→ \"R\": RMSE=0.2567 MAE=0.1962 R2=0.2158 | \"B\": Acc=0.4952 Prec=0.2853 Rec=0.5657 F1=0.3793 AUROC=0.5262\n",
      "VALID→ \"R\": RMSE=0.2535 MAE=0.1827 R2=0.2094 | \"B\": Acc=0.6497 Prec=0.3381 Rec=0.2603 F1=0.2942 AUROC=0.5805\n"
     ]
    },
    {
     "data": {
      "application/vnd.jupyter.widget-view+json": {
       "model_id": "b1533205be4f4d8baa3f9d472b388dee",
       "version_major": 2,
       "version_minor": 0
      },
      "text/plain": [
       "Epoch 54:   0%|          | 0/60 [00:00<?, ?batch/s]"
      ]
     },
     "metadata": {},
     "output_type": "display_data"
    },
    {
     "name": "stdout",
     "output_type": "stream",
     "text": [
      "Epoch 054\n",
      "TRAIN→ \"R\": RMSE=0.2566 MAE=0.1961 R2=0.2161 | \"B\": Acc=0.4961 Prec=0.2856 Rec=0.5649 F1=0.3794 AUROC=0.5261\n",
      "VALID→ \"R\": RMSE=0.2534 MAE=0.1825 R2=0.2095 | \"B\": Acc=0.6467 Prec=0.3353 Rec=0.2647 F1=0.2958 AUROC=0.5776\n"
     ]
    },
    {
     "data": {
      "application/vnd.jupyter.widget-view+json": {
       "model_id": "d78d2d4832a84b268cad6d94ed88f9c0",
       "version_major": 2,
       "version_minor": 0
      },
      "text/plain": [
       "Epoch 55:   0%|          | 0/60 [00:00<?, ?batch/s]"
      ]
     },
     "metadata": {},
     "output_type": "display_data"
    },
    {
     "name": "stdout",
     "output_type": "stream",
     "text": [
      "Epoch 055\n",
      "TRAIN→ \"R\": RMSE=0.2565 MAE=0.1961 R2=0.2167 | \"B\": Acc=0.4948 Prec=0.2856 Rec=0.5682 F1=0.3802 AUROC=0.5265\n",
      "VALID→ \"R\": RMSE=0.2535 MAE=0.1824 R2=0.2091 | \"B\": Acc=0.6450 Prec=0.3327 Rec=0.2645 F1=0.2947 AUROC=0.5748\n"
     ]
    },
    {
     "data": {
      "application/vnd.jupyter.widget-view+json": {
       "model_id": "1ff8fd556f244beb8c76effa46526f9f",
       "version_major": 2,
       "version_minor": 0
      },
      "text/plain": [
       "Epoch 56:   0%|          | 0/60 [00:00<?, ?batch/s]"
      ]
     },
     "metadata": {},
     "output_type": "display_data"
    },
    {
     "name": "stdout",
     "output_type": "stream",
     "text": [
      "Epoch 056\n",
      "TRAIN→ \"R\": RMSE=0.2564 MAE=0.1959 R2=0.2172 | \"B\": Acc=0.4930 Prec=0.2851 Rec=0.5704 F1=0.3802 AUROC=0.5257\n",
      "VALID→ \"R\": RMSE=0.2534 MAE=0.1823 R2=0.2095 | \"B\": Acc=0.6429 Prec=0.3318 Rec=0.2695 F1=0.2974 AUROC=0.5732\n"
     ]
    },
    {
     "data": {
      "application/vnd.jupyter.widget-view+json": {
       "model_id": "20c143284a4f45ea81e718f083caa981",
       "version_major": 2,
       "version_minor": 0
      },
      "text/plain": [
       "Epoch 57:   0%|          | 0/60 [00:00<?, ?batch/s]"
      ]
     },
     "metadata": {},
     "output_type": "display_data"
    },
    {
     "name": "stdout",
     "output_type": "stream",
     "text": [
      "Epoch 057\n",
      "TRAIN→ \"R\": RMSE=0.2564 MAE=0.1959 R2=0.2176 | \"B\": Acc=0.4907 Prec=0.2847 Rec=0.5736 F1=0.3805 AUROC=0.5255\n",
      "VALID→ \"R\": RMSE=0.2534 MAE=0.1823 R2=0.2097 | \"B\": Acc=0.6410 Prec=0.3303 Rec=0.2728 F1=0.2988 AUROC=0.5715\n"
     ]
    },
    {
     "data": {
      "application/vnd.jupyter.widget-view+json": {
       "model_id": "23670e5a657e4aac99a72a593c5f06a8",
       "version_major": 2,
       "version_minor": 0
      },
      "text/plain": [
       "Epoch 58:   0%|          | 0/60 [00:00<?, ?batch/s]"
      ]
     },
     "metadata": {},
     "output_type": "display_data"
    },
    {
     "name": "stdout",
     "output_type": "stream",
     "text": [
      "Epoch 058\n",
      "TRAIN→ \"R\": RMSE=0.2562 MAE=0.1958 R2=0.2184 | \"B\": Acc=0.4919 Prec=0.2851 Rec=0.5728 F1=0.3807 AUROC=0.5257\n",
      "VALID→ \"R\": RMSE=0.2534 MAE=0.1822 R2=0.2096 | \"B\": Acc=0.6422 Prec=0.3278 Rec=0.2627 F1=0.2917 AUROC=0.5682\n"
     ]
    },
    {
     "data": {
      "application/vnd.jupyter.widget-view+json": {
       "model_id": "bca2195f5fd44d5cad6d9c2502df8996",
       "version_major": 2,
       "version_minor": 0
      },
      "text/plain": [
       "Epoch 59:   0%|          | 0/60 [00:00<?, ?batch/s]"
      ]
     },
     "metadata": {},
     "output_type": "display_data"
    },
    {
     "name": "stdout",
     "output_type": "stream",
     "text": [
      "Epoch 059\n",
      "TRAIN→ \"R\": RMSE=0.2562 MAE=0.1958 R2=0.2185 | \"B\": Acc=0.4910 Prec=0.2849 Rec=0.5742 F1=0.3808 AUROC=0.5254\n",
      "VALID→ \"R\": RMSE=0.2534 MAE=0.1821 R2=0.2095 | \"B\": Acc=0.6416 Prec=0.3266 Rec=0.2618 F1=0.2906 AUROC=0.5660\n"
     ]
    },
    {
     "data": {
      "application/vnd.jupyter.widget-view+json": {
       "model_id": "0fa034ee69fa45bc90a693a135626f50",
       "version_major": 2,
       "version_minor": 0
      },
      "text/plain": [
       "Epoch 60:   0%|          | 0/60 [00:00<?, ?batch/s]"
      ]
     },
     "metadata": {},
     "output_type": "display_data"
    },
    {
     "name": "stdout",
     "output_type": "stream",
     "text": [
      "Epoch 060\n",
      "TRAIN→ \"R\": RMSE=0.2561 MAE=0.1958 R2=0.2191 | \"B\": Acc=0.4921 Prec=0.2844 Rec=0.5689 F1=0.3792 AUROC=0.5247\n",
      "VALID→ \"R\": RMSE=0.2535 MAE=0.1820 R2=0.2093 | \"B\": Acc=0.6404 Prec=0.3250 Rec=0.2621 F1=0.2901 AUROC=0.5640\n"
     ]
    },
    {
     "data": {
      "application/vnd.jupyter.widget-view+json": {
       "model_id": "989e8471eb0d417eac509c2db04a10b5",
       "version_major": 2,
       "version_minor": 0
      },
      "text/plain": [
       "Epoch 61:   0%|          | 0/60 [00:00<?, ?batch/s]"
      ]
     },
     "metadata": {},
     "output_type": "display_data"
    },
    {
     "name": "stdout",
     "output_type": "stream",
     "text": [
      "Epoch 061\n",
      "TRAIN→ \"R\": RMSE=0.2561 MAE=0.1955 R2=0.2194 | \"B\": Acc=0.4904 Prec=0.2839 Rec=0.5708 F1=0.3792 AUROC=0.5240\n",
      "VALID→ \"R\": RMSE=0.2534 MAE=0.1819 R2=0.2096 | \"B\": Acc=0.6379 Prec=0.3239 Rec=0.2679 F1=0.2932 AUROC=0.5629\n"
     ]
    },
    {
     "data": {
      "application/vnd.jupyter.widget-view+json": {
       "model_id": "878067ea53ff4bcc9ff7c2a7dfd9181b",
       "version_major": 2,
       "version_minor": 0
      },
      "text/plain": [
       "Epoch 62:   0%|          | 0/60 [00:00<?, ?batch/s]"
      ]
     },
     "metadata": {},
     "output_type": "display_data"
    },
    {
     "name": "stdout",
     "output_type": "stream",
     "text": [
      "Epoch 062\n",
      "TRAIN→ \"R\": RMSE=0.2560 MAE=0.1955 R2=0.2200 | \"B\": Acc=0.4887 Prec=0.2841 Rec=0.5758 F1=0.3805 AUROC=0.5245\n",
      "VALID→ \"R\": RMSE=0.2534 MAE=0.1819 R2=0.2098 | \"B\": Acc=0.6386 Prec=0.3220 Rec=0.2611 F1=0.2884 AUROC=0.5596\n"
     ]
    },
    {
     "data": {
      "application/vnd.jupyter.widget-view+json": {
       "model_id": "6a15686ab70a4e699833e1d2f5e1cde8",
       "version_major": 2,
       "version_minor": 0
      },
      "text/plain": [
       "Epoch 63:   0%|          | 0/60 [00:00<?, ?batch/s]"
      ]
     },
     "metadata": {},
     "output_type": "display_data"
    },
    {
     "name": "stdout",
     "output_type": "stream",
     "text": [
      "Epoch 063\n",
      "TRAIN→ \"R\": RMSE=0.2560 MAE=0.1955 R2=0.2198 | \"B\": Acc=0.4903 Prec=0.2835 Rec=0.5693 F1=0.3786 AUROC=0.5236\n",
      "VALID→ \"R\": RMSE=0.2534 MAE=0.1818 R2=0.2095 | \"B\": Acc=0.6401 Prec=0.3209 Rec=0.2539 F1=0.2835 AUROC=0.5569\n"
     ]
    },
    {
     "data": {
      "application/vnd.jupyter.widget-view+json": {
       "model_id": "44bf6d57b6d64e38bcd236e9b2e23040",
       "version_major": 2,
       "version_minor": 0
      },
      "text/plain": [
       "Epoch 64:   0%|          | 0/60 [00:00<?, ?batch/s]"
      ]
     },
     "metadata": {},
     "output_type": "display_data"
    },
    {
     "name": "stdout",
     "output_type": "stream",
     "text": [
      "Epoch 064\n",
      "TRAIN→ \"R\": RMSE=0.2559 MAE=0.1954 R2=0.2202 | \"B\": Acc=0.4905 Prec=0.2832 Rec=0.5675 F1=0.3778 AUROC=0.5225\n",
      "VALID→ \"R\": RMSE=0.2535 MAE=0.1817 R2=0.2093 | \"B\": Acc=0.6379 Prec=0.3207 Rec=0.2604 F1=0.2874 AUROC=0.5572\n"
     ]
    },
    {
     "data": {
      "application/vnd.jupyter.widget-view+json": {
       "model_id": "ff2bccdcd24d49dcb5434fd3e3ad49c5",
       "version_major": 2,
       "version_minor": 0
      },
      "text/plain": [
       "Epoch 65:   0%|          | 0/60 [00:00<?, ?batch/s]"
      ]
     },
     "metadata": {},
     "output_type": "display_data"
    },
    {
     "name": "stdout",
     "output_type": "stream",
     "text": [
      "Epoch 065\n",
      "TRAIN→ \"R\": RMSE=0.2559 MAE=0.1953 R2=0.2205 | \"B\": Acc=0.4907 Prec=0.2835 Rec=0.5685 F1=0.3783 AUROC=0.5230\n",
      "VALID→ \"R\": RMSE=0.2535 MAE=0.1816 R2=0.2094 | \"B\": Acc=0.6401 Prec=0.3203 Rec=0.2527 F1=0.2825 AUROC=0.5554\n"
     ]
    },
    {
     "data": {
      "application/vnd.jupyter.widget-view+json": {
       "model_id": "50200502881d47f29c36e88dad28faf4",
       "version_major": 2,
       "version_minor": 0
      },
      "text/plain": [
       "Epoch 66:   0%|          | 0/60 [00:00<?, ?batch/s]"
      ]
     },
     "metadata": {},
     "output_type": "display_data"
    },
    {
     "name": "stdout",
     "output_type": "stream",
     "text": [
      "Epoch 066\n",
      "TRAIN→ \"R\": RMSE=0.2558 MAE=0.1952 R2=0.2213 | \"B\": Acc=0.4925 Prec=0.2831 Rec=0.5621 F1=0.3765 AUROC=0.5221\n",
      "VALID→ \"R\": RMSE=0.2535 MAE=0.1816 R2=0.2094 | \"B\": Acc=0.6403 Prec=0.3196 Rec=0.2504 F1=0.2808 AUROC=0.5541\n"
     ]
    },
    {
     "data": {
      "application/vnd.jupyter.widget-view+json": {
       "model_id": "3ed11943954e42d1bc903bbccf20f49b",
       "version_major": 2,
       "version_minor": 0
      },
      "text/plain": [
       "Epoch 67:   0%|          | 0/60 [00:00<?, ?batch/s]"
      ]
     },
     "metadata": {},
     "output_type": "display_data"
    },
    {
     "name": "stdout",
     "output_type": "stream",
     "text": [
      "Epoch 067\n",
      "TRAIN→ \"R\": RMSE=0.2558 MAE=0.1951 R2=0.2213 | \"B\": Acc=0.4923 Prec=0.2832 Rec=0.5630 F1=0.3768 AUROC=0.5219\n",
      "VALID→ \"R\": RMSE=0.2534 MAE=0.1815 R2=0.2096 | \"B\": Acc=0.6399 Prec=0.3187 Rec=0.2498 F1=0.2801 AUROC=0.5530\n"
     ]
    },
    {
     "data": {
      "application/vnd.jupyter.widget-view+json": {
       "model_id": "410890f253944a58be31e808f2f8e823",
       "version_major": 2,
       "version_minor": 0
      },
      "text/plain": [
       "Epoch 68:   0%|          | 0/60 [00:00<?, ?batch/s]"
      ]
     },
     "metadata": {},
     "output_type": "display_data"
    },
    {
     "name": "stdout",
     "output_type": "stream",
     "text": [
      "Epoch 068\n",
      "TRAIN→ \"R\": RMSE=0.2557 MAE=0.1952 R2=0.2215 | \"B\": Acc=0.4927 Prec=0.2829 Rec=0.5610 F1=0.3761 AUROC=0.5219\n",
      "VALID→ \"R\": RMSE=0.2535 MAE=0.1814 R2=0.2089 | \"B\": Acc=0.6417 Prec=0.3179 Rec=0.2426 F1=0.2752 AUROC=0.5507\n",
      "Early stopping at epoch 68\n",
      "✅ Final best model (_fin) saved: AAPL_0.25339_fin.pth\n",
      "Delete variables to free memory...\n"
     ]
    },
    {
     "name": "stderr",
     "output_type": "stream",
     "text": [
      "[I 2025-09-18 22:35:11,175] Trial 4 finished with value: 0.2533889710903168 and parameters: {'look_back': 90, 'DROPOUT_SHORT': 0.08294983544607068, 'DROPOUT_LONG': 0.3262779546625068, 'ATT_DROPOUT': 0.15760948441688413, 'INITIAL_LR': 2.366323161074841e-05, 'ETA_MIN': 3.4169559661323754e-06, 'WEIGHT_DECAY': 5.2523740587890315e-05, 'CLIPNORM': 5.441612036024297}. Best is trial 1 with value: 0.24039407074451447.\n"
     ]
    },
    {
     "name": "stdout",
     "output_type": "stream",
     "text": [
      "\n",
      "▶ Trial 5 starting with:\n",
      "{'look_back': 30, 'DROPOUT_SHORT': 0.3031318341184864, 'DROPOUT_LONG': 0.3164850541454929, 'ATT_DROPOUT': 0.312154077001075, 'INITIAL_LR': 0.0005697269982458067, 'ETA_MIN': 1.656180833193771e-06, 'WEIGHT_DECAY': 2.5034626851345667e-05, 'CLIPNORM': 3.1670909318329223}\n",
      "\n",
      "Build LSTM input tensors (disk-backed memmaps)...\n",
      "Inside build_tensors, features: ['adx_14', 'atr_14', 'ret', 'atr_pct_14', 'log_ret', 'macd_signal_12_26_9', 'bb_hband_20', 'body', 'bb_w_20', 'eng_vwap', 'minus_di_14', 'body_pct', 'hour', 'eng_obv', 'vol_spike_14', 'macd_diff_12_26_9', 'sma_28', 'eng_sma_long', 'obv_pct_14', 'eng_macd']\n"
     ]
    },
    {
     "data": {
      "application/vnd.jupyter.widget-view+json": {
       "model_id": "b1c54acfd8bf4a7292b21d69aef17bdb",
       "version_major": 2,
       "version_minor": 0
      },
      "text/plain": [
       "Counting windows:   0%|          | 0/5400 [00:00<?, ?it/s]"
      ]
     },
     "metadata": {},
     "output_type": "display_data"
    },
    {
     "data": {
      "application/vnd.jupyter.widget-view+json": {
       "model_id": "633635d3f1354002b840e0b554235d92",
       "version_major": 2,
       "version_minor": 0
      },
      "text/plain": [
       "Writing memmaps:   0%|          | 0/5400 [00:00<?, ?it/s]"
      ]
     },
     "metadata": {},
     "output_type": "display_data"
    },
    {
     "name": "stdout",
     "output_type": "stream",
     "text": [
      "Split into train/val/test by calendar day...\n",
      "Carve `end_times` into the same three splits...\n",
      "Build DataLoaders over calendar‐days...\n"
     ]
    },
    {
     "data": {
      "application/vnd.jupyter.widget-view+json": {
       "model_id": "7b7b53ba73134fd3bc6b2e394047b61f",
       "version_major": 2,
       "version_minor": 0
      },
      "text/plain": [
       "Creating DayWindowDatasets:   0%|          | 0/3 [00:00<?, ?split/s]"
      ]
     },
     "metadata": {},
     "output_type": "display_data"
    },
    {
     "name": "stdout",
     "output_type": "stream",
     "text": [
      "Instantiate the stateful DualMemoryLSTM...\n",
      "Build optimizer, LR scheduler, AMP scaler, and gradient‐clip norm...\n",
      "Run the custom stateful training loop...\n"
     ]
    },
    {
     "data": {
      "image/png": "[encoded data removed]",
      "text/plain": [
       "<Figure size 660x440 with 1 Axes>"
      ]
     },
     "metadata": {},
     "output_type": "display_data"
    },
    {
     "data": {
      "application/vnd.jupyter.widget-view+json": {
       "model_id": "a025ed10595346a9aa137d94fdd52c66",
       "version_major": 2,
       "version_minor": 0
      },
      "text/plain": [
       "Epoch 1:   0%|          | 0/60 [00:03<?, ?batch/s]"
      ]
     },
     "metadata": {},
     "output_type": "display_data"
    },
    {
     "name": "stdout",
     "output_type": "stream",
     "text": [
      "Epoch 001\n",
      "TRAIN→ \"R\": RMSE=0.3012 MAE=0.2378 R2=-0.0634 | \"B\": Acc=0.5964 Prec=0.2976 Rec=0.3163 F1=0.3067 AUROC=0.5185\n",
      "VALID→ \"R\": RMSE=0.2935 MAE=0.2010 R2=-0.0311 | \"B\": Acc=0.6207 Prec=0.3546 Rec=0.3478 F1=0.3511 AUROC=0.5961\n"
     ]
    },
    {
     "data": {
      "application/vnd.jupyter.widget-view+json": {
       "model_id": "5d5dfef17f4c4141ac6055973d0742db",
       "version_major": 2,
       "version_minor": 0
      },
      "text/plain": [
       "Epoch 2:   0%|          | 0/60 [00:00<?, ?batch/s]"
      ]
     },
     "metadata": {},
     "output_type": "display_data"
    },
    {
     "name": "stdout",
     "output_type": "stream",
     "text": [
      "Epoch 002\n",
      "TRAIN→ \"R\": RMSE=0.2784 MAE=0.2155 R2=0.0914 | \"B\": Acc=0.6162 Prec=0.2831 Rec=0.2353 F1=0.2570 AUROC=0.5052\n",
      "VALID→ \"R\": RMSE=0.2648 MAE=0.2047 R2=0.1608 | \"B\": Acc=0.7044 Prec=0.0000 Rec=0.0000 F1=0.0000 AUROC=0.4331\n"
     ]
    },
    {
     "data": {
      "application/vnd.jupyter.widget-view+json": {
       "model_id": "af6aa1380637421d932c8c08ee0d07f5",
       "version_major": 2,
       "version_minor": 0
      },
      "text/plain": [
       "Epoch 3:   0%|          | 0/60 [00:00<?, ?batch/s]"
      ]
     },
     "metadata": {},
     "output_type": "display_data"
    },
    {
     "name": "stdout",
     "output_type": "stream",
     "text": [
      "Epoch 003\n",
      "TRAIN→ \"R\": RMSE=0.2635 MAE=0.2031 R2=0.1863 | \"B\": Acc=0.6442 Prec=0.2442 Rec=0.1247 F1=0.1651 AUROC=0.4676\n",
      "VALID→ \"R\": RMSE=0.2612 MAE=0.1860 R2=0.1833 | \"B\": Acc=0.7031 Prec=0.0689 Rec=0.0005 F1=0.0010 AUROC=0.3478\n"
     ]
    },
    {
     "data": {
      "application/vnd.jupyter.widget-view+json": {
       "model_id": "97a1a3ad88d5489da0e969eb279e4178",
       "version_major": 2,
       "version_minor": 0
      },
      "text/plain": [
       "Epoch 4:   0%|          | 0/60 [00:00<?, ?batch/s]"
      ]
     },
     "metadata": {},
     "output_type": "display_data"
    },
    {
     "name": "stdout",
     "output_type": "stream",
     "text": [
      "Epoch 004\n",
      "TRAIN→ \"R\": RMSE=0.2600 MAE=0.2000 R2=0.2075 | \"B\": Acc=0.6042 Prec=0.2080 Rec=0.1435 F1=0.1698 AUROC=0.4241\n",
      "VALID→ \"R\": RMSE=0.2525 MAE=0.1916 R2=0.2370 | \"B\": Acc=0.6969 Prec=0.1471 Rec=0.0056 F1=0.0109 AUROC=0.3233\n"
     ]
    },
    {
     "data": {
      "application/vnd.jupyter.widget-view+json": {
       "model_id": "6a8cbf6ff6d94a64ac6f1de4a4a53223",
       "version_major": 2,
       "version_minor": 0
      },
      "text/plain": [
       "Epoch 5:   0%|          | 0/60 [00:00<?, ?batch/s]"
      ]
     },
     "metadata": {},
     "output_type": "display_data"
    },
    {
     "name": "stdout",
     "output_type": "stream",
     "text": [
      "Epoch 005\n",
      "TRAIN→ \"R\": RMSE=0.2585 MAE=0.1982 R2=0.2165 | \"B\": Acc=0.5903 Prec=0.1980 Rec=0.1482 F1=0.1695 AUROC=0.4073\n",
      "VALID→ \"R\": RMSE=0.2512 MAE=0.1905 R2=0.2449 | \"B\": Acc=0.6742 Prec=0.0540 Rec=0.0063 F1=0.0113 AUROC=0.2664\n"
     ]
    },
    {
     "data": {
      "application/vnd.jupyter.widget-view+json": {
       "model_id": "be45125455854b64b97c682eab533c2f",
       "version_major": 2,
       "version_minor": 0
      },
      "text/plain": [
       "Epoch 6:   0%|          | 0/60 [00:00<?, ?batch/s]"
      ]
     },
     "metadata": {},
     "output_type": "display_data"
    },
    {
     "name": "stdout",
     "output_type": "stream",
     "text": [
      "Epoch 006\n",
      "TRAIN→ \"R\": RMSE=0.2570 MAE=0.1978 R2=0.2257 | \"B\": Acc=0.5953 Prec=0.1803 Rec=0.1225 F1=0.1459 AUROC=0.3915\n",
      "VALID→ \"R\": RMSE=0.2542 MAE=0.1828 R2=0.2262 | \"B\": Acc=0.6152 Prec=0.0764 Rec=0.0274 F1=0.0403 AUROC=0.2663\n"
     ]
    },
    {
     "data": {
      "application/vnd.jupyter.widget-view+json": {
       "model_id": "56f6309d387444a8bf51558751efae5d",
       "version_major": 2,
       "version_minor": 0
      },
      "text/plain": [
       "Epoch 7:   0%|          | 0/60 [00:00<?, ?batch/s]"
      ]
     },
     "metadata": {},
     "output_type": "display_data"
    },
    {
     "name": "stdout",
     "output_type": "stream",
     "text": [
      "Epoch 007\n",
      "TRAIN→ \"R\": RMSE=0.2558 MAE=0.1957 R2=0.2332 | \"B\": Acc=0.5711 Prec=0.1735 Rec=0.1382 F1=0.1538 AUROC=0.3786\n",
      "VALID→ \"R\": RMSE=0.2520 MAE=0.1831 R2=0.2397 | \"B\": Acc=0.5595 Prec=0.0850 Rec=0.0505 F1=0.0634 AUROC=0.2604\n"
     ]
    },
    {
     "data": {
      "application/vnd.jupyter.widget-view+json": {
       "model_id": "e82b5ea115034513beaa0c2a02a2f631",
       "version_major": 2,
       "version_minor": 0
      },
      "text/plain": [
       "Epoch 8:   0%|          | 0/60 [00:00<?, ?batch/s]"
      ]
     },
     "metadata": {},
     "output_type": "display_data"
    },
    {
     "name": "stdout",
     "output_type": "stream",
     "text": [
      "Epoch 008\n",
      "TRAIN→ \"R\": RMSE=0.2554 MAE=0.1960 R2=0.2353 | \"B\": Acc=0.5638 Prec=0.1668 Rec=0.1368 F1=0.1503 AUROC=0.3702\n",
      "VALID→ \"R\": RMSE=0.2507 MAE=0.1838 R2=0.2473 | \"B\": Acc=0.5329 Prec=0.0970 Rec=0.0702 F1=0.0815 AUROC=0.2628\n"
     ]
    },
    {
     "data": {
      "application/vnd.jupyter.widget-view+json": {
       "model_id": "d5c460de107f4bedb76bb5bba10fb6e8",
       "version_major": 2,
       "version_minor": 0
      },
      "text/plain": [
       "Epoch 9:   0%|          | 0/60 [00:00<?, ?batch/s]"
      ]
     },
     "metadata": {},
     "output_type": "display_data"
    },
    {
     "name": "stdout",
     "output_type": "stream",
     "text": [
      "Epoch 009\n",
      "TRAIN→ \"R\": RMSE=0.2546 MAE=0.1950 R2=0.2404 | \"B\": Acc=0.5537 Prec=0.1654 Rec=0.1437 F1=0.1538 AUROC=0.3646\n",
      "VALID→ \"R\": RMSE=0.2495 MAE=0.1893 R2=0.2550 | \"B\": Acc=0.5499 Prec=0.0856 Rec=0.0542 F1=0.0664 AUROC=0.2611\n"
     ]
    },
    {
     "data": {
      "application/vnd.jupyter.widget-view+json": {
       "model_id": "ce16f785011f479fa814cbdef3de6800",
       "version_major": 2,
       "version_minor": 0
      },
      "text/plain": [
       "Epoch 10:   0%|          | 0/60 [00:00<?, ?batch/s]"
      ]
     },
     "metadata": {},
     "output_type": "display_data"
    },
    {
     "name": "stdout",
     "output_type": "stream",
     "text": [
      "Epoch 010\n",
      "TRAIN→ \"R\": RMSE=0.2556 MAE=0.1960 R2=0.2345 | \"B\": Acc=0.5575 Prec=0.1628 Rec=0.1373 F1=0.1489 AUROC=0.3620\n",
      "VALID→ \"R\": RMSE=0.2495 MAE=0.1856 R2=0.2549 | \"B\": Acc=0.5661 Prec=0.0718 Rec=0.0395 F1=0.0509 AUROC=0.2603\n"
     ]
    },
    {
     "data": {
      "application/vnd.jupyter.widget-view+json": {
       "model_id": "27353d6b50b64febac2d026f3d9cd4bf",
       "version_major": 2,
       "version_minor": 0
      },
      "text/plain": [
       "Epoch 11:   0%|          | 0/60 [00:00<?, ?batch/s]"
      ]
     },
     "metadata": {},
     "output_type": "display_data"
    },
    {
     "name": "stdout",
     "output_type": "stream",
     "text": [
      "Epoch 011\n",
      "TRAIN→ \"R\": RMSE=0.2534 MAE=0.1943 R2=0.2474 | \"B\": Acc=0.5560 Prec=0.1521 Rec=0.1255 F1=0.1375 AUROC=0.3522\n",
      "VALID→ \"R\": RMSE=0.2486 MAE=0.1893 R2=0.2602 | \"B\": Acc=0.5411 Prec=0.0803 Rec=0.0531 F1=0.0639 AUROC=0.2609\n"
     ]
    },
    {
     "data": {
      "application/vnd.jupyter.widget-view+json": {
       "model_id": "a91baa0f5bd341c3bec97a5399f801d1",
       "version_major": 2,
       "version_minor": 0
      },
      "text/plain": [
       "Epoch 12:   0%|          | 0/60 [00:00<?, ?batch/s]"
      ]
     },
     "metadata": {},
     "output_type": "display_data"
    },
    {
     "name": "stdout",
     "output_type": "stream",
     "text": [
      "Epoch 012\n",
      "TRAIN→ \"R\": RMSE=0.2537 MAE=0.1932 R2=0.2454 | \"B\": Acc=0.5519 Prec=0.1543 Rec=0.1313 F1=0.1419 AUROC=0.3550\n",
      "VALID→ \"R\": RMSE=0.2490 MAE=0.1922 R2=0.2578 | \"B\": Acc=0.5509 Prec=0.0686 Rec=0.0415 F1=0.0517 AUROC=0.2626\n"
     ]
    },
    {
     "data": {
      "application/vnd.jupyter.widget-view+json": {
       "model_id": "19b4fa78f9f541bfa7ee1c0d48c6e838",
       "version_major": 2,
       "version_minor": 0
      },
      "text/plain": [
       "Epoch 13:   0%|          | 0/60 [00:00<?, ?batch/s]"
      ]
     },
     "metadata": {},
     "output_type": "display_data"
    },
    {
     "name": "stdout",
     "output_type": "stream",
     "text": [
      "Epoch 013\n",
      "TRAIN→ \"R\": RMSE=0.2530 MAE=0.1933 R2=0.2501 | \"B\": Acc=0.5423 Prec=0.1475 Rec=0.1301 F1=0.1383 AUROC=0.3423\n",
      "VALID→ \"R\": RMSE=0.2513 MAE=0.1936 R2=0.2438 | \"B\": Acc=0.5650 Prec=0.0678 Rec=0.0372 F1=0.0480 AUROC=0.2640\n"
     ]
    },
    {
     "data": {
      "application/vnd.jupyter.widget-view+json": {
       "model_id": "d1cf20ddc6f747adb10f167bac452e79",
       "version_major": 2,
       "version_minor": 0
      },
      "text/plain": [
       "Epoch 14:   0%|          | 0/60 [00:00<?, ?batch/s]"
      ]
     },
     "metadata": {},
     "output_type": "display_data"
    },
    {
     "name": "stdout",
     "output_type": "stream",
     "text": [
      "Epoch 014\n",
      "TRAIN→ \"R\": RMSE=0.2527 MAE=0.1936 R2=0.2515 | \"B\": Acc=0.5555 Prec=0.1479 Rec=0.1209 F1=0.1331 AUROC=0.3481\n",
      "VALID→ \"R\": RMSE=0.2486 MAE=0.1845 R2=0.2600 | \"B\": Acc=0.5514 Prec=0.0699 Rec=0.0423 F1=0.0527 AUROC=0.2614\n"
     ]
    },
    {
     "data": {
      "application/vnd.jupyter.widget-view+json": {
       "model_id": "9c4cbaa0aa814c55bdb29ce0c651f25e",
       "version_major": 2,
       "version_minor": 0
      },
      "text/plain": [
       "Epoch 15:   0%|          | 0/60 [00:00<?, ?batch/s]"
      ]
     },
     "metadata": {},
     "output_type": "display_data"
    },
    {
     "name": "stdout",
     "output_type": "stream",
     "text": [
      "Epoch 015\n",
      "TRAIN→ \"R\": RMSE=0.2527 MAE=0.1929 R2=0.2515 | \"B\": Acc=0.5571 Prec=0.1403 Rec=0.1111 F1=0.1240 AUROC=0.3442\n",
      "VALID→ \"R\": RMSE=0.2478 MAE=0.1850 R2=0.2650 | \"B\": Acc=0.5316 Prec=0.0714 Rec=0.0489 F1=0.0580 AUROC=0.2508\n"
     ]
    },
    {
     "data": {
      "application/vnd.jupyter.widget-view+json": {
       "model_id": "e396c712373448b388dff1e36a526063",
       "version_major": 2,
       "version_minor": 0
      },
      "text/plain": [
       "Epoch 16:   0%|          | 0/60 [00:00<?, ?batch/s]"
      ]
     },
     "metadata": {},
     "output_type": "display_data"
    },
    {
     "name": "stdout",
     "output_type": "stream",
     "text": [
      "Epoch 016\n",
      "TRAIN→ \"R\": RMSE=0.2518 MAE=0.1920 R2=0.2570 | \"B\": Acc=0.5506 Prec=0.1402 Rec=0.1155 F1=0.1266 AUROC=0.3384\n",
      "VALID→ \"R\": RMSE=0.2479 MAE=0.1844 R2=0.2641 | \"B\": Acc=0.5276 Prec=0.0709 Rec=0.0496 F1=0.0584 AUROC=0.2480\n"
     ]
    },
    {
     "data": {
      "application/vnd.jupyter.widget-view+json": {
       "model_id": "f8d5d6cc0f55452a83c6d602e72cbf0b",
       "version_major": 2,
       "version_minor": 0
      },
      "text/plain": [
       "Epoch 17:   0%|          | 0/60 [00:00<?, ?batch/s]"
      ]
     },
     "metadata": {},
     "output_type": "display_data"
    },
    {
     "name": "stdout",
     "output_type": "stream",
     "text": [
      "Epoch 017\n",
      "TRAIN→ \"R\": RMSE=0.2513 MAE=0.1918 R2=0.2599 | \"B\": Acc=0.5508 Prec=0.1363 Rec=0.1110 F1=0.1224 AUROC=0.3352\n",
      "VALID→ \"R\": RMSE=0.2468 MAE=0.1860 R2=0.2708 | \"B\": Acc=0.5589 Prec=0.0636 Rec=0.0361 F1=0.0460 AUROC=0.2527\n"
     ]
    },
    {
     "data": {
      "application/vnd.jupyter.widget-view+json": {
       "model_id": "85f9d83627ab4fa38eb72fcae8a38665",
       "version_major": 2,
       "version_minor": 0
      },
      "text/plain": [
       "Epoch 18:   0%|          | 0/60 [00:00<?, ?batch/s]"
      ]
     },
     "metadata": {},
     "output_type": "display_data"
    },
    {
     "name": "stdout",
     "output_type": "stream",
     "text": [
      "Epoch 018\n",
      "TRAIN→ \"R\": RMSE=0.2520 MAE=0.1933 R2=0.2558 | \"B\": Acc=0.5552 Prec=0.1324 Rec=0.1038 F1=0.1163 AUROC=0.3368\n",
      "VALID→ \"R\": RMSE=0.2469 MAE=0.1857 R2=0.2705 | \"B\": Acc=0.5804 Prec=0.0657 Rec=0.0319 F1=0.0430 AUROC=0.2620\n"
     ]
    },
    {
     "data": {
      "application/vnd.jupyter.widget-view+json": {
       "model_id": "c0a3d2569caa48c48374845d27fe4718",
       "version_major": 2,
       "version_minor": 0
      },
      "text/plain": [
       "Epoch 19:   0%|          | 0/60 [00:00<?, ?batch/s]"
      ]
     },
     "metadata": {},
     "output_type": "display_data"
    },
    {
     "name": "stdout",
     "output_type": "stream",
     "text": [
      "Epoch 019\n",
      "TRAIN→ \"R\": RMSE=0.2519 MAE=0.1926 R2=0.2564 | \"B\": Acc=0.5563 Prec=0.1314 Rec=0.1021 F1=0.1149 AUROC=0.3358\n",
      "VALID→ \"R\": RMSE=0.2472 MAE=0.1895 R2=0.2687 | \"B\": Acc=0.5946 Prec=0.0609 Rec=0.0259 F1=0.0364 AUROC=0.2649\n"
     ]
    },
    {
     "data": {
      "application/vnd.jupyter.widget-view+json": {
       "model_id": "66cdea0477694a89b9dbe14d50a1fd15",
       "version_major": 2,
       "version_minor": 0
      },
      "text/plain": [
       "Epoch 20:   0%|          | 0/60 [00:00<?, ?batch/s]"
      ]
     },
     "metadata": {},
     "output_type": "display_data"
    },
    {
     "name": "stdout",
     "output_type": "stream",
     "text": [
      "Epoch 020\n",
      "TRAIN→ \"R\": RMSE=0.2515 MAE=0.1921 R2=0.2587 | \"B\": Acc=0.5526 Prec=0.1311 Rec=0.1041 F1=0.1160 AUROC=0.3324\n",
      "VALID→ \"R\": RMSE=0.2476 MAE=0.1891 R2=0.2659 | \"B\": Acc=0.5723 Prec=0.0611 Rec=0.0313 F1=0.0414 AUROC=0.2594\n"
     ]
    },
    {
     "data": {
      "application/vnd.jupyter.widget-view+json": {
       "model_id": "d6fe2e7c44ad40c5b75aef77586e2144",
       "version_major": 2,
       "version_minor": 0
      },
      "text/plain": [
       "Epoch 21:   0%|          | 0/60 [00:00<?, ?batch/s]"
      ]
     },
     "metadata": {},
     "output_type": "display_data"
    },
    {
     "name": "stdout",
     "output_type": "stream",
     "text": [
      "Epoch 021\n",
      "TRAIN→ \"R\": RMSE=0.2519 MAE=0.1933 R2=0.2563 | \"B\": Acc=0.5625 Prec=0.1319 Rec=0.0986 F1=0.1128 AUROC=0.3343\n",
      "VALID→ \"R\": RMSE=0.2484 MAE=0.1831 R2=0.2617 | \"B\": Acc=0.5165 Prec=0.0730 Rec=0.0545 F1=0.0624 AUROC=0.2469\n"
     ]
    },
    {
     "data": {
      "application/vnd.jupyter.widget-view+json": {
       "model_id": "3bfe86782feb4ce3a380144fe73ccebc",
       "version_major": 2,
       "version_minor": 0
      },
      "text/plain": [
       "Epoch 22:   0%|          | 0/60 [00:00<?, ?batch/s]"
      ]
     },
     "metadata": {},
     "output_type": "display_data"
    },
    {
     "name": "stdout",
     "output_type": "stream",
     "text": [
      "Epoch 022\n",
      "TRAIN→ \"R\": RMSE=0.2513 MAE=0.1919 R2=0.2599 | \"B\": Acc=0.5635 Prec=0.1262 Rec=0.0924 F1=0.1067 AUROC=0.3299\n",
      "VALID→ \"R\": RMSE=0.2469 MAE=0.1824 R2=0.2701 | \"B\": Acc=0.5599 Prec=0.0653 Rec=0.0369 F1=0.0471 AUROC=0.2565\n"
     ]
    },
    {
     "data": {
      "application/vnd.jupyter.widget-view+json": {
       "model_id": "3da9b43dca914a3681723edff33c4de3",
       "version_major": 2,
       "version_minor": 0
      },
      "text/plain": [
       "Epoch 23:   0%|          | 0/60 [00:00<?, ?batch/s]"
      ]
     },
     "metadata": {},
     "output_type": "display_data"
    },
    {
     "name": "stdout",
     "output_type": "stream",
     "text": [
      "Epoch 023\n",
      "TRAIN→ \"R\": RMSE=0.2503 MAE=0.1908 R2=0.2657 | \"B\": Acc=0.5671 Prec=0.1249 Rec=0.0890 F1=0.1039 AUROC=0.3314\n",
      "VALID→ \"R\": RMSE=0.2469 MAE=0.1828 R2=0.2704 | \"B\": Acc=0.5323 Prec=0.0719 Rec=0.0491 F1=0.0583 AUROC=0.2559\n",
      "Early stopping at epoch 23\n",
      "✅ Final best model (_fin) saved: AAPL_0.24682_fin.pth\n",
      "Delete variables to free memory...\n"
     ]
    },
    {
     "name": "stderr",
     "output_type": "stream",
     "text": [
      "[I 2025-09-18 22:59:40,538] Trial 5 finished with value: 0.24681849777698517 and parameters: {'look_back': 30, 'DROPOUT_SHORT': 0.3031318341184864, 'DROPOUT_LONG': 0.3164850541454929, 'ATT_DROPOUT': 0.312154077001075, 'INITIAL_LR': 0.0005697269982458067, 'ETA_MIN': 1.656180833193771e-06, 'WEIGHT_DECAY': 2.5034626851345667e-05, 'CLIPNORM': 3.1670909318329223}. Best is trial 1 with value: 0.24039407074451447.\n"
     ]
    },
    {
     "name": "stdout",
     "output_type": "stream",
     "text": [
      "\n",
      "▶ Trial 6 starting with:\n",
      "{'look_back': 30, 'DROPOUT_SHORT': 0.2086838074101272, 'DROPOUT_LONG': 0.19690314163834932, 'ATT_DROPOUT': 0.1484913607353128, 'INITIAL_LR': 0.00015126864569891505, 'ETA_MIN': 1.9154179390836075e-06, 'WEIGHT_DECAY': 0.006780148607218449, 'CLIPNORM': 0.8611423241893662}\n",
      "\n",
      "Build LSTM input tensors (disk-backed memmaps)...\n",
      "Inside build_tensors, features: ['adx_14', 'atr_14', 'ret', 'atr_pct_14', 'log_ret', 'macd_signal_12_26_9', 'bb_hband_20', 'body', 'bb_w_20', 'eng_vwap', 'minus_di_14', 'body_pct', 'hour', 'eng_obv', 'vol_spike_14', 'macd_diff_12_26_9', 'sma_28', 'eng_sma_long', 'obv_pct_14', 'eng_macd']\n"
     ]
    },
    {
     "data": {
      "application/vnd.jupyter.widget-view+json": {
       "model_id": "578919e012d743438efbbb605201e130",
       "version_major": 2,
       "version_minor": 0
      },
      "text/plain": [
       "Counting windows:   0%|          | 0/5400 [00:00<?, ?it/s]"
      ]
     },
     "metadata": {},
     "output_type": "display_data"
    },
    {
     "data": {
      "application/vnd.jupyter.widget-view+json": {
       "model_id": "e2b6d4f93e124df08e1a6395b21215f5",
       "version_major": 2,
       "version_minor": 0
      },
      "text/plain": [
       "Writing memmaps:   0%|          | 0/5400 [00:00<?, ?it/s]"
      ]
     },
     "metadata": {},
     "output_type": "display_data"
    },
    {
     "name": "stdout",
     "output_type": "stream",
     "text": [
      "Split into train/val/test by calendar day...\n",
      "Carve `end_times` into the same three splits...\n",
      "Build DataLoaders over calendar‐days...\n"
     ]
    },
    {
     "data": {
      "application/vnd.jupyter.widget-view+json": {
       "model_id": "596b29e5eb1c4d5c84a0e4309c534e06",
       "version_major": 2,
       "version_minor": 0
      },
      "text/plain": [
       "Creating DayWindowDatasets:   0%|          | 0/3 [00:00<?, ?split/s]"
      ]
     },
     "metadata": {},
     "output_type": "display_data"
    },
    {
     "name": "stdout",
     "output_type": "stream",
     "text": [
      "Instantiate the stateful DualMemoryLSTM...\n",
      "Build optimizer, LR scheduler, AMP scaler, and gradient‐clip norm...\n",
      "Run the custom stateful training loop...\n"
     ]
    },
    {
     "data": {
      "image/png": "[encoded data removed]",
      "text/plain": [
       "<Figure size 660x440 with 1 Axes>"
      ]
     },
     "metadata": {},
     "output_type": "display_data"
    },
    {
     "data": {
      "application/vnd.jupyter.widget-view+json": {
       "model_id": "ce9662079b0e418f868cefae25e0023e",
       "version_major": 2,
       "version_minor": 0
      },
      "text/plain": [
       "Epoch 1:   0%|          | 0/60 [00:02<?, ?batch/s]"
      ]
     },
     "metadata": {},
     "output_type": "display_data"
    },
    {
     "name": "stdout",
     "output_type": "stream",
     "text": [
      "Epoch 001\n",
      "TRAIN→ \"R\": RMSE=0.2952 MAE=0.2311 R2=-0.0211 | \"B\": Acc=0.5083 Prec=0.2876 Rec=0.5030 F1=0.3660 AUROC=0.5087\n",
      "VALID→ \"R\": RMSE=0.2836 MAE=0.2030 R2=0.0370 | \"B\": Acc=0.5390 Prec=0.3434 Rec=0.6166 F1=0.4412 AUROC=0.5835\n"
     ]
    },
    {
     "data": {
      "application/vnd.jupyter.widget-view+json": {
       "model_id": "24bc2560b3d446b582f256376ca1f9fa",
       "version_major": 2,
       "version_minor": 0
      },
      "text/plain": [
       "Epoch 2:   0%|          | 0/60 [00:00<?, ?batch/s]"
      ]
     },
     "metadata": {},
     "output_type": "display_data"
    },
    {
     "name": "stdout",
     "output_type": "stream",
     "text": [
      "Epoch 002\n",
      "TRAIN→ \"R\": RMSE=0.2779 MAE=0.2156 R2=0.0949 | \"B\": Acc=0.6081 Prec=0.3198 Rec=0.3454 F1=0.3322 AUROC=0.5459\n",
      "VALID→ \"R\": RMSE=0.2681 MAE=0.2070 R2=0.1394 | \"B\": Acc=0.6220 Prec=0.3664 Rec=0.3853 F1=0.3756 AUROC=0.6025\n"
     ]
    },
    {
     "data": {
      "application/vnd.jupyter.widget-view+json": {
       "model_id": "e5de3cb6f86746c5b04c6b47a5a17415",
       "version_major": 2,
       "version_minor": 0
      },
      "text/plain": [
       "Epoch 3:   0%|          | 0/60 [00:00<?, ?batch/s]"
      ]
     },
     "metadata": {},
     "output_type": "display_data"
    },
    {
     "name": "stdout",
     "output_type": "stream",
     "text": [
      "Epoch 003\n",
      "TRAIN→ \"R\": RMSE=0.2714 MAE=0.2125 R2=0.1370 | \"B\": Acc=0.5984 Prec=0.2990 Rec=0.3151 F1=0.3069 AUROC=0.5199\n",
      "VALID→ \"R\": RMSE=0.2629 MAE=0.2030 R2=0.1724 | \"B\": Acc=0.5624 Prec=0.3200 Rec=0.4292 F1=0.3666 AUROC=0.5465\n"
     ]
    },
    {
     "data": {
      "application/vnd.jupyter.widget-view+json": {
       "model_id": "1bc0b42144054a1bb3b83266896d545d",
       "version_major": 2,
       "version_minor": 0
      },
      "text/plain": [
       "Epoch 4:   0%|          | 0/60 [00:00<?, ?batch/s]"
      ]
     },
     "metadata": {},
     "output_type": "display_data"
    },
    {
     "name": "stdout",
     "output_type": "stream",
     "text": [
      "Epoch 004\n",
      "TRAIN→ \"R\": RMSE=0.2673 MAE=0.2072 R2=0.1625 | \"B\": Acc=0.5754 Prec=0.2862 Rec=0.3379 F1=0.3099 AUROC=0.5048\n",
      "VALID→ \"R\": RMSE=0.2588 MAE=0.1992 R2=0.1980 | \"B\": Acc=0.5835 Prec=0.3086 Rec=0.3316 F1=0.3197 AUROC=0.5324\n"
     ]
    },
    {
     "data": {
      "application/vnd.jupyter.widget-view+json": {
       "model_id": "514203aac580412a93198f775f4a1500",
       "version_major": 2,
       "version_minor": 0
      },
      "text/plain": [
       "Epoch 5:   0%|          | 0/60 [00:00<?, ?batch/s]"
      ]
     },
     "metadata": {},
     "output_type": "display_data"
    },
    {
     "name": "stdout",
     "output_type": "stream",
     "text": [
      "Epoch 005\n",
      "TRAIN→ \"R\": RMSE=0.2639 MAE=0.2050 R2=0.1840 | \"B\": Acc=0.5715 Prec=0.2670 Rec=0.2974 F1=0.2814 AUROC=0.4789\n",
      "VALID→ \"R\": RMSE=0.2569 MAE=0.1988 R2=0.2102 | \"B\": Acc=0.5744 Prec=0.2968 Rec=0.3228 F1=0.3092 AUROC=0.5083\n"
     ]
    },
    {
     "data": {
      "application/vnd.jupyter.widget-view+json": {
       "model_id": "1fa098b2fd4444b1abf6f74e6f95c05e",
       "version_major": 2,
       "version_minor": 0
      },
      "text/plain": [
       "Epoch 6:   0%|          | 0/60 [00:00<?, ?batch/s]"
      ]
     },
     "metadata": {},
     "output_type": "display_data"
    },
    {
     "name": "stdout",
     "output_type": "stream",
     "text": [
      "Epoch 006\n",
      "TRAIN→ \"R\": RMSE=0.2642 MAE=0.2051 R2=0.1821 | \"B\": Acc=0.5759 Prec=0.2646 Rec=0.2828 F1=0.2734 AUROC=0.4718\n",
      "VALID→ \"R\": RMSE=0.2594 MAE=0.1890 R2=0.1944 | \"B\": Acc=0.5457 Prec=0.3023 Rec=0.4125 F1=0.3490 AUROC=0.5165\n"
     ]
    },
    {
     "data": {
      "application/vnd.jupyter.widget-view+json": {
       "model_id": "0052da4b9aec49ff9b6fe284cf2d3d75",
       "version_major": 2,
       "version_minor": 0
      },
      "text/plain": [
       "Epoch 7:   0%|          | 0/60 [00:00<?, ?batch/s]"
      ]
     },
     "metadata": {},
     "output_type": "display_data"
    },
    {
     "name": "stdout",
     "output_type": "stream",
     "text": [
      "Epoch 007\n",
      "TRAIN→ \"R\": RMSE=0.2613 MAE=0.2022 R2=0.1996 | \"B\": Acc=0.5618 Prec=0.2663 Rec=0.3152 F1=0.2887 AUROC=0.4759\n",
      "VALID→ \"R\": RMSE=0.2545 MAE=0.1959 R2=0.2248 | \"B\": Acc=0.5532 Prec=0.2921 Rec=0.3611 F1=0.3229 AUROC=0.4975\n"
     ]
    },
    {
     "data": {
      "application/vnd.jupyter.widget-view+json": {
       "model_id": "a034b8a700d7465091f63c7efe076ec8",
       "version_major": 2,
       "version_minor": 0
      },
      "text/plain": [
       "Epoch 8:   0%|          | 0/60 [00:00<?, ?batch/s]"
      ]
     },
     "metadata": {},
     "output_type": "display_data"
    },
    {
     "name": "stdout",
     "output_type": "stream",
     "text": [
      "Epoch 008\n",
      "TRAIN→ \"R\": RMSE=0.2600 MAE=0.2011 R2=0.2075 | \"B\": Acc=0.5593 Prec=0.2616 Rec=0.3084 F1=0.2831 AUROC=0.4655\n",
      "VALID→ \"R\": RMSE=0.2532 MAE=0.1944 R2=0.2324 | \"B\": Acc=0.5483 Prec=0.2911 Rec=0.3697 F1=0.3257 AUROC=0.4923\n"
     ]
    },
    {
     "data": {
      "application/vnd.jupyter.widget-view+json": {
       "model_id": "7ceef7c6cf9d47f0b6065f0a5743162c",
       "version_major": 2,
       "version_minor": 0
      },
      "text/plain": [
       "Epoch 9:   0%|          | 0/60 [00:00<?, ?batch/s]"
      ]
     },
     "metadata": {},
     "output_type": "display_data"
    },
    {
     "name": "stdout",
     "output_type": "stream",
     "text": [
      "Epoch 009\n",
      "TRAIN→ \"R\": RMSE=0.2590 MAE=0.1990 R2=0.2139 | \"B\": Acc=0.5465 Prec=0.2596 Rec=0.3281 F1=0.2898 AUROC=0.4606\n",
      "VALID→ \"R\": RMSE=0.2525 MAE=0.1901 R2=0.2367 | \"B\": Acc=0.5401 Prec=0.2902 Rec=0.3862 F1=0.3314 AUROC=0.4866\n"
     ]
    },
    {
     "data": {
      "application/vnd.jupyter.widget-view+json": {
       "model_id": "17f09bee38e44da49d006e1f2598b6ff",
       "version_major": 2,
       "version_minor": 0
      },
      "text/plain": [
       "Epoch 10:   0%|          | 0/60 [00:00<?, ?batch/s]"
      ]
     },
     "metadata": {},
     "output_type": "display_data"
    },
    {
     "name": "stdout",
     "output_type": "stream",
     "text": [
      "Epoch 010\n",
      "TRAIN→ \"R\": RMSE=0.2583 MAE=0.1998 R2=0.2180 | \"B\": Acc=0.5659 Prec=0.2690 Rec=0.3137 F1=0.2897 AUROC=0.4704\n",
      "VALID→ \"R\": RMSE=0.2514 MAE=0.1927 R2=0.2431 | \"B\": Acc=0.5439 Prec=0.2908 Rec=0.3793 F1=0.3292 AUROC=0.4854\n"
     ]
    },
    {
     "data": {
      "application/vnd.jupyter.widget-view+json": {
       "model_id": "88175e692506459eb7f9518f6ea78b41",
       "version_major": 2,
       "version_minor": 0
      },
      "text/plain": [
       "Epoch 11:   0%|          | 0/60 [00:00<?, ?batch/s]"
      ]
     },
     "metadata": {},
     "output_type": "display_data"
    },
    {
     "name": "stdout",
     "output_type": "stream",
     "text": [
      "Epoch 011\n",
      "TRAIN→ \"R\": RMSE=0.2576 MAE=0.1978 R2=0.2224 | \"B\": Acc=0.5554 Prec=0.2667 Rec=0.3292 F1=0.2947 AUROC=0.4680\n",
      "VALID→ \"R\": RMSE=0.2513 MAE=0.1913 R2=0.2441 | \"B\": Acc=0.5191 Prec=0.2886 Rec=0.4295 F1=0.3452 AUROC=0.4852\n"
     ]
    },
    {
     "data": {
      "application/vnd.jupyter.widget-view+json": {
       "model_id": "f0669e00a8b34b50b8704cb3ee02fecc",
       "version_major": 2,
       "version_minor": 0
      },
      "text/plain": [
       "Epoch 12:   0%|          | 0/60 [00:00<?, ?batch/s]"
      ]
     },
     "metadata": {},
     "output_type": "display_data"
    },
    {
     "name": "stdout",
     "output_type": "stream",
     "text": [
      "Epoch 012\n",
      "TRAIN→ \"R\": RMSE=0.2566 MAE=0.1974 R2=0.2282 | \"B\": Acc=0.5602 Prec=0.2729 Rec=0.3358 F1=0.3011 AUROC=0.4742\n",
      "VALID→ \"R\": RMSE=0.2513 MAE=0.1910 R2=0.2443 | \"B\": Acc=0.5077 Prec=0.2829 Rec=0.4356 F1=0.3431 AUROC=0.4727\n"
     ]
    },
    {
     "data": {
      "application/vnd.jupyter.widget-view+json": {
       "model_id": "3b680f8e1982451d8fb24b714dd52e81",
       "version_major": 2,
       "version_minor": 0
      },
      "text/plain": [
       "Epoch 13:   0%|          | 0/60 [00:00<?, ?batch/s]"
      ]
     },
     "metadata": {},
     "output_type": "display_data"
    },
    {
     "name": "stdout",
     "output_type": "stream",
     "text": [
      "Epoch 013\n",
      "TRAIN→ \"R\": RMSE=0.2559 MAE=0.1957 R2=0.2323 | \"B\": Acc=0.5706 Prec=0.2749 Rec=0.3188 F1=0.2952 AUROC=0.4737\n",
      "VALID→ \"R\": RMSE=0.2505 MAE=0.1912 R2=0.2488 | \"B\": Acc=0.5238 Prec=0.2887 Rec=0.4192 F1=0.3419 AUROC=0.4766\n"
     ]
    },
    {
     "data": {
      "application/vnd.jupyter.widget-view+json": {
       "model_id": "6dc64f11db22416bbcd933a585967723",
       "version_major": 2,
       "version_minor": 0
      },
      "text/plain": [
       "Epoch 14:   0%|          | 0/60 [00:00<?, ?batch/s]"
      ]
     },
     "metadata": {},
     "output_type": "display_data"
    },
    {
     "name": "stdout",
     "output_type": "stream",
     "text": [
      "Epoch 014\n",
      "TRAIN→ \"R\": RMSE=0.2555 MAE=0.1965 R2=0.2348 | \"B\": Acc=0.5622 Prec=0.2736 Rec=0.3332 F1=0.3005 AUROC=0.4718\n",
      "VALID→ \"R\": RMSE=0.2505 MAE=0.1909 R2=0.2486 | \"B\": Acc=0.4866 Prec=0.2833 Rec=0.4837 F1=0.3574 AUROC=0.4749\n"
     ]
    },
    {
     "data": {
      "application/vnd.jupyter.widget-view+json": {
       "model_id": "612f7d2bb8dc46568c75b1d86c62f8c1",
       "version_major": 2,
       "version_minor": 0
      },
      "text/plain": [
       "Epoch 15:   0%|          | 0/60 [00:00<?, ?batch/s]"
      ]
     },
     "metadata": {},
     "output_type": "display_data"
    },
    {
     "name": "stdout",
     "output_type": "stream",
     "text": [
      "Epoch 015\n",
      "TRAIN→ \"R\": RMSE=0.2549 MAE=0.1948 R2=0.2384 | \"B\": Acc=0.5634 Prec=0.2804 Rec=0.3494 F1=0.3111 AUROC=0.4809\n",
      "VALID→ \"R\": RMSE=0.2498 MAE=0.1882 R2=0.2530 | \"B\": Acc=0.5059 Prec=0.2862 Rec=0.4512 F1=0.3502 AUROC=0.4775\n"
     ]
    },
    {
     "data": {
      "application/vnd.jupyter.widget-view+json": {
       "model_id": "e2feaa7784fa42a3a18465980ef74bb3",
       "version_major": 2,
       "version_minor": 0
      },
      "text/plain": [
       "Epoch 16:   0%|          | 0/60 [00:00<?, ?batch/s]"
      ]
     },
     "metadata": {},
     "output_type": "display_data"
    },
    {
     "name": "stdout",
     "output_type": "stream",
     "text": [
      "Epoch 016\n",
      "TRAIN→ \"R\": RMSE=0.2552 MAE=0.1963 R2=0.2368 | \"B\": Acc=0.5513 Prec=0.2736 Rec=0.3568 F1=0.3097 AUROC=0.4740\n",
      "VALID→ \"R\": RMSE=0.2493 MAE=0.1902 R2=0.2560 | \"B\": Acc=0.5100 Prec=0.2890 Rec=0.4523 F1=0.3527 AUROC=0.4773\n"
     ]
    },
    {
     "data": {
      "application/vnd.jupyter.widget-view+json": {
       "model_id": "3a5984a84f5c4925993c38853cbb694c",
       "version_major": 2,
       "version_minor": 0
      },
      "text/plain": [
       "Epoch 17:   0%|          | 0/60 [00:00<?, ?batch/s]"
      ]
     },
     "metadata": {},
     "output_type": "display_data"
    },
    {
     "name": "stdout",
     "output_type": "stream",
     "text": [
      "Epoch 017\n",
      "TRAIN→ \"R\": RMSE=0.2547 MAE=0.1960 R2=0.2398 | \"B\": Acc=0.5567 Prec=0.2766 Rec=0.3538 F1=0.3105 AUROC=0.4764\n",
      "VALID→ \"R\": RMSE=0.2491 MAE=0.1915 R2=0.2574 | \"B\": Acc=0.5082 Prec=0.2863 Rec=0.4465 F1=0.3489 AUROC=0.4710\n"
     ]
    },
    {
     "data": {
      "application/vnd.jupyter.widget-view+json": {
       "model_id": "eb708d70876a40bd9fb1d124d029c5aa",
       "version_major": 2,
       "version_minor": 0
      },
      "text/plain": [
       "Epoch 18:   0%|          | 0/60 [00:00<?, ?batch/s]"
      ]
     },
     "metadata": {},
     "output_type": "display_data"
    },
    {
     "name": "stdout",
     "output_type": "stream",
     "text": [
      "Epoch 018\n",
      "TRAIN→ \"R\": RMSE=0.2540 MAE=0.1944 R2=0.2436 | \"B\": Acc=0.5606 Prec=0.2778 Rec=0.3484 F1=0.3091 AUROC=0.4764\n",
      "VALID→ \"R\": RMSE=0.2490 MAE=0.1893 R2=0.2577 | \"B\": Acc=0.4929 Prec=0.2858 Rec=0.4792 F1=0.3581 AUROC=0.4760\n"
     ]
    },
    {
     "data": {
      "application/vnd.jupyter.widget-view+json": {
       "model_id": "390fcbf43dae47cbb0cf0abebb38c439",
       "version_major": 2,
       "version_minor": 0
      },
      "text/plain": [
       "Epoch 19:   0%|          | 0/60 [00:00<?, ?batch/s]"
      ]
     },
     "metadata": {},
     "output_type": "display_data"
    },
    {
     "name": "stdout",
     "output_type": "stream",
     "text": [
      "Epoch 019\n",
      "TRAIN→ \"R\": RMSE=0.2540 MAE=0.1954 R2=0.2438 | \"B\": Acc=0.5634 Prec=0.2844 Rec=0.3612 F1=0.3183 AUROC=0.4860\n",
      "VALID→ \"R\": RMSE=0.2486 MAE=0.1903 R2=0.2600 | \"B\": Acc=0.5051 Prec=0.2846 Rec=0.4472 F1=0.3478 AUROC=0.4685\n"
     ]
    },
    {
     "data": {
      "application/vnd.jupyter.widget-view+json": {
       "model_id": "d40bdb15b4cc4ee2ae752a3acab51aff",
       "version_major": 2,
       "version_minor": 0
      },
      "text/plain": [
       "Epoch 20:   0%|          | 0/60 [00:00<?, ?batch/s]"
      ]
     },
     "metadata": {},
     "output_type": "display_data"
    },
    {
     "name": "stdout",
     "output_type": "stream",
     "text": [
      "Epoch 020\n",
      "TRAIN→ \"R\": RMSE=0.2534 MAE=0.1944 R2=0.2473 | \"B\": Acc=0.5576 Prec=0.2799 Rec=0.3614 F1=0.3155 AUROC=0.4805\n",
      "VALID→ \"R\": RMSE=0.2487 MAE=0.1891 R2=0.2596 | \"B\": Acc=0.4956 Prec=0.2866 Rec=0.4763 F1=0.3579 AUROC=0.4753\n"
     ]
    },
    {
     "data": {
      "application/vnd.jupyter.widget-view+json": {
       "model_id": "305e835878384ca6920915b88aa55c04",
       "version_major": 2,
       "version_minor": 0
      },
      "text/plain": [
       "Epoch 21:   0%|          | 0/60 [00:00<?, ?batch/s]"
      ]
     },
     "metadata": {},
     "output_type": "display_data"
    },
    {
     "name": "stdout",
     "output_type": "stream",
     "text": [
      "Epoch 021\n",
      "TRAIN→ \"R\": RMSE=0.2533 MAE=0.1949 R2=0.2481 | \"B\": Acc=0.5613 Prec=0.2832 Rec=0.3623 F1=0.3179 AUROC=0.4839\n",
      "VALID→ \"R\": RMSE=0.2483 MAE=0.1895 R2=0.2623 | \"B\": Acc=0.5129 Prec=0.2911 Rec=0.4531 F1=0.3544 AUROC=0.4792\n"
     ]
    },
    {
     "data": {
      "application/vnd.jupyter.widget-view+json": {
       "model_id": "78aec6ad1e1e42df82d30379d969e309",
       "version_major": 2,
       "version_minor": 0
      },
      "text/plain": [
       "Epoch 22:   0%|          | 0/60 [00:00<?, ?batch/s]"
      ]
     },
     "metadata": {},
     "output_type": "display_data"
    },
    {
     "name": "stdout",
     "output_type": "stream",
     "text": [
      "Epoch 022\n",
      "TRAIN→ \"R\": RMSE=0.2532 MAE=0.1948 R2=0.2485 | \"B\": Acc=0.5670 Prec=0.2826 Rec=0.3476 F1=0.3117 AUROC=0.4831\n",
      "VALID→ \"R\": RMSE=0.2488 MAE=0.1855 R2=0.2589 | \"B\": Acc=0.5499 Prec=0.3068 Rec=0.4169 F1=0.3535 AUROC=0.4966\n"
     ]
    },
    {
     "data": {
      "application/vnd.jupyter.widget-view+json": {
       "model_id": "1e9a2004a04b4f9aa65d9a953e92b922",
       "version_major": 2,
       "version_minor": 0
      },
      "text/plain": [
       "Epoch 23:   0%|          | 0/60 [00:00<?, ?batch/s]"
      ]
     },
     "metadata": {},
     "output_type": "display_data"
    },
    {
     "name": "stdout",
     "output_type": "stream",
     "text": [
      "Epoch 023\n",
      "TRAIN→ \"R\": RMSE=0.2536 MAE=0.1946 R2=0.2464 | \"B\": Acc=0.5746 Prec=0.2845 Rec=0.3352 F1=0.3078 AUROC=0.4842\n",
      "VALID→ \"R\": RMSE=0.2476 MAE=0.1892 R2=0.2661 | \"B\": Acc=0.5386 Prec=0.2989 Rec=0.4187 F1=0.3488 AUROC=0.4839\n"
     ]
    },
    {
     "data": {
      "application/vnd.jupyter.widget-view+json": {
       "model_id": "137c8b6ff412410489765606b033732f",
       "version_major": 2,
       "version_minor": 0
      },
      "text/plain": [
       "Epoch 24:   0%|          | 0/60 [00:00<?, ?batch/s]"
      ]
     },
     "metadata": {},
     "output_type": "display_data"
    },
    {
     "name": "stdout",
     "output_type": "stream",
     "text": [
      "Epoch 024\n",
      "TRAIN→ \"R\": RMSE=0.2531 MAE=0.1944 R2=0.2492 | \"B\": Acc=0.5696 Prec=0.2825 Rec=0.3414 F1=0.3092 AUROC=0.4804\n",
      "VALID→ \"R\": RMSE=0.2478 MAE=0.1900 R2=0.2651 | \"B\": Acc=0.5251 Prec=0.2952 Rec=0.4389 F1=0.3530 AUROC=0.4791\n"
     ]
    },
    {
     "data": {
      "application/vnd.jupyter.widget-view+json": {
       "model_id": "08b585422cf945cea7f6def40a790c6f",
       "version_major": 2,
       "version_minor": 0
      },
      "text/plain": [
       "Epoch 25:   0%|          | 0/60 [00:00<?, ?batch/s]"
      ]
     },
     "metadata": {},
     "output_type": "display_data"
    },
    {
     "name": "stdout",
     "output_type": "stream",
     "text": [
      "Epoch 025\n",
      "TRAIN→ \"R\": RMSE=0.2527 MAE=0.1938 R2=0.2516 | \"B\": Acc=0.5692 Prec=0.2853 Rec=0.3503 F1=0.3145 AUROC=0.4844\n",
      "VALID→ \"R\": RMSE=0.2476 MAE=0.1894 R2=0.2663 | \"B\": Acc=0.5231 Prec=0.2961 Rec=0.4473 F1=0.3563 AUROC=0.4833\n"
     ]
    },
    {
     "data": {
      "application/vnd.jupyter.widget-view+json": {
       "model_id": "cfb36ee10deb4fbf903377a322ceb230",
       "version_major": 2,
       "version_minor": 0
      },
      "text/plain": [
       "Epoch 26:   0%|          | 0/60 [00:00<?, ?batch/s]"
      ]
     },
     "metadata": {},
     "output_type": "display_data"
    },
    {
     "name": "stdout",
     "output_type": "stream",
     "text": [
      "Epoch 026\n",
      "TRAIN→ \"R\": RMSE=0.2523 MAE=0.1938 R2=0.2540 | \"B\": Acc=0.5707 Prec=0.2872 Rec=0.3521 F1=0.3163 AUROC=0.4880\n",
      "VALID→ \"R\": RMSE=0.2475 MAE=0.1890 R2=0.2669 | \"B\": Acc=0.5418 Prec=0.3023 Rec=0.4225 F1=0.3524 AUROC=0.4854\n"
     ]
    },
    {
     "data": {
      "application/vnd.jupyter.widget-view+json": {
       "model_id": "b5e5601e47524ec0bcef1061fe2a2fc4",
       "version_major": 2,
       "version_minor": 0
      },
      "text/plain": [
       "Epoch 27:   0%|          | 0/60 [00:00<?, ?batch/s]"
      ]
     },
     "metadata": {},
     "output_type": "display_data"
    },
    {
     "name": "stdout",
     "output_type": "stream",
     "text": [
      "Epoch 027\n",
      "TRAIN→ \"R\": RMSE=0.2522 MAE=0.1936 R2=0.2547 | \"B\": Acc=0.5731 Prec=0.2850 Rec=0.3402 F1=0.3102 AUROC=0.4831\n",
      "VALID→ \"R\": RMSE=0.2474 MAE=0.1888 R2=0.2675 | \"B\": Acc=0.5439 Prec=0.3032 Rec=0.4202 F1=0.3522 AUROC=0.4861\n"
     ]
    },
    {
     "data": {
      "application/vnd.jupyter.widget-view+json": {
       "model_id": "3a2074090fee401b9fedca21ab5734ec",
       "version_major": 2,
       "version_minor": 0
      },
      "text/plain": [
       "Epoch 28:   0%|          | 0/60 [00:00<?, ?batch/s]"
      ]
     },
     "metadata": {},
     "output_type": "display_data"
    },
    {
     "name": "stdout",
     "output_type": "stream",
     "text": [
      "Epoch 028\n",
      "TRAIN→ \"R\": RMSE=0.2520 MAE=0.1931 R2=0.2558 | \"B\": Acc=0.5729 Prec=0.2874 Rec=0.3472 F1=0.3145 AUROC=0.4872\n",
      "VALID→ \"R\": RMSE=0.2472 MAE=0.1885 R2=0.2684 | \"B\": Acc=0.5400 Prec=0.3031 Rec=0.4299 F1=0.3555 AUROC=0.4871\n"
     ]
    },
    {
     "data": {
      "application/vnd.jupyter.widget-view+json": {
       "model_id": "8554df3c4d4a4d42b68684824c3d3199",
       "version_major": 2,
       "version_minor": 0
      },
      "text/plain": [
       "Epoch 29:   0%|          | 0/60 [00:00<?, ?batch/s]"
      ]
     },
     "metadata": {},
     "output_type": "display_data"
    },
    {
     "name": "stdout",
     "output_type": "stream",
     "text": [
      "Epoch 029\n",
      "TRAIN→ \"R\": RMSE=0.2518 MAE=0.1929 R2=0.2566 | \"B\": Acc=0.5736 Prec=0.2885 Rec=0.3489 F1=0.3158 AUROC=0.4891\n",
      "VALID→ \"R\": RMSE=0.2469 MAE=0.1887 R2=0.2700 | \"B\": Acc=0.5387 Prec=0.3037 Rec=0.4357 F1=0.3579 AUROC=0.4880\n"
     ]
    },
    {
     "data": {
      "application/vnd.jupyter.widget-view+json": {
       "model_id": "7927d41fae374495a84e2eaabd0ad5b9",
       "version_major": 2,
       "version_minor": 0
      },
      "text/plain": [
       "Epoch 30:   0%|          | 0/60 [00:00<?, ?batch/s]"
      ]
     },
     "metadata": {},
     "output_type": "display_data"
    },
    {
     "name": "stdout",
     "output_type": "stream",
     "text": [
      "Epoch 030\n",
      "TRAIN→ \"R\": RMSE=0.2517 MAE=0.1927 R2=0.2575 | \"B\": Acc=0.5685 Prec=0.2872 Rec=0.3572 F1=0.3184 AUROC=0.4883\n",
      "VALID→ \"R\": RMSE=0.2470 MAE=0.1885 R2=0.2696 | \"B\": Acc=0.5388 Prec=0.3034 Rec=0.4342 F1=0.3572 AUROC=0.4851\n"
     ]
    },
    {
     "data": {
      "application/vnd.jupyter.widget-view+json": {
       "model_id": "386e08d452764d7cb6781d00939a06bd",
       "version_major": 2,
       "version_minor": 0
      },
      "text/plain": [
       "Epoch 31:   0%|          | 0/60 [00:00<?, ?batch/s]"
      ]
     },
     "metadata": {},
     "output_type": "display_data"
    },
    {
     "name": "stdout",
     "output_type": "stream",
     "text": [
      "Epoch 031\n",
      "TRAIN→ \"R\": RMSE=0.2516 MAE=0.1927 R2=0.2583 | \"B\": Acc=0.5745 Prec=0.2893 Rec=0.3490 F1=0.3164 AUROC=0.4897\n",
      "VALID→ \"R\": RMSE=0.2468 MAE=0.1883 R2=0.2706 | \"B\": Acc=0.5459 Prec=0.3064 Rec=0.4265 F1=0.3566 AUROC=0.4875\n"
     ]
    },
    {
     "data": {
      "application/vnd.jupyter.widget-view+json": {
       "model_id": "8693c80468814f6ca9fc199752ca125c",
       "version_major": 2,
       "version_minor": 0
      },
      "text/plain": [
       "Epoch 32:   0%|          | 0/60 [00:00<?, ?batch/s]"
      ]
     },
     "metadata": {},
     "output_type": "display_data"
    },
    {
     "name": "stdout",
     "output_type": "stream",
     "text": [
      "Epoch 032\n",
      "TRAIN→ \"R\": RMSE=0.2516 MAE=0.1927 R2=0.2583 | \"B\": Acc=0.5709 Prec=0.2868 Rec=0.3503 F1=0.3154 AUROC=0.4871\n",
      "VALID→ \"R\": RMSE=0.2468 MAE=0.1883 R2=0.2711 | \"B\": Acc=0.5432 Prec=0.3046 Rec=0.4270 F1=0.3555 AUROC=0.4838\n"
     ]
    },
    {
     "data": {
      "application/vnd.jupyter.widget-view+json": {
       "model_id": "12d97cf513874a63bd9acd6039bd2118",
       "version_major": 2,
       "version_minor": 0
      },
      "text/plain": [
       "Epoch 33:   0%|          | 0/60 [00:00<?, ?batch/s]"
      ]
     },
     "metadata": {},
     "output_type": "display_data"
    },
    {
     "name": "stdout",
     "output_type": "stream",
     "text": [
      "Epoch 033\n",
      "TRAIN→ \"R\": RMSE=0.2516 MAE=0.1928 R2=0.2583 | \"B\": Acc=0.5663 Prec=0.2847 Rec=0.3553 F1=0.3161 AUROC=0.4854\n",
      "VALID→ \"R\": RMSE=0.2466 MAE=0.1892 R2=0.2723 | \"B\": Acc=0.5374 Prec=0.3027 Rec=0.4354 F1=0.3571 AUROC=0.4844\n"
     ]
    },
    {
     "data": {
      "application/vnd.jupyter.widget-view+json": {
       "model_id": "544e719888b94cbdb096f0f72c866bfb",
       "version_major": 2,
       "version_minor": 0
      },
      "text/plain": [
       "Epoch 34:   0%|          | 0/60 [00:00<?, ?batch/s]"
      ]
     },
     "metadata": {},
     "output_type": "display_data"
    },
    {
     "name": "stdout",
     "output_type": "stream",
     "text": [
      "Epoch 034\n",
      "TRAIN→ \"R\": RMSE=0.2514 MAE=0.1926 R2=0.2592 | \"B\": Acc=0.5652 Prec=0.2850 Rec=0.3588 F1=0.3177 AUROC=0.4860\n",
      "VALID→ \"R\": RMSE=0.2464 MAE=0.1884 R2=0.2734 | \"B\": Acc=0.5550 Prec=0.3075 Rec=0.4056 F1=0.3498 AUROC=0.4844\n"
     ]
    },
    {
     "data": {
      "application/vnd.jupyter.widget-view+json": {
       "model_id": "77d7e93eba9c40ce8b2b55fd75eae2d8",
       "version_major": 2,
       "version_minor": 0
      },
      "text/plain": [
       "Epoch 35:   0%|          | 0/60 [00:00<?, ?batch/s]"
      ]
     },
     "metadata": {},
     "output_type": "display_data"
    },
    {
     "name": "stdout",
     "output_type": "stream",
     "text": [
      "Epoch 035\n",
      "TRAIN→ \"R\": RMSE=0.2511 MAE=0.1922 R2=0.2611 | \"B\": Acc=0.5661 Prec=0.2829 Rec=0.3503 F1=0.3130 AUROC=0.4825\n",
      "VALID→ \"R\": RMSE=0.2466 MAE=0.1881 R2=0.2718 | \"B\": Acc=0.5542 Prec=0.3086 Rec=0.4117 F1=0.3528 AUROC=0.4860\n"
     ]
    },
    {
     "data": {
      "application/vnd.jupyter.widget-view+json": {
       "model_id": "08e20087a7b04a489a7bda4172bdd320",
       "version_major": 2,
       "version_minor": 0
      },
      "text/plain": [
       "Epoch 36:   0%|          | 0/60 [00:00<?, ?batch/s]"
      ]
     },
     "metadata": {},
     "output_type": "display_data"
    },
    {
     "name": "stdout",
     "output_type": "stream",
     "text": [
      "Epoch 036\n",
      "TRAIN→ \"R\": RMSE=0.2513 MAE=0.1927 R2=0.2601 | \"B\": Acc=0.5644 Prec=0.2836 Rec=0.3566 F1=0.3160 AUROC=0.4856\n",
      "VALID→ \"R\": RMSE=0.2463 MAE=0.1889 R2=0.2741 | \"B\": Acc=0.5477 Prec=0.3067 Rec=0.4226 F1=0.3554 AUROC=0.4909\n"
     ]
    },
    {
     "data": {
      "application/vnd.jupyter.widget-view+json": {
       "model_id": "c9b029635ec446988db79307700627fd",
       "version_major": 2,
       "version_minor": 0
      },
      "text/plain": [
       "Epoch 37:   0%|          | 0/60 [00:00<?, ?batch/s]"
      ]
     },
     "metadata": {},
     "output_type": "display_data"
    },
    {
     "name": "stdout",
     "output_type": "stream",
     "text": [
      "Epoch 037\n",
      "TRAIN→ \"R\": RMSE=0.2510 MAE=0.1920 R2=0.2616 | \"B\": Acc=0.5682 Prec=0.2859 Rec=0.3540 F1=0.3163 AUROC=0.4884\n",
      "VALID→ \"R\": RMSE=0.2462 MAE=0.1882 R2=0.2745 | \"B\": Acc=0.5542 Prec=0.3087 Rec=0.4118 F1=0.3528 AUROC=0.4883\n"
     ]
    },
    {
     "data": {
      "application/vnd.jupyter.widget-view+json": {
       "model_id": "90a54a508513461dba15ea92063f5bb1",
       "version_major": 2,
       "version_minor": 0
      },
      "text/plain": [
       "Epoch 38:   0%|          | 0/60 [00:00<?, ?batch/s]"
      ]
     },
     "metadata": {},
     "output_type": "display_data"
    },
    {
     "name": "stdout",
     "output_type": "stream",
     "text": [
      "Epoch 038\n",
      "TRAIN→ \"R\": RMSE=0.2510 MAE=0.1921 R2=0.2618 | \"B\": Acc=0.5713 Prec=0.2862 Rec=0.3476 F1=0.3139 AUROC=0.4859\n",
      "VALID→ \"R\": RMSE=0.2461 MAE=0.1882 R2=0.2750 | \"B\": Acc=0.5560 Prec=0.3102 Rec=0.4122 F1=0.3540 AUROC=0.4915\n"
     ]
    },
    {
     "data": {
      "application/vnd.jupyter.widget-view+json": {
       "model_id": "d341fa98733f4b70bd381eb50df63572",
       "version_major": 2,
       "version_minor": 0
      },
      "text/plain": [
       "Epoch 39:   0%|          | 0/60 [00:00<?, ?batch/s]"
      ]
     },
     "metadata": {},
     "output_type": "display_data"
    },
    {
     "name": "stdout",
     "output_type": "stream",
     "text": [
      "Epoch 039\n",
      "TRAIN→ \"R\": RMSE=0.2509 MAE=0.1920 R2=0.2622 | \"B\": Acc=0.5678 Prec=0.2857 Rec=0.3546 F1=0.3165 AUROC=0.4872\n",
      "VALID→ \"R\": RMSE=0.2461 MAE=0.1880 R2=0.2751 | \"B\": Acc=0.5593 Prec=0.3120 Rec=0.4092 F1=0.3540 AUROC=0.4938\n"
     ]
    },
    {
     "data": {
      "application/vnd.jupyter.widget-view+json": {
       "model_id": "7853046af9ea4e409285c2da1e5e5caa",
       "version_major": 2,
       "version_minor": 0
      },
      "text/plain": [
       "Epoch 40:   0%|          | 0/60 [00:00<?, ?batch/s]"
      ]
     },
     "metadata": {},
     "output_type": "display_data"
    },
    {
     "name": "stdout",
     "output_type": "stream",
     "text": [
      "Epoch 040\n",
      "TRAIN→ \"R\": RMSE=0.2510 MAE=0.1924 R2=0.2618 | \"B\": Acc=0.5760 Prec=0.2894 Rec=0.3455 F1=0.3150 AUROC=0.4906\n",
      "VALID→ \"R\": RMSE=0.2463 MAE=0.1890 R2=0.2737 | \"B\": Acc=0.5740 Prec=0.3180 Rec=0.3873 F1=0.3492 AUROC=0.4918\n"
     ]
    },
    {
     "data": {
      "application/vnd.jupyter.widget-view+json": {
       "model_id": "f64c339b0fef429096fce3979df32a78",
       "version_major": 2,
       "version_minor": 0
      },
      "text/plain": [
       "Epoch 41:   0%|          | 0/60 [00:00<?, ?batch/s]"
      ]
     },
     "metadata": {},
     "output_type": "display_data"
    },
    {
     "name": "stdout",
     "output_type": "stream",
     "text": [
      "Epoch 041\n",
      "TRAIN→ \"R\": RMSE=0.2507 MAE=0.1919 R2=0.2637 | \"B\": Acc=0.5761 Prec=0.2874 Rec=0.3396 F1=0.3113 AUROC=0.4872\n",
      "VALID→ \"R\": RMSE=0.2460 MAE=0.1881 R2=0.2756 | \"B\": Acc=0.5712 Prec=0.3186 Rec=0.3977 F1=0.3538 AUROC=0.4976\n"
     ]
    },
    {
     "data": {
      "application/vnd.jupyter.widget-view+json": {
       "model_id": "03f4ce3c0c46464a81407b76a89d501d",
       "version_major": 2,
       "version_minor": 0
      },
      "text/plain": [
       "Epoch 42:   0%|          | 0/60 [00:00<?, ?batch/s]"
      ]
     },
     "metadata": {},
     "output_type": "display_data"
    },
    {
     "name": "stdout",
     "output_type": "stream",
     "text": [
      "Epoch 042\n",
      "TRAIN→ \"R\": RMSE=0.2504 MAE=0.1912 R2=0.2650 | \"B\": Acc=0.5825 Prec=0.2932 Rec=0.3402 F1=0.3149 AUROC=0.4945\n",
      "VALID→ \"R\": RMSE=0.2460 MAE=0.1877 R2=0.2758 | \"B\": Acc=0.5805 Prec=0.3240 Rec=0.3881 F1=0.3532 AUROC=0.5024\n"
     ]
    },
    {
     "data": {
      "application/vnd.jupyter.widget-view+json": {
       "model_id": "5ef216203a8c445dbff6b996790e9960",
       "version_major": 2,
       "version_minor": 0
      },
      "text/plain": [
       "Epoch 43:   0%|          | 0/60 [00:00<?, ?batch/s]"
      ]
     },
     "metadata": {},
     "output_type": "display_data"
    },
    {
     "name": "stdout",
     "output_type": "stream",
     "text": [
      "Epoch 043\n",
      "TRAIN→ \"R\": RMSE=0.2505 MAE=0.1916 R2=0.2643 | \"B\": Acc=0.5818 Prec=0.2908 Rec=0.3351 F1=0.3114 AUROC=0.4904\n",
      "VALID→ \"R\": RMSE=0.2459 MAE=0.1878 R2=0.2762 | \"B\": Acc=0.5786 Prec=0.3232 Rec=0.3911 F1=0.3539 AUROC=0.5027\n"
     ]
    },
    {
     "data": {
      "application/vnd.jupyter.widget-view+json": {
       "model_id": "84806cd86def48b1a0f2331f40eeec3d",
       "version_major": 2,
       "version_minor": 0
      },
      "text/plain": [
       "Epoch 44:   0%|          | 0/60 [00:00<?, ?batch/s]"
      ]
     },
     "metadata": {},
     "output_type": "display_data"
    },
    {
     "name": "stdout",
     "output_type": "stream",
     "text": [
      "Epoch 044\n",
      "TRAIN→ \"R\": RMSE=0.2505 MAE=0.1914 R2=0.2647 | \"B\": Acc=0.5791 Prec=0.2900 Rec=0.3395 F1=0.3128 AUROC=0.4907\n",
      "VALID→ \"R\": RMSE=0.2458 MAE=0.1880 R2=0.2767 | \"B\": Acc=0.5749 Prec=0.3211 Rec=0.3952 F1=0.3543 AUROC=0.5013\n"
     ]
    },
    {
     "data": {
      "application/vnd.jupyter.widget-view+json": {
       "model_id": "a3187be498a14ef8bedb1f7c830a6662",
       "version_major": 2,
       "version_minor": 0
      },
      "text/plain": [
       "Epoch 45:   0%|          | 0/60 [00:00<?, ?batch/s]"
      ]
     },
     "metadata": {},
     "output_type": "display_data"
    },
    {
     "name": "stdout",
     "output_type": "stream",
     "text": [
      "Epoch 045\n",
      "TRAIN→ \"R\": RMSE=0.2504 MAE=0.1913 R2=0.2653 | \"B\": Acc=0.5801 Prec=0.2917 Rec=0.3419 F1=0.3148 AUROC=0.4932\n",
      "VALID→ \"R\": RMSE=0.2458 MAE=0.1881 R2=0.2769 | \"B\": Acc=0.5839 Prec=0.3258 Rec=0.3834 F1=0.3522 AUROC=0.5023\n"
     ]
    },
    {
     "data": {
      "application/vnd.jupyter.widget-view+json": {
       "model_id": "22b05b6e9721442aa133d28823bd180f",
       "version_major": 2,
       "version_minor": 0
      },
      "text/plain": [
       "Epoch 46:   0%|          | 0/60 [00:00<?, ?batch/s]"
      ]
     },
     "metadata": {},
     "output_type": "display_data"
    },
    {
     "name": "stdout",
     "output_type": "stream",
     "text": [
      "Epoch 046\n",
      "TRAIN→ \"R\": RMSE=0.2503 MAE=0.1911 R2=0.2656 | \"B\": Acc=0.5851 Prec=0.2919 Rec=0.3302 F1=0.3099 AUROC=0.4918\n",
      "VALID→ \"R\": RMSE=0.2457 MAE=0.1881 R2=0.2773 | \"B\": Acc=0.5830 Prec=0.3248 Rec=0.3828 F1=0.3514 AUROC=0.5017\n"
     ]
    },
    {
     "data": {
      "application/vnd.jupyter.widget-view+json": {
       "model_id": "a727a0e356ab4539863a0c0d1484cb72",
       "version_major": 2,
       "version_minor": 0
      },
      "text/plain": [
       "Epoch 47:   0%|          | 0/60 [00:00<?, ?batch/s]"
      ]
     },
     "metadata": {},
     "output_type": "display_data"
    },
    {
     "name": "stdout",
     "output_type": "stream",
     "text": [
      "Epoch 047\n",
      "TRAIN→ \"R\": RMSE=0.2502 MAE=0.1910 R2=0.2661 | \"B\": Acc=0.5802 Prec=0.2900 Rec=0.3370 F1=0.3117 AUROC=0.4910\n",
      "VALID→ \"R\": RMSE=0.2457 MAE=0.1878 R2=0.2773 | \"B\": Acc=0.5765 Prec=0.3225 Rec=0.3952 F1=0.3552 AUROC=0.5033\n"
     ]
    },
    {
     "data": {
      "application/vnd.jupyter.widget-view+json": {
       "model_id": "b1d44a542cce463e913806757daabcbd",
       "version_major": 2,
       "version_minor": 0
      },
      "text/plain": [
       "Epoch 48:   0%|          | 0/60 [00:00<?, ?batch/s]"
      ]
     },
     "metadata": {},
     "output_type": "display_data"
    },
    {
     "name": "stdout",
     "output_type": "stream",
     "text": [
      "Epoch 048\n",
      "TRAIN→ \"R\": RMSE=0.2502 MAE=0.1909 R2=0.2661 | \"B\": Acc=0.5793 Prec=0.2908 Rec=0.3411 F1=0.3139 AUROC=0.4923\n",
      "VALID→ \"R\": RMSE=0.2456 MAE=0.1873 R2=0.2777 | \"B\": Acc=0.5825 Prec=0.3257 Rec=0.3876 F1=0.3540 AUROC=0.5049\n"
     ]
    },
    {
     "data": {
      "application/vnd.jupyter.widget-view+json": {
       "model_id": "e779e0ed9fbe494ebceedce2cdda80d5",
       "version_major": 2,
       "version_minor": 0
      },
      "text/plain": [
       "Epoch 49:   0%|          | 0/60 [00:00<?, ?batch/s]"
      ]
     },
     "metadata": {},
     "output_type": "display_data"
    },
    {
     "name": "stdout",
     "output_type": "stream",
     "text": [
      "Epoch 049\n",
      "TRAIN→ \"R\": RMSE=0.2502 MAE=0.1908 R2=0.2664 | \"B\": Acc=0.5745 Prec=0.2872 Rec=0.3429 F1=0.3126 AUROC=0.4894\n",
      "VALID→ \"R\": RMSE=0.2456 MAE=0.1874 R2=0.2780 | \"B\": Acc=0.5746 Prec=0.3222 Rec=0.4001 F1=0.3569 AUROC=0.5045\n"
     ]
    },
    {
     "data": {
      "application/vnd.jupyter.widget-view+json": {
       "model_id": "e761d3e8d3594849a288931dea8e2739",
       "version_major": 2,
       "version_minor": 0
      },
      "text/plain": [
       "Epoch 50:   0%|          | 0/60 [00:00<?, ?batch/s]"
      ]
     },
     "metadata": {},
     "output_type": "display_data"
    },
    {
     "name": "stdout",
     "output_type": "stream",
     "text": [
      "Epoch 050\n",
      "TRAIN→ \"R\": RMSE=0.2501 MAE=0.1908 R2=0.2670 | \"B\": Acc=0.5825 Prec=0.2913 Rec=0.3350 F1=0.3116 AUROC=0.4936\n",
      "VALID→ \"R\": RMSE=0.2456 MAE=0.1872 R2=0.2778 | \"B\": Acc=0.5902 Prec=0.3310 Rec=0.3807 F1=0.3541 AUROC=0.5090\n"
     ]
    },
    {
     "data": {
      "application/vnd.jupyter.widget-view+json": {
       "model_id": "b046b863c54a42d68728162da3f1ed96",
       "version_major": 2,
       "version_minor": 0
      },
      "text/plain": [
       "Epoch 51:   0%|          | 0/60 [00:00<?, ?batch/s]"
      ]
     },
     "metadata": {},
     "output_type": "display_data"
    },
    {
     "name": "stdout",
     "output_type": "stream",
     "text": [
      "Epoch 051\n",
      "TRAIN→ \"R\": RMSE=0.2501 MAE=0.1909 R2=0.2672 | \"B\": Acc=0.5889 Prec=0.2947 Rec=0.3283 F1=0.3106 AUROC=0.4963\n",
      "VALID→ \"R\": RMSE=0.2456 MAE=0.1872 R2=0.2782 | \"B\": Acc=0.5887 Prec=0.3306 Rec=0.3842 F1=0.3554 AUROC=0.5094\n"
     ]
    },
    {
     "data": {
      "application/vnd.jupyter.widget-view+json": {
       "model_id": "50049c753bfc45c0ae56d44c12ff486b",
       "version_major": 2,
       "version_minor": 0
      },
      "text/plain": [
       "Epoch 52:   0%|          | 0/60 [00:00<?, ?batch/s]"
      ]
     },
     "metadata": {},
     "output_type": "display_data"
    },
    {
     "name": "stdout",
     "output_type": "stream",
     "text": [
      "Epoch 052\n",
      "TRAIN→ \"R\": RMSE=0.2501 MAE=0.1909 R2=0.2671 | \"B\": Acc=0.5854 Prec=0.2937 Rec=0.3342 F1=0.3127 AUROC=0.4957\n",
      "VALID→ \"R\": RMSE=0.2455 MAE=0.1873 R2=0.2785 | \"B\": Acc=0.5858 Prec=0.3288 Rec=0.3875 F1=0.3558 AUROC=0.5094\n"
     ]
    },
    {
     "data": {
      "application/vnd.jupyter.widget-view+json": {
       "model_id": "0292c975b037453cb1cd2bee03069886",
       "version_major": 2,
       "version_minor": 0
      },
      "text/plain": [
       "Epoch 53:   0%|          | 0/60 [00:00<?, ?batch/s]"
      ]
     },
     "metadata": {},
     "output_type": "display_data"
    },
    {
     "name": "stdout",
     "output_type": "stream",
     "text": [
      "Epoch 053\n",
      "TRAIN→ \"R\": RMSE=0.2500 MAE=0.1909 R2=0.2677 | \"B\": Acc=0.5822 Prec=0.2906 Rec=0.3338 F1=0.3107 AUROC=0.4923\n",
      "VALID→ \"R\": RMSE=0.2456 MAE=0.1864 R2=0.2778 | \"B\": Acc=0.5856 Prec=0.3295 Rec=0.3905 F1=0.3574 AUROC=0.5111\n"
     ]
    },
    {
     "data": {
      "application/vnd.jupyter.widget-view+json": {
       "model_id": "f3ad6961bcb647cbac20ddcaa499efbf",
       "version_major": 2,
       "version_minor": 0
      },
      "text/plain": [
       "Epoch 54:   0%|          | 0/60 [00:00<?, ?batch/s]"
      ]
     },
     "metadata": {},
     "output_type": "display_data"
    },
    {
     "name": "stdout",
     "output_type": "stream",
     "text": [
      "Epoch 054\n",
      "TRAIN→ \"R\": RMSE=0.2501 MAE=0.1908 R2=0.2667 | \"B\": Acc=0.5905 Prec=0.2944 Rec=0.3231 F1=0.3081 AUROC=0.4950\n",
      "VALID→ \"R\": RMSE=0.2455 MAE=0.1865 R2=0.2784 | \"B\": Acc=0.5909 Prec=0.3328 Rec=0.3842 F1=0.3566 AUROC=0.5124\n"
     ]
    },
    {
     "data": {
      "application/vnd.jupyter.widget-view+json": {
       "model_id": "00f3c9ee12c644e699f86bc1b19b17d9",
       "version_major": 2,
       "version_minor": 0
      },
      "text/plain": [
       "Epoch 55:   0%|          | 0/60 [00:00<?, ?batch/s]"
      ]
     },
     "metadata": {},
     "output_type": "display_data"
    },
    {
     "name": "stdout",
     "output_type": "stream",
     "text": [
      "Epoch 055\n",
      "TRAIN→ \"R\": RMSE=0.2500 MAE=0.1908 R2=0.2675 | \"B\": Acc=0.5941 Prec=0.2963 Rec=0.3191 F1=0.3072 AUROC=0.4965\n",
      "VALID→ \"R\": RMSE=0.2455 MAE=0.1855 R2=0.2784 | \"B\": Acc=0.5963 Prec=0.3371 Rec=0.3809 F1=0.3576 AUROC=0.5186\n"
     ]
    },
    {
     "data": {
      "application/vnd.jupyter.widget-view+json": {
       "model_id": "a1a8ce45b40b47a59bfef33a5a44f364",
       "version_major": 2,
       "version_minor": 0
      },
      "text/plain": [
       "Epoch 56:   0%|          | 0/60 [00:00<?, ?batch/s]"
      ]
     },
     "metadata": {},
     "output_type": "display_data"
    },
    {
     "name": "stdout",
     "output_type": "stream",
     "text": [
      "Epoch 056\n",
      "TRAIN→ \"R\": RMSE=0.2501 MAE=0.1904 R2=0.2671 | \"B\": Acc=0.6004 Prec=0.2984 Rec=0.3081 F1=0.3032 AUROC=0.4983\n",
      "VALID→ \"R\": RMSE=0.2455 MAE=0.1854 R2=0.2784 | \"B\": Acc=0.5967 Prec=0.3382 Rec=0.3832 F1=0.3593 AUROC=0.5221\n"
     ]
    },
    {
     "data": {
      "application/vnd.jupyter.widget-view+json": {
       "model_id": "b626465accdf4c61a177aa2da4984add",
       "version_major": 2,
       "version_minor": 0
      },
      "text/plain": [
       "Epoch 57:   0%|          | 0/60 [00:00<?, ?batch/s]"
      ]
     },
     "metadata": {},
     "output_type": "display_data"
    },
    {
     "name": "stdout",
     "output_type": "stream",
     "text": [
      "Epoch 057\n",
      "TRAIN→ \"R\": RMSE=0.2499 MAE=0.1904 R2=0.2679 | \"B\": Acc=0.6006 Prec=0.2995 Rec=0.3104 F1=0.3048 AUROC=0.5002\n",
      "VALID→ \"R\": RMSE=0.2454 MAE=0.1858 R2=0.2792 | \"B\": Acc=0.5986 Prec=0.3385 Rec=0.3777 F1=0.3570 AUROC=0.5197\n"
     ]
    },
    {
     "data": {
      "application/vnd.jupyter.widget-view+json": {
       "model_id": "d78a4954a7b947d8828823a27feaad6a",
       "version_major": 2,
       "version_minor": 0
      },
      "text/plain": [
       "Epoch 58:   0%|          | 0/60 [00:00<?, ?batch/s]"
      ]
     },
     "metadata": {},
     "output_type": "display_data"
    },
    {
     "name": "stdout",
     "output_type": "stream",
     "text": [
      "Epoch 058\n",
      "TRAIN→ \"R\": RMSE=0.2498 MAE=0.1904 R2=0.2688 | \"B\": Acc=0.5991 Prec=0.2977 Rec=0.3098 F1=0.3037 AUROC=0.4968\n",
      "VALID→ \"R\": RMSE=0.2454 MAE=0.1859 R2=0.2790 | \"B\": Acc=0.5971 Prec=0.3376 Rec=0.3795 F1=0.3573 AUROC=0.5188\n"
     ]
    },
    {
     "data": {
      "application/vnd.jupyter.widget-view+json": {
       "model_id": "5d573c83aa684e6f8cf86a5789d65e76",
       "version_major": 2,
       "version_minor": 0
      },
      "text/plain": [
       "Epoch 59:   0%|          | 0/60 [00:00<?, ?batch/s]"
      ]
     },
     "metadata": {},
     "output_type": "display_data"
    },
    {
     "name": "stdout",
     "output_type": "stream",
     "text": [
      "Epoch 059\n",
      "TRAIN→ \"R\": RMSE=0.2497 MAE=0.1905 R2=0.2691 | \"B\": Acc=0.6014 Prec=0.2994 Rec=0.3080 F1=0.3036 AUROC=0.4986\n",
      "VALID→ \"R\": RMSE=0.2454 MAE=0.1861 R2=0.2790 | \"B\": Acc=0.5969 Prec=0.3366 Rec=0.3768 F1=0.3556 AUROC=0.5169\n"
     ]
    },
    {
     "data": {
      "application/vnd.jupyter.widget-view+json": {
       "model_id": "b152417fbfc8438e934a795cd24d9404",
       "version_major": 2,
       "version_minor": 0
      },
      "text/plain": [
       "Epoch 60:   0%|          | 0/60 [00:00<?, ?batch/s]"
      ]
     },
     "metadata": {},
     "output_type": "display_data"
    },
    {
     "name": "stdout",
     "output_type": "stream",
     "text": [
      "Epoch 060\n",
      "TRAIN→ \"R\": RMSE=0.2496 MAE=0.1904 R2=0.2697 | \"B\": Acc=0.6000 Prec=0.2980 Rec=0.3083 F1=0.3031 AUROC=0.4976\n",
      "VALID→ \"R\": RMSE=0.2454 MAE=0.1858 R2=0.2788 | \"B\": Acc=0.6013 Prec=0.3390 Rec=0.3695 F1=0.3536 AUROC=0.5173\n"
     ]
    },
    {
     "data": {
      "application/vnd.jupyter.widget-view+json": {
       "model_id": "e7b294042cac48d2b7e3e329d48e548e",
       "version_major": 2,
       "version_minor": 0
      },
      "text/plain": [
       "Epoch 61:   0%|          | 0/60 [00:00<?, ?batch/s]"
      ]
     },
     "metadata": {},
     "output_type": "display_data"
    },
    {
     "name": "stdout",
     "output_type": "stream",
     "text": [
      "Epoch 061\n",
      "TRAIN→ \"R\": RMSE=0.2496 MAE=0.1903 R2=0.2699 | \"B\": Acc=0.6030 Prec=0.2996 Rec=0.3043 F1=0.3019 AUROC=0.4979\n",
      "VALID→ \"R\": RMSE=0.2455 MAE=0.1857 R2=0.2788 | \"B\": Acc=0.6018 Prec=0.3392 Rec=0.3686 F1=0.3533 AUROC=0.5175\n"
     ]
    },
    {
     "data": {
      "application/vnd.jupyter.widget-view+json": {
       "model_id": "f515ebf9fc2147b1986fc5d15ea13c4b",
       "version_major": 2,
       "version_minor": 0
      },
      "text/plain": [
       "Epoch 62:   0%|          | 0/60 [00:00<?, ?batch/s]"
      ]
     },
     "metadata": {},
     "output_type": "display_data"
    },
    {
     "name": "stdout",
     "output_type": "stream",
     "text": [
      "Epoch 062\n",
      "TRAIN→ \"R\": RMSE=0.2495 MAE=0.1902 R2=0.2703 | \"B\": Acc=0.6027 Prec=0.2985 Rec=0.3024 F1=0.3005 AUROC=0.4972\n",
      "VALID→ \"R\": RMSE=0.2454 MAE=0.1854 R2=0.2790 | \"B\": Acc=0.6041 Prec=0.3407 Rec=0.3650 F1=0.3524 AUROC=0.5183\n"
     ]
    },
    {
     "data": {
      "application/vnd.jupyter.widget-view+json": {
       "model_id": "a201110f8ee4488788884f49f3ccf62d",
       "version_major": 2,
       "version_minor": 0
      },
      "text/plain": [
       "Epoch 63:   0%|          | 0/60 [00:00<?, ?batch/s]"
      ]
     },
     "metadata": {},
     "output_type": "display_data"
    },
    {
     "name": "stdout",
     "output_type": "stream",
     "text": [
      "Epoch 063\n",
      "TRAIN→ \"R\": RMSE=0.2495 MAE=0.1900 R2=0.2703 | \"B\": Acc=0.6031 Prec=0.2982 Rec=0.3006 F1=0.2994 AUROC=0.4973\n",
      "VALID→ \"R\": RMSE=0.2454 MAE=0.1852 R2=0.2791 | \"B\": Acc=0.6043 Prec=0.3409 Rec=0.3651 F1=0.3526 AUROC=0.5200\n",
      "Early stopping at epoch 63\n",
      "✅ Final best model (_fin) saved: AAPL_0.24539_fin.pth\n",
      "Delete variables to free memory...\n"
     ]
    },
    {
     "name": "stderr",
     "output_type": "stream",
     "text": [
      "[I 2025-09-18 23:57:00,347] Trial 6 finished with value: 0.24539156258106232 and parameters: {'look_back': 30, 'DROPOUT_SHORT': 0.2086838074101272, 'DROPOUT_LONG': 0.19690314163834932, 'ATT_DROPOUT': 0.1484913607353128, 'INITIAL_LR': 0.00015126864569891505, 'ETA_MIN': 1.9154179390836075e-06, 'WEIGHT_DECAY': 0.006780148607218449, 'CLIPNORM': 0.8611423241893662}. Best is trial 1 with value: 0.24039407074451447.\n"
     ]
    },
    {
     "name": "stdout",
     "output_type": "stream",
     "text": [
      "\n",
      "▶ Trial 7 starting with:\n",
      "{'look_back': 60, 'DROPOUT_SHORT': 0.1787565960923505, 'DROPOUT_LONG': 0.14406351384529117, 'ATT_DROPOUT': 0.23839143702023868, 'INITIAL_LR': 0.0002423444558071115, 'ETA_MIN': 5.715324128122348e-06, 'WEIGHT_DECAY': 6.635037713770273e-05, 'CLIPNORM': 5.853137941834936}\n",
      "\n",
      "Build LSTM input tensors (disk-backed memmaps)...\n",
      "Inside build_tensors, features: ['adx_14', 'atr_14', 'ret', 'atr_pct_14', 'log_ret', 'macd_signal_12_26_9', 'bb_hband_20', 'body', 'bb_w_20', 'eng_vwap', 'minus_di_14', 'body_pct', 'hour', 'eng_obv', 'vol_spike_14', 'macd_diff_12_26_9', 'sma_28', 'eng_sma_long', 'obv_pct_14', 'eng_macd']\n"
     ]
    },
    {
     "data": {
      "application/vnd.jupyter.widget-view+json": {
       "model_id": "7ebbf0bf999c418091bb7d983c6f3586",
       "version_major": 2,
       "version_minor": 0
      },
      "text/plain": [
       "Counting windows:   0%|          | 0/5400 [00:00<?, ?it/s]"
      ]
     },
     "metadata": {},
     "output_type": "display_data"
    },
    {
     "data": {
      "application/vnd.jupyter.widget-view+json": {
       "model_id": "c3435040541545ebadeb3d44dbe89bd9",
       "version_major": 2,
       "version_minor": 0
      },
      "text/plain": [
       "Writing memmaps:   0%|          | 0/5400 [00:00<?, ?it/s]"
      ]
     },
     "metadata": {},
     "output_type": "display_data"
    },
    {
     "name": "stdout",
     "output_type": "stream",
     "text": [
      "Split into train/val/test by calendar day...\n",
      "Carve `end_times` into the same three splits...\n",
      "Build DataLoaders over calendar‐days...\n"
     ]
    },
    {
     "data": {
      "application/vnd.jupyter.widget-view+json": {
       "model_id": "ba7940e11edd42ce84f155b64769bb13",
       "version_major": 2,
       "version_minor": 0
      },
      "text/plain": [
       "Creating DayWindowDatasets:   0%|          | 0/3 [00:00<?, ?split/s]"
      ]
     },
     "metadata": {},
     "output_type": "display_data"
    },
    {
     "name": "stdout",
     "output_type": "stream",
     "text": [
      "Instantiate the stateful DualMemoryLSTM...\n",
      "Build optimizer, LR scheduler, AMP scaler, and gradient‐clip norm...\n",
      "Run the custom stateful training loop...\n"
     ]
    },
    {
     "data": {
      "image/png": "[encoded data removed]",
      "text/plain": [
       "<Figure size 660x440 with 1 Axes>"
      ]
     },
     "metadata": {},
     "output_type": "display_data"
    },
    {
     "data": {
      "application/vnd.jupyter.widget-view+json": {
       "model_id": "05dad4ede2c94c899c3ca3f33f432bf3",
       "version_major": 2,
       "version_minor": 0
      },
      "text/plain": [
       "Epoch 1:   0%|          | 0/60 [00:03<?, ?batch/s]"
      ]
     },
     "metadata": {},
     "output_type": "display_data"
    },
    {
     "name": "stdout",
     "output_type": "stream",
     "text": [
      "Epoch 001\n",
      "TRAIN→ \"R\": RMSE=0.2877 MAE=0.2245 R2=0.0189 | \"B\": Acc=0.3691 Prec=0.2822 Rec=0.8296 F1=0.4211 AUROC=0.5286\n",
      "VALID→ \"R\": RMSE=0.2809 MAE=0.1971 R2=0.0419 | \"B\": Acc=0.4808 Prec=0.2923 Rec=0.5681 F1=0.3860 AUROC=0.5121\n"
     ]
    },
    {
     "data": {
      "application/vnd.jupyter.widget-view+json": {
       "model_id": "072a76bbe1614229aa9231b823890a41",
       "version_major": 2,
       "version_minor": 0
      },
      "text/plain": [
       "Epoch 2:   0%|          | 0/60 [00:00<?, ?batch/s]"
      ]
     },
     "metadata": {},
     "output_type": "display_data"
    },
    {
     "name": "stdout",
     "output_type": "stream",
     "text": [
      "Epoch 002\n",
      "TRAIN→ \"R\": RMSE=0.2745 MAE=0.2115 R2=0.1068 | \"B\": Acc=0.4605 Prec=0.2901 Rec=0.6566 F1=0.4024 AUROC=0.5305\n",
      "VALID→ \"R\": RMSE=0.2602 MAE=0.2012 R2=0.1781 | \"B\": Acc=0.6328 Prec=0.3506 Rec=0.3265 F1=0.3381 AUROC=0.5595\n"
     ]
    },
    {
     "data": {
      "application/vnd.jupyter.widget-view+json": {
       "model_id": "545d5cb92a094a97bb4ffe37633e7984",
       "version_major": 2,
       "version_minor": 0
      },
      "text/plain": [
       "Epoch 3:   0%|          | 0/60 [00:00<?, ?batch/s]"
      ]
     },
     "metadata": {},
     "output_type": "display_data"
    },
    {
     "name": "stdout",
     "output_type": "stream",
     "text": [
      "Epoch 003\n",
      "TRAIN→ \"R\": RMSE=0.2649 MAE=0.2037 R2=0.1681 | \"B\": Acc=0.5159 Prec=0.2894 Rec=0.5155 F1=0.3707 AUROC=0.5212\n",
      "VALID→ \"R\": RMSE=0.2586 MAE=0.1996 R2=0.1882 | \"B\": Acc=0.6465 Prec=0.3286 Rec=0.2210 F1=0.2642 AUROC=0.5166\n"
     ]
    },
    {
     "data": {
      "application/vnd.jupyter.widget-view+json": {
       "model_id": "a44f4e4d64894476aaec3f34d566bd97",
       "version_major": 2,
       "version_minor": 0
      },
      "text/plain": [
       "Epoch 4:   0%|          | 0/60 [00:00<?, ?batch/s]"
      ]
     },
     "metadata": {},
     "output_type": "display_data"
    },
    {
     "name": "stdout",
     "output_type": "stream",
     "text": [
      "Epoch 004\n",
      "TRAIN→ \"R\": RMSE=0.2611 MAE=0.2005 R2=0.1923 | \"B\": Acc=0.5394 Prec=0.2809 Rec=0.4262 F1=0.3386 AUROC=0.5043\n",
      "VALID→ \"R\": RMSE=0.2588 MAE=0.1897 R2=0.1867 | \"B\": Acc=0.6443 Prec=0.2856 Rec=0.1584 F1=0.2038 AUROC=0.4710\n"
     ]
    },
    {
     "data": {
      "application/vnd.jupyter.widget-view+json": {
       "model_id": "e5508ab8af4044bbaa2e3dd8ec0fa565",
       "version_major": 2,
       "version_minor": 0
      },
      "text/plain": [
       "Epoch 5:   0%|          | 0/60 [00:00<?, ?batch/s]"
      ]
     },
     "metadata": {},
     "output_type": "display_data"
    },
    {
     "name": "stdout",
     "output_type": "stream",
     "text": [
      "Epoch 005\n",
      "TRAIN→ \"R\": RMSE=0.2615 MAE=0.2005 R2=0.1894 | \"B\": Acc=0.5646 Prec=0.2772 Rec=0.3571 F1=0.3121 AUROC=0.4969\n",
      "VALID→ \"R\": RMSE=0.2566 MAE=0.1929 R2=0.2005 | \"B\": Acc=0.6520 Prec=0.2477 Rec=0.1036 F1=0.1461 AUROC=0.4597\n"
     ]
    },
    {
     "data": {
      "application/vnd.jupyter.widget-view+json": {
       "model_id": "09146b2b000245a4b744061613b48b08",
       "version_major": 2,
       "version_minor": 0
      },
      "text/plain": [
       "Epoch 6:   0%|          | 0/60 [00:00<?, ?batch/s]"
      ]
     },
     "metadata": {},
     "output_type": "display_data"
    },
    {
     "name": "stdout",
     "output_type": "stream",
     "text": [
      "Epoch 006\n",
      "TRAIN→ \"R\": RMSE=0.2601 MAE=0.1997 R2=0.1983 | \"B\": Acc=0.5584 Prec=0.2671 Rec=0.3420 F1=0.2999 AUROC=0.4826\n",
      "VALID→ \"R\": RMSE=0.2548 MAE=0.1893 R2=0.2120 | \"B\": Acc=0.6393 Prec=0.2761 Rec=0.1574 F1=0.2005 AUROC=0.4424\n"
     ]
    },
    {
     "data": {
      "application/vnd.jupyter.widget-view+json": {
       "model_id": "7b943e7f06b445b38686209c5ee636ba",
       "version_major": 2,
       "version_minor": 0
      },
      "text/plain": [
       "Epoch 7:   0%|          | 0/60 [00:00<?, ?batch/s]"
      ]
     },
     "metadata": {},
     "output_type": "display_data"
    },
    {
     "name": "stdout",
     "output_type": "stream",
     "text": [
      "Epoch 007\n",
      "TRAIN→ \"R\": RMSE=0.2572 MAE=0.1969 R2=0.2163 | \"B\": Acc=0.5511 Prec=0.2649 Rec=0.3510 F1=0.3019 AUROC=0.4784\n",
      "VALID→ \"R\": RMSE=0.2544 MAE=0.1855 R2=0.2143 | \"B\": Acc=0.6387 Prec=0.2494 Rec=0.1281 F1=0.1693 AUROC=0.4173\n"
     ]
    },
    {
     "data": {
      "application/vnd.jupyter.widget-view+json": {
       "model_id": "662bff01d75f4723aaa11ebcb56cae66",
       "version_major": 2,
       "version_minor": 0
      },
      "text/plain": [
       "Epoch 8:   0%|          | 0/60 [00:00<?, ?batch/s]"
      ]
     },
     "metadata": {},
     "output_type": "display_data"
    },
    {
     "name": "stdout",
     "output_type": "stream",
     "text": [
      "Epoch 008\n",
      "TRAIN→ \"R\": RMSE=0.2561 MAE=0.1957 R2=0.2227 | \"B\": Acc=0.5460 Prec=0.2493 Rec=0.3188 F1=0.2798 AUROC=0.4575\n",
      "VALID→ \"R\": RMSE=0.2532 MAE=0.1841 R2=0.2219 | \"B\": Acc=0.6250 Prec=0.2573 Rec=0.1617 F1=0.1986 AUROC=0.4162\n"
     ]
    },
    {
     "data": {
      "application/vnd.jupyter.widget-view+json": {
       "model_id": "2f55e07872124caba44c2e6d86f5bbfc",
       "version_major": 2,
       "version_minor": 0
      },
      "text/plain": [
       "Epoch 9:   0%|          | 0/60 [00:00<?, ?batch/s]"
      ]
     },
     "metadata": {},
     "output_type": "display_data"
    },
    {
     "name": "stdout",
     "output_type": "stream",
     "text": [
      "Epoch 009\n",
      "TRAIN→ \"R\": RMSE=0.2569 MAE=0.1959 R2=0.2181 | \"B\": Acc=0.5314 Prec=0.2445 Rec=0.3319 F1=0.2815 AUROC=0.4498\n",
      "VALID→ \"R\": RMSE=0.2504 MAE=0.1905 R2=0.2391 | \"B\": Acc=0.6188 Prec=0.2622 Rec=0.1802 F1=0.2136 AUROC=0.4273\n"
     ]
    },
    {
     "data": {
      "application/vnd.jupyter.widget-view+json": {
       "model_id": "c4c3e591c1564fea8c00db37acdae408",
       "version_major": 2,
       "version_minor": 0
      },
      "text/plain": [
       "Epoch 10:   0%|          | 0/60 [00:00<?, ?batch/s]"
      ]
     },
     "metadata": {},
     "output_type": "display_data"
    },
    {
     "name": "stdout",
     "output_type": "stream",
     "text": [
      "Epoch 010\n",
      "TRAIN→ \"R\": RMSE=0.2549 MAE=0.1952 R2=0.2302 | \"B\": Acc=0.5315 Prec=0.2420 Rec=0.3252 F1=0.2775 AUROC=0.4477\n",
      "VALID→ \"R\": RMSE=0.2501 MAE=0.1840 R2=0.2406 | \"B\": Acc=0.5824 Prec=0.2575 Rec=0.2408 F1=0.2489 AUROC=0.4237\n"
     ]
    },
    {
     "data": {
      "application/vnd.jupyter.widget-view+json": {
       "model_id": "c18dc7b2ed7f4db8b2da35cb61b89fe0",
       "version_major": 2,
       "version_minor": 0
      },
      "text/plain": [
       "Epoch 11:   0%|          | 0/60 [00:00<?, ?batch/s]"
      ]
     },
     "metadata": {},
     "output_type": "display_data"
    },
    {
     "name": "stdout",
     "output_type": "stream",
     "text": [
      "Epoch 011\n",
      "TRAIN→ \"R\": RMSE=0.2552 MAE=0.1952 R2=0.2281 | \"B\": Acc=0.5562 Prec=0.2509 Rec=0.3042 F1=0.2750 AUROC=0.4588\n",
      "VALID→ \"R\": RMSE=0.2496 MAE=0.1939 R2=0.2440 | \"B\": Acc=0.6177 Prec=0.2743 Rec=0.2010 F1=0.2320 AUROC=0.4461\n"
     ]
    },
    {
     "data": {
      "application/vnd.jupyter.widget-view+json": {
       "model_id": "3d982edd0d884ba4b91318f7d179c648",
       "version_major": 2,
       "version_minor": 0
      },
      "text/plain": [
       "Epoch 12:   0%|          | 0/60 [00:00<?, ?batch/s]"
      ]
     },
     "metadata": {},
     "output_type": "display_data"
    },
    {
     "name": "stdout",
     "output_type": "stream",
     "text": [
      "Epoch 012\n",
      "TRAIN→ \"R\": RMSE=0.2560 MAE=0.1975 R2=0.2235 | \"B\": Acc=0.5418 Prec=0.2479 Rec=0.3226 F1=0.2804 AUROC=0.4538\n",
      "VALID→ \"R\": RMSE=0.2485 MAE=0.1855 R2=0.2501 | \"B\": Acc=0.5732 Prec=0.2669 Rec=0.2781 F1=0.2724 AUROC=0.4369\n"
     ]
    },
    {
     "data": {
      "application/vnd.jupyter.widget-view+json": {
       "model_id": "723f4f80c39248f0bf661b920668254e",
       "version_major": 2,
       "version_minor": 0
      },
      "text/plain": [
       "Epoch 13:   0%|          | 0/60 [00:00<?, ?batch/s]"
      ]
     },
     "metadata": {},
     "output_type": "display_data"
    },
    {
     "name": "stdout",
     "output_type": "stream",
     "text": [
      "Epoch 013\n",
      "TRAIN→ \"R\": RMSE=0.2529 MAE=0.1926 R2=0.2419 | \"B\": Acc=0.5331 Prec=0.2452 Rec=0.3308 F1=0.2816 AUROC=0.4500\n",
      "VALID→ \"R\": RMSE=0.2481 MAE=0.1875 R2=0.2528 | \"B\": Acc=0.5597 Prec=0.2703 Rec=0.3133 F1=0.2902 AUROC=0.4479\n"
     ]
    },
    {
     "data": {
      "application/vnd.jupyter.widget-view+json": {
       "model_id": "6735985d0b074b8fa0b7a0e5730fdde6",
       "version_major": 2,
       "version_minor": 0
      },
      "text/plain": [
       "Epoch 14:   0%|          | 0/60 [00:00<?, ?batch/s]"
      ]
     },
     "metadata": {},
     "output_type": "display_data"
    },
    {
     "name": "stdout",
     "output_type": "stream",
     "text": [
      "Epoch 014\n",
      "TRAIN→ \"R\": RMSE=0.2524 MAE=0.1921 R2=0.2453 | \"B\": Acc=0.5511 Prec=0.2425 Rec=0.2932 F1=0.2655 AUROC=0.4457\n",
      "VALID→ \"R\": RMSE=0.2476 MAE=0.1862 R2=0.2560 | \"B\": Acc=0.5761 Prec=0.2758 Rec=0.2924 F1=0.2838 AUROC=0.4505\n"
     ]
    },
    {
     "data": {
      "application/vnd.jupyter.widget-view+json": {
       "model_id": "353cf7535edf4868927ac8e707eeba3a",
       "version_major": 2,
       "version_minor": 0
      },
      "text/plain": [
       "Epoch 15:   0%|          | 0/60 [00:00<?, ?batch/s]"
      ]
     },
     "metadata": {},
     "output_type": "display_data"
    },
    {
     "name": "stdout",
     "output_type": "stream",
     "text": [
      "Epoch 015\n",
      "TRAIN→ \"R\": RMSE=0.2533 MAE=0.1938 R2=0.2396 | \"B\": Acc=0.5525 Prec=0.2503 Rec=0.3097 F1=0.2768 AUROC=0.4544\n",
      "VALID→ \"R\": RMSE=0.2477 MAE=0.1857 R2=0.2551 | \"B\": Acc=0.5402 Prec=0.2881 Rec=0.4080 F1=0.3377 AUROC=0.4812\n"
     ]
    },
    {
     "data": {
      "application/vnd.jupyter.widget-view+json": {
       "model_id": "460516fc4d2a45638b4ea8442c97b6eb",
       "version_major": 2,
       "version_minor": 0
      },
      "text/plain": [
       "Epoch 16:   0%|          | 0/60 [00:00<?, ?batch/s]"
      ]
     },
     "metadata": {},
     "output_type": "display_data"
    },
    {
     "name": "stdout",
     "output_type": "stream",
     "text": [
      "Epoch 016\n",
      "TRAIN→ \"R\": RMSE=0.2544 MAE=0.1946 R2=0.2331 | \"B\": Acc=0.5639 Prec=0.2600 Rec=0.3122 F1=0.2837 AUROC=0.4672\n",
      "VALID→ \"R\": RMSE=0.2488 MAE=0.1912 R2=0.2488 | \"B\": Acc=0.5917 Prec=0.2900 Rec=0.2907 F1=0.2903 AUROC=0.4660\n"
     ]
    },
    {
     "data": {
      "application/vnd.jupyter.widget-view+json": {
       "model_id": "9bef7139e8594105b43d84941e03acfc",
       "version_major": 2,
       "version_minor": 0
      },
      "text/plain": [
       "Epoch 17:   0%|          | 0/60 [00:00<?, ?batch/s]"
      ]
     },
     "metadata": {},
     "output_type": "display_data"
    },
    {
     "name": "stdout",
     "output_type": "stream",
     "text": [
      "Epoch 017\n",
      "TRAIN→ \"R\": RMSE=0.2539 MAE=0.1941 R2=0.2358 | \"B\": Acc=0.5648 Prec=0.2537 Rec=0.2951 F1=0.2728 AUROC=0.4579\n",
      "VALID→ \"R\": RMSE=0.2477 MAE=0.1841 R2=0.2552 | \"B\": Acc=0.5693 Prec=0.2835 Rec=0.3267 F1=0.3035 AUROC=0.4630\n"
     ]
    },
    {
     "data": {
      "application/vnd.jupyter.widget-view+json": {
       "model_id": "f1666c4bd412447aa4ae10bd0491db10",
       "version_major": 2,
       "version_minor": 0
      },
      "text/plain": [
       "Epoch 18:   0%|          | 0/60 [00:00<?, ?batch/s]"
      ]
     },
     "metadata": {},
     "output_type": "display_data"
    },
    {
     "name": "stdout",
     "output_type": "stream",
     "text": [
      "Epoch 018\n",
      "TRAIN→ \"R\": RMSE=0.2546 MAE=0.1942 R2=0.2318 | \"B\": Acc=0.5537 Prec=0.2514 Rec=0.3100 F1=0.2776 AUROC=0.4551\n",
      "VALID→ \"R\": RMSE=0.2476 MAE=0.1831 R2=0.2558 | \"B\": Acc=0.5569 Prec=0.2831 Rec=0.3540 F1=0.3146 AUROC=0.4677\n"
     ]
    },
    {
     "data": {
      "application/vnd.jupyter.widget-view+json": {
       "model_id": "8b4732d4f5584740bbaa868c0589b75d",
       "version_major": 2,
       "version_minor": 0
      },
      "text/plain": [
       "Epoch 19:   0%|          | 0/60 [00:00<?, ?batch/s]"
      ]
     },
     "metadata": {},
     "output_type": "display_data"
    },
    {
     "name": "stdout",
     "output_type": "stream",
     "text": [
      "Epoch 019\n",
      "TRAIN→ \"R\": RMSE=0.2547 MAE=0.1946 R2=0.2310 | \"B\": Acc=0.5560 Prec=0.2535 Rec=0.3110 F1=0.2793 AUROC=0.4570\n",
      "VALID→ \"R\": RMSE=0.2474 MAE=0.1844 R2=0.2569 | \"B\": Acc=0.5704 Prec=0.2810 Rec=0.3177 F1=0.2982 AUROC=0.4676\n"
     ]
    },
    {
     "data": {
      "application/vnd.jupyter.widget-view+json": {
       "model_id": "2a89d6fb1e8f4a049aa55f006d26dec3",
       "version_major": 2,
       "version_minor": 0
      },
      "text/plain": [
       "Epoch 20:   0%|          | 0/60 [00:00<?, ?batch/s]"
      ]
     },
     "metadata": {},
     "output_type": "display_data"
    },
    {
     "name": "stdout",
     "output_type": "stream",
     "text": [
      "Epoch 020\n",
      "TRAIN→ \"R\": RMSE=0.2543 MAE=0.1943 R2=0.2337 | \"B\": Acc=0.5537 Prec=0.2541 Rec=0.3170 F1=0.2821 AUROC=0.4587\n",
      "VALID→ \"R\": RMSE=0.2472 MAE=0.1841 R2=0.2580 | \"B\": Acc=0.5620 Prec=0.2798 Rec=0.3332 F1=0.3042 AUROC=0.4703\n"
     ]
    },
    {
     "data": {
      "application/vnd.jupyter.widget-view+json": {
       "model_id": "f1da681029ac4792ada1aa71a4fc12ca",
       "version_major": 2,
       "version_minor": 0
      },
      "text/plain": [
       "Epoch 21:   0%|          | 0/60 [00:00<?, ?batch/s]"
      ]
     },
     "metadata": {},
     "output_type": "display_data"
    },
    {
     "name": "stdout",
     "output_type": "stream",
     "text": [
      "Epoch 021\n",
      "TRAIN→ \"R\": RMSE=0.2539 MAE=0.1941 R2=0.2358 | \"B\": Acc=0.5515 Prec=0.2561 Rec=0.3263 F1=0.2870 AUROC=0.4619\n",
      "VALID→ \"R\": RMSE=0.2470 MAE=0.1841 R2=0.2595 | \"B\": Acc=0.5481 Prec=0.2832 Rec=0.3741 F1=0.3224 AUROC=0.4795\n"
     ]
    },
    {
     "data": {
      "application/vnd.jupyter.widget-view+json": {
       "model_id": "d9ecd347845f4d4883d006b0a2fb2057",
       "version_major": 2,
       "version_minor": 0
      },
      "text/plain": [
       "Epoch 22:   0%|          | 0/60 [00:00<?, ?batch/s]"
      ]
     },
     "metadata": {},
     "output_type": "display_data"
    },
    {
     "name": "stdout",
     "output_type": "stream",
     "text": [
      "Epoch 022\n",
      "TRAIN→ \"R\": RMSE=0.2536 MAE=0.1937 R2=0.2378 | \"B\": Acc=0.5451 Prec=0.2572 Rec=0.3412 F1=0.2933 AUROC=0.4657\n",
      "VALID→ \"R\": RMSE=0.2466 MAE=0.1853 R2=0.2620 | \"B\": Acc=0.5296 Prec=0.2830 Rec=0.4157 F1=0.3368 AUROC=0.4850\n"
     ]
    },
    {
     "data": {
      "application/vnd.jupyter.widget-view+json": {
       "model_id": "533bbfa7e1c0498593c221b6a9093ce2",
       "version_major": 2,
       "version_minor": 0
      },
      "text/plain": [
       "Epoch 23:   0%|          | 0/60 [00:00<?, ?batch/s]"
      ]
     },
     "metadata": {},
     "output_type": "display_data"
    },
    {
     "name": "stdout",
     "output_type": "stream",
     "text": [
      "Epoch 023\n",
      "TRAIN→ \"R\": RMSE=0.2531 MAE=0.1930 R2=0.2405 | \"B\": Acc=0.5310 Prec=0.2576 Rec=0.3695 F1=0.3036 AUROC=0.4670\n",
      "VALID→ \"R\": RMSE=0.2465 MAE=0.1838 R2=0.2622 | \"B\": Acc=0.5417 Prec=0.2844 Rec=0.3925 F1=0.3298 AUROC=0.4844\n"
     ]
    },
    {
     "data": {
      "application/vnd.jupyter.widget-view+json": {
       "model_id": "f038bf79427e490a92591928747c493d",
       "version_major": 2,
       "version_minor": 0
      },
      "text/plain": [
       "Epoch 24:   0%|          | 0/60 [00:00<?, ?batch/s]"
      ]
     },
     "metadata": {},
     "output_type": "display_data"
    },
    {
     "name": "stdout",
     "output_type": "stream",
     "text": [
      "Epoch 024\n",
      "TRAIN→ \"R\": RMSE=0.2531 MAE=0.1933 R2=0.2406 | \"B\": Acc=0.5389 Prec=0.2595 Rec=0.3597 F1=0.3015 AUROC=0.4695\n",
      "VALID→ \"R\": RMSE=0.2464 MAE=0.1835 R2=0.2629 | \"B\": Acc=0.5300 Prec=0.2855 Rec=0.4232 F1=0.3410 AUROC=0.4888\n"
     ]
    },
    {
     "data": {
      "application/vnd.jupyter.widget-view+json": {
       "model_id": "6a71e598037042468d4ca2a774895749",
       "version_major": 2,
       "version_minor": 0
      },
      "text/plain": [
       "Epoch 25:   0%|          | 0/60 [00:00<?, ?batch/s]"
      ]
     },
     "metadata": {},
     "output_type": "display_data"
    },
    {
     "name": "stdout",
     "output_type": "stream",
     "text": [
      "Epoch 025\n",
      "TRAIN→ \"R\": RMSE=0.2529 MAE=0.1931 R2=0.2421 | \"B\": Acc=0.5240 Prec=0.2575 Rec=0.3828 F1=0.3079 AUROC=0.4682\n",
      "VALID→ \"R\": RMSE=0.2461 MAE=0.1835 R2=0.2646 | \"B\": Acc=0.5011 Prec=0.2823 Rec=0.4778 F1=0.3549 AUROC=0.4919\n"
     ]
    },
    {
     "data": {
      "application/vnd.jupyter.widget-view+json": {
       "model_id": "48ad978adc704b4f9373af544521d8a0",
       "version_major": 2,
       "version_minor": 0
      },
      "text/plain": [
       "Epoch 26:   0%|          | 0/60 [00:00<?, ?batch/s]"
      ]
     },
     "metadata": {},
     "output_type": "display_data"
    },
    {
     "name": "stdout",
     "output_type": "stream",
     "text": [
      "Epoch 026\n",
      "TRAIN→ \"R\": RMSE=0.2524 MAE=0.1924 R2=0.2451 | \"B\": Acc=0.5171 Prec=0.2609 Rec=0.4069 F1=0.3180 AUROC=0.4742\n",
      "VALID→ \"R\": RMSE=0.2460 MAE=0.1839 R2=0.2651 | \"B\": Acc=0.5126 Prec=0.2819 Rec=0.4502 F1=0.3467 AUROC=0.4872\n"
     ]
    },
    {
     "data": {
      "application/vnd.jupyter.widget-view+json": {
       "model_id": "baa58c8fe35a42ebb0cceb7f19b8fd51",
       "version_major": 2,
       "version_minor": 0
      },
      "text/plain": [
       "Epoch 27:   0%|          | 0/60 [00:00<?, ?batch/s]"
      ]
     },
     "metadata": {},
     "output_type": "display_data"
    },
    {
     "name": "stdout",
     "output_type": "stream",
     "text": [
      "Epoch 027\n",
      "TRAIN→ \"R\": RMSE=0.2520 MAE=0.1922 R2=0.2473 | \"B\": Acc=0.5220 Prec=0.2603 Rec=0.3954 F1=0.3139 AUROC=0.4732\n",
      "VALID→ \"R\": RMSE=0.2459 MAE=0.1841 R2=0.2661 | \"B\": Acc=0.5304 Prec=0.2863 Rec=0.4250 F1=0.3421 AUROC=0.4898\n"
     ]
    },
    {
     "data": {
      "application/vnd.jupyter.widget-view+json": {
       "model_id": "c85842c1c57c4a5a965625010bbf40dc",
       "version_major": 2,
       "version_minor": 0
      },
      "text/plain": [
       "Epoch 28:   0%|          | 0/60 [00:00<?, ?batch/s]"
      ]
     },
     "metadata": {},
     "output_type": "display_data"
    },
    {
     "name": "stdout",
     "output_type": "stream",
     "text": [
      "Epoch 028\n",
      "TRAIN→ \"R\": RMSE=0.2519 MAE=0.1921 R2=0.2482 | \"B\": Acc=0.5237 Prec=0.2617 Rec=0.3965 F1=0.3153 AUROC=0.4747\n",
      "VALID→ \"R\": RMSE=0.2458 MAE=0.1833 R2=0.2668 | \"B\": Acc=0.5227 Prec=0.2912 Rec=0.4610 F1=0.3569 AUROC=0.5005\n"
     ]
    },
    {
     "data": {
      "application/vnd.jupyter.widget-view+json": {
       "model_id": "864891683e644968a8ff5240bf4d9672",
       "version_major": 2,
       "version_minor": 0
      },
      "text/plain": [
       "Epoch 29:   0%|          | 0/60 [00:00<?, ?batch/s]"
      ]
     },
     "metadata": {},
     "output_type": "display_data"
    },
    {
     "name": "stdout",
     "output_type": "stream",
     "text": [
      "Epoch 029\n",
      "TRAIN→ \"R\": RMSE=0.2519 MAE=0.1924 R2=0.2477 | \"B\": Acc=0.5227 Prec=0.2653 Rec=0.4099 F1=0.3221 AUROC=0.4809\n",
      "VALID→ \"R\": RMSE=0.2456 MAE=0.1828 R2=0.2677 | \"B\": Acc=0.5101 Prec=0.2891 Rec=0.4833 F1=0.3617 AUROC=0.5011\n"
     ]
    },
    {
     "data": {
      "application/vnd.jupyter.widget-view+json": {
       "model_id": "8fc1ff21b44b48b9ad12e494105a00a5",
       "version_major": 2,
       "version_minor": 0
      },
      "text/plain": [
       "Epoch 30:   0%|          | 0/60 [00:00<?, ?batch/s]"
      ]
     },
     "metadata": {},
     "output_type": "display_data"
    },
    {
     "name": "stdout",
     "output_type": "stream",
     "text": [
      "Epoch 030\n",
      "TRAIN→ \"R\": RMSE=0.2517 MAE=0.1921 R2=0.2494 | \"B\": Acc=0.5199 Prec=0.2641 Rec=0.4117 F1=0.3218 AUROC=0.4799\n",
      "VALID→ \"R\": RMSE=0.2454 MAE=0.1832 R2=0.2691 | \"B\": Acc=0.5104 Prec=0.2879 Rec=0.4776 F1=0.3592 AUROC=0.4993\n"
     ]
    },
    {
     "data": {
      "application/vnd.jupyter.widget-view+json": {
       "model_id": "037119d1a95c44a7bbdabc393b23c437",
       "version_major": 2,
       "version_minor": 0
      },
      "text/plain": [
       "Epoch 31:   0%|          | 0/60 [00:00<?, ?batch/s]"
      ]
     },
     "metadata": {},
     "output_type": "display_data"
    },
    {
     "name": "stdout",
     "output_type": "stream",
     "text": [
      "Epoch 031\n",
      "TRAIN→ \"R\": RMSE=0.2513 MAE=0.1918 R2=0.2518 | \"B\": Acc=0.5198 Prec=0.2645 Rec=0.4131 F1=0.3225 AUROC=0.4811\n",
      "VALID→ \"R\": RMSE=0.2452 MAE=0.1835 R2=0.2704 | \"B\": Acc=0.5033 Prec=0.2856 Rec=0.4856 F1=0.3597 AUROC=0.4982\n"
     ]
    },
    {
     "data": {
      "application/vnd.jupyter.widget-view+json": {
       "model_id": "b80d2ebfff6a4afd8fbfd487ca4b611d",
       "version_major": 2,
       "version_minor": 0
      },
      "text/plain": [
       "Epoch 32:   0%|          | 0/60 [00:00<?, ?batch/s]"
      ]
     },
     "metadata": {},
     "output_type": "display_data"
    },
    {
     "name": "stdout",
     "output_type": "stream",
     "text": [
      "Epoch 032\n",
      "TRAIN→ \"R\": RMSE=0.2510 MAE=0.1916 R2=0.2532 | \"B\": Acc=0.5151 Prec=0.2656 Rec=0.4267 F1=0.3274 AUROC=0.4831\n",
      "VALID→ \"R\": RMSE=0.2450 MAE=0.1837 R2=0.2715 | \"B\": Acc=0.4949 Prec=0.2837 Rec=0.4975 F1=0.3614 AUROC=0.4972\n"
     ]
    },
    {
     "data": {
      "application/vnd.jupyter.widget-view+json": {
       "model_id": "aee49d183c814d0cac16d18403c3c383",
       "version_major": 2,
       "version_minor": 0
      },
      "text/plain": [
       "Epoch 33:   0%|          | 0/60 [00:00<?, ?batch/s]"
      ]
     },
     "metadata": {},
     "output_type": "display_data"
    },
    {
     "name": "stdout",
     "output_type": "stream",
     "text": [
      "Epoch 033\n",
      "TRAIN→ \"R\": RMSE=0.2509 MAE=0.1916 R2=0.2541 | \"B\": Acc=0.5184 Prec=0.2679 Rec=0.4275 F1=0.3294 AUROC=0.4863\n",
      "VALID→ \"R\": RMSE=0.2449 MAE=0.1831 R2=0.2719 | \"B\": Acc=0.5063 Prec=0.2830 Rec=0.4684 F1=0.3528 AUROC=0.4924\n"
     ]
    },
    {
     "data": {
      "application/vnd.jupyter.widget-view+json": {
       "model_id": "e925c44de34645019e54ac9797a4e95d",
       "version_major": 2,
       "version_minor": 0
      },
      "text/plain": [
       "Epoch 34:   0%|          | 0/60 [00:00<?, ?batch/s]"
      ]
     },
     "metadata": {},
     "output_type": "display_data"
    },
    {
     "name": "stdout",
     "output_type": "stream",
     "text": [
      "Epoch 034\n",
      "TRAIN→ \"R\": RMSE=0.2506 MAE=0.1911 R2=0.2558 | \"B\": Acc=0.5184 Prec=0.2635 Rec=0.4127 F1=0.3216 AUROC=0.4788\n",
      "VALID→ \"R\": RMSE=0.2446 MAE=0.1845 R2=0.2735 | \"B\": Acc=0.4994 Prec=0.2823 Rec=0.4814 F1=0.3559 AUROC=0.4929\n"
     ]
    },
    {
     "data": {
      "application/vnd.jupyter.widget-view+json": {
       "model_id": "6292a570f8ac4bf9ac4906028e90deef",
       "version_major": 2,
       "version_minor": 0
      },
      "text/plain": [
       "Epoch 35:   0%|          | 0/60 [00:00<?, ?batch/s]"
      ]
     },
     "metadata": {},
     "output_type": "display_data"
    },
    {
     "name": "stdout",
     "output_type": "stream",
     "text": [
      "Epoch 035\n",
      "TRAIN→ \"R\": RMSE=0.2507 MAE=0.1915 R2=0.2553 | \"B\": Acc=0.5143 Prec=0.2655 Rec=0.4278 F1=0.3276 AUROC=0.4823\n",
      "VALID→ \"R\": RMSE=0.2449 MAE=0.1820 R2=0.2721 | \"B\": Acc=0.4924 Prec=0.2821 Rec=0.4964 F1=0.3598 AUROC=0.4936\n"
     ]
    },
    {
     "data": {
      "application/vnd.jupyter.widget-view+json": {
       "model_id": "2d954e31c312441e9d2635e8a3d58aae",
       "version_major": 2,
       "version_minor": 0
      },
      "text/plain": [
       "Epoch 36:   0%|          | 0/60 [00:00<?, ?batch/s]"
      ]
     },
     "metadata": {},
     "output_type": "display_data"
    },
    {
     "name": "stdout",
     "output_type": "stream",
     "text": [
      "Epoch 036\n",
      "TRAIN→ \"R\": RMSE=0.2502 MAE=0.1903 R2=0.2581 | \"B\": Acc=0.5112 Prec=0.2633 Rec=0.4265 F1=0.3256 AUROC=0.4792\n",
      "VALID→ \"R\": RMSE=0.2446 MAE=0.1816 R2=0.2736 | \"B\": Acc=0.4757 Prec=0.2803 Rec=0.5261 F1=0.3657 AUROC=0.4947\n"
     ]
    },
    {
     "data": {
      "application/vnd.jupyter.widget-view+json": {
       "model_id": "4af969ef17744b36891d7d10ea929d5d",
       "version_major": 2,
       "version_minor": 0
      },
      "text/plain": [
       "Epoch 37:   0%|          | 0/60 [00:00<?, ?batch/s]"
      ]
     },
     "metadata": {},
     "output_type": "display_data"
    },
    {
     "name": "stdout",
     "output_type": "stream",
     "text": [
      "Epoch 037\n",
      "TRAIN→ \"R\": RMSE=0.2500 MAE=0.1902 R2=0.2593 | \"B\": Acc=0.5064 Prec=0.2636 Rec=0.4372 F1=0.3289 AUROC=0.4804\n",
      "VALID→ \"R\": RMSE=0.2443 MAE=0.1834 R2=0.2753 | \"B\": Acc=0.4912 Prec=0.2811 Rec=0.4953 F1=0.3587 AUROC=0.4934\n"
     ]
    },
    {
     "data": {
      "application/vnd.jupyter.widget-view+json": {
       "model_id": "64e52c745a9f449386bed3fbf753592d",
       "version_major": 2,
       "version_minor": 0
      },
      "text/plain": [
       "Epoch 38:   0%|          | 0/60 [00:00<?, ?batch/s]"
      ]
     },
     "metadata": {},
     "output_type": "display_data"
    },
    {
     "name": "stdout",
     "output_type": "stream",
     "text": [
      "Epoch 038\n",
      "TRAIN→ \"R\": RMSE=0.2498 MAE=0.1900 R2=0.2603 | \"B\": Acc=0.5143 Prec=0.2642 Rec=0.4234 F1=0.3254 AUROC=0.4806\n",
      "VALID→ \"R\": RMSE=0.2443 MAE=0.1833 R2=0.2757 | \"B\": Acc=0.5048 Prec=0.2839 Rec=0.4752 F1=0.3554 AUROC=0.4956\n"
     ]
    },
    {
     "data": {
      "application/vnd.jupyter.widget-view+json": {
       "model_id": "0b50f6ec0b9f4b168a382d776ee1f6e7",
       "version_major": 2,
       "version_minor": 0
      },
      "text/plain": [
       "Epoch 39:   0%|          | 0/60 [00:00<?, ?batch/s]"
      ]
     },
     "metadata": {},
     "output_type": "display_data"
    },
    {
     "name": "stdout",
     "output_type": "stream",
     "text": [
      "Epoch 039\n",
      "TRAIN→ \"R\": RMSE=0.2498 MAE=0.1900 R2=0.2607 | \"B\": Acc=0.5188 Prec=0.2651 Rec=0.4172 F1=0.3242 AUROC=0.4820\n",
      "VALID→ \"R\": RMSE=0.2443 MAE=0.1822 R2=0.2754 | \"B\": Acc=0.4933 Prec=0.2845 Rec=0.5042 F1=0.3637 AUROC=0.4989\n"
     ]
    },
    {
     "data": {
      "application/vnd.jupyter.widget-view+json": {
       "model_id": "59bac30eea3b4c359bcf7a6cfa1ab692",
       "version_major": 2,
       "version_minor": 0
      },
      "text/plain": [
       "Epoch 40:   0%|          | 0/60 [00:00<?, ?batch/s]"
      ]
     },
     "metadata": {},
     "output_type": "display_data"
    },
    {
     "name": "stdout",
     "output_type": "stream",
     "text": [
      "Epoch 040\n",
      "TRAIN→ \"R\": RMSE=0.2499 MAE=0.1896 R2=0.2600 | \"B\": Acc=0.5176 Prec=0.2640 Rec=0.4161 F1=0.3231 AUROC=0.4813\n",
      "VALID→ \"R\": RMSE=0.2438 MAE=0.1847 R2=0.2785 | \"B\": Acc=0.4968 Prec=0.2878 Rec=0.5096 F1=0.3679 AUROC=0.5048\n"
     ]
    },
    {
     "data": {
      "application/vnd.jupyter.widget-view+json": {
       "model_id": "58e22fc192e348158e27ac12ea920acb",
       "version_major": 2,
       "version_minor": 0
      },
      "text/plain": [
       "Epoch 41:   0%|          | 0/60 [00:00<?, ?batch/s]"
      ]
     },
     "metadata": {},
     "output_type": "display_data"
    },
    {
     "name": "stdout",
     "output_type": "stream",
     "text": [
      "Epoch 041\n",
      "TRAIN→ \"R\": RMSE=0.2493 MAE=0.1897 R2=0.2632 | \"B\": Acc=0.5146 Prec=0.2690 Rec=0.4394 F1=0.3337 AUROC=0.4888\n",
      "VALID→ \"R\": RMSE=0.2440 MAE=0.1829 R2=0.2774 | \"B\": Acc=0.5085 Prec=0.2911 Rec=0.4954 F1=0.3667 AUROC=0.5079\n"
     ]
    },
    {
     "data": {
      "application/vnd.jupyter.widget-view+json": {
       "model_id": "6a31b22e1fb84787bc4e58a5db017e7f",
       "version_major": 2,
       "version_minor": 0
      },
      "text/plain": [
       "Epoch 42:   0%|          | 0/60 [00:00<?, ?batch/s]"
      ]
     },
     "metadata": {},
     "output_type": "display_data"
    },
    {
     "name": "stdout",
     "output_type": "stream",
     "text": [
      "Epoch 042\n",
      "TRAIN→ \"R\": RMSE=0.2492 MAE=0.1891 R2=0.2640 | \"B\": Acc=0.5181 Prec=0.2669 Rec=0.4247 F1=0.3278 AUROC=0.4854\n",
      "VALID→ \"R\": RMSE=0.2437 MAE=0.1836 R2=0.2788 | \"B\": Acc=0.4933 Prec=0.2879 Rec=0.5185 F1=0.3703 AUROC=0.5063\n"
     ]
    },
    {
     "data": {
      "application/vnd.jupyter.widget-view+json": {
       "model_id": "5ffc07b27c7444a2a3b87a5e222da727",
       "version_major": 2,
       "version_minor": 0
      },
      "text/plain": [
       "Epoch 43:   0%|          | 0/60 [00:00<?, ?batch/s]"
      ]
     },
     "metadata": {},
     "output_type": "display_data"
    },
    {
     "name": "stdout",
     "output_type": "stream",
     "text": [
      "Epoch 043\n",
      "TRAIN→ \"R\": RMSE=0.2490 MAE=0.1894 R2=0.2652 | \"B\": Acc=0.5136 Prec=0.2681 Rec=0.4381 F1=0.3326 AUROC=0.4878\n",
      "VALID→ \"R\": RMSE=0.2438 MAE=0.1822 R2=0.2783 | \"B\": Acc=0.4970 Prec=0.2905 Rec=0.5207 F1=0.3729 AUROC=0.5097\n"
     ]
    },
    {
     "data": {
      "application/vnd.jupyter.widget-view+json": {
       "model_id": "d4a022ff3b544293aa133db27e75be4f",
       "version_major": 2,
       "version_minor": 0
      },
      "text/plain": [
       "Epoch 44:   0%|          | 0/60 [00:00<?, ?batch/s]"
      ]
     },
     "metadata": {},
     "output_type": "display_data"
    },
    {
     "name": "stdout",
     "output_type": "stream",
     "text": [
      "Epoch 044\n",
      "TRAIN→ \"R\": RMSE=0.2492 MAE=0.1892 R2=0.2639 | \"B\": Acc=0.5158 Prec=0.2656 Rec=0.4250 F1=0.3269 AUROC=0.4836\n",
      "VALID→ \"R\": RMSE=0.2435 MAE=0.1834 R2=0.2802 | \"B\": Acc=0.4899 Prec=0.2914 Rec=0.5417 F1=0.3789 AUROC=0.5149\n"
     ]
    },
    {
     "data": {
      "application/vnd.jupyter.widget-view+json": {
       "model_id": "5b70ef4179ac49deb54e2649f41bbd5c",
       "version_major": 2,
       "version_minor": 0
      },
      "text/plain": [
       "Epoch 45:   0%|          | 0/60 [00:00<?, ?batch/s]"
      ]
     },
     "metadata": {},
     "output_type": "display_data"
    },
    {
     "name": "stdout",
     "output_type": "stream",
     "text": [
      "Epoch 045\n",
      "TRAIN→ \"R\": RMSE=0.2488 MAE=0.1888 R2=0.2665 | \"B\": Acc=0.5259 Prec=0.2719 Rec=0.4254 F1=0.3318 AUROC=0.4935\n",
      "VALID→ \"R\": RMSE=0.2435 MAE=0.1832 R2=0.2804 | \"B\": Acc=0.4980 Prec=0.2918 Rec=0.5238 F1=0.3748 AUROC=0.5127\n"
     ]
    },
    {
     "data": {
      "application/vnd.jupyter.widget-view+json": {
       "model_id": "a84917c62de14928a98cc0f36030e1ef",
       "version_major": 2,
       "version_minor": 0
      },
      "text/plain": [
       "Epoch 46:   0%|          | 0/60 [00:00<?, ?batch/s]"
      ]
     },
     "metadata": {},
     "output_type": "display_data"
    },
    {
     "name": "stdout",
     "output_type": "stream",
     "text": [
      "Epoch 046\n",
      "TRAIN→ \"R\": RMSE=0.2487 MAE=0.1886 R2=0.2668 | \"B\": Acc=0.5213 Prec=0.2694 Rec=0.4267 F1=0.3303 AUROC=0.4901\n",
      "VALID→ \"R\": RMSE=0.2434 MAE=0.1837 R2=0.2811 | \"B\": Acc=0.5027 Prec=0.2969 Rec=0.5345 F1=0.3818 AUROC=0.5229\n"
     ]
    },
    {
     "data": {
      "application/vnd.jupyter.widget-view+json": {
       "model_id": "5466b32ef00540618ba7d6f777bd3602",
       "version_major": 2,
       "version_minor": 0
      },
      "text/plain": [
       "Epoch 47:   0%|          | 0/60 [00:00<?, ?batch/s]"
      ]
     },
     "metadata": {},
     "output_type": "display_data"
    },
    {
     "name": "stdout",
     "output_type": "stream",
     "text": [
      "Epoch 047\n",
      "TRAIN→ \"R\": RMSE=0.2485 MAE=0.1887 R2=0.2684 | \"B\": Acc=0.5201 Prec=0.2721 Rec=0.4387 F1=0.3359 AUROC=0.4944\n",
      "VALID→ \"R\": RMSE=0.2435 MAE=0.1824 R2=0.2802 | \"B\": Acc=0.5013 Prec=0.2958 Rec=0.5330 F1=0.3805 AUROC=0.5209\n"
     ]
    },
    {
     "data": {
      "application/vnd.jupyter.widget-view+json": {
       "model_id": "758f75fb56d547d19117e32327f5d487",
       "version_major": 2,
       "version_minor": 0
      },
      "text/plain": [
       "Epoch 48:   0%|          | 0/60 [00:00<?, ?batch/s]"
      ]
     },
     "metadata": {},
     "output_type": "display_data"
    },
    {
     "name": "stdout",
     "output_type": "stream",
     "text": [
      "Epoch 048\n",
      "TRAIN→ \"R\": RMSE=0.2486 MAE=0.1888 R2=0.2674 | \"B\": Acc=0.5226 Prec=0.2711 Rec=0.4297 F1=0.3324 AUROC=0.4932\n",
      "VALID→ \"R\": RMSE=0.2432 MAE=0.1830 R2=0.2818 | \"B\": Acc=0.5116 Prec=0.2998 Rec=0.5240 F1=0.3814 AUROC=0.5253\n"
     ]
    },
    {
     "data": {
      "application/vnd.jupyter.widget-view+json": {
       "model_id": "7825406fcfa14be19743b534f045d8db",
       "version_major": 2,
       "version_minor": 0
      },
      "text/plain": [
       "Epoch 49:   0%|          | 0/60 [00:00<?, ?batch/s]"
      ]
     },
     "metadata": {},
     "output_type": "display_data"
    },
    {
     "name": "stdout",
     "output_type": "stream",
     "text": [
      "Epoch 049\n",
      "TRAIN→ \"R\": RMSE=0.2483 MAE=0.1885 R2=0.2693 | \"B\": Acc=0.5288 Prec=0.2718 Rec=0.4186 F1=0.3296 AUROC=0.4935\n",
      "VALID→ \"R\": RMSE=0.2432 MAE=0.1834 R2=0.2822 | \"B\": Acc=0.5106 Prec=0.3013 Rec=0.5333 F1=0.3850 AUROC=0.5295\n"
     ]
    },
    {
     "data": {
      "application/vnd.jupyter.widget-view+json": {
       "model_id": "8b485b718cc74f198040bc906ed035b8",
       "version_major": 2,
       "version_minor": 0
      },
      "text/plain": [
       "Epoch 50:   0%|          | 0/60 [00:00<?, ?batch/s]"
      ]
     },
     "metadata": {},
     "output_type": "display_data"
    },
    {
     "name": "stdout",
     "output_type": "stream",
     "text": [
      "Epoch 050\n",
      "TRAIN→ \"R\": RMSE=0.2481 MAE=0.1882 R2=0.2706 | \"B\": Acc=0.5313 Prec=0.2745 Rec=0.4226 F1=0.3328 AUROC=0.4978\n",
      "VALID→ \"R\": RMSE=0.2432 MAE=0.1837 R2=0.2822 | \"B\": Acc=0.5257 Prec=0.3066 Rec=0.5162 F1=0.3847 AUROC=0.5345\n"
     ]
    },
    {
     "data": {
      "application/vnd.jupyter.widget-view+json": {
       "model_id": "2b5b9e8afca848b8a0b52c6fd9d9bb73",
       "version_major": 2,
       "version_minor": 0
      },
      "text/plain": [
       "Epoch 51:   0%|          | 0/60 [00:00<?, ?batch/s]"
      ]
     },
     "metadata": {},
     "output_type": "display_data"
    },
    {
     "name": "stdout",
     "output_type": "stream",
     "text": [
      "Epoch 051\n",
      "TRAIN→ \"R\": RMSE=0.2479 MAE=0.1883 R2=0.2715 | \"B\": Acc=0.5293 Prec=0.2742 Rec=0.4258 F1=0.3336 AUROC=0.4980\n",
      "VALID→ \"R\": RMSE=0.2431 MAE=0.1832 R2=0.2828 | \"B\": Acc=0.5214 Prec=0.3053 Rec=0.5222 F1=0.3853 AUROC=0.5337\n"
     ]
    },
    {
     "data": {
      "application/vnd.jupyter.widget-view+json": {
       "model_id": "ee416b80257d4c65a893b437c3161776",
       "version_major": 2,
       "version_minor": 0
      },
      "text/plain": [
       "Epoch 52:   0%|          | 0/60 [00:00<?, ?batch/s]"
      ]
     },
     "metadata": {},
     "output_type": "display_data"
    },
    {
     "name": "stdout",
     "output_type": "stream",
     "text": [
      "Epoch 052\n",
      "TRAIN→ \"R\": RMSE=0.2479 MAE=0.1881 R2=0.2718 | \"B\": Acc=0.5313 Prec=0.2745 Rec=0.4223 F1=0.3327 AUROC=0.4984\n",
      "VALID→ \"R\": RMSE=0.2430 MAE=0.1837 R2=0.2829 | \"B\": Acc=0.5184 Prec=0.3087 Rec=0.5456 F1=0.3943 AUROC=0.5434\n"
     ]
    },
    {
     "data": {
      "application/vnd.jupyter.widget-view+json": {
       "model_id": "1c066c6020a14690bf89cb4760067d1b",
       "version_major": 2,
       "version_minor": 0
      },
      "text/plain": [
       "Epoch 53:   0%|          | 0/60 [00:00<?, ?batch/s]"
      ]
     },
     "metadata": {},
     "output_type": "display_data"
    },
    {
     "name": "stdout",
     "output_type": "stream",
     "text": [
      "Epoch 053\n",
      "TRAIN→ \"R\": RMSE=0.2478 MAE=0.1881 R2=0.2722 | \"B\": Acc=0.5292 Prec=0.2778 Rec=0.4387 F1=0.3402 AUROC=0.5046\n",
      "VALID→ \"R\": RMSE=0.2430 MAE=0.1836 R2=0.2834 | \"B\": Acc=0.5155 Prec=0.3063 Rec=0.5428 F1=0.3916 AUROC=0.5399\n"
     ]
    },
    {
     "data": {
      "application/vnd.jupyter.widget-view+json": {
       "model_id": "d8064edfda914ca2a50fd5ed2b71e092",
       "version_major": 2,
       "version_minor": 0
      },
      "text/plain": [
       "Epoch 54:   0%|          | 0/60 [00:00<?, ?batch/s]"
      ]
     },
     "metadata": {},
     "output_type": "display_data"
    },
    {
     "name": "stdout",
     "output_type": "stream",
     "text": [
      "Epoch 054\n",
      "TRAIN→ \"R\": RMSE=0.2477 MAE=0.1881 R2=0.2730 | \"B\": Acc=0.5306 Prec=0.2770 Rec=0.4328 F1=0.3378 AUROC=0.5032\n",
      "VALID→ \"R\": RMSE=0.2429 MAE=0.1833 R2=0.2841 | \"B\": Acc=0.5195 Prec=0.3078 Rec=0.5385 F1=0.3917 AUROC=0.5428\n"
     ]
    },
    {
     "data": {
      "application/vnd.jupyter.widget-view+json": {
       "model_id": "23f203165f9e47d69fcc61e99eb9fb94",
       "version_major": 2,
       "version_minor": 0
      },
      "text/plain": [
       "Epoch 55:   0%|          | 0/60 [00:00<?, ?batch/s]"
      ]
     },
     "metadata": {},
     "output_type": "display_data"
    },
    {
     "name": "stdout",
     "output_type": "stream",
     "text": [
      "Epoch 055\n",
      "TRAIN→ \"R\": RMSE=0.2476 MAE=0.1882 R2=0.2732 | \"B\": Acc=0.5334 Prec=0.2796 Rec=0.4355 F1=0.3405 AUROC=0.5071\n",
      "VALID→ \"R\": RMSE=0.2428 MAE=0.1830 R2=0.2842 | \"B\": Acc=0.5169 Prec=0.3077 Rec=0.5452 F1=0.3934 AUROC=0.5451\n"
     ]
    },
    {
     "data": {
      "application/vnd.jupyter.widget-view+json": {
       "model_id": "0e76e8fd047a4a4cb529d849faf2b087",
       "version_major": 2,
       "version_minor": 0
      },
      "text/plain": [
       "Epoch 56:   0%|          | 0/60 [00:00<?, ?batch/s]"
      ]
     },
     "metadata": {},
     "output_type": "display_data"
    },
    {
     "name": "stdout",
     "output_type": "stream",
     "text": [
      "Epoch 056\n",
      "TRAIN→ \"R\": RMSE=0.2475 MAE=0.1880 R2=0.2739 | \"B\": Acc=0.5334 Prec=0.2808 Rec=0.4397 F1=0.3427 AUROC=0.5094\n",
      "VALID→ \"R\": RMSE=0.2428 MAE=0.1835 R2=0.2844 | \"B\": Acc=0.5226 Prec=0.3089 Rec=0.5349 F1=0.3917 AUROC=0.5456\n"
     ]
    },
    {
     "data": {
      "application/vnd.jupyter.widget-view+json": {
       "model_id": "cab9fd09b7ee42ca994a68ed48d36cd1",
       "version_major": 2,
       "version_minor": 0
      },
      "text/plain": [
       "Epoch 57:   0%|          | 0/60 [00:00<?, ?batch/s]"
      ]
     },
     "metadata": {},
     "output_type": "display_data"
    },
    {
     "name": "stdout",
     "output_type": "stream",
     "text": [
      "Epoch 057\n",
      "TRAIN→ \"R\": RMSE=0.2474 MAE=0.1881 R2=0.2747 | \"B\": Acc=0.5375 Prec=0.2804 Rec=0.4288 F1=0.3391 AUROC=0.5078\n",
      "VALID→ \"R\": RMSE=0.2427 MAE=0.1834 R2=0.2848 | \"B\": Acc=0.5215 Prec=0.3070 Rec=0.5291 F1=0.3885 AUROC=0.5417\n"
     ]
    },
    {
     "data": {
      "application/vnd.jupyter.widget-view+json": {
       "model_id": "8770fad4f8744af6a79444248bd2b56e",
       "version_major": 2,
       "version_minor": 0
      },
      "text/plain": [
       "Epoch 58:   0%|          | 0/60 [00:00<?, ?batch/s]"
      ]
     },
     "metadata": {},
     "output_type": "display_data"
    },
    {
     "name": "stdout",
     "output_type": "stream",
     "text": [
      "Epoch 058\n",
      "TRAIN→ \"R\": RMSE=0.2473 MAE=0.1880 R2=0.2751 | \"B\": Acc=0.5330 Prec=0.2801 Rec=0.4384 F1=0.3418 AUROC=0.5088\n",
      "VALID→ \"R\": RMSE=0.2427 MAE=0.1836 R2=0.2851 | \"B\": Acc=0.5290 Prec=0.3095 Rec=0.5194 F1=0.3878 AUROC=0.5439\n"
     ]
    },
    {
     "data": {
      "application/vnd.jupyter.widget-view+json": {
       "model_id": "4f34414b6a824d2dbe05c881f876b3ce",
       "version_major": 2,
       "version_minor": 0
      },
      "text/plain": [
       "Epoch 59:   0%|          | 0/60 [00:00<?, ?batch/s]"
      ]
     },
     "metadata": {},
     "output_type": "display_data"
    },
    {
     "name": "stdout",
     "output_type": "stream",
     "text": [
      "Epoch 059\n",
      "TRAIN→ \"R\": RMSE=0.2472 MAE=0.1880 R2=0.2759 | \"B\": Acc=0.5339 Prec=0.2791 Rec=0.4325 F1=0.3393 AUROC=0.5070\n",
      "VALID→ \"R\": RMSE=0.2427 MAE=0.1836 R2=0.2849 | \"B\": Acc=0.5222 Prec=0.3076 Rec=0.5300 F1=0.3892 AUROC=0.5434\n"
     ]
    },
    {
     "data": {
      "application/vnd.jupyter.widget-view+json": {
       "model_id": "472af507b5064d35b796b16f8fbabfa7",
       "version_major": 2,
       "version_minor": 0
      },
      "text/plain": [
       "Epoch 60:   0%|          | 0/60 [00:00<?, ?batch/s]"
      ]
     },
     "metadata": {},
     "output_type": "display_data"
    },
    {
     "name": "stdout",
     "output_type": "stream",
     "text": [
      "Epoch 060\n",
      "TRAIN→ \"R\": RMSE=0.2471 MAE=0.1879 R2=0.2762 | \"B\": Acc=0.5368 Prec=0.2803 Rec=0.4302 F1=0.3394 AUROC=0.5084\n",
      "VALID→ \"R\": RMSE=0.2426 MAE=0.1837 R2=0.2853 | \"B\": Acc=0.5267 Prec=0.3080 Rec=0.5194 F1=0.3867 AUROC=0.5430\n"
     ]
    },
    {
     "data": {
      "application/vnd.jupyter.widget-view+json": {
       "model_id": "86b30cd55bbe439fb1b8fd3959f598e1",
       "version_major": 2,
       "version_minor": 0
      },
      "text/plain": [
       "Epoch 61:   0%|          | 0/60 [00:00<?, ?batch/s]"
      ]
     },
     "metadata": {},
     "output_type": "display_data"
    },
    {
     "name": "stdout",
     "output_type": "stream",
     "text": [
      "Epoch 061\n",
      "TRAIN→ \"R\": RMSE=0.2471 MAE=0.1879 R2=0.2766 | \"B\": Acc=0.5365 Prec=0.2811 Rec=0.4338 F1=0.3411 AUROC=0.5100\n",
      "VALID→ \"R\": RMSE=0.2427 MAE=0.1836 R2=0.2852 | \"B\": Acc=0.5266 Prec=0.3078 Rec=0.5186 F1=0.3863 AUROC=0.5431\n"
     ]
    },
    {
     "data": {
      "application/vnd.jupyter.widget-view+json": {
       "model_id": "c3db798548444d8faee6855522ec588b",
       "version_major": 2,
       "version_minor": 0
      },
      "text/plain": [
       "Epoch 62:   0%|          | 0/60 [00:00<?, ?batch/s]"
      ]
     },
     "metadata": {},
     "output_type": "display_data"
    },
    {
     "name": "stdout",
     "output_type": "stream",
     "text": [
      "Epoch 062\n",
      "TRAIN→ \"R\": RMSE=0.2470 MAE=0.1879 R2=0.2769 | \"B\": Acc=0.5320 Prec=0.2796 Rec=0.4387 F1=0.3415 AUROC=0.5086\n",
      "VALID→ \"R\": RMSE=0.2427 MAE=0.1836 R2=0.2851 | \"B\": Acc=0.5218 Prec=0.3070 Rec=0.5285 F1=0.3884 AUROC=0.5440\n"
     ]
    },
    {
     "data": {
      "application/vnd.jupyter.widget-view+json": {
       "model_id": "5dbf6e6f3606423cab076ec4b06249bc",
       "version_major": 2,
       "version_minor": 0
      },
      "text/plain": [
       "Epoch 63:   0%|          | 0/60 [00:00<?, ?batch/s]"
      ]
     },
     "metadata": {},
     "output_type": "display_data"
    },
    {
     "name": "stdout",
     "output_type": "stream",
     "text": [
      "Epoch 063\n",
      "TRAIN→ \"R\": RMSE=0.2469 MAE=0.1878 R2=0.2774 | \"B\": Acc=0.5326 Prec=0.2815 Rec=0.4441 F1=0.3446 AUROC=0.5112\n",
      "VALID→ \"R\": RMSE=0.2426 MAE=0.1831 R2=0.2854 | \"B\": Acc=0.5260 Prec=0.3092 Rec=0.5263 F1=0.3895 AUROC=0.5464\n"
     ]
    },
    {
     "data": {
      "application/vnd.jupyter.widget-view+json": {
       "model_id": "5ff0a0e313694a3fbc512d8aebe9ac36",
       "version_major": 2,
       "version_minor": 0
      },
      "text/plain": [
       "Epoch 64:   0%|          | 0/60 [00:00<?, ?batch/s]"
      ]
     },
     "metadata": {},
     "output_type": "display_data"
    },
    {
     "name": "stdout",
     "output_type": "stream",
     "text": [
      "Epoch 064\n",
      "TRAIN→ \"R\": RMSE=0.2469 MAE=0.1877 R2=0.2776 | \"B\": Acc=0.5323 Prec=0.2816 Rec=0.4450 F1=0.3449 AUROC=0.5112\n",
      "VALID→ \"R\": RMSE=0.2427 MAE=0.1831 R2=0.2852 | \"B\": Acc=0.5227 Prec=0.3068 Rec=0.5249 F1=0.3872 AUROC=0.5436\n"
     ]
    },
    {
     "data": {
      "application/vnd.jupyter.widget-view+json": {
       "model_id": "ab3449706d134f719e871432c054205c",
       "version_major": 2,
       "version_minor": 0
      },
      "text/plain": [
       "Epoch 65:   0%|          | 0/60 [00:00<?, ?batch/s]"
      ]
     },
     "metadata": {},
     "output_type": "display_data"
    },
    {
     "name": "stdout",
     "output_type": "stream",
     "text": [
      "Epoch 065\n",
      "TRAIN→ \"R\": RMSE=0.2468 MAE=0.1875 R2=0.2781 | \"B\": Acc=0.5280 Prec=0.2806 Rec=0.4514 F1=0.3460 AUROC=0.5104\n",
      "VALID→ \"R\": RMSE=0.2427 MAE=0.1831 R2=0.2851 | \"B\": Acc=0.5251 Prec=0.3086 Rec=0.5261 F1=0.3890 AUROC=0.5464\n"
     ]
    },
    {
     "data": {
      "application/vnd.jupyter.widget-view+json": {
       "model_id": "d1760ffc51884dda966a9b9784dbb9ca",
       "version_major": 2,
       "version_minor": 0
      },
      "text/plain": [
       "Epoch 66:   0%|          | 0/60 [00:00<?, ?batch/s]"
      ]
     },
     "metadata": {},
     "output_type": "display_data"
    },
    {
     "name": "stdout",
     "output_type": "stream",
     "text": [
      "Epoch 066\n",
      "TRAIN→ \"R\": RMSE=0.2468 MAE=0.1875 R2=0.2782 | \"B\": Acc=0.5311 Prec=0.2825 Rec=0.4516 F1=0.3476 AUROC=0.5129\n",
      "VALID→ \"R\": RMSE=0.2427 MAE=0.1829 R2=0.2847 | \"B\": Acc=0.5262 Prec=0.3094 Rec=0.5269 F1=0.3899 AUROC=0.5484\n"
     ]
    },
    {
     "data": {
      "application/vnd.jupyter.widget-view+json": {
       "model_id": "3ad1bfe39b5942cfb12b6a8bd890394e",
       "version_major": 2,
       "version_minor": 0
      },
      "text/plain": [
       "Epoch 67:   0%|          | 0/60 [00:00<?, ?batch/s]"
      ]
     },
     "metadata": {},
     "output_type": "display_data"
    },
    {
     "name": "stdout",
     "output_type": "stream",
     "text": [
      "Epoch 067\n",
      "TRAIN→ \"R\": RMSE=0.2468 MAE=0.1873 R2=0.2783 | \"B\": Acc=0.5281 Prec=0.2820 Rec=0.4565 F1=0.3486 AUROC=0.5129\n",
      "VALID→ \"R\": RMSE=0.2428 MAE=0.1828 R2=0.2845 | \"B\": Acc=0.5274 Prec=0.3096 Rec=0.5242 F1=0.3892 AUROC=0.5484\n"
     ]
    },
    {
     "data": {
      "application/vnd.jupyter.widget-view+json": {
       "model_id": "22ae5a24ad424786836646febb7affac",
       "version_major": 2,
       "version_minor": 0
      },
      "text/plain": [
       "Epoch 68:   0%|          | 0/60 [00:00<?, ?batch/s]"
      ]
     },
     "metadata": {},
     "output_type": "display_data"
    },
    {
     "name": "stdout",
     "output_type": "stream",
     "text": [
      "Epoch 068\n",
      "TRAIN→ \"R\": RMSE=0.2466 MAE=0.1872 R2=0.2790 | \"B\": Acc=0.5270 Prec=0.2818 Rec=0.4584 F1=0.3491 AUROC=0.5126\n",
      "VALID→ \"R\": RMSE=0.2428 MAE=0.1824 R2=0.2846 | \"B\": Acc=0.5263 Prec=0.3084 Rec=0.5224 F1=0.3879 AUROC=0.5468\n"
     ]
    },
    {
     "data": {
      "application/vnd.jupyter.widget-view+json": {
       "model_id": "23ba6b96f79644dda18f24107c803cea",
       "version_major": 2,
       "version_minor": 0
      },
      "text/plain": [
       "Epoch 69:   0%|          | 0/60 [00:00<?, ?batch/s]"
      ]
     },
     "metadata": {},
     "output_type": "display_data"
    },
    {
     "name": "stdout",
     "output_type": "stream",
     "text": [
      "Epoch 069\n",
      "TRAIN→ \"R\": RMSE=0.2466 MAE=0.1872 R2=0.2790 | \"B\": Acc=0.5256 Prec=0.2815 Rec=0.4605 F1=0.3494 AUROC=0.5125\n",
      "VALID→ \"R\": RMSE=0.2428 MAE=0.1820 R2=0.2843 | \"B\": Acc=0.5251 Prec=0.3087 Rec=0.5267 F1=0.3892 AUROC=0.5482\n",
      "Early stopping at epoch 69\n",
      "✅ Final best model (_fin) saved: AAPL_0.24263_fin.pth\n",
      "Delete variables to free memory...\n"
     ]
    },
    {
     "name": "stderr",
     "output_type": "stream",
     "text": [
      "[I 2025-09-19 01:17:04,074] Trial 7 finished with value: 0.24262893199920654 and parameters: {'look_back': 60, 'DROPOUT_SHORT': 0.1787565960923505, 'DROPOUT_LONG': 0.14406351384529117, 'ATT_DROPOUT': 0.23839143702023868, 'INITIAL_LR': 0.0002423444558071115, 'ETA_MIN': 5.715324128122348e-06, 'WEIGHT_DECAY': 6.635037713770273e-05, 'CLIPNORM': 5.853137941834936}. Best is trial 1 with value: 0.24039407074451447.\n"
     ]
    },
    {
     "name": "stdout",
     "output_type": "stream",
     "text": [
      "\n",
      "▶ Trial 8 starting with:\n",
      "{'look_back': 120, 'DROPOUT_SHORT': 0.15441912717964873, 'DROPOUT_LONG': 0.3243653897446591, 'ATT_DROPOUT': 0.14360892968143257, 'INITIAL_LR': 0.0003435593326954679, 'ETA_MIN': 5.5197591840554445e-06, 'WEIGHT_DECAY': 0.0003539612760000405, 'CLIPNORM': 2.0660039039829203}\n",
      "\n",
      "Build LSTM input tensors (disk-backed memmaps)...\n",
      "Inside build_tensors, features: ['adx_14', 'atr_14', 'ret', 'atr_pct_14', 'log_ret', 'macd_signal_12_26_9', 'bb_hband_20', 'body', 'bb_w_20', 'eng_vwap', 'minus_di_14', 'body_pct', 'hour', 'eng_obv', 'vol_spike_14', 'macd_diff_12_26_9', 'sma_28', 'eng_sma_long', 'obv_pct_14', 'eng_macd']\n"
     ]
    },
    {
     "data": {
      "application/vnd.jupyter.widget-view+json": {
       "model_id": "a32cf47cf55f4ac485a415d5d997c44f",
       "version_major": 2,
       "version_minor": 0
      },
      "text/plain": [
       "Counting windows:   0%|          | 0/5400 [00:00<?, ?it/s]"
      ]
     },
     "metadata": {},
     "output_type": "display_data"
    },
    {
     "data": {
      "application/vnd.jupyter.widget-view+json": {
       "model_id": "6e1641d72677450f9e8d60e2cd672518",
       "version_major": 2,
       "version_minor": 0
      },
      "text/plain": [
       "Writing memmaps:   0%|          | 0/5400 [00:00<?, ?it/s]"
      ]
     },
     "metadata": {},
     "output_type": "display_data"
    },
    {
     "name": "stdout",
     "output_type": "stream",
     "text": [
      "Split into train/val/test by calendar day...\n",
      "Carve `end_times` into the same three splits...\n",
      "Build DataLoaders over calendar‐days...\n"
     ]
    },
    {
     "data": {
      "application/vnd.jupyter.widget-view+json": {
       "model_id": "c23f98c856d6465fa37cab4915c2c3c8",
       "version_major": 2,
       "version_minor": 0
      },
      "text/plain": [
       "Creating DayWindowDatasets:   0%|          | 0/3 [00:00<?, ?split/s]"
      ]
     },
     "metadata": {},
     "output_type": "display_data"
    },
    {
     "name": "stdout",
     "output_type": "stream",
     "text": [
      "Instantiate the stateful DualMemoryLSTM...\n",
      "Build optimizer, LR scheduler, AMP scaler, and gradient‐clip norm...\n",
      "Run the custom stateful training loop...\n"
     ]
    },
    {
     "data": {
      "image/png": "[encoded data removed]",
      "text/plain": [
       "<Figure size 660x440 with 1 Axes>"
      ]
     },
     "metadata": {},
     "output_type": "display_data"
    },
    {
     "data": {
      "application/vnd.jupyter.widget-view+json": {
       "model_id": "9365261a72d843c18040b5d0292c8706",
       "version_major": 2,
       "version_minor": 0
      },
      "text/plain": [
       "Epoch 1:   0%|          | 0/60 [00:02<?, ?batch/s]"
      ]
     },
     "metadata": {},
     "output_type": "display_data"
    },
    {
     "name": "stdout",
     "output_type": "stream",
     "text": [
      "Epoch 001\n",
      "TRAIN→ \"R\": RMSE=0.2874 MAE=0.2246 R2=0.0173 | \"B\": Acc=0.5173 Prec=0.2653 Rec=0.4515 F1=0.3343 AUROC=0.4950\n",
      "VALID→ \"R\": RMSE=0.2626 MAE=0.1969 R2=0.1399 | \"B\": Acc=0.3084 Prec=0.2815 Rec=0.9852 F1=0.4379 AUROC=0.6771\n"
     ]
    },
    {
     "data": {
      "application/vnd.jupyter.widget-view+json": {
       "model_id": "fef33db4fd1e468c8b2317dbf1ce5642",
       "version_major": 2,
       "version_minor": 0
      },
      "text/plain": [
       "Epoch 2:   0%|          | 0/60 [00:00<?, ?batch/s]"
      ]
     },
     "metadata": {},
     "output_type": "display_data"
    }
   ],
   "source": [
    "# ──────────────────────────────────────────────────────────────────────────────\n",
    "#  Create Optuna study and run optimization\n",
    "# ──────────────────────────────────────────────────────────────────────────────\n",
    "\n",
    "study = optuna.create_study(\n",
    "    storage=\"sqlite:///optuna_study.db\",    # Point it at an SQLite file so it writes out each result immediately instead of buffering in RAM\n",
    "    load_if_exists=True,\n",
    "    direction=\"minimize\",\n",
    "    pruner=MedianPruner(n_startup_trials=6, n_warmup_steps=12),\n",
    ")\n",
    "\n",
    "        \n",
    "study.optimize(\n",
    "    objective,\n",
    "    n_trials = 100,\n",
    "    n_jobs   = 1,\n",
    "    callbacks=[live_cb, plots.cleanup_callback],\n",
    ")\n",
    "\n",
    "plt.close('all')   # safe here; the final image remains displayed in the notebook output\n",
    "gc.collect()       # optional extra sweep\n",
    "\n"
   ]
  },
  {
   "cell_type": "code",
   "execution_count": null,
   "id": "4312366c-7f12-4c10-9f34-0647d6be022e",
   "metadata": {},
   "outputs": [],
   "source": [
    "# ──────────────────────────────────────────────────────────────────────────────\n",
    "#  Print out the best hyperparameters & result\n",
    "# ──────────────────────────────────────────────────────────────────────────────\n",
    "print(\"Best hyperparameters:\", study.best_params)\n",
    "print(\"Best validation RMSE:\", study.best_value)\n",
    "\n",
    "# ──────────────────────────────────────────────────────────────────────────────\n",
    "#  Compute and print parameter importances\n",
    "# ──────────────────────────────────────────────────────────────────────────────\n",
    "imps = get_param_importances(study)\n",
    "print(\"\\nHyperparameter importances (higher ⇒ more impact on RMSE):\")\n",
    "for name, score in sorted(imps.items(), key=lambda x: x[1], reverse=True):\n",
    "    print(f\"  {name:20s} : {score:.3f}\")\n",
    "\n",
    "# ──────────────────────────────────────────────────────────────────────────────\n",
    "#  Dump study results to JSON\n",
    "# ──────────────────────────────────────────────────────────────────────────────\n",
    "# 1) Build your session‐only DataFrame once\n",
    "session_df = df.between_time(params.regular_start,\n",
    "                             params.regular_end)\n",
    "\n",
    "# 2) Derive the trading‐day boundaries\n",
    "first_day = session_df.index.normalize().min()\n",
    "last_day  = session_df.index.normalize().max()\n",
    "\n",
    "# 3) Format your file name\n",
    "start_date = first_day.strftime(\"%Y%m%d\")\n",
    "end_date   = last_day.strftime(\"%Y%m%d\")\n",
    "file_name  = f\"{params.ticker}_{start_date}-{end_date}_optuna_model_hpars.json\"\n",
    "file_path  = os.path.join(results_folder, file_name)\n",
    "\n",
    "\n",
    "# ------------------------------------------------------------------\n",
    "# Dump study results (including importances)\n",
    "# ------------------------------------------------------------------\n",
    "\n",
    "with open(file_path, \"w\") as f:\n",
    "    json.dump(\n",
    "        {\n",
    "            \"best_params\": study.best_params,\n",
    "            \"best_value\" : study.best_value,\n",
    "            \"importances\": imps,\n",
    "            \"trials\": [\n",
    "                {\"number\": t.number, \"value\": t.value, \"params\": t.params, \n",
    "                 \"state\": t.state.name}\n",
    "                for t in study.trials\n",
    "            ],\n",
    "        },\n",
    "        f,\n",
    "        indent=4,\n",
    "    )\n",
    "\n",
    "print(f\"\\nOptuna results (and importances) saved to: {file_path}\")\n"
   ]
  },
  {
   "cell_type": "code",
   "execution_count": null,
   "id": "9c97c435-e800-483e-b2ab-f9412ef6954e",
   "metadata": {},
   "outputs": [],
   "source": []
  },
  {
   "cell_type": "code",
   "execution_count": null,
   "id": "6865782e-fc07-4354-a5b9-2cdeed1ebad9",
   "metadata": {},
   "outputs": [],
   "source": []
  },
  {
   "cell_type": "code",
   "execution_count": null,
   "id": "cbaa9fb2-411b-4d9f-9a33-e6f6c59de7dd",
   "metadata": {},
   "outputs": [],
   "source": []
  }
 ],
 "metadata": {
  "kernelspec": {
   "display_name": "Python 3 (ipykernel)",
   "language": "python",
   "name": "python3"
  },
  "language_info": {
   "codemirror_mode": {
    "name": "ipython",
    "version": 3
   },
   "file_extension": ".py",
   "mimetype": "text/x-python",
   "name": "python",
   "nbconvert_exporter": "python",
   "pygments_lexer": "ipython3",
   "version": "3.12.3"
  }
 },
 "nbformat": 4,
 "nbformat_minor": 5
}
