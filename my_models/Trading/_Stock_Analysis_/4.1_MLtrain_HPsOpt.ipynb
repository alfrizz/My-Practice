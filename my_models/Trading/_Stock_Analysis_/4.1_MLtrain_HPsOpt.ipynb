{
 "cells": [
  {
   "cell_type": "code",
   "execution_count": 1,
   "id": "457f3994-6d3b-4a52-9d2e-35e0e29924f0",
   "metadata": {},
   "outputs": [
    {
     "data": {
      "text/plain": [
       "<module 'libs.models.dual_lstm' from '/workspace/my_models/Trading/_Stock_Analysis_/libs/models/dual_lstm.py'>"
      ]
     },
     "execution_count": 1,
     "metadata": {},
     "output_type": "execute_result"
    }
   ],
   "source": [
    "%matplotlib inline\n",
    "\n",
    "\n",
    "# 1) Wipe out your namespace\n",
    "%reset -f\n",
    "\n",
    "# 2) Clear Jupyter’s stored outputs (and inputs if you like)\n",
    "try:\n",
    "    Out.clear()\n",
    "except NameError:\n",
    "    pass\n",
    "\n",
    "try:\n",
    "    In.clear()\n",
    "except NameError:\n",
    "    pass\n",
    "\n",
    "# 3) Force Python GC\n",
    "import gc\n",
    "gc.collect()\n",
    "\n",
    "# 4) Free any GPU buffers\n",
    "import torch\n",
    "if torch.cuda.is_available():\n",
    "    torch.cuda.empty_cache()\n",
    "\n",
    "\n",
    "import importlib\n",
    "from libs import params, trades, feats, plots, models_core\n",
    "from libs.models import dual_lstm\n",
    "importlib.reload(params)\n",
    "importlib.reload(trades)\n",
    "importlib.reload(feats)\n",
    "importlib.reload(plots)\n",
    "importlib.reload(models_core)\n",
    "importlib.reload(dual_lstm)"
   ]
  },
  {
   "cell_type": "code",
   "execution_count": 2,
   "id": "2366b422-dfac-4830-8f50-db7b522f2769",
   "metadata": {},
   "outputs": [],
   "source": [
    "# Turn off interactive plotting globally (we’ll manage our own display)\n",
    "import matplotlib\n",
    "matplotlib.use(\"Agg\")  # safe, headless-friendly\n",
    "import matplotlib.pyplot as plt\n",
    "plt.ioff()\n",
    "\n",
    "import os\n",
    "import json\n",
    "import numpy as np\n",
    "import pandas as pd\n",
    "import datetime as dt\n",
    "from pathlib import Path\n",
    "\n",
    "from torch import nn\n",
    "from torch.optim import AdamW\n",
    "from torch.optim.lr_scheduler import ReduceLROnPlateau, CosineAnnealingWarmRestarts\n",
    "from torch.cuda.amp import GradScaler, autocast\n",
    "\n",
    "import optuna\n",
    "from optuna.pruners import MedianPruner\n",
    "from optuna.exceptions import TrialPruned\n",
    "from optuna.importance import get_param_importances\n",
    "\n",
    "from tqdm.auto import tqdm\n"
   ]
  },
  {
   "cell_type": "code",
   "execution_count": 3,
   "id": "a9498b30-9abb-4123-87f1-0ed191478e49",
   "metadata": {},
   "outputs": [
    {
     "data": {
      "text/html": [
       "<div>\n",
       "<style scoped>\n",
       "    .dataframe tbody tr th:only-of-type {\n",
       "        vertical-align: middle;\n",
       "    }\n",
       "\n",
       "    .dataframe tbody tr th {\n",
       "        vertical-align: top;\n",
       "    }\n",
       "\n",
       "    .dataframe thead th {\n",
       "        text-align: right;\n",
       "    }\n",
       "</style>\n",
       "<table border=\"1\" class=\"dataframe\">\n",
       "  <thead>\n",
       "    <tr style=\"text-align: right;\">\n",
       "      <th></th>\n",
       "      <th>sma_pct_14</th>\n",
       "      <th>atr_pct_14</th>\n",
       "      <th>rsi_14</th>\n",
       "      <th>bb_w_20</th>\n",
       "      <th>plus_di_14</th>\n",
       "      <th>range_pct</th>\n",
       "      <th>eng_ma</th>\n",
       "      <th>minus_di_14</th>\n",
       "      <th>macd_diff_12_26_9</th>\n",
       "      <th>ret</th>\n",
       "      <th>eng_macd</th>\n",
       "      <th>macd_line_12_26_9</th>\n",
       "      <th>obv_diff_14</th>\n",
       "      <th>eng_atr_div</th>\n",
       "      <th>eng_adx</th>\n",
       "      <th>hour</th>\n",
       "      <th>adx_14</th>\n",
       "      <th>close_raw</th>\n",
       "      <th>signal</th>\n",
       "    </tr>\n",
       "  </thead>\n",
       "  <tbody>\n",
       "    <tr>\n",
       "      <th>2004-01-02 09:33:00</th>\n",
       "      <td>0.499798</td>\n",
       "      <td>0.000000</td>\n",
       "      <td>1.000000</td>\n",
       "      <td>0.000000</td>\n",
       "      <td>0.000000</td>\n",
       "      <td>0.000000</td>\n",
       "      <td>0.516453</td>\n",
       "      <td>0.000000</td>\n",
       "      <td>0.506696</td>\n",
       "      <td>0.499891</td>\n",
       "      <td>0.624765</td>\n",
       "      <td>0.489532</td>\n",
       "      <td>0.488177</td>\n",
       "      <td>0.353456</td>\n",
       "      <td>0.519392</td>\n",
       "      <td>1.002425</td>\n",
       "      <td>0.000000</td>\n",
       "      <td>0.764286</td>\n",
       "      <td>1.301415e-09</td>\n",
       "    </tr>\n",
       "    <tr>\n",
       "      <th>2004-01-02 09:34:00</th>\n",
       "      <td>0.499798</td>\n",
       "      <td>0.000000</td>\n",
       "      <td>1.000000</td>\n",
       "      <td>0.000000</td>\n",
       "      <td>0.000000</td>\n",
       "      <td>0.000000</td>\n",
       "      <td>0.516453</td>\n",
       "      <td>0.000000</td>\n",
       "      <td>0.506696</td>\n",
       "      <td>0.499891</td>\n",
       "      <td>0.624765</td>\n",
       "      <td>0.489532</td>\n",
       "      <td>0.488177</td>\n",
       "      <td>0.353456</td>\n",
       "      <td>0.519392</td>\n",
       "      <td>1.002425</td>\n",
       "      <td>0.000000</td>\n",
       "      <td>0.764286</td>\n",
       "      <td>1.405474e-09</td>\n",
       "    </tr>\n",
       "    <tr>\n",
       "      <th>2004-01-02 09:35:00</th>\n",
       "      <td>0.499798</td>\n",
       "      <td>0.000000</td>\n",
       "      <td>1.000000</td>\n",
       "      <td>0.000000</td>\n",
       "      <td>0.000000</td>\n",
       "      <td>0.000000</td>\n",
       "      <td>0.516453</td>\n",
       "      <td>0.000000</td>\n",
       "      <td>0.506696</td>\n",
       "      <td>0.499891</td>\n",
       "      <td>0.624765</td>\n",
       "      <td>0.489532</td>\n",
       "      <td>0.488177</td>\n",
       "      <td>0.353456</td>\n",
       "      <td>0.519392</td>\n",
       "      <td>1.002425</td>\n",
       "      <td>0.000000</td>\n",
       "      <td>0.764286</td>\n",
       "      <td>1.517855e-09</td>\n",
       "    </tr>\n",
       "    <tr>\n",
       "      <th>2004-01-02 09:36:00</th>\n",
       "      <td>0.499798</td>\n",
       "      <td>0.000000</td>\n",
       "      <td>1.000000</td>\n",
       "      <td>0.000000</td>\n",
       "      <td>0.000000</td>\n",
       "      <td>0.000000</td>\n",
       "      <td>0.516453</td>\n",
       "      <td>0.000000</td>\n",
       "      <td>0.506696</td>\n",
       "      <td>0.499891</td>\n",
       "      <td>0.624765</td>\n",
       "      <td>0.489532</td>\n",
       "      <td>0.488177</td>\n",
       "      <td>0.353456</td>\n",
       "      <td>0.519392</td>\n",
       "      <td>1.002425</td>\n",
       "      <td>0.000000</td>\n",
       "      <td>0.764286</td>\n",
       "      <td>1.639221e-09</td>\n",
       "    </tr>\n",
       "    <tr>\n",
       "      <th>2004-01-02 09:37:00</th>\n",
       "      <td>0.499798</td>\n",
       "      <td>0.000000</td>\n",
       "      <td>1.000000</td>\n",
       "      <td>0.000000</td>\n",
       "      <td>0.000000</td>\n",
       "      <td>0.000000</td>\n",
       "      <td>0.516453</td>\n",
       "      <td>0.000000</td>\n",
       "      <td>0.506696</td>\n",
       "      <td>0.499891</td>\n",
       "      <td>0.624765</td>\n",
       "      <td>0.489532</td>\n",
       "      <td>0.488177</td>\n",
       "      <td>0.353456</td>\n",
       "      <td>0.519392</td>\n",
       "      <td>1.002425</td>\n",
       "      <td>0.000000</td>\n",
       "      <td>0.764286</td>\n",
       "      <td>1.770291e-09</td>\n",
       "    </tr>\n",
       "    <tr>\n",
       "      <th>...</th>\n",
       "      <td>...</td>\n",
       "      <td>...</td>\n",
       "      <td>...</td>\n",
       "      <td>...</td>\n",
       "      <td>...</td>\n",
       "      <td>...</td>\n",
       "      <td>...</td>\n",
       "      <td>...</td>\n",
       "      <td>...</td>\n",
       "      <td>...</td>\n",
       "      <td>...</td>\n",
       "      <td>...</td>\n",
       "      <td>...</td>\n",
       "      <td>...</td>\n",
       "      <td>...</td>\n",
       "      <td>...</td>\n",
       "      <td>...</td>\n",
       "      <td>...</td>\n",
       "      <td>...</td>\n",
       "    </tr>\n",
       "    <tr>\n",
       "      <th>2025-06-18 20:56:00</th>\n",
       "      <td>0.751690</td>\n",
       "      <td>0.323886</td>\n",
       "      <td>0.672166</td>\n",
       "      <td>0.273759</td>\n",
       "      <td>0.363125</td>\n",
       "      <td>0.254109</td>\n",
       "      <td>0.532431</td>\n",
       "      <td>0.074852</td>\n",
       "      <td>0.888941</td>\n",
       "      <td>0.642346</td>\n",
       "      <td>0.634772</td>\n",
       "      <td>0.971125</td>\n",
       "      <td>1.000000</td>\n",
       "      <td>0.664288</td>\n",
       "      <td>0.537709</td>\n",
       "      <td>-0.975989</td>\n",
       "      <td>0.301944</td>\n",
       "      <td>196.815000</td>\n",
       "      <td>6.849078e-01</td>\n",
       "    </tr>\n",
       "    <tr>\n",
       "      <th>2025-06-18 20:57:00</th>\n",
       "      <td>0.650094</td>\n",
       "      <td>0.336016</td>\n",
       "      <td>0.616686</td>\n",
       "      <td>0.290460</td>\n",
       "      <td>0.347207</td>\n",
       "      <td>0.420131</td>\n",
       "      <td>0.532016</td>\n",
       "      <td>0.067044</td>\n",
       "      <td>0.840741</td>\n",
       "      <td>0.340442</td>\n",
       "      <td>0.633511</td>\n",
       "      <td>0.981544</td>\n",
       "      <td>0.000000</td>\n",
       "      <td>0.676887</td>\n",
       "      <td>0.541855</td>\n",
       "      <td>-0.975989</td>\n",
       "      <td>0.328685</td>\n",
       "      <td>196.675000</td>\n",
       "      <td>6.122057e-01</td>\n",
       "    </tr>\n",
       "    <tr>\n",
       "      <th>2025-06-18 20:58:00</th>\n",
       "      <td>0.631153</td>\n",
       "      <td>0.322169</td>\n",
       "      <td>0.614734</td>\n",
       "      <td>0.304199</td>\n",
       "      <td>0.336272</td>\n",
       "      <td>0.121620</td>\n",
       "      <td>0.531618</td>\n",
       "      <td>0.064933</td>\n",
       "      <td>0.777896</td>\n",
       "      <td>0.494192</td>\n",
       "      <td>0.631866</td>\n",
       "      <td>0.983006</td>\n",
       "      <td>0.000000</td>\n",
       "      <td>0.584662</td>\n",
       "      <td>0.545337</td>\n",
       "      <td>-0.975989</td>\n",
       "      <td>0.353515</td>\n",
       "      <td>196.670000</td>\n",
       "      <td>6.104678e-01</td>\n",
       "    </tr>\n",
       "    <tr>\n",
       "      <th>2025-06-18 20:59:00</th>\n",
       "      <td>0.375519</td>\n",
       "      <td>0.346959</td>\n",
       "      <td>0.475401</td>\n",
       "      <td>0.305249</td>\n",
       "      <td>0.290578</td>\n",
       "      <td>0.565110</td>\n",
       "      <td>0.531157</td>\n",
       "      <td>0.160021</td>\n",
       "      <td>0.456523</td>\n",
       "      <td>0.009795</td>\n",
       "      <td>0.623450</td>\n",
       "      <td>0.884486</td>\n",
       "      <td>0.000000</td>\n",
       "      <td>0.645760</td>\n",
       "      <td>0.531521</td>\n",
       "      <td>-0.975989</td>\n",
       "      <td>0.348960</td>\n",
       "      <td>196.240000</td>\n",
       "      <td>4.770902e-01</td>\n",
       "    </tr>\n",
       "    <tr>\n",
       "      <th>2025-06-18 21:00:00</th>\n",
       "      <td>0.535073</td>\n",
       "      <td>0.374297</td>\n",
       "      <td>0.551738</td>\n",
       "      <td>0.303059</td>\n",
       "      <td>0.249733</td>\n",
       "      <td>0.630630</td>\n",
       "      <td>0.531913</td>\n",
       "      <td>0.176984</td>\n",
       "      <td>0.422962</td>\n",
       "      <td>0.842567</td>\n",
       "      <td>0.622570</td>\n",
       "      <td>0.868408</td>\n",
       "      <td>1.000000</td>\n",
       "      <td>0.708780</td>\n",
       "      <td>0.525575</td>\n",
       "      <td>-0.993518</td>\n",
       "      <td>0.336212</td>\n",
       "      <td>196.540000</td>\n",
       "      <td>3.509684e-01</td>\n",
       "    </tr>\n",
       "  </tbody>\n",
       "</table>\n",
       "<p>3715200 rows × 19 columns</p>\n",
       "</div>"
      ],
      "text/plain": [
       "                     sma_pct_14  atr_pct_14    rsi_14   bb_w_20  plus_di_14  \\\n",
       "2004-01-02 09:33:00    0.499798    0.000000  1.000000  0.000000    0.000000   \n",
       "2004-01-02 09:34:00    0.499798    0.000000  1.000000  0.000000    0.000000   \n",
       "2004-01-02 09:35:00    0.499798    0.000000  1.000000  0.000000    0.000000   \n",
       "2004-01-02 09:36:00    0.499798    0.000000  1.000000  0.000000    0.000000   \n",
       "2004-01-02 09:37:00    0.499798    0.000000  1.000000  0.000000    0.000000   \n",
       "...                         ...         ...       ...       ...         ...   \n",
       "2025-06-18 20:56:00    0.751690    0.323886  0.672166  0.273759    0.363125   \n",
       "2025-06-18 20:57:00    0.650094    0.336016  0.616686  0.290460    0.347207   \n",
       "2025-06-18 20:58:00    0.631153    0.322169  0.614734  0.304199    0.336272   \n",
       "2025-06-18 20:59:00    0.375519    0.346959  0.475401  0.305249    0.290578   \n",
       "2025-06-18 21:00:00    0.535073    0.374297  0.551738  0.303059    0.249733   \n",
       "\n",
       "                     range_pct    eng_ma  minus_di_14  macd_diff_12_26_9  \\\n",
       "2004-01-02 09:33:00   0.000000  0.516453     0.000000           0.506696   \n",
       "2004-01-02 09:34:00   0.000000  0.516453     0.000000           0.506696   \n",
       "2004-01-02 09:35:00   0.000000  0.516453     0.000000           0.506696   \n",
       "2004-01-02 09:36:00   0.000000  0.516453     0.000000           0.506696   \n",
       "2004-01-02 09:37:00   0.000000  0.516453     0.000000           0.506696   \n",
       "...                        ...       ...          ...                ...   \n",
       "2025-06-18 20:56:00   0.254109  0.532431     0.074852           0.888941   \n",
       "2025-06-18 20:57:00   0.420131  0.532016     0.067044           0.840741   \n",
       "2025-06-18 20:58:00   0.121620  0.531618     0.064933           0.777896   \n",
       "2025-06-18 20:59:00   0.565110  0.531157     0.160021           0.456523   \n",
       "2025-06-18 21:00:00   0.630630  0.531913     0.176984           0.422962   \n",
       "\n",
       "                          ret  eng_macd  macd_line_12_26_9  obv_diff_14  \\\n",
       "2004-01-02 09:33:00  0.499891  0.624765           0.489532     0.488177   \n",
       "2004-01-02 09:34:00  0.499891  0.624765           0.489532     0.488177   \n",
       "2004-01-02 09:35:00  0.499891  0.624765           0.489532     0.488177   \n",
       "2004-01-02 09:36:00  0.499891  0.624765           0.489532     0.488177   \n",
       "2004-01-02 09:37:00  0.499891  0.624765           0.489532     0.488177   \n",
       "...                       ...       ...                ...          ...   \n",
       "2025-06-18 20:56:00  0.642346  0.634772           0.971125     1.000000   \n",
       "2025-06-18 20:57:00  0.340442  0.633511           0.981544     0.000000   \n",
       "2025-06-18 20:58:00  0.494192  0.631866           0.983006     0.000000   \n",
       "2025-06-18 20:59:00  0.009795  0.623450           0.884486     0.000000   \n",
       "2025-06-18 21:00:00  0.842567  0.622570           0.868408     1.000000   \n",
       "\n",
       "                     eng_atr_div   eng_adx      hour    adx_14   close_raw  \\\n",
       "2004-01-02 09:33:00     0.353456  0.519392  1.002425  0.000000    0.764286   \n",
       "2004-01-02 09:34:00     0.353456  0.519392  1.002425  0.000000    0.764286   \n",
       "2004-01-02 09:35:00     0.353456  0.519392  1.002425  0.000000    0.764286   \n",
       "2004-01-02 09:36:00     0.353456  0.519392  1.002425  0.000000    0.764286   \n",
       "2004-01-02 09:37:00     0.353456  0.519392  1.002425  0.000000    0.764286   \n",
       "...                          ...       ...       ...       ...         ...   \n",
       "2025-06-18 20:56:00     0.664288  0.537709 -0.975989  0.301944  196.815000   \n",
       "2025-06-18 20:57:00     0.676887  0.541855 -0.975989  0.328685  196.675000   \n",
       "2025-06-18 20:58:00     0.584662  0.545337 -0.975989  0.353515  196.670000   \n",
       "2025-06-18 20:59:00     0.645760  0.531521 -0.975989  0.348960  196.240000   \n",
       "2025-06-18 21:00:00     0.708780  0.525575 -0.993518  0.336212  196.540000   \n",
       "\n",
       "                           signal  \n",
       "2004-01-02 09:33:00  1.301415e-09  \n",
       "2004-01-02 09:34:00  1.405474e-09  \n",
       "2004-01-02 09:35:00  1.517855e-09  \n",
       "2004-01-02 09:36:00  1.639221e-09  \n",
       "2004-01-02 09:37:00  1.770291e-09  \n",
       "...                           ...  \n",
       "2025-06-18 20:56:00  6.849078e-01  \n",
       "2025-06-18 20:57:00  6.122057e-01  \n",
       "2025-06-18 20:58:00  6.104678e-01  \n",
       "2025-06-18 20:59:00  4.770902e-01  \n",
       "2025-06-18 21:00:00  3.509684e-01  \n",
       "\n",
       "[3715200 rows x 19 columns]"
      ]
     },
     "execution_count": 3,
     "metadata": {},
     "output_type": "execute_result"
    }
   ],
   "source": [
    "df_feat_sel = pd.read_csv(params.feat_all_csv, index_col=0, parse_dates=True)[params.features_cols_tick + ['close_raw'] + [params.label_col]]\n",
    "    \n",
    "df_feat_sel"
   ]
  },
  {
   "cell_type": "code",
   "execution_count": 4,
   "id": "d9a2e58b-3140-4a76-9473-1fab56c18d8f",
   "metadata": {},
   "outputs": [
    {
     "data": {
      "text/plain": [
       "[30, 60, 90, 120]"
      ]
     },
     "execution_count": 4,
     "metadata": {},
     "output_type": "execute_result"
    }
   ],
   "source": [
    "# calculate look_backs under half the interval between the day’s first and sess_start\n",
    "\n",
    "first_time = (\n",
    "    df_feat_sel.index\n",
    "        .to_series()\n",
    "        .groupby(df_feat_sel.index.normalize())\n",
    "        .min()\n",
    "        .dt.time\n",
    "        .mode()[0]\n",
    ")\n",
    "\n",
    "# convert both times to minutes since midnight\n",
    "fm = first_time.hour * 60 + first_time.minute\n",
    "sm = params.sess_start.hour * 60 + params.sess_start.minute\n",
    "\n",
    "# half the difference, count full 30-min slots, and build multiples\n",
    "n_steps    = int(((sm - fm) / 2) // 30)      # e.g. floor(165/30) = 5\n",
    "look_backs = [30 * i for i in range(1, n_steps + 1)]\n",
    "look_backs\n"
   ]
  },
  {
   "cell_type": "code",
   "execution_count": 5,
   "id": "fdb4612b-f5bb-4e4a-8784-6d5689de67c2",
   "metadata": {},
   "outputs": [],
   "source": [
    "# ──────────────────────────────────────────────────────────────────────────────\n",
    "# Optuna objective definition\n",
    "# ──────────────────────────────────────────────────────────────────────────────\n",
    "\n",
    "look_backs = [60, 75, 90] ################################\n",
    "\n",
    "def objective(trial):\n",
    "    \n",
    "    hp = {\n",
    "    # ── Architecture ────────────────────────────────────────────────\n",
    "    \"look_back\"    : trial.suggest_categorical(\"look_back\", look_backs),\n",
    "    \"DROPOUT_SHORT\": trial.suggest_float(\"DROPOUT_SHORT\", 0.25, 0.30),\n",
    "    \"DROPOUT_LONG\":  trial.suggest_float(\"DROPOUT_LONG\",  0.30, 0.35),\n",
    "    \"ATT_DROPOUT\":   trial.suggest_float(\"ATT_DROPOUT\",   0.20, 0.25),\n",
    "    \n",
    "    # ── Optimizer & Scheduler ──────────────────────────────────────\n",
    "    \"INITIAL_LR\":    trial.suggest_float(\"INITIAL_LR\",    7e-5, 1e-4,   log=True),\n",
    "    \"ETA_MIN\":       trial.suggest_float(\"ETA_MIN\",       1e-6, 1e-5,   log=True),\n",
    "    \"WEIGHT_DECAY\":  trial.suggest_float(\"WEIGHT_DECAY\",  1e-3, 1e-5,  log=True),\n",
    "    \"CLIPNORM\":      trial.suggest_float(\"CLIPNORM\",      0.5, 1),\n",
    "    }\n",
    "\n",
    "    print(f\"\\n▶ Trial {trial.number} starting with:\\n{hp}\\n\")\n",
    "\n",
    "    sess_start_pred = dt.time(*divmod((params.sess_start.hour * 60 + params.sess_start.minute) - hp[\"look_back\"], 60))\n",
    "    \n",
    "    print('Build LSTM input tensors...')\n",
    "    X, y_sig, y_ret, raw_close, end_times = models_core.build_tensors(\n",
    "        df            = df_feat_sel,\n",
    "        sess_start    = sess_start_pred \n",
    "    )\n",
    "    \n",
    "    print('Split into train/val/test by calendar day...')\n",
    "    (\n",
    "    (X_tr,  y_sig_tr,  y_ret_tr),\n",
    "    (X_val, y_sig_val, y_ret_val),\n",
    "    (X_te,  y_sig_te,  y_ret_te,  raw_close_te),\n",
    "    samples_per_day,\n",
    "    day_id_tr, day_id_val, day_id_te\n",
    "    ) = models_core.chronological_split(\n",
    "        X, y_sig, y_ret, raw_close,\n",
    "        end_times   = end_times,\n",
    "        train_prop  = params.train_prop,\n",
    "        val_prop    = params.val_prop,\n",
    "        train_batch = params.hparams['TRAIN_BATCH']\n",
    "    )\n",
    "\n",
    "    print('Carve `end_times` into the same three splits...')\n",
    "    n_tr  = day_id_tr .shape[0] \n",
    "    n_val = day_id_val.shape[0]\n",
    "    i_tr  = n_tr\n",
    "    i_val = n_tr + n_val\n",
    "    \n",
    "    end_times_tr  = end_times[:i_tr]\n",
    "    end_times_val = end_times[i_tr:i_val]\n",
    "    end_times_te  = end_times[i_val:]\n",
    "    \n",
    "    print('Build DataLoaders over calendar‐days...')\n",
    "    train_loader, val_loader, test_loader = models_core.split_to_day_datasets(\n",
    "        # train split:   \n",
    "        X_tr,       y_sig_tr,     y_ret_tr,   end_times_tr,\n",
    "        # val split:\n",
    "        X_val,      y_sig_val,    y_ret_val,  end_times_val,\n",
    "        # test split + raw‐prices\n",
    "        X_te,       y_sig_te,     y_ret_te,   end_times_te,    raw_close_te, \n",
    "        \n",
    "        sess_start_time       = sess_start_pred,\n",
    "        signal_thresh         = params.best_optuna_params[\"buy_threshold\"],\n",
    "        return_thresh         = 0.01,  # flat‐zone threshold for returns (to tune)\n",
    "        train_batch           = params.hparams[\"TRAIN_BATCH\"],\n",
    "        train_workers         = params.hparams[\"NUM_WORKERS\"],\n",
    "        train_prefetch_factor = params.hparams[\"TRAIN_PREFETCH_FACTOR\"]\n",
    "    )\n",
    "\n",
    "    print('Instantiate the stateful DualMemoryLSTM...')\n",
    "    model = dual_lstm.DualMemoryLSTM(\n",
    "        n_feats        = X.shape[-1],                          \n",
    "        short_units    = params.hparams['SHORT_UNITS'],    \n",
    "        long_units     = params.hparams['LONG_UNITS'],     \n",
    "        dropout_short  = hp[\"DROPOUT_SHORT\"],  \n",
    "        dropout_long   = hp[\"DROPOUT_LONG\"],   \n",
    "        att_heads      = params.hparams['ATT_HEADS'],\n",
    "        att_drop       = hp['ATT_DROPOUT']\n",
    "    )\n",
    "    model.to(params.device)  \n",
    "\n",
    "    print('Build optimizer, LR scheduler, AMP scaler, and gradient‐clip norm...')\n",
    "    optimizer, plateau_sched, _ , scaler, clipnorm = \\\n",
    "        models_core.make_optimizer_and_scheduler(\n",
    "            model            = model,\n",
    "            initial_lr       = hp[\"INITIAL_LR\"],\n",
    "            weight_decay     = hp[\"WEIGHT_DECAY\"],\n",
    "            clipnorm         = hp[\"CLIPNORM\"]\n",
    "        )\n",
    "    cosine_sched = CosineAnnealingWarmRestarts(\n",
    "        optimizer, \n",
    "        T_0=params.hparams['T_0'], \n",
    "        T_mult=params.hparams['T_MULT'], \n",
    "        eta_min=hp['ETA_MIN']\n",
    "    )\n",
    "    \n",
    "    print('Run the custom stateful training loop...')\n",
    "    best_val_rmse  = dual_lstm.lstm_training_loop(\n",
    "        model               = model,\n",
    "        optimizer           = optimizer,\n",
    "        cosine_sched        = cosine_sched,\n",
    "        plateau_sched       = plateau_sched,\n",
    "        scaler              = scaler,\n",
    "        train_loader        = train_loader,\n",
    "        val_loader          = val_loader,\n",
    "        max_epochs          = params.hparams['MAX_EPOCHS'],\n",
    "        early_stop_patience = params.hparams['EARLY_STOP_PATIENCE'],\n",
    "        clipnorm            = hp[\"CLIPNORM\"],\n",
    "        device              = params.device\n",
    "    )\n",
    "\n",
    "    print('Delete variables to free memory...')\n",
    "    del model, optimizer, plateau_sched, cosine_sched, scaler\n",
    "    del X, y_sig, y_ret, raw_close, raw_close_te\n",
    "    del X_tr,  y_sig_tr,  y_ret_tr, X_val, y_sig_val, y_ret_val, X_te,  y_sig_te,  y_ret_te\n",
    "    del train_loader, val_loader, test_loader\n",
    "\n",
    "    gc.collect()\n",
    "    if torch.cuda.is_available():\n",
    "        torch.cuda.empty_cache()\n",
    "    \n",
    "    return best_val_rmse\n"
   ]
  },
  {
   "cell_type": "code",
   "execution_count": 6,
   "id": "1ce185de-1d62-49f9-9a96-00385e813521",
   "metadata": {},
   "outputs": [
    {
     "data": {
      "image/png": "[encoded data removed]",
      "text/plain": [
       "<Figure size 700x300 with 1 Axes>"
      ]
     },
     "metadata": {},
     "output_type": "display_data"
    }
   ],
   "source": [
    "# build blank figure & line\n",
    "fig, ax = plt.subplots(figsize=(7,3))\n",
    "line, = ax.plot([], [], \"bo-\")\n",
    "ax.set(xlabel=\"Trial #\", ylabel=\"Objective\",\n",
    "       title=\"Optuna optimization progress\")\n",
    "ax.grid(True)\n",
    "\n",
    "# display once and grab the handle\n",
    "handle = display(fig, display_id=True)\n",
    "plt.close(fig)\n",
    "\n",
    "# ask plots.py for a callback bound to these objects\n",
    "live_cb = plots.make_live_plot_callback(fig, ax, line, handle)"
   ]
  },
  {
   "cell_type": "code",
   "execution_count": null,
   "id": "7658050b-a604-4331-ac64-72b2c7fd3689",
   "metadata": {},
   "outputs": [
    {
     "name": "stderr",
     "output_type": "stream",
     "text": [
      "[I 2025-09-25 10:18:04,995] A new study created in RDB with name: no-name-ff238292-70f4-4a33-bf50-780c1813fab0\n"
     ]
    },
    {
     "name": "stdout",
     "output_type": "stream",
     "text": [
      "\n",
      "▶ Trial 0 starting with:\n",
      "{'look_back': 75, 'DROPOUT_SHORT': 0.27752041129802435, 'DROPOUT_LONG': 0.30750251065728185, 'ATT_DROPOUT': 0.24948186354866914, 'INITIAL_LR': 9.094068223316255e-05, 'ETA_MIN': 2.247584976810896e-06, 'WEIGHT_DECAY': 0.0016867216338959851, 'CLIPNORM': 0.5171703013630076}\n",
      "\n",
      "Build LSTM input tensors...\n",
      "Inside build_tensors, features: ['sma_pct_14', 'atr_pct_14', 'rsi_14', 'bb_w_20', 'plus_di_14', 'range_pct', 'eng_ma', 'minus_di_14', 'macd_diff_12_26_9', 'ret', 'eng_macd', 'macd_line_12_26_9', 'obv_diff_14', 'eng_atr_div', 'eng_adx', 'hour', 'adx_14']\n"
     ]
    },
    {
     "data": {
      "application/vnd.jupyter.widget-view+json": {
       "model_id": "c21bb572fb5449b6bf152465f4c74c7b",
       "version_major": 2,
       "version_minor": 0
      },
      "text/plain": [
       "Preparing days:   0%|          | 0/5400 [00:00<?, ?it/s]"
      ]
     },
     "metadata": {},
     "output_type": "display_data"
    },
    {
     "data": {
      "application/vnd.jupyter.widget-view+json": {
       "model_id": "c203ac6405794fb490fd3977dc90ee6a",
       "version_major": 2,
       "version_minor": 0
      },
      "text/plain": [
       "Writing days:   0%|          | 0/5400 [00:00<?, ?it/s]"
      ]
     },
     "metadata": {},
     "output_type": "display_data"
    },
    {
     "name": "stdout",
     "output_type": "stream",
     "text": [
      "Split into train/val/test by calendar day...\n",
      "Carve `end_times` into the same three splits...\n",
      "Build DataLoaders over calendar‐days...\n"
     ]
    },
    {
     "data": {
      "application/vnd.jupyter.widget-view+json": {
       "model_id": "39d83a63e1534e82a2e40663b2d4ed08",
       "version_major": 2,
       "version_minor": 0
      },
      "text/plain": [
       "Creating DayWindowDatasets:   0%|          | 0/3 [00:00<?, ?split/s]"
      ]
     },
     "metadata": {},
     "output_type": "display_data"
    },
    {
     "name": "stdout",
     "output_type": "stream",
     "text": [
      "Instantiate the stateful DualMemoryLSTM...\n",
      "Build optimizer, LR scheduler, AMP scaler, and gradient‐clip norm...\n",
      "Run the custom stateful training loop...\n"
     ]
    },
    {
     "data": {
      "image/png": "[encoded data removed]",
      "text/plain": [
       "<Figure size 660x440 with 1 Axes>"
      ]
     },
     "metadata": {},
     "output_type": "display_data"
    },
    {
     "data": {
      "application/vnd.jupyter.widget-view+json": {
       "model_id": "7647c4361f7e4b5e9462b9be4cd025e5",
       "version_major": 2,
       "version_minor": 0
      },
      "text/plain": [
       "Epoch 1:   0%|          | 0/60 [00:00<?, ?batch/s]"
      ]
     },
     "metadata": {},
     "output_type": "display_data"
    },
    {
     "name": "stdout",
     "output_type": "stream",
     "text": [
      "Epoch 001\n",
      "TRAIN→ RMSE=0.2928 MAE=0.2241 R2=-0.0178 | Acc=0.6804 Prec=0.3613 Rec=0.2140 F1=0.2688 AUROC=0.5907\n",
      "VALID→ RMSE=0.2658 MAE=0.1853 R2=0.1381 | Acc=0.7235 Prec=0.7503 Rec=0.0404 F1=0.0767 AUROC=0.6956\n"
     ]
    },
    {
     "data": {
      "application/vnd.jupyter.widget-view+json": {
       "model_id": "100522cf30af481e8ac85fa7678f6b6b",
       "version_major": 2,
       "version_minor": 0
      },
      "text/plain": [
       "Epoch 2:   0%|          | 0/60 [00:00<?, ?batch/s]"
      ]
     },
     "metadata": {},
     "output_type": "display_data"
    },
    {
     "name": "stdout",
     "output_type": "stream",
     "text": [
      "Epoch 002\n",
      "TRAIN→ RMSE=0.2783 MAE=0.2131 R2=0.0806 | Acc=0.7126 Prec=0.4364 Rec=0.1604 F1=0.2346 AUROC=0.5911\n",
      "VALID→ RMSE=0.2593 MAE=0.1863 R2=0.1803 | Acc=0.7335 Prec=0.7853 Rec=0.0854 F1=0.1541 AUROC=0.7323\n"
     ]
    },
    {
     "data": {
      "application/vnd.jupyter.widget-view+json": {
       "model_id": "d9dbb6ba11844f81a201addc2e802b5a",
       "version_major": 2,
       "version_minor": 0
      },
      "text/plain": [
       "Epoch 3:   0%|          | 0/60 [00:00<?, ?batch/s]"
      ]
     },
     "metadata": {},
     "output_type": "display_data"
    },
    {
     "name": "stdout",
     "output_type": "stream",
     "text": [
      "Epoch 003\n",
      "TRAIN→ RMSE=0.2706 MAE=0.2075 R2=0.1304 | Acc=0.7312 Prec=0.5321 Rec=0.1716 F1=0.2595 AUROC=0.6370\n",
      "VALID→ RMSE=0.2568 MAE=0.1863 R2=0.1957 | Acc=0.7448 Prec=0.7370 Rec=0.1585 F1=0.2609 AUROC=0.7412\n"
     ]
    },
    {
     "data": {
      "application/vnd.jupyter.widget-view+json": {
       "model_id": "52a9c93c8e8b4b7bb78264cd47afea14",
       "version_major": 2,
       "version_minor": 0
      },
      "text/plain": [
       "Epoch 4:   0%|          | 0/60 [00:00<?, ?batch/s]"
      ]
     },
     "metadata": {},
     "output_type": "display_data"
    },
    {
     "name": "stdout",
     "output_type": "stream",
     "text": [
      "Epoch 004\n",
      "TRAIN→ RMSE=0.2658 MAE=0.2036 R2=0.1614 | Acc=0.7402 Prec=0.5666 Rec=0.2278 F1=0.3250 AUROC=0.6757\n",
      "VALID→ RMSE=0.2545 MAE=0.1868 R2=0.2103 | Acc=0.7506 Prec=0.7079 Rec=0.2084 F1=0.3220 AUROC=0.7439\n"
     ]
    },
    {
     "data": {
      "application/vnd.jupyter.widget-view+json": {
       "model_id": "d52665b4addc45ceaaac0330c26d5290",
       "version_major": 2,
       "version_minor": 0
      },
      "text/plain": [
       "Epoch 5:   0%|          | 0/60 [00:00<?, ?batch/s]"
      ]
     },
     "metadata": {},
     "output_type": "display_data"
    },
    {
     "name": "stdout",
     "output_type": "stream",
     "text": [
      "Epoch 005\n",
      "TRAIN→ RMSE=0.2617 MAE=0.2006 R2=0.1865 | Acc=0.7475 Prec=0.5922 Rec=0.2574 F1=0.3589 AUROC=0.7008\n",
      "VALID→ RMSE=0.2538 MAE=0.1869 R2=0.2146 | Acc=0.7539 Prec=0.6921 Rec=0.2412 F1=0.3578 AUROC=0.7441\n"
     ]
    },
    {
     "data": {
      "application/vnd.jupyter.widget-view+json": {
       "model_id": "1ad33c10d1e9440b950fef80d5a3a3a4",
       "version_major": 2,
       "version_minor": 0
      },
      "text/plain": [
       "Epoch 6:   0%|          | 0/60 [00:00<?, ?batch/s]"
      ]
     },
     "metadata": {},
     "output_type": "display_data"
    },
    {
     "name": "stdout",
     "output_type": "stream",
     "text": [
      "Epoch 006\n",
      "TRAIN→ RMSE=0.2587 MAE=0.1977 R2=0.2055 | Acc=0.7526 Prec=0.6088 Rec=0.2764 F1=0.3802 AUROC=0.7178\n",
      "VALID→ RMSE=0.2535 MAE=0.1864 R2=0.2164 | Acc=0.7559 Prec=0.6844 Rec=0.2615 F1=0.3784 AUROC=0.7438\n"
     ]
    },
    {
     "data": {
      "application/vnd.jupyter.widget-view+json": {
       "model_id": "a97a613cd03e428aada2399081c16785",
       "version_major": 2,
       "version_minor": 0
      },
      "text/plain": [
       "Epoch 7:   0%|          | 0/60 [00:00<?, ?batch/s]"
      ]
     },
     "metadata": {},
     "output_type": "display_data"
    },
    {
     "name": "stdout",
     "output_type": "stream",
     "text": [
      "Epoch 007\n",
      "TRAIN→ RMSE=0.2567 MAE=0.1958 R2=0.2178 | Acc=0.7557 Prec=0.6177 Rec=0.2888 F1=0.3936 AUROC=0.7283\n",
      "VALID→ RMSE=0.2525 MAE=0.1870 R2=0.2227 | Acc=0.7566 Prec=0.6702 Rec=0.2824 F1=0.3974 AUROC=0.7435\n"
     ]
    },
    {
     "data": {
      "application/vnd.jupyter.widget-view+json": {
       "model_id": "a50700fc86ab4c2ca3d2d53b9bb4c830",
       "version_major": 2,
       "version_minor": 0
      },
      "text/plain": [
       "Epoch 8:   0%|          | 0/60 [00:00<?, ?batch/s]"
      ]
     },
     "metadata": {},
     "output_type": "display_data"
    },
    {
     "name": "stdout",
     "output_type": "stream",
     "text": [
      "Epoch 008\n",
      "TRAIN→ RMSE=0.2552 MAE=0.1946 R2=0.2270 | Acc=0.7574 Prec=0.6200 Rec=0.3009 F1=0.4051 AUROC=0.7357\n",
      "VALID→ RMSE=0.2519 MAE=0.1876 R2=0.2264 | Acc=0.7567 Prec=0.6620 Rec=0.2938 F1=0.4069 AUROC=0.7434\n"
     ]
    },
    {
     "data": {
      "application/vnd.jupyter.widget-view+json": {
       "model_id": "20ad93214ec9451080ce8458270ecdc2",
       "version_major": 2,
       "version_minor": 0
      },
      "text/plain": [
       "Epoch 9:   0%|          | 0/60 [00:00<?, ?batch/s]"
      ]
     },
     "metadata": {},
     "output_type": "display_data"
    },
    {
     "name": "stdout",
     "output_type": "stream",
     "text": [
      "Epoch 009\n",
      "TRAIN→ RMSE=0.2539 MAE=0.1935 R2=0.2345 | Acc=0.7591 Prec=0.6240 Rec=0.3082 F1=0.4126 AUROC=0.7414\n",
      "VALID→ RMSE=0.2516 MAE=0.1880 R2=0.2282 | Acc=0.7564 Prec=0.6531 Rec=0.3042 F1=0.4151 AUROC=0.7434\n"
     ]
    },
    {
     "data": {
      "application/vnd.jupyter.widget-view+json": {
       "model_id": "927e5f0d94bd445f9ab79c43dbf9c106",
       "version_major": 2,
       "version_minor": 0
      },
      "text/plain": [
       "Epoch 10:   0%|          | 0/60 [00:00<?, ?batch/s]"
      ]
     },
     "metadata": {},
     "output_type": "display_data"
    },
    {
     "name": "stdout",
     "output_type": "stream",
     "text": [
      "Epoch 010\n",
      "TRAIN→ RMSE=0.2529 MAE=0.1926 R2=0.2406 | Acc=0.7603 Prec=0.6261 Rec=0.3149 F1=0.4190 AUROC=0.7456\n",
      "VALID→ RMSE=0.2515 MAE=0.1883 R2=0.2284 | Acc=0.7560 Prec=0.6466 Rec=0.3118 F1=0.4207 AUROC=0.7433\n"
     ]
    },
    {
     "data": {
      "application/vnd.jupyter.widget-view+json": {
       "model_id": "b23f194d8fe84e61974d8b26a0222fea",
       "version_major": 2,
       "version_minor": 0
      },
      "text/plain": [
       "Epoch 11:   0%|          | 0/60 [00:00<?, ?batch/s]"
      ]
     },
     "metadata": {},
     "output_type": "display_data"
    },
    {
     "name": "stdout",
     "output_type": "stream",
     "text": [
      "Epoch 011\n",
      "TRAIN→ RMSE=0.2520 MAE=0.1918 R2=0.2461 | Acc=0.7615 Prec=0.6285 Rec=0.3210 F1=0.4250 AUROC=0.7489\n",
      "VALID→ RMSE=0.2516 MAE=0.1892 R2=0.2278 | Acc=0.7555 Prec=0.6378 Rec=0.3230 F1=0.4288 AUROC=0.7432\n"
     ]
    },
    {
     "data": {
      "application/vnd.jupyter.widget-view+json": {
       "model_id": "c13c6116344341f0a4eec556e58fdc05",
       "version_major": 2,
       "version_minor": 0
      },
      "text/plain": [
       "Epoch 12:   0%|          | 0/60 [00:00<?, ?batch/s]"
      ]
     },
     "metadata": {},
     "output_type": "display_data"
    },
    {
     "name": "stdout",
     "output_type": "stream",
     "text": [
      "Epoch 012\n",
      "TRAIN→ RMSE=0.2513 MAE=0.1912 R2=0.2503 | Acc=0.7622 Prec=0.6290 Rec=0.3259 F1=0.4294 AUROC=0.7514\n",
      "VALID→ RMSE=0.2520 MAE=0.1902 R2=0.2255 | Acc=0.7545 Prec=0.6285 Rec=0.3326 F1=0.4350 AUROC=0.7428\n"
     ]
    },
    {
     "data": {
      "application/vnd.jupyter.widget-view+json": {
       "model_id": "88c0f1ef15ac4b7e811db8848411294d",
       "version_major": 2,
       "version_minor": 0
      },
      "text/plain": [
       "Epoch 13:   0%|          | 0/60 [00:00<?, ?batch/s]"
      ]
     },
     "metadata": {},
     "output_type": "display_data"
    },
    {
     "name": "stdout",
     "output_type": "stream",
     "text": [
      "Epoch 013\n",
      "TRAIN→ RMSE=0.2506 MAE=0.1905 R2=0.2545 | Acc=0.7628 Prec=0.6300 Rec=0.3294 F1=0.4327 AUROC=0.7534\n",
      "VALID→ RMSE=0.2525 MAE=0.1910 R2=0.2225 | Acc=0.7538 Prec=0.6228 Rec=0.3388 F1=0.4388 AUROC=0.7424\n"
     ]
    },
    {
     "data": {
      "application/vnd.jupyter.widget-view+json": {
       "model_id": "a2e0c721b3ca413d8224921d78422798",
       "version_major": 2,
       "version_minor": 0
      },
      "text/plain": [
       "Epoch 14:   0%|          | 0/60 [00:00<?, ?batch/s]"
      ]
     },
     "metadata": {},
     "output_type": "display_data"
    },
    {
     "name": "stdout",
     "output_type": "stream",
     "text": [
      "Epoch 014\n",
      "TRAIN→ RMSE=0.2500 MAE=0.1899 R2=0.2580 | Acc=0.7638 Prec=0.6324 Rec=0.3333 F1=0.4365 AUROC=0.7557\n",
      "VALID→ RMSE=0.2531 MAE=0.1917 R2=0.2188 | Acc=0.7528 Prec=0.6168 Rec=0.3434 F1=0.4412 AUROC=0.7419\n"
     ]
    },
    {
     "data": {
      "application/vnd.jupyter.widget-view+json": {
       "model_id": "3a1fd264abb74129a489792b97cd6e56",
       "version_major": 2,
       "version_minor": 0
      },
      "text/plain": [
       "Epoch 15:   0%|          | 0/60 [00:00<?, ?batch/s]"
      ]
     },
     "metadata": {},
     "output_type": "display_data"
    },
    {
     "name": "stdout",
     "output_type": "stream",
     "text": [
      "Epoch 015\n",
      "TRAIN→ RMSE=0.2494 MAE=0.1895 R2=0.2615 | Acc=0.7644 Prec=0.6336 Rec=0.3360 F1=0.4391 AUROC=0.7573\n",
      "VALID→ RMSE=0.2539 MAE=0.1924 R2=0.2140 | Acc=0.7518 Prec=0.6121 Rec=0.3456 F1=0.4418 AUROC=0.7409\n"
     ]
    },
    {
     "data": {
      "application/vnd.jupyter.widget-view+json": {
       "model_id": "9af7a7959c3c42e3a809a9d647d7db2a",
       "version_major": 2,
       "version_minor": 0
      },
      "text/plain": [
       "Epoch 16:   0%|          | 0/60 [00:00<?, ?batch/s]"
      ]
     },
     "metadata": {},
     "output_type": "display_data"
    },
    {
     "name": "stdout",
     "output_type": "stream",
     "text": [
      "Epoch 016\n",
      "TRAIN→ RMSE=0.2489 MAE=0.1891 R2=0.2642 | Acc=0.7648 Prec=0.6343 Rec=0.3384 F1=0.4413 AUROC=0.7586\n",
      "VALID→ RMSE=0.2548 MAE=0.1932 R2=0.2083 | Acc=0.7505 Prec=0.6060 Rec=0.3491 F1=0.4430 AUROC=0.7398\n"
     ]
    },
    {
     "data": {
      "application/vnd.jupyter.widget-view+json": {
       "model_id": "0da79d563b9e4016a46a518282f6dc56",
       "version_major": 2,
       "version_minor": 0
      },
      "text/plain": [
       "Epoch 17:   0%|          | 0/60 [00:00<?, ?batch/s]"
      ]
     },
     "metadata": {},
     "output_type": "display_data"
    },
    {
     "name": "stdout",
     "output_type": "stream",
     "text": [
      "Epoch 017\n",
      "TRAIN→ RMSE=0.2485 MAE=0.1887 R2=0.2671 | Acc=0.7656 Prec=0.6369 Rec=0.3404 F1=0.4437 AUROC=0.7602\n",
      "VALID→ RMSE=0.2558 MAE=0.1940 R2=0.2019 | Acc=0.7491 Prec=0.5994 Rec=0.3525 F1=0.4439 AUROC=0.7384\n",
      "Early stopping at epoch 17\n",
      "✅ Final best model (_fin) saved: AAPL_0.25153_fin.pth\n",
      "Delete variables to free memory...\n"
     ]
    },
    {
     "name": "stderr",
     "output_type": "stream",
     "text": [
      "[I 2025-09-25 10:37:13,383] Trial 0 finished with value: 0.25153419375419617 and parameters: {'look_back': 75, 'DROPOUT_SHORT': 0.27752041129802435, 'DROPOUT_LONG': 0.30750251065728185, 'ATT_DROPOUT': 0.24948186354866914, 'INITIAL_LR': 9.094068223316255e-05, 'ETA_MIN': 2.247584976810896e-06, 'WEIGHT_DECAY': 0.0016867216338959851, 'CLIPNORM': 0.5171703013630076}. Best is trial 0 with value: 0.25153419375419617.\n"
     ]
    },
    {
     "name": "stdout",
     "output_type": "stream",
     "text": [
      "\n",
      "▶ Trial 1 starting with:\n",
      "{'look_back': 60, 'DROPOUT_SHORT': 0.29072975465470663, 'DROPOUT_LONG': 0.3283484814730205, 'ATT_DROPOUT': 0.215050363916267, 'INITIAL_LR': 8.057626123197634e-05, 'ETA_MIN': 6.6545508962106075e-06, 'WEIGHT_DECAY': 0.0023785654866553684, 'CLIPNORM': 0.8511807751418623}\n",
      "\n",
      "Build LSTM input tensors...\n",
      "Inside build_tensors, features: ['sma_pct_14', 'atr_pct_14', 'rsi_14', 'bb_w_20', 'plus_di_14', 'range_pct', 'eng_ma', 'minus_di_14', 'macd_diff_12_26_9', 'ret', 'eng_macd', 'macd_line_12_26_9', 'obv_diff_14', 'eng_atr_div', 'eng_adx', 'hour', 'adx_14']\n"
     ]
    },
    {
     "data": {
      "application/vnd.jupyter.widget-view+json": {
       "model_id": "91ba3cb2ef9f49708750696f5552e86e",
       "version_major": 2,
       "version_minor": 0
      },
      "text/plain": [
       "Preparing days:   0%|          | 0/5400 [00:00<?, ?it/s]"
      ]
     },
     "metadata": {},
     "output_type": "display_data"
    },
    {
     "data": {
      "application/vnd.jupyter.widget-view+json": {
       "model_id": "27cc317e12b84c3fa3a3c2f20db6bddc",
       "version_major": 2,
       "version_minor": 0
      },
      "text/plain": [
       "Writing days:   0%|          | 0/5400 [00:00<?, ?it/s]"
      ]
     },
     "metadata": {},
     "output_type": "display_data"
    },
    {
     "name": "stdout",
     "output_type": "stream",
     "text": [
      "Split into train/val/test by calendar day...\n",
      "Carve `end_times` into the same three splits...\n",
      "Build DataLoaders over calendar‐days...\n"
     ]
    },
    {
     "data": {
      "application/vnd.jupyter.widget-view+json": {
       "model_id": "39b2e859361f4cfb9eac94199662d1aa",
       "version_major": 2,
       "version_minor": 0
      },
      "text/plain": [
       "Creating DayWindowDatasets:   0%|          | 0/3 [00:00<?, ?split/s]"
      ]
     },
     "metadata": {},
     "output_type": "display_data"
    },
    {
     "name": "stdout",
     "output_type": "stream",
     "text": [
      "Instantiate the stateful DualMemoryLSTM...\n",
      "Build optimizer, LR scheduler, AMP scaler, and gradient‐clip norm...\n",
      "Run the custom stateful training loop...\n"
     ]
    },
    {
     "data": {
      "image/png": "[encoded data removed]",
      "text/plain": [
       "<Figure size 660x440 with 1 Axes>"
      ]
     },
     "metadata": {},
     "output_type": "display_data"
    },
    {
     "data": {
      "application/vnd.jupyter.widget-view+json": {
       "model_id": "0c8863da32084e84ad43b1f66645283a",
       "version_major": 2,
       "version_minor": 0
      },
      "text/plain": [
       "Epoch 1:   0%|          | 0/60 [00:01<?, ?batch/s]"
      ]
     },
     "metadata": {},
     "output_type": "display_data"
    },
    {
     "name": "stdout",
     "output_type": "stream",
     "text": [
      "Epoch 001\n",
      "TRAIN→ RMSE=0.3012 MAE=0.2297 R2=-0.0751 | Acc=0.6754 Prec=0.3580 Rec=0.2184 F1=0.2713 AUROC=0.5797\n",
      "VALID→ RMSE=0.2795 MAE=0.1912 R2=0.0513 | Acc=0.7127 Prec=0.4915 Rec=0.0006 F1=0.0012 AUROC=0.6507\n"
     ]
    },
    {
     "data": {
      "application/vnd.jupyter.widget-view+json": {
       "model_id": "7e567c918c9a44c5ba0aa76a7477b20a",
       "version_major": 2,
       "version_minor": 0
      },
      "text/plain": [
       "Epoch 2:   0%|          | 0/60 [00:00<?, ?batch/s]"
      ]
     },
     "metadata": {},
     "output_type": "display_data"
    },
    {
     "name": "stdout",
     "output_type": "stream",
     "text": [
      "Epoch 002\n",
      "TRAIN→ RMSE=0.2826 MAE=0.2158 R2=0.0533 | Acc=0.7082 Prec=0.3988 Rec=0.1080 F1=0.1700 AUROC=0.5732\n",
      "VALID→ RMSE=0.2704 MAE=0.1881 R2=0.1122 | Acc=0.7153 Prec=0.8648 Rec=0.0108 F1=0.0214 AUROC=0.7102\n"
     ]
    },
    {
     "data": {
      "application/vnd.jupyter.widget-view+json": {
       "model_id": "ea2bf201a9bf4b1192567018a135e0fd",
       "version_major": 2,
       "version_minor": 0
      },
      "text/plain": [
       "Epoch 3:   0%|          | 0/60 [00:00<?, ?batch/s]"
      ]
     },
     "metadata": {},
     "output_type": "display_data"
    },
    {
     "name": "stdout",
     "output_type": "stream",
     "text": [
      "Epoch 003\n",
      "TRAIN→ RMSE=0.2735 MAE=0.2085 R2=0.1136 | Acc=0.7246 Prec=0.5079 Rec=0.1453 F1=0.2260 AUROC=0.6246\n",
      "VALID→ RMSE=0.2661 MAE=0.1861 R2=0.1402 | Acc=0.7300 Prec=0.7824 Rec=0.0833 F1=0.1506 AUROC=0.7258\n"
     ]
    },
    {
     "data": {
      "application/vnd.jupyter.widget-view+json": {
       "model_id": "bd97d4a8c12e45b3a443fd87c087d413",
       "version_major": 2,
       "version_minor": 0
      },
      "text/plain": [
       "Epoch 4:   0%|          | 0/60 [00:00<?, ?batch/s]"
      ]
     },
     "metadata": {},
     "output_type": "display_data"
    },
    {
     "name": "stdout",
     "output_type": "stream",
     "text": [
      "Epoch 004\n",
      "TRAIN→ RMSE=0.2685 MAE=0.2047 R2=0.1454 | Acc=0.7354 Prec=0.5568 Rec=0.2125 F1=0.3076 AUROC=0.6626\n",
      "VALID→ RMSE=0.2614 MAE=0.1848 R2=0.1704 | Acc=0.7407 Prec=0.7371 Rec=0.1515 F1=0.2514 AUROC=0.7304\n"
     ]
    },
    {
     "data": {
      "application/vnd.jupyter.widget-view+json": {
       "model_id": "1861c81dedfb45a199b3ef82c3f3a2f3",
       "version_major": 2,
       "version_minor": 0
      },
      "text/plain": [
       "Epoch 5:   0%|          | 0/60 [00:00<?, ?batch/s]"
      ]
     },
     "metadata": {},
     "output_type": "display_data"
    },
    {
     "name": "stdout",
     "output_type": "stream",
     "text": [
      "Epoch 005\n",
      "TRAIN→ RMSE=0.2652 MAE=0.2024 R2=0.1662 | Acc=0.7425 Prec=0.5795 Rec=0.2527 F1=0.3520 AUROC=0.6840\n",
      "VALID→ RMSE=0.2579 MAE=0.1846 R2=0.1929 | Acc=0.7462 Prec=0.7114 Rec=0.1960 F1=0.3073 AUROC=0.7333\n"
     ]
    },
    {
     "data": {
      "application/vnd.jupyter.widget-view+json": {
       "model_id": "a468eba7135c4226847dfd8fdf0203f9",
       "version_major": 2,
       "version_minor": 0
      },
      "text/plain": [
       "Epoch 6:   0%|          | 0/60 [00:00<?, ?batch/s]"
      ]
     },
     "metadata": {},
     "output_type": "display_data"
    },
    {
     "name": "stdout",
     "output_type": "stream",
     "text": [
      "Epoch 006\n",
      "TRAIN→ RMSE=0.2627 MAE=0.2001 R2=0.1822 | Acc=0.7473 Prec=0.5987 Rec=0.2629 F1=0.3654 AUROC=0.6974\n",
      "VALID→ RMSE=0.2559 MAE=0.1844 R2=0.2051 | Acc=0.7491 Prec=0.6980 Rec=0.2232 F1=0.3382 AUROC=0.7359\n",
      "🔖 Saved folder‐best checkpoint (_chp): AAPL_0.25589_chp.pth\n"
     ]
    },
    {
     "data": {
      "application/vnd.jupyter.widget-view+json": {
       "model_id": "a771da610d7a4da39ecc052f4255791f",
       "version_major": 2,
       "version_minor": 0
      },
      "text/plain": [
       "Epoch 7:   0%|          | 0/60 [00:00<?, ?batch/s]"
      ]
     },
     "metadata": {},
     "output_type": "display_data"
    },
    {
     "name": "stdout",
     "output_type": "stream",
     "text": [
      "Epoch 007\n",
      "TRAIN→ RMSE=0.2609 MAE=0.1985 R2=0.1934 | Acc=0.7505 Prec=0.6117 Rec=0.2687 F1=0.3733 AUROC=0.7069\n",
      "VALID→ RMSE=0.2538 MAE=0.1845 R2=0.2181 | Acc=0.7510 Prec=0.6886 Rec=0.2434 F1=0.3597 AUROC=0.7390\n",
      "🔖 Saved folder‐best checkpoint (_chp): AAPL_0.25379_chp.pth\n"
     ]
    },
    {
     "data": {
      "application/vnd.jupyter.widget-view+json": {
       "model_id": "d559bd442a794e7991faa95b8b363681",
       "version_major": 2,
       "version_minor": 0
      },
      "text/plain": [
       "Epoch 8:   0%|          | 0/60 [00:00<?, ?batch/s]"
      ]
     },
     "metadata": {},
     "output_type": "display_data"
    },
    {
     "name": "stdout",
     "output_type": "stream",
     "text": [
      "Epoch 008\n",
      "TRAIN→ RMSE=0.2594 MAE=0.1973 R2=0.2023 | Acc=0.7526 Prec=0.6188 Rec=0.2753 F1=0.3811 AUROC=0.7142\n",
      "VALID→ RMSE=0.2523 MAE=0.1847 R2=0.2272 | Acc=0.7526 Prec=0.6830 Rec=0.2592 F1=0.3758 AUROC=0.7415\n",
      "🔖 Saved folder‐best checkpoint (_chp): AAPL_0.25232_chp.pth\n"
     ]
    },
    {
     "data": {
      "application/vnd.jupyter.widget-view+json": {
       "model_id": "c0afed7b006343838a4e1fccdadb6e92",
       "version_major": 2,
       "version_minor": 0
      },
      "text/plain": [
       "Epoch 9:   0%|          | 0/60 [00:00<?, ?batch/s]"
      ]
     },
     "metadata": {},
     "output_type": "display_data"
    },
    {
     "name": "stdout",
     "output_type": "stream",
     "text": [
      "Epoch 009\n",
      "TRAIN→ RMSE=0.2581 MAE=0.1962 R2=0.2107 | Acc=0.7542 Prec=0.6239 Rec=0.2803 F1=0.3868 AUROC=0.7203\n",
      "VALID→ RMSE=0.2511 MAE=0.1849 R2=0.2345 | Acc=0.7535 Prec=0.6769 Rec=0.2717 F1=0.3878 AUROC=0.7437\n",
      "🔖 Saved folder‐best checkpoint (_chp): AAPL_0.25111_chp.pth\n"
     ]
    },
    {
     "data": {
      "application/vnd.jupyter.widget-view+json": {
       "model_id": "066068e20d7f4c58aa214a30614b85bb",
       "version_major": 2,
       "version_minor": 0
      },
      "text/plain": [
       "Epoch 10:   0%|          | 0/60 [00:00<?, ?batch/s]"
      ]
     },
     "metadata": {},
     "output_type": "display_data"
    },
    {
     "name": "stdout",
     "output_type": "stream",
     "text": [
      "Epoch 010\n",
      "TRAIN→ RMSE=0.2570 MAE=0.1954 R2=0.2173 | Acc=0.7556 Prec=0.6273 Rec=0.2868 F1=0.3936 AUROC=0.7257\n",
      "VALID→ RMSE=0.2502 MAE=0.1852 R2=0.2402 | Acc=0.7540 Prec=0.6721 Rec=0.2805 F1=0.3958 AUROC=0.7453\n",
      "🔖 Saved folder‐best checkpoint (_chp): AAPL_0.25018_chp.pth\n"
     ]
    },
    {
     "data": {
      "application/vnd.jupyter.widget-view+json": {
       "model_id": "78b888a0daef41f99698096adecfbd72",
       "version_major": 2,
       "version_minor": 0
      },
      "text/plain": [
       "Epoch 11:   0%|          | 0/60 [00:00<?, ?batch/s]"
      ]
     },
     "metadata": {},
     "output_type": "display_data"
    },
    {
     "name": "stdout",
     "output_type": "stream",
     "text": [
      "Epoch 011\n",
      "TRAIN→ RMSE=0.2558 MAE=0.1947 R2=0.2246 | Acc=0.7563 Prec=0.6272 Rec=0.2934 F1=0.3998 AUROC=0.7304\n",
      "VALID→ RMSE=0.2495 MAE=0.1855 R2=0.2443 | Acc=0.7547 Prec=0.6687 Rec=0.2896 F1=0.4041 AUROC=0.7466\n",
      "🔖 Saved folder‐best checkpoint (_chp): AAPL_0.24950_chp.pth\n"
     ]
    },
    {
     "data": {
      "application/vnd.jupyter.widget-view+json": {
       "model_id": "18be360f25a9463f82e3fb413426e6b4",
       "version_major": 2,
       "version_minor": 0
      },
      "text/plain": [
       "Epoch 12:   0%|          | 0/60 [00:00<?, ?batch/s]"
      ]
     },
     "metadata": {},
     "output_type": "display_data"
    },
    {
     "name": "stdout",
     "output_type": "stream",
     "text": [
      "Epoch 012\n",
      "TRAIN→ RMSE=0.2546 MAE=0.1939 R2=0.2320 | Acc=0.7575 Prec=0.6285 Rec=0.3014 F1=0.4074 AUROC=0.7353\n",
      "VALID→ RMSE=0.2489 MAE=0.1861 R2=0.2477 | Acc=0.7554 Prec=0.6634 Rec=0.3016 F1=0.4147 AUROC=0.7477\n",
      "🔖 Saved folder‐best checkpoint (_chp): AAPL_0.24894_chp.pth\n"
     ]
    },
    {
     "data": {
      "application/vnd.jupyter.widget-view+json": {
       "model_id": "8f30ca041579433885173eb77b3c40ea",
       "version_major": 2,
       "version_minor": 0
      },
      "text/plain": [
       "Epoch 13:   0%|          | 0/60 [00:00<?, ?batch/s]"
      ]
     },
     "metadata": {},
     "output_type": "display_data"
    },
    {
     "name": "stdout",
     "output_type": "stream",
     "text": [
      "Epoch 013\n",
      "TRAIN→ RMSE=0.2536 MAE=0.1930 R2=0.2380 | Acc=0.7582 Prec=0.6283 Rec=0.3084 F1=0.4138 AUROC=0.7394\n",
      "VALID→ RMSE=0.2489 MAE=0.1861 R2=0.2480 | Acc=0.7555 Prec=0.6610 Rec=0.3057 F1=0.4180 AUROC=0.7484\n",
      "🔖 Saved folder‐best checkpoint (_chp): AAPL_0.24889_chp.pth\n"
     ]
    },
    {
     "data": {
      "application/vnd.jupyter.widget-view+json": {
       "model_id": "d9647412d775402382a6be28952c28f2",
       "version_major": 2,
       "version_minor": 0
      },
      "text/plain": [
       "Epoch 14:   0%|          | 0/60 [00:00<?, ?batch/s]"
      ]
     },
     "metadata": {},
     "output_type": "display_data"
    },
    {
     "name": "stdout",
     "output_type": "stream",
     "text": [
      "Epoch 014\n",
      "TRAIN→ RMSE=0.2527 MAE=0.1923 R2=0.2434 | Acc=0.7593 Prec=0.6305 Rec=0.3137 F1=0.4190 AUROC=0.7434\n",
      "VALID→ RMSE=0.2489 MAE=0.1862 R2=0.2479 | Acc=0.7557 Prec=0.6576 Rec=0.3120 F1=0.4232 AUROC=0.7491\n"
     ]
    },
    {
     "data": {
      "application/vnd.jupyter.widget-view+json": {
       "model_id": "53f7dc4d5d6340118fafa14c6bda16be",
       "version_major": 2,
       "version_minor": 0
      },
      "text/plain": [
       "Epoch 15:   0%|          | 0/60 [00:00<?, ?batch/s]"
      ]
     },
     "metadata": {},
     "output_type": "display_data"
    },
    {
     "name": "stdout",
     "output_type": "stream",
     "text": [
      "Epoch 015\n",
      "TRAIN→ RMSE=0.2517 MAE=0.1916 R2=0.2490 | Acc=0.7604 Prec=0.6324 Rec=0.3200 F1=0.4249 AUROC=0.7467\n",
      "VALID→ RMSE=0.2492 MAE=0.1865 R2=0.2463 | Acc=0.7556 Prec=0.6547 Rec=0.3160 F1=0.4263 AUROC=0.7495\n"
     ]
    },
    {
     "data": {
      "application/vnd.jupyter.widget-view+json": {
       "model_id": "2f15a9ae668a4e9791486c42be33d96e",
       "version_major": 2,
       "version_minor": 0
      },
      "text/plain": [
       "Epoch 16:   0%|          | 0/60 [00:00<?, ?batch/s]"
      ]
     },
     "metadata": {},
     "output_type": "display_data"
    },
    {
     "name": "stdout",
     "output_type": "stream",
     "text": [
      "Epoch 016\n",
      "TRAIN→ RMSE=0.2509 MAE=0.1910 R2=0.2539 | Acc=0.7611 Prec=0.6330 Rec=0.3244 F1=0.4289 AUROC=0.7496\n",
      "VALID→ RMSE=0.2497 MAE=0.1873 R2=0.2434 | Acc=0.7554 Prec=0.6495 Rec=0.3231 F1=0.4315 AUROC=0.7494\n"
     ]
    },
    {
     "data": {
      "application/vnd.jupyter.widget-view+json": {
       "model_id": "98104dbb3d774ff380925b9eeec91a81",
       "version_major": 2,
       "version_minor": 0
      },
      "text/plain": [
       "Epoch 17:   0%|          | 0/60 [00:00<?, ?batch/s]"
      ]
     },
     "metadata": {},
     "output_type": "display_data"
    },
    {
     "name": "stdout",
     "output_type": "stream",
     "text": [
      "Epoch 017\n",
      "TRAIN→ RMSE=0.2501 MAE=0.1903 R2=0.2588 | Acc=0.7619 Prec=0.6337 Rec=0.3303 F1=0.4343 AUROC=0.7527\n",
      "VALID→ RMSE=0.2504 MAE=0.1892 R2=0.2390 | Acc=0.7546 Prec=0.6396 Rec=0.3339 F1=0.4388 AUROC=0.7484\n"
     ]
    },
    {
     "data": {
      "application/vnd.jupyter.widget-view+json": {
       "model_id": "3422ead481244388af23e4113d4c1682",
       "version_major": 2,
       "version_minor": 0
      },
      "text/plain": [
       "Epoch 18:   0%|          | 0/60 [00:00<?, ?batch/s]"
      ]
     },
     "metadata": {},
     "output_type": "display_data"
    },
    {
     "name": "stdout",
     "output_type": "stream",
     "text": [
      "Epoch 018\n",
      "TRAIN→ RMSE=0.2495 MAE=0.1899 R2=0.2625 | Acc=0.7625 Prec=0.6340 Rec=0.3349 F1=0.4383 AUROC=0.7547\n",
      "VALID→ RMSE=0.2515 MAE=0.1899 R2=0.2323 | Acc=0.7537 Prec=0.6355 Rec=0.3347 F1=0.4384 AUROC=0.7469\n"
     ]
    },
    {
     "data": {
      "application/vnd.jupyter.widget-view+json": {
       "model_id": "462e57c9182746a6a87621820a28891f",
       "version_major": 2,
       "version_minor": 0
      },
      "text/plain": [
       "Epoch 19:   0%|          | 0/60 [00:00<?, ?batch/s]"
      ]
     },
     "metadata": {},
     "output_type": "display_data"
    },
    {
     "name": "stdout",
     "output_type": "stream",
     "text": [
      "Epoch 019\n",
      "TRAIN→ RMSE=0.2488 MAE=0.1895 R2=0.2663 | Acc=0.7634 Prec=0.6351 Rec=0.3402 F1=0.4431 AUROC=0.7568\n",
      "VALID→ RMSE=0.2527 MAE=0.1910 R2=0.2246 | Acc=0.7522 Prec=0.6290 Rec=0.3354 F1=0.4375 AUROC=0.7448\n"
     ]
    },
    {
     "data": {
      "application/vnd.jupyter.widget-view+json": {
       "model_id": "84bfc355873f4101b1b8f379897cf0fd",
       "version_major": 2,
       "version_minor": 0
      },
      "text/plain": [
       "Epoch 20:   0%|          | 0/60 [00:00<?, ?batch/s]"
      ]
     },
     "metadata": {},
     "output_type": "display_data"
    }
   ],
   "source": [
    "# importlib.reload(dual_lstm) ########################\n",
    "\n",
    "# ──────────────────────────────────────────────────────────────────────────────\n",
    "#  Create Optuna study and run optimization\n",
    "# ──────────────────────────────────────────────────────────────────────────────\n",
    "\n",
    "study = optuna.create_study(\n",
    "    storage=\"sqlite:///optuna_study.db\",    # Point it at an SQLite file so it writes out each result immediately instead of buffering in RAM\n",
    "    load_if_exists=True,\n",
    "    direction=\"minimize\",\n",
    "    pruner=MedianPruner(n_startup_trials=6, n_warmup_steps=12),\n",
    ")\n",
    "\n",
    "        \n",
    "study.optimize(\n",
    "    objective,\n",
    "    n_trials = 100,\n",
    "    n_jobs   = 1,\n",
    "    callbacks=[live_cb, plots.cleanup_callback],\n",
    ")\n",
    "\n",
    "plt.close('all')   # safe here; the final image remains displayed in the notebook output\n",
    "gc.collect()       # optional extra sweep\n",
    "\n"
   ]
  },
  {
   "cell_type": "code",
   "execution_count": null,
   "id": "4312366c-7f12-4c10-9f34-0647d6be022e",
   "metadata": {},
   "outputs": [],
   "source": [
    "# ──────────────────────────────────────────────────────────────────────────────\n",
    "#  Print out the best hyperparameters & result\n",
    "# ──────────────────────────────────────────────────────────────────────────────\n",
    "print(\"Best hyperparameters:\", study.best_params)\n",
    "print(\"Best validation RMSE:\", study.best_value)\n",
    "\n",
    "# ──────────────────────────────────────────────────────────────────────────────\n",
    "#  Compute and print parameter importances\n",
    "# ──────────────────────────────────────────────────────────────────────────────\n",
    "imps = get_param_importances(study)\n",
    "print(\"\\nHyperparameter importances (higher ⇒ more impact on RMSE):\")\n",
    "for name, score in sorted(imps.items(), key=lambda x: x[1], reverse=True):\n",
    "    print(f\"  {name:20s} : {score:.3f}\")\n",
    "\n",
    "# ──────────────────────────────────────────────────────────────────────────────\n",
    "#  Dump study results to JSON\n",
    "# ──────────────────────────────────────────────────────────────────────────────\n",
    "# 1) Build your session‐only DataFrame once\n",
    "session_df = df.between_time(params.regular_start,\n",
    "                             params.regular_end)\n",
    "\n",
    "# 2) Derive the trading‐day boundaries\n",
    "first_day = session_df.index.normalize().min()\n",
    "last_day  = session_df.index.normalize().max()\n",
    "\n",
    "# 3) Format your file name\n",
    "start_date = first_day.strftime(\"%Y%m%d\")\n",
    "end_date   = last_day.strftime(\"%Y%m%d\")\n",
    "file_name  = f\"{params.ticker}_{start_date}-{end_date}_optuna_model_hpars.json\"\n",
    "file_path  = os.path.join(results_folder, file_name)\n",
    "\n",
    "\n",
    "# ------------------------------------------------------------------\n",
    "# Dump study results (including importances)\n",
    "# ------------------------------------------------------------------\n",
    "\n",
    "with open(file_path, \"w\") as f:\n",
    "    json.dump(\n",
    "        {\n",
    "            \"best_params\": study.best_params,\n",
    "            \"best_value\" : study.best_value,\n",
    "            \"importances\": imps,\n",
    "            \"trials\": [\n",
    "                {\"number\": t.number, \"value\": t.value, \"params\": t.params, \n",
    "                 \"state\": t.state.name}\n",
    "                for t in study.trials\n",
    "            ],\n",
    "        },\n",
    "        f,\n",
    "        indent=4,\n",
    "    )\n",
    "\n",
    "print(f\"\\nOptuna results (and importances) saved to: {file_path}\")\n"
   ]
  },
  {
   "cell_type": "code",
   "execution_count": null,
   "id": "9c97c435-e800-483e-b2ab-f9412ef6954e",
   "metadata": {},
   "outputs": [],
   "source": []
  },
  {
   "cell_type": "code",
   "execution_count": null,
   "id": "6865782e-fc07-4354-a5b9-2cdeed1ebad9",
   "metadata": {},
   "outputs": [],
   "source": []
  },
  {
   "cell_type": "code",
   "execution_count": null,
   "id": "cbaa9fb2-411b-4d9f-9a33-e6f6c59de7dd",
   "metadata": {},
   "outputs": [],
   "source": []
  }
 ],
 "metadata": {
  "kernelspec": {
   "display_name": "Python 3 (ipykernel)",
   "language": "python",
   "name": "python3"
  },
  "language_info": {
   "codemirror_mode": {
    "name": "ipython",
    "version": 3
   },
   "file_extension": ".py",
   "mimetype": "text/x-python",
   "name": "python",
   "nbconvert_exporter": "python",
   "pygments_lexer": "ipython3",
   "version": "3.12.3"
  }
 },
 "nbformat": 4,
 "nbformat_minor": 5
}
