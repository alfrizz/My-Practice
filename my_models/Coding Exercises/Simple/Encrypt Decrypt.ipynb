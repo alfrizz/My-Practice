{
 "cells": [
  {
   "cell_type": "code",
   "execution_count": 16,
   "id": "08e45dc3-c8c6-4d4c-af9c-34300067c3d7",
   "metadata": {},
   "outputs": [
    {
     "name": "stdin",
     "output_type": "stream",
     "text": [
      "Enter a message to encrypt (plaintext) alfonso e vincenzo\n",
      "Input a key as a number between 1 and 10 7\n"
     ]
    },
    {
     "name": "stdout",
     "output_type": "stream",
     "text": [
      "...\n",
      "Encrypting plaintext...\n",
      "...\n",
      "7\n",
      "Ciphertext:\n",
      "abAdDeJRlCZHGGTvfVhiPNuuoiHWHxjXndUhgeCgsogurQhboZqTnwjQ GZeDkQiemvohAFH PrsaMvDvIxxjQRDicGJWDUDnfNrySXKcGZbCiskevuzHYUqnbqqWgKgzIMyXYaUokQHxcRd\n"
     ]
    }
   ],
   "source": [
    "#Cryptography Challenge #1 - www.101computing.net/cryptography-challenge-1/\n",
    "import random, time\n",
    "\n",
    "#A basic encryption algorithm...\n",
    "def encrypt(plaintext, key):\n",
    "  alphabet = \"abcdefghijklmnopqrstuvwxyzABCDEFGHIJKLMNOPQRSTUVWXYZ\"\n",
    "  ciphertext = \"\"\n",
    "  for i in range(0,len(plaintext)):\n",
    "    character = plaintext[i]\n",
    "    ciphertext = ciphertext + character\n",
    "    for j in range (0,key):\n",
    "      ciphertext = ciphertext + random.choice(alphabet)\n",
    "  return ciphertext\n",
    "\n",
    "#Main program starts here...\n",
    "#Input...\n",
    "plaintext = input(\"Enter a message to encrypt (plaintext)\")\n",
    "key = int(input(\"Input a key as a number between 1 and 10\"))\n",
    "while not (key>=1 and key<=10):\n",
    "  print(\"Invalid key, try again!\")\n",
    "  key = int(input(\"Input a key as a number between 1 and 10\"))\n",
    "\n",
    "#Process...  \n",
    "print(\"...\")\n",
    "time.sleep(0.1)\n",
    "print(\"Encrypting plaintext...\")\n",
    "time.sleep(0.1)\n",
    "print(\"...\")\n",
    "time.sleep(0.1)\n",
    "ciphertext = encrypt(plaintext, key)\n",
    "\n",
    "#Output...\n",
    "print(key)  \n",
    "print(\"Ciphertext:\")\n",
    "print(ciphertext)  "
   ]
  },
  {
   "cell_type": "code",
   "execution_count": 17,
   "id": "4f9b0cf0-ee74-4ac0-8dfc-9751e073af74",
   "metadata": {},
   "outputs": [],
   "source": [
    "def decrypt(ciphertext, key):\n",
    "    decrypted = ''\n",
    "    for i in range(0, len(ciphertext), key+1):\n",
    "        decrypted+= ciphertext[i]\n",
    "    return decrypted"
   ]
  },
  {
   "cell_type": "code",
   "execution_count": 18,
   "id": "427618f4-005d-4079-a4de-6d58cb80f8ff",
   "metadata": {},
   "outputs": [
    {
     "data": {
      "text/plain": [
       "'alfonso e vincenzo'"
      ]
     },
     "execution_count": 18,
     "metadata": {},
     "output_type": "execute_result"
    }
   ],
   "source": [
    "decrypt(ciphertext, key)"
   ]
  },
  {
   "cell_type": "code",
   "execution_count": null,
   "id": "df0c61ea-4b02-4b00-83c6-2150a827ac82",
   "metadata": {},
   "outputs": [],
   "source": []
  }
 ],
 "metadata": {
  "kernelspec": {
   "display_name": "Py309",
   "language": "python",
   "name": "py309"
  },
  "language_info": {
   "codemirror_mode": {
    "name": "ipython",
    "version": 3
   },
   "file_extension": ".py",
   "mimetype": "text/x-python",
   "name": "python",
   "nbconvert_exporter": "python",
   "pygments_lexer": "ipython3",
   "version": "3.9.16"
  }
 },
 "nbformat": 4,
 "nbformat_minor": 5
}
