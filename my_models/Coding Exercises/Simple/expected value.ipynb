{
 "cells": [
  {
   "cell_type": "code",
   "execution_count": 16,
   "id": "faabdb67-4ea7-43e4-a52e-3ce0daf89f30",
   "metadata": {},
   "outputs": [
    {
     "data": {
      "text/plain": [
       "998.0"
      ]
     },
     "execution_count": 16,
     "metadata": {},
     "output_type": "execute_result"
    }
   ],
   "source": [
    "n = 1000 # number of consecutive_heads\n",
    "expected_payment = 0\n",
    "\n",
    "for i in range(1, n):\n",
    "    payment = 2**i - 1\n",
    "    prob = 1 / 2**i\n",
    "    expected_payment += payment * prob\n",
    "    \n",
    "expected_payment\n",
    "    "
   ]
  },
  {
   "cell_type": "code",
   "execution_count": 17,
   "id": "b17fabee-5830-4898-960b-f8917a19f5e8",
   "metadata": {},
   "outputs": [
    {
     "data": {
      "text/plain": [
       "2.999999999999999"
      ]
     },
     "execution_count": 17,
     "metadata": {},
     "output_type": "execute_result"
    }
   ],
   "source": [
    "n = 1000 # number of consecutive_heads\n",
    "expected_payment = 0\n",
    "\n",
    "for i in range(1, n):\n",
    "    payment = 2*i - 1\n",
    "    prob = 1 / 2**i\n",
    "    expected_payment += payment * prob\n",
    "    \n",
    "expected_payment\n",
    "    "
   ]
  }
 ],
 "metadata": {
  "kernelspec": {
   "display_name": "Py310",
   "language": "python",
   "name": "py310"
  },
  "language_info": {
   "codemirror_mode": {
    "name": "ipython",
    "version": 3
   },
   "file_extension": ".py",
   "mimetype": "text/x-python",
   "name": "python",
   "nbconvert_exporter": "python",
   "pygments_lexer": "ipython3",
   "version": "3.10.11"
  }
 },
 "nbformat": 4,
 "nbformat_minor": 5
}
