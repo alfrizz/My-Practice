{
 "cells": [
  {
   "cell_type": "markdown",
   "id": "aa4c7a34-b52e-4866-95f8-fb96cb9122ec",
   "metadata": {},
   "source": [
    "Probability example\n",
    "\n",
    "In this exercise, we will review the difference between sampling with and without replacement. We will calculate the probability of an event using simulation, but vary our sampling method to see how it impacts probability.\n",
    "\n",
    "Consider a bowl filled with colored candies - three blue, two green, and five yellow. Draw three candies, one at a time, with replacement and without replacement. You want to calculate the probability that all three candies are yellow."
   ]
  },
  {
   "cell_type": "code",
   "execution_count": 1,
   "id": "bddfcd75-3ef3-4826-88be-36140d06a420",
   "metadata": {},
   "outputs": [],
   "source": [
    "import numpy as np"
   ]
  },
  {
   "cell_type": "code",
   "execution_count": 2,
   "id": "7f389914-79e6-4f12-9e1a-bd70ecacb923",
   "metadata": {},
   "outputs": [
    {
     "data": {
      "text/plain": [
       "['B', 'B', 'B', 'G', 'G', 'Y', 'Y', 'Y', 'Y', 'Y']"
      ]
     },
     "execution_count": 2,
     "metadata": {},
     "output_type": "execute_result"
    }
   ],
   "source": [
    "candies = list(3*'B' + 2*'G' + 5*'Y')\n",
    "candies"
   ]
  },
  {
   "cell_type": "code",
   "execution_count": 16,
   "id": "d9b23e36-1443-4a27-96f3-4eb80082a0e9",
   "metadata": {},
   "outputs": [
    {
     "data": {
      "text/plain": [
       "(0.1246, 0.0793)"
      ]
     },
     "execution_count": 16,
     "metadata": {},
     "output_type": "execute_result"
    }
   ],
   "source": [
    "succ_repl = 0\n",
    "succ_norepl = 0\n",
    "sims = 10000\n",
    "\n",
    "for _ in range(sims):\n",
    "    if np.array_equal(np.random.choice(candies, size=3, replace=True),['Y', 'Y', 'Y']):\n",
    "        succ_repl += 1\n",
    "    if np.array_equal(np.random.choice(candies, size=3, replace=False),['Y', 'Y', 'Y']):\n",
    "        succ_norepl += 1\n",
    "\n",
    "prob_repl = succ_repl / sims\n",
    "prob_norepl = succ_norepl / sims\n",
    "\n",
    "prob_repl, prob_norepl"
   ]
  },
  {
   "cell_type": "code",
   "execution_count": null,
   "id": "4be38463-8155-4012-997c-d000630ad5b8",
   "metadata": {},
   "outputs": [],
   "source": []
  },
  {
   "cell_type": "code",
   "execution_count": null,
   "id": "a4a6da03-a4f2-4708-9eb4-5ddd30058102",
   "metadata": {},
   "outputs": [],
   "source": []
  },
  {
   "cell_type": "code",
   "execution_count": null,
   "id": "2934cacb-e4bc-4c3a-b89d-eef12d56325d",
   "metadata": {},
   "outputs": [],
   "source": []
  },
  {
   "cell_type": "code",
   "execution_count": null,
   "id": "4bbece24-73c6-4c41-8265-12f12bc0b750",
   "metadata": {},
   "outputs": [],
   "source": []
  },
  {
   "cell_type": "code",
   "execution_count": null,
   "id": "591c9b65-9bff-4a24-8759-a0faea3da0d4",
   "metadata": {},
   "outputs": [],
   "source": []
  },
  {
   "cell_type": "code",
   "execution_count": null,
   "id": "556223ed-2749-4ab2-bbf0-0484f68af177",
   "metadata": {},
   "outputs": [],
   "source": []
  }
 ],
 "metadata": {
  "kernelspec": {
   "display_name": "Py310",
   "language": "python",
   "name": "py310"
  },
  "language_info": {
   "codemirror_mode": {
    "name": "ipython",
    "version": 3
   },
   "file_extension": ".py",
   "mimetype": "text/x-python",
   "name": "python",
   "nbconvert_exporter": "python",
   "pygments_lexer": "ipython3",
   "version": "3.10.11"
  }
 },
 "nbformat": 4,
 "nbformat_minor": 5
}
