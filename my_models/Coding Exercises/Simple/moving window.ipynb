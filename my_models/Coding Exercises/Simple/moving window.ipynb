{
 "cells": [
  {
   "cell_type": "markdown",
   "id": "f89777ba-7d4b-4791-85d7-c41d2e4ae0bc",
   "metadata": {},
   "source": [
    "Given a list of numbers nums and an integer window_size, write a function moving_window to find the moving window average."
   ]
  },
  {
   "cell_type": "code",
   "execution_count": 8,
   "id": "1aad3daf-a0ab-4d41-9961-7a2afaadbf8e",
   "metadata": {},
   "outputs": [],
   "source": [
    "import numpy as np\n"
   ]
  },
  {
   "cell_type": "code",
   "execution_count": 38,
   "id": "6d7ec721-c5cc-4480-a987-8c67e7ccdba5",
   "metadata": {},
   "outputs": [],
   "source": [
    "def moving_window(nums, window_size):\n",
    "    \n",
    "    mov_wind = []\n",
    "    \n",
    "    for i in range(1, len(nums)+1):\n",
    "        \n",
    "        if i < window_size:\n",
    "            window_size_adj = i\n",
    "        else:\n",
    "            window_size_adj = window_size\n",
    "            \n",
    "        mov_wind.append(np.mean(nums[i-window_size_adj : i]))\n",
    "        print(nums[i-window_size_adj : i]) #######\n",
    "    \n",
    "    return mov_wind"
   ]
  },
  {
   "cell_type": "code",
   "execution_count": 39,
   "id": "bd66726d-40ec-472a-927d-dcabe9479228",
   "metadata": {},
   "outputs": [
    {
     "name": "stdout",
     "output_type": "stream",
     "text": [
      "[1]\n",
      "[1, 2]\n",
      "[1, 2, 3]\n",
      "[2, 3, 4]\n",
      "[3, 4, 5]\n",
      "[4, 5, 6]\n"
     ]
    },
    {
     "data": {
      "text/plain": [
       "[1.0, 1.5, 2.0, 3.0, 4.0, 5.0]"
      ]
     },
     "execution_count": 39,
     "metadata": {},
     "output_type": "execute_result"
    }
   ],
   "source": [
    "nums = [1,2,3,4,5,6]\n",
    "window_size = 3\n",
    "\n",
    "moving_window(nums, window_size)"
   ]
  },
  {
   "cell_type": "code",
   "execution_count": 40,
   "id": "2c670ab2-0cb2-4943-841f-6da57c550513",
   "metadata": {},
   "outputs": [
    {
     "name": "stdout",
     "output_type": "stream",
     "text": [
      "[1]\n",
      "[1, 2]\n",
      "[1, 2, 3]\n",
      "[1, 2, 3, 4]\n",
      "[2, 3, 4, 5]\n",
      "[3, 4, 5, 6]\n"
     ]
    },
    {
     "data": {
      "text/plain": [
       "[1.0, 1.5, 2.0, 2.5, 3.5, 4.5]"
      ]
     },
     "execution_count": 40,
     "metadata": {},
     "output_type": "execute_result"
    }
   ],
   "source": [
    "nums = [1,2,3,4,5,6]\n",
    "window_size = 4\n",
    "\n",
    "moving_window(nums, window_size)"
   ]
  },
  {
   "cell_type": "code",
   "execution_count": null,
   "id": "c7f3b8a4-1a6d-456c-b3fe-9a21bce5c028",
   "metadata": {},
   "outputs": [],
   "source": []
  },
  {
   "cell_type": "code",
   "execution_count": null,
   "id": "982cf3b4-9cc0-4603-9c4b-ee9c79083020",
   "metadata": {},
   "outputs": [],
   "source": []
  },
  {
   "cell_type": "code",
   "execution_count": null,
   "id": "9531684b-3f79-48c1-9913-5cb31b383083",
   "metadata": {},
   "outputs": [],
   "source": []
  }
 ],
 "metadata": {
  "kernelspec": {
   "display_name": "Py310",
   "language": "python",
   "name": "py310"
  },
  "language_info": {
   "codemirror_mode": {
    "name": "ipython",
    "version": 3
   },
   "file_extension": ".py",
   "mimetype": "text/x-python",
   "name": "python",
   "nbconvert_exporter": "python",
   "pygments_lexer": "ipython3",
   "version": "3.10.11"
  }
 },
 "nbformat": 4,
 "nbformat_minor": 5
}
