{
 "cells": [
  {
   "cell_type": "markdown",
   "id": "a958078b-2f40-479c-aeb3-6e4b07d6f5be",
   "metadata": {},
   "source": [
    "Given two strings A and B, write a function can_shift to return whether or not A can be shifted some number of places to get B.\n",
    "\n",
    "Example:\n",
    "\n",
    "Input:\n",
    "\n",
    "A = 'abcde'\n",
    "\n",
    "B = 'cdeab'\n",
    "\n",
    "can_shift(A, B) == True\n",
    "\n",
    "A = 'abc'\n",
    "\n",
    "B = 'acb'\n",
    "\n",
    "can_shift(A, B) == False"
   ]
  },
  {
   "cell_type": "code",
   "execution_count": 14,
   "id": "2f85d3ed-a7ee-4cfd-8081-171a969018a4",
   "metadata": {},
   "outputs": [],
   "source": [
    "def can_shift(A, B):\n",
    "    if len(A) != len(B):\n",
    "        return False\n",
    "    len_str = len(A)\n",
    "    for i in range(len_str):\n",
    "        print(A[i:len_str]+A[0:i], B)\n",
    "        if A[i:len_str]+A[0:i] == B:\n",
    "            return True\n",
    "    return False"
   ]
  },
  {
   "cell_type": "code",
   "execution_count": 15,
   "id": "c55963ec-61b4-481b-9d8f-98ca9f919d5e",
   "metadata": {},
   "outputs": [
    {
     "name": "stdout",
     "output_type": "stream",
     "text": [
      "abcde cdeab\n",
      "bcdea cdeab\n",
      "cdeab cdeab\n"
     ]
    },
    {
     "data": {
      "text/plain": [
       "True"
      ]
     },
     "execution_count": 15,
     "metadata": {},
     "output_type": "execute_result"
    }
   ],
   "source": [
    "A = 'abcde'\n",
    "B = 'cdeab'\n",
    "can_shift(A, B)"
   ]
  },
  {
   "cell_type": "code",
   "execution_count": 16,
   "id": "5236dfc1-383c-4a9f-84ef-43c4865b4770",
   "metadata": {},
   "outputs": [
    {
     "name": "stdout",
     "output_type": "stream",
     "text": [
      "abc acb\n",
      "bca acb\n",
      "cab acb\n"
     ]
    },
    {
     "data": {
      "text/plain": [
       "False"
      ]
     },
     "execution_count": 16,
     "metadata": {},
     "output_type": "execute_result"
    }
   ],
   "source": [
    "A = 'abc'\n",
    "B = 'acb'\n",
    "can_shift(A, B)"
   ]
  },
  {
   "cell_type": "code",
   "execution_count": 17,
   "id": "7b0fb8fa-8b6b-42e7-b513-04d1a5de2772",
   "metadata": {},
   "outputs": [],
   "source": [
    "# You can achieve the same check using a more efficient approach by leveraging the fact that if string B is a rotation of string A, \n",
    "# then B must be a substring of A + A (concatenating A with itself). This approach has better time complexity and avoids the need for an explicit loop.\n",
    "\n",
    "def can_shift(A, B):\n",
    "    if len(A) != len(B):\n",
    "        return False\n",
    "    return B in (A + A)"
   ]
  },
  {
   "cell_type": "code",
   "execution_count": 18,
   "id": "b5d3f6e2-f9c2-4c26-8b99-c59c09e61d22",
   "metadata": {},
   "outputs": [
    {
     "data": {
      "text/plain": [
       "True"
      ]
     },
     "execution_count": 18,
     "metadata": {},
     "output_type": "execute_result"
    }
   ],
   "source": [
    "A = 'abcde'\n",
    "B = 'cdeab'\n",
    "can_shift(A, B)"
   ]
  },
  {
   "cell_type": "code",
   "execution_count": 19,
   "id": "30a6dc55-6d70-4bf3-a981-0ae04a59712d",
   "metadata": {},
   "outputs": [
    {
     "data": {
      "text/plain": [
       "False"
      ]
     },
     "execution_count": 19,
     "metadata": {},
     "output_type": "execute_result"
    }
   ],
   "source": [
    "A = 'abc'\n",
    "B = 'acb'\n",
    "can_shift(A, B)"
   ]
  },
  {
   "cell_type": "code",
   "execution_count": null,
   "id": "a323eba8-e035-4a6d-a7b0-80397d7005d5",
   "metadata": {},
   "outputs": [],
   "source": []
  }
 ],
 "metadata": {
  "kernelspec": {
   "display_name": "Python 3 (ipykernel)",
   "language": "python",
   "name": "python3"
  },
  "language_info": {
   "codemirror_mode": {
    "name": "ipython",
    "version": 3
   },
   "file_extension": ".py",
   "mimetype": "text/x-python",
   "name": "python",
   "nbconvert_exporter": "python",
   "pygments_lexer": "ipython3",
   "version": "3.10.10"
  }
 },
 "nbformat": 4,
 "nbformat_minor": 5
}
