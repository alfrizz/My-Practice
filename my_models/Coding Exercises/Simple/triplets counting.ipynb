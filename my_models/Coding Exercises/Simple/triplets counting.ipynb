{
 "cells": [
  {
   "cell_type": "markdown",
   "id": "fa930a59-c202-494e-b1c9-889ef2511ab5",
   "metadata": {},
   "source": [
    "Triplet Counting\n",
    "\n",
    "Imagine you have been given an array of integers, and a query number k. Your task is to write a function that finds all the triplets in the array that sum up to the query number k.\n",
    "\n",
    "Let’s illustrate this with some examples:\n",
    "\n",
    "Example 1:\n",
    "\n",
    "Input:\n",
    "\n",
    "nums = [1, 2, 3, 4, 5]\n",
    "\n",
    "k = 6\n",
    "\n",
    "Output:\n",
    "\n",
    "count_triplets(nums, k) -> 1\n",
    "\n",
    "In this case, there is only one triplet that sums up to 6: (1, 2, 3).\n",
    "\n",
    "Example 2:\n",
    "\n",
    "Input:\n",
    "\n",
    "nums = [10, 10, 20, 30, 40]\n",
    "\n",
    "k = 60\n",
    "\n",
    "Output:\n",
    "\n",
    "count_triplets(nums, k) -> 3\n",
    "\n",
    "In this case, there are three triplets that sum up to 60: (10, 10, 40), (10, 20, 30), and (10, 20, 30). The value 10 can be retrieved as nums[0] or nums[1], therefore resulting in two triplets with the same value."
   ]
  },
  {
   "cell_type": "code",
   "execution_count": 12,
   "id": "1a0901e0-b870-408d-b210-ef3e73e14963",
   "metadata": {},
   "outputs": [],
   "source": [
    "nums_a = [1, 2, 3, 4, 5]\n",
    "triplet_sum_a = 6\n",
    "\n",
    "nums_b = [10, 10, 20, 30, 40]\n",
    "triplet_sum_b = 60"
   ]
  },
  {
   "cell_type": "code",
   "execution_count": 15,
   "id": "cb5b7bb7-ec75-44e8-8625-a2d28a1728f1",
   "metadata": {},
   "outputs": [],
   "source": [
    "def count_triplets(nums, triplet_sum):\n",
    "    \n",
    "    len_nums = len(nums)\n",
    "    triplets = []\n",
    "    \n",
    "    for i in range(len_nums - 2):\n",
    "        for j in range(i + 1, len_nums - 1):\n",
    "            for k in range(j + 1, len_nums):\n",
    "                print(nums[i], nums[j], nums[k])\n",
    "                if (nums[i] + nums[j] + nums[k]) == triplet_sum:\n",
    "                    triplets.append(({i:nums[i]},{j:nums[j]},{k:nums[k]}))\n",
    "                    \n",
    "    return triplets\n",
    "                \n",
    "                \n",
    "    "
   ]
  },
  {
   "cell_type": "code",
   "execution_count": 16,
   "id": "1f265fe7-8e09-485c-a441-798d2025aef0",
   "metadata": {},
   "outputs": [
    {
     "name": "stdout",
     "output_type": "stream",
     "text": [
      "1 2 3\n",
      "1 2 4\n",
      "1 2 5\n",
      "1 3 4\n",
      "1 3 5\n",
      "1 4 5\n",
      "2 3 4\n",
      "2 3 5\n",
      "2 4 5\n",
      "3 4 5\n"
     ]
    },
    {
     "data": {
      "text/plain": [
       "[({0: 1}, {1: 2}, {2: 3})]"
      ]
     },
     "execution_count": 16,
     "metadata": {},
     "output_type": "execute_result"
    }
   ],
   "source": [
    "count_triplets(nums_a, triplet_sum_a)"
   ]
  },
  {
   "cell_type": "code",
   "execution_count": 17,
   "id": "adde01c3-efe4-491c-8d21-e1734ae28196",
   "metadata": {},
   "outputs": [
    {
     "name": "stdout",
     "output_type": "stream",
     "text": [
      "10 10 20\n",
      "10 10 30\n",
      "10 10 40\n",
      "10 20 30\n",
      "10 20 40\n",
      "10 30 40\n",
      "10 20 30\n",
      "10 20 40\n",
      "10 30 40\n",
      "20 30 40\n"
     ]
    },
    {
     "data": {
      "text/plain": [
       "[({0: 10}, {1: 10}, {4: 40}),\n",
       " ({0: 10}, {2: 20}, {3: 30}),\n",
       " ({1: 10}, {2: 20}, {3: 30})]"
      ]
     },
     "execution_count": 17,
     "metadata": {},
     "output_type": "execute_result"
    }
   ],
   "source": [
    "count_triplets(nums_b, triplet_sum_b)"
   ]
  },
  {
   "cell_type": "code",
   "execution_count": null,
   "id": "be34f5a3-6bdf-4aee-a9ff-d679c197783f",
   "metadata": {},
   "outputs": [],
   "source": []
  },
  {
   "cell_type": "code",
   "execution_count": null,
   "id": "48a28f56-aa4a-471c-b7c3-8c9e086e93f0",
   "metadata": {},
   "outputs": [],
   "source": []
  },
  {
   "cell_type": "code",
   "execution_count": null,
   "id": "0cddc8c9-b317-406e-85bd-2b5dfad563a1",
   "metadata": {},
   "outputs": [],
   "source": []
  },
  {
   "cell_type": "code",
   "execution_count": null,
   "id": "6091dd49-1eaa-4990-a21d-6c53f5b6ab2f",
   "metadata": {},
   "outputs": [],
   "source": []
  },
  {
   "cell_type": "code",
   "execution_count": null,
   "id": "1e8b3a74-d371-4143-91c6-068f60842b65",
   "metadata": {},
   "outputs": [],
   "source": []
  }
 ],
 "metadata": {
  "kernelspec": {
   "display_name": "Py310",
   "language": "python",
   "name": "py310"
  },
  "language_info": {
   "codemirror_mode": {
    "name": "ipython",
    "version": 3
   },
   "file_extension": ".py",
   "mimetype": "text/x-python",
   "name": "python",
   "nbconvert_exporter": "python",
   "pygments_lexer": "ipython3",
   "version": "3.10.11"
  }
 },
 "nbformat": 4,
 "nbformat_minor": 5
}
