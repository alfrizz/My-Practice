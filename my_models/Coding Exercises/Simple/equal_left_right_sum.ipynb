{
 "cells": [
  {
   "cell_type": "markdown",
   "id": "801ae8bd-35d8-48b2-8d13-0c8306065f1c",
   "metadata": {},
   "source": [
    "Given a list of integers, find the indices at which the sum of the left half of the list is equal to the right half. If there are no indices where this condition is satisfied return -1.\n",
    "\n",
    "Example 1:\n",
    "\n",
    "Input:\n",
    "\n",
    "nums = [1, 7, 6, 5, 3]\n",
    "\n",
    "Output:\n",
    "\n",
    "equivalent_indices(nums) -> 1, 3\n",
    "\n",
    "In this example, the sum of the elements up to the index 2 (1 + 7) is equal to the sum of the elements from the index 3 (5 + 3).\n",
    "\n",
    "Example 2:\n",
    "\n",
    "Input:\n",
    "\n",
    "nums = [1,3,5]\n",
    "\n",
    "Output:\n",
    "\n",
    "equivalent_index(nums) -> -1\n",
    "\n",
    "In this example, there are no indices where the sum of the elements to the left is equal to the sum of the elements to the right."
   ]
  },
  {
   "cell_type": "code",
   "execution_count": 24,
   "id": "8960f2a0-181d-4a8c-a005-3fbe5f7c9745",
   "metadata": {},
   "outputs": [],
   "source": [
    "def equivalent_indices(nums):\n",
    "    left_idx = 0\n",
    "    right_idx = len(nums)-1\n",
    "    while left_idx < right_idx:\n",
    "        if sum(nums[:left_idx+1]) < sum(nums[right_idx:]):\n",
    "            left_idx += 1\n",
    "        elif sum(nums[:left_idx+1]) > sum(nums[right_idx:]):\n",
    "            right_idx -= 1\n",
    "        else: # if equals\n",
    "            print(nums[:left_idx+1], nums[right_idx:])\n",
    "            return left_idx, right_idx\n",
    "    return -1"
   ]
  },
  {
   "cell_type": "code",
   "execution_count": 25,
   "id": "834b86a2-51f7-4147-987c-8090be53a0df",
   "metadata": {},
   "outputs": [
    {
     "name": "stdout",
     "output_type": "stream",
     "text": [
      "[11, 12] [3, 20]\n"
     ]
    },
    {
     "data": {
      "text/plain": [
       "(1, 8)"
      ]
     },
     "execution_count": 25,
     "metadata": {},
     "output_type": "execute_result"
    }
   ],
   "source": [
    "nums = [1, 7, 6, 5, 3]\n",
    "nums = [1,3,5]\n",
    "nums = [11,12,5,5,1,3,4,5,3,20]\n",
    "\n",
    "equivalent_indices(nums)"
   ]
  },
  {
   "cell_type": "code",
   "execution_count": null,
   "id": "6f9fceab-1827-41b5-9a1a-156f1acecdd0",
   "metadata": {},
   "outputs": [],
   "source": []
  },
  {
   "cell_type": "code",
   "execution_count": null,
   "id": "fb773779-3857-447b-a38a-8ee6993519b4",
   "metadata": {},
   "outputs": [],
   "source": []
  },
  {
   "cell_type": "code",
   "execution_count": null,
   "id": "dbf3f883-0232-4c3d-af4e-e82442a2ae34",
   "metadata": {},
   "outputs": [],
   "source": []
  },
  {
   "cell_type": "code",
   "execution_count": null,
   "id": "c07a2c48-5de2-45b0-8b7d-bcc0975371fd",
   "metadata": {},
   "outputs": [],
   "source": []
  },
  {
   "cell_type": "code",
   "execution_count": null,
   "id": "38a52713-0735-42bd-b9e3-6083997f9f68",
   "metadata": {},
   "outputs": [],
   "source": []
  },
  {
   "cell_type": "code",
   "execution_count": null,
   "id": "607b4103-e484-4729-ae36-51a99e4107e9",
   "metadata": {},
   "outputs": [],
   "source": []
  }
 ],
 "metadata": {
  "kernelspec": {
   "display_name": "Py310",
   "language": "python",
   "name": "py310"
  },
  "language_info": {
   "codemirror_mode": {
    "name": "ipython",
    "version": 3
   },
   "file_extension": ".py",
   "mimetype": "text/x-python",
   "name": "python",
   "nbconvert_exporter": "python",
   "pygments_lexer": "ipython3",
   "version": "3.10.11"
  }
 },
 "nbformat": 4,
 "nbformat_minor": 5
}
