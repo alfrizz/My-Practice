{
 "cells": [
  {
   "cell_type": "markdown",
   "id": "6dde2564-5734-4b8a-a95f-12bcb9c505e3",
   "metadata": {},
   "source": [
    "Find the Missing Number\n",
    "\n",
    "You have an array of integers, nums of length n spanning 0 to n with one missing. Write a function missing_number that returns the missing number in the array.\n",
    "\n",
    "Note: Complexity of O(n) required."
   ]
  },
  {
   "cell_type": "code",
   "execution_count": 15,
   "id": "28bfc27b-2f6b-4242-aefe-2daeebee7d84",
   "metadata": {},
   "outputs": [],
   "source": [
    "nums = [0,1,2,3,4,5,7]"
   ]
  },
  {
   "cell_type": "code",
   "execution_count": 13,
   "id": "93b7d9ac-b87d-4919-93b2-e33ece558b49",
   "metadata": {},
   "outputs": [],
   "source": [
    "def miss_num(num_array):\n",
    "    for pos in range(num_array[-1]):\n",
    "        if num_array[pos] != pos:\n",
    "            return pos\n",
    "            break\n",
    "    return 'No missing numbers'"
   ]
  },
  {
   "cell_type": "code",
   "execution_count": 16,
   "id": "745e86af-f1bc-4e22-9721-ae2158a18627",
   "metadata": {},
   "outputs": [
    {
     "data": {
      "text/plain": [
       "6"
      ]
     },
     "execution_count": 16,
     "metadata": {},
     "output_type": "execute_result"
    }
   ],
   "source": [
    "miss_num(nums)"
   ]
  },
  {
   "cell_type": "code",
   "execution_count": null,
   "id": "7bc5d363-4d23-4e96-b4e7-061648b779a3",
   "metadata": {},
   "outputs": [],
   "source": []
  },
  {
   "cell_type": "code",
   "execution_count": null,
   "id": "df5e70ad-b704-4126-8ee6-40b20557e994",
   "metadata": {},
   "outputs": [],
   "source": []
  }
 ],
 "metadata": {
  "kernelspec": {
   "display_name": "Py310",
   "language": "python",
   "name": "py310"
  },
  "language_info": {
   "codemirror_mode": {
    "name": "ipython",
    "version": 3
   },
   "file_extension": ".py",
   "mimetype": "text/x-python",
   "name": "python",
   "nbconvert_exporter": "python",
   "pygments_lexer": "ipython3",
   "version": "3.10.11"
  }
 },
 "nbformat": 4,
 "nbformat_minor": 5
}
