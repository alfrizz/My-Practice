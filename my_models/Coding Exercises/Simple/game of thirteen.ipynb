{
 "cells": [
  {
   "cell_type": "code",
   "execution_count": null,
   "id": "1103794d-eb1a-49ba-a9c6-20c243dbe761",
   "metadata": {},
   "outputs": [],
   "source": [
    "# you have a deck of 13 cards, each numbered from 1 through 13. Shuffle this deck and draw cards one by one. A coincidence is when the number on the card matches the order in which the card is drawn. For instance, if the 5th card you draw happens to be a 5, it's a coincidence. You win the game if you get through all the cards without any coincidences. Let's calculate the probability of winning at this game using simulation."
   ]
  },
  {
   "cell_type": "code",
   "execution_count": 56,
   "id": "a1fda476-6131-4854-a49a-4a96e5869524",
   "metadata": {},
   "outputs": [],
   "source": [
    "import numpy as np"
   ]
  },
  {
   "cell_type": "code",
   "execution_count": 27,
   "id": "8c6fddc8-5d46-402d-847e-fc0b10bcfe34",
   "metadata": {},
   "outputs": [
    {
     "data": {
      "text/plain": [
       "[1, 2, 3, 4, 5, 6, 7, 8, 9, 10, 11, 12, 13]"
      ]
     },
     "execution_count": 27,
     "metadata": {},
     "output_type": "execute_result"
    }
   ],
   "source": [
    "deck_len = 13\n",
    "\n",
    "deck = [i+1 for i in range(deck_len)]\n",
    "deck"
   ]
  },
  {
   "cell_type": "code",
   "execution_count": 65,
   "id": "8c01d38a-7755-4c17-b0d7-6f85548a4cac",
   "metadata": {},
   "outputs": [
    {
     "name": "stdout",
     "output_type": "stream",
     "text": [
      "0.3691\n"
     ]
    }
   ],
   "source": [
    "n_sim = 10000\n",
    "n_matches = 0\n",
    "\n",
    "for i in range(n_sim):\n",
    "    np.random.shuffle(deck)\n",
    "    for i in range(deck_len):\n",
    "        if deck[i] == i+1:\n",
    "            n_matches +=1\n",
    "            break\n",
    "            \n",
    "print((n_sim - n_matches) / n_sim)"
   ]
  },
  {
   "cell_type": "code",
   "execution_count": null,
   "id": "b99dec04-ebee-4264-96a7-b4962d6985c4",
   "metadata": {},
   "outputs": [],
   "source": []
  }
 ],
 "metadata": {
  "kernelspec": {
   "display_name": "Py310",
   "language": "python",
   "name": "py310"
  },
  "language_info": {
   "codemirror_mode": {
    "name": "ipython",
    "version": 3
   },
   "file_extension": ".py",
   "mimetype": "text/x-python",
   "name": "python",
   "nbconvert_exporter": "python",
   "pygments_lexer": "ipython3",
   "version": "3.10.11"
  }
 },
 "nbformat": 4,
 "nbformat_minor": 5
}
