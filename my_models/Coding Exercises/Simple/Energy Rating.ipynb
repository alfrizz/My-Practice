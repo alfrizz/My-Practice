{
 "cells": [
  {
   "cell_type": "code",
   "execution_count": 9,
   "id": "b593dcb3-974d-4c31-a1c9-c22f3f9c660b",
   "metadata": {},
   "outputs": [],
   "source": [
    "def energy_rating():\n",
    "    \n",
    "    while ValueError:        \n",
    "        try:\n",
    "            lum_flux = int(input('Insert the luminous flux (in lm)'))\n",
    "            break\n",
    "        except ValueError: \n",
    "            print('Insert a numeric value for the luminous flux')\n",
    "        \n",
    "    while ValueError:        \n",
    "        try:\n",
    "            pow_cons = int(input('Insert the power consumption (in kW)'))\n",
    "            break\n",
    "        except ValueError: \n",
    "            print('Insert a numeric value for the power consumption')\n",
    "            \n",
    "    \n",
    "    if lum_flux/pow_cons >= 210:\n",
    "        eff_rate = 'A'\n",
    "    elif lum_flux/pow_cons >= 185:\n",
    "        eff_rate = 'B'    \n",
    "    elif lum_flux/pow_cons >= 160:\n",
    "        eff_rate = 'C'   \n",
    "    elif lum_flux/pow_cons >= 135:\n",
    "        eff_rate = 'D'   \n",
    "    elif lum_flux/pow_cons >= 110:\n",
    "        eff_rate = 'E'   \n",
    "    elif lum_flux/pow_cons >= 85:\n",
    "        eff_rate = 'F'   \n",
    "    else:\n",
    "        eff_rate = 'G'\n",
    "        \n",
    "    print ('The correspondent efficieny rate is:', eff_rate)"
   ]
  },
  {
   "cell_type": "code",
   "execution_count": 10,
   "id": "b48f7a8d-7a30-4d1e-8f73-8654c0ce5144",
   "metadata": {},
   "outputs": [
    {
     "name": "stdin",
     "output_type": "stream",
     "text": [
      "Insert the luminous flux (in lm) 840\n",
      "Insert the power consumption (in kW) 4\n"
     ]
    },
    {
     "name": "stdout",
     "output_type": "stream",
     "text": [
      "The correspondent efficieny rate is: A\n"
     ]
    }
   ],
   "source": [
    "energy_rating()"
   ]
  }
 ],
 "metadata": {
  "kernelspec": {
   "display_name": "Py309",
   "language": "python",
   "name": "py309"
  },
  "language_info": {
   "codemirror_mode": {
    "name": "ipython",
    "version": 3
   },
   "file_extension": ".py",
   "mimetype": "text/x-python",
   "name": "python",
   "nbconvert_exporter": "python",
   "pygments_lexer": "ipython3",
   "version": "3.9.16"
  }
 },
 "nbformat": 4,
 "nbformat_minor": 5
}
