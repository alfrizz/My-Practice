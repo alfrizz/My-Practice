{
 "cells": [
  {
   "cell_type": "markdown",
   "id": "af717aa9-927f-4c8f-b836-c19bb428a010",
   "metadata": {},
   "source": [
    "You are given an N-dimensional array (a nested list) and your task is to convert it into a 1D array. The N-dimensional array can have any number of nested lists and each nested list can contain any number of elements. The elements in the nested lists are integers. Write a function that takes an N-dimensional array as input and returns a 1D array."
   ]
  },
  {
   "cell_type": "code",
   "execution_count": 1,
   "id": "d5ebe4f6-7958-4847-ac9c-d854918a1990",
   "metadata": {},
   "outputs": [],
   "source": [
    "array1 = [1, [2, 3], [4, [5, 6]], 7]\n",
    "array2 = [[1, 2], [3, 4], [5, 6]]"
   ]
  },
  {
   "cell_type": "code",
   "execution_count": 2,
   "id": "f82fc2ea-9830-46cb-b85b-683fa88e0da2",
   "metadata": {},
   "outputs": [],
   "source": [
    "def flatten_array(input_list):\n",
    "    \n",
    "    while any(isinstance(item, list) for item in input_list):\n",
    "        \n",
    "        flat_list = []\n",
    "              \n",
    "        for sub_list in input_list:\n",
    "              \n",
    "            print('sub_list',sub_list) ###########\n",
    "            if type(sub_list) == list:\n",
    "                flat_list.extend(sub_list)\n",
    "            else:\n",
    "                flat_list.append(sub_list)\n",
    "              \n",
    "        print('flat_list', flat_list) #########    \n",
    "        input_list = flat_list\n",
    "        \n",
    "    return flat_list\n",
    "        \n",
    "    "
   ]
  },
  {
   "cell_type": "code",
   "execution_count": 3,
   "id": "d12f1942-d2af-4670-a61a-2835b14f33b4",
   "metadata": {},
   "outputs": [
    {
     "name": "stdout",
     "output_type": "stream",
     "text": [
      "sub_list 1\n",
      "sub_list [2, 3]\n",
      "sub_list [4, [5, 6]]\n",
      "sub_list 7\n",
      "flat_list [1, 2, 3, 4, [5, 6], 7]\n",
      "sub_list 1\n",
      "sub_list 2\n",
      "sub_list 3\n",
      "sub_list 4\n",
      "sub_list [5, 6]\n",
      "sub_list 7\n",
      "flat_list [1, 2, 3, 4, 5, 6, 7]\n"
     ]
    },
    {
     "data": {
      "text/plain": [
       "[1, 2, 3, 4, 5, 6, 7]"
      ]
     },
     "execution_count": 3,
     "metadata": {},
     "output_type": "execute_result"
    }
   ],
   "source": [
    "flatten_array(array1)"
   ]
  },
  {
   "cell_type": "code",
   "execution_count": 4,
   "id": "a716ed85-ffbb-4de5-99ba-7b704f6d83e2",
   "metadata": {},
   "outputs": [
    {
     "name": "stdout",
     "output_type": "stream",
     "text": [
      "sub_list [1, 2]\n",
      "sub_list [3, 4]\n",
      "sub_list [5, 6]\n",
      "flat_list [1, 2, 3, 4, 5, 6]\n"
     ]
    },
    {
     "data": {
      "text/plain": [
       "[1, 2, 3, 4, 5, 6]"
      ]
     },
     "execution_count": 4,
     "metadata": {},
     "output_type": "execute_result"
    }
   ],
   "source": [
    "flatten_array(array2)"
   ]
  }
 ],
 "metadata": {
  "kernelspec": {
   "display_name": "Py310",
   "language": "python",
   "name": "py310"
  },
  "language_info": {
   "codemirror_mode": {
    "name": "ipython",
    "version": 3
   },
   "file_extension": ".py",
   "mimetype": "text/x-python",
   "name": "python",
   "nbconvert_exporter": "python",
   "pygments_lexer": "ipython3",
   "version": "3.10.11"
  }
 },
 "nbformat": 4,
 "nbformat_minor": 5
}
