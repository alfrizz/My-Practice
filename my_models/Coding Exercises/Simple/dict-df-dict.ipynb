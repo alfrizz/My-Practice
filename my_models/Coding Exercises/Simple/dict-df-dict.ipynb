{
 "cells": [
  {
   "cell_type": "code",
   "execution_count": null,
   "id": "146b2fb6-e72e-42af-b811-80f7d314539f",
   "metadata": {},
   "outputs": [],
   "source": [
    "#  write a Python function that takes the data list as input and returns a new list of dictionaries. The new list should contain unique fruits only, and the count of each fruit should be the sum of counts in the original list:\n",
    "        \n",
    "# [\n",
    "# {'fruit': 'apple', 'count': 8},\n",
    "# {'fruit': 'banana', 'count': 10},\n",
    "# {'fruit': 'orange', 'count': 10},\n",
    "# {'fruit': 'kiwi', 'count': 10}\n",
    "# ]"
   ]
  },
  {
   "cell_type": "code",
   "execution_count": 1,
   "id": "8ec2fa8d-95fb-4992-9724-39bcc05538ed",
   "metadata": {},
   "outputs": [],
   "source": [
    "data = [\n",
    "    {'fruit': 'apple', 'count': 5},\n",
    "    {'fruit': 'banana', 'count': 4},\n",
    "    {'fruit': 'orange', 'count': 10},\n",
    "    {'fruit': 'kiwi', 'count': 6},\n",
    "    {'fruit': 'apple', 'count': 3},\n",
    "    {'fruit': 'banana', 'count': 6},\n",
    "    {'fruit': 'kiwi', 'count': 4}\n",
    "]"
   ]
  },
  {
   "cell_type": "code",
   "execution_count": 5,
   "id": "80e7f6d6-e56f-44aa-814d-b8ee386f9ce6",
   "metadata": {},
   "outputs": [
    {
     "data": {
      "text/plain": [
       "'apple'"
      ]
     },
     "execution_count": 5,
     "metadata": {},
     "output_type": "execute_result"
    }
   ],
   "source": [
    "data[0]['fruit']"
   ]
  },
  {
   "cell_type": "code",
   "execution_count": 7,
   "id": "488ed235-a611-41e2-a0b2-552b0c4d739c",
   "metadata": {},
   "outputs": [
    {
     "data": {
      "text/html": [
       "<div>\n",
       "<style scoped>\n",
       "    .dataframe tbody tr th:only-of-type {\n",
       "        vertical-align: middle;\n",
       "    }\n",
       "\n",
       "    .dataframe tbody tr th {\n",
       "        vertical-align: top;\n",
       "    }\n",
       "\n",
       "    .dataframe thead th {\n",
       "        text-align: right;\n",
       "    }\n",
       "</style>\n",
       "<table border=\"1\" class=\"dataframe\">\n",
       "  <thead>\n",
       "    <tr style=\"text-align: right;\">\n",
       "      <th></th>\n",
       "      <th>fruit</th>\n",
       "      <th>count</th>\n",
       "    </tr>\n",
       "  </thead>\n",
       "  <tbody>\n",
       "    <tr>\n",
       "      <th>0</th>\n",
       "      <td>apple</td>\n",
       "      <td>5</td>\n",
       "    </tr>\n",
       "    <tr>\n",
       "      <th>1</th>\n",
       "      <td>banana</td>\n",
       "      <td>4</td>\n",
       "    </tr>\n",
       "    <tr>\n",
       "      <th>2</th>\n",
       "      <td>orange</td>\n",
       "      <td>10</td>\n",
       "    </tr>\n",
       "    <tr>\n",
       "      <th>3</th>\n",
       "      <td>kiwi</td>\n",
       "      <td>6</td>\n",
       "    </tr>\n",
       "    <tr>\n",
       "      <th>4</th>\n",
       "      <td>apple</td>\n",
       "      <td>3</td>\n",
       "    </tr>\n",
       "    <tr>\n",
       "      <th>5</th>\n",
       "      <td>banana</td>\n",
       "      <td>6</td>\n",
       "    </tr>\n",
       "    <tr>\n",
       "      <th>6</th>\n",
       "      <td>kiwi</td>\n",
       "      <td>4</td>\n",
       "    </tr>\n",
       "  </tbody>\n",
       "</table>\n",
       "</div>"
      ],
      "text/plain": [
       "    fruit  count\n",
       "0   apple      5\n",
       "1  banana      4\n",
       "2  orange     10\n",
       "3    kiwi      6\n",
       "4   apple      3\n",
       "5  banana      6\n",
       "6    kiwi      4"
      ]
     },
     "execution_count": 7,
     "metadata": {},
     "output_type": "execute_result"
    }
   ],
   "source": [
    "import pandas as pd\n",
    "\n",
    "data_df = pd.DataFrame(data)\n",
    "data_df"
   ]
  },
  {
   "cell_type": "code",
   "execution_count": 13,
   "id": "49efc737-4f5f-4d75-a0c8-b81c4a0627c9",
   "metadata": {},
   "outputs": [
    {
     "data": {
      "text/html": [
       "<div>\n",
       "<style scoped>\n",
       "    .dataframe tbody tr th:only-of-type {\n",
       "        vertical-align: middle;\n",
       "    }\n",
       "\n",
       "    .dataframe tbody tr th {\n",
       "        vertical-align: top;\n",
       "    }\n",
       "\n",
       "    .dataframe thead th {\n",
       "        text-align: right;\n",
       "    }\n",
       "</style>\n",
       "<table border=\"1\" class=\"dataframe\">\n",
       "  <thead>\n",
       "    <tr style=\"text-align: right;\">\n",
       "      <th></th>\n",
       "      <th>fruit</th>\n",
       "      <th>count</th>\n",
       "    </tr>\n",
       "  </thead>\n",
       "  <tbody>\n",
       "    <tr>\n",
       "      <th>0</th>\n",
       "      <td>apple</td>\n",
       "      <td>8</td>\n",
       "    </tr>\n",
       "    <tr>\n",
       "      <th>1</th>\n",
       "      <td>banana</td>\n",
       "      <td>10</td>\n",
       "    </tr>\n",
       "    <tr>\n",
       "      <th>2</th>\n",
       "      <td>kiwi</td>\n",
       "      <td>10</td>\n",
       "    </tr>\n",
       "    <tr>\n",
       "      <th>3</th>\n",
       "      <td>orange</td>\n",
       "      <td>10</td>\n",
       "    </tr>\n",
       "  </tbody>\n",
       "</table>\n",
       "</div>"
      ],
      "text/plain": [
       "    fruit  count\n",
       "0   apple      8\n",
       "1  banana     10\n",
       "2    kiwi     10\n",
       "3  orange     10"
      ]
     },
     "execution_count": 13,
     "metadata": {},
     "output_type": "execute_result"
    }
   ],
   "source": [
    "agg_data_df = data_df.groupby(['fruit']).sum().reset_index()\n",
    "agg_data_df "
   ]
  },
  {
   "cell_type": "code",
   "execution_count": 22,
   "id": "dc361264-3540-467e-bdec-8ee5bb4d61bc",
   "metadata": {},
   "outputs": [],
   "source": [
    "output_list = []\n",
    "\n",
    "for i in range(agg_data_df.shape[0]):\n",
    "    output_list.append(agg_data_df.iloc[i].to_dict())"
   ]
  },
  {
   "cell_type": "code",
   "execution_count": 23,
   "id": "6a816382-9d7d-41fa-935a-53add4ed3c10",
   "metadata": {},
   "outputs": [
    {
     "data": {
      "text/plain": [
       "[{'fruit': 'apple', 'count': 8},\n",
       " {'fruit': 'banana', 'count': 10},\n",
       " {'fruit': 'kiwi', 'count': 10},\n",
       " {'fruit': 'orange', 'count': 10}]"
      ]
     },
     "execution_count": 23,
     "metadata": {},
     "output_type": "execute_result"
    }
   ],
   "source": [
    "output_list"
   ]
  }
 ],
 "metadata": {
  "kernelspec": {
   "display_name": "Py309",
   "language": "python",
   "name": "py309"
  },
  "language_info": {
   "codemirror_mode": {
    "name": "ipython",
    "version": 3
   },
   "file_extension": ".py",
   "mimetype": "text/x-python",
   "name": "python",
   "nbconvert_exporter": "python",
   "pygments_lexer": "ipython3",
   "version": "3.9.19"
  }
 },
 "nbformat": 4,
 "nbformat_minor": 5
}
