{
 "cells": [
  {
   "cell_type": "code",
   "execution_count": 1,
   "id": "dd25f76d-ef3d-4537-a4a2-19a1adcdc14d",
   "metadata": {},
   "outputs": [],
   "source": [
    "# #Proportions and cross products - www.101computing.net/proportions-and-cross-products\n",
    "\n",
    "\n",
    "# num1 = int(input(\"Enter the numerator of your first fraction\"))\n",
    "# den1 = int(input(\"Enter the denominator of your first fraction\"))\n",
    "# print(\"Fraction #1: \" + str(num1) + \"/\" + str(den1))\n",
    "\n",
    "# #Complete the code here to input the second fraction\n",
    "# num2 = int(input(\"Enter the numerator of your second fraction\"))\n",
    "# den2 = int(input(\"Enter the denominator of your second fraction\"))\n",
    "# print(\"Fraction #2: \" + str(num2) + \"/\" + str(den2))\n",
    "\n",
    "# #Then use the cross products to decide and output if the two fractions are equal or not.\n",
    "# if num1*den2 == num2*den1:\n",
    "#     print('The two fractions are equal')\n",
    "# else:\n",
    "#     print('The two fractions are different')"
   ]
  },
  {
   "cell_type": "code",
   "execution_count": 7,
   "id": "81699601-5d25-4394-8817-563e2b62ad6a",
   "metadata": {},
   "outputs": [
    {
     "name": "stdin",
     "output_type": "stream",
     "text": [
      "Enter First Numerator:  55g\n"
     ]
    },
    {
     "name": "stdout",
     "output_type": "stream",
     "text": [
      "You did not enter an integer for First Numerator. Please try again.\n"
     ]
    },
    {
     "name": "stdin",
     "output_type": "stream",
     "text": [
      "Enter First Numerator:  8\n"
     ]
    },
    {
     "name": "stdout",
     "output_type": "stream",
     "text": [
      "You entered First Numerator: 8\n"
     ]
    },
    {
     "name": "stdin",
     "output_type": "stream",
     "text": [
      "Enter First Denominator:  dfg\n"
     ]
    },
    {
     "name": "stdout",
     "output_type": "stream",
     "text": [
      "You did not enter an integer for First Denominator. Please try again.\n"
     ]
    },
    {
     "name": "stdin",
     "output_type": "stream",
     "text": [
      "Enter First Denominator:  6\n"
     ]
    },
    {
     "name": "stdout",
     "output_type": "stream",
     "text": [
      "You entered First Denominator: 6\n"
     ]
    },
    {
     "name": "stdin",
     "output_type": "stream",
     "text": [
      "Enter Second numerator:  \n"
     ]
    },
    {
     "name": "stdout",
     "output_type": "stream",
     "text": [
      "You did not enter an integer for Second numerator. Please try again.\n"
     ]
    },
    {
     "name": "stdin",
     "output_type": "stream",
     "text": [
      "Enter Second numerator:  f\n"
     ]
    },
    {
     "name": "stdout",
     "output_type": "stream",
     "text": [
      "You did not enter an integer for Second numerator. Please try again.\n"
     ]
    },
    {
     "name": "stdin",
     "output_type": "stream",
     "text": [
      "Enter Second numerator:  6\n"
     ]
    },
    {
     "name": "stdout",
     "output_type": "stream",
     "text": [
      "You entered Second numerator: 6\n"
     ]
    },
    {
     "name": "stdin",
     "output_type": "stream",
     "text": [
      "Enter Second denominator:  8\n"
     ]
    },
    {
     "name": "stdout",
     "output_type": "stream",
     "text": [
      "You entered Second denominator: 8\n",
      "Fraction #1: 8/6\n",
      "Fraction #2: 6/8\n",
      "The two fractions are different\n"
     ]
    }
   ],
   "source": [
    "inputs = {'num1':'', 'den1':'','num2':'', 'den2':''}  # list to store the inputs\n",
    "messages = [\"First Numerator\", \"First Denominator\", \"Second numerator\", \"Second denominator\"]  # messages for each input\n",
    "\n",
    "for i in range(len(messages)):\n",
    "    while True:\n",
    "        try:\n",
    "            val = int(input(f\"Enter {messages[i]}: \"))\n",
    "            inputs[list(inputs.keys())[i]] = val  # save the input\n",
    "            print(f\"You entered {messages[i]}: {val}\")\n",
    "            break  # exit the loop once the user enters an integer\n",
    "        except ValueError:\n",
    "            print(f\"You did not enter an integer for {messages[i]}. Please try again.\")\n",
    "            \n",
    "print(\"Fraction #1: \" + str(inputs['num1']) + \"/\" + str(inputs['den1']))\n",
    "print(\"Fraction #2: \" + str(inputs['num2']) + \"/\" + str(inputs['den2']))\n",
    "\n",
    "#Then use the cross products to decide and output if the two fractions are equal or not.\n",
    "if inputs['num1']*inputs['den2'] == inputs['num2']*inputs['den1']:\n",
    "    print('The two fractions are equal')\n",
    "else:\n",
    "    print('The two fractions are different')"
   ]
  },
  {
   "cell_type": "code",
   "execution_count": null,
   "id": "91083162-3a37-446e-95b3-18f20edb3b84",
   "metadata": {},
   "outputs": [],
   "source": []
  }
 ],
 "metadata": {
  "kernelspec": {
   "display_name": "Py309",
   "language": "python",
   "name": "py309"
  },
  "language_info": {
   "codemirror_mode": {
    "name": "ipython",
    "version": 3
   },
   "file_extension": ".py",
   "mimetype": "text/x-python",
   "name": "python",
   "nbconvert_exporter": "python",
   "pygments_lexer": "ipython3",
   "version": "3.9.19"
  }
 },
 "nbformat": 4,
 "nbformat_minor": 5
}
