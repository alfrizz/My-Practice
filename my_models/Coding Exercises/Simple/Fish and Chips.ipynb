{
 "cells": [
  {
   "cell_type": "code",
   "execution_count": 1,
   "id": "ff8ed3c8-5af7-456a-84b4-af8d1f57725b",
   "metadata": {},
   "outputs": [
    {
     "name": "stdout",
     "output_type": "stream",
     "text": [
      "fish and chips\n"
     ]
    }
   ],
   "source": [
    "a = \"chips\"\n",
    "b = \"fish\"\n",
    "c = a\n",
    "a = b\n",
    "b = c\n",
    "print(a + \" and \" + b)"
   ]
  }
 ],
 "metadata": {
  "kernelspec": {
   "display_name": "Py309",
   "language": "python",
   "name": "py309"
  },
  "language_info": {
   "codemirror_mode": {
    "name": "ipython",
    "version": 3
   },
   "file_extension": ".py",
   "mimetype": "text/x-python",
   "name": "python",
   "nbconvert_exporter": "python",
   "pygments_lexer": "ipython3",
   "version": "3.9.16"
  }
 },
 "nbformat": 4,
 "nbformat_minor": 5
}
