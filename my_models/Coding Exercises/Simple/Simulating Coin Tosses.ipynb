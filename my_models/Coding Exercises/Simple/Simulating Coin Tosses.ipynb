{
 "cells": [
  {
   "cell_type": "markdown",
   "id": "2d286d5d-1ab2-450b-9530-b1bbd3d6ce65",
   "metadata": {},
   "source": [
    "Write a function that takes an input as the number of tosses and a probability of heads and return a list of randomly generated results equal in length to the number of tosses. Each result represents the outcome of a coin toss, where ‘H’ represents heads and ’T’ represents tails.\n",
    "\n",
    "---\n",
    "\n",
    "Example 1:\n",
    "\n",
    "Input:\n",
    "\n",
    "tosses = 5\n",
    "probability_of_heads = 0.6\n",
    "\n",
    "Output:\n",
    "coin_toss(tosses, probability_of_heads) -> ['H', 'T', 'H', 'H', 'T']\n",
    "\n",
    "---\n",
    "\n",
    "Example 2:\n",
    "\n",
    "Input:\n",
    "\n",
    "tosses = 3\n",
    "probability_of_heads = 0.2\n",
    "\n",
    "Output:\n",
    "coin_toss(tosses, probability_of_heads) -> ['T', 'T', 'T']\n",
    "\n",
    "---\n",
    "\n",
    "The output may vary due to the randomness of coin tosses."
   ]
  },
  {
   "cell_type": "code",
   "execution_count": 196,
   "id": "c8bc7c01-77de-44dd-9565-b12a94190128",
   "metadata": {},
   "outputs": [],
   "source": [
    "import random\n",
    "import numpy as np\n",
    "\n",
    "def coin_tosses(n_tosses, prob_head): \n",
    "    \n",
    "    tosses = []\n",
    "    precision = 1000\n",
    "    prob_head_adj = np.round(prob_head, 3) * precision\n",
    "    \n",
    "    for toss in range(n_tosses):\n",
    "        extraction = random.randint(1, precision)\n",
    "        if extraction <= prob_head_adj:\n",
    "            tosses.append('H')\n",
    "        else:\n",
    "            tosses.append('T')\n",
    "            \n",
    "    return tosses"
   ]
  },
  {
   "cell_type": "code",
   "execution_count": 263,
   "id": "c9a53a28-90ef-43e5-9005-ff53075fc6eb",
   "metadata": {},
   "outputs": [
    {
     "data": {
      "text/plain": [
       "['H', 'H', 'H', 'H', 'T', 'H', 'T', 'H', 'T', 'H', 'T', 'H', 'H', 'T', 'H']"
      ]
     },
     "execution_count": 263,
     "metadata": {},
     "output_type": "execute_result"
    }
   ],
   "source": [
    "coin_tosses(15, 0.8)\n"
   ]
  },
  {
   "cell_type": "code",
   "execution_count": null,
   "id": "c4f6979c-d591-49e0-bb69-80c96009eb08",
   "metadata": {},
   "outputs": [],
   "source": []
  },
  {
   "cell_type": "code",
   "execution_count": null,
   "id": "3d60d157-3fd0-4123-b367-2fc891f2e069",
   "metadata": {},
   "outputs": [],
   "source": []
  },
  {
   "cell_type": "code",
   "execution_count": null,
   "id": "6ffb6b32-1707-4887-9aec-bfb16be39c66",
   "metadata": {},
   "outputs": [],
   "source": []
  },
  {
   "cell_type": "code",
   "execution_count": null,
   "id": "d42e68c1-ae76-44fb-b5cc-5a43ee380c77",
   "metadata": {},
   "outputs": [],
   "source": []
  },
  {
   "cell_type": "code",
   "execution_count": null,
   "id": "4376c9f3-3a01-40c7-8311-752ae78eea88",
   "metadata": {},
   "outputs": [],
   "source": []
  },
  {
   "cell_type": "code",
   "execution_count": null,
   "id": "067d1baf-d4b5-4479-9b7c-212657ab80b2",
   "metadata": {},
   "outputs": [],
   "source": []
  }
 ],
 "metadata": {
  "kernelspec": {
   "display_name": "Py310",
   "language": "python",
   "name": "py310"
  },
  "language_info": {
   "codemirror_mode": {
    "name": "ipython",
    "version": 3
   },
   "file_extension": ".py",
   "mimetype": "text/x-python",
   "name": "python",
   "nbconvert_exporter": "python",
   "pygments_lexer": "ipython3",
   "version": "3.10.11"
  }
 },
 "nbformat": 4,
 "nbformat_minor": 5
}
