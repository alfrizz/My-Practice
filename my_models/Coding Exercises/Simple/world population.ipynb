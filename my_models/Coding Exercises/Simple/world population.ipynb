{
 "cells": [
  {
   "cell_type": "code",
   "execution_count": 32,
   "id": "6360685a-7784-48c3-8c64-d870cf8027b2",
   "metadata": {},
   "outputs": [],
   "source": [
    "import time\n",
    "\n",
    "def world_popul(increase_rate=0.01):\n",
    "\n",
    "    year = int(time.ctime()[-4:])\n",
    "    \n",
    "    while ValueError:\n",
    "        try:\n",
    "            population = int(input('Insert the current world population'))\n",
    "            break\n",
    "        except ValueError: \n",
    "            print('Insert a numeric value for the current world population')\n",
    "            \n",
    "    while ValueError:        \n",
    "        try:\n",
    "            your_age = int(input('Insert your current age'))\n",
    "            break\n",
    "        except ValueError: \n",
    "            print('Insert a numeric value for your current age')\n",
    "            \n",
    "    print('current year:', year, 'current population:', population, 'your current age:', your_age)\n",
    "         \n",
    "    while population<=10000000000 or year<=2050:\n",
    "        time.sleep(0.3)\n",
    "        year+=1\n",
    "        population*=1+increase_rate\n",
    "        population = int(population)\n",
    "        your_age+=1\n",
    "        print('year:', year, 'population:', population, 'your age:', your_age)"
   ]
  },
  {
   "cell_type": "code",
   "execution_count": 33,
   "id": "ff3dc87d-dbeb-415b-8ef2-d6f622f23212",
   "metadata": {},
   "outputs": [
    {
     "name": "stdin",
     "output_type": "stream",
     "text": [
      "Insert the current world population 7000000000\n",
      "Insert your current age 41\n"
     ]
    },
    {
     "name": "stdout",
     "output_type": "stream",
     "text": [
      "current year: 2023 current population: 7000000000 your current age: 41\n",
      "year: 2024 population: 7070000000 your age: 42\n",
      "year: 2025 population: 7140700000 your age: 43\n",
      "year: 2026 population: 7212107000 your age: 44\n",
      "year: 2027 population: 7284228070 your age: 45\n",
      "year: 2028 population: 7357070350 your age: 46\n",
      "year: 2029 population: 7430641053 your age: 47\n",
      "year: 2030 population: 7504947463 your age: 48\n",
      "year: 2031 population: 7579996937 your age: 49\n",
      "year: 2032 population: 7655796906 your age: 50\n",
      "year: 2033 population: 7732354875 your age: 51\n",
      "year: 2034 population: 7809678423 your age: 52\n",
      "year: 2035 population: 7887775207 your age: 53\n",
      "year: 2036 population: 7966652959 your age: 54\n",
      "year: 2037 population: 8046319488 your age: 55\n",
      "year: 2038 population: 8126782682 your age: 56\n",
      "year: 2039 population: 8208050508 your age: 57\n",
      "year: 2040 population: 8290131013 your age: 58\n",
      "year: 2041 population: 8373032323 your age: 59\n",
      "year: 2042 population: 8456762646 your age: 60\n",
      "year: 2043 population: 8541330272 your age: 61\n",
      "year: 2044 population: 8626743574 your age: 62\n",
      "year: 2045 population: 8713011009 your age: 63\n",
      "year: 2046 population: 8800141119 your age: 64\n",
      "year: 2047 population: 8888142530 your age: 65\n",
      "year: 2048 population: 8977023955 your age: 66\n",
      "year: 2049 population: 9066794194 your age: 67\n",
      "year: 2050 population: 9157462135 your age: 68\n",
      "year: 2051 population: 9249036756 your age: 69\n",
      "year: 2052 population: 9341527123 your age: 70\n",
      "year: 2053 population: 9434942394 your age: 71\n",
      "year: 2054 population: 9529291817 your age: 72\n",
      "year: 2055 population: 9624584735 your age: 73\n",
      "year: 2056 population: 9720830582 your age: 74\n",
      "year: 2057 population: 9818038887 your age: 75\n",
      "year: 2058 population: 9916219275 your age: 76\n",
      "year: 2059 population: 10015381467 your age: 77\n"
     ]
    }
   ],
   "source": [
    "world_popul()"
   ]
  }
 ],
 "metadata": {
  "kernelspec": {
   "display_name": "Py309",
   "language": "python",
   "name": "py309"
  },
  "language_info": {
   "codemirror_mode": {
    "name": "ipython",
    "version": 3
   },
   "file_extension": ".py",
   "mimetype": "text/x-python",
   "name": "python",
   "nbconvert_exporter": "python",
   "pygments_lexer": "ipython3",
   "version": "3.9.16"
  }
 },
 "nbformat": 4,
 "nbformat_minor": 5
}
