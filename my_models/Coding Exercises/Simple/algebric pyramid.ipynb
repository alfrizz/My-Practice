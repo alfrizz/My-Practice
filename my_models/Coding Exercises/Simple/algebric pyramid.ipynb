{
 "cells": [
  {
   "cell_type": "code",
   "execution_count": 10,
   "id": "b3ac8788-8230-4369-a19c-aca7a0700f28",
   "metadata": {},
   "outputs": [
    {
     "name": "stdout",
     "output_type": "stream",
     "text": [
      "[30, 12, 10, 5, 5, 6, 435, 75747, 2, 5]\n",
      "[42, 22, 15, 10, 11, 441, 76182, 75749, 7]\n",
      "[64, 37, 25, 21, 452, 76623, 151931, 75756]\n",
      "[101, 62, 46, 473, 77075, 228554, 227687]\n",
      "[163, 108, 519, 77548, 305629, 456241]\n",
      "[271, 627, 78067, 383177, 761870]\n",
      "[898, 78694, 461244, 1145047]\n",
      "[79592, 539938, 1606291]\n",
      "[619530, 2146229]\n",
      "[2765759]\n"
     ]
    }
   ],
   "source": [
    "#Algebric Pyramid Challenge - www.101computing.net/algebraic-pyramid-challenge/\n",
    "\n",
    "def drawPyramid(base_list):\n",
    "    while (len(base_list) > 0):\n",
    "        temp_list = []\n",
    "        for i in range(len(base_list)-1):\n",
    "            temp_list.append(base_list[i]+base_list[i+1])\n",
    "        print(base_list)\n",
    "        base_list = temp_list\n",
    "            \n",
    "        \n",
    "#Main code starts here  \n",
    "base_list = [30,12,10,5, 5, 6, 435, 75747, 2, 5]\n",
    "drawPyramid(base_list)"
   ]
  },
  {
   "cell_type": "code",
   "execution_count": null,
   "id": "e85350ec-36d1-46b6-bdfe-e852403b7e25",
   "metadata": {},
   "outputs": [],
   "source": []
  }
 ],
 "metadata": {
  "kernelspec": {
   "display_name": "Py309",
   "language": "python",
   "name": "py309"
  },
  "language_info": {
   "codemirror_mode": {
    "name": "ipython",
    "version": 3
   },
   "file_extension": ".py",
   "mimetype": "text/x-python",
   "name": "python",
   "nbconvert_exporter": "python",
   "pygments_lexer": "ipython3",
   "version": "3.9.16"
  }
 },
 "nbformat": 4,
 "nbformat_minor": 5
}
