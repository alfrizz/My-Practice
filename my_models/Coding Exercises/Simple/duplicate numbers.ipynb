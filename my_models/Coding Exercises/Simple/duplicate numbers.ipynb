{
 "cells": [
  {
   "cell_type": "code",
   "execution_count": null,
   "id": "31b060e6-023c-4c29-b9a3-e08da56edf27",
   "metadata": {},
   "outputs": [],
   "source": [
    "# Given a list of integers, identify all the duplicate values in the list. Assume that the list can contain both positive and negative numbers, and the order of the list does not matter. A number is considered a duplicate if it appears more than once in the list. Return a list of the duplicate numbers."
   ]
  },
  {
   "cell_type": "code",
   "execution_count": 49,
   "id": "4c6d7062-cd40-4e14-b471-1dbada35cb8e",
   "metadata": {},
   "outputs": [],
   "source": [
    "nums = [1, 2, 6, 3, 1, 2, 3, 4, 8, 8, 9, 2]"
   ]
  },
  {
   "cell_type": "code",
   "execution_count": 50,
   "id": "2b0e22de-c132-4e62-a298-3463a763f087",
   "metadata": {},
   "outputs": [],
   "source": [
    "def duplic_numb(list_nums):\n",
    "    dupl_nums = []\n",
    "    uniq_nums = list(set(list_nums))\n",
    "    for unique in uniq_nums:\n",
    "        list_nums.remove(unique)\n",
    "        if unique in list_nums:\n",
    "            dupl_nums.append(unique)\n",
    "    return dupl_nums\n"
   ]
  },
  {
   "cell_type": "code",
   "execution_count": 51,
   "id": "963b51ce-4f57-4935-ba52-677de6222d99",
   "metadata": {},
   "outputs": [
    {
     "data": {
      "text/plain": [
       "[1, 2, 3, 8]"
      ]
     },
     "execution_count": 51,
     "metadata": {},
     "output_type": "execute_result"
    }
   ],
   "source": [
    "duplic_numb(nums)"
   ]
  },
  {
   "cell_type": "code",
   "execution_count": null,
   "id": "2bb82001-3c70-4e17-8666-0ae98c78d681",
   "metadata": {},
   "outputs": [],
   "source": []
  },
  {
   "cell_type": "code",
   "execution_count": null,
   "id": "8b86a478-2db9-41d8-b668-7d528689967e",
   "metadata": {},
   "outputs": [],
   "source": []
  },
  {
   "cell_type": "code",
   "execution_count": null,
   "id": "f6690d9b-97ef-4f0f-95d7-193df8186c0a",
   "metadata": {},
   "outputs": [],
   "source": []
  },
  {
   "cell_type": "code",
   "execution_count": null,
   "id": "67ea06d6-2aa2-4b7f-8350-b987ce2b9325",
   "metadata": {},
   "outputs": [],
   "source": []
  },
  {
   "cell_type": "code",
   "execution_count": null,
   "id": "a6f7eab7-f91b-4188-94ef-e21cd643c84e",
   "metadata": {},
   "outputs": [],
   "source": []
  },
  {
   "cell_type": "code",
   "execution_count": null,
   "id": "2284f0c1-0a30-4d92-be46-7ac7517d8fba",
   "metadata": {},
   "outputs": [],
   "source": []
  }
 ],
 "metadata": {
  "kernelspec": {
   "display_name": "Py310",
   "language": "python",
   "name": "py310"
  },
  "language_info": {
   "codemirror_mode": {
    "name": "ipython",
    "version": 3
   },
   "file_extension": ".py",
   "mimetype": "text/x-python",
   "name": "python",
   "nbconvert_exporter": "python",
   "pygments_lexer": "ipython3",
   "version": "3.10.11"
  }
 },
 "nbformat": 4,
 "nbformat_minor": 5
}
