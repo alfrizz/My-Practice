{
 "cells": [
  {
   "cell_type": "markdown",
   "id": "eeba27ee-5ffa-48f5-8209-dffbcda706a5",
   "metadata": {},
   "source": [
    "Bootstrapping Confidence Intervals\n",
    "\n",
    "You are given an array of numerical values, bootstrap samples, and size for a confidence interval.\n",
    "\n",
    "Write a function that performs bootstrap sampling on the given array and calculates the confidence interval based on the given size.\n",
    "\n",
    "Note: The function should return a tuple containing the minimum and maximum values of the confidence interval rounded to the tenths place.\n",
    "\n",
    "Example\n",
    "\n",
    "Input:\n",
    "\n",
    "values = [1, 2, 3, 4, 5]\n",
    "\n",
    "Output\n",
    "\n",
    "bootstrap_conf_interval(values, 1000, 0.95) -> (1.2, 4.8)\n",
    "\n",
    "In this case, the function returns a tuple indicating that we are 95% confident that the population parameter lies between 1.2 and 4.8 based on our bootstrap samples.\n",
    "\n",
    "Note: Results may vary due to the randomness of bootstrap sampling."
   ]
  },
  {
   "cell_type": "code",
   "execution_count": 39,
   "id": "40cd01cd-bfd0-462c-8a90-10e485960ba6",
   "metadata": {},
   "outputs": [],
   "source": [
    "import random\n",
    "import pandas as pd\n",
    "import numpy as np\n",
    "import matplotlib.pyplot as plt"
   ]
  },
  {
   "cell_type": "code",
   "execution_count": 21,
   "id": "c10242f8-0164-4aa9-83ec-f82b71addc4c",
   "metadata": {},
   "outputs": [],
   "source": [
    "def bootstrap_conf_interval(data, num_samples, conf_interval):\n",
    "    lower_quantile = (1 - conf_interval) / 2\n",
    "    upper_quantile = 1 - lower_quantile\n",
    "    bootstrap_samples = []\n",
    "    for _ in range(num_samples):\n",
    "        bootstrap_sample = []\n",
    "        for _ in range(len(data)):\n",
    "            bootstrap_sample.append(random.choice(data))\n",
    "        bootstrap_samples.append(bootstrap_sample)\n",
    "    bootstrap_means = np.mean(bootstrap_samples, axis=1)\n",
    "    plt.hist(bootstrap_means, bins=20)\n",
    "    return np.quantile(bootstrap_means, [lower_quantile, upper_quantile])\n",
    "        "
   ]
  },
  {
   "cell_type": "code",
   "execution_count": 25,
   "id": "767b7623-4cf5-4227-92a7-858d8f5fe732",
   "metadata": {},
   "outputs": [
    {
     "data": {
      "text/plain": [
       "array([1.8, 4.2])"
      ]
     },
     "execution_count": 25,
     "metadata": {},
     "output_type": "execute_result"
    },
    {
     "data": {
      "image/png": "[encoded data removed]",
      "text/plain": [
       "<Figure size 640x480 with 1 Axes>"
      ]
     },
     "metadata": {},
     "output_type": "display_data"
    }
   ],
   "source": [
    "values = [1, 2, 3, 4, 5]\n",
    "\n",
    "bootstrap_conf_interval(values, 1000, 0.95)"
   ]
  },
  {
   "cell_type": "code",
   "execution_count": 32,
   "id": "c42dcd66-4b1a-49b8-b879-fd3493ff5da0",
   "metadata": {},
   "outputs": [],
   "source": [
    "def bootstrap_conf_interval(data, num_samples, conf_interval):\n",
    "    lower_quantile = (1 - conf_interval) / 2\n",
    "    upper_quantile = 1 - lower_quantile\n",
    "    bootstrap_samples = []\n",
    "    bootstrap_samples = np.random.choice(data, (num_samples, len(data)), replace=True)\n",
    "    bootstrap_means = np.mean(bootstrap_samples, axis=1)\n",
    "    plt.hist(bootstrap_means, bins=20)\n",
    "    return bootstrap_means, np.quantile(bootstrap_means, [lower_quantile, upper_quantile])"
   ]
  },
  {
   "cell_type": "code",
   "execution_count": 35,
   "id": "a034ea00-30b5-4dcd-b00a-1a39dace7dc2",
   "metadata": {},
   "outputs": [
    {
     "data": {
      "text/plain": [
       "array([1.8, 4.2])"
      ]
     },
     "execution_count": 35,
     "metadata": {},
     "output_type": "execute_result"
    },
    {
     "data": {
      "image/png": "[encoded data removed]",
      "text/plain": [
       "<Figure size 640x480 with 1 Axes>"
      ]
     },
     "metadata": {},
     "output_type": "display_data"
    }
   ],
   "source": [
    "values = [1, 2, 3, 4, 5]\n",
    "\n",
    "bootstrap_means, conf_int = bootstrap_conf_interval(values, 1000, 0.95)\n",
    "\n",
    "conf_int"
   ]
  },
  {
   "cell_type": "code",
   "execution_count": 41,
   "id": "891a9886-13de-49d0-8e25-e553d0d3fc5b",
   "metadata": {},
   "outputs": [
    {
     "data": {
      "text/plain": [
       "count    1000.000000\n",
       "mean        2.988200\n",
       "std         0.608038\n",
       "min         1.000000\n",
       "25%         2.600000\n",
       "50%         3.000000\n",
       "75%         3.400000\n",
       "max         4.800000\n",
       "dtype: float64"
      ]
     },
     "execution_count": 41,
     "metadata": {},
     "output_type": "execute_result"
    }
   ],
   "source": [
    "pd.Series(bootstrap_means).describe()"
   ]
  },
  {
   "cell_type": "code",
   "execution_count": 42,
   "id": "8c9a116e-9580-4c3e-93b9-c6c895e8d62d",
   "metadata": {},
   "outputs": [
    {
     "data": {
      "text/plain": [
       "(2.9882, 0.6077341194963469)"
      ]
     },
     "execution_count": 42,
     "metadata": {},
     "output_type": "execute_result"
    }
   ],
   "source": [
    "mean = np.mean(bootstrap_means)\n",
    "std_dev = np.std(bootstrap_means)\n",
    "mean, std_dev"
   ]
  },
  {
   "cell_type": "code",
   "execution_count": 45,
   "id": "0832ff37-cce1-460f-9614-6ad6e0bfa497",
   "metadata": {},
   "outputs": [
    {
     "data": {
      "text/plain": [
       "1000"
      ]
     },
     "execution_count": 45,
     "metadata": {},
     "output_type": "execute_result"
    }
   ],
   "source": [
    "within_1_std = np.sum((bootstrap_means >= mean - std_dev) & (bootstrap_means <= mean + std_dev))\n",
    "within_2_std = np.sum((bootstrap_means >= mean - 2*std_dev) & (bootstrap_means <= mean + 2*std_dev))\n",
    "within_3_std = np.sum((bootstrap_means >= mean - 3*std_dev) & (bootstrap_means <= mean + 3*std_dev))\n",
    "\n",
    "total_points = len(bootstrap_means)\n",
    "total_points"
   ]
  },
  {
   "cell_type": "code",
   "execution_count": 46,
   "id": "c7b890d8-1453-400c-9d37-2d2e74284e56",
   "metadata": {},
   "outputs": [
    {
     "name": "stdout",
     "output_type": "stream",
     "text": [
      "Percentage of data within 1 standard deviation: 64.30%\n",
      "Percentage of data within 2 standard deviations: 97.00%\n",
      "Percentage of data within 3 standard deviations: 99.80%\n"
     ]
    }
   ],
   "source": [
    "perc_within_1_std = (within_1_std / total_points) * 100\n",
    "perc_within_2_std = (within_2_std / total_points) * 100\n",
    "perc_within_3_std = (within_3_std / total_points) * 100\n",
    "\n",
    "print(f\"Percentage of data within 1 standard deviation: {perc_within_1_std:.2f}%\")\n",
    "print(f\"Percentage of data within 2 standard deviations: {perc_within_2_std:.2f}%\")\n",
    "print(f\"Percentage of data within 3 standard deviations: {perc_within_3_std:.2f}%\")\n"
   ]
  },
  {
   "cell_type": "code",
   "execution_count": null,
   "id": "72cd0a8e-43ee-4ec8-a5ae-a485d27534c6",
   "metadata": {},
   "outputs": [],
   "source": []
  },
  {
   "cell_type": "code",
   "execution_count": null,
   "id": "68e17703-8e83-4dfb-b7ae-026b8212b8f6",
   "metadata": {},
   "outputs": [],
   "source": []
  },
  {
   "cell_type": "code",
   "execution_count": null,
   "id": "3646268f-398e-4f69-a7ce-01d90eabd7a7",
   "metadata": {},
   "outputs": [],
   "source": []
  }
 ],
 "metadata": {
  "kernelspec": {
   "display_name": "Python 3 (ipykernel)",
   "language": "python",
   "name": "python3"
  },
  "language_info": {
   "codemirror_mode": {
    "name": "ipython",
    "version": 3
   },
   "file_extension": ".py",
   "mimetype": "text/x-python",
   "name": "python",
   "nbconvert_exporter": "python",
   "pygments_lexer": "ipython3",
   "version": "3.10.10"
  }
 },
 "nbformat": 4,
 "nbformat_minor": 5
}
