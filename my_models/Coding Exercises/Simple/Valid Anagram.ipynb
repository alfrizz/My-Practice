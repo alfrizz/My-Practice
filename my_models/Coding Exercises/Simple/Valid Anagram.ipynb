{
 "cells": [
  {
   "cell_type": "markdown",
   "id": "53f90455-7414-4dbd-b74e-c44d37e38d68",
   "metadata": {},
   "source": [
    "Valid Anagram\n",
    "\n",
    "Given two strings, write a function to return True if the strings are anagrams of each other and False if they are not.\n",
    "\n",
    "Note: A word is not an anagram of itself.\n",
    "\n",
    "Example 1:\n",
    "\n",
    "Input:\n",
    "\n",
    "string_1 = \"listen\"\n",
    "string_2 = \"silent\"\n",
    "\n",
    "Output:\n",
    "\n",
    "True\n",
    "\n",
    "Example 2:\n",
    "\n",
    "Input:\n",
    "\n",
    "string_1 = \"banana\"\n",
    "string_2 = \"bandana\"\n",
    "\n",
    "Output:\n",
    "\n",
    "False"
   ]
  },
  {
   "cell_type": "code",
   "execution_count": 43,
   "id": "c98e5a50-b245-4edd-8205-62058fabbedf",
   "metadata": {},
   "outputs": [],
   "source": [
    "def is_anagram(string_1, string_2):\n",
    "    string_1 = string_1.lower()\n",
    "    string_2 = string_2.lower()\n",
    "    if len(string_1) != len(string_2):\n",
    "        return False\n",
    "    if string_1 == string_2:\n",
    "        return False\n",
    "    len_str = len(string_1)\n",
    "    for i in range(len_str):\n",
    "        print (len_str, i, string_1[i], (string_2))\n",
    "        if string_1[i] in string_2:\n",
    "            string_2 = string_2.replace(string_1[i], '', 1)\n",
    "        else:\n",
    "            return False\n",
    "    return True"
   ]
  },
  {
   "cell_type": "code",
   "execution_count": 49,
   "id": "106fcfdf-63d4-4f24-a3b3-79284002b211",
   "metadata": {},
   "outputs": [
    {
     "data": {
      "text/plain": [
       "False"
      ]
     },
     "execution_count": 49,
     "metadata": {},
     "output_type": "execute_result"
    }
   ],
   "source": [
    "is_anagram('banana', 'bandana')"
   ]
  },
  {
   "cell_type": "code",
   "execution_count": 50,
   "id": "474b558c-8adb-4604-a671-2dffccc366d6",
   "metadata": {},
   "outputs": [
    {
     "name": "stdout",
     "output_type": "stream",
     "text": [
      "6 0 l silent\n",
      "6 1 i sient\n",
      "6 2 s sent\n",
      "6 3 t ent\n",
      "6 4 e en\n",
      "6 5 n n\n"
     ]
    },
    {
     "data": {
      "text/plain": [
       "True"
      ]
     },
     "execution_count": 50,
     "metadata": {},
     "output_type": "execute_result"
    }
   ],
   "source": [
    "is_anagram('listen', 'silent')"
   ]
  },
  {
   "cell_type": "code",
   "execution_count": 51,
   "id": "0552a4d5-339d-4780-b23e-7299ff78f6f2",
   "metadata": {},
   "outputs": [],
   "source": [
    "def are_anagrams(str1, str2):\n",
    "    # Check if the strings are identical\n",
    "    if str1 == str2:\n",
    "        return False\n",
    "    \n",
    "    # Sort and compare the strings\n",
    "    return sorted(str1) == sorted(str2)\n"
   ]
  },
  {
   "cell_type": "code",
   "execution_count": 52,
   "id": "d356b522-70ee-4437-b32b-f55f70919ff6",
   "metadata": {},
   "outputs": [
    {
     "name": "stdout",
     "output_type": "stream",
     "text": [
      "True\n",
      "False\n",
      "False\n"
     ]
    }
   ],
   "source": [
    "# Example usage:\n",
    "print(are_anagrams(\"listen\", \"silent\"))  # Output: True\n",
    "print(are_anagrams(\"hello\", \"world\"))    # Output: False\n",
    "print(are_anagrams(\"hello\", \"hello\"))    # Output: False"
   ]
  },
  {
   "cell_type": "code",
   "execution_count": null,
   "id": "9f905a4f-228e-4136-bf3b-78cbe3c0cdfc",
   "metadata": {},
   "outputs": [],
   "source": []
  },
  {
   "cell_type": "code",
   "execution_count": null,
   "id": "903c9a24-ff22-4bda-ab98-044b94ff68a4",
   "metadata": {},
   "outputs": [],
   "source": []
  },
  {
   "cell_type": "code",
   "execution_count": null,
   "id": "449b8166-44eb-40cd-8881-b1161fc1632e",
   "metadata": {},
   "outputs": [],
   "source": []
  },
  {
   "cell_type": "code",
   "execution_count": null,
   "id": "009397b2-2e38-4f2e-b9b2-271f62cfa47d",
   "metadata": {},
   "outputs": [],
   "source": []
  },
  {
   "cell_type": "code",
   "execution_count": null,
   "id": "4960c5ef-963a-4a7b-ba41-011770aac36e",
   "metadata": {},
   "outputs": [],
   "source": []
  },
  {
   "cell_type": "code",
   "execution_count": null,
   "id": "0364d6c4-58f5-4083-a59e-0eb767fc19ec",
   "metadata": {},
   "outputs": [],
   "source": []
  }
 ],
 "metadata": {
  "kernelspec": {
   "display_name": "Python 3 (ipykernel)",
   "language": "python",
   "name": "python3"
  },
  "language_info": {
   "codemirror_mode": {
    "name": "ipython",
    "version": 3
   },
   "file_extension": ".py",
   "mimetype": "text/x-python",
   "name": "python",
   "nbconvert_exporter": "python",
   "pygments_lexer": "ipython3",
   "version": "3.10.10"
  }
 },
 "nbformat": 4,
 "nbformat_minor": 5
}
