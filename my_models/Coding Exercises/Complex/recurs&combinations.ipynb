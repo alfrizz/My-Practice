{
 "cells": [
  {
   "cell_type": "code",
   "execution_count": 1,
   "id": "3f26fd79-195b-41d0-9629-3b5b7c6ebf64",
   "metadata": {},
   "outputs": [],
   "source": [
    "def sum_combinations_rec(n, summands=[1]):\n",
    "    # If n is 0, we have found a valid combination\n",
    "    if n == 0:\n",
    "        print(summands[1:])  # Skip the first element which is always 1\n",
    "    # If n is negative, this is not a valid combination\n",
    "    elif n < 0:\n",
    "        return\n",
    "    else:\n",
    "        # Try all numbers from the last attempted number up to n\n",
    "        for i in range(summands[-1], n+1):\n",
    "            sum_combinations(n - i, summands + [i])\n",
    "    "
   ]
  },
  {
   "cell_type": "code",
   "execution_count": 9,
   "id": "9fb15396-6ea2-4c23-8e6d-d5ca016d68a1",
   "metadata": {},
   "outputs": [],
   "source": [
    "def sum_combinations(target):\n",
    "    dp = [[[]]] + [[] for _ in range(target)]\n",
    "    for i in range(1, target + 1):\n",
    "        for j in range(i, target + 1):\n",
    "            dp[j] += [combo + [i] for combo in dp[j - i]]\n",
    "    return dp[target]"
   ]
  },
  {
   "cell_type": "code",
   "execution_count": 13,
   "id": "0e72c105-1a03-4536-9528-d134f76df885",
   "metadata": {},
   "outputs": [],
   "source": [
    "def sum_combinations_any_order(target):\n",
    "    dp = [[[]]] + [[] for _ in range(target)]\n",
    "    for i in range(target):\n",
    "        for j in range(i + 1, target + 1):\n",
    "            for k in range(1, j - i + 1):\n",
    "                dp[j] += [combo + [k] for combo in dp[j - k]]\n",
    "    return dp[target]"
   ]
  },
  {
   "cell_type": "code",
   "execution_count": 17,
   "id": "9b6609d8-f541-487a-90bc-b772c9ec3296",
   "metadata": {},
   "outputs": [],
   "source": [
    "def sum_combinations_any_order_no_repetitions(target):\n",
    "    dp = [[[]]] + [[] for _ in range(target)]\n",
    "    for i in range(1, target + 1):\n",
    "        for j in range(i, target + 1):\n",
    "            dp[j] += [sorted(combo + [i]) for combo in dp[j - i] if not combo or combo[-1] <= i]\n",
    "    return list(set(tuple(i) for i in dp[target]))"
   ]
  },
  {
   "cell_type": "code",
   "execution_count": 19,
   "id": "136ef40e-4433-4af7-a134-08f236b6a325",
   "metadata": {},
   "outputs": [
    {
     "data": {
      "text/plain": [
       "[(4,), (1, 1, 2), (2, 2), (1, 3), (1, 1, 1, 1)]"
      ]
     },
     "execution_count": 19,
     "metadata": {},
     "output_type": "execute_result"
    }
   ],
   "source": [
    "sum_combinations_any_order_no_repetitions(4)"
   ]
  },
  {
   "cell_type": "code",
   "execution_count": 188,
   "id": "5154e56b-cf19-4537-8403-68d081b1d259",
   "metadata": {},
   "outputs": [],
   "source": [
    "def find_combinations(n, i=1, current=[], combinations=[]):\n",
    "    if n == 0:\n",
    "        combinations.append(current)\n",
    "        print('********')\n",
    "        print('n',n,'i',i)\n",
    "        print('combinations',combinations)\n",
    "    else:\n",
    "        for j in range(i, n+1):\n",
    "            print('......................................................')\n",
    "            print('n',n,'i',i,'j',j,'n-j',n-j)\n",
    "            print('current',current)\n",
    "            print('current+[j]',current+[j])\n",
    "            find_combinations(n-j, j, current+[j], combinations)\n",
    "            print('............')\n",
    "            # print('n',n,'i',i,'j',j,'n-j',n-j)\n",
    "    return combinations\n",
    "\n"
   ]
  },
  {
   "cell_type": "code",
   "execution_count": 189,
   "id": "0d9e3640-dd37-44cb-ab6e-9d1c0329f5ec",
   "metadata": {},
   "outputs": [
    {
     "name": "stdout",
     "output_type": "stream",
     "text": [
      "......................................................\n",
      "n 4 i 1 j 1 n-j 3\n",
      "current []\n",
      "current+[j] [1]\n",
      "......................................................\n",
      "n 3 i 1 j 1 n-j 2\n",
      "current [1]\n",
      "current+[j] [1, 1]\n",
      "......................................................\n",
      "n 2 i 1 j 1 n-j 1\n",
      "current [1, 1]\n",
      "current+[j] [1, 1, 1]\n",
      "......................................................\n",
      "n 1 i 1 j 1 n-j 0\n",
      "current [1, 1, 1]\n",
      "current+[j] [1, 1, 1, 1]\n",
      "********\n",
      "n 0 i 1\n",
      "combinations [[1, 1, 1, 1]]\n",
      "............\n",
      "............\n",
      "......................................................\n",
      "n 2 i 1 j 2 n-j 0\n",
      "current [1, 1]\n",
      "current+[j] [1, 1, 2]\n",
      "********\n",
      "n 0 i 2\n",
      "combinations [[1, 1, 1, 1], [1, 1, 2]]\n",
      "............\n",
      "............\n",
      "......................................................\n",
      "n 3 i 1 j 2 n-j 1\n",
      "current [1]\n",
      "current+[j] [1, 2]\n",
      "............\n",
      "......................................................\n",
      "n 3 i 1 j 3 n-j 0\n",
      "current [1]\n",
      "current+[j] [1, 3]\n",
      "********\n",
      "n 0 i 3\n",
      "combinations [[1, 1, 1, 1], [1, 1, 2], [1, 3]]\n",
      "............\n",
      "............\n",
      "......................................................\n",
      "n 4 i 1 j 2 n-j 2\n",
      "current []\n",
      "current+[j] [2]\n",
      "......................................................\n",
      "n 2 i 2 j 2 n-j 0\n",
      "current [2]\n",
      "current+[j] [2, 2]\n",
      "********\n",
      "n 0 i 2\n",
      "combinations [[1, 1, 1, 1], [1, 1, 2], [1, 3], [2, 2]]\n",
      "............\n",
      "............\n",
      "......................................................\n",
      "n 4 i 1 j 3 n-j 1\n",
      "current []\n",
      "current+[j] [3]\n",
      "............\n",
      "......................................................\n",
      "n 4 i 1 j 4 n-j 0\n",
      "current []\n",
      "current+[j] [4]\n",
      "********\n",
      "n 0 i 4\n",
      "combinations [[1, 1, 1, 1], [1, 1, 2], [1, 3], [2, 2], [4]]\n",
      "............\n"
     ]
    },
    {
     "data": {
      "text/plain": [
       "[[1, 1, 1, 1], [1, 1, 2], [1, 3], [2, 2], [4]]"
      ]
     },
     "execution_count": 189,
     "metadata": {},
     "output_type": "execute_result"
    }
   ],
   "source": [
    "\n",
    "find_combinations(n=4)"
   ]
  },
  {
   "cell_type": "code",
   "execution_count": 330,
   "id": "23bae797-061b-4ced-bbcd-2e2c5569f8ca",
   "metadata": {},
   "outputs": [
    {
     "data": {
      "text/plain": [
       "[[1, 3], [1, 2], [1, 1], [2, 1], [2, 2], [1, 1], [3, 1]]"
      ]
     },
     "execution_count": 330,
     "metadata": {},
     "output_type": "execute_result"
    }
   ],
   "source": [
    "def find_combinations_alf(num):\n",
    "    comb=[]\n",
    "    for target in range(1,num):\n",
    "        rest = num-target\n",
    "        comb+=[[target, rest]]\n",
    "        comb+=find_combinations_alf(rest)\n",
    "    return comb\n",
    "\n",
    "\n",
    "find_combinations_alf(4)\n",
    "    "
   ]
  },
  {
   "cell_type": "code",
   "execution_count": 323,
   "id": "8767c5da-8a76-4068-b500-b27f3d51217c",
   "metadata": {},
   "outputs": [],
   "source": [
    "def sum_combinations_alf(num):\n",
    "    subcombs= find_combinations_alf(num)\n",
    "    fincombs = [[num],subcombs[0]]\n",
    "    idx2dig = 0\n",
    "    for i in range(1,len(subcombs)):\n",
    "            if sum(subcombs[i]) == num:\n",
    "                fincombs.append(subcombs[i])\n",
    "                idx2dig = len(fincombs)-1\n",
    "            else:\n",
    "                for j in range(idx2dig,len(fincombs)):\n",
    "                    if sum(subcombs[i]) == fincombs[j][-1]:\n",
    "                        fincombs.append([*fincombs[j][:-1],*subcombs[i]])\n",
    "    fincombs = sorted([list(y) for y in {tuple(x) for x in fincombs}]) # to remove duplicates \n",
    "                \n",
    "\n",
    "    return fincombs #,subcombs\n"
   ]
  },
  {
   "cell_type": "code",
   "execution_count": 349,
   "id": "15a8eadd-e6e7-4084-821b-e4a5f8d74f54",
   "metadata": {},
   "outputs": [
    {
     "data": {
      "text/plain": [
       "[[1, 1, 1, 1, 1],\n",
       " [1, 1, 1, 2],\n",
       " [1, 1, 2, 1],\n",
       " [1, 1, 3],\n",
       " [1, 2, 1, 1],\n",
       " [1, 2, 2],\n",
       " [1, 3, 1],\n",
       " [1, 4],\n",
       " [2, 1, 1, 1],\n",
       " [2, 1, 2],\n",
       " [2, 2, 1],\n",
       " [2, 3],\n",
       " [3, 1, 1],\n",
       " [3, 2],\n",
       " [4, 1],\n",
       " [5]]"
      ]
     },
     "execution_count": 349,
     "metadata": {},
     "output_type": "execute_result"
    }
   ],
   "source": [
    "# len(sum_combinations_alf(10))\n",
    "sum_combinations_alf(5)"
   ]
  },
  {
   "cell_type": "code",
   "execution_count": 489,
   "id": "373aac0e-520b-4456-b810-3ccd477ef203",
   "metadata": {},
   "outputs": [],
   "source": [
    "import numpy as np\n",
    "\n",
    "def maxmult(int_of_max_10_dig):\n",
    "    str_of_max_10_dig = str(int_of_max_10_dig)\n",
    "    allcomb = sum_combinations_alf(len(str_of_max_10_dig))\n",
    "    digcomb = []\n",
    "    digmult = []\n",
    "    for i in range(len(allcomb)):\n",
    "        j_init = 0\n",
    "        singmult = 1\n",
    "        singcomb = []\n",
    "        for j in range(len(allcomb[i])):\n",
    "            j_fin = j_init+allcomb[i][j]\n",
    "            singint = int(str_of_max_10_dig[j_init:j_fin])\n",
    "            singcomb.append(singint)\n",
    "            singmult*=singint\n",
    "            j_init = j_fin\n",
    "        digcomb.append(singcomb)\n",
    "        digmult.append(singmult)\n",
    "    indmultmax = np.argmax(digmult)\n",
    "    combmultmax = digcomb[indmultmax]\n",
    "    return digcomb, '...', digmult, '...', combmultmax, "
   ]
  },
  {
   "cell_type": "code",
   "execution_count": 490,
   "id": "296a28da-0614-4ef6-8b6c-c738306336e1",
   "metadata": {},
   "outputs": [
    {
     "data": {
      "text/plain": [
       "([[9, 8, 9, 7, 9, 6, 9],\n",
       "  [9, 8, 9, 7, 9, 69],\n",
       "  [9, 8, 9, 7, 96, 9],\n",
       "  [9, 8, 9, 7, 969],\n",
       "  [9, 8, 9, 79, 6, 9],\n",
       "  [9, 8, 9, 79, 69],\n",
       "  [9, 8, 9, 796, 9],\n",
       "  [9, 8, 9, 7969],\n",
       "  [9, 8, 97, 9, 6, 9],\n",
       "  [9, 8, 97, 9, 69],\n",
       "  [9, 8, 97, 96, 9],\n",
       "  [9, 8, 97, 969],\n",
       "  [9, 8, 979, 6, 9],\n",
       "  [9, 8, 979, 69],\n",
       "  [9, 8, 9796, 9],\n",
       "  [9, 8, 97969],\n",
       "  [9, 89, 7, 9, 6, 9],\n",
       "  [9, 89, 7, 9, 69],\n",
       "  [9, 89, 7, 96, 9],\n",
       "  [9, 89, 7, 969],\n",
       "  [9, 89, 79, 6, 9],\n",
       "  [9, 89, 79, 69],\n",
       "  [9, 89, 796, 9],\n",
       "  [9, 89, 7969],\n",
       "  [9, 897, 9, 6, 9],\n",
       "  [9, 897, 9, 69],\n",
       "  [9, 897, 96, 9],\n",
       "  [9, 897, 969],\n",
       "  [9, 8979, 6, 9],\n",
       "  [9, 8979, 69],\n",
       "  [9, 89796, 9],\n",
       "  [9, 897969],\n",
       "  [98, 9, 7, 9, 6, 9],\n",
       "  [98, 9, 7, 9, 69],\n",
       "  [98, 9, 7, 96, 9],\n",
       "  [98, 9, 7, 969],\n",
       "  [98, 9, 79, 6, 9],\n",
       "  [98, 9, 79, 69],\n",
       "  [98, 9, 796, 9],\n",
       "  [98, 9, 7969],\n",
       "  [98, 97, 9, 6, 9],\n",
       "  [98, 97, 9, 69],\n",
       "  [98, 97, 96, 9],\n",
       "  [98, 97, 969],\n",
       "  [98, 979, 6, 9],\n",
       "  [98, 979, 69],\n",
       "  [98, 9796, 9],\n",
       "  [98, 97969],\n",
       "  [989, 7, 9, 6, 9],\n",
       "  [989, 7, 9, 69],\n",
       "  [989, 7, 96, 9],\n",
       "  [989, 7, 969],\n",
       "  [989, 79, 6, 9],\n",
       "  [989, 79, 69],\n",
       "  [989, 796, 9],\n",
       "  [989, 7969],\n",
       "  [9897, 9, 6, 9],\n",
       "  [9897, 9, 69],\n",
       "  [9897, 96, 9],\n",
       "  [9897, 969],\n",
       "  [98979, 6, 9],\n",
       "  [98979, 69],\n",
       "  [989796, 9],\n",
       "  [9897969]],\n",
       " '...',\n",
       " [2204496,\n",
       "  2816856,\n",
       "  3919104,\n",
       "  4395384,\n",
       "  2764368,\n",
       "  3532248,\n",
       "  4642272,\n",
       "  5163912,\n",
       "  3394224,\n",
       "  4337064,\n",
       "  6034176,\n",
       "  6767496,\n",
       "  3806352,\n",
       "  4863672,\n",
       "  6347808,\n",
       "  7053768,\n",
       "  2725002,\n",
       "  3481947,\n",
       "  4844448,\n",
       "  5433183,\n",
       "  3417066,\n",
       "  4366251,\n",
       "  5738364,\n",
       "  6383169,\n",
       "  3923478,\n",
       "  5013333,\n",
       "  6975072,\n",
       "  7822737,\n",
       "  4363794,\n",
       "  5575959,\n",
       "  7273476,\n",
       "  8081721,\n",
       "  3000564,\n",
       "  3834054,\n",
       "  5334336,\n",
       "  5982606,\n",
       "  3762612,\n",
       "  4807782,\n",
       "  6318648,\n",
       "  7028658,\n",
       "  4619916,\n",
       "  5903226,\n",
       "  8213184,\n",
       "  9211314,\n",
       "  5180868,\n",
       "  6619998,\n",
       "  8640072,\n",
       "  9600962,\n",
       "  3364578,\n",
       "  4299183,\n",
       "  5981472,\n",
       "  6708387,\n",
       "  4219074,\n",
       "  5391039,\n",
       "  7085196,\n",
       "  7881341,\n",
       "  4809942,\n",
       "  6146037,\n",
       "  8551008,\n",
       "  9590193,\n",
       "  5344866,\n",
       "  6829551,\n",
       "  8908164,\n",
       "  9897969],\n",
       " '...',\n",
       " [9897969])"
      ]
     },
     "execution_count": 490,
     "metadata": {},
     "output_type": "execute_result"
    }
   ],
   "source": [
    "maxmult(9897969)"
   ]
  }
 ],
 "metadata": {
  "kernelspec": {
   "display_name": "Py309",
   "language": "python",
   "name": "py309"
  },
  "language_info": {
   "codemirror_mode": {
    "name": "ipython",
    "version": 3
   },
   "file_extension": ".py",
   "mimetype": "text/x-python",
   "name": "python",
   "nbconvert_exporter": "python",
   "pygments_lexer": "ipython3",
   "version": "3.9.16"
  }
 },
 "nbformat": 4,
 "nbformat_minor": 5
}
