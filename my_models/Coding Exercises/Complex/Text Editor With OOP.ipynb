{
 "cells": [
  {
   "cell_type": "markdown",
   "id": "694b7c1a-5771-47ba-94d7-69490b44db31",
   "metadata": {},
   "source": [
    "You have been tasked with designing three classes: text_editor, moving_text_editor, and smart_text_editor. These classes are to be created with specific functionalities as defined below:\n",
    "\n",
    "text_editor class:\n",
    "------------------------\n",
    "\n",
    "write_line(string:str): A method which appends a given string to the end of the existing string.\n",
    "\n",
    "delete_line(char_num : int): A method which deletes char_num number of characters from the existing string, starting from the end. If there are no characters left, the method should do nothing.\n",
    "\n",
    "special_operation(): A method which currently does nothing.\n",
    "\n",
    "get_notes(): A method which returns the internal string.\n",
    "\n",
    "moving_text_editor class:\n",
    "------------------------\n",
    "\n",
    "This class extends text_editor. The special_operation() method is overridden. Initially, the cursor will be at the end of the current string. If special_operation() is called, it moves the cursor to the beginning of the string, any additional appends will be appended to the beginning of the string instead. Calling special_operation() again reverses the cursor operation.\n",
    "\n",
    "smart_text_editor class:\n",
    "------------------------\n",
    "\n",
    "This class extends text_editor. In this class, the special_operation() method is overridden to serve as an undo operation, allowing it to undo an infinite number of operations.\n",
    "\n",
    "Input\n",
    "\n",
    "[['special_text_editor'], ['write_line', 'special_operation', 'write_line'], ['World', 'Hello, ']]"
   ]
  },
  {
   "cell_type": "code",
   "execution_count": 1,
   "id": "34d00dc3-df05-4d10-af45-ec8dcc224b09",
   "metadata": {},
   "outputs": [],
   "source": [
    "from typing import Union # The Union type hint from the typing library allows you to specify that a variable or function return type can be one of several types. This is useful when a function can return multiple types or when a variable can hold multiple types of values."
   ]
  },
  {
   "cell_type": "code",
   "execution_count": 2,
   "id": "65415c30-9256-498d-b93d-bafac35658ca",
   "metadata": {},
   "outputs": [],
   "source": [
    "class text_editor():\n",
    "    \n",
    "    def __init__(self, string:str) -> None:\n",
    "        self.string = string\n",
    "        self.print_string()\n",
    "        self.reverse = False\n",
    "        self.inserts = [] # to track insertions for the undo operation in the class smart_text_editor\n",
    "        \n",
    "    def print_string(self) -> None:\n",
    "        print(self.string)\n",
    "    \n",
    "    def write_line(self, new_string:str) -> None:\n",
    "        if self.reverse == False:\n",
    "            self.string = self.string + new_string\n",
    "        else:\n",
    "            self.string = new_string + self.string\n",
    "        \n",
    "        self.inserts.append((self.reverse, len(new_string)))\n",
    "        self.print_string()\n",
    "        print(self.inserts)\n",
    "        \n",
    "    def special_operation(self) -> None:\n",
    "        pass\n",
    "    \n",
    "    def get_notes(self) -> str:\n",
    "        return self.string\n",
    "    "
   ]
  },
  {
   "cell_type": "code",
   "execution_count": 3,
   "id": "b14ef1f9-9ee3-472e-b515-e623c5f582ac",
   "metadata": {},
   "outputs": [],
   "source": [
    "class moving_text_editor(text_editor):\n",
    "    \n",
    "    def __init__(self, parent_instance: text_editor) -> None:\n",
    "        super().__init__(parent_instance.string)\n",
    "        self.inserts = parent_instance.inserts\n",
    "        \n",
    "    def special_operation(self) -> None:\n",
    "        if self.reverse == False:\n",
    "            self.reverse = True\n",
    "        else:\n",
    "            self.reverse = False\n",
    "        print('Reverse is',self.reverse)"
   ]
  },
  {
   "cell_type": "code",
   "execution_count": 4,
   "id": "6765c9d0-806c-4fb0-9478-22beafe8c7a7",
   "metadata": {},
   "outputs": [],
   "source": [
    "class smart_text_editor(text_editor):\n",
    "\n",
    "    def __init__(self, parent_instance: text_editor) -> None:\n",
    "        super().__init__(parent_instance.string)\n",
    "        self.inserts = parent_instance.inserts\n",
    "        \n",
    "    def special_operation(self) -> None:\n",
    "        at_beginning = self.inserts[-1][0]\n",
    "        len_word = self.inserts[-1][1]\n",
    "        if at_beginning == True: # remove the last word, which has been inserted at the beginning of the string\n",
    "            self.string = self.string[len_word:]\n",
    "            print('word at beginning removed')\n",
    "        else:  # remove the last word, which has been inserted at the end of the string\n",
    "            self.string = self.string[:-len_word]\n",
    "            print('word at the end removed')\n",
    "        self.inserts.pop(-1) \n",
    "            "
   ]
  },
  {
   "cell_type": "code",
   "execution_count": 5,
   "id": "24acb983-a17e-4326-ab0c-40d6a58ad1bb",
   "metadata": {},
   "outputs": [
    {
     "name": "stdout",
     "output_type": "stream",
     "text": [
      "my text\n",
      "my text is correct \n",
      "[(False, 12)]\n",
      "my text is correct  and clear \n",
      "[(False, 12), (False, 11)]\n"
     ]
    }
   ],
   "source": [
    "my_text = text_editor('my text')\n",
    "\n",
    "my_text.write_line(' is correct ')\n",
    "\n",
    "my_text.write_line(' and clear ')"
   ]
  },
  {
   "cell_type": "code",
   "execution_count": 6,
   "id": "32642fdb-ad8d-436a-806d-f99fcdf3f07f",
   "metadata": {},
   "outputs": [
    {
     "data": {
      "text/plain": [
       "'my text is correct  and clear '"
      ]
     },
     "execution_count": 6,
     "metadata": {},
     "output_type": "execute_result"
    }
   ],
   "source": [
    "my_text.get_notes()"
   ]
  },
  {
   "cell_type": "code",
   "execution_count": 7,
   "id": "c7925f9c-4e4c-4c55-af44-76da4957622e",
   "metadata": {},
   "outputs": [
    {
     "name": "stdout",
     "output_type": "stream",
     "text": [
      "my text is correct  and clear \n"
     ]
    }
   ],
   "source": [
    "text_moving = moving_text_editor(my_text)"
   ]
  },
  {
   "cell_type": "code",
   "execution_count": 8,
   "id": "a073b9c3-3634-4c18-bf29-b1af628046a4",
   "metadata": {},
   "outputs": [
    {
     "name": "stdout",
     "output_type": "stream",
     "text": [
      "Reverse is True\n"
     ]
    }
   ],
   "source": [
    "text_moving.special_operation()"
   ]
  },
  {
   "cell_type": "code",
   "execution_count": 9,
   "id": "7e7ee6cc-3b6b-4fac-835f-f4a3419c8d49",
   "metadata": {},
   "outputs": [
    {
     "name": "stdout",
     "output_type": "stream",
     "text": [
      " oooooooooo my text is correct  and clear \n",
      "[(False, 12), (False, 11), (True, 12)]\n"
     ]
    }
   ],
   "source": [
    "text_moving.write_line(' oooooooooo ')"
   ]
  },
  {
   "cell_type": "code",
   "execution_count": 10,
   "id": "d5e8fddb-6791-4ee9-a3cb-23fa718bc3fd",
   "metadata": {},
   "outputs": [
    {
     "name": "stdout",
     "output_type": "stream",
     "text": [
      " iiiii  oooooooooo my text is correct  and clear \n",
      "[(False, 12), (False, 11), (True, 12), (True, 7)]\n"
     ]
    }
   ],
   "source": [
    "text_moving.write_line(' iiiii ')"
   ]
  },
  {
   "cell_type": "code",
   "execution_count": 11,
   "id": "0d6acb53-b243-4eb0-870f-f2267e6647db",
   "metadata": {},
   "outputs": [
    {
     "name": "stdout",
     "output_type": "stream",
     "text": [
      "Reverse is False\n"
     ]
    }
   ],
   "source": [
    "text_moving.special_operation()"
   ]
  },
  {
   "cell_type": "code",
   "execution_count": 12,
   "id": "55aea9c1-d38e-4302-b3fa-4a3814284c78",
   "metadata": {},
   "outputs": [
    {
     "name": "stdout",
     "output_type": "stream",
     "text": [
      " iiiii  oooooooooo my text is correct  and clear  uuuuuu \n",
      "[(False, 12), (False, 11), (True, 12), (True, 7), (False, 8)]\n"
     ]
    }
   ],
   "source": [
    "text_moving.write_line(' uuuuuu ')"
   ]
  },
  {
   "cell_type": "code",
   "execution_count": 13,
   "id": "8fac7e40-2a7e-47e3-bf6f-61944095d316",
   "metadata": {},
   "outputs": [
    {
     "name": "stdout",
     "output_type": "stream",
     "text": [
      " iiiii  oooooooooo my text is correct  and clear  uuuuuu \n"
     ]
    }
   ],
   "source": [
    "text_smart = smart_text_editor(text_moving)"
   ]
  },
  {
   "cell_type": "code",
   "execution_count": 14,
   "id": "93f40fe3-ee3e-44c8-9830-fde90bec3021",
   "metadata": {},
   "outputs": [
    {
     "name": "stdout",
     "output_type": "stream",
     "text": [
      "word at the end removed\n"
     ]
    }
   ],
   "source": [
    "text_smart.special_operation()"
   ]
  },
  {
   "cell_type": "code",
   "execution_count": 17,
   "id": "1b90a6b5-0a35-40bd-beed-df8e59f47c83",
   "metadata": {},
   "outputs": [
    {
     "data": {
      "text/plain": [
       "' iiiii  oooooooooo my text is correct  and clear '"
      ]
     },
     "execution_count": 17,
     "metadata": {},
     "output_type": "execute_result"
    }
   ],
   "source": [
    "text_smart.string"
   ]
  },
  {
   "cell_type": "code",
   "execution_count": 18,
   "id": "64150032-d10a-4dd5-8b4d-ff2b18a082a0",
   "metadata": {},
   "outputs": [
    {
     "name": "stdout",
     "output_type": "stream",
     "text": [
      "word at beginning removed\n"
     ]
    }
   ],
   "source": [
    "text_smart.special_operation()"
   ]
  },
  {
   "cell_type": "code",
   "execution_count": 19,
   "id": "d0adcb1e-1502-4ca1-8628-6b215c7fb781",
   "metadata": {},
   "outputs": [
    {
     "data": {
      "text/plain": [
       "' oooooooooo my text is correct  and clear '"
      ]
     },
     "execution_count": 19,
     "metadata": {},
     "output_type": "execute_result"
    }
   ],
   "source": [
    "text_smart.string"
   ]
  },
  {
   "cell_type": "code",
   "execution_count": 20,
   "id": "2585ad71-28f2-4356-bbc5-1590ce714438",
   "metadata": {},
   "outputs": [
    {
     "data": {
      "text/plain": [
       "[(False, 12), (False, 11), (True, 12)]"
      ]
     },
     "execution_count": 20,
     "metadata": {},
     "output_type": "execute_result"
    }
   ],
   "source": [
    "text_smart.inserts # remaining inserts (last ones have been popped by the undo special operation)"
   ]
  },
  {
   "cell_type": "code",
   "execution_count": null,
   "id": "c4b5b905-da20-4682-ae87-0cf1447a3a48",
   "metadata": {},
   "outputs": [],
   "source": []
  },
  {
   "cell_type": "code",
   "execution_count": null,
   "id": "2bc268b7-9307-4874-833d-2ae3ccc0d3c7",
   "metadata": {},
   "outputs": [],
   "source": []
  },
  {
   "cell_type": "code",
   "execution_count": null,
   "id": "05b2860c-c51b-4559-ac85-1bf9551ab1e3",
   "metadata": {},
   "outputs": [],
   "source": []
  },
  {
   "cell_type": "code",
   "execution_count": null,
   "id": "9c27df1b-2b34-4be8-ba93-0235f835787a",
   "metadata": {},
   "outputs": [],
   "source": []
  }
 ],
 "metadata": {
  "kernelspec": {
   "display_name": "Py310",
   "language": "python",
   "name": "py310"
  },
  "language_info": {
   "codemirror_mode": {
    "name": "ipython",
    "version": 3
   },
   "file_extension": ".py",
   "mimetype": "text/x-python",
   "name": "python",
   "nbconvert_exporter": "python",
   "pygments_lexer": "ipython3",
   "version": "3.10.11"
  }
 },
 "nbformat": 4,
 "nbformat_minor": 5
}
