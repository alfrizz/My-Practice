{
 "cells": [
  {
   "cell_type": "code",
   "execution_count": 179,
   "id": "ddf95b47-a360-4a29-a135-e271f39d599e",
   "metadata": {},
   "outputs": [
    {
     "name": "stdout",
     "output_type": "stream",
     "text": [
      "guessed_rate_without_change: 0.3322664532906581\n",
      "guessed_rate_with_change: 0.6620675864827035\n"
     ]
    }
   ],
   "source": [
    "# The Monty Hall Problem - Frequency Analysis - www.101computing.net/the-monty-hall-problem\n",
    "import random\n",
    "\n",
    "#Let's initialise our 3 doors\n",
    "doors = [\"goat\", \"goat\", \"car\"]\n",
    "guessed_with_change = []\n",
    "guessed_without_change = []\n",
    "\n",
    "for _ in range(10000):\n",
    "    # Randomly position the two goats and the car behind the three doors\n",
    "    random.shuffle(doors)\n",
    "    # print('doors:', doors)\n",
    "\n",
    "    # Randomly pick a door and display the selected door number\n",
    "    first_select_index = random.choice(range(len(doors)))\n",
    "    # print('first_select_index:', first_select_index)\n",
    "    first_select_door = doors[first_select_index]\n",
    "    # print('first_select_door:', first_select_door)\n",
    "\n",
    "    # Get the computer to identify the two doors which have not been selected\n",
    "    #   If only one of these two doors contains a goat, display the door number to reveal the goat\n",
    "    #   If both doors contain a goat, pick one of the two doors randomly and display its number to reveal the goat\n",
    "    for index, value in enumerate(doors):\n",
    "        if index != first_select_index and value=='goat':\n",
    "            shown_goat_index = index\n",
    "            remaining_index = int([ix for ix in [0,1,2] if ix not in [first_select_index, shown_goat_index]][0])\n",
    "            remaining_door = doors[remaining_index]\n",
    "            # print('shown_goat_index:', shown_goat_index)\n",
    "            # print('remaining_index:',remaining_index)\n",
    "            # print('remaining_door:',remaining_door)\n",
    "            break\n",
    "\n",
    "    # Get the computer to randomly decide whether it will keep the selected door or switch to the other closed door\n",
    "    # Reveal the content of all three doors\n",
    "    # Check if the car was behind the selected door\n",
    "    # Keep count of wins and loses when the user decide to switch doors or not\n",
    "    # Display these counters/statistics\n",
    "    second_select_index = random.choice([first_select_index,remaining_index])\n",
    "    second_select_door = doors[second_select_index]\n",
    "    # print('second_select_index:',second_select_index)\n",
    "    # print('second_select_door:',second_select_door)\n",
    "\n",
    "    if second_select_index == first_select_index:\n",
    "        guessed_without_change.append(second_select_door == 'car')\n",
    "    else:\n",
    "        guessed_with_change.append(second_select_door == 'car')\n",
    "    \n",
    "# print('guessed_without_change:',guessed_without_change)\n",
    "# print('guessed_with_change:',guessed_with_change)\n",
    "\n",
    "guessed_rate_without_change = guessed_without_change.count(True)/len(guessed_without_change)\n",
    "guessed_rate_with_change = guessed_with_change.count(True)/len(guessed_with_change)\n",
    "\n",
    "print('guessed_rate_without_change:',guessed_rate_without_change)\n",
    "print('guessed_rate_with_change:',guessed_rate_with_change)\n",
    "\n",
    "# Repeat the above process 100 times.\n",
    "# If your code is working fine you should reach statistics to confirm that:\n",
    "#     When switching doors your are twice as likely to win the car\n",
    "#     When not switching doors your are twice as likely to get the goat!"
   ]
  }
 ],
 "metadata": {
  "kernelspec": {
   "display_name": "Py309",
   "language": "python",
   "name": "py309"
  },
  "language_info": {
   "codemirror_mode": {
    "name": "ipython",
    "version": 3
   },
   "file_extension": ".py",
   "mimetype": "text/x-python",
   "name": "python",
   "nbconvert_exporter": "python",
   "pygments_lexer": "ipython3",
   "version": "3.9.16"
  }
 },
 "nbformat": 4,
 "nbformat_minor": 5
}
