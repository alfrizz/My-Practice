{
 "cells": [
  {
   "cell_type": "markdown",
   "id": "c7b93e0d-7996-4ee7-a3f1-9c9621cc40b2",
   "metadata": {},
   "source": [
    ".\n",
    "=================================\n",
    "Binary Tree\n",
    "=================================\n",
    "Given a (complete) binary tree T and a number N, write a program that determines whether there is a path in T whose product is divisible by N.\n",
    "\n",
    "For example,\n",
    "[-1,3,9,1,-2,5,13,0,5,4,1,2,3,-8,3] would represent the following tree:\n",
    "\n",
    "                 -1\n",
    "           /            \\\n",
    "         3               9\n",
    "      /      \\        /      \\\n",
    "    1       -2       5      13\n",
    "    / \\     / \\     / \\     / \\\n",
    "  0    5   4   1   2   3  -8   3   \n",
    "\n",
    "Example input:[-1,3,9,1,-2,5,13,0,5,4,1,2,3,-8,3], 5 => 0 as the path -1,9,5,3 has a product of -135, which is divisible by 5.\n"
   ]
  },
  {
   "cell_type": "markdown",
   "id": "2155af9b-2c1d-4e3b-a282-c767b45caa73",
   "metadata": {},
   "source": [
    "len=1 -->  level=1 --> 2^level=2 \n",
    "len=3 --> level=2 --> 2^level=4\n",
    "len=7 --> level=3 --> 2^level=8\n",
    "len=15 --> level=4 --> 2^level=16\n",
    "len=31 --> level=5 --> 2^level=32\n",
    "\n",
    "\n",
    "  1 2 3 4  5 6  7 8 9 10 11 12 13 14 15\n",
    "[-1,3,9,1,-2,5,13,0,5,4, 1, 2, 3, -8, 3]\n",
    "  1 2   4         8\n",
    "  1 2   4           9\n",
    "  1 2      5          10\n",
    "  1 2      5            11\n",
    "  1   3      6             12\n",
    "  1   3      6                13\n",
    "  1   3         7                14\n",
    "  1   3         7                   15"
   ]
  },
  {
   "cell_type": "code",
   "execution_count": 197,
   "id": "71ee4383-ffc1-45f6-91d1-0fb9431386f0",
   "metadata": {},
   "outputs": [],
   "source": [
    "import numpy as np\n",
    "import itertools\n",
    "\n",
    "def binary_tree(T,N):\n",
    "    levels_elems = []\n",
    "    paths = []\n",
    "    first_elem = 0\n",
    "    level = 1\n",
    "    exist_path = False\n",
    "    while 2**level -1 <= len(T):\n",
    "        last_elem = 2**level -1\n",
    "        levels_elems.append(T[first_elem:last_elem])\n",
    "        first_elem = last_elem\n",
    "        level += 1\n",
    "    levels_elems_repl = np.array(replic_lists(levels_elems))\n",
    "    for i in range(len(levels_elems[-1])):\n",
    "        path = levels_elems_repl[:,i]\n",
    "        if np.prod(path) % N == 0 and np.prod(path) != 0:\n",
    "            exist_path = True\n",
    "            paths.append(path)\n",
    "    return paths, exist_path \n",
    "\n",
    "\n",
    "def replic_lists(levels_elems):\n",
    "    levels_elems_repl = []\n",
    "    n_elem = len(levels_elems[-1])\n",
    "    for level_elems in levels_elems:\n",
    "        level_elems_repl = [elem for elem in level_elems for _ in range(n_elem//len(level_elems))]\n",
    "        levels_elems_repl.append(level_elems_repl)\n",
    "    return levels_elems_repl\n"
   ]
  },
  {
   "cell_type": "code",
   "execution_count": 200,
   "id": "630f7028-a765-4e04-932d-f70f856ac669",
   "metadata": {},
   "outputs": [
    {
     "data": {
      "text/plain": [
       "([array([-1,  3,  1,  5]), array([-1,  9,  5,  2]), array([-1,  9,  5,  3])],\n",
       " True)"
      ]
     },
     "execution_count": 200,
     "metadata": {},
     "output_type": "execute_result"
    }
   ],
   "source": [
    "binary_tree([-1,3,9,1,-2,5,13,0,5,4,1,2,3,-8,3],5)\n",
    "\n",
    "# replic_lists(binary_tree([-1,3,9,1,-2,5,13,0,5,4,1,2,3,-8,3],999))"
   ]
  },
  {
   "cell_type": "code",
   "execution_count": null,
   "id": "d9b2d45c-14ef-4d2f-b3df-762e2e593168",
   "metadata": {},
   "outputs": [],
   "source": []
  }
 ],
 "metadata": {
  "kernelspec": {
   "display_name": "Py309",
   "language": "python",
   "name": "py309"
  },
  "language_info": {
   "codemirror_mode": {
    "name": "ipython",
    "version": 3
   },
   "file_extension": ".py",
   "mimetype": "text/x-python",
   "name": "python",
   "nbconvert_exporter": "python",
   "pygments_lexer": "ipython3",
   "version": "3.9.16"
  }
 },
 "nbformat": 4,
 "nbformat_minor": 5
}
