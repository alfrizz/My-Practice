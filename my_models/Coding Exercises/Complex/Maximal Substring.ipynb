{
 "cells": [
  {
   "cell_type": "markdown",
   "id": "53dbbdf6-a864-41ad-bfc5-cd7c43f8ec01",
   "metadata": {},
   "source": [
    "Maximal Substring\n",
    "\n",
    "Given two strings, string1 and string2, write a function max_substring to return the maximal substring shared by both strings.\n",
    "\n",
    "Example:\n",
    "\n",
    "Input:\n",
    "\n",
    "string1 = 'mississippi'\n",
    "\n",
    "string2 = 'mossyistheapple'\n",
    "\n",
    "Output:\n",
    "\n",
    "def maximal_substring(string1, string2) ->  'mssispp'\n",
    "\n",
    "argument #1 = \"wheastonyou\"\n",
    "\n",
    "argument #2 = \"herewhat\"\n",
    "\n",
    "Expected output = [\"what\",\"heat\"]\n",
    "\n",
    "Note: If there are multiple max substrings with the same length just return any one of them."
   ]
  },
  {
   "cell_type": "code",
   "execution_count": 1,
   "id": "4ebdca90-c09d-4de9-b39c-360b9a056ff0",
   "metadata": {},
   "outputs": [],
   "source": [
    "import numpy as np"
   ]
  },
  {
   "cell_type": "code",
   "execution_count": 2,
   "id": "3985addb-9b76-456f-8787-4589a2aed82f",
   "metadata": {},
   "outputs": [],
   "source": [
    "def maximal_substring(string1, string2):\n",
    "    substrings = []\n",
    "    for ind_iter in range(len(string1)):\n",
    "        ind1 = 0\n",
    "        ind2 = 0\n",
    "        ind_found = 0\n",
    "        ind1 = ind_iter\n",
    "        substring = ''\n",
    "        # print ('iter', ind_iter)\n",
    "        while ind1 < len(string1):\n",
    "            while ind2 < len(string2):\n",
    "                # print(ind1, string1[ind1], string2[ind2])\n",
    "                if string1[ind1] == string2[ind2]:\n",
    "                    ind_found = ind2\n",
    "                    # print('found', string2[ind_found])\n",
    "                    substring += string2[ind_found]\n",
    "                    if ind1 < len(string1)-1:\n",
    "                        ind1 += 1\n",
    "                ind2 += 1\n",
    "            # print('ind1',ind1,len(string1))\n",
    "            ind1 += 1\n",
    "            ind2 = ind_found + 1\n",
    "        substrings.append(substring)\n",
    "    # print(substrings)\n",
    "    max_len = len(max(substrings, key=len))\n",
    "    # print(max_len)\n",
    "    return list(set([substring for substring in substrings if len(substring) == max_len]))"
   ]
  },
  {
   "cell_type": "code",
   "execution_count": 3,
   "id": "a143e95c-86da-4c40-9ee9-3fab6d9f290e",
   "metadata": {},
   "outputs": [
    {
     "data": {
      "text/plain": [
       "['mssispp']"
      ]
     },
     "execution_count": 3,
     "metadata": {},
     "output_type": "execute_result"
    }
   ],
   "source": [
    "string2 = 'mississippi'\n",
    "\n",
    "string1 = 'mossyistheapple'\n",
    "\n",
    "maximal_substring(string1, string2)"
   ]
  },
  {
   "cell_type": "code",
   "execution_count": 4,
   "id": "c9ff56f4-0031-4db6-9a04-b134be5ebd29",
   "metadata": {},
   "outputs": [
    {
     "data": {
      "text/plain": [
       "['heat', 'what']"
      ]
     },
     "execution_count": 4,
     "metadata": {},
     "output_type": "execute_result"
    }
   ],
   "source": [
    "string2 = \"wheastonyou\"\n",
    "\n",
    "string1 = \"herewhat\"\n",
    "\n",
    "maximal_substring(string2, string1)"
   ]
  },
  {
   "cell_type": "code",
   "execution_count": 5,
   "id": "8f5c10b6-982a-4e1e-a3c7-78806d618425",
   "metadata": {},
   "outputs": [
    {
     "data": {
      "text/plain": [
       "['telefonata']"
      ]
     },
     "execution_count": 5,
     "metadata": {},
     "output_type": "execute_result"
    }
   ],
   "source": [
    "string2 = \"etelefonata\"\n",
    "\n",
    "string1 = \"atelefonata\"\n",
    "\n",
    "maximal_substring(string2, string1)"
   ]
  },
  {
   "cell_type": "code",
   "execution_count": 6,
   "id": "b64f7dcc-f6e2-4eb8-a090-fd8331b3ffea",
   "metadata": {},
   "outputs": [
    {
     "data": {
      "text/plain": [
       "['whatisyourname']"
      ]
     },
     "execution_count": 6,
     "metadata": {},
     "output_type": "execute_result"
    }
   ],
   "source": [
    "string2 = \"whatisyourname\"\n",
    "\n",
    "string1 = \"whatisyourname\"\n",
    "\n",
    "maximal_substring(string2, string1)"
   ]
  },
  {
   "cell_type": "code",
   "execution_count": 7,
   "id": "a3d8735a-8202-44d6-86c4-ea3a0ee61597",
   "metadata": {},
   "outputs": [
    {
     "data": {
      "text/plain": [
       "['bmw']"
      ]
     },
     "execution_count": 7,
     "metadata": {},
     "output_type": "execute_result"
    }
   ],
   "source": [
    "string2 = \"bmismyfavcaronendw\"\n",
    "\n",
    "string1 = \"bmw\"\n",
    "\n",
    "maximal_substring(string1, string2)"
   ]
  },
  {
   "cell_type": "code",
   "execution_count": null,
   "id": "054a7f3b-6e63-4371-a8bf-ab785de2cdb8",
   "metadata": {},
   "outputs": [],
   "source": []
  }
 ],
 "metadata": {
  "kernelspec": {
   "display_name": "Python 3 (ipykernel)",
   "language": "python",
   "name": "python3"
  },
  "language_info": {
   "codemirror_mode": {
    "name": "ipython",
    "version": 3
   },
   "file_extension": ".py",
   "mimetype": "text/x-python",
   "name": "python",
   "nbconvert_exporter": "python",
   "pygments_lexer": "ipython3",
   "version": "3.10.10"
  }
 },
 "nbformat": 4,
 "nbformat_minor": 5
}
