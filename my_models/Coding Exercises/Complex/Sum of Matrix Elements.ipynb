{
 "cells": [
  {
   "cell_type": "markdown",
   "id": "63f4cbf9-ed7e-43b3-a169-cbbfc02d0c59",
   "metadata": {},
   "source": [
    "Sum of Matrix Elements\n",
    "\n",
    "“Suppose you are given a matrix of integers. Your task is to write a function that returns the sum of the elements in the matrix.\n",
    "\n",
    "Example 1:\n",
    "\n",
    "Input:\n",
    "\n",
    "matrix = [[1, 2, 3], [4, 5, 6], [7, 8, 9]]\n",
    "\n",
    "Output:\n",
    "\n",
    "matrix_sum(matrix) -> 45\n",
    "\n",
    "Example 2:\n",
    "\n",
    "Input:\n",
    "\n",
    "matrix = [[-1, -2, -3], [-4, -5, -6], [-7, -8, -9]]\n",
    "Output:\n",
    "\n",
    "matrix_sum(matrix) -> -45\n",
    "\n",
    "The function should be able to handle both positive and negative integers and should return the sum as an integer."
   ]
  },
  {
   "cell_type": "code",
   "execution_count": 1,
   "id": "31289245-42a3-4b2b-8db9-476b50e890c3",
   "metadata": {},
   "outputs": [],
   "source": [
    "import numpy as np"
   ]
  },
  {
   "cell_type": "code",
   "execution_count": 67,
   "id": "fd1dcc96-f0d2-4739-9b89-f3ec05634020",
   "metadata": {},
   "outputs": [],
   "source": [
    "matrix1 = [[[[1, 2, 3], [4, 5, 6], [7, 8, 9]]]]\n",
    "matrix2 = [[-1, -2, -3], [[-4, -5, -6], [[-7, -8, -9]]]]"
   ]
  },
  {
   "cell_type": "code",
   "execution_count": 72,
   "id": "6f752def-547a-4093-9cc6-493bfaa4909e",
   "metadata": {},
   "outputs": [
    {
     "data": {
      "text/plain": [
       "'\\nHow the Recursive Summation Works:\\n\\nRecursive Calls: Each time nest_matr_sum is called, if the element is a list, it continues to call itself recursively until it encounters an element that is not a list.\\n\\nBase Case: When it hits the base case (an element that is not a list), it returns that element.\\n\\nAccumulation in Calling Stack: As the function returns from each recursive call, the returned values (non-list elements) are added up in the calling stack.\\n'"
      ]
     },
     "execution_count": 72,
     "metadata": {},
     "output_type": "execute_result"
    }
   ],
   "source": [
    "def nest_matr_sum(matrix):\n",
    "    if isinstance(matrix, list):\n",
    "        return sum(nest_matr_sum(element) for element in matrix)\n",
    "    else:\n",
    "        return matrix\n",
    "    \n",
    "'''\n",
    "How the Recursive Summation Works:\n",
    "\n",
    "Recursive Calls: Each time nest_matr_sum is called, if the element is a list, it continues to call itself recursively until it encounters an element that is not a list.\n",
    "\n",
    "Base Case: When it hits the base case (an element that is not a list), it returns that element (\"return matrix\").\n",
    "\n",
    "Accumulation in Calling Stack: As the function returns from each recursive call, the returned values (non-list elements) are added up in the calling stack.\n",
    "'''"
   ]
  },
  {
   "cell_type": "code",
   "execution_count": 70,
   "id": "3c448e8a-99ff-48c2-a758-96bc05a820c7",
   "metadata": {},
   "outputs": [
    {
     "data": {
      "text/plain": [
       "-45"
      ]
     },
     "execution_count": 70,
     "metadata": {},
     "output_type": "execute_result"
    }
   ],
   "source": [
    "nest_matr_sum(matrix2)"
   ]
  }
 ],
 "metadata": {
  "kernelspec": {
   "display_name": "Py310",
   "language": "python",
   "name": "py310"
  },
  "language_info": {
   "codemirror_mode": {
    "name": "ipython",
    "version": 3
   },
   "file_extension": ".py",
   "mimetype": "text/x-python",
   "name": "python",
   "nbconvert_exporter": "python",
   "pygments_lexer": "ipython3",
   "version": "3.10.11"
  }
 },
 "nbformat": 4,
 "nbformat_minor": 5
}
