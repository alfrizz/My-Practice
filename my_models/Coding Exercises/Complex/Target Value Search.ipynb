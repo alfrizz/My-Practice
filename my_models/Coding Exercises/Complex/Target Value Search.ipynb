{
 "cells": [
  {
   "cell_type": "markdown",
   "id": "29fd1e64-0b64-446d-942e-77402b4260c1",
   "metadata": {},
   "source": [
    "Target Value Search\n",
    "\n",
    "Suppose an array sorted in ascending order is rotated at some pivot unknown to you beforehand.\n",
    "\n",
    "You are given a target value to search. If the value is in the array, then return its index; otherwise, return -1. \n",
    "\n",
    "Notes:\n",
    "\n",
    "Rotating an array at pivot n gives you a new array that begins with the elements after position n and ends with the elements up to position n.\n",
    "You may assume no duplicate exists in the array.\n",
    "\n",
    "Bonus: Your algorithm’s runtime complexity should be in the order of O(log n)\n",
    "\n",
    "Example:\n",
    "\n",
    "Input: \n",
    "\n",
    "sample_input = [0,1,2,4,5,6,7]  \n",
    "\n",
    "rotated_input = [4,5,6,7,0,1,2]\n",
    "\n",
    "target_value = 6\n",
    "\n",
    "Output:\n",
    "\n",
    "def target_value_search(rotated_input,target_value) -> 2"
   ]
  },
  {
   "cell_type": "code",
   "execution_count": 144,
   "id": "b924e45b-b2cd-4931-9ae5-c650bc3727c9",
   "metadata": {},
   "outputs": [],
   "source": [
    "def target_value_search(rotated_input, target_value):\n",
    "    \n",
    "    max_value = max(rotated_input)\n",
    "    min_value = min(rotated_input)\n",
    "    \n",
    "    if target_value > max_value or target_value < min_value:\n",
    "        return -1\n",
    "    elif target_value >= rotated_input[0]:\n",
    "        min_index = 0\n",
    "        max_index = rotated_input.index(max_value)+1\n",
    "    else:\n",
    "        min_index = rotated_input.index(min_value)\n",
    "        max_index = len(rotated_input)\n",
    "\n",
    "    while True:\n",
    "        # print(rotated_input[min_index:max_index])\n",
    "        centre_index = (max_index + min_index) // 2\n",
    "        # print(rotated_input[centre_index])\n",
    "        \n",
    "        if target_value > rotated_input[centre_index]:\n",
    "            min_index = centre_index + 1\n",
    "        elif target_value < rotated_input[centre_index]:\n",
    "            max_index = centre_index - 1\n",
    "        else:\n",
    "            return centre_index\n",
    "\n",
    "        if centre_index == max_index or centre_index == min_index: # if value not found, interrupt the iteration\n",
    "            return -1\n",
    "            "
   ]
  },
  {
   "cell_type": "code",
   "execution_count": 145,
   "id": "b09f0ac1-cc49-45e4-9fea-8290acdc0cf8",
   "metadata": {},
   "outputs": [
    {
     "data": {
      "text/plain": [
       "5"
      ]
     },
     "execution_count": 145,
     "metadata": {},
     "output_type": "execute_result"
    }
   ],
   "source": [
    "rotated_input = [4, 5, 6, 7, 0, 1, 2]\n",
    "target_value = 1\n",
    "target_value_search(rotated_input,target_value)"
   ]
  },
  {
   "cell_type": "code",
   "execution_count": 146,
   "id": "95643dc5-ff02-48af-9abe-9f0de94ebc57",
   "metadata": {},
   "outputs": [
    {
     "data": {
      "text/plain": [
       "2"
      ]
     },
     "execution_count": 146,
     "metadata": {},
     "output_type": "execute_result"
    }
   ],
   "source": [
    "rotated_input = [9,13,15,16,23,26,33,45,56,0,1,2,4,5,7,8]\n",
    "\n",
    "target_value = 15\n",
    "\n",
    "target_value_search(rotated_input,target_value)"
   ]
  },
  {
   "cell_type": "code",
   "execution_count": 147,
   "id": "34274d3a-f98a-4ffd-abcd-b3dfc705b726",
   "metadata": {},
   "outputs": [
    {
     "name": "stdout",
     "output_type": "stream",
     "text": [
      "2\n"
     ]
    }
   ],
   "source": [
    "# Array: Rotated with the target at the rotation point\n",
    "sample_input = [15, 18, 2, 3, 6, 12]\n",
    "target_value = 2\n",
    "\n",
    "result = target_value_search(sample_input, target_value)\n",
    "print(result)  # Expected output: 2 (index of target value 2)\n"
   ]
  },
  {
   "cell_type": "code",
   "execution_count": 148,
   "id": "8655e069-b804-499f-83ab-a525c0224376",
   "metadata": {},
   "outputs": [
    {
     "name": "stdout",
     "output_type": "stream",
     "text": [
      "-1\n"
     ]
    }
   ],
   "source": [
    "# Array: Rotated with the target not present\n",
    "sample_input = [15, 18, 2, 3, 6, 12]\n",
    "target_value = 7\n",
    "\n",
    "result = target_value_search(sample_input, target_value)\n",
    "print(result)  # Expected output: -1 (target value 7 is not present)\n"
   ]
  },
  {
   "cell_type": "code",
   "execution_count": 149,
   "id": "bd980ce3-1603-408d-b5d5-e0b877945056",
   "metadata": {},
   "outputs": [
    {
     "name": "stdout",
     "output_type": "stream",
     "text": [
      "4000\n"
     ]
    }
   ],
   "source": [
    "# Array: Large array with rotation\n",
    "sample_input = list(range(1000, 10000)) + list(range(0, 1000))\n",
    "target_value = 5000\n",
    "\n",
    "result = target_value_search(sample_input, target_value)\n",
    "print(result)  # Expected output: 4000 (index of target value 5000)\n"
   ]
  },
  {
   "cell_type": "code",
   "execution_count": 150,
   "id": "2063e7d8-c95a-40e9-b756-0ac232acc36d",
   "metadata": {},
   "outputs": [
    {
     "name": "stdout",
     "output_type": "stream",
     "text": [
      "0\n"
     ]
    }
   ],
   "source": [
    "# Array: Single element where the target is present\n",
    "sample_input = [3]\n",
    "target_value = 3\n",
    "\n",
    "result = target_value_search(sample_input, target_value)\n",
    "print(result)  # Expected output: 0 (index of target value 3)\n"
   ]
  },
  {
   "cell_type": "code",
   "execution_count": 151,
   "id": "344dde32-81f2-4f14-8061-8b80272c5b72",
   "metadata": {},
   "outputs": [
    {
     "name": "stdout",
     "output_type": "stream",
     "text": [
      "-1\n"
     ]
    }
   ],
   "source": [
    "# Array: Single element where the target is not present\n",
    "sample_input = [3]\n",
    "target_value = 1\n",
    "\n",
    "result = target_value_search(sample_input, target_value)\n",
    "print(result)  # Expected output: -1 (target value 1 is not present)\n"
   ]
  },
  {
   "cell_type": "code",
   "execution_count": 152,
   "id": "e777a625-7784-4282-b7a9-70592c6c0f1f",
   "metadata": {},
   "outputs": [
    {
     "name": "stdout",
     "output_type": "stream",
     "text": [
      "3\n"
     ]
    }
   ],
   "source": [
    "# Array: Sorted array that is not rotated\n",
    "sample_input = [1, 2, 3, 4, 5, 6, 7]\n",
    "target_value = 4\n",
    "\n",
    "result = target_value_search(sample_input, target_value)\n",
    "print(result)  # Expected output: 3 (index of target value 4)\n"
   ]
  },
  {
   "cell_type": "code",
   "execution_count": 153,
   "id": "1f45b4c2-9f1e-4213-a339-d83a2251cb17",
   "metadata": {},
   "outputs": [
    {
     "name": "stdout",
     "output_type": "stream",
     "text": [
      "7\n"
     ]
    }
   ],
   "source": [
    "# Array: Rotated with the target as the last element\n",
    "sample_input = [12, 14, 18, 21, 3, 5, 8, 10]\n",
    "target_value = 10\n",
    "\n",
    "result = target_value_search(sample_input, target_value)\n",
    "print(result)  # Expected output: 7 (index of target value 10)\n"
   ]
  },
  {
   "cell_type": "code",
   "execution_count": null,
   "id": "796a718b-f26f-494c-adc2-fa315aa98910",
   "metadata": {},
   "outputs": [],
   "source": []
  },
  {
   "cell_type": "code",
   "execution_count": null,
   "id": "6c847363-5aa4-4e9e-b044-d2762e6cb30b",
   "metadata": {},
   "outputs": [],
   "source": []
  },
  {
   "cell_type": "code",
   "execution_count": null,
   "id": "e0ee440c-6806-4466-be75-9519ebff369e",
   "metadata": {},
   "outputs": [],
   "source": []
  },
  {
   "cell_type": "code",
   "execution_count": null,
   "id": "f1a4022c-6f5c-49dc-adb9-6ecc4784e835",
   "metadata": {},
   "outputs": [],
   "source": []
  },
  {
   "cell_type": "code",
   "execution_count": null,
   "id": "a3246973-aea7-442a-86ed-4aefbd456b6c",
   "metadata": {},
   "outputs": [],
   "source": []
  },
  {
   "cell_type": "code",
   "execution_count": null,
   "id": "d4fdb127-3979-4aaf-a57c-efb9b2014854",
   "metadata": {},
   "outputs": [],
   "source": []
  },
  {
   "cell_type": "code",
   "execution_count": null,
   "id": "5f6a16c8-b73a-4529-ab4c-47a29fe0fe63",
   "metadata": {},
   "outputs": [],
   "source": []
  }
 ],
 "metadata": {
  "kernelspec": {
   "display_name": "Python 3 (ipykernel)",
   "language": "python",
   "name": "python3"
  },
  "language_info": {
   "codemirror_mode": {
    "name": "ipython",
    "version": 3
   },
   "file_extension": ".py",
   "mimetype": "text/x-python",
   "name": "python",
   "nbconvert_exporter": "python",
   "pygments_lexer": "ipython3",
   "version": "3.10.10"
  }
 },
 "nbformat": 4,
 "nbformat_minor": 5
}
